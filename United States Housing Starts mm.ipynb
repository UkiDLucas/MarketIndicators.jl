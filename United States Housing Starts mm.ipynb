{
 "cells": [
  {
   "cell_type": "markdown",
   "metadata": {},
   "source": [
    "# United States Housing Starts m/m\n",
    "\n",
    "Housing Starts m/m reflect changes in the number of new residential construction projects, which started in the reported month, compared to the previous month.\n",
    "\n",
    "Data for the indicator are obtained from a survey of developers and regulatory authorities. The sample size covers about 95% of all residential construction projects in the country. The data are adjusted for weather and season variations. The indicator is published in the second decade of each month, as part of the general national construction report. The report also includes construction permits and completed projects.\n",
    "\n",
    "The volume of new housing starts is rarely interpreted in absolute terms: construction is highly dependent on weather conditions, geographic location in the region, and time of the year. That is why analysts normally measure the indicator change for several months. During the indicator interpretation, economists pay attention to the following reference points.\n",
    "\n",
    "An increase in demand for new homes points to the growth of the population welfare.\n",
    "An increase in new housing constructions leads to an increase of employment in the construction industry.\n",
    "An increase in demand for new homes may lead to an increased demand for other products needed to new home buyers, such as new furniture, appliances, etc. This may spur consumer activity and affect price indices.\n",
    "The indicator growth may lead to an increase in the real estate market.\n",
    "Taking into account the above point, higher readings of housing starts may have a positive impact on the US dollar quotes.\n",
    "                        \n",
    "source:\n",
    "- https://www.mql5.com/en/economic-calendar/united-states/housing-starts-mm"
   ]
  },
  {
   "cell_type": "code",
   "execution_count": null,
   "metadata": {},
   "outputs": [],
   "source": []
  }
 ],
 "metadata": {
  "kernelspec": {
   "display_name": "Julia 1.5.0",
   "language": "julia",
   "name": "julia-1.5"
  },
  "language_info": {
   "file_extension": ".jl",
   "mimetype": "application/julia",
   "name": "julia",
   "version": "1.5.0"
  },
  "toc": {
   "base_numbering": 1,
   "nav_menu": {},
   "number_sections": true,
   "sideBar": true,
   "skip_h1_title": false,
   "title_cell": "Table of Contents",
   "title_sidebar": "Contents",
   "toc_cell": false,
   "toc_position": {},
   "toc_section_display": true,
   "toc_window_display": false
  }
 },
 "nbformat": 4,
 "nbformat_minor": 4
}
