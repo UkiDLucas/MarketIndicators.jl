{
 "cells": [
  {
   "cell_type": "markdown",
   "metadata": {},
   "source": [
    "# United States Housing Starts m/m\n",
    "\n",
    "Housing Starts m/m reflect changes in the number of new residential construction projects, which started in the reported month, compared to the previous month.\n",
    "\n",
    "Data for the indicator are obtained from a survey of developers and regulatory authorities. The sample size covers about 95% of all residential construction projects in the country. The data are adjusted for weather and season variations. The indicator is published in the second decade of each month, as part of the general national construction report. The report also includes construction permits and completed projects.\n",
    "\n",
    "The volume of new housing starts is rarely interpreted in absolute terms: construction is highly dependent on weather conditions, geographic location in the region, and time of the year. That is why analysts normally measure the indicator change for several months. During the indicator interpretation, economists pay attention to the following reference points.\n",
    "\n",
    "An increase in demand for new homes points to the growth of the population welfare.\n",
    "An increase in new housing constructions leads to an increase of employment in the construction industry.\n",
    "An increase in demand for new homes may lead to an increased demand for other products needed to new home buyers, such as new furniture, appliances, etc. This may spur consumer activity and affect price indices.\n",
    "The indicator growth may lead to an increase in the real estate market.\n",
    "Taking into account the above point, higher readings of housing starts may have a positive impact on the US dollar quotes.\n",
    "                        \n",
    "source:\n",
    "- https://www.mql5.com/en/economic-calendar/united-states/housing-starts-mm"
   ]
  },
  {
   "cell_type": "markdown",
   "metadata": {
    "toc": true
   },
   "source": [
    "<h1>Table of Contents<span class=\"tocSkip\"></span></h1>\n",
    "<div class=\"toc\"><ul class=\"toc-item\"><li><span><a href=\"#Set-Up\" data-toc-modified-id=\"Set-Up-1\"><span class=\"toc-item-num\">1&nbsp;&nbsp;</span>Set Up</a></span></li><li><span><a href=\"#Read-Data\" data-toc-modified-id=\"Read-Data-2\"><span class=\"toc-item-num\">2&nbsp;&nbsp;</span>Read Data</a></span></li></ul></div>"
   ]
  },
  {
   "cell_type": "markdown",
   "metadata": {},
   "source": [
    "## Set Up"
   ]
  },
  {
   "cell_type": "code",
   "execution_count": 6,
   "metadata": {},
   "outputs": [
    {
     "name": "stdout",
     "output_type": "stream",
     "text": [
      "\n",
      "\n",
      "\n"
     ]
    }
   ],
   "source": [
    "dataset_file_name = \"united-states.housing-starts-mm.csv\"\n",
    "path_data_original = \"./Data/original/\"\n",
    "date_original_format = \"yyyy-mm-dd\"\n",
    "original_value_column = 4\n",
    "last_position_change = \"2020.09.30\"\n",
    "\n",
    "include(\"MarketIndicators.jl\") \n",
    "println()"
   ]
  },
  {
   "cell_type": "markdown",
   "metadata": {},
   "source": [
    "## Read Data"
   ]
  },
  {
   "cell_type": "code",
   "execution_count": 7,
   "metadata": {},
   "outputs": [
    {
     "name": "stdout",
     "output_type": "stream",
     "text": [
      "./Data/original/united-states.housing-starts-mm.csv\n",
      "data dimentions: (58, 4)\n"
     ]
    },
    {
     "data": {
      "text/html": [
       "<table class=\"data-frame\"><thead><tr><th></th><th>variable</th><th>mean</th><th>min</th><th>median</th><th>max</th><th>nunique</th><th>nmissing</th><th>eltype</th></tr><tr><th></th><th>Symbol</th><th>Union…</th><th>Any</th><th>Union…</th><th>Any</th><th>Union…</th><th>Union…</th><th>Type</th></tr></thead><tbody><p>4 rows × 8 columns</p><tr><th>1</th><td>Date</td><td></td><td>2016.01.12</td><td></td><td>2020.10.20</td><td>58</td><td></td><td>String</td></tr><tr><th>2</th><td>ActualValue</td><td>0.181034</td><td>-30.2</td><td>-0.55</td><td>25.5</td><td></td><td></td><td>Float64</td></tr><tr><th>3</th><td>ForecastValue</td><td>6.77857</td><td>-30.7</td><td>1.35</td><td>245.5</td><td></td><td>16</td><td>Union{Missing, Float64}</td></tr><tr><th>4</th><td>PreviousValue</td><td>0.303509</td><td>-26.4</td><td>-0.4</td><td>27.4</td><td></td><td>1</td><td>Union{Missing, Float64}</td></tr></tbody></table>"
      ],
      "text/latex": [
       "\\begin{tabular}{r|cccccccc}\n",
       "\t& variable & mean & min & median & max & nunique & nmissing & eltype\\\\\n",
       "\t\\hline\n",
       "\t& Symbol & Union… & Any & Union… & Any & Union… & Union… & Type\\\\\n",
       "\t\\hline\n",
       "\t1 & Date &  & 2016.01.12 &  & 2020.10.20 & 58 &  & String \\\\\n",
       "\t2 & ActualValue & 0.181034 & -30.2 & -0.55 & 25.5 &  &  & Float64 \\\\\n",
       "\t3 & ForecastValue & 6.77857 & -30.7 & 1.35 & 245.5 &  & 16 & Union\\{Missing, Float64\\} \\\\\n",
       "\t4 & PreviousValue & 0.303509 & -26.4 & -0.4 & 27.4 &  & 1 & Union\\{Missing, Float64\\} \\\\\n",
       "\\end{tabular}\n"
      ],
      "text/plain": [
       "4×8 DataFrame. Omitted printing of 2 columns\n",
       "│ Row │ variable      │ mean     │ min        │ median │ max        │ nunique │\n",
       "│     │ \u001b[90mSymbol\u001b[39m        │ \u001b[90mUnion…\u001b[39m   │ \u001b[90mAny\u001b[39m        │ \u001b[90mUnion…\u001b[39m │ \u001b[90mAny\u001b[39m        │ \u001b[90mUnion…\u001b[39m  │\n",
       "├─────┼───────────────┼──────────┼────────────┼────────┼────────────┼─────────┤\n",
       "│ 1   │ Date          │          │ 2016.01.12 │        │ 2020.10.20 │ 58      │\n",
       "│ 2   │ ActualValue   │ 0.181034 │ -30.2      │ -0.55  │ 25.5       │         │\n",
       "│ 3   │ ForecastValue │ 6.77857  │ -30.7      │ 1.35   │ 245.5      │         │\n",
       "│ 4   │ PreviousValue │ 0.303509 │ -26.4      │ -0.4   │ 27.4       │         │"
      ]
     },
     "execution_count": 7,
     "metadata": {},
     "output_type": "execute_result"
    }
   ],
   "source": [
    "#data = available_datasets() # uncomment to see all available datasets\n",
    "\n",
    "df = fetch_dataset(dataset_file_name, date_original_format , path_data_original )\n",
    "record_count = size(df)[1]\n",
    "println(\"data dimentions: \", size(df) )\n",
    "\n",
    "using Statistics\n",
    "describe(df)"
   ]
  },
  {
   "cell_type": "code",
   "execution_count": null,
   "metadata": {},
   "outputs": [],
   "source": []
  },
  {
   "cell_type": "code",
   "execution_count": null,
   "metadata": {},
   "outputs": [],
   "source": []
  },
  {
   "cell_type": "code",
   "execution_count": null,
   "metadata": {},
   "outputs": [],
   "source": []
  }
 ],
 "metadata": {
  "kernelspec": {
   "display_name": "Julia 1.4.2",
   "language": "julia",
   "name": "julia-1.4"
  },
  "language_info": {
   "file_extension": ".jl",
   "mimetype": "application/julia",
   "name": "julia",
   "version": "1.4.2"
  },
  "toc": {
   "base_numbering": 1,
   "nav_menu": {},
   "number_sections": true,
   "sideBar": true,
   "skip_h1_title": true,
   "title_cell": "Table of Contents",
   "title_sidebar": "Contents",
   "toc_cell": true,
   "toc_position": {},
   "toc_section_display": true,
   "toc_window_display": true
  }
 },
 "nbformat": 4,
 "nbformat_minor": 4
}
