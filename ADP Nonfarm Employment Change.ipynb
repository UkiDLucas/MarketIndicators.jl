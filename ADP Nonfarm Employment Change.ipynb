{
 "cells": [
  {
   "cell_type": "markdown",
   "metadata": {},
   "source": [
    "# ADP Nonfarm Employment Change\n",
    "\n",
    "ADP Nonfarm Employment Change shows the monthly change of employment in the main sectors of the United States economy. The indicator does not take agriculture into account. The calculation includes data collected from about 406,000 private enterprises which employ up to 23 million people (about 20% of all employees of the US private sector).\n",
    "\n",
    "Unlike the methodology adopted by the Bureau of Labor Statistics in calculating the Nonfarm Payrolls, ADP takes into account payrolls by separate employees rather than the total number of payrolls for the month. This is due to the fact that one employee can be mentioned in several payrolls (receive bonuses and other payments), thus the report data can be inaccurate.\n",
    "\n",
    "Statistical outliers are excluded from the sample data.\n",
    "\n",
    "The report reflects the division into sectors and industries: it provides separate data for the production sector (mining, construction, manufacturing) and the service sector (trade, transport, IT, finance, professional and technical services, management and provider services, administrative and support services, education, health care, recreation, entertainment, etc.). The report also provides a snapshot of changes in small businesses (up to 50 employees), medium (50 – 499 employees) and large businesses (more than 500 employees).\n",
    "\n",
    "The indicator characterizes the US labor market state. It is published two days prior to the Bureau of Labor Statistics' report, so economists see it as a preview the official report.\n",
    "\n",
    "Growth of employment is a leading indicator of consumer spending growth. The Fed takes into account the state of the labor market in its interest rate decision. Therefore, indicator growth can be seen as positive for the US dollar.\n",
    "            \n",
    "            \n",
    "## Source\n",
    "- https://www.mql5.com/en/economic-calendar/united-states/adp-nonfarm-employment-change\n",
    "        "
   ]
  },
  {
   "cell_type": "code",
   "execution_count": null,
   "metadata": {},
   "outputs": [],
   "source": []
  }
 ],
 "metadata": {
  "kernelspec": {
   "display_name": "Julia 1.4.2",
   "language": "julia",
   "name": "julia-1.4"
  },
  "language_info": {
   "file_extension": ".jl",
   "mimetype": "application/julia",
   "name": "julia",
   "version": "1.4.2"
  }
 },
 "nbformat": 4,
 "nbformat_minor": 4
}
