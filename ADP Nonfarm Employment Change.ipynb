{
 "cells": [
  {
   "cell_type": "markdown",
   "metadata": {},
   "source": [
    "# ADP Nonfarm Employment Change\n",
    "\n",
    "by Uki D. Lucas\n",
    "\n",
    "last edited on September 1, 2020"
   ]
  },
  {
   "cell_type": "markdown",
   "metadata": {},
   "source": [
    "## Description\n",
    "\n",
    "ADP Nonfarm Employment Change shows the monthly change of employment in the main sectors of the United States economy. The indicator does not take agriculture into account. The calculation includes data collected from about 406,000 private enterprises which employ up to 23 million people (about 20% of all employees of the US private sector).\n",
    "\n",
    "Unlike the methodology adopted by the Bureau of Labor Statistics in calculating the Nonfarm Payrolls, ADP takes into account payrolls by separate employees rather than the total number of payrolls for the month. This is due to the fact that one employee can be mentioned in several payrolls (receive bonuses and other payments), thus the report data can be inaccurate.\n",
    "\n",
    "Statistical outliers are excluded from the sample data.\n",
    "\n",
    "The report reflects the division into sectors and industries: it provides separate data for the production sector (mining, construction, manufacturing) and the service sector (trade, transport, IT, finance, professional and technical services, management and provider services, administrative and support services, education, health care, recreation, entertainment, etc.). The report also provides a snapshot of changes in small businesses (up to 50 employees), medium (50 – 499 employees) and large businesses (more than 500 employees).\n",
    "\n",
    "The indicator characterizes the US labor market state. It is published two days prior to the Bureau of Labor Statistics' report, so economists see it as a preview the official report.\n",
    "\n",
    "Growth of employment is a leading indicator of consumer spending growth. The Fed takes into account the state of the labor market in its interest rate decision. Therefore, indicator growth can be seen as positive for the US dollar.\n",
    "            \n",
    "            \n",
    "Source:\n",
    "- https://www.mql5.com/en/economic-calendar/united-states/adp-nonfarm-employment-change"
   ]
  },
  {
   "cell_type": "markdown",
   "metadata": {},
   "source": [
    "# Read Data"
   ]
  },
  {
   "cell_type": "code",
   "execution_count": 6,
   "metadata": {},
   "outputs": [
    {
     "name": "stdout",
     "output_type": "stream",
     "text": [
      "5×4 DataFrame\n",
      "│ Row │ Date       │ ActualValue │ ForecastValue │ PreviousValue │\n",
      "│     │ \u001b[90mString\u001b[39m     │ \u001b[90mInt64\u001b[39m       │ \u001b[90mInt64?\u001b[39m        │ \u001b[90mInt64?\u001b[39m        │\n",
      "├─────┼────────────┼─────────────┼───────────────┼───────────────┤\n",
      "│ 1   │ 2020.08.05 │ 167         │ 2246          │ 4314          │\n",
      "│ 2   │ 2020.07.01 │ 2369        │ -12515        │ 3065          │\n",
      "│ 3   │ 2020.06.03 │ -2760       │ -9000         │ -19557        │\n",
      "│ 4   │ 2020.05.06 │ -20236      │ 167           │ -149          │\n",
      "│ 5   │ 2020.04.01 │ -27         │ 216           │ 179           │"
     ]
    }
   ],
   "source": [
    "using DataFrames, CSV, Dates, Plots\n",
    "\n",
    "file_name = \"data/united-states.adp-nonfarm-employment-change.csv\"\n",
    "original_date   = 1  #\n",
    "original_actual   = 2  #\n",
    "original_previous_value = 4  #\n",
    "\n",
    "df = CSV.read(file_name)\n",
    "\n",
    "# Show the values of the column with the original data\n",
    "show(df[1:5, # row to row\n",
    "        1:4] # column to column\n",
    "    , allcols=true) # do NOT limit number of columns if more than 6"
   ]
  },
  {
   "cell_type": "code",
   "execution_count": null,
   "metadata": {},
   "outputs": [],
   "source": []
  }
 ],
 "metadata": {
  "kernelspec": {
   "display_name": "Julia 1.4.2",
   "language": "julia",
   "name": "julia-1.4"
  },
  "language_info": {
   "file_extension": ".jl",
   "mimetype": "application/julia",
   "name": "julia",
   "version": "1.4.2"
  }
 },
 "nbformat": 4,
 "nbformat_minor": 4
}
