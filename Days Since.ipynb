{
 "cells": [
  {
   "cell_type": "markdown",
   "metadata": {},
   "source": [
    "# Days Since"
   ]
  },
  {
   "cell_type": "markdown",
   "metadata": {},
   "source": [
    "## Table of Contents\n",
    "- [Prepare DataFrame](#Prepare-DataFrame)\n",
    "    - [Read the CSV data from the file into the DataFrame](#Read-the-CSV-data-from-the-file-into-the-DataFrame)\n",
    "    - [Define given date format](#Define-given-date-format)\n",
    "    - [Count number of rows in the DataSet](#Count-number-of-rows-in-the-DataSet)"
   ]
  },
  {
   "cell_type": "markdown",
   "metadata": {},
   "source": [
    "# Prepare DataFrame\n",
    "\n",
    "## Read the CSV data from the file into the DataFrame"
   ]
  },
  {
   "cell_type": "code",
   "execution_count": 1,
   "metadata": {},
   "outputs": [
    {
     "name": "stderr",
     "output_type": "stream",
     "text": [
      "┌ Warning: `CSV.read(input; kw...)` is deprecated in favor of `using DataFrames; CSV.read(input, DataFrame; kw...)\n",
      "│   caller = read(::String) at CSV.jl:40\n",
      "└ @ CSV /Users/uki/.julia/packages/CSV/MKemC/src/CSV.jl:40\n"
     ]
    },
    {
     "name": "stdout",
     "output_type": "stream",
     "text": [
      "thread = 1 warning: only found 7 / 8 columns around data row: 1624. Filling remaining columns with `missing`\n"
     ]
    },
    {
     "data": {
      "text/html": [
       "<table class=\"data-frame\"><thead><tr><th></th><th>Day</th><th>Date</th><th>ISM Manufacturing Index</th><th>ISM Manufacturing</th><th>GDP Growth q/q % (Annualised)</th></tr><tr><th></th><th>Int64?</th><th>String</th><th>Float64?</th><th>Float64?</th><th>Float64?</th></tr></thead><tbody><p>1,623 rows × 8 columns (omitted printing of 3 columns)</p><tr><th>1</th><td>1</td><td>Mar 31, 1948</td><td>43.3</td><td>43.3</td><td>0.062</td></tr><tr><th>2</th><td>30</td><td>Apr 30, 1948</td><td>45.4</td><td>45.4</td><td><em>missing</em></td></tr><tr><th>3</th><td>60</td><td>May 31, 1948</td><td>49.5</td><td>49.5</td><td><em>missing</em></td></tr><tr><th>4</th><td>90</td><td>Jun 30, 1948</td><td>53.0</td><td>53.0</td><td>0.068</td></tr><tr><th>5</th><td><em>missing</em></td><td>Jul 31, 1948</td><td>48.4</td><td>48.4</td><td><em>missing</em></td></tr><tr><th>6</th><td><em>missing</em></td><td>Aug 31, 1948</td><td>45.1</td><td>45.1</td><td><em>missing</em></td></tr><tr><th>7</th><td><em>missing</em></td><td>Sep 30, 1948</td><td>42.1</td><td>42.1</td><td>0.023</td></tr><tr><th>8</th><td><em>missing</em></td><td>Oct 31, 1948</td><td>47.2</td><td>47.2</td><td><em>missing</em></td></tr><tr><th>9</th><td><em>missing</em></td><td>Nov 30, 1948</td><td>42.4</td><td>42.4</td><td><em>missing</em></td></tr><tr><th>10</th><td><em>missing</em></td><td>Dec 31, 1948</td><td>35.0</td><td>35.0</td><td>0.004</td></tr><tr><th>11</th><td><em>missing</em></td><td>Jan 31, 1949</td><td>32.9</td><td>32.9</td><td><em>missing</em></td></tr><tr><th>12</th><td><em>missing</em></td><td>Feb 28, 1949</td><td>31.3</td><td>31.3</td><td><em>missing</em></td></tr><tr><th>13</th><td><em>missing</em></td><td>Mar 31, 1949</td><td>34.5</td><td>34.5</td><td>-0.054</td></tr><tr><th>14</th><td><em>missing</em></td><td>Apr 30, 1949</td><td>35.5</td><td>35.5</td><td><em>missing</em></td></tr><tr><th>15</th><td><em>missing</em></td><td>May 31, 1949</td><td>32.6</td><td>32.6</td><td><em>missing</em></td></tr><tr><th>16</th><td><em>missing</em></td><td>Jun 30, 1949</td><td>31.6</td><td>31.6</td><td>-0.014</td></tr><tr><th>17</th><td><em>missing</em></td><td>Jul 31, 1949</td><td>39.0</td><td>39.0</td><td><em>missing</em></td></tr><tr><th>18</th><td><em>missing</em></td><td>Aug 31, 1949</td><td>47.0</td><td>47.0</td><td><em>missing</em></td></tr><tr><th>19</th><td><em>missing</em></td><td>Sep 30, 1949</td><td>52.3</td><td>52.3</td><td>0.042</td></tr><tr><th>20</th><td><em>missing</em></td><td>Oct 31, 1949</td><td>51.0</td><td>51.0</td><td><em>missing</em></td></tr><tr><th>21</th><td><em>missing</em></td><td>Nov 30, 1949</td><td>51.0</td><td>51.0</td><td><em>missing</em></td></tr><tr><th>22</th><td><em>missing</em></td><td>Dec 31, 1949</td><td>57.3</td><td>57.3</td><td>-0.033</td></tr><tr><th>23</th><td><em>missing</em></td><td>Jan 31, 1950</td><td>59.1</td><td>59.1</td><td><em>missing</em></td></tr><tr><th>24</th><td><em>missing</em></td><td>Feb 28, 1950</td><td>60.5</td><td>60.5</td><td><em>missing</em></td></tr><tr><th>25</th><td><em>missing</em></td><td>Mar 31, 1950</td><td>62.1</td><td>62.1</td><td>0.167</td></tr><tr><th>26</th><td><em>missing</em></td><td>Apr 30, 1950</td><td>68.1</td><td>68.1</td><td><em>missing</em></td></tr><tr><th>27</th><td><em>missing</em></td><td>May 31, 1950</td><td>74.7</td><td>74.7</td><td><em>missing</em></td></tr><tr><th>28</th><td><em>missing</em></td><td>Jun 30, 1950</td><td>76.6</td><td>76.6</td><td>0.128</td></tr><tr><th>29</th><td><em>missing</em></td><td>Jul 31, 1950</td><td>77.5</td><td>77.5</td><td><em>missing</em></td></tr><tr><th>30</th><td><em>missing</em></td><td>Aug 31, 1950</td><td>75.8</td><td>75.8</td><td><em>missing</em></td></tr><tr><th>&vellip;</th><td>&vellip;</td><td>&vellip;</td><td>&vellip;</td><td>&vellip;</td><td>&vellip;</td></tr></tbody></table>"
      ],
      "text/latex": [
       "\\begin{tabular}{r|cccccc}\n",
       "\t& Day & Date & ISM Manufacturing Index & ISM Manufacturing & GDP Growth q/q \\% (Annualised) & \\\\\n",
       "\t\\hline\n",
       "\t& Int64? & String & Float64? & Float64? & Float64? & \\\\\n",
       "\t\\hline\n",
       "\t1 & 1 & Mar 31, 1948 & 43.3 & 43.3 & 0.062 & $\\dots$ \\\\\n",
       "\t2 & 30 & Apr 30, 1948 & 45.4 & 45.4 & \\emph{missing} & $\\dots$ \\\\\n",
       "\t3 & 60 & May 31, 1948 & 49.5 & 49.5 & \\emph{missing} & $\\dots$ \\\\\n",
       "\t4 & 90 & Jun 30, 1948 & 53.0 & 53.0 & 0.068 & $\\dots$ \\\\\n",
       "\t5 & \\emph{missing} & Jul 31, 1948 & 48.4 & 48.4 & \\emph{missing} & $\\dots$ \\\\\n",
       "\t6 & \\emph{missing} & Aug 31, 1948 & 45.1 & 45.1 & \\emph{missing} & $\\dots$ \\\\\n",
       "\t7 & \\emph{missing} & Sep 30, 1948 & 42.1 & 42.1 & 0.023 & $\\dots$ \\\\\n",
       "\t8 & \\emph{missing} & Oct 31, 1948 & 47.2 & 47.2 & \\emph{missing} & $\\dots$ \\\\\n",
       "\t9 & \\emph{missing} & Nov 30, 1948 & 42.4 & 42.4 & \\emph{missing} & $\\dots$ \\\\\n",
       "\t10 & \\emph{missing} & Dec 31, 1948 & 35.0 & 35.0 & 0.004 & $\\dots$ \\\\\n",
       "\t11 & \\emph{missing} & Jan 31, 1949 & 32.9 & 32.9 & \\emph{missing} & $\\dots$ \\\\\n",
       "\t12 & \\emph{missing} & Feb 28, 1949 & 31.3 & 31.3 & \\emph{missing} & $\\dots$ \\\\\n",
       "\t13 & \\emph{missing} & Mar 31, 1949 & 34.5 & 34.5 & -0.054 & $\\dots$ \\\\\n",
       "\t14 & \\emph{missing} & Apr 30, 1949 & 35.5 & 35.5 & \\emph{missing} & $\\dots$ \\\\\n",
       "\t15 & \\emph{missing} & May 31, 1949 & 32.6 & 32.6 & \\emph{missing} & $\\dots$ \\\\\n",
       "\t16 & \\emph{missing} & Jun 30, 1949 & 31.6 & 31.6 & -0.014 & $\\dots$ \\\\\n",
       "\t17 & \\emph{missing} & Jul 31, 1949 & 39.0 & 39.0 & \\emph{missing} & $\\dots$ \\\\\n",
       "\t18 & \\emph{missing} & Aug 31, 1949 & 47.0 & 47.0 & \\emph{missing} & $\\dots$ \\\\\n",
       "\t19 & \\emph{missing} & Sep 30, 1949 & 52.3 & 52.3 & 0.042 & $\\dots$ \\\\\n",
       "\t20 & \\emph{missing} & Oct 31, 1949 & 51.0 & 51.0 & \\emph{missing} & $\\dots$ \\\\\n",
       "\t21 & \\emph{missing} & Nov 30, 1949 & 51.0 & 51.0 & \\emph{missing} & $\\dots$ \\\\\n",
       "\t22 & \\emph{missing} & Dec 31, 1949 & 57.3 & 57.3 & -0.033 & $\\dots$ \\\\\n",
       "\t23 & \\emph{missing} & Jan 31, 1950 & 59.1 & 59.1 & \\emph{missing} & $\\dots$ \\\\\n",
       "\t24 & \\emph{missing} & Feb 28, 1950 & 60.5 & 60.5 & \\emph{missing} & $\\dots$ \\\\\n",
       "\t25 & \\emph{missing} & Mar 31, 1950 & 62.1 & 62.1 & 0.167 & $\\dots$ \\\\\n",
       "\t26 & \\emph{missing} & Apr 30, 1950 & 68.1 & 68.1 & \\emph{missing} & $\\dots$ \\\\\n",
       "\t27 & \\emph{missing} & May 31, 1950 & 74.7 & 74.7 & \\emph{missing} & $\\dots$ \\\\\n",
       "\t28 & \\emph{missing} & Jun 30, 1950 & 76.6 & 76.6 & 0.128 & $\\dots$ \\\\\n",
       "\t29 & \\emph{missing} & Jul 31, 1950 & 77.5 & 77.5 & \\emph{missing} & $\\dots$ \\\\\n",
       "\t30 & \\emph{missing} & Aug 31, 1950 & 75.8 & 75.8 & \\emph{missing} & $\\dots$ \\\\\n",
       "\t$\\dots$ & $\\dots$ & $\\dots$ & $\\dots$ & $\\dots$ & $\\dots$ &  \\\\\n",
       "\\end{tabular}\n"
      ],
      "text/plain": [
       "1623×8 DataFrame. Omitted printing of 4 columns\n",
       "│ Row  │ Day     │ Date         │ ISM Manufacturing Index │ ISM Manufacturing │\n",
       "│      │ \u001b[90mInt64?\u001b[39m  │ \u001b[90mString\u001b[39m       │ \u001b[90mUnion{Missing, Float64}\u001b[39m │ \u001b[90mFloat64?\u001b[39m          │\n",
       "├──────┼─────────┼──────────────┼─────────────────────────┼───────────────────┤\n",
       "│ 1    │ 1       │ Mar 31, 1948 │ 43.3                    │ 43.3              │\n",
       "│ 2    │ 30      │ Apr 30, 1948 │ 45.4                    │ 45.4              │\n",
       "│ 3    │ 60      │ May 31, 1948 │ 49.5                    │ 49.5              │\n",
       "│ 4    │ 90      │ Jun 30, 1948 │ 53.0                    │ 53.0              │\n",
       "│ 5    │ \u001b[90mmissing\u001b[39m │ Jul 31, 1948 │ 48.4                    │ 48.4              │\n",
       "│ 6    │ \u001b[90mmissing\u001b[39m │ Aug 31, 1948 │ 45.1                    │ 45.1              │\n",
       "│ 7    │ \u001b[90mmissing\u001b[39m │ Sep 30, 1948 │ 42.1                    │ 42.1              │\n",
       "│ 8    │ \u001b[90mmissing\u001b[39m │ Oct 31, 1948 │ 47.2                    │ 47.2              │\n",
       "│ 9    │ \u001b[90mmissing\u001b[39m │ Nov 30, 1948 │ 42.4                    │ 42.4              │\n",
       "│ 10   │ \u001b[90mmissing\u001b[39m │ Dec 31, 1948 │ 35.0                    │ 35.0              │\n",
       "⋮\n",
       "│ 1613 │ \u001b[90mmissing\u001b[39m │ Oct 1, 2019  │ \u001b[90mmissing\u001b[39m                 │ 48.5              │\n",
       "│ 1614 │ \u001b[90mmissing\u001b[39m │ Oct 31, 2019 │ 48.5                    │ \u001b[90mmissing\u001b[39m           │\n",
       "│ 1615 │ \u001b[90mmissing\u001b[39m │ Nov 1, 2019  │ \u001b[90mmissing\u001b[39m                 │ 48.1              │\n",
       "│ 1616 │ \u001b[90mmissing\u001b[39m │ Nov 30, 2019 │ 48.1                    │ \u001b[90mmissing\u001b[39m           │\n",
       "│ 1617 │ \u001b[90mmissing\u001b[39m │ Dec 1, 2019  │ \u001b[90mmissing\u001b[39m                 │ 47.8              │\n",
       "│ 1618 │ \u001b[90mmissing\u001b[39m │ Dec 31, 2019 │ 47.8                    │ \u001b[90mmissing\u001b[39m           │\n",
       "│ 1619 │ \u001b[90mmissing\u001b[39m │ Jan 1, 2020  │ \u001b[90mmissing\u001b[39m                 │ 50.9              │\n",
       "│ 1620 │ \u001b[90mmissing\u001b[39m │ Jan 31, 2020 │ 50.9                    │ \u001b[90mmissing\u001b[39m           │\n",
       "│ 1621 │ \u001b[90mmissing\u001b[39m │ Feb 1, 2020  │ \u001b[90mmissing\u001b[39m                 │ 50.1              │\n",
       "│ 1622 │ \u001b[90mmissing\u001b[39m │ Feb 29, 2020 │ 50.1                    │ 50.1              │\n",
       "│ 1623 │ \u001b[90mmissing\u001b[39m │ Mar 31, 2020 │ 49.1                    │ 49.1              │"
      ]
     },
     "execution_count": 1,
     "metadata": {},
     "output_type": "execute_result"
    }
   ],
   "source": [
    "using DataFrames, CSV\n",
    "df = CSV.read(\"market_indicators.csv\")"
   ]
  },
  {
   "cell_type": "markdown",
   "metadata": {},
   "source": [
    "# Define given date format"
   ]
  },
  {
   "cell_type": "code",
   "execution_count": 4,
   "metadata": {},
   "outputs": [
    {
     "data": {
      "text/plain": [
       "\"u d, y\""
      ]
     },
     "execution_count": 4,
     "metadata": {},
     "output_type": "execute_result"
    }
   ],
   "source": [
    "date_format = \"u d, y\" # e.g. Aug 31, 1950"
   ]
  },
  {
   "cell_type": "markdown",
   "metadata": {},
   "source": [
    "# Determine day one"
   ]
  },
  {
   "cell_type": "code",
   "execution_count": 5,
   "metadata": {},
   "outputs": [
    {
     "name": "stdout",
     "output_type": "stream",
     "text": [
      "Mar 31, 1948 is the day one with value 711217\n"
     ]
    }
   ],
   "source": [
    "using Dates\n",
    "\n",
    "function get_day_one(array_data, column_dates, date_format) \n",
    "    value = array_data[1, column_dates]\n",
    "\n",
    "    day_one = Dates.datetime2rata(DateTime(value, date_format)) # using Dates\n",
    "    println(value, \" is the day one with value \", day_one)\n",
    "end\n",
    "day_one = get_day_one(df, 2, date_format)"
   ]
  },
  {
   "cell_type": "markdown",
   "metadata": {},
   "source": [
    "## Count number of rows in the DataSet"
   ]
  },
  {
   "cell_type": "code",
   "execution_count": 6,
   "metadata": {},
   "outputs": [
    {
     "data": {
      "text/plain": [
       "1623"
      ]
     },
     "execution_count": 6,
     "metadata": {},
     "output_type": "execute_result"
    }
   ],
   "source": [
    "rows = size(df)[1]"
   ]
  },
  {
   "cell_type": "code",
   "execution_count": 8,
   "metadata": {},
   "outputs": [
    {
     "ename": "MethodError",
     "evalue": "MethodError: objects of type Nothing are not callable",
     "output_type": "error",
     "traceback": [
      "MethodError: objects of type Nothing are not callable",
      "",
      "Stacktrace:",
      " [1] days_since_day_one(::DataFrame, ::Int64, ::Int64) at ./In[8]:5",
      " [2] top-level scope at In[8]:7"
     ]
    }
   ],
   "source": [
    "column_dates = 2\n",
    "\n",
    "function days_since_day_one(array_data, row, column_dates) \n",
    "    value = array_data[row, column_dates]\n",
    "    Dates.datetime2rata(Date(value, date_format)) - day_one(array_data) \n",
    "end\n",
    "\n",
    "# TEST function\n",
    "days_since_day_one(df, 1, column_dates) "
   ]
  },
  {
   "cell_type": "code",
   "execution_count": null,
   "metadata": {},
   "outputs": [],
   "source": []
  },
  {
   "cell_type": "code",
   "execution_count": null,
   "metadata": {},
   "outputs": [],
   "source": [
    "column_days = 1\n",
    "column_days = 1\n",
    "\n",
    "for row = 1:rows\n",
    "    array_data[row, column_days] = days_since_day_one(array_data, row, column_dates) \n",
    "end\n",
    "array_data"
   ]
  },
  {
   "cell_type": "code",
   "execution_count": null,
   "metadata": {},
   "outputs": [],
   "source": []
  }
 ],
 "metadata": {
  "kernelspec": {
   "display_name": "Julia 1.4.2",
   "language": "julia",
   "name": "julia-1.4"
  },
  "language_info": {
   "file_extension": ".jl",
   "mimetype": "application/julia",
   "name": "julia",
   "version": "1.4.2"
  }
 },
 "nbformat": 4,
 "nbformat_minor": 4
}
