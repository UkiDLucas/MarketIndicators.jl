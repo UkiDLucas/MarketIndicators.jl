{
 "cells": [
  {
   "cell_type": "markdown",
   "metadata": {},
   "source": [
    "# Fetch Web Data"
   ]
  },
  {
   "cell_type": "code",
   "execution_count": 1,
   "metadata": {},
   "outputs": [
    {
     "data": {
      "text/plain": [
       "\"D:\\\\Drive\\\\market_indicators_data\\\\original\\\\\""
      ]
     },
     "execution_count": 1,
     "metadata": {},
     "output_type": "execute_result"
    }
   ],
   "source": [
    "# Directory where I store original data (copied form the Web, etc.)\n",
    "original_data_directory = \"D:\\\\Drive\\\\market_indicators_data\\\\original\\\\\""
   ]
  },
  {
   "cell_type": "code",
   "execution_count": 2,
   "metadata": {},
   "outputs": [
    {
     "name": "stdout",
     "output_type": "stream",
     "text": [
      "\n"
     ]
    }
   ],
   "source": [
    "show_help = false\n",
    "include(\"MarketIndicators.jl\")"
   ]
  },
  {
   "cell_type": "code",
   "execution_count": 3,
   "metadata": {},
   "outputs": [
    {
     "data": {
      "text/html": [
       "<table class=\"data-frame\"><thead><tr><th></th><th>Indicator Name</th><th>URL</th></tr><tr><th></th><th>String</th><th>String</th></tr></thead><tbody><p>25 rows × 2 columns</p><tr><th>1</th><td>Federal Reserve System (Fed) Industrial Production m/m</td><td>https://www.mql5.com/en/economic-calendar/united-states/industrial-production-mm/export</td></tr><tr><th>2</th><td>ADP Nonfarm Employment Change</td><td>https://query1.finance.yahoo.com/v7/finance/download/NVDA?period1=916963200&amp;period2=1600128000&amp;interval=1d&amp;events=history</td></tr><tr><th>3</th><td>American Funds EuroPacific Growth Fund Class R-6 (RERGX)</td><td>https://query1.finance.yahoo.com/v7/finance/download/RERGX?period1=1241136000&amp;period2=1600300800&amp;interval=1d&amp;events=history</td></tr><tr><th>4</th><td>Apple Inc. (AAPL)</td><td>https://query1.finance.yahoo.com/v7/finance/download/AAPL?period1=345427200&amp;period2=1600300800&amp;interval=1d&amp;events=history</td></tr><tr><th>5</th><td>Dow Jones Industrial Average (^DJI)</td><td>https://query1.finance.yahoo.com/v7/finance/download/%5EDJI?period1=475804800&amp;period2=1601251200&amp;interval=1d&amp;events=history</td></tr><tr><th>6</th><td>Federal Reserve Bank (Fed) of Dallas Manufacturing Index</td><td>https://www.mql5.com/en/economic-calendar/united-states/dallas-fed-manufacturing-business-index/export</td></tr><tr><th>7</th><td>Federal Reserve System (Fed) Industrial Production m/m</td><td>https://www.mql5.com/en/economic-calendar/united-states/industrial-production-mm/export</td></tr><tr><th>8</th><td>Gold Dec 20 (GC=F)</td><td>https://query1.finance.yahoo.com/v7/finance/download/GC=F?period1=967593600&amp;period2=1600300800&amp;interval=1d&amp;events=history</td></tr><tr><th>9</th><td>ISM Manufacturing Employment</td><td>https://www.mql5.com/en/economic-calendar/united-states/ism-manufacturing-employment/export</td></tr><tr><th>10</th><td>ISM United States Manufacturing Purchasing Managers Index (PMI)</td><td>https://www.mql5.com/en/economic-calendar/united-states/ism-manufacturing-pmi/export</td></tr><tr><th>11</th><td>Neuberger Berman Mid Cap Growth Fund Class R6 (NRMGX)</td><td>https://query1.finance.yahoo.com/v7/finance/download/NRMGX?period1=1363305600&amp;period2=1600300800&amp;interval=1d&amp;events=history</td></tr><tr><th>12</th><td>NVIDIA Corporation (NVDA)</td><td>https://query1.finance.yahoo.com/v7/finance/download/NVDA?period1=916963200&amp;period2=1600128000&amp;interval=1d&amp;events=history</td></tr><tr><th>13</th><td>S&amp;P 500 (^GSPC)</td><td>https://query1.finance.yahoo.com/v7/finance/download/%5EGSPC?period1=-1325635200&amp;period2=1600300800&amp;interval=1d&amp;events=history</td></tr><tr><th>14</th><td>T. Rowe Price Institutional Large Cap Core Growth Fund (TPLGX)</td><td>https://query1.finance.yahoo.com/v7/finance/download/TPLGX?period1=1568730349&amp;period2=1600352749&amp;interval=1d&amp;events=history</td></tr><tr><th>15</th><td>Tesla, Inc. (TSLA)</td><td>https://query1.finance.yahoo.com/v7/finance/download/TSLA?period1=1277769600&amp;period2=1600300800&amp;interval=1d&amp;events=history</td></tr><tr><th>16</th><td>The Home Depot, Inc. (HD)</td><td>https://query1.finance.yahoo.com/v7/finance/download/HD?period1=369964800&amp;period2=1600300800&amp;interval=1d&amp;events=history</td></tr><tr><th>17</th><td>United States Building Permits</td><td>https://www.mql5.com/en/economic-calendar/united-states/building-permits/export</td></tr><tr><th>18</th><td>United States Gross Domestic Product (GDP) q/q</td><td>https://www.mql5.com/en/economic-calendar/united-states/gross-domestic-product-qq/export</td></tr><tr><th>19</th><td>United States Housing Starts m/m</td><td>https://www.mql5.com/en/economic-calendar/united-states/housing-starts-mm/export</td></tr><tr><th>20</th><td>Vanguard Institutional Index Fund Institutional Shares (VINIX)</td><td>https://query1.finance.yahoo.com/v7/finance/download/VINIX?period1=649382400&amp;period2=1600300800&amp;interval=1d&amp;events=history</td></tr><tr><th>21</th><td>Treasury Yield 10 Years (^TNX)</td><td>https://query1.finance.yahoo.com/v7/finance/download/%5ETNX?period1=-252374400&amp;period2=1600300800&amp;interval=1d&amp;events=history</td></tr><tr><th>22</th><td>United States Unemployment Rate</td><td>https://www.mql5.com/en/economic-calendar/united-states/unemployment-rate/export</td></tr><tr><th>23</th><td>United States Initial Jobless Claims</td><td>https://www.mql5.com/en/economic-calendar/united-states/initial-jobless-claims/export</td></tr><tr><th>24</th><td>Vanguard Total Bond Market Index Fund Admiral Shares (VBTLX)</td><td>https://query1.finance.yahoo.com/v7/finance/download/VBTLX?period1=1005523200&amp;period2=1601337600&amp;interval=1d&amp;events=history</td></tr><tr><th>25</th><td>CBOE Volatility Index (^VIX)</td><td>https://query1.finance.yahoo.com/v7/finance/download/%5EVIX?period1=631238400&amp;period2=1601424000&amp;interval=1d&amp;events=history</td></tr></tbody></table>"
      ],
      "text/latex": [
       "\\begin{tabular}{r|cc}\n",
       "\t& Indicator Name & URL\\\\\n",
       "\t\\hline\n",
       "\t& String & String\\\\\n",
       "\t\\hline\n",
       "\t1 & Federal Reserve System (Fed) Industrial Production m/m & https://www.mql5.com/en/economic-calendar/united-states/industrial-production-mm/export \\\\\n",
       "\t2 & ADP Nonfarm Employment Change & https://query1.finance.yahoo.com/v7/finance/download/NVDA?period1=916963200\\&period2=1600128000\\&interval=1d\\&events=history \\\\\n",
       "\t3 & American Funds EuroPacific Growth Fund Class R-6 (RERGX) & https://query1.finance.yahoo.com/v7/finance/download/RERGX?period1=1241136000\\&period2=1600300800\\&interval=1d\\&events=history \\\\\n",
       "\t4 & Apple Inc. (AAPL) & https://query1.finance.yahoo.com/v7/finance/download/AAPL?period1=345427200\\&period2=1600300800\\&interval=1d\\&events=history \\\\\n",
       "\t5 & Dow Jones Industrial Average (\\^DJI) & https://query1.finance.yahoo.com/v7/finance/download/\\%5EDJI?period1=475804800\\&period2=1601251200\\&interval=1d\\&events=history \\\\\n",
       "\t6 & Federal Reserve Bank (Fed) of Dallas Manufacturing Index & https://www.mql5.com/en/economic-calendar/united-states/dallas-fed-manufacturing-business-index/export \\\\\n",
       "\t7 & Federal Reserve System (Fed) Industrial Production m/m & https://www.mql5.com/en/economic-calendar/united-states/industrial-production-mm/export \\\\\n",
       "\t8 & Gold Dec 20 (GC=F) & https://query1.finance.yahoo.com/v7/finance/download/GC=F?period1=967593600\\&period2=1600300800\\&interval=1d\\&events=history \\\\\n",
       "\t9 & ISM Manufacturing Employment & https://www.mql5.com/en/economic-calendar/united-states/ism-manufacturing-employment/export \\\\\n",
       "\t10 & ISM United States Manufacturing Purchasing Managers Index (PMI) & https://www.mql5.com/en/economic-calendar/united-states/ism-manufacturing-pmi/export \\\\\n",
       "\t11 & Neuberger Berman Mid Cap Growth Fund Class R6 (NRMGX) & https://query1.finance.yahoo.com/v7/finance/download/NRMGX?period1=1363305600\\&period2=1600300800\\&interval=1d\\&events=history \\\\\n",
       "\t12 & NVIDIA Corporation (NVDA) & https://query1.finance.yahoo.com/v7/finance/download/NVDA?period1=916963200\\&period2=1600128000\\&interval=1d\\&events=history \\\\\n",
       "\t13 & S\\&P 500 (\\^GSPC) & https://query1.finance.yahoo.com/v7/finance/download/\\%5EGSPC?period1=-1325635200\\&period2=1600300800\\&interval=1d\\&events=history \\\\\n",
       "\t14 & T. Rowe Price Institutional Large Cap Core Growth Fund (TPLGX) & https://query1.finance.yahoo.com/v7/finance/download/TPLGX?period1=1568730349\\&period2=1600352749\\&interval=1d\\&events=history \\\\\n",
       "\t15 & Tesla, Inc. (TSLA) & https://query1.finance.yahoo.com/v7/finance/download/TSLA?period1=1277769600\\&period2=1600300800\\&interval=1d\\&events=history \\\\\n",
       "\t16 & The Home Depot, Inc. (HD) & https://query1.finance.yahoo.com/v7/finance/download/HD?period1=369964800\\&period2=1600300800\\&interval=1d\\&events=history \\\\\n",
       "\t17 & United States Building Permits & https://www.mql5.com/en/economic-calendar/united-states/building-permits/export \\\\\n",
       "\t18 & United States Gross Domestic Product (GDP) q/q & https://www.mql5.com/en/economic-calendar/united-states/gross-domestic-product-qq/export \\\\\n",
       "\t19 & United States Housing Starts m/m & https://www.mql5.com/en/economic-calendar/united-states/housing-starts-mm/export \\\\\n",
       "\t20 & Vanguard Institutional Index Fund Institutional Shares (VINIX) & https://query1.finance.yahoo.com/v7/finance/download/VINIX?period1=649382400\\&period2=1600300800\\&interval=1d\\&events=history \\\\\n",
       "\t21 & Treasury Yield 10 Years (\\^TNX) & https://query1.finance.yahoo.com/v7/finance/download/\\%5ETNX?period1=-252374400\\&period2=1600300800\\&interval=1d\\&events=history \\\\\n",
       "\t22 & United States Unemployment Rate & https://www.mql5.com/en/economic-calendar/united-states/unemployment-rate/export \\\\\n",
       "\t23 & United States Initial Jobless Claims & https://www.mql5.com/en/economic-calendar/united-states/initial-jobless-claims/export \\\\\n",
       "\t24 & Vanguard Total Bond Market Index Fund Admiral Shares (VBTLX) & https://query1.finance.yahoo.com/v7/finance/download/VBTLX?period1=1005523200\\&period2=1601337600\\&interval=1d\\&events=history \\\\\n",
       "\t25 & CBOE Volatility Index (\\^VIX) & https://query1.finance.yahoo.com/v7/finance/download/\\%5EVIX?period1=631238400\\&period2=1601424000\\&interval=1d\\&events=history \\\\\n",
       "\\end{tabular}\n"
      ],
      "text/plain": [
       "25×2 DataFrame. Omitted printing of 1 columns\n",
       "│ Row │ Indicator Name                                                  │\n",
       "│     │ \u001b[90mString\u001b[39m                                                          │\n",
       "├─────┼─────────────────────────────────────────────────────────────────┤\n",
       "│ 1   │ Federal Reserve System (Fed) Industrial Production m/m          │\n",
       "│ 2   │ ADP Nonfarm Employment Change                                   │\n",
       "│ 3   │ American Funds EuroPacific Growth Fund Class R-6 (RERGX)        │\n",
       "│ 4   │ Apple Inc. (AAPL)                                               │\n",
       "│ 5   │ Dow Jones Industrial Average (^DJI)                             │\n",
       "│ 6   │ Federal Reserve Bank (Fed) of Dallas Manufacturing Index        │\n",
       "│ 7   │ Federal Reserve System (Fed) Industrial Production m/m          │\n",
       "│ 8   │ Gold Dec 20 (GC=F)                                              │\n",
       "│ 9   │ ISM Manufacturing Employment                                    │\n",
       "│ 10  │ ISM United States Manufacturing Purchasing Managers Index (PMI) │\n",
       "⋮\n",
       "│ 15  │ Tesla, Inc. (TSLA)                                              │\n",
       "│ 16  │ The Home Depot, Inc. (HD)                                       │\n",
       "│ 17  │ United States Building Permits                                  │\n",
       "│ 18  │ United States Gross Domestic Product (GDP) q/q                  │\n",
       "│ 19  │ United States Housing Starts m/m                                │\n",
       "│ 20  │ Vanguard Institutional Index Fund Institutional Shares (VINIX)  │\n",
       "│ 21  │ Treasury Yield 10 Years (^TNX)                                  │\n",
       "│ 22  │ United States Unemployment Rate                                 │\n",
       "│ 23  │ United States Initial Jobless Claims                            │\n",
       "│ 24  │ Vanguard Total Bond Market Index Fund Admiral Shares (VBTLX)    │\n",
       "│ 25  │ CBOE Volatility Index (^VIX)                                    │"
      ]
     },
     "execution_count": 3,
     "metadata": {},
     "output_type": "execute_result"
    }
   ],
   "source": [
    "using CSV, DataFrames\n",
    "file_path = \"_DataSets.csv\"\n",
    "date_format=\"mm/dd/yyyy\" # 9/14/2020\n",
    "df = CSV.read( file_path, dateformat=\"$date_format\" )\n",
    "df[:, [1,3] ]"
   ]
  },
  {
   "cell_type": "code",
   "execution_count": 4,
   "metadata": {},
   "outputs": [
    {
     "data": {
      "text/plain": [
       "3-element Array{String,1}:\n",
       " \"Indicator Name\"\n",
       " \"file_path\"\n",
       " \"URL\""
      ]
     },
     "execution_count": 4,
     "metadata": {},
     "output_type": "execute_result"
    }
   ],
   "source": [
    "names(df)"
   ]
  },
  {
   "cell_type": "markdown",
   "metadata": {},
   "source": [
    "# Download all from the Web"
   ]
  },
  {
   "cell_type": "code",
   "execution_count": 5,
   "metadata": {},
   "outputs": [
    {
     "name": "stdout",
     "output_type": "stream",
     "text": [
      "============== 2020-09-30T13:15:26.434 ==============\n",
      "- downloaded: Federal Reserve System (Fed) Industrial Production m/m\n",
      "- downloaded: ADP Nonfarm Employment Change\n",
      "- downloaded: American Funds EuroPacific Growth Fund Class R-6 (RERGX)\n",
      "- downloaded: Apple Inc. (AAPL)\n",
      "- downloaded: Dow Jones Industrial Average (^DJI)\n",
      "- downloaded: Federal Reserve Bank (Fed) of Dallas Manufacturing Index\n",
      "- downloaded: Federal Reserve System (Fed) Industrial Production m/m\n",
      "- downloaded: Gold Dec 20 (GC=F)\n",
      "- downloaded: ISM Manufacturing Employment\n",
      "- downloaded: ISM United States Manufacturing Purchasing Managers Index (PMI)\n",
      "- downloaded: Neuberger Berman Mid Cap Growth Fund Class R6 (NRMGX)\n",
      "- downloaded: NVIDIA Corporation (NVDA)\n",
      "- downloaded: S&P 500 (^GSPC)\n",
      "- downloaded: T. Rowe Price Institutional Large Cap Core Growth Fund (TPLGX)\n",
      "- downloaded: Tesla, Inc. (TSLA)\n",
      "- downloaded: The Home Depot, Inc. (HD)\n",
      "- downloaded: United States Building Permits\n",
      "- downloaded: United States Gross Domestic Product (GDP) q/q\n",
      "- downloaded: United States Housing Starts m/m\n",
      "- downloaded: Vanguard Institutional Index Fund Institutional Shares (VINIX)\n",
      "- downloaded: Treasury Yield 10 Years (^TNX)\n",
      "- downloaded: United States Unemployment Rate\n",
      "- downloaded: United States Initial Jobless Claims\n",
      "- downloaded: Vanguard Total Bond Market Index Fund Admiral Shares (VBTLX)\n",
      "- downloaded: CBOE Volatility Index (^VIX)\n",
      "going to sleep for 12.0 hours\n"
     ]
    },
    {
     "ename": "LoadError",
     "evalue": "InterruptException:",
     "output_type": "error",
     "traceback": [
      "InterruptException:",
      "",
      "Stacktrace:",
      " [1] try_yieldto(::typeof(Base.ensure_rescheduled)) at .\\task.jl:656",
      " [2] wait at .\\task.jl:713 [inlined]",
      " [3] wait(::Base.GenericCondition{Base.Threads.SpinLock}) at .\\condition.jl:106",
      " [4] _trywait(::Timer) at .\\asyncevent.jl:110",
      " [5] wait at .\\asyncevent.jl:128 [inlined]",
      " [6] sleep at .\\asyncevent.jl:213 [inlined]",
      " [7] top-level scope at .\\In[5]:19",
      " [8] include_string(::Function, ::Module, ::String, ::String) at .\\loading.jl:1091"
     ]
    }
   ],
   "source": [
    "row_count = size(df)[1]\n",
    "\n",
    "while true\n",
    "    println(\"============== \", Dates.DateTime(Dates.now() ), \" ==============\")\n",
    "    \n",
    "    for row in 1:row_count\n",
    "        indicatior_name  = df[row, 1]\n",
    "        file_path        = df[row, 2]\n",
    "        url              = df[row, 3]\n",
    "        download( url , string(original_data_directory * file_path ) )\n",
    "        println( \"- downloaded: \", indicatior_name ) \n",
    "        r_array = (rand(1)*9).+1  # 1.0.. to 9.9.. seconds\n",
    "        r = r_array[1]\n",
    "        sleep(r)            # to prevent being blocked\n",
    "    end\n",
    "    \n",
    "    nap_time = 60*60*12 # seconds * minutes * hours\n",
    "    println(\"going to sleep for \", nap_time/(60*60), \" hours\" )\n",
    "    sleep(nap_time) \n",
    "end"
   ]
  },
  {
   "cell_type": "code",
   "execution_count": null,
   "metadata": {},
   "outputs": [],
   "source": []
  }
 ],
 "metadata": {
  "kernelspec": {
   "display_name": "Julia 1.5.0",
   "language": "julia",
   "name": "julia-1.5"
  },
  "language_info": {
   "file_extension": ".jl",
   "mimetype": "application/julia",
   "name": "julia",
   "version": "1.5.0"
  },
  "toc": {
   "base_numbering": 1,
   "nav_menu": {},
   "number_sections": true,
   "sideBar": true,
   "skip_h1_title": false,
   "title_cell": "Table of Contents",
   "title_sidebar": "Contents",
   "toc_cell": false,
   "toc_position": {},
   "toc_section_display": true,
   "toc_window_display": true
  }
 },
 "nbformat": 4,
 "nbformat_minor": 4
}
