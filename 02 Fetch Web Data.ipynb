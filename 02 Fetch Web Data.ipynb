{
 "cells": [
  {
   "cell_type": "markdown",
   "metadata": {},
   "source": [
    "# Fetch Web Data"
   ]
  },
  {
   "cell_type": "markdown",
   "metadata": {},
   "source": [
    "## Set up"
   ]
  },
  {
   "cell_type": "code",
   "execution_count": 1,
   "metadata": {},
   "outputs": [
    {
     "data": {
      "text/plain": [
       "\"DATA/original/\""
      ]
     },
     "execution_count": 1,
     "metadata": {},
     "output_type": "execute_result"
    }
   ],
   "source": [
    "# Directory where I store original data (copied form the Web, etc.)\n",
    "# original_data_directory = \"DATA\\\\original\\\\\" # Windows 10\n",
    "original_data_directory = \"DATA/original/\" # MacOS"
   ]
  },
  {
   "cell_type": "code",
   "execution_count": 2,
   "metadata": {},
   "outputs": [
    {
     "name": "stdout",
     "output_type": "stream",
     "text": [
      "\n"
     ]
    },
    {
     "data": {
      "text/plain": [
       "update_yahoo_finance (generic function with 2 methods)"
      ]
     },
     "execution_count": 2,
     "metadata": {},
     "output_type": "execute_result"
    }
   ],
   "source": [
    "include(\"MarketIndicators.jl\")"
   ]
  },
  {
   "cell_type": "markdown",
   "metadata": {},
   "source": [
    "## Show Available DataSets"
   ]
  },
  {
   "cell_type": "code",
   "execution_count": 3,
   "metadata": {},
   "outputs": [
    {
     "name": "stdout",
     "output_type": "stream",
     "text": [
      "thread = 1 warning: only found 3 / 4 columns on data row: 30. Filling remaining columns with `missing`\n"
     ]
    },
    {
     "data": {
      "text/html": [
       "<table class=\"data-frame\"><thead><tr><th></th><th>Indicator Name</th><th>URL</th></tr><tr><th></th><th>String</th><th>String</th></tr></thead><tbody><p>30 rows × 2 columns</p><tr><th>1</th><td>ADP Nonfarm Employment Change</td><td>https://query1.finance.yahoo.com/v7/finance/download/NVDA?period1=916963200&amp;period2=1602028800&amp;interval=1d&amp;events=history</td></tr><tr><th>2</th><td>Alibaba Group Holding Limited (BABA)</td><td>https://query1.finance.yahoo.com/v7/finance/download/BABA?period1=1411084800&amp;period2=1602633600&amp;interval=1d&amp;events=history&amp;includeAdjustedClose=true</td></tr><tr><th>3</th><td>American Funds EuroPacific Growth Fund Class R-6 (RERGX)</td><td>https://query1.finance.yahoo.com/v7/finance/download/RERGX?period1=1241136000&amp;period2=1602028800&amp;interval=1d&amp;events=history</td></tr><tr><th>4</th><td>Apple Inc. (AAPL)</td><td>https://query1.finance.yahoo.com/v7/finance/download/AAPL?period1=345427200&amp;period2=1602028800&amp;interval=1d&amp;events=history</td></tr><tr><th>5</th><td>Bitcoin USD (BTC-USD)</td><td>https://query1.finance.yahoo.com/v7/finance/download/BTC-USD?period1=1410825600&amp;period2=1602633600&amp;interval=1d&amp;events=history&amp;includeAdjustedClose=true</td></tr><tr><th>6</th><td>CBOE Volatility Index (^VIX)</td><td>https://query1.finance.yahoo.com/v7/finance/download/%5EVIX?period1=631238400&amp;period2=1602028800&amp;interval=1d&amp;events=history</td></tr><tr><th>7</th><td>Daily total sunspot number (http://www.sidc.be/)</td><td>http://www.sidc.be/silso/INFO/sndtotcsv.php</td></tr><tr><th>8</th><td>Dow Jones Industrial Average (^DJI)</td><td>https://query1.finance.yahoo.com/v7/finance/download/%5EDJI?period1=475804800&amp;period2=1602028800&amp;interval=1d&amp;events=history&amp;includeAdjustedClose=true</td></tr><tr><th>9</th><td>Federal Reserve Bank (Fed) of Dallas Manufacturing Index</td><td>https://www.mql5.com/en/economic-calendar/united-states/dallas-fed-manufacturing-business-index/export</td></tr><tr><th>10</th><td>Federal Reserve System (Fed) Industrial Production m/m</td><td>https://www.mql5.com/en/economic-calendar/united-states/industrial-production-mm/export</td></tr><tr><th>11</th><td>Federal Reserve System (Fed) Industrial Production m/m</td><td>https://www.mql5.com/en/economic-calendar/united-states/industrial-production-mm/export</td></tr><tr><th>12</th><td>Gold Dec 20 (GC=F)</td><td>https://query1.finance.yahoo.com/v7/finance/download/GC=F?period1=967593600&amp;period2=1602028800&amp;interval=1d&amp;events=history</td></tr><tr><th>13</th><td>ISM Manufacturing Employment</td><td>https://www.mql5.com/en/economic-calendar/united-states/ism-manufacturing-employment/export</td></tr><tr><th>14</th><td>ISM United States Manufacturing Purchasing Managers Index (PMI)</td><td>https://www.mql5.com/en/economic-calendar/united-states/ism-manufacturing-pmi/export</td></tr><tr><th>15</th><td>Neuberger Berman Mid Cap Growth Fund Class R6 (NRMGX)</td><td>https://query1.finance.yahoo.com/v7/finance/download/NRMGX?period1=1363305600&amp;period2=1602028800&amp;interval=1d&amp;events=history</td></tr><tr><th>16</th><td>NIO Limited (NIO)</td><td>https://query1.finance.yahoo.com/v7/finance/download/NIO?period1=1536710400&amp;period2=1602633600&amp;interval=1d&amp;events=history&amp;includeAdjustedClose=true</td></tr><tr><th>17</th><td>NVIDIA Corporation (NVDA)</td><td>https://query1.finance.yahoo.com/v7/finance/download/NVDA?period1=916963200&amp;period2=1602028800&amp;interval=1d&amp;events=history</td></tr><tr><th>18</th><td>S&amp;P 500 (^GSPC)</td><td>https://query1.finance.yahoo.com/v7/finance/download/%5EGSPC?period1=-1325635200&amp;period2=1602028800&amp;interval=1d&amp;events=history</td></tr><tr><th>19</th><td>T. Rowe Price Institutional Large Cap Core Growth Fund (TPLGX)</td><td>https://query1.finance.yahoo.com/v7/finance/download/TPLGX?period1=1568730349&amp;period2=1602028800&amp;interval=1d&amp;events=history</td></tr><tr><th>20</th><td>Tesla, Inc. (TSLA)</td><td>https://query1.finance.yahoo.com/v7/finance/download/TSLA?period1=1277769600&amp;period2=1602028800&amp;interval=1d&amp;events=history</td></tr><tr><th>21</th><td>The Home Depot, Inc. (HD)</td><td>https://query1.finance.yahoo.com/v7/finance/download/HD?period1=369964800&amp;period2=1602028800&amp;interval=1d&amp;events=history</td></tr><tr><th>22</th><td>Treasury Yield 10 Years (^TNX)</td><td>https://query1.finance.yahoo.com/v7/finance/download/%5ETNX?period1=-252374400&amp;period2=1602028800&amp;interval=1d&amp;events=history</td></tr><tr><th>23</th><td>United States Building Permits</td><td>https://www.mql5.com/en/economic-calendar/united-states/building-permits/export</td></tr><tr><th>24</th><td>United States Gross Domestic Product (GDP) q/q</td><td>https://www.mql5.com/en/economic-calendar/united-states/gross-domestic-product-qq/export</td></tr><tr><th>25</th><td>United States Housing Starts m/m</td><td>https://www.mql5.com/en/economic-calendar/united-states/housing-starts-mm/export</td></tr><tr><th>26</th><td>United States Initial Jobless Claims</td><td>https://www.mql5.com/en/economic-calendar/united-states/initial-jobless-claims/export</td></tr><tr><th>27</th><td>United States Pending Home Sales m/m</td><td>https://www.mql5.com/en/economic-calendar/united-states/pending-home-sales-mm/export</td></tr><tr><th>28</th><td>United States Unemployment Rate</td><td>https://www.mql5.com/en/economic-calendar/united-states/unemployment-rate/export</td></tr><tr><th>29</th><td>Vanguard Institutional Index Fund Institutional Shares (VINIX)</td><td>https://query1.finance.yahoo.com/v7/finance/download/VINIX?period1=649382400&amp;period2=1602028800&amp;interval=1d&amp;events=history</td></tr><tr><th>30</th><td>Vanguard Total Bond Market Index Fund Admiral Shares (VBTLX)</td><td>https://query1.finance.yahoo.com/v7/finance/download/VBTLX?period1=1005523200&amp;period2=1602028800&amp;interval=1d&amp;events=history</td></tr></tbody></table>"
      ],
      "text/latex": [
       "\\begin{tabular}{r|cc}\n",
       "\t& Indicator Name & URL\\\\\n",
       "\t\\hline\n",
       "\t& String & String\\\\\n",
       "\t\\hline\n",
       "\t1 & ADP Nonfarm Employment Change & https://query1.finance.yahoo.com/v7/finance/download/NVDA?period1=916963200\\&period2=1602028800\\&interval=1d\\&events=history \\\\\n",
       "\t2 & Alibaba Group Holding Limited (BABA) & https://query1.finance.yahoo.com/v7/finance/download/BABA?period1=1411084800\\&period2=1602633600\\&interval=1d\\&events=history\\&includeAdjustedClose=true \\\\\n",
       "\t3 & American Funds EuroPacific Growth Fund Class R-6 (RERGX) & https://query1.finance.yahoo.com/v7/finance/download/RERGX?period1=1241136000\\&period2=1602028800\\&interval=1d\\&events=history \\\\\n",
       "\t4 & Apple Inc. (AAPL) & https://query1.finance.yahoo.com/v7/finance/download/AAPL?period1=345427200\\&period2=1602028800\\&interval=1d\\&events=history \\\\\n",
       "\t5 & Bitcoin USD (BTC-USD) & https://query1.finance.yahoo.com/v7/finance/download/BTC-USD?period1=1410825600\\&period2=1602633600\\&interval=1d\\&events=history\\&includeAdjustedClose=true \\\\\n",
       "\t6 & CBOE Volatility Index (\\^VIX) & https://query1.finance.yahoo.com/v7/finance/download/\\%5EVIX?period1=631238400\\&period2=1602028800\\&interval=1d\\&events=history \\\\\n",
       "\t7 & Daily total sunspot number (http://www.sidc.be/) & http://www.sidc.be/silso/INFO/sndtotcsv.php \\\\\n",
       "\t8 & Dow Jones Industrial Average (\\^DJI) & https://query1.finance.yahoo.com/v7/finance/download/\\%5EDJI?period1=475804800\\&period2=1602028800\\&interval=1d\\&events=history\\&includeAdjustedClose=true \\\\\n",
       "\t9 & Federal Reserve Bank (Fed) of Dallas Manufacturing Index & https://www.mql5.com/en/economic-calendar/united-states/dallas-fed-manufacturing-business-index/export \\\\\n",
       "\t10 & Federal Reserve System (Fed) Industrial Production m/m & https://www.mql5.com/en/economic-calendar/united-states/industrial-production-mm/export \\\\\n",
       "\t11 & Federal Reserve System (Fed) Industrial Production m/m & https://www.mql5.com/en/economic-calendar/united-states/industrial-production-mm/export \\\\\n",
       "\t12 & Gold Dec 20 (GC=F) & https://query1.finance.yahoo.com/v7/finance/download/GC=F?period1=967593600\\&period2=1602028800\\&interval=1d\\&events=history \\\\\n",
       "\t13 & ISM Manufacturing Employment & https://www.mql5.com/en/economic-calendar/united-states/ism-manufacturing-employment/export \\\\\n",
       "\t14 & ISM United States Manufacturing Purchasing Managers Index (PMI) & https://www.mql5.com/en/economic-calendar/united-states/ism-manufacturing-pmi/export \\\\\n",
       "\t15 & Neuberger Berman Mid Cap Growth Fund Class R6 (NRMGX) & https://query1.finance.yahoo.com/v7/finance/download/NRMGX?period1=1363305600\\&period2=1602028800\\&interval=1d\\&events=history \\\\\n",
       "\t16 & NIO Limited (NIO) & https://query1.finance.yahoo.com/v7/finance/download/NIO?period1=1536710400\\&period2=1602633600\\&interval=1d\\&events=history\\&includeAdjustedClose=true \\\\\n",
       "\t17 & NVIDIA Corporation (NVDA) & https://query1.finance.yahoo.com/v7/finance/download/NVDA?period1=916963200\\&period2=1602028800\\&interval=1d\\&events=history \\\\\n",
       "\t18 & S\\&P 500 (\\^GSPC) & https://query1.finance.yahoo.com/v7/finance/download/\\%5EGSPC?period1=-1325635200\\&period2=1602028800\\&interval=1d\\&events=history \\\\\n",
       "\t19 & T. Rowe Price Institutional Large Cap Core Growth Fund (TPLGX) & https://query1.finance.yahoo.com/v7/finance/download/TPLGX?period1=1568730349\\&period2=1602028800\\&interval=1d\\&events=history \\\\\n",
       "\t20 & Tesla, Inc. (TSLA) & https://query1.finance.yahoo.com/v7/finance/download/TSLA?period1=1277769600\\&period2=1602028800\\&interval=1d\\&events=history \\\\\n",
       "\t21 & The Home Depot, Inc. (HD) & https://query1.finance.yahoo.com/v7/finance/download/HD?period1=369964800\\&period2=1602028800\\&interval=1d\\&events=history \\\\\n",
       "\t22 & Treasury Yield 10 Years (\\^TNX) & https://query1.finance.yahoo.com/v7/finance/download/\\%5ETNX?period1=-252374400\\&period2=1602028800\\&interval=1d\\&events=history \\\\\n",
       "\t23 & United States Building Permits & https://www.mql5.com/en/economic-calendar/united-states/building-permits/export \\\\\n",
       "\t24 & United States Gross Domestic Product (GDP) q/q & https://www.mql5.com/en/economic-calendar/united-states/gross-domestic-product-qq/export \\\\\n",
       "\t25 & United States Housing Starts m/m & https://www.mql5.com/en/economic-calendar/united-states/housing-starts-mm/export \\\\\n",
       "\t26 & United States Initial Jobless Claims & https://www.mql5.com/en/economic-calendar/united-states/initial-jobless-claims/export \\\\\n",
       "\t27 & United States Pending Home Sales m/m & https://www.mql5.com/en/economic-calendar/united-states/pending-home-sales-mm/export \\\\\n",
       "\t28 & United States Unemployment Rate & https://www.mql5.com/en/economic-calendar/united-states/unemployment-rate/export \\\\\n",
       "\t29 & Vanguard Institutional Index Fund Institutional Shares (VINIX) & https://query1.finance.yahoo.com/v7/finance/download/VINIX?period1=649382400\\&period2=1602028800\\&interval=1d\\&events=history \\\\\n",
       "\t30 & Vanguard Total Bond Market Index Fund Admiral Shares (VBTLX) & https://query1.finance.yahoo.com/v7/finance/download/VBTLX?period1=1005523200\\&period2=1602028800\\&interval=1d\\&events=history \\\\\n",
       "\\end{tabular}\n"
      ],
      "text/plain": [
       "30×2 DataFrame. Omitted printing of 1 columns\n",
       "│ Row │ Indicator Name                                                 │\n",
       "│     │ \u001b[90mString\u001b[39m                                                         │\n",
       "├─────┼────────────────────────────────────────────────────────────────┤\n",
       "│ 1   │ ADP Nonfarm Employment Change                                  │\n",
       "│ 2   │ Alibaba Group Holding Limited (BABA)                           │\n",
       "│ 3   │ American Funds EuroPacific Growth Fund Class R-6 (RERGX)       │\n",
       "│ 4   │ Apple Inc. (AAPL)                                              │\n",
       "│ 5   │ Bitcoin USD (BTC-USD)                                          │\n",
       "│ 6   │ CBOE Volatility Index (^VIX)                                   │\n",
       "│ 7   │ Daily total sunspot number (http://www.sidc.be/)               │\n",
       "│ 8   │ Dow Jones Industrial Average (^DJI)                            │\n",
       "│ 9   │ Federal Reserve Bank (Fed) of Dallas Manufacturing Index       │\n",
       "│ 10  │ Federal Reserve System (Fed) Industrial Production m/m         │\n",
       "⋮\n",
       "│ 20  │ Tesla, Inc. (TSLA)                                             │\n",
       "│ 21  │ The Home Depot, Inc. (HD)                                      │\n",
       "│ 22  │ Treasury Yield 10 Years (^TNX)                                 │\n",
       "│ 23  │ United States Building Permits                                 │\n",
       "│ 24  │ United States Gross Domestic Product (GDP) q/q                 │\n",
       "│ 25  │ United States Housing Starts m/m                               │\n",
       "│ 26  │ United States Initial Jobless Claims                           │\n",
       "│ 27  │ United States Pending Home Sales m/m                           │\n",
       "│ 28  │ United States Unemployment Rate                                │\n",
       "│ 29  │ Vanguard Institutional Index Fund Institutional Shares (VINIX) │\n",
       "│ 30  │ Vanguard Total Bond Market Index Fund Admiral Shares (VBTLX)   │"
      ]
     },
     "execution_count": 3,
     "metadata": {},
     "output_type": "execute_result"
    }
   ],
   "source": [
    "using CSV, DataFrames\n",
    "file_path = \"_DataSets.csv\"\n",
    "date_format=\"mm/dd/yyyy\" # 9/14/2020\n",
    "df = CSV.read( file_path, dateformat=\"$date_format\" )\n",
    "df[:, [1,3] ]"
   ]
  },
  {
   "cell_type": "code",
   "execution_count": 4,
   "metadata": {},
   "outputs": [
    {
     "data": {
      "text/plain": [
       "4-element Array{Symbol,1}:\n",
       " Symbol(\"Indicator Name\")\n",
       " :file_path\n",
       " :URL\n",
       " :Column4"
      ]
     },
     "execution_count": 4,
     "metadata": {},
     "output_type": "execute_result"
    }
   ],
   "source": [
    "names(df)"
   ]
  },
  {
   "cell_type": "markdown",
   "metadata": {},
   "source": [
    "# Download all from the Web"
   ]
  },
  {
   "cell_type": "code",
   "execution_count": null,
   "metadata": {},
   "outputs": [
    {
     "name": "stdout",
     "output_type": "stream",
     "text": [
      "============== 2020-11-04T05:50:30.742 ==============\n",
      "- downloaded: ADP Nonfarm Employment Change \n",
      "            -- NVDA.csv\n",
      "            -- https://query1.finance.yahoo.com/v7/finance/download/NVDA?period1=916963200&period2=1604469031&interval=1d&events=history\n",
      "- downloaded: Alibaba Group Holding Limited (BABA) \n",
      "            -- BABA.csv\n",
      "            -- https://query1.finance.yahoo.com/v7/finance/download/BABA?period1=1411084800&period2=1604469036&interval=1d&events=history\n",
      "- downloaded: American Funds EuroPacific Growth Fund Class R-6 (RERGX) \n",
      "            -- RERGX.csv\n",
      "            -- https://query1.finance.yahoo.com/v7/finance/download/RERGX?period1=1241136000&period2=1604469042&interval=1d&events=history\n",
      "- downloaded: Apple Inc. (AAPL) \n",
      "            -- AAPL.csv\n",
      "            -- https://query1.finance.yahoo.com/v7/finance/download/AAPL?period1=345427200&period2=1604469052&interval=1d&events=history\n",
      "- downloaded: Bitcoin USD (BTC-USD) \n",
      "            -- BTC-USD.csv\n",
      "            -- https://query1.finance.yahoo.com/v7/finance/download/BTC-USD?period1=1410825600&period2=1604469054&interval=1d&events=history\n",
      "- downloaded: CBOE Volatility Index (^VIX) \n",
      "            -- ^VIX.csv\n",
      "            -- https://query1.finance.yahoo.com/v7/finance/download/%5EVIX?period1=631238400&period2=1604469064&interval=1d&events=history\n",
      "- downloaded: Daily total sunspot number (http://www.sidc.be/) \n",
      "            -- SN_d_tot_V2.0.csv\n",
      "            -- http://www.sidc.be/silso/INFO/sndtotcsv.php\n",
      "- downloaded: Dow Jones Industrial Average (^DJI) \n",
      "            -- ^DJI.csv\n",
      "            -- https://query1.finance.yahoo.com/v7/finance/download/%5EDJI?period1=475804800&period2=1604469076&interval=1d&events=history\n",
      "- downloaded: Federal Reserve Bank (Fed) of Dallas Manufacturing Index \n",
      "            -- united-states.dallas-fed-manufacturing-business-index.csv\n",
      "            -- https://www.mql5.com/en/economic-calendar/united-states/dallas-fed-manufacturing-business-index/export\n",
      "- downloaded: Federal Reserve System (Fed) Industrial Production m/m \n",
      "            -- united-states.industrial-production-mm.csv\n",
      "            -- https://www.mql5.com/en/economic-calendar/united-states/industrial-production-mm/export\n",
      "- downloaded: Federal Reserve System (Fed) Industrial Production m/m \n",
      "            -- united-states.industrial-production-mm.csv\n",
      "            -- https://www.mql5.com/en/economic-calendar/united-states/industrial-production-mm/export\n",
      "- downloaded: Gold Dec 20 (GC=F) \n",
      "            -- GC=F.csv\n",
      "            -- https://query1.finance.yahoo.com/v7/finance/download/GC=F?period1=967593600&period2=1604469096&interval=1d&events=history\n",
      "- downloaded: ISM Manufacturing Employment \n",
      "            -- united-states.ism-manufacturing-employment.csv\n",
      "            -- https://www.mql5.com/en/economic-calendar/united-states/ism-manufacturing-employment/export\n",
      "- downloaded: ISM United States Manufacturing Purchasing Managers Index (PMI) \n",
      "            -- united-states.ism-manufacturing-pmi.csv\n",
      "            -- https://www.mql5.com/en/economic-calendar/united-states/ism-manufacturing-pmi/export\n",
      "- downloaded: Neuberger Berman Mid Cap Growth Fund Class R6 (NRMGX) \n",
      "            -- NRMGX.csv\n",
      "            -- https://query1.finance.yahoo.com/v7/finance/download/NRMGX?period1=1363305600&period2=1604469119&interval=1d&events=history\n",
      "- downloaded: NIO Limited (NIO) \n",
      "            -- NIO.csv\n",
      "            -- https://query1.finance.yahoo.com/v7/finance/download/NIO?period1=1536710400&period2=1604469121&interval=1d&events=history\n",
      "- downloaded: NVIDIA Corporation (NVDA) \n",
      "            -- NVDA.csv\n",
      "            -- https://query1.finance.yahoo.com/v7/finance/download/NVDA?period1=916963200&period2=1604469127&interval=1d&events=history\n",
      "- downloaded: S&P 500 (^GSPC) \n",
      "            -- ^GSPC.csv\n",
      "            -- https://query1.finance.yahoo.com/v7/finance/download/%5EGSPC?period1=-1325635200&period2=1604469137&interval=1d&events=history\n",
      "- downloaded: T. Rowe Price Institutional Large Cap Core Growth Fund (TPLGX) \n",
      "            -- TPLGX.csv\n",
      "            -- https://query1.finance.yahoo.com/v7/finance/download/TPLGX?period1=1568730349&period2=1604469144&interval=1d&events=history\n",
      "- downloaded: Tesla, Inc. (TSLA) \n",
      "            -- TSLA.csv\n",
      "            -- https://query1.finance.yahoo.com/v7/finance/download/TSLA?period1=1277769600&period2=1604469151&interval=1d&events=history\n",
      "- downloaded: The Home Depot, Inc. (HD) \n",
      "            -- HD.csv\n",
      "            -- https://query1.finance.yahoo.com/v7/finance/download/HD?period1=369964800&period2=1604469159&interval=1d&events=history\n",
      "- downloaded: Treasury Yield 10 Years (^TNX) \n",
      "            -- ^TNX.csv\n",
      "            -- https://query1.finance.yahoo.com/v7/finance/download/%5ETNX?period1=-252374400&period2=1604469166&interval=1d&events=history\n",
      "- downloaded: United States Building Permits \n",
      "            -- united-states.building-permits.csv\n",
      "            -- https://www.mql5.com/en/economic-calendar/united-states/building-permits/export\n",
      "- downloaded: United States Gross Domestic Product (GDP) q/q \n",
      "            -- united-states.gross-domestic-product-qq.csv\n",
      "            -- https://www.mql5.com/en/economic-calendar/united-states/gross-domestic-product-qq/export\n",
      "- downloaded: United States Housing Starts m/m \n",
      "            -- united-states.housing-starts-mm.csv\n",
      "            -- https://www.mql5.com/en/economic-calendar/united-states/housing-starts-mm/export\n",
      "- downloaded: United States Initial Jobless Claims \n",
      "            -- united-states.initial-jobless-claims.csv\n",
      "            -- https://www.mql5.com/en/economic-calendar/united-states/initial-jobless-claims/export\n",
      "- downloaded: United States Pending Home Sales m/m \n",
      "            -- united-states.pending-home-sales-mm.csv\n",
      "            -- https://www.mql5.com/en/economic-calendar/united-states/pending-home-sales-mm/export\n",
      "- downloaded: United States Unemployment Rate \n",
      "            -- united-states.unemployment-rate.csv \n",
      "            -- https://www.mql5.com/en/economic-calendar/united-states/unemployment-rate/export\n",
      "- downloaded: Vanguard Institutional Index Fund Institutional Shares (VINIX) \n",
      "            -- VINIX.csv\n",
      "            -- https://query1.finance.yahoo.com/v7/finance/download/VINIX?period1=649382400&period2=1604469203&interval=1d&events=history\n",
      "- downloaded: Vanguard Total Bond Market Index Fund Admiral Shares (VBTLX) \n",
      "            -- VBTLX.csv\n",
      "            -- https://query1.finance.yahoo.com/v7/finance/download/VBTLX?period1=1005523200&period2=1604469212&interval=1d&events=history\n",
      "going to sleep for 4.0 hours\n"
     ]
    }
   ],
   "source": [
    "row_count = size(df)[1]\n",
    "\n",
    "while true\n",
    "    println(\"============== \", Dates.DateTime(Dates.now() ), \" ==============\")\n",
    "    \n",
    "    for row in 1:row_count\n",
    "        indicatior_name  = df[row, 1]\n",
    "        file_name        = df[row, 2]\n",
    "        url              = df[row, 3]\n",
    "        if !isnothing(findfirst(\"finance.yahoo.com\", url))\n",
    "            url = update_yahoo_finance(url)\n",
    "        end\n",
    "        download( url , string(original_data_directory * file_name ) )\n",
    "        println( \"- downloaded: \", indicatior_name, \" \n",
    "            -- \", file_name, \"\n",
    "            -- \", url ) \n",
    "        r_array = (rand(1)*9).+1  # 1.0.. to 9.9.. seconds\n",
    "        r = r_array[1]\n",
    "        sleep(r)            # to prevent being blocked\n",
    "    end\n",
    "    \n",
    "    nap_time = 60*60*4 # seconds * minutes * hours\n",
    "    println(\"going to sleep for \", nap_time/(60*60), \" hours\" )\n",
    "    sleep(nap_time) \n",
    "end"
   ]
  },
  {
   "cell_type": "code",
   "execution_count": null,
   "metadata": {},
   "outputs": [],
   "source": []
  }
 ],
 "metadata": {
  "kernelspec": {
   "display_name": "Julia 1.4.2",
   "language": "julia",
   "name": "julia-1.4"
  },
  "language_info": {
   "file_extension": ".jl",
   "mimetype": "application/julia",
   "name": "julia",
   "version": "1.4.2"
  },
  "toc": {
   "base_numbering": 1,
   "nav_menu": {},
   "number_sections": true,
   "sideBar": true,
   "skip_h1_title": false,
   "title_cell": "Table of Contents",
   "title_sidebar": "Contents",
   "toc_cell": false,
   "toc_position": {},
   "toc_section_display": true,
   "toc_window_display": true
  }
 },
 "nbformat": 4,
 "nbformat_minor": 4
}
