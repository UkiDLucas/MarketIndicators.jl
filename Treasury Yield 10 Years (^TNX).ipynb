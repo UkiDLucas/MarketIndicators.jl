{
 "cells": [
  {
   "cell_type": "markdown",
   "metadata": {},
   "source": [
    "# Treasury Yield 10 Years (^TNX)\n",
    "\n"
   ]
  },
  {
   "cell_type": "code",
   "execution_count": 1,
   "metadata": {},
   "outputs": [
    {
     "data": {
      "text/plain": [
       "\"data/^TNX.csv\""
      ]
     },
     "execution_count": 1,
     "metadata": {},
     "output_type": "execute_result"
    }
   ],
   "source": [
    "file = \"data/^TNX.csv\""
   ]
  },
  {
   "cell_type": "code",
   "execution_count": null,
   "metadata": {},
   "outputs": [],
   "source": []
  },
  {
   "cell_type": "code",
   "execution_count": 2,
   "metadata": {},
   "outputs": [],
   "source": [
    "# import Pkg; Pkg.add(\"Flux\")\n",
    "#using Flux\n",
    "\n",
    "# import Pkg; Pkg.add(\"DelimitedFiles\")\n",
    "using DelimitedFiles\n",
    "\n",
    "# import Pkg; Pkg.add(\"Statistics\")\n",
    "#using Statistics\n",
    "\n",
    "# import Pkg; Pkg.add(\"Flux\")\n",
    "#using Flux.Optimise: update!\n",
    "\n",
    "# import Pkg; Pkg.add(\"Parameters\")\n",
    "#using Parameters #: @with_kw\n",
    "\n",
    "\n",
    "# import Pkg; Pkg.add(\"Plots\")\n",
    "using Plots\n",
    "\n",
    "# import Pkg; Pkg.add(\"DataFrames\")\n",
    "using DataFrames\n",
    "\n",
    "# import Pkg; Pkg.add(\"CSV\")\n",
    "using CSV\n",
    "\n",
    "# import Pkg; Pkg.add(\"Dates\")\n",
    "using Dates"
   ]
  },
  {
   "cell_type": "code",
   "execution_count": 3,
   "metadata": {},
   "outputs": [
    {
     "data": {
      "text/plain": [
       "fetch_data (generic function with 1 method)"
      ]
     },
     "execution_count": 3,
     "metadata": {},
     "output_type": "execute_result"
    }
   ],
   "source": [
    "include(\"MarketIndicators.jl\")"
   ]
  },
  {
   "cell_type": "code",
   "execution_count": 4,
   "metadata": {},
   "outputs": [
    {
     "name": "stderr",
     "output_type": "stream",
     "text": [
      "┌ Warning: `CSV.read(input; kw...)` is deprecated in favor of `using DataFrames; CSV.read(input, DataFrame; kw...)\n",
      "│   caller = read at CSV.jl:40 [inlined]\n",
      "└ @ Core /Users/uki/.julia/packages/CSV/MKemC/src/CSV.jl:40\n"
     ]
    },
    {
     "data": {
      "text/html": [
       "<table class=\"data-frame\"><thead><tr><th></th><th>Date</th><th>Open</th><th>High</th><th>Low</th><th>Close</th><th>Adj Close</th><th>Volume</th></tr><tr><th></th><th>Date</th><th>String</th><th>String</th><th>String</th><th>String</th><th>String</th><th>String</th></tr></thead><tbody><p>18,246 rows × 7 columns</p><tr><th>1</th><td>1962-01-02</td><td>4.060000</td><td>4.060000</td><td>4.060000</td><td>4.060000</td><td>4.060000</td><td>0</td></tr><tr><th>2</th><td>1962-01-03</td><td>4.030000</td><td>4.030000</td><td>4.030000</td><td>4.030000</td><td>4.030000</td><td>0</td></tr><tr><th>3</th><td>1962-01-04</td><td>3.990000</td><td>3.990000</td><td>3.990000</td><td>3.990000</td><td>3.990000</td><td>0</td></tr><tr><th>4</th><td>1962-01-05</td><td>4.020000</td><td>4.020000</td><td>4.020000</td><td>4.020000</td><td>4.020000</td><td>0</td></tr><tr><th>5</th><td>1962-01-07</td><td>null</td><td>null</td><td>null</td><td>null</td><td>null</td><td>null</td></tr><tr><th>6</th><td>1962-01-08</td><td>4.030000</td><td>4.030000</td><td>4.030000</td><td>4.030000</td><td>4.030000</td><td>0</td></tr><tr><th>7</th><td>1962-01-09</td><td>4.050000</td><td>4.050000</td><td>4.050000</td><td>4.050000</td><td>4.050000</td><td>0</td></tr><tr><th>8</th><td>1962-01-10</td><td>4.070000</td><td>4.070000</td><td>4.070000</td><td>4.070000</td><td>4.070000</td><td>0</td></tr><tr><th>9</th><td>1962-01-11</td><td>4.080000</td><td>4.080000</td><td>4.080000</td><td>4.080000</td><td>4.080000</td><td>0</td></tr><tr><th>10</th><td>1962-01-12</td><td>4.080000</td><td>4.080000</td><td>4.080000</td><td>4.080000</td><td>4.080000</td><td>0</td></tr><tr><th>11</th><td>1962-01-14</td><td>null</td><td>null</td><td>null</td><td>null</td><td>null</td><td>null</td></tr><tr><th>12</th><td>1962-01-15</td><td>4.100000</td><td>4.100000</td><td>4.100000</td><td>4.100000</td><td>4.100000</td><td>0</td></tr><tr><th>13</th><td>1962-01-16</td><td>4.130000</td><td>4.130000</td><td>4.130000</td><td>4.130000</td><td>4.130000</td><td>0</td></tr><tr><th>14</th><td>1962-01-17</td><td>4.120000</td><td>4.120000</td><td>4.120000</td><td>4.120000</td><td>4.120000</td><td>0</td></tr><tr><th>15</th><td>1962-01-18</td><td>4.110000</td><td>4.110000</td><td>4.110000</td><td>4.110000</td><td>4.110000</td><td>0</td></tr><tr><th>16</th><td>1962-01-19</td><td>4.110000</td><td>4.110000</td><td>4.110000</td><td>4.110000</td><td>4.110000</td><td>0</td></tr><tr><th>17</th><td>1962-01-21</td><td>null</td><td>null</td><td>null</td><td>null</td><td>null</td><td>null</td></tr><tr><th>18</th><td>1962-01-22</td><td>4.090000</td><td>4.090000</td><td>4.090000</td><td>4.090000</td><td>4.090000</td><td>0</td></tr><tr><th>19</th><td>1962-01-23</td><td>4.110000</td><td>4.110000</td><td>4.110000</td><td>4.110000</td><td>4.110000</td><td>0</td></tr><tr><th>20</th><td>1962-01-24</td><td>4.100000</td><td>4.100000</td><td>4.100000</td><td>4.100000</td><td>4.100000</td><td>0</td></tr><tr><th>21</th><td>1962-01-25</td><td>4.110000</td><td>4.110000</td><td>4.110000</td><td>4.110000</td><td>4.110000</td><td>0</td></tr><tr><th>22</th><td>1962-01-26</td><td>4.110000</td><td>4.110000</td><td>4.110000</td><td>4.110000</td><td>4.110000</td><td>0</td></tr><tr><th>23</th><td>1962-01-28</td><td>null</td><td>null</td><td>null</td><td>null</td><td>null</td><td>null</td></tr><tr><th>24</th><td>1962-01-29</td><td>4.120000</td><td>4.120000</td><td>4.120000</td><td>4.120000</td><td>4.120000</td><td>0</td></tr><tr><th>25</th><td>1962-01-30</td><td>4.110000</td><td>4.110000</td><td>4.110000</td><td>4.110000</td><td>4.110000</td><td>0</td></tr><tr><th>26</th><td>1962-01-31</td><td>4.100000</td><td>4.100000</td><td>4.100000</td><td>4.100000</td><td>4.100000</td><td>0</td></tr><tr><th>27</th><td>1962-02-01</td><td>4.090000</td><td>4.090000</td><td>4.090000</td><td>4.090000</td><td>4.090000</td><td>0</td></tr><tr><th>28</th><td>1962-02-02</td><td>4.080000</td><td>4.080000</td><td>4.080000</td><td>4.080000</td><td>4.080000</td><td>0</td></tr><tr><th>29</th><td>1962-02-04</td><td>null</td><td>null</td><td>null</td><td>null</td><td>null</td><td>null</td></tr><tr><th>30</th><td>1962-02-05</td><td>4.070000</td><td>4.070000</td><td>4.070000</td><td>4.070000</td><td>4.070000</td><td>0</td></tr><tr><th>&vellip;</th><td>&vellip;</td><td>&vellip;</td><td>&vellip;</td><td>&vellip;</td><td>&vellip;</td><td>&vellip;</td><td>&vellip;</td></tr></tbody></table>"
      ],
      "text/latex": [
       "\\begin{tabular}{r|ccccccc}\n",
       "\t& Date & Open & High & Low & Close & Adj Close & Volume\\\\\n",
       "\t\\hline\n",
       "\t& Date & String & String & String & String & String & String\\\\\n",
       "\t\\hline\n",
       "\t1 & 1962-01-02 & 4.060000 & 4.060000 & 4.060000 & 4.060000 & 4.060000 & 0 \\\\\n",
       "\t2 & 1962-01-03 & 4.030000 & 4.030000 & 4.030000 & 4.030000 & 4.030000 & 0 \\\\\n",
       "\t3 & 1962-01-04 & 3.990000 & 3.990000 & 3.990000 & 3.990000 & 3.990000 & 0 \\\\\n",
       "\t4 & 1962-01-05 & 4.020000 & 4.020000 & 4.020000 & 4.020000 & 4.020000 & 0 \\\\\n",
       "\t5 & 1962-01-07 & null & null & null & null & null & null \\\\\n",
       "\t6 & 1962-01-08 & 4.030000 & 4.030000 & 4.030000 & 4.030000 & 4.030000 & 0 \\\\\n",
       "\t7 & 1962-01-09 & 4.050000 & 4.050000 & 4.050000 & 4.050000 & 4.050000 & 0 \\\\\n",
       "\t8 & 1962-01-10 & 4.070000 & 4.070000 & 4.070000 & 4.070000 & 4.070000 & 0 \\\\\n",
       "\t9 & 1962-01-11 & 4.080000 & 4.080000 & 4.080000 & 4.080000 & 4.080000 & 0 \\\\\n",
       "\t10 & 1962-01-12 & 4.080000 & 4.080000 & 4.080000 & 4.080000 & 4.080000 & 0 \\\\\n",
       "\t11 & 1962-01-14 & null & null & null & null & null & null \\\\\n",
       "\t12 & 1962-01-15 & 4.100000 & 4.100000 & 4.100000 & 4.100000 & 4.100000 & 0 \\\\\n",
       "\t13 & 1962-01-16 & 4.130000 & 4.130000 & 4.130000 & 4.130000 & 4.130000 & 0 \\\\\n",
       "\t14 & 1962-01-17 & 4.120000 & 4.120000 & 4.120000 & 4.120000 & 4.120000 & 0 \\\\\n",
       "\t15 & 1962-01-18 & 4.110000 & 4.110000 & 4.110000 & 4.110000 & 4.110000 & 0 \\\\\n",
       "\t16 & 1962-01-19 & 4.110000 & 4.110000 & 4.110000 & 4.110000 & 4.110000 & 0 \\\\\n",
       "\t17 & 1962-01-21 & null & null & null & null & null & null \\\\\n",
       "\t18 & 1962-01-22 & 4.090000 & 4.090000 & 4.090000 & 4.090000 & 4.090000 & 0 \\\\\n",
       "\t19 & 1962-01-23 & 4.110000 & 4.110000 & 4.110000 & 4.110000 & 4.110000 & 0 \\\\\n",
       "\t20 & 1962-01-24 & 4.100000 & 4.100000 & 4.100000 & 4.100000 & 4.100000 & 0 \\\\\n",
       "\t21 & 1962-01-25 & 4.110000 & 4.110000 & 4.110000 & 4.110000 & 4.110000 & 0 \\\\\n",
       "\t22 & 1962-01-26 & 4.110000 & 4.110000 & 4.110000 & 4.110000 & 4.110000 & 0 \\\\\n",
       "\t23 & 1962-01-28 & null & null & null & null & null & null \\\\\n",
       "\t24 & 1962-01-29 & 4.120000 & 4.120000 & 4.120000 & 4.120000 & 4.120000 & 0 \\\\\n",
       "\t25 & 1962-01-30 & 4.110000 & 4.110000 & 4.110000 & 4.110000 & 4.110000 & 0 \\\\\n",
       "\t26 & 1962-01-31 & 4.100000 & 4.100000 & 4.100000 & 4.100000 & 4.100000 & 0 \\\\\n",
       "\t27 & 1962-02-01 & 4.090000 & 4.090000 & 4.090000 & 4.090000 & 4.090000 & 0 \\\\\n",
       "\t28 & 1962-02-02 & 4.080000 & 4.080000 & 4.080000 & 4.080000 & 4.080000 & 0 \\\\\n",
       "\t29 & 1962-02-04 & null & null & null & null & null & null \\\\\n",
       "\t30 & 1962-02-05 & 4.070000 & 4.070000 & 4.070000 & 4.070000 & 4.070000 & 0 \\\\\n",
       "\t$\\dots$ & $\\dots$ & $\\dots$ & $\\dots$ & $\\dots$ & $\\dots$ & $\\dots$ & $\\dots$ \\\\\n",
       "\\end{tabular}\n"
      ],
      "text/plain": [
       "18246×7 DataFrame. Omitted printing of 1 columns\n",
       "│ Row   │ Date       │ Open     │ High     │ Low      │ Close    │ Adj Close │\n",
       "│       │ \u001b[90mDate\u001b[39m       │ \u001b[90mString\u001b[39m   │ \u001b[90mString\u001b[39m   │ \u001b[90mString\u001b[39m   │ \u001b[90mString\u001b[39m   │ \u001b[90mString\u001b[39m    │\n",
       "├───────┼────────────┼──────────┼──────────┼──────────┼──────────┼───────────┤\n",
       "│ 1     │ 1962-01-02 │ 4.060000 │ 4.060000 │ 4.060000 │ 4.060000 │ 4.060000  │\n",
       "│ 2     │ 1962-01-03 │ 4.030000 │ 4.030000 │ 4.030000 │ 4.030000 │ 4.030000  │\n",
       "│ 3     │ 1962-01-04 │ 3.990000 │ 3.990000 │ 3.990000 │ 3.990000 │ 3.990000  │\n",
       "│ 4     │ 1962-01-05 │ 4.020000 │ 4.020000 │ 4.020000 │ 4.020000 │ 4.020000  │\n",
       "│ 5     │ 1962-01-07 │ null     │ null     │ null     │ null     │ null      │\n",
       "│ 6     │ 1962-01-08 │ 4.030000 │ 4.030000 │ 4.030000 │ 4.030000 │ 4.030000  │\n",
       "│ 7     │ 1962-01-09 │ 4.050000 │ 4.050000 │ 4.050000 │ 4.050000 │ 4.050000  │\n",
       "│ 8     │ 1962-01-10 │ 4.070000 │ 4.070000 │ 4.070000 │ 4.070000 │ 4.070000  │\n",
       "│ 9     │ 1962-01-11 │ 4.080000 │ 4.080000 │ 4.080000 │ 4.080000 │ 4.080000  │\n",
       "│ 10    │ 1962-01-12 │ 4.080000 │ 4.080000 │ 4.080000 │ 4.080000 │ 4.080000  │\n",
       "⋮\n",
       "│ 18236 │ 2020-08-21 │ 0.632000 │ 0.656000 │ 0.623000 │ 0.640000 │ 0.640000  │\n",
       "│ 18237 │ 2020-08-23 │ null     │ null     │ null     │ null     │ null      │\n",
       "│ 18238 │ 2020-08-24 │ 0.633000 │ 0.651000 │ 0.622000 │ 0.646000 │ 0.646000  │\n",
       "│ 18239 │ 2020-08-25 │ 0.685000 │ 0.716000 │ 0.679000 │ 0.682000 │ 0.682000  │\n",
       "│ 18240 │ 2020-08-26 │ 0.716000 │ 0.721000 │ 0.685000 │ 0.687000 │ 0.687000  │\n",
       "│ 18241 │ 2020-08-27 │ 0.675000 │ 0.746000 │ 0.649000 │ 0.746000 │ 0.746000  │\n",
       "│ 18242 │ 2020-08-28 │ 0.739000 │ 0.746000 │ 0.713000 │ 0.729000 │ 0.729000  │\n",
       "│ 18243 │ 2020-08-30 │ null     │ null     │ null     │ null     │ null      │\n",
       "│ 18244 │ 2020-08-31 │ 0.733000 │ 0.739000 │ 0.692000 │ 0.693000 │ 0.693000  │\n",
       "│ 18245 │ 2020-09-01 │ 0.720000 │ 0.729000 │ 0.671000 │ 0.672000 │ 0.672000  │\n",
       "│ 18246 │ 2020-09-02 │ 0.677000 │ 0.687000 │ 0.643000 │ 0.651000 │ 0.651000  │"
      ]
     },
     "execution_count": 4,
     "metadata": {},
     "output_type": "execute_result"
    }
   ],
   "source": [
    "df = fetch_data(file)"
   ]
  },
  {
   "cell_type": "code",
   "execution_count": null,
   "metadata": {},
   "outputs": [],
   "source": []
  },
  {
   "cell_type": "code",
   "execution_count": null,
   "metadata": {},
   "outputs": [],
   "source": []
  }
 ],
 "metadata": {
  "kernelspec": {
   "display_name": "Julia 1.4.2",
   "language": "julia",
   "name": "julia-1.4"
  },
  "language_info": {
   "file_extension": ".jl",
   "mimetype": "application/julia",
   "name": "julia",
   "version": "1.4.2"
  }
 },
 "nbformat": 4,
 "nbformat_minor": 4
}
