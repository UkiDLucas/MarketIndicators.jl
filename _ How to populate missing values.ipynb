{
 "cells": [
  {
   "cell_type": "markdown",
   "metadata": {},
   "source": [
    "# Populate Missing Values"
   ]
  },
  {
   "cell_type": "markdown",
   "metadata": {},
   "source": [
    "# TOC\n",
    "\n",
    "- [ReadDataFrame from CSV file](#Read-DataFrame-from-CSV-file)\n",
    "- [Rename DataFrame columns](#Rename-columns)\n",
    "- [#Write-DataFrame-to-CSV file](#Write-DataFrame-to-CSV-file)"
   ]
  },
  {
   "cell_type": "code",
   "execution_count": 48,
   "metadata": {},
   "outputs": [
    {
     "data": {
      "text/plain": [
       "7"
      ]
     },
     "execution_count": 48,
     "metadata": {},
     "output_type": "execute_result"
    }
   ],
   "source": [
    "using DataFrames, CSV\n",
    "\n",
    "file_name = \"market_indicators.csv\"\n",
    "column = 7 # choose column to populate"
   ]
  },
  {
   "cell_type": "markdown",
   "metadata": {},
   "source": [
    "# Read DataFrame from CSV file"
   ]
  },
  {
   "cell_type": "code",
   "execution_count": 49,
   "metadata": {},
   "outputs": [
    {
     "data": {
      "text/html": [
       "<table class=\"data-frame\"><thead><tr><th></th><th>Day</th><th>Date</th><th>ISM Manufacturing</th><th>GDP q/q</th><th>S&amp;P500</th><th>S&amp;P500 y/y</th><th>S&amp;P500 m/m</th></tr><tr><th></th><th>Int64</th><th>Date…</th><th>Float64</th><th>Float64</th><th>Float64</th><th>String</th><th>String?</th></tr></thead><tbody><p>30 rows × 11 columns (omitted printing of 4 columns)</p><tr><th>1</th><td>0</td><td>1948-03-31</td><td>43.3</td><td>0.062</td><td>0.0</td><td>0.0</td><td>0.0</td></tr><tr><th>2</th><td>30</td><td>1948-04-30</td><td>45.4</td><td>0.062</td><td>0.0</td><td>0.0</td><td><em>missing</em></td></tr><tr><th>3</th><td>61</td><td>1948-05-31</td><td>49.5</td><td>0.062</td><td>0.0</td><td>0.0</td><td><em>missing</em></td></tr><tr><th>4</th><td>91</td><td>1948-06-30</td><td>53.0</td><td>0.068</td><td>0.0</td><td>0.0</td><td><em>missing</em></td></tr><tr><th>5</th><td>122</td><td>1948-07-31</td><td>48.4</td><td>0.068</td><td>0.0</td><td>0.0</td><td><em>missing</em></td></tr><tr><th>6</th><td>153</td><td>1948-08-31</td><td>45.1</td><td>0.068</td><td>0.0</td><td>0.0</td><td><em>missing</em></td></tr><tr><th>7</th><td>183</td><td>1948-09-30</td><td>42.1</td><td>0.023</td><td>0.0</td><td>0.0</td><td><em>missing</em></td></tr><tr><th>8</th><td>214</td><td>1948-10-31</td><td>47.2</td><td>0.023</td><td>0.0</td><td>0.0</td><td><em>missing</em></td></tr><tr><th>9</th><td>244</td><td>1948-11-30</td><td>42.4</td><td>0.023</td><td>0.0</td><td>0.0</td><td><em>missing</em></td></tr><tr><th>10</th><td>275</td><td>1948-12-31</td><td>35.0</td><td>0.004</td><td>0.0</td><td>0.0</td><td><em>missing</em></td></tr><tr><th>11</th><td>306</td><td>1949-01-31</td><td>32.9</td><td>0.004</td><td>0.0</td><td>0.0</td><td><em>missing</em></td></tr><tr><th>12</th><td>334</td><td>1949-02-28</td><td>31.3</td><td>0.004</td><td>0.0</td><td>0.0</td><td><em>missing</em></td></tr><tr><th>13</th><td>365</td><td>1949-03-31</td><td>34.5</td><td>-0.054</td><td>0.0</td><td>0.0</td><td><em>missing</em></td></tr><tr><th>14</th><td>395</td><td>1949-04-30</td><td>35.5</td><td>-0.054</td><td>0.0</td><td>0.0</td><td><em>missing</em></td></tr><tr><th>15</th><td>426</td><td>1949-05-31</td><td>32.6</td><td>-0.054</td><td>0.0</td><td>0.0</td><td><em>missing</em></td></tr><tr><th>16</th><td>456</td><td>1949-06-30</td><td>31.6</td><td>-0.014</td><td>0.0</td><td>0.0</td><td><em>missing</em></td></tr><tr><th>17</th><td>487</td><td>1949-07-31</td><td>39.0</td><td>-0.014</td><td>0.0</td><td>0.0</td><td><em>missing</em></td></tr><tr><th>18</th><td>518</td><td>1949-08-31</td><td>47.0</td><td>-0.014</td><td>0.0</td><td>0.0</td><td><em>missing</em></td></tr><tr><th>19</th><td>548</td><td>1949-09-30</td><td>52.3</td><td>0.042</td><td>0.0</td><td>0.0</td><td><em>missing</em></td></tr><tr><th>20</th><td>579</td><td>1949-10-31</td><td>51.0</td><td>0.042</td><td>0.0</td><td>0.0</td><td><em>missing</em></td></tr><tr><th>21</th><td>609</td><td>1949-11-30</td><td>51.0</td><td>0.042</td><td>0.0</td><td>0.0</td><td><em>missing</em></td></tr><tr><th>22</th><td>640</td><td>1949-12-31</td><td>57.3</td><td>-0.033</td><td>0.0</td><td>0.0</td><td><em>missing</em></td></tr><tr><th>23</th><td>671</td><td>1950-01-31</td><td>59.1</td><td>-0.033</td><td>0.0</td><td>0.0</td><td><em>missing</em></td></tr><tr><th>24</th><td>699</td><td>1950-02-28</td><td>60.5</td><td>-0.033</td><td>0.0</td><td>0.0</td><td><em>missing</em></td></tr><tr><th>25</th><td>730</td><td>1950-03-31</td><td>62.1</td><td>0.167</td><td>0.0</td><td>0.0</td><td><em>missing</em></td></tr><tr><th>26</th><td>760</td><td>1950-04-30</td><td>68.1</td><td>0.167</td><td>0.0</td><td>0.0</td><td><em>missing</em></td></tr><tr><th>27</th><td>791</td><td>1950-05-31</td><td>74.7</td><td>0.167</td><td>0.0</td><td>0.0</td><td><em>missing</em></td></tr><tr><th>28</th><td>821</td><td>1950-06-30</td><td>76.6</td><td>0.128</td><td>0.0</td><td>0.0</td><td><em>missing</em></td></tr><tr><th>29</th><td>852</td><td>1950-07-31</td><td>77.5</td><td>0.128</td><td>0.0</td><td>0.0</td><td><em>missing</em></td></tr><tr><th>30</th><td>883</td><td>1950-08-31</td><td>75.8</td><td>0.128</td><td>0.0</td><td>0.0</td><td><em>missing</em></td></tr></tbody></table>"
      ],
      "text/latex": [
       "\\begin{tabular}{r|cccccccc}\n",
       "\t& Day & Date & ISM Manufacturing & GDP q/q & S\\&P500 & S\\&P500 y/y & S\\&P500 m/m & \\\\\n",
       "\t\\hline\n",
       "\t& Int64 & Date… & Float64 & Float64 & Float64 & String & String? & \\\\\n",
       "\t\\hline\n",
       "\t1 & 0 & 1948-03-31 & 43.3 & 0.062 & 0.0 & 0.0 & 0.0 & $\\dots$ \\\\\n",
       "\t2 & 30 & 1948-04-30 & 45.4 & 0.062 & 0.0 & 0.0 & \\emph{missing} & $\\dots$ \\\\\n",
       "\t3 & 61 & 1948-05-31 & 49.5 & 0.062 & 0.0 & 0.0 & \\emph{missing} & $\\dots$ \\\\\n",
       "\t4 & 91 & 1948-06-30 & 53.0 & 0.068 & 0.0 & 0.0 & \\emph{missing} & $\\dots$ \\\\\n",
       "\t5 & 122 & 1948-07-31 & 48.4 & 0.068 & 0.0 & 0.0 & \\emph{missing} & $\\dots$ \\\\\n",
       "\t6 & 153 & 1948-08-31 & 45.1 & 0.068 & 0.0 & 0.0 & \\emph{missing} & $\\dots$ \\\\\n",
       "\t7 & 183 & 1948-09-30 & 42.1 & 0.023 & 0.0 & 0.0 & \\emph{missing} & $\\dots$ \\\\\n",
       "\t8 & 214 & 1948-10-31 & 47.2 & 0.023 & 0.0 & 0.0 & \\emph{missing} & $\\dots$ \\\\\n",
       "\t9 & 244 & 1948-11-30 & 42.4 & 0.023 & 0.0 & 0.0 & \\emph{missing} & $\\dots$ \\\\\n",
       "\t10 & 275 & 1948-12-31 & 35.0 & 0.004 & 0.0 & 0.0 & \\emph{missing} & $\\dots$ \\\\\n",
       "\t11 & 306 & 1949-01-31 & 32.9 & 0.004 & 0.0 & 0.0 & \\emph{missing} & $\\dots$ \\\\\n",
       "\t12 & 334 & 1949-02-28 & 31.3 & 0.004 & 0.0 & 0.0 & \\emph{missing} & $\\dots$ \\\\\n",
       "\t13 & 365 & 1949-03-31 & 34.5 & -0.054 & 0.0 & 0.0 & \\emph{missing} & $\\dots$ \\\\\n",
       "\t14 & 395 & 1949-04-30 & 35.5 & -0.054 & 0.0 & 0.0 & \\emph{missing} & $\\dots$ \\\\\n",
       "\t15 & 426 & 1949-05-31 & 32.6 & -0.054 & 0.0 & 0.0 & \\emph{missing} & $\\dots$ \\\\\n",
       "\t16 & 456 & 1949-06-30 & 31.6 & -0.014 & 0.0 & 0.0 & \\emph{missing} & $\\dots$ \\\\\n",
       "\t17 & 487 & 1949-07-31 & 39.0 & -0.014 & 0.0 & 0.0 & \\emph{missing} & $\\dots$ \\\\\n",
       "\t18 & 518 & 1949-08-31 & 47.0 & -0.014 & 0.0 & 0.0 & \\emph{missing} & $\\dots$ \\\\\n",
       "\t19 & 548 & 1949-09-30 & 52.3 & 0.042 & 0.0 & 0.0 & \\emph{missing} & $\\dots$ \\\\\n",
       "\t20 & 579 & 1949-10-31 & 51.0 & 0.042 & 0.0 & 0.0 & \\emph{missing} & $\\dots$ \\\\\n",
       "\t21 & 609 & 1949-11-30 & 51.0 & 0.042 & 0.0 & 0.0 & \\emph{missing} & $\\dots$ \\\\\n",
       "\t22 & 640 & 1949-12-31 & 57.3 & -0.033 & 0.0 & 0.0 & \\emph{missing} & $\\dots$ \\\\\n",
       "\t23 & 671 & 1950-01-31 & 59.1 & -0.033 & 0.0 & 0.0 & \\emph{missing} & $\\dots$ \\\\\n",
       "\t24 & 699 & 1950-02-28 & 60.5 & -0.033 & 0.0 & 0.0 & \\emph{missing} & $\\dots$ \\\\\n",
       "\t25 & 730 & 1950-03-31 & 62.1 & 0.167 & 0.0 & 0.0 & \\emph{missing} & $\\dots$ \\\\\n",
       "\t26 & 760 & 1950-04-30 & 68.1 & 0.167 & 0.0 & 0.0 & \\emph{missing} & $\\dots$ \\\\\n",
       "\t27 & 791 & 1950-05-31 & 74.7 & 0.167 & 0.0 & 0.0 & \\emph{missing} & $\\dots$ \\\\\n",
       "\t28 & 821 & 1950-06-30 & 76.6 & 0.128 & 0.0 & 0.0 & \\emph{missing} & $\\dots$ \\\\\n",
       "\t29 & 852 & 1950-07-31 & 77.5 & 0.128 & 0.0 & 0.0 & \\emph{missing} & $\\dots$ \\\\\n",
       "\t30 & 883 & 1950-08-31 & 75.8 & 0.128 & 0.0 & 0.0 & \\emph{missing} & $\\dots$ \\\\\n",
       "\\end{tabular}\n"
      ],
      "text/plain": [
       "30×11 DataFrame. Omitted printing of 6 columns\n",
       "│ Row │ Day   │ Date       │ ISM Manufacturing │ GDP q/q │ S&P500  │\n",
       "│     │ \u001b[90mInt64\u001b[39m │ \u001b[90mDates.Date\u001b[39m │ \u001b[90mFloat64\u001b[39m           │ \u001b[90mFloat64\u001b[39m │ \u001b[90mFloat64\u001b[39m │\n",
       "├─────┼───────┼────────────┼───────────────────┼─────────┼─────────┤\n",
       "│ 1   │ 0     │ 1948-03-31 │ 43.3              │ 0.062   │ 0.0     │\n",
       "│ 2   │ 30    │ 1948-04-30 │ 45.4              │ 0.062   │ 0.0     │\n",
       "│ 3   │ 61    │ 1948-05-31 │ 49.5              │ 0.062   │ 0.0     │\n",
       "│ 4   │ 91    │ 1948-06-30 │ 53.0              │ 0.068   │ 0.0     │\n",
       "│ 5   │ 122   │ 1948-07-31 │ 48.4              │ 0.068   │ 0.0     │\n",
       "│ 6   │ 153   │ 1948-08-31 │ 45.1              │ 0.068   │ 0.0     │\n",
       "│ 7   │ 183   │ 1948-09-30 │ 42.1              │ 0.023   │ 0.0     │\n",
       "│ 8   │ 214   │ 1948-10-31 │ 47.2              │ 0.023   │ 0.0     │\n",
       "│ 9   │ 244   │ 1948-11-30 │ 42.4              │ 0.023   │ 0.0     │\n",
       "│ 10  │ 275   │ 1948-12-31 │ 35.0              │ 0.004   │ 0.0     │\n",
       "⋮\n",
       "│ 20  │ 579   │ 1949-10-31 │ 51.0              │ 0.042   │ 0.0     │\n",
       "│ 21  │ 609   │ 1949-11-30 │ 51.0              │ 0.042   │ 0.0     │\n",
       "│ 22  │ 640   │ 1949-12-31 │ 57.3              │ -0.033  │ 0.0     │\n",
       "│ 23  │ 671   │ 1950-01-31 │ 59.1              │ -0.033  │ 0.0     │\n",
       "│ 24  │ 699   │ 1950-02-28 │ 60.5              │ -0.033  │ 0.0     │\n",
       "│ 25  │ 730   │ 1950-03-31 │ 62.1              │ 0.167   │ 0.0     │\n",
       "│ 26  │ 760   │ 1950-04-30 │ 68.1              │ 0.167   │ 0.0     │\n",
       "│ 27  │ 791   │ 1950-05-31 │ 74.7              │ 0.167   │ 0.0     │\n",
       "│ 28  │ 821   │ 1950-06-30 │ 76.6              │ 0.128   │ 0.0     │\n",
       "│ 29  │ 852   │ 1950-07-31 │ 77.5              │ 0.128   │ 0.0     │\n",
       "│ 30  │ 883   │ 1950-08-31 │ 75.8              │ 0.128   │ 0.0     │"
      ]
     },
     "execution_count": 49,
     "metadata": {},
     "output_type": "execute_result"
    }
   ],
   "source": [
    "df = CSV.read(\"market_indicators.csv\")\n",
    "first(df, 30)"
   ]
  },
  {
   "cell_type": "code",
   "execution_count": 50,
   "metadata": {},
   "outputs": [
    {
     "data": {
      "text/html": [
       "<table class=\"data-frame\"><thead><tr><th></th><th>Day</th><th>Date</th><th>ISM Manufacturing</th><th>GDP q/q</th><th>S&amp;P500</th><th>S&amp;P500 y/y</th><th>S&amp;P500 m/m</th></tr><tr><th></th><th>Int64</th><th>Date…</th><th>Float64</th><th>Float64</th><th>Float64</th><th>String</th><th>String?</th></tr></thead><tbody><p>30 rows × 11 columns (omitted printing of 4 columns)</p><tr><th>1</th><td>25842</td><td>2018-12-31</td><td>55.0</td><td>0.011</td><td>2506.85</td><td>-6.24%</td><td><em>missing</em></td></tr><tr><th>2</th><td>25843</td><td>2019-01-01</td><td>55.5</td><td>0.011</td><td>2704.1</td><td>-4.24%</td><td>7.87%</td></tr><tr><th>3</th><td>25873</td><td>2019-01-31</td><td>55.5</td><td>0.011</td><td>2704.1</td><td>-4.24%</td><td><em>missing</em></td></tr><tr><th>4</th><td>25874</td><td>2019-02-01</td><td>54.1</td><td>0.011</td><td>2784.49</td><td>2.60%</td><td>2.97%</td></tr><tr><th>5</th><td>25901</td><td>2019-02-28</td><td>54.1</td><td>0.011</td><td>2784.49</td><td>2.60%</td><td><em>missing</em></td></tr><tr><th>6</th><td>25902</td><td>2019-03-01</td><td>54.6</td><td>0.011</td><td>2834.4</td><td>7.33%</td><td>1.79%</td></tr><tr><th>7</th><td>25932</td><td>2019-03-31</td><td>54.6</td><td>0.031</td><td>2834.4</td><td>7.33%</td><td><em>missing</em></td></tr><tr><th>8</th><td>25933</td><td>2019-04-01</td><td>53.4</td><td>0.031</td><td>2945.83</td><td>11.25%</td><td>3.93%</td></tr><tr><th>9</th><td>25962</td><td>2019-04-30</td><td>53.4</td><td>0.031</td><td>2945.83</td><td>11.25%</td><td><em>missing</em></td></tr><tr><th>10</th><td>25963</td><td>2019-05-01</td><td>52.3</td><td>0.031</td><td>2752.06</td><td>1.73%</td><td>-6.58%</td></tr><tr><th>11</th><td>25963</td><td>2019-05-01</td><td>51.6</td><td>0.031</td><td>2941.76</td><td>8.22%</td><td>6.89%</td></tr><tr><th>12</th><td>25993</td><td>2019-05-31</td><td>51.6</td><td>0.031</td><td>2941.76</td><td>8.22%</td><td><em>missing</em></td></tr><tr><th>13</th><td>26023</td><td>2019-06-30</td><td>51.6</td><td>0.02</td><td>2941.76</td><td>8.22%</td><td><em>missing</em></td></tr><tr><th>14</th><td>26024</td><td>2019-07-01</td><td>51.3</td><td>0.02</td><td>2980.38</td><td>5.83%</td><td>1.31%</td></tr><tr><th>15</th><td>26054</td><td>2019-07-31</td><td>51.3</td><td>0.02</td><td>2980.38</td><td>5.83%</td><td><em>missing</em></td></tr><tr><th>16</th><td>26055</td><td>2019-08-01</td><td>48.8</td><td>0.02</td><td>2926.46</td><td>0.86%</td><td>-1.81%</td></tr><tr><th>17</th><td>26085</td><td>2019-08-31</td><td>48.8</td><td>0.02</td><td>2926.46</td><td>0.86%</td><td><em>missing</em></td></tr><tr><th>18</th><td>26086</td><td>2019-09-01</td><td>48.2</td><td>0.02</td><td>2976.74</td><td>2.15%</td><td>1.72%</td></tr><tr><th>19</th><td>26115</td><td>2019-09-30</td><td>48.2</td><td>0.021</td><td>2976.74</td><td>2.15%</td><td><em>missing</em></td></tr><tr><th>20</th><td>26116</td><td>2019-10-01</td><td>48.5</td><td>0.021</td><td>3037.56</td><td>12.02%</td><td>2.04%</td></tr><tr><th>21</th><td>26146</td><td>2019-10-31</td><td>48.5</td><td>0.021</td><td>3037.56</td><td>12.02%</td><td><em>missing</em></td></tr><tr><th>22</th><td>26147</td><td>2019-11-01</td><td>48.1</td><td>0.021</td><td>3140.98</td><td>13.80%</td><td>3.40%</td></tr><tr><th>23</th><td>26176</td><td>2019-11-30</td><td>48.1</td><td>0.021</td><td>3140.98</td><td>13.80%</td><td><em>missing</em></td></tr><tr><th>24</th><td>26177</td><td>2019-12-01</td><td>47.8</td><td>0.021</td><td>3230.78</td><td>28.88%</td><td>2.86%</td></tr><tr><th>25</th><td>26207</td><td>2019-12-31</td><td>47.8</td><td>0.021</td><td>3230.78</td><td>28.88%</td><td><em>missing</em></td></tr><tr><th>26</th><td>26208</td><td>2020-01-01</td><td>50.9</td><td>0.021</td><td>3225.52</td><td>19.28%</td><td>-0.16%</td></tr><tr><th>27</th><td>26238</td><td>2020-01-31</td><td>50.9</td><td>0.021</td><td>3225.52</td><td>19.28%</td><td><em>missing</em></td></tr><tr><th>28</th><td>26239</td><td>2020-02-01</td><td>50.1</td><td>0.021</td><td>2954.22</td><td>6.10%</td><td>-8.41%</td></tr><tr><th>29</th><td>26267</td><td>2020-02-29</td><td>50.1</td><td>0.021</td><td>2954.22</td><td>6.10%</td><td><em>missing</em></td></tr><tr><th>30</th><td>26298</td><td>2020-03-31</td><td>49.1</td><td>0.021</td><td>2954.22</td><td>6.10%</td><td><em>missing</em></td></tr></tbody></table>"
      ],
      "text/latex": [
       "\\begin{tabular}{r|cccccccc}\n",
       "\t& Day & Date & ISM Manufacturing & GDP q/q & S\\&P500 & S\\&P500 y/y & S\\&P500 m/m & \\\\\n",
       "\t\\hline\n",
       "\t& Int64 & Date… & Float64 & Float64 & Float64 & String & String? & \\\\\n",
       "\t\\hline\n",
       "\t1 & 25842 & 2018-12-31 & 55.0 & 0.011 & 2506.85 & -6.24\\% & \\emph{missing} & $\\dots$ \\\\\n",
       "\t2 & 25843 & 2019-01-01 & 55.5 & 0.011 & 2704.1 & -4.24\\% & 7.87\\% & $\\dots$ \\\\\n",
       "\t3 & 25873 & 2019-01-31 & 55.5 & 0.011 & 2704.1 & -4.24\\% & \\emph{missing} & $\\dots$ \\\\\n",
       "\t4 & 25874 & 2019-02-01 & 54.1 & 0.011 & 2784.49 & 2.60\\% & 2.97\\% & $\\dots$ \\\\\n",
       "\t5 & 25901 & 2019-02-28 & 54.1 & 0.011 & 2784.49 & 2.60\\% & \\emph{missing} & $\\dots$ \\\\\n",
       "\t6 & 25902 & 2019-03-01 & 54.6 & 0.011 & 2834.4 & 7.33\\% & 1.79\\% & $\\dots$ \\\\\n",
       "\t7 & 25932 & 2019-03-31 & 54.6 & 0.031 & 2834.4 & 7.33\\% & \\emph{missing} & $\\dots$ \\\\\n",
       "\t8 & 25933 & 2019-04-01 & 53.4 & 0.031 & 2945.83 & 11.25\\% & 3.93\\% & $\\dots$ \\\\\n",
       "\t9 & 25962 & 2019-04-30 & 53.4 & 0.031 & 2945.83 & 11.25\\% & \\emph{missing} & $\\dots$ \\\\\n",
       "\t10 & 25963 & 2019-05-01 & 52.3 & 0.031 & 2752.06 & 1.73\\% & -6.58\\% & $\\dots$ \\\\\n",
       "\t11 & 25963 & 2019-05-01 & 51.6 & 0.031 & 2941.76 & 8.22\\% & 6.89\\% & $\\dots$ \\\\\n",
       "\t12 & 25993 & 2019-05-31 & 51.6 & 0.031 & 2941.76 & 8.22\\% & \\emph{missing} & $\\dots$ \\\\\n",
       "\t13 & 26023 & 2019-06-30 & 51.6 & 0.02 & 2941.76 & 8.22\\% & \\emph{missing} & $\\dots$ \\\\\n",
       "\t14 & 26024 & 2019-07-01 & 51.3 & 0.02 & 2980.38 & 5.83\\% & 1.31\\% & $\\dots$ \\\\\n",
       "\t15 & 26054 & 2019-07-31 & 51.3 & 0.02 & 2980.38 & 5.83\\% & \\emph{missing} & $\\dots$ \\\\\n",
       "\t16 & 26055 & 2019-08-01 & 48.8 & 0.02 & 2926.46 & 0.86\\% & -1.81\\% & $\\dots$ \\\\\n",
       "\t17 & 26085 & 2019-08-31 & 48.8 & 0.02 & 2926.46 & 0.86\\% & \\emph{missing} & $\\dots$ \\\\\n",
       "\t18 & 26086 & 2019-09-01 & 48.2 & 0.02 & 2976.74 & 2.15\\% & 1.72\\% & $\\dots$ \\\\\n",
       "\t19 & 26115 & 2019-09-30 & 48.2 & 0.021 & 2976.74 & 2.15\\% & \\emph{missing} & $\\dots$ \\\\\n",
       "\t20 & 26116 & 2019-10-01 & 48.5 & 0.021 & 3037.56 & 12.02\\% & 2.04\\% & $\\dots$ \\\\\n",
       "\t21 & 26146 & 2019-10-31 & 48.5 & 0.021 & 3037.56 & 12.02\\% & \\emph{missing} & $\\dots$ \\\\\n",
       "\t22 & 26147 & 2019-11-01 & 48.1 & 0.021 & 3140.98 & 13.80\\% & 3.40\\% & $\\dots$ \\\\\n",
       "\t23 & 26176 & 2019-11-30 & 48.1 & 0.021 & 3140.98 & 13.80\\% & \\emph{missing} & $\\dots$ \\\\\n",
       "\t24 & 26177 & 2019-12-01 & 47.8 & 0.021 & 3230.78 & 28.88\\% & 2.86\\% & $\\dots$ \\\\\n",
       "\t25 & 26207 & 2019-12-31 & 47.8 & 0.021 & 3230.78 & 28.88\\% & \\emph{missing} & $\\dots$ \\\\\n",
       "\t26 & 26208 & 2020-01-01 & 50.9 & 0.021 & 3225.52 & 19.28\\% & -0.16\\% & $\\dots$ \\\\\n",
       "\t27 & 26238 & 2020-01-31 & 50.9 & 0.021 & 3225.52 & 19.28\\% & \\emph{missing} & $\\dots$ \\\\\n",
       "\t28 & 26239 & 2020-02-01 & 50.1 & 0.021 & 2954.22 & 6.10\\% & -8.41\\% & $\\dots$ \\\\\n",
       "\t29 & 26267 & 2020-02-29 & 50.1 & 0.021 & 2954.22 & 6.10\\% & \\emph{missing} & $\\dots$ \\\\\n",
       "\t30 & 26298 & 2020-03-31 & 49.1 & 0.021 & 2954.22 & 6.10\\% & \\emph{missing} & $\\dots$ \\\\\n",
       "\\end{tabular}\n"
      ],
      "text/plain": [
       "30×11 DataFrame. Omitted printing of 6 columns\n",
       "│ Row │ Day   │ Date       │ ISM Manufacturing │ GDP q/q │ S&P500  │\n",
       "│     │ \u001b[90mInt64\u001b[39m │ \u001b[90mDates.Date\u001b[39m │ \u001b[90mFloat64\u001b[39m           │ \u001b[90mFloat64\u001b[39m │ \u001b[90mFloat64\u001b[39m │\n",
       "├─────┼───────┼────────────┼───────────────────┼─────────┼─────────┤\n",
       "│ 1   │ 25842 │ 2018-12-31 │ 55.0              │ 0.011   │ 2506.85 │\n",
       "│ 2   │ 25843 │ 2019-01-01 │ 55.5              │ 0.011   │ 2704.1  │\n",
       "│ 3   │ 25873 │ 2019-01-31 │ 55.5              │ 0.011   │ 2704.1  │\n",
       "│ 4   │ 25874 │ 2019-02-01 │ 54.1              │ 0.011   │ 2784.49 │\n",
       "│ 5   │ 25901 │ 2019-02-28 │ 54.1              │ 0.011   │ 2784.49 │\n",
       "│ 6   │ 25902 │ 2019-03-01 │ 54.6              │ 0.011   │ 2834.4  │\n",
       "│ 7   │ 25932 │ 2019-03-31 │ 54.6              │ 0.031   │ 2834.4  │\n",
       "│ 8   │ 25933 │ 2019-04-01 │ 53.4              │ 0.031   │ 2945.83 │\n",
       "│ 9   │ 25962 │ 2019-04-30 │ 53.4              │ 0.031   │ 2945.83 │\n",
       "│ 10  │ 25963 │ 2019-05-01 │ 52.3              │ 0.031   │ 2752.06 │\n",
       "⋮\n",
       "│ 20  │ 26116 │ 2019-10-01 │ 48.5              │ 0.021   │ 3037.56 │\n",
       "│ 21  │ 26146 │ 2019-10-31 │ 48.5              │ 0.021   │ 3037.56 │\n",
       "│ 22  │ 26147 │ 2019-11-01 │ 48.1              │ 0.021   │ 3140.98 │\n",
       "│ 23  │ 26176 │ 2019-11-30 │ 48.1              │ 0.021   │ 3140.98 │\n",
       "│ 24  │ 26177 │ 2019-12-01 │ 47.8              │ 0.021   │ 3230.78 │\n",
       "│ 25  │ 26207 │ 2019-12-31 │ 47.8              │ 0.021   │ 3230.78 │\n",
       "│ 26  │ 26208 │ 2020-01-01 │ 50.9              │ 0.021   │ 3225.52 │\n",
       "│ 27  │ 26238 │ 2020-01-31 │ 50.9              │ 0.021   │ 3225.52 │\n",
       "│ 28  │ 26239 │ 2020-02-01 │ 50.1              │ 0.021   │ 2954.22 │\n",
       "│ 29  │ 26267 │ 2020-02-29 │ 50.1              │ 0.021   │ 2954.22 │\n",
       "│ 30  │ 26298 │ 2020-03-31 │ 49.1              │ 0.021   │ 2954.22 │"
      ]
     },
     "execution_count": 50,
     "metadata": {},
     "output_type": "execute_result"
    }
   ],
   "source": [
    "last(df, 30)"
   ]
  },
  {
   "cell_type": "code",
   "execution_count": 51,
   "metadata": {},
   "outputs": [
    {
     "data": {
      "text/plain": [
       "1623"
      ]
     },
     "execution_count": 51,
     "metadata": {},
     "output_type": "execute_result"
    }
   ],
   "source": [
    "items = size(df)[1] # first value of the returned tuple"
   ]
  },
  {
   "cell_type": "markdown",
   "metadata": {},
   "source": [
    "# Populate with the previous value"
   ]
  },
  {
   "cell_type": "code",
   "execution_count": 52,
   "metadata": {},
   "outputs": [],
   "source": [
    "\n",
    "previous_value = df[1, column]\n",
    "\n",
    "for row in 2:items # start with second row\n",
    "    \n",
    "    value = df[row, column] # gt value for the current row\n",
    "    \n",
    "    if ismissing(value) # need to do something\n",
    "        if ismissing(previous_value)\n",
    "            # nothing to populate with, go to the next row\n",
    "            continue\n",
    "        else # we have a previous value\n",
    "            df[row, column] = previous_value\n",
    "        end\n",
    "    else # we have a pre-existing indicator\n",
    "        previous_value = value\n",
    "    end\n",
    "end"
   ]
  },
  {
   "cell_type": "code",
   "execution_count": 53,
   "metadata": {},
   "outputs": [
    {
     "data": {
      "text/html": [
       "<table class=\"data-frame\"><thead><tr><th></th><th>Day</th><th>Date</th><th>ISM Manufacturing</th><th>GDP q/q</th><th>S&amp;P500</th><th>S&amp;P500 y/y</th><th>S&amp;P500 m/m</th></tr><tr><th></th><th>Int64</th><th>Date…</th><th>Float64</th><th>Float64</th><th>Float64</th><th>String</th><th>String?</th></tr></thead><tbody><p>100 rows × 11 columns (omitted printing of 4 columns)</p><tr><th>1</th><td>0</td><td>1948-03-31</td><td>43.3</td><td>0.062</td><td>0.0</td><td>0.0</td><td>0.0</td></tr><tr><th>2</th><td>30</td><td>1948-04-30</td><td>45.4</td><td>0.062</td><td>0.0</td><td>0.0</td><td>0.0</td></tr><tr><th>3</th><td>61</td><td>1948-05-31</td><td>49.5</td><td>0.062</td><td>0.0</td><td>0.0</td><td>0.0</td></tr><tr><th>4</th><td>91</td><td>1948-06-30</td><td>53.0</td><td>0.068</td><td>0.0</td><td>0.0</td><td>0.0</td></tr><tr><th>5</th><td>122</td><td>1948-07-31</td><td>48.4</td><td>0.068</td><td>0.0</td><td>0.0</td><td>0.0</td></tr><tr><th>6</th><td>153</td><td>1948-08-31</td><td>45.1</td><td>0.068</td><td>0.0</td><td>0.0</td><td>0.0</td></tr><tr><th>7</th><td>183</td><td>1948-09-30</td><td>42.1</td><td>0.023</td><td>0.0</td><td>0.0</td><td>0.0</td></tr><tr><th>8</th><td>214</td><td>1948-10-31</td><td>47.2</td><td>0.023</td><td>0.0</td><td>0.0</td><td>0.0</td></tr><tr><th>9</th><td>244</td><td>1948-11-30</td><td>42.4</td><td>0.023</td><td>0.0</td><td>0.0</td><td>0.0</td></tr><tr><th>10</th><td>275</td><td>1948-12-31</td><td>35.0</td><td>0.004</td><td>0.0</td><td>0.0</td><td>0.0</td></tr><tr><th>11</th><td>306</td><td>1949-01-31</td><td>32.9</td><td>0.004</td><td>0.0</td><td>0.0</td><td>0.0</td></tr><tr><th>12</th><td>334</td><td>1949-02-28</td><td>31.3</td><td>0.004</td><td>0.0</td><td>0.0</td><td>0.0</td></tr><tr><th>13</th><td>365</td><td>1949-03-31</td><td>34.5</td><td>-0.054</td><td>0.0</td><td>0.0</td><td>0.0</td></tr><tr><th>14</th><td>395</td><td>1949-04-30</td><td>35.5</td><td>-0.054</td><td>0.0</td><td>0.0</td><td>0.0</td></tr><tr><th>15</th><td>426</td><td>1949-05-31</td><td>32.6</td><td>-0.054</td><td>0.0</td><td>0.0</td><td>0.0</td></tr><tr><th>16</th><td>456</td><td>1949-06-30</td><td>31.6</td><td>-0.014</td><td>0.0</td><td>0.0</td><td>0.0</td></tr><tr><th>17</th><td>487</td><td>1949-07-31</td><td>39.0</td><td>-0.014</td><td>0.0</td><td>0.0</td><td>0.0</td></tr><tr><th>18</th><td>518</td><td>1949-08-31</td><td>47.0</td><td>-0.014</td><td>0.0</td><td>0.0</td><td>0.0</td></tr><tr><th>19</th><td>548</td><td>1949-09-30</td><td>52.3</td><td>0.042</td><td>0.0</td><td>0.0</td><td>0.0</td></tr><tr><th>20</th><td>579</td><td>1949-10-31</td><td>51.0</td><td>0.042</td><td>0.0</td><td>0.0</td><td>0.0</td></tr><tr><th>21</th><td>609</td><td>1949-11-30</td><td>51.0</td><td>0.042</td><td>0.0</td><td>0.0</td><td>0.0</td></tr><tr><th>22</th><td>640</td><td>1949-12-31</td><td>57.3</td><td>-0.033</td><td>0.0</td><td>0.0</td><td>0.0</td></tr><tr><th>23</th><td>671</td><td>1950-01-31</td><td>59.1</td><td>-0.033</td><td>0.0</td><td>0.0</td><td>0.0</td></tr><tr><th>24</th><td>699</td><td>1950-02-28</td><td>60.5</td><td>-0.033</td><td>0.0</td><td>0.0</td><td>0.0</td></tr><tr><th>25</th><td>730</td><td>1950-03-31</td><td>62.1</td><td>0.167</td><td>0.0</td><td>0.0</td><td>0.0</td></tr><tr><th>26</th><td>760</td><td>1950-04-30</td><td>68.1</td><td>0.167</td><td>0.0</td><td>0.0</td><td>0.0</td></tr><tr><th>27</th><td>791</td><td>1950-05-31</td><td>74.7</td><td>0.167</td><td>0.0</td><td>0.0</td><td>0.0</td></tr><tr><th>28</th><td>821</td><td>1950-06-30</td><td>76.6</td><td>0.128</td><td>0.0</td><td>0.0</td><td>0.0</td></tr><tr><th>29</th><td>852</td><td>1950-07-31</td><td>77.5</td><td>0.128</td><td>0.0</td><td>0.0</td><td>0.0</td></tr><tr><th>30</th><td>883</td><td>1950-08-31</td><td>75.8</td><td>0.128</td><td>0.0</td><td>0.0</td><td>0.0</td></tr><tr><th>&vellip;</th><td>&vellip;</td><td>&vellip;</td><td>&vellip;</td><td>&vellip;</td><td>&vellip;</td><td>&vellip;</td><td>&vellip;</td></tr></tbody></table>"
      ],
      "text/latex": [
       "\\begin{tabular}{r|cccccccc}\n",
       "\t& Day & Date & ISM Manufacturing & GDP q/q & S\\&P500 & S\\&P500 y/y & S\\&P500 m/m & \\\\\n",
       "\t\\hline\n",
       "\t& Int64 & Date… & Float64 & Float64 & Float64 & String & String? & \\\\\n",
       "\t\\hline\n",
       "\t1 & 0 & 1948-03-31 & 43.3 & 0.062 & 0.0 & 0.0 & 0.0 & $\\dots$ \\\\\n",
       "\t2 & 30 & 1948-04-30 & 45.4 & 0.062 & 0.0 & 0.0 & 0.0 & $\\dots$ \\\\\n",
       "\t3 & 61 & 1948-05-31 & 49.5 & 0.062 & 0.0 & 0.0 & 0.0 & $\\dots$ \\\\\n",
       "\t4 & 91 & 1948-06-30 & 53.0 & 0.068 & 0.0 & 0.0 & 0.0 & $\\dots$ \\\\\n",
       "\t5 & 122 & 1948-07-31 & 48.4 & 0.068 & 0.0 & 0.0 & 0.0 & $\\dots$ \\\\\n",
       "\t6 & 153 & 1948-08-31 & 45.1 & 0.068 & 0.0 & 0.0 & 0.0 & $\\dots$ \\\\\n",
       "\t7 & 183 & 1948-09-30 & 42.1 & 0.023 & 0.0 & 0.0 & 0.0 & $\\dots$ \\\\\n",
       "\t8 & 214 & 1948-10-31 & 47.2 & 0.023 & 0.0 & 0.0 & 0.0 & $\\dots$ \\\\\n",
       "\t9 & 244 & 1948-11-30 & 42.4 & 0.023 & 0.0 & 0.0 & 0.0 & $\\dots$ \\\\\n",
       "\t10 & 275 & 1948-12-31 & 35.0 & 0.004 & 0.0 & 0.0 & 0.0 & $\\dots$ \\\\\n",
       "\t11 & 306 & 1949-01-31 & 32.9 & 0.004 & 0.0 & 0.0 & 0.0 & $\\dots$ \\\\\n",
       "\t12 & 334 & 1949-02-28 & 31.3 & 0.004 & 0.0 & 0.0 & 0.0 & $\\dots$ \\\\\n",
       "\t13 & 365 & 1949-03-31 & 34.5 & -0.054 & 0.0 & 0.0 & 0.0 & $\\dots$ \\\\\n",
       "\t14 & 395 & 1949-04-30 & 35.5 & -0.054 & 0.0 & 0.0 & 0.0 & $\\dots$ \\\\\n",
       "\t15 & 426 & 1949-05-31 & 32.6 & -0.054 & 0.0 & 0.0 & 0.0 & $\\dots$ \\\\\n",
       "\t16 & 456 & 1949-06-30 & 31.6 & -0.014 & 0.0 & 0.0 & 0.0 & $\\dots$ \\\\\n",
       "\t17 & 487 & 1949-07-31 & 39.0 & -0.014 & 0.0 & 0.0 & 0.0 & $\\dots$ \\\\\n",
       "\t18 & 518 & 1949-08-31 & 47.0 & -0.014 & 0.0 & 0.0 & 0.0 & $\\dots$ \\\\\n",
       "\t19 & 548 & 1949-09-30 & 52.3 & 0.042 & 0.0 & 0.0 & 0.0 & $\\dots$ \\\\\n",
       "\t20 & 579 & 1949-10-31 & 51.0 & 0.042 & 0.0 & 0.0 & 0.0 & $\\dots$ \\\\\n",
       "\t21 & 609 & 1949-11-30 & 51.0 & 0.042 & 0.0 & 0.0 & 0.0 & $\\dots$ \\\\\n",
       "\t22 & 640 & 1949-12-31 & 57.3 & -0.033 & 0.0 & 0.0 & 0.0 & $\\dots$ \\\\\n",
       "\t23 & 671 & 1950-01-31 & 59.1 & -0.033 & 0.0 & 0.0 & 0.0 & $\\dots$ \\\\\n",
       "\t24 & 699 & 1950-02-28 & 60.5 & -0.033 & 0.0 & 0.0 & 0.0 & $\\dots$ \\\\\n",
       "\t25 & 730 & 1950-03-31 & 62.1 & 0.167 & 0.0 & 0.0 & 0.0 & $\\dots$ \\\\\n",
       "\t26 & 760 & 1950-04-30 & 68.1 & 0.167 & 0.0 & 0.0 & 0.0 & $\\dots$ \\\\\n",
       "\t27 & 791 & 1950-05-31 & 74.7 & 0.167 & 0.0 & 0.0 & 0.0 & $\\dots$ \\\\\n",
       "\t28 & 821 & 1950-06-30 & 76.6 & 0.128 & 0.0 & 0.0 & 0.0 & $\\dots$ \\\\\n",
       "\t29 & 852 & 1950-07-31 & 77.5 & 0.128 & 0.0 & 0.0 & 0.0 & $\\dots$ \\\\\n",
       "\t30 & 883 & 1950-08-31 & 75.8 & 0.128 & 0.0 & 0.0 & 0.0 & $\\dots$ \\\\\n",
       "\t$\\dots$ & $\\dots$ & $\\dots$ & $\\dots$ & $\\dots$ & $\\dots$ & $\\dots$ & $\\dots$ &  \\\\\n",
       "\\end{tabular}\n"
      ],
      "text/plain": [
       "100×11 DataFrame. Omitted printing of 6 columns\n",
       "│ Row │ Day   │ Date       │ ISM Manufacturing │ GDP q/q │ S&P500  │\n",
       "│     │ \u001b[90mInt64\u001b[39m │ \u001b[90mDates.Date\u001b[39m │ \u001b[90mFloat64\u001b[39m           │ \u001b[90mFloat64\u001b[39m │ \u001b[90mFloat64\u001b[39m │\n",
       "├─────┼───────┼────────────┼───────────────────┼─────────┼─────────┤\n",
       "│ 1   │ 0     │ 1948-03-31 │ 43.3              │ 0.062   │ 0.0     │\n",
       "│ 2   │ 30    │ 1948-04-30 │ 45.4              │ 0.062   │ 0.0     │\n",
       "│ 3   │ 61    │ 1948-05-31 │ 49.5              │ 0.062   │ 0.0     │\n",
       "│ 4   │ 91    │ 1948-06-30 │ 53.0              │ 0.068   │ 0.0     │\n",
       "│ 5   │ 122   │ 1948-07-31 │ 48.4              │ 0.068   │ 0.0     │\n",
       "│ 6   │ 153   │ 1948-08-31 │ 45.1              │ 0.068   │ 0.0     │\n",
       "│ 7   │ 183   │ 1948-09-30 │ 42.1              │ 0.023   │ 0.0     │\n",
       "│ 8   │ 214   │ 1948-10-31 │ 47.2              │ 0.023   │ 0.0     │\n",
       "│ 9   │ 244   │ 1948-11-30 │ 42.4              │ 0.023   │ 0.0     │\n",
       "│ 10  │ 275   │ 1948-12-31 │ 35.0              │ 0.004   │ 0.0     │\n",
       "⋮\n",
       "│ 90  │ 2709  │ 1955-08-31 │ 64.8              │ 0.067   │ 0.0     │\n",
       "│ 91  │ 2739  │ 1955-09-30 │ 62.4              │ 0.055   │ 0.0     │\n",
       "│ 92  │ 2770  │ 1955-10-31 │ 63.7              │ 0.055   │ 0.0     │\n",
       "│ 93  │ 2800  │ 1955-11-30 │ 62.0              │ 0.055   │ 0.0     │\n",
       "│ 94  │ 2831  │ 1955-12-31 │ 65.6              │ 0.024   │ 0.0     │\n",
       "│ 95  │ 2862  │ 1956-01-31 │ 60.2              │ 0.024   │ 0.0     │\n",
       "│ 96  │ 2891  │ 1956-02-29 │ 58.2              │ 0.024   │ 0.0     │\n",
       "│ 97  │ 2922  │ 1956-03-31 │ 57.2              │ -0.015  │ 0.0     │\n",
       "│ 98  │ 2952  │ 1956-04-30 │ 55.9              │ -0.015  │ 0.0     │\n",
       "│ 99  │ 2983  │ 1956-05-31 │ 51.2              │ -0.015  │ 0.0     │\n",
       "│ 100 │ 3013  │ 1956-06-30 │ 47.7              │ 0.033   │ 0.0     │"
      ]
     },
     "execution_count": 53,
     "metadata": {},
     "output_type": "execute_result"
    }
   ],
   "source": [
    "first(df, 100)"
   ]
  },
  {
   "cell_type": "code",
   "execution_count": 54,
   "metadata": {},
   "outputs": [
    {
     "data": {
      "text/html": [
       "<table class=\"data-frame\"><thead><tr><th></th><th>Day</th><th>Date</th><th>ISM Manufacturing</th><th>GDP q/q</th><th>S&amp;P500</th><th>S&amp;P500 y/y</th><th>S&amp;P500 m/m</th></tr><tr><th></th><th>Int64</th><th>Date…</th><th>Float64</th><th>Float64</th><th>Float64</th><th>String</th><th>String?</th></tr></thead><tbody><p>20 rows × 11 columns (omitted printing of 4 columns)</p><tr><th>1</th><td>25963</td><td>2019-05-01</td><td>51.6</td><td>0.031</td><td>2941.76</td><td>8.22%</td><td>6.89%</td></tr><tr><th>2</th><td>25993</td><td>2019-05-31</td><td>51.6</td><td>0.031</td><td>2941.76</td><td>8.22%</td><td>6.89%</td></tr><tr><th>3</th><td>26023</td><td>2019-06-30</td><td>51.6</td><td>0.02</td><td>2941.76</td><td>8.22%</td><td>6.89%</td></tr><tr><th>4</th><td>26024</td><td>2019-07-01</td><td>51.3</td><td>0.02</td><td>2980.38</td><td>5.83%</td><td>1.31%</td></tr><tr><th>5</th><td>26054</td><td>2019-07-31</td><td>51.3</td><td>0.02</td><td>2980.38</td><td>5.83%</td><td>1.31%</td></tr><tr><th>6</th><td>26055</td><td>2019-08-01</td><td>48.8</td><td>0.02</td><td>2926.46</td><td>0.86%</td><td>-1.81%</td></tr><tr><th>7</th><td>26085</td><td>2019-08-31</td><td>48.8</td><td>0.02</td><td>2926.46</td><td>0.86%</td><td>-1.81%</td></tr><tr><th>8</th><td>26086</td><td>2019-09-01</td><td>48.2</td><td>0.02</td><td>2976.74</td><td>2.15%</td><td>1.72%</td></tr><tr><th>9</th><td>26115</td><td>2019-09-30</td><td>48.2</td><td>0.021</td><td>2976.74</td><td>2.15%</td><td>1.72%</td></tr><tr><th>10</th><td>26116</td><td>2019-10-01</td><td>48.5</td><td>0.021</td><td>3037.56</td><td>12.02%</td><td>2.04%</td></tr><tr><th>11</th><td>26146</td><td>2019-10-31</td><td>48.5</td><td>0.021</td><td>3037.56</td><td>12.02%</td><td>2.04%</td></tr><tr><th>12</th><td>26147</td><td>2019-11-01</td><td>48.1</td><td>0.021</td><td>3140.98</td><td>13.80%</td><td>3.40%</td></tr><tr><th>13</th><td>26176</td><td>2019-11-30</td><td>48.1</td><td>0.021</td><td>3140.98</td><td>13.80%</td><td>3.40%</td></tr><tr><th>14</th><td>26177</td><td>2019-12-01</td><td>47.8</td><td>0.021</td><td>3230.78</td><td>28.88%</td><td>2.86%</td></tr><tr><th>15</th><td>26207</td><td>2019-12-31</td><td>47.8</td><td>0.021</td><td>3230.78</td><td>28.88%</td><td>2.86%</td></tr><tr><th>16</th><td>26208</td><td>2020-01-01</td><td>50.9</td><td>0.021</td><td>3225.52</td><td>19.28%</td><td>-0.16%</td></tr><tr><th>17</th><td>26238</td><td>2020-01-31</td><td>50.9</td><td>0.021</td><td>3225.52</td><td>19.28%</td><td>-0.16%</td></tr><tr><th>18</th><td>26239</td><td>2020-02-01</td><td>50.1</td><td>0.021</td><td>2954.22</td><td>6.10%</td><td>-8.41%</td></tr><tr><th>19</th><td>26267</td><td>2020-02-29</td><td>50.1</td><td>0.021</td><td>2954.22</td><td>6.10%</td><td>-8.41%</td></tr><tr><th>20</th><td>26298</td><td>2020-03-31</td><td>49.1</td><td>0.021</td><td>2954.22</td><td>6.10%</td><td>-8.41%</td></tr></tbody></table>"
      ],
      "text/latex": [
       "\\begin{tabular}{r|cccccccc}\n",
       "\t& Day & Date & ISM Manufacturing & GDP q/q & S\\&P500 & S\\&P500 y/y & S\\&P500 m/m & \\\\\n",
       "\t\\hline\n",
       "\t& Int64 & Date… & Float64 & Float64 & Float64 & String & String? & \\\\\n",
       "\t\\hline\n",
       "\t1 & 25963 & 2019-05-01 & 51.6 & 0.031 & 2941.76 & 8.22\\% & 6.89\\% & $\\dots$ \\\\\n",
       "\t2 & 25993 & 2019-05-31 & 51.6 & 0.031 & 2941.76 & 8.22\\% & 6.89\\% & $\\dots$ \\\\\n",
       "\t3 & 26023 & 2019-06-30 & 51.6 & 0.02 & 2941.76 & 8.22\\% & 6.89\\% & $\\dots$ \\\\\n",
       "\t4 & 26024 & 2019-07-01 & 51.3 & 0.02 & 2980.38 & 5.83\\% & 1.31\\% & $\\dots$ \\\\\n",
       "\t5 & 26054 & 2019-07-31 & 51.3 & 0.02 & 2980.38 & 5.83\\% & 1.31\\% & $\\dots$ \\\\\n",
       "\t6 & 26055 & 2019-08-01 & 48.8 & 0.02 & 2926.46 & 0.86\\% & -1.81\\% & $\\dots$ \\\\\n",
       "\t7 & 26085 & 2019-08-31 & 48.8 & 0.02 & 2926.46 & 0.86\\% & -1.81\\% & $\\dots$ \\\\\n",
       "\t8 & 26086 & 2019-09-01 & 48.2 & 0.02 & 2976.74 & 2.15\\% & 1.72\\% & $\\dots$ \\\\\n",
       "\t9 & 26115 & 2019-09-30 & 48.2 & 0.021 & 2976.74 & 2.15\\% & 1.72\\% & $\\dots$ \\\\\n",
       "\t10 & 26116 & 2019-10-01 & 48.5 & 0.021 & 3037.56 & 12.02\\% & 2.04\\% & $\\dots$ \\\\\n",
       "\t11 & 26146 & 2019-10-31 & 48.5 & 0.021 & 3037.56 & 12.02\\% & 2.04\\% & $\\dots$ \\\\\n",
       "\t12 & 26147 & 2019-11-01 & 48.1 & 0.021 & 3140.98 & 13.80\\% & 3.40\\% & $\\dots$ \\\\\n",
       "\t13 & 26176 & 2019-11-30 & 48.1 & 0.021 & 3140.98 & 13.80\\% & 3.40\\% & $\\dots$ \\\\\n",
       "\t14 & 26177 & 2019-12-01 & 47.8 & 0.021 & 3230.78 & 28.88\\% & 2.86\\% & $\\dots$ \\\\\n",
       "\t15 & 26207 & 2019-12-31 & 47.8 & 0.021 & 3230.78 & 28.88\\% & 2.86\\% & $\\dots$ \\\\\n",
       "\t16 & 26208 & 2020-01-01 & 50.9 & 0.021 & 3225.52 & 19.28\\% & -0.16\\% & $\\dots$ \\\\\n",
       "\t17 & 26238 & 2020-01-31 & 50.9 & 0.021 & 3225.52 & 19.28\\% & -0.16\\% & $\\dots$ \\\\\n",
       "\t18 & 26239 & 2020-02-01 & 50.1 & 0.021 & 2954.22 & 6.10\\% & -8.41\\% & $\\dots$ \\\\\n",
       "\t19 & 26267 & 2020-02-29 & 50.1 & 0.021 & 2954.22 & 6.10\\% & -8.41\\% & $\\dots$ \\\\\n",
       "\t20 & 26298 & 2020-03-31 & 49.1 & 0.021 & 2954.22 & 6.10\\% & -8.41\\% & $\\dots$ \\\\\n",
       "\\end{tabular}\n"
      ],
      "text/plain": [
       "20×11 DataFrame. Omitted printing of 6 columns\n",
       "│ Row │ Day   │ Date       │ ISM Manufacturing │ GDP q/q │ S&P500  │\n",
       "│     │ \u001b[90mInt64\u001b[39m │ \u001b[90mDates.Date\u001b[39m │ \u001b[90mFloat64\u001b[39m           │ \u001b[90mFloat64\u001b[39m │ \u001b[90mFloat64\u001b[39m │\n",
       "├─────┼───────┼────────────┼───────────────────┼─────────┼─────────┤\n",
       "│ 1   │ 25963 │ 2019-05-01 │ 51.6              │ 0.031   │ 2941.76 │\n",
       "│ 2   │ 25993 │ 2019-05-31 │ 51.6              │ 0.031   │ 2941.76 │\n",
       "│ 3   │ 26023 │ 2019-06-30 │ 51.6              │ 0.02    │ 2941.76 │\n",
       "│ 4   │ 26024 │ 2019-07-01 │ 51.3              │ 0.02    │ 2980.38 │\n",
       "│ 5   │ 26054 │ 2019-07-31 │ 51.3              │ 0.02    │ 2980.38 │\n",
       "│ 6   │ 26055 │ 2019-08-01 │ 48.8              │ 0.02    │ 2926.46 │\n",
       "│ 7   │ 26085 │ 2019-08-31 │ 48.8              │ 0.02    │ 2926.46 │\n",
       "│ 8   │ 26086 │ 2019-09-01 │ 48.2              │ 0.02    │ 2976.74 │\n",
       "│ 9   │ 26115 │ 2019-09-30 │ 48.2              │ 0.021   │ 2976.74 │\n",
       "│ 10  │ 26116 │ 2019-10-01 │ 48.5              │ 0.021   │ 3037.56 │\n",
       "│ 11  │ 26146 │ 2019-10-31 │ 48.5              │ 0.021   │ 3037.56 │\n",
       "│ 12  │ 26147 │ 2019-11-01 │ 48.1              │ 0.021   │ 3140.98 │\n",
       "│ 13  │ 26176 │ 2019-11-30 │ 48.1              │ 0.021   │ 3140.98 │\n",
       "│ 14  │ 26177 │ 2019-12-01 │ 47.8              │ 0.021   │ 3230.78 │\n",
       "│ 15  │ 26207 │ 2019-12-31 │ 47.8              │ 0.021   │ 3230.78 │\n",
       "│ 16  │ 26208 │ 2020-01-01 │ 50.9              │ 0.021   │ 3225.52 │\n",
       "│ 17  │ 26238 │ 2020-01-31 │ 50.9              │ 0.021   │ 3225.52 │\n",
       "│ 18  │ 26239 │ 2020-02-01 │ 50.1              │ 0.021   │ 2954.22 │\n",
       "│ 19  │ 26267 │ 2020-02-29 │ 50.1              │ 0.021   │ 2954.22 │\n",
       "│ 20  │ 26298 │ 2020-03-31 │ 49.1              │ 0.021   │ 2954.22 │"
      ]
     },
     "execution_count": 54,
     "metadata": {},
     "output_type": "execute_result"
    }
   ],
   "source": [
    "\n",
    "last(df, 20)"
   ]
  },
  {
   "cell_type": "markdown",
   "metadata": {},
   "source": [
    "# Write DataFrame to CSV file"
   ]
  },
  {
   "cell_type": "code",
   "execution_count": 55,
   "metadata": {},
   "outputs": [
    {
     "data": {
      "text/plain": [
       "\"market_indicators.csv\""
      ]
     },
     "execution_count": 55,
     "metadata": {},
     "output_type": "execute_result"
    }
   ],
   "source": [
    "CSV.write(file_name, df, delim=',', header=true)"
   ]
  },
  {
   "cell_type": "code",
   "execution_count": 56,
   "metadata": {},
   "outputs": [
    {
     "data": {
      "text/html": [
       "<table class=\"data-frame\"><thead><tr><th></th><th>Day</th><th>Date</th><th>ISM Manufacturing</th><th>GDP q/q</th><th>S&amp;P500</th><th>S&amp;P500 y/y</th><th>S&amp;P500 m/m</th></tr><tr><th></th><th>Int64</th><th>Date…</th><th>Float64</th><th>Float64</th><th>Float64</th><th>String</th><th>String</th></tr></thead><tbody><p>1,623 rows × 11 columns (omitted printing of 4 columns)</p><tr><th>1</th><td>0</td><td>1948-03-31</td><td>43.3</td><td>0.062</td><td>0.0</td><td>0.0</td><td>0.0</td></tr><tr><th>2</th><td>30</td><td>1948-04-30</td><td>45.4</td><td>0.062</td><td>0.0</td><td>0.0</td><td>0.0</td></tr><tr><th>3</th><td>61</td><td>1948-05-31</td><td>49.5</td><td>0.062</td><td>0.0</td><td>0.0</td><td>0.0</td></tr><tr><th>4</th><td>91</td><td>1948-06-30</td><td>53.0</td><td>0.068</td><td>0.0</td><td>0.0</td><td>0.0</td></tr><tr><th>5</th><td>122</td><td>1948-07-31</td><td>48.4</td><td>0.068</td><td>0.0</td><td>0.0</td><td>0.0</td></tr><tr><th>6</th><td>153</td><td>1948-08-31</td><td>45.1</td><td>0.068</td><td>0.0</td><td>0.0</td><td>0.0</td></tr><tr><th>7</th><td>183</td><td>1948-09-30</td><td>42.1</td><td>0.023</td><td>0.0</td><td>0.0</td><td>0.0</td></tr><tr><th>8</th><td>214</td><td>1948-10-31</td><td>47.2</td><td>0.023</td><td>0.0</td><td>0.0</td><td>0.0</td></tr><tr><th>9</th><td>244</td><td>1948-11-30</td><td>42.4</td><td>0.023</td><td>0.0</td><td>0.0</td><td>0.0</td></tr><tr><th>10</th><td>275</td><td>1948-12-31</td><td>35.0</td><td>0.004</td><td>0.0</td><td>0.0</td><td>0.0</td></tr><tr><th>11</th><td>306</td><td>1949-01-31</td><td>32.9</td><td>0.004</td><td>0.0</td><td>0.0</td><td>0.0</td></tr><tr><th>12</th><td>334</td><td>1949-02-28</td><td>31.3</td><td>0.004</td><td>0.0</td><td>0.0</td><td>0.0</td></tr><tr><th>13</th><td>365</td><td>1949-03-31</td><td>34.5</td><td>-0.054</td><td>0.0</td><td>0.0</td><td>0.0</td></tr><tr><th>14</th><td>395</td><td>1949-04-30</td><td>35.5</td><td>-0.054</td><td>0.0</td><td>0.0</td><td>0.0</td></tr><tr><th>15</th><td>426</td><td>1949-05-31</td><td>32.6</td><td>-0.054</td><td>0.0</td><td>0.0</td><td>0.0</td></tr><tr><th>16</th><td>456</td><td>1949-06-30</td><td>31.6</td><td>-0.014</td><td>0.0</td><td>0.0</td><td>0.0</td></tr><tr><th>17</th><td>487</td><td>1949-07-31</td><td>39.0</td><td>-0.014</td><td>0.0</td><td>0.0</td><td>0.0</td></tr><tr><th>18</th><td>518</td><td>1949-08-31</td><td>47.0</td><td>-0.014</td><td>0.0</td><td>0.0</td><td>0.0</td></tr><tr><th>19</th><td>548</td><td>1949-09-30</td><td>52.3</td><td>0.042</td><td>0.0</td><td>0.0</td><td>0.0</td></tr><tr><th>20</th><td>579</td><td>1949-10-31</td><td>51.0</td><td>0.042</td><td>0.0</td><td>0.0</td><td>0.0</td></tr><tr><th>21</th><td>609</td><td>1949-11-30</td><td>51.0</td><td>0.042</td><td>0.0</td><td>0.0</td><td>0.0</td></tr><tr><th>22</th><td>640</td><td>1949-12-31</td><td>57.3</td><td>-0.033</td><td>0.0</td><td>0.0</td><td>0.0</td></tr><tr><th>23</th><td>671</td><td>1950-01-31</td><td>59.1</td><td>-0.033</td><td>0.0</td><td>0.0</td><td>0.0</td></tr><tr><th>24</th><td>699</td><td>1950-02-28</td><td>60.5</td><td>-0.033</td><td>0.0</td><td>0.0</td><td>0.0</td></tr><tr><th>25</th><td>730</td><td>1950-03-31</td><td>62.1</td><td>0.167</td><td>0.0</td><td>0.0</td><td>0.0</td></tr><tr><th>26</th><td>760</td><td>1950-04-30</td><td>68.1</td><td>0.167</td><td>0.0</td><td>0.0</td><td>0.0</td></tr><tr><th>27</th><td>791</td><td>1950-05-31</td><td>74.7</td><td>0.167</td><td>0.0</td><td>0.0</td><td>0.0</td></tr><tr><th>28</th><td>821</td><td>1950-06-30</td><td>76.6</td><td>0.128</td><td>0.0</td><td>0.0</td><td>0.0</td></tr><tr><th>29</th><td>852</td><td>1950-07-31</td><td>77.5</td><td>0.128</td><td>0.0</td><td>0.0</td><td>0.0</td></tr><tr><th>30</th><td>883</td><td>1950-08-31</td><td>75.8</td><td>0.128</td><td>0.0</td><td>0.0</td><td>0.0</td></tr><tr><th>&vellip;</th><td>&vellip;</td><td>&vellip;</td><td>&vellip;</td><td>&vellip;</td><td>&vellip;</td><td>&vellip;</td><td>&vellip;</td></tr></tbody></table>"
      ],
      "text/latex": [
       "\\begin{tabular}{r|cccccccc}\n",
       "\t& Day & Date & ISM Manufacturing & GDP q/q & S\\&P500 & S\\&P500 y/y & S\\&P500 m/m & \\\\\n",
       "\t\\hline\n",
       "\t& Int64 & Date… & Float64 & Float64 & Float64 & String & String & \\\\\n",
       "\t\\hline\n",
       "\t1 & 0 & 1948-03-31 & 43.3 & 0.062 & 0.0 & 0.0 & 0.0 & $\\dots$ \\\\\n",
       "\t2 & 30 & 1948-04-30 & 45.4 & 0.062 & 0.0 & 0.0 & 0.0 & $\\dots$ \\\\\n",
       "\t3 & 61 & 1948-05-31 & 49.5 & 0.062 & 0.0 & 0.0 & 0.0 & $\\dots$ \\\\\n",
       "\t4 & 91 & 1948-06-30 & 53.0 & 0.068 & 0.0 & 0.0 & 0.0 & $\\dots$ \\\\\n",
       "\t5 & 122 & 1948-07-31 & 48.4 & 0.068 & 0.0 & 0.0 & 0.0 & $\\dots$ \\\\\n",
       "\t6 & 153 & 1948-08-31 & 45.1 & 0.068 & 0.0 & 0.0 & 0.0 & $\\dots$ \\\\\n",
       "\t7 & 183 & 1948-09-30 & 42.1 & 0.023 & 0.0 & 0.0 & 0.0 & $\\dots$ \\\\\n",
       "\t8 & 214 & 1948-10-31 & 47.2 & 0.023 & 0.0 & 0.0 & 0.0 & $\\dots$ \\\\\n",
       "\t9 & 244 & 1948-11-30 & 42.4 & 0.023 & 0.0 & 0.0 & 0.0 & $\\dots$ \\\\\n",
       "\t10 & 275 & 1948-12-31 & 35.0 & 0.004 & 0.0 & 0.0 & 0.0 & $\\dots$ \\\\\n",
       "\t11 & 306 & 1949-01-31 & 32.9 & 0.004 & 0.0 & 0.0 & 0.0 & $\\dots$ \\\\\n",
       "\t12 & 334 & 1949-02-28 & 31.3 & 0.004 & 0.0 & 0.0 & 0.0 & $\\dots$ \\\\\n",
       "\t13 & 365 & 1949-03-31 & 34.5 & -0.054 & 0.0 & 0.0 & 0.0 & $\\dots$ \\\\\n",
       "\t14 & 395 & 1949-04-30 & 35.5 & -0.054 & 0.0 & 0.0 & 0.0 & $\\dots$ \\\\\n",
       "\t15 & 426 & 1949-05-31 & 32.6 & -0.054 & 0.0 & 0.0 & 0.0 & $\\dots$ \\\\\n",
       "\t16 & 456 & 1949-06-30 & 31.6 & -0.014 & 0.0 & 0.0 & 0.0 & $\\dots$ \\\\\n",
       "\t17 & 487 & 1949-07-31 & 39.0 & -0.014 & 0.0 & 0.0 & 0.0 & $\\dots$ \\\\\n",
       "\t18 & 518 & 1949-08-31 & 47.0 & -0.014 & 0.0 & 0.0 & 0.0 & $\\dots$ \\\\\n",
       "\t19 & 548 & 1949-09-30 & 52.3 & 0.042 & 0.0 & 0.0 & 0.0 & $\\dots$ \\\\\n",
       "\t20 & 579 & 1949-10-31 & 51.0 & 0.042 & 0.0 & 0.0 & 0.0 & $\\dots$ \\\\\n",
       "\t21 & 609 & 1949-11-30 & 51.0 & 0.042 & 0.0 & 0.0 & 0.0 & $\\dots$ \\\\\n",
       "\t22 & 640 & 1949-12-31 & 57.3 & -0.033 & 0.0 & 0.0 & 0.0 & $\\dots$ \\\\\n",
       "\t23 & 671 & 1950-01-31 & 59.1 & -0.033 & 0.0 & 0.0 & 0.0 & $\\dots$ \\\\\n",
       "\t24 & 699 & 1950-02-28 & 60.5 & -0.033 & 0.0 & 0.0 & 0.0 & $\\dots$ \\\\\n",
       "\t25 & 730 & 1950-03-31 & 62.1 & 0.167 & 0.0 & 0.0 & 0.0 & $\\dots$ \\\\\n",
       "\t26 & 760 & 1950-04-30 & 68.1 & 0.167 & 0.0 & 0.0 & 0.0 & $\\dots$ \\\\\n",
       "\t27 & 791 & 1950-05-31 & 74.7 & 0.167 & 0.0 & 0.0 & 0.0 & $\\dots$ \\\\\n",
       "\t28 & 821 & 1950-06-30 & 76.6 & 0.128 & 0.0 & 0.0 & 0.0 & $\\dots$ \\\\\n",
       "\t29 & 852 & 1950-07-31 & 77.5 & 0.128 & 0.0 & 0.0 & 0.0 & $\\dots$ \\\\\n",
       "\t30 & 883 & 1950-08-31 & 75.8 & 0.128 & 0.0 & 0.0 & 0.0 & $\\dots$ \\\\\n",
       "\t$\\dots$ & $\\dots$ & $\\dots$ & $\\dots$ & $\\dots$ & $\\dots$ & $\\dots$ & $\\dots$ &  \\\\\n",
       "\\end{tabular}\n"
      ],
      "text/plain": [
       "1623×11 DataFrame. Omitted printing of 6 columns\n",
       "│ Row  │ Day   │ Date       │ ISM Manufacturing │ GDP q/q │ S&P500  │\n",
       "│      │ \u001b[90mInt64\u001b[39m │ \u001b[90mDates.Date\u001b[39m │ \u001b[90mFloat64\u001b[39m           │ \u001b[90mFloat64\u001b[39m │ \u001b[90mFloat64\u001b[39m │\n",
       "├──────┼───────┼────────────┼───────────────────┼─────────┼─────────┤\n",
       "│ 1    │ 0     │ 1948-03-31 │ 43.3              │ 0.062   │ 0.0     │\n",
       "│ 2    │ 30    │ 1948-04-30 │ 45.4              │ 0.062   │ 0.0     │\n",
       "│ 3    │ 61    │ 1948-05-31 │ 49.5              │ 0.062   │ 0.0     │\n",
       "│ 4    │ 91    │ 1948-06-30 │ 53.0              │ 0.068   │ 0.0     │\n",
       "│ 5    │ 122   │ 1948-07-31 │ 48.4              │ 0.068   │ 0.0     │\n",
       "│ 6    │ 153   │ 1948-08-31 │ 45.1              │ 0.068   │ 0.0     │\n",
       "│ 7    │ 183   │ 1948-09-30 │ 42.1              │ 0.023   │ 0.0     │\n",
       "│ 8    │ 214   │ 1948-10-31 │ 47.2              │ 0.023   │ 0.0     │\n",
       "│ 9    │ 244   │ 1948-11-30 │ 42.4              │ 0.023   │ 0.0     │\n",
       "│ 10   │ 275   │ 1948-12-31 │ 35.0              │ 0.004   │ 0.0     │\n",
       "⋮\n",
       "│ 1613 │ 26116 │ 2019-10-01 │ 48.5              │ 0.021   │ 3037.56 │\n",
       "│ 1614 │ 26146 │ 2019-10-31 │ 48.5              │ 0.021   │ 3037.56 │\n",
       "│ 1615 │ 26147 │ 2019-11-01 │ 48.1              │ 0.021   │ 3140.98 │\n",
       "│ 1616 │ 26176 │ 2019-11-30 │ 48.1              │ 0.021   │ 3140.98 │\n",
       "│ 1617 │ 26177 │ 2019-12-01 │ 47.8              │ 0.021   │ 3230.78 │\n",
       "│ 1618 │ 26207 │ 2019-12-31 │ 47.8              │ 0.021   │ 3230.78 │\n",
       "│ 1619 │ 26208 │ 2020-01-01 │ 50.9              │ 0.021   │ 3225.52 │\n",
       "│ 1620 │ 26238 │ 2020-01-31 │ 50.9              │ 0.021   │ 3225.52 │\n",
       "│ 1621 │ 26239 │ 2020-02-01 │ 50.1              │ 0.021   │ 2954.22 │\n",
       "│ 1622 │ 26267 │ 2020-02-29 │ 50.1              │ 0.021   │ 2954.22 │\n",
       "│ 1623 │ 26298 │ 2020-03-31 │ 49.1              │ 0.021   │ 2954.22 │"
      ]
     },
     "execution_count": 56,
     "metadata": {},
     "output_type": "execute_result"
    }
   ],
   "source": [
    "df = CSV.read(file_name)"
   ]
  },
  {
   "cell_type": "code",
   "execution_count": null,
   "metadata": {},
   "outputs": [],
   "source": []
  },
  {
   "cell_type": "code",
   "execution_count": null,
   "metadata": {},
   "outputs": [],
   "source": []
  }
 ],
 "metadata": {
  "kernelspec": {
   "display_name": "Julia 1.5.0",
   "language": "julia",
   "name": "julia-1.5"
  },
  "language_info": {
   "file_extension": ".jl",
   "mimetype": "application/julia",
   "name": "julia",
   "version": "1.5.0"
  },
  "toc": {
   "base_numbering": 1,
   "nav_menu": {},
   "number_sections": true,
   "sideBar": true,
   "skip_h1_title": false,
   "title_cell": "Table of Contents",
   "title_sidebar": "Contents",
   "toc_cell": false,
   "toc_position": {},
   "toc_section_display": true,
   "toc_window_display": false
  }
 },
 "nbformat": 4,
 "nbformat_minor": 4
}
