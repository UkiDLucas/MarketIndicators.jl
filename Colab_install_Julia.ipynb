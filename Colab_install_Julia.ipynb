{
  "nbformat": 4,
  "nbformat_minor": 0,
  "metadata": {
    "colab": {
      "name": "Colab_install_Julia.ipynb",
      "provenance": [],
      "toc_visible": true,
      "include_colab_link": true
    },
    "kernelspec": {
      "name": "python3",
      "display_name": "Python 3"
    },
    "accelerator": "GPU"
  },
  "cells": [
    {
      "cell_type": "markdown",
      "metadata": {
        "id": "view-in-github",
        "colab_type": "text"
      },
      "source": [
        "<a href=\"https://colab.research.google.com/github/UkiDLucas/MarketIndicators.jl/blob/master/Colab_install_Julia.ipynb\" target=\"_parent\"><img src=\"https://colab.research.google.com/assets/colab-badge.svg\" alt=\"Open In Colab\"/></a>"
      ]
    },
    {
      "cell_type": "code",
      "metadata": {
        "id": "IkBoS4xnpkq3",
        "colab_type": "code",
        "colab": {}
      },
      "source": [
        ""
      ],
      "execution_count": null,
      "outputs": []
    },
    {
      "cell_type": "markdown",
      "metadata": {
        "id": "bLSKjo7EplRz",
        "colab_type": "text"
      },
      "source": [
        "# Install Julia (1.5)\n",
        "\n",
        "- [Find newest \"Generic Linux on x86 64-bit (GPG)\"](https://julialang.org/downloads/)"
      ]
    },
    {
      "cell_type": "code",
      "metadata": {
        "id": "_OmwrMf1pLLW",
        "colab_type": "code",
        "colab": {}
      },
      "source": [
        "!curl -sSL \"https://julialang-s3.julialang.org/bin/linux/x64/1.5/julia-1.5.1-linux-x86_64.tar.gz\" -o julia.tar.gz\n",
        "!tar -xzf julia.tar.gz -C /usr --strip-components 1\n",
        "!rm -rf julia.tar.gz*\n",
        "#!julia -e 'using Pkg; pkg\"add IJulia; add CuArrays; add Flux; precompile\"'"
      ],
      "execution_count": null,
      "outputs": []
    },
    {
      "cell_type": "markdown",
      "metadata": {
        "id": "zArLzM5Lyv4d",
        "colab_type": "text"
      },
      "source": [
        "## Install IJulia (notebook)"
      ]
    },
    {
      "cell_type": "code",
      "metadata": {
        "id": "bqp7S32ULebR",
        "colab_type": "code",
        "colab": {
          "base_uri": "https://localhost:8080/",
          "height": 102
        },
        "outputId": "abccd190-a909-44f0-b185-c21dd8663248"
      },
      "source": [
        "!julia -e 'using Pkg; pkg\" add IJulia; precompile\"'"
      ],
      "execution_count": null,
      "outputs": [
        {
          "output_type": "stream",
          "text": [
            "\u001b[32m\u001b[1m   Updating\u001b[22m\u001b[39m registry at `~/.julia/registries/General`\n",
            "\u001b[32m\u001b[1m  Resolving\u001b[22m\u001b[39m package versions...\n",
            "\u001b[32m\u001b[1mNo Changes\u001b[22m\u001b[39m to `~/.julia/environments/v1.5/Project.toml`\n",
            "\u001b[32m\u001b[1mNo Changes\u001b[22m\u001b[39m to `~/.julia/environments/v1.5/Manifest.toml`\n",
            "\u001b[32m\u001b[1mPrecompiling\u001b[22m\u001b[39m project...\n"
          ],
          "name": "stdout"
        }
      ]
    },
    {
      "cell_type": "markdown",
      "metadata": {
        "id": "HxpMeAuyy2Ri",
        "colab_type": "text"
      },
      "source": [
        "## Install Flux (machine learning)"
      ]
    },
    {
      "cell_type": "code",
      "metadata": {
        "id": "J1E6eo4cw1BJ",
        "colab_type": "code",
        "colab": {
          "base_uri": "https://localhost:8080/",
          "height": 102
        },
        "outputId": "e8abd9d3-b652-4e76-c4b8-75411dcb6eb3"
      },
      "source": [
        "!julia -e 'using Pkg; pkg\" add Flux; precompile\"'"
      ],
      "execution_count": null,
      "outputs": [
        {
          "output_type": "stream",
          "text": [
            "\u001b[32m\u001b[1m   Updating\u001b[22m\u001b[39m registry at `~/.julia/registries/General`\n",
            "\u001b[32m\u001b[1m  Resolving\u001b[22m\u001b[39m package versions...\n",
            "\u001b[32m\u001b[1mNo Changes\u001b[22m\u001b[39m to `~/.julia/environments/v1.5/Project.toml`\n",
            "\u001b[32m\u001b[1mNo Changes\u001b[22m\u001b[39m to `~/.julia/environments/v1.5/Manifest.toml`\n",
            "\u001b[32m\u001b[1mPrecompiling\u001b[22m\u001b[39m project...\n"
          ],
          "name": "stdout"
        }
      ]
    },
    {
      "cell_type": "markdown",
      "metadata": {
        "id": "puWJ9HSvy7tG",
        "colab_type": "text"
      },
      "source": [
        "## Install Cuda Arrays"
      ]
    },
    {
      "cell_type": "code",
      "metadata": {
        "id": "hfMJeZ9UwCNY",
        "colab_type": "code",
        "colab": {
          "base_uri": "https://localhost:8080/",
          "height": 102
        },
        "outputId": "6365026d-2c54-40ff-8edb-309219c49609"
      },
      "source": [
        "!julia -e 'using Pkg; pkg\" add CuArrays; precompile\"'"
      ],
      "execution_count": null,
      "outputs": [
        {
          "output_type": "stream",
          "text": [
            "\u001b[32m\u001b[1m   Updating\u001b[22m\u001b[39m registry at `~/.julia/registries/General`\n",
            "\u001b[32m\u001b[1m  Resolving\u001b[22m\u001b[39m package versions...\n",
            "\u001b[32m\u001b[1mNo Changes\u001b[22m\u001b[39m to `~/.julia/environments/v1.5/Project.toml`\n",
            "\u001b[32m\u001b[1mNo Changes\u001b[22m\u001b[39m to `~/.julia/environments/v1.5/Manifest.toml`\n",
            "\u001b[32m\u001b[1mPrecompiling\u001b[22m\u001b[39m project...\n"
          ],
          "name": "stdout"
        }
      ]
    },
    {
      "cell_type": "code",
      "metadata": {
        "id": "b00_nlUMxQJ5",
        "colab_type": "code",
        "colab": {}
      },
      "source": [
        ""
      ],
      "execution_count": null,
      "outputs": []
    },
    {
      "cell_type": "markdown",
      "metadata": {
        "id": "CwWy7lNUuv_v",
        "colab_type": "text"
      },
      "source": [
        "# Install CUDA\n",
        "\n",
        "This is probably **unnecessary** Colab will have them already."
      ]
    },
    {
      "cell_type": "code",
      "metadata": {
        "id": "cEOANYIVIdR5",
        "colab_type": "code",
        "colab": {
          "base_uri": "https://localhost:8080/",
          "height": 411
        },
        "outputId": "0760adf6-c3b2-4d33-9f9e-46253e915b3e"
      },
      "source": [
        "# !wget https://developer.nvidia.com/compute/cuda/9.0/Prod/local_installers/cuda-repo-ubuntu1604-9-0-local_9.0.176-1_amd64-deb\n",
        "# !dpkg -i cuda-repo-ubuntu1604-9-0-local_9.0.176-1_amd64-deb\n",
        "# !apt-key add /var/cuda-repo-9-0-local/7fa2af80.pub\n",
        "!apt update -q\n",
        "#!apt install cuda gcc-6 g++-6 -y -q\n",
        "#!ln -s /usr/bin/gcc-6 /usr/local/cuda/bin/gcc\n",
        "#!ln -s /usr/bin/g++-6 /usr/local/cuda/bin/g++\n",
        "\n",
        "\n"
      ],
      "execution_count": null,
      "outputs": [
        {
          "output_type": "stream",
          "text": [
            "Hit:1 http://ppa.launchpad.net/graphics-drivers/ppa/ubuntu bionic InRelease\n",
            "Hit:2 http://archive.ubuntu.com/ubuntu bionic InRelease\n",
            "Get:3 http://archive.ubuntu.com/ubuntu bionic-updates InRelease [88.7 kB]\n",
            "Get:4 http://ppa.launchpad.net/marutter/c2d4u3.5/ubuntu bionic InRelease [15.4 kB]\n",
            "Get:5 https://cloud.r-project.org/bin/linux/ubuntu bionic-cran35/ InRelease [3,626 B]\n",
            "Get:6 http://archive.ubuntu.com/ubuntu bionic-backports InRelease [74.6 kB]\n",
            "Get:7 http://security.ubuntu.com/ubuntu bionic-security InRelease [88.7 kB]\n",
            "Ign:8 https://developer.download.nvidia.com/compute/cuda/repos/ubuntu1804/x86_64  InRelease\n",
            "Ign:9 https://developer.download.nvidia.com/compute/machine-learning/repos/ubuntu1804/x86_64  InRelease\n",
            "Hit:10 https://developer.download.nvidia.com/compute/cuda/repos/ubuntu1804/x86_64  Release\n",
            "Hit:11 https://developer.download.nvidia.com/compute/machine-learning/repos/ubuntu1804/x86_64  Release\n",
            "Get:12 http://ppa.launchpad.net/marutter/c2d4u3.5/ubuntu bionic/main Sources [1,867 kB]\n",
            "Get:13 http://ppa.launchpad.net/marutter/c2d4u3.5/ubuntu bionic/main amd64 Packages [901 kB]\n",
            "Get:14 https://cloud.r-project.org/bin/linux/ubuntu bionic-cran35/ Packages [96.1 kB]\n",
            "Get:15 http://archive.ubuntu.com/ubuntu bionic-updates/universe amd64 Packages [1,426 kB]\n",
            "Get:16 http://archive.ubuntu.com/ubuntu bionic-updates/main amd64 Packages [1,384 kB]\n",
            "Get:19 http://security.ubuntu.com/ubuntu bionic-security/universe amd64 Packages [898 kB]\n",
            "Fetched 6,844 kB in 2s (2,803 kB/s)\n",
            "Reading package lists...\n",
            "Building dependency tree...\n",
            "Reading state information...\n",
            "12 packages can be upgraded. Run 'apt list --upgradable' to see them.\n"
          ],
          "name": "stdout"
        }
      ]
    },
    {
      "cell_type": "markdown",
      "metadata": {
        "id": "l8b3Lu1pzHOD",
        "colab_type": "text"
      },
      "source": [
        "# Upgrade Linux on Colab "
      ]
    },
    {
      "cell_type": "code",
      "metadata": {
        "id": "IWnoimNXxv9S",
        "colab_type": "code",
        "colab": {
          "base_uri": "https://localhost:8080/",
          "height": 258
        },
        "outputId": "209ad0b4-0fa8-41c6-a870-0dbff13b9fb2"
      },
      "source": [
        "!apt list --upgradable"
      ],
      "execution_count": null,
      "outputs": [
        {
          "output_type": "stream",
          "text": [
            "\rListing... 0%\r\rListing... 0%\r\rListing... 0%\r\rListing... Done\r\n",
            "\u001b[32mbase-files\u001b[0m/bionic-updates 10.1ubuntu2.10 amd64 [upgradable from: 10.1ubuntu2.9]\n",
            "\u001b[32mlibcublas-dev\u001b[0m/unknown 10.2.2.214-1 amd64 [upgradable from: 10.2.1.243-1]\n",
            "\u001b[32mlibcublas10\u001b[0m/unknown 10.2.2.214-1 amd64 [upgradable from: 10.2.1.243-1]\n",
            "\u001b[32mlibcudnn7\u001b[0m/unknown 7.6.5.32-1+cuda10.2 amd64 [upgradable from: 7.6.5.32-1+cuda10.1]\n",
            "\u001b[32mlibcudnn7-dev\u001b[0m/unknown 7.6.5.32-1+cuda10.2 amd64 [upgradable from: 7.6.5.32-1+cuda10.1]\n",
            "\u001b[32mlibnccl-dev\u001b[0m/unknown 2.7.8-1+cuda11.0 amd64 [upgradable from: 2.7.8-1+cuda10.1]\n",
            "\u001b[32mlibnccl2\u001b[0m/unknown 2.7.8-1+cuda11.0 amd64 [upgradable from: 2.7.8-1+cuda10.1]\n",
            "\u001b[32mlibpam-modules\u001b[0m/bionic-updates 1.1.8-3.6ubuntu2.18.04.2 amd64 [upgradable from: 1.1.8-3.6ubuntu2.18.04.1]\n",
            "\u001b[32mlibpam-modules-bin\u001b[0m/bionic-updates 1.1.8-3.6ubuntu2.18.04.2 amd64 [upgradable from: 1.1.8-3.6ubuntu2.18.04.1]\n",
            "\u001b[32mlibpam-runtime\u001b[0m/bionic-updates 1.1.8-3.6ubuntu2.18.04.2 all [upgradable from: 1.1.8-3.6ubuntu2.18.04.1]\n",
            "\u001b[32mlibpam0g\u001b[0m/bionic-updates 1.1.8-3.6ubuntu2.18.04.2 amd64 [upgradable from: 1.1.8-3.6ubuntu2.18.04.1]\n",
            "\u001b[32mr-cran-mass\u001b[0m/bionic-cran35 7.3-53-1.1804.0 amd64 [upgradable from: 7.3-53-1cran1.1804.0]\n"
          ],
          "name": "stdout"
        }
      ]
    },
    {
      "cell_type": "code",
      "metadata": {
        "id": "IED51xZ8x1z8",
        "colab_type": "code",
        "colab": {
          "base_uri": "https://localhost:8080/",
          "height": 1000
        },
        "outputId": "e9dfaed5-0f4c-4c71-8780-6abb8b35f2b1"
      },
      "source": [
        "!apt upgrade"
      ],
      "execution_count": null,
      "outputs": [
        {
          "output_type": "stream",
          "text": [
            "Reading package lists... Done\n",
            "Building dependency tree       \n",
            "Reading state information... Done\n",
            "Calculating upgrade... Done\n",
            "The following packages have been kept back:\n",
            "  libcudnn7 libcudnn7-dev libnccl-dev libnccl2\n",
            "The following packages will be upgraded:\n",
            "  base-files libcublas-dev libcublas10 libpam-modules libpam-modules-bin\n",
            "  libpam-runtime libpam0g r-cran-mass\n",
            "8 upgraded, 0 newly installed, 0 to remove and 4 not upgraded.\n",
            "Need to get 87.1 MB of archives.\n",
            "After this operation, 10.2 MB of additional disk space will be used.\n",
            "Get:1 http://archive.ubuntu.com/ubuntu bionic-updates/main amd64 base-files amd64 10.1ubuntu2.10 [60.4 kB]\n",
            "Get:2 https://developer.download.nvidia.com/compute/cuda/repos/ubuntu1804/x86_64  libcublas10 10.2.2.214-1 [43.1 MB]\n",
            "Get:3 https://cloud.r-project.org/bin/linux/ubuntu bionic-cran35/ r-cran-mass 7.3-53-1.1804.0 [1,118 kB]\n",
            "Get:4 http://archive.ubuntu.com/ubuntu bionic-updates/main amd64 libpam0g amd64 1.1.8-3.6ubuntu2.18.04.2 [54.9 kB]\n",
            "Get:5 http://archive.ubuntu.com/ubuntu bionic-updates/main amd64 libpam-modules-bin amd64 1.1.8-3.6ubuntu2.18.04.2 [36.7 kB]\n",
            "Get:6 http://archive.ubuntu.com/ubuntu bionic-updates/main amd64 libpam-modules amd64 1.1.8-3.6ubuntu2.18.04.2 [242 kB]\n",
            "Get:7 http://archive.ubuntu.com/ubuntu bionic-updates/main amd64 libpam-runtime all 1.1.8-3.6ubuntu2.18.04.2 [37.1 kB]\n",
            "Get:8 https://developer.download.nvidia.com/compute/cuda/repos/ubuntu1804/x86_64  libcublas-dev 10.2.2.214-1 [42.4 MB]\n",
            "Fetched 87.1 MB in 2s (51.7 MB/s)\n",
            "Preconfiguring packages ...\n",
            "(Reading database ... 144599 files and directories currently installed.)\n",
            "Preparing to unpack .../base-files_10.1ubuntu2.10_amd64.deb ...\n",
            "Unpacking base-files (10.1ubuntu2.10) over (10.1ubuntu2.9) ...\n",
            "Setting up base-files (10.1ubuntu2.10) ...\n",
            "Installing new version of config file /etc/update-motd.d/50-motd-news ...\n",
            "Removing obsolete conffile /etc/default/motd-news ...\n",
            "(Reading database ... 144598 files and directories currently installed.)\n",
            "Preparing to unpack .../libpam0g_1.1.8-3.6ubuntu2.18.04.2_amd64.deb ...\n",
            "Unpacking libpam0g:amd64 (1.1.8-3.6ubuntu2.18.04.2) over (1.1.8-3.6ubuntu2.18.04.1) ...\n",
            "Setting up libpam0g:amd64 (1.1.8-3.6ubuntu2.18.04.2) ...\n",
            "(Reading database ... 144598 files and directories currently installed.)\n",
            "Preparing to unpack .../libpam-modules-bin_1.1.8-3.6ubuntu2.18.04.2_amd64.deb ...\n",
            "Unpacking libpam-modules-bin (1.1.8-3.6ubuntu2.18.04.2) over (1.1.8-3.6ubuntu2.18.04.1) ...\n",
            "Setting up libpam-modules-bin (1.1.8-3.6ubuntu2.18.04.2) ...\n",
            "(Reading database ... 144598 files and directories currently installed.)\n",
            "Preparing to unpack .../libpam-modules_1.1.8-3.6ubuntu2.18.04.2_amd64.deb ...\n",
            "Unpacking libpam-modules:amd64 (1.1.8-3.6ubuntu2.18.04.2) over (1.1.8-3.6ubuntu2.18.04.1) ...\n",
            "Setting up libpam-modules:amd64 (1.1.8-3.6ubuntu2.18.04.2) ...\n",
            "(Reading database ... 144598 files and directories currently installed.)\n",
            "Preparing to unpack .../libpam-runtime_1.1.8-3.6ubuntu2.18.04.2_all.deb ...\n",
            "Unpacking libpam-runtime (1.1.8-3.6ubuntu2.18.04.2) over (1.1.8-3.6ubuntu2.18.04.1) ...\n",
            "Setting up libpam-runtime (1.1.8-3.6ubuntu2.18.04.2) ...\n",
            "(Reading database ... 144598 files and directories currently installed.)\n",
            "Preparing to unpack .../libcublas10_10.2.2.214-1_amd64.deb ...\n",
            "Unpacking libcublas10 (10.2.2.214-1) over (10.2.1.243-1) ...\n",
            "Preparing to unpack .../libcublas-dev_10.2.2.214-1_amd64.deb ...\n",
            "Unpacking libcublas-dev (10.2.2.214-1) over (10.2.1.243-1) ...\n",
            "Preparing to unpack .../r-cran-mass_7.3-53-1.1804.0_amd64.deb ...\n",
            "Unpacking r-cran-mass (7.3-53-1.1804.0) over (7.3-53-1cran1.1804.0) ...\n",
            "Setting up libcublas10 (10.2.2.214-1) ...\n",
            "Setting up libcublas-dev (10.2.2.214-1) ...\n",
            "Setting up r-cran-mass (7.3-53-1.1804.0) ...\n",
            "Processing triggers for man-db (2.8.3-2ubuntu0.1) ...\n",
            "Processing triggers for libc-bin (2.27-3ubuntu1.2) ...\n",
            "/sbin/ldconfig.real: /usr/local/lib/python3.6/dist-packages/ideep4py/lib/libmkldnn.so.0 is not a symbolic link\n",
            "\n"
          ],
          "name": "stdout"
        }
      ]
    },
    {
      "cell_type": "code",
      "metadata": {
        "id": "aFv21iRryFfY",
        "colab_type": "code",
        "colab": {}
      },
      "source": [
        ""
      ],
      "execution_count": null,
      "outputs": []
    }
  ]
}