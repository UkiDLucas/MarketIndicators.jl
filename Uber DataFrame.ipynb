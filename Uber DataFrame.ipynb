{
 "cells": [
  {
   "cell_type": "markdown",
   "metadata": {},
   "source": [
    "# Uber DataFrame\n",
    "- This notebook combines multiple Market indicators into one massive DataFrame\n",
    "- That DataFrame will be used for Machine Learning"
   ]
  },
  {
   "cell_type": "markdown",
   "metadata": {
    "toc": true
   },
   "source": [
    "<h1>Table of Contents<span class=\"tocSkip\"></span></h1>\n",
    "<div class=\"toc\"><ul class=\"toc-item\"><li><span><a href=\"#Set-Up\" data-toc-modified-id=\"Set-Up-1\"><span class=\"toc-item-num\">1&nbsp;&nbsp;</span>Set Up</a></span></li><li><span><a href=\"#Fetch-Data\" data-toc-modified-id=\"Fetch-Data-2\"><span class=\"toc-item-num\">2&nbsp;&nbsp;</span>Fetch Data</a></span></li><li><span><a href=\"#Find-Common-Date-Span\" data-toc-modified-id=\"Find-Common-Date-Span-3\"><span class=\"toc-item-num\">3&nbsp;&nbsp;</span>Find Common Date Span</a></span></li><li><span><a href=\"#Visualize-the-dependencies\" data-toc-modified-id=\"Visualize-the-dependencies-4\"><span class=\"toc-item-num\">4&nbsp;&nbsp;</span>Visualize the dependencies</a></span><ul class=\"toc-item\"><li><span><a href=\"#Preview-Content\" data-toc-modified-id=\"Preview-Content-4.1\"><span class=\"toc-item-num\">4.1&nbsp;&nbsp;</span>Preview Content</a></span></li></ul></li></ul></div>"
   ]
  },
  {
   "cell_type": "markdown",
   "metadata": {},
   "source": [
    "## Set Up"
   ]
  },
  {
   "cell_type": "code",
   "execution_count": 1,
   "metadata": {},
   "outputs": [
    {
     "name": "stdout",
     "output_type": "stream",
     "text": [
      "\n",
      "\n",
      "\n"
     ]
    }
   ],
   "source": [
    "dir=\"./Data/processed/\"\n",
    "\n",
    "dataset_file_name = \"uber.csv\"\n",
    "\n",
    "file1 = \"^DJI.csv\"\n",
    "file2 = \"united-states.ism-manufacturing-employment.csv\"\n",
    "file3 = \"united-states.housing-starts-mm.csv\"\n",
    "\n",
    "\n",
    "include(\"MarketIndicators.jl\") \n",
    "println()"
   ]
  },
  {
   "cell_type": "markdown",
   "metadata": {},
   "source": [
    "## Fetch Data"
   ]
  },
  {
   "cell_type": "code",
   "execution_count": 2,
   "metadata": {},
   "outputs": [
    {
     "name": "stdout",
     "output_type": "stream",
     "text": [
      "./Data/processed/^DJI.csv\n"
     ]
    },
    {
     "data": {
      "text/html": [
       "<table class=\"data-frame\"><thead><tr><th></th><th>variable</th><th>mean</th><th>min</th><th>median</th><th>max</th><th>nunique</th><th>nmissing</th><th>eltype</th></tr><tr><th></th><th>Symbol</th><th>Union…</th><th>Any</th><th>Union…</th><th>Any</th><th>Union…</th><th>Nothing</th><th>DataType</th></tr></thead><tbody><p>9 rows × 8 columns</p><tr><th>1</th><td>Day</td><td>731202.0</td><td>724670</td><td>731202.0</td><td>737735</td><td></td><td></td><td>Int64</td></tr><tr><th>2</th><td>Date</td><td></td><td>1985-01-29</td><td></td><td>2020-11-06</td><td>13066</td><td></td><td>Date</td></tr><tr><th>3</th><td>Value</td><td>-46.5783</td><td>-128.0</td><td>-47.0</td><td>127.0</td><td></td><td></td><td>Float64</td></tr><tr><th>4</th><td>Original</td><td>10292.9</td><td>1251.21</td><td>10198.5</td><td>29568.6</td><td></td><td></td><td>Float64</td></tr><tr><th>5</th><td>Avg005</td><td>-46.5765</td><td>-128.0</td><td>-47.4</td><td>126.4</td><td></td><td></td><td>Float64</td></tr><tr><th>6</th><td>Avg030</td><td>-46.5606</td><td>-128.0</td><td>-47.13</td><td>123.63</td><td></td><td></td><td>Float64</td></tr><tr><th>7</th><td>Avg090</td><td>-46.5292</td><td>-127.97</td><td>-46.64</td><td>119.87</td><td></td><td></td><td>Float64</td></tr><tr><th>8</th><td>Avg180</td><td>-46.4564</td><td>-127.64</td><td>-46.78</td><td>112.75</td><td></td><td></td><td>Float64</td></tr><tr><th>9</th><td>Avg365</td><td>-46.226</td><td>-126.98</td><td>-46.84</td><td>105.19</td><td></td><td></td><td>Float64</td></tr></tbody></table>"
      ],
      "text/latex": [
       "\\begin{tabular}{r|cccccccc}\n",
       "\t& variable & mean & min & median & max & nunique & nmissing & eltype\\\\\n",
       "\t\\hline\n",
       "\t& Symbol & Union… & Any & Union… & Any & Union… & Nothing & DataType\\\\\n",
       "\t\\hline\n",
       "\t1 & Day & 731202.0 & 724670 & 731202.0 & 737735 &  &  & Int64 \\\\\n",
       "\t2 & Date &  & 1985-01-29 &  & 2020-11-06 & 13066 &  & Date \\\\\n",
       "\t3 & Value & -46.5783 & -128.0 & -47.0 & 127.0 &  &  & Float64 \\\\\n",
       "\t4 & Original & 10292.9 & 1251.21 & 10198.5 & 29568.6 &  &  & Float64 \\\\\n",
       "\t5 & Avg005 & -46.5765 & -128.0 & -47.4 & 126.4 &  &  & Float64 \\\\\n",
       "\t6 & Avg030 & -46.5606 & -128.0 & -47.13 & 123.63 &  &  & Float64 \\\\\n",
       "\t7 & Avg090 & -46.5292 & -127.97 & -46.64 & 119.87 &  &  & Float64 \\\\\n",
       "\t8 & Avg180 & -46.4564 & -127.64 & -46.78 & 112.75 &  &  & Float64 \\\\\n",
       "\t9 & Avg365 & -46.226 & -126.98 & -46.84 & 105.19 &  &  & Float64 \\\\\n",
       "\\end{tabular}\n"
      ],
      "text/plain": [
       "9×8 DataFrame. Omitted printing of 2 columns\n",
       "│ Row │ variable │ mean     │ min        │ median   │ max        │ nunique │\n",
       "│     │ \u001b[90mSymbol\u001b[39m   │ \u001b[90mUnion…\u001b[39m   │ \u001b[90mAny\u001b[39m        │ \u001b[90mUnion…\u001b[39m   │ \u001b[90mAny\u001b[39m        │ \u001b[90mUnion…\u001b[39m  │\n",
       "├─────┼──────────┼──────────┼────────────┼──────────┼────────────┼─────────┤\n",
       "│ 1   │ Day      │ 731202.0 │ 724670     │ 731202.0 │ 737735     │         │\n",
       "│ 2   │ Date     │          │ 1985-01-29 │          │ 2020-11-06 │ 13066   │\n",
       "│ 3   │ Value    │ -46.5783 │ -128.0     │ -47.0    │ 127.0      │         │\n",
       "│ 4   │ Original │ 10292.9  │ 1251.21    │ 10198.5  │ 29568.6    │         │\n",
       "│ 5   │ Avg005   │ -46.5765 │ -128.0     │ -47.4    │ 126.4      │         │\n",
       "│ 6   │ Avg030   │ -46.5606 │ -128.0     │ -47.13   │ 123.63     │         │\n",
       "│ 7   │ Avg090   │ -46.5292 │ -127.97    │ -46.64   │ 119.87     │         │\n",
       "│ 8   │ Avg180   │ -46.4564 │ -127.64    │ -46.78   │ 112.75     │         │\n",
       "│ 9   │ Avg365   │ -46.226  │ -126.98    │ -46.84   │ 105.19     │         │"
      ]
     },
     "execution_count": 2,
     "metadata": {},
     "output_type": "execute_result"
    }
   ],
   "source": [
    "df1 = fetch_dataset( file1 , \"yyyy-mm-dd\", dir )\n",
    "\n",
    "using Statistics\n",
    "describe(df1)"
   ]
  },
  {
   "cell_type": "code",
   "execution_count": 3,
   "metadata": {},
   "outputs": [
    {
     "name": "stdout",
     "output_type": "stream",
     "text": [
      "./Data/processed/united-states.ism-manufacturing-employment.csv\n"
     ]
    },
    {
     "data": {
      "text/html": [
       "<table class=\"data-frame\"><thead><tr><th></th><th>variable</th><th>mean</th><th>min</th><th>median</th><th>max</th><th>nunique</th><th>nmissing</th><th>eltype</th></tr><tr><th></th><th>Symbol</th><th>Union…</th><th>Any</th><th>Union…</th><th>Any</th><th>Union…</th><th>Nothing</th><th>DataType</th></tr></thead><tbody><p>9 rows × 8 columns</p><tr><th>1</th><td>Day</td><td>736452.0</td><td>735173</td><td>736452.0</td><td>737731</td><td></td><td></td><td>Int64</td></tr><tr><th>2</th><td>Date</td><td></td><td>2013-11-01</td><td></td><td>2020-11-02</td><td>2559</td><td></td><td>Date</td></tr><tr><th>3</th><td>Value</td><td>64.2564</td><td>-128.0</td><td>69.0</td><td>127.0</td><td></td><td></td><td>Float64</td></tr><tr><th>4</th><td>Original</td><td>52.2247</td><td>27.5</td><td>52.8</td><td>60.3</td><td></td><td></td><td>Float64</td></tr><tr><th>5</th><td>Avg005</td><td>64.1569</td><td>-128.0</td><td>69.0</td><td>127.0</td><td></td><td></td><td>Float64</td></tr><tr><th>6</th><td>Avg030</td><td>63.5885</td><td>-128.0</td><td>70.33</td><td>127.0</td><td></td><td></td><td>Float64</td></tr><tr><th>7</th><td>Avg090</td><td>62.2339</td><td>-79.27</td><td>72.78</td><td>124.68</td><td></td><td></td><td>Float64</td></tr><tr><th>8</th><td>Avg180</td><td>61.0588</td><td>-36.78</td><td>70.09</td><td>114.71</td><td></td><td></td><td>Float64</td></tr><tr><th>9</th><td>Avg365</td><td>59.2222</td><td>-8.1</td><td>65.89</td><td>106.14</td><td></td><td></td><td>Float64</td></tr></tbody></table>"
      ],
      "text/latex": [
       "\\begin{tabular}{r|cccccccc}\n",
       "\t& variable & mean & min & median & max & nunique & nmissing & eltype\\\\\n",
       "\t\\hline\n",
       "\t& Symbol & Union… & Any & Union… & Any & Union… & Nothing & DataType\\\\\n",
       "\t\\hline\n",
       "\t1 & Day & 736452.0 & 735173 & 736452.0 & 737731 &  &  & Int64 \\\\\n",
       "\t2 & Date &  & 2013-11-01 &  & 2020-11-02 & 2559 &  & Date \\\\\n",
       "\t3 & Value & 64.2564 & -128.0 & 69.0 & 127.0 &  &  & Float64 \\\\\n",
       "\t4 & Original & 52.2247 & 27.5 & 52.8 & 60.3 &  &  & Float64 \\\\\n",
       "\t5 & Avg005 & 64.1569 & -128.0 & 69.0 & 127.0 &  &  & Float64 \\\\\n",
       "\t6 & Avg030 & 63.5885 & -128.0 & 70.33 & 127.0 &  &  & Float64 \\\\\n",
       "\t7 & Avg090 & 62.2339 & -79.27 & 72.78 & 124.68 &  &  & Float64 \\\\\n",
       "\t8 & Avg180 & 61.0588 & -36.78 & 70.09 & 114.71 &  &  & Float64 \\\\\n",
       "\t9 & Avg365 & 59.2222 & -8.1 & 65.89 & 106.14 &  &  & Float64 \\\\\n",
       "\\end{tabular}\n"
      ],
      "text/plain": [
       "9×8 DataFrame. Omitted printing of 2 columns\n",
       "│ Row │ variable │ mean     │ min        │ median   │ max        │ nunique │\n",
       "│     │ \u001b[90mSymbol\u001b[39m   │ \u001b[90mUnion…\u001b[39m   │ \u001b[90mAny\u001b[39m        │ \u001b[90mUnion…\u001b[39m   │ \u001b[90mAny\u001b[39m        │ \u001b[90mUnion…\u001b[39m  │\n",
       "├─────┼──────────┼──────────┼────────────┼──────────┼────────────┼─────────┤\n",
       "│ 1   │ Day      │ 736452.0 │ 735173     │ 736452.0 │ 737731     │         │\n",
       "│ 2   │ Date     │          │ 2013-11-01 │          │ 2020-11-02 │ 2559    │\n",
       "│ 3   │ Value    │ 64.2564  │ -128.0     │ 69.0     │ 127.0      │         │\n",
       "│ 4   │ Original │ 52.2247  │ 27.5       │ 52.8     │ 60.3       │         │\n",
       "│ 5   │ Avg005   │ 64.1569  │ -128.0     │ 69.0     │ 127.0      │         │\n",
       "│ 6   │ Avg030   │ 63.5885  │ -128.0     │ 70.33    │ 127.0      │         │\n",
       "│ 7   │ Avg090   │ 62.2339  │ -79.27     │ 72.78    │ 124.68     │         │\n",
       "│ 8   │ Avg180   │ 61.0588  │ -36.78     │ 70.09    │ 114.71     │         │\n",
       "│ 9   │ Avg365   │ 59.2222  │ -8.1       │ 65.89    │ 106.14     │         │"
      ]
     },
     "execution_count": 3,
     "metadata": {},
     "output_type": "execute_result"
    }
   ],
   "source": [
    "df2 = fetch_dataset( file2 , \"yyyy-mm-dd\", dir )\n",
    "\n",
    "using Statistics\n",
    "describe(df2)"
   ]
  },
  {
   "cell_type": "code",
   "execution_count": 4,
   "metadata": {
    "scrolled": true
   },
   "outputs": [
    {
     "name": "stdout",
     "output_type": "stream",
     "text": [
      "./Data/processed/united-states.housing-starts-mm.csv\n"
     ]
    },
    {
     "data": {
      "text/html": [
       "<table class=\"data-frame\"><thead><tr><th></th><th>variable</th><th>mean</th><th>min</th><th>median</th><th>max</th><th>nunique</th><th>nmissing</th><th>eltype</th></tr><tr><th></th><th>Symbol</th><th>Union…</th><th>Any</th><th>Union…</th><th>Any</th><th>Union…</th><th>Nothing</th><th>DataType</th></tr></thead><tbody><p>7 rows × 8 columns</p><tr><th>1</th><td>Day</td><td>736846.0</td><td>735975</td><td>736846.0</td><td>737718</td><td></td><td></td><td>Int64</td></tr><tr><th>2</th><td>Date</td><td></td><td>2016-01-12</td><td></td><td>2020-10-20</td><td>1744</td><td></td><td>Date</td></tr><tr><th>3</th><td>Value</td><td>11.0195</td><td>-128.0</td><td>9.0</td><td>127.0</td><td></td><td></td><td>Float64</td></tr><tr><th>4</th><td>Original</td><td>0.17328</td><td>-30.2</td><td>-0.3</td><td>25.5</td><td></td><td></td><td>Float64</td></tr><tr><th>5</th><td>Avg090</td><td>10.1343</td><td>-74.04</td><td>11.01</td><td>78.98</td><td></td><td></td><td>Float64</td></tr><tr><th>6</th><td>Avg180</td><td>9.01821</td><td>-17.92</td><td>10.025</td><td>28.67</td><td></td><td></td><td>Float64</td></tr><tr><th>7</th><td>Avg365</td><td>8.58735</td><td>-3.9</td><td>9.63</td><td>21.17</td><td></td><td></td><td>Float64</td></tr></tbody></table>"
      ],
      "text/latex": [
       "\\begin{tabular}{r|cccccccc}\n",
       "\t& variable & mean & min & median & max & nunique & nmissing & eltype\\\\\n",
       "\t\\hline\n",
       "\t& Symbol & Union… & Any & Union… & Any & Union… & Nothing & DataType\\\\\n",
       "\t\\hline\n",
       "\t1 & Day & 736846.0 & 735975 & 736846.0 & 737718 &  &  & Int64 \\\\\n",
       "\t2 & Date &  & 2016-01-12 &  & 2020-10-20 & 1744 &  & Date \\\\\n",
       "\t3 & Value & 11.0195 & -128.0 & 9.0 & 127.0 &  &  & Float64 \\\\\n",
       "\t4 & Original & 0.17328 & -30.2 & -0.3 & 25.5 &  &  & Float64 \\\\\n",
       "\t5 & Avg090 & 10.1343 & -74.04 & 11.01 & 78.98 &  &  & Float64 \\\\\n",
       "\t6 & Avg180 & 9.01821 & -17.92 & 10.025 & 28.67 &  &  & Float64 \\\\\n",
       "\t7 & Avg365 & 8.58735 & -3.9 & 9.63 & 21.17 &  &  & Float64 \\\\\n",
       "\\end{tabular}\n"
      ],
      "text/plain": [
       "7×8 DataFrame. Omitted printing of 2 columns\n",
       "│ Row │ variable │ mean     │ min        │ median   │ max        │ nunique │\n",
       "│     │ \u001b[90mSymbol\u001b[39m   │ \u001b[90mUnion…\u001b[39m   │ \u001b[90mAny\u001b[39m        │ \u001b[90mUnion…\u001b[39m   │ \u001b[90mAny\u001b[39m        │ \u001b[90mUnion…\u001b[39m  │\n",
       "├─────┼──────────┼──────────┼────────────┼──────────┼────────────┼─────────┤\n",
       "│ 1   │ Day      │ 736846.0 │ 735975     │ 736846.0 │ 737718     │         │\n",
       "│ 2   │ Date     │          │ 2016-01-12 │          │ 2020-10-20 │ 1744    │\n",
       "│ 3   │ Value    │ 11.0195  │ -128.0     │ 9.0      │ 127.0      │         │\n",
       "│ 4   │ Original │ 0.17328  │ -30.2      │ -0.3     │ 25.5       │         │\n",
       "│ 5   │ Avg090   │ 10.1343  │ -74.04     │ 11.01    │ 78.98      │         │\n",
       "│ 6   │ Avg180   │ 9.01821  │ -17.92     │ 10.025   │ 28.67      │         │\n",
       "│ 7   │ Avg365   │ 8.58735  │ -3.9       │ 9.63     │ 21.17      │         │"
      ]
     },
     "execution_count": 4,
     "metadata": {},
     "output_type": "execute_result"
    }
   ],
   "source": [
    "df3 = fetch_dataset( file3 , \"yyyy-mm-dd\", dir )\n",
    "\n",
    "using Statistics\n",
    "describe(df3)"
   ]
  },
  {
   "cell_type": "markdown",
   "metadata": {},
   "source": [
    "## Find Common Date Span\n",
    "\n",
    "Example:\n",
    "- for all the DataFrames\n",
    "- find lowest dates\n",
    "- select the highest (common) of them"
   ]
  },
  {
   "cell_type": "code",
   "execution_count": 5,
   "metadata": {},
   "outputs": [
    {
     "data": {
      "text/plain": [
       "735975"
      ]
     },
     "execution_count": 5,
     "metadata": {},
     "output_type": "execute_result"
    }
   ],
   "source": [
    "oldest_common_day = maximum([minimum(df1[:,1]), minimum(df2[:,1]), minimum(df3[:,1])])\n",
    "#735975\n"
   ]
  },
  {
   "cell_type": "code",
   "execution_count": 6,
   "metadata": {},
   "outputs": [
    {
     "data": {
      "text/plain": [
       "737718"
      ]
     },
     "execution_count": 6,
     "metadata": {},
     "output_type": "execute_result"
    }
   ],
   "source": [
    "newest_common_day = minimum([maximum(df1[:,1]), maximum(df2[:,1]), maximum(df3[:,1])])\n",
    "#737718"
   ]
  },
  {
   "cell_type": "code",
   "execution_count": 7,
   "metadata": {},
   "outputs": [
    {
     "data": {
      "text/plain": [
       "11306:13049"
      ]
     },
     "execution_count": 7,
     "metadata": {},
     "output_type": "execute_result"
    }
   ],
   "source": [
    "df1_min_id = find_day(df1, oldest_common_day)\n",
    "df1_max_id = find_day(df1, newest_common_day)\n",
    "df1_rows_range = df1_min_id:df1_max_id"
   ]
  },
  {
   "cell_type": "code",
   "execution_count": 8,
   "metadata": {},
   "outputs": [
    {
     "data": {
      "text/plain": [
       "803:2546"
      ]
     },
     "execution_count": 8,
     "metadata": {},
     "output_type": "execute_result"
    }
   ],
   "source": [
    "df2_min_id = find_day(df2, oldest_common_day)\n",
    "df2_max_id = find_day(df2, newest_common_day)\n",
    "df2_rows_range = df2_min_id:df2_max_id"
   ]
  },
  {
   "cell_type": "code",
   "execution_count": 9,
   "metadata": {},
   "outputs": [
    {
     "data": {
      "text/plain": [
       "1:1744"
      ]
     },
     "execution_count": 9,
     "metadata": {},
     "output_type": "execute_result"
    }
   ],
   "source": [
    "df3_min_id = find_day(df3, oldest_common_day)\n",
    "df3_max_id = find_day(df3, newest_common_day)\n",
    "df3_rows_range = df3_min_id:df3_max_id"
   ]
  },
  {
   "cell_type": "code",
   "execution_count": 14,
   "metadata": {},
   "outputs": [
    {
     "ename": "LoadError",
     "evalue": "syntax: missing last argument in \"df2_rows_range:\" range expression ",
     "output_type": "error",
     "traceback": [
      "syntax: missing last argument in \"df2_rows_range:\" range expression ",
      ""
     ]
    }
   ],
   "source": [
    "using DataFrames\n",
    "uber_df = DataFrame(  Day                   = df1[df1_rows_range,1] \n",
    "                     ,Date                  = df1[df1_rows_range,2] \n",
    "                     ,DJIA_Value            = df1[df1_rows_range,3] \n",
    "                     ,DJIA_Original         = df1[df1_rows_range,4] \n",
    "                     ,DJIA_Avg005           = df1[df1_rows_range,5] \n",
    "                     ,DJIA_Avg030           = df1[df1_rows_range,6] \n",
    "                     ,DJIA_Avg090           = df1[df1_rows_range,7] \n",
    "                     ,DJIA_Avg180           = df1[df1_rows_range,8] \n",
    "                     ,DJIA_Avg365           = df1[df1_rows_range,9] \n",
    "                     ,ISM_MFC_EMP_Value     = df2[df2_rows_range:,3]\n",
    "                     ,ISM_MFC_EMP_Original  = df2[df2_rows_range:,4] \n",
    "                     ,ISM_MFC_EMP_Avg005    = df2[df2_rows_range:,5] \n",
    "                     ,ISM_MFC_EMP_Avg030    = df2[df2_rows_range:,6] \n",
    "                     ,ISM_MFC_EMP_Avg090    = df2[df2_rows_range:,7] \n",
    "                     ,ISM_MFC_EMP_Avg180    = df2[df2_rows_range:,8] \n",
    "                     ,ISM_MFC_EMP_Avg365    = df2[df2_rows_range:,9]\n",
    "                     ,HOUSE_SRT_MM_Value    = df3[df3_rows_range:,3]\n",
    "                     ,HOUSE_SRT_MM_Original = df3[df3_rows_range:,4] \n",
    "                     ,HOUSE_SRT_MM_Avg090   = df3[df3_rows_range:,7] \n",
    "                     ,HOUSE_SRT_MM_Avg180   = df3[df3_rows_range:,8] \n",
    "                     ,HOUSE_SRT_MM_Avg365   = df3[df3_rows_range:,9]\n",
    "                   )\n",
    "\n",
    "using Statistics\n",
    "describe(uber_df)"
   ]
  },
  {
   "cell_type": "markdown",
   "metadata": {},
   "source": [
    "## Visualize the dependencies"
   ]
  },
  {
   "cell_type": "code",
   "execution_count": 11,
   "metadata": {},
   "outputs": [
    {
     "ename": "UndefVarError",
     "evalue": "UndefVarError: uber_df not defined",
     "output_type": "error",
     "traceback": [
      "UndefVarError: uber_df not defined",
      "",
      "Stacktrace:",
      " [1] top-level scope at In[11]:1"
     ]
    }
   ],
   "source": [
    "columns = preview_data(uber_df, 3)\n",
    "println()"
   ]
  },
  {
   "cell_type": "code",
   "execution_count": 12,
   "metadata": {},
   "outputs": [
    {
     "ename": "UndefVarError",
     "evalue": "UndefVarError: uber_df not defined",
     "output_type": "error",
     "traceback": [
      "UndefVarError: uber_df not defined",
      "",
      "Stacktrace:",
      " [1] top-level scope at In[12]:2"
     ]
    }
   ],
   "source": [
    "using Plots\n",
    "\n",
    "record_count = size(uber_df)[1]\n",
    "rows = 1:record_count\n",
    "dates = format_dates( uber_df[rows,2] , \"m/d/yy\")\n",
    "\n",
    "gr()\n",
    "plot(          dates, # x-axis: dates\n",
    "               [  uber_df[rows,7] uber_df[rows,10]/4       ], # y-axis\n",
    "    label    = [       columns[7]      columns[10]    \"\" ],\n",
    "    legend   =:topleft, \n",
    "              # :right, :left, :top, :bottom, :inside, :best, :legend, :topright, :topleft, :bottomleft, :bottomright\n",
    "    xlabel   = \"time\",\n",
    "    ylabel   = \"indicators\",\n",
    "    size     = (980, 400), # width, height\n",
    "    layout = (1, 1) # number of graphs: vertically, horizontally\n",
    "    )"
   ]
  },
  {
   "cell_type": "markdown",
   "metadata": {},
   "source": [
    "### Preview Content"
   ]
  },
  {
   "cell_type": "code",
   "execution_count": 13,
   "metadata": {},
   "outputs": [
    {
     "ename": "UndefVarError",
     "evalue": "UndefVarError: uber_df not defined",
     "output_type": "error",
     "traceback": [
      "UndefVarError: uber_df not defined",
      "",
      "Stacktrace:",
      " [1] top-level scope at In[13]:1"
     ]
    }
   ],
   "source": [
    "save_dataset(uber_df, dataset_file_name );"
   ]
  },
  {
   "cell_type": "code",
   "execution_count": null,
   "metadata": {},
   "outputs": [],
   "source": []
  }
 ],
 "metadata": {
  "kernelspec": {
   "display_name": "Julia 1.4.2",
   "language": "julia",
   "name": "julia-1.4"
  },
  "language_info": {
   "file_extension": ".jl",
   "mimetype": "application/julia",
   "name": "julia",
   "version": "1.4.2"
  },
  "toc": {
   "base_numbering": 1,
   "nav_menu": {},
   "number_sections": true,
   "sideBar": true,
   "skip_h1_title": true,
   "title_cell": "Table of Contents",
   "title_sidebar": "Contents",
   "toc_cell": true,
   "toc_position": {},
   "toc_section_display": true,
   "toc_window_display": true
  }
 },
 "nbformat": 4,
 "nbformat_minor": 4
}
