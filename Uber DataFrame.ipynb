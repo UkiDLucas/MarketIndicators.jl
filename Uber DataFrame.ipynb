{
 "cells": [
  {
   "cell_type": "markdown",
   "metadata": {},
   "source": [
    "# Uber DataFrame\n",
    "- This notebook combines multiple Market indicators into one massive DataFrame\n",
    "- That DataFrame will be used for Machine Learning"
   ]
  },
  {
   "cell_type": "markdown",
   "metadata": {
    "toc": true
   },
   "source": [
    "<h1>Table of Contents<span class=\"tocSkip\"></span></h1>\n",
    "<div class=\"toc\"><ul class=\"toc-item\"><li><span><a href=\"#Set-Up\" data-toc-modified-id=\"Set-Up-1\"><span class=\"toc-item-num\">1&nbsp;&nbsp;</span>Set Up</a></span></li><li><span><a href=\"#Fetch-Data\" data-toc-modified-id=\"Fetch-Data-2\"><span class=\"toc-item-num\">2&nbsp;&nbsp;</span>Fetch Data</a></span><ul class=\"toc-item\"><li><span><a href=\"#Preview-Content\" data-toc-modified-id=\"Preview-Content-2.1\"><span class=\"toc-item-num\">2.1&nbsp;&nbsp;</span>Preview Content</a></span></li></ul></li><li><span><a href=\"#Rename-Columns-and-Merge-into-Single-DataFrame\" data-toc-modified-id=\"Rename-Columns-and-Merge-into-Single-DataFrame-3\"><span class=\"toc-item-num\">3&nbsp;&nbsp;</span>Rename Columns and Merge into Single DataFrame</a></span></li></ul></div>"
   ]
  },
  {
   "cell_type": "markdown",
   "metadata": {},
   "source": [
    "## Set Up"
   ]
  },
  {
   "cell_type": "code",
   "execution_count": 1,
   "metadata": {},
   "outputs": [
    {
     "name": "stdout",
     "output_type": "stream",
     "text": [
      "\n",
      "\n",
      "\n"
     ]
    }
   ],
   "source": [
    "dir=\"./Data/processed/\"\n",
    "\n",
    "file1 = \"^DJI.csv\"\n",
    "file2 = \"united-states.ism-manufacturing-employment.csv\"\n",
    "\n",
    "\n",
    "include(\"MarketIndicators.jl\") \n",
    "println()"
   ]
  },
  {
   "cell_type": "markdown",
   "metadata": {},
   "source": [
    "## Fetch Data"
   ]
  },
  {
   "cell_type": "code",
   "execution_count": 11,
   "metadata": {},
   "outputs": [
    {
     "name": "stdout",
     "output_type": "stream",
     "text": [
      "./Data/processed/^DJI.csv\n",
      "df1_min_day: 724670\n",
      "df1_max_day: 737735\n"
     ]
    },
    {
     "data": {
      "text/html": [
       "<table class=\"data-frame\"><thead><tr><th></th><th>variable</th><th>mean</th><th>min</th><th>median</th><th>max</th><th>nunique</th><th>nmissing</th><th>eltype</th></tr><tr><th></th><th>Symbol</th><th>Union…</th><th>Any</th><th>Union…</th><th>Any</th><th>Union…</th><th>Nothing</th><th>DataType</th></tr></thead><tbody><p>9 rows × 8 columns</p><tr><th>1</th><td>Day</td><td>731202.0</td><td>724670</td><td>731202.0</td><td>737735</td><td></td><td></td><td>Int64</td></tr><tr><th>2</th><td>Date</td><td></td><td>1985-01-29</td><td></td><td>2020-11-06</td><td>13066</td><td></td><td>Date</td></tr><tr><th>3</th><td>Value</td><td>-46.5783</td><td>-128.0</td><td>-47.0</td><td>127.0</td><td></td><td></td><td>Float64</td></tr><tr><th>4</th><td>Original</td><td>10292.9</td><td>1251.21</td><td>10198.5</td><td>29568.6</td><td></td><td></td><td>Float64</td></tr><tr><th>5</th><td>Avg005</td><td>-46.5765</td><td>-128.0</td><td>-47.4</td><td>126.4</td><td></td><td></td><td>Float64</td></tr><tr><th>6</th><td>Avg030</td><td>-46.5606</td><td>-128.0</td><td>-47.13</td><td>123.63</td><td></td><td></td><td>Float64</td></tr><tr><th>7</th><td>Avg090</td><td>-46.5292</td><td>-127.97</td><td>-46.64</td><td>119.87</td><td></td><td></td><td>Float64</td></tr><tr><th>8</th><td>Avg180</td><td>-46.4564</td><td>-127.64</td><td>-46.78</td><td>112.75</td><td></td><td></td><td>Float64</td></tr><tr><th>9</th><td>Avg365</td><td>-46.226</td><td>-126.98</td><td>-46.84</td><td>105.19</td><td></td><td></td><td>Float64</td></tr></tbody></table>"
      ],
      "text/latex": [
       "\\begin{tabular}{r|cccccccc}\n",
       "\t& variable & mean & min & median & max & nunique & nmissing & eltype\\\\\n",
       "\t\\hline\n",
       "\t& Symbol & Union… & Any & Union… & Any & Union… & Nothing & DataType\\\\\n",
       "\t\\hline\n",
       "\t1 & Day & 731202.0 & 724670 & 731202.0 & 737735 &  &  & Int64 \\\\\n",
       "\t2 & Date &  & 1985-01-29 &  & 2020-11-06 & 13066 &  & Date \\\\\n",
       "\t3 & Value & -46.5783 & -128.0 & -47.0 & 127.0 &  &  & Float64 \\\\\n",
       "\t4 & Original & 10292.9 & 1251.21 & 10198.5 & 29568.6 &  &  & Float64 \\\\\n",
       "\t5 & Avg005 & -46.5765 & -128.0 & -47.4 & 126.4 &  &  & Float64 \\\\\n",
       "\t6 & Avg030 & -46.5606 & -128.0 & -47.13 & 123.63 &  &  & Float64 \\\\\n",
       "\t7 & Avg090 & -46.5292 & -127.97 & -46.64 & 119.87 &  &  & Float64 \\\\\n",
       "\t8 & Avg180 & -46.4564 & -127.64 & -46.78 & 112.75 &  &  & Float64 \\\\\n",
       "\t9 & Avg365 & -46.226 & -126.98 & -46.84 & 105.19 &  &  & Float64 \\\\\n",
       "\\end{tabular}\n"
      ],
      "text/plain": [
       "9×8 DataFrame. Omitted printing of 2 columns\n",
       "│ Row │ variable │ mean     │ min        │ median   │ max        │ nunique │\n",
       "│     │ \u001b[90mSymbol\u001b[39m   │ \u001b[90mUnion…\u001b[39m   │ \u001b[90mAny\u001b[39m        │ \u001b[90mUnion…\u001b[39m   │ \u001b[90mAny\u001b[39m        │ \u001b[90mUnion…\u001b[39m  │\n",
       "├─────┼──────────┼──────────┼────────────┼──────────┼────────────┼─────────┤\n",
       "│ 1   │ Day      │ 731202.0 │ 724670     │ 731202.0 │ 737735     │         │\n",
       "│ 2   │ Date     │          │ 1985-01-29 │          │ 2020-11-06 │ 13066   │\n",
       "│ 3   │ Value    │ -46.5783 │ -128.0     │ -47.0    │ 127.0      │         │\n",
       "│ 4   │ Original │ 10292.9  │ 1251.21    │ 10198.5  │ 29568.6    │         │\n",
       "│ 5   │ Avg005   │ -46.5765 │ -128.0     │ -47.4    │ 126.4      │         │\n",
       "│ 6   │ Avg030   │ -46.5606 │ -128.0     │ -47.13   │ 123.63     │         │\n",
       "│ 7   │ Avg090   │ -46.5292 │ -127.97    │ -46.64   │ 119.87     │         │\n",
       "│ 8   │ Avg180   │ -46.4564 │ -127.64    │ -46.78   │ 112.75     │         │\n",
       "│ 9   │ Avg365   │ -46.226  │ -126.98    │ -46.84   │ 105.19     │         │"
      ]
     },
     "execution_count": 11,
     "metadata": {},
     "output_type": "execute_result"
    }
   ],
   "source": [
    "df1 = fetch_dataset( file1 , \"yyyy-mm-dd\", dir )\n",
    "\n",
    "df1_min_day = minimum(df1[:,1])\n",
    "println(\"df1_min_day: \", df1_min_day)\n",
    "\n",
    "df1_max_day = maximum(df1[:,1])\n",
    "println(\"df1_max_day: \", df1_max_day)\n",
    "\n",
    "using Statistics\n",
    "describe(df1)"
   ]
  },
  {
   "cell_type": "code",
   "execution_count": 12,
   "metadata": {
    "scrolled": false
   },
   "outputs": [
    {
     "name": "stdout",
     "output_type": "stream",
     "text": [
      "./Data/processed/united-states.ism-manufacturing-employment.csv\n",
      "df2_min_day: 735173\n",
      "df2_max_day: 737731\n"
     ]
    },
    {
     "data": {
      "text/html": [
       "<table class=\"data-frame\"><thead><tr><th></th><th>variable</th><th>mean</th><th>min</th><th>median</th><th>max</th><th>nunique</th><th>nmissing</th><th>eltype</th></tr><tr><th></th><th>Symbol</th><th>Union…</th><th>Any</th><th>Union…</th><th>Any</th><th>Union…</th><th>Nothing</th><th>DataType</th></tr></thead><tbody><p>9 rows × 8 columns</p><tr><th>1</th><td>Day</td><td>736452.0</td><td>735173</td><td>736452.0</td><td>737731</td><td></td><td></td><td>Int64</td></tr><tr><th>2</th><td>Date</td><td></td><td>2013-11-01</td><td></td><td>2020-11-02</td><td>2559</td><td></td><td>Date</td></tr><tr><th>3</th><td>Value</td><td>64.2564</td><td>-128.0</td><td>69.0</td><td>127.0</td><td></td><td></td><td>Float64</td></tr><tr><th>4</th><td>Original</td><td>52.2247</td><td>27.5</td><td>52.8</td><td>60.3</td><td></td><td></td><td>Float64</td></tr><tr><th>5</th><td>Avg005</td><td>64.1569</td><td>-128.0</td><td>69.0</td><td>127.0</td><td></td><td></td><td>Float64</td></tr><tr><th>6</th><td>Avg030</td><td>63.5885</td><td>-128.0</td><td>70.33</td><td>127.0</td><td></td><td></td><td>Float64</td></tr><tr><th>7</th><td>Avg090</td><td>62.2339</td><td>-79.27</td><td>72.78</td><td>124.68</td><td></td><td></td><td>Float64</td></tr><tr><th>8</th><td>Avg180</td><td>61.0588</td><td>-36.78</td><td>70.09</td><td>114.71</td><td></td><td></td><td>Float64</td></tr><tr><th>9</th><td>Avg365</td><td>59.2222</td><td>-8.1</td><td>65.89</td><td>106.14</td><td></td><td></td><td>Float64</td></tr></tbody></table>"
      ],
      "text/latex": [
       "\\begin{tabular}{r|cccccccc}\n",
       "\t& variable & mean & min & median & max & nunique & nmissing & eltype\\\\\n",
       "\t\\hline\n",
       "\t& Symbol & Union… & Any & Union… & Any & Union… & Nothing & DataType\\\\\n",
       "\t\\hline\n",
       "\t1 & Day & 736452.0 & 735173 & 736452.0 & 737731 &  &  & Int64 \\\\\n",
       "\t2 & Date &  & 2013-11-01 &  & 2020-11-02 & 2559 &  & Date \\\\\n",
       "\t3 & Value & 64.2564 & -128.0 & 69.0 & 127.0 &  &  & Float64 \\\\\n",
       "\t4 & Original & 52.2247 & 27.5 & 52.8 & 60.3 &  &  & Float64 \\\\\n",
       "\t5 & Avg005 & 64.1569 & -128.0 & 69.0 & 127.0 &  &  & Float64 \\\\\n",
       "\t6 & Avg030 & 63.5885 & -128.0 & 70.33 & 127.0 &  &  & Float64 \\\\\n",
       "\t7 & Avg090 & 62.2339 & -79.27 & 72.78 & 124.68 &  &  & Float64 \\\\\n",
       "\t8 & Avg180 & 61.0588 & -36.78 & 70.09 & 114.71 &  &  & Float64 \\\\\n",
       "\t9 & Avg365 & 59.2222 & -8.1 & 65.89 & 106.14 &  &  & Float64 \\\\\n",
       "\\end{tabular}\n"
      ],
      "text/plain": [
       "9×8 DataFrame. Omitted printing of 2 columns\n",
       "│ Row │ variable │ mean     │ min        │ median   │ max        │ nunique │\n",
       "│     │ \u001b[90mSymbol\u001b[39m   │ \u001b[90mUnion…\u001b[39m   │ \u001b[90mAny\u001b[39m        │ \u001b[90mUnion…\u001b[39m   │ \u001b[90mAny\u001b[39m        │ \u001b[90mUnion…\u001b[39m  │\n",
       "├─────┼──────────┼──────────┼────────────┼──────────┼────────────┼─────────┤\n",
       "│ 1   │ Day      │ 736452.0 │ 735173     │ 736452.0 │ 737731     │         │\n",
       "│ 2   │ Date     │          │ 2013-11-01 │          │ 2020-11-02 │ 2559    │\n",
       "│ 3   │ Value    │ 64.2564  │ -128.0     │ 69.0     │ 127.0      │         │\n",
       "│ 4   │ Original │ 52.2247  │ 27.5       │ 52.8     │ 60.3       │         │\n",
       "│ 5   │ Avg005   │ 64.1569  │ -128.0     │ 69.0     │ 127.0      │         │\n",
       "│ 6   │ Avg030   │ 63.5885  │ -128.0     │ 70.33    │ 127.0      │         │\n",
       "│ 7   │ Avg090   │ 62.2339  │ -79.27     │ 72.78    │ 124.68     │         │\n",
       "│ 8   │ Avg180   │ 61.0588  │ -36.78     │ 70.09    │ 114.71     │         │\n",
       "│ 9   │ Avg365   │ 59.2222  │ -8.1       │ 65.89    │ 106.14     │         │"
      ]
     },
     "execution_count": 12,
     "metadata": {},
     "output_type": "execute_result"
    }
   ],
   "source": [
    "df2 = fetch_dataset( file2 , \"yyyy-mm-dd\", dir )\n",
    "\n",
    "\n",
    "df2_min_day = minimum(df2[:,1])\n",
    "println(\"df2_min_day: \", df2_min_day)\n",
    "\n",
    "df2_max_day = maximum(df2[:,1])\n",
    "println(\"df2_max_day: \", df2_max_day)\n",
    "\n",
    "\n",
    "using Statistics\n",
    "describe(df2)"
   ]
  },
  {
   "cell_type": "code",
   "execution_count": 19,
   "metadata": {},
   "outputs": [
    {
     "name": "stdout",
     "output_type": "stream",
     "text": [
      "uber_min_day: 735173\n"
     ]
    }
   ],
   "source": [
    "uber_min_day = df1_min_day\n",
    "if df1_min_day < df2_min_day\n",
    "    uber_min_day = df2_min_day\n",
    "end\n",
    "println(\"uber_min_day: \", uber_min_day)"
   ]
  },
  {
   "cell_type": "code",
   "execution_count": 20,
   "metadata": {},
   "outputs": [
    {
     "name": "stdout",
     "output_type": "stream",
     "text": [
      "uber_max_day: 737731\n"
     ]
    }
   ],
   "source": [
    "uber_max_day = df1_max_day\n",
    "if df1_max_day > df2_max_day\n",
    "    uber_max_day = df2_max_day\n",
    "end\n",
    "println(\"uber_max_day: \", uber_max_day)"
   ]
  },
  {
   "cell_type": "code",
   "execution_count": 26,
   "metadata": {},
   "outputs": [
    {
     "data": {
      "text/plain": [
       "735173:737731"
      ]
     },
     "execution_count": 26,
     "metadata": {},
     "output_type": "execute_result"
    }
   ],
   "source": [
    "days_range = uber_min_day:uber_max_day"
   ]
  },
  {
   "cell_type": "code",
   "execution_count": 25,
   "metadata": {},
   "outputs": [
    {
     "ename": "BoundsError",
     "evalue": "BoundsError: attempt to access String",
     "output_type": "error",
     "traceback": [
      "BoundsError: attempt to access String",
      "",
      "Stacktrace:",
      " [1] getindex(::DataFrame, ::UnitRange{Int64}, ::Int64) at /Users/uki/.julia/packages/DataFrames/S3ZFo/src/dataframe/dataframe.jl:335",
      " [2] top-level scope at In[25]:2"
     ]
    }
   ],
   "source": [
    "using DataFrames\n",
    "uber_df = DataFrame( Day           = df1[rows_range,1], \n",
    "                     #Date          = df1[rows_range,2], \n",
    "                     #DJIA_Value    = df1[rows_range,3], \n",
    "                     #DJIA_Original = df1[rows_range,4], \n",
    "                     #DJIA_Avg005   = df1[rows_range,5], \n",
    "                     #DJIA_Avg030   = df1[rows_range,6], \n",
    "                     #DJIA_Avg090   = df1[rows_range,7], \n",
    "                     #DJIA_Avg180   = df1[rows_range,8], \n",
    "                     #DJIA_Avg365   = df1[rows_range,9]\n",
    "                   )\n",
    "\n",
    "using Statistics\n",
    "describe(uber_df)"
   ]
  },
  {
   "cell_type": "markdown",
   "metadata": {},
   "source": [
    "### Preview Content"
   ]
  },
  {
   "cell_type": "code",
   "execution_count": null,
   "metadata": {},
   "outputs": [],
   "source": []
  }
 ],
 "metadata": {
  "kernelspec": {
   "display_name": "Julia 1.4.2",
   "language": "julia",
   "name": "julia-1.4"
  },
  "language_info": {
   "file_extension": ".jl",
   "mimetype": "application/julia",
   "name": "julia",
   "version": "1.4.2"
  },
  "toc": {
   "base_numbering": 1,
   "nav_menu": {},
   "number_sections": true,
   "sideBar": true,
   "skip_h1_title": true,
   "title_cell": "Table of Contents",
   "title_sidebar": "Contents",
   "toc_cell": true,
   "toc_position": {},
   "toc_section_display": true,
   "toc_window_display": true
  }
 },
 "nbformat": 4,
 "nbformat_minor": 4
}
