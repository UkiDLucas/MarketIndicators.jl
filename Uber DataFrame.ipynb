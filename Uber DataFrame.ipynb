{
 "cells": [
  {
   "cell_type": "markdown",
   "metadata": {},
   "source": [
    "# Uber DataFrame\n",
    "- This notebook combines multiple Market indicators into one massive DataFrame\n",
    "- That DataFrame will be used for Machine Learning"
   ]
  },
  {
   "cell_type": "markdown",
   "metadata": {
    "toc": true
   },
   "source": [
    "<h1>Table of Contents<span class=\"tocSkip\"></span></h1>\n",
    "<div class=\"toc\"><ul class=\"toc-item\"><li><span><a href=\"#Set-Up\" data-toc-modified-id=\"Set-Up-1\"><span class=\"toc-item-num\">1&nbsp;&nbsp;</span>Set Up</a></span></li><li><span><a href=\"#Fetch-Data\" data-toc-modified-id=\"Fetch-Data-2\"><span class=\"toc-item-num\">2&nbsp;&nbsp;</span>Fetch Data</a></span></li><li><span><a href=\"#Visualize-the-dependencies\" data-toc-modified-id=\"Visualize-the-dependencies-3\"><span class=\"toc-item-num\">3&nbsp;&nbsp;</span>Visualize the dependencies</a></span><ul class=\"toc-item\"><li><span><a href=\"#Preview-Content\" data-toc-modified-id=\"Preview-Content-3.1\"><span class=\"toc-item-num\">3.1&nbsp;&nbsp;</span>Preview Content</a></span></li></ul></li></ul></div>"
   ]
  },
  {
   "cell_type": "markdown",
   "metadata": {},
   "source": [
    "## Set Up"
   ]
  },
  {
   "cell_type": "code",
   "execution_count": 1,
   "metadata": {},
   "outputs": [
    {
     "name": "stdout",
     "output_type": "stream",
     "text": [
      "\n",
      "\n",
      "\n"
     ]
    }
   ],
   "source": [
    "dir=\"./Data/processed/\"\n",
    "\n",
    "dataset_file_name = \"uber.csv\"\n",
    "\n",
    "file1 = \"^DJI.csv\"\n",
    "file2 = \"united-states.ism-manufacturing-employment.csv\"\n",
    "\n",
    "\n",
    "include(\"MarketIndicators.jl\") \n",
    "println()"
   ]
  },
  {
   "cell_type": "markdown",
   "metadata": {},
   "source": [
    "## Fetch Data"
   ]
  },
  {
   "cell_type": "code",
   "execution_count": 2,
   "metadata": {},
   "outputs": [
    {
     "name": "stdout",
     "output_type": "stream",
     "text": [
      "./Data/processed/^DJI.csv\n",
      "df1_min_day: 724670\n",
      "df1_max_day: 737735\n"
     ]
    },
    {
     "data": {
      "text/html": [
       "<table class=\"data-frame\"><thead><tr><th></th><th>variable</th><th>mean</th><th>min</th><th>median</th><th>max</th><th>nunique</th><th>nmissing</th><th>eltype</th></tr><tr><th></th><th>Symbol</th><th>Union…</th><th>Any</th><th>Union…</th><th>Any</th><th>Union…</th><th>Nothing</th><th>DataType</th></tr></thead><tbody><p>9 rows × 8 columns</p><tr><th>1</th><td>Day</td><td>731202.0</td><td>724670</td><td>731202.0</td><td>737735</td><td></td><td></td><td>Int64</td></tr><tr><th>2</th><td>Date</td><td></td><td>1985-01-29</td><td></td><td>2020-11-06</td><td>13066</td><td></td><td>Date</td></tr><tr><th>3</th><td>Value</td><td>-46.5783</td><td>-128.0</td><td>-47.0</td><td>127.0</td><td></td><td></td><td>Float64</td></tr><tr><th>4</th><td>Original</td><td>10292.9</td><td>1251.21</td><td>10198.5</td><td>29568.6</td><td></td><td></td><td>Float64</td></tr><tr><th>5</th><td>Avg005</td><td>-46.5765</td><td>-128.0</td><td>-47.4</td><td>126.4</td><td></td><td></td><td>Float64</td></tr><tr><th>6</th><td>Avg030</td><td>-46.5606</td><td>-128.0</td><td>-47.13</td><td>123.63</td><td></td><td></td><td>Float64</td></tr><tr><th>7</th><td>Avg090</td><td>-46.5292</td><td>-127.97</td><td>-46.64</td><td>119.87</td><td></td><td></td><td>Float64</td></tr><tr><th>8</th><td>Avg180</td><td>-46.4564</td><td>-127.64</td><td>-46.78</td><td>112.75</td><td></td><td></td><td>Float64</td></tr><tr><th>9</th><td>Avg365</td><td>-46.226</td><td>-126.98</td><td>-46.84</td><td>105.19</td><td></td><td></td><td>Float64</td></tr></tbody></table>"
      ],
      "text/latex": [
       "\\begin{tabular}{r|cccccccc}\n",
       "\t& variable & mean & min & median & max & nunique & nmissing & eltype\\\\\n",
       "\t\\hline\n",
       "\t& Symbol & Union… & Any & Union… & Any & Union… & Nothing & DataType\\\\\n",
       "\t\\hline\n",
       "\t1 & Day & 731202.0 & 724670 & 731202.0 & 737735 &  &  & Int64 \\\\\n",
       "\t2 & Date &  & 1985-01-29 &  & 2020-11-06 & 13066 &  & Date \\\\\n",
       "\t3 & Value & -46.5783 & -128.0 & -47.0 & 127.0 &  &  & Float64 \\\\\n",
       "\t4 & Original & 10292.9 & 1251.21 & 10198.5 & 29568.6 &  &  & Float64 \\\\\n",
       "\t5 & Avg005 & -46.5765 & -128.0 & -47.4 & 126.4 &  &  & Float64 \\\\\n",
       "\t6 & Avg030 & -46.5606 & -128.0 & -47.13 & 123.63 &  &  & Float64 \\\\\n",
       "\t7 & Avg090 & -46.5292 & -127.97 & -46.64 & 119.87 &  &  & Float64 \\\\\n",
       "\t8 & Avg180 & -46.4564 & -127.64 & -46.78 & 112.75 &  &  & Float64 \\\\\n",
       "\t9 & Avg365 & -46.226 & -126.98 & -46.84 & 105.19 &  &  & Float64 \\\\\n",
       "\\end{tabular}\n"
      ],
      "text/plain": [
       "9×8 DataFrame. Omitted printing of 2 columns\n",
       "│ Row │ variable │ mean     │ min        │ median   │ max        │ nunique │\n",
       "│     │ \u001b[90mSymbol\u001b[39m   │ \u001b[90mUnion…\u001b[39m   │ \u001b[90mAny\u001b[39m        │ \u001b[90mUnion…\u001b[39m   │ \u001b[90mAny\u001b[39m        │ \u001b[90mUnion…\u001b[39m  │\n",
       "├─────┼──────────┼──────────┼────────────┼──────────┼────────────┼─────────┤\n",
       "│ 1   │ Day      │ 731202.0 │ 724670     │ 731202.0 │ 737735     │         │\n",
       "│ 2   │ Date     │          │ 1985-01-29 │          │ 2020-11-06 │ 13066   │\n",
       "│ 3   │ Value    │ -46.5783 │ -128.0     │ -47.0    │ 127.0      │         │\n",
       "│ 4   │ Original │ 10292.9  │ 1251.21    │ 10198.5  │ 29568.6    │         │\n",
       "│ 5   │ Avg005   │ -46.5765 │ -128.0     │ -47.4    │ 126.4      │         │\n",
       "│ 6   │ Avg030   │ -46.5606 │ -128.0     │ -47.13   │ 123.63     │         │\n",
       "│ 7   │ Avg090   │ -46.5292 │ -127.97    │ -46.64   │ 119.87     │         │\n",
       "│ 8   │ Avg180   │ -46.4564 │ -127.64    │ -46.78   │ 112.75     │         │\n",
       "│ 9   │ Avg365   │ -46.226  │ -126.98    │ -46.84   │ 105.19     │         │"
      ]
     },
     "execution_count": 2,
     "metadata": {},
     "output_type": "execute_result"
    }
   ],
   "source": [
    "df1 = fetch_dataset( file1 , \"yyyy-mm-dd\", dir )\n",
    "\n",
    "df1_min_day = minimum(df1[:,1])\n",
    "println(\"df1_min_day: \", df1_min_day)\n",
    "\n",
    "df1_max_day = maximum(df1[:,1])\n",
    "println(\"df1_max_day: \", df1_max_day)\n",
    "\n",
    "using Statistics\n",
    "describe(df1)"
   ]
  },
  {
   "cell_type": "code",
   "execution_count": 3,
   "metadata": {
    "scrolled": false
   },
   "outputs": [
    {
     "name": "stdout",
     "output_type": "stream",
     "text": [
      "./Data/processed/united-states.ism-manufacturing-employment.csv\n",
      "df2_min_day: 735173\n",
      "df2_max_day: 737731\n"
     ]
    },
    {
     "data": {
      "text/html": [
       "<table class=\"data-frame\"><thead><tr><th></th><th>variable</th><th>mean</th><th>min</th><th>median</th><th>max</th><th>nunique</th><th>nmissing</th><th>eltype</th></tr><tr><th></th><th>Symbol</th><th>Union…</th><th>Any</th><th>Union…</th><th>Any</th><th>Union…</th><th>Nothing</th><th>DataType</th></tr></thead><tbody><p>9 rows × 8 columns</p><tr><th>1</th><td>Day</td><td>736452.0</td><td>735173</td><td>736452.0</td><td>737731</td><td></td><td></td><td>Int64</td></tr><tr><th>2</th><td>Date</td><td></td><td>2013-11-01</td><td></td><td>2020-11-02</td><td>2559</td><td></td><td>Date</td></tr><tr><th>3</th><td>Value</td><td>64.2564</td><td>-128.0</td><td>69.0</td><td>127.0</td><td></td><td></td><td>Float64</td></tr><tr><th>4</th><td>Original</td><td>52.2247</td><td>27.5</td><td>52.8</td><td>60.3</td><td></td><td></td><td>Float64</td></tr><tr><th>5</th><td>Avg005</td><td>64.1569</td><td>-128.0</td><td>69.0</td><td>127.0</td><td></td><td></td><td>Float64</td></tr><tr><th>6</th><td>Avg030</td><td>63.5885</td><td>-128.0</td><td>70.33</td><td>127.0</td><td></td><td></td><td>Float64</td></tr><tr><th>7</th><td>Avg090</td><td>62.2339</td><td>-79.27</td><td>72.78</td><td>124.68</td><td></td><td></td><td>Float64</td></tr><tr><th>8</th><td>Avg180</td><td>61.0588</td><td>-36.78</td><td>70.09</td><td>114.71</td><td></td><td></td><td>Float64</td></tr><tr><th>9</th><td>Avg365</td><td>59.2222</td><td>-8.1</td><td>65.89</td><td>106.14</td><td></td><td></td><td>Float64</td></tr></tbody></table>"
      ],
      "text/latex": [
       "\\begin{tabular}{r|cccccccc}\n",
       "\t& variable & mean & min & median & max & nunique & nmissing & eltype\\\\\n",
       "\t\\hline\n",
       "\t& Symbol & Union… & Any & Union… & Any & Union… & Nothing & DataType\\\\\n",
       "\t\\hline\n",
       "\t1 & Day & 736452.0 & 735173 & 736452.0 & 737731 &  &  & Int64 \\\\\n",
       "\t2 & Date &  & 2013-11-01 &  & 2020-11-02 & 2559 &  & Date \\\\\n",
       "\t3 & Value & 64.2564 & -128.0 & 69.0 & 127.0 &  &  & Float64 \\\\\n",
       "\t4 & Original & 52.2247 & 27.5 & 52.8 & 60.3 &  &  & Float64 \\\\\n",
       "\t5 & Avg005 & 64.1569 & -128.0 & 69.0 & 127.0 &  &  & Float64 \\\\\n",
       "\t6 & Avg030 & 63.5885 & -128.0 & 70.33 & 127.0 &  &  & Float64 \\\\\n",
       "\t7 & Avg090 & 62.2339 & -79.27 & 72.78 & 124.68 &  &  & Float64 \\\\\n",
       "\t8 & Avg180 & 61.0588 & -36.78 & 70.09 & 114.71 &  &  & Float64 \\\\\n",
       "\t9 & Avg365 & 59.2222 & -8.1 & 65.89 & 106.14 &  &  & Float64 \\\\\n",
       "\\end{tabular}\n"
      ],
      "text/plain": [
       "9×8 DataFrame. Omitted printing of 2 columns\n",
       "│ Row │ variable │ mean     │ min        │ median   │ max        │ nunique │\n",
       "│     │ \u001b[90mSymbol\u001b[39m   │ \u001b[90mUnion…\u001b[39m   │ \u001b[90mAny\u001b[39m        │ \u001b[90mUnion…\u001b[39m   │ \u001b[90mAny\u001b[39m        │ \u001b[90mUnion…\u001b[39m  │\n",
       "├─────┼──────────┼──────────┼────────────┼──────────┼────────────┼─────────┤\n",
       "│ 1   │ Day      │ 736452.0 │ 735173     │ 736452.0 │ 737731     │         │\n",
       "│ 2   │ Date     │          │ 2013-11-01 │          │ 2020-11-02 │ 2559    │\n",
       "│ 3   │ Value    │ 64.2564  │ -128.0     │ 69.0     │ 127.0      │         │\n",
       "│ 4   │ Original │ 52.2247  │ 27.5       │ 52.8     │ 60.3       │         │\n",
       "│ 5   │ Avg005   │ 64.1569  │ -128.0     │ 69.0     │ 127.0      │         │\n",
       "│ 6   │ Avg030   │ 63.5885  │ -128.0     │ 70.33    │ 127.0      │         │\n",
       "│ 7   │ Avg090   │ 62.2339  │ -79.27     │ 72.78    │ 124.68     │         │\n",
       "│ 8   │ Avg180   │ 61.0588  │ -36.78     │ 70.09    │ 114.71     │         │\n",
       "│ 9   │ Avg365   │ 59.2222  │ -8.1       │ 65.89    │ 106.14     │         │"
      ]
     },
     "execution_count": 3,
     "metadata": {},
     "output_type": "execute_result"
    }
   ],
   "source": [
    "df2 = fetch_dataset( file2 , \"yyyy-mm-dd\", dir )\n",
    "\n",
    "\n",
    "df2_min_day = minimum(df2[:,1])\n",
    "println(\"df2_min_day: \", df2_min_day)\n",
    "\n",
    "df2_max_day = maximum(df2[:,1])\n",
    "println(\"df2_max_day: \", df2_max_day)\n",
    "\n",
    "\n",
    "using Statistics\n",
    "describe(df2)"
   ]
  },
  {
   "cell_type": "code",
   "execution_count": 4,
   "metadata": {},
   "outputs": [
    {
     "name": "stdout",
     "output_type": "stream",
     "text": [
      "uber_min_day: 735173\n"
     ]
    }
   ],
   "source": [
    "uber_min_day = df1_min_day\n",
    "if df1_min_day < df2_min_day\n",
    "    uber_min_day = df2_min_day\n",
    "end\n",
    "println(\"uber_min_day: \", uber_min_day)\n",
    "\n"
   ]
  },
  {
   "cell_type": "code",
   "execution_count": 5,
   "metadata": {},
   "outputs": [
    {
     "data": {
      "text/plain": [
       "10504"
      ]
     },
     "execution_count": 5,
     "metadata": {},
     "output_type": "execute_result"
    }
   ],
   "source": [
    "uber_min_id = find_day(df1, uber_min_day)\n",
    "# 10504 true"
   ]
  },
  {
   "cell_type": "code",
   "execution_count": 6,
   "metadata": {},
   "outputs": [
    {
     "name": "stdout",
     "output_type": "stream",
     "text": [
      "uber_max_day: 737731\n"
     ]
    }
   ],
   "source": [
    "uber_max_day = df1_max_day\n",
    "if df1_max_day > df2_max_day\n",
    "    uber_max_day = df2_max_day\n",
    "end\n",
    "println(\"uber_max_day: \", uber_max_day)"
   ]
  },
  {
   "cell_type": "code",
   "execution_count": 7,
   "metadata": {},
   "outputs": [
    {
     "data": {
      "text/plain": [
       "13062"
      ]
     },
     "execution_count": 7,
     "metadata": {},
     "output_type": "execute_result"
    }
   ],
   "source": [
    "uber_max_id = find_day(df1, uber_max_day)\n",
    "# 13062 true"
   ]
  },
  {
   "cell_type": "code",
   "execution_count": 8,
   "metadata": {},
   "outputs": [
    {
     "data": {
      "text/plain": [
       "10504:13062"
      ]
     },
     "execution_count": 8,
     "metadata": {},
     "output_type": "execute_result"
    }
   ],
   "source": [
    "rows_range = uber_min_id:uber_max_id"
   ]
  },
  {
   "cell_type": "code",
   "execution_count": 9,
   "metadata": {},
   "outputs": [
    {
     "data": {
      "text/html": [
       "<table class=\"data-frame\"><thead><tr><th></th><th>variable</th><th>mean</th><th>min</th><th>median</th><th>max</th><th>nunique</th><th>nmissing</th></tr><tr><th></th><th>Symbol</th><th>Union…</th><th>Any</th><th>Union…</th><th>Any</th><th>Union…</th><th>Nothing</th></tr></thead><tbody><p>16 rows × 8 columns (omitted printing of 1 columns)</p><tr><th>1</th><td>Day</td><td>736452.0</td><td>735173</td><td>736452.0</td><td>737731</td><td></td><td></td></tr><tr><th>2</th><td>Date</td><td></td><td>2013-11-01</td><td></td><td>2020-11-02</td><td>2559</td><td></td></tr><tr><th>3</th><td>DJIA_Value</td><td>54.7952</td><td>0.0</td><td>50.0</td><td>127.0</td><td></td><td></td></tr><tr><th>4</th><td>DJIA_Original</td><td>21550.9</td><td>15478.2</td><td>20972.7</td><td>29568.6</td><td></td><td></td></tr><tr><th>5</th><td>DJIA_Avg005</td><td>54.7168</td><td>1.4</td><td>49.4</td><td>126.4</td><td></td><td></td></tr><tr><th>6</th><td>DJIA_Avg030</td><td>54.1615</td><td>-0.9</td><td>48.8</td><td>123.63</td><td></td><td></td></tr><tr><th>7</th><td>DJIA_Avg090</td><td>52.8022</td><td>-1.52</td><td>47.4</td><td>119.87</td><td></td><td></td></tr><tr><th>8</th><td>DJIA_Avg180</td><td>50.9165</td><td>-1.5</td><td>42.17</td><td>112.75</td><td></td><td></td></tr><tr><th>9</th><td>DJIA_Avg365</td><td>47.2671</td><td>-8.06</td><td>33.24</td><td>105.19</td><td></td><td></td></tr><tr><th>10</th><td>ISM_MFC_EMP_Value</td><td>64.2564</td><td>-128.0</td><td>69.0</td><td>127.0</td><td></td><td></td></tr><tr><th>11</th><td>ISM_MFC_EMP_Original</td><td>52.2247</td><td>27.5</td><td>52.8</td><td>60.3</td><td></td><td></td></tr><tr><th>12</th><td>ISM_MFC_EMP_Avg005</td><td>64.1569</td><td>-128.0</td><td>69.0</td><td>127.0</td><td></td><td></td></tr><tr><th>13</th><td>ISM_MFC_EMP_Avg030</td><td>63.5885</td><td>-128.0</td><td>70.33</td><td>127.0</td><td></td><td></td></tr><tr><th>14</th><td>ISM_MFC_EMP_Avg090</td><td>62.2339</td><td>-79.27</td><td>72.78</td><td>124.68</td><td></td><td></td></tr><tr><th>15</th><td>ISM_MFC_EMP_Avg180</td><td>61.0588</td><td>-36.78</td><td>70.09</td><td>114.71</td><td></td><td></td></tr><tr><th>16</th><td>ISM_MFC_EMP_Avg365</td><td>59.2222</td><td>-8.1</td><td>65.89</td><td>106.14</td><td></td><td></td></tr></tbody></table>"
      ],
      "text/latex": [
       "\\begin{tabular}{r|cccccccc}\n",
       "\t& variable & mean & min & median & max & nunique & nmissing & \\\\\n",
       "\t\\hline\n",
       "\t& Symbol & Union… & Any & Union… & Any & Union… & Nothing & \\\\\n",
       "\t\\hline\n",
       "\t1 & Day & 736452.0 & 735173 & 736452.0 & 737731 &  &  & $\\dots$ \\\\\n",
       "\t2 & Date &  & 2013-11-01 &  & 2020-11-02 & 2559 &  & $\\dots$ \\\\\n",
       "\t3 & DJIA\\_Value & 54.7952 & 0.0 & 50.0 & 127.0 &  &  & $\\dots$ \\\\\n",
       "\t4 & DJIA\\_Original & 21550.9 & 15478.2 & 20972.7 & 29568.6 &  &  & $\\dots$ \\\\\n",
       "\t5 & DJIA\\_Avg005 & 54.7168 & 1.4 & 49.4 & 126.4 &  &  & $\\dots$ \\\\\n",
       "\t6 & DJIA\\_Avg030 & 54.1615 & -0.9 & 48.8 & 123.63 &  &  & $\\dots$ \\\\\n",
       "\t7 & DJIA\\_Avg090 & 52.8022 & -1.52 & 47.4 & 119.87 &  &  & $\\dots$ \\\\\n",
       "\t8 & DJIA\\_Avg180 & 50.9165 & -1.5 & 42.17 & 112.75 &  &  & $\\dots$ \\\\\n",
       "\t9 & DJIA\\_Avg365 & 47.2671 & -8.06 & 33.24 & 105.19 &  &  & $\\dots$ \\\\\n",
       "\t10 & ISM\\_MFC\\_EMP\\_Value & 64.2564 & -128.0 & 69.0 & 127.0 &  &  & $\\dots$ \\\\\n",
       "\t11 & ISM\\_MFC\\_EMP\\_Original & 52.2247 & 27.5 & 52.8 & 60.3 &  &  & $\\dots$ \\\\\n",
       "\t12 & ISM\\_MFC\\_EMP\\_Avg005 & 64.1569 & -128.0 & 69.0 & 127.0 &  &  & $\\dots$ \\\\\n",
       "\t13 & ISM\\_MFC\\_EMP\\_Avg030 & 63.5885 & -128.0 & 70.33 & 127.0 &  &  & $\\dots$ \\\\\n",
       "\t14 & ISM\\_MFC\\_EMP\\_Avg090 & 62.2339 & -79.27 & 72.78 & 124.68 &  &  & $\\dots$ \\\\\n",
       "\t15 & ISM\\_MFC\\_EMP\\_Avg180 & 61.0588 & -36.78 & 70.09 & 114.71 &  &  & $\\dots$ \\\\\n",
       "\t16 & ISM\\_MFC\\_EMP\\_Avg365 & 59.2222 & -8.1 & 65.89 & 106.14 &  &  & $\\dots$ \\\\\n",
       "\\end{tabular}\n"
      ],
      "text/plain": [
       "16×8 DataFrame. Omitted printing of 3 columns\n",
       "│ Row │ variable             │ mean     │ min        │ median   │ max        │\n",
       "│     │ \u001b[90mSymbol\u001b[39m               │ \u001b[90mUnion…\u001b[39m   │ \u001b[90mAny\u001b[39m        │ \u001b[90mUnion…\u001b[39m   │ \u001b[90mAny\u001b[39m        │\n",
       "├─────┼──────────────────────┼──────────┼────────────┼──────────┼────────────┤\n",
       "│ 1   │ Day                  │ 736452.0 │ 735173     │ 736452.0 │ 737731     │\n",
       "│ 2   │ Date                 │          │ 2013-11-01 │          │ 2020-11-02 │\n",
       "│ 3   │ DJIA_Value           │ 54.7952  │ 0.0        │ 50.0     │ 127.0      │\n",
       "│ 4   │ DJIA_Original        │ 21550.9  │ 15478.2    │ 20972.7  │ 29568.6    │\n",
       "│ 5   │ DJIA_Avg005          │ 54.7168  │ 1.4        │ 49.4     │ 126.4      │\n",
       "│ 6   │ DJIA_Avg030          │ 54.1615  │ -0.9       │ 48.8     │ 123.63     │\n",
       "│ 7   │ DJIA_Avg090          │ 52.8022  │ -1.52      │ 47.4     │ 119.87     │\n",
       "│ 8   │ DJIA_Avg180          │ 50.9165  │ -1.5       │ 42.17    │ 112.75     │\n",
       "│ 9   │ DJIA_Avg365          │ 47.2671  │ -8.06      │ 33.24    │ 105.19     │\n",
       "│ 10  │ ISM_MFC_EMP_Value    │ 64.2564  │ -128.0     │ 69.0     │ 127.0      │\n",
       "│ 11  │ ISM_MFC_EMP_Original │ 52.2247  │ 27.5       │ 52.8     │ 60.3       │\n",
       "│ 12  │ ISM_MFC_EMP_Avg005   │ 64.1569  │ -128.0     │ 69.0     │ 127.0      │\n",
       "│ 13  │ ISM_MFC_EMP_Avg030   │ 63.5885  │ -128.0     │ 70.33    │ 127.0      │\n",
       "│ 14  │ ISM_MFC_EMP_Avg090   │ 62.2339  │ -79.27     │ 72.78    │ 124.68     │\n",
       "│ 15  │ ISM_MFC_EMP_Avg180   │ 61.0588  │ -36.78     │ 70.09    │ 114.71     │\n",
       "│ 16  │ ISM_MFC_EMP_Avg365   │ 59.2222  │ -8.1       │ 65.89    │ 106.14     │"
      ]
     },
     "execution_count": 9,
     "metadata": {},
     "output_type": "execute_result"
    }
   ],
   "source": [
    "using DataFrames\n",
    "uber_df = DataFrame( Day                  = df1[rows_range,1], \n",
    "                     Date                 = df1[rows_range,2], \n",
    "                     DJIA_Value           = df1[rows_range,3], \n",
    "                     DJIA_Original        = df1[rows_range,4], \n",
    "                     DJIA_Avg005          = df1[rows_range,5], \n",
    "                     DJIA_Avg030          = df1[rows_range,6], \n",
    "                     DJIA_Avg090          = df1[rows_range,7], \n",
    "                     DJIA_Avg180          = df1[rows_range,8], \n",
    "                     DJIA_Avg365          = df1[rows_range,9], \n",
    "                     ISM_MFC_EMP_Value    = df2[:,3],\n",
    "                     ISM_MFC_EMP_Original = df2[:,4], \n",
    "                     ISM_MFC_EMP_Avg005   = df2[:,5], \n",
    "                     ISM_MFC_EMP_Avg030   = df2[:,6], \n",
    "                     ISM_MFC_EMP_Avg090   = df2[:,7], \n",
    "                     ISM_MFC_EMP_Avg180   = df2[:,8], \n",
    "                     ISM_MFC_EMP_Avg365   = df2[:,9]\n",
    "                   )\n",
    "\n",
    "using Statistics\n",
    "describe(uber_df)"
   ]
  },
  {
   "cell_type": "markdown",
   "metadata": {},
   "source": [
    "## Visualize the dependencies"
   ]
  },
  {
   "cell_type": "code",
   "execution_count": 10,
   "metadata": {},
   "outputs": [
    {
     "name": "stdout",
     "output_type": "stream",
     "text": [
      "3×16 DataFrame\n",
      "│ Row │ Day    │ Date       │ DJIA_Value │ DJIA_Original │ DJIA_Avg005 │\n",
      "│     │ \u001b[90mInt64\u001b[39m  │ \u001b[90mDate\u001b[39m       │ \u001b[90mFloat64\u001b[39m    │ \u001b[90mFloat64\u001b[39m       │ \u001b[90mFloat64\u001b[39m     │\n",
      "├─────┼────────┼────────────┼────────────┼───────────────┼─────────────┤\n",
      "│ 1   │ 735173 │ 2013-11-01 │ 2.0        │ 15649.4       │ 1.8         │\n",
      "│ 2   │ 736026 │ 2016-03-03 │ 13.0       │ 16944.3       │ 12.4        │\n",
      "│ 3   │ 736879 │ 2018-07-04 │ 81.0       │ 24444.9       │ 80.8        │\n",
      "\n",
      "│ Row │ DJIA_Avg030 │ DJIA_Avg090 │ DJIA_Avg180 │ DJIA_Avg365 │\n",
      "│     │ \u001b[90mFloat64\u001b[39m     │ \u001b[90mFloat64\u001b[39m     │ \u001b[90mFloat64\u001b[39m     │ \u001b[90mFloat64\u001b[39m     │\n",
      "├─────┼─────────────┼─────────────┼─────────────┼─────────────┤\n",
      "│ 1   │ -0.9        │ -1.52       │ -1.5        │ -8.06       │\n",
      "│ 2   │ 8.87        │ 12.38       │ 14.2        │ 17.9        │\n",
      "│ 3   │ 84.6        │ 83.21       │ 85.77       │ 76.34       │\n",
      "\n",
      "│ Row │ ISM_MFC_EMP_Value │ ISM_MFC_EMP_Original │ ISM_MFC_EMP_Avg005 │\n",
      "│     │ \u001b[90mFloat64\u001b[39m           │ \u001b[90mFloat64\u001b[39m              │ \u001b[90mFloat64\u001b[39m            │\n",
      "├─────┼───────────────────┼──────────────────────┼────────────────────┤\n",
      "│ 1   │ 72.0              │ 53.2                 │ 0.0                │\n",
      "│ 2   │ 35.0              │ 48.5                 │ 27.0               │\n",
      "│ 3   │ 94.0              │ 56.0                 │ 94.8               │\n",
      "\n",
      "│ Row │ ISM_MFC_EMP_Avg030 │ ISM_MFC_EMP_Avg090 │ ISM_MFC_EMP_Avg180 │\n",
      "│     │ \u001b[90mFloat64\u001b[39m            │ \u001b[90mFloat64\u001b[39m            │ \u001b[90mFloat64\u001b[39m            │\n",
      "├─────┼────────────────────┼────────────────────┼────────────────────┤\n",
      "│ 1   │ 0.0                │ 0.0                │ 0.0                │\n",
      "│ 2   │ 17.0               │ 34.96              │ 40.1               │\n",
      "│ 3   │ 95.8               │ 92.64              │ 97.36              │\n",
      "\n",
      "│ Row │ ISM_MFC_EMP_Avg365 │\n",
      "│     │ \u001b[90mFloat64\u001b[39m            │\n",
      "├─────┼────────────────────┤\n",
      "│ 1   │ 0.0                │\n",
      "│ 2   │ 50.05              │\n",
      "│ 3   │ 105.96             │\n",
      " Dataset dimentions: (2559, 16)\n",
      "\n",
      " variable columns:\n",
      "1 Day\n",
      "2 Date\n",
      "3 DJIA_Value\n",
      "4 DJIA_Original\n",
      "5 DJIA_Avg005\n",
      "6 DJIA_Avg030\n",
      "7 DJIA_Avg090\n",
      "8 DJIA_Avg180\n",
      "9 DJIA_Avg365\n",
      "10 ISM_MFC_EMP_Value\n",
      "11 ISM_MFC_EMP_Original\n",
      "12 ISM_MFC_EMP_Avg005\n",
      "13 ISM_MFC_EMP_Avg030\n",
      "14 ISM_MFC_EMP_Avg090\n",
      "15 ISM_MFC_EMP_Avg180\n",
      "16 ISM_MFC_EMP_Avg365\n",
      "\n"
     ]
    }
   ],
   "source": [
    "columns = preview_data(uber_df, 3)\n",
    "println()"
   ]
  },
  {
   "cell_type": "code",
   "execution_count": null,
   "metadata": {},
   "outputs": [],
   "source": [
    "using Plots\n",
    "\n",
    "record_count = size(uber_df)[1]\n",
    "rows = 1:record_count\n",
    "dates = format_dates( uber_df[rows,2] , \"m/d/yy\")\n",
    "\n",
    "gr()\n",
    "plot(          dates, # x-axis: dates\n",
    "               [  uber_df[rows,7] uber_df[rows,10]/4       ], # y-axis\n",
    "    label    = [       columns[7]      columns[10]    \"\" ],\n",
    "    legend   =:topleft, \n",
    "              # :right, :left, :top, :bottom, :inside, :best, :legend, :topright, :topleft, :bottomleft, :bottomright\n",
    "    xlabel   = \"time\",\n",
    "    ylabel   = \"indicators\",\n",
    "    size     = (980, 400), # width, height\n",
    "    layout = (1, 1) # number of graphs: vertically, horizontally\n",
    "    )"
   ]
  },
  {
   "cell_type": "markdown",
   "metadata": {},
   "source": [
    "### Preview Content"
   ]
  },
  {
   "cell_type": "code",
   "execution_count": null,
   "metadata": {},
   "outputs": [],
   "source": [
    "save_dataset(uber_df, dataset_file_name );"
   ]
  },
  {
   "cell_type": "code",
   "execution_count": null,
   "metadata": {},
   "outputs": [],
   "source": []
  }
 ],
 "metadata": {
  "kernelspec": {
   "display_name": "Julia 1.4.2",
   "language": "julia",
   "name": "julia-1.4"
  },
  "language_info": {
   "file_extension": ".jl",
   "mimetype": "application/julia",
   "name": "julia",
   "version": "1.4.2"
  },
  "toc": {
   "base_numbering": 1,
   "nav_menu": {},
   "number_sections": true,
   "sideBar": true,
   "skip_h1_title": true,
   "title_cell": "Table of Contents",
   "title_sidebar": "Contents",
   "toc_cell": true,
   "toc_position": {},
   "toc_section_display": true,
   "toc_window_display": true
  }
 },
 "nbformat": 4,
 "nbformat_minor": 4
}
