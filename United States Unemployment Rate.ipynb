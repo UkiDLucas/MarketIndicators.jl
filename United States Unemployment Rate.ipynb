{
 "cells": [
  {
   "cell_type": "markdown",
   "metadata": {},
   "source": [
    "# United States Unemployment Rate\n",
    "\n",
    "\n",
    "Unemployment Rate is a percentage of unemployed residents in relation to the total civilian labor force. In the indicator calculation, the person who has been actively seeking job during the past four weeks and cannot start working right now is defined as unemployed. Such a person is included in the unemployment rate regardless of whether this person is receiving unemployment benefits.\n",
    "\n",
    "Unemployment statistics data is collected by interviewing approximately 110,000 people (60,000 households) across the nation. Individuals under 16, those serving in the armed forces, persons in correctional facilities and psychiatric hospitals are excluded from the survey.\n",
    "\n",
    "This indicator (also called U3) is the most commonly used rate for assessing the state of the US labor market. But this is not the only indicator of unemployment available. For example, its difference from U6 is that individuals employed part-time or temporarily due to economic reasons are not included in the statistics and are considered employed according to U3. Also the indicator does not take into account people who wish to work but cannot due to different reasons (such as disability and others) and those who have become discouraged after seeking job and no longer seek employment. So, U3 is often criticized for showing a very optimistic picture of the labor market.\n",
    "\n",
    "The unemployment rate is one of the key indicators of the country's economic development. It is not a predictive indicator. Its growth or decline is a result of changes in the economic situation.\n",
    "\n",
    "Decrease of unemployment is seen as positive for dollar quotes.\n",
    "            \n",
    "source:\n",
    "- https://www.mql5.com/en/economic-calendar/united-states/unemployment-rate\n",
    "- https://www.mql5.com/en/economic-calendar/united-states/unemployment-rate/export\n"
   ]
  },
  {
   "cell_type": "code",
   "execution_count": 1,
   "metadata": {},
   "outputs": [
    {
     "name": "stdout",
     "output_type": "stream",
     "text": [
      "function: df = fetch_data(file_path, date_format=\"yyyy-mm-dd\" )\n",
      "function: df = shift_dates_by_days!(df, shift_days=-1, date_column=1)\n",
      "function: rata_die = days_since_day_one(df, row, date_column) \n",
      "function: df = update_rata_die!(df, days_column=1, date_column=2)\n",
      "function: df = insert_rata_die_column!(df)\n"
     ]
    }
   ],
   "source": [
    "include(\"MarketIndicators.jl\")"
   ]
  },
  {
   "cell_type": "code",
   "execution_count": 34,
   "metadata": {},
   "outputs": [
    {
     "data": {
      "text/html": [
       "<table class=\"data-frame\"><thead><tr><th></th><th>Date</th><th>ActualValue</th><th>ForecastValue</th><th>PreviousValue</th></tr><tr><th></th><th>Date</th><th>Float64</th><th>Float64⍰</th><th>Float64⍰</th></tr></thead><tbody><p>30 rows × 4 columns</p><tr><th>1</th><td>2009-08-07</td><td>9.4</td><td>missing</td><td>9.5</td></tr><tr><th>2</th><td>2009-07-02</td><td>9.5</td><td>missing</td><td>9.4</td></tr><tr><th>3</th><td>2009-06-05</td><td>9.4</td><td>missing</td><td>8.9</td></tr><tr><th>4</th><td>2009-05-08</td><td>8.9</td><td>missing</td><td>8.5</td></tr><tr><th>5</th><td>2009-04-03</td><td>8.5</td><td>missing</td><td>8.1</td></tr><tr><th>6</th><td>2009-03-06</td><td>8.1</td><td>missing</td><td>7.6</td></tr><tr><th>7</th><td>2009-02-06</td><td>7.6</td><td>missing</td><td>7.2</td></tr><tr><th>8</th><td>2009-01-09</td><td>7.2</td><td>missing</td><td>6.7</td></tr><tr><th>9</th><td>2008-12-05</td><td>6.7</td><td>missing</td><td>6.5</td></tr><tr><th>10</th><td>2008-11-07</td><td>6.5</td><td>missing</td><td>6.1</td></tr><tr><th>11</th><td>2008-10-03</td><td>6.1</td><td>missing</td><td>6.1</td></tr><tr><th>12</th><td>2008-09-05</td><td>6.1</td><td>missing</td><td>5.7</td></tr><tr><th>13</th><td>2008-08-01</td><td>5.7</td><td>missing</td><td>5.5</td></tr><tr><th>14</th><td>2008-07-03</td><td>5.5</td><td>missing</td><td>5.5</td></tr><tr><th>15</th><td>2008-06-06</td><td>5.5</td><td>missing</td><td>5.0</td></tr><tr><th>16</th><td>2008-05-02</td><td>5.0</td><td>missing</td><td>5.1</td></tr><tr><th>17</th><td>2008-04-04</td><td>5.1</td><td>missing</td><td>4.8</td></tr><tr><th>18</th><td>2008-03-07</td><td>4.8</td><td>missing</td><td>4.9</td></tr><tr><th>19</th><td>2008-02-01</td><td>4.9</td><td>missing</td><td>5.0</td></tr><tr><th>20</th><td>2008-01-04</td><td>5.0</td><td>missing</td><td>4.7</td></tr><tr><th>21</th><td>2007-12-07</td><td>4.7</td><td>missing</td><td>4.7</td></tr><tr><th>22</th><td>2007-11-02</td><td>4.7</td><td>missing</td><td>4.7</td></tr><tr><th>23</th><td>2007-10-05</td><td>4.7</td><td>missing</td><td>4.6</td></tr><tr><th>24</th><td>2007-09-07</td><td>4.6</td><td>missing</td><td>4.6</td></tr><tr><th>25</th><td>2007-08-03</td><td>4.6</td><td>missing</td><td>4.5</td></tr><tr><th>26</th><td>2007-07-06</td><td>4.5</td><td>missing</td><td>4.5</td></tr><tr><th>27</th><td>2007-06-01</td><td>4.5</td><td>missing</td><td>4.5</td></tr><tr><th>28</th><td>2007-05-04</td><td>4.5</td><td>missing</td><td>4.4</td></tr><tr><th>29</th><td>2007-04-06</td><td>4.4</td><td>missing</td><td>4.5</td></tr><tr><th>30</th><td>2007-03-09</td><td>4.5</td><td>missing</td><td>missing</td></tr></tbody></table>"
      ],
      "text/latex": [
       "\\begin{tabular}{r|cccc}\n",
       "\t& Date & ActualValue & ForecastValue & PreviousValue\\\\\n",
       "\t\\hline\n",
       "\t& Date & Float64 & Float64⍰ & Float64⍰\\\\\n",
       "\t\\hline\n",
       "\t1 & 2009-08-07 & 9.4 &  & 9.5 \\\\\n",
       "\t2 & 2009-07-02 & 9.5 &  & 9.4 \\\\\n",
       "\t3 & 2009-06-05 & 9.4 &  & 8.9 \\\\\n",
       "\t4 & 2009-05-08 & 8.9 &  & 8.5 \\\\\n",
       "\t5 & 2009-04-03 & 8.5 &  & 8.1 \\\\\n",
       "\t6 & 2009-03-06 & 8.1 &  & 7.6 \\\\\n",
       "\t7 & 2009-02-06 & 7.6 &  & 7.2 \\\\\n",
       "\t8 & 2009-01-09 & 7.2 &  & 6.7 \\\\\n",
       "\t9 & 2008-12-05 & 6.7 &  & 6.5 \\\\\n",
       "\t10 & 2008-11-07 & 6.5 &  & 6.1 \\\\\n",
       "\t11 & 2008-10-03 & 6.1 &  & 6.1 \\\\\n",
       "\t12 & 2008-09-05 & 6.1 &  & 5.7 \\\\\n",
       "\t13 & 2008-08-01 & 5.7 &  & 5.5 \\\\\n",
       "\t14 & 2008-07-03 & 5.5 &  & 5.5 \\\\\n",
       "\t15 & 2008-06-06 & 5.5 &  & 5.0 \\\\\n",
       "\t16 & 2008-05-02 & 5.0 &  & 5.1 \\\\\n",
       "\t17 & 2008-04-04 & 5.1 &  & 4.8 \\\\\n",
       "\t18 & 2008-03-07 & 4.8 &  & 4.9 \\\\\n",
       "\t19 & 2008-02-01 & 4.9 &  & 5.0 \\\\\n",
       "\t20 & 2008-01-04 & 5.0 &  & 4.7 \\\\\n",
       "\t21 & 2007-12-07 & 4.7 &  & 4.7 \\\\\n",
       "\t22 & 2007-11-02 & 4.7 &  & 4.7 \\\\\n",
       "\t23 & 2007-10-05 & 4.7 &  & 4.6 \\\\\n",
       "\t24 & 2007-09-07 & 4.6 &  & 4.6 \\\\\n",
       "\t25 & 2007-08-03 & 4.6 &  & 4.5 \\\\\n",
       "\t26 & 2007-07-06 & 4.5 &  & 4.5 \\\\\n",
       "\t27 & 2007-06-01 & 4.5 &  & 4.5 \\\\\n",
       "\t28 & 2007-05-04 & 4.5 &  & 4.4 \\\\\n",
       "\t29 & 2007-04-06 & 4.4 &  & 4.5 \\\\\n",
       "\t30 & 2007-03-09 & 4.5 &  &  \\\\\n",
       "\\end{tabular}\n"
      ],
      "text/plain": [
       "30×4 DataFrame\n",
       "│ Row │ Date       │ ActualValue │ ForecastValue │ PreviousValue │\n",
       "│     │ \u001b[90mDate\u001b[39m       │ \u001b[90mFloat64\u001b[39m     │ \u001b[90mFloat64⍰\u001b[39m      │ \u001b[90mFloat64⍰\u001b[39m      │\n",
       "├─────┼────────────┼─────────────┼───────────────┼───────────────┤\n",
       "│ 1   │ 2009-08-07 │ 9.4         │ \u001b[90mmissing\u001b[39m       │ 9.5           │\n",
       "│ 2   │ 2009-07-02 │ 9.5         │ \u001b[90mmissing\u001b[39m       │ 9.4           │\n",
       "│ 3   │ 2009-06-05 │ 9.4         │ \u001b[90mmissing\u001b[39m       │ 8.9           │\n",
       "│ 4   │ 2009-05-08 │ 8.9         │ \u001b[90mmissing\u001b[39m       │ 8.5           │\n",
       "│ 5   │ 2009-04-03 │ 8.5         │ \u001b[90mmissing\u001b[39m       │ 8.1           │\n",
       "│ 6   │ 2009-03-06 │ 8.1         │ \u001b[90mmissing\u001b[39m       │ 7.6           │\n",
       "│ 7   │ 2009-02-06 │ 7.6         │ \u001b[90mmissing\u001b[39m       │ 7.2           │\n",
       "│ 8   │ 2009-01-09 │ 7.2         │ \u001b[90mmissing\u001b[39m       │ 6.7           │\n",
       "│ 9   │ 2008-12-05 │ 6.7         │ \u001b[90mmissing\u001b[39m       │ 6.5           │\n",
       "│ 10  │ 2008-11-07 │ 6.5         │ \u001b[90mmissing\u001b[39m       │ 6.1           │\n",
       "⋮\n",
       "│ 20  │ 2008-01-04 │ 5.0         │ \u001b[90mmissing\u001b[39m       │ 4.7           │\n",
       "│ 21  │ 2007-12-07 │ 4.7         │ \u001b[90mmissing\u001b[39m       │ 4.7           │\n",
       "│ 22  │ 2007-11-02 │ 4.7         │ \u001b[90mmissing\u001b[39m       │ 4.7           │\n",
       "│ 23  │ 2007-10-05 │ 4.7         │ \u001b[90mmissing\u001b[39m       │ 4.6           │\n",
       "│ 24  │ 2007-09-07 │ 4.6         │ \u001b[90mmissing\u001b[39m       │ 4.6           │\n",
       "│ 25  │ 2007-08-03 │ 4.6         │ \u001b[90mmissing\u001b[39m       │ 4.5           │\n",
       "│ 26  │ 2007-07-06 │ 4.5         │ \u001b[90mmissing\u001b[39m       │ 4.5           │\n",
       "│ 27  │ 2007-06-01 │ 4.5         │ \u001b[90mmissing\u001b[39m       │ 4.5           │\n",
       "│ 28  │ 2007-05-04 │ 4.5         │ \u001b[90mmissing\u001b[39m       │ 4.4           │\n",
       "│ 29  │ 2007-04-06 │ 4.4         │ \u001b[90mmissing\u001b[39m       │ 4.5           │\n",
       "│ 30  │ 2007-03-09 │ 4.5         │ \u001b[90mmissing\u001b[39m       │ \u001b[90mmissing\u001b[39m       │"
      ]
     },
     "execution_count": 34,
     "metadata": {},
     "output_type": "execute_result"
    }
   ],
   "source": [
    "using DataFrames, CSV\n",
    "\n",
    "file_path = \"data/united-states.unemployment-rate.csv\"\n",
    "# TODO auto re-load weekly\n",
    "#download( \"https://www.mql5.com/en/economic-calendar/united-states/unemployment-rate/export\" , file_path ) # URL, name to save\n",
    "df = fetch_data(file_path, \"yyyy.mm.dd\" ) # date format that is stored in teh file\n",
    "last(df, 30)"
   ]
  },
  {
   "cell_type": "markdown",
   "metadata": {},
   "source": [
    "# Sort DataFrame by Date"
   ]
  },
  {
   "cell_type": "code",
   "execution_count": 35,
   "metadata": {},
   "outputs": [
    {
     "data": {
      "text/html": [
       "<table class=\"data-frame\"><thead><tr><th></th><th>Date</th><th>ActualValue</th><th>ForecastValue</th><th>PreviousValue</th></tr><tr><th></th><th>Date</th><th>Float64</th><th>Float64⍰</th><th>Float64⍰</th></tr></thead><tbody><p>30 rows × 4 columns</p><tr><th>1</th><td>2018-04-06</td><td>4.1</td><td>4.0</td><td>4.1</td></tr><tr><th>2</th><td>2018-05-04</td><td>3.9</td><td>4.0</td><td>4.1</td></tr><tr><th>3</th><td>2018-06-01</td><td>3.8</td><td>4.0</td><td>3.9</td></tr><tr><th>4</th><td>2018-07-06</td><td>4.0</td><td>3.9</td><td>3.8</td></tr><tr><th>5</th><td>2018-08-03</td><td>3.9</td><td>3.9</td><td>4.0</td></tr><tr><th>6</th><td>2018-09-07</td><td>3.9</td><td>3.8</td><td>3.9</td></tr><tr><th>7</th><td>2018-10-05</td><td>3.7</td><td>3.8</td><td>3.9</td></tr><tr><th>8</th><td>2018-11-02</td><td>3.7</td><td>3.7</td><td>3.7</td></tr><tr><th>9</th><td>2018-12-07</td><td>3.7</td><td>3.7</td><td>3.7</td></tr><tr><th>10</th><td>2019-01-04</td><td>3.9</td><td>3.7</td><td>3.7</td></tr><tr><th>11</th><td>2019-02-01</td><td>4.0</td><td>3.7</td><td>3.9</td></tr><tr><th>12</th><td>2019-03-08</td><td>3.8</td><td>3.8</td><td>4.0</td></tr><tr><th>13</th><td>2019-04-05</td><td>3.8</td><td>3.8</td><td>3.8</td></tr><tr><th>14</th><td>2019-05-03</td><td>3.6</td><td>3.8</td><td>3.8</td></tr><tr><th>15</th><td>2019-06-07</td><td>3.6</td><td>3.8</td><td>3.6</td></tr><tr><th>16</th><td>2019-07-05</td><td>3.7</td><td>3.7</td><td>3.6</td></tr><tr><th>17</th><td>2019-08-02</td><td>3.7</td><td>3.6</td><td>3.7</td></tr><tr><th>18</th><td>2019-09-06</td><td>3.7</td><td>3.6</td><td>3.7</td></tr><tr><th>19</th><td>2019-10-04</td><td>3.5</td><td>3.6</td><td>3.7</td></tr><tr><th>20</th><td>2019-11-01</td><td>3.6</td><td>3.5</td><td>3.5</td></tr><tr><th>21</th><td>2019-12-06</td><td>3.5</td><td>3.5</td><td>3.6</td></tr><tr><th>22</th><td>2020-01-10</td><td>3.5</td><td>3.5</td><td>3.5</td></tr><tr><th>23</th><td>2020-02-07</td><td>3.6</td><td>3.5</td><td>3.5</td></tr><tr><th>24</th><td>2020-03-06</td><td>3.5</td><td>3.5</td><td>3.6</td></tr><tr><th>25</th><td>2020-04-03</td><td>4.4</td><td>3.5</td><td>3.5</td></tr><tr><th>26</th><td>2020-05-08</td><td>14.7</td><td>3.8</td><td>4.4</td></tr><tr><th>27</th><td>2020-06-05</td><td>13.3</td><td>16.5</td><td>14.7</td></tr><tr><th>28</th><td>2020-07-02</td><td>11.1</td><td>21.1</td><td>13.3</td></tr><tr><th>29</th><td>2020-08-07</td><td>10.2</td><td>14.2</td><td>11.1</td></tr><tr><th>30</th><td>2020-09-04</td><td>8.4</td><td>10.7</td><td>10.2</td></tr></tbody></table>"
      ],
      "text/latex": [
       "\\begin{tabular}{r|cccc}\n",
       "\t& Date & ActualValue & ForecastValue & PreviousValue\\\\\n",
       "\t\\hline\n",
       "\t& Date & Float64 & Float64⍰ & Float64⍰\\\\\n",
       "\t\\hline\n",
       "\t1 & 2018-04-06 & 4.1 & 4.0 & 4.1 \\\\\n",
       "\t2 & 2018-05-04 & 3.9 & 4.0 & 4.1 \\\\\n",
       "\t3 & 2018-06-01 & 3.8 & 4.0 & 3.9 \\\\\n",
       "\t4 & 2018-07-06 & 4.0 & 3.9 & 3.8 \\\\\n",
       "\t5 & 2018-08-03 & 3.9 & 3.9 & 4.0 \\\\\n",
       "\t6 & 2018-09-07 & 3.9 & 3.8 & 3.9 \\\\\n",
       "\t7 & 2018-10-05 & 3.7 & 3.8 & 3.9 \\\\\n",
       "\t8 & 2018-11-02 & 3.7 & 3.7 & 3.7 \\\\\n",
       "\t9 & 2018-12-07 & 3.7 & 3.7 & 3.7 \\\\\n",
       "\t10 & 2019-01-04 & 3.9 & 3.7 & 3.7 \\\\\n",
       "\t11 & 2019-02-01 & 4.0 & 3.7 & 3.9 \\\\\n",
       "\t12 & 2019-03-08 & 3.8 & 3.8 & 4.0 \\\\\n",
       "\t13 & 2019-04-05 & 3.8 & 3.8 & 3.8 \\\\\n",
       "\t14 & 2019-05-03 & 3.6 & 3.8 & 3.8 \\\\\n",
       "\t15 & 2019-06-07 & 3.6 & 3.8 & 3.6 \\\\\n",
       "\t16 & 2019-07-05 & 3.7 & 3.7 & 3.6 \\\\\n",
       "\t17 & 2019-08-02 & 3.7 & 3.6 & 3.7 \\\\\n",
       "\t18 & 2019-09-06 & 3.7 & 3.6 & 3.7 \\\\\n",
       "\t19 & 2019-10-04 & 3.5 & 3.6 & 3.7 \\\\\n",
       "\t20 & 2019-11-01 & 3.6 & 3.5 & 3.5 \\\\\n",
       "\t21 & 2019-12-06 & 3.5 & 3.5 & 3.6 \\\\\n",
       "\t22 & 2020-01-10 & 3.5 & 3.5 & 3.5 \\\\\n",
       "\t23 & 2020-02-07 & 3.6 & 3.5 & 3.5 \\\\\n",
       "\t24 & 2020-03-06 & 3.5 & 3.5 & 3.6 \\\\\n",
       "\t25 & 2020-04-03 & 4.4 & 3.5 & 3.5 \\\\\n",
       "\t26 & 2020-05-08 & 14.7 & 3.8 & 4.4 \\\\\n",
       "\t27 & 2020-06-05 & 13.3 & 16.5 & 14.7 \\\\\n",
       "\t28 & 2020-07-02 & 11.1 & 21.1 & 13.3 \\\\\n",
       "\t29 & 2020-08-07 & 10.2 & 14.2 & 11.1 \\\\\n",
       "\t30 & 2020-09-04 & 8.4 & 10.7 & 10.2 \\\\\n",
       "\\end{tabular}\n"
      ],
      "text/plain": [
       "30×4 DataFrame\n",
       "│ Row │ Date       │ ActualValue │ ForecastValue │ PreviousValue │\n",
       "│     │ \u001b[90mDate\u001b[39m       │ \u001b[90mFloat64\u001b[39m     │ \u001b[90mFloat64⍰\u001b[39m      │ \u001b[90mFloat64⍰\u001b[39m      │\n",
       "├─────┼────────────┼─────────────┼───────────────┼───────────────┤\n",
       "│ 1   │ 2018-04-06 │ 4.1         │ 4.0           │ 4.1           │\n",
       "│ 2   │ 2018-05-04 │ 3.9         │ 4.0           │ 4.1           │\n",
       "│ 3   │ 2018-06-01 │ 3.8         │ 4.0           │ 3.9           │\n",
       "│ 4   │ 2018-07-06 │ 4.0         │ 3.9           │ 3.8           │\n",
       "│ 5   │ 2018-08-03 │ 3.9         │ 3.9           │ 4.0           │\n",
       "│ 6   │ 2018-09-07 │ 3.9         │ 3.8           │ 3.9           │\n",
       "│ 7   │ 2018-10-05 │ 3.7         │ 3.8           │ 3.9           │\n",
       "│ 8   │ 2018-11-02 │ 3.7         │ 3.7           │ 3.7           │\n",
       "│ 9   │ 2018-12-07 │ 3.7         │ 3.7           │ 3.7           │\n",
       "│ 10  │ 2019-01-04 │ 3.9         │ 3.7           │ 3.7           │\n",
       "⋮\n",
       "│ 20  │ 2019-11-01 │ 3.6         │ 3.5           │ 3.5           │\n",
       "│ 21  │ 2019-12-06 │ 3.5         │ 3.5           │ 3.6           │\n",
       "│ 22  │ 2020-01-10 │ 3.5         │ 3.5           │ 3.5           │\n",
       "│ 23  │ 2020-02-07 │ 3.6         │ 3.5           │ 3.5           │\n",
       "│ 24  │ 2020-03-06 │ 3.5         │ 3.5           │ 3.6           │\n",
       "│ 25  │ 2020-04-03 │ 4.4         │ 3.5           │ 3.5           │\n",
       "│ 26  │ 2020-05-08 │ 14.7        │ 3.8           │ 4.4           │\n",
       "│ 27  │ 2020-06-05 │ 13.3        │ 16.5          │ 14.7          │\n",
       "│ 28  │ 2020-07-02 │ 11.1        │ 21.1          │ 13.3          │\n",
       "│ 29  │ 2020-08-07 │ 10.2        │ 14.2          │ 11.1          │\n",
       "│ 30  │ 2020-09-04 │ 8.4         │ 10.7          │ 10.2          │"
      ]
     },
     "execution_count": 35,
     "metadata": {},
     "output_type": "execute_result"
    }
   ],
   "source": [
    "using DataFrames, CSV\n",
    "df = sort(df, order(:Date, rev=false) );\n",
    "last(df, 30)"
   ]
  },
  {
   "cell_type": "code",
   "execution_count": 36,
   "metadata": {},
   "outputs": [
    {
     "data": {
      "text/html": [
       "<table class=\"data-frame\"><thead><tr><th></th><th>Date</th><th>ActualValue</th></tr><tr><th></th><th>Date</th><th>Float64</th></tr></thead><tbody><p>163 rows × 2 columns</p><tr><th>1</th><td>2007-03-09</td><td>4.5</td></tr><tr><th>2</th><td>2007-04-06</td><td>4.4</td></tr><tr><th>3</th><td>2007-05-04</td><td>4.5</td></tr><tr><th>4</th><td>2007-06-01</td><td>4.5</td></tr><tr><th>5</th><td>2007-07-06</td><td>4.5</td></tr><tr><th>6</th><td>2007-08-03</td><td>4.6</td></tr><tr><th>7</th><td>2007-09-07</td><td>4.6</td></tr><tr><th>8</th><td>2007-10-05</td><td>4.7</td></tr><tr><th>9</th><td>2007-11-02</td><td>4.7</td></tr><tr><th>10</th><td>2007-12-07</td><td>4.7</td></tr><tr><th>11</th><td>2008-01-04</td><td>5.0</td></tr><tr><th>12</th><td>2008-02-01</td><td>4.9</td></tr><tr><th>13</th><td>2008-03-07</td><td>4.8</td></tr><tr><th>14</th><td>2008-04-04</td><td>5.1</td></tr><tr><th>15</th><td>2008-05-02</td><td>5.0</td></tr><tr><th>16</th><td>2008-06-06</td><td>5.5</td></tr><tr><th>17</th><td>2008-07-03</td><td>5.5</td></tr><tr><th>18</th><td>2008-08-01</td><td>5.7</td></tr><tr><th>19</th><td>2008-09-05</td><td>6.1</td></tr><tr><th>20</th><td>2008-10-03</td><td>6.1</td></tr><tr><th>21</th><td>2008-11-07</td><td>6.5</td></tr><tr><th>22</th><td>2008-12-05</td><td>6.7</td></tr><tr><th>23</th><td>2009-01-09</td><td>7.2</td></tr><tr><th>24</th><td>2009-02-06</td><td>7.6</td></tr><tr><th>25</th><td>2009-03-06</td><td>8.1</td></tr><tr><th>26</th><td>2009-04-03</td><td>8.5</td></tr><tr><th>27</th><td>2009-05-08</td><td>8.9</td></tr><tr><th>28</th><td>2009-06-05</td><td>9.4</td></tr><tr><th>29</th><td>2009-07-02</td><td>9.5</td></tr><tr><th>30</th><td>2009-08-07</td><td>9.4</td></tr><tr><th>&vellip;</th><td>&vellip;</td><td>&vellip;</td></tr></tbody></table>"
      ],
      "text/latex": [
       "\\begin{tabular}{r|cc}\n",
       "\t& Date & ActualValue\\\\\n",
       "\t\\hline\n",
       "\t& Date & Float64\\\\\n",
       "\t\\hline\n",
       "\t1 & 2007-03-09 & 4.5 \\\\\n",
       "\t2 & 2007-04-06 & 4.4 \\\\\n",
       "\t3 & 2007-05-04 & 4.5 \\\\\n",
       "\t4 & 2007-06-01 & 4.5 \\\\\n",
       "\t5 & 2007-07-06 & 4.5 \\\\\n",
       "\t6 & 2007-08-03 & 4.6 \\\\\n",
       "\t7 & 2007-09-07 & 4.6 \\\\\n",
       "\t8 & 2007-10-05 & 4.7 \\\\\n",
       "\t9 & 2007-11-02 & 4.7 \\\\\n",
       "\t10 & 2007-12-07 & 4.7 \\\\\n",
       "\t11 & 2008-01-04 & 5.0 \\\\\n",
       "\t12 & 2008-02-01 & 4.9 \\\\\n",
       "\t13 & 2008-03-07 & 4.8 \\\\\n",
       "\t14 & 2008-04-04 & 5.1 \\\\\n",
       "\t15 & 2008-05-02 & 5.0 \\\\\n",
       "\t16 & 2008-06-06 & 5.5 \\\\\n",
       "\t17 & 2008-07-03 & 5.5 \\\\\n",
       "\t18 & 2008-08-01 & 5.7 \\\\\n",
       "\t19 & 2008-09-05 & 6.1 \\\\\n",
       "\t20 & 2008-10-03 & 6.1 \\\\\n",
       "\t21 & 2008-11-07 & 6.5 \\\\\n",
       "\t22 & 2008-12-05 & 6.7 \\\\\n",
       "\t23 & 2009-01-09 & 7.2 \\\\\n",
       "\t24 & 2009-02-06 & 7.6 \\\\\n",
       "\t25 & 2009-03-06 & 8.1 \\\\\n",
       "\t26 & 2009-04-03 & 8.5 \\\\\n",
       "\t27 & 2009-05-08 & 8.9 \\\\\n",
       "\t28 & 2009-06-05 & 9.4 \\\\\n",
       "\t29 & 2009-07-02 & 9.5 \\\\\n",
       "\t30 & 2009-08-07 & 9.4 \\\\\n",
       "\t$\\dots$ & $\\dots$ & $\\dots$ \\\\\n",
       "\\end{tabular}\n"
      ],
      "text/plain": [
       "163×2 DataFrame\n",
       "│ Row │ Date       │ ActualValue │\n",
       "│     │ \u001b[90mDate\u001b[39m       │ \u001b[90mFloat64\u001b[39m     │\n",
       "├─────┼────────────┼─────────────┤\n",
       "│ 1   │ 2007-03-09 │ 4.5         │\n",
       "│ 2   │ 2007-04-06 │ 4.4         │\n",
       "│ 3   │ 2007-05-04 │ 4.5         │\n",
       "│ 4   │ 2007-06-01 │ 4.5         │\n",
       "│ 5   │ 2007-07-06 │ 4.5         │\n",
       "│ 6   │ 2007-08-03 │ 4.6         │\n",
       "│ 7   │ 2007-09-07 │ 4.6         │\n",
       "│ 8   │ 2007-10-05 │ 4.7         │\n",
       "│ 9   │ 2007-11-02 │ 4.7         │\n",
       "│ 10  │ 2007-12-07 │ 4.7         │\n",
       "⋮\n",
       "│ 153 │ 2019-11-01 │ 3.6         │\n",
       "│ 154 │ 2019-12-06 │ 3.5         │\n",
       "│ 155 │ 2020-01-10 │ 3.5         │\n",
       "│ 156 │ 2020-02-07 │ 3.6         │\n",
       "│ 157 │ 2020-03-06 │ 3.5         │\n",
       "│ 158 │ 2020-04-03 │ 4.4         │\n",
       "│ 159 │ 2020-05-08 │ 14.7        │\n",
       "│ 160 │ 2020-06-05 │ 13.3        │\n",
       "│ 161 │ 2020-07-02 │ 11.1        │\n",
       "│ 162 │ 2020-08-07 │ 10.2        │\n",
       "│ 163 │ 2020-09-04 │ 8.4         │"
      ]
     },
     "execution_count": 36,
     "metadata": {},
     "output_type": "execute_result"
    }
   ],
   "source": [
    "select!(df, Not(:ForecastValue ))\n",
    "select!(df, Not(:PreviousValue ))"
   ]
  },
  {
   "cell_type": "code",
   "execution_count": 37,
   "metadata": {},
   "outputs": [
    {
     "data": {
      "image/svg+xml": [
       "<?xml version=\"1.0\" encoding=\"utf-8\"?>\n",
       "<svg xmlns=\"http://www.w3.org/2000/svg\" xmlns:xlink=\"http://www.w3.org/1999/xlink\" width=\"1300\" height=\"600\" viewBox=\"0 0 5200 2400\">\n",
       "<defs>\n",
       "  <clipPath id=\"clip6900\">\n",
       "    <rect x=\"0\" y=\"0\" width=\"5200\" height=\"2400\"/>\n",
       "  </clipPath>\n",
       "</defs>\n",
       "<path clip-path=\"url(#clip6900)\" d=\"\n",
       "M0 2400 L5200 2400 L5200 0 L0 0  Z\n",
       "  \" fill=\"#ffffff\" fill-rule=\"evenodd\" fill-opacity=\"1\"/>\n",
       "<defs>\n",
       "  <clipPath id=\"clip6901\">\n",
       "    <rect x=\"1040\" y=\"0\" width=\"3641\" height=\"2400\"/>\n",
       "  </clipPath>\n",
       "</defs>\n",
       "<path clip-path=\"url(#clip6900)\" d=\"\n",
       "M288.036 2240.44 L5152.76 2240.44 L5152.76 47.2441 L288.036 47.2441  Z\n",
       "  \" fill=\"#ffffff\" fill-rule=\"evenodd\" fill-opacity=\"1\"/>\n",
       "<defs>\n",
       "  <clipPath id=\"clip6902\">\n",
       "    <rect x=\"288\" y=\"47\" width=\"4866\" height=\"2194\"/>\n",
       "  </clipPath>\n",
       "</defs>\n",
       "<polyline clip-path=\"url(#clip6902)\" style=\"stroke:#000000; stroke-width:2; stroke-opacity:0.1; fill:none\" points=\"\n",
       "  363.321,2240.44 363.321,47.2441 \n",
       "  \"/>\n",
       "<polyline clip-path=\"url(#clip6902)\" style=\"stroke:#000000; stroke-width:2; stroke-opacity:0.1; fill:none\" points=\"\n",
       "  1723.92,2240.44 1723.92,47.2441 \n",
       "  \"/>\n",
       "<polyline clip-path=\"url(#clip6902)\" style=\"stroke:#000000; stroke-width:2; stroke-opacity:0.1; fill:none\" points=\"\n",
       "  3084.53,2240.44 3084.53,47.2441 \n",
       "  \"/>\n",
       "<polyline clip-path=\"url(#clip6902)\" style=\"stroke:#000000; stroke-width:2; stroke-opacity:0.1; fill:none\" points=\"\n",
       "  4445.13,2240.44 4445.13,47.2441 \n",
       "  \"/>\n",
       "<polyline clip-path=\"url(#clip6902)\" style=\"stroke:#000000; stroke-width:2; stroke-opacity:0.1; fill:none\" points=\"\n",
       "  288.036,1901.26 5152.76,1901.26 \n",
       "  \"/>\n",
       "<polyline clip-path=\"url(#clip6902)\" style=\"stroke:#000000; stroke-width:2; stroke-opacity:0.1; fill:none\" points=\"\n",
       "  288.036,1439.42 5152.76,1439.42 \n",
       "  \"/>\n",
       "<polyline clip-path=\"url(#clip6902)\" style=\"stroke:#000000; stroke-width:2; stroke-opacity:0.1; fill:none\" points=\"\n",
       "  288.036,977.577 5152.76,977.577 \n",
       "  \"/>\n",
       "<polyline clip-path=\"url(#clip6902)\" style=\"stroke:#000000; stroke-width:2; stroke-opacity:0.1; fill:none\" points=\"\n",
       "  288.036,515.736 5152.76,515.736 \n",
       "  \"/>\n",
       "<polyline clip-path=\"url(#clip6902)\" style=\"stroke:#000000; stroke-width:2; stroke-opacity:0.1; fill:none\" points=\"\n",
       "  288.036,53.8946 5152.76,53.8946 \n",
       "  \"/>\n",
       "<polyline clip-path=\"url(#clip6900)\" style=\"stroke:#000000; stroke-width:4; stroke-opacity:1; fill:none\" points=\"\n",
       "  288.036,2240.44 5152.76,2240.44 \n",
       "  \"/>\n",
       "<polyline clip-path=\"url(#clip6900)\" style=\"stroke:#000000; stroke-width:4; stroke-opacity:1; fill:none\" points=\"\n",
       "  288.036,2240.44 288.036,47.2441 \n",
       "  \"/>\n",
       "<polyline clip-path=\"url(#clip6900)\" style=\"stroke:#000000; stroke-width:4; stroke-opacity:1; fill:none\" points=\"\n",
       "  363.321,2240.44 363.321,2214.12 \n",
       "  \"/>\n",
       "<polyline clip-path=\"url(#clip6900)\" style=\"stroke:#000000; stroke-width:4; stroke-opacity:1; fill:none\" points=\"\n",
       "  1723.92,2240.44 1723.92,2214.12 \n",
       "  \"/>\n",
       "<polyline clip-path=\"url(#clip6900)\" style=\"stroke:#000000; stroke-width:4; stroke-opacity:1; fill:none\" points=\"\n",
       "  3084.53,2240.44 3084.53,2214.12 \n",
       "  \"/>\n",
       "<polyline clip-path=\"url(#clip6900)\" style=\"stroke:#000000; stroke-width:4; stroke-opacity:1; fill:none\" points=\"\n",
       "  4445.13,2240.44 4445.13,2214.12 \n",
       "  \"/>\n",
       "<polyline clip-path=\"url(#clip6900)\" style=\"stroke:#000000; stroke-width:4; stroke-opacity:1; fill:none\" points=\"\n",
       "  288.036,1901.26 346.413,1901.26 \n",
       "  \"/>\n",
       "<polyline clip-path=\"url(#clip6900)\" style=\"stroke:#000000; stroke-width:4; stroke-opacity:1; fill:none\" points=\"\n",
       "  288.036,1439.42 346.413,1439.42 \n",
       "  \"/>\n",
       "<polyline clip-path=\"url(#clip6900)\" style=\"stroke:#000000; stroke-width:4; stroke-opacity:1; fill:none\" points=\"\n",
       "  288.036,977.577 346.413,977.577 \n",
       "  \"/>\n",
       "<polyline clip-path=\"url(#clip6900)\" style=\"stroke:#000000; stroke-width:4; stroke-opacity:1; fill:none\" points=\"\n",
       "  288.036,515.736 346.413,515.736 \n",
       "  \"/>\n",
       "<polyline clip-path=\"url(#clip6900)\" style=\"stroke:#000000; stroke-width:4; stroke-opacity:1; fill:none\" points=\"\n",
       "  288.036,53.8946 346.413,53.8946 \n",
       "  \"/>\n",
       "<path clip-path=\"url(#clip6900)\" d=\"M 0 0 M250.312 2303.97 L266.632 2303.97 L266.632 2307.91 L244.687 2307.91 L244.687 2303.97 Q247.349 2301.22 251.933 2296.59 Q256.539 2291.94 257.72 2290.59 Q259.965 2288.07 260.845 2286.33 Q261.747 2284.57 261.747 2282.88 Q261.747 2280.13 259.803 2278.39 Q257.882 2276.66 254.78 2276.66 Q252.581 2276.66 250.127 2277.42 Q247.697 2278.19 244.919 2279.74 L244.919 2275.01 Q247.743 2273.88 250.197 2273.3 Q252.65 2272.72 254.687 2272.72 Q260.058 2272.72 263.252 2275.41 Q266.446 2278.09 266.446 2282.58 Q266.446 2284.71 265.636 2286.63 Q264.849 2288.53 262.743 2291.12 Q262.164 2291.8 259.062 2295.01 Q255.96 2298.21 250.312 2303.97 Z\" fill=\"#000000\" fill-rule=\"evenodd\" fill-opacity=\"1\" /><path clip-path=\"url(#clip6900)\" d=\"M 0 0 M281.701 2276.43 Q278.09 2276.43 276.261 2279.99 Q274.456 2283.53 274.456 2290.66 Q274.456 2297.77 276.261 2301.33 Q278.09 2304.87 281.701 2304.87 Q285.335 2304.87 287.141 2301.33 Q288.969 2297.77 288.969 2290.66 Q288.969 2283.53 287.141 2279.99 Q285.335 2276.43 281.701 2276.43 M281.701 2272.72 Q287.511 2272.72 290.567 2277.33 Q293.645 2281.91 293.645 2290.66 Q293.645 2299.39 290.567 2304 Q287.511 2308.58 281.701 2308.58 Q275.891 2308.58 272.812 2304 Q269.757 2299.39 269.757 2290.66 Q269.757 2281.91 272.812 2277.33 Q275.891 2272.72 281.701 2272.72 Z\" fill=\"#000000\" fill-rule=\"evenodd\" fill-opacity=\"1\" /><path clip-path=\"url(#clip6900)\" d=\"M 0 0 M308.715 2276.43 Q305.104 2276.43 303.275 2279.99 Q301.469 2283.53 301.469 2290.66 Q301.469 2297.77 303.275 2301.33 Q305.104 2304.87 308.715 2304.87 Q312.349 2304.87 314.155 2301.33 Q315.983 2297.77 315.983 2290.66 Q315.983 2283.53 314.155 2279.99 Q312.349 2276.43 308.715 2276.43 M308.715 2272.72 Q314.525 2272.72 317.58 2277.33 Q320.659 2281.91 320.659 2290.66 Q320.659 2299.39 317.58 2304 Q314.525 2308.58 308.715 2308.58 Q302.905 2308.58 299.826 2304 Q296.77 2299.39 296.77 2290.66 Q296.77 2281.91 299.826 2277.33 Q302.905 2272.72 308.715 2272.72 Z\" fill=\"#000000\" fill-rule=\"evenodd\" fill-opacity=\"1\" /><path clip-path=\"url(#clip6900)\" d=\"M 0 0 M324.548 2273.35 L346.77 2273.35 L346.77 2275.34 L334.224 2307.91 L329.34 2307.91 L341.145 2277.28 L324.548 2277.28 L324.548 2273.35 Z\" fill=\"#000000\" fill-rule=\"evenodd\" fill-opacity=\"1\" /><path clip-path=\"url(#clip6900)\" d=\"M 0 0 M349.085 2293.02 L361.562 2293.02 L361.562 2296.82 L349.085 2296.82 L349.085 2293.02 Z\" fill=\"#000000\" fill-rule=\"evenodd\" fill-opacity=\"1\" /><path clip-path=\"url(#clip6900)\" d=\"M 0 0 M376.631 2276.43 Q373.02 2276.43 371.191 2279.99 Q369.386 2283.53 369.386 2290.66 Q369.386 2297.77 371.191 2301.33 Q373.02 2304.87 376.631 2304.87 Q380.265 2304.87 382.071 2301.33 Q383.9 2297.77 383.9 2290.66 Q383.9 2283.53 382.071 2279.99 Q380.265 2276.43 376.631 2276.43 M376.631 2272.72 Q382.441 2272.72 385.497 2277.33 Q388.575 2281.91 388.575 2290.66 Q388.575 2299.39 385.497 2304 Q382.441 2308.58 376.631 2308.58 Q370.821 2308.58 367.742 2304 Q364.687 2299.39 364.687 2290.66 Q364.687 2281.91 367.742 2277.33 Q370.821 2272.72 376.631 2272.72 Z\" fill=\"#000000\" fill-rule=\"evenodd\" fill-opacity=\"1\" /><path clip-path=\"url(#clip6900)\" d=\"M 0 0 M394.455 2303.97 L402.094 2303.97 L402.094 2277.61 L393.784 2279.27 L393.784 2275.01 L402.048 2273.35 L406.723 2273.35 L406.723 2303.97 L414.362 2303.97 L414.362 2307.91 L394.455 2307.91 L394.455 2303.97 Z\" fill=\"#000000\" fill-rule=\"evenodd\" fill-opacity=\"1\" /><path clip-path=\"url(#clip6900)\" d=\"M 0 0 M416.677 2293.02 L429.154 2293.02 L429.154 2296.82 L416.677 2296.82 L416.677 2293.02 Z\" fill=\"#000000\" fill-rule=\"evenodd\" fill-opacity=\"1\" /><path clip-path=\"url(#clip6900)\" d=\"M 0 0 M444.223 2276.43 Q440.612 2276.43 438.784 2279.99 Q436.978 2283.53 436.978 2290.66 Q436.978 2297.77 438.784 2301.33 Q440.612 2304.87 444.223 2304.87 Q447.858 2304.87 449.663 2301.33 Q451.492 2297.77 451.492 2290.66 Q451.492 2283.53 449.663 2279.99 Q447.858 2276.43 444.223 2276.43 M444.223 2272.72 Q450.033 2272.72 453.089 2277.33 Q456.168 2281.91 456.168 2290.66 Q456.168 2299.39 453.089 2304 Q450.033 2308.58 444.223 2308.58 Q438.413 2308.58 435.334 2304 Q432.279 2299.39 432.279 2290.66 Q432.279 2281.91 435.334 2277.33 Q438.413 2272.72 444.223 2272.72 Z\" fill=\"#000000\" fill-rule=\"evenodd\" fill-opacity=\"1\" /><path clip-path=\"url(#clip6900)\" d=\"M 0 0 M462.047 2303.97 L469.686 2303.97 L469.686 2277.61 L461.376 2279.27 L461.376 2275.01 L469.64 2273.35 L474.316 2273.35 L474.316 2303.97 L481.955 2303.97 L481.955 2307.91 L462.047 2307.91 L462.047 2303.97 Z\" fill=\"#000000\" fill-rule=\"evenodd\" fill-opacity=\"1\" /><path clip-path=\"url(#clip6900)\" d=\"M 0 0 M1611.69 2303.97 L1628.01 2303.97 L1628.01 2307.91 L1606.07 2307.91 L1606.07 2303.97 Q1608.73 2301.22 1613.31 2296.59 Q1617.92 2291.94 1619.1 2290.59 Q1621.34 2288.07 1622.22 2286.33 Q1623.13 2284.57 1623.13 2282.88 Q1623.13 2280.13 1621.18 2278.39 Q1619.26 2276.66 1616.16 2276.66 Q1613.96 2276.66 1611.51 2277.42 Q1609.08 2278.19 1606.3 2279.74 L1606.3 2275.01 Q1609.12 2273.88 1611.58 2273.3 Q1614.03 2272.72 1616.07 2272.72 Q1621.44 2272.72 1624.63 2275.41 Q1627.83 2278.09 1627.83 2282.58 Q1627.83 2284.71 1627.01 2286.63 Q1626.23 2288.53 1624.12 2291.12 Q1623.54 2291.8 1620.44 2295.01 Q1617.34 2298.21 1611.69 2303.97 Z\" fill=\"#000000\" fill-rule=\"evenodd\" fill-opacity=\"1\" /><path clip-path=\"url(#clip6900)\" d=\"M 0 0 M1643.08 2276.43 Q1639.47 2276.43 1637.64 2279.99 Q1635.83 2283.53 1635.83 2290.66 Q1635.83 2297.77 1637.64 2301.33 Q1639.47 2304.87 1643.08 2304.87 Q1646.71 2304.87 1648.52 2301.33 Q1650.35 2297.77 1650.35 2290.66 Q1650.35 2283.53 1648.52 2279.99 Q1646.71 2276.43 1643.08 2276.43 M1643.08 2272.72 Q1648.89 2272.72 1651.95 2277.33 Q1655.02 2281.91 1655.02 2290.66 Q1655.02 2299.39 1651.95 2304 Q1648.89 2308.58 1643.08 2308.58 Q1637.27 2308.58 1634.19 2304 Q1631.14 2299.39 1631.14 2290.66 Q1631.14 2281.91 1634.19 2277.33 Q1637.27 2272.72 1643.08 2272.72 Z\" fill=\"#000000\" fill-rule=\"evenodd\" fill-opacity=\"1\" /><path clip-path=\"url(#clip6900)\" d=\"M 0 0 M1660.9 2303.97 L1668.54 2303.97 L1668.54 2277.61 L1660.23 2279.27 L1660.23 2275.01 L1668.5 2273.35 L1673.17 2273.35 L1673.17 2303.97 L1680.81 2303.97 L1680.81 2307.91 L1660.9 2307.91 L1660.9 2303.97 Z\" fill=\"#000000\" fill-rule=\"evenodd\" fill-opacity=\"1\" /><path clip-path=\"url(#clip6900)\" d=\"M 0 0 M1686.69 2303.97 L1694.33 2303.97 L1694.33 2277.61 L1686.02 2279.27 L1686.02 2275.01 L1694.28 2273.35 L1698.96 2273.35 L1698.96 2303.97 L1706.6 2303.97 L1706.6 2307.91 L1686.69 2307.91 L1686.69 2303.97 Z\" fill=\"#000000\" fill-rule=\"evenodd\" fill-opacity=\"1\" /><path clip-path=\"url(#clip6900)\" d=\"M 0 0 M1708.91 2293.02 L1721.39 2293.02 L1721.39 2296.82 L1708.91 2296.82 L1708.91 2293.02 Z\" fill=\"#000000\" fill-rule=\"evenodd\" fill-opacity=\"1\" /><path clip-path=\"url(#clip6900)\" d=\"M 0 0 M1736.46 2276.43 Q1732.85 2276.43 1731.02 2279.99 Q1729.21 2283.53 1729.21 2290.66 Q1729.21 2297.77 1731.02 2301.33 Q1732.85 2304.87 1736.46 2304.87 Q1740.09 2304.87 1741.9 2301.33 Q1743.73 2297.77 1743.73 2290.66 Q1743.73 2283.53 1741.9 2279.99 Q1740.09 2276.43 1736.46 2276.43 M1736.46 2272.72 Q1742.27 2272.72 1745.32 2277.33 Q1748.4 2281.91 1748.4 2290.66 Q1748.4 2299.39 1745.32 2304 Q1742.27 2308.58 1736.46 2308.58 Q1730.65 2308.58 1727.57 2304 Q1724.51 2299.39 1724.51 2290.66 Q1724.51 2281.91 1727.57 2277.33 Q1730.65 2272.72 1736.46 2272.72 Z\" fill=\"#000000\" fill-rule=\"evenodd\" fill-opacity=\"1\" /><path clip-path=\"url(#clip6900)\" d=\"M 0 0 M1754.28 2303.97 L1761.92 2303.97 L1761.92 2277.61 L1753.61 2279.27 L1753.61 2275.01 L1761.88 2273.35 L1766.55 2273.35 L1766.55 2303.97 L1774.19 2303.97 L1774.19 2307.91 L1754.28 2307.91 L1754.28 2303.97 Z\" fill=\"#000000\" fill-rule=\"evenodd\" fill-opacity=\"1\" /><path clip-path=\"url(#clip6900)\" d=\"M 0 0 M1776.5 2293.02 L1788.98 2293.02 L1788.98 2296.82 L1776.5 2296.82 L1776.5 2293.02 Z\" fill=\"#000000\" fill-rule=\"evenodd\" fill-opacity=\"1\" /><path clip-path=\"url(#clip6900)\" d=\"M 0 0 M1804.05 2276.43 Q1800.44 2276.43 1798.61 2279.99 Q1796.81 2283.53 1796.81 2290.66 Q1796.81 2297.77 1798.61 2301.33 Q1800.44 2304.87 1804.05 2304.87 Q1807.69 2304.87 1809.49 2301.33 Q1811.32 2297.77 1811.32 2290.66 Q1811.32 2283.53 1809.49 2279.99 Q1807.69 2276.43 1804.05 2276.43 M1804.05 2272.72 Q1809.86 2272.72 1812.92 2277.33 Q1816 2281.91 1816 2290.66 Q1816 2299.39 1812.92 2304 Q1809.86 2308.58 1804.05 2308.58 Q1798.24 2308.58 1795.16 2304 Q1792.11 2299.39 1792.11 2290.66 Q1792.11 2281.91 1795.16 2277.33 Q1798.24 2272.72 1804.05 2272.72 Z\" fill=\"#000000\" fill-rule=\"evenodd\" fill-opacity=\"1\" /><path clip-path=\"url(#clip6900)\" d=\"M 0 0 M1821.87 2303.97 L1829.51 2303.97 L1829.51 2277.61 L1821.2 2279.27 L1821.2 2275.01 L1829.47 2273.35 L1834.14 2273.35 L1834.14 2303.97 L1841.78 2303.97 L1841.78 2307.91 L1821.87 2307.91 L1821.87 2303.97 Z\" fill=\"#000000\" fill-rule=\"evenodd\" fill-opacity=\"1\" /><path clip-path=\"url(#clip6900)\" d=\"M 0 0 M2972.18 2303.97 L2988.5 2303.97 L2988.5 2307.91 L2966.55 2307.91 L2966.55 2303.97 Q2969.22 2301.22 2973.8 2296.59 Q2978.41 2291.94 2979.59 2290.59 Q2981.83 2288.07 2982.71 2286.33 Q2983.61 2284.57 2983.61 2282.88 Q2983.61 2280.13 2981.67 2278.39 Q2979.75 2276.66 2976.65 2276.66 Q2974.45 2276.66 2971.99 2277.42 Q2969.56 2278.19 2966.78 2279.74 L2966.78 2275.01 Q2969.61 2273.88 2972.06 2273.3 Q2974.52 2272.72 2976.55 2272.72 Q2981.92 2272.72 2985.12 2275.41 Q2988.31 2278.09 2988.31 2282.58 Q2988.31 2284.71 2987.5 2286.63 Q2986.72 2288.53 2984.61 2291.12 Q2984.03 2291.8 2980.93 2295.01 Q2977.83 2298.21 2972.18 2303.97 Z\" fill=\"#000000\" fill-rule=\"evenodd\" fill-opacity=\"1\" /><path clip-path=\"url(#clip6900)\" d=\"M 0 0 M3003.57 2276.43 Q2999.96 2276.43 2998.13 2279.99 Q2996.32 2283.53 2996.32 2290.66 Q2996.32 2297.77 2998.13 2301.33 Q2999.96 2304.87 3003.57 2304.87 Q3007.2 2304.87 3009.01 2301.33 Q3010.84 2297.77 3010.84 2290.66 Q3010.84 2283.53 3009.01 2279.99 Q3007.2 2276.43 3003.57 2276.43 M3003.57 2272.72 Q3009.38 2272.72 3012.43 2277.33 Q3015.51 2281.91 3015.51 2290.66 Q3015.51 2299.39 3012.43 2304 Q3009.38 2308.58 3003.57 2308.58 Q2997.76 2308.58 2994.68 2304 Q2991.62 2299.39 2991.62 2290.66 Q2991.62 2281.91 2994.68 2277.33 Q2997.76 2272.72 3003.57 2272.72 Z\" fill=\"#000000\" fill-rule=\"evenodd\" fill-opacity=\"1\" /><path clip-path=\"url(#clip6900)\" d=\"M 0 0 M3021.39 2303.97 L3029.03 2303.97 L3029.03 2277.61 L3020.72 2279.27 L3020.72 2275.01 L3028.98 2273.35 L3033.66 2273.35 L3033.66 2303.97 L3041.3 2303.97 L3041.3 2307.91 L3021.39 2307.91 L3021.39 2303.97 Z\" fill=\"#000000\" fill-rule=\"evenodd\" fill-opacity=\"1\" /><path clip-path=\"url(#clip6900)\" d=\"M 0 0 M3046.41 2273.35 L3064.77 2273.35 L3064.77 2277.28 L3050.7 2277.28 L3050.7 2285.75 Q3051.71 2285.41 3052.73 2285.25 Q3053.75 2285.06 3054.77 2285.06 Q3060.56 2285.06 3063.94 2288.23 Q3067.32 2291.4 3067.32 2296.82 Q3067.32 2302.4 3063.84 2305.5 Q3060.37 2308.58 3054.05 2308.58 Q3051.88 2308.58 3049.61 2308.21 Q3047.36 2307.84 3044.96 2307.1 L3044.96 2302.4 Q3047.04 2303.53 3049.26 2304.09 Q3051.48 2304.64 3053.96 2304.64 Q3057.96 2304.64 3060.3 2302.54 Q3062.64 2300.43 3062.64 2296.82 Q3062.64 2293.21 3060.3 2291.1 Q3057.96 2289 3053.96 2289 Q3052.09 2289 3050.21 2289.41 Q3048.36 2289.83 3046.41 2290.71 L3046.41 2273.35 Z\" fill=\"#000000\" fill-rule=\"evenodd\" fill-opacity=\"1\" /><path clip-path=\"url(#clip6900)\" d=\"M 0 0 M3069.63 2293.02 L3082.11 2293.02 L3082.11 2296.82 L3069.63 2296.82 L3069.63 2293.02 Z\" fill=\"#000000\" fill-rule=\"evenodd\" fill-opacity=\"1\" /><path clip-path=\"url(#clip6900)\" d=\"M 0 0 M3097.18 2276.43 Q3093.57 2276.43 3091.74 2279.99 Q3089.93 2283.53 3089.93 2290.66 Q3089.93 2297.77 3091.74 2301.33 Q3093.57 2304.87 3097.18 2304.87 Q3100.81 2304.87 3102.62 2301.33 Q3104.45 2297.77 3104.45 2290.66 Q3104.45 2283.53 3102.62 2279.99 Q3100.81 2276.43 3097.18 2276.43 M3097.18 2272.72 Q3102.99 2272.72 3106.04 2277.33 Q3109.12 2281.91 3109.12 2290.66 Q3109.12 2299.39 3106.04 2304 Q3102.99 2308.58 3097.18 2308.58 Q3091.37 2308.58 3088.29 2304 Q3085.23 2299.39 3085.23 2290.66 Q3085.23 2281.91 3088.29 2277.33 Q3091.37 2272.72 3097.18 2272.72 Z\" fill=\"#000000\" fill-rule=\"evenodd\" fill-opacity=\"1\" /><path clip-path=\"url(#clip6900)\" d=\"M 0 0 M3115 2303.97 L3122.64 2303.97 L3122.64 2277.61 L3114.33 2279.27 L3114.33 2275.01 L3122.59 2273.35 L3127.27 2273.35 L3127.27 2303.97 L3134.91 2303.97 L3134.91 2307.91 L3115 2307.91 L3115 2303.97 Z\" fill=\"#000000\" fill-rule=\"evenodd\" fill-opacity=\"1\" /><path clip-path=\"url(#clip6900)\" d=\"M 0 0 M3137.22 2293.02 L3149.7 2293.02 L3149.7 2296.82 L3137.22 2296.82 L3137.22 2293.02 Z\" fill=\"#000000\" fill-rule=\"evenodd\" fill-opacity=\"1\" /><path clip-path=\"url(#clip6900)\" d=\"M 0 0 M3164.77 2276.43 Q3161.16 2276.43 3159.33 2279.99 Q3157.52 2283.53 3157.52 2290.66 Q3157.52 2297.77 3159.33 2301.33 Q3161.16 2304.87 3164.77 2304.87 Q3168.4 2304.87 3170.21 2301.33 Q3172.04 2297.77 3172.04 2290.66 Q3172.04 2283.53 3170.21 2279.99 Q3168.4 2276.43 3164.77 2276.43 M3164.77 2272.72 Q3170.58 2272.72 3173.64 2277.33 Q3176.71 2281.91 3176.71 2290.66 Q3176.71 2299.39 3173.64 2304 Q3170.58 2308.58 3164.77 2308.58 Q3158.96 2308.58 3155.88 2304 Q3152.83 2299.39 3152.83 2290.66 Q3152.83 2281.91 3155.88 2277.33 Q3158.96 2272.72 3164.77 2272.72 Z\" fill=\"#000000\" fill-rule=\"evenodd\" fill-opacity=\"1\" /><path clip-path=\"url(#clip6900)\" d=\"M 0 0 M3182.59 2303.97 L3190.23 2303.97 L3190.23 2277.61 L3181.92 2279.27 L3181.92 2275.01 L3190.19 2273.35 L3194.86 2273.35 L3194.86 2303.97 L3202.5 2303.97 L3202.5 2307.91 L3182.59 2307.91 L3182.59 2303.97 Z\" fill=\"#000000\" fill-rule=\"evenodd\" fill-opacity=\"1\" /><path clip-path=\"url(#clip6900)\" d=\"M 0 0 M4332.38 2303.97 L4348.7 2303.97 L4348.7 2307.91 L4326.75 2307.91 L4326.75 2303.97 Q4329.41 2301.22 4334 2296.59 Q4338.6 2291.94 4339.78 2290.59 Q4342.03 2288.07 4342.91 2286.33 Q4343.81 2284.57 4343.81 2282.88 Q4343.81 2280.13 4341.87 2278.39 Q4339.95 2276.66 4336.84 2276.66 Q4334.64 2276.66 4332.19 2277.42 Q4329.76 2278.19 4326.98 2279.74 L4326.98 2275.01 Q4329.81 2273.88 4332.26 2273.3 Q4334.71 2272.72 4336.75 2272.72 Q4342.12 2272.72 4345.32 2275.41 Q4348.51 2278.09 4348.51 2282.58 Q4348.51 2284.71 4347.7 2286.63 Q4346.91 2288.53 4344.81 2291.12 Q4344.23 2291.8 4341.13 2295.01 Q4338.02 2298.21 4332.38 2303.97 Z\" fill=\"#000000\" fill-rule=\"evenodd\" fill-opacity=\"1\" /><path clip-path=\"url(#clip6900)\" d=\"M 0 0 M4363.77 2276.43 Q4360.15 2276.43 4358.33 2279.99 Q4356.52 2283.53 4356.52 2290.66 Q4356.52 2297.77 4358.33 2301.33 Q4360.15 2304.87 4363.77 2304.87 Q4367.4 2304.87 4369.2 2301.33 Q4371.03 2297.77 4371.03 2290.66 Q4371.03 2283.53 4369.2 2279.99 Q4367.4 2276.43 4363.77 2276.43 M4363.77 2272.72 Q4369.58 2272.72 4372.63 2277.33 Q4375.71 2281.91 4375.71 2290.66 Q4375.71 2299.39 4372.63 2304 Q4369.58 2308.58 4363.77 2308.58 Q4357.96 2308.58 4354.88 2304 Q4351.82 2299.39 4351.82 2290.66 Q4351.82 2281.91 4354.88 2277.33 Q4357.96 2272.72 4363.77 2272.72 Z\" fill=\"#000000\" fill-rule=\"evenodd\" fill-opacity=\"1\" /><path clip-path=\"url(#clip6900)\" d=\"M 0 0 M4381.59 2303.97 L4389.23 2303.97 L4389.23 2277.61 L4380.92 2279.27 L4380.92 2275.01 L4389.18 2273.35 L4393.86 2273.35 L4393.86 2303.97 L4401.5 2303.97 L4401.5 2307.91 L4381.59 2307.91 L4381.59 2303.97 Z\" fill=\"#000000\" fill-rule=\"evenodd\" fill-opacity=\"1\" /><path clip-path=\"url(#clip6900)\" d=\"M 0 0 M4406.7 2307.19 L4406.7 2302.93 Q4408.46 2303.76 4410.27 2304.2 Q4412.08 2304.64 4413.81 2304.64 Q4418.44 2304.64 4420.87 2301.54 Q4423.33 2298.42 4423.67 2292.07 Q4422.33 2294.06 4420.27 2295.13 Q4418.21 2296.19 4415.71 2296.19 Q4410.52 2296.19 4407.49 2293.07 Q4404.48 2289.92 4404.48 2284.48 Q4404.48 2279.16 4407.63 2275.94 Q4410.78 2272.72 4416.01 2272.72 Q4422.01 2272.72 4425.15 2277.33 Q4428.33 2281.91 4428.33 2290.66 Q4428.33 2298.83 4424.44 2303.72 Q4420.57 2308.58 4414.02 2308.58 Q4412.26 2308.58 4410.45 2308.23 Q4408.65 2307.88 4406.7 2307.19 M4416.01 2292.54 Q4419.16 2292.54 4420.99 2290.38 Q4422.84 2288.23 4422.84 2284.48 Q4422.84 2280.75 4420.99 2278.6 Q4419.16 2276.43 4416.01 2276.43 Q4412.86 2276.43 4411.01 2278.6 Q4409.18 2280.75 4409.18 2284.48 Q4409.18 2288.23 4411.01 2290.38 Q4412.86 2292.54 4416.01 2292.54 Z\" fill=\"#000000\" fill-rule=\"evenodd\" fill-opacity=\"1\" /><path clip-path=\"url(#clip6900)\" d=\"M 0 0 M4430.64 2293.02 L4443.12 2293.02 L4443.12 2296.82 L4430.64 2296.82 L4430.64 2293.02 Z\" fill=\"#000000\" fill-rule=\"evenodd\" fill-opacity=\"1\" /><path clip-path=\"url(#clip6900)\" d=\"M 0 0 M4458.19 2276.43 Q4454.57 2276.43 4452.75 2279.99 Q4450.94 2283.53 4450.94 2290.66 Q4450.94 2297.77 4452.75 2301.33 Q4454.57 2304.87 4458.19 2304.87 Q4461.82 2304.87 4463.63 2301.33 Q4465.45 2297.77 4465.45 2290.66 Q4465.45 2283.53 4463.63 2279.99 Q4461.82 2276.43 4458.19 2276.43 M4458.19 2272.72 Q4464 2272.72 4467.05 2277.33 Q4470.13 2281.91 4470.13 2290.66 Q4470.13 2299.39 4467.05 2304 Q4464 2308.58 4458.19 2308.58 Q4452.38 2308.58 4449.3 2304 Q4446.24 2299.39 4446.24 2290.66 Q4446.24 2281.91 4449.3 2277.33 Q4452.38 2272.72 4458.19 2272.72 Z\" fill=\"#000000\" fill-rule=\"evenodd\" fill-opacity=\"1\" /><path clip-path=\"url(#clip6900)\" d=\"M 0 0 M4476.01 2303.97 L4483.65 2303.97 L4483.65 2277.61 L4475.34 2279.27 L4475.34 2275.01 L4483.6 2273.35 L4488.28 2273.35 L4488.28 2303.97 L4495.92 2303.97 L4495.92 2307.91 L4476.01 2307.91 L4476.01 2303.97 Z\" fill=\"#000000\" fill-rule=\"evenodd\" fill-opacity=\"1\" /><path clip-path=\"url(#clip6900)\" d=\"M 0 0 M4498.23 2293.02 L4510.71 2293.02 L4510.71 2296.82 L4498.23 2296.82 L4498.23 2293.02 Z\" fill=\"#000000\" fill-rule=\"evenodd\" fill-opacity=\"1\" /><path clip-path=\"url(#clip6900)\" d=\"M 0 0 M4525.78 2276.43 Q4522.17 2276.43 4520.34 2279.99 Q4518.53 2283.53 4518.53 2290.66 Q4518.53 2297.77 4520.34 2301.33 Q4522.17 2304.87 4525.78 2304.87 Q4529.41 2304.87 4531.22 2301.33 Q4533.05 2297.77 4533.05 2290.66 Q4533.05 2283.53 4531.22 2279.99 Q4529.41 2276.43 4525.78 2276.43 M4525.78 2272.72 Q4531.59 2272.72 4534.64 2277.33 Q4537.72 2281.91 4537.72 2290.66 Q4537.72 2299.39 4534.64 2304 Q4531.59 2308.58 4525.78 2308.58 Q4519.97 2308.58 4516.89 2304 Q4513.83 2299.39 4513.83 2290.66 Q4513.83 2281.91 4516.89 2277.33 Q4519.97 2272.72 4525.78 2272.72 Z\" fill=\"#000000\" fill-rule=\"evenodd\" fill-opacity=\"1\" /><path clip-path=\"url(#clip6900)\" d=\"M 0 0 M4543.6 2303.97 L4551.24 2303.97 L4551.24 2277.61 L4542.93 2279.27 L4542.93 2275.01 L4551.19 2273.35 L4555.87 2273.35 L4555.87 2303.97 L4563.51 2303.97 L4563.51 2307.91 L4543.6 2307.91 L4543.6 2303.97 Z\" fill=\"#000000\" fill-rule=\"evenodd\" fill-opacity=\"1\" /><path clip-path=\"url(#clip6900)\" d=\"M 0 0 M172.703 1883.98 L191.059 1883.98 L191.059 1887.91 L176.985 1887.91 L176.985 1896.39 Q178.004 1896.04 179.023 1895.88 Q180.041 1895.69 181.06 1895.69 Q186.847 1895.69 190.226 1898.86 Q193.606 1902.03 193.606 1907.45 Q193.606 1913.03 190.134 1916.13 Q186.661 1919.21 180.342 1919.21 Q178.166 1919.21 175.898 1918.84 Q173.652 1918.47 171.245 1917.73 L171.245 1913.03 Q173.328 1914.16 175.55 1914.72 Q177.773 1915.28 180.249 1915.28 Q184.254 1915.28 186.592 1913.17 Q188.93 1911.06 188.93 1907.45 Q188.93 1903.84 186.592 1901.73 Q184.254 1899.63 180.249 1899.63 Q178.374 1899.63 176.499 1900.04 Q174.648 1900.46 172.703 1901.34 L172.703 1883.98 Z\" fill=\"#000000\" fill-rule=\"evenodd\" fill-opacity=\"1\" /><path clip-path=\"url(#clip6900)\" d=\"M 0 0 M228.073 1903.33 Q226.059 1903.33 224.902 1905.04 Q223.768 1906.76 223.768 1909.81 Q223.768 1912.82 224.902 1914.56 Q226.059 1916.27 228.073 1916.27 Q230.041 1916.27 231.175 1914.56 Q232.332 1912.82 232.332 1909.81 Q232.332 1906.78 231.175 1905.07 Q230.041 1903.33 228.073 1903.33 M228.073 1900.39 Q231.731 1900.39 233.883 1902.94 Q236.036 1905.48 236.036 1909.81 Q236.036 1914.14 233.86 1916.69 Q231.707 1919.21 228.073 1919.21 Q224.369 1919.21 222.217 1916.69 Q220.064 1914.14 220.064 1909.81 Q220.064 1905.46 222.217 1902.94 Q224.393 1900.39 228.073 1900.39 M204.184 1886.29 Q202.194 1886.29 201.036 1888.03 Q199.902 1889.74 199.902 1892.75 Q199.902 1895.81 201.036 1897.52 Q202.171 1899.23 204.184 1899.23 Q206.198 1899.23 207.333 1897.52 Q208.49 1895.81 208.49 1892.75 Q208.49 1889.77 207.333 1888.03 Q206.175 1886.29 204.184 1886.29 M225.087 1883.35 L228.791 1883.35 L207.171 1919.21 L203.467 1919.21 L225.087 1883.35 M204.184 1883.35 Q207.842 1883.35 210.018 1885.9 Q212.194 1888.42 212.194 1892.75 Q212.194 1897.13 210.018 1899.65 Q207.865 1902.17 204.184 1902.17 Q200.504 1902.17 198.351 1899.65 Q196.221 1897.1 196.221 1892.75 Q196.221 1888.45 198.374 1885.9 Q200.527 1883.35 204.184 1883.35 Z\" fill=\"#000000\" fill-rule=\"evenodd\" fill-opacity=\"1\" /><path clip-path=\"url(#clip6900)\" d=\"M 0 0 M135.412 1422.14 L157.634 1422.14 L157.634 1424.13 L145.088 1456.7 L140.203 1456.7 L152.009 1426.07 L135.412 1426.07 L135.412 1422.14 Z\" fill=\"#000000\" fill-rule=\"evenodd\" fill-opacity=\"1\" /><path clip-path=\"url(#clip6900)\" d=\"M 0 0 M162.703 1450.82 L167.587 1450.82 L167.587 1456.7 L162.703 1456.7 L162.703 1450.82 Z\" fill=\"#000000\" fill-rule=\"evenodd\" fill-opacity=\"1\" /><path clip-path=\"url(#clip6900)\" d=\"M 0 0 M172.703 1422.14 L191.059 1422.14 L191.059 1426.07 L176.985 1426.07 L176.985 1434.55 Q178.004 1434.2 179.023 1434.04 Q180.041 1433.85 181.06 1433.85 Q186.847 1433.85 190.226 1437.02 Q193.606 1440.19 193.606 1445.61 Q193.606 1451.19 190.134 1454.29 Q186.661 1457.37 180.342 1457.37 Q178.166 1457.37 175.898 1457 Q173.652 1456.63 171.245 1455.89 L171.245 1451.19 Q173.328 1452.32 175.55 1452.88 Q177.773 1453.43 180.249 1453.43 Q184.254 1453.43 186.592 1451.33 Q188.93 1449.22 188.93 1445.61 Q188.93 1442 186.592 1439.89 Q184.254 1437.79 180.249 1437.79 Q178.374 1437.79 176.499 1438.2 Q174.648 1438.62 172.703 1439.5 L172.703 1422.14 Z\" fill=\"#000000\" fill-rule=\"evenodd\" fill-opacity=\"1\" /><path clip-path=\"url(#clip6900)\" d=\"M 0 0 M228.073 1441.49 Q226.059 1441.49 224.902 1443.2 Q223.768 1444.92 223.768 1447.97 Q223.768 1450.98 224.902 1452.72 Q226.059 1454.43 228.073 1454.43 Q230.041 1454.43 231.175 1452.72 Q232.332 1450.98 232.332 1447.97 Q232.332 1444.94 231.175 1443.23 Q230.041 1441.49 228.073 1441.49 M228.073 1438.55 Q231.731 1438.55 233.883 1441.1 Q236.036 1443.64 236.036 1447.97 Q236.036 1452.3 233.86 1454.85 Q231.707 1457.37 228.073 1457.37 Q224.369 1457.37 222.217 1454.85 Q220.064 1452.3 220.064 1447.97 Q220.064 1443.62 222.217 1441.1 Q224.393 1438.55 228.073 1438.55 M204.184 1424.45 Q202.194 1424.45 201.036 1426.19 Q199.902 1427.9 199.902 1430.91 Q199.902 1433.97 201.036 1435.68 Q202.171 1437.39 204.184 1437.39 Q206.198 1437.39 207.333 1435.68 Q208.49 1433.97 208.49 1430.91 Q208.49 1427.92 207.333 1426.19 Q206.175 1424.45 204.184 1424.45 M225.087 1421.51 L228.791 1421.51 L207.171 1457.37 L203.467 1457.37 L225.087 1421.51 M204.184 1421.51 Q207.842 1421.51 210.018 1424.06 Q212.194 1426.58 212.194 1430.91 Q212.194 1435.29 210.018 1437.81 Q207.865 1440.33 204.184 1440.33 Q200.504 1440.33 198.351 1437.81 Q196.221 1435.26 196.221 1430.91 Q196.221 1426.61 198.374 1424.06 Q200.527 1421.51 204.184 1421.51 Z\" fill=\"#000000\" fill-rule=\"evenodd\" fill-opacity=\"1\" /><path clip-path=\"url(#clip6900)\" d=\"M 0 0 M146.685 990.922 L154.324 990.922 L154.324 964.556 L146.013 966.223 L146.013 961.964 L154.277 960.297 L158.953 960.297 L158.953 990.922 L166.592 990.922 L166.592 994.857 L146.685 994.857 L146.685 990.922 Z\" fill=\"#000000\" fill-rule=\"evenodd\" fill-opacity=\"1\" /><path clip-path=\"url(#clip6900)\" d=\"M 0 0 M181.661 963.376 Q178.05 963.376 176.222 966.94 Q174.416 970.482 174.416 977.612 Q174.416 984.718 176.222 988.283 Q178.05 991.824 181.661 991.824 Q185.296 991.824 187.101 988.283 Q188.93 984.718 188.93 977.612 Q188.93 970.482 187.101 966.94 Q185.296 963.376 181.661 963.376 M181.661 959.672 Q187.472 959.672 190.527 964.278 Q193.606 968.862 193.606 977.612 Q193.606 986.338 190.527 990.945 Q187.472 995.528 181.661 995.528 Q175.851 995.528 172.773 990.945 Q169.717 986.338 169.717 977.612 Q169.717 968.862 172.773 964.278 Q175.851 959.672 181.661 959.672 Z\" fill=\"#000000\" fill-rule=\"evenodd\" fill-opacity=\"1\" /><path clip-path=\"url(#clip6900)\" d=\"M 0 0 M228.073 979.649 Q226.059 979.649 224.902 981.362 Q223.768 983.075 223.768 986.13 Q223.768 989.139 224.902 990.875 Q226.059 992.588 228.073 992.588 Q230.041 992.588 231.175 990.875 Q232.332 989.139 232.332 986.13 Q232.332 983.098 231.175 981.385 Q230.041 979.649 228.073 979.649 M228.073 976.709 Q231.731 976.709 233.883 979.255 Q236.036 981.801 236.036 986.13 Q236.036 990.459 233.86 993.005 Q231.707 995.528 228.073 995.528 Q224.369 995.528 222.217 993.005 Q220.064 990.459 220.064 986.13 Q220.064 981.778 222.217 979.255 Q224.393 976.709 228.073 976.709 M204.184 962.612 Q202.194 962.612 201.036 964.348 Q199.902 966.061 199.902 969.07 Q199.902 972.125 201.036 973.838 Q202.171 975.551 204.184 975.551 Q206.198 975.551 207.333 973.838 Q208.49 972.125 208.49 969.07 Q208.49 966.084 207.333 964.348 Q206.175 962.612 204.184 962.612 M225.087 959.672 L228.791 959.672 L207.171 995.528 L203.467 995.528 L225.087 959.672 M204.184 959.672 Q207.842 959.672 210.018 962.218 Q212.194 964.741 212.194 969.07 Q212.194 973.445 210.018 975.968 Q207.865 978.491 204.184 978.491 Q200.504 978.491 198.351 975.968 Q196.221 973.422 196.221 969.07 Q196.221 964.764 198.374 962.218 Q200.527 959.672 204.184 959.672 Z\" fill=\"#000000\" fill-rule=\"evenodd\" fill-opacity=\"1\" /><path clip-path=\"url(#clip6900)\" d=\"M 0 0 M112.31 529.081 L119.949 529.081 L119.949 502.715 L111.639 504.382 L111.639 500.122 L119.902 498.456 L124.578 498.456 L124.578 529.081 L132.217 529.081 L132.217 533.016 L112.31 533.016 L112.31 529.081 Z\" fill=\"#000000\" fill-rule=\"evenodd\" fill-opacity=\"1\" /><path clip-path=\"url(#clip6900)\" d=\"M 0 0 M141.314 529.081 L157.634 529.081 L157.634 533.016 L135.689 533.016 L135.689 529.081 Q138.351 526.326 142.935 521.696 Q147.541 517.044 148.722 515.701 Q150.967 513.178 151.847 511.442 Q152.75 509.683 152.75 507.993 Q152.75 505.238 150.805 503.502 Q148.884 501.766 145.782 501.766 Q143.583 501.766 141.129 502.53 Q138.699 503.294 135.921 504.845 L135.921 500.122 Q138.745 498.988 141.199 498.409 Q143.652 497.831 145.689 497.831 Q151.06 497.831 154.254 500.516 Q157.449 503.201 157.449 507.692 Q157.449 509.821 156.638 511.743 Q155.851 513.641 153.745 516.233 Q153.166 516.905 150.064 520.122 Q146.963 523.317 141.314 529.081 Z\" fill=\"#000000\" fill-rule=\"evenodd\" fill-opacity=\"1\" /><path clip-path=\"url(#clip6900)\" d=\"M 0 0 M162.703 527.136 L167.587 527.136 L167.587 533.016 L162.703 533.016 L162.703 527.136 Z\" fill=\"#000000\" fill-rule=\"evenodd\" fill-opacity=\"1\" /><path clip-path=\"url(#clip6900)\" d=\"M 0 0 M172.703 498.456 L191.059 498.456 L191.059 502.391 L176.985 502.391 L176.985 510.863 Q178.004 510.516 179.023 510.354 Q180.041 510.169 181.06 510.169 Q186.847 510.169 190.226 513.34 Q193.606 516.511 193.606 521.928 Q193.606 527.507 190.134 530.608 Q186.661 533.687 180.342 533.687 Q178.166 533.687 175.898 533.317 Q173.652 532.946 171.245 532.206 L171.245 527.507 Q173.328 528.641 175.55 529.196 Q177.773 529.752 180.249 529.752 Q184.254 529.752 186.592 527.645 Q188.93 525.539 188.93 521.928 Q188.93 518.317 186.592 516.21 Q184.254 514.104 180.249 514.104 Q178.374 514.104 176.499 514.52 Q174.648 514.937 172.703 515.817 L172.703 498.456 Z\" fill=\"#000000\" fill-rule=\"evenodd\" fill-opacity=\"1\" /><path clip-path=\"url(#clip6900)\" d=\"M 0 0 M228.073 517.807 Q226.059 517.807 224.902 519.52 Q223.768 521.233 223.768 524.289 Q223.768 527.298 224.902 529.034 Q226.059 530.747 228.073 530.747 Q230.041 530.747 231.175 529.034 Q232.332 527.298 232.332 524.289 Q232.332 521.257 231.175 519.544 Q230.041 517.807 228.073 517.807 M228.073 514.868 Q231.731 514.868 233.883 517.414 Q236.036 519.96 236.036 524.289 Q236.036 528.618 233.86 531.164 Q231.707 533.687 228.073 533.687 Q224.369 533.687 222.217 531.164 Q220.064 528.618 220.064 524.289 Q220.064 519.937 222.217 517.414 Q224.393 514.868 228.073 514.868 M204.184 500.771 Q202.194 500.771 201.036 502.507 Q199.902 504.22 199.902 507.229 Q199.902 510.284 201.036 511.997 Q202.171 513.71 204.184 513.71 Q206.198 513.71 207.333 511.997 Q208.49 510.284 208.49 507.229 Q208.49 504.243 207.333 502.507 Q206.175 500.771 204.184 500.771 M225.087 497.831 L228.791 497.831 L207.171 533.687 L203.467 533.687 L225.087 497.831 M204.184 497.831 Q207.842 497.831 210.018 500.377 Q212.194 502.9 212.194 507.229 Q212.194 511.604 210.018 514.127 Q207.865 516.65 204.184 516.65 Q200.504 516.65 198.351 514.127 Q196.221 511.581 196.221 507.229 Q196.221 502.923 198.374 500.377 Q200.527 497.831 204.184 497.831 Z\" fill=\"#000000\" fill-rule=\"evenodd\" fill-opacity=\"1\" /><path clip-path=\"url(#clip6900)\" d=\"M 0 0 M147.68 67.2394 L155.319 67.2394 L155.319 40.8738 L147.009 42.5405 L147.009 38.2813 L155.273 36.6146 L159.949 36.6146 L159.949 67.2394 L167.587 67.2394 L167.587 71.1746 L147.68 71.1746 L147.68 67.2394 Z\" fill=\"#000000\" fill-rule=\"evenodd\" fill-opacity=\"1\" /><path clip-path=\"url(#clip6900)\" d=\"M 0 0 M172.703 36.6146 L191.059 36.6146 L191.059 40.5498 L176.985 40.5498 L176.985 49.0219 Q178.004 48.6747 179.023 48.5127 Q180.041 48.3275 181.06 48.3275 Q186.847 48.3275 190.226 51.4988 Q193.606 54.6701 193.606 60.0867 Q193.606 65.6654 190.134 68.7672 Q186.661 71.8459 180.342 71.8459 Q178.166 71.8459 175.898 71.4755 Q173.652 71.1052 171.245 70.3644 L171.245 65.6654 Q173.328 66.7996 175.55 67.3552 Q177.773 67.9107 180.249 67.9107 Q184.254 67.9107 186.592 65.8043 Q188.93 63.6978 188.93 60.0867 Q188.93 56.4756 186.592 54.3691 Q184.254 52.2627 180.249 52.2627 Q178.374 52.2627 176.499 52.6793 Q174.648 53.096 172.703 53.9756 L172.703 36.6146 Z\" fill=\"#000000\" fill-rule=\"evenodd\" fill-opacity=\"1\" /><path clip-path=\"url(#clip6900)\" d=\"M 0 0 M228.073 55.9664 Q226.059 55.9664 224.902 57.6793 Q223.768 59.3923 223.768 62.4478 Q223.768 65.457 224.902 67.1931 Q226.059 68.9061 228.073 68.9061 Q230.041 68.9061 231.175 67.1931 Q232.332 65.457 232.332 62.4478 Q232.332 59.4154 231.175 57.7025 Q230.041 55.9664 228.073 55.9664 M228.073 53.0266 Q231.731 53.0266 233.883 55.5728 Q236.036 58.1191 236.036 62.4478 Q236.036 66.7765 233.86 69.3228 Q231.707 71.8459 228.073 71.8459 Q224.369 71.8459 222.217 69.3228 Q220.064 66.7765 220.064 62.4478 Q220.064 58.096 222.217 55.5728 Q224.393 53.0266 228.073 53.0266 M204.184 38.9294 Q202.194 38.9294 201.036 40.6655 Q199.902 42.3785 199.902 45.3877 Q199.902 48.4432 201.036 50.1562 Q202.171 51.8692 204.184 51.8692 Q206.198 51.8692 207.333 50.1562 Q208.49 48.4432 208.49 45.3877 Q208.49 42.4016 207.333 40.6655 Q206.175 38.9294 204.184 38.9294 M225.087 35.9896 L228.791 35.9896 L207.171 71.8459 L203.467 71.8459 L225.087 35.9896 M204.184 35.9896 Q207.842 35.9896 210.018 38.5359 Q212.194 41.059 212.194 45.3877 Q212.194 49.7627 210.018 52.2858 Q207.865 54.809 204.184 54.809 Q200.504 54.809 198.351 52.2858 Q196.221 49.7395 196.221 45.3877 Q196.221 41.0822 198.374 38.5359 Q200.527 35.9896 204.184 35.9896 Z\" fill=\"#000000\" fill-rule=\"evenodd\" fill-opacity=\"1\" /><path clip-path=\"url(#clip6900)\" d=\"M 0 0 M2666.16 2355.53 L2666.16 2365.65 L2678.22 2365.65 L2678.22 2370.2 L2666.16 2370.2 L2666.16 2389.55 Q2666.16 2393.92 2667.34 2395.16 Q2668.55 2396.4 2672.21 2396.4 L2678.22 2396.4 L2678.22 2401.3 L2672.21 2401.3 Q2665.43 2401.3 2662.85 2398.78 Q2660.27 2396.24 2660.27 2389.55 L2660.27 2370.2 L2655.98 2370.2 L2655.98 2365.65 L2660.27 2365.65 L2660.27 2355.53 L2666.16 2355.53 Z\" fill=\"#000000\" fill-rule=\"evenodd\" fill-opacity=\"1\" /><path clip-path=\"url(#clip6900)\" d=\"M 0 0 M2684.37 2365.65 L2690.22 2365.65 L2690.22 2401.3 L2684.37 2401.3 L2684.37 2365.65 M2684.37 2351.77 L2690.22 2351.77 L2690.22 2359.19 L2684.37 2359.19 L2684.37 2351.77 Z\" fill=\"#000000\" fill-rule=\"evenodd\" fill-opacity=\"1\" /><path clip-path=\"url(#clip6900)\" d=\"M 0 0 M2724.12 2372.49 Q2726.32 2368.55 2729.37 2366.67 Q2732.43 2364.79 2736.56 2364.79 Q2742.13 2364.79 2745.16 2368.71 Q2748.18 2372.59 2748.18 2379.78 L2748.18 2401.3 L2742.29 2401.3 L2742.29 2379.97 Q2742.29 2374.85 2740.48 2372.37 Q2738.67 2369.88 2734.94 2369.88 Q2730.39 2369.88 2727.75 2372.91 Q2725.11 2375.93 2725.11 2381.15 L2725.11 2401.3 L2719.22 2401.3 L2719.22 2379.97 Q2719.22 2374.82 2717.4 2372.37 Q2715.59 2369.88 2711.8 2369.88 Q2707.31 2369.88 2704.67 2372.94 Q2702.03 2375.96 2702.03 2381.15 L2702.03 2401.3 L2696.14 2401.3 L2696.14 2365.65 L2702.03 2365.65 L2702.03 2371.19 Q2704.04 2367.91 2706.84 2366.35 Q2709.64 2364.79 2713.49 2364.79 Q2717.37 2364.79 2720.08 2366.77 Q2722.81 2368.74 2724.12 2372.49 Z\" fill=\"#000000\" fill-rule=\"evenodd\" fill-opacity=\"1\" /><path clip-path=\"url(#clip6900)\" d=\"M 0 0 M2784.82 2382.01 L2784.82 2384.88 L2757.89 2384.88 Q2758.27 2390.92 2761.52 2394.11 Q2764.8 2397.26 2770.62 2397.26 Q2774 2397.26 2777.15 2396.43 Q2780.33 2395.6 2783.45 2393.95 L2783.45 2399.49 Q2780.3 2400.82 2776.99 2401.52 Q2773.68 2402.22 2770.27 2402.22 Q2761.74 2402.22 2756.74 2397.26 Q2751.78 2392.29 2751.78 2383.83 Q2751.78 2375.07 2756.49 2369.95 Q2761.23 2364.79 2769.25 2364.79 Q2776.45 2364.79 2780.62 2369.44 Q2784.82 2374.05 2784.82 2382.01 M2778.96 2380.29 Q2778.9 2375.49 2776.26 2372.62 Q2773.65 2369.76 2769.32 2369.76 Q2764.41 2369.76 2761.45 2372.53 Q2758.53 2375.3 2758.08 2380.32 L2778.96 2380.29 Z\" fill=\"#000000\" fill-rule=\"evenodd\" fill-opacity=\"1\" /><path clip-path=\"url(#clip6900)\" d=\"M 0 0 M27.4632 1235.19 Q27.4632 1242.29 29.0864 1245.02 Q30.7097 1247.76 34.6246 1247.76 Q37.7438 1247.76 39.5898 1245.72 Q41.4041 1243.65 41.4041 1240.12 Q41.4041 1235.25 37.9666 1232.32 Q34.4973 1229.36 28.7681 1229.36 L27.4632 1229.36 L27.4632 1235.19 M25.0442 1223.51 L45.3826 1223.51 L45.3826 1229.36 L39.9718 1229.36 Q43.2183 1231.37 44.7779 1234.36 Q46.3056 1237.35 46.3056 1241.68 Q46.3056 1247.16 43.2501 1250.4 Q40.1627 1253.62 35.0065 1253.62 Q28.9909 1253.62 25.9354 1249.61 Q22.8798 1245.56 22.8798 1237.57 L22.8798 1229.36 L22.3069 1229.36 Q18.2647 1229.36 16.0685 1232.04 Q13.8405 1234.68 13.8405 1239.48 Q13.8405 1242.54 14.5726 1245.44 Q15.3047 1248.33 16.7688 1251.01 L11.3579 1251.01 Q10.1166 1247.79 9.51186 1244.77 Q8.87529 1241.74 8.87529 1238.88 Q8.87529 1231.15 12.8857 1227.33 Q16.8961 1223.51 25.0442 1223.51 Z\" fill=\"#000000\" fill-rule=\"evenodd\" fill-opacity=\"1\" /><path clip-path=\"url(#clip6900)\" d=\"M 0 0 M16.5778 1189.61 Q12.6311 1187.41 10.7532 1184.36 Q8.87529 1181.3 8.87529 1177.16 Q8.87529 1171.59 12.7902 1168.57 Q16.6733 1165.55 23.8665 1165.55 L45.3826 1165.55 L45.3826 1171.43 L24.0575 1171.43 Q18.9331 1171.43 16.4505 1173.25 Q13.9679 1175.06 13.9679 1178.79 Q13.9679 1183.34 16.9916 1185.98 Q20.0153 1188.62 25.2352 1188.62 L45.3826 1188.62 L45.3826 1194.51 L24.0575 1194.51 Q18.9013 1194.51 16.4505 1196.32 Q13.9679 1198.14 13.9679 1201.93 Q13.9679 1206.41 17.0234 1209.06 Q20.0471 1211.7 25.2352 1211.7 L45.3826 1211.7 L45.3826 1217.59 L9.73466 1217.59 L9.73466 1211.7 L15.2728 1211.7 Q11.9945 1209.69 10.4349 1206.89 Q8.87529 1204.09 8.87529 1200.24 Q8.87529 1196.36 10.8487 1193.65 Q12.822 1190.91 16.5778 1189.61 Z\" fill=\"#000000\" fill-rule=\"evenodd\" fill-opacity=\"1\" /><path clip-path=\"url(#clip6900)\" d=\"M 0 0 M13.8405 1145.59 Q13.8405 1150.3 17.5327 1153.04 Q21.1929 1155.78 27.5905 1155.78 Q33.988 1155.78 37.6801 1153.07 Q41.3404 1150.33 41.3404 1145.59 Q41.3404 1140.91 37.6483 1138.17 Q33.9562 1135.44 27.5905 1135.44 Q21.2566 1135.44 17.5645 1138.17 Q13.8405 1140.91 13.8405 1145.59 M8.87529 1145.59 Q8.87529 1137.95 13.8405 1133.59 Q18.8058 1129.23 27.5905 1129.23 Q36.3433 1129.23 41.3404 1133.59 Q46.3056 1137.95 46.3056 1145.59 Q46.3056 1153.26 41.3404 1157.62 Q36.3433 1161.95 27.5905 1161.95 Q18.8058 1161.95 13.8405 1157.62 Q8.87529 1153.26 8.87529 1145.59 Z\" fill=\"#000000\" fill-rule=\"evenodd\" fill-opacity=\"1\" /><path clip-path=\"url(#clip6900)\" d=\"M 0 0 M31.3144 1123.69 L9.73466 1123.69 L9.73466 1117.84 L31.0916 1117.84 Q36.1523 1117.84 38.6986 1115.86 Q41.2131 1113.89 41.2131 1109.94 Q41.2131 1105.2 38.1894 1102.46 Q35.1657 1099.69 29.9458 1099.69 L9.73466 1099.69 L9.73466 1093.84 L45.3826 1093.84 L45.3826 1099.69 L39.9081 1099.69 Q43.1546 1101.83 44.746 1104.66 Q46.3056 1107.46 46.3056 1111.18 Q46.3056 1117.33 42.4862 1120.51 Q38.6668 1123.69 31.3144 1123.69 M8.87529 1108.96 L8.87529 1108.96 Z\" fill=\"#000000\" fill-rule=\"evenodd\" fill-opacity=\"1\" /><path clip-path=\"url(#clip6900)\" d=\"M 0 0 M23.8665 1058.06 L45.3826 1058.06 L45.3826 1063.92 L24.0575 1063.92 Q18.9968 1063.92 16.4823 1065.89 Q13.9679 1067.86 13.9679 1071.81 Q13.9679 1076.55 16.9916 1079.29 Q20.0153 1082.03 25.2352 1082.03 L45.3826 1082.03 L45.3826 1087.92 L9.73466 1087.92 L9.73466 1082.03 L15.2728 1082.03 Q12.0581 1079.93 10.4667 1077.1 Q8.87529 1074.23 8.87529 1070.51 Q8.87529 1064.36 12.6947 1061.21 Q16.4823 1058.06 23.8665 1058.06 Z\" fill=\"#000000\" fill-rule=\"evenodd\" fill-opacity=\"1\" /><path clip-path=\"url(#clip6900)\" d=\"M 0 0 M-0.386812 1046.13 L9.73466 1046.13 L9.73466 1034.06 L14.2861 1034.06 L14.2861 1046.13 L33.6379 1046.13 Q37.9984 1046.13 39.2397 1044.95 Q40.481 1043.74 40.481 1040.08 L40.481 1034.06 L45.3826 1034.06 L45.3826 1040.08 Q45.3826 1046.86 42.8682 1049.44 Q40.3219 1052.01 33.6379 1052.01 L14.2861 1052.01 L14.2861 1056.31 L9.73466 1056.31 L9.73466 1052.01 L-0.386812 1052.01 L-0.386812 1046.13 Z\" fill=\"#000000\" fill-rule=\"evenodd\" fill-opacity=\"1\" /><polyline clip-path=\"url(#clip6902)\" style=\"stroke:#009af9; stroke-width:4; stroke-opacity:1; fill:none\" points=\"\n",
       "  425.717,1993.63 451.793,2012.1 477.869,1993.63 503.945,1993.63 536.539,1993.63 562.615,1975.15 595.21,1975.15 621.286,1956.68 647.362,1956.68 679.957,1956.68 \n",
       "  706.033,1901.26 732.109,1919.73 764.704,1938.21 790.779,1882.79 816.855,1901.26 849.45,1808.89 874.595,1808.89 901.602,1771.94 934.197,1698.05 960.273,1698.05 \n",
       "  992.868,1624.15 1018.94,1587.21 1051.54,1494.84 1077.61,1420.94 1103.69,1328.58 1129.77,1254.68 1162.36,1180.79 1188.44,1088.42 1213.58,1069.95 1247.11,1088.42 \n",
       "  1273.18,1033 1299.26,1014.52 1331.85,940.63 1357.93,977.577 1390.53,977.577 1416.6,1033 1442.68,1033 1468.75,1033 1501.35,996.051 1527.42,1033 \n",
       "  1553.5,1069.95 1586.09,1069.95 1612.17,1051.47 1644.77,1051.47 1670.84,1051.47 1696.92,1014.52 1729.51,1088.42 1755.59,1162.31 1781.66,1180.79 1807.74,1199.26 \n",
       "  1840.33,1162.31 1866.41,1143.84 1899.01,1125.37 1925.08,1143.84 1951.16,1143.84 1983.75,1143.84 2009.83,1162.31 2035.9,1217.73 2068.5,1254.68 2094.57,1291.63 \n",
       "  2127.17,1291.63 2153.25,1310.1 2179.32,1328.58 2205.4,1310.1 2237.99,1310.1 2264.07,1291.63 2296.66,1328.58 2322.74,1384 2348.81,1365.52 2381.41,1384 \n",
       "  2407.49,1384 2433.56,1365.52 2466.16,1402.47 2492.23,1420.94 2518.31,1439.42 2550.9,1420.94 2576.98,1420.94 2603.05,1457.89 2635.65,1476.37 2678.49,1494.84 \n",
       "  2694.32,1476.37 2720.4,1531.79 2752.99,1587.21 2779.07,1605.68 2805.14,1587.21 2831.22,1587.21 2857.29,1661.1 2889.89,1661.1 2915.03,1698.05 2942.04,1679.58 \n",
       "  2974.64,1698.05 3000.71,1735 3033.31,1753.47 3059.38,1753.47 3091.98,1790.42 3118.05,1771.94 3144.13,1808.89 3170.21,1808.89 3202.8,1827.36 3228.88,1808.89 \n",
       "  3254.02,1845.84 3287.55,1845.84 3313.62,1882.79 3339.7,1882.79 3372.29,1901.26 3398.37,1901.26 3430.96,1901.26 3457.04,1919.73 3483.12,1919.73 3509.19,1901.26 \n",
       "  3541.79,1901.26 3567.86,1956.68 3600.46,1919.73 3626.53,1919.73 3652.61,1919.73 3685.2,1901.26 3711.28,1919.73 3737.36,1975.15 3769.95,1956.68 3796.03,1938.21 \n",
       "  3828.62,1956.68 3854.7,1993.63 3880.77,2012.1 3906.85,2030.57 3939.44,2012.1 3965.52,2030.57 3991.6,2012.1 4024.19,2049.05 4050.27,2067.52 4082.86,2067.52 \n",
       "  4108.94,2067.52 4135.01,2067.52 4167.61,2067.52 4193.68,2067.52 4219.76,2104.47 4245.84,2122.94 4278.43,2086 4304.51,2104.47 4337.1,2104.47 4363.18,2141.42 \n",
       "  4389.25,2141.42 4421.85,2141.42 4447.92,2104.47 4474,2086 4506.6,2122.94 4532.67,2122.94 4558.75,2159.89 4591.34,2159.89 4617.42,2141.42 4643.49,2141.42 \n",
       "  4676.09,2141.42 4702.16,2178.36 4728.24,2159.89 4760.84,2178.36 4793.43,2178.36 4819.51,2159.89 4845.58,2178.36 4871.66,2012.1 4904.25,109.316 4930.33,367.947 \n",
       "  4955.47,774.367 4989,940.63 5015.08,1273.16 \n",
       "  \"/>\n",
       "<path clip-path=\"url(#clip6900)\" d=\"\n",
       "M444.036 419.724 L1208.87 419.724 L1208.87 298.764 L444.036 298.764  Z\n",
       "  \" fill=\"#ffffff\" fill-rule=\"evenodd\" fill-opacity=\"1\"/>\n",
       "<polyline clip-path=\"url(#clip6900)\" style=\"stroke:#000000; stroke-width:4; stroke-opacity:1; fill:none\" points=\"\n",
       "  444.036,419.724 1208.87,419.724 1208.87,298.764 444.036,298.764 444.036,419.724 \n",
       "  \"/>\n",
       "<polyline clip-path=\"url(#clip6900)\" style=\"stroke:#009af9; stroke-width:4; stroke-opacity:1; fill:none\" points=\"\n",
       "  496.036,359.244 808.036,359.244 \n",
       "  \"/>\n",
       "<path clip-path=\"url(#clip6900)\" d=\"M 0 0 M875.869 346.571 L869.527 363.77 L882.235 363.77 L875.869 346.571 M873.23 341.964 L878.531 341.964 L891.703 376.524 L886.842 376.524 L883.693 367.658 L868.115 367.658 L864.967 376.524 L860.036 376.524 L873.23 341.964 Z\" fill=\"#000000\" fill-rule=\"evenodd\" fill-opacity=\"1\" /><path clip-path=\"url(#clip6900)\" d=\"M 0 0 M913.994 351.594 L913.994 355.575 Q912.189 354.58 910.36 354.094 Q908.554 353.584 906.703 353.584 Q902.559 353.584 900.267 356.223 Q897.976 358.839 897.976 363.584 Q897.976 368.33 900.267 370.969 Q902.559 373.584 906.703 373.584 Q908.554 373.584 910.36 373.098 Q912.189 372.589 913.994 371.594 L913.994 375.529 Q912.212 376.362 910.29 376.779 Q908.392 377.195 906.24 377.195 Q900.383 377.195 896.934 373.515 Q893.485 369.834 893.485 363.584 Q893.485 357.242 896.957 353.608 Q900.453 349.973 906.517 349.973 Q908.485 349.973 910.36 350.39 Q912.235 350.783 913.994 351.594 Z\" fill=\"#000000\" fill-rule=\"evenodd\" fill-opacity=\"1\" /><path clip-path=\"url(#clip6900)\" d=\"M 0 0 M922.675 343.237 L922.675 350.598 L931.448 350.598 L931.448 353.908 L922.675 353.908 L922.675 367.982 Q922.675 371.154 923.531 372.057 Q924.411 372.959 927.073 372.959 L931.448 372.959 L931.448 376.524 L927.073 376.524 Q922.142 376.524 920.267 374.695 Q918.392 372.844 918.392 367.982 L918.392 353.908 L915.267 353.908 L915.267 350.598 L918.392 350.598 L918.392 343.237 L922.675 343.237 Z\" fill=\"#000000\" fill-rule=\"evenodd\" fill-opacity=\"1\" /><path clip-path=\"url(#clip6900)\" d=\"M 0 0 M935.476 366.293 L935.476 350.598 L939.735 350.598 L939.735 366.131 Q939.735 369.811 941.17 371.663 Q942.605 373.492 945.475 373.492 Q948.925 373.492 950.915 371.293 Q952.929 369.094 952.929 365.297 L952.929 350.598 L957.188 350.598 L957.188 376.524 L952.929 376.524 L952.929 372.543 Q951.378 374.904 949.318 376.061 Q947.281 377.195 944.573 377.195 Q940.105 377.195 937.79 374.418 Q935.476 371.64 935.476 366.293 M946.193 349.973 L946.193 349.973 Z\" fill=\"#000000\" fill-rule=\"evenodd\" fill-opacity=\"1\" /><path clip-path=\"url(#clip6900)\" d=\"M 0 0 M973.438 363.492 Q968.276 363.492 966.286 364.672 Q964.295 365.853 964.295 368.7 Q964.295 370.969 965.776 372.311 Q967.281 373.631 969.85 373.631 Q973.392 373.631 975.522 371.131 Q977.674 368.607 977.674 364.441 L977.674 363.492 L973.438 363.492 M981.934 361.733 L981.934 376.524 L977.674 376.524 L977.674 372.589 Q976.216 374.95 974.04 376.084 Q971.864 377.195 968.716 377.195 Q964.735 377.195 962.374 374.973 Q960.036 372.728 960.036 368.978 Q960.036 364.603 962.952 362.381 Q965.892 360.158 971.702 360.158 L977.674 360.158 L977.674 359.742 Q977.674 356.802 975.73 355.205 Q973.809 353.584 970.313 353.584 Q968.091 353.584 965.985 354.117 Q963.878 354.649 961.934 355.714 L961.934 351.779 Q964.272 350.876 966.471 350.436 Q968.67 349.973 970.753 349.973 Q976.378 349.973 979.156 352.89 Q981.934 355.807 981.934 361.733 Z\" fill=\"#000000\" fill-rule=\"evenodd\" fill-opacity=\"1\" /><path clip-path=\"url(#clip6900)\" d=\"M 0 0 M986.401 340.506 L990.66 340.506 L990.66 376.524 L986.401 376.524 L986.401 340.506 Z\" fill=\"#000000\" fill-rule=\"evenodd\" fill-opacity=\"1\" /><path clip-path=\"url(#clip6900)\" d=\"M 0 0 M1004.23 376.524 L991.031 341.964 L995.915 341.964 L1006.86 371.061 L1017.84 341.964 L1022.7 341.964 L1009.53 376.524 L1004.23 376.524 Z\" fill=\"#000000\" fill-rule=\"evenodd\" fill-opacity=\"1\" /><path clip-path=\"url(#clip6900)\" d=\"M 0 0 M1035.27 363.492 Q1030.1 363.492 1028.11 364.672 Q1026.12 365.853 1026.12 368.7 Q1026.12 370.969 1027.6 372.311 Q1029.11 373.631 1031.68 373.631 Q1035.22 373.631 1037.35 371.131 Q1039.5 368.607 1039.5 364.441 L1039.5 363.492 L1035.27 363.492 M1043.76 361.733 L1043.76 376.524 L1039.5 376.524 L1039.5 372.589 Q1038.04 374.95 1035.87 376.084 Q1033.69 377.195 1030.54 377.195 Q1026.56 377.195 1024.2 374.973 Q1021.86 372.728 1021.86 368.978 Q1021.86 364.603 1024.78 362.381 Q1027.72 360.158 1033.53 360.158 L1039.5 360.158 L1039.5 359.742 Q1039.5 356.802 1037.56 355.205 Q1035.64 353.584 1032.14 353.584 Q1029.92 353.584 1027.81 354.117 Q1025.71 354.649 1023.76 355.714 L1023.76 351.779 Q1026.1 350.876 1028.3 350.436 Q1030.5 349.973 1032.58 349.973 Q1038.21 349.973 1040.98 352.89 Q1043.76 355.807 1043.76 361.733 Z\" fill=\"#000000\" fill-rule=\"evenodd\" fill-opacity=\"1\" /><path clip-path=\"url(#clip6900)\" d=\"M 0 0 M1048.23 340.506 L1052.49 340.506 L1052.49 376.524 L1048.23 376.524 L1048.23 340.506 Z\" fill=\"#000000\" fill-rule=\"evenodd\" fill-opacity=\"1\" /><path clip-path=\"url(#clip6900)\" d=\"M 0 0 M1056.52 366.293 L1056.52 350.598 L1060.78 350.598 L1060.78 366.131 Q1060.78 369.811 1062.21 371.663 Q1063.65 373.492 1066.52 373.492 Q1069.97 373.492 1071.96 371.293 Q1073.97 369.094 1073.97 365.297 L1073.97 350.598 L1078.23 350.598 L1078.23 376.524 L1073.97 376.524 L1073.97 372.543 Q1072.42 374.904 1070.36 376.061 Q1068.32 377.195 1065.61 377.195 Q1061.15 377.195 1058.83 374.418 Q1056.52 371.64 1056.52 366.293 M1067.23 349.973 L1067.23 349.973 Z\" fill=\"#000000\" fill-rule=\"evenodd\" fill-opacity=\"1\" /><path clip-path=\"url(#clip6900)\" d=\"M 0 0 M1104.87 362.496 L1104.87 364.58 L1085.29 364.58 Q1085.57 368.978 1087.93 371.293 Q1090.31 373.584 1094.55 373.584 Q1097 373.584 1099.29 372.982 Q1101.61 372.381 1103.88 371.177 L1103.88 375.205 Q1101.59 376.177 1099.18 376.686 Q1096.77 377.195 1094.29 377.195 Q1088.09 377.195 1084.46 373.584 Q1080.85 369.973 1080.85 363.816 Q1080.85 357.45 1084.27 353.723 Q1087.72 349.973 1093.55 349.973 Q1098.78 349.973 1101.82 353.353 Q1104.87 356.709 1104.87 362.496 M1100.61 361.246 Q1100.57 357.751 1098.65 355.668 Q1096.75 353.584 1093.6 353.584 Q1090.03 353.584 1087.88 355.598 Q1085.75 357.612 1085.43 361.27 L1100.61 361.246 Z\" fill=\"#000000\" fill-rule=\"evenodd\" fill-opacity=\"1\" /></svg>\n"
      ]
     },
     "execution_count": 37,
     "metadata": {},
     "output_type": "execute_result"
    }
   ],
   "source": [
    "using Formatting\n",
    "using Plots\n",
    "gr()\n",
    "plot(df[:,1], \n",
    "    [df[:,2] ], \n",
    "    label    = [\"ActualValue\" \"ForecastValue\" \"PreviousValue\"],\n",
    "    legend    =:topleft, # :right, :left, :top, :bottom, :inside, :best, :legend, :topright, :topleft, :bottomleft, :bottomright\n",
    "    xlabel   = \"time\",\n",
    "    ylabel   = \"amount\",\n",
    "    size     = (1300, 600), # width, height\n",
    "    #yformatter = :plain, # or scientific\n",
    "    yformatter = yi -> string(\"\", format( yi, commas=true ), \"%\"), # e.g. \\$ $2,000,000\n",
    "    layout = (1, 1)\n",
    "    )"
   ]
  },
  {
   "cell_type": "code",
   "execution_count": 41,
   "metadata": {},
   "outputs": [
    {
     "data": {
      "text/plain": [
       "\"data/processed/united-states.unemployment-rate.csv\""
      ]
     },
     "execution_count": 41,
     "metadata": {},
     "output_type": "execute_result"
    }
   ],
   "source": [
    "CSV.write(\"data/processed/united-states.unemployment-rate.csv\", df, delim = ',')"
   ]
  },
  {
   "cell_type": "code",
   "execution_count": null,
   "metadata": {},
   "outputs": [],
   "source": []
  }
 ],
 "metadata": {
  "kernelspec": {
   "display_name": "Julia 1.4.2",
   "language": "julia",
   "name": "julia-1.4"
  },
  "language_info": {
   "file_extension": ".jl",
   "mimetype": "application/julia",
   "name": "julia",
   "version": "1.4.2"
  }
 },
 "nbformat": 4,
 "nbformat_minor": 4
}
