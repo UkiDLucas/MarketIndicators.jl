{
 "cells": [
  {
   "cell_type": "markdown",
   "metadata": {},
   "source": [
    "# Fetch Web Data"
   ]
  },
  {
   "cell_type": "code",
   "execution_count": 1,
   "metadata": {},
   "outputs": [
    {
     "name": "stdout",
     "output_type": "stream",
     "text": [
      "function: df = fetch_data(file_path, date_format=\"yyyy-mm-dd\" )\n",
      "function: df = shift_dates_by_days!(df, shift_days=-1, date_column=1)\n",
      "function: rata_die = days_since_day_one(df, row, date_column) \n",
      "function: df = update_rata_die!(df, days_column=1, date_column=2)\n",
      "function: df = insert_rata_die_column!(df)\n"
     ]
    }
   ],
   "source": [
    "include(\"MarketIndicators.jl\")"
   ]
  },
  {
   "cell_type": "code",
   "execution_count": 2,
   "metadata": {},
   "outputs": [
    {
     "data": {
      "text/html": [
       "<table class=\"data-frame\"><thead><tr><th></th><th>Indicator Name</th><th>URL</th></tr><tr><th></th><th>String</th><th>String</th></tr></thead><tbody><p>21 rows × 2 columns</p><tr><th>1</th><td>Federal Reserve System (Fed) Industrial Production m/m</td><td>https://www.mql5.com/en/economic-calendar/united-states/industrial-production-mm/export</td></tr><tr><th>2</th><td>ADP Nonfarm Employment Change</td><td>https://query1.finance.yahoo.com/v7/finance/download/NVDA?period1=916963200&amp;period2=1600128000&amp;interval=1d&amp;events=history</td></tr><tr><th>3</th><td>American Funds EuroPacific Growth Fund Class R-6 (RERGX)</td><td>https://query1.finance.yahoo.com/v7/finance/download/RERGX?period1=1241136000&amp;period2=1600300800&amp;interval=1d&amp;events=history</td></tr><tr><th>4</th><td>Apple Inc. (AAPL)</td><td>https://query1.finance.yahoo.com/v7/finance/download/AAPL?period1=345427200&amp;period2=1600300800&amp;interval=1d&amp;events=history</td></tr><tr><th>5</th><td>Dow Jones Industrial Average (^DJI)</td><td>https://query1.finance.yahoo.com/v7/finance/download/%5EDJI?period1=475804800&amp;period2=1600128000&amp;interval=1d&amp;events=history</td></tr><tr><th>6</th><td>Federal Reserve Bank (Fed) of Dallas Manufacturing Index</td><td>https://www.mql5.com/en/economic-calendar/united-states/dallas-fed-manufacturing-business-index/export</td></tr><tr><th>7</th><td>Federal Reserve System (Fed) Industrial Production m/m</td><td>https://www.mql5.com/en/economic-calendar/united-states/industrial-production-mm/export</td></tr><tr><th>8</th><td>Gold Dec 20 (GC=F)</td><td>https://query1.finance.yahoo.com/v7/finance/download/GC=F?period1=967593600&amp;period2=1600300800&amp;interval=1d&amp;events=history</td></tr><tr><th>9</th><td>ISM Manufacturing Employment</td><td>https://www.mql5.com/en/economic-calendar/united-states/ism-manufacturing-employment/export</td></tr><tr><th>10</th><td>ISM United States Manufacturing Purchasing Managers Index (PMI)</td><td>https://www.mql5.com/en/economic-calendar/united-states/ism-manufacturing-pmi/export</td></tr><tr><th>11</th><td>Neuberger Berman Mid Cap Growth Fund Class R6 (NRMGX)</td><td>https://query1.finance.yahoo.com/v7/finance/download/NRMGX?period1=1363305600&amp;period2=1600300800&amp;interval=1d&amp;events=history</td></tr><tr><th>12</th><td>NVIDIA Corporation (NVDA)</td><td>https://query1.finance.yahoo.com/v7/finance/download/NVDA?period1=916963200&amp;period2=1600128000&amp;interval=1d&amp;events=history</td></tr><tr><th>13</th><td>S&amp;P 500 (^GSPC)</td><td>https://query1.finance.yahoo.com/v7/finance/download/%5EGSPC?period1=-1325635200&amp;period2=1600300800&amp;interval=1d&amp;events=history</td></tr><tr><th>14</th><td>T. Rowe Price Institutional Large Cap Core Growth Fund (TPLGX)</td><td>https://query1.finance.yahoo.com/v7/finance/download/TPLGX?period1=1568730349&amp;period2=1600352749&amp;interval=1d&amp;events=history</td></tr><tr><th>15</th><td>Tesla, Inc. (TSLA)</td><td>https://query1.finance.yahoo.com/v7/finance/download/TSLA?period1=1277769600&amp;period2=1600300800&amp;interval=1d&amp;events=history</td></tr><tr><th>16</th><td>The Home Depot, Inc. (HD)</td><td>https://query1.finance.yahoo.com/v7/finance/download/HD?period1=369964800&amp;period2=1600300800&amp;interval=1d&amp;events=history</td></tr><tr><th>17</th><td>United States Building Permits</td><td>https://www.mql5.com/en/economic-calendar/united-states/building-permits/export</td></tr><tr><th>18</th><td>United States Gross Domestic Product (GDP) q/q</td><td>https://www.mql5.com/en/economic-calendar/united-states/gross-domestic-product-qq/export</td></tr><tr><th>19</th><td>United States Housing Starts m/m</td><td>https://www.mql5.com/en/economic-calendar/united-states/housing-starts-mm/export</td></tr><tr><th>20</th><td>Vanguard Institutional Index Fund Institutional Shares (VINIX)</td><td>https://query1.finance.yahoo.com/v7/finance/download/VINIX?period1=649382400&amp;period2=1600300800&amp;interval=1d&amp;events=history</td></tr><tr><th>21</th><td>Treasury Yield 10 Years (^TNX)</td><td>https://query1.finance.yahoo.com/v7/finance/download/%5ETNX?period1=-252374400&amp;period2=1600300800&amp;interval=1d&amp;events=history</td></tr></tbody></table>"
      ],
      "text/latex": [
       "\\begin{tabular}{r|cc}\n",
       "\t& Indicator Name & URL\\\\\n",
       "\t\\hline\n",
       "\t& String & String\\\\\n",
       "\t\\hline\n",
       "\t1 & Federal Reserve System (Fed) Industrial Production m/m & https://www.mql5.com/en/economic-calendar/united-states/industrial-production-mm/export \\\\\n",
       "\t2 & ADP Nonfarm Employment Change & https://query1.finance.yahoo.com/v7/finance/download/NVDA?period1=916963200\\&period2=1600128000\\&interval=1d\\&events=history \\\\\n",
       "\t3 & American Funds EuroPacific Growth Fund Class R-6 (RERGX) & https://query1.finance.yahoo.com/v7/finance/download/RERGX?period1=1241136000\\&period2=1600300800\\&interval=1d\\&events=history \\\\\n",
       "\t4 & Apple Inc. (AAPL) & https://query1.finance.yahoo.com/v7/finance/download/AAPL?period1=345427200\\&period2=1600300800\\&interval=1d\\&events=history \\\\\n",
       "\t5 & Dow Jones Industrial Average (\\^DJI) & https://query1.finance.yahoo.com/v7/finance/download/\\%5EDJI?period1=475804800\\&period2=1600128000\\&interval=1d\\&events=history \\\\\n",
       "\t6 & Federal Reserve Bank (Fed) of Dallas Manufacturing Index & https://www.mql5.com/en/economic-calendar/united-states/dallas-fed-manufacturing-business-index/export \\\\\n",
       "\t7 & Federal Reserve System (Fed) Industrial Production m/m & https://www.mql5.com/en/economic-calendar/united-states/industrial-production-mm/export \\\\\n",
       "\t8 & Gold Dec 20 (GC=F) & https://query1.finance.yahoo.com/v7/finance/download/GC=F?period1=967593600\\&period2=1600300800\\&interval=1d\\&events=history \\\\\n",
       "\t9 & ISM Manufacturing Employment & https://www.mql5.com/en/economic-calendar/united-states/ism-manufacturing-employment/export \\\\\n",
       "\t10 & ISM United States Manufacturing Purchasing Managers Index (PMI) & https://www.mql5.com/en/economic-calendar/united-states/ism-manufacturing-pmi/export \\\\\n",
       "\t11 & Neuberger Berman Mid Cap Growth Fund Class R6 (NRMGX) & https://query1.finance.yahoo.com/v7/finance/download/NRMGX?period1=1363305600\\&period2=1600300800\\&interval=1d\\&events=history \\\\\n",
       "\t12 & NVIDIA Corporation (NVDA) & https://query1.finance.yahoo.com/v7/finance/download/NVDA?period1=916963200\\&period2=1600128000\\&interval=1d\\&events=history \\\\\n",
       "\t13 & S\\&P 500 (\\^GSPC) & https://query1.finance.yahoo.com/v7/finance/download/\\%5EGSPC?period1=-1325635200\\&period2=1600300800\\&interval=1d\\&events=history \\\\\n",
       "\t14 & T. Rowe Price Institutional Large Cap Core Growth Fund (TPLGX) & https://query1.finance.yahoo.com/v7/finance/download/TPLGX?period1=1568730349\\&period2=1600352749\\&interval=1d\\&events=history \\\\\n",
       "\t15 & Tesla, Inc. (TSLA) & https://query1.finance.yahoo.com/v7/finance/download/TSLA?period1=1277769600\\&period2=1600300800\\&interval=1d\\&events=history \\\\\n",
       "\t16 & The Home Depot, Inc. (HD) & https://query1.finance.yahoo.com/v7/finance/download/HD?period1=369964800\\&period2=1600300800\\&interval=1d\\&events=history \\\\\n",
       "\t17 & United States Building Permits & https://www.mql5.com/en/economic-calendar/united-states/building-permits/export \\\\\n",
       "\t18 & United States Gross Domestic Product (GDP) q/q & https://www.mql5.com/en/economic-calendar/united-states/gross-domestic-product-qq/export \\\\\n",
       "\t19 & United States Housing Starts m/m & https://www.mql5.com/en/economic-calendar/united-states/housing-starts-mm/export \\\\\n",
       "\t20 & Vanguard Institutional Index Fund Institutional Shares (VINIX) & https://query1.finance.yahoo.com/v7/finance/download/VINIX?period1=649382400\\&period2=1600300800\\&interval=1d\\&events=history \\\\\n",
       "\t21 & Treasury Yield 10 Years (\\^TNX) & https://query1.finance.yahoo.com/v7/finance/download/\\%5ETNX?period1=-252374400\\&period2=1600300800\\&interval=1d\\&events=history \\\\\n",
       "\\end{tabular}\n"
      ],
      "text/plain": [
       "21×2 DataFrame. Omitted printing of 1 columns\n",
       "│ Row │ Indicator Name                                                  │\n",
       "│     │ \u001b[90mString\u001b[39m                                                          │\n",
       "├─────┼─────────────────────────────────────────────────────────────────┤\n",
       "│ 1   │ Federal Reserve System (Fed) Industrial Production m/m          │\n",
       "│ 2   │ ADP Nonfarm Employment Change                                   │\n",
       "│ 3   │ American Funds EuroPacific Growth Fund Class R-6 (RERGX)        │\n",
       "│ 4   │ Apple Inc. (AAPL)                                               │\n",
       "│ 5   │ Dow Jones Industrial Average (^DJI)                             │\n",
       "│ 6   │ Federal Reserve Bank (Fed) of Dallas Manufacturing Index        │\n",
       "│ 7   │ Federal Reserve System (Fed) Industrial Production m/m          │\n",
       "│ 8   │ Gold Dec 20 (GC=F)                                              │\n",
       "│ 9   │ ISM Manufacturing Employment                                    │\n",
       "│ 10  │ ISM United States Manufacturing Purchasing Managers Index (PMI) │\n",
       "│ 11  │ Neuberger Berman Mid Cap Growth Fund Class R6 (NRMGX)           │\n",
       "│ 12  │ NVIDIA Corporation (NVDA)                                       │\n",
       "│ 13  │ S&P 500 (^GSPC)                                                 │\n",
       "│ 14  │ T. Rowe Price Institutional Large Cap Core Growth Fund (TPLGX)  │\n",
       "│ 15  │ Tesla, Inc. (TSLA)                                              │\n",
       "│ 16  │ The Home Depot, Inc. (HD)                                       │\n",
       "│ 17  │ United States Building Permits                                  │\n",
       "│ 18  │ United States Gross Domestic Product (GDP) q/q                  │\n",
       "│ 19  │ United States Housing Starts m/m                                │\n",
       "│ 20  │ Vanguard Institutional Index Fund Institutional Shares (VINIX)  │\n",
       "│ 21  │ Treasury Yield 10 Years (^TNX)                                  │"
      ]
     },
     "execution_count": 2,
     "metadata": {},
     "output_type": "execute_result"
    }
   ],
   "source": [
    "using CSV, DataFrames\n",
    "file_path = \"_DataSets.csv\"\n",
    "date_format=\"mm/dd/yyyy\" # 9/14/2020\n",
    "df = CSV.read( file_path, dateformat=\"$date_format\" )\n",
    "df[:, [1,3] ]"
   ]
  },
  {
   "cell_type": "code",
   "execution_count": 3,
   "metadata": {},
   "outputs": [
    {
     "data": {
      "text/plain": [
       "3-element Array{String,1}:\n",
       " \"Indicator Name\"\n",
       " \"file_path\"\n",
       " \"URL\""
      ]
     },
     "execution_count": 3,
     "metadata": {},
     "output_type": "execute_result"
    }
   ],
   "source": [
    "names(df)"
   ]
  },
  {
   "cell_type": "raw",
   "metadata": {},
   "source": []
  },
  {
   "cell_type": "markdown",
   "metadata": {},
   "source": [
    "# Download all from the Web"
   ]
  },
  {
   "cell_type": "code",
   "execution_count": null,
   "metadata": {},
   "outputs": [
    {
     "name": "stdout",
     "output_type": "stream",
     "text": [
      "============== 2020-09-17T20:32:47.967 ==============\n",
      "- downloaded: Federal Reserve System (Fed) Industrial Production m/m\n"
     ]
    }
   ],
   "source": [
    "rows = size(df)[1]\n",
    "\n",
    "while true\n",
    "    println(\"============== \", Dates.DateTime(Dates.now() ), \" ==============\")\n",
    "    \n",
    "    for row in 1:rows\n",
    "        indicatior_name  = df[row, 1]\n",
    "        file_path        = df[row, 2]\n",
    "        url              = df[row, 3]\n",
    "        download( url , string( file_path ) )\n",
    "        println( \"- downloaded: \", indicatior_name ) \n",
    "        sleep(63) # rand(10)*10 # floor\n",
    "    end\n",
    "\n",
    "    #using CSV\n",
    "    #CSV.write(\"_DataSets.csv\", df)\n",
    "    \n",
    "    nap_time = 60*60*12 # seconds * minutes * hours\n",
    "    println(\"going to sleep for \", nap_time/(60*60), \" hours\" )\n",
    "    sleep(nap_time) \n",
    "end"
   ]
  },
  {
   "cell_type": "code",
   "execution_count": null,
   "metadata": {},
   "outputs": [],
   "source": []
  }
 ],
 "metadata": {
  "kernelspec": {
   "display_name": "Julia 1.5.0",
   "language": "julia",
   "name": "julia-1.5"
  },
  "language_info": {
   "file_extension": ".jl",
   "mimetype": "application/julia",
   "name": "julia",
   "version": "1.5.0"
  },
  "toc": {
   "base_numbering": 1,
   "nav_menu": {},
   "number_sections": true,
   "sideBar": true,
   "skip_h1_title": false,
   "title_cell": "Table of Contents",
   "title_sidebar": "Contents",
   "toc_cell": false,
   "toc_position": {},
   "toc_section_display": true,
   "toc_window_display": true
  }
 },
 "nbformat": 4,
 "nbformat_minor": 4
}
