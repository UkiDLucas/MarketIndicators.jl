{
 "cells": [
  {
   "cell_type": "code",
   "execution_count": 2,
   "metadata": {},
   "outputs": [
    {
     "name": "stdout",
     "output_type": "stream",
     "text": [
      "usage: df = available_datasets() # returns a DataFrame with all available data sets (name, file_path)\n",
      "usage: dataset_file_name = available_datasets()[5,2] # 5th dataset: DJIA, 2nd column: file-name\n",
      "\n",
      "        usage: \n",
      "            include(\"available_datasets.jl\") \n",
      "            dataset_file_name = available_datasets()[5,2] # row 5, column 2 = DJIA\n",
      "            df = fetch_dataset(dataset_file_name)\n",
      "    \n"
     ]
    },
    {
     "data": {
      "text/plain": [
       "(254, 7)"
      ]
     },
     "execution_count": 2,
     "metadata": {},
     "output_type": "execute_result"
    }
   ],
   "source": [
    "date_format = \"yyyy.mm.dd\" # 2007.04.05\n",
    "\n",
    "include(\"available_datasets.jl\") \n",
    "dataset_file_name = available_datasets()[14,2] # row 5, column 2 = TPLGX.csv\n",
    "\n",
    "include(\"fetch_dataset.jl\") \n",
    "df = fetch_dataset(dataset_file_name, date_format)\n",
    "\n",
    "size(df)"
   ]
  },
  {
   "cell_type": "markdown",
   "metadata": {},
   "source": [
    "# Condense Date to e.g. Mar'48 on x-axis\n",
    "\n",
    "- Since multiple rows share one year, using just year makes a choppy graph.\n",
    "- Since days of the month are missing and are are not evenly spaced, it is bad idea to use them.\n",
    "- Since we have all the months they make for acceptable values on the x-axis.\n",
    "- In the future, I might create more granual scale."
   ]
  },
  {
   "cell_type": "code",
   "execution_count": 4,
   "metadata": {},
   "outputs": [
    {
     "ename": "LoadError",
     "evalue": "MethodError: no method matching format(::String, ::String)\nClosest candidates are:\n  format(!Matched::TimeType, ::AbstractString; locale) at D:\\buildbot\\worker\\package_win64\\build\\usr\\share\\julia\\stdlib\\v1.5\\Dates\\src\\io.jl:576\n  format(::Any, !Matched::Dates.DatePart{'p'}, !Matched::Any, !Matched::Any) at D:\\buildbot\\worker\\package_win64\\build\\usr\\share\\julia\\stdlib\\v1.5\\Dates\\src\\io.jl:176\n  format(::Any, !Matched::Dates.DatePart{'s'}, !Matched::Any) at D:\\buildbot\\worker\\package_win64\\build\\usr\\share\\julia\\stdlib\\v1.5\\Dates\\src\\io.jl:203\n  ...",
     "output_type": "error",
     "traceback": [
      "MethodError: no method matching format(::String, ::String)\nClosest candidates are:\n  format(!Matched::TimeType, ::AbstractString; locale) at D:\\buildbot\\worker\\package_win64\\build\\usr\\share\\julia\\stdlib\\v1.5\\Dates\\src\\io.jl:576\n  format(::Any, !Matched::Dates.DatePart{'p'}, !Matched::Any, !Matched::Any) at D:\\buildbot\\worker\\package_win64\\build\\usr\\share\\julia\\stdlib\\v1.5\\Dates\\src\\io.jl:176\n  format(::Any, !Matched::Dates.DatePart{'s'}, !Matched::Any) at D:\\buildbot\\worker\\package_win64\\build\\usr\\share\\julia\\stdlib\\v1.5\\Dates\\src\\io.jl:203\n  ...",
      "",
      "Stacktrace:",
      " [1] top-level scope at .\\In[4]:8",
      " [2] include_string(::Function, ::Module, ::String, ::String) at .\\loading.jl:1091"
     ]
    }
   ],
   "source": [
    "using Dates\n",
    "\n",
    "dates = df[:,1] # e.g. 1948-03-31\n",
    "columns = length(dates)\n",
    "periods = Array{String, 1}(undef, columns) # define array to hold x-axis values\n",
    "\n",
    "for i in 1:columns\n",
    "    periods[i] = string( Dates.format(dates[i], \"u'yy\")  ) # e.g. Mar'48\n",
    "end\n",
    "periods"
   ]
  },
  {
   "cell_type": "code",
   "execution_count": null,
   "metadata": {},
   "outputs": [],
   "source": []
  }
 ],
 "metadata": {
  "kernelspec": {
   "display_name": "Julia 1.5.0",
   "language": "julia",
   "name": "julia-1.5"
  },
  "language_info": {
   "file_extension": ".jl",
   "mimetype": "application/julia",
   "name": "julia",
   "version": "1.5.0"
  },
  "toc": {
   "base_numbering": 1,
   "nav_menu": {},
   "number_sections": true,
   "sideBar": true,
   "skip_h1_title": false,
   "title_cell": "Table of Contents",
   "title_sidebar": "Contents",
   "toc_cell": false,
   "toc_position": {},
   "toc_section_display": true,
   "toc_window_display": false
  }
 },
 "nbformat": 4,
 "nbformat_minor": 4
}
