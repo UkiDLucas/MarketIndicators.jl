{
 "cells": [
  {
   "cell_type": "code",
   "execution_count": 1,
   "metadata": {},
   "outputs": [],
   "source": [
    "## uncomment for the first run\n",
    "# import Pkg\n",
    "# Pkg.add(\"PyCall\")\n",
    "# Pkg.add(\"Conda\")\n",
    "# ENV[\"PYTHON\"] = \"/opt/anaconda3/envs/turi/bin/python\"\n",
    "# /opt/anaconda3/envs/turi/lib/python3.6/site-packages/\n",
    "# Pkg.build(\"PyCall\")"
   ]
  },
  {
   "cell_type": "code",
   "execution_count": 2,
   "metadata": {},
   "outputs": [
    {
     "data": {
      "text/plain": [
       "PyObject <module 'turicreate' from '/opt/anaconda3/envs/turi/lib/python3.6/site-packages/turicreate/__init__.py'>"
      ]
     },
     "execution_count": 2,
     "metadata": {},
     "output_type": "execute_result"
    }
   ],
   "source": [
    "using PyCall\n",
    "tc = pyimport(\"turicreate\")"
   ]
  },
  {
   "cell_type": "code",
   "execution_count": 3,
   "metadata": {},
   "outputs": [
    {
     "name": "stdout",
     "output_type": "stream",
     "text": [
      "Finished parsing file /Users/uki/REPOS/MarketIndicators.jl/DATA/processed/uber.csv\n",
      "Parsing completed. Parsed 100 lines in 0.040542 secs.\n",
      "------------------------------------------------------\n",
      "Inferred types from first 100 line(s) of file as \n",
      "column_type_hints=[int,str,float,float,float,float,float,float,float,float,float,float,float,float,float,float,float,float,float,float,float,float,float,float]\n",
      "If parsing fails due to incorrect types, you can correct\n",
      "the inferred type list above and pass it to read_csv in\n",
      "the column_type_hints argument\n",
      "------------------------------------------------------\n",
      "Finished parsing file /Users/uki/REPOS/MarketIndicators.jl/DATA/processed/uber.csv\n",
      "Parsing completed. Parsed 1744 lines in 0.008598 secs.\n",
      "data is a PyObject\n"
     ]
    }
   ],
   "source": [
    "data_path=\"./DATA/processed/uber.csv\"\n",
    "data = tc.SFrame(data_path)\n",
    "println(\"data is a \", typeof(data))"
   ]
  },
  {
   "cell_type": "code",
   "execution_count": 4,
   "metadata": {},
   "outputs": [
    {
     "data": {
      "text/plain": [
       "1744"
      ]
     },
     "execution_count": 4,
     "metadata": {},
     "output_type": "execute_result"
    }
   ],
   "source": [
    "row_count = size(data)[1]"
   ]
  },
  {
   "cell_type": "code",
   "execution_count": 11,
   "metadata": {},
   "outputs": [],
   "source": [
    "# Do not take initial year data as averages are not complete\n",
    "#data[1:1]"
   ]
  },
  {
   "cell_type": "code",
   "execution_count": 6,
   "metadata": {},
   "outputs": [
    {
     "name": "stdout",
     "output_type": "stream",
     "text": [
      "\n"
     ]
    }
   ],
   "source": [
    "# Make a train-test split\n",
    "train_data, test_data = data.random_split(0.8)\n",
    "println()"
   ]
  },
  {
   "cell_type": "code",
   "execution_count": 7,
   "metadata": {},
   "outputs": [
    {
     "data": {
      "text/plain": [
       "(347,)"
      ]
     },
     "execution_count": 7,
     "metadata": {},
     "output_type": "execute_result"
    }
   ],
   "source": [
    "size(train_data)\n",
    "size(test_data)"
   ]
  },
  {
   "cell_type": "code",
   "execution_count": 8,
   "metadata": {},
   "outputs": [
    {
     "name": "stdout",
     "output_type": "stream",
     "text": [
      "Automatically generating validation set from 5% of the data.\n",
      "Linear regression:\n",
      "--------------------------------------------------------\n",
      "Number of examples          : 1326\n",
      "Number of features          : 16\n",
      "Number of unpacked features : 16\n",
      "Number of coefficients    : 17\n",
      "Starting Newton Method\n",
      "--------------------------------------------------------\n",
      "+-----------+----------+--------------+--------------------+----------------------+---------------------------------+-----------------------------------+\n",
      "| Iteration | Passes   | Elapsed Time | Training Max Error | Validation Max Error | Training Root-Mean-Square Error | Validation Root-Mean-Square Error |\n",
      "+-----------+----------+--------------+--------------------+----------------------+---------------------------------+-----------------------------------+\n",
      "| 1         | 2        | 1.014473     | 1776.716312        | 766.914945           | 214.153236                      | 177.275959                        |\n",
      "+-----------+----------+--------------+--------------------+----------------------+---------------------------------+-----------------------------------+\n",
      "SUCCESS: Optimal solution found.\n",
      "\n",
      "Boosted trees regression:\n",
      "--------------------------------------------------------\n",
      "Number of examples          : 1326\n",
      "Number of features          : 16\n",
      "Number of unpacked features : 16\n",
      "+-----------+--------------+--------------------+----------------------+---------------------------------+-----------------------------------+\n",
      "| Iteration | Elapsed Time | Training Max Error | Validation Max Error | Training Root-Mean-Square Error | Validation Root-Mean-Square Error |\n",
      "+-----------+--------------+--------------------+----------------------+---------------------------------+-----------------------------------+\n",
      "| 1         | 0.006992     | 21419.742188       | 21160.062500         | 16728.785156                    | 16531.925781                      |\n",
      "| 2         | 0.009449     | 15466.484375       | 15206.804688         | 11737.414062                    | 11614.505859                      |\n",
      "| 3         | 0.011816     | 11181.968750       | 10922.289062         | 8237.431641                     | 8113.865234                       |\n",
      "| 4         | 0.014316     | 8085.744141        | 7826.064453          | 5781.958984                     | 5671.358887                       |\n",
      "| 5         | 0.016555     | 6035.841797        | 5776.162109          | 4061.180420                     | 3978.346680                       |\n",
      "| 10        | 0.029918     | 2334.533203        | 1406.476562          | 724.254028                      | 689.587341                        |\n",
      "+-----------+--------------+--------------------+----------------------+---------------------------------+-----------------------------------+\n"
     ]
    },
    {
     "data": {
      "text/plain": [
       "PyObject Class                          : LinearRegression\n",
       "\n",
       "Schema\n",
       "------\n",
       "Number of coefficients         : 17\n",
       "Number of examples             : 1326\n",
       "Number of feature columns      : 16\n",
       "Number of unpacked features    : 16\n",
       "\n",
       "Hyperparameters\n",
       "---------------\n",
       "L1 penalty                     : 0\n",
       "L2 penalty                     : 0.01\n",
       "\n",
       "Training Summary\n",
       "----------------\n",
       "Solver                         : newton\n",
       "Solver iterations              : 1\n",
       "Solver status                  : SUCCESS: Optimal solution found.\n",
       "Training time (sec)            : 1.0214\n",
       "\n",
       "Settings\n",
       "--------\n",
       "Residual sum of squares        : 60812492.8212\n",
       "Training RMSE                  : 214.1532\n",
       "\n",
       "Highest Positive Coefficients\n",
       "-----------------------------\n",
       "(intercept)                    : 15717.79\n",
       "DJIA_Avg005                    : 125.6601\n",
       "DJIA_Avg180                    : 4.6502\n",
       "MFC_MPI_Avg365                 : 3.5494\n",
       "ISM_MFC_EMP_Avg180             : 3.0015\n",
       "\n",
       "Lowest Negative Coefficients\n",
       "----------------------------\n",
       "DJIA_Avg030                    : -16.8618\n",
       "ISM_MFC_EMP_Avg365             : -4.5025\n",
       "MFC_MPI_Avg180                 : -2.5262\n",
       "HOUSE_SRT_MM_Avg180            : -2.5115\n",
       "DJIA_Avg365                    : -1.2392\n"
      ]
     },
     "execution_count": 8,
     "metadata": {},
     "output_type": "execute_result"
    }
   ],
   "source": [
    "column_to_predict = \"DJIA_Original\"\n",
    "\n",
    "model = tc.regression.create( \n",
    "    train_data, \n",
    "    target = column_to_predict, \n",
    "    features = [\n",
    "                 \"DJIA_Avg005\"\n",
    "                ,\"DJIA_Avg030\"\n",
    "                ,\"DJIA_Avg090\"\n",
    "                ,\"DJIA_Avg180\"        \n",
    "                ,\"DJIA_Avg365\"\n",
    "\n",
    "                ,\"ISM_MFC_EMP_Avg090\"\n",
    "                ,\"ISM_MFC_EMP_Avg180\"\n",
    "                ,\"ISM_MFC_EMP_Avg365\"\n",
    "\n",
    "                ,\"HOUSE_SRT_MM_Value\"\n",
    "                ,\"HOUSE_SRT_MM_Avg090\"\n",
    "                ,\"HOUSE_SRT_MM_Avg180\"\n",
    "                ,\"HOUSE_SRT_MM_Avg365\"\n",
    "\n",
    "                ,\"MFC_MPI_Value\"\n",
    "                ,\"MFC_MPI_Avg090\"\n",
    "                ,\"MFC_MPI_Avg180\"\n",
    "                ,\"MFC_MPI_Avg365\"\n",
    "            ], \n",
    "    validation_set=\"auto\", \n",
    "    verbose=true\n",
    ")"
   ]
  },
  {
   "cell_type": "code",
   "execution_count": 9,
   "metadata": {},
   "outputs": [
    {
     "data": {
      "text/plain": [
       "PyObject dtype: float\n",
       "Rows: 347\n",
       "[16380.452477226856, 16335.20998699159, 16121.735165103286, 16129.609848280343, 16347.19052416887, 16512.765114142796, 16519.607394058054, 16080.939168706764, 16060.532255620641, 16158.286831686939, 16380.05495440027, 16478.36453751449, 16739.98279427749, 16785.175819549277, 17024.07428161827, 17235.669238467155, 17298.847671984353, 17744.29896417558, 17735.6807022313, 17844.2233663157, 17705.334507076735, 17797.617663370653, 17917.147450858112, 17965.34032828885, 17989.547363071484, 18045.77176640772, 17843.139328752965, 17817.403542247208, 17814.491687654197, 17578.624479546037, 17910.69595822855, 17860.537563672806, 17835.316706632384, 17834.500144000816, 17932.529856181984, 18007.272759600637, 17977.57385607022, 18348.887910171026, 18607.79189653252, 18468.32733977436, 18565.70409585579, 18586.55385711259, 18563.220928058046, 18537.072710098033, 18221.958001286253, 18175.836003920896, 18222.107031743362, 18327.72767282045, 18331.85833162359, 18287.622774169024, 18322.683400960806, 18329.18043253361, 18210.913380125898, 18206.288450698958, 18160.711986684037, 18212.064428105405, 18238.246288807255, 18238.728753104133, 18115.729490693513, 18017.24166698419, 18465.69342329089, 18663.05267457488, 18809.639765849173, 18932.673090830016, 18977.869000825256, 19025.88400896071, 19074.025411923987, 19119.110674244886, 19949.10558640535, 19963.94930821919, 19954.984864713406, 19900.920705325938, 19849.850528716313, 19798.589857181, 19891.54056276197, 19937.43230152521, 19913.937523422675, 19895.950700212405, 19897.97734620372, 19851.86884213484, 20077.50752599432, 20127.555948026755, 20127.497089486584, 20225.644473523505, 20419.25901280217, 20652.26702581905, 20719.04524735955, 20811.97703352763, 20913.530378135707, 20945.49425640304, 20792.244134729437, 20710.52742168587, 20761.10278663341, 20762.420165611213, 20765.342540157606, 20696.27197621724, 20605.465577832594, 20592.090769613817, 21039.42208430008, 20983.501576701896, ... ]"
      ]
     },
     "execution_count": 9,
     "metadata": {},
     "output_type": "execute_result"
    }
   ],
   "source": [
    "## Save predictions to an SArray\n",
    "predictions = model.predict(test_data)\n",
    "#predictions"
   ]
  },
  {
   "cell_type": "code",
   "execution_count": 34,
   "metadata": {},
   "outputs": [
    {
     "name": "stdout",
     "output_type": "stream",
     "text": [
      "DJIA_Original 347\n",
      "predicted 16380.45\t, but actual value was \t16354.33\t difference is -26.12\n",
      "predicted 17910.7\t, but actual value was \t17809.18\t difference is -101.52\n",
      "predicted 18465.69\t, but actual value was \t18873.66\t difference is 407.97\n",
      "predicted 20792.24\t, but actual value was \t20718.33\t difference is -73.91\n",
      "predicted 22168.06\t, but actual value was \t22057.19\t difference is -110.87\n",
      "predicted 25289.04\t, but actual value was \t25311.99\t difference is 22.95\n",
      "predicted 24842.65\t, but actual value was \t24635.18\t difference is -207.47\n",
      "predicted 25120.7\t, but actual value was \t24916.16\t difference is -204.54\n",
      "predicted 25928.78\t, but actual value was \t25645.45\t difference is -283.33\n",
      "predicted 27254.26\t, but actual value was \t27161.93\t difference is -92.33\n",
      "predicted 23359.06\t, but actual value was \t23189.76\t difference is -169.3\n",
      "predicted 28183.36\t, but actual value was \t28400.74\t difference is 217.38\n"
     ]
    }
   ],
   "source": [
    "initio = 0                    # latin: start\n",
    "gradus = 30                   # latin: step\n",
    "finem  = size(predictions)[1] # latin: end\n",
    "\n",
    "println(column_to_predict, \" \", finem)\n",
    "\n",
    "for id in initio:gradus:finem\n",
    "    \n",
    "    a = get(predictions, id)\n",
    "    a = round(a, digits=2)\n",
    "    \n",
    "    b = get(test_data, column_to_predict )\n",
    "    b = get(b, id )\n",
    "    b = round(b, digits=2)\n",
    "\n",
    "    println( \"predicted \", a, \"\\t, but actual value was \\t\", b , \"\\t difference is \",  round(b-a, digits=2)  ) # dict\n",
    "end"
   ]
  },
  {
   "cell_type": "code",
   "execution_count": null,
   "metadata": {},
   "outputs": [],
   "source": []
  },
  {
   "cell_type": "code",
   "execution_count": 35,
   "metadata": {},
   "outputs": [
    {
     "data": {
      "text/plain": [
       "Dict{Any,Any} with 2 entries:\n",
       "  \"rmse\"      => 225.762\n",
       "  \"max_error\" => 1847.16"
      ]
     },
     "execution_count": 35,
     "metadata": {},
     "output_type": "execute_result"
    }
   ],
   "source": [
    "#TODO: write this in a loop to select the best model\n",
    "# Evaluate the model and save the results into a dictionary\n",
    "results = model.evaluate( test_data ) #test_data[0:2531]\n",
    "results"
   ]
  },
  {
   "cell_type": "code",
   "execution_count": 51,
   "metadata": {},
   "outputs": [
    {
     "name": "stdout",
     "output_type": "stream",
     "text": [
      "max_error: 1847.16, rmse: 225.76\n"
     ]
    }
   ],
   "source": [
    "rmse = results[\"rmse\"]\n",
    "rmse = round(rmse, digits=2)\n",
    "\n",
    "max_error = results[\"max_error\"]\n",
    "max_error = round(max_error, digits=2)\n",
    "\n",
    "println( \"max_error: \", max_error, \", rmse: \", rmse )"
   ]
  },
  {
   "cell_type": "code",
   "execution_count": null,
   "metadata": {},
   "outputs": [],
   "source": []
  },
  {
   "cell_type": "code",
   "execution_count": null,
   "metadata": {},
   "outputs": [],
   "source": []
  },
  {
   "cell_type": "raw",
   "metadata": {},
   "source": [
    "so = pyimport(\"scipy.optimize\")\n",
    "so.newton(x -> cos(x) - x, 1)"
   ]
  },
  {
   "cell_type": "raw",
   "metadata": {},
   "source": [
    "@pywith pybuiltin(\"open\")(\"file.txt\",\"w\") as f begin\n",
    "    f.write(\"hello\")\n",
    "end"
   ]
  },
  {
   "cell_type": "raw",
   "metadata": {},
   "source": [
    "py\"\"\"\n",
    "import numpy as np\n",
    "\n",
    "def sinpi(x):\n",
    "    return np.sin(np.pi * x)\n",
    "\"\"\"\n",
    "py\"sinpi\"(1)"
   ]
  },
  {
   "cell_type": "code",
   "execution_count": null,
   "metadata": {},
   "outputs": [],
   "source": []
  }
 ],
 "metadata": {
  "kernelspec": {
   "display_name": "Julia 1.4.2",
   "language": "julia",
   "name": "julia-1.4"
  },
  "language_info": {
   "file_extension": ".jl",
   "mimetype": "application/julia",
   "name": "julia",
   "version": "1.4.2"
  }
 },
 "nbformat": 4,
 "nbformat_minor": 4
}
