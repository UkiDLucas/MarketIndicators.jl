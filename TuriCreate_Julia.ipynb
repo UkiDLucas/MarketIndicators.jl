{
 "cells": [
  {
   "cell_type": "code",
   "execution_count": 1,
   "metadata": {},
   "outputs": [],
   "source": [
    "## uncomment for the first run\n",
    "# import Pkg\n",
    "# Pkg.add(\"PyCall\")\n",
    "# Pkg.add(\"Conda\")\n",
    "# ENV[\"PYTHON\"] = \"/opt/anaconda3/envs/turi/bin/python\"\n",
    "# /opt/anaconda3/envs/turi/lib/python3.6/site-packages/\n",
    "# Pkg.build(\"PyCall\")"
   ]
  },
  {
   "cell_type": "code",
   "execution_count": 2,
   "metadata": {},
   "outputs": [
    {
     "data": {
      "text/plain": [
       "PyObject <module 'turicreate' from '/opt/anaconda3/envs/turi/lib/python3.6/site-packages/turicreate/__init__.py'>"
      ]
     },
     "execution_count": 2,
     "metadata": {},
     "output_type": "execute_result"
    }
   ],
   "source": [
    "using PyCall\n",
    "tc = pyimport(\"turicreate\")"
   ]
  },
  {
   "cell_type": "code",
   "execution_count": 3,
   "metadata": {},
   "outputs": [
    {
     "name": "stdout",
     "output_type": "stream",
     "text": [
      "Finished parsing file /Users/uki/REPOS/MarketIndicators.jl/DATA/processed/uber.csv\n",
      "Parsing completed. Parsed 100 lines in 0.056482 secs.\n",
      "------------------------------------------------------\n",
      "Inferred types from first 100 line(s) of file as \n",
      "column_type_hints=[int,str,float,float,float,float,float,float,float,float,float,float,float,float,float,float,float,float,float,float,float,float,float,float]\n",
      "If parsing fails due to incorrect types, you can correct\n",
      "the inferred type list above and pass it to read_csv in\n",
      "the column_type_hints argument\n",
      "------------------------------------------------------\n",
      "Finished parsing file /Users/uki/REPOS/MarketIndicators.jl/DATA/processed/uber.csv\n",
      "Parsing completed. Parsed 1744 lines in 0.010981 secs.\n",
      "data is a PyObject\n"
     ]
    }
   ],
   "source": [
    "data_path=\"./DATA/processed/uber.csv\"\n",
    "data = tc.SFrame(data_path)\n",
    "println(\"data is a \", typeof(data))"
   ]
  },
  {
   "cell_type": "code",
   "execution_count": 4,
   "metadata": {},
   "outputs": [
    {
     "data": {
      "text/plain": [
       "1744"
      ]
     },
     "execution_count": 4,
     "metadata": {},
     "output_type": "execute_result"
    }
   ],
   "source": [
    "row_count = size(data)[1]"
   ]
  },
  {
   "cell_type": "code",
   "execution_count": 5,
   "metadata": {},
   "outputs": [
    {
     "data": {
      "text/plain": [
       "Dict{Any,Any} with 24 entries:\n",
       "  \"MFC_MPI_Avg180\"        => 27.84\n",
       "  \"DJIA_Avg030\"           => 111.1\n",
       "  \"HOUSE_SRT_MM_Avg090\"   => 59.16\n",
       "  \"Date\"                  => \"2020-10-20\"\n",
       "  \"DJIA_Value\"            => 115.0\n",
       "  \"MFC_MPI_Value\"         => 74.0\n",
       "  \"DJIA_Avg180\"           => 98.59\n",
       "  \"DJIA_Avg005\"           => 116.4\n",
       "  \"HOUSE_SRT_MM_Avg180\"   => 4.14\n",
       "  \"MFC_MPI_Avg365\"        => 22.17\n",
       "  \"HOUSE_SRT_MM_Avg365\"   => 9.5\n",
       "  \"ISM_MFC_EMP_Value\"     => 44.0\n",
       "  \"ISM_MFC_EMP_Avg365\"    => -6.67\n",
       "  \"HOUSE_SRT_MM_Value\"    => 19.0\n",
       "  \"DJIA_Avg090\"           => 109.08\n",
       "  \"Day\"                   => 737718\n",
       "  \"MFC_MPI_Avg090\"        => 69.84\n",
       "  \"DJIA_Avg365\"           => 99.24\n",
       "  \"HOUSE_SRT_MM_Original\" => 1.9\n",
       "  \"DJIA_Original\"         => 28575.0\n",
       "  \"ISM_MFC_EMP_Avg090\"    => 15.37\n",
       "  \"ISM_MFC_EMP_Original\"  => 49.6\n",
       "  \"ISM_MFC_EMP_Avg180\"    => -31.44\n",
       "  \"MFC_MPI_Original\"      => 55.4"
      ]
     },
     "execution_count": 5,
     "metadata": {},
     "output_type": "execute_result"
    }
   ],
   "source": [
    "# Do not take initial year data as averages are not complete\n",
    "get(data, 1743)"
   ]
  },
  {
   "cell_type": "code",
   "execution_count": 6,
   "metadata": {},
   "outputs": [
    {
     "name": "stdout",
     "output_type": "stream",
     "text": [
      "\n"
     ]
    }
   ],
   "source": [
    "# Make a train-test split\n",
    "train_data, test_data = data.random_split(0.8)\n",
    "println()"
   ]
  },
  {
   "cell_type": "code",
   "execution_count": 7,
   "metadata": {},
   "outputs": [
    {
     "data": {
      "text/plain": [
       "(357,)"
      ]
     },
     "execution_count": 7,
     "metadata": {},
     "output_type": "execute_result"
    }
   ],
   "source": [
    "size(train_data)\n",
    "size(test_data)"
   ]
  },
  {
   "cell_type": "code",
   "execution_count": 8,
   "metadata": {},
   "outputs": [
    {
     "name": "stdout",
     "output_type": "stream",
     "text": [
      "Automatically generating validation set from 5% of the data.\n",
      "Linear regression:\n",
      "--------------------------------------------------------\n",
      "Number of examples          : 1327\n",
      "Number of features          : 16\n",
      "Number of unpacked features : 16\n",
      "Number of coefficients    : 17\n",
      "Starting Newton Method\n",
      "--------------------------------------------------------\n",
      "+-----------+----------+--------------+--------------------+----------------------+---------------------------------+-----------------------------------+\n",
      "| Iteration | Passes   | Elapsed Time | Training Max Error | Validation Max Error | Training Root-Mean-Square Error | Validation Root-Mean-Square Error |\n",
      "+-----------+----------+--------------+--------------------+----------------------+---------------------------------+-----------------------------------+\n",
      "| 1         | 2        | 1.010805     | 1743.450375        | 1070.171629          | 216.223451                      | 281.031611                        |\n",
      "+-----------+----------+--------------+--------------------+----------------------+---------------------------------+-----------------------------------+\n",
      "SUCCESS: Optimal solution found.\n",
      "\n",
      "Boosted trees regression:\n",
      "--------------------------------------------------------\n",
      "Number of examples          : 1327\n",
      "Number of features          : 16\n",
      "Number of unpacked features : 16\n",
      "+-----------+--------------+--------------------+----------------------+---------------------------------+-----------------------------------+\n",
      "| Iteration | Elapsed Time | Training Max Error | Validation Max Error | Training Root-Mean-Square Error | Validation Root-Mean-Square Error |\n",
      "+-----------+--------------+--------------------+----------------------+---------------------------------+-----------------------------------+\n",
      "| 1         | 0.008125     | 21478.208984       | 21318.728516         | 16643.552734                    | 17305.119141                      |\n",
      "| 2         | 0.010297     | 15555.888672       | 15396.408203         | 11676.942383                    | 12171.962891                      |\n",
      "| 3         | 0.012529     | 11273.738281       | 11114.257812         | 8194.678711                     | 8582.397461                       |\n",
      "| 4         | 0.014522     | 8238.230469        | 8078.750000          | 5752.039551                     | 6031.343262                       |\n",
      "| 5         | 0.016693     | 6188.234375        | 6028.753906          | 4040.078613                     | 4266.166992                       |\n",
      "| 10        | 0.029337     | 2315.753906        | 1997.494141          | 721.549622                      | 846.360718                        |\n",
      "+-----------+--------------+--------------------+----------------------+---------------------------------+-----------------------------------+\n"
     ]
    },
    {
     "data": {
      "text/plain": [
       "PyObject Class                          : LinearRegression\n",
       "\n",
       "Schema\n",
       "------\n",
       "Number of coefficients         : 17\n",
       "Number of examples             : 1327\n",
       "Number of feature columns      : 16\n",
       "Number of unpacked features    : 16\n",
       "\n",
       "Hyperparameters\n",
       "---------------\n",
       "L1 penalty                     : 0\n",
       "L2 penalty                     : 0.01\n",
       "\n",
       "Training Summary\n",
       "----------------\n",
       "Solver                         : newton\n",
       "Solver iterations              : 1\n",
       "Solver status                  : SUCCESS: Optimal solution found.\n",
       "Training time (sec)            : 1.017\n",
       "\n",
       "Settings\n",
       "--------\n",
       "Residual sum of squares        : 62040674.8527\n",
       "Training RMSE                  : 216.2235\n",
       "\n",
       "Highest Positive Coefficients\n",
       "-----------------------------\n",
       "(intercept)                    : 15723.082\n",
       "DJIA_Avg005                    : 123.5016\n",
       "DJIA_Avg180                    : 5.0173\n",
       "MFC_MPI_Avg365                 : 4.2899\n",
       "DJIA_Avg090                    : 2.3055\n",
       "\n",
       "Lowest Negative Coefficients\n",
       "----------------------------\n",
       "DJIA_Avg030                    : -15.984\n",
       "ISM_MFC_EMP_Avg365             : -4.1262\n",
       "MFC_MPI_Avg180                 : -2.5442\n",
       "DJIA_Avg365                    : -2.4509\n",
       "HOUSE_SRT_MM_Avg180            : -1.3697\n"
      ]
     },
     "execution_count": 8,
     "metadata": {},
     "output_type": "execute_result"
    }
   ],
   "source": [
    "column_to_predict = \"DJIA_Original\"\n",
    "\n",
    "model = tc.regression.create( \n",
    "    train_data, \n",
    "    target = column_to_predict, \n",
    "    features = [\n",
    "                 \"DJIA_Avg005\"\n",
    "                ,\"DJIA_Avg030\"\n",
    "                ,\"DJIA_Avg090\"\n",
    "                ,\"DJIA_Avg180\"        \n",
    "                ,\"DJIA_Avg365\"\n",
    "\n",
    "                ,\"ISM_MFC_EMP_Avg090\"\n",
    "                ,\"ISM_MFC_EMP_Avg180\"\n",
    "                ,\"ISM_MFC_EMP_Avg365\"\n",
    "\n",
    "                ,\"HOUSE_SRT_MM_Value\"\n",
    "                ,\"HOUSE_SRT_MM_Avg090\"\n",
    "                ,\"HOUSE_SRT_MM_Avg180\"\n",
    "                ,\"HOUSE_SRT_MM_Avg365\"\n",
    "\n",
    "                ,\"MFC_MPI_Value\"\n",
    "                ,\"MFC_MPI_Avg090\"\n",
    "                ,\"MFC_MPI_Avg180\"\n",
    "                ,\"MFC_MPI_Avg365\"\n",
    "            ], \n",
    "    validation_set=\"auto\", \n",
    "    verbose=true\n",
    ")"
   ]
  },
  {
   "cell_type": "code",
   "execution_count": 9,
   "metadata": {},
   "outputs": [
    {
     "data": {
      "text/plain": [
       "PyObject dtype: float\n",
       "Rows: 357\n",
       "[16124.0690820535, 16051.182985577749, 16106.425161105835, 16223.924237392977, 16503.782138125003, 16191.965447024086, 16049.340885436586, 16001.164654040658, 16171.701436120027, 16390.035734366294, 16534.745748321173, 16837.980827076273, 16910.56581923466, 17190.477220546098, 17211.821474909622, 17182.711424149133, 17277.76130893489, 17329.143630776223, 17489.878080423558, 17583.475315818818, 17615.77156750971, 17731.263629054603, 17704.011750995793, 17744.633762161666, 17908.646512880612, 17956.00405345644, 17979.71275589384, 18043.53582555946, 17814.393708649273, 17814.308850489622, 17789.593231931005, 17770.124470258314, 17771.37518427503, 17614.232654178537, 17763.773605438633, 17839.269756386602, 17938.004486531358, 17863.16940745228, 17885.111083340726, 17904.921098960498, 17908.09389101022, 17640.850836903075, 18220.898983245337, 18531.50334495444, 18628.893494993645, 18464.616939588323, 18438.260517108418, 18406.942807656033, 18571.33130576751, 18592.68598792903, 18590.06805964298, 18566.995063944207, 18541.793720136662, 18343.149018795644, 18182.64153260501, 18290.67687657435, 18329.96809140972, 18266.782762735256, 18242.770562545174, 18219.31730966181, 18191.495259825548, 18193.489140365797, 18171.175409629617, 18228.635407128204, 18085.089060824936, 19084.707305981625, 19129.199607139395, 19233.527150723137, 19271.14302308984, 19321.454900899884, 19713.721784625723, 19914.094982114053, 19936.184243073796, 19933.513035392552, 19941.885538711784, 19857.30250795801, 19904.998931032897, 19908.896192213655, 20066.65775146072, 20183.30061153294, 20372.4680802562, 20655.3029089269, 20720.049049713634, 20813.258601669535, 20883.302607188027, 20878.97534389548, 21066.36807866551, 21111.456748494682, 20965.747362431248, 20697.928761921015, 20673.868992770014, 20605.75542717554, 20591.662611696367, 20593.787334348934, 20598.843126565655, 21013.43115199369, 20957.551231657693, 21004.208367942912, 20997.333788951324, 20823.535816909145, ... ]"
      ]
     },
     "execution_count": 9,
     "metadata": {},
     "output_type": "execute_result"
    }
   ],
   "source": [
    "## Save predictions to an SArray\n",
    "predictions = model.predict(test_data)\n",
    "#predictions"
   ]
  },
  {
   "cell_type": "code",
   "execution_count": 10,
   "metadata": {},
   "outputs": [
    {
     "name": "stdout",
     "output_type": "stream",
     "text": [
      "DJIA_Original 357\n",
      "predicted 16124.07\t, but actual value was \t16038.59\t difference is -85.48\n",
      "predicted 17789.59\t, but actual value was \t17744.54\t difference is -45.05\n",
      "predicted 18191.5\t, but actual value was \t18168.76\t difference is -22.74\n",
      "predicted 20673.87\t, but actual value was \t20612.27\t difference is -61.6\n",
      "predicted 22050.11\t, but actual value was \t22038.97\t difference is -11.14\n",
      "predicted 26497.29\t, but actual value was \t26616.71\t difference is 119.42\n",
      "predicted 25388.4\t, but actual value was \t25364.37\t difference is -24.03\n",
      "predicted 25606.38\t, but actual value was \t25608.71\t difference is 2.33\n",
      "predicted 26593.4\t, but actual value was \t26695.96\t difference is 102.56\n",
      "predicted 26359.93\t, but actual value was \t26514.62\t difference is 154.69\n",
      "predicted 28629.33\t, but actual value was \t28701.66\t difference is 72.33\n",
      "predicted 24119.09\t, but actual value was \t24599.5\t difference is 480.41\n"
     ]
    }
   ],
   "source": [
    "initio = 0                    # latin: start\n",
    "gradus = 30                   # latin: step\n",
    "finem  = size(predictions)[1] # latin: end\n",
    "\n",
    "println(column_to_predict, \" \", finem)\n",
    "\n",
    "for id in initio:gradus:finem\n",
    "    \n",
    "    a = get(predictions, id)\n",
    "    a = round(a, digits=2)\n",
    "    \n",
    "    b = get(test_data, column_to_predict )\n",
    "    b = get(b, id )\n",
    "    b = round(b, digits=2)\n",
    "\n",
    "    println( \"predicted \", a, \"\\t, but actual value was \\t\", b , \"\\t difference is \",  round(b-a, digits=2)  ) # dict\n",
    "end"
   ]
  },
  {
   "cell_type": "code",
   "execution_count": null,
   "metadata": {},
   "outputs": [],
   "source": []
  },
  {
   "cell_type": "code",
   "execution_count": 11,
   "metadata": {},
   "outputs": [
    {
     "data": {
      "text/plain": [
       "Dict{Any,Any} with 2 entries:\n",
       "  \"rmse\"      => 195.261\n",
       "  \"max_error\" => 1291.43"
      ]
     },
     "execution_count": 11,
     "metadata": {},
     "output_type": "execute_result"
    }
   ],
   "source": [
    "#TODO: write this in a loop to select the best model\n",
    "# Evaluate the model and save the results into a dictionary\n",
    "results = model.evaluate( test_data ) #test_data[0:2531]\n",
    "results"
   ]
  },
  {
   "cell_type": "code",
   "execution_count": 12,
   "metadata": {},
   "outputs": [
    {
     "name": "stdout",
     "output_type": "stream",
     "text": [
      "max_error: 1291.43, rmse: 195.26\n"
     ]
    }
   ],
   "source": [
    "rmse = results[\"rmse\"]\n",
    "rmse = round(rmse, digits=2)\n",
    "\n",
    "max_error = results[\"max_error\"]\n",
    "max_error = round(max_error, digits=2)\n",
    "\n",
    "println( \"max_error: \", max_error, \", rmse: \", rmse )"
   ]
  },
  {
   "cell_type": "code",
   "execution_count": null,
   "metadata": {},
   "outputs": [],
   "source": []
  },
  {
   "cell_type": "code",
   "execution_count": 13,
   "metadata": {},
   "outputs": [],
   "source": [
    "# Export to Core ML\n",
    "model.export_coreml(\"./DATA/models/^DJI.mlmodel\")"
   ]
  }
 ],
 "metadata": {
  "kernelspec": {
   "display_name": "Julia 1.4.2",
   "language": "julia",
   "name": "julia-1.4"
  },
  "language_info": {
   "file_extension": ".jl",
   "mimetype": "application/julia",
   "name": "julia",
   "version": "1.4.2"
  }
 },
 "nbformat": 4,
 "nbformat_minor": 4
}
