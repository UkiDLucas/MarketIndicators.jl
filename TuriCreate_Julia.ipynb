{
 "cells": [
  {
   "cell_type": "code",
   "execution_count": 1,
   "metadata": {},
   "outputs": [],
   "source": [
    "## uncomment for the first run\n",
    "# import Pkg\n",
    "# Pkg.add(\"PyCall\")\n",
    "# Pkg.add(\"Conda\")\n",
    "# ENV[\"PYTHON\"] = \"/opt/anaconda3/envs/turi/bin/python\"\n",
    "# /opt/anaconda3/envs/turi/lib/python3.6/site-packages/\n",
    "# Pkg.build(\"PyCall\")"
   ]
  },
  {
   "cell_type": "code",
   "execution_count": 2,
   "metadata": {},
   "outputs": [
    {
     "data": {
      "text/plain": [
       "PyObject <module 'turicreate' from '/opt/anaconda3/envs/turi/lib/python3.6/site-packages/turicreate/__init__.py'>"
      ]
     },
     "execution_count": 2,
     "metadata": {},
     "output_type": "execute_result"
    }
   ],
   "source": [
    "using PyCall\n",
    "tc = pyimport(\"turicreate\")"
   ]
  },
  {
   "cell_type": "code",
   "execution_count": 3,
   "metadata": {},
   "outputs": [
    {
     "name": "stdout",
     "output_type": "stream",
     "text": [
      "Finished parsing file /Users/uki/REPOS/MarketIndicators.jl/DATA/processed/uber.csv\n",
      "Parsing completed. Parsed 100 lines in 0.030742 secs.\n",
      "------------------------------------------------------\n",
      "Inferred types from first 100 line(s) of file as \n",
      "column_type_hints=[int,str,float,float,float,float,float,float,float,float,float,float,float,float,float,float,float,float,float,float,float,float,float,float]\n",
      "If parsing fails due to incorrect types, you can correct\n",
      "the inferred type list above and pass it to read_csv in\n",
      "the column_type_hints argument\n",
      "------------------------------------------------------\n",
      "Finished parsing file /Users/uki/REPOS/MarketIndicators.jl/DATA/processed/uber.csv\n",
      "Parsing completed. Parsed 1744 lines in 0.007228 secs.\n",
      "data is a PyObject\n"
     ]
    }
   ],
   "source": [
    "data_path=\"./DATA/processed/uber.csv\"\n",
    "data = tc.SFrame(data_path)\n",
    "println(\"data is a \", typeof(data))"
   ]
  },
  {
   "cell_type": "code",
   "execution_count": 4,
   "metadata": {},
   "outputs": [
    {
     "data": {
      "text/plain": [
       "1744"
      ]
     },
     "execution_count": 4,
     "metadata": {},
     "output_type": "execute_result"
    }
   ],
   "source": [
    "row_count = size(data)[1]"
   ]
  },
  {
   "cell_type": "code",
   "execution_count": 5,
   "metadata": {},
   "outputs": [
    {
     "ename": "MethodError",
     "evalue": "MethodError: no method matching getindex(::PyObject, ::UnitRange{Int64})\nClosest candidates are:\n  getindex(::PyObject, !Matched::T) where T<:Union{AbstractString, Symbol} at /Users/uki/.julia/packages/PyCall/BcTLp/src/PyCall.jl:338\n  getindex(::PyObject, !Matched::Integer) at deprecated.jl:65\n  getindex(::PyObject, !Matched::Integer, !Matched::Integer) at deprecated.jl:65\n  ...",
     "output_type": "error",
     "traceback": [
      "MethodError: no method matching getindex(::PyObject, ::UnitRange{Int64})\nClosest candidates are:\n  getindex(::PyObject, !Matched::T) where T<:Union{AbstractString, Symbol} at /Users/uki/.julia/packages/PyCall/BcTLp/src/PyCall.jl:338\n  getindex(::PyObject, !Matched::Integer) at deprecated.jl:65\n  getindex(::PyObject, !Matched::Integer, !Matched::Integer) at deprecated.jl:65\n  ...",
      "",
      "Stacktrace:",
      " [1] top-level scope at In[5]:1"
     ]
    }
   ],
   "source": [
    "# Do not take initial year data as averages are not complete\n",
    "data[1:1]"
   ]
  },
  {
   "cell_type": "code",
   "execution_count": 6,
   "metadata": {},
   "outputs": [
    {
     "name": "stdout",
     "output_type": "stream",
     "text": [
      "\n"
     ]
    }
   ],
   "source": [
    "# Make a train-test split\n",
    "train_data, test_data = data.random_split(0.8)\n",
    "println()"
   ]
  },
  {
   "cell_type": "code",
   "execution_count": 7,
   "metadata": {},
   "outputs": [
    {
     "data": {
      "text/plain": [
       "(376,)"
      ]
     },
     "execution_count": 7,
     "metadata": {},
     "output_type": "execute_result"
    }
   ],
   "source": [
    "size(train_data)\n",
    "size(test_data)"
   ]
  },
  {
   "cell_type": "code",
   "execution_count": 8,
   "metadata": {},
   "outputs": [
    {
     "name": "stdout",
     "output_type": "stream",
     "text": [
      "Automatically generating validation set from 5% of the data.\n",
      "Linear regression:\n",
      "--------------------------------------------------------\n",
      "Number of examples          : 1283\n",
      "Number of features          : 16\n",
      "Number of unpacked features : 16\n",
      "Number of coefficients    : 17\n",
      "Starting Newton Method\n",
      "--------------------------------------------------------\n",
      "+-----------+----------+--------------+--------------------+----------------------+---------------------------------+-----------------------------------+\n",
      "| Iteration | Passes   | Elapsed Time | Training Max Error | Validation Max Error | Training Root-Mean-Square Error | Validation Root-Mean-Square Error |\n",
      "+-----------+----------+--------------+--------------------+----------------------+---------------------------------+-----------------------------------+\n",
      "| 1         | 2        | 1.013257     | 1724.170387        | 1302.541400          | 216.073476                      | 230.569966                        |\n",
      "+-----------+----------+--------------+--------------------+----------------------+---------------------------------+-----------------------------------+\n",
      "SUCCESS: Optimal solution found.\n",
      "\n",
      "Boosted trees regression:\n",
      "--------------------------------------------------------\n",
      "Number of examples          : 1283\n",
      "Number of features          : 16\n",
      "Number of unpacked features : 16\n",
      "+-----------+--------------+--------------------+----------------------+---------------------------------+-----------------------------------+\n",
      "| Iteration | Elapsed Time | Training Max Error | Validation Max Error | Training Root-Mean-Square Error | Validation Root-Mean-Square Error |\n",
      "+-----------+--------------+--------------------+----------------------+---------------------------------+-----------------------------------+\n",
      "| 1         | 0.007663     | 21430.861328       | 20806.531250         | 16635.595703                    | 16617.373047                      |\n",
      "| 2         | 0.010282     | 15505.667969       | 14881.337891         | 11672.386719                    | 11678.580078                      |\n",
      "| 3         | 0.012298     | 11208.613281       | 10584.283203         | 8191.904785                     | 8201.943359                       |\n",
      "| 4         | 0.014726     | 8105.982422        | 7481.652344          | 5750.207031                     | 5758.130859                       |\n",
      "| 5         | 0.016931     | 5878.580078        | 5254.250000          | 4039.271240                     | 4045.332275                       |\n",
      "| 10        | 0.030426     | 2238.810547        | 1735.394531          | 720.470032                      | 760.918518                        |\n",
      "+-----------+--------------+--------------------+----------------------+---------------------------------+-----------------------------------+\n"
     ]
    },
    {
     "data": {
      "text/plain": [
       "PyObject Class                          : LinearRegression\n",
       "\n",
       "Schema\n",
       "------\n",
       "Number of coefficients         : 17\n",
       "Number of examples             : 1283\n",
       "Number of feature columns      : 16\n",
       "Number of unpacked features    : 16\n",
       "\n",
       "Hyperparameters\n",
       "---------------\n",
       "L1 penalty                     : 0\n",
       "L2 penalty                     : 0.01\n",
       "\n",
       "Training Summary\n",
       "----------------\n",
       "Solver                         : newton\n",
       "Solver iterations              : 1\n",
       "Solver status                  : SUCCESS: Optimal solution found.\n",
       "Training time (sec)            : 1.0189\n",
       "\n",
       "Settings\n",
       "--------\n",
       "Residual sum of squares        : 59900379.5493\n",
       "Training RMSE                  : 216.0735\n",
       "\n",
       "Highest Positive Coefficients\n",
       "-----------------------------\n",
       "(intercept)                    : 15733.0847\n",
       "DJIA_Avg005                    : 123.9158\n",
       "DJIA_Avg180                    : 5.6375\n",
       "MFC_MPI_Avg365                 : 4.6414\n",
       "DJIA_Avg090                    : 3.9702\n",
       "\n",
       "Lowest Negative Coefficients\n",
       "----------------------------\n",
       "DJIA_Avg030                    : -17.6065\n",
       "ISM_MFC_EMP_Avg365             : -5.1905\n",
       "DJIA_Avg365                    : -3.3453\n",
       "MFC_MPI_Avg180                 : -3.0996\n",
       "HOUSE_SRT_MM_Avg365            : -2.4012\n"
      ]
     },
     "execution_count": 8,
     "metadata": {},
     "output_type": "execute_result"
    }
   ],
   "source": [
    "column_to_predict = \"DJIA_Original\"\n",
    "\n",
    "model = tc.regression.create( \n",
    "    train_data, \n",
    "    target = column_to_predict, \n",
    "    features = [\n",
    "                 \"DJIA_Avg005\"\n",
    "                ,\"DJIA_Avg030\"\n",
    "                ,\"DJIA_Avg090\"\n",
    "                ,\"DJIA_Avg180\"        \n",
    "                ,\"DJIA_Avg365\"\n",
    "\n",
    "                ,\"ISM_MFC_EMP_Avg090\"\n",
    "                ,\"ISM_MFC_EMP_Avg180\"\n",
    "                ,\"ISM_MFC_EMP_Avg365\"\n",
    "\n",
    "                ,\"HOUSE_SRT_MM_Value\"\n",
    "                ,\"HOUSE_SRT_MM_Avg090\"\n",
    "                ,\"HOUSE_SRT_MM_Avg180\"\n",
    "                ,\"HOUSE_SRT_MM_Avg365\"\n",
    "\n",
    "                ,\"MFC_MPI_Value\"\n",
    "                ,\"MFC_MPI_Avg090\"\n",
    "                ,\"MFC_MPI_Avg180\"\n",
    "                ,\"MFC_MPI_Avg365\"\n",
    "            ], \n",
    "    validation_set=\"auto\", \n",
    "    verbose=true\n",
    ")"
   ]
  },
  {
   "cell_type": "code",
   "execution_count": null,
   "metadata": {},
   "outputs": [],
   "source": []
  },
  {
   "cell_type": "code",
   "execution_count": null,
   "metadata": {},
   "outputs": [],
   "source": []
  },
  {
   "cell_type": "code",
   "execution_count": null,
   "metadata": {},
   "outputs": [],
   "source": []
  },
  {
   "cell_type": "code",
   "execution_count": null,
   "metadata": {},
   "outputs": [],
   "source": []
  },
  {
   "cell_type": "code",
   "execution_count": null,
   "metadata": {},
   "outputs": [],
   "source": []
  },
  {
   "cell_type": "code",
   "execution_count": null,
   "metadata": {},
   "outputs": [],
   "source": []
  },
  {
   "cell_type": "code",
   "execution_count": null,
   "metadata": {},
   "outputs": [],
   "source": []
  },
  {
   "cell_type": "raw",
   "metadata": {},
   "source": [
    "so = pyimport(\"scipy.optimize\")\n",
    "so.newton(x -> cos(x) - x, 1)"
   ]
  },
  {
   "cell_type": "raw",
   "metadata": {},
   "source": [
    "@pywith pybuiltin(\"open\")(\"file.txt\",\"w\") as f begin\n",
    "    f.write(\"hello\")\n",
    "end"
   ]
  },
  {
   "cell_type": "raw",
   "metadata": {},
   "source": [
    "py\"\"\"\n",
    "import numpy as np\n",
    "\n",
    "def sinpi(x):\n",
    "    return np.sin(np.pi * x)\n",
    "\"\"\"\n",
    "py\"sinpi\"(1)"
   ]
  },
  {
   "cell_type": "code",
   "execution_count": null,
   "metadata": {},
   "outputs": [],
   "source": []
  }
 ],
 "metadata": {
  "kernelspec": {
   "display_name": "Julia 1.4.2",
   "language": "julia",
   "name": "julia-1.4"
  },
  "language_info": {
   "file_extension": ".jl",
   "mimetype": "application/julia",
   "name": "julia",
   "version": "1.4.2"
  }
 },
 "nbformat": 4,
 "nbformat_minor": 4
}
