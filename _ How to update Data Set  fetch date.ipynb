{
 "cells": [
  {
   "cell_type": "code",
   "execution_count": 7,
   "metadata": {},
   "outputs": [
    {
     "data": {
      "text/plain": [
       "\"1d\""
      ]
     },
     "execution_count": 7,
     "metadata": {},
     "output_type": "execute_result"
    }
   ],
   "source": [
    "using Dates, Printf\n",
    "\n",
    "uri = \"https://query1.finance.yahoo.com/v7/finance/download/%5EGSPC?period1=-1325635200&period2=1602979200&interval=1d&events=history\"\n",
    "interval = \"1d\""
   ]
  },
  {
   "cell_type": "code",
   "execution_count": 10,
   "metadata": {},
   "outputs": [
    {
     "data": {
      "text/plain": [
       "\"https://query1.finance.yahoo.com/v7/finance/download/%5EGSPC?period1=-1325635200&period2=1603023563&interval=1d&events=history\""
      ]
     },
     "execution_count": 10,
     "metadata": {},
     "output_type": "execute_result"
    }
   ],
   "source": [
    "function update_yahoo_finance(uri::String, interval = \"1d\")\n",
    "    str_interval = \"&interval=\" * interval\n",
    "    str_events = \"&events=history\"\n",
    "    unix_date_now = @sprintf(\"%.0f\", Dates.datetime2unix(Dates.now()))\n",
    "    cut_position = findfirst(\"period2=\", uri)[end] # take only second element of the tuple\n",
    "    str_begining = uri[1:cut_position]\n",
    "    uri = begining * unix_date_now * ending\n",
    "    return uri\n",
    "end\n",
    "\n",
    "update_yahoo_finance(uri)"
   ]
  }
 ],
 "metadata": {
  "kernelspec": {
   "display_name": "Julia 1.5.0",
   "language": "julia",
   "name": "julia-1.5"
  },
  "language_info": {
   "file_extension": ".jl",
   "mimetype": "application/julia",
   "name": "julia",
   "version": "1.5.0"
  },
  "toc": {
   "base_numbering": 1,
   "nav_menu": {},
   "number_sections": true,
   "sideBar": true,
   "skip_h1_title": false,
   "title_cell": "Table of Contents",
   "title_sidebar": "Contents",
   "toc_cell": false,
   "toc_position": {},
   "toc_section_display": true,
   "toc_window_display": false
  }
 },
 "nbformat": 4,
 "nbformat_minor": 4
}
