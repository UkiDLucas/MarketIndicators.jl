{
 "cells": [
  {
   "cell_type": "markdown",
   "metadata": {},
   "source": [
    "# ISM Manufacturing Employment\n",
    "\n",
    "ISM Manufacturing Employment is one of the diffuse indicators, based on which the Supply Management Institute calculates the Manufacturing PMI. It reflects a change in employment in industrial companies.\n",
    "\n",
    "The index calculation is based on data collected from a monthly survey of supply managers from 18 US industries. Respondents estimate employment situation in their company in the past month: whether it has improved, deteriorated or has not changed. The collected data are processed and compiled to a diffuse index. The index weight in the total manufacturing PMI calculation is 20%.\n",
    "\n",
    "The ISM Manufacturing Employment index is usually closely correlated with other data released by the Bureau of Labor Statistics. Growth of employment in the manufacturing sector usually reflects a generally positive situation in the labor market: manufacturers hire more employees, so the number of jobs is growing, and the unemployment rate is declining.\n",
    "\n",
    "However, the index generally does not influence dollar quotes directly and is normally interpreted as part of PMI.\n",
    "\n",
    "## Source\n",
    "- https://www.mql5.com/en/economic-calendar/united-states/ism-manufacturing-employment"
   ]
  },
  {
   "cell_type": "markdown",
   "metadata": {},
   "source": [
    "## Set Hyperparameters"
   ]
  },
  {
   "cell_type": "code",
   "execution_count": 1,
   "metadata": {},
   "outputs": [
    {
     "data": {
      "text/plain": [
       "\"data/united-states.ism-manufacturing-employment.csv\""
      ]
     },
     "execution_count": 1,
     "metadata": {},
     "output_type": "execute_result"
    }
   ],
   "source": [
    "data_file = \"data/united-states.ism-manufacturing-employment.csv\""
   ]
  },
  {
   "cell_type": "code",
   "execution_count": 8,
   "metadata": {},
   "outputs": [
    {
     "data": {
      "text/html": [
       "<table class=\"data-frame\"><thead><tr><th></th><th>Date</th><th>ActualValue</th><th>ForecastValue</th><th>PreviousValue</th></tr><tr><th></th><th>String</th><th>Float64</th><th>Float64?</th><th>Float64?</th></tr></thead><tbody><p>82 rows × 4 columns</p><tr><th>1</th><td>2020.08.03</td><td>44.3</td><td>34.4</td><td>42.1</td></tr><tr><th>2</th><td>2020.07.01</td><td>42.1</td><td>38.1</td><td>32.1</td></tr><tr><th>3</th><td>2020.06.01</td><td>32.1</td><td>34.1</td><td>27.5</td></tr><tr><th>4</th><td>2020.05.01</td><td>27.5</td><td>44.8</td><td>43.8</td></tr><tr><th>5</th><td>2020.04.01</td><td>43.8</td><td>45.4</td><td>46.9</td></tr><tr><th>6</th><td>2020.03.02</td><td>46.9</td><td>43.9</td><td>46.6</td></tr><tr><th>7</th><td>2020.02.03</td><td>46.6</td><td>43.3</td><td>45.2</td></tr><tr><th>8</th><td>2020.01.03</td><td>45.1</td><td>53.5</td><td>46.6</td></tr><tr><th>9</th><td>2019.12.02</td><td>46.6</td><td>54.3</td><td>47.7</td></tr><tr><th>10</th><td>2019.11.01</td><td>47.7</td><td>54.7</td><td>46.3</td></tr><tr><th>11</th><td>2019.10.01</td><td>46.3</td><td>55.3</td><td>47.4</td></tr><tr><th>12</th><td>2019.09.03</td><td>47.4</td><td>56.0</td><td>51.7</td></tr><tr><th>13</th><td>2019.08.01</td><td>51.7</td><td>53.7</td><td>54.5</td></tr><tr><th>14</th><td>2019.07.01</td><td>54.5</td><td>54.1</td><td>53.7</td></tr><tr><th>15</th><td>2019.06.03</td><td>53.7</td><td>52.8</td><td>52.4</td></tr><tr><th>16</th><td>2019.05.01</td><td>52.4</td><td>56.7</td><td>57.5</td></tr><tr><th>17</th><td>2019.04.01</td><td>57.5</td><td>57.3</td><td>52.3</td></tr><tr><th>18</th><td>2019.03.01</td><td>52.3</td><td>57.8</td><td>55.5</td></tr><tr><th>19</th><td>2019.02.01</td><td>55.5</td><td>57.5</td><td>56.0</td></tr><tr><th>20</th><td>2019.01.03</td><td>56.2</td><td>58.1</td><td>58.4</td></tr><tr><th>21</th><td>2018.12.03</td><td>58.4</td><td>57.2</td><td>56.8</td></tr><tr><th>22</th><td>2018.11.01</td><td>56.8</td><td>56.9</td><td>58.8</td></tr><tr><th>23</th><td>2018.10.01</td><td>58.8</td><td>56.9</td><td>58.5</td></tr><tr><th>24</th><td>2018.09.04</td><td>58.5</td><td>56.3</td><td>56.5</td></tr><tr><th>25</th><td>2018.08.01</td><td>56.5</td><td>56.2</td><td>56.0</td></tr><tr><th>26</th><td>2018.07.02</td><td>56.0</td><td>55.3</td><td>56.3</td></tr><tr><th>27</th><td>2018.06.01</td><td>56.3</td><td>55.8</td><td>54.2</td></tr><tr><th>28</th><td>2018.05.01</td><td>54.2</td><td>58.6</td><td>57.3</td></tr><tr><th>29</th><td>2018.04.02</td><td>57.3</td><td>57.2</td><td>59.7</td></tr><tr><th>30</th><td>2018.03.01</td><td>59.7</td><td>55.9</td><td>54.2</td></tr><tr><th>&vellip;</th><td>&vellip;</td><td>&vellip;</td><td>&vellip;</td><td>&vellip;</td></tr></tbody></table>"
      ],
      "text/latex": [
       "\\begin{tabular}{r|cccc}\n",
       "\t& Date & ActualValue & ForecastValue & PreviousValue\\\\\n",
       "\t\\hline\n",
       "\t& String & Float64 & Float64? & Float64?\\\\\n",
       "\t\\hline\n",
       "\t1 & 2020.08.03 & 44.3 & 34.4 & 42.1 \\\\\n",
       "\t2 & 2020.07.01 & 42.1 & 38.1 & 32.1 \\\\\n",
       "\t3 & 2020.06.01 & 32.1 & 34.1 & 27.5 \\\\\n",
       "\t4 & 2020.05.01 & 27.5 & 44.8 & 43.8 \\\\\n",
       "\t5 & 2020.04.01 & 43.8 & 45.4 & 46.9 \\\\\n",
       "\t6 & 2020.03.02 & 46.9 & 43.9 & 46.6 \\\\\n",
       "\t7 & 2020.02.03 & 46.6 & 43.3 & 45.2 \\\\\n",
       "\t8 & 2020.01.03 & 45.1 & 53.5 & 46.6 \\\\\n",
       "\t9 & 2019.12.02 & 46.6 & 54.3 & 47.7 \\\\\n",
       "\t10 & 2019.11.01 & 47.7 & 54.7 & 46.3 \\\\\n",
       "\t11 & 2019.10.01 & 46.3 & 55.3 & 47.4 \\\\\n",
       "\t12 & 2019.09.03 & 47.4 & 56.0 & 51.7 \\\\\n",
       "\t13 & 2019.08.01 & 51.7 & 53.7 & 54.5 \\\\\n",
       "\t14 & 2019.07.01 & 54.5 & 54.1 & 53.7 \\\\\n",
       "\t15 & 2019.06.03 & 53.7 & 52.8 & 52.4 \\\\\n",
       "\t16 & 2019.05.01 & 52.4 & 56.7 & 57.5 \\\\\n",
       "\t17 & 2019.04.01 & 57.5 & 57.3 & 52.3 \\\\\n",
       "\t18 & 2019.03.01 & 52.3 & 57.8 & 55.5 \\\\\n",
       "\t19 & 2019.02.01 & 55.5 & 57.5 & 56.0 \\\\\n",
       "\t20 & 2019.01.03 & 56.2 & 58.1 & 58.4 \\\\\n",
       "\t21 & 2018.12.03 & 58.4 & 57.2 & 56.8 \\\\\n",
       "\t22 & 2018.11.01 & 56.8 & 56.9 & 58.8 \\\\\n",
       "\t23 & 2018.10.01 & 58.8 & 56.9 & 58.5 \\\\\n",
       "\t24 & 2018.09.04 & 58.5 & 56.3 & 56.5 \\\\\n",
       "\t25 & 2018.08.01 & 56.5 & 56.2 & 56.0 \\\\\n",
       "\t26 & 2018.07.02 & 56.0 & 55.3 & 56.3 \\\\\n",
       "\t27 & 2018.06.01 & 56.3 & 55.8 & 54.2 \\\\\n",
       "\t28 & 2018.05.01 & 54.2 & 58.6 & 57.3 \\\\\n",
       "\t29 & 2018.04.02 & 57.3 & 57.2 & 59.7 \\\\\n",
       "\t30 & 2018.03.01 & 59.7 & 55.9 & 54.2 \\\\\n",
       "\t$\\dots$ & $\\dots$ & $\\dots$ & $\\dots$ & $\\dots$ \\\\\n",
       "\\end{tabular}\n"
      ],
      "text/plain": [
       "82×4 DataFrame\n",
       "│ Row │ Date       │ ActualValue │ ForecastValue │ PreviousValue │\n",
       "│     │ \u001b[90mString\u001b[39m     │ \u001b[90mFloat64\u001b[39m     │ \u001b[90mFloat64?\u001b[39m      │ \u001b[90mFloat64?\u001b[39m      │\n",
       "├─────┼────────────┼─────────────┼───────────────┼───────────────┤\n",
       "│ 1   │ 2020.08.03 │ 44.3        │ 34.4          │ 42.1          │\n",
       "│ 2   │ 2020.07.01 │ 42.1        │ 38.1          │ 32.1          │\n",
       "│ 3   │ 2020.06.01 │ 32.1        │ 34.1          │ 27.5          │\n",
       "│ 4   │ 2020.05.01 │ 27.5        │ 44.8          │ 43.8          │\n",
       "│ 5   │ 2020.04.01 │ 43.8        │ 45.4          │ 46.9          │\n",
       "│ 6   │ 2020.03.02 │ 46.9        │ 43.9          │ 46.6          │\n",
       "│ 7   │ 2020.02.03 │ 46.6        │ 43.3          │ 45.2          │\n",
       "│ 8   │ 2020.01.03 │ 45.1        │ 53.5          │ 46.6          │\n",
       "│ 9   │ 2019.12.02 │ 46.6        │ 54.3          │ 47.7          │\n",
       "│ 10  │ 2019.11.01 │ 47.7        │ 54.7          │ 46.3          │\n",
       "⋮\n",
       "│ 72  │ 2014.09.02 │ 58.1        │ \u001b[90mmissing\u001b[39m       │ 58.2          │\n",
       "│ 73  │ 2014.08.01 │ 58.2        │ \u001b[90mmissing\u001b[39m       │ 52.8          │\n",
       "│ 74  │ 2014.07.01 │ 52.8        │ \u001b[90mmissing\u001b[39m       │ 52.8          │\n",
       "│ 75  │ 2014.06.02 │ 52.8        │ \u001b[90mmissing\u001b[39m       │ 54.7          │\n",
       "│ 76  │ 2014.05.01 │ 54.7        │ \u001b[90mmissing\u001b[39m       │ 51.1          │\n",
       "│ 77  │ 2014.04.01 │ 51.1        │ \u001b[90mmissing\u001b[39m       │ 52.3          │\n",
       "│ 78  │ 2014.03.03 │ 52.3        │ \u001b[90mmissing\u001b[39m       │ 52.3          │\n",
       "│ 79  │ 2014.02.03 │ 52.3        │ \u001b[90mmissing\u001b[39m       │ 56.9          │\n",
       "│ 80  │ 2014.01.02 │ 56.9        │ \u001b[90mmissing\u001b[39m       │ 56.5          │\n",
       "│ 81  │ 2013.12.02 │ 56.5        │ \u001b[90mmissing\u001b[39m       │ 53.2          │\n",
       "│ 82  │ 2013.11.01 │ 53.2        │ \u001b[90mmissing\u001b[39m       │ \u001b[90mmissing\u001b[39m       │"
      ]
     },
     "execution_count": 8,
     "metadata": {},
     "output_type": "execute_result"
    }
   ],
   "source": [
    "using DataFrames, CSV\n",
    "df = CSV.read(data_file)"
   ]
  },
  {
   "cell_type": "code",
   "execution_count": null,
   "metadata": {},
   "outputs": [],
   "source": []
  }
 ],
 "metadata": {
  "kernelspec": {
   "display_name": "Julia 1.5.0",
   "language": "julia",
   "name": "julia-1.5"
  },
  "language_info": {
   "file_extension": ".jl",
   "mimetype": "application/julia",
   "name": "julia",
   "version": "1.5.0"
  },
  "toc": {
   "base_numbering": 1,
   "nav_menu": {},
   "number_sections": true,
   "sideBar": true,
   "skip_h1_title": false,
   "title_cell": "Table of Contents",
   "title_sidebar": "Contents",
   "toc_cell": false,
   "toc_position": {},
   "toc_section_display": true,
   "toc_window_display": false
  }
 },
 "nbformat": 4,
 "nbformat_minor": 4
}
