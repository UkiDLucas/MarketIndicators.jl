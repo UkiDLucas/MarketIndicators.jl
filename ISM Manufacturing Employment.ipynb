{
 "cells": [
  {
   "cell_type": "markdown",
   "metadata": {},
   "source": [
    "# ISM Manufacturing Employment\n",
    "\n",
    "ISM Manufacturing Employment is one of the diffuse indicators, based on which the Supply Management Institute calculates the Manufacturing PMI. It reflects a change in employment in industrial companies.\n",
    "\n",
    "The index calculation is based on data collected from a monthly survey of supply managers from 18 US industries. Respondents estimate employment situation in their company in the past month: whether it has improved, deteriorated or has not changed. The collected data are processed and compiled to a diffuse index. The index weight in the total manufacturing PMI calculation is 20%.\n",
    "\n",
    "The ISM Manufacturing Employment index is usually closely correlated with other data released by the Bureau of Labor Statistics. Growth of employment in the manufacturing sector usually reflects a generally positive situation in the labor market: manufacturers hire more employees, so the number of jobs is growing, and the unemployment rate is declining.\n",
    "\n",
    "However, the index generally does not influence dollar quotes directly and is normally interpreted as part of PMI.\n",
    "\n",
    "## Source\n",
    "- https://www.mql5.com/en/economic-calendar/united-states/ism-manufacturing-employment"
   ]
  },
  {
   "cell_type": "markdown",
   "metadata": {
    "toc": true
   },
   "source": [
    "<h1>Table of Contents<span class=\"tocSkip\"></span></h1>\n",
    "<div class=\"toc\"><ul class=\"toc-item\"><li><span><a href=\"#Source\" data-toc-modified-id=\"Source-1\"><span class=\"toc-item-num\">1&nbsp;&nbsp;</span>Source</a></span></li><li><span><a href=\"#Set-Up\" data-toc-modified-id=\"Set-Up-2\"><span class=\"toc-item-num\">2&nbsp;&nbsp;</span>Set Up</a></span></li><li><span><a href=\"#Read-Data\" data-toc-modified-id=\"Read-Data-3\"><span class=\"toc-item-num\">3&nbsp;&nbsp;</span>Read Data</a></span><ul class=\"toc-item\"><li><span><a href=\"#Sample-the-data\" data-toc-modified-id=\"Sample-the-data-3.1\"><span class=\"toc-item-num\">3.1&nbsp;&nbsp;</span>Sample the data</a></span></li></ul></li><li><span><a href=\"#Rata-Die\" data-toc-modified-id=\"Rata-Die-4\"><span class=\"toc-item-num\">4&nbsp;&nbsp;</span>Rata Die</a></span><ul class=\"toc-item\"><li><span><a href=\"#Draw-Plots\" data-toc-modified-id=\"Draw-Plots-4.1\"><span class=\"toc-item-num\">4.1&nbsp;&nbsp;</span>Draw Plots</a></span></li><li><span><a href=\"#set-the-original-value-column\" data-toc-modified-id=\"set-the-original-value-column-4.2\"><span class=\"toc-item-num\">4.2&nbsp;&nbsp;</span>set the original value column</a></span></li></ul></li><li><span><a href=\"#Extract-right-columns\" data-toc-modified-id=\"Extract-right-columns-5\"><span class=\"toc-item-num\">5&nbsp;&nbsp;</span>Extract right columns</a></span></li><li><span><a href=\"#Quantize-the-values\" data-toc-modified-id=\"Quantize-the-values-6\"><span class=\"toc-item-num\">6&nbsp;&nbsp;</span>Quantize the values</a></span></li></ul></div>"
   ]
  },
  {
   "cell_type": "markdown",
   "metadata": {},
   "source": [
    "## Set Up"
   ]
  },
  {
   "cell_type": "code",
   "execution_count": 1,
   "metadata": {},
   "outputs": [
    {
     "name": "stdout",
     "output_type": "stream",
     "text": [
      "\n",
      "\n",
      "\n"
     ]
    }
   ],
   "source": [
    "dataset_file_name = \"united-states.ism-manufacturing-employment.csv\"\n",
    "\n",
    "path_data_original = \"./Data/original/\"\n",
    "date_original_format = \"yyyy.mm.dd\"\n",
    "original_value_column = 3 # ActualValue\n",
    "\n",
    "include(\"MarketIndicators.jl\") \n",
    "println()"
   ]
  },
  {
   "cell_type": "markdown",
   "metadata": {},
   "source": [
    "## Read Data"
   ]
  },
  {
   "cell_type": "code",
   "execution_count": 2,
   "metadata": {},
   "outputs": [
    {
     "name": "stdout",
     "output_type": "stream",
     "text": [
      "./Data/original/united-states.ism-manufacturing-employment.csv\n",
      "data dimentions: (85, 4)\n"
     ]
    },
    {
     "data": {
      "text/html": [
       "<table class=\"data-frame\"><thead><tr><th></th><th>variable</th><th>mean</th><th>min</th><th>median</th><th>max</th><th>nunique</th><th>nmissing</th><th>eltype</th></tr><tr><th></th><th>Symbol</th><th>Union…</th><th>Any</th><th>Union…</th><th>Any</th><th>Union…</th><th>Union…</th><th>Type</th></tr></thead><tbody><p>4 rows × 8 columns</p><tr><th>1</th><td>Date</td><td></td><td>2013-11-01</td><td></td><td>2020-11-02</td><td>85</td><td></td><td>Date</td></tr><tr><th>2</th><td>ActualValue</td><td>52.2353</td><td>27.5</td><td>52.8</td><td>60.3</td><td></td><td></td><td>Float64</td></tr><tr><th>3</th><td>ForecastValue</td><td>52.3487</td><td>34.1</td><td>55.8</td><td>63.5</td><td></td><td>46</td><td>Union{Missing, Float64}</td></tr><tr><th>4</th><td>PreviousValue</td><td>52.2357</td><td>27.5</td><td>52.8</td><td>60.3</td><td></td><td>1</td><td>Union{Missing, Float64}</td></tr></tbody></table>"
      ],
      "text/latex": [
       "\\begin{tabular}{r|cccccccc}\n",
       "\t& variable & mean & min & median & max & nunique & nmissing & eltype\\\\\n",
       "\t\\hline\n",
       "\t& Symbol & Union… & Any & Union… & Any & Union… & Union… & Type\\\\\n",
       "\t\\hline\n",
       "\t1 & Date &  & 2013-11-01 &  & 2020-11-02 & 85 &  & Date \\\\\n",
       "\t2 & ActualValue & 52.2353 & 27.5 & 52.8 & 60.3 &  &  & Float64 \\\\\n",
       "\t3 & ForecastValue & 52.3487 & 34.1 & 55.8 & 63.5 &  & 46 & Union\\{Missing, Float64\\} \\\\\n",
       "\t4 & PreviousValue & 52.2357 & 27.5 & 52.8 & 60.3 &  & 1 & Union\\{Missing, Float64\\} \\\\\n",
       "\\end{tabular}\n"
      ],
      "text/plain": [
       "4×8 DataFrame. Omitted printing of 2 columns\n",
       "│ Row │ variable      │ mean    │ min        │ median │ max        │ nunique │\n",
       "│     │ \u001b[90mSymbol\u001b[39m        │ \u001b[90mUnion…\u001b[39m  │ \u001b[90mAny\u001b[39m        │ \u001b[90mUnion…\u001b[39m │ \u001b[90mAny\u001b[39m        │ \u001b[90mUnion…\u001b[39m  │\n",
       "├─────┼───────────────┼─────────┼────────────┼────────┼────────────┼─────────┤\n",
       "│ 1   │ Date          │         │ 2013-11-01 │        │ 2020-11-02 │ 85      │\n",
       "│ 2   │ ActualValue   │ 52.2353 │ 27.5       │ 52.8   │ 60.3       │         │\n",
       "│ 3   │ ForecastValue │ 52.3487 │ 34.1       │ 55.8   │ 63.5       │         │\n",
       "│ 4   │ PreviousValue │ 52.2357 │ 27.5       │ 52.8   │ 60.3       │         │"
      ]
     },
     "execution_count": 2,
     "metadata": {},
     "output_type": "execute_result"
    }
   ],
   "source": [
    "#data = available_datasets() # uncomment to see all available datasets\n",
    "\n",
    "df = fetch_dataset(dataset_file_name, date_original_format , path_data_original )\n",
    "record_count = size(df)[1]\n",
    "println(\"data dimentions: \", size(df) )\n",
    "\n",
    "using Statistics\n",
    "describe(df)"
   ]
  },
  {
   "cell_type": "markdown",
   "metadata": {},
   "source": [
    "### Sample the data"
   ]
  },
  {
   "cell_type": "code",
   "execution_count": 3,
   "metadata": {},
   "outputs": [
    {
     "name": "stdout",
     "output_type": "stream",
     "text": [
      "7×4 DataFrame\n",
      "│ Row │ Date       │ ActualValue │ ForecastValue │ PreviousValue │\n",
      "│     │ \u001b[90mDate\u001b[39m       │ \u001b[90mFloat64\u001b[39m     │ \u001b[90mFloat64⍰\u001b[39m      │ \u001b[90mFloat64⍰\u001b[39m      │\n",
      "├─────┼────────────┼─────────────┼───────────────┼───────────────┤\n",
      "│ 1   │ 2013-11-01 │ 53.2        │ \u001b[90mmissing\u001b[39m       │ \u001b[90mmissing\u001b[39m       │\n",
      "│ 2   │ 2015-01-02 │ 56.8        │ \u001b[90mmissing\u001b[39m       │ 54.9          │\n",
      "│ 3   │ 2016-03-01 │ 48.5        │ \u001b[90mmissing\u001b[39m       │ 45.9          │\n",
      "│ 4   │ 2017-05-01 │ 52.0        │ \u001b[90mmissing\u001b[39m       │ 58.9          │\n",
      "│ 5   │ 2018-07-02 │ 56.0        │ 55.3          │ 56.3          │\n",
      "│ 6   │ 2019-09-03 │ 47.4        │ 56.0          │ 51.7          │\n",
      "│ 7   │ 2020-11-02 │ 53.2        │ 40.9          │ 49.6          │\n",
      " Dataset dimentions: (85, 4)\n",
      "\n",
      " variable columns:\n",
      "1 Date\n",
      "2 ActualValue\n",
      "3 ForecastValue\n",
      "4 PreviousValue\n",
      "\n"
     ]
    }
   ],
   "source": [
    "columns = preview_data(df) # uncomment to see the data\n",
    "println()"
   ]
  },
  {
   "cell_type": "markdown",
   "metadata": {},
   "source": [
    "## Rata Die"
   ]
  },
  {
   "cell_type": "code",
   "execution_count": 4,
   "metadata": {},
   "outputs": [
    {
     "name": "stdout",
     "output_type": "stream",
     "text": [
      "4×5 DataFrame\n",
      "│ Row │ Rata_Die │ Date       │ ActualValue │ ForecastValue │ PreviousValue │\n",
      "│     │ \u001b[90mInt64\u001b[39m    │ \u001b[90mDate\u001b[39m       │ \u001b[90mFloat64\u001b[39m     │ \u001b[90mFloat64⍰\u001b[39m      │ \u001b[90mFloat64⍰\u001b[39m      │\n",
      "├─────┼──────────┼────────────┼─────────────┼───────────────┼───────────────┤\n",
      "│ 1   │ 735173   │ 2013-11-01 │ 53.2        │ \u001b[90mmissing\u001b[39m       │ \u001b[90mmissing\u001b[39m       │\n",
      "│ 2   │ 736024   │ 2016-03-01 │ 48.5        │ \u001b[90mmissing\u001b[39m       │ 45.9          │\n",
      "│ 3   │ 736877   │ 2018-07-02 │ 56.0        │ 55.3          │ 56.3          │\n",
      "│ 4   │ 737731   │ 2020-11-02 │ 53.2        │ 40.9          │ 49.6          │\n",
      " Dataset dimentions: (85, 5)\n",
      "\n",
      " variable columns:\n",
      "1 Rata_Die\n",
      "2 Date\n",
      "3 ActualValue\n",
      "4 ForecastValue\n",
      "5 PreviousValue\n",
      "\n"
     ]
    }
   ],
   "source": [
    "col_ind = 1\n",
    "insertcols!(df, col_ind, :Rata_Die => zeros(Int64, record_count); makeunique = true )\n",
    "\n",
    "update_rata_die!(df, 1, 2)\n",
    "\n",
    "first(df, 6)\n",
    "columns = preview_data(df, 3)\n",
    "println()"
   ]
  },
  {
   "cell_type": "markdown",
   "metadata": {},
   "source": [
    "### Draw Plots"
   ]
  },
  {
   "cell_type": "code",
   "execution_count": 5,
   "metadata": {},
   "outputs": [
    {
     "data": {
      "image/svg+xml": [
       "<?xml version=\"1.0\" encoding=\"utf-8\"?>\n",
       "<svg xmlns=\"http://www.w3.org/2000/svg\" xmlns:xlink=\"http://www.w3.org/1999/xlink\" width=\"980\" height=\"400\" viewBox=\"0 0 3920 1600\">\n",
       "<defs>\n",
       "  <clipPath id=\"clip6200\">\n",
       "    <rect x=\"0\" y=\"0\" width=\"3920\" height=\"1600\"/>\n",
       "  </clipPath>\n",
       "</defs>\n",
       "<path clip-path=\"url(#clip6200)\" d=\"\n",
       "M0 1600 L3920 1600 L3920 0 L0 0  Z\n",
       "  \" fill=\"#ffffff\" fill-rule=\"evenodd\" fill-opacity=\"1\"/>\n",
       "<defs>\n",
       "  <clipPath id=\"clip6201\">\n",
       "    <rect x=\"784\" y=\"0\" width=\"2745\" height=\"1600\"/>\n",
       "  </clipPath>\n",
       "</defs>\n",
       "<path clip-path=\"url(#clip6200)\" d=\"\n",
       "M202.459 1423.18 L3872.76 1423.18 L3872.76 47.2441 L202.459 47.2441  Z\n",
       "  \" fill=\"#ffffff\" fill-rule=\"evenodd\" fill-opacity=\"1\"/>\n",
       "<defs>\n",
       "  <clipPath id=\"clip6202\">\n",
       "    <rect x=\"202\" y=\"47\" width=\"3671\" height=\"1377\"/>\n",
       "  </clipPath>\n",
       "</defs>\n",
       "<polyline clip-path=\"url(#clip6202)\" style=\"stroke:#000000; stroke-width:2; stroke-opacity:0.1; fill:none\" points=\"\n",
       "  306.335,1423.18 306.335,47.2441 \n",
       "  \"/>\n",
       "<polyline clip-path=\"url(#clip6202)\" style=\"stroke:#000000; stroke-width:2; stroke-opacity:0.1; fill:none\" points=\"\n",
       "  553.66,1423.18 553.66,47.2441 \n",
       "  \"/>\n",
       "<polyline clip-path=\"url(#clip6202)\" style=\"stroke:#000000; stroke-width:2; stroke-opacity:0.1; fill:none\" points=\"\n",
       "  800.984,1423.18 800.984,47.2441 \n",
       "  \"/>\n",
       "<polyline clip-path=\"url(#clip6202)\" style=\"stroke:#000000; stroke-width:2; stroke-opacity:0.1; fill:none\" points=\"\n",
       "  1048.31,1423.18 1048.31,47.2441 \n",
       "  \"/>\n",
       "<polyline clip-path=\"url(#clip6202)\" style=\"stroke:#000000; stroke-width:2; stroke-opacity:0.1; fill:none\" points=\"\n",
       "  1295.63,1423.18 1295.63,47.2441 \n",
       "  \"/>\n",
       "<polyline clip-path=\"url(#clip6202)\" style=\"stroke:#000000; stroke-width:2; stroke-opacity:0.1; fill:none\" points=\"\n",
       "  1542.96,1423.18 1542.96,47.2441 \n",
       "  \"/>\n",
       "<polyline clip-path=\"url(#clip6202)\" style=\"stroke:#000000; stroke-width:2; stroke-opacity:0.1; fill:none\" points=\"\n",
       "  1790.28,1423.18 1790.28,47.2441 \n",
       "  \"/>\n",
       "<polyline clip-path=\"url(#clip6202)\" style=\"stroke:#000000; stroke-width:2; stroke-opacity:0.1; fill:none\" points=\"\n",
       "  2037.61,1423.18 2037.61,47.2441 \n",
       "  \"/>\n",
       "<polyline clip-path=\"url(#clip6202)\" style=\"stroke:#000000; stroke-width:2; stroke-opacity:0.1; fill:none\" points=\"\n",
       "  2284.93,1423.18 2284.93,47.2441 \n",
       "  \"/>\n",
       "<polyline clip-path=\"url(#clip6202)\" style=\"stroke:#000000; stroke-width:2; stroke-opacity:0.1; fill:none\" points=\"\n",
       "  2532.26,1423.18 2532.26,47.2441 \n",
       "  \"/>\n",
       "<polyline clip-path=\"url(#clip6202)\" style=\"stroke:#000000; stroke-width:2; stroke-opacity:0.1; fill:none\" points=\"\n",
       "  2779.58,1423.18 2779.58,47.2441 \n",
       "  \"/>\n",
       "<polyline clip-path=\"url(#clip6202)\" style=\"stroke:#000000; stroke-width:2; stroke-opacity:0.1; fill:none\" points=\"\n",
       "  3026.91,1423.18 3026.91,47.2441 \n",
       "  \"/>\n",
       "<polyline clip-path=\"url(#clip6202)\" style=\"stroke:#000000; stroke-width:2; stroke-opacity:0.1; fill:none\" points=\"\n",
       "  3274.23,1423.18 3274.23,47.2441 \n",
       "  \"/>\n",
       "<polyline clip-path=\"url(#clip6202)\" style=\"stroke:#000000; stroke-width:2; stroke-opacity:0.1; fill:none\" points=\"\n",
       "  3521.55,1423.18 3521.55,47.2441 \n",
       "  \"/>\n",
       "<polyline clip-path=\"url(#clip6202)\" style=\"stroke:#000000; stroke-width:2; stroke-opacity:0.1; fill:none\" points=\"\n",
       "  3768.88,1423.18 3768.88,47.2441 \n",
       "  \"/>\n",
       "<polyline clip-path=\"url(#clip6202)\" style=\"stroke:#000000; stroke-width:2; stroke-opacity:0.1; fill:none\" points=\"\n",
       "  202.459,1285.3 3872.76,1285.3 \n",
       "  \"/>\n",
       "<polyline clip-path=\"url(#clip6202)\" style=\"stroke:#000000; stroke-width:2; stroke-opacity:0.1; fill:none\" points=\"\n",
       "  202.459,889.554 3872.76,889.554 \n",
       "  \"/>\n",
       "<polyline clip-path=\"url(#clip6202)\" style=\"stroke:#000000; stroke-width:2; stroke-opacity:0.1; fill:none\" points=\"\n",
       "  202.459,493.806 3872.76,493.806 \n",
       "  \"/>\n",
       "<polyline clip-path=\"url(#clip6202)\" style=\"stroke:#000000; stroke-width:2; stroke-opacity:0.1; fill:none\" points=\"\n",
       "  202.459,98.0581 3872.76,98.0581 \n",
       "  \"/>\n",
       "<polyline clip-path=\"url(#clip6200)\" style=\"stroke:#000000; stroke-width:4; stroke-opacity:1; fill:none\" points=\"\n",
       "  202.459,1423.18 3872.76,1423.18 \n",
       "  \"/>\n",
       "<polyline clip-path=\"url(#clip6200)\" style=\"stroke:#000000; stroke-width:4; stroke-opacity:1; fill:none\" points=\"\n",
       "  202.459,1423.18 202.459,47.2441 \n",
       "  \"/>\n",
       "<polyline clip-path=\"url(#clip6200)\" style=\"stroke:#000000; stroke-width:4; stroke-opacity:1; fill:none\" points=\"\n",
       "  306.335,1423.18 306.335,1406.67 \n",
       "  \"/>\n",
       "<polyline clip-path=\"url(#clip6200)\" style=\"stroke:#000000; stroke-width:4; stroke-opacity:1; fill:none\" points=\"\n",
       "  553.66,1423.18 553.66,1406.67 \n",
       "  \"/>\n",
       "<polyline clip-path=\"url(#clip6200)\" style=\"stroke:#000000; stroke-width:4; stroke-opacity:1; fill:none\" points=\"\n",
       "  800.984,1423.18 800.984,1406.67 \n",
       "  \"/>\n",
       "<polyline clip-path=\"url(#clip6200)\" style=\"stroke:#000000; stroke-width:4; stroke-opacity:1; fill:none\" points=\"\n",
       "  1048.31,1423.18 1048.31,1406.67 \n",
       "  \"/>\n",
       "<polyline clip-path=\"url(#clip6200)\" style=\"stroke:#000000; stroke-width:4; stroke-opacity:1; fill:none\" points=\"\n",
       "  1295.63,1423.18 1295.63,1406.67 \n",
       "  \"/>\n",
       "<polyline clip-path=\"url(#clip6200)\" style=\"stroke:#000000; stroke-width:4; stroke-opacity:1; fill:none\" points=\"\n",
       "  1542.96,1423.18 1542.96,1406.67 \n",
       "  \"/>\n",
       "<polyline clip-path=\"url(#clip6200)\" style=\"stroke:#000000; stroke-width:4; stroke-opacity:1; fill:none\" points=\"\n",
       "  1790.28,1423.18 1790.28,1406.67 \n",
       "  \"/>\n",
       "<polyline clip-path=\"url(#clip6200)\" style=\"stroke:#000000; stroke-width:4; stroke-opacity:1; fill:none\" points=\"\n",
       "  2037.61,1423.18 2037.61,1406.67 \n",
       "  \"/>\n",
       "<polyline clip-path=\"url(#clip6200)\" style=\"stroke:#000000; stroke-width:4; stroke-opacity:1; fill:none\" points=\"\n",
       "  2284.93,1423.18 2284.93,1406.67 \n",
       "  \"/>\n",
       "<polyline clip-path=\"url(#clip6200)\" style=\"stroke:#000000; stroke-width:4; stroke-opacity:1; fill:none\" points=\"\n",
       "  2532.26,1423.18 2532.26,1406.67 \n",
       "  \"/>\n",
       "<polyline clip-path=\"url(#clip6200)\" style=\"stroke:#000000; stroke-width:4; stroke-opacity:1; fill:none\" points=\"\n",
       "  2779.58,1423.18 2779.58,1406.67 \n",
       "  \"/>\n",
       "<polyline clip-path=\"url(#clip6200)\" style=\"stroke:#000000; stroke-width:4; stroke-opacity:1; fill:none\" points=\"\n",
       "  3026.91,1423.18 3026.91,1406.67 \n",
       "  \"/>\n",
       "<polyline clip-path=\"url(#clip6200)\" style=\"stroke:#000000; stroke-width:4; stroke-opacity:1; fill:none\" points=\"\n",
       "  3274.23,1423.18 3274.23,1406.67 \n",
       "  \"/>\n",
       "<polyline clip-path=\"url(#clip6200)\" style=\"stroke:#000000; stroke-width:4; stroke-opacity:1; fill:none\" points=\"\n",
       "  3521.55,1423.18 3521.55,1406.67 \n",
       "  \"/>\n",
       "<polyline clip-path=\"url(#clip6200)\" style=\"stroke:#000000; stroke-width:4; stroke-opacity:1; fill:none\" points=\"\n",
       "  3768.88,1423.18 3768.88,1406.67 \n",
       "  \"/>\n",
       "<polyline clip-path=\"url(#clip6200)\" style=\"stroke:#000000; stroke-width:4; stroke-opacity:1; fill:none\" points=\"\n",
       "  202.459,1285.3 246.503,1285.3 \n",
       "  \"/>\n",
       "<polyline clip-path=\"url(#clip6200)\" style=\"stroke:#000000; stroke-width:4; stroke-opacity:1; fill:none\" points=\"\n",
       "  202.459,889.554 246.503,889.554 \n",
       "  \"/>\n",
       "<polyline clip-path=\"url(#clip6200)\" style=\"stroke:#000000; stroke-width:4; stroke-opacity:1; fill:none\" points=\"\n",
       "  202.459,493.806 246.503,493.806 \n",
       "  \"/>\n",
       "<polyline clip-path=\"url(#clip6200)\" style=\"stroke:#000000; stroke-width:4; stroke-opacity:1; fill:none\" points=\"\n",
       "  202.459,98.0581 246.503,98.0581 \n",
       "  \"/>\n",
       "<path clip-path=\"url(#clip6200)\" d=\"M 0 0 M228.882 1480.32 L236.521 1480.32 L236.521 1453.95 L228.211 1455.62 L228.211 1451.36 L236.475 1449.69 L241.15 1449.69 L241.15 1480.32 L248.789 1480.32 L248.789 1484.25 L228.882 1484.25 L228.882 1480.32 Z\" fill=\"#000000\" fill-rule=\"evenodd\" fill-opacity=\"1\" /><path clip-path=\"url(#clip6200)\" d=\"M 0 0 M254.669 1480.32 L262.308 1480.32 L262.308 1453.95 L253.998 1455.62 L253.998 1451.36 L262.261 1449.69 L266.937 1449.69 L266.937 1480.32 L274.576 1480.32 L274.576 1484.25 L254.669 1484.25 L254.669 1480.32 Z\" fill=\"#000000\" fill-rule=\"evenodd\" fill-opacity=\"1\" /><path clip-path=\"url(#clip6200)\" d=\"M 0 0 M286.613 1449.69 L290.548 1449.69 L278.511 1488.65 L274.576 1488.65 L286.613 1449.69 Z\" fill=\"#000000\" fill-rule=\"evenodd\" fill-opacity=\"1\" /><path clip-path=\"url(#clip6200)\" d=\"M 0 0 M296.428 1480.32 L304.067 1480.32 L304.067 1453.95 L295.757 1455.62 L295.757 1451.36 L304.02 1449.69 L308.696 1449.69 L308.696 1480.32 L316.335 1480.32 L316.335 1484.25 L296.428 1484.25 L296.428 1480.32 Z\" fill=\"#000000\" fill-rule=\"evenodd\" fill-opacity=\"1\" /><path clip-path=\"url(#clip6200)\" d=\"M 0 0 M328.372 1449.69 L332.307 1449.69 L320.27 1488.65 L316.335 1488.65 L328.372 1449.69 Z\" fill=\"#000000\" fill-rule=\"evenodd\" fill-opacity=\"1\" /><path clip-path=\"url(#clip6200)\" d=\"M 0 0 M338.187 1480.32 L345.826 1480.32 L345.826 1453.95 L337.516 1455.62 L337.516 1451.36 L345.78 1449.69 L350.455 1449.69 L350.455 1480.32 L358.094 1480.32 L358.094 1484.25 L338.187 1484.25 L338.187 1480.32 Z\" fill=\"#000000\" fill-rule=\"evenodd\" fill-opacity=\"1\" /><path clip-path=\"url(#clip6200)\" d=\"M 0 0 M377.33 1465.62 Q380.687 1466.34 382.562 1468.6 Q384.46 1470.87 384.46 1474.21 Q384.46 1479.32 380.941 1482.12 Q377.423 1484.92 370.941 1484.92 Q368.766 1484.92 366.451 1484.48 Q364.159 1484.07 361.705 1483.21 L361.705 1478.7 Q363.65 1479.83 365.965 1480.41 Q368.279 1480.99 370.803 1480.99 Q375.201 1480.99 377.492 1479.25 Q379.807 1477.52 379.807 1474.21 Q379.807 1471.15 377.654 1469.44 Q375.525 1467.7 371.705 1467.7 L367.678 1467.7 L367.678 1463.86 L371.89 1463.86 Q375.34 1463.86 377.168 1462.49 Q378.997 1461.1 378.997 1458.51 Q378.997 1455.85 377.099 1454.44 Q375.224 1453 371.705 1453 Q369.784 1453 367.585 1453.42 Q365.386 1453.84 362.747 1454.71 L362.747 1450.55 Q365.409 1449.81 367.724 1449.44 Q370.062 1449.07 372.122 1449.07 Q377.446 1449.07 380.548 1451.5 Q383.65 1453.9 383.65 1458.03 Q383.65 1460.9 382.006 1462.89 Q380.363 1464.85 377.33 1465.62 Z\" fill=\"#000000\" fill-rule=\"evenodd\" fill-opacity=\"1\" /><path clip-path=\"url(#clip6200)\" d=\"M 0 0 M488.429 1449.69 L506.785 1449.69 L506.785 1453.63 L492.711 1453.63 L492.711 1462.1 Q493.73 1461.75 494.748 1461.59 Q495.767 1461.4 496.785 1461.4 Q502.572 1461.4 505.952 1464.58 Q509.331 1467.75 509.331 1473.16 Q509.331 1478.74 505.859 1481.84 Q502.387 1484.92 496.068 1484.92 Q493.892 1484.92 491.623 1484.55 Q489.378 1484.18 486.97 1483.44 L486.97 1478.74 Q489.054 1479.88 491.276 1480.43 Q493.498 1480.99 495.975 1480.99 Q499.98 1480.99 502.318 1478.88 Q504.656 1476.78 504.656 1473.16 Q504.656 1469.55 502.318 1467.45 Q499.98 1465.34 495.975 1465.34 Q494.1 1465.34 492.225 1465.76 Q490.373 1466.17 488.429 1467.05 L488.429 1449.69 Z\" fill=\"#000000\" fill-rule=\"evenodd\" fill-opacity=\"1\" /><path clip-path=\"url(#clip6200)\" d=\"M 0 0 M521.368 1449.69 L525.304 1449.69 L513.267 1488.65 L509.331 1488.65 L521.368 1449.69 Z\" fill=\"#000000\" fill-rule=\"evenodd\" fill-opacity=\"1\" /><path clip-path=\"url(#clip6200)\" d=\"M 0 0 M531.183 1480.32 L538.822 1480.32 L538.822 1453.95 L530.512 1455.62 L530.512 1451.36 L538.776 1449.69 L543.452 1449.69 L543.452 1480.32 L551.09 1480.32 L551.09 1484.25 L531.183 1484.25 L531.183 1480.32 Z\" fill=\"#000000\" fill-rule=\"evenodd\" fill-opacity=\"1\" /><path clip-path=\"url(#clip6200)\" d=\"M 0 0 M563.127 1449.69 L567.063 1449.69 L555.026 1488.65 L551.09 1488.65 L563.127 1449.69 Z\" fill=\"#000000\" fill-rule=\"evenodd\" fill-opacity=\"1\" /><path clip-path=\"url(#clip6200)\" d=\"M 0 0 M572.942 1480.32 L580.581 1480.32 L580.581 1453.95 L572.271 1455.62 L572.271 1451.36 L580.535 1449.69 L585.211 1449.69 L585.211 1480.32 L592.849 1480.32 L592.849 1484.25 L572.942 1484.25 L572.942 1480.32 Z\" fill=\"#000000\" fill-rule=\"evenodd\" fill-opacity=\"1\" /><path clip-path=\"url(#clip6200)\" d=\"M 0 0 M610.766 1453.77 L598.961 1472.21 L610.766 1472.21 L610.766 1453.77 M609.539 1449.69 L615.419 1449.69 L615.419 1472.21 L620.349 1472.21 L620.349 1476.1 L615.419 1476.1 L615.419 1484.25 L610.766 1484.25 L610.766 1476.1 L595.164 1476.1 L595.164 1471.59 L609.539 1449.69 Z\" fill=\"#000000\" fill-rule=\"evenodd\" fill-opacity=\"1\" /><path clip-path=\"url(#clip6200)\" d=\"M 0 0 M722.675 1480.32 L730.314 1480.32 L730.314 1453.95 L722.003 1455.62 L722.003 1451.36 L730.267 1449.69 L734.943 1449.69 L734.943 1480.32 L742.582 1480.32 L742.582 1484.25 L722.675 1484.25 L722.675 1480.32 Z\" fill=\"#000000\" fill-rule=\"evenodd\" fill-opacity=\"1\" /><path clip-path=\"url(#clip6200)\" d=\"M 0 0 M748.462 1480.32 L756.1 1480.32 L756.1 1453.95 L747.79 1455.62 L747.79 1451.36 L756.054 1449.69 L760.73 1449.69 L760.73 1480.32 L768.369 1480.32 L768.369 1484.25 L748.462 1484.25 L748.462 1480.32 Z\" fill=\"#000000\" fill-rule=\"evenodd\" fill-opacity=\"1\" /><path clip-path=\"url(#clip6200)\" d=\"M 0 0 M780.406 1449.69 L784.341 1449.69 L772.304 1488.65 L768.369 1488.65 L780.406 1449.69 Z\" fill=\"#000000\" fill-rule=\"evenodd\" fill-opacity=\"1\" /><path clip-path=\"url(#clip6200)\" d=\"M 0 0 M803.577 1465.62 Q806.934 1466.34 808.808 1468.6 Q810.707 1470.87 810.707 1474.21 Q810.707 1479.32 807.188 1482.12 Q803.67 1484.92 797.188 1484.92 Q795.012 1484.92 792.697 1484.48 Q790.406 1484.07 787.952 1483.21 L787.952 1478.7 Q789.897 1479.83 792.211 1480.41 Q794.526 1480.99 797.049 1480.99 Q801.447 1480.99 803.739 1479.25 Q806.054 1477.52 806.054 1474.21 Q806.054 1471.15 803.901 1469.44 Q801.771 1467.7 797.952 1467.7 L793.924 1467.7 L793.924 1463.86 L798.137 1463.86 Q801.586 1463.86 803.415 1462.49 Q805.244 1461.1 805.244 1458.51 Q805.244 1455.85 803.346 1454.44 Q801.471 1453 797.952 1453 Q796.031 1453 793.832 1453.42 Q791.633 1453.84 788.994 1454.71 L788.994 1450.55 Q791.656 1449.81 793.971 1449.44 Q796.309 1449.07 798.369 1449.07 Q803.693 1449.07 806.795 1451.5 Q809.896 1453.9 809.896 1458.03 Q809.896 1460.9 808.253 1462.89 Q806.609 1464.85 803.577 1465.62 Z\" fill=\"#000000\" fill-rule=\"evenodd\" fill-opacity=\"1\" /><path clip-path=\"url(#clip6200)\" d=\"M 0 0 M822.744 1449.69 L826.679 1449.69 L814.642 1488.65 L810.707 1488.65 L822.744 1449.69 Z\" fill=\"#000000\" fill-rule=\"evenodd\" fill-opacity=\"1\" /><path clip-path=\"url(#clip6200)\" d=\"M 0 0 M832.558 1480.32 L840.197 1480.32 L840.197 1453.95 L831.887 1455.62 L831.887 1451.36 L840.151 1449.69 L844.827 1449.69 L844.827 1480.32 L852.466 1480.32 L852.466 1484.25 L832.558 1484.25 L832.558 1480.32 Z\" fill=\"#000000\" fill-rule=\"evenodd\" fill-opacity=\"1\" /><path clip-path=\"url(#clip6200)\" d=\"M 0 0 M870.382 1453.77 L858.577 1472.21 L870.382 1472.21 L870.382 1453.77 M869.155 1449.69 L875.035 1449.69 L875.035 1472.21 L879.966 1472.21 L879.966 1476.1 L875.035 1476.1 L875.035 1484.25 L870.382 1484.25 L870.382 1476.1 L854.78 1476.1 L854.78 1471.59 L869.155 1449.69 Z\" fill=\"#000000\" fill-rule=\"evenodd\" fill-opacity=\"1\" /><path clip-path=\"url(#clip6200)\" d=\"M 0 0 M983.819 1449.69 L1002.18 1449.69 L1002.18 1453.63 L988.101 1453.63 L988.101 1462.1 Q989.12 1461.75 990.138 1461.59 Q991.157 1461.4 992.175 1461.4 Q997.962 1461.4 1001.34 1464.58 Q1004.72 1467.75 1004.72 1473.16 Q1004.72 1478.74 1001.25 1481.84 Q997.777 1484.92 991.458 1484.92 Q989.282 1484.92 987.013 1484.55 Q984.768 1484.18 982.36 1483.44 L982.36 1478.74 Q984.444 1479.88 986.666 1480.43 Q988.888 1480.99 991.365 1480.99 Q995.37 1480.99 997.707 1478.88 Q1000.05 1476.78 1000.05 1473.16 Q1000.05 1469.55 997.707 1467.45 Q995.37 1465.34 991.365 1465.34 Q989.49 1465.34 987.615 1465.76 Q985.763 1466.17 983.819 1467.05 L983.819 1449.69 Z\" fill=\"#000000\" fill-rule=\"evenodd\" fill-opacity=\"1\" /><path clip-path=\"url(#clip6200)\" d=\"M 0 0 M1016.76 1449.69 L1020.69 1449.69 L1008.66 1488.65 L1004.72 1488.65 L1016.76 1449.69 Z\" fill=\"#000000\" fill-rule=\"evenodd\" fill-opacity=\"1\" /><path clip-path=\"url(#clip6200)\" d=\"M 0 0 M1026.57 1480.32 L1034.21 1480.32 L1034.21 1453.95 L1025.9 1455.62 L1025.9 1451.36 L1034.17 1449.69 L1038.84 1449.69 L1038.84 1480.32 L1046.48 1480.32 L1046.48 1484.25 L1026.57 1484.25 L1026.57 1480.32 Z\" fill=\"#000000\" fill-rule=\"evenodd\" fill-opacity=\"1\" /><path clip-path=\"url(#clip6200)\" d=\"M 0 0 M1058.52 1449.69 L1062.45 1449.69 L1050.42 1488.65 L1046.48 1488.65 L1058.52 1449.69 Z\" fill=\"#000000\" fill-rule=\"evenodd\" fill-opacity=\"1\" /><path clip-path=\"url(#clip6200)\" d=\"M 0 0 M1068.33 1480.32 L1075.97 1480.32 L1075.97 1453.95 L1067.66 1455.62 L1067.66 1451.36 L1075.92 1449.69 L1080.6 1449.69 L1080.6 1480.32 L1088.24 1480.32 L1088.24 1484.25 L1068.33 1484.25 L1068.33 1480.32 Z\" fill=\"#000000\" fill-rule=\"evenodd\" fill-opacity=\"1\" /><path clip-path=\"url(#clip6200)\" d=\"M 0 0 M1093.36 1449.69 L1111.71 1449.69 L1111.71 1453.63 L1097.64 1453.63 L1097.64 1462.1 Q1098.66 1461.75 1099.67 1461.59 Q1100.69 1461.4 1101.71 1461.4 Q1107.5 1461.4 1110.88 1464.58 Q1114.26 1467.75 1114.26 1473.16 Q1114.26 1478.74 1110.79 1481.84 Q1107.31 1484.92 1100.99 1484.92 Q1098.82 1484.92 1096.55 1484.55 Q1094.3 1484.18 1091.9 1483.44 L1091.9 1478.74 Q1093.98 1479.88 1096.2 1480.43 Q1098.42 1480.99 1100.9 1480.99 Q1104.91 1480.99 1107.24 1478.88 Q1109.58 1476.78 1109.58 1473.16 Q1109.58 1469.55 1107.24 1467.45 Q1104.91 1465.34 1100.9 1465.34 Q1099.03 1465.34 1097.15 1465.76 Q1095.3 1466.17 1093.36 1467.05 L1093.36 1449.69 Z\" fill=\"#000000\" fill-rule=\"evenodd\" fill-opacity=\"1\" /><path clip-path=\"url(#clip6200)\" d=\"M 0 0 M1218.54 1480.32 L1226.18 1480.32 L1226.18 1453.95 L1217.87 1455.62 L1217.87 1451.36 L1226.13 1449.69 L1230.81 1449.69 L1230.81 1480.32 L1238.45 1480.32 L1238.45 1484.25 L1218.54 1484.25 L1218.54 1480.32 Z\" fill=\"#000000\" fill-rule=\"evenodd\" fill-opacity=\"1\" /><path clip-path=\"url(#clip6200)\" d=\"M 0 0 M1244.33 1480.32 L1251.96 1480.32 L1251.96 1453.95 L1243.65 1455.62 L1243.65 1451.36 L1251.92 1449.69 L1256.59 1449.69 L1256.59 1480.32 L1264.23 1480.32 L1264.23 1484.25 L1244.33 1484.25 L1244.33 1480.32 Z\" fill=\"#000000\" fill-rule=\"evenodd\" fill-opacity=\"1\" /><path clip-path=\"url(#clip6200)\" d=\"M 0 0 M1276.27 1449.69 L1280.21 1449.69 L1268.17 1488.65 L1264.23 1488.65 L1276.27 1449.69 Z\" fill=\"#000000\" fill-rule=\"evenodd\" fill-opacity=\"1\" /><path clip-path=\"url(#clip6200)\" d=\"M 0 0 M1289.3 1480.32 L1305.62 1480.32 L1305.62 1484.25 L1283.68 1484.25 L1283.68 1480.32 Q1286.34 1477.56 1290.92 1472.93 Q1295.53 1468.28 1296.71 1466.94 Q1298.96 1464.41 1299.84 1462.68 Q1300.74 1460.92 1300.74 1459.23 Q1300.74 1456.47 1298.79 1454.74 Q1296.87 1453 1293.77 1453 Q1291.57 1453 1289.12 1453.77 Q1286.69 1454.53 1283.91 1456.08 L1283.91 1451.36 Q1286.73 1450.22 1289.19 1449.65 Q1291.64 1449.07 1293.68 1449.07 Q1299.05 1449.07 1302.24 1451.75 Q1305.44 1454.44 1305.44 1458.93 Q1305.44 1461.06 1304.63 1462.98 Q1303.84 1464.88 1301.73 1467.47 Q1301.15 1468.14 1298.05 1471.36 Q1294.95 1474.55 1289.3 1480.32 Z\" fill=\"#000000\" fill-rule=\"evenodd\" fill-opacity=\"1\" /><path clip-path=\"url(#clip6200)\" d=\"M 0 0 M1317.66 1449.69 L1321.59 1449.69 L1309.56 1488.65 L1305.62 1488.65 L1317.66 1449.69 Z\" fill=\"#000000\" fill-rule=\"evenodd\" fill-opacity=\"1\" /><path clip-path=\"url(#clip6200)\" d=\"M 0 0 M1327.47 1480.32 L1335.11 1480.32 L1335.11 1453.95 L1326.8 1455.62 L1326.8 1451.36 L1335.07 1449.69 L1339.74 1449.69 L1339.74 1480.32 L1347.38 1480.32 L1347.38 1484.25 L1327.47 1484.25 L1327.47 1480.32 Z\" fill=\"#000000\" fill-rule=\"evenodd\" fill-opacity=\"1\" /><path clip-path=\"url(#clip6200)\" d=\"M 0 0 M1352.5 1449.69 L1370.85 1449.69 L1370.85 1453.63 L1356.78 1453.63 L1356.78 1462.1 Q1357.8 1461.75 1358.82 1461.59 Q1359.83 1461.4 1360.85 1461.4 Q1366.64 1461.4 1370.02 1464.58 Q1373.4 1467.75 1373.4 1473.16 Q1373.4 1478.74 1369.93 1481.84 Q1366.46 1484.92 1360.14 1484.92 Q1357.96 1484.92 1355.69 1484.55 Q1353.45 1484.18 1351.04 1483.44 L1351.04 1478.74 Q1353.12 1479.88 1355.34 1480.43 Q1357.57 1480.99 1360.04 1480.99 Q1364.05 1480.99 1366.39 1478.88 Q1368.72 1476.78 1368.72 1473.16 Q1368.72 1469.55 1366.39 1467.45 Q1364.05 1465.34 1360.04 1465.34 Q1358.17 1465.34 1356.29 1465.76 Q1354.44 1466.17 1352.5 1467.05 L1352.5 1449.69 Z\" fill=\"#000000\" fill-rule=\"evenodd\" fill-opacity=\"1\" /><path clip-path=\"url(#clip6200)\" d=\"M 0 0 M1478.07 1449.69 L1496.43 1449.69 L1496.43 1453.63 L1482.36 1453.63 L1482.36 1462.1 Q1483.38 1461.75 1484.39 1461.59 Q1485.41 1461.4 1486.43 1461.4 Q1492.22 1461.4 1495.6 1464.58 Q1498.98 1467.75 1498.98 1473.16 Q1498.98 1478.74 1495.5 1481.84 Q1492.03 1484.92 1485.71 1484.92 Q1483.54 1484.92 1481.27 1484.55 Q1479.02 1484.18 1476.62 1483.44 L1476.62 1478.74 Q1478.7 1479.88 1480.92 1480.43 Q1483.14 1480.99 1485.62 1480.99 Q1489.63 1480.99 1491.96 1478.88 Q1494.3 1476.78 1494.3 1473.16 Q1494.3 1469.55 1491.96 1467.45 Q1489.63 1465.34 1485.62 1465.34 Q1483.75 1465.34 1481.87 1465.76 Q1480.02 1466.17 1478.07 1467.05 L1478.07 1449.69 Z\" fill=\"#000000\" fill-rule=\"evenodd\" fill-opacity=\"1\" /><path clip-path=\"url(#clip6200)\" d=\"M 0 0 M1511.01 1449.69 L1514.95 1449.69 L1502.91 1488.65 L1498.98 1488.65 L1511.01 1449.69 Z\" fill=\"#000000\" fill-rule=\"evenodd\" fill-opacity=\"1\" /><path clip-path=\"url(#clip6200)\" d=\"M 0 0 M1524.05 1480.32 L1540.37 1480.32 L1540.37 1484.25 L1518.42 1484.25 L1518.42 1480.32 Q1521.08 1477.56 1525.67 1472.93 Q1530.27 1468.28 1531.45 1466.94 Q1533.7 1464.41 1534.58 1462.68 Q1535.48 1460.92 1535.48 1459.23 Q1535.48 1456.47 1533.54 1454.74 Q1531.62 1453 1528.51 1453 Q1526.31 1453 1523.86 1453.77 Q1521.43 1454.53 1518.65 1456.08 L1518.65 1451.36 Q1521.48 1450.22 1523.93 1449.65 Q1526.38 1449.07 1528.42 1449.07 Q1533.79 1449.07 1536.99 1451.75 Q1540.18 1454.44 1540.18 1458.93 Q1540.18 1461.06 1539.37 1462.98 Q1538.58 1464.88 1536.48 1467.47 Q1535.9 1468.14 1532.8 1471.36 Q1529.69 1474.55 1524.05 1480.32 Z\" fill=\"#000000\" fill-rule=\"evenodd\" fill-opacity=\"1\" /><path clip-path=\"url(#clip6200)\" d=\"M 0 0 M1552.4 1449.69 L1556.34 1449.69 L1544.3 1488.65 L1540.37 1488.65 L1552.4 1449.69 Z\" fill=\"#000000\" fill-rule=\"evenodd\" fill-opacity=\"1\" /><path clip-path=\"url(#clip6200)\" d=\"M 0 0 M1562.22 1480.32 L1569.86 1480.32 L1569.86 1453.95 L1561.55 1455.62 L1561.55 1451.36 L1569.81 1449.69 L1574.49 1449.69 L1574.49 1480.32 L1582.12 1480.32 L1582.12 1484.25 L1562.22 1484.25 L1562.22 1480.32 Z\" fill=\"#000000\" fill-rule=\"evenodd\" fill-opacity=\"1\" /><path clip-path=\"url(#clip6200)\" d=\"M 0 0 M1597.77 1465.11 Q1594.62 1465.11 1592.77 1467.26 Q1590.94 1469.41 1590.94 1473.16 Q1590.94 1476.89 1592.77 1479.07 Q1594.62 1481.22 1597.77 1481.22 Q1600.92 1481.22 1602.75 1479.07 Q1604.6 1476.89 1604.6 1473.16 Q1604.6 1469.41 1602.75 1467.26 Q1600.92 1465.11 1597.77 1465.11 M1607.06 1450.46 L1607.06 1454.71 Q1605.3 1453.88 1603.49 1453.44 Q1601.71 1453 1599.95 1453 Q1595.32 1453 1592.87 1456.13 Q1590.43 1459.25 1590.09 1465.57 Q1591.45 1463.56 1593.51 1462.49 Q1595.57 1461.4 1598.05 1461.4 Q1603.26 1461.4 1606.27 1464.58 Q1609.3 1467.72 1609.3 1473.16 Q1609.3 1478.49 1606.15 1481.71 Q1603 1484.92 1597.77 1484.92 Q1591.78 1484.92 1588.61 1480.34 Q1585.43 1475.73 1585.43 1467.01 Q1585.43 1458.81 1589.32 1453.95 Q1593.21 1449.07 1599.76 1449.07 Q1601.52 1449.07 1603.31 1449.41 Q1605.11 1449.76 1607.06 1450.46 Z\" fill=\"#000000\" fill-rule=\"evenodd\" fill-opacity=\"1\" /><path clip-path=\"url(#clip6200)\" d=\"M 0 0 M1712.42 1480.32 L1720.06 1480.32 L1720.06 1453.95 L1711.75 1455.62 L1711.75 1451.36 L1720.02 1449.69 L1724.69 1449.69 L1724.69 1480.32 L1732.33 1480.32 L1732.33 1484.25 L1712.42 1484.25 L1712.42 1480.32 Z\" fill=\"#000000\" fill-rule=\"evenodd\" fill-opacity=\"1\" /><path clip-path=\"url(#clip6200)\" d=\"M 0 0 M1738.21 1480.32 L1745.85 1480.32 L1745.85 1453.95 L1737.54 1455.62 L1737.54 1451.36 L1745.8 1449.69 L1750.48 1449.69 L1750.48 1480.32 L1758.12 1480.32 L1758.12 1484.25 L1738.21 1484.25 L1738.21 1480.32 Z\" fill=\"#000000\" fill-rule=\"evenodd\" fill-opacity=\"1\" /><path clip-path=\"url(#clip6200)\" d=\"M 0 0 M1770.16 1449.69 L1774.09 1449.69 L1762.05 1488.65 L1758.12 1488.65 L1770.16 1449.69 Z\" fill=\"#000000\" fill-rule=\"evenodd\" fill-opacity=\"1\" /><path clip-path=\"url(#clip6200)\" d=\"M 0 0 M1779.97 1480.32 L1787.61 1480.32 L1787.61 1453.95 L1779.3 1455.62 L1779.3 1451.36 L1787.56 1449.69 L1792.24 1449.69 L1792.24 1480.32 L1799.88 1480.32 L1799.88 1484.25 L1779.97 1484.25 L1779.97 1480.32 Z\" fill=\"#000000\" fill-rule=\"evenodd\" fill-opacity=\"1\" /><path clip-path=\"url(#clip6200)\" d=\"M 0 0 M1811.91 1449.69 L1815.85 1449.69 L1803.81 1488.65 L1799.88 1488.65 L1811.91 1449.69 Z\" fill=\"#000000\" fill-rule=\"evenodd\" fill-opacity=\"1\" /><path clip-path=\"url(#clip6200)\" d=\"M 0 0 M1821.73 1480.32 L1829.37 1480.32 L1829.37 1453.95 L1821.06 1455.62 L1821.06 1451.36 L1829.32 1449.69 L1834 1449.69 L1834 1480.32 L1841.64 1480.32 L1841.64 1484.25 L1821.73 1484.25 L1821.73 1480.32 Z\" fill=\"#000000\" fill-rule=\"evenodd\" fill-opacity=\"1\" /><path clip-path=\"url(#clip6200)\" d=\"M 0 0 M1857.28 1465.11 Q1854.14 1465.11 1852.28 1467.26 Q1850.46 1469.41 1850.46 1473.16 Q1850.46 1476.89 1852.28 1479.07 Q1854.14 1481.22 1857.28 1481.22 Q1860.43 1481.22 1862.26 1479.07 Q1864.11 1476.89 1864.11 1473.16 Q1864.11 1469.41 1862.26 1467.26 Q1860.43 1465.11 1857.28 1465.11 M1866.57 1450.46 L1866.57 1454.71 Q1864.81 1453.88 1863 1453.44 Q1861.22 1453 1859.46 1453 Q1854.83 1453 1852.38 1456.13 Q1849.95 1459.25 1849.6 1465.57 Q1850.97 1463.56 1853.03 1462.49 Q1855.09 1461.4 1857.56 1461.4 Q1862.77 1461.4 1865.78 1464.58 Q1868.81 1467.72 1868.81 1473.16 Q1868.81 1478.49 1865.66 1481.71 Q1862.52 1484.92 1857.28 1484.92 Q1851.29 1484.92 1848.12 1480.34 Q1844.95 1475.73 1844.95 1467.01 Q1844.95 1458.81 1848.84 1453.95 Q1852.72 1449.07 1859.28 1449.07 Q1861.03 1449.07 1862.82 1449.41 Q1864.62 1449.76 1866.57 1450.46 Z\" fill=\"#000000\" fill-rule=\"evenodd\" fill-opacity=\"1\" /><path clip-path=\"url(#clip6200)\" d=\"M 0 0 M1973.07 1449.69 L1991.43 1449.69 L1991.43 1453.63 L1977.35 1453.63 L1977.35 1462.1 Q1978.37 1461.75 1979.39 1461.59 Q1980.41 1461.4 1981.43 1461.4 Q1987.21 1461.4 1990.59 1464.58 Q1993.97 1467.75 1993.97 1473.16 Q1993.97 1478.74 1990.5 1481.84 Q1987.03 1484.92 1980.71 1484.92 Q1978.53 1484.92 1976.27 1484.55 Q1974.02 1484.18 1971.61 1483.44 L1971.61 1478.74 Q1973.7 1479.88 1975.92 1480.43 Q1978.14 1480.99 1980.62 1480.99 Q1984.62 1480.99 1986.96 1478.88 Q1989.3 1476.78 1989.3 1473.16 Q1989.3 1469.55 1986.96 1467.45 Q1984.62 1465.34 1980.62 1465.34 Q1978.74 1465.34 1976.87 1465.76 Q1975.02 1466.17 1973.07 1467.05 L1973.07 1449.69 Z\" fill=\"#000000\" fill-rule=\"evenodd\" fill-opacity=\"1\" /><path clip-path=\"url(#clip6200)\" d=\"M 0 0 M2006.01 1449.69 L2009.95 1449.69 L1997.91 1488.65 L1993.97 1488.65 L2006.01 1449.69 Z\" fill=\"#000000\" fill-rule=\"evenodd\" fill-opacity=\"1\" /><path clip-path=\"url(#clip6200)\" d=\"M 0 0 M2015.83 1480.32 L2023.46 1480.32 L2023.46 1453.95 L2015.15 1455.62 L2015.15 1451.36 L2023.42 1449.69 L2028.09 1449.69 L2028.09 1480.32 L2035.73 1480.32 L2035.73 1484.25 L2015.83 1484.25 L2015.83 1480.32 Z\" fill=\"#000000\" fill-rule=\"evenodd\" fill-opacity=\"1\" /><path clip-path=\"url(#clip6200)\" d=\"M 0 0 M2047.77 1449.69 L2051.7 1449.69 L2039.67 1488.65 L2035.73 1488.65 L2047.77 1449.69 Z\" fill=\"#000000\" fill-rule=\"evenodd\" fill-opacity=\"1\" /><path clip-path=\"url(#clip6200)\" d=\"M 0 0 M2057.58 1480.32 L2065.22 1480.32 L2065.22 1453.95 L2056.91 1455.62 L2056.91 1451.36 L2065.18 1449.69 L2069.85 1449.69 L2069.85 1480.32 L2077.49 1480.32 L2077.49 1484.25 L2057.58 1484.25 L2057.58 1480.32 Z\" fill=\"#000000\" fill-rule=\"evenodd\" fill-opacity=\"1\" /><path clip-path=\"url(#clip6200)\" d=\"M 0 0 M2081.38 1449.69 L2103.6 1449.69 L2103.6 1451.68 L2091.06 1484.25 L2086.17 1484.25 L2097.98 1453.63 L2081.38 1453.63 L2081.38 1449.69 Z\" fill=\"#000000\" fill-rule=\"evenodd\" fill-opacity=\"1\" /><path clip-path=\"url(#clip6200)\" d=\"M 0 0 M2207.61 1480.32 L2215.24 1480.32 L2215.24 1453.95 L2206.93 1455.62 L2206.93 1451.36 L2215.2 1449.69 L2219.87 1449.69 L2219.87 1480.32 L2227.51 1480.32 L2227.51 1484.25 L2207.61 1484.25 L2207.61 1480.32 Z\" fill=\"#000000\" fill-rule=\"evenodd\" fill-opacity=\"1\" /><path clip-path=\"url(#clip6200)\" d=\"M 0 0 M2233.39 1480.32 L2241.03 1480.32 L2241.03 1453.95 L2232.72 1455.62 L2232.72 1451.36 L2240.99 1449.69 L2245.66 1449.69 L2245.66 1480.32 L2253.3 1480.32 L2253.3 1484.25 L2233.39 1484.25 L2233.39 1480.32 Z\" fill=\"#000000\" fill-rule=\"evenodd\" fill-opacity=\"1\" /><path clip-path=\"url(#clip6200)\" d=\"M 0 0 M2265.34 1449.69 L2269.27 1449.69 L2257.24 1488.65 L2253.3 1488.65 L2265.34 1449.69 Z\" fill=\"#000000\" fill-rule=\"evenodd\" fill-opacity=\"1\" /><path clip-path=\"url(#clip6200)\" d=\"M 0 0 M2275.15 1480.32 L2282.79 1480.32 L2282.79 1453.95 L2274.48 1455.62 L2274.48 1451.36 L2282.74 1449.69 L2287.42 1449.69 L2287.42 1480.32 L2295.06 1480.32 L2295.06 1484.25 L2275.15 1484.25 L2275.15 1480.32 Z\" fill=\"#000000\" fill-rule=\"evenodd\" fill-opacity=\"1\" /><path clip-path=\"url(#clip6200)\" d=\"M 0 0 M2307.1 1449.69 L2311.03 1449.69 L2298.99 1488.65 L2295.06 1488.65 L2307.1 1449.69 Z\" fill=\"#000000\" fill-rule=\"evenodd\" fill-opacity=\"1\" /><path clip-path=\"url(#clip6200)\" d=\"M 0 0 M2316.91 1480.32 L2324.55 1480.32 L2324.55 1453.95 L2316.24 1455.62 L2316.24 1451.36 L2324.5 1449.69 L2329.18 1449.69 L2329.18 1480.32 L2336.82 1480.32 L2336.82 1484.25 L2316.91 1484.25 L2316.91 1480.32 Z\" fill=\"#000000\" fill-rule=\"evenodd\" fill-opacity=\"1\" /><path clip-path=\"url(#clip6200)\" d=\"M 0 0 M2340.71 1449.69 L2362.93 1449.69 L2362.93 1451.68 L2350.38 1484.25 L2345.5 1484.25 L2357.3 1453.63 L2340.71 1453.63 L2340.71 1449.69 Z\" fill=\"#000000\" fill-rule=\"evenodd\" fill-opacity=\"1\" /><path clip-path=\"url(#clip6200)\" d=\"M 0 0 M2467.31 1449.69 L2485.67 1449.69 L2485.67 1453.63 L2471.6 1453.63 L2471.6 1462.1 Q2472.62 1461.75 2473.63 1461.59 Q2474.65 1461.4 2475.67 1461.4 Q2481.46 1461.4 2484.84 1464.58 Q2488.22 1467.75 2488.22 1473.16 Q2488.22 1478.74 2484.75 1481.84 Q2481.27 1484.92 2474.95 1484.92 Q2472.78 1484.92 2470.51 1484.55 Q2468.26 1484.18 2465.86 1483.44 L2465.86 1478.74 Q2467.94 1479.88 2470.16 1480.43 Q2472.38 1480.99 2474.86 1480.99 Q2478.87 1480.99 2481.2 1478.88 Q2483.54 1476.78 2483.54 1473.16 Q2483.54 1469.55 2481.2 1467.45 Q2478.87 1465.34 2474.86 1465.34 Q2472.99 1465.34 2471.11 1465.76 Q2469.26 1466.17 2467.31 1467.05 L2467.31 1449.69 Z\" fill=\"#000000\" fill-rule=\"evenodd\" fill-opacity=\"1\" /><path clip-path=\"url(#clip6200)\" d=\"M 0 0 M2500.25 1449.69 L2504.19 1449.69 L2492.15 1488.65 L2488.22 1488.65 L2500.25 1449.69 Z\" fill=\"#000000\" fill-rule=\"evenodd\" fill-opacity=\"1\" /><path clip-path=\"url(#clip6200)\" d=\"M 0 0 M2510.07 1480.32 L2517.71 1480.32 L2517.71 1453.95 L2509.4 1455.62 L2509.4 1451.36 L2517.66 1449.69 L2522.34 1449.69 L2522.34 1480.32 L2529.98 1480.32 L2529.98 1484.25 L2510.07 1484.25 L2510.07 1480.32 Z\" fill=\"#000000\" fill-rule=\"evenodd\" fill-opacity=\"1\" /><path clip-path=\"url(#clip6200)\" d=\"M 0 0 M2542.01 1449.69 L2545.95 1449.69 L2533.91 1488.65 L2529.98 1488.65 L2542.01 1449.69 Z\" fill=\"#000000\" fill-rule=\"evenodd\" fill-opacity=\"1\" /><path clip-path=\"url(#clip6200)\" d=\"M 0 0 M2551.83 1480.32 L2559.47 1480.32 L2559.47 1453.95 L2551.16 1455.62 L2551.16 1451.36 L2559.42 1449.69 L2564.1 1449.69 L2564.1 1480.32 L2571.74 1480.32 L2571.74 1484.25 L2551.83 1484.25 L2551.83 1480.32 Z\" fill=\"#000000\" fill-rule=\"evenodd\" fill-opacity=\"1\" /><path clip-path=\"url(#clip6200)\" d=\"M 0 0 M2586.8 1467.84 Q2583.47 1467.84 2581.55 1469.62 Q2579.65 1471.4 2579.65 1474.53 Q2579.65 1477.65 2581.55 1479.44 Q2583.47 1481.22 2586.8 1481.22 Q2590.14 1481.22 2592.06 1479.44 Q2593.98 1477.63 2593.98 1474.53 Q2593.98 1471.4 2592.06 1469.62 Q2590.16 1467.84 2586.8 1467.84 M2582.13 1465.85 Q2579.12 1465.11 2577.43 1463.05 Q2575.76 1460.99 2575.76 1458.03 Q2575.76 1453.88 2578.7 1451.47 Q2581.67 1449.07 2586.8 1449.07 Q2591.97 1449.07 2594.91 1451.47 Q2597.85 1453.88 2597.85 1458.03 Q2597.85 1460.99 2596.16 1463.05 Q2594.49 1465.11 2591.5 1465.85 Q2594.88 1466.64 2596.76 1468.93 Q2598.66 1471.22 2598.66 1474.53 Q2598.66 1479.55 2595.58 1482.24 Q2592.52 1484.92 2586.8 1484.92 Q2581.09 1484.92 2578.01 1482.24 Q2574.95 1479.55 2574.95 1474.53 Q2574.95 1471.22 2576.85 1468.93 Q2578.75 1466.64 2582.13 1465.85 M2580.42 1458.46 Q2580.42 1461.15 2582.08 1462.65 Q2583.77 1464.16 2586.8 1464.16 Q2589.81 1464.16 2591.5 1462.65 Q2593.22 1461.15 2593.22 1458.46 Q2593.22 1455.78 2591.5 1454.28 Q2589.81 1452.77 2586.8 1452.77 Q2583.77 1452.77 2582.08 1454.28 Q2580.42 1455.78 2580.42 1458.46 Z\" fill=\"#000000\" fill-rule=\"evenodd\" fill-opacity=\"1\" /><path clip-path=\"url(#clip6200)\" d=\"M 0 0 M2701.85 1480.32 L2709.49 1480.32 L2709.49 1453.95 L2701.18 1455.62 L2701.18 1451.36 L2709.44 1449.69 L2714.12 1449.69 L2714.12 1480.32 L2721.76 1480.32 L2721.76 1484.25 L2701.85 1484.25 L2701.85 1480.32 Z\" fill=\"#000000\" fill-rule=\"evenodd\" fill-opacity=\"1\" /><path clip-path=\"url(#clip6200)\" d=\"M 0 0 M2727.64 1480.32 L2735.28 1480.32 L2735.28 1453.95 L2726.97 1455.62 L2726.97 1451.36 L2735.23 1449.69 L2739.91 1449.69 L2739.91 1480.32 L2747.54 1480.32 L2747.54 1484.25 L2727.64 1484.25 L2727.64 1480.32 Z\" fill=\"#000000\" fill-rule=\"evenodd\" fill-opacity=\"1\" /><path clip-path=\"url(#clip6200)\" d=\"M 0 0 M2759.58 1449.69 L2763.52 1449.69 L2751.48 1488.65 L2747.54 1488.65 L2759.58 1449.69 Z\" fill=\"#000000\" fill-rule=\"evenodd\" fill-opacity=\"1\" /><path clip-path=\"url(#clip6200)\" d=\"M 0 0 M2769.4 1480.32 L2777.03 1480.32 L2777.03 1453.95 L2768.72 1455.62 L2768.72 1451.36 L2776.99 1449.69 L2781.66 1449.69 L2781.66 1480.32 L2789.3 1480.32 L2789.3 1484.25 L2769.4 1484.25 L2769.4 1480.32 Z\" fill=\"#000000\" fill-rule=\"evenodd\" fill-opacity=\"1\" /><path clip-path=\"url(#clip6200)\" d=\"M 0 0 M2801.34 1449.69 L2805.28 1449.69 L2793.24 1488.65 L2789.3 1488.65 L2801.34 1449.69 Z\" fill=\"#000000\" fill-rule=\"evenodd\" fill-opacity=\"1\" /><path clip-path=\"url(#clip6200)\" d=\"M 0 0 M2811.16 1480.32 L2818.79 1480.32 L2818.79 1453.95 L2810.48 1455.62 L2810.48 1451.36 L2818.75 1449.69 L2823.42 1449.69 L2823.42 1480.32 L2831.06 1480.32 L2831.06 1484.25 L2811.16 1484.25 L2811.16 1480.32 Z\" fill=\"#000000\" fill-rule=\"evenodd\" fill-opacity=\"1\" /><path clip-path=\"url(#clip6200)\" d=\"M 0 0 M2846.13 1467.84 Q2842.8 1467.84 2840.88 1469.62 Q2838.98 1471.4 2838.98 1474.53 Q2838.98 1477.65 2840.88 1479.44 Q2842.8 1481.22 2846.13 1481.22 Q2849.47 1481.22 2851.39 1479.44 Q2853.31 1477.63 2853.31 1474.53 Q2853.31 1471.4 2851.39 1469.62 Q2849.49 1467.84 2846.13 1467.84 M2841.46 1465.85 Q2838.45 1465.11 2836.76 1463.05 Q2835.09 1460.99 2835.09 1458.03 Q2835.09 1453.88 2838.03 1451.47 Q2840.99 1449.07 2846.13 1449.07 Q2851.29 1449.07 2854.23 1451.47 Q2857.17 1453.88 2857.17 1458.03 Q2857.17 1460.99 2855.48 1463.05 Q2853.82 1465.11 2850.83 1465.85 Q2854.21 1466.64 2856.09 1468.93 Q2857.98 1471.22 2857.98 1474.53 Q2857.98 1479.55 2854.9 1482.24 Q2851.85 1484.92 2846.13 1484.92 Q2840.41 1484.92 2837.34 1482.24 Q2834.28 1479.55 2834.28 1474.53 Q2834.28 1471.22 2836.18 1468.93 Q2838.08 1466.64 2841.46 1465.85 M2839.74 1458.46 Q2839.74 1461.15 2841.41 1462.65 Q2843.1 1464.16 2846.13 1464.16 Q2849.14 1464.16 2850.83 1462.65 Q2852.54 1461.15 2852.54 1458.46 Q2852.54 1455.78 2850.83 1454.28 Q2849.14 1452.77 2846.13 1452.77 Q2843.1 1452.77 2841.41 1454.28 Q2839.74 1455.78 2839.74 1458.46 Z\" fill=\"#000000\" fill-rule=\"evenodd\" fill-opacity=\"1\" /><path clip-path=\"url(#clip6200)\" d=\"M 0 0 M2962.01 1449.69 L2980.37 1449.69 L2980.37 1453.63 L2966.29 1453.63 L2966.29 1462.1 Q2967.31 1461.75 2968.33 1461.59 Q2969.35 1461.4 2970.37 1461.4 Q2976.15 1461.4 2979.53 1464.58 Q2982.91 1467.75 2982.91 1473.16 Q2982.91 1478.74 2979.44 1481.84 Q2975.97 1484.92 2969.65 1484.92 Q2967.47 1484.92 2965.2 1484.55 Q2962.96 1484.18 2960.55 1483.44 L2960.55 1478.74 Q2962.64 1479.88 2964.86 1480.43 Q2967.08 1480.99 2969.56 1480.99 Q2973.56 1480.99 2975.9 1478.88 Q2978.24 1476.78 2978.24 1473.16 Q2978.24 1469.55 2975.9 1467.45 Q2973.56 1465.34 2969.56 1465.34 Q2967.68 1465.34 2965.81 1465.76 Q2963.95 1466.17 2962.01 1467.05 L2962.01 1449.69 Z\" fill=\"#000000\" fill-rule=\"evenodd\" fill-opacity=\"1\" /><path clip-path=\"url(#clip6200)\" d=\"M 0 0 M2994.95 1449.69 L2998.89 1449.69 L2986.85 1488.65 L2982.91 1488.65 L2994.95 1449.69 Z\" fill=\"#000000\" fill-rule=\"evenodd\" fill-opacity=\"1\" /><path clip-path=\"url(#clip6200)\" d=\"M 0 0 M3004.76 1480.32 L3012.4 1480.32 L3012.4 1453.95 L3004.09 1455.62 L3004.09 1451.36 L3012.36 1449.69 L3017.03 1449.69 L3017.03 1480.32 L3024.67 1480.32 L3024.67 1484.25 L3004.76 1484.25 L3004.76 1480.32 Z\" fill=\"#000000\" fill-rule=\"evenodd\" fill-opacity=\"1\" /><path clip-path=\"url(#clip6200)\" d=\"M 0 0 M3036.71 1449.69 L3040.64 1449.69 L3028.61 1488.65 L3024.67 1488.65 L3036.71 1449.69 Z\" fill=\"#000000\" fill-rule=\"evenodd\" fill-opacity=\"1\" /><path clip-path=\"url(#clip6200)\" d=\"M 0 0 M3046.52 1480.32 L3054.16 1480.32 L3054.16 1453.95 L3045.85 1455.62 L3045.85 1451.36 L3054.12 1449.69 L3058.79 1449.69 L3058.79 1480.32 L3066.43 1480.32 L3066.43 1484.25 L3046.52 1484.25 L3046.52 1480.32 Z\" fill=\"#000000\" fill-rule=\"evenodd\" fill-opacity=\"1\" /><path clip-path=\"url(#clip6200)\" d=\"M 0 0 M3071.64 1483.53 L3071.64 1479.28 Q3073.4 1480.11 3075.2 1480.55 Q3077.01 1480.99 3078.75 1480.99 Q3083.38 1480.99 3085.81 1477.89 Q3088.26 1474.76 3088.61 1468.42 Q3087.26 1470.41 3085.2 1471.47 Q3083.14 1472.54 3080.64 1472.54 Q3075.46 1472.54 3072.43 1469.41 Q3069.42 1466.27 3069.42 1460.83 Q3069.42 1455.5 3072.57 1452.28 Q3075.71 1449.07 3080.94 1449.07 Q3086.94 1449.07 3090.09 1453.67 Q3093.26 1458.26 3093.26 1467.01 Q3093.26 1475.18 3089.37 1480.06 Q3085.51 1484.92 3078.95 1484.92 Q3077.19 1484.92 3075.39 1484.58 Q3073.58 1484.23 3071.64 1483.53 M3080.94 1468.88 Q3084.09 1468.88 3085.92 1466.73 Q3087.77 1464.58 3087.77 1460.83 Q3087.77 1457.1 3085.92 1454.95 Q3084.09 1452.77 3080.94 1452.77 Q3077.8 1452.77 3075.94 1454.95 Q3074.12 1457.1 3074.12 1460.83 Q3074.12 1464.58 3075.94 1466.73 Q3077.8 1468.88 3080.94 1468.88 Z\" fill=\"#000000\" fill-rule=\"evenodd\" fill-opacity=\"1\" /><path clip-path=\"url(#clip6200)\" d=\"M 0 0 M3196.55 1480.32 L3204.18 1480.32 L3204.18 1453.95 L3195.87 1455.62 L3195.87 1451.36 L3204.14 1449.69 L3208.81 1449.69 L3208.81 1480.32 L3216.45 1480.32 L3216.45 1484.25 L3196.55 1484.25 L3196.55 1480.32 Z\" fill=\"#000000\" fill-rule=\"evenodd\" fill-opacity=\"1\" /><path clip-path=\"url(#clip6200)\" d=\"M 0 0 M3222.33 1480.32 L3229.97 1480.32 L3229.97 1453.95 L3221.66 1455.62 L3221.66 1451.36 L3229.93 1449.69 L3234.6 1449.69 L3234.6 1480.32 L3242.24 1480.32 L3242.24 1484.25 L3222.33 1484.25 L3222.33 1480.32 Z\" fill=\"#000000\" fill-rule=\"evenodd\" fill-opacity=\"1\" /><path clip-path=\"url(#clip6200)\" d=\"M 0 0 M3254.28 1449.69 L3258.21 1449.69 L3246.17 1488.65 L3242.24 1488.65 L3254.28 1449.69 Z\" fill=\"#000000\" fill-rule=\"evenodd\" fill-opacity=\"1\" /><path clip-path=\"url(#clip6200)\" d=\"M 0 0 M3264.09 1480.32 L3271.73 1480.32 L3271.73 1453.95 L3263.42 1455.62 L3263.42 1451.36 L3271.68 1449.69 L3276.36 1449.69 L3276.36 1480.32 L3284 1480.32 L3284 1484.25 L3264.09 1484.25 L3264.09 1480.32 Z\" fill=\"#000000\" fill-rule=\"evenodd\" fill-opacity=\"1\" /><path clip-path=\"url(#clip6200)\" d=\"M 0 0 M3296.04 1449.69 L3299.97 1449.69 L3287.93 1488.65 L3284 1488.65 L3296.04 1449.69 Z\" fill=\"#000000\" fill-rule=\"evenodd\" fill-opacity=\"1\" /><path clip-path=\"url(#clip6200)\" d=\"M 0 0 M3305.85 1480.32 L3313.49 1480.32 L3313.49 1453.95 L3305.18 1455.62 L3305.18 1451.36 L3313.44 1449.69 L3318.12 1449.69 L3318.12 1480.32 L3325.76 1480.32 L3325.76 1484.25 L3305.85 1484.25 L3305.85 1480.32 Z\" fill=\"#000000\" fill-rule=\"evenodd\" fill-opacity=\"1\" /><path clip-path=\"url(#clip6200)\" d=\"M 0 0 M3330.97 1483.53 L3330.97 1479.28 Q3332.73 1480.11 3334.53 1480.55 Q3336.34 1480.99 3338.07 1480.99 Q3342.7 1480.99 3345.13 1477.89 Q3347.59 1474.76 3347.93 1468.42 Q3346.59 1470.41 3344.53 1471.47 Q3342.47 1472.54 3339.97 1472.54 Q3334.79 1472.54 3331.75 1469.41 Q3328.74 1466.27 3328.74 1460.83 Q3328.74 1455.5 3331.89 1452.28 Q3335.04 1449.07 3340.27 1449.07 Q3346.27 1449.07 3349.42 1453.67 Q3352.59 1458.26 3352.59 1467.01 Q3352.59 1475.18 3348.7 1480.06 Q3344.83 1484.92 3338.28 1484.92 Q3336.52 1484.92 3334.72 1484.58 Q3332.91 1484.23 3330.97 1483.53 M3340.27 1468.88 Q3343.42 1468.88 3345.25 1466.73 Q3347.1 1464.58 3347.1 1460.83 Q3347.1 1457.1 3345.25 1454.95 Q3343.42 1452.77 3340.27 1452.77 Q3337.12 1452.77 3335.27 1454.95 Q3333.44 1457.1 3333.44 1460.83 Q3333.44 1464.58 3335.27 1466.73 Q3337.12 1468.88 3340.27 1468.88 Z\" fill=\"#000000\" fill-rule=\"evenodd\" fill-opacity=\"1\" /><path clip-path=\"url(#clip6200)\" d=\"M 0 0 M3456.75 1449.69 L3475.11 1449.69 L3475.11 1453.63 L3461.03 1453.63 L3461.03 1462.1 Q3462.05 1461.75 3463.07 1461.59 Q3464.09 1461.4 3465.11 1461.4 Q3470.9 1461.4 3474.28 1464.58 Q3477.65 1467.75 3477.65 1473.16 Q3477.65 1478.74 3474.18 1481.84 Q3470.71 1484.92 3464.39 1484.92 Q3462.22 1484.92 3459.95 1484.55 Q3457.7 1484.18 3455.29 1483.44 L3455.29 1478.74 Q3457.38 1479.88 3459.6 1480.43 Q3461.82 1480.99 3464.3 1480.99 Q3468.3 1480.99 3470.64 1478.88 Q3472.98 1476.78 3472.98 1473.16 Q3472.98 1469.55 3470.64 1467.45 Q3468.3 1465.34 3464.3 1465.34 Q3462.42 1465.34 3460.55 1465.76 Q3458.7 1466.17 3456.75 1467.05 L3456.75 1449.69 Z\" fill=\"#000000\" fill-rule=\"evenodd\" fill-opacity=\"1\" /><path clip-path=\"url(#clip6200)\" d=\"M 0 0 M3489.69 1449.69 L3493.63 1449.69 L3481.59 1488.65 L3477.65 1488.65 L3489.69 1449.69 Z\" fill=\"#000000\" fill-rule=\"evenodd\" fill-opacity=\"1\" /><path clip-path=\"url(#clip6200)\" d=\"M 0 0 M3499.51 1480.32 L3507.15 1480.32 L3507.15 1453.95 L3498.84 1455.62 L3498.84 1451.36 L3507.1 1449.69 L3511.77 1449.69 L3511.77 1480.32 L3519.41 1480.32 L3519.41 1484.25 L3499.51 1484.25 L3499.51 1480.32 Z\" fill=\"#000000\" fill-rule=\"evenodd\" fill-opacity=\"1\" /><path clip-path=\"url(#clip6200)\" d=\"M 0 0 M3531.45 1449.69 L3535.39 1449.69 L3523.35 1488.65 L3519.41 1488.65 L3531.45 1449.69 Z\" fill=\"#000000\" fill-rule=\"evenodd\" fill-opacity=\"1\" /><path clip-path=\"url(#clip6200)\" d=\"M 0 0 M3544.48 1480.32 L3560.8 1480.32 L3560.8 1484.25 L3538.86 1484.25 L3538.86 1480.32 Q3541.52 1477.56 3546.1 1472.93 Q3550.71 1468.28 3551.89 1466.94 Q3554.14 1464.41 3555.02 1462.68 Q3555.92 1460.92 3555.92 1459.23 Q3555.92 1456.47 3553.97 1454.74 Q3552.05 1453 3548.95 1453 Q3546.75 1453 3544.3 1453.77 Q3541.87 1454.53 3539.09 1456.08 L3539.09 1451.36 Q3541.91 1450.22 3544.37 1449.65 Q3546.82 1449.07 3548.86 1449.07 Q3554.23 1449.07 3557.42 1451.75 Q3560.62 1454.44 3560.62 1458.93 Q3560.62 1461.06 3559.81 1462.98 Q3559.02 1464.88 3556.91 1467.47 Q3556.33 1468.14 3553.23 1471.36 Q3550.13 1474.55 3544.48 1480.32 Z\" fill=\"#000000\" fill-rule=\"evenodd\" fill-opacity=\"1\" /><path clip-path=\"url(#clip6200)\" d=\"M 0 0 M3575.87 1452.77 Q3572.26 1452.77 3570.43 1456.34 Q3568.63 1459.88 3568.63 1467.01 Q3568.63 1474.11 3570.43 1477.68 Q3572.26 1481.22 3575.87 1481.22 Q3579.51 1481.22 3581.31 1477.68 Q3583.14 1474.11 3583.14 1467.01 Q3583.14 1459.88 3581.31 1456.34 Q3579.51 1452.77 3575.87 1452.77 M3575.87 1449.07 Q3581.68 1449.07 3584.74 1453.67 Q3587.82 1458.26 3587.82 1467.01 Q3587.82 1475.73 3584.74 1480.34 Q3581.68 1484.92 3575.87 1484.92 Q3570.06 1484.92 3566.98 1480.34 Q3563.93 1475.73 3563.93 1467.01 Q3563.93 1458.26 3566.98 1453.67 Q3570.06 1449.07 3575.87 1449.07 Z\" fill=\"#000000\" fill-rule=\"evenodd\" fill-opacity=\"1\" /><path clip-path=\"url(#clip6200)\" d=\"M 0 0 M3691.47 1480.32 L3699.11 1480.32 L3699.11 1453.95 L3690.8 1455.62 L3690.8 1451.36 L3699.07 1449.69 L3703.74 1449.69 L3703.74 1480.32 L3711.38 1480.32 L3711.38 1484.25 L3691.47 1484.25 L3691.47 1480.32 Z\" fill=\"#000000\" fill-rule=\"evenodd\" fill-opacity=\"1\" /><path clip-path=\"url(#clip6200)\" d=\"M 0 0 M3717.26 1480.32 L3724.9 1480.32 L3724.9 1453.95 L3716.59 1455.62 L3716.59 1451.36 L3724.85 1449.69 L3729.53 1449.69 L3729.53 1480.32 L3737.17 1480.32 L3737.17 1484.25 L3717.26 1484.25 L3717.26 1480.32 Z\" fill=\"#000000\" fill-rule=\"evenodd\" fill-opacity=\"1\" /><path clip-path=\"url(#clip6200)\" d=\"M 0 0 M3749.2 1449.69 L3753.14 1449.69 L3741.1 1488.65 L3737.17 1488.65 L3749.2 1449.69 Z\" fill=\"#000000\" fill-rule=\"evenodd\" fill-opacity=\"1\" /><path clip-path=\"url(#clip6200)\" d=\"M 0 0 M3762.24 1480.32 L3778.56 1480.32 L3778.56 1484.25 L3756.61 1484.25 L3756.61 1480.32 Q3759.27 1477.56 3763.86 1472.93 Q3768.46 1468.28 3769.64 1466.94 Q3771.89 1464.41 3772.77 1462.68 Q3773.67 1460.92 3773.67 1459.23 Q3773.67 1456.47 3771.73 1454.74 Q3769.81 1453 3766.7 1453 Q3764.5 1453 3762.05 1453.77 Q3759.62 1454.53 3756.84 1456.08 L3756.84 1451.36 Q3759.67 1450.22 3762.12 1449.65 Q3764.57 1449.07 3766.61 1449.07 Q3771.98 1449.07 3775.18 1451.75 Q3778.37 1454.44 3778.37 1458.93 Q3778.37 1461.06 3777.56 1462.98 Q3776.77 1464.88 3774.67 1467.47 Q3774.09 1468.14 3770.99 1471.36 Q3767.88 1474.55 3762.24 1480.32 Z\" fill=\"#000000\" fill-rule=\"evenodd\" fill-opacity=\"1\" /><path clip-path=\"url(#clip6200)\" d=\"M 0 0 M3790.59 1449.69 L3794.53 1449.69 L3782.49 1488.65 L3778.56 1488.65 L3790.59 1449.69 Z\" fill=\"#000000\" fill-rule=\"evenodd\" fill-opacity=\"1\" /><path clip-path=\"url(#clip6200)\" d=\"M 0 0 M3803.62 1480.32 L3819.94 1480.32 L3819.94 1484.25 L3798 1484.25 L3798 1480.32 Q3800.66 1477.56 3805.25 1472.93 Q3809.85 1468.28 3811.03 1466.94 Q3813.28 1464.41 3814.16 1462.68 Q3815.06 1460.92 3815.06 1459.23 Q3815.06 1456.47 3813.12 1454.74 Q3811.19 1453 3808.09 1453 Q3805.89 1453 3803.44 1453.77 Q3801.01 1454.53 3798.23 1456.08 L3798.23 1451.36 Q3801.06 1450.22 3803.51 1449.65 Q3805.96 1449.07 3808 1449.07 Q3813.37 1449.07 3816.56 1451.75 Q3819.76 1454.44 3819.76 1458.93 Q3819.76 1461.06 3818.95 1462.98 Q3818.16 1464.88 3816.06 1467.47 Q3815.48 1468.14 3812.37 1471.36 Q3809.27 1474.55 3803.62 1480.32 Z\" fill=\"#000000\" fill-rule=\"evenodd\" fill-opacity=\"1\" /><path clip-path=\"url(#clip6200)\" d=\"M 0 0 M3835.01 1452.77 Q3831.4 1452.77 3829.57 1456.34 Q3827.77 1459.88 3827.77 1467.01 Q3827.77 1474.11 3829.57 1477.68 Q3831.4 1481.22 3835.01 1481.22 Q3838.65 1481.22 3840.45 1477.68 Q3842.28 1474.11 3842.28 1467.01 Q3842.28 1459.88 3840.45 1456.34 Q3838.65 1452.77 3835.01 1452.77 M3835.01 1449.07 Q3840.82 1449.07 3843.88 1453.67 Q3846.96 1458.26 3846.96 1467.01 Q3846.96 1475.73 3843.88 1480.34 Q3840.82 1484.92 3835.01 1484.92 Q3829.2 1484.92 3826.12 1480.34 Q3823.07 1475.73 3823.07 1467.01 Q3823.07 1458.26 3826.12 1453.67 Q3829.2 1449.07 3835.01 1449.07 Z\" fill=\"#000000\" fill-rule=\"evenodd\" fill-opacity=\"1\" /><path clip-path=\"url(#clip6200)\" d=\"M 0 0 M129.116 1283.95 Q132.472 1284.66 134.347 1286.93 Q136.245 1289.2 136.245 1292.54 Q136.245 1297.65 132.727 1300.45 Q129.208 1303.25 122.727 1303.25 Q120.551 1303.25 118.236 1302.81 Q115.944 1302.4 113.491 1301.54 L113.491 1297.03 Q115.435 1298.16 117.75 1298.74 Q120.065 1299.32 122.588 1299.32 Q126.986 1299.32 129.278 1297.58 Q131.592 1295.85 131.592 1292.54 Q131.592 1289.48 129.44 1287.77 Q127.31 1286.03 123.491 1286.03 L119.463 1286.03 L119.463 1282.19 L123.676 1282.19 Q127.125 1282.19 128.954 1280.82 Q130.782 1279.43 130.782 1276.84 Q130.782 1274.18 128.884 1272.77 Q127.009 1271.33 123.491 1271.33 Q121.569 1271.33 119.37 1271.75 Q117.171 1272.16 114.532 1273.04 L114.532 1268.88 Q117.194 1268.14 119.509 1267.77 Q121.847 1267.4 123.907 1267.4 Q129.231 1267.4 132.333 1269.83 Q135.435 1272.23 135.435 1276.35 Q135.435 1279.22 133.792 1281.22 Q132.148 1283.18 129.116 1283.95 Z\" fill=\"#000000\" fill-rule=\"evenodd\" fill-opacity=\"1\" /><path clip-path=\"url(#clip6200)\" d=\"M 0 0 M151.315 1271.1 Q147.703 1271.1 145.875 1274.66 Q144.069 1278.21 144.069 1285.34 Q144.069 1292.44 145.875 1296.01 Q147.703 1299.55 151.315 1299.55 Q154.949 1299.55 156.754 1296.01 Q158.583 1292.44 158.583 1285.34 Q158.583 1278.21 156.754 1274.66 Q154.949 1271.1 151.315 1271.1 M151.315 1267.4 Q157.125 1267.4 160.18 1272 Q163.259 1276.59 163.259 1285.34 Q163.259 1294.06 160.18 1298.67 Q157.125 1303.25 151.315 1303.25 Q145.504 1303.25 142.426 1298.67 Q139.37 1294.06 139.37 1285.34 Q139.37 1276.59 142.426 1272 Q145.504 1267.4 151.315 1267.4 Z\" fill=\"#000000\" fill-rule=\"evenodd\" fill-opacity=\"1\" /><path clip-path=\"url(#clip6200)\" d=\"M 0 0 M126.662 876.348 L114.856 894.797 L126.662 894.797 L126.662 876.348 M125.435 872.274 L131.315 872.274 L131.315 894.797 L136.245 894.797 L136.245 898.685 L131.315 898.685 L131.315 906.834 L126.662 906.834 L126.662 898.685 L111.06 898.685 L111.06 894.172 L125.435 872.274 Z\" fill=\"#000000\" fill-rule=\"evenodd\" fill-opacity=\"1\" /><path clip-path=\"url(#clip6200)\" d=\"M 0 0 M151.315 875.352 Q147.703 875.352 145.875 878.917 Q144.069 882.459 144.069 889.588 Q144.069 896.695 145.875 900.26 Q147.703 903.801 151.315 903.801 Q154.949 903.801 156.754 900.26 Q158.583 896.695 158.583 889.588 Q158.583 882.459 156.754 878.917 Q154.949 875.352 151.315 875.352 M151.315 871.649 Q157.125 871.649 160.18 876.255 Q163.259 880.838 163.259 889.588 Q163.259 898.315 160.18 902.922 Q157.125 907.505 151.315 907.505 Q145.504 907.505 142.426 902.922 Q139.37 898.315 139.37 889.588 Q139.37 880.838 142.426 876.255 Q145.504 871.649 151.315 871.649 Z\" fill=\"#000000\" fill-rule=\"evenodd\" fill-opacity=\"1\" /><path clip-path=\"url(#clip6200)\" d=\"M 0 0 M115.343 476.526 L133.699 476.526 L133.699 480.461 L119.625 480.461 L119.625 488.933 Q120.643 488.586 121.662 488.424 Q122.68 488.239 123.699 488.239 Q129.486 488.239 132.866 491.41 Q136.245 494.581 136.245 499.998 Q136.245 505.577 132.773 508.678 Q129.301 511.757 122.981 511.757 Q120.805 511.757 118.537 511.387 Q116.292 511.016 113.884 510.276 L113.884 505.577 Q115.968 506.711 118.19 507.266 Q120.412 507.822 122.889 507.822 Q126.893 507.822 129.231 505.716 Q131.569 503.609 131.569 499.998 Q131.569 496.387 129.231 494.28 Q126.893 492.174 122.889 492.174 Q121.014 492.174 119.139 492.591 Q117.287 493.007 115.343 493.887 L115.343 476.526 Z\" fill=\"#000000\" fill-rule=\"evenodd\" fill-opacity=\"1\" /><path clip-path=\"url(#clip6200)\" d=\"M 0 0 M151.315 479.605 Q147.703 479.605 145.875 483.169 Q144.069 486.711 144.069 493.841 Q144.069 500.947 145.875 504.512 Q147.703 508.053 151.315 508.053 Q154.949 508.053 156.754 504.512 Q158.583 500.947 158.583 493.841 Q158.583 486.711 156.754 483.169 Q154.949 479.605 151.315 479.605 M151.315 475.901 Q157.125 475.901 160.18 480.507 Q163.259 485.091 163.259 493.841 Q163.259 502.567 160.18 507.174 Q157.125 511.757 151.315 511.757 Q145.504 511.757 142.426 507.174 Q139.37 502.567 139.37 493.841 Q139.37 485.091 142.426 480.507 Q145.504 475.901 151.315 475.901 Z\" fill=\"#000000\" fill-rule=\"evenodd\" fill-opacity=\"1\" /><path clip-path=\"url(#clip6200)\" d=\"M 0 0 M124.717 96.1947 Q121.569 96.1947 119.718 98.3475 Q117.889 100.5 117.889 104.25 Q117.889 107.977 119.718 110.153 Q121.569 112.306 124.717 112.306 Q127.866 112.306 129.694 110.153 Q131.546 107.977 131.546 104.25 Q131.546 100.5 129.694 98.3475 Q127.866 96.1947 124.717 96.1947 M134 81.542 L134 85.8012 Q132.241 84.9679 130.435 84.5281 Q128.653 84.0883 126.893 84.0883 Q122.264 84.0883 119.81 87.2133 Q117.38 90.3382 117.032 96.6576 Q118.398 94.6438 120.458 93.579 Q122.518 92.491 124.995 92.491 Q130.204 92.491 133.213 95.6623 Q136.245 98.8104 136.245 104.25 Q136.245 109.574 133.097 112.792 Q129.949 116.009 124.717 116.009 Q118.722 116.009 115.551 111.426 Q112.38 106.82 112.38 98.0928 Q112.38 89.8984 116.268 85.0373 Q120.157 80.1531 126.708 80.1531 Q128.467 80.1531 130.25 80.5003 Q132.055 80.8475 134 81.542 Z\" fill=\"#000000\" fill-rule=\"evenodd\" fill-opacity=\"1\" /><path clip-path=\"url(#clip6200)\" d=\"M 0 0 M151.315 83.8568 Q147.703 83.8568 145.875 87.4216 Q144.069 90.9632 144.069 98.0928 Q144.069 105.199 145.875 108.764 Q147.703 112.306 151.315 112.306 Q154.949 112.306 156.754 108.764 Q158.583 105.199 158.583 98.0928 Q158.583 90.9632 156.754 87.4216 Q154.949 83.8568 151.315 83.8568 M151.315 80.1531 Q157.125 80.1531 160.18 84.7596 Q163.259 89.3429 163.259 98.0928 Q163.259 106.82 160.18 111.426 Q157.125 116.009 151.315 116.009 Q145.504 116.009 142.426 111.426 Q139.37 106.82 139.37 98.0928 Q139.37 89.3429 142.426 84.7596 Q145.504 80.1531 151.315 80.1531 Z\" fill=\"#000000\" fill-rule=\"evenodd\" fill-opacity=\"1\" /><path clip-path=\"url(#clip6200)\" d=\"M 0 0 M1983.37 1525.47 L1983.37 1535.6 L1995.43 1535.6 L1995.43 1540.15 L1983.37 1540.15 L1983.37 1559.5 Q1983.37 1563.86 1984.55 1565.1 Q1985.76 1566.34 1989.42 1566.34 L1995.43 1566.34 L1995.43 1571.24 L1989.42 1571.24 Q1982.64 1571.24 1980.06 1568.73 Q1977.48 1566.18 1977.48 1559.5 L1977.48 1540.15 L1973.19 1540.15 L1973.19 1535.6 L1977.48 1535.6 L1977.48 1525.47 L1983.37 1525.47 Z\" fill=\"#000000\" fill-rule=\"evenodd\" fill-opacity=\"1\" /><path clip-path=\"url(#clip6200)\" d=\"M 0 0 M2001.58 1535.6 L2007.43 1535.6 L2007.43 1571.24 L2001.58 1571.24 L2001.58 1535.6 M2001.58 1521.72 L2007.43 1521.72 L2007.43 1529.13 L2001.58 1529.13 L2001.58 1521.72 Z\" fill=\"#000000\" fill-rule=\"evenodd\" fill-opacity=\"1\" /><path clip-path=\"url(#clip6200)\" d=\"M 0 0 M2041.33 1542.44 Q2043.53 1538.49 2046.58 1536.61 Q2049.64 1534.74 2053.78 1534.74 Q2059.35 1534.74 2062.37 1538.65 Q2065.39 1542.53 2065.39 1549.73 L2065.39 1571.24 L2059.51 1571.24 L2059.51 1549.92 Q2059.51 1544.79 2057.69 1542.31 Q2055.88 1539.83 2052.15 1539.83 Q2047.6 1539.83 2044.96 1542.85 Q2042.32 1545.88 2042.32 1551.1 L2042.32 1571.24 L2036.43 1571.24 L2036.43 1549.92 Q2036.43 1544.76 2034.62 1542.31 Q2032.8 1539.83 2029.01 1539.83 Q2024.53 1539.83 2021.88 1542.88 Q2019.24 1545.91 2019.24 1551.1 L2019.24 1571.24 L2013.35 1571.24 L2013.35 1535.6 L2019.24 1535.6 L2019.24 1541.13 Q2021.25 1537.86 2024.05 1536.3 Q2026.85 1534.74 2030.7 1534.74 Q2034.58 1534.74 2037.29 1536.71 Q2040.03 1538.68 2041.33 1542.44 Z\" fill=\"#000000\" fill-rule=\"evenodd\" fill-opacity=\"1\" /><path clip-path=\"url(#clip6200)\" d=\"M 0 0 M2102.03 1551.96 L2102.03 1554.82 L2075.1 1554.82 Q2075.48 1560.87 2078.73 1564.05 Q2082.01 1567.2 2087.83 1567.2 Q2091.21 1567.2 2094.36 1566.37 Q2097.54 1565.55 2100.66 1563.89 L2100.66 1569.43 Q2097.51 1570.77 2094.2 1571.47 Q2090.89 1572.17 2087.48 1572.17 Q2078.95 1572.17 2073.96 1567.2 Q2068.99 1562.24 2068.99 1553.77 Q2068.99 1545.02 2073.7 1539.89 Q2078.44 1534.74 2086.46 1534.74 Q2093.66 1534.74 2097.83 1539.38 Q2102.03 1544 2102.03 1551.96 M2096.17 1550.24 Q2096.11 1545.43 2093.47 1542.57 Q2090.86 1539.7 2086.53 1539.7 Q2081.63 1539.7 2078.67 1542.47 Q2075.74 1545.24 2075.29 1550.27 L2096.17 1550.24 Z\" fill=\"#000000\" fill-rule=\"evenodd\" fill-opacity=\"1\" /><path clip-path=\"url(#clip6200)\" d=\"M 0 0 M21.9562 871.613 L21.9562 865.757 L57.6042 865.757 L57.6042 871.613 L21.9562 871.613 M8.07896 871.613 L8.07896 865.757 L15.495 865.757 L15.495 871.613 L8.07896 871.613 Z\" fill=\"#000000\" fill-rule=\"evenodd\" fill-opacity=\"1\" /><path clip-path=\"url(#clip6200)\" d=\"M 0 0 M36.0881 829.981 L57.6042 829.981 L57.6042 835.838 L36.279 835.838 Q31.2183 835.838 28.7038 837.811 Q26.1894 839.785 26.1894 843.731 Q26.1894 848.474 29.2131 851.211 Q32.2368 853.948 37.4567 853.948 L57.6042 853.948 L57.6042 859.837 L21.9562 859.837 L21.9562 853.948 L27.4944 853.948 Q24.2797 851.848 22.6883 849.015 Q21.0968 846.15 21.0968 842.426 Q21.0968 836.283 24.9163 833.132 Q28.7038 829.981 36.0881 829.981 Z\" fill=\"#000000\" fill-rule=\"evenodd\" fill-opacity=\"1\" /><path clip-path=\"url(#clip6200)\" d=\"M 0 0 M27.3671 800.381 L8.07896 800.381 L8.07896 794.524 L57.6042 794.524 L57.6042 800.381 L52.257 800.381 Q55.4398 802.227 56.9994 805.06 Q58.5272 807.861 58.5272 811.807 Q58.5272 818.269 53.371 822.343 Q48.2147 826.385 39.812 826.385 Q31.4093 826.385 26.2531 822.343 Q21.0968 818.269 21.0968 811.807 Q21.0968 807.861 22.6564 805.06 Q24.1842 802.227 27.3671 800.381 M39.812 820.337 Q46.2732 820.337 49.9653 817.696 Q53.6256 815.022 53.6256 810.375 Q53.6256 805.728 49.9653 803.054 Q46.2732 800.381 39.812 800.381 Q33.3508 800.381 29.6905 803.054 Q25.9984 805.728 25.9984 810.375 Q25.9984 815.022 29.6905 817.696 Q33.3508 820.337 39.812 820.337 Z\" fill=\"#000000\" fill-rule=\"evenodd\" fill-opacity=\"1\" /><path clip-path=\"url(#clip6200)\" d=\"M 0 0 M21.9562 788.382 L21.9562 782.525 L57.6042 782.525 L57.6042 788.382 L21.9562 788.382 M8.07896 788.382 L8.07896 782.525 L15.495 782.525 L15.495 788.382 L8.07896 788.382 Z\" fill=\"#000000\" fill-rule=\"evenodd\" fill-opacity=\"1\" /><path clip-path=\"url(#clip6200)\" d=\"M 0 0 M23.3248 750.728 L28.7993 750.728 Q27.4307 753.211 26.7623 755.725 Q26.0621 758.208 26.0621 760.754 Q26.0621 766.452 29.6905 769.603 Q33.2872 772.754 39.812 772.754 Q46.3369 772.754 49.9653 769.603 Q53.5619 766.452 53.5619 760.754 Q53.5619 758.208 52.8935 755.725 Q52.1933 753.211 50.8247 750.728 L56.2355 750.728 Q57.3814 753.179 57.9543 755.821 Q58.5272 758.431 58.5272 761.391 Q58.5272 769.444 53.4664 774.186 Q48.4057 778.928 39.812 778.928 Q31.091 778.928 26.0939 774.154 Q21.0968 769.348 21.0968 761.009 Q21.0968 758.304 21.6697 755.725 Q22.2108 753.147 23.3248 750.728 Z\" fill=\"#000000\" fill-rule=\"evenodd\" fill-opacity=\"1\" /><path clip-path=\"url(#clip6200)\" d=\"M 0 0 M39.6847 728.385 Q39.6847 735.483 41.3079 738.22 Q42.9312 740.957 46.8461 740.957 Q49.9653 740.957 51.8114 738.92 Q53.6256 736.851 53.6256 733.318 Q53.6256 728.448 50.1881 725.52 Q46.7188 722.56 40.9897 722.56 L39.6847 722.56 L39.6847 728.385 M37.2657 716.704 L57.6042 716.704 L57.6042 722.56 L52.1933 722.56 Q55.4398 724.565 56.9994 727.557 Q58.5272 730.549 58.5272 734.878 Q58.5272 740.352 55.4716 743.599 Q52.3843 746.813 47.2281 746.813 Q41.2125 746.813 38.1569 742.803 Q35.1014 738.761 35.1014 730.772 L35.1014 722.56 L34.5285 722.56 Q30.4862 722.56 28.2901 725.234 Q26.0621 727.875 26.0621 732.682 Q26.0621 735.737 26.7941 738.634 Q27.5262 741.53 28.9903 744.204 L23.5795 744.204 Q22.3381 740.989 21.7334 737.965 Q21.0968 734.941 21.0968 732.077 Q21.0968 724.343 25.1072 720.523 Q29.1176 716.704 37.2657 716.704 Z\" fill=\"#000000\" fill-rule=\"evenodd\" fill-opacity=\"1\" /><path clip-path=\"url(#clip6200)\" d=\"M 0 0 M11.8347 704.768 L21.9562 704.768 L21.9562 692.705 L26.5077 692.705 L26.5077 704.768 L45.8594 704.768 Q50.2199 704.768 51.4613 703.59 Q52.7026 702.381 52.7026 698.721 L52.7026 692.705 L57.6042 692.705 L57.6042 698.721 Q57.6042 705.5 55.0897 708.078 Q52.5434 710.656 45.8594 710.656 L26.5077 710.656 L26.5077 714.953 L21.9562 714.953 L21.9562 710.656 L11.8347 710.656 L11.8347 704.768 Z\" fill=\"#000000\" fill-rule=\"evenodd\" fill-opacity=\"1\" /><path clip-path=\"url(#clip6200)\" d=\"M 0 0 M26.0621 672.748 Q26.0621 677.459 29.7542 680.196 Q33.4145 682.934 39.812 682.934 Q46.2095 682.934 49.9017 680.228 Q53.5619 677.491 53.5619 672.748 Q53.5619 668.07 49.8698 665.332 Q46.1777 662.595 39.812 662.595 Q33.4781 662.595 29.786 665.332 Q26.0621 668.07 26.0621 672.748 M21.0968 672.748 Q21.0968 665.11 26.0621 660.749 Q31.0273 656.389 39.812 656.389 Q48.5649 656.389 53.5619 660.749 Q58.5272 665.11 58.5272 672.748 Q58.5272 680.419 53.5619 684.78 Q48.5649 689.108 39.812 689.108 Q31.0273 689.108 26.0621 684.78 Q21.0968 680.419 21.0968 672.748 Z\" fill=\"#000000\" fill-rule=\"evenodd\" fill-opacity=\"1\" /><path clip-path=\"url(#clip6200)\" d=\"M 0 0 M27.4307 629.589 Q26.8578 630.576 26.6032 631.753 Q26.3167 632.899 26.3167 634.3 Q26.3167 639.265 29.5632 641.938 Q32.7779 644.58 38.8253 644.58 L57.6042 644.58 L57.6042 650.468 L21.9562 650.468 L21.9562 644.58 L27.4944 644.58 Q24.2479 642.734 22.6883 639.774 Q21.0968 636.814 21.0968 632.581 Q21.0968 631.976 21.1923 631.244 Q21.256 630.512 21.4151 629.621 L27.4307 629.589 Z\" fill=\"#000000\" fill-rule=\"evenodd\" fill-opacity=\"1\" /><path clip-path=\"url(#clip6200)\" d=\"M 0 0 M23.0065 600.721 L28.5447 600.721 Q27.2716 603.203 26.635 605.877 Q25.9984 608.55 25.9984 611.415 Q25.9984 615.775 27.3352 617.972 Q28.672 620.136 31.3456 620.136 Q33.3826 620.136 34.5603 618.576 Q35.7061 617.017 36.7565 612.306 L37.2021 610.301 Q38.5389 604.062 40.9897 601.453 Q43.4086 598.811 47.7691 598.811 Q52.7344 598.811 55.6308 602.758 Q58.5272 606.672 58.5272 613.547 Q58.5272 616.412 57.9543 619.531 Q57.4132 622.619 56.2992 626.056 L50.2518 626.056 Q51.9387 622.81 52.798 619.658 Q53.6256 616.507 53.6256 613.42 Q53.6256 609.282 52.2251 607.054 Q50.7929 604.826 48.2147 604.826 Q45.8276 604.826 44.5545 606.45 Q43.2813 608.041 42.1037 613.484 L41.6262 615.521 Q40.4804 620.963 38.1251 623.382 Q35.738 625.801 31.6002 625.801 Q26.5713 625.801 23.8341 622.237 Q21.0968 618.672 21.0968 612.115 Q21.0968 608.869 21.5743 606.004 Q22.0517 603.139 23.0065 600.721 Z\" fill=\"#000000\" fill-rule=\"evenodd\" fill-opacity=\"1\" /><polyline clip-path=\"url(#clip6202)\" style=\"stroke:#009af9; stroke-width:4; stroke-opacity:1; fill:none\" points=\"\n",
       "  306.335,367.167 347.556,236.57 388.777,220.74 429.998,402.784 471.218,402.784 512.439,450.274 553.66,307.804 594.881,382.996 636.101,382.996 677.322,169.293 \n",
       "  718.543,173.25 759.764,311.762 800.984,276.145 842.205,299.889 883.426,224.697 924.647,331.549 965.868,438.401 1007.09,493.806 1048.31,561.083 1089.53,426.529 \n",
       "  1130.75,276.145 1171.97,386.954 1213.19,446.316 1254.41,474.018 1295.63,588.785 1336.85,442.359 1378.08,568.998 1419.3,656.062 1460.52,553.168 1501.74,568.998 \n",
       "  1542.96,525.466 1584.18,525.466 1625.4,477.976 1666.62,517.551 1707.84,561.083 1749.06,505.678 1790.28,379.039 1831.5,402.784 1872.72,371.124 1913.95,252.4 \n",
       "  1955.17,327.592 1996.39,141.59 2037.61,414.656 2078.83,355.294 2120.05,208.867 2161.27,288.017 2202.49,102.016 2243.71,86.1857 2284.93,105.973 2326.15,109.931 \n",
       "  2367.37,216.782 2408.59,327.592 2449.82,109.931 2491.04,204.91 2532.26,327.592 2573.48,244.485 2614.7,256.357 2655.92,236.57 2697.14,157.42 2738.36,145.548 \n",
       "  2779.58,224.697 2820.8,161.378 2862.02,248.442 2903.24,276.145 2944.46,402.784 2985.69,196.995 3026.91,398.826 3068.13,347.379 3109.35,315.719 3150.57,426.529 \n",
       "  3191.79,596.7 3233.01,640.233 3274.23,584.828 3315.45,628.36 3356.67,687.722 3397.89,628.36 3439.11,616.488 3480.33,739.169 3521.55,1384.24 3562.78,1202.19 \n",
       "  3604,806.447 3645.22,719.382 3686.44,636.275 3727.66,509.636 3768.88,367.167 \n",
       "  \"/>\n",
       "<path clip-path=\"url(#clip6200)\" d=\"\n",
       "M320.059 342.924 L956.896 342.924 L956.896 221.964 L320.059 221.964  Z\n",
       "  \" fill=\"#ffffff\" fill-rule=\"evenodd\" fill-opacity=\"1\"/>\n",
       "<polyline clip-path=\"url(#clip6200)\" style=\"stroke:#000000; stroke-width:4; stroke-opacity:1; fill:none\" points=\"\n",
       "  320.059,342.924 956.896,342.924 956.896,221.964 320.059,221.964 320.059,342.924 \n",
       "  \"/>\n",
       "<polyline clip-path=\"url(#clip6200)\" style=\"stroke:#009af9; stroke-width:4; stroke-opacity:1; fill:none\" points=\"\n",
       "  359.259,282.444 594.459,282.444 \n",
       "  \"/>\n",
       "<path clip-path=\"url(#clip6200)\" d=\"M 0 0 M649.492 269.771 L643.15 286.97 L655.858 286.97 L649.492 269.771 M646.853 265.164 L652.154 265.164 L665.325 299.724 L660.464 299.724 L657.316 290.858 L641.738 290.858 L638.589 299.724 L633.659 299.724 L646.853 265.164 Z\" fill=\"#000000\" fill-rule=\"evenodd\" fill-opacity=\"1\" /><path clip-path=\"url(#clip6200)\" d=\"M 0 0 M687.617 274.794 L687.617 278.775 Q685.811 277.78 683.983 277.294 Q682.177 276.784 680.325 276.784 Q676.182 276.784 673.89 279.423 Q671.599 282.039 671.599 286.784 Q671.599 291.53 673.89 294.169 Q676.182 296.784 680.325 296.784 Q682.177 296.784 683.983 296.298 Q685.811 295.789 687.617 294.794 L687.617 298.729 Q685.835 299.562 683.913 299.979 Q682.015 300.395 679.862 300.395 Q674.006 300.395 670.557 296.715 Q667.108 293.034 667.108 286.784 Q667.108 280.442 670.58 276.808 Q674.075 273.173 680.14 273.173 Q682.108 273.173 683.983 273.59 Q685.858 273.983 687.617 274.794 Z\" fill=\"#000000\" fill-rule=\"evenodd\" fill-opacity=\"1\" /><path clip-path=\"url(#clip6200)\" d=\"M 0 0 M696.298 266.437 L696.298 273.798 L705.071 273.798 L705.071 277.108 L696.298 277.108 L696.298 291.182 Q696.298 294.354 697.154 295.257 Q698.034 296.159 700.696 296.159 L705.071 296.159 L705.071 299.724 L700.696 299.724 Q695.765 299.724 693.89 297.895 Q692.015 296.044 692.015 291.182 L692.015 277.108 L688.89 277.108 L688.89 273.798 L692.015 273.798 L692.015 266.437 L696.298 266.437 Z\" fill=\"#000000\" fill-rule=\"evenodd\" fill-opacity=\"1\" /><path clip-path=\"url(#clip6200)\" d=\"M 0 0 M709.098 289.493 L709.098 273.798 L713.358 273.798 L713.358 289.331 Q713.358 293.011 714.793 294.863 Q716.228 296.692 719.098 296.692 Q722.547 296.692 724.538 294.493 Q726.552 292.294 726.552 288.497 L726.552 273.798 L730.811 273.798 L730.811 299.724 L726.552 299.724 L726.552 295.743 Q725.001 298.104 722.941 299.261 Q720.904 300.395 718.196 300.395 Q713.728 300.395 711.413 297.618 Q709.098 294.84 709.098 289.493 M719.816 273.173 L719.816 273.173 Z\" fill=\"#000000\" fill-rule=\"evenodd\" fill-opacity=\"1\" /><path clip-path=\"url(#clip6200)\" d=\"M 0 0 M747.061 286.692 Q741.899 286.692 739.908 287.872 Q737.918 289.053 737.918 291.9 Q737.918 294.169 739.399 295.511 Q740.904 296.831 743.473 296.831 Q747.015 296.831 749.144 294.331 Q751.297 291.807 751.297 287.641 L751.297 286.692 L747.061 286.692 M755.556 284.933 L755.556 299.724 L751.297 299.724 L751.297 295.789 Q749.839 298.15 747.663 299.284 Q745.487 300.395 742.339 300.395 Q738.357 300.395 735.996 298.173 Q733.658 295.928 733.658 292.178 Q733.658 287.803 736.575 285.581 Q739.515 283.358 745.325 283.358 L751.297 283.358 L751.297 282.942 Q751.297 280.002 749.353 278.405 Q747.431 276.784 743.936 276.784 Q741.714 276.784 739.607 277.317 Q737.501 277.849 735.557 278.914 L735.557 274.979 Q737.895 274.076 740.094 273.636 Q742.293 273.173 744.376 273.173 Q750.001 273.173 752.779 276.09 Q755.556 279.007 755.556 284.933 Z\" fill=\"#000000\" fill-rule=\"evenodd\" fill-opacity=\"1\" /><path clip-path=\"url(#clip6200)\" d=\"M 0 0 M760.024 263.706 L764.283 263.706 L764.283 299.724 L760.024 299.724 L760.024 263.706 Z\" fill=\"#000000\" fill-rule=\"evenodd\" fill-opacity=\"1\" /><path clip-path=\"url(#clip6200)\" d=\"M 0 0 M777.848 299.724 L764.654 265.164 L769.538 265.164 L780.487 294.261 L791.459 265.164 L796.32 265.164 L783.149 299.724 L777.848 299.724 Z\" fill=\"#000000\" fill-rule=\"evenodd\" fill-opacity=\"1\" /><path clip-path=\"url(#clip6200)\" d=\"M 0 0 M808.889 286.692 Q803.727 286.692 801.737 287.872 Q799.746 289.053 799.746 291.9 Q799.746 294.169 801.227 295.511 Q802.732 296.831 805.302 296.831 Q808.843 296.831 810.973 294.331 Q813.126 291.807 813.126 287.641 L813.126 286.692 L808.889 286.692 M817.385 284.933 L817.385 299.724 L813.126 299.724 L813.126 295.789 Q811.667 298.15 809.491 299.284 Q807.315 300.395 804.167 300.395 Q800.186 300.395 797.825 298.173 Q795.487 295.928 795.487 292.178 Q795.487 287.803 798.403 285.581 Q801.343 283.358 807.153 283.358 L813.126 283.358 L813.126 282.942 Q813.126 280.002 811.181 278.405 Q809.26 276.784 805.765 276.784 Q803.542 276.784 801.436 277.317 Q799.329 277.849 797.385 278.914 L797.385 274.979 Q799.723 274.076 801.922 273.636 Q804.121 273.173 806.204 273.173 Q811.829 273.173 814.607 276.09 Q817.385 279.007 817.385 284.933 Z\" fill=\"#000000\" fill-rule=\"evenodd\" fill-opacity=\"1\" /><path clip-path=\"url(#clip6200)\" d=\"M 0 0 M821.852 263.706 L826.112 263.706 L826.112 299.724 L821.852 299.724 L821.852 263.706 Z\" fill=\"#000000\" fill-rule=\"evenodd\" fill-opacity=\"1\" /><path clip-path=\"url(#clip6200)\" d=\"M 0 0 M830.139 289.493 L830.139 273.798 L834.399 273.798 L834.399 289.331 Q834.399 293.011 835.834 294.863 Q837.269 296.692 840.139 296.692 Q843.588 296.692 845.579 294.493 Q847.593 292.294 847.593 288.497 L847.593 273.798 L851.852 273.798 L851.852 299.724 L847.593 299.724 L847.593 295.743 Q846.042 298.104 843.982 299.261 Q841.945 300.395 839.237 300.395 Q834.769 300.395 832.454 297.618 Q830.139 294.84 830.139 289.493 M840.857 273.173 L840.857 273.173 Z\" fill=\"#000000\" fill-rule=\"evenodd\" fill-opacity=\"1\" /><path clip-path=\"url(#clip6200)\" d=\"M 0 0 M878.496 285.696 L878.496 287.78 L858.912 287.78 Q859.19 292.178 861.551 294.493 Q863.935 296.784 868.172 296.784 Q870.625 296.784 872.917 296.182 Q875.232 295.581 877.5 294.377 L877.5 298.405 Q875.209 299.377 872.801 299.886 Q870.394 300.395 867.917 300.395 Q861.713 300.395 858.079 296.784 Q854.468 293.173 854.468 287.016 Q854.468 280.65 857.894 276.923 Q861.343 273.173 867.176 273.173 Q872.408 273.173 875.44 276.553 Q878.496 279.909 878.496 285.696 M874.236 284.446 Q874.19 280.951 872.269 278.868 Q870.371 276.784 867.223 276.784 Q863.658 276.784 861.505 278.798 Q859.375 280.812 859.051 284.47 L874.236 284.446 Z\" fill=\"#000000\" fill-rule=\"evenodd\" fill-opacity=\"1\" /></svg>\n"
      ]
     },
     "execution_count": 5,
     "metadata": {},
     "output_type": "execute_result"
    }
   ],
   "source": [
    "using Plots\n",
    "\n",
    "record_count = size(df)[1]\n",
    "rows = 1:record_count\n",
    "dates = format_dates( df[rows,2] , \"m/d/yy\")\n",
    "\n",
    "gr()\n",
    "plot(          dates, # x-axis: dates\n",
    "               [  df[rows,3]       ], # y-axis\n",
    "    label    = [  columns[3]    \"\" ]  ,\n",
    "    legend   =:topleft, \n",
    "              # :right, :left, :top, :bottom, :inside, :best, :legend, :topright, :topleft, :bottomleft, :bottomright\n",
    "    xlabel   = \"time\",\n",
    "    ylabel   = \"indicators\",\n",
    "    size     = (980, 400), # width, height\n",
    "    layout = (1, 1) # number of graphs: vertically, horizontally\n",
    "    )"
   ]
  },
  {
   "cell_type": "markdown",
   "metadata": {},
   "source": [
    "### set the original value column\n",
    "- go back to the top \"Setup\" section and choose which column should be the \"Orignal value\"\n",
    "- re-run the notebook"
   ]
  },
  {
   "cell_type": "markdown",
   "metadata": {},
   "source": [
    "## Extract right columns"
   ]
  },
  {
   "cell_type": "code",
   "execution_count": 6,
   "metadata": {},
   "outputs": [
    {
     "name": "stdout",
     "output_type": "stream",
     "text": [
      "7×4 DataFrame\n",
      "│ Row │ Day    │ Date       │ Value   │ Original │\n",
      "│     │ \u001b[90mInt64\u001b[39m  │ \u001b[90mDate\u001b[39m       │ \u001b[90mFloat64\u001b[39m │ \u001b[90mFloat64\u001b[39m  │\n",
      "├─────┼────────┼────────────┼─────────┼──────────┤\n",
      "│ 1   │ 735173 │ 2013-11-01 │ 53.2    │ 53.2     │\n",
      "│ 2   │ 735600 │ 2015-01-02 │ 56.8    │ 56.8     │\n",
      "│ 3   │ 736024 │ 2016-03-01 │ 48.5    │ 48.5     │\n",
      "│ 4   │ 736450 │ 2017-05-01 │ 52.0    │ 52.0     │\n",
      "│ 5   │ 736877 │ 2018-07-02 │ 56.0    │ 56.0     │\n",
      "│ 6   │ 737305 │ 2019-09-03 │ 47.4    │ 47.4     │\n",
      "│ 7   │ 737731 │ 2020-11-02 │ 53.2    │ 53.2     │\n",
      " Dataset dimentions: (85, 4)\n",
      "\n",
      " variable columns:\n",
      "1 Day\n",
      "2 Date\n",
      "3 Value\n",
      "4 Original\n",
      "\n"
     ]
    }
   ],
   "source": [
    "using DataFrames\n",
    "df = DataFrame( Day      = df[:,1],                     # 1 \n",
    "                Date     = df[:,2],                     # 2 \n",
    "                Value    = df[:,original_value_column], # 3 \n",
    "                Original = df[:,original_value_column]  # 4 \n",
    "               )\n",
    "\n",
    "columns = preview_data(df)\n",
    "println()"
   ]
  },
  {
   "cell_type": "markdown",
   "metadata": {},
   "source": [
    "## Quantize the values\n",
    "\n",
    "- Quantization is a process of noramalizing the data\n",
    "- I have decided to normalize the data for Int8 as I might try use Google Coral NPU"
   ]
  },
  {
   "cell_type": "code",
   "execution_count": 7,
   "metadata": {},
   "outputs": [
    {
     "name": "stdout",
     "output_type": "stream",
     "text": [
      "bias for 0 value: -0.8384146341463415\n",
      "Normalization was performend using formula y=(((x-min)/(max-min))*255)-128 \n",
      "minimum = 27.5\n",
      "maximum = 60.3\n",
      "Save these values for later to run model preditions\n",
      "7×4 DataFrame\n",
      "│ Row │ Day    │ Date       │ Value   │ Original │\n",
      "│     │ \u001b[90mInt64\u001b[39m  │ \u001b[90mDate\u001b[39m       │ \u001b[90mFloat64\u001b[39m │ \u001b[90mFloat64\u001b[39m  │\n",
      "├─────┼────────┼────────────┼─────────┼──────────┤\n",
      "│ 1   │ 735173 │ 2013-11-01 │ 72.0    │ 53.2     │\n",
      "│ 2   │ 735600 │ 2015-01-02 │ 100.0   │ 56.8     │\n",
      "│ 3   │ 736024 │ 2016-03-01 │ 35.0    │ 48.5     │\n",
      "│ 4   │ 736450 │ 2017-05-01 │ 62.0    │ 52.0     │\n",
      "│ 5   │ 736877 │ 2018-07-02 │ 94.0    │ 56.0     │\n",
      "│ 6   │ 737305 │ 2019-09-03 │ 27.0    │ 47.4     │\n",
      "│ 7   │ 737731 │ 2020-11-02 │ 72.0    │ 53.2     │\n",
      " Dataset dimentions: (85, 4)\n",
      "\n",
      " variable columns:\n",
      "1 Day\n",
      "2 Date\n",
      "3 Value\n",
      "4 Original\n",
      "\n"
     ]
    }
   ],
   "source": [
    "data_original = df[:,3] # keep original for display comparison later\n",
    "\n",
    "quantize_column!(df, 3)\n",
    "\n",
    "columns = preview_data(df)\n",
    "println()"
   ]
  },
  {
   "cell_type": "code",
   "execution_count": null,
   "metadata": {},
   "outputs": [],
   "source": []
  }
 ],
 "metadata": {
  "kernelspec": {
   "display_name": "Julia 1.4.2",
   "language": "julia",
   "name": "julia-1.4"
  },
  "language_info": {
   "file_extension": ".jl",
   "mimetype": "application/julia",
   "name": "julia",
   "version": "1.4.2"
  },
  "toc": {
   "base_numbering": 1,
   "nav_menu": {},
   "number_sections": true,
   "sideBar": true,
   "skip_h1_title": true,
   "title_cell": "Table of Contents",
   "title_sidebar": "Contents",
   "toc_cell": true,
   "toc_position": {},
   "toc_section_display": true,
   "toc_window_display": true
  }
 },
 "nbformat": 4,
 "nbformat_minor": 4
}
