{
 "cells": [
  {
   "cell_type": "markdown",
   "metadata": {},
   "source": [
    "# ISM Manufacturing Employment\n",
    "\n",
    "ISM Manufacturing Employment is one of the diffuse indicators, based on which the Supply Management Institute calculates the Manufacturing PMI. It reflects a change in employment in industrial companies.\n",
    "\n",
    "The index calculation is based on data collected from a monthly survey of supply managers from 18 US industries. Respondents estimate employment situation in their company in the past month: whether it has improved, deteriorated or has not changed. The collected data are processed and compiled to a diffuse index. The index weight in the total manufacturing PMI calculation is 20%.\n",
    "\n",
    "The ISM Manufacturing Employment index is usually closely correlated with other data released by the Bureau of Labor Statistics. Growth of employment in the manufacturing sector usually reflects a generally positive situation in the labor market: manufacturers hire more employees, so the number of jobs is growing, and the unemployment rate is declining.\n",
    "\n",
    "However, the index generally does not influence dollar quotes directly and is normally interpreted as part of PMI.\n",
    "\n",
    "## Source\n",
    "- https://www.mql5.com/en/economic-calendar/united-states/ism-manufacturing-employment"
   ]
  },
  {
   "cell_type": "markdown",
   "metadata": {
    "toc": true
   },
   "source": [
    "<h1>Table of Contents<span class=\"tocSkip\"></span></h1>\n",
    "<div class=\"toc\"><ul class=\"toc-item\"><li><span><a href=\"#Source\" data-toc-modified-id=\"Source-1\"><span class=\"toc-item-num\">1&nbsp;&nbsp;</span>Source</a></span></li><li><span><a href=\"#Set-Up\" data-toc-modified-id=\"Set-Up-2\"><span class=\"toc-item-num\">2&nbsp;&nbsp;</span>Set Up</a></span></li><li><span><a href=\"#Read-Data\" data-toc-modified-id=\"Read-Data-3\"><span class=\"toc-item-num\">3&nbsp;&nbsp;</span>Read Data</a></span><ul class=\"toc-item\"><li><span><a href=\"#Sample-the-data\" data-toc-modified-id=\"Sample-the-data-3.1\"><span class=\"toc-item-num\">3.1&nbsp;&nbsp;</span>Sample the data</a></span></li></ul></li><li><span><a href=\"#Rata-Die\" data-toc-modified-id=\"Rata-Die-4\"><span class=\"toc-item-num\">4&nbsp;&nbsp;</span>Rata Die</a></span><ul class=\"toc-item\"><li><span><a href=\"#Draw-Plots\" data-toc-modified-id=\"Draw-Plots-4.1\"><span class=\"toc-item-num\">4.1&nbsp;&nbsp;</span>Draw Plots</a></span></li><li><span><a href=\"#set-the-original-value-column\" data-toc-modified-id=\"set-the-original-value-column-4.2\"><span class=\"toc-item-num\">4.2&nbsp;&nbsp;</span>set the original value column</a></span></li></ul></li><li><span><a href=\"#Extract-right-columns\" data-toc-modified-id=\"Extract-right-columns-5\"><span class=\"toc-item-num\">5&nbsp;&nbsp;</span>Extract right columns</a></span></li><li><span><a href=\"#Quantize-the-values\" data-toc-modified-id=\"Quantize-the-values-6\"><span class=\"toc-item-num\">6&nbsp;&nbsp;</span>Quantize the values</a></span><ul class=\"toc-item\"><li><span><a href=\"#Draw-Plots\" data-toc-modified-id=\"Draw-Plots-6.1\"><span class=\"toc-item-num\">6.1&nbsp;&nbsp;</span>Draw Plots</a></span></li></ul></li><li><span><a href=\"#Fill-in-Empty-Dates\" data-toc-modified-id=\"Fill-in-Empty-Dates-7\"><span class=\"toc-item-num\">7&nbsp;&nbsp;</span>Fill in Empty Dates</a></span></li></ul></div>"
   ]
  },
  {
   "cell_type": "markdown",
   "metadata": {},
   "source": [
    "## Set Up"
   ]
  },
  {
   "cell_type": "code",
   "execution_count": 1,
   "metadata": {},
   "outputs": [
    {
     "name": "stdout",
     "output_type": "stream",
     "text": [
      "\n",
      "\n",
      "\n"
     ]
    }
   ],
   "source": [
    "dataset_file_name = \"united-states.ism-manufacturing-employment.csv\"\n",
    "\n",
    "path_data_original = \"./Data/original/\"\n",
    "date_original_format = \"yyyy.mm.dd\"\n",
    "original_value_column = 3 # ActualValue\n",
    "\n",
    "include(\"MarketIndicators.jl\") \n",
    "println()"
   ]
  },
  {
   "cell_type": "markdown",
   "metadata": {},
   "source": [
    "## Read Data"
   ]
  },
  {
   "cell_type": "code",
   "execution_count": 2,
   "metadata": {},
   "outputs": [
    {
     "name": "stdout",
     "output_type": "stream",
     "text": [
      "./Data/original/united-states.ism-manufacturing-employment.csv\n",
      "data dimentions: (85, 4)\n"
     ]
    },
    {
     "data": {
      "text/html": [
       "<table class=\"data-frame\"><thead><tr><th></th><th>variable</th><th>mean</th><th>min</th><th>median</th><th>max</th><th>nunique</th><th>nmissing</th><th>eltype</th></tr><tr><th></th><th>Symbol</th><th>Union…</th><th>Any</th><th>Union…</th><th>Any</th><th>Union…</th><th>Union…</th><th>Type</th></tr></thead><tbody><p>4 rows × 8 columns</p><tr><th>1</th><td>Date</td><td></td><td>2013-11-01</td><td></td><td>2020-11-02</td><td>85</td><td></td><td>Date</td></tr><tr><th>2</th><td>ActualValue</td><td>52.2353</td><td>27.5</td><td>52.8</td><td>60.3</td><td></td><td></td><td>Float64</td></tr><tr><th>3</th><td>ForecastValue</td><td>52.3487</td><td>34.1</td><td>55.8</td><td>63.5</td><td></td><td>46</td><td>Union{Missing, Float64}</td></tr><tr><th>4</th><td>PreviousValue</td><td>52.2357</td><td>27.5</td><td>52.8</td><td>60.3</td><td></td><td>1</td><td>Union{Missing, Float64}</td></tr></tbody></table>"
      ],
      "text/latex": [
       "\\begin{tabular}{r|cccccccc}\n",
       "\t& variable & mean & min & median & max & nunique & nmissing & eltype\\\\\n",
       "\t\\hline\n",
       "\t& Symbol & Union… & Any & Union… & Any & Union… & Union… & Type\\\\\n",
       "\t\\hline\n",
       "\t1 & Date &  & 2013-11-01 &  & 2020-11-02 & 85 &  & Date \\\\\n",
       "\t2 & ActualValue & 52.2353 & 27.5 & 52.8 & 60.3 &  &  & Float64 \\\\\n",
       "\t3 & ForecastValue & 52.3487 & 34.1 & 55.8 & 63.5 &  & 46 & Union\\{Missing, Float64\\} \\\\\n",
       "\t4 & PreviousValue & 52.2357 & 27.5 & 52.8 & 60.3 &  & 1 & Union\\{Missing, Float64\\} \\\\\n",
       "\\end{tabular}\n"
      ],
      "text/plain": [
       "4×8 DataFrame. Omitted printing of 2 columns\n",
       "│ Row │ variable      │ mean    │ min        │ median │ max        │ nunique │\n",
       "│     │ \u001b[90mSymbol\u001b[39m        │ \u001b[90mUnion…\u001b[39m  │ \u001b[90mAny\u001b[39m        │ \u001b[90mUnion…\u001b[39m │ \u001b[90mAny\u001b[39m        │ \u001b[90mUnion…\u001b[39m  │\n",
       "├─────┼───────────────┼─────────┼────────────┼────────┼────────────┼─────────┤\n",
       "│ 1   │ Date          │         │ 2013-11-01 │        │ 2020-11-02 │ 85      │\n",
       "│ 2   │ ActualValue   │ 52.2353 │ 27.5       │ 52.8   │ 60.3       │         │\n",
       "│ 3   │ ForecastValue │ 52.3487 │ 34.1       │ 55.8   │ 63.5       │         │\n",
       "│ 4   │ PreviousValue │ 52.2357 │ 27.5       │ 52.8   │ 60.3       │         │"
      ]
     },
     "execution_count": 2,
     "metadata": {},
     "output_type": "execute_result"
    }
   ],
   "source": [
    "#data = available_datasets() # uncomment to see all available datasets\n",
    "\n",
    "df = fetch_dataset(dataset_file_name, date_original_format , path_data_original )\n",
    "record_count = size(df)[1]\n",
    "println(\"data dimentions: \", size(df) )\n",
    "\n",
    "using Statistics\n",
    "describe(df)"
   ]
  },
  {
   "cell_type": "markdown",
   "metadata": {},
   "source": [
    "### Sample the data"
   ]
  },
  {
   "cell_type": "code",
   "execution_count": 3,
   "metadata": {},
   "outputs": [
    {
     "name": "stdout",
     "output_type": "stream",
     "text": [
      "7×4 DataFrame\n",
      "│ Row │ Date       │ ActualValue │ ForecastValue │ PreviousValue │\n",
      "│     │ \u001b[90mDate\u001b[39m       │ \u001b[90mFloat64\u001b[39m     │ \u001b[90mFloat64⍰\u001b[39m      │ \u001b[90mFloat64⍰\u001b[39m      │\n",
      "├─────┼────────────┼─────────────┼───────────────┼───────────────┤\n",
      "│ 1   │ 2013-11-01 │ 53.2        │ \u001b[90mmissing\u001b[39m       │ \u001b[90mmissing\u001b[39m       │\n",
      "│ 2   │ 2015-01-02 │ 56.8        │ \u001b[90mmissing\u001b[39m       │ 54.9          │\n",
      "│ 3   │ 2016-03-01 │ 48.5        │ \u001b[90mmissing\u001b[39m       │ 45.9          │\n",
      "│ 4   │ 2017-05-01 │ 52.0        │ \u001b[90mmissing\u001b[39m       │ 58.9          │\n",
      "│ 5   │ 2018-07-02 │ 56.0        │ 55.3          │ 56.3          │\n",
      "│ 6   │ 2019-09-03 │ 47.4        │ 56.0          │ 51.7          │\n",
      "│ 7   │ 2020-11-02 │ 53.2        │ 40.9          │ 49.6          │\n",
      " Dataset dimentions: (85, 4)\n",
      "\n",
      " variable columns:\n",
      "1 Date\n",
      "2 ActualValue\n",
      "3 ForecastValue\n",
      "4 PreviousValue\n",
      "\n"
     ]
    }
   ],
   "source": [
    "columns = preview_data(df) # uncomment to see the data\n",
    "println()"
   ]
  },
  {
   "cell_type": "markdown",
   "metadata": {},
   "source": [
    "## Rata Die"
   ]
  },
  {
   "cell_type": "code",
   "execution_count": 4,
   "metadata": {},
   "outputs": [
    {
     "name": "stdout",
     "output_type": "stream",
     "text": [
      "4×5 DataFrame\n",
      "│ Row │ Rata_Die │ Date       │ ActualValue │ ForecastValue │ PreviousValue │\n",
      "│     │ \u001b[90mInt64\u001b[39m    │ \u001b[90mDate\u001b[39m       │ \u001b[90mFloat64\u001b[39m     │ \u001b[90mFloat64⍰\u001b[39m      │ \u001b[90mFloat64⍰\u001b[39m      │\n",
      "├─────┼──────────┼────────────┼─────────────┼───────────────┼───────────────┤\n",
      "│ 1   │ 735173   │ 2013-11-01 │ 53.2        │ \u001b[90mmissing\u001b[39m       │ \u001b[90mmissing\u001b[39m       │\n",
      "│ 2   │ 736024   │ 2016-03-01 │ 48.5        │ \u001b[90mmissing\u001b[39m       │ 45.9          │\n",
      "│ 3   │ 736877   │ 2018-07-02 │ 56.0        │ 55.3          │ 56.3          │\n",
      "│ 4   │ 737731   │ 2020-11-02 │ 53.2        │ 40.9          │ 49.6          │\n",
      " Dataset dimentions: (85, 5)\n",
      "\n",
      " variable columns:\n",
      "1 Rata_Die\n",
      "2 Date\n",
      "3 ActualValue\n",
      "4 ForecastValue\n",
      "5 PreviousValue\n",
      "\n"
     ]
    }
   ],
   "source": [
    "col_ind = 1\n",
    "insertcols!(df, col_ind, :Rata_Die => zeros(Int64, record_count); makeunique = true )\n",
    "\n",
    "update_rata_die!(df, 1, 2)\n",
    "\n",
    "first(df, 6)\n",
    "columns = preview_data(df, 3)\n",
    "println()"
   ]
  },
  {
   "cell_type": "markdown",
   "metadata": {},
   "source": [
    "### Draw Plots"
   ]
  },
  {
   "cell_type": "code",
   "execution_count": 5,
   "metadata": {},
   "outputs": [
    {
     "data": {
      "image/svg+xml": [
       "<?xml version=\"1.0\" encoding=\"utf-8\"?>\n",
       "<svg xmlns=\"http://www.w3.org/2000/svg\" xmlns:xlink=\"http://www.w3.org/1999/xlink\" width=\"980\" height=\"400\" viewBox=\"0 0 3920 1600\">\n",
       "<defs>\n",
       "  <clipPath id=\"clip6200\">\n",
       "    <rect x=\"0\" y=\"0\" width=\"3920\" height=\"1600\"/>\n",
       "  </clipPath>\n",
       "</defs>\n",
       "<path clip-path=\"url(#clip6200)\" d=\"\n",
       "M0 1600 L3920 1600 L3920 0 L0 0  Z\n",
       "  \" fill=\"#ffffff\" fill-rule=\"evenodd\" fill-opacity=\"1\"/>\n",
       "<defs>\n",
       "  <clipPath id=\"clip6201\">\n",
       "    <rect x=\"784\" y=\"0\" width=\"2745\" height=\"1600\"/>\n",
       "  </clipPath>\n",
       "</defs>\n",
       "<path clip-path=\"url(#clip6200)\" d=\"\n",
       "M202.459 1423.18 L3872.76 1423.18 L3872.76 47.2441 L202.459 47.2441  Z\n",
       "  \" fill=\"#ffffff\" fill-rule=\"evenodd\" fill-opacity=\"1\"/>\n",
       "<defs>\n",
       "  <clipPath id=\"clip6202\">\n",
       "    <rect x=\"202\" y=\"47\" width=\"3671\" height=\"1377\"/>\n",
       "  </clipPath>\n",
       "</defs>\n",
       "<polyline clip-path=\"url(#clip6202)\" style=\"stroke:#000000; stroke-width:2; stroke-opacity:0.1; fill:none\" points=\"\n",
       "  306.335,1423.18 306.335,47.2441 \n",
       "  \"/>\n",
       "<polyline clip-path=\"url(#clip6202)\" style=\"stroke:#000000; stroke-width:2; stroke-opacity:0.1; fill:none\" points=\"\n",
       "  553.66,1423.18 553.66,47.2441 \n",
       "  \"/>\n",
       "<polyline clip-path=\"url(#clip6202)\" style=\"stroke:#000000; stroke-width:2; stroke-opacity:0.1; fill:none\" points=\"\n",
       "  800.984,1423.18 800.984,47.2441 \n",
       "  \"/>\n",
       "<polyline clip-path=\"url(#clip6202)\" style=\"stroke:#000000; stroke-width:2; stroke-opacity:0.1; fill:none\" points=\"\n",
       "  1048.31,1423.18 1048.31,47.2441 \n",
       "  \"/>\n",
       "<polyline clip-path=\"url(#clip6202)\" style=\"stroke:#000000; stroke-width:2; stroke-opacity:0.1; fill:none\" points=\"\n",
       "  1295.63,1423.18 1295.63,47.2441 \n",
       "  \"/>\n",
       "<polyline clip-path=\"url(#clip6202)\" style=\"stroke:#000000; stroke-width:2; stroke-opacity:0.1; fill:none\" points=\"\n",
       "  1542.96,1423.18 1542.96,47.2441 \n",
       "  \"/>\n",
       "<polyline clip-path=\"url(#clip6202)\" style=\"stroke:#000000; stroke-width:2; stroke-opacity:0.1; fill:none\" points=\"\n",
       "  1790.28,1423.18 1790.28,47.2441 \n",
       "  \"/>\n",
       "<polyline clip-path=\"url(#clip6202)\" style=\"stroke:#000000; stroke-width:2; stroke-opacity:0.1; fill:none\" points=\"\n",
       "  2037.61,1423.18 2037.61,47.2441 \n",
       "  \"/>\n",
       "<polyline clip-path=\"url(#clip6202)\" style=\"stroke:#000000; stroke-width:2; stroke-opacity:0.1; fill:none\" points=\"\n",
       "  2284.93,1423.18 2284.93,47.2441 \n",
       "  \"/>\n",
       "<polyline clip-path=\"url(#clip6202)\" style=\"stroke:#000000; stroke-width:2; stroke-opacity:0.1; fill:none\" points=\"\n",
       "  2532.26,1423.18 2532.26,47.2441 \n",
       "  \"/>\n",
       "<polyline clip-path=\"url(#clip6202)\" style=\"stroke:#000000; stroke-width:2; stroke-opacity:0.1; fill:none\" points=\"\n",
       "  2779.58,1423.18 2779.58,47.2441 \n",
       "  \"/>\n",
       "<polyline clip-path=\"url(#clip6202)\" style=\"stroke:#000000; stroke-width:2; stroke-opacity:0.1; fill:none\" points=\"\n",
       "  3026.91,1423.18 3026.91,47.2441 \n",
       "  \"/>\n",
       "<polyline clip-path=\"url(#clip6202)\" style=\"stroke:#000000; stroke-width:2; stroke-opacity:0.1; fill:none\" points=\"\n",
       "  3274.23,1423.18 3274.23,47.2441 \n",
       "  \"/>\n",
       "<polyline clip-path=\"url(#clip6202)\" style=\"stroke:#000000; stroke-width:2; stroke-opacity:0.1; fill:none\" points=\"\n",
       "  3521.55,1423.18 3521.55,47.2441 \n",
       "  \"/>\n",
       "<polyline clip-path=\"url(#clip6202)\" style=\"stroke:#000000; stroke-width:2; stroke-opacity:0.1; fill:none\" points=\"\n",
       "  3768.88,1423.18 3768.88,47.2441 \n",
       "  \"/>\n",
       "<polyline clip-path=\"url(#clip6202)\" style=\"stroke:#000000; stroke-width:2; stroke-opacity:0.1; fill:none\" points=\"\n",
       "  202.459,1285.3 3872.76,1285.3 \n",
       "  \"/>\n",
       "<polyline clip-path=\"url(#clip6202)\" style=\"stroke:#000000; stroke-width:2; stroke-opacity:0.1; fill:none\" points=\"\n",
       "  202.459,889.554 3872.76,889.554 \n",
       "  \"/>\n",
       "<polyline clip-path=\"url(#clip6202)\" style=\"stroke:#000000; stroke-width:2; stroke-opacity:0.1; fill:none\" points=\"\n",
       "  202.459,493.806 3872.76,493.806 \n",
       "  \"/>\n",
       "<polyline clip-path=\"url(#clip6202)\" style=\"stroke:#000000; stroke-width:2; stroke-opacity:0.1; fill:none\" points=\"\n",
       "  202.459,98.0581 3872.76,98.0581 \n",
       "  \"/>\n",
       "<polyline clip-path=\"url(#clip6200)\" style=\"stroke:#000000; stroke-width:4; stroke-opacity:1; fill:none\" points=\"\n",
       "  202.459,1423.18 3872.76,1423.18 \n",
       "  \"/>\n",
       "<polyline clip-path=\"url(#clip6200)\" style=\"stroke:#000000; stroke-width:4; stroke-opacity:1; fill:none\" points=\"\n",
       "  202.459,1423.18 202.459,47.2441 \n",
       "  \"/>\n",
       "<polyline clip-path=\"url(#clip6200)\" style=\"stroke:#000000; stroke-width:4; stroke-opacity:1; fill:none\" points=\"\n",
       "  306.335,1423.18 306.335,1406.67 \n",
       "  \"/>\n",
       "<polyline clip-path=\"url(#clip6200)\" style=\"stroke:#000000; stroke-width:4; stroke-opacity:1; fill:none\" points=\"\n",
       "  553.66,1423.18 553.66,1406.67 \n",
       "  \"/>\n",
       "<polyline clip-path=\"url(#clip6200)\" style=\"stroke:#000000; stroke-width:4; stroke-opacity:1; fill:none\" points=\"\n",
       "  800.984,1423.18 800.984,1406.67 \n",
       "  \"/>\n",
       "<polyline clip-path=\"url(#clip6200)\" style=\"stroke:#000000; stroke-width:4; stroke-opacity:1; fill:none\" points=\"\n",
       "  1048.31,1423.18 1048.31,1406.67 \n",
       "  \"/>\n",
       "<polyline clip-path=\"url(#clip6200)\" style=\"stroke:#000000; stroke-width:4; stroke-opacity:1; fill:none\" points=\"\n",
       "  1295.63,1423.18 1295.63,1406.67 \n",
       "  \"/>\n",
       "<polyline clip-path=\"url(#clip6200)\" style=\"stroke:#000000; stroke-width:4; stroke-opacity:1; fill:none\" points=\"\n",
       "  1542.96,1423.18 1542.96,1406.67 \n",
       "  \"/>\n",
       "<polyline clip-path=\"url(#clip6200)\" style=\"stroke:#000000; stroke-width:4; stroke-opacity:1; fill:none\" points=\"\n",
       "  1790.28,1423.18 1790.28,1406.67 \n",
       "  \"/>\n",
       "<polyline clip-path=\"url(#clip6200)\" style=\"stroke:#000000; stroke-width:4; stroke-opacity:1; fill:none\" points=\"\n",
       "  2037.61,1423.18 2037.61,1406.67 \n",
       "  \"/>\n",
       "<polyline clip-path=\"url(#clip6200)\" style=\"stroke:#000000; stroke-width:4; stroke-opacity:1; fill:none\" points=\"\n",
       "  2284.93,1423.18 2284.93,1406.67 \n",
       "  \"/>\n",
       "<polyline clip-path=\"url(#clip6200)\" style=\"stroke:#000000; stroke-width:4; stroke-opacity:1; fill:none\" points=\"\n",
       "  2532.26,1423.18 2532.26,1406.67 \n",
       "  \"/>\n",
       "<polyline clip-path=\"url(#clip6200)\" style=\"stroke:#000000; stroke-width:4; stroke-opacity:1; fill:none\" points=\"\n",
       "  2779.58,1423.18 2779.58,1406.67 \n",
       "  \"/>\n",
       "<polyline clip-path=\"url(#clip6200)\" style=\"stroke:#000000; stroke-width:4; stroke-opacity:1; fill:none\" points=\"\n",
       "  3026.91,1423.18 3026.91,1406.67 \n",
       "  \"/>\n",
       "<polyline clip-path=\"url(#clip6200)\" style=\"stroke:#000000; stroke-width:4; stroke-opacity:1; fill:none\" points=\"\n",
       "  3274.23,1423.18 3274.23,1406.67 \n",
       "  \"/>\n",
       "<polyline clip-path=\"url(#clip6200)\" style=\"stroke:#000000; stroke-width:4; stroke-opacity:1; fill:none\" points=\"\n",
       "  3521.55,1423.18 3521.55,1406.67 \n",
       "  \"/>\n",
       "<polyline clip-path=\"url(#clip6200)\" style=\"stroke:#000000; stroke-width:4; stroke-opacity:1; fill:none\" points=\"\n",
       "  3768.88,1423.18 3768.88,1406.67 \n",
       "  \"/>\n",
       "<polyline clip-path=\"url(#clip6200)\" style=\"stroke:#000000; stroke-width:4; stroke-opacity:1; fill:none\" points=\"\n",
       "  202.459,1285.3 246.503,1285.3 \n",
       "  \"/>\n",
       "<polyline clip-path=\"url(#clip6200)\" style=\"stroke:#000000; stroke-width:4; stroke-opacity:1; fill:none\" points=\"\n",
       "  202.459,889.554 246.503,889.554 \n",
       "  \"/>\n",
       "<polyline clip-path=\"url(#clip6200)\" style=\"stroke:#000000; stroke-width:4; stroke-opacity:1; fill:none\" points=\"\n",
       "  202.459,493.806 246.503,493.806 \n",
       "  \"/>\n",
       "<polyline clip-path=\"url(#clip6200)\" style=\"stroke:#000000; stroke-width:4; stroke-opacity:1; fill:none\" points=\"\n",
       "  202.459,98.0581 246.503,98.0581 \n",
       "  \"/>\n",
       "<path clip-path=\"url(#clip6200)\" d=\"M 0 0 M228.882 1480.32 L236.521 1480.32 L236.521 1453.95 L228.211 1455.62 L228.211 1451.36 L236.475 1449.69 L241.15 1449.69 L241.15 1480.32 L248.789 1480.32 L248.789 1484.25 L228.882 1484.25 L228.882 1480.32 Z\" fill=\"#000000\" fill-rule=\"evenodd\" fill-opacity=\"1\" /><path clip-path=\"url(#clip6200)\" d=\"M 0 0 M254.669 1480.32 L262.308 1480.32 L262.308 1453.95 L253.998 1455.62 L253.998 1451.36 L262.261 1449.69 L266.937 1449.69 L266.937 1480.32 L274.576 1480.32 L274.576 1484.25 L254.669 1484.25 L254.669 1480.32 Z\" fill=\"#000000\" fill-rule=\"evenodd\" fill-opacity=\"1\" /><path clip-path=\"url(#clip6200)\" d=\"M 0 0 M286.613 1449.69 L290.548 1449.69 L278.511 1488.65 L274.576 1488.65 L286.613 1449.69 Z\" fill=\"#000000\" fill-rule=\"evenodd\" fill-opacity=\"1\" /><path clip-path=\"url(#clip6200)\" d=\"M 0 0 M296.428 1480.32 L304.067 1480.32 L304.067 1453.95 L295.757 1455.62 L295.757 1451.36 L304.02 1449.69 L308.696 1449.69 L308.696 1480.32 L316.335 1480.32 L316.335 1484.25 L296.428 1484.25 L296.428 1480.32 Z\" fill=\"#000000\" fill-rule=\"evenodd\" fill-opacity=\"1\" /><path clip-path=\"url(#clip6200)\" d=\"M 0 0 M328.372 1449.69 L332.307 1449.69 L320.27 1488.65 L316.335 1488.65 L328.372 1449.69 Z\" fill=\"#000000\" fill-rule=\"evenodd\" fill-opacity=\"1\" /><path clip-path=\"url(#clip6200)\" d=\"M 0 0 M338.187 1480.32 L345.826 1480.32 L345.826 1453.95 L337.516 1455.62 L337.516 1451.36 L345.78 1449.69 L350.455 1449.69 L350.455 1480.32 L358.094 1480.32 L358.094 1484.25 L338.187 1484.25 L338.187 1480.32 Z\" fill=\"#000000\" fill-rule=\"evenodd\" fill-opacity=\"1\" /><path clip-path=\"url(#clip6200)\" d=\"M 0 0 M377.33 1465.62 Q380.687 1466.34 382.562 1468.6 Q384.46 1470.87 384.46 1474.21 Q384.46 1479.32 380.941 1482.12 Q377.423 1484.92 370.941 1484.92 Q368.766 1484.92 366.451 1484.48 Q364.159 1484.07 361.705 1483.21 L361.705 1478.7 Q363.65 1479.83 365.965 1480.41 Q368.279 1480.99 370.803 1480.99 Q375.201 1480.99 377.492 1479.25 Q379.807 1477.52 379.807 1474.21 Q379.807 1471.15 377.654 1469.44 Q375.525 1467.7 371.705 1467.7 L367.678 1467.7 L367.678 1463.86 L371.89 1463.86 Q375.34 1463.86 377.168 1462.49 Q378.997 1461.1 378.997 1458.51 Q378.997 1455.85 377.099 1454.44 Q375.224 1453 371.705 1453 Q369.784 1453 367.585 1453.42 Q365.386 1453.84 362.747 1454.71 L362.747 1450.55 Q365.409 1449.81 367.724 1449.44 Q370.062 1449.07 372.122 1449.07 Q377.446 1449.07 380.548 1451.5 Q383.65 1453.9 383.65 1458.03 Q383.65 1460.9 382.006 1462.89 Q380.363 1464.85 377.33 1465.62 Z\" fill=\"#000000\" fill-rule=\"evenodd\" fill-opacity=\"1\" /><path clip-path=\"url(#clip6200)\" d=\"M 0 0 M488.429 1449.69 L506.785 1449.69 L506.785 1453.63 L492.711 1453.63 L492.711 1462.1 Q493.73 1461.75 494.748 1461.59 Q495.767 1461.4 496.785 1461.4 Q502.572 1461.4 505.952 1464.58 Q509.331 1467.75 509.331 1473.16 Q509.331 1478.74 505.859 1481.84 Q502.387 1484.92 496.068 1484.92 Q493.892 1484.92 491.623 1484.55 Q489.378 1484.18 486.97 1483.44 L486.97 1478.74 Q489.054 1479.88 491.276 1480.43 Q493.498 1480.99 495.975 1480.99 Q499.98 1480.99 502.318 1478.88 Q504.656 1476.78 504.656 1473.16 Q504.656 1469.55 502.318 1467.45 Q499.98 1465.34 495.975 1465.34 Q494.1 1465.34 492.225 1465.76 Q490.373 1466.17 488.429 1467.05 L488.429 1449.69 Z\" fill=\"#000000\" fill-rule=\"evenodd\" fill-opacity=\"1\" /><path clip-path=\"url(#clip6200)\" d=\"M 0 0 M521.368 1449.69 L525.304 1449.69 L513.267 1488.65 L509.331 1488.65 L521.368 1449.69 Z\" fill=\"#000000\" fill-rule=\"evenodd\" fill-opacity=\"1\" /><path clip-path=\"url(#clip6200)\" d=\"M 0 0 M531.183 1480.32 L538.822 1480.32 L538.822 1453.95 L530.512 1455.62 L530.512 1451.36 L538.776 1449.69 L543.452 1449.69 L543.452 1480.32 L551.09 1480.32 L551.09 1484.25 L531.183 1484.25 L531.183 1480.32 Z\" fill=\"#000000\" fill-rule=\"evenodd\" fill-opacity=\"1\" /><path clip-path=\"url(#clip6200)\" d=\"M 0 0 M563.127 1449.69 L567.063 1449.69 L555.026 1488.65 L551.09 1488.65 L563.127 1449.69 Z\" fill=\"#000000\" fill-rule=\"evenodd\" fill-opacity=\"1\" /><path clip-path=\"url(#clip6200)\" d=\"M 0 0 M572.942 1480.32 L580.581 1480.32 L580.581 1453.95 L572.271 1455.62 L572.271 1451.36 L580.535 1449.69 L585.211 1449.69 L585.211 1480.32 L592.849 1480.32 L592.849 1484.25 L572.942 1484.25 L572.942 1480.32 Z\" fill=\"#000000\" fill-rule=\"evenodd\" fill-opacity=\"1\" /><path clip-path=\"url(#clip6200)\" d=\"M 0 0 M610.766 1453.77 L598.961 1472.21 L610.766 1472.21 L610.766 1453.77 M609.539 1449.69 L615.419 1449.69 L615.419 1472.21 L620.349 1472.21 L620.349 1476.1 L615.419 1476.1 L615.419 1484.25 L610.766 1484.25 L610.766 1476.1 L595.164 1476.1 L595.164 1471.59 L609.539 1449.69 Z\" fill=\"#000000\" fill-rule=\"evenodd\" fill-opacity=\"1\" /><path clip-path=\"url(#clip6200)\" d=\"M 0 0 M722.675 1480.32 L730.314 1480.32 L730.314 1453.95 L722.003 1455.62 L722.003 1451.36 L730.267 1449.69 L734.943 1449.69 L734.943 1480.32 L742.582 1480.32 L742.582 1484.25 L722.675 1484.25 L722.675 1480.32 Z\" fill=\"#000000\" fill-rule=\"evenodd\" fill-opacity=\"1\" /><path clip-path=\"url(#clip6200)\" d=\"M 0 0 M748.462 1480.32 L756.1 1480.32 L756.1 1453.95 L747.79 1455.62 L747.79 1451.36 L756.054 1449.69 L760.73 1449.69 L760.73 1480.32 L768.369 1480.32 L768.369 1484.25 L748.462 1484.25 L748.462 1480.32 Z\" fill=\"#000000\" fill-rule=\"evenodd\" fill-opacity=\"1\" /><path clip-path=\"url(#clip6200)\" d=\"M 0 0 M780.406 1449.69 L784.341 1449.69 L772.304 1488.65 L768.369 1488.65 L780.406 1449.69 Z\" fill=\"#000000\" fill-rule=\"evenodd\" fill-opacity=\"1\" /><path clip-path=\"url(#clip6200)\" d=\"M 0 0 M803.577 1465.62 Q806.934 1466.34 808.808 1468.6 Q810.707 1470.87 810.707 1474.21 Q810.707 1479.32 807.188 1482.12 Q803.67 1484.92 797.188 1484.92 Q795.012 1484.92 792.697 1484.48 Q790.406 1484.07 787.952 1483.21 L787.952 1478.7 Q789.897 1479.83 792.211 1480.41 Q794.526 1480.99 797.049 1480.99 Q801.447 1480.99 803.739 1479.25 Q806.054 1477.52 806.054 1474.21 Q806.054 1471.15 803.901 1469.44 Q801.771 1467.7 797.952 1467.7 L793.924 1467.7 L793.924 1463.86 L798.137 1463.86 Q801.586 1463.86 803.415 1462.49 Q805.244 1461.1 805.244 1458.51 Q805.244 1455.85 803.346 1454.44 Q801.471 1453 797.952 1453 Q796.031 1453 793.832 1453.42 Q791.633 1453.84 788.994 1454.71 L788.994 1450.55 Q791.656 1449.81 793.971 1449.44 Q796.309 1449.07 798.369 1449.07 Q803.693 1449.07 806.795 1451.5 Q809.896 1453.9 809.896 1458.03 Q809.896 1460.9 808.253 1462.89 Q806.609 1464.85 803.577 1465.62 Z\" fill=\"#000000\" fill-rule=\"evenodd\" fill-opacity=\"1\" /><path clip-path=\"url(#clip6200)\" d=\"M 0 0 M822.744 1449.69 L826.679 1449.69 L814.642 1488.65 L810.707 1488.65 L822.744 1449.69 Z\" fill=\"#000000\" fill-rule=\"evenodd\" fill-opacity=\"1\" /><path clip-path=\"url(#clip6200)\" d=\"M 0 0 M832.558 1480.32 L840.197 1480.32 L840.197 1453.95 L831.887 1455.62 L831.887 1451.36 L840.151 1449.69 L844.827 1449.69 L844.827 1480.32 L852.466 1480.32 L852.466 1484.25 L832.558 1484.25 L832.558 1480.32 Z\" fill=\"#000000\" fill-rule=\"evenodd\" fill-opacity=\"1\" /><path clip-path=\"url(#clip6200)\" d=\"M 0 0 M870.382 1453.77 L858.577 1472.21 L870.382 1472.21 L870.382 1453.77 M869.155 1449.69 L875.035 1449.69 L875.035 1472.21 L879.966 1472.21 L879.966 1476.1 L875.035 1476.1 L875.035 1484.25 L870.382 1484.25 L870.382 1476.1 L854.78 1476.1 L854.78 1471.59 L869.155 1449.69 Z\" fill=\"#000000\" fill-rule=\"evenodd\" fill-opacity=\"1\" /><path clip-path=\"url(#clip6200)\" d=\"M 0 0 M983.819 1449.69 L1002.18 1449.69 L1002.18 1453.63 L988.101 1453.63 L988.101 1462.1 Q989.12 1461.75 990.138 1461.59 Q991.157 1461.4 992.175 1461.4 Q997.962 1461.4 1001.34 1464.58 Q1004.72 1467.75 1004.72 1473.16 Q1004.72 1478.74 1001.25 1481.84 Q997.777 1484.92 991.458 1484.92 Q989.282 1484.92 987.013 1484.55 Q984.768 1484.18 982.36 1483.44 L982.36 1478.74 Q984.444 1479.88 986.666 1480.43 Q988.888 1480.99 991.365 1480.99 Q995.37 1480.99 997.707 1478.88 Q1000.05 1476.78 1000.05 1473.16 Q1000.05 1469.55 997.707 1467.45 Q995.37 1465.34 991.365 1465.34 Q989.49 1465.34 987.615 1465.76 Q985.763 1466.17 983.819 1467.05 L983.819 1449.69 Z\" fill=\"#000000\" fill-rule=\"evenodd\" fill-opacity=\"1\" /><path clip-path=\"url(#clip6200)\" d=\"M 0 0 M1016.76 1449.69 L1020.69 1449.69 L1008.66 1488.65 L1004.72 1488.65 L1016.76 1449.69 Z\" fill=\"#000000\" fill-rule=\"evenodd\" fill-opacity=\"1\" /><path clip-path=\"url(#clip6200)\" d=\"M 0 0 M1026.57 1480.32 L1034.21 1480.32 L1034.21 1453.95 L1025.9 1455.62 L1025.9 1451.36 L1034.17 1449.69 L1038.84 1449.69 L1038.84 1480.32 L1046.48 1480.32 L1046.48 1484.25 L1026.57 1484.25 L1026.57 1480.32 Z\" fill=\"#000000\" fill-rule=\"evenodd\" fill-opacity=\"1\" /><path clip-path=\"url(#clip6200)\" d=\"M 0 0 M1058.52 1449.69 L1062.45 1449.69 L1050.42 1488.65 L1046.48 1488.65 L1058.52 1449.69 Z\" fill=\"#000000\" fill-rule=\"evenodd\" fill-opacity=\"1\" /><path clip-path=\"url(#clip6200)\" d=\"M 0 0 M1068.33 1480.32 L1075.97 1480.32 L1075.97 1453.95 L1067.66 1455.62 L1067.66 1451.36 L1075.92 1449.69 L1080.6 1449.69 L1080.6 1480.32 L1088.24 1480.32 L1088.24 1484.25 L1068.33 1484.25 L1068.33 1480.32 Z\" fill=\"#000000\" fill-rule=\"evenodd\" fill-opacity=\"1\" /><path clip-path=\"url(#clip6200)\" d=\"M 0 0 M1093.36 1449.69 L1111.71 1449.69 L1111.71 1453.63 L1097.64 1453.63 L1097.64 1462.1 Q1098.66 1461.75 1099.67 1461.59 Q1100.69 1461.4 1101.71 1461.4 Q1107.5 1461.4 1110.88 1464.58 Q1114.26 1467.75 1114.26 1473.16 Q1114.26 1478.74 1110.79 1481.84 Q1107.31 1484.92 1100.99 1484.92 Q1098.82 1484.92 1096.55 1484.55 Q1094.3 1484.18 1091.9 1483.44 L1091.9 1478.74 Q1093.98 1479.88 1096.2 1480.43 Q1098.42 1480.99 1100.9 1480.99 Q1104.91 1480.99 1107.24 1478.88 Q1109.58 1476.78 1109.58 1473.16 Q1109.58 1469.55 1107.24 1467.45 Q1104.91 1465.34 1100.9 1465.34 Q1099.03 1465.34 1097.15 1465.76 Q1095.3 1466.17 1093.36 1467.05 L1093.36 1449.69 Z\" fill=\"#000000\" fill-rule=\"evenodd\" fill-opacity=\"1\" /><path clip-path=\"url(#clip6200)\" d=\"M 0 0 M1218.54 1480.32 L1226.18 1480.32 L1226.18 1453.95 L1217.87 1455.62 L1217.87 1451.36 L1226.13 1449.69 L1230.81 1449.69 L1230.81 1480.32 L1238.45 1480.32 L1238.45 1484.25 L1218.54 1484.25 L1218.54 1480.32 Z\" fill=\"#000000\" fill-rule=\"evenodd\" fill-opacity=\"1\" /><path clip-path=\"url(#clip6200)\" d=\"M 0 0 M1244.33 1480.32 L1251.96 1480.32 L1251.96 1453.95 L1243.65 1455.62 L1243.65 1451.36 L1251.92 1449.69 L1256.59 1449.69 L1256.59 1480.32 L1264.23 1480.32 L1264.23 1484.25 L1244.33 1484.25 L1244.33 1480.32 Z\" fill=\"#000000\" fill-rule=\"evenodd\" fill-opacity=\"1\" /><path clip-path=\"url(#clip6200)\" d=\"M 0 0 M1276.27 1449.69 L1280.21 1449.69 L1268.17 1488.65 L1264.23 1488.65 L1276.27 1449.69 Z\" fill=\"#000000\" fill-rule=\"evenodd\" fill-opacity=\"1\" /><path clip-path=\"url(#clip6200)\" d=\"M 0 0 M1289.3 1480.32 L1305.62 1480.32 L1305.62 1484.25 L1283.68 1484.25 L1283.68 1480.32 Q1286.34 1477.56 1290.92 1472.93 Q1295.53 1468.28 1296.71 1466.94 Q1298.96 1464.41 1299.84 1462.68 Q1300.74 1460.92 1300.74 1459.23 Q1300.74 1456.47 1298.79 1454.74 Q1296.87 1453 1293.77 1453 Q1291.57 1453 1289.12 1453.77 Q1286.69 1454.53 1283.91 1456.08 L1283.91 1451.36 Q1286.73 1450.22 1289.19 1449.65 Q1291.64 1449.07 1293.68 1449.07 Q1299.05 1449.07 1302.24 1451.75 Q1305.44 1454.44 1305.44 1458.93 Q1305.44 1461.06 1304.63 1462.98 Q1303.84 1464.88 1301.73 1467.47 Q1301.15 1468.14 1298.05 1471.36 Q1294.95 1474.55 1289.3 1480.32 Z\" fill=\"#000000\" fill-rule=\"evenodd\" fill-opacity=\"1\" /><path clip-path=\"url(#clip6200)\" d=\"M 0 0 M1317.66 1449.69 L1321.59 1449.69 L1309.56 1488.65 L1305.62 1488.65 L1317.66 1449.69 Z\" fill=\"#000000\" fill-rule=\"evenodd\" fill-opacity=\"1\" /><path clip-path=\"url(#clip6200)\" d=\"M 0 0 M1327.47 1480.32 L1335.11 1480.32 L1335.11 1453.95 L1326.8 1455.62 L1326.8 1451.36 L1335.07 1449.69 L1339.74 1449.69 L1339.74 1480.32 L1347.38 1480.32 L1347.38 1484.25 L1327.47 1484.25 L1327.47 1480.32 Z\" fill=\"#000000\" fill-rule=\"evenodd\" fill-opacity=\"1\" /><path clip-path=\"url(#clip6200)\" d=\"M 0 0 M1352.5 1449.69 L1370.85 1449.69 L1370.85 1453.63 L1356.78 1453.63 L1356.78 1462.1 Q1357.8 1461.75 1358.82 1461.59 Q1359.83 1461.4 1360.85 1461.4 Q1366.64 1461.4 1370.02 1464.58 Q1373.4 1467.75 1373.4 1473.16 Q1373.4 1478.74 1369.93 1481.84 Q1366.46 1484.92 1360.14 1484.92 Q1357.96 1484.92 1355.69 1484.55 Q1353.45 1484.18 1351.04 1483.44 L1351.04 1478.74 Q1353.12 1479.88 1355.34 1480.43 Q1357.57 1480.99 1360.04 1480.99 Q1364.05 1480.99 1366.39 1478.88 Q1368.72 1476.78 1368.72 1473.16 Q1368.72 1469.55 1366.39 1467.45 Q1364.05 1465.34 1360.04 1465.34 Q1358.17 1465.34 1356.29 1465.76 Q1354.44 1466.17 1352.5 1467.05 L1352.5 1449.69 Z\" fill=\"#000000\" fill-rule=\"evenodd\" fill-opacity=\"1\" /><path clip-path=\"url(#clip6200)\" d=\"M 0 0 M1478.07 1449.69 L1496.43 1449.69 L1496.43 1453.63 L1482.36 1453.63 L1482.36 1462.1 Q1483.38 1461.75 1484.39 1461.59 Q1485.41 1461.4 1486.43 1461.4 Q1492.22 1461.4 1495.6 1464.58 Q1498.98 1467.75 1498.98 1473.16 Q1498.98 1478.74 1495.5 1481.84 Q1492.03 1484.92 1485.71 1484.92 Q1483.54 1484.92 1481.27 1484.55 Q1479.02 1484.18 1476.62 1483.44 L1476.62 1478.74 Q1478.7 1479.88 1480.92 1480.43 Q1483.14 1480.99 1485.62 1480.99 Q1489.63 1480.99 1491.96 1478.88 Q1494.3 1476.78 1494.3 1473.16 Q1494.3 1469.55 1491.96 1467.45 Q1489.63 1465.34 1485.62 1465.34 Q1483.75 1465.34 1481.87 1465.76 Q1480.02 1466.17 1478.07 1467.05 L1478.07 1449.69 Z\" fill=\"#000000\" fill-rule=\"evenodd\" fill-opacity=\"1\" /><path clip-path=\"url(#clip6200)\" d=\"M 0 0 M1511.01 1449.69 L1514.95 1449.69 L1502.91 1488.65 L1498.98 1488.65 L1511.01 1449.69 Z\" fill=\"#000000\" fill-rule=\"evenodd\" fill-opacity=\"1\" /><path clip-path=\"url(#clip6200)\" d=\"M 0 0 M1524.05 1480.32 L1540.37 1480.32 L1540.37 1484.25 L1518.42 1484.25 L1518.42 1480.32 Q1521.08 1477.56 1525.67 1472.93 Q1530.27 1468.28 1531.45 1466.94 Q1533.7 1464.41 1534.58 1462.68 Q1535.48 1460.92 1535.48 1459.23 Q1535.48 1456.47 1533.54 1454.74 Q1531.62 1453 1528.51 1453 Q1526.31 1453 1523.86 1453.77 Q1521.43 1454.53 1518.65 1456.08 L1518.65 1451.36 Q1521.48 1450.22 1523.93 1449.65 Q1526.38 1449.07 1528.42 1449.07 Q1533.79 1449.07 1536.99 1451.75 Q1540.18 1454.44 1540.18 1458.93 Q1540.18 1461.06 1539.37 1462.98 Q1538.58 1464.88 1536.48 1467.47 Q1535.9 1468.14 1532.8 1471.36 Q1529.69 1474.55 1524.05 1480.32 Z\" fill=\"#000000\" fill-rule=\"evenodd\" fill-opacity=\"1\" /><path clip-path=\"url(#clip6200)\" d=\"M 0 0 M1552.4 1449.69 L1556.34 1449.69 L1544.3 1488.65 L1540.37 1488.65 L1552.4 1449.69 Z\" fill=\"#000000\" fill-rule=\"evenodd\" fill-opacity=\"1\" /><path clip-path=\"url(#clip6200)\" d=\"M 0 0 M1562.22 1480.32 L1569.86 1480.32 L1569.86 1453.95 L1561.55 1455.62 L1561.55 1451.36 L1569.81 1449.69 L1574.49 1449.69 L1574.49 1480.32 L1582.12 1480.32 L1582.12 1484.25 L1562.22 1484.25 L1562.22 1480.32 Z\" fill=\"#000000\" fill-rule=\"evenodd\" fill-opacity=\"1\" /><path clip-path=\"url(#clip6200)\" d=\"M 0 0 M1597.77 1465.11 Q1594.62 1465.11 1592.77 1467.26 Q1590.94 1469.41 1590.94 1473.16 Q1590.94 1476.89 1592.77 1479.07 Q1594.62 1481.22 1597.77 1481.22 Q1600.92 1481.22 1602.75 1479.07 Q1604.6 1476.89 1604.6 1473.16 Q1604.6 1469.41 1602.75 1467.26 Q1600.92 1465.11 1597.77 1465.11 M1607.06 1450.46 L1607.06 1454.71 Q1605.3 1453.88 1603.49 1453.44 Q1601.71 1453 1599.95 1453 Q1595.32 1453 1592.87 1456.13 Q1590.43 1459.25 1590.09 1465.57 Q1591.45 1463.56 1593.51 1462.49 Q1595.57 1461.4 1598.05 1461.4 Q1603.26 1461.4 1606.27 1464.58 Q1609.3 1467.72 1609.3 1473.16 Q1609.3 1478.49 1606.15 1481.71 Q1603 1484.92 1597.77 1484.92 Q1591.78 1484.92 1588.61 1480.34 Q1585.43 1475.73 1585.43 1467.01 Q1585.43 1458.81 1589.32 1453.95 Q1593.21 1449.07 1599.76 1449.07 Q1601.52 1449.07 1603.31 1449.41 Q1605.11 1449.76 1607.06 1450.46 Z\" fill=\"#000000\" fill-rule=\"evenodd\" fill-opacity=\"1\" /><path clip-path=\"url(#clip6200)\" d=\"M 0 0 M1712.42 1480.32 L1720.06 1480.32 L1720.06 1453.95 L1711.75 1455.62 L1711.75 1451.36 L1720.02 1449.69 L1724.69 1449.69 L1724.69 1480.32 L1732.33 1480.32 L1732.33 1484.25 L1712.42 1484.25 L1712.42 1480.32 Z\" fill=\"#000000\" fill-rule=\"evenodd\" fill-opacity=\"1\" /><path clip-path=\"url(#clip6200)\" d=\"M 0 0 M1738.21 1480.32 L1745.85 1480.32 L1745.85 1453.95 L1737.54 1455.62 L1737.54 1451.36 L1745.8 1449.69 L1750.48 1449.69 L1750.48 1480.32 L1758.12 1480.32 L1758.12 1484.25 L1738.21 1484.25 L1738.21 1480.32 Z\" fill=\"#000000\" fill-rule=\"evenodd\" fill-opacity=\"1\" /><path clip-path=\"url(#clip6200)\" d=\"M 0 0 M1770.16 1449.69 L1774.09 1449.69 L1762.05 1488.65 L1758.12 1488.65 L1770.16 1449.69 Z\" fill=\"#000000\" fill-rule=\"evenodd\" fill-opacity=\"1\" /><path clip-path=\"url(#clip6200)\" d=\"M 0 0 M1779.97 1480.32 L1787.61 1480.32 L1787.61 1453.95 L1779.3 1455.62 L1779.3 1451.36 L1787.56 1449.69 L1792.24 1449.69 L1792.24 1480.32 L1799.88 1480.32 L1799.88 1484.25 L1779.97 1484.25 L1779.97 1480.32 Z\" fill=\"#000000\" fill-rule=\"evenodd\" fill-opacity=\"1\" /><path clip-path=\"url(#clip6200)\" d=\"M 0 0 M1811.91 1449.69 L1815.85 1449.69 L1803.81 1488.65 L1799.88 1488.65 L1811.91 1449.69 Z\" fill=\"#000000\" fill-rule=\"evenodd\" fill-opacity=\"1\" /><path clip-path=\"url(#clip6200)\" d=\"M 0 0 M1821.73 1480.32 L1829.37 1480.32 L1829.37 1453.95 L1821.06 1455.62 L1821.06 1451.36 L1829.32 1449.69 L1834 1449.69 L1834 1480.32 L1841.64 1480.32 L1841.64 1484.25 L1821.73 1484.25 L1821.73 1480.32 Z\" fill=\"#000000\" fill-rule=\"evenodd\" fill-opacity=\"1\" /><path clip-path=\"url(#clip6200)\" d=\"M 0 0 M1857.28 1465.11 Q1854.14 1465.11 1852.28 1467.26 Q1850.46 1469.41 1850.46 1473.16 Q1850.46 1476.89 1852.28 1479.07 Q1854.14 1481.22 1857.28 1481.22 Q1860.43 1481.22 1862.26 1479.07 Q1864.11 1476.89 1864.11 1473.16 Q1864.11 1469.41 1862.26 1467.26 Q1860.43 1465.11 1857.28 1465.11 M1866.57 1450.46 L1866.57 1454.71 Q1864.81 1453.88 1863 1453.44 Q1861.22 1453 1859.46 1453 Q1854.83 1453 1852.38 1456.13 Q1849.95 1459.25 1849.6 1465.57 Q1850.97 1463.56 1853.03 1462.49 Q1855.09 1461.4 1857.56 1461.4 Q1862.77 1461.4 1865.78 1464.58 Q1868.81 1467.72 1868.81 1473.16 Q1868.81 1478.49 1865.66 1481.71 Q1862.52 1484.92 1857.28 1484.92 Q1851.29 1484.92 1848.12 1480.34 Q1844.95 1475.73 1844.95 1467.01 Q1844.95 1458.81 1848.84 1453.95 Q1852.72 1449.07 1859.28 1449.07 Q1861.03 1449.07 1862.82 1449.41 Q1864.62 1449.76 1866.57 1450.46 Z\" fill=\"#000000\" fill-rule=\"evenodd\" fill-opacity=\"1\" /><path clip-path=\"url(#clip6200)\" d=\"M 0 0 M1973.07 1449.69 L1991.43 1449.69 L1991.43 1453.63 L1977.35 1453.63 L1977.35 1462.1 Q1978.37 1461.75 1979.39 1461.59 Q1980.41 1461.4 1981.43 1461.4 Q1987.21 1461.4 1990.59 1464.58 Q1993.97 1467.75 1993.97 1473.16 Q1993.97 1478.74 1990.5 1481.84 Q1987.03 1484.92 1980.71 1484.92 Q1978.53 1484.92 1976.27 1484.55 Q1974.02 1484.18 1971.61 1483.44 L1971.61 1478.74 Q1973.7 1479.88 1975.92 1480.43 Q1978.14 1480.99 1980.62 1480.99 Q1984.62 1480.99 1986.96 1478.88 Q1989.3 1476.78 1989.3 1473.16 Q1989.3 1469.55 1986.96 1467.45 Q1984.62 1465.34 1980.62 1465.34 Q1978.74 1465.34 1976.87 1465.76 Q1975.02 1466.17 1973.07 1467.05 L1973.07 1449.69 Z\" fill=\"#000000\" fill-rule=\"evenodd\" fill-opacity=\"1\" /><path clip-path=\"url(#clip6200)\" d=\"M 0 0 M2006.01 1449.69 L2009.95 1449.69 L1997.91 1488.65 L1993.97 1488.65 L2006.01 1449.69 Z\" fill=\"#000000\" fill-rule=\"evenodd\" fill-opacity=\"1\" /><path clip-path=\"url(#clip6200)\" d=\"M 0 0 M2015.83 1480.32 L2023.46 1480.32 L2023.46 1453.95 L2015.15 1455.62 L2015.15 1451.36 L2023.42 1449.69 L2028.09 1449.69 L2028.09 1480.32 L2035.73 1480.32 L2035.73 1484.25 L2015.83 1484.25 L2015.83 1480.32 Z\" fill=\"#000000\" fill-rule=\"evenodd\" fill-opacity=\"1\" /><path clip-path=\"url(#clip6200)\" d=\"M 0 0 M2047.77 1449.69 L2051.7 1449.69 L2039.67 1488.65 L2035.73 1488.65 L2047.77 1449.69 Z\" fill=\"#000000\" fill-rule=\"evenodd\" fill-opacity=\"1\" /><path clip-path=\"url(#clip6200)\" d=\"M 0 0 M2057.58 1480.32 L2065.22 1480.32 L2065.22 1453.95 L2056.91 1455.62 L2056.91 1451.36 L2065.18 1449.69 L2069.85 1449.69 L2069.85 1480.32 L2077.49 1480.32 L2077.49 1484.25 L2057.58 1484.25 L2057.58 1480.32 Z\" fill=\"#000000\" fill-rule=\"evenodd\" fill-opacity=\"1\" /><path clip-path=\"url(#clip6200)\" d=\"M 0 0 M2081.38 1449.69 L2103.6 1449.69 L2103.6 1451.68 L2091.06 1484.25 L2086.17 1484.25 L2097.98 1453.63 L2081.38 1453.63 L2081.38 1449.69 Z\" fill=\"#000000\" fill-rule=\"evenodd\" fill-opacity=\"1\" /><path clip-path=\"url(#clip6200)\" d=\"M 0 0 M2207.61 1480.32 L2215.24 1480.32 L2215.24 1453.95 L2206.93 1455.62 L2206.93 1451.36 L2215.2 1449.69 L2219.87 1449.69 L2219.87 1480.32 L2227.51 1480.32 L2227.51 1484.25 L2207.61 1484.25 L2207.61 1480.32 Z\" fill=\"#000000\" fill-rule=\"evenodd\" fill-opacity=\"1\" /><path clip-path=\"url(#clip6200)\" d=\"M 0 0 M2233.39 1480.32 L2241.03 1480.32 L2241.03 1453.95 L2232.72 1455.62 L2232.72 1451.36 L2240.99 1449.69 L2245.66 1449.69 L2245.66 1480.32 L2253.3 1480.32 L2253.3 1484.25 L2233.39 1484.25 L2233.39 1480.32 Z\" fill=\"#000000\" fill-rule=\"evenodd\" fill-opacity=\"1\" /><path clip-path=\"url(#clip6200)\" d=\"M 0 0 M2265.34 1449.69 L2269.27 1449.69 L2257.24 1488.65 L2253.3 1488.65 L2265.34 1449.69 Z\" fill=\"#000000\" fill-rule=\"evenodd\" fill-opacity=\"1\" /><path clip-path=\"url(#clip6200)\" d=\"M 0 0 M2275.15 1480.32 L2282.79 1480.32 L2282.79 1453.95 L2274.48 1455.62 L2274.48 1451.36 L2282.74 1449.69 L2287.42 1449.69 L2287.42 1480.32 L2295.06 1480.32 L2295.06 1484.25 L2275.15 1484.25 L2275.15 1480.32 Z\" fill=\"#000000\" fill-rule=\"evenodd\" fill-opacity=\"1\" /><path clip-path=\"url(#clip6200)\" d=\"M 0 0 M2307.1 1449.69 L2311.03 1449.69 L2298.99 1488.65 L2295.06 1488.65 L2307.1 1449.69 Z\" fill=\"#000000\" fill-rule=\"evenodd\" fill-opacity=\"1\" /><path clip-path=\"url(#clip6200)\" d=\"M 0 0 M2316.91 1480.32 L2324.55 1480.32 L2324.55 1453.95 L2316.24 1455.62 L2316.24 1451.36 L2324.5 1449.69 L2329.18 1449.69 L2329.18 1480.32 L2336.82 1480.32 L2336.82 1484.25 L2316.91 1484.25 L2316.91 1480.32 Z\" fill=\"#000000\" fill-rule=\"evenodd\" fill-opacity=\"1\" /><path clip-path=\"url(#clip6200)\" d=\"M 0 0 M2340.71 1449.69 L2362.93 1449.69 L2362.93 1451.68 L2350.38 1484.25 L2345.5 1484.25 L2357.3 1453.63 L2340.71 1453.63 L2340.71 1449.69 Z\" fill=\"#000000\" fill-rule=\"evenodd\" fill-opacity=\"1\" /><path clip-path=\"url(#clip6200)\" d=\"M 0 0 M2467.31 1449.69 L2485.67 1449.69 L2485.67 1453.63 L2471.6 1453.63 L2471.6 1462.1 Q2472.62 1461.75 2473.63 1461.59 Q2474.65 1461.4 2475.67 1461.4 Q2481.46 1461.4 2484.84 1464.58 Q2488.22 1467.75 2488.22 1473.16 Q2488.22 1478.74 2484.75 1481.84 Q2481.27 1484.92 2474.95 1484.92 Q2472.78 1484.92 2470.51 1484.55 Q2468.26 1484.18 2465.86 1483.44 L2465.86 1478.74 Q2467.94 1479.88 2470.16 1480.43 Q2472.38 1480.99 2474.86 1480.99 Q2478.87 1480.99 2481.2 1478.88 Q2483.54 1476.78 2483.54 1473.16 Q2483.54 1469.55 2481.2 1467.45 Q2478.87 1465.34 2474.86 1465.34 Q2472.99 1465.34 2471.11 1465.76 Q2469.26 1466.17 2467.31 1467.05 L2467.31 1449.69 Z\" fill=\"#000000\" fill-rule=\"evenodd\" fill-opacity=\"1\" /><path clip-path=\"url(#clip6200)\" d=\"M 0 0 M2500.25 1449.69 L2504.19 1449.69 L2492.15 1488.65 L2488.22 1488.65 L2500.25 1449.69 Z\" fill=\"#000000\" fill-rule=\"evenodd\" fill-opacity=\"1\" /><path clip-path=\"url(#clip6200)\" d=\"M 0 0 M2510.07 1480.32 L2517.71 1480.32 L2517.71 1453.95 L2509.4 1455.62 L2509.4 1451.36 L2517.66 1449.69 L2522.34 1449.69 L2522.34 1480.32 L2529.98 1480.32 L2529.98 1484.25 L2510.07 1484.25 L2510.07 1480.32 Z\" fill=\"#000000\" fill-rule=\"evenodd\" fill-opacity=\"1\" /><path clip-path=\"url(#clip6200)\" d=\"M 0 0 M2542.01 1449.69 L2545.95 1449.69 L2533.91 1488.65 L2529.98 1488.65 L2542.01 1449.69 Z\" fill=\"#000000\" fill-rule=\"evenodd\" fill-opacity=\"1\" /><path clip-path=\"url(#clip6200)\" d=\"M 0 0 M2551.83 1480.32 L2559.47 1480.32 L2559.47 1453.95 L2551.16 1455.62 L2551.16 1451.36 L2559.42 1449.69 L2564.1 1449.69 L2564.1 1480.32 L2571.74 1480.32 L2571.74 1484.25 L2551.83 1484.25 L2551.83 1480.32 Z\" fill=\"#000000\" fill-rule=\"evenodd\" fill-opacity=\"1\" /><path clip-path=\"url(#clip6200)\" d=\"M 0 0 M2586.8 1467.84 Q2583.47 1467.84 2581.55 1469.62 Q2579.65 1471.4 2579.65 1474.53 Q2579.65 1477.65 2581.55 1479.44 Q2583.47 1481.22 2586.8 1481.22 Q2590.14 1481.22 2592.06 1479.44 Q2593.98 1477.63 2593.98 1474.53 Q2593.98 1471.4 2592.06 1469.62 Q2590.16 1467.84 2586.8 1467.84 M2582.13 1465.85 Q2579.12 1465.11 2577.43 1463.05 Q2575.76 1460.99 2575.76 1458.03 Q2575.76 1453.88 2578.7 1451.47 Q2581.67 1449.07 2586.8 1449.07 Q2591.97 1449.07 2594.91 1451.47 Q2597.85 1453.88 2597.85 1458.03 Q2597.85 1460.99 2596.16 1463.05 Q2594.49 1465.11 2591.5 1465.85 Q2594.88 1466.64 2596.76 1468.93 Q2598.66 1471.22 2598.66 1474.53 Q2598.66 1479.55 2595.58 1482.24 Q2592.52 1484.92 2586.8 1484.92 Q2581.09 1484.92 2578.01 1482.24 Q2574.95 1479.55 2574.95 1474.53 Q2574.95 1471.22 2576.85 1468.93 Q2578.75 1466.64 2582.13 1465.85 M2580.42 1458.46 Q2580.42 1461.15 2582.08 1462.65 Q2583.77 1464.16 2586.8 1464.16 Q2589.81 1464.16 2591.5 1462.65 Q2593.22 1461.15 2593.22 1458.46 Q2593.22 1455.78 2591.5 1454.28 Q2589.81 1452.77 2586.8 1452.77 Q2583.77 1452.77 2582.08 1454.28 Q2580.42 1455.78 2580.42 1458.46 Z\" fill=\"#000000\" fill-rule=\"evenodd\" fill-opacity=\"1\" /><path clip-path=\"url(#clip6200)\" d=\"M 0 0 M2701.85 1480.32 L2709.49 1480.32 L2709.49 1453.95 L2701.18 1455.62 L2701.18 1451.36 L2709.44 1449.69 L2714.12 1449.69 L2714.12 1480.32 L2721.76 1480.32 L2721.76 1484.25 L2701.85 1484.25 L2701.85 1480.32 Z\" fill=\"#000000\" fill-rule=\"evenodd\" fill-opacity=\"1\" /><path clip-path=\"url(#clip6200)\" d=\"M 0 0 M2727.64 1480.32 L2735.28 1480.32 L2735.28 1453.95 L2726.97 1455.62 L2726.97 1451.36 L2735.23 1449.69 L2739.91 1449.69 L2739.91 1480.32 L2747.54 1480.32 L2747.54 1484.25 L2727.64 1484.25 L2727.64 1480.32 Z\" fill=\"#000000\" fill-rule=\"evenodd\" fill-opacity=\"1\" /><path clip-path=\"url(#clip6200)\" d=\"M 0 0 M2759.58 1449.69 L2763.52 1449.69 L2751.48 1488.65 L2747.54 1488.65 L2759.58 1449.69 Z\" fill=\"#000000\" fill-rule=\"evenodd\" fill-opacity=\"1\" /><path clip-path=\"url(#clip6200)\" d=\"M 0 0 M2769.4 1480.32 L2777.03 1480.32 L2777.03 1453.95 L2768.72 1455.62 L2768.72 1451.36 L2776.99 1449.69 L2781.66 1449.69 L2781.66 1480.32 L2789.3 1480.32 L2789.3 1484.25 L2769.4 1484.25 L2769.4 1480.32 Z\" fill=\"#000000\" fill-rule=\"evenodd\" fill-opacity=\"1\" /><path clip-path=\"url(#clip6200)\" d=\"M 0 0 M2801.34 1449.69 L2805.28 1449.69 L2793.24 1488.65 L2789.3 1488.65 L2801.34 1449.69 Z\" fill=\"#000000\" fill-rule=\"evenodd\" fill-opacity=\"1\" /><path clip-path=\"url(#clip6200)\" d=\"M 0 0 M2811.16 1480.32 L2818.79 1480.32 L2818.79 1453.95 L2810.48 1455.62 L2810.48 1451.36 L2818.75 1449.69 L2823.42 1449.69 L2823.42 1480.32 L2831.06 1480.32 L2831.06 1484.25 L2811.16 1484.25 L2811.16 1480.32 Z\" fill=\"#000000\" fill-rule=\"evenodd\" fill-opacity=\"1\" /><path clip-path=\"url(#clip6200)\" d=\"M 0 0 M2846.13 1467.84 Q2842.8 1467.84 2840.88 1469.62 Q2838.98 1471.4 2838.98 1474.53 Q2838.98 1477.65 2840.88 1479.44 Q2842.8 1481.22 2846.13 1481.22 Q2849.47 1481.22 2851.39 1479.44 Q2853.31 1477.63 2853.31 1474.53 Q2853.31 1471.4 2851.39 1469.62 Q2849.49 1467.84 2846.13 1467.84 M2841.46 1465.85 Q2838.45 1465.11 2836.76 1463.05 Q2835.09 1460.99 2835.09 1458.03 Q2835.09 1453.88 2838.03 1451.47 Q2840.99 1449.07 2846.13 1449.07 Q2851.29 1449.07 2854.23 1451.47 Q2857.17 1453.88 2857.17 1458.03 Q2857.17 1460.99 2855.48 1463.05 Q2853.82 1465.11 2850.83 1465.85 Q2854.21 1466.64 2856.09 1468.93 Q2857.98 1471.22 2857.98 1474.53 Q2857.98 1479.55 2854.9 1482.24 Q2851.85 1484.92 2846.13 1484.92 Q2840.41 1484.92 2837.34 1482.24 Q2834.28 1479.55 2834.28 1474.53 Q2834.28 1471.22 2836.18 1468.93 Q2838.08 1466.64 2841.46 1465.85 M2839.74 1458.46 Q2839.74 1461.15 2841.41 1462.65 Q2843.1 1464.16 2846.13 1464.16 Q2849.14 1464.16 2850.83 1462.65 Q2852.54 1461.15 2852.54 1458.46 Q2852.54 1455.78 2850.83 1454.28 Q2849.14 1452.77 2846.13 1452.77 Q2843.1 1452.77 2841.41 1454.28 Q2839.74 1455.78 2839.74 1458.46 Z\" fill=\"#000000\" fill-rule=\"evenodd\" fill-opacity=\"1\" /><path clip-path=\"url(#clip6200)\" d=\"M 0 0 M2962.01 1449.69 L2980.37 1449.69 L2980.37 1453.63 L2966.29 1453.63 L2966.29 1462.1 Q2967.31 1461.75 2968.33 1461.59 Q2969.35 1461.4 2970.37 1461.4 Q2976.15 1461.4 2979.53 1464.58 Q2982.91 1467.75 2982.91 1473.16 Q2982.91 1478.74 2979.44 1481.84 Q2975.97 1484.92 2969.65 1484.92 Q2967.47 1484.92 2965.2 1484.55 Q2962.96 1484.18 2960.55 1483.44 L2960.55 1478.74 Q2962.64 1479.88 2964.86 1480.43 Q2967.08 1480.99 2969.56 1480.99 Q2973.56 1480.99 2975.9 1478.88 Q2978.24 1476.78 2978.24 1473.16 Q2978.24 1469.55 2975.9 1467.45 Q2973.56 1465.34 2969.56 1465.34 Q2967.68 1465.34 2965.81 1465.76 Q2963.95 1466.17 2962.01 1467.05 L2962.01 1449.69 Z\" fill=\"#000000\" fill-rule=\"evenodd\" fill-opacity=\"1\" /><path clip-path=\"url(#clip6200)\" d=\"M 0 0 M2994.95 1449.69 L2998.89 1449.69 L2986.85 1488.65 L2982.91 1488.65 L2994.95 1449.69 Z\" fill=\"#000000\" fill-rule=\"evenodd\" fill-opacity=\"1\" /><path clip-path=\"url(#clip6200)\" d=\"M 0 0 M3004.76 1480.32 L3012.4 1480.32 L3012.4 1453.95 L3004.09 1455.62 L3004.09 1451.36 L3012.36 1449.69 L3017.03 1449.69 L3017.03 1480.32 L3024.67 1480.32 L3024.67 1484.25 L3004.76 1484.25 L3004.76 1480.32 Z\" fill=\"#000000\" fill-rule=\"evenodd\" fill-opacity=\"1\" /><path clip-path=\"url(#clip6200)\" d=\"M 0 0 M3036.71 1449.69 L3040.64 1449.69 L3028.61 1488.65 L3024.67 1488.65 L3036.71 1449.69 Z\" fill=\"#000000\" fill-rule=\"evenodd\" fill-opacity=\"1\" /><path clip-path=\"url(#clip6200)\" d=\"M 0 0 M3046.52 1480.32 L3054.16 1480.32 L3054.16 1453.95 L3045.85 1455.62 L3045.85 1451.36 L3054.12 1449.69 L3058.79 1449.69 L3058.79 1480.32 L3066.43 1480.32 L3066.43 1484.25 L3046.52 1484.25 L3046.52 1480.32 Z\" fill=\"#000000\" fill-rule=\"evenodd\" fill-opacity=\"1\" /><path clip-path=\"url(#clip6200)\" d=\"M 0 0 M3071.64 1483.53 L3071.64 1479.28 Q3073.4 1480.11 3075.2 1480.55 Q3077.01 1480.99 3078.75 1480.99 Q3083.38 1480.99 3085.81 1477.89 Q3088.26 1474.76 3088.61 1468.42 Q3087.26 1470.41 3085.2 1471.47 Q3083.14 1472.54 3080.64 1472.54 Q3075.46 1472.54 3072.43 1469.41 Q3069.42 1466.27 3069.42 1460.83 Q3069.42 1455.5 3072.57 1452.28 Q3075.71 1449.07 3080.94 1449.07 Q3086.94 1449.07 3090.09 1453.67 Q3093.26 1458.26 3093.26 1467.01 Q3093.26 1475.18 3089.37 1480.06 Q3085.51 1484.92 3078.95 1484.92 Q3077.19 1484.92 3075.39 1484.58 Q3073.58 1484.23 3071.64 1483.53 M3080.94 1468.88 Q3084.09 1468.88 3085.92 1466.73 Q3087.77 1464.58 3087.77 1460.83 Q3087.77 1457.1 3085.92 1454.95 Q3084.09 1452.77 3080.94 1452.77 Q3077.8 1452.77 3075.94 1454.95 Q3074.12 1457.1 3074.12 1460.83 Q3074.12 1464.58 3075.94 1466.73 Q3077.8 1468.88 3080.94 1468.88 Z\" fill=\"#000000\" fill-rule=\"evenodd\" fill-opacity=\"1\" /><path clip-path=\"url(#clip6200)\" d=\"M 0 0 M3196.55 1480.32 L3204.18 1480.32 L3204.18 1453.95 L3195.87 1455.62 L3195.87 1451.36 L3204.14 1449.69 L3208.81 1449.69 L3208.81 1480.32 L3216.45 1480.32 L3216.45 1484.25 L3196.55 1484.25 L3196.55 1480.32 Z\" fill=\"#000000\" fill-rule=\"evenodd\" fill-opacity=\"1\" /><path clip-path=\"url(#clip6200)\" d=\"M 0 0 M3222.33 1480.32 L3229.97 1480.32 L3229.97 1453.95 L3221.66 1455.62 L3221.66 1451.36 L3229.93 1449.69 L3234.6 1449.69 L3234.6 1480.32 L3242.24 1480.32 L3242.24 1484.25 L3222.33 1484.25 L3222.33 1480.32 Z\" fill=\"#000000\" fill-rule=\"evenodd\" fill-opacity=\"1\" /><path clip-path=\"url(#clip6200)\" d=\"M 0 0 M3254.28 1449.69 L3258.21 1449.69 L3246.17 1488.65 L3242.24 1488.65 L3254.28 1449.69 Z\" fill=\"#000000\" fill-rule=\"evenodd\" fill-opacity=\"1\" /><path clip-path=\"url(#clip6200)\" d=\"M 0 0 M3264.09 1480.32 L3271.73 1480.32 L3271.73 1453.95 L3263.42 1455.62 L3263.42 1451.36 L3271.68 1449.69 L3276.36 1449.69 L3276.36 1480.32 L3284 1480.32 L3284 1484.25 L3264.09 1484.25 L3264.09 1480.32 Z\" fill=\"#000000\" fill-rule=\"evenodd\" fill-opacity=\"1\" /><path clip-path=\"url(#clip6200)\" d=\"M 0 0 M3296.04 1449.69 L3299.97 1449.69 L3287.93 1488.65 L3284 1488.65 L3296.04 1449.69 Z\" fill=\"#000000\" fill-rule=\"evenodd\" fill-opacity=\"1\" /><path clip-path=\"url(#clip6200)\" d=\"M 0 0 M3305.85 1480.32 L3313.49 1480.32 L3313.49 1453.95 L3305.18 1455.62 L3305.18 1451.36 L3313.44 1449.69 L3318.12 1449.69 L3318.12 1480.32 L3325.76 1480.32 L3325.76 1484.25 L3305.85 1484.25 L3305.85 1480.32 Z\" fill=\"#000000\" fill-rule=\"evenodd\" fill-opacity=\"1\" /><path clip-path=\"url(#clip6200)\" d=\"M 0 0 M3330.97 1483.53 L3330.97 1479.28 Q3332.73 1480.11 3334.53 1480.55 Q3336.34 1480.99 3338.07 1480.99 Q3342.7 1480.99 3345.13 1477.89 Q3347.59 1474.76 3347.93 1468.42 Q3346.59 1470.41 3344.53 1471.47 Q3342.47 1472.54 3339.97 1472.54 Q3334.79 1472.54 3331.75 1469.41 Q3328.74 1466.27 3328.74 1460.83 Q3328.74 1455.5 3331.89 1452.28 Q3335.04 1449.07 3340.27 1449.07 Q3346.27 1449.07 3349.42 1453.67 Q3352.59 1458.26 3352.59 1467.01 Q3352.59 1475.18 3348.7 1480.06 Q3344.83 1484.92 3338.28 1484.92 Q3336.52 1484.92 3334.72 1484.58 Q3332.91 1484.23 3330.97 1483.53 M3340.27 1468.88 Q3343.42 1468.88 3345.25 1466.73 Q3347.1 1464.58 3347.1 1460.83 Q3347.1 1457.1 3345.25 1454.95 Q3343.42 1452.77 3340.27 1452.77 Q3337.12 1452.77 3335.27 1454.95 Q3333.44 1457.1 3333.44 1460.83 Q3333.44 1464.58 3335.27 1466.73 Q3337.12 1468.88 3340.27 1468.88 Z\" fill=\"#000000\" fill-rule=\"evenodd\" fill-opacity=\"1\" /><path clip-path=\"url(#clip6200)\" d=\"M 0 0 M3456.75 1449.69 L3475.11 1449.69 L3475.11 1453.63 L3461.03 1453.63 L3461.03 1462.1 Q3462.05 1461.75 3463.07 1461.59 Q3464.09 1461.4 3465.11 1461.4 Q3470.9 1461.4 3474.28 1464.58 Q3477.65 1467.75 3477.65 1473.16 Q3477.65 1478.74 3474.18 1481.84 Q3470.71 1484.92 3464.39 1484.92 Q3462.22 1484.92 3459.95 1484.55 Q3457.7 1484.18 3455.29 1483.44 L3455.29 1478.74 Q3457.38 1479.88 3459.6 1480.43 Q3461.82 1480.99 3464.3 1480.99 Q3468.3 1480.99 3470.64 1478.88 Q3472.98 1476.78 3472.98 1473.16 Q3472.98 1469.55 3470.64 1467.45 Q3468.3 1465.34 3464.3 1465.34 Q3462.42 1465.34 3460.55 1465.76 Q3458.7 1466.17 3456.75 1467.05 L3456.75 1449.69 Z\" fill=\"#000000\" fill-rule=\"evenodd\" fill-opacity=\"1\" /><path clip-path=\"url(#clip6200)\" d=\"M 0 0 M3489.69 1449.69 L3493.63 1449.69 L3481.59 1488.65 L3477.65 1488.65 L3489.69 1449.69 Z\" fill=\"#000000\" fill-rule=\"evenodd\" fill-opacity=\"1\" /><path clip-path=\"url(#clip6200)\" d=\"M 0 0 M3499.51 1480.32 L3507.15 1480.32 L3507.15 1453.95 L3498.84 1455.62 L3498.84 1451.36 L3507.1 1449.69 L3511.77 1449.69 L3511.77 1480.32 L3519.41 1480.32 L3519.41 1484.25 L3499.51 1484.25 L3499.51 1480.32 Z\" fill=\"#000000\" fill-rule=\"evenodd\" fill-opacity=\"1\" /><path clip-path=\"url(#clip6200)\" d=\"M 0 0 M3531.45 1449.69 L3535.39 1449.69 L3523.35 1488.65 L3519.41 1488.65 L3531.45 1449.69 Z\" fill=\"#000000\" fill-rule=\"evenodd\" fill-opacity=\"1\" /><path clip-path=\"url(#clip6200)\" d=\"M 0 0 M3544.48 1480.32 L3560.8 1480.32 L3560.8 1484.25 L3538.86 1484.25 L3538.86 1480.32 Q3541.52 1477.56 3546.1 1472.93 Q3550.71 1468.28 3551.89 1466.94 Q3554.14 1464.41 3555.02 1462.68 Q3555.92 1460.92 3555.92 1459.23 Q3555.92 1456.47 3553.97 1454.74 Q3552.05 1453 3548.95 1453 Q3546.75 1453 3544.3 1453.77 Q3541.87 1454.53 3539.09 1456.08 L3539.09 1451.36 Q3541.91 1450.22 3544.37 1449.65 Q3546.82 1449.07 3548.86 1449.07 Q3554.23 1449.07 3557.42 1451.75 Q3560.62 1454.44 3560.62 1458.93 Q3560.62 1461.06 3559.81 1462.98 Q3559.02 1464.88 3556.91 1467.47 Q3556.33 1468.14 3553.23 1471.36 Q3550.13 1474.55 3544.48 1480.32 Z\" fill=\"#000000\" fill-rule=\"evenodd\" fill-opacity=\"1\" /><path clip-path=\"url(#clip6200)\" d=\"M 0 0 M3575.87 1452.77 Q3572.26 1452.77 3570.43 1456.34 Q3568.63 1459.88 3568.63 1467.01 Q3568.63 1474.11 3570.43 1477.68 Q3572.26 1481.22 3575.87 1481.22 Q3579.51 1481.22 3581.31 1477.68 Q3583.14 1474.11 3583.14 1467.01 Q3583.14 1459.88 3581.31 1456.34 Q3579.51 1452.77 3575.87 1452.77 M3575.87 1449.07 Q3581.68 1449.07 3584.74 1453.67 Q3587.82 1458.26 3587.82 1467.01 Q3587.82 1475.73 3584.74 1480.34 Q3581.68 1484.92 3575.87 1484.92 Q3570.06 1484.92 3566.98 1480.34 Q3563.93 1475.73 3563.93 1467.01 Q3563.93 1458.26 3566.98 1453.67 Q3570.06 1449.07 3575.87 1449.07 Z\" fill=\"#000000\" fill-rule=\"evenodd\" fill-opacity=\"1\" /><path clip-path=\"url(#clip6200)\" d=\"M 0 0 M3691.47 1480.32 L3699.11 1480.32 L3699.11 1453.95 L3690.8 1455.62 L3690.8 1451.36 L3699.07 1449.69 L3703.74 1449.69 L3703.74 1480.32 L3711.38 1480.32 L3711.38 1484.25 L3691.47 1484.25 L3691.47 1480.32 Z\" fill=\"#000000\" fill-rule=\"evenodd\" fill-opacity=\"1\" /><path clip-path=\"url(#clip6200)\" d=\"M 0 0 M3717.26 1480.32 L3724.9 1480.32 L3724.9 1453.95 L3716.59 1455.62 L3716.59 1451.36 L3724.85 1449.69 L3729.53 1449.69 L3729.53 1480.32 L3737.17 1480.32 L3737.17 1484.25 L3717.26 1484.25 L3717.26 1480.32 Z\" fill=\"#000000\" fill-rule=\"evenodd\" fill-opacity=\"1\" /><path clip-path=\"url(#clip6200)\" d=\"M 0 0 M3749.2 1449.69 L3753.14 1449.69 L3741.1 1488.65 L3737.17 1488.65 L3749.2 1449.69 Z\" fill=\"#000000\" fill-rule=\"evenodd\" fill-opacity=\"1\" /><path clip-path=\"url(#clip6200)\" d=\"M 0 0 M3762.24 1480.32 L3778.56 1480.32 L3778.56 1484.25 L3756.61 1484.25 L3756.61 1480.32 Q3759.27 1477.56 3763.86 1472.93 Q3768.46 1468.28 3769.64 1466.94 Q3771.89 1464.41 3772.77 1462.68 Q3773.67 1460.92 3773.67 1459.23 Q3773.67 1456.47 3771.73 1454.74 Q3769.81 1453 3766.7 1453 Q3764.5 1453 3762.05 1453.77 Q3759.62 1454.53 3756.84 1456.08 L3756.84 1451.36 Q3759.67 1450.22 3762.12 1449.65 Q3764.57 1449.07 3766.61 1449.07 Q3771.98 1449.07 3775.18 1451.75 Q3778.37 1454.44 3778.37 1458.93 Q3778.37 1461.06 3777.56 1462.98 Q3776.77 1464.88 3774.67 1467.47 Q3774.09 1468.14 3770.99 1471.36 Q3767.88 1474.55 3762.24 1480.32 Z\" fill=\"#000000\" fill-rule=\"evenodd\" fill-opacity=\"1\" /><path clip-path=\"url(#clip6200)\" d=\"M 0 0 M3790.59 1449.69 L3794.53 1449.69 L3782.49 1488.65 L3778.56 1488.65 L3790.59 1449.69 Z\" fill=\"#000000\" fill-rule=\"evenodd\" fill-opacity=\"1\" /><path clip-path=\"url(#clip6200)\" d=\"M 0 0 M3803.62 1480.32 L3819.94 1480.32 L3819.94 1484.25 L3798 1484.25 L3798 1480.32 Q3800.66 1477.56 3805.25 1472.93 Q3809.85 1468.28 3811.03 1466.94 Q3813.28 1464.41 3814.16 1462.68 Q3815.06 1460.92 3815.06 1459.23 Q3815.06 1456.47 3813.12 1454.74 Q3811.19 1453 3808.09 1453 Q3805.89 1453 3803.44 1453.77 Q3801.01 1454.53 3798.23 1456.08 L3798.23 1451.36 Q3801.06 1450.22 3803.51 1449.65 Q3805.96 1449.07 3808 1449.07 Q3813.37 1449.07 3816.56 1451.75 Q3819.76 1454.44 3819.76 1458.93 Q3819.76 1461.06 3818.95 1462.98 Q3818.16 1464.88 3816.06 1467.47 Q3815.48 1468.14 3812.37 1471.36 Q3809.27 1474.55 3803.62 1480.32 Z\" fill=\"#000000\" fill-rule=\"evenodd\" fill-opacity=\"1\" /><path clip-path=\"url(#clip6200)\" d=\"M 0 0 M3835.01 1452.77 Q3831.4 1452.77 3829.57 1456.34 Q3827.77 1459.88 3827.77 1467.01 Q3827.77 1474.11 3829.57 1477.68 Q3831.4 1481.22 3835.01 1481.22 Q3838.65 1481.22 3840.45 1477.68 Q3842.28 1474.11 3842.28 1467.01 Q3842.28 1459.88 3840.45 1456.34 Q3838.65 1452.77 3835.01 1452.77 M3835.01 1449.07 Q3840.82 1449.07 3843.88 1453.67 Q3846.96 1458.26 3846.96 1467.01 Q3846.96 1475.73 3843.88 1480.34 Q3840.82 1484.92 3835.01 1484.92 Q3829.2 1484.92 3826.12 1480.34 Q3823.07 1475.73 3823.07 1467.01 Q3823.07 1458.26 3826.12 1453.67 Q3829.2 1449.07 3835.01 1449.07 Z\" fill=\"#000000\" fill-rule=\"evenodd\" fill-opacity=\"1\" /><path clip-path=\"url(#clip6200)\" d=\"M 0 0 M129.116 1283.95 Q132.472 1284.66 134.347 1286.93 Q136.245 1289.2 136.245 1292.54 Q136.245 1297.65 132.727 1300.45 Q129.208 1303.25 122.727 1303.25 Q120.551 1303.25 118.236 1302.81 Q115.944 1302.4 113.491 1301.54 L113.491 1297.03 Q115.435 1298.16 117.75 1298.74 Q120.065 1299.32 122.588 1299.32 Q126.986 1299.32 129.278 1297.58 Q131.592 1295.85 131.592 1292.54 Q131.592 1289.48 129.44 1287.77 Q127.31 1286.03 123.491 1286.03 L119.463 1286.03 L119.463 1282.19 L123.676 1282.19 Q127.125 1282.19 128.954 1280.82 Q130.782 1279.43 130.782 1276.84 Q130.782 1274.18 128.884 1272.77 Q127.009 1271.33 123.491 1271.33 Q121.569 1271.33 119.37 1271.75 Q117.171 1272.16 114.532 1273.04 L114.532 1268.88 Q117.194 1268.14 119.509 1267.77 Q121.847 1267.4 123.907 1267.4 Q129.231 1267.4 132.333 1269.83 Q135.435 1272.23 135.435 1276.35 Q135.435 1279.22 133.792 1281.22 Q132.148 1283.18 129.116 1283.95 Z\" fill=\"#000000\" fill-rule=\"evenodd\" fill-opacity=\"1\" /><path clip-path=\"url(#clip6200)\" d=\"M 0 0 M151.315 1271.1 Q147.703 1271.1 145.875 1274.66 Q144.069 1278.21 144.069 1285.34 Q144.069 1292.44 145.875 1296.01 Q147.703 1299.55 151.315 1299.55 Q154.949 1299.55 156.754 1296.01 Q158.583 1292.44 158.583 1285.34 Q158.583 1278.21 156.754 1274.66 Q154.949 1271.1 151.315 1271.1 M151.315 1267.4 Q157.125 1267.4 160.18 1272 Q163.259 1276.59 163.259 1285.34 Q163.259 1294.06 160.18 1298.67 Q157.125 1303.25 151.315 1303.25 Q145.504 1303.25 142.426 1298.67 Q139.37 1294.06 139.37 1285.34 Q139.37 1276.59 142.426 1272 Q145.504 1267.4 151.315 1267.4 Z\" fill=\"#000000\" fill-rule=\"evenodd\" fill-opacity=\"1\" /><path clip-path=\"url(#clip6200)\" d=\"M 0 0 M126.662 876.348 L114.856 894.797 L126.662 894.797 L126.662 876.348 M125.435 872.274 L131.315 872.274 L131.315 894.797 L136.245 894.797 L136.245 898.685 L131.315 898.685 L131.315 906.834 L126.662 906.834 L126.662 898.685 L111.06 898.685 L111.06 894.172 L125.435 872.274 Z\" fill=\"#000000\" fill-rule=\"evenodd\" fill-opacity=\"1\" /><path clip-path=\"url(#clip6200)\" d=\"M 0 0 M151.315 875.352 Q147.703 875.352 145.875 878.917 Q144.069 882.459 144.069 889.588 Q144.069 896.695 145.875 900.26 Q147.703 903.801 151.315 903.801 Q154.949 903.801 156.754 900.26 Q158.583 896.695 158.583 889.588 Q158.583 882.459 156.754 878.917 Q154.949 875.352 151.315 875.352 M151.315 871.649 Q157.125 871.649 160.18 876.255 Q163.259 880.838 163.259 889.588 Q163.259 898.315 160.18 902.922 Q157.125 907.505 151.315 907.505 Q145.504 907.505 142.426 902.922 Q139.37 898.315 139.37 889.588 Q139.37 880.838 142.426 876.255 Q145.504 871.649 151.315 871.649 Z\" fill=\"#000000\" fill-rule=\"evenodd\" fill-opacity=\"1\" /><path clip-path=\"url(#clip6200)\" d=\"M 0 0 M115.343 476.526 L133.699 476.526 L133.699 480.461 L119.625 480.461 L119.625 488.933 Q120.643 488.586 121.662 488.424 Q122.68 488.239 123.699 488.239 Q129.486 488.239 132.866 491.41 Q136.245 494.581 136.245 499.998 Q136.245 505.577 132.773 508.678 Q129.301 511.757 122.981 511.757 Q120.805 511.757 118.537 511.387 Q116.292 511.016 113.884 510.276 L113.884 505.577 Q115.968 506.711 118.19 507.266 Q120.412 507.822 122.889 507.822 Q126.893 507.822 129.231 505.716 Q131.569 503.609 131.569 499.998 Q131.569 496.387 129.231 494.28 Q126.893 492.174 122.889 492.174 Q121.014 492.174 119.139 492.591 Q117.287 493.007 115.343 493.887 L115.343 476.526 Z\" fill=\"#000000\" fill-rule=\"evenodd\" fill-opacity=\"1\" /><path clip-path=\"url(#clip6200)\" d=\"M 0 0 M151.315 479.605 Q147.703 479.605 145.875 483.169 Q144.069 486.711 144.069 493.841 Q144.069 500.947 145.875 504.512 Q147.703 508.053 151.315 508.053 Q154.949 508.053 156.754 504.512 Q158.583 500.947 158.583 493.841 Q158.583 486.711 156.754 483.169 Q154.949 479.605 151.315 479.605 M151.315 475.901 Q157.125 475.901 160.18 480.507 Q163.259 485.091 163.259 493.841 Q163.259 502.567 160.18 507.174 Q157.125 511.757 151.315 511.757 Q145.504 511.757 142.426 507.174 Q139.37 502.567 139.37 493.841 Q139.37 485.091 142.426 480.507 Q145.504 475.901 151.315 475.901 Z\" fill=\"#000000\" fill-rule=\"evenodd\" fill-opacity=\"1\" /><path clip-path=\"url(#clip6200)\" d=\"M 0 0 M124.717 96.1947 Q121.569 96.1947 119.718 98.3475 Q117.889 100.5 117.889 104.25 Q117.889 107.977 119.718 110.153 Q121.569 112.306 124.717 112.306 Q127.866 112.306 129.694 110.153 Q131.546 107.977 131.546 104.25 Q131.546 100.5 129.694 98.3475 Q127.866 96.1947 124.717 96.1947 M134 81.542 L134 85.8012 Q132.241 84.9679 130.435 84.5281 Q128.653 84.0883 126.893 84.0883 Q122.264 84.0883 119.81 87.2133 Q117.38 90.3382 117.032 96.6576 Q118.398 94.6438 120.458 93.579 Q122.518 92.491 124.995 92.491 Q130.204 92.491 133.213 95.6623 Q136.245 98.8104 136.245 104.25 Q136.245 109.574 133.097 112.792 Q129.949 116.009 124.717 116.009 Q118.722 116.009 115.551 111.426 Q112.38 106.82 112.38 98.0928 Q112.38 89.8984 116.268 85.0373 Q120.157 80.1531 126.708 80.1531 Q128.467 80.1531 130.25 80.5003 Q132.055 80.8475 134 81.542 Z\" fill=\"#000000\" fill-rule=\"evenodd\" fill-opacity=\"1\" /><path clip-path=\"url(#clip6200)\" d=\"M 0 0 M151.315 83.8568 Q147.703 83.8568 145.875 87.4216 Q144.069 90.9632 144.069 98.0928 Q144.069 105.199 145.875 108.764 Q147.703 112.306 151.315 112.306 Q154.949 112.306 156.754 108.764 Q158.583 105.199 158.583 98.0928 Q158.583 90.9632 156.754 87.4216 Q154.949 83.8568 151.315 83.8568 M151.315 80.1531 Q157.125 80.1531 160.18 84.7596 Q163.259 89.3429 163.259 98.0928 Q163.259 106.82 160.18 111.426 Q157.125 116.009 151.315 116.009 Q145.504 116.009 142.426 111.426 Q139.37 106.82 139.37 98.0928 Q139.37 89.3429 142.426 84.7596 Q145.504 80.1531 151.315 80.1531 Z\" fill=\"#000000\" fill-rule=\"evenodd\" fill-opacity=\"1\" /><path clip-path=\"url(#clip6200)\" d=\"M 0 0 M1983.37 1525.47 L1983.37 1535.6 L1995.43 1535.6 L1995.43 1540.15 L1983.37 1540.15 L1983.37 1559.5 Q1983.37 1563.86 1984.55 1565.1 Q1985.76 1566.34 1989.42 1566.34 L1995.43 1566.34 L1995.43 1571.24 L1989.42 1571.24 Q1982.64 1571.24 1980.06 1568.73 Q1977.48 1566.18 1977.48 1559.5 L1977.48 1540.15 L1973.19 1540.15 L1973.19 1535.6 L1977.48 1535.6 L1977.48 1525.47 L1983.37 1525.47 Z\" fill=\"#000000\" fill-rule=\"evenodd\" fill-opacity=\"1\" /><path clip-path=\"url(#clip6200)\" d=\"M 0 0 M2001.58 1535.6 L2007.43 1535.6 L2007.43 1571.24 L2001.58 1571.24 L2001.58 1535.6 M2001.58 1521.72 L2007.43 1521.72 L2007.43 1529.13 L2001.58 1529.13 L2001.58 1521.72 Z\" fill=\"#000000\" fill-rule=\"evenodd\" fill-opacity=\"1\" /><path clip-path=\"url(#clip6200)\" d=\"M 0 0 M2041.33 1542.44 Q2043.53 1538.49 2046.58 1536.61 Q2049.64 1534.74 2053.78 1534.74 Q2059.35 1534.74 2062.37 1538.65 Q2065.39 1542.53 2065.39 1549.73 L2065.39 1571.24 L2059.51 1571.24 L2059.51 1549.92 Q2059.51 1544.79 2057.69 1542.31 Q2055.88 1539.83 2052.15 1539.83 Q2047.6 1539.83 2044.96 1542.85 Q2042.32 1545.88 2042.32 1551.1 L2042.32 1571.24 L2036.43 1571.24 L2036.43 1549.92 Q2036.43 1544.76 2034.62 1542.31 Q2032.8 1539.83 2029.01 1539.83 Q2024.53 1539.83 2021.88 1542.88 Q2019.24 1545.91 2019.24 1551.1 L2019.24 1571.24 L2013.35 1571.24 L2013.35 1535.6 L2019.24 1535.6 L2019.24 1541.13 Q2021.25 1537.86 2024.05 1536.3 Q2026.85 1534.74 2030.7 1534.74 Q2034.58 1534.74 2037.29 1536.71 Q2040.03 1538.68 2041.33 1542.44 Z\" fill=\"#000000\" fill-rule=\"evenodd\" fill-opacity=\"1\" /><path clip-path=\"url(#clip6200)\" d=\"M 0 0 M2102.03 1551.96 L2102.03 1554.82 L2075.1 1554.82 Q2075.48 1560.87 2078.73 1564.05 Q2082.01 1567.2 2087.83 1567.2 Q2091.21 1567.2 2094.36 1566.37 Q2097.54 1565.55 2100.66 1563.89 L2100.66 1569.43 Q2097.51 1570.77 2094.2 1571.47 Q2090.89 1572.17 2087.48 1572.17 Q2078.95 1572.17 2073.96 1567.2 Q2068.99 1562.24 2068.99 1553.77 Q2068.99 1545.02 2073.7 1539.89 Q2078.44 1534.74 2086.46 1534.74 Q2093.66 1534.74 2097.83 1539.38 Q2102.03 1544 2102.03 1551.96 M2096.17 1550.24 Q2096.11 1545.43 2093.47 1542.57 Q2090.86 1539.7 2086.53 1539.7 Q2081.63 1539.7 2078.67 1542.47 Q2075.74 1545.24 2075.29 1550.27 L2096.17 1550.24 Z\" fill=\"#000000\" fill-rule=\"evenodd\" fill-opacity=\"1\" /><path clip-path=\"url(#clip6200)\" d=\"M 0 0 M21.9562 871.613 L21.9562 865.757 L57.6042 865.757 L57.6042 871.613 L21.9562 871.613 M8.07896 871.613 L8.07896 865.757 L15.495 865.757 L15.495 871.613 L8.07896 871.613 Z\" fill=\"#000000\" fill-rule=\"evenodd\" fill-opacity=\"1\" /><path clip-path=\"url(#clip6200)\" d=\"M 0 0 M36.0881 829.981 L57.6042 829.981 L57.6042 835.838 L36.279 835.838 Q31.2183 835.838 28.7038 837.811 Q26.1894 839.785 26.1894 843.731 Q26.1894 848.474 29.2131 851.211 Q32.2368 853.948 37.4567 853.948 L57.6042 853.948 L57.6042 859.837 L21.9562 859.837 L21.9562 853.948 L27.4944 853.948 Q24.2797 851.848 22.6883 849.015 Q21.0968 846.15 21.0968 842.426 Q21.0968 836.283 24.9163 833.132 Q28.7038 829.981 36.0881 829.981 Z\" fill=\"#000000\" fill-rule=\"evenodd\" fill-opacity=\"1\" /><path clip-path=\"url(#clip6200)\" d=\"M 0 0 M27.3671 800.381 L8.07896 800.381 L8.07896 794.524 L57.6042 794.524 L57.6042 800.381 L52.257 800.381 Q55.4398 802.227 56.9994 805.06 Q58.5272 807.861 58.5272 811.807 Q58.5272 818.269 53.371 822.343 Q48.2147 826.385 39.812 826.385 Q31.4093 826.385 26.2531 822.343 Q21.0968 818.269 21.0968 811.807 Q21.0968 807.861 22.6564 805.06 Q24.1842 802.227 27.3671 800.381 M39.812 820.337 Q46.2732 820.337 49.9653 817.696 Q53.6256 815.022 53.6256 810.375 Q53.6256 805.728 49.9653 803.054 Q46.2732 800.381 39.812 800.381 Q33.3508 800.381 29.6905 803.054 Q25.9984 805.728 25.9984 810.375 Q25.9984 815.022 29.6905 817.696 Q33.3508 820.337 39.812 820.337 Z\" fill=\"#000000\" fill-rule=\"evenodd\" fill-opacity=\"1\" /><path clip-path=\"url(#clip6200)\" d=\"M 0 0 M21.9562 788.382 L21.9562 782.525 L57.6042 782.525 L57.6042 788.382 L21.9562 788.382 M8.07896 788.382 L8.07896 782.525 L15.495 782.525 L15.495 788.382 L8.07896 788.382 Z\" fill=\"#000000\" fill-rule=\"evenodd\" fill-opacity=\"1\" /><path clip-path=\"url(#clip6200)\" d=\"M 0 0 M23.3248 750.728 L28.7993 750.728 Q27.4307 753.211 26.7623 755.725 Q26.0621 758.208 26.0621 760.754 Q26.0621 766.452 29.6905 769.603 Q33.2872 772.754 39.812 772.754 Q46.3369 772.754 49.9653 769.603 Q53.5619 766.452 53.5619 760.754 Q53.5619 758.208 52.8935 755.725 Q52.1933 753.211 50.8247 750.728 L56.2355 750.728 Q57.3814 753.179 57.9543 755.821 Q58.5272 758.431 58.5272 761.391 Q58.5272 769.444 53.4664 774.186 Q48.4057 778.928 39.812 778.928 Q31.091 778.928 26.0939 774.154 Q21.0968 769.348 21.0968 761.009 Q21.0968 758.304 21.6697 755.725 Q22.2108 753.147 23.3248 750.728 Z\" fill=\"#000000\" fill-rule=\"evenodd\" fill-opacity=\"1\" /><path clip-path=\"url(#clip6200)\" d=\"M 0 0 M39.6847 728.385 Q39.6847 735.483 41.3079 738.22 Q42.9312 740.957 46.8461 740.957 Q49.9653 740.957 51.8114 738.92 Q53.6256 736.851 53.6256 733.318 Q53.6256 728.448 50.1881 725.52 Q46.7188 722.56 40.9897 722.56 L39.6847 722.56 L39.6847 728.385 M37.2657 716.704 L57.6042 716.704 L57.6042 722.56 L52.1933 722.56 Q55.4398 724.565 56.9994 727.557 Q58.5272 730.549 58.5272 734.878 Q58.5272 740.352 55.4716 743.599 Q52.3843 746.813 47.2281 746.813 Q41.2125 746.813 38.1569 742.803 Q35.1014 738.761 35.1014 730.772 L35.1014 722.56 L34.5285 722.56 Q30.4862 722.56 28.2901 725.234 Q26.0621 727.875 26.0621 732.682 Q26.0621 735.737 26.7941 738.634 Q27.5262 741.53 28.9903 744.204 L23.5795 744.204 Q22.3381 740.989 21.7334 737.965 Q21.0968 734.941 21.0968 732.077 Q21.0968 724.343 25.1072 720.523 Q29.1176 716.704 37.2657 716.704 Z\" fill=\"#000000\" fill-rule=\"evenodd\" fill-opacity=\"1\" /><path clip-path=\"url(#clip6200)\" d=\"M 0 0 M11.8347 704.768 L21.9562 704.768 L21.9562 692.705 L26.5077 692.705 L26.5077 704.768 L45.8594 704.768 Q50.2199 704.768 51.4613 703.59 Q52.7026 702.381 52.7026 698.721 L52.7026 692.705 L57.6042 692.705 L57.6042 698.721 Q57.6042 705.5 55.0897 708.078 Q52.5434 710.656 45.8594 710.656 L26.5077 710.656 L26.5077 714.953 L21.9562 714.953 L21.9562 710.656 L11.8347 710.656 L11.8347 704.768 Z\" fill=\"#000000\" fill-rule=\"evenodd\" fill-opacity=\"1\" /><path clip-path=\"url(#clip6200)\" d=\"M 0 0 M26.0621 672.748 Q26.0621 677.459 29.7542 680.196 Q33.4145 682.934 39.812 682.934 Q46.2095 682.934 49.9017 680.228 Q53.5619 677.491 53.5619 672.748 Q53.5619 668.07 49.8698 665.332 Q46.1777 662.595 39.812 662.595 Q33.4781 662.595 29.786 665.332 Q26.0621 668.07 26.0621 672.748 M21.0968 672.748 Q21.0968 665.11 26.0621 660.749 Q31.0273 656.389 39.812 656.389 Q48.5649 656.389 53.5619 660.749 Q58.5272 665.11 58.5272 672.748 Q58.5272 680.419 53.5619 684.78 Q48.5649 689.108 39.812 689.108 Q31.0273 689.108 26.0621 684.78 Q21.0968 680.419 21.0968 672.748 Z\" fill=\"#000000\" fill-rule=\"evenodd\" fill-opacity=\"1\" /><path clip-path=\"url(#clip6200)\" d=\"M 0 0 M27.4307 629.589 Q26.8578 630.576 26.6032 631.753 Q26.3167 632.899 26.3167 634.3 Q26.3167 639.265 29.5632 641.938 Q32.7779 644.58 38.8253 644.58 L57.6042 644.58 L57.6042 650.468 L21.9562 650.468 L21.9562 644.58 L27.4944 644.58 Q24.2479 642.734 22.6883 639.774 Q21.0968 636.814 21.0968 632.581 Q21.0968 631.976 21.1923 631.244 Q21.256 630.512 21.4151 629.621 L27.4307 629.589 Z\" fill=\"#000000\" fill-rule=\"evenodd\" fill-opacity=\"1\" /><path clip-path=\"url(#clip6200)\" d=\"M 0 0 M23.0065 600.721 L28.5447 600.721 Q27.2716 603.203 26.635 605.877 Q25.9984 608.55 25.9984 611.415 Q25.9984 615.775 27.3352 617.972 Q28.672 620.136 31.3456 620.136 Q33.3826 620.136 34.5603 618.576 Q35.7061 617.017 36.7565 612.306 L37.2021 610.301 Q38.5389 604.062 40.9897 601.453 Q43.4086 598.811 47.7691 598.811 Q52.7344 598.811 55.6308 602.758 Q58.5272 606.672 58.5272 613.547 Q58.5272 616.412 57.9543 619.531 Q57.4132 622.619 56.2992 626.056 L50.2518 626.056 Q51.9387 622.81 52.798 619.658 Q53.6256 616.507 53.6256 613.42 Q53.6256 609.282 52.2251 607.054 Q50.7929 604.826 48.2147 604.826 Q45.8276 604.826 44.5545 606.45 Q43.2813 608.041 42.1037 613.484 L41.6262 615.521 Q40.4804 620.963 38.1251 623.382 Q35.738 625.801 31.6002 625.801 Q26.5713 625.801 23.8341 622.237 Q21.0968 618.672 21.0968 612.115 Q21.0968 608.869 21.5743 606.004 Q22.0517 603.139 23.0065 600.721 Z\" fill=\"#000000\" fill-rule=\"evenodd\" fill-opacity=\"1\" /><polyline clip-path=\"url(#clip6202)\" style=\"stroke:#009af9; stroke-width:4; stroke-opacity:1; fill:none\" points=\"\n",
       "  306.335,367.167 347.556,236.57 388.777,220.74 429.998,402.784 471.218,402.784 512.439,450.274 553.66,307.804 594.881,382.996 636.101,382.996 677.322,169.293 \n",
       "  718.543,173.25 759.764,311.762 800.984,276.145 842.205,299.889 883.426,224.697 924.647,331.549 965.868,438.401 1007.09,493.806 1048.31,561.083 1089.53,426.529 \n",
       "  1130.75,276.145 1171.97,386.954 1213.19,446.316 1254.41,474.018 1295.63,588.785 1336.85,442.359 1378.08,568.998 1419.3,656.062 1460.52,553.168 1501.74,568.998 \n",
       "  1542.96,525.466 1584.18,525.466 1625.4,477.976 1666.62,517.551 1707.84,561.083 1749.06,505.678 1790.28,379.039 1831.5,402.784 1872.72,371.124 1913.95,252.4 \n",
       "  1955.17,327.592 1996.39,141.59 2037.61,414.656 2078.83,355.294 2120.05,208.867 2161.27,288.017 2202.49,102.016 2243.71,86.1857 2284.93,105.973 2326.15,109.931 \n",
       "  2367.37,216.782 2408.59,327.592 2449.82,109.931 2491.04,204.91 2532.26,327.592 2573.48,244.485 2614.7,256.357 2655.92,236.57 2697.14,157.42 2738.36,145.548 \n",
       "  2779.58,224.697 2820.8,161.378 2862.02,248.442 2903.24,276.145 2944.46,402.784 2985.69,196.995 3026.91,398.826 3068.13,347.379 3109.35,315.719 3150.57,426.529 \n",
       "  3191.79,596.7 3233.01,640.233 3274.23,584.828 3315.45,628.36 3356.67,687.722 3397.89,628.36 3439.11,616.488 3480.33,739.169 3521.55,1384.24 3562.78,1202.19 \n",
       "  3604,806.447 3645.22,719.382 3686.44,636.275 3727.66,509.636 3768.88,367.167 \n",
       "  \"/>\n",
       "<path clip-path=\"url(#clip6200)\" d=\"\n",
       "M320.059 342.924 L956.896 342.924 L956.896 221.964 L320.059 221.964  Z\n",
       "  \" fill=\"#ffffff\" fill-rule=\"evenodd\" fill-opacity=\"1\"/>\n",
       "<polyline clip-path=\"url(#clip6200)\" style=\"stroke:#000000; stroke-width:4; stroke-opacity:1; fill:none\" points=\"\n",
       "  320.059,342.924 956.896,342.924 956.896,221.964 320.059,221.964 320.059,342.924 \n",
       "  \"/>\n",
       "<polyline clip-path=\"url(#clip6200)\" style=\"stroke:#009af9; stroke-width:4; stroke-opacity:1; fill:none\" points=\"\n",
       "  359.259,282.444 594.459,282.444 \n",
       "  \"/>\n",
       "<path clip-path=\"url(#clip6200)\" d=\"M 0 0 M649.492 269.771 L643.15 286.97 L655.858 286.97 L649.492 269.771 M646.853 265.164 L652.154 265.164 L665.325 299.724 L660.464 299.724 L657.316 290.858 L641.738 290.858 L638.589 299.724 L633.659 299.724 L646.853 265.164 Z\" fill=\"#000000\" fill-rule=\"evenodd\" fill-opacity=\"1\" /><path clip-path=\"url(#clip6200)\" d=\"M 0 0 M687.617 274.794 L687.617 278.775 Q685.811 277.78 683.983 277.294 Q682.177 276.784 680.325 276.784 Q676.182 276.784 673.89 279.423 Q671.599 282.039 671.599 286.784 Q671.599 291.53 673.89 294.169 Q676.182 296.784 680.325 296.784 Q682.177 296.784 683.983 296.298 Q685.811 295.789 687.617 294.794 L687.617 298.729 Q685.835 299.562 683.913 299.979 Q682.015 300.395 679.862 300.395 Q674.006 300.395 670.557 296.715 Q667.108 293.034 667.108 286.784 Q667.108 280.442 670.58 276.808 Q674.075 273.173 680.14 273.173 Q682.108 273.173 683.983 273.59 Q685.858 273.983 687.617 274.794 Z\" fill=\"#000000\" fill-rule=\"evenodd\" fill-opacity=\"1\" /><path clip-path=\"url(#clip6200)\" d=\"M 0 0 M696.298 266.437 L696.298 273.798 L705.071 273.798 L705.071 277.108 L696.298 277.108 L696.298 291.182 Q696.298 294.354 697.154 295.257 Q698.034 296.159 700.696 296.159 L705.071 296.159 L705.071 299.724 L700.696 299.724 Q695.765 299.724 693.89 297.895 Q692.015 296.044 692.015 291.182 L692.015 277.108 L688.89 277.108 L688.89 273.798 L692.015 273.798 L692.015 266.437 L696.298 266.437 Z\" fill=\"#000000\" fill-rule=\"evenodd\" fill-opacity=\"1\" /><path clip-path=\"url(#clip6200)\" d=\"M 0 0 M709.098 289.493 L709.098 273.798 L713.358 273.798 L713.358 289.331 Q713.358 293.011 714.793 294.863 Q716.228 296.692 719.098 296.692 Q722.547 296.692 724.538 294.493 Q726.552 292.294 726.552 288.497 L726.552 273.798 L730.811 273.798 L730.811 299.724 L726.552 299.724 L726.552 295.743 Q725.001 298.104 722.941 299.261 Q720.904 300.395 718.196 300.395 Q713.728 300.395 711.413 297.618 Q709.098 294.84 709.098 289.493 M719.816 273.173 L719.816 273.173 Z\" fill=\"#000000\" fill-rule=\"evenodd\" fill-opacity=\"1\" /><path clip-path=\"url(#clip6200)\" d=\"M 0 0 M747.061 286.692 Q741.899 286.692 739.908 287.872 Q737.918 289.053 737.918 291.9 Q737.918 294.169 739.399 295.511 Q740.904 296.831 743.473 296.831 Q747.015 296.831 749.144 294.331 Q751.297 291.807 751.297 287.641 L751.297 286.692 L747.061 286.692 M755.556 284.933 L755.556 299.724 L751.297 299.724 L751.297 295.789 Q749.839 298.15 747.663 299.284 Q745.487 300.395 742.339 300.395 Q738.357 300.395 735.996 298.173 Q733.658 295.928 733.658 292.178 Q733.658 287.803 736.575 285.581 Q739.515 283.358 745.325 283.358 L751.297 283.358 L751.297 282.942 Q751.297 280.002 749.353 278.405 Q747.431 276.784 743.936 276.784 Q741.714 276.784 739.607 277.317 Q737.501 277.849 735.557 278.914 L735.557 274.979 Q737.895 274.076 740.094 273.636 Q742.293 273.173 744.376 273.173 Q750.001 273.173 752.779 276.09 Q755.556 279.007 755.556 284.933 Z\" fill=\"#000000\" fill-rule=\"evenodd\" fill-opacity=\"1\" /><path clip-path=\"url(#clip6200)\" d=\"M 0 0 M760.024 263.706 L764.283 263.706 L764.283 299.724 L760.024 299.724 L760.024 263.706 Z\" fill=\"#000000\" fill-rule=\"evenodd\" fill-opacity=\"1\" /><path clip-path=\"url(#clip6200)\" d=\"M 0 0 M777.848 299.724 L764.654 265.164 L769.538 265.164 L780.487 294.261 L791.459 265.164 L796.32 265.164 L783.149 299.724 L777.848 299.724 Z\" fill=\"#000000\" fill-rule=\"evenodd\" fill-opacity=\"1\" /><path clip-path=\"url(#clip6200)\" d=\"M 0 0 M808.889 286.692 Q803.727 286.692 801.737 287.872 Q799.746 289.053 799.746 291.9 Q799.746 294.169 801.227 295.511 Q802.732 296.831 805.302 296.831 Q808.843 296.831 810.973 294.331 Q813.126 291.807 813.126 287.641 L813.126 286.692 L808.889 286.692 M817.385 284.933 L817.385 299.724 L813.126 299.724 L813.126 295.789 Q811.667 298.15 809.491 299.284 Q807.315 300.395 804.167 300.395 Q800.186 300.395 797.825 298.173 Q795.487 295.928 795.487 292.178 Q795.487 287.803 798.403 285.581 Q801.343 283.358 807.153 283.358 L813.126 283.358 L813.126 282.942 Q813.126 280.002 811.181 278.405 Q809.26 276.784 805.765 276.784 Q803.542 276.784 801.436 277.317 Q799.329 277.849 797.385 278.914 L797.385 274.979 Q799.723 274.076 801.922 273.636 Q804.121 273.173 806.204 273.173 Q811.829 273.173 814.607 276.09 Q817.385 279.007 817.385 284.933 Z\" fill=\"#000000\" fill-rule=\"evenodd\" fill-opacity=\"1\" /><path clip-path=\"url(#clip6200)\" d=\"M 0 0 M821.852 263.706 L826.112 263.706 L826.112 299.724 L821.852 299.724 L821.852 263.706 Z\" fill=\"#000000\" fill-rule=\"evenodd\" fill-opacity=\"1\" /><path clip-path=\"url(#clip6200)\" d=\"M 0 0 M830.139 289.493 L830.139 273.798 L834.399 273.798 L834.399 289.331 Q834.399 293.011 835.834 294.863 Q837.269 296.692 840.139 296.692 Q843.588 296.692 845.579 294.493 Q847.593 292.294 847.593 288.497 L847.593 273.798 L851.852 273.798 L851.852 299.724 L847.593 299.724 L847.593 295.743 Q846.042 298.104 843.982 299.261 Q841.945 300.395 839.237 300.395 Q834.769 300.395 832.454 297.618 Q830.139 294.84 830.139 289.493 M840.857 273.173 L840.857 273.173 Z\" fill=\"#000000\" fill-rule=\"evenodd\" fill-opacity=\"1\" /><path clip-path=\"url(#clip6200)\" d=\"M 0 0 M878.496 285.696 L878.496 287.78 L858.912 287.78 Q859.19 292.178 861.551 294.493 Q863.935 296.784 868.172 296.784 Q870.625 296.784 872.917 296.182 Q875.232 295.581 877.5 294.377 L877.5 298.405 Q875.209 299.377 872.801 299.886 Q870.394 300.395 867.917 300.395 Q861.713 300.395 858.079 296.784 Q854.468 293.173 854.468 287.016 Q854.468 280.65 857.894 276.923 Q861.343 273.173 867.176 273.173 Q872.408 273.173 875.44 276.553 Q878.496 279.909 878.496 285.696 M874.236 284.446 Q874.19 280.951 872.269 278.868 Q870.371 276.784 867.223 276.784 Q863.658 276.784 861.505 278.798 Q859.375 280.812 859.051 284.47 L874.236 284.446 Z\" fill=\"#000000\" fill-rule=\"evenodd\" fill-opacity=\"1\" /></svg>\n"
      ]
     },
     "execution_count": 5,
     "metadata": {},
     "output_type": "execute_result"
    }
   ],
   "source": [
    "using Plots\n",
    "\n",
    "record_count = size(df)[1]\n",
    "rows = 1:record_count\n",
    "dates = format_dates( df[rows,2] , \"m/d/yy\")\n",
    "\n",
    "gr()\n",
    "plot(          dates, # x-axis: dates\n",
    "               [  df[rows,3]       ], # y-axis\n",
    "    label    = [  columns[3]    \"\" ]  ,\n",
    "    legend   =:topleft, \n",
    "              # :right, :left, :top, :bottom, :inside, :best, :legend, :topright, :topleft, :bottomleft, :bottomright\n",
    "    xlabel   = \"time\",\n",
    "    ylabel   = \"indicators\",\n",
    "    size     = (980, 400), # width, height\n",
    "    layout = (1, 1) # number of graphs: vertically, horizontally\n",
    "    )"
   ]
  },
  {
   "cell_type": "markdown",
   "metadata": {},
   "source": [
    "### set the original value column\n",
    "- go back to the top \"Setup\" section and choose which column should be the \"Orignal value\"\n",
    "- re-run the notebook"
   ]
  },
  {
   "cell_type": "markdown",
   "metadata": {},
   "source": [
    "## Extract right columns"
   ]
  },
  {
   "cell_type": "code",
   "execution_count": 6,
   "metadata": {},
   "outputs": [
    {
     "name": "stdout",
     "output_type": "stream",
     "text": [
      "7×4 DataFrame\n",
      "│ Row │ Day    │ Date       │ Value   │ Original │\n",
      "│     │ \u001b[90mInt64\u001b[39m  │ \u001b[90mDate\u001b[39m       │ \u001b[90mFloat64\u001b[39m │ \u001b[90mFloat64\u001b[39m  │\n",
      "├─────┼────────┼────────────┼─────────┼──────────┤\n",
      "│ 1   │ 735173 │ 2013-11-01 │ 53.2    │ 53.2     │\n",
      "│ 2   │ 735600 │ 2015-01-02 │ 56.8    │ 56.8     │\n",
      "│ 3   │ 736024 │ 2016-03-01 │ 48.5    │ 48.5     │\n",
      "│ 4   │ 736450 │ 2017-05-01 │ 52.0    │ 52.0     │\n",
      "│ 5   │ 736877 │ 2018-07-02 │ 56.0    │ 56.0     │\n",
      "│ 6   │ 737305 │ 2019-09-03 │ 47.4    │ 47.4     │\n",
      "│ 7   │ 737731 │ 2020-11-02 │ 53.2    │ 53.2     │\n",
      " Dataset dimentions: (85, 4)\n",
      "\n",
      " variable columns:\n",
      "1 Day\n",
      "2 Date\n",
      "3 Value\n",
      "4 Original\n",
      "\n"
     ]
    }
   ],
   "source": [
    "using DataFrames\n",
    "df = DataFrame( Day      = df[:,1],                     # 1 \n",
    "                Date     = df[:,2],                     # 2 \n",
    "                Value    = df[:,original_value_column], # 3 \n",
    "                Original = df[:,original_value_column]  # 4 \n",
    "               )\n",
    "\n",
    "columns = preview_data(df)\n",
    "println()"
   ]
  },
  {
   "cell_type": "markdown",
   "metadata": {},
   "source": [
    "## Quantize the values\n",
    "\n",
    "- Quantization is a process of noramalizing the data\n",
    "- I have decided to normalize the data for Int8 as I might try use Google Coral NPU\n",
    "- minimum = -128.0\n",
    "- maximum = 127.0"
   ]
  },
  {
   "cell_type": "code",
   "execution_count": 8,
   "metadata": {},
   "outputs": [
    {
     "name": "stdout",
     "output_type": "stream",
     "text": [
      "bias for 0 value: 0.5019607843137255\n",
      "Normalization was performend using formula y=(((x-min)/(max-min))*255)-128 \n",
      "minimum = -128.0\n",
      "maximum = 127.0\n",
      "Save these values for later to run model preditions\n",
      "7×4 DataFrame\n",
      "│ Row │ Day    │ Date       │ Value   │ Original │\n",
      "│     │ \u001b[90mInt64\u001b[39m  │ \u001b[90mDate\u001b[39m       │ \u001b[90mFloat64\u001b[39m │ \u001b[90mFloat64\u001b[39m  │\n",
      "├─────┼────────┼────────────┼─────────┼──────────┤\n",
      "│ 1   │ 735173 │ 2013-11-01 │ 72.0    │ 53.2     │\n",
      "│ 2   │ 735600 │ 2015-01-02 │ 100.0   │ 56.8     │\n",
      "│ 3   │ 736024 │ 2016-03-01 │ 35.0    │ 48.5     │\n",
      "│ 4   │ 736450 │ 2017-05-01 │ 62.0    │ 52.0     │\n",
      "│ 5   │ 736877 │ 2018-07-02 │ 94.0    │ 56.0     │\n",
      "│ 6   │ 737305 │ 2019-09-03 │ 27.0    │ 47.4     │\n",
      "│ 7   │ 737731 │ 2020-11-02 │ 72.0    │ 53.2     │\n",
      " Dataset dimentions: (85, 4)\n",
      "\n",
      " variable columns:\n",
      "1 Day\n",
      "2 Date\n",
      "3 Value\n",
      "4 Original\n",
      "\n"
     ]
    }
   ],
   "source": [
    "data_original = df[:, original_value_column] # keep original for display comparison later\n",
    "\n",
    "quantize_column!(df, original_value_column)\n",
    "\n",
    "columns = preview_data(df)\n",
    "println()"
   ]
  },
  {
   "cell_type": "markdown",
   "metadata": {},
   "source": [
    "### Draw Plots"
   ]
  },
  {
   "cell_type": "code",
   "execution_count": 9,
   "metadata": {},
   "outputs": [
    {
     "data": {
      "image/svg+xml": [
       "<?xml version=\"1.0\" encoding=\"utf-8\"?>\n",
       "<svg xmlns=\"http://www.w3.org/2000/svg\" xmlns:xlink=\"http://www.w3.org/1999/xlink\" width=\"980\" height=\"400\" viewBox=\"0 0 3920 1600\">\n",
       "<defs>\n",
       "  <clipPath id=\"clip6600\">\n",
       "    <rect x=\"0\" y=\"0\" width=\"3920\" height=\"1600\"/>\n",
       "  </clipPath>\n",
       "</defs>\n",
       "<path clip-path=\"url(#clip6600)\" d=\"\n",
       "M0 1600 L3920 1600 L3920 0 L0 0  Z\n",
       "  \" fill=\"#ffffff\" fill-rule=\"evenodd\" fill-opacity=\"1\"/>\n",
       "<defs>\n",
       "  <clipPath id=\"clip6601\">\n",
       "    <rect x=\"784\" y=\"0\" width=\"2745\" height=\"1600\"/>\n",
       "  </clipPath>\n",
       "</defs>\n",
       "<path clip-path=\"url(#clip6600)\" d=\"\n",
       "M239.325 1455.01 L3872.76 1455.01 L3872.76 47.2441 L239.325 47.2441  Z\n",
       "  \" fill=\"#ffffff\" fill-rule=\"evenodd\" fill-opacity=\"1\"/>\n",
       "<defs>\n",
       "  <clipPath id=\"clip6602\">\n",
       "    <rect x=\"239\" y=\"47\" width=\"3634\" height=\"1409\"/>\n",
       "  </clipPath>\n",
       "</defs>\n",
       "<polyline clip-path=\"url(#clip6602)\" style=\"stroke:#000000; stroke-width:2; stroke-opacity:0.1; fill:none\" points=\"\n",
       "  342.158,1455.01 342.158,47.2441 \n",
       "  \"/>\n",
       "<polyline clip-path=\"url(#clip6602)\" style=\"stroke:#000000; stroke-width:2; stroke-opacity:0.1; fill:none\" points=\"\n",
       "  586.998,1455.01 586.998,47.2441 \n",
       "  \"/>\n",
       "<polyline clip-path=\"url(#clip6602)\" style=\"stroke:#000000; stroke-width:2; stroke-opacity:0.1; fill:none\" points=\"\n",
       "  831.839,1455.01 831.839,47.2441 \n",
       "  \"/>\n",
       "<polyline clip-path=\"url(#clip6602)\" style=\"stroke:#000000; stroke-width:2; stroke-opacity:0.1; fill:none\" points=\"\n",
       "  1076.68,1455.01 1076.68,47.2441 \n",
       "  \"/>\n",
       "<polyline clip-path=\"url(#clip6602)\" style=\"stroke:#000000; stroke-width:2; stroke-opacity:0.1; fill:none\" points=\"\n",
       "  1321.52,1455.01 1321.52,47.2441 \n",
       "  \"/>\n",
       "<polyline clip-path=\"url(#clip6602)\" style=\"stroke:#000000; stroke-width:2; stroke-opacity:0.1; fill:none\" points=\"\n",
       "  1566.36,1455.01 1566.36,47.2441 \n",
       "  \"/>\n",
       "<polyline clip-path=\"url(#clip6602)\" style=\"stroke:#000000; stroke-width:2; stroke-opacity:0.1; fill:none\" points=\"\n",
       "  1811.2,1455.01 1811.2,47.2441 \n",
       "  \"/>\n",
       "<polyline clip-path=\"url(#clip6602)\" style=\"stroke:#000000; stroke-width:2; stroke-opacity:0.1; fill:none\" points=\"\n",
       "  2056.04,1455.01 2056.04,47.2441 \n",
       "  \"/>\n",
       "<polyline clip-path=\"url(#clip6602)\" style=\"stroke:#000000; stroke-width:2; stroke-opacity:0.1; fill:none\" points=\"\n",
       "  2300.88,1455.01 2300.88,47.2441 \n",
       "  \"/>\n",
       "<polyline clip-path=\"url(#clip6602)\" style=\"stroke:#000000; stroke-width:2; stroke-opacity:0.1; fill:none\" points=\"\n",
       "  2545.72,1455.01 2545.72,47.2441 \n",
       "  \"/>\n",
       "<polyline clip-path=\"url(#clip6602)\" style=\"stroke:#000000; stroke-width:2; stroke-opacity:0.1; fill:none\" points=\"\n",
       "  2790.56,1455.01 2790.56,47.2441 \n",
       "  \"/>\n",
       "<polyline clip-path=\"url(#clip6602)\" style=\"stroke:#000000; stroke-width:2; stroke-opacity:0.1; fill:none\" points=\"\n",
       "  3035.4,1455.01 3035.4,47.2441 \n",
       "  \"/>\n",
       "<polyline clip-path=\"url(#clip6602)\" style=\"stroke:#000000; stroke-width:2; stroke-opacity:0.1; fill:none\" points=\"\n",
       "  3280.24,1455.01 3280.24,47.2441 \n",
       "  \"/>\n",
       "<polyline clip-path=\"url(#clip6602)\" style=\"stroke:#000000; stroke-width:2; stroke-opacity:0.1; fill:none\" points=\"\n",
       "  3525.08,1455.01 3525.08,47.2441 \n",
       "  \"/>\n",
       "<polyline clip-path=\"url(#clip6602)\" style=\"stroke:#000000; stroke-width:2; stroke-opacity:0.1; fill:none\" points=\"\n",
       "  3769.92,1455.01 3769.92,47.2441 \n",
       "  \"/>\n",
       "<polyline clip-path=\"url(#clip6602)\" style=\"stroke:#000000; stroke-width:2; stroke-opacity:0.1; fill:none\" points=\"\n",
       "  239.325,1269.34 3872.76,1269.34 \n",
       "  \"/>\n",
       "<polyline clip-path=\"url(#clip6602)\" style=\"stroke:#000000; stroke-width:2; stroke-opacity:0.1; fill:none\" points=\"\n",
       "  239.325,1008.93 3872.76,1008.93 \n",
       "  \"/>\n",
       "<polyline clip-path=\"url(#clip6602)\" style=\"stroke:#000000; stroke-width:2; stroke-opacity:0.1; fill:none\" points=\"\n",
       "  239.325,748.521 3872.76,748.521 \n",
       "  \"/>\n",
       "<polyline clip-path=\"url(#clip6602)\" style=\"stroke:#000000; stroke-width:2; stroke-opacity:0.1; fill:none\" points=\"\n",
       "  239.325,488.114 3872.76,488.114 \n",
       "  \"/>\n",
       "<polyline clip-path=\"url(#clip6602)\" style=\"stroke:#000000; stroke-width:2; stroke-opacity:0.1; fill:none\" points=\"\n",
       "  239.325,227.706 3872.76,227.706 \n",
       "  \"/>\n",
       "<polyline clip-path=\"url(#clip6600)\" style=\"stroke:#000000; stroke-width:4; stroke-opacity:1; fill:none\" points=\"\n",
       "  239.325,1455.01 3872.76,1455.01 \n",
       "  \"/>\n",
       "<polyline clip-path=\"url(#clip6600)\" style=\"stroke:#000000; stroke-width:4; stroke-opacity:1; fill:none\" points=\"\n",
       "  239.325,1455.01 239.325,47.2441 \n",
       "  \"/>\n",
       "<polyline clip-path=\"url(#clip6600)\" style=\"stroke:#000000; stroke-width:4; stroke-opacity:1; fill:none\" points=\"\n",
       "  342.158,1455.01 342.158,1438.11 \n",
       "  \"/>\n",
       "<polyline clip-path=\"url(#clip6600)\" style=\"stroke:#000000; stroke-width:4; stroke-opacity:1; fill:none\" points=\"\n",
       "  586.998,1455.01 586.998,1438.11 \n",
       "  \"/>\n",
       "<polyline clip-path=\"url(#clip6600)\" style=\"stroke:#000000; stroke-width:4; stroke-opacity:1; fill:none\" points=\"\n",
       "  831.839,1455.01 831.839,1438.11 \n",
       "  \"/>\n",
       "<polyline clip-path=\"url(#clip6600)\" style=\"stroke:#000000; stroke-width:4; stroke-opacity:1; fill:none\" points=\"\n",
       "  1076.68,1455.01 1076.68,1438.11 \n",
       "  \"/>\n",
       "<polyline clip-path=\"url(#clip6600)\" style=\"stroke:#000000; stroke-width:4; stroke-opacity:1; fill:none\" points=\"\n",
       "  1321.52,1455.01 1321.52,1438.11 \n",
       "  \"/>\n",
       "<polyline clip-path=\"url(#clip6600)\" style=\"stroke:#000000; stroke-width:4; stroke-opacity:1; fill:none\" points=\"\n",
       "  1566.36,1455.01 1566.36,1438.11 \n",
       "  \"/>\n",
       "<polyline clip-path=\"url(#clip6600)\" style=\"stroke:#000000; stroke-width:4; stroke-opacity:1; fill:none\" points=\"\n",
       "  1811.2,1455.01 1811.2,1438.11 \n",
       "  \"/>\n",
       "<polyline clip-path=\"url(#clip6600)\" style=\"stroke:#000000; stroke-width:4; stroke-opacity:1; fill:none\" points=\"\n",
       "  2056.04,1455.01 2056.04,1438.11 \n",
       "  \"/>\n",
       "<polyline clip-path=\"url(#clip6600)\" style=\"stroke:#000000; stroke-width:4; stroke-opacity:1; fill:none\" points=\"\n",
       "  2300.88,1455.01 2300.88,1438.11 \n",
       "  \"/>\n",
       "<polyline clip-path=\"url(#clip6600)\" style=\"stroke:#000000; stroke-width:4; stroke-opacity:1; fill:none\" points=\"\n",
       "  2545.72,1455.01 2545.72,1438.11 \n",
       "  \"/>\n",
       "<polyline clip-path=\"url(#clip6600)\" style=\"stroke:#000000; stroke-width:4; stroke-opacity:1; fill:none\" points=\"\n",
       "  2790.56,1455.01 2790.56,1438.11 \n",
       "  \"/>\n",
       "<polyline clip-path=\"url(#clip6600)\" style=\"stroke:#000000; stroke-width:4; stroke-opacity:1; fill:none\" points=\"\n",
       "  3035.4,1455.01 3035.4,1438.11 \n",
       "  \"/>\n",
       "<polyline clip-path=\"url(#clip6600)\" style=\"stroke:#000000; stroke-width:4; stroke-opacity:1; fill:none\" points=\"\n",
       "  3280.24,1455.01 3280.24,1438.11 \n",
       "  \"/>\n",
       "<polyline clip-path=\"url(#clip6600)\" style=\"stroke:#000000; stroke-width:4; stroke-opacity:1; fill:none\" points=\"\n",
       "  3525.08,1455.01 3525.08,1438.11 \n",
       "  \"/>\n",
       "<polyline clip-path=\"url(#clip6600)\" style=\"stroke:#000000; stroke-width:4; stroke-opacity:1; fill:none\" points=\"\n",
       "  3769.92,1455.01 3769.92,1438.11 \n",
       "  \"/>\n",
       "<polyline clip-path=\"url(#clip6600)\" style=\"stroke:#000000; stroke-width:4; stroke-opacity:1; fill:none\" points=\"\n",
       "  239.325,1269.34 282.926,1269.34 \n",
       "  \"/>\n",
       "<polyline clip-path=\"url(#clip6600)\" style=\"stroke:#000000; stroke-width:4; stroke-opacity:1; fill:none\" points=\"\n",
       "  239.325,1008.93 282.926,1008.93 \n",
       "  \"/>\n",
       "<polyline clip-path=\"url(#clip6600)\" style=\"stroke:#000000; stroke-width:4; stroke-opacity:1; fill:none\" points=\"\n",
       "  239.325,748.521 282.926,748.521 \n",
       "  \"/>\n",
       "<polyline clip-path=\"url(#clip6600)\" style=\"stroke:#000000; stroke-width:4; stroke-opacity:1; fill:none\" points=\"\n",
       "  239.325,488.114 282.926,488.114 \n",
       "  \"/>\n",
       "<polyline clip-path=\"url(#clip6600)\" style=\"stroke:#000000; stroke-width:4; stroke-opacity:1; fill:none\" points=\"\n",
       "  239.325,227.706 282.926,227.706 \n",
       "  \"/>\n",
       "<path clip-path=\"url(#clip6600)\" d=\"M 0 0 M264.705 1512.14 L272.344 1512.14 L272.344 1485.78 L264.034 1487.44 L264.034 1483.19 L272.297 1481.52 L276.973 1481.52 L276.973 1512.14 L284.612 1512.14 L284.612 1516.08 L264.705 1516.08 L264.705 1512.14 Z\" fill=\"#000000\" fill-rule=\"evenodd\" fill-opacity=\"1\" /><path clip-path=\"url(#clip6600)\" d=\"M 0 0 M290.492 1512.14 L298.131 1512.14 L298.131 1485.78 L289.82 1487.44 L289.82 1483.19 L298.084 1481.52 L302.76 1481.52 L302.76 1512.14 L310.399 1512.14 L310.399 1516.08 L290.492 1516.08 L290.492 1512.14 Z\" fill=\"#000000\" fill-rule=\"evenodd\" fill-opacity=\"1\" /><path clip-path=\"url(#clip6600)\" d=\"M 0 0 M322.436 1481.52 L326.371 1481.52 L314.334 1520.48 L310.399 1520.48 L322.436 1481.52 Z\" fill=\"#000000\" fill-rule=\"evenodd\" fill-opacity=\"1\" /><path clip-path=\"url(#clip6600)\" d=\"M 0 0 M332.251 1512.14 L339.89 1512.14 L339.89 1485.78 L331.58 1487.44 L331.58 1483.19 L339.843 1481.52 L344.519 1481.52 L344.519 1512.14 L352.158 1512.14 L352.158 1516.08 L332.251 1516.08 L332.251 1512.14 Z\" fill=\"#000000\" fill-rule=\"evenodd\" fill-opacity=\"1\" /><path clip-path=\"url(#clip6600)\" d=\"M 0 0 M364.195 1481.52 L368.13 1481.52 L356.093 1520.48 L352.158 1520.48 L364.195 1481.52 Z\" fill=\"#000000\" fill-rule=\"evenodd\" fill-opacity=\"1\" /><path clip-path=\"url(#clip6600)\" d=\"M 0 0 M374.01 1512.14 L381.649 1512.14 L381.649 1485.78 L373.339 1487.44 L373.339 1483.19 L381.602 1481.52 L386.278 1481.52 L386.278 1512.14 L393.917 1512.14 L393.917 1516.08 L374.01 1516.08 L374.01 1512.14 Z\" fill=\"#000000\" fill-rule=\"evenodd\" fill-opacity=\"1\" /><path clip-path=\"url(#clip6600)\" d=\"M 0 0 M413.153 1497.44 Q416.51 1498.16 418.385 1500.43 Q420.283 1502.7 420.283 1506.03 Q420.283 1511.15 416.764 1513.95 Q413.246 1516.75 406.764 1516.75 Q404.588 1516.75 402.274 1516.31 Q399.982 1515.89 397.528 1515.04 L397.528 1510.52 Q399.473 1511.66 401.787 1512.24 Q404.102 1512.81 406.625 1512.81 Q411.024 1512.81 413.315 1511.08 Q415.63 1509.34 415.63 1506.03 Q415.63 1502.98 413.477 1501.26 Q411.348 1499.53 407.528 1499.53 L403.5 1499.53 L403.5 1495.69 L407.713 1495.69 Q411.162 1495.69 412.991 1494.32 Q414.82 1492.93 414.82 1490.34 Q414.82 1487.68 412.922 1486.26 Q411.047 1484.83 407.528 1484.83 Q405.607 1484.83 403.408 1485.25 Q401.209 1485.66 398.57 1486.54 L398.57 1482.38 Q401.232 1481.63 403.547 1481.26 Q405.885 1480.89 407.945 1480.89 Q413.269 1480.89 416.371 1483.32 Q419.473 1485.73 419.473 1489.85 Q419.473 1492.72 417.829 1494.71 Q416.186 1496.68 413.153 1497.44 Z\" fill=\"#000000\" fill-rule=\"evenodd\" fill-opacity=\"1\" /><path clip-path=\"url(#clip6600)\" d=\"M 0 0 M521.767 1481.52 L540.124 1481.52 L540.124 1485.45 L526.05 1485.45 L526.05 1493.93 Q527.068 1493.58 528.087 1493.42 Q529.105 1493.23 530.124 1493.23 Q535.911 1493.23 539.29 1496.4 Q542.67 1499.57 542.67 1504.99 Q542.67 1510.57 539.198 1513.67 Q535.726 1516.75 529.406 1516.75 Q527.23 1516.75 524.962 1516.38 Q522.716 1516.01 520.309 1515.27 L520.309 1510.57 Q522.392 1511.7 524.615 1512.26 Q526.837 1512.81 529.314 1512.81 Q533.318 1512.81 535.656 1510.71 Q537.994 1508.6 537.994 1504.99 Q537.994 1501.38 535.656 1499.27 Q533.318 1497.17 529.314 1497.17 Q527.439 1497.17 525.564 1497.58 Q523.712 1498 521.767 1498.88 L521.767 1481.52 Z\" fill=\"#000000\" fill-rule=\"evenodd\" fill-opacity=\"1\" /><path clip-path=\"url(#clip6600)\" d=\"M 0 0 M554.707 1481.52 L558.642 1481.52 L546.605 1520.48 L542.67 1520.48 L554.707 1481.52 Z\" fill=\"#000000\" fill-rule=\"evenodd\" fill-opacity=\"1\" /><path clip-path=\"url(#clip6600)\" d=\"M 0 0 M564.522 1512.14 L572.161 1512.14 L572.161 1485.78 L563.85 1487.44 L563.85 1483.19 L572.114 1481.52 L576.79 1481.52 L576.79 1512.14 L584.429 1512.14 L584.429 1516.08 L564.522 1516.08 L564.522 1512.14 Z\" fill=\"#000000\" fill-rule=\"evenodd\" fill-opacity=\"1\" /><path clip-path=\"url(#clip6600)\" d=\"M 0 0 M596.466 1481.52 L600.401 1481.52 L588.364 1520.48 L584.429 1520.48 L596.466 1481.52 Z\" fill=\"#000000\" fill-rule=\"evenodd\" fill-opacity=\"1\" /><path clip-path=\"url(#clip6600)\" d=\"M 0 0 M606.281 1512.14 L613.92 1512.14 L613.92 1485.78 L605.61 1487.44 L605.61 1483.19 L613.873 1481.52 L618.549 1481.52 L618.549 1512.14 L626.188 1512.14 L626.188 1516.08 L606.281 1516.08 L606.281 1512.14 Z\" fill=\"#000000\" fill-rule=\"evenodd\" fill-opacity=\"1\" /><path clip-path=\"url(#clip6600)\" d=\"M 0 0 M644.105 1485.59 L632.299 1504.04 L644.105 1504.04 L644.105 1485.59 M642.878 1481.52 L648.757 1481.52 L648.757 1504.04 L653.688 1504.04 L653.688 1507.93 L648.757 1507.93 L648.757 1516.08 L644.105 1516.08 L644.105 1507.93 L628.503 1507.93 L628.503 1503.42 L642.878 1481.52 Z\" fill=\"#000000\" fill-rule=\"evenodd\" fill-opacity=\"1\" /><path clip-path=\"url(#clip6600)\" d=\"M 0 0 M753.529 1512.14 L761.168 1512.14 L761.168 1485.78 L752.858 1487.44 L752.858 1483.19 L761.122 1481.52 L765.798 1481.52 L765.798 1512.14 L773.436 1512.14 L773.436 1516.08 L753.529 1516.08 L753.529 1512.14 Z\" fill=\"#000000\" fill-rule=\"evenodd\" fill-opacity=\"1\" /><path clip-path=\"url(#clip6600)\" d=\"M 0 0 M779.316 1512.14 L786.955 1512.14 L786.955 1485.78 L778.645 1487.44 L778.645 1483.19 L786.909 1481.52 L791.584 1481.52 L791.584 1512.14 L799.223 1512.14 L799.223 1516.08 L779.316 1516.08 L779.316 1512.14 Z\" fill=\"#000000\" fill-rule=\"evenodd\" fill-opacity=\"1\" /><path clip-path=\"url(#clip6600)\" d=\"M 0 0 M811.26 1481.52 L815.195 1481.52 L803.158 1520.48 L799.223 1520.48 L811.26 1481.52 Z\" fill=\"#000000\" fill-rule=\"evenodd\" fill-opacity=\"1\" /><path clip-path=\"url(#clip6600)\" d=\"M 0 0 M834.431 1497.44 Q837.788 1498.16 839.663 1500.43 Q841.561 1502.7 841.561 1506.03 Q841.561 1511.15 838.043 1513.95 Q834.524 1516.75 828.043 1516.75 Q825.867 1516.75 823.552 1516.31 Q821.26 1515.89 818.807 1515.04 L818.807 1510.52 Q820.751 1511.66 823.066 1512.24 Q825.381 1512.81 827.904 1512.81 Q832.302 1512.81 834.593 1511.08 Q836.908 1509.34 836.908 1506.03 Q836.908 1502.98 834.755 1501.26 Q832.626 1499.53 828.806 1499.53 L824.779 1499.53 L824.779 1495.69 L828.992 1495.69 Q832.441 1495.69 834.269 1494.32 Q836.098 1492.93 836.098 1490.34 Q836.098 1487.68 834.2 1486.26 Q832.325 1484.83 828.806 1484.83 Q826.885 1484.83 824.686 1485.25 Q822.487 1485.66 819.848 1486.54 L819.848 1482.38 Q822.51 1481.63 824.825 1481.26 Q827.163 1480.89 829.223 1480.89 Q834.547 1480.89 837.649 1483.32 Q840.751 1485.73 840.751 1489.85 Q840.751 1492.72 839.107 1494.71 Q837.464 1496.68 834.431 1497.44 Z\" fill=\"#000000\" fill-rule=\"evenodd\" fill-opacity=\"1\" /><path clip-path=\"url(#clip6600)\" d=\"M 0 0 M853.598 1481.52 L857.533 1481.52 L845.496 1520.48 L841.561 1520.48 L853.598 1481.52 Z\" fill=\"#000000\" fill-rule=\"evenodd\" fill-opacity=\"1\" /><path clip-path=\"url(#clip6600)\" d=\"M 0 0 M863.413 1512.14 L871.052 1512.14 L871.052 1485.78 L862.741 1487.44 L862.741 1483.19 L871.005 1481.52 L875.681 1481.52 L875.681 1512.14 L883.32 1512.14 L883.32 1516.08 L863.413 1516.08 L863.413 1512.14 Z\" fill=\"#000000\" fill-rule=\"evenodd\" fill-opacity=\"1\" /><path clip-path=\"url(#clip6600)\" d=\"M 0 0 M901.237 1485.59 L889.431 1504.04 L901.237 1504.04 L901.237 1485.59 M900.01 1481.52 L905.889 1481.52 L905.889 1504.04 L910.82 1504.04 L910.82 1507.93 L905.889 1507.93 L905.889 1516.08 L901.237 1516.08 L901.237 1507.93 L885.635 1507.93 L885.635 1503.42 L900.01 1481.52 Z\" fill=\"#000000\" fill-rule=\"evenodd\" fill-opacity=\"1\" /><path clip-path=\"url(#clip6600)\" d=\"M 0 0 M1012.19 1481.52 L1030.55 1481.52 L1030.55 1485.45 L1016.47 1485.45 L1016.47 1493.93 Q1017.49 1493.58 1018.51 1493.42 Q1019.53 1493.23 1020.55 1493.23 Q1026.33 1493.23 1029.71 1496.4 Q1033.09 1499.57 1033.09 1504.99 Q1033.09 1510.57 1029.62 1513.67 Q1026.15 1516.75 1019.83 1516.75 Q1017.65 1516.75 1015.38 1516.38 Q1013.14 1516.01 1010.73 1515.27 L1010.73 1510.57 Q1012.81 1511.7 1015.04 1512.26 Q1017.26 1512.81 1019.74 1512.81 Q1023.74 1512.81 1026.08 1510.71 Q1028.42 1508.6 1028.42 1504.99 Q1028.42 1501.38 1026.08 1499.27 Q1023.74 1497.17 1019.74 1497.17 Q1017.86 1497.17 1015.99 1497.58 Q1014.13 1498 1012.19 1498.88 L1012.19 1481.52 Z\" fill=\"#000000\" fill-rule=\"evenodd\" fill-opacity=\"1\" /><path clip-path=\"url(#clip6600)\" d=\"M 0 0 M1045.13 1481.52 L1049.06 1481.52 L1037.03 1520.48 L1033.09 1520.48 L1045.13 1481.52 Z\" fill=\"#000000\" fill-rule=\"evenodd\" fill-opacity=\"1\" /><path clip-path=\"url(#clip6600)\" d=\"M 0 0 M1054.94 1512.14 L1062.58 1512.14 L1062.58 1485.78 L1054.27 1487.44 L1054.27 1483.19 L1062.54 1481.52 L1067.21 1481.52 L1067.21 1512.14 L1074.85 1512.14 L1074.85 1516.08 L1054.94 1516.08 L1054.94 1512.14 Z\" fill=\"#000000\" fill-rule=\"evenodd\" fill-opacity=\"1\" /><path clip-path=\"url(#clip6600)\" d=\"M 0 0 M1086.89 1481.52 L1090.82 1481.52 L1078.79 1520.48 L1074.85 1520.48 L1086.89 1481.52 Z\" fill=\"#000000\" fill-rule=\"evenodd\" fill-opacity=\"1\" /><path clip-path=\"url(#clip6600)\" d=\"M 0 0 M1096.7 1512.14 L1104.34 1512.14 L1104.34 1485.78 L1096.03 1487.44 L1096.03 1483.19 L1104.29 1481.52 L1108.97 1481.52 L1108.97 1512.14 L1116.61 1512.14 L1116.61 1516.08 L1096.7 1516.08 L1096.7 1512.14 Z\" fill=\"#000000\" fill-rule=\"evenodd\" fill-opacity=\"1\" /><path clip-path=\"url(#clip6600)\" d=\"M 0 0 M1121.73 1481.52 L1140.08 1481.52 L1140.08 1485.45 L1126.01 1485.45 L1126.01 1493.93 Q1127.03 1493.58 1128.04 1493.42 Q1129.06 1493.23 1130.08 1493.23 Q1135.87 1493.23 1139.25 1496.4 Q1142.63 1499.57 1142.63 1504.99 Q1142.63 1510.57 1139.16 1513.67 Q1135.68 1516.75 1129.36 1516.75 Q1127.19 1516.75 1124.92 1516.38 Q1122.67 1516.01 1120.27 1515.27 L1120.27 1510.57 Q1122.35 1511.7 1124.57 1512.26 Q1126.79 1512.81 1129.27 1512.81 Q1133.28 1512.81 1135.61 1510.71 Q1137.95 1508.6 1137.95 1504.99 Q1137.95 1501.38 1135.61 1499.27 Q1133.28 1497.17 1129.27 1497.17 Q1127.4 1497.17 1125.52 1497.58 Q1123.67 1498 1121.73 1498.88 L1121.73 1481.52 Z\" fill=\"#000000\" fill-rule=\"evenodd\" fill-opacity=\"1\" /><path clip-path=\"url(#clip6600)\" d=\"M 0 0 M1244.43 1512.14 L1252.06 1512.14 L1252.06 1485.78 L1243.75 1487.44 L1243.75 1483.19 L1252.02 1481.52 L1256.69 1481.52 L1256.69 1512.14 L1264.33 1512.14 L1264.33 1516.08 L1244.43 1516.08 L1244.43 1512.14 Z\" fill=\"#000000\" fill-rule=\"evenodd\" fill-opacity=\"1\" /><path clip-path=\"url(#clip6600)\" d=\"M 0 0 M1270.21 1512.14 L1277.85 1512.14 L1277.85 1485.78 L1269.54 1487.44 L1269.54 1483.19 L1277.8 1481.52 L1282.48 1481.52 L1282.48 1512.14 L1290.12 1512.14 L1290.12 1516.08 L1270.21 1516.08 L1270.21 1512.14 Z\" fill=\"#000000\" fill-rule=\"evenodd\" fill-opacity=\"1\" /><path clip-path=\"url(#clip6600)\" d=\"M 0 0 M1302.16 1481.52 L1306.09 1481.52 L1294.05 1520.48 L1290.12 1520.48 L1302.16 1481.52 Z\" fill=\"#000000\" fill-rule=\"evenodd\" fill-opacity=\"1\" /><path clip-path=\"url(#clip6600)\" d=\"M 0 0 M1315.19 1512.14 L1331.51 1512.14 L1331.51 1516.08 L1309.56 1516.08 L1309.56 1512.14 Q1312.23 1509.39 1316.81 1504.76 Q1321.42 1500.11 1322.6 1498.76 Q1324.84 1496.24 1325.72 1494.5 Q1326.62 1492.75 1326.62 1491.06 Q1326.62 1488.3 1324.68 1486.57 Q1322.76 1484.83 1319.66 1484.83 Q1317.46 1484.83 1315 1485.59 Q1312.57 1486.36 1309.8 1487.91 L1309.8 1483.19 Q1312.62 1482.05 1315.07 1481.47 Q1317.53 1480.89 1319.56 1480.89 Q1324.93 1480.89 1328.13 1483.58 Q1331.32 1486.26 1331.32 1490.75 Q1331.32 1492.88 1330.51 1494.81 Q1329.73 1496.7 1327.62 1499.3 Q1327.04 1499.97 1323.94 1503.19 Q1320.84 1506.38 1315.19 1512.14 Z\" fill=\"#000000\" fill-rule=\"evenodd\" fill-opacity=\"1\" /><path clip-path=\"url(#clip6600)\" d=\"M 0 0 M1343.54 1481.52 L1347.48 1481.52 L1335.44 1520.48 L1331.51 1520.48 L1343.54 1481.52 Z\" fill=\"#000000\" fill-rule=\"evenodd\" fill-opacity=\"1\" /><path clip-path=\"url(#clip6600)\" d=\"M 0 0 M1353.36 1512.14 L1361 1512.14 L1361 1485.78 L1352.69 1487.44 L1352.69 1483.19 L1360.95 1481.52 L1365.63 1481.52 L1365.63 1512.14 L1373.27 1512.14 L1373.27 1516.08 L1353.36 1516.08 L1353.36 1512.14 Z\" fill=\"#000000\" fill-rule=\"evenodd\" fill-opacity=\"1\" /><path clip-path=\"url(#clip6600)\" d=\"M 0 0 M1378.38 1481.52 L1396.74 1481.52 L1396.74 1485.45 L1382.67 1485.45 L1382.67 1493.93 Q1383.68 1493.58 1384.7 1493.42 Q1385.72 1493.23 1386.74 1493.23 Q1392.53 1493.23 1395.91 1496.4 Q1399.29 1499.57 1399.29 1504.99 Q1399.29 1510.57 1395.81 1513.67 Q1392.34 1516.75 1386.02 1516.75 Q1383.85 1516.75 1381.58 1516.38 Q1379.33 1516.01 1376.92 1515.27 L1376.92 1510.57 Q1379.01 1511.7 1381.23 1512.26 Q1383.45 1512.81 1385.93 1512.81 Q1389.93 1512.81 1392.27 1510.71 Q1394.61 1508.6 1394.61 1504.99 Q1394.61 1501.38 1392.27 1499.27 Q1389.93 1497.17 1385.93 1497.17 Q1384.05 1497.17 1382.18 1497.58 Q1380.33 1498 1378.38 1498.88 L1378.38 1481.52 Z\" fill=\"#000000\" fill-rule=\"evenodd\" fill-opacity=\"1\" /><path clip-path=\"url(#clip6600)\" d=\"M 0 0 M1501.48 1481.52 L1519.83 1481.52 L1519.83 1485.45 L1505.76 1485.45 L1505.76 1493.93 Q1506.78 1493.58 1507.8 1493.42 Q1508.81 1493.23 1509.83 1493.23 Q1515.62 1493.23 1519 1496.4 Q1522.38 1499.57 1522.38 1504.99 Q1522.38 1510.57 1518.91 1513.67 Q1515.43 1516.75 1509.11 1516.75 Q1506.94 1516.75 1504.67 1516.38 Q1502.43 1516.01 1500.02 1515.27 L1500.02 1510.57 Q1502.1 1511.7 1504.32 1512.26 Q1506.55 1512.81 1509.02 1512.81 Q1513.03 1512.81 1515.36 1510.71 Q1517.7 1508.6 1517.7 1504.99 Q1517.7 1501.38 1515.36 1499.27 Q1513.03 1497.17 1509.02 1497.17 Q1507.15 1497.17 1505.27 1497.58 Q1503.42 1498 1501.48 1498.88 L1501.48 1481.52 Z\" fill=\"#000000\" fill-rule=\"evenodd\" fill-opacity=\"1\" /><path clip-path=\"url(#clip6600)\" d=\"M 0 0 M1534.42 1481.52 L1538.35 1481.52 L1526.31 1520.48 L1522.38 1520.48 L1534.42 1481.52 Z\" fill=\"#000000\" fill-rule=\"evenodd\" fill-opacity=\"1\" /><path clip-path=\"url(#clip6600)\" d=\"M 0 0 M1547.45 1512.14 L1563.77 1512.14 L1563.77 1516.08 L1541.82 1516.08 L1541.82 1512.14 Q1544.48 1509.39 1549.07 1504.76 Q1553.67 1500.11 1554.86 1498.76 Q1557.1 1496.24 1557.98 1494.5 Q1558.88 1492.75 1558.88 1491.06 Q1558.88 1488.3 1556.94 1486.57 Q1555.02 1484.83 1551.92 1484.83 Q1549.72 1484.83 1547.26 1485.59 Q1544.83 1486.36 1542.05 1487.91 L1542.05 1483.19 Q1544.88 1482.05 1547.33 1481.47 Q1549.79 1480.89 1551.82 1480.89 Q1557.19 1480.89 1560.39 1483.58 Q1563.58 1486.26 1563.58 1490.75 Q1563.58 1492.88 1562.77 1494.81 Q1561.98 1496.7 1559.88 1499.3 Q1559.3 1499.97 1556.2 1503.19 Q1553.1 1506.38 1547.45 1512.14 Z\" fill=\"#000000\" fill-rule=\"evenodd\" fill-opacity=\"1\" /><path clip-path=\"url(#clip6600)\" d=\"M 0 0 M1575.8 1481.52 L1579.74 1481.52 L1567.7 1520.48 L1563.77 1520.48 L1575.8 1481.52 Z\" fill=\"#000000\" fill-rule=\"evenodd\" fill-opacity=\"1\" /><path clip-path=\"url(#clip6600)\" d=\"M 0 0 M1585.62 1512.14 L1593.26 1512.14 L1593.26 1485.78 L1584.95 1487.44 L1584.95 1483.19 L1593.21 1481.52 L1597.89 1481.52 L1597.89 1512.14 L1605.53 1512.14 L1605.53 1516.08 L1585.62 1516.08 L1585.62 1512.14 Z\" fill=\"#000000\" fill-rule=\"evenodd\" fill-opacity=\"1\" /><path clip-path=\"url(#clip6600)\" d=\"M 0 0 M1621.17 1496.94 Q1618.03 1496.94 1616.17 1499.09 Q1614.35 1501.24 1614.35 1504.99 Q1614.35 1508.72 1616.17 1510.89 Q1618.03 1513.05 1621.17 1513.05 Q1624.32 1513.05 1626.15 1510.89 Q1628 1508.72 1628 1504.99 Q1628 1501.24 1626.15 1499.09 Q1624.32 1496.94 1621.17 1496.94 M1630.46 1482.28 L1630.46 1486.54 Q1628.7 1485.71 1626.89 1485.27 Q1625.11 1484.83 1623.35 1484.83 Q1618.72 1484.83 1616.27 1487.95 Q1613.84 1491.08 1613.49 1497.4 Q1614.85 1495.38 1616.92 1494.32 Q1618.98 1493.23 1621.45 1493.23 Q1626.66 1493.23 1629.67 1496.4 Q1632.7 1499.55 1632.7 1504.99 Q1632.7 1510.31 1629.55 1513.53 Q1626.41 1516.75 1621.17 1516.75 Q1615.18 1516.75 1612.01 1512.17 Q1608.84 1507.56 1608.84 1498.83 Q1608.84 1490.64 1612.73 1485.78 Q1616.61 1480.89 1623.17 1480.89 Q1624.92 1480.89 1626.71 1481.24 Q1628.51 1481.59 1630.46 1482.28 Z\" fill=\"#000000\" fill-rule=\"evenodd\" fill-opacity=\"1\" /><path clip-path=\"url(#clip6600)\" d=\"M 0 0 M1733.34 1512.14 L1740.98 1512.14 L1740.98 1485.78 L1732.67 1487.44 L1732.67 1483.19 L1740.93 1481.52 L1745.61 1481.52 L1745.61 1512.14 L1753.25 1512.14 L1753.25 1516.08 L1733.34 1516.08 L1733.34 1512.14 Z\" fill=\"#000000\" fill-rule=\"evenodd\" fill-opacity=\"1\" /><path clip-path=\"url(#clip6600)\" d=\"M 0 0 M1759.13 1512.14 L1766.77 1512.14 L1766.77 1485.78 L1758.46 1487.44 L1758.46 1483.19 L1766.72 1481.52 L1771.4 1481.52 L1771.4 1512.14 L1779.04 1512.14 L1779.04 1516.08 L1759.13 1516.08 L1759.13 1512.14 Z\" fill=\"#000000\" fill-rule=\"evenodd\" fill-opacity=\"1\" /><path clip-path=\"url(#clip6600)\" d=\"M 0 0 M1791.07 1481.52 L1795.01 1481.52 L1782.97 1520.48 L1779.04 1520.48 L1791.07 1481.52 Z\" fill=\"#000000\" fill-rule=\"evenodd\" fill-opacity=\"1\" /><path clip-path=\"url(#clip6600)\" d=\"M 0 0 M1800.89 1512.14 L1808.53 1512.14 L1808.53 1485.78 L1800.22 1487.44 L1800.22 1483.19 L1808.48 1481.52 L1813.16 1481.52 L1813.16 1512.14 L1820.8 1512.14 L1820.8 1516.08 L1800.89 1516.08 L1800.89 1512.14 Z\" fill=\"#000000\" fill-rule=\"evenodd\" fill-opacity=\"1\" /><path clip-path=\"url(#clip6600)\" d=\"M 0 0 M1832.83 1481.52 L1836.77 1481.52 L1824.73 1520.48 L1820.8 1520.48 L1832.83 1481.52 Z\" fill=\"#000000\" fill-rule=\"evenodd\" fill-opacity=\"1\" /><path clip-path=\"url(#clip6600)\" d=\"M 0 0 M1842.65 1512.14 L1850.29 1512.14 L1850.29 1485.78 L1841.98 1487.44 L1841.98 1483.19 L1850.24 1481.52 L1854.92 1481.52 L1854.92 1512.14 L1862.55 1512.14 L1862.55 1516.08 L1842.65 1516.08 L1842.65 1512.14 Z\" fill=\"#000000\" fill-rule=\"evenodd\" fill-opacity=\"1\" /><path clip-path=\"url(#clip6600)\" d=\"M 0 0 M1878.2 1496.94 Q1875.05 1496.94 1873.2 1499.09 Q1871.37 1501.24 1871.37 1504.99 Q1871.37 1508.72 1873.2 1510.89 Q1875.05 1513.05 1878.2 1513.05 Q1881.35 1513.05 1883.18 1510.89 Q1885.03 1508.72 1885.03 1504.99 Q1885.03 1501.24 1883.18 1499.09 Q1881.35 1496.94 1878.2 1496.94 M1887.48 1482.28 L1887.48 1486.54 Q1885.73 1485.71 1883.92 1485.27 Q1882.14 1484.83 1880.38 1484.83 Q1875.75 1484.83 1873.29 1487.95 Q1870.86 1491.08 1870.52 1497.4 Q1871.88 1495.38 1873.94 1494.32 Q1876 1493.23 1878.48 1493.23 Q1883.69 1493.23 1886.7 1496.4 Q1889.73 1499.55 1889.73 1504.99 Q1889.73 1510.31 1886.58 1513.53 Q1883.43 1516.75 1878.2 1516.75 Q1872.21 1516.75 1869.04 1512.17 Q1865.86 1507.56 1865.86 1498.83 Q1865.86 1490.64 1869.75 1485.78 Q1873.64 1480.89 1880.19 1480.89 Q1881.95 1480.89 1883.73 1481.24 Q1885.54 1481.59 1887.48 1482.28 Z\" fill=\"#000000\" fill-rule=\"evenodd\" fill-opacity=\"1\" /><path clip-path=\"url(#clip6600)\" d=\"M 0 0 M1991.5 1481.52 L2009.86 1481.52 L2009.86 1485.45 L1995.79 1485.45 L1995.79 1493.93 Q1996.8 1493.58 1997.82 1493.42 Q1998.84 1493.23 1999.86 1493.23 Q2005.65 1493.23 2009.03 1496.4 Q2012.41 1499.57 2012.41 1504.99 Q2012.41 1510.57 2008.93 1513.67 Q2005.46 1516.75 1999.14 1516.75 Q1996.97 1516.75 1994.7 1516.38 Q1992.45 1516.01 1990.05 1515.27 L1990.05 1510.57 Q1992.13 1511.7 1994.35 1512.26 Q1996.57 1512.81 1999.05 1512.81 Q2003.05 1512.81 2005.39 1510.71 Q2007.73 1508.6 2007.73 1504.99 Q2007.73 1501.38 2005.39 1499.27 Q2003.05 1497.17 1999.05 1497.17 Q1997.18 1497.17 1995.3 1497.58 Q1993.45 1498 1991.5 1498.88 L1991.5 1481.52 Z\" fill=\"#000000\" fill-rule=\"evenodd\" fill-opacity=\"1\" /><path clip-path=\"url(#clip6600)\" d=\"M 0 0 M2024.44 1481.52 L2028.38 1481.52 L2016.34 1520.48 L2012.41 1520.48 L2024.44 1481.52 Z\" fill=\"#000000\" fill-rule=\"evenodd\" fill-opacity=\"1\" /><path clip-path=\"url(#clip6600)\" d=\"M 0 0 M2034.26 1512.14 L2041.9 1512.14 L2041.9 1485.78 L2033.59 1487.44 L2033.59 1483.19 L2041.85 1481.52 L2046.53 1481.52 L2046.53 1512.14 L2054.17 1512.14 L2054.17 1516.08 L2034.26 1516.08 L2034.26 1512.14 Z\" fill=\"#000000\" fill-rule=\"evenodd\" fill-opacity=\"1\" /><path clip-path=\"url(#clip6600)\" d=\"M 0 0 M2066.2 1481.52 L2070.14 1481.52 L2058.1 1520.48 L2054.17 1520.48 L2066.2 1481.52 Z\" fill=\"#000000\" fill-rule=\"evenodd\" fill-opacity=\"1\" /><path clip-path=\"url(#clip6600)\" d=\"M 0 0 M2076.02 1512.14 L2083.66 1512.14 L2083.66 1485.78 L2075.35 1487.44 L2075.35 1483.19 L2083.61 1481.52 L2088.29 1481.52 L2088.29 1512.14 L2095.92 1512.14 L2095.92 1516.08 L2076.02 1516.08 L2076.02 1512.14 Z\" fill=\"#000000\" fill-rule=\"evenodd\" fill-opacity=\"1\" /><path clip-path=\"url(#clip6600)\" d=\"M 0 0 M2099.81 1481.52 L2122.04 1481.52 L2122.04 1483.51 L2109.49 1516.08 L2104.61 1516.08 L2116.41 1485.45 L2099.81 1485.45 L2099.81 1481.52 Z\" fill=\"#000000\" fill-rule=\"evenodd\" fill-opacity=\"1\" /><path clip-path=\"url(#clip6600)\" d=\"M 0 0 M2223.55 1512.14 L2231.19 1512.14 L2231.19 1485.78 L2222.88 1487.44 L2222.88 1483.19 L2231.15 1481.52 L2235.82 1481.52 L2235.82 1512.14 L2243.46 1512.14 L2243.46 1516.08 L2223.55 1516.08 L2223.55 1512.14 Z\" fill=\"#000000\" fill-rule=\"evenodd\" fill-opacity=\"1\" /><path clip-path=\"url(#clip6600)\" d=\"M 0 0 M2249.34 1512.14 L2256.98 1512.14 L2256.98 1485.78 L2248.67 1487.44 L2248.67 1483.19 L2256.93 1481.52 L2261.61 1481.52 L2261.61 1512.14 L2269.25 1512.14 L2269.25 1516.08 L2249.34 1516.08 L2249.34 1512.14 Z\" fill=\"#000000\" fill-rule=\"evenodd\" fill-opacity=\"1\" /><path clip-path=\"url(#clip6600)\" d=\"M 0 0 M2281.29 1481.52 L2285.22 1481.52 L2273.18 1520.48 L2269.25 1520.48 L2281.29 1481.52 Z\" fill=\"#000000\" fill-rule=\"evenodd\" fill-opacity=\"1\" /><path clip-path=\"url(#clip6600)\" d=\"M 0 0 M2291.1 1512.14 L2298.74 1512.14 L2298.74 1485.78 L2290.43 1487.44 L2290.43 1483.19 L2298.69 1481.52 L2303.37 1481.52 L2303.37 1512.14 L2311.01 1512.14 L2311.01 1516.08 L2291.1 1516.08 L2291.1 1512.14 Z\" fill=\"#000000\" fill-rule=\"evenodd\" fill-opacity=\"1\" /><path clip-path=\"url(#clip6600)\" d=\"M 0 0 M2323.05 1481.52 L2326.98 1481.52 L2314.94 1520.48 L2311.01 1520.48 L2323.05 1481.52 Z\" fill=\"#000000\" fill-rule=\"evenodd\" fill-opacity=\"1\" /><path clip-path=\"url(#clip6600)\" d=\"M 0 0 M2332.86 1512.14 L2340.5 1512.14 L2340.5 1485.78 L2332.19 1487.44 L2332.19 1483.19 L2340.45 1481.52 L2345.13 1481.52 L2345.13 1512.14 L2352.77 1512.14 L2352.77 1516.08 L2332.86 1516.08 L2332.86 1512.14 Z\" fill=\"#000000\" fill-rule=\"evenodd\" fill-opacity=\"1\" /><path clip-path=\"url(#clip6600)\" d=\"M 0 0 M2356.66 1481.52 L2378.88 1481.52 L2378.88 1483.51 L2366.33 1516.08 L2361.45 1516.08 L2373.25 1485.45 L2356.66 1485.45 L2356.66 1481.52 Z\" fill=\"#000000\" fill-rule=\"evenodd\" fill-opacity=\"1\" /><path clip-path=\"url(#clip6600)\" d=\"M 0 0 M2480.78 1481.52 L2499.14 1481.52 L2499.14 1485.45 L2485.06 1485.45 L2485.06 1493.93 Q2486.08 1493.58 2487.1 1493.42 Q2488.12 1493.23 2489.14 1493.23 Q2494.92 1493.23 2498.3 1496.4 Q2501.68 1499.57 2501.68 1504.99 Q2501.68 1510.57 2498.21 1513.67 Q2494.74 1516.75 2488.42 1516.75 Q2486.24 1516.75 2483.97 1516.38 Q2481.73 1516.01 2479.32 1515.27 L2479.32 1510.57 Q2481.4 1511.7 2483.63 1512.26 Q2485.85 1512.81 2488.33 1512.81 Q2492.33 1512.81 2494.67 1510.71 Q2497.01 1508.6 2497.01 1504.99 Q2497.01 1501.38 2494.67 1499.27 Q2492.33 1497.17 2488.33 1497.17 Q2486.45 1497.17 2484.58 1497.58 Q2482.72 1498 2480.78 1498.88 L2480.78 1481.52 Z\" fill=\"#000000\" fill-rule=\"evenodd\" fill-opacity=\"1\" /><path clip-path=\"url(#clip6600)\" d=\"M 0 0 M2513.72 1481.52 L2517.65 1481.52 L2505.62 1520.48 L2501.68 1520.48 L2513.72 1481.52 Z\" fill=\"#000000\" fill-rule=\"evenodd\" fill-opacity=\"1\" /><path clip-path=\"url(#clip6600)\" d=\"M 0 0 M2523.53 1512.14 L2531.17 1512.14 L2531.17 1485.78 L2522.86 1487.44 L2522.86 1483.19 L2531.13 1481.52 L2535.8 1481.52 L2535.8 1512.14 L2543.44 1512.14 L2543.44 1516.08 L2523.53 1516.08 L2523.53 1512.14 Z\" fill=\"#000000\" fill-rule=\"evenodd\" fill-opacity=\"1\" /><path clip-path=\"url(#clip6600)\" d=\"M 0 0 M2555.48 1481.52 L2559.41 1481.52 L2547.38 1520.48 L2543.44 1520.48 L2555.48 1481.52 Z\" fill=\"#000000\" fill-rule=\"evenodd\" fill-opacity=\"1\" /><path clip-path=\"url(#clip6600)\" d=\"M 0 0 M2565.29 1512.14 L2572.93 1512.14 L2572.93 1485.78 L2564.62 1487.44 L2564.62 1483.19 L2572.89 1481.52 L2577.56 1481.52 L2577.56 1512.14 L2585.2 1512.14 L2585.2 1516.08 L2565.29 1516.08 L2565.29 1512.14 Z\" fill=\"#000000\" fill-rule=\"evenodd\" fill-opacity=\"1\" /><path clip-path=\"url(#clip6600)\" d=\"M 0 0 M2600.27 1499.67 Q2596.94 1499.67 2595.01 1501.45 Q2593.12 1503.23 2593.12 1506.36 Q2593.12 1509.48 2595.01 1511.26 Q2596.94 1513.05 2600.27 1513.05 Q2603.6 1513.05 2605.52 1511.26 Q2607.45 1509.46 2607.45 1506.36 Q2607.45 1503.23 2605.52 1501.45 Q2603.63 1499.67 2600.27 1499.67 M2595.59 1497.68 Q2592.58 1496.94 2590.89 1494.88 Q2589.23 1492.82 2589.23 1489.85 Q2589.23 1485.71 2592.17 1483.3 Q2595.13 1480.89 2600.27 1480.89 Q2605.43 1480.89 2608.37 1483.3 Q2611.31 1485.71 2611.31 1489.85 Q2611.31 1492.82 2609.62 1494.88 Q2607.95 1496.94 2604.97 1497.68 Q2608.35 1498.46 2610.22 1500.75 Q2612.12 1503.05 2612.12 1506.36 Q2612.12 1511.38 2609.04 1514.06 Q2605.99 1516.75 2600.27 1516.75 Q2594.55 1516.75 2591.47 1514.06 Q2588.42 1511.38 2588.42 1506.36 Q2588.42 1503.05 2590.32 1500.75 Q2592.21 1498.46 2595.59 1497.68 M2593.88 1490.29 Q2593.88 1492.98 2595.55 1494.48 Q2597.24 1495.99 2600.27 1495.99 Q2603.28 1495.99 2604.97 1494.48 Q2606.68 1492.98 2606.68 1490.29 Q2606.68 1487.61 2604.97 1486.1 Q2603.28 1484.6 2600.27 1484.6 Q2597.24 1484.6 2595.55 1486.1 Q2593.88 1487.61 2593.88 1490.29 Z\" fill=\"#000000\" fill-rule=\"evenodd\" fill-opacity=\"1\" /><path clip-path=\"url(#clip6600)\" d=\"M 0 0 M2712.83 1512.14 L2720.47 1512.14 L2720.47 1485.78 L2712.16 1487.44 L2712.16 1483.19 L2720.42 1481.52 L2725.1 1481.52 L2725.1 1512.14 L2732.74 1512.14 L2732.74 1516.08 L2712.83 1516.08 L2712.83 1512.14 Z\" fill=\"#000000\" fill-rule=\"evenodd\" fill-opacity=\"1\" /><path clip-path=\"url(#clip6600)\" d=\"M 0 0 M2738.62 1512.14 L2746.26 1512.14 L2746.26 1485.78 L2737.95 1487.44 L2737.95 1483.19 L2746.21 1481.52 L2750.89 1481.52 L2750.89 1512.14 L2758.52 1512.14 L2758.52 1516.08 L2738.62 1516.08 L2738.62 1512.14 Z\" fill=\"#000000\" fill-rule=\"evenodd\" fill-opacity=\"1\" /><path clip-path=\"url(#clip6600)\" d=\"M 0 0 M2770.56 1481.52 L2774.5 1481.52 L2762.46 1520.48 L2758.52 1520.48 L2770.56 1481.52 Z\" fill=\"#000000\" fill-rule=\"evenodd\" fill-opacity=\"1\" /><path clip-path=\"url(#clip6600)\" d=\"M 0 0 M2780.38 1512.14 L2788.02 1512.14 L2788.02 1485.78 L2779.71 1487.44 L2779.71 1483.19 L2787.97 1481.52 L2792.64 1481.52 L2792.64 1512.14 L2800.28 1512.14 L2800.28 1516.08 L2780.38 1516.08 L2780.38 1512.14 Z\" fill=\"#000000\" fill-rule=\"evenodd\" fill-opacity=\"1\" /><path clip-path=\"url(#clip6600)\" d=\"M 0 0 M2812.32 1481.52 L2816.26 1481.52 L2804.22 1520.48 L2800.28 1520.48 L2812.32 1481.52 Z\" fill=\"#000000\" fill-rule=\"evenodd\" fill-opacity=\"1\" /><path clip-path=\"url(#clip6600)\" d=\"M 0 0 M2822.14 1512.14 L2829.77 1512.14 L2829.77 1485.78 L2821.46 1487.44 L2821.46 1483.19 L2829.73 1481.52 L2834.4 1481.52 L2834.4 1512.14 L2842.04 1512.14 L2842.04 1516.08 L2822.14 1516.08 L2822.14 1512.14 Z\" fill=\"#000000\" fill-rule=\"evenodd\" fill-opacity=\"1\" /><path clip-path=\"url(#clip6600)\" d=\"M 0 0 M2857.11 1499.67 Q2853.78 1499.67 2851.86 1501.45 Q2849.96 1503.23 2849.96 1506.36 Q2849.96 1509.48 2851.86 1511.26 Q2853.78 1513.05 2857.11 1513.05 Q2860.45 1513.05 2862.37 1511.26 Q2864.29 1509.46 2864.29 1506.36 Q2864.29 1503.23 2862.37 1501.45 Q2860.47 1499.67 2857.11 1499.67 M2852.44 1497.68 Q2849.43 1496.94 2847.74 1494.88 Q2846.07 1492.82 2846.07 1489.85 Q2846.07 1485.71 2849.01 1483.3 Q2851.97 1480.89 2857.11 1480.89 Q2862.27 1480.89 2865.21 1483.3 Q2868.15 1485.71 2868.15 1489.85 Q2868.15 1492.82 2866.46 1494.88 Q2864.8 1496.94 2861.81 1497.68 Q2865.19 1498.46 2867.07 1500.75 Q2868.96 1503.05 2868.96 1506.36 Q2868.96 1511.38 2865.89 1514.06 Q2862.83 1516.75 2857.11 1516.75 Q2851.39 1516.75 2848.32 1514.06 Q2845.26 1511.38 2845.26 1506.36 Q2845.26 1503.05 2847.16 1500.75 Q2849.06 1498.46 2852.44 1497.68 M2850.72 1490.29 Q2850.72 1492.98 2852.39 1494.48 Q2854.08 1495.99 2857.11 1495.99 Q2860.12 1495.99 2861.81 1494.48 Q2863.52 1492.98 2863.52 1490.29 Q2863.52 1487.61 2861.81 1486.1 Q2860.12 1484.6 2857.11 1484.6 Q2854.08 1484.6 2852.39 1486.1 Q2850.72 1487.61 2850.72 1490.29 Z\" fill=\"#000000\" fill-rule=\"evenodd\" fill-opacity=\"1\" /><path clip-path=\"url(#clip6600)\" d=\"M 0 0 M2970.51 1481.52 L2988.86 1481.52 L2988.86 1485.45 L2974.79 1485.45 L2974.79 1493.93 Q2975.81 1493.58 2976.83 1493.42 Q2977.84 1493.23 2978.86 1493.23 Q2984.65 1493.23 2988.03 1496.4 Q2991.41 1499.57 2991.41 1504.99 Q2991.41 1510.57 2987.94 1513.67 Q2984.46 1516.75 2978.15 1516.75 Q2975.97 1516.75 2973.7 1516.38 Q2971.46 1516.01 2969.05 1515.27 L2969.05 1510.57 Q2971.13 1511.7 2973.35 1512.26 Q2975.58 1512.81 2978.05 1512.81 Q2982.06 1512.81 2984.4 1510.71 Q2986.73 1508.6 2986.73 1504.99 Q2986.73 1501.38 2984.4 1499.27 Q2982.06 1497.17 2978.05 1497.17 Q2976.18 1497.17 2974.3 1497.58 Q2972.45 1498 2970.51 1498.88 L2970.51 1481.52 Z\" fill=\"#000000\" fill-rule=\"evenodd\" fill-opacity=\"1\" /><path clip-path=\"url(#clip6600)\" d=\"M 0 0 M3003.45 1481.52 L3007.38 1481.52 L2995.34 1520.48 L2991.41 1520.48 L3003.45 1481.52 Z\" fill=\"#000000\" fill-rule=\"evenodd\" fill-opacity=\"1\" /><path clip-path=\"url(#clip6600)\" d=\"M 0 0 M3013.26 1512.14 L3020.9 1512.14 L3020.9 1485.78 L3012.59 1487.44 L3012.59 1483.19 L3020.85 1481.52 L3025.53 1481.52 L3025.53 1512.14 L3033.17 1512.14 L3033.17 1516.08 L3013.26 1516.08 L3013.26 1512.14 Z\" fill=\"#000000\" fill-rule=\"evenodd\" fill-opacity=\"1\" /><path clip-path=\"url(#clip6600)\" d=\"M 0 0 M3045.21 1481.52 L3049.14 1481.52 L3037.1 1520.48 L3033.17 1520.48 L3045.21 1481.52 Z\" fill=\"#000000\" fill-rule=\"evenodd\" fill-opacity=\"1\" /><path clip-path=\"url(#clip6600)\" d=\"M 0 0 M3055.02 1512.14 L3062.66 1512.14 L3062.66 1485.78 L3054.35 1487.44 L3054.35 1483.19 L3062.61 1481.52 L3067.29 1481.52 L3067.29 1512.14 L3074.93 1512.14 L3074.93 1516.08 L3055.02 1516.08 L3055.02 1512.14 Z\" fill=\"#000000\" fill-rule=\"evenodd\" fill-opacity=\"1\" /><path clip-path=\"url(#clip6600)\" d=\"M 0 0 M3080.14 1515.36 L3080.14 1511.1 Q3081.89 1511.94 3083.7 1512.38 Q3085.51 1512.81 3087.24 1512.81 Q3091.87 1512.81 3094.3 1509.71 Q3096.76 1506.59 3097.1 1500.25 Q3095.76 1502.24 3093.7 1503.3 Q3091.64 1504.37 3089.14 1504.37 Q3083.95 1504.37 3080.92 1501.24 Q3077.91 1498.09 3077.91 1492.65 Q3077.91 1487.33 3081.06 1484.11 Q3084.21 1480.89 3089.44 1480.89 Q3095.44 1480.89 3098.58 1485.5 Q3101.76 1490.08 3101.76 1498.83 Q3101.76 1507 3097.87 1511.89 Q3094 1516.75 3087.45 1516.75 Q3085.69 1516.75 3083.89 1516.4 Q3082.08 1516.06 3080.14 1515.36 M3089.44 1500.71 Q3092.59 1500.71 3094.42 1498.56 Q3096.27 1496.4 3096.27 1492.65 Q3096.27 1488.93 3094.42 1486.77 Q3092.59 1484.6 3089.44 1484.6 Q3086.29 1484.6 3084.44 1486.77 Q3082.61 1488.93 3082.61 1492.65 Q3082.61 1496.4 3084.44 1498.56 Q3086.29 1500.71 3089.44 1500.71 Z\" fill=\"#000000\" fill-rule=\"evenodd\" fill-opacity=\"1\" /><path clip-path=\"url(#clip6600)\" d=\"M 0 0 M3202.56 1512.14 L3210.2 1512.14 L3210.2 1485.78 L3201.89 1487.44 L3201.89 1483.19 L3210.15 1481.52 L3214.83 1481.52 L3214.83 1512.14 L3222.46 1512.14 L3222.46 1516.08 L3202.56 1516.08 L3202.56 1512.14 Z\" fill=\"#000000\" fill-rule=\"evenodd\" fill-opacity=\"1\" /><path clip-path=\"url(#clip6600)\" d=\"M 0 0 M3228.34 1512.14 L3235.98 1512.14 L3235.98 1485.78 L3227.67 1487.44 L3227.67 1483.19 L3235.94 1481.52 L3240.61 1481.52 L3240.61 1512.14 L3248.25 1512.14 L3248.25 1516.08 L3228.34 1516.08 L3228.34 1512.14 Z\" fill=\"#000000\" fill-rule=\"evenodd\" fill-opacity=\"1\" /><path clip-path=\"url(#clip6600)\" d=\"M 0 0 M3260.29 1481.52 L3264.22 1481.52 L3252.19 1520.48 L3248.25 1520.48 L3260.29 1481.52 Z\" fill=\"#000000\" fill-rule=\"evenodd\" fill-opacity=\"1\" /><path clip-path=\"url(#clip6600)\" d=\"M 0 0 M3270.1 1512.14 L3277.74 1512.14 L3277.74 1485.78 L3269.43 1487.44 L3269.43 1483.19 L3277.7 1481.52 L3282.37 1481.52 L3282.37 1512.14 L3290.01 1512.14 L3290.01 1516.08 L3270.1 1516.08 L3270.1 1512.14 Z\" fill=\"#000000\" fill-rule=\"evenodd\" fill-opacity=\"1\" /><path clip-path=\"url(#clip6600)\" d=\"M 0 0 M3302.05 1481.52 L3305.98 1481.52 L3293.95 1520.48 L3290.01 1520.48 L3302.05 1481.52 Z\" fill=\"#000000\" fill-rule=\"evenodd\" fill-opacity=\"1\" /><path clip-path=\"url(#clip6600)\" d=\"M 0 0 M3311.86 1512.14 L3319.5 1512.14 L3319.5 1485.78 L3311.19 1487.44 L3311.19 1483.19 L3319.46 1481.52 L3324.13 1481.52 L3324.13 1512.14 L3331.77 1512.14 L3331.77 1516.08 L3311.86 1516.08 L3311.86 1512.14 Z\" fill=\"#000000\" fill-rule=\"evenodd\" fill-opacity=\"1\" /><path clip-path=\"url(#clip6600)\" d=\"M 0 0 M3336.98 1515.36 L3336.98 1511.1 Q3338.74 1511.94 3340.54 1512.38 Q3342.35 1512.81 3344.08 1512.81 Q3348.71 1512.81 3351.14 1509.71 Q3353.6 1506.59 3353.95 1500.25 Q3352.6 1502.24 3350.54 1503.3 Q3348.48 1504.37 3345.98 1504.37 Q3340.8 1504.37 3337.77 1501.24 Q3334.76 1498.09 3334.76 1492.65 Q3334.76 1487.33 3337.9 1484.11 Q3341.05 1480.89 3346.28 1480.89 Q3352.28 1480.89 3355.43 1485.5 Q3358.6 1490.08 3358.6 1498.83 Q3358.6 1507 3354.71 1511.89 Q3350.84 1516.75 3344.29 1516.75 Q3342.53 1516.75 3340.73 1516.4 Q3338.92 1516.06 3336.98 1515.36 M3346.28 1500.71 Q3349.43 1500.71 3351.26 1498.56 Q3353.11 1496.4 3353.11 1492.65 Q3353.11 1488.93 3351.26 1486.77 Q3349.43 1484.6 3346.28 1484.6 Q3343.14 1484.6 3341.28 1486.77 Q3339.45 1488.93 3339.45 1492.65 Q3339.45 1496.4 3341.28 1498.56 Q3343.14 1500.71 3346.28 1500.71 Z\" fill=\"#000000\" fill-rule=\"evenodd\" fill-opacity=\"1\" /><path clip-path=\"url(#clip6600)\" d=\"M 0 0 M3460.28 1481.52 L3478.64 1481.52 L3478.64 1485.45 L3464.56 1485.45 L3464.56 1493.93 Q3465.58 1493.58 3466.6 1493.42 Q3467.62 1493.23 3468.64 1493.23 Q3474.42 1493.23 3477.8 1496.4 Q3481.18 1499.57 3481.18 1504.99 Q3481.18 1510.57 3477.71 1513.67 Q3474.24 1516.75 3467.92 1516.75 Q3465.74 1516.75 3463.47 1516.38 Q3461.23 1516.01 3458.82 1515.27 L3458.82 1510.57 Q3460.9 1511.7 3463.13 1512.26 Q3465.35 1512.81 3467.83 1512.81 Q3471.83 1512.81 3474.17 1510.71 Q3476.51 1508.6 3476.51 1504.99 Q3476.51 1501.38 3474.17 1499.27 Q3471.83 1497.17 3467.83 1497.17 Q3465.95 1497.17 3464.08 1497.58 Q3462.22 1498 3460.28 1498.88 L3460.28 1481.52 Z\" fill=\"#000000\" fill-rule=\"evenodd\" fill-opacity=\"1\" /><path clip-path=\"url(#clip6600)\" d=\"M 0 0 M3493.22 1481.52 L3497.15 1481.52 L3485.12 1520.48 L3481.18 1520.48 L3493.22 1481.52 Z\" fill=\"#000000\" fill-rule=\"evenodd\" fill-opacity=\"1\" /><path clip-path=\"url(#clip6600)\" d=\"M 0 0 M3503.03 1512.14 L3510.67 1512.14 L3510.67 1485.78 L3502.36 1487.44 L3502.36 1483.19 L3510.63 1481.52 L3515.3 1481.52 L3515.3 1512.14 L3522.94 1512.14 L3522.94 1516.08 L3503.03 1516.08 L3503.03 1512.14 Z\" fill=\"#000000\" fill-rule=\"evenodd\" fill-opacity=\"1\" /><path clip-path=\"url(#clip6600)\" d=\"M 0 0 M3534.98 1481.52 L3538.91 1481.52 L3526.88 1520.48 L3522.94 1520.48 L3534.98 1481.52 Z\" fill=\"#000000\" fill-rule=\"evenodd\" fill-opacity=\"1\" /><path clip-path=\"url(#clip6600)\" d=\"M 0 0 M3548.01 1512.14 L3564.33 1512.14 L3564.33 1516.08 L3542.39 1516.08 L3542.39 1512.14 Q3545.05 1509.39 3549.63 1504.76 Q3554.24 1500.11 3555.42 1498.76 Q3557.66 1496.24 3558.54 1494.5 Q3559.45 1492.75 3559.45 1491.06 Q3559.45 1488.3 3557.5 1486.57 Q3555.58 1484.83 3552.48 1484.83 Q3550.28 1484.83 3547.83 1485.59 Q3545.4 1486.36 3542.62 1487.91 L3542.62 1483.19 Q3545.44 1482.05 3547.89 1481.47 Q3550.35 1480.89 3552.39 1480.89 Q3557.76 1480.89 3560.95 1483.58 Q3564.14 1486.26 3564.14 1490.75 Q3564.14 1492.88 3563.33 1494.81 Q3562.55 1496.7 3560.44 1499.3 Q3559.86 1499.97 3556.76 1503.19 Q3553.66 1506.38 3548.01 1512.14 Z\" fill=\"#000000\" fill-rule=\"evenodd\" fill-opacity=\"1\" /><path clip-path=\"url(#clip6600)\" d=\"M 0 0 M3579.4 1484.6 Q3575.79 1484.6 3573.96 1488.16 Q3572.15 1491.7 3572.15 1498.83 Q3572.15 1505.94 3573.96 1509.5 Q3575.79 1513.05 3579.4 1513.05 Q3583.03 1513.05 3584.84 1509.5 Q3586.67 1505.94 3586.67 1498.83 Q3586.67 1491.7 3584.84 1488.16 Q3583.03 1484.6 3579.4 1484.6 M3579.4 1480.89 Q3585.21 1480.89 3588.27 1485.5 Q3591.34 1490.08 3591.34 1498.83 Q3591.34 1507.56 3588.27 1512.17 Q3585.21 1516.75 3579.4 1516.75 Q3573.59 1516.75 3570.51 1512.17 Q3567.46 1507.56 3567.46 1498.83 Q3567.46 1490.08 3570.51 1485.5 Q3573.59 1480.89 3579.4 1480.89 Z\" fill=\"#000000\" fill-rule=\"evenodd\" fill-opacity=\"1\" /><path clip-path=\"url(#clip6600)\" d=\"M 0 0 M3692.52 1512.14 L3700.15 1512.14 L3700.15 1485.78 L3691.84 1487.44 L3691.84 1483.19 L3700.11 1481.52 L3704.78 1481.52 L3704.78 1512.14 L3712.42 1512.14 L3712.42 1516.08 L3692.52 1516.08 L3692.52 1512.14 Z\" fill=\"#000000\" fill-rule=\"evenodd\" fill-opacity=\"1\" /><path clip-path=\"url(#clip6600)\" d=\"M 0 0 M3718.3 1512.14 L3725.94 1512.14 L3725.94 1485.78 L3717.63 1487.44 L3717.63 1483.19 L3725.9 1481.52 L3730.57 1481.52 L3730.57 1512.14 L3738.21 1512.14 L3738.21 1516.08 L3718.3 1516.08 L3718.3 1512.14 Z\" fill=\"#000000\" fill-rule=\"evenodd\" fill-opacity=\"1\" /><path clip-path=\"url(#clip6600)\" d=\"M 0 0 M3750.25 1481.52 L3754.18 1481.52 L3742.15 1520.48 L3738.21 1520.48 L3750.25 1481.52 Z\" fill=\"#000000\" fill-rule=\"evenodd\" fill-opacity=\"1\" /><path clip-path=\"url(#clip6600)\" d=\"M 0 0 M3763.28 1512.14 L3779.6 1512.14 L3779.6 1516.08 L3757.65 1516.08 L3757.65 1512.14 Q3760.32 1509.39 3764.9 1504.76 Q3769.51 1500.11 3770.69 1498.76 Q3772.93 1496.24 3773.81 1494.5 Q3774.71 1492.75 3774.71 1491.06 Q3774.71 1488.3 3772.77 1486.57 Q3770.85 1484.83 3767.75 1484.83 Q3765.55 1484.83 3763.09 1485.59 Q3760.66 1486.36 3757.89 1487.91 L3757.89 1483.19 Q3760.71 1482.05 3763.16 1481.47 Q3765.62 1480.89 3767.65 1480.89 Q3773.02 1480.89 3776.22 1483.58 Q3779.41 1486.26 3779.41 1490.75 Q3779.41 1492.88 3778.6 1494.81 Q3777.82 1496.7 3775.71 1499.3 Q3775.13 1499.97 3772.03 1503.19 Q3768.93 1506.38 3763.28 1512.14 Z\" fill=\"#000000\" fill-rule=\"evenodd\" fill-opacity=\"1\" /><path clip-path=\"url(#clip6600)\" d=\"M 0 0 M3791.64 1481.52 L3795.57 1481.52 L3783.53 1520.48 L3779.6 1520.48 L3791.64 1481.52 Z\" fill=\"#000000\" fill-rule=\"evenodd\" fill-opacity=\"1\" /><path clip-path=\"url(#clip6600)\" d=\"M 0 0 M3804.67 1512.14 L3820.99 1512.14 L3820.99 1516.08 L3799.04 1516.08 L3799.04 1512.14 Q3801.71 1509.39 3806.29 1504.76 Q3810.89 1500.11 3812.08 1498.76 Q3814.32 1496.24 3815.2 1494.5 Q3816.1 1492.75 3816.1 1491.06 Q3816.1 1488.3 3814.16 1486.57 Q3812.24 1484.83 3809.14 1484.83 Q3806.94 1484.83 3804.48 1485.59 Q3802.05 1486.36 3799.27 1487.91 L3799.27 1483.19 Q3802.1 1482.05 3804.55 1481.47 Q3807.01 1480.89 3809.04 1480.89 Q3814.41 1480.89 3817.61 1483.58 Q3820.8 1486.26 3820.8 1490.75 Q3820.8 1492.88 3819.99 1494.81 Q3819.21 1496.7 3817.1 1499.3 Q3816.52 1499.97 3813.42 1503.19 Q3810.32 1506.38 3804.67 1512.14 Z\" fill=\"#000000\" fill-rule=\"evenodd\" fill-opacity=\"1\" /><path clip-path=\"url(#clip6600)\" d=\"M 0 0 M3836.06 1484.6 Q3832.45 1484.6 3830.62 1488.16 Q3828.81 1491.7 3828.81 1498.83 Q3828.81 1505.94 3830.62 1509.5 Q3832.45 1513.05 3836.06 1513.05 Q3839.69 1513.05 3841.5 1509.5 Q3843.33 1505.94 3843.33 1498.83 Q3843.33 1491.7 3841.5 1488.16 Q3839.69 1484.6 3836.06 1484.6 M3836.06 1480.89 Q3841.87 1480.89 3844.92 1485.5 Q3848 1490.08 3848 1498.83 Q3848 1507.56 3844.92 1512.17 Q3841.87 1516.75 3836.06 1516.75 Q3830.25 1516.75 3827.17 1512.17 Q3824.11 1507.56 3824.11 1498.83 Q3824.11 1490.08 3827.17 1485.5 Q3830.25 1480.89 3836.06 1480.89 Z\" fill=\"#000000\" fill-rule=\"evenodd\" fill-opacity=\"1\" /><path clip-path=\"url(#clip6600)\" d=\"M 0 0 M107.834 1271.73 L120.311 1271.73 L120.311 1275.53 L107.834 1275.53 L107.834 1271.73 Z\" fill=\"#000000\" fill-rule=\"evenodd\" fill-opacity=\"1\" /><path clip-path=\"url(#clip6600)\" d=\"M 0 0 M126.19 1282.68 L133.829 1282.68 L133.829 1256.32 L125.519 1257.98 L125.519 1253.72 L133.783 1252.06 L138.459 1252.06 L138.459 1282.68 L146.098 1282.68 L146.098 1286.62 L126.19 1286.62 L126.19 1282.68 Z\" fill=\"#000000\" fill-rule=\"evenodd\" fill-opacity=\"1\" /><path clip-path=\"url(#clip6600)\" d=\"M 0 0 M161.167 1255.13 Q157.556 1255.13 155.727 1258.7 Q153.922 1262.24 153.922 1269.37 Q153.922 1276.48 155.727 1280.04 Q157.556 1283.58 161.167 1283.58 Q164.801 1283.58 166.607 1280.04 Q168.436 1276.48 168.436 1269.37 Q168.436 1262.24 166.607 1258.7 Q164.801 1255.13 161.167 1255.13 M161.167 1251.43 Q166.977 1251.43 170.033 1256.04 Q173.111 1260.62 173.111 1269.37 Q173.111 1278.1 170.033 1282.7 Q166.977 1287.29 161.167 1287.29 Q155.357 1287.29 152.278 1282.7 Q149.223 1278.1 149.223 1269.37 Q149.223 1260.62 152.278 1256.04 Q155.357 1251.43 161.167 1251.43 Z\" fill=\"#000000\" fill-rule=\"evenodd\" fill-opacity=\"1\" /><path clip-path=\"url(#clip6600)\" d=\"M 0 0 M188.181 1255.13 Q184.57 1255.13 182.741 1258.7 Q180.935 1262.24 180.935 1269.37 Q180.935 1276.48 182.741 1280.04 Q184.57 1283.58 188.181 1283.58 Q191.815 1283.58 193.621 1280.04 Q195.449 1276.48 195.449 1269.37 Q195.449 1262.24 193.621 1258.7 Q191.815 1255.13 188.181 1255.13 M188.181 1251.43 Q193.991 1251.43 197.047 1256.04 Q200.125 1260.62 200.125 1269.37 Q200.125 1278.1 197.047 1282.7 Q193.991 1287.29 188.181 1287.29 Q182.371 1287.29 179.292 1282.7 Q176.236 1278.1 176.236 1269.37 Q176.236 1260.62 179.292 1256.04 Q182.371 1251.43 188.181 1251.43 Z\" fill=\"#000000\" fill-rule=\"evenodd\" fill-opacity=\"1\" /><path clip-path=\"url(#clip6600)\" d=\"M 0 0 M134.616 1011.32 L147.093 1011.32 L147.093 1015.12 L134.616 1015.12 L134.616 1011.32 Z\" fill=\"#000000\" fill-rule=\"evenodd\" fill-opacity=\"1\" /><path clip-path=\"url(#clip6600)\" d=\"M 0 0 M152.209 991.649 L170.565 991.649 L170.565 995.584 L156.491 995.584 L156.491 1004.06 Q157.51 1003.71 158.528 1003.55 Q159.547 1003.36 160.565 1003.36 Q166.352 1003.36 169.732 1006.53 Q173.111 1009.7 173.111 1015.12 Q173.111 1020.7 169.639 1023.8 Q166.167 1026.88 159.848 1026.88 Q157.672 1026.88 155.403 1026.51 Q153.158 1026.14 150.75 1025.4 L150.75 1020.7 Q152.834 1021.83 155.056 1022.39 Q157.278 1022.94 159.755 1022.94 Q163.76 1022.94 166.098 1020.84 Q168.436 1018.73 168.436 1015.12 Q168.436 1011.51 166.098 1009.4 Q163.76 1007.3 159.755 1007.3 Q157.88 1007.3 156.005 1007.71 Q154.153 1008.13 152.209 1009.01 L152.209 991.649 Z\" fill=\"#000000\" fill-rule=\"evenodd\" fill-opacity=\"1\" /><path clip-path=\"url(#clip6600)\" d=\"M 0 0 M188.181 994.728 Q184.57 994.728 182.741 998.292 Q180.935 1001.83 180.935 1008.96 Q180.935 1016.07 182.741 1019.63 Q184.57 1023.18 188.181 1023.18 Q191.815 1023.18 193.621 1019.63 Q195.449 1016.07 195.449 1008.96 Q195.449 1001.83 193.621 998.292 Q191.815 994.728 188.181 994.728 M188.181 991.024 Q193.991 991.024 197.047 995.63 Q200.125 1000.21 200.125 1008.96 Q200.125 1017.69 197.047 1022.3 Q193.991 1026.88 188.181 1026.88 Q182.371 1026.88 179.292 1022.3 Q176.236 1017.69 176.236 1008.96 Q176.236 1000.21 179.292 995.63 Q182.371 991.024 188.181 991.024 Z\" fill=\"#000000\" fill-rule=\"evenodd\" fill-opacity=\"1\" /><path clip-path=\"url(#clip6600)\" d=\"M 0 0 M188.181 734.32 Q184.57 734.32 182.741 737.885 Q180.935 741.426 180.935 748.556 Q180.935 755.663 182.741 759.227 Q184.57 762.769 188.181 762.769 Q191.815 762.769 193.621 759.227 Q195.449 755.663 195.449 748.556 Q195.449 741.426 193.621 737.885 Q191.815 734.32 188.181 734.32 M188.181 730.616 Q193.991 730.616 197.047 735.223 Q200.125 739.806 200.125 748.556 Q200.125 757.283 197.047 761.889 Q193.991 766.473 188.181 766.473 Q182.371 766.473 179.292 761.889 Q176.236 757.283 176.236 748.556 Q176.236 739.806 179.292 735.223 Q182.371 730.616 188.181 730.616 Z\" fill=\"#000000\" fill-rule=\"evenodd\" fill-opacity=\"1\" /><path clip-path=\"url(#clip6600)\" d=\"M 0 0 M152.209 470.834 L170.565 470.834 L170.565 474.769 L156.491 474.769 L156.491 483.241 Q157.51 482.894 158.528 482.732 Q159.547 482.547 160.565 482.547 Q166.352 482.547 169.732 485.718 Q173.111 488.889 173.111 494.306 Q173.111 499.885 169.639 502.987 Q166.167 506.065 159.848 506.065 Q157.672 506.065 155.403 505.695 Q153.158 505.324 150.75 504.584 L150.75 499.885 Q152.834 501.019 155.056 501.574 Q157.278 502.13 159.755 502.13 Q163.76 502.13 166.098 500.024 Q168.436 497.917 168.436 494.306 Q168.436 490.695 166.098 488.588 Q163.76 486.482 159.755 486.482 Q157.88 486.482 156.005 486.899 Q154.153 487.315 152.209 488.195 L152.209 470.834 Z\" fill=\"#000000\" fill-rule=\"evenodd\" fill-opacity=\"1\" /><path clip-path=\"url(#clip6600)\" d=\"M 0 0 M188.181 473.913 Q184.57 473.913 182.741 477.477 Q180.935 481.019 180.935 488.149 Q180.935 495.255 182.741 498.82 Q184.57 502.362 188.181 502.362 Q191.815 502.362 193.621 498.82 Q195.449 495.255 195.449 488.149 Q195.449 481.019 193.621 477.477 Q191.815 473.913 188.181 473.913 M188.181 470.209 Q193.991 470.209 197.047 474.815 Q200.125 479.399 200.125 488.149 Q200.125 496.875 197.047 501.482 Q193.991 506.065 188.181 506.065 Q182.371 506.065 179.292 501.482 Q176.236 496.875 176.236 488.149 Q176.236 479.399 179.292 474.815 Q182.371 470.209 188.181 470.209 Z\" fill=\"#000000\" fill-rule=\"evenodd\" fill-opacity=\"1\" /><path clip-path=\"url(#clip6600)\" d=\"M 0 0 M126.19 241.051 L133.829 241.051 L133.829 214.686 L125.519 216.352 L125.519 212.093 L133.783 210.426 L138.459 210.426 L138.459 241.051 L146.098 241.051 L146.098 244.986 L126.19 244.986 L126.19 241.051 Z\" fill=\"#000000\" fill-rule=\"evenodd\" fill-opacity=\"1\" /><path clip-path=\"url(#clip6600)\" d=\"M 0 0 M161.167 213.505 Q157.556 213.505 155.727 217.07 Q153.922 220.612 153.922 227.741 Q153.922 234.848 155.727 238.412 Q157.556 241.954 161.167 241.954 Q164.801 241.954 166.607 238.412 Q168.436 234.848 168.436 227.741 Q168.436 220.612 166.607 217.07 Q164.801 213.505 161.167 213.505 M161.167 209.801 Q166.977 209.801 170.033 214.408 Q173.111 218.991 173.111 227.741 Q173.111 236.468 170.033 241.074 Q166.977 245.658 161.167 245.658 Q155.357 245.658 152.278 241.074 Q149.223 236.468 149.223 227.741 Q149.223 218.991 152.278 214.408 Q155.357 209.801 161.167 209.801 Z\" fill=\"#000000\" fill-rule=\"evenodd\" fill-opacity=\"1\" /><path clip-path=\"url(#clip6600)\" d=\"M 0 0 M188.181 213.505 Q184.57 213.505 182.741 217.07 Q180.935 220.612 180.935 227.741 Q180.935 234.848 182.741 238.412 Q184.57 241.954 188.181 241.954 Q191.815 241.954 193.621 238.412 Q195.449 234.848 195.449 227.741 Q195.449 220.612 193.621 217.07 Q191.815 213.505 188.181 213.505 M188.181 209.801 Q193.991 209.801 197.047 214.408 Q200.125 218.991 200.125 227.741 Q200.125 236.468 197.047 241.074 Q193.991 245.658 188.181 245.658 Q182.371 245.658 179.292 241.074 Q176.236 236.468 176.236 227.741 Q176.236 218.991 179.292 214.408 Q182.371 209.801 188.181 209.801 Z\" fill=\"#000000\" fill-rule=\"evenodd\" fill-opacity=\"1\" /><path clip-path=\"url(#clip6600)\" d=\"M 0 0 M2001.8 1557.3 L2001.8 1567.42 L2013.87 1567.42 L2013.87 1571.97 L2001.8 1571.97 L2001.8 1591.33 Q2001.8 1595.69 2002.98 1596.93 Q2004.19 1598.17 2007.85 1598.17 L2013.87 1598.17 L2013.87 1603.07 L2007.85 1603.07 Q2001.07 1603.07 1998.49 1600.56 Q1995.92 1598.01 1995.92 1591.33 L1995.92 1571.97 L1991.62 1571.97 L1991.62 1567.42 L1995.92 1567.42 L1995.92 1557.3 L2001.8 1557.3 Z\" fill=\"#000000\" fill-rule=\"evenodd\" fill-opacity=\"1\" /><path clip-path=\"url(#clip6600)\" d=\"M 0 0 M2020.01 1567.42 L2025.87 1567.42 L2025.87 1603.07 L2020.01 1603.07 L2020.01 1567.42 M2020.01 1553.55 L2025.87 1553.55 L2025.87 1560.96 L2020.01 1560.96 L2020.01 1553.55 Z\" fill=\"#000000\" fill-rule=\"evenodd\" fill-opacity=\"1\" /><path clip-path=\"url(#clip6600)\" d=\"M 0 0 M2059.76 1574.27 Q2061.96 1570.32 2065.02 1568.44 Q2068.07 1566.56 2072.21 1566.56 Q2077.78 1566.56 2080.8 1570.48 Q2083.83 1574.36 2083.83 1581.55 L2083.83 1603.07 L2077.94 1603.07 L2077.94 1581.75 Q2077.94 1576.62 2076.12 1574.14 Q2074.31 1571.66 2070.59 1571.66 Q2066.03 1571.66 2063.39 1574.68 Q2060.75 1577.7 2060.75 1582.92 L2060.75 1603.07 L2054.86 1603.07 L2054.86 1581.75 Q2054.86 1576.59 2053.05 1574.14 Q2051.23 1571.66 2047.45 1571.66 Q2042.96 1571.66 2040.32 1574.71 Q2037.68 1577.74 2037.68 1582.92 L2037.68 1603.07 L2031.79 1603.07 L2031.79 1567.42 L2037.68 1567.42 L2037.68 1572.96 Q2039.68 1569.68 2042.48 1568.12 Q2045.28 1566.56 2049.13 1566.56 Q2053.02 1566.56 2055.72 1568.54 Q2058.46 1570.51 2059.76 1574.27 Z\" fill=\"#000000\" fill-rule=\"evenodd\" fill-opacity=\"1\" /><path clip-path=\"url(#clip6600)\" d=\"M 0 0 M2120.46 1583.78 L2120.46 1586.65 L2093.53 1586.65 Q2093.92 1592.69 2097.16 1595.88 Q2100.44 1599.03 2106.27 1599.03 Q2109.64 1599.03 2112.79 1598.2 Q2115.97 1597.37 2119.09 1595.72 L2119.09 1601.26 Q2115.94 1602.59 2112.63 1603.29 Q2109.32 1603.99 2105.92 1603.99 Q2097.39 1603.99 2092.39 1599.03 Q2087.42 1594.06 2087.42 1585.6 Q2087.42 1576.84 2092.13 1571.72 Q2096.88 1566.56 2104.9 1566.56 Q2112.09 1566.56 2116.26 1571.21 Q2120.46 1575.83 2120.46 1583.78 M2114.61 1582.06 Q2114.54 1577.26 2111.9 1574.39 Q2109.29 1571.53 2104.96 1571.53 Q2100.06 1571.53 2097.1 1574.3 Q2094.17 1577.07 2093.73 1582.1 L2114.61 1582.06 Z\" fill=\"#000000\" fill-rule=\"evenodd\" fill-opacity=\"1\" /><path clip-path=\"url(#clip6600)\" d=\"M 0 0 M18.7301 887.527 L18.7301 881.67 L54.378 881.67 L54.378 887.527 L18.7301 887.527 M4.85284 887.527 L4.85284 881.67 L12.2689 881.67 L12.2689 887.527 L4.85284 887.527 Z\" fill=\"#000000\" fill-rule=\"evenodd\" fill-opacity=\"1\" /><path clip-path=\"url(#clip6600)\" d=\"M 0 0 M32.8619 845.895 L54.378 845.895 L54.378 851.751 L33.0529 851.751 Q27.9922 851.751 25.4777 853.725 Q22.9633 855.698 22.9633 859.645 Q22.9633 864.387 25.987 867.125 Q29.0107 869.862 34.2306 869.862 L54.378 869.862 L54.378 875.75 L18.7301 875.75 L18.7301 869.862 L24.2682 869.862 Q21.0536 867.761 19.4621 864.928 Q17.8707 862.064 17.8707 858.34 Q17.8707 852.197 21.6901 849.046 Q25.4777 845.895 32.8619 845.895 Z\" fill=\"#000000\" fill-rule=\"evenodd\" fill-opacity=\"1\" /><path clip-path=\"url(#clip6600)\" d=\"M 0 0 M24.1409 816.294 L4.85284 816.294 L4.85284 810.438 L54.378 810.438 L54.378 816.294 L49.0308 816.294 Q52.2137 818.14 53.7733 820.973 Q55.3011 823.774 55.3011 827.721 Q55.3011 834.182 50.1448 838.256 Q44.9886 842.298 36.5859 842.298 Q28.1832 842.298 23.0269 838.256 Q17.8707 834.182 17.8707 827.721 Q17.8707 823.774 19.4303 820.973 Q20.9581 818.14 24.1409 816.294 M36.5859 836.251 Q43.0471 836.251 46.7392 833.609 Q50.3995 830.935 50.3995 826.289 Q50.3995 821.642 46.7392 818.968 Q43.0471 816.294 36.5859 816.294 Q30.1247 816.294 26.4644 818.968 Q22.7723 821.642 22.7723 826.289 Q22.7723 830.935 26.4644 833.609 Q30.1247 836.251 36.5859 836.251 Z\" fill=\"#000000\" fill-rule=\"evenodd\" fill-opacity=\"1\" /><path clip-path=\"url(#clip6600)\" d=\"M 0 0 M18.7301 804.295 L18.7301 798.439 L54.378 798.439 L54.378 804.295 L18.7301 804.295 M4.85284 804.295 L4.85284 798.439 L12.2689 798.439 L12.2689 804.295 L4.85284 804.295 Z\" fill=\"#000000\" fill-rule=\"evenodd\" fill-opacity=\"1\" /><path clip-path=\"url(#clip6600)\" d=\"M 0 0 M20.0987 766.642 L25.5732 766.642 Q24.2046 769.124 23.5362 771.639 Q22.836 774.122 22.836 776.668 Q22.836 782.365 26.4644 785.516 Q30.061 788.667 36.5859 788.667 Q43.1107 788.667 46.7392 785.516 Q50.3358 782.365 50.3358 776.668 Q50.3358 774.122 49.6674 771.639 Q48.9672 769.124 47.5986 766.642 L53.0094 766.642 Q54.1552 769.093 54.7281 771.734 Q55.3011 774.344 55.3011 777.304 Q55.3011 785.357 50.2403 790.099 Q45.1796 794.842 36.5859 794.842 Q27.8649 794.842 22.8678 790.068 Q17.8707 785.262 17.8707 776.922 Q17.8707 774.217 18.4436 771.639 Q18.9847 769.061 20.0987 766.642 Z\" fill=\"#000000\" fill-rule=\"evenodd\" fill-opacity=\"1\" /><path clip-path=\"url(#clip6600)\" d=\"M 0 0 M36.4586 744.298 Q36.4586 751.396 38.0818 754.133 Q39.7051 756.87 43.62 756.87 Q46.7392 756.87 48.5852 754.833 Q50.3995 752.765 50.3995 749.232 Q50.3995 744.362 46.962 741.434 Q43.4927 738.474 37.7635 738.474 L36.4586 738.474 L36.4586 744.298 M34.0396 732.617 L54.378 732.617 L54.378 738.474 L48.9672 738.474 Q52.2137 740.479 53.7733 743.471 Q55.3011 746.463 55.3011 750.791 Q55.3011 756.266 52.2455 759.512 Q49.1582 762.727 44.0019 762.727 Q37.9863 762.727 34.9308 758.717 Q31.8753 754.674 31.8753 746.685 L31.8753 738.474 L31.3023 738.474 Q27.2601 738.474 25.064 741.147 Q22.836 743.789 22.836 748.595 Q22.836 751.651 23.568 754.547 Q24.3001 757.443 25.7642 760.117 L20.3533 760.117 Q19.112 756.902 18.5073 753.879 Q17.8707 750.855 17.8707 747.99 Q17.8707 740.256 21.8811 736.437 Q25.8915 732.617 34.0396 732.617 Z\" fill=\"#000000\" fill-rule=\"evenodd\" fill-opacity=\"1\" /><path clip-path=\"url(#clip6600)\" d=\"M 0 0 M8.6086 720.681 L18.7301 720.681 L18.7301 708.618 L23.2816 708.618 L23.2816 720.681 L42.6333 720.681 Q46.9938 720.681 48.2351 719.504 Q49.4764 718.294 49.4764 714.634 L49.4764 708.618 L54.378 708.618 L54.378 714.634 Q54.378 721.414 51.8636 723.992 Q49.3173 726.57 42.6333 726.57 L23.2816 726.57 L23.2816 730.867 L18.7301 730.867 L18.7301 726.57 L8.6086 726.57 L8.6086 720.681 Z\" fill=\"#000000\" fill-rule=\"evenodd\" fill-opacity=\"1\" /><path clip-path=\"url(#clip6600)\" d=\"M 0 0 M22.836 688.662 Q22.836 693.373 26.5281 696.11 Q30.1883 698.847 36.5859 698.847 Q42.9834 698.847 46.6755 696.142 Q50.3358 693.404 50.3358 688.662 Q50.3358 683.983 46.6437 681.246 Q42.9516 678.509 36.5859 678.509 Q30.252 678.509 26.5599 681.246 Q22.836 683.983 22.836 688.662 M17.8707 688.662 Q17.8707 681.023 22.836 676.663 Q27.8012 672.302 36.5859 672.302 Q45.3387 672.302 50.3358 676.663 Q55.3011 681.023 55.3011 688.662 Q55.3011 696.333 50.3358 700.693 Q45.3387 705.022 36.5859 705.022 Q27.8012 705.022 22.836 700.693 Q17.8707 696.333 17.8707 688.662 Z\" fill=\"#000000\" fill-rule=\"evenodd\" fill-opacity=\"1\" /><path clip-path=\"url(#clip6600)\" d=\"M 0 0 M24.2046 645.502 Q23.6317 646.489 23.377 647.667 Q23.0906 648.813 23.0906 650.213 Q23.0906 655.178 26.3371 657.852 Q29.5518 660.494 35.5992 660.494 L54.378 660.494 L54.378 666.382 L18.7301 666.382 L18.7301 660.494 L24.2682 660.494 Q21.0217 658.648 19.4621 655.688 Q17.8707 652.728 17.8707 648.494 Q17.8707 647.89 17.9662 647.158 Q18.0299 646.425 18.189 645.534 L24.2046 645.502 Z\" fill=\"#000000\" fill-rule=\"evenodd\" fill-opacity=\"1\" /><path clip-path=\"url(#clip6600)\" d=\"M 0 0 M19.7804 616.634 L25.3186 616.634 Q24.0454 619.117 23.4089 621.79 Q22.7723 624.464 22.7723 627.328 Q22.7723 631.689 24.1091 633.885 Q25.4459 636.049 28.1195 636.049 Q30.1565 636.049 31.3342 634.49 Q32.48 632.93 33.5303 628.22 L33.9759 626.214 Q35.3127 619.976 37.7635 617.366 Q40.1825 614.724 44.543 614.724 Q49.5083 614.724 52.4047 618.671 Q55.3011 622.586 55.3011 629.461 Q55.3011 632.325 54.7281 635.445 Q54.1871 638.532 53.0731 641.969 L47.0256 641.969 Q48.7126 638.723 49.5719 635.572 Q50.3995 632.421 50.3995 629.334 Q50.3995 625.196 48.999 622.968 Q47.5667 620.74 44.9886 620.74 Q42.6015 620.74 41.3283 622.363 Q40.0552 623.955 38.8775 629.397 L38.4001 631.434 Q37.2543 636.877 34.899 639.296 Q32.5118 641.715 28.3741 641.715 Q23.3452 641.715 20.608 638.15 Q17.8707 634.585 17.8707 628.029 Q17.8707 624.782 18.3481 621.918 Q18.8256 619.053 19.7804 616.634 Z\" fill=\"#000000\" fill-rule=\"evenodd\" fill-opacity=\"1\" /><polyline clip-path=\"url(#clip6602)\" style=\"stroke:#009af9; stroke-width:4; stroke-opacity:1; fill:none\" points=\"\n",
       "  342.158,373.535 382.965,243.331 423.772,222.498 464.578,409.992 505.385,409.992 546.192,462.073 586.998,316.245 627.805,389.159 668.612,389.159 709.419,170.417 \n",
       "  750.225,175.625 791.032,316.245 831.839,279.788 872.646,305.829 913.452,227.706 954.259,337.078 995.066,446.449 1035.87,503.738 1076.68,571.444 1117.49,436.032 \n",
       "  1158.29,279.788 1199.1,394.367 1239.91,456.865 1280.71,482.906 1321.52,602.693 1362.33,451.657 1403.13,581.861 1443.94,670.399 1484.75,566.236 1525.55,581.861 \n",
       "  1566.36,534.987 1607.17,534.987 1647.97,488.114 1688.78,529.779 1729.59,571.444 1770.39,514.155 1811.2,389.159 1852.01,409.992 1892.81,378.743 1933.62,258.955 \n",
       "  1974.43,331.869 2015.23,144.376 2056.04,425.616 2096.85,363.118 2137.65,212.082 2178.46,295.412 2219.27,102.711 2260.07,87.0864 2300.88,107.919 2341.69,113.127 \n",
       "  2382.49,222.498 2423.3,331.869 2464.11,113.127 2504.91,206.874 2545.72,331.869 2586.53,248.539 2627.33,258.955 2668.14,243.331 2708.95,160.001 2749.75,149.584 \n",
       "  2790.56,227.706 2831.37,165.209 2872.18,253.747 2912.98,279.788 2953.79,409.992 2994.6,201.666 3035.4,404.784 3076.21,352.702 3117.02,321.453 3157.82,436.032 \n",
       "  3198.63,607.901 3239.44,654.775 3280.24,597.485 3321.05,644.358 3361.86,701.648 3402.66,644.358 3443.47,628.734 3484.28,753.73 3525.08,1415.16 3565.89,1227.67 \n",
       "  3606.7,821.435 3647.5,732.897 3688.31,649.567 3729.12,519.363 3769.92,373.535 \n",
       "  \"/>\n",
       "<path clip-path=\"url(#clip6600)\" d=\"\n",
       "M356.925 342.924 L862.767 342.924 L862.767 221.964 L356.925 221.964  Z\n",
       "  \" fill=\"#ffffff\" fill-rule=\"evenodd\" fill-opacity=\"1\"/>\n",
       "<polyline clip-path=\"url(#clip6600)\" style=\"stroke:#000000; stroke-width:4; stroke-opacity:1; fill:none\" points=\"\n",
       "  356.925,342.924 862.767,342.924 862.767,221.964 356.925,221.964 356.925,342.924 \n",
       "  \"/>\n",
       "<polyline clip-path=\"url(#clip6600)\" style=\"stroke:#009af9; stroke-width:4; stroke-opacity:1; fill:none\" points=\"\n",
       "  396.125,282.444 631.325,282.444 \n",
       "  \"/>\n",
       "<path clip-path=\"url(#clip6600)\" d=\"M 0 0 M683.72 299.724 L670.525 265.164 L675.409 265.164 L686.358 294.261 L697.331 265.164 L702.192 265.164 L689.02 299.724 L683.72 299.724 Z\" fill=\"#000000\" fill-rule=\"evenodd\" fill-opacity=\"1\" /><path clip-path=\"url(#clip6600)\" d=\"M 0 0 M714.761 286.692 Q709.599 286.692 707.608 287.872 Q705.618 289.053 705.618 291.9 Q705.618 294.169 707.099 295.511 Q708.604 296.831 711.173 296.831 Q714.715 296.831 716.844 294.331 Q718.997 291.807 718.997 287.641 L718.997 286.692 L714.761 286.692 M723.256 284.933 L723.256 299.724 L718.997 299.724 L718.997 295.789 Q717.539 298.15 715.363 299.284 Q713.187 300.395 710.039 300.395 Q706.057 300.395 703.696 298.173 Q701.358 295.928 701.358 292.178 Q701.358 287.803 704.275 285.581 Q707.215 283.358 713.025 283.358 L718.997 283.358 L718.997 282.942 Q718.997 280.002 717.053 278.405 Q715.131 276.784 711.636 276.784 Q709.414 276.784 707.307 277.317 Q705.201 277.849 703.257 278.914 L703.257 274.979 Q705.594 274.076 707.794 273.636 Q709.993 273.173 712.076 273.173 Q717.701 273.173 720.479 276.09 Q723.256 279.007 723.256 284.933 Z\" fill=\"#000000\" fill-rule=\"evenodd\" fill-opacity=\"1\" /><path clip-path=\"url(#clip6600)\" d=\"M 0 0 M727.724 263.706 L731.983 263.706 L731.983 299.724 L727.724 299.724 L727.724 263.706 Z\" fill=\"#000000\" fill-rule=\"evenodd\" fill-opacity=\"1\" /><path clip-path=\"url(#clip6600)\" d=\"M 0 0 M736.011 289.493 L736.011 273.798 L740.27 273.798 L740.27 289.331 Q740.27 293.011 741.705 294.863 Q743.141 296.692 746.011 296.692 Q749.46 296.692 751.451 294.493 Q753.465 292.294 753.465 288.497 L753.465 273.798 L757.724 273.798 L757.724 299.724 L753.465 299.724 L753.465 295.743 Q751.914 298.104 749.853 299.261 Q747.816 300.395 745.108 300.395 Q740.641 300.395 738.326 297.618 Q736.011 294.84 736.011 289.493 M746.729 273.173 L746.729 273.173 Z\" fill=\"#000000\" fill-rule=\"evenodd\" fill-opacity=\"1\" /><path clip-path=\"url(#clip6600)\" d=\"M 0 0 M784.367 285.696 L784.367 287.78 L764.784 287.78 Q765.062 292.178 767.423 294.493 Q769.807 296.784 774.043 296.784 Q776.497 296.784 778.789 296.182 Q781.103 295.581 783.372 294.377 L783.372 298.405 Q781.08 299.377 778.673 299.886 Q776.265 300.395 773.789 300.395 Q767.585 300.395 763.951 296.784 Q760.34 293.173 760.34 287.016 Q760.34 280.65 763.765 276.923 Q767.215 273.173 773.048 273.173 Q778.279 273.173 781.312 276.553 Q784.367 279.909 784.367 285.696 M780.108 284.446 Q780.062 280.951 778.14 278.868 Q776.242 276.784 773.094 276.784 Q769.529 276.784 767.377 278.798 Q765.247 280.812 764.923 284.47 L780.108 284.446 Z\" fill=\"#000000\" fill-rule=\"evenodd\" fill-opacity=\"1\" /></svg>\n"
      ]
     },
     "execution_count": 9,
     "metadata": {},
     "output_type": "execute_result"
    }
   ],
   "source": [
    "using Plots\n",
    "\n",
    "count = size(df)[1]\n",
    "rows = 1:count\n",
    "dates = format_dates( df[rows,2] , \"m/d/yy\")\n",
    "\n",
    "gr()\n",
    "plot(          dates, # x-axis: dates\n",
    "               [  df[rows,3]    ], # y-axis\n",
    "    label    = [  columns[3] \"\"   ]  ,\n",
    "    legend   =:topleft, \n",
    "              # :right, :left, :top, :bottom, :inside, :best, :legend, :topright, :topleft, :bottomleft, :bottomright\n",
    "    xlabel   = \"time\",\n",
    "    ylabel   = \"indicators\",\n",
    "    size     = (980, 400), # width, height\n",
    "    layout = (1, 1) # number of graphs: vertically, horizontally\n",
    "    )"
   ]
  },
  {
   "cell_type": "markdown",
   "metadata": {},
   "source": [
    "## Fill in Empty Dates"
   ]
  },
  {
   "cell_type": "code",
   "execution_count": 10,
   "metadata": {},
   "outputs": [],
   "source": [
    "populate_missing_dates!(df)"
   ]
  },
  {
   "cell_type": "code",
   "execution_count": 13,
   "metadata": {},
   "outputs": [
    {
     "name": "stdout",
     "output_type": "stream",
     "text": [
      "7×4 DataFrame\n",
      "│ Row │ Day    │ Date       │ Value   │ Original │\n",
      "│     │ \u001b[90mInt64\u001b[39m  │ \u001b[90mDate\u001b[39m       │ \u001b[90mFloat64\u001b[39m │ \u001b[90mFloat64\u001b[39m  │\n",
      "├─────┼────────┼────────────┼─────────┼──────────┤\n",
      "│ 1   │ 735173 │ 2013-11-01 │ 72.0    │ 53.2     │\n",
      "│ 2   │ 735599 │ 2015-01-01 │ 85.0    │ 54.9     │\n",
      "│ 3   │ 736025 │ 2016-03-02 │ 35.0    │ 48.5     │\n",
      "│ 4   │ 736451 │ 2017-05-02 │ 62.0    │ 52.0     │\n",
      "│ 5   │ 736877 │ 2018-07-02 │ 94.0    │ 56.0     │\n",
      "│ 6   │ 737303 │ 2019-09-01 │ 60.0    │ 51.7     │\n",
      "│ 7   │ 737729 │ 2020-10-31 │ 44.0    │ 49.6     │\n",
      " Dataset dimentions: (2559, 4)\n",
      "\n",
      " variable columns:\n",
      "1 Day\n",
      "2 Date\n",
      "3 Value\n",
      "4 Original\n",
      "\n"
     ]
    }
   ],
   "source": [
    "df = sort(df, [:Day]);\n",
    "count = size(df)[1]\n",
    "first(df, 6)\n",
    "columns = preview_data(df)\n",
    "println()"
   ]
  },
  {
   "cell_type": "code",
   "execution_count": null,
   "metadata": {},
   "outputs": [],
   "source": []
  }
 ],
 "metadata": {
  "kernelspec": {
   "display_name": "Julia 1.4.2",
   "language": "julia",
   "name": "julia-1.4"
  },
  "language_info": {
   "file_extension": ".jl",
   "mimetype": "application/julia",
   "name": "julia",
   "version": "1.4.2"
  },
  "toc": {
   "base_numbering": 1,
   "nav_menu": {},
   "number_sections": true,
   "sideBar": true,
   "skip_h1_title": true,
   "title_cell": "Table of Contents",
   "title_sidebar": "Contents",
   "toc_cell": true,
   "toc_position": {},
   "toc_section_display": true,
   "toc_window_display": true
  }
 },
 "nbformat": 4,
 "nbformat_minor": 4
}
