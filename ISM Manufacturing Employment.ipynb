{
 "cells": [
  {
   "cell_type": "markdown",
   "metadata": {},
   "source": [
    "# ISM Manufacturing Employment\n",
    "\n",
    "ISM Manufacturing Employment is one of the diffuse indicators, based on which the Supply Management Institute calculates the Manufacturing PMI. It reflects a change in employment in industrial companies.\n",
    "\n",
    "The index calculation is based on data collected from a monthly survey of supply managers from 18 US industries. Respondents estimate employment situation in their company in the past month: whether it has improved, deteriorated or has not changed. The collected data are processed and compiled to a diffuse index. The index weight in the total manufacturing PMI calculation is 20%.\n",
    "\n",
    "The ISM Manufacturing Employment index is usually closely correlated with other data released by the Bureau of Labor Statistics. Growth of employment in the manufacturing sector usually reflects a generally positive situation in the labor market: manufacturers hire more employees, so the number of jobs is growing, and the unemployment rate is declining.\n",
    "\n",
    "However, the index generally does not influence dollar quotes directly and is normally interpreted as part of PMI.\n",
    "\n",
    "## Source\n",
    "- https://www.mql5.com/en/economic-calendar/united-states/ism-manufacturing-employment"
   ]
  },
  {
   "cell_type": "markdown",
   "metadata": {
    "toc": true
   },
   "source": [
    "<h1>Table of Contents<span class=\"tocSkip\"></span></h1>\n",
    "<div class=\"toc\"><ul class=\"toc-item\"><li><span><a href=\"#Source\" data-toc-modified-id=\"Source-1\">Source</a></span></li><li><span><a href=\"#Set-Up\" data-toc-modified-id=\"Set-Up-2\">Set Up</a></span></li><li><span><a href=\"#Read-Data\" data-toc-modified-id=\"Read-Data-3\">Read Data</a></span><ul class=\"toc-item\"><li><span><a href=\"#Sample-the-data\" data-toc-modified-id=\"Sample-the-data-3.1\">Sample the data</a></span></li></ul></li></ul></div>"
   ]
  },
  {
   "cell_type": "markdown",
   "metadata": {},
   "source": [
    "## Set Up"
   ]
  },
  {
   "cell_type": "code",
   "execution_count": 6,
   "metadata": {},
   "outputs": [
    {
     "name": "stdout",
     "output_type": "stream",
     "text": [
      "\n",
      "\n",
      "\n"
     ]
    }
   ],
   "source": [
    "dataset_file_name = \"united-states.ism-manufacturing-employment.csv\"\n",
    "\n",
    "path_data_original = \"./Data/original/\"\n",
    "date_original_format = \"yyyy-mm-dd\"\n",
    "\n",
    "include(\"MarketIndicators.jl\") \n",
    "println()"
   ]
  },
  {
   "cell_type": "markdown",
   "metadata": {},
   "source": [
    "## Read Data"
   ]
  },
  {
   "cell_type": "code",
   "execution_count": 7,
   "metadata": {},
   "outputs": [
    {
     "name": "stdout",
     "output_type": "stream",
     "text": [
      "./Data/original/united-states.ism-manufacturing-employment.csv\n",
      "data dimentions: (85, 4)\n"
     ]
    },
    {
     "data": {
      "text/html": [
       "<table class=\"data-frame\"><thead><tr><th></th><th>variable</th><th>mean</th><th>min</th><th>median</th><th>max</th><th>nunique</th><th>nmissing</th><th>eltype</th></tr><tr><th></th><th>Symbol</th><th>Union…</th><th>Any</th><th>Union…</th><th>Any</th><th>Union…</th><th>Union…</th><th>Type</th></tr></thead><tbody><p>4 rows × 8 columns</p><tr><th>1</th><td>Date</td><td></td><td>2013.11.01</td><td></td><td>2020.11.02</td><td>85</td><td></td><td>String</td></tr><tr><th>2</th><td>ActualValue</td><td>52.2353</td><td>27.5</td><td>52.8</td><td>60.3</td><td></td><td></td><td>Float64</td></tr><tr><th>3</th><td>ForecastValue</td><td>52.3487</td><td>34.1</td><td>55.8</td><td>63.5</td><td></td><td>46</td><td>Union{Missing, Float64}</td></tr><tr><th>4</th><td>PreviousValue</td><td>52.2357</td><td>27.5</td><td>52.8</td><td>60.3</td><td></td><td>1</td><td>Union{Missing, Float64}</td></tr></tbody></table>"
      ],
      "text/latex": [
       "\\begin{tabular}{r|cccccccc}\n",
       "\t& variable & mean & min & median & max & nunique & nmissing & eltype\\\\\n",
       "\t\\hline\n",
       "\t& Symbol & Union… & Any & Union… & Any & Union… & Union… & Type\\\\\n",
       "\t\\hline\n",
       "\t1 & Date &  & 2013.11.01 &  & 2020.11.02 & 85 &  & String \\\\\n",
       "\t2 & ActualValue & 52.2353 & 27.5 & 52.8 & 60.3 &  &  & Float64 \\\\\n",
       "\t3 & ForecastValue & 52.3487 & 34.1 & 55.8 & 63.5 &  & 46 & Union\\{Missing, Float64\\} \\\\\n",
       "\t4 & PreviousValue & 52.2357 & 27.5 & 52.8 & 60.3 &  & 1 & Union\\{Missing, Float64\\} \\\\\n",
       "\\end{tabular}\n"
      ],
      "text/plain": [
       "4×8 DataFrame. Omitted printing of 2 columns\n",
       "│ Row │ variable      │ mean    │ min        │ median │ max        │ nunique │\n",
       "│     │ \u001b[90mSymbol\u001b[39m        │ \u001b[90mUnion…\u001b[39m  │ \u001b[90mAny\u001b[39m        │ \u001b[90mUnion…\u001b[39m │ \u001b[90mAny\u001b[39m        │ \u001b[90mUnion…\u001b[39m  │\n",
       "├─────┼───────────────┼─────────┼────────────┼────────┼────────────┼─────────┤\n",
       "│ 1   │ Date          │         │ 2013.11.01 │        │ 2020.11.02 │ 85      │\n",
       "│ 2   │ ActualValue   │ 52.2353 │ 27.5       │ 52.8   │ 60.3       │         │\n",
       "│ 3   │ ForecastValue │ 52.3487 │ 34.1       │ 55.8   │ 63.5       │         │\n",
       "│ 4   │ PreviousValue │ 52.2357 │ 27.5       │ 52.8   │ 60.3       │         │"
      ]
     },
     "execution_count": 7,
     "metadata": {},
     "output_type": "execute_result"
    }
   ],
   "source": [
    "#data = available_datasets() # uncomment to see all available datasets\n",
    "\n",
    "df = fetch_dataset(dataset_file_name, date_original_format , path_data_original )\n",
    "record_count = size(df)[1]\n",
    "println(\"data dimentions: \", size(df) )\n",
    "\n",
    "using Statistics\n",
    "describe(df)"
   ]
  },
  {
   "cell_type": "markdown",
   "metadata": {},
   "source": [
    "### Sample the data"
   ]
  },
  {
   "cell_type": "code",
   "execution_count": 8,
   "metadata": {},
   "outputs": [
    {
     "name": "stdout",
     "output_type": "stream",
     "text": [
      "7×4 DataFrame\n",
      "│ Row │ Date       │ ActualValue │ ForecastValue │ PreviousValue │\n",
      "│     │ \u001b[90mString\u001b[39m     │ \u001b[90mFloat64\u001b[39m     │ \u001b[90mFloat64⍰\u001b[39m      │ \u001b[90mFloat64⍰\u001b[39m      │\n",
      "├─────┼────────────┼─────────────┼───────────────┼───────────────┤\n",
      "│ 1   │ 2013.11.01 │ 53.2        │ \u001b[90mmissing\u001b[39m       │ \u001b[90mmissing\u001b[39m       │\n",
      "│ 2   │ 2015.01.02 │ 56.8        │ \u001b[90mmissing\u001b[39m       │ 54.9          │\n",
      "│ 3   │ 2016.03.01 │ 48.5        │ \u001b[90mmissing\u001b[39m       │ 45.9          │\n",
      "│ 4   │ 2017.05.01 │ 52.0        │ \u001b[90mmissing\u001b[39m       │ 58.9          │\n",
      "│ 5   │ 2018.07.02 │ 56.0        │ 55.3          │ 56.3          │\n",
      "│ 6   │ 2019.09.03 │ 47.4        │ 56.0          │ 51.7          │\n",
      "│ 7   │ 2020.11.02 │ 53.2        │ 40.9          │ 49.6          │\n",
      " Dataset dimentions: (85, 4)\n",
      "\n",
      " Column numbering:\n",
      "1 Date\n",
      "2 ActualValue\n",
      "3 ForecastValue\n",
      "4 PreviousValue\n",
      "\n"
     ]
    }
   ],
   "source": [
    "columns = preview_data(df) # uncomment to see the data\n",
    "println()"
   ]
  },
  {
   "cell_type": "code",
   "execution_count": null,
   "metadata": {},
   "outputs": [],
   "source": []
  }
 ],
 "metadata": {
  "kernelspec": {
   "display_name": "Julia 1.4.2",
   "language": "julia",
   "name": "julia-1.4"
  },
  "language_info": {
   "file_extension": ".jl",
   "mimetype": "application/julia",
   "name": "julia",
   "version": "1.4.2"
  },
  "toc": {
   "base_numbering": 1,
   "nav_menu": {},
   "number_sections": false,
   "sideBar": true,
   "skip_h1_title": true,
   "title_cell": "Table of Contents",
   "title_sidebar": "Contents",
   "toc_cell": true,
   "toc_position": {},
   "toc_section_display": true,
   "toc_window_display": true
  }
 },
 "nbformat": 4,
 "nbformat_minor": 4
}
