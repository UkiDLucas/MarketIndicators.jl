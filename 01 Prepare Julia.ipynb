{
 "cells": [
  {
   "cell_type": "markdown",
   "metadata": {
    "toc": true
   },
   "source": [
    "<h1>Table of Contents<span class=\"tocSkip\"></span></h1>\n",
    "<div class=\"toc\"><ul class=\"toc-item\"><li><span><a href=\"#Include-functions-for-Market-Indicators\" data-toc-modified-id=\"Include-functions-for-Market-Indicators-1\">Include functions for Market Indicators</a></span></li><li><span><a href=\"#Last-update-date\" data-toc-modified-id=\"Last-update-date-2\">Last update date</a></span></li><li><span><a href=\"#Update-Currently-Installed-Packages\" data-toc-modified-id=\"Update-Currently-Installed-Packages-3\">Update Currently Installed Packages</a></span></li><li><span><a href=\"#Useful-Libraries\" data-toc-modified-id=\"Useful-Libraries-4\">Useful Libraries</a></span></li><li><span><a href=\"#Show-Environment-Data\" data-toc-modified-id=\"Show-Environment-Data-5\">Show Environment Data</a></span></li><li><span><a href=\"#Read-and-install-packages-from-a-text-file\" data-toc-modified-id=\"Read-and-install-packages-from-a-text-file-6\">Read and install packages from a text file</a></span></li><li><span><a href=\"#Show-all-currently-installed-Packages\" data-toc-modified-id=\"Show-all-currently-installed-Packages-7\">Show all currently installed Packages</a></span></li></ul></div>"
   ]
  },
  {
   "cell_type": "markdown",
   "metadata": {},
   "source": [
    "# Include functions for Market Indicators"
   ]
  },
  {
   "cell_type": "code",
   "execution_count": 2,
   "metadata": {},
   "outputs": [
    {
     "name": "stdout",
     "output_type": "stream",
     "text": [
      "function: df = fetch_data(file_path, date_format=\"yyyy-mm-dd\" )\n",
      "function: df = shift_dates_by_days!(df, shift_days=-1, date_column=1)\n",
      "function: rata_die = days_since_day_one(df, row, date_column) \n",
      "function: df = update_rata_die!(df, days_column=1, date_column=2)\n",
      "function: df = insert_rata_die_column!(df)\n"
     ]
    }
   ],
   "source": [
    "include(\"MarketIndicators.jl\")"
   ]
  },
  {
   "cell_type": "markdown",
   "metadata": {},
   "source": [
    "# Last update date"
   ]
  },
  {
   "cell_type": "code",
   "execution_count": 3,
   "metadata": {},
   "outputs": [
    {
     "name": "stdout",
     "output_type": "stream",
     "text": [
      "Last update: Sep. 9, 2020 21:38\n"
     ]
    }
   ],
   "source": [
    "updated()"
   ]
  },
  {
   "cell_type": "markdown",
   "metadata": {},
   "source": [
    "# Update Currently Installed Packages\n",
    "\n",
    "This is take a while!"
   ]
  },
  {
   "cell_type": "code",
   "execution_count": null,
   "metadata": {},
   "outputs": [],
   "source": [
    "# using Pkg; Pkg.update()"
   ]
  },
  {
   "cell_type": "markdown",
   "metadata": {},
   "source": [
    "# Useful Libraries\n",
    "\n",
    "Uncomment the lines below if you are missing given libraries, or you want to update to the newest version.\n",
    "\n",
    "**Warning:** the updates and required pre-compiling will take a lot of time time. \n",
    "\n",
    "The list below was auto-generated. "
   ]
  },
  {
   "cell_type": "code",
   "execution_count": null,
   "metadata": {},
   "outputs": [],
   "source": [
    "import Pkg;"
   ]
  },
  {
   "cell_type": "code",
   "execution_count": null,
   "metadata": {},
   "outputs": [],
   "source": [
    "#Pkg.add(\"Formatting\")\n",
    "#using Formatting\n",
    "\n",
    "# Pkg.add(\"Atom\") \n",
    "# using Atom\n",
    " \n",
    "# Pkg.add(\"BinDeps\") \n",
    "# using BinDeps\n",
    " \n",
    "# Pkg.add(\"CSV\") \n",
    "# using CSV\n",
    " \n",
    "# Pkg.add(\"CUDAapi\") \n",
    "# using CUDAapi\n",
    " \n",
    "# Pkg.add(\"Calculus\") \n",
    "# using Calculus\n",
    " \n",
    "# Pkg.add(\"CodecZlib\") \n",
    "# using CodecZlib\n",
    " \n",
    "# Pkg.add(\"Codecs\") \n",
    "# using Codecs\n",
    " \n",
    "# Pkg.add(\"ColorTypes\") \n",
    "# using ColorTypes\n",
    " \n",
    "# Pkg.add(\"Colors\") \n",
    "# using Colors\n",
    " \n",
    "# Pkg.add(\"Combinatorics\") \n",
    "# using Combinatorics\n",
    " \n",
    "# Pkg.add(\"Compat\") \n",
    "# using Compat\n",
    " \n",
    "# Pkg.add(\"Compose\") \n",
    "# using Compose\n",
    " \n",
    "# Pkg.add(\"Contour\") \n",
    "# using Contour\n",
    " \n",
    "# Pkg.add(\"DataArrays\") \n",
    "# using DataArrays\n",
    " \n",
    "# Pkg.add(\"DataFrames\") \n",
    "# using DataFrames\n",
    " \n",
    "# Pkg.add(\"DataStructures\") \n",
    "# using DataStructures\n",
    " \n",
    "# Pkg.add(\"Distances\") \n",
    "# using Distances\n",
    " \n",
    "# Pkg.add(\"Distributions\") \n",
    "# using Distributions\n",
    " \n",
    "# Pkg.add(\"FileIO\") \n",
    "# using FileIO\n",
    " \n",
    "# Pkg.add(\"FixedPointNumbers\") \n",
    "# using FixedPointNumbers\n",
    " \n",
    "# Pkg.add(\"Flux\") \n",
    "# using Flux\n",
    " \n",
    "# Pkg.add(\"ForwardDiff\") \n",
    "# using ForwardDiff\n",
    " \n",
    "# Pkg.add(\"GLM\") \n",
    "# using GLM\n",
    " \n",
    "# Pkg.add(\"GR\") \n",
    "# using GR\n",
    " \n",
    "# Pkg.add(\"GZip\") \n",
    "# using GZip\n",
    " \n",
    "# Pkg.add(\"GeometryBasics\") \n",
    "# using GeometryBasics\n",
    " \n",
    "# Pkg.add(\"Hexagons\") \n",
    "# using Hexagons\n",
    " \n",
    "# Pkg.add(\"HypothesisTests\") \n",
    "# using HypothesisTests\n",
    " \n",
    "# Pkg.add(\"IJulia\") \n",
    "# using IJulia\n",
    " \n",
    "# Pkg.add(\"JSON\") \n",
    "# using JSON\n",
    " \n",
    "# Pkg.add(\"Juno\") \n",
    "# using Juno\n",
    " \n",
    "# Pkg.add(\"KernelDensity\") \n",
    "# using KernelDensity\n",
    " \n",
    "# Pkg.add(\"Knet\") \n",
    "# using Knet\n",
    " \n",
    "# Pkg.add(\"Lathe\") \n",
    "# using Lathe\n",
    " \n",
    "# Pkg.add(\"Loess\") \n",
    "# using Loess\n",
    " \n",
    "# Pkg.add(\"Measures\") \n",
    "# using Measures\n",
    " \n",
    "# Pkg.add(\"Metalhead\") \n",
    "# using Metalhead\n",
    " \n",
    "# Pkg.add(\"NaNMath\") \n",
    "# using NaNMath\n",
    " \n",
    "# Pkg.add(\"OffsetArrays\") \n",
    "# using OffsetArrays\n",
    " \n",
    "# Pkg.add(\"Optim\") \n",
    "# using Optim\n",
    " \n",
    "# Pkg.add(\"PDMats\") \n",
    "# using PDMats\n",
    " \n",
    "# Pkg.add(\"Parameters\") \n",
    "# using Parameters\n",
    " \n",
    "# Pkg.add(\"Plots\") \n",
    "# using Plots\n",
    " \n",
    "# Pkg.add(\"Polynomials\") \n",
    "# using Polynomials\n",
    " \n",
    "# Pkg.add(\"Primes\") \n",
    "# using Primes\n",
    " \n",
    "# Pkg.add(\"PyCall\") \n",
    "# using PyCall\n",
    " \n",
    "# Pkg.add(\"PyPlot\") \n",
    "# using PyPlot\n",
    " \n",
    "# Pkg.add(\"QuartzImageIO\") \n",
    "# using QuartzImageIO\n",
    " \n",
    "# Pkg.add(\"RDatasets\") \n",
    "# using RDatasets\n",
    " \n",
    "# Pkg.add(\"Reexport\") \n",
    "# using Reexport\n",
    " \n",
    "# Pkg.add(\"Rmath\") \n",
    "# using Rmath\n",
    " \n",
    "# Pkg.add(\"Roots\") \n",
    "# using Roots\n",
    " \n",
    "# Pkg.add(\"Showoff\") \n",
    "# using Showoff\n",
    " \n",
    "# Pkg.add(\"SortingAlgorithms\") \n",
    "# using SortingAlgorithms\n",
    " \n",
    "# Pkg.add(\"StaticArrays\") \n",
    "# using StaticArrays\n",
    " \n",
    "# Pkg.add(\"StatsBase\") \n",
    "# using StatsBase\n",
    " \n",
    "# Pkg.add(\"StatsFuns\") \n",
    "# using StatsFuns\n",
    " \n",
    "# Pkg.add(\"StatsPlots\") \n",
    "# using StatsPlots\n",
    " \n",
    "# Pkg.add(\"TensorFlow\") \n",
    "# using TensorFlow\n",
    " \n",
    "# Pkg.add(\"TextAnalysis\") \n",
    "# using TextAnalysis\n",
    " \n",
    "# Pkg.add(\"TinySegmenter\") \n",
    "# using TinySegmenter\n",
    " \n",
    "# Pkg.add(\"URIParser\") \n",
    "# using URIParser\n",
    " \n",
    "# Pkg.add(\"UnicodePlots\") \n",
    "# using UnicodePlots\n",
    " \n",
    "# Pkg.add(\"WordTokenizers\") \n",
    "# using WordTokenizers\n",
    " \n",
    "# Pkg.add(\"Dates\") \n",
    "# using Dates\n",
    " \n",
    "# Pkg.add(\"DelimitedFiles\") \n",
    "# using DelimitedFiles\n",
    " \n",
    "# Pkg.add(\"SHA\") \n",
    "# using SHA\n",
    " \n",
    "# Pkg.add(\"Statistics\") \n",
    "# using Statistics"
   ]
  },
  {
   "cell_type": "markdown",
   "metadata": {},
   "source": [
    "# Show Environment Data "
   ]
  },
  {
   "cell_type": "code",
   "execution_count": null,
   "metadata": {},
   "outputs": [],
   "source": [
    "versioninfo(verbose=true)"
   ]
  },
  {
   "cell_type": "markdown",
   "metadata": {},
   "source": [
    "# Read and install packages from a text file\n",
    "\n",
    "This will take a long time!"
   ]
  },
  {
   "cell_type": "code",
   "execution_count": null,
   "metadata": {},
   "outputs": [],
   "source": [
    "packages = readlines(\"Julia_packages.txt\", keep=true) \n",
    "for i in 1:length(packages)\n",
    "    line = packages[i] # take next line, for example: \"[5789e2e9] FileIO v1.4.3\"\n",
    "    line = line[14:end] # cut off the first 14 characters, i.e. the package [id]\n",
    "    last_space = findlast(\" \", line)[1]  # find last space, take the first dimention\n",
    "    cut2 = last_space - 1 # one character before the last space\n",
    "    package = line[1:cut2]\n",
    "    println(\"# Pkg.add(\\\"\", package,\"\\\") \")\n",
    "    println(\"# using \", package )\n",
    "    println(\" \" )\n",
    "    Pkg.add( package )\n",
    "end"
   ]
  },
  {
   "cell_type": "markdown",
   "metadata": {},
   "source": [
    "# Show all currently installed Packages"
   ]
  },
  {
   "cell_type": "code",
   "execution_count": null,
   "metadata": {},
   "outputs": [],
   "source": [
    "Pkg.status()"
   ]
  },
  {
   "cell_type": "code",
   "execution_count": null,
   "metadata": {},
   "outputs": [],
   "source": []
  }
 ],
 "metadata": {
  "kernelspec": {
   "display_name": "Julia 1.4.2",
   "language": "julia",
   "name": "julia-1.4"
  },
  "language_info": {
   "file_extension": ".jl",
   "mimetype": "application/julia",
   "name": "julia",
   "version": "1.4.2"
  },
  "toc": {
   "base_numbering": 1,
   "nav_menu": {},
   "number_sections": false,
   "sideBar": true,
   "skip_h1_title": false,
   "title_cell": "Table of Contents",
   "title_sidebar": "Contents",
   "toc_cell": true,
   "toc_position": {},
   "toc_section_display": true,
   "toc_window_display": true
  }
 },
 "nbformat": 4,
 "nbformat_minor": 4
}
