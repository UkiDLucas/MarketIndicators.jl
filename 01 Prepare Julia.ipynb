{
 "cells": [
  {
   "cell_type": "markdown",
   "metadata": {
    "toc": true
   },
   "source": [
    "<h1>Table of Contents<span class=\"tocSkip\"></span></h1>\n",
    "<div class=\"toc\"><ul class=\"toc-item\"><li><span><a href=\"#Include-functions-for-Market-Indicators\" data-toc-modified-id=\"Include-functions-for-Market-Indicators-1\">Include functions for Market Indicators</a></span></li><li><span><a href=\"#Last-update-date\" data-toc-modified-id=\"Last-update-date-2\">Last update date</a></span></li><li><span><a href=\"#Update-Currently-Installed-Packages\" data-toc-modified-id=\"Update-Currently-Installed-Packages-3\">Update Currently Installed Packages</a></span></li><li><span><a href=\"#Useful-Libraries\" data-toc-modified-id=\"Useful-Libraries-4\">Useful Libraries</a></span></li><li><span><a href=\"#Show-Environment-Data\" data-toc-modified-id=\"Show-Environment-Data-5\">Show Environment Data</a></span></li><li><span><a href=\"#Read-and-install-packages-from-a-text-file\" data-toc-modified-id=\"Read-and-install-packages-from-a-text-file-6\">Read and install packages from a text file</a></span></li><li><span><a href=\"#Show-all-currently-installed-Packages\" data-toc-modified-id=\"Show-all-currently-installed-Packages-7\">Show all currently installed Packages</a></span></li></ul></div>"
   ]
  },
  {
   "cell_type": "markdown",
   "metadata": {},
   "source": [
    "# Last update date"
   ]
  },
  {
   "cell_type": "code",
   "execution_count": null,
   "metadata": {},
   "outputs": [],
   "source": [
    "include(\"MarketIndicators.jl\")\n",
    "updated()"
   ]
  },
  {
   "cell_type": "markdown",
   "metadata": {},
   "source": [
    "# Show Environment Data "
   ]
  },
  {
   "cell_type": "code",
   "execution_count": null,
   "metadata": {},
   "outputs": [],
   "source": [
    "versioninfo(verbose=true)"
   ]
  },
  {
   "cell_type": "markdown",
   "metadata": {},
   "source": [
    "# Update Currently Installed Packages\n",
    "\n",
    "This is take a while!"
   ]
  },
  {
   "cell_type": "code",
   "execution_count": null,
   "metadata": {},
   "outputs": [],
   "source": [
    "import Pkg\n",
    "using Pkg \n",
    "Pkg.update()"
   ]
  },
  {
   "cell_type": "markdown",
   "metadata": {},
   "source": [
    "# Read and install packages from a text file\n",
    "\n",
    "This will take a long time!"
   ]
  },
  {
   "cell_type": "code",
   "execution_count": null,
   "metadata": {},
   "outputs": [],
   "source": [
    "packages = readlines(\"Julia_packages.txt\", keep=true) \n",
    "for i in 1:length(packages)\n",
    "    line = packages[i] # take next line, for example: \"[5789e2e9] FileIO v1.4.3\"\n",
    "    line = line[14:end] # cut off the first 14 characters, i.e. the package [id]\n",
    "    last_space = findlast(\" \", line)[1]  # find last space, take the first dimention\n",
    "    cut2 = last_space - 1 # one character before the last space\n",
    "    package = line[1:cut2]\n",
    "    println(\"# Pkg.add(\\\"\", package,\"\\\") \")\n",
    "    println(\"# using \", package )\n",
    "    println(\" \" )\n",
    "    Pkg.add( package )\n",
    "end"
   ]
  },
  {
   "cell_type": "markdown",
   "metadata": {},
   "source": [
    "# Show all currently installed Packages"
   ]
  },
  {
   "cell_type": "code",
   "execution_count": null,
   "metadata": {},
   "outputs": [],
   "source": [
    "Pkg.status()"
   ]
  },
  {
   "cell_type": "code",
   "execution_count": null,
   "metadata": {},
   "outputs": [],
   "source": []
  }
 ],
 "metadata": {
  "kernelspec": {
   "display_name": "Julia 1.5.0",
   "language": "julia",
   "name": "julia-1.5"
  },
  "language_info": {
   "file_extension": ".jl",
   "mimetype": "application/julia",
   "name": "julia",
   "version": "1.5.0"
  },
  "toc": {
   "base_numbering": 1,
   "nav_menu": {},
   "number_sections": false,
   "sideBar": true,
   "skip_h1_title": false,
   "title_cell": "Table of Contents",
   "title_sidebar": "Contents",
   "toc_cell": true,
   "toc_position": {},
   "toc_section_display": true,
   "toc_window_display": true
  }
 },
 "nbformat": 4,
 "nbformat_minor": 4
}
