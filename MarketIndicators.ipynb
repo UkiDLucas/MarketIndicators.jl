{
 "cells": [
  {
   "cell_type": "markdown",
   "metadata": {},
   "source": [
    "# MarketIndicators.jl\n",
    "\n",
    "*by [Uki D. Lucas](https://www.linkedin.com/in/ukidlucas/)*\n",
    "\n",
    "This project was started in August 2020 on [GitHub](https://github.com/UkiDLucas/MarketIndicators.jl)"
   ]
  },
  {
   "cell_type": "markdown",
   "metadata": {
    "toc": true
   },
   "source": [
    "<h1>Table of Contents<span class=\"tocSkip\"></span></h1>\n",
    "<div class=\"toc\"><ul class=\"toc-item\"><li><span><a href=\"#MarketIndicators.jl\" data-toc-modified-id=\"MarketIndicators.jl-1\"><span class=\"toc-item-num\">1&nbsp;&nbsp;</span>MarketIndicators.jl</a></span></li><li><span><a href=\"#Overview\" data-toc-modified-id=\"Overview-2\"><span class=\"toc-item-num\">2&nbsp;&nbsp;</span>Overview</a></span><ul class=\"toc-item\"><li><span><a href=\"#What-are-Market-Indicators?\" data-toc-modified-id=\"What-are-Market-Indicators?-2.1\"><span class=\"toc-item-num\">2.1&nbsp;&nbsp;</span>What are Market Indicators?</a></span></li><li><span><a href=\"#Project-Objectives\" data-toc-modified-id=\"Project-Objectives-2.2\"><span class=\"toc-item-num\">2.2&nbsp;&nbsp;</span>Project Objectives</a></span></li><li><span><a href=\"#Why-using-programming,-not-spreadsheets?\" data-toc-modified-id=\"Why-using-programming,-not-spreadsheets?-2.3\"><span class=\"toc-item-num\">2.3&nbsp;&nbsp;</span>Why using programming, not spreadsheets?</a></span><ul class=\"toc-item\"><li><span><a href=\"#AI\" data-toc-modified-id=\"AI-2.3.1\"><span class=\"toc-item-num\">2.3.1&nbsp;&nbsp;</span>AI</a></span></li></ul></li><li><span><a href=\"#Why-Julia?\" data-toc-modified-id=\"Why-Julia?-2.4\"><span class=\"toc-item-num\">2.4&nbsp;&nbsp;</span>Why Julia?</a></span></li></ul></li><li><span><a href=\"#Data-Aquisition\" data-toc-modified-id=\"Data-Aquisition-3\"><span class=\"toc-item-num\">3&nbsp;&nbsp;</span>Data Aquisition</a></span><ul class=\"toc-item\"><li><span><a href=\"#Learn-about-market-indicators\" data-toc-modified-id=\"Learn-about-market-indicators-3.1\"><span class=\"toc-item-num\">3.1&nbsp;&nbsp;</span>Learn about market indicators</a></span></li><li><span><a href=\"#Download-from-Yahoo-Finance\" data-toc-modified-id=\"Download-from-Yahoo-Finance-3.2\"><span class=\"toc-item-num\">3.2&nbsp;&nbsp;</span>Download from Yahoo Finance</a></span></li><li><span><a href=\"#Download-from-mql5.com\" data-toc-modified-id=\"Download-from-mql5.com-3.3\"><span class=\"toc-item-num\">3.3&nbsp;&nbsp;</span>Download from mql5.com</a></span></li></ul></li><li><span><a href=\"#Data-Pre-processing\" data-toc-modified-id=\"Data-Pre-processing-4\"><span class=\"toc-item-num\">4&nbsp;&nbsp;</span>Data Pre-processing</a></span><ul class=\"toc-item\"><li><span><a href=\"#Common-date-formatting\" data-toc-modified-id=\"Common-date-formatting-4.1\"><span class=\"toc-item-num\">4.1&nbsp;&nbsp;</span>Common date formatting</a></span><ul class=\"toc-item\"><li><span><a href=\"#Explanation-of-terms\" data-toc-modified-id=\"Explanation-of-terms-4.1.1\"><span class=\"toc-item-num\">4.1.1&nbsp;&nbsp;</span>Explanation of terms</a></span></li><li><span><a href=\"#yy-mm-dd\" data-toc-modified-id=\"yy-mm-dd-4.1.2\"><span class=\"toc-item-num\">4.1.2&nbsp;&nbsp;</span>yy-mm-dd</a></span></li><li><span><a href=\"#yy.mm.dd\" data-toc-modified-id=\"yy.mm.dd-4.1.3\"><span class=\"toc-item-num\">4.1.3&nbsp;&nbsp;</span>yy.mm.dd</a></span></li><li><span><a href=\"#u-dd,-yyyy\" data-toc-modified-id=\"u-dd,-yyyy-4.1.4\"><span class=\"toc-item-num\">4.1.4&nbsp;&nbsp;</span>u dd, yyyy</a></span></li></ul></li><li><span><a href=\"#Rata-Die-(days-since)\" data-toc-modified-id=\"Rata-Die-(days-since)-4.2\"><span class=\"toc-item-num\">4.2&nbsp;&nbsp;</span>Rata Die (days since)</a></span></li><li><span><a href=\"#Populate-missing-indicators-with-previously-known-values\" data-toc-modified-id=\"Populate-missing-indicators-with-previously-known-values-4.3\"><span class=\"toc-item-num\">4.3&nbsp;&nbsp;</span>Populate missing indicators with previously known values</a></span></li></ul></li><li><span><a href=\"#Normalize-data\" data-toc-modified-id=\"Normalize-data-5\"><span class=\"toc-item-num\">5&nbsp;&nbsp;</span>Normalize data</a></span></li></ul></div>"
   ]
  },
  {
   "cell_type": "markdown",
   "metadata": {},
   "source": [
    "# Overview\n",
    "\n",
    "## What are Market Indicators?\n",
    "\n",
    "Market Indicators are numeric values assigned to particular aspect of the market performance, for example:\n",
    "- \"S&P 500\" index show how major stocks as a whole are performing\n",
    "- \"ISM Manufacturing\" index shows how well the manufacturing industry is doing\n",
    "- \"GDP\" index (Gross Domestic Product) shows how the country is doing\n",
    "- etc., etc., etc.\n",
    "\n",
    "There are hundreds, if not thousands, of such indicators."
   ]
  },
  {
   "cell_type": "markdown",
   "metadata": {},
   "source": [
    "## Project Objectives\n",
    "\n",
    "1. The primary goal of the project is to **gather and analyze** various market indicators.\n",
    "2. The secondary goal is to predict market trends 30 to 90 days ahead. \n",
    "3. The tertiary goal is to predict a particular stock price based on the market indicators.\n",
    "4. Additionally, the goal will be to maintain a stock portfolio including diversification using \"hedge fund\" principles.\n",
    "5. Finally, it is my goal to document the process."
   ]
  },
  {
   "cell_type": "markdown",
   "metadata": {},
   "source": [
    "## Why using programming, not spreadsheets?\n",
    "\n",
    "The spredsheets (i.e. Microsoft Excel, Apple Numbers, Google Sheets) and their graphing capability are the bread and butter of market analysis. They are great when comparing a few indicators.\n",
    "\n",
    "### AI\n",
    "The advantage of machine learning, or Artificial Intelligence (AI), is when that we have thousands of possible indicators, the human brain fails to grasp the wealth of the information presented. \n",
    "\n",
    "The machine learning, on the other hand can easily detect the patterns in thousands of datapoints and derive a conclussion."
   ]
  },
  {
   "cell_type": "markdown",
   "metadata": {},
   "source": [
    "## Why Julia?\n",
    "\n",
    "- Julia is young and sexy (we are talking about [Julia programming language](https://docs.julialang.org/en/v1/) here)\n",
    "- it is a pleasure to write and read (unlike C,C++)\n",
    "- it is designed for scientific computing and machine learning\n",
    "- it is extremely fast (similarly to C)\n",
    "- it is very easy (similary to Python)\n",
    "- it is designed for parallelism\n",
    "- it is designed for distributed computing"
   ]
  },
  {
   "cell_type": "markdown",
   "metadata": {},
   "source": [
    "# Data Aquisition\n",
    "\n",
    "## Learn about market indicators\n",
    "- [indicators that move the market](https://www.investopedia.com/articles/fundamental-analysis/10/indicators-that-move-the-market.asp)"
   ]
  },
  {
   "cell_type": "markdown",
   "metadata": {},
   "source": [
    "## Download from Yahoo Finance\n",
    "\n",
    "- [Yahoo Finance > Historical Data > Max](https://finance.yahoo.com/quote/%5EDJI/history?p=%5EDJI)\n",
    "- [Apple AAPL - finance.yahoo.com](\"https://finance.yahoo.com/quote/AAPL/history?p=AAPL\")"
   ]
  },
  {
   "cell_type": "markdown",
   "metadata": {},
   "source": [
    "## Download from mql5.com\n",
    "\n",
    "-[mql5.com](https://www.mql5.com/en/economic-calendar/united-states)\n"
   ]
  },
  {
   "cell_type": "markdown",
   "metadata": {},
   "source": [
    "# Data Pre-processing\n"
   ]
  },
  {
   "cell_type": "markdown",
   "metadata": {},
   "source": [
    "## Common date formatting\n",
    "\n",
    "The dates in the spreadsheets, especially these that are entered by hand, have a maddening array of possible formats.\n",
    "\n",
    "The task of getting all the dates to the same format is crucial and it is done fastest with the spreadsheet.\n",
    "\n",
    "### Explanation of terms\n",
    "- u: 3 letter abbreviation of the month in English\n",
    "- d: 1 or 2 digit day of the month\n",
    "- y: 4 digit year\n",
    "- m: 2 digit month (option for you)\n",
    "\n",
    "### yy-mm-dd\n",
    "The date format **I chose** is \"1950-05-31\", or (yy-mm-dd) as it is **less error prone, logical, and easily sortable**.\n",
    "This format is also used by Yahoo Finance export.\n",
    "\n",
    "$Dates.Date(\"1950-05-31\", date_format) # results in \"1950-05-31\"$\n",
    "\n",
    "### yy.mm.dd\n",
    "This format is used by MQL5.com, a primary source of indicator data.\n",
    "\n",
    "\n",
    "### u dd, yyyy\n",
    "As an example, the standard in USA is \"Aug 31, 1950\" (u d, y) \n",
    "\n"
   ]
  },
  {
   "cell_type": "markdown",
   "metadata": {},
   "source": [
    "## Rata Die (days since)\n",
    "\n",
    "Using dates is useful, but the market indicators are not availble on daily basis, most come out bi-weekly, mothly or quarterly, we will have some days that are \"missing\" in our datasets.\n",
    "\n",
    "We will assign \"[Rata Die](https://en.wikipedia.org/wiki/Rata_Die)\", or the \"days since the first day\" in our data. \n",
    "\n",
    "I am using the first day of available data and not some other major date, such as founding of the New York Stock Exchange in 1800s as that numbers would be huge and there would be no useful early data anyway."
   ]
  },
  {
   "cell_type": "markdown",
   "metadata": {},
   "source": [
    "## Populate missing indicators with previously known values\n",
    "\n",
    "- get value for the first row\n",
    "- for each row starting at row 2\n",
    "    - get the current value\n",
    "        - if that value is missing\n",
    "            - set it to the previus value if you have it\n",
    "        - if you have current row value\n",
    "            - set the previous to be equal to current\n",
    "    \n",
    "actual code:"
   ]
  },
  {
   "cell_type": "raw",
   "metadata": {},
   "source": [
    "column = 6 # choose column to populate\n",
    "previous_value = df[1, column]\n",
    "\n",
    "for row in 2:items # start with second row\n",
    "    \n",
    "    value = df[row, column] # get value for the current row\n",
    "    \n",
    "    if ismissing(value) # need to do something\n",
    "        if ismissing(previous_value)\n",
    "            # nothing to populate with, go to the next row\n",
    "            continue\n",
    "        else # we have a previous value\n",
    "            df[row, column] = previous_value\n",
    "        end\n",
    "    else # we have a pre-existing indicator\n",
    "        previous_value = value\n",
    "    end\n",
    "end"
   ]
  },
  {
   "cell_type": "markdown",
   "metadata": {},
   "source": [
    "# Normalize data"
   ]
  },
  {
   "cell_type": "markdown",
   "metadata": {},
   "source": [
    "Let's say we have two market indicators, one ranges from -1 to 1 and another from 0 to 100. Obviously it is not easy to compare them to see how they influence each other. \n",
    "\n",
    "![title](images/not_normalized.png)\n"
   ]
  },
  {
   "cell_type": "markdown",
   "metadata": {},
   "source": [
    "Normalization is nothing else than \"scaling\" the data to be able to compare apples-to-apples.\n",
    "\n",
    "![title](images/normalized.png)"
   ]
  },
  {
   "cell_type": "code",
   "execution_count": null,
   "metadata": {},
   "outputs": [],
   "source": []
  }
 ],
 "metadata": {
  "kernelspec": {
   "display_name": "Julia 1.4.2",
   "language": "julia",
   "name": "julia-1.4"
  },
  "language_info": {
   "file_extension": ".jl",
   "mimetype": "application/julia",
   "name": "julia",
   "version": "1.4.2"
  },
  "toc": {
   "base_numbering": 1,
   "nav_menu": {},
   "number_sections": true,
   "sideBar": true,
   "skip_h1_title": false,
   "title_cell": "Table of Contents",
   "title_sidebar": "Contents",
   "toc_cell": true,
   "toc_position": {},
   "toc_section_display": true,
   "toc_window_display": true
  }
 },
 "nbformat": 4,
 "nbformat_minor": 4
}
