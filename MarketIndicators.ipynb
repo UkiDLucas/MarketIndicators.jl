{
 "cells": [
  {
   "cell_type": "markdown",
   "metadata": {
    "toc": true
   },
   "source": [
    "<h1>Table of Contents<span class=\"tocSkip\"></span></h1>\n",
    "<div class=\"toc\"><ul class=\"toc-item\"><li><span><a href=\"#Required-libraries\" data-toc-modified-id=\"Required-libraries-1\"><span class=\"toc-item-num\">1&nbsp;&nbsp;</span>Required libraries</a></span></li><li><span><a href=\"#Print-Date\" data-toc-modified-id=\"Print-Date-2\"><span class=\"toc-item-num\">2&nbsp;&nbsp;</span>Print Date</a></span></li><li><span><a href=\"#CSV-files-and-DataFrames\" data-toc-modified-id=\"CSV-files-and-DataFrames-3\"><span class=\"toc-item-num\">3&nbsp;&nbsp;</span>CSV files and DataFrames</a></span><ul class=\"toc-item\"><li><span><a href=\"#Declare-known-data-files\" data-toc-modified-id=\"Declare-known-data-files-3.1\"><span class=\"toc-item-num\">3.1&nbsp;&nbsp;</span>Declare known data files</a></span></li><li><span><a href=\"#Function:-Fetch-DataFrame-from-CSV-file¶\" data-toc-modified-id=\"Function:-Fetch-DataFrame-from-CSV-file¶-3.2\"><span class=\"toc-item-num\">3.2&nbsp;&nbsp;</span>Function: Fetch DataFrame from CSV file¶</a></span></li></ul></li><li><span><a href=\"#DataFrame-Transformations\" data-toc-modified-id=\"DataFrame-Transformations-4\"><span class=\"toc-item-num\">4&nbsp;&nbsp;</span>DataFrame Transformations</a></span><ul class=\"toc-item\"><li><span><a href=\"#Shift-Date-by-X-days-in-DataFrame\" data-toc-modified-id=\"Shift-Date-by-X-days-in-DataFrame-4.1\"><span class=\"toc-item-num\">4.1&nbsp;&nbsp;</span>Shift Date by X days in DataFrame</a></span></li></ul></li><li><span><a href=\"#Rata-Die\" data-toc-modified-id=\"Rata-Die-5\"><span class=\"toc-item-num\">5&nbsp;&nbsp;</span>Rata Die</a></span><ul class=\"toc-item\"><li><span><a href=\"#First-Day\" data-toc-modified-id=\"First-Day-5.1\"><span class=\"toc-item-num\">5.1&nbsp;&nbsp;</span>First Day</a></span></li><li><span><a href=\"#Function:-Days-Since-Day-One\" data-toc-modified-id=\"Function:-Days-Since-Day-One-5.2\"><span class=\"toc-item-num\">5.2&nbsp;&nbsp;</span>Function: Days Since Day One</a></span></li><li><span><a href=\"#Function:-Update-Rada-Die-in-DataFrame\" data-toc-modified-id=\"Function:-Update-Rada-Die-in-DataFrame-5.3\"><span class=\"toc-item-num\">5.3&nbsp;&nbsp;</span>Function: Update Rada Die in DataFrame</a></span></li><li><span><a href=\"#Insert-Rata-Die-into-DataFrame\" data-toc-modified-id=\"Insert-Rata-Die-into-DataFrame-5.4\"><span class=\"toc-item-num\">5.4&nbsp;&nbsp;</span>Insert Rata Die into DataFrame</a></span></li></ul></li></ul></div>"
   ]
  },
  {
   "cell_type": "markdown",
   "metadata": {},
   "source": [
    "# Required libraries"
   ]
  },
  {
   "cell_type": "code",
   "execution_count": 1,
   "metadata": {},
   "outputs": [],
   "source": [
    "# import Pkg; Pkg.add(\"CSV\")\n",
    "using CSV\n",
    "\n",
    "# import Pkg; Pkg.add(\"Dates\")\n",
    "using Dates\n",
    "\n",
    "# import Pkg; Pkg.add(\"DataFrames\")\n",
    "using DataFrames"
   ]
  },
  {
   "cell_type": "markdown",
   "metadata": {},
   "source": [
    "# Print Date"
   ]
  },
  {
   "cell_type": "code",
   "execution_count": 16,
   "metadata": {},
   "outputs": [
    {
     "data": {
      "text/plain": [
       "updated (generic function with 1 method)"
      ]
     },
     "execution_count": 16,
     "metadata": {},
     "output_type": "execute_result"
    }
   ],
   "source": [
    "# https://docs.julialang.org/en/v1/stdlib/Dates/#Dates.now-Tuple{}\n",
    "# https://github.com/JuliaLang/julia/issues/37480\n",
    "\n",
    "function updated() \n",
    "    println( \"Last update: \", Dates.format(Dates.now(), \"u. d, yyyy HH:MM\"))\n",
    "end"
   ]
  },
  {
   "cell_type": "markdown",
   "metadata": {},
   "source": [
    "# CSV files and DataFrames"
   ]
  },
  {
   "cell_type": "markdown",
   "metadata": {},
   "source": [
    "## Declare known data files"
   ]
  },
  {
   "cell_type": "code",
   "execution_count": 3,
   "metadata": {},
   "outputs": [
    {
     "data": {
      "text/plain": [
       "\"data/united-states.markit-manufacturing-pmi.csv\""
      ]
     },
     "execution_count": 3,
     "metadata": {},
     "output_type": "execute_result"
    }
   ],
   "source": [
    "file_ISM_Mfc_Emp = \"data/united-states.ism-manufacturing-employment.csv\"\n",
    "file_Markkit_Mfc_PMI = \"data/united-states.markit-manufacturing-pmi.csv\"\n",
    "file_initial_jobless_claims = \"data/united-states.initial-jobless-claims.csv\""
   ]
  },
  {
   "cell_type": "markdown",
   "metadata": {},
   "source": [
    "## Function: Fetch DataFrame from CSV file¶\n",
    "\n",
    "In the future, I expect to have large data sets that are too big for the GitHub, so I am planning for the separate downlod location i.e. Google Drive, etc."
   ]
  },
  {
   "cell_type": "code",
   "execution_count": 27,
   "metadata": {},
   "outputs": [
    {
     "name": "stdout",
     "output_type": "stream",
     "text": [
      "function: df = fetch_data(file_path, date_format=\"yyyy-mm-dd\" )\n"
     ]
    }
   ],
   "source": [
    "function fetch_data(file_path, date_format=\"yyyy-mm-dd\")\n",
    "    isfile(file_path) || # does file exist locally?\n",
    "        download( string(\"https://raw.githubusercontent.com/UkiDLucas/MarketIndicators.jl/master/\", \n",
    "            file_path), # URL\n",
    "        file_path) # save it as name\n",
    "    \n",
    "    return CSV.read(        # returns DataFrame\n",
    "        file_path, \n",
    "        dateformat=\"$date_format\"\n",
    "        )\n",
    "end\n",
    "\n",
    "println(\"function: df = fetch_data(file_path, date_format=\\\"yyyy-mm-dd\\\" )\")"
   ]
  },
  {
   "cell_type": "code",
   "execution_count": 6,
   "metadata": {},
   "outputs": [],
   "source": [
    "# TEST\n",
    "#df = fetch_data(file_ISM_Mfc_Emp, \"yyyy.mm.dd\")"
   ]
  },
  {
   "cell_type": "markdown",
   "metadata": {},
   "source": [
    "# DataFrame Transformations"
   ]
  },
  {
   "cell_type": "markdown",
   "metadata": {},
   "source": [
    "## Shift Date by X days in DataFrame"
   ]
  },
  {
   "cell_type": "code",
   "execution_count": 28,
   "metadata": {},
   "outputs": [
    {
     "name": "stdout",
     "output_type": "stream",
     "text": [
      "function: df = shift_dates_by_days!(df, shift_days=-1, date_column=1)\n"
     ]
    }
   ],
   "source": [
    "function shift_dates_by_days!(df::DataFrame, shift_days::Int64=-1, date_column::Int64=1)\n",
    "    rows = size(df)[1]\n",
    "    \n",
    "    for row in 1:rows\n",
    "        original = Date(df[row, date_column]) \n",
    "        shifted = original + Dates.Day(shift_days)\n",
    "        # println(\"original \", original, \" \", shift_days, \" shift \", shifted)\n",
    "        df[row, date_column] = shifted\n",
    "    end\n",
    "    return df\n",
    "end\n",
    "\n",
    "# df = shift_dates_by_days!(df3, -90)\n",
    "println(\"function: df = shift_dates_by_days!(df, shift_days=-1, date_column=1)\")"
   ]
  },
  {
   "cell_type": "markdown",
   "metadata": {},
   "source": [
    "# Rata Die\n",
    "\n",
    "## First Day"
   ]
  },
  {
   "cell_type": "code",
   "execution_count": 8,
   "metadata": {},
   "outputs": [
    {
     "data": {
      "text/plain": [
       "1900-01-01"
      ]
     },
     "execution_count": 8,
     "metadata": {},
     "output_type": "execute_result"
    }
   ],
   "source": [
    "first_date = Date(\"Jan. 1, 1900\", \"u. dd, yyyy\")"
   ]
  },
  {
   "cell_type": "code",
   "execution_count": 9,
   "metadata": {},
   "outputs": [
    {
     "data": {
      "text/plain": [
       "693596"
      ]
     },
     "execution_count": 9,
     "metadata": {},
     "output_type": "execute_result"
    }
   ],
   "source": [
    "day_one = Dates.datetime2rata(first_date) # typeof(rate_die) = Int64"
   ]
  },
  {
   "cell_type": "markdown",
   "metadata": {},
   "source": [
    "## Function: Days Since Day One"
   ]
  },
  {
   "cell_type": "code",
   "execution_count": 29,
   "metadata": {},
   "outputs": [
    {
     "name": "stdout",
     "output_type": "stream",
     "text": [
      "function:  rata_die = days_since_day_one(df, row, date_column) \n"
     ]
    }
   ],
   "source": [
    "function days_since_day_one(df, row, date_column) \n",
    "    date = df[row, date_column] # type Date\n",
    "    rata_die = Dates.datetime2rata(date) \n",
    "    rata_die = rata_die - day_one\n",
    "    return rata_die\n",
    "end\n",
    "\n",
    "println(\"function: rata_die = days_since_day_one(df, row, date_column) \")"
   ]
  },
  {
   "cell_type": "markdown",
   "metadata": {},
   "source": [
    "## Function: Update Rada Die in DataFrame"
   ]
  },
  {
   "cell_type": "code",
   "execution_count": 30,
   "metadata": {},
   "outputs": [
    {
     "name": "stdout",
     "output_type": "stream",
     "text": [
      "function: df = update_rata_die!(df, days_column=1, date_column=2)\n"
     ]
    }
   ],
   "source": [
    "function update_rata_die!(df, days_column=1, date_column=2)\n",
    "    rows = size(df)[1] # first part of the returned tupple\n",
    "\n",
    "    for row = 1:rows\n",
    "        days = days_since_day_one(df, row, date_column)\n",
    "        # println(days)\n",
    "        df[row, days_column] = days\n",
    "    end\n",
    "    return df\n",
    "end\n",
    "\n",
    "println(\"function: df = update_rata_die!(df, days_column=1, date_column=2)\")"
   ]
  },
  {
   "cell_type": "markdown",
   "metadata": {},
   "source": [
    "## Insert Rata Die into DataFrame"
   ]
  },
  {
   "cell_type": "code",
   "execution_count": 32,
   "metadata": {},
   "outputs": [
    {
     "name": "stdout",
     "output_type": "stream",
     "text": [
      "function: df = insert_rata_die_column!(df)\n"
     ]
    }
   ],
   "source": [
    "function insert_rata_die_column!(df)\n",
    "    rows = size(df)[1] # first number of the tuple\n",
    "    # https://stackoverflow.com/a/63731422/6312771\n",
    "    insertcols!(df, 1,  :Day => 1:rows, makeunique=true) # insert as column 1, populate with 1,2,3,..\n",
    "    return df\n",
    "end\n",
    "println(\"function: df = insert_rata_die_column!(df)\")"
   ]
  },
  {
   "cell_type": "code",
   "execution_count": null,
   "metadata": {},
   "outputs": [],
   "source": []
  }
 ],
 "metadata": {
  "kernelspec": {
   "display_name": "Julia 1.4.2",
   "language": "julia",
   "name": "julia-1.4"
  },
  "language_info": {
   "file_extension": ".jl",
   "mimetype": "application/julia",
   "name": "julia",
   "version": "1.4.2"
  },
  "toc": {
   "base_numbering": 1,
   "nav_menu": {},
   "number_sections": true,
   "sideBar": true,
   "skip_h1_title": false,
   "title_cell": "Table of Contents",
   "title_sidebar": "Contents",
   "toc_cell": true,
   "toc_position": {},
   "toc_section_display": true,
   "toc_window_display": true
  }
 },
 "nbformat": 4,
 "nbformat_minor": 4
}
