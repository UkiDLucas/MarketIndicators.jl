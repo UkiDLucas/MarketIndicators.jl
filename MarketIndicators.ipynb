{
 "cells": [
  {
   "cell_type": "markdown",
   "metadata": {},
   "source": [
    "# Required libraries"
   ]
  },
  {
   "cell_type": "code",
   "execution_count": 1,
   "metadata": {},
   "outputs": [],
   "source": [
    "# import Pkg; Pkg.add(\"CSV\")\n",
    "using CSV\n",
    "\n",
    "# import Pkg; Pkg.add(\"Dates\")\n",
    "using Dates\n",
    "\n",
    "# import Pkg; Pkg.add(\"DataFrames\")\n",
    "using DataFrames"
   ]
  },
  {
   "cell_type": "markdown",
   "metadata": {},
   "source": [
    "# Print Date"
   ]
  },
  {
   "cell_type": "code",
   "execution_count": 2,
   "metadata": {},
   "outputs": [
    {
     "data": {
      "text/plain": [
       "updated (generic function with 1 method)"
      ]
     },
     "execution_count": 2,
     "metadata": {},
     "output_type": "execute_result"
    }
   ],
   "source": [
    "function updated() \n",
    "    println( \"Last update: \", Dates.format(Dates.now(), \"u. d, yyyy HH:mm\"))\n",
    "end"
   ]
  },
  {
   "cell_type": "markdown",
   "metadata": {},
   "source": [
    "# Declare known data files"
   ]
  },
  {
   "cell_type": "code",
   "execution_count": 3,
   "metadata": {},
   "outputs": [
    {
     "data": {
      "text/plain": [
       "\"data/united-states.markit-manufacturing-pmi.csv\""
      ]
     },
     "execution_count": 3,
     "metadata": {},
     "output_type": "execute_result"
    }
   ],
   "source": [
    "file_ISM_Mfc_Emp = \"data/united-states.ism-manufacturing-employment.csv\"\n",
    "file_Markkit_Mfc_PMI = \"data/united-states.markit-manufacturing-pmi.csv\""
   ]
  },
  {
   "cell_type": "markdown",
   "metadata": {},
   "source": [
    "# List available functions"
   ]
  },
  {
   "cell_type": "code",
   "execution_count": 4,
   "metadata": {},
   "outputs": [
    {
     "name": "stdout",
     "output_type": "stream",
     "text": [
      "Functions available:\n",
      "df = fetch_data(file_path, date_format=\"yyyy-mm-dd\" )\n",
      "df = shift_dates_by_days!(df, shift_days=-1, date_column=1)\n"
     ]
    }
   ],
   "source": [
    "println(\"Functions available:\")\n",
    "println(\"df = fetch_data(file_path, date_format=\\\"yyyy-mm-dd\\\" )\")\n",
    "println(\"df = shift_dates_by_days!(df, shift_days=-1, date_column=1)\")"
   ]
  },
  {
   "cell_type": "markdown",
   "metadata": {},
   "source": [
    "# Define Fetch Data function¶\n",
    "\n",
    "In the future, I expect to have large data sets that are too big for the GitHub, so I am planning for the separate downlod location i.e. Google Drive, etc."
   ]
  },
  {
   "cell_type": "code",
   "execution_count": 5,
   "metadata": {},
   "outputs": [
    {
     "data": {
      "text/plain": [
       "fetch_data (generic function with 2 methods)"
      ]
     },
     "execution_count": 5,
     "metadata": {},
     "output_type": "execute_result"
    }
   ],
   "source": [
    "function fetch_data(file_path, date_format=\"yyyy-mm-dd\")\n",
    "    isfile(file_path) || # does file exist locally?\n",
    "        download( string(\"https://raw.githubusercontent.com/UkiDLucas/MarketIndicators.jl/master/\", file_path), # URL\n",
    "        file_path) # save it as name\n",
    "    \n",
    "\n",
    "    \n",
    "    return CSV.read(        # returns DataFrame\n",
    "        file_path, \n",
    "        dateformat=\"$date_format\"\n",
    "        )\n",
    "end"
   ]
  },
  {
   "cell_type": "code",
   "execution_count": 6,
   "metadata": {},
   "outputs": [],
   "source": [
    "# TEST\n",
    "#df = fetch_data(file_ISM_Mfc_Emp, \"yyyy.mm.dd\")"
   ]
  },
  {
   "cell_type": "markdown",
   "metadata": {},
   "source": [
    "# Shift DataFrame Date by x days"
   ]
  },
  {
   "cell_type": "code",
   "execution_count": 7,
   "metadata": {},
   "outputs": [
    {
     "data": {
      "text/plain": [
       "shift_dates_by_days! (generic function with 3 methods)"
      ]
     },
     "execution_count": 7,
     "metadata": {},
     "output_type": "execute_result"
    }
   ],
   "source": [
    "function shift_dates_by_days!(df::DataFrame, shift_days::Int64=-1, date_column::Int64=1)\n",
    "    rows = size(df)[1]\n",
    "    \n",
    "    for row in 1:rows\n",
    "        original = Date(df[row, date_column]) \n",
    "        shifted = original + Dates.Day(shift_days)\n",
    "        # println(\"original \", original, \" \", shift_days, \" shift \", shifted)\n",
    "        df[row, date_column] = shifted\n",
    "    end\n",
    "    return df\n",
    "end\n",
    "\n",
    "# df = shift_dates_by_days!(df3, -90)"
   ]
  },
  {
   "cell_type": "markdown",
   "metadata": {},
   "source": [
    "# Rata Die"
   ]
  },
  {
   "cell_type": "code",
   "execution_count": 8,
   "metadata": {},
   "outputs": [
    {
     "data": {
      "text/plain": [
       "1900-01-01"
      ]
     },
     "execution_count": 8,
     "metadata": {},
     "output_type": "execute_result"
    }
   ],
   "source": [
    "first_date = Date(\"Jan. 1, 1900\", \"u. dd, yyyy\")"
   ]
  },
  {
   "cell_type": "code",
   "execution_count": 9,
   "metadata": {},
   "outputs": [
    {
     "data": {
      "text/plain": [
       "693596"
      ]
     },
     "execution_count": 9,
     "metadata": {},
     "output_type": "execute_result"
    }
   ],
   "source": [
    "day_one = Dates.datetime2rata(first_date) # typeof(rate_die) = Int64"
   ]
  },
  {
   "cell_type": "code",
   "execution_count": 10,
   "metadata": {},
   "outputs": [
    {
     "data": {
      "text/plain": [
       "days_since_day_one (generic function with 1 method)"
      ]
     },
     "execution_count": 10,
     "metadata": {},
     "output_type": "execute_result"
    }
   ],
   "source": [
    "function days_since_day_one(df, row, date_column) \n",
    "    date = df[row, date_column] # type Date\n",
    "    rata_die = Dates.datetime2rata(date) \n",
    "    rata_die = rata_die - day_one\n",
    "    return rata_die\n",
    "end"
   ]
  },
  {
   "cell_type": "code",
   "execution_count": 11,
   "metadata": {},
   "outputs": [
    {
     "data": {
      "text/plain": [
       "update_rata_die! (generic function with 3 methods)"
      ]
     },
     "execution_count": 11,
     "metadata": {},
     "output_type": "execute_result"
    }
   ],
   "source": [
    "function update_rata_die!(df, days_column=1, date_column=2)\n",
    "    rows = size(df)[1] # first part of the returned tupple\n",
    "\n",
    "    for row = 1:rows\n",
    "        days = days_since_day_one(df, row, date_column)\n",
    "        # println(days)\n",
    "        df[row, days_column] = days\n",
    "    end\n",
    "    return df\n",
    "end"
   ]
  },
  {
   "cell_type": "code",
   "execution_count": 12,
   "metadata": {},
   "outputs": [
    {
     "data": {
      "text/plain": [
       "insert_rata_die_column! (generic function with 1 method)"
      ]
     },
     "execution_count": 12,
     "metadata": {},
     "output_type": "execute_result"
    }
   ],
   "source": [
    "function insert_rata_die_column!(df)\n",
    "    rows = size(df)[1] # first number of the tuple\n",
    "    # https://stackoverflow.com/a/63731422/6312771\n",
    "    insertcols!(df, 1,  :Day => 1:rows, makeunique=true) # insert as column 1, populate with 1,2,3,..\n",
    "end"
   ]
  },
  {
   "cell_type": "code",
   "execution_count": null,
   "metadata": {},
   "outputs": [],
   "source": []
  }
 ],
 "metadata": {
  "kernelspec": {
   "display_name": "Julia 1.4.2",
   "language": "julia",
   "name": "julia-1.4"
  },
  "language_info": {
   "file_extension": ".jl",
   "mimetype": "application/julia",
   "name": "julia",
   "version": "1.4.2"
  },
  "toc": {
   "base_numbering": 1,
   "nav_menu": {},
   "number_sections": true,
   "sideBar": true,
   "skip_h1_title": false,
   "title_cell": "Table of Contents",
   "title_sidebar": "Contents",
   "toc_cell": false,
   "toc_position": {},
   "toc_section_display": true,
   "toc_window_display": true
  }
 },
 "nbformat": 4,
 "nbformat_minor": 4
}
