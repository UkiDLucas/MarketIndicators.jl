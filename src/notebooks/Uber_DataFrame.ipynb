{
 "cells": [
  {
   "cell_type": "markdown",
   "metadata": {},
   "source": [
    "# Uber DataFrame\n",
    "- This notebook combines multiple Market indicators into one massive DataFrame\n",
    "- That DataFrame will be used for Machine Learning"
   ]
  },
  {
   "cell_type": "markdown",
   "metadata": {
    "toc": true
   },
   "source": [
    "<h1>Table of Contents<span class=\"tocSkip\"></span></h1>\n",
    "<div class=\"toc\"><ul class=\"toc-item\"><li><span><a href=\"#Set-Up\" data-toc-modified-id=\"Set-Up-1\"><span class=\"toc-item-num\">1&nbsp;&nbsp;</span>Set Up</a></span></li><li><span><a href=\"#Fetch-Data\" data-toc-modified-id=\"Fetch-Data-2\"><span class=\"toc-item-num\">2&nbsp;&nbsp;</span>Fetch Data</a></span><ul class=\"toc-item\"><li><span><a href=\"#Explore-Dictionary-data\" data-toc-modified-id=\"Explore-Dictionary-data-2.1\"><span class=\"toc-item-num\">2.1&nbsp;&nbsp;</span>Explore Dictionary data</a></span></li></ul></li><li><span><a href=\"#Trim--Common-Date-Span\" data-toc-modified-id=\"Trim--Common-Date-Span-3\"><span class=\"toc-item-num\">3&nbsp;&nbsp;</span>Trim  Common Date Span</a></span></li><li><span><a href=\"#Build-UBER-DataFrame\" data-toc-modified-id=\"Build-UBER-DataFrame-4\"><span class=\"toc-item-num\">4&nbsp;&nbsp;</span>Build UBER DataFrame</a></span></li><li><span><a href=\"#Visualize-the-dependencies\" data-toc-modified-id=\"Visualize-the-dependencies-5\"><span class=\"toc-item-num\">5&nbsp;&nbsp;</span>Visualize the dependencies</a></span></li><li><span><a href=\"#Divide-Training-and-Prediction-data-sets\" data-toc-modified-id=\"Divide-Training-and-Prediction-data-sets-6\"><span class=\"toc-item-num\">6&nbsp;&nbsp;</span>Divide Training and Prediction data sets</a></span><ul class=\"toc-item\"><li><span><a href=\"#Save-Datasets\" data-toc-modified-id=\"Save-Datasets-6.1\"><span class=\"toc-item-num\">6.1&nbsp;&nbsp;</span>Save Datasets</a></span></li></ul></li></ul></div>"
   ]
  },
  {
   "cell_type": "markdown",
   "metadata": {},
   "source": [
    "## Set Up"
   ]
  },
  {
   "cell_type": "code",
   "execution_count": 1,
   "metadata": {
    "ExecuteTime": {
     "end_time": "2021-01-01T16:04:54.964000-05:00",
     "start_time": "2021-01-01T21:04:51.667Z"
    }
   },
   "outputs": [
    {
     "name": "stdout",
     "output_type": "stream",
     "text": [
      "\n"
     ]
    }
   ],
   "source": [
    "## set up\n",
    "\n",
    "indicators_file_name = \"Indicators.csv\"\n",
    "indicators_date_format = \"yyyy-mm-dd\"\n",
    "indicators_file_dir = \"../DATA/\"\n",
    "\n",
    "original_dir = \"../DATA/original/\"\n",
    "\n",
    "include(\"../Julia/IndicatorData.jl\") \n",
    "include(\"../Julia/format_rata_die_to_us_date.jl\")\n",
    "include(\"../Julia/trim_DataFrames.jl\")\n",
    "include(\"../Julia/IndicatorData.jl\") # addIndicator!()\n",
    "include(\"../Julia/fetch_local_CSV_as_DataFrame.jl\")\n",
    "println()"
   ]
  },
  {
   "cell_type": "markdown",
   "metadata": {},
   "source": [
    "## Fetch Data"
   ]
  },
  {
   "cell_type": "code",
   "execution_count": 2,
   "metadata": {
    "ExecuteTime": {
     "end_time": "2021-01-01T16:05:12.585000-05:00",
     "start_time": "2021-01-01T21:04:51.670Z"
    }
   },
   "outputs": [
    {
     "name": "stdout",
     "output_type": "stream",
     "text": [
      "AAPL, "
     ]
    },
    {
     "ename": "LoadError",
     "evalue": "MethodError: Cannot `convert` an object of type Date to an object of type Int64\nClosest candidates are:\n  convert(::Type{T}, !Matched::T) where T<:Number at number.jl:6\n  convert(::Type{T}, !Matched::Number) where T<:Number at number.jl:7\n  convert(::Type{T}, !Matched::Ptr) where T<:Integer at pointer.jl:23\n  ...",
     "output_type": "error",
     "traceback": [
      "MethodError: Cannot `convert` an object of type Date to an object of type Int64\nClosest candidates are:\n  convert(::Type{T}, !Matched::T) where T<:Number at number.jl:6\n  convert(::Type{T}, !Matched::Number) where T<:Number at number.jl:7\n  convert(::Type{T}, !Matched::Ptr) where T<:Integer at pointer.jl:23\n  ...",
      "",
      "Stacktrace:",
      " [1] IndicatorData(::String, ::String, ::DataFrame, ::Date, ::Date) at /Users/uki/REPOS/MarketIndicators.jl/src/Julia/IndicatorData.jl:4",
      " [2] addIndicator!(::Dict{String,IndicatorData}, ::String, ::String) at /Users/uki/REPOS/MarketIndicators.jl/src/Julia/IndicatorData.jl:17",
      " [3] top-level scope at ./In[2]:27",
      " [4] include_string(::Function, ::Module, ::String, ::String) at ./loading.jl:1091"
     ]
    }
   ],
   "source": [
    "## Create a Dictionary data with all Market Indicators, each indicator is a spreadsheet!\n",
    "\n",
    "data = Dict{String, IndicatorData}()\n",
    "\n",
    "## Read from the CSV file\n",
    "\n",
    "using CSV, DataFrames\n",
    "\n",
    "df = fetch_local_CSV_as_DataFrame(\n",
    "    indicators_file_name, \n",
    "    indicators_date_format, \n",
    "    indicators_file_dir)\n",
    "\n",
    "## For each row, add indicator to the Dictionary data\n",
    "\n",
    "row_count = size(df)[1]\n",
    "\n",
    "for row in 1:row_count\n",
    "    indicator_full_name  = df[row, :Full_Name]\n",
    "    url                  = df[row, :URL]\n",
    "    symbol               = df[row, :Symbol]\n",
    "    original_date_format = df[row, :Date_Format]\n",
    "    column_to_keep       = df[row, :Column]\n",
    "\n",
    "    print( symbol, \", \"  ) \n",
    "    ## Do NOT use \"^\" in names as in \"^VIX\"\n",
    "    addIndicator!(data, symbol, original_dir)\n",
    "\n",
    "end # for loop\n",
    "df = nothing # free the memory for gc()\n",
    "\n",
    "print()"
   ]
  },
  {
   "cell_type": "markdown",
   "metadata": {},
   "source": [
    "### Explore Dictionary data"
   ]
  },
  {
   "cell_type": "code",
   "execution_count": 3,
   "metadata": {
    "ExecuteTime": {
     "end_time": "2021-01-01T16:05:12.649000-05:00",
     "start_time": "2021-01-01T21:04:51.672Z"
    }
   },
   "outputs": [],
   "source": [
    "## Show content of the Dict{String,IndicatorData} with x entries\n",
    "\n",
    "# data"
   ]
  },
  {
   "cell_type": "code",
   "execution_count": 4,
   "metadata": {
    "ExecuteTime": {
     "end_time": "2021-01-01T16:05:12.684000-05:00",
     "start_time": "2021-01-01T21:04:51.675Z"
    }
   },
   "outputs": [],
   "source": [
    "# data[\"AAPL\"].min_rata_die # 723161"
   ]
  },
  {
   "cell_type": "code",
   "execution_count": 5,
   "metadata": {
    "ExecuteTime": {
     "end_time": "2021-01-01T16:05:12.744000-05:00",
     "start_time": "2021-01-01T21:04:51.678Z"
    }
   },
   "outputs": [
    {
     "ename": "LoadError",
     "evalue": "KeyError: key \"AAPL\" not found",
     "output_type": "error",
     "traceback": [
      "KeyError: key \"AAPL\" not found",
      "",
      "Stacktrace:",
      " [1] getindex(::Dict{String,IndicatorData}, ::String) at ./dict.jl:467",
      " [2] top-level scope at In[5]:2",
      " [3] include_string(::Function, ::Module, ::String, ::String) at ./loading.jl:1091"
     ]
    }
   ],
   "source": [
    "using Statistics\n",
    "describe(data[\"AAPL\"].df)"
   ]
  },
  {
   "cell_type": "markdown",
   "metadata": {},
   "source": [
    "## Trim  Common Date Span\n",
    "\n",
    "Example:\n",
    "- for all the DataFrames\n",
    "- find lowest dates\n",
    "- select the highest (common) of them"
   ]
  },
  {
   "cell_type": "code",
   "execution_count": 6,
   "metadata": {
    "ExecuteTime": {
     "end_time": "2021-01-01T16:05:12.947000-05:00",
     "start_time": "2021-01-01T21:04:51.680Z"
    }
   },
   "outputs": [
    {
     "ename": "LoadError",
     "evalue": "ArgumentError: reducing over an empty collection is not allowed",
     "output_type": "error",
     "traceback": [
      "ArgumentError: reducing over an empty collection is not allowed",
      "",
      "Stacktrace:",
      " [1] _empty_reduce_error() at ./reduce.jl:299",
      " [2] reduce_empty(::Function, ::Type{Int64}) at ./reduce.jl:309",
      " [3] mapreduce_empty(::typeof(identity), ::Function, ::Type{T} where T) at ./reduce.jl:343",
      " [4] reduce_empty(::Base.MappingRF{typeof(identity),typeof(max)}, ::Type{Int64}) at ./reduce.jl:329",
      " [5] reduce_empty_iter at ./reduce.jl:355 [inlined]",
      " [6] mapreduce_empty_iter(::Function, ::Function, ::Array{Int64,1}, ::Base.HasEltype) at ./reduce.jl:351",
      " [7] _mapreduce at ./reduce.jl:400 [inlined]",
      " [8] _mapreduce_dim at ./reducedim.jl:318 [inlined]",
      " [9] #mapreduce#620 at ./reducedim.jl:310 [inlined]",
      " [10] mapreduce at ./reducedim.jl:310 [inlined]",
      " [11] _maximum at ./reducedim.jl:727 [inlined]",
      " [12] _maximum at ./reducedim.jl:726 [inlined]",
      " [13] #maximum#631 at ./reducedim.jl:722 [inlined]",
      " [14] maximum at ./reducedim.jl:722 [inlined]",
      " [15] get_oldest_common_day(::Dict{String,IndicatorData}) at /Users/uki/REPOS/MarketIndicators.jl/src/Julia/trim_DataFrames.jl:42",
      " [16] trim_DataFrames!(::Dict{String,IndicatorData}) at /Users/uki/REPOS/MarketIndicators.jl/src/Julia/trim_DataFrames.jl:3",
      " [17] top-level scope at In[6]:3",
      " [18] include_string(::Function, ::Module, ::String, ::String) at ./loading.jl:1091"
     ]
    }
   ],
   "source": [
    "## Trim \n",
    "\n",
    "trim_DataFrames!(data) # include(\"../Julia/function_trim_DataFrames.jl\")"
   ]
  },
  {
   "cell_type": "markdown",
   "metadata": {},
   "source": [
    "## Build UBER DataFrame"
   ]
  },
  {
   "cell_type": "code",
   "execution_count": 7,
   "metadata": {
    "ExecuteTime": {
     "end_time": "2021-01-01T16:05:12.975000-05:00",
     "start_time": "2021-01-01T21:04:51.682Z"
    }
   },
   "outputs": [],
   "source": [
    "## Print POSSIBLE fields for UBER DataFrame\n",
    "\n",
    "for key in keys(data) \n",
    "    #df = data[key].df\n",
    "    columns = names(data[key].df) # Symbols, not Strings\n",
    "    for i in 1:length(columns)\n",
    "        if occursin(\"Avg\", string(columns[i]) ) # include only averages\n",
    "            println(\",\", data[key].name, \"_\",columns[i], \n",
    "                \" = data[\\\"\", data[key].name, \"\\\"].df[:,:\", columns[i], \"] \") \n",
    "        end # if\n",
    "    end\n",
    "end"
   ]
  },
  {
   "cell_type": "code",
   "execution_count": 8,
   "metadata": {
    "ExecuteTime": {
     "end_time": "2021-01-01T16:05:12.990000-05:00",
     "start_time": "2021-01-01T21:04:51.685Z"
    }
   },
   "outputs": [
    {
     "ename": "LoadError",
     "evalue": "KeyError: key \"VIX\" not found",
     "output_type": "error",
     "traceback": [
      "KeyError: key \"VIX\" not found",
      "",
      "Stacktrace:",
      " [1] getindex(::Dict{String,IndicatorData}, ::String) at ./dict.jl:467",
      " [2] top-level scope at In[8]:5",
      " [3] include_string(::Function, ::Module, ::String, ::String) at ./loading.jl:1091"
     ]
    }
   ],
   "source": [
    "using DataFrames\n",
    "\n",
    "## example column_name = data[\"SYMBOL\"].df[:,:column_name] \n",
    "\n",
    "uber = DataFrame(  \n",
    "\n",
    " Rata_Die = data[\"VIX\"].df[:,:Rata_Die] \n",
    ",Date = data[\"VIX\"].df[:,:Date] \n",
    "    \n",
    ",VIX_Original = data[\"VIX\"].df[:,:Original] \n",
    ",VIX_Quantized = data[\"VIX\"].df[:,:Quantized] \n",
    ",VIX_Avg005 = data[\"VIX\"].df[:,:Avg005] \n",
    ",VIX_Avg030 = data[\"VIX\"].df[:,:Avg030] \n",
    ",VIX_Avg060 = data[\"VIX\"].df[:,:Avg060] \n",
    ",VIX_Avg090 = data[\"VIX\"].df[:,:Avg090] \n",
    ",VIX_Avg120 = data[\"VIX\"].df[:,:Avg120] \n",
    ",VIX_Avg180 = data[\"VIX\"].df[:,:Avg180] \n",
    "    \n",
    "\n",
    ",US_GDP_Q_Original = data[\"US_GDP_Q\"].df[:,:Original] \n",
    ",US_GDP_Q_Quantized = data[\"US_GDP_Q\"].df[:,:Quantized] \n",
    ",US_GDP_Q_Avg005 = data[\"US_GDP_Q\"].df[:,:Avg005] \n",
    ",US_GDP_Q_Avg030 = data[\"US_GDP_Q\"].df[:,:Avg030] \n",
    ",US_GDP_Q_Avg060 = data[\"US_GDP_Q\"].df[:,:Avg060] \n",
    ",US_GDP_Q_Avg090 = data[\"US_GDP_Q\"].df[:,:Avg090] \n",
    ",US_GDP_Q_Avg120 = data[\"US_GDP_Q\"].df[:,:Avg120] \n",
    ",US_GDP_Q_Avg180 = data[\"US_GDP_Q\"].df[:,:Avg180] \n",
    "    \n",
    "\n",
    ",US_ISM_MFC_PMI_Original = data[\"US_ISM_MFC_PMI\"].df[:,:Original] \n",
    ",US_ISM_MFC_PMI_Quantized = data[\"US_ISM_MFC_PMI\"].df[:,:Quantized] \n",
    ",US_ISM_MFC_PMI_Avg030 = data[\"US_ISM_MFC_PMI\"].df[:,:Avg030] \n",
    ",US_ISM_MFC_PMI_Avg060 = data[\"US_ISM_MFC_PMI\"].df[:,:Avg060] \n",
    ",US_ISM_MFC_PMI_Avg090 = data[\"US_ISM_MFC_PMI\"].df[:,:Avg090] \n",
    ",US_ISM_MFC_PMI_Avg180 = data[\"US_ISM_MFC_PMI\"].df[:,:Avg180] \n",
    ",US_ISM_MFC_PMI_Avg365 = data[\"US_ISM_MFC_PMI\"].df[:,:Avg365]\n",
    "    \n",
    " \n",
    ",NIO_Original = data[\"NIO\"].df[:,:Original] \n",
    ",NIO_Quantized = data[\"NIO\"].df[:,:Quantized] \n",
    ",NIO_Avg005 = data[\"NIO\"].df[:,:Avg005] \n",
    ",NIO_Avg030 = data[\"NIO\"].df[:,:Avg030] \n",
    ",NIO_Avg060 = data[\"NIO\"].df[:,:Avg060] \n",
    ",NIO_Avg090 = data[\"NIO\"].df[:,:Avg090] \n",
    ",NIO_Avg120 = data[\"NIO\"].df[:,:Avg120] \n",
    ",NIO_Avg180 = data[\"NIO\"].df[:,:Avg180] \n",
    "    \n",
    "\n",
    ",NVDA_Original = data[\"NVDA\"].df[:,:Original] \n",
    ",NVDA_Quantized = data[\"NVDA\"].df[:,:Quantized] \n",
    ",NVDA_Avg005 = data[\"NVDA\"].df[:,:Avg005] \n",
    ",NVDA_Avg030 = data[\"NVDA\"].df[:,:Avg030] \n",
    ",NVDA_Avg060 = data[\"NVDA\"].df[:,:Avg060] \n",
    ",NVDA_Avg090 = data[\"NVDA\"].df[:,:Avg090] \n",
    ",NVDA_Avg120 = data[\"NVDA\"].df[:,:Avg120] \n",
    ",NVDA_Avg180 = data[\"NVDA\"].df[:,:Avg180] \n",
    "    \n",
    "\n",
    ",DJIA_Original = data[\"DJIA\"].df[:,:Original] \n",
    ",DJIA_Quantized = data[\"DJIA\"].df[:,:Quantized] \n",
    ",DJIA_Avg005 = data[\"DJIA\"].df[:,:Avg005] \n",
    ",DJIA_Avg030 = data[\"DJIA\"].df[:,:Avg030] \n",
    ",DJIA_Avg060 = data[\"DJIA\"].df[:,:Avg060] \n",
    ",DJIA_Avg090 = data[\"DJIA\"].df[:,:Avg090] \n",
    ",DJIA_Avg120 = data[\"DJIA\"].df[:,:Avg120] \n",
    ",DJIA_Avg180 = data[\"DJIA\"].df[:,:Avg180] \n",
    "    \n",
    "\n",
    ",AAPL_Original = data[\"AAPL\"].df[:,:Original] \n",
    ",AAPL_Quantized = data[\"AAPL\"].df[:,:Quantized] \n",
    ",AAPL_Avg005 = data[\"AAPL\"].df[:,:Avg005] \n",
    ",AAPL_Avg030 = data[\"AAPL\"].df[:,:Avg030] \n",
    ",AAPL_Avg060 = data[\"AAPL\"].df[:,:Avg060] \n",
    ",AAPL_Avg090 = data[\"AAPL\"].df[:,:Avg090] \n",
    ",AAPL_Avg120 = data[\"AAPL\"].df[:,:Avg120] \n",
    ",AAPL_Avg180 = data[\"AAPL\"].df[:,:Avg180] \n",
    "    \n",
    "\n",
    ",US_INIT_JOBLESS_Original = data[\"US_INIT_JOBLESS\"].df[:,:Original] \n",
    ",US_INIT_JOBLESS_Quantized = data[\"US_INIT_JOBLESS\"].df[:,:Quantized] \n",
    ",US_INIT_JOBLESS_Avg005 = data[\"US_INIT_JOBLESS\"].df[:,:Avg005] \n",
    ",US_INIT_JOBLESS_Avg030 = data[\"US_INIT_JOBLESS\"].df[:,:Avg030] \n",
    ",US_INIT_JOBLESS_Avg060 = data[\"US_INIT_JOBLESS\"].df[:,:Avg060] \n",
    ",US_INIT_JOBLESS_Avg090 = data[\"US_INIT_JOBLESS\"].df[:,:Avg090] \n",
    ",US_INIT_JOBLESS_Avg120 = data[\"US_INIT_JOBLESS\"].df[:,:Avg120] \n",
    ",US_INIT_JOBLESS_Avg180 = data[\"US_INIT_JOBLESS\"].df[:,:Avg180] \n",
    "    \n",
    "\n",
    ",US_ISM_MFC_EMP_Original = data[\"US_ISM_MFC_EMP\"].df[:,:Original] \n",
    ",US_ISM_MFC_EMP_Quantized = data[\"US_ISM_MFC_EMP\"].df[:,:Quantized] \n",
    ",US_ISM_MFC_EMP_Avg030 = data[\"US_ISM_MFC_EMP\"].df[:,:Avg030] \n",
    ",US_ISM_MFC_EMP_Avg060 = data[\"US_ISM_MFC_EMP\"].df[:,:Avg060] \n",
    ",US_ISM_MFC_EMP_Avg090 = data[\"US_ISM_MFC_EMP\"].df[:,:Avg090] \n",
    ",US_ISM_MFC_EMP_Avg120 = data[\"US_ISM_MFC_EMP\"].df[:,:Avg120] \n",
    ",US_ISM_MFC_EMP_Avg180 = data[\"US_ISM_MFC_EMP\"].df[:,:Avg180] \n",
    ",US_ISM_MFC_EMP_Avg365 = data[\"US_ISM_MFC_EMP\"].df[:,:Avg365] \n",
    "    \n",
    "\n",
    ",US_HOUS_STRT_M_Original = data[\"US_HOUS_STRT_M\"].df[:,:Original] \n",
    ",US_HOUS_STRT_M_Quantized = data[\"US_HOUS_STRT_M\"].df[:,:Quantized] \n",
    ",US_HOUS_STRT_M_Avg005 = data[\"US_HOUS_STRT_M\"].df[:,:Avg005] \n",
    ",US_HOUS_STRT_M_Avg030 = data[\"US_HOUS_STRT_M\"].df[:,:Avg030] \n",
    ",US_HOUS_STRT_M_Avg060 = data[\"US_HOUS_STRT_M\"].df[:,:Avg060] \n",
    ",US_HOUS_STRT_M_Avg090 = data[\"US_HOUS_STRT_M\"].df[:,:Avg090] \n",
    ",US_HOUS_STRT_M_Avg120 = data[\"US_HOUS_STRT_M\"].df[:,:Avg120] \n",
    ",US_HOUS_STRT_M_Avg180 = data[\"US_HOUS_STRT_M\"].df[:,:Avg180]\n",
    ")\n",
    "using Statistics\n",
    "#describe(uber)"
   ]
  },
  {
   "cell_type": "markdown",
   "metadata": {},
   "source": [
    "## Visualize the dependencies"
   ]
  },
  {
   "cell_type": "code",
   "execution_count": 9,
   "metadata": {
    "ExecuteTime": {
     "end_time": "2021-01-01T16:05:13.052000-05:00",
     "start_time": "2021-01-01T21:04:51.687Z"
    }
   },
   "outputs": [
    {
     "ename": "LoadError",
     "evalue": "could not open file /Users/uki/REPOS/MarketIndicators.jl/src/Julia/function_print_columns_features.jl",
     "output_type": "error",
     "traceback": [
      "could not open file /Users/uki/REPOS/MarketIndicators.jl/src/Julia/function_print_columns_features.jl",
      "",
      "Stacktrace:",
      " [1] include(::String) at ./client.jl:457",
      " [2] top-level scope at In[9]:3",
      " [3] include_string(::Function, ::Module, ::String, ::String) at ./loading.jl:1091"
     ]
    }
   ],
   "source": [
    "## print columns in format to be taken by predict_ file.\n",
    "\n",
    "include(\"../Julia/function_print_columns_features.jl\")\n",
    "#columns = print_colunms(uber)\n",
    "columns =  print_columns_features(uber)\n",
    "println()"
   ]
  },
  {
   "cell_type": "code",
   "execution_count": 10,
   "metadata": {
    "ExecuteTime": {
     "end_time": "2021-01-01T16:05:23.733000-05:00",
     "start_time": "2021-01-01T21:04:51.690Z"
    }
   },
   "outputs": [
    {
     "ename": "LoadError",
     "evalue": "UndefVarError: uber not defined",
     "output_type": "error",
     "traceback": [
      "UndefVarError: uber not defined",
      "",
      "Stacktrace:",
      " [1] top-level scope at In[10]:3",
      " [2] include_string(::Function, ::Module, ::String, ::String) at ./loading.jl:1091"
     ]
    }
   ],
   "source": [
    "using Plots\n",
    "\n",
    "record_count = size(uber)[1]\n",
    "rows = 1:record_count\n",
    "dates = format_dates( uber[rows,2] , \"m/d/yy\")\n",
    "\n",
    "gr()\n",
    "plot( dates, # x-axis: dates\n",
    "     [ \n",
    "        uber[rows,8] uber[rows,15] uber[rows,20] uber[rows,28] uber[rows,39] uber[rows,45] uber[rows,53] uber[rows,57] uber[rows,65]  uber[rows,78]         \n",
    "    ], # y-axis\n",
    "    label = [      \n",
    "        columns[8]     columns[15]   columns[20]   columns[28] columns[39]   columns[45]   columns[53] columns[57] columns[65] columns[78] \"\" \n",
    "    ],\n",
    "    legend   =:topleft, \n",
    "              # :right, :left, :top, :bottom, :inside, :best, :legend, :topright, :topleft, :bottomleft, :bottomright\n",
    "    xlabel   = \"time\",\n",
    "    ylabel   = \"indicators\",\n",
    "    size     = (980, 400), # width, height\n",
    "    layout = (1, 1) # number of graphs: vertically, horizontally\n",
    "    )"
   ]
  },
  {
   "cell_type": "code",
   "execution_count": 11,
   "metadata": {
    "ExecuteTime": {
     "end_time": "2021-01-01T16:05:26.201000-05:00",
     "start_time": "2021-01-01T21:04:51.694Z"
    }
   },
   "outputs": [
    {
     "ename": "LoadError",
     "evalue": "No current plot/subplot",
     "output_type": "error",
     "traceback": [
      "No current plot/subplot",
      "",
      "Stacktrace:",
      " [1] error(::String) at ./error.jl:33",
      " [2] current at /Users/uki/.julia/packages/Plots/8GUYs/src/plot.jl:15 [inlined]",
      " [3] savefig(::String) at /Users/uki/.julia/packages/Plots/8GUYs/src/output.jl:129",
      " [4] top-level scope at In[11]:1",
      " [5] include_string(::Function, ::Module, ::String, ::String) at ./loading.jl:1091"
     ]
    }
   ],
   "source": [
    "savefig(\"../../indicators.png\")"
   ]
  },
  {
   "cell_type": "markdown",
   "metadata": {},
   "source": [
    "## Divide Training and Prediction data sets"
   ]
  },
  {
   "cell_type": "code",
   "execution_count": 12,
   "metadata": {
    "ExecuteTime": {
     "end_time": "2021-01-01T16:05:26.203000-05:00",
     "start_time": "2021-01-01T21:04:51.696Z"
    }
   },
   "outputs": [
    {
     "ename": "LoadError",
     "evalue": "UndefVarError: uber not defined",
     "output_type": "error",
     "traceback": [
      "UndefVarError: uber not defined",
      "",
      "Stacktrace:",
      " [1] top-level scope at In[12]:1",
      " [2] include_string(::Function, ::Module, ::String, ::String) at ./loading.jl:1091"
     ]
    }
   ],
   "source": [
    "record_count = size(uber)[1]\n",
    "today_rata = Dates.datetime2rata( today() )\n",
    "today_id = find_day(uber, today_rata)\n",
    "\n",
    "# I am putting overlap in the sets to see the behavior\n",
    "df_training   = uber[1:today_id-5,:] # train up 5 days ago, I want to see real prediction for last few days.\n",
    "df_prediction = uber[today_id-90:record_count,:] # show predictions up to 90 days ago\n",
    "\n",
    "println()"
   ]
  },
  {
   "cell_type": "markdown",
   "metadata": {},
   "source": [
    "### Save Datasets"
   ]
  },
  {
   "cell_type": "code",
   "execution_count": 13,
   "metadata": {
    "ExecuteTime": {
     "end_time": "2021-01-01T16:05:26.206000-05:00",
     "start_time": "2021-01-01T21:04:51.699Z"
    }
   },
   "outputs": [
    {
     "ename": "LoadError",
     "evalue": "UndefVarError: save_dataset not defined",
     "output_type": "error",
     "traceback": [
      "UndefVarError: save_dataset not defined",
      "",
      "Stacktrace:",
      " [1] top-level scope at In[13]:1",
      " [2] include_string(::Function, ::Module, ::String, ::String) at ./loading.jl:1091"
     ]
    }
   ],
   "source": [
    "save_dataset(df_training,   \"uber_training.csv\"  , \"../Data/processed/\");\n",
    "save_dataset(df_prediction, \"uber_prediction.csv\", \"../Data/processed/\");"
   ]
  },
  {
   "cell_type": "code",
   "execution_count": null,
   "metadata": {},
   "outputs": [],
   "source": []
  }
 ],
 "metadata": {
  "kernelspec": {
   "display_name": "Julia 1.5.1",
   "language": "julia",
   "name": "julia-1.5"
  },
  "language_info": {
   "file_extension": ".jl",
   "mimetype": "application/julia",
   "name": "julia",
   "version": "1.5.1"
  },
  "toc": {
   "base_numbering": 1,
   "nav_menu": {},
   "number_sections": true,
   "sideBar": true,
   "skip_h1_title": true,
   "title_cell": "Table of Contents",
   "title_sidebar": "Contents",
   "toc_cell": true,
   "toc_position": {},
   "toc_section_display": true,
   "toc_window_display": true
  },
  "varInspector": {
   "cols": {
    "lenName": 16,
    "lenType": 16,
    "lenVar": 40
   },
   "kernels_config": {
    "python": {
     "delete_cmd_postfix": "",
     "delete_cmd_prefix": "del ",
     "library": "var_list.py",
     "varRefreshCmd": "print(var_dic_list())"
    },
    "r": {
     "delete_cmd_postfix": ") ",
     "delete_cmd_prefix": "rm(",
     "library": "var_list.r",
     "varRefreshCmd": "cat(var_dic_list()) "
    }
   },
   "types_to_exclude": [
    "module",
    "function",
    "builtin_function_or_method",
    "instance",
    "_Feature"
   ],
   "window_display": false
  }
 },
 "nbformat": 4,
 "nbformat_minor": 4
}
