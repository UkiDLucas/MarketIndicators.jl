{
 "cells": [
  {
   "cell_type": "markdown",
   "metadata": {
    "toc": true
   },
   "source": [
    "<h1>Table of Contents<span class=\"tocSkip\"></span></h1>\n",
    "<div class=\"toc\"><ul class=\"toc-item\"><li><span><a href=\"#Show-Environment-Data\" data-toc-modified-id=\"Show-Environment-Data-1\"><span class=\"toc-item-num\">1&nbsp;&nbsp;</span>Show Environment Data</a></span><ul class=\"toc-item\"><li><span><a href=\"#Julia-version\" data-toc-modified-id=\"Julia-version-1.1\"><span class=\"toc-item-num\">1.1&nbsp;&nbsp;</span>Julia version</a></span></li><li><span><a href=\"#Julia-number-of-threads\" data-toc-modified-id=\"Julia-number-of-threads-1.2\"><span class=\"toc-item-num\">1.2&nbsp;&nbsp;</span>Julia number of threads</a></span></li></ul></li><li><span><a href=\"#Julia-packages\" data-toc-modified-id=\"Julia-packages-2\"><span class=\"toc-item-num\">2&nbsp;&nbsp;</span>Julia packages</a></span><ul class=\"toc-item\"><li><span><a href=\"#Update-Currently-Installed-Packages\" data-toc-modified-id=\"Update-Currently-Installed-Packages-2.1\"><span class=\"toc-item-num\">2.1&nbsp;&nbsp;</span>Update Currently Installed Packages</a></span></li><li><span><a href=\"#Show-all-currently-installed-Packages\" data-toc-modified-id=\"Show-all-currently-installed-Packages-2.2\"><span class=\"toc-item-num\">2.2&nbsp;&nbsp;</span>Show all currently installed Packages</a></span></li><li><span><a href=\"#Read-and-install-packages-from-a-text-file\" data-toc-modified-id=\"Read-and-install-packages-from-a-text-file-2.3\"><span class=\"toc-item-num\">2.3&nbsp;&nbsp;</span>Read and install packages from a text file</a></span></li></ul></li></ul></div>"
   ]
  },
  {
   "cell_type": "markdown",
   "metadata": {},
   "source": [
    "## Show Environment Data \n",
    "\n",
    "### Julia version\n",
    "Make sure there is a Julia version consistency in your environments:\n",
    "- JupyterLab \n",
    "- Terminal\n",
    "\n",
    "### Julia number of threads\n",
    "\n",
    "Julia should run 1 thread per **physical CPU core**\n",
    "\n",
    "JULIA_NUM_THREADS = 4"
   ]
  },
  {
   "cell_type": "code",
   "execution_count": 1,
   "metadata": {
    "ExecuteTime": {
     "end_time": "2020-11-29T11:06:18.873000-05:00",
     "start_time": "2020-11-29T16:06:15.983Z"
    }
   },
   "outputs": [
    {
     "name": "stdout",
     "output_type": "stream",
     "text": [
      "Julia Version 1.4.2\n",
      "Commit 44fa15b150* (2020-05-23 18:35 UTC)\n",
      "Platform Info:\n",
      "  OS: macOS (x86_64-apple-darwin18.7.0)\n",
      "  uname: Darwin 19.6.0 Darwin Kernel Version 19.6.0: Thu Oct 29 22:56:45 PDT 2020; root:xnu-6153.141.2.2~1/RELEASE_X86_64 x86_64 i386\n",
      "  CPU: Intel(R) Core(TM) i7-7820HQ CPU @ 2.90GHz: \n",
      "              speed         user         nice          sys         idle          irq\n",
      "       #1  2900 MHz    1027238 s          0 s     651265 s    4160347 s          0 s\n",
      "       #2  2900 MHz      74666 s          0 s      70146 s    5693889 s          0 s\n",
      "       #3  2900 MHz     856598 s          0 s     492936 s    4489197 s          0 s\n",
      "       #4  2900 MHz      65734 s          0 s      53970 s    5718990 s          0 s\n",
      "       #5  2900 MHz     731452 s          0 s     367632 s    4739636 s          0 s\n",
      "       #6  2900 MHz      64915 s          0 s      47808 s    5725965 s          0 s\n",
      "       #7  2900 MHz     640832 s          0 s     299377 s    4898498 s          0 s\n",
      "       #8  2900 MHz      64657 s          0 s      43143 s    5730881 s          0 s\n",
      "       \n",
      "  Memory: 16.0 GB (396.453125 MB free)\n",
      "  Uptime: 1.658917e6 sec\n",
      "  Load Avg:  2.58642578125  2.2607421875  2.29443359375\n",
      "  WORD_SIZE: 64\n",
      "  LIBM: libopenlibm\n",
      "  LLVM: libLLVM-8.0.1 (ORCJIT, skylake)\n",
      "Environment:\n",
      "  JULIA_NUM_THREADS = 4\n",
      "  TERM = xterm-256color\n",
      "  PATH = /Applications/Julia-1.4.app/Contents/Resources/julia/bin:/opt/anaconda3/bin:/opt/anaconda3/condabin:/usr/local/bin:/usr/bin:/bin:/usr/sbin:/sbin\n",
      "  XPC_FLAGS = 0x0\n",
      "  HOME = /Users/uki\n"
     ]
    }
   ],
   "source": [
    "versioninfo(verbose=true)"
   ]
  },
  {
   "cell_type": "markdown",
   "metadata": {},
   "source": [
    "## Julia packages\n",
    "\n",
    "### Update Currently Installed Packages\n",
    "\n",
    "You should run this before making the list of all the packages.\n",
    "This is take a while!"
   ]
  },
  {
   "cell_type": "code",
   "execution_count": 2,
   "metadata": {
    "ExecuteTime": {
     "end_time": "2020-11-29T11:06:38.118000-05:00",
     "start_time": "2020-11-29T16:06:15.986Z"
    }
   },
   "outputs": [
    {
     "name": "stderr",
     "output_type": "stream",
     "text": [
      "\u001b[32m\u001b[1m   Updating\u001b[22m\u001b[39m `~/.julia/environments/v1.4/Project.toml`\n",
      "\u001b[90m [no changes]\u001b[39m\n",
      "\u001b[32m\u001b[1m   Updating\u001b[22m\u001b[39m `~/.julia/environments/v1.4/Manifest.toml`\n",
      "\u001b[90m [no changes]\u001b[39m\n",
      "\u001b[32m\u001b[1m   Updating\u001b[22m\u001b[39m registry at `~/.julia/registries/General`\n"
     ]
    },
    {
     "name": "stdout",
     "output_type": "stream",
     "text": [
      "\u001b[?25l\u001b[2K"
     ]
    },
    {
     "name": "stderr",
     "output_type": "stream",
     "text": [
      "\u001b[32m\u001b[1m   Updating\u001b[22m\u001b[39m git-repo `https://github.com/JuliaRegistries/General.git`\n"
     ]
    },
    {
     "name": "stdout",
     "output_type": "stream",
     "text": [
      "\u001b[?25h"
     ]
    },
    {
     "name": "stderr",
     "output_type": "stream",
     "text": [
      "\u001b[32m\u001b[1m   Updating\u001b[22m\u001b[39m `~/.julia/environments/v1.4/Project.toml`\n",
      "\u001b[90m [no changes]\u001b[39m\n",
      "\u001b[32m\u001b[1m   Updating\u001b[22m\u001b[39m `~/.julia/environments/v1.4/Manifest.toml`\n",
      "\u001b[90m [no changes]\u001b[39m\n"
     ]
    }
   ],
   "source": [
    "import Pkg\n",
    "using Pkg \n",
    "Pkg.resolve()\n",
    "Pkg.update()"
   ]
  },
  {
   "cell_type": "markdown",
   "metadata": {},
   "source": [
    "### Show all currently installed Packages\n",
    "\n",
    "I save this list to the file: Julia_packages.txt"
   ]
  },
  {
   "cell_type": "code",
   "execution_count": 3,
   "metadata": {
    "ExecuteTime": {
     "end_time": "2020-11-29T11:06:38.593000-05:00",
     "start_time": "2020-11-29T16:06:15.989Z"
    }
   },
   "outputs": [
    {
     "name": "stdout",
     "output_type": "stream",
     "text": [
      "\u001b[32m\u001b[1mStatus\u001b[22m\u001b[39m `~/.julia/environments/v1.4/Project.toml`\n",
      " \u001b[90m [c52e3926]\u001b[39m\u001b[37m Atom v0.11.3\u001b[39m\n",
      " \u001b[90m [6e4b80f9]\u001b[39m\u001b[37m BenchmarkTools v0.5.0\u001b[39m\n",
      " \u001b[90m [9e28174c]\u001b[39m\u001b[37m BinDeps v1.0.2\u001b[39m\n",
      " \u001b[90m [336ed68f]\u001b[39m\u001b[37m CSV v0.8.2\u001b[39m\n",
      " \u001b[90m [052768ef]\u001b[39m\u001b[37m CUDA v0.1.0\u001b[39m\n",
      " \u001b[90m [3895d2a7]\u001b[39m\u001b[37m CUDAapi v4.0.0\u001b[39m\n",
      " \u001b[90m [49dc2e85]\u001b[39m\u001b[37m Calculus v0.5.1\u001b[39m\n",
      " \u001b[90m [944b1d66]\u001b[39m\u001b[37m CodecZlib v0.6.0\u001b[39m\n",
      " \u001b[90m [19ecbf4d]\u001b[39m\u001b[37m Codecs v0.5.0\u001b[39m\n",
      " \u001b[90m [3da002f7]\u001b[39m\u001b[37m ColorTypes v0.8.1\u001b[39m\n",
      " \u001b[90m [5ae59095]\u001b[39m\u001b[37m Colors v0.9.6\u001b[39m\n",
      " \u001b[90m [861a8166]\u001b[39m\u001b[37m Combinatorics v1.0.2\u001b[39m\n",
      " \u001b[90m [34da2185]\u001b[39m\u001b[37m Compat v2.2.1\u001b[39m\n",
      " \u001b[90m [a81c6b42]\u001b[39m\u001b[37m Compose v0.9.1\u001b[39m\n",
      " \u001b[90m [8f4d0f93]\u001b[39m\u001b[37m Conda v1.5.0\u001b[39m\n",
      " \u001b[90m [d38c429a]\u001b[39m\u001b[37m Contour v0.5.6\u001b[39m\n",
      " \u001b[90m [0fe7c1db]\u001b[39m\u001b[37m DataArrays v0.7.0\u001b[39m\n",
      " \u001b[90m [a93c6f00]\u001b[39m\u001b[37m DataFrames v0.20.2\u001b[39m\n",
      " \u001b[90m [864edb3b]\u001b[39m\u001b[37m DataStructures v0.17.20\u001b[39m\n",
      " \u001b[90m [b4f34e82]\u001b[39m\u001b[37m Distances v0.8.2\u001b[39m\n",
      " \u001b[90m [31c24e10]\u001b[39m\u001b[37m Distributions v0.23.8\u001b[39m\n",
      " \u001b[90m [5789e2e9]\u001b[39m\u001b[37m FileIO v1.4.4\u001b[39m\n",
      " \u001b[90m [53c48c17]\u001b[39m\u001b[37m FixedPointNumbers v0.6.1\u001b[39m\n",
      " \u001b[90m [587475ba]\u001b[39m\u001b[37m Flux v0.8.3\u001b[39m\n",
      " \u001b[90m [59287772]\u001b[39m\u001b[37m Formatting v0.4.1\u001b[39m\n",
      " \u001b[90m [f6369f11]\u001b[39m\u001b[37m ForwardDiff v0.10.12\u001b[39m\n",
      " \u001b[90m [38e38edf]\u001b[39m\u001b[37m GLM v1.3.11\u001b[39m\n",
      " \u001b[90m [28b8d3ca]\u001b[39m\u001b[37m GR v0.48.0\u001b[39m\n",
      " \u001b[90m [92fee26a]\u001b[39m\u001b[37m GZip v0.5.1\u001b[39m\n",
      " \u001b[90m [5c1252a2]\u001b[39m\u001b[37m GeometryBasics v0.3.3\u001b[39m\n",
      " \u001b[90m [a1b4810d]\u001b[39m\u001b[37m Hexagons v0.2.0\u001b[39m\n",
      " \u001b[90m [09f84164]\u001b[39m\u001b[37m HypothesisTests v0.10.2\u001b[39m\n",
      " \u001b[90m [7073ff75]\u001b[39m\u001b[37m IJulia v1.23.0\u001b[39m\n",
      " \u001b[90m [682c06a0]\u001b[39m\u001b[37m JSON v0.21.1\u001b[39m\n",
      " \u001b[90m [e5e0dc1b]\u001b[39m\u001b[37m Juno v0.7.2\u001b[39m\n",
      " \u001b[90m [5ab0869b]\u001b[39m\u001b[37m KernelDensity v0.5.1\u001b[39m\n",
      " \u001b[90m [1902f260]\u001b[39m\u001b[37m Knet v1.3.7\u001b[39m\n",
      " \u001b[90m [38d8eb38]\u001b[39m\u001b[37m Lathe v0.0.9\u001b[39m\n",
      " \u001b[90m [4345ca2d]\u001b[39m\u001b[37m Loess v0.5.2\u001b[39m\n",
      " \u001b[90m [442fdcdd]\u001b[39m\u001b[37m Measures v0.3.1\u001b[39m\n",
      " \u001b[90m [dbeba491]\u001b[39m\u001b[37m Metalhead v0.4.0\u001b[39m\n",
      " \u001b[90m [6f286f6a]\u001b[39m\u001b[37m MultivariateStats v0.7.0\u001b[39m\n",
      " \u001b[90m [77ba4419]\u001b[39m\u001b[37m NaNMath v0.3.5\u001b[39m\n",
      " \u001b[90m [6fe1bfb0]\u001b[39m\u001b[37m OffsetArrays v1.3.1\u001b[39m\n",
      " \u001b[90m [429524aa]\u001b[39m\u001b[37m Optim v0.20.1\u001b[39m\n",
      " \u001b[90m [90014a1f]\u001b[39m\u001b[37m PDMats v0.10.1\u001b[39m\n",
      " \u001b[90m [8314cec4]\u001b[39m\u001b[37m PGFPlotsX v1.2.10\u001b[39m\n",
      " \u001b[90m [d96e819e]\u001b[39m\u001b[37m Parameters v0.12.1\u001b[39m\n",
      " \u001b[90m [91a5bcdd]\u001b[39m\u001b[37m Plots v1.0.14\u001b[39m\n",
      " \u001b[90m [f27b6e38]\u001b[39m\u001b[37m Polynomials v1.1.12\u001b[39m\n",
      " \u001b[90m [27ebfcd6]\u001b[39m\u001b[37m Primes v0.5.0\u001b[39m\n",
      " \u001b[90m [438e738f]\u001b[39m\u001b[37m PyCall v1.92.1\u001b[39m\n",
      " \u001b[90m [d330b81b]\u001b[39m\u001b[37m PyPlot v2.9.0\u001b[39m\n",
      " \u001b[90m [dca85d43]\u001b[39m\u001b[37m QuartzImageIO v0.7.3\u001b[39m\n",
      " \u001b[90m [ce6b1742]\u001b[39m\u001b[37m RDatasets v0.7.3\u001b[39m\n",
      " \u001b[90m [189a3867]\u001b[39m\u001b[37m Reexport v0.2.0\u001b[39m\n",
      " \u001b[90m [79098fc4]\u001b[39m\u001b[37m Rmath v0.6.1\u001b[39m\n",
      " \u001b[90m [f2b01f46]\u001b[39m\u001b[37m Roots v1.0.6\u001b[39m\n",
      " \u001b[90m [992d4aef]\u001b[39m\u001b[37m Showoff v0.3.2\u001b[39m\n",
      " \u001b[90m [a2af1166]\u001b[39m\u001b[37m SortingAlgorithms v0.3.1\u001b[39m\n",
      " \u001b[90m [90137ffa]\u001b[39m\u001b[37m StaticArrays v0.12.5\u001b[39m\n",
      " \u001b[90m [2913bbd2]\u001b[39m\u001b[37m StatsBase v0.32.2\u001b[39m\n",
      " \u001b[90m [4c63d2b9]\u001b[39m\u001b[37m StatsFuns v0.9.6\u001b[39m\n",
      " \u001b[90m [f3b207a7]\u001b[39m\u001b[37m StatsPlots v0.14.17\u001b[39m\n",
      " \u001b[90m [1d978283]\u001b[39m\u001b[37m TensorFlow v0.11.0\u001b[39m\n",
      " \u001b[90m [a2db99b7]\u001b[39m\u001b[37m TextAnalysis v0.6.0\u001b[39m\n",
      " \u001b[90m [b1dd1ac2]\u001b[39m\u001b[37m TinySegmenter v1.0.0\u001b[39m\n",
      " \u001b[90m [30578b45]\u001b[39m\u001b[37m URIParser v0.4.1\u001b[39m\n",
      " \u001b[90m [b8865327]\u001b[39m\u001b[37m UnicodePlots v1.3.0\u001b[39m\n",
      " \u001b[90m [796a5d58]\u001b[39m\u001b[37m WordTokenizers v0.5.6\u001b[39m\n",
      " \u001b[90m [ade2ca70]\u001b[39m\u001b[37m Dates \u001b[39m\n",
      " \u001b[90m [8bb1440f]\u001b[39m\u001b[37m DelimitedFiles \u001b[39m\n",
      " \u001b[90m [ea8e919c]\u001b[39m\u001b[37m SHA \u001b[39m\n",
      " \u001b[90m [10745b16]\u001b[39m\u001b[37m Statistics \u001b[39m\n"
     ]
    }
   ],
   "source": [
    "import Pkg\n",
    "using Pkg \n",
    "Pkg.status()"
   ]
  },
  {
   "cell_type": "markdown",
   "metadata": {},
   "source": [
    "### Read and install packages from a text file\n",
    "\n",
    "I run this when I need to take the previously created list Julia_packages.txt and initialize a new environment.\n",
    "\n",
    "I exported the below code to Update_Julia_packages.jl \n",
    "\n",
    "I update and run the code from there.\n",
    "\n",
    "This will take a long time!"
   ]
  },
  {
   "cell_type": "raw",
   "metadata": {},
   "source": [
    "packages = readlines(\"Julia_packages.txt\", keep=true) \n",
    "for i in 1:length(packages)\n",
    "    line = packages[i] # take next line, for example: \"[5789e2e9] FileIO v1.4.3\"\n",
    "    line = line[14:end] # cut off the first 14 characters, i.e. the package [id]\n",
    "    last_space = findlast(\" \", line)[1]  # find last space, take the first dimention\n",
    "    cut2 = last_space - 1 # one character before the last space\n",
    "    package = line[1:cut2]\n",
    "    println(\"# Pkg.add(\\\"\", package,\"\\\") \")\n",
    "    println(\"# using \", package )\n",
    "    println(\" \" )\n",
    "    Pkg.add( package )\n",
    "end"
   ]
  },
  {
   "cell_type": "code",
   "execution_count": null,
   "metadata": {},
   "outputs": [],
   "source": []
  }
 ],
 "metadata": {
  "kernelspec": {
   "display_name": "Julia 1.4.2",
   "language": "julia",
   "name": "julia-1.4"
  },
  "language_info": {
   "file_extension": ".jl",
   "mimetype": "application/julia",
   "name": "julia",
   "version": "1.4.2"
  },
  "toc": {
   "base_numbering": 1,
   "nav_menu": {},
   "number_sections": true,
   "sideBar": true,
   "skip_h1_title": false,
   "title_cell": "Table of Contents",
   "title_sidebar": "Contents",
   "toc_cell": true,
   "toc_position": {},
   "toc_section_display": true,
   "toc_window_display": true
  },
  "varInspector": {
   "cols": {
    "lenName": 16,
    "lenType": 16,
    "lenVar": 40
   },
   "kernels_config": {
    "python": {
     "delete_cmd_postfix": "",
     "delete_cmd_prefix": "del ",
     "library": "var_list.py",
     "varRefreshCmd": "print(var_dic_list())"
    },
    "r": {
     "delete_cmd_postfix": ") ",
     "delete_cmd_prefix": "rm(",
     "library": "var_list.r",
     "varRefreshCmd": "cat(var_dic_list()) "
    }
   },
   "types_to_exclude": [
    "module",
    "function",
    "builtin_function_or_method",
    "instance",
    "_Feature"
   ],
   "window_display": false
  }
 },
 "nbformat": 4,
 "nbformat_minor": 4
}
