{
 "cells": [
  {
   "cell_type": "markdown",
   "metadata": {},
   "source": [
    "# NIO"
   ]
  },
  {
   "cell_type": "code",
   "execution_count": null,
   "metadata": {},
   "outputs": [],
   "source": []
  },
  {
   "cell_type": "markdown",
   "metadata": {
    "toc": true
   },
   "source": [
    "<h1>Table of Contents<span class=\"tocSkip\"></span></h1>\n",
    "<div class=\"toc\"><ul class=\"toc-item\"><li><span><a href=\"#NIO\" data-toc-modified-id=\"NIO-1\"><span class=\"toc-item-num\">1&nbsp;&nbsp;</span>NIO</a></span><ul class=\"toc-item\"><li><span><a href=\"#Set-Up\" data-toc-modified-id=\"Set-Up-1.1\"><span class=\"toc-item-num\">1.1&nbsp;&nbsp;</span>Set Up</a></span></li><li><span><a href=\"#Read-Data\" data-toc-modified-id=\"Read-Data-1.2\"><span class=\"toc-item-num\">1.2&nbsp;&nbsp;</span>Read Data</a></span><ul class=\"toc-item\"><li><span><a href=\"#Sample-the-data\" data-toc-modified-id=\"Sample-the-data-1.2.1\"><span class=\"toc-item-num\">1.2.1&nbsp;&nbsp;</span>Sample the data</a></span></li></ul></li><li><span><a href=\"#Rata-Die\" data-toc-modified-id=\"Rata-Die-1.3\"><span class=\"toc-item-num\">1.3&nbsp;&nbsp;</span>Rata Die</a></span><ul class=\"toc-item\"><li><span><a href=\"#Draw-Plots\" data-toc-modified-id=\"Draw-Plots-1.3.1\"><span class=\"toc-item-num\">1.3.1&nbsp;&nbsp;</span>Draw Plots</a></span></li><li><span><a href=\"#set-the-original-value-column\" data-toc-modified-id=\"set-the-original-value-column-1.3.2\"><span class=\"toc-item-num\">1.3.2&nbsp;&nbsp;</span>set the original value column</a></span></li></ul></li><li><span><a href=\"#Extract-right-columns\" data-toc-modified-id=\"Extract-right-columns-1.4\"><span class=\"toc-item-num\">1.4&nbsp;&nbsp;</span>Extract right columns</a></span></li><li><span><a href=\"#Quantize-the-values\" data-toc-modified-id=\"Quantize-the-values-1.5\"><span class=\"toc-item-num\">1.5&nbsp;&nbsp;</span>Quantize the values</a></span></li><li><span><a href=\"#Fill-in-Empty-Dates\" data-toc-modified-id=\"Fill-in-Empty-Dates-1.6\"><span class=\"toc-item-num\">1.6&nbsp;&nbsp;</span>Fill in Empty Dates</a></span><ul class=\"toc-item\"><li><span><a href=\"#Fill:-Sort\" data-toc-modified-id=\"Fill:-Sort-1.6.1\"><span class=\"toc-item-num\">1.6.1&nbsp;&nbsp;</span>Fill: Sort</a></span></li><li><span><a href=\"#Fill:-Draw-Plots\" data-toc-modified-id=\"Fill:-Draw-Plots-1.6.2\"><span class=\"toc-item-num\">1.6.2&nbsp;&nbsp;</span>Fill: Draw Plots</a></span></li></ul></li><li><span><a href=\"#Averages\" data-toc-modified-id=\"Averages-1.7\"><span class=\"toc-item-num\">1.7&nbsp;&nbsp;</span>Averages</a></span><ul class=\"toc-item\"><li><span><a href=\"#Averages:-Draw-Plots\" data-toc-modified-id=\"Averages:-Draw-Plots-1.7.1\"><span class=\"toc-item-num\">1.7.1&nbsp;&nbsp;</span>Averages: Draw Plots</a></span></li><li><span><a href=\"#Insert-averages-to-DataFrame\" data-toc-modified-id=\"Insert-averages-to-DataFrame-1.7.2\"><span class=\"toc-item-num\">1.7.2&nbsp;&nbsp;</span>Insert averages to DataFrame</a></span></li></ul></li><li><span><a href=\"#Position-on-given-Date\" data-toc-modified-id=\"Position-on-given-Date-1.8\"><span class=\"toc-item-num\">1.8&nbsp;&nbsp;</span>Position on given Date</a></span><ul class=\"toc-item\"><li><span><a href=\"#Position:-Draw-Plots\" data-toc-modified-id=\"Position:-Draw-Plots-1.8.1\"><span class=\"toc-item-num\">1.8.1&nbsp;&nbsp;</span>Position: Draw Plots</a></span></li></ul></li><li><span><a href=\"#Save-DataFrame-to-CSV-file\" data-toc-modified-id=\"Save-DataFrame-to-CSV-file-1.9\"><span class=\"toc-item-num\">1.9&nbsp;&nbsp;</span>Save DataFrame to CSV file</a></span><ul class=\"toc-item\"><li><span><a href=\"#Save:-Describe-before-saving\" data-toc-modified-id=\"Save:-Describe-before-saving-1.9.1\"><span class=\"toc-item-num\">1.9.1&nbsp;&nbsp;</span>Save: Describe before saving</a></span></li><li><span><a href=\"#Write-as-CSV-file\" data-toc-modified-id=\"Write-as-CSV-file-1.9.2\"><span class=\"toc-item-num\">1.9.2&nbsp;&nbsp;</span>Write as CSV file</a></span></li></ul></li></ul></li></ul></div>"
   ]
  },
  {
   "cell_type": "markdown",
   "metadata": {},
   "source": [
    "## Set Up"
   ]
  },
  {
   "cell_type": "code",
   "execution_count": 1,
   "metadata": {
    "ExecuteTime": {
     "end_time": "2020-11-30T20:20:31.429000-05:00",
     "start_time": "2020-12-01T01:20:26.629Z"
    }
   },
   "outputs": [
    {
     "name": "stdout",
     "output_type": "stream",
     "text": [
      "\n",
      "Run this file from the directory where this file is located.\n"
     ]
    },
    {
     "data": {
      "text/plain": [
       "\"/Users/uki/REPOS/MarketIndicators.jl/src/notebooks_indicators\""
      ]
     },
     "execution_count": 1,
     "metadata": {},
     "output_type": "execute_result"
    }
   ],
   "source": [
    "dataset_file_name = \"NIO.csv\"\n",
    "path_data_original = \"../Data/original/\"\n",
    "date_original_format = \"yyyy-mm-dd\"\n",
    "original_value_column = 3 # High\n",
    "last_position_change = \"2020-09-30\"\n",
    "\n",
    "#include(\"../Julia/MarketIndicators.jl\") \n",
    "include(\"../Julia/functions.jl\")\n",
    "\n",
    "println(\"Run this file from the directory where this file is located.\")\n",
    "pwd()"
   ]
  },
  {
   "cell_type": "markdown",
   "metadata": {},
   "source": [
    "## Read Data"
   ]
  },
  {
   "cell_type": "code",
   "execution_count": 2,
   "metadata": {
    "ExecuteTime": {
     "end_time": "2020-11-30T20:20:44.285000-05:00",
     "start_time": "2020-12-01T01:20:26.633Z"
    }
   },
   "outputs": [
    {
     "name": "stdout",
     "output_type": "stream",
     "text": [
      "../Data/original/NIO.csv\n",
      "data dimentions: (559, 7)\n"
     ]
    }
   ],
   "source": [
    "#data = available_datasets() # uncomment to see all available datasets\n",
    "\n",
    "df = fetch_dataset(dataset_file_name, date_original_format , path_data_original )\n",
    "record_count = size(df)[1]\n",
    "println(\"data dimentions: \", size(df) )\n",
    "\n",
    "#using Statistics\n",
    "#describe(df)"
   ]
  },
  {
   "cell_type": "markdown",
   "metadata": {},
   "source": [
    "### Sample the data"
   ]
  },
  {
   "cell_type": "code",
   "execution_count": 3,
   "metadata": {
    "ExecuteTime": {
     "end_time": "2020-11-30T20:20:45.569000-05:00",
     "start_time": "2020-12-01T01:20:26.636Z"
    },
    "scrolled": true
   },
   "outputs": [
    {
     "name": "stdout",
     "output_type": "stream",
     "text": [
      "7×7 DataFrame\n",
      "│ Row │ Date       │ Open    │ High    │ Low     │ Close   │ Adj Close │\n",
      "│     │ \u001b[90mDate\u001b[39m       │ \u001b[90mFloat64\u001b[39m │ \u001b[90mFloat64\u001b[39m │ \u001b[90mFloat64\u001b[39m │ \u001b[90mFloat64\u001b[39m │ \u001b[90mFloat64\u001b[39m   │\n",
      "├─────┼────────────┼─────────┼─────────┼─────────┼─────────┼───────────┤\n",
      "│ 1   │ 2018-09-12 │ 6.0     │ 6.93    │ 5.35    │ 6.6     │ 6.6       │\n",
      "│ 2   │ 2019-01-28 │ 6.56    │ 6.68    │ 6.48    │ 6.67    │ 6.67      │\n",
      "│ 3   │ 2019-06-11 │ 2.67    │ 2.67    │ 2.55    │ 2.61    │ 2.61      │\n",
      "│ 4   │ 2019-10-22 │ 1.7     │ 1.77    │ 1.52    │ 1.58    │ 1.58      │\n",
      "│ 5   │ 2020-03-06 │ 3.62    │ 3.66    │ 3.42    │ 3.55    │ 3.55      │\n",
      "│ 6   │ 2020-07-20 │ 11.42   │ 12.84   │ 11.38   │ 12.82   │ 12.82     │\n",
      "│ 7   │ 2020-11-30 │ 54.21   │ 54.39   │ 48.18   │ 50.53   │ 50.53     │\n",
      "\n",
      "│ Row │ Volume    │\n",
      "│     │ \u001b[90mInt64\u001b[39m     │\n",
      "├─────┼───────────┤\n",
      "│ 1   │ 66849000  │\n",
      "│ 2   │ 5111000   │\n",
      "│ 3   │ 33070100  │\n",
      "│ 4   │ 38944000  │\n",
      "│ 5   │ 61238100  │\n",
      "│ 6   │ 155428100 │\n",
      "│ 7   │ 175607071 │\n",
      " Dataset dimentions: (559, 7)\n",
      "\n",
      " variable columns:\n",
      "1 Date\n",
      "2 Open\n",
      "3 High\n",
      "4 Low\n",
      "5 Close\n",
      "6 Adj Close\n",
      "7 Volume\n",
      "\n"
     ]
    }
   ],
   "source": [
    "columns = preview_data(df) # uncomment to see the data\n",
    "println()"
   ]
  },
  {
   "cell_type": "markdown",
   "metadata": {},
   "source": [
    "## Rata Die"
   ]
  },
  {
   "cell_type": "code",
   "execution_count": 4,
   "metadata": {
    "ExecuteTime": {
     "end_time": "2020-11-30T20:20:45.728000-05:00",
     "start_time": "2020-12-01T01:20:26.639Z"
    }
   },
   "outputs": [
    {
     "name": "stdout",
     "output_type": "stream",
     "text": [
      "\n"
     ]
    }
   ],
   "source": [
    "col_ind = 1\n",
    "insertcols!(df, col_ind, :Rata_Die => zeros(Int64, record_count); makeunique = true )\n",
    "\n",
    "update_rata_die!(df, 1, 2)\n",
    "#first(df, 6)\n",
    "\n",
    "#columns = preview_data(df, 3)\n",
    "println()"
   ]
  },
  {
   "cell_type": "markdown",
   "metadata": {},
   "source": [
    "### Draw Plots"
   ]
  },
  {
   "cell_type": "raw",
   "metadata": {
    "ExecuteTime": {
     "end_time": "2020-11-30T20:03:16.793000-05:00",
     "start_time": "2020-12-01T01:03:16.746Z"
    }
   },
   "source": [
    "# Comment out once done reviewing\n",
    "\n",
    "using Plots\n",
    "\n",
    "record_count = size(df)[1]\n",
    "rows = 1:record_count\n",
    "dates = format_dates( df[rows,2] , \"m/d/yy\")\n",
    "\n",
    "gr()\n",
    "plot(          dates, # x-axis: dates\n",
    "               [  df[rows, original_value_column]    ], # y-axis\n",
    "    label    = [  columns[ original_value_column]   \"\" ]  ,\n",
    "    legend   =:topleft, \n",
    "              # :right, :left, :top, :bottom, :inside, :best, :legend, :topright, :topleft, :bottomleft, :bottomright\n",
    "    xlabel   = \"time\",\n",
    "    ylabel   = \"indicators\",\n",
    "    size     = (980, 400), # width, height\n",
    "    layout = (1, 1) # number of graphs: vertically, horizontally\n",
    "    )"
   ]
  },
  {
   "cell_type": "markdown",
   "metadata": {},
   "source": [
    "### set the original value column\n",
    "- go back to the top \"Setup\" section and choose which column should be the \"Orignal value\"\n",
    "- re-run the notebook"
   ]
  },
  {
   "cell_type": "markdown",
   "metadata": {},
   "source": [
    "## Extract right columns"
   ]
  },
  {
   "cell_type": "code",
   "execution_count": 5,
   "metadata": {
    "ExecuteTime": {
     "end_time": "2020-11-30T20:20:45.846000-05:00",
     "start_time": "2020-12-01T01:20:26.660Z"
    },
    "scrolled": true
   },
   "outputs": [
    {
     "name": "stdout",
     "output_type": "stream",
     "text": [
      "7×4 DataFrame\n",
      "│ Row │ Day    │ Date       │ Value   │ Original │\n",
      "│     │ \u001b[90mInt64\u001b[39m  │ \u001b[90mDate\u001b[39m       │ \u001b[90mFloat64\u001b[39m │ \u001b[90mFloat64\u001b[39m  │\n",
      "├─────┼────────┼────────────┼─────────┼──────────┤\n",
      "│ 1   │ 736949 │ 2018-09-12 │ 6.0     │ 6.0      │\n",
      "│ 2   │ 737087 │ 2019-01-28 │ 6.56    │ 6.56     │\n",
      "│ 3   │ 737221 │ 2019-06-11 │ 2.67    │ 2.67     │\n",
      "│ 4   │ 737354 │ 2019-10-22 │ 1.7     │ 1.7      │\n",
      "│ 5   │ 737490 │ 2020-03-06 │ 3.62    │ 3.62     │\n",
      "│ 6   │ 737626 │ 2020-07-20 │ 11.42   │ 11.42    │\n",
      "│ 7   │ 737759 │ 2020-11-30 │ 54.21   │ 54.21    │\n",
      " Dataset dimentions: (559, 4)\n",
      "\n",
      " variable columns:\n",
      "1 Day\n",
      "2 Date\n",
      "3 Value\n",
      "4 Original\n",
      "\n"
     ]
    }
   ],
   "source": [
    "# Extract only the columns to be kept\n",
    "\n",
    "using DataFrames\n",
    "df = DataFrame( Day      = df[:,1],                     # 1 \n",
    "                Date     = df[:,2],                     # 2 \n",
    "                Value    = df[:,original_value_column], # 3 \n",
    "                Original = df[:,original_value_column]  # 4 \n",
    "               )\n",
    "\n",
    "columns = preview_data(df)\n",
    "println()"
   ]
  },
  {
   "cell_type": "markdown",
   "metadata": {},
   "source": [
    "## Quantize the values\n",
    "\n",
    "- Quantization is a process of noramalizing the data\n",
    "- I have decided to normalize the data for Int8 as I might try use Google Coral NPU\n",
    "- minimum = -128.0\n",
    "- maximum = 127.0"
   ]
  },
  {
   "cell_type": "code",
   "execution_count": 6,
   "metadata": {
    "ExecuteTime": {
     "end_time": "2020-11-30T20:20:46.020000-05:00",
     "start_time": "2020-12-01T01:20:26.664Z"
    },
    "scrolled": true
   },
   "outputs": [
    {
     "name": "stdout",
     "output_type": "stream",
     "text": [
      "bias for 0 value: -0.02132616411017333\n",
      "Normalization was performend using formula y=(((x-min)/(max-min))*255)-128 \n",
      "minimum = 1.19\n",
      "maximum = 56.990002\n",
      "Save these values for later to run model preditions\n",
      "7×4 DataFrame\n",
      "│ Row │ Day    │ Date       │ Value   │ Original │\n",
      "│     │ \u001b[90mInt64\u001b[39m  │ \u001b[90mDate\u001b[39m       │ \u001b[90mFloat64\u001b[39m │ \u001b[90mFloat64\u001b[39m  │\n",
      "├─────┼────────┼────────────┼─────────┼──────────┤\n",
      "│ 1   │ 736949 │ 2018-09-12 │ -106.0  │ 6.0      │\n",
      "│ 2   │ 737087 │ 2019-01-28 │ -103.0  │ 6.56     │\n",
      "│ 3   │ 737221 │ 2019-06-11 │ -121.0  │ 2.67     │\n",
      "│ 4   │ 737354 │ 2019-10-22 │ -126.0  │ 1.7      │\n",
      "│ 5   │ 737490 │ 2020-03-06 │ -117.0  │ 3.62     │\n",
      "│ 6   │ 737626 │ 2020-07-20 │ -81.0   │ 11.42    │\n",
      "│ 7   │ 737759 │ 2020-11-30 │ 114.0   │ 54.21    │\n",
      " Dataset dimentions: (559, 4)\n",
      "\n",
      " variable columns:\n",
      "1 Day\n",
      "2 Date\n",
      "3 Value\n",
      "4 Original\n",
      "\n"
     ]
    }
   ],
   "source": [
    "# Quantize the values\n",
    "\n",
    "data_original = df[:, 4] # keep original for display comparison later\n",
    "\n",
    "quantize_column!(df, 3)\n",
    "\n",
    "columns = preview_data(df)\n",
    "println()"
   ]
  },
  {
   "cell_type": "raw",
   "metadata": {
    "ExecuteTime": {
     "end_time": "2020-11-30T20:17:58.923000-05:00",
     "start_time": "2020-12-01T01:17:10.749Z"
    }
   },
   "source": [
    "# Comment out once done reviewing\n",
    "\n",
    "using Plots\n",
    "\n",
    "count = size(df)[1]\n",
    "rows = 1:count\n",
    "dates = format_dates( df[rows,2] , \"m/d/yy\")\n",
    "\n",
    "gr()\n",
    "plot(          dates, # x-axis: dates\n",
    "               [  df[rows,3]    ], # y-axis\n",
    "    label    = [  columns[3] \"\"   ]  ,\n",
    "    legend   =:topleft, \n",
    "              # :right, :left, :top, :bottom, :inside, :best, :legend, :topright, :topleft, :bottomleft, :bottomright\n",
    "    xlabel   = \"time\",\n",
    "    ylabel   = \"indicators\",\n",
    "    size     = (980, 400), # width, height\n",
    "    layout = (1, 1) # number of graphs: vertically, horizontally\n",
    "    )"
   ]
  },
  {
   "cell_type": "markdown",
   "metadata": {},
   "source": [
    "## Fill in Empty Dates"
   ]
  },
  {
   "cell_type": "code",
   "execution_count": 7,
   "metadata": {
    "ExecuteTime": {
     "end_time": "2020-11-30T20:20:48.752000-05:00",
     "start_time": "2020-12-01T01:20:26.686Z"
    },
    "scrolled": true
   },
   "outputs": [
    {
     "data": {
      "text/html": [
       "<table class=\"data-frame\"><thead><tr><th></th><th>Day</th><th>Date</th><th>Value</th><th>Original</th></tr><tr><th></th><th>Int64</th><th>Date</th><th>Float64</th><th>Float64</th></tr></thead><tbody><p>811 rows × 4 columns</p><tr><th>1</th><td>736949</td><td>2018-09-12</td><td>-106.0</td><td>6.0</td></tr><tr><th>2</th><td>736950</td><td>2018-09-13</td><td>-103.0</td><td>6.62</td></tr><tr><th>3</th><td>736951</td><td>2018-09-14</td><td>-76.0</td><td>12.66</td></tr><tr><th>4</th><td>736954</td><td>2018-09-17</td><td>-90.0</td><td>9.61</td></tr><tr><th>5</th><td>736955</td><td>2018-09-18</td><td>-94.0</td><td>8.73</td></tr><tr><th>6</th><td>736956</td><td>2018-09-19</td><td>-97.0</td><td>7.88</td></tr><tr><th>7</th><td>736957</td><td>2018-09-20</td><td>-92.0</td><td>9.07</td></tr><tr><th>8</th><td>736958</td><td>2018-09-21</td><td>-92.0</td><td>9.05</td></tr><tr><th>9</th><td>736961</td><td>2018-09-24</td><td>-95.0</td><td>8.32</td></tr><tr><th>10</th><td>736962</td><td>2018-09-25</td><td>-97.0</td><td>8.06</td></tr><tr><th>11</th><td>736963</td><td>2018-09-26</td><td>-99.0</td><td>7.59</td></tr><tr><th>12</th><td>736964</td><td>2018-09-27</td><td>-99.0</td><td>7.55</td></tr><tr><th>13</th><td>736965</td><td>2018-09-28</td><td>-102.0</td><td>6.97</td></tr><tr><th>14</th><td>736968</td><td>2018-10-01</td><td>-101.0</td><td>7.06</td></tr><tr><th>15</th><td>736969</td><td>2018-10-02</td><td>-103.0</td><td>6.6</td></tr><tr><th>16</th><td>736970</td><td>2018-10-03</td><td>-105.0</td><td>6.12</td></tr><tr><th>17</th><td>736971</td><td>2018-10-04</td><td>-105.0</td><td>6.19</td></tr><tr><th>18</th><td>736972</td><td>2018-10-05</td><td>-105.0</td><td>6.2</td></tr><tr><th>19</th><td>736975</td><td>2018-10-08</td><td>-106.0</td><td>6.07</td></tr><tr><th>20</th><td>736976</td><td>2018-10-09</td><td>-105.0</td><td>6.19</td></tr><tr><th>21</th><td>736977</td><td>2018-10-10</td><td>-96.0</td><td>8.1</td></tr><tr><th>22</th><td>736978</td><td>2018-10-11</td><td>-99.0</td><td>7.44</td></tr><tr><th>23</th><td>736979</td><td>2018-10-12</td><td>-99.0</td><td>7.46</td></tr><tr><th>24</th><td>736982</td><td>2018-10-15</td><td>-98.0</td><td>7.86</td></tr><tr><th>25</th><td>736983</td><td>2018-10-16</td><td>-97.0</td><td>8.06</td></tr><tr><th>26</th><td>736984</td><td>2018-10-17</td><td>-96.0</td><td>8.12</td></tr><tr><th>27</th><td>736985</td><td>2018-10-18</td><td>-99.0</td><td>7.6</td></tr><tr><th>28</th><td>736986</td><td>2018-10-19</td><td>-99.0</td><td>7.59</td></tr><tr><th>29</th><td>736989</td><td>2018-10-22</td><td>-98.0</td><td>7.68</td></tr><tr><th>30</th><td>736990</td><td>2018-10-23</td><td>-103.0</td><td>6.74</td></tr><tr><th>&vellip;</th><td>&vellip;</td><td>&vellip;</td><td>&vellip;</td><td>&vellip;</td></tr></tbody></table>"
      ],
      "text/latex": [
       "\\begin{tabular}{r|cccc}\n",
       "\t& Day & Date & Value & Original\\\\\n",
       "\t\\hline\n",
       "\t& Int64 & Date & Float64 & Float64\\\\\n",
       "\t\\hline\n",
       "\t1 & 736949 & 2018-09-12 & -106.0 & 6.0 \\\\\n",
       "\t2 & 736950 & 2018-09-13 & -103.0 & 6.62 \\\\\n",
       "\t3 & 736951 & 2018-09-14 & -76.0 & 12.66 \\\\\n",
       "\t4 & 736954 & 2018-09-17 & -90.0 & 9.61 \\\\\n",
       "\t5 & 736955 & 2018-09-18 & -94.0 & 8.73 \\\\\n",
       "\t6 & 736956 & 2018-09-19 & -97.0 & 7.88 \\\\\n",
       "\t7 & 736957 & 2018-09-20 & -92.0 & 9.07 \\\\\n",
       "\t8 & 736958 & 2018-09-21 & -92.0 & 9.05 \\\\\n",
       "\t9 & 736961 & 2018-09-24 & -95.0 & 8.32 \\\\\n",
       "\t10 & 736962 & 2018-09-25 & -97.0 & 8.06 \\\\\n",
       "\t11 & 736963 & 2018-09-26 & -99.0 & 7.59 \\\\\n",
       "\t12 & 736964 & 2018-09-27 & -99.0 & 7.55 \\\\\n",
       "\t13 & 736965 & 2018-09-28 & -102.0 & 6.97 \\\\\n",
       "\t14 & 736968 & 2018-10-01 & -101.0 & 7.06 \\\\\n",
       "\t15 & 736969 & 2018-10-02 & -103.0 & 6.6 \\\\\n",
       "\t16 & 736970 & 2018-10-03 & -105.0 & 6.12 \\\\\n",
       "\t17 & 736971 & 2018-10-04 & -105.0 & 6.19 \\\\\n",
       "\t18 & 736972 & 2018-10-05 & -105.0 & 6.2 \\\\\n",
       "\t19 & 736975 & 2018-10-08 & -106.0 & 6.07 \\\\\n",
       "\t20 & 736976 & 2018-10-09 & -105.0 & 6.19 \\\\\n",
       "\t21 & 736977 & 2018-10-10 & -96.0 & 8.1 \\\\\n",
       "\t22 & 736978 & 2018-10-11 & -99.0 & 7.44 \\\\\n",
       "\t23 & 736979 & 2018-10-12 & -99.0 & 7.46 \\\\\n",
       "\t24 & 736982 & 2018-10-15 & -98.0 & 7.86 \\\\\n",
       "\t25 & 736983 & 2018-10-16 & -97.0 & 8.06 \\\\\n",
       "\t26 & 736984 & 2018-10-17 & -96.0 & 8.12 \\\\\n",
       "\t27 & 736985 & 2018-10-18 & -99.0 & 7.6 \\\\\n",
       "\t28 & 736986 & 2018-10-19 & -99.0 & 7.59 \\\\\n",
       "\t29 & 736989 & 2018-10-22 & -98.0 & 7.68 \\\\\n",
       "\t30 & 736990 & 2018-10-23 & -103.0 & 6.74 \\\\\n",
       "\t$\\dots$ & $\\dots$ & $\\dots$ & $\\dots$ & $\\dots$ \\\\\n",
       "\\end{tabular}\n"
      ],
      "text/plain": [
       "811×4 DataFrame\n",
       "│ Row │ Day    │ Date       │ Value   │ Original │\n",
       "│     │ \u001b[90mInt64\u001b[39m  │ \u001b[90mDate\u001b[39m       │ \u001b[90mFloat64\u001b[39m │ \u001b[90mFloat64\u001b[39m  │\n",
       "├─────┼────────┼────────────┼─────────┼──────────┤\n",
       "│ 1   │ 736949 │ 2018-09-12 │ -106.0  │ 6.0      │\n",
       "│ 2   │ 736950 │ 2018-09-13 │ -103.0  │ 6.62     │\n",
       "│ 3   │ 736951 │ 2018-09-14 │ -76.0   │ 12.66    │\n",
       "│ 4   │ 736954 │ 2018-09-17 │ -90.0   │ 9.61     │\n",
       "│ 5   │ 736955 │ 2018-09-18 │ -94.0   │ 8.73     │\n",
       "│ 6   │ 736956 │ 2018-09-19 │ -97.0   │ 7.88     │\n",
       "│ 7   │ 736957 │ 2018-09-20 │ -92.0   │ 9.07     │\n",
       "│ 8   │ 736958 │ 2018-09-21 │ -92.0   │ 9.05     │\n",
       "│ 9   │ 736961 │ 2018-09-24 │ -95.0   │ 8.32     │\n",
       "│ 10  │ 736962 │ 2018-09-25 │ -97.0   │ 8.06     │\n",
       "⋮\n",
       "│ 801 │ 737729 │ 2020-10-31 │ 10.0    │ 31.39    │\n",
       "│ 802 │ 737730 │ 2020-11-01 │ 10.0    │ 31.39    │\n",
       "│ 803 │ 737736 │ 2020-11-07 │ 54.0    │ 41.09    │\n",
       "│ 804 │ 737737 │ 2020-11-08 │ 54.0    │ 41.09    │\n",
       "│ 805 │ 737743 │ 2020-11-14 │ 101.0   │ 51.29    │\n",
       "│ 806 │ 737744 │ 2020-11-15 │ 101.0   │ 51.29    │\n",
       "│ 807 │ 737750 │ 2020-11-21 │ 87.0    │ 48.27    │\n",
       "│ 808 │ 737751 │ 2020-11-22 │ 87.0    │ 48.27    │\n",
       "│ 809 │ 737755 │ 2020-11-26 │ 95.0    │ 49.98    │\n",
       "│ 810 │ 737757 │ 2020-11-28 │ 117.0   │ 54.86    │\n",
       "│ 811 │ 737758 │ 2020-11-29 │ 117.0   │ 54.86    │"
      ]
     },
     "execution_count": 7,
     "metadata": {},
     "output_type": "execute_result"
    }
   ],
   "source": [
    "populate_missing_dates!(df)"
   ]
  },
  {
   "cell_type": "markdown",
   "metadata": {},
   "source": [
    "### Fill: Sort"
   ]
  },
  {
   "cell_type": "code",
   "execution_count": 8,
   "metadata": {
    "ExecuteTime": {
     "end_time": "2020-11-30T20:20:48.807000-05:00",
     "start_time": "2020-12-01T01:20:26.690Z"
    }
   },
   "outputs": [
    {
     "name": "stdout",
     "output_type": "stream",
     "text": [
      "\n"
     ]
    }
   ],
   "source": [
    "df = sort(df, [:Day]);\n",
    "count = size(df)[1]\n",
    "#first(df, 6)\n",
    "# columns = preview_data(df)\n",
    "println()"
   ]
  },
  {
   "cell_type": "markdown",
   "metadata": {},
   "source": [
    "### Fill: Draw Plots\n",
    "- if the indicator is updated only preiodically (bi-weekly, monthly, quarterly) the the graph will appear blocky"
   ]
  },
  {
   "cell_type": "raw",
   "metadata": {
    "ExecuteTime": {
     "end_time": "2020-11-30T20:06:19.236000-05:00",
     "start_time": "2020-12-01T01:06:19.191Z"
    }
   },
   "source": [
    "# Comment out once done reviewing\n",
    "\n",
    "using Plots\n",
    "count = size(df)[1]\n",
    "rows = 1:count\n",
    "dates = format_dates( df[rows,2] , \"m/d/yy\")\n",
    "\n",
    "gr()\n",
    "plot(          dates, # x-axis: dates\n",
    "               [  df[rows,3]    ], # y-axis\n",
    "    label    = [ columns[3]    \"\"  ],\n",
    "    legend   =:topleft, \n",
    "              # :right, :left, :top, :bottom, :inside, :best, :legend, :topright, :topleft, :bottomleft, :bottomright\n",
    "    xlabel   = \"time\",\n",
    "    ylabel   = \"indicators\",\n",
    "    size     = (980, 400), # width, height\n",
    "    layout = (1, 1) # number of graphs: vertically, horizontally\n",
    "    )"
   ]
  },
  {
   "cell_type": "markdown",
   "metadata": {},
   "source": [
    "## Averages"
   ]
  },
  {
   "cell_type": "code",
   "execution_count": 9,
   "metadata": {
    "ExecuteTime": {
     "end_time": "2020-11-30T20:20:48.907000-05:00",
     "start_time": "2020-12-01T01:20:26.710Z"
    }
   },
   "outputs": [
    {
     "name": "stdout",
     "output_type": "stream",
     "text": [
      "\n"
     ]
    }
   ],
   "source": [
    "column_to_average = 3\n",
    "averages005 = calculate_average(df, 5,   column_to_average )\n",
    "averages030 = calculate_average(df, 30,  column_to_average )\n",
    "averages090 = calculate_average(df, 90,  column_to_average )\n",
    "averages180 = calculate_average(df, 180, column_to_average )\n",
    "averages365 = calculate_average(df, 365, column_to_average )\n",
    "println()"
   ]
  },
  {
   "cell_type": "markdown",
   "metadata": {},
   "source": [
    "### Insert averages to DataFrame"
   ]
  },
  {
   "cell_type": "code",
   "execution_count": 10,
   "metadata": {
    "ExecuteTime": {
     "end_time": "2020-11-30T20:20:49.005000-05:00",
     "start_time": "2020-12-01T01:20:26.714Z"
    }
   },
   "outputs": [
    {
     "data": {
      "text/html": [
       "<table class=\"data-frame\"><thead><tr><th></th><th>Day</th><th>Date</th><th>Value</th><th>Original</th><th>Avg005</th><th>Avg030</th><th>Avg090</th><th>Avg180</th><th>Avg365</th></tr><tr><th></th><th>Int64</th><th>Date</th><th>Float64</th><th>Float64</th><th>Float64</th><th>Float64</th><th>Float64</th><th>Float64</th><th>Float64</th></tr></thead><tbody><p>811 rows × 9 columns</p><tr><th>1</th><td>736949</td><td>2018-09-12</td><td>-106.0</td><td>6.0</td><td>0.0</td><td>0.0</td><td>0.0</td><td>0.0</td><td>0.0</td></tr><tr><th>2</th><td>736950</td><td>2018-09-13</td><td>-103.0</td><td>6.62</td><td>0.0</td><td>0.0</td><td>0.0</td><td>0.0</td><td>0.0</td></tr><tr><th>3</th><td>736951</td><td>2018-09-14</td><td>-76.0</td><td>12.66</td><td>0.0</td><td>0.0</td><td>0.0</td><td>0.0</td><td>0.0</td></tr><tr><th>4</th><td>736952</td><td>2018-09-15</td><td>-76.0</td><td>12.66</td><td>0.0</td><td>0.0</td><td>0.0</td><td>0.0</td><td>0.0</td></tr><tr><th>5</th><td>736953</td><td>2018-09-16</td><td>-76.0</td><td>12.66</td><td>-87.4</td><td>0.0</td><td>0.0</td><td>0.0</td><td>0.0</td></tr><tr><th>6</th><td>736954</td><td>2018-09-17</td><td>-90.0</td><td>9.61</td><td>-84.2</td><td>0.0</td><td>0.0</td><td>0.0</td><td>0.0</td></tr><tr><th>7</th><td>736955</td><td>2018-09-18</td><td>-94.0</td><td>8.73</td><td>-82.4</td><td>0.0</td><td>0.0</td><td>0.0</td><td>0.0</td></tr><tr><th>8</th><td>736956</td><td>2018-09-19</td><td>-97.0</td><td>7.88</td><td>-86.6</td><td>0.0</td><td>0.0</td><td>0.0</td><td>0.0</td></tr><tr><th>9</th><td>736957</td><td>2018-09-20</td><td>-92.0</td><td>9.07</td><td>-89.8</td><td>0.0</td><td>0.0</td><td>0.0</td><td>0.0</td></tr><tr><th>10</th><td>736958</td><td>2018-09-21</td><td>-92.0</td><td>9.05</td><td>-93.0</td><td>0.0</td><td>0.0</td><td>0.0</td><td>0.0</td></tr><tr><th>11</th><td>736959</td><td>2018-09-22</td><td>-92.0</td><td>9.05</td><td>-93.4</td><td>0.0</td><td>0.0</td><td>0.0</td><td>0.0</td></tr><tr><th>12</th><td>736960</td><td>2018-09-23</td><td>-92.0</td><td>9.05</td><td>-93.0</td><td>0.0</td><td>0.0</td><td>0.0</td><td>0.0</td></tr><tr><th>13</th><td>736961</td><td>2018-09-24</td><td>-95.0</td><td>8.32</td><td>-92.6</td><td>0.0</td><td>0.0</td><td>0.0</td><td>0.0</td></tr><tr><th>14</th><td>736962</td><td>2018-09-25</td><td>-97.0</td><td>8.06</td><td>-93.6</td><td>0.0</td><td>0.0</td><td>0.0</td><td>0.0</td></tr><tr><th>15</th><td>736963</td><td>2018-09-26</td><td>-99.0</td><td>7.59</td><td>-95.0</td><td>0.0</td><td>0.0</td><td>0.0</td><td>0.0</td></tr><tr><th>16</th><td>736964</td><td>2018-09-27</td><td>-99.0</td><td>7.55</td><td>-96.4</td><td>0.0</td><td>0.0</td><td>0.0</td><td>0.0</td></tr><tr><th>17</th><td>736965</td><td>2018-09-28</td><td>-102.0</td><td>6.97</td><td>-98.4</td><td>0.0</td><td>0.0</td><td>0.0</td><td>0.0</td></tr><tr><th>18</th><td>736966</td><td>2018-09-29</td><td>-102.0</td><td>6.97</td><td>-99.8</td><td>0.0</td><td>0.0</td><td>0.0</td><td>0.0</td></tr><tr><th>19</th><td>736967</td><td>2018-09-30</td><td>-102.0</td><td>6.97</td><td>-100.8</td><td>0.0</td><td>0.0</td><td>0.0</td><td>0.0</td></tr><tr><th>20</th><td>736968</td><td>2018-10-01</td><td>-101.0</td><td>7.06</td><td>-101.2</td><td>0.0</td><td>0.0</td><td>0.0</td><td>0.0</td></tr><tr><th>21</th><td>736969</td><td>2018-10-02</td><td>-103.0</td><td>6.6</td><td>-102.0</td><td>0.0</td><td>0.0</td><td>0.0</td><td>0.0</td></tr><tr><th>22</th><td>736970</td><td>2018-10-03</td><td>-105.0</td><td>6.12</td><td>-102.6</td><td>0.0</td><td>0.0</td><td>0.0</td><td>0.0</td></tr><tr><th>23</th><td>736971</td><td>2018-10-04</td><td>-105.0</td><td>6.19</td><td>-103.2</td><td>0.0</td><td>0.0</td><td>0.0</td><td>0.0</td></tr><tr><th>24</th><td>736972</td><td>2018-10-05</td><td>-105.0</td><td>6.2</td><td>-103.8</td><td>0.0</td><td>0.0</td><td>0.0</td><td>0.0</td></tr><tr><th>25</th><td>736973</td><td>2018-10-06</td><td>-105.0</td><td>6.2</td><td>-104.6</td><td>0.0</td><td>0.0</td><td>0.0</td><td>0.0</td></tr><tr><th>26</th><td>736974</td><td>2018-10-07</td><td>-105.0</td><td>6.2</td><td>-105.0</td><td>0.0</td><td>0.0</td><td>0.0</td><td>0.0</td></tr><tr><th>27</th><td>736975</td><td>2018-10-08</td><td>-106.0</td><td>6.07</td><td>-105.2</td><td>0.0</td><td>0.0</td><td>0.0</td><td>0.0</td></tr><tr><th>28</th><td>736976</td><td>2018-10-09</td><td>-105.0</td><td>6.19</td><td>-105.2</td><td>0.0</td><td>0.0</td><td>0.0</td><td>0.0</td></tr><tr><th>29</th><td>736977</td><td>2018-10-10</td><td>-96.0</td><td>8.1</td><td>-103.4</td><td>0.0</td><td>0.0</td><td>0.0</td><td>0.0</td></tr><tr><th>30</th><td>736978</td><td>2018-10-11</td><td>-99.0</td><td>7.44</td><td>-102.2</td><td>-97.23</td><td>0.0</td><td>0.0</td><td>0.0</td></tr><tr><th>&vellip;</th><td>&vellip;</td><td>&vellip;</td><td>&vellip;</td><td>&vellip;</td><td>&vellip;</td><td>&vellip;</td><td>&vellip;</td><td>&vellip;</td><td>&vellip;</td></tr></tbody></table>"
      ],
      "text/latex": [
       "\\begin{tabular}{r|ccccccccc}\n",
       "\t& Day & Date & Value & Original & Avg005 & Avg030 & Avg090 & Avg180 & Avg365\\\\\n",
       "\t\\hline\n",
       "\t& Int64 & Date & Float64 & Float64 & Float64 & Float64 & Float64 & Float64 & Float64\\\\\n",
       "\t\\hline\n",
       "\t1 & 736949 & 2018-09-12 & -106.0 & 6.0 & 0.0 & 0.0 & 0.0 & 0.0 & 0.0 \\\\\n",
       "\t2 & 736950 & 2018-09-13 & -103.0 & 6.62 & 0.0 & 0.0 & 0.0 & 0.0 & 0.0 \\\\\n",
       "\t3 & 736951 & 2018-09-14 & -76.0 & 12.66 & 0.0 & 0.0 & 0.0 & 0.0 & 0.0 \\\\\n",
       "\t4 & 736952 & 2018-09-15 & -76.0 & 12.66 & 0.0 & 0.0 & 0.0 & 0.0 & 0.0 \\\\\n",
       "\t5 & 736953 & 2018-09-16 & -76.0 & 12.66 & -87.4 & 0.0 & 0.0 & 0.0 & 0.0 \\\\\n",
       "\t6 & 736954 & 2018-09-17 & -90.0 & 9.61 & -84.2 & 0.0 & 0.0 & 0.0 & 0.0 \\\\\n",
       "\t7 & 736955 & 2018-09-18 & -94.0 & 8.73 & -82.4 & 0.0 & 0.0 & 0.0 & 0.0 \\\\\n",
       "\t8 & 736956 & 2018-09-19 & -97.0 & 7.88 & -86.6 & 0.0 & 0.0 & 0.0 & 0.0 \\\\\n",
       "\t9 & 736957 & 2018-09-20 & -92.0 & 9.07 & -89.8 & 0.0 & 0.0 & 0.0 & 0.0 \\\\\n",
       "\t10 & 736958 & 2018-09-21 & -92.0 & 9.05 & -93.0 & 0.0 & 0.0 & 0.0 & 0.0 \\\\\n",
       "\t11 & 736959 & 2018-09-22 & -92.0 & 9.05 & -93.4 & 0.0 & 0.0 & 0.0 & 0.0 \\\\\n",
       "\t12 & 736960 & 2018-09-23 & -92.0 & 9.05 & -93.0 & 0.0 & 0.0 & 0.0 & 0.0 \\\\\n",
       "\t13 & 736961 & 2018-09-24 & -95.0 & 8.32 & -92.6 & 0.0 & 0.0 & 0.0 & 0.0 \\\\\n",
       "\t14 & 736962 & 2018-09-25 & -97.0 & 8.06 & -93.6 & 0.0 & 0.0 & 0.0 & 0.0 \\\\\n",
       "\t15 & 736963 & 2018-09-26 & -99.0 & 7.59 & -95.0 & 0.0 & 0.0 & 0.0 & 0.0 \\\\\n",
       "\t16 & 736964 & 2018-09-27 & -99.0 & 7.55 & -96.4 & 0.0 & 0.0 & 0.0 & 0.0 \\\\\n",
       "\t17 & 736965 & 2018-09-28 & -102.0 & 6.97 & -98.4 & 0.0 & 0.0 & 0.0 & 0.0 \\\\\n",
       "\t18 & 736966 & 2018-09-29 & -102.0 & 6.97 & -99.8 & 0.0 & 0.0 & 0.0 & 0.0 \\\\\n",
       "\t19 & 736967 & 2018-09-30 & -102.0 & 6.97 & -100.8 & 0.0 & 0.0 & 0.0 & 0.0 \\\\\n",
       "\t20 & 736968 & 2018-10-01 & -101.0 & 7.06 & -101.2 & 0.0 & 0.0 & 0.0 & 0.0 \\\\\n",
       "\t21 & 736969 & 2018-10-02 & -103.0 & 6.6 & -102.0 & 0.0 & 0.0 & 0.0 & 0.0 \\\\\n",
       "\t22 & 736970 & 2018-10-03 & -105.0 & 6.12 & -102.6 & 0.0 & 0.0 & 0.0 & 0.0 \\\\\n",
       "\t23 & 736971 & 2018-10-04 & -105.0 & 6.19 & -103.2 & 0.0 & 0.0 & 0.0 & 0.0 \\\\\n",
       "\t24 & 736972 & 2018-10-05 & -105.0 & 6.2 & -103.8 & 0.0 & 0.0 & 0.0 & 0.0 \\\\\n",
       "\t25 & 736973 & 2018-10-06 & -105.0 & 6.2 & -104.6 & 0.0 & 0.0 & 0.0 & 0.0 \\\\\n",
       "\t26 & 736974 & 2018-10-07 & -105.0 & 6.2 & -105.0 & 0.0 & 0.0 & 0.0 & 0.0 \\\\\n",
       "\t27 & 736975 & 2018-10-08 & -106.0 & 6.07 & -105.2 & 0.0 & 0.0 & 0.0 & 0.0 \\\\\n",
       "\t28 & 736976 & 2018-10-09 & -105.0 & 6.19 & -105.2 & 0.0 & 0.0 & 0.0 & 0.0 \\\\\n",
       "\t29 & 736977 & 2018-10-10 & -96.0 & 8.1 & -103.4 & 0.0 & 0.0 & 0.0 & 0.0 \\\\\n",
       "\t30 & 736978 & 2018-10-11 & -99.0 & 7.44 & -102.2 & -97.23 & 0.0 & 0.0 & 0.0 \\\\\n",
       "\t$\\dots$ & $\\dots$ & $\\dots$ & $\\dots$ & $\\dots$ & $\\dots$ & $\\dots$ & $\\dots$ & $\\dots$ & $\\dots$ \\\\\n",
       "\\end{tabular}\n"
      ],
      "text/plain": [
       "811×9 DataFrame. Omitted printing of 2 columns\n",
       "│ Row │ Day    │ Date       │ Value   │ Original │ Avg005  │ Avg030  │ Avg090  │\n",
       "│     │ \u001b[90mInt64\u001b[39m  │ \u001b[90mDate\u001b[39m       │ \u001b[90mFloat64\u001b[39m │ \u001b[90mFloat64\u001b[39m  │ \u001b[90mFloat64\u001b[39m │ \u001b[90mFloat64\u001b[39m │ \u001b[90mFloat64\u001b[39m │\n",
       "├─────┼────────┼────────────┼─────────┼──────────┼─────────┼─────────┼─────────┤\n",
       "│ 1   │ 736949 │ 2018-09-12 │ -106.0  │ 6.0      │ 0.0     │ 0.0     │ 0.0     │\n",
       "│ 2   │ 736950 │ 2018-09-13 │ -103.0  │ 6.62     │ 0.0     │ 0.0     │ 0.0     │\n",
       "│ 3   │ 736951 │ 2018-09-14 │ -76.0   │ 12.66    │ 0.0     │ 0.0     │ 0.0     │\n",
       "│ 4   │ 736952 │ 2018-09-15 │ -76.0   │ 12.66    │ 0.0     │ 0.0     │ 0.0     │\n",
       "│ 5   │ 736953 │ 2018-09-16 │ -76.0   │ 12.66    │ -87.4   │ 0.0     │ 0.0     │\n",
       "│ 6   │ 736954 │ 2018-09-17 │ -90.0   │ 9.61     │ -84.2   │ 0.0     │ 0.0     │\n",
       "│ 7   │ 736955 │ 2018-09-18 │ -94.0   │ 8.73     │ -82.4   │ 0.0     │ 0.0     │\n",
       "│ 8   │ 736956 │ 2018-09-19 │ -97.0   │ 7.88     │ -86.6   │ 0.0     │ 0.0     │\n",
       "│ 9   │ 736957 │ 2018-09-20 │ -92.0   │ 9.07     │ -89.8   │ 0.0     │ 0.0     │\n",
       "│ 10  │ 736958 │ 2018-09-21 │ -92.0   │ 9.05     │ -93.0   │ 0.0     │ 0.0     │\n",
       "⋮\n",
       "│ 801 │ 737749 │ 2020-11-20 │ 87.0    │ 48.27    │ 75.0    │ 39.17   │ -13.93  │\n",
       "│ 802 │ 737750 │ 2020-11-21 │ 87.0    │ 48.27    │ 81.6    │ 42.23   │ -12.18  │\n",
       "│ 803 │ 737751 │ 2020-11-22 │ 87.0    │ 48.27    │ 82.2    │ 45.4    │ -10.47  │\n",
       "│ 804 │ 737752 │ 2020-11-23 │ 99.0    │ 50.86    │ 86.8    │ 48.97   │ -8.64   │\n",
       "│ 805 │ 737753 │ 2020-11-24 │ 127.0   │ 56.99    │ 97.4    │ 53.47   │ -6.71   │\n",
       "│ 806 │ 737754 │ 2020-11-25 │ 95.0    │ 49.98    │ 99.0    │ 57.03   │ -5.19   │\n",
       "│ 807 │ 737755 │ 2020-11-26 │ 95.0    │ 49.98    │ 100.6   │ 60.67   │ -3.61   │\n",
       "│ 808 │ 737756 │ 2020-11-27 │ 117.0   │ 54.86    │ 106.6   │ 64.77   │ -1.79   │\n",
       "│ 809 │ 737757 │ 2020-11-28 │ 117.0   │ 54.86    │ 110.2   │ 68.77   │ 0.03    │\n",
       "│ 810 │ 737758 │ 2020-11-29 │ 117.0   │ 54.86    │ 108.2   │ 72.33   │ 1.94    │\n",
       "│ 811 │ 737759 │ 2020-11-30 │ 114.0   │ 54.21    │ 112.0   │ 75.8    │ 3.71    │"
      ]
     },
     "execution_count": 10,
     "metadata": {},
     "output_type": "execute_result"
    }
   ],
   "source": [
    "insertcols!(df, 5,  :Avg005   => averages005  , makeunique=true)\n",
    "insertcols!(df, 6,  :Avg030   => averages030  , makeunique=true)\n",
    "insertcols!(df, 7,  :Avg090   => averages090  , makeunique=true)\n",
    "insertcols!(df, 8,  :Avg180   => averages180  , makeunique=true)\n",
    "insertcols!(df, 9,  :Avg365   => averages365  , makeunique=true)\n",
    "\n",
    "#using Statistics\n",
    "#describe(df)"
   ]
  },
  {
   "cell_type": "raw",
   "metadata": {
    "ExecuteTime": {
     "end_time": "2020-11-30T20:18:07.446000-05:00",
     "start_time": "2020-12-01T01:17:10.788Z"
    }
   },
   "source": [
    "using Plots\n",
    "count = size(df)[1]\n",
    "days_back = 90\n",
    "rows = count-days_back:count\n",
    "dates = format_dates( df[rows,2] , \"m/d/yy\")\n",
    "\n",
    "gr()\n",
    "plot(   dates, # x-axis: dates\n",
    "        [  df[rows,3] position_column[rows] averages005[rows] averages030[rows] averages090[rows] averages180[rows] \n",
    "        ], # y-axis\n",
    "    label    = \n",
    "        [ columns[3] \"position\" \"5-day avg\" \"30-day avg\" \"90-day avg\" \"180-day avg\"  \"\"  ],\n",
    "    legend   =:topleft, \n",
    "              # :right, :left, :top, :bottom, :inside, :best, :legend, :topright, :topleft, :bottomleft, :bottomright\n",
    "    xlabel   = \"time\",\n",
    "    ylabel   = \"indicators\",\n",
    "    size     = (980, 400), # width, height\n",
    "    layout = (1, 1) # number of graphs: vertically, horizontally\n",
    "    )"
   ]
  },
  {
   "cell_type": "markdown",
   "metadata": {},
   "source": [
    "[back to top](#Table-of-Contents)\n",
    "<hr/>\n",
    "\n",
    "## Save DataFrame to CSV file"
   ]
  },
  {
   "cell_type": "markdown",
   "metadata": {},
   "source": [
    "### Save: Describe before saving"
   ]
  },
  {
   "cell_type": "code",
   "execution_count": 11,
   "metadata": {
    "ExecuteTime": {
     "end_time": "2020-11-30T20:20:49.006000-05:00",
     "start_time": "2020-12-01T01:20:26.737Z"
    }
   },
   "outputs": [],
   "source": [
    "#using Statistics\n",
    "#describe(df)"
   ]
  },
  {
   "cell_type": "markdown",
   "metadata": {},
   "source": [
    "### Write as CSV file"
   ]
  },
  {
   "cell_type": "code",
   "execution_count": 12,
   "metadata": {
    "ExecuteTime": {
     "end_time": "2020-11-30T20:20:49.755000-05:00",
     "start_time": "2020-12-01T01:20:26.742Z"
    }
   },
   "outputs": [],
   "source": [
    "save_dataset(df, dataset_file_name, \"../Data/processed/\" );"
   ]
  },
  {
   "cell_type": "code",
   "execution_count": null,
   "metadata": {},
   "outputs": [],
   "source": []
  }
 ],
 "metadata": {
  "kernelspec": {
   "display_name": "Julia 1.5.1",
   "language": "julia",
   "name": "julia-1.5"
  },
  "language_info": {
   "file_extension": ".jl",
   "mimetype": "application/julia",
   "name": "julia",
   "version": "1.5.1"
  },
  "toc": {
   "base_numbering": 1,
   "nav_menu": {},
   "number_sections": true,
   "sideBar": true,
   "skip_h1_title": false,
   "title_cell": "Table of Contents",
   "title_sidebar": "Contents",
   "toc_cell": true,
   "toc_position": {},
   "toc_section_display": true,
   "toc_window_display": true
  },
  "varInspector": {
   "cols": {
    "lenName": 16,
    "lenType": 16,
    "lenVar": 40
   },
   "kernels_config": {
    "python": {
     "delete_cmd_postfix": "",
     "delete_cmd_prefix": "del ",
     "library": "var_list.py",
     "varRefreshCmd": "print(var_dic_list())"
    },
    "r": {
     "delete_cmd_postfix": ") ",
     "delete_cmd_prefix": "rm(",
     "library": "var_list.r",
     "varRefreshCmd": "cat(var_dic_list()) "
    }
   },
   "types_to_exclude": [
    "module",
    "function",
    "builtin_function_or_method",
    "instance",
    "_Feature"
   ],
   "window_display": false
  }
 },
 "nbformat": 4,
 "nbformat_minor": 2
}
