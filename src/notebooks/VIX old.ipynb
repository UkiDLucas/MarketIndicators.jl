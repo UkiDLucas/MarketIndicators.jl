{
 "cells": [
  {
   "cell_type": "markdown",
   "metadata": {
    "ExecuteTime": {
     "end_time": "2020-11-30T20:23:38.516000-05:00",
     "start_time": "2020-12-01T01:23:38.513Z"
    }
   },
   "source": [
    "# VIX"
   ]
  },
  {
   "cell_type": "markdown",
   "metadata": {},
   "source": [
    "## Set Up"
   ]
  },
  {
   "cell_type": "code",
   "execution_count": 1,
   "metadata": {
    "ExecuteTime": {
     "end_time": "2020-11-30T20:31:36.151000-05:00",
     "start_time": "2020-12-01T01:31:31.330Z"
    }
   },
   "outputs": [
    {
     "name": "stdout",
     "output_type": "stream",
     "text": [
      "\n",
      "Run this file from the directory where this file is located.\n"
     ]
    },
    {
     "data": {
      "text/plain": [
       "\"/Users/uki/REPOS/MarketIndicators.jl/src/notebooks_indicators\""
      ]
     },
     "execution_count": 1,
     "metadata": {},
     "output_type": "execute_result"
    }
   ],
   "source": [
    "dataset_file_name = \"^VIX.csv\"\n",
    "path_data_original = \"../Data/original/\"\n",
    "date_original_format = \"yyyy-mm-dd\"\n",
    "original_value_column = 4 # High\n",
    "last_position_change = \"2020-09-30\"\n",
    "\n",
    "#include(\"../Julia/MarketIndicators.jl\") \n",
    "include(\"../Julia/functions.jl\")\n",
    "\n",
    "println(\"Run this file from the directory where this file is located.\")\n",
    "pwd()"
   ]
  },
  {
   "cell_type": "markdown",
   "metadata": {},
   "source": [
    "## Read Data"
   ]
  },
  {
   "cell_type": "code",
   "execution_count": 2,
   "metadata": {
    "ExecuteTime": {
     "end_time": "2020-11-30T20:31:49.775000-05:00",
     "start_time": "2020-12-01T01:31:31.333Z"
    }
   },
   "outputs": [
    {
     "name": "stdout",
     "output_type": "stream",
     "text": [
      "../Data/original/^VIX.csv\n",
      "data dimentions: (7790, 7)\n"
     ]
    }
   ],
   "source": [
    "#data = available_datasets() # uncomment to see all available datasets\n",
    "\n",
    "df = fetch_dataset(dataset_file_name, date_original_format , path_data_original )\n",
    "record_count = size(df)[1]\n",
    "println(\"data dimentions: \", size(df) )\n",
    "\n",
    "#using Statistics\n",
    "#describe(df)"
   ]
  },
  {
   "cell_type": "markdown",
   "metadata": {},
   "source": [
    "### Sample the data"
   ]
  },
  {
   "cell_type": "code",
   "execution_count": 3,
   "metadata": {
    "ExecuteTime": {
     "end_time": "2020-11-30T20:31:51.068000-05:00",
     "start_time": "2020-12-01T01:31:31.336Z"
    },
    "scrolled": true
   },
   "outputs": [
    {
     "name": "stdout",
     "output_type": "stream",
     "text": [
      "7×7 DataFrame\n",
      "│ Row │ Date       │ Open    │ High    │ Low     │ Close   │ Adj Close │\n",
      "│     │ \u001b[90mDate\u001b[39m       │ \u001b[90mFloat64\u001b[39m │ \u001b[90mFloat64\u001b[39m │ \u001b[90mFloat64\u001b[39m │ \u001b[90mFloat64\u001b[39m │ \u001b[90mFloat64\u001b[39m   │\n",
      "├─────┼────────────┼─────────┼─────────┼─────────┼─────────┼───────────┤\n",
      "│ 1   │ 1990-01-02 │ 17.24   │ 17.24   │ 17.24   │ 17.24   │ 17.24     │\n",
      "│ 2   │ 1995-02-17 │ 11.44   │ 12.06   │ 11.29   │ 11.71   │ 11.71     │\n",
      "│ 3   │ 2000-04-10 │ 25.44   │ 26.04   │ 24.97   │ 25.99   │ 25.99     │\n",
      "│ 4   │ 2005-06-10 │ 12.16   │ 12.4    │ 11.9    │ 11.96   │ 11.96     │\n",
      "│ 5   │ 2010-08-06 │ 23.34   │ 23.89   │ 21.72   │ 21.74   │ 21.74     │\n",
      "│ 6   │ 2015-10-02 │ 23.99   │ 24.47   │ 20.35   │ 20.94   │ 20.94     │\n",
      "│ 7   │ 2020-11-27 │ 21.52   │ 21.6    │ 19.51   │ 20.84   │ 20.84     │\n",
      "\n",
      "│ Row │ Volume │\n",
      "│     │ \u001b[90mInt64\u001b[39m  │\n",
      "├─────┼────────┤\n",
      "│ 1   │ 0      │\n",
      "│ 2   │ 0      │\n",
      "│ 3   │ 0      │\n",
      "│ 4   │ 0      │\n",
      "│ 5   │ 0      │\n",
      "│ 6   │ 0      │\n",
      "│ 7   │ 0      │\n",
      " Dataset dimentions: (7790, 7)\n",
      "\n",
      " variable columns:\n",
      "1 Date\n",
      "2 Open\n",
      "3 High\n",
      "4 Low\n",
      "5 Close\n",
      "6 Adj Close\n",
      "7 Volume\n",
      "\n"
     ]
    }
   ],
   "source": [
    "columns = preview_data(df) # uncomment to see the data\n",
    "println()"
   ]
  },
  {
   "cell_type": "markdown",
   "metadata": {},
   "source": [
    "## Rata Die"
   ]
  },
  {
   "cell_type": "code",
   "execution_count": 4,
   "metadata": {
    "ExecuteTime": {
     "end_time": "2020-11-30T20:31:51.226000-05:00",
     "start_time": "2020-12-01T01:31:31.338Z"
    }
   },
   "outputs": [
    {
     "name": "stdout",
     "output_type": "stream",
     "text": [
      "3×8 DataFrame\n",
      "│ Row │ Rata_Die │ Date       │ Open    │ High    │ Low     │ Close   │\n",
      "│     │ \u001b[90mInt64\u001b[39m    │ \u001b[90mDate\u001b[39m       │ \u001b[90mFloat64\u001b[39m │ \u001b[90mFloat64\u001b[39m │ \u001b[90mFloat64\u001b[39m │ \u001b[90mFloat64\u001b[39m │\n",
      "├─────┼──────────┼────────────┼─────────┼─────────┼─────────┼─────────┤\n",
      "│ 1   │ 726469   │ 1990-01-02 │ 17.24   │ 17.24   │ 17.24   │ 17.24   │\n",
      "│ 2   │ 730221   │ 2000-04-11 │ 27.67   │ 28.08   │ 26.64   │ 27.25   │\n",
      "│ 3   │ 733994   │ 2010-08-10 │ 23.3    │ 24.24   │ 22.17   │ 22.37   │\n",
      "\n",
      "│ Row │ Adj Close │ Volume │\n",
      "│     │ \u001b[90mFloat64\u001b[39m   │ \u001b[90mInt64\u001b[39m  │\n",
      "├─────┼───────────┼────────┤\n",
      "│ 1   │ 17.24     │ 0      │\n",
      "│ 2   │ 27.25     │ 0      │\n",
      "│ 3   │ 22.37     │ 0      │\n",
      " Dataset dimentions: (7790, 8)\n",
      "\n",
      " variable columns:\n",
      "1 Rata_Die\n",
      "2 Date\n",
      "3 Open\n",
      "4 High\n",
      "5 Low\n",
      "6 Close\n",
      "7 Adj Close\n",
      "8 Volume\n",
      "\n"
     ]
    }
   ],
   "source": [
    "col_ind = 1\n",
    "insertcols!(df, col_ind, :Rata_Die => zeros(Int64, record_count); makeunique = true )\n",
    "\n",
    "update_rata_die!(df, 1, 2)\n",
    "#first(df, 6)\n",
    "\n",
    "columns = preview_data(df, 3)\n",
    "println()"
   ]
  },
  {
   "cell_type": "markdown",
   "metadata": {},
   "source": [
    "### Draw Plots"
   ]
  },
  {
   "cell_type": "raw",
   "metadata": {
    "ExecuteTime": {
     "end_time": "2020-11-30T20:28:00.613000-05:00",
     "start_time": "2020-12-01T01:28:00.199Z"
    }
   },
   "source": [
    "# Comment out once done reviewing\n",
    "\n",
    "using Plots\n",
    "\n",
    "record_count = size(df)[1]\n",
    "rows = 1:record_count\n",
    "dates = format_dates( df[rows,2] , \"m/d/yy\")\n",
    "\n",
    "gr()\n",
    "plot(          dates, # x-axis: dates\n",
    "               [  df[rows, original_value_column]    ], # y-axis\n",
    "    label    = [  columns[ original_value_column]   \"\" ]  ,\n",
    "    legend   =:topleft, \n",
    "              # :right, :left, :top, :bottom, :inside, :best, :legend, :topright, :topleft, :bottomleft, :bottomright\n",
    "    xlabel   = \"time\",\n",
    "    ylabel   = \"indicators\",\n",
    "    size     = (980, 400), # width, height\n",
    "    layout = (1, 1) # number of graphs: vertically, horizontally\n",
    "    )"
   ]
  },
  {
   "cell_type": "markdown",
   "metadata": {},
   "source": [
    "### set the original value column\n",
    "- go back to the top \"Setup\" section and choose which column should be the \"Orignal value\"\n",
    "- re-run the notebook"
   ]
  },
  {
   "cell_type": "markdown",
   "metadata": {},
   "source": [
    "## Extract right columns"
   ]
  },
  {
   "cell_type": "code",
   "execution_count": 5,
   "metadata": {
    "ExecuteTime": {
     "end_time": "2020-11-30T20:31:51.353000-05:00",
     "start_time": "2020-12-01T01:31:31.358Z"
    },
    "scrolled": true
   },
   "outputs": [
    {
     "name": "stdout",
     "output_type": "stream",
     "text": [
      "7×4 DataFrame\n",
      "│ Row │ Day    │ Date       │ Value   │ Original │\n",
      "│     │ \u001b[90mInt64\u001b[39m  │ \u001b[90mDate\u001b[39m       │ \u001b[90mFloat64\u001b[39m │ \u001b[90mFloat64\u001b[39m  │\n",
      "├─────┼────────┼────────────┼─────────┼──────────┤\n",
      "│ 1   │ 726469 │ 1990-01-02 │ 17.24   │ 17.24    │\n",
      "│ 2   │ 728341 │ 1995-02-17 │ 12.06   │ 12.06    │\n",
      "│ 3   │ 730220 │ 2000-04-10 │ 26.04   │ 26.04    │\n",
      "│ 4   │ 732107 │ 2005-06-10 │ 12.4    │ 12.4     │\n",
      "│ 5   │ 733990 │ 2010-08-06 │ 23.89   │ 23.89    │\n",
      "│ 6   │ 735873 │ 2015-10-02 │ 24.47   │ 24.47    │\n",
      "│ 7   │ 737756 │ 2020-11-27 │ 21.6    │ 21.6     │\n",
      " Dataset dimentions: (7790, 4)\n",
      "\n",
      " variable columns:\n",
      "1 Day\n",
      "2 Date\n",
      "3 Value\n",
      "4 Original\n",
      "\n"
     ]
    }
   ],
   "source": [
    "# Extract only the columns to be kept\n",
    "\n",
    "using DataFrames\n",
    "df = DataFrame( Day      = df[:,1],                     # 1 \n",
    "                Date     = df[:,2],                     # 2 \n",
    "                Value    = df[:,original_value_column], # 3 \n",
    "                Original = df[:,original_value_column]  # 4 \n",
    "               )\n",
    "\n",
    "columns = preview_data(df)\n",
    "println()"
   ]
  },
  {
   "cell_type": "markdown",
   "metadata": {},
   "source": [
    "## Quantize the values\n",
    "\n",
    "- Quantization is a process of noramalizing the data\n",
    "- I have decided to normalize the data for Int8 as I might try use Google Coral NPU\n",
    "- minimum = -128.0\n",
    "- maximum = 127.0"
   ]
  },
  {
   "cell_type": "code",
   "execution_count": 6,
   "metadata": {
    "ExecuteTime": {
     "end_time": "2020-11-30T20:31:51.538000-05:00",
     "start_time": "2020-12-01T01:31:31.361Z"
    },
    "scrolled": true
   },
   "outputs": [
    {
     "name": "stdout",
     "output_type": "stream",
     "text": [
      "bias for 0 value: -0.11605584786905819\n",
      "Normalization was performend using formula y=(((x-min)/(max-min))*255)-128 \n",
      "minimum = 9.31\n",
      "maximum = 89.529999\n",
      "Save these values for later to run model preditions\n",
      "7×4 DataFrame\n",
      "│ Row │ Day    │ Date       │ Value   │ Original │\n",
      "│     │ \u001b[90mInt64\u001b[39m  │ \u001b[90mDate\u001b[39m       │ \u001b[90mFloat64\u001b[39m │ \u001b[90mFloat64\u001b[39m  │\n",
      "├─────┼────────┼────────────┼─────────┼──────────┤\n",
      "│ 1   │ 726469 │ 1990-01-02 │ -103.0  │ 17.24    │\n",
      "│ 2   │ 728341 │ 1995-02-17 │ -119.0  │ 12.06    │\n",
      "│ 3   │ 730220 │ 2000-04-10 │ -75.0   │ 26.04    │\n",
      "│ 4   │ 732107 │ 2005-06-10 │ -118.0  │ 12.4     │\n",
      "│ 5   │ 733990 │ 2010-08-06 │ -82.0   │ 23.89    │\n",
      "│ 6   │ 735873 │ 2015-10-02 │ -80.0   │ 24.47    │\n",
      "│ 7   │ 737756 │ 2020-11-27 │ -89.0   │ 21.6     │\n",
      " Dataset dimentions: (7790, 4)\n",
      "\n",
      " variable columns:\n",
      "1 Day\n",
      "2 Date\n",
      "3 Value\n",
      "4 Original\n",
      "\n"
     ]
    }
   ],
   "source": [
    "# Quantize the values\n",
    "\n",
    "data_original = df[:, 4] # keep original for display comparison later\n",
    "\n",
    "quantize_column!(df, 3)\n",
    "\n",
    "columns = preview_data(df)\n",
    "println()"
   ]
  },
  {
   "cell_type": "raw",
   "metadata": {
    "ExecuteTime": {
     "end_time": "2020-11-30T20:17:58.923000-05:00",
     "start_time": "2020-12-01T01:17:10.749Z"
    }
   },
   "source": [
    "# Comment out once done reviewing\n",
    "\n",
    "using Plots\n",
    "\n",
    "count = size(df)[1]\n",
    "rows = 1:count\n",
    "dates = format_dates( df[rows,2] , \"m/d/yy\")\n",
    "\n",
    "gr()\n",
    "plot(          dates, # x-axis: dates\n",
    "               [  df[rows,3]    ], # y-axis\n",
    "    label    = [  columns[3] \"\"   ]  ,\n",
    "    legend   =:topleft, \n",
    "              # :right, :left, :top, :bottom, :inside, :best, :legend, :topright, :topleft, :bottomleft, :bottomright\n",
    "    xlabel   = \"time\",\n",
    "    ylabel   = \"indicators\",\n",
    "    size     = (980, 400), # width, height\n",
    "    layout = (1, 1) # number of graphs: vertically, horizontally\n",
    "    )"
   ]
  },
  {
   "cell_type": "markdown",
   "metadata": {},
   "source": [
    "## Fill in Empty Dates"
   ]
  },
  {
   "cell_type": "code",
   "execution_count": 7,
   "metadata": {
    "ExecuteTime": {
     "end_time": "2020-11-30T20:31:53.999000-05:00",
     "start_time": "2020-12-01T01:31:31.380Z"
    },
    "scrolled": true
   },
   "outputs": [
    {
     "data": {
      "text/html": [
       "<table class=\"data-frame\"><thead><tr><th></th><th>Day</th><th>Date</th><th>Value</th><th>Original</th></tr><tr><th></th><th>Int64</th><th>Date</th><th>Float64</th><th>Float64</th></tr></thead><tbody><p>11,291 rows × 4 columns</p><tr><th>1</th><td>726469</td><td>1990-01-02</td><td>-103.0</td><td>17.24</td></tr><tr><th>2</th><td>726470</td><td>1990-01-03</td><td>-100.0</td><td>18.19</td></tr><tr><th>3</th><td>726471</td><td>1990-01-04</td><td>-96.0</td><td>19.22</td></tr><tr><th>4</th><td>726472</td><td>1990-01-05</td><td>-94.0</td><td>20.11</td></tr><tr><th>5</th><td>726475</td><td>1990-01-08</td><td>-93.0</td><td>20.26</td></tr><tr><th>6</th><td>726476</td><td>1990-01-09</td><td>-87.0</td><td>22.2</td></tr><tr><th>7</th><td>726477</td><td>1990-01-10</td><td>-86.0</td><td>22.44</td></tr><tr><th>8</th><td>726478</td><td>1990-01-11</td><td>-94.0</td><td>20.05</td></tr><tr><th>9</th><td>726479</td><td>1990-01-12</td><td>-79.0</td><td>24.64</td></tr><tr><th>10</th><td>726482</td><td>1990-01-15</td><td>-74.0</td><td>26.34</td></tr><tr><th>11</th><td>726483</td><td>1990-01-16</td><td>-81.0</td><td>24.18</td></tr><tr><th>12</th><td>726484</td><td>1990-01-17</td><td>-81.0</td><td>24.16</td></tr><tr><th>13</th><td>726485</td><td>1990-01-18</td><td>-80.0</td><td>24.34</td></tr><tr><th>14</th><td>726486</td><td>1990-01-19</td><td>-86.0</td><td>22.5</td></tr><tr><th>15</th><td>726489</td><td>1990-01-22</td><td>-73.0</td><td>26.7</td></tr><tr><th>16</th><td>726490</td><td>1990-01-23</td><td>-79.0</td><td>24.72</td></tr><tr><th>17</th><td>726491</td><td>1990-01-24</td><td>-77.0</td><td>25.39</td></tr><tr><th>18</th><td>726492</td><td>1990-01-25</td><td>-76.0</td><td>25.63</td></tr><tr><th>19</th><td>726493</td><td>1990-01-26</td><td>-74.0</td><td>26.28</td></tr><tr><th>20</th><td>726496</td><td>1990-01-29</td><td>-74.0</td><td>26.44</td></tr><tr><th>21</th><td>726497</td><td>1990-01-30</td><td>-71.0</td><td>27.25</td></tr><tr><th>22</th><td>726498</td><td>1990-01-31</td><td>-77.0</td><td>25.36</td></tr><tr><th>23</th><td>726499</td><td>1990-02-01</td><td>-79.0</td><td>24.87</td></tr><tr><th>24</th><td>726500</td><td>1990-02-02</td><td>-80.0</td><td>24.32</td></tr><tr><th>25</th><td>726503</td><td>1990-02-05</td><td>-80.0</td><td>24.54</td></tr><tr><th>26</th><td>726504</td><td>1990-02-06</td><td>-79.0</td><td>24.69</td></tr><tr><th>27</th><td>726505</td><td>1990-02-07</td><td>-80.0</td><td>24.29</td></tr><tr><th>28</th><td>726506</td><td>1990-02-08</td><td>-82.0</td><td>23.77</td></tr><tr><th>29</th><td>726507</td><td>1990-02-09</td><td>-82.0</td><td>23.69</td></tr><tr><th>30</th><td>726510</td><td>1990-02-12</td><td>-80.0</td><td>24.38</td></tr><tr><th>&vellip;</th><td>&vellip;</td><td>&vellip;</td><td>&vellip;</td><td>&vellip;</td></tr></tbody></table>"
      ],
      "text/latex": [
       "\\begin{tabular}{r|cccc}\n",
       "\t& Day & Date & Value & Original\\\\\n",
       "\t\\hline\n",
       "\t& Int64 & Date & Float64 & Float64\\\\\n",
       "\t\\hline\n",
       "\t1 & 726469 & 1990-01-02 & -103.0 & 17.24 \\\\\n",
       "\t2 & 726470 & 1990-01-03 & -100.0 & 18.19 \\\\\n",
       "\t3 & 726471 & 1990-01-04 & -96.0 & 19.22 \\\\\n",
       "\t4 & 726472 & 1990-01-05 & -94.0 & 20.11 \\\\\n",
       "\t5 & 726475 & 1990-01-08 & -93.0 & 20.26 \\\\\n",
       "\t6 & 726476 & 1990-01-09 & -87.0 & 22.2 \\\\\n",
       "\t7 & 726477 & 1990-01-10 & -86.0 & 22.44 \\\\\n",
       "\t8 & 726478 & 1990-01-11 & -94.0 & 20.05 \\\\\n",
       "\t9 & 726479 & 1990-01-12 & -79.0 & 24.64 \\\\\n",
       "\t10 & 726482 & 1990-01-15 & -74.0 & 26.34 \\\\\n",
       "\t11 & 726483 & 1990-01-16 & -81.0 & 24.18 \\\\\n",
       "\t12 & 726484 & 1990-01-17 & -81.0 & 24.16 \\\\\n",
       "\t13 & 726485 & 1990-01-18 & -80.0 & 24.34 \\\\\n",
       "\t14 & 726486 & 1990-01-19 & -86.0 & 22.5 \\\\\n",
       "\t15 & 726489 & 1990-01-22 & -73.0 & 26.7 \\\\\n",
       "\t16 & 726490 & 1990-01-23 & -79.0 & 24.72 \\\\\n",
       "\t17 & 726491 & 1990-01-24 & -77.0 & 25.39 \\\\\n",
       "\t18 & 726492 & 1990-01-25 & -76.0 & 25.63 \\\\\n",
       "\t19 & 726493 & 1990-01-26 & -74.0 & 26.28 \\\\\n",
       "\t20 & 726496 & 1990-01-29 & -74.0 & 26.44 \\\\\n",
       "\t21 & 726497 & 1990-01-30 & -71.0 & 27.25 \\\\\n",
       "\t22 & 726498 & 1990-01-31 & -77.0 & 25.36 \\\\\n",
       "\t23 & 726499 & 1990-02-01 & -79.0 & 24.87 \\\\\n",
       "\t24 & 726500 & 1990-02-02 & -80.0 & 24.32 \\\\\n",
       "\t25 & 726503 & 1990-02-05 & -80.0 & 24.54 \\\\\n",
       "\t26 & 726504 & 1990-02-06 & -79.0 & 24.69 \\\\\n",
       "\t27 & 726505 & 1990-02-07 & -80.0 & 24.29 \\\\\n",
       "\t28 & 726506 & 1990-02-08 & -82.0 & 23.77 \\\\\n",
       "\t29 & 726507 & 1990-02-09 & -82.0 & 23.69 \\\\\n",
       "\t30 & 726510 & 1990-02-12 & -80.0 & 24.38 \\\\\n",
       "\t$\\dots$ & $\\dots$ & $\\dots$ & $\\dots$ & $\\dots$ \\\\\n",
       "\\end{tabular}\n"
      ],
      "text/plain": [
       "11291×4 DataFrame\n",
       "│ Row   │ Day    │ Date       │ Value   │ Original │\n",
       "│       │ \u001b[90mInt64\u001b[39m  │ \u001b[90mDate\u001b[39m       │ \u001b[90mFloat64\u001b[39m │ \u001b[90mFloat64\u001b[39m  │\n",
       "├───────┼────────┼────────────┼─────────┼──────────┤\n",
       "│ 1     │ 726469 │ 1990-01-02 │ -103.0  │ 17.24    │\n",
       "│ 2     │ 726470 │ 1990-01-03 │ -100.0  │ 18.19    │\n",
       "│ 3     │ 726471 │ 1990-01-04 │ -96.0   │ 19.22    │\n",
       "│ 4     │ 726472 │ 1990-01-05 │ -94.0   │ 20.11    │\n",
       "│ 5     │ 726475 │ 1990-01-08 │ -93.0   │ 20.26    │\n",
       "│ 6     │ 726476 │ 1990-01-09 │ -87.0   │ 22.2     │\n",
       "│ 7     │ 726477 │ 1990-01-10 │ -86.0   │ 22.44    │\n",
       "│ 8     │ 726478 │ 1990-01-11 │ -94.0   │ 20.05    │\n",
       "│ 9     │ 726479 │ 1990-01-12 │ -79.0   │ 24.64    │\n",
       "│ 10    │ 726482 │ 1990-01-15 │ -74.0   │ 26.34    │\n",
       "⋮\n",
       "│ 11281 │ 737729 │ 2020-10-31 │ -27.0   │ 41.09    │\n",
       "│ 11282 │ 737730 │ 2020-11-01 │ -27.0   │ 41.09    │\n",
       "│ 11283 │ 737736 │ 2020-11-07 │ -64.0   │ 29.44    │\n",
       "│ 11284 │ 737737 │ 2020-11-08 │ -64.0   │ 29.44    │\n",
       "│ 11285 │ 737743 │ 2020-11-14 │ -78.0   │ 25.03    │\n",
       "│ 11286 │ 737744 │ 2020-11-15 │ -78.0   │ 25.03    │\n",
       "│ 11287 │ 737750 │ 2020-11-21 │ -82.0   │ 23.73    │\n",
       "│ 11288 │ 737751 │ 2020-11-22 │ -82.0   │ 23.73    │\n",
       "│ 11289 │ 737755 │ 2020-11-26 │ -86.0   │ 22.5     │\n",
       "│ 11290 │ 737757 │ 2020-11-28 │ -89.0   │ 21.6     │\n",
       "│ 11291 │ 737758 │ 2020-11-29 │ -89.0   │ 21.6     │"
      ]
     },
     "execution_count": 7,
     "metadata": {},
     "output_type": "execute_result"
    }
   ],
   "source": [
    "populate_missing_dates!(df)"
   ]
  },
  {
   "cell_type": "markdown",
   "metadata": {},
   "source": [
    "### Fill: Sort"
   ]
  },
  {
   "cell_type": "code",
   "execution_count": 8,
   "metadata": {
    "ExecuteTime": {
     "end_time": "2020-11-30T20:31:54.400000-05:00",
     "start_time": "2020-12-01T01:31:31.383Z"
    }
   },
   "outputs": [
    {
     "name": "stdout",
     "output_type": "stream",
     "text": [
      "\n"
     ]
    }
   ],
   "source": [
    "df = sort(df, [:Day]);\n",
    "count = size(df)[1]\n",
    "#first(df, 6)\n",
    "# columns = preview_data(df)\n",
    "println()"
   ]
  },
  {
   "cell_type": "markdown",
   "metadata": {},
   "source": [
    "### Fill: Draw Plots\n",
    "- if the indicator is updated only preiodically (bi-weekly, monthly, quarterly) the the graph will appear blocky"
   ]
  },
  {
   "cell_type": "raw",
   "metadata": {
    "ExecuteTime": {
     "end_time": "2020-11-30T20:06:19.236000-05:00",
     "start_time": "2020-12-01T01:06:19.191Z"
    }
   },
   "source": [
    "# Comment out once done reviewing\n",
    "\n",
    "using Plots\n",
    "count = size(df)[1]\n",
    "rows = 1:count\n",
    "dates = format_dates( df[rows,2] , \"m/d/yy\")\n",
    "\n",
    "gr()\n",
    "plot(          dates, # x-axis: dates\n",
    "               [  df[rows,3]    ], # y-axis\n",
    "    label    = [ columns[3]    \"\"  ],\n",
    "    legend   =:topleft, \n",
    "              # :right, :left, :top, :bottom, :inside, :best, :legend, :topright, :topleft, :bottomleft, :bottomright\n",
    "    xlabel   = \"time\",\n",
    "    ylabel   = \"indicators\",\n",
    "    size     = (980, 400), # width, height\n",
    "    layout = (1, 1) # number of graphs: vertically, horizontally\n",
    "    )"
   ]
  },
  {
   "cell_type": "markdown",
   "metadata": {},
   "source": [
    "## Averages"
   ]
  },
  {
   "cell_type": "code",
   "execution_count": 9,
   "metadata": {
    "ExecuteTime": {
     "end_time": "2020-11-30T20:31:54.561000-05:00",
     "start_time": "2020-12-01T01:31:31.400Z"
    }
   },
   "outputs": [
    {
     "name": "stdout",
     "output_type": "stream",
     "text": [
      "\n"
     ]
    }
   ],
   "source": [
    "column_to_average = 3\n",
    "averages005 = calculate_average(df, 5,   column_to_average )\n",
    "averages030 = calculate_average(df, 30,  column_to_average )\n",
    "averages090 = calculate_average(df, 90,  column_to_average )\n",
    "averages180 = calculate_average(df, 180, column_to_average )\n",
    "averages365 = calculate_average(df, 365, column_to_average )\n",
    "println()"
   ]
  },
  {
   "cell_type": "markdown",
   "metadata": {},
   "source": [
    "### Insert averages to DataFrame"
   ]
  },
  {
   "cell_type": "code",
   "execution_count": 10,
   "metadata": {
    "ExecuteTime": {
     "end_time": "2020-11-30T20:31:54.669000-05:00",
     "start_time": "2020-12-01T01:31:31.404Z"
    }
   },
   "outputs": [
    {
     "data": {
      "text/html": [
       "<table class=\"data-frame\"><thead><tr><th></th><th>Day</th><th>Date</th><th>Value</th><th>Original</th><th>Avg005</th><th>Avg030</th><th>Avg090</th><th>Avg180</th><th>Avg365</th></tr><tr><th></th><th>Int64</th><th>Date</th><th>Float64</th><th>Float64</th><th>Float64</th><th>Float64</th><th>Float64</th><th>Float64</th><th>Float64</th></tr></thead><tbody><p>11,291 rows × 9 columns</p><tr><th>1</th><td>726469</td><td>1990-01-02</td><td>-103.0</td><td>17.24</td><td>0.0</td><td>0.0</td><td>0.0</td><td>0.0</td><td>0.0</td></tr><tr><th>2</th><td>726470</td><td>1990-01-03</td><td>-100.0</td><td>18.19</td><td>0.0</td><td>0.0</td><td>0.0</td><td>0.0</td><td>0.0</td></tr><tr><th>3</th><td>726471</td><td>1990-01-04</td><td>-96.0</td><td>19.22</td><td>0.0</td><td>0.0</td><td>0.0</td><td>0.0</td><td>0.0</td></tr><tr><th>4</th><td>726472</td><td>1990-01-05</td><td>-94.0</td><td>20.11</td><td>0.0</td><td>0.0</td><td>0.0</td><td>0.0</td><td>0.0</td></tr><tr><th>5</th><td>726473</td><td>1990-01-06</td><td>-94.0</td><td>20.11</td><td>-97.4</td><td>0.0</td><td>0.0</td><td>0.0</td><td>0.0</td></tr><tr><th>6</th><td>726474</td><td>1990-01-07</td><td>-94.0</td><td>20.11</td><td>-95.6</td><td>0.0</td><td>0.0</td><td>0.0</td><td>0.0</td></tr><tr><th>7</th><td>726475</td><td>1990-01-08</td><td>-93.0</td><td>20.26</td><td>-94.2</td><td>0.0</td><td>0.0</td><td>0.0</td><td>0.0</td></tr><tr><th>8</th><td>726476</td><td>1990-01-09</td><td>-87.0</td><td>22.2</td><td>-92.4</td><td>0.0</td><td>0.0</td><td>0.0</td><td>0.0</td></tr><tr><th>9</th><td>726477</td><td>1990-01-10</td><td>-86.0</td><td>22.44</td><td>-90.8</td><td>0.0</td><td>0.0</td><td>0.0</td><td>0.0</td></tr><tr><th>10</th><td>726478</td><td>1990-01-11</td><td>-94.0</td><td>20.05</td><td>-90.8</td><td>0.0</td><td>0.0</td><td>0.0</td><td>0.0</td></tr><tr><th>11</th><td>726479</td><td>1990-01-12</td><td>-79.0</td><td>24.64</td><td>-87.8</td><td>0.0</td><td>0.0</td><td>0.0</td><td>0.0</td></tr><tr><th>12</th><td>726480</td><td>1990-01-13</td><td>-79.0</td><td>24.64</td><td>-85.0</td><td>0.0</td><td>0.0</td><td>0.0</td><td>0.0</td></tr><tr><th>13</th><td>726481</td><td>1990-01-14</td><td>-79.0</td><td>24.64</td><td>-83.4</td><td>0.0</td><td>0.0</td><td>0.0</td><td>0.0</td></tr><tr><th>14</th><td>726482</td><td>1990-01-15</td><td>-74.0</td><td>26.34</td><td>-81.0</td><td>0.0</td><td>0.0</td><td>0.0</td><td>0.0</td></tr><tr><th>15</th><td>726483</td><td>1990-01-16</td><td>-81.0</td><td>24.18</td><td>-78.4</td><td>0.0</td><td>0.0</td><td>0.0</td><td>0.0</td></tr><tr><th>16</th><td>726484</td><td>1990-01-17</td><td>-81.0</td><td>24.16</td><td>-78.8</td><td>0.0</td><td>0.0</td><td>0.0</td><td>0.0</td></tr><tr><th>17</th><td>726485</td><td>1990-01-18</td><td>-80.0</td><td>24.34</td><td>-79.0</td><td>0.0</td><td>0.0</td><td>0.0</td><td>0.0</td></tr><tr><th>18</th><td>726486</td><td>1990-01-19</td><td>-86.0</td><td>22.5</td><td>-80.4</td><td>0.0</td><td>0.0</td><td>0.0</td><td>0.0</td></tr><tr><th>19</th><td>726487</td><td>1990-01-20</td><td>-86.0</td><td>22.5</td><td>-82.8</td><td>0.0</td><td>0.0</td><td>0.0</td><td>0.0</td></tr><tr><th>20</th><td>726488</td><td>1990-01-21</td><td>-86.0</td><td>22.5</td><td>-83.8</td><td>0.0</td><td>0.0</td><td>0.0</td><td>0.0</td></tr><tr><th>21</th><td>726489</td><td>1990-01-22</td><td>-73.0</td><td>26.7</td><td>-82.2</td><td>0.0</td><td>0.0</td><td>0.0</td><td>0.0</td></tr><tr><th>22</th><td>726490</td><td>1990-01-23</td><td>-79.0</td><td>24.72</td><td>-82.0</td><td>0.0</td><td>0.0</td><td>0.0</td><td>0.0</td></tr><tr><th>23</th><td>726491</td><td>1990-01-24</td><td>-77.0</td><td>25.39</td><td>-80.2</td><td>0.0</td><td>0.0</td><td>0.0</td><td>0.0</td></tr><tr><th>24</th><td>726492</td><td>1990-01-25</td><td>-76.0</td><td>25.63</td><td>-78.2</td><td>0.0</td><td>0.0</td><td>0.0</td><td>0.0</td></tr><tr><th>25</th><td>726493</td><td>1990-01-26</td><td>-74.0</td><td>26.28</td><td>-75.8</td><td>0.0</td><td>0.0</td><td>0.0</td><td>0.0</td></tr><tr><th>26</th><td>726494</td><td>1990-01-27</td><td>-74.0</td><td>26.28</td><td>-76.0</td><td>0.0</td><td>0.0</td><td>0.0</td><td>0.0</td></tr><tr><th>27</th><td>726495</td><td>1990-01-28</td><td>-74.0</td><td>26.28</td><td>-75.0</td><td>0.0</td><td>0.0</td><td>0.0</td><td>0.0</td></tr><tr><th>28</th><td>726496</td><td>1990-01-29</td><td>-74.0</td><td>26.44</td><td>-74.4</td><td>0.0</td><td>0.0</td><td>0.0</td><td>0.0</td></tr><tr><th>29</th><td>726497</td><td>1990-01-30</td><td>-71.0</td><td>27.25</td><td>-73.4</td><td>0.0</td><td>0.0</td><td>0.0</td><td>0.0</td></tr><tr><th>30</th><td>726498</td><td>1990-01-31</td><td>-77.0</td><td>25.36</td><td>-74.0</td><td>-83.37</td><td>0.0</td><td>0.0</td><td>0.0</td></tr><tr><th>&vellip;</th><td>&vellip;</td><td>&vellip;</td><td>&vellip;</td><td>&vellip;</td><td>&vellip;</td><td>&vellip;</td><td>&vellip;</td><td>&vellip;</td><td>&vellip;</td></tr></tbody></table>"
      ],
      "text/latex": [
       "\\begin{tabular}{r|ccccccccc}\n",
       "\t& Day & Date & Value & Original & Avg005 & Avg030 & Avg090 & Avg180 & Avg365\\\\\n",
       "\t\\hline\n",
       "\t& Int64 & Date & Float64 & Float64 & Float64 & Float64 & Float64 & Float64 & Float64\\\\\n",
       "\t\\hline\n",
       "\t1 & 726469 & 1990-01-02 & -103.0 & 17.24 & 0.0 & 0.0 & 0.0 & 0.0 & 0.0 \\\\\n",
       "\t2 & 726470 & 1990-01-03 & -100.0 & 18.19 & 0.0 & 0.0 & 0.0 & 0.0 & 0.0 \\\\\n",
       "\t3 & 726471 & 1990-01-04 & -96.0 & 19.22 & 0.0 & 0.0 & 0.0 & 0.0 & 0.0 \\\\\n",
       "\t4 & 726472 & 1990-01-05 & -94.0 & 20.11 & 0.0 & 0.0 & 0.0 & 0.0 & 0.0 \\\\\n",
       "\t5 & 726473 & 1990-01-06 & -94.0 & 20.11 & -97.4 & 0.0 & 0.0 & 0.0 & 0.0 \\\\\n",
       "\t6 & 726474 & 1990-01-07 & -94.0 & 20.11 & -95.6 & 0.0 & 0.0 & 0.0 & 0.0 \\\\\n",
       "\t7 & 726475 & 1990-01-08 & -93.0 & 20.26 & -94.2 & 0.0 & 0.0 & 0.0 & 0.0 \\\\\n",
       "\t8 & 726476 & 1990-01-09 & -87.0 & 22.2 & -92.4 & 0.0 & 0.0 & 0.0 & 0.0 \\\\\n",
       "\t9 & 726477 & 1990-01-10 & -86.0 & 22.44 & -90.8 & 0.0 & 0.0 & 0.0 & 0.0 \\\\\n",
       "\t10 & 726478 & 1990-01-11 & -94.0 & 20.05 & -90.8 & 0.0 & 0.0 & 0.0 & 0.0 \\\\\n",
       "\t11 & 726479 & 1990-01-12 & -79.0 & 24.64 & -87.8 & 0.0 & 0.0 & 0.0 & 0.0 \\\\\n",
       "\t12 & 726480 & 1990-01-13 & -79.0 & 24.64 & -85.0 & 0.0 & 0.0 & 0.0 & 0.0 \\\\\n",
       "\t13 & 726481 & 1990-01-14 & -79.0 & 24.64 & -83.4 & 0.0 & 0.0 & 0.0 & 0.0 \\\\\n",
       "\t14 & 726482 & 1990-01-15 & -74.0 & 26.34 & -81.0 & 0.0 & 0.0 & 0.0 & 0.0 \\\\\n",
       "\t15 & 726483 & 1990-01-16 & -81.0 & 24.18 & -78.4 & 0.0 & 0.0 & 0.0 & 0.0 \\\\\n",
       "\t16 & 726484 & 1990-01-17 & -81.0 & 24.16 & -78.8 & 0.0 & 0.0 & 0.0 & 0.0 \\\\\n",
       "\t17 & 726485 & 1990-01-18 & -80.0 & 24.34 & -79.0 & 0.0 & 0.0 & 0.0 & 0.0 \\\\\n",
       "\t18 & 726486 & 1990-01-19 & -86.0 & 22.5 & -80.4 & 0.0 & 0.0 & 0.0 & 0.0 \\\\\n",
       "\t19 & 726487 & 1990-01-20 & -86.0 & 22.5 & -82.8 & 0.0 & 0.0 & 0.0 & 0.0 \\\\\n",
       "\t20 & 726488 & 1990-01-21 & -86.0 & 22.5 & -83.8 & 0.0 & 0.0 & 0.0 & 0.0 \\\\\n",
       "\t21 & 726489 & 1990-01-22 & -73.0 & 26.7 & -82.2 & 0.0 & 0.0 & 0.0 & 0.0 \\\\\n",
       "\t22 & 726490 & 1990-01-23 & -79.0 & 24.72 & -82.0 & 0.0 & 0.0 & 0.0 & 0.0 \\\\\n",
       "\t23 & 726491 & 1990-01-24 & -77.0 & 25.39 & -80.2 & 0.0 & 0.0 & 0.0 & 0.0 \\\\\n",
       "\t24 & 726492 & 1990-01-25 & -76.0 & 25.63 & -78.2 & 0.0 & 0.0 & 0.0 & 0.0 \\\\\n",
       "\t25 & 726493 & 1990-01-26 & -74.0 & 26.28 & -75.8 & 0.0 & 0.0 & 0.0 & 0.0 \\\\\n",
       "\t26 & 726494 & 1990-01-27 & -74.0 & 26.28 & -76.0 & 0.0 & 0.0 & 0.0 & 0.0 \\\\\n",
       "\t27 & 726495 & 1990-01-28 & -74.0 & 26.28 & -75.0 & 0.0 & 0.0 & 0.0 & 0.0 \\\\\n",
       "\t28 & 726496 & 1990-01-29 & -74.0 & 26.44 & -74.4 & 0.0 & 0.0 & 0.0 & 0.0 \\\\\n",
       "\t29 & 726497 & 1990-01-30 & -71.0 & 27.25 & -73.4 & 0.0 & 0.0 & 0.0 & 0.0 \\\\\n",
       "\t30 & 726498 & 1990-01-31 & -77.0 & 25.36 & -74.0 & -83.37 & 0.0 & 0.0 & 0.0 \\\\\n",
       "\t$\\dots$ & $\\dots$ & $\\dots$ & $\\dots$ & $\\dots$ & $\\dots$ & $\\dots$ & $\\dots$ & $\\dots$ & $\\dots$ \\\\\n",
       "\\end{tabular}\n"
      ],
      "text/plain": [
       "11291×9 DataFrame. Omitted printing of 3 columns\n",
       "│ Row   │ Day    │ Date       │ Value   │ Original │ Avg005  │ Avg030  │\n",
       "│       │ \u001b[90mInt64\u001b[39m  │ \u001b[90mDate\u001b[39m       │ \u001b[90mFloat64\u001b[39m │ \u001b[90mFloat64\u001b[39m  │ \u001b[90mFloat64\u001b[39m │ \u001b[90mFloat64\u001b[39m │\n",
       "├───────┼────────┼────────────┼─────────┼──────────┼─────────┼─────────┤\n",
       "│ 1     │ 726469 │ 1990-01-02 │ -103.0  │ 17.24    │ 0.0     │ 0.0     │\n",
       "│ 2     │ 726470 │ 1990-01-03 │ -100.0  │ 18.19    │ 0.0     │ 0.0     │\n",
       "│ 3     │ 726471 │ 1990-01-04 │ -96.0   │ 19.22    │ 0.0     │ 0.0     │\n",
       "│ 4     │ 726472 │ 1990-01-05 │ -94.0   │ 20.11    │ 0.0     │ 0.0     │\n",
       "│ 5     │ 726473 │ 1990-01-06 │ -94.0   │ 20.11    │ -97.4   │ 0.0     │\n",
       "│ 6     │ 726474 │ 1990-01-07 │ -94.0   │ 20.11    │ -95.6   │ 0.0     │\n",
       "│ 7     │ 726475 │ 1990-01-08 │ -93.0   │ 20.26    │ -94.2   │ 0.0     │\n",
       "│ 8     │ 726476 │ 1990-01-09 │ -87.0   │ 22.2     │ -92.4   │ 0.0     │\n",
       "│ 9     │ 726477 │ 1990-01-10 │ -86.0   │ 22.44    │ -90.8   │ 0.0     │\n",
       "│ 10    │ 726478 │ 1990-01-11 │ -94.0   │ 20.05    │ -90.8   │ 0.0     │\n",
       "⋮\n",
       "│ 11281 │ 737749 │ 2020-11-20 │ -82.0   │ 23.73    │ -81.2   │ -60.33  │\n",
       "│ 11282 │ 737750 │ 2020-11-21 │ -82.0   │ 23.73    │ -81.4   │ -61.0   │\n",
       "│ 11283 │ 737751 │ 2020-11-22 │ -82.0   │ 23.73    │ -81.6   │ -61.53  │\n",
       "│ 11284 │ 737752 │ 2020-11-23 │ -81.0   │ 23.96    │ -81.4   │ -62.03  │\n",
       "│ 11285 │ 737753 │ 2020-11-24 │ -86.0   │ 22.48    │ -82.6   │ -62.7   │\n",
       "│ 11286 │ 737754 │ 2020-11-25 │ -86.0   │ 22.5     │ -83.4   │ -63.87  │\n",
       "│ 11287 │ 737755 │ 2020-11-26 │ -86.0   │ 22.5     │ -84.2   │ -65.07  │\n",
       "│ 11288 │ 737756 │ 2020-11-27 │ -89.0   │ 21.6     │ -85.6   │ -67.1   │\n",
       "│ 11289 │ 737757 │ 2020-11-28 │ -89.0   │ 21.6     │ -87.2   │ -69.17  │\n",
       "│ 11290 │ 737758 │ 2020-11-29 │ -89.0   │ 21.6     │ -87.8   │ -71.23  │\n",
       "│ 11291 │ 737759 │ 2020-11-30 │ -85.0   │ 22.89    │ -87.6   │ -73.17  │"
      ]
     },
     "execution_count": 10,
     "metadata": {},
     "output_type": "execute_result"
    }
   ],
   "source": [
    "insertcols!(df, 5,  :Avg005   => averages005  , makeunique=true)\n",
    "insertcols!(df, 6,  :Avg030   => averages030  , makeunique=true)\n",
    "insertcols!(df, 7,  :Avg090   => averages090  , makeunique=true)\n",
    "insertcols!(df, 8,  :Avg180   => averages180  , makeunique=true)\n",
    "insertcols!(df, 9,  :Avg365   => averages365  , makeunique=true)\n",
    "\n",
    "#using Statistics\n",
    "#describe(df)"
   ]
  },
  {
   "cell_type": "raw",
   "metadata": {
    "ExecuteTime": {
     "end_time": "2020-11-30T20:30:22.109000-05:00",
     "start_time": "2020-12-01T01:30:07.197Z"
    }
   },
   "source": [
    "using Plots\n",
    "count = size(df)[1]\n",
    "days_back = 90\n",
    "rows = count-days_back:count\n",
    "dates = format_dates( df[rows,2] , \"m/d/yy\")\n",
    "\n",
    "gr()\n",
    "plot(   dates, # x-axis: dates\n",
    "        [  df[rows,3]  averages005[rows] averages030[rows] averages090[rows] averages180[rows] \n",
    "        ], # y-axis\n",
    "    label    = \n",
    "        [ columns[3] \"5-day avg\" \"30-day avg\" \"90-day avg\" \"180-day avg\"  \"\"  ],\n",
    "    legend   =:topleft, \n",
    "              # :right, :left, :top, :bottom, :inside, :best, :legend, :topright, :topleft, :bottomleft, :bottomright\n",
    "    xlabel   = \"time\",\n",
    "    ylabel   = \"indicators\",\n",
    "    size     = (980, 400), # width, height\n",
    "    layout = (1, 1) # number of graphs: vertically, horizontally\n",
    "    )"
   ]
  },
  {
   "cell_type": "markdown",
   "metadata": {},
   "source": [
    "[back to top](#Table-of-Contents)\n",
    "<hr/>\n",
    "\n",
    "## Save DataFrame to CSV file"
   ]
  },
  {
   "cell_type": "markdown",
   "metadata": {},
   "source": [
    "### Save: Describe before saving"
   ]
  },
  {
   "cell_type": "code",
   "execution_count": 13,
   "metadata": {
    "ExecuteTime": {
     "end_time": "2020-11-30T20:43:01.938000-05:00",
     "start_time": "2020-12-01T01:42:59.499Z"
    }
   },
   "outputs": [
    {
     "data": {
      "text/html": [
       "<table class=\"data-frame\"><thead><tr><th></th><th>variable</th><th>mean</th><th>min</th><th>median</th><th>max</th><th>nunique</th><th>nmissing</th><th>eltype</th></tr><tr><th></th><th>Symbol</th><th>Union…</th><th>Any</th><th>Union…</th><th>Any</th><th>Union…</th><th>Nothing</th><th>DataType</th></tr></thead><tbody><p>9 rows × 8 columns</p><tr><th>1</th><td>Day</td><td>732114.0</td><td>726469</td><td>732114.0</td><td>737759</td><td></td><td></td><td>Int64</td></tr><tr><th>2</th><td>Date</td><td></td><td>1990-01-02</td><td></td><td>2020-11-30</td><td>11291</td><td></td><td>Date</td></tr><tr><th>3</th><td>Value</td><td>-93.2221</td><td>-128.0</td><td>-100.0</td><td>127.0</td><td></td><td></td><td>Float64</td></tr><tr><th>4</th><td>Original</td><td>20.2507</td><td>9.31</td><td>17.98</td><td>89.53</td><td></td><td></td><td>Float64</td></tr><tr><th>5</th><td>Avg005</td><td>-93.189</td><td>-127.2</td><td>-100.4</td><td>115.6</td><td></td><td></td><td>Float64</td></tr><tr><th>6</th><td>Avg030</td><td>-93.0046</td><td>-125.13</td><td>-100.57</td><td>69.8</td><td></td><td></td><td>Float64</td></tr><tr><th>7</th><td>Avg090</td><td>-92.6169</td><td>-123.27</td><td>-100.26</td><td>43.81</td><td></td><td></td><td>Float64</td></tr><tr><th>8</th><td>Avg180</td><td>-91.984</td><td>-122.07</td><td>-99.35</td><td>17.55</td><td></td><td></td><td>Float64</td></tr><tr><th>9</th><td>Avg365</td><td>-90.867</td><td>-120.61</td><td>-99.11</td><td>0.0</td><td></td><td></td><td>Float64</td></tr></tbody></table>"
      ],
      "text/latex": [
       "\\begin{tabular}{r|cccccccc}\n",
       "\t& variable & mean & min & median & max & nunique & nmissing & eltype\\\\\n",
       "\t\\hline\n",
       "\t& Symbol & Union… & Any & Union… & Any & Union… & Nothing & DataType\\\\\n",
       "\t\\hline\n",
       "\t1 & Day & 732114.0 & 726469 & 732114.0 & 737759 &  &  & Int64 \\\\\n",
       "\t2 & Date &  & 1990-01-02 &  & 2020-11-30 & 11291 &  & Date \\\\\n",
       "\t3 & Value & -93.2221 & -128.0 & -100.0 & 127.0 &  &  & Float64 \\\\\n",
       "\t4 & Original & 20.2507 & 9.31 & 17.98 & 89.53 &  &  & Float64 \\\\\n",
       "\t5 & Avg005 & -93.189 & -127.2 & -100.4 & 115.6 &  &  & Float64 \\\\\n",
       "\t6 & Avg030 & -93.0046 & -125.13 & -100.57 & 69.8 &  &  & Float64 \\\\\n",
       "\t7 & Avg090 & -92.6169 & -123.27 & -100.26 & 43.81 &  &  & Float64 \\\\\n",
       "\t8 & Avg180 & -91.984 & -122.07 & -99.35 & 17.55 &  &  & Float64 \\\\\n",
       "\t9 & Avg365 & -90.867 & -120.61 & -99.11 & 0.0 &  &  & Float64 \\\\\n",
       "\\end{tabular}\n"
      ],
      "text/plain": [
       "9×8 DataFrame. Omitted printing of 2 columns\n",
       "│ Row │ variable │ mean     │ min        │ median   │ max        │ nunique │\n",
       "│     │ \u001b[90mSymbol\u001b[39m   │ \u001b[90mUnion…\u001b[39m   │ \u001b[90mAny\u001b[39m        │ \u001b[90mUnion…\u001b[39m   │ \u001b[90mAny\u001b[39m        │ \u001b[90mUnion…\u001b[39m  │\n",
       "├─────┼──────────┼──────────┼────────────┼──────────┼────────────┼─────────┤\n",
       "│ 1   │ Day      │ 732114.0 │ 726469     │ 732114.0 │ 737759     │         │\n",
       "│ 2   │ Date     │          │ 1990-01-02 │          │ 2020-11-30 │ 11291   │\n",
       "│ 3   │ Value    │ -93.2221 │ -128.0     │ -100.0   │ 127.0      │         │\n",
       "│ 4   │ Original │ 20.2507  │ 9.31       │ 17.98    │ 89.53      │         │\n",
       "│ 5   │ Avg005   │ -93.189  │ -127.2     │ -100.4   │ 115.6      │         │\n",
       "│ 6   │ Avg030   │ -93.0046 │ -125.13    │ -100.57  │ 69.8       │         │\n",
       "│ 7   │ Avg090   │ -92.6169 │ -123.27    │ -100.26  │ 43.81      │         │\n",
       "│ 8   │ Avg180   │ -91.984  │ -122.07    │ -99.35   │ 17.55      │         │\n",
       "│ 9   │ Avg365   │ -90.867  │ -120.61    │ -99.11   │ 0.0        │         │"
      ]
     },
     "execution_count": 13,
     "metadata": {},
     "output_type": "execute_result"
    }
   ],
   "source": [
    "using Statistics\n",
    "describe(df)"
   ]
  },
  {
   "cell_type": "markdown",
   "metadata": {},
   "source": [
    "### Write as CSV file"
   ]
  },
  {
   "cell_type": "code",
   "execution_count": 12,
   "metadata": {
    "ExecuteTime": {
     "end_time": "2020-11-30T20:31:55.454000-05:00",
     "start_time": "2020-12-01T01:31:31.424Z"
    }
   },
   "outputs": [],
   "source": [
    "save_dataset(df, dataset_file_name, \"../Data/processed/\" );"
   ]
  },
  {
   "cell_type": "code",
   "execution_count": null,
   "metadata": {},
   "outputs": [],
   "source": []
  },
  {
   "cell_type": "code",
   "execution_count": null,
   "metadata": {},
   "outputs": [],
   "source": []
  }
 ],
 "metadata": {
  "kernelspec": {
   "display_name": "Julia 1.5.1",
   "language": "julia",
   "name": "julia-1.5"
  },
  "language_info": {
   "file_extension": ".jl",
   "mimetype": "application/julia",
   "name": "julia",
   "version": "1.5.1"
  },
  "toc": {
   "base_numbering": 1,
   "nav_menu": {},
   "number_sections": true,
   "sideBar": true,
   "skip_h1_title": true,
   "title_cell": "Table of Contents",
   "title_sidebar": "Contents",
   "toc_cell": false,
   "toc_position": {},
   "toc_section_display": true,
   "toc_window_display": true
  },
  "varInspector": {
   "cols": {
    "lenName": 16,
    "lenType": 16,
    "lenVar": 40
   },
   "kernels_config": {
    "python": {
     "delete_cmd_postfix": "",
     "delete_cmd_prefix": "del ",
     "library": "var_list.py",
     "varRefreshCmd": "print(var_dic_list())"
    },
    "r": {
     "delete_cmd_postfix": ") ",
     "delete_cmd_prefix": "rm(",
     "library": "var_list.r",
     "varRefreshCmd": "cat(var_dic_list()) "
    }
   },
   "types_to_exclude": [
    "module",
    "function",
    "builtin_function_or_method",
    "instance",
    "_Feature"
   ],
   "window_display": false
  }
 },
 "nbformat": 4,
 "nbformat_minor": 2
}
