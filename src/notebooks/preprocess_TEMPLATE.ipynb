{
 "cells": [
  {
   "cell_type": "markdown",
   "metadata": {},
   "source": [
    "# preprocess_TEMPLATE\n",
    "\n",
    "\n",
    "**Source**\n",
    "\n",
    "- [Yahoo finance](https://finance.yahoo.com/quote/%5EVIX/history?period1=475804800&period2=1601251200&interval=1d&filter=history&frequency=1d)"
   ]
  },
  {
   "cell_type": "markdown",
   "metadata": {},
   "source": [
    "## Set Up"
   ]
  },
  {
   "cell_type": "code",
   "execution_count": 1,
   "metadata": {
    "ExecuteTime": {
     "end_time": "2020-12-09T17:36:15.801000-05:00",
     "start_time": "2020-12-09T22:36:11.435Z"
    }
   },
   "outputs": [
    {
     "name": "stdout",
     "output_type": "stream",
     "text": [
      "\n",
      "\n"
     ]
    }
   ],
   "source": [
    "dataset_file_name = \"^VIX.csv\"\n",
    "date_original_format = \"yyyy-mm-dd\" # ^VIX, ^DJI,\n",
    "#date_original_format = \"yyyy.mm.dd\"\n",
    "column_to_keep = 3 # Column number in the original file e.g. High or ActualValue\n",
    "\n",
    "verbose = true\n",
    "verbose = false\n",
    "\n",
    "predict_days = 30 # number of days to predict\n",
    "path_data_original  = \"../Data/original/\"\n",
    "path_data_processed = \"../Data/processed/\"\n",
    "include(\"../Julia/functions.jl\") \n",
    "include(\"../Julia/function_toFloat64.jl\")\n",
    "println()"
   ]
  },
  {
   "cell_type": "markdown",
   "metadata": {
    "toc": true
   },
   "source": [
    "<h1>Table of Contents<span class=\"tocSkip\"></span></h1>\n",
    "<div class=\"toc\"><ul class=\"toc-item\"><li><span><a href=\"#Set-Up\" data-toc-modified-id=\"Set-Up-1\"><span class=\"toc-item-num\">1&nbsp;&nbsp;</span>Set Up</a></span></li><li><span><a href=\"#Read-Data\" data-toc-modified-id=\"Read-Data-2\"><span class=\"toc-item-num\">2&nbsp;&nbsp;</span>Read Data</a></span><ul class=\"toc-item\"><li><span><a href=\"#Sample-the-data\" data-toc-modified-id=\"Sample-the-data-2.1\"><span class=\"toc-item-num\">2.1&nbsp;&nbsp;</span>Sample the data</a></span></li></ul></li><li><span><a href=\"#Extract-right-columns-and-sort\" data-toc-modified-id=\"Extract-right-columns-and-sort-3\"><span class=\"toc-item-num\">3&nbsp;&nbsp;</span>Extract right columns and sort</a></span></li><li><span><a href=\"#Insert-Rata-Die-Column\" data-toc-modified-id=\"Insert-Rata-Die-Column-4\"><span class=\"toc-item-num\">4&nbsp;&nbsp;</span>Insert Rata Die Column</a></span><ul class=\"toc-item\"><li><span><a href=\"#Insert-Future-Date\" data-toc-modified-id=\"Insert-Future-Date-4.1\"><span class=\"toc-item-num\">4.1&nbsp;&nbsp;</span>Insert Future Date</a></span></li><li><span><a href=\"#Update-the-Rata-Die-Column\" data-toc-modified-id=\"Update-the-Rata-Die-Column-4.2\"><span class=\"toc-item-num\">4.2&nbsp;&nbsp;</span>Update the Rata Die Column</a></span></li><li><span><a href=\"#Fill-in-Empty-Dates-and-Sort\" data-toc-modified-id=\"Fill-in-Empty-Dates-and-Sort-4.3\"><span class=\"toc-item-num\">4.3&nbsp;&nbsp;</span>Fill in Empty Dates and Sort</a></span></li><li><span><a href=\"#Fill:-Draw-Plots\" data-toc-modified-id=\"Fill:-Draw-Plots-4.4\"><span class=\"toc-item-num\">4.4&nbsp;&nbsp;</span>Fill: Draw Plots</a></span></li></ul></li><li><span><a href=\"#Quantize-the-values\" data-toc-modified-id=\"Quantize-the-values-5\"><span class=\"toc-item-num\">5&nbsp;&nbsp;</span>Quantize the values</a></span></li><li><span><a href=\"#Averages\" data-toc-modified-id=\"Averages-6\"><span class=\"toc-item-num\">6&nbsp;&nbsp;</span>Averages</a></span><ul class=\"toc-item\"><li><span><a href=\"#Averages:-Draw-Plots\" data-toc-modified-id=\"Averages:-Draw-Plots-6.1\"><span class=\"toc-item-num\">6.1&nbsp;&nbsp;</span>Averages: Draw Plots</a></span></li><li><span><a href=\"#Insert-averages-to-DataFrame\" data-toc-modified-id=\"Insert-averages-to-DataFrame-6.2\"><span class=\"toc-item-num\">6.2&nbsp;&nbsp;</span>Insert averages to DataFrame</a></span></li></ul></li><li><span><a href=\"#Save-DataFrame-to-CSV-file\" data-toc-modified-id=\"Save-DataFrame-to-CSV-file-7\"><span class=\"toc-item-num\">7&nbsp;&nbsp;</span>Save DataFrame to CSV file</a></span><ul class=\"toc-item\"><li><span><a href=\"#Save:-Describe-before-saving\" data-toc-modified-id=\"Save:-Describe-before-saving-7.1\"><span class=\"toc-item-num\">7.1&nbsp;&nbsp;</span>Save: Describe before saving</a></span></li><li><span><a href=\"#Write-as-CSV-file\" data-toc-modified-id=\"Write-as-CSV-file-7.2\"><span class=\"toc-item-num\">7.2&nbsp;&nbsp;</span>Write as CSV file</a></span></li></ul></li></ul></div>"
   ]
  },
  {
   "cell_type": "markdown",
   "metadata": {},
   "source": [
    "## Read Data"
   ]
  },
  {
   "cell_type": "code",
   "execution_count": 2,
   "metadata": {
    "ExecuteTime": {
     "end_time": "2020-12-09T17:36:28.827000-05:00",
     "start_time": "2020-12-09T22:36:11.440Z"
    }
   },
   "outputs": [
    {
     "name": "stdout",
     "output_type": "stream",
     "text": [
      "Fetched ../Data/original/^VIX.csv, record count 7797\n",
      "\n"
     ]
    }
   ],
   "source": [
    "## show available datasets\n",
    "#data = available_datasets() # uncomment to see all available datasets\n",
    "\n",
    "# Read DataFrame from the CSV file.\n",
    "df = fetch_dataset(dataset_file_name, date_original_format , path_data_original )\n",
    "\n",
    "if verbose\n",
    "    preview_data(df)\n",
    "end\n",
    "\n",
    "println()"
   ]
  },
  {
   "cell_type": "markdown",
   "metadata": {},
   "source": [
    "### Sample the data"
   ]
  },
  {
   "cell_type": "code",
   "execution_count": 3,
   "metadata": {
    "ExecuteTime": {
     "end_time": "2020-12-09T17:36:28.864000-05:00",
     "start_time": "2020-12-09T22:36:11.444Z"
    }
   },
   "outputs": [],
   "source": [
    "if verbose\n",
    "    using Statistics\n",
    "    describe(df)\n",
    "end"
   ]
  },
  {
   "cell_type": "markdown",
   "metadata": {},
   "source": [
    "## Extract right columns and sort"
   ]
  },
  {
   "cell_type": "code",
   "execution_count": 4,
   "metadata": {
    "ExecuteTime": {
     "end_time": "2020-12-09T17:36:29.901000-05:00",
     "start_time": "2020-12-09T22:36:11.448Z"
    }
   },
   "outputs": [
    {
     "name": "stdout",
     "output_type": "stream",
     "text": [
      "\n"
     ]
    }
   ],
   "source": [
    "\n",
    "\n",
    "using DataFrames\n",
    "df = DataFrame( \n",
    "                  Date      = df[:,1]               # 2 \n",
    "                , Original  = toFloat64( df[:,column_to_keep] )  # 3 \n",
    "                , Quantized = toFloat64( df[:,column_to_keep] )  # 4 \n",
    "               )\n",
    "\n",
    "df = sort(df, [ :Date ]);\n",
    "\n",
    "if verbose\n",
    "    columns = preview_data(df)\n",
    "end\n",
    "println()"
   ]
  },
  {
   "cell_type": "markdown",
   "metadata": {},
   "source": [
    "## Insert Rata Die Column"
   ]
  },
  {
   "cell_type": "code",
   "execution_count": 5,
   "metadata": {
    "ExecuteTime": {
     "end_time": "2020-12-09T17:36:30.033000-05:00",
     "start_time": "2020-12-09T22:36:11.452Z"
    }
   },
   "outputs": [
    {
     "name": "stdout",
     "output_type": "stream",
     "text": [
      "\n"
     ]
    }
   ],
   "source": [
    "## Insert the Rata Die Column\n",
    "record_count = size(df)[1]\n",
    "insert_localtion = 1\n",
    "insertcols!(df, insert_localtion, :Rata_Die => zeros(Int64, record_count); makeunique = true )\n",
    "println()"
   ]
  },
  {
   "cell_type": "markdown",
   "metadata": {
    "ExecuteTime": {
     "end_time": "2020-12-04T20:54:24.995000-05:00",
     "start_time": "2020-12-05T01:54:02.797Z"
    }
   },
   "source": [
    "### Insert Future Date"
   ]
  },
  {
   "cell_type": "code",
   "execution_count": 6,
   "metadata": {
    "ExecuteTime": {
     "end_time": "2020-12-09T17:36:30.578000-05:00",
     "start_time": "2020-12-09T22:36:11.456Z"
    }
   },
   "outputs": [
    {
     "name": "stdout",
     "output_type": "stream",
     "text": [
      "2021-01-08T00:00:00\n",
      "\n"
     ]
    }
   ],
   "source": [
    "using Dates\n",
    "columns = names(df)\n",
    "if verbose\n",
    "    println(columns)\n",
    "end\n",
    "\n",
    "future_rata_die = Dates.datetime2rata( today() ) + predict_days # Int64  days from now\n",
    "future_date = Dates.rata2datetime( future_rata_die) # Date\n",
    "println(future_date)\n",
    "push!(df, [ future_rata_die future_date 0.0 0.0 ])\n",
    "\n",
    "## sort by Day (Rata Die)\n",
    "df = sort(df, [:Rata_Die]);\n",
    "if verbose\n",
    "    ## show last row\n",
    "    last_row = size(df)[1]\n",
    "    df[last_row,:]\n",
    "end\n",
    "println()"
   ]
  },
  {
   "cell_type": "markdown",
   "metadata": {},
   "source": [
    "### Update the Rata Die Column"
   ]
  },
  {
   "cell_type": "code",
   "execution_count": 7,
   "metadata": {
    "ExecuteTime": {
     "end_time": "2020-12-09T17:36:30.618000-05:00",
     "start_time": "2020-12-09T22:36:11.460Z"
    }
   },
   "outputs": [],
   "source": [
    "update_rata_die!(df, 1, 2)\n",
    "\n",
    "if verbose\n",
    "    first(df, 6)\n",
    "    println(\"Inserted Rata Die\")\n",
    "end"
   ]
  },
  {
   "cell_type": "markdown",
   "metadata": {},
   "source": [
    "### Fill in Empty Dates and Sort"
   ]
  },
  {
   "cell_type": "code",
   "execution_count": 8,
   "metadata": {
    "ExecuteTime": {
     "end_time": "2020-12-09T17:36:31.545000-05:00",
     "start_time": "2020-12-09T22:36:11.464Z"
    }
   },
   "outputs": [],
   "source": [
    "populate_missing_dates!(df)\n",
    "\n",
    "df = sort(df, [:Rata_Die]);\n",
    "\n",
    "## remove last row\n",
    "record_count = size(df)[1]\n",
    "df = df[1:record_count-1,:]\n",
    "\n",
    "if verbose\n",
    "    println( preview_data(df) )\n",
    "    println()\n",
    "end"
   ]
  },
  {
   "cell_type": "markdown",
   "metadata": {},
   "source": [
    "### Fill: Draw Plots\n",
    "- if the indicator is updated only preiodically (bi-weekly, monthly, quarterly) the the graph will appear blocky"
   ]
  },
  {
   "cell_type": "code",
   "execution_count": 9,
   "metadata": {
    "ExecuteTime": {
     "end_time": "2020-12-09T17:36:31.547000-05:00",
     "start_time": "2020-12-09T22:36:11.468Z"
    }
   },
   "outputs": [],
   "source": [
    "if verbose\n",
    "    using Plots\n",
    "    count = size(df)[1]\n",
    "    rows = 1:count\n",
    "    dates = format_dates( df[rows,2] , \"m/d/yy\")\n",
    "\n",
    "    gr()\n",
    "    plot(          dates, # x-axis: dates\n",
    "                   [ df[rows,:Quantized]    ], # y-axis\n",
    "        label    = [ \"Quantized\"  \"\"],\n",
    "        legend   =:topleft, \n",
    "                  # :right, :left, :top, :bottom, :inside, :best, :legend, :topright, :topleft, :bottomleft, :bottomright\n",
    "        xlabel   = \"time\",\n",
    "        ylabel   = \"indicators\",\n",
    "        size     = (980, 400), # width, height\n",
    "        layout = (1, 1) # number of graphs: vertically, horizontally\n",
    "        )\n",
    "end"
   ]
  },
  {
   "cell_type": "markdown",
   "metadata": {},
   "source": [
    "## Quantize the values\n",
    "\n",
    "- Quantization is a process of noramalizing the data\n",
    "- I have decided to normalize the data for Int8 as I might try use Google Coral NPU\n",
    "- minimum = -128.0\n",
    "- maximum = 127.0"
   ]
  },
  {
   "cell_type": "code",
   "execution_count": 10,
   "metadata": {
    "ExecuteTime": {
     "end_time": "2020-12-09T17:36:31.698000-05:00",
     "start_time": "2020-12-09T22:36:11.471Z"
    }
   },
   "outputs": [],
   "source": [
    "data_original = df[:,3] # keep original for display comparison later\n",
    "\n",
    "quantize_column!(df,4)\n",
    "\n",
    "if verbose\n",
    "    using Statistics\n",
    "    describe(df)\n",
    "end"
   ]
  },
  {
   "cell_type": "code",
   "execution_count": 11,
   "metadata": {
    "ExecuteTime": {
     "end_time": "2020-12-09T17:36:31.700000-05:00",
     "start_time": "2020-12-09T22:36:11.476Z"
    }
   },
   "outputs": [],
   "source": [
    "if verbose\n",
    "    using Plots\n",
    "\n",
    "    count = size(df)[1]\n",
    "    rows = 1:count\n",
    "    dates = format_dates( df[rows,2] , \"m/d/yy\")\n",
    "\n",
    "    gr()\n",
    "    plot(          dates, # x-axis: dates\n",
    "                   [  df[rows,:Quantized]    ], # y-axis\n",
    "        label    = [  \"Quantized\" \"\"   ]  ,\n",
    "        legend   =:topleft, \n",
    "                  # :right, :left, :top, :bottom, :inside, :best, :legend, :topright, :topleft, :bottomleft, :bottomright\n",
    "        xlabel   = \"time\",\n",
    "        ylabel   = \"indicators\",\n",
    "        size     = (980, 400), # width, height\n",
    "        layout = (1, 1) # number of graphs: vertically, horizontally\n",
    "        )\n",
    "end"
   ]
  },
  {
   "cell_type": "markdown",
   "metadata": {},
   "source": [
    "## Averages"
   ]
  },
  {
   "cell_type": "code",
   "execution_count": 12,
   "metadata": {
    "ExecuteTime": {
     "end_time": "2020-12-09T17:36:31.854000-05:00",
     "start_time": "2020-12-09T22:36:11.480Z"
    }
   },
   "outputs": [
    {
     "name": "stdout",
     "output_type": "stream",
     "text": [
      "\n"
     ]
    }
   ],
   "source": [
    "averages005 = calculate_average(df, 5,   :Quantized )\n",
    "averages030 = calculate_average(df, 30,  :Quantized )\n",
    "averages060 = calculate_average(df, 60,  :Quantized )\n",
    "averages090 = calculate_average(df, 90,  :Quantized )\n",
    "averages120 = calculate_average(df, 120, :Quantized )\n",
    "averages180 = calculate_average(df, 180, :Quantized )\n",
    "println()"
   ]
  },
  {
   "cell_type": "markdown",
   "metadata": {},
   "source": [
    "### Averages: Draw Plots"
   ]
  },
  {
   "cell_type": "code",
   "execution_count": 13,
   "metadata": {
    "ExecuteTime": {
     "end_time": "2020-12-09T17:36:31.856000-05:00",
     "start_time": "2020-12-09T22:36:11.484Z"
    }
   },
   "outputs": [],
   "source": [
    "if verbose\n",
    "    using Plots\n",
    "\n",
    "    columns = names(df)\n",
    "    record_count = size(df)[1]\n",
    "    days_back = 700\n",
    "    rows = record_count-days_back:record_count # count-days_back:count\n",
    "    dates = format_dates( df[rows,2] , \"m/d/yy\")\n",
    "\n",
    "    gr()\n",
    "    plot( dates, # x-axis: dates\n",
    "        [ \n",
    "            df[rows,:Quantized] averages005[rows] averages030[rows] averages060[rows] averages120[rows] averages180[rows]  \n",
    "        ], # y-axis\n",
    "        label    = [ \"Quantized\" \"averages005\" \"averages030\" \"averages060\" \"averages120\" \"averages180\"   \"\"],\n",
    "        legend   =:topleft, \n",
    "                  # :right, :left, :top, :bottom, :inside, :best, :legend, :topright, :topleft, :bottomleft, :bottomright\n",
    "        xlabel   = \"time\",\n",
    "        ylabel   = \"indicators\",\n",
    "        size     = (980, 400), # width, height\n",
    "        layout = (1, 1) # number of graphs: vertically, horizontally\n",
    "        )\n",
    "end"
   ]
  },
  {
   "cell_type": "markdown",
   "metadata": {},
   "source": [
    "### Insert averages to DataFrame\n",
    "\n",
    "- if the frequency of data is e.g. 30 days, averages below 30 days do not add value"
   ]
  },
  {
   "cell_type": "code",
   "execution_count": 14,
   "metadata": {
    "ExecuteTime": {
     "end_time": "2020-12-09T17:36:31.948000-05:00",
     "start_time": "2020-12-09T22:36:11.488Z"
    }
   },
   "outputs": [],
   "source": [
    "insertcols!(df,  5,  :Avg005   => averages005  , makeunique=true)\n",
    "insertcols!(df,  6,  :Avg030   => averages030  , makeunique=true)\n",
    "insertcols!(df,  7,  :Avg060   => averages060  , makeunique=true)\n",
    "insertcols!(df,  8,  :Avg090   => averages090  , makeunique=true)\n",
    "insertcols!(df,  9,  :Avg120   => averages120  , makeunique=true)\n",
    "insertcols!(df, 10,  :Avg180   => averages180  , makeunique=true)\n",
    "\n",
    "if verbose\n",
    "    using Statistics\n",
    "    describe(df)\n",
    "end"
   ]
  },
  {
   "cell_type": "markdown",
   "metadata": {},
   "source": [
    "[back to top](#Table-of-Contents)\n",
    "<hr/>\n",
    "\n",
    "## Save DataFrame to CSV file"
   ]
  },
  {
   "cell_type": "markdown",
   "metadata": {},
   "source": [
    "### Save: Describe before saving"
   ]
  },
  {
   "cell_type": "code",
   "execution_count": 15,
   "metadata": {
    "ExecuteTime": {
     "end_time": "2020-12-09T17:36:37.008000-05:00",
     "start_time": "2020-12-09T22:36:11.494Z"
    },
    "scrolled": true
   },
   "outputs": [
    {
     "data": {
      "text/html": [
       "<table class=\"data-frame\"><thead><tr><th></th><th>variable</th><th>mean</th><th>min</th><th>median</th><th>max</th><th>nunique</th><th>nmissing</th><th>eltype</th></tr><tr><th></th><th>Symbol</th><th>Union…</th><th>Any</th><th>Union…</th><th>Any</th><th>Union…</th><th>Nothing</th><th>DataType</th></tr></thead><tbody><p>10 rows × 8 columns</p><tr><th>1</th><td>Rata_Die</td><td>732133.0</td><td>726469</td><td>732133.0</td><td>737797</td><td></td><td></td><td>Int64</td></tr><tr><th>2</th><td>Date</td><td></td><td>1990-01-02</td><td></td><td>2021-01-07</td><td>11329</td><td></td><td>Date</td></tr><tr><th>3</th><td>Original</td><td>20.2588</td><td>9.31</td><td>18.03</td><td>89.53</td><td></td><td></td><td>Float64</td></tr><tr><th>4</th><td>Quantized</td><td>-93.1974</td><td>-128.0</td><td>-100.0</td><td>127.0</td><td></td><td></td><td>Float64</td></tr><tr><th>5</th><td>Avg005</td><td>-93.1647</td><td>-127.2</td><td>-100.2</td><td>115.6</td><td></td><td></td><td>Float64</td></tr><tr><th>6</th><td>Avg030</td><td>-92.9761</td><td>-125.13</td><td>-100.5</td><td>69.8</td><td></td><td></td><td>Float64</td></tr><tr><th>7</th><td>Avg060</td><td>-92.7554</td><td>-124.17</td><td>-100.75</td><td>63.62</td><td></td><td></td><td>Float64</td></tr><tr><th>8</th><td>Avg090</td><td>-92.5441</td><td>-123.27</td><td>-100.19</td><td>43.81</td><td></td><td></td><td>Float64</td></tr><tr><th>9</th><td>Avg120</td><td>-92.3349</td><td>-123.59</td><td>-99.48</td><td>30.68</td><td></td><td></td><td>Float64</td></tr><tr><th>10</th><td>Avg180</td><td>-91.9066</td><td>-122.07</td><td>-99.21</td><td>17.55</td><td></td><td></td><td>Float64</td></tr></tbody></table>"
      ],
      "text/latex": [
       "\\begin{tabular}{r|cccccccc}\n",
       "\t& variable & mean & min & median & max & nunique & nmissing & eltype\\\\\n",
       "\t\\hline\n",
       "\t& Symbol & Union… & Any & Union… & Any & Union… & Nothing & DataType\\\\\n",
       "\t\\hline\n",
       "\t1 & Rata\\_Die & 732133.0 & 726469 & 732133.0 & 737797 &  &  & Int64 \\\\\n",
       "\t2 & Date &  & 1990-01-02 &  & 2021-01-07 & 11329 &  & Date \\\\\n",
       "\t3 & Original & 20.2588 & 9.31 & 18.03 & 89.53 &  &  & Float64 \\\\\n",
       "\t4 & Quantized & -93.1974 & -128.0 & -100.0 & 127.0 &  &  & Float64 \\\\\n",
       "\t5 & Avg005 & -93.1647 & -127.2 & -100.2 & 115.6 &  &  & Float64 \\\\\n",
       "\t6 & Avg030 & -92.9761 & -125.13 & -100.5 & 69.8 &  &  & Float64 \\\\\n",
       "\t7 & Avg060 & -92.7554 & -124.17 & -100.75 & 63.62 &  &  & Float64 \\\\\n",
       "\t8 & Avg090 & -92.5441 & -123.27 & -100.19 & 43.81 &  &  & Float64 \\\\\n",
       "\t9 & Avg120 & -92.3349 & -123.59 & -99.48 & 30.68 &  &  & Float64 \\\\\n",
       "\t10 & Avg180 & -91.9066 & -122.07 & -99.21 & 17.55 &  &  & Float64 \\\\\n",
       "\\end{tabular}\n"
      ],
      "text/plain": [
       "10×8 DataFrame. Omitted printing of 2 columns\n",
       "│ Row │ variable  │ mean     │ min        │ median   │ max        │ nunique │\n",
       "│     │ \u001b[90mSymbol\u001b[39m    │ \u001b[90mUnion…\u001b[39m   │ \u001b[90mAny\u001b[39m        │ \u001b[90mUnion…\u001b[39m   │ \u001b[90mAny\u001b[39m        │ \u001b[90mUnion…\u001b[39m  │\n",
       "├─────┼───────────┼──────────┼────────────┼──────────┼────────────┼─────────┤\n",
       "│ 1   │ Rata_Die  │ 732133.0 │ 726469     │ 732133.0 │ 737797     │         │\n",
       "│ 2   │ Date      │          │ 1990-01-02 │          │ 2021-01-07 │ 11329   │\n",
       "│ 3   │ Original  │ 20.2588  │ 9.31       │ 18.03    │ 89.53      │         │\n",
       "│ 4   │ Quantized │ -93.1974 │ -128.0     │ -100.0   │ 127.0      │         │\n",
       "│ 5   │ Avg005    │ -93.1647 │ -127.2     │ -100.2   │ 115.6      │         │\n",
       "│ 6   │ Avg030    │ -92.9761 │ -125.13    │ -100.5   │ 69.8       │         │\n",
       "│ 7   │ Avg060    │ -92.7554 │ -124.17    │ -100.75  │ 63.62      │         │\n",
       "│ 8   │ Avg090    │ -92.5441 │ -123.27    │ -100.19  │ 43.81      │         │\n",
       "│ 9   │ Avg120    │ -92.3349 │ -123.59    │ -99.48   │ 30.68      │         │\n",
       "│ 10  │ Avg180    │ -91.9066 │ -122.07    │ -99.21   │ 17.55      │         │"
      ]
     },
     "execution_count": 15,
     "metadata": {},
     "output_type": "execute_result"
    }
   ],
   "source": [
    "## Always show\n",
    "using Statistics\n",
    "describe(df)"
   ]
  },
  {
   "cell_type": "markdown",
   "metadata": {},
   "source": [
    "### Write as CSV file"
   ]
  },
  {
   "cell_type": "code",
   "execution_count": 16,
   "metadata": {
    "ExecuteTime": {
     "end_time": "2020-12-09T17:36:37.859000-05:00",
     "start_time": "2020-12-09T22:36:11.497Z"
    }
   },
   "outputs": [
    {
     "name": "stdout",
     "output_type": "stream",
     "text": [
      "Finished and saved to ^VIX.csv\n"
     ]
    }
   ],
   "source": [
    "save_dataset(df, dataset_file_name, path_data_processed );\n",
    "println(\"Finished and saved to \", dataset_file_name)"
   ]
  },
  {
   "cell_type": "markdown",
   "metadata": {},
   "source": []
  }
 ],
 "metadata": {
  "kernelspec": {
   "display_name": "Julia 1.5.1",
   "language": "julia",
   "name": "julia-1.5"
  },
  "language_info": {
   "file_extension": ".jl",
   "mimetype": "application/julia",
   "name": "julia",
   "version": "1.5.1"
  },
  "toc": {
   "base_numbering": 1,
   "nav_menu": {},
   "number_sections": true,
   "sideBar": true,
   "skip_h1_title": true,
   "title_cell": "Table of Contents",
   "title_sidebar": "Contents",
   "toc_cell": true,
   "toc_position": {},
   "toc_section_display": true,
   "toc_window_display": true
  },
  "varInspector": {
   "cols": {
    "lenName": 16,
    "lenType": 16,
    "lenVar": 40
   },
   "kernels_config": {
    "python": {
     "delete_cmd_postfix": "",
     "delete_cmd_prefix": "del ",
     "library": "var_list.py",
     "varRefreshCmd": "print(var_dic_list())"
    },
    "r": {
     "delete_cmd_postfix": ") ",
     "delete_cmd_prefix": "rm(",
     "library": "var_list.r",
     "varRefreshCmd": "cat(var_dic_list()) "
    }
   },
   "types_to_exclude": [
    "module",
    "function",
    "builtin_function_or_method",
    "instance",
    "_Feature"
   ],
   "window_display": false
  }
 },
 "nbformat": 4,
 "nbformat_minor": 4
}
