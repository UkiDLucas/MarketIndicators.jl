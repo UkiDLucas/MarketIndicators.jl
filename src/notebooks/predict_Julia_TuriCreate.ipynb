{
 "cells": [
  {
   "cell_type": "markdown",
   "metadata": {},
   "source": [
    "# Prediction Model using TuriCreate in Julia"
   ]
  },
  {
   "cell_type": "markdown",
   "metadata": {
    "toc": true
   },
   "source": [
    "<h1>Table of Contents<span class=\"tocSkip\"></span></h1>\n",
    "<div class=\"toc\"><ul class=\"toc-item\"><li><span><a href=\"#Set-Up\" data-toc-modified-id=\"Set-Up-1\"><span class=\"toc-item-num\">1&nbsp;&nbsp;</span>Set Up</a></span></li><li><span><a href=\"#Fetch-Data-(SFrame)-from-Uber-CSV\" data-toc-modified-id=\"Fetch-Data-(SFrame)-from-Uber-CSV-2\"><span class=\"toc-item-num\">2&nbsp;&nbsp;</span>Fetch Data (SFrame) from Uber CSV</a></span></li><li><span><a href=\"#Split-Data\" data-toc-modified-id=\"Split-Data-3\"><span class=\"toc-item-num\">3&nbsp;&nbsp;</span>Split Data</a></span></li><li><span><a href=\"#Evaluate-the-Model\" data-toc-modified-id=\"Evaluate-the-Model-4\"><span class=\"toc-item-num\">4&nbsp;&nbsp;</span>Evaluate the Model</a></span></li><li><span><a href=\"#Save-/-Export-the-Model\" data-toc-modified-id=\"Save-/-Export-the-Model-5\"><span class=\"toc-item-num\">5&nbsp;&nbsp;</span>Save / Export the Model</a></span></li><li><span><a href=\"#Make-predictions\" data-toc-modified-id=\"Make-predictions-6\"><span class=\"toc-item-num\">6&nbsp;&nbsp;</span>Make predictions</a></span><ul class=\"toc-item\"><li><span><a href=\"#Explore-SFrame\" data-toc-modified-id=\"Explore-SFrame-6.1\"><span class=\"toc-item-num\">6.1&nbsp;&nbsp;</span>Explore SFrame</a></span></li></ul></li></ul></div>"
   ]
  },
  {
   "cell_type": "markdown",
   "metadata": {},
   "source": [
    "## Set Up"
   ]
  },
  {
   "cell_type": "code",
   "execution_count": 1,
   "metadata": {
    "ExecuteTime": {
     "end_time": "2020-12-11T21:08:32.999000-05:00",
     "start_time": "2020-12-12T02:08:32.142Z"
    }
   },
   "outputs": [
    {
     "name": "stdout",
     "output_type": "stream",
     "text": [
      "\n"
     ]
    }
   ],
   "source": [
    "symbol_to_predict = \"DJIA\"\n",
    "symbol_to_predict = \"AAPL\"\n",
    "symbol_to_predict = \"VIX\"\n",
    "symbol_to_predict = \"NVDA\"\n",
    "\n",
    "features_to_analyze = \n",
    "[\n",
    "  \n",
    "\"GSPC_Avg005\"\n",
    ",\"GSPC_Avg010\"\n",
    ",\"GSPC_Avg030\"\n",
    ",\"GSPC_Avg060\"\n",
    ",\"GSPC_Avg090\"\n",
    ",\"GSPC_Avg120\"\n",
    ",\"GSPC_Avg180\"\n",
    "  \n",
    ",\"BTC_USD_Avg005\"\n",
    ",\"BTC_USD_Avg010\"\n",
    ",\"BTC_USD_Avg030\"\n",
    ",\"BTC_USD_Avg060\"\n",
    ",\"BTC_USD_Avg090\"\n",
    ",\"BTC_USD_Avg120\"\n",
    ",\"BTC_USD_Avg180\"\n",
    "  \n",
    ",\"DALLAS_FED_MFC_Avg005\"\n",
    ",\"DALLAS_FED_MFC_Avg010\"\n",
    ",\"DALLAS_FED_MFC_Avg030\"\n",
    ",\"DALLAS_FED_MFC_Avg060\"\n",
    ",\"DALLAS_FED_MFC_Avg090\"\n",
    ",\"DALLAS_FED_MFC_Avg120\"\n",
    ",\"DALLAS_FED_MFC_Avg180\"\n",
    "  \n",
    ",\"GOLD_Avg005\"\n",
    ",\"GOLD_Avg010\"\n",
    ",\"GOLD_Avg030\"\n",
    ",\"GOLD_Avg060\"\n",
    ",\"GOLD_Avg090\"\n",
    ",\"GOLD_Avg120\"\n",
    ",\"GOLD_Avg180\"\n",
    "  \n",
    ",\"GELYF_Avg005\"\n",
    ",\"GELYF_Avg010\"\n",
    ",\"GELYF_Avg030\"\n",
    ",\"GELYF_Avg060\"\n",
    ",\"GELYF_Avg090\"\n",
    ",\"GELYF_Avg120\"\n",
    ",\"GELYF_Avg180\"\n",
    "  \n",
    ",\"US_PEND_HOME_SALE_M_Avg005\"\n",
    ",\"US_PEND_HOME_SALE_M_Avg010\"\n",
    ",\"US_PEND_HOME_SALE_M_Avg030\"\n",
    ",\"US_PEND_HOME_SALE_M_Avg060\"\n",
    ",\"US_PEND_HOME_SALE_M_Avg090\"\n",
    ",\"US_PEND_HOME_SALE_M_Avg120\"\n",
    ",\"US_PEND_HOME_SALE_M_Avg180\"\n",
    "  \n",
    ",\"TNX_Avg005\"\n",
    ",\"TNX_Avg010\"\n",
    ",\"TNX_Avg030\"\n",
    ",\"TNX_Avg060\"\n",
    ",\"TNX_Avg090\"\n",
    ",\"TNX_Avg120\"\n",
    ",\"TNX_Avg180\"\n",
    "  \n",
    ",\"TSLA_Avg005\"\n",
    ",\"TSLA_Avg010\"\n",
    ",\"TSLA_Avg030\"\n",
    ",\"TSLA_Avg060\"\n",
    ",\"TSLA_Avg090\"\n",
    ",\"TSLA_Avg120\"\n",
    ",\"TSLA_Avg180\"\n",
    "  \n",
    ",\"US_BUILD_PERM_Avg005\"\n",
    ",\"US_BUILD_PERM_Avg010\"\n",
    ",\"US_BUILD_PERM_Avg030\"\n",
    ",\"US_BUILD_PERM_Avg060\"\n",
    ",\"US_BUILD_PERM_Avg090\"\n",
    ",\"US_BUILD_PERM_Avg120\"\n",
    ",\"US_BUILD_PERM_Avg180\"\n",
    "  \n",
    ",\"BYDDF_Avg005\"\n",
    ",\"BYDDF_Avg010\"\n",
    ",\"BYDDF_Avg030\"\n",
    ",\"BYDDF_Avg060\"\n",
    ",\"BYDDF_Avg090\"\n",
    ",\"BYDDF_Avg120\"\n",
    ",\"BYDDF_Avg180\"\n",
    "  \n",
    ",\"US_INDS_PROD_M_Avg005\"\n",
    ",\"US_INDS_PROD_M_Avg010\"\n",
    ",\"US_INDS_PROD_M_Avg030\"\n",
    ",\"US_INDS_PROD_M_Avg060\"\n",
    ",\"US_INDS_PROD_M_Avg090\"\n",
    ",\"US_INDS_PROD_M_Avg120\"\n",
    ",\"US_INDS_PROD_M_Avg180\"\n",
    "  \n",
    ",\"US_ISM_MFC_EMPL_Avg005\"\n",
    ",\"US_ISM_MFC_EMPL_Avg010\"\n",
    ",\"US_ISM_MFC_EMPL_Avg030\"\n",
    ",\"US_ISM_MFC_EMPL_Avg060\"\n",
    ",\"US_ISM_MFC_EMPL_Avg090\"\n",
    ",\"US_ISM_MFC_EMPL_Avg120\"\n",
    ",\"US_ISM_MFC_EMPL_Avg180\"\n",
    "  \n",
    ",\"US_INIT_JOB_CLAIM_Avg005\"\n",
    ",\"US_INIT_JOB_CLAIM_Avg010\"\n",
    ",\"US_INIT_JOB_CLAIM_Avg030\"\n",
    ",\"US_INIT_JOB_CLAIM_Avg060\"\n",
    ",\"US_INIT_JOB_CLAIM_Avg090\"\n",
    ",\"US_INIT_JOB_CLAIM_Avg120\"\n",
    ",\"US_INIT_JOB_CLAIM_Avg180\"\n",
    "  \n",
    ",\"US_UNEMPLOY_RATE_Avg005\"\n",
    ",\"US_UNEMPLOY_RATE_Avg010\"\n",
    ",\"US_UNEMPLOY_RATE_Avg030\"\n",
    ",\"US_UNEMPLOY_RATE_Avg060\"\n",
    ",\"US_UNEMPLOY_RATE_Avg090\"\n",
    ",\"US_UNEMPLOY_RATE_Avg120\"\n",
    ",\"US_UNEMPLOY_RATE_Avg180\"\n",
    "  \n",
    ",\"NVDA_Avg005\"\n",
    ",\"NVDA_Avg010\"\n",
    ",\"NVDA_Avg030\"\n",
    ",\"NVDA_Avg060\"\n",
    ",\"NVDA_Avg090\"\n",
    ",\"NVDA_Avg120\"\n",
    ",\"NVDA_Avg180\"\n",
    "  \n",
    ",\"NRMGX_Avg005\"\n",
    ",\"NRMGX_Avg010\"\n",
    ",\"NRMGX_Avg030\"\n",
    ",\"NRMGX_Avg060\"\n",
    ",\"NRMGX_Avg090\"\n",
    ",\"NRMGX_Avg120\"\n",
    ",\"NRMGX_Avg180\"\n",
    "  \n",
    ",\"US_HOUS_STRS_M_Avg005\"\n",
    ",\"US_HOUS_STRS_M_Avg010\"\n",
    ",\"US_HOUS_STRS_M_Avg030\"\n",
    ",\"US_HOUS_STRS_M_Avg060\"\n",
    ",\"US_HOUS_STRS_M_Avg090\"\n",
    ",\"US_HOUS_STRS_M_Avg120\"\n",
    ",\"US_HOUS_STRS_M_Avg180\"\n",
    "  \n",
    ",\"HD_Avg005\"\n",
    ",\"HD_Avg010\"\n",
    ",\"HD_Avg030\"\n",
    ",\"HD_Avg060\"\n",
    ",\"HD_Avg090\"\n",
    ",\"HD_Avg120\"\n",
    ",\"HD_Avg180\"\n",
    "  \n",
    ",\"US_GDP_Q_Avg005\"\n",
    ",\"US_GDP_Q_Avg010\"\n",
    ",\"US_GDP_Q_Avg030\"\n",
    ",\"US_GDP_Q_Avg060\"\n",
    ",\"US_GDP_Q_Avg090\"\n",
    ",\"US_GDP_Q_Avg120\"\n",
    ",\"US_GDP_Q_Avg180\"\n",
    "  \n",
    ",\"VIX_Avg005\"\n",
    ",\"VIX_Avg010\"\n",
    ",\"VIX_Avg030\"\n",
    ",\"VIX_Avg060\"\n",
    ",\"VIX_Avg090\"\n",
    ",\"VIX_Avg120\"\n",
    ",\"VIX_Avg180\"\n",
    "  \n",
    ",\"TPLGX_Avg005\"\n",
    ",\"TPLGX_Avg010\"\n",
    ",\"TPLGX_Avg030\"\n",
    ",\"TPLGX_Avg060\"\n",
    ",\"TPLGX_Avg090\"\n",
    ",\"TPLGX_Avg120\"\n",
    ",\"TPLGX_Avg180\"\n",
    "  \n",
    ",\"US_ISM_MFC_PMI_Avg005\"\n",
    ",\"US_ISM_MFC_PMI_Avg010\"\n",
    ",\"US_ISM_MFC_PMI_Avg030\"\n",
    ",\"US_ISM_MFC_PMI_Avg060\"\n",
    ",\"US_ISM_MFC_PMI_Avg090\"\n",
    ",\"US_ISM_MFC_PMI_Avg120\"\n",
    ",\"US_ISM_MFC_PMI_Avg180\"\n",
    "  \n",
    ",\"VINIX_Avg005\"\n",
    ",\"VINIX_Avg010\"\n",
    ",\"VINIX_Avg030\"\n",
    ",\"VINIX_Avg060\"\n",
    ",\"VINIX_Avg090\"\n",
    ",\"VINIX_Avg120\"\n",
    ",\"VINIX_Avg180\"\n",
    "  \n",
    ",\"VBTLX_Avg005\"\n",
    ",\"VBTLX_Avg010\"\n",
    ",\"VBTLX_Avg030\"\n",
    ",\"VBTLX_Avg060\"\n",
    ",\"VBTLX_Avg090\"\n",
    ",\"VBTLX_Avg120\"\n",
    ",\"VBTLX_Avg180\"\n",
    "  \n",
    ",\"RERGX_Avg005\"\n",
    ",\"RERGX_Avg010\"\n",
    ",\"RERGX_Avg030\"\n",
    ",\"RERGX_Avg060\"\n",
    ",\"RERGX_Avg090\"\n",
    ",\"RERGX_Avg120\"\n",
    ",\"RERGX_Avg180\"\n",
    "  \n",
    ",\"CRSP_Avg005\"\n",
    ",\"CRSP_Avg010\"\n",
    ",\"CRSP_Avg030\"\n",
    ",\"CRSP_Avg060\"\n",
    ",\"CRSP_Avg090\"\n",
    ",\"CRSP_Avg120\"\n",
    ",\"CRSP_Avg180\"\n",
    "  \n",
    ",\"BABA_Avg005\"\n",
    ",\"BABA_Avg010\"\n",
    ",\"BABA_Avg030\"\n",
    ",\"BABA_Avg060\"\n",
    ",\"BABA_Avg090\"\n",
    ",\"BABA_Avg120\"\n",
    ",\"BABA_Avg180\"\n",
    "  \n",
    ",\"DJIA_Avg005\"\n",
    ",\"DJIA_Avg010\"\n",
    ",\"DJIA_Avg030\"\n",
    ",\"DJIA_Avg060\"\n",
    ",\"DJIA_Avg090\"\n",
    ",\"DJIA_Avg120\"\n",
    ",\"DJIA_Avg180\"\n",
    "  \n",
    ",\"AAPL_Avg005\"\n",
    ",\"AAPL_Avg010\"\n",
    ",\"AAPL_Avg030\"\n",
    ",\"AAPL_Avg060\"\n",
    ",\"AAPL_Avg090\"\n",
    ",\"AAPL_Avg120\"\n",
    ",\"AAPL_Avg180\"\n",
    "     \n",
    "]\n",
    "\n",
    "println()"
   ]
  },
  {
   "cell_type": "code",
   "execution_count": 2,
   "metadata": {
    "ExecuteTime": {
     "end_time": "2020-12-11T21:08:38.047000-05:00",
     "start_time": "2020-12-12T02:08:32.146Z"
    }
   },
   "outputs": [
    {
     "name": "stdout",
     "output_type": "stream",
     "text": [
      "\n"
     ]
    },
    {
     "data": {
      "text/plain": [
       "\"NVDA_Original\""
      ]
     },
     "execution_count": 2,
     "metadata": {},
     "output_type": "execute_result"
    }
   ],
   "source": [
    "## uncomment for the first run\n",
    "# import Pkg\n",
    "# Pkg.add(\"PyCall\")\n",
    "# Pkg.add(\"Conda\")\n",
    "# ENV[\"PYTHON\"] = \"/opt/anaconda3/envs/turi/bin/python\"\n",
    "# /opt/anaconda3/envs/turi/lib/python3.6/site-packages/\n",
    "# Pkg.build(\"PyCall\")\n",
    "\n",
    "include(\"../Julia/functions.jl\") \n",
    "data_path=\"../DATA/processed/uber_training.csv\"\n",
    "column_to_predict = symbol_to_predict * \"_Original\""
   ]
  },
  {
   "cell_type": "markdown",
   "metadata": {},
   "source": [
    "## Fetch Data (SFrame) from Uber CSV"
   ]
  },
  {
   "cell_type": "code",
   "execution_count": 3,
   "metadata": {
    "ExecuteTime": {
     "end_time": "2020-12-11T21:08:42.638000-05:00",
     "start_time": "2020-12-12T02:08:32.152Z"
    }
   },
   "outputs": [
    {
     "name": "stdout",
     "output_type": "stream",
     "text": [
      "Finished parsing file /Users/uki/REPOS/MarketIndicators.jl/src/DATA/processed/uber_training.csv\n",
      "Parsing completed. Parsed 100 lines in 0.034405 secs.\n",
      "------------------------------------------------------\n",
      "Inferred types from first 100 line(s) of file as \n",
      "column_type_hints=[int,str,float,float,float,float,float,float,float,float,float,float,float,float,float,float,float,float,float,float,float,float,float,float,float,float,float,float,float,float,float,float,float,float,float,float,float,float,float,float,float,float,float,float,float,float,float,float,float,float,float,float,float,float,float,float,float,float,float,float,float,float,float,float,float,float,float,float,float,float,float,float,float,float,float,float,float,float,float,float,float,float,float,float,float,float,float,float,float,float,float,float,float,float,float,float,float,float,float,float,float,float,float,float,float,float,float,float,float,float,float,float,float,float,float,float,float,float,float,float,float,float,float,float,float,float,float,float,float,float,float,float,float,float,float,float,float,float,float,float,float,float,float,float,float,float,float,float,float,float,float,float,float,float,float,float,float,float,float,float,float,float,float,float,float,float,float,float,float,float,float,float,float,float,float,float,float,float,float,float,float,float,float,float,float,float,float,float,float,float,float,float,float,float,float,float,float,float,float,float,float,float,float,float,float,float,float,float,float,float,float,float,float,float,float,float,float,float,float,float,float,float,float,float,float,float,float,float,float,float,float,float,float,float,float,float,float,float,float,float,float,float,float,float,float,float,float,float,float,float,float,float,float,float,float,float,float,float,float,float,float,float,float]\n",
      "If parsing fails due to incorrect types, you can correct\n",
      "the inferred type list above and pass it to read_csv in\n",
      "the column_type_hints argument\n",
      "------------------------------------------------------\n",
      "Finished parsing file /Users/uki/REPOS/MarketIndicators.jl/src/DATA/processed/uber_training.csv\n",
      "Parsing completed. Parsed 452 lines in 0.015053 secs.\n",
      "\n"
     ]
    }
   ],
   "source": [
    "using PyCall\n",
    "tc = pyimport(\"turicreate\")\n",
    "data = tc.SFrame(data_path)\n",
    "println()"
   ]
  },
  {
   "cell_type": "markdown",
   "metadata": {},
   "source": [
    "## Split Data"
   ]
  },
  {
   "cell_type": "code",
   "execution_count": 4,
   "metadata": {
    "ExecuteTime": {
     "end_time": "2020-12-11T21:08:43.279000-05:00",
     "start_time": "2020-12-12T02:08:32.157Z"
    }
   },
   "outputs": [
    {
     "name": "stdout",
     "output_type": "stream",
     "text": [
      "(356,)\n",
      "(96,)\n"
     ]
    }
   ],
   "source": [
    "# Make a train-test split\n",
    "train_data, test_data = data.random_split(0.8)\n",
    "\n",
    "println( size(train_data) )\n",
    "println( size(test_data)  )"
   ]
  },
  {
   "cell_type": "code",
   "execution_count": 5,
   "metadata": {
    "ExecuteTime": {
     "end_time": "2020-12-11T21:08:45.908000-05:00",
     "start_time": "2020-12-12T02:08:32.162Z"
    }
   },
   "outputs": [
    {
     "name": "stdout",
     "output_type": "stream",
     "text": [
      "Automatically generating validation set from 5% of the data.\n",
      "Linear regression:\n",
      "--------------------------------------------------------\n",
      "Number of examples          : 332\n",
      "Number of features          : 203\n",
      "Number of unpacked features : 203\n",
      "Number of coefficients    : 204\n",
      "Starting Newton Method\n",
      "--------------------------------------------------------\n",
      "+-----------+----------+--------------+--------------------+----------------------+---------------------------------+-----------------------------------+\n",
      "| Iteration | Passes   | Elapsed Time | Training Max Error | Validation Max Error | Training Root-Mean-Square Error | Validation Root-Mean-Square Error |\n",
      "+-----------+----------+--------------+--------------------+----------------------+---------------------------------+-----------------------------------+\n",
      "| 1         | 2        | 1.036838     | 28.233076          | 10.898875            | 5.090752                        | 5.088959                          |\n",
      "+-----------+----------+--------------+--------------------+----------------------+---------------------------------+-----------------------------------+\n",
      "SUCCESS: Optimal solution found.\n",
      "\n"
     ]
    },
    {
     "data": {
      "text/plain": [
       "PyObject Class                          : LinearRegression\n",
       "\n",
       "Schema\n",
       "------\n",
       "Number of coefficients         : 204\n",
       "Number of examples             : 332\n",
       "Number of feature columns      : 203\n",
       "Number of unpacked features    : 203\n",
       "\n",
       "Hyperparameters\n",
       "---------------\n",
       "L1 penalty                     : 0\n",
       "L2 penalty                     : 0.01\n",
       "\n",
       "Training Summary\n",
       "----------------\n",
       "Solver                         : newton\n",
       "Solver iterations              : 1\n",
       "Solver status                  : SUCCESS: Optimal solution found.\n",
       "Training time (sec)            : 1.048\n",
       "\n",
       "Settings\n",
       "--------\n",
       "Residual sum of squares        : 8604.0307\n",
       "Training RMSE                  : 5.0908\n",
       "\n",
       "Highest Positive Coefficients\n",
       "-----------------------------\n",
       "(intercept)                    : 479.7383\n",
       "GELYF_Avg180                   : 4.642\n",
       "US_PEND_HOME_SALE_M_Avg120     : 2.6053\n",
       "AAPL_Avg010                    : 2.2152\n",
       "US_ISM_MFC_PMI_Avg030          : 1.7981\n",
       "\n",
       "Lowest Negative Coefficients\n",
       "----------------------------\n",
       "US_HOUS_STRS_M_Avg180          : -1.5564\n",
       "GELYF_Avg090                   : -1.4217\n",
       "US_ISM_MFC_EMPL_Avg120         : -1.0571\n",
       "US_PEND_HOME_SALE_M_Avg060     : -1.0423\n",
       "DJIA_Avg005                    : -1.041\n"
      ]
     },
     "execution_count": 5,
     "metadata": {},
     "output_type": "execute_result"
    }
   ],
   "source": [
    "model = tc.regression.create( \n",
    "    train_data, \n",
    "    target = column_to_predict, \n",
    "    features = features_to_analyze, \n",
    "    validation_set=\"auto\", \n",
    "    verbose=true\n",
    ")"
   ]
  },
  {
   "cell_type": "markdown",
   "metadata": {},
   "source": [
    "## Evaluate the Model"
   ]
  },
  {
   "cell_type": "code",
   "execution_count": 6,
   "metadata": {
    "ExecuteTime": {
     "end_time": "2020-12-11T21:08:47.188000-05:00",
     "start_time": "2020-12-12T02:08:32.170Z"
    }
   },
   "outputs": [
    {
     "data": {
      "text/plain": [
       "Dict{Any,Any} with 2 entries:\n",
       "  \"rmse\"      => 6.26262\n",
       "  \"max_error\" => 24.6466"
      ]
     },
     "execution_count": 6,
     "metadata": {},
     "output_type": "execute_result"
    }
   ],
   "source": [
    "#TODO: write this in a loop to select the best model\n",
    "# Evaluate the model and save the results into a dictionary\n",
    "results = model.evaluate( test_data ) #test_data[0:2531]\n",
    "results"
   ]
  },
  {
   "cell_type": "code",
   "execution_count": 7,
   "metadata": {
    "ExecuteTime": {
     "end_time": "2020-12-11T21:08:47.362000-05:00",
     "start_time": "2020-12-12T02:08:32.174Z"
    }
   },
   "outputs": [
    {
     "name": "stdout",
     "output_type": "stream",
     "text": [
      "max_error: 24.65, rmse: 6.26\n"
     ]
    }
   ],
   "source": [
    "rmse = results[\"rmse\"]\n",
    "rmse = round(rmse, digits=2)\n",
    "\n",
    "max_error = results[\"max_error\"]\n",
    "max_error = round(max_error, digits=2)\n",
    "\n",
    "println( \"max_error: \", max_error, \", rmse: \", rmse )\n",
    "# max_error: 1069.27, rmse: 184.6\n",
    "# max_error: 65.35, rmse: 32.6            predict: ^DJIA added: US_INIT_JOBLESS\n",
    "# max_error: 1875.39, rmse: 443.59        predict: ^DJIA commented out: \"DJIA_Quantized\"\n",
    "# max_error: 1339.76, rmse: 373.94        predict: ^DJIA commented out: \"DJIA_Quantized\"\n",
    "# max_error: 916.19, rmse: 231.24       predict: ^DJIA with \"DJIA_Avg005\""
   ]
  },
  {
   "cell_type": "markdown",
   "metadata": {},
   "source": [
    "## Save / Export the Model"
   ]
  },
  {
   "cell_type": "code",
   "execution_count": 8,
   "metadata": {
    "ExecuteTime": {
     "end_time": "2020-12-11T21:08:47.390000-05:00",
     "start_time": "2020-12-12T02:08:32.181Z"
    }
   },
   "outputs": [],
   "source": [
    "# Export to Core ML\n",
    "model.export_coreml(\"../DATA/models/^DJI.mlmodel\")"
   ]
  },
  {
   "cell_type": "markdown",
   "metadata": {},
   "source": [
    "## Make predictions "
   ]
  },
  {
   "cell_type": "code",
   "execution_count": 9,
   "metadata": {
    "ExecuteTime": {
     "end_time": "2020-12-11T21:08:47.605000-05:00",
     "start_time": "2020-12-12T02:08:32.185Z"
    }
   },
   "outputs": [
    {
     "name": "stdout",
     "output_type": "stream",
     "text": [
      "Finished parsing file /Users/uki/REPOS/MarketIndicators.jl/src/DATA/processed/uber_prediction.csv\n",
      "Parsing completed. Parsed 95 lines in 0.042823 secs.\n",
      "------------------------------------------------------\n",
      "Inferred types from first 100 line(s) of file as \n",
      "column_type_hints=[int,str,float,float,float,float,float,float,float,float,float,float,float,float,float,float,float,float,float,float,float,float,float,float,float,float,float,float,float,float,float,float,float,float,float,float,float,float,float,float,float,float,float,float,float,float,float,float,float,float,float,float,float,float,float,float,float,float,float,float,float,float,float,float,float,float,float,float,float,float,float,float,float,float,float,float,float,float,float,float,float,float,float,float,float,float,float,float,float,float,float,float,float,float,float,float,float,float,float,float,float,float,float,float,float,float,float,float,float,float,float,float,float,float,float,float,float,float,float,float,float,float,float,float,float,float,float,float,float,float,float,float,float,float,float,float,float,float,float,float,float,float,float,float,float,float,float,float,float,float,float,float,float,float,float,float,float,float,float,float,float,float,float,float,float,float,float,float,float,float,float,float,float,float,float,float,float,float,float,float,float,float,float,float,float,float,float,float,float,float,float,float,float,float,float,float,float,float,float,float,float,float,float,float,float,float,float,float,float,float,float,float,float,float,float,float,float,float,float,float,float,float,float,float,float,float,float,float,float,float,float,float,float,float,float,float,float,float,float,float,float,float,float,float,float,float,float,float,float,float,float,float,float,float,float,float,float,float,float,float,float,float,float]\n",
      "If parsing fails due to incorrect types, you can correct\n",
      "the inferred type list above and pass it to read_csv in\n",
      "the column_type_hints argument\n",
      "------------------------------------------------------\n",
      "Finished parsing file /Users/uki/REPOS/MarketIndicators.jl/src/DATA/processed/uber_prediction.csv\n",
      "Parsing completed. Parsed 95 lines in 0.007812 secs.\n",
      "\n"
     ]
    }
   ],
   "source": [
    "data_path=\"../DATA/processed/uber_prediction.csv\"\n",
    "data_predictions = tc.SFrame(data_path)\n",
    "\n",
    "## Save predictions to an SArray\n",
    "predictions = model.predict(data_predictions)\n",
    "#get(predictions, 1)\n",
    "\n",
    "println()"
   ]
  },
  {
   "cell_type": "markdown",
   "metadata": {},
   "source": [
    "### Explore SFrame"
   ]
  },
  {
   "cell_type": "code",
   "execution_count": 10,
   "metadata": {
    "ExecuteTime": {
     "end_time": "2020-12-11T21:08:47.812000-05:00",
     "start_time": "2020-12-12T02:08:32.189Z"
    }
   },
   "outputs": [
    {
     "name": "stdout",
     "output_type": "stream",
     "text": [
      "record_count data 95\n",
      "record_count predictions 95\n",
      "feature_number 263\n",
      "Rata Die 737774\n",
      "date 2020-12-15\n",
      "original 30071.130859\n"
     ]
    }
   ],
   "source": [
    "record_count = size(data_predictions)[1]\n",
    "row = get(data_predictions, record_count-1)\n",
    "\n",
    "feature_number = row.count\n",
    "day = row[\"Rata_Die\"]\n",
    "date = row[\"Date\"] # \"2020-10-20\"\n",
    "original = row[\"DJIA_Original\"]\n",
    "\n",
    "println( \"record_count data \", record_count )\n",
    "println( \"record_count predictions \", size(predictions)[1] )\n",
    "\n",
    "println( \"feature_number \", feature_number )\n",
    "println( \"Rata Die \", day )\n",
    "println( \"date \", date )\n",
    "println( \"original \", original )"
   ]
  },
  {
   "cell_type": "code",
   "execution_count": 11,
   "metadata": {
    "ExecuteTime": {
     "end_time": "2020-12-11T21:08:50.855000-05:00",
     "start_time": "2020-12-12T02:08:32.193Z"
    }
   },
   "outputs": [
    {
     "name": "stdout",
     "output_type": "stream",
     "text": [
      "preditions set size: 94, step 5\n",
      "NVDA 94 Array{Date,1}\n",
      "t = Dec. 11, 2020 - String\n",
      "\n"
     ]
    }
   ],
   "source": [
    "using Dates\n",
    "today_rata = Dates.datetime2rata( today() )\n",
    "\n",
    "## Determine dataset size\n",
    "\n",
    "initio = 1                                              # latin: start\n",
    "finem  = size(predictions)[1] -1                        # latin: end\n",
    "gradus = convert(Int64, round( finem/20, digits=0)  )   # latin: step\n",
    "\n",
    "println(\"preditions set size: \", finem, \", step \", gradus)\n",
    "\n",
    "\n",
    "## Declare variables\n",
    "x_axis_dates      = Vector{Date}() # results in Array{Date,1}\n",
    "y_axis_original   = Vector{Float64}()\n",
    "y_axis_predicted  = Vector{Float64}()\n",
    "\n",
    "println(symbol_to_predict, \" \", finem, \" \", typeof(x_axis_dates))\n",
    "\n",
    "today_id  = 50 # not set yet\n",
    "\n",
    "## step thru each prediction\n",
    "for id in initio:finem\n",
    "    row = get(data_predictions, id) # get a dictionary of data from the SFrame\n",
    "    \n",
    "    date_string = row[\"Date\"] # e.g. \"2020-10-20\"\n",
    "    date = Date(date_string) # 2020-09-07 Date\n",
    "    if date == today()\n",
    "        today_id = id\n",
    "    end \n",
    "    #date = Dates.format(date, \"u.d,yy\" )\n",
    "    #println(\"date \", date, \" \", typeof(date))\n",
    "    push!(x_axis_dates, date)\n",
    "    \n",
    "    predicted = get(predictions, id) # Float64\n",
    "    predicted = round(predicted, digits=0)\n",
    "    #println(\"predicted \", predicted, \" \", typeof(predicted))\n",
    "    append!(y_axis_predicted, predicted)\n",
    "    \n",
    "    \n",
    "    original = row[ column_to_predict ]\n",
    "    original = round(original, digits=0) # Float64\n",
    "    #println(\"original \", original, \" \", typeof(original)) \n",
    "    append!(y_axis_original, original)\n",
    "end\n",
    "\n",
    "## Format Dates for plotting\n",
    "include(\"../Julia/function_format_dates.jl\")\n",
    "x_axis_dates = format_dates(x_axis_dates, \"u. d, yy \")\n",
    "\n",
    "\n",
    "\n",
    "t = today()# Date\n",
    "t = format_dates([t], \"u. d, yyyy\") # Array{String,1}\n",
    "t = t[1] # String\n",
    "println(\"t = \", t, \" - \", typeof(t))\n",
    "\n",
    "println()"
   ]
  },
  {
   "cell_type": "code",
   "execution_count": 12,
   "metadata": {
    "ExecuteTime": {
     "end_time": "2020-12-11T21:09:39.259000-05:00",
     "start_time": "2020-12-12T02:08:32.199Z"
    }
   },
   "outputs": [
    {
     "data": {
      "image/svg+xml": [
       "<?xml version=\"1.0\" encoding=\"utf-8\"?>\n",
       "<svg xmlns=\"http://www.w3.org/2000/svg\" xmlns:xlink=\"http://www.w3.org/1999/xlink\" width=\"980\" height=\"400\" viewBox=\"0 0 3920 1600\">\n",
       "<defs>\n",
       "  <clipPath id=\"clip5900\">\n",
       "    <rect x=\"0\" y=\"0\" width=\"3920\" height=\"1600\"/>\n",
       "  </clipPath>\n",
       "</defs>\n",
       "<path clip-path=\"url(#clip5900)\" d=\"\n",
       "M0 1600 L3920 1600 L3920 0 L0 0  Z\n",
       "  \" fill=\"#ffffff\" fill-rule=\"evenodd\" fill-opacity=\"1\"/>\n",
       "<defs>\n",
       "  <clipPath id=\"clip5901\">\n",
       "    <rect x=\"784\" y=\"0\" width=\"2745\" height=\"1600\"/>\n",
       "  </clipPath>\n",
       "</defs>\n",
       "<path clip-path=\"url(#clip5900)\" d=\"\n",
       "M227.575 1423.18 L3872.76 1423.18 L3872.76 47.2441 L227.575 47.2441  Z\n",
       "  \" fill=\"#ffffff\" fill-rule=\"evenodd\" fill-opacity=\"1\"/>\n",
       "<defs>\n",
       "  <clipPath id=\"clip5902\">\n",
       "    <rect x=\"227\" y=\"47\" width=\"3646\" height=\"1377\"/>\n",
       "  </clipPath>\n",
       "</defs>\n",
       "<polyline clip-path=\"url(#clip5902)\" style=\"stroke:#000000; stroke-width:2; stroke-opacity:0.1; fill:none\" points=\"\n",
       "  330.74,1423.18 330.74,47.2441 \n",
       "  \"/>\n",
       "<polyline clip-path=\"url(#clip5902)\" style=\"stroke:#000000; stroke-width:2; stroke-opacity:0.1; fill:none\" points=\"\n",
       "  589.578,1423.18 589.578,47.2441 \n",
       "  \"/>\n",
       "<polyline clip-path=\"url(#clip5902)\" style=\"stroke:#000000; stroke-width:2; stroke-opacity:0.1; fill:none\" points=\"\n",
       "  811.44,1423.18 811.44,47.2441 \n",
       "  \"/>\n",
       "<polyline clip-path=\"url(#clip5902)\" style=\"stroke:#000000; stroke-width:2; stroke-opacity:0.1; fill:none\" points=\"\n",
       "  1070.28,1423.18 1070.28,47.2441 \n",
       "  \"/>\n",
       "<polyline clip-path=\"url(#clip5902)\" style=\"stroke:#000000; stroke-width:2; stroke-opacity:0.1; fill:none\" points=\"\n",
       "  1329.12,1423.18 1329.12,47.2441 \n",
       "  \"/>\n",
       "<polyline clip-path=\"url(#clip5902)\" style=\"stroke:#000000; stroke-width:2; stroke-opacity:0.1; fill:none\" points=\"\n",
       "  1550.98,1423.18 1550.98,47.2441 \n",
       "  \"/>\n",
       "<polyline clip-path=\"url(#clip5902)\" style=\"stroke:#000000; stroke-width:2; stroke-opacity:0.1; fill:none\" points=\"\n",
       "  1809.82,1423.18 1809.82,47.2441 \n",
       "  \"/>\n",
       "<polyline clip-path=\"url(#clip5902)\" style=\"stroke:#000000; stroke-width:2; stroke-opacity:0.1; fill:none\" points=\"\n",
       "  2068.65,1423.18 2068.65,47.2441 \n",
       "  \"/>\n",
       "<polyline clip-path=\"url(#clip5902)\" style=\"stroke:#000000; stroke-width:2; stroke-opacity:0.1; fill:none\" points=\"\n",
       "  2290.51,1423.18 2290.51,47.2441 \n",
       "  \"/>\n",
       "<polyline clip-path=\"url(#clip5902)\" style=\"stroke:#000000; stroke-width:2; stroke-opacity:0.1; fill:none\" points=\"\n",
       "  2549.35,1423.18 2549.35,47.2441 \n",
       "  \"/>\n",
       "<polyline clip-path=\"url(#clip5902)\" style=\"stroke:#000000; stroke-width:2; stroke-opacity:0.1; fill:none\" points=\"\n",
       "  2771.21,1423.18 2771.21,47.2441 \n",
       "  \"/>\n",
       "<polyline clip-path=\"url(#clip5902)\" style=\"stroke:#000000; stroke-width:2; stroke-opacity:0.1; fill:none\" points=\"\n",
       "  3030.05,1423.18 3030.05,47.2441 \n",
       "  \"/>\n",
       "<polyline clip-path=\"url(#clip5902)\" style=\"stroke:#000000; stroke-width:2; stroke-opacity:0.1; fill:none\" points=\"\n",
       "  3288.89,1423.18 3288.89,47.2441 \n",
       "  \"/>\n",
       "<polyline clip-path=\"url(#clip5902)\" style=\"stroke:#000000; stroke-width:2; stroke-opacity:0.1; fill:none\" points=\"\n",
       "  3510.75,1423.18 3510.75,47.2441 \n",
       "  \"/>\n",
       "<polyline clip-path=\"url(#clip5902)\" style=\"stroke:#000000; stroke-width:2; stroke-opacity:0.1; fill:none\" points=\"\n",
       "  3769.59,1423.18 3769.59,47.2441 \n",
       "  \"/>\n",
       "<polyline clip-path=\"url(#clip5902)\" style=\"stroke:#000000; stroke-width:2; stroke-opacity:0.1; fill:none\" points=\"\n",
       "  227.575,1278.71 3872.76,1278.71 \n",
       "  \"/>\n",
       "<polyline clip-path=\"url(#clip5902)\" style=\"stroke:#000000; stroke-width:2; stroke-opacity:0.1; fill:none\" points=\"\n",
       "  227.575,1014.87 3872.76,1014.87 \n",
       "  \"/>\n",
       "<polyline clip-path=\"url(#clip5902)\" style=\"stroke:#000000; stroke-width:2; stroke-opacity:0.1; fill:none\" points=\"\n",
       "  227.575,751.042 3872.76,751.042 \n",
       "  \"/>\n",
       "<polyline clip-path=\"url(#clip5902)\" style=\"stroke:#000000; stroke-width:2; stroke-opacity:0.1; fill:none\" points=\"\n",
       "  227.575,487.21 3872.76,487.21 \n",
       "  \"/>\n",
       "<polyline clip-path=\"url(#clip5902)\" style=\"stroke:#000000; stroke-width:2; stroke-opacity:0.1; fill:none\" points=\"\n",
       "  227.575,223.378 3872.76,223.378 \n",
       "  \"/>\n",
       "<polyline clip-path=\"url(#clip5900)\" style=\"stroke:#000000; stroke-width:4; stroke-opacity:1; fill:none\" points=\"\n",
       "  227.575,1423.18 3872.76,1423.18 \n",
       "  \"/>\n",
       "<polyline clip-path=\"url(#clip5900)\" style=\"stroke:#000000; stroke-width:4; stroke-opacity:1; fill:none\" points=\"\n",
       "  227.575,1423.18 227.575,47.2441 \n",
       "  \"/>\n",
       "<polyline clip-path=\"url(#clip5900)\" style=\"stroke:#000000; stroke-width:4; stroke-opacity:1; fill:none\" points=\"\n",
       "  330.74,1423.18 330.74,1406.67 \n",
       "  \"/>\n",
       "<polyline clip-path=\"url(#clip5900)\" style=\"stroke:#000000; stroke-width:4; stroke-opacity:1; fill:none\" points=\"\n",
       "  589.578,1423.18 589.578,1406.67 \n",
       "  \"/>\n",
       "<polyline clip-path=\"url(#clip5900)\" style=\"stroke:#000000; stroke-width:4; stroke-opacity:1; fill:none\" points=\"\n",
       "  811.44,1423.18 811.44,1406.67 \n",
       "  \"/>\n",
       "<polyline clip-path=\"url(#clip5900)\" style=\"stroke:#000000; stroke-width:4; stroke-opacity:1; fill:none\" points=\"\n",
       "  1070.28,1423.18 1070.28,1406.67 \n",
       "  \"/>\n",
       "<polyline clip-path=\"url(#clip5900)\" style=\"stroke:#000000; stroke-width:4; stroke-opacity:1; fill:none\" points=\"\n",
       "  1329.12,1423.18 1329.12,1406.67 \n",
       "  \"/>\n",
       "<polyline clip-path=\"url(#clip5900)\" style=\"stroke:#000000; stroke-width:4; stroke-opacity:1; fill:none\" points=\"\n",
       "  1550.98,1423.18 1550.98,1406.67 \n",
       "  \"/>\n",
       "<polyline clip-path=\"url(#clip5900)\" style=\"stroke:#000000; stroke-width:4; stroke-opacity:1; fill:none\" points=\"\n",
       "  1809.82,1423.18 1809.82,1406.67 \n",
       "  \"/>\n",
       "<polyline clip-path=\"url(#clip5900)\" style=\"stroke:#000000; stroke-width:4; stroke-opacity:1; fill:none\" points=\"\n",
       "  2068.65,1423.18 2068.65,1406.67 \n",
       "  \"/>\n",
       "<polyline clip-path=\"url(#clip5900)\" style=\"stroke:#000000; stroke-width:4; stroke-opacity:1; fill:none\" points=\"\n",
       "  2290.51,1423.18 2290.51,1406.67 \n",
       "  \"/>\n",
       "<polyline clip-path=\"url(#clip5900)\" style=\"stroke:#000000; stroke-width:4; stroke-opacity:1; fill:none\" points=\"\n",
       "  2549.35,1423.18 2549.35,1406.67 \n",
       "  \"/>\n",
       "<polyline clip-path=\"url(#clip5900)\" style=\"stroke:#000000; stroke-width:4; stroke-opacity:1; fill:none\" points=\"\n",
       "  2771.21,1423.18 2771.21,1406.67 \n",
       "  \"/>\n",
       "<polyline clip-path=\"url(#clip5900)\" style=\"stroke:#000000; stroke-width:4; stroke-opacity:1; fill:none\" points=\"\n",
       "  3030.05,1423.18 3030.05,1406.67 \n",
       "  \"/>\n",
       "<polyline clip-path=\"url(#clip5900)\" style=\"stroke:#000000; stroke-width:4; stroke-opacity:1; fill:none\" points=\"\n",
       "  3288.89,1423.18 3288.89,1406.67 \n",
       "  \"/>\n",
       "<polyline clip-path=\"url(#clip5900)\" style=\"stroke:#000000; stroke-width:4; stroke-opacity:1; fill:none\" points=\"\n",
       "  3510.75,1423.18 3510.75,1406.67 \n",
       "  \"/>\n",
       "<polyline clip-path=\"url(#clip5900)\" style=\"stroke:#000000; stroke-width:4; stroke-opacity:1; fill:none\" points=\"\n",
       "  3769.59,1423.18 3769.59,1406.67 \n",
       "  \"/>\n",
       "<polyline clip-path=\"url(#clip5900)\" style=\"stroke:#000000; stroke-width:4; stroke-opacity:1; fill:none\" points=\"\n",
       "  227.575,1278.71 271.317,1278.71 \n",
       "  \"/>\n",
       "<polyline clip-path=\"url(#clip5900)\" style=\"stroke:#000000; stroke-width:4; stroke-opacity:1; fill:none\" points=\"\n",
       "  227.575,1014.87 271.317,1014.87 \n",
       "  \"/>\n",
       "<polyline clip-path=\"url(#clip5900)\" style=\"stroke:#000000; stroke-width:4; stroke-opacity:1; fill:none\" points=\"\n",
       "  227.575,751.042 271.317,751.042 \n",
       "  \"/>\n",
       "<polyline clip-path=\"url(#clip5900)\" style=\"stroke:#000000; stroke-width:4; stroke-opacity:1; fill:none\" points=\"\n",
       "  227.575,487.21 271.317,487.21 \n",
       "  \"/>\n",
       "<polyline clip-path=\"url(#clip5900)\" style=\"stroke:#000000; stroke-width:4; stroke-opacity:1; fill:none\" points=\"\n",
       "  227.575,223.378 271.317,223.378 \n",
       "  \"/>\n",
       "<path clip-path=\"url(#clip5900)\" d=\"M 0 0 M228.657 1450.83 L228.657 1455.39 Q225.995 1454.11 223.634 1453.49 Q221.273 1452.86 219.074 1452.86 Q215.255 1452.86 213.171 1454.34 Q211.111 1455.83 211.111 1458.56 Q211.111 1460.85 212.477 1462.03 Q213.866 1463.19 217.708 1463.9 L220.532 1464.48 Q225.764 1465.48 228.241 1468 Q230.741 1470.5 230.741 1474.71 Q230.741 1479.74 227.361 1482.33 Q224.005 1484.92 217.5 1484.92 Q215.046 1484.92 212.268 1484.37 Q209.514 1483.81 206.551 1482.72 L206.551 1477.91 Q209.398 1479.51 212.13 1480.32 Q214.861 1481.13 217.5 1481.13 Q221.505 1481.13 223.68 1479.55 Q225.856 1477.98 225.856 1475.06 Q225.856 1472.52 224.282 1471.08 Q222.731 1469.65 219.167 1468.93 L216.319 1468.37 Q211.088 1467.33 208.75 1465.11 Q206.412 1462.89 206.412 1458.93 Q206.412 1454.34 209.63 1451.71 Q212.87 1449.07 218.542 1449.07 Q220.972 1449.07 223.495 1449.51 Q226.018 1449.95 228.657 1450.83 Z\" fill=\"#000000\" fill-rule=\"evenodd\" fill-opacity=\"1\" /><path clip-path=\"url(#clip5900)\" d=\"M 0 0 M257.384 1470.22 L257.384 1472.31 L237.801 1472.31 Q238.079 1476.71 240.44 1479.02 Q242.824 1481.31 247.06 1481.31 Q249.514 1481.31 251.805 1480.71 Q254.12 1480.11 256.389 1478.9 L256.389 1482.93 Q254.097 1483.9 251.69 1484.41 Q249.282 1484.92 246.805 1484.92 Q240.602 1484.92 236.967 1481.31 Q233.356 1477.7 233.356 1471.54 Q233.356 1465.18 236.782 1461.45 Q240.231 1457.7 246.065 1457.7 Q251.296 1457.7 254.328 1461.08 Q257.384 1464.44 257.384 1470.22 M253.125 1468.97 Q253.078 1465.48 251.157 1463.4 Q249.259 1461.31 246.111 1461.31 Q242.546 1461.31 240.393 1463.33 Q238.264 1465.34 237.94 1469 L253.125 1468.97 Z\" fill=\"#000000\" fill-rule=\"evenodd\" fill-opacity=\"1\" /><path clip-path=\"url(#clip5900)\" d=\"M 0 0 M265.972 1480.36 L265.972 1494.11 L261.69 1494.11 L261.69 1458.33 L265.972 1458.33 L265.972 1462.26 Q267.314 1459.95 269.352 1458.84 Q271.412 1457.7 274.259 1457.7 Q278.981 1457.7 281.921 1461.45 Q284.884 1465.2 284.884 1471.31 Q284.884 1477.42 281.921 1481.17 Q278.981 1484.92 274.259 1484.92 Q271.412 1484.92 269.352 1483.81 Q267.314 1482.68 265.972 1480.36 M280.463 1471.31 Q280.463 1466.61 278.518 1463.95 Q276.597 1461.27 273.217 1461.27 Q269.838 1461.27 267.893 1463.95 Q265.972 1466.61 265.972 1471.31 Q265.972 1476.01 267.893 1478.7 Q269.838 1481.36 273.217 1481.36 Q276.597 1481.36 278.518 1478.7 Q280.463 1476.01 280.463 1471.31 Z\" fill=\"#000000\" fill-rule=\"evenodd\" fill-opacity=\"1\" /><path clip-path=\"url(#clip5900)\" d=\"M 0 0 M289.953 1478.37 L294.837 1478.37 L294.837 1484.25 L289.953 1484.25 L289.953 1478.37 Z\" fill=\"#000000\" fill-rule=\"evenodd\" fill-opacity=\"1\" /><path clip-path=\"url(#clip5900)\" d=\"M 0 0 M315.786 1480.32 L323.425 1480.32 L323.425 1453.95 L315.115 1455.62 L315.115 1451.36 L323.379 1449.69 L328.055 1449.69 L328.055 1480.32 L335.694 1480.32 L335.694 1484.25 L315.786 1484.25 L315.786 1480.32 Z\" fill=\"#000000\" fill-rule=\"evenodd\" fill-opacity=\"1\" /><path clip-path=\"url(#clip5900)\" d=\"M 0 0 M354.93 1465.62 Q358.286 1466.34 360.161 1468.6 Q362.059 1470.87 362.059 1474.21 Q362.059 1479.32 358.541 1482.12 Q355.022 1484.92 348.541 1484.92 Q346.365 1484.92 344.05 1484.48 Q341.759 1484.07 339.305 1483.21 L339.305 1478.7 Q341.249 1479.83 343.564 1480.41 Q345.879 1480.99 348.402 1480.99 Q352.8 1480.99 355.092 1479.25 Q357.407 1477.52 357.407 1474.21 Q357.407 1471.15 355.254 1469.44 Q353.124 1467.7 349.305 1467.7 L345.277 1467.7 L345.277 1463.86 L349.49 1463.86 Q352.939 1463.86 354.768 1462.49 Q356.596 1461.1 356.596 1458.51 Q356.596 1455.85 354.698 1454.44 Q352.823 1453 349.305 1453 Q347.383 1453 345.184 1453.42 Q342.985 1453.84 340.346 1454.71 L340.346 1450.55 Q343.009 1449.81 345.323 1449.44 Q347.661 1449.07 349.721 1449.07 Q355.045 1449.07 358.147 1451.5 Q361.249 1453.9 361.249 1458.03 Q361.249 1460.9 359.606 1462.89 Q357.962 1464.85 354.93 1465.62 Z\" fill=\"#000000\" fill-rule=\"evenodd\" fill-opacity=\"1\" /><path clip-path=\"url(#clip5900)\" d=\"M 0 0 M367.615 1478.37 L372.499 1478.37 L372.499 1482.35 L368.703 1489.76 L365.717 1489.76 L367.615 1482.35 L367.615 1478.37 Z\" fill=\"#000000\" fill-rule=\"evenodd\" fill-opacity=\"1\" /><path clip-path=\"url(#clip5900)\" d=\"M 0 0 M396.666 1480.32 L412.985 1480.32 L412.985 1484.25 L391.041 1484.25 L391.041 1480.32 Q393.703 1477.56 398.286 1472.93 Q402.892 1468.28 404.073 1466.94 Q406.318 1464.41 407.198 1462.68 Q408.101 1460.92 408.101 1459.23 Q408.101 1456.47 406.156 1454.74 Q404.235 1453 401.133 1453 Q398.934 1453 396.48 1453.77 Q394.05 1454.53 391.272 1456.08 L391.272 1451.36 Q394.096 1450.22 396.55 1449.65 Q399.004 1449.07 401.041 1449.07 Q406.411 1449.07 409.605 1451.75 Q412.8 1454.44 412.8 1458.93 Q412.8 1461.06 411.99 1462.98 Q411.203 1464.88 409.096 1467.47 Q408.517 1468.14 405.416 1471.36 Q402.314 1474.55 396.666 1480.32 Z\" fill=\"#000000\" fill-rule=\"evenodd\" fill-opacity=\"1\" /><path clip-path=\"url(#clip5900)\" d=\"M 0 0 M428.054 1452.77 Q424.443 1452.77 422.615 1456.34 Q420.809 1459.88 420.809 1467.01 Q420.809 1474.11 422.615 1477.68 Q424.443 1481.22 428.054 1481.22 Q431.689 1481.22 433.494 1477.68 Q435.323 1474.11 435.323 1467.01 Q435.323 1459.88 433.494 1456.34 Q431.689 1452.77 428.054 1452.77 M428.054 1449.07 Q433.865 1449.07 436.92 1453.67 Q439.999 1458.26 439.999 1467.01 Q439.999 1475.73 436.92 1480.34 Q433.865 1484.92 428.054 1484.92 Q422.244 1484.92 419.166 1480.34 Q416.11 1475.73 416.11 1467.01 Q416.11 1458.26 419.166 1453.67 Q422.244 1449.07 428.054 1449.07 Z\" fill=\"#000000\" fill-rule=\"evenodd\" fill-opacity=\"1\" /><path clip-path=\"url(#clip5900)\" d=\"M 0 0 M487.357 1450.83 L487.357 1455.39 Q484.695 1454.11 482.333 1453.49 Q479.972 1452.86 477.773 1452.86 Q473.954 1452.86 471.871 1454.34 Q469.81 1455.83 469.81 1458.56 Q469.81 1460.85 471.176 1462.03 Q472.565 1463.19 476.408 1463.9 L479.232 1464.48 Q484.463 1465.48 486.94 1468 Q489.44 1470.5 489.44 1474.71 Q489.44 1479.74 486.06 1482.33 Q482.704 1484.92 476.199 1484.92 Q473.746 1484.92 470.968 1484.37 Q468.213 1483.81 465.25 1482.72 L465.25 1477.91 Q468.097 1479.51 470.829 1480.32 Q473.56 1481.13 476.199 1481.13 Q480.204 1481.13 482.38 1479.55 Q484.556 1477.98 484.556 1475.06 Q484.556 1472.52 482.982 1471.08 Q481.431 1469.65 477.866 1468.93 L475.019 1468.37 Q469.787 1467.33 467.449 1465.11 Q465.111 1462.89 465.111 1458.93 Q465.111 1454.34 468.329 1451.71 Q471.57 1449.07 477.241 1449.07 Q479.671 1449.07 482.195 1449.51 Q484.718 1449.95 487.357 1450.83 Z\" fill=\"#000000\" fill-rule=\"evenodd\" fill-opacity=\"1\" /><path clip-path=\"url(#clip5900)\" d=\"M 0 0 M516.083 1470.22 L516.083 1472.31 L496.5 1472.31 Q496.778 1476.71 499.139 1479.02 Q501.523 1481.31 505.759 1481.31 Q508.213 1481.31 510.505 1480.71 Q512.819 1480.11 515.088 1478.9 L515.088 1482.93 Q512.796 1483.9 510.389 1484.41 Q507.981 1484.92 505.505 1484.92 Q499.301 1484.92 495.667 1481.31 Q492.056 1477.7 492.056 1471.54 Q492.056 1465.18 495.482 1461.45 Q498.931 1457.7 504.764 1457.7 Q509.995 1457.7 513.028 1461.08 Q516.083 1464.44 516.083 1470.22 M511.824 1468.97 Q511.778 1465.48 509.856 1463.4 Q507.958 1461.31 504.81 1461.31 Q501.245 1461.31 499.093 1463.33 Q496.963 1465.34 496.639 1469 L511.824 1468.97 Z\" fill=\"#000000\" fill-rule=\"evenodd\" fill-opacity=\"1\" /><path clip-path=\"url(#clip5900)\" d=\"M 0 0 M524.671 1480.36 L524.671 1494.11 L520.389 1494.11 L520.389 1458.33 L524.671 1458.33 L524.671 1462.26 Q526.014 1459.95 528.051 1458.84 Q530.111 1457.7 532.958 1457.7 Q537.68 1457.7 540.62 1461.45 Q543.583 1465.2 543.583 1471.31 Q543.583 1477.42 540.62 1481.17 Q537.68 1484.92 532.958 1484.92 Q530.111 1484.92 528.051 1483.81 Q526.014 1482.68 524.671 1480.36 M539.162 1471.31 Q539.162 1466.61 537.217 1463.95 Q535.296 1461.27 531.917 1461.27 Q528.537 1461.27 526.592 1463.95 Q524.671 1466.61 524.671 1471.31 Q524.671 1476.01 526.592 1478.7 Q528.537 1481.36 531.917 1481.36 Q535.296 1481.36 537.217 1478.7 Q539.162 1476.01 539.162 1471.31 Z\" fill=\"#000000\" fill-rule=\"evenodd\" fill-opacity=\"1\" /><path clip-path=\"url(#clip5900)\" d=\"M 0 0 M548.653 1478.37 L553.537 1478.37 L553.537 1484.25 L548.653 1484.25 L548.653 1478.37 Z\" fill=\"#000000\" fill-rule=\"evenodd\" fill-opacity=\"1\" /><path clip-path=\"url(#clip5900)\" d=\"M 0 0 M577.703 1480.32 L594.023 1480.32 L594.023 1484.25 L572.078 1484.25 L572.078 1480.32 Q574.74 1477.56 579.324 1472.93 Q583.93 1468.28 585.111 1466.94 Q587.356 1464.41 588.236 1462.68 Q589.138 1460.92 589.138 1459.23 Q589.138 1456.47 587.194 1454.74 Q585.273 1453 582.171 1453 Q579.972 1453 577.518 1453.77 Q575.088 1454.53 572.31 1456.08 L572.31 1451.36 Q575.134 1450.22 577.588 1449.65 Q580.041 1449.07 582.078 1449.07 Q587.449 1449.07 590.643 1451.75 Q593.838 1454.44 593.838 1458.93 Q593.838 1461.06 593.027 1462.98 Q592.24 1464.88 590.134 1467.47 Q589.555 1468.14 586.453 1471.36 Q583.351 1474.55 577.703 1480.32 Z\" fill=\"#000000\" fill-rule=\"evenodd\" fill-opacity=\"1\" /><path clip-path=\"url(#clip5900)\" d=\"M 0 0 M609.092 1452.77 Q605.481 1452.77 603.652 1456.34 Q601.847 1459.88 601.847 1467.01 Q601.847 1474.11 603.652 1477.68 Q605.481 1481.22 609.092 1481.22 Q612.726 1481.22 614.532 1477.68 Q616.361 1474.11 616.361 1467.01 Q616.361 1459.88 614.532 1456.34 Q612.726 1452.77 609.092 1452.77 M609.092 1449.07 Q614.902 1449.07 617.958 1453.67 Q621.036 1458.26 621.036 1467.01 Q621.036 1475.73 617.958 1480.34 Q614.902 1484.92 609.092 1484.92 Q603.282 1484.92 600.203 1480.34 Q597.148 1475.73 597.148 1467.01 Q597.148 1458.26 600.203 1453.67 Q603.282 1449.07 609.092 1449.07 Z\" fill=\"#000000\" fill-rule=\"evenodd\" fill-opacity=\"1\" /><path clip-path=\"url(#clip5900)\" d=\"M 0 0 M626.592 1478.37 L631.476 1478.37 L631.476 1482.35 L627.68 1489.76 L624.694 1489.76 L626.592 1482.35 L626.592 1478.37 Z\" fill=\"#000000\" fill-rule=\"evenodd\" fill-opacity=\"1\" /><path clip-path=\"url(#clip5900)\" d=\"M 0 0 M655.643 1480.32 L671.962 1480.32 L671.962 1484.25 L650.018 1484.25 L650.018 1480.32 Q652.68 1477.56 657.263 1472.93 Q661.87 1468.28 663.05 1466.94 Q665.295 1464.41 666.175 1462.68 Q667.078 1460.92 667.078 1459.23 Q667.078 1456.47 665.133 1454.74 Q663.212 1453 660.11 1453 Q657.911 1453 655.458 1453.77 Q653.027 1454.53 650.249 1456.08 L650.249 1451.36 Q653.073 1450.22 655.527 1449.65 Q657.981 1449.07 660.018 1449.07 Q665.388 1449.07 668.582 1451.75 Q671.777 1454.44 671.777 1458.93 Q671.777 1461.06 670.967 1462.98 Q670.18 1464.88 668.073 1467.47 Q667.495 1468.14 664.393 1471.36 Q661.291 1474.55 655.643 1480.32 Z\" fill=\"#000000\" fill-rule=\"evenodd\" fill-opacity=\"1\" /><path clip-path=\"url(#clip5900)\" d=\"M 0 0 M687.031 1452.77 Q683.42 1452.77 681.592 1456.34 Q679.786 1459.88 679.786 1467.01 Q679.786 1474.11 681.592 1477.68 Q683.42 1481.22 687.031 1481.22 Q690.666 1481.22 692.471 1477.68 Q694.3 1474.11 694.3 1467.01 Q694.3 1459.88 692.471 1456.34 Q690.666 1452.77 687.031 1452.77 M687.031 1449.07 Q692.842 1449.07 695.897 1453.67 Q698.976 1458.26 698.976 1467.01 Q698.976 1475.73 695.897 1480.34 Q692.842 1484.92 687.031 1484.92 Q681.221 1484.92 678.143 1480.34 Q675.087 1475.73 675.087 1467.01 Q675.087 1458.26 678.143 1453.67 Q681.221 1449.07 687.031 1449.07 Z\" fill=\"#000000\" fill-rule=\"evenodd\" fill-opacity=\"1\" /><path clip-path=\"url(#clip5900)\" d=\"M 0 0 M709.137 1450.83 L709.137 1455.39 Q706.475 1454.11 704.114 1453.49 Q701.753 1452.86 699.554 1452.86 Q695.734 1452.86 693.651 1454.34 Q691.591 1455.83 691.591 1458.56 Q691.591 1460.85 692.956 1462.03 Q694.345 1463.19 698.188 1463.9 L701.012 1464.48 Q706.243 1465.48 708.72 1468 Q711.22 1470.5 711.22 1474.71 Q711.22 1479.74 707.841 1482.33 Q704.484 1484.92 697.98 1484.92 Q695.526 1484.92 692.748 1484.37 Q689.993 1483.81 687.031 1482.72 L687.031 1477.91 Q689.878 1479.51 692.609 1480.32 Q695.341 1481.13 697.98 1481.13 Q701.984 1481.13 704.16 1479.55 Q706.336 1477.98 706.336 1475.06 Q706.336 1472.52 704.762 1471.08 Q703.211 1469.65 699.646 1468.93 L696.799 1468.37 Q691.568 1467.33 689.23 1465.11 Q686.892 1462.89 686.892 1458.93 Q686.892 1454.34 690.109 1451.71 Q693.35 1449.07 699.021 1449.07 Q701.452 1449.07 703.975 1449.51 Q706.498 1449.95 709.137 1450.83 Z\" fill=\"#000000\" fill-rule=\"evenodd\" fill-opacity=\"1\" /><path clip-path=\"url(#clip5900)\" d=\"M 0 0 M737.864 1470.22 L737.864 1472.31 L718.28 1472.31 Q718.558 1476.71 720.919 1479.02 Q723.303 1481.31 727.54 1481.31 Q729.993 1481.31 732.285 1480.71 Q734.6 1480.11 736.868 1478.9 L736.868 1482.93 Q734.577 1483.9 732.169 1484.41 Q729.762 1484.92 727.285 1484.92 Q721.081 1484.92 717.447 1481.31 Q713.836 1477.7 713.836 1471.54 Q713.836 1465.18 717.262 1461.45 Q720.711 1457.7 726.544 1457.7 Q731.776 1457.7 734.808 1461.08 Q737.864 1464.44 737.864 1470.22 M733.604 1468.97 Q733.558 1465.48 731.637 1463.4 Q729.739 1461.31 726.59 1461.31 Q723.026 1461.31 720.873 1463.33 Q718.743 1465.34 718.419 1469 L733.604 1468.97 Z\" fill=\"#000000\" fill-rule=\"evenodd\" fill-opacity=\"1\" /><path clip-path=\"url(#clip5900)\" d=\"M 0 0 M746.451 1480.36 L746.451 1494.11 L742.169 1494.11 L742.169 1458.33 L746.451 1458.33 L746.451 1462.26 Q747.794 1459.95 749.831 1458.84 Q751.891 1457.7 754.738 1457.7 Q759.461 1457.7 762.4 1461.45 Q765.363 1465.2 765.363 1471.31 Q765.363 1477.42 762.4 1481.17 Q759.461 1484.92 754.738 1484.92 Q751.891 1484.92 749.831 1483.81 Q747.794 1482.68 746.451 1480.36 M760.942 1471.31 Q760.942 1466.61 758.998 1463.95 Q757.076 1461.27 753.697 1461.27 Q750.317 1461.27 748.373 1463.95 Q746.451 1466.61 746.451 1471.31 Q746.451 1476.01 748.373 1478.7 Q750.317 1481.36 753.697 1481.36 Q757.076 1481.36 758.998 1478.7 Q760.942 1476.01 760.942 1471.31 Z\" fill=\"#000000\" fill-rule=\"evenodd\" fill-opacity=\"1\" /><path clip-path=\"url(#clip5900)\" d=\"M 0 0 M770.433 1478.37 L775.317 1478.37 L775.317 1484.25 L770.433 1484.25 L770.433 1478.37 Z\" fill=\"#000000\" fill-rule=\"evenodd\" fill-opacity=\"1\" /><path clip-path=\"url(#clip5900)\" d=\"M 0 0 M799.484 1480.32 L815.803 1480.32 L815.803 1484.25 L793.859 1484.25 L793.859 1480.32 Q796.521 1477.56 801.104 1472.93 Q805.71 1468.28 806.891 1466.94 Q809.136 1464.41 810.016 1462.68 Q810.919 1460.92 810.919 1459.23 Q810.919 1456.47 808.974 1454.74 Q807.053 1453 803.951 1453 Q801.752 1453 799.298 1453.77 Q796.868 1454.53 794.09 1456.08 L794.09 1451.36 Q796.914 1450.22 799.368 1449.65 Q801.822 1449.07 803.859 1449.07 Q809.229 1449.07 812.423 1451.75 Q815.618 1454.44 815.618 1458.93 Q815.618 1461.06 814.808 1462.98 Q814.021 1464.88 811.914 1467.47 Q811.335 1468.14 808.234 1471.36 Q805.132 1474.55 799.484 1480.32 Z\" fill=\"#000000\" fill-rule=\"evenodd\" fill-opacity=\"1\" /><path clip-path=\"url(#clip5900)\" d=\"M 0 0 M831.451 1465.11 Q828.303 1465.11 826.451 1467.26 Q824.622 1469.41 824.622 1473.16 Q824.622 1476.89 826.451 1479.07 Q828.303 1481.22 831.451 1481.22 Q834.599 1481.22 836.428 1479.07 Q838.28 1476.89 838.28 1473.16 Q838.28 1469.41 836.428 1467.26 Q834.599 1465.11 831.451 1465.11 M840.733 1450.46 L840.733 1454.71 Q838.974 1453.88 837.169 1453.44 Q835.386 1453 833.627 1453 Q828.997 1453 826.544 1456.13 Q824.113 1459.25 823.766 1465.57 Q825.132 1463.56 827.192 1462.49 Q829.252 1461.4 831.729 1461.4 Q836.937 1461.4 839.946 1464.58 Q842.979 1467.72 842.979 1473.16 Q842.979 1478.49 839.831 1481.71 Q836.682 1484.92 831.451 1484.92 Q825.456 1484.92 822.284 1480.34 Q819.113 1475.73 819.113 1467.01 Q819.113 1458.81 823.002 1453.95 Q826.891 1449.07 833.442 1449.07 Q835.201 1449.07 836.983 1449.41 Q838.789 1449.76 840.733 1450.46 Z\" fill=\"#000000\" fill-rule=\"evenodd\" fill-opacity=\"1\" /><path clip-path=\"url(#clip5900)\" d=\"M 0 0 M848.534 1478.37 L853.419 1478.37 L853.419 1482.35 L849.622 1489.76 L846.636 1489.76 L848.534 1482.35 L848.534 1478.37 Z\" fill=\"#000000\" fill-rule=\"evenodd\" fill-opacity=\"1\" /><path clip-path=\"url(#clip5900)\" d=\"M 0 0 M877.585 1480.32 L893.904 1480.32 L893.904 1484.25 L871.96 1484.25 L871.96 1480.32 Q874.622 1477.56 879.205 1472.93 Q883.812 1468.28 884.992 1466.94 Q887.238 1464.41 888.117 1462.68 Q889.02 1460.92 889.02 1459.23 Q889.02 1456.47 887.076 1454.74 Q885.154 1453 882.053 1453 Q879.854 1453 877.4 1453.77 Q874.969 1454.53 872.192 1456.08 L872.192 1451.36 Q875.016 1450.22 877.469 1449.65 Q879.923 1449.07 881.96 1449.07 Q887.33 1449.07 890.525 1451.75 Q893.719 1454.44 893.719 1458.93 Q893.719 1461.06 892.909 1462.98 Q892.122 1464.88 890.016 1467.47 Q889.437 1468.14 886.335 1471.36 Q883.233 1474.55 877.585 1480.32 Z\" fill=\"#000000\" fill-rule=\"evenodd\" fill-opacity=\"1\" /><path clip-path=\"url(#clip5900)\" d=\"M 0 0 M908.974 1452.77 Q905.363 1452.77 903.534 1456.34 Q901.728 1459.88 901.728 1467.01 Q901.728 1474.11 903.534 1477.68 Q905.363 1481.22 908.974 1481.22 Q912.608 1481.22 914.414 1477.68 Q916.242 1474.11 916.242 1467.01 Q916.242 1459.88 914.414 1456.34 Q912.608 1452.77 908.974 1452.77 M908.974 1449.07 Q914.784 1449.07 917.839 1453.67 Q920.918 1458.26 920.918 1467.01 Q920.918 1475.73 917.839 1480.34 Q914.784 1484.92 908.974 1484.92 Q903.164 1484.92 900.085 1480.34 Q897.029 1475.73 897.029 1467.01 Q897.029 1458.26 900.085 1453.67 Q903.164 1449.07 908.974 1449.07 Z\" fill=\"#000000\" fill-rule=\"evenodd\" fill-opacity=\"1\" /><path clip-path=\"url(#clip5900)\" d=\"M 0 0 M977.813 1452.86 Q972.72 1452.86 969.711 1456.66 Q966.725 1460.46 966.725 1467.01 Q966.725 1473.53 969.711 1477.33 Q972.72 1481.13 977.813 1481.13 Q982.906 1481.13 985.869 1477.33 Q988.855 1473.53 988.855 1467.01 Q988.855 1460.46 985.869 1456.66 Q982.906 1452.86 977.813 1452.86 M977.813 1449.07 Q985.081 1449.07 989.433 1453.95 Q993.785 1458.81 993.785 1467.01 Q993.785 1475.18 989.433 1480.06 Q985.081 1484.92 977.813 1484.92 Q970.521 1484.92 966.146 1480.06 Q961.795 1475.2 961.795 1467.01 Q961.795 1458.81 966.146 1453.95 Q970.521 1449.07 977.813 1449.07 Z\" fill=\"#000000\" fill-rule=\"evenodd\" fill-opacity=\"1\" /><path clip-path=\"url(#clip5900)\" d=\"M 0 0 M1016.91 1459.32 L1016.91 1463.3 Q1015.1 1462.31 1013.28 1461.82 Q1011.47 1461.31 1009.62 1461.31 Q1005.47 1461.31 1003.18 1463.95 Q1000.89 1466.57 1000.89 1471.31 Q1000.89 1476.06 1003.18 1478.7 Q1005.47 1481.31 1009.62 1481.31 Q1011.47 1481.31 1013.28 1480.83 Q1015.1 1480.32 1016.91 1479.32 L1016.91 1483.26 Q1015.13 1484.09 1013.21 1484.51 Q1011.31 1484.92 1009.16 1484.92 Q1003.3 1484.92 999.85 1481.24 Q996.401 1477.56 996.401 1471.31 Q996.401 1464.97 999.873 1461.34 Q1003.37 1457.7 1009.43 1457.7 Q1011.4 1457.7 1013.28 1458.12 Q1015.15 1458.51 1016.91 1459.32 Z\" fill=\"#000000\" fill-rule=\"evenodd\" fill-opacity=\"1\" /><path clip-path=\"url(#clip5900)\" d=\"M 0 0 M1025.59 1450.96 L1025.59 1458.33 L1034.36 1458.33 L1034.36 1461.64 L1025.59 1461.64 L1025.59 1475.71 Q1025.59 1478.88 1026.45 1479.78 Q1027.33 1480.69 1029.99 1480.69 L1034.36 1480.69 L1034.36 1484.25 L1029.99 1484.25 Q1025.06 1484.25 1023.18 1482.42 Q1021.31 1480.57 1021.31 1475.71 L1021.31 1461.64 L1018.18 1461.64 L1018.18 1458.33 L1021.31 1458.33 L1021.31 1450.96 L1025.59 1450.96 Z\" fill=\"#000000\" fill-rule=\"evenodd\" fill-opacity=\"1\" /><path clip-path=\"url(#clip5900)\" d=\"M 0 0 M1039.43 1478.37 L1044.32 1478.37 L1044.32 1484.25 L1039.43 1484.25 L1039.43 1478.37 Z\" fill=\"#000000\" fill-rule=\"evenodd\" fill-opacity=\"1\" /><path clip-path=\"url(#clip5900)\" d=\"M 0 0 M1078.62 1465.62 Q1081.98 1466.34 1083.85 1468.6 Q1085.75 1470.87 1085.75 1474.21 Q1085.75 1479.32 1082.23 1482.12 Q1078.72 1484.92 1072.23 1484.92 Q1070.06 1484.92 1067.74 1484.48 Q1065.45 1484.07 1063 1483.21 L1063 1478.7 Q1064.94 1479.83 1067.26 1480.41 Q1069.57 1480.99 1072.09 1480.99 Q1076.49 1480.99 1078.78 1479.25 Q1081.1 1477.52 1081.1 1474.21 Q1081.1 1471.15 1078.95 1469.44 Q1076.82 1467.7 1073 1467.7 L1068.97 1467.7 L1068.97 1463.86 L1073.18 1463.86 Q1076.63 1463.86 1078.46 1462.49 Q1080.29 1461.1 1080.29 1458.51 Q1080.29 1455.85 1078.39 1454.44 Q1076.52 1453 1073 1453 Q1071.08 1453 1068.88 1453.42 Q1066.68 1453.84 1064.04 1454.71 L1064.04 1450.55 Q1066.7 1449.81 1069.02 1449.44 Q1071.35 1449.07 1073.41 1449.07 Q1078.74 1449.07 1081.84 1451.5 Q1084.94 1453.9 1084.94 1458.03 Q1084.94 1460.9 1083.3 1462.89 Q1081.66 1464.85 1078.62 1465.62 Z\" fill=\"#000000\" fill-rule=\"evenodd\" fill-opacity=\"1\" /><path clip-path=\"url(#clip5900)\" d=\"M 0 0 M1091.31 1478.37 L1096.19 1478.37 L1096.19 1482.35 L1092.4 1489.76 L1089.41 1489.76 L1091.31 1482.35 L1091.31 1478.37 Z\" fill=\"#000000\" fill-rule=\"evenodd\" fill-opacity=\"1\" /><path clip-path=\"url(#clip5900)\" d=\"M 0 0 M1120.36 1480.32 L1136.68 1480.32 L1136.68 1484.25 L1114.73 1484.25 L1114.73 1480.32 Q1117.4 1477.56 1121.98 1472.93 Q1126.59 1468.28 1127.77 1466.94 Q1130.01 1464.41 1130.89 1462.68 Q1131.79 1460.92 1131.79 1459.23 Q1131.79 1456.47 1129.85 1454.74 Q1127.93 1453 1124.83 1453 Q1122.63 1453 1120.17 1453.77 Q1117.74 1454.53 1114.97 1456.08 L1114.97 1451.36 Q1117.79 1450.22 1120.24 1449.65 Q1122.7 1449.07 1124.73 1449.07 Q1130.1 1449.07 1133.3 1451.75 Q1136.49 1454.44 1136.49 1458.93 Q1136.49 1461.06 1135.68 1462.98 Q1134.9 1464.88 1132.79 1467.47 Q1132.21 1468.14 1129.11 1471.36 Q1126.01 1474.55 1120.36 1480.32 Z\" fill=\"#000000\" fill-rule=\"evenodd\" fill-opacity=\"1\" /><path clip-path=\"url(#clip5900)\" d=\"M 0 0 M1151.75 1452.77 Q1148.14 1452.77 1146.31 1456.34 Q1144.5 1459.88 1144.5 1467.01 Q1144.5 1474.11 1146.31 1477.68 Q1148.14 1481.22 1151.75 1481.22 Q1155.38 1481.22 1157.19 1477.68 Q1159.02 1474.11 1159.02 1467.01 Q1159.02 1459.88 1157.19 1456.34 Q1155.38 1452.77 1151.75 1452.77 M1151.75 1449.07 Q1157.56 1449.07 1160.61 1453.67 Q1163.69 1458.26 1163.69 1467.01 Q1163.69 1475.73 1160.61 1480.34 Q1157.56 1484.92 1151.75 1484.92 Q1145.94 1484.92 1142.86 1480.34 Q1139.8 1475.73 1139.8 1467.01 Q1139.8 1458.26 1142.86 1453.67 Q1145.94 1449.07 1151.75 1449.07 Z\" fill=\"#000000\" fill-rule=\"evenodd\" fill-opacity=\"1\" /><path clip-path=\"url(#clip5900)\" d=\"M 0 0 M1223.43 1452.86 Q1218.34 1452.86 1215.33 1456.66 Q1212.35 1460.46 1212.35 1467.01 Q1212.35 1473.53 1215.33 1477.33 Q1218.34 1481.13 1223.43 1481.13 Q1228.53 1481.13 1231.49 1477.33 Q1234.48 1473.53 1234.48 1467.01 Q1234.48 1460.46 1231.49 1456.66 Q1228.53 1452.86 1223.43 1452.86 M1223.43 1449.07 Q1230.7 1449.07 1235.05 1453.95 Q1239.41 1458.81 1239.41 1467.01 Q1239.41 1475.18 1235.05 1480.06 Q1230.7 1484.92 1223.43 1484.92 Q1216.14 1484.92 1211.77 1480.06 Q1207.42 1475.2 1207.42 1467.01 Q1207.42 1458.81 1211.77 1453.95 Q1216.14 1449.07 1223.43 1449.07 Z\" fill=\"#000000\" fill-rule=\"evenodd\" fill-opacity=\"1\" /><path clip-path=\"url(#clip5900)\" d=\"M 0 0 M1262.53 1459.32 L1262.53 1463.3 Q1260.73 1462.31 1258.9 1461.82 Q1257.09 1461.31 1255.24 1461.31 Q1251.1 1461.31 1248.8 1463.95 Q1246.51 1466.57 1246.51 1471.31 Q1246.51 1476.06 1248.8 1478.7 Q1251.1 1481.31 1255.24 1481.31 Q1257.09 1481.31 1258.9 1480.83 Q1260.73 1480.32 1262.53 1479.32 L1262.53 1483.26 Q1260.75 1484.09 1258.83 1484.51 Q1256.93 1484.92 1254.78 1484.92 Q1248.92 1484.92 1245.47 1481.24 Q1242.02 1477.56 1242.02 1471.31 Q1242.02 1464.97 1245.49 1461.34 Q1248.99 1457.7 1255.05 1457.7 Q1257.02 1457.7 1258.9 1458.12 Q1260.77 1458.51 1262.53 1459.32 Z\" fill=\"#000000\" fill-rule=\"evenodd\" fill-opacity=\"1\" /><path clip-path=\"url(#clip5900)\" d=\"M 0 0 M1271.21 1450.96 L1271.21 1458.33 L1279.98 1458.33 L1279.98 1461.64 L1271.21 1461.64 L1271.21 1475.71 Q1271.21 1478.88 1272.07 1479.78 Q1272.95 1480.69 1275.61 1480.69 L1279.98 1480.69 L1279.98 1484.25 L1275.61 1484.25 Q1270.68 1484.25 1268.8 1482.42 Q1266.93 1480.57 1266.93 1475.71 L1266.93 1461.64 L1263.8 1461.64 L1263.8 1458.33 L1266.93 1458.33 L1266.93 1450.96 L1271.21 1450.96 Z\" fill=\"#000000\" fill-rule=\"evenodd\" fill-opacity=\"1\" /><path clip-path=\"url(#clip5900)\" d=\"M 0 0 M1285.05 1478.37 L1289.94 1478.37 L1289.94 1484.25 L1285.05 1484.25 L1285.05 1478.37 Z\" fill=\"#000000\" fill-rule=\"evenodd\" fill-opacity=\"1\" /><path clip-path=\"url(#clip5900)\" d=\"M 0 0 M1310.89 1480.32 L1318.53 1480.32 L1318.53 1453.95 L1310.22 1455.62 L1310.22 1451.36 L1318.48 1449.69 L1323.16 1449.69 L1323.16 1480.32 L1330.79 1480.32 L1330.79 1484.25 L1310.89 1484.25 L1310.89 1480.32 Z\" fill=\"#000000\" fill-rule=\"evenodd\" fill-opacity=\"1\" /><path clip-path=\"url(#clip5900)\" d=\"M 0 0 M1345.86 1452.77 Q1342.25 1452.77 1340.42 1456.34 Q1338.62 1459.88 1338.62 1467.01 Q1338.62 1474.11 1340.42 1477.68 Q1342.25 1481.22 1345.86 1481.22 Q1349.5 1481.22 1351.3 1477.68 Q1353.13 1474.11 1353.13 1467.01 Q1353.13 1459.88 1351.3 1456.34 Q1349.5 1452.77 1345.86 1452.77 M1345.86 1449.07 Q1351.67 1449.07 1354.73 1453.67 Q1357.81 1458.26 1357.81 1467.01 Q1357.81 1475.73 1354.73 1480.34 Q1351.67 1484.92 1345.86 1484.92 Q1340.05 1484.92 1336.97 1480.34 Q1333.92 1475.73 1333.92 1467.01 Q1333.92 1458.26 1336.97 1453.67 Q1340.05 1449.07 1345.86 1449.07 Z\" fill=\"#000000\" fill-rule=\"evenodd\" fill-opacity=\"1\" /><path clip-path=\"url(#clip5900)\" d=\"M 0 0 M1363.36 1478.37 L1368.25 1478.37 L1368.25 1482.35 L1364.45 1489.76 L1361.47 1489.76 L1363.36 1482.35 L1363.36 1478.37 Z\" fill=\"#000000\" fill-rule=\"evenodd\" fill-opacity=\"1\" /><path clip-path=\"url(#clip5900)\" d=\"M 0 0 M1392.41 1480.32 L1408.73 1480.32 L1408.73 1484.25 L1386.79 1484.25 L1386.79 1480.32 Q1389.45 1477.56 1394.03 1472.93 Q1398.64 1468.28 1399.82 1466.94 Q1402.07 1464.41 1402.95 1462.68 Q1403.85 1460.92 1403.85 1459.23 Q1403.85 1456.47 1401.9 1454.74 Q1399.98 1453 1396.88 1453 Q1394.68 1453 1392.23 1453.77 Q1389.8 1454.53 1387.02 1456.08 L1387.02 1451.36 Q1389.84 1450.22 1392.3 1449.65 Q1394.75 1449.07 1396.79 1449.07 Q1402.16 1449.07 1405.35 1451.75 Q1408.55 1454.44 1408.55 1458.93 Q1408.55 1461.06 1407.74 1462.98 Q1406.95 1464.88 1404.84 1467.47 Q1404.27 1468.14 1401.16 1471.36 Q1398.06 1474.55 1392.41 1480.32 Z\" fill=\"#000000\" fill-rule=\"evenodd\" fill-opacity=\"1\" /><path clip-path=\"url(#clip5900)\" d=\"M 0 0 M1423.8 1452.77 Q1420.19 1452.77 1418.36 1456.34 Q1416.56 1459.88 1416.56 1467.01 Q1416.56 1474.11 1418.36 1477.68 Q1420.19 1481.22 1423.8 1481.22 Q1427.44 1481.22 1429.24 1477.68 Q1431.07 1474.11 1431.07 1467.01 Q1431.07 1459.88 1429.24 1456.34 Q1427.44 1452.77 1423.8 1452.77 M1423.8 1449.07 Q1429.61 1449.07 1432.67 1453.67 Q1435.75 1458.26 1435.75 1467.01 Q1435.75 1475.73 1432.67 1480.34 Q1429.61 1484.92 1423.8 1484.92 Q1417.99 1484.92 1414.91 1480.34 Q1411.86 1475.73 1411.86 1467.01 Q1411.86 1458.26 1414.91 1453.67 Q1417.99 1449.07 1423.8 1449.07 Z\" fill=\"#000000\" fill-rule=\"evenodd\" fill-opacity=\"1\" /><path clip-path=\"url(#clip5900)\" d=\"M 0 0 M1445.21 1452.86 Q1440.12 1452.86 1437.11 1456.66 Q1434.13 1460.46 1434.13 1467.01 Q1434.13 1473.53 1437.11 1477.33 Q1440.12 1481.13 1445.21 1481.13 Q1450.31 1481.13 1453.27 1477.33 Q1456.26 1473.53 1456.26 1467.01 Q1456.26 1460.46 1453.27 1456.66 Q1450.31 1452.86 1445.21 1452.86 M1445.21 1449.07 Q1452.48 1449.07 1456.83 1453.95 Q1461.19 1458.81 1461.19 1467.01 Q1461.19 1475.18 1456.83 1480.06 Q1452.48 1484.92 1445.21 1484.92 Q1437.92 1484.92 1433.55 1480.06 Q1429.2 1475.2 1429.2 1467.01 Q1429.2 1458.81 1433.55 1453.95 Q1437.92 1449.07 1445.21 1449.07 Z\" fill=\"#000000\" fill-rule=\"evenodd\" fill-opacity=\"1\" /><path clip-path=\"url(#clip5900)\" d=\"M 0 0 M1484.31 1459.32 L1484.31 1463.3 Q1482.51 1462.31 1480.68 1461.82 Q1478.87 1461.31 1477.02 1461.31 Q1472.88 1461.31 1470.58 1463.95 Q1468.29 1466.57 1468.29 1471.31 Q1468.29 1476.06 1470.58 1478.7 Q1472.88 1481.31 1477.02 1481.31 Q1478.87 1481.31 1480.68 1480.83 Q1482.51 1480.32 1484.31 1479.32 L1484.31 1483.26 Q1482.53 1484.09 1480.61 1484.51 Q1478.71 1484.92 1476.56 1484.92 Q1470.7 1484.92 1467.25 1481.24 Q1463.8 1477.56 1463.8 1471.31 Q1463.8 1464.97 1467.27 1461.34 Q1470.77 1457.7 1476.83 1457.7 Q1478.8 1457.7 1480.68 1458.12 Q1482.55 1458.51 1484.31 1459.32 Z\" fill=\"#000000\" fill-rule=\"evenodd\" fill-opacity=\"1\" /><path clip-path=\"url(#clip5900)\" d=\"M 0 0 M1492.99 1450.96 L1492.99 1458.33 L1501.76 1458.33 L1501.76 1461.64 L1492.99 1461.64 L1492.99 1475.71 Q1492.99 1478.88 1493.85 1479.78 Q1494.73 1480.69 1497.39 1480.69 L1501.76 1480.69 L1501.76 1484.25 L1497.39 1484.25 Q1492.46 1484.25 1490.58 1482.42 Q1488.71 1480.57 1488.71 1475.71 L1488.71 1461.64 L1485.58 1461.64 L1485.58 1458.33 L1488.71 1458.33 L1488.71 1450.96 L1492.99 1450.96 Z\" fill=\"#000000\" fill-rule=\"evenodd\" fill-opacity=\"1\" /><path clip-path=\"url(#clip5900)\" d=\"M 0 0 M1506.83 1478.37 L1511.72 1478.37 L1511.72 1484.25 L1506.83 1484.25 L1506.83 1478.37 Z\" fill=\"#000000\" fill-rule=\"evenodd\" fill-opacity=\"1\" /><path clip-path=\"url(#clip5900)\" d=\"M 0 0 M1532.67 1480.32 L1540.31 1480.32 L1540.31 1453.95 L1532 1455.62 L1532 1451.36 L1540.26 1449.69 L1544.94 1449.69 L1544.94 1480.32 L1552.57 1480.32 L1552.57 1484.25 L1532.67 1484.25 L1532.67 1480.32 Z\" fill=\"#000000\" fill-rule=\"evenodd\" fill-opacity=\"1\" /><path clip-path=\"url(#clip5900)\" d=\"M 0 0 M1568.22 1465.11 Q1565.07 1465.11 1563.22 1467.26 Q1561.39 1469.41 1561.39 1473.16 Q1561.39 1476.89 1563.22 1479.07 Q1565.07 1481.22 1568.22 1481.22 Q1571.37 1481.22 1573.2 1479.07 Q1575.05 1476.89 1575.05 1473.16 Q1575.05 1469.41 1573.2 1467.26 Q1571.37 1465.11 1568.22 1465.11 M1577.5 1450.46 L1577.5 1454.71 Q1575.75 1453.88 1573.94 1453.44 Q1572.16 1453 1570.4 1453 Q1565.77 1453 1563.32 1456.13 Q1560.88 1459.25 1560.54 1465.57 Q1561.9 1463.56 1563.96 1462.49 Q1566.02 1461.4 1568.5 1461.4 Q1573.71 1461.4 1576.72 1464.58 Q1579.75 1467.72 1579.75 1473.16 Q1579.75 1478.49 1576.6 1481.71 Q1573.45 1484.92 1568.22 1484.92 Q1562.23 1484.92 1559.06 1480.34 Q1555.88 1475.73 1555.88 1467.01 Q1555.88 1458.81 1559.77 1453.95 Q1563.66 1449.07 1570.21 1449.07 Q1571.97 1449.07 1573.75 1449.41 Q1575.56 1449.76 1577.5 1450.46 Z\" fill=\"#000000\" fill-rule=\"evenodd\" fill-opacity=\"1\" /><path clip-path=\"url(#clip5900)\" d=\"M 0 0 M1585.31 1478.37 L1590.19 1478.37 L1590.19 1482.35 L1586.39 1489.76 L1583.41 1489.76 L1585.31 1482.35 L1585.31 1478.37 Z\" fill=\"#000000\" fill-rule=\"evenodd\" fill-opacity=\"1\" /><path clip-path=\"url(#clip5900)\" d=\"M 0 0 M1614.36 1480.32 L1630.68 1480.32 L1630.68 1484.25 L1608.73 1484.25 L1608.73 1480.32 Q1611.39 1477.56 1615.98 1472.93 Q1620.58 1468.28 1621.76 1466.94 Q1624.01 1464.41 1624.89 1462.68 Q1625.79 1460.92 1625.79 1459.23 Q1625.79 1456.47 1623.85 1454.74 Q1621.93 1453 1618.82 1453 Q1616.63 1453 1614.17 1453.77 Q1611.74 1454.53 1608.96 1456.08 L1608.96 1451.36 Q1611.79 1450.22 1614.24 1449.65 Q1616.69 1449.07 1618.73 1449.07 Q1624.1 1449.07 1627.3 1451.75 Q1630.49 1454.44 1630.49 1458.93 Q1630.49 1461.06 1629.68 1462.98 Q1628.89 1464.88 1626.79 1467.47 Q1626.21 1468.14 1623.11 1471.36 Q1620 1474.55 1614.36 1480.32 Z\" fill=\"#000000\" fill-rule=\"evenodd\" fill-opacity=\"1\" /><path clip-path=\"url(#clip5900)\" d=\"M 0 0 M1645.75 1452.77 Q1642.13 1452.77 1640.31 1456.34 Q1638.5 1459.88 1638.5 1467.01 Q1638.5 1474.11 1640.31 1477.68 Q1642.13 1481.22 1645.75 1481.22 Q1649.38 1481.22 1651.19 1477.68 Q1653.01 1474.11 1653.01 1467.01 Q1653.01 1459.88 1651.19 1456.34 Q1649.38 1452.77 1645.75 1452.77 M1645.75 1449.07 Q1651.56 1449.07 1654.61 1453.67 Q1657.69 1458.26 1657.69 1467.01 Q1657.69 1475.73 1654.61 1480.34 Q1651.56 1484.92 1645.75 1484.92 Q1639.94 1484.92 1636.86 1480.34 Q1633.8 1475.73 1633.8 1467.01 Q1633.8 1458.26 1636.86 1453.67 Q1639.94 1449.07 1645.75 1449.07 Z\" fill=\"#000000\" fill-rule=\"evenodd\" fill-opacity=\"1\" /><path clip-path=\"url(#clip5900)\" d=\"M 0 0 M1704.64 1452.86 Q1699.55 1452.86 1696.54 1456.66 Q1693.55 1460.46 1693.55 1467.01 Q1693.55 1473.53 1696.54 1477.33 Q1699.55 1481.13 1704.64 1481.13 Q1709.73 1481.13 1712.7 1477.33 Q1715.68 1473.53 1715.68 1467.01 Q1715.68 1460.46 1712.7 1456.66 Q1709.73 1452.86 1704.64 1452.86 M1704.64 1449.07 Q1711.91 1449.07 1716.26 1453.95 Q1720.61 1458.81 1720.61 1467.01 Q1720.61 1475.18 1716.26 1480.06 Q1711.91 1484.92 1704.64 1484.92 Q1697.35 1484.92 1692.98 1480.06 Q1688.62 1475.2 1688.62 1467.01 Q1688.62 1458.81 1692.98 1453.95 Q1697.35 1449.07 1704.64 1449.07 Z\" fill=\"#000000\" fill-rule=\"evenodd\" fill-opacity=\"1\" /><path clip-path=\"url(#clip5900)\" d=\"M 0 0 M1743.74 1459.32 L1743.74 1463.3 Q1741.93 1462.31 1740.11 1461.82 Q1738.3 1461.31 1736.45 1461.31 Q1732.3 1461.31 1730.01 1463.95 Q1727.72 1466.57 1727.72 1471.31 Q1727.72 1476.06 1730.01 1478.7 Q1732.3 1481.31 1736.45 1481.31 Q1738.3 1481.31 1740.11 1480.83 Q1741.93 1480.32 1743.74 1479.32 L1743.74 1483.26 Q1741.96 1484.09 1740.04 1484.51 Q1738.14 1484.92 1735.98 1484.92 Q1730.13 1484.92 1726.68 1481.24 Q1723.23 1477.56 1723.23 1471.31 Q1723.23 1464.97 1726.7 1461.34 Q1730.2 1457.7 1736.26 1457.7 Q1738.23 1457.7 1740.11 1458.12 Q1741.98 1458.51 1743.74 1459.32 Z\" fill=\"#000000\" fill-rule=\"evenodd\" fill-opacity=\"1\" /><path clip-path=\"url(#clip5900)\" d=\"M 0 0 M1752.42 1450.96 L1752.42 1458.33 L1761.19 1458.33 L1761.19 1461.64 L1752.42 1461.64 L1752.42 1475.71 Q1752.42 1478.88 1753.28 1479.78 Q1754.16 1480.69 1756.82 1480.69 L1761.19 1480.69 L1761.19 1484.25 L1756.82 1484.25 Q1751.89 1484.25 1750.01 1482.42 Q1748.14 1480.57 1748.14 1475.71 L1748.14 1461.64 L1745.01 1461.64 L1745.01 1458.33 L1748.14 1458.33 L1748.14 1450.96 L1752.42 1450.96 Z\" fill=\"#000000\" fill-rule=\"evenodd\" fill-opacity=\"1\" /><path clip-path=\"url(#clip5900)\" d=\"M 0 0 M1766.26 1478.37 L1771.15 1478.37 L1771.15 1484.25 L1766.26 1484.25 L1766.26 1478.37 Z\" fill=\"#000000\" fill-rule=\"evenodd\" fill-opacity=\"1\" /><path clip-path=\"url(#clip5900)\" d=\"M 0 0 M1795.31 1480.32 L1811.63 1480.32 L1811.63 1484.25 L1789.69 1484.25 L1789.69 1480.32 Q1792.35 1477.56 1796.93 1472.93 Q1801.54 1468.28 1802.72 1466.94 Q1804.97 1464.41 1805.85 1462.68 Q1806.75 1460.92 1806.75 1459.23 Q1806.75 1456.47 1804.8 1454.74 Q1802.88 1453 1799.78 1453 Q1797.58 1453 1795.13 1453.77 Q1792.7 1454.53 1789.92 1456.08 L1789.92 1451.36 Q1792.74 1450.22 1795.2 1449.65 Q1797.65 1449.07 1799.69 1449.07 Q1805.06 1449.07 1808.25 1451.75 Q1811.45 1454.44 1811.45 1458.93 Q1811.45 1461.06 1810.64 1462.98 Q1809.85 1464.88 1807.74 1467.47 Q1807.17 1468.14 1804.06 1471.36 Q1800.96 1474.55 1795.31 1480.32 Z\" fill=\"#000000\" fill-rule=\"evenodd\" fill-opacity=\"1\" /><path clip-path=\"url(#clip5900)\" d=\"M 0 0 M1830.87 1465.62 Q1834.23 1466.34 1836.1 1468.6 Q1838 1470.87 1838 1474.21 Q1838 1479.32 1834.48 1482.12 Q1830.96 1484.92 1824.48 1484.92 Q1822.3 1484.92 1819.99 1484.48 Q1817.7 1484.07 1815.24 1483.21 L1815.24 1478.7 Q1817.19 1479.83 1819.5 1480.41 Q1821.82 1480.99 1824.34 1480.99 Q1828.74 1480.99 1831.03 1479.25 Q1833.35 1477.52 1833.35 1474.21 Q1833.35 1471.15 1831.19 1469.44 Q1829.06 1467.7 1825.24 1467.7 L1821.22 1467.7 L1821.22 1463.86 L1825.43 1463.86 Q1828.88 1463.86 1830.71 1462.49 Q1832.54 1461.1 1832.54 1458.51 Q1832.54 1455.85 1830.64 1454.44 Q1828.76 1453 1825.24 1453 Q1823.32 1453 1821.12 1453.42 Q1818.92 1453.84 1816.29 1454.71 L1816.29 1450.55 Q1818.95 1449.81 1821.26 1449.44 Q1823.6 1449.07 1825.66 1449.07 Q1830.98 1449.07 1834.09 1451.5 Q1837.19 1453.9 1837.19 1458.03 Q1837.19 1460.9 1835.54 1462.89 Q1833.9 1464.85 1830.87 1465.62 Z\" fill=\"#000000\" fill-rule=\"evenodd\" fill-opacity=\"1\" /><path clip-path=\"url(#clip5900)\" d=\"M 0 0 M1843.55 1478.37 L1848.44 1478.37 L1848.44 1482.35 L1844.64 1489.76 L1841.66 1489.76 L1843.55 1482.35 L1843.55 1478.37 Z\" fill=\"#000000\" fill-rule=\"evenodd\" fill-opacity=\"1\" /><path clip-path=\"url(#clip5900)\" d=\"M 0 0 M1872.6 1480.32 L1888.92 1480.32 L1888.92 1484.25 L1866.98 1484.25 L1866.98 1480.32 Q1869.64 1477.56 1874.22 1472.93 Q1878.83 1468.28 1880.01 1466.94 Q1882.26 1464.41 1883.14 1462.68 Q1884.04 1460.92 1884.04 1459.23 Q1884.04 1456.47 1882.1 1454.74 Q1880.17 1453 1877.07 1453 Q1874.87 1453 1872.42 1453.77 Q1869.99 1454.53 1867.21 1456.08 L1867.21 1451.36 Q1870.04 1450.22 1872.49 1449.65 Q1874.94 1449.07 1876.98 1449.07 Q1882.35 1449.07 1885.54 1451.75 Q1888.74 1454.44 1888.74 1458.93 Q1888.74 1461.06 1887.93 1462.98 Q1887.14 1464.88 1885.03 1467.47 Q1884.46 1468.14 1881.35 1471.36 Q1878.25 1474.55 1872.6 1480.32 Z\" fill=\"#000000\" fill-rule=\"evenodd\" fill-opacity=\"1\" /><path clip-path=\"url(#clip5900)\" d=\"M 0 0 M1903.99 1452.77 Q1900.38 1452.77 1898.55 1456.34 Q1896.75 1459.88 1896.75 1467.01 Q1896.75 1474.11 1898.55 1477.68 Q1900.38 1481.22 1903.99 1481.22 Q1907.63 1481.22 1909.43 1477.68 Q1911.26 1474.11 1911.26 1467.01 Q1911.26 1459.88 1909.43 1456.34 Q1907.63 1452.77 1903.99 1452.77 M1903.99 1449.07 Q1909.8 1449.07 1912.86 1453.67 Q1915.94 1458.26 1915.94 1467.01 Q1915.94 1475.73 1912.86 1480.34 Q1909.8 1484.92 1903.99 1484.92 Q1898.18 1484.92 1895.1 1480.34 Q1892.05 1475.73 1892.05 1467.01 Q1892.05 1458.26 1895.1 1453.67 Q1898.18 1449.07 1903.99 1449.07 Z\" fill=\"#000000\" fill-rule=\"evenodd\" fill-opacity=\"1\" /><path clip-path=\"url(#clip5900)\" d=\"M 0 0 M1962.68 1452.86 Q1957.59 1452.86 1954.58 1456.66 Q1951.59 1460.46 1951.59 1467.01 Q1951.59 1473.53 1954.58 1477.33 Q1957.59 1481.13 1962.68 1481.13 Q1967.77 1481.13 1970.74 1477.33 Q1973.72 1473.53 1973.72 1467.01 Q1973.72 1460.46 1970.74 1456.66 Q1967.77 1452.86 1962.68 1452.86 M1962.68 1449.07 Q1969.95 1449.07 1974.3 1453.95 Q1978.65 1458.81 1978.65 1467.01 Q1978.65 1475.18 1974.3 1480.06 Q1969.95 1484.92 1962.68 1484.92 Q1955.39 1484.92 1951.02 1480.06 Q1946.66 1475.2 1946.66 1467.01 Q1946.66 1458.81 1951.02 1453.95 Q1955.39 1449.07 1962.68 1449.07 Z\" fill=\"#000000\" fill-rule=\"evenodd\" fill-opacity=\"1\" /><path clip-path=\"url(#clip5900)\" d=\"M 0 0 M2001.78 1459.32 L2001.78 1463.3 Q1999.97 1462.31 1998.14 1461.82 Q1996.34 1461.31 1994.49 1461.31 Q1990.34 1461.31 1988.05 1463.95 Q1985.76 1466.57 1985.76 1471.31 Q1985.76 1476.06 1988.05 1478.7 Q1990.34 1481.31 1994.49 1481.31 Q1996.34 1481.31 1998.14 1480.83 Q1999.97 1480.32 2001.78 1479.32 L2001.78 1483.26 Q2000 1484.09 1998.08 1484.51 Q1996.18 1484.92 1994.02 1484.92 Q1988.17 1484.92 1984.72 1481.24 Q1981.27 1477.56 1981.27 1471.31 Q1981.27 1464.97 1984.74 1461.34 Q1988.24 1457.7 1994.3 1457.7 Q1996.27 1457.7 1998.14 1458.12 Q2000.02 1458.51 2001.78 1459.32 Z\" fill=\"#000000\" fill-rule=\"evenodd\" fill-opacity=\"1\" /><path clip-path=\"url(#clip5900)\" d=\"M 0 0 M2010.46 1450.96 L2010.46 1458.33 L2019.23 1458.33 L2019.23 1461.64 L2010.46 1461.64 L2010.46 1475.71 Q2010.46 1478.88 2011.32 1479.78 Q2012.2 1480.69 2014.86 1480.69 L2019.23 1480.69 L2019.23 1484.25 L2014.86 1484.25 Q2009.93 1484.25 2008.05 1482.42 Q2006.18 1480.57 2006.18 1475.71 L2006.18 1461.64 L2003.05 1461.64 L2003.05 1458.33 L2006.18 1458.33 L2006.18 1450.96 L2010.46 1450.96 Z\" fill=\"#000000\" fill-rule=\"evenodd\" fill-opacity=\"1\" /><path clip-path=\"url(#clip5900)\" d=\"M 0 0 M2024.3 1478.37 L2029.19 1478.37 L2029.19 1484.25 L2024.3 1484.25 L2024.3 1478.37 Z\" fill=\"#000000\" fill-rule=\"evenodd\" fill-opacity=\"1\" /><path clip-path=\"url(#clip5900)\" d=\"M 0 0 M2063.49 1465.62 Q2066.85 1466.34 2068.72 1468.6 Q2070.62 1470.87 2070.62 1474.21 Q2070.62 1479.32 2067.1 1482.12 Q2063.58 1484.92 2057.1 1484.92 Q2054.93 1484.92 2052.61 1484.48 Q2050.32 1484.07 2047.87 1483.21 L2047.87 1478.7 Q2049.81 1479.83 2052.13 1480.41 Q2054.44 1480.99 2056.96 1480.99 Q2061.36 1480.99 2063.65 1479.25 Q2065.97 1477.52 2065.97 1474.21 Q2065.97 1471.15 2063.82 1469.44 Q2061.69 1467.7 2057.87 1467.7 L2053.84 1467.7 L2053.84 1463.86 L2058.05 1463.86 Q2061.5 1463.86 2063.33 1462.49 Q2065.16 1461.1 2065.16 1458.51 Q2065.16 1455.85 2063.26 1454.44 Q2061.39 1453 2057.87 1453 Q2055.95 1453 2053.75 1453.42 Q2051.55 1453.84 2048.91 1454.71 L2048.91 1450.55 Q2051.57 1449.81 2053.89 1449.44 Q2056.22 1449.07 2058.28 1449.07 Q2063.61 1449.07 2066.71 1451.5 Q2069.81 1453.9 2069.81 1458.03 Q2069.81 1460.9 2068.17 1462.89 Q2066.52 1464.85 2063.49 1465.62 Z\" fill=\"#000000\" fill-rule=\"evenodd\" fill-opacity=\"1\" /><path clip-path=\"url(#clip5900)\" d=\"M 0 0 M2085.69 1452.77 Q2082.08 1452.77 2080.25 1456.34 Q2078.45 1459.88 2078.45 1467.01 Q2078.45 1474.11 2080.25 1477.68 Q2082.08 1481.22 2085.69 1481.22 Q2089.32 1481.22 2091.13 1477.68 Q2092.96 1474.11 2092.96 1467.01 Q2092.96 1459.88 2091.13 1456.34 Q2089.32 1452.77 2085.69 1452.77 M2085.69 1449.07 Q2091.5 1449.07 2094.56 1453.67 Q2097.64 1458.26 2097.64 1467.01 Q2097.64 1475.73 2094.56 1480.34 Q2091.5 1484.92 2085.69 1484.92 Q2079.88 1484.92 2076.8 1480.34 Q2073.75 1475.73 2073.75 1467.01 Q2073.75 1458.26 2076.8 1453.67 Q2079.88 1449.07 2085.69 1449.07 Z\" fill=\"#000000\" fill-rule=\"evenodd\" fill-opacity=\"1\" /><path clip-path=\"url(#clip5900)\" d=\"M 0 0 M2103.19 1478.37 L2108.07 1478.37 L2108.07 1482.35 L2104.28 1489.76 L2101.29 1489.76 L2103.19 1482.35 L2103.19 1478.37 Z\" fill=\"#000000\" fill-rule=\"evenodd\" fill-opacity=\"1\" /><path clip-path=\"url(#clip5900)\" d=\"M 0 0 M2132.24 1480.32 L2148.56 1480.32 L2148.56 1484.25 L2126.62 1484.25 L2126.62 1480.32 Q2129.28 1477.56 2133.86 1472.93 Q2138.47 1468.28 2139.65 1466.94 Q2141.89 1464.41 2142.77 1462.68 Q2143.68 1460.92 2143.68 1459.23 Q2143.68 1456.47 2141.73 1454.74 Q2139.81 1453 2136.71 1453 Q2134.51 1453 2132.06 1453.77 Q2129.63 1454.53 2126.85 1456.08 L2126.85 1451.36 Q2129.67 1450.22 2132.13 1449.65 Q2134.58 1449.07 2136.62 1449.07 Q2141.99 1449.07 2145.18 1451.75 Q2148.38 1454.44 2148.38 1458.93 Q2148.38 1461.06 2147.57 1462.98 Q2146.78 1464.88 2144.67 1467.47 Q2144.09 1468.14 2140.99 1471.36 Q2137.89 1474.55 2132.24 1480.32 Z\" fill=\"#000000\" fill-rule=\"evenodd\" fill-opacity=\"1\" /><path clip-path=\"url(#clip5900)\" d=\"M 0 0 M2163.63 1452.77 Q2160.02 1452.77 2158.19 1456.34 Q2156.38 1459.88 2156.38 1467.01 Q2156.38 1474.11 2158.19 1477.68 Q2160.02 1481.22 2163.63 1481.22 Q2167.26 1481.22 2169.07 1477.68 Q2170.9 1474.11 2170.9 1467.01 Q2170.9 1459.88 2169.07 1456.34 Q2167.26 1452.77 2163.63 1452.77 M2163.63 1449.07 Q2169.44 1449.07 2172.5 1453.67 Q2175.57 1458.26 2175.57 1467.01 Q2175.57 1475.73 2172.5 1480.34 Q2169.44 1484.92 2163.63 1484.92 Q2157.82 1484.92 2154.74 1480.34 Q2151.69 1475.73 2151.69 1467.01 Q2151.69 1458.26 2154.74 1453.67 Q2157.82 1449.07 2163.63 1449.07 Z\" fill=\"#000000\" fill-rule=\"evenodd\" fill-opacity=\"1\" /><path clip-path=\"url(#clip5900)\" d=\"M 0 0 M2180.72 1449.69 L2187.02 1449.69 L2202.34 1478.6 L2202.34 1449.69 L2206.88 1449.69 L2206.88 1484.25 L2200.58 1484.25 L2185.26 1455.34 L2185.26 1484.25 L2180.72 1484.25 L2180.72 1449.69 Z\" fill=\"#000000\" fill-rule=\"evenodd\" fill-opacity=\"1\" /><path clip-path=\"url(#clip5900)\" d=\"M 0 0 M2221.39 1461.31 Q2217.97 1461.31 2215.98 1464 Q2213.99 1466.66 2213.99 1471.31 Q2213.99 1475.96 2215.96 1478.65 Q2217.95 1481.31 2221.39 1481.31 Q2224.8 1481.31 2226.79 1478.63 Q2228.78 1475.94 2228.78 1471.31 Q2228.78 1466.71 2226.79 1464.02 Q2224.8 1461.31 2221.39 1461.31 M2221.39 1457.7 Q2226.95 1457.7 2230.12 1461.31 Q2233.29 1464.92 2233.29 1471.31 Q2233.29 1477.68 2230.12 1481.31 Q2226.95 1484.92 2221.39 1484.92 Q2215.82 1484.92 2212.65 1481.31 Q2209.5 1477.68 2209.5 1471.31 Q2209.5 1464.92 2212.65 1461.31 Q2215.82 1457.7 2221.39 1457.7 Z\" fill=\"#000000\" fill-rule=\"evenodd\" fill-opacity=\"1\" /><path clip-path=\"url(#clip5900)\" d=\"M 0 0 M2234.71 1458.33 L2239.22 1458.33 L2247.32 1480.09 L2255.42 1458.33 L2259.94 1458.33 L2250.21 1484.25 L2244.43 1484.25 L2234.71 1458.33 Z\" fill=\"#000000\" fill-rule=\"evenodd\" fill-opacity=\"1\" /><path clip-path=\"url(#clip5900)\" d=\"M 0 0 M2261.33 1478.37 L2266.21 1478.37 L2266.21 1484.25 L2261.33 1484.25 L2261.33 1478.37 Z\" fill=\"#000000\" fill-rule=\"evenodd\" fill-opacity=\"1\" /><path clip-path=\"url(#clip5900)\" d=\"M 0 0 M2286.39 1449.69 L2304.75 1449.69 L2304.75 1453.63 L2290.68 1453.63 L2290.68 1462.1 Q2291.7 1461.75 2292.71 1461.59 Q2293.73 1461.4 2294.75 1461.4 Q2300.54 1461.4 2303.92 1464.58 Q2307.3 1467.75 2307.3 1473.16 Q2307.3 1478.74 2303.83 1481.84 Q2300.35 1484.92 2294.03 1484.92 Q2291.86 1484.92 2289.59 1484.55 Q2287.34 1484.18 2284.94 1483.44 L2284.94 1478.74 Q2287.02 1479.88 2289.24 1480.43 Q2291.46 1480.99 2293.94 1480.99 Q2297.95 1480.99 2300.28 1478.88 Q2302.62 1476.78 2302.62 1473.16 Q2302.62 1469.55 2300.28 1467.45 Q2297.95 1465.34 2293.94 1465.34 Q2292.07 1465.34 2290.19 1465.76 Q2288.34 1466.17 2286.39 1467.05 L2286.39 1449.69 Z\" fill=\"#000000\" fill-rule=\"evenodd\" fill-opacity=\"1\" /><path clip-path=\"url(#clip5900)\" d=\"M 0 0 M2312.85 1478.37 L2317.74 1478.37 L2317.74 1482.35 L2313.94 1489.76 L2310.95 1489.76 L2312.85 1482.35 L2312.85 1478.37 Z\" fill=\"#000000\" fill-rule=\"evenodd\" fill-opacity=\"1\" /><path clip-path=\"url(#clip5900)\" d=\"M 0 0 M2341.9 1480.32 L2358.22 1480.32 L2358.22 1484.25 L2336.28 1484.25 L2336.28 1480.32 Q2338.94 1477.56 2343.52 1472.93 Q2348.13 1468.28 2349.31 1466.94 Q2351.56 1464.41 2352.44 1462.68 Q2353.34 1460.92 2353.34 1459.23 Q2353.34 1456.47 2351.39 1454.74 Q2349.47 1453 2346.37 1453 Q2344.17 1453 2341.72 1453.77 Q2339.29 1454.53 2336.51 1456.08 L2336.51 1451.36 Q2339.33 1450.22 2341.79 1449.65 Q2344.24 1449.07 2346.28 1449.07 Q2351.65 1449.07 2354.84 1451.75 Q2358.04 1454.44 2358.04 1458.93 Q2358.04 1461.06 2357.23 1462.98 Q2356.44 1464.88 2354.33 1467.47 Q2353.76 1468.14 2350.65 1471.36 Q2347.55 1474.55 2341.9 1480.32 Z\" fill=\"#000000\" fill-rule=\"evenodd\" fill-opacity=\"1\" /><path clip-path=\"url(#clip5900)\" d=\"M 0 0 M2373.29 1452.77 Q2369.68 1452.77 2367.85 1456.34 Q2366.05 1459.88 2366.05 1467.01 Q2366.05 1474.11 2367.85 1477.68 Q2369.68 1481.22 2373.29 1481.22 Q2376.93 1481.22 2378.73 1477.68 Q2380.56 1474.11 2380.56 1467.01 Q2380.56 1459.88 2378.73 1456.34 Q2376.93 1452.77 2373.29 1452.77 M2373.29 1449.07 Q2379.1 1449.07 2382.16 1453.67 Q2385.24 1458.26 2385.24 1467.01 Q2385.24 1475.73 2382.16 1480.34 Q2379.1 1484.92 2373.29 1484.92 Q2367.48 1484.92 2364.4 1480.34 Q2361.35 1475.73 2361.35 1467.01 Q2361.35 1458.26 2364.4 1453.67 Q2367.48 1449.07 2373.29 1449.07 Z\" fill=\"#000000\" fill-rule=\"evenodd\" fill-opacity=\"1\" /><path clip-path=\"url(#clip5900)\" d=\"M 0 0 M2426.97 1449.69 L2433.27 1449.69 L2448.59 1478.6 L2448.59 1449.69 L2453.13 1449.69 L2453.13 1484.25 L2446.83 1484.25 L2431.51 1455.34 L2431.51 1484.25 L2426.97 1484.25 L2426.97 1449.69 Z\" fill=\"#000000\" fill-rule=\"evenodd\" fill-opacity=\"1\" /><path clip-path=\"url(#clip5900)\" d=\"M 0 0 M2467.64 1461.31 Q2464.21 1461.31 2462.22 1464 Q2460.23 1466.66 2460.23 1471.31 Q2460.23 1475.96 2462.2 1478.65 Q2464.19 1481.31 2467.64 1481.31 Q2471.04 1481.31 2473.03 1478.63 Q2475.02 1475.94 2475.02 1471.31 Q2475.02 1466.71 2473.03 1464.02 Q2471.04 1461.31 2467.64 1461.31 M2467.64 1457.7 Q2473.2 1457.7 2476.37 1461.31 Q2479.54 1464.92 2479.54 1471.31 Q2479.54 1477.68 2476.37 1481.31 Q2473.2 1484.92 2467.64 1484.92 Q2462.06 1484.92 2458.89 1481.31 Q2455.74 1477.68 2455.74 1471.31 Q2455.74 1464.92 2458.89 1461.31 Q2462.06 1457.7 2467.64 1457.7 Z\" fill=\"#000000\" fill-rule=\"evenodd\" fill-opacity=\"1\" /><path clip-path=\"url(#clip5900)\" d=\"M 0 0 M2480.95 1458.33 L2485.46 1458.33 L2493.57 1480.09 L2501.67 1458.33 L2506.18 1458.33 L2496.46 1484.25 L2490.67 1484.25 L2480.95 1458.33 Z\" fill=\"#000000\" fill-rule=\"evenodd\" fill-opacity=\"1\" /><path clip-path=\"url(#clip5900)\" d=\"M 0 0 M2507.57 1478.37 L2512.46 1478.37 L2512.46 1484.25 L2507.57 1484.25 L2507.57 1478.37 Z\" fill=\"#000000\" fill-rule=\"evenodd\" fill-opacity=\"1\" /><path clip-path=\"url(#clip5900)\" d=\"M 0 0 M2533.4 1480.32 L2541.04 1480.32 L2541.04 1453.95 L2532.73 1455.62 L2532.73 1451.36 L2541 1449.69 L2545.67 1449.69 L2545.67 1480.32 L2553.31 1480.32 L2553.31 1484.25 L2533.4 1484.25 L2533.4 1480.32 Z\" fill=\"#000000\" fill-rule=\"evenodd\" fill-opacity=\"1\" /><path clip-path=\"url(#clip5900)\" d=\"M 0 0 M2562.41 1480.32 L2578.73 1480.32 L2578.73 1484.25 L2556.78 1484.25 L2556.78 1480.32 Q2559.45 1477.56 2564.03 1472.93 Q2568.64 1468.28 2569.82 1466.94 Q2572.06 1464.41 2572.94 1462.68 Q2573.84 1460.92 2573.84 1459.23 Q2573.84 1456.47 2571.9 1454.74 Q2569.98 1453 2566.88 1453 Q2564.68 1453 2562.22 1453.77 Q2559.79 1454.53 2557.02 1456.08 L2557.02 1451.36 Q2559.84 1450.22 2562.29 1449.65 Q2564.75 1449.07 2566.78 1449.07 Q2572.15 1449.07 2575.35 1451.75 Q2578.54 1454.44 2578.54 1458.93 Q2578.54 1461.06 2577.73 1462.98 Q2576.95 1464.88 2574.84 1467.47 Q2574.26 1468.14 2571.16 1471.36 Q2568.06 1474.55 2562.41 1480.32 Z\" fill=\"#000000\" fill-rule=\"evenodd\" fill-opacity=\"1\" /><path clip-path=\"url(#clip5900)\" d=\"M 0 0 M2584.28 1478.37 L2589.17 1478.37 L2589.17 1482.35 L2585.37 1489.76 L2582.39 1489.76 L2584.28 1482.35 L2584.28 1478.37 Z\" fill=\"#000000\" fill-rule=\"evenodd\" fill-opacity=\"1\" /><path clip-path=\"url(#clip5900)\" d=\"M 0 0 M2613.33 1480.32 L2629.65 1480.32 L2629.65 1484.25 L2607.71 1484.25 L2607.71 1480.32 Q2610.37 1477.56 2614.95 1472.93 Q2619.56 1468.28 2620.74 1466.94 Q2622.99 1464.41 2623.87 1462.68 Q2624.77 1460.92 2624.77 1459.23 Q2624.77 1456.47 2622.83 1454.74 Q2620.9 1453 2617.8 1453 Q2615.6 1453 2613.15 1453.77 Q2610.72 1454.53 2607.94 1456.08 L2607.94 1451.36 Q2610.76 1450.22 2613.22 1449.65 Q2615.67 1449.07 2617.71 1449.07 Q2623.08 1449.07 2626.27 1451.75 Q2629.47 1454.44 2629.47 1458.93 Q2629.47 1461.06 2628.66 1462.98 Q2627.87 1464.88 2625.76 1467.47 Q2625.19 1468.14 2622.08 1471.36 Q2618.98 1474.55 2613.33 1480.32 Z\" fill=\"#000000\" fill-rule=\"evenodd\" fill-opacity=\"1\" /><path clip-path=\"url(#clip5900)\" d=\"M 0 0 M2644.72 1452.77 Q2641.11 1452.77 2639.28 1456.34 Q2637.48 1459.88 2637.48 1467.01 Q2637.48 1474.11 2639.28 1477.68 Q2641.11 1481.22 2644.72 1481.22 Q2648.36 1481.22 2650.16 1477.68 Q2651.99 1474.11 2651.99 1467.01 Q2651.99 1459.88 2650.16 1456.34 Q2648.36 1452.77 2644.72 1452.77 M2644.72 1449.07 Q2650.53 1449.07 2653.59 1453.67 Q2656.67 1458.26 2656.67 1467.01 Q2656.67 1475.73 2653.59 1480.34 Q2650.53 1484.92 2644.72 1484.92 Q2638.91 1484.92 2635.83 1480.34 Q2632.78 1475.73 2632.78 1467.01 Q2632.78 1458.26 2635.83 1453.67 Q2638.91 1449.07 2644.72 1449.07 Z\" fill=\"#000000\" fill-rule=\"evenodd\" fill-opacity=\"1\" /><path clip-path=\"url(#clip5900)\" d=\"M 0 0 M2648.08 1449.69 L2654.37 1449.69 L2669.7 1478.6 L2669.7 1449.69 L2674.24 1449.69 L2674.24 1484.25 L2667.94 1484.25 L2652.62 1455.34 L2652.62 1484.25 L2648.08 1484.25 L2648.08 1449.69 Z\" fill=\"#000000\" fill-rule=\"evenodd\" fill-opacity=\"1\" /><path clip-path=\"url(#clip5900)\" d=\"M 0 0 M2688.75 1461.31 Q2685.32 1461.31 2683.33 1464 Q2681.34 1466.66 2681.34 1471.31 Q2681.34 1475.96 2683.31 1478.65 Q2685.3 1481.31 2688.75 1481.31 Q2692.15 1481.31 2694.14 1478.63 Q2696.13 1475.94 2696.13 1471.31 Q2696.13 1466.71 2694.14 1464.02 Q2692.15 1461.31 2688.75 1461.31 M2688.75 1457.7 Q2694.31 1457.7 2697.48 1461.31 Q2700.65 1464.92 2700.65 1471.31 Q2700.65 1477.68 2697.48 1481.31 Q2694.31 1484.92 2688.75 1484.92 Q2683.17 1484.92 2680 1481.31 Q2676.85 1477.68 2676.85 1471.31 Q2676.85 1464.92 2680 1461.31 Q2683.17 1457.7 2688.75 1457.7 Z\" fill=\"#000000\" fill-rule=\"evenodd\" fill-opacity=\"1\" /><path clip-path=\"url(#clip5900)\" d=\"M 0 0 M2702.06 1458.33 L2706.57 1458.33 L2714.68 1480.09 L2722.78 1458.33 L2727.29 1458.33 L2717.57 1484.25 L2711.78 1484.25 L2702.06 1458.33 Z\" fill=\"#000000\" fill-rule=\"evenodd\" fill-opacity=\"1\" /><path clip-path=\"url(#clip5900)\" d=\"M 0 0 M2728.68 1478.37 L2733.56 1478.37 L2733.56 1484.25 L2728.68 1484.25 L2728.68 1478.37 Z\" fill=\"#000000\" fill-rule=\"evenodd\" fill-opacity=\"1\" /><path clip-path=\"url(#clip5900)\" d=\"M 0 0 M2754.51 1480.32 L2762.15 1480.32 L2762.15 1453.95 L2753.84 1455.62 L2753.84 1451.36 L2762.11 1449.69 L2766.78 1449.69 L2766.78 1480.32 L2774.42 1480.32 L2774.42 1484.25 L2754.51 1484.25 L2754.51 1480.32 Z\" fill=\"#000000\" fill-rule=\"evenodd\" fill-opacity=\"1\" /><path clip-path=\"url(#clip5900)\" d=\"M 0 0 M2789.49 1467.84 Q2786.16 1467.84 2784.24 1469.62 Q2782.34 1471.4 2782.34 1474.53 Q2782.34 1477.65 2784.24 1479.44 Q2786.16 1481.22 2789.49 1481.22 Q2792.82 1481.22 2794.74 1479.44 Q2796.67 1477.63 2796.67 1474.53 Q2796.67 1471.4 2794.74 1469.62 Q2792.85 1467.84 2789.49 1467.84 M2784.81 1465.85 Q2781.8 1465.11 2780.11 1463.05 Q2778.45 1460.99 2778.45 1458.03 Q2778.45 1453.88 2781.39 1451.47 Q2784.35 1449.07 2789.49 1449.07 Q2794.65 1449.07 2797.59 1451.47 Q2800.53 1453.88 2800.53 1458.03 Q2800.53 1460.99 2798.84 1463.05 Q2797.18 1465.11 2794.19 1465.85 Q2797.57 1466.64 2799.44 1468.93 Q2801.34 1471.22 2801.34 1474.53 Q2801.34 1479.55 2798.26 1482.24 Q2795.21 1484.92 2789.49 1484.92 Q2783.77 1484.92 2780.69 1482.24 Q2777.64 1479.55 2777.64 1474.53 Q2777.64 1471.22 2779.54 1468.93 Q2781.43 1466.64 2784.81 1465.85 M2783.1 1458.46 Q2783.1 1461.15 2784.77 1462.65 Q2786.46 1464.16 2789.49 1464.16 Q2792.5 1464.16 2794.19 1462.65 Q2795.9 1461.15 2795.9 1458.46 Q2795.9 1455.78 2794.19 1454.28 Q2792.5 1452.77 2789.49 1452.77 Q2786.46 1452.77 2784.77 1454.28 Q2783.1 1455.78 2783.1 1458.46 Z\" fill=\"#000000\" fill-rule=\"evenodd\" fill-opacity=\"1\" /><path clip-path=\"url(#clip5900)\" d=\"M 0 0 M2806.9 1478.37 L2811.78 1478.37 L2811.78 1482.35 L2807.99 1489.76 L2805 1489.76 L2806.9 1482.35 L2806.9 1478.37 Z\" fill=\"#000000\" fill-rule=\"evenodd\" fill-opacity=\"1\" /><path clip-path=\"url(#clip5900)\" d=\"M 0 0 M2835.95 1480.32 L2852.27 1480.32 L2852.27 1484.25 L2830.32 1484.25 L2830.32 1480.32 Q2832.98 1477.56 2837.57 1472.93 Q2842.17 1468.28 2843.36 1466.94 Q2845.6 1464.41 2846.48 1462.68 Q2847.38 1460.92 2847.38 1459.23 Q2847.38 1456.47 2845.44 1454.74 Q2843.52 1453 2840.42 1453 Q2838.22 1453 2835.76 1453.77 Q2833.33 1454.53 2830.55 1456.08 L2830.55 1451.36 Q2833.38 1450.22 2835.83 1449.65 Q2838.29 1449.07 2840.32 1449.07 Q2845.69 1449.07 2848.89 1451.75 Q2852.08 1454.44 2852.08 1458.93 Q2852.08 1461.06 2851.27 1462.98 Q2850.48 1464.88 2848.38 1467.47 Q2847.8 1468.14 2844.7 1471.36 Q2841.6 1474.55 2835.95 1480.32 Z\" fill=\"#000000\" fill-rule=\"evenodd\" fill-opacity=\"1\" /><path clip-path=\"url(#clip5900)\" d=\"M 0 0 M2867.34 1452.77 Q2863.73 1452.77 2861.9 1456.34 Q2860.09 1459.88 2860.09 1467.01 Q2860.09 1474.11 2861.9 1477.68 Q2863.73 1481.22 2867.34 1481.22 Q2870.97 1481.22 2872.78 1477.68 Q2874.61 1474.11 2874.61 1467.01 Q2874.61 1459.88 2872.78 1456.34 Q2870.97 1452.77 2867.34 1452.77 M2867.34 1449.07 Q2873.15 1449.07 2876.2 1453.67 Q2879.28 1458.26 2879.28 1467.01 Q2879.28 1475.73 2876.2 1480.34 Q2873.15 1484.92 2867.34 1484.92 Q2861.53 1484.92 2858.45 1480.34 Q2855.39 1475.73 2855.39 1467.01 Q2855.39 1458.26 2858.45 1453.67 Q2861.53 1449.07 2867.34 1449.07 Z\" fill=\"#000000\" fill-rule=\"evenodd\" fill-opacity=\"1\" /><path clip-path=\"url(#clip5900)\" d=\"M 0 0 M2907.55 1449.69 L2913.85 1449.69 L2929.17 1478.6 L2929.17 1449.69 L2933.71 1449.69 L2933.71 1484.25 L2927.41 1484.25 L2912.09 1455.34 L2912.09 1484.25 L2907.55 1484.25 L2907.55 1449.69 Z\" fill=\"#000000\" fill-rule=\"evenodd\" fill-opacity=\"1\" /><path clip-path=\"url(#clip5900)\" d=\"M 0 0 M2948.22 1461.31 Q2944.8 1461.31 2942.81 1464 Q2940.82 1466.66 2940.82 1471.31 Q2940.82 1475.96 2942.78 1478.65 Q2944.78 1481.31 2948.22 1481.31 Q2951.63 1481.31 2953.62 1478.63 Q2955.61 1475.94 2955.61 1471.31 Q2955.61 1466.71 2953.62 1464.02 Q2951.63 1461.31 2948.22 1461.31 M2948.22 1457.7 Q2953.78 1457.7 2956.95 1461.31 Q2960.12 1464.92 2960.12 1471.31 Q2960.12 1477.68 2956.95 1481.31 Q2953.78 1484.92 2948.22 1484.92 Q2942.65 1484.92 2939.47 1481.31 Q2936.33 1477.68 2936.33 1471.31 Q2936.33 1464.92 2939.47 1461.31 Q2942.65 1457.7 2948.22 1457.7 Z\" fill=\"#000000\" fill-rule=\"evenodd\" fill-opacity=\"1\" /><path clip-path=\"url(#clip5900)\" d=\"M 0 0 M2961.53 1458.33 L2966.05 1458.33 L2974.15 1480.09 L2982.25 1458.33 L2986.77 1458.33 L2977.04 1484.25 L2971.26 1484.25 L2961.53 1458.33 Z\" fill=\"#000000\" fill-rule=\"evenodd\" fill-opacity=\"1\" /><path clip-path=\"url(#clip5900)\" d=\"M 0 0 M2988.15 1478.37 L2993.04 1478.37 L2993.04 1484.25 L2988.15 1484.25 L2988.15 1478.37 Z\" fill=\"#000000\" fill-rule=\"evenodd\" fill-opacity=\"1\" /><path clip-path=\"url(#clip5900)\" d=\"M 0 0 M3017.21 1480.32 L3033.52 1480.32 L3033.52 1484.25 L3011.58 1484.25 L3011.58 1480.32 Q3014.24 1477.56 3018.83 1472.93 Q3023.43 1468.28 3024.61 1466.94 Q3026.86 1464.41 3027.74 1462.68 Q3028.64 1460.92 3028.64 1459.23 Q3028.64 1456.47 3026.7 1454.74 Q3024.77 1453 3021.67 1453 Q3019.47 1453 3017.02 1453.77 Q3014.59 1454.53 3011.81 1456.08 L3011.81 1451.36 Q3014.64 1450.22 3017.09 1449.65 Q3019.54 1449.07 3021.58 1449.07 Q3026.95 1449.07 3030.15 1451.75 Q3033.34 1454.44 3033.34 1458.93 Q3033.34 1461.06 3032.53 1462.98 Q3031.74 1464.88 3029.64 1467.47 Q3029.06 1468.14 3025.96 1471.36 Q3022.85 1474.55 3017.21 1480.32 Z\" fill=\"#000000\" fill-rule=\"evenodd\" fill-opacity=\"1\" /><path clip-path=\"url(#clip5900)\" d=\"M 0 0 M3038.64 1449.69 L3057 1449.69 L3057 1453.63 L3042.92 1453.63 L3042.92 1462.1 Q3043.94 1461.75 3044.96 1461.59 Q3045.98 1461.4 3047 1461.4 Q3052.78 1461.4 3056.16 1464.58 Q3059.54 1467.75 3059.54 1473.16 Q3059.54 1478.74 3056.07 1481.84 Q3052.6 1484.92 3046.28 1484.92 Q3044.1 1484.92 3041.84 1484.55 Q3039.59 1484.18 3037.18 1483.44 L3037.18 1478.74 Q3039.27 1479.88 3041.49 1480.43 Q3043.71 1480.99 3046.19 1480.99 Q3050.19 1480.99 3052.53 1478.88 Q3054.87 1476.78 3054.87 1473.16 Q3054.87 1469.55 3052.53 1467.45 Q3050.19 1465.34 3046.19 1465.34 Q3044.31 1465.34 3042.44 1465.76 Q3040.59 1466.17 3038.64 1467.05 L3038.64 1449.69 Z\" fill=\"#000000\" fill-rule=\"evenodd\" fill-opacity=\"1\" /><path clip-path=\"url(#clip5900)\" d=\"M 0 0 M3065.1 1478.37 L3069.98 1478.37 L3069.98 1482.35 L3066.19 1489.76 L3063.2 1489.76 L3065.1 1482.35 L3065.1 1478.37 Z\" fill=\"#000000\" fill-rule=\"evenodd\" fill-opacity=\"1\" /><path clip-path=\"url(#clip5900)\" d=\"M 0 0 M3094.15 1480.32 L3110.47 1480.32 L3110.47 1484.25 L3088.52 1484.25 L3088.52 1480.32 Q3091.19 1477.56 3095.77 1472.93 Q3100.38 1468.28 3101.56 1466.94 Q3103.8 1464.41 3104.68 1462.68 Q3105.58 1460.92 3105.58 1459.23 Q3105.58 1456.47 3103.64 1454.74 Q3101.72 1453 3098.62 1453 Q3096.42 1453 3093.96 1453.77 Q3091.53 1454.53 3088.76 1456.08 L3088.76 1451.36 Q3091.58 1450.22 3094.03 1449.65 Q3096.49 1449.07 3098.52 1449.07 Q3103.89 1449.07 3107.09 1451.75 Q3110.28 1454.44 3110.28 1458.93 Q3110.28 1461.06 3109.47 1462.98 Q3108.69 1464.88 3106.58 1467.47 Q3106 1468.14 3102.9 1471.36 Q3099.8 1474.55 3094.15 1480.32 Z\" fill=\"#000000\" fill-rule=\"evenodd\" fill-opacity=\"1\" /><path clip-path=\"url(#clip5900)\" d=\"M 0 0 M3125.54 1452.77 Q3121.93 1452.77 3120.1 1456.34 Q3118.29 1459.88 3118.29 1467.01 Q3118.29 1474.11 3120.1 1477.68 Q3121.93 1481.22 3125.54 1481.22 Q3129.17 1481.22 3130.98 1477.68 Q3132.81 1474.11 3132.81 1467.01 Q3132.81 1459.88 3130.98 1456.34 Q3129.17 1452.77 3125.54 1452.77 M3125.54 1449.07 Q3131.35 1449.07 3134.4 1453.67 Q3137.48 1458.26 3137.48 1467.01 Q3137.48 1475.73 3134.4 1480.34 Q3131.35 1484.92 3125.54 1484.92 Q3119.73 1484.92 3116.65 1480.34 Q3113.59 1475.73 3113.59 1467.01 Q3113.59 1458.26 3116.65 1453.67 Q3119.73 1449.07 3125.54 1449.07 Z\" fill=\"#000000\" fill-rule=\"evenodd\" fill-opacity=\"1\" /><path clip-path=\"url(#clip5900)\" d=\"M 0 0 M3182.43 1453.53 L3182.43 1480.41 L3188.08 1480.41 Q3195.23 1480.41 3198.54 1477.17 Q3201.88 1473.93 3201.88 1466.94 Q3201.88 1459.99 3198.54 1456.78 Q3195.23 1453.53 3188.08 1453.53 L3182.43 1453.53 M3177.76 1449.69 L3187.36 1449.69 Q3197.41 1449.69 3202.11 1453.88 Q3206.81 1458.05 3206.81 1466.94 Q3206.81 1475.87 3202.09 1480.06 Q3197.36 1484.25 3187.36 1484.25 L3177.76 1484.25 L3177.76 1449.69 Z\" fill=\"#000000\" fill-rule=\"evenodd\" fill-opacity=\"1\" /><path clip-path=\"url(#clip5900)\" d=\"M 0 0 M3233.45 1470.22 L3233.45 1472.31 L3213.87 1472.31 Q3214.15 1476.71 3216.51 1479.02 Q3218.89 1481.31 3223.13 1481.31 Q3225.58 1481.31 3227.87 1480.71 Q3230.19 1480.11 3232.46 1478.9 L3232.46 1482.93 Q3230.16 1483.9 3227.76 1484.41 Q3225.35 1484.92 3222.87 1484.92 Q3216.67 1484.92 3213.03 1481.31 Q3209.42 1477.7 3209.42 1471.54 Q3209.42 1465.18 3212.85 1461.45 Q3216.3 1457.7 3222.13 1457.7 Q3227.36 1457.7 3230.4 1461.08 Q3233.45 1464.44 3233.45 1470.22 M3229.19 1468.97 Q3229.15 1465.48 3227.22 1463.4 Q3225.33 1461.31 3222.18 1461.31 Q3218.61 1461.31 3216.46 1463.33 Q3214.33 1465.34 3214.01 1469 L3229.19 1468.97 Z\" fill=\"#000000\" fill-rule=\"evenodd\" fill-opacity=\"1\" /><path clip-path=\"url(#clip5900)\" d=\"M 0 0 M3256.58 1459.32 L3256.58 1463.3 Q3254.77 1462.31 3252.94 1461.82 Q3251.14 1461.31 3249.28 1461.31 Q3245.14 1461.31 3242.85 1463.95 Q3240.56 1466.57 3240.56 1471.31 Q3240.56 1476.06 3242.85 1478.7 Q3245.14 1481.31 3249.28 1481.31 Q3251.14 1481.31 3252.94 1480.83 Q3254.77 1480.32 3256.58 1479.32 L3256.58 1483.26 Q3254.79 1484.09 3252.87 1484.51 Q3250.97 1484.92 3248.82 1484.92 Q3242.97 1484.92 3239.52 1481.24 Q3236.07 1477.56 3236.07 1471.31 Q3236.07 1464.97 3239.54 1461.34 Q3243.03 1457.7 3249.1 1457.7 Q3251.07 1457.7 3252.94 1458.12 Q3254.82 1458.51 3256.58 1459.32 Z\" fill=\"#000000\" fill-rule=\"evenodd\" fill-opacity=\"1\" /><path clip-path=\"url(#clip5900)\" d=\"M 0 0 M3261.65 1478.37 L3266.53 1478.37 L3266.53 1484.25 L3261.65 1484.25 L3261.65 1478.37 Z\" fill=\"#000000\" fill-rule=\"evenodd\" fill-opacity=\"1\" /><path clip-path=\"url(#clip5900)\" d=\"M 0 0 M3290.7 1480.32 L3307.02 1480.32 L3307.02 1484.25 L3285.07 1484.25 L3285.07 1480.32 Q3287.73 1477.56 3292.32 1472.93 Q3296.92 1468.28 3298.1 1466.94 Q3300.35 1464.41 3301.23 1462.68 Q3302.13 1460.92 3302.13 1459.23 Q3302.13 1456.47 3300.19 1454.74 Q3298.27 1453 3295.16 1453 Q3292.96 1453 3290.51 1453.77 Q3288.08 1454.53 3285.3 1456.08 L3285.3 1451.36 Q3288.13 1450.22 3290.58 1449.65 Q3293.03 1449.07 3295.07 1449.07 Q3300.44 1449.07 3303.64 1451.75 Q3306.83 1454.44 3306.83 1458.93 Q3306.83 1461.06 3306.02 1462.98 Q3305.23 1464.88 3303.13 1467.47 Q3302.55 1468.14 3299.45 1471.36 Q3296.34 1474.55 3290.7 1480.32 Z\" fill=\"#000000\" fill-rule=\"evenodd\" fill-opacity=\"1\" /><path clip-path=\"url(#clip5900)\" d=\"M 0 0 M3312.57 1478.37 L3317.46 1478.37 L3317.46 1482.35 L3313.66 1489.76 L3310.67 1489.76 L3312.57 1482.35 L3312.57 1478.37 Z\" fill=\"#000000\" fill-rule=\"evenodd\" fill-opacity=\"1\" /><path clip-path=\"url(#clip5900)\" d=\"M 0 0 M3341.62 1480.32 L3357.94 1480.32 L3357.94 1484.25 L3336 1484.25 L3336 1480.32 Q3338.66 1477.56 3343.24 1472.93 Q3347.85 1468.28 3349.03 1466.94 Q3351.27 1464.41 3352.15 1462.68 Q3353.06 1460.92 3353.06 1459.23 Q3353.06 1456.47 3351.11 1454.74 Q3349.19 1453 3346.09 1453 Q3343.89 1453 3341.44 1453.77 Q3339.01 1454.53 3336.23 1456.08 L3336.23 1451.36 Q3339.05 1450.22 3341.51 1449.65 Q3343.96 1449.07 3346 1449.07 Q3351.37 1449.07 3354.56 1451.75 Q3357.76 1454.44 3357.76 1458.93 Q3357.76 1461.06 3356.95 1462.98 Q3356.16 1464.88 3354.05 1467.47 Q3353.47 1468.14 3350.37 1471.36 Q3347.27 1474.55 3341.62 1480.32 Z\" fill=\"#000000\" fill-rule=\"evenodd\" fill-opacity=\"1\" /><path clip-path=\"url(#clip5900)\" d=\"M 0 0 M3373.01 1452.77 Q3369.4 1452.77 3367.57 1456.34 Q3365.77 1459.88 3365.77 1467.01 Q3365.77 1474.11 3367.57 1477.68 Q3369.4 1481.22 3373.01 1481.22 Q3376.65 1481.22 3378.45 1477.68 Q3380.28 1474.11 3380.28 1467.01 Q3380.28 1459.88 3378.45 1456.34 Q3376.65 1452.77 3373.01 1452.77 M3373.01 1449.07 Q3378.82 1449.07 3381.88 1453.67 Q3384.96 1458.26 3384.96 1467.01 Q3384.96 1475.73 3381.88 1480.34 Q3378.82 1484.92 3373.01 1484.92 Q3367.2 1484.92 3364.12 1480.34 Q3361.07 1475.73 3361.07 1467.01 Q3361.07 1458.26 3364.12 1453.67 Q3367.2 1449.07 3373.01 1449.07 Z\" fill=\"#000000\" fill-rule=\"evenodd\" fill-opacity=\"1\" /><path clip-path=\"url(#clip5900)\" d=\"M 0 0 M3403.54 1453.53 L3403.54 1480.41 L3409.19 1480.41 Q3416.34 1480.41 3419.65 1477.17 Q3422.99 1473.93 3422.99 1466.94 Q3422.99 1459.99 3419.65 1456.78 Q3416.34 1453.53 3409.19 1453.53 L3403.54 1453.53 M3398.87 1449.69 L3408.47 1449.69 Q3418.52 1449.69 3423.22 1453.88 Q3427.92 1458.05 3427.92 1466.94 Q3427.92 1475.87 3423.19 1480.06 Q3418.47 1484.25 3408.47 1484.25 L3398.87 1484.25 L3398.87 1449.69 Z\" fill=\"#000000\" fill-rule=\"evenodd\" fill-opacity=\"1\" /><path clip-path=\"url(#clip5900)\" d=\"M 0 0 M3454.56 1470.22 L3454.56 1472.31 L3434.98 1472.31 Q3435.25 1476.71 3437.62 1479.02 Q3440 1481.31 3444.24 1481.31 Q3446.69 1481.31 3448.98 1480.71 Q3451.3 1480.11 3453.57 1478.9 L3453.57 1482.93 Q3451.27 1483.9 3448.87 1484.41 Q3446.46 1484.92 3443.98 1484.92 Q3437.78 1484.92 3434.14 1481.31 Q3430.53 1477.7 3430.53 1471.54 Q3430.53 1465.18 3433.96 1461.45 Q3437.41 1457.7 3443.24 1457.7 Q3448.47 1457.7 3451.5 1461.08 Q3454.56 1464.44 3454.56 1470.22 M3450.3 1468.97 Q3450.25 1465.48 3448.33 1463.4 Q3446.44 1461.31 3443.29 1461.31 Q3439.72 1461.31 3437.57 1463.33 Q3435.44 1465.34 3435.12 1469 L3450.3 1468.97 Z\" fill=\"#000000\" fill-rule=\"evenodd\" fill-opacity=\"1\" /><path clip-path=\"url(#clip5900)\" d=\"M 0 0 M3477.69 1459.32 L3477.69 1463.3 Q3475.88 1462.31 3474.05 1461.82 Q3472.25 1461.31 3470.39 1461.31 Q3466.25 1461.31 3463.96 1463.95 Q3461.67 1466.57 3461.67 1471.31 Q3461.67 1476.06 3463.96 1478.7 Q3466.25 1481.31 3470.39 1481.31 Q3472.25 1481.31 3474.05 1480.83 Q3475.88 1480.32 3477.69 1479.32 L3477.69 1483.26 Q3475.9 1484.09 3473.98 1484.51 Q3472.08 1484.92 3469.93 1484.92 Q3464.07 1484.92 3460.63 1481.24 Q3457.18 1477.56 3457.18 1471.31 Q3457.18 1464.97 3460.65 1461.34 Q3464.14 1457.7 3470.21 1457.7 Q3472.18 1457.7 3474.05 1458.12 Q3475.93 1458.51 3477.69 1459.32 Z\" fill=\"#000000\" fill-rule=\"evenodd\" fill-opacity=\"1\" /><path clip-path=\"url(#clip5900)\" d=\"M 0 0 M3482.75 1478.37 L3487.64 1478.37 L3487.64 1484.25 L3482.75 1484.25 L3482.75 1478.37 Z\" fill=\"#000000\" fill-rule=\"evenodd\" fill-opacity=\"1\" /><path clip-path=\"url(#clip5900)\" d=\"M 0 0 M3517.78 1467.84 Q3514.44 1467.84 3512.52 1469.62 Q3510.62 1471.4 3510.62 1474.53 Q3510.62 1477.65 3512.52 1479.44 Q3514.44 1481.22 3517.78 1481.22 Q3521.11 1481.22 3523.03 1479.44 Q3524.95 1477.63 3524.95 1474.53 Q3524.95 1471.4 3523.03 1469.62 Q3521.13 1467.84 3517.78 1467.84 M3513.1 1465.85 Q3510.09 1465.11 3508.4 1463.05 Q3506.74 1460.99 3506.74 1458.03 Q3506.74 1453.88 3509.68 1451.47 Q3512.64 1449.07 3517.78 1449.07 Q3522.94 1449.07 3525.88 1451.47 Q3528.82 1453.88 3528.82 1458.03 Q3528.82 1460.99 3527.13 1463.05 Q3525.46 1465.11 3522.48 1465.85 Q3525.86 1466.64 3527.73 1468.93 Q3529.63 1471.22 3529.63 1474.53 Q3529.63 1479.55 3526.55 1482.24 Q3523.5 1484.92 3517.78 1484.92 Q3512.06 1484.92 3508.98 1482.24 Q3505.93 1479.55 3505.93 1474.53 Q3505.93 1471.22 3507.82 1468.93 Q3509.72 1466.64 3513.1 1465.85 M3511.39 1458.46 Q3511.39 1461.15 3513.06 1462.65 Q3514.75 1464.16 3517.78 1464.16 Q3520.79 1464.16 3522.48 1462.65 Q3524.19 1461.15 3524.19 1458.46 Q3524.19 1455.78 3522.48 1454.28 Q3520.79 1452.77 3517.78 1452.77 Q3514.75 1452.77 3513.06 1454.28 Q3511.39 1455.78 3511.39 1458.46 Z\" fill=\"#000000\" fill-rule=\"evenodd\" fill-opacity=\"1\" /><path clip-path=\"url(#clip5900)\" d=\"M 0 0 M3535.18 1478.37 L3540.07 1478.37 L3540.07 1482.35 L3536.27 1489.76 L3533.29 1489.76 L3535.18 1482.35 L3535.18 1478.37 Z\" fill=\"#000000\" fill-rule=\"evenodd\" fill-opacity=\"1\" /><path clip-path=\"url(#clip5900)\" d=\"M 0 0 M3564.24 1480.32 L3580.56 1480.32 L3580.56 1484.25 L3558.61 1484.25 L3558.61 1480.32 Q3561.27 1477.56 3565.86 1472.93 Q3570.46 1468.28 3571.64 1466.94 Q3573.89 1464.41 3574.77 1462.68 Q3575.67 1460.92 3575.67 1459.23 Q3575.67 1456.47 3573.73 1454.74 Q3571.81 1453 3568.7 1453 Q3566.5 1453 3564.05 1453.77 Q3561.62 1454.53 3558.84 1456.08 L3558.84 1451.36 Q3561.67 1450.22 3564.12 1449.65 Q3566.57 1449.07 3568.61 1449.07 Q3573.98 1449.07 3577.18 1451.75 Q3580.37 1454.44 3580.37 1458.93 Q3580.37 1461.06 3579.56 1462.98 Q3578.77 1464.88 3576.67 1467.47 Q3576.09 1468.14 3572.99 1471.36 Q3569.88 1474.55 3564.24 1480.32 Z\" fill=\"#000000\" fill-rule=\"evenodd\" fill-opacity=\"1\" /><path clip-path=\"url(#clip5900)\" d=\"M 0 0 M3595.62 1452.77 Q3592.01 1452.77 3590.18 1456.34 Q3588.38 1459.88 3588.38 1467.01 Q3588.38 1474.11 3590.18 1477.68 Q3592.01 1481.22 3595.62 1481.22 Q3599.26 1481.22 3601.06 1477.68 Q3602.89 1474.11 3602.89 1467.01 Q3602.89 1459.88 3601.06 1456.34 Q3599.26 1452.77 3595.62 1452.77 M3595.62 1449.07 Q3601.43 1449.07 3604.49 1453.67 Q3607.57 1458.26 3607.57 1467.01 Q3607.57 1475.73 3604.49 1480.34 Q3601.43 1484.92 3595.62 1484.92 Q3589.81 1484.92 3586.74 1480.34 Q3583.68 1475.73 3583.68 1467.01 Q3583.68 1458.26 3586.74 1453.67 Q3589.81 1449.07 3595.62 1449.07 Z\" fill=\"#000000\" fill-rule=\"evenodd\" fill-opacity=\"1\" /><path clip-path=\"url(#clip5900)\" d=\"M 0 0 M3649.94 1453.53 L3649.94 1480.41 L3655.59 1480.41 Q3662.74 1480.41 3666.05 1477.17 Q3669.38 1473.93 3669.38 1466.94 Q3669.38 1459.99 3666.05 1456.78 Q3662.74 1453.53 3655.59 1453.53 L3649.94 1453.53 M3645.26 1449.69 L3654.87 1449.69 Q3664.92 1449.69 3669.61 1453.88 Q3674.31 1458.05 3674.31 1466.94 Q3674.31 1475.87 3669.59 1480.06 Q3664.87 1484.25 3654.87 1484.25 L3645.26 1484.25 L3645.26 1449.69 Z\" fill=\"#000000\" fill-rule=\"evenodd\" fill-opacity=\"1\" /><path clip-path=\"url(#clip5900)\" d=\"M 0 0 M3700.96 1470.22 L3700.96 1472.31 L3681.37 1472.31 Q3681.65 1476.71 3684.01 1479.02 Q3686.4 1481.31 3690.63 1481.31 Q3693.09 1481.31 3695.38 1480.71 Q3697.69 1480.11 3699.96 1478.9 L3699.96 1482.93 Q3697.67 1483.9 3695.26 1484.41 Q3692.85 1484.92 3690.38 1484.92 Q3684.17 1484.92 3680.54 1481.31 Q3676.93 1477.7 3676.93 1471.54 Q3676.93 1465.18 3680.35 1461.45 Q3683.8 1457.7 3689.64 1457.7 Q3694.87 1457.7 3697.9 1461.08 Q3700.96 1464.44 3700.96 1470.22 M3696.7 1468.97 Q3696.65 1465.48 3694.73 1463.4 Q3692.83 1461.31 3689.68 1461.31 Q3686.12 1461.31 3683.97 1463.33 Q3681.84 1465.34 3681.51 1469 L3696.7 1468.97 Z\" fill=\"#000000\" fill-rule=\"evenodd\" fill-opacity=\"1\" /><path clip-path=\"url(#clip5900)\" d=\"M 0 0 M3724.08 1459.32 L3724.08 1463.3 Q3722.28 1462.31 3720.45 1461.82 Q3718.64 1461.31 3716.79 1461.31 Q3712.65 1461.31 3710.35 1463.95 Q3708.06 1466.57 3708.06 1471.31 Q3708.06 1476.06 3710.35 1478.7 Q3712.65 1481.31 3716.79 1481.31 Q3718.64 1481.31 3720.45 1480.83 Q3722.28 1480.32 3724.08 1479.32 L3724.08 1483.26 Q3722.3 1484.09 3720.38 1484.51 Q3718.48 1484.92 3716.33 1484.92 Q3710.47 1484.92 3707.02 1481.24 Q3703.57 1477.56 3703.57 1471.31 Q3703.57 1464.97 3707.04 1461.34 Q3710.54 1457.7 3716.6 1457.7 Q3718.57 1457.7 3720.45 1458.12 Q3722.32 1458.51 3724.08 1459.32 Z\" fill=\"#000000\" fill-rule=\"evenodd\" fill-opacity=\"1\" /><path clip-path=\"url(#clip5900)\" d=\"M 0 0 M3729.15 1478.37 L3734.04 1478.37 L3734.04 1484.25 L3729.15 1484.25 L3729.15 1478.37 Z\" fill=\"#000000\" fill-rule=\"evenodd\" fill-opacity=\"1\" /><path clip-path=\"url(#clip5900)\" d=\"M 0 0 M3754.98 1480.32 L3762.62 1480.32 L3762.62 1453.95 L3754.31 1455.62 L3754.31 1451.36 L3762.58 1449.69 L3767.25 1449.69 L3767.25 1480.32 L3774.89 1480.32 L3774.89 1484.25 L3754.98 1484.25 L3754.98 1480.32 Z\" fill=\"#000000\" fill-rule=\"evenodd\" fill-opacity=\"1\" /><path clip-path=\"url(#clip5900)\" d=\"M 0 0 M3780.01 1449.69 L3798.36 1449.69 L3798.36 1453.63 L3784.29 1453.63 L3784.29 1462.1 Q3785.31 1461.75 3786.33 1461.59 Q3787.34 1461.4 3788.36 1461.4 Q3794.15 1461.4 3797.53 1464.58 Q3800.91 1467.75 3800.91 1473.16 Q3800.91 1478.74 3797.44 1481.84 Q3793.97 1484.92 3787.65 1484.92 Q3785.47 1484.92 3783.2 1484.55 Q3780.96 1484.18 3778.55 1483.44 L3778.55 1478.74 Q3780.63 1479.88 3782.85 1480.43 Q3785.08 1480.99 3787.55 1480.99 Q3791.56 1480.99 3793.9 1478.88 Q3796.23 1476.78 3796.23 1473.16 Q3796.23 1469.55 3793.9 1467.45 Q3791.56 1465.34 3787.55 1465.34 Q3785.68 1465.34 3783.8 1465.76 Q3781.95 1466.17 3780.01 1467.05 L3780.01 1449.69 Z\" fill=\"#000000\" fill-rule=\"evenodd\" fill-opacity=\"1\" /><path clip-path=\"url(#clip5900)\" d=\"M 0 0 M3806.47 1478.37 L3811.35 1478.37 L3811.35 1482.35 L3807.55 1489.76 L3804.57 1489.76 L3806.47 1482.35 L3806.47 1478.37 Z\" fill=\"#000000\" fill-rule=\"evenodd\" fill-opacity=\"1\" /><path clip-path=\"url(#clip5900)\" d=\"M 0 0 M3835.52 1480.32 L3851.84 1480.32 L3851.84 1484.25 L3829.89 1484.25 L3829.89 1480.32 Q3832.55 1477.56 3837.14 1472.93 Q3841.74 1468.28 3842.92 1466.94 Q3845.17 1464.41 3846.05 1462.68 Q3846.95 1460.92 3846.95 1459.23 Q3846.95 1456.47 3845.01 1454.74 Q3843.09 1453 3839.98 1453 Q3837.78 1453 3835.33 1453.77 Q3832.9 1454.53 3830.12 1456.08 L3830.12 1451.36 Q3832.95 1450.22 3835.4 1449.65 Q3837.85 1449.07 3839.89 1449.07 Q3845.26 1449.07 3848.46 1451.75 Q3851.65 1454.44 3851.65 1458.93 Q3851.65 1461.06 3850.84 1462.98 Q3850.05 1464.88 3847.95 1467.47 Q3847.37 1468.14 3844.27 1471.36 Q3841.16 1474.55 3835.52 1480.32 Z\" fill=\"#000000\" fill-rule=\"evenodd\" fill-opacity=\"1\" /><path clip-path=\"url(#clip5900)\" d=\"M 0 0 M3866.9 1452.77 Q3863.29 1452.77 3861.46 1456.34 Q3859.66 1459.88 3859.66 1467.01 Q3859.66 1474.11 3861.46 1477.68 Q3863.29 1481.22 3866.9 1481.22 Q3870.54 1481.22 3872.34 1477.68 Q3874.17 1474.11 3874.17 1467.01 Q3874.17 1459.88 3872.34 1456.34 Q3870.54 1452.77 3866.9 1452.77 M3866.9 1449.07 Q3872.71 1449.07 3875.77 1453.67 Q3878.85 1458.26 3878.85 1467.01 Q3878.85 1475.73 3875.77 1480.34 Q3872.71 1484.92 3866.9 1484.92 Q3861.09 1484.92 3858.02 1480.34 Q3854.96 1475.73 3854.96 1467.01 Q3854.96 1458.26 3858.02 1453.67 Q3861.09 1449.07 3866.9 1449.07 Z\" fill=\"#000000\" fill-rule=\"evenodd\" fill-opacity=\"1\" /><path clip-path=\"url(#clip5900)\" d=\"M 0 0 M126.662 1265.5 L114.856 1283.95 L126.662 1283.95 L126.662 1265.5 M125.435 1261.43 L131.315 1261.43 L131.315 1283.95 L136.245 1283.95 L136.245 1287.84 L131.315 1287.84 L131.315 1295.99 L126.662 1295.99 L126.662 1287.84 L111.06 1287.84 L111.06 1283.32 L125.435 1261.43 Z\" fill=\"#000000\" fill-rule=\"evenodd\" fill-opacity=\"1\" /><path clip-path=\"url(#clip5900)\" d=\"M 0 0 M140.134 1261.43 L162.356 1261.43 L162.356 1263.42 L149.81 1295.99 L144.926 1295.99 L156.731 1265.36 L140.134 1265.36 L140.134 1261.43 Z\" fill=\"#000000\" fill-rule=\"evenodd\" fill-opacity=\"1\" /><path clip-path=\"url(#clip5900)\" d=\"M 0 0 M167.472 1261.43 L185.828 1261.43 L185.828 1265.36 L171.754 1265.36 L171.754 1273.83 Q172.773 1273.49 173.791 1273.32 Q174.81 1273.14 175.828 1273.14 Q181.615 1273.14 184.995 1276.31 Q188.375 1279.48 188.375 1284.9 Q188.375 1290.48 184.902 1293.58 Q181.43 1296.66 175.111 1296.66 Q172.935 1296.66 170.666 1296.29 Q168.421 1295.92 166.014 1295.18 L166.014 1290.48 Q168.097 1291.61 170.319 1292.17 Q172.541 1292.72 175.018 1292.72 Q179.023 1292.72 181.361 1290.62 Q183.699 1288.51 183.699 1284.9 Q183.699 1281.29 181.361 1279.18 Q179.023 1277.07 175.018 1277.07 Q173.143 1277.07 171.268 1277.49 Q169.416 1277.91 167.472 1278.79 L167.472 1261.43 Z\" fill=\"#000000\" fill-rule=\"evenodd\" fill-opacity=\"1\" /><path clip-path=\"url(#clip5900)\" d=\"M 0 0 M113.444 997.594 L131.801 997.594 L131.801 1001.53 L117.727 1001.53 L117.727 1010 Q118.745 1009.65 119.764 1009.49 Q120.782 1009.31 121.801 1009.31 Q127.588 1009.31 130.967 1012.48 Q134.347 1015.65 134.347 1021.07 Q134.347 1026.64 130.875 1029.75 Q127.403 1032.82 121.083 1032.82 Q118.907 1032.82 116.639 1032.45 Q114.393 1032.08 111.986 1031.34 L111.986 1026.64 Q114.069 1027.78 116.292 1028.33 Q118.514 1028.89 120.991 1028.89 Q124.995 1028.89 127.333 1026.78 Q129.671 1024.68 129.671 1021.07 Q129.671 1017.45 127.333 1015.35 Q124.995 1013.24 120.991 1013.24 Q119.116 1013.24 117.241 1013.66 Q115.389 1014.08 113.444 1014.95 L113.444 997.594 Z\" fill=\"#000000\" fill-rule=\"evenodd\" fill-opacity=\"1\" /><path clip-path=\"url(#clip5900)\" d=\"M 0 0 M149.416 1000.67 Q145.805 1000.67 143.977 1004.24 Q142.171 1007.78 142.171 1014.91 Q142.171 1022.01 143.977 1025.58 Q145.805 1029.12 149.416 1029.12 Q153.051 1029.12 154.856 1025.58 Q156.685 1022.01 156.685 1014.91 Q156.685 1007.78 154.856 1004.24 Q153.051 1000.67 149.416 1000.67 M149.416 996.969 Q155.227 996.969 158.282 1001.58 Q161.361 1006.16 161.361 1014.91 Q161.361 1023.64 158.282 1028.24 Q155.227 1032.82 149.416 1032.82 Q143.606 1032.82 140.528 1028.24 Q137.472 1023.64 137.472 1014.91 Q137.472 1006.16 140.528 1001.58 Q143.606 996.969 149.416 996.969 Z\" fill=\"#000000\" fill-rule=\"evenodd\" fill-opacity=\"1\" /><path clip-path=\"url(#clip5900)\" d=\"M 0 0 M176.43 1000.67 Q172.819 1000.67 170.99 1004.24 Q169.185 1007.78 169.185 1014.91 Q169.185 1022.01 170.99 1025.58 Q172.819 1029.12 176.43 1029.12 Q180.064 1029.12 181.87 1025.58 Q183.699 1022.01 183.699 1014.91 Q183.699 1007.78 181.87 1004.24 Q180.064 1000.67 176.43 1000.67 M176.43 996.969 Q182.24 996.969 185.296 1001.58 Q188.375 1006.16 188.375 1014.91 Q188.375 1023.64 185.296 1028.24 Q182.24 1032.82 176.43 1032.82 Q170.62 1032.82 167.541 1028.24 Q164.486 1023.64 164.486 1014.91 Q164.486 1006.16 167.541 1001.58 Q170.62 996.969 176.43 996.969 Z\" fill=\"#000000\" fill-rule=\"evenodd\" fill-opacity=\"1\" /><path clip-path=\"url(#clip5900)\" d=\"M 0 0 M116.037 733.762 L134.393 733.762 L134.393 737.697 L120.319 737.697 L120.319 746.169 Q121.338 745.822 122.356 745.66 Q123.375 745.475 124.393 745.475 Q130.18 745.475 133.56 748.646 Q136.94 751.817 136.94 757.234 Q136.94 762.813 133.467 765.914 Q129.995 768.993 123.676 768.993 Q121.5 768.993 119.231 768.623 Q116.986 768.252 114.579 767.512 L114.579 762.813 Q116.662 763.947 118.884 764.502 Q121.106 765.058 123.583 765.058 Q127.588 765.058 129.926 762.952 Q132.264 760.845 132.264 757.234 Q132.264 753.623 129.926 751.516 Q127.588 749.41 123.583 749.41 Q121.708 749.41 119.833 749.827 Q117.981 750.243 116.037 751.123 L116.037 733.762 Z\" fill=\"#000000\" fill-rule=\"evenodd\" fill-opacity=\"1\" /><path clip-path=\"url(#clip5900)\" d=\"M 0 0 M146.037 764.387 L162.356 764.387 L162.356 768.322 L140.412 768.322 L140.412 764.387 Q143.074 761.632 147.657 757.002 Q152.264 752.35 153.444 751.007 Q155.69 748.484 156.569 746.748 Q157.472 744.989 157.472 743.299 Q157.472 740.544 155.528 738.808 Q153.606 737.072 150.504 737.072 Q148.305 737.072 145.852 737.836 Q143.421 738.6 140.643 740.151 L140.643 735.429 Q143.467 734.294 145.921 733.716 Q148.375 733.137 150.412 733.137 Q155.782 733.137 158.977 735.822 Q162.171 738.507 162.171 742.998 Q162.171 745.128 161.361 747.049 Q160.574 748.947 158.467 751.54 Q157.889 752.211 154.787 755.428 Q151.685 758.623 146.037 764.387 Z\" fill=\"#000000\" fill-rule=\"evenodd\" fill-opacity=\"1\" /><path clip-path=\"url(#clip5900)\" d=\"M 0 0 M167.472 733.762 L185.828 733.762 L185.828 737.697 L171.754 737.697 L171.754 746.169 Q172.773 745.822 173.791 745.66 Q174.81 745.475 175.828 745.475 Q181.615 745.475 184.995 748.646 Q188.375 751.817 188.375 757.234 Q188.375 762.813 184.902 765.914 Q181.43 768.993 175.111 768.993 Q172.935 768.993 170.666 768.623 Q168.421 768.252 166.014 767.512 L166.014 762.813 Q168.097 763.947 170.319 764.502 Q172.541 765.058 175.018 765.058 Q179.023 765.058 181.361 762.952 Q183.699 760.845 183.699 757.234 Q183.699 753.623 181.361 751.516 Q179.023 749.41 175.018 749.41 Q173.143 749.41 171.268 749.827 Q169.416 750.243 167.472 751.123 L167.472 733.762 Z\" fill=\"#000000\" fill-rule=\"evenodd\" fill-opacity=\"1\" /><path clip-path=\"url(#clip5900)\" d=\"M 0 0 M114.44 469.93 L132.796 469.93 L132.796 473.865 L118.722 473.865 L118.722 482.337 Q119.741 481.99 120.759 481.828 Q121.778 481.643 122.796 481.643 Q128.583 481.643 131.963 484.814 Q135.342 487.986 135.342 493.402 Q135.342 498.981 131.87 502.083 Q128.398 505.161 122.079 505.161 Q119.903 505.161 117.634 504.791 Q115.389 504.421 112.981 503.68 L112.981 498.981 Q115.065 500.115 117.287 500.671 Q119.509 501.226 121.986 501.226 Q125.991 501.226 128.329 499.12 Q130.667 497.013 130.667 493.402 Q130.667 489.791 128.329 487.685 Q125.991 485.578 121.986 485.578 Q120.111 485.578 118.236 485.995 Q116.384 486.411 114.44 487.291 L114.44 469.93 Z\" fill=\"#000000\" fill-rule=\"evenodd\" fill-opacity=\"1\" /><path clip-path=\"url(#clip5900)\" d=\"M 0 0 M140.458 469.93 L158.815 469.93 L158.815 473.865 L144.741 473.865 L144.741 482.337 Q145.759 481.99 146.778 481.828 Q147.796 481.643 148.815 481.643 Q154.602 481.643 157.981 484.814 Q161.361 487.986 161.361 493.402 Q161.361 498.981 157.889 502.083 Q154.416 505.161 148.097 505.161 Q145.921 505.161 143.653 504.791 Q141.407 504.421 139 503.68 L139 498.981 Q141.083 500.115 143.305 500.671 Q145.528 501.226 148.004 501.226 Q152.009 501.226 154.347 499.12 Q156.685 497.013 156.685 493.402 Q156.685 489.791 154.347 487.685 Q152.009 485.578 148.004 485.578 Q146.129 485.578 144.254 485.995 Q142.403 486.411 140.458 487.291 L140.458 469.93 Z\" fill=\"#000000\" fill-rule=\"evenodd\" fill-opacity=\"1\" /><path clip-path=\"url(#clip5900)\" d=\"M 0 0 M176.43 473.009 Q172.819 473.009 170.99 476.574 Q169.185 480.115 169.185 487.245 Q169.185 494.351 170.99 497.916 Q172.819 501.458 176.43 501.458 Q180.064 501.458 181.87 497.916 Q183.699 494.351 183.699 487.245 Q183.699 480.115 181.87 476.574 Q180.064 473.009 176.43 473.009 M176.43 469.305 Q182.24 469.305 185.296 473.912 Q188.375 478.495 188.375 487.245 Q188.375 495.972 185.296 500.578 Q182.24 505.161 176.43 505.161 Q170.62 505.161 167.541 500.578 Q164.486 495.972 164.486 487.245 Q164.486 478.495 167.541 473.912 Q170.62 469.305 176.43 469.305 Z\" fill=\"#000000\" fill-rule=\"evenodd\" fill-opacity=\"1\" /><path clip-path=\"url(#clip5900)\" d=\"M 0 0 M115.343 206.098 L133.699 206.098 L133.699 210.033 L119.625 210.033 L119.625 218.506 Q120.643 218.158 121.662 217.996 Q122.68 217.811 123.699 217.811 Q129.486 217.811 132.866 220.982 Q136.245 224.154 136.245 229.57 Q136.245 235.149 132.773 238.251 Q129.301 241.33 122.981 241.33 Q120.805 241.33 118.537 240.959 Q116.292 240.589 113.884 239.848 L113.884 235.149 Q115.968 236.283 118.19 236.839 Q120.412 237.394 122.889 237.394 Q126.893 237.394 129.231 235.288 Q131.569 233.181 131.569 229.57 Q131.569 225.959 129.231 223.853 Q126.893 221.746 122.889 221.746 Q121.014 221.746 119.139 222.163 Q117.287 222.58 115.343 223.459 L115.343 206.098 Z\" fill=\"#000000\" fill-rule=\"evenodd\" fill-opacity=\"1\" /><path clip-path=\"url(#clip5900)\" d=\"M 0 0 M140.134 206.098 L162.356 206.098 L162.356 208.089 L149.81 240.658 L144.926 240.658 L156.731 210.033 L140.134 210.033 L140.134 206.098 Z\" fill=\"#000000\" fill-rule=\"evenodd\" fill-opacity=\"1\" /><path clip-path=\"url(#clip5900)\" d=\"M 0 0 M167.472 206.098 L185.828 206.098 L185.828 210.033 L171.754 210.033 L171.754 218.506 Q172.773 218.158 173.791 217.996 Q174.81 217.811 175.828 217.811 Q181.615 217.811 184.995 220.982 Q188.375 224.154 188.375 229.57 Q188.375 235.149 184.902 238.251 Q181.43 241.33 175.111 241.33 Q172.935 241.33 170.666 240.959 Q168.421 240.589 166.014 239.848 L166.014 235.149 Q168.097 236.283 170.319 236.839 Q172.541 237.394 175.018 237.394 Q179.023 237.394 181.361 235.288 Q183.699 233.181 183.699 229.57 Q183.699 225.959 181.361 223.853 Q179.023 221.746 175.018 221.746 Q173.143 221.746 171.268 222.163 Q169.416 222.58 167.472 223.459 L167.472 206.098 Z\" fill=\"#000000\" fill-rule=\"evenodd\" fill-opacity=\"1\" /><path clip-path=\"url(#clip5900)\" d=\"M 0 0 M1995.93 1525.47 L1995.93 1535.6 L2007.99 1535.6 L2007.99 1540.15 L1995.93 1540.15 L1995.93 1559.5 Q1995.93 1563.86 1997.11 1565.1 Q1998.32 1566.34 2001.98 1566.34 L2007.99 1566.34 L2007.99 1571.24 L2001.98 1571.24 Q1995.2 1571.24 1992.62 1568.73 Q1990.04 1566.18 1990.04 1559.5 L1990.04 1540.15 L1985.74 1540.15 L1985.74 1535.6 L1990.04 1535.6 L1990.04 1525.47 L1995.93 1525.47 Z\" fill=\"#000000\" fill-rule=\"evenodd\" fill-opacity=\"1\" /><path clip-path=\"url(#clip5900)\" d=\"M 0 0 M2014.14 1535.6 L2019.99 1535.6 L2019.99 1571.24 L2014.14 1571.24 L2014.14 1535.6 M2014.14 1521.72 L2019.99 1521.72 L2019.99 1529.13 L2014.14 1529.13 L2014.14 1521.72 Z\" fill=\"#000000\" fill-rule=\"evenodd\" fill-opacity=\"1\" /><path clip-path=\"url(#clip5900)\" d=\"M 0 0 M2053.89 1542.44 Q2056.09 1538.49 2059.14 1536.61 Q2062.2 1534.74 2066.33 1534.74 Q2071.9 1534.74 2074.93 1538.65 Q2077.95 1542.53 2077.95 1549.73 L2077.95 1571.24 L2072.06 1571.24 L2072.06 1549.92 Q2072.06 1544.79 2070.25 1542.31 Q2068.43 1539.83 2064.71 1539.83 Q2060.16 1539.83 2057.52 1542.85 Q2054.88 1545.88 2054.88 1551.1 L2054.88 1571.24 L2048.99 1571.24 L2048.99 1549.92 Q2048.99 1544.76 2047.17 1542.31 Q2045.36 1539.83 2041.57 1539.83 Q2037.08 1539.83 2034.44 1542.88 Q2031.8 1545.91 2031.8 1551.1 L2031.8 1571.24 L2025.91 1571.24 L2025.91 1535.6 L2031.8 1535.6 L2031.8 1541.13 Q2033.81 1537.86 2036.61 1536.3 Q2039.41 1534.74 2043.26 1534.74 Q2047.14 1534.74 2049.85 1536.71 Q2052.58 1538.68 2053.89 1542.44 Z\" fill=\"#000000\" fill-rule=\"evenodd\" fill-opacity=\"1\" /><path clip-path=\"url(#clip5900)\" d=\"M 0 0 M2114.59 1551.96 L2114.59 1554.82 L2087.66 1554.82 Q2088.04 1560.87 2091.29 1564.05 Q2094.57 1567.2 2100.39 1567.2 Q2103.76 1567.2 2106.92 1566.37 Q2110.1 1565.55 2113.22 1563.89 L2113.22 1569.43 Q2110.07 1570.77 2106.76 1571.47 Q2103.45 1572.17 2100.04 1572.17 Q2091.51 1572.17 2086.51 1567.2 Q2081.55 1562.24 2081.55 1553.77 Q2081.55 1545.02 2086.26 1539.89 Q2091 1534.74 2099.02 1534.74 Q2106.22 1534.74 2110.38 1539.38 Q2114.59 1544 2114.59 1551.96 M2108.73 1550.24 Q2108.67 1545.43 2106.02 1542.57 Q2103.41 1539.7 2099.09 1539.7 Q2094.18 1539.7 2091.22 1542.47 Q2088.3 1545.24 2087.85 1550.27 L2108.73 1550.24 Z\" fill=\"#000000\" fill-rule=\"evenodd\" fill-opacity=\"1\" /><path clip-path=\"url(#clip5900)\" d=\"M 0 0 M21.9562 811.585 L21.9562 805.378 L51.875 794.238 L21.9562 783.098 L21.9562 776.891 L57.6042 790.259 L57.6042 798.217 L21.9562 811.585 Z\" fill=\"#000000\" fill-rule=\"evenodd\" fill-opacity=\"1\" /><path clip-path=\"url(#clip5900)\" d=\"M 0 0 M39.6847 754.548 Q39.6847 761.646 41.3079 764.383 Q42.9312 767.12 46.8461 767.12 Q49.9653 767.12 51.8114 765.083 Q53.6256 763.014 53.6256 759.481 Q53.6256 754.611 50.1881 751.683 Q46.7188 748.723 40.9897 748.723 L39.6847 748.723 L39.6847 754.548 M37.2657 742.867 L57.6042 742.867 L57.6042 748.723 L52.1933 748.723 Q55.4398 750.728 56.9994 753.72 Q58.5272 756.712 58.5272 761.041 Q58.5272 766.515 55.4716 769.762 Q52.3843 772.977 47.2281 772.977 Q41.2125 772.977 38.1569 768.966 Q35.1014 764.924 35.1014 756.935 L35.1014 748.723 L34.5285 748.723 Q30.4862 748.723 28.2901 751.397 Q26.0621 754.039 26.0621 758.845 Q26.0621 761.9 26.7941 764.797 Q27.5262 767.693 28.9903 770.367 L23.5795 770.367 Q22.3381 767.152 21.7334 764.128 Q21.0968 761.104 21.0968 758.24 Q21.0968 750.506 25.1072 746.686 Q29.1176 742.867 37.2657 742.867 Z\" fill=\"#000000\" fill-rule=\"evenodd\" fill-opacity=\"1\" /><path clip-path=\"url(#clip5900)\" d=\"M 0 0 M8.07896 736.724 L8.07896 730.867 L57.6042 730.867 L57.6042 736.724 L8.07896 736.724 Z\" fill=\"#000000\" fill-rule=\"evenodd\" fill-opacity=\"1\" /><path clip-path=\"url(#clip5900)\" d=\"M 0 0 M43.5359 725.329 L21.9562 725.329 L21.9562 719.473 L43.3131 719.473 Q48.3739 719.473 50.9202 717.499 Q53.4346 715.526 53.4346 711.579 Q53.4346 706.837 50.4109 704.1 Q47.3872 701.33 42.1673 701.33 L21.9562 701.33 L21.9562 695.474 L57.6042 695.474 L57.6042 701.33 L52.1296 701.33 Q55.3762 703.463 56.9676 706.296 Q58.5272 709.097 58.5272 712.821 Q58.5272 718.964 54.7078 722.146 Q50.8883 725.329 43.5359 725.329 M21.0968 710.593 L21.0968 710.593 Z\" fill=\"#000000\" fill-rule=\"evenodd\" fill-opacity=\"1\" /><path clip-path=\"url(#clip5900)\" d=\"M 0 0 M38.3161 658.839 L41.1806 658.839 L41.1806 685.766 Q47.2281 685.384 50.4109 682.138 Q53.5619 678.86 53.5619 673.035 Q53.5619 669.661 52.7344 666.51 Q51.9069 663.327 50.2518 660.208 L55.7899 660.208 Q57.1267 663.359 57.827 666.669 Q58.5272 669.979 58.5272 673.385 Q58.5272 681.915 53.5619 686.912 Q48.5967 691.877 40.1303 691.877 Q31.3774 691.877 26.2531 687.167 Q21.0968 682.424 21.0968 674.404 Q21.0968 667.21 25.7438 663.041 Q30.3589 658.839 38.3161 658.839 M36.5973 664.696 Q31.7912 664.76 28.9266 667.401 Q26.0621 670.011 26.0621 674.34 Q26.0621 679.241 28.8312 682.202 Q31.6002 685.13 36.6292 685.575 L36.5973 664.696 Z\" fill=\"#000000\" fill-rule=\"evenodd\" fill-opacity=\"1\" /><polyline clip-path=\"url(#clip5902)\" style=\"stroke:#009af9; stroke-width:4; stroke-opacity:1; fill:none\" points=\"\n",
       "  330.74,951.554 367.717,666.616 404.694,677.169 441.671,761.595 478.648,972.661 515.624,962.107 552.601,962.107 589.578,962.107 626.555,1004.32 663.532,951.554 \n",
       "  700.509,919.894 737.486,983.214 774.463,856.575 811.44,856.575 848.416,856.575 885.393,782.702 922.37,613.849 959.347,539.976 996.324,476.657 1033.3,582.19 \n",
       "  1070.28,582.19 1107.25,582.19 1144.23,529.423 1181.21,318.358 1218.19,328.911 1255.16,350.018 1292.14,455.55 1329.12,455.55 1366.09,455.55 1403.07,233.931 \n",
       "  1440.05,233.931 1477.02,233.931 1514,381.677 1550.98,328.911 1587.95,328.911 1624.93,328.911 1661.91,392.231 1698.88,466.104 1735.86,466.104 1772.84,550.53 \n",
       "  1809.82,550.53 1846.79,550.53 1883.77,550.53 1920.75,508.317 1957.72,613.849 1994.7,698.276 2031.68,719.382 2068.65,835.468 2105.63,835.468 2142.61,835.468 \n",
       "  2179.58,877.681 2216.56,761.595 2253.54,455.55 2290.51,233.931 2327.49,128.399 2364.47,128.399 2401.45,128.399 2438.42,86.1857 2475.4,550.53 2512.38,624.403 \n",
       "  2549.35,476.657 2586.33,518.87 2623.31,518.87 2660.28,518.87 2697.26,529.423 2734.24,550.53 2771.21,550.53 2808.19,592.743 2845.17,592.743 2882.15,592.743 \n",
       "  2919.12,592.743 2956.1,645.509 2993.08,740.489 3030.05,687.722 3067.03,687.722 3104.01,634.956 3140.98,634.956 3177.96,634.956 3214.94,634.956 3251.91,582.19 \n",
       "  3288.89,518.87 3325.87,529.423 3362.84,571.636 3399.82,571.636 3436.8,571.636 3473.78,497.763 3510.75,550.53 3547.73,624.403 3584.71,772.148 3621.68,793.255 \n",
       "  3658.66,793.255 3695.64,793.255 3732.61,793.255 3769.59,793.255 \n",
       "  \"/>\n",
       "<polyline clip-path=\"url(#clip5902)\" style=\"stroke:#e26f46; stroke-width:4; stroke-opacity:1; fill:none\" points=\"\n",
       "  330.74,898.788 367.717,835.468 404.694,772.148 441.671,772.148 478.648,835.468 515.624,888.234 552.601,941.001 589.578,1025.43 626.555,1035.98 663.532,972.661 \n",
       "  700.509,972.661 737.486,930.448 774.463,898.788 811.44,856.575 848.416,824.915 885.393,740.489 922.37,645.509 959.347,603.296 996.324,561.083 1033.3,561.083 \n",
       "  1070.28,550.53 1107.25,539.976 1144.23,497.763 1181.21,434.444 1218.19,381.677 1255.16,350.018 1292.14,350.018 1329.12,350.018 1366.09,371.124 1403.07,350.018 \n",
       "  1440.05,297.251 1477.02,328.911 1514,339.464 1550.98,360.571 1587.95,350.018 1624.93,339.464 1661.91,360.571 1698.88,350.018 1735.86,413.337 1772.84,497.763 \n",
       "  1809.82,571.636 1846.79,582.19 1883.77,582.19 1920.75,561.083 1957.72,561.083 1994.7,687.722 2031.68,708.829 2068.65,761.595 2105.63,803.808 2142.61,814.362 \n",
       "  2179.58,793.255 2216.56,645.509 2253.54,529.423 2290.51,381.677 2327.49,265.591 2364.47,107.292 2401.45,96.7389 2438.42,160.059 2475.4,255.038 2512.38,360.571 \n",
       "  2549.35,444.997 2586.33,550.53 2623.31,571.636 2660.28,561.083 2697.26,582.19 2734.24,561.083 2771.21,592.743 2808.19,571.636 2845.17,582.19 2882.15,592.743 \n",
       "  2919.12,582.19 2956.1,624.403 2993.08,666.616 3030.05,708.829 3067.03,698.276 3104.01,677.169 3140.98,624.403 3177.96,550.53 3214.94,518.87 3251.91,455.55 \n",
       "  3288.89,508.317 3325.87,539.976 3362.84,571.636 3399.82,550.53 3436.8,550.53 3473.78,561.083 3510.75,550.53 3547.73,582.19 3584.71,645.509 3621.68,814.362 \n",
       "  3658.66,972.661 3695.64,1130.96 3732.61,1278.71 3769.59,1384.24 \n",
       "  \"/>\n",
       "<polyline clip-path=\"url(#clip5902)\" style=\"stroke:#3da44d; stroke-width:4; stroke-opacity:1; fill:none\" points=\"\n",
       "  3640.17,2799.12 3640.17,-1328.69 \n",
       "  \"/>\n",
       "<path clip-path=\"url(#clip5900)\" d=\"\n",
       "M345.175 463.884 L1167.45 463.884 L1167.45 221.964 L345.175 221.964  Z\n",
       "  \" fill=\"#ffffff\" fill-rule=\"evenodd\" fill-opacity=\"1\"/>\n",
       "<polyline clip-path=\"url(#clip5900)\" style=\"stroke:#000000; stroke-width:4; stroke-opacity:1; fill:none\" points=\"\n",
       "  345.175,463.884 1167.45,463.884 1167.45,221.964 345.175,221.964 345.175,463.884 \n",
       "  \"/>\n",
       "<polyline clip-path=\"url(#clip5900)\" style=\"stroke:#009af9; stroke-width:4; stroke-opacity:1; fill:none\" points=\"\n",
       "  384.375,282.444 619.575,282.444 \n",
       "  \"/>\n",
       "<path clip-path=\"url(#clip5900)\" d=\"M 0 0 M658.775 265.164 L665.071 265.164 L680.395 294.076 L680.395 265.164 L684.932 265.164 L684.932 299.724 L678.636 299.724 L663.312 270.812 L663.312 299.724 L658.775 299.724 L658.775 265.164 Z\" fill=\"#000000\" fill-rule=\"evenodd\" fill-opacity=\"1\" /><path clip-path=\"url(#clip5900)\" d=\"M 0 0 M698.497 299.724 L685.302 265.164 L690.186 265.164 L701.135 294.261 L712.108 265.164 L716.969 265.164 L703.797 299.724 L698.497 299.724 Z\" fill=\"#000000\" fill-rule=\"evenodd\" fill-opacity=\"1\" /><path clip-path=\"url(#clip5900)\" d=\"M 0 0 M726.297 269.007 L726.297 295.882 L731.945 295.882 Q739.098 295.882 742.408 292.641 Q745.742 289.4 745.742 282.409 Q745.742 275.465 742.408 272.247 Q739.098 269.007 731.945 269.007 L726.297 269.007 M721.621 265.164 L731.228 265.164 Q741.274 265.164 745.973 269.354 Q750.672 273.521 750.672 282.409 Q750.672 291.345 745.95 295.534 Q741.228 299.724 731.228 299.724 L721.621 299.724 L721.621 265.164 Z\" fill=\"#000000\" fill-rule=\"evenodd\" fill-opacity=\"1\" /><path clip-path=\"url(#clip5900)\" d=\"M 0 0 M766.043 269.771 L759.7 286.97 L772.408 286.97 L766.043 269.771 M763.404 265.164 L768.705 265.164 L781.876 299.724 L777.015 299.724 L773.867 290.858 L758.288 290.858 L755.14 299.724 L750.209 299.724 L763.404 265.164 Z\" fill=\"#000000\" fill-rule=\"evenodd\" fill-opacity=\"1\" /><polyline clip-path=\"url(#clip5900)\" style=\"stroke:#e26f46; stroke-width:4; stroke-opacity:1; fill:none\" points=\"\n",
       "  384.375,342.924 619.575,342.924 \n",
       "  \"/>\n",
       "<path clip-path=\"url(#clip5900)\" d=\"M 0 0 M663.057 356.315 L663.057 370.065 L658.775 370.065 L658.775 334.278 L663.057 334.278 L663.057 338.213 Q664.4 335.899 666.437 334.788 Q668.497 333.653 671.344 333.653 Q676.066 333.653 679.006 337.403 Q681.969 341.153 681.969 347.264 Q681.969 353.375 679.006 357.125 Q676.066 360.875 671.344 360.875 Q668.497 360.875 666.437 359.764 Q664.4 358.63 663.057 356.315 M677.548 347.264 Q677.548 342.565 675.603 339.903 Q673.682 337.218 670.302 337.218 Q666.923 337.218 664.978 339.903 Q663.057 342.565 663.057 347.264 Q663.057 351.963 664.978 354.649 Q666.923 357.311 670.302 357.311 Q673.682 357.311 675.603 354.649 Q677.548 351.963 677.548 347.264 Z\" fill=\"#000000\" fill-rule=\"evenodd\" fill-opacity=\"1\" /><path clip-path=\"url(#clip5900)\" d=\"M 0 0 M701.46 338.26 Q700.742 337.843 699.885 337.658 Q699.052 337.45 698.034 337.45 Q694.423 337.45 692.478 339.811 Q690.557 342.149 690.557 346.547 L690.557 360.204 L686.274 360.204 L686.274 334.278 L690.557 334.278 L690.557 338.306 Q691.899 335.945 694.052 334.811 Q696.205 333.653 699.284 333.653 Q699.723 333.653 700.256 333.723 Q700.788 333.769 701.436 333.885 L701.46 338.26 Z\" fill=\"#000000\" fill-rule=\"evenodd\" fill-opacity=\"1\" /><path clip-path=\"url(#clip5900)\" d=\"M 0 0 M727.061 346.176 L727.061 348.26 L707.478 348.26 Q707.756 352.658 710.117 354.973 Q712.501 357.264 716.737 357.264 Q719.191 357.264 721.483 356.662 Q723.797 356.061 726.066 354.857 L726.066 358.885 Q723.774 359.857 721.367 360.366 Q718.959 360.875 716.483 360.875 Q710.279 360.875 706.645 357.264 Q703.034 353.653 703.034 347.496 Q703.034 341.13 706.459 337.403 Q709.909 333.653 715.742 333.653 Q720.973 333.653 724.006 337.033 Q727.061 340.389 727.061 346.176 M722.802 344.926 Q722.756 341.431 720.834 339.348 Q718.936 337.264 715.788 337.264 Q712.223 337.264 710.071 339.278 Q707.941 341.292 707.617 344.95 L722.802 344.926 Z\" fill=\"#000000\" fill-rule=\"evenodd\" fill-opacity=\"1\" /><path clip-path=\"url(#clip5900)\" d=\"M 0 0 M748.589 338.213 L748.589 324.186 L752.848 324.186 L752.848 360.204 L748.589 360.204 L748.589 356.315 Q747.246 358.63 745.186 359.764 Q743.149 360.875 740.279 360.875 Q735.58 360.875 732.617 357.125 Q729.677 353.375 729.677 347.264 Q729.677 341.153 732.617 337.403 Q735.58 333.653 740.279 333.653 Q743.149 333.653 745.186 334.788 Q747.246 335.899 748.589 338.213 M734.075 347.264 Q734.075 351.963 735.996 354.649 Q737.941 357.311 741.32 357.311 Q744.7 357.311 746.644 354.649 Q748.589 351.963 748.589 347.264 Q748.589 342.565 746.644 339.903 Q744.7 337.218 741.32 337.218 Q737.941 337.218 735.996 339.903 Q734.075 342.565 734.075 347.264 Z\" fill=\"#000000\" fill-rule=\"evenodd\" fill-opacity=\"1\" /><path clip-path=\"url(#clip5900)\" d=\"M 0 0 M757.316 334.278 L761.575 334.278 L761.575 360.204 L757.316 360.204 L757.316 334.278 M757.316 324.186 L761.575 324.186 L761.575 329.579 L757.316 329.579 L757.316 324.186 Z\" fill=\"#000000\" fill-rule=\"evenodd\" fill-opacity=\"1\" /><path clip-path=\"url(#clip5900)\" d=\"M 0 0 M784.7 335.274 L784.7 339.255 Q782.894 338.26 781.066 337.774 Q779.26 337.264 777.408 337.264 Q773.265 337.264 770.973 339.903 Q768.681 342.519 768.681 347.264 Q768.681 352.01 770.973 354.649 Q773.265 357.264 777.408 357.264 Q779.26 357.264 781.066 356.778 Q782.894 356.269 784.7 355.274 L784.7 359.209 Q782.917 360.042 780.996 360.459 Q779.098 360.875 776.945 360.875 Q771.089 360.875 767.64 357.195 Q764.191 353.514 764.191 347.264 Q764.191 340.922 767.663 337.288 Q771.158 333.653 777.223 333.653 Q779.191 333.653 781.066 334.07 Q782.941 334.463 784.7 335.274 Z\" fill=\"#000000\" fill-rule=\"evenodd\" fill-opacity=\"1\" /><path clip-path=\"url(#clip5900)\" d=\"M 0 0 M793.38 326.917 L793.38 334.278 L802.153 334.278 L802.153 337.588 L793.38 337.588 L793.38 351.662 Q793.38 354.834 794.237 355.737 Q795.116 356.639 797.778 356.639 L802.153 356.639 L802.153 360.204 L797.778 360.204 Q792.848 360.204 790.973 358.375 Q789.098 356.524 789.098 351.662 L789.098 337.588 L785.973 337.588 L785.973 334.278 L789.098 334.278 L789.098 326.917 L793.38 326.917 Z\" fill=\"#000000\" fill-rule=\"evenodd\" fill-opacity=\"1\" /><path clip-path=\"url(#clip5900)\" d=\"M 0 0 M806.621 334.278 L810.88 334.278 L810.88 360.204 L806.621 360.204 L806.621 334.278 M806.621 324.186 L810.88 324.186 L810.88 329.579 L806.621 329.579 L806.621 324.186 Z\" fill=\"#000000\" fill-rule=\"evenodd\" fill-opacity=\"1\" /><path clip-path=\"url(#clip5900)\" d=\"M 0 0 M825.394 337.264 Q821.968 337.264 819.977 339.95 Q817.987 342.612 817.987 347.264 Q817.987 351.917 819.954 354.602 Q821.945 357.264 825.394 357.264 Q828.797 357.264 830.788 354.579 Q832.778 351.894 832.778 347.264 Q832.778 342.658 830.788 339.973 Q828.797 337.264 825.394 337.264 M825.394 333.653 Q830.95 333.653 834.121 337.264 Q837.292 340.875 837.292 347.264 Q837.292 353.63 834.121 357.264 Q830.95 360.875 825.394 360.875 Q819.815 360.875 816.644 357.264 Q813.496 353.63 813.496 347.264 Q813.496 340.875 816.644 337.264 Q819.815 333.653 825.394 333.653 Z\" fill=\"#000000\" fill-rule=\"evenodd\" fill-opacity=\"1\" /><path clip-path=\"url(#clip5900)\" d=\"M 0 0 M863.31 344.556 L863.31 360.204 L859.051 360.204 L859.051 344.695 Q859.051 341.014 857.616 339.186 Q856.181 337.357 853.311 337.357 Q849.861 337.357 847.871 339.556 Q845.88 341.755 845.88 345.551 L845.88 360.204 L841.598 360.204 L841.598 334.278 L845.88 334.278 L845.88 338.306 Q847.408 335.968 849.468 334.811 Q851.551 333.653 854.26 333.653 Q858.727 333.653 861.019 336.431 Q863.31 339.186 863.31 344.556 Z\" fill=\"#000000\" fill-rule=\"evenodd\" fill-opacity=\"1\" /><path clip-path=\"url(#clip5900)\" d=\"M 0 0 M884.306 335.042 L884.306 339.07 Q882.5 338.144 880.556 337.681 Q878.611 337.218 876.528 337.218 Q873.357 337.218 871.76 338.19 Q870.185 339.163 870.185 341.107 Q870.185 342.588 871.32 343.445 Q872.454 344.278 875.88 345.042 L877.338 345.366 Q881.875 346.338 883.773 348.121 Q885.695 349.88 885.695 353.051 Q885.695 356.662 882.824 358.769 Q879.977 360.875 874.977 360.875 Q872.894 360.875 870.625 360.459 Q868.38 360.065 865.88 359.255 L865.88 354.857 Q868.241 356.084 870.533 356.709 Q872.824 357.311 875.07 357.311 Q878.079 357.311 879.699 356.292 Q881.32 355.25 881.32 353.375 Q881.32 351.639 880.139 350.713 Q878.982 349.787 875.023 348.931 L873.542 348.584 Q869.584 347.75 867.824 346.038 Q866.065 344.301 866.065 341.292 Q866.065 337.635 868.658 335.644 Q871.25 333.653 876.019 333.653 Q878.38 333.653 880.463 334.001 Q882.547 334.348 884.306 335.042 Z\" fill=\"#000000\" fill-rule=\"evenodd\" fill-opacity=\"1\" /><polyline clip-path=\"url(#clip5900)\" style=\"stroke:#3da44d; stroke-width:4; stroke-opacity:1; fill:none\" points=\"\n",
       "  384.375,403.404 619.575,403.404 \n",
       "  \"/>\n",
       "<path clip-path=\"url(#clip5900)\" d=\"M 0 0 M658.775 386.124 L688.011 386.124 L688.011 390.059 L675.742 390.059 L675.742 420.684 L671.043 420.684 L671.043 390.059 L658.775 390.059 L658.775 386.124 Z\" fill=\"#000000\" fill-rule=\"evenodd\" fill-opacity=\"1\" /><path clip-path=\"url(#clip5900)\" d=\"M 0 0 M694.469 397.744 Q691.043 397.744 689.052 400.43 Q687.061 403.092 687.061 407.744 Q687.061 412.397 689.029 415.082 Q691.02 417.744 694.469 417.744 Q697.872 417.744 699.862 415.059 Q701.853 412.374 701.853 407.744 Q701.853 403.138 699.862 400.453 Q697.872 397.744 694.469 397.744 M694.469 394.133 Q700.024 394.133 703.196 397.744 Q706.367 401.355 706.367 407.744 Q706.367 414.11 703.196 417.744 Q700.024 421.355 694.469 421.355 Q688.89 421.355 685.719 417.744 Q682.571 414.11 682.571 407.744 Q682.571 401.355 685.719 397.744 Q688.89 394.133 694.469 394.133 Z\" fill=\"#000000\" fill-rule=\"evenodd\" fill-opacity=\"1\" /><path clip-path=\"url(#clip5900)\" d=\"M 0 0 M727.895 398.693 L727.895 384.666 L732.154 384.666 L732.154 420.684 L727.895 420.684 L727.895 416.795 Q726.552 419.11 724.492 420.244 Q722.455 421.355 719.584 421.355 Q714.885 421.355 711.922 417.605 Q708.983 413.855 708.983 407.744 Q708.983 401.633 711.922 397.883 Q714.885 394.133 719.584 394.133 Q722.455 394.133 724.492 395.268 Q726.552 396.379 727.895 398.693 M713.381 407.744 Q713.381 412.443 715.302 415.129 Q717.246 417.791 720.626 417.791 Q724.006 417.791 725.95 415.129 Q727.895 412.443 727.895 407.744 Q727.895 403.045 725.95 400.383 Q724.006 397.698 720.626 397.698 Q717.246 397.698 715.302 400.383 Q713.381 403.045 713.381 407.744 Z\" fill=\"#000000\" fill-rule=\"evenodd\" fill-opacity=\"1\" /><path clip-path=\"url(#clip5900)\" d=\"M 0 0 M748.404 407.652 Q743.242 407.652 741.251 408.832 Q739.26 410.013 739.26 412.86 Q739.26 415.129 740.742 416.471 Q742.246 417.791 744.816 417.791 Q748.357 417.791 750.487 415.291 Q752.64 412.767 752.64 408.601 L752.64 407.652 L748.404 407.652 M756.899 405.893 L756.899 420.684 L752.64 420.684 L752.64 416.749 Q751.181 419.11 749.006 420.244 Q746.83 421.355 743.682 421.355 Q739.7 421.355 737.339 419.133 Q735.001 416.888 735.001 413.138 Q735.001 408.763 737.918 406.541 Q740.857 404.318 746.668 404.318 L752.64 404.318 L752.64 403.902 Q752.64 400.962 750.695 399.365 Q748.774 397.744 745.279 397.744 Q743.057 397.744 740.95 398.277 Q738.844 398.809 736.899 399.874 L736.899 395.939 Q739.237 395.036 741.436 394.596 Q743.635 394.133 745.719 394.133 Q751.344 394.133 754.121 397.05 Q756.899 399.967 756.899 405.893 Z\" fill=\"#000000\" fill-rule=\"evenodd\" fill-opacity=\"1\" /><path clip-path=\"url(#clip5900)\" d=\"M 0 0 M772.154 423.091 Q770.348 427.721 768.635 429.133 Q766.922 430.545 764.052 430.545 L760.649 430.545 L760.649 426.98 L763.149 426.98 Q764.908 426.98 765.88 426.147 Q766.853 425.314 768.033 422.212 L768.797 420.267 L758.311 394.758 L762.825 394.758 L770.927 415.036 L779.029 394.758 L783.542 394.758 L772.154 423.091 Z\" fill=\"#000000\" fill-rule=\"evenodd\" fill-opacity=\"1\" /><path clip-path=\"url(#clip5900)\" d=\"M 0 0 M807.94 389.967 L807.94 416.842 L813.589 416.842 Q820.741 416.842 824.051 413.601 Q827.385 410.36 827.385 403.369 Q827.385 396.425 824.051 393.207 Q820.741 389.967 813.589 389.967 L807.94 389.967 M803.265 386.124 L812.871 386.124 Q822.917 386.124 827.616 390.314 Q832.315 394.481 832.315 403.369 Q832.315 412.305 827.593 416.494 Q822.871 420.684 812.871 420.684 L803.265 420.684 L803.265 386.124 Z\" fill=\"#000000\" fill-rule=\"evenodd\" fill-opacity=\"1\" /><path clip-path=\"url(#clip5900)\" d=\"M 0 0 M858.959 406.656 L858.959 408.74 L839.375 408.74 Q839.653 413.138 842.014 415.453 Q844.399 417.744 848.635 417.744 Q851.088 417.744 853.38 417.142 Q855.695 416.541 857.963 415.337 L857.963 419.365 Q855.672 420.337 853.264 420.846 Q850.857 421.355 848.38 421.355 Q842.176 421.355 838.542 417.744 Q834.931 414.133 834.931 407.976 Q834.931 401.61 838.357 397.883 Q841.806 394.133 847.639 394.133 Q852.871 394.133 855.903 397.513 Q858.959 400.869 858.959 406.656 M854.699 405.406 Q854.653 401.911 852.732 399.828 Q850.834 397.744 847.686 397.744 Q844.121 397.744 841.968 399.758 Q839.838 401.772 839.514 405.43 L854.699 405.406 Z\" fill=\"#000000\" fill-rule=\"evenodd\" fill-opacity=\"1\" /><path clip-path=\"url(#clip5900)\" d=\"M 0 0 M882.084 395.754 L882.084 399.735 Q880.278 398.74 878.449 398.254 Q876.644 397.744 874.792 397.744 Q870.648 397.744 868.357 400.383 Q866.065 402.999 866.065 407.744 Q866.065 412.49 868.357 415.129 Q870.648 417.744 874.792 417.744 Q876.644 417.744 878.449 417.258 Q880.278 416.749 882.084 415.754 L882.084 419.689 Q880.301 420.522 878.38 420.939 Q876.482 421.355 874.329 421.355 Q868.473 421.355 865.023 417.675 Q861.574 413.994 861.574 407.744 Q861.574 401.402 865.047 397.768 Q868.542 394.133 874.607 394.133 Q876.574 394.133 878.449 394.55 Q880.324 394.943 882.084 395.754 Z\" fill=\"#000000\" fill-rule=\"evenodd\" fill-opacity=\"1\" /><path clip-path=\"url(#clip5900)\" d=\"M 0 0 M887.153 414.804 L892.037 414.804 L892.037 420.684 L887.153 420.684 L887.153 414.804 Z\" fill=\"#000000\" fill-rule=\"evenodd\" fill-opacity=\"1\" /><path clip-path=\"url(#clip5900)\" d=\"M 0 0 M912.986 416.749 L920.625 416.749 L920.625 390.383 L912.315 392.05 L912.315 387.791 L920.579 386.124 L925.255 386.124 L925.255 416.749 L932.893 416.749 L932.893 420.684 L912.986 420.684 L912.986 416.749 Z\" fill=\"#000000\" fill-rule=\"evenodd\" fill-opacity=\"1\" /><path clip-path=\"url(#clip5900)\" d=\"M 0 0 M938.773 416.749 L946.412 416.749 L946.412 390.383 L938.102 392.05 L938.102 387.791 L946.366 386.124 L951.042 386.124 L951.042 416.749 L958.68 416.749 L958.68 420.684 L938.773 420.684 L938.773 416.749 Z\" fill=\"#000000\" fill-rule=\"evenodd\" fill-opacity=\"1\" /><path clip-path=\"url(#clip5900)\" d=\"M 0 0 M964.236 414.804 L969.12 414.804 L969.12 418.786 L965.324 426.193 L962.338 426.193 L964.236 418.786 L964.236 414.804 Z\" fill=\"#000000\" fill-rule=\"evenodd\" fill-opacity=\"1\" /><path clip-path=\"url(#clip5900)\" d=\"M 0 0 M993.287 416.749 L1009.61 416.749 L1009.61 420.684 L987.662 420.684 L987.662 416.749 Q990.324 413.994 994.907 409.365 Q999.513 404.712 1000.69 403.369 Q1002.94 400.846 1003.82 399.11 Q1004.72 397.351 1004.72 395.661 Q1004.72 392.906 1002.78 391.17 Q1000.86 389.434 997.754 389.434 Q995.555 389.434 993.101 390.198 Q990.671 390.962 987.893 392.513 L987.893 387.791 Q990.717 386.656 993.171 386.078 Q995.625 385.499 997.662 385.499 Q1003.03 385.499 1006.23 388.184 Q1009.42 390.869 1009.42 395.36 Q1009.42 397.49 1008.61 399.411 Q1007.82 401.309 1005.72 403.902 Q1005.14 404.573 1002.04 407.791 Q998.935 410.985 993.287 416.749 Z\" fill=\"#000000\" fill-rule=\"evenodd\" fill-opacity=\"1\" /><path clip-path=\"url(#clip5900)\" d=\"M 0 0 M1024.68 389.203 Q1021.06 389.203 1019.24 392.768 Q1017.43 396.309 1017.43 403.439 Q1017.43 410.545 1019.24 414.11 Q1021.06 417.652 1024.68 417.652 Q1028.31 417.652 1030.12 414.11 Q1031.94 410.545 1031.94 403.439 Q1031.94 396.309 1030.12 392.768 Q1028.31 389.203 1024.68 389.203 M1024.68 385.499 Q1030.49 385.499 1033.54 390.106 Q1036.62 394.689 1036.62 403.439 Q1036.62 412.166 1033.54 416.772 Q1030.49 421.355 1024.68 421.355 Q1018.87 421.355 1015.79 416.772 Q1012.73 412.166 1012.73 403.439 Q1012.73 394.689 1015.79 390.106 Q1018.87 385.499 1024.68 385.499 Z\" fill=\"#000000\" fill-rule=\"evenodd\" fill-opacity=\"1\" /><path clip-path=\"url(#clip5900)\" d=\"M 0 0 M1045.72 416.749 L1062.04 416.749 L1062.04 420.684 L1040.09 420.684 L1040.09 416.749 Q1042.75 413.994 1047.34 409.365 Q1051.94 404.712 1053.12 403.369 Q1055.37 400.846 1056.25 399.11 Q1057.15 397.351 1057.15 395.661 Q1057.15 392.906 1055.21 391.17 Q1053.29 389.434 1050.18 389.434 Q1047.99 389.434 1045.53 390.198 Q1043.1 390.962 1040.32 392.513 L1040.32 387.791 Q1043.15 386.656 1045.6 386.078 Q1048.05 385.499 1050.09 385.499 Q1055.46 385.499 1058.66 388.184 Q1061.85 390.869 1061.85 395.36 Q1061.85 397.49 1061.04 399.411 Q1060.25 401.309 1058.15 403.902 Q1057.57 404.573 1054.47 407.791 Q1051.37 410.985 1045.72 416.749 Z\" fill=\"#000000\" fill-rule=\"evenodd\" fill-opacity=\"1\" /><path clip-path=\"url(#clip5900)\" d=\"M 0 0 M1077.11 389.203 Q1073.49 389.203 1071.67 392.768 Q1069.86 396.309 1069.86 403.439 Q1069.86 410.545 1071.67 414.11 Q1073.49 417.652 1077.11 417.652 Q1080.74 417.652 1082.55 414.11 Q1084.37 410.545 1084.37 403.439 Q1084.37 396.309 1082.55 392.768 Q1080.74 389.203 1077.11 389.203 M1077.11 385.499 Q1082.92 385.499 1085.97 390.106 Q1089.05 394.689 1089.05 403.439 Q1089.05 412.166 1085.97 416.772 Q1082.92 421.355 1077.11 421.355 Q1071.3 421.355 1068.22 416.772 Q1065.16 412.166 1065.16 403.439 Q1065.16 394.689 1068.22 390.106 Q1071.3 385.499 1077.11 385.499 Z\" fill=\"#000000\" fill-rule=\"evenodd\" fill-opacity=\"1\" /></svg>\n"
      ]
     },
     "execution_count": 12,
     "metadata": {},
     "output_type": "execute_result"
    }
   ],
   "source": [
    "using Plots\n",
    "\n",
    "#dates = format_dates( df[rows,2] , \"m/d/yy\")\n",
    "\n",
    "gr()\n",
    "plot(    x_axis_dates,\n",
    "        [  y_axis_original y_axis_predicted \n",
    "        ], # y-axis\n",
    "    label    = \n",
    "        [ symbol_to_predict \"predictions\"  \"\" ],\n",
    "    legend   =:topleft, \n",
    "              # :right, :left, :top, :bottom, :inside, :best, :legend, :topright, :topleft, :bottomleft, :bottomright\n",
    "    xlabel   = \"time\",\n",
    "    ylabel   = \"value\",\n",
    "    size     = (980, 400), # width, height\n",
    "    layout = (1, 1), # number of graphs: vertically, horizontally\n",
    "    )\n",
    "## Add veritical today line\n",
    "plot!([today_id], seriestype=\"vline\", label=[ \"Today \"*t \"\" ],)\n"
   ]
  },
  {
   "cell_type": "code",
   "execution_count": 13,
   "metadata": {
    "ExecuteTime": {
     "end_time": "2020-12-11T21:09:40.762000-05:00",
     "start_time": "2020-12-12T02:08:32.203Z"
    }
   },
   "outputs": [],
   "source": [
    "savefig(\"../images/predictions_\" * symbol_to_predict * \".png\")"
   ]
  },
  {
   "cell_type": "code",
   "execution_count": 14,
   "metadata": {
    "ExecuteTime": {
     "end_time": "2020-12-11T21:09:41.305000-05:00",
     "start_time": "2020-12-12T02:08:32.206Z"
    }
   },
   "outputs": [
    {
     "name": "stdout",
     "output_type": "stream",
     "text": [
      "NVDA 2020-12-11\n",
      "Sat, 2020-12-05\t predicted 544.0\t, but actual value was \t542.0\t difference is -2.0\n",
      "Sun, 2020-12-06\t predicted 544.0\t, but actual value was \t542.0\t difference is -2.0\n",
      "Mon, 2020-12-07\t predicted 543.0\t, but actual value was \t549.0\t difference is 6.0\n",
      "Tue, 2020-12-08\t predicted 544.0\t, but actual value was \t544.0\t difference is 0.0\n",
      "Wed, 2020-12-09\t predicted 541.0\t, but actual value was \t537.0\t difference is -4.0\n",
      "Thu, 2020-12-10\t predicted 535.0\t, but actual value was \t523.0\t difference is -12.0\n",
      "Fri, 2020-12-11\t predicted 519.0\t, but actual value was \t521.0\t difference is 2.0\n",
      "Sat, 2020-12-12\t predicted 504.0\n",
      "Sun, 2020-12-13\t predicted 489.0\n",
      "Mon, 2020-12-14\t predicted 475.0\n"
     ]
    }
   ],
   "source": [
    "## print prediction comparisons\n",
    "println(symbol_to_predict, \" \", today())\n",
    "\n",
    "file_path = \"../DATA/\" * symbol_to_predict * \"_predictions.csv\"\n",
    "open( file_path, \"a\") do file_handle # append\n",
    "    \n",
    "    for id in finem-10:finem\n",
    "        if id < today_id + 4 # Allows to show Monday predition on Friday night.\n",
    "            row = get(data_predictions, id) # get a dictionary of data from the SFrame\n",
    "            date_string = row[\"Date\"] # e.g. \"2020-10-20\"\n",
    "\n",
    "            a = y_axis_predicted[id]\n",
    "            b = y_axis_original[id]\n",
    "            d = round(b-a, digits=3)\n",
    "            date = convert(String, Dates.format( Date(date_string), \"e, yyyy-mm-dd\" ) )\n",
    "            if id <= today_id\n",
    "                println( date, \"\\t predicted \", a , \"\\t, but actual value was \\t\", b , \"\\t difference is \",  d  ) # di\n",
    "            else\n",
    "                println( date, \"\\t predicted \", a  ) # \n",
    "\n",
    "                txt_to_save =  \n",
    "                    convert(String, Dates.format( today(), \"yyyy-mm-dd\" ) ) *\",\"* \n",
    "                    convert(String, symbol_to_predict) *\",\"* \n",
    "                    date_string *\",\"* \n",
    "                    string(a) * \"\\n\"\n",
    "                \n",
    "                write(file_handle, txt_to_save )\n",
    "                \n",
    "            end # if\n",
    "        end #if \n",
    "    end # for\n",
    "end # open file"
   ]
  },
  {
   "cell_type": "code",
   "execution_count": null,
   "metadata": {},
   "outputs": [],
   "source": []
  },
  {
   "cell_type": "code",
   "execution_count": null,
   "metadata": {},
   "outputs": [],
   "source": []
  }
 ],
 "metadata": {
  "kernelspec": {
   "display_name": "Julia 1.5.1",
   "language": "julia",
   "name": "julia-1.5"
  },
  "language_info": {
   "file_extension": ".jl",
   "mimetype": "application/julia",
   "name": "julia",
   "version": "1.5.1"
  },
  "toc": {
   "base_numbering": 1,
   "nav_menu": {},
   "number_sections": true,
   "sideBar": true,
   "skip_h1_title": true,
   "title_cell": "Table of Contents",
   "title_sidebar": "Contents",
   "toc_cell": true,
   "toc_position": {},
   "toc_section_display": true,
   "toc_window_display": true
  },
  "varInspector": {
   "cols": {
    "lenName": 16,
    "lenType": 16,
    "lenVar": 40
   },
   "kernels_config": {
    "python": {
     "delete_cmd_postfix": "",
     "delete_cmd_prefix": "del ",
     "library": "var_list.py",
     "varRefreshCmd": "print(var_dic_list())"
    },
    "r": {
     "delete_cmd_postfix": ") ",
     "delete_cmd_prefix": "rm(",
     "library": "var_list.r",
     "varRefreshCmd": "cat(var_dic_list()) "
    }
   },
   "types_to_exclude": [
    "module",
    "function",
    "builtin_function_or_method",
    "instance",
    "_Feature"
   ],
   "window_display": false
  }
 },
 "nbformat": 4,
 "nbformat_minor": 4
}
