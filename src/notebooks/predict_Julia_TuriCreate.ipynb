{
 "cells": [
  {
   "cell_type": "markdown",
   "metadata": {},
   "source": [
    "# Prediction Model using TuriCreate in Julia"
   ]
  },
  {
   "cell_type": "markdown",
   "metadata": {
    "toc": true
   },
   "source": [
    "<h1>Table of Contents<span class=\"tocSkip\"></span></h1>\n",
    "<div class=\"toc\"><ul class=\"toc-item\"><li><span><a href=\"#Set-Up\" data-toc-modified-id=\"Set-Up-1\"><span class=\"toc-item-num\">1&nbsp;&nbsp;</span>Set Up</a></span></li><li><span><a href=\"#Fetch-Data-(SFrame)-from-Uber-CSV\" data-toc-modified-id=\"Fetch-Data-(SFrame)-from-Uber-CSV-2\"><span class=\"toc-item-num\">2&nbsp;&nbsp;</span>Fetch Data (SFrame) from Uber CSV</a></span></li><li><span><a href=\"#Split-Data\" data-toc-modified-id=\"Split-Data-3\"><span class=\"toc-item-num\">3&nbsp;&nbsp;</span>Split Data</a></span></li><li><span><a href=\"#Evaluate-the-Model\" data-toc-modified-id=\"Evaluate-the-Model-4\"><span class=\"toc-item-num\">4&nbsp;&nbsp;</span>Evaluate the Model</a></span></li><li><span><a href=\"#Save-/-Export-the-Model\" data-toc-modified-id=\"Save-/-Export-the-Model-5\"><span class=\"toc-item-num\">5&nbsp;&nbsp;</span>Save / Export the Model</a></span></li><li><span><a href=\"#Make-predictions\" data-toc-modified-id=\"Make-predictions-6\"><span class=\"toc-item-num\">6&nbsp;&nbsp;</span>Make predictions</a></span><ul class=\"toc-item\"><li><span><a href=\"#Explore-SFrame\" data-toc-modified-id=\"Explore-SFrame-6.1\"><span class=\"toc-item-num\">6.1&nbsp;&nbsp;</span>Explore SFrame</a></span></li></ul></li></ul></div>"
   ]
  },
  {
   "cell_type": "markdown",
   "metadata": {},
   "source": [
    "## Set Up"
   ]
  },
  {
   "cell_type": "code",
   "execution_count": 1,
   "metadata": {
    "ExecuteTime": {
     "end_time": "2020-12-11T20:39:20.707000-05:00",
     "start_time": "2020-12-12T01:39:19.801Z"
    }
   },
   "outputs": [
    {
     "name": "stdout",
     "output_type": "stream",
     "text": [
      "\n"
     ]
    }
   ],
   "source": [
    "symbol_to_predict = \"DJIA\" # - there is a bug\n",
    "# symbol_to_predict = \"AAPL\"\n",
    "#symbol_to_predict = \"VIX\"\n",
    "# symbol_to_predict = \"NIO\"\n",
    "#symbol_to_predict = \"NVDA\"\n",
    "\n",
    "features_to_analyze = \n",
    "[\n",
    " \n",
    "\"GSPC_Quantized\"\n",
    ",\"GSPC_Avg005\"\n",
    ",\"GSPC_Avg010\"\n",
    ",\"GSPC_Avg030\"\n",
    ",\"GSPC_Avg060\"\n",
    ",\"GSPC_Avg090\"\n",
    ",\"GSPC_Avg120\"\n",
    ",\"GSPC_Avg180\"\n",
    " \n",
    ",\"BTC_USD_Quantized\"\n",
    ",\"BTC_USD_Avg005\"\n",
    ",\"BTC_USD_Avg010\"\n",
    ",\"BTC_USD_Avg030\"\n",
    ",\"BTC_USD_Avg060\"\n",
    ",\"BTC_USD_Avg090\"\n",
    ",\"BTC_USD_Avg120\"\n",
    ",\"BTC_USD_Avg180\"\n",
    " \n",
    ",\"DALLAS_FED_MFC_Quantized\"\n",
    ",\"DALLAS_FED_MFC_Avg005\"\n",
    ",\"DALLAS_FED_MFC_Avg010\"\n",
    ",\"DALLAS_FED_MFC_Avg030\"\n",
    ",\"DALLAS_FED_MFC_Avg060\"\n",
    ",\"DALLAS_FED_MFC_Avg090\"\n",
    ",\"DALLAS_FED_MFC_Avg120\"\n",
    ",\"DALLAS_FED_MFC_Avg180\"\n",
    " \n",
    ",\"GOLD_Quantized\"\n",
    ",\"GOLD_Avg005\"\n",
    ",\"GOLD_Avg010\"\n",
    ",\"GOLD_Avg030\"\n",
    ",\"GOLD_Avg060\"\n",
    ",\"GOLD_Avg090\"\n",
    ",\"GOLD_Avg120\"\n",
    ",\"GOLD_Avg180\"\n",
    " \n",
    ",\"GELYF_Quantized\"\n",
    ",\"GELYF_Avg005\"\n",
    ",\"GELYF_Avg010\"\n",
    ",\"GELYF_Avg030\"\n",
    ",\"GELYF_Avg060\"\n",
    ",\"GELYF_Avg090\"\n",
    ",\"GELYF_Avg120\"\n",
    ",\"GELYF_Avg180\"\n",
    " \n",
    ",\"US_PEND_HOME_SALE_M_Quantized\"\n",
    ",\"US_PEND_HOME_SALE_M_Avg005\"\n",
    ",\"US_PEND_HOME_SALE_M_Avg010\"\n",
    ",\"US_PEND_HOME_SALE_M_Avg030\"\n",
    ",\"US_PEND_HOME_SALE_M_Avg060\"\n",
    ",\"US_PEND_HOME_SALE_M_Avg090\"\n",
    ",\"US_PEND_HOME_SALE_M_Avg120\"\n",
    ",\"US_PEND_HOME_SALE_M_Avg180\"\n",
    " \n",
    ",\"TNX_Quantized\"\n",
    ",\"TNX_Avg005\"\n",
    ",\"TNX_Avg010\"\n",
    ",\"TNX_Avg030\"\n",
    ",\"TNX_Avg060\"\n",
    ",\"TNX_Avg090\"\n",
    ",\"TNX_Avg120\"\n",
    ",\"TNX_Avg180\"\n",
    " \n",
    ",\"TSLA_Quantized\"\n",
    ",\"TSLA_Avg005\"\n",
    ",\"TSLA_Avg010\"\n",
    ",\"TSLA_Avg030\"\n",
    ",\"TSLA_Avg060\"\n",
    ",\"TSLA_Avg090\"\n",
    ",\"TSLA_Avg120\"\n",
    ",\"TSLA_Avg180\"\n",
    " \n",
    ",\"US_BUILD_PERM_Quantized\"\n",
    ",\"US_BUILD_PERM_Avg005\"\n",
    ",\"US_BUILD_PERM_Avg010\"\n",
    ",\"US_BUILD_PERM_Avg030\"\n",
    ",\"US_BUILD_PERM_Avg060\"\n",
    ",\"US_BUILD_PERM_Avg090\"\n",
    ",\"US_BUILD_PERM_Avg120\"\n",
    ",\"US_BUILD_PERM_Avg180\"\n",
    " \n",
    ",\"BYDDF_Quantized\"\n",
    ",\"BYDDF_Avg005\"\n",
    ",\"BYDDF_Avg010\"\n",
    ",\"BYDDF_Avg030\"\n",
    ",\"BYDDF_Avg060\"\n",
    ",\"BYDDF_Avg090\"\n",
    ",\"BYDDF_Avg120\"\n",
    ",\"BYDDF_Avg180\"\n",
    " \n",
    ",\"US_INDS_PROD_M_Quantized\"\n",
    ",\"US_INDS_PROD_M_Avg005\"\n",
    ",\"US_INDS_PROD_M_Avg010\"\n",
    ",\"US_INDS_PROD_M_Avg030\"\n",
    ",\"US_INDS_PROD_M_Avg060\"\n",
    ",\"US_INDS_PROD_M_Avg090\"\n",
    ",\"US_INDS_PROD_M_Avg120\"\n",
    ",\"US_INDS_PROD_M_Avg180\"\n",
    " \n",
    ",\"US_ISM_MFC_EMPL_Quantized\"\n",
    ",\"US_ISM_MFC_EMPL_Avg005\"\n",
    ",\"US_ISM_MFC_EMPL_Avg010\"\n",
    ",\"US_ISM_MFC_EMPL_Avg030\"\n",
    ",\"US_ISM_MFC_EMPL_Avg060\"\n",
    ",\"US_ISM_MFC_EMPL_Avg090\"\n",
    ",\"US_ISM_MFC_EMPL_Avg120\"\n",
    ",\"US_ISM_MFC_EMPL_Avg180\"\n",
    " \n",
    ",\"US_INIT_JOB_CLAIM_Quantized\"\n",
    ",\"US_INIT_JOB_CLAIM_Avg005\"\n",
    ",\"US_INIT_JOB_CLAIM_Avg010\"\n",
    ",\"US_INIT_JOB_CLAIM_Avg030\"\n",
    ",\"US_INIT_JOB_CLAIM_Avg060\"\n",
    ",\"US_INIT_JOB_CLAIM_Avg090\"\n",
    ",\"US_INIT_JOB_CLAIM_Avg120\"\n",
    ",\"US_INIT_JOB_CLAIM_Avg180\"\n",
    " \n",
    ",\"US_UNEMPLOY_RATE_Quantized\"\n",
    ",\"US_UNEMPLOY_RATE_Avg005\"\n",
    ",\"US_UNEMPLOY_RATE_Avg010\"\n",
    ",\"US_UNEMPLOY_RATE_Avg030\"\n",
    ",\"US_UNEMPLOY_RATE_Avg060\"\n",
    ",\"US_UNEMPLOY_RATE_Avg090\"\n",
    ",\"US_UNEMPLOY_RATE_Avg120\"\n",
    ",\"US_UNEMPLOY_RATE_Avg180\"\n",
    " \n",
    ",\"NVDA_Quantized\"\n",
    ",\"NVDA_Avg005\"\n",
    ",\"NVDA_Avg010\"\n",
    ",\"NVDA_Avg030\"\n",
    ",\"NVDA_Avg060\"\n",
    ",\"NVDA_Avg090\"\n",
    ",\"NVDA_Avg120\"\n",
    ",\"NVDA_Avg180\"\n",
    " \n",
    ",\"NRMGX_Quantized\"\n",
    ",\"NRMGX_Avg005\"\n",
    ",\"NRMGX_Avg010\"\n",
    ",\"NRMGX_Avg030\"\n",
    ",\"NRMGX_Avg060\"\n",
    ",\"NRMGX_Avg090\"\n",
    ",\"NRMGX_Avg120\"\n",
    ",\"NRMGX_Avg180\"\n",
    " \n",
    ",\"US_HOUS_STRS_M_Quantized\"\n",
    ",\"US_HOUS_STRS_M_Avg005\"\n",
    ",\"US_HOUS_STRS_M_Avg010\"\n",
    ",\"US_HOUS_STRS_M_Avg030\"\n",
    ",\"US_HOUS_STRS_M_Avg060\"\n",
    ",\"US_HOUS_STRS_M_Avg090\"\n",
    ",\"US_HOUS_STRS_M_Avg120\"\n",
    ",\"US_HOUS_STRS_M_Avg180\"\n",
    " \n",
    ",\"HD_Quantized\"\n",
    ",\"HD_Avg005\"\n",
    ",\"HD_Avg010\"\n",
    ",\"HD_Avg030\"\n",
    ",\"HD_Avg060\"\n",
    ",\"HD_Avg090\"\n",
    ",\"HD_Avg120\"\n",
    ",\"HD_Avg180\"\n",
    " \n",
    ",\"US_GDP_Q_Quantized\"\n",
    ",\"US_GDP_Q_Avg005\"\n",
    ",\"US_GDP_Q_Avg010\"\n",
    ",\"US_GDP_Q_Avg030\"\n",
    ",\"US_GDP_Q_Avg060\"\n",
    ",\"US_GDP_Q_Avg090\"\n",
    ",\"US_GDP_Q_Avg120\"\n",
    ",\"US_GDP_Q_Avg180\"\n",
    " \n",
    ",\"VIX_Quantized\"\n",
    ",\"VIX_Avg005\"\n",
    ",\"VIX_Avg010\"\n",
    ",\"VIX_Avg030\"\n",
    ",\"VIX_Avg060\"\n",
    ",\"VIX_Avg090\"\n",
    ",\"VIX_Avg120\"\n",
    ",\"VIX_Avg180\"\n",
    " \n",
    ",\"TPLGX_Quantized\"\n",
    ",\"TPLGX_Avg005\"\n",
    ",\"TPLGX_Avg010\"\n",
    ",\"TPLGX_Avg030\"\n",
    ",\"TPLGX_Avg060\"\n",
    ",\"TPLGX_Avg090\"\n",
    ",\"TPLGX_Avg120\"\n",
    ",\"TPLGX_Avg180\"\n",
    " \n",
    ",\"US_ISM_MFC_PMI_Quantized\"\n",
    ",\"US_ISM_MFC_PMI_Avg005\"\n",
    ",\"US_ISM_MFC_PMI_Avg010\"\n",
    ",\"US_ISM_MFC_PMI_Avg030\"\n",
    ",\"US_ISM_MFC_PMI_Avg060\"\n",
    ",\"US_ISM_MFC_PMI_Avg090\"\n",
    ",\"US_ISM_MFC_PMI_Avg120\"\n",
    ",\"US_ISM_MFC_PMI_Avg180\"\n",
    " \n",
    ",\"VINIX_Quantized\"\n",
    ",\"VINIX_Avg005\"\n",
    ",\"VINIX_Avg010\"\n",
    ",\"VINIX_Avg030\"\n",
    ",\"VINIX_Avg060\"\n",
    ",\"VINIX_Avg090\"\n",
    ",\"VINIX_Avg120\"\n",
    ",\"VINIX_Avg180\"\n",
    " \n",
    ",\"VBTLX_Quantized\"\n",
    ",\"VBTLX_Avg005\"\n",
    ",\"VBTLX_Avg010\"\n",
    ",\"VBTLX_Avg030\"\n",
    ",\"VBTLX_Avg060\"\n",
    ",\"VBTLX_Avg090\"\n",
    ",\"VBTLX_Avg120\"\n",
    ",\"VBTLX_Avg180\"\n",
    " \n",
    ",\"RERGX_Quantized\"\n",
    ",\"RERGX_Avg005\"\n",
    ",\"RERGX_Avg010\"\n",
    ",\"RERGX_Avg030\"\n",
    ",\"RERGX_Avg060\"\n",
    ",\"RERGX_Avg090\"\n",
    ",\"RERGX_Avg120\"\n",
    ",\"RERGX_Avg180\"\n",
    " \n",
    ",\"CRSP_Quantized\"\n",
    ",\"CRSP_Avg005\"\n",
    ",\"CRSP_Avg010\"\n",
    ",\"CRSP_Avg030\"\n",
    ",\"CRSP_Avg060\"\n",
    ",\"CRSP_Avg090\"\n",
    ",\"CRSP_Avg120\"\n",
    ",\"CRSP_Avg180\"\n",
    " \n",
    ",\"BABA_Quantized\"\n",
    ",\"BABA_Avg005\"\n",
    ",\"BABA_Avg010\"\n",
    ",\"BABA_Avg030\"\n",
    ",\"BABA_Avg060\"\n",
    ",\"BABA_Avg090\"\n",
    ",\"BABA_Avg120\"\n",
    ",\"BABA_Avg180\"\n",
    " \n",
    ",\"DJIA_Quantized\"\n",
    ",\"DJIA_Avg005\"\n",
    ",\"DJIA_Avg010\"\n",
    ",\"DJIA_Avg030\"\n",
    ",\"DJIA_Avg060\"\n",
    ",\"DJIA_Avg090\"\n",
    ",\"DJIA_Avg120\"\n",
    ",\"DJIA_Avg180\"\n",
    " \n",
    ",\"AAPL_Quantized\"\n",
    ",\"AAPL_Avg005\"\n",
    ",\"AAPL_Avg010\"\n",
    ",\"AAPL_Avg030\"\n",
    ",\"AAPL_Avg060\"\n",
    ",\"AAPL_Avg090\"\n",
    ",\"AAPL_Avg120\"\n",
    ",\"AAPL_Avg180\"\n",
    " \n",
    "    \n",
    "]\n",
    "\n",
    "println()"
   ]
  },
  {
   "cell_type": "code",
   "execution_count": 2,
   "metadata": {
    "ExecuteTime": {
     "end_time": "2020-12-11T20:39:25.590000-05:00",
     "start_time": "2020-12-12T01:39:19.805Z"
    }
   },
   "outputs": [
    {
     "name": "stdout",
     "output_type": "stream",
     "text": [
      "\n"
     ]
    },
    {
     "data": {
      "text/plain": [
       "\"DJIA_Original\""
      ]
     },
     "execution_count": 2,
     "metadata": {},
     "output_type": "execute_result"
    }
   ],
   "source": [
    "## uncomment for the first run\n",
    "# import Pkg\n",
    "# Pkg.add(\"PyCall\")\n",
    "# Pkg.add(\"Conda\")\n",
    "# ENV[\"PYTHON\"] = \"/opt/anaconda3/envs/turi/bin/python\"\n",
    "# /opt/anaconda3/envs/turi/lib/python3.6/site-packages/\n",
    "# Pkg.build(\"PyCall\")\n",
    "\n",
    "include(\"../Julia/functions.jl\") \n",
    "data_path=\"../DATA/processed/uber_training.csv\"\n",
    "column_to_predict = symbol_to_predict * \"_Original\""
   ]
  },
  {
   "cell_type": "markdown",
   "metadata": {},
   "source": [
    "## Fetch Data (SFrame) from Uber CSV"
   ]
  },
  {
   "cell_type": "code",
   "execution_count": 3,
   "metadata": {
    "ExecuteTime": {
     "end_time": "2020-12-11T20:39:30.495000-05:00",
     "start_time": "2020-12-12T01:39:19.809Z"
    }
   },
   "outputs": [
    {
     "name": "stdout",
     "output_type": "stream",
     "text": [
      "Finished parsing file /Users/uki/REPOS/MarketIndicators.jl/src/DATA/processed/uber_training.csv\n",
      "Parsing completed. Parsed 100 lines in 0.033964 secs.\n",
      "------------------------------------------------------\n",
      "Inferred types from first 100 line(s) of file as \n",
      "column_type_hints=[int,str,float,float,float,float,float,float,float,float,float,float,float,float,float,float,float,float,float,float,float,float,float,float,float,float,float,float,float,float,float,float,float,float,float,float,float,float,float,float,float,float,float,float,float,float,float,float,float,float,float,float,float,float,float,float,float,float,float,float,float,float,float,float,float,float,float,float,float,float,float,float,float,float,float,float,float,float,float,float,float,float,float,float,float,float,float,float,float,float,float,float,float,float,float,float,float,float,float,float,float,float,float,float,float,float,float,float,float,float,float,float,float,float,float,float,float,float,float,float,float,float,float,float,float,float,float,float,float,float,float,float,float,float,float,float,float,float,float,float,float,float,float,float,float,float,float,float,float,float,float,float,float,float,float,float,float,float,float,float,float,float,float,float,float,float,float,float,float,float,float,float,float,float,float,float,float,float,float,float,float,float,float,float,float,float,float,float,float,float,float,float,float,float,float,float,float,float,float,float,float,float,float,float,float,float,float,float,float,float,float,float,float,float,float,float,float,float,float,float,float,float,float,float,float,float,float,float,float,float,float,float,float,float,float,float,float,float,float,float,float,float,float,float,float,float,float,float,float,float,float,float,float,float,float,float,float,float,float,float,float,float,float]\n",
      "If parsing fails due to incorrect types, you can correct\n",
      "the inferred type list above and pass it to read_csv in\n",
      "the column_type_hints argument\n",
      "------------------------------------------------------\n",
      "Finished parsing file /Users/uki/REPOS/MarketIndicators.jl/src/DATA/processed/uber_training.csv\n",
      "Parsing completed. Parsed 452 lines in 0.015947 secs.\n",
      "\n"
     ]
    }
   ],
   "source": [
    "using PyCall\n",
    "tc = pyimport(\"turicreate\")\n",
    "data = tc.SFrame(data_path)\n",
    "println()"
   ]
  },
  {
   "cell_type": "markdown",
   "metadata": {},
   "source": [
    "## Split Data"
   ]
  },
  {
   "cell_type": "code",
   "execution_count": 4,
   "metadata": {
    "ExecuteTime": {
     "end_time": "2020-12-11T20:39:31.131000-05:00",
     "start_time": "2020-12-12T01:39:19.814Z"
    }
   },
   "outputs": [
    {
     "name": "stdout",
     "output_type": "stream",
     "text": [
      "(354,)\n",
      "(98,)\n"
     ]
    }
   ],
   "source": [
    "# Make a train-test split\n",
    "train_data, test_data = data.random_split(0.8)\n",
    "\n",
    "println( size(train_data) )\n",
    "println( size(test_data)  )"
   ]
  },
  {
   "cell_type": "code",
   "execution_count": 5,
   "metadata": {
    "ExecuteTime": {
     "end_time": "2020-12-11T20:39:33.865000-05:00",
     "start_time": "2020-12-12T01:39:19.818Z"
    }
   },
   "outputs": [
    {
     "name": "stdout",
     "output_type": "stream",
     "text": [
      "Automatically generating validation set from 5% of the data.\n",
      "Linear regression:\n",
      "--------------------------------------------------------\n",
      "Number of examples          : 334\n",
      "Number of features          : 232\n",
      "Number of unpacked features : 232\n",
      "Number of coefficients    : 233\n",
      "Starting Newton Method\n",
      "--------------------------------------------------------\n",
      "+-----------+----------+--------------+--------------------+----------------------+---------------------------------+-----------------------------------+\n",
      "| Iteration | Passes   | Elapsed Time | Training Max Error | Validation Max Error | Training Root-Mean-Square Error | Validation Root-Mean-Square Error |\n",
      "+-----------+----------+--------------+--------------------+----------------------+---------------------------------+-----------------------------------+\n",
      "| 1         | 2        | 1.044412     | 89.710578          | 104.857545           | 28.340868                       | 44.100912                         |\n",
      "+-----------+----------+--------------+--------------------+----------------------+---------------------------------+-----------------------------------+\n",
      "SUCCESS: Optimal solution found.\n",
      "\n"
     ]
    },
    {
     "data": {
      "text/plain": [
       "PyObject Class                          : LinearRegression\n",
       "\n",
       "Schema\n",
       "------\n",
       "Number of coefficients         : 233\n",
       "Number of examples             : 334\n",
       "Number of feature columns      : 232\n",
       "Number of unpacked features    : 232\n",
       "\n",
       "Hyperparameters\n",
       "---------------\n",
       "L1 penalty                     : 0\n",
       "L2 penalty                     : 0.01\n",
       "\n",
       "Training Summary\n",
       "----------------\n",
       "Solver                         : newton\n",
       "Solver iterations              : 1\n",
       "Solver status                  : SUCCESS: Optimal solution found.\n",
       "Training time (sec)            : 1.0587\n",
       "\n",
       "Settings\n",
       "--------\n",
       "Residual sum of squares        : 268270.4044\n",
       "Training RMSE                  : 28.3409\n",
       "\n",
       "Highest Positive Coefficients\n",
       "-----------------------------\n",
       "(intercept)                    : 17081.0046\n",
       "DJIA_Quantized                 : 69.0364\n",
       "GSPC_Quantized                 : 35.1564\n",
       "GELYF_Avg030                   : 10.5454\n",
       "VINIX_Quantized                : 8.7066\n",
       "\n",
       "Lowest Negative Coefficients\n",
       "----------------------------\n",
       "GELYF_Avg060                   : -13.7872\n",
       "US_PEND_HOME_SALE_M_Avg060     : -8.9128\n",
       "BTC_USD_Avg180                 : -8.7405\n",
       "DALLAS_FED_MFC_Avg180          : -7.3406\n",
       "US_PEND_HOME_SALE_M_Avg180     : -7.0445\n"
      ]
     },
     "execution_count": 5,
     "metadata": {},
     "output_type": "execute_result"
    }
   ],
   "source": [
    "model = tc.regression.create( \n",
    "    train_data, \n",
    "    target = column_to_predict, \n",
    "    features = features_to_analyze, \n",
    "    validation_set=\"auto\", \n",
    "    verbose=true\n",
    ")"
   ]
  },
  {
   "cell_type": "markdown",
   "metadata": {},
   "source": [
    "## Evaluate the Model"
   ]
  },
  {
   "cell_type": "code",
   "execution_count": 6,
   "metadata": {
    "ExecuteTime": {
     "end_time": "2020-12-11T20:39:35.074000-05:00",
     "start_time": "2020-12-12T01:39:19.821Z"
    }
   },
   "outputs": [
    {
     "data": {
      "text/plain": [
       "Dict{Any,Any} with 2 entries:\n",
       "  \"rmse\"      => 40.676\n",
       "  \"max_error\" => 166.084"
      ]
     },
     "execution_count": 6,
     "metadata": {},
     "output_type": "execute_result"
    }
   ],
   "source": [
    "#TODO: write this in a loop to select the best model\n",
    "# Evaluate the model and save the results into a dictionary\n",
    "results = model.evaluate( test_data ) #test_data[0:2531]\n",
    "results"
   ]
  },
  {
   "cell_type": "code",
   "execution_count": 7,
   "metadata": {
    "ExecuteTime": {
     "end_time": "2020-12-11T20:39:35.225000-05:00",
     "start_time": "2020-12-12T01:39:19.826Z"
    }
   },
   "outputs": [
    {
     "name": "stdout",
     "output_type": "stream",
     "text": [
      "max_error: 166.08, rmse: 40.68\n"
     ]
    }
   ],
   "source": [
    "rmse = results[\"rmse\"]\n",
    "rmse = round(rmse, digits=2)\n",
    "\n",
    "max_error = results[\"max_error\"]\n",
    "max_error = round(max_error, digits=2)\n",
    "\n",
    "println( \"max_error: \", max_error, \", rmse: \", rmse )\n",
    "# max_error: 1069.27, rmse: 184.6\n",
    "# max_error: 65.35, rmse: 32.6            predict: ^DJIA added: US_INIT_JOBLESS\n",
    "# max_error: 1875.39, rmse: 443.59        predict: ^DJIA commented out: \"DJIA_Quantized\"\n",
    "# max_error: 1339.76, rmse: 373.94        predict: ^DJIA commented out: \"DJIA_Quantized\"\n",
    "# max_error: 916.19, rmse: 231.24       predict: ^DJIA with \"DJIA_Avg005\""
   ]
  },
  {
   "cell_type": "markdown",
   "metadata": {},
   "source": [
    "## Save / Export the Model"
   ]
  },
  {
   "cell_type": "code",
   "execution_count": 8,
   "metadata": {
    "ExecuteTime": {
     "end_time": "2020-12-11T20:39:35.251000-05:00",
     "start_time": "2020-12-12T01:39:19.831Z"
    }
   },
   "outputs": [],
   "source": [
    "# Export to Core ML\n",
    "model.export_coreml(\"../DATA/models/^DJI.mlmodel\")"
   ]
  },
  {
   "cell_type": "markdown",
   "metadata": {},
   "source": [
    "## Make predictions "
   ]
  },
  {
   "cell_type": "code",
   "execution_count": 9,
   "metadata": {
    "ExecuteTime": {
     "end_time": "2020-12-11T20:39:35.470000-05:00",
     "start_time": "2020-12-12T01:39:19.835Z"
    }
   },
   "outputs": [
    {
     "name": "stdout",
     "output_type": "stream",
     "text": [
      "Finished parsing file /Users/uki/REPOS/MarketIndicators.jl/src/DATA/processed/uber_prediction.csv\n",
      "Parsing completed. Parsed 95 lines in 0.042342 secs.\n",
      "------------------------------------------------------\n",
      "Inferred types from first 100 line(s) of file as \n",
      "column_type_hints=[int,str,float,float,float,float,float,float,float,float,float,float,float,float,float,float,float,float,float,float,float,float,float,float,float,float,float,float,float,float,float,float,float,float,float,float,float,float,float,float,float,float,float,float,float,float,float,float,float,float,float,float,float,float,float,float,float,float,float,float,float,float,float,float,float,float,float,float,float,float,float,float,float,float,float,float,float,float,float,float,float,float,float,float,float,float,float,float,float,float,float,float,float,float,float,float,float,float,float,float,float,float,float,float,float,float,float,float,float,float,float,float,float,float,float,float,float,float,float,float,float,float,float,float,float,float,float,float,float,float,float,float,float,float,float,float,float,float,float,float,float,float,float,float,float,float,float,float,float,float,float,float,float,float,float,float,float,float,float,float,float,float,float,float,float,float,float,float,float,float,float,float,float,float,float,float,float,float,float,float,float,float,float,float,float,float,float,float,float,float,float,float,float,float,float,float,float,float,float,float,float,float,float,float,float,float,float,float,float,float,float,float,float,float,float,float,float,float,float,float,float,float,float,float,float,float,float,float,float,float,float,float,float,float,float,float,float,float,float,float,float,float,float,float,float,float,float,float,float,float,float,float,float,float,float,float,float,float,float,float,float,float,float]\n",
      "If parsing fails due to incorrect types, you can correct\n",
      "the inferred type list above and pass it to read_csv in\n",
      "the column_type_hints argument\n",
      "------------------------------------------------------\n",
      "Finished parsing file /Users/uki/REPOS/MarketIndicators.jl/src/DATA/processed/uber_prediction.csv\n",
      "Parsing completed. Parsed 95 lines in 0.009109 secs.\n",
      "\n"
     ]
    }
   ],
   "source": [
    "data_path=\"../DATA/processed/uber_prediction.csv\"\n",
    "data_predictions = tc.SFrame(data_path)\n",
    "\n",
    "## Save predictions to an SArray\n",
    "predictions = model.predict(data_predictions)\n",
    "#get(predictions, 1)\n",
    "\n",
    "println()"
   ]
  },
  {
   "cell_type": "markdown",
   "metadata": {},
   "source": [
    "### Explore SFrame"
   ]
  },
  {
   "cell_type": "code",
   "execution_count": 10,
   "metadata": {
    "ExecuteTime": {
     "end_time": "2020-12-11T20:39:35.685000-05:00",
     "start_time": "2020-12-12T01:39:19.840Z"
    }
   },
   "outputs": [
    {
     "name": "stdout",
     "output_type": "stream",
     "text": [
      "record_count data 95\n",
      "record_count predictions 95\n",
      "feature_number 263\n",
      "Rata Die 737774\n",
      "date 2020-12-15\n",
      "original 30071.130859\n"
     ]
    }
   ],
   "source": [
    "record_count = size(data_predictions)[1]\n",
    "row = get(data_predictions, record_count-1)\n",
    "\n",
    "feature_number = row.count\n",
    "day = row[\"Rata_Die\"]\n",
    "date = row[\"Date\"] # \"2020-10-20\"\n",
    "original = row[\"DJIA_Original\"]\n",
    "\n",
    "println( \"record_count data \", record_count )\n",
    "println( \"record_count predictions \", size(predictions)[1] )\n",
    "\n",
    "println( \"feature_number \", feature_number )\n",
    "println( \"Rata Die \", day )\n",
    "println( \"date \", date )\n",
    "println( \"original \", original )"
   ]
  },
  {
   "cell_type": "code",
   "execution_count": 17,
   "metadata": {
    "ExecuteTime": {
     "end_time": "2020-12-11T20:44:28.692000-05:00",
     "start_time": "2020-12-12T01:44:27.860Z"
    }
   },
   "outputs": [
    {
     "name": "stdout",
     "output_type": "stream",
     "text": [
      "preditions set size: 94, step 5\n",
      "DJIA 94 Array{Date,1}\n",
      "t = Dec. 11, 2020 - String\n",
      "\n"
     ]
    }
   ],
   "source": [
    "using Dates\n",
    "today_rata = Dates.datetime2rata( today() )\n",
    "\n",
    "## Determine dataset size\n",
    "\n",
    "initio = 1                                              # latin: start\n",
    "finem  = size(predictions)[1] -1                        # latin: end\n",
    "gradus = convert(Int64, round( finem/20, digits=0)  )   # latin: step\n",
    "\n",
    "println(\"preditions set size: \", finem, \", step \", gradus)\n",
    "\n",
    "\n",
    "## Declare variables\n",
    "x_axis_dates      = Vector{Date}() # results in Array{Date,1}\n",
    "y_axis_original   = Vector{Float64}()\n",
    "y_axis_predicted  = Vector{Float64}()\n",
    "\n",
    "println(symbol_to_predict, \" \", finem, \" \", typeof(x_axis_dates))\n",
    "\n",
    "today_id  = 50 # not set yet\n",
    "\n",
    "## step thru each prediction\n",
    "for id in initio:finem\n",
    "    row = get(data_predictions, id) # get a dictionary of data from the SFrame\n",
    "    \n",
    "    date_string = row[\"Date\"] # e.g. \"2020-10-20\"\n",
    "    date = Date(date_string) # 2020-09-07 Date\n",
    "    if date == today()\n",
    "        today_id = id\n",
    "    end \n",
    "    #date = Dates.format(date, \"u.d,yy\" )\n",
    "    #println(\"date \", date, \" \", typeof(date))\n",
    "    push!(x_axis_dates, date)\n",
    "    \n",
    "    predicted = get(predictions, id) # Float64\n",
    "    predicted = round(predicted, digits=0)\n",
    "    #println(\"predicted \", predicted, \" \", typeof(predicted))\n",
    "    append!(y_axis_predicted, predicted)\n",
    "    \n",
    "    \n",
    "    original = row[ column_to_predict ]\n",
    "    original = round(original, digits=0) # Float64\n",
    "    #println(\"original \", original, \" \", typeof(original)) \n",
    "    append!(y_axis_original, original)\n",
    "end\n",
    "\n",
    "## Format Dates for plotting\n",
    "include(\"../Julia/function_format_dates.jl\")\n",
    "x_axis_dates = format_dates(x_axis_dates, \"u. d, yy \")\n",
    "\n",
    "\n",
    "\n",
    "t = today()# Date\n",
    "t = format_dates([t], \"u. d, yyyy\") # Array{String,1}\n",
    "t = t[1] # String\n",
    "println(\"t = \", t, \" - \", typeof(t))\n",
    "\n",
    "println()"
   ]
  },
  {
   "cell_type": "code",
   "execution_count": 18,
   "metadata": {
    "ExecuteTime": {
     "end_time": "2020-12-11T20:44:28.960000-05:00",
     "start_time": "2020-12-12T01:44:28.723Z"
    }
   },
   "outputs": [
    {
     "data": {
      "image/svg+xml": [
       "<?xml version=\"1.0\" encoding=\"utf-8\"?>\n",
       "<svg xmlns=\"http://www.w3.org/2000/svg\" xmlns:xlink=\"http://www.w3.org/1999/xlink\" width=\"980\" height=\"400\" viewBox=\"0 0 3920 1600\">\n",
       "<defs>\n",
       "  <clipPath id=\"clip7900\">\n",
       "    <rect x=\"0\" y=\"0\" width=\"3920\" height=\"1600\"/>\n",
       "  </clipPath>\n",
       "</defs>\n",
       "<path clip-path=\"url(#clip7900)\" d=\"\n",
       "M0 1600 L3920 1600 L3920 0 L0 0  Z\n",
       "  \" fill=\"#ffffff\" fill-rule=\"evenodd\" fill-opacity=\"1\"/>\n",
       "<defs>\n",
       "  <clipPath id=\"clip7901\">\n",
       "    <rect x=\"784\" y=\"0\" width=\"2745\" height=\"1600\"/>\n",
       "  </clipPath>\n",
       "</defs>\n",
       "<path clip-path=\"url(#clip7900)\" d=\"\n",
       "M277.844 1455.01 L3872.76 1455.01 L3872.76 47.2441 L277.844 47.2441  Z\n",
       "  \" fill=\"#ffffff\" fill-rule=\"evenodd\" fill-opacity=\"1\"/>\n",
       "<defs>\n",
       "  <clipPath id=\"clip7902\">\n",
       "    <rect x=\"277\" y=\"47\" width=\"3596\" height=\"1409\"/>\n",
       "  </clipPath>\n",
       "</defs>\n",
       "<polyline clip-path=\"url(#clip7902)\" style=\"stroke:#000000; stroke-width:2; stroke-opacity:0.1; fill:none\" points=\"\n",
       "  379.586,1455.01 379.586,47.2441 \n",
       "  \"/>\n",
       "<polyline clip-path=\"url(#clip7902)\" style=\"stroke:#000000; stroke-width:2; stroke-opacity:0.1; fill:none\" points=\"\n",
       "  634.855,1455.01 634.855,47.2441 \n",
       "  \"/>\n",
       "<polyline clip-path=\"url(#clip7902)\" style=\"stroke:#000000; stroke-width:2; stroke-opacity:0.1; fill:none\" points=\"\n",
       "  853.657,1455.01 853.657,47.2441 \n",
       "  \"/>\n",
       "<polyline clip-path=\"url(#clip7902)\" style=\"stroke:#000000; stroke-width:2; stroke-opacity:0.1; fill:none\" points=\"\n",
       "  1108.93,1455.01 1108.93,47.2441 \n",
       "  \"/>\n",
       "<polyline clip-path=\"url(#clip7902)\" style=\"stroke:#000000; stroke-width:2; stroke-opacity:0.1; fill:none\" points=\"\n",
       "  1364.19,1455.01 1364.19,47.2441 \n",
       "  \"/>\n",
       "<polyline clip-path=\"url(#clip7902)\" style=\"stroke:#000000; stroke-width:2; stroke-opacity:0.1; fill:none\" points=\"\n",
       "  1583,1455.01 1583,47.2441 \n",
       "  \"/>\n",
       "<polyline clip-path=\"url(#clip7902)\" style=\"stroke:#000000; stroke-width:2; stroke-opacity:0.1; fill:none\" points=\"\n",
       "  1838.26,1455.01 1838.26,47.2441 \n",
       "  \"/>\n",
       "<polyline clip-path=\"url(#clip7902)\" style=\"stroke:#000000; stroke-width:2; stroke-opacity:0.1; fill:none\" points=\"\n",
       "  2093.53,1455.01 2093.53,47.2441 \n",
       "  \"/>\n",
       "<polyline clip-path=\"url(#clip7902)\" style=\"stroke:#000000; stroke-width:2; stroke-opacity:0.1; fill:none\" points=\"\n",
       "  2312.33,1455.01 2312.33,47.2441 \n",
       "  \"/>\n",
       "<polyline clip-path=\"url(#clip7902)\" style=\"stroke:#000000; stroke-width:2; stroke-opacity:0.1; fill:none\" points=\"\n",
       "  2567.6,1455.01 2567.6,47.2441 \n",
       "  \"/>\n",
       "<polyline clip-path=\"url(#clip7902)\" style=\"stroke:#000000; stroke-width:2; stroke-opacity:0.1; fill:none\" points=\"\n",
       "  2786.41,1455.01 2786.41,47.2441 \n",
       "  \"/>\n",
       "<polyline clip-path=\"url(#clip7902)\" style=\"stroke:#000000; stroke-width:2; stroke-opacity:0.1; fill:none\" points=\"\n",
       "  3041.67,1455.01 3041.67,47.2441 \n",
       "  \"/>\n",
       "<polyline clip-path=\"url(#clip7902)\" style=\"stroke:#000000; stroke-width:2; stroke-opacity:0.1; fill:none\" points=\"\n",
       "  3296.94,1455.01 3296.94,47.2441 \n",
       "  \"/>\n",
       "<polyline clip-path=\"url(#clip7902)\" style=\"stroke:#000000; stroke-width:2; stroke-opacity:0.1; fill:none\" points=\"\n",
       "  3515.74,1455.01 3515.74,47.2441 \n",
       "  \"/>\n",
       "<polyline clip-path=\"url(#clip7902)\" style=\"stroke:#000000; stroke-width:2; stroke-opacity:0.1; fill:none\" points=\"\n",
       "  3771.01,1455.01 3771.01,47.2441 \n",
       "  \"/>\n",
       "<polyline clip-path=\"url(#clip7902)\" style=\"stroke:#000000; stroke-width:2; stroke-opacity:0.1; fill:none\" points=\"\n",
       "  277.844,1286.73 3872.76,1286.73 \n",
       "  \"/>\n",
       "<polyline clip-path=\"url(#clip7902)\" style=\"stroke:#000000; stroke-width:2; stroke-opacity:0.1; fill:none\" points=\"\n",
       "  277.844,930.966 3872.76,930.966 \n",
       "  \"/>\n",
       "<polyline clip-path=\"url(#clip7902)\" style=\"stroke:#000000; stroke-width:2; stroke-opacity:0.1; fill:none\" points=\"\n",
       "  277.844,575.199 3872.76,575.199 \n",
       "  \"/>\n",
       "<polyline clip-path=\"url(#clip7902)\" style=\"stroke:#000000; stroke-width:2; stroke-opacity:0.1; fill:none\" points=\"\n",
       "  277.844,219.432 3872.76,219.432 \n",
       "  \"/>\n",
       "<polyline clip-path=\"url(#clip7900)\" style=\"stroke:#000000; stroke-width:4; stroke-opacity:1; fill:none\" points=\"\n",
       "  277.844,1455.01 3872.76,1455.01 \n",
       "  \"/>\n",
       "<polyline clip-path=\"url(#clip7900)\" style=\"stroke:#000000; stroke-width:4; stroke-opacity:1; fill:none\" points=\"\n",
       "  277.844,1455.01 277.844,47.2441 \n",
       "  \"/>\n",
       "<polyline clip-path=\"url(#clip7900)\" style=\"stroke:#000000; stroke-width:4; stroke-opacity:1; fill:none\" points=\"\n",
       "  379.586,1455.01 379.586,1438.11 \n",
       "  \"/>\n",
       "<polyline clip-path=\"url(#clip7900)\" style=\"stroke:#000000; stroke-width:4; stroke-opacity:1; fill:none\" points=\"\n",
       "  634.855,1455.01 634.855,1438.11 \n",
       "  \"/>\n",
       "<polyline clip-path=\"url(#clip7900)\" style=\"stroke:#000000; stroke-width:4; stroke-opacity:1; fill:none\" points=\"\n",
       "  853.657,1455.01 853.657,1438.11 \n",
       "  \"/>\n",
       "<polyline clip-path=\"url(#clip7900)\" style=\"stroke:#000000; stroke-width:4; stroke-opacity:1; fill:none\" points=\"\n",
       "  1108.93,1455.01 1108.93,1438.11 \n",
       "  \"/>\n",
       "<polyline clip-path=\"url(#clip7900)\" style=\"stroke:#000000; stroke-width:4; stroke-opacity:1; fill:none\" points=\"\n",
       "  1364.19,1455.01 1364.19,1438.11 \n",
       "  \"/>\n",
       "<polyline clip-path=\"url(#clip7900)\" style=\"stroke:#000000; stroke-width:4; stroke-opacity:1; fill:none\" points=\"\n",
       "  1583,1455.01 1583,1438.11 \n",
       "  \"/>\n",
       "<polyline clip-path=\"url(#clip7900)\" style=\"stroke:#000000; stroke-width:4; stroke-opacity:1; fill:none\" points=\"\n",
       "  1838.26,1455.01 1838.26,1438.11 \n",
       "  \"/>\n",
       "<polyline clip-path=\"url(#clip7900)\" style=\"stroke:#000000; stroke-width:4; stroke-opacity:1; fill:none\" points=\"\n",
       "  2093.53,1455.01 2093.53,1438.11 \n",
       "  \"/>\n",
       "<polyline clip-path=\"url(#clip7900)\" style=\"stroke:#000000; stroke-width:4; stroke-opacity:1; fill:none\" points=\"\n",
       "  2312.33,1455.01 2312.33,1438.11 \n",
       "  \"/>\n",
       "<polyline clip-path=\"url(#clip7900)\" style=\"stroke:#000000; stroke-width:4; stroke-opacity:1; fill:none\" points=\"\n",
       "  2567.6,1455.01 2567.6,1438.11 \n",
       "  \"/>\n",
       "<polyline clip-path=\"url(#clip7900)\" style=\"stroke:#000000; stroke-width:4; stroke-opacity:1; fill:none\" points=\"\n",
       "  2786.41,1455.01 2786.41,1438.11 \n",
       "  \"/>\n",
       "<polyline clip-path=\"url(#clip7900)\" style=\"stroke:#000000; stroke-width:4; stroke-opacity:1; fill:none\" points=\"\n",
       "  3041.67,1455.01 3041.67,1438.11 \n",
       "  \"/>\n",
       "<polyline clip-path=\"url(#clip7900)\" style=\"stroke:#000000; stroke-width:4; stroke-opacity:1; fill:none\" points=\"\n",
       "  3296.94,1455.01 3296.94,1438.11 \n",
       "  \"/>\n",
       "<polyline clip-path=\"url(#clip7900)\" style=\"stroke:#000000; stroke-width:4; stroke-opacity:1; fill:none\" points=\"\n",
       "  3515.74,1455.01 3515.74,1438.11 \n",
       "  \"/>\n",
       "<polyline clip-path=\"url(#clip7900)\" style=\"stroke:#000000; stroke-width:4; stroke-opacity:1; fill:none\" points=\"\n",
       "  3771.01,1455.01 3771.01,1438.11 \n",
       "  \"/>\n",
       "<polyline clip-path=\"url(#clip7900)\" style=\"stroke:#000000; stroke-width:4; stroke-opacity:1; fill:none\" points=\"\n",
       "  277.844,1286.73 320.982,1286.73 \n",
       "  \"/>\n",
       "<polyline clip-path=\"url(#clip7900)\" style=\"stroke:#000000; stroke-width:4; stroke-opacity:1; fill:none\" points=\"\n",
       "  277.844,930.966 320.982,930.966 \n",
       "  \"/>\n",
       "<polyline clip-path=\"url(#clip7900)\" style=\"stroke:#000000; stroke-width:4; stroke-opacity:1; fill:none\" points=\"\n",
       "  277.844,575.199 320.982,575.199 \n",
       "  \"/>\n",
       "<polyline clip-path=\"url(#clip7900)\" style=\"stroke:#000000; stroke-width:4; stroke-opacity:1; fill:none\" points=\"\n",
       "  277.844,219.432 320.982,219.432 \n",
       "  \"/>\n",
       "<path clip-path=\"url(#clip7900)\" d=\"M 0 0 M277.504 1482.65 L277.504 1487.21 Q274.842 1485.94 272.48 1485.32 Q270.119 1484.69 267.92 1484.69 Q264.101 1484.69 262.018 1486.17 Q259.957 1487.65 259.957 1490.38 Q259.957 1492.68 261.323 1493.86 Q262.712 1495.01 266.555 1495.73 L269.379 1496.31 Q274.61 1497.31 277.087 1499.83 Q279.587 1502.33 279.587 1506.54 Q279.587 1511.56 276.207 1514.16 Q272.851 1516.75 266.346 1516.75 Q263.892 1516.75 261.115 1516.19 Q258.36 1515.64 255.397 1514.55 L255.397 1509.74 Q258.244 1511.33 260.976 1512.14 Q263.707 1512.95 266.346 1512.95 Q270.351 1512.95 272.527 1511.38 Q274.703 1509.81 274.703 1506.89 Q274.703 1504.34 273.129 1502.91 Q271.578 1501.47 268.013 1500.75 L265.166 1500.2 Q259.934 1499.16 257.596 1496.94 Q255.258 1494.71 255.258 1490.75 Q255.258 1486.17 258.476 1483.53 Q261.717 1480.89 267.388 1480.89 Q269.818 1480.89 272.342 1481.33 Q274.865 1481.77 277.504 1482.65 Z\" fill=\"#000000\" fill-rule=\"evenodd\" fill-opacity=\"1\" /><path clip-path=\"url(#clip7900)\" d=\"M 0 0 M306.23 1502.05 L306.23 1504.13 L286.647 1504.13 Q286.925 1508.53 289.286 1510.85 Q291.67 1513.14 295.906 1513.14 Q298.36 1513.14 300.652 1512.54 Q302.966 1511.94 305.235 1510.73 L305.235 1514.76 Q302.943 1515.73 300.536 1516.24 Q298.128 1516.75 295.652 1516.75 Q289.448 1516.75 285.814 1513.14 Q282.203 1509.53 282.203 1503.37 Q282.203 1497 285.628 1493.28 Q289.078 1489.53 294.911 1489.53 Q300.142 1489.53 303.175 1492.91 Q306.23 1496.26 306.23 1502.05 M301.971 1500.8 Q301.925 1497.31 300.003 1495.22 Q298.105 1493.14 294.957 1493.14 Q291.392 1493.14 289.24 1495.15 Q287.11 1497.17 286.786 1500.82 L301.971 1500.8 Z\" fill=\"#000000\" fill-rule=\"evenodd\" fill-opacity=\"1\" /><path clip-path=\"url(#clip7900)\" d=\"M 0 0 M314.818 1512.19 L314.818 1525.94 L310.536 1525.94 L310.536 1490.15 L314.818 1490.15 L314.818 1494.09 Q316.161 1491.77 318.198 1490.66 Q320.258 1489.53 323.105 1489.53 Q327.827 1489.53 330.767 1493.28 Q333.73 1497.03 333.73 1503.14 Q333.73 1509.25 330.767 1513 Q327.827 1516.75 323.105 1516.75 Q320.258 1516.75 318.198 1515.64 Q316.161 1514.5 314.818 1512.19 M329.309 1503.14 Q329.309 1498.44 327.364 1495.78 Q325.443 1493.09 322.063 1493.09 Q318.684 1493.09 316.739 1495.78 Q314.818 1498.44 314.818 1503.14 Q314.818 1507.84 316.739 1510.52 Q318.684 1513.19 322.063 1513.19 Q325.443 1513.19 327.364 1510.52 Q329.309 1507.84 329.309 1503.14 Z\" fill=\"#000000\" fill-rule=\"evenodd\" fill-opacity=\"1\" /><path clip-path=\"url(#clip7900)\" d=\"M 0 0 M338.8 1510.2 L343.684 1510.2 L343.684 1516.08 L338.8 1516.08 L338.8 1510.2 Z\" fill=\"#000000\" fill-rule=\"evenodd\" fill-opacity=\"1\" /><path clip-path=\"url(#clip7900)\" d=\"M 0 0 M364.633 1512.14 L372.272 1512.14 L372.272 1485.78 L363.961 1487.44 L363.961 1483.19 L372.225 1481.52 L376.901 1481.52 L376.901 1512.14 L384.54 1512.14 L384.54 1516.08 L364.633 1516.08 L364.633 1512.14 Z\" fill=\"#000000\" fill-rule=\"evenodd\" fill-opacity=\"1\" /><path clip-path=\"url(#clip7900)\" d=\"M 0 0 M403.776 1497.44 Q407.132 1498.16 409.007 1500.43 Q410.906 1502.7 410.906 1506.03 Q410.906 1511.15 407.387 1513.95 Q403.869 1516.75 397.387 1516.75 Q395.211 1516.75 392.896 1516.31 Q390.605 1515.89 388.151 1515.04 L388.151 1510.52 Q390.096 1511.66 392.41 1512.24 Q394.725 1512.81 397.248 1512.81 Q401.646 1512.81 403.938 1511.08 Q406.253 1509.34 406.253 1506.03 Q406.253 1502.98 404.1 1501.26 Q401.97 1499.53 398.151 1499.53 L394.123 1499.53 L394.123 1495.69 L398.336 1495.69 Q401.785 1495.69 403.614 1494.32 Q405.443 1492.93 405.443 1490.34 Q405.443 1487.68 403.545 1486.26 Q401.67 1484.83 398.151 1484.83 Q396.23 1484.83 394.031 1485.25 Q391.832 1485.66 389.193 1486.54 L389.193 1482.38 Q391.855 1481.63 394.17 1481.26 Q396.508 1480.89 398.568 1480.89 Q403.892 1480.89 406.994 1483.32 Q410.095 1485.73 410.095 1489.85 Q410.095 1492.72 408.452 1494.71 Q406.808 1496.68 403.776 1497.44 Z\" fill=\"#000000\" fill-rule=\"evenodd\" fill-opacity=\"1\" /><path clip-path=\"url(#clip7900)\" d=\"M 0 0 M416.461 1510.2 L421.345 1510.2 L421.345 1514.18 L417.549 1521.59 L414.563 1521.59 L416.461 1514.18 L416.461 1510.2 Z\" fill=\"#000000\" fill-rule=\"evenodd\" fill-opacity=\"1\" /><path clip-path=\"url(#clip7900)\" d=\"M 0 0 M445.512 1512.14 L461.831 1512.14 L461.831 1516.08 L439.887 1516.08 L439.887 1512.14 Q442.549 1509.39 447.132 1504.76 Q451.739 1500.11 452.919 1498.76 Q455.165 1496.24 456.044 1494.5 Q456.947 1492.75 456.947 1491.06 Q456.947 1488.3 455.003 1486.57 Q453.081 1484.83 449.979 1484.83 Q447.78 1484.83 445.327 1485.59 Q442.896 1486.36 440.118 1487.91 L440.118 1483.19 Q442.942 1482.05 445.396 1481.47 Q447.85 1480.89 449.887 1480.89 Q455.257 1480.89 458.452 1483.58 Q461.646 1486.26 461.646 1490.75 Q461.646 1492.88 460.836 1494.81 Q460.049 1496.7 457.942 1499.3 Q457.364 1499.97 454.262 1503.19 Q451.16 1506.38 445.512 1512.14 Z\" fill=\"#000000\" fill-rule=\"evenodd\" fill-opacity=\"1\" /><path clip-path=\"url(#clip7900)\" d=\"M 0 0 M476.901 1484.6 Q473.29 1484.6 471.461 1488.16 Q469.655 1491.7 469.655 1498.83 Q469.655 1505.94 471.461 1509.5 Q473.29 1513.05 476.901 1513.05 Q480.535 1513.05 482.34 1509.5 Q484.169 1505.94 484.169 1498.83 Q484.169 1491.7 482.34 1488.16 Q480.535 1484.6 476.901 1484.6 M476.901 1480.89 Q482.711 1480.89 485.766 1485.5 Q488.845 1490.08 488.845 1498.83 Q488.845 1507.56 485.766 1512.17 Q482.711 1516.75 476.901 1516.75 Q471.09 1516.75 468.012 1512.17 Q464.956 1507.56 464.956 1498.83 Q464.956 1490.08 468.012 1485.5 Q471.09 1480.89 476.901 1480.89 Z\" fill=\"#000000\" fill-rule=\"evenodd\" fill-opacity=\"1\" /><path clip-path=\"url(#clip7900)\" d=\"M 0 0 M532.633 1482.65 L532.633 1487.21 Q529.971 1485.94 527.61 1485.32 Q525.249 1484.69 523.05 1484.69 Q519.231 1484.69 517.147 1486.17 Q515.087 1487.65 515.087 1490.38 Q515.087 1492.68 516.453 1493.86 Q517.842 1495.01 521.684 1495.73 L524.508 1496.31 Q529.74 1497.31 532.217 1499.83 Q534.717 1502.33 534.717 1506.54 Q534.717 1511.56 531.337 1514.16 Q527.981 1516.75 521.476 1516.75 Q519.022 1516.75 516.245 1516.19 Q513.49 1515.64 510.527 1514.55 L510.527 1509.74 Q513.374 1511.33 516.106 1512.14 Q518.837 1512.95 521.476 1512.95 Q525.481 1512.95 527.657 1511.38 Q529.832 1509.81 529.832 1506.89 Q529.832 1504.34 528.258 1502.91 Q526.707 1501.47 523.143 1500.75 L520.295 1500.2 Q515.064 1499.16 512.726 1496.94 Q510.388 1494.71 510.388 1490.75 Q510.388 1486.17 513.606 1483.53 Q516.846 1480.89 522.518 1480.89 Q524.948 1480.89 527.471 1481.33 Q529.994 1481.77 532.633 1482.65 Z\" fill=\"#000000\" fill-rule=\"evenodd\" fill-opacity=\"1\" /><path clip-path=\"url(#clip7900)\" d=\"M 0 0 M561.36 1502.05 L561.36 1504.13 L541.777 1504.13 Q542.055 1508.53 544.416 1510.85 Q546.8 1513.14 551.036 1513.14 Q553.49 1513.14 555.781 1512.54 Q558.096 1511.94 560.365 1510.73 L560.365 1514.76 Q558.073 1515.73 555.666 1516.24 Q553.258 1516.75 550.781 1516.75 Q544.578 1516.75 540.943 1513.14 Q537.332 1509.53 537.332 1503.37 Q537.332 1497 540.758 1493.28 Q544.207 1489.53 550.041 1489.53 Q555.272 1489.53 558.304 1492.91 Q561.36 1496.26 561.36 1502.05 M557.101 1500.8 Q557.054 1497.31 555.133 1495.22 Q553.235 1493.14 550.087 1493.14 Q546.522 1493.14 544.369 1495.15 Q542.24 1497.17 541.916 1500.82 L557.101 1500.8 Z\" fill=\"#000000\" fill-rule=\"evenodd\" fill-opacity=\"1\" /><path clip-path=\"url(#clip7900)\" d=\"M 0 0 M569.948 1512.19 L569.948 1525.94 L565.666 1525.94 L565.666 1490.15 L569.948 1490.15 L569.948 1494.09 Q571.291 1491.77 573.328 1490.66 Q575.388 1489.53 578.235 1489.53 Q582.957 1489.53 585.897 1493.28 Q588.86 1497.03 588.86 1503.14 Q588.86 1509.25 585.897 1513 Q582.957 1516.75 578.235 1516.75 Q575.388 1516.75 573.328 1515.64 Q571.291 1514.5 569.948 1512.19 M584.439 1503.14 Q584.439 1498.44 582.494 1495.78 Q580.573 1493.09 577.193 1493.09 Q573.814 1493.09 571.869 1495.78 Q569.948 1498.44 569.948 1503.14 Q569.948 1507.84 571.869 1510.52 Q573.814 1513.19 577.193 1513.19 Q580.573 1513.19 582.494 1510.52 Q584.439 1507.84 584.439 1503.14 Z\" fill=\"#000000\" fill-rule=\"evenodd\" fill-opacity=\"1\" /><path clip-path=\"url(#clip7900)\" d=\"M 0 0 M593.929 1510.2 L598.814 1510.2 L598.814 1516.08 L593.929 1516.08 L593.929 1510.2 Z\" fill=\"#000000\" fill-rule=\"evenodd\" fill-opacity=\"1\" /><path clip-path=\"url(#clip7900)\" d=\"M 0 0 M622.98 1512.14 L639.299 1512.14 L639.299 1516.08 L617.355 1516.08 L617.355 1512.14 Q620.017 1509.39 624.6 1504.76 Q629.207 1500.11 630.387 1498.76 Q632.633 1496.24 633.512 1494.5 Q634.415 1492.75 634.415 1491.06 Q634.415 1488.3 632.471 1486.57 Q630.549 1484.83 627.448 1484.83 Q625.249 1484.83 622.795 1485.59 Q620.364 1486.36 617.587 1487.91 L617.587 1483.19 Q620.411 1482.05 622.864 1481.47 Q625.318 1480.89 627.355 1480.89 Q632.725 1480.89 635.92 1483.58 Q639.114 1486.26 639.114 1490.75 Q639.114 1492.88 638.304 1494.81 Q637.517 1496.7 635.411 1499.3 Q634.832 1499.97 631.73 1503.19 Q628.628 1506.38 622.98 1512.14 Z\" fill=\"#000000\" fill-rule=\"evenodd\" fill-opacity=\"1\" /><path clip-path=\"url(#clip7900)\" d=\"M 0 0 M654.369 1484.6 Q650.758 1484.6 648.929 1488.16 Q647.123 1491.7 647.123 1498.83 Q647.123 1505.94 648.929 1509.5 Q650.758 1513.05 654.369 1513.05 Q658.003 1513.05 659.809 1509.5 Q661.637 1505.94 661.637 1498.83 Q661.637 1491.7 659.809 1488.16 Q658.003 1484.6 654.369 1484.6 M654.369 1480.89 Q660.179 1480.89 663.234 1485.5 Q666.313 1490.08 666.313 1498.83 Q666.313 1507.56 663.234 1512.17 Q660.179 1516.75 654.369 1516.75 Q648.559 1516.75 645.48 1512.17 Q642.424 1507.56 642.424 1498.83 Q642.424 1490.08 645.48 1485.5 Q648.559 1480.89 654.369 1480.89 Z\" fill=\"#000000\" fill-rule=\"evenodd\" fill-opacity=\"1\" /><path clip-path=\"url(#clip7900)\" d=\"M 0 0 M671.869 1510.2 L676.753 1510.2 L676.753 1514.18 L672.957 1521.59 L669.971 1521.59 L671.869 1514.18 L671.869 1510.2 Z\" fill=\"#000000\" fill-rule=\"evenodd\" fill-opacity=\"1\" /><path clip-path=\"url(#clip7900)\" d=\"M 0 0 M700.919 1512.14 L717.239 1512.14 L717.239 1516.08 L695.294 1516.08 L695.294 1512.14 Q697.957 1509.39 702.54 1504.76 Q707.146 1500.11 708.327 1498.76 Q710.572 1496.24 711.452 1494.5 Q712.355 1492.75 712.355 1491.06 Q712.355 1488.3 710.41 1486.57 Q708.489 1484.83 705.387 1484.83 Q703.188 1484.83 700.734 1485.59 Q698.304 1486.36 695.526 1487.91 L695.526 1483.19 Q698.35 1482.05 700.804 1481.47 Q703.257 1480.89 705.294 1480.89 Q710.665 1480.89 713.859 1483.58 Q717.054 1486.26 717.054 1490.75 Q717.054 1492.88 716.243 1494.81 Q715.456 1496.7 713.35 1499.3 Q712.771 1499.97 709.669 1503.19 Q706.568 1506.38 700.919 1512.14 Z\" fill=\"#000000\" fill-rule=\"evenodd\" fill-opacity=\"1\" /><path clip-path=\"url(#clip7900)\" d=\"M 0 0 M732.308 1484.6 Q728.697 1484.6 726.868 1488.16 Q725.063 1491.7 725.063 1498.83 Q725.063 1505.94 726.868 1509.5 Q728.697 1513.05 732.308 1513.05 Q735.942 1513.05 737.748 1509.5 Q739.577 1505.94 739.577 1498.83 Q739.577 1491.7 737.748 1488.16 Q735.942 1484.6 732.308 1484.6 M732.308 1480.89 Q738.118 1480.89 741.174 1485.5 Q744.253 1490.08 744.253 1498.83 Q744.253 1507.56 741.174 1512.17 Q738.118 1516.75 732.308 1516.75 Q726.498 1516.75 723.419 1512.17 Q720.364 1507.56 720.364 1498.83 Q720.364 1490.08 723.419 1485.5 Q726.498 1480.89 732.308 1480.89 Z\" fill=\"#000000\" fill-rule=\"evenodd\" fill-opacity=\"1\" /><path clip-path=\"url(#clip7900)\" d=\"M 0 0 M751.354 1482.65 L751.354 1487.21 Q748.692 1485.94 746.331 1485.32 Q743.97 1484.69 741.771 1484.69 Q737.951 1484.69 735.868 1486.17 Q733.808 1487.65 733.808 1490.38 Q733.808 1492.68 735.174 1493.86 Q736.562 1495.01 740.405 1495.73 L743.229 1496.31 Q748.461 1497.31 750.937 1499.83 Q753.437 1502.33 753.437 1506.54 Q753.437 1511.56 750.058 1514.16 Q746.701 1516.75 740.197 1516.75 Q737.743 1516.75 734.965 1516.19 Q732.211 1515.64 729.248 1514.55 L729.248 1509.74 Q732.095 1511.33 734.826 1512.14 Q737.558 1512.95 740.197 1512.95 Q744.201 1512.95 746.377 1511.38 Q748.553 1509.81 748.553 1506.89 Q748.553 1504.34 746.979 1502.91 Q745.428 1501.47 741.863 1500.75 L739.016 1500.2 Q733.785 1499.16 731.447 1496.94 Q729.109 1494.71 729.109 1490.75 Q729.109 1486.17 732.326 1483.53 Q735.567 1480.89 741.238 1480.89 Q743.669 1480.89 746.192 1481.33 Q748.715 1481.77 751.354 1482.65 Z\" fill=\"#000000\" fill-rule=\"evenodd\" fill-opacity=\"1\" /><path clip-path=\"url(#clip7900)\" d=\"M 0 0 M780.081 1502.05 L780.081 1504.13 L760.498 1504.13 Q760.775 1508.53 763.136 1510.85 Q765.521 1513.14 769.757 1513.14 Q772.21 1513.14 774.502 1512.54 Q776.817 1511.94 779.085 1510.73 L779.085 1514.76 Q776.794 1515.73 774.386 1516.24 Q771.979 1516.75 769.502 1516.75 Q763.298 1516.75 759.664 1513.14 Q756.053 1509.53 756.053 1503.37 Q756.053 1497 759.479 1493.28 Q762.928 1489.53 768.761 1489.53 Q773.993 1489.53 777.025 1492.91 Q780.081 1496.26 780.081 1502.05 M775.822 1500.8 Q775.775 1497.31 773.854 1495.22 Q771.956 1493.14 768.808 1493.14 Q765.243 1493.14 763.09 1495.15 Q760.96 1497.17 760.636 1500.82 L775.822 1500.8 Z\" fill=\"#000000\" fill-rule=\"evenodd\" fill-opacity=\"1\" /><path clip-path=\"url(#clip7900)\" d=\"M 0 0 M788.669 1512.19 L788.669 1525.94 L784.386 1525.94 L784.386 1490.15 L788.669 1490.15 L788.669 1494.09 Q790.011 1491.77 792.048 1490.66 Q794.108 1489.53 796.956 1489.53 Q801.678 1489.53 804.618 1493.28 Q807.581 1497.03 807.581 1503.14 Q807.581 1509.25 804.618 1513 Q801.678 1516.75 796.956 1516.75 Q794.108 1516.75 792.048 1515.64 Q790.011 1514.5 788.669 1512.19 M803.159 1503.14 Q803.159 1498.44 801.215 1495.78 Q799.294 1493.09 795.914 1493.09 Q792.534 1493.09 790.59 1495.78 Q788.669 1498.44 788.669 1503.14 Q788.669 1507.84 790.59 1510.52 Q792.534 1513.19 795.914 1513.19 Q799.294 1513.19 801.215 1510.52 Q803.159 1507.84 803.159 1503.14 Z\" fill=\"#000000\" fill-rule=\"evenodd\" fill-opacity=\"1\" /><path clip-path=\"url(#clip7900)\" d=\"M 0 0 M812.65 1510.2 L817.534 1510.2 L817.534 1516.08 L812.65 1516.08 L812.65 1510.2 Z\" fill=\"#000000\" fill-rule=\"evenodd\" fill-opacity=\"1\" /><path clip-path=\"url(#clip7900)\" d=\"M 0 0 M841.701 1512.14 L858.02 1512.14 L858.02 1516.08 L836.076 1516.08 L836.076 1512.14 Q838.738 1509.39 843.321 1504.76 Q847.928 1500.11 849.108 1498.76 Q851.354 1496.24 852.233 1494.5 Q853.136 1492.75 853.136 1491.06 Q853.136 1488.3 851.191 1486.57 Q849.27 1484.83 846.168 1484.83 Q843.969 1484.83 841.516 1485.59 Q839.085 1486.36 836.307 1487.91 L836.307 1483.19 Q839.131 1482.05 841.585 1481.47 Q844.039 1480.89 846.076 1480.89 Q851.446 1480.89 854.641 1483.58 Q857.835 1486.26 857.835 1490.75 Q857.835 1492.88 857.025 1494.81 Q856.238 1496.7 854.131 1499.3 Q853.553 1499.97 850.451 1503.19 Q847.349 1506.38 841.701 1512.14 Z\" fill=\"#000000\" fill-rule=\"evenodd\" fill-opacity=\"1\" /><path clip-path=\"url(#clip7900)\" d=\"M 0 0 M873.668 1496.94 Q870.52 1496.94 868.668 1499.09 Q866.84 1501.24 866.84 1504.99 Q866.84 1508.72 868.668 1510.89 Q870.52 1513.05 873.668 1513.05 Q876.816 1513.05 878.645 1510.89 Q880.497 1508.72 880.497 1504.99 Q880.497 1501.24 878.645 1499.09 Q876.816 1496.94 873.668 1496.94 M882.951 1482.28 L882.951 1486.54 Q881.191 1485.71 879.386 1485.27 Q877.603 1484.83 875.844 1484.83 Q871.215 1484.83 868.761 1487.95 Q866.33 1491.08 865.983 1497.4 Q867.349 1495.38 869.409 1494.32 Q871.469 1493.23 873.946 1493.23 Q879.154 1493.23 882.164 1496.4 Q885.196 1499.55 885.196 1504.99 Q885.196 1510.31 882.048 1513.53 Q878.9 1516.75 873.668 1516.75 Q867.673 1516.75 864.502 1512.17 Q861.33 1507.56 861.33 1498.83 Q861.33 1490.64 865.219 1485.78 Q869.108 1480.89 875.659 1480.89 Q877.418 1480.89 879.201 1481.24 Q881.006 1481.59 882.951 1482.28 Z\" fill=\"#000000\" fill-rule=\"evenodd\" fill-opacity=\"1\" /><path clip-path=\"url(#clip7900)\" d=\"M 0 0 M890.751 1510.2 L895.636 1510.2 L895.636 1514.18 L891.839 1521.59 L888.853 1521.59 L890.751 1514.18 L890.751 1510.2 Z\" fill=\"#000000\" fill-rule=\"evenodd\" fill-opacity=\"1\" /><path clip-path=\"url(#clip7900)\" d=\"M 0 0 M919.802 1512.14 L936.122 1512.14 L936.122 1516.08 L914.177 1516.08 L914.177 1512.14 Q916.839 1509.39 921.423 1504.76 Q926.029 1500.11 927.21 1498.76 Q929.455 1496.24 930.335 1494.5 Q931.237 1492.75 931.237 1491.06 Q931.237 1488.3 929.293 1486.57 Q927.372 1484.83 924.27 1484.83 Q922.071 1484.83 919.617 1485.59 Q917.186 1486.36 914.409 1487.91 L914.409 1483.19 Q917.233 1482.05 919.686 1481.47 Q922.14 1480.89 924.177 1480.89 Q929.548 1480.89 932.742 1483.58 Q935.936 1486.26 935.936 1490.75 Q935.936 1492.88 935.126 1494.81 Q934.339 1496.7 932.233 1499.3 Q931.654 1499.97 928.552 1503.19 Q925.45 1506.38 919.802 1512.14 Z\" fill=\"#000000\" fill-rule=\"evenodd\" fill-opacity=\"1\" /><path clip-path=\"url(#clip7900)\" d=\"M 0 0 M951.191 1484.6 Q947.58 1484.6 945.751 1488.16 Q943.946 1491.7 943.946 1498.83 Q943.946 1505.94 945.751 1509.5 Q947.58 1513.05 951.191 1513.05 Q954.825 1513.05 956.631 1509.5 Q958.459 1505.94 958.459 1498.83 Q958.459 1491.7 956.631 1488.16 Q954.825 1484.6 951.191 1484.6 M951.191 1480.89 Q957.001 1480.89 960.057 1485.5 Q963.135 1490.08 963.135 1498.83 Q963.135 1507.56 960.057 1512.17 Q957.001 1516.75 951.191 1516.75 Q945.381 1516.75 942.302 1512.17 Q939.247 1507.56 939.247 1498.83 Q939.247 1490.08 942.302 1485.5 Q945.381 1480.89 951.191 1480.89 Z\" fill=\"#000000\" fill-rule=\"evenodd\" fill-opacity=\"1\" /><path clip-path=\"url(#clip7900)\" d=\"M 0 0 M1016.46 1484.69 Q1011.37 1484.69 1008.36 1488.49 Q1005.37 1492.28 1005.37 1498.83 Q1005.37 1505.36 1008.36 1509.16 Q1011.37 1512.95 1016.46 1512.95 Q1021.55 1512.95 1024.52 1509.16 Q1027.5 1505.36 1027.5 1498.83 Q1027.5 1492.28 1024.52 1488.49 Q1021.55 1484.69 1016.46 1484.69 M1016.46 1480.89 Q1023.73 1480.89 1028.08 1485.78 Q1032.43 1490.64 1032.43 1498.83 Q1032.43 1507 1028.08 1511.89 Q1023.73 1516.75 1016.46 1516.75 Q1009.17 1516.75 1004.79 1511.89 Q1000.44 1507.03 1000.44 1498.83 Q1000.44 1490.64 1004.79 1485.78 Q1009.17 1480.89 1016.46 1480.89 Z\" fill=\"#000000\" fill-rule=\"evenodd\" fill-opacity=\"1\" /><path clip-path=\"url(#clip7900)\" d=\"M 0 0 M1055.56 1491.15 L1055.56 1495.13 Q1053.75 1494.13 1051.92 1493.65 Q1050.12 1493.14 1048.27 1493.14 Q1044.12 1493.14 1041.83 1495.78 Q1039.54 1498.39 1039.54 1503.14 Q1039.54 1507.88 1041.83 1510.52 Q1044.12 1513.14 1048.27 1513.14 Q1050.12 1513.14 1051.92 1512.65 Q1053.75 1512.14 1055.56 1511.15 L1055.56 1515.08 Q1053.78 1515.92 1051.85 1516.33 Q1049.96 1516.75 1047.8 1516.75 Q1041.95 1516.75 1038.5 1513.07 Q1035.05 1509.39 1035.05 1503.14 Q1035.05 1496.8 1038.52 1493.16 Q1042.02 1489.53 1048.08 1489.53 Q1050.05 1489.53 1051.92 1489.94 Q1053.8 1490.34 1055.56 1491.15 Z\" fill=\"#000000\" fill-rule=\"evenodd\" fill-opacity=\"1\" /><path clip-path=\"url(#clip7900)\" d=\"M 0 0 M1064.24 1482.79 L1064.24 1490.15 L1073.01 1490.15 L1073.01 1493.46 L1064.24 1493.46 L1064.24 1507.54 Q1064.24 1510.71 1065.09 1511.61 Q1065.97 1512.51 1068.64 1512.51 L1073.01 1512.51 L1073.01 1516.08 L1068.64 1516.08 Q1063.71 1516.08 1061.83 1514.25 Q1059.96 1512.4 1059.96 1507.54 L1059.96 1493.46 L1056.83 1493.46 L1056.83 1490.15 L1059.96 1490.15 L1059.96 1482.79 L1064.24 1482.79 Z\" fill=\"#000000\" fill-rule=\"evenodd\" fill-opacity=\"1\" /><path clip-path=\"url(#clip7900)\" d=\"M 0 0 M1078.08 1510.2 L1082.96 1510.2 L1082.96 1516.08 L1078.08 1516.08 L1078.08 1510.2 Z\" fill=\"#000000\" fill-rule=\"evenodd\" fill-opacity=\"1\" /><path clip-path=\"url(#clip7900)\" d=\"M 0 0 M1117.27 1497.44 Q1120.63 1498.16 1122.5 1500.43 Q1124.4 1502.7 1124.4 1506.03 Q1124.4 1511.15 1120.88 1513.95 Q1117.36 1516.75 1110.88 1516.75 Q1108.71 1516.75 1106.39 1516.31 Q1104.1 1515.89 1101.65 1515.04 L1101.65 1510.52 Q1103.59 1511.66 1105.9 1512.24 Q1108.22 1512.81 1110.74 1512.81 Q1115.14 1512.81 1117.43 1511.08 Q1119.75 1509.34 1119.75 1506.03 Q1119.75 1502.98 1117.59 1501.26 Q1115.46 1499.53 1111.65 1499.53 L1107.62 1499.53 L1107.62 1495.69 L1111.83 1495.69 Q1115.28 1495.69 1117.11 1494.32 Q1118.94 1492.93 1118.94 1490.34 Q1118.94 1487.68 1117.04 1486.26 Q1115.16 1484.83 1111.65 1484.83 Q1109.72 1484.83 1107.52 1485.25 Q1105.33 1485.66 1102.69 1486.54 L1102.69 1482.38 Q1105.35 1481.63 1107.66 1481.26 Q1110 1480.89 1112.06 1480.89 Q1117.39 1480.89 1120.49 1483.32 Q1123.59 1485.73 1123.59 1489.85 Q1123.59 1492.72 1121.95 1494.71 Q1120.3 1496.68 1117.27 1497.44 Z\" fill=\"#000000\" fill-rule=\"evenodd\" fill-opacity=\"1\" /><path clip-path=\"url(#clip7900)\" d=\"M 0 0 M1129.96 1510.2 L1134.84 1510.2 L1134.84 1514.18 L1131.04 1521.59 L1128.06 1521.59 L1129.96 1514.18 L1129.96 1510.2 Z\" fill=\"#000000\" fill-rule=\"evenodd\" fill-opacity=\"1\" /><path clip-path=\"url(#clip7900)\" d=\"M 0 0 M1159.01 1512.14 L1175.33 1512.14 L1175.33 1516.08 L1153.38 1516.08 L1153.38 1512.14 Q1156.04 1509.39 1160.63 1504.76 Q1165.23 1500.11 1166.41 1498.76 Q1168.66 1496.24 1169.54 1494.5 Q1170.44 1492.75 1170.44 1491.06 Q1170.44 1488.3 1168.5 1486.57 Q1166.58 1484.83 1163.47 1484.83 Q1161.27 1484.83 1158.82 1485.59 Q1156.39 1486.36 1153.61 1487.91 L1153.61 1483.19 Q1156.44 1482.05 1158.89 1481.47 Q1161.34 1480.89 1163.38 1480.89 Q1168.75 1480.89 1171.95 1483.58 Q1175.14 1486.26 1175.14 1490.75 Q1175.14 1492.88 1174.33 1494.81 Q1173.54 1496.7 1171.44 1499.3 Q1170.86 1499.97 1167.76 1503.19 Q1164.65 1506.38 1159.01 1512.14 Z\" fill=\"#000000\" fill-rule=\"evenodd\" fill-opacity=\"1\" /><path clip-path=\"url(#clip7900)\" d=\"M 0 0 M1190.39 1484.6 Q1186.78 1484.6 1184.96 1488.16 Q1183.15 1491.7 1183.15 1498.83 Q1183.15 1505.94 1184.96 1509.5 Q1186.78 1513.05 1190.39 1513.05 Q1194.03 1513.05 1195.83 1509.5 Q1197.66 1505.94 1197.66 1498.83 Q1197.66 1491.7 1195.83 1488.16 Q1194.03 1484.6 1190.39 1484.6 M1190.39 1480.89 Q1196.21 1480.89 1199.26 1485.5 Q1202.34 1490.08 1202.34 1498.83 Q1202.34 1507.56 1199.26 1512.17 Q1196.21 1516.75 1190.39 1516.75 Q1184.58 1516.75 1181.51 1512.17 Q1178.45 1507.56 1178.45 1498.83 Q1178.45 1490.08 1181.51 1485.5 Q1184.58 1480.89 1190.39 1480.89 Z\" fill=\"#000000\" fill-rule=\"evenodd\" fill-opacity=\"1\" /><path clip-path=\"url(#clip7900)\" d=\"M 0 0 M1258.51 1484.69 Q1253.42 1484.69 1250.41 1488.49 Q1247.42 1492.28 1247.42 1498.83 Q1247.42 1505.36 1250.41 1509.16 Q1253.42 1512.95 1258.51 1512.95 Q1263.6 1512.95 1266.57 1509.16 Q1269.55 1505.36 1269.55 1498.83 Q1269.55 1492.28 1266.57 1488.49 Q1263.6 1484.69 1258.51 1484.69 M1258.51 1480.89 Q1265.78 1480.89 1270.13 1485.78 Q1274.48 1490.64 1274.48 1498.83 Q1274.48 1507 1270.13 1511.89 Q1265.78 1516.75 1258.51 1516.75 Q1251.22 1516.75 1246.85 1511.89 Q1242.49 1507.03 1242.49 1498.83 Q1242.49 1490.64 1246.85 1485.78 Q1251.22 1480.89 1258.51 1480.89 Z\" fill=\"#000000\" fill-rule=\"evenodd\" fill-opacity=\"1\" /><path clip-path=\"url(#clip7900)\" d=\"M 0 0 M1297.61 1491.15 L1297.61 1495.13 Q1295.8 1494.13 1293.97 1493.65 Q1292.17 1493.14 1290.32 1493.14 Q1286.17 1493.14 1283.88 1495.78 Q1281.59 1498.39 1281.59 1503.14 Q1281.59 1507.88 1283.88 1510.52 Q1286.17 1513.14 1290.32 1513.14 Q1292.17 1513.14 1293.97 1512.65 Q1295.8 1512.14 1297.61 1511.15 L1297.61 1515.08 Q1295.83 1515.92 1293.91 1516.33 Q1292.01 1516.75 1289.85 1516.75 Q1284 1516.75 1280.55 1513.07 Q1277.1 1509.39 1277.1 1503.14 Q1277.1 1496.8 1280.57 1493.16 Q1284.07 1489.53 1290.13 1489.53 Q1292.1 1489.53 1293.97 1489.94 Q1295.85 1490.34 1297.61 1491.15 Z\" fill=\"#000000\" fill-rule=\"evenodd\" fill-opacity=\"1\" /><path clip-path=\"url(#clip7900)\" d=\"M 0 0 M1306.29 1482.79 L1306.29 1490.15 L1315.06 1490.15 L1315.06 1493.46 L1306.29 1493.46 L1306.29 1507.54 Q1306.29 1510.71 1307.15 1511.61 Q1308.03 1512.51 1310.69 1512.51 L1315.06 1512.51 L1315.06 1516.08 L1310.69 1516.08 Q1305.76 1516.08 1303.88 1514.25 Q1302.01 1512.4 1302.01 1507.54 L1302.01 1493.46 L1298.88 1493.46 L1298.88 1490.15 L1302.01 1490.15 L1302.01 1482.79 L1306.29 1482.79 Z\" fill=\"#000000\" fill-rule=\"evenodd\" fill-opacity=\"1\" /><path clip-path=\"url(#clip7900)\" d=\"M 0 0 M1320.13 1510.2 L1325.02 1510.2 L1325.02 1516.08 L1320.13 1516.08 L1320.13 1510.2 Z\" fill=\"#000000\" fill-rule=\"evenodd\" fill-opacity=\"1\" /><path clip-path=\"url(#clip7900)\" d=\"M 0 0 M1345.97 1512.14 L1353.6 1512.14 L1353.6 1485.78 L1345.29 1487.44 L1345.29 1483.19 L1353.56 1481.52 L1358.23 1481.52 L1358.23 1512.14 L1365.87 1512.14 L1365.87 1516.08 L1345.97 1516.08 L1345.97 1512.14 Z\" fill=\"#000000\" fill-rule=\"evenodd\" fill-opacity=\"1\" /><path clip-path=\"url(#clip7900)\" d=\"M 0 0 M1380.94 1484.6 Q1377.33 1484.6 1375.5 1488.16 Q1373.7 1491.7 1373.7 1498.83 Q1373.7 1505.94 1375.5 1509.5 Q1377.33 1513.05 1380.94 1513.05 Q1384.58 1513.05 1386.38 1509.5 Q1388.21 1505.94 1388.21 1498.83 Q1388.21 1491.7 1386.38 1488.16 Q1384.58 1484.6 1380.94 1484.6 M1380.94 1480.89 Q1386.75 1480.89 1389.81 1485.5 Q1392.89 1490.08 1392.89 1498.83 Q1392.89 1507.56 1389.81 1512.17 Q1386.75 1516.75 1380.94 1516.75 Q1375.13 1516.75 1372.05 1512.17 Q1369 1507.56 1369 1498.83 Q1369 1490.08 1372.05 1485.5 Q1375.13 1480.89 1380.94 1480.89 Z\" fill=\"#000000\" fill-rule=\"evenodd\" fill-opacity=\"1\" /><path clip-path=\"url(#clip7900)\" d=\"M 0 0 M1398.44 1510.2 L1403.33 1510.2 L1403.33 1514.18 L1399.53 1521.59 L1396.54 1521.59 L1398.44 1514.18 L1398.44 1510.2 Z\" fill=\"#000000\" fill-rule=\"evenodd\" fill-opacity=\"1\" /><path clip-path=\"url(#clip7900)\" d=\"M 0 0 M1427.49 1512.14 L1443.81 1512.14 L1443.81 1516.08 L1421.87 1516.08 L1421.87 1512.14 Q1424.53 1509.39 1429.11 1504.76 Q1433.72 1500.11 1434.9 1498.76 Q1437.15 1496.24 1438.02 1494.5 Q1438.93 1492.75 1438.93 1491.06 Q1438.93 1488.3 1436.98 1486.57 Q1435.06 1484.83 1431.96 1484.83 Q1429.76 1484.83 1427.31 1485.59 Q1424.88 1486.36 1422.1 1487.91 L1422.1 1483.19 Q1424.92 1482.05 1427.38 1481.47 Q1429.83 1480.89 1431.87 1480.89 Q1437.24 1480.89 1440.43 1483.58 Q1443.63 1486.26 1443.63 1490.75 Q1443.63 1492.88 1442.82 1494.81 Q1442.03 1496.7 1439.92 1499.3 Q1439.34 1499.97 1436.24 1503.19 Q1433.14 1506.38 1427.49 1512.14 Z\" fill=\"#000000\" fill-rule=\"evenodd\" fill-opacity=\"1\" /><path clip-path=\"url(#clip7900)\" d=\"M 0 0 M1458.88 1484.6 Q1455.27 1484.6 1453.44 1488.16 Q1451.64 1491.7 1451.64 1498.83 Q1451.64 1505.94 1453.44 1509.5 Q1455.27 1513.05 1458.88 1513.05 Q1462.52 1513.05 1464.32 1509.5 Q1466.15 1505.94 1466.15 1498.83 Q1466.15 1491.7 1464.32 1488.16 Q1462.52 1484.6 1458.88 1484.6 M1458.88 1480.89 Q1464.69 1480.89 1467.75 1485.5 Q1470.83 1490.08 1470.83 1498.83 Q1470.83 1507.56 1467.75 1512.17 Q1464.69 1516.75 1458.88 1516.75 Q1453.07 1516.75 1449.99 1512.17 Q1446.94 1507.56 1446.94 1498.83 Q1446.94 1490.08 1449.99 1485.5 Q1453.07 1480.89 1458.88 1480.89 Z\" fill=\"#000000\" fill-rule=\"evenodd\" fill-opacity=\"1\" /><path clip-path=\"url(#clip7900)\" d=\"M 0 0 M1477.23 1484.69 Q1472.14 1484.69 1469.13 1488.49 Q1466.14 1492.28 1466.14 1498.83 Q1466.14 1505.36 1469.13 1509.16 Q1472.14 1512.95 1477.23 1512.95 Q1482.33 1512.95 1485.29 1509.16 Q1488.27 1505.36 1488.27 1498.83 Q1488.27 1492.28 1485.29 1488.49 Q1482.33 1484.69 1477.23 1484.69 M1477.23 1480.89 Q1484.5 1480.89 1488.85 1485.78 Q1493.2 1490.64 1493.2 1498.83 Q1493.2 1507 1488.85 1511.89 Q1484.5 1516.75 1477.23 1516.75 Q1469.94 1516.75 1465.57 1511.89 Q1461.21 1507.03 1461.21 1498.83 Q1461.21 1490.64 1465.57 1485.78 Q1469.94 1480.89 1477.23 1480.89 Z\" fill=\"#000000\" fill-rule=\"evenodd\" fill-opacity=\"1\" /><path clip-path=\"url(#clip7900)\" d=\"M 0 0 M1516.33 1491.15 L1516.33 1495.13 Q1514.52 1494.13 1512.7 1493.65 Q1510.89 1493.14 1509.04 1493.14 Q1504.89 1493.14 1502.6 1495.78 Q1500.31 1498.39 1500.31 1503.14 Q1500.31 1507.88 1502.6 1510.52 Q1504.89 1513.14 1509.04 1513.14 Q1510.89 1513.14 1512.7 1512.65 Q1514.52 1512.14 1516.33 1511.15 L1516.33 1515.08 Q1514.55 1515.92 1512.63 1516.33 Q1510.73 1516.75 1508.57 1516.75 Q1502.72 1516.75 1499.27 1513.07 Q1495.82 1509.39 1495.82 1503.14 Q1495.82 1496.8 1499.29 1493.16 Q1502.79 1489.53 1508.85 1489.53 Q1510.82 1489.53 1512.7 1489.94 Q1514.57 1490.34 1516.33 1491.15 Z\" fill=\"#000000\" fill-rule=\"evenodd\" fill-opacity=\"1\" /><path clip-path=\"url(#clip7900)\" d=\"M 0 0 M1525.01 1482.79 L1525.01 1490.15 L1533.78 1490.15 L1533.78 1493.46 L1525.01 1493.46 L1525.01 1507.54 Q1525.01 1510.71 1525.87 1511.61 Q1526.75 1512.51 1529.41 1512.51 L1533.78 1512.51 L1533.78 1516.08 L1529.41 1516.08 Q1524.48 1516.08 1522.6 1514.25 Q1520.73 1512.4 1520.73 1507.54 L1520.73 1493.46 L1517.6 1493.46 L1517.6 1490.15 L1520.73 1490.15 L1520.73 1482.79 L1525.01 1482.79 Z\" fill=\"#000000\" fill-rule=\"evenodd\" fill-opacity=\"1\" /><path clip-path=\"url(#clip7900)\" d=\"M 0 0 M1538.85 1510.2 L1543.74 1510.2 L1543.74 1516.08 L1538.85 1516.08 L1538.85 1510.2 Z\" fill=\"#000000\" fill-rule=\"evenodd\" fill-opacity=\"1\" /><path clip-path=\"url(#clip7900)\" d=\"M 0 0 M1564.69 1512.14 L1572.32 1512.14 L1572.32 1485.78 L1564.01 1487.44 L1564.01 1483.19 L1572.28 1481.52 L1576.95 1481.52 L1576.95 1512.14 L1584.59 1512.14 L1584.59 1516.08 L1564.69 1516.08 L1564.69 1512.14 Z\" fill=\"#000000\" fill-rule=\"evenodd\" fill-opacity=\"1\" /><path clip-path=\"url(#clip7900)\" d=\"M 0 0 M1600.24 1496.94 Q1597.09 1496.94 1595.24 1499.09 Q1593.41 1501.24 1593.41 1504.99 Q1593.41 1508.72 1595.24 1510.89 Q1597.09 1513.05 1600.24 1513.05 Q1603.39 1513.05 1605.22 1510.89 Q1607.07 1508.72 1607.07 1504.99 Q1607.07 1501.24 1605.22 1499.09 Q1603.39 1496.94 1600.24 1496.94 M1609.52 1482.28 L1609.52 1486.54 Q1607.76 1485.71 1605.96 1485.27 Q1604.18 1484.83 1602.42 1484.83 Q1597.79 1484.83 1595.33 1487.95 Q1592.9 1491.08 1592.56 1497.4 Q1593.92 1495.38 1595.98 1494.32 Q1598.04 1493.23 1600.52 1493.23 Q1605.73 1493.23 1608.74 1496.4 Q1611.77 1499.55 1611.77 1504.99 Q1611.77 1510.31 1608.62 1513.53 Q1605.47 1516.75 1600.24 1516.75 Q1594.25 1516.75 1591.07 1512.17 Q1587.9 1507.56 1587.9 1498.83 Q1587.9 1490.64 1591.79 1485.78 Q1595.68 1480.89 1602.23 1480.89 Q1603.99 1480.89 1605.77 1481.24 Q1607.58 1481.59 1609.52 1482.28 Z\" fill=\"#000000\" fill-rule=\"evenodd\" fill-opacity=\"1\" /><path clip-path=\"url(#clip7900)\" d=\"M 0 0 M1617.32 1510.2 L1622.21 1510.2 L1622.21 1514.18 L1618.41 1521.59 L1615.43 1521.59 L1617.32 1514.18 L1617.32 1510.2 Z\" fill=\"#000000\" fill-rule=\"evenodd\" fill-opacity=\"1\" /><path clip-path=\"url(#clip7900)\" d=\"M 0 0 M1646.38 1512.14 L1662.69 1512.14 L1662.69 1516.08 L1640.75 1516.08 L1640.75 1512.14 Q1643.41 1509.39 1648 1504.76 Q1652.6 1500.11 1653.78 1498.76 Q1656.03 1496.24 1656.91 1494.5 Q1657.81 1492.75 1657.81 1491.06 Q1657.81 1488.3 1655.87 1486.57 Q1653.94 1484.83 1650.84 1484.83 Q1648.64 1484.83 1646.19 1485.59 Q1643.76 1486.36 1640.98 1487.91 L1640.98 1483.19 Q1643.81 1482.05 1646.26 1481.47 Q1648.71 1480.89 1650.75 1480.89 Q1656.12 1480.89 1659.31 1483.58 Q1662.51 1486.26 1662.51 1490.75 Q1662.51 1492.88 1661.7 1494.81 Q1660.91 1496.7 1658.81 1499.3 Q1658.23 1499.97 1655.13 1503.19 Q1652.02 1506.38 1646.38 1512.14 Z\" fill=\"#000000\" fill-rule=\"evenodd\" fill-opacity=\"1\" /><path clip-path=\"url(#clip7900)\" d=\"M 0 0 M1677.76 1484.6 Q1674.15 1484.6 1672.32 1488.16 Q1670.52 1491.7 1670.52 1498.83 Q1670.52 1505.94 1672.32 1509.5 Q1674.15 1513.05 1677.76 1513.05 Q1681.4 1513.05 1683.2 1509.5 Q1685.03 1505.94 1685.03 1498.83 Q1685.03 1491.7 1683.2 1488.16 Q1681.4 1484.6 1677.76 1484.6 M1677.76 1480.89 Q1683.57 1480.89 1686.63 1485.5 Q1689.71 1490.08 1689.71 1498.83 Q1689.71 1507.56 1686.63 1512.17 Q1683.57 1516.75 1677.76 1516.75 Q1671.95 1516.75 1668.87 1512.17 Q1665.82 1507.56 1665.82 1498.83 Q1665.82 1490.08 1668.87 1485.5 Q1671.95 1480.89 1677.76 1480.89 Z\" fill=\"#000000\" fill-rule=\"evenodd\" fill-opacity=\"1\" /><path clip-path=\"url(#clip7900)\" d=\"M 0 0 M1733.09 1484.69 Q1728 1484.69 1724.99 1488.49 Q1722 1492.28 1722 1498.83 Q1722 1505.36 1724.99 1509.16 Q1728 1512.95 1733.09 1512.95 Q1738.18 1512.95 1741.15 1509.16 Q1744.13 1505.36 1744.13 1498.83 Q1744.13 1492.28 1741.15 1488.49 Q1738.18 1484.69 1733.09 1484.69 M1733.09 1480.89 Q1740.36 1480.89 1744.71 1485.78 Q1749.06 1490.64 1749.06 1498.83 Q1749.06 1507 1744.71 1511.89 Q1740.36 1516.75 1733.09 1516.75 Q1725.8 1516.75 1721.42 1511.89 Q1717.07 1507.03 1717.07 1498.83 Q1717.07 1490.64 1721.42 1485.78 Q1725.8 1480.89 1733.09 1480.89 Z\" fill=\"#000000\" fill-rule=\"evenodd\" fill-opacity=\"1\" /><path clip-path=\"url(#clip7900)\" d=\"M 0 0 M1772.19 1491.15 L1772.19 1495.13 Q1770.38 1494.13 1768.55 1493.65 Q1766.75 1493.14 1764.9 1493.14 Q1760.75 1493.14 1758.46 1495.78 Q1756.17 1498.39 1756.17 1503.14 Q1756.17 1507.88 1758.46 1510.52 Q1760.75 1513.14 1764.9 1513.14 Q1766.75 1513.14 1768.55 1512.65 Q1770.38 1512.14 1772.19 1511.15 L1772.19 1515.08 Q1770.41 1515.92 1768.48 1516.33 Q1766.59 1516.75 1764.43 1516.75 Q1758.58 1516.75 1755.13 1513.07 Q1751.68 1509.39 1751.68 1503.14 Q1751.68 1496.8 1755.15 1493.16 Q1758.65 1489.53 1764.71 1489.53 Q1766.68 1489.53 1768.55 1489.94 Q1770.43 1490.34 1772.19 1491.15 Z\" fill=\"#000000\" fill-rule=\"evenodd\" fill-opacity=\"1\" /><path clip-path=\"url(#clip7900)\" d=\"M 0 0 M1780.87 1482.79 L1780.87 1490.15 L1789.64 1490.15 L1789.64 1493.46 L1780.87 1493.46 L1780.87 1507.54 Q1780.87 1510.71 1781.73 1511.61 Q1782.61 1512.51 1785.27 1512.51 L1789.64 1512.51 L1789.64 1516.08 L1785.27 1516.08 Q1780.34 1516.08 1778.46 1514.25 Q1776.59 1512.4 1776.59 1507.54 L1776.59 1493.46 L1773.46 1493.46 L1773.46 1490.15 L1776.59 1490.15 L1776.59 1482.79 L1780.87 1482.79 Z\" fill=\"#000000\" fill-rule=\"evenodd\" fill-opacity=\"1\" /><path clip-path=\"url(#clip7900)\" d=\"M 0 0 M1794.71 1510.2 L1799.6 1510.2 L1799.6 1516.08 L1794.71 1516.08 L1794.71 1510.2 Z\" fill=\"#000000\" fill-rule=\"evenodd\" fill-opacity=\"1\" /><path clip-path=\"url(#clip7900)\" d=\"M 0 0 M1823.76 1512.14 L1840.08 1512.14 L1840.08 1516.08 L1818.14 1516.08 L1818.14 1512.14 Q1820.8 1509.39 1825.38 1504.76 Q1829.99 1500.11 1831.17 1498.76 Q1833.41 1496.24 1834.29 1494.5 Q1835.2 1492.75 1835.2 1491.06 Q1835.2 1488.3 1833.25 1486.57 Q1831.33 1484.83 1828.23 1484.83 Q1826.03 1484.83 1823.58 1485.59 Q1821.15 1486.36 1818.37 1487.91 L1818.37 1483.19 Q1821.19 1482.05 1823.65 1481.47 Q1826.1 1480.89 1828.14 1480.89 Q1833.51 1480.89 1836.7 1483.58 Q1839.9 1486.26 1839.9 1490.75 Q1839.9 1492.88 1839.09 1494.81 Q1838.3 1496.7 1836.19 1499.3 Q1835.61 1499.97 1832.51 1503.19 Q1829.41 1506.38 1823.76 1512.14 Z\" fill=\"#000000\" fill-rule=\"evenodd\" fill-opacity=\"1\" /><path clip-path=\"url(#clip7900)\" d=\"M 0 0 M1859.32 1497.44 Q1862.67 1498.16 1864.55 1500.43 Q1866.45 1502.7 1866.45 1506.03 Q1866.45 1511.15 1862.93 1513.95 Q1859.41 1516.75 1852.93 1516.75 Q1850.75 1516.75 1848.44 1516.31 Q1846.15 1515.89 1843.69 1515.04 L1843.69 1510.52 Q1845.64 1511.66 1847.95 1512.24 Q1850.27 1512.81 1852.79 1512.81 Q1857.19 1512.81 1859.48 1511.08 Q1861.79 1509.34 1861.79 1506.03 Q1861.79 1502.98 1859.64 1501.26 Q1857.51 1499.53 1853.69 1499.53 L1849.66 1499.53 L1849.66 1495.69 L1853.88 1495.69 Q1857.33 1495.69 1859.16 1494.32 Q1860.98 1492.93 1860.98 1490.34 Q1860.98 1487.68 1859.09 1486.26 Q1857.21 1484.83 1853.69 1484.83 Q1851.77 1484.83 1849.57 1485.25 Q1847.37 1485.66 1844.73 1486.54 L1844.73 1482.38 Q1847.4 1481.63 1849.71 1481.26 Q1852.05 1480.89 1854.11 1480.89 Q1859.43 1480.89 1862.54 1483.32 Q1865.64 1485.73 1865.64 1489.85 Q1865.64 1492.72 1863.99 1494.71 Q1862.35 1496.68 1859.32 1497.44 Z\" fill=\"#000000\" fill-rule=\"evenodd\" fill-opacity=\"1\" /><path clip-path=\"url(#clip7900)\" d=\"M 0 0 M1872 1510.2 L1876.89 1510.2 L1876.89 1514.18 L1873.09 1521.59 L1870.1 1521.59 L1872 1514.18 L1872 1510.2 Z\" fill=\"#000000\" fill-rule=\"evenodd\" fill-opacity=\"1\" /><path clip-path=\"url(#clip7900)\" d=\"M 0 0 M1901.05 1512.14 L1917.37 1512.14 L1917.37 1516.08 L1895.43 1516.08 L1895.43 1512.14 Q1898.09 1509.39 1902.67 1504.76 Q1907.28 1500.11 1908.46 1498.76 Q1910.71 1496.24 1911.59 1494.5 Q1912.49 1492.75 1912.49 1491.06 Q1912.49 1488.3 1910.54 1486.57 Q1908.62 1484.83 1905.52 1484.83 Q1903.32 1484.83 1900.87 1485.59 Q1898.44 1486.36 1895.66 1487.91 L1895.66 1483.19 Q1898.48 1482.05 1900.94 1481.47 Q1903.39 1480.89 1905.43 1480.89 Q1910.8 1480.89 1913.99 1483.58 Q1917.19 1486.26 1917.19 1490.75 Q1917.19 1492.88 1916.38 1494.81 Q1915.59 1496.7 1913.48 1499.3 Q1912.91 1499.97 1909.8 1503.19 Q1906.7 1506.38 1901.05 1512.14 Z\" fill=\"#000000\" fill-rule=\"evenodd\" fill-opacity=\"1\" /><path clip-path=\"url(#clip7900)\" d=\"M 0 0 M1932.44 1484.6 Q1928.83 1484.6 1927 1488.16 Q1925.2 1491.7 1925.2 1498.83 Q1925.2 1505.94 1927 1509.5 Q1928.83 1513.05 1932.44 1513.05 Q1936.08 1513.05 1937.88 1509.5 Q1939.71 1505.94 1939.71 1498.83 Q1939.71 1491.7 1937.88 1488.16 Q1936.08 1484.6 1932.44 1484.6 M1932.44 1480.89 Q1938.25 1480.89 1941.31 1485.5 Q1944.39 1490.08 1944.39 1498.83 Q1944.39 1507.56 1941.31 1512.17 Q1938.25 1516.75 1932.44 1516.75 Q1926.63 1516.75 1923.55 1512.17 Q1920.5 1507.56 1920.5 1498.83 Q1920.5 1490.08 1923.55 1485.5 Q1926.63 1480.89 1932.44 1480.89 Z\" fill=\"#000000\" fill-rule=\"evenodd\" fill-opacity=\"1\" /><path clip-path=\"url(#clip7900)\" d=\"M 0 0 M1987.56 1484.69 Q1982.47 1484.69 1979.46 1488.49 Q1976.47 1492.28 1976.47 1498.83 Q1976.47 1505.36 1979.46 1509.16 Q1982.47 1512.95 1987.56 1512.95 Q1992.65 1512.95 1995.62 1509.16 Q1998.6 1505.36 1998.6 1498.83 Q1998.6 1492.28 1995.62 1488.49 Q1992.65 1484.69 1987.56 1484.69 M1987.56 1480.89 Q1994.83 1480.89 1999.18 1485.78 Q2003.53 1490.64 2003.53 1498.83 Q2003.53 1507 1999.18 1511.89 Q1994.83 1516.75 1987.56 1516.75 Q1980.27 1516.75 1975.89 1511.89 Q1971.54 1507.03 1971.54 1498.83 Q1971.54 1490.64 1975.89 1485.78 Q1980.27 1480.89 1987.56 1480.89 Z\" fill=\"#000000\" fill-rule=\"evenodd\" fill-opacity=\"1\" /><path clip-path=\"url(#clip7900)\" d=\"M 0 0 M2026.66 1491.15 L2026.66 1495.13 Q2024.85 1494.13 2023.02 1493.65 Q2021.22 1493.14 2019.37 1493.14 Q2015.22 1493.14 2012.93 1495.78 Q2010.64 1498.39 2010.64 1503.14 Q2010.64 1507.88 2012.93 1510.52 Q2015.22 1513.14 2019.37 1513.14 Q2021.22 1513.14 2023.02 1512.65 Q2024.85 1512.14 2026.66 1511.15 L2026.66 1515.08 Q2024.88 1515.92 2022.95 1516.33 Q2021.06 1516.75 2018.9 1516.75 Q2013.05 1516.75 2009.6 1513.07 Q2006.15 1509.39 2006.15 1503.14 Q2006.15 1496.8 2009.62 1493.16 Q2013.12 1489.53 2019.18 1489.53 Q2021.15 1489.53 2023.02 1489.94 Q2024.9 1490.34 2026.66 1491.15 Z\" fill=\"#000000\" fill-rule=\"evenodd\" fill-opacity=\"1\" /><path clip-path=\"url(#clip7900)\" d=\"M 0 0 M2035.34 1482.79 L2035.34 1490.15 L2044.11 1490.15 L2044.11 1493.46 L2035.34 1493.46 L2035.34 1507.54 Q2035.34 1510.71 2036.2 1511.61 Q2037.08 1512.51 2039.74 1512.51 L2044.11 1512.51 L2044.11 1516.08 L2039.74 1516.08 Q2034.81 1516.08 2032.93 1514.25 Q2031.06 1512.4 2031.06 1507.54 L2031.06 1493.46 L2027.93 1493.46 L2027.93 1490.15 L2031.06 1490.15 L2031.06 1482.79 L2035.34 1482.79 Z\" fill=\"#000000\" fill-rule=\"evenodd\" fill-opacity=\"1\" /><path clip-path=\"url(#clip7900)\" d=\"M 0 0 M2049.18 1510.2 L2054.07 1510.2 L2054.07 1516.08 L2049.18 1516.08 L2049.18 1510.2 Z\" fill=\"#000000\" fill-rule=\"evenodd\" fill-opacity=\"1\" /><path clip-path=\"url(#clip7900)\" d=\"M 0 0 M2088.37 1497.44 Q2091.73 1498.16 2093.6 1500.43 Q2095.5 1502.7 2095.5 1506.03 Q2095.5 1511.15 2091.98 1513.95 Q2088.46 1516.75 2081.98 1516.75 Q2079.81 1516.75 2077.49 1516.31 Q2075.2 1515.89 2072.75 1515.04 L2072.75 1510.52 Q2074.69 1511.66 2077.01 1512.24 Q2079.32 1512.81 2081.84 1512.81 Q2086.24 1512.81 2088.53 1511.08 Q2090.85 1509.34 2090.85 1506.03 Q2090.85 1502.98 2088.7 1501.26 Q2086.57 1499.53 2082.75 1499.53 L2078.72 1499.53 L2078.72 1495.69 L2082.93 1495.69 Q2086.38 1495.69 2088.21 1494.32 Q2090.04 1492.93 2090.04 1490.34 Q2090.04 1487.68 2088.14 1486.26 Q2086.26 1484.83 2082.75 1484.83 Q2080.82 1484.83 2078.63 1485.25 Q2076.43 1485.66 2073.79 1486.54 L2073.79 1482.38 Q2076.45 1481.63 2078.76 1481.26 Q2081.1 1480.89 2083.16 1480.89 Q2088.49 1480.89 2091.59 1483.32 Q2094.69 1485.73 2094.69 1489.85 Q2094.69 1492.72 2093.05 1494.71 Q2091.4 1496.68 2088.37 1497.44 Z\" fill=\"#000000\" fill-rule=\"evenodd\" fill-opacity=\"1\" /><path clip-path=\"url(#clip7900)\" d=\"M 0 0 M2110.57 1484.6 Q2106.96 1484.6 2105.13 1488.16 Q2103.32 1491.7 2103.32 1498.83 Q2103.32 1505.94 2105.13 1509.5 Q2106.96 1513.05 2110.57 1513.05 Q2114.2 1513.05 2116.01 1509.5 Q2117.84 1505.94 2117.84 1498.83 Q2117.84 1491.7 2116.01 1488.16 Q2114.2 1484.6 2110.57 1484.6 M2110.57 1480.89 Q2116.38 1480.89 2119.44 1485.5 Q2122.51 1490.08 2122.51 1498.83 Q2122.51 1507.56 2119.44 1512.17 Q2116.38 1516.75 2110.57 1516.75 Q2104.76 1516.75 2101.68 1512.17 Q2098.63 1507.56 2098.63 1498.83 Q2098.63 1490.08 2101.68 1485.5 Q2104.76 1480.89 2110.57 1480.89 Z\" fill=\"#000000\" fill-rule=\"evenodd\" fill-opacity=\"1\" /><path clip-path=\"url(#clip7900)\" d=\"M 0 0 M2128.07 1510.2 L2132.95 1510.2 L2132.95 1514.18 L2129.16 1521.59 L2126.17 1521.59 L2128.07 1514.18 L2128.07 1510.2 Z\" fill=\"#000000\" fill-rule=\"evenodd\" fill-opacity=\"1\" /><path clip-path=\"url(#clip7900)\" d=\"M 0 0 M2157.12 1512.14 L2173.44 1512.14 L2173.44 1516.08 L2151.5 1516.08 L2151.5 1512.14 Q2154.16 1509.39 2158.74 1504.76 Q2163.35 1500.11 2164.53 1498.76 Q2166.77 1496.24 2167.65 1494.5 Q2168.56 1492.75 2168.56 1491.06 Q2168.56 1488.3 2166.61 1486.57 Q2164.69 1484.83 2161.59 1484.83 Q2159.39 1484.83 2156.94 1485.59 Q2154.51 1486.36 2151.73 1487.91 L2151.73 1483.19 Q2154.55 1482.05 2157.01 1481.47 Q2159.46 1480.89 2161.5 1480.89 Q2166.87 1480.89 2170.06 1483.58 Q2173.25 1486.26 2173.25 1490.75 Q2173.25 1492.88 2172.44 1494.81 Q2171.66 1496.7 2169.55 1499.3 Q2168.97 1499.97 2165.87 1503.19 Q2162.77 1506.38 2157.12 1512.14 Z\" fill=\"#000000\" fill-rule=\"evenodd\" fill-opacity=\"1\" /><path clip-path=\"url(#clip7900)\" d=\"M 0 0 M2188.51 1484.6 Q2184.9 1484.6 2183.07 1488.16 Q2181.26 1491.7 2181.26 1498.83 Q2181.26 1505.94 2183.07 1509.5 Q2184.9 1513.05 2188.51 1513.05 Q2192.14 1513.05 2193.95 1509.5 Q2195.78 1505.94 2195.78 1498.83 Q2195.78 1491.7 2193.95 1488.16 Q2192.14 1484.6 2188.51 1484.6 M2188.51 1480.89 Q2194.32 1480.89 2197.38 1485.5 Q2200.45 1490.08 2200.45 1498.83 Q2200.45 1507.56 2197.38 1512.17 Q2194.32 1516.75 2188.51 1516.75 Q2182.7 1516.75 2179.62 1512.17 Q2176.57 1507.56 2176.57 1498.83 Q2176.57 1490.08 2179.62 1485.5 Q2182.7 1480.89 2188.51 1480.89 Z\" fill=\"#000000\" fill-rule=\"evenodd\" fill-opacity=\"1\" /><path clip-path=\"url(#clip7900)\" d=\"M 0 0 M2202.54 1481.52 L2208.84 1481.52 L2224.16 1510.43 L2224.16 1481.52 L2228.7 1481.52 L2228.7 1516.08 L2222.4 1516.08 L2207.08 1487.17 L2207.08 1516.08 L2202.54 1516.08 L2202.54 1481.52 Z\" fill=\"#000000\" fill-rule=\"evenodd\" fill-opacity=\"1\" /><path clip-path=\"url(#clip7900)\" d=\"M 0 0 M2243.21 1493.14 Q2239.79 1493.14 2237.8 1495.82 Q2235.81 1498.49 2235.81 1503.14 Q2235.81 1507.79 2237.78 1510.48 Q2239.77 1513.14 2243.21 1513.14 Q2246.62 1513.14 2248.61 1510.45 Q2250.6 1507.77 2250.6 1503.14 Q2250.6 1498.53 2248.61 1495.85 Q2246.62 1493.14 2243.21 1493.14 M2243.21 1489.53 Q2248.77 1489.53 2251.94 1493.14 Q2255.11 1496.75 2255.11 1503.14 Q2255.11 1509.5 2251.94 1513.14 Q2248.77 1516.75 2243.21 1516.75 Q2237.64 1516.75 2234.46 1513.14 Q2231.32 1509.5 2231.32 1503.14 Q2231.32 1496.75 2234.46 1493.14 Q2237.64 1489.53 2243.21 1489.53 Z\" fill=\"#000000\" fill-rule=\"evenodd\" fill-opacity=\"1\" /><path clip-path=\"url(#clip7900)\" d=\"M 0 0 M2256.53 1490.15 L2261.04 1490.15 L2269.14 1511.91 L2277.24 1490.15 L2281.76 1490.15 L2272.03 1516.08 L2266.25 1516.08 L2256.53 1490.15 Z\" fill=\"#000000\" fill-rule=\"evenodd\" fill-opacity=\"1\" /><path clip-path=\"url(#clip7900)\" d=\"M 0 0 M2283.15 1510.2 L2288.03 1510.2 L2288.03 1516.08 L2283.15 1516.08 L2283.15 1510.2 Z\" fill=\"#000000\" fill-rule=\"evenodd\" fill-opacity=\"1\" /><path clip-path=\"url(#clip7900)\" d=\"M 0 0 M2308.21 1481.52 L2326.57 1481.52 L2326.57 1485.45 L2312.5 1485.45 L2312.5 1493.93 Q2313.52 1493.58 2314.53 1493.42 Q2315.55 1493.23 2316.57 1493.23 Q2322.36 1493.23 2325.74 1496.4 Q2329.12 1499.57 2329.12 1504.99 Q2329.12 1510.57 2325.65 1513.67 Q2322.17 1516.75 2315.85 1516.75 Q2313.68 1516.75 2311.41 1516.38 Q2309.16 1516.01 2306.76 1515.27 L2306.76 1510.57 Q2308.84 1511.7 2311.06 1512.26 Q2313.28 1512.81 2315.76 1512.81 Q2319.77 1512.81 2322.1 1510.71 Q2324.44 1508.6 2324.44 1504.99 Q2324.44 1501.38 2322.1 1499.27 Q2319.77 1497.17 2315.76 1497.17 Q2313.89 1497.17 2312.01 1497.58 Q2310.16 1498 2308.21 1498.88 L2308.21 1481.52 Z\" fill=\"#000000\" fill-rule=\"evenodd\" fill-opacity=\"1\" /><path clip-path=\"url(#clip7900)\" d=\"M 0 0 M2334.67 1510.2 L2339.56 1510.2 L2339.56 1514.18 L2335.76 1521.59 L2332.77 1521.59 L2334.67 1514.18 L2334.67 1510.2 Z\" fill=\"#000000\" fill-rule=\"evenodd\" fill-opacity=\"1\" /><path clip-path=\"url(#clip7900)\" d=\"M 0 0 M2363.72 1512.14 L2380.04 1512.14 L2380.04 1516.08 L2358.1 1516.08 L2358.1 1512.14 Q2360.76 1509.39 2365.34 1504.76 Q2369.95 1500.11 2371.13 1498.76 Q2373.38 1496.24 2374.26 1494.5 Q2375.16 1492.75 2375.16 1491.06 Q2375.16 1488.3 2373.21 1486.57 Q2371.29 1484.83 2368.19 1484.83 Q2365.99 1484.83 2363.54 1485.59 Q2361.11 1486.36 2358.33 1487.91 L2358.33 1483.19 Q2361.15 1482.05 2363.61 1481.47 Q2366.06 1480.89 2368.1 1480.89 Q2373.47 1480.89 2376.66 1483.58 Q2379.86 1486.26 2379.86 1490.75 Q2379.86 1492.88 2379.05 1494.81 Q2378.26 1496.7 2376.15 1499.3 Q2375.58 1499.97 2372.47 1503.19 Q2369.37 1506.38 2363.72 1512.14 Z\" fill=\"#000000\" fill-rule=\"evenodd\" fill-opacity=\"1\" /><path clip-path=\"url(#clip7900)\" d=\"M 0 0 M2395.11 1484.6 Q2391.5 1484.6 2389.67 1488.16 Q2387.87 1491.7 2387.87 1498.83 Q2387.87 1505.94 2389.67 1509.5 Q2391.5 1513.05 2395.11 1513.05 Q2398.75 1513.05 2400.55 1509.5 Q2402.38 1505.94 2402.38 1498.83 Q2402.38 1491.7 2400.55 1488.16 Q2398.75 1484.6 2395.11 1484.6 M2395.11 1480.89 Q2400.92 1480.89 2403.98 1485.5 Q2407.06 1490.08 2407.06 1498.83 Q2407.06 1507.56 2403.98 1512.17 Q2400.92 1516.75 2395.11 1516.75 Q2389.3 1516.75 2386.22 1512.17 Q2383.17 1507.56 2383.17 1498.83 Q2383.17 1490.08 2386.22 1485.5 Q2389.3 1480.89 2395.11 1480.89 Z\" fill=\"#000000\" fill-rule=\"evenodd\" fill-opacity=\"1\" /><path clip-path=\"url(#clip7900)\" d=\"M 0 0 M2445.22 1481.52 L2451.52 1481.52 L2466.84 1510.43 L2466.84 1481.52 L2471.38 1481.52 L2471.38 1516.08 L2465.08 1516.08 L2449.76 1487.17 L2449.76 1516.08 L2445.22 1516.08 L2445.22 1481.52 Z\" fill=\"#000000\" fill-rule=\"evenodd\" fill-opacity=\"1\" /><path clip-path=\"url(#clip7900)\" d=\"M 0 0 M2485.89 1493.14 Q2482.47 1493.14 2480.47 1495.82 Q2478.48 1498.49 2478.48 1503.14 Q2478.48 1507.79 2480.45 1510.48 Q2482.44 1513.14 2485.89 1513.14 Q2489.29 1513.14 2491.28 1510.45 Q2493.28 1507.77 2493.28 1503.14 Q2493.28 1498.53 2491.28 1495.85 Q2489.29 1493.14 2485.89 1493.14 M2485.89 1489.53 Q2491.45 1489.53 2494.62 1493.14 Q2497.79 1496.75 2497.79 1503.14 Q2497.79 1509.5 2494.62 1513.14 Q2491.45 1516.75 2485.89 1516.75 Q2480.31 1516.75 2477.14 1513.14 Q2473.99 1509.5 2473.99 1503.14 Q2473.99 1496.75 2477.14 1493.14 Q2480.31 1489.53 2485.89 1489.53 Z\" fill=\"#000000\" fill-rule=\"evenodd\" fill-opacity=\"1\" /><path clip-path=\"url(#clip7900)\" d=\"M 0 0 M2499.2 1490.15 L2503.72 1490.15 L2511.82 1511.91 L2519.92 1490.15 L2524.43 1490.15 L2514.71 1516.08 L2508.92 1516.08 L2499.2 1490.15 Z\" fill=\"#000000\" fill-rule=\"evenodd\" fill-opacity=\"1\" /><path clip-path=\"url(#clip7900)\" d=\"M 0 0 M2525.82 1510.2 L2530.71 1510.2 L2530.71 1516.08 L2525.82 1516.08 L2525.82 1510.2 Z\" fill=\"#000000\" fill-rule=\"evenodd\" fill-opacity=\"1\" /><path clip-path=\"url(#clip7900)\" d=\"M 0 0 M2551.65 1512.14 L2559.29 1512.14 L2559.29 1485.78 L2550.98 1487.44 L2550.98 1483.19 L2559.25 1481.52 L2563.92 1481.52 L2563.92 1512.14 L2571.56 1512.14 L2571.56 1516.08 L2551.65 1516.08 L2551.65 1512.14 Z\" fill=\"#000000\" fill-rule=\"evenodd\" fill-opacity=\"1\" /><path clip-path=\"url(#clip7900)\" d=\"M 0 0 M2580.66 1512.14 L2596.98 1512.14 L2596.98 1516.08 L2575.03 1516.08 L2575.03 1512.14 Q2577.7 1509.39 2582.28 1504.76 Q2586.89 1500.11 2588.07 1498.76 Q2590.31 1496.24 2591.19 1494.5 Q2592.09 1492.75 2592.09 1491.06 Q2592.09 1488.3 2590.15 1486.57 Q2588.23 1484.83 2585.13 1484.83 Q2582.93 1484.83 2580.47 1485.59 Q2578.04 1486.36 2575.27 1487.91 L2575.27 1483.19 Q2578.09 1482.05 2580.54 1481.47 Q2583 1480.89 2585.03 1480.89 Q2590.4 1480.89 2593.6 1483.58 Q2596.79 1486.26 2596.79 1490.75 Q2596.79 1492.88 2595.98 1494.81 Q2595.2 1496.7 2593.09 1499.3 Q2592.51 1499.97 2589.41 1503.19 Q2586.31 1506.38 2580.66 1512.14 Z\" fill=\"#000000\" fill-rule=\"evenodd\" fill-opacity=\"1\" /><path clip-path=\"url(#clip7900)\" d=\"M 0 0 M2602.53 1510.2 L2607.42 1510.2 L2607.42 1514.18 L2603.62 1521.59 L2600.64 1521.59 L2602.53 1514.18 L2602.53 1510.2 Z\" fill=\"#000000\" fill-rule=\"evenodd\" fill-opacity=\"1\" /><path clip-path=\"url(#clip7900)\" d=\"M 0 0 M2631.58 1512.14 L2647.9 1512.14 L2647.9 1516.08 L2625.96 1516.08 L2625.96 1512.14 Q2628.62 1509.39 2633.21 1504.76 Q2637.81 1500.11 2638.99 1498.76 Q2641.24 1496.24 2642.12 1494.5 Q2643.02 1492.75 2643.02 1491.06 Q2643.02 1488.3 2641.08 1486.57 Q2639.15 1484.83 2636.05 1484.83 Q2633.85 1484.83 2631.4 1485.59 Q2628.97 1486.36 2626.19 1487.91 L2626.19 1483.19 Q2629.02 1482.05 2631.47 1481.47 Q2633.92 1480.89 2635.96 1480.89 Q2641.33 1480.89 2644.52 1483.58 Q2647.72 1486.26 2647.72 1490.75 Q2647.72 1492.88 2646.91 1494.81 Q2646.12 1496.7 2644.02 1499.3 Q2643.44 1499.97 2640.33 1503.19 Q2637.23 1506.38 2631.58 1512.14 Z\" fill=\"#000000\" fill-rule=\"evenodd\" fill-opacity=\"1\" /><path clip-path=\"url(#clip7900)\" d=\"M 0 0 M2662.97 1484.6 Q2659.36 1484.6 2657.53 1488.16 Q2655.73 1491.7 2655.73 1498.83 Q2655.73 1505.94 2657.53 1509.5 Q2659.36 1513.05 2662.97 1513.05 Q2666.61 1513.05 2668.41 1509.5 Q2670.24 1505.94 2670.24 1498.83 Q2670.24 1491.7 2668.41 1488.16 Q2666.61 1484.6 2662.97 1484.6 M2662.97 1480.89 Q2668.78 1480.89 2671.84 1485.5 Q2674.92 1490.08 2674.92 1498.83 Q2674.92 1507.56 2671.84 1512.17 Q2668.78 1516.75 2662.97 1516.75 Q2657.16 1516.75 2654.08 1512.17 Q2651.03 1507.56 2651.03 1498.83 Q2651.03 1490.08 2654.08 1485.5 Q2657.16 1480.89 2662.97 1480.89 Z\" fill=\"#000000\" fill-rule=\"evenodd\" fill-opacity=\"1\" /><path clip-path=\"url(#clip7900)\" d=\"M 0 0 M2663.27 1481.52 L2669.57 1481.52 L2684.89 1510.43 L2684.89 1481.52 L2689.43 1481.52 L2689.43 1516.08 L2683.13 1516.08 L2667.81 1487.17 L2667.81 1516.08 L2663.27 1516.08 L2663.27 1481.52 Z\" fill=\"#000000\" fill-rule=\"evenodd\" fill-opacity=\"1\" /><path clip-path=\"url(#clip7900)\" d=\"M 0 0 M2703.94 1493.14 Q2700.51 1493.14 2698.52 1495.82 Q2696.53 1498.49 2696.53 1503.14 Q2696.53 1507.79 2698.5 1510.48 Q2700.49 1513.14 2703.94 1513.14 Q2707.34 1513.14 2709.33 1510.45 Q2711.32 1507.77 2711.32 1503.14 Q2711.32 1498.53 2709.33 1495.85 Q2707.34 1493.14 2703.94 1493.14 M2703.94 1489.53 Q2709.5 1489.53 2712.67 1493.14 Q2715.84 1496.75 2715.84 1503.14 Q2715.84 1509.5 2712.67 1513.14 Q2709.5 1516.75 2703.94 1516.75 Q2698.36 1516.75 2695.19 1513.14 Q2692.04 1509.5 2692.04 1503.14 Q2692.04 1496.75 2695.19 1493.14 Q2698.36 1489.53 2703.94 1489.53 Z\" fill=\"#000000\" fill-rule=\"evenodd\" fill-opacity=\"1\" /><path clip-path=\"url(#clip7900)\" d=\"M 0 0 M2717.25 1490.15 L2721.76 1490.15 L2729.87 1511.91 L2737.97 1490.15 L2742.48 1490.15 L2732.76 1516.08 L2726.97 1516.08 L2717.25 1490.15 Z\" fill=\"#000000\" fill-rule=\"evenodd\" fill-opacity=\"1\" /><path clip-path=\"url(#clip7900)\" d=\"M 0 0 M2743.87 1510.2 L2748.76 1510.2 L2748.76 1516.08 L2743.87 1516.08 L2743.87 1510.2 Z\" fill=\"#000000\" fill-rule=\"evenodd\" fill-opacity=\"1\" /><path clip-path=\"url(#clip7900)\" d=\"M 0 0 M2769.7 1512.14 L2777.34 1512.14 L2777.34 1485.78 L2769.03 1487.44 L2769.03 1483.19 L2777.3 1481.52 L2781.97 1481.52 L2781.97 1512.14 L2789.61 1512.14 L2789.61 1516.08 L2769.7 1516.08 L2769.7 1512.14 Z\" fill=\"#000000\" fill-rule=\"evenodd\" fill-opacity=\"1\" /><path clip-path=\"url(#clip7900)\" d=\"M 0 0 M2804.68 1499.67 Q2801.35 1499.67 2799.43 1501.45 Q2797.53 1503.23 2797.53 1506.36 Q2797.53 1509.48 2799.43 1511.26 Q2801.35 1513.05 2804.68 1513.05 Q2808.01 1513.05 2809.94 1511.26 Q2811.86 1509.46 2811.86 1506.36 Q2811.86 1503.23 2809.94 1501.45 Q2808.04 1499.67 2804.68 1499.67 M2800 1497.68 Q2797 1496.94 2795.31 1494.88 Q2793.64 1492.82 2793.64 1489.85 Q2793.64 1485.71 2796.58 1483.3 Q2799.54 1480.89 2804.68 1480.89 Q2809.84 1480.89 2812.78 1483.3 Q2815.72 1485.71 2815.72 1489.85 Q2815.72 1492.82 2814.03 1494.88 Q2812.37 1496.94 2809.38 1497.68 Q2812.76 1498.46 2814.63 1500.75 Q2816.53 1503.05 2816.53 1506.36 Q2816.53 1511.38 2813.45 1514.06 Q2810.4 1516.75 2804.68 1516.75 Q2798.96 1516.75 2795.88 1514.06 Q2792.83 1511.38 2792.83 1506.36 Q2792.83 1503.05 2794.73 1500.75 Q2796.63 1498.46 2800 1497.68 M2798.29 1490.29 Q2798.29 1492.98 2799.96 1494.48 Q2801.65 1495.99 2804.68 1495.99 Q2807.69 1495.99 2809.38 1494.48 Q2811.09 1492.98 2811.09 1490.29 Q2811.09 1487.61 2809.38 1486.1 Q2807.69 1484.6 2804.68 1484.6 Q2801.65 1484.6 2799.96 1486.1 Q2798.29 1487.61 2798.29 1490.29 Z\" fill=\"#000000\" fill-rule=\"evenodd\" fill-opacity=\"1\" /><path clip-path=\"url(#clip7900)\" d=\"M 0 0 M2822.09 1510.2 L2826.97 1510.2 L2826.97 1514.18 L2823.18 1521.59 L2820.19 1521.59 L2822.09 1514.18 L2822.09 1510.2 Z\" fill=\"#000000\" fill-rule=\"evenodd\" fill-opacity=\"1\" /><path clip-path=\"url(#clip7900)\" d=\"M 0 0 M2851.14 1512.14 L2867.46 1512.14 L2867.46 1516.08 L2845.51 1516.08 L2845.51 1512.14 Q2848.18 1509.39 2852.76 1504.76 Q2857.37 1500.11 2858.55 1498.76 Q2860.79 1496.24 2861.67 1494.5 Q2862.57 1492.75 2862.57 1491.06 Q2862.57 1488.3 2860.63 1486.57 Q2858.71 1484.83 2855.61 1484.83 Q2853.41 1484.83 2850.95 1485.59 Q2848.52 1486.36 2845.75 1487.91 L2845.75 1483.19 Q2848.57 1482.05 2851.02 1481.47 Q2853.48 1480.89 2855.51 1480.89 Q2860.88 1480.89 2864.08 1483.58 Q2867.27 1486.26 2867.27 1490.75 Q2867.27 1492.88 2866.46 1494.81 Q2865.68 1496.7 2863.57 1499.3 Q2862.99 1499.97 2859.89 1503.19 Q2856.79 1506.38 2851.14 1512.14 Z\" fill=\"#000000\" fill-rule=\"evenodd\" fill-opacity=\"1\" /><path clip-path=\"url(#clip7900)\" d=\"M 0 0 M2882.53 1484.6 Q2878.92 1484.6 2877.09 1488.16 Q2875.28 1491.7 2875.28 1498.83 Q2875.28 1505.94 2877.09 1509.5 Q2878.92 1513.05 2882.53 1513.05 Q2886.16 1513.05 2887.97 1509.5 Q2889.8 1505.94 2889.8 1498.83 Q2889.8 1491.7 2887.97 1488.16 Q2886.16 1484.6 2882.53 1484.6 M2882.53 1480.89 Q2888.34 1480.89 2891.39 1485.5 Q2894.47 1490.08 2894.47 1498.83 Q2894.47 1507.56 2891.39 1512.17 Q2888.34 1516.75 2882.53 1516.75 Q2876.72 1516.75 2873.64 1512.17 Q2870.58 1507.56 2870.58 1498.83 Q2870.58 1490.08 2873.64 1485.5 Q2876.72 1480.89 2882.53 1480.89 Z\" fill=\"#000000\" fill-rule=\"evenodd\" fill-opacity=\"1\" /><path clip-path=\"url(#clip7900)\" d=\"M 0 0 M2919.17 1481.52 L2925.47 1481.52 L2940.79 1510.43 L2940.79 1481.52 L2945.33 1481.52 L2945.33 1516.08 L2939.04 1516.08 L2923.71 1487.17 L2923.71 1516.08 L2919.17 1516.08 L2919.17 1481.52 Z\" fill=\"#000000\" fill-rule=\"evenodd\" fill-opacity=\"1\" /><path clip-path=\"url(#clip7900)\" d=\"M 0 0 M2959.85 1493.14 Q2956.42 1493.14 2954.43 1495.82 Q2952.44 1498.49 2952.44 1503.14 Q2952.44 1507.79 2954.41 1510.48 Q2956.4 1513.14 2959.85 1513.14 Q2963.25 1513.14 2965.24 1510.45 Q2967.23 1507.77 2967.23 1503.14 Q2967.23 1498.53 2965.24 1495.85 Q2963.25 1493.14 2959.85 1493.14 M2959.85 1489.53 Q2965.4 1489.53 2968.57 1493.14 Q2971.74 1496.75 2971.74 1503.14 Q2971.74 1509.5 2968.57 1513.14 Q2965.4 1516.75 2959.85 1516.75 Q2954.27 1516.75 2951.1 1513.14 Q2947.95 1509.5 2947.95 1503.14 Q2947.95 1496.75 2951.1 1493.14 Q2954.27 1489.53 2959.85 1489.53 Z\" fill=\"#000000\" fill-rule=\"evenodd\" fill-opacity=\"1\" /><path clip-path=\"url(#clip7900)\" d=\"M 0 0 M2973.16 1490.15 L2977.67 1490.15 L2985.77 1511.91 L2993.87 1490.15 L2998.39 1490.15 L2988.67 1516.08 L2982.88 1516.08 L2973.16 1490.15 Z\" fill=\"#000000\" fill-rule=\"evenodd\" fill-opacity=\"1\" /><path clip-path=\"url(#clip7900)\" d=\"M 0 0 M2999.78 1510.2 L3004.66 1510.2 L3004.66 1516.08 L2999.78 1516.08 L2999.78 1510.2 Z\" fill=\"#000000\" fill-rule=\"evenodd\" fill-opacity=\"1\" /><path clip-path=\"url(#clip7900)\" d=\"M 0 0 M3028.83 1512.14 L3045.15 1512.14 L3045.15 1516.08 L3023.2 1516.08 L3023.2 1512.14 Q3025.86 1509.39 3030.45 1504.76 Q3035.05 1500.11 3036.23 1498.76 Q3038.48 1496.24 3039.36 1494.5 Q3040.26 1492.75 3040.26 1491.06 Q3040.26 1488.3 3038.32 1486.57 Q3036.4 1484.83 3033.29 1484.83 Q3031.1 1484.83 3028.64 1485.59 Q3026.21 1486.36 3023.43 1487.91 L3023.43 1483.19 Q3026.26 1482.05 3028.71 1481.47 Q3031.16 1480.89 3033.2 1480.89 Q3038.57 1480.89 3041.77 1483.58 Q3044.96 1486.26 3044.96 1490.75 Q3044.96 1492.88 3044.15 1494.81 Q3043.36 1496.7 3041.26 1499.3 Q3040.68 1499.97 3037.58 1503.19 Q3034.47 1506.38 3028.83 1512.14 Z\" fill=\"#000000\" fill-rule=\"evenodd\" fill-opacity=\"1\" /><path clip-path=\"url(#clip7900)\" d=\"M 0 0 M3050.26 1481.52 L3068.62 1481.52 L3068.62 1485.45 L3054.54 1485.45 L3054.54 1493.93 Q3055.56 1493.58 3056.58 1493.42 Q3057.6 1493.23 3058.62 1493.23 Q3064.41 1493.23 3067.78 1496.4 Q3071.16 1499.57 3071.16 1504.99 Q3071.16 1510.57 3067.69 1513.67 Q3064.22 1516.75 3057.9 1516.75 Q3055.72 1516.75 3053.46 1516.38 Q3051.21 1516.01 3048.8 1515.27 L3048.8 1510.57 Q3050.89 1511.7 3053.11 1512.26 Q3055.33 1512.81 3057.81 1512.81 Q3061.81 1512.81 3064.15 1510.71 Q3066.49 1508.6 3066.49 1504.99 Q3066.49 1501.38 3064.15 1499.27 Q3061.81 1497.17 3057.81 1497.17 Q3055.93 1497.17 3054.06 1497.58 Q3052.21 1498 3050.26 1498.88 L3050.26 1481.52 Z\" fill=\"#000000\" fill-rule=\"evenodd\" fill-opacity=\"1\" /><path clip-path=\"url(#clip7900)\" d=\"M 0 0 M3076.72 1510.2 L3081.6 1510.2 L3081.6 1514.18 L3077.81 1521.59 L3074.82 1521.59 L3076.72 1514.18 L3076.72 1510.2 Z\" fill=\"#000000\" fill-rule=\"evenodd\" fill-opacity=\"1\" /><path clip-path=\"url(#clip7900)\" d=\"M 0 0 M3105.77 1512.14 L3122.09 1512.14 L3122.09 1516.08 L3100.15 1516.08 L3100.15 1512.14 Q3102.81 1509.39 3107.39 1504.76 Q3112 1500.11 3113.18 1498.76 Q3115.42 1496.24 3116.3 1494.5 Q3117.21 1492.75 3117.21 1491.06 Q3117.21 1488.3 3115.26 1486.57 Q3113.34 1484.83 3110.24 1484.83 Q3108.04 1484.83 3105.59 1485.59 Q3103.16 1486.36 3100.38 1487.91 L3100.38 1483.19 Q3103.2 1482.05 3105.66 1481.47 Q3108.11 1480.89 3110.15 1480.89 Q3115.52 1480.89 3118.71 1483.58 Q3121.91 1486.26 3121.91 1490.75 Q3121.91 1492.88 3121.09 1494.81 Q3120.31 1496.7 3118.2 1499.3 Q3117.62 1499.97 3114.52 1503.19 Q3111.42 1506.38 3105.77 1512.14 Z\" fill=\"#000000\" fill-rule=\"evenodd\" fill-opacity=\"1\" /><path clip-path=\"url(#clip7900)\" d=\"M 0 0 M3137.16 1484.6 Q3133.55 1484.6 3131.72 1488.16 Q3129.91 1491.7 3129.91 1498.83 Q3129.91 1505.94 3131.72 1509.5 Q3133.55 1513.05 3137.16 1513.05 Q3140.79 1513.05 3142.6 1509.5 Q3144.43 1505.94 3144.43 1498.83 Q3144.43 1491.7 3142.6 1488.16 Q3140.79 1484.6 3137.16 1484.6 M3137.16 1480.89 Q3142.97 1480.89 3146.03 1485.5 Q3149.1 1490.08 3149.1 1498.83 Q3149.1 1507.56 3146.03 1512.17 Q3142.97 1516.75 3137.16 1516.75 Q3131.35 1516.75 3128.27 1512.17 Q3125.22 1507.56 3125.22 1498.83 Q3125.22 1490.08 3128.27 1485.5 Q3131.35 1480.89 3137.16 1480.89 Z\" fill=\"#000000\" fill-rule=\"evenodd\" fill-opacity=\"1\" /><path clip-path=\"url(#clip7900)\" d=\"M 0 0 M3190.48 1485.36 L3190.48 1512.24 L3196.13 1512.24 Q3203.29 1512.24 3206.6 1509 Q3209.93 1505.75 3209.93 1498.76 Q3209.93 1491.82 3206.6 1488.6 Q3203.29 1485.36 3196.13 1485.36 L3190.48 1485.36 M3185.81 1481.52 L3195.42 1481.52 Q3205.46 1481.52 3210.16 1485.71 Q3214.86 1489.88 3214.86 1498.76 Q3214.86 1507.7 3210.14 1511.89 Q3205.42 1516.08 3195.42 1516.08 L3185.81 1516.08 L3185.81 1481.52 Z\" fill=\"#000000\" fill-rule=\"evenodd\" fill-opacity=\"1\" /><path clip-path=\"url(#clip7900)\" d=\"M 0 0 M3241.5 1502.05 L3241.5 1504.13 L3221.92 1504.13 Q3222.2 1508.53 3224.56 1510.85 Q3226.94 1513.14 3231.18 1513.14 Q3233.63 1513.14 3235.92 1512.54 Q3238.24 1511.94 3240.51 1510.73 L3240.51 1514.76 Q3238.22 1515.73 3235.81 1516.24 Q3233.4 1516.75 3230.92 1516.75 Q3224.72 1516.75 3221.09 1513.14 Q3217.48 1509.53 3217.48 1503.37 Q3217.48 1497 3220.9 1493.28 Q3224.35 1489.53 3230.18 1489.53 Q3235.42 1489.53 3238.45 1492.91 Q3241.5 1496.26 3241.5 1502.05 M3237.24 1500.8 Q3237.2 1497.31 3235.28 1495.22 Q3233.38 1493.14 3230.23 1493.14 Q3226.67 1493.14 3224.51 1495.15 Q3222.38 1497.17 3222.06 1500.82 L3237.24 1500.8 Z\" fill=\"#000000\" fill-rule=\"evenodd\" fill-opacity=\"1\" /><path clip-path=\"url(#clip7900)\" d=\"M 0 0 M3264.63 1491.15 L3264.63 1495.13 Q3262.82 1494.13 3260.99 1493.65 Q3259.19 1493.14 3257.34 1493.14 Q3253.19 1493.14 3250.9 1495.78 Q3248.61 1498.39 3248.61 1503.14 Q3248.61 1507.88 3250.9 1510.52 Q3253.19 1513.14 3257.34 1513.14 Q3259.19 1513.14 3260.99 1512.65 Q3262.82 1512.14 3264.63 1511.15 L3264.63 1515.08 Q3262.85 1515.92 3260.92 1516.33 Q3259.03 1516.75 3256.87 1516.75 Q3251.02 1516.75 3247.57 1513.07 Q3244.12 1509.39 3244.12 1503.14 Q3244.12 1496.8 3247.59 1493.16 Q3251.09 1489.53 3257.15 1489.53 Q3259.12 1489.53 3260.99 1489.94 Q3262.87 1490.34 3264.63 1491.15 Z\" fill=\"#000000\" fill-rule=\"evenodd\" fill-opacity=\"1\" /><path clip-path=\"url(#clip7900)\" d=\"M 0 0 M3269.7 1510.2 L3274.58 1510.2 L3274.58 1516.08 L3269.7 1516.08 L3269.7 1510.2 Z\" fill=\"#000000\" fill-rule=\"evenodd\" fill-opacity=\"1\" /><path clip-path=\"url(#clip7900)\" d=\"M 0 0 M3298.75 1512.14 L3315.07 1512.14 L3315.07 1516.08 L3293.12 1516.08 L3293.12 1512.14 Q3295.79 1509.39 3300.37 1504.76 Q3304.98 1500.11 3306.16 1498.76 Q3308.4 1496.24 3309.28 1494.5 Q3310.18 1492.75 3310.18 1491.06 Q3310.18 1488.3 3308.24 1486.57 Q3306.32 1484.83 3303.22 1484.83 Q3301.02 1484.83 3298.56 1485.59 Q3296.13 1486.36 3293.35 1487.91 L3293.35 1483.19 Q3296.18 1482.05 3298.63 1481.47 Q3301.09 1480.89 3303.12 1480.89 Q3308.49 1480.89 3311.69 1483.58 Q3314.88 1486.26 3314.88 1490.75 Q3314.88 1492.88 3314.07 1494.81 Q3313.29 1496.7 3311.18 1499.3 Q3310.6 1499.97 3307.5 1503.19 Q3304.4 1506.38 3298.75 1512.14 Z\" fill=\"#000000\" fill-rule=\"evenodd\" fill-opacity=\"1\" /><path clip-path=\"url(#clip7900)\" d=\"M 0 0 M3320.62 1510.2 L3325.51 1510.2 L3325.51 1514.18 L3321.71 1521.59 L3318.72 1521.59 L3320.62 1514.18 L3320.62 1510.2 Z\" fill=\"#000000\" fill-rule=\"evenodd\" fill-opacity=\"1\" /><path clip-path=\"url(#clip7900)\" d=\"M 0 0 M3349.67 1512.14 L3365.99 1512.14 L3365.99 1516.08 L3344.05 1516.08 L3344.05 1512.14 Q3346.71 1509.39 3351.29 1504.76 Q3355.9 1500.11 3357.08 1498.76 Q3359.33 1496.24 3360.21 1494.5 Q3361.11 1492.75 3361.11 1491.06 Q3361.11 1488.3 3359.16 1486.57 Q3357.24 1484.83 3354.14 1484.83 Q3351.94 1484.83 3349.49 1485.59 Q3347.06 1486.36 3344.28 1487.91 L3344.28 1483.19 Q3347.1 1482.05 3349.56 1481.47 Q3352.01 1480.89 3354.05 1480.89 Q3359.42 1480.89 3362.61 1483.58 Q3365.81 1486.26 3365.81 1490.75 Q3365.81 1492.88 3365 1494.81 Q3364.21 1496.7 3362.1 1499.3 Q3361.53 1499.97 3358.42 1503.19 Q3355.32 1506.38 3349.67 1512.14 Z\" fill=\"#000000\" fill-rule=\"evenodd\" fill-opacity=\"1\" /><path clip-path=\"url(#clip7900)\" d=\"M 0 0 M3381.06 1484.6 Q3377.45 1484.6 3375.62 1488.16 Q3373.82 1491.7 3373.82 1498.83 Q3373.82 1505.94 3375.62 1509.5 Q3377.45 1513.05 3381.06 1513.05 Q3384.7 1513.05 3386.5 1509.5 Q3388.33 1505.94 3388.33 1498.83 Q3388.33 1491.7 3386.5 1488.16 Q3384.7 1484.6 3381.06 1484.6 M3381.06 1480.89 Q3386.87 1480.89 3389.93 1485.5 Q3393.01 1490.08 3393.01 1498.83 Q3393.01 1507.56 3389.93 1512.17 Q3386.87 1516.75 3381.06 1516.75 Q3375.25 1516.75 3372.17 1512.17 Q3369.12 1507.56 3369.12 1498.83 Q3369.12 1490.08 3372.17 1485.5 Q3375.25 1480.89 3381.06 1480.89 Z\" fill=\"#000000\" fill-rule=\"evenodd\" fill-opacity=\"1\" /><path clip-path=\"url(#clip7900)\" d=\"M 0 0 M3408.53 1485.36 L3408.53 1512.24 L3414.18 1512.24 Q3421.34 1512.24 3424.65 1509 Q3427.98 1505.75 3427.98 1498.76 Q3427.98 1491.82 3424.65 1488.6 Q3421.34 1485.36 3414.18 1485.36 L3408.53 1485.36 M3403.86 1481.52 L3413.46 1481.52 Q3423.51 1481.52 3428.21 1485.71 Q3432.91 1489.88 3432.91 1498.76 Q3432.91 1507.7 3428.19 1511.89 Q3423.46 1516.08 3413.46 1516.08 L3403.86 1516.08 L3403.86 1481.52 Z\" fill=\"#000000\" fill-rule=\"evenodd\" fill-opacity=\"1\" /><path clip-path=\"url(#clip7900)\" d=\"M 0 0 M3459.55 1502.05 L3459.55 1504.13 L3439.97 1504.13 Q3440.25 1508.53 3442.61 1510.85 Q3444.99 1513.14 3449.23 1513.14 Q3451.68 1513.14 3453.97 1512.54 Q3456.29 1511.94 3458.56 1510.73 L3458.56 1514.76 Q3456.27 1515.73 3453.86 1516.24 Q3451.45 1516.75 3448.97 1516.75 Q3442.77 1516.75 3439.14 1513.14 Q3435.52 1509.53 3435.52 1503.37 Q3435.52 1497 3438.95 1493.28 Q3442.4 1489.53 3448.23 1489.53 Q3453.46 1489.53 3456.5 1492.91 Q3459.55 1496.26 3459.55 1502.05 M3455.29 1500.8 Q3455.25 1497.31 3453.33 1495.22 Q3451.43 1493.14 3448.28 1493.14 Q3444.71 1493.14 3442.56 1495.15 Q3440.43 1497.17 3440.11 1500.82 L3455.29 1500.8 Z\" fill=\"#000000\" fill-rule=\"evenodd\" fill-opacity=\"1\" /><path clip-path=\"url(#clip7900)\" d=\"M 0 0 M3482.68 1491.15 L3482.68 1495.13 Q3480.87 1494.13 3479.04 1493.65 Q3477.24 1493.14 3475.39 1493.14 Q3471.24 1493.14 3468.95 1495.78 Q3466.66 1498.39 3466.66 1503.14 Q3466.66 1507.88 3468.95 1510.52 Q3471.24 1513.14 3475.39 1513.14 Q3477.24 1513.14 3479.04 1512.65 Q3480.87 1512.14 3482.68 1511.15 L3482.68 1515.08 Q3480.9 1515.92 3478.97 1516.33 Q3477.08 1516.75 3474.92 1516.75 Q3469.07 1516.75 3465.62 1513.07 Q3462.17 1509.39 3462.17 1503.14 Q3462.17 1496.8 3465.64 1493.16 Q3469.14 1489.53 3475.2 1489.53 Q3477.17 1489.53 3479.04 1489.94 Q3480.92 1490.34 3482.68 1491.15 Z\" fill=\"#000000\" fill-rule=\"evenodd\" fill-opacity=\"1\" /><path clip-path=\"url(#clip7900)\" d=\"M 0 0 M3487.75 1510.2 L3492.63 1510.2 L3492.63 1516.08 L3487.75 1516.08 L3487.75 1510.2 Z\" fill=\"#000000\" fill-rule=\"evenodd\" fill-opacity=\"1\" /><path clip-path=\"url(#clip7900)\" d=\"M 0 0 M3522.77 1499.67 Q3519.44 1499.67 3517.52 1501.45 Q3515.62 1503.23 3515.62 1506.36 Q3515.62 1509.48 3517.52 1511.26 Q3519.44 1513.05 3522.77 1513.05 Q3526.1 1513.05 3528.02 1511.26 Q3529.95 1509.46 3529.95 1506.36 Q3529.95 1503.23 3528.02 1501.45 Q3526.13 1499.67 3522.77 1499.67 M3518.09 1497.68 Q3515.08 1496.94 3513.39 1494.88 Q3511.73 1492.82 3511.73 1489.85 Q3511.73 1485.71 3514.67 1483.3 Q3517.63 1480.89 3522.77 1480.89 Q3527.93 1480.89 3530.87 1483.3 Q3533.81 1485.71 3533.81 1489.85 Q3533.81 1492.82 3532.12 1494.88 Q3530.45 1496.94 3527.47 1497.68 Q3530.85 1498.46 3532.72 1500.75 Q3534.62 1503.05 3534.62 1506.36 Q3534.62 1511.38 3531.54 1514.06 Q3528.49 1516.75 3522.77 1516.75 Q3517.05 1516.75 3513.97 1514.06 Q3510.92 1511.38 3510.92 1506.36 Q3510.92 1503.05 3512.82 1500.75 Q3514.71 1498.46 3518.09 1497.68 M3516.38 1490.29 Q3516.38 1492.98 3518.05 1494.48 Q3519.74 1495.99 3522.77 1495.99 Q3525.78 1495.99 3527.47 1494.48 Q3529.18 1492.98 3529.18 1490.29 Q3529.18 1487.61 3527.47 1486.1 Q3525.78 1484.6 3522.77 1484.6 Q3519.74 1484.6 3518.05 1486.1 Q3516.38 1487.61 3516.38 1490.29 Z\" fill=\"#000000\" fill-rule=\"evenodd\" fill-opacity=\"1\" /><path clip-path=\"url(#clip7900)\" d=\"M 0 0 M3540.18 1510.2 L3545.06 1510.2 L3545.06 1514.18 L3541.27 1521.59 L3538.28 1521.59 L3540.18 1514.18 L3540.18 1510.2 Z\" fill=\"#000000\" fill-rule=\"evenodd\" fill-opacity=\"1\" /><path clip-path=\"url(#clip7900)\" d=\"M 0 0 M3569.23 1512.14 L3585.55 1512.14 L3585.55 1516.08 L3563.6 1516.08 L3563.6 1512.14 Q3566.26 1509.39 3570.85 1504.76 Q3575.45 1500.11 3576.64 1498.76 Q3578.88 1496.24 3579.76 1494.5 Q3580.66 1492.75 3580.66 1491.06 Q3580.66 1488.3 3578.72 1486.57 Q3576.8 1484.83 3573.7 1484.83 Q3571.5 1484.83 3569.04 1485.59 Q3566.61 1486.36 3563.83 1487.91 L3563.83 1483.19 Q3566.66 1482.05 3569.11 1481.47 Q3571.57 1480.89 3573.6 1480.89 Q3578.97 1480.89 3582.17 1483.58 Q3585.36 1486.26 3585.36 1490.75 Q3585.36 1492.88 3584.55 1494.81 Q3583.76 1496.7 3581.66 1499.3 Q3581.08 1499.97 3577.98 1503.19 Q3574.88 1506.38 3569.23 1512.14 Z\" fill=\"#000000\" fill-rule=\"evenodd\" fill-opacity=\"1\" /><path clip-path=\"url(#clip7900)\" d=\"M 0 0 M3600.62 1484.6 Q3597.01 1484.6 3595.18 1488.16 Q3593.37 1491.7 3593.37 1498.83 Q3593.37 1505.94 3595.18 1509.5 Q3597.01 1513.05 3600.62 1513.05 Q3604.25 1513.05 3606.06 1509.5 Q3607.89 1505.94 3607.89 1498.83 Q3607.89 1491.7 3606.06 1488.16 Q3604.25 1484.6 3600.62 1484.6 M3600.62 1480.89 Q3606.43 1480.89 3609.48 1485.5 Q3612.56 1490.08 3612.56 1498.83 Q3612.56 1507.56 3609.48 1512.17 Q3606.43 1516.75 3600.62 1516.75 Q3594.81 1516.75 3591.73 1512.17 Q3588.67 1507.56 3588.67 1498.83 Q3588.67 1490.08 3591.73 1485.5 Q3594.81 1480.89 3600.62 1480.89 Z\" fill=\"#000000\" fill-rule=\"evenodd\" fill-opacity=\"1\" /><path clip-path=\"url(#clip7900)\" d=\"M 0 0 M3651.36 1485.36 L3651.36 1512.24 L3657.01 1512.24 Q3664.16 1512.24 3667.47 1509 Q3670.81 1505.75 3670.81 1498.76 Q3670.81 1491.82 3667.47 1488.6 Q3664.16 1485.36 3657.01 1485.36 L3651.36 1485.36 M3646.69 1481.52 L3656.29 1481.52 Q3666.34 1481.52 3671.04 1485.71 Q3675.74 1489.88 3675.74 1498.76 Q3675.74 1507.7 3671.01 1511.89 Q3666.29 1516.08 3656.29 1516.08 L3646.69 1516.08 L3646.69 1481.52 Z\" fill=\"#000000\" fill-rule=\"evenodd\" fill-opacity=\"1\" /><path clip-path=\"url(#clip7900)\" d=\"M 0 0 M3702.38 1502.05 L3702.38 1504.13 L3682.8 1504.13 Q3683.07 1508.53 3685.43 1510.85 Q3687.82 1513.14 3692.06 1513.14 Q3694.51 1513.14 3696.8 1512.54 Q3699.12 1511.94 3701.38 1510.73 L3701.38 1514.76 Q3699.09 1515.73 3696.68 1516.24 Q3694.28 1516.75 3691.8 1516.75 Q3685.6 1516.75 3681.96 1513.14 Q3678.35 1509.53 3678.35 1503.37 Q3678.35 1497 3681.78 1493.28 Q3685.23 1489.53 3691.06 1489.53 Q3696.29 1489.53 3699.32 1492.91 Q3702.38 1496.26 3702.38 1502.05 M3698.12 1500.8 Q3698.07 1497.31 3696.15 1495.22 Q3694.25 1493.14 3691.11 1493.14 Q3687.54 1493.14 3685.39 1495.15 Q3683.26 1497.17 3682.93 1500.82 L3698.12 1500.8 Z\" fill=\"#000000\" fill-rule=\"evenodd\" fill-opacity=\"1\" /><path clip-path=\"url(#clip7900)\" d=\"M 0 0 M3725.5 1491.15 L3725.5 1495.13 Q3723.7 1494.13 3721.87 1493.65 Q3720.06 1493.14 3718.21 1493.14 Q3714.07 1493.14 3711.78 1495.78 Q3709.49 1498.39 3709.49 1503.14 Q3709.49 1507.88 3711.78 1510.52 Q3714.07 1513.14 3718.21 1513.14 Q3720.06 1513.14 3721.87 1512.65 Q3723.7 1512.14 3725.5 1511.15 L3725.5 1515.08 Q3723.72 1515.92 3721.8 1516.33 Q3719.9 1516.75 3717.75 1516.75 Q3711.89 1516.75 3708.44 1513.07 Q3704.99 1509.39 3704.99 1503.14 Q3704.99 1496.8 3708.47 1493.16 Q3711.96 1489.53 3718.03 1489.53 Q3719.99 1489.53 3721.87 1489.94 Q3723.74 1490.34 3725.5 1491.15 Z\" fill=\"#000000\" fill-rule=\"evenodd\" fill-opacity=\"1\" /><path clip-path=\"url(#clip7900)\" d=\"M 0 0 M3730.57 1510.2 L3735.46 1510.2 L3735.46 1516.08 L3730.57 1516.08 L3730.57 1510.2 Z\" fill=\"#000000\" fill-rule=\"evenodd\" fill-opacity=\"1\" /><path clip-path=\"url(#clip7900)\" d=\"M 0 0 M3756.41 1512.14 L3764.05 1512.14 L3764.05 1485.78 L3755.74 1487.44 L3755.74 1483.19 L3764 1481.52 L3768.68 1481.52 L3768.68 1512.14 L3776.31 1512.14 L3776.31 1516.08 L3756.41 1516.08 L3756.41 1512.14 Z\" fill=\"#000000\" fill-rule=\"evenodd\" fill-opacity=\"1\" /><path clip-path=\"url(#clip7900)\" d=\"M 0 0 M3781.43 1481.52 L3799.79 1481.52 L3799.79 1485.45 L3785.71 1485.45 L3785.71 1493.93 Q3786.73 1493.58 3787.75 1493.42 Q3788.77 1493.23 3789.79 1493.23 Q3795.57 1493.23 3798.95 1496.4 Q3802.33 1499.57 3802.33 1504.99 Q3802.33 1510.57 3798.86 1513.67 Q3795.39 1516.75 3789.07 1516.75 Q3786.89 1516.75 3784.62 1516.38 Q3782.38 1516.01 3779.97 1515.27 L3779.97 1510.57 Q3782.05 1511.7 3784.28 1512.26 Q3786.5 1512.81 3788.98 1512.81 Q3792.98 1512.81 3795.32 1510.71 Q3797.66 1508.6 3797.66 1504.99 Q3797.66 1501.38 3795.32 1499.27 Q3792.98 1497.17 3788.98 1497.17 Q3787.1 1497.17 3785.23 1497.58 Q3783.37 1498 3781.43 1498.88 L3781.43 1481.52 Z\" fill=\"#000000\" fill-rule=\"evenodd\" fill-opacity=\"1\" /><path clip-path=\"url(#clip7900)\" d=\"M 0 0 M3807.89 1510.2 L3812.77 1510.2 L3812.77 1514.18 L3808.98 1521.59 L3805.99 1521.59 L3807.89 1514.18 L3807.89 1510.2 Z\" fill=\"#000000\" fill-rule=\"evenodd\" fill-opacity=\"1\" /><path clip-path=\"url(#clip7900)\" d=\"M 0 0 M3836.94 1512.14 L3853.26 1512.14 L3853.26 1516.08 L3831.31 1516.08 L3831.31 1512.14 Q3833.98 1509.39 3838.56 1504.76 Q3843.17 1500.11 3844.35 1498.76 Q3846.59 1496.24 3847.47 1494.5 Q3848.37 1492.75 3848.37 1491.06 Q3848.37 1488.3 3846.43 1486.57 Q3844.51 1484.83 3841.41 1484.83 Q3839.21 1484.83 3836.75 1485.59 Q3834.32 1486.36 3831.55 1487.91 L3831.55 1483.19 Q3834.37 1482.05 3836.82 1481.47 Q3839.28 1480.89 3841.31 1480.89 Q3846.68 1480.89 3849.88 1483.58 Q3853.07 1486.26 3853.07 1490.75 Q3853.07 1492.88 3852.26 1494.81 Q3851.48 1496.7 3849.37 1499.3 Q3848.79 1499.97 3845.69 1503.19 Q3842.59 1506.38 3836.94 1512.14 Z\" fill=\"#000000\" fill-rule=\"evenodd\" fill-opacity=\"1\" /><path clip-path=\"url(#clip7900)\" d=\"M 0 0 M3868.33 1484.6 Q3864.72 1484.6 3862.89 1488.16 Q3861.08 1491.7 3861.08 1498.83 Q3861.08 1505.94 3862.89 1509.5 Q3864.72 1513.05 3868.33 1513.05 Q3871.96 1513.05 3873.77 1509.5 Q3875.6 1505.94 3875.6 1498.83 Q3875.6 1491.7 3873.77 1488.16 Q3871.96 1484.6 3868.33 1484.6 M3868.33 1480.89 Q3874.14 1480.89 3877.19 1485.5 Q3880.27 1490.08 3880.27 1498.83 Q3880.27 1507.56 3877.19 1512.17 Q3874.14 1516.75 3868.33 1516.75 Q3862.52 1516.75 3859.44 1512.17 Q3856.38 1507.56 3856.38 1498.83 Q3856.38 1490.08 3859.44 1485.5 Q3862.52 1480.89 3868.33 1480.89 Z\" fill=\"#000000\" fill-rule=\"evenodd\" fill-opacity=\"1\" /><path clip-path=\"url(#clip7900)\" d=\"M 0 0 M115.172 1300.08 L131.491 1300.08 L131.491 1304.01 L109.547 1304.01 L109.547 1300.08 Q112.209 1297.32 116.792 1292.69 Q121.399 1288.04 122.579 1286.7 Q124.825 1284.17 125.704 1282.44 Q126.607 1280.68 126.607 1278.99 Q126.607 1276.23 124.663 1274.5 Q122.741 1272.76 119.64 1272.76 Q117.44 1272.76 114.987 1273.53 Q112.556 1274.29 109.778 1275.84 L109.778 1271.12 Q112.603 1269.98 115.056 1269.41 Q117.51 1268.83 119.547 1268.83 Q124.917 1268.83 128.112 1271.51 Q131.306 1274.2 131.306 1278.69 Q131.306 1280.82 130.496 1282.74 Q129.709 1284.64 127.602 1287.23 Q127.024 1287.9 123.922 1291.12 Q120.82 1294.31 115.172 1300.08 Z\" fill=\"#000000\" fill-rule=\"evenodd\" fill-opacity=\"1\" /><path clip-path=\"url(#clip7900)\" d=\"M 0 0 M135.38 1269.45 L157.602 1269.45 L157.602 1271.44 L145.056 1304.01 L140.172 1304.01 L151.977 1273.39 L135.38 1273.39 L135.38 1269.45 Z\" fill=\"#000000\" fill-rule=\"evenodd\" fill-opacity=\"1\" /><path clip-path=\"url(#clip7900)\" d=\"M 0 0 M172.672 1272.53 Q169.061 1272.53 167.232 1276.1 Q165.426 1279.64 165.426 1286.77 Q165.426 1293.87 167.232 1297.44 Q169.061 1300.98 172.672 1300.98 Q176.306 1300.98 178.111 1297.44 Q179.94 1293.87 179.94 1286.77 Q179.94 1279.64 178.111 1276.1 Q176.306 1272.53 172.672 1272.53 M172.672 1268.83 Q178.482 1268.83 181.537 1273.43 Q184.616 1278.02 184.616 1286.77 Q184.616 1295.49 181.537 1300.1 Q178.482 1304.68 172.672 1304.68 Q166.861 1304.68 163.783 1300.1 Q160.727 1295.49 160.727 1286.77 Q160.727 1278.02 163.783 1273.43 Q166.861 1268.83 172.672 1268.83 Z\" fill=\"#000000\" fill-rule=\"evenodd\" fill-opacity=\"1\" /><path clip-path=\"url(#clip7900)\" d=\"M 0 0 M199.685 1272.53 Q196.074 1272.53 194.246 1276.1 Q192.44 1279.64 192.44 1286.77 Q192.44 1293.87 194.246 1297.44 Q196.074 1300.98 199.685 1300.98 Q203.32 1300.98 205.125 1297.44 Q206.954 1293.87 206.954 1286.77 Q206.954 1279.64 205.125 1276.1 Q203.32 1272.53 199.685 1272.53 M199.685 1268.83 Q205.496 1268.83 208.551 1273.43 Q211.63 1278.02 211.63 1286.77 Q211.63 1295.49 208.551 1300.1 Q205.496 1304.68 199.685 1304.68 Q193.875 1304.68 190.797 1300.1 Q187.741 1295.49 187.741 1286.77 Q187.741 1278.02 190.797 1273.43 Q193.875 1268.83 199.685 1268.83 Z\" fill=\"#000000\" fill-rule=\"evenodd\" fill-opacity=\"1\" /><path clip-path=\"url(#clip7900)\" d=\"M 0 0 M226.699 1272.53 Q223.088 1272.53 221.259 1276.1 Q219.454 1279.64 219.454 1286.77 Q219.454 1293.87 221.259 1297.44 Q223.088 1300.98 226.699 1300.98 Q230.333 1300.98 232.139 1297.44 Q233.968 1293.87 233.968 1286.77 Q233.968 1279.64 232.139 1276.1 Q230.333 1272.53 226.699 1272.53 M226.699 1268.83 Q232.509 1268.83 235.565 1273.43 Q238.644 1278.02 238.644 1286.77 Q238.644 1295.49 235.565 1300.1 Q232.509 1304.68 226.699 1304.68 Q220.889 1304.68 217.81 1300.1 Q214.755 1295.49 214.755 1286.77 Q214.755 1278.02 217.81 1273.43 Q220.889 1268.83 226.699 1268.83 Z\" fill=\"#000000\" fill-rule=\"evenodd\" fill-opacity=\"1\" /><path clip-path=\"url(#clip7900)\" d=\"M 0 0 M114.362 944.31 L130.681 944.31 L130.681 948.246 L108.737 948.246 L108.737 944.31 Q111.399 941.556 115.982 936.926 Q120.589 932.273 121.769 930.931 Q124.015 928.408 124.894 926.672 Q125.797 924.912 125.797 923.223 Q125.797 920.468 123.852 918.732 Q121.931 916.996 118.829 916.996 Q116.63 916.996 114.177 917.76 Q111.746 918.524 108.968 920.074 L108.968 915.352 Q111.792 914.218 114.246 913.639 Q116.7 913.061 118.737 913.061 Q124.107 913.061 127.302 915.746 Q130.496 918.431 130.496 922.922 Q130.496 925.051 129.686 926.973 Q128.899 928.871 126.792 931.463 Q126.214 932.135 123.112 935.352 Q120.01 938.547 114.362 944.31 Z\" fill=\"#000000\" fill-rule=\"evenodd\" fill-opacity=\"1\" /><path clip-path=\"url(#clip7900)\" d=\"M 0 0 M145.75 931.834 Q142.417 931.834 140.496 933.616 Q138.598 935.398 138.598 938.523 Q138.598 941.648 140.496 943.431 Q142.417 945.213 145.75 945.213 Q149.084 945.213 151.005 943.431 Q152.926 941.625 152.926 938.523 Q152.926 935.398 151.005 933.616 Q149.107 931.834 145.75 931.834 M141.075 929.843 Q138.065 929.102 136.376 927.042 Q134.709 924.982 134.709 922.019 Q134.709 917.875 137.649 915.468 Q140.612 913.061 145.75 913.061 Q150.913 913.061 153.852 915.468 Q156.792 917.875 156.792 922.019 Q156.792 924.982 155.102 927.042 Q153.436 929.102 150.45 929.843 Q153.829 930.63 155.704 932.922 Q157.602 935.213 157.602 938.523 Q157.602 943.547 154.524 946.232 Q151.468 948.917 145.75 948.917 Q140.033 948.917 136.954 946.232 Q133.899 943.547 133.899 938.523 Q133.899 935.213 135.797 932.922 Q137.695 930.63 141.075 929.843 M139.362 922.459 Q139.362 925.144 141.028 926.649 Q142.718 928.153 145.75 928.153 Q148.76 928.153 150.45 926.649 Q152.163 925.144 152.163 922.459 Q152.163 919.774 150.45 918.269 Q148.76 916.764 145.75 916.764 Q142.718 916.764 141.028 918.269 Q139.362 919.774 139.362 922.459 Z\" fill=\"#000000\" fill-rule=\"evenodd\" fill-opacity=\"1\" /><path clip-path=\"url(#clip7900)\" d=\"M 0 0 M172.672 916.764 Q169.061 916.764 167.232 920.329 Q165.426 923.871 165.426 931 Q165.426 938.107 167.232 941.672 Q169.061 945.213 172.672 945.213 Q176.306 945.213 178.111 941.672 Q179.94 938.107 179.94 931 Q179.94 923.871 178.111 920.329 Q176.306 916.764 172.672 916.764 M172.672 913.061 Q178.482 913.061 181.537 917.667 Q184.616 922.25 184.616 931 Q184.616 939.727 181.537 944.334 Q178.482 948.917 172.672 948.917 Q166.861 948.917 163.783 944.334 Q160.727 939.727 160.727 931 Q160.727 922.25 163.783 917.667 Q166.861 913.061 172.672 913.061 Z\" fill=\"#000000\" fill-rule=\"evenodd\" fill-opacity=\"1\" /><path clip-path=\"url(#clip7900)\" d=\"M 0 0 M199.685 916.764 Q196.074 916.764 194.246 920.329 Q192.44 923.871 192.44 931 Q192.44 938.107 194.246 941.672 Q196.074 945.213 199.685 945.213 Q203.32 945.213 205.125 941.672 Q206.954 938.107 206.954 931 Q206.954 923.871 205.125 920.329 Q203.32 916.764 199.685 916.764 M199.685 913.061 Q205.496 913.061 208.551 917.667 Q211.63 922.25 211.63 931 Q211.63 939.727 208.551 944.334 Q205.496 948.917 199.685 948.917 Q193.875 948.917 190.797 944.334 Q187.741 939.727 187.741 931 Q187.741 922.25 190.797 917.667 Q193.875 913.061 199.685 913.061 Z\" fill=\"#000000\" fill-rule=\"evenodd\" fill-opacity=\"1\" /><path clip-path=\"url(#clip7900)\" d=\"M 0 0 M226.699 916.764 Q223.088 916.764 221.259 920.329 Q219.454 923.871 219.454 931 Q219.454 938.107 221.259 941.672 Q223.088 945.213 226.699 945.213 Q230.333 945.213 232.139 941.672 Q233.968 938.107 233.968 931 Q233.968 923.871 232.139 920.329 Q230.333 916.764 226.699 916.764 M226.699 913.061 Q232.509 913.061 235.565 917.667 Q238.644 922.25 238.644 931 Q238.644 939.727 235.565 944.334 Q232.509 948.917 226.699 948.917 Q220.889 948.917 217.81 944.334 Q214.755 939.727 214.755 931 Q214.755 922.25 217.81 917.667 Q220.889 913.061 226.699 913.061 Z\" fill=\"#000000\" fill-rule=\"evenodd\" fill-opacity=\"1\" /><path clip-path=\"url(#clip7900)\" d=\"M 0 0 M114.454 588.544 L130.774 588.544 L130.774 592.479 L108.829 592.479 L108.829 588.544 Q111.491 585.789 116.075 581.159 Q120.681 576.507 121.862 575.164 Q124.107 572.641 124.987 570.905 Q125.889 569.145 125.889 567.456 Q125.889 564.701 123.945 562.965 Q122.024 561.229 118.922 561.229 Q116.723 561.229 114.269 561.993 Q111.839 562.757 109.061 564.308 L109.061 559.585 Q111.885 558.451 114.339 557.872 Q116.792 557.294 118.829 557.294 Q124.2 557.294 127.394 559.979 Q130.589 562.664 130.589 567.155 Q130.589 569.284 129.778 571.206 Q128.991 573.104 126.885 575.696 Q126.306 576.368 123.204 579.585 Q120.102 582.78 114.454 588.544 Z\" fill=\"#000000\" fill-rule=\"evenodd\" fill-opacity=\"1\" /><path clip-path=\"url(#clip7900)\" d=\"M 0 0 M135.982 591.761 L135.982 587.502 Q137.741 588.335 139.547 588.775 Q141.352 589.215 143.088 589.215 Q147.718 589.215 150.149 586.113 Q152.602 582.988 152.95 576.645 Q151.607 578.636 149.547 579.701 Q147.487 580.766 144.987 580.766 Q139.801 580.766 136.769 577.641 Q133.76 574.493 133.76 569.053 Q133.76 563.729 136.908 560.511 Q140.056 557.294 145.288 557.294 Q151.283 557.294 154.431 561.9 Q157.602 566.483 157.602 575.233 Q157.602 583.405 153.713 588.289 Q149.848 593.15 143.297 593.15 Q141.538 593.15 139.732 592.803 Q137.926 592.456 135.982 591.761 M145.288 577.108 Q148.436 577.108 150.264 574.956 Q152.116 572.803 152.116 569.053 Q152.116 565.326 150.264 563.173 Q148.436 560.997 145.288 560.997 Q142.139 560.997 140.288 563.173 Q138.459 565.326 138.459 569.053 Q138.459 572.803 140.288 574.956 Q142.139 577.108 145.288 577.108 Z\" fill=\"#000000\" fill-rule=\"evenodd\" fill-opacity=\"1\" /><path clip-path=\"url(#clip7900)\" d=\"M 0 0 M172.672 560.997 Q169.061 560.997 167.232 564.562 Q165.426 568.104 165.426 575.233 Q165.426 582.34 167.232 585.905 Q169.061 589.446 172.672 589.446 Q176.306 589.446 178.111 585.905 Q179.94 582.34 179.94 575.233 Q179.94 568.104 178.111 564.562 Q176.306 560.997 172.672 560.997 M172.672 557.294 Q178.482 557.294 181.537 561.9 Q184.616 566.483 184.616 575.233 Q184.616 583.96 181.537 588.567 Q178.482 593.15 172.672 593.15 Q166.861 593.15 163.783 588.567 Q160.727 583.96 160.727 575.233 Q160.727 566.483 163.783 561.9 Q166.861 557.294 172.672 557.294 Z\" fill=\"#000000\" fill-rule=\"evenodd\" fill-opacity=\"1\" /><path clip-path=\"url(#clip7900)\" d=\"M 0 0 M199.685 560.997 Q196.074 560.997 194.246 564.562 Q192.44 568.104 192.44 575.233 Q192.44 582.34 194.246 585.905 Q196.074 589.446 199.685 589.446 Q203.32 589.446 205.125 585.905 Q206.954 582.34 206.954 575.233 Q206.954 568.104 205.125 564.562 Q203.32 560.997 199.685 560.997 M199.685 557.294 Q205.496 557.294 208.551 561.9 Q211.63 566.483 211.63 575.233 Q211.63 583.96 208.551 588.567 Q205.496 593.15 199.685 593.15 Q193.875 593.15 190.797 588.567 Q187.741 583.96 187.741 575.233 Q187.741 566.483 190.797 561.9 Q193.875 557.294 199.685 557.294 Z\" fill=\"#000000\" fill-rule=\"evenodd\" fill-opacity=\"1\" /><path clip-path=\"url(#clip7900)\" d=\"M 0 0 M226.699 560.997 Q223.088 560.997 221.259 564.562 Q219.454 568.104 219.454 575.233 Q219.454 582.34 221.259 585.905 Q223.088 589.446 226.699 589.446 Q230.333 589.446 232.139 585.905 Q233.968 582.34 233.968 575.233 Q233.968 568.104 232.139 564.562 Q230.333 560.997 226.699 560.997 M226.699 557.294 Q232.509 557.294 235.565 561.9 Q238.644 566.483 238.644 575.233 Q238.644 583.96 235.565 588.567 Q232.509 593.15 226.699 593.15 Q220.889 593.15 217.81 588.567 Q214.755 583.96 214.755 575.233 Q214.755 566.483 217.81 561.9 Q220.889 557.294 226.699 557.294 Z\" fill=\"#000000\" fill-rule=\"evenodd\" fill-opacity=\"1\" /><path clip-path=\"url(#clip7900)\" d=\"M 0 0 M123.459 218.078 Q126.815 218.795 128.69 221.064 Q130.589 223.332 130.589 226.665 Q130.589 231.781 127.07 234.582 Q123.552 237.383 117.07 237.383 Q114.894 237.383 112.579 236.943 Q110.288 236.527 107.834 235.67 L107.834 231.156 Q109.778 232.29 112.093 232.869 Q114.408 233.448 116.931 233.448 Q121.329 233.448 123.621 231.712 Q125.936 229.976 125.936 226.665 Q125.936 223.61 123.783 221.897 Q121.653 220.161 117.834 220.161 L113.806 220.161 L113.806 216.318 L118.019 216.318 Q121.468 216.318 123.297 214.953 Q125.126 213.564 125.126 210.971 Q125.126 208.309 123.227 206.897 Q121.352 205.462 117.834 205.462 Q115.913 205.462 113.714 205.879 Q111.515 206.295 108.876 207.175 L108.876 203.008 Q111.538 202.267 113.853 201.897 Q116.19 201.527 118.251 201.527 Q123.575 201.527 126.677 203.957 Q129.778 206.365 129.778 210.485 Q129.778 213.355 128.135 215.346 Q126.491 217.314 123.459 218.078 Z\" fill=\"#000000\" fill-rule=\"evenodd\" fill-opacity=\"1\" /><path clip-path=\"url(#clip7900)\" d=\"M 0 0 M145.658 205.23 Q142.047 205.23 140.218 208.795 Q138.413 212.337 138.413 219.466 Q138.413 226.573 140.218 230.138 Q142.047 233.679 145.658 233.679 Q149.292 233.679 151.098 230.138 Q152.926 226.573 152.926 219.466 Q152.926 212.337 151.098 208.795 Q149.292 205.23 145.658 205.23 M145.658 201.527 Q151.468 201.527 154.524 206.133 Q157.602 210.717 157.602 219.466 Q157.602 228.193 154.524 232.8 Q151.468 237.383 145.658 237.383 Q139.848 237.383 136.769 232.8 Q133.714 228.193 133.714 219.466 Q133.714 210.717 136.769 206.133 Q139.848 201.527 145.658 201.527 Z\" fill=\"#000000\" fill-rule=\"evenodd\" fill-opacity=\"1\" /><path clip-path=\"url(#clip7900)\" d=\"M 0 0 M172.672 205.23 Q169.061 205.23 167.232 208.795 Q165.426 212.337 165.426 219.466 Q165.426 226.573 167.232 230.138 Q169.061 233.679 172.672 233.679 Q176.306 233.679 178.111 230.138 Q179.94 226.573 179.94 219.466 Q179.94 212.337 178.111 208.795 Q176.306 205.23 172.672 205.23 M172.672 201.527 Q178.482 201.527 181.537 206.133 Q184.616 210.717 184.616 219.466 Q184.616 228.193 181.537 232.8 Q178.482 237.383 172.672 237.383 Q166.861 237.383 163.783 232.8 Q160.727 228.193 160.727 219.466 Q160.727 210.717 163.783 206.133 Q166.861 201.527 172.672 201.527 Z\" fill=\"#000000\" fill-rule=\"evenodd\" fill-opacity=\"1\" /><path clip-path=\"url(#clip7900)\" d=\"M 0 0 M199.685 205.23 Q196.074 205.23 194.246 208.795 Q192.44 212.337 192.44 219.466 Q192.44 226.573 194.246 230.138 Q196.074 233.679 199.685 233.679 Q203.32 233.679 205.125 230.138 Q206.954 226.573 206.954 219.466 Q206.954 212.337 205.125 208.795 Q203.32 205.23 199.685 205.23 M199.685 201.527 Q205.496 201.527 208.551 206.133 Q211.63 210.717 211.63 219.466 Q211.63 228.193 208.551 232.8 Q205.496 237.383 199.685 237.383 Q193.875 237.383 190.797 232.8 Q187.741 228.193 187.741 219.466 Q187.741 210.717 190.797 206.133 Q193.875 201.527 199.685 201.527 Z\" fill=\"#000000\" fill-rule=\"evenodd\" fill-opacity=\"1\" /><path clip-path=\"url(#clip7900)\" d=\"M 0 0 M226.699 205.23 Q223.088 205.23 221.259 208.795 Q219.454 212.337 219.454 219.466 Q219.454 226.573 221.259 230.138 Q223.088 233.679 226.699 233.679 Q230.333 233.679 232.139 230.138 Q233.968 226.573 233.968 219.466 Q233.968 212.337 232.139 208.795 Q230.333 205.23 226.699 205.23 M226.699 201.527 Q232.509 201.527 235.565 206.133 Q238.644 210.717 238.644 219.466 Q238.644 228.193 235.565 232.8 Q232.509 237.383 226.699 237.383 Q220.889 237.383 217.81 232.8 Q214.755 228.193 214.755 219.466 Q214.755 210.717 217.81 206.133 Q220.889 201.527 226.699 201.527 Z\" fill=\"#000000\" fill-rule=\"evenodd\" fill-opacity=\"1\" /><path clip-path=\"url(#clip7900)\" d=\"M 0 0 M2021.06 1557.3 L2021.06 1567.42 L2033.13 1567.42 L2033.13 1571.97 L2021.06 1571.97 L2021.06 1591.33 Q2021.06 1595.69 2022.24 1596.93 Q2023.45 1598.17 2027.11 1598.17 L2033.13 1598.17 L2033.13 1603.07 L2027.11 1603.07 Q2020.33 1603.07 2017.75 1600.56 Q2015.18 1598.01 2015.18 1591.33 L2015.18 1571.97 L2010.88 1571.97 L2010.88 1567.42 L2015.18 1567.42 L2015.18 1557.3 L2021.06 1557.3 Z\" fill=\"#000000\" fill-rule=\"evenodd\" fill-opacity=\"1\" /><path clip-path=\"url(#clip7900)\" d=\"M 0 0 M2039.27 1567.42 L2045.13 1567.42 L2045.13 1603.07 L2039.27 1603.07 L2039.27 1567.42 M2039.27 1553.55 L2045.13 1553.55 L2045.13 1560.96 L2039.27 1560.96 L2039.27 1553.55 Z\" fill=\"#000000\" fill-rule=\"evenodd\" fill-opacity=\"1\" /><path clip-path=\"url(#clip7900)\" d=\"M 0 0 M2079.02 1574.27 Q2081.22 1570.32 2084.28 1568.44 Q2087.33 1566.56 2091.47 1566.56 Q2097.04 1566.56 2100.06 1570.48 Q2103.09 1574.36 2103.09 1581.55 L2103.09 1603.07 L2097.2 1603.07 L2097.2 1581.75 Q2097.2 1576.62 2095.38 1574.14 Q2093.57 1571.66 2089.85 1571.66 Q2085.29 1571.66 2082.65 1574.68 Q2080.01 1577.7 2080.01 1582.92 L2080.01 1603.07 L2074.12 1603.07 L2074.12 1581.75 Q2074.12 1576.59 2072.31 1574.14 Q2070.49 1571.66 2066.71 1571.66 Q2062.22 1571.66 2059.58 1574.71 Q2056.93 1577.74 2056.93 1582.92 L2056.93 1603.07 L2051.05 1603.07 L2051.05 1567.42 L2056.93 1567.42 L2056.93 1572.96 Q2058.94 1569.68 2061.74 1568.12 Q2064.54 1566.56 2068.39 1566.56 Q2072.28 1566.56 2074.98 1568.54 Q2077.72 1570.51 2079.02 1574.27 Z\" fill=\"#000000\" fill-rule=\"evenodd\" fill-opacity=\"1\" /><path clip-path=\"url(#clip7900)\" d=\"M 0 0 M2139.72 1583.78 L2139.72 1586.65 L2112.79 1586.65 Q2113.18 1592.69 2116.42 1595.88 Q2119.7 1599.03 2125.53 1599.03 Q2128.9 1599.03 2132.05 1598.2 Q2135.23 1597.37 2138.35 1595.72 L2138.35 1601.26 Q2135.2 1602.59 2131.89 1603.29 Q2128.58 1603.99 2125.18 1603.99 Q2116.64 1603.99 2111.65 1599.03 Q2106.68 1594.06 2106.68 1585.6 Q2106.68 1576.84 2111.39 1571.72 Q2116.14 1566.56 2124.16 1566.56 Q2131.35 1566.56 2135.52 1571.21 Q2139.72 1575.83 2139.72 1583.78 M2133.86 1582.06 Q2133.8 1577.26 2131.16 1574.39 Q2128.55 1571.53 2124.22 1571.53 Q2119.32 1571.53 2116.36 1574.3 Q2113.43 1577.07 2112.98 1582.1 L2133.86 1582.06 Z\" fill=\"#000000\" fill-rule=\"evenodd\" fill-opacity=\"1\" /><path clip-path=\"url(#clip7900)\" d=\"M 0 0 M18.7301 827.498 L18.7301 821.291 L48.6489 810.151 L18.7301 799.011 L18.7301 792.805 L54.378 806.173 L54.378 814.13 L18.7301 827.498 Z\" fill=\"#000000\" fill-rule=\"evenodd\" fill-opacity=\"1\" /><path clip-path=\"url(#clip7900)\" d=\"M 0 0 M36.4586 770.461 Q36.4586 777.559 38.0818 780.296 Q39.7051 783.034 43.62 783.034 Q46.7392 783.034 48.5852 780.997 Q50.3995 778.928 50.3995 775.395 Q50.3995 770.525 46.962 767.597 Q43.4927 764.637 37.7635 764.637 L36.4586 764.637 L36.4586 770.461 M34.0396 758.78 L54.378 758.78 L54.378 764.637 L48.9672 764.637 Q52.2137 766.642 53.7733 769.634 Q55.3011 772.626 55.3011 776.954 Q55.3011 782.429 52.2455 785.675 Q49.1582 788.89 44.0019 788.89 Q37.9863 788.89 34.9308 784.88 Q31.8753 780.837 31.8753 772.848 L31.8753 764.637 L31.3023 764.637 Q27.2601 764.637 25.064 767.31 Q22.836 769.952 22.836 774.758 Q22.836 777.814 23.568 780.71 Q24.3001 783.606 25.7642 786.28 L20.3533 786.28 Q19.112 783.065 18.5073 780.042 Q17.8707 777.018 17.8707 774.153 Q17.8707 766.419 21.8811 762.6 Q25.8915 758.78 34.0396 758.78 Z\" fill=\"#000000\" fill-rule=\"evenodd\" fill-opacity=\"1\" /><path clip-path=\"url(#clip7900)\" d=\"M 0 0 M4.85284 752.637 L4.85284 746.781 L54.378 746.781 L54.378 752.637 L4.85284 752.637 Z\" fill=\"#000000\" fill-rule=\"evenodd\" fill-opacity=\"1\" /><path clip-path=\"url(#clip7900)\" d=\"M 0 0 M40.3098 741.243 L18.7301 741.243 L18.7301 735.386 L40.087 735.386 Q45.1478 735.386 47.694 733.413 Q50.2085 731.439 50.2085 727.493 Q50.2085 722.75 47.1848 720.013 Q44.1611 717.244 38.9412 717.244 L18.7301 717.244 L18.7301 711.388 L54.378 711.388 L54.378 717.244 L48.9035 717.244 Q52.15 719.376 53.7415 722.209 Q55.3011 725.01 55.3011 728.734 Q55.3011 734.877 51.4816 738.06 Q47.6622 741.243 40.3098 741.243 M17.8707 726.506 L17.8707 726.506 Z\" fill=\"#000000\" fill-rule=\"evenodd\" fill-opacity=\"1\" /><path clip-path=\"url(#clip7900)\" d=\"M 0 0 M35.0899 674.753 L37.9545 674.753 L37.9545 701.68 Q44.0019 701.298 47.1848 698.051 Q50.3358 694.773 50.3358 688.948 Q50.3358 685.575 49.5083 682.424 Q48.6807 679.241 47.0256 676.121 L52.5638 676.121 Q53.9006 679.273 54.6008 682.583 Q55.3011 685.893 55.3011 689.299 Q55.3011 697.829 50.3358 702.826 Q45.3706 707.791 36.9042 707.791 Q28.1513 707.791 23.0269 703.08 Q17.8707 698.338 17.8707 690.317 Q17.8707 683.124 22.5177 678.954 Q27.1328 674.753 35.0899 674.753 M33.3712 680.609 Q28.5651 680.673 25.7005 683.315 Q22.836 685.925 22.836 690.253 Q22.836 695.155 25.605 698.115 Q28.3741 701.043 33.403 701.489 L33.3712 680.609 Z\" fill=\"#000000\" fill-rule=\"evenodd\" fill-opacity=\"1\" /><polyline clip-path=\"url(#clip7902)\" style=\"stroke:#009af9; stroke-width:4; stroke-opacity:1; fill:none\" points=\"\n",
       "  379.586,991.802 416.053,900.37 452.52,848.783 488.987,801.111 525.454,910.687 561.921,949.821 598.388,949.821 634.855,949.821 671.322,1114.19 707.789,1168.26 \n",
       "  744.256,1121.66 780.723,1252.93 817.19,1201.7 853.657,1201.7 890.124,1201.7 926.591,1029.51 963.058,1071.14 999.525,921.716 1035.99,916.379 1072.46,980.417 \n",
       "  1108.93,980.417 1145.39,980.417 1181.86,872.976 1218.33,805.024 1254.79,799.332 1291.26,767.669 1327.73,690.467 1364.19,690.467 1400.66,690.467 1437.13,590.141 \n",
       "  1473.59,643.15 1510.06,648.842 1546.53,740.275 1583,631.054 1619.46,631.054 1655.93,631.054 1692.4,677.66 1728.86,726.4 1765.33,770.515 1801.8,781.188 \n",
       "  1838.26,775.495 1874.73,775.495 1911.2,775.495 1947.67,864.793 1984.13,1034.85 2020.6,1250.44 2057.07,1325.16 2093.53,1415.16 2130,1415.16 2166.47,1415.16 \n",
       "  2202.93,1271.43 2239.4,1059.04 2275.87,823.524 2312.33,754.861 2348.8,777.274 2385.27,777.274 2421.74,777.274 2458.2,242.912 2494.67,404.786 2531.14,364.229 \n",
       "  2567.6,464.199 2604.07,376.325 2640.54,376.325 2677,376.325 2713.47,232.239 2749.94,264.97 2786.41,243.98 2822.87,388.421 2859.34,407.988 2895.81,407.988 \n",
       "  2932.27,407.988 2968.74,337.546 3005.21,177.807 3041.67,198.441 3078.14,198.441 3114.61,214.095 3151.07,214.095 3187.54,214.095 3224.01,271.018 3260.48,189.903 \n",
       "  3296.94,253.941 3333.41,179.942 3369.88,141.875 3406.34,141.875 3442.81,141.875 3479.28,136.538 3515.74,131.913 3552.21,105.586 3588.68,196.663 3625.15,194.172 \n",
       "  3661.61,194.172 3698.08,194.172 3734.55,194.172 3771.01,194.172 \n",
       "  \"/>\n",
       "<polyline clip-path=\"url(#clip7902)\" style=\"stroke:#e26f46; stroke-width:4; stroke-opacity:1; fill:none\" points=\"\n",
       "  379.586,995.715 416.053,905.706 452.52,837.399 488.987,793.284 525.454,917.802 561.921,953.379 598.388,950.533 634.855,955.514 671.322,1139.09 707.789,1147.27 \n",
       "  744.256,1120.59 780.723,1244.04 817.19,1196.37 853.657,1192.1 890.124,1193.17 926.591,1027.02 963.058,1064.73 999.525,931.321 1035.99,926.696 1072.46,979.35 \n",
       "  1108.93,978.638 1145.39,977.215 1181.86,866.216 1218.33,803.245 1254.79,814.274 1291.26,765.89 1327.73,684.063 1364.19,694.025 1400.66,704.698 1437.13,591.92 \n",
       "  1473.59,628.208 1510.06,638.169 1546.53,736.361 1583,639.593 1619.46,642.794 1655.93,645.996 1692.4,673.035 1728.86,721.419 1765.33,764.822 1801.8,786.88 \n",
       "  1838.26,779.765 1874.73,779.765 1911.2,784.034 1947.67,876.178 1984.13,1036.63 2020.6,1249.38 2057.07,1354.68 2093.53,1411.61 2130,1408.4 2166.47,1403.42 \n",
       "  2202.93,1260.76 2239.4,1065.09 2275.87,839.534 2312.33,754.149 2348.8,773.361 2385.27,760.553 2421.74,752.371 2458.2,267.46 2494.67,420.084 2531.14,362.45 \n",
       "  2567.6,461.709 2604.07,384.863 2640.54,383.796 2677,381.306 2713.47,227.259 2749.94,269.595 2786.41,241.134 2822.87,388.421 2859.34,398.027 2895.81,401.584 \n",
       "  2932.27,401.584 2968.74,357.114 3005.21,196.307 3041.67,199.153 3078.14,197.018 3114.61,208.047 3151.07,215.874 3187.54,224.768 3224.01,274.931 3260.48,187.057 \n",
       "  3296.94,241.489 3333.41,180.653 3369.88,136.894 3406.34,138.673 3442.81,141.875 3479.28,161.086 3515.74,137.605 3552.21,87.0864 3588.68,159.663 3625.15,195.951 \n",
       "  3661.61,208.047 3698.08,226.547 3734.55,244.335 3771.01,255.364 \n",
       "  \"/>\n",
       "<polyline clip-path=\"url(#clip7902)\" style=\"stroke:#3da44d; stroke-width:4; stroke-opacity:1; fill:none\" points=\"\n",
       "  3643.38,2862.77 3643.38,-1360.52 \n",
       "  \"/>\n",
       "<path clip-path=\"url(#clip7900)\" d=\"\n",
       "M395.444 463.884 L1217.72 463.884 L1217.72 221.964 L395.444 221.964  Z\n",
       "  \" fill=\"#ffffff\" fill-rule=\"evenodd\" fill-opacity=\"1\"/>\n",
       "<polyline clip-path=\"url(#clip7900)\" style=\"stroke:#000000; stroke-width:4; stroke-opacity:1; fill:none\" points=\"\n",
       "  395.444,463.884 1217.72,463.884 1217.72,221.964 395.444,221.964 395.444,463.884 \n",
       "  \"/>\n",
       "<polyline clip-path=\"url(#clip7900)\" style=\"stroke:#009af9; stroke-width:4; stroke-opacity:1; fill:none\" points=\"\n",
       "  434.644,282.444 669.844,282.444 \n",
       "  \"/>\n",
       "<path clip-path=\"url(#clip7900)\" d=\"M 0 0 M713.719 269.007 L713.719 295.882 L719.368 295.882 Q726.52 295.882 729.83 292.641 Q733.164 289.4 733.164 282.409 Q733.164 275.465 729.83 272.247 Q726.52 269.007 719.368 269.007 L713.719 269.007 M709.044 265.164 L718.65 265.164 Q728.696 265.164 733.395 269.354 Q738.094 273.521 738.094 282.409 Q738.094 291.345 733.372 295.534 Q728.65 299.724 718.65 299.724 L709.044 299.724 L709.044 265.164 Z\" fill=\"#000000\" fill-rule=\"evenodd\" fill-opacity=\"1\" /><path clip-path=\"url(#clip7900)\" d=\"M 0 0 M742.747 265.164 L747.423 265.164 L747.423 297.317 Q747.423 303.567 745.039 306.391 Q742.678 309.215 737.423 309.215 L735.641 309.215 L735.641 305.28 L737.099 305.28 Q740.201 305.28 741.474 303.544 Q742.747 301.807 742.747 297.317 L742.747 265.164 Z\" fill=\"#000000\" fill-rule=\"evenodd\" fill-opacity=\"1\" /><path clip-path=\"url(#clip7900)\" d=\"M 0 0 M752.076 265.164 L756.752 265.164 L756.752 299.724 L752.076 299.724 L752.076 265.164 Z\" fill=\"#000000\" fill-rule=\"evenodd\" fill-opacity=\"1\" /><path clip-path=\"url(#clip7900)\" d=\"M 0 0 M772.955 269.771 L766.613 286.97 L779.321 286.97 L772.955 269.771 M770.316 265.164 L775.617 265.164 L788.788 299.724 L783.927 299.724 L780.779 290.858 L765.201 290.858 L762.052 299.724 L757.122 299.724 L770.316 265.164 Z\" fill=\"#000000\" fill-rule=\"evenodd\" fill-opacity=\"1\" /><polyline clip-path=\"url(#clip7900)\" style=\"stroke:#e26f46; stroke-width:4; stroke-opacity:1; fill:none\" points=\"\n",
       "  434.644,342.924 669.844,342.924 \n",
       "  \"/>\n",
       "<path clip-path=\"url(#clip7900)\" d=\"M 0 0 M713.326 356.315 L713.326 370.065 L709.044 370.065 L709.044 334.278 L713.326 334.278 L713.326 338.213 Q714.668 335.899 716.706 334.788 Q718.766 333.653 721.613 333.653 Q726.335 333.653 729.275 337.403 Q732.238 341.153 732.238 347.264 Q732.238 353.375 729.275 357.125 Q726.335 360.875 721.613 360.875 Q718.766 360.875 716.706 359.764 Q714.668 358.63 713.326 356.315 M727.817 347.264 Q727.817 342.565 725.872 339.903 Q723.951 337.218 720.571 337.218 Q717.192 337.218 715.247 339.903 Q713.326 342.565 713.326 347.264 Q713.326 351.963 715.247 354.649 Q717.192 357.311 720.571 357.311 Q723.951 357.311 725.872 354.649 Q727.817 351.963 727.817 347.264 Z\" fill=\"#000000\" fill-rule=\"evenodd\" fill-opacity=\"1\" /><path clip-path=\"url(#clip7900)\" d=\"M 0 0 M751.728 338.26 Q751.011 337.843 750.154 337.658 Q749.321 337.45 748.303 337.45 Q744.691 337.45 742.747 339.811 Q740.826 342.149 740.826 346.547 L740.826 360.204 L736.543 360.204 L736.543 334.278 L740.826 334.278 L740.826 338.306 Q742.168 335.945 744.321 334.811 Q746.474 333.653 749.553 333.653 Q749.992 333.653 750.525 333.723 Q751.057 333.769 751.705 333.885 L751.728 338.26 Z\" fill=\"#000000\" fill-rule=\"evenodd\" fill-opacity=\"1\" /><path clip-path=\"url(#clip7900)\" d=\"M 0 0 M777.33 346.176 L777.33 348.26 L757.747 348.26 Q758.025 352.658 760.386 354.973 Q762.77 357.264 767.006 357.264 Q769.46 357.264 771.752 356.662 Q774.066 356.061 776.335 354.857 L776.335 358.885 Q774.043 359.857 771.636 360.366 Q769.228 360.875 766.752 360.875 Q760.548 360.875 756.914 357.264 Q753.303 353.653 753.303 347.496 Q753.303 341.13 756.728 337.403 Q760.178 333.653 766.011 333.653 Q771.242 333.653 774.275 337.033 Q777.33 340.389 777.33 346.176 M773.071 344.926 Q773.025 341.431 771.103 339.348 Q769.205 337.264 766.057 337.264 Q762.492 337.264 760.34 339.278 Q758.21 341.292 757.886 344.95 L773.071 344.926 Z\" fill=\"#000000\" fill-rule=\"evenodd\" fill-opacity=\"1\" /><path clip-path=\"url(#clip7900)\" d=\"M 0 0 M798.858 338.213 L798.858 324.186 L803.117 324.186 L803.117 360.204 L798.858 360.204 L798.858 356.315 Q797.515 358.63 795.455 359.764 Q793.418 360.875 790.548 360.875 Q785.849 360.875 782.886 357.125 Q779.946 353.375 779.946 347.264 Q779.946 341.153 782.886 337.403 Q785.849 333.653 790.548 333.653 Q793.418 333.653 795.455 334.788 Q797.515 335.899 798.858 338.213 M784.344 347.264 Q784.344 351.963 786.265 354.649 Q788.21 357.311 791.589 357.311 Q794.969 357.311 796.913 354.649 Q798.858 351.963 798.858 347.264 Q798.858 342.565 796.913 339.903 Q794.969 337.218 791.589 337.218 Q788.21 337.218 786.265 339.903 Q784.344 342.565 784.344 347.264 Z\" fill=\"#000000\" fill-rule=\"evenodd\" fill-opacity=\"1\" /><path clip-path=\"url(#clip7900)\" d=\"M 0 0 M807.585 334.278 L811.844 334.278 L811.844 360.204 L807.585 360.204 L807.585 334.278 M807.585 324.186 L811.844 324.186 L811.844 329.579 L807.585 329.579 L807.585 324.186 Z\" fill=\"#000000\" fill-rule=\"evenodd\" fill-opacity=\"1\" /><path clip-path=\"url(#clip7900)\" d=\"M 0 0 M820.524 326.917 L820.524 334.278 L829.298 334.278 L829.298 337.588 L820.524 337.588 L820.524 351.662 Q820.524 354.834 821.381 355.737 Q822.261 356.639 824.923 356.639 L829.298 356.639 L829.298 360.204 L824.923 360.204 Q819.992 360.204 818.117 358.375 Q816.242 356.524 816.242 351.662 L816.242 337.588 L813.117 337.588 L813.117 334.278 L816.242 334.278 L816.242 326.917 L820.524 326.917 Z\" fill=\"#000000\" fill-rule=\"evenodd\" fill-opacity=\"1\" /><path clip-path=\"url(#clip7900)\" d=\"M 0 0 M833.765 334.278 L838.024 334.278 L838.024 360.204 L833.765 360.204 L833.765 334.278 M833.765 324.186 L838.024 324.186 L838.024 329.579 L833.765 329.579 L833.765 324.186 Z\" fill=\"#000000\" fill-rule=\"evenodd\" fill-opacity=\"1\" /><path clip-path=\"url(#clip7900)\" d=\"M 0 0 M852.538 337.264 Q849.112 337.264 847.121 339.95 Q845.131 342.612 845.131 347.264 Q845.131 351.917 847.098 354.602 Q849.089 357.264 852.538 357.264 Q855.941 357.264 857.932 354.579 Q859.922 351.894 859.922 347.264 Q859.922 342.658 857.932 339.973 Q855.941 337.264 852.538 337.264 M852.538 333.653 Q858.094 333.653 861.265 337.264 Q864.436 340.875 864.436 347.264 Q864.436 353.63 861.265 357.264 Q858.094 360.875 852.538 360.875 Q846.959 360.875 843.788 357.264 Q840.64 353.63 840.64 347.264 Q840.64 340.875 843.788 337.264 Q846.959 333.653 852.538 333.653 Z\" fill=\"#000000\" fill-rule=\"evenodd\" fill-opacity=\"1\" /><path clip-path=\"url(#clip7900)\" d=\"M 0 0 M890.455 344.556 L890.455 360.204 L886.195 360.204 L886.195 344.695 Q886.195 341.014 884.76 339.186 Q883.325 337.357 880.455 337.357 Q877.006 337.357 875.015 339.556 Q873.024 341.755 873.024 345.551 L873.024 360.204 L868.742 360.204 L868.742 334.278 L873.024 334.278 L873.024 338.306 Q874.552 335.968 876.612 334.811 Q878.695 333.653 881.404 333.653 Q885.871 333.653 888.163 336.431 Q890.455 339.186 890.455 344.556 Z\" fill=\"#000000\" fill-rule=\"evenodd\" fill-opacity=\"1\" /><path clip-path=\"url(#clip7900)\" d=\"M 0 0 M911.45 335.042 L911.45 339.07 Q909.644 338.144 907.7 337.681 Q905.755 337.218 903.672 337.218 Q900.501 337.218 898.904 338.19 Q897.33 339.163 897.33 341.107 Q897.33 342.588 898.464 343.445 Q899.598 344.278 903.024 345.042 L904.482 345.366 Q909.019 346.338 910.917 348.121 Q912.839 349.88 912.839 353.051 Q912.839 356.662 909.968 358.769 Q907.121 360.875 902.121 360.875 Q900.038 360.875 897.769 360.459 Q895.524 360.065 893.024 359.255 L893.024 354.857 Q895.385 356.084 897.677 356.709 Q899.968 357.311 902.214 357.311 Q905.223 357.311 906.843 356.292 Q908.464 355.25 908.464 353.375 Q908.464 351.639 907.283 350.713 Q906.126 349.787 902.167 348.931 L900.686 348.584 Q896.728 347.75 894.968 346.038 Q893.209 344.301 893.209 341.292 Q893.209 337.635 895.802 335.644 Q898.394 333.653 903.163 333.653 Q905.524 333.653 907.607 334.001 Q909.691 334.348 911.45 335.042 Z\" fill=\"#000000\" fill-rule=\"evenodd\" fill-opacity=\"1\" /><polyline clip-path=\"url(#clip7900)\" style=\"stroke:#3da44d; stroke-width:4; stroke-opacity:1; fill:none\" points=\"\n",
       "  434.644,403.404 669.844,403.404 \n",
       "  \"/>\n",
       "<path clip-path=\"url(#clip7900)\" d=\"M 0 0 M709.044 386.124 L738.279 386.124 L738.279 390.059 L726.011 390.059 L726.011 420.684 L721.312 420.684 L721.312 390.059 L709.044 390.059 L709.044 386.124 Z\" fill=\"#000000\" fill-rule=\"evenodd\" fill-opacity=\"1\" /><path clip-path=\"url(#clip7900)\" d=\"M 0 0 M744.738 397.744 Q741.312 397.744 739.321 400.43 Q737.33 403.092 737.33 407.744 Q737.33 412.397 739.298 415.082 Q741.289 417.744 744.738 417.744 Q748.141 417.744 750.131 415.059 Q752.122 412.374 752.122 407.744 Q752.122 403.138 750.131 400.453 Q748.141 397.744 744.738 397.744 M744.738 394.133 Q750.293 394.133 753.465 397.744 Q756.636 401.355 756.636 407.744 Q756.636 414.11 753.465 417.744 Q750.293 421.355 744.738 421.355 Q739.159 421.355 735.988 417.744 Q732.84 414.11 732.84 407.744 Q732.84 401.355 735.988 397.744 Q739.159 394.133 744.738 394.133 Z\" fill=\"#000000\" fill-rule=\"evenodd\" fill-opacity=\"1\" /><path clip-path=\"url(#clip7900)\" d=\"M 0 0 M778.164 398.693 L778.164 384.666 L782.423 384.666 L782.423 420.684 L778.164 420.684 L778.164 416.795 Q776.821 419.11 774.761 420.244 Q772.724 421.355 769.853 421.355 Q765.154 421.355 762.191 417.605 Q759.252 413.855 759.252 407.744 Q759.252 401.633 762.191 397.883 Q765.154 394.133 769.853 394.133 Q772.724 394.133 774.761 395.268 Q776.821 396.379 778.164 398.693 M763.65 407.744 Q763.65 412.443 765.571 415.129 Q767.515 417.791 770.895 417.791 Q774.275 417.791 776.219 415.129 Q778.164 412.443 778.164 407.744 Q778.164 403.045 776.219 400.383 Q774.275 397.698 770.895 397.698 Q767.515 397.698 765.571 400.383 Q763.65 403.045 763.65 407.744 Z\" fill=\"#000000\" fill-rule=\"evenodd\" fill-opacity=\"1\" /><path clip-path=\"url(#clip7900)\" d=\"M 0 0 M798.673 407.652 Q793.511 407.652 791.52 408.832 Q789.529 410.013 789.529 412.86 Q789.529 415.129 791.011 416.471 Q792.515 417.791 795.085 417.791 Q798.626 417.791 800.756 415.291 Q802.909 412.767 802.909 408.601 L802.909 407.652 L798.673 407.652 M807.168 405.893 L807.168 420.684 L802.909 420.684 L802.909 416.749 Q801.45 419.11 799.275 420.244 Q797.099 421.355 793.95 421.355 Q789.969 421.355 787.608 419.133 Q785.27 416.888 785.27 413.138 Q785.27 408.763 788.187 406.541 Q791.126 404.318 796.937 404.318 L802.909 404.318 L802.909 403.902 Q802.909 400.962 800.964 399.365 Q799.043 397.744 795.548 397.744 Q793.325 397.744 791.219 398.277 Q789.113 398.809 787.168 399.874 L787.168 395.939 Q789.506 395.036 791.705 394.596 Q793.904 394.133 795.987 394.133 Q801.612 394.133 804.39 397.05 Q807.168 399.967 807.168 405.893 Z\" fill=\"#000000\" fill-rule=\"evenodd\" fill-opacity=\"1\" /><path clip-path=\"url(#clip7900)\" d=\"M 0 0 M822.423 423.091 Q820.617 427.721 818.904 429.133 Q817.191 430.545 814.321 430.545 L810.918 430.545 L810.918 426.98 L813.418 426.98 Q815.177 426.98 816.149 426.147 Q817.122 425.314 818.302 422.212 L819.066 420.267 L808.58 394.758 L813.094 394.758 L821.196 415.036 L829.298 394.758 L833.811 394.758 L822.423 423.091 Z\" fill=\"#000000\" fill-rule=\"evenodd\" fill-opacity=\"1\" /><path clip-path=\"url(#clip7900)\" d=\"M 0 0 M858.209 389.967 L858.209 416.842 L863.858 416.842 Q871.01 416.842 874.32 413.601 Q877.654 410.36 877.654 403.369 Q877.654 396.425 874.32 393.207 Q871.01 389.967 863.858 389.967 L858.209 389.967 M853.533 386.124 L863.14 386.124 Q873.186 386.124 877.885 390.314 Q882.584 394.481 882.584 403.369 Q882.584 412.305 877.862 416.494 Q873.14 420.684 863.14 420.684 L853.533 420.684 L853.533 386.124 Z\" fill=\"#000000\" fill-rule=\"evenodd\" fill-opacity=\"1\" /><path clip-path=\"url(#clip7900)\" d=\"M 0 0 M909.228 406.656 L909.228 408.74 L889.644 408.74 Q889.922 413.138 892.283 415.453 Q894.668 417.744 898.904 417.744 Q901.357 417.744 903.649 417.142 Q905.964 416.541 908.232 415.337 L908.232 419.365 Q905.941 420.337 903.533 420.846 Q901.126 421.355 898.649 421.355 Q892.445 421.355 888.811 417.744 Q885.2 414.133 885.2 407.976 Q885.2 401.61 888.626 397.883 Q892.075 394.133 897.908 394.133 Q903.14 394.133 906.172 397.513 Q909.228 400.869 909.228 406.656 M904.968 405.406 Q904.922 401.911 903.001 399.828 Q901.103 397.744 897.955 397.744 Q894.39 397.744 892.237 399.758 Q890.107 401.772 889.783 405.43 L904.968 405.406 Z\" fill=\"#000000\" fill-rule=\"evenodd\" fill-opacity=\"1\" /><path clip-path=\"url(#clip7900)\" d=\"M 0 0 M932.353 395.754 L932.353 399.735 Q930.547 398.74 928.718 398.254 Q926.913 397.744 925.061 397.744 Q920.917 397.744 918.626 400.383 Q916.334 402.999 916.334 407.744 Q916.334 412.49 918.626 415.129 Q920.917 417.744 925.061 417.744 Q926.913 417.744 928.718 417.258 Q930.547 416.749 932.353 415.754 L932.353 419.689 Q930.57 420.522 928.649 420.939 Q926.751 421.355 924.598 421.355 Q918.741 421.355 915.292 417.675 Q911.843 413.994 911.843 407.744 Q911.843 401.402 915.316 397.768 Q918.811 394.133 924.876 394.133 Q926.843 394.133 928.718 394.55 Q930.593 394.943 932.353 395.754 Z\" fill=\"#000000\" fill-rule=\"evenodd\" fill-opacity=\"1\" /><path clip-path=\"url(#clip7900)\" d=\"M 0 0 M937.422 414.804 L942.306 414.804 L942.306 420.684 L937.422 420.684 L937.422 414.804 Z\" fill=\"#000000\" fill-rule=\"evenodd\" fill-opacity=\"1\" /><path clip-path=\"url(#clip7900)\" d=\"M 0 0 M963.255 416.749 L970.894 416.749 L970.894 390.383 L962.584 392.05 L962.584 387.791 L970.848 386.124 L975.524 386.124 L975.524 416.749 L983.162 416.749 L983.162 420.684 L963.255 420.684 L963.255 416.749 Z\" fill=\"#000000\" fill-rule=\"evenodd\" fill-opacity=\"1\" /><path clip-path=\"url(#clip7900)\" d=\"M 0 0 M989.042 416.749 L996.681 416.749 L996.681 390.383 L988.371 392.05 L988.371 387.791 L996.635 386.124 L1001.31 386.124 L1001.31 416.749 L1008.95 416.749 L1008.95 420.684 L989.042 420.684 L989.042 416.749 Z\" fill=\"#000000\" fill-rule=\"evenodd\" fill-opacity=\"1\" /><path clip-path=\"url(#clip7900)\" d=\"M 0 0 M1014.5 414.804 L1019.39 414.804 L1019.39 418.786 L1015.59 426.193 L1012.61 426.193 L1014.5 418.786 L1014.5 414.804 Z\" fill=\"#000000\" fill-rule=\"evenodd\" fill-opacity=\"1\" /><path clip-path=\"url(#clip7900)\" d=\"M 0 0 M1043.56 416.749 L1059.87 416.749 L1059.87 420.684 L1037.93 420.684 L1037.93 416.749 Q1040.59 413.994 1045.18 409.365 Q1049.78 404.712 1050.96 403.369 Q1053.21 400.846 1054.09 399.11 Q1054.99 397.351 1054.99 395.661 Q1054.99 392.906 1053.05 391.17 Q1051.13 389.434 1048.02 389.434 Q1045.82 389.434 1043.37 390.198 Q1040.94 390.962 1038.16 392.513 L1038.16 387.791 Q1040.99 386.656 1043.44 386.078 Q1045.89 385.499 1047.93 385.499 Q1053.3 385.499 1056.5 388.184 Q1059.69 390.869 1059.69 395.36 Q1059.69 397.49 1058.88 399.411 Q1058.09 401.309 1055.99 403.902 Q1055.41 404.573 1052.31 407.791 Q1049.2 410.985 1043.56 416.749 Z\" fill=\"#000000\" fill-rule=\"evenodd\" fill-opacity=\"1\" /><path clip-path=\"url(#clip7900)\" d=\"M 0 0 M1074.94 389.203 Q1071.33 389.203 1069.5 392.768 Q1067.7 396.309 1067.7 403.439 Q1067.7 410.545 1069.5 414.11 Q1071.33 417.652 1074.94 417.652 Q1078.58 417.652 1080.38 414.11 Q1082.21 410.545 1082.21 403.439 Q1082.21 396.309 1080.38 392.768 Q1078.58 389.203 1074.94 389.203 M1074.94 385.499 Q1080.75 385.499 1083.81 390.106 Q1086.89 394.689 1086.89 403.439 Q1086.89 412.166 1083.81 416.772 Q1080.75 421.355 1074.94 421.355 Q1069.13 421.355 1066.06 416.772 Q1063 412.166 1063 403.439 Q1063 394.689 1066.06 390.106 Q1069.13 385.499 1074.94 385.499 Z\" fill=\"#000000\" fill-rule=\"evenodd\" fill-opacity=\"1\" /><path clip-path=\"url(#clip7900)\" d=\"M 0 0 M1095.99 416.749 L1112.31 416.749 L1112.31 420.684 L1090.36 420.684 L1090.36 416.749 Q1093.02 413.994 1097.61 409.365 Q1102.21 404.712 1103.39 403.369 Q1105.64 400.846 1106.52 399.11 Q1107.42 397.351 1107.42 395.661 Q1107.42 392.906 1105.48 391.17 Q1103.56 389.434 1100.45 389.434 Q1098.25 389.434 1095.8 390.198 Q1093.37 390.962 1090.59 392.513 L1090.59 387.791 Q1093.42 386.656 1095.87 386.078 Q1098.32 385.499 1100.36 385.499 Q1105.73 385.499 1108.93 388.184 Q1112.12 390.869 1112.12 395.36 Q1112.12 397.49 1111.31 399.411 Q1110.52 401.309 1108.42 403.902 Q1107.84 404.573 1104.74 407.791 Q1101.63 410.985 1095.99 416.749 Z\" fill=\"#000000\" fill-rule=\"evenodd\" fill-opacity=\"1\" /><path clip-path=\"url(#clip7900)\" d=\"M 0 0 M1127.37 389.203 Q1123.76 389.203 1121.93 392.768 Q1120.13 396.309 1120.13 403.439 Q1120.13 410.545 1121.93 414.11 Q1123.76 417.652 1127.37 417.652 Q1131.01 417.652 1132.81 414.11 Q1134.64 410.545 1134.64 403.439 Q1134.64 396.309 1132.81 392.768 Q1131.01 389.203 1127.37 389.203 M1127.37 385.499 Q1133.18 385.499 1136.24 390.106 Q1139.32 394.689 1139.32 403.439 Q1139.32 412.166 1136.24 416.772 Q1133.18 421.355 1127.37 421.355 Q1121.56 421.355 1118.49 416.772 Q1115.43 412.166 1115.43 403.439 Q1115.43 394.689 1118.49 390.106 Q1121.56 385.499 1127.37 385.499 Z\" fill=\"#000000\" fill-rule=\"evenodd\" fill-opacity=\"1\" /></svg>\n"
      ]
     },
     "execution_count": 18,
     "metadata": {},
     "output_type": "execute_result"
    }
   ],
   "source": [
    "using Plots\n",
    "\n",
    "#dates = format_dates( df[rows,2] , \"m/d/yy\")\n",
    "\n",
    "gr()\n",
    "plot(    x_axis_dates,\n",
    "        [  y_axis_original y_axis_predicted \n",
    "        ], # y-axis\n",
    "    label    = \n",
    "        [ symbol_to_predict \"preditions\"  \"\" ],\n",
    "    legend   =:topleft, \n",
    "              # :right, :left, :top, :bottom, :inside, :best, :legend, :topright, :topleft, :bottomleft, :bottomright\n",
    "    xlabel   = \"time\",\n",
    "    ylabel   = \"value\",\n",
    "    size     = (980, 400), # width, height\n",
    "    layout = (1, 1), # number of graphs: vertically, horizontally\n",
    "    )\n",
    "## Add veritical today line\n",
    "plot!([today_id], seriestype=\"vline\", label=[ \"Today \"*t \"\" ],)\n"
   ]
  },
  {
   "cell_type": "code",
   "execution_count": 19,
   "metadata": {
    "ExecuteTime": {
     "end_time": "2020-12-11T20:44:30.532000-05:00",
     "start_time": "2020-12-12T01:44:30.441Z"
    }
   },
   "outputs": [],
   "source": [
    "savefig(\"../images/predictions_\" * symbol_to_predict * \".png\")"
   ]
  },
  {
   "cell_type": "code",
   "execution_count": 16,
   "metadata": {
    "ExecuteTime": {
     "end_time": "2020-12-11T20:42:30.060000-05:00",
     "start_time": "2020-12-12T01:42:29.989Z"
    }
   },
   "outputs": [
    {
     "name": "stdout",
     "output_type": "stream",
     "text": [
      "DJIA 2020-12-11\n",
      "Sat, 2020-12-05\t predicted 30227.0\t, but actual value was \t30218.0\t difference is -9.0\n",
      "Sun, 2020-12-06\t predicted 30218.0\t, but actual value was \t30218.0\t difference is 0.0\n",
      "Mon, 2020-12-07\t predicted 30164.0\t, but actual value was \t30233.0\t difference is 69.0\n",
      "Tue, 2020-12-08\t predicted 30230.0\t, but actual value was \t30246.0\t difference is 16.0\n",
      "Wed, 2020-12-09\t predicted 30372.0\t, but actual value was \t30320.0\t difference is -52.0\n",
      "Thu, 2020-12-10\t predicted 30168.0\t, but actual value was \t30064.0\t difference is -104.0\n",
      "Fri, 2020-12-11\t predicted 30066.0\t, but actual value was \t30071.0\t difference is 5.0\n",
      "Sat, 2020-12-12\t predicted 30032.0\n",
      "Sun, 2020-12-13\t predicted 29980.0\n",
      "Mon, 2020-12-14\t predicted 29930.0\n"
     ]
    }
   ],
   "source": [
    "## print prediction comparisons\n",
    "println(symbol_to_predict, \" \", today())\n",
    "\n",
    "file_path = \"../DATA/\" * symbol_to_predict * \"_predictions.csv\"\n",
    "open( file_path, \"a\") do file_handle # append\n",
    "    \n",
    "    for id in finem-10:finem\n",
    "        if id < today_id + 4 # Allows to show Monday predition on Friday night.\n",
    "            row = get(data_predictions, id) # get a dictionary of data from the SFrame\n",
    "            date_string = row[\"Date\"] # e.g. \"2020-10-20\"\n",
    "\n",
    "            a = y_axis_predicted[id]\n",
    "            b = y_axis_original[id]\n",
    "            d = round(b-a, digits=3)\n",
    "            date = convert(String, Dates.format( Date(date_string), \"e, yyyy-mm-dd\" ) )\n",
    "            if id <= today_id\n",
    "                println( date, \"\\t predicted \", a , \"\\t, but actual value was \\t\", b , \"\\t difference is \",  d  ) # di\n",
    "            else\n",
    "                println( date, \"\\t predicted \", a  ) # \n",
    "\n",
    "                txt_to_save =  \n",
    "                    convert(String, Dates.format( today(), \"yyyy-mm-dd\" ) ) *\",\"* \n",
    "                    convert(String, symbol_to_predict) *\",\"* \n",
    "                    date_string *\",\"* \n",
    "                    string(a) * \"\\n\"\n",
    "                \n",
    "                write(file_handle, txt_to_save )\n",
    "                \n",
    "            end # if\n",
    "        end #if \n",
    "    end # for\n",
    "end # open file"
   ]
  },
  {
   "cell_type": "code",
   "execution_count": null,
   "metadata": {},
   "outputs": [],
   "source": []
  },
  {
   "cell_type": "code",
   "execution_count": null,
   "metadata": {},
   "outputs": [],
   "source": []
  }
 ],
 "metadata": {
  "kernelspec": {
   "display_name": "Julia 1.5.1",
   "language": "julia",
   "name": "julia-1.5"
  },
  "language_info": {
   "file_extension": ".jl",
   "mimetype": "application/julia",
   "name": "julia",
   "version": "1.5.1"
  },
  "toc": {
   "base_numbering": 1,
   "nav_menu": {},
   "number_sections": true,
   "sideBar": true,
   "skip_h1_title": true,
   "title_cell": "Table of Contents",
   "title_sidebar": "Contents",
   "toc_cell": true,
   "toc_position": {},
   "toc_section_display": true,
   "toc_window_display": true
  },
  "varInspector": {
   "cols": {
    "lenName": 16,
    "lenType": 16,
    "lenVar": 40
   },
   "kernels_config": {
    "python": {
     "delete_cmd_postfix": "",
     "delete_cmd_prefix": "del ",
     "library": "var_list.py",
     "varRefreshCmd": "print(var_dic_list())"
    },
    "r": {
     "delete_cmd_postfix": ") ",
     "delete_cmd_prefix": "rm(",
     "library": "var_list.r",
     "varRefreshCmd": "cat(var_dic_list()) "
    }
   },
   "types_to_exclude": [
    "module",
    "function",
    "builtin_function_or_method",
    "instance",
    "_Feature"
   ],
   "window_display": false
  }
 },
 "nbformat": 4,
 "nbformat_minor": 4
}
