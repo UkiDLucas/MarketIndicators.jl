{
 "cells": [
  {
   "cell_type": "markdown",
   "metadata": {},
   "source": [
    "# Prediction Model using TuriCreate in Julia"
   ]
  },
  {
   "cell_type": "markdown",
   "metadata": {
    "toc": true
   },
   "source": [
    "<h1>Table of Contents<span class=\"tocSkip\"></span></h1>\n",
    "<div class=\"toc\"><ul class=\"toc-item\"><li><span><a href=\"#Set-Up\" data-toc-modified-id=\"Set-Up-1\"><span class=\"toc-item-num\">1&nbsp;&nbsp;</span>Set Up</a></span></li><li><span><a href=\"#Fetch-Data-(SFrame)-from-Uber-CSV\" data-toc-modified-id=\"Fetch-Data-(SFrame)-from-Uber-CSV-2\"><span class=\"toc-item-num\">2&nbsp;&nbsp;</span>Fetch Data (SFrame) from Uber CSV</a></span></li><li><span><a href=\"#Split-Data\" data-toc-modified-id=\"Split-Data-3\"><span class=\"toc-item-num\">3&nbsp;&nbsp;</span>Split Data</a></span></li><li><span><a href=\"#Evaluate-the-Model\" data-toc-modified-id=\"Evaluate-the-Model-4\"><span class=\"toc-item-num\">4&nbsp;&nbsp;</span>Evaluate the Model</a></span></li><li><span><a href=\"#Save-/-Export-the-Model\" data-toc-modified-id=\"Save-/-Export-the-Model-5\"><span class=\"toc-item-num\">5&nbsp;&nbsp;</span>Save / Export the Model</a></span></li><li><span><a href=\"#Make-predictions\" data-toc-modified-id=\"Make-predictions-6\"><span class=\"toc-item-num\">6&nbsp;&nbsp;</span>Make predictions</a></span><ul class=\"toc-item\"><li><span><a href=\"#Explore-SFrame\" data-toc-modified-id=\"Explore-SFrame-6.1\"><span class=\"toc-item-num\">6.1&nbsp;&nbsp;</span>Explore SFrame</a></span></li></ul></li></ul></div>"
   ]
  },
  {
   "cell_type": "markdown",
   "metadata": {},
   "source": [
    "## Set Up"
   ]
  },
  {
   "cell_type": "code",
   "execution_count": 1,
   "metadata": {
    "ExecuteTime": {
     "end_time": "2020-12-10T00:12:40.043000-05:00",
     "start_time": "2020-12-10T05:12:39.365Z"
    }
   },
   "outputs": [
    {
     "name": "stdout",
     "output_type": "stream",
     "text": [
      "\n"
     ]
    }
   ],
   "source": [
    "# symbol_to_predict = \"DJIA\" - there is a bug\n",
    "# symbol_to_predict = \"AAPL\"\n",
    "#symbol_to_predict = \"VIX\"\n",
    "# symbol_to_predict = \"NIO\"\n",
    "symbol_to_predict = \"NVDA\"\n",
    "\n",
    "features_to_analyze = \n",
    "[\n",
    "\n",
    "\"VIX_Original\"\n",
    ",\"VIX_Quantized\"\n",
    ",\"VIX_Avg005\"\n",
    ",\"VIX_Avg030\"\n",
    ",\"VIX_Avg060\"\n",
    ",\"VIX_Avg090\"\n",
    ",\"VIX_Avg120\"\n",
    ",\"VIX_Avg180\"\n",
    "    \n",
    ",\"US_GDP_Q_Quantized\"\n",
    ",\"US_GDP_Q_Avg005\"\n",
    ",\"US_GDP_Q_Avg030\"\n",
    ",\"US_GDP_Q_Avg060\"\n",
    ",\"US_GDP_Q_Avg090\"\n",
    ",\"US_GDP_Q_Avg120\"\n",
    ",\"US_GDP_Q_Avg180\"\n",
    "    \n",
    ",\"US_ISM_MFC_PMI_Quantized\"\n",
    ",\"US_ISM_MFC_PMI_Avg030\"\n",
    ",\"US_ISM_MFC_PMI_Avg060\"\n",
    ",\"US_ISM_MFC_PMI_Avg090\"\n",
    ",\"US_ISM_MFC_PMI_Avg180\"\n",
    ",\"US_ISM_MFC_PMI_Avg365\"\n",
    "\n",
    "    \n",
    ",\"NIO_Quantized\"\n",
    ",\"NIO_Avg005\"\n",
    ",\"NIO_Avg030\"\n",
    ",\"NIO_Avg060\"\n",
    ",\"NIO_Avg090\"\n",
    ",\"NIO_Avg120\"\n",
    ",\"NIO_Avg180\"\n",
    "\n",
    "    \n",
    "#,\"NVDA_Quantized\"\n",
    ",\"NVDA_Avg005\"\n",
    ",\"NVDA_Avg030\"\n",
    ",\"NVDA_Avg060\"\n",
    ",\"NVDA_Avg090\"\n",
    ",\"NVDA_Avg120\"\n",
    ",\"NVDA_Avg180\"\n",
    "\n",
    "    \n",
    ",\"DJIA_Quantized\"\n",
    ",\"DJIA_Avg005\"\n",
    ",\"DJIA_Avg030\"\n",
    ",\"DJIA_Avg060\"\n",
    ",\"DJIA_Avg090\"\n",
    ",\"DJIA_Avg120\"\n",
    ",\"DJIA_Avg180\"\n",
    "\n",
    "    \n",
    ",\"AAPL_Quantized\"\n",
    ",\"AAPL_Avg005\"\n",
    ",\"AAPL_Avg030\"\n",
    ",\"AAPL_Avg060\"\n",
    ",\"AAPL_Avg090\"\n",
    ",\"AAPL_Avg120\"\n",
    ",\"AAPL_Avg180\"\n",
    "\n",
    "    \n",
    ",\"US_INIT_JOBLESS_Quantized\"\n",
    ",\"US_INIT_JOBLESS_Avg005\"\n",
    ",\"US_INIT_JOBLESS_Avg030\"\n",
    ",\"US_INIT_JOBLESS_Avg060\"\n",
    ",\"US_INIT_JOBLESS_Avg090\"\n",
    ",\"US_INIT_JOBLESS_Avg120\"\n",
    ",\"US_INIT_JOBLESS_Avg180\"\n",
    "\n",
    "    \n",
    ",\"US_ISM_MFC_EMP_Quantized\"\n",
    ",\"US_ISM_MFC_EMP_Avg030\"\n",
    ",\"US_ISM_MFC_EMP_Avg060\"\n",
    ",\"US_ISM_MFC_EMP_Avg090\"\n",
    ",\"US_ISM_MFC_EMP_Avg120\"\n",
    ",\"US_ISM_MFC_EMP_Avg180\"\n",
    ",\"US_ISM_MFC_EMP_Avg365\"\n",
    "\n",
    "    \n",
    ",\"US_HOUS_STRT_M_Quantized\"\n",
    ",\"US_HOUS_STRT_M_Avg005\"\n",
    ",\"US_HOUS_STRT_M_Avg030\"\n",
    ",\"US_HOUS_STRT_M_Avg060\"\n",
    ",\"US_HOUS_STRT_M_Avg090\"\n",
    ",\"US_HOUS_STRT_M_Avg120\"\n",
    ",\"US_HOUS_STRT_M_Avg180\"\n",
    "    \n",
    "]\n",
    "\n",
    "println()"
   ]
  },
  {
   "cell_type": "code",
   "execution_count": 2,
   "metadata": {
    "ExecuteTime": {
     "end_time": "2020-12-10T00:12:44.184000-05:00",
     "start_time": "2020-12-10T05:12:39.367Z"
    }
   },
   "outputs": [
    {
     "name": "stdout",
     "output_type": "stream",
     "text": [
      "\n"
     ]
    },
    {
     "data": {
      "text/plain": [
       "\"NVDA_Original\""
      ]
     },
     "execution_count": 2,
     "metadata": {},
     "output_type": "execute_result"
    }
   ],
   "source": [
    "## uncomment for the first run\n",
    "# import Pkg\n",
    "# Pkg.add(\"PyCall\")\n",
    "# Pkg.add(\"Conda\")\n",
    "# ENV[\"PYTHON\"] = \"/opt/anaconda3/envs/turi/bin/python\"\n",
    "# /opt/anaconda3/envs/turi/lib/python3.6/site-packages/\n",
    "# Pkg.build(\"PyCall\")\n",
    "\n",
    "include(\"../Julia/functions.jl\") \n",
    "data_path=\"../DATA/processed/uber_training.csv\"\n",
    "column_to_predict = symbol_to_predict * \"_Original\""
   ]
  },
  {
   "cell_type": "markdown",
   "metadata": {},
   "source": [
    "## Fetch Data (SFrame) from Uber CSV"
   ]
  },
  {
   "cell_type": "code",
   "execution_count": 3,
   "metadata": {
    "ExecuteTime": {
     "end_time": "2020-12-10T00:12:48.789000-05:00",
     "start_time": "2020-12-10T05:12:39.370Z"
    }
   },
   "outputs": [
    {
     "name": "stdout",
     "output_type": "stream",
     "text": [
      "Finished parsing file /Users/uki/REPOS/MarketIndicators.jl/src/DATA/processed/uber_training.csv\n",
      "Parsing completed. Parsed 100 lines in 0.030224 secs.\n",
      "------------------------------------------------------\n",
      "Inferred types from first 100 line(s) of file as \n",
      "column_type_hints=[int,str,float,float,float,float,float,float,float,float,float,float,float,float,float,float,float,float,float,float,float,float,float,float,float,float,float,float,float,float,float,float,float,float,float,float,float,float,float,float,float,float,float,float,float,float,float,float,float,float,float,float,float,float,float,float,float,float,float,float,float,float,float,float,float,float,float,float,float,float,float,float,float,float,float,float,float,float,float,float,float]\n",
      "If parsing fails due to incorrect types, you can correct\n",
      "the inferred type list above and pass it to read_csv in\n",
      "the column_type_hints argument\n",
      "------------------------------------------------------\n",
      "Finished parsing file /Users/uki/REPOS/MarketIndicators.jl/src/DATA/processed/uber_training.csv\n",
      "Parsing completed. Parsed 815 lines in 0.009702 secs.\n",
      "\n"
     ]
    }
   ],
   "source": [
    "using PyCall\n",
    "tc = pyimport(\"turicreate\")\n",
    "data = tc.SFrame(data_path)\n",
    "println()"
   ]
  },
  {
   "cell_type": "markdown",
   "metadata": {},
   "source": [
    "## Split Data"
   ]
  },
  {
   "cell_type": "code",
   "execution_count": 4,
   "metadata": {
    "ExecuteTime": {
     "end_time": "2020-12-10T00:12:49.231000-05:00",
     "start_time": "2020-12-10T05:12:39.373Z"
    }
   },
   "outputs": [
    {
     "name": "stdout",
     "output_type": "stream",
     "text": [
      "(647,)\n",
      "(168,)\n"
     ]
    }
   ],
   "source": [
    "# Make a train-test split\n",
    "train_data, test_data = data.random_split(0.8)\n",
    "\n",
    "println( size(train_data) )\n",
    "println( size(test_data)  )"
   ]
  },
  {
   "cell_type": "code",
   "execution_count": 5,
   "metadata": {
    "ExecuteTime": {
     "end_time": "2020-12-10T00:12:51.287000-05:00",
     "start_time": "2020-12-10T05:12:39.376Z"
    }
   },
   "outputs": [
    {
     "name": "stdout",
     "output_type": "stream",
     "text": [
      "Automatically generating validation set from 5% of the data.\n",
      "Linear regression:\n",
      "--------------------------------------------------------\n",
      "Number of examples          : 613\n",
      "Number of features          : 69\n",
      "Number of unpacked features : 69\n",
      "Number of coefficients    : 70\n",
      "Starting Newton Method\n",
      "--------------------------------------------------------\n",
      "+-----------+----------+--------------+--------------------+----------------------+---------------------------------+-----------------------------------+\n",
      "| Iteration | Passes   | Elapsed Time | Training Max Error | Validation Max Error | Training Root-Mean-Square Error | Validation Root-Mean-Square Error |\n",
      "+-----------+----------+--------------+--------------------+----------------------+---------------------------------+-----------------------------------+\n",
      "| 1         | 2        | 1.016173     | 24.789267          | 22.279784            | 4.124408                        | 6.806811                          |\n",
      "+-----------+----------+--------------+--------------------+----------------------+---------------------------------+-----------------------------------+\n",
      "SUCCESS: Optimal solution found.\n",
      "\n",
      "Boosted trees regression:\n",
      "--------------------------------------------------------\n",
      "Number of examples          : 613\n",
      "Number of features          : 69\n",
      "Number of unpacked features : 69\n",
      "+-----------+--------------+--------------------+----------------------+---------------------------------+-----------------------------------+\n",
      "| Iteration | Elapsed Time | Training Max Error | Validation Max Error | Training Root-Mean-Square Error | Validation Root-Mean-Square Error |\n",
      "+-----------+--------------+--------------------+----------------------+---------------------------------+-----------------------------------+\n",
      "| 1         | 0.006743     | 431.637146         | 433.047180           | 207.787064                      | 238.616623                        |\n",
      "| 2         | 0.009113     | 320.062073         | 321.472107           | 146.596313                      | 168.247131                        |\n",
      "| 3         | 0.011771     | 241.078674         | 242.488708           | 103.525253                      | 119.641731                        |\n",
      "| 4         | 0.014200     | 182.239655         | 183.649689           | 73.179466                       | 85.618858                         |\n",
      "| 5         | 0.016585     | 144.425995         | 145.836029           | 51.841145                       | 61.771805                         |\n",
      "| 10        | 0.032938     | 49.373718          | 60.530518            | 10.251241                       | 16.938700                         |\n",
      "+-----------+--------------+--------------------+----------------------+---------------------------------+-----------------------------------+\n"
     ]
    },
    {
     "data": {
      "text/plain": [
       "PyObject Class                          : LinearRegression\n",
       "\n",
       "Schema\n",
       "------\n",
       "Number of coefficients         : 70\n",
       "Number of examples             : 613\n",
       "Number of feature columns      : 69\n",
       "Number of unpacked features    : 69\n",
       "\n",
       "Hyperparameters\n",
       "---------------\n",
       "L1 penalty                     : 0\n",
       "L2 penalty                     : 0.01\n",
       "\n",
       "Training Summary\n",
       "----------------\n",
       "Solver                         : newton\n",
       "Solver iterations              : 1\n",
       "Solver status                  : SUCCESS: Optimal solution found.\n",
       "Training time (sec)            : 1.0237\n",
       "\n",
       "Settings\n",
       "--------\n",
       "Residual sum of squares        : 10427.5838\n",
       "Training RMSE                  : 4.1244\n",
       "\n",
       "Highest Positive Coefficients\n",
       "-----------------------------\n",
       "(intercept)                    : 338.8614\n",
       "NVDA_Avg005                    : 2.1222\n",
       "AAPL_Avg060                    : 1.3016\n",
       "AAPL_Quantized                 : 1.296\n",
       "US_GDP_Q_Avg060                : 0.787\n",
       "\n",
       "Lowest Negative Coefficients\n",
       "----------------------------\n",
       "AAPL_Avg090                    : -1.2508\n",
       "AAPL_Avg005                    : -1.2151\n",
       "NVDA_Avg090                    : -0.9747\n",
       "US_GDP_Q_Avg180                : -0.9618\n",
       "NVDA_Avg180                    : -0.8749\n"
      ]
     },
     "execution_count": 5,
     "metadata": {},
     "output_type": "execute_result"
    }
   ],
   "source": [
    "model = tc.regression.create( \n",
    "    train_data, \n",
    "    target = column_to_predict, \n",
    "    features = features_to_analyze, \n",
    "    validation_set=\"auto\", \n",
    "    verbose=true\n",
    ")"
   ]
  },
  {
   "cell_type": "markdown",
   "metadata": {},
   "source": [
    "## Evaluate the Model"
   ]
  },
  {
   "cell_type": "code",
   "execution_count": 6,
   "metadata": {
    "ExecuteTime": {
     "end_time": "2020-12-10T00:12:52.297000-05:00",
     "start_time": "2020-12-10T05:12:39.378Z"
    }
   },
   "outputs": [
    {
     "data": {
      "text/plain": [
       "Dict{Any,Any} with 2 entries:\n",
       "  \"rmse\"      => 5.23547\n",
       "  \"max_error\" => 24.0221"
      ]
     },
     "execution_count": 6,
     "metadata": {},
     "output_type": "execute_result"
    }
   ],
   "source": [
    "#TODO: write this in a loop to select the best model\n",
    "# Evaluate the model and save the results into a dictionary\n",
    "results = model.evaluate( test_data ) #test_data[0:2531]\n",
    "results"
   ]
  },
  {
   "cell_type": "code",
   "execution_count": 7,
   "metadata": {
    "ExecuteTime": {
     "end_time": "2020-12-10T00:12:52.440000-05:00",
     "start_time": "2020-12-10T05:12:39.381Z"
    }
   },
   "outputs": [
    {
     "name": "stdout",
     "output_type": "stream",
     "text": [
      "max_error: 24.02, rmse: 5.24\n"
     ]
    }
   ],
   "source": [
    "rmse = results[\"rmse\"]\n",
    "rmse = round(rmse, digits=2)\n",
    "\n",
    "max_error = results[\"max_error\"]\n",
    "max_error = round(max_error, digits=2)\n",
    "\n",
    "println( \"max_error: \", max_error, \", rmse: \", rmse )\n",
    "# max_error: 1069.27, rmse: 184.6\n",
    "# max_error: 65.35, rmse: 32.6            predict: ^DJIA added: US_INIT_JOBLESS\n",
    "# max_error: 1875.39, rmse: 443.59        predict: ^DJIA commented out: \"DJIA_Quantized\"\n",
    "# max_error: 1339.76, rmse: 373.94        predict: ^DJIA commented out: \"DJIA_Quantized\"\n",
    "# max_error: 916.19, rmse: 231.24       predict: ^DJIA with \"DJIA_Avg005\""
   ]
  },
  {
   "cell_type": "markdown",
   "metadata": {},
   "source": [
    "## Save / Export the Model"
   ]
  },
  {
   "cell_type": "code",
   "execution_count": 8,
   "metadata": {
    "ExecuteTime": {
     "end_time": "2020-12-10T00:12:52.461000-05:00",
     "start_time": "2020-12-10T05:12:39.384Z"
    }
   },
   "outputs": [],
   "source": [
    "# Export to Core ML\n",
    "model.export_coreml(\"../DATA/models/^DJI.mlmodel\")"
   ]
  },
  {
   "cell_type": "markdown",
   "metadata": {},
   "source": [
    "## Make predictions "
   ]
  },
  {
   "cell_type": "code",
   "execution_count": 9,
   "metadata": {
    "ExecuteTime": {
     "end_time": "2020-12-10T00:12:52.557000-05:00",
     "start_time": "2020-12-10T05:12:39.388Z"
    }
   },
   "outputs": [
    {
     "name": "stdout",
     "output_type": "stream",
     "text": [
      "Finished parsing file /Users/uki/REPOS/MarketIndicators.jl/src/DATA/processed/uber_prediction.csv\n",
      "Parsing completed. Parsed 100 lines in 0.036298 secs.\n",
      "------------------------------------------------------\n",
      "Inferred types from first 100 line(s) of file as \n",
      "column_type_hints=[int,str,float,float,float,float,float,float,float,float,float,float,float,float,float,float,float,float,float,float,float,float,float,float,float,float,float,float,float,float,float,float,float,float,float,float,float,float,float,float,float,float,float,float,float,float,float,float,float,float,float,float,float,float,float,float,float,float,float,float,float,float,float,float,float,float,float,float,float,float,float,float,float,float,float,float,float,float,float,float,float]\n",
      "If parsing fails due to incorrect types, you can correct\n",
      "the inferred type list above and pass it to read_csv in\n",
      "the column_type_hints argument\n",
      "------------------------------------------------------\n",
      "Finished parsing file /Users/uki/REPOS/MarketIndicators.jl/src/DATA/processed/uber_prediction.csv\n",
      "Parsing completed. Parsed 120 lines in 0.006399 secs.\n",
      "\n"
     ]
    }
   ],
   "source": [
    "data_path=\"../DATA/processed/uber_prediction.csv\"\n",
    "data_predictions = tc.SFrame(data_path)\n",
    "\n",
    "## Save predictions to an SArray\n",
    "predictions = model.predict(data_predictions)\n",
    "#get(predictions, 1)\n",
    "\n",
    "println()"
   ]
  },
  {
   "cell_type": "markdown",
   "metadata": {},
   "source": [
    "### Explore SFrame"
   ]
  },
  {
   "cell_type": "code",
   "execution_count": 10,
   "metadata": {
    "ExecuteTime": {
     "end_time": "2020-12-10T00:12:52.685000-05:00",
     "start_time": "2020-12-10T05:12:39.391Z"
    }
   },
   "outputs": [
    {
     "name": "stdout",
     "output_type": "stream",
     "text": [
      "record_count data 120\n",
      "record_count predictions 120\n",
      "feature_number 81\n",
      "Rata Die 737797\n",
      "date 2021-01-07\n",
      "original 30319.699219\n"
     ]
    }
   ],
   "source": [
    "record_count = size(data_predictions)[1]\n",
    "row = get(data_predictions, record_count-1)\n",
    "\n",
    "feature_number = row.count\n",
    "day = row[\"Rata_Die\"]\n",
    "date = row[\"Date\"] # \"2020-10-20\"\n",
    "original = row[\"DJIA_Original\"]\n",
    "\n",
    "println( \"record_count data \", record_count )\n",
    "println( \"record_count predictions \", size(predictions)[1] )\n",
    "\n",
    "println( \"feature_number \", feature_number )\n",
    "println( \"Rata Die \", day )\n",
    "println( \"date \", date )\n",
    "println( \"original \", original )"
   ]
  },
  {
   "cell_type": "code",
   "execution_count": 11,
   "metadata": {
    "ExecuteTime": {
     "end_time": "2020-12-10T00:12:54.835000-05:00",
     "start_time": "2020-12-10T05:12:39.394Z"
    }
   },
   "outputs": [
    {
     "name": "stdout",
     "output_type": "stream",
     "text": [
      "preditions set size: 119, step 6\n",
      "NVDA 119 Array{Date,1}\n",
      "t Dec. 10, 2020 String\n",
      "\n"
     ]
    }
   ],
   "source": [
    "using Dates\n",
    "today_rata = Dates.datetime2rata( today() )\n",
    "\n",
    "## Determine dataset size\n",
    "\n",
    "initio = 1                                              # latin: start\n",
    "finem  = size(predictions)[1] -1                        # latin: end\n",
    "gradus = convert(Int64, round( finem/20, digits=0)  )   # latin: step\n",
    "\n",
    "println(\"preditions set size: \", finem, \", step \", gradus)\n",
    "\n",
    "\n",
    "## Declare variables\n",
    "x_axis_dates      = Vector{Date}() # results in Array{Date,1}\n",
    "y_axis_original   = Vector{Float64}()\n",
    "y_axis_predicted  = Vector{Float64}()\n",
    "\n",
    "println(symbol_to_predict, \" \", finem, \" \", typeof(x_axis_dates))\n",
    "\n",
    "today_id  = 50 # not set yet\n",
    "\n",
    "## step thru each prediction\n",
    "for id in initio:finem\n",
    "    row = get(data_predictions, id) # get a dictionary of data from the SFrame\n",
    "    \n",
    "    date_string = row[\"Date\"] # e.g. \"2020-10-20\"\n",
    "    date = Date(date_string) # 2020-09-07 Date\n",
    "    if date == today()\n",
    "        today_id = id\n",
    "    end \n",
    "    #date = Dates.format(date, \"u.d,yy\" )\n",
    "    #println(\"date \", date, \" \", typeof(date))\n",
    "    push!(x_axis_dates, date)\n",
    "    \n",
    "    predicted = get(predictions, id) # Float64\n",
    "    predicted = round(predicted, digits=0)\n",
    "    #println(\"predicted \", predicted, \" \", typeof(predicted))\n",
    "    append!(y_axis_predicted, predicted)\n",
    "    \n",
    "    \n",
    "    original = row[ column_to_predict ]\n",
    "    original = round(original, digits=0) # Float64\n",
    "    #println(\"original \", original, \" \", typeof(original)) \n",
    "    append!(y_axis_original, original)\n",
    "end\n",
    "\n",
    "## Format Dates for plotting\n",
    "include(\"../Julia/function_format_dates.jl\")\n",
    "x_axis_dates = format_dates(x_axis_dates, \"u. d, yy\")\n",
    "\n",
    "\n",
    "\n",
    "t = today()# Date\n",
    "t = format_dates([t], \"u. d, yyyy\") # Array{String,1}\n",
    "t = t[1] # String\n",
    "println(\"t \", t, \" \", typeof(t))\n",
    "\n",
    "println()"
   ]
  },
  {
   "cell_type": "code",
   "execution_count": 12,
   "metadata": {
    "ExecuteTime": {
     "end_time": "2020-12-10T00:13:29.617000-05:00",
     "start_time": "2020-12-10T05:12:39.397Z"
    }
   },
   "outputs": [
    {
     "data": {
      "image/svg+xml": [
       "<?xml version=\"1.0\" encoding=\"utf-8\"?>\n",
       "<svg xmlns=\"http://www.w3.org/2000/svg\" xmlns:xlink=\"http://www.w3.org/1999/xlink\" width=\"980\" height=\"400\" viewBox=\"0 0 3920 1600\">\n",
       "<defs>\n",
       "  <clipPath id=\"clip3000\">\n",
       "    <rect x=\"0\" y=\"0\" width=\"3920\" height=\"1600\"/>\n",
       "  </clipPath>\n",
       "</defs>\n",
       "<path clip-path=\"url(#clip3000)\" d=\"\n",
       "M0 1600 L3920 1600 L3920 0 L0 0  Z\n",
       "  \" fill=\"#ffffff\" fill-rule=\"evenodd\" fill-opacity=\"1\"/>\n",
       "<defs>\n",
       "  <clipPath id=\"clip3001\">\n",
       "    <rect x=\"784\" y=\"0\" width=\"2745\" height=\"1600\"/>\n",
       "  </clipPath>\n",
       "</defs>\n",
       "<path clip-path=\"url(#clip3000)\" d=\"\n",
       "M227.135 1423.18 L3872.76 1423.18 L3872.76 47.2441 L227.135 47.2441  Z\n",
       "  \" fill=\"#ffffff\" fill-rule=\"evenodd\" fill-opacity=\"1\"/>\n",
       "<defs>\n",
       "  <clipPath id=\"clip3002\">\n",
       "    <rect x=\"227\" y=\"47\" width=\"3647\" height=\"1377\"/>\n",
       "  </clipPath>\n",
       "</defs>\n",
       "<polyline clip-path=\"url(#clip3002)\" style=\"stroke:#000000; stroke-width:2; stroke-opacity:0.1; fill:none\" points=\"\n",
       "  330.313,1423.18 330.313,47.2441 \n",
       "  \"/>\n",
       "<polyline clip-path=\"url(#clip3002)\" style=\"stroke:#000000; stroke-width:2; stroke-opacity:0.1; fill:none\" points=\"\n",
       "  563.483,1423.18 563.483,47.2441 \n",
       "  \"/>\n",
       "<polyline clip-path=\"url(#clip3002)\" style=\"stroke:#000000; stroke-width:2; stroke-opacity:0.1; fill:none\" points=\"\n",
       "  825.8,1423.18 825.8,47.2441 \n",
       "  \"/>\n",
       "<polyline clip-path=\"url(#clip3002)\" style=\"stroke:#000000; stroke-width:2; stroke-opacity:0.1; fill:none\" points=\"\n",
       "  1058.97,1423.18 1058.97,47.2441 \n",
       "  \"/>\n",
       "<polyline clip-path=\"url(#clip3002)\" style=\"stroke:#000000; stroke-width:2; stroke-opacity:0.1; fill:none\" points=\"\n",
       "  1321.29,1423.18 1321.29,47.2441 \n",
       "  \"/>\n",
       "<polyline clip-path=\"url(#clip3002)\" style=\"stroke:#000000; stroke-width:2; stroke-opacity:0.1; fill:none\" points=\"\n",
       "  1554.46,1423.18 1554.46,47.2441 \n",
       "  \"/>\n",
       "<polyline clip-path=\"url(#clip3002)\" style=\"stroke:#000000; stroke-width:2; stroke-opacity:0.1; fill:none\" points=\"\n",
       "  1816.77,1423.18 1816.77,47.2441 \n",
       "  \"/>\n",
       "<polyline clip-path=\"url(#clip3002)\" style=\"stroke:#000000; stroke-width:2; stroke-opacity:0.1; fill:none\" points=\"\n",
       "  2049.95,1423.18 2049.95,47.2441 \n",
       "  \"/>\n",
       "<polyline clip-path=\"url(#clip3002)\" style=\"stroke:#000000; stroke-width:2; stroke-opacity:0.1; fill:none\" points=\"\n",
       "  2283.12,1423.18 2283.12,47.2441 \n",
       "  \"/>\n",
       "<polyline clip-path=\"url(#clip3002)\" style=\"stroke:#000000; stroke-width:2; stroke-opacity:0.1; fill:none\" points=\"\n",
       "  2545.43,1423.18 2545.43,47.2441 \n",
       "  \"/>\n",
       "<polyline clip-path=\"url(#clip3002)\" style=\"stroke:#000000; stroke-width:2; stroke-opacity:0.1; fill:none\" points=\"\n",
       "  2778.6,1423.18 2778.6,47.2441 \n",
       "  \"/>\n",
       "<polyline clip-path=\"url(#clip3002)\" style=\"stroke:#000000; stroke-width:2; stroke-opacity:0.1; fill:none\" points=\"\n",
       "  3040.92,1423.18 3040.92,47.2441 \n",
       "  \"/>\n",
       "<polyline clip-path=\"url(#clip3002)\" style=\"stroke:#000000; stroke-width:2; stroke-opacity:0.1; fill:none\" points=\"\n",
       "  3274.09,1423.18 3274.09,47.2441 \n",
       "  \"/>\n",
       "<polyline clip-path=\"url(#clip3002)\" style=\"stroke:#000000; stroke-width:2; stroke-opacity:0.1; fill:none\" points=\"\n",
       "  3536.41,1423.18 3536.41,47.2441 \n",
       "  \"/>\n",
       "<polyline clip-path=\"url(#clip3002)\" style=\"stroke:#000000; stroke-width:2; stroke-opacity:0.1; fill:none\" points=\"\n",
       "  3769.58,1423.18 3769.58,47.2441 \n",
       "  \"/>\n",
       "<polyline clip-path=\"url(#clip3002)\" style=\"stroke:#000000; stroke-width:2; stroke-opacity:0.1; fill:none\" points=\"\n",
       "  227.135,1399.16 3872.76,1399.16 \n",
       "  \"/>\n",
       "<polyline clip-path=\"url(#clip3002)\" style=\"stroke:#000000; stroke-width:2; stroke-opacity:0.1; fill:none\" points=\"\n",
       "  227.135,1100.76 3872.76,1100.76 \n",
       "  \"/>\n",
       "<polyline clip-path=\"url(#clip3002)\" style=\"stroke:#000000; stroke-width:2; stroke-opacity:0.1; fill:none\" points=\"\n",
       "  227.135,802.353 3872.76,802.353 \n",
       "  \"/>\n",
       "<polyline clip-path=\"url(#clip3002)\" style=\"stroke:#000000; stroke-width:2; stroke-opacity:0.1; fill:none\" points=\"\n",
       "  227.135,503.95 3872.76,503.95 \n",
       "  \"/>\n",
       "<polyline clip-path=\"url(#clip3002)\" style=\"stroke:#000000; stroke-width:2; stroke-opacity:0.1; fill:none\" points=\"\n",
       "  227.135,205.547 3872.76,205.547 \n",
       "  \"/>\n",
       "<polyline clip-path=\"url(#clip3000)\" style=\"stroke:#000000; stroke-width:4; stroke-opacity:1; fill:none\" points=\"\n",
       "  227.135,1423.18 3872.76,1423.18 \n",
       "  \"/>\n",
       "<polyline clip-path=\"url(#clip3000)\" style=\"stroke:#000000; stroke-width:4; stroke-opacity:1; fill:none\" points=\"\n",
       "  227.135,1423.18 227.135,47.2441 \n",
       "  \"/>\n",
       "<polyline clip-path=\"url(#clip3000)\" style=\"stroke:#000000; stroke-width:4; stroke-opacity:1; fill:none\" points=\"\n",
       "  330.313,1423.18 330.313,1406.67 \n",
       "  \"/>\n",
       "<polyline clip-path=\"url(#clip3000)\" style=\"stroke:#000000; stroke-width:4; stroke-opacity:1; fill:none\" points=\"\n",
       "  563.483,1423.18 563.483,1406.67 \n",
       "  \"/>\n",
       "<polyline clip-path=\"url(#clip3000)\" style=\"stroke:#000000; stroke-width:4; stroke-opacity:1; fill:none\" points=\"\n",
       "  825.8,1423.18 825.8,1406.67 \n",
       "  \"/>\n",
       "<polyline clip-path=\"url(#clip3000)\" style=\"stroke:#000000; stroke-width:4; stroke-opacity:1; fill:none\" points=\"\n",
       "  1058.97,1423.18 1058.97,1406.67 \n",
       "  \"/>\n",
       "<polyline clip-path=\"url(#clip3000)\" style=\"stroke:#000000; stroke-width:4; stroke-opacity:1; fill:none\" points=\"\n",
       "  1321.29,1423.18 1321.29,1406.67 \n",
       "  \"/>\n",
       "<polyline clip-path=\"url(#clip3000)\" style=\"stroke:#000000; stroke-width:4; stroke-opacity:1; fill:none\" points=\"\n",
       "  1554.46,1423.18 1554.46,1406.67 \n",
       "  \"/>\n",
       "<polyline clip-path=\"url(#clip3000)\" style=\"stroke:#000000; stroke-width:4; stroke-opacity:1; fill:none\" points=\"\n",
       "  1816.77,1423.18 1816.77,1406.67 \n",
       "  \"/>\n",
       "<polyline clip-path=\"url(#clip3000)\" style=\"stroke:#000000; stroke-width:4; stroke-opacity:1; fill:none\" points=\"\n",
       "  2049.95,1423.18 2049.95,1406.67 \n",
       "  \"/>\n",
       "<polyline clip-path=\"url(#clip3000)\" style=\"stroke:#000000; stroke-width:4; stroke-opacity:1; fill:none\" points=\"\n",
       "  2283.12,1423.18 2283.12,1406.67 \n",
       "  \"/>\n",
       "<polyline clip-path=\"url(#clip3000)\" style=\"stroke:#000000; stroke-width:4; stroke-opacity:1; fill:none\" points=\"\n",
       "  2545.43,1423.18 2545.43,1406.67 \n",
       "  \"/>\n",
       "<polyline clip-path=\"url(#clip3000)\" style=\"stroke:#000000; stroke-width:4; stroke-opacity:1; fill:none\" points=\"\n",
       "  2778.6,1423.18 2778.6,1406.67 \n",
       "  \"/>\n",
       "<polyline clip-path=\"url(#clip3000)\" style=\"stroke:#000000; stroke-width:4; stroke-opacity:1; fill:none\" points=\"\n",
       "  3040.92,1423.18 3040.92,1406.67 \n",
       "  \"/>\n",
       "<polyline clip-path=\"url(#clip3000)\" style=\"stroke:#000000; stroke-width:4; stroke-opacity:1; fill:none\" points=\"\n",
       "  3274.09,1423.18 3274.09,1406.67 \n",
       "  \"/>\n",
       "<polyline clip-path=\"url(#clip3000)\" style=\"stroke:#000000; stroke-width:4; stroke-opacity:1; fill:none\" points=\"\n",
       "  3536.41,1423.18 3536.41,1406.67 \n",
       "  \"/>\n",
       "<polyline clip-path=\"url(#clip3000)\" style=\"stroke:#000000; stroke-width:4; stroke-opacity:1; fill:none\" points=\"\n",
       "  3769.58,1423.18 3769.58,1406.67 \n",
       "  \"/>\n",
       "<polyline clip-path=\"url(#clip3000)\" style=\"stroke:#000000; stroke-width:4; stroke-opacity:1; fill:none\" points=\"\n",
       "  227.135,1399.16 270.882,1399.16 \n",
       "  \"/>\n",
       "<polyline clip-path=\"url(#clip3000)\" style=\"stroke:#000000; stroke-width:4; stroke-opacity:1; fill:none\" points=\"\n",
       "  227.135,1100.76 270.882,1100.76 \n",
       "  \"/>\n",
       "<polyline clip-path=\"url(#clip3000)\" style=\"stroke:#000000; stroke-width:4; stroke-opacity:1; fill:none\" points=\"\n",
       "  227.135,802.353 270.882,802.353 \n",
       "  \"/>\n",
       "<polyline clip-path=\"url(#clip3000)\" style=\"stroke:#000000; stroke-width:4; stroke-opacity:1; fill:none\" points=\"\n",
       "  227.135,503.95 270.882,503.95 \n",
       "  \"/>\n",
       "<polyline clip-path=\"url(#clip3000)\" style=\"stroke:#000000; stroke-width:4; stroke-opacity:1; fill:none\" points=\"\n",
       "  227.135,205.547 270.882,205.547 \n",
       "  \"/>\n",
       "<path clip-path=\"url(#clip3000)\" d=\"M 0 0 M236.054 1450.83 L236.054 1455.39 Q233.392 1454.11 231.031 1453.49 Q228.67 1452.86 226.471 1452.86 Q222.651 1452.86 220.568 1454.34 Q218.508 1455.83 218.508 1458.56 Q218.508 1460.85 219.873 1462.03 Q221.262 1463.19 225.105 1463.9 L227.929 1464.48 Q233.16 1465.48 235.637 1468 Q238.137 1470.5 238.137 1474.71 Q238.137 1479.74 234.758 1482.33 Q231.401 1484.92 224.897 1484.92 Q222.443 1484.92 219.665 1484.37 Q216.911 1483.81 213.948 1482.72 L213.948 1477.91 Q216.795 1479.51 219.526 1480.32 Q222.258 1481.13 224.897 1481.13 Q228.901 1481.13 231.077 1479.55 Q233.253 1477.98 233.253 1475.06 Q233.253 1472.52 231.679 1471.08 Q230.128 1469.65 226.563 1468.93 L223.716 1468.37 Q218.485 1467.33 216.147 1465.11 Q213.809 1462.89 213.809 1458.93 Q213.809 1454.34 217.026 1451.71 Q220.267 1449.07 225.938 1449.07 Q228.369 1449.07 230.892 1449.51 Q233.415 1449.95 236.054 1450.83 Z\" fill=\"#000000\" fill-rule=\"evenodd\" fill-opacity=\"1\" /><path clip-path=\"url(#clip3000)\" d=\"M 0 0 M264.781 1470.22 L264.781 1472.31 L245.197 1472.31 Q245.475 1476.71 247.836 1479.02 Q250.221 1481.31 254.457 1481.31 Q256.91 1481.31 259.202 1480.71 Q261.517 1480.11 263.785 1478.9 L263.785 1482.93 Q261.494 1483.9 259.086 1484.41 Q256.679 1484.92 254.202 1484.92 Q247.998 1484.92 244.364 1481.31 Q240.753 1477.7 240.753 1471.54 Q240.753 1465.18 244.179 1461.45 Q247.628 1457.7 253.461 1457.7 Q258.693 1457.7 261.725 1461.08 Q264.781 1464.44 264.781 1470.22 M260.521 1468.97 Q260.475 1465.48 258.554 1463.4 Q256.656 1461.31 253.508 1461.31 Q249.943 1461.31 247.79 1463.33 Q245.66 1465.34 245.336 1469 L260.521 1468.97 Z\" fill=\"#000000\" fill-rule=\"evenodd\" fill-opacity=\"1\" /><path clip-path=\"url(#clip3000)\" d=\"M 0 0 M273.369 1480.36 L273.369 1494.11 L269.086 1494.11 L269.086 1458.33 L273.369 1458.33 L273.369 1462.26 Q274.711 1459.95 276.748 1458.84 Q278.808 1457.7 281.656 1457.7 Q286.378 1457.7 289.318 1461.45 Q292.28 1465.2 292.28 1471.31 Q292.28 1477.42 289.318 1481.17 Q286.378 1484.92 281.656 1484.92 Q278.808 1484.92 276.748 1483.81 Q274.711 1482.68 273.369 1480.36 M287.859 1471.31 Q287.859 1466.61 285.915 1463.95 Q283.994 1461.27 280.614 1461.27 Q277.234 1461.27 275.29 1463.95 Q273.369 1466.61 273.369 1471.31 Q273.369 1476.01 275.29 1478.7 Q277.234 1481.36 280.614 1481.36 Q283.994 1481.36 285.915 1478.7 Q287.859 1476.01 287.859 1471.31 Z\" fill=\"#000000\" fill-rule=\"evenodd\" fill-opacity=\"1\" /><path clip-path=\"url(#clip3000)\" d=\"M 0 0 M297.35 1478.37 L302.234 1478.37 L302.234 1484.25 L297.35 1484.25 L297.35 1478.37 Z\" fill=\"#000000\" fill-rule=\"evenodd\" fill-opacity=\"1\" /><path clip-path=\"url(#clip3000)\" d=\"M 0 0 M323.183 1480.32 L330.822 1480.32 L330.822 1453.95 L322.512 1455.62 L322.512 1451.36 L330.776 1449.69 L335.452 1449.69 L335.452 1480.32 L343.09 1480.32 L343.09 1484.25 L323.183 1484.25 L323.183 1480.32 Z\" fill=\"#000000\" fill-rule=\"evenodd\" fill-opacity=\"1\" /><path clip-path=\"url(#clip3000)\" d=\"M 0 0 M348.97 1480.32 L356.609 1480.32 L356.609 1453.95 L348.299 1455.62 L348.299 1451.36 L356.563 1449.69 L361.238 1449.69 L361.238 1480.32 L368.877 1480.32 L368.877 1484.25 L348.97 1484.25 L348.97 1480.32 Z\" fill=\"#000000\" fill-rule=\"evenodd\" fill-opacity=\"1\" /><path clip-path=\"url(#clip3000)\" d=\"M 0 0 M374.433 1478.37 L379.317 1478.37 L379.317 1482.35 L375.521 1489.76 L372.535 1489.76 L374.433 1482.35 L374.433 1478.37 Z\" fill=\"#000000\" fill-rule=\"evenodd\" fill-opacity=\"1\" /><path clip-path=\"url(#clip3000)\" d=\"M 0 0 M403.484 1480.32 L419.803 1480.32 L419.803 1484.25 L397.859 1484.25 L397.859 1480.32 Q400.521 1477.56 405.104 1472.93 Q409.71 1468.28 410.891 1466.94 Q413.136 1464.41 414.016 1462.68 Q414.919 1460.92 414.919 1459.23 Q414.919 1456.47 412.974 1454.74 Q411.053 1453 407.951 1453 Q405.752 1453 403.298 1453.77 Q400.868 1454.53 398.09 1456.08 L398.09 1451.36 Q400.914 1450.22 403.368 1449.65 Q405.822 1449.07 407.859 1449.07 Q413.229 1449.07 416.423 1451.75 Q419.618 1454.44 419.618 1458.93 Q419.618 1461.06 418.808 1462.98 Q418.021 1464.88 415.914 1467.47 Q415.335 1468.14 412.234 1471.36 Q409.132 1474.55 403.484 1480.32 Z\" fill=\"#000000\" fill-rule=\"evenodd\" fill-opacity=\"1\" /><path clip-path=\"url(#clip3000)\" d=\"M 0 0 M434.872 1452.77 Q431.261 1452.77 429.433 1456.34 Q427.627 1459.88 427.627 1467.01 Q427.627 1474.11 429.433 1477.68 Q431.261 1481.22 434.872 1481.22 Q438.507 1481.22 440.312 1477.68 Q442.141 1474.11 442.141 1467.01 Q442.141 1459.88 440.312 1456.34 Q438.507 1452.77 434.872 1452.77 M434.872 1449.07 Q440.682 1449.07 443.738 1453.67 Q446.817 1458.26 446.817 1467.01 Q446.817 1475.73 443.738 1480.34 Q440.682 1484.92 434.872 1484.92 Q429.062 1484.92 425.983 1480.34 Q422.928 1475.73 422.928 1467.01 Q422.928 1458.26 425.983 1453.67 Q429.062 1449.07 434.872 1449.07 Z\" fill=\"#000000\" fill-rule=\"evenodd\" fill-opacity=\"1\" /><path clip-path=\"url(#clip3000)\" d=\"M 0 0 M468.704 1450.83 L468.704 1455.39 Q466.042 1454.11 463.681 1453.49 Q461.319 1452.86 459.12 1452.86 Q455.301 1452.86 453.218 1454.34 Q451.157 1455.83 451.157 1458.56 Q451.157 1460.85 452.523 1462.03 Q453.912 1463.19 457.755 1463.9 L460.579 1464.48 Q465.81 1465.48 468.287 1468 Q470.787 1470.5 470.787 1474.71 Q470.787 1479.74 467.407 1482.33 Q464.051 1484.92 457.546 1484.92 Q455.093 1484.92 452.315 1484.37 Q449.56 1483.81 446.597 1482.72 L446.597 1477.91 Q449.444 1479.51 452.176 1480.32 Q454.907 1481.13 457.546 1481.13 Q461.551 1481.13 463.727 1479.55 Q465.903 1477.98 465.903 1475.06 Q465.903 1472.52 464.329 1471.08 Q462.778 1469.65 459.213 1468.93 L456.366 1468.37 Q451.134 1467.33 448.796 1465.11 Q446.458 1462.89 446.458 1458.93 Q446.458 1454.34 449.676 1451.71 Q452.917 1449.07 458.588 1449.07 Q461.018 1449.07 463.542 1449.51 Q466.065 1449.95 468.704 1450.83 Z\" fill=\"#000000\" fill-rule=\"evenodd\" fill-opacity=\"1\" /><path clip-path=\"url(#clip3000)\" d=\"M 0 0 M497.43 1470.22 L497.43 1472.31 L477.847 1472.31 Q478.125 1476.71 480.486 1479.02 Q482.87 1481.31 487.106 1481.31 Q489.56 1481.31 491.852 1480.71 Q494.166 1480.11 496.435 1478.9 L496.435 1482.93 Q494.143 1483.9 491.736 1484.41 Q489.329 1484.92 486.852 1484.92 Q480.648 1484.92 477.014 1481.31 Q473.403 1477.7 473.403 1471.54 Q473.403 1465.18 476.829 1461.45 Q480.278 1457.7 486.111 1457.7 Q491.342 1457.7 494.375 1461.08 Q497.43 1464.44 497.43 1470.22 M493.171 1468.97 Q493.125 1465.48 491.204 1463.4 Q489.305 1461.31 486.157 1461.31 Q482.592 1461.31 480.44 1463.33 Q478.31 1465.34 477.986 1469 L493.171 1468.97 Z\" fill=\"#000000\" fill-rule=\"evenodd\" fill-opacity=\"1\" /><path clip-path=\"url(#clip3000)\" d=\"M 0 0 M506.018 1480.36 L506.018 1494.11 L501.736 1494.11 L501.736 1458.33 L506.018 1458.33 L506.018 1462.26 Q507.361 1459.95 509.398 1458.84 Q511.458 1457.7 514.305 1457.7 Q519.027 1457.7 521.967 1461.45 Q524.93 1465.2 524.93 1471.31 Q524.93 1477.42 521.967 1481.17 Q519.027 1484.92 514.305 1484.92 Q511.458 1484.92 509.398 1483.81 Q507.361 1482.68 506.018 1480.36 M520.509 1471.31 Q520.509 1466.61 518.564 1463.95 Q516.643 1461.27 513.264 1461.27 Q509.884 1461.27 507.94 1463.95 Q506.018 1466.61 506.018 1471.31 Q506.018 1476.01 507.94 1478.7 Q509.884 1481.36 513.264 1481.36 Q516.643 1481.36 518.564 1478.7 Q520.509 1476.01 520.509 1471.31 Z\" fill=\"#000000\" fill-rule=\"evenodd\" fill-opacity=\"1\" /><path clip-path=\"url(#clip3000)\" d=\"M 0 0 M530 1478.37 L534.884 1478.37 L534.884 1484.25 L530 1484.25 L530 1478.37 Z\" fill=\"#000000\" fill-rule=\"evenodd\" fill-opacity=\"1\" /><path clip-path=\"url(#clip3000)\" d=\"M 0 0 M555.833 1480.32 L563.472 1480.32 L563.472 1453.95 L555.162 1455.62 L555.162 1451.36 L563.425 1449.69 L568.101 1449.69 L568.101 1480.32 L575.74 1480.32 L575.74 1484.25 L555.833 1484.25 L555.833 1480.32 Z\" fill=\"#000000\" fill-rule=\"evenodd\" fill-opacity=\"1\" /><path clip-path=\"url(#clip3000)\" d=\"M 0 0 M580.948 1483.53 L580.948 1479.28 Q582.708 1480.11 584.513 1480.55 Q586.319 1480.99 588.055 1480.99 Q592.684 1480.99 595.115 1477.89 Q597.569 1474.76 597.916 1468.42 Q596.573 1470.41 594.513 1471.47 Q592.453 1472.54 589.953 1472.54 Q584.768 1472.54 581.735 1469.41 Q578.726 1466.27 578.726 1460.83 Q578.726 1455.5 581.874 1452.28 Q585.022 1449.07 590.254 1449.07 Q596.249 1449.07 599.397 1453.67 Q602.569 1458.26 602.569 1467.01 Q602.569 1475.18 598.68 1480.06 Q594.814 1484.92 588.263 1484.92 Q586.504 1484.92 584.698 1484.58 Q582.893 1484.23 580.948 1483.53 M590.254 1468.88 Q593.402 1468.88 595.231 1466.73 Q597.083 1464.58 597.083 1460.83 Q597.083 1457.1 595.231 1454.95 Q593.402 1452.77 590.254 1452.77 Q587.106 1452.77 585.254 1454.95 Q583.425 1457.1 583.425 1460.83 Q583.425 1464.58 585.254 1466.73 Q587.106 1468.88 590.254 1468.88 Z\" fill=\"#000000\" fill-rule=\"evenodd\" fill-opacity=\"1\" /><path clip-path=\"url(#clip3000)\" d=\"M 0 0 M608.124 1478.37 L613.008 1478.37 L613.008 1482.35 L609.212 1489.76 L606.226 1489.76 L608.124 1482.35 L608.124 1478.37 Z\" fill=\"#000000\" fill-rule=\"evenodd\" fill-opacity=\"1\" /><path clip-path=\"url(#clip3000)\" d=\"M 0 0 M637.175 1480.32 L653.494 1480.32 L653.494 1484.25 L631.55 1484.25 L631.55 1480.32 Q634.212 1477.56 638.795 1472.93 Q643.402 1468.28 644.582 1466.94 Q646.828 1464.41 647.707 1462.68 Q648.61 1460.92 648.61 1459.23 Q648.61 1456.47 646.666 1454.74 Q644.744 1453 641.643 1453 Q639.443 1453 636.99 1453.77 Q634.559 1454.53 631.781 1456.08 L631.781 1451.36 Q634.606 1450.22 637.059 1449.65 Q639.513 1449.07 641.55 1449.07 Q646.92 1449.07 650.115 1451.75 Q653.309 1454.44 653.309 1458.93 Q653.309 1461.06 652.499 1462.98 Q651.712 1464.88 649.605 1467.47 Q649.027 1468.14 645.925 1471.36 Q642.823 1474.55 637.175 1480.32 Z\" fill=\"#000000\" fill-rule=\"evenodd\" fill-opacity=\"1\" /><path clip-path=\"url(#clip3000)\" d=\"M 0 0 M668.564 1452.77 Q664.953 1452.77 663.124 1456.34 Q661.318 1459.88 661.318 1467.01 Q661.318 1474.11 663.124 1477.68 Q664.953 1481.22 668.564 1481.22 Q672.198 1481.22 674.003 1477.68 Q675.832 1474.11 675.832 1467.01 Q675.832 1459.88 674.003 1456.34 Q672.198 1452.77 668.564 1452.77 M668.564 1449.07 Q674.374 1449.07 677.429 1453.67 Q680.508 1458.26 680.508 1467.01 Q680.508 1475.73 677.429 1480.34 Q674.374 1484.92 668.564 1484.92 Q662.754 1484.92 659.675 1480.34 Q656.619 1475.73 656.619 1467.01 Q656.619 1458.26 659.675 1453.67 Q662.754 1449.07 668.564 1449.07 Z\" fill=\"#000000\" fill-rule=\"evenodd\" fill-opacity=\"1\" /><path clip-path=\"url(#clip3000)\" d=\"M 0 0 M731.159 1450.83 L731.159 1455.39 Q728.497 1454.11 726.136 1453.49 Q723.775 1452.86 721.576 1452.86 Q717.757 1452.86 715.673 1454.34 Q713.613 1455.83 713.613 1458.56 Q713.613 1460.85 714.979 1462.03 Q716.368 1463.19 720.21 1463.9 L723.034 1464.48 Q728.266 1465.48 730.743 1468 Q733.243 1470.5 733.243 1474.71 Q733.243 1479.74 729.863 1482.33 Q726.507 1484.92 720.002 1484.92 Q717.548 1484.92 714.771 1484.37 Q712.016 1483.81 709.053 1482.72 L709.053 1477.91 Q711.9 1479.51 714.632 1480.32 Q717.363 1481.13 720.002 1481.13 Q724.007 1481.13 726.183 1479.55 Q728.358 1477.98 728.358 1475.06 Q728.358 1472.52 726.784 1471.08 Q725.233 1469.65 721.669 1468.93 L718.821 1468.37 Q713.59 1467.33 711.252 1465.11 Q708.914 1462.89 708.914 1458.93 Q708.914 1454.34 712.132 1451.71 Q715.372 1449.07 721.044 1449.07 Q723.474 1449.07 725.997 1449.51 Q728.52 1449.95 731.159 1450.83 Z\" fill=\"#000000\" fill-rule=\"evenodd\" fill-opacity=\"1\" /><path clip-path=\"url(#clip3000)\" d=\"M 0 0 M759.886 1470.22 L759.886 1472.31 L740.303 1472.31 Q740.581 1476.71 742.942 1479.02 Q745.326 1481.31 749.562 1481.31 Q752.016 1481.31 754.307 1480.71 Q756.622 1480.11 758.891 1478.9 L758.891 1482.93 Q756.599 1483.9 754.192 1484.41 Q751.784 1484.92 749.307 1484.92 Q743.104 1484.92 739.47 1481.31 Q735.858 1477.7 735.858 1471.54 Q735.858 1465.18 739.284 1461.45 Q742.733 1457.7 748.567 1457.7 Q753.798 1457.7 756.831 1461.08 Q759.886 1464.44 759.886 1470.22 M755.627 1468.97 Q755.581 1465.48 753.659 1463.4 Q751.761 1461.31 748.613 1461.31 Q745.048 1461.31 742.895 1463.33 Q740.766 1465.34 740.442 1469 L755.627 1468.97 Z\" fill=\"#000000\" fill-rule=\"evenodd\" fill-opacity=\"1\" /><path clip-path=\"url(#clip3000)\" d=\"M 0 0 M768.474 1480.36 L768.474 1494.11 L764.192 1494.11 L764.192 1458.33 L768.474 1458.33 L768.474 1462.26 Q769.817 1459.95 771.854 1458.84 Q773.914 1457.7 776.761 1457.7 Q781.483 1457.7 784.423 1461.45 Q787.386 1465.2 787.386 1471.31 Q787.386 1477.42 784.423 1481.17 Q781.483 1484.92 776.761 1484.92 Q773.914 1484.92 771.854 1483.81 Q769.817 1482.68 768.474 1480.36 M782.965 1471.31 Q782.965 1466.61 781.02 1463.95 Q779.099 1461.27 775.719 1461.27 Q772.34 1461.27 770.395 1463.95 Q768.474 1466.61 768.474 1471.31 Q768.474 1476.01 770.395 1478.7 Q772.34 1481.36 775.719 1481.36 Q779.099 1481.36 781.02 1478.7 Q782.965 1476.01 782.965 1471.31 Z\" fill=\"#000000\" fill-rule=\"evenodd\" fill-opacity=\"1\" /><path clip-path=\"url(#clip3000)\" d=\"M 0 0 M792.455 1478.37 L797.34 1478.37 L797.34 1484.25 L792.455 1484.25 L792.455 1478.37 Z\" fill=\"#000000\" fill-rule=\"evenodd\" fill-opacity=\"1\" /><path clip-path=\"url(#clip3000)\" d=\"M 0 0 M821.506 1480.32 L837.825 1480.32 L837.825 1484.25 L815.881 1484.25 L815.881 1480.32 Q818.543 1477.56 823.126 1472.93 Q827.733 1468.28 828.913 1466.94 Q831.159 1464.41 832.038 1462.68 Q832.941 1460.92 832.941 1459.23 Q832.941 1456.47 830.997 1454.74 Q829.076 1453 825.974 1453 Q823.775 1453 821.321 1453.77 Q818.89 1454.53 816.113 1456.08 L816.113 1451.36 Q818.937 1450.22 821.39 1449.65 Q823.844 1449.07 825.881 1449.07 Q831.251 1449.07 834.446 1451.75 Q837.64 1454.44 837.64 1458.93 Q837.64 1461.06 836.83 1462.98 Q836.043 1464.88 833.937 1467.47 Q833.358 1468.14 830.256 1471.36 Q827.154 1474.55 821.506 1480.32 Z\" fill=\"#000000\" fill-rule=\"evenodd\" fill-opacity=\"1\" /><path clip-path=\"url(#clip3000)\" d=\"M 0 0 M852.895 1467.84 Q849.562 1467.84 847.64 1469.62 Q845.742 1471.4 845.742 1474.53 Q845.742 1477.65 847.64 1479.44 Q849.562 1481.22 852.895 1481.22 Q856.228 1481.22 858.149 1479.44 Q860.071 1477.63 860.071 1474.53 Q860.071 1471.4 858.149 1469.62 Q856.251 1467.84 852.895 1467.84 M848.219 1465.85 Q845.21 1465.11 843.52 1463.05 Q841.853 1460.99 841.853 1458.03 Q841.853 1453.88 844.793 1451.47 Q847.756 1449.07 852.895 1449.07 Q858.057 1449.07 860.997 1451.47 Q863.936 1453.88 863.936 1458.03 Q863.936 1460.99 862.247 1463.05 Q860.58 1465.11 857.594 1465.85 Q860.973 1466.64 862.848 1468.93 Q864.747 1471.22 864.747 1474.53 Q864.747 1479.55 861.668 1482.24 Q858.612 1484.92 852.895 1484.92 Q847.177 1484.92 844.099 1482.24 Q841.043 1479.55 841.043 1474.53 Q841.043 1471.22 842.941 1468.93 Q844.839 1466.64 848.219 1465.85 M846.506 1458.46 Q846.506 1461.15 848.173 1462.65 Q849.862 1464.16 852.895 1464.16 Q855.904 1464.16 857.594 1462.65 Q859.307 1461.15 859.307 1458.46 Q859.307 1455.78 857.594 1454.28 Q855.904 1452.77 852.895 1452.77 Q849.862 1452.77 848.173 1454.28 Q846.506 1455.78 846.506 1458.46 Z\" fill=\"#000000\" fill-rule=\"evenodd\" fill-opacity=\"1\" /><path clip-path=\"url(#clip3000)\" d=\"M 0 0 M870.302 1478.37 L875.186 1478.37 L875.186 1482.35 L871.39 1489.76 L868.404 1489.76 L870.302 1482.35 L870.302 1478.37 Z\" fill=\"#000000\" fill-rule=\"evenodd\" fill-opacity=\"1\" /><path clip-path=\"url(#clip3000)\" d=\"M 0 0 M899.353 1480.32 L915.672 1480.32 L915.672 1484.25 L893.728 1484.25 L893.728 1480.32 Q896.39 1477.56 900.973 1472.93 Q905.58 1468.28 906.76 1466.94 Q909.006 1464.41 909.885 1462.68 Q910.788 1460.92 910.788 1459.23 Q910.788 1456.47 908.844 1454.74 Q906.922 1453 903.82 1453 Q901.621 1453 899.168 1453.77 Q896.737 1454.53 893.959 1456.08 L893.959 1451.36 Q896.783 1450.22 899.237 1449.65 Q901.691 1449.07 903.728 1449.07 Q909.098 1449.07 912.293 1451.75 Q915.487 1454.44 915.487 1458.93 Q915.487 1461.06 914.677 1462.98 Q913.89 1464.88 911.783 1467.47 Q911.205 1468.14 908.103 1471.36 Q905.001 1474.55 899.353 1480.32 Z\" fill=\"#000000\" fill-rule=\"evenodd\" fill-opacity=\"1\" /><path clip-path=\"url(#clip3000)\" d=\"M 0 0 M930.742 1452.77 Q927.131 1452.77 925.302 1456.34 Q923.496 1459.88 923.496 1467.01 Q923.496 1474.11 925.302 1477.68 Q927.131 1481.22 930.742 1481.22 Q934.376 1481.22 936.181 1477.68 Q938.01 1474.11 938.01 1467.01 Q938.01 1459.88 936.181 1456.34 Q934.376 1452.77 930.742 1452.77 M930.742 1449.07 Q936.552 1449.07 939.607 1453.67 Q942.686 1458.26 942.686 1467.01 Q942.686 1475.73 939.607 1480.34 Q936.552 1484.92 930.742 1484.92 Q924.931 1484.92 921.853 1480.34 Q918.797 1475.73 918.797 1467.01 Q918.797 1458.26 921.853 1453.67 Q924.931 1449.07 930.742 1449.07 Z\" fill=\"#000000\" fill-rule=\"evenodd\" fill-opacity=\"1\" /><path clip-path=\"url(#clip3000)\" d=\"M 0 0 M973.635 1452.86 Q968.543 1452.86 965.534 1456.66 Q962.547 1460.46 962.547 1467.01 Q962.547 1473.53 965.534 1477.33 Q968.543 1481.13 973.635 1481.13 Q978.728 1481.13 981.691 1477.33 Q984.677 1473.53 984.677 1467.01 Q984.677 1460.46 981.691 1456.66 Q978.728 1452.86 973.635 1452.86 M973.635 1449.07 Q980.904 1449.07 985.256 1453.95 Q989.608 1458.81 989.608 1467.01 Q989.608 1475.18 985.256 1480.06 Q980.904 1484.92 973.635 1484.92 Q966.344 1484.92 961.969 1480.06 Q957.617 1475.2 957.617 1467.01 Q957.617 1458.81 961.969 1453.95 Q966.344 1449.07 973.635 1449.07 Z\" fill=\"#000000\" fill-rule=\"evenodd\" fill-opacity=\"1\" /><path clip-path=\"url(#clip3000)\" d=\"M 0 0 M1012.73 1459.32 L1012.73 1463.3 Q1010.93 1462.31 1009.1 1461.82 Q1007.29 1461.31 1005.44 1461.31 Q1001.3 1461.31 999.006 1463.95 Q996.714 1466.57 996.714 1471.31 Q996.714 1476.06 999.006 1478.7 Q1001.3 1481.31 1005.44 1481.31 Q1007.29 1481.31 1009.1 1480.83 Q1010.93 1480.32 1012.73 1479.32 L1012.73 1483.26 Q1010.95 1484.09 1009.03 1484.51 Q1007.13 1484.92 1004.98 1484.92 Q999.121 1484.92 995.672 1481.24 Q992.223 1477.56 992.223 1471.31 Q992.223 1464.97 995.695 1461.34 Q999.191 1457.7 1005.26 1457.7 Q1007.22 1457.7 1009.1 1458.12 Q1010.97 1458.51 1012.73 1459.32 Z\" fill=\"#000000\" fill-rule=\"evenodd\" fill-opacity=\"1\" /><path clip-path=\"url(#clip3000)\" d=\"M 0 0 M1021.41 1450.96 L1021.41 1458.33 L1030.19 1458.33 L1030.19 1461.64 L1021.41 1461.64 L1021.41 1475.71 Q1021.41 1478.88 1022.27 1479.78 Q1023.15 1480.69 1025.81 1480.69 L1030.19 1480.69 L1030.19 1484.25 L1025.81 1484.25 Q1020.88 1484.25 1019.01 1482.42 Q1017.13 1480.57 1017.13 1475.71 L1017.13 1461.64 L1014.01 1461.64 L1014.01 1458.33 L1017.13 1458.33 L1017.13 1450.96 L1021.41 1450.96 Z\" fill=\"#000000\" fill-rule=\"evenodd\" fill-opacity=\"1\" /><path clip-path=\"url(#clip3000)\" d=\"M 0 0 M1035.26 1478.37 L1040.14 1478.37 L1040.14 1484.25 L1035.26 1484.25 L1035.26 1478.37 Z\" fill=\"#000000\" fill-rule=\"evenodd\" fill-opacity=\"1\" /><path clip-path=\"url(#clip3000)\" d=\"M 0 0 M1070.86 1465.11 Q1067.71 1465.11 1065.86 1467.26 Q1064.03 1469.41 1064.03 1473.16 Q1064.03 1476.89 1065.86 1479.07 Q1067.71 1481.22 1070.86 1481.22 Q1074.01 1481.22 1075.83 1479.07 Q1077.69 1476.89 1077.69 1473.16 Q1077.69 1469.41 1075.83 1467.26 Q1074.01 1465.11 1070.86 1465.11 M1080.14 1450.46 L1080.14 1454.71 Q1078.38 1453.88 1076.57 1453.44 Q1074.79 1453 1073.03 1453 Q1068.4 1453 1065.95 1456.13 Q1063.52 1459.25 1063.17 1465.57 Q1064.54 1463.56 1066.6 1462.49 Q1068.66 1461.4 1071.13 1461.4 Q1076.34 1461.4 1079.35 1464.58 Q1082.38 1467.72 1082.38 1473.16 Q1082.38 1478.49 1079.24 1481.71 Q1076.09 1484.92 1070.86 1484.92 Q1064.86 1484.92 1061.69 1480.34 Q1058.52 1475.73 1058.52 1467.01 Q1058.52 1458.81 1062.41 1453.95 Q1066.3 1449.07 1072.85 1449.07 Q1074.61 1449.07 1076.39 1449.41 Q1078.2 1449.76 1080.14 1450.46 Z\" fill=\"#000000\" fill-rule=\"evenodd\" fill-opacity=\"1\" /><path clip-path=\"url(#clip3000)\" d=\"M 0 0 M1087.94 1478.37 L1092.82 1478.37 L1092.82 1482.35 L1089.03 1489.76 L1086.04 1489.76 L1087.94 1482.35 L1087.94 1478.37 Z\" fill=\"#000000\" fill-rule=\"evenodd\" fill-opacity=\"1\" /><path clip-path=\"url(#clip3000)\" d=\"M 0 0 M1116.99 1480.32 L1133.31 1480.32 L1133.31 1484.25 L1111.37 1484.25 L1111.37 1480.32 Q1114.03 1477.56 1118.61 1472.93 Q1123.22 1468.28 1124.4 1466.94 Q1126.64 1464.41 1127.52 1462.68 Q1128.43 1460.92 1128.43 1459.23 Q1128.43 1456.47 1126.48 1454.74 Q1124.56 1453 1121.46 1453 Q1119.26 1453 1116.81 1453.77 Q1114.38 1454.53 1111.6 1456.08 L1111.6 1451.36 Q1114.42 1450.22 1116.88 1449.65 Q1119.33 1449.07 1121.37 1449.07 Q1126.74 1449.07 1129.93 1451.75 Q1133.13 1454.44 1133.13 1458.93 Q1133.13 1461.06 1132.32 1462.98 Q1131.53 1464.88 1129.42 1467.47 Q1128.84 1468.14 1125.74 1471.36 Q1122.64 1474.55 1116.99 1480.32 Z\" fill=\"#000000\" fill-rule=\"evenodd\" fill-opacity=\"1\" /><path clip-path=\"url(#clip3000)\" d=\"M 0 0 M1148.38 1452.77 Q1144.77 1452.77 1142.94 1456.34 Q1141.13 1459.88 1141.13 1467.01 Q1141.13 1474.11 1142.94 1477.68 Q1144.77 1481.22 1148.38 1481.22 Q1152.01 1481.22 1153.82 1477.68 Q1155.65 1474.11 1155.65 1467.01 Q1155.65 1459.88 1153.82 1456.34 Q1152.01 1452.77 1148.38 1452.77 M1148.38 1449.07 Q1154.19 1449.07 1157.25 1453.67 Q1160.32 1458.26 1160.32 1467.01 Q1160.32 1475.73 1157.25 1480.34 Q1154.19 1484.92 1148.38 1484.92 Q1142.57 1484.92 1139.49 1480.34 Q1136.44 1475.73 1136.44 1467.01 Q1136.44 1458.26 1139.49 1453.67 Q1142.57 1449.07 1148.38 1449.07 Z\" fill=\"#000000\" fill-rule=\"evenodd\" fill-opacity=\"1\" /><path clip-path=\"url(#clip3000)\" d=\"M 0 0 M1223.64 1452.86 Q1218.54 1452.86 1215.54 1456.66 Q1212.55 1460.46 1212.55 1467.01 Q1212.55 1473.53 1215.54 1477.33 Q1218.54 1481.13 1223.64 1481.13 Q1228.73 1481.13 1231.69 1477.33 Q1234.68 1473.53 1234.68 1467.01 Q1234.68 1460.46 1231.69 1456.66 Q1228.73 1452.86 1223.64 1452.86 M1223.64 1449.07 Q1230.91 1449.07 1235.26 1453.95 Q1239.61 1458.81 1239.61 1467.01 Q1239.61 1475.18 1235.26 1480.06 Q1230.91 1484.92 1223.64 1484.92 Q1216.35 1484.92 1211.97 1480.06 Q1207.62 1475.2 1207.62 1467.01 Q1207.62 1458.81 1211.97 1453.95 Q1216.35 1449.07 1223.64 1449.07 Z\" fill=\"#000000\" fill-rule=\"evenodd\" fill-opacity=\"1\" /><path clip-path=\"url(#clip3000)\" d=\"M 0 0 M1262.73 1459.32 L1262.73 1463.3 Q1260.93 1462.31 1259.1 1461.82 Q1257.29 1461.31 1255.44 1461.31 Q1251.3 1461.31 1249.01 1463.95 Q1246.72 1466.57 1246.72 1471.31 Q1246.72 1476.06 1249.01 1478.7 Q1251.3 1481.31 1255.44 1481.31 Q1257.29 1481.31 1259.1 1480.83 Q1260.93 1480.32 1262.73 1479.32 L1262.73 1483.26 Q1260.95 1484.09 1259.03 1484.51 Q1257.13 1484.92 1254.98 1484.92 Q1249.12 1484.92 1245.67 1481.24 Q1242.23 1477.56 1242.23 1471.31 Q1242.23 1464.97 1245.7 1461.34 Q1249.19 1457.7 1255.26 1457.7 Q1257.23 1457.7 1259.1 1458.12 Q1260.98 1458.51 1262.73 1459.32 Z\" fill=\"#000000\" fill-rule=\"evenodd\" fill-opacity=\"1\" /><path clip-path=\"url(#clip3000)\" d=\"M 0 0 M1271.42 1450.96 L1271.42 1458.33 L1280.19 1458.33 L1280.19 1461.64 L1271.42 1461.64 L1271.42 1475.71 Q1271.42 1478.88 1272.27 1479.78 Q1273.15 1480.69 1275.81 1480.69 L1280.19 1480.69 L1280.19 1484.25 L1275.81 1484.25 Q1270.88 1484.25 1269.01 1482.42 Q1267.13 1480.57 1267.13 1475.71 L1267.13 1461.64 L1264.01 1461.64 L1264.01 1458.33 L1267.13 1458.33 L1267.13 1450.96 L1271.42 1450.96 Z\" fill=\"#000000\" fill-rule=\"evenodd\" fill-opacity=\"1\" /><path clip-path=\"url(#clip3000)\" d=\"M 0 0 M1285.26 1478.37 L1290.14 1478.37 L1290.14 1484.25 L1285.26 1484.25 L1285.26 1478.37 Z\" fill=\"#000000\" fill-rule=\"evenodd\" fill-opacity=\"1\" /><path clip-path=\"url(#clip3000)\" d=\"M 0 0 M1311.09 1480.32 L1318.73 1480.32 L1318.73 1453.95 L1310.42 1455.62 L1310.42 1451.36 L1318.68 1449.69 L1323.36 1449.69 L1323.36 1480.32 L1331 1480.32 L1331 1484.25 L1311.09 1484.25 L1311.09 1480.32 Z\" fill=\"#000000\" fill-rule=\"evenodd\" fill-opacity=\"1\" /><path clip-path=\"url(#clip3000)\" d=\"M 0 0 M1336.11 1449.69 L1354.47 1449.69 L1354.47 1453.63 L1340.4 1453.63 L1340.4 1462.1 Q1341.41 1461.75 1342.43 1461.59 Q1343.45 1461.4 1344.47 1461.4 Q1350.26 1461.4 1353.64 1464.58 Q1357.02 1467.75 1357.02 1473.16 Q1357.02 1478.74 1353.54 1481.84 Q1350.07 1484.92 1343.75 1484.92 Q1341.58 1484.92 1339.31 1484.55 Q1337.06 1484.18 1334.66 1483.44 L1334.66 1478.74 Q1336.74 1479.88 1338.96 1480.43 Q1341.18 1480.99 1343.66 1480.99 Q1347.66 1480.99 1350 1478.88 Q1352.34 1476.78 1352.34 1473.16 Q1352.34 1469.55 1350 1467.45 Q1347.66 1465.34 1343.66 1465.34 Q1341.79 1465.34 1339.91 1465.76 Q1338.06 1466.17 1336.11 1467.05 L1336.11 1449.69 Z\" fill=\"#000000\" fill-rule=\"evenodd\" fill-opacity=\"1\" /><path clip-path=\"url(#clip3000)\" d=\"M 0 0 M1362.57 1478.37 L1367.46 1478.37 L1367.46 1482.35 L1363.66 1489.76 L1360.67 1489.76 L1362.57 1482.35 L1362.57 1478.37 Z\" fill=\"#000000\" fill-rule=\"evenodd\" fill-opacity=\"1\" /><path clip-path=\"url(#clip3000)\" d=\"M 0 0 M1391.62 1480.32 L1407.94 1480.32 L1407.94 1484.25 L1386 1484.25 L1386 1480.32 Q1388.66 1477.56 1393.24 1472.93 Q1397.85 1468.28 1399.03 1466.94 Q1401.28 1464.41 1402.16 1462.68 Q1403.06 1460.92 1403.06 1459.23 Q1403.06 1456.47 1401.11 1454.74 Q1399.19 1453 1396.09 1453 Q1393.89 1453 1391.44 1453.77 Q1389.01 1454.53 1386.23 1456.08 L1386.23 1451.36 Q1389.05 1450.22 1391.51 1449.65 Q1393.96 1449.07 1396 1449.07 Q1401.37 1449.07 1404.56 1451.75 Q1407.76 1454.44 1407.76 1458.93 Q1407.76 1461.06 1406.95 1462.98 Q1406.16 1464.88 1404.05 1467.47 Q1403.47 1468.14 1400.37 1471.36 Q1397.27 1474.55 1391.62 1480.32 Z\" fill=\"#000000\" fill-rule=\"evenodd\" fill-opacity=\"1\" /><path clip-path=\"url(#clip3000)\" d=\"M 0 0 M1423.01 1452.77 Q1419.4 1452.77 1417.57 1456.34 Q1415.77 1459.88 1415.77 1467.01 Q1415.77 1474.11 1417.57 1477.68 Q1419.4 1481.22 1423.01 1481.22 Q1426.65 1481.22 1428.45 1477.68 Q1430.28 1474.11 1430.28 1467.01 Q1430.28 1459.88 1428.45 1456.34 Q1426.65 1452.77 1423.01 1452.77 M1423.01 1449.07 Q1428.82 1449.07 1431.88 1453.67 Q1434.96 1458.26 1434.96 1467.01 Q1434.96 1475.73 1431.88 1480.34 Q1428.82 1484.92 1423.01 1484.92 Q1417.2 1484.92 1414.12 1480.34 Q1411.07 1475.73 1411.07 1467.01 Q1411.07 1458.26 1414.12 1453.67 Q1417.2 1449.07 1423.01 1449.07 Z\" fill=\"#000000\" fill-rule=\"evenodd\" fill-opacity=\"1\" /><path clip-path=\"url(#clip3000)\" d=\"M 0 0 M1456.82 1452.86 Q1451.73 1452.86 1448.72 1456.66 Q1445.73 1460.46 1445.73 1467.01 Q1445.73 1473.53 1448.72 1477.33 Q1451.73 1481.13 1456.82 1481.13 Q1461.91 1481.13 1464.88 1477.33 Q1467.86 1473.53 1467.86 1467.01 Q1467.86 1460.46 1464.88 1456.66 Q1461.91 1452.86 1456.82 1452.86 M1456.82 1449.07 Q1464.09 1449.07 1468.44 1453.95 Q1472.79 1458.81 1472.79 1467.01 Q1472.79 1475.18 1468.44 1480.06 Q1464.09 1484.92 1456.82 1484.92 Q1449.53 1484.92 1445.15 1480.06 Q1440.8 1475.2 1440.8 1467.01 Q1440.8 1458.81 1445.15 1453.95 Q1449.53 1449.07 1456.82 1449.07 Z\" fill=\"#000000\" fill-rule=\"evenodd\" fill-opacity=\"1\" /><path clip-path=\"url(#clip3000)\" d=\"M 0 0 M1495.92 1459.32 L1495.92 1463.3 Q1494.11 1462.31 1492.28 1461.82 Q1490.48 1461.31 1488.62 1461.31 Q1484.48 1461.31 1482.19 1463.95 Q1479.9 1466.57 1479.9 1471.31 Q1479.9 1476.06 1482.19 1478.7 Q1484.48 1481.31 1488.62 1481.31 Q1490.48 1481.31 1492.28 1480.83 Q1494.11 1480.32 1495.92 1479.32 L1495.92 1483.26 Q1494.13 1484.09 1492.21 1484.51 Q1490.31 1484.92 1488.16 1484.92 Q1482.31 1484.92 1478.86 1481.24 Q1475.41 1477.56 1475.41 1471.31 Q1475.41 1464.97 1478.88 1461.34 Q1482.38 1457.7 1488.44 1457.7 Q1490.41 1457.7 1492.28 1458.12 Q1494.16 1458.51 1495.92 1459.32 Z\" fill=\"#000000\" fill-rule=\"evenodd\" fill-opacity=\"1\" /><path clip-path=\"url(#clip3000)\" d=\"M 0 0 M1504.6 1450.96 L1504.6 1458.33 L1513.37 1458.33 L1513.37 1461.64 L1504.6 1461.64 L1504.6 1475.71 Q1504.6 1478.88 1505.45 1479.78 Q1506.33 1480.69 1509 1480.69 L1513.37 1480.69 L1513.37 1484.25 L1509 1484.25 Q1504.06 1484.25 1502.19 1482.42 Q1500.31 1480.57 1500.31 1475.71 L1500.31 1461.64 L1497.19 1461.64 L1497.19 1458.33 L1500.31 1458.33 L1500.31 1450.96 L1504.6 1450.96 Z\" fill=\"#000000\" fill-rule=\"evenodd\" fill-opacity=\"1\" /><path clip-path=\"url(#clip3000)\" d=\"M 0 0 M1518.44 1478.37 L1523.32 1478.37 L1523.32 1484.25 L1518.44 1484.25 L1518.44 1478.37 Z\" fill=\"#000000\" fill-rule=\"evenodd\" fill-opacity=\"1\" /><path clip-path=\"url(#clip3000)\" d=\"M 0 0 M1547.49 1480.32 L1563.81 1480.32 L1563.81 1484.25 L1541.87 1484.25 L1541.87 1480.32 Q1544.53 1477.56 1549.11 1472.93 Q1553.72 1468.28 1554.9 1466.94 Q1557.14 1464.41 1558.02 1462.68 Q1558.93 1460.92 1558.93 1459.23 Q1558.93 1456.47 1556.98 1454.74 Q1555.06 1453 1551.96 1453 Q1549.76 1453 1547.31 1453.77 Q1544.87 1454.53 1542.1 1456.08 L1542.1 1451.36 Q1544.92 1450.22 1547.37 1449.65 Q1549.83 1449.07 1551.87 1449.07 Q1557.24 1449.07 1560.43 1451.75 Q1563.62 1454.44 1563.62 1458.93 Q1563.62 1461.06 1562.81 1462.98 Q1562.03 1464.88 1559.92 1467.47 Q1559.34 1468.14 1556.24 1471.36 Q1553.14 1474.55 1547.49 1480.32 Z\" fill=\"#000000\" fill-rule=\"evenodd\" fill-opacity=\"1\" /><path clip-path=\"url(#clip3000)\" d=\"M 0 0 M1583.05 1465.62 Q1586.4 1466.34 1588.28 1468.6 Q1590.18 1470.87 1590.18 1474.21 Q1590.18 1479.32 1586.66 1482.12 Q1583.14 1484.92 1576.66 1484.92 Q1574.48 1484.92 1572.17 1484.48 Q1569.87 1484.07 1567.42 1483.21 L1567.42 1478.7 Q1569.37 1479.83 1571.68 1480.41 Q1573.99 1480.99 1576.52 1480.99 Q1580.92 1480.99 1583.21 1479.25 Q1585.52 1477.52 1585.52 1474.21 Q1585.52 1471.15 1583.37 1469.44 Q1581.24 1467.7 1577.42 1467.7 L1573.39 1467.7 L1573.39 1463.86 L1577.61 1463.86 Q1581.06 1463.86 1582.88 1462.49 Q1584.71 1461.1 1584.71 1458.51 Q1584.71 1455.85 1582.81 1454.44 Q1580.94 1453 1577.42 1453 Q1575.5 1453 1573.3 1453.42 Q1571.1 1453.84 1568.46 1454.71 L1568.46 1450.55 Q1571.12 1449.81 1573.44 1449.44 Q1575.78 1449.07 1577.84 1449.07 Q1583.16 1449.07 1586.26 1451.5 Q1589.37 1453.9 1589.37 1458.03 Q1589.37 1460.9 1587.72 1462.89 Q1586.08 1464.85 1583.05 1465.62 Z\" fill=\"#000000\" fill-rule=\"evenodd\" fill-opacity=\"1\" /><path clip-path=\"url(#clip3000)\" d=\"M 0 0 M1595.73 1478.37 L1600.62 1478.37 L1600.62 1482.35 L1596.82 1489.76 L1593.83 1489.76 L1595.73 1482.35 L1595.73 1478.37 Z\" fill=\"#000000\" fill-rule=\"evenodd\" fill-opacity=\"1\" /><path clip-path=\"url(#clip3000)\" d=\"M 0 0 M1624.78 1480.32 L1641.1 1480.32 L1641.1 1484.25 L1619.16 1484.25 L1619.16 1480.32 Q1621.82 1477.56 1626.4 1472.93 Q1631.01 1468.28 1632.19 1466.94 Q1634.43 1464.41 1635.31 1462.68 Q1636.22 1460.92 1636.22 1459.23 Q1636.22 1456.47 1634.27 1454.74 Q1632.35 1453 1629.25 1453 Q1627.05 1453 1624.6 1453.77 Q1622.17 1454.53 1619.39 1456.08 L1619.39 1451.36 Q1622.21 1450.22 1624.67 1449.65 Q1627.12 1449.07 1629.16 1449.07 Q1634.53 1449.07 1637.72 1451.75 Q1640.92 1454.44 1640.92 1458.93 Q1640.92 1461.06 1640.11 1462.98 Q1639.32 1464.88 1637.21 1467.47 Q1636.63 1468.14 1633.53 1471.36 Q1630.43 1474.55 1624.78 1480.32 Z\" fill=\"#000000\" fill-rule=\"evenodd\" fill-opacity=\"1\" /><path clip-path=\"url(#clip3000)\" d=\"M 0 0 M1656.17 1452.77 Q1652.56 1452.77 1650.73 1456.34 Q1648.93 1459.88 1648.93 1467.01 Q1648.93 1474.11 1650.73 1477.68 Q1652.56 1481.22 1656.17 1481.22 Q1659.8 1481.22 1661.61 1477.68 Q1663.44 1474.11 1663.44 1467.01 Q1663.44 1459.88 1661.61 1456.34 Q1659.8 1452.77 1656.17 1452.77 M1656.17 1449.07 Q1661.98 1449.07 1665.04 1453.67 Q1668.11 1458.26 1668.11 1467.01 Q1668.11 1475.73 1665.04 1480.34 Q1661.98 1484.92 1656.17 1484.92 Q1650.36 1484.92 1647.28 1480.34 Q1644.23 1475.73 1644.23 1467.01 Q1644.23 1458.26 1647.28 1453.67 Q1650.36 1449.07 1656.17 1449.07 Z\" fill=\"#000000\" fill-rule=\"evenodd\" fill-opacity=\"1\" /><path clip-path=\"url(#clip3000)\" d=\"M 0 0 M1714.63 1449.69 L1720.93 1449.69 L1736.25 1478.6 L1736.25 1449.69 L1740.79 1449.69 L1740.79 1484.25 L1734.5 1484.25 L1719.17 1455.34 L1719.17 1484.25 L1714.63 1484.25 L1714.63 1449.69 Z\" fill=\"#000000\" fill-rule=\"evenodd\" fill-opacity=\"1\" /><path clip-path=\"url(#clip3000)\" d=\"M 0 0 M1755.31 1461.31 Q1751.88 1461.31 1749.89 1464 Q1747.9 1466.66 1747.9 1471.31 Q1747.9 1475.96 1749.87 1478.65 Q1751.86 1481.31 1755.31 1481.31 Q1758.71 1481.31 1760.7 1478.63 Q1762.69 1475.94 1762.69 1471.31 Q1762.69 1466.71 1760.7 1464.02 Q1758.71 1461.31 1755.31 1461.31 M1755.31 1457.7 Q1760.86 1457.7 1764.03 1461.31 Q1767.2 1464.92 1767.2 1471.31 Q1767.2 1477.68 1764.03 1481.31 Q1760.86 1484.92 1755.31 1484.92 Q1749.73 1484.92 1746.56 1481.31 Q1743.41 1477.68 1743.41 1471.31 Q1743.41 1464.92 1746.56 1461.31 Q1749.73 1457.7 1755.31 1457.7 Z\" fill=\"#000000\" fill-rule=\"evenodd\" fill-opacity=\"1\" /><path clip-path=\"url(#clip3000)\" d=\"M 0 0 M1768.62 1458.33 L1773.13 1458.33 L1781.23 1480.09 L1789.33 1458.33 L1793.85 1458.33 L1784.12 1484.25 L1778.34 1484.25 L1768.62 1458.33 Z\" fill=\"#000000\" fill-rule=\"evenodd\" fill-opacity=\"1\" /><path clip-path=\"url(#clip3000)\" d=\"M 0 0 M1795.24 1478.37 L1800.12 1478.37 L1800.12 1484.25 L1795.24 1484.25 L1795.24 1478.37 Z\" fill=\"#000000\" fill-rule=\"evenodd\" fill-opacity=\"1\" /><path clip-path=\"url(#clip3000)\" d=\"M 0 0 M1821.07 1480.32 L1828.71 1480.32 L1828.71 1453.95 L1820.4 1455.62 L1820.4 1451.36 L1828.66 1449.69 L1833.34 1449.69 L1833.34 1480.32 L1840.98 1480.32 L1840.98 1484.25 L1821.07 1484.25 L1821.07 1480.32 Z\" fill=\"#000000\" fill-rule=\"evenodd\" fill-opacity=\"1\" /><path clip-path=\"url(#clip3000)\" d=\"M 0 0 M1846.53 1478.37 L1851.42 1478.37 L1851.42 1482.35 L1847.62 1489.76 L1844.63 1489.76 L1846.53 1482.35 L1846.53 1478.37 Z\" fill=\"#000000\" fill-rule=\"evenodd\" fill-opacity=\"1\" /><path clip-path=\"url(#clip3000)\" d=\"M 0 0 M1875.58 1480.32 L1891.9 1480.32 L1891.9 1484.25 L1869.96 1484.25 L1869.96 1480.32 Q1872.62 1477.56 1877.2 1472.93 Q1881.81 1468.28 1882.99 1466.94 Q1885.24 1464.41 1886.11 1462.68 Q1887.02 1460.92 1887.02 1459.23 Q1887.02 1456.47 1885.07 1454.74 Q1883.15 1453 1880.05 1453 Q1877.85 1453 1875.4 1453.77 Q1872.97 1454.53 1870.19 1456.08 L1870.19 1451.36 Q1873.01 1450.22 1875.47 1449.65 Q1877.92 1449.07 1879.96 1449.07 Q1885.33 1449.07 1888.52 1451.75 Q1891.72 1454.44 1891.72 1458.93 Q1891.72 1461.06 1890.91 1462.98 Q1890.12 1464.88 1888.01 1467.47 Q1887.43 1468.14 1884.33 1471.36 Q1881.23 1474.55 1875.58 1480.32 Z\" fill=\"#000000\" fill-rule=\"evenodd\" fill-opacity=\"1\" /><path clip-path=\"url(#clip3000)\" d=\"M 0 0 M1906.97 1452.77 Q1903.36 1452.77 1901.53 1456.34 Q1899.73 1459.88 1899.73 1467.01 Q1899.73 1474.11 1901.53 1477.68 Q1903.36 1481.22 1906.97 1481.22 Q1910.61 1481.22 1912.41 1477.68 Q1914.24 1474.11 1914.24 1467.01 Q1914.24 1459.88 1912.41 1456.34 Q1910.61 1452.77 1906.97 1452.77 M1906.97 1449.07 Q1912.78 1449.07 1915.84 1453.67 Q1918.92 1458.26 1918.92 1467.01 Q1918.92 1475.73 1915.84 1480.34 Q1912.78 1484.92 1906.97 1484.92 Q1901.16 1484.92 1898.08 1480.34 Q1895.03 1475.73 1895.03 1467.01 Q1895.03 1458.26 1898.08 1453.67 Q1901.16 1449.07 1906.97 1449.07 Z\" fill=\"#000000\" fill-rule=\"evenodd\" fill-opacity=\"1\" /><path clip-path=\"url(#clip3000)\" d=\"M 0 0 M1947.28 1449.69 L1953.58 1449.69 L1968.9 1478.6 L1968.9 1449.69 L1973.44 1449.69 L1973.44 1484.25 L1967.14 1484.25 L1951.82 1455.34 L1951.82 1484.25 L1947.28 1484.25 L1947.28 1449.69 Z\" fill=\"#000000\" fill-rule=\"evenodd\" fill-opacity=\"1\" /><path clip-path=\"url(#clip3000)\" d=\"M 0 0 M1987.95 1461.31 Q1984.53 1461.31 1982.54 1464 Q1980.55 1466.66 1980.55 1471.31 Q1980.55 1475.96 1982.52 1478.65 Q1984.51 1481.31 1987.95 1481.31 Q1991.36 1481.31 1993.35 1478.63 Q1995.34 1475.94 1995.34 1471.31 Q1995.34 1466.71 1993.35 1464.02 Q1991.36 1461.31 1987.95 1461.31 M1987.95 1457.7 Q1993.51 1457.7 1996.68 1461.31 Q1999.85 1464.92 1999.85 1471.31 Q1999.85 1477.68 1996.68 1481.31 Q1993.51 1484.92 1987.95 1484.92 Q1982.38 1484.92 1979.2 1481.31 Q1976.06 1477.68 1976.06 1471.31 Q1976.06 1464.92 1979.2 1461.31 Q1982.38 1457.7 1987.95 1457.7 Z\" fill=\"#000000\" fill-rule=\"evenodd\" fill-opacity=\"1\" /><path clip-path=\"url(#clip3000)\" d=\"M 0 0 M2001.27 1458.33 L2005.78 1458.33 L2013.88 1480.09 L2021.98 1458.33 L2026.5 1458.33 L2016.77 1484.25 L2010.99 1484.25 L2001.27 1458.33 Z\" fill=\"#000000\" fill-rule=\"evenodd\" fill-opacity=\"1\" /><path clip-path=\"url(#clip3000)\" d=\"M 0 0 M2027.89 1478.37 L2032.77 1478.37 L2032.77 1484.25 L2027.89 1484.25 L2027.89 1478.37 Z\" fill=\"#000000\" fill-rule=\"evenodd\" fill-opacity=\"1\" /><path clip-path=\"url(#clip3000)\" d=\"M 0 0 M2053.05 1483.53 L2053.05 1479.28 Q2054.81 1480.11 2056.61 1480.55 Q2058.42 1480.99 2060.15 1480.99 Q2064.78 1480.99 2067.21 1477.89 Q2069.67 1474.76 2070.01 1468.42 Q2068.67 1470.41 2066.61 1471.47 Q2064.55 1472.54 2062.05 1472.54 Q2056.87 1472.54 2053.83 1469.41 Q2050.82 1466.27 2050.82 1460.83 Q2050.82 1455.5 2053.97 1452.28 Q2057.12 1449.07 2062.35 1449.07 Q2068.35 1449.07 2071.5 1453.67 Q2074.67 1458.26 2074.67 1467.01 Q2074.67 1475.18 2070.78 1480.06 Q2066.91 1484.92 2060.36 1484.92 Q2058.6 1484.92 2056.8 1484.58 Q2054.99 1484.23 2053.05 1483.53 M2062.35 1468.88 Q2065.5 1468.88 2067.33 1466.73 Q2069.18 1464.58 2069.18 1460.83 Q2069.18 1457.1 2067.33 1454.95 Q2065.5 1452.77 2062.35 1452.77 Q2059.2 1452.77 2057.35 1454.95 Q2055.52 1457.1 2055.52 1460.83 Q2055.52 1464.58 2057.35 1466.73 Q2059.2 1468.88 2062.35 1468.88 Z\" fill=\"#000000\" fill-rule=\"evenodd\" fill-opacity=\"1\" /><path clip-path=\"url(#clip3000)\" d=\"M 0 0 M2080.22 1478.37 L2085.11 1478.37 L2085.11 1482.35 L2081.31 1489.76 L2078.32 1489.76 L2080.22 1482.35 L2080.22 1478.37 Z\" fill=\"#000000\" fill-rule=\"evenodd\" fill-opacity=\"1\" /><path clip-path=\"url(#clip3000)\" d=\"M 0 0 M2109.27 1480.32 L2125.59 1480.32 L2125.59 1484.25 L2103.65 1484.25 L2103.65 1480.32 Q2106.31 1477.56 2110.89 1472.93 Q2115.5 1468.28 2116.68 1466.94 Q2118.93 1464.41 2119.81 1462.68 Q2120.71 1460.92 2120.71 1459.23 Q2120.71 1456.47 2118.76 1454.74 Q2116.84 1453 2113.74 1453 Q2111.54 1453 2109.09 1453.77 Q2106.66 1454.53 2103.88 1456.08 L2103.88 1451.36 Q2106.7 1450.22 2109.16 1449.65 Q2111.61 1449.07 2113.65 1449.07 Q2119.02 1449.07 2122.21 1451.75 Q2125.41 1454.44 2125.41 1458.93 Q2125.41 1461.06 2124.6 1462.98 Q2123.81 1464.88 2121.7 1467.47 Q2121.13 1468.14 2118.02 1471.36 Q2114.92 1474.55 2109.27 1480.32 Z\" fill=\"#000000\" fill-rule=\"evenodd\" fill-opacity=\"1\" /><path clip-path=\"url(#clip3000)\" d=\"M 0 0 M2140.66 1452.77 Q2137.05 1452.77 2135.22 1456.34 Q2133.42 1459.88 2133.42 1467.01 Q2133.42 1474.11 2135.22 1477.68 Q2137.05 1481.22 2140.66 1481.22 Q2144.3 1481.22 2146.1 1477.68 Q2147.93 1474.11 2147.93 1467.01 Q2147.93 1459.88 2146.1 1456.34 Q2144.3 1452.77 2140.66 1452.77 M2140.66 1449.07 Q2146.47 1449.07 2149.53 1453.67 Q2152.61 1458.26 2152.61 1467.01 Q2152.61 1475.73 2149.53 1480.34 Q2146.47 1484.92 2140.66 1484.92 Q2134.85 1484.92 2131.77 1480.34 Q2128.72 1475.73 2128.72 1467.01 Q2128.72 1458.26 2131.77 1453.67 Q2134.85 1449.07 2140.66 1449.07 Z\" fill=\"#000000\" fill-rule=\"evenodd\" fill-opacity=\"1\" /><path clip-path=\"url(#clip3000)\" d=\"M 0 0 M2167.92 1449.69 L2174.22 1449.69 L2189.54 1478.6 L2189.54 1449.69 L2194.08 1449.69 L2194.08 1484.25 L2187.78 1484.25 L2172.46 1455.34 L2172.46 1484.25 L2167.92 1484.25 L2167.92 1449.69 Z\" fill=\"#000000\" fill-rule=\"evenodd\" fill-opacity=\"1\" /><path clip-path=\"url(#clip3000)\" d=\"M 0 0 M2208.59 1461.31 Q2205.16 1461.31 2203.17 1464 Q2201.18 1466.66 2201.18 1471.31 Q2201.18 1475.96 2203.15 1478.65 Q2205.14 1481.31 2208.59 1481.31 Q2211.99 1481.31 2213.98 1478.63 Q2215.98 1475.94 2215.98 1471.31 Q2215.98 1466.71 2213.98 1464.02 Q2211.99 1461.31 2208.59 1461.31 M2208.59 1457.7 Q2214.15 1457.7 2217.32 1461.31 Q2220.49 1464.92 2220.49 1471.31 Q2220.49 1477.68 2217.32 1481.31 Q2214.15 1484.92 2208.59 1484.92 Q2203.01 1484.92 2199.84 1481.31 Q2196.69 1477.68 2196.69 1471.31 Q2196.69 1464.92 2199.84 1461.31 Q2203.01 1457.7 2208.59 1457.7 Z\" fill=\"#000000\" fill-rule=\"evenodd\" fill-opacity=\"1\" /><path clip-path=\"url(#clip3000)\" d=\"M 0 0 M2221.9 1458.33 L2226.41 1458.33 L2234.52 1480.09 L2242.62 1458.33 L2247.13 1458.33 L2237.41 1484.25 L2231.62 1484.25 L2221.9 1458.33 Z\" fill=\"#000000\" fill-rule=\"evenodd\" fill-opacity=\"1\" /><path clip-path=\"url(#clip3000)\" d=\"M 0 0 M2248.52 1478.37 L2253.41 1478.37 L2253.41 1484.25 L2248.52 1484.25 L2248.52 1478.37 Z\" fill=\"#000000\" fill-rule=\"evenodd\" fill-opacity=\"1\" /><path clip-path=\"url(#clip3000)\" d=\"M 0 0 M2274.35 1480.32 L2281.99 1480.32 L2281.99 1453.95 L2273.68 1455.62 L2273.68 1451.36 L2281.95 1449.69 L2286.62 1449.69 L2286.62 1480.32 L2294.26 1480.32 L2294.26 1484.25 L2274.35 1484.25 L2274.35 1480.32 Z\" fill=\"#000000\" fill-rule=\"evenodd\" fill-opacity=\"1\" /><path clip-path=\"url(#clip3000)\" d=\"M 0 0 M2298.15 1449.69 L2320.37 1449.69 L2320.37 1451.68 L2307.83 1484.25 L2302.94 1484.25 L2314.75 1453.63 L2298.15 1453.63 L2298.15 1449.69 Z\" fill=\"#000000\" fill-rule=\"evenodd\" fill-opacity=\"1\" /><path clip-path=\"url(#clip3000)\" d=\"M 0 0 M2325.93 1478.37 L2330.81 1478.37 L2330.81 1482.35 L2327.02 1489.76 L2324.03 1489.76 L2325.93 1482.35 L2325.93 1478.37 Z\" fill=\"#000000\" fill-rule=\"evenodd\" fill-opacity=\"1\" /><path clip-path=\"url(#clip3000)\" d=\"M 0 0 M2354.98 1480.32 L2371.3 1480.32 L2371.3 1484.25 L2349.35 1484.25 L2349.35 1480.32 Q2352.02 1477.56 2356.6 1472.93 Q2361.21 1468.28 2362.39 1466.94 Q2364.63 1464.41 2365.51 1462.68 Q2366.41 1460.92 2366.41 1459.23 Q2366.41 1456.47 2364.47 1454.74 Q2362.55 1453 2359.45 1453 Q2357.25 1453 2354.79 1453.77 Q2352.36 1454.53 2349.59 1456.08 L2349.59 1451.36 Q2352.41 1450.22 2354.86 1449.65 Q2357.32 1449.07 2359.35 1449.07 Q2364.72 1449.07 2367.92 1451.75 Q2371.11 1454.44 2371.11 1458.93 Q2371.11 1461.06 2370.3 1462.98 Q2369.52 1464.88 2367.41 1467.47 Q2366.83 1468.14 2363.73 1471.36 Q2360.63 1474.55 2354.98 1480.32 Z\" fill=\"#000000\" fill-rule=\"evenodd\" fill-opacity=\"1\" /><path clip-path=\"url(#clip3000)\" d=\"M 0 0 M2386.37 1452.77 Q2382.76 1452.77 2380.93 1456.34 Q2379.12 1459.88 2379.12 1467.01 Q2379.12 1474.11 2380.93 1477.68 Q2382.76 1481.22 2386.37 1481.22 Q2390 1481.22 2391.81 1477.68 Q2393.64 1474.11 2393.64 1467.01 Q2393.64 1459.88 2391.81 1456.34 Q2390 1452.77 2386.37 1452.77 M2386.37 1449.07 Q2392.18 1449.07 2395.23 1453.67 Q2398.31 1458.26 2398.31 1467.01 Q2398.31 1475.73 2395.23 1480.34 Q2392.18 1484.92 2386.37 1484.92 Q2380.56 1484.92 2377.48 1480.34 Q2374.42 1475.73 2374.42 1467.01 Q2374.42 1458.26 2377.48 1453.67 Q2380.56 1449.07 2386.37 1449.07 Z\" fill=\"#000000\" fill-rule=\"evenodd\" fill-opacity=\"1\" /><path clip-path=\"url(#clip3000)\" d=\"M 0 0 M2429.89 1449.69 L2436.19 1449.69 L2451.51 1478.6 L2451.51 1449.69 L2456.05 1449.69 L2456.05 1484.25 L2449.75 1484.25 L2434.43 1455.34 L2434.43 1484.25 L2429.89 1484.25 L2429.89 1449.69 Z\" fill=\"#000000\" fill-rule=\"evenodd\" fill-opacity=\"1\" /><path clip-path=\"url(#clip3000)\" d=\"M 0 0 M2470.56 1461.31 Q2467.13 1461.31 2465.14 1464 Q2463.15 1466.66 2463.15 1471.31 Q2463.15 1475.96 2465.12 1478.65 Q2467.11 1481.31 2470.56 1481.31 Q2473.96 1481.31 2475.95 1478.63 Q2477.94 1475.94 2477.94 1471.31 Q2477.94 1466.71 2475.95 1464.02 Q2473.96 1461.31 2470.56 1461.31 M2470.56 1457.7 Q2476.12 1457.7 2479.29 1461.31 Q2482.46 1464.92 2482.46 1471.31 Q2482.46 1477.68 2479.29 1481.31 Q2476.12 1484.92 2470.56 1484.92 Q2464.98 1484.92 2461.81 1481.31 Q2458.66 1477.68 2458.66 1471.31 Q2458.66 1464.92 2461.81 1461.31 Q2464.98 1457.7 2470.56 1457.7 Z\" fill=\"#000000\" fill-rule=\"evenodd\" fill-opacity=\"1\" /><path clip-path=\"url(#clip3000)\" d=\"M 0 0 M2483.87 1458.33 L2488.38 1458.33 L2496.49 1480.09 L2504.59 1458.33 L2509.1 1458.33 L2499.38 1484.25 L2493.59 1484.25 L2483.87 1458.33 Z\" fill=\"#000000\" fill-rule=\"evenodd\" fill-opacity=\"1\" /><path clip-path=\"url(#clip3000)\" d=\"M 0 0 M2510.49 1478.37 L2515.37 1478.37 L2515.37 1484.25 L2510.49 1484.25 L2510.49 1478.37 Z\" fill=\"#000000\" fill-rule=\"evenodd\" fill-opacity=\"1\" /><path clip-path=\"url(#clip3000)\" d=\"M 0 0 M2539.54 1480.32 L2555.86 1480.32 L2555.86 1484.25 L2533.92 1484.25 L2533.92 1480.32 Q2536.58 1477.56 2541.16 1472.93 Q2545.77 1468.28 2546.95 1466.94 Q2549.19 1464.41 2550.07 1462.68 Q2550.98 1460.92 2550.98 1459.23 Q2550.98 1456.47 2549.03 1454.74 Q2547.11 1453 2544.01 1453 Q2541.81 1453 2539.36 1453.77 Q2536.93 1454.53 2534.15 1456.08 L2534.15 1451.36 Q2536.97 1450.22 2539.43 1449.65 Q2541.88 1449.07 2543.92 1449.07 Q2549.29 1449.07 2552.48 1451.75 Q2555.68 1454.44 2555.68 1458.93 Q2555.68 1461.06 2554.87 1462.98 Q2554.08 1464.88 2551.97 1467.47 Q2551.39 1468.14 2548.29 1471.36 Q2545.19 1474.55 2539.54 1480.32 Z\" fill=\"#000000\" fill-rule=\"evenodd\" fill-opacity=\"1\" /><path clip-path=\"url(#clip3000)\" d=\"M 0 0 M2571.51 1465.11 Q2568.36 1465.11 2566.51 1467.26 Q2564.68 1469.41 2564.68 1473.16 Q2564.68 1476.89 2566.51 1479.07 Q2568.36 1481.22 2571.51 1481.22 Q2574.66 1481.22 2576.49 1479.07 Q2578.34 1476.89 2578.34 1473.16 Q2578.34 1469.41 2576.49 1467.26 Q2574.66 1465.11 2571.51 1465.11 M2580.79 1450.46 L2580.79 1454.71 Q2579.03 1453.88 2577.23 1453.44 Q2575.44 1453 2573.68 1453 Q2569.06 1453 2566.6 1456.13 Q2564.17 1459.25 2563.82 1465.57 Q2565.19 1463.56 2567.25 1462.49 Q2569.31 1461.4 2571.79 1461.4 Q2577 1461.4 2580 1464.58 Q2583.04 1467.72 2583.04 1473.16 Q2583.04 1478.49 2579.89 1481.71 Q2576.74 1484.92 2571.51 1484.92 Q2565.51 1484.92 2562.34 1480.34 Q2559.17 1475.73 2559.17 1467.01 Q2559.17 1458.81 2563.06 1453.95 Q2566.95 1449.07 2573.5 1449.07 Q2575.26 1449.07 2577.04 1449.41 Q2578.85 1449.76 2580.79 1450.46 Z\" fill=\"#000000\" fill-rule=\"evenodd\" fill-opacity=\"1\" /><path clip-path=\"url(#clip3000)\" d=\"M 0 0 M2588.59 1478.37 L2593.48 1478.37 L2593.48 1482.35 L2589.68 1489.76 L2586.69 1489.76 L2588.59 1482.35 L2588.59 1478.37 Z\" fill=\"#000000\" fill-rule=\"evenodd\" fill-opacity=\"1\" /><path clip-path=\"url(#clip3000)\" d=\"M 0 0 M2617.64 1480.32 L2633.96 1480.32 L2633.96 1484.25 L2612.02 1484.25 L2612.02 1480.32 Q2614.68 1477.56 2619.26 1472.93 Q2623.87 1468.28 2625.05 1466.94 Q2627.3 1464.41 2628.18 1462.68 Q2629.08 1460.92 2629.08 1459.23 Q2629.08 1456.47 2627.13 1454.74 Q2625.21 1453 2622.11 1453 Q2619.91 1453 2617.46 1453.77 Q2615.03 1454.53 2612.25 1456.08 L2612.25 1451.36 Q2615.07 1450.22 2617.53 1449.65 Q2619.98 1449.07 2622.02 1449.07 Q2627.39 1449.07 2630.58 1451.75 Q2633.78 1454.44 2633.78 1458.93 Q2633.78 1461.06 2632.97 1462.98 Q2632.18 1464.88 2630.07 1467.47 Q2629.49 1468.14 2626.39 1471.36 Q2623.29 1474.55 2617.64 1480.32 Z\" fill=\"#000000\" fill-rule=\"evenodd\" fill-opacity=\"1\" /><path clip-path=\"url(#clip3000)\" d=\"M 0 0 M2649.03 1452.77 Q2645.42 1452.77 2643.59 1456.34 Q2641.79 1459.88 2641.79 1467.01 Q2641.79 1474.11 2643.59 1477.68 Q2645.42 1481.22 2649.03 1481.22 Q2652.67 1481.22 2654.47 1477.68 Q2656.3 1474.11 2656.3 1467.01 Q2656.3 1459.88 2654.47 1456.34 Q2652.67 1452.77 2649.03 1452.77 M2649.03 1449.07 Q2654.84 1449.07 2657.9 1453.67 Q2660.98 1458.26 2660.98 1467.01 Q2660.98 1475.73 2657.9 1480.34 Q2654.84 1484.92 2649.03 1484.92 Q2643.22 1484.92 2640.14 1480.34 Q2637.09 1475.73 2637.09 1467.01 Q2637.09 1458.26 2640.14 1453.67 Q2643.22 1449.07 2649.03 1449.07 Z\" fill=\"#000000\" fill-rule=\"evenodd\" fill-opacity=\"1\" /><path clip-path=\"url(#clip3000)\" d=\"M 0 0 M2678.64 1453.53 L2678.64 1480.41 L2684.29 1480.41 Q2691.44 1480.41 2694.75 1477.17 Q2698.08 1473.93 2698.08 1466.94 Q2698.08 1459.99 2694.75 1456.78 Q2691.44 1453.53 2684.29 1453.53 L2678.64 1453.53 M2673.96 1449.69 L2683.57 1449.69 Q2693.62 1449.69 2698.31 1453.88 Q2703.01 1458.05 2703.01 1466.94 Q2703.01 1475.87 2698.29 1480.06 Q2693.57 1484.25 2683.57 1484.25 L2673.96 1484.25 L2673.96 1449.69 Z\" fill=\"#000000\" fill-rule=\"evenodd\" fill-opacity=\"1\" /><path clip-path=\"url(#clip3000)\" d=\"M 0 0 M2729.66 1470.22 L2729.66 1472.31 L2710.07 1472.31 Q2710.35 1476.71 2712.71 1479.02 Q2715.1 1481.31 2719.33 1481.31 Q2721.79 1481.31 2724.08 1480.71 Q2726.39 1480.11 2728.66 1478.9 L2728.66 1482.93 Q2726.37 1483.9 2723.96 1484.41 Q2721.55 1484.92 2719.08 1484.92 Q2712.87 1484.92 2709.24 1481.31 Q2705.63 1477.7 2705.63 1471.54 Q2705.63 1465.18 2709.05 1461.45 Q2712.5 1457.7 2718.34 1457.7 Q2723.57 1457.7 2726.6 1461.08 Q2729.66 1464.44 2729.66 1470.22 M2725.4 1468.97 Q2725.35 1465.48 2723.43 1463.4 Q2721.53 1461.31 2718.38 1461.31 Q2714.82 1461.31 2712.67 1463.33 Q2710.54 1465.34 2710.21 1469 L2725.4 1468.97 Z\" fill=\"#000000\" fill-rule=\"evenodd\" fill-opacity=\"1\" /><path clip-path=\"url(#clip3000)\" d=\"M 0 0 M2752.78 1459.32 L2752.78 1463.3 Q2750.98 1462.31 2749.15 1461.82 Q2747.34 1461.31 2745.49 1461.31 Q2741.35 1461.31 2739.05 1463.95 Q2736.76 1466.57 2736.76 1471.31 Q2736.76 1476.06 2739.05 1478.7 Q2741.35 1481.31 2745.49 1481.31 Q2747.34 1481.31 2749.15 1480.83 Q2750.98 1480.32 2752.78 1479.32 L2752.78 1483.26 Q2751 1484.09 2749.08 1484.51 Q2747.18 1484.92 2745.03 1484.92 Q2739.17 1484.92 2735.72 1481.24 Q2732.27 1477.56 2732.27 1471.31 Q2732.27 1464.97 2735.74 1461.34 Q2739.24 1457.7 2745.3 1457.7 Q2747.27 1457.7 2749.15 1458.12 Q2751.02 1458.51 2752.78 1459.32 Z\" fill=\"#000000\" fill-rule=\"evenodd\" fill-opacity=\"1\" /><path clip-path=\"url(#clip3000)\" d=\"M 0 0 M2757.85 1478.37 L2762.74 1478.37 L2762.74 1484.25 L2757.85 1484.25 L2757.85 1478.37 Z\" fill=\"#000000\" fill-rule=\"evenodd\" fill-opacity=\"1\" /><path clip-path=\"url(#clip3000)\" d=\"M 0 0 M2795.72 1453.77 L2783.92 1472.21 L2795.72 1472.21 L2795.72 1453.77 M2794.49 1449.69 L2800.37 1449.69 L2800.37 1472.21 L2805.3 1472.21 L2805.3 1476.1 L2800.37 1476.1 L2800.37 1484.25 L2795.72 1484.25 L2795.72 1476.1 L2780.12 1476.1 L2780.12 1471.59 L2794.49 1449.69 Z\" fill=\"#000000\" fill-rule=\"evenodd\" fill-opacity=\"1\" /><path clip-path=\"url(#clip3000)\" d=\"M 0 0 M2810.86 1478.37 L2815.74 1478.37 L2815.74 1482.35 L2811.95 1489.76 L2808.96 1489.76 L2810.86 1482.35 L2810.86 1478.37 Z\" fill=\"#000000\" fill-rule=\"evenodd\" fill-opacity=\"1\" /><path clip-path=\"url(#clip3000)\" d=\"M 0 0 M2839.91 1480.32 L2856.23 1480.32 L2856.23 1484.25 L2834.29 1484.25 L2834.29 1480.32 Q2836.95 1477.56 2841.53 1472.93 Q2846.14 1468.28 2847.32 1466.94 Q2849.56 1464.41 2850.44 1462.68 Q2851.35 1460.92 2851.35 1459.23 Q2851.35 1456.47 2849.4 1454.74 Q2847.48 1453 2844.38 1453 Q2842.18 1453 2839.73 1453.77 Q2837.3 1454.53 2834.52 1456.08 L2834.52 1451.36 Q2837.34 1450.22 2839.8 1449.65 Q2842.25 1449.07 2844.29 1449.07 Q2849.66 1449.07 2852.85 1451.75 Q2856.04 1454.44 2856.04 1458.93 Q2856.04 1461.06 2855.23 1462.98 Q2854.45 1464.88 2852.34 1467.47 Q2851.76 1468.14 2848.66 1471.36 Q2845.56 1474.55 2839.91 1480.32 Z\" fill=\"#000000\" fill-rule=\"evenodd\" fill-opacity=\"1\" /><path clip-path=\"url(#clip3000)\" d=\"M 0 0 M2871.3 1452.77 Q2867.69 1452.77 2865.86 1456.34 Q2864.05 1459.88 2864.05 1467.01 Q2864.05 1474.11 2865.86 1477.68 Q2867.69 1481.22 2871.3 1481.22 Q2874.93 1481.22 2876.74 1477.68 Q2878.57 1474.11 2878.57 1467.01 Q2878.57 1459.88 2876.74 1456.34 Q2874.93 1452.77 2871.3 1452.77 M2871.3 1449.07 Q2877.11 1449.07 2880.17 1453.67 Q2883.24 1458.26 2883.24 1467.01 Q2883.24 1475.73 2880.17 1480.34 Q2877.11 1484.92 2871.3 1484.92 Q2865.49 1484.92 2862.41 1480.34 Q2859.36 1475.73 2859.36 1467.01 Q2859.36 1458.26 2862.41 1453.67 Q2865.49 1449.07 2871.3 1449.07 Z\" fill=\"#000000\" fill-rule=\"evenodd\" fill-opacity=\"1\" /><path clip-path=\"url(#clip3000)\" d=\"M 0 0 M2928.63 1453.53 L2928.63 1480.41 L2934.28 1480.41 Q2941.43 1480.41 2944.74 1477.17 Q2948.07 1473.93 2948.07 1466.94 Q2948.07 1459.99 2944.74 1456.78 Q2941.43 1453.53 2934.28 1453.53 L2928.63 1453.53 M2923.95 1449.69 L2933.56 1449.69 Q2943.61 1449.69 2948.3 1453.88 Q2953 1458.05 2953 1466.94 Q2953 1475.87 2948.28 1480.06 Q2943.56 1484.25 2933.56 1484.25 L2923.95 1484.25 L2923.95 1449.69 Z\" fill=\"#000000\" fill-rule=\"evenodd\" fill-opacity=\"1\" /><path clip-path=\"url(#clip3000)\" d=\"M 0 0 M2979.65 1470.22 L2979.65 1472.31 L2960.06 1472.31 Q2960.34 1476.71 2962.7 1479.02 Q2965.09 1481.31 2969.32 1481.31 Q2971.78 1481.31 2974.07 1480.71 Q2976.38 1480.11 2978.65 1478.9 L2978.65 1482.93 Q2976.36 1483.9 2973.95 1484.41 Q2971.55 1484.92 2969.07 1484.92 Q2962.86 1484.92 2959.23 1481.31 Q2955.62 1477.7 2955.62 1471.54 Q2955.62 1465.18 2959.05 1461.45 Q2962.49 1457.7 2968.33 1457.7 Q2973.56 1457.7 2976.59 1461.08 Q2979.65 1464.44 2979.65 1470.22 M2975.39 1468.97 Q2975.34 1465.48 2973.42 1463.4 Q2971.52 1461.31 2968.37 1461.31 Q2964.81 1461.31 2962.66 1463.33 Q2960.53 1465.34 2960.2 1469 L2975.39 1468.97 Z\" fill=\"#000000\" fill-rule=\"evenodd\" fill-opacity=\"1\" /><path clip-path=\"url(#clip3000)\" d=\"M 0 0 M3002.77 1459.32 L3002.77 1463.3 Q3000.97 1462.31 2999.14 1461.82 Q2997.33 1461.31 2995.48 1461.31 Q2991.34 1461.31 2989.05 1463.95 Q2986.75 1466.57 2986.75 1471.31 Q2986.75 1476.06 2989.05 1478.7 Q2991.34 1481.31 2995.48 1481.31 Q2997.33 1481.31 2999.14 1480.83 Q3000.97 1480.32 3002.77 1479.32 L3002.77 1483.26 Q3000.99 1484.09 2999.07 1484.51 Q2997.17 1484.92 2995.02 1484.92 Q2989.16 1484.92 2985.71 1481.24 Q2982.26 1477.56 2982.26 1471.31 Q2982.26 1464.97 2985.74 1461.34 Q2989.23 1457.7 2995.3 1457.7 Q2997.26 1457.7 2999.14 1458.12 Q3001.01 1458.51 3002.77 1459.32 Z\" fill=\"#000000\" fill-rule=\"evenodd\" fill-opacity=\"1\" /><path clip-path=\"url(#clip3000)\" d=\"M 0 0 M3007.84 1478.37 L3012.73 1478.37 L3012.73 1484.25 L3007.84 1484.25 L3007.84 1478.37 Z\" fill=\"#000000\" fill-rule=\"evenodd\" fill-opacity=\"1\" /><path clip-path=\"url(#clip3000)\" d=\"M 0 0 M3033.67 1480.32 L3041.31 1480.32 L3041.31 1453.95 L3033 1455.62 L3033 1451.36 L3041.27 1449.69 L3045.94 1449.69 L3045.94 1480.32 L3053.58 1480.32 L3053.58 1484.25 L3033.67 1484.25 L3033.67 1480.32 Z\" fill=\"#000000\" fill-rule=\"evenodd\" fill-opacity=\"1\" /><path clip-path=\"url(#clip3000)\" d=\"M 0 0 M3072.82 1465.62 Q3076.17 1466.34 3078.05 1468.6 Q3079.95 1470.87 3079.95 1474.21 Q3079.95 1479.32 3076.43 1482.12 Q3072.91 1484.92 3066.43 1484.92 Q3064.25 1484.92 3061.94 1484.48 Q3059.65 1484.07 3057.19 1483.21 L3057.19 1478.7 Q3059.14 1479.83 3061.45 1480.41 Q3063.77 1480.99 3066.29 1480.99 Q3070.69 1480.99 3072.98 1479.25 Q3075.29 1477.52 3075.29 1474.21 Q3075.29 1471.15 3073.14 1469.44 Q3071.01 1467.7 3067.19 1467.7 L3063.17 1467.7 L3063.17 1463.86 L3067.38 1463.86 Q3070.83 1463.86 3072.66 1462.49 Q3074.48 1461.1 3074.48 1458.51 Q3074.48 1455.85 3072.59 1454.44 Q3070.71 1453 3067.19 1453 Q3065.27 1453 3063.07 1453.42 Q3060.87 1453.84 3058.23 1454.71 L3058.23 1450.55 Q3060.9 1449.81 3063.21 1449.44 Q3065.55 1449.07 3067.61 1449.07 Q3072.93 1449.07 3076.04 1451.5 Q3079.14 1453.9 3079.14 1458.03 Q3079.14 1460.9 3077.49 1462.89 Q3075.85 1464.85 3072.82 1465.62 Z\" fill=\"#000000\" fill-rule=\"evenodd\" fill-opacity=\"1\" /><path clip-path=\"url(#clip3000)\" d=\"M 0 0 M3085.5 1478.37 L3090.39 1478.37 L3090.39 1482.35 L3086.59 1489.76 L3083.61 1489.76 L3085.5 1482.35 L3085.5 1478.37 Z\" fill=\"#000000\" fill-rule=\"evenodd\" fill-opacity=\"1\" /><path clip-path=\"url(#clip3000)\" d=\"M 0 0 M3114.55 1480.32 L3130.87 1480.32 L3130.87 1484.25 L3108.93 1484.25 L3108.93 1480.32 Q3111.59 1477.56 3116.17 1472.93 Q3120.78 1468.28 3121.96 1466.94 Q3124.21 1464.41 3125.09 1462.68 Q3125.99 1460.92 3125.99 1459.23 Q3125.99 1456.47 3124.04 1454.74 Q3122.12 1453 3119.02 1453 Q3116.82 1453 3114.37 1453.77 Q3111.94 1454.53 3109.16 1456.08 L3109.16 1451.36 Q3111.98 1450.22 3114.44 1449.65 Q3116.89 1449.07 3118.93 1449.07 Q3124.3 1449.07 3127.49 1451.75 Q3130.69 1454.44 3130.69 1458.93 Q3130.69 1461.06 3129.88 1462.98 Q3129.09 1464.88 3126.98 1467.47 Q3126.41 1468.14 3123.3 1471.36 Q3120.2 1474.55 3114.55 1480.32 Z\" fill=\"#000000\" fill-rule=\"evenodd\" fill-opacity=\"1\" /><path clip-path=\"url(#clip3000)\" d=\"M 0 0 M3145.94 1452.77 Q3142.33 1452.77 3140.5 1456.34 Q3138.7 1459.88 3138.7 1467.01 Q3138.7 1474.11 3140.5 1477.68 Q3142.33 1481.22 3145.94 1481.22 Q3149.58 1481.22 3151.38 1477.68 Q3153.21 1474.11 3153.21 1467.01 Q3153.21 1459.88 3151.38 1456.34 Q3149.58 1452.77 3145.94 1452.77 M3145.94 1449.07 Q3151.75 1449.07 3154.81 1453.67 Q3157.89 1458.26 3157.89 1467.01 Q3157.89 1475.73 3154.81 1480.34 Q3151.75 1484.92 3145.94 1484.92 Q3140.13 1484.92 3137.05 1480.34 Q3134 1475.73 3134 1467.01 Q3134 1458.26 3137.05 1453.67 Q3140.13 1449.07 3145.94 1449.07 Z\" fill=\"#000000\" fill-rule=\"evenodd\" fill-opacity=\"1\" /><path clip-path=\"url(#clip3000)\" d=\"M 0 0 M3162.27 1453.53 L3162.27 1480.41 L3167.92 1480.41 Q3175.07 1480.41 3178.39 1477.17 Q3181.72 1473.93 3181.72 1466.94 Q3181.72 1459.99 3178.39 1456.78 Q3175.07 1453.53 3167.92 1453.53 L3162.27 1453.53 M3157.6 1449.69 L3167.2 1449.69 Q3177.25 1449.69 3181.95 1453.88 Q3186.65 1458.05 3186.65 1466.94 Q3186.65 1475.87 3181.93 1480.06 Q3177.2 1484.25 3167.2 1484.25 L3157.6 1484.25 L3157.6 1449.69 Z\" fill=\"#000000\" fill-rule=\"evenodd\" fill-opacity=\"1\" /><path clip-path=\"url(#clip3000)\" d=\"M 0 0 M3213.29 1470.22 L3213.29 1472.31 L3193.71 1472.31 Q3193.99 1476.71 3196.35 1479.02 Q3198.73 1481.31 3202.97 1481.31 Q3205.42 1481.31 3207.71 1480.71 Q3210.03 1480.11 3212.3 1478.9 L3212.3 1482.93 Q3210.01 1483.9 3207.6 1484.41 Q3205.19 1484.92 3202.71 1484.92 Q3196.51 1484.92 3192.88 1481.31 Q3189.26 1477.7 3189.26 1471.54 Q3189.26 1465.18 3192.69 1461.45 Q3196.14 1457.7 3201.97 1457.7 Q3207.2 1457.7 3210.24 1461.08 Q3213.29 1464.44 3213.29 1470.22 M3209.03 1468.97 Q3208.99 1465.48 3207.07 1463.4 Q3205.17 1461.31 3202.02 1461.31 Q3198.45 1461.31 3196.3 1463.33 Q3194.17 1465.34 3193.85 1469 L3209.03 1468.97 Z\" fill=\"#000000\" fill-rule=\"evenodd\" fill-opacity=\"1\" /><path clip-path=\"url(#clip3000)\" d=\"M 0 0 M3236.42 1459.32 L3236.42 1463.3 Q3234.61 1462.31 3232.78 1461.82 Q3230.98 1461.31 3229.13 1461.31 Q3224.98 1461.31 3222.69 1463.95 Q3220.4 1466.57 3220.4 1471.31 Q3220.4 1476.06 3222.69 1478.7 Q3224.98 1481.31 3229.13 1481.31 Q3230.98 1481.31 3232.78 1480.83 Q3234.61 1480.32 3236.42 1479.32 L3236.42 1483.26 Q3234.63 1484.09 3232.71 1484.51 Q3230.82 1484.92 3228.66 1484.92 Q3222.81 1484.92 3219.36 1481.24 Q3215.91 1477.56 3215.91 1471.31 Q3215.91 1464.97 3219.38 1461.34 Q3222.88 1457.7 3228.94 1457.7 Q3230.91 1457.7 3232.78 1458.12 Q3234.66 1458.51 3236.42 1459.32 Z\" fill=\"#000000\" fill-rule=\"evenodd\" fill-opacity=\"1\" /><path clip-path=\"url(#clip3000)\" d=\"M 0 0 M3241.49 1478.37 L3246.37 1478.37 L3246.37 1484.25 L3241.49 1484.25 L3241.49 1478.37 Z\" fill=\"#000000\" fill-rule=\"evenodd\" fill-opacity=\"1\" /><path clip-path=\"url(#clip3000)\" d=\"M 0 0 M3270.54 1480.32 L3286.86 1480.32 L3286.86 1484.25 L3264.91 1484.25 L3264.91 1480.32 Q3267.57 1477.56 3272.16 1472.93 Q3276.76 1468.28 3277.94 1466.94 Q3280.19 1464.41 3281.07 1462.68 Q3281.97 1460.92 3281.97 1459.23 Q3281.97 1456.47 3280.03 1454.74 Q3278.11 1453 3275 1453 Q3272.81 1453 3270.35 1453.77 Q3267.92 1454.53 3265.14 1456.08 L3265.14 1451.36 Q3267.97 1450.22 3270.42 1449.65 Q3272.88 1449.07 3274.91 1449.07 Q3280.28 1449.07 3283.48 1451.75 Q3286.67 1454.44 3286.67 1458.93 Q3286.67 1461.06 3285.86 1462.98 Q3285.07 1464.88 3282.97 1467.47 Q3282.39 1468.14 3279.29 1471.36 Q3276.19 1474.55 3270.54 1480.32 Z\" fill=\"#000000\" fill-rule=\"evenodd\" fill-opacity=\"1\" /><path clip-path=\"url(#clip3000)\" d=\"M 0 0 M3292.74 1480.32 L3300.38 1480.32 L3300.38 1453.95 L3292.07 1455.62 L3292.07 1451.36 L3300.33 1449.69 L3305 1449.69 L3305 1480.32 L3312.64 1480.32 L3312.64 1484.25 L3292.74 1484.25 L3292.74 1480.32 Z\" fill=\"#000000\" fill-rule=\"evenodd\" fill-opacity=\"1\" /><path clip-path=\"url(#clip3000)\" d=\"M 0 0 M3318.2 1478.37 L3323.08 1478.37 L3323.08 1482.35 L3319.29 1489.76 L3316.3 1489.76 L3318.2 1482.35 L3318.2 1478.37 Z\" fill=\"#000000\" fill-rule=\"evenodd\" fill-opacity=\"1\" /><path clip-path=\"url(#clip3000)\" d=\"M 0 0 M3347.25 1480.32 L3363.57 1480.32 L3363.57 1484.25 L3341.62 1484.25 L3341.62 1480.32 Q3344.29 1477.56 3348.87 1472.93 Q3353.48 1468.28 3354.66 1466.94 Q3356.9 1464.41 3357.78 1462.68 Q3358.69 1460.92 3358.69 1459.23 Q3358.69 1456.47 3356.74 1454.74 Q3354.82 1453 3351.72 1453 Q3349.52 1453 3347.06 1453.77 Q3344.63 1454.53 3341.86 1456.08 L3341.86 1451.36 Q3344.68 1450.22 3347.13 1449.65 Q3349.59 1449.07 3351.62 1449.07 Q3357 1449.07 3360.19 1451.75 Q3363.38 1454.44 3363.38 1458.93 Q3363.38 1461.06 3362.57 1462.98 Q3361.79 1464.88 3359.68 1467.47 Q3359.1 1468.14 3356 1471.36 Q3352.9 1474.55 3347.25 1480.32 Z\" fill=\"#000000\" fill-rule=\"evenodd\" fill-opacity=\"1\" /><path clip-path=\"url(#clip3000)\" d=\"M 0 0 M3378.64 1452.77 Q3375.03 1452.77 3373.2 1456.34 Q3371.39 1459.88 3371.39 1467.01 Q3371.39 1474.11 3373.2 1477.68 Q3375.03 1481.22 3378.64 1481.22 Q3382.27 1481.22 3384.08 1477.68 Q3385.91 1474.11 3385.91 1467.01 Q3385.91 1459.88 3384.08 1456.34 Q3382.27 1452.77 3378.64 1452.77 M3378.64 1449.07 Q3384.45 1449.07 3387.5 1453.67 Q3390.58 1458.26 3390.58 1467.01 Q3390.58 1475.73 3387.5 1480.34 Q3384.45 1484.92 3378.64 1484.92 Q3372.83 1484.92 3369.75 1480.34 Q3366.69 1475.73 3366.69 1467.01 Q3366.69 1458.26 3369.75 1453.67 Q3372.83 1449.07 3378.64 1449.07 Z\" fill=\"#000000\" fill-rule=\"evenodd\" fill-opacity=\"1\" /><path clip-path=\"url(#clip3000)\" d=\"M 0 0 M3423.5 1453.53 L3423.5 1480.41 L3429.15 1480.41 Q3436.3 1480.41 3439.61 1477.17 Q3442.95 1473.93 3442.95 1466.94 Q3442.95 1459.99 3439.61 1456.78 Q3436.3 1453.53 3429.15 1453.53 L3423.5 1453.53 M3418.83 1449.69 L3428.43 1449.69 Q3438.48 1449.69 3443.18 1453.88 Q3447.88 1458.05 3447.88 1466.94 Q3447.88 1475.87 3443.16 1480.06 Q3438.43 1484.25 3428.43 1484.25 L3418.83 1484.25 L3418.83 1449.69 Z\" fill=\"#000000\" fill-rule=\"evenodd\" fill-opacity=\"1\" /><path clip-path=\"url(#clip3000)\" d=\"M 0 0 M3474.52 1470.22 L3474.52 1472.31 L3454.94 1472.31 Q3455.22 1476.71 3457.58 1479.02 Q3459.96 1481.31 3464.2 1481.31 Q3466.65 1481.31 3468.94 1480.71 Q3471.26 1480.11 3473.53 1478.9 L3473.53 1482.93 Q3471.23 1483.9 3468.83 1484.41 Q3466.42 1484.92 3463.94 1484.92 Q3457.74 1484.92 3454.1 1481.31 Q3450.49 1477.7 3450.49 1471.54 Q3450.49 1465.18 3453.92 1461.45 Q3457.37 1457.7 3463.2 1457.7 Q3468.43 1457.7 3471.47 1461.08 Q3474.52 1464.44 3474.52 1470.22 M3470.26 1468.97 Q3470.22 1465.48 3468.29 1463.4 Q3466.4 1461.31 3463.25 1461.31 Q3459.68 1461.31 3457.53 1463.33 Q3455.4 1465.34 3455.08 1469 L3470.26 1468.97 Z\" fill=\"#000000\" fill-rule=\"evenodd\" fill-opacity=\"1\" /><path clip-path=\"url(#clip3000)\" d=\"M 0 0 M3497.65 1459.32 L3497.65 1463.3 Q3495.84 1462.31 3494.01 1461.82 Q3492.21 1461.31 3490.35 1461.31 Q3486.21 1461.31 3483.92 1463.95 Q3481.63 1466.57 3481.63 1471.31 Q3481.63 1476.06 3483.92 1478.7 Q3486.21 1481.31 3490.35 1481.31 Q3492.21 1481.31 3494.01 1480.83 Q3495.84 1480.32 3497.65 1479.32 L3497.65 1483.26 Q3495.86 1484.09 3493.94 1484.51 Q3492.04 1484.92 3489.89 1484.92 Q3484.04 1484.92 3480.59 1481.24 Q3477.14 1477.56 3477.14 1471.31 Q3477.14 1464.97 3480.61 1461.34 Q3484.1 1457.7 3490.17 1457.7 Q3492.14 1457.7 3494.01 1458.12 Q3495.89 1458.51 3497.65 1459.32 Z\" fill=\"#000000\" fill-rule=\"evenodd\" fill-opacity=\"1\" /><path clip-path=\"url(#clip3000)\" d=\"M 0 0 M3502.72 1478.37 L3507.6 1478.37 L3507.6 1484.25 L3502.72 1484.25 L3502.72 1478.37 Z\" fill=\"#000000\" fill-rule=\"evenodd\" fill-opacity=\"1\" /><path clip-path=\"url(#clip3000)\" d=\"M 0 0 M3541.91 1465.62 Q3545.26 1466.34 3547.14 1468.6 Q3549.03 1470.87 3549.03 1474.21 Q3549.03 1479.32 3545.52 1482.12 Q3542 1484.92 3535.52 1484.92 Q3533.34 1484.92 3531.03 1484.48 Q3528.73 1484.07 3526.28 1483.21 L3526.28 1478.7 Q3528.22 1479.83 3530.54 1480.41 Q3532.85 1480.99 3535.38 1480.99 Q3539.78 1480.99 3542.07 1479.25 Q3544.38 1477.52 3544.38 1474.21 Q3544.38 1471.15 3542.23 1469.44 Q3540.1 1467.7 3536.28 1467.7 L3532.25 1467.7 L3532.25 1463.86 L3536.47 1463.86 Q3539.91 1463.86 3541.74 1462.49 Q3543.57 1461.1 3543.57 1458.51 Q3543.57 1455.85 3541.67 1454.44 Q3539.8 1453 3536.28 1453 Q3534.36 1453 3532.16 1453.42 Q3529.96 1453.84 3527.32 1454.71 L3527.32 1450.55 Q3529.98 1449.81 3532.3 1449.44 Q3534.64 1449.07 3536.7 1449.07 Q3542.02 1449.07 3545.12 1451.5 Q3548.22 1453.9 3548.22 1458.03 Q3548.22 1460.9 3546.58 1462.89 Q3544.94 1464.85 3541.91 1465.62 Z\" fill=\"#000000\" fill-rule=\"evenodd\" fill-opacity=\"1\" /><path clip-path=\"url(#clip3000)\" d=\"M 0 0 M3564.1 1452.77 Q3560.49 1452.77 3558.66 1456.34 Q3556.86 1459.88 3556.86 1467.01 Q3556.86 1474.11 3558.66 1477.68 Q3560.49 1481.22 3564.1 1481.22 Q3567.74 1481.22 3569.54 1477.68 Q3571.37 1474.11 3571.37 1467.01 Q3571.37 1459.88 3569.54 1456.34 Q3567.74 1452.77 3564.1 1452.77 M3564.1 1449.07 Q3569.91 1449.07 3572.97 1453.67 Q3576.05 1458.26 3576.05 1467.01 Q3576.05 1475.73 3572.97 1480.34 Q3569.91 1484.92 3564.1 1484.92 Q3558.29 1484.92 3555.22 1480.34 Q3552.16 1475.73 3552.16 1467.01 Q3552.16 1458.26 3555.22 1453.67 Q3558.29 1449.07 3564.1 1449.07 Z\" fill=\"#000000\" fill-rule=\"evenodd\" fill-opacity=\"1\" /><path clip-path=\"url(#clip3000)\" d=\"M 0 0 M3581.6 1478.37 L3586.49 1478.37 L3586.49 1482.35 L3582.69 1489.76 L3579.71 1489.76 L3581.6 1482.35 L3581.6 1478.37 Z\" fill=\"#000000\" fill-rule=\"evenodd\" fill-opacity=\"1\" /><path clip-path=\"url(#clip3000)\" d=\"M 0 0 M3610.65 1480.32 L3626.97 1480.32 L3626.97 1484.25 L3605.03 1484.25 L3605.03 1480.32 Q3607.69 1477.56 3612.28 1472.93 Q3616.88 1468.28 3618.06 1466.94 Q3620.31 1464.41 3621.19 1462.68 Q3622.09 1460.92 3622.09 1459.23 Q3622.09 1456.47 3620.15 1454.74 Q3618.22 1453 3615.12 1453 Q3612.92 1453 3610.47 1453.77 Q3608.04 1454.53 3605.26 1456.08 L3605.26 1451.36 Q3608.09 1450.22 3610.54 1449.65 Q3612.99 1449.07 3615.03 1449.07 Q3620.4 1449.07 3623.59 1451.75 Q3626.79 1454.44 3626.79 1458.93 Q3626.79 1461.06 3625.98 1462.98 Q3625.19 1464.88 3623.09 1467.47 Q3622.51 1468.14 3619.4 1471.36 Q3616.3 1474.55 3610.65 1480.32 Z\" fill=\"#000000\" fill-rule=\"evenodd\" fill-opacity=\"1\" /><path clip-path=\"url(#clip3000)\" d=\"M 0 0 M3642.04 1452.77 Q3638.43 1452.77 3636.6 1456.34 Q3634.8 1459.88 3634.8 1467.01 Q3634.8 1474.11 3636.6 1477.68 Q3638.43 1481.22 3642.04 1481.22 Q3645.68 1481.22 3647.48 1477.68 Q3649.31 1474.11 3649.31 1467.01 Q3649.31 1459.88 3647.48 1456.34 Q3645.68 1452.77 3642.04 1452.77 M3642.04 1449.07 Q3647.85 1449.07 3650.91 1453.67 Q3653.99 1458.26 3653.99 1467.01 Q3653.99 1475.73 3650.91 1480.34 Q3647.85 1484.92 3642.04 1484.92 Q3636.23 1484.92 3633.15 1480.34 Q3630.1 1475.73 3630.1 1467.01 Q3630.1 1458.26 3633.15 1453.67 Q3636.23 1449.07 3642.04 1449.07 Z\" fill=\"#000000\" fill-rule=\"evenodd\" fill-opacity=\"1\" /><path clip-path=\"url(#clip3000)\" d=\"M 0 0 M3681.49 1449.69 L3686.16 1449.69 L3686.16 1481.84 Q3686.16 1488.09 3683.78 1490.92 Q3681.42 1493.74 3676.16 1493.74 L3674.38 1493.74 L3674.38 1489.81 L3675.84 1489.81 Q3678.94 1489.81 3680.22 1488.07 Q3681.49 1486.34 3681.49 1481.84 L3681.49 1449.69 Z\" fill=\"#000000\" fill-rule=\"evenodd\" fill-opacity=\"1\" /><path clip-path=\"url(#clip3000)\" d=\"M 0 0 M3702.41 1471.22 Q3697.25 1471.22 3695.26 1472.4 Q3693.27 1473.58 3693.27 1476.43 Q3693.27 1478.7 3694.75 1480.04 Q3696.26 1481.36 3698.83 1481.36 Q3702.37 1481.36 3704.5 1478.86 Q3706.65 1476.34 3706.65 1472.17 L3706.65 1471.22 L3702.41 1471.22 M3710.91 1469.46 L3710.91 1484.25 L3706.65 1484.25 L3706.65 1480.32 Q3705.19 1482.68 3703.02 1483.81 Q3700.84 1484.92 3697.69 1484.92 Q3693.71 1484.92 3691.35 1482.7 Q3689.01 1480.46 3689.01 1476.71 Q3689.01 1472.33 3691.93 1470.11 Q3694.87 1467.89 3700.68 1467.89 L3706.65 1467.89 L3706.65 1467.47 Q3706.65 1464.53 3704.71 1462.93 Q3702.78 1461.31 3699.29 1461.31 Q3697.07 1461.31 3694.96 1461.84 Q3692.85 1462.38 3690.91 1463.44 L3690.91 1459.51 Q3693.25 1458.6 3695.45 1458.16 Q3697.65 1457.7 3699.73 1457.7 Q3705.35 1457.7 3708.13 1460.62 Q3710.91 1463.53 3710.91 1469.46 Z\" fill=\"#000000\" fill-rule=\"evenodd\" fill-opacity=\"1\" /><path clip-path=\"url(#clip3000)\" d=\"M 0 0 M3736.93 1468.6 L3736.93 1484.25 L3732.67 1484.25 L3732.67 1468.74 Q3732.67 1465.06 3731.23 1463.23 Q3729.8 1461.4 3726.93 1461.4 Q3723.48 1461.4 3721.49 1463.6 Q3719.5 1465.8 3719.5 1469.6 L3719.5 1484.25 L3715.21 1484.25 L3715.21 1458.33 L3719.5 1458.33 L3719.5 1462.35 Q3721.02 1460.02 3723.09 1458.86 Q3725.17 1457.7 3727.88 1457.7 Q3732.34 1457.7 3734.64 1460.48 Q3736.93 1463.23 3736.93 1468.6 Z\" fill=\"#000000\" fill-rule=\"evenodd\" fill-opacity=\"1\" /><path clip-path=\"url(#clip3000)\" d=\"M 0 0 M3742 1478.37 L3746.88 1478.37 L3746.88 1484.25 L3742 1484.25 L3742 1478.37 Z\" fill=\"#000000\" fill-rule=\"evenodd\" fill-opacity=\"1\" /><path clip-path=\"url(#clip3000)\" d=\"M 0 0 M3765.84 1449.69 L3788.06 1449.69 L3788.06 1451.68 L3775.52 1484.25 L3770.63 1484.25 L3782.44 1453.63 L3765.84 1453.63 L3765.84 1449.69 Z\" fill=\"#000000\" fill-rule=\"evenodd\" fill-opacity=\"1\" /><path clip-path=\"url(#clip3000)\" d=\"M 0 0 M3793.62 1478.37 L3798.5 1478.37 L3798.5 1482.35 L3794.71 1489.76 L3791.72 1489.76 L3793.62 1482.35 L3793.62 1478.37 Z\" fill=\"#000000\" fill-rule=\"evenodd\" fill-opacity=\"1\" /><path clip-path=\"url(#clip3000)\" d=\"M 0 0 M3822.67 1480.32 L3838.99 1480.32 L3838.99 1484.25 L3817.04 1484.25 L3817.04 1480.32 Q3819.7 1477.56 3824.29 1472.93 Q3828.89 1468.28 3830.08 1466.94 Q3832.32 1464.41 3833.2 1462.68 Q3834.1 1460.92 3834.1 1459.23 Q3834.1 1456.47 3832.16 1454.74 Q3830.24 1453 3827.14 1453 Q3824.94 1453 3822.48 1453.77 Q3820.05 1454.53 3817.27 1456.08 L3817.27 1451.36 Q3820.1 1450.22 3822.55 1449.65 Q3825.01 1449.07 3827.04 1449.07 Q3832.41 1449.07 3835.61 1451.75 Q3838.8 1454.44 3838.8 1458.93 Q3838.8 1461.06 3837.99 1462.98 Q3837.2 1464.88 3835.1 1467.47 Q3834.52 1468.14 3831.42 1471.36 Q3828.32 1474.55 3822.67 1480.32 Z\" fill=\"#000000\" fill-rule=\"evenodd\" fill-opacity=\"1\" /><path clip-path=\"url(#clip3000)\" d=\"M 0 0 M3844.87 1480.32 L3852.51 1480.32 L3852.51 1453.95 L3844.2 1455.62 L3844.2 1451.36 L3852.46 1449.69 L3857.14 1449.69 L3857.14 1480.32 L3864.77 1480.32 L3864.77 1484.25 L3844.87 1484.25 L3844.87 1480.32 Z\" fill=\"#000000\" fill-rule=\"evenodd\" fill-opacity=\"1\" /><path clip-path=\"url(#clip3000)\" d=\"M 0 0 M113.005 1381.88 L131.361 1381.88 L131.361 1385.81 L117.287 1385.81 L117.287 1394.29 Q118.305 1393.94 119.324 1393.78 Q120.343 1393.59 121.361 1393.59 Q127.148 1393.59 130.528 1396.76 Q133.907 1399.93 133.907 1405.35 Q133.907 1410.93 130.435 1414.03 Q126.963 1417.11 120.643 1417.11 Q118.468 1417.11 116.199 1416.74 Q113.954 1416.37 111.546 1415.63 L111.546 1410.93 Q113.63 1412.06 115.852 1412.62 Q118.074 1413.17 120.551 1413.17 Q124.555 1413.17 126.893 1411.07 Q129.231 1408.96 129.231 1405.35 Q129.231 1401.74 126.893 1399.63 Q124.555 1397.53 120.551 1397.53 Q118.676 1397.53 116.801 1397.94 Q114.949 1398.36 113.005 1399.24 L113.005 1381.88 Z\" fill=\"#000000\" fill-rule=\"evenodd\" fill-opacity=\"1\" /><path clip-path=\"url(#clip3000)\" d=\"M 0 0 M148.977 1384.96 Q145.366 1384.96 143.537 1388.52 Q141.731 1392.06 141.731 1399.19 Q141.731 1406.3 143.537 1409.86 Q145.366 1413.41 148.977 1413.41 Q152.611 1413.41 154.416 1409.86 Q156.245 1406.3 156.245 1399.19 Q156.245 1392.06 154.416 1388.52 Q152.611 1384.96 148.977 1384.96 M148.977 1381.25 Q154.787 1381.25 157.842 1385.86 Q160.921 1390.44 160.921 1399.19 Q160.921 1407.92 157.842 1412.53 Q154.787 1417.11 148.977 1417.11 Q143.166 1417.11 140.088 1412.53 Q137.032 1407.92 137.032 1399.19 Q137.032 1390.44 140.088 1385.86 Q143.166 1381.25 148.977 1381.25 Z\" fill=\"#000000\" fill-rule=\"evenodd\" fill-opacity=\"1\" /><path clip-path=\"url(#clip3000)\" d=\"M 0 0 M175.99 1384.96 Q172.379 1384.96 170.551 1388.52 Q168.745 1392.06 168.745 1399.19 Q168.745 1406.3 170.551 1409.86 Q172.379 1413.41 175.99 1413.41 Q179.625 1413.41 181.43 1409.86 Q183.259 1406.3 183.259 1399.19 Q183.259 1392.06 181.43 1388.52 Q179.625 1384.96 175.99 1384.96 M175.99 1381.25 Q181.801 1381.25 184.856 1385.86 Q187.935 1390.44 187.935 1399.19 Q187.935 1407.92 184.856 1412.53 Q181.801 1417.11 175.99 1417.11 Q170.18 1417.11 167.102 1412.53 Q164.046 1407.92 164.046 1399.19 Q164.046 1390.44 167.102 1385.86 Q170.18 1381.25 175.99 1381.25 Z\" fill=\"#000000\" fill-rule=\"evenodd\" fill-opacity=\"1\" /><path clip-path=\"url(#clip3000)\" d=\"M 0 0 M114.602 1083.48 L132.958 1083.48 L132.958 1087.41 L118.884 1087.41 L118.884 1095.88 Q119.903 1095.54 120.921 1095.37 Q121.94 1095.19 122.958 1095.19 Q128.745 1095.19 132.125 1098.36 Q135.504 1101.53 135.504 1106.95 Q135.504 1112.53 132.032 1115.63 Q128.56 1118.71 122.241 1118.71 Q120.065 1118.71 117.796 1118.34 Q115.551 1117.97 113.143 1117.23 L113.143 1112.53 Q115.227 1113.66 117.449 1114.22 Q119.671 1114.77 122.148 1114.77 Q126.153 1114.77 128.491 1112.67 Q130.829 1110.56 130.829 1106.95 Q130.829 1103.34 128.491 1101.23 Q126.153 1099.12 122.148 1099.12 Q120.273 1099.12 118.398 1099.54 Q116.546 1099.96 114.602 1100.84 L114.602 1083.48 Z\" fill=\"#000000\" fill-rule=\"evenodd\" fill-opacity=\"1\" /><path clip-path=\"url(#clip3000)\" d=\"M 0 0 M144.602 1114.1 L160.921 1114.1 L160.921 1118.04 L138.977 1118.04 L138.977 1114.1 Q141.639 1111.35 146.222 1106.72 Q150.828 1102.06 152.009 1100.72 Q154.254 1098.2 155.134 1096.46 Q156.037 1094.7 156.037 1093.01 Q156.037 1090.26 154.092 1088.52 Q152.171 1086.79 149.069 1086.79 Q146.87 1086.79 144.416 1087.55 Q141.986 1088.31 139.208 1089.86 L139.208 1085.14 Q142.032 1084.01 144.486 1083.43 Q146.94 1082.85 148.977 1082.85 Q154.347 1082.85 157.541 1085.54 Q160.736 1088.22 160.736 1092.71 Q160.736 1094.84 159.926 1096.76 Q159.139 1098.66 157.032 1101.25 Q156.453 1101.92 153.352 1105.14 Q150.25 1108.34 144.602 1114.1 Z\" fill=\"#000000\" fill-rule=\"evenodd\" fill-opacity=\"1\" /><path clip-path=\"url(#clip3000)\" d=\"M 0 0 M175.99 1086.55 Q172.379 1086.55 170.551 1090.12 Q168.745 1093.66 168.745 1100.79 Q168.745 1107.9 170.551 1111.46 Q172.379 1115 175.99 1115 Q179.625 1115 181.43 1111.46 Q183.259 1107.9 183.259 1100.79 Q183.259 1093.66 181.43 1090.12 Q179.625 1086.55 175.99 1086.55 M175.99 1082.85 Q181.801 1082.85 184.856 1087.46 Q187.935 1092.04 187.935 1100.79 Q187.935 1109.52 184.856 1114.12 Q181.801 1118.71 175.99 1118.71 Q170.18 1118.71 167.102 1114.12 Q164.046 1109.52 164.046 1100.79 Q164.046 1092.04 167.102 1087.46 Q170.18 1082.85 175.99 1082.85 Z\" fill=\"#000000\" fill-rule=\"evenodd\" fill-opacity=\"1\" /><path clip-path=\"url(#clip3000)\" d=\"M 0 0 M112.518 785.073 L130.875 785.073 L130.875 789.008 L116.801 789.008 L116.801 797.48 Q117.819 797.133 118.838 796.971 Q119.856 796.786 120.875 796.786 Q126.662 796.786 130.042 799.957 Q133.421 803.128 133.421 808.545 Q133.421 814.123 129.949 817.225 Q126.477 820.304 120.157 820.304 Q117.981 820.304 115.713 819.934 Q113.468 819.563 111.06 818.822 L111.06 814.123 Q113.143 815.258 115.366 815.813 Q117.588 816.369 120.065 816.369 Q124.069 816.369 126.407 814.262 Q128.745 812.156 128.745 808.545 Q128.745 804.934 126.407 802.827 Q124.069 800.721 120.065 800.721 Q118.19 800.721 116.315 801.137 Q114.463 801.554 112.518 802.434 L112.518 785.073 Z\" fill=\"#000000\" fill-rule=\"evenodd\" fill-opacity=\"1\" /><path clip-path=\"url(#clip3000)\" d=\"M 0 0 M151.338 789.147 L139.532 807.596 L151.338 807.596 L151.338 789.147 M150.111 785.073 L155.99 785.073 L155.99 807.596 L160.921 807.596 L160.921 811.485 L155.99 811.485 L155.99 819.633 L151.338 819.633 L151.338 811.485 L135.736 811.485 L135.736 806.971 L150.111 785.073 Z\" fill=\"#000000\" fill-rule=\"evenodd\" fill-opacity=\"1\" /><path clip-path=\"url(#clip3000)\" d=\"M 0 0 M175.99 788.151 Q172.379 788.151 170.551 791.716 Q168.745 795.258 168.745 802.387 Q168.745 809.494 170.551 813.059 Q172.379 816.6 175.99 816.6 Q179.625 816.6 181.43 813.059 Q183.259 809.494 183.259 802.387 Q183.259 795.258 181.43 791.716 Q179.625 788.151 175.99 788.151 M175.99 784.448 Q181.801 784.448 184.856 789.054 Q187.935 793.637 187.935 802.387 Q187.935 811.114 184.856 815.721 Q181.801 820.304 175.99 820.304 Q170.18 820.304 167.102 815.721 Q164.046 811.114 164.046 802.387 Q164.046 793.637 167.102 789.054 Q170.18 784.448 175.99 784.448 Z\" fill=\"#000000\" fill-rule=\"evenodd\" fill-opacity=\"1\" /><path clip-path=\"url(#clip3000)\" d=\"M 0 0 M112.843 486.67 L131.199 486.67 L131.199 490.605 L117.125 490.605 L117.125 499.077 Q118.143 498.73 119.162 498.568 Q120.18 498.383 121.199 498.383 Q126.986 498.383 130.366 501.554 Q133.745 504.725 133.745 510.142 Q133.745 515.72 130.273 518.822 Q126.801 521.901 120.481 521.901 Q118.305 521.901 116.037 521.531 Q113.792 521.16 111.384 520.42 L111.384 515.72 Q113.468 516.855 115.69 517.41 Q117.912 517.966 120.389 517.966 Q124.393 517.966 126.731 515.859 Q129.069 513.753 129.069 510.142 Q129.069 506.531 126.731 504.424 Q124.393 502.318 120.389 502.318 Q118.514 502.318 116.639 502.734 Q114.787 503.151 112.843 504.031 L112.843 486.67 Z\" fill=\"#000000\" fill-rule=\"evenodd\" fill-opacity=\"1\" /><path clip-path=\"url(#clip3000)\" d=\"M 0 0 M149.393 502.086 Q146.245 502.086 144.393 504.239 Q142.565 506.392 142.565 510.142 Q142.565 513.869 144.393 516.045 Q146.245 518.197 149.393 518.197 Q152.541 518.197 154.37 516.045 Q156.222 513.869 156.222 510.142 Q156.222 506.392 154.37 504.239 Q152.541 502.086 149.393 502.086 M158.676 487.434 L158.676 491.693 Q156.916 490.86 155.111 490.42 Q153.328 489.98 151.569 489.98 Q146.94 489.98 144.486 493.105 Q142.055 496.23 141.708 502.549 Q143.074 500.535 145.134 499.471 Q147.194 498.383 149.671 498.383 Q154.879 498.383 157.889 501.554 Q160.921 504.702 160.921 510.142 Q160.921 515.466 157.773 518.683 Q154.625 521.901 149.393 521.901 Q143.398 521.901 140.227 517.318 Q137.055 512.711 137.055 503.984 Q137.055 495.79 140.944 490.929 Q144.833 486.045 151.384 486.045 Q153.143 486.045 154.926 486.392 Q156.731 486.739 158.676 487.434 Z\" fill=\"#000000\" fill-rule=\"evenodd\" fill-opacity=\"1\" /><path clip-path=\"url(#clip3000)\" d=\"M 0 0 M175.99 489.748 Q172.379 489.748 170.551 493.313 Q168.745 496.855 168.745 503.984 Q168.745 511.091 170.551 514.656 Q172.379 518.197 175.99 518.197 Q179.625 518.197 181.43 514.656 Q183.259 511.091 183.259 503.984 Q183.259 496.855 181.43 493.313 Q179.625 489.748 175.99 489.748 M175.99 486.045 Q181.801 486.045 184.856 490.651 Q187.935 495.234 187.935 503.984 Q187.935 512.711 184.856 517.318 Q181.801 521.901 175.99 521.901 Q170.18 521.901 167.102 517.318 Q164.046 512.711 164.046 503.984 Q164.046 495.234 167.102 490.651 Q170.18 486.045 175.99 486.045 Z\" fill=\"#000000\" fill-rule=\"evenodd\" fill-opacity=\"1\" /><path clip-path=\"url(#clip3000)\" d=\"M 0 0 M113.097 188.267 L131.454 188.267 L131.454 192.202 L117.38 192.202 L117.38 200.674 Q118.398 200.327 119.417 200.165 Q120.435 199.98 121.454 199.98 Q127.241 199.98 130.62 203.151 Q134 206.322 134 211.739 Q134 217.318 130.528 220.419 Q127.055 223.498 120.736 223.498 Q118.56 223.498 116.292 223.128 Q114.046 222.757 111.639 222.017 L111.639 217.318 Q113.722 218.452 115.944 219.007 Q118.167 219.563 120.643 219.563 Q124.648 219.563 126.986 217.456 Q129.324 215.35 129.324 211.739 Q129.324 208.128 126.986 206.021 Q124.648 203.915 120.643 203.915 Q118.768 203.915 116.893 204.332 Q115.042 204.748 113.097 205.628 L113.097 188.267 Z\" fill=\"#000000\" fill-rule=\"evenodd\" fill-opacity=\"1\" /><path clip-path=\"url(#clip3000)\" d=\"M 0 0 M149.069 206.415 Q145.736 206.415 143.815 208.197 Q141.916 209.98 141.916 213.105 Q141.916 216.23 143.815 218.012 Q145.736 219.794 149.069 219.794 Q152.403 219.794 154.324 218.012 Q156.245 216.206 156.245 213.105 Q156.245 209.98 154.324 208.197 Q152.426 206.415 149.069 206.415 M144.393 204.424 Q141.384 203.683 139.694 201.623 Q138.028 199.563 138.028 196.6 Q138.028 192.457 140.967 190.049 Q143.93 187.642 149.069 187.642 Q154.231 187.642 157.171 190.049 Q160.111 192.457 160.111 196.6 Q160.111 199.563 158.421 201.623 Q156.754 203.683 153.768 204.424 Q157.148 205.211 159.023 207.503 Q160.921 209.794 160.921 213.105 Q160.921 218.128 157.842 220.813 Q154.787 223.498 149.069 223.498 Q143.352 223.498 140.273 220.813 Q137.217 218.128 137.217 213.105 Q137.217 209.794 139.116 207.503 Q141.014 205.211 144.393 204.424 M142.68 197.04 Q142.68 199.725 144.347 201.23 Q146.037 202.734 149.069 202.734 Q152.078 202.734 153.768 201.23 Q155.481 199.725 155.481 197.04 Q155.481 194.355 153.768 192.85 Q152.078 191.346 149.069 191.346 Q146.037 191.346 144.347 192.85 Q142.68 194.355 142.68 197.04 Z\" fill=\"#000000\" fill-rule=\"evenodd\" fill-opacity=\"1\" /><path clip-path=\"url(#clip3000)\" d=\"M 0 0 M175.99 191.346 Q172.379 191.346 170.551 194.91 Q168.745 198.452 168.745 205.582 Q168.745 212.688 170.551 216.253 Q172.379 219.794 175.99 219.794 Q179.625 219.794 181.43 216.253 Q183.259 212.688 183.259 205.582 Q183.259 198.452 181.43 194.91 Q179.625 191.346 175.99 191.346 M175.99 187.642 Q181.801 187.642 184.856 192.248 Q187.935 196.832 187.935 205.582 Q187.935 214.308 184.856 218.915 Q181.801 223.498 175.99 223.498 Q170.18 223.498 167.102 218.915 Q164.046 214.308 164.046 205.582 Q164.046 196.832 167.102 192.248 Q170.18 187.642 175.99 187.642 Z\" fill=\"#000000\" fill-rule=\"evenodd\" fill-opacity=\"1\" /><path clip-path=\"url(#clip3000)\" d=\"M 0 0 M1995.71 1525.47 L1995.71 1535.6 L2007.77 1535.6 L2007.77 1540.15 L1995.71 1540.15 L1995.71 1559.5 Q1995.71 1563.86 1996.89 1565.1 Q1998.1 1566.34 2001.76 1566.34 L2007.77 1566.34 L2007.77 1571.24 L2001.76 1571.24 Q1994.98 1571.24 1992.4 1568.73 Q1989.82 1566.18 1989.82 1559.5 L1989.82 1540.15 L1985.52 1540.15 L1985.52 1535.6 L1989.82 1535.6 L1989.82 1525.47 L1995.71 1525.47 Z\" fill=\"#000000\" fill-rule=\"evenodd\" fill-opacity=\"1\" /><path clip-path=\"url(#clip3000)\" d=\"M 0 0 M2013.92 1535.6 L2019.77 1535.6 L2019.77 1571.24 L2013.92 1571.24 L2013.92 1535.6 M2013.92 1521.72 L2019.77 1521.72 L2019.77 1529.13 L2013.92 1529.13 L2013.92 1521.72 Z\" fill=\"#000000\" fill-rule=\"evenodd\" fill-opacity=\"1\" /><path clip-path=\"url(#clip3000)\" d=\"M 0 0 M2053.67 1542.44 Q2055.87 1538.49 2058.92 1536.61 Q2061.98 1534.74 2066.11 1534.74 Q2071.68 1534.74 2074.71 1538.65 Q2077.73 1542.53 2077.73 1549.73 L2077.73 1571.24 L2071.84 1571.24 L2071.84 1549.92 Q2071.84 1544.79 2070.03 1542.31 Q2068.21 1539.83 2064.49 1539.83 Q2059.94 1539.83 2057.3 1542.85 Q2054.66 1545.88 2054.66 1551.1 L2054.66 1571.24 L2048.77 1571.24 L2048.77 1549.92 Q2048.77 1544.76 2046.95 1542.31 Q2045.14 1539.83 2041.35 1539.83 Q2036.86 1539.83 2034.22 1542.88 Q2031.58 1545.91 2031.58 1551.1 L2031.58 1571.24 L2025.69 1571.24 L2025.69 1535.6 L2031.58 1535.6 L2031.58 1541.13 Q2033.59 1537.86 2036.39 1536.3 Q2039.19 1534.74 2043.04 1534.74 Q2046.92 1534.74 2049.63 1536.71 Q2052.36 1538.68 2053.67 1542.44 Z\" fill=\"#000000\" fill-rule=\"evenodd\" fill-opacity=\"1\" /><path clip-path=\"url(#clip3000)\" d=\"M 0 0 M2114.37 1551.96 L2114.37 1554.82 L2087.44 1554.82 Q2087.82 1560.87 2091.07 1564.05 Q2094.35 1567.2 2100.17 1567.2 Q2103.54 1567.2 2106.7 1566.37 Q2109.88 1565.55 2113 1563.89 L2113 1569.43 Q2109.85 1570.77 2106.54 1571.47 Q2103.23 1572.17 2099.82 1572.17 Q2091.29 1572.17 2086.29 1567.2 Q2081.33 1562.24 2081.33 1553.77 Q2081.33 1545.02 2086.04 1539.89 Q2090.78 1534.74 2098.8 1534.74 Q2106 1534.74 2110.16 1539.38 Q2114.37 1544 2114.37 1551.96 M2108.51 1550.24 Q2108.45 1545.43 2105.8 1542.57 Q2103.19 1539.7 2098.87 1539.7 Q2093.96 1539.7 2091 1542.47 Q2088.08 1545.24 2087.63 1550.27 L2108.51 1550.24 Z\" fill=\"#000000\" fill-rule=\"evenodd\" fill-opacity=\"1\" /><path clip-path=\"url(#clip3000)\" d=\"M 0 0 M21.9562 811.585 L21.9562 805.378 L51.875 794.238 L21.9562 783.098 L21.9562 776.891 L57.6042 790.259 L57.6042 798.217 L21.9562 811.585 Z\" fill=\"#000000\" fill-rule=\"evenodd\" fill-opacity=\"1\" /><path clip-path=\"url(#clip3000)\" d=\"M 0 0 M39.6847 754.548 Q39.6847 761.646 41.3079 764.383 Q42.9312 767.12 46.8461 767.12 Q49.9653 767.12 51.8114 765.083 Q53.6256 763.014 53.6256 759.481 Q53.6256 754.611 50.1881 751.683 Q46.7188 748.723 40.9897 748.723 L39.6847 748.723 L39.6847 754.548 M37.2657 742.867 L57.6042 742.867 L57.6042 748.723 L52.1933 748.723 Q55.4398 750.728 56.9994 753.72 Q58.5272 756.712 58.5272 761.041 Q58.5272 766.515 55.4716 769.762 Q52.3843 772.977 47.2281 772.977 Q41.2125 772.977 38.1569 768.966 Q35.1014 764.924 35.1014 756.935 L35.1014 748.723 L34.5285 748.723 Q30.4862 748.723 28.2901 751.397 Q26.0621 754.039 26.0621 758.845 Q26.0621 761.9 26.7941 764.797 Q27.5262 767.693 28.9903 770.367 L23.5795 770.367 Q22.3381 767.152 21.7334 764.128 Q21.0968 761.104 21.0968 758.24 Q21.0968 750.506 25.1072 746.686 Q29.1176 742.867 37.2657 742.867 Z\" fill=\"#000000\" fill-rule=\"evenodd\" fill-opacity=\"1\" /><path clip-path=\"url(#clip3000)\" d=\"M 0 0 M8.07896 736.724 L8.07896 730.867 L57.6042 730.867 L57.6042 736.724 L8.07896 736.724 Z\" fill=\"#000000\" fill-rule=\"evenodd\" fill-opacity=\"1\" /><path clip-path=\"url(#clip3000)\" d=\"M 0 0 M43.5359 725.329 L21.9562 725.329 L21.9562 719.473 L43.3131 719.473 Q48.3739 719.473 50.9202 717.499 Q53.4346 715.526 53.4346 711.579 Q53.4346 706.837 50.4109 704.1 Q47.3872 701.33 42.1673 701.33 L21.9562 701.33 L21.9562 695.474 L57.6042 695.474 L57.6042 701.33 L52.1296 701.33 Q55.3762 703.463 56.9676 706.296 Q58.5272 709.097 58.5272 712.821 Q58.5272 718.964 54.7078 722.146 Q50.8883 725.329 43.5359 725.329 M21.0968 710.593 L21.0968 710.593 Z\" fill=\"#000000\" fill-rule=\"evenodd\" fill-opacity=\"1\" /><path clip-path=\"url(#clip3000)\" d=\"M 0 0 M38.3161 658.839 L41.1806 658.839 L41.1806 685.766 Q47.2281 685.384 50.4109 682.138 Q53.5619 678.86 53.5619 673.035 Q53.5619 669.661 52.7344 666.51 Q51.9069 663.327 50.2518 660.208 L55.7899 660.208 Q57.1267 663.359 57.827 666.669 Q58.5272 669.979 58.5272 673.385 Q58.5272 681.915 53.5619 686.912 Q48.5967 691.877 40.1303 691.877 Q31.3774 691.877 26.2531 687.167 Q21.0968 682.424 21.0968 674.404 Q21.0968 667.21 25.7438 663.041 Q30.3589 658.839 38.3161 658.839 M36.5973 664.696 Q31.7912 664.76 28.9266 667.401 Q26.0621 670.011 26.0621 674.34 Q26.0621 679.241 28.8312 682.202 Q31.6002 685.13 36.6292 685.575 L36.5973 664.696 Z\" fill=\"#000000\" fill-rule=\"evenodd\" fill-opacity=\"1\" /><polyline clip-path=\"url(#clip3002)\" style=\"stroke:#009af9; stroke-width:4; stroke-opacity:1; fill:none\" points=\"\n",
       "  330.313,1309.64 359.459,1309.64 388.605,1309.64 417.752,906.794 446.898,921.714 476.044,1041.07 505.191,1339.48 534.337,1324.56 563.483,1324.56 592.63,1324.56 \n",
       "  621.776,1384.24 650.922,1309.64 680.068,1264.88 709.215,1354.4 738.361,1175.36 767.507,1175.36 796.654,1175.36 825.8,1070.92 854.946,832.193 884.093,727.752 \n",
       "  913.239,638.231 942.385,787.432 971.532,787.432 1000.68,787.432 1029.82,712.832 1058.97,414.429 1088.12,429.349 1117.26,459.189 1146.41,608.391 1175.56,608.391 \n",
       "  1204.7,608.391 1233.85,295.068 1262.99,295.068 1292.14,295.068 1321.29,503.95 1350.43,429.349 1379.58,429.349 1408.73,429.349 1437.87,518.87 1467.02,623.311 \n",
       "  1496.17,623.311 1525.31,742.672 1554.46,742.672 1583.6,742.672 1612.75,742.672 1641.9,682.991 1671.04,832.193 1700.19,951.554 1729.34,981.394 1758.48,1145.52 \n",
       "  1787.63,1145.52 1816.77,1145.52 1845.92,1205.2 1875.07,1041.07 1904.21,608.391 1933.36,295.068 1962.51,145.866 1991.65,145.866 2020.8,145.866 2049.95,86.1857 \n",
       "  2079.09,742.672 2108.24,847.113 2137.38,638.231 2166.53,697.912 2195.68,697.912 2224.82,697.912 2253.97,712.832 2283.12,742.672 2312.26,742.672 2341.41,802.353 \n",
       "  2370.55,802.353 2399.7,802.353 2428.85,802.353 2457.99,876.953 2487.14,1011.23 2516.29,936.634 2545.43,936.634 2574.58,862.033 2603.73,862.033 2632.87,862.033 \n",
       "  2662.02,862.033 2691.16,787.432 2720.31,697.912 2749.46,712.832 2778.6,772.512 2807.75,772.512 2836.9,772.512 2866.04,668.071 2895.19,742.672 2924.33,847.113 \n",
       "  2953.48,847.113 2982.63,847.113 3011.77,847.113 3040.92,847.113 3070.07,847.113 3099.21,847.113 3128.36,847.113 3157.51,847.113 3186.65,847.113 3215.8,847.113 \n",
       "  3244.94,847.113 3274.09,847.113 3303.24,847.113 3332.38,847.113 3361.53,847.113 3390.68,847.113 3419.82,847.113 3448.97,847.113 3478.11,847.113 3507.26,847.113 \n",
       "  3536.41,847.113 3565.55,847.113 3594.7,847.113 3623.85,847.113 3652.99,847.113 3682.14,847.113 3711.29,847.113 3740.43,847.113 3769.58,847.113 \n",
       "  \"/>\n",
       "<polyline clip-path=\"url(#clip3002)\" style=\"stroke:#e26f46; stroke-width:4; stroke-opacity:1; fill:none\" points=\"\n",
       "  330.313,1339.48 359.459,1324.56 388.605,1279.8 417.752,1175.36 446.898,996.315 476.044,1085.84 505.191,1220.12 534.337,1235.04 563.483,1279.8 592.63,1294.72 \n",
       "  621.776,1369.32 650.922,1249.96 680.068,1294.72 709.215,1354.4 738.361,1249.96 767.507,1220.12 796.654,1190.28 825.8,1026.15 854.946,951.554 884.093,802.353 \n",
       "  913.239,727.752 942.385,787.432 971.532,742.672 1000.68,742.672 1029.82,682.991 1058.97,653.151 1088.12,623.311 1117.26,548.71 1146.41,518.87 1175.56,503.95 \n",
       "  1204.7,548.71 1233.85,295.068 1262.99,339.828 1292.14,384.589 1321.29,459.189 1350.43,429.349 1379.58,429.349 1408.73,429.349 1437.87,518.87 1467.02,593.471 \n",
       "  1496.17,623.311 1525.31,668.071 1554.46,757.592 1583.6,772.512 1612.75,787.432 1641.9,832.193 1671.04,817.273 1700.19,981.394 1729.34,936.634 1758.48,1130.6 \n",
       "  1787.63,1145.52 1816.77,1145.52 1845.92,1115.68 1875.07,1070.92 1904.21,847.113 1933.36,578.55 1962.51,503.95 1991.65,399.509 2020.8,309.988 2049.95,145.866 \n",
       "  2079.09,399.509 2108.24,474.109 2137.38,533.79 2166.53,653.151 2195.68,757.592 2224.82,772.512 2253.97,742.672 2283.12,772.512 2312.26,847.113 2341.41,891.873 \n",
       "  2370.55,906.794 2399.7,906.794 2428.85,891.873 2457.99,921.714 2487.14,966.474 2516.29,966.474 2545.43,981.394 2574.58,966.474 2603.73,951.554 2632.87,921.714 \n",
       "  2662.02,787.432 2691.16,727.752 2720.31,742.672 2749.46,727.752 2778.6,787.432 2807.75,772.512 2836.9,742.672 2866.04,682.991 2895.19,638.231 2924.33,638.231 \n",
       "  2953.48,668.071 2982.63,697.912 3011.77,742.672 3040.92,757.592 3070.07,757.592 3099.21,742.672 3128.36,742.672 3157.51,742.672 3186.65,727.752 3215.8,727.752 \n",
       "  3244.94,712.832 3274.09,712.832 3303.24,712.832 3332.38,697.912 3361.53,697.912 3390.68,682.991 3419.82,682.991 3448.97,682.991 3478.11,712.832 3507.26,757.592 \n",
       "  3536.41,787.432 3565.55,832.193 3594.7,862.033 3623.85,906.794 3652.99,936.634 3682.14,981.394 3711.29,1011.23 3740.43,1041.07 3769.58,1085.84 \n",
       "  \"/>\n",
       "<polyline clip-path=\"url(#clip3002)\" style=\"stroke:#3da44d; stroke-width:4; stroke-opacity:1; fill:none\" points=\"\n",
       "  2968.05,2799.12 2968.05,-1328.69 \n",
       "  \"/>\n",
       "<path clip-path=\"url(#clip3000)\" d=\"\n",
       "M2931.65 1187.98 L3755.16 1187.98 L3755.16 946.06 L2931.65 946.06  Z\n",
       "  \" fill=\"#ffffff\" fill-rule=\"evenodd\" fill-opacity=\"1\"/>\n",
       "<polyline clip-path=\"url(#clip3000)\" style=\"stroke:#000000; stroke-width:4; stroke-opacity:1; fill:none\" points=\"\n",
       "  2931.65,1187.98 3755.16,1187.98 3755.16,946.06 2931.65,946.06 2931.65,1187.98 \n",
       "  \"/>\n",
       "<polyline clip-path=\"url(#clip3000)\" style=\"stroke:#009af9; stroke-width:4; stroke-opacity:1; fill:none\" points=\"\n",
       "  2970.85,1006.54 3206.05,1006.54 \n",
       "  \"/>\n",
       "<path clip-path=\"url(#clip3000)\" d=\"M 0 0 M3245.25 989.26 L3251.55 989.26 L3266.87 1018.17 L3266.87 989.26 L3271.41 989.26 L3271.41 1023.82 L3265.11 1023.82 L3249.79 994.908 L3249.79 1023.82 L3245.25 1023.82 L3245.25 989.26 Z\" fill=\"#000000\" fill-rule=\"evenodd\" fill-opacity=\"1\" /><path clip-path=\"url(#clip3000)\" d=\"M 0 0 M3284.98 1023.82 L3271.78 989.26 L3276.67 989.26 L3287.61 1018.36 L3298.59 989.26 L3303.45 989.26 L3290.28 1023.82 L3284.98 1023.82 Z\" fill=\"#000000\" fill-rule=\"evenodd\" fill-opacity=\"1\" /><path clip-path=\"url(#clip3000)\" d=\"M 0 0 M3312.78 993.102 L3312.78 1019.98 L3318.42 1019.98 Q3325.58 1019.98 3328.89 1016.74 Q3332.22 1013.5 3332.22 1006.51 Q3332.22 999.561 3328.89 996.343 Q3325.58 993.102 3318.42 993.102 L3312.78 993.102 M3308.1 989.26 L3317.71 989.26 Q3327.75 989.26 3332.45 993.45 Q3337.15 997.616 3337.15 1006.51 Q3337.15 1015.44 3332.43 1019.63 Q3327.71 1023.82 3317.71 1023.82 L3308.1 1023.82 L3308.1 989.26 Z\" fill=\"#000000\" fill-rule=\"evenodd\" fill-opacity=\"1\" /><path clip-path=\"url(#clip3000)\" d=\"M 0 0 M3352.52 993.866 L3346.18 1011.07 L3358.89 1011.07 L3352.52 993.866 M3349.88 989.26 L3355.18 989.26 L3368.35 1023.82 L3363.49 1023.82 L3360.35 1014.95 L3344.77 1014.95 L3341.62 1023.82 L3336.69 1023.82 L3349.88 989.26 Z\" fill=\"#000000\" fill-rule=\"evenodd\" fill-opacity=\"1\" /><polyline clip-path=\"url(#clip3000)\" style=\"stroke:#e26f46; stroke-width:4; stroke-opacity:1; fill:none\" points=\"\n",
       "  2970.85,1067.02 3206.05,1067.02 \n",
       "  \"/>\n",
       "<path clip-path=\"url(#clip3000)\" d=\"M 0 0 M3249.54 1080.41 L3249.54 1094.16 L3245.25 1094.16 L3245.25 1058.37 L3249.54 1058.37 L3249.54 1062.31 Q3250.88 1059.99 3252.92 1058.88 Q3254.98 1057.75 3257.82 1057.75 Q3262.55 1057.75 3265.48 1061.5 Q3268.45 1065.25 3268.45 1071.36 Q3268.45 1077.47 3265.48 1081.22 Q3262.55 1084.97 3257.82 1084.97 Q3254.98 1084.97 3252.92 1083.86 Q3250.88 1082.73 3249.54 1080.41 M3264.03 1071.36 Q3264.03 1066.66 3262.08 1064 Q3260.16 1061.31 3256.78 1061.31 Q3253.4 1061.31 3251.46 1064 Q3249.54 1066.66 3249.54 1071.36 Q3249.54 1076.06 3251.46 1078.74 Q3253.4 1081.41 3256.78 1081.41 Q3260.16 1081.41 3262.08 1078.74 Q3264.03 1076.06 3264.03 1071.36 Z\" fill=\"#000000\" fill-rule=\"evenodd\" fill-opacity=\"1\" /><path clip-path=\"url(#clip3000)\" d=\"M 0 0 M3287.94 1062.36 Q3287.22 1061.94 3286.36 1061.75 Q3285.53 1061.55 3284.51 1061.55 Q3280.9 1061.55 3278.96 1063.91 Q3277.04 1066.24 3277.04 1070.64 L3277.04 1084.3 L3272.75 1084.3 L3272.75 1058.37 L3277.04 1058.37 L3277.04 1062.4 Q3278.38 1060.04 3280.53 1058.91 Q3282.68 1057.75 3285.76 1057.75 Q3286.2 1057.75 3286.73 1057.82 Q3287.27 1057.86 3287.92 1057.98 L3287.94 1062.36 Z\" fill=\"#000000\" fill-rule=\"evenodd\" fill-opacity=\"1\" /><path clip-path=\"url(#clip3000)\" d=\"M 0 0 M3313.54 1070.27 L3313.54 1072.36 L3293.96 1072.36 Q3294.23 1076.75 3296.6 1079.07 Q3298.98 1081.36 3303.22 1081.36 Q3305.67 1081.36 3307.96 1080.76 Q3310.28 1080.16 3312.54 1078.95 L3312.54 1082.98 Q3310.25 1083.95 3307.85 1084.46 Q3305.44 1084.97 3302.96 1084.97 Q3296.76 1084.97 3293.12 1081.36 Q3289.51 1077.75 3289.51 1071.59 Q3289.51 1065.23 3292.94 1061.5 Q3296.39 1057.75 3302.22 1057.75 Q3307.45 1057.75 3310.48 1061.13 Q3313.54 1064.49 3313.54 1070.27 M3309.28 1069.02 Q3309.23 1065.53 3307.31 1063.44 Q3305.42 1061.36 3302.27 1061.36 Q3298.7 1061.36 3296.55 1063.37 Q3294.42 1065.39 3294.1 1069.05 L3309.28 1069.02 Z\" fill=\"#000000\" fill-rule=\"evenodd\" fill-opacity=\"1\" /><path clip-path=\"url(#clip3000)\" d=\"M 0 0 M3335.07 1062.31 L3335.07 1048.28 L3339.33 1048.28 L3339.33 1084.3 L3335.07 1084.3 L3335.07 1080.41 Q3333.73 1082.73 3331.67 1083.86 Q3329.63 1084.97 3326.76 1084.97 Q3322.06 1084.97 3319.1 1081.22 Q3316.16 1077.47 3316.16 1071.36 Q3316.16 1065.25 3319.1 1061.5 Q3322.06 1057.75 3326.76 1057.75 Q3329.63 1057.75 3331.67 1058.88 Q3333.73 1059.99 3335.07 1062.31 M3320.55 1071.36 Q3320.55 1076.06 3322.48 1078.74 Q3324.42 1081.41 3327.8 1081.41 Q3331.18 1081.41 3333.12 1078.74 Q3335.07 1076.06 3335.07 1071.36 Q3335.07 1066.66 3333.12 1064 Q3331.18 1061.31 3327.8 1061.31 Q3324.42 1061.31 3322.48 1064 Q3320.55 1066.66 3320.55 1071.36 Z\" fill=\"#000000\" fill-rule=\"evenodd\" fill-opacity=\"1\" /><path clip-path=\"url(#clip3000)\" d=\"M 0 0 M3343.79 1058.37 L3348.05 1058.37 L3348.05 1084.3 L3343.79 1084.3 L3343.79 1058.37 M3343.79 1048.28 L3348.05 1048.28 L3348.05 1053.68 L3343.79 1053.68 L3343.79 1048.28 Z\" fill=\"#000000\" fill-rule=\"evenodd\" fill-opacity=\"1\" /><path clip-path=\"url(#clip3000)\" d=\"M 0 0 M3356.73 1051.01 L3356.73 1058.37 L3365.51 1058.37 L3365.51 1061.68 L3356.73 1061.68 L3356.73 1075.76 Q3356.73 1078.93 3357.59 1079.83 Q3358.47 1080.74 3361.13 1080.74 L3365.51 1080.74 L3365.51 1084.3 L3361.13 1084.3 Q3356.2 1084.3 3354.33 1082.47 Q3352.45 1080.62 3352.45 1075.76 L3352.45 1061.68 L3349.33 1061.68 L3349.33 1058.37 L3352.45 1058.37 L3352.45 1051.01 L3356.73 1051.01 Z\" fill=\"#000000\" fill-rule=\"evenodd\" fill-opacity=\"1\" /><path clip-path=\"url(#clip3000)\" d=\"M 0 0 M3369.98 1058.37 L3374.23 1058.37 L3374.23 1084.3 L3369.98 1084.3 L3369.98 1058.37 M3369.98 1048.28 L3374.23 1048.28 L3374.23 1053.68 L3369.98 1053.68 L3369.98 1048.28 Z\" fill=\"#000000\" fill-rule=\"evenodd\" fill-opacity=\"1\" /><path clip-path=\"url(#clip3000)\" d=\"M 0 0 M3388.75 1061.36 Q3385.32 1061.36 3383.33 1064.05 Q3381.34 1066.71 3381.34 1071.36 Q3381.34 1076.01 3383.31 1078.7 Q3385.3 1081.36 3388.75 1081.36 Q3392.15 1081.36 3394.14 1078.67 Q3396.13 1075.99 3396.13 1071.36 Q3396.13 1066.75 3394.14 1064.07 Q3392.15 1061.36 3388.75 1061.36 M3388.75 1057.75 Q3394.3 1057.75 3397.47 1061.36 Q3400.65 1064.97 3400.65 1071.36 Q3400.65 1077.73 3397.47 1081.36 Q3394.3 1084.97 3388.75 1084.97 Q3383.17 1084.97 3380 1081.36 Q3376.85 1077.73 3376.85 1071.36 Q3376.85 1064.97 3380 1061.36 Q3383.17 1057.75 3388.75 1057.75 Z\" fill=\"#000000\" fill-rule=\"evenodd\" fill-opacity=\"1\" /><path clip-path=\"url(#clip3000)\" d=\"M 0 0 M3426.66 1068.65 L3426.66 1084.3 L3422.41 1084.3 L3422.41 1068.79 Q3422.41 1065.11 3420.97 1063.28 Q3419.54 1061.45 3416.66 1061.45 Q3413.22 1061.45 3411.22 1063.65 Q3409.23 1065.85 3409.23 1069.65 L3409.23 1084.3 L3404.95 1084.3 L3404.95 1058.37 L3409.23 1058.37 L3409.23 1062.4 Q3410.76 1060.06 3412.82 1058.91 Q3414.91 1057.75 3417.61 1057.75 Q3422.08 1057.75 3424.37 1060.53 Q3426.66 1063.28 3426.66 1068.65 Z\" fill=\"#000000\" fill-rule=\"evenodd\" fill-opacity=\"1\" /><path clip-path=\"url(#clip3000)\" d=\"M 0 0 M3447.66 1059.14 L3447.66 1063.17 Q3445.85 1062.24 3443.91 1061.78 Q3441.97 1061.31 3439.88 1061.31 Q3436.71 1061.31 3435.11 1062.29 Q3433.54 1063.26 3433.54 1065.2 Q3433.54 1066.68 3434.67 1067.54 Q3435.81 1068.37 3439.23 1069.14 L3440.69 1069.46 Q3445.23 1070.43 3447.13 1072.22 Q3449.05 1073.98 3449.05 1077.15 Q3449.05 1080.76 3446.18 1082.86 Q3443.33 1084.97 3438.33 1084.97 Q3436.25 1084.97 3433.98 1084.55 Q3431.73 1084.16 3429.23 1083.35 L3429.23 1078.95 Q3431.6 1080.18 3433.89 1080.8 Q3436.18 1081.41 3438.42 1081.41 Q3441.43 1081.41 3443.05 1080.39 Q3444.67 1079.35 3444.67 1077.47 Q3444.67 1075.74 3443.49 1074.81 Q3442.34 1073.88 3438.38 1073.03 L3436.9 1072.68 Q3432.94 1071.85 3431.18 1070.13 Q3429.42 1068.4 3429.42 1065.39 Q3429.42 1061.73 3432.01 1059.74 Q3434.6 1057.75 3439.37 1057.75 Q3441.73 1057.75 3443.82 1058.1 Q3445.9 1058.44 3447.66 1059.14 Z\" fill=\"#000000\" fill-rule=\"evenodd\" fill-opacity=\"1\" /><polyline clip-path=\"url(#clip3000)\" style=\"stroke:#3da44d; stroke-width:4; stroke-opacity:1; fill:none\" points=\"\n",
       "  2970.85,1127.5 3206.05,1127.5 \n",
       "  \"/>\n",
       "<path clip-path=\"url(#clip3000)\" d=\"M 0 0 M3245.25 1110.22 L3274.49 1110.22 L3274.49 1114.16 L3262.22 1114.16 L3262.22 1144.78 L3257.52 1144.78 L3257.52 1114.16 L3245.25 1114.16 L3245.25 1110.22 Z\" fill=\"#000000\" fill-rule=\"evenodd\" fill-opacity=\"1\" /><path clip-path=\"url(#clip3000)\" d=\"M 0 0 M3280.95 1121.84 Q3277.52 1121.84 3275.53 1124.53 Q3273.54 1127.19 3273.54 1131.84 Q3273.54 1136.49 3275.51 1139.18 Q3277.5 1141.84 3280.95 1141.84 Q3284.35 1141.84 3286.34 1139.15 Q3288.33 1136.47 3288.33 1131.84 Q3288.33 1127.23 3286.34 1124.55 Q3284.35 1121.84 3280.95 1121.84 M3280.95 1118.23 Q3286.5 1118.23 3289.67 1121.84 Q3292.85 1125.45 3292.85 1131.84 Q3292.85 1138.21 3289.67 1141.84 Q3286.5 1145.45 3280.95 1145.45 Q3275.37 1145.45 3272.2 1141.84 Q3269.05 1138.21 3269.05 1131.84 Q3269.05 1125.45 3272.2 1121.84 Q3275.37 1118.23 3280.95 1118.23 Z\" fill=\"#000000\" fill-rule=\"evenodd\" fill-opacity=\"1\" /><path clip-path=\"url(#clip3000)\" d=\"M 0 0 M3314.37 1122.79 L3314.37 1108.76 L3318.63 1108.76 L3318.63 1144.78 L3314.37 1144.78 L3314.37 1140.89 Q3313.03 1143.21 3310.97 1144.34 Q3308.93 1145.45 3306.06 1145.45 Q3301.36 1145.45 3298.4 1141.7 Q3295.46 1137.95 3295.46 1131.84 Q3295.46 1125.73 3298.4 1121.98 Q3301.36 1118.23 3306.06 1118.23 Q3308.93 1118.23 3310.97 1119.36 Q3313.03 1120.47 3314.37 1122.79 M3299.86 1131.84 Q3299.86 1136.54 3301.78 1139.22 Q3303.73 1141.89 3307.11 1141.89 Q3310.48 1141.89 3312.43 1139.22 Q3314.37 1136.54 3314.37 1131.84 Q3314.37 1127.14 3312.43 1124.48 Q3310.48 1121.79 3307.11 1121.79 Q3303.73 1121.79 3301.78 1124.48 Q3299.86 1127.14 3299.86 1131.84 Z\" fill=\"#000000\" fill-rule=\"evenodd\" fill-opacity=\"1\" /><path clip-path=\"url(#clip3000)\" d=\"M 0 0 M3334.88 1131.75 Q3329.72 1131.75 3327.73 1132.93 Q3325.74 1134.11 3325.74 1136.96 Q3325.74 1139.22 3327.22 1140.57 Q3328.73 1141.89 3331.29 1141.89 Q3334.84 1141.89 3336.97 1139.39 Q3339.12 1136.86 3339.12 1132.7 L3339.12 1131.75 L3334.88 1131.75 M3343.38 1129.99 L3343.38 1144.78 L3339.12 1144.78 L3339.12 1140.84 Q3337.66 1143.21 3335.48 1144.34 Q3333.31 1145.45 3330.16 1145.45 Q3326.18 1145.45 3323.82 1143.23 Q3321.48 1140.98 3321.48 1137.23 Q3321.48 1132.86 3324.4 1130.64 Q3327.34 1128.41 3333.15 1128.41 L3339.12 1128.41 L3339.12 1128 Q3339.12 1125.06 3337.17 1123.46 Q3335.25 1121.84 3331.76 1121.84 Q3329.54 1121.84 3327.43 1122.37 Q3325.32 1122.9 3323.38 1123.97 L3323.38 1120.03 Q3325.72 1119.13 3327.92 1118.69 Q3330.11 1118.23 3332.2 1118.23 Q3337.82 1118.23 3340.6 1121.15 Q3343.38 1124.06 3343.38 1129.99 Z\" fill=\"#000000\" fill-rule=\"evenodd\" fill-opacity=\"1\" /><path clip-path=\"url(#clip3000)\" d=\"M 0 0 M3358.63 1147.19 Q3356.83 1151.82 3355.11 1153.23 Q3353.4 1154.64 3350.53 1154.64 L3347.13 1154.64 L3347.13 1151.08 L3349.63 1151.08 Q3351.39 1151.08 3352.36 1150.24 Q3353.33 1149.41 3354.51 1146.31 L3355.28 1144.36 L3344.79 1118.85 L3349.3 1118.85 L3357.41 1139.13 L3365.51 1118.85 L3370.02 1118.85 L3358.63 1147.19 Z\" fill=\"#000000\" fill-rule=\"evenodd\" fill-opacity=\"1\" /><path clip-path=\"url(#clip3000)\" d=\"M 0 0 M3394.42 1114.06 L3394.42 1140.94 L3400.07 1140.94 Q3407.22 1140.94 3410.53 1137.7 Q3413.86 1134.46 3413.86 1127.47 Q3413.86 1120.52 3410.53 1117.3 Q3407.22 1114.06 3400.07 1114.06 L3394.42 1114.06 M3389.74 1110.22 L3399.35 1110.22 Q3409.4 1110.22 3414.1 1114.41 Q3418.79 1118.58 3418.79 1127.47 Q3418.79 1136.4 3414.07 1140.59 Q3409.35 1144.78 3399.35 1144.78 L3389.74 1144.78 L3389.74 1110.22 Z\" fill=\"#000000\" fill-rule=\"evenodd\" fill-opacity=\"1\" /><path clip-path=\"url(#clip3000)\" d=\"M 0 0 M3445.44 1130.75 L3445.44 1132.84 L3425.85 1132.84 Q3426.13 1137.23 3428.49 1139.55 Q3430.88 1141.84 3435.11 1141.84 Q3437.57 1141.84 3439.86 1141.24 Q3442.17 1140.64 3444.44 1139.43 L3444.44 1143.46 Q3442.15 1144.43 3439.74 1144.94 Q3437.34 1145.45 3434.86 1145.45 Q3428.66 1145.45 3425.02 1141.84 Q3421.41 1138.23 3421.41 1132.07 Q3421.41 1125.71 3424.84 1121.98 Q3428.29 1118.23 3434.12 1118.23 Q3439.35 1118.23 3442.38 1121.61 Q3445.44 1124.97 3445.44 1130.75 M3441.18 1129.5 Q3441.13 1126.01 3439.21 1123.92 Q3437.31 1121.84 3434.16 1121.84 Q3430.6 1121.84 3428.45 1123.85 Q3426.32 1125.87 3425.99 1129.53 L3441.18 1129.5 Z\" fill=\"#000000\" fill-rule=\"evenodd\" fill-opacity=\"1\" /><path clip-path=\"url(#clip3000)\" d=\"M 0 0 M3468.56 1119.85 L3468.56 1123.83 Q3466.76 1122.84 3464.93 1122.35 Q3463.12 1121.84 3461.27 1121.84 Q3457.13 1121.84 3454.84 1124.48 Q3452.54 1127.09 3452.54 1131.84 Q3452.54 1136.59 3454.84 1139.22 Q3457.13 1141.84 3461.27 1141.84 Q3463.12 1141.84 3464.93 1141.35 Q3466.76 1140.84 3468.56 1139.85 L3468.56 1143.78 Q3466.78 1144.62 3464.86 1145.03 Q3462.96 1145.45 3460.81 1145.45 Q3454.95 1145.45 3451.5 1141.77 Q3448.05 1138.09 3448.05 1131.84 Q3448.05 1125.5 3451.53 1121.86 Q3455.02 1118.23 3461.09 1118.23 Q3463.05 1118.23 3464.93 1118.65 Q3466.8 1119.04 3468.56 1119.85 Z\" fill=\"#000000\" fill-rule=\"evenodd\" fill-opacity=\"1\" /><path clip-path=\"url(#clip3000)\" d=\"M 0 0 M3473.63 1138.9 L3478.52 1138.9 L3478.52 1144.78 L3473.63 1144.78 L3473.63 1138.9 Z\" fill=\"#000000\" fill-rule=\"evenodd\" fill-opacity=\"1\" /><path clip-path=\"url(#clip3000)\" d=\"M 0 0 M3499.47 1140.84 L3507.1 1140.84 L3507.1 1114.48 L3498.79 1116.15 L3498.79 1111.89 L3507.06 1110.22 L3511.73 1110.22 L3511.73 1140.84 L3519.37 1140.84 L3519.37 1144.78 L3499.47 1144.78 L3499.47 1140.84 Z\" fill=\"#000000\" fill-rule=\"evenodd\" fill-opacity=\"1\" /><path clip-path=\"url(#clip3000)\" d=\"M 0 0 M3534.44 1113.3 Q3530.83 1113.3 3529 1116.86 Q3527.2 1120.4 3527.2 1127.53 Q3527.2 1134.64 3529 1138.21 Q3530.83 1141.75 3534.44 1141.75 Q3538.08 1141.75 3539.88 1138.21 Q3541.71 1134.64 3541.71 1127.53 Q3541.71 1120.4 3539.88 1116.86 Q3538.08 1113.3 3534.44 1113.3 M3534.44 1109.59 Q3540.25 1109.59 3543.31 1114.2 Q3546.39 1118.78 3546.39 1127.53 Q3546.39 1136.26 3543.31 1140.87 Q3540.25 1145.45 3534.44 1145.45 Q3528.63 1145.45 3525.55 1140.87 Q3522.5 1136.26 3522.5 1127.53 Q3522.5 1118.78 3525.55 1114.2 Q3528.63 1109.59 3534.44 1109.59 Z\" fill=\"#000000\" fill-rule=\"evenodd\" fill-opacity=\"1\" /><path clip-path=\"url(#clip3000)\" d=\"M 0 0 M3551.94 1138.9 L3556.83 1138.9 L3556.83 1142.88 L3553.03 1150.29 L3550.04 1150.29 L3551.94 1142.88 L3551.94 1138.9 Z\" fill=\"#000000\" fill-rule=\"evenodd\" fill-opacity=\"1\" /><path clip-path=\"url(#clip3000)\" d=\"M 0 0 M3580.99 1140.84 L3597.31 1140.84 L3597.31 1144.78 L3575.37 1144.78 L3575.37 1140.84 Q3578.03 1138.09 3582.61 1133.46 Q3587.22 1128.81 3588.4 1127.47 Q3590.65 1124.94 3591.52 1123.21 Q3592.43 1121.45 3592.43 1119.76 Q3592.43 1117 3590.48 1115.27 Q3588.56 1113.53 3585.46 1113.53 Q3583.26 1113.53 3580.81 1114.29 Q3578.38 1115.06 3575.6 1116.61 L3575.6 1111.89 Q3578.42 1110.75 3580.88 1110.17 Q3583.33 1109.59 3585.37 1109.59 Q3590.74 1109.59 3593.93 1112.28 Q3597.13 1114.97 3597.13 1119.46 Q3597.13 1121.59 3596.32 1123.51 Q3595.53 1125.4 3593.42 1128 Q3592.84 1128.67 3589.74 1131.89 Q3586.64 1135.08 3580.99 1140.84 Z\" fill=\"#000000\" fill-rule=\"evenodd\" fill-opacity=\"1\" /><path clip-path=\"url(#clip3000)\" d=\"M 0 0 M3612.38 1113.3 Q3608.77 1113.3 3606.94 1116.86 Q3605.14 1120.4 3605.14 1127.53 Q3605.14 1134.64 3606.94 1138.21 Q3608.77 1141.75 3612.38 1141.75 Q3616.02 1141.75 3617.82 1138.21 Q3619.65 1134.64 3619.65 1127.53 Q3619.65 1120.4 3617.82 1116.86 Q3616.02 1113.3 3612.38 1113.3 M3612.38 1109.59 Q3618.19 1109.59 3621.25 1114.2 Q3624.33 1118.78 3624.33 1127.53 Q3624.33 1136.26 3621.25 1140.87 Q3618.19 1145.45 3612.38 1145.45 Q3606.57 1145.45 3603.49 1140.87 Q3600.44 1136.26 3600.44 1127.53 Q3600.44 1118.78 3603.49 1114.2 Q3606.57 1109.59 3612.38 1109.59 Z\" fill=\"#000000\" fill-rule=\"evenodd\" fill-opacity=\"1\" /><path clip-path=\"url(#clip3000)\" d=\"M 0 0 M3633.42 1140.84 L3649.74 1140.84 L3649.74 1144.78 L3627.8 1144.78 L3627.8 1140.84 Q3630.46 1138.09 3635.04 1133.46 Q3639.65 1128.81 3640.83 1127.47 Q3643.08 1124.94 3643.96 1123.21 Q3644.86 1121.45 3644.86 1119.76 Q3644.86 1117 3642.91 1115.27 Q3640.99 1113.53 3637.89 1113.53 Q3635.69 1113.53 3633.24 1114.29 Q3630.81 1115.06 3628.03 1116.61 L3628.03 1111.89 Q3630.85 1110.75 3633.31 1110.17 Q3635.76 1109.59 3637.8 1109.59 Q3643.17 1109.59 3646.36 1112.28 Q3649.56 1114.97 3649.56 1119.46 Q3649.56 1121.59 3648.75 1123.51 Q3647.96 1125.4 3645.85 1128 Q3645.27 1128.67 3642.17 1131.89 Q3639.07 1135.08 3633.42 1140.84 Z\" fill=\"#000000\" fill-rule=\"evenodd\" fill-opacity=\"1\" /><path clip-path=\"url(#clip3000)\" d=\"M 0 0 M3664.81 1113.3 Q3661.2 1113.3 3659.37 1116.86 Q3657.57 1120.4 3657.57 1127.53 Q3657.57 1134.64 3659.37 1138.21 Q3661.2 1141.75 3664.81 1141.75 Q3668.45 1141.75 3670.25 1138.21 Q3672.08 1134.64 3672.08 1127.53 Q3672.08 1120.4 3670.25 1116.86 Q3668.45 1113.3 3664.81 1113.3 M3664.81 1109.59 Q3670.62 1109.59 3673.68 1114.2 Q3676.76 1118.78 3676.76 1127.53 Q3676.76 1136.26 3673.68 1140.87 Q3670.62 1145.45 3664.81 1145.45 Q3659 1145.45 3655.92 1140.87 Q3652.87 1136.26 3652.87 1127.53 Q3652.87 1118.78 3655.92 1114.2 Q3659 1109.59 3664.81 1109.59 Z\" fill=\"#000000\" fill-rule=\"evenodd\" fill-opacity=\"1\" /></svg>\n"
      ]
     },
     "execution_count": 12,
     "metadata": {},
     "output_type": "execute_result"
    }
   ],
   "source": [
    "using Plots\n",
    "\n",
    "#dates = format_dates( df[rows,2] , \"m/d/yy\")\n",
    "\n",
    "gr()\n",
    "plot(    x_axis_dates,\n",
    "        [  y_axis_original y_axis_predicted \n",
    "        ], # y-axis\n",
    "    label    = \n",
    "        [ symbol_to_predict \"preditions\"  \"\" ],\n",
    "    legend   =:bottomright, \n",
    "              # :right, :left, :top, :bottom, :inside, :best, :legend, :topright, :topleft, :bottomleft, :bottomright\n",
    "    xlabel   = \"time\",\n",
    "    ylabel   = \"value\",\n",
    "    size     = (980, 400), # width, height\n",
    "    layout = (1, 1), # number of graphs: vertically, horizontally\n",
    "    )\n",
    "## Add veritical today line\n",
    "plot!([today_id], seriestype=\"vline\", label=[ \"Today \"*t \"\" ],)\n"
   ]
  },
  {
   "cell_type": "code",
   "execution_count": 15,
   "metadata": {
    "ExecuteTime": {
     "end_time": "2020-12-10T00:22:29.410000-05:00",
     "start_time": "2020-12-10T05:22:29.351Z"
    }
   },
   "outputs": [],
   "source": [
    "savefig(\"../images/predictions_\" * symbol_to_predict * \".png\")"
   ]
  },
  {
   "cell_type": "code",
   "execution_count": 14,
   "metadata": {
    "ExecuteTime": {
     "end_time": "2020-12-10T00:13:31.015000-05:00",
     "start_time": "2020-12-10T05:12:39.404Z"
    }
   },
   "outputs": [
    {
     "name": "stdout",
     "output_type": "stream",
     "text": [
      "NVDA 2020-12-10\n",
      "Thu, 2020-12-03\t predicted 545.0\t, but actual value was \t546.0\t difference is 1.0\n",
      "Fri, 2020-12-04\t predicted 541.0\t, but actual value was \t542.0\t difference is 1.0\n",
      "Sat, 2020-12-05\t predicted 542.0\t, but actual value was \t542.0\t difference is 0.0\n",
      "Sun, 2020-12-06\t predicted 544.0\t, but actual value was \t542.0\t difference is -2.0\n",
      "Mon, 2020-12-07\t predicted 548.0\t, but actual value was \t549.0\t difference is 1.0\n",
      "Tue, 2020-12-08\t predicted 551.0\t, but actual value was \t544.0\t difference is -7.0\n",
      "Wed, 2020-12-09\t predicted 551.0\t, but actual value was \t537.0\t difference is -14.0\n",
      "Thu, 2020-12-10\t predicted 549.0\n",
      "Fri, 2020-12-11\t predicted 547.0\n",
      "Sat, 2020-12-12\t predicted 544.0\n"
     ]
    }
   ],
   "source": [
    "## print prediction comparisons\n",
    "println(symbol_to_predict, \" \", today())\n",
    "\n",
    "file_path = \"../DATA/\" * symbol_to_predict * \"_pedictions.csv\"\n",
    "open( file_path, \"a\") do file_handle # append\n",
    "    \n",
    "    for id in finem-35:finem\n",
    "        if id < today_id + 3\n",
    "            row = get(data_predictions, id) # get a dictionary of data from the SFrame\n",
    "            date_string = row[\"Date\"] # e.g. \"2020-10-20\"\n",
    "\n",
    "            a = y_axis_predicted[id]\n",
    "            b = y_axis_original[id]\n",
    "            d = round(b-a, digits=3)\n",
    "            date = convert(String, Dates.format( Date(date_string), \"e, yyyy-mm-dd\" ) )\n",
    "            if id < today_id\n",
    "                println( date, \"\\t predicted \", a , \"\\t, but actual value was \\t\", b , \"\\t difference is \",  d  ) # di\n",
    "            else\n",
    "                println( date, \"\\t predicted \", a  ) # \n",
    "\n",
    "                txt_to_save =  \n",
    "                    convert(String, Dates.format( today(), \"yyyy-mm-dd\" ) ) *\",\"* \n",
    "                    convert(String, symbol_to_predict) *\",\"* \n",
    "                    date_string *\",\"* \n",
    "                    string(a) * \"\\n\"\n",
    "                \n",
    "                write(file_handle, txt_to_save )\n",
    "                \n",
    "            end # if\n",
    "        end #if \n",
    "    end # for\n",
    "end # open file"
   ]
  },
  {
   "cell_type": "code",
   "execution_count": null,
   "metadata": {},
   "outputs": [],
   "source": []
  },
  {
   "cell_type": "code",
   "execution_count": null,
   "metadata": {},
   "outputs": [],
   "source": []
  }
 ],
 "metadata": {
  "kernelspec": {
   "display_name": "Julia 1.5.1",
   "language": "julia",
   "name": "julia-1.5"
  },
  "language_info": {
   "file_extension": ".jl",
   "mimetype": "application/julia",
   "name": "julia",
   "version": "1.5.1"
  },
  "toc": {
   "base_numbering": 1,
   "nav_menu": {},
   "number_sections": true,
   "sideBar": true,
   "skip_h1_title": true,
   "title_cell": "Table of Contents",
   "title_sidebar": "Contents",
   "toc_cell": true,
   "toc_position": {},
   "toc_section_display": true,
   "toc_window_display": true
  },
  "varInspector": {
   "cols": {
    "lenName": 16,
    "lenType": 16,
    "lenVar": 40
   },
   "kernels_config": {
    "python": {
     "delete_cmd_postfix": "",
     "delete_cmd_prefix": "del ",
     "library": "var_list.py",
     "varRefreshCmd": "print(var_dic_list())"
    },
    "r": {
     "delete_cmd_postfix": ") ",
     "delete_cmd_prefix": "rm(",
     "library": "var_list.r",
     "varRefreshCmd": "cat(var_dic_list()) "
    }
   },
   "types_to_exclude": [
    "module",
    "function",
    "builtin_function_or_method",
    "instance",
    "_Feature"
   ],
   "window_display": false
  }
 },
 "nbformat": 4,
 "nbformat_minor": 4
}
