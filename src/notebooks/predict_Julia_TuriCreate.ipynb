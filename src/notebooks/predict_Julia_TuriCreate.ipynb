{
 "cells": [
  {
   "cell_type": "markdown",
   "metadata": {},
   "source": [
    "# Prediction Model using TuriCreate in Julia"
   ]
  },
  {
   "cell_type": "markdown",
   "metadata": {
    "toc": true
   },
   "source": [
    "<h1>Table of Contents<span class=\"tocSkip\"></span></h1>\n",
    "<div class=\"toc\"><ul class=\"toc-item\"><li><span><a href=\"#Set-Up\" data-toc-modified-id=\"Set-Up-1\"><span class=\"toc-item-num\">1&nbsp;&nbsp;</span>Set Up</a></span></li><li><span><a href=\"#Fetch-Data-(SFrame)-from-Uber-CSV\" data-toc-modified-id=\"Fetch-Data-(SFrame)-from-Uber-CSV-2\"><span class=\"toc-item-num\">2&nbsp;&nbsp;</span>Fetch Data (SFrame) from Uber CSV</a></span></li><li><span><a href=\"#Split-Data\" data-toc-modified-id=\"Split-Data-3\"><span class=\"toc-item-num\">3&nbsp;&nbsp;</span>Split Data</a></span></li><li><span><a href=\"#Evaluate-the-Model\" data-toc-modified-id=\"Evaluate-the-Model-4\"><span class=\"toc-item-num\">4&nbsp;&nbsp;</span>Evaluate the Model</a></span></li><li><span><a href=\"#Save-/-Export-the-Model\" data-toc-modified-id=\"Save-/-Export-the-Model-5\"><span class=\"toc-item-num\">5&nbsp;&nbsp;</span>Save / Export the Model</a></span></li><li><span><a href=\"#Make-predictions\" data-toc-modified-id=\"Make-predictions-6\"><span class=\"toc-item-num\">6&nbsp;&nbsp;</span>Make predictions</a></span><ul class=\"toc-item\"><li><span><a href=\"#Explore-SFrame\" data-toc-modified-id=\"Explore-SFrame-6.1\"><span class=\"toc-item-num\">6.1&nbsp;&nbsp;</span>Explore SFrame</a></span></li></ul></li></ul></div>"
   ]
  },
  {
   "cell_type": "markdown",
   "metadata": {},
   "source": [
    "## Set Up"
   ]
  },
  {
   "cell_type": "code",
   "execution_count": 1,
   "metadata": {
    "ExecuteTime": {
     "end_time": "2020-12-11T19:15:07.401000-05:00",
     "start_time": "2020-12-12T00:15:06.633Z"
    }
   },
   "outputs": [
    {
     "name": "stdout",
     "output_type": "stream",
     "text": [
      "\n"
     ]
    }
   ],
   "source": [
    "symbol_to_predict = \"DJIA\" # - there is a bug\n",
    "# symbol_to_predict = \"AAPL\"\n",
    "#symbol_to_predict = \"VIX\"\n",
    "# symbol_to_predict = \"NIO\"\n",
    "#symbol_to_predict = \"NVDA\"\n",
    "\n",
    "features_to_analyze = \n",
    "[\n",
    "\n",
    " \n",
    "\"GSPC_Quantized\"\n",
    ",\"GSPC_Avg005\"\n",
    ",\"GSPC_Avg030\"\n",
    ",\"GSPC_Avg060\"\n",
    ",\"GSPC_Avg090\"\n",
    ",\"GSPC_Avg120\"\n",
    ",\"GSPC_Avg180\"\n",
    "\n",
    ",\"BTC_USD_Quantized\"\n",
    ",\"BTC_USD_Avg005\"\n",
    ",\"BTC_USD_Avg030\"\n",
    ",\"BTC_USD_Avg060\"\n",
    ",\"BTC_USD_Avg090\"\n",
    ",\"BTC_USD_Avg120\"\n",
    ",\"BTC_USD_Avg180\"\n",
    "\n",
    ",\"DALLAS_FED_MFC_Quantized\"\n",
    ",\"DALLAS_FED_MFC_Avg005\"\n",
    ",\"DALLAS_FED_MFC_Avg030\"\n",
    ",\"DALLAS_FED_MFC_Avg060\"\n",
    ",\"DALLAS_FED_MFC_Avg090\"\n",
    ",\"DALLAS_FED_MFC_Avg120\"\n",
    ",\"DALLAS_FED_MFC_Avg180\"\n",
    " \n",
    ",\"GOLD_Quantized\"\n",
    ",\"GOLD_Avg005\"\n",
    ",\"GOLD_Avg030\"\n",
    ",\"GOLD_Avg060\"\n",
    ",\"GOLD_Avg090\"\n",
    ",\"GOLD_Avg120\"\n",
    ",\"GOLD_Avg180\"\n",
    " \n",
    ",\"GELYF_Quantized\"\n",
    ",\"GELYF_Avg005\"\n",
    ",\"GELYF_Avg030\"\n",
    ",\"GELYF_Avg060\"\n",
    ",\"GELYF_Avg090\"\n",
    ",\"GELYF_Avg120\"\n",
    ",\"GELYF_Avg180\"\n",
    " \n",
    ",\"US_PEND_HOME_SALE_M_Quantized\"\n",
    ",\"US_PEND_HOME_SALE_M_Avg005\"\n",
    ",\"US_PEND_HOME_SALE_M_Avg030\"\n",
    ",\"US_PEND_HOME_SALE_M_Avg060\"\n",
    ",\"US_PEND_HOME_SALE_M_Avg090\"\n",
    ",\"US_PEND_HOME_SALE_M_Avg120\"\n",
    ",\"US_PEND_HOME_SALE_M_Avg180\"\n",
    " \n",
    ",\"TNX_Quantized\"\n",
    ",\"TNX_Avg005\"\n",
    ",\"TNX_Avg030\"\n",
    ",\"TNX_Avg060\"\n",
    ",\"TNX_Avg090\"\n",
    ",\"TNX_Avg120\"\n",
    ",\"TNX_Avg180\"\n",
    " \n",
    ",\"TSLA_Quantized\"\n",
    ",\"TSLA_Avg005\"\n",
    ",\"TSLA_Avg030\"\n",
    ",\"TSLA_Avg060\"\n",
    ",\"TSLA_Avg090\"\n",
    ",\"TSLA_Avg120\"\n",
    ",\"TSLA_Avg180\"\n",
    " \n",
    ",\"US_BUILD_PERM_Quantized\"\n",
    ",\"US_BUILD_PERM_Avg005\"\n",
    ",\"US_BUILD_PERM_Avg030\"\n",
    ",\"US_BUILD_PERM_Avg060\"\n",
    ",\"US_BUILD_PERM_Avg090\"\n",
    ",\"US_BUILD_PERM_Avg120\"\n",
    ",\"US_BUILD_PERM_Avg180\"\n",
    " \n",
    ",\"BYDDF_Quantized\"\n",
    ",\"BYDDF_Avg005\"\n",
    ",\"BYDDF_Avg030\"\n",
    ",\"BYDDF_Avg060\"\n",
    ",\"BYDDF_Avg090\"\n",
    ",\"BYDDF_Avg120\"\n",
    ",\"BYDDF_Avg180\"\n",
    " \n",
    ",\"US_INDS_PROD_M_Quantized\"\n",
    ",\"US_INDS_PROD_M_Avg005\"\n",
    ",\"US_INDS_PROD_M_Avg030\"\n",
    ",\"US_INDS_PROD_M_Avg060\"\n",
    ",\"US_INDS_PROD_M_Avg090\"\n",
    ",\"US_INDS_PROD_M_Avg120\"\n",
    ",\"US_INDS_PROD_M_Avg180\"\n",
    " \n",
    ",\"US_ISM_MFC_EMPL_Quantized\"\n",
    ",\"US_ISM_MFC_EMPL_Avg005\"\n",
    ",\"US_ISM_MFC_EMPL_Avg030\"\n",
    ",\"US_ISM_MFC_EMPL_Avg060\"\n",
    ",\"US_ISM_MFC_EMPL_Avg090\"\n",
    ",\"US_ISM_MFC_EMPL_Avg120\"\n",
    ",\"US_ISM_MFC_EMPL_Avg180\"\n",
    " \n",
    ",\"US_INIT_JOB_CLAIM_Quantized\"\n",
    ",\"US_INIT_JOB_CLAIM_Avg005\"\n",
    ",\"US_INIT_JOB_CLAIM_Avg030\"\n",
    ",\"US_INIT_JOB_CLAIM_Avg060\"\n",
    ",\"US_INIT_JOB_CLAIM_Avg090\"\n",
    ",\"US_INIT_JOB_CLAIM_Avg120\"\n",
    ",\"US_INIT_JOB_CLAIM_Avg180\"\n",
    " \n",
    ",\"US_UNEMPLOY_RATE_Quantized\"\n",
    ",\"US_UNEMPLOY_RATE_Avg005\"\n",
    ",\"US_UNEMPLOY_RATE_Avg030\"\n",
    ",\"US_UNEMPLOY_RATE_Avg060\"\n",
    ",\"US_UNEMPLOY_RATE_Avg090\"\n",
    ",\"US_UNEMPLOY_RATE_Avg120\"\n",
    ",\"US_UNEMPLOY_RATE_Avg180\"\n",
    " \n",
    ",\"NVDA_Quantized\"\n",
    ",\"NVDA_Avg005\"\n",
    ",\"NVDA_Avg030\"\n",
    ",\"NVDA_Avg060\"\n",
    ",\"NVDA_Avg090\"\n",
    ",\"NVDA_Avg120\"\n",
    ",\"NVDA_Avg180\"\n",
    " \n",
    ",\"NRMGX_Quantized\"\n",
    ",\"NRMGX_Avg005\"\n",
    ",\"NRMGX_Avg030\"\n",
    ",\"NRMGX_Avg060\"\n",
    ",\"NRMGX_Avg090\"\n",
    ",\"NRMGX_Avg120\"\n",
    ",\"NRMGX_Avg180\"\n",
    " \n",
    ",\"US_HOUS_STRS_M_Quantized\"\n",
    ",\"US_HOUS_STRS_M_Avg005\"\n",
    ",\"US_HOUS_STRS_M_Avg030\"\n",
    ",\"US_HOUS_STRS_M_Avg060\"\n",
    ",\"US_HOUS_STRS_M_Avg090\"\n",
    ",\"US_HOUS_STRS_M_Avg120\"\n",
    ",\"US_HOUS_STRS_M_Avg180\"\n",
    " \n",
    ",\"HD_Quantized\"\n",
    ",\"HD_Avg005\"\n",
    ",\"HD_Avg030\"\n",
    ",\"HD_Avg060\"\n",
    ",\"HD_Avg090\"\n",
    ",\"HD_Avg120\"\n",
    ",\"HD_Avg180\"\n",
    " \n",
    ",\"US_GDP_Q_Quantized\"\n",
    ",\"US_GDP_Q_Avg005\"\n",
    ",\"US_GDP_Q_Avg030\"\n",
    ",\"US_GDP_Q_Avg060\"\n",
    ",\"US_GDP_Q_Avg090\"\n",
    ",\"US_GDP_Q_Avg120\"\n",
    ",\"US_GDP_Q_Avg180\"\n",
    " \n",
    ",\"LI_Quantized\"\n",
    ",\"LI_Avg005\"\n",
    ",\"LI_Avg030\"\n",
    ",\"LI_Avg060\"\n",
    ",\"LI_Avg090\"\n",
    ",\"LI_Avg120\"\n",
    ",\"LI_Avg180\"\n",
    " \n",
    ",\"VIX_Quantized\"\n",
    ",\"VIX_Avg005\"\n",
    ",\"VIX_Avg030\"\n",
    ",\"VIX_Avg060\"\n",
    ",\"VIX_Avg090\"\n",
    ",\"VIX_Avg120\"\n",
    ",\"VIX_Avg180\"\n",
    " \n",
    ",\"TPLGX_Quantized\"\n",
    ",\"TPLGX_Avg005\"\n",
    ",\"TPLGX_Avg030\"\n",
    ",\"TPLGX_Avg060\"\n",
    ",\"TPLGX_Avg090\"\n",
    ",\"TPLGX_Avg120\"\n",
    ",\"TPLGX_Avg180\"\n",
    " \n",
    ",\"US_ISM_MFC_PMI_Quantized\"\n",
    ",\"US_ISM_MFC_PMI_Avg005\"\n",
    ",\"US_ISM_MFC_PMI_Avg030\"\n",
    ",\"US_ISM_MFC_PMI_Avg060\"\n",
    ",\"US_ISM_MFC_PMI_Avg090\"\n",
    ",\"US_ISM_MFC_PMI_Avg120\"\n",
    ",\"US_ISM_MFC_PMI_Avg180\"\n",
    " \n",
    ",\"VINIX_Quantized\"\n",
    ",\"VINIX_Avg005\"\n",
    ",\"VINIX_Avg030\"\n",
    ",\"VINIX_Avg060\"\n",
    ",\"VINIX_Avg090\"\n",
    ",\"VINIX_Avg120\"\n",
    ",\"VINIX_Avg180\"\n",
    " \n",
    ",\"NIO_Quantized\"\n",
    ",\"NIO_Avg005\"\n",
    ",\"NIO_Avg030\"\n",
    ",\"NIO_Avg060\"\n",
    ",\"NIO_Avg090\"\n",
    ",\"NIO_Avg120\"\n",
    ",\"NIO_Avg180\"\n",
    " \n",
    ",\"VBTLX_Quantized\"\n",
    ",\"VBTLX_Avg005\"\n",
    ",\"VBTLX_Avg030\"\n",
    ",\"VBTLX_Avg060\"\n",
    ",\"VBTLX_Avg090\"\n",
    ",\"VBTLX_Avg120\"\n",
    ",\"VBTLX_Avg180\"\n",
    " \n",
    ",\"RERGX_Quantized\"\n",
    ",\"RERGX_Avg005\"\n",
    ",\"RERGX_Avg030\"\n",
    ",\"RERGX_Avg060\"\n",
    ",\"RERGX_Avg090\"\n",
    ",\"RERGX_Avg120\"\n",
    ",\"RERGX_Avg180\"\n",
    " \n",
    ",\"CRSP_Quantized\"\n",
    ",\"CRSP_Avg005\"\n",
    ",\"CRSP_Avg030\"\n",
    ",\"CRSP_Avg060\"\n",
    ",\"CRSP_Avg090\"\n",
    ",\"CRSP_Avg120\"\n",
    ",\"CRSP_Avg180\"\n",
    " \n",
    ",\"BABA_Quantized\"\n",
    ",\"BABA_Avg005\"\n",
    ",\"BABA_Avg030\"\n",
    ",\"BABA_Avg060\"\n",
    ",\"BABA_Avg090\"\n",
    ",\"BABA_Avg120\"\n",
    ",\"BABA_Avg180\"\n",
    " \n",
    ",\"RIDE_Quantized\"\n",
    ",\"RIDE_Avg005\"\n",
    ",\"RIDE_Avg030\"\n",
    ",\"RIDE_Avg060\"\n",
    ",\"RIDE_Avg090\"\n",
    ",\"RIDE_Avg120\"\n",
    ",\"RIDE_Avg180\"\n",
    " \n",
    "#,\"DJIA_Quantized\"\n",
    "#,\"DJIA_Avg005\"\n",
    ",\"DJIA_Avg030\"\n",
    ",\"DJIA_Avg060\"\n",
    ",\"DJIA_Avg090\"\n",
    ",\"DJIA_Avg120\"\n",
    ",\"DJIA_Avg180\"\n",
    " \n",
    ",\"AAPL_Quantized\"\n",
    ",\"AAPL_Avg005\"\n",
    ",\"AAPL_Avg030\"\n",
    ",\"AAPL_Avg060\"\n",
    ",\"AAPL_Avg090\"\n",
    ",\"AAPL_Avg120\"\n",
    ",\"AAPL_Avg180\"\n",
    " \n",
    "    \n",
    "]\n",
    "\n",
    "println()"
   ]
  },
  {
   "cell_type": "code",
   "execution_count": 2,
   "metadata": {
    "ExecuteTime": {
     "end_time": "2020-12-11T19:15:11.853000-05:00",
     "start_time": "2020-12-12T00:15:06.635Z"
    }
   },
   "outputs": [
    {
     "name": "stdout",
     "output_type": "stream",
     "text": [
      "\n"
     ]
    },
    {
     "data": {
      "text/plain": [
       "\"DJIA_Original\""
      ]
     },
     "execution_count": 2,
     "metadata": {},
     "output_type": "execute_result"
    }
   ],
   "source": [
    "## uncomment for the first run\n",
    "# import Pkg\n",
    "# Pkg.add(\"PyCall\")\n",
    "# Pkg.add(\"Conda\")\n",
    "# ENV[\"PYTHON\"] = \"/opt/anaconda3/envs/turi/bin/python\"\n",
    "# /opt/anaconda3/envs/turi/lib/python3.6/site-packages/\n",
    "# Pkg.build(\"PyCall\")\n",
    "\n",
    "include(\"../Julia/functions.jl\") \n",
    "data_path=\"../DATA/processed/uber_training.csv\"\n",
    "column_to_predict = symbol_to_predict * \"_Original\""
   ]
  },
  {
   "cell_type": "markdown",
   "metadata": {},
   "source": [
    "## Fetch Data (SFrame) from Uber CSV"
   ]
  },
  {
   "cell_type": "code",
   "execution_count": 3,
   "metadata": {
    "ExecuteTime": {
     "end_time": "2020-12-11T19:15:15.950000-05:00",
     "start_time": "2020-12-12T00:15:06.638Z"
    }
   },
   "outputs": [
    {
     "name": "stdout",
     "output_type": "stream",
     "text": [
      "Finished parsing file /Users/uki/REPOS/MarketIndicators.jl/src/DATA/processed/uber_training.csv\n",
      "Parsing completed. Parsed 100 lines in 0.029351 secs.\n",
      "------------------------------------------------------\n",
      "Inferred types from first 100 line(s) of file as \n",
      "column_type_hints=[int,str,float,float,float,float,float,float,float,float,float,float,float,float,float,float,float,float,float,float,float,float,float,float,float,float,float,float,float,float,float,float,float,float,float,float,float,float,float,float,float,float,float,float,float,float,float,float,float,float,float,float,float,float,float,float,float,float,float,float,float,float,float,float,float,float,float,float,float,float,float,float,float,float,float,float,float,float,float,float,float,float,float,float,float,float,float,float,float,float,float,float,float,float,float,float,float,float,float,float,float,float,float,float,float,float,float,float,float,float,float,float,float,float,float,float,float,float,float,float,float,float,float,float,float,float,float,float,float,float,float,float,float,float,float,float,float,float,float,float,float,float,float,float,float,float,float,float,float,float,float,float,float,float,float,float,float,float,float,float,float,float,float,float,float,float,float,float,float,float,float,float,float,float,float,float,float,float,float,float,float,float,float,float,float,float,float,float,float,float,float,float,float,float,float,float,float,float,float,float,float,float,float,float,float,float,float,float,float,float,float,float,float,float,float,float,float,float,float,float,float,float,float,float,float,float,float,float,float,float,float,float,float,float,float,float,float,float,float,float,float,float,float,float,float,float,float,float,float,float,float,float,float,float,float,float,float,float]\n",
      "If parsing fails due to incorrect types, you can correct\n",
      "the inferred type list above and pass it to read_csv in\n",
      "the column_type_hints argument\n",
      "------------------------------------------------------\n",
      "Finished parsing file /Users/uki/REPOS/MarketIndicators.jl/src/DATA/processed/uber_training.csv\n",
      "Parsing completed. Parsed 130 lines in 0.008603 secs.\n",
      "\n"
     ]
    }
   ],
   "source": [
    "using PyCall\n",
    "tc = pyimport(\"turicreate\")\n",
    "data = tc.SFrame(data_path)\n",
    "println()"
   ]
  },
  {
   "cell_type": "markdown",
   "metadata": {},
   "source": [
    "## Split Data"
   ]
  },
  {
   "cell_type": "code",
   "execution_count": 4,
   "metadata": {
    "ExecuteTime": {
     "end_time": "2020-12-11T19:15:16.521000-05:00",
     "start_time": "2020-12-12T00:15:06.640Z"
    }
   },
   "outputs": [
    {
     "name": "stdout",
     "output_type": "stream",
     "text": [
      "(101,)\n",
      "(29,)\n"
     ]
    }
   ],
   "source": [
    "# Make a train-test split\n",
    "train_data, test_data = data.random_split(0.8)\n",
    "\n",
    "println( size(train_data) )\n",
    "println( size(test_data)  )"
   ]
  },
  {
   "cell_type": "code",
   "execution_count": 5,
   "metadata": {
    "ExecuteTime": {
     "end_time": "2020-12-11T19:15:18.977000-05:00",
     "start_time": "2020-12-12T00:15:06.643Z"
    }
   },
   "outputs": [
    {
     "name": "stdout",
     "output_type": "stream",
     "text": [
      "Automatically generating validation set from 10% of the data.\n",
      "Linear regression:\n",
      "--------------------------------------------------------\n",
      "Number of examples          : 86\n",
      "Number of features          : 222\n",
      "Number of unpacked features : 222\n",
      "Number of coefficients    : 223\n",
      "Starting Newton Method\n",
      "--------------------------------------------------------\n",
      "+-----------+----------+--------------+--------------------+----------------------+---------------------------------+-----------------------------------+\n",
      "| Iteration | Passes   | Elapsed Time | Training Max Error | Validation Max Error | Training Root-Mean-Square Error | Validation Root-Mean-Square Error |\n",
      "+-----------+----------+--------------+--------------------+----------------------+---------------------------------+-----------------------------------+\n",
      "| 1         | 2        | 1.018426     | 266.130969         | 639.895016           | 58.541580                       | 257.090641                        |\n",
      "+-----------+----------+--------------+--------------------+----------------------+---------------------------------+-----------------------------------+\n",
      "SUCCESS: Optimal solution found.\n",
      "\n"
     ]
    },
    {
     "data": {
      "text/plain": [
       "PyObject Class                          : LinearRegression\n",
       "\n",
       "Schema\n",
       "------\n",
       "Number of coefficients         : 223\n",
       "Number of examples             : 86\n",
       "Number of feature columns      : 222\n",
       "Number of unpacked features    : 222\n",
       "\n",
       "Hyperparameters\n",
       "---------------\n",
       "L1 penalty                     : 0\n",
       "L2 penalty                     : 0.01\n",
       "\n",
       "Training Summary\n",
       "----------------\n",
       "Solver                         : newton\n",
       "Solver iterations              : 1\n",
       "Solver status                  : SUCCESS: Optimal solution found.\n",
       "Training time (sec)            : 1.0229\n",
       "\n",
       "Settings\n",
       "--------\n",
       "Residual sum of squares        : 294732.0291\n",
       "Training RMSE                  : 58.5416\n",
       "\n",
       "Highest Positive Coefficients\n",
       "-----------------------------\n",
       "(intercept)                    : 19482.8527\n",
       "GELYF_Avg060                   : 53.9781\n",
       "GSPC_Quantized                 : 28.125\n",
       "RERGX_Quantized                : 15.6177\n",
       "AAPL_Quantized                 : 14.7034\n",
       "\n",
       "Lowest Negative Coefficients\n",
       "----------------------------\n",
       "CRSP_Avg030                    : -28.1546\n",
       "CRSP_Avg090                    : -23.1531\n",
       "GELYF_Avg090                   : -19.8181\n",
       "BTC_USD_Avg120                 : -19.4563\n",
       "GELYF_Avg005                   : -18.5962\n"
      ]
     },
     "execution_count": 5,
     "metadata": {},
     "output_type": "execute_result"
    }
   ],
   "source": [
    "model = tc.regression.create( \n",
    "    train_data, \n",
    "    target = column_to_predict, \n",
    "    features = features_to_analyze, \n",
    "    validation_set=\"auto\", \n",
    "    verbose=true\n",
    ")"
   ]
  },
  {
   "cell_type": "markdown",
   "metadata": {},
   "source": [
    "## Evaluate the Model"
   ]
  },
  {
   "cell_type": "code",
   "execution_count": 6,
   "metadata": {
    "ExecuteTime": {
     "end_time": "2020-12-11T19:15:20.135000-05:00",
     "start_time": "2020-12-12T00:15:06.646Z"
    }
   },
   "outputs": [
    {
     "data": {
      "text/plain": [
       "Dict{Any,Any} with 2 entries:\n",
       "  \"rmse\"      => 209.355\n",
       "  \"max_error\" => 534.296"
      ]
     },
     "execution_count": 6,
     "metadata": {},
     "output_type": "execute_result"
    }
   ],
   "source": [
    "#TODO: write this in a loop to select the best model\n",
    "# Evaluate the model and save the results into a dictionary\n",
    "results = model.evaluate( test_data ) #test_data[0:2531]\n",
    "results"
   ]
  },
  {
   "cell_type": "code",
   "execution_count": 7,
   "metadata": {
    "ExecuteTime": {
     "end_time": "2020-12-11T19:15:20.305000-05:00",
     "start_time": "2020-12-12T00:15:06.649Z"
    }
   },
   "outputs": [
    {
     "name": "stdout",
     "output_type": "stream",
     "text": [
      "max_error: 534.3, rmse: 209.36\n"
     ]
    }
   ],
   "source": [
    "rmse = results[\"rmse\"]\n",
    "rmse = round(rmse, digits=2)\n",
    "\n",
    "max_error = results[\"max_error\"]\n",
    "max_error = round(max_error, digits=2)\n",
    "\n",
    "println( \"max_error: \", max_error, \", rmse: \", rmse )\n",
    "# max_error: 1069.27, rmse: 184.6\n",
    "# max_error: 65.35, rmse: 32.6            predict: ^DJIA added: US_INIT_JOBLESS\n",
    "# max_error: 1875.39, rmse: 443.59        predict: ^DJIA commented out: \"DJIA_Quantized\"\n",
    "# max_error: 1339.76, rmse: 373.94        predict: ^DJIA commented out: \"DJIA_Quantized\"\n",
    "# max_error: 916.19, rmse: 231.24       predict: ^DJIA with \"DJIA_Avg005\""
   ]
  },
  {
   "cell_type": "markdown",
   "metadata": {},
   "source": [
    "## Save / Export the Model"
   ]
  },
  {
   "cell_type": "code",
   "execution_count": 8,
   "metadata": {
    "ExecuteTime": {
     "end_time": "2020-12-11T19:15:20.333000-05:00",
     "start_time": "2020-12-12T00:15:06.653Z"
    }
   },
   "outputs": [],
   "source": [
    "# Export to Core ML\n",
    "model.export_coreml(\"../DATA/models/^DJI.mlmodel\")"
   ]
  },
  {
   "cell_type": "markdown",
   "metadata": {},
   "source": [
    "## Make predictions "
   ]
  },
  {
   "cell_type": "code",
   "execution_count": 9,
   "metadata": {
    "ExecuteTime": {
     "end_time": "2020-12-11T19:15:20.533000-05:00",
     "start_time": "2020-12-12T00:15:06.656Z"
    }
   },
   "outputs": [
    {
     "name": "stdout",
     "output_type": "stream",
     "text": [
      "Finished parsing file /Users/uki/REPOS/MarketIndicators.jl/src/DATA/processed/uber_prediction.csv\n",
      "Parsing completed. Parsed 100 lines in 0.039726 secs.\n",
      "------------------------------------------------------\n",
      "Inferred types from first 100 line(s) of file as \n",
      "column_type_hints=[int,str,float,float,float,float,float,float,float,float,float,float,float,float,float,float,float,float,float,float,float,float,float,float,float,float,float,float,float,float,float,float,float,float,float,float,float,float,float,float,float,float,float,float,float,float,float,float,float,float,float,float,float,float,float,float,float,float,float,float,float,float,float,float,float,float,float,float,float,float,float,float,float,float,float,float,float,float,float,float,float,float,float,float,float,float,float,float,float,float,float,float,float,float,float,float,float,float,float,float,float,float,float,float,float,float,float,float,float,float,float,float,float,float,float,float,float,float,float,float,float,float,float,float,float,float,float,float,float,float,float,float,float,float,float,float,float,float,float,float,float,float,float,float,float,float,float,float,float,float,float,float,float,float,float,float,float,float,float,float,float,float,float,float,float,float,float,float,float,float,float,float,float,float,float,float,float,float,float,float,float,float,float,float,float,float,float,float,float,float,float,float,float,float,float,float,float,float,float,float,float,float,float,float,float,float,float,float,float,float,float,float,float,float,float,float,float,float,float,float,float,float,float,float,float,float,float,float,float,float,float,float,float,float,float,float,float,float,float,float,float,float,float,float,float,float,float,float,float,float,float,float,float,float,float,float,float,float]\n",
      "If parsing fails due to incorrect types, you can correct\n",
      "the inferred type list above and pass it to read_csv in\n",
      "the column_type_hints argument\n",
      "------------------------------------------------------\n",
      "Finished parsing file /Users/uki/REPOS/MarketIndicators.jl/src/DATA/processed/uber_prediction.csv\n",
      "Parsing completed. Parsed 120 lines in 0.010075 secs.\n",
      "\n"
     ]
    }
   ],
   "source": [
    "data_path=\"../DATA/processed/uber_prediction.csv\"\n",
    "data_predictions = tc.SFrame(data_path)\n",
    "\n",
    "## Save predictions to an SArray\n",
    "predictions = model.predict(data_predictions)\n",
    "#get(predictions, 1)\n",
    "\n",
    "println()"
   ]
  },
  {
   "cell_type": "markdown",
   "metadata": {},
   "source": [
    "### Explore SFrame"
   ]
  },
  {
   "cell_type": "code",
   "execution_count": 10,
   "metadata": {
    "ExecuteTime": {
     "end_time": "2020-12-11T19:15:20.696000-05:00",
     "start_time": "2020-12-12T00:15:06.661Z"
    }
   },
   "outputs": [
    {
     "name": "stdout",
     "output_type": "stream",
     "text": [
      "record_count data 120\n",
      "record_count predictions 120\n",
      "feature_number 258\n",
      "Rata Die 737799\n",
      "date 2021-01-09\n",
      "original 30059.480469\n"
     ]
    }
   ],
   "source": [
    "record_count = size(data_predictions)[1]\n",
    "row = get(data_predictions, record_count-1)\n",
    "\n",
    "feature_number = row.count\n",
    "day = row[\"Rata_Die\"]\n",
    "date = row[\"Date\"] # \"2020-10-20\"\n",
    "original = row[\"DJIA_Original\"]\n",
    "\n",
    "println( \"record_count data \", record_count )\n",
    "println( \"record_count predictions \", size(predictions)[1] )\n",
    "\n",
    "println( \"feature_number \", feature_number )\n",
    "println( \"Rata Die \", day )\n",
    "println( \"date \", date )\n",
    "println( \"original \", original )"
   ]
  },
  {
   "cell_type": "code",
   "execution_count": 11,
   "metadata": {
    "ExecuteTime": {
     "end_time": "2020-12-11T19:15:23.628000-05:00",
     "start_time": "2020-12-12T00:15:06.664Z"
    }
   },
   "outputs": [
    {
     "name": "stdout",
     "output_type": "stream",
     "text": [
      "preditions set size: 119, step 6\n",
      "DJIA 119 Array{Date,1}\n",
      "t Dec. 11, 2020 String\n",
      "\n"
     ]
    }
   ],
   "source": [
    "using Dates\n",
    "today_rata = Dates.datetime2rata( today() )\n",
    "\n",
    "## Determine dataset size\n",
    "\n",
    "initio = 1                                              # latin: start\n",
    "finem  = size(predictions)[1] -1                        # latin: end\n",
    "gradus = convert(Int64, round( finem/20, digits=0)  )   # latin: step\n",
    "\n",
    "println(\"preditions set size: \", finem, \", step \", gradus)\n",
    "\n",
    "\n",
    "## Declare variables\n",
    "x_axis_dates      = Vector{Date}() # results in Array{Date,1}\n",
    "y_axis_original   = Vector{Float64}()\n",
    "y_axis_predicted  = Vector{Float64}()\n",
    "\n",
    "println(symbol_to_predict, \" \", finem, \" \", typeof(x_axis_dates))\n",
    "\n",
    "today_id  = 50 # not set yet\n",
    "\n",
    "## step thru each prediction\n",
    "for id in initio:finem\n",
    "    row = get(data_predictions, id) # get a dictionary of data from the SFrame\n",
    "    \n",
    "    date_string = row[\"Date\"] # e.g. \"2020-10-20\"\n",
    "    date = Date(date_string) # 2020-09-07 Date\n",
    "    if date == today()\n",
    "        today_id = id\n",
    "    end \n",
    "    #date = Dates.format(date, \"u.d,yy\" )\n",
    "    #println(\"date \", date, \" \", typeof(date))\n",
    "    push!(x_axis_dates, date)\n",
    "    \n",
    "    predicted = get(predictions, id) # Float64\n",
    "    predicted = round(predicted, digits=0)\n",
    "    #println(\"predicted \", predicted, \" \", typeof(predicted))\n",
    "    append!(y_axis_predicted, predicted)\n",
    "    \n",
    "    \n",
    "    original = row[ column_to_predict ]\n",
    "    original = round(original, digits=0) # Float64\n",
    "    #println(\"original \", original, \" \", typeof(original)) \n",
    "    append!(y_axis_original, original)\n",
    "end\n",
    "\n",
    "## Format Dates for plotting\n",
    "include(\"../Julia/function_format_dates.jl\")\n",
    "x_axis_dates = format_dates(x_axis_dates, \"u. d, yy\")\n",
    "\n",
    "\n",
    "\n",
    "t = today()# Date\n",
    "t = format_dates([t], \"u. d, yyyy\") # Array{String,1}\n",
    "t = t[1] # String\n",
    "println(\"t \", t, \" \", typeof(t))\n",
    "\n",
    "println()"
   ]
  },
  {
   "cell_type": "code",
   "execution_count": 12,
   "metadata": {
    "ExecuteTime": {
     "end_time": "2020-12-11T19:16:03.059000-05:00",
     "start_time": "2020-12-12T00:15:06.668Z"
    }
   },
   "outputs": [
    {
     "data": {
      "image/svg+xml": [
       "<?xml version=\"1.0\" encoding=\"utf-8\"?>\n",
       "<svg xmlns=\"http://www.w3.org/2000/svg\" xmlns:xlink=\"http://www.w3.org/1999/xlink\" width=\"980\" height=\"400\" viewBox=\"0 0 3920 1600\">\n",
       "<defs>\n",
       "  <clipPath id=\"clip5400\">\n",
       "    <rect x=\"0\" y=\"0\" width=\"3920\" height=\"1600\"/>\n",
       "  </clipPath>\n",
       "</defs>\n",
       "<path clip-path=\"url(#clip5400)\" d=\"\n",
       "M0 1600 L3920 1600 L3920 0 L0 0  Z\n",
       "  \" fill=\"#ffffff\" fill-rule=\"evenodd\" fill-opacity=\"1\"/>\n",
       "<defs>\n",
       "  <clipPath id=\"clip5401\">\n",
       "    <rect x=\"784\" y=\"0\" width=\"2745\" height=\"1600\"/>\n",
       "  </clipPath>\n",
       "</defs>\n",
       "<path clip-path=\"url(#clip5400)\" d=\"\n",
       "M281.07 1423.18 L3872.76 1423.18 L3872.76 47.2441 L281.07 47.2441  Z\n",
       "  \" fill=\"#ffffff\" fill-rule=\"evenodd\" fill-opacity=\"1\"/>\n",
       "<defs>\n",
       "  <clipPath id=\"clip5402\">\n",
       "    <rect x=\"281\" y=\"47\" width=\"3593\" height=\"1377\"/>\n",
       "  </clipPath>\n",
       "</defs>\n",
       "<polyline clip-path=\"url(#clip5402)\" style=\"stroke:#000000; stroke-width:2; stroke-opacity:0.1; fill:none\" points=\"\n",
       "  382.721,1423.18 382.721,47.2441 \n",
       "  \"/>\n",
       "<polyline clip-path=\"url(#clip5402)\" style=\"stroke:#000000; stroke-width:2; stroke-opacity:0.1; fill:none\" points=\"\n",
       "  612.442,1423.18 612.442,47.2441 \n",
       "  \"/>\n",
       "<polyline clip-path=\"url(#clip5402)\" style=\"stroke:#000000; stroke-width:2; stroke-opacity:0.1; fill:none\" points=\"\n",
       "  870.878,1423.18 870.878,47.2441 \n",
       "  \"/>\n",
       "<polyline clip-path=\"url(#clip5402)\" style=\"stroke:#000000; stroke-width:2; stroke-opacity:0.1; fill:none\" points=\"\n",
       "  1100.6,1423.18 1100.6,47.2441 \n",
       "  \"/>\n",
       "<polyline clip-path=\"url(#clip5402)\" style=\"stroke:#000000; stroke-width:2; stroke-opacity:0.1; fill:none\" points=\"\n",
       "  1359.03,1423.18 1359.03,47.2441 \n",
       "  \"/>\n",
       "<polyline clip-path=\"url(#clip5402)\" style=\"stroke:#000000; stroke-width:2; stroke-opacity:0.1; fill:none\" points=\"\n",
       "  1588.76,1423.18 1588.76,47.2441 \n",
       "  \"/>\n",
       "<polyline clip-path=\"url(#clip5402)\" style=\"stroke:#000000; stroke-width:2; stroke-opacity:0.1; fill:none\" points=\"\n",
       "  1847.19,1423.18 1847.19,47.2441 \n",
       "  \"/>\n",
       "<polyline clip-path=\"url(#clip5402)\" style=\"stroke:#000000; stroke-width:2; stroke-opacity:0.1; fill:none\" points=\"\n",
       "  2076.91,1423.18 2076.91,47.2441 \n",
       "  \"/>\n",
       "<polyline clip-path=\"url(#clip5402)\" style=\"stroke:#000000; stroke-width:2; stroke-opacity:0.1; fill:none\" points=\"\n",
       "  2306.63,1423.18 2306.63,47.2441 \n",
       "  \"/>\n",
       "<polyline clip-path=\"url(#clip5402)\" style=\"stroke:#000000; stroke-width:2; stroke-opacity:0.1; fill:none\" points=\"\n",
       "  2565.07,1423.18 2565.07,47.2441 \n",
       "  \"/>\n",
       "<polyline clip-path=\"url(#clip5402)\" style=\"stroke:#000000; stroke-width:2; stroke-opacity:0.1; fill:none\" points=\"\n",
       "  2794.79,1423.18 2794.79,47.2441 \n",
       "  \"/>\n",
       "<polyline clip-path=\"url(#clip5402)\" style=\"stroke:#000000; stroke-width:2; stroke-opacity:0.1; fill:none\" points=\"\n",
       "  3053.23,1423.18 3053.23,47.2441 \n",
       "  \"/>\n",
       "<polyline clip-path=\"url(#clip5402)\" style=\"stroke:#000000; stroke-width:2; stroke-opacity:0.1; fill:none\" points=\"\n",
       "  3282.95,1423.18 3282.95,47.2441 \n",
       "  \"/>\n",
       "<polyline clip-path=\"url(#clip5402)\" style=\"stroke:#000000; stroke-width:2; stroke-opacity:0.1; fill:none\" points=\"\n",
       "  3541.38,1423.18 3541.38,47.2441 \n",
       "  \"/>\n",
       "<polyline clip-path=\"url(#clip5402)\" style=\"stroke:#000000; stroke-width:2; stroke-opacity:0.1; fill:none\" points=\"\n",
       "  3771.1,1423.18 3771.1,47.2441 \n",
       "  \"/>\n",
       "<polyline clip-path=\"url(#clip5402)\" style=\"stroke:#000000; stroke-width:2; stroke-opacity:0.1; fill:none\" points=\"\n",
       "  281.07,1181.92 3872.76,1181.92 \n",
       "  \"/>\n",
       "<polyline clip-path=\"url(#clip5402)\" style=\"stroke:#000000; stroke-width:2; stroke-opacity:0.1; fill:none\" points=\"\n",
       "  281.07,851.882 3872.76,851.882 \n",
       "  \"/>\n",
       "<polyline clip-path=\"url(#clip5402)\" style=\"stroke:#000000; stroke-width:2; stroke-opacity:0.1; fill:none\" points=\"\n",
       "  281.07,521.84 3872.76,521.84 \n",
       "  \"/>\n",
       "<polyline clip-path=\"url(#clip5402)\" style=\"stroke:#000000; stroke-width:2; stroke-opacity:0.1; fill:none\" points=\"\n",
       "  281.07,191.799 3872.76,191.799 \n",
       "  \"/>\n",
       "<polyline clip-path=\"url(#clip5400)\" style=\"stroke:#000000; stroke-width:4; stroke-opacity:1; fill:none\" points=\"\n",
       "  281.07,1423.18 3872.76,1423.18 \n",
       "  \"/>\n",
       "<polyline clip-path=\"url(#clip5400)\" style=\"stroke:#000000; stroke-width:4; stroke-opacity:1; fill:none\" points=\"\n",
       "  281.07,1423.18 281.07,47.2441 \n",
       "  \"/>\n",
       "<polyline clip-path=\"url(#clip5400)\" style=\"stroke:#000000; stroke-width:4; stroke-opacity:1; fill:none\" points=\"\n",
       "  382.721,1423.18 382.721,1406.67 \n",
       "  \"/>\n",
       "<polyline clip-path=\"url(#clip5400)\" style=\"stroke:#000000; stroke-width:4; stroke-opacity:1; fill:none\" points=\"\n",
       "  612.442,1423.18 612.442,1406.67 \n",
       "  \"/>\n",
       "<polyline clip-path=\"url(#clip5400)\" style=\"stroke:#000000; stroke-width:4; stroke-opacity:1; fill:none\" points=\"\n",
       "  870.878,1423.18 870.878,1406.67 \n",
       "  \"/>\n",
       "<polyline clip-path=\"url(#clip5400)\" style=\"stroke:#000000; stroke-width:4; stroke-opacity:1; fill:none\" points=\"\n",
       "  1100.6,1423.18 1100.6,1406.67 \n",
       "  \"/>\n",
       "<polyline clip-path=\"url(#clip5400)\" style=\"stroke:#000000; stroke-width:4; stroke-opacity:1; fill:none\" points=\"\n",
       "  1359.03,1423.18 1359.03,1406.67 \n",
       "  \"/>\n",
       "<polyline clip-path=\"url(#clip5400)\" style=\"stroke:#000000; stroke-width:4; stroke-opacity:1; fill:none\" points=\"\n",
       "  1588.76,1423.18 1588.76,1406.67 \n",
       "  \"/>\n",
       "<polyline clip-path=\"url(#clip5400)\" style=\"stroke:#000000; stroke-width:4; stroke-opacity:1; fill:none\" points=\"\n",
       "  1847.19,1423.18 1847.19,1406.67 \n",
       "  \"/>\n",
       "<polyline clip-path=\"url(#clip5400)\" style=\"stroke:#000000; stroke-width:4; stroke-opacity:1; fill:none\" points=\"\n",
       "  2076.91,1423.18 2076.91,1406.67 \n",
       "  \"/>\n",
       "<polyline clip-path=\"url(#clip5400)\" style=\"stroke:#000000; stroke-width:4; stroke-opacity:1; fill:none\" points=\"\n",
       "  2306.63,1423.18 2306.63,1406.67 \n",
       "  \"/>\n",
       "<polyline clip-path=\"url(#clip5400)\" style=\"stroke:#000000; stroke-width:4; stroke-opacity:1; fill:none\" points=\"\n",
       "  2565.07,1423.18 2565.07,1406.67 \n",
       "  \"/>\n",
       "<polyline clip-path=\"url(#clip5400)\" style=\"stroke:#000000; stroke-width:4; stroke-opacity:1; fill:none\" points=\"\n",
       "  2794.79,1423.18 2794.79,1406.67 \n",
       "  \"/>\n",
       "<polyline clip-path=\"url(#clip5400)\" style=\"stroke:#000000; stroke-width:4; stroke-opacity:1; fill:none\" points=\"\n",
       "  3053.23,1423.18 3053.23,1406.67 \n",
       "  \"/>\n",
       "<polyline clip-path=\"url(#clip5400)\" style=\"stroke:#000000; stroke-width:4; stroke-opacity:1; fill:none\" points=\"\n",
       "  3282.95,1423.18 3282.95,1406.67 \n",
       "  \"/>\n",
       "<polyline clip-path=\"url(#clip5400)\" style=\"stroke:#000000; stroke-width:4; stroke-opacity:1; fill:none\" points=\"\n",
       "  3541.38,1423.18 3541.38,1406.67 \n",
       "  \"/>\n",
       "<polyline clip-path=\"url(#clip5400)\" style=\"stroke:#000000; stroke-width:4; stroke-opacity:1; fill:none\" points=\"\n",
       "  3771.1,1423.18 3771.1,1406.67 \n",
       "  \"/>\n",
       "<polyline clip-path=\"url(#clip5400)\" style=\"stroke:#000000; stroke-width:4; stroke-opacity:1; fill:none\" points=\"\n",
       "  281.07,1181.92 324.17,1181.92 \n",
       "  \"/>\n",
       "<polyline clip-path=\"url(#clip5400)\" style=\"stroke:#000000; stroke-width:4; stroke-opacity:1; fill:none\" points=\"\n",
       "  281.07,851.882 324.17,851.882 \n",
       "  \"/>\n",
       "<polyline clip-path=\"url(#clip5400)\" style=\"stroke:#000000; stroke-width:4; stroke-opacity:1; fill:none\" points=\"\n",
       "  281.07,521.84 324.17,521.84 \n",
       "  \"/>\n",
       "<polyline clip-path=\"url(#clip5400)\" style=\"stroke:#000000; stroke-width:4; stroke-opacity:1; fill:none\" points=\"\n",
       "  281.07,191.799 324.17,191.799 \n",
       "  \"/>\n",
       "<path clip-path=\"url(#clip5400)\" d=\"M 0 0 M288.173 1450.83 L288.173 1455.39 Q285.511 1454.11 283.15 1453.49 Q280.789 1452.86 278.59 1452.86 Q274.77 1452.86 272.687 1454.34 Q270.627 1455.83 270.627 1458.56 Q270.627 1460.85 271.993 1462.03 Q273.381 1463.19 277.224 1463.9 L280.048 1464.48 Q285.28 1465.48 287.756 1468 Q290.256 1470.5 290.256 1474.71 Q290.256 1479.74 286.877 1482.33 Q283.52 1484.92 277.016 1484.92 Q274.562 1484.92 271.784 1484.37 Q269.03 1483.81 266.067 1482.72 L266.067 1477.91 Q268.914 1479.51 271.645 1480.32 Q274.377 1481.13 277.016 1481.13 Q281.02 1481.13 283.196 1479.55 Q285.372 1477.98 285.372 1475.06 Q285.372 1472.52 283.798 1471.08 Q282.247 1469.65 278.682 1468.93 L275.835 1468.37 Q270.604 1467.33 268.266 1465.11 Q265.928 1462.89 265.928 1458.93 Q265.928 1454.34 269.145 1451.71 Q272.386 1449.07 278.057 1449.07 Q280.488 1449.07 283.011 1449.51 Q285.534 1449.95 288.173 1450.83 Z\" fill=\"#000000\" fill-rule=\"evenodd\" fill-opacity=\"1\" /><path clip-path=\"url(#clip5400)\" d=\"M 0 0 M316.9 1470.22 L316.9 1472.31 L297.317 1472.31 Q297.594 1476.71 299.955 1479.02 Q302.34 1481.31 306.576 1481.31 Q309.029 1481.31 311.321 1480.71 Q313.636 1480.11 315.904 1478.9 L315.904 1482.93 Q313.613 1483.9 311.205 1484.41 Q308.798 1484.92 306.321 1484.92 Q300.117 1484.92 296.483 1481.31 Q292.872 1477.7 292.872 1471.54 Q292.872 1465.18 296.298 1461.45 Q299.747 1457.7 305.58 1457.7 Q310.812 1457.7 313.844 1461.08 Q316.9 1464.44 316.9 1470.22 M312.64 1468.97 Q312.594 1465.48 310.673 1463.4 Q308.775 1461.31 305.627 1461.31 Q302.062 1461.31 299.909 1463.33 Q297.779 1465.34 297.455 1469 L312.64 1468.97 Z\" fill=\"#000000\" fill-rule=\"evenodd\" fill-opacity=\"1\" /><path clip-path=\"url(#clip5400)\" d=\"M 0 0 M325.488 1480.36 L325.488 1494.11 L321.205 1494.11 L321.205 1458.33 L325.488 1458.33 L325.488 1462.26 Q326.83 1459.95 328.867 1458.84 Q330.927 1457.7 333.775 1457.7 Q338.497 1457.7 341.437 1461.45 Q344.4 1465.2 344.4 1471.31 Q344.4 1477.42 341.437 1481.17 Q338.497 1484.92 333.775 1484.92 Q330.927 1484.92 328.867 1483.81 Q326.83 1482.68 325.488 1480.36 M339.978 1471.31 Q339.978 1466.61 338.034 1463.95 Q336.113 1461.27 332.733 1461.27 Q329.353 1461.27 327.409 1463.95 Q325.488 1466.61 325.488 1471.31 Q325.488 1476.01 327.409 1478.7 Q329.353 1481.36 332.733 1481.36 Q336.113 1481.36 338.034 1478.7 Q339.978 1476.01 339.978 1471.31 Z\" fill=\"#000000\" fill-rule=\"evenodd\" fill-opacity=\"1\" /><path clip-path=\"url(#clip5400)\" d=\"M 0 0 M349.469 1478.37 L354.353 1478.37 L354.353 1484.25 L349.469 1484.25 L349.469 1478.37 Z\" fill=\"#000000\" fill-rule=\"evenodd\" fill-opacity=\"1\" /><path clip-path=\"url(#clip5400)\" d=\"M 0 0 M375.302 1480.32 L382.941 1480.32 L382.941 1453.95 L374.631 1455.62 L374.631 1451.36 L382.895 1449.69 L387.571 1449.69 L387.571 1480.32 L395.209 1480.32 L395.209 1484.25 L375.302 1484.25 L375.302 1480.32 Z\" fill=\"#000000\" fill-rule=\"evenodd\" fill-opacity=\"1\" /><path clip-path=\"url(#clip5400)\" d=\"M 0 0 M414.446 1465.62 Q417.802 1466.34 419.677 1468.6 Q421.575 1470.87 421.575 1474.21 Q421.575 1479.32 418.057 1482.12 Q414.538 1484.92 408.057 1484.92 Q405.881 1484.92 403.566 1484.48 Q401.274 1484.07 398.821 1483.21 L398.821 1478.7 Q400.765 1479.83 403.08 1480.41 Q405.395 1480.99 407.918 1480.99 Q412.316 1480.99 414.608 1479.25 Q416.922 1477.52 416.922 1474.21 Q416.922 1471.15 414.77 1469.44 Q412.64 1467.7 408.821 1467.7 L404.793 1467.7 L404.793 1463.86 L409.006 1463.86 Q412.455 1463.86 414.283 1462.49 Q416.112 1461.1 416.112 1458.51 Q416.112 1455.85 414.214 1454.44 Q412.339 1453 408.821 1453 Q406.899 1453 404.7 1453.42 Q402.501 1453.84 399.862 1454.71 L399.862 1450.55 Q402.524 1449.81 404.839 1449.44 Q407.177 1449.07 409.237 1449.07 Q414.561 1449.07 417.663 1451.5 Q420.765 1453.9 420.765 1458.03 Q420.765 1460.9 419.121 1462.89 Q417.478 1464.85 414.446 1465.62 Z\" fill=\"#000000\" fill-rule=\"evenodd\" fill-opacity=\"1\" /><path clip-path=\"url(#clip5400)\" d=\"M 0 0 M427.131 1478.37 L432.015 1478.37 L432.015 1482.35 L428.219 1489.76 L425.232 1489.76 L427.131 1482.35 L427.131 1478.37 Z\" fill=\"#000000\" fill-rule=\"evenodd\" fill-opacity=\"1\" /><path clip-path=\"url(#clip5400)\" d=\"M 0 0 M456.181 1480.32 L472.501 1480.32 L472.501 1484.25 L450.556 1484.25 L450.556 1480.32 Q453.218 1477.56 457.802 1472.93 Q462.408 1468.28 463.589 1466.94 Q465.834 1464.41 466.714 1462.68 Q467.617 1460.92 467.617 1459.23 Q467.617 1456.47 465.672 1454.74 Q463.751 1453 460.649 1453 Q458.45 1453 455.996 1453.77 Q453.566 1454.53 450.788 1456.08 L450.788 1451.36 Q453.612 1450.22 456.066 1449.65 Q458.519 1449.07 460.556 1449.07 Q465.927 1449.07 469.121 1451.75 Q472.316 1454.44 472.316 1458.93 Q472.316 1461.06 471.505 1462.98 Q470.718 1464.88 468.612 1467.47 Q468.033 1468.14 464.931 1471.36 Q461.83 1474.55 456.181 1480.32 Z\" fill=\"#000000\" fill-rule=\"evenodd\" fill-opacity=\"1\" /><path clip-path=\"url(#clip5400)\" d=\"M 0 0 M487.57 1452.77 Q483.959 1452.77 482.13 1456.34 Q480.325 1459.88 480.325 1467.01 Q480.325 1474.11 482.13 1477.68 Q483.959 1481.22 487.57 1481.22 Q491.204 1481.22 493.01 1477.68 Q494.839 1474.11 494.839 1467.01 Q494.839 1459.88 493.01 1456.34 Q491.204 1452.77 487.57 1452.77 M487.57 1449.07 Q493.38 1449.07 496.436 1453.67 Q499.514 1458.26 499.514 1467.01 Q499.514 1475.73 496.436 1480.34 Q493.38 1484.92 487.57 1484.92 Q481.76 1484.92 478.681 1480.34 Q475.626 1475.73 475.626 1467.01 Q475.626 1458.26 478.681 1453.67 Q481.76 1449.07 487.57 1449.07 Z\" fill=\"#000000\" fill-rule=\"evenodd\" fill-opacity=\"1\" /><path clip-path=\"url(#clip5400)\" d=\"M 0 0 M518.368 1450.83 L518.368 1455.39 Q515.706 1454.11 513.345 1453.49 Q510.984 1452.86 508.785 1452.86 Q504.966 1452.86 502.882 1454.34 Q500.822 1455.83 500.822 1458.56 Q500.822 1460.85 502.188 1462.03 Q503.577 1463.19 507.419 1463.9 L510.244 1464.48 Q515.475 1465.48 517.952 1468 Q520.452 1470.5 520.452 1474.71 Q520.452 1479.74 517.072 1482.33 Q513.716 1484.92 507.211 1484.92 Q504.757 1484.92 501.98 1484.37 Q499.225 1483.81 496.262 1482.72 L496.262 1477.91 Q499.109 1479.51 501.841 1480.32 Q504.572 1481.13 507.211 1481.13 Q511.216 1481.13 513.392 1479.55 Q515.568 1477.98 515.568 1475.06 Q515.568 1472.52 513.993 1471.08 Q512.443 1469.65 508.878 1468.93 L506.031 1468.37 Q500.799 1467.33 498.461 1465.11 Q496.123 1462.89 496.123 1458.93 Q496.123 1454.34 499.341 1451.71 Q502.582 1449.07 508.253 1449.07 Q510.683 1449.07 513.206 1449.51 Q515.73 1449.95 518.368 1450.83 Z\" fill=\"#000000\" fill-rule=\"evenodd\" fill-opacity=\"1\" /><path clip-path=\"url(#clip5400)\" d=\"M 0 0 M547.095 1470.22 L547.095 1472.31 L527.512 1472.31 Q527.79 1476.71 530.151 1479.02 Q532.535 1481.31 536.771 1481.31 Q539.225 1481.31 541.516 1480.71 Q543.831 1480.11 546.1 1478.9 L546.1 1482.93 Q543.808 1483.9 541.401 1484.41 Q538.993 1484.92 536.517 1484.92 Q530.313 1484.92 526.679 1481.31 Q523.068 1477.7 523.068 1471.54 Q523.068 1465.18 526.493 1461.45 Q529.942 1457.7 535.776 1457.7 Q541.007 1457.7 544.04 1461.08 Q547.095 1464.44 547.095 1470.22 M542.836 1468.97 Q542.79 1465.48 540.868 1463.4 Q538.97 1461.31 535.822 1461.31 Q532.257 1461.31 530.105 1463.33 Q527.975 1465.34 527.651 1469 L542.836 1468.97 Z\" fill=\"#000000\" fill-rule=\"evenodd\" fill-opacity=\"1\" /><path clip-path=\"url(#clip5400)\" d=\"M 0 0 M555.683 1480.36 L555.683 1494.11 L551.401 1494.11 L551.401 1458.33 L555.683 1458.33 L555.683 1462.26 Q557.026 1459.95 559.063 1458.84 Q561.123 1457.7 563.97 1457.7 Q568.692 1457.7 571.632 1461.45 Q574.595 1465.2 574.595 1471.31 Q574.595 1477.42 571.632 1481.17 Q568.692 1484.92 563.97 1484.92 Q561.123 1484.92 559.063 1483.81 Q557.026 1482.68 555.683 1480.36 M570.174 1471.31 Q570.174 1466.61 568.229 1463.95 Q566.308 1461.27 562.928 1461.27 Q559.549 1461.27 557.604 1463.95 Q555.683 1466.61 555.683 1471.31 Q555.683 1476.01 557.604 1478.7 Q559.549 1481.36 562.928 1481.36 Q566.308 1481.36 568.229 1478.7 Q570.174 1476.01 570.174 1471.31 Z\" fill=\"#000000\" fill-rule=\"evenodd\" fill-opacity=\"1\" /><path clip-path=\"url(#clip5400)\" d=\"M 0 0 M579.664 1478.37 L584.549 1478.37 L584.549 1484.25 L579.664 1484.25 L579.664 1478.37 Z\" fill=\"#000000\" fill-rule=\"evenodd\" fill-opacity=\"1\" /><path clip-path=\"url(#clip5400)\" d=\"M 0 0 M608.715 1480.32 L625.035 1480.32 L625.035 1484.25 L603.09 1484.25 L603.09 1480.32 Q605.752 1477.56 610.336 1472.93 Q614.942 1468.28 616.123 1466.94 Q618.368 1464.41 619.248 1462.68 Q620.15 1460.92 620.15 1459.23 Q620.15 1456.47 618.206 1454.74 Q616.285 1453 613.183 1453 Q610.984 1453 608.53 1453.77 Q606.099 1454.53 603.322 1456.08 L603.322 1451.36 Q606.146 1450.22 608.599 1449.65 Q611.053 1449.07 613.09 1449.07 Q618.461 1449.07 621.655 1451.75 Q624.849 1454.44 624.849 1458.93 Q624.849 1461.06 624.039 1462.98 Q623.252 1464.88 621.146 1467.47 Q620.567 1468.14 617.465 1471.36 Q614.363 1474.55 608.715 1480.32 Z\" fill=\"#000000\" fill-rule=\"evenodd\" fill-opacity=\"1\" /><path clip-path=\"url(#clip5400)\" d=\"M 0 0 M630.914 1480.32 L638.553 1480.32 L638.553 1453.95 L630.243 1455.62 L630.243 1451.36 L638.507 1449.69 L643.183 1449.69 L643.183 1480.32 L650.821 1480.32 L650.821 1484.25 L630.914 1484.25 L630.914 1480.32 Z\" fill=\"#000000\" fill-rule=\"evenodd\" fill-opacity=\"1\" /><path clip-path=\"url(#clip5400)\" d=\"M 0 0 M656.377 1478.37 L661.261 1478.37 L661.261 1482.35 L657.465 1489.76 L654.479 1489.76 L656.377 1482.35 L656.377 1478.37 Z\" fill=\"#000000\" fill-rule=\"evenodd\" fill-opacity=\"1\" /><path clip-path=\"url(#clip5400)\" d=\"M 0 0 M685.428 1480.32 L701.747 1480.32 L701.747 1484.25 L679.803 1484.25 L679.803 1480.32 Q682.465 1477.56 687.048 1472.93 Q691.655 1468.28 692.835 1466.94 Q695.08 1464.41 695.96 1462.68 Q696.863 1460.92 696.863 1459.23 Q696.863 1456.47 694.918 1454.74 Q692.997 1453 689.895 1453 Q687.696 1453 685.243 1453.77 Q682.812 1454.53 680.034 1456.08 L680.034 1451.36 Q682.858 1450.22 685.312 1449.65 Q687.766 1449.07 689.803 1449.07 Q695.173 1449.07 698.368 1451.75 Q701.562 1454.44 701.562 1458.93 Q701.562 1461.06 700.752 1462.98 Q699.965 1464.88 697.858 1467.47 Q697.28 1468.14 694.178 1471.36 Q691.076 1474.55 685.428 1480.32 Z\" fill=\"#000000\" fill-rule=\"evenodd\" fill-opacity=\"1\" /><path clip-path=\"url(#clip5400)\" d=\"M 0 0 M716.816 1452.77 Q713.205 1452.77 711.377 1456.34 Q709.571 1459.88 709.571 1467.01 Q709.571 1474.11 711.377 1477.68 Q713.205 1481.22 716.816 1481.22 Q720.451 1481.22 722.256 1477.68 Q724.085 1474.11 724.085 1467.01 Q724.085 1459.88 722.256 1456.34 Q720.451 1452.77 716.816 1452.77 M716.816 1449.07 Q722.627 1449.07 725.682 1453.67 Q728.761 1458.26 728.761 1467.01 Q728.761 1475.73 725.682 1480.34 Q722.627 1484.92 716.816 1484.92 Q711.006 1484.92 707.928 1480.34 Q704.872 1475.73 704.872 1467.01 Q704.872 1458.26 707.928 1453.67 Q711.006 1449.07 716.816 1449.07 Z\" fill=\"#000000\" fill-rule=\"evenodd\" fill-opacity=\"1\" /><path clip-path=\"url(#clip5400)\" d=\"M 0 0 M775.717 1450.83 L775.717 1455.39 Q773.055 1454.11 770.693 1453.49 Q768.332 1452.86 766.133 1452.86 Q762.314 1452.86 760.23 1454.34 Q758.17 1455.83 758.17 1458.56 Q758.17 1460.85 759.536 1462.03 Q760.925 1463.19 764.768 1463.9 L767.592 1464.48 Q772.823 1465.48 775.3 1468 Q777.8 1470.5 777.8 1474.71 Q777.8 1479.74 774.42 1482.33 Q771.064 1484.92 764.559 1484.92 Q762.105 1484.92 759.328 1484.37 Q756.573 1483.81 753.61 1482.72 L753.61 1477.91 Q756.457 1479.51 759.189 1480.32 Q761.92 1481.13 764.559 1481.13 Q768.564 1481.13 770.74 1479.55 Q772.916 1477.98 772.916 1475.06 Q772.916 1472.52 771.342 1471.08 Q769.791 1469.65 766.226 1468.93 L763.379 1468.37 Q758.147 1467.33 755.809 1465.11 Q753.471 1462.89 753.471 1458.93 Q753.471 1454.34 756.689 1451.71 Q759.93 1449.07 765.601 1449.07 Q768.031 1449.07 770.555 1449.51 Q773.078 1449.95 775.717 1450.83 Z\" fill=\"#000000\" fill-rule=\"evenodd\" fill-opacity=\"1\" /><path clip-path=\"url(#clip5400)\" d=\"M 0 0 M804.443 1470.22 L804.443 1472.31 L784.86 1472.31 Q785.138 1476.71 787.499 1479.02 Q789.883 1481.31 794.119 1481.31 Q796.573 1481.31 798.865 1480.71 Q801.179 1480.11 803.448 1478.9 L803.448 1482.93 Q801.156 1483.9 798.749 1484.41 Q796.341 1484.92 793.865 1484.92 Q787.661 1484.92 784.027 1481.31 Q780.416 1477.7 780.416 1471.54 Q780.416 1465.18 783.841 1461.45 Q787.291 1457.7 793.124 1457.7 Q798.355 1457.7 801.388 1461.08 Q804.443 1464.44 804.443 1470.22 M800.184 1468.97 Q800.138 1465.48 798.216 1463.4 Q796.318 1461.31 793.17 1461.31 Q789.605 1461.31 787.453 1463.33 Q785.323 1465.34 784.999 1469 L800.184 1468.97 Z\" fill=\"#000000\" fill-rule=\"evenodd\" fill-opacity=\"1\" /><path clip-path=\"url(#clip5400)\" d=\"M 0 0 M813.031 1480.36 L813.031 1494.11 L808.749 1494.11 L808.749 1458.33 L813.031 1458.33 L813.031 1462.26 Q814.374 1459.95 816.411 1458.84 Q818.471 1457.7 821.318 1457.7 Q826.04 1457.7 828.98 1461.45 Q831.943 1465.2 831.943 1471.31 Q831.943 1477.42 828.98 1481.17 Q826.04 1484.92 821.318 1484.92 Q818.471 1484.92 816.411 1483.81 Q814.374 1482.68 813.031 1480.36 M827.522 1471.31 Q827.522 1466.61 825.577 1463.95 Q823.656 1461.27 820.276 1461.27 Q816.897 1461.27 814.952 1463.95 Q813.031 1466.61 813.031 1471.31 Q813.031 1476.01 814.952 1478.7 Q816.897 1481.36 820.276 1481.36 Q823.656 1481.36 825.577 1478.7 Q827.522 1476.01 827.522 1471.31 Z\" fill=\"#000000\" fill-rule=\"evenodd\" fill-opacity=\"1\" /><path clip-path=\"url(#clip5400)\" d=\"M 0 0 M837.012 1478.37 L841.897 1478.37 L841.897 1484.25 L837.012 1484.25 L837.012 1478.37 Z\" fill=\"#000000\" fill-rule=\"evenodd\" fill-opacity=\"1\" /><path clip-path=\"url(#clip5400)\" d=\"M 0 0 M876.202 1465.62 Q879.559 1466.34 881.434 1468.6 Q883.332 1470.87 883.332 1474.21 Q883.332 1479.32 879.813 1482.12 Q876.295 1484.92 869.813 1484.92 Q867.637 1484.92 865.323 1484.48 Q863.031 1484.07 860.577 1483.21 L860.577 1478.7 Q862.522 1479.83 864.836 1480.41 Q867.151 1480.99 869.674 1480.99 Q874.072 1480.99 876.364 1479.25 Q878.679 1477.52 878.679 1474.21 Q878.679 1471.15 876.526 1469.44 Q874.397 1467.7 870.577 1467.7 L866.549 1467.7 L866.549 1463.86 L870.762 1463.86 Q874.211 1463.86 876.04 1462.49 Q877.869 1461.1 877.869 1458.51 Q877.869 1455.85 875.971 1454.44 Q874.096 1453 870.577 1453 Q868.656 1453 866.457 1453.42 Q864.258 1453.84 861.619 1454.71 L861.619 1450.55 Q864.281 1449.81 866.596 1449.44 Q868.934 1449.07 870.994 1449.07 Q876.318 1449.07 879.42 1451.5 Q882.522 1453.9 882.522 1458.03 Q882.522 1460.9 880.878 1462.89 Q879.234 1464.85 876.202 1465.62 Z\" fill=\"#000000\" fill-rule=\"evenodd\" fill-opacity=\"1\" /><path clip-path=\"url(#clip5400)\" d=\"M 0 0 M898.401 1452.77 Q894.79 1452.77 892.961 1456.34 Q891.156 1459.88 891.156 1467.01 Q891.156 1474.11 892.961 1477.68 Q894.79 1481.22 898.401 1481.22 Q902.035 1481.22 903.841 1477.68 Q905.67 1474.11 905.67 1467.01 Q905.67 1459.88 903.841 1456.34 Q902.035 1452.77 898.401 1452.77 M898.401 1449.07 Q904.211 1449.07 907.267 1453.67 Q910.345 1458.26 910.345 1467.01 Q910.345 1475.73 907.267 1480.34 Q904.211 1484.92 898.401 1484.92 Q892.591 1484.92 889.512 1480.34 Q886.457 1475.73 886.457 1467.01 Q886.457 1458.26 889.512 1453.67 Q892.591 1449.07 898.401 1449.07 Z\" fill=\"#000000\" fill-rule=\"evenodd\" fill-opacity=\"1\" /><path clip-path=\"url(#clip5400)\" d=\"M 0 0 M915.901 1478.37 L920.785 1478.37 L920.785 1482.35 L916.989 1489.76 L914.003 1489.76 L915.901 1482.35 L915.901 1478.37 Z\" fill=\"#000000\" fill-rule=\"evenodd\" fill-opacity=\"1\" /><path clip-path=\"url(#clip5400)\" d=\"M 0 0 M944.952 1480.32 L961.271 1480.32 L961.271 1484.25 L939.327 1484.25 L939.327 1480.32 Q941.989 1477.56 946.572 1472.93 Q951.179 1468.28 952.359 1466.94 Q954.604 1464.41 955.484 1462.68 Q956.387 1460.92 956.387 1459.23 Q956.387 1456.47 954.442 1454.74 Q952.521 1453 949.419 1453 Q947.22 1453 944.767 1453.77 Q942.336 1454.53 939.558 1456.08 L939.558 1451.36 Q942.382 1450.22 944.836 1449.65 Q947.29 1449.07 949.327 1449.07 Q954.697 1449.07 957.891 1451.75 Q961.086 1454.44 961.086 1458.93 Q961.086 1461.06 960.276 1462.98 Q959.489 1464.88 957.382 1467.47 Q956.804 1468.14 953.702 1471.36 Q950.6 1474.55 944.952 1480.32 Z\" fill=\"#000000\" fill-rule=\"evenodd\" fill-opacity=\"1\" /><path clip-path=\"url(#clip5400)\" d=\"M 0 0 M976.34 1452.77 Q972.729 1452.77 970.901 1456.34 Q969.095 1459.88 969.095 1467.01 Q969.095 1474.11 970.901 1477.68 Q972.729 1481.22 976.34 1481.22 Q979.975 1481.22 981.78 1477.68 Q983.609 1474.11 983.609 1467.01 Q983.609 1459.88 981.78 1456.34 Q979.975 1452.77 976.34 1452.77 M976.34 1449.07 Q982.151 1449.07 985.206 1453.67 Q988.285 1458.26 988.285 1467.01 Q988.285 1475.73 985.206 1480.34 Q982.151 1484.92 976.34 1484.92 Q970.53 1484.92 967.452 1480.34 Q964.396 1475.73 964.396 1467.01 Q964.396 1458.26 967.452 1453.67 Q970.53 1449.07 976.34 1449.07 Z\" fill=\"#000000\" fill-rule=\"evenodd\" fill-opacity=\"1\" /><path clip-path=\"url(#clip5400)\" d=\"M 0 0 M1015.39 1452.86 Q1010.3 1452.86 1007.29 1456.66 Q1004.3 1460.46 1004.3 1467.01 Q1004.3 1473.53 1007.29 1477.33 Q1010.3 1481.13 1015.39 1481.13 Q1020.48 1481.13 1023.45 1477.33 Q1026.43 1473.53 1026.43 1467.01 Q1026.43 1460.46 1023.45 1456.66 Q1020.48 1452.86 1015.39 1452.86 M1015.39 1449.07 Q1022.66 1449.07 1027.01 1453.95 Q1031.36 1458.81 1031.36 1467.01 Q1031.36 1475.18 1027.01 1480.06 Q1022.66 1484.92 1015.39 1484.92 Q1008.1 1484.92 1003.72 1480.06 Q999.373 1475.2 999.373 1467.01 Q999.373 1458.81 1003.72 1453.95 Q1008.1 1449.07 1015.39 1449.07 Z\" fill=\"#000000\" fill-rule=\"evenodd\" fill-opacity=\"1\" /><path clip-path=\"url(#clip5400)\" d=\"M 0 0 M1054.49 1459.32 L1054.49 1463.3 Q1052.68 1462.31 1050.85 1461.82 Q1049.05 1461.31 1047.2 1461.31 Q1043.05 1461.31 1040.76 1463.95 Q1038.47 1466.57 1038.47 1471.31 Q1038.47 1476.06 1040.76 1478.7 Q1043.05 1481.31 1047.2 1481.31 Q1049.05 1481.31 1050.85 1480.83 Q1052.68 1480.32 1054.49 1479.32 L1054.49 1483.26 Q1052.71 1484.09 1050.78 1484.51 Q1048.89 1484.92 1046.73 1484.92 Q1040.88 1484.92 1037.43 1481.24 Q1033.98 1477.56 1033.98 1471.31 Q1033.98 1464.97 1037.45 1461.34 Q1040.95 1457.7 1047.01 1457.7 Q1048.98 1457.7 1050.85 1458.12 Q1052.73 1458.51 1054.49 1459.32 Z\" fill=\"#000000\" fill-rule=\"evenodd\" fill-opacity=\"1\" /><path clip-path=\"url(#clip5400)\" d=\"M 0 0 M1063.17 1450.96 L1063.17 1458.33 L1071.94 1458.33 L1071.94 1461.64 L1063.17 1461.64 L1063.17 1475.71 Q1063.17 1478.88 1064.03 1479.78 Q1064.9 1480.69 1067.57 1480.69 L1071.94 1480.69 L1071.94 1484.25 L1067.57 1484.25 Q1062.64 1484.25 1060.76 1482.42 Q1058.89 1480.57 1058.89 1475.71 L1058.89 1461.64 L1055.76 1461.64 L1055.76 1458.33 L1058.89 1458.33 L1058.89 1450.96 L1063.17 1450.96 Z\" fill=\"#000000\" fill-rule=\"evenodd\" fill-opacity=\"1\" /><path clip-path=\"url(#clip5400)\" d=\"M 0 0 M1077.01 1478.37 L1081.9 1478.37 L1081.9 1484.25 L1077.01 1484.25 L1077.01 1478.37 Z\" fill=\"#000000\" fill-rule=\"evenodd\" fill-opacity=\"1\" /><path clip-path=\"url(#clip5400)\" d=\"M 0 0 M1112.03 1467.84 Q1108.7 1467.84 1106.78 1469.62 Q1104.88 1471.4 1104.88 1474.53 Q1104.88 1477.65 1106.78 1479.44 Q1108.7 1481.22 1112.03 1481.22 Q1115.37 1481.22 1117.29 1479.44 Q1119.21 1477.63 1119.21 1474.53 Q1119.21 1471.4 1117.29 1469.62 Q1115.39 1467.84 1112.03 1467.84 M1107.36 1465.85 Q1104.35 1465.11 1102.66 1463.05 Q1100.99 1460.99 1100.99 1458.03 Q1100.99 1453.88 1103.93 1451.47 Q1106.9 1449.07 1112.03 1449.07 Q1117.2 1449.07 1120.14 1451.47 Q1123.08 1453.88 1123.08 1458.03 Q1123.08 1460.99 1121.39 1463.05 Q1119.72 1465.11 1116.73 1465.85 Q1120.11 1466.64 1121.99 1468.93 Q1123.89 1471.22 1123.89 1474.53 Q1123.89 1479.55 1120.81 1482.24 Q1117.75 1484.92 1112.03 1484.92 Q1106.32 1484.92 1103.24 1482.24 Q1100.18 1479.55 1100.18 1474.53 Q1100.18 1471.22 1102.08 1468.93 Q1103.98 1466.64 1107.36 1465.85 M1105.65 1458.46 Q1105.65 1461.15 1107.31 1462.65 Q1109 1464.16 1112.03 1464.16 Q1115.04 1464.16 1116.73 1462.65 Q1118.45 1461.15 1118.45 1458.46 Q1118.45 1455.78 1116.73 1454.28 Q1115.04 1452.77 1112.03 1452.77 Q1109 1452.77 1107.31 1454.28 Q1105.65 1455.78 1105.65 1458.46 Z\" fill=\"#000000\" fill-rule=\"evenodd\" fill-opacity=\"1\" /><path clip-path=\"url(#clip5400)\" d=\"M 0 0 M1129.44 1478.37 L1134.33 1478.37 L1134.33 1482.35 L1130.53 1489.76 L1127.54 1489.76 L1129.44 1482.35 L1129.44 1478.37 Z\" fill=\"#000000\" fill-rule=\"evenodd\" fill-opacity=\"1\" /><path clip-path=\"url(#clip5400)\" d=\"M 0 0 M1158.49 1480.32 L1174.81 1480.32 L1174.81 1484.25 L1152.87 1484.25 L1152.87 1480.32 Q1155.53 1477.56 1160.11 1472.93 Q1164.72 1468.28 1165.9 1466.94 Q1168.14 1464.41 1169.02 1462.68 Q1169.93 1460.92 1169.93 1459.23 Q1169.93 1456.47 1167.98 1454.74 Q1166.06 1453 1162.96 1453 Q1160.76 1453 1158.31 1453.77 Q1155.88 1454.53 1153.1 1456.08 L1153.1 1451.36 Q1155.92 1450.22 1158.38 1449.65 Q1160.83 1449.07 1162.87 1449.07 Q1168.24 1449.07 1171.43 1451.75 Q1174.63 1454.44 1174.63 1458.93 Q1174.63 1461.06 1173.82 1462.98 Q1173.03 1464.88 1170.92 1467.47 Q1170.34 1468.14 1167.24 1471.36 Q1164.14 1474.55 1158.49 1480.32 Z\" fill=\"#000000\" fill-rule=\"evenodd\" fill-opacity=\"1\" /><path clip-path=\"url(#clip5400)\" d=\"M 0 0 M1189.88 1452.77 Q1186.27 1452.77 1184.44 1456.34 Q1182.64 1459.88 1182.64 1467.01 Q1182.64 1474.11 1184.44 1477.68 Q1186.27 1481.22 1189.88 1481.22 Q1193.52 1481.22 1195.32 1477.68 Q1197.15 1474.11 1197.15 1467.01 Q1197.15 1459.88 1195.32 1456.34 Q1193.52 1452.77 1189.88 1452.77 M1189.88 1449.07 Q1195.69 1449.07 1198.75 1453.67 Q1201.83 1458.26 1201.83 1467.01 Q1201.83 1475.73 1198.75 1480.34 Q1195.69 1484.92 1189.88 1484.92 Q1184.07 1484.92 1180.99 1480.34 Q1177.94 1475.73 1177.94 1467.01 Q1177.94 1458.26 1180.99 1453.67 Q1184.07 1449.07 1189.88 1449.07 Z\" fill=\"#000000\" fill-rule=\"evenodd\" fill-opacity=\"1\" /><path clip-path=\"url(#clip5400)\" d=\"M 0 0 M1261.34 1452.86 Q1256.25 1452.86 1253.24 1456.66 Q1250.25 1460.46 1250.25 1467.01 Q1250.25 1473.53 1253.24 1477.33 Q1256.25 1481.13 1261.34 1481.13 Q1266.43 1481.13 1269.39 1477.33 Q1272.38 1473.53 1272.38 1467.01 Q1272.38 1460.46 1269.39 1456.66 Q1266.43 1452.86 1261.34 1452.86 M1261.34 1449.07 Q1268.61 1449.07 1272.96 1453.95 Q1277.31 1458.81 1277.31 1467.01 Q1277.31 1475.18 1272.96 1480.06 Q1268.61 1484.92 1261.34 1484.92 Q1254.05 1484.92 1249.67 1480.06 Q1245.32 1475.2 1245.32 1467.01 Q1245.32 1458.81 1249.67 1453.95 Q1254.05 1449.07 1261.34 1449.07 Z\" fill=\"#000000\" fill-rule=\"evenodd\" fill-opacity=\"1\" /><path clip-path=\"url(#clip5400)\" d=\"M 0 0 M1300.44 1459.32 L1300.44 1463.3 Q1298.63 1462.31 1296.8 1461.82 Q1295 1461.31 1293.14 1461.31 Q1289 1461.31 1286.71 1463.95 Q1284.42 1466.57 1284.42 1471.31 Q1284.42 1476.06 1286.71 1478.7 Q1289 1481.31 1293.14 1481.31 Q1295 1481.31 1296.8 1480.83 Q1298.63 1480.32 1300.44 1479.32 L1300.44 1483.26 Q1298.65 1484.09 1296.73 1484.51 Q1294.83 1484.92 1292.68 1484.92 Q1286.82 1484.92 1283.38 1481.24 Q1279.93 1477.56 1279.93 1471.31 Q1279.93 1464.97 1283.4 1461.34 Q1286.89 1457.7 1292.96 1457.7 Q1294.93 1457.7 1296.8 1458.12 Q1298.68 1458.51 1300.44 1459.32 Z\" fill=\"#000000\" fill-rule=\"evenodd\" fill-opacity=\"1\" /><path clip-path=\"url(#clip5400)\" d=\"M 0 0 M1309.12 1450.96 L1309.12 1458.33 L1317.89 1458.33 L1317.89 1461.64 L1309.12 1461.64 L1309.12 1475.71 Q1309.12 1478.88 1309.97 1479.78 Q1310.85 1480.69 1313.51 1480.69 L1317.89 1480.69 L1317.89 1484.25 L1313.51 1484.25 Q1308.58 1484.25 1306.71 1482.42 Q1304.83 1480.57 1304.83 1475.71 L1304.83 1461.64 L1301.71 1461.64 L1301.71 1458.33 L1304.83 1458.33 L1304.83 1450.96 L1309.12 1450.96 Z\" fill=\"#000000\" fill-rule=\"evenodd\" fill-opacity=\"1\" /><path clip-path=\"url(#clip5400)\" d=\"M 0 0 M1322.96 1478.37 L1327.84 1478.37 L1327.84 1484.25 L1322.96 1484.25 L1322.96 1478.37 Z\" fill=\"#000000\" fill-rule=\"evenodd\" fill-opacity=\"1\" /><path clip-path=\"url(#clip5400)\" d=\"M 0 0 M1348.79 1480.32 L1356.43 1480.32 L1356.43 1453.95 L1348.12 1455.62 L1348.12 1451.36 L1356.38 1449.69 L1361.06 1449.69 L1361.06 1480.32 L1368.7 1480.32 L1368.7 1484.25 L1348.79 1484.25 L1348.79 1480.32 Z\" fill=\"#000000\" fill-rule=\"evenodd\" fill-opacity=\"1\" /><path clip-path=\"url(#clip5400)\" d=\"M 0 0 M1372.59 1449.69 L1394.81 1449.69 L1394.81 1451.68 L1382.26 1484.25 L1377.38 1484.25 L1389.19 1453.63 L1372.59 1453.63 L1372.59 1449.69 Z\" fill=\"#000000\" fill-rule=\"evenodd\" fill-opacity=\"1\" /><path clip-path=\"url(#clip5400)\" d=\"M 0 0 M1400.37 1478.37 L1405.25 1478.37 L1405.25 1482.35 L1401.45 1489.76 L1398.47 1489.76 L1400.37 1482.35 L1400.37 1478.37 Z\" fill=\"#000000\" fill-rule=\"evenodd\" fill-opacity=\"1\" /><path clip-path=\"url(#clip5400)\" d=\"M 0 0 M1429.42 1480.32 L1445.74 1480.32 L1445.74 1484.25 L1423.79 1484.25 L1423.79 1480.32 Q1426.45 1477.56 1431.04 1472.93 Q1435.64 1468.28 1436.82 1466.94 Q1439.07 1464.41 1439.95 1462.68 Q1440.85 1460.92 1440.85 1459.23 Q1440.85 1456.47 1438.91 1454.74 Q1436.99 1453 1433.88 1453 Q1431.69 1453 1429.23 1453.77 Q1426.8 1454.53 1424.02 1456.08 L1424.02 1451.36 Q1426.85 1450.22 1429.3 1449.65 Q1431.75 1449.07 1433.79 1449.07 Q1439.16 1449.07 1442.36 1451.75 Q1445.55 1454.44 1445.55 1458.93 Q1445.55 1461.06 1444.74 1462.98 Q1443.95 1464.88 1441.85 1467.47 Q1441.27 1468.14 1438.17 1471.36 Q1435.06 1474.55 1429.42 1480.32 Z\" fill=\"#000000\" fill-rule=\"evenodd\" fill-opacity=\"1\" /><path clip-path=\"url(#clip5400)\" d=\"M 0 0 M1460.81 1452.77 Q1457.19 1452.77 1455.37 1456.34 Q1453.56 1459.88 1453.56 1467.01 Q1453.56 1474.11 1455.37 1477.68 Q1457.19 1481.22 1460.81 1481.22 Q1464.44 1481.22 1466.25 1477.68 Q1468.07 1474.11 1468.07 1467.01 Q1468.07 1459.88 1466.25 1456.34 Q1464.44 1452.77 1460.81 1452.77 M1460.81 1449.07 Q1466.62 1449.07 1469.67 1453.67 Q1472.75 1458.26 1472.75 1467.01 Q1472.75 1475.73 1469.67 1480.34 Q1466.62 1484.92 1460.81 1484.92 Q1455 1484.92 1451.92 1480.34 Q1448.86 1475.73 1448.86 1467.01 Q1448.86 1458.26 1451.92 1453.67 Q1455 1449.07 1460.81 1449.07 Z\" fill=\"#000000\" fill-rule=\"evenodd\" fill-opacity=\"1\" /><path clip-path=\"url(#clip5400)\" d=\"M 0 0 M1491.29 1452.86 Q1486.2 1452.86 1483.19 1456.66 Q1480.2 1460.46 1480.2 1467.01 Q1480.2 1473.53 1483.19 1477.33 Q1486.2 1481.13 1491.29 1481.13 Q1496.38 1481.13 1499.35 1477.33 Q1502.33 1473.53 1502.33 1467.01 Q1502.33 1460.46 1499.35 1456.66 Q1496.38 1452.86 1491.29 1452.86 M1491.29 1449.07 Q1498.56 1449.07 1502.91 1453.95 Q1507.26 1458.81 1507.26 1467.01 Q1507.26 1475.18 1502.91 1480.06 Q1498.56 1484.92 1491.29 1484.92 Q1484 1484.92 1479.62 1480.06 Q1475.27 1475.2 1475.27 1467.01 Q1475.27 1458.81 1479.62 1453.95 Q1484 1449.07 1491.29 1449.07 Z\" fill=\"#000000\" fill-rule=\"evenodd\" fill-opacity=\"1\" /><path clip-path=\"url(#clip5400)\" d=\"M 0 0 M1530.39 1459.32 L1530.39 1463.3 Q1528.58 1462.31 1526.75 1461.82 Q1524.95 1461.31 1523.1 1461.31 Q1518.95 1461.31 1516.66 1463.95 Q1514.37 1466.57 1514.37 1471.31 Q1514.37 1476.06 1516.66 1478.7 Q1518.95 1481.31 1523.1 1481.31 Q1524.95 1481.31 1526.75 1480.83 Q1528.58 1480.32 1530.39 1479.32 L1530.39 1483.26 Q1528.61 1484.09 1526.68 1484.51 Q1524.79 1484.92 1522.63 1484.92 Q1516.78 1484.92 1513.33 1481.24 Q1509.88 1477.56 1509.88 1471.31 Q1509.88 1464.97 1513.35 1461.34 Q1516.85 1457.7 1522.91 1457.7 Q1524.88 1457.7 1526.75 1458.12 Q1528.63 1458.51 1530.39 1459.32 Z\" fill=\"#000000\" fill-rule=\"evenodd\" fill-opacity=\"1\" /><path clip-path=\"url(#clip5400)\" d=\"M 0 0 M1539.07 1450.96 L1539.07 1458.33 L1547.84 1458.33 L1547.84 1461.64 L1539.07 1461.64 L1539.07 1475.71 Q1539.07 1478.88 1539.93 1479.78 Q1540.8 1480.69 1543.47 1480.69 L1547.84 1480.69 L1547.84 1484.25 L1543.47 1484.25 Q1538.54 1484.25 1536.66 1482.42 Q1534.79 1480.57 1534.79 1475.71 L1534.79 1461.64 L1531.66 1461.64 L1531.66 1458.33 L1534.79 1458.33 L1534.79 1450.96 L1539.07 1450.96 Z\" fill=\"#000000\" fill-rule=\"evenodd\" fill-opacity=\"1\" /><path clip-path=\"url(#clip5400)\" d=\"M 0 0 M1552.91 1478.37 L1557.8 1478.37 L1557.8 1484.25 L1552.91 1484.25 L1552.91 1478.37 Z\" fill=\"#000000\" fill-rule=\"evenodd\" fill-opacity=\"1\" /><path clip-path=\"url(#clip5400)\" d=\"M 0 0 M1581.96 1480.32 L1598.28 1480.32 L1598.28 1484.25 L1576.34 1484.25 L1576.34 1480.32 Q1579 1477.56 1583.58 1472.93 Q1588.19 1468.28 1589.37 1466.94 Q1591.61 1464.41 1592.49 1462.68 Q1593.4 1460.92 1593.4 1459.23 Q1593.4 1456.47 1591.45 1454.74 Q1589.53 1453 1586.43 1453 Q1584.23 1453 1581.78 1453.77 Q1579.35 1454.53 1576.57 1456.08 L1576.57 1451.36 Q1579.39 1450.22 1581.85 1449.65 Q1584.3 1449.07 1586.34 1449.07 Q1591.71 1449.07 1594.9 1451.75 Q1598.1 1454.44 1598.1 1458.93 Q1598.1 1461.06 1597.29 1462.98 Q1596.5 1464.88 1594.39 1467.47 Q1593.81 1468.14 1590.71 1471.36 Q1587.61 1474.55 1581.96 1480.32 Z\" fill=\"#000000\" fill-rule=\"evenodd\" fill-opacity=\"1\" /><path clip-path=\"url(#clip5400)\" d=\"M 0 0 M1603.4 1449.69 L1621.75 1449.69 L1621.75 1453.63 L1607.68 1453.63 L1607.68 1462.1 Q1608.7 1461.75 1609.72 1461.59 Q1610.73 1461.4 1611.75 1461.4 Q1617.54 1461.4 1620.92 1464.58 Q1624.3 1467.75 1624.3 1473.16 Q1624.3 1478.74 1620.83 1481.84 Q1617.36 1484.92 1611.04 1484.92 Q1608.86 1484.92 1606.59 1484.55 Q1604.35 1484.18 1601.94 1483.44 L1601.94 1478.74 Q1604.02 1479.88 1606.24 1480.43 Q1608.47 1480.99 1610.94 1480.99 Q1614.95 1480.99 1617.29 1478.88 Q1619.62 1476.78 1619.62 1473.16 Q1619.62 1469.55 1617.29 1467.45 Q1614.95 1465.34 1610.94 1465.34 Q1609.07 1465.34 1607.19 1465.76 Q1605.34 1466.17 1603.4 1467.05 L1603.4 1449.69 Z\" fill=\"#000000\" fill-rule=\"evenodd\" fill-opacity=\"1\" /><path clip-path=\"url(#clip5400)\" d=\"M 0 0 M1629.86 1478.37 L1634.74 1478.37 L1634.74 1482.35 L1630.94 1489.76 L1627.96 1489.76 L1629.86 1482.35 L1629.86 1478.37 Z\" fill=\"#000000\" fill-rule=\"evenodd\" fill-opacity=\"1\" /><path clip-path=\"url(#clip5400)\" d=\"M 0 0 M1658.91 1480.32 L1675.23 1480.32 L1675.23 1484.25 L1653.28 1484.25 L1653.28 1480.32 Q1655.94 1477.56 1660.53 1472.93 Q1665.13 1468.28 1666.31 1466.94 Q1668.56 1464.41 1669.44 1462.68 Q1670.34 1460.92 1670.34 1459.23 Q1670.34 1456.47 1668.4 1454.74 Q1666.48 1453 1663.37 1453 Q1661.17 1453 1658.72 1453.77 Q1656.29 1454.53 1653.51 1456.08 L1653.51 1451.36 Q1656.34 1450.22 1658.79 1449.65 Q1661.24 1449.07 1663.28 1449.07 Q1668.65 1449.07 1671.85 1451.75 Q1675.04 1454.44 1675.04 1458.93 Q1675.04 1461.06 1674.23 1462.98 Q1673.44 1464.88 1671.34 1467.47 Q1670.76 1468.14 1667.66 1471.36 Q1664.55 1474.55 1658.91 1480.32 Z\" fill=\"#000000\" fill-rule=\"evenodd\" fill-opacity=\"1\" /><path clip-path=\"url(#clip5400)\" d=\"M 0 0 M1690.29 1452.77 Q1686.68 1452.77 1684.85 1456.34 Q1683.05 1459.88 1683.05 1467.01 Q1683.05 1474.11 1684.85 1477.68 Q1686.68 1481.22 1690.29 1481.22 Q1693.93 1481.22 1695.73 1477.68 Q1697.56 1474.11 1697.56 1467.01 Q1697.56 1459.88 1695.73 1456.34 Q1693.93 1452.77 1690.29 1452.77 M1690.29 1449.07 Q1696.1 1449.07 1699.16 1453.67 Q1702.24 1458.26 1702.24 1467.01 Q1702.24 1475.73 1699.16 1480.34 Q1696.1 1484.92 1690.29 1484.92 Q1684.48 1484.92 1681.41 1480.34 Q1678.35 1475.73 1678.35 1467.01 Q1678.35 1458.26 1681.41 1453.67 Q1684.48 1449.07 1690.29 1449.07 Z\" fill=\"#000000\" fill-rule=\"evenodd\" fill-opacity=\"1\" /><path clip-path=\"url(#clip5400)\" d=\"M 0 0 M1744.76 1449.69 L1751.06 1449.69 L1766.38 1478.6 L1766.38 1449.69 L1770.92 1449.69 L1770.92 1484.25 L1764.62 1484.25 L1749.3 1455.34 L1749.3 1484.25 L1744.76 1484.25 L1744.76 1449.69 Z\" fill=\"#000000\" fill-rule=\"evenodd\" fill-opacity=\"1\" /><path clip-path=\"url(#clip5400)\" d=\"M 0 0 M1785.43 1461.31 Q1782.01 1461.31 1780.02 1464 Q1778.03 1466.66 1778.03 1471.31 Q1778.03 1475.96 1779.99 1478.65 Q1781.98 1481.31 1785.43 1481.31 Q1788.84 1481.31 1790.83 1478.63 Q1792.82 1475.94 1792.82 1471.31 Q1792.82 1466.71 1790.83 1464.02 Q1788.84 1461.31 1785.43 1461.31 M1785.43 1457.7 Q1790.99 1457.7 1794.16 1461.31 Q1797.33 1464.92 1797.33 1471.31 Q1797.33 1477.68 1794.16 1481.31 Q1790.99 1484.92 1785.43 1484.92 Q1779.85 1484.92 1776.68 1481.31 Q1773.53 1477.68 1773.53 1471.31 Q1773.53 1464.92 1776.68 1461.31 Q1779.85 1457.7 1785.43 1457.7 Z\" fill=\"#000000\" fill-rule=\"evenodd\" fill-opacity=\"1\" /><path clip-path=\"url(#clip5400)\" d=\"M 0 0 M1798.74 1458.33 L1803.26 1458.33 L1811.36 1480.09 L1819.46 1458.33 L1823.97 1458.33 L1814.25 1484.25 L1808.47 1484.25 L1798.74 1458.33 Z\" fill=\"#000000\" fill-rule=\"evenodd\" fill-opacity=\"1\" /><path clip-path=\"url(#clip5400)\" d=\"M 0 0 M1825.36 1478.37 L1830.25 1478.37 L1830.25 1484.25 L1825.36 1484.25 L1825.36 1478.37 Z\" fill=\"#000000\" fill-rule=\"evenodd\" fill-opacity=\"1\" /><path clip-path=\"url(#clip5400)\" d=\"M 0 0 M1864.55 1465.62 Q1867.91 1466.34 1869.78 1468.6 Q1871.68 1470.87 1871.68 1474.21 Q1871.68 1479.32 1868.16 1482.12 Q1864.65 1484.92 1858.16 1484.92 Q1855.99 1484.92 1853.67 1484.48 Q1851.38 1484.07 1848.93 1483.21 L1848.93 1478.7 Q1850.87 1479.83 1853.19 1480.41 Q1855.5 1480.99 1858.03 1480.99 Q1862.42 1480.99 1864.71 1479.25 Q1867.03 1477.52 1867.03 1474.21 Q1867.03 1471.15 1864.88 1469.44 Q1862.75 1467.7 1858.93 1467.7 L1854.9 1467.7 L1854.9 1463.86 L1859.11 1463.86 Q1862.56 1463.86 1864.39 1462.49 Q1866.22 1461.1 1866.22 1458.51 Q1866.22 1455.85 1864.32 1454.44 Q1862.45 1453 1858.93 1453 Q1857.01 1453 1854.81 1453.42 Q1852.61 1453.84 1849.97 1454.71 L1849.97 1450.55 Q1852.63 1449.81 1854.95 1449.44 Q1857.28 1449.07 1859.34 1449.07 Q1864.67 1449.07 1867.77 1451.5 Q1870.87 1453.9 1870.87 1458.03 Q1870.87 1460.9 1869.23 1462.89 Q1867.59 1464.85 1864.55 1465.62 Z\" fill=\"#000000\" fill-rule=\"evenodd\" fill-opacity=\"1\" /><path clip-path=\"url(#clip5400)\" d=\"M 0 0 M1877.24 1478.37 L1882.12 1478.37 L1882.12 1482.35 L1878.33 1489.76 L1875.34 1489.76 L1877.24 1482.35 L1877.24 1478.37 Z\" fill=\"#000000\" fill-rule=\"evenodd\" fill-opacity=\"1\" /><path clip-path=\"url(#clip5400)\" d=\"M 0 0 M1906.29 1480.32 L1922.61 1480.32 L1922.61 1484.25 L1900.66 1484.25 L1900.66 1480.32 Q1903.33 1477.56 1907.91 1472.93 Q1912.52 1468.28 1913.7 1466.94 Q1915.94 1464.41 1916.82 1462.68 Q1917.72 1460.92 1917.72 1459.23 Q1917.72 1456.47 1915.78 1454.74 Q1913.86 1453 1910.76 1453 Q1908.56 1453 1906.1 1453.77 Q1903.67 1454.53 1900.9 1456.08 L1900.9 1451.36 Q1903.72 1450.22 1906.17 1449.65 Q1908.63 1449.07 1910.66 1449.07 Q1916.03 1449.07 1919.23 1451.75 Q1922.42 1454.44 1922.42 1458.93 Q1922.42 1461.06 1921.61 1462.98 Q1920.83 1464.88 1918.72 1467.47 Q1918.14 1468.14 1915.04 1471.36 Q1911.94 1474.55 1906.29 1480.32 Z\" fill=\"#000000\" fill-rule=\"evenodd\" fill-opacity=\"1\" /><path clip-path=\"url(#clip5400)\" d=\"M 0 0 M1937.68 1452.77 Q1934.07 1452.77 1932.24 1456.34 Q1930.43 1459.88 1930.43 1467.01 Q1930.43 1474.11 1932.24 1477.68 Q1934.07 1481.22 1937.68 1481.22 Q1941.31 1481.22 1943.12 1477.68 Q1944.95 1474.11 1944.95 1467.01 Q1944.95 1459.88 1943.12 1456.34 Q1941.31 1452.77 1937.68 1452.77 M1937.68 1449.07 Q1943.49 1449.07 1946.54 1453.67 Q1949.62 1458.26 1949.62 1467.01 Q1949.62 1475.73 1946.54 1480.34 Q1943.49 1484.92 1937.68 1484.92 Q1931.87 1484.92 1928.79 1480.34 Q1925.73 1475.73 1925.73 1467.01 Q1925.73 1458.26 1928.79 1453.67 Q1931.87 1449.07 1937.68 1449.07 Z\" fill=\"#000000\" fill-rule=\"evenodd\" fill-opacity=\"1\" /><path clip-path=\"url(#clip5400)\" d=\"M 0 0 M1961.88 1449.69 L1968.17 1449.69 L1983.5 1478.6 L1983.5 1449.69 L1988.04 1449.69 L1988.04 1484.25 L1981.74 1484.25 L1966.42 1455.34 L1966.42 1484.25 L1961.88 1484.25 L1961.88 1449.69 Z\" fill=\"#000000\" fill-rule=\"evenodd\" fill-opacity=\"1\" /><path clip-path=\"url(#clip5400)\" d=\"M 0 0 M2002.55 1461.31 Q1999.12 1461.31 1997.13 1464 Q1995.14 1466.66 1995.14 1471.31 Q1995.14 1475.96 1997.11 1478.65 Q1999.1 1481.31 2002.55 1481.31 Q2005.95 1481.31 2007.94 1478.63 Q2009.93 1475.94 2009.93 1471.31 Q2009.93 1466.71 2007.94 1464.02 Q2005.95 1461.31 2002.55 1461.31 M2002.55 1457.7 Q2008.11 1457.7 2011.28 1461.31 Q2014.45 1464.92 2014.45 1471.31 Q2014.45 1477.68 2011.28 1481.31 Q2008.11 1484.92 2002.55 1484.92 Q1996.97 1484.92 1993.8 1481.31 Q1990.65 1477.68 1990.65 1471.31 Q1990.65 1464.92 1993.8 1461.31 Q1996.97 1457.7 2002.55 1457.7 Z\" fill=\"#000000\" fill-rule=\"evenodd\" fill-opacity=\"1\" /><path clip-path=\"url(#clip5400)\" d=\"M 0 0 M2015.86 1458.33 L2020.37 1458.33 L2028.48 1480.09 L2036.58 1458.33 L2041.09 1458.33 L2031.37 1484.25 L2025.58 1484.25 L2015.86 1458.33 Z\" fill=\"#000000\" fill-rule=\"evenodd\" fill-opacity=\"1\" /><path clip-path=\"url(#clip5400)\" d=\"M 0 0 M2042.48 1478.37 L2047.36 1478.37 L2047.36 1484.25 L2042.48 1484.25 L2042.48 1478.37 Z\" fill=\"#000000\" fill-rule=\"evenodd\" fill-opacity=\"1\" /><path clip-path=\"url(#clip5400)\" d=\"M 0 0 M2068.31 1480.32 L2075.95 1480.32 L2075.95 1453.95 L2067.64 1455.62 L2067.64 1451.36 L2075.91 1449.69 L2080.58 1449.69 L2080.58 1480.32 L2088.22 1480.32 L2088.22 1484.25 L2068.31 1484.25 L2068.31 1480.32 Z\" fill=\"#000000\" fill-rule=\"evenodd\" fill-opacity=\"1\" /><path clip-path=\"url(#clip5400)\" d=\"M 0 0 M2094.1 1480.32 L2101.74 1480.32 L2101.74 1453.95 L2093.43 1455.62 L2093.43 1451.36 L2101.69 1449.69 L2106.37 1449.69 L2106.37 1480.32 L2114.01 1480.32 L2114.01 1484.25 L2094.1 1484.25 L2094.1 1480.32 Z\" fill=\"#000000\" fill-rule=\"evenodd\" fill-opacity=\"1\" /><path clip-path=\"url(#clip5400)\" d=\"M 0 0 M2119.56 1478.37 L2124.45 1478.37 L2124.45 1482.35 L2120.65 1489.76 L2117.66 1489.76 L2119.56 1482.35 L2119.56 1478.37 Z\" fill=\"#000000\" fill-rule=\"evenodd\" fill-opacity=\"1\" /><path clip-path=\"url(#clip5400)\" d=\"M 0 0 M2148.61 1480.32 L2164.93 1480.32 L2164.93 1484.25 L2142.99 1484.25 L2142.99 1480.32 Q2145.65 1477.56 2150.23 1472.93 Q2154.84 1468.28 2156.02 1466.94 Q2158.27 1464.41 2159.15 1462.68 Q2160.05 1460.92 2160.05 1459.23 Q2160.05 1456.47 2158.1 1454.74 Q2156.18 1453 2153.08 1453 Q2150.88 1453 2148.43 1453.77 Q2146 1454.53 2143.22 1456.08 L2143.22 1451.36 Q2146.04 1450.22 2148.5 1449.65 Q2150.95 1449.07 2152.99 1449.07 Q2158.36 1449.07 2161.55 1451.75 Q2164.75 1454.44 2164.75 1458.93 Q2164.75 1461.06 2163.94 1462.98 Q2163.15 1464.88 2161.04 1467.47 Q2160.47 1468.14 2157.36 1471.36 Q2154.26 1474.55 2148.61 1480.32 Z\" fill=\"#000000\" fill-rule=\"evenodd\" fill-opacity=\"1\" /><path clip-path=\"url(#clip5400)\" d=\"M 0 0 M2180 1452.77 Q2176.39 1452.77 2174.56 1456.34 Q2172.76 1459.88 2172.76 1467.01 Q2172.76 1474.11 2174.56 1477.68 Q2176.39 1481.22 2180 1481.22 Q2183.64 1481.22 2185.44 1477.68 Q2187.27 1474.11 2187.27 1467.01 Q2187.27 1459.88 2185.44 1456.34 Q2183.64 1452.77 2180 1452.77 M2180 1449.07 Q2185.81 1449.07 2188.87 1453.67 Q2191.95 1458.26 2191.95 1467.01 Q2191.95 1475.73 2188.87 1480.34 Q2185.81 1484.92 2180 1484.92 Q2174.19 1484.92 2171.11 1480.34 Q2168.06 1475.73 2168.06 1467.01 Q2168.06 1458.26 2171.11 1453.67 Q2174.19 1449.07 2180 1449.07 Z\" fill=\"#000000\" fill-rule=\"evenodd\" fill-opacity=\"1\" /><path clip-path=\"url(#clip5400)\" d=\"M 0 0 M2191.08 1449.69 L2197.37 1449.69 L2212.7 1478.6 L2212.7 1449.69 L2217.24 1449.69 L2217.24 1484.25 L2210.94 1484.25 L2195.62 1455.34 L2195.62 1484.25 L2191.08 1484.25 L2191.08 1449.69 Z\" fill=\"#000000\" fill-rule=\"evenodd\" fill-opacity=\"1\" /><path clip-path=\"url(#clip5400)\" d=\"M 0 0 M2231.75 1461.31 Q2228.32 1461.31 2226.33 1464 Q2224.34 1466.66 2224.34 1471.31 Q2224.34 1475.96 2226.31 1478.65 Q2228.3 1481.31 2231.75 1481.31 Q2235.15 1481.31 2237.14 1478.63 Q2239.13 1475.94 2239.13 1471.31 Q2239.13 1466.71 2237.14 1464.02 Q2235.15 1461.31 2231.75 1461.31 M2231.75 1457.7 Q2237.31 1457.7 2240.48 1461.31 Q2243.65 1464.92 2243.65 1471.31 Q2243.65 1477.68 2240.48 1481.31 Q2237.31 1484.92 2231.75 1484.92 Q2226.17 1484.92 2223 1481.31 Q2219.85 1477.68 2219.85 1471.31 Q2219.85 1464.92 2223 1461.31 Q2226.17 1457.7 2231.75 1457.7 Z\" fill=\"#000000\" fill-rule=\"evenodd\" fill-opacity=\"1\" /><path clip-path=\"url(#clip5400)\" d=\"M 0 0 M2245.06 1458.33 L2249.57 1458.33 L2257.68 1480.09 L2265.78 1458.33 L2270.29 1458.33 L2260.57 1484.25 L2254.78 1484.25 L2245.06 1458.33 Z\" fill=\"#000000\" fill-rule=\"evenodd\" fill-opacity=\"1\" /><path clip-path=\"url(#clip5400)\" d=\"M 0 0 M2271.68 1478.37 L2276.56 1478.37 L2276.56 1484.25 L2271.68 1484.25 L2271.68 1478.37 Z\" fill=\"#000000\" fill-rule=\"evenodd\" fill-opacity=\"1\" /><path clip-path=\"url(#clip5400)\" d=\"M 0 0 M2297.51 1480.32 L2305.15 1480.32 L2305.15 1453.95 L2296.84 1455.62 L2296.84 1451.36 L2305.11 1449.69 L2309.78 1449.69 L2309.78 1480.32 L2317.42 1480.32 L2317.42 1484.25 L2297.51 1484.25 L2297.51 1480.32 Z\" fill=\"#000000\" fill-rule=\"evenodd\" fill-opacity=\"1\" /><path clip-path=\"url(#clip5400)\" d=\"M 0 0 M2322.63 1483.53 L2322.63 1479.28 Q2324.39 1480.11 2326.19 1480.55 Q2328 1480.99 2329.74 1480.99 Q2334.37 1480.99 2336.8 1477.89 Q2339.25 1474.76 2339.6 1468.42 Q2338.25 1470.41 2336.19 1471.47 Q2334.13 1472.54 2331.63 1472.54 Q2326.45 1472.54 2323.42 1469.41 Q2320.41 1466.27 2320.41 1460.83 Q2320.41 1455.5 2323.55 1452.28 Q2326.7 1449.07 2331.93 1449.07 Q2337.93 1449.07 2341.08 1453.67 Q2344.25 1458.26 2344.25 1467.01 Q2344.25 1475.18 2340.36 1480.06 Q2336.49 1484.92 2329.94 1484.92 Q2328.18 1484.92 2326.38 1484.58 Q2324.57 1484.23 2322.63 1483.53 M2331.93 1468.88 Q2335.08 1468.88 2336.91 1466.73 Q2338.76 1464.58 2338.76 1460.83 Q2338.76 1457.1 2336.91 1454.95 Q2335.08 1452.77 2331.93 1452.77 Q2328.79 1452.77 2326.93 1454.95 Q2325.11 1457.1 2325.11 1460.83 Q2325.11 1464.58 2326.93 1466.73 Q2328.79 1468.88 2331.93 1468.88 Z\" fill=\"#000000\" fill-rule=\"evenodd\" fill-opacity=\"1\" /><path clip-path=\"url(#clip5400)\" d=\"M 0 0 M2349.8 1478.37 L2354.69 1478.37 L2354.69 1482.35 L2350.89 1489.76 L2347.91 1489.76 L2349.8 1482.35 L2349.8 1478.37 Z\" fill=\"#000000\" fill-rule=\"evenodd\" fill-opacity=\"1\" /><path clip-path=\"url(#clip5400)\" d=\"M 0 0 M2378.86 1480.32 L2395.17 1480.32 L2395.17 1484.25 L2373.23 1484.25 L2373.23 1480.32 Q2375.89 1477.56 2380.48 1472.93 Q2385.08 1468.28 2386.26 1466.94 Q2388.51 1464.41 2389.39 1462.68 Q2390.29 1460.92 2390.29 1459.23 Q2390.29 1456.47 2388.35 1454.74 Q2386.42 1453 2383.32 1453 Q2381.12 1453 2378.67 1453.77 Q2376.24 1454.53 2373.46 1456.08 L2373.46 1451.36 Q2376.29 1450.22 2378.74 1449.65 Q2381.19 1449.07 2383.23 1449.07 Q2388.6 1449.07 2391.8 1451.75 Q2394.99 1454.44 2394.99 1458.93 Q2394.99 1461.06 2394.18 1462.98 Q2393.39 1464.88 2391.29 1467.47 Q2390.71 1468.14 2387.61 1471.36 Q2384.5 1474.55 2378.86 1480.32 Z\" fill=\"#000000\" fill-rule=\"evenodd\" fill-opacity=\"1\" /><path clip-path=\"url(#clip5400)\" d=\"M 0 0 M2410.24 1452.77 Q2406.63 1452.77 2404.8 1456.34 Q2403 1459.88 2403 1467.01 Q2403 1474.11 2404.8 1477.68 Q2406.63 1481.22 2410.24 1481.22 Q2413.88 1481.22 2415.68 1477.68 Q2417.51 1474.11 2417.51 1467.01 Q2417.51 1459.88 2415.68 1456.34 Q2413.88 1452.77 2410.24 1452.77 M2410.24 1449.07 Q2416.05 1449.07 2419.11 1453.67 Q2422.19 1458.26 2422.19 1467.01 Q2422.19 1475.73 2419.11 1480.34 Q2416.05 1484.92 2410.24 1484.92 Q2404.43 1484.92 2401.36 1480.34 Q2398.3 1475.73 2398.3 1467.01 Q2398.3 1458.26 2401.36 1453.67 Q2404.43 1449.07 2410.24 1449.07 Z\" fill=\"#000000\" fill-rule=\"evenodd\" fill-opacity=\"1\" /><path clip-path=\"url(#clip5400)\" d=\"M 0 0 M2449.65 1449.69 L2455.95 1449.69 L2471.27 1478.6 L2471.27 1449.69 L2475.81 1449.69 L2475.81 1484.25 L2469.51 1484.25 L2454.19 1455.34 L2454.19 1484.25 L2449.65 1484.25 L2449.65 1449.69 Z\" fill=\"#000000\" fill-rule=\"evenodd\" fill-opacity=\"1\" /><path clip-path=\"url(#clip5400)\" d=\"M 0 0 M2490.32 1461.31 Q2486.9 1461.31 2484.91 1464 Q2482.92 1466.66 2482.92 1471.31 Q2482.92 1475.96 2484.88 1478.65 Q2486.88 1481.31 2490.32 1481.31 Q2493.73 1481.31 2495.72 1478.63 Q2497.71 1475.94 2497.71 1471.31 Q2497.71 1466.71 2495.72 1464.02 Q2493.73 1461.31 2490.32 1461.31 M2490.32 1457.7 Q2495.88 1457.7 2499.05 1461.31 Q2502.22 1464.92 2502.22 1471.31 Q2502.22 1477.68 2499.05 1481.31 Q2495.88 1484.92 2490.32 1484.92 Q2484.75 1484.92 2481.57 1481.31 Q2478.43 1477.68 2478.43 1471.31 Q2478.43 1464.92 2481.57 1461.31 Q2484.75 1457.7 2490.32 1457.7 Z\" fill=\"#000000\" fill-rule=\"evenodd\" fill-opacity=\"1\" /><path clip-path=\"url(#clip5400)\" d=\"M 0 0 M2503.63 1458.33 L2508.15 1458.33 L2516.25 1480.09 L2524.35 1458.33 L2528.87 1458.33 L2519.14 1484.25 L2513.36 1484.25 L2503.63 1458.33 Z\" fill=\"#000000\" fill-rule=\"evenodd\" fill-opacity=\"1\" /><path clip-path=\"url(#clip5400)\" d=\"M 0 0 M2530.26 1478.37 L2535.14 1478.37 L2535.14 1484.25 L2530.26 1484.25 L2530.26 1478.37 Z\" fill=\"#000000\" fill-rule=\"evenodd\" fill-opacity=\"1\" /><path clip-path=\"url(#clip5400)\" d=\"M 0 0 M2559.31 1480.32 L2575.63 1480.32 L2575.63 1484.25 L2553.68 1484.25 L2553.68 1480.32 Q2556.34 1477.56 2560.93 1472.93 Q2565.53 1468.28 2566.71 1466.94 Q2568.96 1464.41 2569.84 1462.68 Q2570.74 1460.92 2570.74 1459.23 Q2570.74 1456.47 2568.8 1454.74 Q2566.88 1453 2563.77 1453 Q2561.57 1453 2559.12 1453.77 Q2556.69 1454.53 2553.91 1456.08 L2553.91 1451.36 Q2556.74 1450.22 2559.19 1449.65 Q2561.64 1449.07 2563.68 1449.07 Q2569.05 1449.07 2572.25 1451.75 Q2575.44 1454.44 2575.44 1458.93 Q2575.44 1461.06 2574.63 1462.98 Q2573.84 1464.88 2571.74 1467.47 Q2571.16 1468.14 2568.06 1471.36 Q2564.95 1474.55 2559.31 1480.32 Z\" fill=\"#000000\" fill-rule=\"evenodd\" fill-opacity=\"1\" /><path clip-path=\"url(#clip5400)\" d=\"M 0 0 M2590.69 1467.84 Q2587.36 1467.84 2585.44 1469.62 Q2583.54 1471.4 2583.54 1474.53 Q2583.54 1477.65 2585.44 1479.44 Q2587.36 1481.22 2590.69 1481.22 Q2594.03 1481.22 2595.95 1479.44 Q2597.87 1477.63 2597.87 1474.53 Q2597.87 1471.4 2595.95 1469.62 Q2594.05 1467.84 2590.69 1467.84 M2586.02 1465.85 Q2583.01 1465.11 2581.32 1463.05 Q2579.65 1460.99 2579.65 1458.03 Q2579.65 1453.88 2582.59 1451.47 Q2585.56 1449.07 2590.69 1449.07 Q2595.86 1449.07 2598.8 1451.47 Q2601.74 1453.88 2601.74 1458.03 Q2601.74 1460.99 2600.05 1463.05 Q2598.38 1465.11 2595.39 1465.85 Q2598.77 1466.64 2600.65 1468.93 Q2602.55 1471.22 2602.55 1474.53 Q2602.55 1479.55 2599.47 1482.24 Q2596.41 1484.92 2590.69 1484.92 Q2584.98 1484.92 2581.9 1482.24 Q2578.84 1479.55 2578.84 1474.53 Q2578.84 1471.22 2580.74 1468.93 Q2582.64 1466.64 2586.02 1465.85 M2584.31 1458.46 Q2584.31 1461.15 2585.97 1462.65 Q2587.66 1464.16 2590.69 1464.16 Q2593.7 1464.16 2595.39 1462.65 Q2597.11 1461.15 2597.11 1458.46 Q2597.11 1455.78 2595.39 1454.28 Q2593.7 1452.77 2590.69 1452.77 Q2587.66 1452.77 2585.97 1454.28 Q2584.31 1455.78 2584.31 1458.46 Z\" fill=\"#000000\" fill-rule=\"evenodd\" fill-opacity=\"1\" /><path clip-path=\"url(#clip5400)\" d=\"M 0 0 M2608.1 1478.37 L2612.99 1478.37 L2612.99 1482.35 L2609.19 1489.76 L2606.2 1489.76 L2608.1 1482.35 L2608.1 1478.37 Z\" fill=\"#000000\" fill-rule=\"evenodd\" fill-opacity=\"1\" /><path clip-path=\"url(#clip5400)\" d=\"M 0 0 M2637.15 1480.32 L2653.47 1480.32 L2653.47 1484.25 L2631.53 1484.25 L2631.53 1480.32 Q2634.19 1477.56 2638.77 1472.93 Q2643.38 1468.28 2644.56 1466.94 Q2646.81 1464.41 2647.68 1462.68 Q2648.59 1460.92 2648.59 1459.23 Q2648.59 1456.47 2646.64 1454.74 Q2644.72 1453 2641.62 1453 Q2639.42 1453 2636.97 1453.77 Q2634.54 1454.53 2631.76 1456.08 L2631.76 1451.36 Q2634.58 1450.22 2637.04 1449.65 Q2639.49 1449.07 2641.53 1449.07 Q2646.9 1449.07 2650.09 1451.75 Q2653.29 1454.44 2653.29 1458.93 Q2653.29 1461.06 2652.48 1462.98 Q2651.69 1464.88 2649.58 1467.47 Q2649 1468.14 2645.9 1471.36 Q2642.8 1474.55 2637.15 1480.32 Z\" fill=\"#000000\" fill-rule=\"evenodd\" fill-opacity=\"1\" /><path clip-path=\"url(#clip5400)\" d=\"M 0 0 M2668.54 1452.77 Q2664.93 1452.77 2663.1 1456.34 Q2661.3 1459.88 2661.3 1467.01 Q2661.3 1474.11 2663.1 1477.68 Q2664.93 1481.22 2668.54 1481.22 Q2672.18 1481.22 2673.98 1477.68 Q2675.81 1474.11 2675.81 1467.01 Q2675.81 1459.88 2673.98 1456.34 Q2672.18 1452.77 2668.54 1452.77 M2668.54 1449.07 Q2674.35 1449.07 2677.41 1453.67 Q2680.49 1458.26 2680.49 1467.01 Q2680.49 1475.73 2677.41 1480.34 Q2674.35 1484.92 2668.54 1484.92 Q2662.73 1484.92 2659.65 1480.34 Q2656.6 1475.73 2656.6 1467.01 Q2656.6 1458.26 2659.65 1453.67 Q2662.73 1449.07 2668.54 1449.07 Z\" fill=\"#000000\" fill-rule=\"evenodd\" fill-opacity=\"1\" /><path clip-path=\"url(#clip5400)\" d=\"M 0 0 M2694.99 1453.53 L2694.99 1480.41 L2700.64 1480.41 Q2707.79 1480.41 2711.1 1477.17 Q2714.43 1473.93 2714.43 1466.94 Q2714.43 1459.99 2711.1 1456.78 Q2707.79 1453.53 2700.64 1453.53 L2694.99 1453.53 M2690.31 1449.69 L2699.92 1449.69 Q2709.96 1449.69 2714.66 1453.88 Q2719.36 1458.05 2719.36 1466.94 Q2719.36 1475.87 2714.64 1480.06 Q2709.92 1484.25 2699.92 1484.25 L2690.31 1484.25 L2690.31 1449.69 Z\" fill=\"#000000\" fill-rule=\"evenodd\" fill-opacity=\"1\" /><path clip-path=\"url(#clip5400)\" d=\"M 0 0 M2746.01 1470.22 L2746.01 1472.31 L2726.42 1472.31 Q2726.7 1476.71 2729.06 1479.02 Q2731.45 1481.31 2735.68 1481.31 Q2738.14 1481.31 2740.43 1480.71 Q2742.74 1480.11 2745.01 1478.9 L2745.01 1482.93 Q2742.72 1483.9 2740.31 1484.41 Q2737.9 1484.92 2735.43 1484.92 Q2729.22 1484.92 2725.59 1481.31 Q2721.98 1477.7 2721.98 1471.54 Q2721.98 1465.18 2725.4 1461.45 Q2728.85 1457.7 2734.69 1457.7 Q2739.92 1457.7 2742.95 1461.08 Q2746.01 1464.44 2746.01 1470.22 M2741.75 1468.97 Q2741.7 1465.48 2739.78 1463.4 Q2737.88 1461.31 2734.73 1461.31 Q2731.17 1461.31 2729.02 1463.33 Q2726.89 1465.34 2726.56 1469 L2741.75 1468.97 Z\" fill=\"#000000\" fill-rule=\"evenodd\" fill-opacity=\"1\" /><path clip-path=\"url(#clip5400)\" d=\"M 0 0 M2769.13 1459.32 L2769.13 1463.3 Q2767.33 1462.31 2765.5 1461.82 Q2763.69 1461.31 2761.84 1461.31 Q2757.7 1461.31 2755.4 1463.95 Q2753.11 1466.57 2753.11 1471.31 Q2753.11 1476.06 2755.4 1478.7 Q2757.7 1481.31 2761.84 1481.31 Q2763.69 1481.31 2765.5 1480.83 Q2767.33 1480.32 2769.13 1479.32 L2769.13 1483.26 Q2767.35 1484.09 2765.43 1484.51 Q2763.53 1484.92 2761.38 1484.92 Q2755.52 1484.92 2752.07 1481.24 Q2748.62 1477.56 2748.62 1471.31 Q2748.62 1464.97 2752.09 1461.34 Q2755.59 1457.7 2761.65 1457.7 Q2763.62 1457.7 2765.5 1458.12 Q2767.37 1458.51 2769.13 1459.32 Z\" fill=\"#000000\" fill-rule=\"evenodd\" fill-opacity=\"1\" /><path clip-path=\"url(#clip5400)\" d=\"M 0 0 M2774.2 1478.37 L2779.08 1478.37 L2779.08 1484.25 L2774.2 1484.25 L2774.2 1478.37 Z\" fill=\"#000000\" fill-rule=\"evenodd\" fill-opacity=\"1\" /><path clip-path=\"url(#clip5400)\" d=\"M 0 0 M2809.8 1465.11 Q2806.65 1465.11 2804.8 1467.26 Q2802.97 1469.41 2802.97 1473.16 Q2802.97 1476.89 2804.8 1479.07 Q2806.65 1481.22 2809.8 1481.22 Q2812.95 1481.22 2814.78 1479.07 Q2816.63 1476.89 2816.63 1473.16 Q2816.63 1469.41 2814.78 1467.26 Q2812.95 1465.11 2809.8 1465.11 M2819.08 1450.46 L2819.08 1454.71 Q2817.33 1453.88 2815.52 1453.44 Q2813.74 1453 2811.98 1453 Q2807.35 1453 2804.89 1456.13 Q2802.46 1459.25 2802.12 1465.57 Q2803.48 1463.56 2805.54 1462.49 Q2807.6 1461.4 2810.08 1461.4 Q2815.29 1461.4 2818.3 1464.58 Q2821.33 1467.72 2821.33 1473.16 Q2821.33 1478.49 2818.18 1481.71 Q2815.03 1484.92 2809.8 1484.92 Q2803.81 1484.92 2800.64 1480.34 Q2797.46 1475.73 2797.46 1467.01 Q2797.46 1458.81 2801.35 1453.95 Q2805.24 1449.07 2811.79 1449.07 Q2813.55 1449.07 2815.33 1449.41 Q2817.14 1449.76 2819.08 1450.46 Z\" fill=\"#000000\" fill-rule=\"evenodd\" fill-opacity=\"1\" /><path clip-path=\"url(#clip5400)\" d=\"M 0 0 M2826.89 1478.37 L2831.77 1478.37 L2831.77 1482.35 L2827.97 1489.76 L2824.99 1489.76 L2826.89 1482.35 L2826.89 1478.37 Z\" fill=\"#000000\" fill-rule=\"evenodd\" fill-opacity=\"1\" /><path clip-path=\"url(#clip5400)\" d=\"M 0 0 M2855.94 1480.32 L2872.26 1480.32 L2872.26 1484.25 L2850.31 1484.25 L2850.31 1480.32 Q2852.97 1477.56 2857.56 1472.93 Q2862.16 1468.28 2863.34 1466.94 Q2865.59 1464.41 2866.47 1462.68 Q2867.37 1460.92 2867.37 1459.23 Q2867.37 1456.47 2865.43 1454.74 Q2863.51 1453 2860.4 1453 Q2858.2 1453 2855.75 1453.77 Q2853.32 1454.53 2850.54 1456.08 L2850.54 1451.36 Q2853.37 1450.22 2855.82 1449.65 Q2858.27 1449.07 2860.31 1449.07 Q2865.68 1449.07 2868.88 1451.75 Q2872.07 1454.44 2872.07 1458.93 Q2872.07 1461.06 2871.26 1462.98 Q2870.47 1464.88 2868.37 1467.47 Q2867.79 1468.14 2864.69 1471.36 Q2861.58 1474.55 2855.94 1480.32 Z\" fill=\"#000000\" fill-rule=\"evenodd\" fill-opacity=\"1\" /><path clip-path=\"url(#clip5400)\" d=\"M 0 0 M2887.32 1452.77 Q2883.71 1452.77 2881.89 1456.34 Q2880.08 1459.88 2880.08 1467.01 Q2880.08 1474.11 2881.89 1477.68 Q2883.71 1481.22 2887.32 1481.22 Q2890.96 1481.22 2892.76 1477.68 Q2894.59 1474.11 2894.59 1467.01 Q2894.59 1459.88 2892.76 1456.34 Q2890.96 1452.77 2887.32 1452.77 M2887.32 1449.07 Q2893.13 1449.07 2896.19 1453.67 Q2899.27 1458.26 2899.27 1467.01 Q2899.27 1475.73 2896.19 1480.34 Q2893.13 1484.92 2887.32 1484.92 Q2881.51 1484.92 2878.44 1480.34 Q2875.38 1475.73 2875.38 1467.01 Q2875.38 1458.26 2878.44 1453.67 Q2881.51 1449.07 2887.32 1449.07 Z\" fill=\"#000000\" fill-rule=\"evenodd\" fill-opacity=\"1\" /><path clip-path=\"url(#clip5400)\" d=\"M 0 0 M2941.11 1453.53 L2941.11 1480.41 L2946.76 1480.41 Q2953.91 1480.41 2957.22 1477.17 Q2960.55 1473.93 2960.55 1466.94 Q2960.55 1459.99 2957.22 1456.78 Q2953.91 1453.53 2946.76 1453.53 L2941.11 1453.53 M2936.43 1449.69 L2946.04 1449.69 Q2956.09 1449.69 2960.78 1453.88 Q2965.48 1458.05 2965.48 1466.94 Q2965.48 1475.87 2960.76 1480.06 Q2956.04 1484.25 2946.04 1484.25 L2936.43 1484.25 L2936.43 1449.69 Z\" fill=\"#000000\" fill-rule=\"evenodd\" fill-opacity=\"1\" /><path clip-path=\"url(#clip5400)\" d=\"M 0 0 M2992.13 1470.22 L2992.13 1472.31 L2972.54 1472.31 Q2972.82 1476.71 2975.18 1479.02 Q2977.57 1481.31 2981.8 1481.31 Q2984.26 1481.31 2986.55 1480.71 Q2988.86 1480.11 2991.13 1478.9 L2991.13 1482.93 Q2988.84 1483.9 2986.43 1484.41 Q2984.03 1484.92 2981.55 1484.92 Q2975.35 1484.92 2971.71 1481.31 Q2968.1 1477.7 2968.1 1471.54 Q2968.1 1465.18 2971.53 1461.45 Q2974.97 1457.7 2980.81 1457.7 Q2986.04 1457.7 2989.07 1461.08 Q2992.13 1464.44 2992.13 1470.22 M2987.87 1468.97 Q2987.82 1465.48 2985.9 1463.4 Q2984 1461.31 2980.85 1461.31 Q2977.29 1461.31 2975.14 1463.33 Q2973.01 1465.34 2972.68 1469 L2987.87 1468.97 Z\" fill=\"#000000\" fill-rule=\"evenodd\" fill-opacity=\"1\" /><path clip-path=\"url(#clip5400)\" d=\"M 0 0 M3015.25 1459.32 L3015.25 1463.3 Q3013.45 1462.31 3011.62 1461.82 Q3009.81 1461.31 3007.96 1461.31 Q3003.82 1461.31 3001.53 1463.95 Q2999.23 1466.57 2999.23 1471.31 Q2999.23 1476.06 3001.53 1478.7 Q3003.82 1481.31 3007.96 1481.31 Q3009.81 1481.31 3011.62 1480.83 Q3013.45 1480.32 3015.25 1479.32 L3015.25 1483.26 Q3013.47 1484.09 3011.55 1484.51 Q3009.65 1484.92 3007.5 1484.92 Q3001.64 1484.92 2998.19 1481.24 Q2994.74 1477.56 2994.74 1471.31 Q2994.74 1464.97 2998.22 1461.34 Q3001.71 1457.7 3007.78 1457.7 Q3009.74 1457.7 3011.62 1458.12 Q3013.49 1458.51 3015.25 1459.32 Z\" fill=\"#000000\" fill-rule=\"evenodd\" fill-opacity=\"1\" /><path clip-path=\"url(#clip5400)\" d=\"M 0 0 M3020.32 1478.37 L3025.21 1478.37 L3025.21 1484.25 L3020.32 1484.25 L3020.32 1478.37 Z\" fill=\"#000000\" fill-rule=\"evenodd\" fill-opacity=\"1\" /><path clip-path=\"url(#clip5400)\" d=\"M 0 0 M3046.15 1480.32 L3053.79 1480.32 L3053.79 1453.95 L3045.48 1455.62 L3045.48 1451.36 L3053.75 1449.69 L3058.42 1449.69 L3058.42 1480.32 L3066.06 1480.32 L3066.06 1484.25 L3046.15 1484.25 L3046.15 1480.32 Z\" fill=\"#000000\" fill-rule=\"evenodd\" fill-opacity=\"1\" /><path clip-path=\"url(#clip5400)\" d=\"M 0 0 M3071.18 1449.69 L3089.53 1449.69 L3089.53 1453.63 L3075.46 1453.63 L3075.46 1462.1 Q3076.48 1461.75 3077.5 1461.59 Q3078.52 1461.4 3079.53 1461.4 Q3085.32 1461.4 3088.7 1464.58 Q3092.08 1467.75 3092.08 1473.16 Q3092.08 1478.74 3088.61 1481.84 Q3085.14 1484.92 3078.82 1484.92 Q3076.64 1484.92 3074.37 1484.55 Q3072.13 1484.18 3069.72 1483.44 L3069.72 1478.74 Q3071.8 1479.88 3074.03 1480.43 Q3076.25 1480.99 3078.72 1480.99 Q3082.73 1480.99 3085.07 1478.88 Q3087.4 1476.78 3087.4 1473.16 Q3087.4 1469.55 3085.07 1467.45 Q3082.73 1465.34 3078.72 1465.34 Q3076.85 1465.34 3074.97 1465.76 Q3073.12 1466.17 3071.18 1467.05 L3071.18 1449.69 Z\" fill=\"#000000\" fill-rule=\"evenodd\" fill-opacity=\"1\" /><path clip-path=\"url(#clip5400)\" d=\"M 0 0 M3097.64 1478.37 L3102.52 1478.37 L3102.52 1482.35 L3098.72 1489.76 L3095.74 1489.76 L3097.64 1482.35 L3097.64 1478.37 Z\" fill=\"#000000\" fill-rule=\"evenodd\" fill-opacity=\"1\" /><path clip-path=\"url(#clip5400)\" d=\"M 0 0 M3126.69 1480.32 L3143.01 1480.32 L3143.01 1484.25 L3121.06 1484.25 L3121.06 1480.32 Q3123.72 1477.56 3128.31 1472.93 Q3132.91 1468.28 3134.09 1466.94 Q3136.34 1464.41 3137.22 1462.68 Q3138.12 1460.92 3138.12 1459.23 Q3138.12 1456.47 3136.18 1454.74 Q3134.26 1453 3131.15 1453 Q3128.96 1453 3126.5 1453.77 Q3124.07 1454.53 3121.29 1456.08 L3121.29 1451.36 Q3124.12 1450.22 3126.57 1449.65 Q3129.02 1449.07 3131.06 1449.07 Q3136.43 1449.07 3139.63 1451.75 Q3142.82 1454.44 3142.82 1458.93 Q3142.82 1461.06 3142.01 1462.98 Q3141.22 1464.88 3139.12 1467.47 Q3138.54 1468.14 3135.44 1471.36 Q3132.33 1474.55 3126.69 1480.32 Z\" fill=\"#000000\" fill-rule=\"evenodd\" fill-opacity=\"1\" /><path clip-path=\"url(#clip5400)\" d=\"M 0 0 M3158.08 1452.77 Q3154.46 1452.77 3152.64 1456.34 Q3150.83 1459.88 3150.83 1467.01 Q3150.83 1474.11 3152.64 1477.68 Q3154.46 1481.22 3158.08 1481.22 Q3161.71 1481.22 3163.52 1477.68 Q3165.34 1474.11 3165.34 1467.01 Q3165.34 1459.88 3163.52 1456.34 Q3161.71 1452.77 3158.08 1452.77 M3158.08 1449.07 Q3163.89 1449.07 3166.94 1453.67 Q3170.02 1458.26 3170.02 1467.01 Q3170.02 1475.73 3166.94 1480.34 Q3163.89 1484.92 3158.08 1484.92 Q3152.27 1484.92 3149.19 1480.34 Q3146.13 1475.73 3146.13 1467.01 Q3146.13 1458.26 3149.19 1453.67 Q3152.27 1449.07 3158.08 1449.07 Z\" fill=\"#000000\" fill-rule=\"evenodd\" fill-opacity=\"1\" /><path clip-path=\"url(#clip5400)\" d=\"M 0 0 M3170.84 1453.53 L3170.84 1480.41 L3176.49 1480.41 Q3183.64 1480.41 3186.95 1477.17 Q3190.29 1473.93 3190.29 1466.94 Q3190.29 1459.99 3186.95 1456.78 Q3183.64 1453.53 3176.49 1453.53 L3170.84 1453.53 M3166.17 1449.69 L3175.77 1449.69 Q3185.82 1449.69 3190.52 1453.88 Q3195.22 1458.05 3195.22 1466.94 Q3195.22 1475.87 3190.49 1480.06 Q3185.77 1484.25 3175.77 1484.25 L3166.17 1484.25 L3166.17 1449.69 Z\" fill=\"#000000\" fill-rule=\"evenodd\" fill-opacity=\"1\" /><path clip-path=\"url(#clip5400)\" d=\"M 0 0 M3221.86 1470.22 L3221.86 1472.31 L3202.28 1472.31 Q3202.55 1476.71 3204.92 1479.02 Q3207.3 1481.31 3211.54 1481.31 Q3213.99 1481.31 3216.28 1480.71 Q3218.6 1480.11 3220.86 1478.9 L3220.86 1482.93 Q3218.57 1483.9 3216.17 1484.41 Q3213.76 1484.92 3211.28 1484.92 Q3205.08 1484.92 3201.44 1481.31 Q3197.83 1477.7 3197.83 1471.54 Q3197.83 1465.18 3201.26 1461.45 Q3204.71 1457.7 3210.54 1457.7 Q3215.77 1457.7 3218.8 1461.08 Q3221.86 1464.44 3221.86 1470.22 M3217.6 1468.97 Q3217.55 1465.48 3215.63 1463.4 Q3213.73 1461.31 3210.59 1461.31 Q3207.02 1461.31 3204.87 1463.33 Q3202.74 1465.34 3202.42 1469 L3217.6 1468.97 Z\" fill=\"#000000\" fill-rule=\"evenodd\" fill-opacity=\"1\" /><path clip-path=\"url(#clip5400)\" d=\"M 0 0 M3244.98 1459.32 L3244.98 1463.3 Q3243.18 1462.31 3241.35 1461.82 Q3239.54 1461.31 3237.69 1461.31 Q3233.55 1461.31 3231.26 1463.95 Q3228.97 1466.57 3228.97 1471.31 Q3228.97 1476.06 3231.26 1478.7 Q3233.55 1481.31 3237.69 1481.31 Q3239.54 1481.31 3241.35 1480.83 Q3243.18 1480.32 3244.98 1479.32 L3244.98 1483.26 Q3243.2 1484.09 3241.28 1484.51 Q3239.38 1484.92 3237.23 1484.92 Q3231.37 1484.92 3227.92 1481.24 Q3224.48 1477.56 3224.48 1471.31 Q3224.48 1464.97 3227.95 1461.34 Q3231.44 1457.7 3237.51 1457.7 Q3239.48 1457.7 3241.35 1458.12 Q3243.23 1458.51 3244.98 1459.32 Z\" fill=\"#000000\" fill-rule=\"evenodd\" fill-opacity=\"1\" /><path clip-path=\"url(#clip5400)\" d=\"M 0 0 M3250.05 1478.37 L3254.94 1478.37 L3254.94 1484.25 L3250.05 1484.25 L3250.05 1478.37 Z\" fill=\"#000000\" fill-rule=\"evenodd\" fill-opacity=\"1\" /><path clip-path=\"url(#clip5400)\" d=\"M 0 0 M3279.1 1480.32 L3295.42 1480.32 L3295.42 1484.25 L3273.48 1484.25 L3273.48 1480.32 Q3276.14 1477.56 3280.73 1472.93 Q3285.33 1468.28 3286.51 1466.94 Q3288.76 1464.41 3289.64 1462.68 Q3290.54 1460.92 3290.54 1459.23 Q3290.54 1456.47 3288.6 1454.74 Q3286.67 1453 3283.57 1453 Q3281.37 1453 3278.92 1453.77 Q3276.49 1454.53 3273.71 1456.08 L3273.71 1451.36 Q3276.54 1450.22 3278.99 1449.65 Q3281.44 1449.07 3283.48 1449.07 Q3288.85 1449.07 3292.04 1451.75 Q3295.24 1454.44 3295.24 1458.93 Q3295.24 1461.06 3294.43 1462.98 Q3293.64 1464.88 3291.54 1467.47 Q3290.96 1468.14 3287.85 1471.36 Q3284.75 1474.55 3279.1 1480.32 Z\" fill=\"#000000\" fill-rule=\"evenodd\" fill-opacity=\"1\" /><path clip-path=\"url(#clip5400)\" d=\"M 0 0 M3314.66 1465.62 Q3318.02 1466.34 3319.89 1468.6 Q3321.79 1470.87 3321.79 1474.21 Q3321.79 1479.32 3318.27 1482.12 Q3314.75 1484.92 3308.27 1484.92 Q3306.1 1484.92 3303.78 1484.48 Q3301.49 1484.07 3299.04 1483.21 L3299.04 1478.7 Q3300.98 1479.83 3303.29 1480.41 Q3305.61 1480.99 3308.13 1480.99 Q3312.53 1480.99 3314.82 1479.25 Q3317.14 1477.52 3317.14 1474.21 Q3317.14 1471.15 3314.98 1469.44 Q3312.85 1467.7 3309.04 1467.7 L3305.01 1467.7 L3305.01 1463.86 L3309.22 1463.86 Q3312.67 1463.86 3314.5 1462.49 Q3316.33 1461.1 3316.33 1458.51 Q3316.33 1455.85 3314.43 1454.44 Q3312.55 1453 3309.04 1453 Q3307.11 1453 3304.91 1453.42 Q3302.72 1453.84 3300.08 1454.71 L3300.08 1450.55 Q3302.74 1449.81 3305.05 1449.44 Q3307.39 1449.07 3309.45 1449.07 Q3314.78 1449.07 3317.88 1451.5 Q3320.98 1453.9 3320.98 1458.03 Q3320.98 1460.9 3319.34 1462.89 Q3317.69 1464.85 3314.66 1465.62 Z\" fill=\"#000000\" fill-rule=\"evenodd\" fill-opacity=\"1\" /><path clip-path=\"url(#clip5400)\" d=\"M 0 0 M3327.35 1478.37 L3332.23 1478.37 L3332.23 1482.35 L3328.43 1489.76 L3325.45 1489.76 L3327.35 1482.35 L3327.35 1478.37 Z\" fill=\"#000000\" fill-rule=\"evenodd\" fill-opacity=\"1\" /><path clip-path=\"url(#clip5400)\" d=\"M 0 0 M3356.4 1480.32 L3372.72 1480.32 L3372.72 1484.25 L3350.77 1484.25 L3350.77 1480.32 Q3353.43 1477.56 3358.02 1472.93 Q3362.62 1468.28 3363.8 1466.94 Q3366.05 1464.41 3366.93 1462.68 Q3367.83 1460.92 3367.83 1459.23 Q3367.83 1456.47 3365.89 1454.74 Q3363.97 1453 3360.86 1453 Q3358.66 1453 3356.21 1453.77 Q3353.78 1454.53 3351 1456.08 L3351 1451.36 Q3353.83 1450.22 3356.28 1449.65 Q3358.73 1449.07 3360.77 1449.07 Q3366.14 1449.07 3369.34 1451.75 Q3372.53 1454.44 3372.53 1458.93 Q3372.53 1461.06 3371.72 1462.98 Q3370.93 1464.88 3368.83 1467.47 Q3368.25 1468.14 3365.15 1471.36 Q3362.04 1474.55 3356.4 1480.32 Z\" fill=\"#000000\" fill-rule=\"evenodd\" fill-opacity=\"1\" /><path clip-path=\"url(#clip5400)\" d=\"M 0 0 M3387.78 1452.77 Q3384.17 1452.77 3382.35 1456.34 Q3380.54 1459.88 3380.54 1467.01 Q3380.54 1474.11 3382.35 1477.68 Q3384.17 1481.22 3387.78 1481.22 Q3391.42 1481.22 3393.22 1477.68 Q3395.05 1474.11 3395.05 1467.01 Q3395.05 1459.88 3393.22 1456.34 Q3391.42 1452.77 3387.78 1452.77 M3387.78 1449.07 Q3393.6 1449.07 3396.65 1453.67 Q3399.73 1458.26 3399.73 1467.01 Q3399.73 1475.73 3396.65 1480.34 Q3393.6 1484.92 3387.78 1484.92 Q3381.97 1484.92 3378.9 1480.34 Q3375.84 1475.73 3375.84 1467.01 Q3375.84 1458.26 3378.9 1453.67 Q3381.97 1449.07 3387.78 1449.07 Z\" fill=\"#000000\" fill-rule=\"evenodd\" fill-opacity=\"1\" /><path clip-path=\"url(#clip5400)\" d=\"M 0 0 M3453.46 1449.69 L3458.13 1449.69 L3458.13 1481.84 Q3458.13 1488.09 3455.75 1490.92 Q3453.39 1493.74 3448.13 1493.74 L3446.35 1493.74 L3446.35 1489.81 L3447.81 1489.81 Q3450.91 1489.81 3452.18 1488.07 Q3453.46 1486.34 3453.46 1481.84 L3453.46 1449.69 Z\" fill=\"#000000\" fill-rule=\"evenodd\" fill-opacity=\"1\" /><path clip-path=\"url(#clip5400)\" d=\"M 0 0 M3474.38 1471.22 Q3469.22 1471.22 3467.23 1472.4 Q3465.24 1473.58 3465.24 1476.43 Q3465.24 1478.7 3466.72 1480.04 Q3468.22 1481.36 3470.79 1481.36 Q3474.34 1481.36 3476.46 1478.86 Q3478.62 1476.34 3478.62 1472.17 L3478.62 1471.22 L3474.38 1471.22 M3482.88 1469.46 L3482.88 1484.25 L3478.62 1484.25 L3478.62 1480.32 Q3477.16 1482.68 3474.98 1483.81 Q3472.81 1484.92 3469.66 1484.92 Q3465.68 1484.92 3463.32 1482.7 Q3460.98 1480.46 3460.98 1476.71 Q3460.98 1472.33 3463.9 1470.11 Q3466.84 1467.89 3472.65 1467.89 L3478.62 1467.89 L3478.62 1467.47 Q3478.62 1464.53 3476.67 1462.93 Q3474.75 1461.31 3471.26 1461.31 Q3469.03 1461.31 3466.93 1461.84 Q3464.82 1462.38 3462.88 1463.44 L3462.88 1459.51 Q3465.21 1458.6 3467.41 1458.16 Q3469.61 1457.7 3471.7 1457.7 Q3477.32 1457.7 3480.1 1460.62 Q3482.88 1463.53 3482.88 1469.46 Z\" fill=\"#000000\" fill-rule=\"evenodd\" fill-opacity=\"1\" /><path clip-path=\"url(#clip5400)\" d=\"M 0 0 M3508.9 1468.6 L3508.9 1484.25 L3504.64 1484.25 L3504.64 1468.74 Q3504.64 1465.06 3503.2 1463.23 Q3501.77 1461.4 3498.9 1461.4 Q3495.45 1461.4 3493.46 1463.6 Q3491.46 1465.8 3491.46 1469.6 L3491.46 1484.25 L3487.18 1484.25 L3487.18 1458.33 L3491.46 1458.33 L3491.46 1462.35 Q3492.99 1460.02 3495.05 1458.86 Q3497.14 1457.7 3499.84 1457.7 Q3504.31 1457.7 3506.6 1460.48 Q3508.9 1463.23 3508.9 1468.6 Z\" fill=\"#000000\" fill-rule=\"evenodd\" fill-opacity=\"1\" /><path clip-path=\"url(#clip5400)\" d=\"M 0 0 M3513.96 1478.37 L3518.85 1478.37 L3518.85 1484.25 L3513.96 1484.25 L3513.96 1478.37 Z\" fill=\"#000000\" fill-rule=\"evenodd\" fill-opacity=\"1\" /><path clip-path=\"url(#clip5400)\" d=\"M 0 0 M3539.8 1480.32 L3547.44 1480.32 L3547.44 1453.95 L3539.13 1455.62 L3539.13 1451.36 L3547.39 1449.69 L3552.07 1449.69 L3552.07 1480.32 L3559.71 1480.32 L3559.71 1484.25 L3539.8 1484.25 L3539.8 1480.32 Z\" fill=\"#000000\" fill-rule=\"evenodd\" fill-opacity=\"1\" /><path clip-path=\"url(#clip5400)\" d=\"M 0 0 M3565.26 1478.37 L3570.14 1478.37 L3570.14 1482.35 L3566.35 1489.76 L3563.36 1489.76 L3565.26 1482.35 L3565.26 1478.37 Z\" fill=\"#000000\" fill-rule=\"evenodd\" fill-opacity=\"1\" /><path clip-path=\"url(#clip5400)\" d=\"M 0 0 M3594.31 1480.32 L3610.63 1480.32 L3610.63 1484.25 L3588.69 1484.25 L3588.69 1480.32 Q3591.35 1477.56 3595.93 1472.93 Q3600.54 1468.28 3601.72 1466.94 Q3603.96 1464.41 3604.84 1462.68 Q3605.75 1460.92 3605.75 1459.23 Q3605.75 1456.47 3603.8 1454.74 Q3601.88 1453 3598.78 1453 Q3596.58 1453 3594.13 1453.77 Q3591.7 1454.53 3588.92 1456.08 L3588.92 1451.36 Q3591.74 1450.22 3594.2 1449.65 Q3596.65 1449.07 3598.69 1449.07 Q3604.06 1449.07 3607.25 1451.75 Q3610.45 1454.44 3610.45 1458.93 Q3610.45 1461.06 3609.64 1462.98 Q3608.85 1464.88 3606.74 1467.47 Q3606.16 1468.14 3603.06 1471.36 Q3599.96 1474.55 3594.31 1480.32 Z\" fill=\"#000000\" fill-rule=\"evenodd\" fill-opacity=\"1\" /><path clip-path=\"url(#clip5400)\" d=\"M 0 0 M3616.51 1480.32 L3624.15 1480.32 L3624.15 1453.95 L3615.84 1455.62 L3615.84 1451.36 L3624.1 1449.69 L3628.78 1449.69 L3628.78 1480.32 L3636.42 1480.32 L3636.42 1484.25 L3616.51 1484.25 L3616.51 1480.32 Z\" fill=\"#000000\" fill-rule=\"evenodd\" fill-opacity=\"1\" /><path clip-path=\"url(#clip5400)\" d=\"M 0 0 M3682.66 1449.69 L3687.33 1449.69 L3687.33 1481.84 Q3687.33 1488.09 3684.95 1490.92 Q3682.59 1493.74 3677.33 1493.74 L3675.55 1493.74 L3675.55 1489.81 L3677.01 1489.81 Q3680.11 1489.81 3681.38 1488.07 Q3682.66 1486.34 3682.66 1481.84 L3682.66 1449.69 Z\" fill=\"#000000\" fill-rule=\"evenodd\" fill-opacity=\"1\" /><path clip-path=\"url(#clip5400)\" d=\"M 0 0 M3703.58 1471.22 Q3698.42 1471.22 3696.43 1472.4 Q3694.44 1473.58 3694.44 1476.43 Q3694.44 1478.7 3695.92 1480.04 Q3697.42 1481.36 3699.99 1481.36 Q3703.54 1481.36 3705.66 1478.86 Q3707.82 1476.34 3707.82 1472.17 L3707.82 1471.22 L3703.58 1471.22 M3712.08 1469.46 L3712.08 1484.25 L3707.82 1484.25 L3707.82 1480.32 Q3706.36 1482.68 3704.18 1483.81 Q3702.01 1484.92 3698.86 1484.92 Q3694.88 1484.92 3692.52 1482.7 Q3690.18 1480.46 3690.18 1476.71 Q3690.18 1472.33 3693.1 1470.11 Q3696.04 1467.89 3701.85 1467.89 L3707.82 1467.89 L3707.82 1467.47 Q3707.82 1464.53 3705.87 1462.93 Q3703.95 1461.31 3700.46 1461.31 Q3698.23 1461.31 3696.13 1461.84 Q3694.02 1462.38 3692.08 1463.44 L3692.08 1459.51 Q3694.42 1458.6 3696.61 1458.16 Q3698.81 1457.7 3700.9 1457.7 Q3706.52 1457.7 3709.3 1460.62 Q3712.08 1463.53 3712.08 1469.46 Z\" fill=\"#000000\" fill-rule=\"evenodd\" fill-opacity=\"1\" /><path clip-path=\"url(#clip5400)\" d=\"M 0 0 M3738.1 1468.6 L3738.1 1484.25 L3733.84 1484.25 L3733.84 1468.74 Q3733.84 1465.06 3732.4 1463.23 Q3730.97 1461.4 3728.1 1461.4 Q3724.65 1461.4 3722.66 1463.6 Q3720.66 1465.8 3720.66 1469.6 L3720.66 1484.25 L3716.38 1484.25 L3716.38 1458.33 L3720.66 1458.33 L3720.66 1462.35 Q3722.19 1460.02 3724.25 1458.86 Q3726.34 1457.7 3729.04 1457.7 Q3733.51 1457.7 3735.8 1460.48 Q3738.1 1463.23 3738.1 1468.6 Z\" fill=\"#000000\" fill-rule=\"evenodd\" fill-opacity=\"1\" /><path clip-path=\"url(#clip5400)\" d=\"M 0 0 M3743.16 1478.37 L3748.05 1478.37 L3748.05 1484.25 L3743.16 1484.25 L3743.16 1478.37 Z\" fill=\"#000000\" fill-rule=\"evenodd\" fill-opacity=\"1\" /><path clip-path=\"url(#clip5400)\" d=\"M 0 0 M3768.33 1483.53 L3768.33 1479.28 Q3770.09 1480.11 3771.89 1480.55 Q3773.7 1480.99 3775.43 1480.99 Q3780.06 1480.99 3782.49 1477.89 Q3784.95 1474.76 3785.29 1468.42 Q3783.95 1470.41 3781.89 1471.47 Q3779.83 1472.54 3777.33 1472.54 Q3772.15 1472.54 3769.11 1469.41 Q3766.1 1466.27 3766.1 1460.83 Q3766.1 1455.5 3769.25 1452.28 Q3772.4 1449.07 3777.63 1449.07 Q3783.63 1449.07 3786.78 1453.67 Q3789.95 1458.26 3789.95 1467.01 Q3789.95 1475.18 3786.06 1480.06 Q3782.19 1484.92 3775.64 1484.92 Q3773.88 1484.92 3772.08 1484.58 Q3770.27 1484.23 3768.33 1483.53 M3777.63 1468.88 Q3780.78 1468.88 3782.61 1466.73 Q3784.46 1464.58 3784.46 1460.83 Q3784.46 1457.1 3782.61 1454.95 Q3780.78 1452.77 3777.63 1452.77 Q3774.48 1452.77 3772.63 1454.95 Q3770.8 1457.1 3770.8 1460.83 Q3770.8 1464.58 3772.63 1466.73 Q3774.48 1468.88 3777.63 1468.88 Z\" fill=\"#000000\" fill-rule=\"evenodd\" fill-opacity=\"1\" /><path clip-path=\"url(#clip5400)\" d=\"M 0 0 M3795.5 1478.37 L3800.39 1478.37 L3800.39 1482.35 L3796.59 1489.76 L3793.6 1489.76 L3795.5 1482.35 L3795.5 1478.37 Z\" fill=\"#000000\" fill-rule=\"evenodd\" fill-opacity=\"1\" /><path clip-path=\"url(#clip5400)\" d=\"M 0 0 M3824.55 1480.32 L3840.87 1480.32 L3840.87 1484.25 L3818.93 1484.25 L3818.93 1480.32 Q3821.59 1477.56 3826.17 1472.93 Q3830.78 1468.28 3831.96 1466.94 Q3834.21 1464.41 3835.09 1462.68 Q3835.99 1460.92 3835.99 1459.23 Q3835.99 1456.47 3834.04 1454.74 Q3832.12 1453 3829.02 1453 Q3826.82 1453 3824.37 1453.77 Q3821.94 1454.53 3819.16 1456.08 L3819.16 1451.36 Q3821.98 1450.22 3824.44 1449.65 Q3826.89 1449.07 3828.93 1449.07 Q3834.3 1449.07 3837.49 1451.75 Q3840.69 1454.44 3840.69 1458.93 Q3840.69 1461.06 3839.88 1462.98 Q3839.09 1464.88 3836.98 1467.47 Q3836.4 1468.14 3833.3 1471.36 Q3830.2 1474.55 3824.55 1480.32 Z\" fill=\"#000000\" fill-rule=\"evenodd\" fill-opacity=\"1\" /><path clip-path=\"url(#clip5400)\" d=\"M 0 0 M3846.75 1480.32 L3854.39 1480.32 L3854.39 1453.95 L3846.08 1455.62 L3846.08 1451.36 L3854.34 1449.69 L3859.02 1449.69 L3859.02 1480.32 L3866.66 1480.32 L3866.66 1484.25 L3846.75 1484.25 L3846.75 1480.32 Z\" fill=\"#000000\" fill-rule=\"evenodd\" fill-opacity=\"1\" /><path clip-path=\"url(#clip5400)\" d=\"M 0 0 M118.398 1195.27 L134.717 1195.27 L134.717 1199.2 L112.773 1199.2 L112.773 1195.27 Q115.435 1192.51 120.018 1187.88 Q124.625 1183.23 125.805 1181.89 Q128.051 1179.37 128.93 1177.63 Q129.833 1175.87 129.833 1174.18 Q129.833 1171.43 127.889 1169.69 Q125.967 1167.95 122.866 1167.95 Q120.667 1167.95 118.213 1168.72 Q115.782 1169.48 113.005 1171.03 L113.005 1166.31 Q115.829 1165.18 118.282 1164.6 Q120.736 1164.02 122.773 1164.02 Q128.143 1164.02 131.338 1166.7 Q134.532 1169.39 134.532 1173.88 Q134.532 1176.01 133.722 1177.93 Q132.935 1179.83 130.829 1182.42 Q130.25 1183.09 127.148 1186.31 Q124.046 1189.5 118.398 1195.27 Z\" fill=\"#000000\" fill-rule=\"evenodd\" fill-opacity=\"1\" /><path clip-path=\"url(#clip5400)\" d=\"M 0 0 M138.606 1164.64 L160.828 1164.64 L160.828 1166.63 L148.282 1199.2 L143.398 1199.2 L155.203 1168.58 L138.606 1168.58 L138.606 1164.64 Z\" fill=\"#000000\" fill-rule=\"evenodd\" fill-opacity=\"1\" /><path clip-path=\"url(#clip5400)\" d=\"M 0 0 M175.898 1167.72 Q172.287 1167.72 170.458 1171.29 Q168.652 1174.83 168.652 1181.96 Q168.652 1189.06 170.458 1192.63 Q172.287 1196.17 175.898 1196.17 Q179.532 1196.17 181.338 1192.63 Q183.166 1189.06 183.166 1181.96 Q183.166 1174.83 181.338 1171.29 Q179.532 1167.72 175.898 1167.72 M175.898 1164.02 Q181.708 1164.02 184.763 1168.62 Q187.842 1173.21 187.842 1181.96 Q187.842 1190.68 184.763 1195.29 Q181.708 1199.87 175.898 1199.87 Q170.088 1199.87 167.009 1195.29 Q163.953 1190.68 163.953 1181.96 Q163.953 1173.21 167.009 1168.62 Q170.088 1164.02 175.898 1164.02 Z\" fill=\"#000000\" fill-rule=\"evenodd\" fill-opacity=\"1\" /><path clip-path=\"url(#clip5400)\" d=\"M 0 0 M202.912 1167.72 Q199.3 1167.72 197.472 1171.29 Q195.666 1174.83 195.666 1181.96 Q195.666 1189.06 197.472 1192.63 Q199.3 1196.17 202.912 1196.17 Q206.546 1196.17 208.351 1192.63 Q210.18 1189.06 210.18 1181.96 Q210.18 1174.83 208.351 1171.29 Q206.546 1167.72 202.912 1167.72 M202.912 1164.02 Q208.722 1164.02 211.777 1168.62 Q214.856 1173.21 214.856 1181.96 Q214.856 1190.68 211.777 1195.29 Q208.722 1199.87 202.912 1199.87 Q197.101 1199.87 194.023 1195.29 Q190.967 1190.68 190.967 1181.96 Q190.967 1173.21 194.023 1168.62 Q197.101 1164.02 202.912 1164.02 Z\" fill=\"#000000\" fill-rule=\"evenodd\" fill-opacity=\"1\" /><path clip-path=\"url(#clip5400)\" d=\"M 0 0 M229.925 1167.72 Q226.314 1167.72 224.485 1171.29 Q222.68 1174.83 222.68 1181.96 Q222.68 1189.06 224.485 1192.63 Q226.314 1196.17 229.925 1196.17 Q233.56 1196.17 235.365 1192.63 Q237.194 1189.06 237.194 1181.96 Q237.194 1174.83 235.365 1171.29 Q233.56 1167.72 229.925 1167.72 M229.925 1164.02 Q235.735 1164.02 238.791 1168.62 Q241.87 1173.21 241.87 1181.96 Q241.87 1190.68 238.791 1195.29 Q235.735 1199.87 229.925 1199.87 Q224.115 1199.87 221.036 1195.29 Q217.981 1190.68 217.981 1181.96 Q217.981 1173.21 221.036 1168.62 Q224.115 1164.02 229.925 1164.02 Z\" fill=\"#000000\" fill-rule=\"evenodd\" fill-opacity=\"1\" /><path clip-path=\"url(#clip5400)\" d=\"M 0 0 M117.588 865.226 L133.907 865.226 L133.907 869.162 L111.963 869.162 L111.963 865.226 Q114.625 862.472 119.208 857.842 Q123.815 853.189 124.995 851.847 Q127.241 849.324 128.12 847.588 Q129.023 845.828 129.023 844.139 Q129.023 841.384 127.079 839.648 Q125.157 837.912 122.055 837.912 Q119.856 837.912 117.403 838.676 Q114.972 839.44 112.194 840.99 L112.194 836.268 Q115.018 835.134 117.472 834.555 Q119.926 833.977 121.963 833.977 Q127.333 833.977 130.528 836.662 Q133.722 839.347 133.722 843.838 Q133.722 845.967 132.912 847.889 Q132.125 849.787 130.018 852.379 Q129.44 853.051 126.338 856.268 Q123.236 859.463 117.588 865.226 Z\" fill=\"#000000\" fill-rule=\"evenodd\" fill-opacity=\"1\" /><path clip-path=\"url(#clip5400)\" d=\"M 0 0 M148.977 852.75 Q145.643 852.75 143.722 854.532 Q141.824 856.314 141.824 859.439 Q141.824 862.564 143.722 864.347 Q145.643 866.129 148.977 866.129 Q152.31 866.129 154.231 864.347 Q156.153 862.541 156.153 859.439 Q156.153 856.314 154.231 854.532 Q152.333 852.75 148.977 852.75 M144.301 850.759 Q141.291 850.018 139.602 847.958 Q137.935 845.898 137.935 842.935 Q137.935 838.791 140.875 836.384 Q143.838 833.977 148.977 833.977 Q154.139 833.977 157.078 836.384 Q160.018 838.791 160.018 842.935 Q160.018 845.898 158.328 847.958 Q156.662 850.018 153.676 850.759 Q157.055 851.546 158.93 853.838 Q160.828 856.129 160.828 859.439 Q160.828 864.463 157.75 867.148 Q154.694 869.833 148.977 869.833 Q143.259 869.833 140.18 867.148 Q137.125 864.463 137.125 859.439 Q137.125 856.129 139.023 853.838 Q140.921 851.546 144.301 850.759 M142.588 843.375 Q142.588 846.06 144.254 847.564 Q145.944 849.069 148.977 849.069 Q151.986 849.069 153.676 847.564 Q155.389 846.06 155.389 843.375 Q155.389 840.69 153.676 839.185 Q151.986 837.68 148.977 837.68 Q145.944 837.68 144.254 839.185 Q142.588 840.69 142.588 843.375 Z\" fill=\"#000000\" fill-rule=\"evenodd\" fill-opacity=\"1\" /><path clip-path=\"url(#clip5400)\" d=\"M 0 0 M175.898 837.68 Q172.287 837.68 170.458 841.245 Q168.652 844.787 168.652 851.916 Q168.652 859.023 170.458 862.588 Q172.287 866.129 175.898 866.129 Q179.532 866.129 181.338 862.588 Q183.166 859.023 183.166 851.916 Q183.166 844.787 181.338 841.245 Q179.532 837.68 175.898 837.68 M175.898 833.977 Q181.708 833.977 184.763 838.583 Q187.842 843.166 187.842 851.916 Q187.842 860.643 184.763 865.25 Q181.708 869.833 175.898 869.833 Q170.088 869.833 167.009 865.25 Q163.953 860.643 163.953 851.916 Q163.953 843.166 167.009 838.583 Q170.088 833.977 175.898 833.977 Z\" fill=\"#000000\" fill-rule=\"evenodd\" fill-opacity=\"1\" /><path clip-path=\"url(#clip5400)\" d=\"M 0 0 M202.912 837.68 Q199.3 837.68 197.472 841.245 Q195.666 844.787 195.666 851.916 Q195.666 859.023 197.472 862.588 Q199.3 866.129 202.912 866.129 Q206.546 866.129 208.351 862.588 Q210.18 859.023 210.18 851.916 Q210.18 844.787 208.351 841.245 Q206.546 837.68 202.912 837.68 M202.912 833.977 Q208.722 833.977 211.777 838.583 Q214.856 843.166 214.856 851.916 Q214.856 860.643 211.777 865.25 Q208.722 869.833 202.912 869.833 Q197.101 869.833 194.023 865.25 Q190.967 860.643 190.967 851.916 Q190.967 843.166 194.023 838.583 Q197.101 833.977 202.912 833.977 Z\" fill=\"#000000\" fill-rule=\"evenodd\" fill-opacity=\"1\" /><path clip-path=\"url(#clip5400)\" d=\"M 0 0 M229.925 837.68 Q226.314 837.68 224.485 841.245 Q222.68 844.787 222.68 851.916 Q222.68 859.023 224.485 862.588 Q226.314 866.129 229.925 866.129 Q233.56 866.129 235.365 862.588 Q237.194 859.023 237.194 851.916 Q237.194 844.787 235.365 841.245 Q233.56 837.68 229.925 837.68 M229.925 833.977 Q235.735 833.977 238.791 838.583 Q241.87 843.166 241.87 851.916 Q241.87 860.643 238.791 865.25 Q235.735 869.833 229.925 869.833 Q224.115 869.833 221.036 865.25 Q217.981 860.643 217.981 851.916 Q217.981 843.166 221.036 838.583 Q224.115 833.977 229.925 833.977 Z\" fill=\"#000000\" fill-rule=\"evenodd\" fill-opacity=\"1\" /><path clip-path=\"url(#clip5400)\" d=\"M 0 0 M117.68 535.185 L134 535.185 L134 539.12 L112.056 539.12 L112.056 535.185 Q114.718 532.43 119.301 527.801 Q123.907 523.148 125.088 521.806 Q127.333 519.282 128.213 517.546 Q129.116 515.787 129.116 514.097 Q129.116 511.343 127.171 509.607 Q125.25 507.87 122.148 507.87 Q119.949 507.87 117.495 508.634 Q115.065 509.398 112.287 510.949 L112.287 506.227 Q115.111 505.093 117.565 504.514 Q120.018 503.935 122.055 503.935 Q127.426 503.935 130.62 506.62 Q133.815 509.306 133.815 513.796 Q133.815 515.926 133.004 517.847 Q132.217 519.745 130.111 522.338 Q129.532 523.009 126.43 526.227 Q123.329 529.421 117.68 535.185 Z\" fill=\"#000000\" fill-rule=\"evenodd\" fill-opacity=\"1\" /><path clip-path=\"url(#clip5400)\" d=\"M 0 0 M139.208 538.403 L139.208 534.143 Q140.967 534.977 142.773 535.417 Q144.578 535.856 146.315 535.856 Q150.944 535.856 153.375 532.755 Q155.828 529.63 156.176 523.287 Q154.833 525.278 152.773 526.343 Q150.713 527.407 148.213 527.407 Q143.028 527.407 139.995 524.282 Q136.986 521.134 136.986 515.694 Q136.986 510.37 140.134 507.153 Q143.282 503.935 148.514 503.935 Q154.509 503.935 157.657 508.542 Q160.828 513.125 160.828 521.875 Q160.828 530.046 156.94 534.93 Q153.074 539.792 146.523 539.792 Q144.764 539.792 142.958 539.444 Q141.153 539.097 139.208 538.403 M148.514 523.75 Q151.662 523.75 153.49 521.597 Q155.342 519.444 155.342 515.694 Q155.342 511.968 153.49 509.815 Q151.662 507.639 148.514 507.639 Q145.366 507.639 143.514 509.815 Q141.685 511.968 141.685 515.694 Q141.685 519.444 143.514 521.597 Q145.366 523.75 148.514 523.75 Z\" fill=\"#000000\" fill-rule=\"evenodd\" fill-opacity=\"1\" /><path clip-path=\"url(#clip5400)\" d=\"M 0 0 M175.898 507.639 Q172.287 507.639 170.458 511.204 Q168.652 514.745 168.652 521.875 Q168.652 528.981 170.458 532.546 Q172.287 536.088 175.898 536.088 Q179.532 536.088 181.338 532.546 Q183.166 528.981 183.166 521.875 Q183.166 514.745 181.338 511.204 Q179.532 507.639 175.898 507.639 M175.898 503.935 Q181.708 503.935 184.763 508.542 Q187.842 513.125 187.842 521.875 Q187.842 530.602 184.763 535.208 Q181.708 539.792 175.898 539.792 Q170.088 539.792 167.009 535.208 Q163.953 530.602 163.953 521.875 Q163.953 513.125 167.009 508.542 Q170.088 503.935 175.898 503.935 Z\" fill=\"#000000\" fill-rule=\"evenodd\" fill-opacity=\"1\" /><path clip-path=\"url(#clip5400)\" d=\"M 0 0 M202.912 507.639 Q199.3 507.639 197.472 511.204 Q195.666 514.745 195.666 521.875 Q195.666 528.981 197.472 532.546 Q199.3 536.088 202.912 536.088 Q206.546 536.088 208.351 532.546 Q210.18 528.981 210.18 521.875 Q210.18 514.745 208.351 511.204 Q206.546 507.639 202.912 507.639 M202.912 503.935 Q208.722 503.935 211.777 508.542 Q214.856 513.125 214.856 521.875 Q214.856 530.602 211.777 535.208 Q208.722 539.792 202.912 539.792 Q197.101 539.792 194.023 535.208 Q190.967 530.602 190.967 521.875 Q190.967 513.125 194.023 508.542 Q197.101 503.935 202.912 503.935 Z\" fill=\"#000000\" fill-rule=\"evenodd\" fill-opacity=\"1\" /><path clip-path=\"url(#clip5400)\" d=\"M 0 0 M229.925 507.639 Q226.314 507.639 224.485 511.204 Q222.68 514.745 222.68 521.875 Q222.68 528.981 224.485 532.546 Q226.314 536.088 229.925 536.088 Q233.56 536.088 235.365 532.546 Q237.194 528.981 237.194 521.875 Q237.194 514.745 235.365 511.204 Q233.56 507.639 229.925 507.639 M229.925 503.935 Q235.735 503.935 238.791 508.542 Q241.87 513.125 241.87 521.875 Q241.87 530.602 238.791 535.208 Q235.735 539.792 229.925 539.792 Q224.115 539.792 221.036 535.208 Q217.981 530.602 217.981 521.875 Q217.981 513.125 221.036 508.542 Q224.115 503.935 229.925 503.935 Z\" fill=\"#000000\" fill-rule=\"evenodd\" fill-opacity=\"1\" /><path clip-path=\"url(#clip5400)\" d=\"M 0 0 M126.685 190.445 Q130.042 191.162 131.917 193.431 Q133.815 195.699 133.815 199.033 Q133.815 204.148 130.296 206.949 Q126.778 209.75 120.296 209.75 Q118.12 209.75 115.806 209.31 Q113.514 208.894 111.06 208.037 L111.06 203.523 Q113.005 204.658 115.319 205.236 Q117.634 205.815 120.157 205.815 Q124.555 205.815 126.847 204.079 Q129.162 202.343 129.162 199.033 Q129.162 195.977 127.009 194.264 Q124.88 192.528 121.06 192.528 L117.032 192.528 L117.032 188.685 L121.245 188.685 Q124.694 188.685 126.523 187.32 Q128.352 185.931 128.352 183.338 Q128.352 180.676 126.454 179.264 Q124.579 177.829 121.06 177.829 Q119.139 177.829 116.94 178.246 Q114.741 178.662 112.102 179.542 L112.102 175.375 Q114.764 174.635 117.079 174.264 Q119.417 173.894 121.477 173.894 Q126.801 173.894 129.903 176.324 Q133.004 178.732 133.004 182.852 Q133.004 185.723 131.361 187.713 Q129.717 189.681 126.685 190.445 Z\" fill=\"#000000\" fill-rule=\"evenodd\" fill-opacity=\"1\" /><path clip-path=\"url(#clip5400)\" d=\"M 0 0 M148.884 177.598 Q145.273 177.598 143.444 181.162 Q141.639 184.704 141.639 191.834 Q141.639 198.94 143.444 202.505 Q145.273 206.047 148.884 206.047 Q152.518 206.047 154.324 202.505 Q156.153 198.94 156.153 191.834 Q156.153 184.704 154.324 181.162 Q152.518 177.598 148.884 177.598 M148.884 173.894 Q154.694 173.894 157.75 178.5 Q160.828 183.084 160.828 191.834 Q160.828 200.56 157.75 205.167 Q154.694 209.75 148.884 209.75 Q143.074 209.75 139.995 205.167 Q136.94 200.56 136.94 191.834 Q136.94 183.084 139.995 178.5 Q143.074 173.894 148.884 173.894 Z\" fill=\"#000000\" fill-rule=\"evenodd\" fill-opacity=\"1\" /><path clip-path=\"url(#clip5400)\" d=\"M 0 0 M175.898 177.598 Q172.287 177.598 170.458 181.162 Q168.652 184.704 168.652 191.834 Q168.652 198.94 170.458 202.505 Q172.287 206.047 175.898 206.047 Q179.532 206.047 181.338 202.505 Q183.166 198.94 183.166 191.834 Q183.166 184.704 181.338 181.162 Q179.532 177.598 175.898 177.598 M175.898 173.894 Q181.708 173.894 184.763 178.5 Q187.842 183.084 187.842 191.834 Q187.842 200.56 184.763 205.167 Q181.708 209.75 175.898 209.75 Q170.088 209.75 167.009 205.167 Q163.953 200.56 163.953 191.834 Q163.953 183.084 167.009 178.5 Q170.088 173.894 175.898 173.894 Z\" fill=\"#000000\" fill-rule=\"evenodd\" fill-opacity=\"1\" /><path clip-path=\"url(#clip5400)\" d=\"M 0 0 M202.912 177.598 Q199.3 177.598 197.472 181.162 Q195.666 184.704 195.666 191.834 Q195.666 198.94 197.472 202.505 Q199.3 206.047 202.912 206.047 Q206.546 206.047 208.351 202.505 Q210.18 198.94 210.18 191.834 Q210.18 184.704 208.351 181.162 Q206.546 177.598 202.912 177.598 M202.912 173.894 Q208.722 173.894 211.777 178.5 Q214.856 183.084 214.856 191.834 Q214.856 200.56 211.777 205.167 Q208.722 209.75 202.912 209.75 Q197.101 209.75 194.023 205.167 Q190.967 200.56 190.967 191.834 Q190.967 183.084 194.023 178.5 Q197.101 173.894 202.912 173.894 Z\" fill=\"#000000\" fill-rule=\"evenodd\" fill-opacity=\"1\" /><path clip-path=\"url(#clip5400)\" d=\"M 0 0 M229.925 177.598 Q226.314 177.598 224.485 181.162 Q222.68 184.704 222.68 191.834 Q222.68 198.94 224.485 202.505 Q226.314 206.047 229.925 206.047 Q233.56 206.047 235.365 202.505 Q237.194 198.94 237.194 191.834 Q237.194 184.704 235.365 181.162 Q233.56 177.598 229.925 177.598 M229.925 173.894 Q235.735 173.894 238.791 178.5 Q241.87 183.084 241.87 191.834 Q241.87 200.56 238.791 205.167 Q235.735 209.75 229.925 209.75 Q224.115 209.75 221.036 205.167 Q217.981 200.56 217.981 191.834 Q217.981 183.084 221.036 178.5 Q224.115 173.894 229.925 173.894 Z\" fill=\"#000000\" fill-rule=\"evenodd\" fill-opacity=\"1\" /><path clip-path=\"url(#clip5400)\" d=\"M 0 0 M2022.68 1525.47 L2022.68 1535.6 L2034.74 1535.6 L2034.74 1540.15 L2022.68 1540.15 L2022.68 1559.5 Q2022.68 1563.86 2023.85 1565.1 Q2025.06 1566.34 2028.72 1566.34 L2034.74 1566.34 L2034.74 1571.24 L2028.72 1571.24 Q2021.94 1571.24 2019.37 1568.73 Q2016.79 1566.18 2016.79 1559.5 L2016.79 1540.15 L2012.49 1540.15 L2012.49 1535.6 L2016.79 1535.6 L2016.79 1525.47 L2022.68 1525.47 Z\" fill=\"#000000\" fill-rule=\"evenodd\" fill-opacity=\"1\" /><path clip-path=\"url(#clip5400)\" d=\"M 0 0 M2040.88 1535.6 L2046.74 1535.6 L2046.74 1571.24 L2040.88 1571.24 L2040.88 1535.6 M2040.88 1521.72 L2046.74 1521.72 L2046.74 1529.13 L2040.88 1529.13 L2040.88 1521.72 Z\" fill=\"#000000\" fill-rule=\"evenodd\" fill-opacity=\"1\" /><path clip-path=\"url(#clip5400)\" d=\"M 0 0 M2080.64 1542.44 Q2082.83 1538.49 2085.89 1536.61 Q2088.94 1534.74 2093.08 1534.74 Q2098.65 1534.74 2101.68 1538.65 Q2104.7 1542.53 2104.7 1549.73 L2104.7 1571.24 L2098.81 1571.24 L2098.81 1549.92 Q2098.81 1544.79 2097 1542.31 Q2095.18 1539.83 2091.46 1539.83 Q2086.91 1539.83 2084.27 1542.85 Q2081.62 1545.88 2081.62 1551.1 L2081.62 1571.24 L2075.74 1571.24 L2075.74 1549.92 Q2075.74 1544.76 2073.92 1542.31 Q2072.11 1539.83 2068.32 1539.83 Q2063.83 1539.83 2061.19 1542.88 Q2058.55 1545.91 2058.55 1551.1 L2058.55 1571.24 L2052.66 1571.24 L2052.66 1535.6 L2058.55 1535.6 L2058.55 1541.13 Q2060.55 1537.86 2063.35 1536.3 Q2066.15 1534.74 2070.01 1534.74 Q2073.89 1534.74 2076.59 1536.71 Q2079.33 1538.68 2080.64 1542.44 Z\" fill=\"#000000\" fill-rule=\"evenodd\" fill-opacity=\"1\" /><path clip-path=\"url(#clip5400)\" d=\"M 0 0 M2141.33 1551.96 L2141.33 1554.82 L2114.41 1554.82 Q2114.79 1560.87 2118.04 1564.05 Q2121.31 1567.2 2127.14 1567.2 Q2130.51 1567.2 2133.66 1566.37 Q2136.85 1565.55 2139.97 1563.89 L2139.97 1569.43 Q2136.81 1570.77 2133.5 1571.47 Q2130.19 1572.17 2126.79 1572.17 Q2118.26 1572.17 2113.26 1567.2 Q2108.3 1562.24 2108.3 1553.77 Q2108.3 1545.02 2113.01 1539.89 Q2117.75 1534.74 2125.77 1534.74 Q2132.96 1534.74 2137.13 1539.38 Q2141.33 1544 2141.33 1551.96 M2135.48 1550.24 Q2135.41 1545.43 2132.77 1542.57 Q2130.16 1539.7 2125.83 1539.7 Q2120.93 1539.7 2117.97 1542.47 Q2115.04 1545.24 2114.6 1550.27 L2135.48 1550.24 Z\" fill=\"#000000\" fill-rule=\"evenodd\" fill-opacity=\"1\" /><path clip-path=\"url(#clip5400)\" d=\"M 0 0 M21.9562 811.585 L21.9562 805.378 L51.875 794.238 L21.9562 783.098 L21.9562 776.891 L57.6042 790.259 L57.6042 798.217 L21.9562 811.585 Z\" fill=\"#000000\" fill-rule=\"evenodd\" fill-opacity=\"1\" /><path clip-path=\"url(#clip5400)\" d=\"M 0 0 M39.6847 754.548 Q39.6847 761.646 41.3079 764.383 Q42.9312 767.12 46.8461 767.12 Q49.9653 767.12 51.8114 765.083 Q53.6256 763.014 53.6256 759.481 Q53.6256 754.611 50.1881 751.683 Q46.7188 748.723 40.9897 748.723 L39.6847 748.723 L39.6847 754.548 M37.2657 742.867 L57.6042 742.867 L57.6042 748.723 L52.1933 748.723 Q55.4398 750.728 56.9994 753.72 Q58.5272 756.712 58.5272 761.041 Q58.5272 766.515 55.4716 769.762 Q52.3843 772.977 47.2281 772.977 Q41.2125 772.977 38.1569 768.966 Q35.1014 764.924 35.1014 756.935 L35.1014 748.723 L34.5285 748.723 Q30.4862 748.723 28.2901 751.397 Q26.0621 754.039 26.0621 758.845 Q26.0621 761.9 26.7941 764.797 Q27.5262 767.693 28.9903 770.367 L23.5795 770.367 Q22.3381 767.152 21.7334 764.128 Q21.0968 761.104 21.0968 758.24 Q21.0968 750.506 25.1072 746.686 Q29.1176 742.867 37.2657 742.867 Z\" fill=\"#000000\" fill-rule=\"evenodd\" fill-opacity=\"1\" /><path clip-path=\"url(#clip5400)\" d=\"M 0 0 M8.07896 736.724 L8.07896 730.867 L57.6042 730.867 L57.6042 736.724 L8.07896 736.724 Z\" fill=\"#000000\" fill-rule=\"evenodd\" fill-opacity=\"1\" /><path clip-path=\"url(#clip5400)\" d=\"M 0 0 M43.5359 725.329 L21.9562 725.329 L21.9562 719.473 L43.3131 719.473 Q48.3739 719.473 50.9202 717.499 Q53.4346 715.526 53.4346 711.579 Q53.4346 706.837 50.4109 704.1 Q47.3872 701.33 42.1673 701.33 L21.9562 701.33 L21.9562 695.474 L57.6042 695.474 L57.6042 701.33 L52.1296 701.33 Q55.3762 703.463 56.9676 706.296 Q58.5272 709.097 58.5272 712.821 Q58.5272 718.964 54.7078 722.146 Q50.8883 725.329 43.5359 725.329 M21.0968 710.593 L21.0968 710.593 Z\" fill=\"#000000\" fill-rule=\"evenodd\" fill-opacity=\"1\" /><path clip-path=\"url(#clip5400)\" d=\"M 0 0 M38.3161 658.839 L41.1806 658.839 L41.1806 685.766 Q47.2281 685.384 50.4109 682.138 Q53.5619 678.86 53.5619 673.035 Q53.5619 669.661 52.7344 666.51 Q51.9069 663.327 50.2518 660.208 L55.7899 660.208 Q57.1267 663.359 57.827 666.669 Q58.5272 669.979 58.5272 673.385 Q58.5272 681.915 53.5619 686.912 Q48.5967 691.877 40.1303 691.877 Q31.3774 691.877 26.2531 687.167 Q21.0968 682.424 21.0968 674.404 Q21.0968 667.21 25.7438 663.041 Q30.3589 658.839 38.3161 658.839 M36.5973 664.696 Q31.7912 664.76 28.9266 667.401 Q26.0621 670.011 26.0621 674.34 Q26.0621 679.241 28.8312 682.202 Q31.6002 685.13 36.6292 685.575 L36.5973 664.696 Z\" fill=\"#000000\" fill-rule=\"evenodd\" fill-opacity=\"1\" /><polyline clip-path=\"url(#clip5402)\" style=\"stroke:#009af9; stroke-width:4; stroke-opacity:1; fill:none\" points=\"\n",
       "  382.721,908.319 411.436,823.498 440.151,775.642 468.866,731.416 497.582,833.069 526.297,869.374 555.012,869.374 583.727,869.374 612.442,1021.85 641.157,1072.02 \n",
       "  669.872,1028.78 698.587,1150.57 727.302,1103.04 756.018,1103.04 784.733,1103.04 813.448,943.303 842.163,981.918 870.878,843.301 899.593,838.35 928.308,897.757 \n",
       "  957.023,897.757 985.739,897.757 1014.45,798.085 1043.17,735.047 1071.88,729.766 1100.6,700.393 1129.31,628.774 1158.03,628.774 1186.74,628.774 1215.46,535.702 \n",
       "  1244.17,584.878 1272.89,590.159 1301.6,674.979 1330.32,573.657 1359.03,573.657 1387.75,573.657 1416.47,616.892 1445.18,662.108 1473.9,703.033 1502.61,712.934 \n",
       "  1531.33,707.654 1560.04,707.654 1588.76,707.654 1617.47,790.494 1646.19,948.254 1674.9,1148.26 1703.62,1217.57 1732.33,1301.07 1761.05,1301.07 1789.76,1301.07 \n",
       "  1818.48,1167.73 1847.19,970.696 1875.91,752.209 1904.62,688.511 1933.34,709.304 1962.05,709.304 1990.77,709.304 2019.48,213.582 2048.2,363.75 2076.91,326.126 \n",
       "  2105.63,418.867 2134.34,337.347 2163.06,337.347 2191.77,337.347 2220.49,203.68 2249.2,234.044 2277.92,214.572 2306.63,348.569 2335.35,366.721 2364.06,366.721 \n",
       "  2392.78,366.721 2421.49,301.373 2450.21,153.184 2478.92,172.326 2507.64,172.326 2536.35,186.848 2565.07,186.848 2593.78,186.848 2622.5,239.655 2651.22,164.405 \n",
       "  2679.93,223.813 2708.65,155.164 2737.36,119.85 2766.08,119.85 2794.79,119.85 2823.51,114.899 2852.22,110.609 2880.94,86.1857 2909.65,170.676 2938.37,172.326 \n",
       "  2967.08,172.326 2995.8,172.326 3024.51,172.326 3053.23,172.326 3081.94,172.326 3110.66,172.326 3139.37,172.326 3168.09,172.326 3196.8,172.326 3225.52,172.326 \n",
       "  3254.23,172.326 3282.95,172.326 3311.66,172.326 3340.38,172.326 3369.09,172.326 3397.81,172.326 3426.52,172.326 3455.24,172.326 3483.95,172.326 3512.67,172.326 \n",
       "  3541.38,172.326 3570.1,172.326 3598.81,172.326 3627.53,172.326 3656.24,172.326 3684.96,172.326 3713.67,172.326 3742.39,172.326 3771.1,172.326 \n",
       "  \"/>\n",
       "<polyline clip-path=\"url(#clip5402)\" style=\"stroke:#e26f46; stroke-width:4; stroke-opacity:1; fill:none\" points=\"\n",
       "  382.721,930.431 411.436,832.739 440.151,741.648 468.866,745.938 497.582,832.409 526.297,849.241 555.012,858.152 583.727,887.196 612.442,1022.18 641.157,970.036 \n",
       "  669.872,1019.87 698.587,1144.96 727.302,1115.25 756.018,1098.09 784.733,1057.17 813.448,955.845 842.163,954.524 870.878,858.812 899.593,850.561 928.308,914.919 \n",
       "  957.023,885.546 985.739,878.285 1014.45,799.735 1043.17,812.937 1071.88,777.622 1100.6,702.043 1129.31,637.025 1158.03,645.606 1186.74,678.94 1215.46,529.431 \n",
       "  1244.17,601.38 1272.89,583.558 1301.6,661.448 1330.32,582.238 1359.03,573.987 1387.75,586.198 1416.47,614.252 1445.18,654.517 1473.9,683.891 1502.61,674.979 \n",
       "  1531.33,705.343 1560.04,705.013 1588.76,726.796 1617.47,796.105 1646.19,1063.11 1674.9,1226.15 1703.62,1226.48 1732.33,1299.09 1761.05,1286.55 1789.76,1301.73 \n",
       "  1818.48,1207.67 1847.19,1091.49 1875.91,928.781 1904.62,722.175 1933.34,706.003 1962.05,670.689 1990.77,621.513 2019.48,269.689 2048.2,375.962 2076.91,356.159 \n",
       "  2105.63,409.296 2134.34,389.494 2163.06,361.11 2191.77,328.436 2220.49,230.744 2249.2,222.163 2277.92,213.252 2306.63,296.422 2335.35,366.061 2364.06,371.341 \n",
       "  2392.78,383.223 2421.49,277.61 2450.21,176.617 2478.92,156.154 2507.64,383.553 2536.35,330.416 2565.07,325.136 2593.78,324.145 2622.5,243.945 2651.22,159.125 \n",
       "  2679.93,215.892 2708.65,151.534 2737.36,101.368 2766.08,124.47 2794.79,150.214 2823.51,170.346 2852.22,206.321 2880.94,178.597 2909.65,275.629 2938.37,1111.95 \n",
       "  2967.08,1091.49 2995.8,1061.13 3024.51,1030.76 3053.23,992.479 3081.94,1012.28 3110.66,1038.02 3139.37,1060.47 3168.09,1083.24 3196.8,1104.69 3225.52,1125.16 \n",
       "  3254.23,1141 3282.95,1165.09 3311.66,1196.77 3340.38,1216.58 3369.09,1238.69 3397.81,1246.94 3426.52,1258.49 3455.24,1270.04 3483.95,1282.26 3512.67,1300.74 \n",
       "  3541.38,1318.23 3570.1,1329.12 3598.81,1340.67 3627.53,1357.17 3656.24,1365.1 3684.96,1366.42 3713.67,1379.95 3742.39,1384.24 3771.1,1384.24 \n",
       "  \"/>\n",
       "<polyline clip-path=\"url(#clip5402)\" style=\"stroke:#3da44d; stroke-width:4; stroke-opacity:1; fill:none\" points=\"\n",
       "  2952.72,2799.12 2952.72,-1328.69 \n",
       "  \"/>\n",
       "<path clip-path=\"url(#clip5400)\" d=\"\n",
       "M398.67 463.884 L1220.95 463.884 L1220.95 221.964 L398.67 221.964  Z\n",
       "  \" fill=\"#ffffff\" fill-rule=\"evenodd\" fill-opacity=\"1\"/>\n",
       "<polyline clip-path=\"url(#clip5400)\" style=\"stroke:#000000; stroke-width:4; stroke-opacity:1; fill:none\" points=\"\n",
       "  398.67,463.884 1220.95,463.884 1220.95,221.964 398.67,221.964 398.67,463.884 \n",
       "  \"/>\n",
       "<polyline clip-path=\"url(#clip5400)\" style=\"stroke:#009af9; stroke-width:4; stroke-opacity:1; fill:none\" points=\"\n",
       "  437.87,282.444 673.07,282.444 \n",
       "  \"/>\n",
       "<path clip-path=\"url(#clip5400)\" d=\"M 0 0 M716.946 269.007 L716.946 295.882 L722.594 295.882 Q729.746 295.882 733.057 292.641 Q736.39 289.4 736.39 282.409 Q736.39 275.465 733.057 272.247 Q729.746 269.007 722.594 269.007 L716.946 269.007 M712.27 265.164 L721.876 265.164 Q731.922 265.164 736.621 269.354 Q741.32 273.521 741.32 282.409 Q741.32 291.345 736.598 295.534 Q731.876 299.724 721.876 299.724 L712.27 299.724 L712.27 265.164 Z\" fill=\"#000000\" fill-rule=\"evenodd\" fill-opacity=\"1\" /><path clip-path=\"url(#clip5400)\" d=\"M 0 0 M745.973 265.164 L750.649 265.164 L750.649 297.317 Q750.649 303.567 748.265 306.391 Q745.904 309.215 740.649 309.215 L738.867 309.215 L738.867 305.28 L740.325 305.28 Q743.427 305.28 744.7 303.544 Q745.973 301.807 745.973 297.317 L745.973 265.164 Z\" fill=\"#000000\" fill-rule=\"evenodd\" fill-opacity=\"1\" /><path clip-path=\"url(#clip5400)\" d=\"M 0 0 M755.302 265.164 L759.978 265.164 L759.978 299.724 L755.302 299.724 L755.302 265.164 Z\" fill=\"#000000\" fill-rule=\"evenodd\" fill-opacity=\"1\" /><path clip-path=\"url(#clip5400)\" d=\"M 0 0 M776.181 269.771 L769.839 286.97 L782.547 286.97 L776.181 269.771 M773.542 265.164 L778.843 265.164 L792.015 299.724 L787.153 299.724 L784.005 290.858 L768.427 290.858 L765.279 299.724 L760.348 299.724 L773.542 265.164 Z\" fill=\"#000000\" fill-rule=\"evenodd\" fill-opacity=\"1\" /><polyline clip-path=\"url(#clip5400)\" style=\"stroke:#e26f46; stroke-width:4; stroke-opacity:1; fill:none\" points=\"\n",
       "  437.87,342.924 673.07,342.924 \n",
       "  \"/>\n",
       "<path clip-path=\"url(#clip5400)\" d=\"M 0 0 M716.552 356.315 L716.552 370.065 L712.27 370.065 L712.27 334.278 L716.552 334.278 L716.552 338.213 Q717.895 335.899 719.932 334.788 Q721.992 333.653 724.839 333.653 Q729.561 333.653 732.501 337.403 Q735.464 341.153 735.464 347.264 Q735.464 353.375 732.501 357.125 Q729.561 360.875 724.839 360.875 Q721.992 360.875 719.932 359.764 Q717.895 358.63 716.552 356.315 M731.043 347.264 Q731.043 342.565 729.098 339.903 Q727.177 337.218 723.797 337.218 Q720.418 337.218 718.473 339.903 Q716.552 342.565 716.552 347.264 Q716.552 351.963 718.473 354.649 Q720.418 357.311 723.797 357.311 Q727.177 357.311 729.098 354.649 Q731.043 351.963 731.043 347.264 Z\" fill=\"#000000\" fill-rule=\"evenodd\" fill-opacity=\"1\" /><path clip-path=\"url(#clip5400)\" d=\"M 0 0 M754.955 338.26 Q754.237 337.843 753.381 337.658 Q752.547 337.45 751.529 337.45 Q747.918 337.45 745.973 339.811 Q744.052 342.149 744.052 346.547 L744.052 360.204 L739.769 360.204 L739.769 334.278 L744.052 334.278 L744.052 338.306 Q745.394 335.945 747.547 334.811 Q749.7 333.653 752.779 333.653 Q753.218 333.653 753.751 333.723 Q754.283 333.769 754.931 333.885 L754.955 338.26 Z\" fill=\"#000000\" fill-rule=\"evenodd\" fill-opacity=\"1\" /><path clip-path=\"url(#clip5400)\" d=\"M 0 0 M780.556 346.176 L780.556 348.26 L760.973 348.26 Q761.251 352.658 763.612 354.973 Q765.996 357.264 770.232 357.264 Q772.686 357.264 774.978 356.662 Q777.292 356.061 779.561 354.857 L779.561 358.885 Q777.269 359.857 774.862 360.366 Q772.455 360.875 769.978 360.875 Q763.774 360.875 760.14 357.264 Q756.529 353.653 756.529 347.496 Q756.529 341.13 759.955 337.403 Q763.404 333.653 769.237 333.653 Q774.468 333.653 777.501 337.033 Q780.556 340.389 780.556 346.176 M776.297 344.926 Q776.251 341.431 774.329 339.348 Q772.431 337.264 769.283 337.264 Q765.718 337.264 763.566 339.278 Q761.436 341.292 761.112 344.95 L776.297 344.926 Z\" fill=\"#000000\" fill-rule=\"evenodd\" fill-opacity=\"1\" /><path clip-path=\"url(#clip5400)\" d=\"M 0 0 M802.084 338.213 L802.084 324.186 L806.343 324.186 L806.343 360.204 L802.084 360.204 L802.084 356.315 Q800.741 358.63 798.681 359.764 Q796.644 360.875 793.774 360.875 Q789.075 360.875 786.112 357.125 Q783.172 353.375 783.172 347.264 Q783.172 341.153 786.112 337.403 Q789.075 333.653 793.774 333.653 Q796.644 333.653 798.681 334.788 Q800.741 335.899 802.084 338.213 M787.57 347.264 Q787.57 351.963 789.491 354.649 Q791.436 357.311 794.815 357.311 Q798.195 357.311 800.14 354.649 Q802.084 351.963 802.084 347.264 Q802.084 342.565 800.14 339.903 Q798.195 337.218 794.815 337.218 Q791.436 337.218 789.491 339.903 Q787.57 342.565 787.57 347.264 Z\" fill=\"#000000\" fill-rule=\"evenodd\" fill-opacity=\"1\" /><path clip-path=\"url(#clip5400)\" d=\"M 0 0 M810.811 334.278 L815.07 334.278 L815.07 360.204 L810.811 360.204 L810.811 334.278 M810.811 324.186 L815.07 324.186 L815.07 329.579 L810.811 329.579 L810.811 324.186 Z\" fill=\"#000000\" fill-rule=\"evenodd\" fill-opacity=\"1\" /><path clip-path=\"url(#clip5400)\" d=\"M 0 0 M823.751 326.917 L823.751 334.278 L832.524 334.278 L832.524 337.588 L823.751 337.588 L823.751 351.662 Q823.751 354.834 824.607 355.737 Q825.487 356.639 828.149 356.639 L832.524 356.639 L832.524 360.204 L828.149 360.204 Q823.218 360.204 821.343 358.375 Q819.468 356.524 819.468 351.662 L819.468 337.588 L816.343 337.588 L816.343 334.278 L819.468 334.278 L819.468 326.917 L823.751 326.917 Z\" fill=\"#000000\" fill-rule=\"evenodd\" fill-opacity=\"1\" /><path clip-path=\"url(#clip5400)\" d=\"M 0 0 M836.991 334.278 L841.25 334.278 L841.25 360.204 L836.991 360.204 L836.991 334.278 M836.991 324.186 L841.25 324.186 L841.25 329.579 L836.991 329.579 L836.991 324.186 Z\" fill=\"#000000\" fill-rule=\"evenodd\" fill-opacity=\"1\" /><path clip-path=\"url(#clip5400)\" d=\"M 0 0 M855.764 337.264 Q852.338 337.264 850.348 339.95 Q848.357 342.612 848.357 347.264 Q848.357 351.917 850.324 354.602 Q852.315 357.264 855.764 357.264 Q859.167 357.264 861.158 354.579 Q863.148 351.894 863.148 347.264 Q863.148 342.658 861.158 339.973 Q859.167 337.264 855.764 337.264 M855.764 333.653 Q861.32 333.653 864.491 337.264 Q867.662 340.875 867.662 347.264 Q867.662 353.63 864.491 357.264 Q861.32 360.875 855.764 360.875 Q850.186 360.875 847.014 357.264 Q843.866 353.63 843.866 347.264 Q843.866 340.875 847.014 337.264 Q850.186 333.653 855.764 333.653 Z\" fill=\"#000000\" fill-rule=\"evenodd\" fill-opacity=\"1\" /><path clip-path=\"url(#clip5400)\" d=\"M 0 0 M893.681 344.556 L893.681 360.204 L889.421 360.204 L889.421 344.695 Q889.421 341.014 887.986 339.186 Q886.551 337.357 883.681 337.357 Q880.232 337.357 878.241 339.556 Q876.25 341.755 876.25 345.551 L876.25 360.204 L871.968 360.204 L871.968 334.278 L876.25 334.278 L876.25 338.306 Q877.778 335.968 879.838 334.811 Q881.922 333.653 884.63 333.653 Q889.097 333.653 891.389 336.431 Q893.681 339.186 893.681 344.556 Z\" fill=\"#000000\" fill-rule=\"evenodd\" fill-opacity=\"1\" /><path clip-path=\"url(#clip5400)\" d=\"M 0 0 M914.676 335.042 L914.676 339.07 Q912.87 338.144 910.926 337.681 Q908.982 337.218 906.898 337.218 Q903.727 337.218 902.13 338.19 Q900.556 339.163 900.556 341.107 Q900.556 342.588 901.69 343.445 Q902.824 344.278 906.25 345.042 L907.708 345.366 Q912.245 346.338 914.144 348.121 Q916.065 349.88 916.065 353.051 Q916.065 356.662 913.194 358.769 Q910.347 360.875 905.347 360.875 Q903.264 360.875 900.995 360.459 Q898.75 360.065 896.25 359.255 L896.25 354.857 Q898.611 356.084 900.903 356.709 Q903.195 357.311 905.44 357.311 Q908.449 357.311 910.07 356.292 Q911.69 355.25 911.69 353.375 Q911.69 351.639 910.509 350.713 Q909.352 349.787 905.394 348.931 L903.912 348.584 Q899.954 347.75 898.195 346.038 Q896.435 344.301 896.435 341.292 Q896.435 337.635 899.028 335.644 Q901.62 333.653 906.389 333.653 Q908.75 333.653 910.833 334.001 Q912.917 334.348 914.676 335.042 Z\" fill=\"#000000\" fill-rule=\"evenodd\" fill-opacity=\"1\" /><polyline clip-path=\"url(#clip5400)\" style=\"stroke:#3da44d; stroke-width:4; stroke-opacity:1; fill:none\" points=\"\n",
       "  437.87,403.404 673.07,403.404 \n",
       "  \"/>\n",
       "<path clip-path=\"url(#clip5400)\" d=\"M 0 0 M712.27 386.124 L741.506 386.124 L741.506 390.059 L729.237 390.059 L729.237 420.684 L724.538 420.684 L724.538 390.059 L712.27 390.059 L712.27 386.124 Z\" fill=\"#000000\" fill-rule=\"evenodd\" fill-opacity=\"1\" /><path clip-path=\"url(#clip5400)\" d=\"M 0 0 M747.964 397.744 Q744.538 397.744 742.547 400.43 Q740.557 403.092 740.557 407.744 Q740.557 412.397 742.524 415.082 Q744.515 417.744 747.964 417.744 Q751.367 417.744 753.357 415.059 Q755.348 412.374 755.348 407.744 Q755.348 403.138 753.357 400.453 Q751.367 397.744 747.964 397.744 M747.964 394.133 Q753.519 394.133 756.691 397.744 Q759.862 401.355 759.862 407.744 Q759.862 414.11 756.691 417.744 Q753.519 421.355 747.964 421.355 Q742.385 421.355 739.214 417.744 Q736.066 414.11 736.066 407.744 Q736.066 401.355 739.214 397.744 Q742.385 394.133 747.964 394.133 Z\" fill=\"#000000\" fill-rule=\"evenodd\" fill-opacity=\"1\" /><path clip-path=\"url(#clip5400)\" d=\"M 0 0 M781.39 398.693 L781.39 384.666 L785.649 384.666 L785.649 420.684 L781.39 420.684 L781.39 416.795 Q780.047 419.11 777.987 420.244 Q775.95 421.355 773.08 421.355 Q768.38 421.355 765.418 417.605 Q762.478 413.855 762.478 407.744 Q762.478 401.633 765.418 397.883 Q768.38 394.133 773.08 394.133 Q775.95 394.133 777.987 395.268 Q780.047 396.379 781.39 398.693 M766.876 407.744 Q766.876 412.443 768.797 415.129 Q770.742 417.791 774.121 417.791 Q777.501 417.791 779.445 415.129 Q781.39 412.443 781.39 407.744 Q781.39 403.045 779.445 400.383 Q777.501 397.698 774.121 397.698 Q770.742 397.698 768.797 400.383 Q766.876 403.045 766.876 407.744 Z\" fill=\"#000000\" fill-rule=\"evenodd\" fill-opacity=\"1\" /><path clip-path=\"url(#clip5400)\" d=\"M 0 0 M801.899 407.652 Q796.737 407.652 794.746 408.832 Q792.755 410.013 792.755 412.86 Q792.755 415.129 794.237 416.471 Q795.741 417.791 798.311 417.791 Q801.852 417.791 803.982 415.291 Q806.135 412.767 806.135 408.601 L806.135 407.652 L801.899 407.652 M810.394 405.893 L810.394 420.684 L806.135 420.684 L806.135 416.749 Q804.677 419.11 802.501 420.244 Q800.325 421.355 797.177 421.355 Q793.195 421.355 790.834 419.133 Q788.496 416.888 788.496 413.138 Q788.496 408.763 791.413 406.541 Q794.353 404.318 800.163 404.318 L806.135 404.318 L806.135 403.902 Q806.135 400.962 804.19 399.365 Q802.269 397.744 798.774 397.744 Q796.552 397.744 794.445 398.277 Q792.339 398.809 790.394 399.874 L790.394 395.939 Q792.732 395.036 794.931 394.596 Q797.13 394.133 799.214 394.133 Q804.839 394.133 807.616 397.05 Q810.394 399.967 810.394 405.893 Z\" fill=\"#000000\" fill-rule=\"evenodd\" fill-opacity=\"1\" /><path clip-path=\"url(#clip5400)\" d=\"M 0 0 M825.649 423.091 Q823.843 427.721 822.13 429.133 Q820.417 430.545 817.547 430.545 L814.144 430.545 L814.144 426.98 L816.644 426.98 Q818.403 426.98 819.376 426.147 Q820.348 425.314 821.528 422.212 L822.292 420.267 L811.806 394.758 L816.32 394.758 L824.422 415.036 L832.524 394.758 L837.037 394.758 L825.649 423.091 Z\" fill=\"#000000\" fill-rule=\"evenodd\" fill-opacity=\"1\" /><path clip-path=\"url(#clip5400)\" d=\"M 0 0 M861.436 389.967 L861.436 416.842 L867.084 416.842 Q874.236 416.842 877.547 413.601 Q880.88 410.36 880.88 403.369 Q880.88 396.425 877.547 393.207 Q874.236 389.967 867.084 389.967 L861.436 389.967 M856.76 386.124 L866.366 386.124 Q876.412 386.124 881.111 390.314 Q885.81 394.481 885.81 403.369 Q885.81 412.305 881.088 416.494 Q876.366 420.684 866.366 420.684 L856.76 420.684 L856.76 386.124 Z\" fill=\"#000000\" fill-rule=\"evenodd\" fill-opacity=\"1\" /><path clip-path=\"url(#clip5400)\" d=\"M 0 0 M912.454 406.656 L912.454 408.74 L892.871 408.74 Q893.148 413.138 895.509 415.453 Q897.894 417.744 902.13 417.744 Q904.583 417.744 906.875 417.142 Q909.19 416.541 911.458 415.337 L911.458 419.365 Q909.167 420.337 906.759 420.846 Q904.352 421.355 901.875 421.355 Q895.671 421.355 892.037 417.744 Q888.426 414.133 888.426 407.976 Q888.426 401.61 891.852 397.883 Q895.301 394.133 901.134 394.133 Q906.366 394.133 909.398 397.513 Q912.454 400.869 912.454 406.656 M908.195 405.406 Q908.148 401.911 906.227 399.828 Q904.329 397.744 901.181 397.744 Q897.616 397.744 895.463 399.758 Q893.333 401.772 893.009 405.43 L908.195 405.406 Z\" fill=\"#000000\" fill-rule=\"evenodd\" fill-opacity=\"1\" /><path clip-path=\"url(#clip5400)\" d=\"M 0 0 M935.579 395.754 L935.579 399.735 Q933.773 398.74 931.944 398.254 Q930.139 397.744 928.287 397.744 Q924.144 397.744 921.852 400.383 Q919.56 402.999 919.56 407.744 Q919.56 412.49 921.852 415.129 Q924.144 417.744 928.287 417.744 Q930.139 417.744 931.944 417.258 Q933.773 416.749 935.579 415.754 L935.579 419.689 Q933.796 420.522 931.875 420.939 Q929.977 421.355 927.824 421.355 Q921.968 421.355 918.519 417.675 Q915.069 413.994 915.069 407.744 Q915.069 401.402 918.542 397.768 Q922.037 394.133 928.102 394.133 Q930.069 394.133 931.944 394.55 Q933.819 394.943 935.579 395.754 Z\" fill=\"#000000\" fill-rule=\"evenodd\" fill-opacity=\"1\" /><path clip-path=\"url(#clip5400)\" d=\"M 0 0 M940.648 414.804 L945.532 414.804 L945.532 420.684 L940.648 420.684 L940.648 414.804 Z\" fill=\"#000000\" fill-rule=\"evenodd\" fill-opacity=\"1\" /><path clip-path=\"url(#clip5400)\" d=\"M 0 0 M966.481 416.749 L974.12 416.749 L974.12 390.383 L965.81 392.05 L965.81 387.791 L974.074 386.124 L978.75 386.124 L978.75 416.749 L986.389 416.749 L986.389 420.684 L966.481 420.684 L966.481 416.749 Z\" fill=\"#000000\" fill-rule=\"evenodd\" fill-opacity=\"1\" /><path clip-path=\"url(#clip5400)\" d=\"M 0 0 M992.268 416.749 L999.907 416.749 L999.907 390.383 L991.597 392.05 L991.597 387.791 L999.861 386.124 L1004.54 386.124 L1004.54 416.749 L1012.18 416.749 L1012.18 420.684 L992.268 420.684 L992.268 416.749 Z\" fill=\"#000000\" fill-rule=\"evenodd\" fill-opacity=\"1\" /><path clip-path=\"url(#clip5400)\" d=\"M 0 0 M1017.73 414.804 L1022.62 414.804 L1022.62 418.786 L1018.82 426.193 L1015.83 426.193 L1017.73 418.786 L1017.73 414.804 Z\" fill=\"#000000\" fill-rule=\"evenodd\" fill-opacity=\"1\" /><path clip-path=\"url(#clip5400)\" d=\"M 0 0 M1046.78 416.749 L1063.1 416.749 L1063.1 420.684 L1041.16 420.684 L1041.16 416.749 Q1043.82 413.994 1048.4 409.365 Q1053.01 404.712 1054.19 403.369 Q1056.43 400.846 1057.31 399.11 Q1058.22 397.351 1058.22 395.661 Q1058.22 392.906 1056.27 391.17 Q1054.35 389.434 1051.25 389.434 Q1049.05 389.434 1046.6 390.198 Q1044.17 390.962 1041.39 392.513 L1041.39 387.791 Q1044.21 386.656 1046.67 386.078 Q1049.12 385.499 1051.16 385.499 Q1056.53 385.499 1059.72 388.184 Q1062.92 390.869 1062.92 395.36 Q1062.92 397.49 1062.11 399.411 Q1061.32 401.309 1059.21 403.902 Q1058.63 404.573 1055.53 407.791 Q1052.43 410.985 1046.78 416.749 Z\" fill=\"#000000\" fill-rule=\"evenodd\" fill-opacity=\"1\" /><path clip-path=\"url(#clip5400)\" d=\"M 0 0 M1078.17 389.203 Q1074.56 389.203 1072.73 392.768 Q1070.93 396.309 1070.93 403.439 Q1070.93 410.545 1072.73 414.11 Q1074.56 417.652 1078.17 417.652 Q1081.8 417.652 1083.61 414.11 Q1085.44 410.545 1085.44 403.439 Q1085.44 396.309 1083.61 392.768 Q1081.8 389.203 1078.17 389.203 M1078.17 385.499 Q1083.98 385.499 1087.04 390.106 Q1090.11 394.689 1090.11 403.439 Q1090.11 412.166 1087.04 416.772 Q1083.98 421.355 1078.17 421.355 Q1072.36 421.355 1069.28 416.772 Q1066.23 412.166 1066.23 403.439 Q1066.23 394.689 1069.28 390.106 Q1072.36 385.499 1078.17 385.499 Z\" fill=\"#000000\" fill-rule=\"evenodd\" fill-opacity=\"1\" /><path clip-path=\"url(#clip5400)\" d=\"M 0 0 M1099.21 416.749 L1115.53 416.749 L1115.53 420.684 L1093.59 420.684 L1093.59 416.749 Q1096.25 413.994 1100.83 409.365 Q1105.44 404.712 1106.62 403.369 Q1108.86 400.846 1109.74 399.11 Q1110.65 397.351 1110.65 395.661 Q1110.65 392.906 1108.7 391.17 Q1106.78 389.434 1103.68 389.434 Q1101.48 389.434 1099.03 390.198 Q1096.6 390.962 1093.82 392.513 L1093.82 387.791 Q1096.64 386.656 1099.1 386.078 Q1101.55 385.499 1103.59 385.499 Q1108.96 385.499 1112.15 388.184 Q1115.35 390.869 1115.35 395.36 Q1115.35 397.49 1114.54 399.411 Q1113.75 401.309 1111.64 403.902 Q1111.06 404.573 1107.96 407.791 Q1104.86 410.985 1099.21 416.749 Z\" fill=\"#000000\" fill-rule=\"evenodd\" fill-opacity=\"1\" /><path clip-path=\"url(#clip5400)\" d=\"M 0 0 M1130.6 389.203 Q1126.99 389.203 1125.16 392.768 Q1123.36 396.309 1123.36 403.439 Q1123.36 410.545 1125.16 414.11 Q1126.99 417.652 1130.6 417.652 Q1134.23 417.652 1136.04 414.11 Q1137.87 410.545 1137.87 403.439 Q1137.87 396.309 1136.04 392.768 Q1134.23 389.203 1130.6 389.203 M1130.6 385.499 Q1136.41 385.499 1139.47 390.106 Q1142.55 394.689 1142.55 403.439 Q1142.55 412.166 1139.47 416.772 Q1136.41 421.355 1130.6 421.355 Q1124.79 421.355 1121.71 416.772 Q1118.66 412.166 1118.66 403.439 Q1118.66 394.689 1121.71 390.106 Q1124.79 385.499 1130.6 385.499 Z\" fill=\"#000000\" fill-rule=\"evenodd\" fill-opacity=\"1\" /></svg>\n"
      ]
     },
     "execution_count": 12,
     "metadata": {},
     "output_type": "execute_result"
    }
   ],
   "source": [
    "using Plots\n",
    "\n",
    "#dates = format_dates( df[rows,2] , \"m/d/yy\")\n",
    "\n",
    "gr()\n",
    "plot(    x_axis_dates,\n",
    "        [  y_axis_original y_axis_predicted \n",
    "        ], # y-axis\n",
    "    label    = \n",
    "        [ symbol_to_predict \"preditions\"  \"\" ],\n",
    "    legend   =:topleft, \n",
    "              # :right, :left, :top, :bottom, :inside, :best, :legend, :topright, :topleft, :bottomleft, :bottomright\n",
    "    xlabel   = \"time\",\n",
    "    ylabel   = \"value\",\n",
    "    size     = (980, 400), # width, height\n",
    "    layout = (1, 1), # number of graphs: vertically, horizontally\n",
    "    )\n",
    "## Add veritical today line\n",
    "plot!([today_id], seriestype=\"vline\", label=[ \"Today \"*t \"\" ],)\n"
   ]
  },
  {
   "cell_type": "code",
   "execution_count": 13,
   "metadata": {
    "ExecuteTime": {
     "end_time": "2020-12-11T19:16:04.189000-05:00",
     "start_time": "2020-12-12T00:15:06.672Z"
    }
   },
   "outputs": [],
   "source": [
    "savefig(\"../images/predictions_\" * symbol_to_predict * \".png\")"
   ]
  },
  {
   "cell_type": "code",
   "execution_count": 14,
   "metadata": {
    "ExecuteTime": {
     "end_time": "2020-12-11T19:16:04.702000-05:00",
     "start_time": "2020-12-12T00:15:06.675Z"
    }
   },
   "outputs": [
    {
     "name": "stdout",
     "output_type": "stream",
     "text": [
      "DJIA 2020-12-11\n",
      "Sat, 2020-12-05\t predicted 30204.0\t, but actual value was \t30218.0\t difference is 14.0\n",
      "Sun, 2020-12-06\t predicted 30126.0\t, but actual value was \t30218.0\t difference is 92.0\n",
      "Mon, 2020-12-07\t predicted 30065.0\t, but actual value was \t30233.0\t difference is 168.0\n",
      "Tue, 2020-12-08\t predicted 29956.0\t, but actual value was \t30246.0\t difference is 290.0\n",
      "Wed, 2020-12-09\t predicted 30040.0\t, but actual value was \t30320.0\t difference is 280.0\n",
      "Thu, 2020-12-10\t predicted 29746.0\t, but actual value was \t30064.0\t difference is 318.0\n",
      "Fri, 2020-12-11\t predicted 27212.0\n",
      "Sat, 2020-12-12\t predicted 27274.0\n",
      "Sun, 2020-12-13\t predicted 27366.0\n"
     ]
    }
   ],
   "source": [
    "## print prediction comparisons\n",
    "println(symbol_to_predict, \" \", today())\n",
    "\n",
    "file_path = \"../DATA/\" * symbol_to_predict * \"_pedictions.csv\"\n",
    "open( file_path, \"a\") do file_handle # append\n",
    "    \n",
    "    for id in finem-35:finem\n",
    "        if id < today_id + 3\n",
    "            row = get(data_predictions, id) # get a dictionary of data from the SFrame\n",
    "            date_string = row[\"Date\"] # e.g. \"2020-10-20\"\n",
    "\n",
    "            a = y_axis_predicted[id]\n",
    "            b = y_axis_original[id]\n",
    "            d = round(b-a, digits=3)\n",
    "            date = convert(String, Dates.format( Date(date_string), \"e, yyyy-mm-dd\" ) )\n",
    "            if id < today_id\n",
    "                println( date, \"\\t predicted \", a , \"\\t, but actual value was \\t\", b , \"\\t difference is \",  d  ) # di\n",
    "            else\n",
    "                println( date, \"\\t predicted \", a  ) # \n",
    "\n",
    "                txt_to_save =  \n",
    "                    convert(String, Dates.format( today(), \"yyyy-mm-dd\" ) ) *\",\"* \n",
    "                    convert(String, symbol_to_predict) *\",\"* \n",
    "                    date_string *\",\"* \n",
    "                    string(a) * \"\\n\"\n",
    "                \n",
    "                write(file_handle, txt_to_save )\n",
    "                \n",
    "            end # if\n",
    "        end #if \n",
    "    end # for\n",
    "end # open file"
   ]
  },
  {
   "cell_type": "code",
   "execution_count": null,
   "metadata": {},
   "outputs": [],
   "source": []
  },
  {
   "cell_type": "code",
   "execution_count": null,
   "metadata": {},
   "outputs": [],
   "source": []
  }
 ],
 "metadata": {
  "kernelspec": {
   "display_name": "Julia 1.5.1",
   "language": "julia",
   "name": "julia-1.5"
  },
  "language_info": {
   "file_extension": ".jl",
   "mimetype": "application/julia",
   "name": "julia",
   "version": "1.5.1"
  },
  "toc": {
   "base_numbering": 1,
   "nav_menu": {},
   "number_sections": true,
   "sideBar": true,
   "skip_h1_title": true,
   "title_cell": "Table of Contents",
   "title_sidebar": "Contents",
   "toc_cell": true,
   "toc_position": {},
   "toc_section_display": true,
   "toc_window_display": true
  },
  "varInspector": {
   "cols": {
    "lenName": 16,
    "lenType": 16,
    "lenVar": 40
   },
   "kernels_config": {
    "python": {
     "delete_cmd_postfix": "",
     "delete_cmd_prefix": "del ",
     "library": "var_list.py",
     "varRefreshCmd": "print(var_dic_list())"
    },
    "r": {
     "delete_cmd_postfix": ") ",
     "delete_cmd_prefix": "rm(",
     "library": "var_list.r",
     "varRefreshCmd": "cat(var_dic_list()) "
    }
   },
   "types_to_exclude": [
    "module",
    "function",
    "builtin_function_or_method",
    "instance",
    "_Feature"
   ],
   "window_display": false
  }
 },
 "nbformat": 4,
 "nbformat_minor": 4
}
