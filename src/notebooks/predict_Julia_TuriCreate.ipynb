{
 "cells": [
  {
   "cell_type": "markdown",
   "metadata": {},
   "source": [
    "# Prediction Model using TuriCreate in Julia"
   ]
  },
  {
   "cell_type": "markdown",
   "metadata": {
    "toc": true
   },
   "source": [
    "<h1>Table of Contents<span class=\"tocSkip\"></span></h1>\n",
    "<div class=\"toc\"><ul class=\"toc-item\"><li><span><a href=\"#Set-Up\" data-toc-modified-id=\"Set-Up-1\"><span class=\"toc-item-num\">1&nbsp;&nbsp;</span>Set Up</a></span></li><li><span><a href=\"#Fetch-Data-(SFrame)-from-Uber-CSV\" data-toc-modified-id=\"Fetch-Data-(SFrame)-from-Uber-CSV-2\"><span class=\"toc-item-num\">2&nbsp;&nbsp;</span>Fetch Data (SFrame) from Uber CSV</a></span></li><li><span><a href=\"#Split-Data\" data-toc-modified-id=\"Split-Data-3\"><span class=\"toc-item-num\">3&nbsp;&nbsp;</span>Split Data</a></span></li><li><span><a href=\"#Evaluate-the-Model\" data-toc-modified-id=\"Evaluate-the-Model-4\"><span class=\"toc-item-num\">4&nbsp;&nbsp;</span>Evaluate the Model</a></span></li><li><span><a href=\"#Save-/-Export-the-Model\" data-toc-modified-id=\"Save-/-Export-the-Model-5\"><span class=\"toc-item-num\">5&nbsp;&nbsp;</span>Save / Export the Model</a></span></li><li><span><a href=\"#Make-predictions\" data-toc-modified-id=\"Make-predictions-6\"><span class=\"toc-item-num\">6&nbsp;&nbsp;</span>Make predictions</a></span><ul class=\"toc-item\"><li><span><a href=\"#Explore-SFrame\" data-toc-modified-id=\"Explore-SFrame-6.1\"><span class=\"toc-item-num\">6.1&nbsp;&nbsp;</span>Explore SFrame</a></span></li></ul></li></ul></div>"
   ]
  },
  {
   "cell_type": "markdown",
   "metadata": {},
   "source": [
    "## Set Up"
   ]
  },
  {
   "cell_type": "code",
   "execution_count": 1,
   "metadata": {
    "ExecuteTime": {
     "end_time": "2020-12-11T21:25:53.890000-05:00",
     "start_time": "2020-12-12T02:25:53.161Z"
    }
   },
   "outputs": [
    {
     "name": "stdout",
     "output_type": "stream",
     "text": [
      "\n"
     ]
    }
   ],
   "source": [
    "symbol_to_predict = \"DJIA\"\n",
    "symbol_to_predict = \"AAPL\"\n",
    "symbol_to_predict = \"VIX\"\n",
    "symbol_to_predict = \"NVDA\"\n",
    "symbol_to_predict = \"TPLGX\"\n",
    "symbol_to_predict = \"CRSP\"\n",
    "symbol_to_predict = \"TSLA\"\n",
    "symbol_to_predict = \"BABA\"\n",
    "\n",
    "\n",
    "\n",
    "\n",
    "\n",
    "features_to_analyze = \n",
    "[\n",
    "  \n",
    "\"GSPC_Avg005\"\n",
    ",\"GSPC_Avg010\"\n",
    ",\"GSPC_Avg030\"\n",
    ",\"GSPC_Avg060\"\n",
    ",\"GSPC_Avg090\"\n",
    ",\"GSPC_Avg120\"\n",
    ",\"GSPC_Avg180\"\n",
    "  \n",
    ",\"BTC_USD_Avg005\"\n",
    ",\"BTC_USD_Avg010\"\n",
    ",\"BTC_USD_Avg030\"\n",
    ",\"BTC_USD_Avg060\"\n",
    ",\"BTC_USD_Avg090\"\n",
    ",\"BTC_USD_Avg120\"\n",
    ",\"BTC_USD_Avg180\"\n",
    "  \n",
    ",\"DALLAS_FED_MFC_Avg005\"\n",
    ",\"DALLAS_FED_MFC_Avg010\"\n",
    ",\"DALLAS_FED_MFC_Avg030\"\n",
    ",\"DALLAS_FED_MFC_Avg060\"\n",
    ",\"DALLAS_FED_MFC_Avg090\"\n",
    ",\"DALLAS_FED_MFC_Avg120\"\n",
    ",\"DALLAS_FED_MFC_Avg180\"\n",
    "  \n",
    ",\"GOLD_Avg005\"\n",
    ",\"GOLD_Avg010\"\n",
    ",\"GOLD_Avg030\"\n",
    ",\"GOLD_Avg060\"\n",
    ",\"GOLD_Avg090\"\n",
    ",\"GOLD_Avg120\"\n",
    ",\"GOLD_Avg180\"\n",
    "  \n",
    ",\"GELYF_Avg005\"\n",
    ",\"GELYF_Avg010\"\n",
    ",\"GELYF_Avg030\"\n",
    ",\"GELYF_Avg060\"\n",
    ",\"GELYF_Avg090\"\n",
    ",\"GELYF_Avg120\"\n",
    ",\"GELYF_Avg180\"\n",
    "  \n",
    ",\"US_PEND_HOME_SALE_M_Avg005\"\n",
    ",\"US_PEND_HOME_SALE_M_Avg010\"\n",
    ",\"US_PEND_HOME_SALE_M_Avg030\"\n",
    ",\"US_PEND_HOME_SALE_M_Avg060\"\n",
    ",\"US_PEND_HOME_SALE_M_Avg090\"\n",
    ",\"US_PEND_HOME_SALE_M_Avg120\"\n",
    ",\"US_PEND_HOME_SALE_M_Avg180\"\n",
    "  \n",
    ",\"TNX_Avg005\"\n",
    ",\"TNX_Avg010\"\n",
    ",\"TNX_Avg030\"\n",
    ",\"TNX_Avg060\"\n",
    ",\"TNX_Avg090\"\n",
    ",\"TNX_Avg120\"\n",
    ",\"TNX_Avg180\"\n",
    "  \n",
    ",\"TSLA_Avg005\"\n",
    ",\"TSLA_Avg010\"\n",
    ",\"TSLA_Avg030\"\n",
    ",\"TSLA_Avg060\"\n",
    ",\"TSLA_Avg090\"\n",
    ",\"TSLA_Avg120\"\n",
    ",\"TSLA_Avg180\"\n",
    "  \n",
    ",\"US_BUILD_PERM_Avg005\"\n",
    ",\"US_BUILD_PERM_Avg010\"\n",
    ",\"US_BUILD_PERM_Avg030\"\n",
    ",\"US_BUILD_PERM_Avg060\"\n",
    ",\"US_BUILD_PERM_Avg090\"\n",
    ",\"US_BUILD_PERM_Avg120\"\n",
    ",\"US_BUILD_PERM_Avg180\"\n",
    "  \n",
    ",\"BYDDF_Avg005\"\n",
    ",\"BYDDF_Avg010\"\n",
    ",\"BYDDF_Avg030\"\n",
    ",\"BYDDF_Avg060\"\n",
    ",\"BYDDF_Avg090\"\n",
    ",\"BYDDF_Avg120\"\n",
    ",\"BYDDF_Avg180\"\n",
    "  \n",
    ",\"US_INDS_PROD_M_Avg005\"\n",
    ",\"US_INDS_PROD_M_Avg010\"\n",
    ",\"US_INDS_PROD_M_Avg030\"\n",
    ",\"US_INDS_PROD_M_Avg060\"\n",
    ",\"US_INDS_PROD_M_Avg090\"\n",
    ",\"US_INDS_PROD_M_Avg120\"\n",
    ",\"US_INDS_PROD_M_Avg180\"\n",
    "  \n",
    ",\"US_ISM_MFC_EMPL_Avg005\"\n",
    ",\"US_ISM_MFC_EMPL_Avg010\"\n",
    ",\"US_ISM_MFC_EMPL_Avg030\"\n",
    ",\"US_ISM_MFC_EMPL_Avg060\"\n",
    ",\"US_ISM_MFC_EMPL_Avg090\"\n",
    ",\"US_ISM_MFC_EMPL_Avg120\"\n",
    ",\"US_ISM_MFC_EMPL_Avg180\"\n",
    "  \n",
    ",\"US_INIT_JOB_CLAIM_Avg005\"\n",
    ",\"US_INIT_JOB_CLAIM_Avg010\"\n",
    ",\"US_INIT_JOB_CLAIM_Avg030\"\n",
    ",\"US_INIT_JOB_CLAIM_Avg060\"\n",
    ",\"US_INIT_JOB_CLAIM_Avg090\"\n",
    ",\"US_INIT_JOB_CLAIM_Avg120\"\n",
    ",\"US_INIT_JOB_CLAIM_Avg180\"\n",
    "  \n",
    ",\"US_UNEMPLOY_RATE_Avg005\"\n",
    ",\"US_UNEMPLOY_RATE_Avg010\"\n",
    ",\"US_UNEMPLOY_RATE_Avg030\"\n",
    ",\"US_UNEMPLOY_RATE_Avg060\"\n",
    ",\"US_UNEMPLOY_RATE_Avg090\"\n",
    ",\"US_UNEMPLOY_RATE_Avg120\"\n",
    ",\"US_UNEMPLOY_RATE_Avg180\"\n",
    "  \n",
    ",\"NVDA_Avg005\"\n",
    ",\"NVDA_Avg010\"\n",
    ",\"NVDA_Avg030\"\n",
    ",\"NVDA_Avg060\"\n",
    ",\"NVDA_Avg090\"\n",
    ",\"NVDA_Avg120\"\n",
    ",\"NVDA_Avg180\"\n",
    "  \n",
    ",\"NRMGX_Avg005\"\n",
    ",\"NRMGX_Avg010\"\n",
    ",\"NRMGX_Avg030\"\n",
    ",\"NRMGX_Avg060\"\n",
    ",\"NRMGX_Avg090\"\n",
    ",\"NRMGX_Avg120\"\n",
    ",\"NRMGX_Avg180\"\n",
    "  \n",
    ",\"US_HOUS_STRS_M_Avg005\"\n",
    ",\"US_HOUS_STRS_M_Avg010\"\n",
    ",\"US_HOUS_STRS_M_Avg030\"\n",
    ",\"US_HOUS_STRS_M_Avg060\"\n",
    ",\"US_HOUS_STRS_M_Avg090\"\n",
    ",\"US_HOUS_STRS_M_Avg120\"\n",
    ",\"US_HOUS_STRS_M_Avg180\"\n",
    "  \n",
    ",\"HD_Avg005\"\n",
    ",\"HD_Avg010\"\n",
    ",\"HD_Avg030\"\n",
    ",\"HD_Avg060\"\n",
    ",\"HD_Avg090\"\n",
    ",\"HD_Avg120\"\n",
    ",\"HD_Avg180\"\n",
    "  \n",
    ",\"US_GDP_Q_Avg005\"\n",
    ",\"US_GDP_Q_Avg010\"\n",
    ",\"US_GDP_Q_Avg030\"\n",
    ",\"US_GDP_Q_Avg060\"\n",
    ",\"US_GDP_Q_Avg090\"\n",
    ",\"US_GDP_Q_Avg120\"\n",
    ",\"US_GDP_Q_Avg180\"\n",
    "  \n",
    ",\"VIX_Avg005\"\n",
    ",\"VIX_Avg010\"\n",
    ",\"VIX_Avg030\"\n",
    ",\"VIX_Avg060\"\n",
    ",\"VIX_Avg090\"\n",
    ",\"VIX_Avg120\"\n",
    ",\"VIX_Avg180\"\n",
    "  \n",
    ",\"TPLGX_Avg005\"\n",
    ",\"TPLGX_Avg010\"\n",
    ",\"TPLGX_Avg030\"\n",
    ",\"TPLGX_Avg060\"\n",
    ",\"TPLGX_Avg090\"\n",
    ",\"TPLGX_Avg120\"\n",
    ",\"TPLGX_Avg180\"\n",
    "  \n",
    ",\"US_ISM_MFC_PMI_Avg005\"\n",
    ",\"US_ISM_MFC_PMI_Avg010\"\n",
    ",\"US_ISM_MFC_PMI_Avg030\"\n",
    ",\"US_ISM_MFC_PMI_Avg060\"\n",
    ",\"US_ISM_MFC_PMI_Avg090\"\n",
    ",\"US_ISM_MFC_PMI_Avg120\"\n",
    ",\"US_ISM_MFC_PMI_Avg180\"\n",
    "  \n",
    ",\"VINIX_Avg005\"\n",
    ",\"VINIX_Avg010\"\n",
    ",\"VINIX_Avg030\"\n",
    ",\"VINIX_Avg060\"\n",
    ",\"VINIX_Avg090\"\n",
    ",\"VINIX_Avg120\"\n",
    ",\"VINIX_Avg180\"\n",
    "  \n",
    ",\"VBTLX_Avg005\"\n",
    ",\"VBTLX_Avg010\"\n",
    ",\"VBTLX_Avg030\"\n",
    ",\"VBTLX_Avg060\"\n",
    ",\"VBTLX_Avg090\"\n",
    ",\"VBTLX_Avg120\"\n",
    ",\"VBTLX_Avg180\"\n",
    "  \n",
    ",\"RERGX_Avg005\"\n",
    ",\"RERGX_Avg010\"\n",
    ",\"RERGX_Avg030\"\n",
    ",\"RERGX_Avg060\"\n",
    ",\"RERGX_Avg090\"\n",
    ",\"RERGX_Avg120\"\n",
    ",\"RERGX_Avg180\"\n",
    "  \n",
    ",\"CRSP_Avg005\"\n",
    ",\"CRSP_Avg010\"\n",
    ",\"CRSP_Avg030\"\n",
    ",\"CRSP_Avg060\"\n",
    ",\"CRSP_Avg090\"\n",
    ",\"CRSP_Avg120\"\n",
    ",\"CRSP_Avg180\"\n",
    "  \n",
    ",\"BABA_Avg005\"\n",
    ",\"BABA_Avg010\"\n",
    ",\"BABA_Avg030\"\n",
    ",\"BABA_Avg060\"\n",
    ",\"BABA_Avg090\"\n",
    ",\"BABA_Avg120\"\n",
    ",\"BABA_Avg180\"\n",
    "  \n",
    ",\"DJIA_Avg005\"\n",
    ",\"DJIA_Avg010\"\n",
    ",\"DJIA_Avg030\"\n",
    ",\"DJIA_Avg060\"\n",
    ",\"DJIA_Avg090\"\n",
    ",\"DJIA_Avg120\"\n",
    ",\"DJIA_Avg180\"\n",
    "  \n",
    ",\"AAPL_Avg005\"\n",
    ",\"AAPL_Avg010\"\n",
    ",\"AAPL_Avg030\"\n",
    ",\"AAPL_Avg060\"\n",
    ",\"AAPL_Avg090\"\n",
    ",\"AAPL_Avg120\"\n",
    ",\"AAPL_Avg180\"\n",
    "     \n",
    "]\n",
    "\n",
    "println()"
   ]
  },
  {
   "cell_type": "code",
   "execution_count": 2,
   "metadata": {
    "ExecuteTime": {
     "end_time": "2020-12-11T21:25:58.284000-05:00",
     "start_time": "2020-12-12T02:25:53.165Z"
    }
   },
   "outputs": [
    {
     "name": "stdout",
     "output_type": "stream",
     "text": [
      "\n"
     ]
    },
    {
     "data": {
      "text/plain": [
       "\"BABA_Original\""
      ]
     },
     "execution_count": 2,
     "metadata": {},
     "output_type": "execute_result"
    }
   ],
   "source": [
    "## uncomment for the first run\n",
    "# import Pkg\n",
    "# Pkg.add(\"PyCall\")\n",
    "# Pkg.add(\"Conda\")\n",
    "# ENV[\"PYTHON\"] = \"/opt/anaconda3/envs/turi/bin/python\"\n",
    "# /opt/anaconda3/envs/turi/lib/python3.6/site-packages/\n",
    "# Pkg.build(\"PyCall\")\n",
    "\n",
    "include(\"../Julia/functions.jl\") \n",
    "data_path=\"../DATA/processed/uber_training.csv\"\n",
    "column_to_predict = symbol_to_predict * \"_Original\""
   ]
  },
  {
   "cell_type": "markdown",
   "metadata": {},
   "source": [
    "## Fetch Data (SFrame) from Uber CSV"
   ]
  },
  {
   "cell_type": "code",
   "execution_count": 3,
   "metadata": {
    "ExecuteTime": {
     "end_time": "2020-12-11T21:26:03.005000-05:00",
     "start_time": "2020-12-12T02:25:53.168Z"
    }
   },
   "outputs": [
    {
     "name": "stdout",
     "output_type": "stream",
     "text": [
      "Finished parsing file /Users/uki/REPOS/MarketIndicators.jl/src/DATA/processed/uber_training.csv\n",
      "Parsing completed. Parsed 100 lines in 0.033755 secs.\n",
      "------------------------------------------------------\n",
      "Inferred types from first 100 line(s) of file as \n",
      "column_type_hints=[int,str,float,float,float,float,float,float,float,float,float,float,float,float,float,float,float,float,float,float,float,float,float,float,float,float,float,float,float,float,float,float,float,float,float,float,float,float,float,float,float,float,float,float,float,float,float,float,float,float,float,float,float,float,float,float,float,float,float,float,float,float,float,float,float,float,float,float,float,float,float,float,float,float,float,float,float,float,float,float,float,float,float,float,float,float,float,float,float,float,float,float,float,float,float,float,float,float,float,float,float,float,float,float,float,float,float,float,float,float,float,float,float,float,float,float,float,float,float,float,float,float,float,float,float,float,float,float,float,float,float,float,float,float,float,float,float,float,float,float,float,float,float,float,float,float,float,float,float,float,float,float,float,float,float,float,float,float,float,float,float,float,float,float,float,float,float,float,float,float,float,float,float,float,float,float,float,float,float,float,float,float,float,float,float,float,float,float,float,float,float,float,float,float,float,float,float,float,float,float,float,float,float,float,float,float,float,float,float,float,float,float,float,float,float,float,float,float,float,float,float,float,float,float,float,float,float,float,float,float,float,float,float,float,float,float,float,float,float,float,float,float,float,float,float,float,float,float,float,float,float,float,float,float,float,float,float,float,float,float,float,float,float]\n",
      "If parsing fails due to incorrect types, you can correct\n",
      "the inferred type list above and pass it to read_csv in\n",
      "the column_type_hints argument\n",
      "------------------------------------------------------\n",
      "Finished parsing file /Users/uki/REPOS/MarketIndicators.jl/src/DATA/processed/uber_training.csv\n",
      "Parsing completed. Parsed 452 lines in 0.014208 secs.\n",
      "\n"
     ]
    }
   ],
   "source": [
    "using PyCall\n",
    "tc = pyimport(\"turicreate\")\n",
    "data = tc.SFrame(data_path)\n",
    "println()"
   ]
  },
  {
   "cell_type": "markdown",
   "metadata": {},
   "source": [
    "## Split Data"
   ]
  },
  {
   "cell_type": "code",
   "execution_count": 4,
   "metadata": {
    "ExecuteTime": {
     "end_time": "2020-12-11T21:26:03.530000-05:00",
     "start_time": "2020-12-12T02:25:53.171Z"
    }
   },
   "outputs": [
    {
     "name": "stdout",
     "output_type": "stream",
     "text": [
      "(365,)\n",
      "(87,)\n"
     ]
    }
   ],
   "source": [
    "# Make a train-test split\n",
    "train_data, test_data = data.random_split(0.8)\n",
    "\n",
    "println( size(train_data) )\n",
    "println( size(test_data)  )"
   ]
  },
  {
   "cell_type": "code",
   "execution_count": 5,
   "metadata": {
    "ExecuteTime": {
     "end_time": "2020-12-11T21:26:05.988000-05:00",
     "start_time": "2020-12-12T02:25:53.175Z"
    }
   },
   "outputs": [
    {
     "name": "stdout",
     "output_type": "stream",
     "text": [
      "Automatically generating validation set from 5% of the data.\n",
      "Linear regression:\n",
      "--------------------------------------------------------\n",
      "Number of examples          : 342\n",
      "Number of features          : 203\n",
      "Number of unpacked features : 203\n",
      "Number of coefficients    : 204\n",
      "Starting Newton Method\n",
      "--------------------------------------------------------\n",
      "+-----------+----------+--------------+--------------------+----------------------+---------------------------------+-----------------------------------+\n",
      "| Iteration | Passes   | Elapsed Time | Training Max Error | Validation Max Error | Training Root-Mean-Square Error | Validation Root-Mean-Square Error |\n",
      "+-----------+----------+--------------+--------------------+----------------------+---------------------------------+-----------------------------------+\n",
      "| 1         | 2        | 1.028544     | 9.256879           | 11.959274            | 2.701886                        | 4.106707                          |\n",
      "+-----------+----------+--------------+--------------------+----------------------+---------------------------------+-----------------------------------+\n",
      "SUCCESS: Optimal solution found.\n",
      "\n"
     ]
    },
    {
     "data": {
      "text/plain": [
       "PyObject Class                          : LinearRegression\n",
       "\n",
       "Schema\n",
       "------\n",
       "Number of coefficients         : 204\n",
       "Number of examples             : 342\n",
       "Number of feature columns      : 203\n",
       "Number of unpacked features    : 203\n",
       "\n",
       "Hyperparameters\n",
       "---------------\n",
       "L1 penalty                     : 0\n",
       "L2 penalty                     : 0.01\n",
       "\n",
       "Training Summary\n",
       "----------------\n",
       "Solver                         : newton\n",
       "Solver iterations              : 1\n",
       "Solver status                  : SUCCESS: Optimal solution found.\n",
       "Training time (sec)            : 1.044\n",
       "\n",
       "Settings\n",
       "--------\n",
       "Residual sum of squares        : 2496.6636\n",
       "Training RMSE                  : 2.7019\n",
       "\n",
       "Highest Positive Coefficients\n",
       "-----------------------------\n",
       "(intercept)                    : 244.2481\n",
       "GELYF_Avg180                   : 1.9116\n",
       "US_ISM_MFC_PMI_Avg120          : 0.9935\n",
       "AAPL_Avg010                    : 0.9063\n",
       "GELYF_Avg060                   : 0.864\n",
       "\n",
       "Lowest Negative Coefficients\n",
       "----------------------------\n",
       "US_HOUS_STRS_M_Avg180          : -1.6148\n",
       "BTC_USD_Avg180                 : -1.0534\n",
       "BTC_USD_Avg030                 : -0.864\n",
       "US_HOUS_STRS_M_Avg120          : -0.8219\n",
       "BABA_Avg060                    : -0.656\n"
      ]
     },
     "execution_count": 5,
     "metadata": {},
     "output_type": "execute_result"
    }
   ],
   "source": [
    "model = tc.regression.create( \n",
    "    train_data, \n",
    "    target = column_to_predict, \n",
    "    features = features_to_analyze, \n",
    "    validation_set=\"auto\", \n",
    "    verbose=true\n",
    ")"
   ]
  },
  {
   "cell_type": "markdown",
   "metadata": {},
   "source": [
    "## Evaluate the Model"
   ]
  },
  {
   "cell_type": "code",
   "execution_count": 6,
   "metadata": {
    "ExecuteTime": {
     "end_time": "2020-12-11T21:26:07.117000-05:00",
     "start_time": "2020-12-12T02:25:53.178Z"
    }
   },
   "outputs": [
    {
     "data": {
      "text/plain": [
       "Dict{Any,Any} with 2 entries:\n",
       "  \"rmse\"      => 3.72894\n",
       "  \"max_error\" => 13.1489"
      ]
     },
     "execution_count": 6,
     "metadata": {},
     "output_type": "execute_result"
    }
   ],
   "source": [
    "#TODO: write this in a loop to select the best model\n",
    "# Evaluate the model and save the results into a dictionary\n",
    "results = model.evaluate( test_data ) #test_data[0:2531]\n",
    "results"
   ]
  },
  {
   "cell_type": "code",
   "execution_count": 7,
   "metadata": {
    "ExecuteTime": {
     "end_time": "2020-12-11T21:26:07.253000-05:00",
     "start_time": "2020-12-12T02:25:53.181Z"
    }
   },
   "outputs": [
    {
     "name": "stdout",
     "output_type": "stream",
     "text": [
      "max_error: 13.15, rmse: 3.73\n"
     ]
    }
   ],
   "source": [
    "rmse = results[\"rmse\"]\n",
    "rmse = round(rmse, digits=2)\n",
    "\n",
    "max_error = results[\"max_error\"]\n",
    "max_error = round(max_error, digits=2)\n",
    "\n",
    "println( \"max_error: \", max_error, \", rmse: \", rmse )\n",
    "# max_error: 1069.27, rmse: 184.6\n",
    "# max_error: 65.35, rmse: 32.6            predict: ^DJIA added: US_INIT_JOBLESS\n",
    "# max_error: 1875.39, rmse: 443.59        predict: ^DJIA commented out: \"DJIA_Quantized\"\n",
    "# max_error: 1339.76, rmse: 373.94        predict: ^DJIA commented out: \"DJIA_Quantized\"\n",
    "# max_error: 916.19, rmse: 231.24       predict: ^DJIA with \"DJIA_Avg005\""
   ]
  },
  {
   "cell_type": "markdown",
   "metadata": {},
   "source": [
    "## Save / Export the Model"
   ]
  },
  {
   "cell_type": "code",
   "execution_count": 8,
   "metadata": {
    "ExecuteTime": {
     "end_time": "2020-12-11T21:26:07.272000-05:00",
     "start_time": "2020-12-12T02:25:53.185Z"
    }
   },
   "outputs": [],
   "source": [
    "# Export to Core ML\n",
    "model.export_coreml(\"../DATA/models/^DJI.mlmodel\")"
   ]
  },
  {
   "cell_type": "markdown",
   "metadata": {},
   "source": [
    "## Make predictions "
   ]
  },
  {
   "cell_type": "code",
   "execution_count": 9,
   "metadata": {
    "ExecuteTime": {
     "end_time": "2020-12-11T21:26:07.447000-05:00",
     "start_time": "2020-12-12T02:25:53.188Z"
    }
   },
   "outputs": [
    {
     "name": "stdout",
     "output_type": "stream",
     "text": [
      "Finished parsing file /Users/uki/REPOS/MarketIndicators.jl/src/DATA/processed/uber_prediction.csv\n",
      "Parsing completed. Parsed 95 lines in 0.036998 secs.\n",
      "------------------------------------------------------\n",
      "Inferred types from first 100 line(s) of file as \n",
      "column_type_hints=[int,str,float,float,float,float,float,float,float,float,float,float,float,float,float,float,float,float,float,float,float,float,float,float,float,float,float,float,float,float,float,float,float,float,float,float,float,float,float,float,float,float,float,float,float,float,float,float,float,float,float,float,float,float,float,float,float,float,float,float,float,float,float,float,float,float,float,float,float,float,float,float,float,float,float,float,float,float,float,float,float,float,float,float,float,float,float,float,float,float,float,float,float,float,float,float,float,float,float,float,float,float,float,float,float,float,float,float,float,float,float,float,float,float,float,float,float,float,float,float,float,float,float,float,float,float,float,float,float,float,float,float,float,float,float,float,float,float,float,float,float,float,float,float,float,float,float,float,float,float,float,float,float,float,float,float,float,float,float,float,float,float,float,float,float,float,float,float,float,float,float,float,float,float,float,float,float,float,float,float,float,float,float,float,float,float,float,float,float,float,float,float,float,float,float,float,float,float,float,float,float,float,float,float,float,float,float,float,float,float,float,float,float,float,float,float,float,float,float,float,float,float,float,float,float,float,float,float,float,float,float,float,float,float,float,float,float,float,float,float,float,float,float,float,float,float,float,float,float,float,float,float,float,float,float,float,float,float,float,float,float,float,float]\n",
      "If parsing fails due to incorrect types, you can correct\n",
      "the inferred type list above and pass it to read_csv in\n",
      "the column_type_hints argument\n",
      "------------------------------------------------------\n",
      "Finished parsing file /Users/uki/REPOS/MarketIndicators.jl/src/DATA/processed/uber_prediction.csv\n",
      "Parsing completed. Parsed 95 lines in 0.008689 secs.\n",
      "\n"
     ]
    }
   ],
   "source": [
    "data_path=\"../DATA/processed/uber_prediction.csv\"\n",
    "data_predictions = tc.SFrame(data_path)\n",
    "\n",
    "## Save predictions to an SArray\n",
    "predictions = model.predict(data_predictions)\n",
    "#get(predictions, 1)\n",
    "\n",
    "println()"
   ]
  },
  {
   "cell_type": "markdown",
   "metadata": {},
   "source": [
    "### Explore SFrame"
   ]
  },
  {
   "cell_type": "code",
   "execution_count": 10,
   "metadata": {
    "ExecuteTime": {
     "end_time": "2020-12-11T21:26:07.616000-05:00",
     "start_time": "2020-12-12T02:25:53.193Z"
    }
   },
   "outputs": [
    {
     "name": "stdout",
     "output_type": "stream",
     "text": [
      "record_count data 95\n",
      "record_count predictions 95\n",
      "feature_number 263\n",
      "Rata Die 737774\n",
      "date 2020-12-15\n",
      "original 30071.130859\n"
     ]
    }
   ],
   "source": [
    "record_count = size(data_predictions)[1]\n",
    "row = get(data_predictions, record_count-1)\n",
    "\n",
    "feature_number = row.count\n",
    "day = row[\"Rata_Die\"]\n",
    "date = row[\"Date\"] # \"2020-10-20\"\n",
    "original = row[\"DJIA_Original\"]\n",
    "\n",
    "println( \"record_count data \", record_count )\n",
    "println( \"record_count predictions \", size(predictions)[1] )\n",
    "\n",
    "println( \"feature_number \", feature_number )\n",
    "println( \"Rata Die \", day )\n",
    "println( \"date \", date )\n",
    "println( \"original \", original )"
   ]
  },
  {
   "cell_type": "code",
   "execution_count": 11,
   "metadata": {
    "ExecuteTime": {
     "end_time": "2020-12-11T21:26:10.303000-05:00",
     "start_time": "2020-12-12T02:25:53.196Z"
    }
   },
   "outputs": [
    {
     "name": "stdout",
     "output_type": "stream",
     "text": [
      "preditions set size: 94, step 5\n",
      "BABA 94 Array{Date,1}\n",
      "t = Dec. 11, 2020 - String\n",
      "\n"
     ]
    }
   ],
   "source": [
    "using Dates\n",
    "today_rata = Dates.datetime2rata( today() )\n",
    "\n",
    "## Determine dataset size\n",
    "\n",
    "initio = 1                                              # latin: start\n",
    "finem  = size(predictions)[1] -1                        # latin: end\n",
    "gradus = convert(Int64, round( finem/20, digits=0)  )   # latin: step\n",
    "\n",
    "println(\"preditions set size: \", finem, \", step \", gradus)\n",
    "\n",
    "\n",
    "## Declare variables\n",
    "x_axis_dates      = Vector{Date}() # results in Array{Date,1}\n",
    "y_axis_original   = Vector{Float64}()\n",
    "y_axis_predicted  = Vector{Float64}()\n",
    "\n",
    "println(symbol_to_predict, \" \", finem, \" \", typeof(x_axis_dates))\n",
    "\n",
    "today_id  = 50 # not set yet\n",
    "\n",
    "## step thru each prediction\n",
    "for id in initio:finem\n",
    "    row = get(data_predictions, id) # get a dictionary of data from the SFrame\n",
    "    \n",
    "    date_string = row[\"Date\"] # e.g. \"2020-10-20\"\n",
    "    date = Date(date_string) # 2020-09-07 Date\n",
    "    if date == today()\n",
    "        today_id = id\n",
    "    end \n",
    "    #date = Dates.format(date, \"u.d,yy\" )\n",
    "    #println(\"date \", date, \" \", typeof(date))\n",
    "    push!(x_axis_dates, date)\n",
    "    \n",
    "    predicted = get(predictions, id) # Float64\n",
    "    predicted = round(predicted, digits=0)\n",
    "    #println(\"predicted \", predicted, \" \", typeof(predicted))\n",
    "    append!(y_axis_predicted, predicted)\n",
    "    \n",
    "    \n",
    "    original = row[ column_to_predict ]\n",
    "    original = round(original, digits=0) # Float64\n",
    "    #println(\"original \", original, \" \", typeof(original)) \n",
    "    append!(y_axis_original, original)\n",
    "end\n",
    "\n",
    "## Format Dates for plotting\n",
    "include(\"../Julia/function_format_dates.jl\")\n",
    "x_axis_dates = format_dates(x_axis_dates, \"u. d, yy \")\n",
    "\n",
    "\n",
    "\n",
    "t = today()# Date\n",
    "t = format_dates([t], \"u. d, yyyy\") # Array{String,1}\n",
    "t = t[1] # String\n",
    "println(\"t = \", t, \" - \", typeof(t))\n",
    "\n",
    "println()"
   ]
  },
  {
   "cell_type": "code",
   "execution_count": null,
   "metadata": {
    "ExecuteTime": {
     "start_time": "2020-12-12T02:25:53.201Z"
    }
   },
   "outputs": [],
   "source": [
    "using Plots\n",
    "\n",
    "#dates = format_dates( df[rows,2] , \"m/d/yy\")\n",
    "\n",
    "gr()\n",
    "plot(    x_axis_dates,\n",
    "        [  y_axis_original y_axis_predicted \n",
    "        ], # y-axis\n",
    "    label    = \n",
    "        [ symbol_to_predict \"predictions\"  \"\" ],\n",
    "    legend   =:topleft, \n",
    "              # :right, :left, :top, :bottom, :inside, :best, :legend, :topright, :topleft, :bottomleft, :bottomright\n",
    "    xlabel   = \"time\",\n",
    "    ylabel   = \"value\",\n",
    "    size     = (980, 400), # width, height\n",
    "    layout = (1, 1), # number of graphs: vertically, horizontally\n",
    "    )\n",
    "## Add veritical today line\n",
    "plot!([today_id], seriestype=\"vline\", label=[ \"Today \"*t \"\" ],)\n"
   ]
  },
  {
   "cell_type": "code",
   "execution_count": null,
   "metadata": {
    "ExecuteTime": {
     "start_time": "2020-12-12T02:25:53.204Z"
    }
   },
   "outputs": [],
   "source": [
    "savefig(\"../images/predictions_\" * symbol_to_predict * \".png\")"
   ]
  },
  {
   "cell_type": "code",
   "execution_count": null,
   "metadata": {
    "ExecuteTime": {
     "start_time": "2020-12-12T02:25:53.208Z"
    }
   },
   "outputs": [],
   "source": [
    "## print prediction comparisons\n",
    "println(symbol_to_predict, \" \", today())\n",
    "\n",
    "file_path = \"../DATA/\" * symbol_to_predict * \"_predictions.csv\"\n",
    "open( file_path, \"a\") do file_handle # append\n",
    "    \n",
    "    for id in finem-10:finem\n",
    "        if id < today_id + 4 # Allows to show Monday predition on Friday night.\n",
    "            row = get(data_predictions, id) # get a dictionary of data from the SFrame\n",
    "            date_string = row[\"Date\"] # e.g. \"2020-10-20\"\n",
    "\n",
    "            a = y_axis_predicted[id]\n",
    "            b = y_axis_original[id]\n",
    "            d = round(b-a, digits=3)\n",
    "            date = convert(String, Dates.format( Date(date_string), \"e, yyyy-mm-dd\" ) )\n",
    "            if id <= today_id\n",
    "                println( date, \"\\t predicted \", a , \"\\t, but actual value was \\t\", b , \"\\t difference is \",  d  ) # di\n",
    "            else\n",
    "                println( date, \"\\t predicted \", a  ) # \n",
    "\n",
    "                txt_to_save =  \n",
    "                    convert(String, Dates.format( today(), \"yyyy-mm-dd\" ) ) *\",\"* \n",
    "                    convert(String, symbol_to_predict) *\",\"* \n",
    "                    date_string *\",\"* \n",
    "                    string(a) * \"\\n\"\n",
    "                \n",
    "                write(file_handle, txt_to_save )\n",
    "                \n",
    "            end # if\n",
    "        end #if \n",
    "    end # for\n",
    "end # open file"
   ]
  },
  {
   "cell_type": "code",
   "execution_count": null,
   "metadata": {},
   "outputs": [],
   "source": []
  },
  {
   "cell_type": "code",
   "execution_count": null,
   "metadata": {},
   "outputs": [],
   "source": []
  }
 ],
 "metadata": {
  "kernelspec": {
   "display_name": "Julia 1.5.1",
   "language": "julia",
   "name": "julia-1.5"
  },
  "language_info": {
   "file_extension": ".jl",
   "mimetype": "application/julia",
   "name": "julia",
   "version": "1.5.1"
  },
  "toc": {
   "base_numbering": 1,
   "nav_menu": {},
   "number_sections": true,
   "sideBar": true,
   "skip_h1_title": true,
   "title_cell": "Table of Contents",
   "title_sidebar": "Contents",
   "toc_cell": true,
   "toc_position": {},
   "toc_section_display": true,
   "toc_window_display": true
  },
  "varInspector": {
   "cols": {
    "lenName": 16,
    "lenType": 16,
    "lenVar": 40
   },
   "kernels_config": {
    "python": {
     "delete_cmd_postfix": "",
     "delete_cmd_prefix": "del ",
     "library": "var_list.py",
     "varRefreshCmd": "print(var_dic_list())"
    },
    "r": {
     "delete_cmd_postfix": ") ",
     "delete_cmd_prefix": "rm(",
     "library": "var_list.r",
     "varRefreshCmd": "cat(var_dic_list()) "
    }
   },
   "types_to_exclude": [
    "module",
    "function",
    "builtin_function_or_method",
    "instance",
    "_Feature"
   ],
   "window_display": false
  }
 },
 "nbformat": 4,
 "nbformat_minor": 4
}
