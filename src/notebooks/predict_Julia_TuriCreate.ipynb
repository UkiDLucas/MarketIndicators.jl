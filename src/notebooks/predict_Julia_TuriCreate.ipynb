{
 "cells": [
  {
   "cell_type": "markdown",
   "metadata": {},
   "source": [
    "# Prediction Model using TuriCreate in Julia"
   ]
  },
  {
   "cell_type": "markdown",
   "metadata": {
    "toc": true
   },
   "source": [
    "<h1>Table of Contents<span class=\"tocSkip\"></span></h1>\n",
    "<div class=\"toc\"><ul class=\"toc-item\"><li><span><a href=\"#Set-Up\" data-toc-modified-id=\"Set-Up-1\"><span class=\"toc-item-num\">1&nbsp;&nbsp;</span>Set Up</a></span></li><li><span><a href=\"#Fetch-Data-(SFrame)-from-Uber-CSV\" data-toc-modified-id=\"Fetch-Data-(SFrame)-from-Uber-CSV-2\"><span class=\"toc-item-num\">2&nbsp;&nbsp;</span>Fetch Data (SFrame) from Uber CSV</a></span></li><li><span><a href=\"#Split-Data\" data-toc-modified-id=\"Split-Data-3\"><span class=\"toc-item-num\">3&nbsp;&nbsp;</span>Split Data</a></span></li><li><span><a href=\"#Evaluate-the-Model\" data-toc-modified-id=\"Evaluate-the-Model-4\"><span class=\"toc-item-num\">4&nbsp;&nbsp;</span>Evaluate the Model</a></span></li><li><span><a href=\"#Save-/-Export-the-Model\" data-toc-modified-id=\"Save-/-Export-the-Model-5\"><span class=\"toc-item-num\">5&nbsp;&nbsp;</span>Save / Export the Model</a></span></li><li><span><a href=\"#Make-predictions\" data-toc-modified-id=\"Make-predictions-6\"><span class=\"toc-item-num\">6&nbsp;&nbsp;</span>Make predictions</a></span><ul class=\"toc-item\"><li><span><a href=\"#Explore-SFrame\" data-toc-modified-id=\"Explore-SFrame-6.1\"><span class=\"toc-item-num\">6.1&nbsp;&nbsp;</span>Explore SFrame</a></span></li></ul></li></ul></div>"
   ]
  },
  {
   "cell_type": "markdown",
   "metadata": {},
   "source": [
    "## Set Up"
   ]
  },
  {
   "cell_type": "code",
   "execution_count": 1,
   "metadata": {
    "ExecuteTime": {
     "end_time": "2020-12-11T21:25:53.890000-05:00",
     "start_time": "2020-12-12T02:25:53.161Z"
    }
   },
   "outputs": [
    {
     "name": "stdout",
     "output_type": "stream",
     "text": [
      "\n"
     ]
    }
   ],
   "source": [
    "symbol_to_predict = \"DJIA\"\n",
    "symbol_to_predict = \"AAPL\"\n",
    "symbol_to_predict = \"VIX\"\n",
    "symbol_to_predict = \"NVDA\"\n",
    "symbol_to_predict = \"TPLGX\"\n",
    "symbol_to_predict = \"CRSP\"\n",
    "symbol_to_predict = \"TSLA\"\n",
    "symbol_to_predict = \"BABA\"\n",
    "\n",
    "\n",
    "\n",
    "\n",
    "\n",
    "features_to_analyze = \n",
    "[\n",
    "  \n",
    "\"GSPC_Avg005\"\n",
    ",\"GSPC_Avg010\"\n",
    ",\"GSPC_Avg030\"\n",
    ",\"GSPC_Avg060\"\n",
    ",\"GSPC_Avg090\"\n",
    ",\"GSPC_Avg120\"\n",
    ",\"GSPC_Avg180\"\n",
    "  \n",
    ",\"BTC_USD_Avg005\"\n",
    ",\"BTC_USD_Avg010\"\n",
    ",\"BTC_USD_Avg030\"\n",
    ",\"BTC_USD_Avg060\"\n",
    ",\"BTC_USD_Avg090\"\n",
    ",\"BTC_USD_Avg120\"\n",
    ",\"BTC_USD_Avg180\"\n",
    "  \n",
    ",\"DALLAS_FED_MFC_Avg005\"\n",
    ",\"DALLAS_FED_MFC_Avg010\"\n",
    ",\"DALLAS_FED_MFC_Avg030\"\n",
    ",\"DALLAS_FED_MFC_Avg060\"\n",
    ",\"DALLAS_FED_MFC_Avg090\"\n",
    ",\"DALLAS_FED_MFC_Avg120\"\n",
    ",\"DALLAS_FED_MFC_Avg180\"\n",
    "  \n",
    ",\"GOLD_Avg005\"\n",
    ",\"GOLD_Avg010\"\n",
    ",\"GOLD_Avg030\"\n",
    ",\"GOLD_Avg060\"\n",
    ",\"GOLD_Avg090\"\n",
    ",\"GOLD_Avg120\"\n",
    ",\"GOLD_Avg180\"\n",
    "  \n",
    ",\"GELYF_Avg005\"\n",
    ",\"GELYF_Avg010\"\n",
    ",\"GELYF_Avg030\"\n",
    ",\"GELYF_Avg060\"\n",
    ",\"GELYF_Avg090\"\n",
    ",\"GELYF_Avg120\"\n",
    ",\"GELYF_Avg180\"\n",
    "  \n",
    ",\"US_PEND_HOME_SALE_M_Avg005\"\n",
    ",\"US_PEND_HOME_SALE_M_Avg010\"\n",
    ",\"US_PEND_HOME_SALE_M_Avg030\"\n",
    ",\"US_PEND_HOME_SALE_M_Avg060\"\n",
    ",\"US_PEND_HOME_SALE_M_Avg090\"\n",
    ",\"US_PEND_HOME_SALE_M_Avg120\"\n",
    ",\"US_PEND_HOME_SALE_M_Avg180\"\n",
    "  \n",
    ",\"TNX_Avg005\"\n",
    ",\"TNX_Avg010\"\n",
    ",\"TNX_Avg030\"\n",
    ",\"TNX_Avg060\"\n",
    ",\"TNX_Avg090\"\n",
    ",\"TNX_Avg120\"\n",
    ",\"TNX_Avg180\"\n",
    "  \n",
    ",\"TSLA_Avg005\"\n",
    ",\"TSLA_Avg010\"\n",
    ",\"TSLA_Avg030\"\n",
    ",\"TSLA_Avg060\"\n",
    ",\"TSLA_Avg090\"\n",
    ",\"TSLA_Avg120\"\n",
    ",\"TSLA_Avg180\"\n",
    "  \n",
    ",\"US_BUILD_PERM_Avg005\"\n",
    ",\"US_BUILD_PERM_Avg010\"\n",
    ",\"US_BUILD_PERM_Avg030\"\n",
    ",\"US_BUILD_PERM_Avg060\"\n",
    ",\"US_BUILD_PERM_Avg090\"\n",
    ",\"US_BUILD_PERM_Avg120\"\n",
    ",\"US_BUILD_PERM_Avg180\"\n",
    "  \n",
    ",\"BYDDF_Avg005\"\n",
    ",\"BYDDF_Avg010\"\n",
    ",\"BYDDF_Avg030\"\n",
    ",\"BYDDF_Avg060\"\n",
    ",\"BYDDF_Avg090\"\n",
    ",\"BYDDF_Avg120\"\n",
    ",\"BYDDF_Avg180\"\n",
    "  \n",
    ",\"US_INDS_PROD_M_Avg005\"\n",
    ",\"US_INDS_PROD_M_Avg010\"\n",
    ",\"US_INDS_PROD_M_Avg030\"\n",
    ",\"US_INDS_PROD_M_Avg060\"\n",
    ",\"US_INDS_PROD_M_Avg090\"\n",
    ",\"US_INDS_PROD_M_Avg120\"\n",
    ",\"US_INDS_PROD_M_Avg180\"\n",
    "  \n",
    ",\"US_ISM_MFC_EMPL_Avg005\"\n",
    ",\"US_ISM_MFC_EMPL_Avg010\"\n",
    ",\"US_ISM_MFC_EMPL_Avg030\"\n",
    ",\"US_ISM_MFC_EMPL_Avg060\"\n",
    ",\"US_ISM_MFC_EMPL_Avg090\"\n",
    ",\"US_ISM_MFC_EMPL_Avg120\"\n",
    ",\"US_ISM_MFC_EMPL_Avg180\"\n",
    "  \n",
    ",\"US_INIT_JOB_CLAIM_Avg005\"\n",
    ",\"US_INIT_JOB_CLAIM_Avg010\"\n",
    ",\"US_INIT_JOB_CLAIM_Avg030\"\n",
    ",\"US_INIT_JOB_CLAIM_Avg060\"\n",
    ",\"US_INIT_JOB_CLAIM_Avg090\"\n",
    ",\"US_INIT_JOB_CLAIM_Avg120\"\n",
    ",\"US_INIT_JOB_CLAIM_Avg180\"\n",
    "  \n",
    ",\"US_UNEMPLOY_RATE_Avg005\"\n",
    ",\"US_UNEMPLOY_RATE_Avg010\"\n",
    ",\"US_UNEMPLOY_RATE_Avg030\"\n",
    ",\"US_UNEMPLOY_RATE_Avg060\"\n",
    ",\"US_UNEMPLOY_RATE_Avg090\"\n",
    ",\"US_UNEMPLOY_RATE_Avg120\"\n",
    ",\"US_UNEMPLOY_RATE_Avg180\"\n",
    "  \n",
    ",\"NVDA_Avg005\"\n",
    ",\"NVDA_Avg010\"\n",
    ",\"NVDA_Avg030\"\n",
    ",\"NVDA_Avg060\"\n",
    ",\"NVDA_Avg090\"\n",
    ",\"NVDA_Avg120\"\n",
    ",\"NVDA_Avg180\"\n",
    "  \n",
    ",\"NRMGX_Avg005\"\n",
    ",\"NRMGX_Avg010\"\n",
    ",\"NRMGX_Avg030\"\n",
    ",\"NRMGX_Avg060\"\n",
    ",\"NRMGX_Avg090\"\n",
    ",\"NRMGX_Avg120\"\n",
    ",\"NRMGX_Avg180\"\n",
    "  \n",
    ",\"US_HOUS_STRS_M_Avg005\"\n",
    ",\"US_HOUS_STRS_M_Avg010\"\n",
    ",\"US_HOUS_STRS_M_Avg030\"\n",
    ",\"US_HOUS_STRS_M_Avg060\"\n",
    ",\"US_HOUS_STRS_M_Avg090\"\n",
    ",\"US_HOUS_STRS_M_Avg120\"\n",
    ",\"US_HOUS_STRS_M_Avg180\"\n",
    "  \n",
    ",\"HD_Avg005\"\n",
    ",\"HD_Avg010\"\n",
    ",\"HD_Avg030\"\n",
    ",\"HD_Avg060\"\n",
    ",\"HD_Avg090\"\n",
    ",\"HD_Avg120\"\n",
    ",\"HD_Avg180\"\n",
    "  \n",
    ",\"US_GDP_Q_Avg005\"\n",
    ",\"US_GDP_Q_Avg010\"\n",
    ",\"US_GDP_Q_Avg030\"\n",
    ",\"US_GDP_Q_Avg060\"\n",
    ",\"US_GDP_Q_Avg090\"\n",
    ",\"US_GDP_Q_Avg120\"\n",
    ",\"US_GDP_Q_Avg180\"\n",
    "  \n",
    ",\"VIX_Avg005\"\n",
    ",\"VIX_Avg010\"\n",
    ",\"VIX_Avg030\"\n",
    ",\"VIX_Avg060\"\n",
    ",\"VIX_Avg090\"\n",
    ",\"VIX_Avg120\"\n",
    ",\"VIX_Avg180\"\n",
    "  \n",
    ",\"TPLGX_Avg005\"\n",
    ",\"TPLGX_Avg010\"\n",
    ",\"TPLGX_Avg030\"\n",
    ",\"TPLGX_Avg060\"\n",
    ",\"TPLGX_Avg090\"\n",
    ",\"TPLGX_Avg120\"\n",
    ",\"TPLGX_Avg180\"\n",
    "  \n",
    ",\"US_ISM_MFC_PMI_Avg005\"\n",
    ",\"US_ISM_MFC_PMI_Avg010\"\n",
    ",\"US_ISM_MFC_PMI_Avg030\"\n",
    ",\"US_ISM_MFC_PMI_Avg060\"\n",
    ",\"US_ISM_MFC_PMI_Avg090\"\n",
    ",\"US_ISM_MFC_PMI_Avg120\"\n",
    ",\"US_ISM_MFC_PMI_Avg180\"\n",
    "  \n",
    ",\"VINIX_Avg005\"\n",
    ",\"VINIX_Avg010\"\n",
    ",\"VINIX_Avg030\"\n",
    ",\"VINIX_Avg060\"\n",
    ",\"VINIX_Avg090\"\n",
    ",\"VINIX_Avg120\"\n",
    ",\"VINIX_Avg180\"\n",
    "  \n",
    ",\"VBTLX_Avg005\"\n",
    ",\"VBTLX_Avg010\"\n",
    ",\"VBTLX_Avg030\"\n",
    ",\"VBTLX_Avg060\"\n",
    ",\"VBTLX_Avg090\"\n",
    ",\"VBTLX_Avg120\"\n",
    ",\"VBTLX_Avg180\"\n",
    "  \n",
    ",\"RERGX_Avg005\"\n",
    ",\"RERGX_Avg010\"\n",
    ",\"RERGX_Avg030\"\n",
    ",\"RERGX_Avg060\"\n",
    ",\"RERGX_Avg090\"\n",
    ",\"RERGX_Avg120\"\n",
    ",\"RERGX_Avg180\"\n",
    "  \n",
    ",\"CRSP_Avg005\"\n",
    ",\"CRSP_Avg010\"\n",
    ",\"CRSP_Avg030\"\n",
    ",\"CRSP_Avg060\"\n",
    ",\"CRSP_Avg090\"\n",
    ",\"CRSP_Avg120\"\n",
    ",\"CRSP_Avg180\"\n",
    "  \n",
    ",\"BABA_Avg005\"\n",
    ",\"BABA_Avg010\"\n",
    ",\"BABA_Avg030\"\n",
    ",\"BABA_Avg060\"\n",
    ",\"BABA_Avg090\"\n",
    ",\"BABA_Avg120\"\n",
    ",\"BABA_Avg180\"\n",
    "  \n",
    ",\"DJIA_Avg005\"\n",
    ",\"DJIA_Avg010\"\n",
    ",\"DJIA_Avg030\"\n",
    ",\"DJIA_Avg060\"\n",
    ",\"DJIA_Avg090\"\n",
    ",\"DJIA_Avg120\"\n",
    ",\"DJIA_Avg180\"\n",
    "  \n",
    ",\"AAPL_Avg005\"\n",
    ",\"AAPL_Avg010\"\n",
    ",\"AAPL_Avg030\"\n",
    ",\"AAPL_Avg060\"\n",
    ",\"AAPL_Avg090\"\n",
    ",\"AAPL_Avg120\"\n",
    ",\"AAPL_Avg180\"\n",
    "     \n",
    "]\n",
    "\n",
    "println()"
   ]
  },
  {
   "cell_type": "code",
   "execution_count": 2,
   "metadata": {
    "ExecuteTime": {
     "end_time": "2020-12-11T21:25:58.284000-05:00",
     "start_time": "2020-12-12T02:25:53.165Z"
    }
   },
   "outputs": [
    {
     "name": "stdout",
     "output_type": "stream",
     "text": [
      "\n"
     ]
    },
    {
     "data": {
      "text/plain": [
       "\"BABA_Original\""
      ]
     },
     "execution_count": 2,
     "metadata": {},
     "output_type": "execute_result"
    }
   ],
   "source": [
    "## uncomment for the first run\n",
    "# import Pkg\n",
    "# Pkg.add(\"PyCall\")\n",
    "# Pkg.add(\"Conda\")\n",
    "# ENV[\"PYTHON\"] = \"/opt/anaconda3/envs/turi/bin/python\"\n",
    "# /opt/anaconda3/envs/turi/lib/python3.6/site-packages/\n",
    "# Pkg.build(\"PyCall\")\n",
    "\n",
    "include(\"../Julia/functions.jl\") \n",
    "data_path=\"../DATA/processed/uber_training.csv\"\n",
    "column_to_predict = symbol_to_predict * \"_Original\""
   ]
  },
  {
   "cell_type": "markdown",
   "metadata": {},
   "source": [
    "## Fetch Data (SFrame) from Uber CSV"
   ]
  },
  {
   "cell_type": "code",
   "execution_count": 3,
   "metadata": {
    "ExecuteTime": {
     "end_time": "2020-12-11T21:26:03.005000-05:00",
     "start_time": "2020-12-12T02:25:53.168Z"
    }
   },
   "outputs": [
    {
     "name": "stdout",
     "output_type": "stream",
     "text": [
      "Finished parsing file /Users/uki/REPOS/MarketIndicators.jl/src/DATA/processed/uber_training.csv\n",
      "Parsing completed. Parsed 100 lines in 0.033755 secs.\n",
      "------------------------------------------------------\n",
      "Inferred types from first 100 line(s) of file as \n",
      "column_type_hints=[int,str,float,float,float,float,float,float,float,float,float,float,float,float,float,float,float,float,float,float,float,float,float,float,float,float,float,float,float,float,float,float,float,float,float,float,float,float,float,float,float,float,float,float,float,float,float,float,float,float,float,float,float,float,float,float,float,float,float,float,float,float,float,float,float,float,float,float,float,float,float,float,float,float,float,float,float,float,float,float,float,float,float,float,float,float,float,float,float,float,float,float,float,float,float,float,float,float,float,float,float,float,float,float,float,float,float,float,float,float,float,float,float,float,float,float,float,float,float,float,float,float,float,float,float,float,float,float,float,float,float,float,float,float,float,float,float,float,float,float,float,float,float,float,float,float,float,float,float,float,float,float,float,float,float,float,float,float,float,float,float,float,float,float,float,float,float,float,float,float,float,float,float,float,float,float,float,float,float,float,float,float,float,float,float,float,float,float,float,float,float,float,float,float,float,float,float,float,float,float,float,float,float,float,float,float,float,float,float,float,float,float,float,float,float,float,float,float,float,float,float,float,float,float,float,float,float,float,float,float,float,float,float,float,float,float,float,float,float,float,float,float,float,float,float,float,float,float,float,float,float,float,float,float,float,float,float,float,float,float,float,float,float]\n",
      "If parsing fails due to incorrect types, you can correct\n",
      "the inferred type list above and pass it to read_csv in\n",
      "the column_type_hints argument\n",
      "------------------------------------------------------\n",
      "Finished parsing file /Users/uki/REPOS/MarketIndicators.jl/src/DATA/processed/uber_training.csv\n",
      "Parsing completed. Parsed 452 lines in 0.014208 secs.\n",
      "\n"
     ]
    }
   ],
   "source": [
    "using PyCall\n",
    "tc = pyimport(\"turicreate\")\n",
    "data = tc.SFrame(data_path)\n",
    "println()"
   ]
  },
  {
   "cell_type": "markdown",
   "metadata": {},
   "source": [
    "## Split Data"
   ]
  },
  {
   "cell_type": "code",
   "execution_count": 4,
   "metadata": {
    "ExecuteTime": {
     "end_time": "2020-12-11T21:26:03.530000-05:00",
     "start_time": "2020-12-12T02:25:53.171Z"
    }
   },
   "outputs": [
    {
     "name": "stdout",
     "output_type": "stream",
     "text": [
      "(365,)\n",
      "(87,)\n"
     ]
    }
   ],
   "source": [
    "# Make a train-test split\n",
    "train_data, test_data = data.random_split(0.8)\n",
    "\n",
    "println( size(train_data) )\n",
    "println( size(test_data)  )"
   ]
  },
  {
   "cell_type": "code",
   "execution_count": 5,
   "metadata": {
    "ExecuteTime": {
     "end_time": "2020-12-11T21:26:05.988000-05:00",
     "start_time": "2020-12-12T02:25:53.175Z"
    }
   },
   "outputs": [
    {
     "name": "stdout",
     "output_type": "stream",
     "text": [
      "Automatically generating validation set from 5% of the data.\n",
      "Linear regression:\n",
      "--------------------------------------------------------\n",
      "Number of examples          : 342\n",
      "Number of features          : 203\n",
      "Number of unpacked features : 203\n",
      "Number of coefficients    : 204\n",
      "Starting Newton Method\n",
      "--------------------------------------------------------\n",
      "+-----------+----------+--------------+--------------------+----------------------+---------------------------------+-----------------------------------+\n",
      "| Iteration | Passes   | Elapsed Time | Training Max Error | Validation Max Error | Training Root-Mean-Square Error | Validation Root-Mean-Square Error |\n",
      "+-----------+----------+--------------+--------------------+----------------------+---------------------------------+-----------------------------------+\n",
      "| 1         | 2        | 1.028544     | 9.256879           | 11.959274            | 2.701886                        | 4.106707                          |\n",
      "+-----------+----------+--------------+--------------------+----------------------+---------------------------------+-----------------------------------+\n",
      "SUCCESS: Optimal solution found.\n",
      "\n"
     ]
    },
    {
     "data": {
      "text/plain": [
       "PyObject Class                          : LinearRegression\n",
       "\n",
       "Schema\n",
       "------\n",
       "Number of coefficients         : 204\n",
       "Number of examples             : 342\n",
       "Number of feature columns      : 203\n",
       "Number of unpacked features    : 203\n",
       "\n",
       "Hyperparameters\n",
       "---------------\n",
       "L1 penalty                     : 0\n",
       "L2 penalty                     : 0.01\n",
       "\n",
       "Training Summary\n",
       "----------------\n",
       "Solver                         : newton\n",
       "Solver iterations              : 1\n",
       "Solver status                  : SUCCESS: Optimal solution found.\n",
       "Training time (sec)            : 1.044\n",
       "\n",
       "Settings\n",
       "--------\n",
       "Residual sum of squares        : 2496.6636\n",
       "Training RMSE                  : 2.7019\n",
       "\n",
       "Highest Positive Coefficients\n",
       "-----------------------------\n",
       "(intercept)                    : 244.2481\n",
       "GELYF_Avg180                   : 1.9116\n",
       "US_ISM_MFC_PMI_Avg120          : 0.9935\n",
       "AAPL_Avg010                    : 0.9063\n",
       "GELYF_Avg060                   : 0.864\n",
       "\n",
       "Lowest Negative Coefficients\n",
       "----------------------------\n",
       "US_HOUS_STRS_M_Avg180          : -1.6148\n",
       "BTC_USD_Avg180                 : -1.0534\n",
       "BTC_USD_Avg030                 : -0.864\n",
       "US_HOUS_STRS_M_Avg120          : -0.8219\n",
       "BABA_Avg060                    : -0.656\n"
      ]
     },
     "execution_count": 5,
     "metadata": {},
     "output_type": "execute_result"
    }
   ],
   "source": [
    "model = tc.regression.create( \n",
    "    train_data, \n",
    "    target = column_to_predict, \n",
    "    features = features_to_analyze, \n",
    "    validation_set=\"auto\", \n",
    "    verbose=true\n",
    ")"
   ]
  },
  {
   "cell_type": "markdown",
   "metadata": {},
   "source": [
    "## Evaluate the Model"
   ]
  },
  {
   "cell_type": "code",
   "execution_count": 6,
   "metadata": {
    "ExecuteTime": {
     "end_time": "2020-12-11T21:26:07.117000-05:00",
     "start_time": "2020-12-12T02:25:53.178Z"
    }
   },
   "outputs": [
    {
     "data": {
      "text/plain": [
       "Dict{Any,Any} with 2 entries:\n",
       "  \"rmse\"      => 3.72894\n",
       "  \"max_error\" => 13.1489"
      ]
     },
     "execution_count": 6,
     "metadata": {},
     "output_type": "execute_result"
    }
   ],
   "source": [
    "#TODO: write this in a loop to select the best model\n",
    "# Evaluate the model and save the results into a dictionary\n",
    "results = model.evaluate( test_data ) #test_data[0:2531]\n",
    "results"
   ]
  },
  {
   "cell_type": "code",
   "execution_count": 7,
   "metadata": {
    "ExecuteTime": {
     "end_time": "2020-12-11T21:26:07.253000-05:00",
     "start_time": "2020-12-12T02:25:53.181Z"
    }
   },
   "outputs": [
    {
     "name": "stdout",
     "output_type": "stream",
     "text": [
      "max_error: 13.15, rmse: 3.73\n"
     ]
    }
   ],
   "source": [
    "rmse = results[\"rmse\"]\n",
    "rmse = round(rmse, digits=2)\n",
    "\n",
    "max_error = results[\"max_error\"]\n",
    "max_error = round(max_error, digits=2)\n",
    "\n",
    "println( \"max_error: \", max_error, \", rmse: \", rmse )\n",
    "# max_error: 1069.27, rmse: 184.6\n",
    "# max_error: 65.35, rmse: 32.6            predict: ^DJIA added: US_INIT_JOBLESS\n",
    "# max_error: 1875.39, rmse: 443.59        predict: ^DJIA commented out: \"DJIA_Quantized\"\n",
    "# max_error: 1339.76, rmse: 373.94        predict: ^DJIA commented out: \"DJIA_Quantized\"\n",
    "# max_error: 916.19, rmse: 231.24       predict: ^DJIA with \"DJIA_Avg005\""
   ]
  },
  {
   "cell_type": "markdown",
   "metadata": {},
   "source": [
    "## Save / Export the Model"
   ]
  },
  {
   "cell_type": "code",
   "execution_count": 8,
   "metadata": {
    "ExecuteTime": {
     "end_time": "2020-12-11T21:26:07.272000-05:00",
     "start_time": "2020-12-12T02:25:53.185Z"
    }
   },
   "outputs": [],
   "source": [
    "# Export to Core ML\n",
    "model.export_coreml(\"../DATA/models/^DJI.mlmodel\")"
   ]
  },
  {
   "cell_type": "markdown",
   "metadata": {},
   "source": [
    "## Make predictions "
   ]
  },
  {
   "cell_type": "code",
   "execution_count": 9,
   "metadata": {
    "ExecuteTime": {
     "end_time": "2020-12-11T21:26:07.447000-05:00",
     "start_time": "2020-12-12T02:25:53.188Z"
    }
   },
   "outputs": [
    {
     "name": "stdout",
     "output_type": "stream",
     "text": [
      "Finished parsing file /Users/uki/REPOS/MarketIndicators.jl/src/DATA/processed/uber_prediction.csv\n",
      "Parsing completed. Parsed 95 lines in 0.036998 secs.\n",
      "------------------------------------------------------\n",
      "Inferred types from first 100 line(s) of file as \n",
      "column_type_hints=[int,str,float,float,float,float,float,float,float,float,float,float,float,float,float,float,float,float,float,float,float,float,float,float,float,float,float,float,float,float,float,float,float,float,float,float,float,float,float,float,float,float,float,float,float,float,float,float,float,float,float,float,float,float,float,float,float,float,float,float,float,float,float,float,float,float,float,float,float,float,float,float,float,float,float,float,float,float,float,float,float,float,float,float,float,float,float,float,float,float,float,float,float,float,float,float,float,float,float,float,float,float,float,float,float,float,float,float,float,float,float,float,float,float,float,float,float,float,float,float,float,float,float,float,float,float,float,float,float,float,float,float,float,float,float,float,float,float,float,float,float,float,float,float,float,float,float,float,float,float,float,float,float,float,float,float,float,float,float,float,float,float,float,float,float,float,float,float,float,float,float,float,float,float,float,float,float,float,float,float,float,float,float,float,float,float,float,float,float,float,float,float,float,float,float,float,float,float,float,float,float,float,float,float,float,float,float,float,float,float,float,float,float,float,float,float,float,float,float,float,float,float,float,float,float,float,float,float,float,float,float,float,float,float,float,float,float,float,float,float,float,float,float,float,float,float,float,float,float,float,float,float,float,float,float,float,float,float,float,float,float,float,float]\n",
      "If parsing fails due to incorrect types, you can correct\n",
      "the inferred type list above and pass it to read_csv in\n",
      "the column_type_hints argument\n",
      "------------------------------------------------------\n",
      "Finished parsing file /Users/uki/REPOS/MarketIndicators.jl/src/DATA/processed/uber_prediction.csv\n",
      "Parsing completed. Parsed 95 lines in 0.008689 secs.\n",
      "\n"
     ]
    }
   ],
   "source": [
    "data_path=\"../DATA/processed/uber_prediction.csv\"\n",
    "data_predictions = tc.SFrame(data_path)\n",
    "\n",
    "## Save predictions to an SArray\n",
    "predictions = model.predict(data_predictions)\n",
    "#get(predictions, 1)\n",
    "\n",
    "println()"
   ]
  },
  {
   "cell_type": "markdown",
   "metadata": {},
   "source": [
    "### Explore SFrame"
   ]
  },
  {
   "cell_type": "code",
   "execution_count": 10,
   "metadata": {
    "ExecuteTime": {
     "end_time": "2020-12-11T21:26:07.616000-05:00",
     "start_time": "2020-12-12T02:25:53.193Z"
    }
   },
   "outputs": [
    {
     "name": "stdout",
     "output_type": "stream",
     "text": [
      "record_count data 95\n",
      "record_count predictions 95\n",
      "feature_number 263\n",
      "Rata Die 737774\n",
      "date 2020-12-15\n",
      "original 30071.130859\n"
     ]
    }
   ],
   "source": [
    "record_count = size(data_predictions)[1]\n",
    "row = get(data_predictions, record_count-1)\n",
    "\n",
    "feature_number = row.count\n",
    "day = row[\"Rata_Die\"]\n",
    "date = row[\"Date\"] # \"2020-10-20\"\n",
    "original = row[\"DJIA_Original\"]\n",
    "\n",
    "println( \"record_count data \", record_count )\n",
    "println( \"record_count predictions \", size(predictions)[1] )\n",
    "\n",
    "println( \"feature_number \", feature_number )\n",
    "println( \"Rata Die \", day )\n",
    "println( \"date \", date )\n",
    "println( \"original \", original )"
   ]
  },
  {
   "cell_type": "code",
   "execution_count": 11,
   "metadata": {
    "ExecuteTime": {
     "end_time": "2020-12-11T21:26:10.303000-05:00",
     "start_time": "2020-12-12T02:25:53.196Z"
    }
   },
   "outputs": [
    {
     "name": "stdout",
     "output_type": "stream",
     "text": [
      "preditions set size: 94, step 5\n",
      "BABA 94 Array{Date,1}\n",
      "t = Dec. 11, 2020 - String\n",
      "\n"
     ]
    }
   ],
   "source": [
    "using Dates\n",
    "today_rata = Dates.datetime2rata( today() )\n",
    "\n",
    "## Determine dataset size\n",
    "\n",
    "initio = 1                                              # latin: start\n",
    "finem  = size(predictions)[1] -1                        # latin: end\n",
    "gradus = convert(Int64, round( finem/20, digits=0)  )   # latin: step\n",
    "\n",
    "println(\"preditions set size: \", finem, \", step \", gradus)\n",
    "\n",
    "\n",
    "## Declare variables\n",
    "x_axis_dates      = Vector{Date}() # results in Array{Date,1}\n",
    "y_axis_original   = Vector{Float64}()\n",
    "y_axis_predicted  = Vector{Float64}()\n",
    "\n",
    "println(symbol_to_predict, \" \", finem, \" \", typeof(x_axis_dates))\n",
    "\n",
    "today_id  = 50 # not set yet\n",
    "\n",
    "## step thru each prediction\n",
    "for id in initio:finem\n",
    "    row = get(data_predictions, id) # get a dictionary of data from the SFrame\n",
    "    \n",
    "    date_string = row[\"Date\"] # e.g. \"2020-10-20\"\n",
    "    date = Date(date_string) # 2020-09-07 Date\n",
    "    if date == today()\n",
    "        today_id = id\n",
    "    end \n",
    "    #date = Dates.format(date, \"u.d,yy\" )\n",
    "    #println(\"date \", date, \" \", typeof(date))\n",
    "    push!(x_axis_dates, date)\n",
    "    \n",
    "    predicted = get(predictions, id) # Float64\n",
    "    predicted = round(predicted, digits=0)\n",
    "    #println(\"predicted \", predicted, \" \", typeof(predicted))\n",
    "    append!(y_axis_predicted, predicted)\n",
    "    \n",
    "    \n",
    "    original = row[ column_to_predict ]\n",
    "    original = round(original, digits=0) # Float64\n",
    "    #println(\"original \", original, \" \", typeof(original)) \n",
    "    append!(y_axis_original, original)\n",
    "end\n",
    "\n",
    "## Format Dates for plotting\n",
    "include(\"../Julia/function_format_dates.jl\")\n",
    "x_axis_dates = format_dates(x_axis_dates, \"u. d, yy \")\n",
    "\n",
    "\n",
    "\n",
    "t = today()# Date\n",
    "t = format_dates([t], \"u. d, yyyy\") # Array{String,1}\n",
    "t = t[1] # String\n",
    "println(\"t = \", t, \" - \", typeof(t))\n",
    "\n",
    "println()"
   ]
  },
  {
   "cell_type": "code",
   "execution_count": 12,
   "metadata": {
    "ExecuteTime": {
     "end_time": "2020-12-11T21:26:50.535000-05:00",
     "start_time": "2020-12-12T02:25:53.201Z"
    }
   },
   "outputs": [
    {
     "data": {
      "image/svg+xml": [
       "<?xml version=\"1.0\" encoding=\"utf-8\"?>\n",
       "<svg xmlns=\"http://www.w3.org/2000/svg\" xmlns:xlink=\"http://www.w3.org/1999/xlink\" width=\"980\" height=\"400\" viewBox=\"0 0 3920 1600\">\n",
       "<defs>\n",
       "  <clipPath id=\"clip8300\">\n",
       "    <rect x=\"0\" y=\"0\" width=\"3920\" height=\"1600\"/>\n",
       "  </clipPath>\n",
       "</defs>\n",
       "<path clip-path=\"url(#clip8300)\" d=\"\n",
       "M0 1600 L3920 1600 L3920 0 L0 0  Z\n",
       "  \" fill=\"#ffffff\" fill-rule=\"evenodd\" fill-opacity=\"1\"/>\n",
       "<defs>\n",
       "  <clipPath id=\"clip8301\">\n",
       "    <rect x=\"784\" y=\"0\" width=\"2745\" height=\"1600\"/>\n",
       "  </clipPath>\n",
       "</defs>\n",
       "<path clip-path=\"url(#clip8300)\" d=\"\n",
       "M227.042 1423.18 L3872.76 1423.18 L3872.76 47.2441 L227.042 47.2441  Z\n",
       "  \" fill=\"#ffffff\" fill-rule=\"evenodd\" fill-opacity=\"1\"/>\n",
       "<defs>\n",
       "  <clipPath id=\"clip8302\">\n",
       "    <rect x=\"227\" y=\"47\" width=\"3647\" height=\"1377\"/>\n",
       "  </clipPath>\n",
       "</defs>\n",
       "<polyline clip-path=\"url(#clip8302)\" style=\"stroke:#000000; stroke-width:2; stroke-opacity:0.1; fill:none\" points=\"\n",
       "  330.223,1423.18 330.223,47.2441 \n",
       "  \"/>\n",
       "<polyline clip-path=\"url(#clip8302)\" style=\"stroke:#000000; stroke-width:2; stroke-opacity:0.1; fill:none\" points=\"\n",
       "  589.099,1423.18 589.099,47.2441 \n",
       "  \"/>\n",
       "<polyline clip-path=\"url(#clip8302)\" style=\"stroke:#000000; stroke-width:2; stroke-opacity:0.1; fill:none\" points=\"\n",
       "  810.992,1423.18 810.992,47.2441 \n",
       "  \"/>\n",
       "<polyline clip-path=\"url(#clip8302)\" style=\"stroke:#000000; stroke-width:2; stroke-opacity:0.1; fill:none\" points=\"\n",
       "  1069.87,1423.18 1069.87,47.2441 \n",
       "  \"/>\n",
       "<polyline clip-path=\"url(#clip8302)\" style=\"stroke:#000000; stroke-width:2; stroke-opacity:0.1; fill:none\" points=\"\n",
       "  1328.74,1423.18 1328.74,47.2441 \n",
       "  \"/>\n",
       "<polyline clip-path=\"url(#clip8302)\" style=\"stroke:#000000; stroke-width:2; stroke-opacity:0.1; fill:none\" points=\"\n",
       "  1550.64,1423.18 1550.64,47.2441 \n",
       "  \"/>\n",
       "<polyline clip-path=\"url(#clip8302)\" style=\"stroke:#000000; stroke-width:2; stroke-opacity:0.1; fill:none\" points=\"\n",
       "  1809.51,1423.18 1809.51,47.2441 \n",
       "  \"/>\n",
       "<polyline clip-path=\"url(#clip8302)\" style=\"stroke:#000000; stroke-width:2; stroke-opacity:0.1; fill:none\" points=\"\n",
       "  2068.39,1423.18 2068.39,47.2441 \n",
       "  \"/>\n",
       "<polyline clip-path=\"url(#clip8302)\" style=\"stroke:#000000; stroke-width:2; stroke-opacity:0.1; fill:none\" points=\"\n",
       "  2290.28,1423.18 2290.28,47.2441 \n",
       "  \"/>\n",
       "<polyline clip-path=\"url(#clip8302)\" style=\"stroke:#000000; stroke-width:2; stroke-opacity:0.1; fill:none\" points=\"\n",
       "  2549.16,1423.18 2549.16,47.2441 \n",
       "  \"/>\n",
       "<polyline clip-path=\"url(#clip8302)\" style=\"stroke:#000000; stroke-width:2; stroke-opacity:0.1; fill:none\" points=\"\n",
       "  2771.05,1423.18 2771.05,47.2441 \n",
       "  \"/>\n",
       "<polyline clip-path=\"url(#clip8302)\" style=\"stroke:#000000; stroke-width:2; stroke-opacity:0.1; fill:none\" points=\"\n",
       "  3029.93,1423.18 3029.93,47.2441 \n",
       "  \"/>\n",
       "<polyline clip-path=\"url(#clip8302)\" style=\"stroke:#000000; stroke-width:2; stroke-opacity:0.1; fill:none\" points=\"\n",
       "  3288.81,1423.18 3288.81,47.2441 \n",
       "  \"/>\n",
       "<polyline clip-path=\"url(#clip8302)\" style=\"stroke:#000000; stroke-width:2; stroke-opacity:0.1; fill:none\" points=\"\n",
       "  3510.7,1423.18 3510.7,47.2441 \n",
       "  \"/>\n",
       "<polyline clip-path=\"url(#clip8302)\" style=\"stroke:#000000; stroke-width:2; stroke-opacity:0.1; fill:none\" points=\"\n",
       "  3769.58,1423.18 3769.58,47.2441 \n",
       "  \"/>\n",
       "<polyline clip-path=\"url(#clip8302)\" style=\"stroke:#000000; stroke-width:2; stroke-opacity:0.1; fill:none\" points=\"\n",
       "  227.042,1321.43 3872.76,1321.43 \n",
       "  \"/>\n",
       "<polyline clip-path=\"url(#clip8302)\" style=\"stroke:#000000; stroke-width:2; stroke-opacity:0.1; fill:none\" points=\"\n",
       "  227.042,1112.07 3872.76,1112.07 \n",
       "  \"/>\n",
       "<polyline clip-path=\"url(#clip8302)\" style=\"stroke:#000000; stroke-width:2; stroke-opacity:0.1; fill:none\" points=\"\n",
       "  227.042,902.703 3872.76,902.703 \n",
       "  \"/>\n",
       "<polyline clip-path=\"url(#clip8302)\" style=\"stroke:#000000; stroke-width:2; stroke-opacity:0.1; fill:none\" points=\"\n",
       "  227.042,693.339 3872.76,693.339 \n",
       "  \"/>\n",
       "<polyline clip-path=\"url(#clip8302)\" style=\"stroke:#000000; stroke-width:2; stroke-opacity:0.1; fill:none\" points=\"\n",
       "  227.042,483.976 3872.76,483.976 \n",
       "  \"/>\n",
       "<polyline clip-path=\"url(#clip8302)\" style=\"stroke:#000000; stroke-width:2; stroke-opacity:0.1; fill:none\" points=\"\n",
       "  227.042,274.613 3872.76,274.613 \n",
       "  \"/>\n",
       "<polyline clip-path=\"url(#clip8302)\" style=\"stroke:#000000; stroke-width:2; stroke-opacity:0.1; fill:none\" points=\"\n",
       "  227.042,65.2493 3872.76,65.2493 \n",
       "  \"/>\n",
       "<polyline clip-path=\"url(#clip8300)\" style=\"stroke:#000000; stroke-width:4; stroke-opacity:1; fill:none\" points=\"\n",
       "  227.042,1423.18 3872.76,1423.18 \n",
       "  \"/>\n",
       "<polyline clip-path=\"url(#clip8300)\" style=\"stroke:#000000; stroke-width:4; stroke-opacity:1; fill:none\" points=\"\n",
       "  227.042,1423.18 227.042,47.2441 \n",
       "  \"/>\n",
       "<polyline clip-path=\"url(#clip8300)\" style=\"stroke:#000000; stroke-width:4; stroke-opacity:1; fill:none\" points=\"\n",
       "  330.223,1423.18 330.223,1406.67 \n",
       "  \"/>\n",
       "<polyline clip-path=\"url(#clip8300)\" style=\"stroke:#000000; stroke-width:4; stroke-opacity:1; fill:none\" points=\"\n",
       "  589.099,1423.18 589.099,1406.67 \n",
       "  \"/>\n",
       "<polyline clip-path=\"url(#clip8300)\" style=\"stroke:#000000; stroke-width:4; stroke-opacity:1; fill:none\" points=\"\n",
       "  810.992,1423.18 810.992,1406.67 \n",
       "  \"/>\n",
       "<polyline clip-path=\"url(#clip8300)\" style=\"stroke:#000000; stroke-width:4; stroke-opacity:1; fill:none\" points=\"\n",
       "  1069.87,1423.18 1069.87,1406.67 \n",
       "  \"/>\n",
       "<polyline clip-path=\"url(#clip8300)\" style=\"stroke:#000000; stroke-width:4; stroke-opacity:1; fill:none\" points=\"\n",
       "  1328.74,1423.18 1328.74,1406.67 \n",
       "  \"/>\n",
       "<polyline clip-path=\"url(#clip8300)\" style=\"stroke:#000000; stroke-width:4; stroke-opacity:1; fill:none\" points=\"\n",
       "  1550.64,1423.18 1550.64,1406.67 \n",
       "  \"/>\n",
       "<polyline clip-path=\"url(#clip8300)\" style=\"stroke:#000000; stroke-width:4; stroke-opacity:1; fill:none\" points=\"\n",
       "  1809.51,1423.18 1809.51,1406.67 \n",
       "  \"/>\n",
       "<polyline clip-path=\"url(#clip8300)\" style=\"stroke:#000000; stroke-width:4; stroke-opacity:1; fill:none\" points=\"\n",
       "  2068.39,1423.18 2068.39,1406.67 \n",
       "  \"/>\n",
       "<polyline clip-path=\"url(#clip8300)\" style=\"stroke:#000000; stroke-width:4; stroke-opacity:1; fill:none\" points=\"\n",
       "  2290.28,1423.18 2290.28,1406.67 \n",
       "  \"/>\n",
       "<polyline clip-path=\"url(#clip8300)\" style=\"stroke:#000000; stroke-width:4; stroke-opacity:1; fill:none\" points=\"\n",
       "  2549.16,1423.18 2549.16,1406.67 \n",
       "  \"/>\n",
       "<polyline clip-path=\"url(#clip8300)\" style=\"stroke:#000000; stroke-width:4; stroke-opacity:1; fill:none\" points=\"\n",
       "  2771.05,1423.18 2771.05,1406.67 \n",
       "  \"/>\n",
       "<polyline clip-path=\"url(#clip8300)\" style=\"stroke:#000000; stroke-width:4; stroke-opacity:1; fill:none\" points=\"\n",
       "  3029.93,1423.18 3029.93,1406.67 \n",
       "  \"/>\n",
       "<polyline clip-path=\"url(#clip8300)\" style=\"stroke:#000000; stroke-width:4; stroke-opacity:1; fill:none\" points=\"\n",
       "  3288.81,1423.18 3288.81,1406.67 \n",
       "  \"/>\n",
       "<polyline clip-path=\"url(#clip8300)\" style=\"stroke:#000000; stroke-width:4; stroke-opacity:1; fill:none\" points=\"\n",
       "  3510.7,1423.18 3510.7,1406.67 \n",
       "  \"/>\n",
       "<polyline clip-path=\"url(#clip8300)\" style=\"stroke:#000000; stroke-width:4; stroke-opacity:1; fill:none\" points=\"\n",
       "  3769.58,1423.18 3769.58,1406.67 \n",
       "  \"/>\n",
       "<polyline clip-path=\"url(#clip8300)\" style=\"stroke:#000000; stroke-width:4; stroke-opacity:1; fill:none\" points=\"\n",
       "  227.042,1321.43 270.791,1321.43 \n",
       "  \"/>\n",
       "<polyline clip-path=\"url(#clip8300)\" style=\"stroke:#000000; stroke-width:4; stroke-opacity:1; fill:none\" points=\"\n",
       "  227.042,1112.07 270.791,1112.07 \n",
       "  \"/>\n",
       "<polyline clip-path=\"url(#clip8300)\" style=\"stroke:#000000; stroke-width:4; stroke-opacity:1; fill:none\" points=\"\n",
       "  227.042,902.703 270.791,902.703 \n",
       "  \"/>\n",
       "<polyline clip-path=\"url(#clip8300)\" style=\"stroke:#000000; stroke-width:4; stroke-opacity:1; fill:none\" points=\"\n",
       "  227.042,693.339 270.791,693.339 \n",
       "  \"/>\n",
       "<polyline clip-path=\"url(#clip8300)\" style=\"stroke:#000000; stroke-width:4; stroke-opacity:1; fill:none\" points=\"\n",
       "  227.042,483.976 270.791,483.976 \n",
       "  \"/>\n",
       "<polyline clip-path=\"url(#clip8300)\" style=\"stroke:#000000; stroke-width:4; stroke-opacity:1; fill:none\" points=\"\n",
       "  227.042,274.613 270.791,274.613 \n",
       "  \"/>\n",
       "<polyline clip-path=\"url(#clip8300)\" style=\"stroke:#000000; stroke-width:4; stroke-opacity:1; fill:none\" points=\"\n",
       "  227.042,65.2493 270.791,65.2493 \n",
       "  \"/>\n",
       "<path clip-path=\"url(#clip8300)\" d=\"M 0 0 M228.14 1450.83 L228.14 1455.39 Q225.478 1454.11 223.117 1453.49 Q220.756 1452.86 218.557 1452.86 Q214.737 1452.86 212.654 1454.34 Q210.594 1455.83 210.594 1458.56 Q210.594 1460.85 211.959 1462.03 Q213.348 1463.19 217.191 1463.9 L220.015 1464.48 Q225.246 1465.48 227.723 1468 Q230.223 1470.5 230.223 1474.71 Q230.223 1479.74 226.844 1482.33 Q223.487 1484.92 216.983 1484.92 Q214.529 1484.92 211.751 1484.37 Q208.997 1483.81 206.034 1482.72 L206.034 1477.91 Q208.881 1479.51 211.612 1480.32 Q214.344 1481.13 216.983 1481.13 Q220.987 1481.13 223.163 1479.55 Q225.339 1477.98 225.339 1475.06 Q225.339 1472.52 223.765 1471.08 Q222.214 1469.65 218.649 1468.93 L215.802 1468.37 Q210.571 1467.33 208.233 1465.11 Q205.895 1462.89 205.895 1458.93 Q205.895 1454.34 209.112 1451.71 Q212.353 1449.07 218.024 1449.07 Q220.455 1449.07 222.978 1449.51 Q225.501 1449.95 228.14 1450.83 Z\" fill=\"#000000\" fill-rule=\"evenodd\" fill-opacity=\"1\" /><path clip-path=\"url(#clip8300)\" d=\"M 0 0 M256.867 1470.22 L256.867 1472.31 L237.283 1472.31 Q237.561 1476.71 239.922 1479.02 Q242.307 1481.31 246.543 1481.31 Q248.996 1481.31 251.288 1480.71 Q253.603 1480.11 255.871 1478.9 L255.871 1482.93 Q253.58 1483.9 251.172 1484.41 Q248.765 1484.92 246.288 1484.92 Q240.084 1484.92 236.45 1481.31 Q232.839 1477.7 232.839 1471.54 Q232.839 1465.18 236.265 1461.45 Q239.714 1457.7 245.547 1457.7 Q250.779 1457.7 253.811 1461.08 Q256.867 1464.44 256.867 1470.22 M252.607 1468.97 Q252.561 1465.48 250.64 1463.4 Q248.742 1461.31 245.594 1461.31 Q242.029 1461.31 239.876 1463.33 Q237.746 1465.34 237.422 1469 L252.607 1468.97 Z\" fill=\"#000000\" fill-rule=\"evenodd\" fill-opacity=\"1\" /><path clip-path=\"url(#clip8300)\" d=\"M 0 0 M265.455 1480.36 L265.455 1494.11 L261.172 1494.11 L261.172 1458.33 L265.455 1458.33 L265.455 1462.26 Q266.797 1459.95 268.834 1458.84 Q270.894 1457.7 273.742 1457.7 Q278.464 1457.7 281.404 1461.45 Q284.366 1465.2 284.366 1471.31 Q284.366 1477.42 281.404 1481.17 Q278.464 1484.92 273.742 1484.92 Q270.894 1484.92 268.834 1483.81 Q266.797 1482.68 265.455 1480.36 M279.945 1471.31 Q279.945 1466.61 278.001 1463.95 Q276.08 1461.27 272.7 1461.27 Q269.32 1461.27 267.376 1463.95 Q265.455 1466.61 265.455 1471.31 Q265.455 1476.01 267.376 1478.7 Q269.32 1481.36 272.7 1481.36 Q276.08 1481.36 278.001 1478.7 Q279.945 1476.01 279.945 1471.31 Z\" fill=\"#000000\" fill-rule=\"evenodd\" fill-opacity=\"1\" /><path clip-path=\"url(#clip8300)\" d=\"M 0 0 M289.436 1478.37 L294.32 1478.37 L294.32 1484.25 L289.436 1484.25 L289.436 1478.37 Z\" fill=\"#000000\" fill-rule=\"evenodd\" fill-opacity=\"1\" /><path clip-path=\"url(#clip8300)\" d=\"M 0 0 M315.269 1480.32 L322.908 1480.32 L322.908 1453.95 L314.598 1455.62 L314.598 1451.36 L322.862 1449.69 L327.538 1449.69 L327.538 1480.32 L335.176 1480.32 L335.176 1484.25 L315.269 1484.25 L315.269 1480.32 Z\" fill=\"#000000\" fill-rule=\"evenodd\" fill-opacity=\"1\" /><path clip-path=\"url(#clip8300)\" d=\"M 0 0 M354.412 1465.62 Q357.769 1466.34 359.644 1468.6 Q361.542 1470.87 361.542 1474.21 Q361.542 1479.32 358.024 1482.12 Q354.505 1484.92 348.024 1484.92 Q345.848 1484.92 343.533 1484.48 Q341.241 1484.07 338.788 1483.21 L338.788 1478.7 Q340.732 1479.83 343.047 1480.41 Q345.362 1480.99 347.885 1480.99 Q352.283 1480.99 354.574 1479.25 Q356.889 1477.52 356.889 1474.21 Q356.889 1471.15 354.736 1469.44 Q352.607 1467.7 348.787 1467.7 L344.76 1467.7 L344.76 1463.86 L348.973 1463.86 Q352.422 1463.86 354.25 1462.49 Q356.079 1461.1 356.079 1458.51 Q356.079 1455.85 354.181 1454.44 Q352.306 1453 348.787 1453 Q346.866 1453 344.667 1453.42 Q342.468 1453.84 339.829 1454.71 L339.829 1450.55 Q342.491 1449.81 344.806 1449.44 Q347.144 1449.07 349.204 1449.07 Q354.528 1449.07 357.63 1451.5 Q360.732 1453.9 360.732 1458.03 Q360.732 1460.9 359.088 1462.89 Q357.445 1464.85 354.412 1465.62 Z\" fill=\"#000000\" fill-rule=\"evenodd\" fill-opacity=\"1\" /><path clip-path=\"url(#clip8300)\" d=\"M 0 0 M367.098 1478.37 L371.982 1478.37 L371.982 1482.35 L368.185 1489.76 L365.199 1489.76 L367.098 1482.35 L367.098 1478.37 Z\" fill=\"#000000\" fill-rule=\"evenodd\" fill-opacity=\"1\" /><path clip-path=\"url(#clip8300)\" d=\"M 0 0 M396.148 1480.32 L412.468 1480.32 L412.468 1484.25 L390.523 1484.25 L390.523 1480.32 Q393.185 1477.56 397.769 1472.93 Q402.375 1468.28 403.556 1466.94 Q405.801 1464.41 406.681 1462.68 Q407.583 1460.92 407.583 1459.23 Q407.583 1456.47 405.639 1454.74 Q403.718 1453 400.616 1453 Q398.417 1453 395.963 1453.77 Q393.533 1454.53 390.755 1456.08 L390.755 1451.36 Q393.579 1450.22 396.033 1449.65 Q398.486 1449.07 400.523 1449.07 Q405.894 1449.07 409.088 1451.75 Q412.282 1454.44 412.282 1458.93 Q412.282 1461.06 411.472 1462.98 Q410.685 1464.88 408.579 1467.47 Q408 1468.14 404.898 1471.36 Q401.796 1474.55 396.148 1480.32 Z\" fill=\"#000000\" fill-rule=\"evenodd\" fill-opacity=\"1\" /><path clip-path=\"url(#clip8300)\" d=\"M 0 0 M427.537 1452.77 Q423.926 1452.77 422.097 1456.34 Q420.292 1459.88 420.292 1467.01 Q420.292 1474.11 422.097 1477.68 Q423.926 1481.22 427.537 1481.22 Q431.171 1481.22 432.977 1477.68 Q434.806 1474.11 434.806 1467.01 Q434.806 1459.88 432.977 1456.34 Q431.171 1452.77 427.537 1452.77 M427.537 1449.07 Q433.347 1449.07 436.403 1453.67 Q439.481 1458.26 439.481 1467.01 Q439.481 1475.73 436.403 1480.34 Q433.347 1484.92 427.537 1484.92 Q421.727 1484.92 418.648 1480.34 Q415.593 1475.73 415.593 1467.01 Q415.593 1458.26 418.648 1453.67 Q421.727 1449.07 427.537 1449.07 Z\" fill=\"#000000\" fill-rule=\"evenodd\" fill-opacity=\"1\" /><path clip-path=\"url(#clip8300)\" d=\"M 0 0 M486.877 1450.83 L486.877 1455.39 Q484.215 1454.11 481.854 1453.49 Q479.493 1452.86 477.294 1452.86 Q473.474 1452.86 471.391 1454.34 Q469.331 1455.83 469.331 1458.56 Q469.331 1460.85 470.697 1462.03 Q472.085 1463.19 475.928 1463.9 L478.752 1464.48 Q483.984 1465.48 486.46 1468 Q488.96 1470.5 488.96 1474.71 Q488.96 1479.74 485.581 1482.33 Q482.224 1484.92 475.72 1484.92 Q473.266 1484.92 470.488 1484.37 Q467.734 1483.81 464.771 1482.72 L464.771 1477.91 Q467.618 1479.51 470.349 1480.32 Q473.081 1481.13 475.72 1481.13 Q479.724 1481.13 481.9 1479.55 Q484.076 1477.98 484.076 1475.06 Q484.076 1472.52 482.502 1471.08 Q480.951 1469.65 477.386 1468.93 L474.539 1468.37 Q469.308 1467.33 466.97 1465.11 Q464.632 1462.89 464.632 1458.93 Q464.632 1454.34 467.849 1451.71 Q471.09 1449.07 476.761 1449.07 Q479.192 1449.07 481.715 1449.51 Q484.238 1449.95 486.877 1450.83 Z\" fill=\"#000000\" fill-rule=\"evenodd\" fill-opacity=\"1\" /><path clip-path=\"url(#clip8300)\" d=\"M 0 0 M515.604 1470.22 L515.604 1472.31 L496.021 1472.31 Q496.298 1476.71 498.659 1479.02 Q501.044 1481.31 505.28 1481.31 Q507.733 1481.31 510.025 1480.71 Q512.34 1480.11 514.608 1478.9 L514.608 1482.93 Q512.317 1483.9 509.909 1484.41 Q507.502 1484.92 505.025 1484.92 Q498.821 1484.92 495.187 1481.31 Q491.576 1477.7 491.576 1471.54 Q491.576 1465.18 495.002 1461.45 Q498.451 1457.7 504.284 1457.7 Q509.516 1457.7 512.548 1461.08 Q515.604 1464.44 515.604 1470.22 M511.345 1468.97 Q511.298 1465.48 509.377 1463.4 Q507.479 1461.31 504.331 1461.31 Q500.766 1461.31 498.613 1463.33 Q496.483 1465.34 496.159 1469 L511.345 1468.97 Z\" fill=\"#000000\" fill-rule=\"evenodd\" fill-opacity=\"1\" /><path clip-path=\"url(#clip8300)\" d=\"M 0 0 M524.192 1480.36 L524.192 1494.11 L519.909 1494.11 L519.909 1458.33 L524.192 1458.33 L524.192 1462.26 Q525.534 1459.95 527.571 1458.84 Q529.631 1457.7 532.479 1457.7 Q537.201 1457.7 540.141 1461.45 Q543.104 1465.2 543.104 1471.31 Q543.104 1477.42 540.141 1481.17 Q537.201 1484.92 532.479 1484.92 Q529.631 1484.92 527.571 1483.81 Q525.534 1482.68 524.192 1480.36 M538.682 1471.31 Q538.682 1466.61 536.738 1463.95 Q534.817 1461.27 531.437 1461.27 Q528.057 1461.27 526.113 1463.95 Q524.192 1466.61 524.192 1471.31 Q524.192 1476.01 526.113 1478.7 Q528.057 1481.36 531.437 1481.36 Q534.817 1481.36 536.738 1478.7 Q538.682 1476.01 538.682 1471.31 Z\" fill=\"#000000\" fill-rule=\"evenodd\" fill-opacity=\"1\" /><path clip-path=\"url(#clip8300)\" d=\"M 0 0 M548.173 1478.37 L553.057 1478.37 L553.057 1484.25 L548.173 1484.25 L548.173 1478.37 Z\" fill=\"#000000\" fill-rule=\"evenodd\" fill-opacity=\"1\" /><path clip-path=\"url(#clip8300)\" d=\"M 0 0 M577.224 1480.32 L593.543 1480.32 L593.543 1484.25 L571.599 1484.25 L571.599 1480.32 Q574.261 1477.56 578.844 1472.93 Q583.451 1468.28 584.631 1466.94 Q586.877 1464.41 587.756 1462.68 Q588.659 1460.92 588.659 1459.23 Q588.659 1456.47 586.714 1454.74 Q584.793 1453 581.691 1453 Q579.492 1453 577.039 1453.77 Q574.608 1454.53 571.83 1456.08 L571.83 1451.36 Q574.654 1450.22 577.108 1449.65 Q579.562 1449.07 581.599 1449.07 Q586.969 1449.07 590.164 1451.75 Q593.358 1454.44 593.358 1458.93 Q593.358 1461.06 592.548 1462.98 Q591.761 1464.88 589.654 1467.47 Q589.076 1468.14 585.974 1471.36 Q582.872 1474.55 577.224 1480.32 Z\" fill=\"#000000\" fill-rule=\"evenodd\" fill-opacity=\"1\" /><path clip-path=\"url(#clip8300)\" d=\"M 0 0 M608.613 1452.77 Q605.001 1452.77 603.173 1456.34 Q601.367 1459.88 601.367 1467.01 Q601.367 1474.11 603.173 1477.68 Q605.001 1481.22 608.613 1481.22 Q612.247 1481.22 614.052 1477.68 Q615.881 1474.11 615.881 1467.01 Q615.881 1459.88 614.052 1456.34 Q612.247 1452.77 608.613 1452.77 M608.613 1449.07 Q614.423 1449.07 617.478 1453.67 Q620.557 1458.26 620.557 1467.01 Q620.557 1475.73 617.478 1480.34 Q614.423 1484.92 608.613 1484.92 Q602.802 1484.92 599.724 1480.34 Q596.668 1475.73 596.668 1467.01 Q596.668 1458.26 599.724 1453.67 Q602.802 1449.07 608.613 1449.07 Z\" fill=\"#000000\" fill-rule=\"evenodd\" fill-opacity=\"1\" /><path clip-path=\"url(#clip8300)\" d=\"M 0 0 M626.112 1478.37 L630.997 1478.37 L630.997 1482.35 L627.2 1489.76 L624.214 1489.76 L626.112 1482.35 L626.112 1478.37 Z\" fill=\"#000000\" fill-rule=\"evenodd\" fill-opacity=\"1\" /><path clip-path=\"url(#clip8300)\" d=\"M 0 0 M655.163 1480.32 L671.483 1480.32 L671.483 1484.25 L649.538 1484.25 L649.538 1480.32 Q652.2 1477.56 656.784 1472.93 Q661.39 1468.28 662.571 1466.94 Q664.816 1464.41 665.696 1462.68 Q666.598 1460.92 666.598 1459.23 Q666.598 1456.47 664.654 1454.74 Q662.733 1453 659.631 1453 Q657.432 1453 654.978 1453.77 Q652.547 1454.53 649.77 1456.08 L649.77 1451.36 Q652.594 1450.22 655.047 1449.65 Q657.501 1449.07 659.538 1449.07 Q664.909 1449.07 668.103 1451.75 Q671.297 1454.44 671.297 1458.93 Q671.297 1461.06 670.487 1462.98 Q669.7 1464.88 667.594 1467.47 Q667.015 1468.14 663.913 1471.36 Q660.811 1474.55 655.163 1480.32 Z\" fill=\"#000000\" fill-rule=\"evenodd\" fill-opacity=\"1\" /><path clip-path=\"url(#clip8300)\" d=\"M 0 0 M686.552 1452.77 Q682.941 1452.77 681.112 1456.34 Q679.307 1459.88 679.307 1467.01 Q679.307 1474.11 681.112 1477.68 Q682.941 1481.22 686.552 1481.22 Q690.186 1481.22 691.992 1477.68 Q693.82 1474.11 693.82 1467.01 Q693.82 1459.88 691.992 1456.34 Q690.186 1452.77 686.552 1452.77 M686.552 1449.07 Q692.362 1449.07 695.418 1453.67 Q698.496 1458.26 698.496 1467.01 Q698.496 1475.73 695.418 1480.34 Q692.362 1484.92 686.552 1484.92 Q680.742 1484.92 677.663 1480.34 Q674.608 1475.73 674.608 1467.01 Q674.608 1458.26 677.663 1453.67 Q680.742 1449.07 686.552 1449.07 Z\" fill=\"#000000\" fill-rule=\"evenodd\" fill-opacity=\"1\" /><path clip-path=\"url(#clip8300)\" d=\"M 0 0 M708.69 1450.83 L708.69 1455.39 Q706.028 1454.11 703.667 1453.49 Q701.306 1452.86 699.106 1452.86 Q695.287 1452.86 693.204 1454.34 Q691.144 1455.83 691.144 1458.56 Q691.144 1460.85 692.509 1462.03 Q693.898 1463.19 697.741 1463.9 L700.565 1464.48 Q705.796 1465.48 708.273 1468 Q710.773 1470.5 710.773 1474.71 Q710.773 1479.74 707.393 1482.33 Q704.037 1484.92 697.532 1484.92 Q695.079 1484.92 692.301 1484.37 Q689.546 1483.81 686.583 1482.72 L686.583 1477.91 Q689.431 1479.51 692.162 1480.32 Q694.894 1481.13 697.532 1481.13 Q701.537 1481.13 703.713 1479.55 Q705.889 1477.98 705.889 1475.06 Q705.889 1472.52 704.315 1471.08 Q702.764 1469.65 699.199 1468.93 L696.352 1468.37 Q691.12 1467.33 688.782 1465.11 Q686.445 1462.89 686.445 1458.93 Q686.445 1454.34 689.662 1451.71 Q692.903 1449.07 698.574 1449.07 Q701.005 1449.07 703.528 1449.51 Q706.051 1449.95 708.69 1450.83 Z\" fill=\"#000000\" fill-rule=\"evenodd\" fill-opacity=\"1\" /><path clip-path=\"url(#clip8300)\" d=\"M 0 0 M737.416 1470.22 L737.416 1472.31 L717.833 1472.31 Q718.111 1476.71 720.472 1479.02 Q722.856 1481.31 727.092 1481.31 Q729.546 1481.31 731.838 1480.71 Q734.153 1480.11 736.421 1478.9 L736.421 1482.93 Q734.129 1483.9 731.722 1484.41 Q729.315 1484.92 726.838 1484.92 Q720.634 1484.92 717 1481.31 Q713.389 1477.7 713.389 1471.54 Q713.389 1465.18 716.815 1461.45 Q720.264 1457.7 726.097 1457.7 Q731.329 1457.7 734.361 1461.08 Q737.416 1464.44 737.416 1470.22 M733.157 1468.97 Q733.111 1465.48 731.19 1463.4 Q729.291 1461.31 726.143 1461.31 Q722.579 1461.31 720.426 1463.33 Q718.296 1465.34 717.972 1469 L733.157 1468.97 Z\" fill=\"#000000\" fill-rule=\"evenodd\" fill-opacity=\"1\" /><path clip-path=\"url(#clip8300)\" d=\"M 0 0 M746.004 1480.36 L746.004 1494.11 L741.722 1494.11 L741.722 1458.33 L746.004 1458.33 L746.004 1462.26 Q747.347 1459.95 749.384 1458.84 Q751.444 1457.7 754.291 1457.7 Q759.014 1457.7 761.953 1461.45 Q764.916 1465.2 764.916 1471.31 Q764.916 1477.42 761.953 1481.17 Q759.014 1484.92 754.291 1484.92 Q751.444 1484.92 749.384 1483.81 Q747.347 1482.68 746.004 1480.36 M760.495 1471.31 Q760.495 1466.61 758.551 1463.95 Q756.629 1461.27 753.25 1461.27 Q749.87 1461.27 747.926 1463.95 Q746.004 1466.61 746.004 1471.31 Q746.004 1476.01 747.926 1478.7 Q749.87 1481.36 753.25 1481.36 Q756.629 1481.36 758.551 1478.7 Q760.495 1476.01 760.495 1471.31 Z\" fill=\"#000000\" fill-rule=\"evenodd\" fill-opacity=\"1\" /><path clip-path=\"url(#clip8300)\" d=\"M 0 0 M769.986 1478.37 L774.87 1478.37 L774.87 1484.25 L769.986 1484.25 L769.986 1478.37 Z\" fill=\"#000000\" fill-rule=\"evenodd\" fill-opacity=\"1\" /><path clip-path=\"url(#clip8300)\" d=\"M 0 0 M799.036 1480.32 L815.356 1480.32 L815.356 1484.25 L793.412 1484.25 L793.412 1480.32 Q796.074 1477.56 800.657 1472.93 Q805.263 1468.28 806.444 1466.94 Q808.689 1464.41 809.569 1462.68 Q810.472 1460.92 810.472 1459.23 Q810.472 1456.47 808.527 1454.74 Q806.606 1453 803.504 1453 Q801.305 1453 798.851 1453.77 Q796.421 1454.53 793.643 1456.08 L793.643 1451.36 Q796.467 1450.22 798.921 1449.65 Q801.374 1449.07 803.411 1449.07 Q808.782 1449.07 811.976 1451.75 Q815.171 1454.44 815.171 1458.93 Q815.171 1461.06 814.36 1462.98 Q813.573 1464.88 811.467 1467.47 Q810.888 1468.14 807.786 1471.36 Q804.685 1474.55 799.036 1480.32 Z\" fill=\"#000000\" fill-rule=\"evenodd\" fill-opacity=\"1\" /><path clip-path=\"url(#clip8300)\" d=\"M 0 0 M831.004 1465.11 Q827.856 1465.11 826.004 1467.26 Q824.175 1469.41 824.175 1473.16 Q824.175 1476.89 826.004 1479.07 Q827.856 1481.22 831.004 1481.22 Q834.152 1481.22 835.981 1479.07 Q837.833 1476.89 837.833 1473.16 Q837.833 1469.41 835.981 1467.26 Q834.152 1465.11 831.004 1465.11 M840.286 1450.46 L840.286 1454.71 Q838.527 1453.88 836.721 1453.44 Q834.939 1453 833.18 1453 Q828.55 1453 826.097 1456.13 Q823.666 1459.25 823.319 1465.57 Q824.685 1463.56 826.745 1462.49 Q828.805 1461.4 831.282 1461.4 Q836.49 1461.4 839.499 1464.58 Q842.532 1467.72 842.532 1473.16 Q842.532 1478.49 839.384 1481.71 Q836.235 1484.92 831.004 1484.92 Q825.009 1484.92 821.837 1480.34 Q818.666 1475.73 818.666 1467.01 Q818.666 1458.81 822.555 1453.95 Q826.444 1449.07 832.995 1449.07 Q834.754 1449.07 836.536 1449.41 Q838.342 1449.76 840.286 1450.46 Z\" fill=\"#000000\" fill-rule=\"evenodd\" fill-opacity=\"1\" /><path clip-path=\"url(#clip8300)\" d=\"M 0 0 M848.087 1478.37 L852.971 1478.37 L852.971 1482.35 L849.175 1489.76 L846.189 1489.76 L848.087 1482.35 L848.087 1478.37 Z\" fill=\"#000000\" fill-rule=\"evenodd\" fill-opacity=\"1\" /><path clip-path=\"url(#clip8300)\" d=\"M 0 0 M877.138 1480.32 L893.457 1480.32 L893.457 1484.25 L871.513 1484.25 L871.513 1480.32 Q874.175 1477.56 878.758 1472.93 Q883.365 1468.28 884.545 1466.94 Q886.791 1464.41 887.67 1462.68 Q888.573 1460.92 888.573 1459.23 Q888.573 1456.47 886.629 1454.74 Q884.707 1453 881.605 1453 Q879.406 1453 876.953 1453.77 Q874.522 1454.53 871.744 1456.08 L871.744 1451.36 Q874.568 1450.22 877.022 1449.65 Q879.476 1449.07 881.513 1449.07 Q886.883 1449.07 890.078 1451.75 Q893.272 1454.44 893.272 1458.93 Q893.272 1461.06 892.462 1462.98 Q891.675 1464.88 889.568 1467.47 Q888.99 1468.14 885.888 1471.36 Q882.786 1474.55 877.138 1480.32 Z\" fill=\"#000000\" fill-rule=\"evenodd\" fill-opacity=\"1\" /><path clip-path=\"url(#clip8300)\" d=\"M 0 0 M908.527 1452.77 Q904.916 1452.77 903.087 1456.34 Q901.281 1459.88 901.281 1467.01 Q901.281 1474.11 903.087 1477.68 Q904.916 1481.22 908.527 1481.22 Q912.161 1481.22 913.966 1477.68 Q915.795 1474.11 915.795 1467.01 Q915.795 1459.88 913.966 1456.34 Q912.161 1452.77 908.527 1452.77 M908.527 1449.07 Q914.337 1449.07 917.392 1453.67 Q920.471 1458.26 920.471 1467.01 Q920.471 1475.73 917.392 1480.34 Q914.337 1484.92 908.527 1484.92 Q902.716 1484.92 899.638 1480.34 Q896.582 1475.73 896.582 1467.01 Q896.582 1458.26 899.638 1453.67 Q902.716 1449.07 908.527 1449.07 Z\" fill=\"#000000\" fill-rule=\"evenodd\" fill-opacity=\"1\" /><path clip-path=\"url(#clip8300)\" d=\"M 0 0 M977.404 1452.86 Q972.311 1452.86 969.302 1456.66 Q966.316 1460.46 966.316 1467.01 Q966.316 1473.53 969.302 1477.33 Q972.311 1481.13 977.404 1481.13 Q982.496 1481.13 985.459 1477.33 Q988.445 1473.53 988.445 1467.01 Q988.445 1460.46 985.459 1456.66 Q982.496 1452.86 977.404 1452.86 M977.404 1449.07 Q984.672 1449.07 989.024 1453.95 Q993.376 1458.81 993.376 1467.01 Q993.376 1475.18 989.024 1480.06 Q984.672 1484.92 977.404 1484.92 Q970.112 1484.92 965.737 1480.06 Q961.385 1475.2 961.385 1467.01 Q961.385 1458.81 965.737 1453.95 Q970.112 1449.07 977.404 1449.07 Z\" fill=\"#000000\" fill-rule=\"evenodd\" fill-opacity=\"1\" /><path clip-path=\"url(#clip8300)\" d=\"M 0 0 M1016.5 1459.32 L1016.5 1463.3 Q1014.7 1462.31 1012.87 1461.82 Q1011.06 1461.31 1009.21 1461.31 Q1005.07 1461.31 1002.77 1463.95 Q1000.48 1466.57 1000.48 1471.31 Q1000.48 1476.06 1002.77 1478.7 Q1005.07 1481.31 1009.21 1481.31 Q1011.06 1481.31 1012.87 1480.83 Q1014.7 1480.32 1016.5 1479.32 L1016.5 1483.26 Q1014.72 1484.09 1012.8 1484.51 Q1010.9 1484.92 1008.75 1484.92 Q1002.89 1484.92 999.441 1481.24 Q995.992 1477.56 995.992 1471.31 Q995.992 1464.97 999.464 1461.34 Q1002.96 1457.7 1009.02 1457.7 Q1010.99 1457.7 1012.87 1458.12 Q1014.74 1458.51 1016.5 1459.32 Z\" fill=\"#000000\" fill-rule=\"evenodd\" fill-opacity=\"1\" /><path clip-path=\"url(#clip8300)\" d=\"M 0 0 M1025.18 1450.96 L1025.18 1458.33 L1033.95 1458.33 L1033.95 1461.64 L1025.18 1461.64 L1025.18 1475.71 Q1025.18 1478.88 1026.04 1479.78 Q1026.92 1480.69 1029.58 1480.69 L1033.95 1480.69 L1033.95 1484.25 L1029.58 1484.25 Q1024.65 1484.25 1022.77 1482.42 Q1020.9 1480.57 1020.9 1475.71 L1020.9 1461.64 L1017.77 1461.64 L1017.77 1458.33 L1020.9 1458.33 L1020.9 1450.96 L1025.18 1450.96 Z\" fill=\"#000000\" fill-rule=\"evenodd\" fill-opacity=\"1\" /><path clip-path=\"url(#clip8300)\" d=\"M 0 0 M1039.02 1478.37 L1043.91 1478.37 L1043.91 1484.25 L1039.02 1484.25 L1039.02 1478.37 Z\" fill=\"#000000\" fill-rule=\"evenodd\" fill-opacity=\"1\" /><path clip-path=\"url(#clip8300)\" d=\"M 0 0 M1078.21 1465.62 Q1081.57 1466.34 1083.44 1468.6 Q1085.34 1470.87 1085.34 1474.21 Q1085.34 1479.32 1081.82 1482.12 Q1078.31 1484.92 1071.82 1484.92 Q1069.65 1484.92 1067.33 1484.48 Q1065.04 1484.07 1062.59 1483.21 L1062.59 1478.7 Q1064.53 1479.83 1066.85 1480.41 Q1069.16 1480.99 1071.69 1480.99 Q1076.08 1480.99 1078.38 1479.25 Q1080.69 1477.52 1080.69 1474.21 Q1080.69 1471.15 1078.54 1469.44 Q1076.41 1467.7 1072.59 1467.7 L1068.56 1467.7 L1068.56 1463.86 L1072.77 1463.86 Q1076.22 1463.86 1078.05 1462.49 Q1079.88 1461.1 1079.88 1458.51 Q1079.88 1455.85 1077.98 1454.44 Q1076.11 1453 1072.59 1453 Q1070.67 1453 1068.47 1453.42 Q1066.27 1453.84 1063.63 1454.71 L1063.63 1450.55 Q1066.29 1449.81 1068.61 1449.44 Q1070.94 1449.07 1073.01 1449.07 Q1078.33 1449.07 1081.43 1451.5 Q1084.53 1453.9 1084.53 1458.03 Q1084.53 1460.9 1082.89 1462.89 Q1081.25 1464.85 1078.21 1465.62 Z\" fill=\"#000000\" fill-rule=\"evenodd\" fill-opacity=\"1\" /><path clip-path=\"url(#clip8300)\" d=\"M 0 0 M1090.9 1478.37 L1095.78 1478.37 L1095.78 1482.35 L1091.99 1489.76 L1089 1489.76 L1090.9 1482.35 L1090.9 1478.37 Z\" fill=\"#000000\" fill-rule=\"evenodd\" fill-opacity=\"1\" /><path clip-path=\"url(#clip8300)\" d=\"M 0 0 M1119.95 1480.32 L1136.27 1480.32 L1136.27 1484.25 L1114.32 1484.25 L1114.32 1480.32 Q1116.99 1477.56 1121.57 1472.93 Q1126.18 1468.28 1127.36 1466.94 Q1129.6 1464.41 1130.48 1462.68 Q1131.38 1460.92 1131.38 1459.23 Q1131.38 1456.47 1129.44 1454.74 Q1127.52 1453 1124.42 1453 Q1122.22 1453 1119.76 1453.77 Q1117.33 1454.53 1114.56 1456.08 L1114.56 1451.36 Q1117.38 1450.22 1119.83 1449.65 Q1122.29 1449.07 1124.32 1449.07 Q1129.69 1449.07 1132.89 1451.75 Q1136.08 1454.44 1136.08 1458.93 Q1136.08 1461.06 1135.27 1462.98 Q1134.49 1464.88 1132.38 1467.47 Q1131.8 1468.14 1128.7 1471.36 Q1125.6 1474.55 1119.95 1480.32 Z\" fill=\"#000000\" fill-rule=\"evenodd\" fill-opacity=\"1\" /><path clip-path=\"url(#clip8300)\" d=\"M 0 0 M1151.34 1452.77 Q1147.73 1452.77 1145.9 1456.34 Q1144.09 1459.88 1144.09 1467.01 Q1144.09 1474.11 1145.9 1477.68 Q1147.73 1481.22 1151.34 1481.22 Q1154.97 1481.22 1156.78 1477.68 Q1158.61 1474.11 1158.61 1467.01 Q1158.61 1459.88 1156.78 1456.34 Q1154.97 1452.77 1151.34 1452.77 M1151.34 1449.07 Q1157.15 1449.07 1160.2 1453.67 Q1163.28 1458.26 1163.28 1467.01 Q1163.28 1475.73 1160.2 1480.34 Q1157.15 1484.92 1151.34 1484.92 Q1145.53 1484.92 1142.45 1480.34 Q1139.39 1475.73 1139.39 1467.01 Q1139.39 1458.26 1142.45 1453.67 Q1145.53 1449.07 1151.34 1449.07 Z\" fill=\"#000000\" fill-rule=\"evenodd\" fill-opacity=\"1\" /><path clip-path=\"url(#clip8300)\" d=\"M 0 0 M1223.06 1452.86 Q1217.97 1452.86 1214.96 1456.66 Q1211.97 1460.46 1211.97 1467.01 Q1211.97 1473.53 1214.96 1477.33 Q1217.97 1481.13 1223.06 1481.13 Q1228.15 1481.13 1231.12 1477.33 Q1234.1 1473.53 1234.1 1467.01 Q1234.1 1460.46 1231.12 1456.66 Q1228.15 1452.86 1223.06 1452.86 M1223.06 1449.07 Q1230.33 1449.07 1234.68 1453.95 Q1239.03 1458.81 1239.03 1467.01 Q1239.03 1475.18 1234.68 1480.06 Q1230.33 1484.92 1223.06 1484.92 Q1215.77 1484.92 1211.4 1480.06 Q1207.04 1475.2 1207.04 1467.01 Q1207.04 1458.81 1211.4 1453.95 Q1215.77 1449.07 1223.06 1449.07 Z\" fill=\"#000000\" fill-rule=\"evenodd\" fill-opacity=\"1\" /><path clip-path=\"url(#clip8300)\" d=\"M 0 0 M1262.16 1459.32 L1262.16 1463.3 Q1260.35 1462.31 1258.52 1461.82 Q1256.72 1461.31 1254.87 1461.31 Q1250.72 1461.31 1248.43 1463.95 Q1246.14 1466.57 1246.14 1471.31 Q1246.14 1476.06 1248.43 1478.7 Q1250.72 1481.31 1254.87 1481.31 Q1256.72 1481.31 1258.52 1480.83 Q1260.35 1480.32 1262.16 1479.32 L1262.16 1483.26 Q1260.38 1484.09 1258.46 1484.51 Q1256.56 1484.92 1254.4 1484.92 Q1248.55 1484.92 1245.1 1481.24 Q1241.65 1477.56 1241.65 1471.31 Q1241.65 1464.97 1245.12 1461.34 Q1248.62 1457.7 1254.68 1457.7 Q1256.65 1457.7 1258.52 1458.12 Q1260.4 1458.51 1262.16 1459.32 Z\" fill=\"#000000\" fill-rule=\"evenodd\" fill-opacity=\"1\" /><path clip-path=\"url(#clip8300)\" d=\"M 0 0 M1270.84 1450.96 L1270.84 1458.33 L1279.61 1458.33 L1279.61 1461.64 L1270.84 1461.64 L1270.84 1475.71 Q1270.84 1478.88 1271.7 1479.78 Q1272.58 1480.69 1275.24 1480.69 L1279.61 1480.69 L1279.61 1484.25 L1275.24 1484.25 Q1270.31 1484.25 1268.43 1482.42 Q1266.56 1480.57 1266.56 1475.71 L1266.56 1461.64 L1263.43 1461.64 L1263.43 1458.33 L1266.56 1458.33 L1266.56 1450.96 L1270.84 1450.96 Z\" fill=\"#000000\" fill-rule=\"evenodd\" fill-opacity=\"1\" /><path clip-path=\"url(#clip8300)\" d=\"M 0 0 M1284.68 1478.37 L1289.57 1478.37 L1289.57 1484.25 L1284.68 1484.25 L1284.68 1478.37 Z\" fill=\"#000000\" fill-rule=\"evenodd\" fill-opacity=\"1\" /><path clip-path=\"url(#clip8300)\" d=\"M 0 0 M1310.52 1480.32 L1318.15 1480.32 L1318.15 1453.95 L1309.84 1455.62 L1309.84 1451.36 L1318.11 1449.69 L1322.78 1449.69 L1322.78 1480.32 L1330.42 1480.32 L1330.42 1484.25 L1310.52 1484.25 L1310.52 1480.32 Z\" fill=\"#000000\" fill-rule=\"evenodd\" fill-opacity=\"1\" /><path clip-path=\"url(#clip8300)\" d=\"M 0 0 M1345.49 1452.77 Q1341.88 1452.77 1340.05 1456.34 Q1338.25 1459.88 1338.25 1467.01 Q1338.25 1474.11 1340.05 1477.68 Q1341.88 1481.22 1345.49 1481.22 Q1349.13 1481.22 1350.93 1477.68 Q1352.76 1474.11 1352.76 1467.01 Q1352.76 1459.88 1350.93 1456.34 Q1349.13 1452.77 1345.49 1452.77 M1345.49 1449.07 Q1351.3 1449.07 1354.36 1453.67 Q1357.44 1458.26 1357.44 1467.01 Q1357.44 1475.73 1354.36 1480.34 Q1351.3 1484.92 1345.49 1484.92 Q1339.68 1484.92 1336.6 1480.34 Q1333.55 1475.73 1333.55 1467.01 Q1333.55 1458.26 1336.6 1453.67 Q1339.68 1449.07 1345.49 1449.07 Z\" fill=\"#000000\" fill-rule=\"evenodd\" fill-opacity=\"1\" /><path clip-path=\"url(#clip8300)\" d=\"M 0 0 M1362.99 1478.37 L1367.88 1478.37 L1367.88 1482.35 L1364.08 1489.76 L1361.09 1489.76 L1362.99 1482.35 L1362.99 1478.37 Z\" fill=\"#000000\" fill-rule=\"evenodd\" fill-opacity=\"1\" /><path clip-path=\"url(#clip8300)\" d=\"M 0 0 M1392.04 1480.32 L1408.36 1480.32 L1408.36 1484.25 L1386.42 1484.25 L1386.42 1480.32 Q1389.08 1477.56 1393.66 1472.93 Q1398.27 1468.28 1399.45 1466.94 Q1401.7 1464.41 1402.58 1462.68 Q1403.48 1460.92 1403.48 1459.23 Q1403.48 1456.47 1401.53 1454.74 Q1399.61 1453 1396.51 1453 Q1394.31 1453 1391.86 1453.77 Q1389.43 1454.53 1386.65 1456.08 L1386.65 1451.36 Q1389.47 1450.22 1391.93 1449.65 Q1394.38 1449.07 1396.42 1449.07 Q1401.79 1449.07 1404.98 1451.75 Q1408.18 1454.44 1408.18 1458.93 Q1408.18 1461.06 1407.37 1462.98 Q1406.58 1464.88 1404.47 1467.47 Q1403.89 1468.14 1400.79 1471.36 Q1397.69 1474.55 1392.04 1480.32 Z\" fill=\"#000000\" fill-rule=\"evenodd\" fill-opacity=\"1\" /><path clip-path=\"url(#clip8300)\" d=\"M 0 0 M1423.43 1452.77 Q1419.82 1452.77 1417.99 1456.34 Q1416.19 1459.88 1416.19 1467.01 Q1416.19 1474.11 1417.99 1477.68 Q1419.82 1481.22 1423.43 1481.22 Q1427.07 1481.22 1428.87 1477.68 Q1430.7 1474.11 1430.7 1467.01 Q1430.7 1459.88 1428.87 1456.34 Q1427.07 1452.77 1423.43 1452.77 M1423.43 1449.07 Q1429.24 1449.07 1432.3 1453.67 Q1435.38 1458.26 1435.38 1467.01 Q1435.38 1475.73 1432.3 1480.34 Q1429.24 1484.92 1423.43 1484.92 Q1417.62 1484.92 1414.54 1480.34 Q1411.49 1475.73 1411.49 1467.01 Q1411.49 1458.26 1414.54 1453.67 Q1417.62 1449.07 1423.43 1449.07 Z\" fill=\"#000000\" fill-rule=\"evenodd\" fill-opacity=\"1\" /><path clip-path=\"url(#clip8300)\" d=\"M 0 0 M1444.87 1452.86 Q1439.78 1452.86 1436.77 1456.66 Q1433.79 1460.46 1433.79 1467.01 Q1433.79 1473.53 1436.77 1477.33 Q1439.78 1481.13 1444.87 1481.13 Q1449.97 1481.13 1452.93 1477.33 Q1455.92 1473.53 1455.92 1467.01 Q1455.92 1460.46 1452.93 1456.66 Q1449.97 1452.86 1444.87 1452.86 M1444.87 1449.07 Q1452.14 1449.07 1456.5 1453.95 Q1460.85 1458.81 1460.85 1467.01 Q1460.85 1475.18 1456.5 1480.06 Q1452.14 1484.92 1444.87 1484.92 Q1437.58 1484.92 1433.21 1480.06 Q1428.86 1475.2 1428.86 1467.01 Q1428.86 1458.81 1433.21 1453.95 Q1437.58 1449.07 1444.87 1449.07 Z\" fill=\"#000000\" fill-rule=\"evenodd\" fill-opacity=\"1\" /><path clip-path=\"url(#clip8300)\" d=\"M 0 0 M1483.97 1459.32 L1483.97 1463.3 Q1482.17 1462.31 1480.34 1461.82 Q1478.53 1461.31 1476.68 1461.31 Q1472.54 1461.31 1470.25 1463.95 Q1467.95 1466.57 1467.95 1471.31 Q1467.95 1476.06 1470.25 1478.7 Q1472.54 1481.31 1476.68 1481.31 Q1478.53 1481.31 1480.34 1480.83 Q1482.17 1480.32 1483.97 1479.32 L1483.97 1483.26 Q1482.19 1484.09 1480.27 1484.51 Q1478.37 1484.92 1476.22 1484.92 Q1470.36 1484.92 1466.91 1481.24 Q1463.46 1477.56 1463.46 1471.31 Q1463.46 1464.97 1466.93 1461.34 Q1470.43 1457.7 1476.5 1457.7 Q1478.46 1457.7 1480.34 1458.12 Q1482.21 1458.51 1483.97 1459.32 Z\" fill=\"#000000\" fill-rule=\"evenodd\" fill-opacity=\"1\" /><path clip-path=\"url(#clip8300)\" d=\"M 0 0 M1492.65 1450.96 L1492.65 1458.33 L1501.43 1458.33 L1501.43 1461.64 L1492.65 1461.64 L1492.65 1475.71 Q1492.65 1478.88 1493.51 1479.78 Q1494.39 1480.69 1497.05 1480.69 L1501.43 1480.69 L1501.43 1484.25 L1497.05 1484.25 Q1492.12 1484.25 1490.24 1482.42 Q1488.37 1480.57 1488.37 1475.71 L1488.37 1461.64 L1485.25 1461.64 L1485.25 1458.33 L1488.37 1458.33 L1488.37 1450.96 L1492.65 1450.96 Z\" fill=\"#000000\" fill-rule=\"evenodd\" fill-opacity=\"1\" /><path clip-path=\"url(#clip8300)\" d=\"M 0 0 M1506.49 1478.37 L1511.38 1478.37 L1511.38 1484.25 L1506.49 1484.25 L1506.49 1478.37 Z\" fill=\"#000000\" fill-rule=\"evenodd\" fill-opacity=\"1\" /><path clip-path=\"url(#clip8300)\" d=\"M 0 0 M1532.33 1480.32 L1539.97 1480.32 L1539.97 1453.95 L1531.66 1455.62 L1531.66 1451.36 L1539.92 1449.69 L1544.6 1449.69 L1544.6 1480.32 L1552.24 1480.32 L1552.24 1484.25 L1532.33 1484.25 L1532.33 1480.32 Z\" fill=\"#000000\" fill-rule=\"evenodd\" fill-opacity=\"1\" /><path clip-path=\"url(#clip8300)\" d=\"M 0 0 M1567.88 1465.11 Q1564.74 1465.11 1562.88 1467.26 Q1561.05 1469.41 1561.05 1473.16 Q1561.05 1476.89 1562.88 1479.07 Q1564.74 1481.22 1567.88 1481.22 Q1571.03 1481.22 1572.86 1479.07 Q1574.71 1476.89 1574.71 1473.16 Q1574.71 1469.41 1572.86 1467.26 Q1571.03 1465.11 1567.88 1465.11 M1577.17 1450.46 L1577.17 1454.71 Q1575.41 1453.88 1573.6 1453.44 Q1571.82 1453 1570.06 1453 Q1565.43 1453 1562.98 1456.13 Q1560.55 1459.25 1560.2 1465.57 Q1561.56 1463.56 1563.62 1462.49 Q1565.68 1461.4 1568.16 1461.4 Q1573.37 1461.4 1576.38 1464.58 Q1579.41 1467.72 1579.41 1473.16 Q1579.41 1478.49 1576.26 1481.71 Q1573.11 1484.92 1567.88 1484.92 Q1561.89 1484.92 1558.72 1480.34 Q1555.55 1475.73 1555.55 1467.01 Q1555.55 1458.81 1559.43 1453.95 Q1563.32 1449.07 1569.87 1449.07 Q1571.63 1449.07 1573.42 1449.41 Q1575.22 1449.76 1577.17 1450.46 Z\" fill=\"#000000\" fill-rule=\"evenodd\" fill-opacity=\"1\" /><path clip-path=\"url(#clip8300)\" d=\"M 0 0 M1584.97 1478.37 L1589.85 1478.37 L1589.85 1482.35 L1586.05 1489.76 L1583.07 1489.76 L1584.97 1482.35 L1584.97 1478.37 Z\" fill=\"#000000\" fill-rule=\"evenodd\" fill-opacity=\"1\" /><path clip-path=\"url(#clip8300)\" d=\"M 0 0 M1614.02 1480.32 L1630.34 1480.32 L1630.34 1484.25 L1608.39 1484.25 L1608.39 1480.32 Q1611.05 1477.56 1615.64 1472.93 Q1620.24 1468.28 1621.42 1466.94 Q1623.67 1464.41 1624.55 1462.68 Q1625.45 1460.92 1625.45 1459.23 Q1625.45 1456.47 1623.51 1454.74 Q1621.59 1453 1618.49 1453 Q1616.29 1453 1613.83 1453.77 Q1611.4 1454.53 1608.62 1456.08 L1608.62 1451.36 Q1611.45 1450.22 1613.9 1449.65 Q1616.36 1449.07 1618.39 1449.07 Q1623.76 1449.07 1626.96 1451.75 Q1630.15 1454.44 1630.15 1458.93 Q1630.15 1461.06 1629.34 1462.98 Q1628.55 1464.88 1626.45 1467.47 Q1625.87 1468.14 1622.77 1471.36 Q1619.67 1474.55 1614.02 1480.32 Z\" fill=\"#000000\" fill-rule=\"evenodd\" fill-opacity=\"1\" /><path clip-path=\"url(#clip8300)\" d=\"M 0 0 M1645.41 1452.77 Q1641.8 1452.77 1639.97 1456.34 Q1638.16 1459.88 1638.16 1467.01 Q1638.16 1474.11 1639.97 1477.68 Q1641.8 1481.22 1645.41 1481.22 Q1649.04 1481.22 1650.85 1477.68 Q1652.67 1474.11 1652.67 1467.01 Q1652.67 1459.88 1650.85 1456.34 Q1649.04 1452.77 1645.41 1452.77 M1645.41 1449.07 Q1651.22 1449.07 1654.27 1453.67 Q1657.35 1458.26 1657.35 1467.01 Q1657.35 1475.73 1654.27 1480.34 Q1651.22 1484.92 1645.41 1484.92 Q1639.6 1484.92 1636.52 1480.34 Q1633.46 1475.73 1633.46 1467.01 Q1633.46 1458.26 1636.52 1453.67 Q1639.6 1449.07 1645.41 1449.07 Z\" fill=\"#000000\" fill-rule=\"evenodd\" fill-opacity=\"1\" /><path clip-path=\"url(#clip8300)\" d=\"M 0 0 M1704.34 1452.86 Q1699.25 1452.86 1696.24 1456.66 Q1693.25 1460.46 1693.25 1467.01 Q1693.25 1473.53 1696.24 1477.33 Q1699.25 1481.13 1704.34 1481.13 Q1709.43 1481.13 1712.4 1477.33 Q1715.38 1473.53 1715.38 1467.01 Q1715.38 1460.46 1712.4 1456.66 Q1709.43 1452.86 1704.34 1452.86 M1704.34 1449.07 Q1711.61 1449.07 1715.96 1453.95 Q1720.31 1458.81 1720.31 1467.01 Q1720.31 1475.18 1715.96 1480.06 Q1711.61 1484.92 1704.34 1484.92 Q1697.05 1484.92 1692.67 1480.06 Q1688.32 1475.2 1688.32 1467.01 Q1688.32 1458.81 1692.67 1453.95 Q1697.05 1449.07 1704.34 1449.07 Z\" fill=\"#000000\" fill-rule=\"evenodd\" fill-opacity=\"1\" /><path clip-path=\"url(#clip8300)\" d=\"M 0 0 M1743.44 1459.32 L1743.44 1463.3 Q1741.63 1462.31 1739.8 1461.82 Q1738 1461.31 1736.15 1461.31 Q1732 1461.31 1729.71 1463.95 Q1727.42 1466.57 1727.42 1471.31 Q1727.42 1476.06 1729.71 1478.7 Q1732 1481.31 1736.15 1481.31 Q1738 1481.31 1739.8 1480.83 Q1741.63 1480.32 1743.44 1479.32 L1743.44 1483.26 Q1741.66 1484.09 1739.73 1484.51 Q1737.84 1484.92 1735.68 1484.92 Q1729.83 1484.92 1726.38 1481.24 Q1722.93 1477.56 1722.93 1471.31 Q1722.93 1464.97 1726.4 1461.34 Q1729.9 1457.7 1735.96 1457.7 Q1737.93 1457.7 1739.8 1458.12 Q1741.68 1458.51 1743.44 1459.32 Z\" fill=\"#000000\" fill-rule=\"evenodd\" fill-opacity=\"1\" /><path clip-path=\"url(#clip8300)\" d=\"M 0 0 M1752.12 1450.96 L1752.12 1458.33 L1760.89 1458.33 L1760.89 1461.64 L1752.12 1461.64 L1752.12 1475.71 Q1752.12 1478.88 1752.98 1479.78 Q1753.85 1480.69 1756.52 1480.69 L1760.89 1480.69 L1760.89 1484.25 L1756.52 1484.25 Q1751.59 1484.25 1749.71 1482.42 Q1747.84 1480.57 1747.84 1475.71 L1747.84 1461.64 L1744.71 1461.64 L1744.71 1458.33 L1747.84 1458.33 L1747.84 1450.96 L1752.12 1450.96 Z\" fill=\"#000000\" fill-rule=\"evenodd\" fill-opacity=\"1\" /><path clip-path=\"url(#clip8300)\" d=\"M 0 0 M1765.96 1478.37 L1770.85 1478.37 L1770.85 1484.25 L1765.96 1484.25 L1765.96 1478.37 Z\" fill=\"#000000\" fill-rule=\"evenodd\" fill-opacity=\"1\" /><path clip-path=\"url(#clip8300)\" d=\"M 0 0 M1795.01 1480.32 L1811.33 1480.32 L1811.33 1484.25 L1789.39 1484.25 L1789.39 1480.32 Q1792.05 1477.56 1796.63 1472.93 Q1801.24 1468.28 1802.42 1466.94 Q1804.66 1464.41 1805.54 1462.68 Q1806.45 1460.92 1806.45 1459.23 Q1806.45 1456.47 1804.5 1454.74 Q1802.58 1453 1799.48 1453 Q1797.28 1453 1794.83 1453.77 Q1792.4 1454.53 1789.62 1456.08 L1789.62 1451.36 Q1792.44 1450.22 1794.9 1449.65 Q1797.35 1449.07 1799.39 1449.07 Q1804.76 1449.07 1807.95 1451.75 Q1811.15 1454.44 1811.15 1458.93 Q1811.15 1461.06 1810.34 1462.98 Q1809.55 1464.88 1807.44 1467.47 Q1806.86 1468.14 1803.76 1471.36 Q1800.66 1474.55 1795.01 1480.32 Z\" fill=\"#000000\" fill-rule=\"evenodd\" fill-opacity=\"1\" /><path clip-path=\"url(#clip8300)\" d=\"M 0 0 M1830.57 1465.62 Q1833.92 1466.34 1835.8 1468.6 Q1837.7 1470.87 1837.7 1474.21 Q1837.7 1479.32 1834.18 1482.12 Q1830.66 1484.92 1824.18 1484.92 Q1822 1484.92 1819.69 1484.48 Q1817.4 1484.07 1814.94 1483.21 L1814.94 1478.7 Q1816.89 1479.83 1819.2 1480.41 Q1821.52 1480.99 1824.04 1480.99 Q1828.44 1480.99 1830.73 1479.25 Q1833.04 1477.52 1833.04 1474.21 Q1833.04 1471.15 1830.89 1469.44 Q1828.76 1467.7 1824.94 1467.7 L1820.91 1467.7 L1820.91 1463.86 L1825.13 1463.86 Q1828.58 1463.86 1830.41 1462.49 Q1832.23 1461.1 1832.23 1458.51 Q1832.23 1455.85 1830.34 1454.44 Q1828.46 1453 1824.94 1453 Q1823.02 1453 1820.82 1453.42 Q1818.62 1453.84 1815.98 1454.71 L1815.98 1450.55 Q1818.65 1449.81 1820.96 1449.44 Q1823.3 1449.07 1825.36 1449.07 Q1830.68 1449.07 1833.78 1451.5 Q1836.89 1453.9 1836.89 1458.03 Q1836.89 1460.9 1835.24 1462.89 Q1833.6 1464.85 1830.57 1465.62 Z\" fill=\"#000000\" fill-rule=\"evenodd\" fill-opacity=\"1\" /><path clip-path=\"url(#clip8300)\" d=\"M 0 0 M1843.25 1478.37 L1848.14 1478.37 L1848.14 1482.35 L1844.34 1489.76 L1841.35 1489.76 L1843.25 1482.35 L1843.25 1478.37 Z\" fill=\"#000000\" fill-rule=\"evenodd\" fill-opacity=\"1\" /><path clip-path=\"url(#clip8300)\" d=\"M 0 0 M1872.3 1480.32 L1888.62 1480.32 L1888.62 1484.25 L1866.68 1484.25 L1866.68 1480.32 Q1869.34 1477.56 1873.92 1472.93 Q1878.53 1468.28 1879.71 1466.94 Q1881.96 1464.41 1882.84 1462.68 Q1883.74 1460.92 1883.74 1459.23 Q1883.74 1456.47 1881.79 1454.74 Q1879.87 1453 1876.77 1453 Q1874.57 1453 1872.12 1453.77 Q1869.69 1454.53 1866.91 1456.08 L1866.91 1451.36 Q1869.73 1450.22 1872.19 1449.65 Q1874.64 1449.07 1876.68 1449.07 Q1882.05 1449.07 1885.24 1451.75 Q1888.44 1454.44 1888.44 1458.93 Q1888.44 1461.06 1887.63 1462.98 Q1886.84 1464.88 1884.73 1467.47 Q1884.15 1468.14 1881.05 1471.36 Q1877.95 1474.55 1872.3 1480.32 Z\" fill=\"#000000\" fill-rule=\"evenodd\" fill-opacity=\"1\" /><path clip-path=\"url(#clip8300)\" d=\"M 0 0 M1903.69 1452.77 Q1900.08 1452.77 1898.25 1456.34 Q1896.45 1459.88 1896.45 1467.01 Q1896.45 1474.11 1898.25 1477.68 Q1900.08 1481.22 1903.69 1481.22 Q1907.33 1481.22 1909.13 1477.68 Q1910.96 1474.11 1910.96 1467.01 Q1910.96 1459.88 1909.13 1456.34 Q1907.33 1452.77 1903.69 1452.77 M1903.69 1449.07 Q1909.5 1449.07 1912.56 1453.67 Q1915.64 1458.26 1915.64 1467.01 Q1915.64 1475.73 1912.56 1480.34 Q1909.5 1484.92 1903.69 1484.92 Q1897.88 1484.92 1894.8 1480.34 Q1891.75 1475.73 1891.75 1467.01 Q1891.75 1458.26 1894.8 1453.67 Q1897.88 1449.07 1903.69 1449.07 Z\" fill=\"#000000\" fill-rule=\"evenodd\" fill-opacity=\"1\" /><path clip-path=\"url(#clip8300)\" d=\"M 0 0 M1962.42 1452.86 Q1957.33 1452.86 1954.32 1456.66 Q1951.33 1460.46 1951.33 1467.01 Q1951.33 1473.53 1954.32 1477.33 Q1957.33 1481.13 1962.42 1481.13 Q1967.51 1481.13 1970.47 1477.33 Q1973.46 1473.53 1973.46 1467.01 Q1973.46 1460.46 1970.47 1456.66 Q1967.51 1452.86 1962.42 1452.86 M1962.42 1449.07 Q1969.69 1449.07 1974.04 1453.95 Q1978.39 1458.81 1978.39 1467.01 Q1978.39 1475.18 1974.04 1480.06 Q1969.69 1484.92 1962.42 1484.92 Q1955.13 1484.92 1950.75 1480.06 Q1946.4 1475.2 1946.4 1467.01 Q1946.4 1458.81 1950.75 1453.95 Q1955.13 1449.07 1962.42 1449.07 Z\" fill=\"#000000\" fill-rule=\"evenodd\" fill-opacity=\"1\" /><path clip-path=\"url(#clip8300)\" d=\"M 0 0 M2001.52 1459.32 L2001.52 1463.3 Q1999.71 1462.31 1997.88 1461.82 Q1996.08 1461.31 1994.22 1461.31 Q1990.08 1461.31 1987.79 1463.95 Q1985.5 1466.57 1985.5 1471.31 Q1985.5 1476.06 1987.79 1478.7 Q1990.08 1481.31 1994.22 1481.31 Q1996.08 1481.31 1997.88 1480.83 Q1999.71 1480.32 2001.52 1479.32 L2001.52 1483.26 Q1999.73 1484.09 1997.81 1484.51 Q1995.91 1484.92 1993.76 1484.92 Q1987.9 1484.92 1984.46 1481.24 Q1981.01 1477.56 1981.01 1471.31 Q1981.01 1464.97 1984.48 1461.34 Q1987.97 1457.7 1994.04 1457.7 Q1996.01 1457.7 1997.88 1458.12 Q1999.76 1458.51 2001.52 1459.32 Z\" fill=\"#000000\" fill-rule=\"evenodd\" fill-opacity=\"1\" /><path clip-path=\"url(#clip8300)\" d=\"M 0 0 M2010.2 1450.96 L2010.2 1458.33 L2018.97 1458.33 L2018.97 1461.64 L2010.2 1461.64 L2010.2 1475.71 Q2010.2 1478.88 2011.05 1479.78 Q2011.93 1480.69 2014.59 1480.69 L2018.97 1480.69 L2018.97 1484.25 L2014.59 1484.25 Q2009.66 1484.25 2007.79 1482.42 Q2005.91 1480.57 2005.91 1475.71 L2005.91 1461.64 L2002.79 1461.64 L2002.79 1458.33 L2005.91 1458.33 L2005.91 1450.96 L2010.2 1450.96 Z\" fill=\"#000000\" fill-rule=\"evenodd\" fill-opacity=\"1\" /><path clip-path=\"url(#clip8300)\" d=\"M 0 0 M2024.04 1478.37 L2028.92 1478.37 L2028.92 1484.25 L2024.04 1484.25 L2024.04 1478.37 Z\" fill=\"#000000\" fill-rule=\"evenodd\" fill-opacity=\"1\" /><path clip-path=\"url(#clip8300)\" d=\"M 0 0 M2063.23 1465.62 Q2066.58 1466.34 2068.46 1468.6 Q2070.36 1470.87 2070.36 1474.21 Q2070.36 1479.32 2066.84 1482.12 Q2063.32 1484.92 2056.84 1484.92 Q2054.66 1484.92 2052.35 1484.48 Q2050.06 1484.07 2047.6 1483.21 L2047.6 1478.7 Q2049.55 1479.83 2051.86 1480.41 Q2054.18 1480.99 2056.7 1480.99 Q2061.1 1480.99 2063.39 1479.25 Q2065.71 1477.52 2065.71 1474.21 Q2065.71 1471.15 2063.55 1469.44 Q2061.42 1467.7 2057.6 1467.7 L2053.58 1467.7 L2053.58 1463.86 L2057.79 1463.86 Q2061.24 1463.86 2063.07 1462.49 Q2064.89 1461.1 2064.89 1458.51 Q2064.89 1455.85 2063 1454.44 Q2061.12 1453 2057.6 1453 Q2055.68 1453 2053.48 1453.42 Q2051.28 1453.84 2048.64 1454.71 L2048.64 1450.55 Q2051.31 1449.81 2053.62 1449.44 Q2055.96 1449.07 2058.02 1449.07 Q2063.34 1449.07 2066.45 1451.5 Q2069.55 1453.9 2069.55 1458.03 Q2069.55 1460.9 2067.9 1462.89 Q2066.26 1464.85 2063.23 1465.62 Z\" fill=\"#000000\" fill-rule=\"evenodd\" fill-opacity=\"1\" /><path clip-path=\"url(#clip8300)\" d=\"M 0 0 M2085.43 1452.77 Q2081.82 1452.77 2079.99 1456.34 Q2078.18 1459.88 2078.18 1467.01 Q2078.18 1474.11 2079.99 1477.68 Q2081.82 1481.22 2085.43 1481.22 Q2089.06 1481.22 2090.87 1477.68 Q2092.7 1474.11 2092.7 1467.01 Q2092.7 1459.88 2090.87 1456.34 Q2089.06 1452.77 2085.43 1452.77 M2085.43 1449.07 Q2091.24 1449.07 2094.29 1453.67 Q2097.37 1458.26 2097.37 1467.01 Q2097.37 1475.73 2094.29 1480.34 Q2091.24 1484.92 2085.43 1484.92 Q2079.62 1484.92 2076.54 1480.34 Q2073.48 1475.73 2073.48 1467.01 Q2073.48 1458.26 2076.54 1453.67 Q2079.62 1449.07 2085.43 1449.07 Z\" fill=\"#000000\" fill-rule=\"evenodd\" fill-opacity=\"1\" /><path clip-path=\"url(#clip8300)\" d=\"M 0 0 M2102.93 1478.37 L2107.81 1478.37 L2107.81 1482.35 L2104.01 1489.76 L2101.03 1489.76 L2102.93 1482.35 L2102.93 1478.37 Z\" fill=\"#000000\" fill-rule=\"evenodd\" fill-opacity=\"1\" /><path clip-path=\"url(#clip8300)\" d=\"M 0 0 M2131.98 1480.32 L2148.3 1480.32 L2148.3 1484.25 L2126.35 1484.25 L2126.35 1480.32 Q2129.01 1477.56 2133.6 1472.93 Q2138.2 1468.28 2139.39 1466.94 Q2141.63 1464.41 2142.51 1462.68 Q2143.41 1460.92 2143.41 1459.23 Q2143.41 1456.47 2141.47 1454.74 Q2139.55 1453 2136.45 1453 Q2134.25 1453 2131.79 1453.77 Q2129.36 1454.53 2126.58 1456.08 L2126.58 1451.36 Q2129.41 1450.22 2131.86 1449.65 Q2134.32 1449.07 2136.35 1449.07 Q2141.72 1449.07 2144.92 1451.75 Q2148.11 1454.44 2148.11 1458.93 Q2148.11 1461.06 2147.3 1462.98 Q2146.51 1464.88 2144.41 1467.47 Q2143.83 1468.14 2140.73 1471.36 Q2137.63 1474.55 2131.98 1480.32 Z\" fill=\"#000000\" fill-rule=\"evenodd\" fill-opacity=\"1\" /><path clip-path=\"url(#clip8300)\" d=\"M 0 0 M2163.37 1452.77 Q2159.76 1452.77 2157.93 1456.34 Q2156.12 1459.88 2156.12 1467.01 Q2156.12 1474.11 2157.93 1477.68 Q2159.76 1481.22 2163.37 1481.22 Q2167 1481.22 2168.81 1477.68 Q2170.63 1474.11 2170.63 1467.01 Q2170.63 1459.88 2168.81 1456.34 Q2167 1452.77 2163.37 1452.77 M2163.37 1449.07 Q2169.18 1449.07 2172.23 1453.67 Q2175.31 1458.26 2175.31 1467.01 Q2175.31 1475.73 2172.23 1480.34 Q2169.18 1484.92 2163.37 1484.92 Q2157.56 1484.92 2154.48 1480.34 Q2151.42 1475.73 2151.42 1467.01 Q2151.42 1458.26 2154.48 1453.67 Q2157.56 1449.07 2163.37 1449.07 Z\" fill=\"#000000\" fill-rule=\"evenodd\" fill-opacity=\"1\" /><path clip-path=\"url(#clip8300)\" d=\"M 0 0 M2180.49 1449.69 L2186.79 1449.69 L2202.11 1478.6 L2202.11 1449.69 L2206.65 1449.69 L2206.65 1484.25 L2200.35 1484.25 L2185.03 1455.34 L2185.03 1484.25 L2180.49 1484.25 L2180.49 1449.69 Z\" fill=\"#000000\" fill-rule=\"evenodd\" fill-opacity=\"1\" /><path clip-path=\"url(#clip8300)\" d=\"M 0 0 M2221.16 1461.31 Q2217.74 1461.31 2215.75 1464 Q2213.76 1466.66 2213.76 1471.31 Q2213.76 1475.96 2215.72 1478.65 Q2217.71 1481.31 2221.16 1481.31 Q2224.57 1481.31 2226.56 1478.63 Q2228.55 1475.94 2228.55 1471.31 Q2228.55 1466.71 2226.56 1464.02 Q2224.57 1461.31 2221.16 1461.31 M2221.16 1457.7 Q2226.72 1457.7 2229.89 1461.31 Q2233.06 1464.92 2233.06 1471.31 Q2233.06 1477.68 2229.89 1481.31 Q2226.72 1484.92 2221.16 1484.92 Q2215.59 1484.92 2212.41 1481.31 Q2209.27 1477.68 2209.27 1471.31 Q2209.27 1464.92 2212.41 1461.31 Q2215.59 1457.7 2221.16 1457.7 Z\" fill=\"#000000\" fill-rule=\"evenodd\" fill-opacity=\"1\" /><path clip-path=\"url(#clip8300)\" d=\"M 0 0 M2234.47 1458.33 L2238.99 1458.33 L2247.09 1480.09 L2255.19 1458.33 L2259.71 1458.33 L2249.98 1484.25 L2244.2 1484.25 L2234.47 1458.33 Z\" fill=\"#000000\" fill-rule=\"evenodd\" fill-opacity=\"1\" /><path clip-path=\"url(#clip8300)\" d=\"M 0 0 M2261.09 1478.37 L2265.98 1478.37 L2265.98 1484.25 L2261.09 1484.25 L2261.09 1478.37 Z\" fill=\"#000000\" fill-rule=\"evenodd\" fill-opacity=\"1\" /><path clip-path=\"url(#clip8300)\" d=\"M 0 0 M2286.16 1449.69 L2304.52 1449.69 L2304.52 1453.63 L2290.45 1453.63 L2290.45 1462.1 Q2291.46 1461.75 2292.48 1461.59 Q2293.5 1461.4 2294.52 1461.4 Q2300.31 1461.4 2303.69 1464.58 Q2307.07 1467.75 2307.07 1473.16 Q2307.07 1478.74 2303.59 1481.84 Q2300.12 1484.92 2293.8 1484.92 Q2291.63 1484.92 2289.36 1484.55 Q2287.11 1484.18 2284.71 1483.44 L2284.71 1478.74 Q2286.79 1479.88 2289.01 1480.43 Q2291.23 1480.99 2293.71 1480.99 Q2297.71 1480.99 2300.05 1478.88 Q2302.39 1476.78 2302.39 1473.16 Q2302.39 1469.55 2300.05 1467.45 Q2297.71 1465.34 2293.71 1465.34 Q2291.83 1465.34 2289.96 1465.76 Q2288.11 1466.17 2286.16 1467.05 L2286.16 1449.69 Z\" fill=\"#000000\" fill-rule=\"evenodd\" fill-opacity=\"1\" /><path clip-path=\"url(#clip8300)\" d=\"M 0 0 M2312.62 1478.37 L2317.51 1478.37 L2317.51 1482.35 L2313.71 1489.76 L2310.72 1489.76 L2312.62 1482.35 L2312.62 1478.37 Z\" fill=\"#000000\" fill-rule=\"evenodd\" fill-opacity=\"1\" /><path clip-path=\"url(#clip8300)\" d=\"M 0 0 M2341.67 1480.32 L2357.99 1480.32 L2357.99 1484.25 L2336.05 1484.25 L2336.05 1480.32 Q2338.71 1477.56 2343.29 1472.93 Q2347.9 1468.28 2349.08 1466.94 Q2351.33 1464.41 2352.2 1462.68 Q2353.11 1460.92 2353.11 1459.23 Q2353.11 1456.47 2351.16 1454.74 Q2349.24 1453 2346.14 1453 Q2343.94 1453 2341.49 1453.77 Q2339.06 1454.53 2336.28 1456.08 L2336.28 1451.36 Q2339.1 1450.22 2341.56 1449.65 Q2344.01 1449.07 2346.05 1449.07 Q2351.42 1449.07 2354.61 1451.75 Q2357.81 1454.44 2357.81 1458.93 Q2357.81 1461.06 2357 1462.98 Q2356.21 1464.88 2354.1 1467.47 Q2353.52 1468.14 2350.42 1471.36 Q2347.32 1474.55 2341.67 1480.32 Z\" fill=\"#000000\" fill-rule=\"evenodd\" fill-opacity=\"1\" /><path clip-path=\"url(#clip8300)\" d=\"M 0 0 M2373.06 1452.77 Q2369.45 1452.77 2367.62 1456.34 Q2365.82 1459.88 2365.82 1467.01 Q2365.82 1474.11 2367.62 1477.68 Q2369.45 1481.22 2373.06 1481.22 Q2376.7 1481.22 2378.5 1477.68 Q2380.33 1474.11 2380.33 1467.01 Q2380.33 1459.88 2378.5 1456.34 Q2376.7 1452.77 2373.06 1452.77 M2373.06 1449.07 Q2378.87 1449.07 2381.93 1453.67 Q2385.01 1458.26 2385.01 1467.01 Q2385.01 1475.73 2381.93 1480.34 Q2378.87 1484.92 2373.06 1484.92 Q2367.25 1484.92 2364.17 1480.34 Q2361.12 1475.73 2361.12 1467.01 Q2361.12 1458.26 2364.17 1453.67 Q2367.25 1449.07 2373.06 1449.07 Z\" fill=\"#000000\" fill-rule=\"evenodd\" fill-opacity=\"1\" /><path clip-path=\"url(#clip8300)\" d=\"M 0 0 M2426.78 1449.69 L2433.07 1449.69 L2448.4 1478.6 L2448.4 1449.69 L2452.93 1449.69 L2452.93 1484.25 L2446.64 1484.25 L2431.31 1455.34 L2431.31 1484.25 L2426.78 1484.25 L2426.78 1449.69 Z\" fill=\"#000000\" fill-rule=\"evenodd\" fill-opacity=\"1\" /><path clip-path=\"url(#clip8300)\" d=\"M 0 0 M2467.45 1461.31 Q2464.02 1461.31 2462.03 1464 Q2460.04 1466.66 2460.04 1471.31 Q2460.04 1475.96 2462.01 1478.65 Q2464 1481.31 2467.45 1481.31 Q2470.85 1481.31 2472.84 1478.63 Q2474.83 1475.94 2474.83 1471.31 Q2474.83 1466.71 2472.84 1464.02 Q2470.85 1461.31 2467.45 1461.31 M2467.45 1457.7 Q2473 1457.7 2476.17 1461.31 Q2479.35 1464.92 2479.35 1471.31 Q2479.35 1477.68 2476.17 1481.31 Q2473 1484.92 2467.45 1484.92 Q2461.87 1484.92 2458.7 1481.31 Q2455.55 1477.68 2455.55 1471.31 Q2455.55 1464.92 2458.7 1461.31 Q2461.87 1457.7 2467.45 1457.7 Z\" fill=\"#000000\" fill-rule=\"evenodd\" fill-opacity=\"1\" /><path clip-path=\"url(#clip8300)\" d=\"M 0 0 M2480.76 1458.33 L2485.27 1458.33 L2493.37 1480.09 L2501.47 1458.33 L2505.99 1458.33 L2496.27 1484.25 L2490.48 1484.25 L2480.76 1458.33 Z\" fill=\"#000000\" fill-rule=\"evenodd\" fill-opacity=\"1\" /><path clip-path=\"url(#clip8300)\" d=\"M 0 0 M2507.38 1478.37 L2512.26 1478.37 L2512.26 1484.25 L2507.38 1484.25 L2507.38 1478.37 Z\" fill=\"#000000\" fill-rule=\"evenodd\" fill-opacity=\"1\" /><path clip-path=\"url(#clip8300)\" d=\"M 0 0 M2533.21 1480.32 L2540.85 1480.32 L2540.85 1453.95 L2532.54 1455.62 L2532.54 1451.36 L2540.8 1449.69 L2545.48 1449.69 L2545.48 1480.32 L2553.12 1480.32 L2553.12 1484.25 L2533.21 1484.25 L2533.21 1480.32 Z\" fill=\"#000000\" fill-rule=\"evenodd\" fill-opacity=\"1\" /><path clip-path=\"url(#clip8300)\" d=\"M 0 0 M2562.22 1480.32 L2578.53 1480.32 L2578.53 1484.25 L2556.59 1484.25 L2556.59 1480.32 Q2559.25 1477.56 2563.84 1472.93 Q2568.44 1468.28 2569.62 1466.94 Q2571.87 1464.41 2572.75 1462.68 Q2573.65 1460.92 2573.65 1459.23 Q2573.65 1456.47 2571.71 1454.74 Q2569.78 1453 2566.68 1453 Q2564.48 1453 2562.03 1453.77 Q2559.6 1454.53 2556.82 1456.08 L2556.82 1451.36 Q2559.65 1450.22 2562.1 1449.65 Q2564.55 1449.07 2566.59 1449.07 Q2571.96 1449.07 2575.16 1451.75 Q2578.35 1454.44 2578.35 1458.93 Q2578.35 1461.06 2577.54 1462.98 Q2576.75 1464.88 2574.65 1467.47 Q2574.07 1468.14 2570.97 1471.36 Q2567.86 1474.55 2562.22 1480.32 Z\" fill=\"#000000\" fill-rule=\"evenodd\" fill-opacity=\"1\" /><path clip-path=\"url(#clip8300)\" d=\"M 0 0 M2584.09 1478.37 L2588.97 1478.37 L2588.97 1482.35 L2585.18 1489.76 L2582.19 1489.76 L2584.09 1482.35 L2584.09 1478.37 Z\" fill=\"#000000\" fill-rule=\"evenodd\" fill-opacity=\"1\" /><path clip-path=\"url(#clip8300)\" d=\"M 0 0 M2613.14 1480.32 L2629.46 1480.32 L2629.46 1484.25 L2607.52 1484.25 L2607.52 1480.32 Q2610.18 1477.56 2614.76 1472.93 Q2619.37 1468.28 2620.55 1466.94 Q2622.79 1464.41 2623.67 1462.68 Q2624.58 1460.92 2624.58 1459.23 Q2624.58 1456.47 2622.63 1454.74 Q2620.71 1453 2617.61 1453 Q2615.41 1453 2612.96 1453.77 Q2610.53 1454.53 2607.75 1456.08 L2607.75 1451.36 Q2610.57 1450.22 2613.03 1449.65 Q2615.48 1449.07 2617.52 1449.07 Q2622.89 1449.07 2626.08 1451.75 Q2629.28 1454.44 2629.28 1458.93 Q2629.28 1461.06 2628.47 1462.98 Q2627.68 1464.88 2625.57 1467.47 Q2624.99 1468.14 2621.89 1471.36 Q2618.79 1474.55 2613.14 1480.32 Z\" fill=\"#000000\" fill-rule=\"evenodd\" fill-opacity=\"1\" /><path clip-path=\"url(#clip8300)\" d=\"M 0 0 M2644.53 1452.77 Q2640.92 1452.77 2639.09 1456.34 Q2637.28 1459.88 2637.28 1467.01 Q2637.28 1474.11 2639.09 1477.68 Q2640.92 1481.22 2644.53 1481.22 Q2648.16 1481.22 2649.97 1477.68 Q2651.8 1474.11 2651.8 1467.01 Q2651.8 1459.88 2649.97 1456.34 Q2648.16 1452.77 2644.53 1452.77 M2644.53 1449.07 Q2650.34 1449.07 2653.4 1453.67 Q2656.47 1458.26 2656.47 1467.01 Q2656.47 1475.73 2653.4 1480.34 Q2650.34 1484.92 2644.53 1484.92 Q2638.72 1484.92 2635.64 1480.34 Q2632.59 1475.73 2632.59 1467.01 Q2632.59 1458.26 2635.64 1453.67 Q2638.72 1449.07 2644.53 1449.07 Z\" fill=\"#000000\" fill-rule=\"evenodd\" fill-opacity=\"1\" /><path clip-path=\"url(#clip8300)\" d=\"M 0 0 M2647.92 1449.69 L2654.21 1449.69 L2669.54 1478.6 L2669.54 1449.69 L2674.07 1449.69 L2674.07 1484.25 L2667.78 1484.25 L2652.45 1455.34 L2652.45 1484.25 L2647.92 1484.25 L2647.92 1449.69 Z\" fill=\"#000000\" fill-rule=\"evenodd\" fill-opacity=\"1\" /><path clip-path=\"url(#clip8300)\" d=\"M 0 0 M2688.59 1461.31 Q2685.16 1461.31 2683.17 1464 Q2681.18 1466.66 2681.18 1471.31 Q2681.18 1475.96 2683.15 1478.65 Q2685.14 1481.31 2688.59 1481.31 Q2691.99 1481.31 2693.98 1478.63 Q2695.97 1475.94 2695.97 1471.31 Q2695.97 1466.71 2693.98 1464.02 Q2691.99 1461.31 2688.59 1461.31 M2688.59 1457.7 Q2694.14 1457.7 2697.32 1461.31 Q2700.49 1464.92 2700.49 1471.31 Q2700.49 1477.68 2697.32 1481.31 Q2694.14 1484.92 2688.59 1484.92 Q2683.01 1484.92 2679.84 1481.31 Q2676.69 1477.68 2676.69 1471.31 Q2676.69 1464.92 2679.84 1461.31 Q2683.01 1457.7 2688.59 1457.7 Z\" fill=\"#000000\" fill-rule=\"evenodd\" fill-opacity=\"1\" /><path clip-path=\"url(#clip8300)\" d=\"M 0 0 M2701.9 1458.33 L2706.41 1458.33 L2714.51 1480.09 L2722.62 1458.33 L2727.13 1458.33 L2717.41 1484.25 L2711.62 1484.25 L2701.9 1458.33 Z\" fill=\"#000000\" fill-rule=\"evenodd\" fill-opacity=\"1\" /><path clip-path=\"url(#clip8300)\" d=\"M 0 0 M2728.52 1478.37 L2733.4 1478.37 L2733.4 1484.25 L2728.52 1484.25 L2728.52 1478.37 Z\" fill=\"#000000\" fill-rule=\"evenodd\" fill-opacity=\"1\" /><path clip-path=\"url(#clip8300)\" d=\"M 0 0 M2754.35 1480.32 L2761.99 1480.32 L2761.99 1453.95 L2753.68 1455.62 L2753.68 1451.36 L2761.94 1449.69 L2766.62 1449.69 L2766.62 1480.32 L2774.26 1480.32 L2774.26 1484.25 L2754.35 1484.25 L2754.35 1480.32 Z\" fill=\"#000000\" fill-rule=\"evenodd\" fill-opacity=\"1\" /><path clip-path=\"url(#clip8300)\" d=\"M 0 0 M2789.33 1467.84 Q2786 1467.84 2784.07 1469.62 Q2782.18 1471.4 2782.18 1474.53 Q2782.18 1477.65 2784.07 1479.44 Q2786 1481.22 2789.33 1481.22 Q2792.66 1481.22 2794.58 1479.44 Q2796.5 1477.63 2796.5 1474.53 Q2796.5 1471.4 2794.58 1469.62 Q2792.69 1467.84 2789.33 1467.84 M2784.65 1465.85 Q2781.64 1465.11 2779.95 1463.05 Q2778.29 1460.99 2778.29 1458.03 Q2778.29 1453.88 2781.23 1451.47 Q2784.19 1449.07 2789.33 1449.07 Q2794.49 1449.07 2797.43 1451.47 Q2800.37 1453.88 2800.37 1458.03 Q2800.37 1460.99 2798.68 1463.05 Q2797.01 1465.11 2794.03 1465.85 Q2797.41 1466.64 2799.28 1468.93 Q2801.18 1471.22 2801.18 1474.53 Q2801.18 1479.55 2798.1 1482.24 Q2795.05 1484.92 2789.33 1484.92 Q2783.61 1484.92 2780.53 1482.24 Q2777.48 1479.55 2777.48 1474.53 Q2777.48 1471.22 2779.38 1468.93 Q2781.27 1466.64 2784.65 1465.85 M2782.94 1458.46 Q2782.94 1461.15 2784.61 1462.65 Q2786.3 1464.16 2789.33 1464.16 Q2792.34 1464.16 2794.03 1462.65 Q2795.74 1461.15 2795.74 1458.46 Q2795.74 1455.78 2794.03 1454.28 Q2792.34 1452.77 2789.33 1452.77 Q2786.3 1452.77 2784.61 1454.28 Q2782.94 1455.78 2782.94 1458.46 Z\" fill=\"#000000\" fill-rule=\"evenodd\" fill-opacity=\"1\" /><path clip-path=\"url(#clip8300)\" d=\"M 0 0 M2806.74 1478.37 L2811.62 1478.37 L2811.62 1482.35 L2807.82 1489.76 L2804.84 1489.76 L2806.74 1482.35 L2806.74 1478.37 Z\" fill=\"#000000\" fill-rule=\"evenodd\" fill-opacity=\"1\" /><path clip-path=\"url(#clip8300)\" d=\"M 0 0 M2835.79 1480.32 L2852.11 1480.32 L2852.11 1484.25 L2830.16 1484.25 L2830.16 1480.32 Q2832.82 1477.56 2837.41 1472.93 Q2842.01 1468.28 2843.19 1466.94 Q2845.44 1464.41 2846.32 1462.68 Q2847.22 1460.92 2847.22 1459.23 Q2847.22 1456.47 2845.28 1454.74 Q2843.36 1453 2840.25 1453 Q2838.06 1453 2835.6 1453.77 Q2833.17 1454.53 2830.39 1456.08 L2830.39 1451.36 Q2833.22 1450.22 2835.67 1449.65 Q2838.13 1449.07 2840.16 1449.07 Q2845.53 1449.07 2848.73 1451.75 Q2851.92 1454.44 2851.92 1458.93 Q2851.92 1461.06 2851.11 1462.98 Q2850.32 1464.88 2848.22 1467.47 Q2847.64 1468.14 2844.54 1471.36 Q2841.44 1474.55 2835.79 1480.32 Z\" fill=\"#000000\" fill-rule=\"evenodd\" fill-opacity=\"1\" /><path clip-path=\"url(#clip8300)\" d=\"M 0 0 M2867.18 1452.77 Q2863.56 1452.77 2861.74 1456.34 Q2859.93 1459.88 2859.93 1467.01 Q2859.93 1474.11 2861.74 1477.68 Q2863.56 1481.22 2867.18 1481.22 Q2870.81 1481.22 2872.62 1477.68 Q2874.44 1474.11 2874.44 1467.01 Q2874.44 1459.88 2872.62 1456.34 Q2870.81 1452.77 2867.18 1452.77 M2867.18 1449.07 Q2872.99 1449.07 2876.04 1453.67 Q2879.12 1458.26 2879.12 1467.01 Q2879.12 1475.73 2876.04 1480.34 Q2872.99 1484.92 2867.18 1484.92 Q2861.37 1484.92 2858.29 1480.34 Q2855.23 1475.73 2855.23 1467.01 Q2855.23 1458.26 2858.29 1453.67 Q2861.37 1449.07 2867.18 1449.07 Z\" fill=\"#000000\" fill-rule=\"evenodd\" fill-opacity=\"1\" /><path clip-path=\"url(#clip8300)\" d=\"M 0 0 M2907.43 1449.69 L2913.73 1449.69 L2929.05 1478.6 L2929.05 1449.69 L2933.59 1449.69 L2933.59 1484.25 L2927.29 1484.25 L2911.97 1455.34 L2911.97 1484.25 L2907.43 1484.25 L2907.43 1449.69 Z\" fill=\"#000000\" fill-rule=\"evenodd\" fill-opacity=\"1\" /><path clip-path=\"url(#clip8300)\" d=\"M 0 0 M2948.1 1461.31 Q2944.68 1461.31 2942.68 1464 Q2940.69 1466.66 2940.69 1471.31 Q2940.69 1475.96 2942.66 1478.65 Q2944.65 1481.31 2948.1 1481.31 Q2951.5 1481.31 2953.49 1478.63 Q2955.49 1475.94 2955.49 1471.31 Q2955.49 1466.71 2953.49 1464.02 Q2951.5 1461.31 2948.1 1461.31 M2948.1 1457.7 Q2953.66 1457.7 2956.83 1461.31 Q2960 1464.92 2960 1471.31 Q2960 1477.68 2956.83 1481.31 Q2953.66 1484.92 2948.1 1484.92 Q2942.52 1484.92 2939.35 1481.31 Q2936.2 1477.68 2936.2 1471.31 Q2936.2 1464.92 2939.35 1461.31 Q2942.52 1457.7 2948.1 1457.7 Z\" fill=\"#000000\" fill-rule=\"evenodd\" fill-opacity=\"1\" /><path clip-path=\"url(#clip8300)\" d=\"M 0 0 M2961.41 1458.33 L2965.93 1458.33 L2974.03 1480.09 L2982.13 1458.33 L2986.64 1458.33 L2976.92 1484.25 L2971.13 1484.25 L2961.41 1458.33 Z\" fill=\"#000000\" fill-rule=\"evenodd\" fill-opacity=\"1\" /><path clip-path=\"url(#clip8300)\" d=\"M 0 0 M2988.03 1478.37 L2992.92 1478.37 L2992.92 1484.25 L2988.03 1484.25 L2988.03 1478.37 Z\" fill=\"#000000\" fill-rule=\"evenodd\" fill-opacity=\"1\" /><path clip-path=\"url(#clip8300)\" d=\"M 0 0 M3017.08 1480.32 L3033.4 1480.32 L3033.4 1484.25 L3011.46 1484.25 L3011.46 1480.32 Q3014.12 1477.56 3018.7 1472.93 Q3023.31 1468.28 3024.49 1466.94 Q3026.74 1464.41 3027.61 1462.68 Q3028.52 1460.92 3028.52 1459.23 Q3028.52 1456.47 3026.57 1454.74 Q3024.65 1453 3021.55 1453 Q3019.35 1453 3016.9 1453.77 Q3014.47 1454.53 3011.69 1456.08 L3011.69 1451.36 Q3014.51 1450.22 3016.97 1449.65 Q3019.42 1449.07 3021.46 1449.07 Q3026.83 1449.07 3030.02 1451.75 Q3033.22 1454.44 3033.22 1458.93 Q3033.22 1461.06 3032.41 1462.98 Q3031.62 1464.88 3029.51 1467.47 Q3028.93 1468.14 3025.83 1471.36 Q3022.73 1474.55 3017.08 1480.32 Z\" fill=\"#000000\" fill-rule=\"evenodd\" fill-opacity=\"1\" /><path clip-path=\"url(#clip8300)\" d=\"M 0 0 M3038.52 1449.69 L3056.87 1449.69 L3056.87 1453.63 L3042.8 1453.63 L3042.8 1462.1 Q3043.82 1461.75 3044.84 1461.59 Q3045.86 1461.4 3046.87 1461.4 Q3052.66 1461.4 3056.04 1464.58 Q3059.42 1467.75 3059.42 1473.16 Q3059.42 1478.74 3055.95 1481.84 Q3052.48 1484.92 3046.16 1484.92 Q3043.98 1484.92 3041.71 1484.55 Q3039.47 1484.18 3037.06 1483.44 L3037.06 1478.74 Q3039.14 1479.88 3041.36 1480.43 Q3043.59 1480.99 3046.06 1480.99 Q3050.07 1480.99 3052.41 1478.88 Q3054.74 1476.78 3054.74 1473.16 Q3054.74 1469.55 3052.41 1467.45 Q3050.07 1465.34 3046.06 1465.34 Q3044.19 1465.34 3042.31 1465.76 Q3040.46 1466.17 3038.52 1467.05 L3038.52 1449.69 Z\" fill=\"#000000\" fill-rule=\"evenodd\" fill-opacity=\"1\" /><path clip-path=\"url(#clip8300)\" d=\"M 0 0 M3064.98 1478.37 L3069.86 1478.37 L3069.86 1482.35 L3066.06 1489.76 L3063.08 1489.76 L3064.98 1482.35 L3064.98 1478.37 Z\" fill=\"#000000\" fill-rule=\"evenodd\" fill-opacity=\"1\" /><path clip-path=\"url(#clip8300)\" d=\"M 0 0 M3094.03 1480.32 L3110.35 1480.32 L3110.35 1484.25 L3088.4 1484.25 L3088.4 1480.32 Q3091.06 1477.56 3095.65 1472.93 Q3100.25 1468.28 3101.43 1466.94 Q3103.68 1464.41 3104.56 1462.68 Q3105.46 1460.92 3105.46 1459.23 Q3105.46 1456.47 3103.52 1454.74 Q3101.6 1453 3098.49 1453 Q3096.29 1453 3093.84 1453.77 Q3091.41 1454.53 3088.63 1456.08 L3088.63 1451.36 Q3091.46 1450.22 3093.91 1449.65 Q3096.36 1449.07 3098.4 1449.07 Q3103.77 1449.07 3106.97 1451.75 Q3110.16 1454.44 3110.16 1458.93 Q3110.16 1461.06 3109.35 1462.98 Q3108.56 1464.88 3106.46 1467.47 Q3105.88 1468.14 3102.78 1471.36 Q3099.67 1474.55 3094.03 1480.32 Z\" fill=\"#000000\" fill-rule=\"evenodd\" fill-opacity=\"1\" /><path clip-path=\"url(#clip8300)\" d=\"M 0 0 M3125.42 1452.77 Q3121.8 1452.77 3119.98 1456.34 Q3118.17 1459.88 3118.17 1467.01 Q3118.17 1474.11 3119.98 1477.68 Q3121.8 1481.22 3125.42 1481.22 Q3129.05 1481.22 3130.85 1477.68 Q3132.68 1474.11 3132.68 1467.01 Q3132.68 1459.88 3130.85 1456.34 Q3129.05 1452.77 3125.42 1452.77 M3125.42 1449.07 Q3131.23 1449.07 3134.28 1453.67 Q3137.36 1458.26 3137.36 1467.01 Q3137.36 1475.73 3134.28 1480.34 Q3131.23 1484.92 3125.42 1484.92 Q3119.61 1484.92 3116.53 1480.34 Q3113.47 1475.73 3113.47 1467.01 Q3113.47 1458.26 3116.53 1453.67 Q3119.61 1449.07 3125.42 1449.07 Z\" fill=\"#000000\" fill-rule=\"evenodd\" fill-opacity=\"1\" /><path clip-path=\"url(#clip8300)\" d=\"M 0 0 M3182.35 1453.53 L3182.35 1480.41 L3188 1480.41 Q3195.15 1480.41 3198.46 1477.17 Q3201.79 1473.93 3201.79 1466.94 Q3201.79 1459.99 3198.46 1456.78 Q3195.15 1453.53 3188 1453.53 L3182.35 1453.53 M3177.67 1449.69 L3187.28 1449.69 Q3197.32 1449.69 3202.02 1453.88 Q3206.72 1458.05 3206.72 1466.94 Q3206.72 1475.87 3202 1480.06 Q3197.28 1484.25 3187.28 1484.25 L3177.67 1484.25 L3177.67 1449.69 Z\" fill=\"#000000\" fill-rule=\"evenodd\" fill-opacity=\"1\" /><path clip-path=\"url(#clip8300)\" d=\"M 0 0 M3233.37 1470.22 L3233.37 1472.31 L3213.78 1472.31 Q3214.06 1476.71 3216.42 1479.02 Q3218.81 1481.31 3223.04 1481.31 Q3225.5 1481.31 3227.79 1480.71 Q3230.1 1480.11 3232.37 1478.9 L3232.37 1482.93 Q3230.08 1483.9 3227.67 1484.41 Q3225.26 1484.92 3222.79 1484.92 Q3216.58 1484.92 3212.95 1481.31 Q3209.34 1477.7 3209.34 1471.54 Q3209.34 1465.18 3212.76 1461.45 Q3216.21 1457.7 3222.05 1457.7 Q3227.28 1457.7 3230.31 1461.08 Q3233.37 1464.44 3233.37 1470.22 M3229.11 1468.97 Q3229.06 1465.48 3227.14 1463.4 Q3225.24 1461.31 3222.09 1461.31 Q3218.53 1461.31 3216.38 1463.33 Q3214.25 1465.34 3213.92 1469 L3229.11 1468.97 Z\" fill=\"#000000\" fill-rule=\"evenodd\" fill-opacity=\"1\" /><path clip-path=\"url(#clip8300)\" d=\"M 0 0 M3256.49 1459.32 L3256.49 1463.3 Q3254.69 1462.31 3252.86 1461.82 Q3251.05 1461.31 3249.2 1461.31 Q3245.06 1461.31 3242.76 1463.95 Q3240.47 1466.57 3240.47 1471.31 Q3240.47 1476.06 3242.76 1478.7 Q3245.06 1481.31 3249.2 1481.31 Q3251.05 1481.31 3252.86 1480.83 Q3254.69 1480.32 3256.49 1479.32 L3256.49 1483.26 Q3254.71 1484.09 3252.79 1484.51 Q3250.89 1484.92 3248.74 1484.92 Q3242.88 1484.92 3239.43 1481.24 Q3235.98 1477.56 3235.98 1471.31 Q3235.98 1464.97 3239.45 1461.34 Q3242.95 1457.7 3249.01 1457.7 Q3250.98 1457.7 3252.86 1458.12 Q3254.73 1458.51 3256.49 1459.32 Z\" fill=\"#000000\" fill-rule=\"evenodd\" fill-opacity=\"1\" /><path clip-path=\"url(#clip8300)\" d=\"M 0 0 M3261.56 1478.37 L3266.44 1478.37 L3266.44 1484.25 L3261.56 1484.25 L3261.56 1478.37 Z\" fill=\"#000000\" fill-rule=\"evenodd\" fill-opacity=\"1\" /><path clip-path=\"url(#clip8300)\" d=\"M 0 0 M3290.61 1480.32 L3306.93 1480.32 L3306.93 1484.25 L3284.99 1484.25 L3284.99 1480.32 Q3287.65 1477.56 3292.23 1472.93 Q3296.84 1468.28 3298.02 1466.94 Q3300.26 1464.41 3301.14 1462.68 Q3302.05 1460.92 3302.05 1459.23 Q3302.05 1456.47 3300.1 1454.74 Q3298.18 1453 3295.08 1453 Q3292.88 1453 3290.43 1453.77 Q3288 1454.53 3285.22 1456.08 L3285.22 1451.36 Q3288.04 1450.22 3290.5 1449.65 Q3292.95 1449.07 3294.99 1449.07 Q3300.36 1449.07 3303.55 1451.75 Q3306.75 1454.44 3306.75 1458.93 Q3306.75 1461.06 3305.94 1462.98 Q3305.15 1464.88 3303.04 1467.47 Q3302.46 1468.14 3299.36 1471.36 Q3296.26 1474.55 3290.61 1480.32 Z\" fill=\"#000000\" fill-rule=\"evenodd\" fill-opacity=\"1\" /><path clip-path=\"url(#clip8300)\" d=\"M 0 0 M3312.49 1478.37 L3317.37 1478.37 L3317.37 1482.35 L3313.57 1489.76 L3310.59 1489.76 L3312.49 1482.35 L3312.49 1478.37 Z\" fill=\"#000000\" fill-rule=\"evenodd\" fill-opacity=\"1\" /><path clip-path=\"url(#clip8300)\" d=\"M 0 0 M3341.54 1480.32 L3357.86 1480.32 L3357.86 1484.25 L3335.91 1484.25 L3335.91 1480.32 Q3338.57 1477.56 3343.16 1472.93 Q3347.76 1468.28 3348.94 1466.94 Q3351.19 1464.41 3352.07 1462.68 Q3352.97 1460.92 3352.97 1459.23 Q3352.97 1456.47 3351.03 1454.74 Q3349.11 1453 3346 1453 Q3343.81 1453 3341.35 1453.77 Q3338.92 1454.53 3336.14 1456.08 L3336.14 1451.36 Q3338.97 1450.22 3341.42 1449.65 Q3343.87 1449.07 3345.91 1449.07 Q3351.28 1449.07 3354.48 1451.75 Q3357.67 1454.44 3357.67 1458.93 Q3357.67 1461.06 3356.86 1462.98 Q3356.07 1464.88 3353.97 1467.47 Q3353.39 1468.14 3350.29 1471.36 Q3347.18 1474.55 3341.54 1480.32 Z\" fill=\"#000000\" fill-rule=\"evenodd\" fill-opacity=\"1\" /><path clip-path=\"url(#clip8300)\" d=\"M 0 0 M3372.93 1452.77 Q3369.31 1452.77 3367.49 1456.34 Q3365.68 1459.88 3365.68 1467.01 Q3365.68 1474.11 3367.49 1477.68 Q3369.31 1481.22 3372.93 1481.22 Q3376.56 1481.22 3378.37 1477.68 Q3380.19 1474.11 3380.19 1467.01 Q3380.19 1459.88 3378.37 1456.34 Q3376.56 1452.77 3372.93 1452.77 M3372.93 1449.07 Q3378.74 1449.07 3381.79 1453.67 Q3384.87 1458.26 3384.87 1467.01 Q3384.87 1475.73 3381.79 1480.34 Q3378.74 1484.92 3372.93 1484.92 Q3367.12 1484.92 3364.04 1480.34 Q3360.98 1475.73 3360.98 1467.01 Q3360.98 1458.26 3364.04 1453.67 Q3367.12 1449.07 3372.93 1449.07 Z\" fill=\"#000000\" fill-rule=\"evenodd\" fill-opacity=\"1\" /><path clip-path=\"url(#clip8300)\" d=\"M 0 0 M3403.49 1453.53 L3403.49 1480.41 L3409.14 1480.41 Q3416.29 1480.41 3419.6 1477.17 Q3422.93 1473.93 3422.93 1466.94 Q3422.93 1459.99 3419.6 1456.78 Q3416.29 1453.53 3409.14 1453.53 L3403.49 1453.53 M3398.81 1449.69 L3408.42 1449.69 Q3418.47 1449.69 3423.17 1453.88 Q3427.86 1458.05 3427.86 1466.94 Q3427.86 1475.87 3423.14 1480.06 Q3418.42 1484.25 3408.42 1484.25 L3398.81 1484.25 L3398.81 1449.69 Z\" fill=\"#000000\" fill-rule=\"evenodd\" fill-opacity=\"1\" /><path clip-path=\"url(#clip8300)\" d=\"M 0 0 M3454.51 1470.22 L3454.51 1472.31 L3434.92 1472.31 Q3435.2 1476.71 3437.56 1479.02 Q3439.95 1481.31 3444.18 1481.31 Q3446.64 1481.31 3448.93 1480.71 Q3451.24 1480.11 3453.51 1478.9 L3453.51 1482.93 Q3451.22 1483.9 3448.81 1484.41 Q3446.41 1484.92 3443.93 1484.92 Q3437.73 1484.92 3434.09 1481.31 Q3430.48 1477.7 3430.48 1471.54 Q3430.48 1465.18 3433.91 1461.45 Q3437.35 1457.7 3443.19 1457.7 Q3448.42 1457.7 3451.45 1461.08 Q3454.51 1464.44 3454.51 1470.22 M3450.25 1468.97 Q3450.2 1465.48 3448.28 1463.4 Q3446.38 1461.31 3443.23 1461.31 Q3439.67 1461.31 3437.52 1463.33 Q3435.39 1465.34 3435.06 1469 L3450.25 1468.97 Z\" fill=\"#000000\" fill-rule=\"evenodd\" fill-opacity=\"1\" /><path clip-path=\"url(#clip8300)\" d=\"M 0 0 M3477.63 1459.32 L3477.63 1463.3 Q3475.83 1462.31 3474 1461.82 Q3472.19 1461.31 3470.34 1461.31 Q3466.2 1461.31 3463.91 1463.95 Q3461.61 1466.57 3461.61 1471.31 Q3461.61 1476.06 3463.91 1478.7 Q3466.2 1481.31 3470.34 1481.31 Q3472.19 1481.31 3474 1480.83 Q3475.83 1480.32 3477.63 1479.32 L3477.63 1483.26 Q3475.85 1484.09 3473.93 1484.51 Q3472.03 1484.92 3469.88 1484.92 Q3464.02 1484.92 3460.57 1481.24 Q3457.12 1477.56 3457.12 1471.31 Q3457.12 1464.97 3460.6 1461.34 Q3464.09 1457.7 3470.16 1457.7 Q3472.12 1457.7 3474 1458.12 Q3475.87 1458.51 3477.63 1459.32 Z\" fill=\"#000000\" fill-rule=\"evenodd\" fill-opacity=\"1\" /><path clip-path=\"url(#clip8300)\" d=\"M 0 0 M3482.7 1478.37 L3487.59 1478.37 L3487.59 1484.25 L3482.7 1484.25 L3482.7 1478.37 Z\" fill=\"#000000\" fill-rule=\"evenodd\" fill-opacity=\"1\" /><path clip-path=\"url(#clip8300)\" d=\"M 0 0 M3517.72 1467.84 Q3514.39 1467.84 3512.47 1469.62 Q3510.57 1471.4 3510.57 1474.53 Q3510.57 1477.65 3512.47 1479.44 Q3514.39 1481.22 3517.72 1481.22 Q3521.06 1481.22 3522.98 1479.44 Q3524.9 1477.63 3524.9 1474.53 Q3524.9 1471.4 3522.98 1469.62 Q3521.08 1467.84 3517.72 1467.84 M3513.05 1465.85 Q3510.04 1465.11 3508.35 1463.05 Q3506.68 1460.99 3506.68 1458.03 Q3506.68 1453.88 3509.62 1451.47 Q3512.59 1449.07 3517.72 1449.07 Q3522.89 1449.07 3525.83 1451.47 Q3528.77 1453.88 3528.77 1458.03 Q3528.77 1460.99 3527.08 1463.05 Q3525.41 1465.11 3522.42 1465.85 Q3525.8 1466.64 3527.68 1468.93 Q3529.58 1471.22 3529.58 1474.53 Q3529.58 1479.55 3526.5 1482.24 Q3523.44 1484.92 3517.72 1484.92 Q3512.01 1484.92 3508.93 1482.24 Q3505.87 1479.55 3505.87 1474.53 Q3505.87 1471.22 3507.77 1468.93 Q3509.67 1466.64 3513.05 1465.85 M3511.34 1458.46 Q3511.34 1461.15 3513 1462.65 Q3514.69 1464.16 3517.72 1464.16 Q3520.73 1464.16 3522.42 1462.65 Q3524.14 1461.15 3524.14 1458.46 Q3524.14 1455.78 3522.42 1454.28 Q3520.73 1452.77 3517.72 1452.77 Q3514.69 1452.77 3513 1454.28 Q3511.34 1455.78 3511.34 1458.46 Z\" fill=\"#000000\" fill-rule=\"evenodd\" fill-opacity=\"1\" /><path clip-path=\"url(#clip8300)\" d=\"M 0 0 M3535.13 1478.37 L3540.02 1478.37 L3540.02 1482.35 L3536.22 1489.76 L3533.23 1489.76 L3535.13 1482.35 L3535.13 1478.37 Z\" fill=\"#000000\" fill-rule=\"evenodd\" fill-opacity=\"1\" /><path clip-path=\"url(#clip8300)\" d=\"M 0 0 M3564.18 1480.32 L3580.5 1480.32 L3580.5 1484.25 L3558.56 1484.25 L3558.56 1480.32 Q3561.22 1477.56 3565.8 1472.93 Q3570.41 1468.28 3571.59 1466.94 Q3573.84 1464.41 3574.72 1462.68 Q3575.62 1460.92 3575.62 1459.23 Q3575.62 1456.47 3573.67 1454.74 Q3571.75 1453 3568.65 1453 Q3566.45 1453 3564 1453.77 Q3561.57 1454.53 3558.79 1456.08 L3558.79 1451.36 Q3561.61 1450.22 3564.07 1449.65 Q3566.52 1449.07 3568.56 1449.07 Q3573.93 1449.07 3577.12 1451.75 Q3580.32 1454.44 3580.32 1458.93 Q3580.32 1461.06 3579.51 1462.98 Q3578.72 1464.88 3576.61 1467.47 Q3576.03 1468.14 3572.93 1471.36 Q3569.83 1474.55 3564.18 1480.32 Z\" fill=\"#000000\" fill-rule=\"evenodd\" fill-opacity=\"1\" /><path clip-path=\"url(#clip8300)\" d=\"M 0 0 M3595.57 1452.77 Q3591.96 1452.77 3590.13 1456.34 Q3588.33 1459.88 3588.33 1467.01 Q3588.33 1474.11 3590.13 1477.68 Q3591.96 1481.22 3595.57 1481.22 Q3599.21 1481.22 3601.01 1477.68 Q3602.84 1474.11 3602.84 1467.01 Q3602.84 1459.88 3601.01 1456.34 Q3599.21 1452.77 3595.57 1452.77 M3595.57 1449.07 Q3601.38 1449.07 3604.44 1453.67 Q3607.52 1458.26 3607.52 1467.01 Q3607.52 1475.73 3604.44 1480.34 Q3601.38 1484.92 3595.57 1484.92 Q3589.76 1484.92 3586.68 1480.34 Q3583.63 1475.73 3583.63 1467.01 Q3583.63 1458.26 3586.68 1453.67 Q3589.76 1449.07 3595.57 1449.07 Z\" fill=\"#000000\" fill-rule=\"evenodd\" fill-opacity=\"1\" /><path clip-path=\"url(#clip8300)\" d=\"M 0 0 M3649.92 1453.53 L3649.92 1480.41 L3655.57 1480.41 Q3662.72 1480.41 3666.03 1477.17 Q3669.37 1473.93 3669.37 1466.94 Q3669.37 1459.99 3666.03 1456.78 Q3662.72 1453.53 3655.57 1453.53 L3649.92 1453.53 M3645.25 1449.69 L3654.85 1449.69 Q3664.9 1449.69 3669.6 1453.88 Q3674.3 1458.05 3674.3 1466.94 Q3674.3 1475.87 3669.58 1480.06 Q3664.85 1484.25 3654.85 1484.25 L3645.25 1484.25 L3645.25 1449.69 Z\" fill=\"#000000\" fill-rule=\"evenodd\" fill-opacity=\"1\" /><path clip-path=\"url(#clip8300)\" d=\"M 0 0 M3700.94 1470.22 L3700.94 1472.31 L3681.36 1472.31 Q3681.64 1476.71 3684 1479.02 Q3686.38 1481.31 3690.62 1481.31 Q3693.07 1481.31 3695.36 1480.71 Q3697.68 1480.11 3699.95 1478.9 L3699.95 1482.93 Q3697.65 1483.9 3695.25 1484.41 Q3692.84 1484.92 3690.36 1484.92 Q3684.16 1484.92 3680.52 1481.31 Q3676.91 1477.7 3676.91 1471.54 Q3676.91 1465.18 3680.34 1461.45 Q3683.79 1457.7 3689.62 1457.7 Q3694.85 1457.7 3697.89 1461.08 Q3700.94 1464.44 3700.94 1470.22 M3696.68 1468.97 Q3696.64 1465.48 3694.71 1463.4 Q3692.82 1461.31 3689.67 1461.31 Q3686.1 1461.31 3683.95 1463.33 Q3681.82 1465.34 3681.5 1469 L3696.68 1468.97 Z\" fill=\"#000000\" fill-rule=\"evenodd\" fill-opacity=\"1\" /><path clip-path=\"url(#clip8300)\" d=\"M 0 0 M3724.07 1459.32 L3724.07 1463.3 Q3722.26 1462.31 3720.43 1461.82 Q3718.63 1461.31 3716.77 1461.31 Q3712.63 1461.31 3710.34 1463.95 Q3708.05 1466.57 3708.05 1471.31 Q3708.05 1476.06 3710.34 1478.7 Q3712.63 1481.31 3716.77 1481.31 Q3718.63 1481.31 3720.43 1480.83 Q3722.26 1480.32 3724.07 1479.32 L3724.07 1483.26 Q3722.28 1484.09 3720.36 1484.51 Q3718.46 1484.92 3716.31 1484.92 Q3710.46 1484.92 3707.01 1481.24 Q3703.56 1477.56 3703.56 1471.31 Q3703.56 1464.97 3707.03 1461.34 Q3710.52 1457.7 3716.59 1457.7 Q3718.56 1457.7 3720.43 1458.12 Q3722.31 1458.51 3724.07 1459.32 Z\" fill=\"#000000\" fill-rule=\"evenodd\" fill-opacity=\"1\" /><path clip-path=\"url(#clip8300)\" d=\"M 0 0 M3729.14 1478.37 L3734.02 1478.37 L3734.02 1484.25 L3729.14 1484.25 L3729.14 1478.37 Z\" fill=\"#000000\" fill-rule=\"evenodd\" fill-opacity=\"1\" /><path clip-path=\"url(#clip8300)\" d=\"M 0 0 M3754.97 1480.32 L3762.61 1480.32 L3762.61 1453.95 L3754.3 1455.62 L3754.3 1451.36 L3762.56 1449.69 L3767.24 1449.69 L3767.24 1480.32 L3774.88 1480.32 L3774.88 1484.25 L3754.97 1484.25 L3754.97 1480.32 Z\" fill=\"#000000\" fill-rule=\"evenodd\" fill-opacity=\"1\" /><path clip-path=\"url(#clip8300)\" d=\"M 0 0 M3779.99 1449.69 L3798.35 1449.69 L3798.35 1453.63 L3784.27 1453.63 L3784.27 1462.1 Q3785.29 1461.75 3786.31 1461.59 Q3787.33 1461.4 3788.35 1461.4 Q3794.14 1461.4 3797.51 1464.58 Q3800.89 1467.75 3800.89 1473.16 Q3800.89 1478.74 3797.42 1481.84 Q3793.95 1484.92 3787.63 1484.92 Q3785.45 1484.92 3783.19 1484.55 Q3780.94 1484.18 3778.53 1483.44 L3778.53 1478.74 Q3780.62 1479.88 3782.84 1480.43 Q3785.06 1480.99 3787.54 1480.99 Q3791.54 1480.99 3793.88 1478.88 Q3796.22 1476.78 3796.22 1473.16 Q3796.22 1469.55 3793.88 1467.45 Q3791.54 1465.34 3787.54 1465.34 Q3785.66 1465.34 3783.79 1465.76 Q3781.94 1466.17 3779.99 1467.05 L3779.99 1449.69 Z\" fill=\"#000000\" fill-rule=\"evenodd\" fill-opacity=\"1\" /><path clip-path=\"url(#clip8300)\" d=\"M 0 0 M3806.45 1478.37 L3811.33 1478.37 L3811.33 1482.35 L3807.54 1489.76 L3804.55 1489.76 L3806.45 1482.35 L3806.45 1478.37 Z\" fill=\"#000000\" fill-rule=\"evenodd\" fill-opacity=\"1\" /><path clip-path=\"url(#clip8300)\" d=\"M 0 0 M3835.5 1480.32 L3851.82 1480.32 L3851.82 1484.25 L3829.88 1484.25 L3829.88 1480.32 Q3832.54 1477.56 3837.12 1472.93 Q3841.73 1468.28 3842.91 1466.94 Q3845.15 1464.41 3846.03 1462.68 Q3846.94 1460.92 3846.94 1459.23 Q3846.94 1456.47 3844.99 1454.74 Q3843.07 1453 3839.97 1453 Q3837.77 1453 3835.32 1453.77 Q3832.89 1454.53 3830.11 1456.08 L3830.11 1451.36 Q3832.93 1450.22 3835.39 1449.65 Q3837.84 1449.07 3839.88 1449.07 Q3845.25 1449.07 3848.44 1451.75 Q3851.64 1454.44 3851.64 1458.93 Q3851.64 1461.06 3850.82 1462.98 Q3850.04 1464.88 3847.93 1467.47 Q3847.35 1468.14 3844.25 1471.36 Q3841.15 1474.55 3835.5 1480.32 Z\" fill=\"#000000\" fill-rule=\"evenodd\" fill-opacity=\"1\" /><path clip-path=\"url(#clip8300)\" d=\"M 0 0 M3866.89 1452.77 Q3863.28 1452.77 3861.45 1456.34 Q3859.64 1459.88 3859.64 1467.01 Q3859.64 1474.11 3861.45 1477.68 Q3863.28 1481.22 3866.89 1481.22 Q3870.52 1481.22 3872.33 1477.68 Q3874.16 1474.11 3874.16 1467.01 Q3874.16 1459.88 3872.33 1456.34 Q3870.52 1452.77 3866.89 1452.77 M3866.89 1449.07 Q3872.7 1449.07 3875.76 1453.67 Q3878.83 1458.26 3878.83 1467.01 Q3878.83 1475.73 3875.76 1480.34 Q3872.7 1484.92 3866.89 1484.92 Q3861.08 1484.92 3858 1480.34 Q3854.95 1475.73 3854.95 1467.01 Q3854.95 1458.26 3858 1453.67 Q3861.08 1449.07 3866.89 1449.07 Z\" fill=\"#000000\" fill-rule=\"evenodd\" fill-opacity=\"1\" /><path clip-path=\"url(#clip8300)\" d=\"M 0 0 M117.333 1334.77 L133.653 1334.77 L133.653 1338.71 L111.708 1338.71 L111.708 1334.77 Q114.37 1332.02 118.954 1327.39 Q123.56 1322.74 124.741 1321.39 Q126.986 1318.87 127.866 1317.14 Q128.768 1315.38 128.768 1313.69 Q128.768 1310.93 126.824 1309.2 Q124.903 1307.46 121.801 1307.46 Q119.602 1307.46 117.148 1308.22 Q114.718 1308.99 111.94 1310.54 L111.94 1305.82 Q114.764 1304.68 117.218 1304.1 Q119.671 1303.52 121.708 1303.52 Q127.079 1303.52 130.273 1306.21 Q133.467 1308.89 133.467 1313.39 Q133.467 1315.51 132.657 1317.44 Q131.87 1319.33 129.764 1321.93 Q129.185 1322.6 126.083 1325.82 Q122.981 1329.01 117.333 1334.77 Z\" fill=\"#000000\" fill-rule=\"evenodd\" fill-opacity=\"1\" /><path clip-path=\"url(#clip8300)\" d=\"M 0 0 M149.301 1319.57 Q146.153 1319.57 144.301 1321.72 Q142.472 1323.87 142.472 1327.62 Q142.472 1331.35 144.301 1333.52 Q146.153 1335.68 149.301 1335.68 Q152.449 1335.68 154.278 1333.52 Q156.129 1331.35 156.129 1327.62 Q156.129 1323.87 154.278 1321.72 Q152.449 1319.57 149.301 1319.57 M158.583 1304.91 L158.583 1309.17 Q156.824 1308.34 155.018 1307.9 Q153.236 1307.46 151.477 1307.46 Q146.847 1307.46 144.393 1310.58 Q141.963 1313.71 141.616 1320.03 Q142.981 1318.01 145.041 1316.95 Q147.102 1315.86 149.578 1315.86 Q154.787 1315.86 157.796 1319.03 Q160.828 1322.18 160.828 1327.62 Q160.828 1332.95 157.68 1336.16 Q154.532 1339.38 149.301 1339.38 Q143.305 1339.38 140.134 1334.8 Q136.963 1330.19 136.963 1321.46 Q136.963 1313.27 140.852 1308.41 Q144.741 1303.52 151.291 1303.52 Q153.051 1303.52 154.833 1303.87 Q156.639 1304.22 158.583 1304.91 Z\" fill=\"#000000\" fill-rule=\"evenodd\" fill-opacity=\"1\" /><path clip-path=\"url(#clip8300)\" d=\"M 0 0 M175.898 1307.23 Q172.287 1307.23 170.458 1310.79 Q168.652 1314.33 168.652 1321.46 Q168.652 1328.57 170.458 1332.14 Q172.287 1335.68 175.898 1335.68 Q179.532 1335.68 181.338 1332.14 Q183.166 1328.57 183.166 1321.46 Q183.166 1314.33 181.338 1310.79 Q179.532 1307.23 175.898 1307.23 M175.898 1303.52 Q181.708 1303.52 184.763 1308.13 Q187.842 1312.71 187.842 1321.46 Q187.842 1330.19 184.763 1334.8 Q181.708 1339.38 175.898 1339.38 Q170.088 1339.38 167.009 1334.8 Q163.953 1330.19 163.953 1321.46 Q163.953 1312.71 167.009 1308.13 Q170.088 1303.52 175.898 1303.52 Z\" fill=\"#000000\" fill-rule=\"evenodd\" fill-opacity=\"1\" /><path clip-path=\"url(#clip8300)\" d=\"M 0 0 M118.398 1125.41 L134.717 1125.41 L134.717 1129.35 L112.773 1129.35 L112.773 1125.41 Q115.435 1122.66 120.018 1118.03 Q124.625 1113.37 125.805 1112.03 Q128.051 1109.51 128.93 1107.77 Q129.833 1106.01 129.833 1104.32 Q129.833 1101.57 127.889 1099.83 Q125.967 1098.1 122.866 1098.1 Q120.667 1098.1 118.213 1098.86 Q115.782 1099.62 113.005 1101.17 L113.005 1096.45 Q115.829 1095.32 118.282 1094.74 Q120.736 1094.16 122.773 1094.16 Q128.143 1094.16 131.338 1096.85 Q134.532 1099.53 134.532 1104.02 Q134.532 1106.15 133.722 1108.07 Q132.935 1109.97 130.829 1112.56 Q130.25 1113.23 127.148 1116.45 Q124.046 1119.65 118.398 1125.41 Z\" fill=\"#000000\" fill-rule=\"evenodd\" fill-opacity=\"1\" /><path clip-path=\"url(#clip8300)\" d=\"M 0 0 M138.606 1094.79 L160.828 1094.79 L160.828 1096.78 L148.282 1129.35 L143.398 1129.35 L155.203 1098.72 L138.606 1098.72 L138.606 1094.79 Z\" fill=\"#000000\" fill-rule=\"evenodd\" fill-opacity=\"1\" /><path clip-path=\"url(#clip8300)\" d=\"M 0 0 M175.898 1097.86 Q172.287 1097.86 170.458 1101.43 Q168.652 1104.97 168.652 1112.1 Q168.652 1119.21 170.458 1122.77 Q172.287 1126.31 175.898 1126.31 Q179.532 1126.31 181.338 1122.77 Q183.166 1119.21 183.166 1112.1 Q183.166 1104.97 181.338 1101.43 Q179.532 1097.86 175.898 1097.86 M175.898 1094.16 Q181.708 1094.16 184.763 1098.77 Q187.842 1103.35 187.842 1112.1 Q187.842 1120.83 184.763 1125.43 Q181.708 1130.02 175.898 1130.02 Q170.088 1130.02 167.009 1125.43 Q163.953 1120.83 163.953 1112.1 Q163.953 1103.35 167.009 1098.77 Q170.088 1094.16 175.898 1094.16 Z\" fill=\"#000000\" fill-rule=\"evenodd\" fill-opacity=\"1\" /><path clip-path=\"url(#clip8300)\" d=\"M 0 0 M117.588 916.047 L133.907 916.047 L133.907 919.983 L111.963 919.983 L111.963 916.047 Q114.625 913.293 119.208 908.663 Q123.815 904.01 124.995 902.668 Q127.241 900.145 128.12 898.409 Q129.023 896.649 129.023 894.96 Q129.023 892.205 127.079 890.469 Q125.157 888.733 122.055 888.733 Q119.856 888.733 117.403 889.497 Q114.972 890.261 112.194 891.811 L112.194 887.089 Q115.018 885.955 117.472 885.376 Q119.926 884.798 121.963 884.798 Q127.333 884.798 130.528 887.483 Q133.722 890.168 133.722 894.659 Q133.722 896.788 132.912 898.71 Q132.125 900.608 130.018 903.2 Q129.44 903.872 126.338 907.089 Q123.236 910.284 117.588 916.047 Z\" fill=\"#000000\" fill-rule=\"evenodd\" fill-opacity=\"1\" /><path clip-path=\"url(#clip8300)\" d=\"M 0 0 M148.977 903.571 Q145.643 903.571 143.722 905.353 Q141.824 907.135 141.824 910.26 Q141.824 913.385 143.722 915.168 Q145.643 916.95 148.977 916.95 Q152.31 916.95 154.231 915.168 Q156.153 913.362 156.153 910.26 Q156.153 907.135 154.231 905.353 Q152.333 903.571 148.977 903.571 M144.301 901.58 Q141.291 900.839 139.602 898.779 Q137.935 896.719 137.935 893.756 Q137.935 889.612 140.875 887.205 Q143.838 884.798 148.977 884.798 Q154.139 884.798 157.078 887.205 Q160.018 889.612 160.018 893.756 Q160.018 896.719 158.328 898.779 Q156.662 900.839 153.676 901.58 Q157.055 902.367 158.93 904.659 Q160.828 906.95 160.828 910.26 Q160.828 915.284 157.75 917.969 Q154.694 920.654 148.977 920.654 Q143.259 920.654 140.18 917.969 Q137.125 915.284 137.125 910.26 Q137.125 906.95 139.023 904.659 Q140.921 902.367 144.301 901.58 M142.588 894.196 Q142.588 896.881 144.254 898.386 Q145.944 899.89 148.977 899.89 Q151.986 899.89 153.676 898.386 Q155.389 896.881 155.389 894.196 Q155.389 891.511 153.676 890.006 Q151.986 888.501 148.977 888.501 Q145.944 888.501 144.254 890.006 Q142.588 891.511 142.588 894.196 Z\" fill=\"#000000\" fill-rule=\"evenodd\" fill-opacity=\"1\" /><path clip-path=\"url(#clip8300)\" d=\"M 0 0 M175.898 888.501 Q172.287 888.501 170.458 892.066 Q168.652 895.608 168.652 902.737 Q168.652 909.844 170.458 913.409 Q172.287 916.95 175.898 916.95 Q179.532 916.95 181.338 913.409 Q183.166 909.844 183.166 902.737 Q183.166 895.608 181.338 892.066 Q179.532 888.501 175.898 888.501 M175.898 884.798 Q181.708 884.798 184.763 889.404 Q187.842 893.987 187.842 902.737 Q187.842 911.464 184.763 916.071 Q181.708 920.654 175.898 920.654 Q170.088 920.654 167.009 916.071 Q163.953 911.464 163.953 902.737 Q163.953 893.987 167.009 889.404 Q170.088 884.798 175.898 884.798 Z\" fill=\"#000000\" fill-rule=\"evenodd\" fill-opacity=\"1\" /><path clip-path=\"url(#clip8300)\" d=\"M 0 0 M117.68 706.684 L134 706.684 L134 710.619 L112.056 710.619 L112.056 706.684 Q114.718 703.93 119.301 699.3 Q123.907 694.647 125.088 693.305 Q127.333 690.781 128.213 689.045 Q129.116 687.286 129.116 685.596 Q129.116 682.842 127.171 681.106 Q125.25 679.369 122.148 679.369 Q119.949 679.369 117.495 680.133 Q115.065 680.897 112.287 682.448 L112.287 677.726 Q115.111 676.592 117.565 676.013 Q120.018 675.434 122.055 675.434 Q127.426 675.434 130.62 678.119 Q133.815 680.805 133.815 685.295 Q133.815 687.425 133.004 689.346 Q132.217 691.244 130.111 693.837 Q129.532 694.508 126.43 697.726 Q123.329 700.92 117.68 706.684 Z\" fill=\"#000000\" fill-rule=\"evenodd\" fill-opacity=\"1\" /><path clip-path=\"url(#clip8300)\" d=\"M 0 0 M139.208 709.902 L139.208 705.642 Q140.967 706.476 142.773 706.916 Q144.578 707.355 146.315 707.355 Q150.944 707.355 153.375 704.254 Q155.828 701.129 156.176 694.786 Q154.833 696.777 152.773 697.842 Q150.713 698.906 148.213 698.906 Q143.028 698.906 139.995 695.781 Q136.986 692.633 136.986 687.194 Q136.986 681.869 140.134 678.652 Q143.282 675.434 148.514 675.434 Q154.509 675.434 157.657 680.041 Q160.828 684.624 160.828 693.374 Q160.828 701.545 156.94 706.43 Q153.074 711.291 146.523 711.291 Q144.764 711.291 142.958 710.943 Q141.153 710.596 139.208 709.902 M148.514 695.249 Q151.662 695.249 153.49 693.096 Q155.342 690.943 155.342 687.194 Q155.342 683.467 153.49 681.314 Q151.662 679.138 148.514 679.138 Q145.366 679.138 143.514 681.314 Q141.685 683.467 141.685 687.194 Q141.685 690.943 143.514 693.096 Q145.366 695.249 148.514 695.249 Z\" fill=\"#000000\" fill-rule=\"evenodd\" fill-opacity=\"1\" /><path clip-path=\"url(#clip8300)\" d=\"M 0 0 M175.898 679.138 Q172.287 679.138 170.458 682.703 Q168.652 686.244 168.652 693.374 Q168.652 700.48 170.458 704.045 Q172.287 707.587 175.898 707.587 Q179.532 707.587 181.338 704.045 Q183.166 700.48 183.166 693.374 Q183.166 686.244 181.338 682.703 Q179.532 679.138 175.898 679.138 M175.898 675.434 Q181.708 675.434 184.763 680.041 Q187.842 684.624 187.842 693.374 Q187.842 702.101 184.763 706.707 Q181.708 711.291 175.898 711.291 Q170.088 711.291 167.009 706.707 Q163.953 702.101 163.953 693.374 Q163.953 684.624 167.009 680.041 Q170.088 675.434 175.898 675.434 Z\" fill=\"#000000\" fill-rule=\"evenodd\" fill-opacity=\"1\" /><path clip-path=\"url(#clip8300)\" d=\"M 0 0 M126.685 482.622 Q130.042 483.339 131.917 485.608 Q133.815 487.876 133.815 491.21 Q133.815 496.325 130.296 499.126 Q126.778 501.927 120.296 501.927 Q118.12 501.927 115.806 501.487 Q113.514 501.071 111.06 500.214 L111.06 495.7 Q113.005 496.835 115.319 497.413 Q117.634 497.992 120.157 497.992 Q124.555 497.992 126.847 496.256 Q129.162 494.52 129.162 491.21 Q129.162 488.154 127.009 486.441 Q124.88 484.705 121.06 484.705 L117.032 484.705 L117.032 480.863 L121.245 480.863 Q124.694 480.863 126.523 479.497 Q128.352 478.108 128.352 475.515 Q128.352 472.853 126.454 471.441 Q124.579 470.006 121.06 470.006 Q119.139 470.006 116.94 470.423 Q114.741 470.839 112.102 471.719 L112.102 467.552 Q114.764 466.812 117.079 466.441 Q119.417 466.071 121.477 466.071 Q126.801 466.071 129.903 468.502 Q133.004 470.909 133.004 475.029 Q133.004 477.9 131.361 479.89 Q129.717 481.858 126.685 482.622 Z\" fill=\"#000000\" fill-rule=\"evenodd\" fill-opacity=\"1\" /><path clip-path=\"url(#clip8300)\" d=\"M 0 0 M148.884 469.775 Q145.273 469.775 143.444 473.339 Q141.639 476.881 141.639 484.011 Q141.639 491.117 143.444 494.682 Q145.273 498.224 148.884 498.224 Q152.518 498.224 154.324 494.682 Q156.153 491.117 156.153 484.011 Q156.153 476.881 154.324 473.339 Q152.518 469.775 148.884 469.775 M148.884 466.071 Q154.694 466.071 157.75 470.677 Q160.828 475.261 160.828 484.011 Q160.828 492.738 157.75 497.344 Q154.694 501.927 148.884 501.927 Q143.074 501.927 139.995 497.344 Q136.94 492.738 136.94 484.011 Q136.94 475.261 139.995 470.677 Q143.074 466.071 148.884 466.071 Z\" fill=\"#000000\" fill-rule=\"evenodd\" fill-opacity=\"1\" /><path clip-path=\"url(#clip8300)\" d=\"M 0 0 M175.898 469.775 Q172.287 469.775 170.458 473.339 Q168.652 476.881 168.652 484.011 Q168.652 491.117 170.458 494.682 Q172.287 498.224 175.898 498.224 Q179.532 498.224 181.338 494.682 Q183.166 491.117 183.166 484.011 Q183.166 476.881 181.338 473.339 Q179.532 469.775 175.898 469.775 M175.898 466.071 Q181.708 466.071 184.763 470.677 Q187.842 475.261 187.842 484.011 Q187.842 492.738 184.763 497.344 Q181.708 501.927 175.898 501.927 Q170.088 501.927 167.009 497.344 Q163.953 492.738 163.953 484.011 Q163.953 475.261 167.009 470.677 Q170.088 466.071 175.898 466.071 Z\" fill=\"#000000\" fill-rule=\"evenodd\" fill-opacity=\"1\" /><path clip-path=\"url(#clip8300)\" d=\"M 0 0 M127.912 273.259 Q131.268 273.976 133.143 276.245 Q135.042 278.513 135.042 281.846 Q135.042 286.962 131.523 289.763 Q128.005 292.564 121.523 292.564 Q119.347 292.564 117.032 292.124 Q114.741 291.707 112.287 290.851 L112.287 286.337 Q114.231 287.471 116.546 288.05 Q118.861 288.629 121.384 288.629 Q125.782 288.629 128.074 286.893 Q130.389 285.157 130.389 281.846 Q130.389 278.791 128.236 277.078 Q126.106 275.342 122.287 275.342 L118.259 275.342 L118.259 271.499 L122.472 271.499 Q125.921 271.499 127.75 270.134 Q129.579 268.745 129.579 266.152 Q129.579 263.49 127.68 262.078 Q125.805 260.643 122.287 260.643 Q120.366 260.643 118.167 261.059 Q115.968 261.476 113.329 262.356 L113.329 258.189 Q115.991 257.448 118.305 257.078 Q120.643 256.708 122.704 256.708 Q128.028 256.708 131.129 259.138 Q134.231 261.546 134.231 265.666 Q134.231 268.536 132.588 270.527 Q130.944 272.495 127.912 273.259 Z\" fill=\"#000000\" fill-rule=\"evenodd\" fill-opacity=\"1\" /><path clip-path=\"url(#clip8300)\" d=\"M 0 0 M140.921 287.957 L148.56 287.957 L148.56 261.592 L140.25 263.259 L140.25 258.999 L148.514 257.333 L153.19 257.333 L153.19 287.957 L160.828 287.957 L160.828 291.893 L140.921 291.893 L140.921 287.957 Z\" fill=\"#000000\" fill-rule=\"evenodd\" fill-opacity=\"1\" /><path clip-path=\"url(#clip8300)\" d=\"M 0 0 M175.898 260.411 Q172.287 260.411 170.458 263.976 Q168.652 267.518 168.652 274.647 Q168.652 281.754 170.458 285.319 Q172.287 288.86 175.898 288.86 Q179.532 288.86 181.338 285.319 Q183.166 281.754 183.166 274.647 Q183.166 267.518 181.338 263.976 Q179.532 260.411 175.898 260.411 M175.898 256.708 Q181.708 256.708 184.763 261.314 Q187.842 265.897 187.842 274.647 Q187.842 283.374 184.763 287.981 Q181.708 292.564 175.898 292.564 Q170.088 292.564 167.009 287.981 Q163.953 283.374 163.953 274.647 Q163.953 265.897 167.009 261.314 Q170.088 256.708 175.898 256.708 Z\" fill=\"#000000\" fill-rule=\"evenodd\" fill-opacity=\"1\" /><path clip-path=\"url(#clip8300)\" d=\"M 0 0 M128.282 63.8952 Q131.639 64.6128 133.514 66.8813 Q135.412 69.1498 135.412 72.4831 Q135.412 77.5988 131.893 80.3997 Q128.375 83.2006 121.893 83.2006 Q119.718 83.2006 117.403 82.7608 Q115.111 82.3442 112.657 81.4877 L112.657 76.9738 Q114.602 78.1081 116.917 78.6868 Q119.231 79.2655 121.755 79.2655 Q126.153 79.2655 128.444 77.5294 Q130.759 75.7933 130.759 72.4831 Q130.759 69.4276 128.606 67.7146 Q126.477 65.9785 122.657 65.9785 L118.63 65.9785 L118.63 62.1359 L122.843 62.1359 Q126.292 62.1359 128.12 60.7702 Q129.949 59.3813 129.949 56.7887 Q129.949 54.1267 128.051 52.7147 Q126.176 51.2795 122.657 51.2795 Q120.736 51.2795 118.537 51.6962 Q116.338 52.1128 113.699 52.9925 L113.699 48.8258 Q116.361 48.0851 118.676 47.7147 Q121.014 47.3443 123.074 47.3443 Q128.398 47.3443 131.5 49.7749 Q134.602 52.1823 134.602 56.3026 Q134.602 59.173 132.958 61.1637 Q131.315 63.1313 128.282 63.8952 Z\" fill=\"#000000\" fill-rule=\"evenodd\" fill-opacity=\"1\" /><path clip-path=\"url(#clip8300)\" d=\"M 0 0 M144.509 78.5942 L160.828 78.5942 L160.828 82.5293 L138.884 82.5293 L138.884 78.5942 Q141.546 75.8396 146.129 71.21 Q150.736 66.5572 151.916 65.2146 Q154.162 62.6915 155.041 60.9554 Q155.944 59.1961 155.944 57.5063 Q155.944 54.7517 154 53.0156 Q152.078 51.2795 148.977 51.2795 Q146.778 51.2795 144.324 52.0434 Q141.893 52.8073 139.116 54.3582 L139.116 49.636 Q141.94 48.5017 144.393 47.923 Q146.847 47.3443 148.884 47.3443 Q154.254 47.3443 157.449 50.0295 Q160.643 52.7147 160.643 57.2054 Q160.643 59.335 159.833 61.2563 Q159.046 63.1544 156.94 65.747 Q156.361 66.4183 153.259 69.6359 Q150.157 72.8303 144.509 78.5942 Z\" fill=\"#000000\" fill-rule=\"evenodd\" fill-opacity=\"1\" /><path clip-path=\"url(#clip8300)\" d=\"M 0 0 M175.898 51.048 Q172.287 51.048 170.458 54.6128 Q168.652 58.1545 168.652 65.2841 Q168.652 72.3905 170.458 75.9553 Q172.287 79.4969 175.898 79.4969 Q179.532 79.4969 181.338 75.9553 Q183.166 72.3905 183.166 65.2841 Q183.166 58.1545 181.338 54.6128 Q179.532 51.048 175.898 51.048 M175.898 47.3443 Q181.708 47.3443 184.763 51.9508 Q187.842 56.5341 187.842 65.2841 Q187.842 74.0109 184.763 78.6173 Q181.708 83.2006 175.898 83.2006 Q170.088 83.2006 167.009 78.6173 Q163.953 74.0109 163.953 65.2841 Q163.953 56.5341 167.009 51.9508 Q170.088 47.3443 175.898 47.3443 Z\" fill=\"#000000\" fill-rule=\"evenodd\" fill-opacity=\"1\" /><path clip-path=\"url(#clip8300)\" d=\"M 0 0 M1995.66 1525.47 L1995.66 1535.6 L2007.73 1535.6 L2007.73 1540.15 L1995.66 1540.15 L1995.66 1559.5 Q1995.66 1563.86 1996.84 1565.1 Q1998.05 1566.34 2001.71 1566.34 L2007.73 1566.34 L2007.73 1571.24 L2001.71 1571.24 Q1994.93 1571.24 1992.35 1568.73 Q1989.77 1566.18 1989.77 1559.5 L1989.77 1540.15 L1985.48 1540.15 L1985.48 1535.6 L1989.77 1535.6 L1989.77 1525.47 L1995.66 1525.47 Z\" fill=\"#000000\" fill-rule=\"evenodd\" fill-opacity=\"1\" /><path clip-path=\"url(#clip8300)\" d=\"M 0 0 M2013.87 1535.6 L2019.73 1535.6 L2019.73 1571.24 L2013.87 1571.24 L2013.87 1535.6 M2013.87 1521.72 L2019.73 1521.72 L2019.73 1529.13 L2013.87 1529.13 L2013.87 1521.72 Z\" fill=\"#000000\" fill-rule=\"evenodd\" fill-opacity=\"1\" /><path clip-path=\"url(#clip8300)\" d=\"M 0 0 M2053.62 1542.44 Q2055.82 1538.49 2058.87 1536.61 Q2061.93 1534.74 2066.07 1534.74 Q2071.64 1534.74 2074.66 1538.65 Q2077.69 1542.53 2077.69 1549.73 L2077.69 1571.24 L2071.8 1571.24 L2071.8 1549.92 Q2071.8 1544.79 2069.98 1542.31 Q2068.17 1539.83 2064.44 1539.83 Q2059.89 1539.83 2057.25 1542.85 Q2054.61 1545.88 2054.61 1551.1 L2054.61 1571.24 L2048.72 1571.24 L2048.72 1549.92 Q2048.72 1544.76 2046.91 1542.31 Q2045.09 1539.83 2041.31 1539.83 Q2036.82 1539.83 2034.18 1542.88 Q2031.53 1545.91 2031.53 1551.1 L2031.53 1571.24 L2025.65 1571.24 L2025.65 1535.6 L2031.53 1535.6 L2031.53 1541.13 Q2033.54 1537.86 2036.34 1536.3 Q2039.14 1534.74 2042.99 1534.74 Q2046.88 1534.74 2049.58 1536.71 Q2052.32 1538.68 2053.62 1542.44 Z\" fill=\"#000000\" fill-rule=\"evenodd\" fill-opacity=\"1\" /><path clip-path=\"url(#clip8300)\" d=\"M 0 0 M2114.32 1551.96 L2114.32 1554.82 L2087.39 1554.82 Q2087.77 1560.87 2091.02 1564.05 Q2094.3 1567.2 2100.12 1567.2 Q2103.5 1567.2 2106.65 1566.37 Q2109.83 1565.55 2112.95 1563.89 L2112.95 1569.43 Q2109.8 1570.77 2106.49 1571.47 Q2103.18 1572.17 2099.77 1572.17 Q2091.24 1572.17 2086.25 1567.2 Q2081.28 1562.24 2081.28 1553.77 Q2081.28 1545.02 2085.99 1539.89 Q2090.74 1534.74 2098.76 1534.74 Q2105.95 1534.74 2110.12 1539.38 Q2114.32 1544 2114.32 1551.96 M2108.46 1550.24 Q2108.4 1545.43 2105.76 1542.57 Q2103.15 1539.7 2098.82 1539.7 Q2093.92 1539.7 2090.96 1542.47 Q2088.03 1545.24 2087.58 1550.27 L2108.46 1550.24 Z\" fill=\"#000000\" fill-rule=\"evenodd\" fill-opacity=\"1\" /><path clip-path=\"url(#clip8300)\" d=\"M 0 0 M21.9562 811.585 L21.9562 805.378 L51.875 794.238 L21.9562 783.098 L21.9562 776.891 L57.6042 790.259 L57.6042 798.217 L21.9562 811.585 Z\" fill=\"#000000\" fill-rule=\"evenodd\" fill-opacity=\"1\" /><path clip-path=\"url(#clip8300)\" d=\"M 0 0 M39.6847 754.548 Q39.6847 761.646 41.3079 764.383 Q42.9312 767.12 46.8461 767.12 Q49.9653 767.12 51.8114 765.083 Q53.6256 763.014 53.6256 759.481 Q53.6256 754.611 50.1881 751.683 Q46.7188 748.723 40.9897 748.723 L39.6847 748.723 L39.6847 754.548 M37.2657 742.867 L57.6042 742.867 L57.6042 748.723 L52.1933 748.723 Q55.4398 750.728 56.9994 753.72 Q58.5272 756.712 58.5272 761.041 Q58.5272 766.515 55.4716 769.762 Q52.3843 772.977 47.2281 772.977 Q41.2125 772.977 38.1569 768.966 Q35.1014 764.924 35.1014 756.935 L35.1014 748.723 L34.5285 748.723 Q30.4862 748.723 28.2901 751.397 Q26.0621 754.039 26.0621 758.845 Q26.0621 761.9 26.7941 764.797 Q27.5262 767.693 28.9903 770.367 L23.5795 770.367 Q22.3381 767.152 21.7334 764.128 Q21.0968 761.104 21.0968 758.24 Q21.0968 750.506 25.1072 746.686 Q29.1176 742.867 37.2657 742.867 Z\" fill=\"#000000\" fill-rule=\"evenodd\" fill-opacity=\"1\" /><path clip-path=\"url(#clip8300)\" d=\"M 0 0 M8.07896 736.724 L8.07896 730.867 L57.6042 730.867 L57.6042 736.724 L8.07896 736.724 Z\" fill=\"#000000\" fill-rule=\"evenodd\" fill-opacity=\"1\" /><path clip-path=\"url(#clip8300)\" d=\"M 0 0 M43.5359 725.329 L21.9562 725.329 L21.9562 719.473 L43.3131 719.473 Q48.3739 719.473 50.9202 717.499 Q53.4346 715.526 53.4346 711.579 Q53.4346 706.837 50.4109 704.1 Q47.3872 701.33 42.1673 701.33 L21.9562 701.33 L21.9562 695.474 L57.6042 695.474 L57.6042 701.33 L52.1296 701.33 Q55.3762 703.463 56.9676 706.296 Q58.5272 709.097 58.5272 712.821 Q58.5272 718.964 54.7078 722.146 Q50.8883 725.329 43.5359 725.329 M21.0968 710.593 L21.0968 710.593 Z\" fill=\"#000000\" fill-rule=\"evenodd\" fill-opacity=\"1\" /><path clip-path=\"url(#clip8300)\" d=\"M 0 0 M38.3161 658.839 L41.1806 658.839 L41.1806 685.766 Q47.2281 685.384 50.4109 682.138 Q53.5619 678.86 53.5619 673.035 Q53.5619 669.661 52.7344 666.51 Q51.9069 663.327 50.2518 660.208 L55.7899 660.208 Q57.1267 663.359 57.827 666.669 Q58.5272 669.979 58.5272 673.385 Q58.5272 681.915 53.5619 686.912 Q48.5967 691.877 40.1303 691.877 Q31.3774 691.877 26.2531 687.167 Q21.0968 682.424 21.0968 674.404 Q21.0968 667.21 25.7438 663.041 Q30.3589 658.839 38.3161 658.839 M36.5973 664.696 Q31.7912 664.76 28.9266 667.401 Q26.0621 670.011 26.0621 674.34 Q26.0621 679.241 28.8312 682.202 Q31.6002 685.13 36.6292 685.575 L36.5973 664.696 Z\" fill=\"#000000\" fill-rule=\"evenodd\" fill-opacity=\"1\" /><polyline clip-path=\"url(#clip8302)\" style=\"stroke:#009af9; stroke-width:4; stroke-opacity:1; fill:none\" points=\"\n",
       "  330.223,1007.38 367.205,986.448 404.187,923.639 441.17,818.957 478.152,986.448 515.134,965.512 552.116,965.512 589.099,965.512 626.081,1028.32 663.063,986.448 \n",
       "  700.046,944.575 737.028,1091.13 774.01,1070.19 810.992,1070.19 847.975,1070.19 884.957,923.639 921.939,923.639 958.922,588.658 995.904,567.721 1032.89,651.467 \n",
       "  1069.87,651.467 1106.85,651.467 1143.83,693.339 1180.82,546.785 1217.8,483.976 1254.78,442.103 1291.76,421.167 1328.74,421.167 1365.73,421.167 1402.71,274.613 \n",
       "  1439.69,274.613 1476.67,274.613 1513.66,483.976 1550.64,274.613 1587.62,274.613 1624.6,274.613 1661.59,190.867 1698.57,232.74 1735.55,190.867 1772.53,232.74 \n",
       "  1809.51,274.613 1846.5,274.613 1883.48,274.613 1920.46,169.931 1957.44,86.1857 1994.43,190.867 2031.41,148.995 2068.39,253.676 2105.37,253.676 2142.35,253.676 \n",
       "  2179.34,253.676 2216.32,609.594 2253.3,504.912 2290.28,672.403 2327.27,463.04 2364.25,463.04 2401.23,463.04 2438.21,400.231 2475.2,902.703 2512.18,1070.19 \n",
       "  2549.16,1091.13 2586.14,1216.75 2623.12,1216.75 2660.11,1216.75 2697.09,1258.62 2734.07,1321.43 2771.05,1363.3 2808.04,1300.49 2845.02,1070.19 2882,1070.19 \n",
       "  2918.98,1070.19 2955.97,986.448 2992.95,881.766 3029.93,923.639 3066.91,923.639 3103.89,923.639 3140.88,923.639 3177.86,923.639 3214.84,1133 3251.82,1195.81 \n",
       "  3288.81,1258.62 3325.79,1133 3362.77,1091.13 3399.75,1091.13 3436.73,1091.13 3473.72,1195.81 3510.7,1153.94 3547.68,1153.94 3584.66,1195.81 3621.65,1216.75 \n",
       "  3658.63,1216.75 3695.61,1216.75 3732.59,1216.75 3769.58,1216.75 \n",
       "  \"/>\n",
       "<polyline clip-path=\"url(#clip8302)\" style=\"stroke:#e26f46; stroke-width:4; stroke-opacity:1; fill:none\" points=\"\n",
       "  330.223,1007.38 367.205,944.575 404.187,902.703 441.17,881.766 478.152,944.575 515.134,944.575 552.116,965.512 589.099,1028.32 626.081,1049.26 663.063,1007.38 \n",
       "  700.046,1028.32 737.028,1049.26 774.01,1028.32 810.992,1028.32 847.975,1007.38 884.957,923.639 921.939,839.894 958.922,777.085 995.904,714.276 1032.89,651.467 \n",
       "  1069.87,588.658 1106.85,567.721 1143.83,567.721 1180.82,546.785 1217.8,525.849 1254.78,483.976 1291.76,442.103 1328.74,421.167 1365.73,400.231 1402.71,358.358 \n",
       "  1439.69,316.485 1476.67,316.485 1513.66,337.422 1550.64,295.549 1587.62,274.613 1624.6,274.613 1661.59,253.676 1698.57,211.804 1735.55,211.804 1772.53,232.74 \n",
       "  1809.51,211.804 1846.5,211.804 1883.48,211.804 1920.46,169.931 1957.44,148.995 1994.43,190.867 2031.41,190.867 2068.39,211.804 2105.37,232.74 2142.35,274.613 \n",
       "  2179.34,295.549 2216.32,358.358 2253.3,421.167 2290.28,483.976 2327.27,483.976 2364.25,567.721 2401.23,609.594 2438.21,672.403 2475.2,777.085 2512.18,923.639 \n",
       "  2549.16,1007.38 2586.14,1153.94 2623.12,1237.68 2660.11,1300.49 2697.09,1300.49 2734.07,1300.49 2771.05,1300.49 2808.04,1216.75 2845.02,1133 2882,1091.13 \n",
       "  2918.98,1028.32 2955.97,965.512 2992.95,944.575 3029.93,923.639 3066.91,881.766 3103.89,881.766 3140.88,944.575 3177.86,986.448 3214.84,1049.26 3251.82,1112.07 \n",
       "  3288.81,1174.87 3325.79,1153.94 3362.77,1153.94 3399.75,1153.94 3436.73,1153.94 3473.72,1153.94 3510.7,1153.94 3547.68,1153.94 3584.66,1174.87 3621.65,1216.75 \n",
       "  3658.63,1279.56 3695.61,1342.37 3732.59,1363.3 3769.58,1384.24 \n",
       "  \"/>\n",
       "<polyline clip-path=\"url(#clip8302)\" style=\"stroke:#3da44d; stroke-width:4; stroke-opacity:1; fill:none\" points=\"\n",
       "  3640.14,2799.12 3640.14,-1328.69 \n",
       "  \"/>\n",
       "<path clip-path=\"url(#clip8300)\" d=\"\n",
       "M344.642 463.884 L1166.92 463.884 L1166.92 221.964 L344.642 221.964  Z\n",
       "  \" fill=\"#ffffff\" fill-rule=\"evenodd\" fill-opacity=\"1\"/>\n",
       "<polyline clip-path=\"url(#clip8300)\" style=\"stroke:#000000; stroke-width:4; stroke-opacity:1; fill:none\" points=\"\n",
       "  344.642,463.884 1166.92,463.884 1166.92,221.964 344.642,221.964 344.642,463.884 \n",
       "  \"/>\n",
       "<polyline clip-path=\"url(#clip8300)\" style=\"stroke:#009af9; stroke-width:4; stroke-opacity:1; fill:none\" points=\"\n",
       "  383.842,282.444 619.042,282.444 \n",
       "  \"/>\n",
       "<path clip-path=\"url(#clip8300)\" d=\"M 0 0 M662.918 283.22 L662.918 295.882 L670.418 295.882 Q674.191 295.882 675.997 294.331 Q677.825 292.757 677.825 289.539 Q677.825 286.298 675.997 284.77 Q674.191 283.22 670.418 283.22 L662.918 283.22 M662.918 269.007 L662.918 279.423 L669.839 279.423 Q673.265 279.423 674.932 278.15 Q676.622 276.854 676.622 274.215 Q676.622 271.599 674.932 270.303 Q673.265 269.007 669.839 269.007 L662.918 269.007 M658.242 265.164 L670.187 265.164 Q675.534 265.164 678.427 267.386 Q681.321 269.609 681.321 273.706 Q681.321 276.877 679.839 278.752 Q678.358 280.627 675.487 281.09 Q678.936 281.831 680.835 284.192 Q682.756 286.53 682.756 290.048 Q682.756 294.678 679.608 297.201 Q676.46 299.724 670.649 299.724 L658.242 299.724 L658.242 265.164 Z\" fill=\"#000000\" fill-rule=\"evenodd\" fill-opacity=\"1\" /><path clip-path=\"url(#clip8300)\" d=\"M 0 0 M698.96 269.771 L692.617 286.97 L705.325 286.97 L698.96 269.771 M696.321 265.164 L701.622 265.164 L714.793 299.724 L709.932 299.724 L706.784 290.858 L691.205 290.858 L688.057 299.724 L683.126 299.724 L696.321 265.164 Z\" fill=\"#000000\" fill-rule=\"evenodd\" fill-opacity=\"1\" /><path clip-path=\"url(#clip8300)\" d=\"M 0 0 M724.121 283.22 L724.121 295.882 L731.621 295.882 Q735.395 295.882 737.2 294.331 Q739.029 292.757 739.029 289.539 Q739.029 286.298 737.2 284.77 Q735.395 283.22 731.621 283.22 L724.121 283.22 M724.121 269.007 L724.121 279.423 L731.043 279.423 Q734.469 279.423 736.135 278.15 Q737.825 276.854 737.825 274.215 Q737.825 271.599 736.135 270.303 Q734.469 269.007 731.043 269.007 L724.121 269.007 M719.446 265.164 L731.39 265.164 Q736.737 265.164 739.631 267.386 Q742.524 269.609 742.524 273.706 Q742.524 276.877 741.043 278.752 Q739.561 280.627 736.691 281.09 Q740.14 281.831 742.038 284.192 Q743.959 286.53 743.959 290.048 Q743.959 294.678 740.811 297.201 Q737.663 299.724 731.853 299.724 L719.446 299.724 L719.446 265.164 Z\" fill=\"#000000\" fill-rule=\"evenodd\" fill-opacity=\"1\" /><path clip-path=\"url(#clip8300)\" d=\"M 0 0 M760.163 269.771 L753.82 286.97 L766.529 286.97 L760.163 269.771 M757.524 265.164 L762.825 265.164 L775.996 299.724 L771.135 299.724 L767.987 290.858 L752.408 290.858 L749.26 299.724 L744.33 299.724 L757.524 265.164 Z\" fill=\"#000000\" fill-rule=\"evenodd\" fill-opacity=\"1\" /><polyline clip-path=\"url(#clip8300)\" style=\"stroke:#e26f46; stroke-width:4; stroke-opacity:1; fill:none\" points=\"\n",
       "  383.842,342.924 619.042,342.924 \n",
       "  \"/>\n",
       "<path clip-path=\"url(#clip8300)\" d=\"M 0 0 M662.525 356.315 L662.525 370.065 L658.242 370.065 L658.242 334.278 L662.525 334.278 L662.525 338.213 Q663.867 335.899 665.904 334.788 Q667.964 333.653 670.812 333.653 Q675.534 333.653 678.474 337.403 Q681.436 341.153 681.436 347.264 Q681.436 353.375 678.474 357.125 Q675.534 360.875 670.812 360.875 Q667.964 360.875 665.904 359.764 Q663.867 358.63 662.525 356.315 M677.015 347.264 Q677.015 342.565 675.071 339.903 Q673.149 337.218 669.77 337.218 Q666.39 337.218 664.446 339.903 Q662.525 342.565 662.525 347.264 Q662.525 351.963 664.446 354.649 Q666.39 357.311 669.77 357.311 Q673.149 357.311 675.071 354.649 Q677.015 351.963 677.015 347.264 Z\" fill=\"#000000\" fill-rule=\"evenodd\" fill-opacity=\"1\" /><path clip-path=\"url(#clip8300)\" d=\"M 0 0 M700.927 338.26 Q700.21 337.843 699.353 337.658 Q698.52 337.45 697.501 337.45 Q693.89 337.45 691.946 339.811 Q690.024 342.149 690.024 346.547 L690.024 360.204 L685.742 360.204 L685.742 334.278 L690.024 334.278 L690.024 338.306 Q691.367 335.945 693.52 334.811 Q695.673 333.653 698.751 333.653 Q699.191 333.653 699.723 333.723 Q700.256 333.769 700.904 333.885 L700.927 338.26 Z\" fill=\"#000000\" fill-rule=\"evenodd\" fill-opacity=\"1\" /><path clip-path=\"url(#clip8300)\" d=\"M 0 0 M726.529 346.176 L726.529 348.26 L706.946 348.26 Q707.223 352.658 709.584 354.973 Q711.969 357.264 716.205 357.264 Q718.658 357.264 720.95 356.662 Q723.265 356.061 725.533 354.857 L725.533 358.885 Q723.242 359.857 720.834 360.366 Q718.427 360.875 715.95 360.875 Q709.747 360.875 706.112 357.264 Q702.501 353.653 702.501 347.496 Q702.501 341.13 705.927 337.403 Q709.376 333.653 715.209 333.653 Q720.441 333.653 723.473 337.033 Q726.529 340.389 726.529 346.176 M722.27 344.926 Q722.223 341.431 720.302 339.348 Q718.404 337.264 715.256 337.264 Q711.691 337.264 709.538 339.278 Q707.409 341.292 707.084 344.95 L722.27 344.926 Z\" fill=\"#000000\" fill-rule=\"evenodd\" fill-opacity=\"1\" /><path clip-path=\"url(#clip8300)\" d=\"M 0 0 M748.056 338.213 L748.056 324.186 L752.316 324.186 L752.316 360.204 L748.056 360.204 L748.056 356.315 Q746.714 358.63 744.654 359.764 Q742.617 360.875 739.746 360.875 Q735.047 360.875 732.084 357.125 Q729.145 353.375 729.145 347.264 Q729.145 341.153 732.084 337.403 Q735.047 333.653 739.746 333.653 Q742.617 333.653 744.654 334.788 Q746.714 335.899 748.056 338.213 M733.543 347.264 Q733.543 351.963 735.464 354.649 Q737.408 357.311 740.788 357.311 Q744.168 357.311 746.112 354.649 Q748.056 351.963 748.056 347.264 Q748.056 342.565 746.112 339.903 Q744.168 337.218 740.788 337.218 Q737.408 337.218 735.464 339.903 Q733.543 342.565 733.543 347.264 Z\" fill=\"#000000\" fill-rule=\"evenodd\" fill-opacity=\"1\" /><path clip-path=\"url(#clip8300)\" d=\"M 0 0 M756.783 334.278 L761.043 334.278 L761.043 360.204 L756.783 360.204 L756.783 334.278 M756.783 324.186 L761.043 324.186 L761.043 329.579 L756.783 329.579 L756.783 324.186 Z\" fill=\"#000000\" fill-rule=\"evenodd\" fill-opacity=\"1\" /><path clip-path=\"url(#clip8300)\" d=\"M 0 0 M784.167 335.274 L784.167 339.255 Q782.362 338.26 780.533 337.774 Q778.728 337.264 776.876 337.264 Q772.732 337.264 770.441 339.903 Q768.149 342.519 768.149 347.264 Q768.149 352.01 770.441 354.649 Q772.732 357.264 776.876 357.264 Q778.728 357.264 780.533 356.778 Q782.362 356.269 784.167 355.274 L784.167 359.209 Q782.385 360.042 780.464 360.459 Q778.566 360.875 776.413 360.875 Q770.556 360.875 767.107 357.195 Q763.658 353.514 763.658 347.264 Q763.658 340.922 767.13 337.288 Q770.626 333.653 776.691 333.653 Q778.658 333.653 780.533 334.07 Q782.408 334.463 784.167 335.274 Z\" fill=\"#000000\" fill-rule=\"evenodd\" fill-opacity=\"1\" /><path clip-path=\"url(#clip8300)\" d=\"M 0 0 M792.848 326.917 L792.848 334.278 L801.621 334.278 L801.621 337.588 L792.848 337.588 L792.848 351.662 Q792.848 354.834 793.704 355.737 Q794.584 356.639 797.246 356.639 L801.621 356.639 L801.621 360.204 L797.246 360.204 Q792.316 360.204 790.441 358.375 Q788.566 356.524 788.566 351.662 L788.566 337.588 L785.441 337.588 L785.441 334.278 L788.566 334.278 L788.566 326.917 L792.848 326.917 Z\" fill=\"#000000\" fill-rule=\"evenodd\" fill-opacity=\"1\" /><path clip-path=\"url(#clip8300)\" d=\"M 0 0 M806.089 334.278 L810.348 334.278 L810.348 360.204 L806.089 360.204 L806.089 334.278 M806.089 324.186 L810.348 324.186 L810.348 329.579 L806.089 329.579 L806.089 324.186 Z\" fill=\"#000000\" fill-rule=\"evenodd\" fill-opacity=\"1\" /><path clip-path=\"url(#clip8300)\" d=\"M 0 0 M824.862 337.264 Q821.436 337.264 819.445 339.95 Q817.454 342.612 817.454 347.264 Q817.454 351.917 819.422 354.602 Q821.413 357.264 824.862 357.264 Q828.264 357.264 830.255 354.579 Q832.246 351.894 832.246 347.264 Q832.246 342.658 830.255 339.973 Q828.264 337.264 824.862 337.264 M824.862 333.653 Q830.417 333.653 833.588 337.264 Q836.76 340.875 836.76 347.264 Q836.76 353.63 833.588 357.264 Q830.417 360.875 824.862 360.875 Q819.283 360.875 816.112 357.264 Q812.964 353.63 812.964 347.264 Q812.964 340.875 816.112 337.264 Q819.283 333.653 824.862 333.653 Z\" fill=\"#000000\" fill-rule=\"evenodd\" fill-opacity=\"1\" /><path clip-path=\"url(#clip8300)\" d=\"M 0 0 M862.778 344.556 L862.778 360.204 L858.519 360.204 L858.519 344.695 Q858.519 341.014 857.084 339.186 Q855.649 337.357 852.778 337.357 Q849.329 337.357 847.338 339.556 Q845.348 341.755 845.348 345.551 L845.348 360.204 L841.065 360.204 L841.065 334.278 L845.348 334.278 L845.348 338.306 Q846.875 335.968 848.936 334.811 Q851.019 333.653 853.727 333.653 Q858.195 333.653 860.486 336.431 Q862.778 339.186 862.778 344.556 Z\" fill=\"#000000\" fill-rule=\"evenodd\" fill-opacity=\"1\" /><path clip-path=\"url(#clip8300)\" d=\"M 0 0 M883.773 335.042 L883.773 339.07 Q881.968 338.144 880.023 337.681 Q878.079 337.218 875.996 337.218 Q872.824 337.218 871.227 338.19 Q869.653 339.163 869.653 341.107 Q869.653 342.588 870.787 343.445 Q871.922 344.278 875.347 345.042 L876.806 345.366 Q881.343 346.338 883.241 348.121 Q885.162 349.88 885.162 353.051 Q885.162 356.662 882.292 358.769 Q879.445 360.875 874.445 360.875 Q872.361 360.875 870.093 360.459 Q867.848 360.065 865.348 359.255 L865.348 354.857 Q867.709 356.084 870 356.709 Q872.292 357.311 874.537 357.311 Q877.547 357.311 879.167 356.292 Q880.787 355.25 880.787 353.375 Q880.787 351.639 879.607 350.713 Q878.449 349.787 874.491 348.931 L873.01 348.584 Q869.051 347.75 867.292 346.038 Q865.533 344.301 865.533 341.292 Q865.533 337.635 868.125 335.644 Q870.718 333.653 875.486 333.653 Q877.847 333.653 879.931 334.001 Q882.014 334.348 883.773 335.042 Z\" fill=\"#000000\" fill-rule=\"evenodd\" fill-opacity=\"1\" /><polyline clip-path=\"url(#clip8300)\" style=\"stroke:#3da44d; stroke-width:4; stroke-opacity:1; fill:none\" points=\"\n",
       "  383.842,403.404 619.042,403.404 \n",
       "  \"/>\n",
       "<path clip-path=\"url(#clip8300)\" d=\"M 0 0 M658.242 386.124 L687.478 386.124 L687.478 390.059 L675.21 390.059 L675.21 420.684 L670.511 420.684 L670.511 390.059 L658.242 390.059 L658.242 386.124 Z\" fill=\"#000000\" fill-rule=\"evenodd\" fill-opacity=\"1\" /><path clip-path=\"url(#clip8300)\" d=\"M 0 0 M693.936 397.744 Q690.51 397.744 688.52 400.43 Q686.529 403.092 686.529 407.744 Q686.529 412.397 688.497 415.082 Q690.487 417.744 693.936 417.744 Q697.339 417.744 699.33 415.059 Q701.321 412.374 701.321 407.744 Q701.321 403.138 699.33 400.453 Q697.339 397.744 693.936 397.744 M693.936 394.133 Q699.492 394.133 702.663 397.744 Q705.834 401.355 705.834 407.744 Q705.834 414.11 702.663 417.744 Q699.492 421.355 693.936 421.355 Q688.358 421.355 685.186 417.744 Q682.038 414.11 682.038 407.744 Q682.038 401.355 685.186 397.744 Q688.358 394.133 693.936 394.133 Z\" fill=\"#000000\" fill-rule=\"evenodd\" fill-opacity=\"1\" /><path clip-path=\"url(#clip8300)\" d=\"M 0 0 M727.362 398.693 L727.362 384.666 L731.621 384.666 L731.621 420.684 L727.362 420.684 L727.362 416.795 Q726.02 419.11 723.959 420.244 Q721.922 421.355 719.052 421.355 Q714.353 421.355 711.39 417.605 Q708.45 413.855 708.45 407.744 Q708.45 401.633 711.39 397.883 Q714.353 394.133 719.052 394.133 Q721.922 394.133 723.959 395.268 Q726.02 396.379 727.362 398.693 M712.848 407.744 Q712.848 412.443 714.77 415.129 Q716.714 417.791 720.094 417.791 Q723.473 417.791 725.418 415.129 Q727.362 412.443 727.362 407.744 Q727.362 403.045 725.418 400.383 Q723.473 397.698 720.094 397.698 Q716.714 397.698 714.77 400.383 Q712.848 403.045 712.848 407.744 Z\" fill=\"#000000\" fill-rule=\"evenodd\" fill-opacity=\"1\" /><path clip-path=\"url(#clip8300)\" d=\"M 0 0 M747.871 407.652 Q742.709 407.652 740.719 408.832 Q738.728 410.013 738.728 412.86 Q738.728 415.129 740.209 416.471 Q741.714 417.791 744.283 417.791 Q747.825 417.791 749.955 415.291 Q752.107 412.767 752.107 408.601 L752.107 407.652 L747.871 407.652 M756.367 405.893 L756.367 420.684 L752.107 420.684 L752.107 416.749 Q750.649 419.11 748.473 420.244 Q746.297 421.355 743.149 421.355 Q739.168 421.355 736.807 419.133 Q734.469 416.888 734.469 413.138 Q734.469 408.763 737.385 406.541 Q740.325 404.318 746.135 404.318 L752.107 404.318 L752.107 403.902 Q752.107 400.962 750.163 399.365 Q748.242 397.744 744.746 397.744 Q742.524 397.744 740.418 398.277 Q738.311 398.809 736.367 399.874 L736.367 395.939 Q738.705 395.036 740.904 394.596 Q743.103 394.133 745.186 394.133 Q750.811 394.133 753.589 397.05 Q756.367 399.967 756.367 405.893 Z\" fill=\"#000000\" fill-rule=\"evenodd\" fill-opacity=\"1\" /><path clip-path=\"url(#clip8300)\" d=\"M 0 0 M771.621 423.091 Q769.816 427.721 768.103 429.133 Q766.39 430.545 763.519 430.545 L760.117 430.545 L760.117 426.98 L762.617 426.98 Q764.376 426.98 765.348 426.147 Q766.32 425.314 767.501 422.212 L768.265 420.267 L757.779 394.758 L762.293 394.758 L770.394 415.036 L778.496 394.758 L783.01 394.758 L771.621 423.091 Z\" fill=\"#000000\" fill-rule=\"evenodd\" fill-opacity=\"1\" /><path clip-path=\"url(#clip8300)\" d=\"M 0 0 M807.408 389.967 L807.408 416.842 L813.056 416.842 Q820.209 416.842 823.519 413.601 Q826.852 410.36 826.852 403.369 Q826.852 396.425 823.519 393.207 Q820.209 389.967 813.056 389.967 L807.408 389.967 M802.732 386.124 L812.339 386.124 Q822.385 386.124 827.084 390.314 Q831.783 394.481 831.783 403.369 Q831.783 412.305 827.061 416.494 Q822.338 420.684 812.339 420.684 L802.732 420.684 L802.732 386.124 Z\" fill=\"#000000\" fill-rule=\"evenodd\" fill-opacity=\"1\" /><path clip-path=\"url(#clip8300)\" d=\"M 0 0 M858.426 406.656 L858.426 408.74 L838.843 408.74 Q839.121 413.138 841.482 415.453 Q843.866 417.744 848.102 417.744 Q850.556 417.744 852.848 417.142 Q855.162 416.541 857.431 415.337 L857.431 419.365 Q855.139 420.337 852.732 420.846 Q850.324 421.355 847.848 421.355 Q841.644 421.355 838.01 417.744 Q834.399 414.133 834.399 407.976 Q834.399 401.61 837.825 397.883 Q841.274 394.133 847.107 394.133 Q852.338 394.133 855.371 397.513 Q858.426 400.869 858.426 406.656 M854.167 405.406 Q854.121 401.911 852.199 399.828 Q850.301 397.744 847.153 397.744 Q843.588 397.744 841.436 399.758 Q839.306 401.772 838.982 405.43 L854.167 405.406 Z\" fill=\"#000000\" fill-rule=\"evenodd\" fill-opacity=\"1\" /><path clip-path=\"url(#clip8300)\" d=\"M 0 0 M881.551 395.754 L881.551 399.735 Q879.746 398.74 877.917 398.254 Q876.111 397.744 874.26 397.744 Q870.116 397.744 867.824 400.383 Q865.533 402.999 865.533 407.744 Q865.533 412.49 867.824 415.129 Q870.116 417.744 874.26 417.744 Q876.111 417.744 877.917 417.258 Q879.746 416.749 881.551 415.754 L881.551 419.689 Q879.769 420.522 877.847 420.939 Q875.949 421.355 873.797 421.355 Q867.94 421.355 864.491 417.675 Q861.042 413.994 861.042 407.744 Q861.042 401.402 864.514 397.768 Q868.01 394.133 874.074 394.133 Q876.042 394.133 877.917 394.55 Q879.792 394.943 881.551 395.754 Z\" fill=\"#000000\" fill-rule=\"evenodd\" fill-opacity=\"1\" /><path clip-path=\"url(#clip8300)\" d=\"M 0 0 M886.621 414.804 L891.505 414.804 L891.505 420.684 L886.621 420.684 L886.621 414.804 Z\" fill=\"#000000\" fill-rule=\"evenodd\" fill-opacity=\"1\" /><path clip-path=\"url(#clip8300)\" d=\"M 0 0 M912.454 416.749 L920.093 416.749 L920.093 390.383 L911.782 392.05 L911.782 387.791 L920.046 386.124 L924.722 386.124 L924.722 416.749 L932.361 416.749 L932.361 420.684 L912.454 420.684 L912.454 416.749 Z\" fill=\"#000000\" fill-rule=\"evenodd\" fill-opacity=\"1\" /><path clip-path=\"url(#clip8300)\" d=\"M 0 0 M938.241 416.749 L945.88 416.749 L945.88 390.383 L937.569 392.05 L937.569 387.791 L945.833 386.124 L950.509 386.124 L950.509 416.749 L958.148 416.749 L958.148 420.684 L938.241 420.684 L938.241 416.749 Z\" fill=\"#000000\" fill-rule=\"evenodd\" fill-opacity=\"1\" /><path clip-path=\"url(#clip8300)\" d=\"M 0 0 M963.703 414.804 L968.588 414.804 L968.588 418.786 L964.791 426.193 L961.805 426.193 L963.703 418.786 L963.703 414.804 Z\" fill=\"#000000\" fill-rule=\"evenodd\" fill-opacity=\"1\" /><path clip-path=\"url(#clip8300)\" d=\"M 0 0 M992.754 416.749 L1009.07 416.749 L1009.07 420.684 L987.129 420.684 L987.129 416.749 Q989.791 413.994 994.375 409.365 Q998.981 404.712 1000.16 403.369 Q1002.41 400.846 1003.29 399.11 Q1004.19 397.351 1004.19 395.661 Q1004.19 392.906 1002.24 391.17 Q1000.32 389.434 997.222 389.434 Q995.023 389.434 992.569 390.198 Q990.139 390.962 987.361 392.513 L987.361 387.791 Q990.185 386.656 992.639 386.078 Q995.092 385.499 997.129 385.499 Q1002.5 385.499 1005.69 388.184 Q1008.89 390.869 1008.89 395.36 Q1008.89 397.49 1008.08 399.411 Q1007.29 401.309 1005.18 403.902 Q1004.61 404.573 1001.5 407.791 Q998.402 410.985 992.754 416.749 Z\" fill=\"#000000\" fill-rule=\"evenodd\" fill-opacity=\"1\" /><path clip-path=\"url(#clip8300)\" d=\"M 0 0 M1024.14 389.203 Q1020.53 389.203 1018.7 392.768 Q1016.9 396.309 1016.9 403.439 Q1016.9 410.545 1018.7 414.11 Q1020.53 417.652 1024.14 417.652 Q1027.78 417.652 1029.58 414.11 Q1031.41 410.545 1031.41 403.439 Q1031.41 396.309 1029.58 392.768 Q1027.78 389.203 1024.14 389.203 M1024.14 385.499 Q1029.95 385.499 1033.01 390.106 Q1036.09 394.689 1036.09 403.439 Q1036.09 412.166 1033.01 416.772 Q1029.95 421.355 1024.14 421.355 Q1018.33 421.355 1015.25 416.772 Q1012.2 412.166 1012.2 403.439 Q1012.2 394.689 1015.25 390.106 Q1018.33 385.499 1024.14 385.499 Z\" fill=\"#000000\" fill-rule=\"evenodd\" fill-opacity=\"1\" /><path clip-path=\"url(#clip8300)\" d=\"M 0 0 M1045.18 416.749 L1061.5 416.749 L1061.5 420.684 L1039.56 420.684 L1039.56 416.749 Q1042.22 413.994 1046.8 409.365 Q1051.41 404.712 1052.59 403.369 Q1054.84 400.846 1055.72 399.11 Q1056.62 397.351 1056.62 395.661 Q1056.62 392.906 1054.68 391.17 Q1052.75 389.434 1049.65 389.434 Q1047.45 389.434 1045 390.198 Q1042.57 390.962 1039.79 392.513 L1039.79 387.791 Q1042.62 386.656 1045.07 386.078 Q1047.52 385.499 1049.56 385.499 Q1054.93 385.499 1058.12 388.184 Q1061.32 390.869 1061.32 395.36 Q1061.32 397.49 1060.51 399.411 Q1059.72 401.309 1057.62 403.902 Q1057.04 404.573 1053.93 407.791 Q1050.83 410.985 1045.18 416.749 Z\" fill=\"#000000\" fill-rule=\"evenodd\" fill-opacity=\"1\" /><path clip-path=\"url(#clip8300)\" d=\"M 0 0 M1076.57 389.203 Q1072.96 389.203 1071.13 392.768 Q1069.33 396.309 1069.33 403.439 Q1069.33 410.545 1071.13 414.11 Q1072.96 417.652 1076.57 417.652 Q1080.21 417.652 1082.01 414.11 Q1083.84 410.545 1083.84 403.439 Q1083.84 396.309 1082.01 392.768 Q1080.21 389.203 1076.57 389.203 M1076.57 385.499 Q1082.38 385.499 1085.44 390.106 Q1088.52 394.689 1088.52 403.439 Q1088.52 412.166 1085.44 416.772 Q1082.38 421.355 1076.57 421.355 Q1070.76 421.355 1067.68 416.772 Q1064.63 412.166 1064.63 403.439 Q1064.63 394.689 1067.68 390.106 Q1070.76 385.499 1076.57 385.499 Z\" fill=\"#000000\" fill-rule=\"evenodd\" fill-opacity=\"1\" /></svg>\n"
      ]
     },
     "execution_count": 12,
     "metadata": {},
     "output_type": "execute_result"
    }
   ],
   "source": [
    "using Plots\n",
    "\n",
    "#dates = format_dates( df[rows,2] , \"m/d/yy\")\n",
    "\n",
    "gr()\n",
    "plot(    x_axis_dates,\n",
    "        [  y_axis_original y_axis_predicted \n",
    "        ], # y-axis\n",
    "    label    = \n",
    "        [ symbol_to_predict \"predictions\"  \"\" ],\n",
    "    legend   =:topleft, \n",
    "              # :right, :left, :top, :bottom, :inside, :best, :legend, :topright, :topleft, :bottomleft, :bottomright\n",
    "    xlabel   = \"time\",\n",
    "    ylabel   = \"value\",\n",
    "    size     = (980, 400), # width, height\n",
    "    layout = (1, 1), # number of graphs: vertically, horizontally\n",
    "    )\n",
    "## Add veritical today line\n",
    "plot!([today_id], seriestype=\"vline\", label=[ \"Today \"*t \"\" ],)\n"
   ]
  },
  {
   "cell_type": "code",
   "execution_count": 13,
   "metadata": {
    "ExecuteTime": {
     "end_time": "2020-12-11T21:26:51.682000-05:00",
     "start_time": "2020-12-12T02:25:53.204Z"
    }
   },
   "outputs": [],
   "source": [
    "savefig(\"../images/predictions_\" * symbol_to_predict * \".png\")"
   ]
  },
  {
   "cell_type": "code",
   "execution_count": 14,
   "metadata": {
    "ExecuteTime": {
     "end_time": "2020-12-11T21:26:52.105000-05:00",
     "start_time": "2020-12-12T02:25:53.208Z"
    }
   },
   "outputs": [
    {
     "name": "stdout",
     "output_type": "stream",
     "text": [
      "BABA 2020-12-11\n",
      "Sat, 2020-12-05\t predicted 268.0\t, but actual value was \t271.0\t difference is 3.0\n",
      "Sun, 2020-12-06\t predicted 268.0\t, but actual value was \t271.0\t difference is 3.0\n",
      "Mon, 2020-12-07\t predicted 268.0\t, but actual value was \t266.0\t difference is -2.0\n",
      "Tue, 2020-12-08\t predicted 268.0\t, but actual value was \t268.0\t difference is 0.0\n",
      "Wed, 2020-12-09\t predicted 268.0\t, but actual value was \t268.0\t difference is 0.0\n",
      "Thu, 2020-12-10\t predicted 267.0\t, but actual value was \t266.0\t difference is -1.0\n",
      "Fri, 2020-12-11\t predicted 265.0\t, but actual value was \t265.0\t difference is 0.0\n",
      "Sat, 2020-12-12\t predicted 262.0\n",
      "Sun, 2020-12-13\t predicted 259.0\n",
      "Mon, 2020-12-14\t predicted 258.0\n"
     ]
    }
   ],
   "source": [
    "## print prediction comparisons\n",
    "println(symbol_to_predict, \" \", today())\n",
    "\n",
    "file_path = \"../DATA/\" * symbol_to_predict * \"_predictions.csv\"\n",
    "open( file_path, \"a\") do file_handle # append\n",
    "    \n",
    "    for id in finem-10:finem\n",
    "        if id < today_id + 4 # Allows to show Monday predition on Friday night.\n",
    "            row = get(data_predictions, id) # get a dictionary of data from the SFrame\n",
    "            date_string = row[\"Date\"] # e.g. \"2020-10-20\"\n",
    "\n",
    "            a = y_axis_predicted[id]\n",
    "            b = y_axis_original[id]\n",
    "            d = round(b-a, digits=3)\n",
    "            date = convert(String, Dates.format( Date(date_string), \"e, yyyy-mm-dd\" ) )\n",
    "            if id <= today_id\n",
    "                println( date, \"\\t predicted \", a , \"\\t, but actual value was \\t\", b , \"\\t difference is \",  d  ) # di\n",
    "            else\n",
    "                println( date, \"\\t predicted \", a  ) # \n",
    "\n",
    "                txt_to_save =  \n",
    "                    convert(String, Dates.format( today(), \"yyyy-mm-dd\" ) ) *\",\"* \n",
    "                    convert(String, symbol_to_predict) *\",\"* \n",
    "                    date_string *\",\"* \n",
    "                    string(a) * \"\\n\"\n",
    "                \n",
    "                write(file_handle, txt_to_save )\n",
    "                \n",
    "            end # if\n",
    "        end #if \n",
    "    end # for\n",
    "end # open file"
   ]
  },
  {
   "cell_type": "code",
   "execution_count": null,
   "metadata": {},
   "outputs": [],
   "source": []
  },
  {
   "cell_type": "code",
   "execution_count": null,
   "metadata": {},
   "outputs": [],
   "source": []
  }
 ],
 "metadata": {
  "kernelspec": {
   "display_name": "Julia 1.5.1",
   "language": "julia",
   "name": "julia-1.5"
  },
  "language_info": {
   "file_extension": ".jl",
   "mimetype": "application/julia",
   "name": "julia",
   "version": "1.5.1"
  },
  "toc": {
   "base_numbering": 1,
   "nav_menu": {},
   "number_sections": true,
   "sideBar": true,
   "skip_h1_title": true,
   "title_cell": "Table of Contents",
   "title_sidebar": "Contents",
   "toc_cell": true,
   "toc_position": {},
   "toc_section_display": true,
   "toc_window_display": true
  },
  "varInspector": {
   "cols": {
    "lenName": 16,
    "lenType": 16,
    "lenVar": 40
   },
   "kernels_config": {
    "python": {
     "delete_cmd_postfix": "",
     "delete_cmd_prefix": "del ",
     "library": "var_list.py",
     "varRefreshCmd": "print(var_dic_list())"
    },
    "r": {
     "delete_cmd_postfix": ") ",
     "delete_cmd_prefix": "rm(",
     "library": "var_list.r",
     "varRefreshCmd": "cat(var_dic_list()) "
    }
   },
   "types_to_exclude": [
    "module",
    "function",
    "builtin_function_or_method",
    "instance",
    "_Feature"
   ],
   "window_display": false
  }
 },
 "nbformat": 4,
 "nbformat_minor": 4
}
