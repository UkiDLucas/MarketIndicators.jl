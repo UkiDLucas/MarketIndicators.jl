{
 "cells": [
  {
   "cell_type": "markdown",
   "metadata": {},
   "source": [
    "# Prediction Model using TuriCreate in Julia"
   ]
  },
  {
   "cell_type": "markdown",
   "metadata": {
    "toc": true
   },
   "source": [
    "<h1>Table of Contents<span class=\"tocSkip\"></span></h1>\n",
    "<div class=\"toc\"><ul class=\"toc-item\"><li><span><a href=\"#Set-Up\" data-toc-modified-id=\"Set-Up-1\"><span class=\"toc-item-num\">1&nbsp;&nbsp;</span>Set Up</a></span></li><li><span><a href=\"#Fetch-Data-(SFrame)-from-Uber-CSV\" data-toc-modified-id=\"Fetch-Data-(SFrame)-from-Uber-CSV-2\"><span class=\"toc-item-num\">2&nbsp;&nbsp;</span>Fetch Data (SFrame) from Uber CSV</a></span></li><li><span><a href=\"#Split-Data\" data-toc-modified-id=\"Split-Data-3\"><span class=\"toc-item-num\">3&nbsp;&nbsp;</span>Split Data</a></span></li><li><span><a href=\"#Evaluate-the-Model\" data-toc-modified-id=\"Evaluate-the-Model-4\"><span class=\"toc-item-num\">4&nbsp;&nbsp;</span>Evaluate the Model</a></span></li><li><span><a href=\"#Save-/-Export-the-Model\" data-toc-modified-id=\"Save-/-Export-the-Model-5\"><span class=\"toc-item-num\">5&nbsp;&nbsp;</span>Save / Export the Model</a></span></li><li><span><a href=\"#Make-predictions\" data-toc-modified-id=\"Make-predictions-6\"><span class=\"toc-item-num\">6&nbsp;&nbsp;</span>Make predictions</a></span><ul class=\"toc-item\"><li><span><a href=\"#Explore-SFrame\" data-toc-modified-id=\"Explore-SFrame-6.1\"><span class=\"toc-item-num\">6.1&nbsp;&nbsp;</span>Explore SFrame</a></span></li></ul></li></ul></div>"
   ]
  },
  {
   "cell_type": "markdown",
   "metadata": {},
   "source": [
    "## Set Up"
   ]
  },
  {
   "cell_type": "code",
   "execution_count": 1,
   "metadata": {
    "ExecuteTime": {
     "end_time": "2020-12-14T19:59:21.450000-05:00",
     "start_time": "2020-12-15T00:59:20.628Z"
    }
   },
   "outputs": [
    {
     "name": "stdout",
     "output_type": "stream",
     "text": [
      "symbol_to_predict DJIA\n"
     ]
    }
   ],
   "source": [
    "## normally we receive symbol_to_predict from the calling code in Main.jl\n",
    "\n",
    "## comment out when exporting .jl file\n",
    "symbol_to_predict = \"DJIA\"\n",
    "\n",
    "println(\"symbol_to_predict \", symbol_to_predict )"
   ]
  },
  {
   "cell_type": "code",
   "execution_count": 2,
   "metadata": {
    "ExecuteTime": {
     "end_time": "2020-12-14T19:59:21.516000-05:00",
     "start_time": "2020-12-15T00:59:20.631Z"
    }
   },
   "outputs": [
    {
     "name": "stdout",
     "output_type": "stream",
     "text": [
      "\n"
     ]
    }
   ],
   "source": [
    "## Read feature names (columns) form the text file \n",
    "features_to_analyze = readlines(\"../DATA/features_to_analyze.txt\") # returns Array{String,1}\n",
    " \n",
    "println()"
   ]
  },
  {
   "cell_type": "code",
   "execution_count": 3,
   "metadata": {
    "ExecuteTime": {
     "end_time": "2020-12-14T19:59:25.951000-05:00",
     "start_time": "2020-12-15T00:59:20.635Z"
    }
   },
   "outputs": [
    {
     "name": "stdout",
     "output_type": "stream",
     "text": [
      "\n"
     ]
    },
    {
     "data": {
      "text/plain": [
       "\"DJIA_Original\""
      ]
     },
     "execution_count": 3,
     "metadata": {},
     "output_type": "execute_result"
    }
   ],
   "source": [
    "## uncomment for the first run\n",
    "# import Pkg\n",
    "# Pkg.add(\"PyCall\")\n",
    "# Pkg.add(\"Conda\")\n",
    "# ENV[\"PYTHON\"] = \"/opt/anaconda3/envs/turi/bin/python\"\n",
    "# /opt/anaconda3/envs/turi/lib/python3.6/site-packages/\n",
    "# Pkg.build(\"PyCall\")\n",
    "\n",
    "include(\"../Julia/functions.jl\") \n",
    "data_path=\"../DATA/processed/uber_training.csv\"\n",
    "column_to_predict = symbol_to_predict * \"_Original\""
   ]
  },
  {
   "cell_type": "markdown",
   "metadata": {},
   "source": [
    "## Fetch Data (SFrame) from Uber CSV"
   ]
  },
  {
   "cell_type": "code",
   "execution_count": 4,
   "metadata": {
    "ExecuteTime": {
     "end_time": "2020-12-14T19:59:30.219000-05:00",
     "start_time": "2020-12-15T00:59:20.639Z"
    }
   },
   "outputs": [
    {
     "name": "stdout",
     "output_type": "stream",
     "text": [
      "Finished parsing file /Users/uki/REPOS/MarketIndicators.jl/src/DATA/processed/uber_training.csv\n",
      "Parsing completed. Parsed 100 lines in 0.044436 secs.\n",
      "------------------------------------------------------\n",
      "Inferred types from first 100 line(s) of file as \n",
      "column_type_hints=[int,str,float,float,float,float,float,float,float,float,float,float,float,float,float,float,float,float,float,float,float,float,float,float,float,float,float,float,float,float,float,float,float,float,float,float,float,float,float,float,float,float,float,float,float,float,float,float,float,float,float,float,float,float,float,float,float,float,float,float,float,float,float,float,float,float,float,float,float,float,float,float,float,float,float,float,float,float,float,float,float,float,float,float,float,float,float,float,float,float,float,float,float,float,float,float,float,float,float,float,float,float,float,float,float,float,float,float,float,float,float,float,float,float,float,float,float,float,float,float,float,float,float,float,float,float,float,float,float,float,float,float,float,float,float,float,float,float,float,float,float,float,float,float,float,float,float,float,float,float,float,float,float,float,float,float,float,float,float,float,float,float,float,float,float,float,float,float,float,float,float,float,float,float,float,float,float,float,float,float,float,float,float,float,float,float,float,float,float,float,float,float,float,float,float,float,float,float,float,float,float,float,float,float,float,float,float,float,float,float,float,float,float,float,float,float,float,float,float,float,float,float,float,float,float,float,float,float,float,float,float,float,float,float,float,float,float,float,float,float,float,float,float,float,float,float,float,float,float,float,float,float,float,float,float,float,float,float,float,float,float,float,float]\n",
      "If parsing fails due to incorrect types, you can correct\n",
      "the inferred type list above and pass it to read_csv in\n",
      "the column_type_hints argument\n",
      "------------------------------------------------------\n",
      "Finished parsing file /Users/uki/REPOS/MarketIndicators.jl/src/DATA/processed/uber_training.csv\n",
      "Parsing completed. Parsed 1518 lines in 0.034361 secs.\n",
      "\n"
     ]
    }
   ],
   "source": [
    "using PyCall\n",
    "tc = pyimport(\"turicreate\")\n",
    "data = tc.SFrame(data_path)\n",
    "println()"
   ]
  },
  {
   "cell_type": "markdown",
   "metadata": {},
   "source": [
    "## Split Data"
   ]
  },
  {
   "cell_type": "code",
   "execution_count": 5,
   "metadata": {
    "ExecuteTime": {
     "end_time": "2020-12-14T19:59:30.834000-05:00",
     "start_time": "2020-12-15T00:59:20.641Z"
    }
   },
   "outputs": [
    {
     "name": "stdout",
     "output_type": "stream",
     "text": [
      "(1232,)\n",
      "(286,)\n"
     ]
    }
   ],
   "source": [
    "# Make a train-test split\n",
    "train_data, test_data = data.random_split(0.8)\n",
    "\n",
    "println( size(train_data) )\n",
    "println( size(test_data)  )"
   ]
  },
  {
   "cell_type": "code",
   "execution_count": 6,
   "metadata": {
    "ExecuteTime": {
     "end_time": "2020-12-14T19:59:33.446000-05:00",
     "start_time": "2020-12-15T00:59:20.644Z"
    }
   },
   "outputs": [
    {
     "name": "stdout",
     "output_type": "stream",
     "text": [
      "Automatically generating validation set from 5% of the data.\n",
      "Linear regression:\n",
      "--------------------------------------------------------\n",
      "Number of examples          : 1165\n",
      "Number of features          : 203\n",
      "Number of unpacked features : 203\n",
      "Number of coefficients    : 204\n",
      "Starting Newton Method\n",
      "--------------------------------------------------------\n",
      "+-----------+----------+--------------+--------------------+----------------------+---------------------------------+-----------------------------------+\n",
      "| Iteration | Passes   | Elapsed Time | Training Max Error | Validation Max Error | Training Root-Mean-Square Error | Validation Root-Mean-Square Error |\n",
      "+-----------+----------+--------------+--------------------+----------------------+---------------------------------+-----------------------------------+\n",
      "| 1         | 2        | 1.038219     | 1263.687445        | 1039.066185          | 168.861783                      | 216.467874                        |\n",
      "+-----------+----------+--------------+--------------------+----------------------+---------------------------------+-----------------------------------+\n",
      "SUCCESS: Optimal solution found.\n",
      "\n"
     ]
    },
    {
     "data": {
      "text/plain": [
       "PyObject Class                          : LinearRegression\n",
       "\n",
       "Schema\n",
       "------\n",
       "Number of coefficients         : 204\n",
       "Number of examples             : 1165\n",
       "Number of feature columns      : 203\n",
       "Number of unpacked features    : 203\n",
       "\n",
       "Hyperparameters\n",
       "---------------\n",
       "L1 penalty                     : 0\n",
       "L2 penalty                     : 0.01\n",
       "\n",
       "Training Summary\n",
       "----------------\n",
       "Solver                         : newton\n",
       "Solver iterations              : 1\n",
       "Solver status                  : SUCCESS: Optimal solution found.\n",
       "Training time (sec)            : 1.0541\n",
       "\n",
       "Settings\n",
       "--------\n",
       "Residual sum of squares        : 33219161.7115\n",
       "Training RMSE                  : 168.8618\n",
       "\n",
       "Highest Positive Coefficients\n",
       "-----------------------------\n",
       "(intercept)                    : 36290.9152\n",
       "DJIA_Avg005                    : 66.8712\n",
       "US_GDP_Q_Avg060                : 65.146\n",
       "US_PEND_HOME_SALE_M_Avg120     : 52.7764\n",
       "US_GDP_Q_Avg180                : 48.5935\n",
       "\n",
       "Lowest Negative Coefficients\n",
       "----------------------------\n",
       "US_GDP_Q_Avg120                : -92.83\n",
       "US_INDS_PROD_M_Avg180          : -91.7283\n",
       "VINIX_Avg010                   : -53.6253\n",
       "GOLD_Avg180                    : -49.7234\n",
       "GELYF_Avg090                   : -42.302\n"
      ]
     },
     "execution_count": 6,
     "metadata": {},
     "output_type": "execute_result"
    }
   ],
   "source": [
    "model = tc.regression.create( \n",
    "    train_data, \n",
    "    target = column_to_predict, \n",
    "    features = features_to_analyze, \n",
    "    validation_set=\"auto\", \n",
    "    verbose=true\n",
    ")"
   ]
  },
  {
   "cell_type": "markdown",
   "metadata": {},
   "source": [
    "## Evaluate the Model"
   ]
  },
  {
   "cell_type": "code",
   "execution_count": 7,
   "metadata": {
    "ExecuteTime": {
     "end_time": "2020-12-14T19:59:34.608000-05:00",
     "start_time": "2020-12-15T00:59:20.647Z"
    }
   },
   "outputs": [
    {
     "data": {
      "text/plain": [
       "Dict{Any,Any} with 2 entries:\n",
       "  \"rmse\"      => 189.649\n",
       "  \"max_error\" => 1200.16"
      ]
     },
     "execution_count": 7,
     "metadata": {},
     "output_type": "execute_result"
    }
   ],
   "source": [
    "#TODO: write this in a loop to select the best model\n",
    "# Evaluate the model and save the results into a dictionary\n",
    "results = model.evaluate( test_data ) #test_data[0:2531]\n",
    "results"
   ]
  },
  {
   "cell_type": "code",
   "execution_count": 8,
   "metadata": {
    "ExecuteTime": {
     "end_time": "2020-12-14T19:59:34.758000-05:00",
     "start_time": "2020-12-15T00:59:20.650Z"
    }
   },
   "outputs": [
    {
     "name": "stdout",
     "output_type": "stream",
     "text": [
      "max_error: 1200.16, rmse: 189.65\n"
     ]
    }
   ],
   "source": [
    "rmse = results[\"rmse\"]\n",
    "rmse = round(rmse, digits=2)\n",
    "\n",
    "max_error = results[\"max_error\"]\n",
    "max_error = round(max_error, digits=2)\n",
    "\n",
    "println( \"max_error: \", max_error, \", rmse: \", rmse )\n",
    "# max_error: 1069.27, rmse: 184.6\n",
    "# max_error: 65.35, rmse: 32.6            predict: ^DJIA added: US_INIT_JOBLESS\n",
    "# max_error: 1875.39, rmse: 443.59        predict: ^DJIA commented out: \"DJIA_Quantized\"\n",
    "# max_error: 1339.76, rmse: 373.94        predict: ^DJIA commented out: \"DJIA_Quantized\"\n",
    "# max_error: 916.19, rmse: 231.24       predict: ^DJIA with \"DJIA_Avg005\""
   ]
  },
  {
   "cell_type": "markdown",
   "metadata": {},
   "source": [
    "## Save / Export the Model"
   ]
  },
  {
   "cell_type": "code",
   "execution_count": 9,
   "metadata": {
    "ExecuteTime": {
     "end_time": "2020-12-14T19:59:34.782000-05:00",
     "start_time": "2020-12-15T00:59:20.653Z"
    }
   },
   "outputs": [],
   "source": [
    "# Export to Core ML\n",
    "model.export_coreml(\"../DATA/models/\" * symbol_to_predict * \".mlmodel\")"
   ]
  },
  {
   "cell_type": "markdown",
   "metadata": {},
   "source": [
    "## Make predictions "
   ]
  },
  {
   "cell_type": "code",
   "execution_count": 10,
   "metadata": {
    "ExecuteTime": {
     "end_time": "2020-12-14T19:59:34.973000-05:00",
     "start_time": "2020-12-15T00:59:20.655Z"
    }
   },
   "outputs": [
    {
     "name": "stdout",
     "output_type": "stream",
     "text": [
      "Finished parsing file /Users/uki/REPOS/MarketIndicators.jl/src/DATA/processed/uber_prediction.csv\n",
      "Parsing completed. Parsed 95 lines in 0.037511 secs.\n",
      "------------------------------------------------------\n",
      "Inferred types from first 100 line(s) of file as \n",
      "column_type_hints=[int,str,float,float,float,float,float,float,float,float,float,float,float,float,float,float,float,float,float,float,float,float,float,float,float,float,float,float,float,float,float,float,float,float,float,float,float,float,float,float,float,float,float,float,float,float,float,float,float,float,float,float,float,float,float,float,float,float,float,float,float,float,float,float,float,float,float,float,float,float,float,float,float,float,float,float,float,float,float,float,float,float,float,float,float,float,float,float,float,float,float,float,float,float,float,float,float,float,float,float,float,float,float,float,float,float,float,float,float,float,float,float,float,float,float,float,float,float,float,float,float,float,float,float,float,float,float,float,float,float,float,float,float,float,float,float,float,float,float,float,float,float,float,float,float,float,float,float,float,float,float,float,float,float,float,float,float,float,float,float,float,float,float,float,float,float,float,float,float,float,float,float,float,float,float,float,float,float,float,float,float,float,float,float,float,float,float,float,float,float,float,float,float,float,float,float,float,float,float,float,float,float,float,float,float,float,float,float,float,float,float,float,float,float,float,float,float,float,float,float,float,float,float,float,float,float,float,float,float,float,float,float,float,float,float,float,float,float,float,float,float,float,float,float,float,float,float,float,float,float,float,float,float,float,float,float,float,float,float,float,float,float,float]\n",
      "If parsing fails due to incorrect types, you can correct\n",
      "the inferred type list above and pass it to read_csv in\n",
      "the column_type_hints argument\n",
      "------------------------------------------------------\n",
      "Finished parsing file /Users/uki/REPOS/MarketIndicators.jl/src/DATA/processed/uber_prediction.csv\n",
      "Parsing completed. Parsed 95 lines in 0.008376 secs.\n",
      "\n"
     ]
    }
   ],
   "source": [
    "data_path=\"../DATA/processed/uber_prediction.csv\"\n",
    "data_predictions = tc.SFrame(data_path)\n",
    "\n",
    "## Save predictions to an SArray\n",
    "predictions = model.predict(data_predictions)\n",
    "#get(predictions, 1)\n",
    "\n",
    "println()"
   ]
  },
  {
   "cell_type": "markdown",
   "metadata": {},
   "source": [
    "### Explore SFrame"
   ]
  },
  {
   "cell_type": "code",
   "execution_count": 11,
   "metadata": {
    "ExecuteTime": {
     "end_time": "2020-12-14T19:59:35.156000-05:00",
     "start_time": "2020-12-15T00:59:20.658Z"
    }
   },
   "outputs": [
    {
     "name": "stdout",
     "output_type": "stream",
     "text": [
      "record_count data 95\n",
      "record_count predictions 95\n",
      "feature_number 263\n",
      "Rata Die 737777\n",
      "date 2020-12-18\n",
      "original 30325.789063\n"
     ]
    }
   ],
   "source": [
    "record_count = size(data_predictions)[1]\n",
    "row = get(data_predictions, record_count-1)\n",
    "\n",
    "feature_number = row.count\n",
    "day = row[\"Rata_Die\"]\n",
    "date = row[\"Date\"] # \"2020-10-20\"\n",
    "original = row[\"DJIA_Original\"]\n",
    "\n",
    "println( \"record_count data \", record_count )\n",
    "println( \"record_count predictions \", size(predictions)[1] )\n",
    "\n",
    "println( \"feature_number \", feature_number )\n",
    "println( \"Rata Die \", day )\n",
    "println( \"date \", date )\n",
    "println( \"original \", original )"
   ]
  },
  {
   "cell_type": "code",
   "execution_count": 12,
   "metadata": {
    "ExecuteTime": {
     "end_time": "2020-12-14T19:59:37.968000-05:00",
     "start_time": "2020-12-15T00:59:20.661Z"
    }
   },
   "outputs": [
    {
     "name": "stdout",
     "output_type": "stream",
     "text": [
      "preditions set size: 94, step 5\n",
      "DJIA 94 Array{Date,1}\n",
      "t = Dec. 14, 2020 - String\n",
      "\n"
     ]
    }
   ],
   "source": [
    "using Dates\n",
    "today_rata = Dates.datetime2rata( today() )\n",
    "\n",
    "## Determine dataset size\n",
    "\n",
    "initio = 1                                              # latin: start\n",
    "finem  = size(predictions)[1] -1                        # latin: end\n",
    "gradus = convert(Int64, round( finem/20, digits=0)  )   # latin: step\n",
    "\n",
    "println(\"preditions set size: \", finem, \", step \", gradus)\n",
    "\n",
    "\n",
    "## Declare variables\n",
    "x_axis_dates      = Vector{Date}() # results in Array{Date,1}\n",
    "y_axis_original   = Vector{Float64}()\n",
    "y_axis_predicted  = Vector{Float64}()\n",
    "\n",
    "println(symbol_to_predict, \" \", finem, \" \", typeof(x_axis_dates))\n",
    "\n",
    "today_id  = 50 # not set yet\n",
    "\n",
    "## step thru each prediction\n",
    "for id in initio:finem\n",
    "    row = get(data_predictions, id) # get a dictionary of data from the SFrame\n",
    "    \n",
    "    date_string = row[\"Date\"] # e.g. \"2020-10-20\"\n",
    "    date = Date(date_string) # 2020-09-07 Date\n",
    "    if date == today()\n",
    "        today_id = id\n",
    "    end \n",
    "    #date = Dates.format(date, \"u.d,yy\" )\n",
    "    #println(\"date \", date, \" \", typeof(date))\n",
    "    push!(x_axis_dates, date)\n",
    "    \n",
    "    predicted = get(predictions, id) # Float64\n",
    "    predicted = round(predicted, digits=0)\n",
    "    #println(\"predicted \", predicted, \" \", typeof(predicted))\n",
    "    append!(y_axis_predicted, predicted)\n",
    "    \n",
    "    \n",
    "    original = row[ column_to_predict ]\n",
    "    original = round(original, digits=0) # Float64\n",
    "    #println(\"original \", original, \" \", typeof(original)) \n",
    "    append!(y_axis_original, original)\n",
    "end\n",
    "\n",
    "## Format Dates for plotting\n",
    "include(\"../Julia/function_format_dates.jl\")\n",
    "x_axis_dates = format_dates(x_axis_dates, \"u. d, yy \")\n",
    "\n",
    "\n",
    "\n",
    "t = today()# Date\n",
    "t = format_dates([t], \"u. d, yyyy\") # Array{String,1}\n",
    "t = t[1] # String\n",
    "println(\"t = \", t, \" - \", typeof(t))\n",
    "\n",
    "println()"
   ]
  },
  {
   "cell_type": "code",
   "execution_count": 13,
   "metadata": {
    "ExecuteTime": {
     "end_time": "2020-12-14T20:00:19.723000-05:00",
     "start_time": "2020-12-15T00:59:20.665Z"
    }
   },
   "outputs": [
    {
     "data": {
      "image/svg+xml": [
       "<?xml version=\"1.0\" encoding=\"utf-8\"?>\n",
       "<svg xmlns=\"http://www.w3.org/2000/svg\" xmlns:xlink=\"http://www.w3.org/1999/xlink\" width=\"980\" height=\"400\" viewBox=\"0 0 3920 1600\">\n",
       "<defs>\n",
       "  <clipPath id=\"clip5200\">\n",
       "    <rect x=\"0\" y=\"0\" width=\"3920\" height=\"1600\"/>\n",
       "  </clipPath>\n",
       "</defs>\n",
       "<path clip-path=\"url(#clip5200)\" d=\"\n",
       "M0 1600 L3920 1600 L3920 0 L0 0  Z\n",
       "  \" fill=\"#ffffff\" fill-rule=\"evenodd\" fill-opacity=\"1\"/>\n",
       "<defs>\n",
       "  <clipPath id=\"clip5201\">\n",
       "    <rect x=\"784\" y=\"0\" width=\"2745\" height=\"1600\"/>\n",
       "  </clipPath>\n",
       "</defs>\n",
       "<path clip-path=\"url(#clip5200)\" d=\"\n",
       "M281.07 1423.18 L3872.76 1423.18 L3872.76 47.2441 L281.07 47.2441  Z\n",
       "  \" fill=\"#ffffff\" fill-rule=\"evenodd\" fill-opacity=\"1\"/>\n",
       "<defs>\n",
       "  <clipPath id=\"clip5202\">\n",
       "    <rect x=\"281\" y=\"47\" width=\"3593\" height=\"1377\"/>\n",
       "  </clipPath>\n",
       "</defs>\n",
       "<polyline clip-path=\"url(#clip5202)\" style=\"stroke:#000000; stroke-width:2; stroke-opacity:0.1; fill:none\" points=\"\n",
       "  382.721,1423.18 382.721,47.2441 \n",
       "  \"/>\n",
       "<polyline clip-path=\"url(#clip5202)\" style=\"stroke:#000000; stroke-width:2; stroke-opacity:0.1; fill:none\" points=\"\n",
       "  637.761,1423.18 637.761,47.2441 \n",
       "  \"/>\n",
       "<polyline clip-path=\"url(#clip5202)\" style=\"stroke:#000000; stroke-width:2; stroke-opacity:0.1; fill:none\" points=\"\n",
       "  856.366,1423.18 856.366,47.2441 \n",
       "  \"/>\n",
       "<polyline clip-path=\"url(#clip5202)\" style=\"stroke:#000000; stroke-width:2; stroke-opacity:0.1; fill:none\" points=\"\n",
       "  1111.41,1423.18 1111.41,47.2441 \n",
       "  \"/>\n",
       "<polyline clip-path=\"url(#clip5202)\" style=\"stroke:#000000; stroke-width:2; stroke-opacity:0.1; fill:none\" points=\"\n",
       "  1366.45,1423.18 1366.45,47.2441 \n",
       "  \"/>\n",
       "<polyline clip-path=\"url(#clip5202)\" style=\"stroke:#000000; stroke-width:2; stroke-opacity:0.1; fill:none\" points=\"\n",
       "  1585.05,1423.18 1585.05,47.2441 \n",
       "  \"/>\n",
       "<polyline clip-path=\"url(#clip5202)\" style=\"stroke:#000000; stroke-width:2; stroke-opacity:0.1; fill:none\" points=\"\n",
       "  1840.09,1423.18 1840.09,47.2441 \n",
       "  \"/>\n",
       "<polyline clip-path=\"url(#clip5202)\" style=\"stroke:#000000; stroke-width:2; stroke-opacity:0.1; fill:none\" points=\"\n",
       "  2095.13,1423.18 2095.13,47.2441 \n",
       "  \"/>\n",
       "<polyline clip-path=\"url(#clip5202)\" style=\"stroke:#000000; stroke-width:2; stroke-opacity:0.1; fill:none\" points=\"\n",
       "  2313.74,1423.18 2313.74,47.2441 \n",
       "  \"/>\n",
       "<polyline clip-path=\"url(#clip5202)\" style=\"stroke:#000000; stroke-width:2; stroke-opacity:0.1; fill:none\" points=\"\n",
       "  2568.77,1423.18 2568.77,47.2441 \n",
       "  \"/>\n",
       "<polyline clip-path=\"url(#clip5202)\" style=\"stroke:#000000; stroke-width:2; stroke-opacity:0.1; fill:none\" points=\"\n",
       "  2787.38,1423.18 2787.38,47.2441 \n",
       "  \"/>\n",
       "<polyline clip-path=\"url(#clip5202)\" style=\"stroke:#000000; stroke-width:2; stroke-opacity:0.1; fill:none\" points=\"\n",
       "  3042.42,1423.18 3042.42,47.2441 \n",
       "  \"/>\n",
       "<polyline clip-path=\"url(#clip5202)\" style=\"stroke:#000000; stroke-width:2; stroke-opacity:0.1; fill:none\" points=\"\n",
       "  3297.46,1423.18 3297.46,47.2441 \n",
       "  \"/>\n",
       "<polyline clip-path=\"url(#clip5202)\" style=\"stroke:#000000; stroke-width:2; stroke-opacity:0.1; fill:none\" points=\"\n",
       "  3516.06,1423.18 3516.06,47.2441 \n",
       "  \"/>\n",
       "<polyline clip-path=\"url(#clip5202)\" style=\"stroke:#000000; stroke-width:2; stroke-opacity:0.1; fill:none\" points=\"\n",
       "  3771.1,1423.18 3771.1,47.2441 \n",
       "  \"/>\n",
       "<polyline clip-path=\"url(#clip5202)\" style=\"stroke:#000000; stroke-width:2; stroke-opacity:0.1; fill:none\" points=\"\n",
       "  281.07,1257.49 3872.76,1257.49 \n",
       "  \"/>\n",
       "<polyline clip-path=\"url(#clip5202)\" style=\"stroke:#000000; stroke-width:2; stroke-opacity:0.1; fill:none\" points=\"\n",
       "  281.07,906.378 3872.76,906.378 \n",
       "  \"/>\n",
       "<polyline clip-path=\"url(#clip5202)\" style=\"stroke:#000000; stroke-width:2; stroke-opacity:0.1; fill:none\" points=\"\n",
       "  281.07,555.268 3872.76,555.268 \n",
       "  \"/>\n",
       "<polyline clip-path=\"url(#clip5202)\" style=\"stroke:#000000; stroke-width:2; stroke-opacity:0.1; fill:none\" points=\"\n",
       "  281.07,204.159 3872.76,204.159 \n",
       "  \"/>\n",
       "<polyline clip-path=\"url(#clip5200)\" style=\"stroke:#000000; stroke-width:4; stroke-opacity:1; fill:none\" points=\"\n",
       "  281.07,1423.18 3872.76,1423.18 \n",
       "  \"/>\n",
       "<polyline clip-path=\"url(#clip5200)\" style=\"stroke:#000000; stroke-width:4; stroke-opacity:1; fill:none\" points=\"\n",
       "  281.07,1423.18 281.07,47.2441 \n",
       "  \"/>\n",
       "<polyline clip-path=\"url(#clip5200)\" style=\"stroke:#000000; stroke-width:4; stroke-opacity:1; fill:none\" points=\"\n",
       "  382.721,1423.18 382.721,1406.67 \n",
       "  \"/>\n",
       "<polyline clip-path=\"url(#clip5200)\" style=\"stroke:#000000; stroke-width:4; stroke-opacity:1; fill:none\" points=\"\n",
       "  637.761,1423.18 637.761,1406.67 \n",
       "  \"/>\n",
       "<polyline clip-path=\"url(#clip5200)\" style=\"stroke:#000000; stroke-width:4; stroke-opacity:1; fill:none\" points=\"\n",
       "  856.366,1423.18 856.366,1406.67 \n",
       "  \"/>\n",
       "<polyline clip-path=\"url(#clip5200)\" style=\"stroke:#000000; stroke-width:4; stroke-opacity:1; fill:none\" points=\"\n",
       "  1111.41,1423.18 1111.41,1406.67 \n",
       "  \"/>\n",
       "<polyline clip-path=\"url(#clip5200)\" style=\"stroke:#000000; stroke-width:4; stroke-opacity:1; fill:none\" points=\"\n",
       "  1366.45,1423.18 1366.45,1406.67 \n",
       "  \"/>\n",
       "<polyline clip-path=\"url(#clip5200)\" style=\"stroke:#000000; stroke-width:4; stroke-opacity:1; fill:none\" points=\"\n",
       "  1585.05,1423.18 1585.05,1406.67 \n",
       "  \"/>\n",
       "<polyline clip-path=\"url(#clip5200)\" style=\"stroke:#000000; stroke-width:4; stroke-opacity:1; fill:none\" points=\"\n",
       "  1840.09,1423.18 1840.09,1406.67 \n",
       "  \"/>\n",
       "<polyline clip-path=\"url(#clip5200)\" style=\"stroke:#000000; stroke-width:4; stroke-opacity:1; fill:none\" points=\"\n",
       "  2095.13,1423.18 2095.13,1406.67 \n",
       "  \"/>\n",
       "<polyline clip-path=\"url(#clip5200)\" style=\"stroke:#000000; stroke-width:4; stroke-opacity:1; fill:none\" points=\"\n",
       "  2313.74,1423.18 2313.74,1406.67 \n",
       "  \"/>\n",
       "<polyline clip-path=\"url(#clip5200)\" style=\"stroke:#000000; stroke-width:4; stroke-opacity:1; fill:none\" points=\"\n",
       "  2568.77,1423.18 2568.77,1406.67 \n",
       "  \"/>\n",
       "<polyline clip-path=\"url(#clip5200)\" style=\"stroke:#000000; stroke-width:4; stroke-opacity:1; fill:none\" points=\"\n",
       "  2787.38,1423.18 2787.38,1406.67 \n",
       "  \"/>\n",
       "<polyline clip-path=\"url(#clip5200)\" style=\"stroke:#000000; stroke-width:4; stroke-opacity:1; fill:none\" points=\"\n",
       "  3042.42,1423.18 3042.42,1406.67 \n",
       "  \"/>\n",
       "<polyline clip-path=\"url(#clip5200)\" style=\"stroke:#000000; stroke-width:4; stroke-opacity:1; fill:none\" points=\"\n",
       "  3297.46,1423.18 3297.46,1406.67 \n",
       "  \"/>\n",
       "<polyline clip-path=\"url(#clip5200)\" style=\"stroke:#000000; stroke-width:4; stroke-opacity:1; fill:none\" points=\"\n",
       "  3516.06,1423.18 3516.06,1406.67 \n",
       "  \"/>\n",
       "<polyline clip-path=\"url(#clip5200)\" style=\"stroke:#000000; stroke-width:4; stroke-opacity:1; fill:none\" points=\"\n",
       "  3771.1,1423.18 3771.1,1406.67 \n",
       "  \"/>\n",
       "<polyline clip-path=\"url(#clip5200)\" style=\"stroke:#000000; stroke-width:4; stroke-opacity:1; fill:none\" points=\"\n",
       "  281.07,1257.49 324.17,1257.49 \n",
       "  \"/>\n",
       "<polyline clip-path=\"url(#clip5200)\" style=\"stroke:#000000; stroke-width:4; stroke-opacity:1; fill:none\" points=\"\n",
       "  281.07,906.378 324.17,906.378 \n",
       "  \"/>\n",
       "<polyline clip-path=\"url(#clip5200)\" style=\"stroke:#000000; stroke-width:4; stroke-opacity:1; fill:none\" points=\"\n",
       "  281.07,555.268 324.17,555.268 \n",
       "  \"/>\n",
       "<polyline clip-path=\"url(#clip5200)\" style=\"stroke:#000000; stroke-width:4; stroke-opacity:1; fill:none\" points=\"\n",
       "  281.07,204.159 324.17,204.159 \n",
       "  \"/>\n",
       "<path clip-path=\"url(#clip5200)\" d=\"M 0 0 M280.233 1450.83 L280.233 1455.39 Q277.571 1454.11 275.21 1453.49 Q272.849 1452.86 270.65 1452.86 Q266.831 1452.86 264.747 1454.34 Q262.687 1455.83 262.687 1458.56 Q262.687 1460.85 264.053 1462.03 Q265.442 1463.19 269.284 1463.9 L272.108 1464.48 Q277.34 1465.48 279.817 1468 Q282.317 1470.5 282.317 1474.71 Q282.317 1479.74 278.937 1482.33 Q275.581 1484.92 269.076 1484.92 Q266.622 1484.92 263.844 1484.37 Q261.09 1483.81 258.127 1482.72 L258.127 1477.91 Q260.974 1479.51 263.706 1480.32 Q266.437 1481.13 269.076 1481.13 Q273.081 1481.13 275.256 1479.55 Q277.432 1477.98 277.432 1475.06 Q277.432 1472.52 275.858 1471.08 Q274.307 1469.65 270.743 1468.93 L267.895 1468.37 Q262.664 1467.33 260.326 1465.11 Q257.988 1462.89 257.988 1458.93 Q257.988 1454.34 261.206 1451.71 Q264.446 1449.07 270.118 1449.07 Q272.548 1449.07 275.071 1449.51 Q277.594 1449.95 280.233 1450.83 Z\" fill=\"#000000\" fill-rule=\"evenodd\" fill-opacity=\"1\" /><path clip-path=\"url(#clip5200)\" d=\"M 0 0 M308.96 1470.22 L308.96 1472.31 L289.377 1472.31 Q289.655 1476.71 292.016 1479.02 Q294.4 1481.31 298.636 1481.31 Q301.09 1481.31 303.381 1480.71 Q305.696 1480.11 307.965 1478.9 L307.965 1482.93 Q305.673 1483.9 303.266 1484.41 Q300.858 1484.92 298.381 1484.92 Q292.178 1484.92 288.543 1481.31 Q284.932 1477.7 284.932 1471.54 Q284.932 1465.18 288.358 1461.45 Q291.807 1457.7 297.641 1457.7 Q302.872 1457.7 305.904 1461.08 Q308.96 1464.44 308.96 1470.22 M304.701 1468.97 Q304.654 1465.48 302.733 1463.4 Q300.835 1461.31 297.687 1461.31 Q294.122 1461.31 291.969 1463.33 Q289.84 1465.34 289.516 1469 L304.701 1468.97 Z\" fill=\"#000000\" fill-rule=\"evenodd\" fill-opacity=\"1\" /><path clip-path=\"url(#clip5200)\" d=\"M 0 0 M317.548 1480.36 L317.548 1494.11 L313.265 1494.11 L313.265 1458.33 L317.548 1458.33 L317.548 1462.26 Q318.89 1459.95 320.927 1458.84 Q322.988 1457.7 325.835 1457.7 Q330.557 1457.7 333.497 1461.45 Q336.46 1465.2 336.46 1471.31 Q336.46 1477.42 333.497 1481.17 Q330.557 1484.92 325.835 1484.92 Q322.988 1484.92 320.927 1483.81 Q318.89 1482.68 317.548 1480.36 M332.039 1471.31 Q332.039 1466.61 330.094 1463.95 Q328.173 1461.27 324.793 1461.27 Q321.414 1461.27 319.469 1463.95 Q317.548 1466.61 317.548 1471.31 Q317.548 1476.01 319.469 1478.7 Q321.414 1481.36 324.793 1481.36 Q328.173 1481.36 330.094 1478.7 Q332.039 1476.01 332.039 1471.31 Z\" fill=\"#000000\" fill-rule=\"evenodd\" fill-opacity=\"1\" /><path clip-path=\"url(#clip5200)\" d=\"M 0 0 M341.529 1478.37 L346.413 1478.37 L346.413 1484.25 L341.529 1484.25 L341.529 1478.37 Z\" fill=\"#000000\" fill-rule=\"evenodd\" fill-opacity=\"1\" /><path clip-path=\"url(#clip5200)\" d=\"M 0 0 M367.362 1480.32 L375.001 1480.32 L375.001 1453.95 L366.691 1455.62 L366.691 1451.36 L374.955 1449.69 L379.631 1449.69 L379.631 1480.32 L387.27 1480.32 L387.27 1484.25 L367.362 1484.25 L367.362 1480.32 Z\" fill=\"#000000\" fill-rule=\"evenodd\" fill-opacity=\"1\" /><path clip-path=\"url(#clip5200)\" d=\"M 0 0 M402.918 1465.11 Q399.77 1465.11 397.918 1467.26 Q396.089 1469.41 396.089 1473.16 Q396.089 1476.89 397.918 1479.07 Q399.77 1481.22 402.918 1481.22 Q406.066 1481.22 407.895 1479.07 Q409.746 1476.89 409.746 1473.16 Q409.746 1469.41 407.895 1467.26 Q406.066 1465.11 402.918 1465.11 M412.2 1450.46 L412.2 1454.71 Q410.441 1453.88 408.635 1453.44 Q406.853 1453 405.094 1453 Q400.464 1453 398.01 1456.13 Q395.58 1459.25 395.233 1465.57 Q396.598 1463.56 398.659 1462.49 Q400.719 1461.4 403.196 1461.4 Q408.404 1461.4 411.413 1464.58 Q414.446 1467.72 414.446 1473.16 Q414.446 1478.49 411.297 1481.71 Q408.149 1484.92 402.918 1484.92 Q396.922 1484.92 393.751 1480.34 Q390.58 1475.73 390.58 1467.01 Q390.58 1458.81 394.469 1453.95 Q398.358 1449.07 404.909 1449.07 Q406.668 1449.07 408.45 1449.41 Q410.256 1449.76 412.2 1450.46 Z\" fill=\"#000000\" fill-rule=\"evenodd\" fill-opacity=\"1\" /><path clip-path=\"url(#clip5200)\" d=\"M 0 0 M420.001 1478.37 L424.885 1478.37 L424.885 1482.35 L421.089 1489.76 L418.103 1489.76 L420.001 1482.35 L420.001 1478.37 Z\" fill=\"#000000\" fill-rule=\"evenodd\" fill-opacity=\"1\" /><path clip-path=\"url(#clip5200)\" d=\"M 0 0 M449.052 1480.32 L465.371 1480.32 L465.371 1484.25 L443.427 1484.25 L443.427 1480.32 Q446.089 1477.56 450.672 1472.93 Q455.279 1468.28 456.459 1466.94 Q458.705 1464.41 459.584 1462.68 Q460.487 1460.92 460.487 1459.23 Q460.487 1456.47 458.542 1454.74 Q456.621 1453 453.519 1453 Q451.32 1453 448.867 1453.77 Q446.436 1454.53 443.658 1456.08 L443.658 1451.36 Q446.482 1450.22 448.936 1449.65 Q451.39 1449.07 453.427 1449.07 Q458.797 1449.07 461.992 1451.75 Q465.186 1454.44 465.186 1458.93 Q465.186 1461.06 464.376 1462.98 Q463.589 1464.88 461.482 1467.47 Q460.904 1468.14 457.802 1471.36 Q454.7 1474.55 449.052 1480.32 Z\" fill=\"#000000\" fill-rule=\"evenodd\" fill-opacity=\"1\" /><path clip-path=\"url(#clip5200)\" d=\"M 0 0 M480.441 1452.77 Q476.829 1452.77 475.001 1456.34 Q473.195 1459.88 473.195 1467.01 Q473.195 1474.11 475.001 1477.68 Q476.829 1481.22 480.441 1481.22 Q484.075 1481.22 485.88 1477.68 Q487.709 1474.11 487.709 1467.01 Q487.709 1459.88 485.88 1456.34 Q484.075 1452.77 480.441 1452.77 M480.441 1449.07 Q486.251 1449.07 489.306 1453.67 Q492.385 1458.26 492.385 1467.01 Q492.385 1475.73 489.306 1480.34 Q486.251 1484.92 480.441 1484.92 Q474.63 1484.92 471.552 1480.34 Q468.496 1475.73 468.496 1467.01 Q468.496 1458.26 471.552 1453.67 Q474.63 1449.07 480.441 1449.07 Z\" fill=\"#000000\" fill-rule=\"evenodd\" fill-opacity=\"1\" /><path clip-path=\"url(#clip5200)\" d=\"M 0 0 M535.863 1450.83 L535.863 1455.39 Q533.201 1454.11 530.84 1453.49 Q528.479 1452.86 526.28 1452.86 Q522.46 1452.86 520.377 1454.34 Q518.317 1455.83 518.317 1458.56 Q518.317 1460.85 519.683 1462.03 Q521.072 1463.19 524.914 1463.9 L527.738 1464.48 Q532.97 1465.48 535.446 1468 Q537.946 1470.5 537.946 1474.71 Q537.946 1479.74 534.567 1482.33 Q531.21 1484.92 524.706 1484.92 Q522.252 1484.92 519.474 1484.37 Q516.72 1483.81 513.757 1482.72 L513.757 1477.91 Q516.604 1479.51 519.335 1480.32 Q522.067 1481.13 524.706 1481.13 Q528.71 1481.13 530.886 1479.55 Q533.062 1477.98 533.062 1475.06 Q533.062 1472.52 531.488 1471.08 Q529.937 1469.65 526.372 1468.93 L523.525 1468.37 Q518.294 1467.33 515.956 1465.11 Q513.618 1462.89 513.618 1458.93 Q513.618 1454.34 516.835 1451.71 Q520.076 1449.07 525.747 1449.07 Q528.178 1449.07 530.701 1449.51 Q533.224 1449.95 535.863 1450.83 Z\" fill=\"#000000\" fill-rule=\"evenodd\" fill-opacity=\"1\" /><path clip-path=\"url(#clip5200)\" d=\"M 0 0 M564.59 1470.22 L564.59 1472.31 L545.007 1472.31 Q545.284 1476.71 547.645 1479.02 Q550.03 1481.31 554.266 1481.31 Q556.72 1481.31 559.011 1480.71 Q561.326 1480.11 563.594 1478.9 L563.594 1482.93 Q561.303 1483.9 558.895 1484.41 Q556.488 1484.92 554.011 1484.92 Q547.808 1484.92 544.173 1481.31 Q540.562 1477.7 540.562 1471.54 Q540.562 1465.18 543.988 1461.45 Q547.437 1457.7 553.27 1457.7 Q558.502 1457.7 561.534 1461.08 Q564.59 1464.44 564.59 1470.22 M560.331 1468.97 Q560.284 1465.48 558.363 1463.4 Q556.465 1461.31 553.317 1461.31 Q549.752 1461.31 547.599 1463.33 Q545.47 1465.34 545.145 1469 L560.331 1468.97 Z\" fill=\"#000000\" fill-rule=\"evenodd\" fill-opacity=\"1\" /><path clip-path=\"url(#clip5200)\" d=\"M 0 0 M573.178 1480.36 L573.178 1494.11 L568.895 1494.11 L568.895 1458.33 L573.178 1458.33 L573.178 1462.26 Q574.52 1459.95 576.557 1458.84 Q578.618 1457.7 581.465 1457.7 Q586.187 1457.7 589.127 1461.45 Q592.09 1465.2 592.09 1471.31 Q592.09 1477.42 589.127 1481.17 Q586.187 1484.92 581.465 1484.92 Q578.618 1484.92 576.557 1483.81 Q574.52 1482.68 573.178 1480.36 M587.668 1471.31 Q587.668 1466.61 585.724 1463.95 Q583.803 1461.27 580.423 1461.27 Q577.043 1461.27 575.099 1463.95 Q573.178 1466.61 573.178 1471.31 Q573.178 1476.01 575.099 1478.7 Q577.043 1481.36 580.423 1481.36 Q583.803 1481.36 585.724 1478.7 Q587.668 1476.01 587.668 1471.31 Z\" fill=\"#000000\" fill-rule=\"evenodd\" fill-opacity=\"1\" /><path clip-path=\"url(#clip5200)\" d=\"M 0 0 M597.159 1478.37 L602.043 1478.37 L602.043 1484.25 L597.159 1484.25 L597.159 1478.37 Z\" fill=\"#000000\" fill-rule=\"evenodd\" fill-opacity=\"1\" /><path clip-path=\"url(#clip5200)\" d=\"M 0 0 M626.21 1480.32 L642.529 1480.32 L642.529 1484.25 L620.585 1484.25 L620.585 1480.32 Q623.247 1477.56 627.83 1472.93 Q632.437 1468.28 633.617 1466.94 Q635.863 1464.41 636.742 1462.68 Q637.645 1460.92 637.645 1459.23 Q637.645 1456.47 635.701 1454.74 Q633.779 1453 630.677 1453 Q628.478 1453 626.025 1453.77 Q623.594 1454.53 620.816 1456.08 L620.816 1451.36 Q623.64 1450.22 626.094 1449.65 Q628.548 1449.07 630.585 1449.07 Q635.955 1449.07 639.15 1451.75 Q642.344 1454.44 642.344 1458.93 Q642.344 1461.06 641.534 1462.98 Q640.747 1464.88 638.64 1467.47 Q638.062 1468.14 634.96 1471.36 Q631.858 1474.55 626.21 1480.32 Z\" fill=\"#000000\" fill-rule=\"evenodd\" fill-opacity=\"1\" /><path clip-path=\"url(#clip5200)\" d=\"M 0 0 M661.765 1465.62 Q665.122 1466.34 666.997 1468.6 Q668.895 1470.87 668.895 1474.21 Q668.895 1479.32 665.376 1482.12 Q661.858 1484.92 655.376 1484.92 Q653.2 1484.92 650.886 1484.48 Q648.594 1484.07 646.14 1483.21 L646.14 1478.7 Q648.085 1479.83 650.4 1480.41 Q652.714 1480.99 655.237 1480.99 Q659.636 1480.99 661.927 1479.25 Q664.242 1477.52 664.242 1474.21 Q664.242 1471.15 662.089 1469.44 Q659.96 1467.7 656.14 1467.7 L652.113 1467.7 L652.113 1463.86 L656.325 1463.86 Q659.775 1463.86 661.603 1462.49 Q663.432 1461.1 663.432 1458.51 Q663.432 1455.85 661.534 1454.44 Q659.659 1453 656.14 1453 Q654.219 1453 652.02 1453.42 Q649.821 1453.84 647.182 1454.71 L647.182 1450.55 Q649.844 1449.81 652.159 1449.44 Q654.497 1449.07 656.557 1449.07 Q661.881 1449.07 664.983 1451.5 Q668.085 1453.9 668.085 1458.03 Q668.085 1460.9 666.441 1462.89 Q664.798 1464.85 661.765 1465.62 Z\" fill=\"#000000\" fill-rule=\"evenodd\" fill-opacity=\"1\" /><path clip-path=\"url(#clip5200)\" d=\"M 0 0 M674.45 1478.37 L679.335 1478.37 L679.335 1482.35 L675.538 1489.76 L672.552 1489.76 L674.45 1482.35 L674.45 1478.37 Z\" fill=\"#000000\" fill-rule=\"evenodd\" fill-opacity=\"1\" /><path clip-path=\"url(#clip5200)\" d=\"M 0 0 M703.501 1480.32 L719.82 1480.32 L719.82 1484.25 L697.876 1484.25 L697.876 1480.32 Q700.538 1477.56 705.121 1472.93 Q709.728 1468.28 710.908 1466.94 Q713.154 1464.41 714.033 1462.68 Q714.936 1460.92 714.936 1459.23 Q714.936 1456.47 712.992 1454.74 Q711.071 1453 707.969 1453 Q705.77 1453 703.316 1453.77 Q700.885 1454.53 698.108 1456.08 L698.108 1451.36 Q700.932 1450.22 703.385 1449.65 Q705.839 1449.07 707.876 1449.07 Q713.246 1449.07 716.441 1451.75 Q719.635 1454.44 719.635 1458.93 Q719.635 1461.06 718.825 1462.98 Q718.038 1464.88 715.932 1467.47 Q715.353 1468.14 712.251 1471.36 Q709.149 1474.55 703.501 1480.32 Z\" fill=\"#000000\" fill-rule=\"evenodd\" fill-opacity=\"1\" /><path clip-path=\"url(#clip5200)\" d=\"M 0 0 M734.89 1452.77 Q731.279 1452.77 729.45 1456.34 Q727.645 1459.88 727.645 1467.01 Q727.645 1474.11 729.45 1477.68 Q731.279 1481.22 734.89 1481.22 Q738.524 1481.22 740.33 1477.68 Q742.158 1474.11 742.158 1467.01 Q742.158 1459.88 740.33 1456.34 Q738.524 1452.77 734.89 1452.77 M734.89 1449.07 Q740.7 1449.07 743.756 1453.67 Q746.834 1458.26 746.834 1467.01 Q746.834 1475.73 743.756 1480.34 Q740.7 1484.92 734.89 1484.92 Q729.08 1484.92 726.001 1480.34 Q722.945 1475.73 722.945 1467.01 Q722.945 1458.26 726.001 1453.67 Q729.08 1449.07 734.89 1449.07 Z\" fill=\"#000000\" fill-rule=\"evenodd\" fill-opacity=\"1\" /><path clip-path=\"url(#clip5200)\" d=\"M 0 0 M754.237 1450.83 L754.237 1455.39 Q751.575 1454.11 749.214 1453.49 Q746.853 1452.86 744.654 1452.86 Q740.834 1452.86 738.751 1454.34 Q736.691 1455.83 736.691 1458.56 Q736.691 1460.85 738.057 1462.03 Q739.445 1463.19 743.288 1463.9 L746.112 1464.48 Q751.344 1465.48 753.82 1468 Q756.32 1470.5 756.32 1474.71 Q756.32 1479.74 752.941 1482.33 Q749.584 1484.92 743.08 1484.92 Q740.626 1484.92 737.848 1484.37 Q735.094 1483.81 732.131 1482.72 L732.131 1477.91 Q734.978 1479.51 737.709 1480.32 Q740.441 1481.13 743.08 1481.13 Q747.084 1481.13 749.26 1479.55 Q751.436 1477.98 751.436 1475.06 Q751.436 1472.52 749.862 1471.08 Q748.311 1469.65 744.746 1468.93 L741.899 1468.37 Q736.668 1467.33 734.33 1465.11 Q731.992 1462.89 731.992 1458.93 Q731.992 1454.34 735.209 1451.71 Q738.45 1449.07 744.121 1449.07 Q746.552 1449.07 749.075 1449.51 Q751.598 1449.95 754.237 1450.83 Z\" fill=\"#000000\" fill-rule=\"evenodd\" fill-opacity=\"1\" /><path clip-path=\"url(#clip5200)\" d=\"M 0 0 M782.964 1470.22 L782.964 1472.31 L763.38 1472.31 Q763.658 1476.71 766.019 1479.02 Q768.404 1481.31 772.64 1481.31 Q775.093 1481.31 777.385 1480.71 Q779.7 1480.11 781.968 1478.9 L781.968 1482.93 Q779.677 1483.9 777.269 1484.41 Q774.862 1484.92 772.385 1484.92 Q766.181 1484.92 762.547 1481.31 Q758.936 1477.7 758.936 1471.54 Q758.936 1465.18 762.362 1461.45 Q765.811 1457.7 771.644 1457.7 Q776.876 1457.7 779.908 1461.08 Q782.964 1464.44 782.964 1470.22 M778.704 1468.97 Q778.658 1465.48 776.737 1463.4 Q774.839 1461.31 771.691 1461.31 Q768.126 1461.31 765.973 1463.33 Q763.843 1465.34 763.519 1469 L778.704 1468.97 Z\" fill=\"#000000\" fill-rule=\"evenodd\" fill-opacity=\"1\" /><path clip-path=\"url(#clip5200)\" d=\"M 0 0 M791.552 1480.36 L791.552 1494.11 L787.269 1494.11 L787.269 1458.33 L791.552 1458.33 L791.552 1462.26 Q792.894 1459.95 794.931 1458.84 Q796.991 1457.7 799.839 1457.7 Q804.561 1457.7 807.501 1461.45 Q810.464 1465.2 810.464 1471.31 Q810.464 1477.42 807.501 1481.17 Q804.561 1484.92 799.839 1484.92 Q796.991 1484.92 794.931 1483.81 Q792.894 1482.68 791.552 1480.36 M806.042 1471.31 Q806.042 1466.61 804.098 1463.95 Q802.177 1461.27 798.797 1461.27 Q795.417 1461.27 793.473 1463.95 Q791.552 1466.61 791.552 1471.31 Q791.552 1476.01 793.473 1478.7 Q795.417 1481.36 798.797 1481.36 Q802.177 1481.36 804.098 1478.7 Q806.042 1476.01 806.042 1471.31 Z\" fill=\"#000000\" fill-rule=\"evenodd\" fill-opacity=\"1\" /><path clip-path=\"url(#clip5200)\" d=\"M 0 0 M815.533 1478.37 L820.417 1478.37 L820.417 1484.25 L815.533 1484.25 L815.533 1478.37 Z\" fill=\"#000000\" fill-rule=\"evenodd\" fill-opacity=\"1\" /><path clip-path=\"url(#clip5200)\" d=\"M 0 0 M844.584 1480.32 L860.903 1480.32 L860.903 1484.25 L838.959 1484.25 L838.959 1480.32 Q841.621 1477.56 846.204 1472.93 Q850.811 1468.28 851.991 1466.94 Q854.236 1464.41 855.116 1462.68 Q856.019 1460.92 856.019 1459.23 Q856.019 1456.47 854.074 1454.74 Q852.153 1453 849.051 1453 Q846.852 1453 844.399 1453.77 Q841.968 1454.53 839.19 1456.08 L839.19 1451.36 Q842.014 1450.22 844.468 1449.65 Q846.922 1449.07 848.959 1449.07 Q854.329 1449.07 857.524 1451.75 Q860.718 1454.44 860.718 1458.93 Q860.718 1461.06 859.908 1462.98 Q859.121 1464.88 857.014 1467.47 Q856.436 1468.14 853.334 1471.36 Q850.232 1474.55 844.584 1480.32 Z\" fill=\"#000000\" fill-rule=\"evenodd\" fill-opacity=\"1\" /><path clip-path=\"url(#clip5200)\" d=\"M 0 0 M866.111 1483.53 L866.111 1479.28 Q867.871 1480.11 869.676 1480.55 Q871.482 1480.99 873.218 1480.99 Q877.847 1480.99 880.278 1477.89 Q882.732 1474.76 883.079 1468.42 Q881.736 1470.41 879.676 1471.47 Q877.616 1472.54 875.116 1472.54 Q869.931 1472.54 866.898 1469.41 Q863.889 1466.27 863.889 1460.83 Q863.889 1455.5 867.037 1452.28 Q870.185 1449.07 875.417 1449.07 Q881.412 1449.07 884.56 1453.67 Q887.732 1458.26 887.732 1467.01 Q887.732 1475.18 883.843 1480.06 Q879.977 1484.92 873.426 1484.92 Q871.667 1484.92 869.861 1484.58 Q868.056 1484.23 866.111 1483.53 M875.417 1468.88 Q878.565 1468.88 880.394 1466.73 Q882.246 1464.58 882.246 1460.83 Q882.246 1457.1 880.394 1454.95 Q878.565 1452.77 875.417 1452.77 Q872.269 1452.77 870.417 1454.95 Q868.588 1457.1 868.588 1460.83 Q868.588 1464.58 870.417 1466.73 Q872.269 1468.88 875.417 1468.88 Z\" fill=\"#000000\" fill-rule=\"evenodd\" fill-opacity=\"1\" /><path clip-path=\"url(#clip5200)\" d=\"M 0 0 M893.287 1478.37 L898.171 1478.37 L898.171 1482.35 L894.375 1489.76 L891.389 1489.76 L893.287 1482.35 L893.287 1478.37 Z\" fill=\"#000000\" fill-rule=\"evenodd\" fill-opacity=\"1\" /><path clip-path=\"url(#clip5200)\" d=\"M 0 0 M922.338 1480.32 L938.657 1480.32 L938.657 1484.25 L916.713 1484.25 L916.713 1480.32 Q919.375 1477.56 923.958 1472.93 Q928.565 1468.28 929.745 1466.94 Q931.991 1464.41 932.87 1462.68 Q933.773 1460.92 933.773 1459.23 Q933.773 1456.47 931.829 1454.74 Q929.907 1453 926.806 1453 Q924.606 1453 922.153 1453.77 Q919.722 1454.53 916.944 1456.08 L916.944 1451.36 Q919.769 1450.22 922.222 1449.65 Q924.676 1449.07 926.713 1449.07 Q932.083 1449.07 935.278 1451.75 Q938.472 1454.44 938.472 1458.93 Q938.472 1461.06 937.662 1462.98 Q936.875 1464.88 934.768 1467.47 Q934.19 1468.14 931.088 1471.36 Q927.986 1474.55 922.338 1480.32 Z\" fill=\"#000000\" fill-rule=\"evenodd\" fill-opacity=\"1\" /><path clip-path=\"url(#clip5200)\" d=\"M 0 0 M953.727 1452.77 Q950.116 1452.77 948.287 1456.34 Q946.481 1459.88 946.481 1467.01 Q946.481 1474.11 948.287 1477.68 Q950.116 1481.22 953.727 1481.22 Q957.361 1481.22 959.166 1477.68 Q960.995 1474.11 960.995 1467.01 Q960.995 1459.88 959.166 1456.34 Q957.361 1452.77 953.727 1452.77 M953.727 1449.07 Q959.537 1449.07 962.592 1453.67 Q965.671 1458.26 965.671 1467.01 Q965.671 1475.73 962.592 1480.34 Q959.537 1484.92 953.727 1484.92 Q947.917 1484.92 944.838 1480.34 Q941.782 1475.73 941.782 1467.01 Q941.782 1458.26 944.838 1453.67 Q947.917 1449.07 953.727 1449.07 Z\" fill=\"#000000\" fill-rule=\"evenodd\" fill-opacity=\"1\" /><path clip-path=\"url(#clip5200)\" d=\"M 0 0 M1018.54 1452.86 Q1013.44 1452.86 1010.43 1456.66 Q1007.45 1460.46 1007.45 1467.01 Q1007.45 1473.53 1010.43 1477.33 Q1013.44 1481.13 1018.54 1481.13 Q1023.63 1481.13 1026.59 1477.33 Q1029.58 1473.53 1029.58 1467.01 Q1029.58 1460.46 1026.59 1456.66 Q1023.63 1452.86 1018.54 1452.86 M1018.54 1449.07 Q1025.8 1449.07 1030.16 1453.95 Q1034.51 1458.81 1034.51 1467.01 Q1034.51 1475.18 1030.16 1480.06 Q1025.8 1484.92 1018.54 1484.92 Q1011.24 1484.92 1006.87 1480.06 Q1002.52 1475.2 1002.52 1467.01 Q1002.52 1458.81 1006.87 1453.95 Q1011.24 1449.07 1018.54 1449.07 Z\" fill=\"#000000\" fill-rule=\"evenodd\" fill-opacity=\"1\" /><path clip-path=\"url(#clip5200)\" d=\"M 0 0 M1057.63 1459.32 L1057.63 1463.3 Q1055.83 1462.31 1054 1461.82 Q1052.19 1461.31 1050.34 1461.31 Q1046.2 1461.31 1043.91 1463.95 Q1041.61 1466.57 1041.61 1471.31 Q1041.61 1476.06 1043.91 1478.7 Q1046.2 1481.31 1050.34 1481.31 Q1052.19 1481.31 1054 1480.83 Q1055.83 1480.32 1057.63 1479.32 L1057.63 1483.26 Q1055.85 1484.09 1053.93 1484.51 Q1052.03 1484.92 1049.88 1484.92 Q1044.02 1484.92 1040.57 1481.24 Q1037.12 1477.56 1037.12 1471.31 Q1037.12 1464.97 1040.6 1461.34 Q1044.09 1457.7 1050.16 1457.7 Q1052.12 1457.7 1054 1458.12 Q1055.87 1458.51 1057.63 1459.32 Z\" fill=\"#000000\" fill-rule=\"evenodd\" fill-opacity=\"1\" /><path clip-path=\"url(#clip5200)\" d=\"M 0 0 M1066.31 1450.96 L1066.31 1458.33 L1075.09 1458.33 L1075.09 1461.64 L1066.31 1461.64 L1066.31 1475.71 Q1066.31 1478.88 1067.17 1479.78 Q1068.05 1480.69 1070.71 1480.69 L1075.09 1480.69 L1075.09 1484.25 L1070.71 1484.25 Q1065.78 1484.25 1063.91 1482.42 Q1062.03 1480.57 1062.03 1475.71 L1062.03 1461.64 L1058.91 1461.64 L1058.91 1458.33 L1062.03 1458.33 L1062.03 1450.96 L1066.31 1450.96 Z\" fill=\"#000000\" fill-rule=\"evenodd\" fill-opacity=\"1\" /><path clip-path=\"url(#clip5200)\" d=\"M 0 0 M1080.16 1478.37 L1085.04 1478.37 L1085.04 1484.25 L1080.16 1484.25 L1080.16 1478.37 Z\" fill=\"#000000\" fill-rule=\"evenodd\" fill-opacity=\"1\" /><path clip-path=\"url(#clip5200)\" d=\"M 0 0 M1115.76 1465.11 Q1112.61 1465.11 1110.76 1467.26 Q1108.93 1469.41 1108.93 1473.16 Q1108.93 1476.89 1110.76 1479.07 Q1112.61 1481.22 1115.76 1481.22 Q1118.91 1481.22 1120.73 1479.07 Q1122.59 1476.89 1122.59 1473.16 Q1122.59 1469.41 1120.73 1467.26 Q1118.91 1465.11 1115.76 1465.11 M1125.04 1450.46 L1125.04 1454.71 Q1123.28 1453.88 1121.48 1453.44 Q1119.69 1453 1117.93 1453 Q1113.3 1453 1110.85 1456.13 Q1108.42 1459.25 1108.07 1465.57 Q1109.44 1463.56 1111.5 1462.49 Q1113.56 1461.4 1116.04 1461.4 Q1121.24 1461.4 1124.25 1464.58 Q1127.29 1467.72 1127.29 1473.16 Q1127.29 1478.49 1124.14 1481.71 Q1120.99 1484.92 1115.76 1484.92 Q1109.76 1484.92 1106.59 1480.34 Q1103.42 1475.73 1103.42 1467.01 Q1103.42 1458.81 1107.31 1453.95 Q1111.2 1449.07 1117.75 1449.07 Q1119.51 1449.07 1121.29 1449.41 Q1123.1 1449.76 1125.04 1450.46 Z\" fill=\"#000000\" fill-rule=\"evenodd\" fill-opacity=\"1\" /><path clip-path=\"url(#clip5200)\" d=\"M 0 0 M1132.84 1478.37 L1137.73 1478.37 L1137.73 1482.35 L1133.93 1489.76 L1130.94 1489.76 L1132.84 1482.35 L1132.84 1478.37 Z\" fill=\"#000000\" fill-rule=\"evenodd\" fill-opacity=\"1\" /><path clip-path=\"url(#clip5200)\" d=\"M 0 0 M1161.89 1480.32 L1178.21 1480.32 L1178.21 1484.25 L1156.27 1484.25 L1156.27 1480.32 Q1158.93 1477.56 1163.51 1472.93 Q1168.12 1468.28 1169.3 1466.94 Q1171.54 1464.41 1172.42 1462.68 Q1173.33 1460.92 1173.33 1459.23 Q1173.33 1456.47 1171.38 1454.74 Q1169.46 1453 1166.36 1453 Q1164.16 1453 1161.71 1453.77 Q1159.28 1454.53 1156.5 1456.08 L1156.5 1451.36 Q1159.32 1450.22 1161.78 1449.65 Q1164.23 1449.07 1166.27 1449.07 Q1171.64 1449.07 1174.83 1451.75 Q1178.03 1454.44 1178.03 1458.93 Q1178.03 1461.06 1177.22 1462.98 Q1176.43 1464.88 1174.32 1467.47 Q1173.74 1468.14 1170.64 1471.36 Q1167.54 1474.55 1161.89 1480.32 Z\" fill=\"#000000\" fill-rule=\"evenodd\" fill-opacity=\"1\" /><path clip-path=\"url(#clip5200)\" d=\"M 0 0 M1193.28 1452.77 Q1189.67 1452.77 1187.84 1456.34 Q1186.03 1459.88 1186.03 1467.01 Q1186.03 1474.11 1187.84 1477.68 Q1189.67 1481.22 1193.28 1481.22 Q1196.91 1481.22 1198.72 1477.68 Q1200.55 1474.11 1200.55 1467.01 Q1200.55 1459.88 1198.72 1456.34 Q1196.91 1452.77 1193.28 1452.77 M1193.28 1449.07 Q1199.09 1449.07 1202.15 1453.67 Q1205.22 1458.26 1205.22 1467.01 Q1205.22 1475.73 1202.15 1480.34 Q1199.09 1484.92 1193.28 1484.92 Q1187.47 1484.92 1184.39 1480.34 Q1181.34 1475.73 1181.34 1467.01 Q1181.34 1458.26 1184.39 1453.67 Q1187.47 1449.07 1193.28 1449.07 Z\" fill=\"#000000\" fill-rule=\"evenodd\" fill-opacity=\"1\" /><path clip-path=\"url(#clip5200)\" d=\"M 0 0 M1261.09 1452.86 Q1255.99 1452.86 1252.99 1456.66 Q1250 1460.46 1250 1467.01 Q1250 1473.53 1252.99 1477.33 Q1255.99 1481.13 1261.09 1481.13 Q1266.18 1481.13 1269.14 1477.33 Q1272.13 1473.53 1272.13 1467.01 Q1272.13 1460.46 1269.14 1456.66 Q1266.18 1452.86 1261.09 1452.86 M1261.09 1449.07 Q1268.36 1449.07 1272.71 1453.95 Q1277.06 1458.81 1277.06 1467.01 Q1277.06 1475.18 1272.71 1480.06 Q1268.36 1484.92 1261.09 1484.92 Q1253.8 1484.92 1249.42 1480.06 Q1245.07 1475.2 1245.07 1467.01 Q1245.07 1458.81 1249.42 1453.95 Q1253.8 1449.07 1261.09 1449.07 Z\" fill=\"#000000\" fill-rule=\"evenodd\" fill-opacity=\"1\" /><path clip-path=\"url(#clip5200)\" d=\"M 0 0 M1300.18 1459.32 L1300.18 1463.3 Q1298.38 1462.31 1296.55 1461.82 Q1294.74 1461.31 1292.89 1461.31 Q1288.75 1461.31 1286.46 1463.95 Q1284.17 1466.57 1284.17 1471.31 Q1284.17 1476.06 1286.46 1478.7 Q1288.75 1481.31 1292.89 1481.31 Q1294.74 1481.31 1296.55 1480.83 Q1298.38 1480.32 1300.18 1479.32 L1300.18 1483.26 Q1298.4 1484.09 1296.48 1484.51 Q1294.58 1484.92 1292.43 1484.92 Q1286.57 1484.92 1283.12 1481.24 Q1279.67 1477.56 1279.67 1471.31 Q1279.67 1464.97 1283.15 1461.34 Q1286.64 1457.7 1292.71 1457.7 Q1294.67 1457.7 1296.55 1458.12 Q1298.42 1458.51 1300.18 1459.32 Z\" fill=\"#000000\" fill-rule=\"evenodd\" fill-opacity=\"1\" /><path clip-path=\"url(#clip5200)\" d=\"M 0 0 M1308.86 1450.96 L1308.86 1458.33 L1317.64 1458.33 L1317.64 1461.64 L1308.86 1461.64 L1308.86 1475.71 Q1308.86 1478.88 1309.72 1479.78 Q1310.6 1480.69 1313.26 1480.69 L1317.64 1480.69 L1317.64 1484.25 L1313.26 1484.25 Q1308.33 1484.25 1306.46 1482.42 Q1304.58 1480.57 1304.58 1475.71 L1304.58 1461.64 L1301.46 1461.64 L1301.46 1458.33 L1304.58 1458.33 L1304.58 1450.96 L1308.86 1450.96 Z\" fill=\"#000000\" fill-rule=\"evenodd\" fill-opacity=\"1\" /><path clip-path=\"url(#clip5200)\" d=\"M 0 0 M1322.71 1478.37 L1327.59 1478.37 L1327.59 1484.25 L1322.71 1484.25 L1322.71 1478.37 Z\" fill=\"#000000\" fill-rule=\"evenodd\" fill-opacity=\"1\" /><path clip-path=\"url(#clip5200)\" d=\"M 0 0 M1348.54 1480.32 L1356.18 1480.32 L1356.18 1453.95 L1347.87 1455.62 L1347.87 1451.36 L1356.13 1449.69 L1360.81 1449.69 L1360.81 1480.32 L1368.45 1480.32 L1368.45 1484.25 L1348.54 1484.25 L1348.54 1480.32 Z\" fill=\"#000000\" fill-rule=\"evenodd\" fill-opacity=\"1\" /><path clip-path=\"url(#clip5200)\" d=\"M 0 0 M1387.68 1465.62 Q1391.04 1466.34 1392.92 1468.6 Q1394.81 1470.87 1394.81 1474.21 Q1394.81 1479.32 1391.29 1482.12 Q1387.78 1484.92 1381.29 1484.92 Q1379.12 1484.92 1376.8 1484.48 Q1374.51 1484.07 1372.06 1483.21 L1372.06 1478.7 Q1374 1479.83 1376.32 1480.41 Q1378.63 1480.99 1381.16 1480.99 Q1385.55 1480.99 1387.85 1479.25 Q1390.16 1477.52 1390.16 1474.21 Q1390.16 1471.15 1388.01 1469.44 Q1385.88 1467.7 1382.06 1467.7 L1378.03 1467.7 L1378.03 1463.86 L1382.24 1463.86 Q1385.69 1463.86 1387.52 1462.49 Q1389.35 1461.1 1389.35 1458.51 Q1389.35 1455.85 1387.45 1454.44 Q1385.58 1453 1382.06 1453 Q1380.14 1453 1377.94 1453.42 Q1375.74 1453.84 1373.1 1454.71 L1373.1 1450.55 Q1375.76 1449.81 1378.08 1449.44 Q1380.42 1449.07 1382.48 1449.07 Q1387.8 1449.07 1390.9 1451.5 Q1394 1453.9 1394 1458.03 Q1394 1460.9 1392.36 1462.89 Q1390.72 1464.85 1387.68 1465.62 Z\" fill=\"#000000\" fill-rule=\"evenodd\" fill-opacity=\"1\" /><path clip-path=\"url(#clip5200)\" d=\"M 0 0 M1400.37 1478.37 L1405.25 1478.37 L1405.25 1482.35 L1401.46 1489.76 L1398.47 1489.76 L1400.37 1482.35 L1400.37 1478.37 Z\" fill=\"#000000\" fill-rule=\"evenodd\" fill-opacity=\"1\" /><path clip-path=\"url(#clip5200)\" d=\"M 0 0 M1429.42 1480.32 L1445.74 1480.32 L1445.74 1484.25 L1423.79 1484.25 L1423.79 1480.32 Q1426.46 1477.56 1431.04 1472.93 Q1435.65 1468.28 1436.83 1466.94 Q1439.07 1464.41 1439.95 1462.68 Q1440.85 1460.92 1440.85 1459.23 Q1440.85 1456.47 1438.91 1454.74 Q1436.99 1453 1433.89 1453 Q1431.69 1453 1429.23 1453.77 Q1426.8 1454.53 1424.03 1456.08 L1424.03 1451.36 Q1426.85 1450.22 1429.3 1449.65 Q1431.76 1449.07 1433.79 1449.07 Q1439.16 1449.07 1442.36 1451.75 Q1445.55 1454.44 1445.55 1458.93 Q1445.55 1461.06 1444.74 1462.98 Q1443.96 1464.88 1441.85 1467.47 Q1441.27 1468.14 1438.17 1471.36 Q1435.07 1474.55 1429.42 1480.32 Z\" fill=\"#000000\" fill-rule=\"evenodd\" fill-opacity=\"1\" /><path clip-path=\"url(#clip5200)\" d=\"M 0 0 M1460.81 1452.77 Q1457.2 1452.77 1455.37 1456.34 Q1453.56 1459.88 1453.56 1467.01 Q1453.56 1474.11 1455.37 1477.68 Q1457.2 1481.22 1460.81 1481.22 Q1464.44 1481.22 1466.25 1477.68 Q1468.08 1474.11 1468.08 1467.01 Q1468.08 1459.88 1466.25 1456.34 Q1464.44 1452.77 1460.81 1452.77 M1460.81 1449.07 Q1466.62 1449.07 1469.67 1453.67 Q1472.75 1458.26 1472.75 1467.01 Q1472.75 1475.73 1469.67 1480.34 Q1466.62 1484.92 1460.81 1484.92 Q1455 1484.92 1451.92 1480.34 Q1448.86 1475.73 1448.86 1467.01 Q1448.86 1458.26 1451.92 1453.67 Q1455 1449.07 1460.81 1449.07 Z\" fill=\"#000000\" fill-rule=\"evenodd\" fill-opacity=\"1\" /><path clip-path=\"url(#clip5200)\" d=\"M 0 0 M1479.46 1452.86 Q1474.37 1452.86 1471.36 1456.66 Q1468.37 1460.46 1468.37 1467.01 Q1468.37 1473.53 1471.36 1477.33 Q1474.37 1481.13 1479.46 1481.13 Q1484.55 1481.13 1487.52 1477.33 Q1490.5 1473.53 1490.5 1467.01 Q1490.5 1460.46 1487.52 1456.66 Q1484.55 1452.86 1479.46 1452.86 M1479.46 1449.07 Q1486.73 1449.07 1491.08 1453.95 Q1495.43 1458.81 1495.43 1467.01 Q1495.43 1475.18 1491.08 1480.06 Q1486.73 1484.92 1479.46 1484.92 Q1472.17 1484.92 1467.79 1480.06 Q1463.44 1475.2 1463.44 1467.01 Q1463.44 1458.81 1467.79 1453.95 Q1472.17 1449.07 1479.46 1449.07 Z\" fill=\"#000000\" fill-rule=\"evenodd\" fill-opacity=\"1\" /><path clip-path=\"url(#clip5200)\" d=\"M 0 0 M1518.56 1459.32 L1518.56 1463.3 Q1516.75 1462.31 1514.92 1461.82 Q1513.12 1461.31 1511.27 1461.31 Q1507.12 1461.31 1504.83 1463.95 Q1502.54 1466.57 1502.54 1471.31 Q1502.54 1476.06 1504.83 1478.7 Q1507.12 1481.31 1511.27 1481.31 Q1513.12 1481.31 1514.92 1480.83 Q1516.75 1480.32 1518.56 1479.32 L1518.56 1483.26 Q1516.78 1484.09 1514.85 1484.51 Q1512.96 1484.92 1510.8 1484.92 Q1504.95 1484.92 1501.5 1481.24 Q1498.05 1477.56 1498.05 1471.31 Q1498.05 1464.97 1501.52 1461.34 Q1505.02 1457.7 1511.08 1457.7 Q1513.05 1457.7 1514.92 1458.12 Q1516.8 1458.51 1518.56 1459.32 Z\" fill=\"#000000\" fill-rule=\"evenodd\" fill-opacity=\"1\" /><path clip-path=\"url(#clip5200)\" d=\"M 0 0 M1527.24 1450.96 L1527.24 1458.33 L1536.01 1458.33 L1536.01 1461.64 L1527.24 1461.64 L1527.24 1475.71 Q1527.24 1478.88 1528.09 1479.78 Q1528.97 1480.69 1531.64 1480.69 L1536.01 1480.69 L1536.01 1484.25 L1531.64 1484.25 Q1526.71 1484.25 1524.83 1482.42 Q1522.96 1480.57 1522.96 1475.71 L1522.96 1461.64 L1519.83 1461.64 L1519.83 1458.33 L1522.96 1458.33 L1522.96 1450.96 L1527.24 1450.96 Z\" fill=\"#000000\" fill-rule=\"evenodd\" fill-opacity=\"1\" /><path clip-path=\"url(#clip5200)\" d=\"M 0 0 M1541.08 1478.37 L1545.97 1478.37 L1545.97 1484.25 L1541.08 1484.25 L1541.08 1478.37 Z\" fill=\"#000000\" fill-rule=\"evenodd\" fill-opacity=\"1\" /><path clip-path=\"url(#clip5200)\" d=\"M 0 0 M1566.91 1480.32 L1574.55 1480.32 L1574.55 1453.95 L1566.24 1455.62 L1566.24 1451.36 L1574.51 1449.69 L1579.18 1449.69 L1579.18 1480.32 L1586.82 1480.32 L1586.82 1484.25 L1566.91 1484.25 L1566.91 1480.32 Z\" fill=\"#000000\" fill-rule=\"evenodd\" fill-opacity=\"1\" /><path clip-path=\"url(#clip5200)\" d=\"M 0 0 M1592.03 1483.53 L1592.03 1479.28 Q1593.79 1480.11 1595.59 1480.55 Q1597.4 1480.99 1599.14 1480.99 Q1603.77 1480.99 1606.2 1477.89 Q1608.65 1474.76 1609 1468.42 Q1607.65 1470.41 1605.59 1471.47 Q1603.53 1472.54 1601.03 1472.54 Q1595.85 1472.54 1592.82 1469.41 Q1589.81 1466.27 1589.81 1460.83 Q1589.81 1455.5 1592.96 1452.28 Q1596.1 1449.07 1601.34 1449.07 Q1607.33 1449.07 1610.48 1453.67 Q1613.65 1458.26 1613.65 1467.01 Q1613.65 1475.18 1609.76 1480.06 Q1605.9 1484.92 1599.34 1484.92 Q1597.59 1484.92 1595.78 1484.58 Q1593.97 1484.23 1592.03 1483.53 M1601.34 1468.88 Q1604.48 1468.88 1606.31 1466.73 Q1608.16 1464.58 1608.16 1460.83 Q1608.16 1457.1 1606.31 1454.95 Q1604.48 1452.77 1601.34 1452.77 Q1598.19 1452.77 1596.34 1454.95 Q1594.51 1457.1 1594.51 1460.83 Q1594.51 1464.58 1596.34 1466.73 Q1598.19 1468.88 1601.34 1468.88 Z\" fill=\"#000000\" fill-rule=\"evenodd\" fill-opacity=\"1\" /><path clip-path=\"url(#clip5200)\" d=\"M 0 0 M1619.21 1478.37 L1624.09 1478.37 L1624.09 1482.35 L1620.29 1489.76 L1617.31 1489.76 L1619.21 1482.35 L1619.21 1478.37 Z\" fill=\"#000000\" fill-rule=\"evenodd\" fill-opacity=\"1\" /><path clip-path=\"url(#clip5200)\" d=\"M 0 0 M1648.26 1480.32 L1664.58 1480.32 L1664.58 1484.25 L1642.63 1484.25 L1642.63 1480.32 Q1645.29 1477.56 1649.88 1472.93 Q1654.48 1468.28 1655.66 1466.94 Q1657.91 1464.41 1658.79 1462.68 Q1659.69 1460.92 1659.69 1459.23 Q1659.69 1456.47 1657.75 1454.74 Q1655.83 1453 1652.72 1453 Q1650.52 1453 1648.07 1453.77 Q1645.64 1454.53 1642.86 1456.08 L1642.86 1451.36 Q1645.69 1450.22 1648.14 1449.65 Q1650.59 1449.07 1652.63 1449.07 Q1658 1449.07 1661.2 1451.75 Q1664.39 1454.44 1664.39 1458.93 Q1664.39 1461.06 1663.58 1462.98 Q1662.79 1464.88 1660.69 1467.47 Q1660.11 1468.14 1657.01 1471.36 Q1653.9 1474.55 1648.26 1480.32 Z\" fill=\"#000000\" fill-rule=\"evenodd\" fill-opacity=\"1\" /><path clip-path=\"url(#clip5200)\" d=\"M 0 0 M1679.65 1452.77 Q1676.03 1452.77 1674.21 1456.34 Q1672.4 1459.88 1672.4 1467.01 Q1672.4 1474.11 1674.21 1477.68 Q1676.03 1481.22 1679.65 1481.22 Q1683.28 1481.22 1685.08 1477.68 Q1686.91 1474.11 1686.91 1467.01 Q1686.91 1459.88 1685.08 1456.34 Q1683.28 1452.77 1679.65 1452.77 M1679.65 1449.07 Q1685.46 1449.07 1688.51 1453.67 Q1691.59 1458.26 1691.59 1467.01 Q1691.59 1475.73 1688.51 1480.34 Q1685.46 1484.92 1679.65 1484.92 Q1673.83 1484.92 1670.76 1480.34 Q1667.7 1475.73 1667.7 1467.01 Q1667.7 1458.26 1670.76 1453.67 Q1673.83 1449.07 1679.65 1449.07 Z\" fill=\"#000000\" fill-rule=\"evenodd\" fill-opacity=\"1\" /><path clip-path=\"url(#clip5200)\" d=\"M 0 0 M1734.51 1452.86 Q1729.42 1452.86 1726.41 1456.66 Q1723.42 1460.46 1723.42 1467.01 Q1723.42 1473.53 1726.41 1477.33 Q1729.42 1481.13 1734.51 1481.13 Q1739.6 1481.13 1742.57 1477.33 Q1745.55 1473.53 1745.55 1467.01 Q1745.55 1460.46 1742.57 1456.66 Q1739.6 1452.86 1734.51 1452.86 M1734.51 1449.07 Q1741.78 1449.07 1746.13 1453.95 Q1750.48 1458.81 1750.48 1467.01 Q1750.48 1475.18 1746.13 1480.06 Q1741.78 1484.92 1734.51 1484.92 Q1727.22 1484.92 1722.85 1480.06 Q1718.49 1475.2 1718.49 1467.01 Q1718.49 1458.81 1722.85 1453.95 Q1727.22 1449.07 1734.51 1449.07 Z\" fill=\"#000000\" fill-rule=\"evenodd\" fill-opacity=\"1\" /><path clip-path=\"url(#clip5200)\" d=\"M 0 0 M1773.61 1459.32 L1773.61 1463.3 Q1771.8 1462.31 1769.97 1461.82 Q1768.17 1461.31 1766.32 1461.31 Q1762.17 1461.31 1759.88 1463.95 Q1757.59 1466.57 1757.59 1471.31 Q1757.59 1476.06 1759.88 1478.7 Q1762.17 1481.31 1766.32 1481.31 Q1768.17 1481.31 1769.97 1480.83 Q1771.8 1480.32 1773.61 1479.32 L1773.61 1483.26 Q1771.83 1484.09 1769.91 1484.51 Q1768.01 1484.92 1765.85 1484.92 Q1760 1484.92 1756.55 1481.24 Q1753.1 1477.56 1753.1 1471.31 Q1753.1 1464.97 1756.57 1461.34 Q1760.07 1457.7 1766.13 1457.7 Q1768.1 1457.7 1769.97 1458.12 Q1771.85 1458.51 1773.61 1459.32 Z\" fill=\"#000000\" fill-rule=\"evenodd\" fill-opacity=\"1\" /><path clip-path=\"url(#clip5200)\" d=\"M 0 0 M1782.29 1450.96 L1782.29 1458.33 L1791.06 1458.33 L1791.06 1461.64 L1782.29 1461.64 L1782.29 1475.71 Q1782.29 1478.88 1783.15 1479.78 Q1784.03 1480.69 1786.69 1480.69 L1791.06 1480.69 L1791.06 1484.25 L1786.69 1484.25 Q1781.76 1484.25 1779.88 1482.42 Q1778.01 1480.57 1778.01 1475.71 L1778.01 1461.64 L1774.88 1461.64 L1774.88 1458.33 L1778.01 1458.33 L1778.01 1450.96 L1782.29 1450.96 Z\" fill=\"#000000\" fill-rule=\"evenodd\" fill-opacity=\"1\" /><path clip-path=\"url(#clip5200)\" d=\"M 0 0 M1796.13 1478.37 L1801.02 1478.37 L1801.02 1484.25 L1796.13 1484.25 L1796.13 1478.37 Z\" fill=\"#000000\" fill-rule=\"evenodd\" fill-opacity=\"1\" /><path clip-path=\"url(#clip5200)\" d=\"M 0 0 M1825.18 1480.32 L1841.5 1480.32 L1841.5 1484.25 L1819.56 1484.25 L1819.56 1480.32 Q1822.22 1477.56 1826.8 1472.93 Q1831.41 1468.28 1832.59 1466.94 Q1834.84 1464.41 1835.72 1462.68 Q1836.62 1460.92 1836.62 1459.23 Q1836.62 1456.47 1834.67 1454.74 Q1832.75 1453 1829.65 1453 Q1827.45 1453 1825 1453.77 Q1822.57 1454.53 1819.79 1456.08 L1819.79 1451.36 Q1822.61 1450.22 1825.07 1449.65 Q1827.52 1449.07 1829.56 1449.07 Q1834.93 1449.07 1838.12 1451.75 Q1841.32 1454.44 1841.32 1458.93 Q1841.32 1461.06 1840.51 1462.98 Q1839.72 1464.88 1837.61 1467.47 Q1837.03 1468.14 1833.93 1471.36 Q1830.83 1474.55 1825.18 1480.32 Z\" fill=\"#000000\" fill-rule=\"evenodd\" fill-opacity=\"1\" /><path clip-path=\"url(#clip5200)\" d=\"M 0 0 M1857.15 1465.11 Q1854 1465.11 1852.15 1467.26 Q1850.32 1469.41 1850.32 1473.16 Q1850.32 1476.89 1852.15 1479.07 Q1854 1481.22 1857.15 1481.22 Q1860.3 1481.22 1862.13 1479.07 Q1863.98 1476.89 1863.98 1473.16 Q1863.98 1469.41 1862.13 1467.26 Q1860.3 1465.11 1857.15 1465.11 M1866.43 1450.46 L1866.43 1454.71 Q1864.67 1453.88 1862.87 1453.44 Q1861.09 1453 1859.33 1453 Q1854.7 1453 1852.24 1456.13 Q1849.81 1459.25 1849.47 1465.57 Q1850.83 1463.56 1852.89 1462.49 Q1854.95 1461.4 1857.43 1461.4 Q1862.64 1461.4 1865.65 1464.58 Q1868.68 1467.72 1868.68 1473.16 Q1868.68 1478.49 1865.53 1481.71 Q1862.38 1484.92 1857.15 1484.92 Q1851.16 1484.92 1847.98 1480.34 Q1844.81 1475.73 1844.81 1467.01 Q1844.81 1458.81 1848.7 1453.95 Q1852.59 1449.07 1859.14 1449.07 Q1860.9 1449.07 1862.68 1449.41 Q1864.49 1449.76 1866.43 1450.46 Z\" fill=\"#000000\" fill-rule=\"evenodd\" fill-opacity=\"1\" /><path clip-path=\"url(#clip5200)\" d=\"M 0 0 M1874.23 1478.37 L1879.12 1478.37 L1879.12 1482.35 L1875.32 1489.76 L1872.34 1489.76 L1874.23 1482.35 L1874.23 1478.37 Z\" fill=\"#000000\" fill-rule=\"evenodd\" fill-opacity=\"1\" /><path clip-path=\"url(#clip5200)\" d=\"M 0 0 M1903.28 1480.32 L1919.6 1480.32 L1919.6 1484.25 L1897.66 1484.25 L1897.66 1480.32 Q1900.32 1477.56 1904.9 1472.93 Q1909.51 1468.28 1910.69 1466.94 Q1912.94 1464.41 1913.82 1462.68 Q1914.72 1460.92 1914.72 1459.23 Q1914.72 1456.47 1912.78 1454.74 Q1910.85 1453 1907.75 1453 Q1905.55 1453 1903.1 1453.77 Q1900.67 1454.53 1897.89 1456.08 L1897.89 1451.36 Q1900.71 1450.22 1903.17 1449.65 Q1905.62 1449.07 1907.66 1449.07 Q1913.03 1449.07 1916.22 1451.75 Q1919.42 1454.44 1919.42 1458.93 Q1919.42 1461.06 1918.61 1462.98 Q1917.82 1464.88 1915.71 1467.47 Q1915.14 1468.14 1912.03 1471.36 Q1908.93 1474.55 1903.28 1480.32 Z\" fill=\"#000000\" fill-rule=\"evenodd\" fill-opacity=\"1\" /><path clip-path=\"url(#clip5200)\" d=\"M 0 0 M1934.67 1452.77 Q1931.06 1452.77 1929.23 1456.34 Q1927.43 1459.88 1927.43 1467.01 Q1927.43 1474.11 1929.23 1477.68 Q1931.06 1481.22 1934.67 1481.22 Q1938.31 1481.22 1940.11 1477.68 Q1941.94 1474.11 1941.94 1467.01 Q1941.94 1459.88 1940.11 1456.34 Q1938.31 1452.77 1934.67 1452.77 M1934.67 1449.07 Q1940.48 1449.07 1943.54 1453.67 Q1946.62 1458.26 1946.62 1467.01 Q1946.62 1475.73 1943.54 1480.34 Q1940.48 1484.92 1934.67 1484.92 Q1928.86 1484.92 1925.78 1480.34 Q1922.73 1475.73 1922.73 1467.01 Q1922.73 1458.26 1925.78 1453.67 Q1928.86 1449.07 1934.67 1449.07 Z\" fill=\"#000000\" fill-rule=\"evenodd\" fill-opacity=\"1\" /><path clip-path=\"url(#clip5200)\" d=\"M 0 0 M1985.64 1449.69 L1991.94 1449.69 L2007.26 1478.6 L2007.26 1449.69 L2011.8 1449.69 L2011.8 1484.25 L2005.5 1484.25 L1990.18 1455.34 L1990.18 1484.25 L1985.64 1484.25 L1985.64 1449.69 Z\" fill=\"#000000\" fill-rule=\"evenodd\" fill-opacity=\"1\" /><path clip-path=\"url(#clip5200)\" d=\"M 0 0 M2026.31 1461.31 Q2022.88 1461.31 2020.89 1464 Q2018.9 1466.66 2018.9 1471.31 Q2018.9 1475.96 2020.87 1478.65 Q2022.86 1481.31 2026.31 1481.31 Q2029.71 1481.31 2031.7 1478.63 Q2033.7 1475.94 2033.7 1471.31 Q2033.7 1466.71 2031.7 1464.02 Q2029.71 1461.31 2026.31 1461.31 M2026.31 1457.7 Q2031.87 1457.7 2035.04 1461.31 Q2038.21 1464.92 2038.21 1471.31 Q2038.21 1477.68 2035.04 1481.31 Q2031.87 1484.92 2026.31 1484.92 Q2020.73 1484.92 2017.56 1481.31 Q2014.41 1477.68 2014.41 1471.31 Q2014.41 1464.92 2017.56 1461.31 Q2020.73 1457.7 2026.31 1457.7 Z\" fill=\"#000000\" fill-rule=\"evenodd\" fill-opacity=\"1\" /><path clip-path=\"url(#clip5200)\" d=\"M 0 0 M2039.62 1458.33 L2044.13 1458.33 L2052.24 1480.09 L2060.34 1458.33 L2064.85 1458.33 L2055.13 1484.25 L2049.34 1484.25 L2039.62 1458.33 Z\" fill=\"#000000\" fill-rule=\"evenodd\" fill-opacity=\"1\" /><path clip-path=\"url(#clip5200)\" d=\"M 0 0 M2066.24 1478.37 L2071.13 1478.37 L2071.13 1484.25 L2066.24 1484.25 L2066.24 1478.37 Z\" fill=\"#000000\" fill-rule=\"evenodd\" fill-opacity=\"1\" /><path clip-path=\"url(#clip5200)\" d=\"M 0 0 M2095.29 1480.32 L2111.61 1480.32 L2111.61 1484.25 L2089.67 1484.25 L2089.67 1480.32 Q2092.33 1477.56 2096.91 1472.93 Q2101.52 1468.28 2102.7 1466.94 Q2104.94 1464.41 2105.82 1462.68 Q2106.73 1460.92 2106.73 1459.23 Q2106.73 1456.47 2104.78 1454.74 Q2102.86 1453 2099.76 1453 Q2097.56 1453 2095.11 1453.77 Q2092.68 1454.53 2089.9 1456.08 L2089.9 1451.36 Q2092.72 1450.22 2095.18 1449.65 Q2097.63 1449.07 2099.67 1449.07 Q2105.04 1449.07 2108.23 1451.75 Q2111.43 1454.44 2111.43 1458.93 Q2111.43 1461.06 2110.62 1462.98 Q2109.83 1464.88 2107.72 1467.47 Q2107.14 1468.14 2104.04 1471.36 Q2100.94 1474.55 2095.29 1480.32 Z\" fill=\"#000000\" fill-rule=\"evenodd\" fill-opacity=\"1\" /><path clip-path=\"url(#clip5200)\" d=\"M 0 0 M2117.17 1478.37 L2122.05 1478.37 L2122.05 1482.35 L2118.25 1489.76 L2115.27 1489.76 L2117.17 1482.35 L2117.17 1478.37 Z\" fill=\"#000000\" fill-rule=\"evenodd\" fill-opacity=\"1\" /><path clip-path=\"url(#clip5200)\" d=\"M 0 0 M2146.22 1480.32 L2162.54 1480.32 L2162.54 1484.25 L2140.59 1484.25 L2140.59 1480.32 Q2143.25 1477.56 2147.84 1472.93 Q2152.44 1468.28 2153.62 1466.94 Q2155.87 1464.41 2156.75 1462.68 Q2157.65 1460.92 2157.65 1459.23 Q2157.65 1456.47 2155.71 1454.74 Q2153.79 1453 2150.69 1453 Q2148.49 1453 2146.03 1453.77 Q2143.6 1454.53 2140.82 1456.08 L2140.82 1451.36 Q2143.65 1450.22 2146.1 1449.65 Q2148.56 1449.07 2150.59 1449.07 Q2155.96 1449.07 2159.16 1451.75 Q2162.35 1454.44 2162.35 1458.93 Q2162.35 1461.06 2161.54 1462.98 Q2160.75 1464.88 2158.65 1467.47 Q2158.07 1468.14 2154.97 1471.36 Q2151.87 1474.55 2146.22 1480.32 Z\" fill=\"#000000\" fill-rule=\"evenodd\" fill-opacity=\"1\" /><path clip-path=\"url(#clip5200)\" d=\"M 0 0 M2177.61 1452.77 Q2174 1452.77 2172.17 1456.34 Q2170.36 1459.88 2170.36 1467.01 Q2170.36 1474.11 2172.17 1477.68 Q2174 1481.22 2177.61 1481.22 Q2181.24 1481.22 2183.05 1477.68 Q2184.87 1474.11 2184.87 1467.01 Q2184.87 1459.88 2183.05 1456.34 Q2181.24 1452.77 2177.61 1452.77 M2177.61 1449.07 Q2183.42 1449.07 2186.47 1453.67 Q2189.55 1458.26 2189.55 1467.01 Q2189.55 1475.73 2186.47 1480.34 Q2183.42 1484.92 2177.61 1484.92 Q2171.8 1484.92 2168.72 1480.34 Q2165.66 1475.73 2165.66 1467.01 Q2165.66 1458.26 2168.72 1453.67 Q2171.8 1449.07 2177.61 1449.07 Z\" fill=\"#000000\" fill-rule=\"evenodd\" fill-opacity=\"1\" /><path clip-path=\"url(#clip5200)\" d=\"M 0 0 M2203.49 1449.69 L2209.79 1449.69 L2225.11 1478.6 L2225.11 1449.69 L2229.65 1449.69 L2229.65 1484.25 L2223.35 1484.25 L2208.03 1455.34 L2208.03 1484.25 L2203.49 1484.25 L2203.49 1449.69 Z\" fill=\"#000000\" fill-rule=\"evenodd\" fill-opacity=\"1\" /><path clip-path=\"url(#clip5200)\" d=\"M 0 0 M2244.16 1461.31 Q2240.74 1461.31 2238.75 1464 Q2236.76 1466.66 2236.76 1471.31 Q2236.76 1475.96 2238.72 1478.65 Q2240.71 1481.31 2244.16 1481.31 Q2247.57 1481.31 2249.56 1478.63 Q2251.55 1475.94 2251.55 1471.31 Q2251.55 1466.71 2249.56 1464.02 Q2247.57 1461.31 2244.16 1461.31 M2244.16 1457.7 Q2249.72 1457.7 2252.89 1461.31 Q2256.06 1464.92 2256.06 1471.31 Q2256.06 1477.68 2252.89 1481.31 Q2249.72 1484.92 2244.16 1484.92 Q2238.59 1484.92 2235.41 1481.31 Q2232.27 1477.68 2232.27 1471.31 Q2232.27 1464.92 2235.41 1461.31 Q2238.59 1457.7 2244.16 1457.7 Z\" fill=\"#000000\" fill-rule=\"evenodd\" fill-opacity=\"1\" /><path clip-path=\"url(#clip5200)\" d=\"M 0 0 M2257.47 1458.33 L2261.99 1458.33 L2270.09 1480.09 L2278.19 1458.33 L2282.71 1458.33 L2272.98 1484.25 L2267.2 1484.25 L2257.47 1458.33 Z\" fill=\"#000000\" fill-rule=\"evenodd\" fill-opacity=\"1\" /><path clip-path=\"url(#clip5200)\" d=\"M 0 0 M2284.09 1478.37 L2288.98 1478.37 L2288.98 1484.25 L2284.09 1484.25 L2284.09 1478.37 Z\" fill=\"#000000\" fill-rule=\"evenodd\" fill-opacity=\"1\" /><path clip-path=\"url(#clip5200)\" d=\"M 0 0 M2319.12 1467.84 Q2315.78 1467.84 2313.86 1469.62 Q2311.96 1471.4 2311.96 1474.53 Q2311.96 1477.65 2313.86 1479.44 Q2315.78 1481.22 2319.12 1481.22 Q2322.45 1481.22 2324.37 1479.44 Q2326.29 1477.63 2326.29 1474.53 Q2326.29 1471.4 2324.37 1469.62 Q2322.47 1467.84 2319.12 1467.84 M2314.44 1465.85 Q2311.43 1465.11 2309.74 1463.05 Q2308.08 1460.99 2308.08 1458.03 Q2308.08 1453.88 2311.02 1451.47 Q2313.98 1449.07 2319.12 1449.07 Q2324.28 1449.07 2327.22 1451.47 Q2330.16 1453.88 2330.16 1458.03 Q2330.16 1460.99 2328.47 1463.05 Q2326.8 1465.11 2323.82 1465.85 Q2327.2 1466.64 2329.07 1468.93 Q2330.97 1471.22 2330.97 1474.53 Q2330.97 1479.55 2327.89 1482.24 Q2324.83 1484.92 2319.12 1484.92 Q2313.4 1484.92 2310.32 1482.24 Q2307.27 1479.55 2307.27 1474.53 Q2307.27 1471.22 2309.16 1468.93 Q2311.06 1466.64 2314.44 1465.85 M2312.73 1458.46 Q2312.73 1461.15 2314.39 1462.65 Q2316.08 1464.16 2319.12 1464.16 Q2322.13 1464.16 2323.82 1462.65 Q2325.53 1461.15 2325.53 1458.46 Q2325.53 1455.78 2323.82 1454.28 Q2322.13 1452.77 2319.12 1452.77 Q2316.08 1452.77 2314.39 1454.28 Q2312.73 1455.78 2312.73 1458.46 Z\" fill=\"#000000\" fill-rule=\"evenodd\" fill-opacity=\"1\" /><path clip-path=\"url(#clip5200)\" d=\"M 0 0 M2336.52 1478.37 L2341.41 1478.37 L2341.41 1482.35 L2337.61 1489.76 L2334.63 1489.76 L2336.52 1482.35 L2336.52 1478.37 Z\" fill=\"#000000\" fill-rule=\"evenodd\" fill-opacity=\"1\" /><path clip-path=\"url(#clip5200)\" d=\"M 0 0 M2365.58 1480.32 L2381.89 1480.32 L2381.89 1484.25 L2359.95 1484.25 L2359.95 1480.32 Q2362.61 1477.56 2367.2 1472.93 Q2371.8 1468.28 2372.98 1466.94 Q2375.23 1464.41 2376.11 1462.68 Q2377.01 1460.92 2377.01 1459.23 Q2377.01 1456.47 2375.07 1454.74 Q2373.14 1453 2370.04 1453 Q2367.84 1453 2365.39 1453.77 Q2362.96 1454.53 2360.18 1456.08 L2360.18 1451.36 Q2363.01 1450.22 2365.46 1449.65 Q2367.91 1449.07 2369.95 1449.07 Q2375.32 1449.07 2378.52 1451.75 Q2381.71 1454.44 2381.71 1458.93 Q2381.71 1461.06 2380.9 1462.98 Q2380.11 1464.88 2378.01 1467.47 Q2377.43 1468.14 2374.33 1471.36 Q2371.22 1474.55 2365.58 1480.32 Z\" fill=\"#000000\" fill-rule=\"evenodd\" fill-opacity=\"1\" /><path clip-path=\"url(#clip5200)\" d=\"M 0 0 M2396.96 1452.77 Q2393.35 1452.77 2391.52 1456.34 Q2389.72 1459.88 2389.72 1467.01 Q2389.72 1474.11 2391.52 1477.68 Q2393.35 1481.22 2396.96 1481.22 Q2400.6 1481.22 2402.4 1477.68 Q2404.23 1474.11 2404.23 1467.01 Q2404.23 1459.88 2402.4 1456.34 Q2400.6 1452.77 2396.96 1452.77 M2396.96 1449.07 Q2402.77 1449.07 2405.83 1453.67 Q2408.91 1458.26 2408.91 1467.01 Q2408.91 1475.73 2405.83 1480.34 Q2402.77 1484.92 2396.96 1484.92 Q2391.15 1484.92 2388.08 1480.34 Q2385.02 1475.73 2385.02 1467.01 Q2385.02 1458.26 2388.08 1453.67 Q2391.15 1449.07 2396.96 1449.07 Z\" fill=\"#000000\" fill-rule=\"evenodd\" fill-opacity=\"1\" /><path clip-path=\"url(#clip5200)\" d=\"M 0 0 M2446.09 1449.69 L2452.39 1449.69 L2467.71 1478.6 L2467.71 1449.69 L2472.25 1449.69 L2472.25 1484.25 L2465.95 1484.25 L2450.63 1455.34 L2450.63 1484.25 L2446.09 1484.25 L2446.09 1449.69 Z\" fill=\"#000000\" fill-rule=\"evenodd\" fill-opacity=\"1\" /><path clip-path=\"url(#clip5200)\" d=\"M 0 0 M2486.76 1461.31 Q2483.34 1461.31 2481.34 1464 Q2479.35 1466.66 2479.35 1471.31 Q2479.35 1475.96 2481.32 1478.65 Q2483.31 1481.31 2486.76 1481.31 Q2490.16 1481.31 2492.15 1478.63 Q2494.15 1475.94 2494.15 1471.31 Q2494.15 1466.71 2492.15 1464.02 Q2490.16 1461.31 2486.76 1461.31 M2486.76 1457.7 Q2492.32 1457.7 2495.49 1461.31 Q2498.66 1464.92 2498.66 1471.31 Q2498.66 1477.68 2495.49 1481.31 Q2492.32 1484.92 2486.76 1484.92 Q2481.18 1484.92 2478.01 1481.31 Q2474.86 1477.68 2474.86 1471.31 Q2474.86 1464.92 2478.01 1461.31 Q2481.18 1457.7 2486.76 1457.7 Z\" fill=\"#000000\" fill-rule=\"evenodd\" fill-opacity=\"1\" /><path clip-path=\"url(#clip5200)\" d=\"M 0 0 M2500.07 1458.33 L2504.59 1458.33 L2512.69 1480.09 L2520.79 1458.33 L2525.3 1458.33 L2515.58 1484.25 L2509.79 1484.25 L2500.07 1458.33 Z\" fill=\"#000000\" fill-rule=\"evenodd\" fill-opacity=\"1\" /><path clip-path=\"url(#clip5200)\" d=\"M 0 0 M2526.69 1478.37 L2531.58 1478.37 L2531.58 1484.25 L2526.69 1484.25 L2526.69 1478.37 Z\" fill=\"#000000\" fill-rule=\"evenodd\" fill-opacity=\"1\" /><path clip-path=\"url(#clip5200)\" d=\"M 0 0 M2552.52 1480.32 L2560.16 1480.32 L2560.16 1453.95 L2551.85 1455.62 L2551.85 1451.36 L2560.12 1449.69 L2564.79 1449.69 L2564.79 1480.32 L2572.43 1480.32 L2572.43 1484.25 L2552.52 1484.25 L2552.52 1480.32 Z\" fill=\"#000000\" fill-rule=\"evenodd\" fill-opacity=\"1\" /><path clip-path=\"url(#clip5200)\" d=\"M 0 0 M2577.55 1449.69 L2595.9 1449.69 L2595.9 1453.63 L2581.83 1453.63 L2581.83 1462.1 Q2582.85 1461.75 2583.87 1461.59 Q2584.89 1461.4 2585.9 1461.4 Q2591.69 1461.4 2595.07 1464.58 Q2598.45 1467.75 2598.45 1473.16 Q2598.45 1478.74 2594.98 1481.84 Q2591.51 1484.92 2585.19 1484.92 Q2583.01 1484.92 2580.74 1484.55 Q2578.5 1484.18 2576.09 1483.44 L2576.09 1478.74 Q2578.17 1479.88 2580.4 1480.43 Q2582.62 1480.99 2585.09 1480.99 Q2589.1 1480.99 2591.44 1478.88 Q2593.77 1476.78 2593.77 1473.16 Q2593.77 1469.55 2591.44 1467.45 Q2589.1 1465.34 2585.09 1465.34 Q2583.22 1465.34 2581.34 1465.76 Q2579.49 1466.17 2577.55 1467.05 L2577.55 1449.69 Z\" fill=\"#000000\" fill-rule=\"evenodd\" fill-opacity=\"1\" /><path clip-path=\"url(#clip5200)\" d=\"M 0 0 M2604.01 1478.37 L2608.89 1478.37 L2608.89 1482.35 L2605.09 1489.76 L2602.11 1489.76 L2604.01 1482.35 L2604.01 1478.37 Z\" fill=\"#000000\" fill-rule=\"evenodd\" fill-opacity=\"1\" /><path clip-path=\"url(#clip5200)\" d=\"M 0 0 M2633.06 1480.32 L2649.38 1480.32 L2649.38 1484.25 L2627.43 1484.25 L2627.43 1480.32 Q2630.09 1477.56 2634.68 1472.93 Q2639.28 1468.28 2640.46 1466.94 Q2642.71 1464.41 2643.59 1462.68 Q2644.49 1460.92 2644.49 1459.23 Q2644.49 1456.47 2642.55 1454.74 Q2640.63 1453 2637.52 1453 Q2635.33 1453 2632.87 1453.77 Q2630.44 1454.53 2627.66 1456.08 L2627.66 1451.36 Q2630.49 1450.22 2632.94 1449.65 Q2635.39 1449.07 2637.43 1449.07 Q2642.8 1449.07 2646 1451.75 Q2649.19 1454.44 2649.19 1458.93 Q2649.19 1461.06 2648.38 1462.98 Q2647.59 1464.88 2645.49 1467.47 Q2644.91 1468.14 2641.81 1471.36 Q2638.71 1474.55 2633.06 1480.32 Z\" fill=\"#000000\" fill-rule=\"evenodd\" fill-opacity=\"1\" /><path clip-path=\"url(#clip5200)\" d=\"M 0 0 M2664.45 1452.77 Q2660.83 1452.77 2659.01 1456.34 Q2657.2 1459.88 2657.2 1467.01 Q2657.2 1474.11 2659.01 1477.68 Q2660.83 1481.22 2664.45 1481.22 Q2668.08 1481.22 2669.89 1477.68 Q2671.71 1474.11 2671.71 1467.01 Q2671.71 1459.88 2669.89 1456.34 Q2668.08 1452.77 2664.45 1452.77 M2664.45 1449.07 Q2670.26 1449.07 2673.31 1453.67 Q2676.39 1458.26 2676.39 1467.01 Q2676.39 1475.73 2673.31 1480.34 Q2670.26 1484.92 2664.45 1484.92 Q2658.64 1484.92 2655.56 1480.34 Q2652.5 1475.73 2652.5 1467.01 Q2652.5 1458.26 2655.56 1453.67 Q2658.64 1449.07 2664.45 1449.07 Z\" fill=\"#000000\" fill-rule=\"evenodd\" fill-opacity=\"1\" /><path clip-path=\"url(#clip5200)\" d=\"M 0 0 M2665 1449.69 L2671.29 1449.69 L2686.62 1478.6 L2686.62 1449.69 L2691.15 1449.69 L2691.15 1484.25 L2684.86 1484.25 L2669.53 1455.34 L2669.53 1484.25 L2665 1484.25 L2665 1449.69 Z\" fill=\"#000000\" fill-rule=\"evenodd\" fill-opacity=\"1\" /><path clip-path=\"url(#clip5200)\" d=\"M 0 0 M2705.67 1461.31 Q2702.24 1461.31 2700.25 1464 Q2698.26 1466.66 2698.26 1471.31 Q2698.26 1475.96 2700.23 1478.65 Q2702.22 1481.31 2705.67 1481.31 Q2709.07 1481.31 2711.06 1478.63 Q2713.05 1475.94 2713.05 1471.31 Q2713.05 1466.71 2711.06 1464.02 Q2709.07 1461.31 2705.67 1461.31 M2705.67 1457.7 Q2711.22 1457.7 2714.39 1461.31 Q2717.57 1464.92 2717.57 1471.31 Q2717.57 1477.68 2714.39 1481.31 Q2711.22 1484.92 2705.67 1484.92 Q2700.09 1484.92 2696.92 1481.31 Q2693.77 1477.68 2693.77 1471.31 Q2693.77 1464.92 2696.92 1461.31 Q2700.09 1457.7 2705.67 1457.7 Z\" fill=\"#000000\" fill-rule=\"evenodd\" fill-opacity=\"1\" /><path clip-path=\"url(#clip5200)\" d=\"M 0 0 M2718.98 1458.33 L2723.49 1458.33 L2731.59 1480.09 L2739.7 1458.33 L2744.21 1458.33 L2734.49 1484.25 L2728.7 1484.25 L2718.98 1458.33 Z\" fill=\"#000000\" fill-rule=\"evenodd\" fill-opacity=\"1\" /><path clip-path=\"url(#clip5200)\" d=\"M 0 0 M2745.6 1478.37 L2750.48 1478.37 L2750.48 1484.25 L2745.6 1484.25 L2745.6 1478.37 Z\" fill=\"#000000\" fill-rule=\"evenodd\" fill-opacity=\"1\" /><path clip-path=\"url(#clip5200)\" d=\"M 0 0 M2774.65 1480.32 L2790.97 1480.32 L2790.97 1484.25 L2769.02 1484.25 L2769.02 1480.32 Q2771.69 1477.56 2776.27 1472.93 Q2780.88 1468.28 2782.06 1466.94 Q2784.3 1464.41 2785.18 1462.68 Q2786.08 1460.92 2786.08 1459.23 Q2786.08 1456.47 2784.14 1454.74 Q2782.22 1453 2779.12 1453 Q2776.92 1453 2774.46 1453.77 Q2772.03 1454.53 2769.26 1456.08 L2769.26 1451.36 Q2772.08 1450.22 2774.53 1449.65 Q2776.99 1449.07 2779.02 1449.07 Q2784.39 1449.07 2787.59 1451.75 Q2790.78 1454.44 2790.78 1458.93 Q2790.78 1461.06 2789.97 1462.98 Q2789.19 1464.88 2787.08 1467.47 Q2786.5 1468.14 2783.4 1471.36 Q2780.3 1474.55 2774.65 1480.32 Z\" fill=\"#000000\" fill-rule=\"evenodd\" fill-opacity=\"1\" /><path clip-path=\"url(#clip5200)\" d=\"M 0 0 M2796.85 1480.32 L2804.49 1480.32 L2804.49 1453.95 L2796.18 1455.62 L2796.18 1451.36 L2804.44 1449.69 L2809.12 1449.69 L2809.12 1480.32 L2816.76 1480.32 L2816.76 1484.25 L2796.85 1484.25 L2796.85 1480.32 Z\" fill=\"#000000\" fill-rule=\"evenodd\" fill-opacity=\"1\" /><path clip-path=\"url(#clip5200)\" d=\"M 0 0 M2822.31 1478.37 L2827.19 1478.37 L2827.19 1482.35 L2823.4 1489.76 L2820.41 1489.76 L2822.31 1482.35 L2822.31 1478.37 Z\" fill=\"#000000\" fill-rule=\"evenodd\" fill-opacity=\"1\" /><path clip-path=\"url(#clip5200)\" d=\"M 0 0 M2851.36 1480.32 L2867.68 1480.32 L2867.68 1484.25 L2845.74 1484.25 L2845.74 1480.32 Q2848.4 1477.56 2852.98 1472.93 Q2857.59 1468.28 2858.77 1466.94 Q2861.01 1464.41 2861.89 1462.68 Q2862.8 1460.92 2862.8 1459.23 Q2862.8 1456.47 2860.85 1454.74 Q2858.93 1453 2855.83 1453 Q2853.63 1453 2851.18 1453.77 Q2848.75 1454.53 2845.97 1456.08 L2845.97 1451.36 Q2848.79 1450.22 2851.25 1449.65 Q2853.7 1449.07 2855.74 1449.07 Q2861.11 1449.07 2864.3 1451.75 Q2867.5 1454.44 2867.5 1458.93 Q2867.5 1461.06 2866.69 1462.98 Q2865.9 1464.88 2863.79 1467.47 Q2863.21 1468.14 2860.11 1471.36 Q2857.01 1474.55 2851.36 1480.32 Z\" fill=\"#000000\" fill-rule=\"evenodd\" fill-opacity=\"1\" /><path clip-path=\"url(#clip5200)\" d=\"M 0 0 M2882.75 1452.77 Q2879.14 1452.77 2877.31 1456.34 Q2875.5 1459.88 2875.5 1467.01 Q2875.5 1474.11 2877.31 1477.68 Q2879.14 1481.22 2882.75 1481.22 Q2886.38 1481.22 2888.19 1477.68 Q2890.02 1474.11 2890.02 1467.01 Q2890.02 1459.88 2888.19 1456.34 Q2886.38 1452.77 2882.75 1452.77 M2882.75 1449.07 Q2888.56 1449.07 2891.62 1453.67 Q2894.69 1458.26 2894.69 1467.01 Q2894.69 1475.73 2891.62 1480.34 Q2888.56 1484.92 2882.75 1484.92 Q2876.94 1484.92 2873.86 1480.34 Q2870.81 1475.73 2870.81 1467.01 Q2870.81 1458.26 2873.86 1453.67 Q2876.94 1449.07 2882.75 1449.07 Z\" fill=\"#000000\" fill-rule=\"evenodd\" fill-opacity=\"1\" /><path clip-path=\"url(#clip5200)\" d=\"M 0 0 M2919.47 1449.69 L2925.77 1449.69 L2941.09 1478.6 L2941.09 1449.69 L2945.63 1449.69 L2945.63 1484.25 L2939.33 1484.25 L2924.01 1455.34 L2924.01 1484.25 L2919.47 1484.25 L2919.47 1449.69 Z\" fill=\"#000000\" fill-rule=\"evenodd\" fill-opacity=\"1\" /><path clip-path=\"url(#clip5200)\" d=\"M 0 0 M2960.14 1461.31 Q2956.71 1461.31 2954.72 1464 Q2952.73 1466.66 2952.73 1471.31 Q2952.73 1475.96 2954.7 1478.65 Q2956.69 1481.31 2960.14 1481.31 Q2963.54 1481.31 2965.53 1478.63 Q2967.52 1475.94 2967.52 1471.31 Q2967.52 1466.71 2965.53 1464.02 Q2963.54 1461.31 2960.14 1461.31 M2960.14 1457.7 Q2965.7 1457.7 2968.87 1461.31 Q2972.04 1464.92 2972.04 1471.31 Q2972.04 1477.68 2968.87 1481.31 Q2965.7 1484.92 2960.14 1484.92 Q2954.56 1484.92 2951.39 1481.31 Q2948.24 1477.68 2948.24 1471.31 Q2948.24 1464.92 2951.39 1461.31 Q2954.56 1457.7 2960.14 1457.7 Z\" fill=\"#000000\" fill-rule=\"evenodd\" fill-opacity=\"1\" /><path clip-path=\"url(#clip5200)\" d=\"M 0 0 M2973.45 1458.33 L2977.96 1458.33 L2986.07 1480.09 L2994.17 1458.33 L2998.68 1458.33 L2988.96 1484.25 L2983.17 1484.25 L2973.45 1458.33 Z\" fill=\"#000000\" fill-rule=\"evenodd\" fill-opacity=\"1\" /><path clip-path=\"url(#clip5200)\" d=\"M 0 0 M3000.07 1478.37 L3004.95 1478.37 L3004.95 1484.25 L3000.07 1484.25 L3000.07 1478.37 Z\" fill=\"#000000\" fill-rule=\"evenodd\" fill-opacity=\"1\" /><path clip-path=\"url(#clip5200)\" d=\"M 0 0 M3029.12 1480.32 L3045.44 1480.32 L3045.44 1484.25 L3023.5 1484.25 L3023.5 1480.32 Q3026.16 1477.56 3030.74 1472.93 Q3035.35 1468.28 3036.53 1466.94 Q3038.77 1464.41 3039.65 1462.68 Q3040.56 1460.92 3040.56 1459.23 Q3040.56 1456.47 3038.61 1454.74 Q3036.69 1453 3033.59 1453 Q3031.39 1453 3028.94 1453.77 Q3026.51 1454.53 3023.73 1456.08 L3023.73 1451.36 Q3026.55 1450.22 3029.01 1449.65 Q3031.46 1449.07 3033.5 1449.07 Q3038.87 1449.07 3042.06 1451.75 Q3045.26 1454.44 3045.26 1458.93 Q3045.26 1461.06 3044.45 1462.98 Q3043.66 1464.88 3041.55 1467.47 Q3040.97 1468.14 3037.87 1471.36 Q3034.77 1474.55 3029.12 1480.32 Z\" fill=\"#000000\" fill-rule=\"evenodd\" fill-opacity=\"1\" /><path clip-path=\"url(#clip5200)\" d=\"M 0 0 M3060.51 1467.84 Q3057.18 1467.84 3055.26 1469.62 Q3053.36 1471.4 3053.36 1474.53 Q3053.36 1477.65 3055.26 1479.44 Q3057.18 1481.22 3060.51 1481.22 Q3063.84 1481.22 3065.76 1479.44 Q3067.69 1477.63 3067.69 1474.53 Q3067.69 1471.4 3065.76 1469.62 Q3063.87 1467.84 3060.51 1467.84 M3055.83 1465.85 Q3052.82 1465.11 3051.14 1463.05 Q3049.47 1460.99 3049.47 1458.03 Q3049.47 1453.88 3052.41 1451.47 Q3055.37 1449.07 3060.51 1449.07 Q3065.67 1449.07 3068.61 1451.47 Q3071.55 1453.88 3071.55 1458.03 Q3071.55 1460.99 3069.86 1463.05 Q3068.2 1465.11 3065.21 1465.85 Q3068.59 1466.64 3070.46 1468.93 Q3072.36 1471.22 3072.36 1474.53 Q3072.36 1479.55 3069.28 1482.24 Q3066.23 1484.92 3060.51 1484.92 Q3054.79 1484.92 3051.71 1482.24 Q3048.66 1479.55 3048.66 1474.53 Q3048.66 1471.22 3050.56 1468.93 Q3052.45 1466.64 3055.83 1465.85 M3054.12 1458.46 Q3054.12 1461.15 3055.79 1462.65 Q3057.48 1464.16 3060.51 1464.16 Q3063.52 1464.16 3065.21 1462.65 Q3066.92 1461.15 3066.92 1458.46 Q3066.92 1455.78 3065.21 1454.28 Q3063.52 1452.77 3060.51 1452.77 Q3057.48 1452.77 3055.79 1454.28 Q3054.12 1455.78 3054.12 1458.46 Z\" fill=\"#000000\" fill-rule=\"evenodd\" fill-opacity=\"1\" /><path clip-path=\"url(#clip5200)\" d=\"M 0 0 M3077.92 1478.37 L3082.8 1478.37 L3082.8 1482.35 L3079.01 1489.76 L3076.02 1489.76 L3077.92 1482.35 L3077.92 1478.37 Z\" fill=\"#000000\" fill-rule=\"evenodd\" fill-opacity=\"1\" /><path clip-path=\"url(#clip5200)\" d=\"M 0 0 M3106.97 1480.32 L3123.29 1480.32 L3123.29 1484.25 L3101.34 1484.25 L3101.34 1480.32 Q3104.01 1477.56 3108.59 1472.93 Q3113.19 1468.28 3114.38 1466.94 Q3116.62 1464.41 3117.5 1462.68 Q3118.4 1460.92 3118.4 1459.23 Q3118.4 1456.47 3116.46 1454.74 Q3114.54 1453 3111.44 1453 Q3109.24 1453 3106.78 1453.77 Q3104.35 1454.53 3101.57 1456.08 L3101.57 1451.36 Q3104.4 1450.22 3106.85 1449.65 Q3109.31 1449.07 3111.34 1449.07 Q3116.71 1449.07 3119.91 1451.75 Q3123.1 1454.44 3123.1 1458.93 Q3123.1 1461.06 3122.29 1462.98 Q3121.51 1464.88 3119.4 1467.47 Q3118.82 1468.14 3115.72 1471.36 Q3112.62 1474.55 3106.97 1480.32 Z\" fill=\"#000000\" fill-rule=\"evenodd\" fill-opacity=\"1\" /><path clip-path=\"url(#clip5200)\" d=\"M 0 0 M3138.36 1452.77 Q3134.75 1452.77 3132.92 1456.34 Q3131.11 1459.88 3131.11 1467.01 Q3131.11 1474.11 3132.92 1477.68 Q3134.75 1481.22 3138.36 1481.22 Q3141.99 1481.22 3143.8 1477.68 Q3145.63 1474.11 3145.63 1467.01 Q3145.63 1459.88 3143.8 1456.34 Q3141.99 1452.77 3138.36 1452.77 M3138.36 1449.07 Q3144.17 1449.07 3147.22 1453.67 Q3150.3 1458.26 3150.3 1467.01 Q3150.3 1475.73 3147.22 1480.34 Q3144.17 1484.92 3138.36 1484.92 Q3132.55 1484.92 3129.47 1480.34 Q3126.41 1475.73 3126.41 1467.01 Q3126.41 1458.26 3129.47 1453.67 Q3132.55 1449.07 3138.36 1449.07 Z\" fill=\"#000000\" fill-rule=\"evenodd\" fill-opacity=\"1\" /><path clip-path=\"url(#clip5200)\" d=\"M 0 0 M3190.7 1453.53 L3190.7 1480.41 L3196.35 1480.41 Q3203.5 1480.41 3206.81 1477.17 Q3210.15 1473.93 3210.15 1466.94 Q3210.15 1459.99 3206.81 1456.78 Q3203.5 1453.53 3196.35 1453.53 L3190.7 1453.53 M3186.02 1449.69 L3195.63 1449.69 Q3205.68 1449.69 3210.38 1453.88 Q3215.08 1458.05 3215.08 1466.94 Q3215.08 1475.87 3210.35 1480.06 Q3205.63 1484.25 3195.63 1484.25 L3186.02 1484.25 L3186.02 1449.69 Z\" fill=\"#000000\" fill-rule=\"evenodd\" fill-opacity=\"1\" /><path clip-path=\"url(#clip5200)\" d=\"M 0 0 M3241.72 1470.22 L3241.72 1472.31 L3222.14 1472.31 Q3222.41 1476.71 3224.77 1479.02 Q3227.16 1481.31 3231.39 1481.31 Q3233.85 1481.31 3236.14 1480.71 Q3238.46 1480.11 3240.72 1478.9 L3240.72 1482.93 Q3238.43 1483.9 3236.02 1484.41 Q3233.62 1484.92 3231.14 1484.92 Q3224.94 1484.92 3221.3 1481.31 Q3217.69 1477.7 3217.69 1471.54 Q3217.69 1465.18 3221.12 1461.45 Q3224.57 1457.7 3230.4 1457.7 Q3235.63 1457.7 3238.66 1461.08 Q3241.72 1464.44 3241.72 1470.22 M3237.46 1468.97 Q3237.41 1465.48 3235.49 1463.4 Q3233.59 1461.31 3230.45 1461.31 Q3226.88 1461.31 3224.73 1463.33 Q3222.6 1465.34 3222.27 1469 L3237.46 1468.97 Z\" fill=\"#000000\" fill-rule=\"evenodd\" fill-opacity=\"1\" /><path clip-path=\"url(#clip5200)\" d=\"M 0 0 M3264.84 1459.32 L3264.84 1463.3 Q3263.04 1462.31 3261.21 1461.82 Q3259.4 1461.31 3257.55 1461.31 Q3253.41 1461.31 3251.12 1463.95 Q3248.83 1466.57 3248.83 1471.31 Q3248.83 1476.06 3251.12 1478.7 Q3253.41 1481.31 3257.55 1481.31 Q3259.4 1481.31 3261.21 1480.83 Q3263.04 1480.32 3264.84 1479.32 L3264.84 1483.26 Q3263.06 1484.09 3261.14 1484.51 Q3259.24 1484.92 3257.09 1484.92 Q3251.23 1484.92 3247.78 1481.24 Q3244.33 1477.56 3244.33 1471.31 Q3244.33 1464.97 3247.81 1461.34 Q3251.3 1457.7 3257.37 1457.7 Q3259.33 1457.7 3261.21 1458.12 Q3263.08 1458.51 3264.84 1459.32 Z\" fill=\"#000000\" fill-rule=\"evenodd\" fill-opacity=\"1\" /><path clip-path=\"url(#clip5200)\" d=\"M 0 0 M3269.91 1478.37 L3274.8 1478.37 L3274.8 1484.25 L3269.91 1484.25 L3269.91 1478.37 Z\" fill=\"#000000\" fill-rule=\"evenodd\" fill-opacity=\"1\" /><path clip-path=\"url(#clip5200)\" d=\"M 0 0 M3294.98 1449.69 L3313.34 1449.69 L3313.34 1453.63 L3299.26 1453.63 L3299.26 1462.1 Q3300.28 1461.75 3301.3 1461.59 Q3302.32 1461.4 3303.34 1461.4 Q3309.13 1461.4 3312.51 1464.58 Q3315.89 1467.75 3315.89 1473.16 Q3315.89 1478.74 3312.41 1481.84 Q3308.94 1484.92 3302.62 1484.92 Q3300.45 1484.92 3298.18 1484.55 Q3295.93 1484.18 3293.52 1483.44 L3293.52 1478.74 Q3295.61 1479.88 3297.83 1480.43 Q3300.05 1480.99 3302.53 1480.99 Q3306.53 1480.99 3308.87 1478.88 Q3311.21 1476.78 3311.21 1473.16 Q3311.21 1469.55 3308.87 1467.45 Q3306.53 1465.34 3302.53 1465.34 Q3300.65 1465.34 3298.78 1465.76 Q3296.93 1466.17 3294.98 1467.05 L3294.98 1449.69 Z\" fill=\"#000000\" fill-rule=\"evenodd\" fill-opacity=\"1\" /><path clip-path=\"url(#clip5200)\" d=\"M 0 0 M3321.44 1478.37 L3326.33 1478.37 L3326.33 1482.35 L3322.53 1489.76 L3319.54 1489.76 L3321.44 1482.35 L3321.44 1478.37 Z\" fill=\"#000000\" fill-rule=\"evenodd\" fill-opacity=\"1\" /><path clip-path=\"url(#clip5200)\" d=\"M 0 0 M3350.49 1480.32 L3366.81 1480.32 L3366.81 1484.25 L3344.87 1484.25 L3344.87 1480.32 Q3347.53 1477.56 3352.11 1472.93 Q3356.72 1468.28 3357.9 1466.94 Q3360.14 1464.41 3361.02 1462.68 Q3361.93 1460.92 3361.93 1459.23 Q3361.93 1456.47 3359.98 1454.74 Q3358.06 1453 3354.96 1453 Q3352.76 1453 3350.31 1453.77 Q3347.88 1454.53 3345.1 1456.08 L3345.1 1451.36 Q3347.92 1450.22 3350.38 1449.65 Q3352.83 1449.07 3354.87 1449.07 Q3360.24 1449.07 3363.43 1451.75 Q3366.63 1454.44 3366.63 1458.93 Q3366.63 1461.06 3365.82 1462.98 Q3365.03 1464.88 3362.92 1467.47 Q3362.34 1468.14 3359.24 1471.36 Q3356.14 1474.55 3350.49 1480.32 Z\" fill=\"#000000\" fill-rule=\"evenodd\" fill-opacity=\"1\" /><path clip-path=\"url(#clip5200)\" d=\"M 0 0 M3381.88 1452.77 Q3378.27 1452.77 3376.44 1456.34 Q3374.63 1459.88 3374.63 1467.01 Q3374.63 1474.11 3376.44 1477.68 Q3378.27 1481.22 3381.88 1481.22 Q3385.51 1481.22 3387.32 1477.68 Q3389.15 1474.11 3389.15 1467.01 Q3389.15 1459.88 3387.32 1456.34 Q3385.51 1452.77 3381.88 1452.77 M3381.88 1449.07 Q3387.69 1449.07 3390.75 1453.67 Q3393.82 1458.26 3393.82 1467.01 Q3393.82 1475.73 3390.75 1480.34 Q3387.69 1484.92 3381.88 1484.92 Q3376.07 1484.92 3372.99 1480.34 Q3369.94 1475.73 3369.94 1467.01 Q3369.94 1458.26 3372.99 1453.67 Q3376.07 1449.07 3381.88 1449.07 Z\" fill=\"#000000\" fill-rule=\"evenodd\" fill-opacity=\"1\" /><path clip-path=\"url(#clip5200)\" d=\"M 0 0 M3396.53 1453.53 L3396.53 1480.41 L3402.18 1480.41 Q3409.33 1480.41 3412.64 1477.17 Q3415.97 1473.93 3415.97 1466.94 Q3415.97 1459.99 3412.64 1456.78 Q3409.33 1453.53 3402.18 1453.53 L3396.53 1453.53 M3391.85 1449.69 L3401.46 1449.69 Q3411.51 1449.69 3416.2 1453.88 Q3420.9 1458.05 3420.9 1466.94 Q3420.9 1475.87 3416.18 1480.06 Q3411.46 1484.25 3401.46 1484.25 L3391.85 1484.25 L3391.85 1449.69 Z\" fill=\"#000000\" fill-rule=\"evenodd\" fill-opacity=\"1\" /><path clip-path=\"url(#clip5200)\" d=\"M 0 0 M3447.55 1470.22 L3447.55 1472.31 L3427.96 1472.31 Q3428.24 1476.71 3430.6 1479.02 Q3432.99 1481.31 3437.22 1481.31 Q3439.68 1481.31 3441.97 1480.71 Q3444.28 1480.11 3446.55 1478.9 L3446.55 1482.93 Q3444.26 1483.9 3441.85 1484.41 Q3439.44 1484.92 3436.97 1484.92 Q3430.76 1484.92 3427.13 1481.31 Q3423.52 1477.7 3423.52 1471.54 Q3423.52 1465.18 3426.94 1461.45 Q3430.39 1457.7 3436.23 1457.7 Q3441.46 1457.7 3444.49 1461.08 Q3447.55 1464.44 3447.55 1470.22 M3443.29 1468.97 Q3443.24 1465.48 3441.32 1463.4 Q3439.42 1461.31 3436.27 1461.31 Q3432.71 1461.31 3430.56 1463.33 Q3428.43 1465.34 3428.1 1469 L3443.29 1468.97 Z\" fill=\"#000000\" fill-rule=\"evenodd\" fill-opacity=\"1\" /><path clip-path=\"url(#clip5200)\" d=\"M 0 0 M3470.67 1459.32 L3470.67 1463.3 Q3468.87 1462.31 3467.04 1461.82 Q3465.23 1461.31 3463.38 1461.31 Q3459.24 1461.31 3456.94 1463.95 Q3454.65 1466.57 3454.65 1471.31 Q3454.65 1476.06 3456.94 1478.7 Q3459.24 1481.31 3463.38 1481.31 Q3465.23 1481.31 3467.04 1480.83 Q3468.87 1480.32 3470.67 1479.32 L3470.67 1483.26 Q3468.89 1484.09 3466.97 1484.51 Q3465.07 1484.92 3462.92 1484.92 Q3457.06 1484.92 3453.61 1481.24 Q3450.16 1477.56 3450.16 1471.31 Q3450.16 1464.97 3453.63 1461.34 Q3457.13 1457.7 3463.19 1457.7 Q3465.16 1457.7 3467.04 1458.12 Q3468.91 1458.51 3470.67 1459.32 Z\" fill=\"#000000\" fill-rule=\"evenodd\" fill-opacity=\"1\" /><path clip-path=\"url(#clip5200)\" d=\"M 0 0 M3475.74 1478.37 L3480.63 1478.37 L3480.63 1484.25 L3475.74 1484.25 L3475.74 1478.37 Z\" fill=\"#000000\" fill-rule=\"evenodd\" fill-opacity=\"1\" /><path clip-path=\"url(#clip5200)\" d=\"M 0 0 M3501.57 1480.32 L3509.21 1480.32 L3509.21 1453.95 L3500.9 1455.62 L3500.9 1451.36 L3509.17 1449.69 L3513.84 1449.69 L3513.84 1480.32 L3521.48 1480.32 L3521.48 1484.25 L3501.57 1484.25 L3501.57 1480.32 Z\" fill=\"#000000\" fill-rule=\"evenodd\" fill-opacity=\"1\" /><path clip-path=\"url(#clip5200)\" d=\"M 0 0 M3527.36 1480.32 L3535 1480.32 L3535 1453.95 L3526.69 1455.62 L3526.69 1451.36 L3534.95 1449.69 L3539.63 1449.69 L3539.63 1480.32 L3547.27 1480.32 L3547.27 1484.25 L3527.36 1484.25 L3527.36 1480.32 Z\" fill=\"#000000\" fill-rule=\"evenodd\" fill-opacity=\"1\" /><path clip-path=\"url(#clip5200)\" d=\"M 0 0 M3552.82 1478.37 L3557.71 1478.37 L3557.71 1482.35 L3553.91 1489.76 L3550.93 1489.76 L3552.82 1482.35 L3552.82 1478.37 Z\" fill=\"#000000\" fill-rule=\"evenodd\" fill-opacity=\"1\" /><path clip-path=\"url(#clip5200)\" d=\"M 0 0 M3581.87 1480.32 L3598.19 1480.32 L3598.19 1484.25 L3576.25 1484.25 L3576.25 1480.32 Q3578.91 1477.56 3583.5 1472.93 Q3588.1 1468.28 3589.28 1466.94 Q3591.53 1464.41 3592.41 1462.68 Q3593.31 1460.92 3593.31 1459.23 Q3593.31 1456.47 3591.37 1454.74 Q3589.44 1453 3586.34 1453 Q3584.14 1453 3581.69 1453.77 Q3579.26 1454.53 3576.48 1456.08 L3576.48 1451.36 Q3579.31 1450.22 3581.76 1449.65 Q3584.21 1449.07 3586.25 1449.07 Q3591.62 1449.07 3594.81 1451.75 Q3598.01 1454.44 3598.01 1458.93 Q3598.01 1461.06 3597.2 1462.98 Q3596.41 1464.88 3594.31 1467.47 Q3593.73 1468.14 3590.62 1471.36 Q3587.52 1474.55 3581.87 1480.32 Z\" fill=\"#000000\" fill-rule=\"evenodd\" fill-opacity=\"1\" /><path clip-path=\"url(#clip5200)\" d=\"M 0 0 M3613.26 1452.77 Q3609.65 1452.77 3607.82 1456.34 Q3606.02 1459.88 3606.02 1467.01 Q3606.02 1474.11 3607.82 1477.68 Q3609.65 1481.22 3613.26 1481.22 Q3616.9 1481.22 3618.7 1477.68 Q3620.53 1474.11 3620.53 1467.01 Q3620.53 1459.88 3618.7 1456.34 Q3616.9 1452.77 3613.26 1452.77 M3613.26 1449.07 Q3619.07 1449.07 3622.13 1453.67 Q3625.21 1458.26 3625.21 1467.01 Q3625.21 1475.73 3622.13 1480.34 Q3619.07 1484.92 3613.26 1484.92 Q3607.45 1484.92 3604.37 1480.34 Q3601.32 1475.73 3601.32 1467.01 Q3601.32 1458.26 3604.37 1453.67 Q3607.45 1449.07 3613.26 1449.07 Z\" fill=\"#000000\" fill-rule=\"evenodd\" fill-opacity=\"1\" /><path clip-path=\"url(#clip5200)\" d=\"M 0 0 M3651 1453.53 L3651 1480.41 L3656.65 1480.41 Q3663.8 1480.41 3667.11 1477.17 Q3670.45 1473.93 3670.45 1466.94 Q3670.45 1459.99 3667.11 1456.78 Q3663.8 1453.53 3656.65 1453.53 L3651 1453.53 M3646.32 1449.69 L3655.93 1449.69 Q3665.98 1449.69 3670.68 1453.88 Q3675.38 1458.05 3675.38 1466.94 Q3675.38 1475.87 3670.65 1480.06 Q3665.93 1484.25 3655.93 1484.25 L3646.32 1484.25 L3646.32 1449.69 Z\" fill=\"#000000\" fill-rule=\"evenodd\" fill-opacity=\"1\" /><path clip-path=\"url(#clip5200)\" d=\"M 0 0 M3702.02 1470.22 L3702.02 1472.31 L3682.44 1472.31 Q3682.71 1476.71 3685.07 1479.02 Q3687.46 1481.31 3691.7 1481.31 Q3694.15 1481.31 3696.44 1480.71 Q3698.76 1480.11 3701.02 1478.9 L3701.02 1482.93 Q3698.73 1483.9 3696.32 1484.41 Q3693.92 1484.92 3691.44 1484.92 Q3685.24 1484.92 3681.6 1481.31 Q3677.99 1477.7 3677.99 1471.54 Q3677.99 1465.18 3681.42 1461.45 Q3684.87 1457.7 3690.7 1457.7 Q3695.93 1457.7 3698.96 1461.08 Q3702.02 1464.44 3702.02 1470.22 M3697.76 1468.97 Q3697.71 1465.48 3695.79 1463.4 Q3693.89 1461.31 3690.75 1461.31 Q3687.18 1461.31 3685.03 1463.33 Q3682.9 1465.34 3682.57 1469 L3697.76 1468.97 Z\" fill=\"#000000\" fill-rule=\"evenodd\" fill-opacity=\"1\" /><path clip-path=\"url(#clip5200)\" d=\"M 0 0 M3725.14 1459.32 L3725.14 1463.3 Q3723.34 1462.31 3721.51 1461.82 Q3719.7 1461.31 3717.85 1461.31 Q3713.71 1461.31 3711.42 1463.95 Q3709.13 1466.57 3709.13 1471.31 Q3709.13 1476.06 3711.42 1478.7 Q3713.71 1481.31 3717.85 1481.31 Q3719.7 1481.31 3721.51 1480.83 Q3723.34 1480.32 3725.14 1479.32 L3725.14 1483.26 Q3723.36 1484.09 3721.44 1484.51 Q3719.54 1484.92 3717.39 1484.92 Q3711.53 1484.92 3708.08 1481.24 Q3704.63 1477.56 3704.63 1471.31 Q3704.63 1464.97 3708.11 1461.34 Q3711.6 1457.7 3717.67 1457.7 Q3719.63 1457.7 3721.51 1458.12 Q3723.38 1458.51 3725.14 1459.32 Z\" fill=\"#000000\" fill-rule=\"evenodd\" fill-opacity=\"1\" /><path clip-path=\"url(#clip5200)\" d=\"M 0 0 M3730.21 1478.37 L3735.1 1478.37 L3735.1 1484.25 L3730.21 1484.25 L3730.21 1478.37 Z\" fill=\"#000000\" fill-rule=\"evenodd\" fill-opacity=\"1\" /><path clip-path=\"url(#clip5200)\" d=\"M 0 0 M3756.05 1480.32 L3763.69 1480.32 L3763.69 1453.95 L3755.38 1455.62 L3755.38 1451.36 L3763.64 1449.69 L3768.32 1449.69 L3768.32 1480.32 L3775.95 1480.32 L3775.95 1484.25 L3756.05 1484.25 L3756.05 1480.32 Z\" fill=\"#000000\" fill-rule=\"evenodd\" fill-opacity=\"1\" /><path clip-path=\"url(#clip5200)\" d=\"M 0 0 M3791.02 1467.84 Q3787.69 1467.84 3785.77 1469.62 Q3783.87 1471.4 3783.87 1474.53 Q3783.87 1477.65 3785.77 1479.44 Q3787.69 1481.22 3791.02 1481.22 Q3794.36 1481.22 3796.28 1479.44 Q3798.2 1477.63 3798.2 1474.53 Q3798.2 1471.4 3796.28 1469.62 Q3794.38 1467.84 3791.02 1467.84 M3786.35 1465.85 Q3783.34 1465.11 3781.65 1463.05 Q3779.98 1460.99 3779.98 1458.03 Q3779.98 1453.88 3782.92 1451.47 Q3785.88 1449.07 3791.02 1449.07 Q3796.19 1449.07 3799.13 1451.47 Q3802.06 1453.88 3802.06 1458.03 Q3802.06 1460.99 3800.38 1463.05 Q3798.71 1465.11 3795.72 1465.85 Q3799.1 1466.64 3800.98 1468.93 Q3802.88 1471.22 3802.88 1474.53 Q3802.88 1479.55 3799.8 1482.24 Q3796.74 1484.92 3791.02 1484.92 Q3785.31 1484.92 3782.23 1482.24 Q3779.17 1479.55 3779.17 1474.53 Q3779.17 1471.22 3781.07 1468.93 Q3782.97 1466.64 3786.35 1465.85 M3784.63 1458.46 Q3784.63 1461.15 3786.3 1462.65 Q3787.99 1464.16 3791.02 1464.16 Q3794.03 1464.16 3795.72 1462.65 Q3797.44 1461.15 3797.44 1458.46 Q3797.44 1455.78 3795.72 1454.28 Q3794.03 1452.77 3791.02 1452.77 Q3787.99 1452.77 3786.3 1454.28 Q3784.63 1455.78 3784.63 1458.46 Z\" fill=\"#000000\" fill-rule=\"evenodd\" fill-opacity=\"1\" /><path clip-path=\"url(#clip5200)\" d=\"M 0 0 M3808.43 1478.37 L3813.31 1478.37 L3813.31 1482.35 L3809.52 1489.76 L3806.53 1489.76 L3808.43 1482.35 L3808.43 1478.37 Z\" fill=\"#000000\" fill-rule=\"evenodd\" fill-opacity=\"1\" /><path clip-path=\"url(#clip5200)\" d=\"M 0 0 M3837.48 1480.32 L3853.8 1480.32 L3853.8 1484.25 L3831.86 1484.25 L3831.86 1480.32 Q3834.52 1477.56 3839.1 1472.93 Q3843.71 1468.28 3844.89 1466.94 Q3847.13 1464.41 3848.01 1462.68 Q3848.92 1460.92 3848.92 1459.23 Q3848.92 1456.47 3846.97 1454.74 Q3845.05 1453 3841.95 1453 Q3839.75 1453 3837.3 1453.77 Q3834.87 1454.53 3832.09 1456.08 L3832.09 1451.36 Q3834.91 1450.22 3837.37 1449.65 Q3839.82 1449.07 3841.86 1449.07 Q3847.23 1449.07 3850.42 1451.75 Q3853.62 1454.44 3853.62 1458.93 Q3853.62 1461.06 3852.81 1462.98 Q3852.02 1464.88 3849.91 1467.47 Q3849.33 1468.14 3846.23 1471.36 Q3843.13 1474.55 3837.48 1480.32 Z\" fill=\"#000000\" fill-rule=\"evenodd\" fill-opacity=\"1\" /><path clip-path=\"url(#clip5200)\" d=\"M 0 0 M3868.87 1452.77 Q3865.26 1452.77 3863.43 1456.34 Q3861.62 1459.88 3861.62 1467.01 Q3861.62 1474.11 3863.43 1477.68 Q3865.26 1481.22 3868.87 1481.22 Q3872.5 1481.22 3874.31 1477.68 Q3876.14 1474.11 3876.14 1467.01 Q3876.14 1459.88 3874.31 1456.34 Q3872.5 1452.77 3868.87 1452.77 M3868.87 1449.07 Q3874.68 1449.07 3877.74 1453.67 Q3880.81 1458.26 3880.81 1467.01 Q3880.81 1475.73 3877.74 1480.34 Q3874.68 1484.92 3868.87 1484.92 Q3863.06 1484.92 3859.98 1480.34 Q3856.93 1475.73 3856.93 1467.01 Q3856.93 1458.26 3859.98 1453.67 Q3863.06 1449.07 3868.87 1449.07 Z\" fill=\"#000000\" fill-rule=\"evenodd\" fill-opacity=\"1\" /><path clip-path=\"url(#clip5200)\" d=\"M 0 0 M118.398 1270.83 L134.717 1270.83 L134.717 1274.77 L112.773 1274.77 L112.773 1270.83 Q115.435 1268.08 120.018 1263.45 Q124.625 1258.8 125.805 1257.45 Q128.051 1254.93 128.93 1253.19 Q129.833 1251.43 129.833 1249.74 Q129.833 1246.99 127.889 1245.25 Q125.967 1243.52 122.866 1243.52 Q120.667 1243.52 118.213 1244.28 Q115.782 1245.05 113.005 1246.6 L113.005 1241.87 Q115.829 1240.74 118.282 1240.16 Q120.736 1239.58 122.773 1239.58 Q128.143 1239.58 131.338 1242.27 Q134.532 1244.95 134.532 1249.44 Q134.532 1251.57 133.722 1253.49 Q132.935 1255.39 130.829 1257.99 Q130.25 1258.66 127.148 1261.87 Q124.046 1265.07 118.398 1270.83 Z\" fill=\"#000000\" fill-rule=\"evenodd\" fill-opacity=\"1\" /><path clip-path=\"url(#clip5200)\" d=\"M 0 0 M138.606 1240.21 L160.828 1240.21 L160.828 1242.2 L148.282 1274.77 L143.398 1274.77 L155.203 1244.14 L138.606 1244.14 L138.606 1240.21 Z\" fill=\"#000000\" fill-rule=\"evenodd\" fill-opacity=\"1\" /><path clip-path=\"url(#clip5200)\" d=\"M 0 0 M175.898 1243.29 Q172.287 1243.29 170.458 1246.85 Q168.652 1250.39 168.652 1257.52 Q168.652 1264.63 170.458 1268.19 Q172.287 1271.74 175.898 1271.74 Q179.532 1271.74 181.338 1268.19 Q183.166 1264.63 183.166 1257.52 Q183.166 1250.39 181.338 1246.85 Q179.532 1243.29 175.898 1243.29 M175.898 1239.58 Q181.708 1239.58 184.763 1244.19 Q187.842 1248.77 187.842 1257.52 Q187.842 1266.25 184.763 1270.86 Q181.708 1275.44 175.898 1275.44 Q170.088 1275.44 167.009 1270.86 Q163.953 1266.25 163.953 1257.52 Q163.953 1248.77 167.009 1244.19 Q170.088 1239.58 175.898 1239.58 Z\" fill=\"#000000\" fill-rule=\"evenodd\" fill-opacity=\"1\" /><path clip-path=\"url(#clip5200)\" d=\"M 0 0 M202.912 1243.29 Q199.3 1243.29 197.472 1246.85 Q195.666 1250.39 195.666 1257.52 Q195.666 1264.63 197.472 1268.19 Q199.3 1271.74 202.912 1271.74 Q206.546 1271.74 208.351 1268.19 Q210.18 1264.63 210.18 1257.52 Q210.18 1250.39 208.351 1246.85 Q206.546 1243.29 202.912 1243.29 M202.912 1239.58 Q208.722 1239.58 211.777 1244.19 Q214.856 1248.77 214.856 1257.52 Q214.856 1266.25 211.777 1270.86 Q208.722 1275.44 202.912 1275.44 Q197.101 1275.44 194.023 1270.86 Q190.967 1266.25 190.967 1257.52 Q190.967 1248.77 194.023 1244.19 Q197.101 1239.58 202.912 1239.58 Z\" fill=\"#000000\" fill-rule=\"evenodd\" fill-opacity=\"1\" /><path clip-path=\"url(#clip5200)\" d=\"M 0 0 M229.925 1243.29 Q226.314 1243.29 224.485 1246.85 Q222.68 1250.39 222.68 1257.52 Q222.68 1264.63 224.485 1268.19 Q226.314 1271.74 229.925 1271.74 Q233.56 1271.74 235.365 1268.19 Q237.194 1264.63 237.194 1257.52 Q237.194 1250.39 235.365 1246.85 Q233.56 1243.29 229.925 1243.29 M229.925 1239.58 Q235.735 1239.58 238.791 1244.19 Q241.87 1248.77 241.87 1257.52 Q241.87 1266.25 238.791 1270.86 Q235.735 1275.44 229.925 1275.44 Q224.115 1275.44 221.036 1270.86 Q217.981 1266.25 217.981 1257.52 Q217.981 1248.77 221.036 1244.19 Q224.115 1239.58 229.925 1239.58 Z\" fill=\"#000000\" fill-rule=\"evenodd\" fill-opacity=\"1\" /><path clip-path=\"url(#clip5200)\" d=\"M 0 0 M117.588 919.723 L133.907 919.723 L133.907 923.658 L111.963 923.658 L111.963 919.723 Q114.625 916.968 119.208 912.339 Q123.815 907.686 124.995 906.343 Q127.241 903.82 128.12 902.084 Q129.023 900.325 129.023 898.635 Q129.023 895.88 127.079 894.144 Q125.157 892.408 122.055 892.408 Q119.856 892.408 117.403 893.172 Q114.972 893.936 112.194 895.487 L112.194 890.765 Q115.018 889.63 117.472 889.052 Q119.926 888.473 121.963 888.473 Q127.333 888.473 130.528 891.158 Q133.722 893.843 133.722 898.334 Q133.722 900.464 132.912 902.385 Q132.125 904.283 130.018 906.876 Q129.44 907.547 126.338 910.765 Q123.236 913.959 117.588 919.723 Z\" fill=\"#000000\" fill-rule=\"evenodd\" fill-opacity=\"1\" /><path clip-path=\"url(#clip5200)\" d=\"M 0 0 M148.977 907.246 Q145.643 907.246 143.722 909.028 Q141.824 910.811 141.824 913.936 Q141.824 917.061 143.722 918.843 Q145.643 920.626 148.977 920.626 Q152.31 920.626 154.231 918.843 Q156.153 917.038 156.153 913.936 Q156.153 910.811 154.231 909.028 Q152.333 907.246 148.977 907.246 M144.301 905.255 Q141.291 904.515 139.602 902.454 Q137.935 900.394 137.935 897.431 Q137.935 893.288 140.875 890.88 Q143.838 888.473 148.977 888.473 Q154.139 888.473 157.078 890.88 Q160.018 893.288 160.018 897.431 Q160.018 900.394 158.328 902.454 Q156.662 904.515 153.676 905.255 Q157.055 906.042 158.93 908.334 Q160.828 910.626 160.828 913.936 Q160.828 918.959 157.75 921.644 Q154.694 924.329 148.977 924.329 Q143.259 924.329 140.18 921.644 Q137.125 918.959 137.125 913.936 Q137.125 910.626 139.023 908.334 Q140.921 906.042 144.301 905.255 M142.588 897.871 Q142.588 900.556 144.254 902.061 Q145.944 903.565 148.977 903.565 Q151.986 903.565 153.676 902.061 Q155.389 900.556 155.389 897.871 Q155.389 895.186 153.676 893.681 Q151.986 892.177 148.977 892.177 Q145.944 892.177 144.254 893.681 Q142.588 895.186 142.588 897.871 Z\" fill=\"#000000\" fill-rule=\"evenodd\" fill-opacity=\"1\" /><path clip-path=\"url(#clip5200)\" d=\"M 0 0 M175.898 892.177 Q172.287 892.177 170.458 895.741 Q168.652 899.283 168.652 906.413 Q168.652 913.519 170.458 917.084 Q172.287 920.626 175.898 920.626 Q179.532 920.626 181.338 917.084 Q183.166 913.519 183.166 906.413 Q183.166 899.283 181.338 895.741 Q179.532 892.177 175.898 892.177 M175.898 888.473 Q181.708 888.473 184.763 893.079 Q187.842 897.663 187.842 906.413 Q187.842 915.139 184.763 919.746 Q181.708 924.329 175.898 924.329 Q170.088 924.329 167.009 919.746 Q163.953 915.139 163.953 906.413 Q163.953 897.663 167.009 893.079 Q170.088 888.473 175.898 888.473 Z\" fill=\"#000000\" fill-rule=\"evenodd\" fill-opacity=\"1\" /><path clip-path=\"url(#clip5200)\" d=\"M 0 0 M202.912 892.177 Q199.3 892.177 197.472 895.741 Q195.666 899.283 195.666 906.413 Q195.666 913.519 197.472 917.084 Q199.3 920.626 202.912 920.626 Q206.546 920.626 208.351 917.084 Q210.18 913.519 210.18 906.413 Q210.18 899.283 208.351 895.741 Q206.546 892.177 202.912 892.177 M202.912 888.473 Q208.722 888.473 211.777 893.079 Q214.856 897.663 214.856 906.413 Q214.856 915.139 211.777 919.746 Q208.722 924.329 202.912 924.329 Q197.101 924.329 194.023 919.746 Q190.967 915.139 190.967 906.413 Q190.967 897.663 194.023 893.079 Q197.101 888.473 202.912 888.473 Z\" fill=\"#000000\" fill-rule=\"evenodd\" fill-opacity=\"1\" /><path clip-path=\"url(#clip5200)\" d=\"M 0 0 M229.925 892.177 Q226.314 892.177 224.485 895.741 Q222.68 899.283 222.68 906.413 Q222.68 913.519 224.485 917.084 Q226.314 920.626 229.925 920.626 Q233.56 920.626 235.365 917.084 Q237.194 913.519 237.194 906.413 Q237.194 899.283 235.365 895.741 Q233.56 892.177 229.925 892.177 M229.925 888.473 Q235.735 888.473 238.791 893.079 Q241.87 897.663 241.87 906.413 Q241.87 915.139 238.791 919.746 Q235.735 924.329 229.925 924.329 Q224.115 924.329 221.036 919.746 Q217.981 915.139 217.981 906.413 Q217.981 897.663 221.036 893.079 Q224.115 888.473 229.925 888.473 Z\" fill=\"#000000\" fill-rule=\"evenodd\" fill-opacity=\"1\" /><path clip-path=\"url(#clip5200)\" d=\"M 0 0 M117.68 568.613 L134 568.613 L134 572.548 L112.056 572.548 L112.056 568.613 Q114.718 565.858 119.301 561.229 Q123.907 556.576 125.088 555.234 Q127.333 552.71 128.213 550.974 Q129.116 549.215 129.116 547.525 Q129.116 544.771 127.171 543.035 Q125.25 541.298 122.148 541.298 Q119.949 541.298 117.495 542.062 Q115.065 542.826 112.287 544.377 L112.287 539.655 Q115.111 538.521 117.565 537.942 Q120.018 537.363 122.055 537.363 Q127.426 537.363 130.62 540.048 Q133.815 542.734 133.815 547.224 Q133.815 549.354 133.004 551.275 Q132.217 553.173 130.111 555.766 Q129.532 556.437 126.43 559.655 Q123.329 562.849 117.68 568.613 Z\" fill=\"#000000\" fill-rule=\"evenodd\" fill-opacity=\"1\" /><path clip-path=\"url(#clip5200)\" d=\"M 0 0 M139.208 571.831 L139.208 567.571 Q140.967 568.405 142.773 568.845 Q144.578 569.284 146.315 569.284 Q150.944 569.284 153.375 566.183 Q155.828 563.058 156.176 556.715 Q154.833 558.706 152.773 559.771 Q150.713 560.835 148.213 560.835 Q143.028 560.835 139.995 557.71 Q136.986 554.562 136.986 549.122 Q136.986 543.798 140.134 540.581 Q143.282 537.363 148.514 537.363 Q154.509 537.363 157.657 541.97 Q160.828 546.553 160.828 555.303 Q160.828 563.474 156.94 568.358 Q153.074 573.22 146.523 573.22 Q144.764 573.22 142.958 572.872 Q141.153 572.525 139.208 571.831 M148.514 557.178 Q151.662 557.178 153.49 555.025 Q155.342 552.872 155.342 549.122 Q155.342 545.396 153.49 543.243 Q151.662 541.067 148.514 541.067 Q145.366 541.067 143.514 543.243 Q141.685 545.396 141.685 549.122 Q141.685 552.872 143.514 555.025 Q145.366 557.178 148.514 557.178 Z\" fill=\"#000000\" fill-rule=\"evenodd\" fill-opacity=\"1\" /><path clip-path=\"url(#clip5200)\" d=\"M 0 0 M175.898 541.067 Q172.287 541.067 170.458 544.632 Q168.652 548.173 168.652 555.303 Q168.652 562.409 170.458 565.974 Q172.287 569.516 175.898 569.516 Q179.532 569.516 181.338 565.974 Q183.166 562.409 183.166 555.303 Q183.166 548.173 181.338 544.632 Q179.532 541.067 175.898 541.067 M175.898 537.363 Q181.708 537.363 184.763 541.97 Q187.842 546.553 187.842 555.303 Q187.842 564.03 184.763 568.636 Q181.708 573.22 175.898 573.22 Q170.088 573.22 167.009 568.636 Q163.953 564.03 163.953 555.303 Q163.953 546.553 167.009 541.97 Q170.088 537.363 175.898 537.363 Z\" fill=\"#000000\" fill-rule=\"evenodd\" fill-opacity=\"1\" /><path clip-path=\"url(#clip5200)\" d=\"M 0 0 M202.912 541.067 Q199.3 541.067 197.472 544.632 Q195.666 548.173 195.666 555.303 Q195.666 562.409 197.472 565.974 Q199.3 569.516 202.912 569.516 Q206.546 569.516 208.351 565.974 Q210.18 562.409 210.18 555.303 Q210.18 548.173 208.351 544.632 Q206.546 541.067 202.912 541.067 M202.912 537.363 Q208.722 537.363 211.777 541.97 Q214.856 546.553 214.856 555.303 Q214.856 564.03 211.777 568.636 Q208.722 573.22 202.912 573.22 Q197.101 573.22 194.023 568.636 Q190.967 564.03 190.967 555.303 Q190.967 546.553 194.023 541.97 Q197.101 537.363 202.912 537.363 Z\" fill=\"#000000\" fill-rule=\"evenodd\" fill-opacity=\"1\" /><path clip-path=\"url(#clip5200)\" d=\"M 0 0 M229.925 541.067 Q226.314 541.067 224.485 544.632 Q222.68 548.173 222.68 555.303 Q222.68 562.409 224.485 565.974 Q226.314 569.516 229.925 569.516 Q233.56 569.516 235.365 565.974 Q237.194 562.409 237.194 555.303 Q237.194 548.173 235.365 544.632 Q233.56 541.067 229.925 541.067 M229.925 537.363 Q235.735 537.363 238.791 541.97 Q241.87 546.553 241.87 555.303 Q241.87 564.03 238.791 568.636 Q235.735 573.22 229.925 573.22 Q224.115 573.22 221.036 568.636 Q217.981 564.03 217.981 555.303 Q217.981 546.553 221.036 541.97 Q224.115 537.363 229.925 537.363 Z\" fill=\"#000000\" fill-rule=\"evenodd\" fill-opacity=\"1\" /><path clip-path=\"url(#clip5200)\" d=\"M 0 0 M126.685 202.804 Q130.042 203.522 131.917 205.79 Q133.815 208.059 133.815 211.392 Q133.815 216.508 130.296 219.309 Q126.778 222.11 120.296 222.11 Q118.12 222.11 115.806 221.67 Q113.514 221.253 111.06 220.397 L111.06 215.883 Q113.005 217.017 115.319 217.596 Q117.634 218.175 120.157 218.175 Q124.555 218.175 126.847 216.439 Q129.162 214.702 129.162 211.392 Q129.162 208.337 127.009 206.624 Q124.88 204.888 121.06 204.888 L117.032 204.888 L117.032 201.045 L121.245 201.045 Q124.694 201.045 126.523 199.679 Q128.352 198.291 128.352 195.698 Q128.352 193.036 126.454 191.624 Q124.579 190.189 121.06 190.189 Q119.139 190.189 116.94 190.605 Q114.741 191.022 112.102 191.902 L112.102 187.735 Q114.764 186.994 117.079 186.624 Q119.417 186.254 121.477 186.254 Q126.801 186.254 129.903 188.684 Q133.004 191.091 133.004 195.212 Q133.004 198.082 131.361 200.073 Q129.717 202.04 126.685 202.804 Z\" fill=\"#000000\" fill-rule=\"evenodd\" fill-opacity=\"1\" /><path clip-path=\"url(#clip5200)\" d=\"M 0 0 M148.884 189.957 Q145.273 189.957 143.444 193.522 Q141.639 197.064 141.639 204.193 Q141.639 211.3 143.444 214.864 Q145.273 218.406 148.884 218.406 Q152.518 218.406 154.324 214.864 Q156.153 211.3 156.153 204.193 Q156.153 197.064 154.324 193.522 Q152.518 189.957 148.884 189.957 M148.884 186.254 Q154.694 186.254 157.75 190.86 Q160.828 195.443 160.828 204.193 Q160.828 212.92 157.75 217.527 Q154.694 222.11 148.884 222.11 Q143.074 222.11 139.995 217.527 Q136.94 212.92 136.94 204.193 Q136.94 195.443 139.995 190.86 Q143.074 186.254 148.884 186.254 Z\" fill=\"#000000\" fill-rule=\"evenodd\" fill-opacity=\"1\" /><path clip-path=\"url(#clip5200)\" d=\"M 0 0 M175.898 189.957 Q172.287 189.957 170.458 193.522 Q168.652 197.064 168.652 204.193 Q168.652 211.3 170.458 214.864 Q172.287 218.406 175.898 218.406 Q179.532 218.406 181.338 214.864 Q183.166 211.3 183.166 204.193 Q183.166 197.064 181.338 193.522 Q179.532 189.957 175.898 189.957 M175.898 186.254 Q181.708 186.254 184.763 190.86 Q187.842 195.443 187.842 204.193 Q187.842 212.92 184.763 217.527 Q181.708 222.11 175.898 222.11 Q170.088 222.11 167.009 217.527 Q163.953 212.92 163.953 204.193 Q163.953 195.443 167.009 190.86 Q170.088 186.254 175.898 186.254 Z\" fill=\"#000000\" fill-rule=\"evenodd\" fill-opacity=\"1\" /><path clip-path=\"url(#clip5200)\" d=\"M 0 0 M202.912 189.957 Q199.3 189.957 197.472 193.522 Q195.666 197.064 195.666 204.193 Q195.666 211.3 197.472 214.864 Q199.3 218.406 202.912 218.406 Q206.546 218.406 208.351 214.864 Q210.18 211.3 210.18 204.193 Q210.18 197.064 208.351 193.522 Q206.546 189.957 202.912 189.957 M202.912 186.254 Q208.722 186.254 211.777 190.86 Q214.856 195.443 214.856 204.193 Q214.856 212.92 211.777 217.527 Q208.722 222.11 202.912 222.11 Q197.101 222.11 194.023 217.527 Q190.967 212.92 190.967 204.193 Q190.967 195.443 194.023 190.86 Q197.101 186.254 202.912 186.254 Z\" fill=\"#000000\" fill-rule=\"evenodd\" fill-opacity=\"1\" /><path clip-path=\"url(#clip5200)\" d=\"M 0 0 M229.925 189.957 Q226.314 189.957 224.485 193.522 Q222.68 197.064 222.68 204.193 Q222.68 211.3 224.485 214.864 Q226.314 218.406 229.925 218.406 Q233.56 218.406 235.365 214.864 Q237.194 211.3 237.194 204.193 Q237.194 197.064 235.365 193.522 Q233.56 189.957 229.925 189.957 M229.925 186.254 Q235.735 186.254 238.791 190.86 Q241.87 195.443 241.87 204.193 Q241.87 212.92 238.791 217.527 Q235.735 222.11 229.925 222.11 Q224.115 222.11 221.036 217.527 Q217.981 212.92 217.981 204.193 Q217.981 195.443 221.036 190.86 Q224.115 186.254 229.925 186.254 Z\" fill=\"#000000\" fill-rule=\"evenodd\" fill-opacity=\"1\" /><path clip-path=\"url(#clip5200)\" d=\"M 0 0 M2022.68 1525.47 L2022.68 1535.6 L2034.74 1535.6 L2034.74 1540.15 L2022.68 1540.15 L2022.68 1559.5 Q2022.68 1563.86 2023.85 1565.1 Q2025.06 1566.34 2028.72 1566.34 L2034.74 1566.34 L2034.74 1571.24 L2028.72 1571.24 Q2021.94 1571.24 2019.37 1568.73 Q2016.79 1566.18 2016.79 1559.5 L2016.79 1540.15 L2012.49 1540.15 L2012.49 1535.6 L2016.79 1535.6 L2016.79 1525.47 L2022.68 1525.47 Z\" fill=\"#000000\" fill-rule=\"evenodd\" fill-opacity=\"1\" /><path clip-path=\"url(#clip5200)\" d=\"M 0 0 M2040.88 1535.6 L2046.74 1535.6 L2046.74 1571.24 L2040.88 1571.24 L2040.88 1535.6 M2040.88 1521.72 L2046.74 1521.72 L2046.74 1529.13 L2040.88 1529.13 L2040.88 1521.72 Z\" fill=\"#000000\" fill-rule=\"evenodd\" fill-opacity=\"1\" /><path clip-path=\"url(#clip5200)\" d=\"M 0 0 M2080.64 1542.44 Q2082.83 1538.49 2085.89 1536.61 Q2088.94 1534.74 2093.08 1534.74 Q2098.65 1534.74 2101.68 1538.65 Q2104.7 1542.53 2104.7 1549.73 L2104.7 1571.24 L2098.81 1571.24 L2098.81 1549.92 Q2098.81 1544.79 2097 1542.31 Q2095.18 1539.83 2091.46 1539.83 Q2086.91 1539.83 2084.27 1542.85 Q2081.62 1545.88 2081.62 1551.1 L2081.62 1571.24 L2075.74 1571.24 L2075.74 1549.92 Q2075.74 1544.76 2073.92 1542.31 Q2072.11 1539.83 2068.32 1539.83 Q2063.83 1539.83 2061.19 1542.88 Q2058.55 1545.91 2058.55 1551.1 L2058.55 1571.24 L2052.66 1571.24 L2052.66 1535.6 L2058.55 1535.6 L2058.55 1541.13 Q2060.55 1537.86 2063.35 1536.3 Q2066.15 1534.74 2070.01 1534.74 Q2073.89 1534.74 2076.59 1536.71 Q2079.33 1538.68 2080.64 1542.44 Z\" fill=\"#000000\" fill-rule=\"evenodd\" fill-opacity=\"1\" /><path clip-path=\"url(#clip5200)\" d=\"M 0 0 M2141.33 1551.96 L2141.33 1554.82 L2114.41 1554.82 Q2114.79 1560.87 2118.04 1564.05 Q2121.31 1567.2 2127.14 1567.2 Q2130.51 1567.2 2133.66 1566.37 Q2136.85 1565.55 2139.97 1563.89 L2139.97 1569.43 Q2136.81 1570.77 2133.5 1571.47 Q2130.19 1572.17 2126.79 1572.17 Q2118.26 1572.17 2113.26 1567.2 Q2108.3 1562.24 2108.3 1553.77 Q2108.3 1545.02 2113.01 1539.89 Q2117.75 1534.74 2125.77 1534.74 Q2132.96 1534.74 2137.13 1539.38 Q2141.33 1544 2141.33 1551.96 M2135.48 1550.24 Q2135.41 1545.43 2132.77 1542.57 Q2130.16 1539.7 2125.83 1539.7 Q2120.93 1539.7 2117.97 1542.47 Q2115.04 1545.24 2114.6 1550.27 L2135.48 1550.24 Z\" fill=\"#000000\" fill-rule=\"evenodd\" fill-opacity=\"1\" /><path clip-path=\"url(#clip5200)\" d=\"M 0 0 M21.9562 811.585 L21.9562 805.378 L51.875 794.238 L21.9562 783.098 L21.9562 776.891 L57.6042 790.259 L57.6042 798.217 L21.9562 811.585 Z\" fill=\"#000000\" fill-rule=\"evenodd\" fill-opacity=\"1\" /><path clip-path=\"url(#clip5200)\" d=\"M 0 0 M39.6847 754.548 Q39.6847 761.646 41.3079 764.383 Q42.9312 767.12 46.8461 767.12 Q49.9653 767.12 51.8114 765.083 Q53.6256 763.014 53.6256 759.481 Q53.6256 754.611 50.1881 751.683 Q46.7188 748.723 40.9897 748.723 L39.6847 748.723 L39.6847 754.548 M37.2657 742.867 L57.6042 742.867 L57.6042 748.723 L52.1933 748.723 Q55.4398 750.728 56.9994 753.72 Q58.5272 756.712 58.5272 761.041 Q58.5272 766.515 55.4716 769.762 Q52.3843 772.977 47.2281 772.977 Q41.2125 772.977 38.1569 768.966 Q35.1014 764.924 35.1014 756.935 L35.1014 748.723 L34.5285 748.723 Q30.4862 748.723 28.2901 751.397 Q26.0621 754.039 26.0621 758.845 Q26.0621 761.9 26.7941 764.797 Q27.5262 767.693 28.9903 770.367 L23.5795 770.367 Q22.3381 767.152 21.7334 764.128 Q21.0968 761.104 21.0968 758.24 Q21.0968 750.506 25.1072 746.686 Q29.1176 742.867 37.2657 742.867 Z\" fill=\"#000000\" fill-rule=\"evenodd\" fill-opacity=\"1\" /><path clip-path=\"url(#clip5200)\" d=\"M 0 0 M8.07896 736.724 L8.07896 730.867 L57.6042 730.867 L57.6042 736.724 L8.07896 736.724 Z\" fill=\"#000000\" fill-rule=\"evenodd\" fill-opacity=\"1\" /><path clip-path=\"url(#clip5200)\" d=\"M 0 0 M43.5359 725.329 L21.9562 725.329 L21.9562 719.473 L43.3131 719.473 Q48.3739 719.473 50.9202 717.499 Q53.4346 715.526 53.4346 711.579 Q53.4346 706.837 50.4109 704.1 Q47.3872 701.33 42.1673 701.33 L21.9562 701.33 L21.9562 695.474 L57.6042 695.474 L57.6042 701.33 L52.1296 701.33 Q55.3762 703.463 56.9676 706.296 Q58.5272 709.097 58.5272 712.821 Q58.5272 718.964 54.7078 722.146 Q50.8883 725.329 43.5359 725.329 M21.0968 710.593 L21.0968 710.593 Z\" fill=\"#000000\" fill-rule=\"evenodd\" fill-opacity=\"1\" /><path clip-path=\"url(#clip5200)\" d=\"M 0 0 M38.3161 658.839 L41.1806 658.839 L41.1806 685.766 Q47.2281 685.384 50.4109 682.138 Q53.5619 678.86 53.5619 673.035 Q53.5619 669.661 52.7344 666.51 Q51.9069 663.327 50.2518 660.208 L55.7899 660.208 Q57.1267 663.359 57.827 666.669 Q58.5272 669.979 58.5272 673.385 Q58.5272 681.915 53.5619 686.912 Q48.5967 691.877 40.1303 691.877 Q31.3774 691.877 26.2531 687.167 Q21.0968 682.424 21.0968 674.404 Q21.0968 667.21 25.7438 663.041 Q30.3589 658.839 38.3161 658.839 M36.5973 664.696 Q31.7912 664.76 28.9266 667.401 Q26.0621 670.011 26.0621 674.34 Q26.0621 679.241 28.8312 682.202 Q31.6002 685.13 36.6292 685.575 L36.5973 664.696 Z\" fill=\"#000000\" fill-rule=\"evenodd\" fill-opacity=\"1\" /><polyline clip-path=\"url(#clip5202)\" style=\"stroke:#009af9; stroke-width:4; stroke-opacity:1; fill:none\" points=\"\n",
       "  382.721,778.223 419.155,886.365 455.59,924.987 492.024,924.987 528.458,924.987 564.892,1087.2 601.327,1140.57 637.761,1094.57 674.195,1224.13 710.629,1173.57 \n",
       "  747.063,1173.57 783.498,1173.57 819.932,1003.64 856.366,1044.72 892.8,897.249 929.235,891.982 965.669,955.182 1002.1,955.182 1038.54,955.182 1074.97,849.147 \n",
       "  1111.41,782.085 1147.84,776.467 1184.27,745.219 1220.71,669.028 1257.14,669.028 1293.58,669.028 1330.01,570.015 1366.45,622.33 1402.88,627.948 1439.31,718.183 \n",
       "  1475.75,610.392 1512.18,610.392 1548.62,610.392 1585.05,656.388 1621.48,704.49 1657.92,748.027 1694.35,758.561 1730.79,752.943 1767.22,752.943 1803.66,752.943 \n",
       "  1840.09,841.072 1876.52,1008.9 1912.96,1221.67 1949.39,1295.41 1985.83,1384.24 2022.26,1384.24 2058.7,1384.24 2095.13,1242.39 2131.56,1032.78 2168,800.343 \n",
       "  2204.43,732.579 2240.87,754.699 2277.3,754.699 2313.74,754.699 2350.17,227.332 2386.6,387.087 2423.04,347.06 2459.47,445.722 2495.91,358.998 2532.34,358.998 \n",
       "  2568.77,358.998 2605.21,216.798 2641.64,249.101 2678.08,228.385 2714.51,370.936 2750.95,390.247 2787.38,390.247 2823.81,390.247 2860.25,320.727 2896.68,163.079 \n",
       "  2933.12,183.443 2969.55,183.443 3005.99,198.892 3042.42,198.892 3078.85,198.892 3115.29,255.069 3151.72,175.016 3188.16,238.216 3224.59,165.185 3261.03,127.617 \n",
       "  3297.46,127.617 3333.89,127.617 3370.33,122.35 3406.76,117.786 3443.2,91.8034 3479.63,181.688 3516.06,179.23 3552.5,179.23 3588.93,179.23 3625.37,89.6968 \n",
       "  3661.8,89.6968 3698.24,89.6968 3734.67,89.6968 3771.1,89.6968 \n",
       "  \"/>\n",
       "<polyline clip-path=\"url(#clip5202)\" style=\"stroke:#e26f46; stroke-width:4; stroke-opacity:1; fill:none\" points=\"\n",
       "  382.721,894.44 419.155,908.485 455.59,937.276 492.024,969.578 528.458,1002.93 564.892,1068.24 601.327,1097.73 637.761,1125.82 674.195,1151.8 710.629,1163.04 \n",
       "  747.063,1145.48 783.498,1149.35 819.932,1081.93 856.366,1029.62 892.8,979.409 929.235,926.742 965.669,912.698 1002.1,922.88 1038.54,887.067 1074.97,862.489 \n",
       "  1111.41,845.636 1147.84,798.938 1184.27,740.303 1220.71,671.837 1257.14,636.023 1293.58,569.313 1330.01,556.673 1366.45,563.344 1402.88,607.232 1439.31,646.557 \n",
       "  1475.75,676.752 1512.18,703.437 1548.62,699.574 1585.05,720.992 1621.48,716.779 1657.92,747.325 1694.35,780.33 1730.79,817.547 1767.22,822.112 1803.66,816.494 \n",
       "  1840.09,853.36 1876.52,925.338 1912.96,1077.72 1949.39,1157.42 1985.83,1256.79 2022.26,1308.75 2058.7,1314.72 2095.13,1239.58 2131.56,1176.38 2168,1049.28 \n",
       "  2204.43,896.898 2240.87,748.379 2277.3,629.704 2313.74,504.006 2350.17,410.962 2386.6,386.033 2423.04,376.202 2459.47,381.469 2495.91,365.318 2532.34,376.553 \n",
       "  2568.77,339.336 2605.21,318.269 2641.64,273.678 2678.08,268.061 2714.51,283.86 2750.95,308.087 2787.38,355.838 2823.81,363.913 2860.25,369.531 2896.68,342.496 \n",
       "  2933.12,299.309 2969.55,234.354 3005.99,195.381 3042.42,160.27 3078.85,151.492 3115.29,176.772 3151.72,170.452 3188.16,189.763 3224.59,200.647 3261.03,187.305 \n",
       "  3297.46,149.034 3333.89,109.359 3370.33,99.1767 3406.76,86.1857 3443.2,107.252 3479.63,139.203 3516.06,176.421 3552.5,185.55 3588.93,148.683 3625.37,172.559 \n",
       "  3661.8,198.892 3698.24,218.905 3734.67,250.154 3771.1,287.02 \n",
       "  \"/>\n",
       "<polyline clip-path=\"url(#clip5202)\" style=\"stroke:#3da44d; stroke-width:4; stroke-opacity:1; fill:none\" points=\"\n",
       "  3643.58,2799.12 3643.58,-1328.69 \n",
       "  \"/>\n",
       "<path clip-path=\"url(#clip5200)\" d=\"\n",
       "M398.67 463.884 L1222.66 463.884 L1222.66 221.964 L398.67 221.964  Z\n",
       "  \" fill=\"#ffffff\" fill-rule=\"evenodd\" fill-opacity=\"1\"/>\n",
       "<polyline clip-path=\"url(#clip5200)\" style=\"stroke:#000000; stroke-width:4; stroke-opacity:1; fill:none\" points=\"\n",
       "  398.67,463.884 1222.66,463.884 1222.66,221.964 398.67,221.964 398.67,463.884 \n",
       "  \"/>\n",
       "<polyline clip-path=\"url(#clip5200)\" style=\"stroke:#009af9; stroke-width:4; stroke-opacity:1; fill:none\" points=\"\n",
       "  437.87,282.444 673.07,282.444 \n",
       "  \"/>\n",
       "<path clip-path=\"url(#clip5200)\" d=\"M 0 0 M716.946 269.007 L716.946 295.882 L722.594 295.882 Q729.746 295.882 733.057 292.641 Q736.39 289.4 736.39 282.409 Q736.39 275.465 733.057 272.247 Q729.746 269.007 722.594 269.007 L716.946 269.007 M712.27 265.164 L721.876 265.164 Q731.922 265.164 736.621 269.354 Q741.32 273.521 741.32 282.409 Q741.32 291.345 736.598 295.534 Q731.876 299.724 721.876 299.724 L712.27 299.724 L712.27 265.164 Z\" fill=\"#000000\" fill-rule=\"evenodd\" fill-opacity=\"1\" /><path clip-path=\"url(#clip5200)\" d=\"M 0 0 M745.973 265.164 L750.649 265.164 L750.649 297.317 Q750.649 303.567 748.265 306.391 Q745.904 309.215 740.649 309.215 L738.867 309.215 L738.867 305.28 L740.325 305.28 Q743.427 305.28 744.7 303.544 Q745.973 301.807 745.973 297.317 L745.973 265.164 Z\" fill=\"#000000\" fill-rule=\"evenodd\" fill-opacity=\"1\" /><path clip-path=\"url(#clip5200)\" d=\"M 0 0 M755.302 265.164 L759.978 265.164 L759.978 299.724 L755.302 299.724 L755.302 265.164 Z\" fill=\"#000000\" fill-rule=\"evenodd\" fill-opacity=\"1\" /><path clip-path=\"url(#clip5200)\" d=\"M 0 0 M776.181 269.771 L769.839 286.97 L782.547 286.97 L776.181 269.771 M773.542 265.164 L778.843 265.164 L792.015 299.724 L787.153 299.724 L784.005 290.858 L768.427 290.858 L765.279 299.724 L760.348 299.724 L773.542 265.164 Z\" fill=\"#000000\" fill-rule=\"evenodd\" fill-opacity=\"1\" /><polyline clip-path=\"url(#clip5200)\" style=\"stroke:#e26f46; stroke-width:4; stroke-opacity:1; fill:none\" points=\"\n",
       "  437.87,342.924 673.07,342.924 \n",
       "  \"/>\n",
       "<path clip-path=\"url(#clip5200)\" d=\"M 0 0 M716.552 356.315 L716.552 370.065 L712.27 370.065 L712.27 334.278 L716.552 334.278 L716.552 338.213 Q717.895 335.899 719.932 334.788 Q721.992 333.653 724.839 333.653 Q729.561 333.653 732.501 337.403 Q735.464 341.153 735.464 347.264 Q735.464 353.375 732.501 357.125 Q729.561 360.875 724.839 360.875 Q721.992 360.875 719.932 359.764 Q717.895 358.63 716.552 356.315 M731.043 347.264 Q731.043 342.565 729.098 339.903 Q727.177 337.218 723.797 337.218 Q720.418 337.218 718.473 339.903 Q716.552 342.565 716.552 347.264 Q716.552 351.963 718.473 354.649 Q720.418 357.311 723.797 357.311 Q727.177 357.311 729.098 354.649 Q731.043 351.963 731.043 347.264 Z\" fill=\"#000000\" fill-rule=\"evenodd\" fill-opacity=\"1\" /><path clip-path=\"url(#clip5200)\" d=\"M 0 0 M754.955 338.26 Q754.237 337.843 753.381 337.658 Q752.547 337.45 751.529 337.45 Q747.918 337.45 745.973 339.811 Q744.052 342.149 744.052 346.547 L744.052 360.204 L739.769 360.204 L739.769 334.278 L744.052 334.278 L744.052 338.306 Q745.394 335.945 747.547 334.811 Q749.7 333.653 752.779 333.653 Q753.218 333.653 753.751 333.723 Q754.283 333.769 754.931 333.885 L754.955 338.26 Z\" fill=\"#000000\" fill-rule=\"evenodd\" fill-opacity=\"1\" /><path clip-path=\"url(#clip5200)\" d=\"M 0 0 M780.556 346.176 L780.556 348.26 L760.973 348.26 Q761.251 352.658 763.612 354.973 Q765.996 357.264 770.232 357.264 Q772.686 357.264 774.978 356.662 Q777.292 356.061 779.561 354.857 L779.561 358.885 Q777.269 359.857 774.862 360.366 Q772.455 360.875 769.978 360.875 Q763.774 360.875 760.14 357.264 Q756.529 353.653 756.529 347.496 Q756.529 341.13 759.955 337.403 Q763.404 333.653 769.237 333.653 Q774.468 333.653 777.501 337.033 Q780.556 340.389 780.556 346.176 M776.297 344.926 Q776.251 341.431 774.329 339.348 Q772.431 337.264 769.283 337.264 Q765.718 337.264 763.566 339.278 Q761.436 341.292 761.112 344.95 L776.297 344.926 Z\" fill=\"#000000\" fill-rule=\"evenodd\" fill-opacity=\"1\" /><path clip-path=\"url(#clip5200)\" d=\"M 0 0 M802.084 338.213 L802.084 324.186 L806.343 324.186 L806.343 360.204 L802.084 360.204 L802.084 356.315 Q800.741 358.63 798.681 359.764 Q796.644 360.875 793.774 360.875 Q789.075 360.875 786.112 357.125 Q783.172 353.375 783.172 347.264 Q783.172 341.153 786.112 337.403 Q789.075 333.653 793.774 333.653 Q796.644 333.653 798.681 334.788 Q800.741 335.899 802.084 338.213 M787.57 347.264 Q787.57 351.963 789.491 354.649 Q791.436 357.311 794.815 357.311 Q798.195 357.311 800.14 354.649 Q802.084 351.963 802.084 347.264 Q802.084 342.565 800.14 339.903 Q798.195 337.218 794.815 337.218 Q791.436 337.218 789.491 339.903 Q787.57 342.565 787.57 347.264 Z\" fill=\"#000000\" fill-rule=\"evenodd\" fill-opacity=\"1\" /><path clip-path=\"url(#clip5200)\" d=\"M 0 0 M810.811 334.278 L815.07 334.278 L815.07 360.204 L810.811 360.204 L810.811 334.278 M810.811 324.186 L815.07 324.186 L815.07 329.579 L810.811 329.579 L810.811 324.186 Z\" fill=\"#000000\" fill-rule=\"evenodd\" fill-opacity=\"1\" /><path clip-path=\"url(#clip5200)\" d=\"M 0 0 M838.195 335.274 L838.195 339.255 Q836.389 338.26 834.561 337.774 Q832.755 337.264 830.903 337.264 Q826.76 337.264 824.468 339.903 Q822.176 342.519 822.176 347.264 Q822.176 352.01 824.468 354.649 Q826.76 357.264 830.903 357.264 Q832.755 357.264 834.561 356.778 Q836.389 356.269 838.195 355.274 L838.195 359.209 Q836.412 360.042 834.491 360.459 Q832.593 360.875 830.44 360.875 Q824.584 360.875 821.135 357.195 Q817.686 353.514 817.686 347.264 Q817.686 340.922 821.158 337.288 Q824.653 333.653 830.718 333.653 Q832.686 333.653 834.561 334.07 Q836.436 334.463 838.195 335.274 Z\" fill=\"#000000\" fill-rule=\"evenodd\" fill-opacity=\"1\" /><path clip-path=\"url(#clip5200)\" d=\"M 0 0 M846.875 326.917 L846.875 334.278 L855.649 334.278 L855.649 337.588 L846.875 337.588 L846.875 351.662 Q846.875 354.834 847.732 355.737 Q848.612 356.639 851.274 356.639 L855.649 356.639 L855.649 360.204 L851.274 360.204 Q846.343 360.204 844.468 358.375 Q842.593 356.524 842.593 351.662 L842.593 337.588 L839.468 337.588 L839.468 334.278 L842.593 334.278 L842.593 326.917 L846.875 326.917 Z\" fill=\"#000000\" fill-rule=\"evenodd\" fill-opacity=\"1\" /><path clip-path=\"url(#clip5200)\" d=\"M 0 0 M860.116 334.278 L864.375 334.278 L864.375 360.204 L860.116 360.204 L860.116 334.278 M860.116 324.186 L864.375 324.186 L864.375 329.579 L860.116 329.579 L860.116 324.186 Z\" fill=\"#000000\" fill-rule=\"evenodd\" fill-opacity=\"1\" /><path clip-path=\"url(#clip5200)\" d=\"M 0 0 M878.889 337.264 Q875.463 337.264 873.472 339.95 Q871.482 342.612 871.482 347.264 Q871.482 351.917 873.449 354.602 Q875.44 357.264 878.889 357.264 Q882.292 357.264 884.283 354.579 Q886.273 351.894 886.273 347.264 Q886.273 342.658 884.283 339.973 Q882.292 337.264 878.889 337.264 M878.889 333.653 Q884.445 333.653 887.616 337.264 Q890.787 340.875 890.787 347.264 Q890.787 353.63 887.616 357.264 Q884.445 360.875 878.889 360.875 Q873.31 360.875 870.139 357.264 Q866.991 353.63 866.991 347.264 Q866.991 340.875 870.139 337.264 Q873.31 333.653 878.889 333.653 Z\" fill=\"#000000\" fill-rule=\"evenodd\" fill-opacity=\"1\" /><path clip-path=\"url(#clip5200)\" d=\"M 0 0 M916.806 344.556 L916.806 360.204 L912.546 360.204 L912.546 344.695 Q912.546 341.014 911.111 339.186 Q909.676 337.357 906.806 337.357 Q903.357 337.357 901.366 339.556 Q899.375 341.755 899.375 345.551 L899.375 360.204 L895.093 360.204 L895.093 334.278 L899.375 334.278 L899.375 338.306 Q900.903 335.968 902.963 334.811 Q905.046 333.653 907.755 333.653 Q912.222 333.653 914.514 336.431 Q916.806 339.186 916.806 344.556 Z\" fill=\"#000000\" fill-rule=\"evenodd\" fill-opacity=\"1\" /><path clip-path=\"url(#clip5200)\" d=\"M 0 0 M937.801 335.042 L937.801 339.07 Q935.995 338.144 934.051 337.681 Q932.106 337.218 930.023 337.218 Q926.852 337.218 925.255 338.19 Q923.681 339.163 923.681 341.107 Q923.681 342.588 924.815 343.445 Q925.949 344.278 929.375 345.042 L930.833 345.366 Q935.37 346.338 937.268 348.121 Q939.19 349.88 939.19 353.051 Q939.19 356.662 936.319 358.769 Q933.472 360.875 928.472 360.875 Q926.389 360.875 924.12 360.459 Q921.875 360.065 919.375 359.255 L919.375 354.857 Q921.736 356.084 924.028 356.709 Q926.319 357.311 928.565 357.311 Q931.574 357.311 933.194 356.292 Q934.815 355.25 934.815 353.375 Q934.815 351.639 933.634 350.713 Q932.477 349.787 928.518 348.931 L927.037 348.584 Q923.079 347.75 921.319 346.038 Q919.56 344.301 919.56 341.292 Q919.56 337.635 922.153 335.644 Q924.745 333.653 929.514 333.653 Q931.875 333.653 933.958 334.001 Q936.042 334.348 937.801 335.042 Z\" fill=\"#000000\" fill-rule=\"evenodd\" fill-opacity=\"1\" /><polyline clip-path=\"url(#clip5200)\" style=\"stroke:#3da44d; stroke-width:4; stroke-opacity:1; fill:none\" points=\"\n",
       "  437.87,403.404 673.07,403.404 \n",
       "  \"/>\n",
       "<path clip-path=\"url(#clip5200)\" d=\"M 0 0 M712.27 386.124 L741.506 386.124 L741.506 390.059 L729.237 390.059 L729.237 420.684 L724.538 420.684 L724.538 390.059 L712.27 390.059 L712.27 386.124 Z\" fill=\"#000000\" fill-rule=\"evenodd\" fill-opacity=\"1\" /><path clip-path=\"url(#clip5200)\" d=\"M 0 0 M747.964 397.744 Q744.538 397.744 742.547 400.43 Q740.557 403.092 740.557 407.744 Q740.557 412.397 742.524 415.082 Q744.515 417.744 747.964 417.744 Q751.367 417.744 753.357 415.059 Q755.348 412.374 755.348 407.744 Q755.348 403.138 753.357 400.453 Q751.367 397.744 747.964 397.744 M747.964 394.133 Q753.519 394.133 756.691 397.744 Q759.862 401.355 759.862 407.744 Q759.862 414.11 756.691 417.744 Q753.519 421.355 747.964 421.355 Q742.385 421.355 739.214 417.744 Q736.066 414.11 736.066 407.744 Q736.066 401.355 739.214 397.744 Q742.385 394.133 747.964 394.133 Z\" fill=\"#000000\" fill-rule=\"evenodd\" fill-opacity=\"1\" /><path clip-path=\"url(#clip5200)\" d=\"M 0 0 M781.39 398.693 L781.39 384.666 L785.649 384.666 L785.649 420.684 L781.39 420.684 L781.39 416.795 Q780.047 419.11 777.987 420.244 Q775.95 421.355 773.08 421.355 Q768.38 421.355 765.418 417.605 Q762.478 413.855 762.478 407.744 Q762.478 401.633 765.418 397.883 Q768.38 394.133 773.08 394.133 Q775.95 394.133 777.987 395.268 Q780.047 396.379 781.39 398.693 M766.876 407.744 Q766.876 412.443 768.797 415.129 Q770.742 417.791 774.121 417.791 Q777.501 417.791 779.445 415.129 Q781.39 412.443 781.39 407.744 Q781.39 403.045 779.445 400.383 Q777.501 397.698 774.121 397.698 Q770.742 397.698 768.797 400.383 Q766.876 403.045 766.876 407.744 Z\" fill=\"#000000\" fill-rule=\"evenodd\" fill-opacity=\"1\" /><path clip-path=\"url(#clip5200)\" d=\"M 0 0 M801.899 407.652 Q796.737 407.652 794.746 408.832 Q792.755 410.013 792.755 412.86 Q792.755 415.129 794.237 416.471 Q795.741 417.791 798.311 417.791 Q801.852 417.791 803.982 415.291 Q806.135 412.767 806.135 408.601 L806.135 407.652 L801.899 407.652 M810.394 405.893 L810.394 420.684 L806.135 420.684 L806.135 416.749 Q804.677 419.11 802.501 420.244 Q800.325 421.355 797.177 421.355 Q793.195 421.355 790.834 419.133 Q788.496 416.888 788.496 413.138 Q788.496 408.763 791.413 406.541 Q794.353 404.318 800.163 404.318 L806.135 404.318 L806.135 403.902 Q806.135 400.962 804.19 399.365 Q802.269 397.744 798.774 397.744 Q796.552 397.744 794.445 398.277 Q792.339 398.809 790.394 399.874 L790.394 395.939 Q792.732 395.036 794.931 394.596 Q797.13 394.133 799.214 394.133 Q804.839 394.133 807.616 397.05 Q810.394 399.967 810.394 405.893 Z\" fill=\"#000000\" fill-rule=\"evenodd\" fill-opacity=\"1\" /><path clip-path=\"url(#clip5200)\" d=\"M 0 0 M825.649 423.091 Q823.843 427.721 822.13 429.133 Q820.417 430.545 817.547 430.545 L814.144 430.545 L814.144 426.98 L816.644 426.98 Q818.403 426.98 819.376 426.147 Q820.348 425.314 821.528 422.212 L822.292 420.267 L811.806 394.758 L816.32 394.758 L824.422 415.036 L832.524 394.758 L837.037 394.758 L825.649 423.091 Z\" fill=\"#000000\" fill-rule=\"evenodd\" fill-opacity=\"1\" /><path clip-path=\"url(#clip5200)\" d=\"M 0 0 M861.436 389.967 L861.436 416.842 L867.084 416.842 Q874.236 416.842 877.547 413.601 Q880.88 410.36 880.88 403.369 Q880.88 396.425 877.547 393.207 Q874.236 389.967 867.084 389.967 L861.436 389.967 M856.76 386.124 L866.366 386.124 Q876.412 386.124 881.111 390.314 Q885.81 394.481 885.81 403.369 Q885.81 412.305 881.088 416.494 Q876.366 420.684 866.366 420.684 L856.76 420.684 L856.76 386.124 Z\" fill=\"#000000\" fill-rule=\"evenodd\" fill-opacity=\"1\" /><path clip-path=\"url(#clip5200)\" d=\"M 0 0 M912.454 406.656 L912.454 408.74 L892.871 408.74 Q893.148 413.138 895.509 415.453 Q897.894 417.744 902.13 417.744 Q904.583 417.744 906.875 417.142 Q909.19 416.541 911.458 415.337 L911.458 419.365 Q909.167 420.337 906.759 420.846 Q904.352 421.355 901.875 421.355 Q895.671 421.355 892.037 417.744 Q888.426 414.133 888.426 407.976 Q888.426 401.61 891.852 397.883 Q895.301 394.133 901.134 394.133 Q906.366 394.133 909.398 397.513 Q912.454 400.869 912.454 406.656 M908.195 405.406 Q908.148 401.911 906.227 399.828 Q904.329 397.744 901.181 397.744 Q897.616 397.744 895.463 399.758 Q893.333 401.772 893.009 405.43 L908.195 405.406 Z\" fill=\"#000000\" fill-rule=\"evenodd\" fill-opacity=\"1\" /><path clip-path=\"url(#clip5200)\" d=\"M 0 0 M935.579 395.754 L935.579 399.735 Q933.773 398.74 931.944 398.254 Q930.139 397.744 928.287 397.744 Q924.144 397.744 921.852 400.383 Q919.56 402.999 919.56 407.744 Q919.56 412.49 921.852 415.129 Q924.144 417.744 928.287 417.744 Q930.139 417.744 931.944 417.258 Q933.773 416.749 935.579 415.754 L935.579 419.689 Q933.796 420.522 931.875 420.939 Q929.977 421.355 927.824 421.355 Q921.968 421.355 918.519 417.675 Q915.069 413.994 915.069 407.744 Q915.069 401.402 918.542 397.768 Q922.037 394.133 928.102 394.133 Q930.069 394.133 931.944 394.55 Q933.819 394.943 935.579 395.754 Z\" fill=\"#000000\" fill-rule=\"evenodd\" fill-opacity=\"1\" /><path clip-path=\"url(#clip5200)\" d=\"M 0 0 M940.648 414.804 L945.532 414.804 L945.532 420.684 L940.648 420.684 L940.648 414.804 Z\" fill=\"#000000\" fill-rule=\"evenodd\" fill-opacity=\"1\" /><path clip-path=\"url(#clip5200)\" d=\"M 0 0 M966.481 416.749 L974.12 416.749 L974.12 390.383 L965.81 392.05 L965.81 387.791 L974.074 386.124 L978.75 386.124 L978.75 416.749 L986.389 416.749 L986.389 420.684 L966.481 420.684 L966.481 416.749 Z\" fill=\"#000000\" fill-rule=\"evenodd\" fill-opacity=\"1\" /><path clip-path=\"url(#clip5200)\" d=\"M 0 0 M1004.31 390.198 L992.5 408.647 L1004.31 408.647 L1004.31 390.198 M1003.08 386.124 L1008.96 386.124 L1008.96 408.647 L1013.89 408.647 L1013.89 412.536 L1008.96 412.536 L1008.96 420.684 L1004.31 420.684 L1004.31 412.536 L988.703 412.536 L988.703 408.022 L1003.08 386.124 Z\" fill=\"#000000\" fill-rule=\"evenodd\" fill-opacity=\"1\" /><path clip-path=\"url(#clip5200)\" d=\"M 0 0 M1019.44 414.804 L1024.33 414.804 L1024.33 418.786 L1020.53 426.193 L1017.55 426.193 L1019.44 418.786 L1019.44 414.804 Z\" fill=\"#000000\" fill-rule=\"evenodd\" fill-opacity=\"1\" /><path clip-path=\"url(#clip5200)\" d=\"M 0 0 M1048.49 416.749 L1064.81 416.749 L1064.81 420.684 L1042.87 420.684 L1042.87 416.749 Q1045.53 413.994 1050.12 409.365 Q1054.72 404.712 1055.9 403.369 Q1058.15 400.846 1059.03 399.11 Q1059.93 397.351 1059.93 395.661 Q1059.93 392.906 1057.99 391.17 Q1056.06 389.434 1052.96 389.434 Q1050.76 389.434 1048.31 390.198 Q1045.88 390.962 1043.1 392.513 L1043.1 387.791 Q1045.93 386.656 1048.38 386.078 Q1050.83 385.499 1052.87 385.499 Q1058.24 385.499 1061.43 388.184 Q1064.63 390.869 1064.63 395.36 Q1064.63 397.49 1063.82 399.411 Q1063.03 401.309 1060.93 403.902 Q1060.35 404.573 1057.24 407.791 Q1054.14 410.985 1048.49 416.749 Z\" fill=\"#000000\" fill-rule=\"evenodd\" fill-opacity=\"1\" /><path clip-path=\"url(#clip5200)\" d=\"M 0 0 M1079.88 389.203 Q1076.27 389.203 1074.44 392.768 Q1072.64 396.309 1072.64 403.439 Q1072.64 410.545 1074.44 414.11 Q1076.27 417.652 1079.88 417.652 Q1083.52 417.652 1085.32 414.11 Q1087.15 410.545 1087.15 403.439 Q1087.15 396.309 1085.32 392.768 Q1083.52 389.203 1079.88 389.203 M1079.88 385.499 Q1085.69 385.499 1088.75 390.106 Q1091.83 394.689 1091.83 403.439 Q1091.83 412.166 1088.75 416.772 Q1085.69 421.355 1079.88 421.355 Q1074.07 421.355 1070.99 416.772 Q1067.94 412.166 1067.94 403.439 Q1067.94 394.689 1070.99 390.106 Q1074.07 385.499 1079.88 385.499 Z\" fill=\"#000000\" fill-rule=\"evenodd\" fill-opacity=\"1\" /><path clip-path=\"url(#clip5200)\" d=\"M 0 0 M1100.92 416.749 L1117.24 416.749 L1117.24 420.684 L1095.3 420.684 L1095.3 416.749 Q1097.96 413.994 1102.55 409.365 Q1107.15 404.712 1108.33 403.369 Q1110.58 400.846 1111.46 399.11 Q1112.36 397.351 1112.36 395.661 Q1112.36 392.906 1110.42 391.17 Q1108.49 389.434 1105.39 389.434 Q1103.19 389.434 1100.74 390.198 Q1098.31 390.962 1095.53 392.513 L1095.53 387.791 Q1098.36 386.656 1100.81 386.078 Q1103.26 385.499 1105.3 385.499 Q1110.67 385.499 1113.86 388.184 Q1117.06 390.869 1117.06 395.36 Q1117.06 397.49 1116.25 399.411 Q1115.46 401.309 1113.36 403.902 Q1112.78 404.573 1109.67 407.791 Q1106.57 410.985 1100.92 416.749 Z\" fill=\"#000000\" fill-rule=\"evenodd\" fill-opacity=\"1\" /><path clip-path=\"url(#clip5200)\" d=\"M 0 0 M1132.31 389.203 Q1128.7 389.203 1126.87 392.768 Q1125.07 396.309 1125.07 403.439 Q1125.07 410.545 1126.87 414.11 Q1128.7 417.652 1132.31 417.652 Q1135.95 417.652 1137.75 414.11 Q1139.58 410.545 1139.58 403.439 Q1139.58 396.309 1137.75 392.768 Q1135.95 389.203 1132.31 389.203 M1132.31 385.499 Q1138.12 385.499 1141.18 390.106 Q1144.26 394.689 1144.26 403.439 Q1144.26 412.166 1141.18 416.772 Q1138.12 421.355 1132.31 421.355 Q1126.5 421.355 1123.42 416.772 Q1120.37 412.166 1120.37 403.439 Q1120.37 394.689 1123.42 390.106 Q1126.5 385.499 1132.31 385.499 Z\" fill=\"#000000\" fill-rule=\"evenodd\" fill-opacity=\"1\" /></svg>\n"
      ]
     },
     "execution_count": 13,
     "metadata": {},
     "output_type": "execute_result"
    }
   ],
   "source": [
    "using Plots\n",
    "\n",
    "#dates = format_dates( df[rows,2] , \"m/d/yy\")\n",
    "\n",
    "gr()\n",
    "plot(    x_axis_dates,\n",
    "        [  y_axis_original y_axis_predicted \n",
    "        ], # y-axis\n",
    "    label    = \n",
    "        [ symbol_to_predict \"predictions\"  \"\" ],\n",
    "    legend   =:topleft, \n",
    "              # :right, :left, :top, :bottom, :inside, :best, :legend, :topright, :topleft, :bottomleft, :bottomright\n",
    "    xlabel   = \"time\",\n",
    "    ylabel   = \"value\",\n",
    "    size     = (980, 400), # width, height\n",
    "    layout = (1, 1), # number of graphs: vertically, horizontally\n",
    "    )\n",
    "## Add veritical today line\n",
    "plot!([today_id], seriestype=\"vline\", label=[ \"Today \"*t \"\" ],)\n"
   ]
  },
  {
   "cell_type": "code",
   "execution_count": 14,
   "metadata": {
    "ExecuteTime": {
     "end_time": "2020-12-14T20:00:20.911000-05:00",
     "start_time": "2020-12-15T00:59:20.669Z"
    }
   },
   "outputs": [],
   "source": [
    "## save plot graph\n",
    "\n",
    "savefig(\"../images/predictions_\" * symbol_to_predict * \".png\")"
   ]
  },
  {
   "cell_type": "code",
   "execution_count": 15,
   "metadata": {
    "ExecuteTime": {
     "end_time": "2020-12-14T20:00:21.436000-05:00",
     "start_time": "2020-12-15T00:59:20.671Z"
    }
   },
   "outputs": [
    {
     "name": "stdout",
     "output_type": "stream",
     "text": [
      "DJIA 2020-12-14\n",
      "Tue, 2020-12-08\t predicted 30336.0\t, but actual value was \t30246.0\t difference is -90.0\n",
      "Wed, 2020-12-09\t predicted 30276.0\t, but actual value was \t30320.0\t difference is 44.0\n",
      "Thu, 2020-12-10\t predicted 30185.0\t, but actual value was \t30064.0\t difference is -121.0\n",
      "Fri, 2020-12-11\t predicted 30079.0\t, but actual value was \t30071.0\t difference is -8.0\n",
      "Sat, 2020-12-12\t predicted 30053.0\t, but actual value was \t30071.0\t difference is 18.0\n",
      "Sun, 2020-12-13\t predicted 30158.0\t, but actual value was \t30071.0\t difference is -87.0\n",
      "Mon, 2020-12-14\t predicted 30090.0\t, but actual value was \t30326.0\t difference is 236.0\n",
      "Tue, 2020-12-15\t predicted 30015.0\n"
     ]
    }
   ],
   "source": [
    "## print prediction comparisons\n",
    "println(symbol_to_predict, \" \", today())\n",
    "\n",
    "file_path = \"../DATA/predictions.csv\"\n",
    "open( file_path, \"a\") do file_handle # append\n",
    "    \n",
    "    for id in finem-10:finem\n",
    "        if id <= today_id + 1 # Days to the future\n",
    "            row = get(data_predictions, id) # get a dictionary of data from the SFrame\n",
    "            date_string = row[\"Date\"] # e.g. \"2020-10-20\"\n",
    "\n",
    "            a = y_axis_predicted[id]\n",
    "            b = y_axis_original[id]\n",
    "            d = round(b-a, digits=3)\n",
    "            date = convert(String, Dates.format( Date(date_string), \"e, yyyy-mm-dd\" ) )\n",
    "            if id <= today_id\n",
    "                println( date, \"\\t predicted \", a , \"\\t, but actual value was \\t\", b , \"\\t difference is \",  d  ) # di\n",
    "            else\n",
    "                println( date, \"\\t predicted \", a  ) # \n",
    "\n",
    "                txt_to_save =  \n",
    "                    convert(String, Dates.format( today(), \"yyyy-mm-dd\" ) ) *\",\"* \n",
    "                    convert(String, symbol_to_predict) *\",\"* \n",
    "                    date_string *\",\"* \n",
    "                    string(a) * \"\\n\"\n",
    "                \n",
    "                write(file_handle, txt_to_save )\n",
    "                \n",
    "            end # if\n",
    "        end #if \n",
    "    end # for\n",
    "end # open file"
   ]
  },
  {
   "cell_type": "code",
   "execution_count": null,
   "metadata": {},
   "outputs": [],
   "source": []
  },
  {
   "cell_type": "code",
   "execution_count": null,
   "metadata": {},
   "outputs": [],
   "source": []
  }
 ],
 "metadata": {
  "kernelspec": {
   "display_name": "Julia 1.5.1",
   "language": "julia",
   "name": "julia-1.5"
  },
  "language_info": {
   "file_extension": ".jl",
   "mimetype": "application/julia",
   "name": "julia",
   "version": "1.5.1"
  },
  "toc": {
   "base_numbering": 1,
   "nav_menu": {},
   "number_sections": true,
   "sideBar": true,
   "skip_h1_title": true,
   "title_cell": "Table of Contents",
   "title_sidebar": "Contents",
   "toc_cell": true,
   "toc_position": {},
   "toc_section_display": true,
   "toc_window_display": true
  },
  "varInspector": {
   "cols": {
    "lenName": 16,
    "lenType": 16,
    "lenVar": 40
   },
   "kernels_config": {
    "python": {
     "delete_cmd_postfix": "",
     "delete_cmd_prefix": "del ",
     "library": "var_list.py",
     "varRefreshCmd": "print(var_dic_list())"
    },
    "r": {
     "delete_cmd_postfix": ") ",
     "delete_cmd_prefix": "rm(",
     "library": "var_list.r",
     "varRefreshCmd": "cat(var_dic_list()) "
    }
   },
   "types_to_exclude": [
    "module",
    "function",
    "builtin_function_or_method",
    "instance",
    "_Feature"
   ],
   "window_display": false
  }
 },
 "nbformat": 4,
 "nbformat_minor": 4
}
