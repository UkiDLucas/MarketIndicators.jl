{
 "cells": [
  {
   "cell_type": "markdown",
   "metadata": {},
   "source": [
    "# Prediction Model using TuriCreate in Julia"
   ]
  },
  {
   "cell_type": "markdown",
   "metadata": {
    "toc": true
   },
   "source": [
    "<h1>Table of Contents<span class=\"tocSkip\"></span></h1>\n",
    "<div class=\"toc\"><ul class=\"toc-item\"><li><span><a href=\"#Set-Up\" data-toc-modified-id=\"Set-Up-1\"><span class=\"toc-item-num\">1&nbsp;&nbsp;</span>Set Up</a></span></li><li><span><a href=\"#Fetch-Data-(SFrame)-from-Uber-CSV\" data-toc-modified-id=\"Fetch-Data-(SFrame)-from-Uber-CSV-2\"><span class=\"toc-item-num\">2&nbsp;&nbsp;</span>Fetch Data (SFrame) from Uber CSV</a></span></li><li><span><a href=\"#Split-Data\" data-toc-modified-id=\"Split-Data-3\"><span class=\"toc-item-num\">3&nbsp;&nbsp;</span>Split Data</a></span></li><li><span><a href=\"#Evaluate-the-Model\" data-toc-modified-id=\"Evaluate-the-Model-4\"><span class=\"toc-item-num\">4&nbsp;&nbsp;</span>Evaluate the Model</a></span></li><li><span><a href=\"#Save-/-Export-the-Model\" data-toc-modified-id=\"Save-/-Export-the-Model-5\"><span class=\"toc-item-num\">5&nbsp;&nbsp;</span>Save / Export the Model</a></span></li><li><span><a href=\"#Make-predictions\" data-toc-modified-id=\"Make-predictions-6\"><span class=\"toc-item-num\">6&nbsp;&nbsp;</span>Make predictions</a></span><ul class=\"toc-item\"><li><span><a href=\"#Explore-SFrame\" data-toc-modified-id=\"Explore-SFrame-6.1\"><span class=\"toc-item-num\">6.1&nbsp;&nbsp;</span>Explore SFrame</a></span></li></ul></li></ul></div>"
   ]
  },
  {
   "cell_type": "markdown",
   "metadata": {},
   "source": [
    "## Set Up"
   ]
  },
  {
   "cell_type": "code",
   "execution_count": 1,
   "metadata": {
    "ExecuteTime": {
     "end_time": "2020-12-11T19:44:23.106000-05:00",
     "start_time": "2020-12-12T00:44:22.312Z"
    }
   },
   "outputs": [
    {
     "name": "stdout",
     "output_type": "stream",
     "text": [
      "\n"
     ]
    }
   ],
   "source": [
    "symbol_to_predict = \"DJIA\" # - there is a bug\n",
    "# symbol_to_predict = \"AAPL\"\n",
    "#symbol_to_predict = \"VIX\"\n",
    "# symbol_to_predict = \"NIO\"\n",
    "#symbol_to_predict = \"NVDA\"\n",
    "\n",
    "features_to_analyze = \n",
    "[\n",
    "\n",
    " \n",
    "\"GSPC_Quantized\"\n",
    ",\"GSPC_Avg005\"\n",
    ",\"GSPC_Avg030\"\n",
    ",\"GSPC_Avg060\"\n",
    ",\"GSPC_Avg090\"\n",
    ",\"GSPC_Avg120\"\n",
    ",\"GSPC_Avg180\"\n",
    "\n",
    ",\"BTC_USD_Quantized\"\n",
    ",\"BTC_USD_Avg005\"\n",
    ",\"BTC_USD_Avg030\"\n",
    ",\"BTC_USD_Avg060\"\n",
    ",\"BTC_USD_Avg090\"\n",
    ",\"BTC_USD_Avg120\"\n",
    ",\"BTC_USD_Avg180\"\n",
    "\n",
    ",\"DALLAS_FED_MFC_Quantized\"\n",
    ",\"DALLAS_FED_MFC_Avg005\"\n",
    ",\"DALLAS_FED_MFC_Avg030\"\n",
    ",\"DALLAS_FED_MFC_Avg060\"\n",
    ",\"DALLAS_FED_MFC_Avg090\"\n",
    ",\"DALLAS_FED_MFC_Avg120\"\n",
    ",\"DALLAS_FED_MFC_Avg180\"\n",
    " \n",
    ",\"GOLD_Quantized\"\n",
    ",\"GOLD_Avg005\"\n",
    ",\"GOLD_Avg030\"\n",
    ",\"GOLD_Avg060\"\n",
    ",\"GOLD_Avg090\"\n",
    ",\"GOLD_Avg120\"\n",
    ",\"GOLD_Avg180\"\n",
    " \n",
    ",\"GELYF_Quantized\"\n",
    ",\"GELYF_Avg005\"\n",
    ",\"GELYF_Avg030\"\n",
    ",\"GELYF_Avg060\"\n",
    ",\"GELYF_Avg090\"\n",
    ",\"GELYF_Avg120\"\n",
    ",\"GELYF_Avg180\"\n",
    " \n",
    ",\"US_PEND_HOME_SALE_M_Quantized\"\n",
    ",\"US_PEND_HOME_SALE_M_Avg005\"\n",
    ",\"US_PEND_HOME_SALE_M_Avg030\"\n",
    ",\"US_PEND_HOME_SALE_M_Avg060\"\n",
    ",\"US_PEND_HOME_SALE_M_Avg090\"\n",
    ",\"US_PEND_HOME_SALE_M_Avg120\"\n",
    ",\"US_PEND_HOME_SALE_M_Avg180\"\n",
    " \n",
    ",\"TNX_Quantized\"\n",
    ",\"TNX_Avg005\"\n",
    ",\"TNX_Avg030\"\n",
    ",\"TNX_Avg060\"\n",
    ",\"TNX_Avg090\"\n",
    ",\"TNX_Avg120\"\n",
    ",\"TNX_Avg180\"\n",
    " \n",
    ",\"TSLA_Quantized\"\n",
    ",\"TSLA_Avg005\"\n",
    ",\"TSLA_Avg030\"\n",
    ",\"TSLA_Avg060\"\n",
    ",\"TSLA_Avg090\"\n",
    ",\"TSLA_Avg120\"\n",
    ",\"TSLA_Avg180\"\n",
    " \n",
    ",\"US_BUILD_PERM_Quantized\"\n",
    ",\"US_BUILD_PERM_Avg005\"\n",
    ",\"US_BUILD_PERM_Avg030\"\n",
    ",\"US_BUILD_PERM_Avg060\"\n",
    ",\"US_BUILD_PERM_Avg090\"\n",
    ",\"US_BUILD_PERM_Avg120\"\n",
    ",\"US_BUILD_PERM_Avg180\"\n",
    " \n",
    ",\"BYDDF_Quantized\"\n",
    ",\"BYDDF_Avg005\"\n",
    ",\"BYDDF_Avg030\"\n",
    ",\"BYDDF_Avg060\"\n",
    ",\"BYDDF_Avg090\"\n",
    ",\"BYDDF_Avg120\"\n",
    ",\"BYDDF_Avg180\"\n",
    " \n",
    ",\"US_INDS_PROD_M_Quantized\"\n",
    ",\"US_INDS_PROD_M_Avg005\"\n",
    ",\"US_INDS_PROD_M_Avg030\"\n",
    ",\"US_INDS_PROD_M_Avg060\"\n",
    ",\"US_INDS_PROD_M_Avg090\"\n",
    ",\"US_INDS_PROD_M_Avg120\"\n",
    ",\"US_INDS_PROD_M_Avg180\"\n",
    " \n",
    ",\"US_ISM_MFC_EMPL_Quantized\"\n",
    ",\"US_ISM_MFC_EMPL_Avg005\"\n",
    ",\"US_ISM_MFC_EMPL_Avg030\"\n",
    ",\"US_ISM_MFC_EMPL_Avg060\"\n",
    ",\"US_ISM_MFC_EMPL_Avg090\"\n",
    ",\"US_ISM_MFC_EMPL_Avg120\"\n",
    ",\"US_ISM_MFC_EMPL_Avg180\"\n",
    " \n",
    ",\"US_INIT_JOB_CLAIM_Quantized\"\n",
    ",\"US_INIT_JOB_CLAIM_Avg005\"\n",
    ",\"US_INIT_JOB_CLAIM_Avg030\"\n",
    ",\"US_INIT_JOB_CLAIM_Avg060\"\n",
    ",\"US_INIT_JOB_CLAIM_Avg090\"\n",
    ",\"US_INIT_JOB_CLAIM_Avg120\"\n",
    ",\"US_INIT_JOB_CLAIM_Avg180\"\n",
    " \n",
    ",\"US_UNEMPLOY_RATE_Quantized\"\n",
    ",\"US_UNEMPLOY_RATE_Avg005\"\n",
    ",\"US_UNEMPLOY_RATE_Avg030\"\n",
    ",\"US_UNEMPLOY_RATE_Avg060\"\n",
    ",\"US_UNEMPLOY_RATE_Avg090\"\n",
    ",\"US_UNEMPLOY_RATE_Avg120\"\n",
    ",\"US_UNEMPLOY_RATE_Avg180\"\n",
    " \n",
    ",\"NVDA_Quantized\"\n",
    ",\"NVDA_Avg005\"\n",
    ",\"NVDA_Avg030\"\n",
    ",\"NVDA_Avg060\"\n",
    ",\"NVDA_Avg090\"\n",
    ",\"NVDA_Avg120\"\n",
    ",\"NVDA_Avg180\"\n",
    " \n",
    ",\"NRMGX_Quantized\"\n",
    ",\"NRMGX_Avg005\"\n",
    ",\"NRMGX_Avg030\"\n",
    ",\"NRMGX_Avg060\"\n",
    ",\"NRMGX_Avg090\"\n",
    ",\"NRMGX_Avg120\"\n",
    ",\"NRMGX_Avg180\"\n",
    " \n",
    ",\"US_HOUS_STRS_M_Quantized\"\n",
    ",\"US_HOUS_STRS_M_Avg005\"\n",
    ",\"US_HOUS_STRS_M_Avg030\"\n",
    ",\"US_HOUS_STRS_M_Avg060\"\n",
    ",\"US_HOUS_STRS_M_Avg090\"\n",
    ",\"US_HOUS_STRS_M_Avg120\"\n",
    ",\"US_HOUS_STRS_M_Avg180\"\n",
    " \n",
    ",\"HD_Quantized\"\n",
    ",\"HD_Avg005\"\n",
    ",\"HD_Avg030\"\n",
    ",\"HD_Avg060\"\n",
    ",\"HD_Avg090\"\n",
    ",\"HD_Avg120\"\n",
    ",\"HD_Avg180\"\n",
    " \n",
    ",\"US_GDP_Q_Quantized\"\n",
    ",\"US_GDP_Q_Avg005\"\n",
    ",\"US_GDP_Q_Avg030\"\n",
    ",\"US_GDP_Q_Avg060\"\n",
    ",\"US_GDP_Q_Avg090\"\n",
    ",\"US_GDP_Q_Avg120\"\n",
    ",\"US_GDP_Q_Avg180\"\n",
    " \n",
    ",\"LI_Quantized\"\n",
    ",\"LI_Avg005\"\n",
    ",\"LI_Avg030\"\n",
    ",\"LI_Avg060\"\n",
    ",\"LI_Avg090\"\n",
    ",\"LI_Avg120\"\n",
    ",\"LI_Avg180\"\n",
    " \n",
    ",\"VIX_Quantized\"\n",
    ",\"VIX_Avg005\"\n",
    ",\"VIX_Avg030\"\n",
    ",\"VIX_Avg060\"\n",
    ",\"VIX_Avg090\"\n",
    ",\"VIX_Avg120\"\n",
    ",\"VIX_Avg180\"\n",
    " \n",
    ",\"TPLGX_Quantized\"\n",
    ",\"TPLGX_Avg005\"\n",
    ",\"TPLGX_Avg030\"\n",
    ",\"TPLGX_Avg060\"\n",
    ",\"TPLGX_Avg090\"\n",
    ",\"TPLGX_Avg120\"\n",
    ",\"TPLGX_Avg180\"\n",
    " \n",
    ",\"US_ISM_MFC_PMI_Quantized\"\n",
    ",\"US_ISM_MFC_PMI_Avg005\"\n",
    ",\"US_ISM_MFC_PMI_Avg030\"\n",
    ",\"US_ISM_MFC_PMI_Avg060\"\n",
    ",\"US_ISM_MFC_PMI_Avg090\"\n",
    ",\"US_ISM_MFC_PMI_Avg120\"\n",
    ",\"US_ISM_MFC_PMI_Avg180\"\n",
    " \n",
    ",\"VINIX_Quantized\"\n",
    ",\"VINIX_Avg005\"\n",
    ",\"VINIX_Avg030\"\n",
    ",\"VINIX_Avg060\"\n",
    ",\"VINIX_Avg090\"\n",
    ",\"VINIX_Avg120\"\n",
    ",\"VINIX_Avg180\"\n",
    " \n",
    ",\"NIO_Quantized\"\n",
    ",\"NIO_Avg005\"\n",
    ",\"NIO_Avg030\"\n",
    ",\"NIO_Avg060\"\n",
    ",\"NIO_Avg090\"\n",
    ",\"NIO_Avg120\"\n",
    ",\"NIO_Avg180\"\n",
    " \n",
    ",\"VBTLX_Quantized\"\n",
    ",\"VBTLX_Avg005\"\n",
    ",\"VBTLX_Avg030\"\n",
    ",\"VBTLX_Avg060\"\n",
    ",\"VBTLX_Avg090\"\n",
    ",\"VBTLX_Avg120\"\n",
    ",\"VBTLX_Avg180\"\n",
    " \n",
    ",\"RERGX_Quantized\"\n",
    ",\"RERGX_Avg005\"\n",
    ",\"RERGX_Avg030\"\n",
    ",\"RERGX_Avg060\"\n",
    ",\"RERGX_Avg090\"\n",
    ",\"RERGX_Avg120\"\n",
    ",\"RERGX_Avg180\"\n",
    " \n",
    ",\"CRSP_Quantized\"\n",
    ",\"CRSP_Avg005\"\n",
    ",\"CRSP_Avg030\"\n",
    ",\"CRSP_Avg060\"\n",
    ",\"CRSP_Avg090\"\n",
    ",\"CRSP_Avg120\"\n",
    ",\"CRSP_Avg180\"\n",
    " \n",
    ",\"BABA_Quantized\"\n",
    ",\"BABA_Avg005\"\n",
    ",\"BABA_Avg030\"\n",
    ",\"BABA_Avg060\"\n",
    ",\"BABA_Avg090\"\n",
    ",\"BABA_Avg120\"\n",
    ",\"BABA_Avg180\"\n",
    " \n",
    ",\"RIDE_Quantized\"\n",
    ",\"RIDE_Avg005\"\n",
    ",\"RIDE_Avg030\"\n",
    ",\"RIDE_Avg060\"\n",
    ",\"RIDE_Avg090\"\n",
    ",\"RIDE_Avg120\"\n",
    ",\"RIDE_Avg180\"\n",
    " \n",
    "#,\"DJIA_Quantized\"\n",
    "#,\"DJIA_Avg005\"\n",
    ",\"DJIA_Avg030\"\n",
    ",\"DJIA_Avg060\"\n",
    ",\"DJIA_Avg090\"\n",
    ",\"DJIA_Avg120\"\n",
    ",\"DJIA_Avg180\"\n",
    " \n",
    ",\"AAPL_Quantized\"\n",
    ",\"AAPL_Avg005\"\n",
    ",\"AAPL_Avg030\"\n",
    ",\"AAPL_Avg060\"\n",
    ",\"AAPL_Avg090\"\n",
    ",\"AAPL_Avg120\"\n",
    ",\"AAPL_Avg180\"\n",
    " \n",
    "    \n",
    "]\n",
    "\n",
    "println()"
   ]
  },
  {
   "cell_type": "code",
   "execution_count": 2,
   "metadata": {
    "ExecuteTime": {
     "end_time": "2020-12-11T19:44:27.664000-05:00",
     "start_time": "2020-12-12T00:44:22.319Z"
    }
   },
   "outputs": [
    {
     "name": "stdout",
     "output_type": "stream",
     "text": [
      "\n"
     ]
    },
    {
     "data": {
      "text/plain": [
       "\"DJIA_Original\""
      ]
     },
     "execution_count": 2,
     "metadata": {},
     "output_type": "execute_result"
    }
   ],
   "source": [
    "## uncomment for the first run\n",
    "# import Pkg\n",
    "# Pkg.add(\"PyCall\")\n",
    "# Pkg.add(\"Conda\")\n",
    "# ENV[\"PYTHON\"] = \"/opt/anaconda3/envs/turi/bin/python\"\n",
    "# /opt/anaconda3/envs/turi/lib/python3.6/site-packages/\n",
    "# Pkg.build(\"PyCall\")\n",
    "\n",
    "include(\"../Julia/functions.jl\") \n",
    "data_path=\"../DATA/processed/uber_training.csv\"\n",
    "column_to_predict = symbol_to_predict * \"_Original\""
   ]
  },
  {
   "cell_type": "markdown",
   "metadata": {},
   "source": [
    "## Fetch Data (SFrame) from Uber CSV"
   ]
  },
  {
   "cell_type": "code",
   "execution_count": 3,
   "metadata": {
    "ExecuteTime": {
     "end_time": "2020-12-11T19:44:32.554000-05:00",
     "start_time": "2020-12-12T00:44:22.323Z"
    }
   },
   "outputs": [
    {
     "name": "stdout",
     "output_type": "stream",
     "text": [
      "Finished parsing file /Users/uki/REPOS/MarketIndicators.jl/src/DATA/processed/uber_training.csv\n",
      "Parsing completed. Parsed 100 lines in 0.030007 secs.\n",
      "------------------------------------------------------\n",
      "Inferred types from first 100 line(s) of file as \n",
      "column_type_hints=[int,str,float,float,float,float,float,float,float,float,float,float,float,float,float,float,float,float,float,float,float,float,float,float,float,float,float,float,float,float,float,float,float,float,float,float,float,float,float,float,float,float,float,float,float,float,float,float,float,float,float,float,float,float,float,float,float,float,float,float,float,float,float,float,float,float,float,float,float,float,float,float,float,float,float,float,float,float,float,float,float,float,float,float,float,float,float,float,float,float,float,float,float,float,float,float,float,float,float,float,float,float,float,float,float,float,float,float,float,float,float,float,float,float,float,float,float,float,float,float,float,float,float,float,float,float,float,float,float,float,float,float,float,float,float,float,float,float,float,float,float,float,float,float,float,float,float,float,float,float,float,float,float,float,float,float,float,float,float,float,float,float,float,float,float,float,float,float,float,float,float,float,float,float,float,float,float,float,float,float,float,float,float,float,float,float,float,float,float,float,float,float,float,float,float,float,float,float,float,float,float,float,float,float,float,float,float,float,float,float,float,float,float,float,float,float,float,float,float,float,float,float,float,float,float,float,float,float,float,float,float,float,float,float,float,float,float,float,float,float,float,float,float,float,float,float,float,float,float,float,float,float,float,float,float,float,float,float]\n",
      "If parsing fails due to incorrect types, you can correct\n",
      "the inferred type list above and pass it to read_csv in\n",
      "the column_type_hints argument\n",
      "------------------------------------------------------\n",
      "Finished parsing file /Users/uki/REPOS/MarketIndicators.jl/src/DATA/processed/uber_training.csv\n",
      "Parsing completed. Parsed 135 lines in 0.008128 secs.\n",
      "\n"
     ]
    }
   ],
   "source": [
    "using PyCall\n",
    "tc = pyimport(\"turicreate\")\n",
    "data = tc.SFrame(data_path)\n",
    "println()"
   ]
  },
  {
   "cell_type": "markdown",
   "metadata": {},
   "source": [
    "## Split Data"
   ]
  },
  {
   "cell_type": "code",
   "execution_count": 4,
   "metadata": {
    "ExecuteTime": {
     "end_time": "2020-12-11T19:44:33.082000-05:00",
     "start_time": "2020-12-12T00:44:22.328Z"
    }
   },
   "outputs": [
    {
     "name": "stdout",
     "output_type": "stream",
     "text": [
      "(98,)\n",
      "(37,)\n"
     ]
    }
   ],
   "source": [
    "# Make a train-test split\n",
    "train_data, test_data = data.random_split(0.8)\n",
    "\n",
    "println( size(train_data) )\n",
    "println( size(test_data)  )"
   ]
  },
  {
   "cell_type": "code",
   "execution_count": 5,
   "metadata": {
    "ExecuteTime": {
     "end_time": "2020-12-11T19:44:35.627000-05:00",
     "start_time": "2020-12-12T00:44:22.335Z"
    }
   },
   "outputs": [
    {
     "name": "stdout",
     "output_type": "stream",
     "text": [
      "Automatically generating validation set from 10% of the data.\n",
      "Linear regression:\n",
      "--------------------------------------------------------\n",
      "Number of examples          : 88\n",
      "Number of features          : 222\n",
      "Number of unpacked features : 222\n",
      "Number of coefficients    : 223\n",
      "Starting Newton Method\n",
      "--------------------------------------------------------\n",
      "+-----------+----------+--------------+--------------------+----------------------+---------------------------------+-----------------------------------+\n",
      "| Iteration | Passes   | Elapsed Time | Training Max Error | Validation Max Error | Training Root-Mean-Square Error | Validation Root-Mean-Square Error |\n",
      "+-----------+----------+--------------+--------------------+----------------------+---------------------------------+-----------------------------------+\n",
      "| 1         | 2        | 1.016648     | 172.598012         | 312.460167           | 59.420947                       | 156.274081                        |\n",
      "+-----------+----------+--------------+--------------------+----------------------+---------------------------------+-----------------------------------+\n",
      "SUCCESS: Optimal solution found.\n",
      "\n"
     ]
    },
    {
     "data": {
      "text/plain": [
       "PyObject Class                          : LinearRegression\n",
       "\n",
       "Schema\n",
       "------\n",
       "Number of coefficients         : 223\n",
       "Number of examples             : 88\n",
       "Number of feature columns      : 222\n",
       "Number of unpacked features    : 222\n",
       "\n",
       "Hyperparameters\n",
       "---------------\n",
       "L1 penalty                     : 0\n",
       "L2 penalty                     : 0.01\n",
       "\n",
       "Training Summary\n",
       "----------------\n",
       "Solver                         : newton\n",
       "Solver iterations              : 1\n",
       "Solver status                  : SUCCESS: Optimal solution found.\n",
       "Training time (sec)            : 1.0218\n",
       "\n",
       "Settings\n",
       "--------\n",
       "Residual sum of squares        : 310714.7064\n",
       "Training RMSE                  : 59.4209\n",
       "\n",
       "Highest Positive Coefficients\n",
       "-----------------------------\n",
       "(intercept)                    : 22129.8464\n",
       "GELYF_Avg060                   : 36.5576\n",
       "GSPC_Quantized                 : 27.3398\n",
       "US_UNEMPLOY_RATE_Avg180        : 23.6364\n",
       "BYDDF_Avg005                   : 19.1834\n",
       "\n",
       "Lowest Negative Coefficients\n",
       "----------------------------\n",
       "GELYF_Avg005                   : -32.7242\n",
       "US_PEND_HOME_SALE_M_Avg120     : -32.4877\n",
       "CRSP_Avg090                    : -18.9591\n",
       "TSLA_Avg030                    : -18.6339\n",
       "NRMGX_Quantized                : -16.093\n"
      ]
     },
     "execution_count": 5,
     "metadata": {},
     "output_type": "execute_result"
    }
   ],
   "source": [
    "model = tc.regression.create( \n",
    "    train_data, \n",
    "    target = column_to_predict, \n",
    "    features = features_to_analyze, \n",
    "    validation_set=\"auto\", \n",
    "    verbose=true\n",
    ")"
   ]
  },
  {
   "cell_type": "markdown",
   "metadata": {},
   "source": [
    "## Evaluate the Model"
   ]
  },
  {
   "cell_type": "code",
   "execution_count": 6,
   "metadata": {
    "ExecuteTime": {
     "end_time": "2020-12-11T19:44:36.751000-05:00",
     "start_time": "2020-12-12T00:44:22.340Z"
    }
   },
   "outputs": [
    {
     "data": {
      "text/plain": [
       "Dict{Any,Any} with 2 entries:\n",
       "  \"rmse\"      => 196.804\n",
       "  \"max_error\" => 564.756"
      ]
     },
     "execution_count": 6,
     "metadata": {},
     "output_type": "execute_result"
    }
   ],
   "source": [
    "#TODO: write this in a loop to select the best model\n",
    "# Evaluate the model and save the results into a dictionary\n",
    "results = model.evaluate( test_data ) #test_data[0:2531]\n",
    "results"
   ]
  },
  {
   "cell_type": "code",
   "execution_count": 7,
   "metadata": {
    "ExecuteTime": {
     "end_time": "2020-12-11T19:44:36.887000-05:00",
     "start_time": "2020-12-12T00:44:22.347Z"
    }
   },
   "outputs": [
    {
     "name": "stdout",
     "output_type": "stream",
     "text": [
      "max_error: 564.76, rmse: 196.8\n"
     ]
    }
   ],
   "source": [
    "rmse = results[\"rmse\"]\n",
    "rmse = round(rmse, digits=2)\n",
    "\n",
    "max_error = results[\"max_error\"]\n",
    "max_error = round(max_error, digits=2)\n",
    "\n",
    "println( \"max_error: \", max_error, \", rmse: \", rmse )\n",
    "# max_error: 1069.27, rmse: 184.6\n",
    "# max_error: 65.35, rmse: 32.6            predict: ^DJIA added: US_INIT_JOBLESS\n",
    "# max_error: 1875.39, rmse: 443.59        predict: ^DJIA commented out: \"DJIA_Quantized\"\n",
    "# max_error: 1339.76, rmse: 373.94        predict: ^DJIA commented out: \"DJIA_Quantized\"\n",
    "# max_error: 916.19, rmse: 231.24       predict: ^DJIA with \"DJIA_Avg005\""
   ]
  },
  {
   "cell_type": "markdown",
   "metadata": {},
   "source": [
    "## Save / Export the Model"
   ]
  },
  {
   "cell_type": "code",
   "execution_count": 8,
   "metadata": {
    "ExecuteTime": {
     "end_time": "2020-12-11T19:44:36.908000-05:00",
     "start_time": "2020-12-12T00:44:22.351Z"
    }
   },
   "outputs": [],
   "source": [
    "# Export to Core ML\n",
    "model.export_coreml(\"../DATA/models/^DJI.mlmodel\")"
   ]
  },
  {
   "cell_type": "markdown",
   "metadata": {},
   "source": [
    "## Make predictions "
   ]
  },
  {
   "cell_type": "code",
   "execution_count": 9,
   "metadata": {
    "ExecuteTime": {
     "end_time": "2020-12-11T19:44:37.098000-05:00",
     "start_time": "2020-12-12T00:44:22.357Z"
    }
   },
   "outputs": [
    {
     "name": "stdout",
     "output_type": "stream",
     "text": [
      "Finished parsing file /Users/uki/REPOS/MarketIndicators.jl/src/DATA/processed/uber_prediction.csv\n",
      "Parsing completed. Parsed 100 lines in 0.035018 secs.\n",
      "------------------------------------------------------\n",
      "Inferred types from first 100 line(s) of file as \n",
      "column_type_hints=[int,str,float,float,float,float,float,float,float,float,float,float,float,float,float,float,float,float,float,float,float,float,float,float,float,float,float,float,float,float,float,float,float,float,float,float,float,float,float,float,float,float,float,float,float,float,float,float,float,float,float,float,float,float,float,float,float,float,float,float,float,float,float,float,float,float,float,float,float,float,float,float,float,float,float,float,float,float,float,float,float,float,float,float,float,float,float,float,float,float,float,float,float,float,float,float,float,float,float,float,float,float,float,float,float,float,float,float,float,float,float,float,float,float,float,float,float,float,float,float,float,float,float,float,float,float,float,float,float,float,float,float,float,float,float,float,float,float,float,float,float,float,float,float,float,float,float,float,float,float,float,float,float,float,float,float,float,float,float,float,float,float,float,float,float,float,float,float,float,float,float,float,float,float,float,float,float,float,float,float,float,float,float,float,float,float,float,float,float,float,float,float,float,float,float,float,float,float,float,float,float,float,float,float,float,float,float,float,float,float,float,float,float,float,float,float,float,float,float,float,float,float,float,float,float,float,float,float,float,float,float,float,float,float,float,float,float,float,float,float,float,float,float,float,float,float,float,float,float,float,float,float,float,float,float,float,float,float]\n",
      "If parsing fails due to incorrect types, you can correct\n",
      "the inferred type list above and pass it to read_csv in\n",
      "the column_type_hints argument\n",
      "------------------------------------------------------\n",
      "Finished parsing file /Users/uki/REPOS/MarketIndicators.jl/src/DATA/processed/uber_prediction.csv\n",
      "Parsing completed. Parsed 120 lines in 0.009451 secs.\n",
      "\n"
     ]
    }
   ],
   "source": [
    "data_path=\"../DATA/processed/uber_prediction.csv\"\n",
    "data_predictions = tc.SFrame(data_path)\n",
    "\n",
    "## Save predictions to an SArray\n",
    "predictions = model.predict(data_predictions)\n",
    "#get(predictions, 1)\n",
    "\n",
    "println()"
   ]
  },
  {
   "cell_type": "markdown",
   "metadata": {},
   "source": [
    "### Explore SFrame"
   ]
  },
  {
   "cell_type": "code",
   "execution_count": 10,
   "metadata": {
    "ExecuteTime": {
     "end_time": "2020-12-11T19:44:37.292000-05:00",
     "start_time": "2020-12-12T00:44:22.360Z"
    }
   },
   "outputs": [
    {
     "name": "stdout",
     "output_type": "stream",
     "text": [
      "record_count data 120\n",
      "record_count predictions 120\n",
      "feature_number 258\n",
      "Rata Die 737799\n",
      "date 2021-01-09\n",
      "original 30071.130859\n"
     ]
    }
   ],
   "source": [
    "record_count = size(data_predictions)[1]\n",
    "row = get(data_predictions, record_count-1)\n",
    "\n",
    "feature_number = row.count\n",
    "day = row[\"Rata_Die\"]\n",
    "date = row[\"Date\"] # \"2020-10-20\"\n",
    "original = row[\"DJIA_Original\"]\n",
    "\n",
    "println( \"record_count data \", record_count )\n",
    "println( \"record_count predictions \", size(predictions)[1] )\n",
    "\n",
    "println( \"feature_number \", feature_number )\n",
    "println( \"Rata Die \", day )\n",
    "println( \"date \", date )\n",
    "println( \"original \", original )"
   ]
  },
  {
   "cell_type": "code",
   "execution_count": 11,
   "metadata": {
    "ExecuteTime": {
     "end_time": "2020-12-11T19:44:40.229000-05:00",
     "start_time": "2020-12-12T00:44:22.364Z"
    }
   },
   "outputs": [
    {
     "name": "stdout",
     "output_type": "stream",
     "text": [
      "preditions set size: 119, step 6\n",
      "DJIA 119 Array{Date,1}\n",
      "t Dec. 11, 2020 String\n",
      "\n"
     ]
    }
   ],
   "source": [
    "using Dates\n",
    "today_rata = Dates.datetime2rata( today() )\n",
    "\n",
    "## Determine dataset size\n",
    "\n",
    "initio = 1                                              # latin: start\n",
    "finem  = size(predictions)[1] -1                        # latin: end\n",
    "gradus = convert(Int64, round( finem/20, digits=0)  )   # latin: step\n",
    "\n",
    "println(\"preditions set size: \", finem, \", step \", gradus)\n",
    "\n",
    "\n",
    "## Declare variables\n",
    "x_axis_dates      = Vector{Date}() # results in Array{Date,1}\n",
    "y_axis_original   = Vector{Float64}()\n",
    "y_axis_predicted  = Vector{Float64}()\n",
    "\n",
    "println(symbol_to_predict, \" \", finem, \" \", typeof(x_axis_dates))\n",
    "\n",
    "today_id  = 50 # not set yet\n",
    "\n",
    "## step thru each prediction\n",
    "for id in initio:finem\n",
    "    row = get(data_predictions, id) # get a dictionary of data from the SFrame\n",
    "    \n",
    "    date_string = row[\"Date\"] # e.g. \"2020-10-20\"\n",
    "    date = Date(date_string) # 2020-09-07 Date\n",
    "    if date == today()\n",
    "        today_id = id\n",
    "    end \n",
    "    #date = Dates.format(date, \"u.d,yy\" )\n",
    "    #println(\"date \", date, \" \", typeof(date))\n",
    "    push!(x_axis_dates, date)\n",
    "    \n",
    "    predicted = get(predictions, id) # Float64\n",
    "    predicted = round(predicted, digits=0)\n",
    "    #println(\"predicted \", predicted, \" \", typeof(predicted))\n",
    "    append!(y_axis_predicted, predicted)\n",
    "    \n",
    "    \n",
    "    original = row[ column_to_predict ]\n",
    "    original = round(original, digits=0) # Float64\n",
    "    #println(\"original \", original, \" \", typeof(original)) \n",
    "    append!(y_axis_original, original)\n",
    "end\n",
    "\n",
    "## Format Dates for plotting\n",
    "include(\"../Julia/function_format_dates.jl\")\n",
    "x_axis_dates = format_dates(x_axis_dates, \"u. d, yy\")\n",
    "\n",
    "\n",
    "\n",
    "t = today()# Date\n",
    "t = format_dates([t], \"u. d, yyyy\") # Array{String,1}\n",
    "t = t[1] # String\n",
    "println(\"t \", t, \" \", typeof(t))\n",
    "\n",
    "println()"
   ]
  },
  {
   "cell_type": "code",
   "execution_count": 12,
   "metadata": {
    "ExecuteTime": {
     "end_time": "2020-12-11T19:45:20.879000-05:00",
     "start_time": "2020-12-12T00:44:22.371Z"
    }
   },
   "outputs": [
    {
     "data": {
      "image/svg+xml": [
       "<?xml version=\"1.0\" encoding=\"utf-8\"?>\n",
       "<svg xmlns=\"http://www.w3.org/2000/svg\" xmlns:xlink=\"http://www.w3.org/1999/xlink\" width=\"980\" height=\"400\" viewBox=\"0 0 3920 1600\">\n",
       "<defs>\n",
       "  <clipPath id=\"clip5300\">\n",
       "    <rect x=\"0\" y=\"0\" width=\"3920\" height=\"1600\"/>\n",
       "  </clipPath>\n",
       "</defs>\n",
       "<path clip-path=\"url(#clip5300)\" d=\"\n",
       "M0 1600 L3920 1600 L3920 0 L0 0  Z\n",
       "  \" fill=\"#ffffff\" fill-rule=\"evenodd\" fill-opacity=\"1\"/>\n",
       "<defs>\n",
       "  <clipPath id=\"clip5301\">\n",
       "    <rect x=\"784\" y=\"0\" width=\"2745\" height=\"1600\"/>\n",
       "  </clipPath>\n",
       "</defs>\n",
       "<path clip-path=\"url(#clip5300)\" d=\"\n",
       "M281.556 1423.18 L3872.76 1423.18 L3872.76 47.2441 L281.556 47.2441  Z\n",
       "  \" fill=\"#ffffff\" fill-rule=\"evenodd\" fill-opacity=\"1\"/>\n",
       "<defs>\n",
       "  <clipPath id=\"clip5302\">\n",
       "    <rect x=\"281\" y=\"47\" width=\"3592\" height=\"1377\"/>\n",
       "  </clipPath>\n",
       "</defs>\n",
       "<polyline clip-path=\"url(#clip5302)\" style=\"stroke:#000000; stroke-width:2; stroke-opacity:0.1; fill:none\" points=\"\n",
       "  383.193,1423.18 383.193,47.2441 \n",
       "  \"/>\n",
       "<polyline clip-path=\"url(#clip5302)\" style=\"stroke:#000000; stroke-width:2; stroke-opacity:0.1; fill:none\" points=\"\n",
       "  612.883,1423.18 612.883,47.2441 \n",
       "  \"/>\n",
       "<polyline clip-path=\"url(#clip5302)\" style=\"stroke:#000000; stroke-width:2; stroke-opacity:0.1; fill:none\" points=\"\n",
       "  871.284,1423.18 871.284,47.2441 \n",
       "  \"/>\n",
       "<polyline clip-path=\"url(#clip5302)\" style=\"stroke:#000000; stroke-width:2; stroke-opacity:0.1; fill:none\" points=\"\n",
       "  1100.97,1423.18 1100.97,47.2441 \n",
       "  \"/>\n",
       "<polyline clip-path=\"url(#clip5302)\" style=\"stroke:#000000; stroke-width:2; stroke-opacity:0.1; fill:none\" points=\"\n",
       "  1359.38,1423.18 1359.38,47.2441 \n",
       "  \"/>\n",
       "<polyline clip-path=\"url(#clip5302)\" style=\"stroke:#000000; stroke-width:2; stroke-opacity:0.1; fill:none\" points=\"\n",
       "  1589.06,1423.18 1589.06,47.2441 \n",
       "  \"/>\n",
       "<polyline clip-path=\"url(#clip5302)\" style=\"stroke:#000000; stroke-width:2; stroke-opacity:0.1; fill:none\" points=\"\n",
       "  1847.47,1423.18 1847.47,47.2441 \n",
       "  \"/>\n",
       "<polyline clip-path=\"url(#clip5302)\" style=\"stroke:#000000; stroke-width:2; stroke-opacity:0.1; fill:none\" points=\"\n",
       "  2077.16,1423.18 2077.16,47.2441 \n",
       "  \"/>\n",
       "<polyline clip-path=\"url(#clip5302)\" style=\"stroke:#000000; stroke-width:2; stroke-opacity:0.1; fill:none\" points=\"\n",
       "  2306.85,1423.18 2306.85,47.2441 \n",
       "  \"/>\n",
       "<polyline clip-path=\"url(#clip5302)\" style=\"stroke:#000000; stroke-width:2; stroke-opacity:0.1; fill:none\" points=\"\n",
       "  2565.25,1423.18 2565.25,47.2441 \n",
       "  \"/>\n",
       "<polyline clip-path=\"url(#clip5302)\" style=\"stroke:#000000; stroke-width:2; stroke-opacity:0.1; fill:none\" points=\"\n",
       "  2794.94,1423.18 2794.94,47.2441 \n",
       "  \"/>\n",
       "<polyline clip-path=\"url(#clip5302)\" style=\"stroke:#000000; stroke-width:2; stroke-opacity:0.1; fill:none\" points=\"\n",
       "  3053.34,1423.18 3053.34,47.2441 \n",
       "  \"/>\n",
       "<polyline clip-path=\"url(#clip5302)\" style=\"stroke:#000000; stroke-width:2; stroke-opacity:0.1; fill:none\" points=\"\n",
       "  3283.03,1423.18 3283.03,47.2441 \n",
       "  \"/>\n",
       "<polyline clip-path=\"url(#clip5302)\" style=\"stroke:#000000; stroke-width:2; stroke-opacity:0.1; fill:none\" points=\"\n",
       "  3541.43,1423.18 3541.43,47.2441 \n",
       "  \"/>\n",
       "<polyline clip-path=\"url(#clip5302)\" style=\"stroke:#000000; stroke-width:2; stroke-opacity:0.1; fill:none\" points=\"\n",
       "  3771.12,1423.18 3771.12,47.2441 \n",
       "  \"/>\n",
       "<polyline clip-path=\"url(#clip5302)\" style=\"stroke:#000000; stroke-width:2; stroke-opacity:0.1; fill:none\" points=\"\n",
       "  281.556,1129.33 3872.76,1129.33 \n",
       "  \"/>\n",
       "<polyline clip-path=\"url(#clip5302)\" style=\"stroke:#000000; stroke-width:2; stroke-opacity:0.1; fill:none\" points=\"\n",
       "  281.556,783.915 3872.76,783.915 \n",
       "  \"/>\n",
       "<polyline clip-path=\"url(#clip5302)\" style=\"stroke:#000000; stroke-width:2; stroke-opacity:0.1; fill:none\" points=\"\n",
       "  281.556,438.504 3872.76,438.504 \n",
       "  \"/>\n",
       "<polyline clip-path=\"url(#clip5302)\" style=\"stroke:#000000; stroke-width:2; stroke-opacity:0.1; fill:none\" points=\"\n",
       "  281.556,93.0939 3872.76,93.0939 \n",
       "  \"/>\n",
       "<polyline clip-path=\"url(#clip5300)\" style=\"stroke:#000000; stroke-width:4; stroke-opacity:1; fill:none\" points=\"\n",
       "  281.556,1423.18 3872.76,1423.18 \n",
       "  \"/>\n",
       "<polyline clip-path=\"url(#clip5300)\" style=\"stroke:#000000; stroke-width:4; stroke-opacity:1; fill:none\" points=\"\n",
       "  281.556,1423.18 281.556,47.2441 \n",
       "  \"/>\n",
       "<polyline clip-path=\"url(#clip5300)\" style=\"stroke:#000000; stroke-width:4; stroke-opacity:1; fill:none\" points=\"\n",
       "  383.193,1423.18 383.193,1406.67 \n",
       "  \"/>\n",
       "<polyline clip-path=\"url(#clip5300)\" style=\"stroke:#000000; stroke-width:4; stroke-opacity:1; fill:none\" points=\"\n",
       "  612.883,1423.18 612.883,1406.67 \n",
       "  \"/>\n",
       "<polyline clip-path=\"url(#clip5300)\" style=\"stroke:#000000; stroke-width:4; stroke-opacity:1; fill:none\" points=\"\n",
       "  871.284,1423.18 871.284,1406.67 \n",
       "  \"/>\n",
       "<polyline clip-path=\"url(#clip5300)\" style=\"stroke:#000000; stroke-width:4; stroke-opacity:1; fill:none\" points=\"\n",
       "  1100.97,1423.18 1100.97,1406.67 \n",
       "  \"/>\n",
       "<polyline clip-path=\"url(#clip5300)\" style=\"stroke:#000000; stroke-width:4; stroke-opacity:1; fill:none\" points=\"\n",
       "  1359.38,1423.18 1359.38,1406.67 \n",
       "  \"/>\n",
       "<polyline clip-path=\"url(#clip5300)\" style=\"stroke:#000000; stroke-width:4; stroke-opacity:1; fill:none\" points=\"\n",
       "  1589.06,1423.18 1589.06,1406.67 \n",
       "  \"/>\n",
       "<polyline clip-path=\"url(#clip5300)\" style=\"stroke:#000000; stroke-width:4; stroke-opacity:1; fill:none\" points=\"\n",
       "  1847.47,1423.18 1847.47,1406.67 \n",
       "  \"/>\n",
       "<polyline clip-path=\"url(#clip5300)\" style=\"stroke:#000000; stroke-width:4; stroke-opacity:1; fill:none\" points=\"\n",
       "  2077.16,1423.18 2077.16,1406.67 \n",
       "  \"/>\n",
       "<polyline clip-path=\"url(#clip5300)\" style=\"stroke:#000000; stroke-width:4; stroke-opacity:1; fill:none\" points=\"\n",
       "  2306.85,1423.18 2306.85,1406.67 \n",
       "  \"/>\n",
       "<polyline clip-path=\"url(#clip5300)\" style=\"stroke:#000000; stroke-width:4; stroke-opacity:1; fill:none\" points=\"\n",
       "  2565.25,1423.18 2565.25,1406.67 \n",
       "  \"/>\n",
       "<polyline clip-path=\"url(#clip5300)\" style=\"stroke:#000000; stroke-width:4; stroke-opacity:1; fill:none\" points=\"\n",
       "  2794.94,1423.18 2794.94,1406.67 \n",
       "  \"/>\n",
       "<polyline clip-path=\"url(#clip5300)\" style=\"stroke:#000000; stroke-width:4; stroke-opacity:1; fill:none\" points=\"\n",
       "  3053.34,1423.18 3053.34,1406.67 \n",
       "  \"/>\n",
       "<polyline clip-path=\"url(#clip5300)\" style=\"stroke:#000000; stroke-width:4; stroke-opacity:1; fill:none\" points=\"\n",
       "  3283.03,1423.18 3283.03,1406.67 \n",
       "  \"/>\n",
       "<polyline clip-path=\"url(#clip5300)\" style=\"stroke:#000000; stroke-width:4; stroke-opacity:1; fill:none\" points=\"\n",
       "  3541.43,1423.18 3541.43,1406.67 \n",
       "  \"/>\n",
       "<polyline clip-path=\"url(#clip5300)\" style=\"stroke:#000000; stroke-width:4; stroke-opacity:1; fill:none\" points=\"\n",
       "  3771.12,1423.18 3771.12,1406.67 \n",
       "  \"/>\n",
       "<polyline clip-path=\"url(#clip5300)\" style=\"stroke:#000000; stroke-width:4; stroke-opacity:1; fill:none\" points=\"\n",
       "  281.556,1129.33 324.65,1129.33 \n",
       "  \"/>\n",
       "<polyline clip-path=\"url(#clip5300)\" style=\"stroke:#000000; stroke-width:4; stroke-opacity:1; fill:none\" points=\"\n",
       "  281.556,783.915 324.65,783.915 \n",
       "  \"/>\n",
       "<polyline clip-path=\"url(#clip5300)\" style=\"stroke:#000000; stroke-width:4; stroke-opacity:1; fill:none\" points=\"\n",
       "  281.556,438.504 324.65,438.504 \n",
       "  \"/>\n",
       "<polyline clip-path=\"url(#clip5300)\" style=\"stroke:#000000; stroke-width:4; stroke-opacity:1; fill:none\" points=\"\n",
       "  281.556,93.0939 324.65,93.0939 \n",
       "  \"/>\n",
       "<path clip-path=\"url(#clip5300)\" d=\"M 0 0 M288.645 1450.83 L288.645 1455.39 Q285.983 1454.11 283.622 1453.49 Q281.261 1452.86 279.062 1452.86 Q275.243 1452.86 273.159 1454.34 Q271.099 1455.83 271.099 1458.56 Q271.099 1460.85 272.465 1462.03 Q273.854 1463.19 277.696 1463.9 L280.52 1464.48 Q285.752 1465.48 288.229 1468 Q290.729 1470.5 290.729 1474.71 Q290.729 1479.74 287.349 1482.33 Q283.993 1484.92 277.488 1484.92 Q275.034 1484.92 272.257 1484.37 Q269.502 1483.81 266.539 1482.72 L266.539 1477.91 Q269.386 1479.51 272.118 1480.32 Q274.849 1481.13 277.488 1481.13 Q281.493 1481.13 283.669 1479.55 Q285.844 1477.98 285.844 1475.06 Q285.844 1472.52 284.27 1471.08 Q282.719 1469.65 279.155 1468.93 L276.307 1468.37 Q271.076 1467.33 268.738 1465.11 Q266.4 1462.89 266.4 1458.93 Q266.4 1454.34 269.618 1451.71 Q272.858 1449.07 278.53 1449.07 Q280.96 1449.07 283.483 1449.51 Q286.007 1449.95 288.645 1450.83 Z\" fill=\"#000000\" fill-rule=\"evenodd\" fill-opacity=\"1\" /><path clip-path=\"url(#clip5300)\" d=\"M 0 0 M317.372 1470.22 L317.372 1472.31 L297.789 1472.31 Q298.067 1476.71 300.428 1479.02 Q302.812 1481.31 307.048 1481.31 Q309.502 1481.31 311.793 1480.71 Q314.108 1480.11 316.377 1478.9 L316.377 1482.93 Q314.085 1483.9 311.678 1484.41 Q309.27 1484.92 306.793 1484.92 Q300.59 1484.92 296.956 1481.31 Q293.344 1477.7 293.344 1471.54 Q293.344 1465.18 296.77 1461.45 Q300.219 1457.7 306.053 1457.7 Q311.284 1457.7 314.317 1461.08 Q317.372 1464.44 317.372 1470.22 M313.113 1468.97 Q313.067 1465.48 311.145 1463.4 Q309.247 1461.31 306.099 1461.31 Q302.534 1461.31 300.381 1463.33 Q298.252 1465.34 297.928 1469 L313.113 1468.97 Z\" fill=\"#000000\" fill-rule=\"evenodd\" fill-opacity=\"1\" /><path clip-path=\"url(#clip5300)\" d=\"M 0 0 M325.96 1480.36 L325.96 1494.11 L321.678 1494.11 L321.678 1458.33 L325.96 1458.33 L325.96 1462.26 Q327.303 1459.95 329.34 1458.84 Q331.4 1457.7 334.247 1457.7 Q338.969 1457.7 341.909 1461.45 Q344.872 1465.2 344.872 1471.31 Q344.872 1477.42 341.909 1481.17 Q338.969 1484.92 334.247 1484.92 Q331.4 1484.92 329.34 1483.81 Q327.303 1482.68 325.96 1480.36 M340.451 1471.31 Q340.451 1466.61 338.506 1463.95 Q336.585 1461.27 333.205 1461.27 Q329.826 1461.27 327.881 1463.95 Q325.96 1466.61 325.96 1471.31 Q325.96 1476.01 327.881 1478.7 Q329.826 1481.36 333.205 1481.36 Q336.585 1481.36 338.506 1478.7 Q340.451 1476.01 340.451 1471.31 Z\" fill=\"#000000\" fill-rule=\"evenodd\" fill-opacity=\"1\" /><path clip-path=\"url(#clip5300)\" d=\"M 0 0 M349.941 1478.37 L354.826 1478.37 L354.826 1484.25 L349.941 1484.25 L349.941 1478.37 Z\" fill=\"#000000\" fill-rule=\"evenodd\" fill-opacity=\"1\" /><path clip-path=\"url(#clip5300)\" d=\"M 0 0 M375.775 1480.32 L383.413 1480.32 L383.413 1453.95 L375.103 1455.62 L375.103 1451.36 L383.367 1449.69 L388.043 1449.69 L388.043 1480.32 L395.682 1480.32 L395.682 1484.25 L375.775 1484.25 L375.775 1480.32 Z\" fill=\"#000000\" fill-rule=\"evenodd\" fill-opacity=\"1\" /><path clip-path=\"url(#clip5300)\" d=\"M 0 0 M414.918 1465.62 Q418.274 1466.34 420.149 1468.6 Q422.047 1470.87 422.047 1474.21 Q422.047 1479.32 418.529 1482.12 Q415.01 1484.92 408.529 1484.92 Q406.353 1484.92 404.038 1484.48 Q401.747 1484.07 399.293 1483.21 L399.293 1478.7 Q401.237 1479.83 403.552 1480.41 Q405.867 1480.99 408.39 1480.99 Q412.788 1480.99 415.08 1479.25 Q417.395 1477.52 417.395 1474.21 Q417.395 1471.15 415.242 1469.44 Q413.112 1467.7 409.293 1467.7 L405.265 1467.7 L405.265 1463.86 L409.478 1463.86 Q412.927 1463.86 414.756 1462.49 Q416.585 1461.1 416.585 1458.51 Q416.585 1455.85 414.686 1454.44 Q412.811 1453 409.293 1453 Q407.372 1453 405.173 1453.42 Q402.973 1453.84 400.335 1454.71 L400.335 1450.55 Q402.997 1449.81 405.311 1449.44 Q407.649 1449.07 409.71 1449.07 Q415.034 1449.07 418.135 1451.5 Q421.237 1453.9 421.237 1458.03 Q421.237 1460.9 419.594 1462.89 Q417.95 1464.85 414.918 1465.62 Z\" fill=\"#000000\" fill-rule=\"evenodd\" fill-opacity=\"1\" /><path clip-path=\"url(#clip5300)\" d=\"M 0 0 M427.603 1478.37 L432.487 1478.37 L432.487 1482.35 L428.691 1489.76 L425.705 1489.76 L427.603 1482.35 L427.603 1478.37 Z\" fill=\"#000000\" fill-rule=\"evenodd\" fill-opacity=\"1\" /><path clip-path=\"url(#clip5300)\" d=\"M 0 0 M456.654 1480.32 L472.973 1480.32 L472.973 1484.25 L451.029 1484.25 L451.029 1480.32 Q453.691 1477.56 458.274 1472.93 Q462.881 1468.28 464.061 1466.94 Q466.306 1464.41 467.186 1462.68 Q468.089 1460.92 468.089 1459.23 Q468.089 1456.47 466.144 1454.74 Q464.223 1453 461.121 1453 Q458.922 1453 456.469 1453.77 Q454.038 1454.53 451.26 1456.08 L451.26 1451.36 Q454.084 1450.22 456.538 1449.65 Q458.992 1449.07 461.029 1449.07 Q466.399 1449.07 469.593 1451.75 Q472.788 1454.44 472.788 1458.93 Q472.788 1461.06 471.978 1462.98 Q471.191 1464.88 469.084 1467.47 Q468.506 1468.14 465.404 1471.36 Q462.302 1474.55 456.654 1480.32 Z\" fill=\"#000000\" fill-rule=\"evenodd\" fill-opacity=\"1\" /><path clip-path=\"url(#clip5300)\" d=\"M 0 0 M488.042 1452.77 Q484.431 1452.77 482.603 1456.34 Q480.797 1459.88 480.797 1467.01 Q480.797 1474.11 482.603 1477.68 Q484.431 1481.22 488.042 1481.22 Q491.677 1481.22 493.482 1477.68 Q495.311 1474.11 495.311 1467.01 Q495.311 1459.88 493.482 1456.34 Q491.677 1452.77 488.042 1452.77 M488.042 1449.07 Q493.853 1449.07 496.908 1453.67 Q499.987 1458.26 499.987 1467.01 Q499.987 1475.73 496.908 1480.34 Q493.853 1484.92 488.042 1484.92 Q482.232 1484.92 479.154 1480.34 Q476.098 1475.73 476.098 1467.01 Q476.098 1458.26 479.154 1453.67 Q482.232 1449.07 488.042 1449.07 Z\" fill=\"#000000\" fill-rule=\"evenodd\" fill-opacity=\"1\" /><path clip-path=\"url(#clip5300)\" d=\"M 0 0 M518.81 1450.83 L518.81 1455.39 Q516.148 1454.11 513.787 1453.49 Q511.426 1452.86 509.226 1452.86 Q505.407 1452.86 503.324 1454.34 Q501.264 1455.83 501.264 1458.56 Q501.264 1460.85 502.629 1462.03 Q504.018 1463.19 507.861 1463.9 L510.685 1464.48 Q515.916 1465.48 518.393 1468 Q520.893 1470.5 520.893 1474.71 Q520.893 1479.74 517.513 1482.33 Q514.157 1484.92 507.652 1484.92 Q505.199 1484.92 502.421 1484.37 Q499.666 1483.81 496.703 1482.72 L496.703 1477.91 Q499.551 1479.51 502.282 1480.32 Q505.014 1481.13 507.652 1481.13 Q511.657 1481.13 513.833 1479.55 Q516.009 1477.98 516.009 1475.06 Q516.009 1472.52 514.435 1471.08 Q512.884 1469.65 509.319 1468.93 L506.472 1468.37 Q501.24 1467.33 498.902 1465.11 Q496.564 1462.89 496.564 1458.93 Q496.564 1454.34 499.782 1451.71 Q503.023 1449.07 508.694 1449.07 Q511.125 1449.07 513.648 1449.51 Q516.171 1449.95 518.81 1450.83 Z\" fill=\"#000000\" fill-rule=\"evenodd\" fill-opacity=\"1\" /><path clip-path=\"url(#clip5300)\" d=\"M 0 0 M547.536 1470.22 L547.536 1472.31 L527.953 1472.31 Q528.231 1476.71 530.592 1479.02 Q532.976 1481.31 537.212 1481.31 Q539.666 1481.31 541.958 1480.71 Q544.273 1480.11 546.541 1478.9 L546.541 1482.93 Q544.249 1483.9 541.842 1484.41 Q539.435 1484.92 536.958 1484.92 Q530.754 1484.92 527.12 1481.31 Q523.509 1477.7 523.509 1471.54 Q523.509 1465.18 526.935 1461.45 Q530.384 1457.7 536.217 1457.7 Q541.448 1457.7 544.481 1461.08 Q547.536 1464.44 547.536 1470.22 M543.277 1468.97 Q543.231 1465.48 541.31 1463.4 Q539.411 1461.31 536.263 1461.31 Q532.699 1461.31 530.546 1463.33 Q528.416 1465.34 528.092 1469 L543.277 1468.97 Z\" fill=\"#000000\" fill-rule=\"evenodd\" fill-opacity=\"1\" /><path clip-path=\"url(#clip5300)\" d=\"M 0 0 M556.124 1480.36 L556.124 1494.11 L551.842 1494.11 L551.842 1458.33 L556.124 1458.33 L556.124 1462.26 Q557.467 1459.95 559.504 1458.84 Q561.564 1457.7 564.411 1457.7 Q569.134 1457.7 572.073 1461.45 Q575.036 1465.2 575.036 1471.31 Q575.036 1477.42 572.073 1481.17 Q569.134 1484.92 564.411 1484.92 Q561.564 1484.92 559.504 1483.81 Q557.467 1482.68 556.124 1480.36 M570.615 1471.31 Q570.615 1466.61 568.671 1463.95 Q566.749 1461.27 563.37 1461.27 Q559.99 1461.27 558.046 1463.95 Q556.124 1466.61 556.124 1471.31 Q556.124 1476.01 558.046 1478.7 Q559.99 1481.36 563.37 1481.36 Q566.749 1481.36 568.671 1478.7 Q570.615 1476.01 570.615 1471.31 Z\" fill=\"#000000\" fill-rule=\"evenodd\" fill-opacity=\"1\" /><path clip-path=\"url(#clip5300)\" d=\"M 0 0 M580.106 1478.37 L584.99 1478.37 L584.99 1484.25 L580.106 1484.25 L580.106 1478.37 Z\" fill=\"#000000\" fill-rule=\"evenodd\" fill-opacity=\"1\" /><path clip-path=\"url(#clip5300)\" d=\"M 0 0 M609.156 1480.32 L625.476 1480.32 L625.476 1484.25 L603.531 1484.25 L603.531 1480.32 Q606.194 1477.56 610.777 1472.93 Q615.383 1468.28 616.564 1466.94 Q618.809 1464.41 619.689 1462.68 Q620.592 1460.92 620.592 1459.23 Q620.592 1456.47 618.647 1454.74 Q616.726 1453 613.624 1453 Q611.425 1453 608.971 1453.77 Q606.541 1454.53 603.763 1456.08 L603.763 1451.36 Q606.587 1450.22 609.041 1449.65 Q611.494 1449.07 613.531 1449.07 Q618.902 1449.07 622.096 1451.75 Q625.291 1454.44 625.291 1458.93 Q625.291 1461.06 624.48 1462.98 Q623.693 1464.88 621.587 1467.47 Q621.008 1468.14 617.906 1471.36 Q614.805 1474.55 609.156 1480.32 Z\" fill=\"#000000\" fill-rule=\"evenodd\" fill-opacity=\"1\" /><path clip-path=\"url(#clip5300)\" d=\"M 0 0 M631.355 1480.32 L638.994 1480.32 L638.994 1453.95 L630.684 1455.62 L630.684 1451.36 L638.948 1449.69 L643.624 1449.69 L643.624 1480.32 L651.263 1480.32 L651.263 1484.25 L631.355 1484.25 L631.355 1480.32 Z\" fill=\"#000000\" fill-rule=\"evenodd\" fill-opacity=\"1\" /><path clip-path=\"url(#clip5300)\" d=\"M 0 0 M656.818 1478.37 L661.702 1478.37 L661.702 1482.35 L657.906 1489.76 L654.92 1489.76 L656.818 1482.35 L656.818 1478.37 Z\" fill=\"#000000\" fill-rule=\"evenodd\" fill-opacity=\"1\" /><path clip-path=\"url(#clip5300)\" d=\"M 0 0 M685.869 1480.32 L702.188 1480.32 L702.188 1484.25 L680.244 1484.25 L680.244 1480.32 Q682.906 1477.56 687.489 1472.93 Q692.096 1468.28 693.276 1466.94 Q695.522 1464.41 696.401 1462.68 Q697.304 1460.92 697.304 1459.23 Q697.304 1456.47 695.36 1454.74 Q693.438 1453 690.337 1453 Q688.138 1453 685.684 1453.77 Q683.253 1454.53 680.476 1456.08 L680.476 1451.36 Q683.3 1450.22 685.753 1449.65 Q688.207 1449.07 690.244 1449.07 Q695.614 1449.07 698.809 1451.75 Q702.003 1454.44 702.003 1458.93 Q702.003 1461.06 701.193 1462.98 Q700.406 1464.88 698.3 1467.47 Q697.721 1468.14 694.619 1471.36 Q691.517 1474.55 685.869 1480.32 Z\" fill=\"#000000\" fill-rule=\"evenodd\" fill-opacity=\"1\" /><path clip-path=\"url(#clip5300)\" d=\"M 0 0 M717.258 1452.77 Q713.647 1452.77 711.818 1456.34 Q710.012 1459.88 710.012 1467.01 Q710.012 1474.11 711.818 1477.68 Q713.647 1481.22 717.258 1481.22 Q720.892 1481.22 722.698 1477.68 Q724.526 1474.11 724.526 1467.01 Q724.526 1459.88 722.698 1456.34 Q720.892 1452.77 717.258 1452.77 M717.258 1449.07 Q723.068 1449.07 726.123 1453.67 Q729.202 1458.26 729.202 1467.01 Q729.202 1475.73 726.123 1480.34 Q723.068 1484.92 717.258 1484.92 Q711.448 1484.92 708.369 1480.34 Q705.313 1475.73 705.313 1467.01 Q705.313 1458.26 708.369 1453.67 Q711.448 1449.07 717.258 1449.07 Z\" fill=\"#000000\" fill-rule=\"evenodd\" fill-opacity=\"1\" /><path clip-path=\"url(#clip5300)\" d=\"M 0 0 M776.123 1450.83 L776.123 1455.39 Q773.461 1454.11 771.1 1453.49 Q768.739 1452.86 766.54 1452.86 Q762.72 1452.86 760.637 1454.34 Q758.577 1455.83 758.577 1458.56 Q758.577 1460.85 759.942 1462.03 Q761.331 1463.19 765.174 1463.9 L767.998 1464.48 Q773.229 1465.48 775.706 1468 Q778.206 1470.5 778.206 1474.71 Q778.206 1479.74 774.827 1482.33 Q771.47 1484.92 764.965 1484.92 Q762.512 1484.92 759.734 1484.37 Q756.979 1483.81 754.016 1482.72 L754.016 1477.91 Q756.864 1479.51 759.595 1480.32 Q762.327 1481.13 764.965 1481.13 Q768.97 1481.13 771.146 1479.55 Q773.322 1477.98 773.322 1475.06 Q773.322 1472.52 771.748 1471.08 Q770.197 1469.65 766.632 1468.93 L763.785 1468.37 Q758.553 1467.33 756.216 1465.11 Q753.878 1462.89 753.878 1458.93 Q753.878 1454.34 757.095 1451.71 Q760.336 1449.07 766.007 1449.07 Q768.438 1449.07 770.961 1449.51 Q773.484 1449.95 776.123 1450.83 Z\" fill=\"#000000\" fill-rule=\"evenodd\" fill-opacity=\"1\" /><path clip-path=\"url(#clip5300)\" d=\"M 0 0 M804.85 1470.22 L804.85 1472.31 L785.266 1472.31 Q785.544 1476.71 787.905 1479.02 Q790.289 1481.31 794.525 1481.31 Q796.979 1481.31 799.271 1480.71 Q801.586 1480.11 803.854 1478.9 L803.854 1482.93 Q801.562 1483.9 799.155 1484.41 Q796.748 1484.92 794.271 1484.92 Q788.067 1484.92 784.433 1481.31 Q780.822 1477.7 780.822 1471.54 Q780.822 1465.18 784.248 1461.45 Q787.697 1457.7 793.53 1457.7 Q798.762 1457.7 801.794 1461.08 Q804.85 1464.44 804.85 1470.22 M800.59 1468.97 Q800.544 1465.48 798.623 1463.4 Q796.725 1461.31 793.576 1461.31 Q790.012 1461.31 787.859 1463.33 Q785.729 1465.34 785.405 1469 L800.59 1468.97 Z\" fill=\"#000000\" fill-rule=\"evenodd\" fill-opacity=\"1\" /><path clip-path=\"url(#clip5300)\" d=\"M 0 0 M813.437 1480.36 L813.437 1494.11 L809.155 1494.11 L809.155 1458.33 L813.437 1458.33 L813.437 1462.26 Q814.78 1459.95 816.817 1458.84 Q818.877 1457.7 821.724 1457.7 Q826.447 1457.7 829.386 1461.45 Q832.349 1465.2 832.349 1471.31 Q832.349 1477.42 829.386 1481.17 Q826.447 1484.92 821.724 1484.92 Q818.877 1484.92 816.817 1483.81 Q814.78 1482.68 813.437 1480.36 M827.928 1471.31 Q827.928 1466.61 825.984 1463.95 Q824.062 1461.27 820.683 1461.27 Q817.303 1461.27 815.359 1463.95 Q813.437 1466.61 813.437 1471.31 Q813.437 1476.01 815.359 1478.7 Q817.303 1481.36 820.683 1481.36 Q824.062 1481.36 825.984 1478.7 Q827.928 1476.01 827.928 1471.31 Z\" fill=\"#000000\" fill-rule=\"evenodd\" fill-opacity=\"1\" /><path clip-path=\"url(#clip5300)\" d=\"M 0 0 M837.419 1478.37 L842.303 1478.37 L842.303 1484.25 L837.419 1484.25 L837.419 1478.37 Z\" fill=\"#000000\" fill-rule=\"evenodd\" fill-opacity=\"1\" /><path clip-path=\"url(#clip5300)\" d=\"M 0 0 M876.608 1465.62 Q879.965 1466.34 881.84 1468.6 Q883.738 1470.87 883.738 1474.21 Q883.738 1479.32 880.219 1482.12 Q876.701 1484.92 870.22 1484.92 Q868.044 1484.92 865.729 1484.48 Q863.437 1484.07 860.983 1483.21 L860.983 1478.7 Q862.928 1479.83 865.243 1480.41 Q867.558 1480.99 870.081 1480.99 Q874.479 1480.99 876.77 1479.25 Q879.085 1477.52 879.085 1474.21 Q879.085 1471.15 876.932 1469.44 Q874.803 1467.7 870.983 1467.7 L866.956 1467.7 L866.956 1463.86 L871.169 1463.86 Q874.618 1463.86 876.446 1462.49 Q878.275 1461.1 878.275 1458.51 Q878.275 1455.85 876.377 1454.44 Q874.502 1453 870.983 1453 Q869.062 1453 866.863 1453.42 Q864.664 1453.84 862.025 1454.71 L862.025 1450.55 Q864.687 1449.81 867.002 1449.44 Q869.34 1449.07 871.4 1449.07 Q876.724 1449.07 879.826 1451.5 Q882.928 1453.9 882.928 1458.03 Q882.928 1460.9 881.284 1462.89 Q879.641 1464.85 876.608 1465.62 Z\" fill=\"#000000\" fill-rule=\"evenodd\" fill-opacity=\"1\" /><path clip-path=\"url(#clip5300)\" d=\"M 0 0 M898.807 1452.77 Q895.196 1452.77 893.368 1456.34 Q891.562 1459.88 891.562 1467.01 Q891.562 1474.11 893.368 1477.68 Q895.196 1481.22 898.807 1481.22 Q902.442 1481.22 904.247 1477.68 Q906.076 1474.11 906.076 1467.01 Q906.076 1459.88 904.247 1456.34 Q902.442 1452.77 898.807 1452.77 M898.807 1449.07 Q904.617 1449.07 907.673 1453.67 Q910.752 1458.26 910.752 1467.01 Q910.752 1475.73 907.673 1480.34 Q904.617 1484.92 898.807 1484.92 Q892.997 1484.92 889.918 1480.34 Q886.863 1475.73 886.863 1467.01 Q886.863 1458.26 889.918 1453.67 Q892.997 1449.07 898.807 1449.07 Z\" fill=\"#000000\" fill-rule=\"evenodd\" fill-opacity=\"1\" /><path clip-path=\"url(#clip5300)\" d=\"M 0 0 M916.307 1478.37 L921.191 1478.37 L921.191 1482.35 L917.395 1489.76 L914.409 1489.76 L916.307 1482.35 L916.307 1478.37 Z\" fill=\"#000000\" fill-rule=\"evenodd\" fill-opacity=\"1\" /><path clip-path=\"url(#clip5300)\" d=\"M 0 0 M945.358 1480.32 L961.677 1480.32 L961.677 1484.25 L939.733 1484.25 L939.733 1480.32 Q942.395 1477.56 946.978 1472.93 Q951.585 1468.28 952.765 1466.94 Q955.011 1464.41 955.89 1462.68 Q956.793 1460.92 956.793 1459.23 Q956.793 1456.47 954.849 1454.74 Q952.927 1453 949.826 1453 Q947.627 1453 945.173 1453.77 Q942.742 1454.53 939.965 1456.08 L939.965 1451.36 Q942.789 1450.22 945.242 1449.65 Q947.696 1449.07 949.733 1449.07 Q955.103 1449.07 958.298 1451.75 Q961.492 1454.44 961.492 1458.93 Q961.492 1461.06 960.682 1462.98 Q959.895 1464.88 957.788 1467.47 Q957.21 1468.14 954.108 1471.36 Q951.006 1474.55 945.358 1480.32 Z\" fill=\"#000000\" fill-rule=\"evenodd\" fill-opacity=\"1\" /><path clip-path=\"url(#clip5300)\" d=\"M 0 0 M976.747 1452.77 Q973.136 1452.77 971.307 1456.34 Q969.501 1459.88 969.501 1467.01 Q969.501 1474.11 971.307 1477.68 Q973.136 1481.22 976.747 1481.22 Q980.381 1481.22 982.187 1477.68 Q984.015 1474.11 984.015 1467.01 Q984.015 1459.88 982.187 1456.34 Q980.381 1452.77 976.747 1452.77 M976.747 1449.07 Q982.557 1449.07 985.612 1453.67 Q988.691 1458.26 988.691 1467.01 Q988.691 1475.73 985.612 1480.34 Q982.557 1484.92 976.747 1484.92 Q970.937 1484.92 967.858 1480.34 Q964.802 1475.73 964.802 1467.01 Q964.802 1458.26 967.858 1453.67 Q970.937 1449.07 976.747 1449.07 Z\" fill=\"#000000\" fill-rule=\"evenodd\" fill-opacity=\"1\" /><path clip-path=\"url(#clip5300)\" d=\"M 0 0 M1015.77 1452.86 Q1010.67 1452.86 1007.66 1456.66 Q1004.68 1460.46 1004.68 1467.01 Q1004.68 1473.53 1007.66 1477.33 Q1010.67 1481.13 1015.77 1481.13 Q1020.86 1481.13 1023.82 1477.33 Q1026.81 1473.53 1026.81 1467.01 Q1026.81 1460.46 1023.82 1456.66 Q1020.86 1452.86 1015.77 1452.86 M1015.77 1449.07 Q1023.03 1449.07 1027.39 1453.95 Q1031.74 1458.81 1031.74 1467.01 Q1031.74 1475.18 1027.39 1480.06 Q1023.03 1484.92 1015.77 1484.92 Q1008.47 1484.92 1004.1 1480.06 Q999.748 1475.2 999.748 1467.01 Q999.748 1458.81 1004.1 1453.95 Q1008.47 1449.07 1015.77 1449.07 Z\" fill=\"#000000\" fill-rule=\"evenodd\" fill-opacity=\"1\" /><path clip-path=\"url(#clip5300)\" d=\"M 0 0 M1054.86 1459.32 L1054.86 1463.3 Q1053.06 1462.31 1051.23 1461.82 Q1049.42 1461.31 1047.57 1461.31 Q1043.43 1461.31 1041.14 1463.95 Q1038.84 1466.57 1038.84 1471.31 Q1038.84 1476.06 1041.14 1478.7 Q1043.43 1481.31 1047.57 1481.31 Q1049.42 1481.31 1051.23 1480.83 Q1053.06 1480.32 1054.86 1479.32 L1054.86 1483.26 Q1053.08 1484.09 1051.16 1484.51 Q1049.26 1484.92 1047.11 1484.92 Q1041.25 1484.92 1037.8 1481.24 Q1034.35 1477.56 1034.35 1471.31 Q1034.35 1464.97 1037.83 1461.34 Q1041.32 1457.7 1047.39 1457.7 Q1049.35 1457.7 1051.23 1458.12 Q1053.1 1458.51 1054.86 1459.32 Z\" fill=\"#000000\" fill-rule=\"evenodd\" fill-opacity=\"1\" /><path clip-path=\"url(#clip5300)\" d=\"M 0 0 M1063.54 1450.96 L1063.54 1458.33 L1072.32 1458.33 L1072.32 1461.64 L1063.54 1461.64 L1063.54 1475.71 Q1063.54 1478.88 1064.4 1479.78 Q1065.28 1480.69 1067.94 1480.69 L1072.32 1480.69 L1072.32 1484.25 L1067.94 1484.25 Q1063.01 1484.25 1061.14 1482.42 Q1059.26 1480.57 1059.26 1475.71 L1059.26 1461.64 L1056.14 1461.64 L1056.14 1458.33 L1059.26 1458.33 L1059.26 1450.96 L1063.54 1450.96 Z\" fill=\"#000000\" fill-rule=\"evenodd\" fill-opacity=\"1\" /><path clip-path=\"url(#clip5300)\" d=\"M 0 0 M1077.39 1478.37 L1082.27 1478.37 L1082.27 1484.25 L1077.39 1484.25 L1077.39 1478.37 Z\" fill=\"#000000\" fill-rule=\"evenodd\" fill-opacity=\"1\" /><path clip-path=\"url(#clip5300)\" d=\"M 0 0 M1112.41 1467.84 Q1109.08 1467.84 1107.15 1469.62 Q1105.26 1471.4 1105.26 1474.53 Q1105.26 1477.65 1107.15 1479.44 Q1109.08 1481.22 1112.41 1481.22 Q1115.74 1481.22 1117.66 1479.44 Q1119.59 1477.63 1119.59 1474.53 Q1119.59 1471.4 1117.66 1469.62 Q1115.77 1467.84 1112.41 1467.84 M1107.73 1465.85 Q1104.72 1465.11 1103.03 1463.05 Q1101.37 1460.99 1101.37 1458.03 Q1101.37 1453.88 1104.31 1451.47 Q1107.27 1449.07 1112.41 1449.07 Q1117.57 1449.07 1120.51 1451.47 Q1123.45 1453.88 1123.45 1458.03 Q1123.45 1460.99 1121.76 1463.05 Q1120.09 1465.11 1117.11 1465.85 Q1120.49 1466.64 1122.36 1468.93 Q1124.26 1471.22 1124.26 1474.53 Q1124.26 1479.55 1121.18 1482.24 Q1118.13 1484.92 1112.41 1484.92 Q1106.69 1484.92 1103.61 1482.24 Q1100.56 1479.55 1100.56 1474.53 Q1100.56 1471.22 1102.46 1468.93 Q1104.35 1466.64 1107.73 1465.85 M1106.02 1458.46 Q1106.02 1461.15 1107.69 1462.65 Q1109.38 1464.16 1112.41 1464.16 Q1115.42 1464.16 1117.11 1462.65 Q1118.82 1461.15 1118.82 1458.46 Q1118.82 1455.78 1117.11 1454.28 Q1115.42 1452.77 1112.41 1452.77 Q1109.38 1452.77 1107.69 1454.28 Q1106.02 1455.78 1106.02 1458.46 Z\" fill=\"#000000\" fill-rule=\"evenodd\" fill-opacity=\"1\" /><path clip-path=\"url(#clip5300)\" d=\"M 0 0 M1129.82 1478.37 L1134.7 1478.37 L1134.7 1482.35 L1130.9 1489.76 L1127.92 1489.76 L1129.82 1482.35 L1129.82 1478.37 Z\" fill=\"#000000\" fill-rule=\"evenodd\" fill-opacity=\"1\" /><path clip-path=\"url(#clip5300)\" d=\"M 0 0 M1158.87 1480.32 L1175.19 1480.32 L1175.19 1484.25 L1153.24 1484.25 L1153.24 1480.32 Q1155.9 1477.56 1160.49 1472.93 Q1165.09 1468.28 1166.27 1466.94 Q1168.52 1464.41 1169.4 1462.68 Q1170.3 1460.92 1170.3 1459.23 Q1170.3 1456.47 1168.36 1454.74 Q1166.44 1453 1163.33 1453 Q1161.14 1453 1158.68 1453.77 Q1156.25 1454.53 1153.47 1456.08 L1153.47 1451.36 Q1156.3 1450.22 1158.75 1449.65 Q1161.21 1449.07 1163.24 1449.07 Q1168.61 1449.07 1171.81 1451.75 Q1175 1454.44 1175 1458.93 Q1175 1461.06 1174.19 1462.98 Q1173.4 1464.88 1171.3 1467.47 Q1170.72 1468.14 1167.62 1471.36 Q1164.52 1474.55 1158.87 1480.32 Z\" fill=\"#000000\" fill-rule=\"evenodd\" fill-opacity=\"1\" /><path clip-path=\"url(#clip5300)\" d=\"M 0 0 M1190.26 1452.77 Q1186.64 1452.77 1184.82 1456.34 Q1183.01 1459.88 1183.01 1467.01 Q1183.01 1474.11 1184.82 1477.68 Q1186.64 1481.22 1190.26 1481.22 Q1193.89 1481.22 1195.7 1477.68 Q1197.52 1474.11 1197.52 1467.01 Q1197.52 1459.88 1195.7 1456.34 Q1193.89 1452.77 1190.26 1452.77 M1190.26 1449.07 Q1196.07 1449.07 1199.12 1453.67 Q1202.2 1458.26 1202.2 1467.01 Q1202.2 1475.73 1199.12 1480.34 Q1196.07 1484.92 1190.26 1484.92 Q1184.45 1484.92 1181.37 1480.34 Q1178.31 1475.73 1178.31 1467.01 Q1178.31 1458.26 1181.37 1453.67 Q1184.45 1449.07 1190.26 1449.07 Z\" fill=\"#000000\" fill-rule=\"evenodd\" fill-opacity=\"1\" /><path clip-path=\"url(#clip5300)\" d=\"M 0 0 M1261.68 1452.86 Q1256.59 1452.86 1253.58 1456.66 Q1250.59 1460.46 1250.59 1467.01 Q1250.59 1473.53 1253.58 1477.33 Q1256.59 1481.13 1261.68 1481.13 Q1266.77 1481.13 1269.73 1477.33 Q1272.72 1473.53 1272.72 1467.01 Q1272.72 1460.46 1269.73 1456.66 Q1266.77 1452.86 1261.68 1452.86 M1261.68 1449.07 Q1268.95 1449.07 1273.3 1453.95 Q1277.65 1458.81 1277.65 1467.01 Q1277.65 1475.18 1273.3 1480.06 Q1268.95 1484.92 1261.68 1484.92 Q1254.39 1484.92 1250.01 1480.06 Q1245.66 1475.2 1245.66 1467.01 Q1245.66 1458.81 1250.01 1453.95 Q1254.39 1449.07 1261.68 1449.07 Z\" fill=\"#000000\" fill-rule=\"evenodd\" fill-opacity=\"1\" /><path clip-path=\"url(#clip5300)\" d=\"M 0 0 M1300.78 1459.32 L1300.78 1463.3 Q1298.97 1462.31 1297.14 1461.82 Q1295.34 1461.31 1293.48 1461.31 Q1289.34 1461.31 1287.05 1463.95 Q1284.76 1466.57 1284.76 1471.31 Q1284.76 1476.06 1287.05 1478.7 Q1289.34 1481.31 1293.48 1481.31 Q1295.34 1481.31 1297.14 1480.83 Q1298.97 1480.32 1300.78 1479.32 L1300.78 1483.26 Q1298.99 1484.09 1297.07 1484.51 Q1295.17 1484.92 1293.02 1484.92 Q1287.16 1484.92 1283.72 1481.24 Q1280.27 1477.56 1280.27 1471.31 Q1280.27 1464.97 1283.74 1461.34 Q1287.23 1457.7 1293.3 1457.7 Q1295.27 1457.7 1297.14 1458.12 Q1299.02 1458.51 1300.78 1459.32 Z\" fill=\"#000000\" fill-rule=\"evenodd\" fill-opacity=\"1\" /><path clip-path=\"url(#clip5300)\" d=\"M 0 0 M1309.46 1450.96 L1309.46 1458.33 L1318.23 1458.33 L1318.23 1461.64 L1309.46 1461.64 L1309.46 1475.71 Q1309.46 1478.88 1310.31 1479.78 Q1311.19 1480.69 1313.85 1480.69 L1318.23 1480.69 L1318.23 1484.25 L1313.85 1484.25 Q1308.92 1484.25 1307.05 1482.42 Q1305.17 1480.57 1305.17 1475.71 L1305.17 1461.64 L1302.05 1461.64 L1302.05 1458.33 L1305.17 1458.33 L1305.17 1450.96 L1309.46 1450.96 Z\" fill=\"#000000\" fill-rule=\"evenodd\" fill-opacity=\"1\" /><path clip-path=\"url(#clip5300)\" d=\"M 0 0 M1323.3 1478.37 L1328.18 1478.37 L1328.18 1484.25 L1323.3 1484.25 L1323.3 1478.37 Z\" fill=\"#000000\" fill-rule=\"evenodd\" fill-opacity=\"1\" /><path clip-path=\"url(#clip5300)\" d=\"M 0 0 M1349.13 1480.32 L1356.77 1480.32 L1356.77 1453.95 L1348.46 1455.62 L1348.46 1451.36 L1356.72 1449.69 L1361.4 1449.69 L1361.4 1480.32 L1369.04 1480.32 L1369.04 1484.25 L1349.13 1484.25 L1349.13 1480.32 Z\" fill=\"#000000\" fill-rule=\"evenodd\" fill-opacity=\"1\" /><path clip-path=\"url(#clip5300)\" d=\"M 0 0 M1372.93 1449.69 L1395.15 1449.69 L1395.15 1451.68 L1382.6 1484.25 L1377.72 1484.25 L1389.53 1453.63 L1372.93 1453.63 L1372.93 1449.69 Z\" fill=\"#000000\" fill-rule=\"evenodd\" fill-opacity=\"1\" /><path clip-path=\"url(#clip5300)\" d=\"M 0 0 M1400.71 1478.37 L1405.59 1478.37 L1405.59 1482.35 L1401.79 1489.76 L1398.81 1489.76 L1400.71 1482.35 L1400.71 1478.37 Z\" fill=\"#000000\" fill-rule=\"evenodd\" fill-opacity=\"1\" /><path clip-path=\"url(#clip5300)\" d=\"M 0 0 M1429.76 1480.32 L1446.08 1480.32 L1446.08 1484.25 L1424.13 1484.25 L1424.13 1480.32 Q1426.79 1477.56 1431.38 1472.93 Q1435.98 1468.28 1437.16 1466.94 Q1439.41 1464.41 1440.29 1462.68 Q1441.19 1460.92 1441.19 1459.23 Q1441.19 1456.47 1439.25 1454.74 Q1437.33 1453 1434.22 1453 Q1432.03 1453 1429.57 1453.77 Q1427.14 1454.53 1424.36 1456.08 L1424.36 1451.36 Q1427.19 1450.22 1429.64 1449.65 Q1432.09 1449.07 1434.13 1449.07 Q1439.5 1449.07 1442.7 1451.75 Q1445.89 1454.44 1445.89 1458.93 Q1445.89 1461.06 1445.08 1462.98 Q1444.29 1464.88 1442.19 1467.47 Q1441.61 1468.14 1438.51 1471.36 Q1435.4 1474.55 1429.76 1480.32 Z\" fill=\"#000000\" fill-rule=\"evenodd\" fill-opacity=\"1\" /><path clip-path=\"url(#clip5300)\" d=\"M 0 0 M1461.15 1452.77 Q1457.53 1452.77 1455.71 1456.34 Q1453.9 1459.88 1453.9 1467.01 Q1453.9 1474.11 1455.71 1477.68 Q1457.53 1481.22 1461.15 1481.22 Q1464.78 1481.22 1466.59 1477.68 Q1468.41 1474.11 1468.41 1467.01 Q1468.41 1459.88 1466.59 1456.34 Q1464.78 1452.77 1461.15 1452.77 M1461.15 1449.07 Q1466.96 1449.07 1470.01 1453.67 Q1473.09 1458.26 1473.09 1467.01 Q1473.09 1475.73 1470.01 1480.34 Q1466.96 1484.92 1461.15 1484.92 Q1455.34 1484.92 1452.26 1480.34 Q1449.2 1475.73 1449.2 1467.01 Q1449.2 1458.26 1452.26 1453.67 Q1455.34 1449.07 1461.15 1449.07 Z\" fill=\"#000000\" fill-rule=\"evenodd\" fill-opacity=\"1\" /><path clip-path=\"url(#clip5300)\" d=\"M 0 0 M1491.6 1452.86 Q1486.51 1452.86 1483.5 1456.66 Q1480.51 1460.46 1480.51 1467.01 Q1480.51 1473.53 1483.5 1477.33 Q1486.51 1481.13 1491.6 1481.13 Q1496.69 1481.13 1499.66 1477.33 Q1502.64 1473.53 1502.64 1467.01 Q1502.64 1460.46 1499.66 1456.66 Q1496.69 1452.86 1491.6 1452.86 M1491.6 1449.07 Q1498.87 1449.07 1503.22 1453.95 Q1507.57 1458.81 1507.57 1467.01 Q1507.57 1475.18 1503.22 1480.06 Q1498.87 1484.92 1491.6 1484.92 Q1484.31 1484.92 1479.93 1480.06 Q1475.58 1475.2 1475.58 1467.01 Q1475.58 1458.81 1479.93 1453.95 Q1484.31 1449.07 1491.6 1449.07 Z\" fill=\"#000000\" fill-rule=\"evenodd\" fill-opacity=\"1\" /><path clip-path=\"url(#clip5300)\" d=\"M 0 0 M1530.7 1459.32 L1530.7 1463.3 Q1528.89 1462.31 1527.06 1461.82 Q1525.26 1461.31 1523.41 1461.31 Q1519.26 1461.31 1516.97 1463.95 Q1514.68 1466.57 1514.68 1471.31 Q1514.68 1476.06 1516.97 1478.7 Q1519.26 1481.31 1523.41 1481.31 Q1525.26 1481.31 1527.06 1480.83 Q1528.89 1480.32 1530.7 1479.32 L1530.7 1483.26 Q1528.91 1484.09 1526.99 1484.51 Q1525.1 1484.92 1522.94 1484.92 Q1517.09 1484.92 1513.64 1481.24 Q1510.19 1477.56 1510.19 1471.31 Q1510.19 1464.97 1513.66 1461.34 Q1517.16 1457.7 1523.22 1457.7 Q1525.19 1457.7 1527.06 1458.12 Q1528.94 1458.51 1530.7 1459.32 Z\" fill=\"#000000\" fill-rule=\"evenodd\" fill-opacity=\"1\" /><path clip-path=\"url(#clip5300)\" d=\"M 0 0 M1539.38 1450.96 L1539.38 1458.33 L1548.15 1458.33 L1548.15 1461.64 L1539.38 1461.64 L1539.38 1475.71 Q1539.38 1478.88 1540.23 1479.78 Q1541.11 1480.69 1543.78 1480.69 L1548.15 1480.69 L1548.15 1484.25 L1543.78 1484.25 Q1538.85 1484.25 1536.97 1482.42 Q1535.1 1480.57 1535.1 1475.71 L1535.1 1461.64 L1531.97 1461.64 L1531.97 1458.33 L1535.1 1458.33 L1535.1 1450.96 L1539.38 1450.96 Z\" fill=\"#000000\" fill-rule=\"evenodd\" fill-opacity=\"1\" /><path clip-path=\"url(#clip5300)\" d=\"M 0 0 M1553.22 1478.37 L1558.1 1478.37 L1558.1 1484.25 L1553.22 1484.25 L1553.22 1478.37 Z\" fill=\"#000000\" fill-rule=\"evenodd\" fill-opacity=\"1\" /><path clip-path=\"url(#clip5300)\" d=\"M 0 0 M1582.27 1480.32 L1598.59 1480.32 L1598.59 1484.25 L1576.65 1484.25 L1576.65 1480.32 Q1579.31 1477.56 1583.89 1472.93 Q1588.5 1468.28 1589.68 1466.94 Q1591.92 1464.41 1592.8 1462.68 Q1593.71 1460.92 1593.71 1459.23 Q1593.71 1456.47 1591.76 1454.74 Q1589.84 1453 1586.74 1453 Q1584.54 1453 1582.09 1453.77 Q1579.66 1454.53 1576.88 1456.08 L1576.88 1451.36 Q1579.7 1450.22 1582.16 1449.65 Q1584.61 1449.07 1586.65 1449.07 Q1592.02 1449.07 1595.21 1451.75 Q1598.41 1454.44 1598.41 1458.93 Q1598.41 1461.06 1597.6 1462.98 Q1596.81 1464.88 1594.7 1467.47 Q1594.12 1468.14 1591.02 1471.36 Q1587.92 1474.55 1582.27 1480.32 Z\" fill=\"#000000\" fill-rule=\"evenodd\" fill-opacity=\"1\" /><path clip-path=\"url(#clip5300)\" d=\"M 0 0 M1603.71 1449.69 L1622.06 1449.69 L1622.06 1453.63 L1607.99 1453.63 L1607.99 1462.1 Q1609.01 1461.75 1610.03 1461.59 Q1611.04 1461.4 1612.06 1461.4 Q1617.85 1461.4 1621.23 1464.58 Q1624.61 1467.75 1624.61 1473.16 Q1624.61 1478.74 1621.14 1481.84 Q1617.66 1484.92 1611.34 1484.92 Q1609.17 1484.92 1606.9 1484.55 Q1604.66 1484.18 1602.25 1483.44 L1602.25 1478.74 Q1604.33 1479.88 1606.55 1480.43 Q1608.78 1480.99 1611.25 1480.99 Q1615.26 1480.99 1617.59 1478.88 Q1619.93 1476.78 1619.93 1473.16 Q1619.93 1469.55 1617.59 1467.45 Q1615.26 1465.34 1611.25 1465.34 Q1609.38 1465.34 1607.5 1465.76 Q1605.65 1466.17 1603.71 1467.05 L1603.71 1449.69 Z\" fill=\"#000000\" fill-rule=\"evenodd\" fill-opacity=\"1\" /><path clip-path=\"url(#clip5300)\" d=\"M 0 0 M1630.16 1478.37 L1635.05 1478.37 L1635.05 1482.35 L1631.25 1489.76 L1628.27 1489.76 L1630.16 1482.35 L1630.16 1478.37 Z\" fill=\"#000000\" fill-rule=\"evenodd\" fill-opacity=\"1\" /><path clip-path=\"url(#clip5300)\" d=\"M 0 0 M1659.22 1480.32 L1675.53 1480.32 L1675.53 1484.25 L1653.59 1484.25 L1653.59 1480.32 Q1656.25 1477.56 1660.84 1472.93 Q1665.44 1468.28 1666.62 1466.94 Q1668.87 1464.41 1669.75 1462.68 Q1670.65 1460.92 1670.65 1459.23 Q1670.65 1456.47 1668.71 1454.74 Q1666.78 1453 1663.68 1453 Q1661.48 1453 1659.03 1453.77 Q1656.6 1454.53 1653.82 1456.08 L1653.82 1451.36 Q1656.65 1450.22 1659.1 1449.65 Q1661.55 1449.07 1663.59 1449.07 Q1668.96 1449.07 1672.15 1451.75 Q1675.35 1454.44 1675.35 1458.93 Q1675.35 1461.06 1674.54 1462.98 Q1673.75 1464.88 1671.65 1467.47 Q1671.07 1468.14 1667.97 1471.36 Q1664.86 1474.55 1659.22 1480.32 Z\" fill=\"#000000\" fill-rule=\"evenodd\" fill-opacity=\"1\" /><path clip-path=\"url(#clip5300)\" d=\"M 0 0 M1690.6 1452.77 Q1686.99 1452.77 1685.16 1456.34 Q1683.36 1459.88 1683.36 1467.01 Q1683.36 1474.11 1685.16 1477.68 Q1686.99 1481.22 1690.6 1481.22 Q1694.24 1481.22 1696.04 1477.68 Q1697.87 1474.11 1697.87 1467.01 Q1697.87 1459.88 1696.04 1456.34 Q1694.24 1452.77 1690.6 1452.77 M1690.6 1449.07 Q1696.41 1449.07 1699.47 1453.67 Q1702.55 1458.26 1702.55 1467.01 Q1702.55 1475.73 1699.47 1480.34 Q1696.41 1484.92 1690.6 1484.92 Q1684.79 1484.92 1681.71 1480.34 Q1678.66 1475.73 1678.66 1467.01 Q1678.66 1458.26 1681.71 1453.67 Q1684.79 1449.07 1690.6 1449.07 Z\" fill=\"#000000\" fill-rule=\"evenodd\" fill-opacity=\"1\" /><path clip-path=\"url(#clip5300)\" d=\"M 0 0 M1745.04 1449.69 L1751.33 1449.69 L1766.66 1478.6 L1766.66 1449.69 L1771.19 1449.69 L1771.19 1484.25 L1764.9 1484.25 L1749.57 1455.34 L1749.57 1484.25 L1745.04 1484.25 L1745.04 1449.69 Z\" fill=\"#000000\" fill-rule=\"evenodd\" fill-opacity=\"1\" /><path clip-path=\"url(#clip5300)\" d=\"M 0 0 M1785.71 1461.31 Q1782.28 1461.31 1780.29 1464 Q1778.3 1466.66 1778.3 1471.31 Q1778.3 1475.96 1780.27 1478.65 Q1782.26 1481.31 1785.71 1481.31 Q1789.11 1481.31 1791.1 1478.63 Q1793.09 1475.94 1793.09 1471.31 Q1793.09 1466.71 1791.1 1464.02 Q1789.11 1461.31 1785.71 1461.31 M1785.71 1457.7 Q1791.26 1457.7 1794.43 1461.31 Q1797.61 1464.92 1797.61 1471.31 Q1797.61 1477.68 1794.43 1481.31 Q1791.26 1484.92 1785.71 1484.92 Q1780.13 1484.92 1776.96 1481.31 Q1773.81 1477.68 1773.81 1471.31 Q1773.81 1464.92 1776.96 1461.31 Q1780.13 1457.7 1785.71 1457.7 Z\" fill=\"#000000\" fill-rule=\"evenodd\" fill-opacity=\"1\" /><path clip-path=\"url(#clip5300)\" d=\"M 0 0 M1799.02 1458.33 L1803.53 1458.33 L1811.63 1480.09 L1819.73 1458.33 L1824.25 1458.33 L1814.53 1484.25 L1808.74 1484.25 L1799.02 1458.33 Z\" fill=\"#000000\" fill-rule=\"evenodd\" fill-opacity=\"1\" /><path clip-path=\"url(#clip5300)\" d=\"M 0 0 M1825.64 1478.37 L1830.52 1478.37 L1830.52 1484.25 L1825.64 1484.25 L1825.64 1478.37 Z\" fill=\"#000000\" fill-rule=\"evenodd\" fill-opacity=\"1\" /><path clip-path=\"url(#clip5300)\" d=\"M 0 0 M1864.83 1465.62 Q1868.18 1466.34 1870.06 1468.6 Q1871.96 1470.87 1871.96 1474.21 Q1871.96 1479.32 1868.44 1482.12 Q1864.92 1484.92 1858.44 1484.92 Q1856.26 1484.92 1853.95 1484.48 Q1851.66 1484.07 1849.2 1483.21 L1849.2 1478.7 Q1851.15 1479.83 1853.46 1480.41 Q1855.78 1480.99 1858.3 1480.99 Q1862.7 1480.99 1864.99 1479.25 Q1867.3 1477.52 1867.3 1474.21 Q1867.3 1471.15 1865.15 1469.44 Q1863.02 1467.7 1859.2 1467.7 L1855.17 1467.7 L1855.17 1463.86 L1859.39 1463.86 Q1862.84 1463.86 1864.67 1462.49 Q1866.49 1461.1 1866.49 1458.51 Q1866.49 1455.85 1864.6 1454.44 Q1862.72 1453 1859.2 1453 Q1857.28 1453 1855.08 1453.42 Q1852.88 1453.84 1850.24 1454.71 L1850.24 1450.55 Q1852.91 1449.81 1855.22 1449.44 Q1857.56 1449.07 1859.62 1449.07 Q1864.94 1449.07 1868.04 1451.5 Q1871.15 1453.9 1871.15 1458.03 Q1871.15 1460.9 1869.5 1462.89 Q1867.86 1464.85 1864.83 1465.62 Z\" fill=\"#000000\" fill-rule=\"evenodd\" fill-opacity=\"1\" /><path clip-path=\"url(#clip5300)\" d=\"M 0 0 M1877.51 1478.37 L1882.4 1478.37 L1882.4 1482.35 L1878.6 1489.76 L1875.61 1489.76 L1877.51 1482.35 L1877.51 1478.37 Z\" fill=\"#000000\" fill-rule=\"evenodd\" fill-opacity=\"1\" /><path clip-path=\"url(#clip5300)\" d=\"M 0 0 M1906.56 1480.32 L1922.88 1480.32 L1922.88 1484.25 L1900.94 1484.25 L1900.94 1480.32 Q1903.6 1477.56 1908.18 1472.93 Q1912.79 1468.28 1913.97 1466.94 Q1916.22 1464.41 1917.1 1462.68 Q1918 1460.92 1918 1459.23 Q1918 1456.47 1916.05 1454.74 Q1914.13 1453 1911.03 1453 Q1908.83 1453 1906.38 1453.77 Q1903.95 1454.53 1901.17 1456.08 L1901.17 1451.36 Q1903.99 1450.22 1906.45 1449.65 Q1908.9 1449.07 1910.94 1449.07 Q1916.31 1449.07 1919.5 1451.75 Q1922.7 1454.44 1922.7 1458.93 Q1922.7 1461.06 1921.89 1462.98 Q1921.1 1464.88 1918.99 1467.47 Q1918.41 1468.14 1915.31 1471.36 Q1912.21 1474.55 1906.56 1480.32 Z\" fill=\"#000000\" fill-rule=\"evenodd\" fill-opacity=\"1\" /><path clip-path=\"url(#clip5300)\" d=\"M 0 0 M1937.95 1452.77 Q1934.34 1452.77 1932.51 1456.34 Q1930.71 1459.88 1930.71 1467.01 Q1930.71 1474.11 1932.51 1477.68 Q1934.34 1481.22 1937.95 1481.22 Q1941.59 1481.22 1943.39 1477.68 Q1945.22 1474.11 1945.22 1467.01 Q1945.22 1459.88 1943.39 1456.34 Q1941.59 1452.77 1937.95 1452.77 M1937.95 1449.07 Q1943.76 1449.07 1946.82 1453.67 Q1949.9 1458.26 1949.9 1467.01 Q1949.9 1475.73 1946.82 1480.34 Q1943.76 1484.92 1937.95 1484.92 Q1932.14 1484.92 1929.06 1480.34 Q1926.01 1475.73 1926.01 1467.01 Q1926.01 1458.26 1929.06 1453.67 Q1932.14 1449.07 1937.95 1449.07 Z\" fill=\"#000000\" fill-rule=\"evenodd\" fill-opacity=\"1\" /><path clip-path=\"url(#clip5300)\" d=\"M 0 0 M1962.12 1449.69 L1968.42 1449.69 L1983.74 1478.6 L1983.74 1449.69 L1988.28 1449.69 L1988.28 1484.25 L1981.98 1484.25 L1966.66 1455.34 L1966.66 1484.25 L1962.12 1484.25 L1962.12 1449.69 Z\" fill=\"#000000\" fill-rule=\"evenodd\" fill-opacity=\"1\" /><path clip-path=\"url(#clip5300)\" d=\"M 0 0 M2002.79 1461.31 Q1999.37 1461.31 1997.38 1464 Q1995.39 1466.66 1995.39 1471.31 Q1995.39 1475.96 1997.35 1478.65 Q1999.34 1481.31 2002.79 1481.31 Q2006.2 1481.31 2008.19 1478.63 Q2010.18 1475.94 2010.18 1471.31 Q2010.18 1466.71 2008.19 1464.02 Q2006.2 1461.31 2002.79 1461.31 M2002.79 1457.7 Q2008.35 1457.7 2011.52 1461.31 Q2014.69 1464.92 2014.69 1471.31 Q2014.69 1477.68 2011.52 1481.31 Q2008.35 1484.92 2002.79 1484.92 Q1997.21 1484.92 1994.04 1481.31 Q1990.89 1477.68 1990.89 1471.31 Q1990.89 1464.92 1994.04 1461.31 Q1997.21 1457.7 2002.79 1457.7 Z\" fill=\"#000000\" fill-rule=\"evenodd\" fill-opacity=\"1\" /><path clip-path=\"url(#clip5300)\" d=\"M 0 0 M2016.1 1458.33 L2020.62 1458.33 L2028.72 1480.09 L2036.82 1458.33 L2041.33 1458.33 L2031.61 1484.25 L2025.83 1484.25 L2016.1 1458.33 Z\" fill=\"#000000\" fill-rule=\"evenodd\" fill-opacity=\"1\" /><path clip-path=\"url(#clip5300)\" d=\"M 0 0 M2042.72 1478.37 L2047.61 1478.37 L2047.61 1484.25 L2042.72 1484.25 L2042.72 1478.37 Z\" fill=\"#000000\" fill-rule=\"evenodd\" fill-opacity=\"1\" /><path clip-path=\"url(#clip5300)\" d=\"M 0 0 M2068.56 1480.32 L2076.2 1480.32 L2076.2 1453.95 L2067.89 1455.62 L2067.89 1451.36 L2076.15 1449.69 L2080.82 1449.69 L2080.82 1480.32 L2088.46 1480.32 L2088.46 1484.25 L2068.56 1484.25 L2068.56 1480.32 Z\" fill=\"#000000\" fill-rule=\"evenodd\" fill-opacity=\"1\" /><path clip-path=\"url(#clip5300)\" d=\"M 0 0 M2094.34 1480.32 L2101.98 1480.32 L2101.98 1453.95 L2093.67 1455.62 L2093.67 1451.36 L2101.94 1449.69 L2106.61 1449.69 L2106.61 1480.32 L2114.25 1480.32 L2114.25 1484.25 L2094.34 1484.25 L2094.34 1480.32 Z\" fill=\"#000000\" fill-rule=\"evenodd\" fill-opacity=\"1\" /><path clip-path=\"url(#clip5300)\" d=\"M 0 0 M2119.81 1478.37 L2124.69 1478.37 L2124.69 1482.35 L2120.89 1489.76 L2117.91 1489.76 L2119.81 1482.35 L2119.81 1478.37 Z\" fill=\"#000000\" fill-rule=\"evenodd\" fill-opacity=\"1\" /><path clip-path=\"url(#clip5300)\" d=\"M 0 0 M2148.86 1480.32 L2165.18 1480.32 L2165.18 1484.25 L2143.23 1484.25 L2143.23 1480.32 Q2145.89 1477.56 2150.48 1472.93 Q2155.08 1468.28 2156.26 1466.94 Q2158.51 1464.41 2159.39 1462.68 Q2160.29 1460.92 2160.29 1459.23 Q2160.29 1456.47 2158.35 1454.74 Q2156.43 1453 2153.32 1453 Q2151.13 1453 2148.67 1453.77 Q2146.24 1454.53 2143.46 1456.08 L2143.46 1451.36 Q2146.29 1450.22 2148.74 1449.65 Q2151.19 1449.07 2153.23 1449.07 Q2158.6 1449.07 2161.8 1451.75 Q2164.99 1454.44 2164.99 1458.93 Q2164.99 1461.06 2164.18 1462.98 Q2163.39 1464.88 2161.29 1467.47 Q2160.71 1468.14 2157.61 1471.36 Q2154.5 1474.55 2148.86 1480.32 Z\" fill=\"#000000\" fill-rule=\"evenodd\" fill-opacity=\"1\" /><path clip-path=\"url(#clip5300)\" d=\"M 0 0 M2180.25 1452.77 Q2176.63 1452.77 2174.81 1456.34 Q2173 1459.88 2173 1467.01 Q2173 1474.11 2174.81 1477.68 Q2176.63 1481.22 2180.25 1481.22 Q2183.88 1481.22 2185.69 1477.68 Q2187.51 1474.11 2187.51 1467.01 Q2187.51 1459.88 2185.69 1456.34 Q2183.88 1452.77 2180.25 1452.77 M2180.25 1449.07 Q2186.06 1449.07 2189.11 1453.67 Q2192.19 1458.26 2192.19 1467.01 Q2192.19 1475.73 2189.11 1480.34 Q2186.06 1484.92 2180.25 1484.92 Q2174.44 1484.92 2171.36 1480.34 Q2168.3 1475.73 2168.3 1467.01 Q2168.3 1458.26 2171.36 1453.67 Q2174.44 1449.07 2180.25 1449.07 Z\" fill=\"#000000\" fill-rule=\"evenodd\" fill-opacity=\"1\" /><path clip-path=\"url(#clip5300)\" d=\"M 0 0 M2191.29 1449.69 L2197.59 1449.69 L2212.91 1478.6 L2212.91 1449.69 L2217.45 1449.69 L2217.45 1484.25 L2211.15 1484.25 L2195.83 1455.34 L2195.83 1484.25 L2191.29 1484.25 L2191.29 1449.69 Z\" fill=\"#000000\" fill-rule=\"evenodd\" fill-opacity=\"1\" /><path clip-path=\"url(#clip5300)\" d=\"M 0 0 M2231.96 1461.31 Q2228.54 1461.31 2226.55 1464 Q2224.55 1466.66 2224.55 1471.31 Q2224.55 1475.96 2226.52 1478.65 Q2228.51 1481.31 2231.96 1481.31 Q2235.36 1481.31 2237.36 1478.63 Q2239.35 1475.94 2239.35 1471.31 Q2239.35 1466.71 2237.36 1464.02 Q2235.36 1461.31 2231.96 1461.31 M2231.96 1457.7 Q2237.52 1457.7 2240.69 1461.31 Q2243.86 1464.92 2243.86 1471.31 Q2243.86 1477.68 2240.69 1481.31 Q2237.52 1484.92 2231.96 1484.92 Q2226.38 1484.92 2223.21 1481.31 Q2220.06 1477.68 2220.06 1471.31 Q2220.06 1464.92 2223.21 1461.31 Q2226.38 1457.7 2231.96 1457.7 Z\" fill=\"#000000\" fill-rule=\"evenodd\" fill-opacity=\"1\" /><path clip-path=\"url(#clip5300)\" d=\"M 0 0 M2245.27 1458.33 L2249.79 1458.33 L2257.89 1480.09 L2265.99 1458.33 L2270.5 1458.33 L2260.78 1484.25 L2254.99 1484.25 L2245.27 1458.33 Z\" fill=\"#000000\" fill-rule=\"evenodd\" fill-opacity=\"1\" /><path clip-path=\"url(#clip5300)\" d=\"M 0 0 M2271.89 1478.37 L2276.78 1478.37 L2276.78 1484.25 L2271.89 1484.25 L2271.89 1478.37 Z\" fill=\"#000000\" fill-rule=\"evenodd\" fill-opacity=\"1\" /><path clip-path=\"url(#clip5300)\" d=\"M 0 0 M2297.73 1480.32 L2305.36 1480.32 L2305.36 1453.95 L2297.05 1455.62 L2297.05 1451.36 L2305.32 1449.69 L2309.99 1449.69 L2309.99 1480.32 L2317.63 1480.32 L2317.63 1484.25 L2297.73 1484.25 L2297.73 1480.32 Z\" fill=\"#000000\" fill-rule=\"evenodd\" fill-opacity=\"1\" /><path clip-path=\"url(#clip5300)\" d=\"M 0 0 M2322.84 1483.53 L2322.84 1479.28 Q2324.6 1480.11 2326.41 1480.55 Q2328.21 1480.99 2329.95 1480.99 Q2334.58 1480.99 2337.01 1477.89 Q2339.46 1474.76 2339.81 1468.42 Q2338.47 1470.41 2336.41 1471.47 Q2334.35 1472.54 2331.85 1472.54 Q2326.66 1472.54 2323.63 1469.41 Q2320.62 1466.27 2320.62 1460.83 Q2320.62 1455.5 2323.77 1452.28 Q2326.91 1449.07 2332.15 1449.07 Q2338.14 1449.07 2341.29 1453.67 Q2344.46 1458.26 2344.46 1467.01 Q2344.46 1475.18 2340.57 1480.06 Q2336.71 1484.92 2330.16 1484.92 Q2328.4 1484.92 2326.59 1484.58 Q2324.79 1484.23 2322.84 1483.53 M2332.15 1468.88 Q2335.29 1468.88 2337.12 1466.73 Q2338.98 1464.58 2338.98 1460.83 Q2338.98 1457.1 2337.12 1454.95 Q2335.29 1452.77 2332.15 1452.77 Q2329 1452.77 2327.15 1454.95 Q2325.32 1457.1 2325.32 1460.83 Q2325.32 1464.58 2327.15 1466.73 Q2329 1468.88 2332.15 1468.88 Z\" fill=\"#000000\" fill-rule=\"evenodd\" fill-opacity=\"1\" /><path clip-path=\"url(#clip5300)\" d=\"M 0 0 M2350.02 1478.37 L2354.9 1478.37 L2354.9 1482.35 L2351.1 1489.76 L2348.12 1489.76 L2350.02 1482.35 L2350.02 1478.37 Z\" fill=\"#000000\" fill-rule=\"evenodd\" fill-opacity=\"1\" /><path clip-path=\"url(#clip5300)\" d=\"M 0 0 M2379.07 1480.32 L2395.39 1480.32 L2395.39 1484.25 L2373.44 1484.25 L2373.44 1480.32 Q2376.1 1477.56 2380.69 1472.93 Q2385.29 1468.28 2386.47 1466.94 Q2388.72 1464.41 2389.6 1462.68 Q2390.5 1460.92 2390.5 1459.23 Q2390.5 1456.47 2388.56 1454.74 Q2386.64 1453 2383.54 1453 Q2381.34 1453 2378.88 1453.77 Q2376.45 1454.53 2373.67 1456.08 L2373.67 1451.36 Q2376.5 1450.22 2378.95 1449.65 Q2381.41 1449.07 2383.44 1449.07 Q2388.81 1449.07 2392.01 1451.75 Q2395.2 1454.44 2395.2 1458.93 Q2395.2 1461.06 2394.39 1462.98 Q2393.6 1464.88 2391.5 1467.47 Q2390.92 1468.14 2387.82 1471.36 Q2384.72 1474.55 2379.07 1480.32 Z\" fill=\"#000000\" fill-rule=\"evenodd\" fill-opacity=\"1\" /><path clip-path=\"url(#clip5300)\" d=\"M 0 0 M2410.46 1452.77 Q2406.85 1452.77 2405.02 1456.34 Q2403.21 1459.88 2403.21 1467.01 Q2403.21 1474.11 2405.02 1477.68 Q2406.85 1481.22 2410.46 1481.22 Q2414.09 1481.22 2415.9 1477.68 Q2417.72 1474.11 2417.72 1467.01 Q2417.72 1459.88 2415.9 1456.34 Q2414.09 1452.77 2410.46 1452.77 M2410.46 1449.07 Q2416.27 1449.07 2419.32 1453.67 Q2422.4 1458.26 2422.4 1467.01 Q2422.4 1475.73 2419.32 1480.34 Q2416.27 1484.92 2410.46 1484.92 Q2404.65 1484.92 2401.57 1480.34 Q2398.51 1475.73 2398.51 1467.01 Q2398.51 1458.26 2401.57 1453.67 Q2404.65 1449.07 2410.46 1449.07 Z\" fill=\"#000000\" fill-rule=\"evenodd\" fill-opacity=\"1\" /><path clip-path=\"url(#clip5300)\" d=\"M 0 0 M2449.83 1449.69 L2456.13 1449.69 L2471.45 1478.6 L2471.45 1449.69 L2475.99 1449.69 L2475.99 1484.25 L2469.69 1484.25 L2454.37 1455.34 L2454.37 1484.25 L2449.83 1484.25 L2449.83 1449.69 Z\" fill=\"#000000\" fill-rule=\"evenodd\" fill-opacity=\"1\" /><path clip-path=\"url(#clip5300)\" d=\"M 0 0 M2490.5 1461.31 Q2487.08 1461.31 2485.09 1464 Q2483.09 1466.66 2483.09 1471.31 Q2483.09 1475.96 2485.06 1478.65 Q2487.05 1481.31 2490.5 1481.31 Q2493.9 1481.31 2495.9 1478.63 Q2497.89 1475.94 2497.89 1471.31 Q2497.89 1466.71 2495.9 1464.02 Q2493.9 1461.31 2490.5 1461.31 M2490.5 1457.7 Q2496.06 1457.7 2499.23 1461.31 Q2502.4 1464.92 2502.4 1471.31 Q2502.4 1477.68 2499.23 1481.31 Q2496.06 1484.92 2490.5 1484.92 Q2484.92 1484.92 2481.75 1481.31 Q2478.6 1477.68 2478.6 1471.31 Q2478.6 1464.92 2481.75 1461.31 Q2484.92 1457.7 2490.5 1457.7 Z\" fill=\"#000000\" fill-rule=\"evenodd\" fill-opacity=\"1\" /><path clip-path=\"url(#clip5300)\" d=\"M 0 0 M2503.81 1458.33 L2508.33 1458.33 L2516.43 1480.09 L2524.53 1458.33 L2529.04 1458.33 L2519.32 1484.25 L2513.53 1484.25 L2503.81 1458.33 Z\" fill=\"#000000\" fill-rule=\"evenodd\" fill-opacity=\"1\" /><path clip-path=\"url(#clip5300)\" d=\"M 0 0 M2530.43 1478.37 L2535.32 1478.37 L2535.32 1484.25 L2530.43 1484.25 L2530.43 1478.37 Z\" fill=\"#000000\" fill-rule=\"evenodd\" fill-opacity=\"1\" /><path clip-path=\"url(#clip5300)\" d=\"M 0 0 M2559.48 1480.32 L2575.8 1480.32 L2575.8 1484.25 L2553.86 1484.25 L2553.86 1480.32 Q2556.52 1477.56 2561.1 1472.93 Q2565.71 1468.28 2566.89 1466.94 Q2569.14 1464.41 2570.02 1462.68 Q2570.92 1460.92 2570.92 1459.23 Q2570.92 1456.47 2568.97 1454.74 Q2567.05 1453 2563.95 1453 Q2561.75 1453 2559.3 1453.77 Q2556.87 1454.53 2554.09 1456.08 L2554.09 1451.36 Q2556.91 1450.22 2559.37 1449.65 Q2561.82 1449.07 2563.86 1449.07 Q2569.23 1449.07 2572.42 1451.75 Q2575.62 1454.44 2575.62 1458.93 Q2575.62 1461.06 2574.81 1462.98 Q2574.02 1464.88 2571.91 1467.47 Q2571.33 1468.14 2568.23 1471.36 Q2565.13 1474.55 2559.48 1480.32 Z\" fill=\"#000000\" fill-rule=\"evenodd\" fill-opacity=\"1\" /><path clip-path=\"url(#clip5300)\" d=\"M 0 0 M2590.87 1467.84 Q2587.54 1467.84 2585.62 1469.62 Q2583.72 1471.4 2583.72 1474.53 Q2583.72 1477.65 2585.62 1479.44 Q2587.54 1481.22 2590.87 1481.22 Q2594.2 1481.22 2596.13 1479.44 Q2598.05 1477.63 2598.05 1474.53 Q2598.05 1471.4 2596.13 1469.62 Q2594.23 1467.84 2590.87 1467.84 M2586.2 1465.85 Q2583.19 1465.11 2581.5 1463.05 Q2579.83 1460.99 2579.83 1458.03 Q2579.83 1453.88 2582.77 1451.47 Q2585.73 1449.07 2590.87 1449.07 Q2596.03 1449.07 2598.97 1451.47 Q2601.91 1453.88 2601.91 1458.03 Q2601.91 1460.99 2600.22 1463.05 Q2598.56 1465.11 2595.57 1465.85 Q2598.95 1466.64 2600.83 1468.93 Q2602.72 1471.22 2602.72 1474.53 Q2602.72 1479.55 2599.64 1482.24 Q2596.59 1484.92 2590.87 1484.92 Q2585.15 1484.92 2582.08 1482.24 Q2579.02 1479.55 2579.02 1474.53 Q2579.02 1471.22 2580.92 1468.93 Q2582.82 1466.64 2586.2 1465.85 M2584.48 1458.46 Q2584.48 1461.15 2586.15 1462.65 Q2587.84 1464.16 2590.87 1464.16 Q2593.88 1464.16 2595.57 1462.65 Q2597.28 1461.15 2597.28 1458.46 Q2597.28 1455.78 2595.57 1454.28 Q2593.88 1452.77 2590.87 1452.77 Q2587.84 1452.77 2586.15 1454.28 Q2584.48 1455.78 2584.48 1458.46 Z\" fill=\"#000000\" fill-rule=\"evenodd\" fill-opacity=\"1\" /><path clip-path=\"url(#clip5300)\" d=\"M 0 0 M2608.28 1478.37 L2613.16 1478.37 L2613.16 1482.35 L2609.37 1489.76 L2606.38 1489.76 L2608.28 1482.35 L2608.28 1478.37 Z\" fill=\"#000000\" fill-rule=\"evenodd\" fill-opacity=\"1\" /><path clip-path=\"url(#clip5300)\" d=\"M 0 0 M2637.33 1480.32 L2653.65 1480.32 L2653.65 1484.25 L2631.7 1484.25 L2631.7 1480.32 Q2634.37 1477.56 2638.95 1472.93 Q2643.56 1468.28 2644.74 1466.94 Q2646.98 1464.41 2647.86 1462.68 Q2648.76 1460.92 2648.76 1459.23 Q2648.76 1456.47 2646.82 1454.74 Q2644.9 1453 2641.8 1453 Q2639.6 1453 2637.14 1453.77 Q2634.71 1454.53 2631.94 1456.08 L2631.94 1451.36 Q2634.76 1450.22 2637.21 1449.65 Q2639.67 1449.07 2641.7 1449.07 Q2647.07 1449.07 2650.27 1451.75 Q2653.46 1454.44 2653.46 1458.93 Q2653.46 1461.06 2652.65 1462.98 Q2651.87 1464.88 2649.76 1467.47 Q2649.18 1468.14 2646.08 1471.36 Q2642.98 1474.55 2637.33 1480.32 Z\" fill=\"#000000\" fill-rule=\"evenodd\" fill-opacity=\"1\" /><path clip-path=\"url(#clip5300)\" d=\"M 0 0 M2668.72 1452.77 Q2665.11 1452.77 2663.28 1456.34 Q2661.47 1459.88 2661.47 1467.01 Q2661.47 1474.11 2663.28 1477.68 Q2665.11 1481.22 2668.72 1481.22 Q2672.35 1481.22 2674.16 1477.68 Q2675.99 1474.11 2675.99 1467.01 Q2675.99 1459.88 2674.16 1456.34 Q2672.35 1452.77 2668.72 1452.77 M2668.72 1449.07 Q2674.53 1449.07 2677.58 1453.67 Q2680.66 1458.26 2680.66 1467.01 Q2680.66 1475.73 2677.58 1480.34 Q2674.53 1484.92 2668.72 1484.92 Q2662.91 1484.92 2659.83 1480.34 Q2656.77 1475.73 2656.77 1467.01 Q2656.77 1458.26 2659.83 1453.67 Q2662.91 1449.07 2668.72 1449.07 Z\" fill=\"#000000\" fill-rule=\"evenodd\" fill-opacity=\"1\" /><path clip-path=\"url(#clip5300)\" d=\"M 0 0 M2695.13 1453.53 L2695.13 1480.41 L2700.78 1480.41 Q2707.93 1480.41 2711.24 1477.17 Q2714.58 1473.93 2714.58 1466.94 Q2714.58 1459.99 2711.24 1456.78 Q2707.93 1453.53 2700.78 1453.53 L2695.13 1453.53 M2690.46 1449.69 L2700.06 1449.69 Q2710.11 1449.69 2714.81 1453.88 Q2719.51 1458.05 2719.51 1466.94 Q2719.51 1475.87 2714.79 1480.06 Q2710.06 1484.25 2700.06 1484.25 L2690.46 1484.25 L2690.46 1449.69 Z\" fill=\"#000000\" fill-rule=\"evenodd\" fill-opacity=\"1\" /><path clip-path=\"url(#clip5300)\" d=\"M 0 0 M2746.15 1470.22 L2746.15 1472.31 L2726.57 1472.31 Q2726.85 1476.71 2729.21 1479.02 Q2731.59 1481.31 2735.83 1481.31 Q2738.28 1481.31 2740.57 1480.71 Q2742.89 1480.11 2745.16 1478.9 L2745.16 1482.93 Q2742.86 1483.9 2740.46 1484.41 Q2738.05 1484.92 2735.57 1484.92 Q2729.37 1484.92 2725.74 1481.31 Q2722.12 1477.7 2722.12 1471.54 Q2722.12 1465.18 2725.55 1461.45 Q2729 1457.7 2734.83 1457.7 Q2740.06 1457.7 2743.1 1461.08 Q2746.15 1464.44 2746.15 1470.22 M2741.89 1468.97 Q2741.85 1465.48 2739.93 1463.4 Q2738.03 1461.31 2734.88 1461.31 Q2731.31 1461.31 2729.16 1463.33 Q2727.03 1465.34 2726.71 1469 L2741.89 1468.97 Z\" fill=\"#000000\" fill-rule=\"evenodd\" fill-opacity=\"1\" /><path clip-path=\"url(#clip5300)\" d=\"M 0 0 M2769.28 1459.32 L2769.28 1463.3 Q2767.47 1462.31 2765.64 1461.82 Q2763.84 1461.31 2761.99 1461.31 Q2757.84 1461.31 2755.55 1463.95 Q2753.26 1466.57 2753.26 1471.31 Q2753.26 1476.06 2755.55 1478.7 Q2757.84 1481.31 2761.99 1481.31 Q2763.84 1481.31 2765.64 1480.83 Q2767.47 1480.32 2769.28 1479.32 L2769.28 1483.26 Q2767.49 1484.09 2765.57 1484.51 Q2763.68 1484.92 2761.52 1484.92 Q2755.67 1484.92 2752.22 1481.24 Q2748.77 1477.56 2748.77 1471.31 Q2748.77 1464.97 2752.24 1461.34 Q2755.74 1457.7 2761.8 1457.7 Q2763.77 1457.7 2765.64 1458.12 Q2767.52 1458.51 2769.28 1459.32 Z\" fill=\"#000000\" fill-rule=\"evenodd\" fill-opacity=\"1\" /><path clip-path=\"url(#clip5300)\" d=\"M 0 0 M2774.35 1478.37 L2779.23 1478.37 L2779.23 1484.25 L2774.35 1484.25 L2774.35 1478.37 Z\" fill=\"#000000\" fill-rule=\"evenodd\" fill-opacity=\"1\" /><path clip-path=\"url(#clip5300)\" d=\"M 0 0 M2809.95 1465.11 Q2806.8 1465.11 2804.95 1467.26 Q2803.12 1469.41 2803.12 1473.16 Q2803.12 1476.89 2804.95 1479.07 Q2806.8 1481.22 2809.95 1481.22 Q2813.1 1481.22 2814.92 1479.07 Q2816.78 1476.89 2816.78 1473.16 Q2816.78 1469.41 2814.92 1467.26 Q2813.1 1465.11 2809.95 1465.11 M2819.23 1450.46 L2819.23 1454.71 Q2817.47 1453.88 2815.67 1453.44 Q2813.88 1453 2812.12 1453 Q2807.49 1453 2805.04 1456.13 Q2802.61 1459.25 2802.26 1465.57 Q2803.63 1463.56 2805.69 1462.49 Q2807.75 1461.4 2810.23 1461.4 Q2815.43 1461.4 2818.44 1464.58 Q2821.48 1467.72 2821.48 1473.16 Q2821.48 1478.49 2818.33 1481.71 Q2815.18 1484.92 2809.95 1484.92 Q2803.95 1484.92 2800.78 1480.34 Q2797.61 1475.73 2797.61 1467.01 Q2797.61 1458.81 2801.5 1453.95 Q2805.39 1449.07 2811.94 1449.07 Q2813.7 1449.07 2815.48 1449.41 Q2817.29 1449.76 2819.23 1450.46 Z\" fill=\"#000000\" fill-rule=\"evenodd\" fill-opacity=\"1\" /><path clip-path=\"url(#clip5300)\" d=\"M 0 0 M2827.03 1478.37 L2831.92 1478.37 L2831.92 1482.35 L2828.12 1489.76 L2825.13 1489.76 L2827.03 1482.35 L2827.03 1478.37 Z\" fill=\"#000000\" fill-rule=\"evenodd\" fill-opacity=\"1\" /><path clip-path=\"url(#clip5300)\" d=\"M 0 0 M2856.08 1480.32 L2872.4 1480.32 L2872.4 1484.25 L2850.46 1484.25 L2850.46 1480.32 Q2853.12 1477.56 2857.7 1472.93 Q2862.31 1468.28 2863.49 1466.94 Q2865.73 1464.41 2866.61 1462.68 Q2867.52 1460.92 2867.52 1459.23 Q2867.52 1456.47 2865.57 1454.74 Q2863.65 1453 2860.55 1453 Q2858.35 1453 2855.9 1453.77 Q2853.47 1454.53 2850.69 1456.08 L2850.69 1451.36 Q2853.51 1450.22 2855.97 1449.65 Q2858.42 1449.07 2860.46 1449.07 Q2865.83 1449.07 2869.02 1451.75 Q2872.22 1454.44 2872.22 1458.93 Q2872.22 1461.06 2871.41 1462.98 Q2870.62 1464.88 2868.51 1467.47 Q2867.93 1468.14 2864.83 1471.36 Q2861.73 1474.55 2856.08 1480.32 Z\" fill=\"#000000\" fill-rule=\"evenodd\" fill-opacity=\"1\" /><path clip-path=\"url(#clip5300)\" d=\"M 0 0 M2887.47 1452.77 Q2883.86 1452.77 2882.03 1456.34 Q2880.23 1459.88 2880.23 1467.01 Q2880.23 1474.11 2882.03 1477.68 Q2883.86 1481.22 2887.47 1481.22 Q2891.1 1481.22 2892.91 1477.68 Q2894.74 1474.11 2894.74 1467.01 Q2894.74 1459.88 2892.91 1456.34 Q2891.1 1452.77 2887.47 1452.77 M2887.47 1449.07 Q2893.28 1449.07 2896.34 1453.67 Q2899.42 1458.26 2899.42 1467.01 Q2899.42 1475.73 2896.34 1480.34 Q2893.28 1484.92 2887.47 1484.92 Q2881.66 1484.92 2878.58 1480.34 Q2875.53 1475.73 2875.53 1467.01 Q2875.53 1458.26 2878.58 1453.67 Q2881.66 1449.07 2887.47 1449.07 Z\" fill=\"#000000\" fill-rule=\"evenodd\" fill-opacity=\"1\" /><path clip-path=\"url(#clip5300)\" d=\"M 0 0 M2941.22 1453.53 L2941.22 1480.41 L2946.87 1480.41 Q2954.02 1480.41 2957.33 1477.17 Q2960.66 1473.93 2960.66 1466.94 Q2960.66 1459.99 2957.33 1456.78 Q2954.02 1453.53 2946.87 1453.53 L2941.22 1453.53 M2936.54 1449.69 L2946.15 1449.69 Q2956.2 1449.69 2960.9 1453.88 Q2965.59 1458.05 2965.59 1466.94 Q2965.59 1475.87 2960.87 1480.06 Q2956.15 1484.25 2946.15 1484.25 L2936.54 1484.25 L2936.54 1449.69 Z\" fill=\"#000000\" fill-rule=\"evenodd\" fill-opacity=\"1\" /><path clip-path=\"url(#clip5300)\" d=\"M 0 0 M2992.24 1470.22 L2992.24 1472.31 L2972.66 1472.31 Q2972.93 1476.71 2975.29 1479.02 Q2977.68 1481.31 2981.91 1481.31 Q2984.37 1481.31 2986.66 1480.71 Q2988.97 1480.11 2991.24 1478.9 L2991.24 1482.93 Q2988.95 1483.9 2986.54 1484.41 Q2984.14 1484.92 2981.66 1484.92 Q2975.46 1484.92 2971.82 1481.31 Q2968.21 1477.7 2968.21 1471.54 Q2968.21 1465.18 2971.64 1461.45 Q2975.09 1457.7 2980.92 1457.7 Q2986.15 1457.7 2989.18 1461.08 Q2992.24 1464.44 2992.24 1470.22 M2987.98 1468.97 Q2987.93 1465.48 2986.01 1463.4 Q2984.11 1461.31 2980.97 1461.31 Q2977.4 1461.31 2975.25 1463.33 Q2973.12 1465.34 2972.79 1469 L2987.98 1468.97 Z\" fill=\"#000000\" fill-rule=\"evenodd\" fill-opacity=\"1\" /><path clip-path=\"url(#clip5300)\" d=\"M 0 0 M3015.36 1459.32 L3015.36 1463.3 Q3013.56 1462.31 3011.73 1461.82 Q3009.92 1461.31 3008.07 1461.31 Q3003.93 1461.31 3001.64 1463.95 Q2999.34 1466.57 2999.34 1471.31 Q2999.34 1476.06 3001.64 1478.7 Q3003.93 1481.31 3008.07 1481.31 Q3009.92 1481.31 3011.73 1480.83 Q3013.56 1480.32 3015.36 1479.32 L3015.36 1483.26 Q3013.58 1484.09 3011.66 1484.51 Q3009.76 1484.92 3007.61 1484.92 Q3001.75 1484.92 2998.3 1481.24 Q2994.85 1477.56 2994.85 1471.31 Q2994.85 1464.97 2998.33 1461.34 Q3001.82 1457.7 3007.89 1457.7 Q3009.85 1457.7 3011.73 1458.12 Q3013.6 1458.51 3015.36 1459.32 Z\" fill=\"#000000\" fill-rule=\"evenodd\" fill-opacity=\"1\" /><path clip-path=\"url(#clip5300)\" d=\"M 0 0 M3020.43 1478.37 L3025.32 1478.37 L3025.32 1484.25 L3020.43 1484.25 L3020.43 1478.37 Z\" fill=\"#000000\" fill-rule=\"evenodd\" fill-opacity=\"1\" /><path clip-path=\"url(#clip5300)\" d=\"M 0 0 M3046.27 1480.32 L3053.9 1480.32 L3053.9 1453.95 L3045.59 1455.62 L3045.59 1451.36 L3053.86 1449.69 L3058.53 1449.69 L3058.53 1480.32 L3066.17 1480.32 L3066.17 1484.25 L3046.27 1484.25 L3046.27 1480.32 Z\" fill=\"#000000\" fill-rule=\"evenodd\" fill-opacity=\"1\" /><path clip-path=\"url(#clip5300)\" d=\"M 0 0 M3071.29 1449.69 L3089.65 1449.69 L3089.65 1453.63 L3075.57 1453.63 L3075.57 1462.1 Q3076.59 1461.75 3077.61 1461.59 Q3078.63 1461.4 3079.65 1461.4 Q3085.43 1461.4 3088.81 1464.58 Q3092.19 1467.75 3092.19 1473.16 Q3092.19 1478.74 3088.72 1481.84 Q3085.25 1484.92 3078.93 1484.92 Q3076.75 1484.92 3074.48 1484.55 Q3072.24 1484.18 3069.83 1483.44 L3069.83 1478.74 Q3071.91 1479.88 3074.14 1480.43 Q3076.36 1480.99 3078.84 1480.99 Q3082.84 1480.99 3085.18 1478.88 Q3087.52 1476.78 3087.52 1473.16 Q3087.52 1469.55 3085.18 1467.45 Q3082.84 1465.34 3078.84 1465.34 Q3076.96 1465.34 3075.09 1465.76 Q3073.23 1466.17 3071.29 1467.05 L3071.29 1449.69 Z\" fill=\"#000000\" fill-rule=\"evenodd\" fill-opacity=\"1\" /><path clip-path=\"url(#clip5300)\" d=\"M 0 0 M3097.75 1478.37 L3102.63 1478.37 L3102.63 1482.35 L3098.83 1489.76 L3095.85 1489.76 L3097.75 1482.35 L3097.75 1478.37 Z\" fill=\"#000000\" fill-rule=\"evenodd\" fill-opacity=\"1\" /><path clip-path=\"url(#clip5300)\" d=\"M 0 0 M3126.8 1480.32 L3143.12 1480.32 L3143.12 1484.25 L3121.17 1484.25 L3121.17 1480.32 Q3123.83 1477.56 3128.42 1472.93 Q3133.02 1468.28 3134.21 1466.94 Q3136.45 1464.41 3137.33 1462.68 Q3138.23 1460.92 3138.23 1459.23 Q3138.23 1456.47 3136.29 1454.74 Q3134.37 1453 3131.27 1453 Q3129.07 1453 3126.61 1453.77 Q3124.18 1454.53 3121.4 1456.08 L3121.4 1451.36 Q3124.23 1450.22 3126.68 1449.65 Q3129.14 1449.07 3131.17 1449.07 Q3136.54 1449.07 3139.74 1451.75 Q3142.93 1454.44 3142.93 1458.93 Q3142.93 1461.06 3142.12 1462.98 Q3141.33 1464.88 3139.23 1467.47 Q3138.65 1468.14 3135.55 1471.36 Q3132.45 1474.55 3126.8 1480.32 Z\" fill=\"#000000\" fill-rule=\"evenodd\" fill-opacity=\"1\" /><path clip-path=\"url(#clip5300)\" d=\"M 0 0 M3158.19 1452.77 Q3154.58 1452.77 3152.75 1456.34 Q3150.94 1459.88 3150.94 1467.01 Q3150.94 1474.11 3152.75 1477.68 Q3154.58 1481.22 3158.19 1481.22 Q3161.82 1481.22 3163.63 1477.68 Q3165.45 1474.11 3165.45 1467.01 Q3165.45 1459.88 3163.63 1456.34 Q3161.82 1452.77 3158.19 1452.77 M3158.19 1449.07 Q3164 1449.07 3167.05 1453.67 Q3170.13 1458.26 3170.13 1467.01 Q3170.13 1475.73 3167.05 1480.34 Q3164 1484.92 3158.19 1484.92 Q3152.38 1484.92 3149.3 1480.34 Q3146.24 1475.73 3146.24 1467.01 Q3146.24 1458.26 3149.3 1453.67 Q3152.38 1449.07 3158.19 1449.07 Z\" fill=\"#000000\" fill-rule=\"evenodd\" fill-opacity=\"1\" /><path clip-path=\"url(#clip5300)\" d=\"M 0 0 M3170.92 1453.53 L3170.92 1480.41 L3176.57 1480.41 Q3183.72 1480.41 3187.03 1477.17 Q3190.37 1473.93 3190.37 1466.94 Q3190.37 1459.99 3187.03 1456.78 Q3183.72 1453.53 3176.57 1453.53 L3170.92 1453.53 M3166.25 1449.69 L3175.85 1449.69 Q3185.9 1449.69 3190.6 1453.88 Q3195.3 1458.05 3195.3 1466.94 Q3195.3 1475.87 3190.57 1480.06 Q3185.85 1484.25 3175.85 1484.25 L3166.25 1484.25 L3166.25 1449.69 Z\" fill=\"#000000\" fill-rule=\"evenodd\" fill-opacity=\"1\" /><path clip-path=\"url(#clip5300)\" d=\"M 0 0 M3221.94 1470.22 L3221.94 1472.31 L3202.36 1472.31 Q3202.63 1476.71 3205 1479.02 Q3207.38 1481.31 3211.62 1481.31 Q3214.07 1481.31 3216.36 1480.71 Q3218.68 1480.11 3220.94 1478.9 L3220.94 1482.93 Q3218.65 1483.9 3216.25 1484.41 Q3213.84 1484.92 3211.36 1484.92 Q3205.16 1484.92 3201.52 1481.31 Q3197.91 1477.7 3197.91 1471.54 Q3197.91 1465.18 3201.34 1461.45 Q3204.79 1457.7 3210.62 1457.7 Q3215.85 1457.7 3218.88 1461.08 Q3221.94 1464.44 3221.94 1470.22 M3217.68 1468.97 Q3217.63 1465.48 3215.71 1463.4 Q3213.81 1461.31 3210.67 1461.31 Q3207.1 1461.31 3204.95 1463.33 Q3202.82 1465.34 3202.5 1469 L3217.68 1468.97 Z\" fill=\"#000000\" fill-rule=\"evenodd\" fill-opacity=\"1\" /><path clip-path=\"url(#clip5300)\" d=\"M 0 0 M3245.06 1459.32 L3245.06 1463.3 Q3243.26 1462.31 3241.43 1461.82 Q3239.62 1461.31 3237.77 1461.31 Q3233.63 1461.31 3231.34 1463.95 Q3229.05 1466.57 3229.05 1471.31 Q3229.05 1476.06 3231.34 1478.7 Q3233.63 1481.31 3237.77 1481.31 Q3239.62 1481.31 3241.43 1480.83 Q3243.26 1480.32 3245.06 1479.32 L3245.06 1483.26 Q3243.28 1484.09 3241.36 1484.51 Q3239.46 1484.92 3237.31 1484.92 Q3231.45 1484.92 3228 1481.24 Q3224.56 1477.56 3224.56 1471.31 Q3224.56 1464.97 3228.03 1461.34 Q3231.52 1457.7 3237.59 1457.7 Q3239.56 1457.7 3241.43 1458.12 Q3243.31 1458.51 3245.06 1459.32 Z\" fill=\"#000000\" fill-rule=\"evenodd\" fill-opacity=\"1\" /><path clip-path=\"url(#clip5300)\" d=\"M 0 0 M3250.13 1478.37 L3255.02 1478.37 L3255.02 1484.25 L3250.13 1484.25 L3250.13 1478.37 Z\" fill=\"#000000\" fill-rule=\"evenodd\" fill-opacity=\"1\" /><path clip-path=\"url(#clip5300)\" d=\"M 0 0 M3279.18 1480.32 L3295.5 1480.32 L3295.5 1484.25 L3273.56 1484.25 L3273.56 1480.32 Q3276.22 1477.56 3280.81 1472.93 Q3285.41 1468.28 3286.59 1466.94 Q3288.84 1464.41 3289.72 1462.68 Q3290.62 1460.92 3290.62 1459.23 Q3290.62 1456.47 3288.68 1454.74 Q3286.75 1453 3283.65 1453 Q3281.45 1453 3279 1453.77 Q3276.57 1454.53 3273.79 1456.08 L3273.79 1451.36 Q3276.62 1450.22 3279.07 1449.65 Q3281.52 1449.07 3283.56 1449.07 Q3288.93 1449.07 3292.12 1451.75 Q3295.32 1454.44 3295.32 1458.93 Q3295.32 1461.06 3294.51 1462.98 Q3293.72 1464.88 3291.62 1467.47 Q3291.04 1468.14 3287.93 1471.36 Q3284.83 1474.55 3279.18 1480.32 Z\" fill=\"#000000\" fill-rule=\"evenodd\" fill-opacity=\"1\" /><path clip-path=\"url(#clip5300)\" d=\"M 0 0 M3314.74 1465.62 Q3318.1 1466.34 3319.97 1468.6 Q3321.87 1470.87 3321.87 1474.21 Q3321.87 1479.32 3318.35 1482.12 Q3314.83 1484.92 3308.35 1484.92 Q3306.18 1484.92 3303.86 1484.48 Q3301.57 1484.07 3299.12 1483.21 L3299.12 1478.7 Q3301.06 1479.83 3303.37 1480.41 Q3305.69 1480.99 3308.21 1480.99 Q3312.61 1480.99 3314.9 1479.25 Q3317.22 1477.52 3317.22 1474.21 Q3317.22 1471.15 3315.06 1469.44 Q3312.93 1467.7 3309.12 1467.7 L3305.09 1467.7 L3305.09 1463.86 L3309.3 1463.86 Q3312.75 1463.86 3314.58 1462.49 Q3316.41 1461.1 3316.41 1458.51 Q3316.41 1455.85 3314.51 1454.44 Q3312.63 1453 3309.12 1453 Q3307.19 1453 3304.99 1453.42 Q3302.8 1453.84 3300.16 1454.71 L3300.16 1450.55 Q3302.82 1449.81 3305.13 1449.44 Q3307.47 1449.07 3309.53 1449.07 Q3314.86 1449.07 3317.96 1451.5 Q3321.06 1453.9 3321.06 1458.03 Q3321.06 1460.9 3319.42 1462.89 Q3317.77 1464.85 3314.74 1465.62 Z\" fill=\"#000000\" fill-rule=\"evenodd\" fill-opacity=\"1\" /><path clip-path=\"url(#clip5300)\" d=\"M 0 0 M3327.43 1478.37 L3332.31 1478.37 L3332.31 1482.35 L3328.51 1489.76 L3325.53 1489.76 L3327.43 1482.35 L3327.43 1478.37 Z\" fill=\"#000000\" fill-rule=\"evenodd\" fill-opacity=\"1\" /><path clip-path=\"url(#clip5300)\" d=\"M 0 0 M3356.48 1480.32 L3372.8 1480.32 L3372.8 1484.25 L3350.85 1484.25 L3350.85 1480.32 Q3353.51 1477.56 3358.1 1472.93 Q3362.7 1468.28 3363.88 1466.94 Q3366.13 1464.41 3367.01 1462.68 Q3367.91 1460.92 3367.91 1459.23 Q3367.91 1456.47 3365.97 1454.74 Q3364.05 1453 3360.94 1453 Q3358.74 1453 3356.29 1453.77 Q3353.86 1454.53 3351.08 1456.08 L3351.08 1451.36 Q3353.91 1450.22 3356.36 1449.65 Q3358.81 1449.07 3360.85 1449.07 Q3366.22 1449.07 3369.42 1451.75 Q3372.61 1454.44 3372.61 1458.93 Q3372.61 1461.06 3371.8 1462.98 Q3371.01 1464.88 3368.91 1467.47 Q3368.33 1468.14 3365.23 1471.36 Q3362.12 1474.55 3356.48 1480.32 Z\" fill=\"#000000\" fill-rule=\"evenodd\" fill-opacity=\"1\" /><path clip-path=\"url(#clip5300)\" d=\"M 0 0 M3387.86 1452.77 Q3384.25 1452.77 3382.42 1456.34 Q3380.62 1459.88 3380.62 1467.01 Q3380.62 1474.11 3382.42 1477.68 Q3384.25 1481.22 3387.86 1481.22 Q3391.5 1481.22 3393.3 1477.68 Q3395.13 1474.11 3395.13 1467.01 Q3395.13 1459.88 3393.3 1456.34 Q3391.5 1452.77 3387.86 1452.77 M3387.86 1449.07 Q3393.67 1449.07 3396.73 1453.67 Q3399.81 1458.26 3399.81 1467.01 Q3399.81 1475.73 3396.73 1480.34 Q3393.67 1484.92 3387.86 1484.92 Q3382.05 1484.92 3378.98 1480.34 Q3375.92 1475.73 3375.92 1467.01 Q3375.92 1458.26 3378.98 1453.67 Q3382.05 1449.07 3387.86 1449.07 Z\" fill=\"#000000\" fill-rule=\"evenodd\" fill-opacity=\"1\" /><path clip-path=\"url(#clip5300)\" d=\"M 0 0 M3453.5 1449.69 L3458.18 1449.69 L3458.18 1481.84 Q3458.18 1488.09 3455.79 1490.92 Q3453.43 1493.74 3448.18 1493.74 L3446.39 1493.74 L3446.39 1489.81 L3447.85 1489.81 Q3450.95 1489.81 3452.23 1488.07 Q3453.5 1486.34 3453.5 1481.84 L3453.5 1449.69 Z\" fill=\"#000000\" fill-rule=\"evenodd\" fill-opacity=\"1\" /><path clip-path=\"url(#clip5300)\" d=\"M 0 0 M3474.43 1471.22 Q3469.26 1471.22 3467.27 1472.4 Q3465.28 1473.58 3465.28 1476.43 Q3465.28 1478.7 3466.76 1480.04 Q3468.27 1481.36 3470.84 1481.36 Q3474.38 1481.36 3476.51 1478.86 Q3478.66 1476.34 3478.66 1472.17 L3478.66 1471.22 L3474.43 1471.22 M3482.92 1469.46 L3482.92 1484.25 L3478.66 1484.25 L3478.66 1480.32 Q3477.2 1482.68 3475.03 1483.81 Q3472.85 1484.92 3469.7 1484.92 Q3465.72 1484.92 3463.36 1482.7 Q3461.02 1480.46 3461.02 1476.71 Q3461.02 1472.33 3463.94 1470.11 Q3466.88 1467.89 3472.69 1467.89 L3478.66 1467.89 L3478.66 1467.47 Q3478.66 1464.53 3476.72 1462.93 Q3474.8 1461.31 3471.3 1461.31 Q3469.08 1461.31 3466.97 1461.84 Q3464.87 1462.38 3462.92 1463.44 L3462.92 1459.51 Q3465.26 1458.6 3467.46 1458.16 Q3469.66 1457.7 3471.74 1457.7 Q3477.37 1457.7 3480.14 1460.62 Q3482.92 1463.53 3482.92 1469.46 Z\" fill=\"#000000\" fill-rule=\"evenodd\" fill-opacity=\"1\" /><path clip-path=\"url(#clip5300)\" d=\"M 0 0 M3508.94 1468.6 L3508.94 1484.25 L3504.68 1484.25 L3504.68 1468.74 Q3504.68 1465.06 3503.25 1463.23 Q3501.81 1461.4 3498.94 1461.4 Q3495.49 1461.4 3493.5 1463.6 Q3491.51 1465.8 3491.51 1469.6 L3491.51 1484.25 L3487.23 1484.25 L3487.23 1458.33 L3491.51 1458.33 L3491.51 1462.35 Q3493.04 1460.02 3495.1 1458.86 Q3497.18 1457.7 3499.89 1457.7 Q3504.36 1457.7 3506.65 1460.48 Q3508.94 1463.23 3508.94 1468.6 Z\" fill=\"#000000\" fill-rule=\"evenodd\" fill-opacity=\"1\" /><path clip-path=\"url(#clip5300)\" d=\"M 0 0 M3514.01 1478.37 L3518.89 1478.37 L3518.89 1484.25 L3514.01 1484.25 L3514.01 1478.37 Z\" fill=\"#000000\" fill-rule=\"evenodd\" fill-opacity=\"1\" /><path clip-path=\"url(#clip5300)\" d=\"M 0 0 M3539.84 1480.32 L3547.48 1480.32 L3547.48 1453.95 L3539.17 1455.62 L3539.17 1451.36 L3547.44 1449.69 L3552.11 1449.69 L3552.11 1480.32 L3559.75 1480.32 L3559.75 1484.25 L3539.84 1484.25 L3539.84 1480.32 Z\" fill=\"#000000\" fill-rule=\"evenodd\" fill-opacity=\"1\" /><path clip-path=\"url(#clip5300)\" d=\"M 0 0 M3565.31 1478.37 L3570.19 1478.37 L3570.19 1482.35 L3566.39 1489.76 L3563.41 1489.76 L3565.31 1482.35 L3565.31 1478.37 Z\" fill=\"#000000\" fill-rule=\"evenodd\" fill-opacity=\"1\" /><path clip-path=\"url(#clip5300)\" d=\"M 0 0 M3594.36 1480.32 L3610.68 1480.32 L3610.68 1484.25 L3588.73 1484.25 L3588.73 1480.32 Q3591.39 1477.56 3595.98 1472.93 Q3600.58 1468.28 3601.76 1466.94 Q3604.01 1464.41 3604.89 1462.68 Q3605.79 1460.92 3605.79 1459.23 Q3605.79 1456.47 3603.85 1454.74 Q3601.93 1453 3598.82 1453 Q3596.62 1453 3594.17 1453.77 Q3591.74 1454.53 3588.96 1456.08 L3588.96 1451.36 Q3591.79 1450.22 3594.24 1449.65 Q3596.69 1449.07 3598.73 1449.07 Q3604.1 1449.07 3607.3 1451.75 Q3610.49 1454.44 3610.49 1458.93 Q3610.49 1461.06 3609.68 1462.98 Q3608.89 1464.88 3606.79 1467.47 Q3606.21 1468.14 3603.11 1471.36 Q3600 1474.55 3594.36 1480.32 Z\" fill=\"#000000\" fill-rule=\"evenodd\" fill-opacity=\"1\" /><path clip-path=\"url(#clip5300)\" d=\"M 0 0 M3616.56 1480.32 L3624.19 1480.32 L3624.19 1453.95 L3615.88 1455.62 L3615.88 1451.36 L3624.15 1449.69 L3628.82 1449.69 L3628.82 1480.32 L3636.46 1480.32 L3636.46 1484.25 L3616.56 1484.25 L3616.56 1480.32 Z\" fill=\"#000000\" fill-rule=\"evenodd\" fill-opacity=\"1\" /><path clip-path=\"url(#clip5300)\" d=\"M 0 0 M3682.67 1449.69 L3687.35 1449.69 L3687.35 1481.84 Q3687.35 1488.09 3684.96 1490.92 Q3682.6 1493.74 3677.35 1493.74 L3675.56 1493.74 L3675.56 1489.81 L3677.02 1489.81 Q3680.12 1489.81 3681.4 1488.07 Q3682.67 1486.34 3682.67 1481.84 L3682.67 1449.69 Z\" fill=\"#000000\" fill-rule=\"evenodd\" fill-opacity=\"1\" /><path clip-path=\"url(#clip5300)\" d=\"M 0 0 M3703.6 1471.22 Q3698.43 1471.22 3696.44 1472.4 Q3694.45 1473.58 3694.45 1476.43 Q3694.45 1478.7 3695.93 1480.04 Q3697.44 1481.36 3700.01 1481.36 Q3703.55 1481.36 3705.68 1478.86 Q3707.83 1476.34 3707.83 1472.17 L3707.83 1471.22 L3703.6 1471.22 M3712.09 1469.46 L3712.09 1484.25 L3707.83 1484.25 L3707.83 1480.32 Q3706.37 1482.68 3704.2 1483.81 Q3702.02 1484.92 3698.87 1484.92 Q3694.89 1484.92 3692.53 1482.7 Q3690.19 1480.46 3690.19 1476.71 Q3690.19 1472.33 3693.11 1470.11 Q3696.05 1467.89 3701.86 1467.89 L3707.83 1467.89 L3707.83 1467.47 Q3707.83 1464.53 3705.89 1462.93 Q3703.97 1461.31 3700.47 1461.31 Q3698.25 1461.31 3696.14 1461.84 Q3694.04 1462.38 3692.09 1463.44 L3692.09 1459.51 Q3694.43 1458.6 3696.63 1458.16 Q3698.83 1457.7 3700.91 1457.7 Q3706.54 1457.7 3709.31 1460.62 Q3712.09 1463.53 3712.09 1469.46 Z\" fill=\"#000000\" fill-rule=\"evenodd\" fill-opacity=\"1\" /><path clip-path=\"url(#clip5300)\" d=\"M 0 0 M3738.11 1468.6 L3738.11 1484.25 L3733.85 1484.25 L3733.85 1468.74 Q3733.85 1465.06 3732.41 1463.23 Q3730.98 1461.4 3728.11 1461.4 Q3724.66 1461.4 3722.67 1463.6 Q3720.68 1465.8 3720.68 1469.6 L3720.68 1484.25 L3716.4 1484.25 L3716.4 1458.33 L3720.68 1458.33 L3720.68 1462.35 Q3722.21 1460.02 3724.27 1458.86 Q3726.35 1457.7 3729.06 1457.7 Q3733.53 1457.7 3735.82 1460.48 Q3738.11 1463.23 3738.11 1468.6 Z\" fill=\"#000000\" fill-rule=\"evenodd\" fill-opacity=\"1\" /><path clip-path=\"url(#clip5300)\" d=\"M 0 0 M3743.18 1478.37 L3748.06 1478.37 L3748.06 1484.25 L3743.18 1484.25 L3743.18 1478.37 Z\" fill=\"#000000\" fill-rule=\"evenodd\" fill-opacity=\"1\" /><path clip-path=\"url(#clip5300)\" d=\"M 0 0 M3768.34 1483.53 L3768.34 1479.28 Q3770.1 1480.11 3771.91 1480.55 Q3773.71 1480.99 3775.45 1480.99 Q3780.08 1480.99 3782.51 1477.89 Q3784.96 1474.76 3785.31 1468.42 Q3783.97 1470.41 3781.91 1471.47 Q3779.84 1472.54 3777.34 1472.54 Q3772.16 1472.54 3769.13 1469.41 Q3766.12 1466.27 3766.12 1460.83 Q3766.12 1455.5 3769.27 1452.28 Q3772.41 1449.07 3777.65 1449.07 Q3783.64 1449.07 3786.79 1453.67 Q3789.96 1458.26 3789.96 1467.01 Q3789.96 1475.18 3786.07 1480.06 Q3782.21 1484.92 3775.66 1484.92 Q3773.9 1484.92 3772.09 1484.58 Q3770.28 1484.23 3768.34 1483.53 M3777.65 1468.88 Q3780.79 1468.88 3782.62 1466.73 Q3784.47 1464.58 3784.47 1460.83 Q3784.47 1457.1 3782.62 1454.95 Q3780.79 1452.77 3777.65 1452.77 Q3774.5 1452.77 3772.65 1454.95 Q3770.82 1457.1 3770.82 1460.83 Q3770.82 1464.58 3772.65 1466.73 Q3774.5 1468.88 3777.65 1468.88 Z\" fill=\"#000000\" fill-rule=\"evenodd\" fill-opacity=\"1\" /><path clip-path=\"url(#clip5300)\" d=\"M 0 0 M3795.52 1478.37 L3800.4 1478.37 L3800.4 1482.35 L3796.6 1489.76 L3793.62 1489.76 L3795.52 1482.35 L3795.52 1478.37 Z\" fill=\"#000000\" fill-rule=\"evenodd\" fill-opacity=\"1\" /><path clip-path=\"url(#clip5300)\" d=\"M 0 0 M3824.57 1480.32 L3840.89 1480.32 L3840.89 1484.25 L3818.94 1484.25 L3818.94 1480.32 Q3821.6 1477.56 3826.19 1472.93 Q3830.79 1468.28 3831.97 1466.94 Q3834.22 1464.41 3835.1 1462.68 Q3836 1460.92 3836 1459.23 Q3836 1456.47 3834.06 1454.74 Q3832.14 1453 3829.03 1453 Q3826.84 1453 3824.38 1453.77 Q3821.95 1454.53 3819.17 1456.08 L3819.17 1451.36 Q3822 1450.22 3824.45 1449.65 Q3826.9 1449.07 3828.94 1449.07 Q3834.31 1449.07 3837.51 1451.75 Q3840.7 1454.44 3840.7 1458.93 Q3840.7 1461.06 3839.89 1462.98 Q3839.1 1464.88 3837 1467.47 Q3836.42 1468.14 3833.32 1471.36 Q3830.22 1474.55 3824.57 1480.32 Z\" fill=\"#000000\" fill-rule=\"evenodd\" fill-opacity=\"1\" /><path clip-path=\"url(#clip5300)\" d=\"M 0 0 M3846.77 1480.32 L3854.4 1480.32 L3854.4 1453.95 L3846.09 1455.62 L3846.09 1451.36 L3854.36 1449.69 L3859.03 1449.69 L3859.03 1480.32 L3866.67 1480.32 L3866.67 1484.25 L3846.77 1484.25 L3846.77 1480.32 Z\" fill=\"#000000\" fill-rule=\"evenodd\" fill-opacity=\"1\" /><path clip-path=\"url(#clip5300)\" d=\"M 0 0 M118.074 1142.67 L134.393 1142.67 L134.393 1146.61 L112.449 1146.61 L112.449 1142.67 Q115.111 1139.92 119.694 1135.29 Q124.301 1130.63 125.481 1129.29 Q127.727 1126.77 128.606 1125.03 Q129.509 1123.27 129.509 1121.58 Q129.509 1118.83 127.565 1117.09 Q125.643 1115.36 122.542 1115.36 Q120.343 1115.36 117.889 1116.12 Q115.458 1116.88 112.681 1118.43 L112.681 1113.71 Q115.505 1112.58 117.958 1112 Q120.412 1111.42 122.449 1111.42 Q127.819 1111.42 131.014 1114.11 Q134.208 1116.79 134.208 1121.28 Q134.208 1123.41 133.398 1125.33 Q132.611 1127.23 130.504 1129.82 Q129.926 1130.49 126.824 1133.71 Q123.722 1136.91 118.074 1142.67 Z\" fill=\"#000000\" fill-rule=\"evenodd\" fill-opacity=\"1\" /><path clip-path=\"url(#clip5300)\" d=\"M 0 0 M149.463 1130.19 Q146.129 1130.19 144.208 1131.98 Q142.31 1133.76 142.31 1136.88 Q142.31 1140.01 144.208 1141.79 Q146.129 1143.57 149.463 1143.57 Q152.796 1143.57 154.717 1141.79 Q156.639 1139.98 156.639 1136.88 Q156.639 1133.76 154.717 1131.98 Q152.819 1130.19 149.463 1130.19 M144.787 1128.2 Q141.778 1127.46 140.088 1125.4 Q138.421 1123.34 138.421 1120.38 Q138.421 1116.24 141.361 1113.83 Q144.324 1111.42 149.463 1111.42 Q154.625 1111.42 157.565 1113.83 Q160.504 1116.24 160.504 1120.38 Q160.504 1123.34 158.815 1125.4 Q157.148 1127.46 154.162 1128.2 Q157.541 1128.99 159.416 1131.28 Q161.315 1133.57 161.315 1136.88 Q161.315 1141.91 158.236 1144.59 Q155.18 1147.28 149.463 1147.28 Q143.745 1147.28 140.666 1144.59 Q137.611 1141.91 137.611 1136.88 Q137.611 1133.57 139.509 1131.28 Q141.407 1128.99 144.787 1128.2 M143.074 1120.82 Q143.074 1123.5 144.741 1125.01 Q146.43 1126.51 149.463 1126.51 Q152.472 1126.51 154.162 1125.01 Q155.875 1123.5 155.875 1120.82 Q155.875 1118.13 154.162 1116.63 Q152.472 1115.12 149.463 1115.12 Q146.43 1115.12 144.741 1116.63 Q143.074 1118.13 143.074 1120.82 Z\" fill=\"#000000\" fill-rule=\"evenodd\" fill-opacity=\"1\" /><path clip-path=\"url(#clip5300)\" d=\"M 0 0 M176.384 1115.12 Q172.773 1115.12 170.944 1118.69 Q169.139 1122.23 169.139 1129.36 Q169.139 1136.47 170.944 1140.03 Q172.773 1143.57 176.384 1143.57 Q180.018 1143.57 181.824 1140.03 Q183.652 1136.47 183.652 1129.36 Q183.652 1122.23 181.824 1118.69 Q180.018 1115.12 176.384 1115.12 M176.384 1111.42 Q182.194 1111.42 185.25 1116.03 Q188.328 1120.61 188.328 1129.36 Q188.328 1138.09 185.25 1142.69 Q182.194 1147.28 176.384 1147.28 Q170.574 1147.28 167.495 1142.69 Q164.44 1138.09 164.44 1129.36 Q164.44 1120.61 167.495 1116.03 Q170.574 1111.42 176.384 1111.42 Z\" fill=\"#000000\" fill-rule=\"evenodd\" fill-opacity=\"1\" /><path clip-path=\"url(#clip5300)\" d=\"M 0 0 M203.398 1115.12 Q199.787 1115.12 197.958 1118.69 Q196.152 1122.23 196.152 1129.36 Q196.152 1136.47 197.958 1140.03 Q199.787 1143.57 203.398 1143.57 Q207.032 1143.57 208.837 1140.03 Q210.666 1136.47 210.666 1129.36 Q210.666 1122.23 208.837 1118.69 Q207.032 1115.12 203.398 1115.12 M203.398 1111.42 Q209.208 1111.42 212.263 1116.03 Q215.342 1120.61 215.342 1129.36 Q215.342 1138.09 212.263 1142.69 Q209.208 1147.28 203.398 1147.28 Q197.587 1147.28 194.509 1142.69 Q191.453 1138.09 191.453 1129.36 Q191.453 1120.61 194.509 1116.03 Q197.587 1111.42 203.398 1111.42 Z\" fill=\"#000000\" fill-rule=\"evenodd\" fill-opacity=\"1\" /><path clip-path=\"url(#clip5300)\" d=\"M 0 0 M230.411 1115.12 Q226.8 1115.12 224.972 1118.69 Q223.166 1122.23 223.166 1129.36 Q223.166 1136.47 224.972 1140.03 Q226.8 1143.57 230.411 1143.57 Q234.046 1143.57 235.851 1140.03 Q237.68 1136.47 237.68 1129.36 Q237.68 1122.23 235.851 1118.69 Q234.046 1115.12 230.411 1115.12 M230.411 1111.42 Q236.222 1111.42 239.277 1116.03 Q242.356 1120.61 242.356 1129.36 Q242.356 1138.09 239.277 1142.69 Q236.222 1147.28 230.411 1147.28 Q224.601 1147.28 221.523 1142.69 Q218.467 1138.09 218.467 1129.36 Q218.467 1120.61 221.523 1116.03 Q224.601 1111.42 230.411 1111.42 Z\" fill=\"#000000\" fill-rule=\"evenodd\" fill-opacity=\"1\" /><path clip-path=\"url(#clip5300)\" d=\"M 0 0 M127.171 782.561 Q130.528 783.278 132.403 785.547 Q134.301 787.815 134.301 791.149 Q134.301 796.264 130.782 799.065 Q127.264 801.866 120.782 801.866 Q118.606 801.866 116.292 801.426 Q114 801.01 111.546 800.153 L111.546 795.639 Q113.491 796.774 115.806 797.352 Q118.12 797.931 120.643 797.931 Q125.042 797.931 127.333 796.195 Q129.648 794.459 129.648 791.149 Q129.648 788.093 127.495 786.38 Q125.366 784.644 121.546 784.644 L117.518 784.644 L117.518 780.801 L121.731 780.801 Q125.18 780.801 127.009 779.436 Q128.838 778.047 128.838 775.454 Q128.838 772.792 126.94 771.38 Q125.065 769.945 121.546 769.945 Q119.625 769.945 117.426 770.362 Q115.227 770.778 112.588 771.658 L112.588 767.491 Q115.25 766.751 117.565 766.38 Q119.903 766.01 121.963 766.01 Q127.287 766.01 130.389 768.44 Q133.491 770.848 133.491 774.968 Q133.491 777.838 131.847 779.829 Q130.204 781.797 127.171 782.561 Z\" fill=\"#000000\" fill-rule=\"evenodd\" fill-opacity=\"1\" /><path clip-path=\"url(#clip5300)\" d=\"M 0 0 M149.37 769.714 Q145.759 769.714 143.93 773.278 Q142.125 776.82 142.125 783.95 Q142.125 791.056 143.93 794.621 Q145.759 798.162 149.37 798.162 Q153.004 798.162 154.81 794.621 Q156.639 791.056 156.639 783.95 Q156.639 776.82 154.81 773.278 Q153.004 769.714 149.37 769.714 M149.37 766.01 Q155.18 766.01 158.236 770.616 Q161.315 775.2 161.315 783.95 Q161.315 792.676 158.236 797.283 Q155.18 801.866 149.37 801.866 Q143.56 801.866 140.481 797.283 Q137.426 792.676 137.426 783.95 Q137.426 775.2 140.481 770.616 Q143.56 766.01 149.37 766.01 Z\" fill=\"#000000\" fill-rule=\"evenodd\" fill-opacity=\"1\" /><path clip-path=\"url(#clip5300)\" d=\"M 0 0 M176.384 769.714 Q172.773 769.714 170.944 773.278 Q169.139 776.82 169.139 783.95 Q169.139 791.056 170.944 794.621 Q172.773 798.162 176.384 798.162 Q180.018 798.162 181.824 794.621 Q183.652 791.056 183.652 783.95 Q183.652 776.82 181.824 773.278 Q180.018 769.714 176.384 769.714 M176.384 766.01 Q182.194 766.01 185.25 770.616 Q188.328 775.2 188.328 783.95 Q188.328 792.676 185.25 797.283 Q182.194 801.866 176.384 801.866 Q170.574 801.866 167.495 797.283 Q164.44 792.676 164.44 783.95 Q164.44 775.2 167.495 770.616 Q170.574 766.01 176.384 766.01 Z\" fill=\"#000000\" fill-rule=\"evenodd\" fill-opacity=\"1\" /><path clip-path=\"url(#clip5300)\" d=\"M 0 0 M203.398 769.714 Q199.787 769.714 197.958 773.278 Q196.152 776.82 196.152 783.95 Q196.152 791.056 197.958 794.621 Q199.787 798.162 203.398 798.162 Q207.032 798.162 208.837 794.621 Q210.666 791.056 210.666 783.95 Q210.666 776.82 208.837 773.278 Q207.032 769.714 203.398 769.714 M203.398 766.01 Q209.208 766.01 212.263 770.616 Q215.342 775.2 215.342 783.95 Q215.342 792.676 212.263 797.283 Q209.208 801.866 203.398 801.866 Q197.587 801.866 194.509 797.283 Q191.453 792.676 191.453 783.95 Q191.453 775.2 194.509 770.616 Q197.587 766.01 203.398 766.01 Z\" fill=\"#000000\" fill-rule=\"evenodd\" fill-opacity=\"1\" /><path clip-path=\"url(#clip5300)\" d=\"M 0 0 M230.411 769.714 Q226.8 769.714 224.972 773.278 Q223.166 776.82 223.166 783.95 Q223.166 791.056 224.972 794.621 Q226.8 798.162 230.411 798.162 Q234.046 798.162 235.851 794.621 Q237.68 791.056 237.68 783.95 Q237.68 776.82 235.851 773.278 Q234.046 769.714 230.411 769.714 M230.411 766.01 Q236.222 766.01 239.277 770.616 Q242.356 775.2 242.356 783.95 Q242.356 792.676 239.277 797.283 Q236.222 801.866 230.411 801.866 Q224.601 801.866 221.523 797.283 Q218.467 792.676 218.467 783.95 Q218.467 775.2 221.523 770.616 Q224.601 766.01 230.411 766.01 Z\" fill=\"#000000\" fill-rule=\"evenodd\" fill-opacity=\"1\" /><path clip-path=\"url(#clip5300)\" d=\"M 0 0 M128.768 437.15 Q132.125 437.868 134 440.136 Q135.898 442.405 135.898 445.738 Q135.898 450.854 132.379 453.655 Q128.861 456.456 122.38 456.456 Q120.204 456.456 117.889 456.016 Q115.597 455.599 113.143 454.743 L113.143 450.229 Q115.088 451.363 117.403 451.942 Q119.718 452.52 122.241 452.52 Q126.639 452.52 128.93 450.784 Q131.245 449.048 131.245 445.738 Q131.245 442.683 129.092 440.97 Q126.963 439.234 123.143 439.234 L119.116 439.234 L119.116 435.391 L123.329 435.391 Q126.778 435.391 128.606 434.025 Q130.435 432.636 130.435 430.044 Q130.435 427.382 128.537 425.97 Q126.662 424.535 123.143 424.535 Q121.222 424.535 119.023 424.951 Q116.824 425.368 114.185 426.247 L114.185 422.081 Q116.847 421.34 119.162 420.97 Q121.5 420.599 123.56 420.599 Q128.884 420.599 131.986 423.03 Q135.088 425.437 135.088 429.558 Q135.088 432.428 133.444 434.419 Q131.801 436.386 128.768 437.15 Z\" fill=\"#000000\" fill-rule=\"evenodd\" fill-opacity=\"1\" /><path clip-path=\"url(#clip5300)\" d=\"M 0 0 M144.995 451.849 L161.315 451.849 L161.315 455.784 L139.37 455.784 L139.37 451.849 Q142.032 449.095 146.616 444.465 Q151.222 439.812 152.403 438.47 Q154.648 435.947 155.528 434.21 Q156.43 432.451 156.43 430.761 Q156.43 428.007 154.486 426.271 Q152.565 424.535 149.463 424.535 Q147.264 424.535 144.81 425.298 Q142.379 426.062 139.602 427.613 L139.602 422.891 Q142.426 421.757 144.879 421.178 Q147.333 420.599 149.37 420.599 Q154.74 420.599 157.935 423.285 Q161.129 425.97 161.129 430.46 Q161.129 432.59 160.319 434.511 Q159.532 436.409 157.426 439.002 Q156.847 439.673 153.745 442.891 Q150.643 446.085 144.995 451.849 Z\" fill=\"#000000\" fill-rule=\"evenodd\" fill-opacity=\"1\" /><path clip-path=\"url(#clip5300)\" d=\"M 0 0 M176.384 424.303 Q172.773 424.303 170.944 427.868 Q169.139 431.409 169.139 438.539 Q169.139 445.646 170.944 449.21 Q172.773 452.752 176.384 452.752 Q180.018 452.752 181.824 449.21 Q183.652 445.646 183.652 438.539 Q183.652 431.409 181.824 427.868 Q180.018 424.303 176.384 424.303 M176.384 420.599 Q182.194 420.599 185.25 425.206 Q188.328 429.789 188.328 438.539 Q188.328 447.266 185.25 451.872 Q182.194 456.456 176.384 456.456 Q170.574 456.456 167.495 451.872 Q164.44 447.266 164.44 438.539 Q164.44 429.789 167.495 425.206 Q170.574 420.599 176.384 420.599 Z\" fill=\"#000000\" fill-rule=\"evenodd\" fill-opacity=\"1\" /><path clip-path=\"url(#clip5300)\" d=\"M 0 0 M203.398 424.303 Q199.787 424.303 197.958 427.868 Q196.152 431.409 196.152 438.539 Q196.152 445.646 197.958 449.21 Q199.787 452.752 203.398 452.752 Q207.032 452.752 208.837 449.21 Q210.666 445.646 210.666 438.539 Q210.666 431.409 208.837 427.868 Q207.032 424.303 203.398 424.303 M203.398 420.599 Q209.208 420.599 212.263 425.206 Q215.342 429.789 215.342 438.539 Q215.342 447.266 212.263 451.872 Q209.208 456.456 203.398 456.456 Q197.587 456.456 194.509 451.872 Q191.453 447.266 191.453 438.539 Q191.453 429.789 194.509 425.206 Q197.587 420.599 203.398 420.599 Z\" fill=\"#000000\" fill-rule=\"evenodd\" fill-opacity=\"1\" /><path clip-path=\"url(#clip5300)\" d=\"M 0 0 M230.411 424.303 Q226.8 424.303 224.972 427.868 Q223.166 431.409 223.166 438.539 Q223.166 445.646 224.972 449.21 Q226.8 452.752 230.411 452.752 Q234.046 452.752 235.851 449.21 Q237.68 445.646 237.68 438.539 Q237.68 431.409 235.851 427.868 Q234.046 424.303 230.411 424.303 M230.411 420.599 Q236.222 420.599 239.277 425.206 Q242.356 429.789 242.356 438.539 Q242.356 447.266 239.277 451.872 Q236.222 456.456 230.411 456.456 Q224.601 456.456 221.523 451.872 Q218.467 447.266 218.467 438.539 Q218.467 429.789 221.523 425.206 Q224.601 420.599 230.411 420.599 Z\" fill=\"#000000\" fill-rule=\"evenodd\" fill-opacity=\"1\" /><path clip-path=\"url(#clip5300)\" d=\"M 0 0 M126.685 91.7397 Q130.042 92.4573 131.917 94.7258 Q133.815 96.9943 133.815 100.328 Q133.815 105.443 130.296 108.244 Q126.778 111.045 120.296 111.045 Q118.12 111.045 115.806 110.605 Q113.514 110.189 111.06 109.332 L111.06 104.818 Q113.005 105.953 115.319 106.531 Q117.634 107.11 120.157 107.11 Q124.555 107.11 126.847 105.374 Q129.162 103.638 129.162 100.328 Q129.162 97.2721 127.009 95.5591 Q124.88 93.823 121.06 93.823 L117.032 93.823 L117.032 89.9805 L121.245 89.9805 Q124.694 89.9805 126.523 88.6147 Q128.352 87.2259 128.352 84.6333 Q128.352 81.9713 126.454 80.5592 Q124.579 79.124 121.06 79.124 Q119.139 79.124 116.94 79.5407 Q114.741 79.9574 112.102 80.837 L112.102 76.6704 Q114.764 75.9296 117.079 75.5593 Q119.417 75.1889 121.477 75.1889 Q126.801 75.1889 129.903 77.6194 Q133.004 80.0268 133.004 84.1472 Q133.004 87.0175 131.361 89.0083 Q129.717 90.9758 126.685 91.7397 Z\" fill=\"#000000\" fill-rule=\"evenodd\" fill-opacity=\"1\" /><path clip-path=\"url(#clip5300)\" d=\"M 0 0 M151.731 79.8879 L139.926 98.3369 L151.731 98.3369 L151.731 79.8879 M150.504 75.8139 L156.384 75.8139 L156.384 98.3369 L161.315 98.3369 L161.315 102.226 L156.384 102.226 L156.384 110.374 L151.731 110.374 L151.731 102.226 L136.129 102.226 L136.129 97.7119 L150.504 75.8139 Z\" fill=\"#000000\" fill-rule=\"evenodd\" fill-opacity=\"1\" /><path clip-path=\"url(#clip5300)\" d=\"M 0 0 M176.384 78.8926 Q172.773 78.8926 170.944 82.4574 Q169.139 85.999 169.139 93.1286 Q169.139 100.235 170.944 103.8 Q172.773 107.341 176.384 107.341 Q180.018 107.341 181.824 103.8 Q183.652 100.235 183.652 93.1286 Q183.652 85.999 181.824 82.4574 Q180.018 78.8926 176.384 78.8926 M176.384 75.1889 Q182.194 75.1889 185.25 79.7953 Q188.328 84.3787 188.328 93.1286 Q188.328 101.855 185.25 106.462 Q182.194 111.045 176.384 111.045 Q170.574 111.045 167.495 106.462 Q164.44 101.855 164.44 93.1286 Q164.44 84.3787 167.495 79.7953 Q170.574 75.1889 176.384 75.1889 Z\" fill=\"#000000\" fill-rule=\"evenodd\" fill-opacity=\"1\" /><path clip-path=\"url(#clip5300)\" d=\"M 0 0 M203.398 78.8926 Q199.787 78.8926 197.958 82.4574 Q196.152 85.999 196.152 93.1286 Q196.152 100.235 197.958 103.8 Q199.787 107.341 203.398 107.341 Q207.032 107.341 208.837 103.8 Q210.666 100.235 210.666 93.1286 Q210.666 85.999 208.837 82.4574 Q207.032 78.8926 203.398 78.8926 M203.398 75.1889 Q209.208 75.1889 212.263 79.7953 Q215.342 84.3787 215.342 93.1286 Q215.342 101.855 212.263 106.462 Q209.208 111.045 203.398 111.045 Q197.587 111.045 194.509 106.462 Q191.453 101.855 191.453 93.1286 Q191.453 84.3787 194.509 79.7953 Q197.587 75.1889 203.398 75.1889 Z\" fill=\"#000000\" fill-rule=\"evenodd\" fill-opacity=\"1\" /><path clip-path=\"url(#clip5300)\" d=\"M 0 0 M230.411 78.8926 Q226.8 78.8926 224.972 82.4574 Q223.166 85.999 223.166 93.1286 Q223.166 100.235 224.972 103.8 Q226.8 107.341 230.411 107.341 Q234.046 107.341 235.851 103.8 Q237.68 100.235 237.68 93.1286 Q237.68 85.999 235.851 82.4574 Q234.046 78.8926 230.411 78.8926 M230.411 75.1889 Q236.222 75.1889 239.277 79.7953 Q242.356 84.3787 242.356 93.1286 Q242.356 101.855 239.277 106.462 Q236.222 111.045 230.411 111.045 Q224.601 111.045 221.523 106.462 Q218.467 101.855 218.467 93.1286 Q218.467 84.3787 221.523 79.7953 Q224.601 75.1889 230.411 75.1889 Z\" fill=\"#000000\" fill-rule=\"evenodd\" fill-opacity=\"1\" /><path clip-path=\"url(#clip5300)\" d=\"M 0 0 M2022.92 1525.47 L2022.92 1535.6 L2034.98 1535.6 L2034.98 1540.15 L2022.92 1540.15 L2022.92 1559.5 Q2022.92 1563.86 2024.1 1565.1 Q2025.31 1566.34 2028.97 1566.34 L2034.98 1566.34 L2034.98 1571.24 L2028.97 1571.24 Q2022.19 1571.24 2019.61 1568.73 Q2017.03 1566.18 2017.03 1559.5 L2017.03 1540.15 L2012.73 1540.15 L2012.73 1535.6 L2017.03 1535.6 L2017.03 1525.47 L2022.92 1525.47 Z\" fill=\"#000000\" fill-rule=\"evenodd\" fill-opacity=\"1\" /><path clip-path=\"url(#clip5300)\" d=\"M 0 0 M2041.13 1535.6 L2046.98 1535.6 L2046.98 1571.24 L2041.13 1571.24 L2041.13 1535.6 M2041.13 1521.72 L2046.98 1521.72 L2046.98 1529.13 L2041.13 1529.13 L2041.13 1521.72 Z\" fill=\"#000000\" fill-rule=\"evenodd\" fill-opacity=\"1\" /><path clip-path=\"url(#clip5300)\" d=\"M 0 0 M2080.88 1542.44 Q2083.08 1538.49 2086.13 1536.61 Q2089.19 1534.74 2093.32 1534.74 Q2098.89 1534.74 2101.92 1538.65 Q2104.94 1542.53 2104.94 1549.73 L2104.94 1571.24 L2099.05 1571.24 L2099.05 1549.92 Q2099.05 1544.79 2097.24 1542.31 Q2095.43 1539.83 2091.7 1539.83 Q2087.15 1539.83 2084.51 1542.85 Q2081.87 1545.88 2081.87 1551.1 L2081.87 1571.24 L2075.98 1571.24 L2075.98 1549.92 Q2075.98 1544.76 2074.16 1542.31 Q2072.35 1539.83 2068.56 1539.83 Q2064.07 1539.83 2061.43 1542.88 Q2058.79 1545.91 2058.79 1551.1 L2058.79 1571.24 L2052.9 1571.24 L2052.9 1535.6 L2058.79 1535.6 L2058.79 1541.13 Q2060.8 1537.86 2063.6 1536.3 Q2066.4 1534.74 2070.25 1534.74 Q2074.13 1534.74 2076.84 1536.71 Q2079.57 1538.68 2080.88 1542.44 Z\" fill=\"#000000\" fill-rule=\"evenodd\" fill-opacity=\"1\" /><path clip-path=\"url(#clip5300)\" d=\"M 0 0 M2141.58 1551.96 L2141.58 1554.82 L2114.65 1554.82 Q2115.03 1560.87 2118.28 1564.05 Q2121.56 1567.2 2127.38 1567.2 Q2130.76 1567.2 2133.91 1566.37 Q2137.09 1565.55 2140.21 1563.89 L2140.21 1569.43 Q2137.06 1570.77 2133.75 1571.47 Q2130.44 1572.17 2127.03 1572.17 Q2118.5 1572.17 2113.5 1567.2 Q2108.54 1562.24 2108.54 1553.77 Q2108.54 1545.02 2113.25 1539.89 Q2117.99 1534.74 2126.01 1534.74 Q2133.21 1534.74 2137.38 1539.38 Q2141.58 1544 2141.58 1551.96 M2135.72 1550.24 Q2135.66 1545.43 2133.01 1542.57 Q2130.4 1539.7 2126.08 1539.7 Q2121.17 1539.7 2118.21 1542.47 Q2115.29 1545.24 2114.84 1550.27 L2135.72 1550.24 Z\" fill=\"#000000\" fill-rule=\"evenodd\" fill-opacity=\"1\" /><path clip-path=\"url(#clip5300)\" d=\"M 0 0 M21.9562 811.585 L21.9562 805.378 L51.875 794.238 L21.9562 783.098 L21.9562 776.891 L57.6042 790.259 L57.6042 798.217 L21.9562 811.585 Z\" fill=\"#000000\" fill-rule=\"evenodd\" fill-opacity=\"1\" /><path clip-path=\"url(#clip5300)\" d=\"M 0 0 M39.6847 754.548 Q39.6847 761.646 41.3079 764.383 Q42.9312 767.12 46.8461 767.12 Q49.9653 767.12 51.8114 765.083 Q53.6256 763.014 53.6256 759.481 Q53.6256 754.611 50.1881 751.683 Q46.7188 748.723 40.9897 748.723 L39.6847 748.723 L39.6847 754.548 M37.2657 742.867 L57.6042 742.867 L57.6042 748.723 L52.1933 748.723 Q55.4398 750.728 56.9994 753.72 Q58.5272 756.712 58.5272 761.041 Q58.5272 766.515 55.4716 769.762 Q52.3843 772.977 47.2281 772.977 Q41.2125 772.977 38.1569 768.966 Q35.1014 764.924 35.1014 756.935 L35.1014 748.723 L34.5285 748.723 Q30.4862 748.723 28.2901 751.397 Q26.0621 754.039 26.0621 758.845 Q26.0621 761.9 26.7941 764.797 Q27.5262 767.693 28.9903 770.367 L23.5795 770.367 Q22.3381 767.152 21.7334 764.128 Q21.0968 761.104 21.0968 758.24 Q21.0968 750.506 25.1072 746.686 Q29.1176 742.867 37.2657 742.867 Z\" fill=\"#000000\" fill-rule=\"evenodd\" fill-opacity=\"1\" /><path clip-path=\"url(#clip5300)\" d=\"M 0 0 M8.07896 736.724 L8.07896 730.867 L57.6042 730.867 L57.6042 736.724 L8.07896 736.724 Z\" fill=\"#000000\" fill-rule=\"evenodd\" fill-opacity=\"1\" /><path clip-path=\"url(#clip5300)\" d=\"M 0 0 M43.5359 725.329 L21.9562 725.329 L21.9562 719.473 L43.3131 719.473 Q48.3739 719.473 50.9202 717.499 Q53.4346 715.526 53.4346 711.579 Q53.4346 706.837 50.4109 704.1 Q47.3872 701.33 42.1673 701.33 L21.9562 701.33 L21.9562 695.474 L57.6042 695.474 L57.6042 701.33 L52.1296 701.33 Q55.3762 703.463 56.9676 706.296 Q58.5272 709.097 58.5272 712.821 Q58.5272 718.964 54.7078 722.146 Q50.8883 725.329 43.5359 725.329 M21.0968 710.593 L21.0968 710.593 Z\" fill=\"#000000\" fill-rule=\"evenodd\" fill-opacity=\"1\" /><path clip-path=\"url(#clip5300)\" d=\"M 0 0 M38.3161 658.839 L41.1806 658.839 L41.1806 685.766 Q47.2281 685.384 50.4109 682.138 Q53.5619 678.86 53.5619 673.035 Q53.5619 669.661 52.7344 666.51 Q51.9069 663.327 50.2518 660.208 L55.7899 660.208 Q57.1267 663.359 57.827 666.669 Q58.5272 669.979 58.5272 673.385 Q58.5272 681.915 53.5619 686.912 Q48.5967 691.877 40.1303 691.877 Q31.3774 691.877 26.2531 687.167 Q21.0968 682.424 21.0968 674.404 Q21.0968 667.21 25.7438 663.041 Q30.3589 658.839 38.3161 658.839 M36.5973 664.696 Q31.7912 664.76 28.9266 667.401 Q26.0621 670.011 26.0621 674.34 Q26.0621 679.241 28.8312 682.202 Q31.6002 685.13 36.6292 685.575 L36.5973 664.696 Z\" fill=\"#000000\" fill-rule=\"evenodd\" fill-opacity=\"1\" /><polyline clip-path=\"url(#clip5302)\" style=\"stroke:#009af9; stroke-width:4; stroke-opacity:1; fill:none\" points=\"\n",
       "  383.193,1158.86 411.905,1114.47 440.616,1089.43 469.327,1066.29 498.038,1119.48 526.75,1138.48 555.461,1138.48 584.172,1138.48 612.883,1218.27 641.595,1244.52 \n",
       "  670.306,1221.9 699.017,1285.62 727.728,1260.75 756.439,1260.75 785.151,1260.75 813.862,1177.16 842.573,1197.37 871.284,1124.83 899.996,1122.24 928.707,1153.33 \n",
       "  957.418,1153.33 986.129,1153.33 1014.84,1101.17 1043.55,1068.19 1072.26,1065.42 1100.97,1050.05 1129.69,1012.58 1158.4,1012.58 1187.11,1012.58 1215.82,963.874 \n",
       "  1244.53,989.607 1273.24,992.37 1301.95,1036.76 1330.66,983.735 1359.38,983.735 1388.09,983.735 1416.8,1006.36 1445.51,1030.02 1474.22,1051.44 1502.93,1056.62 \n",
       "  1531.64,1053.85 1560.35,1053.85 1589.06,1053.85 1617.78,1097.2 1646.49,1179.76 1675.2,1284.41 1703.91,1320.68 1732.62,1364.38 1761.33,1364.38 1790.04,1364.38 \n",
       "  1818.75,1294.6 1847.47,1191.5 1876.18,1077.17 1904.89,1043.84 1933.6,1054.72 1962.31,1054.72 1991.02,1054.72 2019.73,795.313 2048.44,873.894 2077.16,854.206 \n",
       "  2105.87,902.736 2134.58,860.078 2163.29,860.078 2192,860.078 2220.71,790.132 2249.42,806.021 2278.13,795.832 2306.85,865.95 2335.56,875.449 2364.27,875.449 \n",
       "  2392.98,875.449 2421.69,841.253 2450.4,763.708 2479.11,773.725 2507.82,773.725 2536.54,781.324 2565.25,781.324 2593.96,781.324 2622.67,808.957 2651.38,769.58 \n",
       "  2680.09,800.667 2708.8,764.745 2737.51,746.265 2766.23,746.265 2794.94,746.265 2823.65,743.675 2852.36,741.429 2881.07,728.649 2909.78,772.862 2938.49,771.653 \n",
       "  2967.2,771.653 2995.92,771.653 3024.63,771.653 3053.34,771.653 3082.05,771.653 3110.76,771.653 3139.47,771.653 3168.18,771.653 3196.89,771.653 3225.6,771.653 \n",
       "  3254.32,771.653 3283.03,771.653 3311.74,771.653 3340.45,771.653 3369.16,771.653 3397.87,771.653 3426.58,771.653 3455.29,771.653 3484.01,771.653 3512.72,771.653 \n",
       "  3541.43,771.653 3570.14,771.653 3598.85,771.653 3627.56,771.653 3656.27,771.653 3684.98,771.653 3713.7,771.653 3742.41,771.653 3771.12,771.653 \n",
       "  \"/>\n",
       "<polyline clip-path=\"url(#clip5302)\" style=\"stroke:#e26f46; stroke-width:4; stroke-opacity:1; fill:none\" points=\"\n",
       "  383.193,1160.07 411.905,1125.01 440.616,1095.82 469.327,1107.22 498.038,1122.59 526.75,1131.74 555.461,1138.31 584.172,1150.57 612.883,1220.51 641.595,1233.29 \n",
       "  670.306,1241.07 699.017,1282 727.728,1261.96 756.439,1252.12 785.151,1246.42 813.862,1193.4 842.573,1192.36 871.284,1168.18 899.996,1176.13 928.707,1156.44 \n",
       "  957.418,1130.02 986.129,1110.5 1014.84,1100.31 1043.55,1072.51 1072.26,1062.49 1100.97,1047.12 1129.69,1012.75 1158.4,1014.99 1187.11,1023.8 1215.82,970.955 \n",
       "  1244.53,995.479 1273.24,987.362 1301.95,1017.24 1330.66,988.225 1359.38,985.635 1388.09,984.944 1416.8,1003.25 1445.51,1034.86 1474.22,1031.4 1502.93,1062.32 \n",
       "  1531.64,1047.12 1560.35,1049.36 1589.06,1060.07 1617.78,1077.17 1646.49,1179.76 1675.2,1251.43 1703.91,1384.24 1732.62,1374.91 1761.33,1348.66 1790.04,1336.92 \n",
       "  1818.75,1286.14 1847.47,1180.79 1876.18,1098.93 1904.89,1058.52 1933.6,1054.72 1962.31,1054.03 1991.02,1030.19 2019.73,892.892 2048.44,893.065 2077.16,859.905 \n",
       "  2105.87,853.688 2134.58,839.008 2163.29,854.206 2192,859.732 2220.71,846.607 2249.42,810.511 2278.13,818.801 2306.85,855.933 2335.56,874.412 2364.27,875.276 \n",
       "  2392.98,869.922 2421.69,842.117 2450.4,773.898 2479.11,772.344 2507.82,779.597 2536.54,735.385 2565.25,741.775 2593.96,754.9 2622.67,799.804 2651.38,767.335 \n",
       "  2680.09,784.088 2708.8,759.736 2737.51,750.41 2766.23,749.547 2794.94,740.393 2823.65,761.29 2852.36,739.702 2881.07,718.805 2909.78,763.19 2938.49,771.998 \n",
       "  2967.2,706.37 2995.92,633.661 3024.63,557.153 3053.34,467.001 3082.05,450.248 3110.76,439.195 3139.47,423.134 3168.18,406.899 3196.89,389.456 3225.6,371.322 \n",
       "  3254.32,342.135 3283.03,322.101 3311.74,306.212 3340.45,285.833 3369.16,269.081 3397.87,240.411 3426.58,213.988 3455.29,185.837 3484.01,168.566 3512.72,159.24 \n",
       "  3541.43,148.187 3570.14,140.415 3598.85,134.716 3627.56,131.089 3656.27,115.027 3684.98,107.947 3713.7,104.492 3742.41,96.0299 3771.12,86.1857 \n",
       "  \"/>\n",
       "<polyline clip-path=\"url(#clip5302)\" style=\"stroke:#3da44d; stroke-width:4; stroke-opacity:1; fill:none\" points=\"\n",
       "  2952.85,2799.12 2952.85,-1328.69 \n",
       "  \"/>\n",
       "<path clip-path=\"url(#clip5300)\" d=\"\n",
       "M399.156 463.884 L1221.43 463.884 L1221.43 221.964 L399.156 221.964  Z\n",
       "  \" fill=\"#ffffff\" fill-rule=\"evenodd\" fill-opacity=\"1\"/>\n",
       "<polyline clip-path=\"url(#clip5300)\" style=\"stroke:#000000; stroke-width:4; stroke-opacity:1; fill:none\" points=\"\n",
       "  399.156,463.884 1221.43,463.884 1221.43,221.964 399.156,221.964 399.156,463.884 \n",
       "  \"/>\n",
       "<polyline clip-path=\"url(#clip5300)\" style=\"stroke:#009af9; stroke-width:4; stroke-opacity:1; fill:none\" points=\"\n",
       "  438.356,282.444 673.556,282.444 \n",
       "  \"/>\n",
       "<path clip-path=\"url(#clip5300)\" d=\"M 0 0 M717.432 269.007 L717.432 295.882 L723.08 295.882 Q730.233 295.882 733.543 292.641 Q736.876 289.4 736.876 282.409 Q736.876 275.465 733.543 272.247 Q730.233 269.007 723.08 269.007 L717.432 269.007 M712.756 265.164 L722.362 265.164 Q732.408 265.164 737.107 269.354 Q741.807 273.521 741.807 282.409 Q741.807 291.345 737.084 295.534 Q732.362 299.724 722.362 299.724 L712.756 299.724 L712.756 265.164 Z\" fill=\"#000000\" fill-rule=\"evenodd\" fill-opacity=\"1\" /><path clip-path=\"url(#clip5300)\" d=\"M 0 0 M746.459 265.164 L751.135 265.164 L751.135 297.317 Q751.135 303.567 748.751 306.391 Q746.39 309.215 741.135 309.215 L739.353 309.215 L739.353 305.28 L740.811 305.28 Q743.913 305.28 745.186 303.544 Q746.459 301.807 746.459 297.317 L746.459 265.164 Z\" fill=\"#000000\" fill-rule=\"evenodd\" fill-opacity=\"1\" /><path clip-path=\"url(#clip5300)\" d=\"M 0 0 M755.788 265.164 L760.464 265.164 L760.464 299.724 L755.788 299.724 L755.788 265.164 Z\" fill=\"#000000\" fill-rule=\"evenodd\" fill-opacity=\"1\" /><path clip-path=\"url(#clip5300)\" d=\"M 0 0 M776.667 269.771 L770.325 286.97 L783.033 286.97 L776.667 269.771 M774.029 265.164 L779.329 265.164 L792.501 299.724 L787.64 299.724 L784.491 290.858 L768.913 290.858 L765.765 299.724 L760.834 299.724 L774.029 265.164 Z\" fill=\"#000000\" fill-rule=\"evenodd\" fill-opacity=\"1\" /><polyline clip-path=\"url(#clip5300)\" style=\"stroke:#e26f46; stroke-width:4; stroke-opacity:1; fill:none\" points=\"\n",
       "  438.356,342.924 673.556,342.924 \n",
       "  \"/>\n",
       "<path clip-path=\"url(#clip5300)\" d=\"M 0 0 M717.038 356.315 L717.038 370.065 L712.756 370.065 L712.756 334.278 L717.038 334.278 L717.038 338.213 Q718.381 335.899 720.418 334.788 Q722.478 333.653 725.325 333.653 Q730.047 333.653 732.987 337.403 Q735.95 341.153 735.95 347.264 Q735.95 353.375 732.987 357.125 Q730.047 360.875 725.325 360.875 Q722.478 360.875 720.418 359.764 Q718.381 358.63 717.038 356.315 M731.529 347.264 Q731.529 342.565 729.584 339.903 Q727.663 337.218 724.283 337.218 Q720.904 337.218 718.959 339.903 Q717.038 342.565 717.038 347.264 Q717.038 351.963 718.959 354.649 Q720.904 357.311 724.283 357.311 Q727.663 357.311 729.584 354.649 Q731.529 351.963 731.529 347.264 Z\" fill=\"#000000\" fill-rule=\"evenodd\" fill-opacity=\"1\" /><path clip-path=\"url(#clip5300)\" d=\"M 0 0 M755.441 338.26 Q754.723 337.843 753.867 337.658 Q753.033 337.45 752.015 337.45 Q748.404 337.45 746.459 339.811 Q744.538 342.149 744.538 346.547 L744.538 360.204 L740.256 360.204 L740.256 334.278 L744.538 334.278 L744.538 338.306 Q745.881 335.945 748.033 334.811 Q750.186 333.653 753.265 333.653 Q753.705 333.653 754.237 333.723 Q754.769 333.769 755.418 333.885 L755.441 338.26 Z\" fill=\"#000000\" fill-rule=\"evenodd\" fill-opacity=\"1\" /><path clip-path=\"url(#clip5300)\" d=\"M 0 0 M781.042 346.176 L781.042 348.26 L761.459 348.26 Q761.737 352.658 764.098 354.973 Q766.482 357.264 770.718 357.264 Q773.172 357.264 775.464 356.662 Q777.779 356.061 780.047 354.857 L780.047 358.885 Q777.755 359.857 775.348 360.366 Q772.941 360.875 770.464 360.875 Q764.26 360.875 760.626 357.264 Q757.015 353.653 757.015 347.496 Q757.015 341.13 760.441 337.403 Q763.89 333.653 769.723 333.653 Q774.954 333.653 777.987 337.033 Q781.042 340.389 781.042 346.176 M776.783 344.926 Q776.737 341.431 774.816 339.348 Q772.917 337.264 769.769 337.264 Q766.205 337.264 764.052 339.278 Q761.922 341.292 761.598 344.95 L776.783 344.926 Z\" fill=\"#000000\" fill-rule=\"evenodd\" fill-opacity=\"1\" /><path clip-path=\"url(#clip5300)\" d=\"M 0 0 M802.57 338.213 L802.57 324.186 L806.829 324.186 L806.829 360.204 L802.57 360.204 L802.57 356.315 Q801.227 358.63 799.167 359.764 Q797.13 360.875 794.26 360.875 Q789.561 360.875 786.598 357.125 Q783.658 353.375 783.658 347.264 Q783.658 341.153 786.598 337.403 Q789.561 333.653 794.26 333.653 Q797.13 333.653 799.167 334.788 Q801.227 335.899 802.57 338.213 M788.056 347.264 Q788.056 351.963 789.978 354.649 Q791.922 357.311 795.302 357.311 Q798.681 357.311 800.626 354.649 Q802.57 351.963 802.57 347.264 Q802.57 342.565 800.626 339.903 Q798.681 337.218 795.302 337.218 Q791.922 337.218 789.978 339.903 Q788.056 342.565 788.056 347.264 Z\" fill=\"#000000\" fill-rule=\"evenodd\" fill-opacity=\"1\" /><path clip-path=\"url(#clip5300)\" d=\"M 0 0 M811.297 334.278 L815.556 334.278 L815.556 360.204 L811.297 360.204 L811.297 334.278 M811.297 324.186 L815.556 324.186 L815.556 329.579 L811.297 329.579 L811.297 324.186 Z\" fill=\"#000000\" fill-rule=\"evenodd\" fill-opacity=\"1\" /><path clip-path=\"url(#clip5300)\" d=\"M 0 0 M824.237 326.917 L824.237 334.278 L833.01 334.278 L833.01 337.588 L824.237 337.588 L824.237 351.662 Q824.237 354.834 825.093 355.737 Q825.973 356.639 828.635 356.639 L833.01 356.639 L833.01 360.204 L828.635 360.204 Q823.704 360.204 821.829 358.375 Q819.954 356.524 819.954 351.662 L819.954 337.588 L816.829 337.588 L816.829 334.278 L819.954 334.278 L819.954 326.917 L824.237 326.917 Z\" fill=\"#000000\" fill-rule=\"evenodd\" fill-opacity=\"1\" /><path clip-path=\"url(#clip5300)\" d=\"M 0 0 M837.477 334.278 L841.737 334.278 L841.737 360.204 L837.477 360.204 L837.477 334.278 M837.477 324.186 L841.737 324.186 L841.737 329.579 L837.477 329.579 L837.477 324.186 Z\" fill=\"#000000\" fill-rule=\"evenodd\" fill-opacity=\"1\" /><path clip-path=\"url(#clip5300)\" d=\"M 0 0 M856.25 337.264 Q852.824 337.264 850.834 339.95 Q848.843 342.612 848.843 347.264 Q848.843 351.917 850.811 354.602 Q852.801 357.264 856.25 357.264 Q859.653 357.264 861.644 354.579 Q863.635 351.894 863.635 347.264 Q863.635 342.658 861.644 339.973 Q859.653 337.264 856.25 337.264 M856.25 333.653 Q861.806 333.653 864.977 337.264 Q868.148 340.875 868.148 347.264 Q868.148 353.63 864.977 357.264 Q861.806 360.875 856.25 360.875 Q850.672 360.875 847.5 357.264 Q844.352 353.63 844.352 347.264 Q844.352 340.875 847.5 337.264 Q850.672 333.653 856.25 333.653 Z\" fill=\"#000000\" fill-rule=\"evenodd\" fill-opacity=\"1\" /><path clip-path=\"url(#clip5300)\" d=\"M 0 0 M894.167 344.556 L894.167 360.204 L889.908 360.204 L889.908 344.695 Q889.908 341.014 888.472 339.186 Q887.037 337.357 884.167 337.357 Q880.718 337.357 878.727 339.556 Q876.736 341.755 876.736 345.551 L876.736 360.204 L872.454 360.204 L872.454 334.278 L876.736 334.278 L876.736 338.306 Q878.264 335.968 880.324 334.811 Q882.408 333.653 885.116 333.653 Q889.584 333.653 891.875 336.431 Q894.167 339.186 894.167 344.556 Z\" fill=\"#000000\" fill-rule=\"evenodd\" fill-opacity=\"1\" /><path clip-path=\"url(#clip5300)\" d=\"M 0 0 M915.162 335.042 L915.162 339.07 Q913.357 338.144 911.412 337.681 Q909.468 337.218 907.384 337.218 Q904.213 337.218 902.616 338.19 Q901.042 339.163 901.042 341.107 Q901.042 342.588 902.176 343.445 Q903.31 344.278 906.736 345.042 L908.195 345.366 Q912.732 346.338 914.63 348.121 Q916.551 349.88 916.551 353.051 Q916.551 356.662 913.681 358.769 Q910.833 360.875 905.833 360.875 Q903.75 360.875 901.482 360.459 Q899.236 360.065 896.736 359.255 L896.736 354.857 Q899.097 356.084 901.389 356.709 Q903.681 357.311 905.926 357.311 Q908.935 357.311 910.556 356.292 Q912.176 355.25 912.176 353.375 Q912.176 351.639 910.995 350.713 Q909.838 349.787 905.88 348.931 L904.398 348.584 Q900.44 347.75 898.681 346.038 Q896.921 344.301 896.921 341.292 Q896.921 337.635 899.514 335.644 Q902.107 333.653 906.875 333.653 Q909.236 333.653 911.32 334.001 Q913.403 334.348 915.162 335.042 Z\" fill=\"#000000\" fill-rule=\"evenodd\" fill-opacity=\"1\" /><polyline clip-path=\"url(#clip5300)\" style=\"stroke:#3da44d; stroke-width:4; stroke-opacity:1; fill:none\" points=\"\n",
       "  438.356,403.404 673.556,403.404 \n",
       "  \"/>\n",
       "<path clip-path=\"url(#clip5300)\" d=\"M 0 0 M712.756 386.124 L741.992 386.124 L741.992 390.059 L729.723 390.059 L729.723 420.684 L725.024 420.684 L725.024 390.059 L712.756 390.059 L712.756 386.124 Z\" fill=\"#000000\" fill-rule=\"evenodd\" fill-opacity=\"1\" /><path clip-path=\"url(#clip5300)\" d=\"M 0 0 M748.45 397.744 Q745.024 397.744 743.033 400.43 Q741.043 403.092 741.043 407.744 Q741.043 412.397 743.01 415.082 Q745.001 417.744 748.45 417.744 Q751.853 417.744 753.843 415.059 Q755.834 412.374 755.834 407.744 Q755.834 403.138 753.843 400.453 Q751.853 397.744 748.45 397.744 M748.45 394.133 Q754.006 394.133 757.177 397.744 Q760.348 401.355 760.348 407.744 Q760.348 414.11 757.177 417.744 Q754.006 421.355 748.45 421.355 Q742.871 421.355 739.7 417.744 Q736.552 414.11 736.552 407.744 Q736.552 401.355 739.7 397.744 Q742.871 394.133 748.45 394.133 Z\" fill=\"#000000\" fill-rule=\"evenodd\" fill-opacity=\"1\" /><path clip-path=\"url(#clip5300)\" d=\"M 0 0 M781.876 398.693 L781.876 384.666 L786.135 384.666 L786.135 420.684 L781.876 420.684 L781.876 416.795 Q780.533 419.11 778.473 420.244 Q776.436 421.355 773.566 421.355 Q768.867 421.355 765.904 417.605 Q762.964 413.855 762.964 407.744 Q762.964 401.633 765.904 397.883 Q768.867 394.133 773.566 394.133 Q776.436 394.133 778.473 395.268 Q780.533 396.379 781.876 398.693 M767.362 407.744 Q767.362 412.443 769.283 415.129 Q771.228 417.791 774.607 417.791 Q777.987 417.791 779.931 415.129 Q781.876 412.443 781.876 407.744 Q781.876 403.045 779.931 400.383 Q777.987 397.698 774.607 397.698 Q771.228 397.698 769.283 400.383 Q767.362 403.045 767.362 407.744 Z\" fill=\"#000000\" fill-rule=\"evenodd\" fill-opacity=\"1\" /><path clip-path=\"url(#clip5300)\" d=\"M 0 0 M802.385 407.652 Q797.223 407.652 795.232 408.832 Q793.241 410.013 793.241 412.86 Q793.241 415.129 794.723 416.471 Q796.228 417.791 798.797 417.791 Q802.339 417.791 804.468 415.291 Q806.621 412.767 806.621 408.601 L806.621 407.652 L802.385 407.652 M810.88 405.893 L810.88 420.684 L806.621 420.684 L806.621 416.749 Q805.163 419.11 802.987 420.244 Q800.811 421.355 797.663 421.355 Q793.681 421.355 791.32 419.133 Q788.982 416.888 788.982 413.138 Q788.982 408.763 791.899 406.541 Q794.839 404.318 800.649 404.318 L806.621 404.318 L806.621 403.902 Q806.621 400.962 804.677 399.365 Q802.755 397.744 799.26 397.744 Q797.038 397.744 794.931 398.277 Q792.825 398.809 790.88 399.874 L790.88 395.939 Q793.218 395.036 795.417 394.596 Q797.616 394.133 799.7 394.133 Q805.325 394.133 808.102 397.05 Q810.88 399.967 810.88 405.893 Z\" fill=\"#000000\" fill-rule=\"evenodd\" fill-opacity=\"1\" /><path clip-path=\"url(#clip5300)\" d=\"M 0 0 M826.135 423.091 Q824.329 427.721 822.616 429.133 Q820.903 430.545 818.033 430.545 L814.63 430.545 L814.63 426.98 L817.13 426.98 Q818.889 426.98 819.862 426.147 Q820.834 425.314 822.014 422.212 L822.778 420.267 L812.292 394.758 L816.806 394.758 L824.908 415.036 L833.01 394.758 L837.524 394.758 L826.135 423.091 Z\" fill=\"#000000\" fill-rule=\"evenodd\" fill-opacity=\"1\" /><path clip-path=\"url(#clip5300)\" d=\"M 0 0 M861.922 389.967 L861.922 416.842 L867.57 416.842 Q874.722 416.842 878.033 413.601 Q881.366 410.36 881.366 403.369 Q881.366 396.425 878.033 393.207 Q874.722 389.967 867.57 389.967 L861.922 389.967 M857.246 386.124 L866.852 386.124 Q876.898 386.124 881.597 390.314 Q886.296 394.481 886.296 403.369 Q886.296 412.305 881.574 416.494 Q876.852 420.684 866.852 420.684 L857.246 420.684 L857.246 386.124 Z\" fill=\"#000000\" fill-rule=\"evenodd\" fill-opacity=\"1\" /><path clip-path=\"url(#clip5300)\" d=\"M 0 0 M912.94 406.656 L912.94 408.74 L893.357 408.74 Q893.634 413.138 895.996 415.453 Q898.38 417.744 902.616 417.744 Q905.07 417.744 907.361 417.142 Q909.676 416.541 911.944 415.337 L911.944 419.365 Q909.653 420.337 907.245 420.846 Q904.838 421.355 902.361 421.355 Q896.158 421.355 892.523 417.744 Q888.912 414.133 888.912 407.976 Q888.912 401.61 892.338 397.883 Q895.787 394.133 901.62 394.133 Q906.852 394.133 909.884 397.513 Q912.94 400.869 912.94 406.656 M908.681 405.406 Q908.634 401.911 906.713 399.828 Q904.815 397.744 901.667 397.744 Q898.102 397.744 895.949 399.758 Q893.82 401.772 893.496 405.43 L908.681 405.406 Z\" fill=\"#000000\" fill-rule=\"evenodd\" fill-opacity=\"1\" /><path clip-path=\"url(#clip5300)\" d=\"M 0 0 M936.065 395.754 L936.065 399.735 Q934.259 398.74 932.43 398.254 Q930.625 397.744 928.773 397.744 Q924.63 397.744 922.338 400.383 Q920.046 402.999 920.046 407.744 Q920.046 412.49 922.338 415.129 Q924.63 417.744 928.773 417.744 Q930.625 417.744 932.43 417.258 Q934.259 416.749 936.065 415.754 L936.065 419.689 Q934.282 420.522 932.361 420.939 Q930.463 421.355 928.31 421.355 Q922.454 421.355 919.005 417.675 Q915.556 413.994 915.556 407.744 Q915.556 401.402 919.028 397.768 Q922.523 394.133 928.588 394.133 Q930.556 394.133 932.43 394.55 Q934.305 394.943 936.065 395.754 Z\" fill=\"#000000\" fill-rule=\"evenodd\" fill-opacity=\"1\" /><path clip-path=\"url(#clip5300)\" d=\"M 0 0 M941.134 414.804 L946.018 414.804 L946.018 420.684 L941.134 420.684 L941.134 414.804 Z\" fill=\"#000000\" fill-rule=\"evenodd\" fill-opacity=\"1\" /><path clip-path=\"url(#clip5300)\" d=\"M 0 0 M966.967 416.749 L974.606 416.749 L974.606 390.383 L966.296 392.05 L966.296 387.791 L974.56 386.124 L979.236 386.124 L979.236 416.749 L986.875 416.749 L986.875 420.684 L966.967 420.684 L966.967 416.749 Z\" fill=\"#000000\" fill-rule=\"evenodd\" fill-opacity=\"1\" /><path clip-path=\"url(#clip5300)\" d=\"M 0 0 M992.754 416.749 L1000.39 416.749 L1000.39 390.383 L992.083 392.05 L992.083 387.791 L1000.35 386.124 L1005.02 386.124 L1005.02 416.749 L1012.66 416.749 L1012.66 420.684 L992.754 420.684 L992.754 416.749 Z\" fill=\"#000000\" fill-rule=\"evenodd\" fill-opacity=\"1\" /><path clip-path=\"url(#clip5300)\" d=\"M 0 0 M1018.22 414.804 L1023.1 414.804 L1023.1 418.786 L1019.31 426.193 L1016.32 426.193 L1018.22 418.786 L1018.22 414.804 Z\" fill=\"#000000\" fill-rule=\"evenodd\" fill-opacity=\"1\" /><path clip-path=\"url(#clip5300)\" d=\"M 0 0 M1047.27 416.749 L1063.59 416.749 L1063.59 420.684 L1041.64 420.684 L1041.64 416.749 Q1044.3 413.994 1048.89 409.365 Q1053.49 404.712 1054.68 403.369 Q1056.92 400.846 1057.8 399.11 Q1058.7 397.351 1058.7 395.661 Q1058.7 392.906 1056.76 391.17 Q1054.84 389.434 1051.74 389.434 Q1049.54 389.434 1047.08 390.198 Q1044.65 390.962 1041.87 392.513 L1041.87 387.791 Q1044.7 386.656 1047.15 386.078 Q1049.61 385.499 1051.64 385.499 Q1057.01 385.499 1060.21 388.184 Q1063.4 390.869 1063.4 395.36 Q1063.4 397.49 1062.59 399.411 Q1061.8 401.309 1059.7 403.902 Q1059.12 404.573 1056.02 407.791 Q1052.92 410.985 1047.27 416.749 Z\" fill=\"#000000\" fill-rule=\"evenodd\" fill-opacity=\"1\" /><path clip-path=\"url(#clip5300)\" d=\"M 0 0 M1078.66 389.203 Q1075.05 389.203 1073.22 392.768 Q1071.41 396.309 1071.41 403.439 Q1071.41 410.545 1073.22 414.11 Q1075.05 417.652 1078.66 417.652 Q1082.29 417.652 1084.1 414.11 Q1085.93 410.545 1085.93 403.439 Q1085.93 396.309 1084.1 392.768 Q1082.29 389.203 1078.66 389.203 M1078.66 385.499 Q1084.47 385.499 1087.52 390.106 Q1090.6 394.689 1090.6 403.439 Q1090.6 412.166 1087.52 416.772 Q1084.47 421.355 1078.66 421.355 Q1072.85 421.355 1069.77 416.772 Q1066.71 412.166 1066.71 403.439 Q1066.71 394.689 1069.77 390.106 Q1072.85 385.499 1078.66 385.499 Z\" fill=\"#000000\" fill-rule=\"evenodd\" fill-opacity=\"1\" /><path clip-path=\"url(#clip5300)\" d=\"M 0 0 M1099.7 416.749 L1116.02 416.749 L1116.02 420.684 L1094.07 420.684 L1094.07 416.749 Q1096.74 413.994 1101.32 409.365 Q1105.92 404.712 1107.11 403.369 Q1109.35 400.846 1110.23 399.11 Q1111.13 397.351 1111.13 395.661 Q1111.13 392.906 1109.19 391.17 Q1107.27 389.434 1104.17 389.434 Q1101.97 389.434 1099.51 390.198 Q1097.08 390.962 1094.3 392.513 L1094.3 387.791 Q1097.13 386.656 1099.58 386.078 Q1102.04 385.499 1104.07 385.499 Q1109.44 385.499 1112.64 388.184 Q1115.83 390.869 1115.83 395.36 Q1115.83 397.49 1115.02 399.411 Q1114.24 401.309 1112.13 403.902 Q1111.55 404.573 1108.45 407.791 Q1105.35 410.985 1099.7 416.749 Z\" fill=\"#000000\" fill-rule=\"evenodd\" fill-opacity=\"1\" /><path clip-path=\"url(#clip5300)\" d=\"M 0 0 M1131.09 389.203 Q1127.48 389.203 1125.65 392.768 Q1123.84 396.309 1123.84 403.439 Q1123.84 410.545 1125.65 414.11 Q1127.48 417.652 1131.09 417.652 Q1134.72 417.652 1136.53 414.11 Q1138.36 410.545 1138.36 403.439 Q1138.36 396.309 1136.53 392.768 Q1134.72 389.203 1131.09 389.203 M1131.09 385.499 Q1136.9 385.499 1139.95 390.106 Q1143.03 394.689 1143.03 403.439 Q1143.03 412.166 1139.95 416.772 Q1136.9 421.355 1131.09 421.355 Q1125.28 421.355 1122.2 416.772 Q1119.14 412.166 1119.14 403.439 Q1119.14 394.689 1122.2 390.106 Q1125.28 385.499 1131.09 385.499 Z\" fill=\"#000000\" fill-rule=\"evenodd\" fill-opacity=\"1\" /></svg>\n"
      ]
     },
     "execution_count": 12,
     "metadata": {},
     "output_type": "execute_result"
    }
   ],
   "source": [
    "using Plots\n",
    "\n",
    "#dates = format_dates( df[rows,2] , \"m/d/yy\")\n",
    "\n",
    "gr()\n",
    "plot(    x_axis_dates,\n",
    "        [  y_axis_original y_axis_predicted \n",
    "        ], # y-axis\n",
    "    label    = \n",
    "        [ symbol_to_predict \"preditions\"  \"\" ],\n",
    "    legend   =:topleft, \n",
    "              # :right, :left, :top, :bottom, :inside, :best, :legend, :topright, :topleft, :bottomleft, :bottomright\n",
    "    xlabel   = \"time\",\n",
    "    ylabel   = \"value\",\n",
    "    size     = (980, 400), # width, height\n",
    "    layout = (1, 1), # number of graphs: vertically, horizontally\n",
    "    )\n",
    "## Add veritical today line\n",
    "plot!([today_id], seriestype=\"vline\", label=[ \"Today \"*t \"\" ],)\n"
   ]
  },
  {
   "cell_type": "code",
   "execution_count": 13,
   "metadata": {
    "ExecuteTime": {
     "end_time": "2020-12-11T19:45:22.057000-05:00",
     "start_time": "2020-12-12T00:44:22.375Z"
    }
   },
   "outputs": [],
   "source": [
    "savefig(\"../images/predictions_\" * symbol_to_predict * \".png\")"
   ]
  },
  {
   "cell_type": "code",
   "execution_count": 15,
   "metadata": {
    "ExecuteTime": {
     "end_time": "2020-12-11T19:45:22.651000-05:00",
     "start_time": "2020-12-12T00:44:51.546Z"
    }
   },
   "outputs": [
    {
     "name": "stdout",
     "output_type": "stream",
     "text": [
      "DJIA 2020-12-11\n",
      "Sat, 2020-12-05\t predicted 30199.0\t, but actual value was \t30218.0\t difference is 19.0\n",
      "Sun, 2020-12-06\t predicted 30252.0\t, but actual value was \t30218.0\t difference is -34.0\n",
      "Mon, 2020-12-07\t predicted 30131.0\t, but actual value was \t30233.0\t difference is 102.0\n",
      "Tue, 2020-12-08\t predicted 30256.0\t, but actual value was \t30246.0\t difference is -10.0\n",
      "Wed, 2020-12-09\t predicted 30377.0\t, but actual value was \t30320.0\t difference is -57.0\n",
      "Thu, 2020-12-10\t predicted 30120.0\t, but actual value was \t30064.0\t difference is -56.0\n",
      "Fri, 2020-12-11\t predicted 30069.0\n",
      "Sat, 2020-12-12\t predicted 30449.0\n",
      "Sun, 2020-12-13\t predicted 30870.0\n"
     ]
    }
   ],
   "source": [
    "## print prediction comparisons\n",
    "println(symbol_to_predict, \" \", today())\n",
    "\n",
    "file_path = \"../DATA/\" * symbol_to_predict * \"_predictions.csv\"\n",
    "open( file_path, \"a\") do file_handle # append\n",
    "    \n",
    "    for id in finem-35:finem\n",
    "        if id < today_id + 3\n",
    "            row = get(data_predictions, id) # get a dictionary of data from the SFrame\n",
    "            date_string = row[\"Date\"] # e.g. \"2020-10-20\"\n",
    "\n",
    "            a = y_axis_predicted[id]\n",
    "            b = y_axis_original[id]\n",
    "            d = round(b-a, digits=3)\n",
    "            date = convert(String, Dates.format( Date(date_string), \"e, yyyy-mm-dd\" ) )\n",
    "            if id < today_id\n",
    "                println( date, \"\\t predicted \", a , \"\\t, but actual value was \\t\", b , \"\\t difference is \",  d  ) # di\n",
    "            else\n",
    "                println( date, \"\\t predicted \", a  ) # \n",
    "\n",
    "                txt_to_save =  \n",
    "                    convert(String, Dates.format( today(), \"yyyy-mm-dd\" ) ) *\",\"* \n",
    "                    convert(String, symbol_to_predict) *\",\"* \n",
    "                    date_string *\",\"* \n",
    "                    string(a) * \"\\n\"\n",
    "                \n",
    "                write(file_handle, txt_to_save )\n",
    "                \n",
    "            end # if\n",
    "        end #if \n",
    "    end # for\n",
    "end # open file"
   ]
  },
  {
   "cell_type": "code",
   "execution_count": null,
   "metadata": {},
   "outputs": [],
   "source": []
  },
  {
   "cell_type": "code",
   "execution_count": null,
   "metadata": {},
   "outputs": [],
   "source": []
  }
 ],
 "metadata": {
  "kernelspec": {
   "display_name": "Julia 1.5.1",
   "language": "julia",
   "name": "julia-1.5"
  },
  "language_info": {
   "file_extension": ".jl",
   "mimetype": "application/julia",
   "name": "julia",
   "version": "1.5.1"
  },
  "toc": {
   "base_numbering": 1,
   "nav_menu": {},
   "number_sections": true,
   "sideBar": true,
   "skip_h1_title": true,
   "title_cell": "Table of Contents",
   "title_sidebar": "Contents",
   "toc_cell": true,
   "toc_position": {},
   "toc_section_display": true,
   "toc_window_display": true
  },
  "varInspector": {
   "cols": {
    "lenName": 16,
    "lenType": 16,
    "lenVar": 40
   },
   "kernels_config": {
    "python": {
     "delete_cmd_postfix": "",
     "delete_cmd_prefix": "del ",
     "library": "var_list.py",
     "varRefreshCmd": "print(var_dic_list())"
    },
    "r": {
     "delete_cmd_postfix": ") ",
     "delete_cmd_prefix": "rm(",
     "library": "var_list.r",
     "varRefreshCmd": "cat(var_dic_list()) "
    }
   },
   "types_to_exclude": [
    "module",
    "function",
    "builtin_function_or_method",
    "instance",
    "_Feature"
   ],
   "window_display": false
  }
 },
 "nbformat": 4,
 "nbformat_minor": 4
}
