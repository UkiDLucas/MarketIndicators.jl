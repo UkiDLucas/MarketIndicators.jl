{
 "cells": [
  {
   "cell_type": "markdown",
   "metadata": {},
   "source": [
    "# Prediction Model using TuriCreate in Julia"
   ]
  },
  {
   "cell_type": "markdown",
   "metadata": {
    "toc": true
   },
   "source": [
    "<h1>Table of Contents<span class=\"tocSkip\"></span></h1>\n",
    "<div class=\"toc\"><ul class=\"toc-item\"><li><span><a href=\"#Set-Up\" data-toc-modified-id=\"Set-Up-1\"><span class=\"toc-item-num\">1&nbsp;&nbsp;</span>Set Up</a></span></li><li><span><a href=\"#Fetch-Data-(SFrame)-from-Uber-CSV\" data-toc-modified-id=\"Fetch-Data-(SFrame)-from-Uber-CSV-2\"><span class=\"toc-item-num\">2&nbsp;&nbsp;</span>Fetch Data (SFrame) from Uber CSV</a></span></li><li><span><a href=\"#Split-Data\" data-toc-modified-id=\"Split-Data-3\"><span class=\"toc-item-num\">3&nbsp;&nbsp;</span>Split Data</a></span></li><li><span><a href=\"#Train-the-Model\" data-toc-modified-id=\"Train-the-Model-4\"><span class=\"toc-item-num\">4&nbsp;&nbsp;</span>Train the Model</a></span></li><li><span><a href=\"#Evaluate-the-Model\" data-toc-modified-id=\"Evaluate-the-Model-5\"><span class=\"toc-item-num\">5&nbsp;&nbsp;</span>Evaluate the Model</a></span></li><li><span><a href=\"#Save-/-Export-the-Model\" data-toc-modified-id=\"Save-/-Export-the-Model-6\"><span class=\"toc-item-num\">6&nbsp;&nbsp;</span>Save / Export the Model</a></span></li><li><span><a href=\"#Make-predictions\" data-toc-modified-id=\"Make-predictions-7\"><span class=\"toc-item-num\">7&nbsp;&nbsp;</span>Make predictions</a></span><ul class=\"toc-item\"><li><span><a href=\"#Explore-SFrame\" data-toc-modified-id=\"Explore-SFrame-7.1\"><span class=\"toc-item-num\">7.1&nbsp;&nbsp;</span>Explore SFrame</a></span></li></ul></li></ul></div>"
   ]
  },
  {
   "cell_type": "markdown",
   "metadata": {},
   "source": [
    "## Set Up"
   ]
  },
  {
   "cell_type": "code",
   "execution_count": 1,
   "metadata": {
    "ExecuteTime": {
     "end_time": "2021-01-02T12:38:31.909000-05:00",
     "start_time": "2021-01-02T17:38:31.083Z"
    }
   },
   "outputs": [
    {
     "name": "stdout",
     "output_type": "stream",
     "text": [
      "symbol_to_predict AAPL\n"
     ]
    }
   ],
   "source": [
    "## uncomment for the first run\n",
    "# import Pkg\n",
    "# Pkg.add(\"PyCall\")\n",
    "# Pkg.add(\"Conda\")\n",
    "# ENV[\"PYTHON\"] = \"/opt/anaconda3/envs/turi/bin/python\"\n",
    "# /opt/anaconda3/envs/turi/lib/python3.6/site-packages/\n",
    "# Pkg.build(\"PyCall\")\n",
    "\n",
    "\n",
    "symbol_to_predict = \"AAPL\" ## Comment OUT when running as include Julia file\n",
    "\n",
    "println(\"symbol_to_predict \", symbol_to_predict )"
   ]
  },
  {
   "cell_type": "code",
   "execution_count": 2,
   "metadata": {
    "ExecuteTime": {
     "end_time": "2021-01-02T12:38:33.322000-05:00",
     "start_time": "2021-01-02T17:38:31.087Z"
    }
   },
   "outputs": [
    {
     "data": {
      "text/plain": [
       "329-element Array{String,1}:\n",
       " \"AAPL_Avg005\"\n",
       " \"AAPL_Avg010\"\n",
       " \"AAPL_Avg030\"\n",
       " \"AAPL_Avg060\"\n",
       " \"AAPL_Avg090\"\n",
       " \"AAPL_Avg120\"\n",
       " \"AAPL_Avg180\"\n",
       " \"ARKK_Avg005\"\n",
       " \"ARKK_Avg010\"\n",
       " \"ARKK_Avg030\"\n",
       " \"ARKK_Avg060\"\n",
       " \"ARKK_Avg090\"\n",
       " \"ARKK_Avg120\"\n",
       " ⋮\n",
       " \"VIX_Avg030\"\n",
       " \"VIX_Avg060\"\n",
       " \"VIX_Avg090\"\n",
       " \"VIX_Avg120\"\n",
       " \"VIX_Avg180\"\n",
       " \"WMT_Avg005\"\n",
       " \"WMT_Avg010\"\n",
       " \"WMT_Avg030\"\n",
       " \"WMT_Avg060\"\n",
       " \"WMT_Avg090\"\n",
       " \"WMT_Avg120\"\n",
       " \"WMT_Avg180\""
      ]
     },
     "execution_count": 2,
     "metadata": {},
     "output_type": "execute_result"
    }
   ],
   "source": [
    "## Read feature names (columns) from the text file \n",
    "features_to_analyze = readlines(\"../DATA/features_to_analyze.txt\") # returns Array{String,1}"
   ]
  },
  {
   "cell_type": "code",
   "execution_count": 3,
   "metadata": {
    "ExecuteTime": {
     "end_time": "2021-01-02T12:38:37.597000-05:00",
     "start_time": "2021-01-02T17:38:31.091Z"
    }
   },
   "outputs": [
    {
     "name": "stdout",
     "output_type": "stream",
     "text": [
      "\n"
     ]
    },
    {
     "data": {
      "text/plain": [
       "\"AAPL_Avg005\""
      ]
     },
     "execution_count": 3,
     "metadata": {},
     "output_type": "execute_result"
    }
   ],
   "source": [
    "include(\"../Julia/functions.jl\") \n",
    "include(\"../Julia/format_dates.jl\")\n",
    "\n",
    "data_path=\"../DATA/processed/uber_training.csv\"\n",
    "#column_to_predict = symbol_to_predict * \"_Original\"\n",
    "column_to_predict = symbol_to_predict * \"_Avg005\""
   ]
  },
  {
   "cell_type": "code",
   "execution_count": 4,
   "metadata": {
    "ExecuteTime": {
     "end_time": "2021-01-02T12:38:38.542000-05:00",
     "start_time": "2021-01-02T17:38:31.095Z"
    }
   },
   "outputs": [
    {
     "name": "stdout",
     "output_type": "stream",
     "text": [
      "[\"AAPL_Avg010\", \"AAPL_Avg030\", \"AAPL_Avg060\", \"AAPL_Avg090\", \"AAPL_Avg120\", \"AAPL_Avg180\", \"ARKK_Avg005\", \"ARKK_Avg010\", \"ARKK_Avg030\", \"ARKK_Avg060\", \"ARKK_Avg090\", \"ARKK_Avg120\", \"ARKK_Avg180\", \"ARKW_Avg005\", \"ARKW_Avg010\", \"ARKW_Avg030\", \"ARKW_Avg060\", \"ARKW_Avg090\", \"ARKW_Avg120\", \"ARKW_Avg180\", \"BABA_Avg005\", \"BABA_Avg010\", \"BABA_Avg030\", \"BABA_Avg060\", \"BABA_Avg090\", \"BABA_Avg120\", \"BABA_Avg180\", \"BRK_B_Avg005\", \"BRK_B_Avg010\", \"BRK_B_Avg030\", \"BRK_B_Avg060\", \"BRK_B_Avg090\", \"BRK_B_Avg120\", \"BRK_B_Avg180\", \"BTC_USD_Avg005\", \"BTC_USD_Avg010\", \"BTC_USD_Avg030\", \"BTC_USD_Avg060\", \"BTC_USD_Avg090\", \"BTC_USD_Avg120\", \"BTC_USD_Avg180\", \"BYDDF_Avg005\", \"BYDDF_Avg010\", \"BYDDF_Avg030\", \"BYDDF_Avg060\", \"BYDDF_Avg090\", \"BYDDF_Avg120\", \"BYDDF_Avg180\", \"CRSP_Avg005\", \"CRSP_Avg010\", \"CRSP_Avg030\", \"CRSP_Avg060\", \"CRSP_Avg090\", \"CRSP_Avg120\", \"CRSP_Avg180\", \"CRUDE_OIL_Avg005\", \"CRUDE_OIL_Avg010\", \"CRUDE_OIL_Avg030\", \"CRUDE_OIL_Avg060\", \"CRUDE_OIL_Avg090\", \"CRUDE_OIL_Avg120\", \"CRUDE_OIL_Avg180\", \"DALLAS_FED_MFC_Avg005\", \"DALLAS_FED_MFC_Avg010\", \"DALLAS_FED_MFC_Avg030\", \"DALLAS_FED_MFC_Avg060\", \"DALLAS_FED_MFC_Avg090\", \"DALLAS_FED_MFC_Avg120\", \"DALLAS_FED_MFC_Avg180\", \"DJIA_Avg005\", \"DJIA_Avg010\", \"DJIA_Avg030\", \"DJIA_Avg060\", \"DJIA_Avg090\", \"DJIA_Avg120\", \"DJIA_Avg180\", \"F_Avg005\", \"F_Avg010\", \"F_Avg030\", \"F_Avg060\", \"F_Avg090\", \"F_Avg120\", \"F_Avg180\", \"FB_Avg005\", \"FB_Avg010\", \"FB_Avg030\", \"FB_Avg060\", \"FB_Avg090\", \"FB_Avg120\", \"FB_Avg180\", \"GELYF_Avg005\", \"GELYF_Avg010\", \"GELYF_Avg030\", \"GELYF_Avg060\", \"GELYF_Avg090\", \"GELYF_Avg120\", \"GELYF_Avg180\", \"GER_RET_SALES_M_Avg005\", \"GER_RET_SALES_M_Avg010\", \"GER_RET_SALES_M_Avg030\", \"GER_RET_SALES_M_Avg060\", \"GER_RET_SALES_M_Avg090\", \"GER_RET_SALES_M_Avg120\", \"GER_RET_SALES_M_Avg180\", \"GER_UNEMPL_CHANGE_Avg005\", \"GER_UNEMPL_CHANGE_Avg010\", \"GER_UNEMPL_CHANGE_Avg030\", \"GER_UNEMPL_CHANGE_Avg060\", \"GER_UNEMPL_CHANGE_Avg090\", \"GER_UNEMPL_CHANGE_Avg120\", \"GER_UNEMPL_CHANGE_Avg180\", \"GOLD_Avg005\", \"GOLD_Avg010\", \"GOLD_Avg030\", \"GOLD_Avg060\", \"GOLD_Avg090\", \"GOLD_Avg120\", \"GOLD_Avg180\", \"GOOG_Avg005\", \"GOOG_Avg010\", \"GOOG_Avg030\", \"GOOG_Avg060\", \"GOOG_Avg090\", \"GOOG_Avg120\", \"GOOG_Avg180\", \"GSPC_Avg005\", \"GSPC_Avg010\", \"GSPC_Avg030\", \"GSPC_Avg060\", \"GSPC_Avg090\", \"GSPC_Avg120\", \"GSPC_Avg180\", \"HD_Avg005\", \"HD_Avg010\", \"HD_Avg030\", \"HD_Avg060\", \"HD_Avg090\", \"HD_Avg120\", \"HD_Avg180\", \"IND_TRD_BALANCE_Avg005\", \"IND_TRD_BALANCE_Avg010\", \"IND_TRD_BALANCE_Avg030\", \"IND_TRD_BALANCE_Avg060\", \"IND_TRD_BALANCE_Avg090\", \"IND_TRD_BALANCE_Avg120\", \"IND_TRD_BALANCE_Avg180\", \"IXIC_Avg005\", \"IXIC_Avg010\", \"IXIC_Avg030\", \"IXIC_Avg060\", \"IXIC_Avg090\", \"IXIC_Avg120\", \"IXIC_Avg180\", \"MSFT_Avg005\", \"MSFT_Avg010\", \"MSFT_Avg030\", \"MSFT_Avg060\", \"MSFT_Avg090\", \"MSFT_Avg120\", \"MSFT_Avg180\", \"NRMGX_Avg005\", \"NRMGX_Avg010\", \"NRMGX_Avg030\", \"NRMGX_Avg060\", \"NRMGX_Avg090\", \"NRMGX_Avg120\", \"NRMGX_Avg180\", \"NVDA_Avg005\", \"NVDA_Avg010\", \"NVDA_Avg030\", \"NVDA_Avg060\", \"NVDA_Avg090\", \"NVDA_Avg120\", \"NVDA_Avg180\", \"QCOM_Avg005\", \"QCOM_Avg010\", \"QCOM_Avg030\", \"QCOM_Avg060\", \"QCOM_Avg090\", \"QCOM_Avg120\", \"QCOM_Avg180\", \"RERGX_Avg005\", \"RERGX_Avg010\", \"RERGX_Avg030\", \"RERGX_Avg060\", \"RERGX_Avg090\", \"RERGX_Avg120\", \"RERGX_Avg180\", \"RUT_Avg005\", \"RUT_Avg010\", \"RUT_Avg030\", \"RUT_Avg060\", \"RUT_Avg090\", \"RUT_Avg120\", \"RUT_Avg180\", \"TM_Avg005\", \"TM_Avg010\", \"TM_Avg030\", \"TM_Avg060\", \"TM_Avg090\", \"TM_Avg120\", \"TM_Avg180\", \"TNX_Avg005\", \"TNX_Avg010\", \"TNX_Avg030\", \"TNX_Avg060\", \"TNX_Avg090\", \"TNX_Avg120\", \"TNX_Avg180\", \"TPLGX_Avg005\", \"TPLGX_Avg010\", \"TPLGX_Avg030\", \"TPLGX_Avg060\", \"TPLGX_Avg090\", \"TPLGX_Avg120\", \"TPLGX_Avg180\", \"TSLA_Avg005\", \"TSLA_Avg010\", \"TSLA_Avg030\", \"TSLA_Avg060\", \"TSLA_Avg090\", \"TSLA_Avg120\", \"TSLA_Avg180\", \"US_BUILD_PERM_Avg005\", \"US_BUILD_PERM_Avg010\", \"US_BUILD_PERM_Avg030\", \"US_BUILD_PERM_Avg060\", \"US_BUILD_PERM_Avg090\", \"US_BUILD_PERM_Avg120\", \"US_BUILD_PERM_Avg180\", \"US_BUZ_INV_M_Avg005\", \"US_BUZ_INV_M_Avg010\", \"US_BUZ_INV_M_Avg030\", \"US_BUZ_INV_M_Avg060\", \"US_BUZ_INV_M_Avg090\", \"US_BUZ_INV_M_Avg120\", \"US_BUZ_INV_M_Avg180\", \"US_GDP_Q_Avg005\", \"US_GDP_Q_Avg010\", \"US_GDP_Q_Avg030\", \"US_GDP_Q_Avg060\", \"US_GDP_Q_Avg090\", \"US_GDP_Q_Avg120\", \"US_GDP_Q_Avg180\", \"US_HOUS_STRS_M_Avg005\", \"US_HOUS_STRS_M_Avg010\", \"US_HOUS_STRS_M_Avg030\", \"US_HOUS_STRS_M_Avg060\", \"US_HOUS_STRS_M_Avg090\", \"US_HOUS_STRS_M_Avg120\", \"US_HOUS_STRS_M_Avg180\", \"US_INDS_PROD_M_Avg005\", \"US_INDS_PROD_M_Avg010\", \"US_INDS_PROD_M_Avg030\", \"US_INDS_PROD_M_Avg060\", \"US_INDS_PROD_M_Avg090\", \"US_INDS_PROD_M_Avg120\", \"US_INDS_PROD_M_Avg180\", \"US_INIT_JOB_CLAIM_Avg005\", \"US_INIT_JOB_CLAIM_Avg010\", \"US_INIT_JOB_CLAIM_Avg030\", \"US_INIT_JOB_CLAIM_Avg060\", \"US_INIT_JOB_CLAIM_Avg090\", \"US_INIT_JOB_CLAIM_Avg120\", \"US_INIT_JOB_CLAIM_Avg180\", \"US_ISM_MFC_EMPL_Avg005\", \"US_ISM_MFC_EMPL_Avg010\", \"US_ISM_MFC_EMPL_Avg030\", \"US_ISM_MFC_EMPL_Avg060\", \"US_ISM_MFC_EMPL_Avg090\", \"US_ISM_MFC_EMPL_Avg120\", \"US_ISM_MFC_EMPL_Avg180\", \"US_ISM_MFC_PMI_Avg005\", \"US_ISM_MFC_PMI_Avg010\", \"US_ISM_MFC_PMI_Avg030\", \"US_ISM_MFC_PMI_Avg060\", \"US_ISM_MFC_PMI_Avg090\", \"US_ISM_MFC_PMI_Avg120\", \"US_ISM_MFC_PMI_Avg180\", \"US_PEND_HOME_SALE_M_Avg005\", \"US_PEND_HOME_SALE_M_Avg010\", \"US_PEND_HOME_SALE_M_Avg030\", \"US_PEND_HOME_SALE_M_Avg060\", \"US_PEND_HOME_SALE_M_Avg090\", \"US_PEND_HOME_SALE_M_Avg120\", \"US_PEND_HOME_SALE_M_Avg180\", \"US_RETAIL_SALES_M_Avg005\", \"US_RETAIL_SALES_M_Avg010\", \"US_RETAIL_SALES_M_Avg030\", \"US_RETAIL_SALES_M_Avg060\", \"US_RETAIL_SALES_M_Avg090\", \"US_RETAIL_SALES_M_Avg120\", \"US_RETAIL_SALES_M_Avg180\", \"US_UNEMPLOY_RATE_Avg005\", \"US_UNEMPLOY_RATE_Avg010\", \"US_UNEMPLOY_RATE_Avg030\", \"US_UNEMPLOY_RATE_Avg060\", \"US_UNEMPLOY_RATE_Avg090\", \"US_UNEMPLOY_RATE_Avg120\", \"US_UNEMPLOY_RATE_Avg180\", \"VBTLX_Avg005\", \"VBTLX_Avg010\", \"VBTLX_Avg030\", \"VBTLX_Avg060\", \"VBTLX_Avg090\", \"VBTLX_Avg120\", \"VBTLX_Avg180\", \"VINIX_Avg005\", \"VINIX_Avg010\", \"VINIX_Avg030\", \"VINIX_Avg060\", \"VINIX_Avg090\", \"VINIX_Avg120\", \"VINIX_Avg180\", \"VIX_Avg005\", \"VIX_Avg010\", \"VIX_Avg030\", \"VIX_Avg060\", \"VIX_Avg090\", \"VIX_Avg120\", \"VIX_Avg180\", \"WMT_Avg005\", \"WMT_Avg010\", \"WMT_Avg030\", \"WMT_Avg060\", \"WMT_Avg090\", \"WMT_Avg120\", \"WMT_Avg180\"]\n"
     ]
    }
   ],
   "source": [
    "## Remove column to predict from features\n",
    "typeof(features_to_analyze)\n",
    "\n",
    "filter!(e->e≠ column_to_predict , features_to_analyze)\n",
    "println(features_to_analyze)"
   ]
  },
  {
   "cell_type": "markdown",
   "metadata": {},
   "source": [
    "## Fetch Data (SFrame) from Uber CSV"
   ]
  },
  {
   "cell_type": "code",
   "execution_count": 5,
   "metadata": {
    "ExecuteTime": {
     "end_time": "2021-01-02T12:38:42.254000-05:00",
     "start_time": "2021-01-02T17:38:31.098Z"
    }
   },
   "outputs": [
    {
     "name": "stdout",
     "output_type": "stream",
     "text": [
      "Finished parsing file /Users/uki/REPOS/MarketIndicators.jl/src/DATA/processed/uber_training.csv\n",
      "Parsing completed. Parsed 100 lines in 0.045513 secs.\n",
      "------------------------------------------------------\n",
      "Inferred types from first 100 line(s) of file as \n",
      "column_type_hints=[int,str,float,float,float,float,float,float,float,float,float,float,float,float,float,float,float,float,float,float,float,float,float,float,float,float,float,float,float,float,float,float,float,float,float,float,float,float,float,float,float,float,float,float,float,float,float,float,float,float,float,float,float,float,float,float,float,float,float,float,float,float,float,float,float,float,float,float,float,float,float,float,float,float,float,float,float,float,float,float,float,float,float,float,float,float,float,float,float,float,float,float,float,float,float,float,float,float,float,float,float,float,float,float,float,float,float,float,float,float,float,float,float,float,float,float,float,float,float,float,float,float,float,float,float,float,float,float,float,float,float,float,float,float,float,float,float,float,float,float,float,float,float,float,float,float,float,float,float,float,float,float,float,float,float,float,float,float,float,float,float,float,float,float,float,float,float,float,float,float,float,float,float,float,float,float,float,float,float,float,float,float,float,float,float,float,float,float,float,float,float,float,float,float,float,float,float,float,float,float,float,float,float,float,float,float,float,float,float,float,float,float,float,float,float,float,float,float,float,float,float,float,float,float,float,float,float,float,float,float,float,float,float,float,float,float,float,float,float,float,float,float,float,float,float,float,float,float,float,float,float,float,float,float,float,float,float,float,float,float,float,float,float,float,float,float,float,float,float,float,float,float,float,float,float,float,float,float,float,float,float,float,float,float,float,float,float,float,float,float,float,float,float,float,float,float,float,float,float,float,float,float,float,float,float,float,float,float,float,float,float,float,float,float,float,float,float,float,float,float,float,float,float,float,float,float,float,float,float,float,float]\n",
      "If parsing fails due to incorrect types, you can correct\n",
      "the inferred type list above and pass it to read_csv in\n",
      "the column_type_hints argument\n",
      "------------------------------------------------------\n",
      "Finished parsing file /Users/uki/REPOS/MarketIndicators.jl/src/DATA/processed/uber_training.csv\n",
      "Parsing completed. Parsed 1537 lines in 0.043482 secs.\n",
      "\n"
     ]
    }
   ],
   "source": [
    "## Fetch Data (SFrame) from Uber CSV\n",
    "\n",
    "using PyCall\n",
    "tc = pyimport(\"turicreate\")\n",
    "data = tc.SFrame(data_path)\n",
    "println()"
   ]
  },
  {
   "cell_type": "markdown",
   "metadata": {},
   "source": [
    "## Split Data"
   ]
  },
  {
   "cell_type": "code",
   "execution_count": 6,
   "metadata": {
    "ExecuteTime": {
     "end_time": "2021-01-02T12:38:42.837000-05:00",
     "start_time": "2021-01-02T17:38:31.105Z"
    }
   },
   "outputs": [
    {
     "name": "stdout",
     "output_type": "stream",
     "text": [
      "train_data size = (1377,)\n",
      "test_data size = (160,)\n"
     ]
    }
   ],
   "source": [
    "# Make a train-test split\n",
    "train_data, test_data = data.random_split(0.9)\n",
    "\n",
    "println( \"train_data size = \", size(train_data) )\n",
    "println( \"test_data size = \", size(test_data)  )"
   ]
  },
  {
   "cell_type": "markdown",
   "metadata": {},
   "source": [
    "## Train the Model"
   ]
  },
  {
   "cell_type": "code",
   "execution_count": 7,
   "metadata": {
    "ExecuteTime": {
     "end_time": "2021-01-02T12:38:45.809000-05:00",
     "start_time": "2021-01-02T17:38:31.109Z"
    }
   },
   "outputs": [
    {
     "name": "stdout",
     "output_type": "stream",
     "text": [
      "Automatically generating validation set from 5% of the data.\n",
      "Linear regression:\n",
      "--------------------------------------------------------\n",
      "Number of examples          : 1308\n",
      "Number of features          : 328\n",
      "Number of unpacked features : 328\n",
      "Number of coefficients    : 329\n",
      "Starting Newton Method\n",
      "--------------------------------------------------------\n",
      "+-----------+----------+--------------+--------------------+----------------------+---------------------------------+-----------------------------------+\n",
      "| Iteration | Passes   | Elapsed Time | Training Max Error | Validation Max Error | Training Root-Mean-Square Error | Validation Root-Mean-Square Error |\n",
      "+-----------+----------+--------------+--------------------+----------------------+---------------------------------+-----------------------------------+\n",
      "| 1         | 2        | 1.052437     | 2.886780           | 0.928851             | 0.496834                        | 0.395793                          |\n",
      "+-----------+----------+--------------+--------------------+----------------------+---------------------------------+-----------------------------------+\n",
      "SUCCESS: Optimal solution found.\n",
      "\n"
     ]
    },
    {
     "data": {
      "text/plain": [
       "PyObject Class                          : LinearRegression\n",
       "\n",
       "Schema\n",
       "------\n",
       "Number of coefficients         : 329\n",
       "Number of examples             : 1308\n",
       "Number of feature columns      : 328\n",
       "Number of unpacked features    : 328\n",
       "\n",
       "Hyperparameters\n",
       "---------------\n",
       "L1 penalty                     : 0\n",
       "L2 penalty                     : 0.01\n",
       "\n",
       "Training Summary\n",
       "----------------\n",
       "Solver                         : newton\n",
       "Solver iterations              : 1\n",
       "Solver status                  : SUCCESS: Optimal solution found.\n",
       "Training time (sec)            : 1.0625\n",
       "\n",
       "Settings\n",
       "--------\n",
       "Residual sum of squares        : 322.8719\n",
       "Training RMSE                  : 0.4968\n",
       "\n",
       "Highest Positive Coefficients\n",
       "-----------------------------\n",
       "AAPL_Avg010                    : 0.7883\n",
       "IXIC_Avg005                    : 0.7582\n",
       "F_Avg120                       : 0.3742\n",
       "US_PEND_HOME_SALE_M_Avg090     : 0.276\n",
       "F_Avg090                       : 0.265\n",
       "\n",
       "Lowest Negative Coefficients\n",
       "----------------------------\n",
       "(intercept)                    : -39.4832\n",
       "F_Avg180                       : -0.6807\n",
       "US_RETAIL_SALES_M_Avg180       : -0.4275\n",
       "IXIC_Avg010                    : -0.3467\n",
       "US_RETAIL_SALES_M_Avg090       : -0.2735\n"
      ]
     },
     "execution_count": 7,
     "metadata": {},
     "output_type": "execute_result"
    }
   ],
   "source": [
    "## Train the Model\n",
    "model = tc.regression.create( \n",
    "    train_data, \n",
    "    target = column_to_predict, \n",
    "    features = features_to_analyze, \n",
    "    validation_set=\"auto\", \n",
    "    verbose=true\n",
    ")"
   ]
  },
  {
   "cell_type": "markdown",
   "metadata": {},
   "source": [
    "## Evaluate the Model"
   ]
  },
  {
   "cell_type": "code",
   "execution_count": 8,
   "metadata": {
    "ExecuteTime": {
     "end_time": "2021-01-02T12:38:46.117000-05:00",
     "start_time": "2021-01-02T17:38:31.112Z"
    }
   },
   "outputs": [
    {
     "name": "stdout",
     "output_type": "stream",
     "text": [
      "MODEL EVALUTATION max_error: 1.51, rmse: 0.51\n"
     ]
    }
   ],
   "source": [
    "## Evaluate the model and save the results into a dictionary\n",
    "## TODO: write this in a loop to select the best model\n",
    "results = model.evaluate( test_data ) #test_data[0:2531]\n",
    "\n",
    "rmse = results[\"rmse\"]\n",
    "rmse = round(rmse, digits=2)\n",
    "\n",
    "max_error = results[\"max_error\"]\n",
    "max_error = round(max_error, digits=2)\n",
    "\n",
    "println( \"MODEL EVALUTATION max_error: \", max_error, \", rmse: \", rmse )"
   ]
  },
  {
   "cell_type": "markdown",
   "metadata": {},
   "source": [
    "## Save / Export the Model"
   ]
  },
  {
   "cell_type": "code",
   "execution_count": 9,
   "metadata": {
    "ExecuteTime": {
     "end_time": "2021-01-02T12:38:46.141000-05:00",
     "start_time": "2021-01-02T17:38:31.115Z"
    }
   },
   "outputs": [
    {
     "name": "stdout",
     "output_type": "stream",
     "text": [
      "Saved model to ../DATA/models/AAPL.mlmodel\n"
     ]
    }
   ],
   "source": [
    "## Export to Core ML\n",
    "model_path = \"../DATA/models/\" * symbol_to_predict * \".mlmodel\"\n",
    "println(\"Saved model to \", model_path)\n",
    "model.export_coreml(model_path)"
   ]
  },
  {
   "cell_type": "markdown",
   "metadata": {},
   "source": [
    "## Make predictions "
   ]
  },
  {
   "cell_type": "code",
   "execution_count": 10,
   "metadata": {
    "ExecuteTime": {
     "end_time": "2021-01-02T12:38:46.375000-05:00",
     "start_time": "2021-01-02T17:38:31.119Z"
    }
   },
   "outputs": [
    {
     "name": "stdout",
     "output_type": "stream",
     "text": [
      "Finished parsing file /Users/uki/REPOS/MarketIndicators.jl/src/DATA/processed/uber_prediction.csv\n",
      "Parsing completed. Parsed 67 lines in 0.037245 secs.\n",
      "------------------------------------------------------\n",
      "Inferred types from first 100 line(s) of file as \n",
      "column_type_hints=[int,str,float,float,float,float,float,float,float,float,float,float,float,float,float,float,float,float,float,float,float,float,float,float,float,float,float,float,float,float,float,float,float,float,float,float,float,float,float,float,float,float,float,float,float,float,float,float,float,float,float,float,float,float,float,float,float,float,float,float,float,float,float,float,float,float,float,float,float,float,float,float,float,float,float,float,float,float,float,float,float,float,float,float,float,float,float,float,float,float,float,float,float,float,float,float,float,float,float,float,float,float,float,float,float,float,float,float,float,float,float,float,float,float,float,float,float,float,float,float,float,float,float,float,float,float,float,float,float,float,float,float,float,float,float,float,float,float,float,float,float,float,float,float,float,float,float,float,float,float,float,float,float,float,float,float,float,float,float,float,float,float,float,float,float,float,float,float,float,float,float,float,float,float,float,float,float,float,float,float,float,float,float,float,float,float,float,float,float,float,float,float,float,float,float,float,float,float,float,float,float,float,float,float,float,float,float,float,float,float,float,float,float,float,float,float,float,float,float,float,float,float,float,float,float,float,float,float,float,float,float,float,float,float,float,float,float,float,float,float,float,float,float,float,float,float,float,float,float,float,float,float,float,float,float,float,float,float,float,float,float,float,float,float,float,float,float,float,float,float,float,float,float,float,float,float,float,float,float,float,float,float,float,float,float,float,float,float,float,float,float,float,float,float,float,float,float,float,float,float,float,float,float,float,float,float,float,float,float,float,float,float,float,float,float,float,float,float,float,float,float,float,float,float,float,float,float,float,float,float,float]\n",
      "If parsing fails due to incorrect types, you can correct\n",
      "the inferred type list above and pass it to read_csv in\n",
      "the column_type_hints argument\n",
      "------------------------------------------------------\n",
      "Finished parsing file /Users/uki/REPOS/MarketIndicators.jl/src/DATA/processed/uber_prediction.csv\n",
      "Parsing completed. Parsed 67 lines in 0.008661 secs.\n",
      "\n"
     ]
    }
   ],
   "source": [
    "## Read UBER predictions CSV\n",
    "data_path=\"../DATA/processed/uber_prediction.csv\"\n",
    "data_to_predict = tc.SFrame(data_path)\n",
    "\n",
    "## Save predictions to an SArray\n",
    "prediction_results = model.predict(data_to_predict) # get(predictions, 1)\n",
    "\n",
    "println()"
   ]
  },
  {
   "cell_type": "markdown",
   "metadata": {},
   "source": [
    "### Explore SFrame"
   ]
  },
  {
   "cell_type": "code",
   "execution_count": 11,
   "metadata": {
    "ExecuteTime": {
     "end_time": "2021-01-02T12:38:46.376000-05:00",
     "start_time": "2021-01-02T17:38:31.123Z"
    }
   },
   "outputs": [],
   "source": [
    "## Explore the SFrame\n",
    "\n",
    "#record_count = size(data_to_predict)[1]\n",
    "#row = get(data_to_predict, record_count-1)\n",
    "\n",
    "#feature_number = row.count\n",
    "#day = row[\"Rata_Die\"]\n",
    "#date = row[\"Date\"] # \"2020-10-20\"\n",
    "#original = row[\"DJIA_Original\"]\n",
    "\n",
    "#println( \"record_count data \", record_count )\n",
    "#println( \"record_count prediction_results \", size(prediction_results)[1] )\n",
    "\n",
    "#println( \"feature_number \", feature_number )\n",
    "#println( \"Rata Die \", day )\n",
    "#println( \"date \", date )\n",
    "#println( \"original \", original )"
   ]
  },
  {
   "cell_type": "code",
   "execution_count": 12,
   "metadata": {
    "ExecuteTime": {
     "end_time": "2021-01-02T12:38:48.907000-05:00",
     "start_time": "2021-01-02T17:38:31.126Z"
    }
   },
   "outputs": [
    {
     "name": "stdout",
     "output_type": "stream",
     "text": [
      "found today's date 2021-01-02\n",
      "\n"
     ]
    }
   ],
   "source": [
    "using Dates\n",
    "today_rata = Dates.datetime2rata( today() )\n",
    "\n",
    "## Determine dataset size\n",
    "\n",
    "initio = 1                                              # latin: start\n",
    "finem  = size(prediction_results)[1] -1                 # latin: end\n",
    "#gradus = convert(Int64, round( finem/20, digits=0)  )  # latin: step\n",
    "\n",
    "#println(\"PREDICTION dataset size: \", finem, \", step \", gradus)\n",
    "\n",
    "\n",
    "## Declare variables\n",
    "x_axis_dates      = Vector{Date}() # results in Array{Date,1}\n",
    "y_axis_original   = Vector{Float64}()\n",
    "y_axis_predicted  = Vector{Float64}()\n",
    "\n",
    "#println(symbol_to_predict, \" \", finem, \" \", typeof(x_axis_dates))\n",
    "\n",
    "today_id  = 0 # not set yet\n",
    "\n",
    "## step thru each prediction\n",
    "for id in initio:finem\n",
    "    row = get(data_to_predict, id) # get a dictionary of data from the SFrame\n",
    "    \n",
    "    date_string = row[\"Date\"] # e.g. \"2020-10-20\"\n",
    "    date = Date(date_string) # 2020-09-07 Date\n",
    "    if date == today()\n",
    "        println(\"found today's date \", date)\n",
    "        today_id = id\n",
    "    end \n",
    "    \n",
    "    if date <= today() + Dates.Day(5) # graph only 1 extra day\n",
    "    \n",
    "        #date = Dates.format(date, \"u.d,yy\" )\n",
    "        #println(\"date \", date, \" \", typeof(date))\n",
    "        push!(x_axis_dates, date)\n",
    "\n",
    "        predicted = get(prediction_results, id) # Float64\n",
    "        predicted = round(predicted, digits=0)\n",
    "        #println(\"predicted \", predicted, \" \", typeof(predicted))\n",
    "        append!(y_axis_predicted, predicted)\n",
    "\n",
    "\n",
    "        original = row[ column_to_predict ]\n",
    "        original = round(original, digits=0) # Float64\n",
    "        #println(\"original \", original, \" \", typeof(original)) \n",
    "        append!(y_axis_original, original)\n",
    "    end #if\n",
    "end\n",
    "\n",
    "## Format Dates for plotting\n",
    "x_axis_dates = format_dates(x_axis_dates, \"u.d,yy\") # Trim any spaces, spaces may cause \"segmentation error\"\n",
    "\n",
    "\n",
    "\n",
    "t = today()# Date\n",
    "t = format_dates([t], \"u. d, yyyy\") # Array{String,1}\n",
    "t = t[1] # String\n",
    "#println(\"t = \", t, \" - \", typeof(t))\n",
    "println()"
   ]
  },
  {
   "cell_type": "code",
   "execution_count": 13,
   "metadata": {
    "ExecuteTime": {
     "end_time": "2021-01-02T12:39:27.504000-05:00",
     "start_time": "2021-01-02T17:38:31.129Z"
    }
   },
   "outputs": [
    {
     "data": {
      "image/svg+xml": [
       "<?xml version=\"1.0\" encoding=\"utf-8\"?>\n",
       "<svg xmlns=\"http://www.w3.org/2000/svg\" xmlns:xlink=\"http://www.w3.org/1999/xlink\" width=\"980\" height=\"400\" viewBox=\"0 0 3920 1600\">\n",
       "<defs>\n",
       "  <clipPath id=\"clip7700\">\n",
       "    <rect x=\"0\" y=\"0\" width=\"3920\" height=\"1600\"/>\n",
       "  </clipPath>\n",
       "</defs>\n",
       "<path clip-path=\"url(#clip7700)\" d=\"\n",
       "M0 1600 L3920 1600 L3920 0 L0 0  Z\n",
       "  \" fill=\"#ffffff\" fill-rule=\"evenodd\" fill-opacity=\"1\"/>\n",
       "<defs>\n",
       "  <clipPath id=\"clip7701\">\n",
       "    <rect x=\"784\" y=\"0\" width=\"2745\" height=\"1600\"/>\n",
       "  </clipPath>\n",
       "</defs>\n",
       "<path clip-path=\"url(#clip7700)\" d=\"\n",
       "M224.866 1423.18 L3872.76 1423.18 L3872.76 47.2441 L224.866 47.2441  Z\n",
       "  \" fill=\"#ffffff\" fill-rule=\"evenodd\" fill-opacity=\"1\"/>\n",
       "<defs>\n",
       "  <clipPath id=\"clip7702\">\n",
       "    <rect x=\"224\" y=\"47\" width=\"3649\" height=\"1377\"/>\n",
       "  </clipPath>\n",
       "</defs>\n",
       "<polyline clip-path=\"url(#clip7702)\" style=\"stroke:#000000; stroke-width:2; stroke-opacity:0.1; fill:none\" points=\"\n",
       "  328.108,1423.18 328.108,47.2441 \n",
       "  \"/>\n",
       "<polyline clip-path=\"url(#clip7702)\" style=\"stroke:#000000; stroke-width:2; stroke-opacity:0.1; fill:none\" points=\"\n",
       "  596.968,1423.18 596.968,47.2441 \n",
       "  \"/>\n",
       "<polyline clip-path=\"url(#clip7702)\" style=\"stroke:#000000; stroke-width:2; stroke-opacity:0.1; fill:none\" points=\"\n",
       "  812.056,1423.18 812.056,47.2441 \n",
       "  \"/>\n",
       "<polyline clip-path=\"url(#clip7702)\" style=\"stroke:#000000; stroke-width:2; stroke-opacity:0.1; fill:none\" points=\"\n",
       "  1080.92,1423.18 1080.92,47.2441 \n",
       "  \"/>\n",
       "<polyline clip-path=\"url(#clip7702)\" style=\"stroke:#000000; stroke-width:2; stroke-opacity:0.1; fill:none\" points=\"\n",
       "  1296,1423.18 1296,47.2441 \n",
       "  \"/>\n",
       "<polyline clip-path=\"url(#clip7702)\" style=\"stroke:#000000; stroke-width:2; stroke-opacity:0.1; fill:none\" points=\"\n",
       "  1564.86,1423.18 1564.86,47.2441 \n",
       "  \"/>\n",
       "<polyline clip-path=\"url(#clip7702)\" style=\"stroke:#000000; stroke-width:2; stroke-opacity:0.1; fill:none\" points=\"\n",
       "  1779.95,1423.18 1779.95,47.2441 \n",
       "  \"/>\n",
       "<polyline clip-path=\"url(#clip7702)\" style=\"stroke:#000000; stroke-width:2; stroke-opacity:0.1; fill:none\" points=\"\n",
       "  2048.81,1423.18 2048.81,47.2441 \n",
       "  \"/>\n",
       "<polyline clip-path=\"url(#clip7702)\" style=\"stroke:#000000; stroke-width:2; stroke-opacity:0.1; fill:none\" points=\"\n",
       "  2317.67,1423.18 2317.67,47.2441 \n",
       "  \"/>\n",
       "<polyline clip-path=\"url(#clip7702)\" style=\"stroke:#000000; stroke-width:2; stroke-opacity:0.1; fill:none\" points=\"\n",
       "  2532.76,1423.18 2532.76,47.2441 \n",
       "  \"/>\n",
       "<polyline clip-path=\"url(#clip7702)\" style=\"stroke:#000000; stroke-width:2; stroke-opacity:0.1; fill:none\" points=\"\n",
       "  2801.62,1423.18 2801.62,47.2441 \n",
       "  \"/>\n",
       "<polyline clip-path=\"url(#clip7702)\" style=\"stroke:#000000; stroke-width:2; stroke-opacity:0.1; fill:none\" points=\"\n",
       "  3016.71,1423.18 3016.71,47.2441 \n",
       "  \"/>\n",
       "<polyline clip-path=\"url(#clip7702)\" style=\"stroke:#000000; stroke-width:2; stroke-opacity:0.1; fill:none\" points=\"\n",
       "  3285.57,1423.18 3285.57,47.2441 \n",
       "  \"/>\n",
       "<polyline clip-path=\"url(#clip7702)\" style=\"stroke:#000000; stroke-width:2; stroke-opacity:0.1; fill:none\" points=\"\n",
       "  3500.65,1423.18 3500.65,47.2441 \n",
       "  \"/>\n",
       "<polyline clip-path=\"url(#clip7702)\" style=\"stroke:#000000; stroke-width:2; stroke-opacity:0.1; fill:none\" points=\"\n",
       "  3769.51,1423.18 3769.51,47.2441 \n",
       "  \"/>\n",
       "<polyline clip-path=\"url(#clip7702)\" style=\"stroke:#000000; stroke-width:2; stroke-opacity:0.1; fill:none\" points=\"\n",
       "  224.866,1325.24 3872.76,1325.24 \n",
       "  \"/>\n",
       "<polyline clip-path=\"url(#clip7702)\" style=\"stroke:#000000; stroke-width:2; stroke-opacity:0.1; fill:none\" points=\"\n",
       "  224.866,1030.22 3872.76,1030.22 \n",
       "  \"/>\n",
       "<polyline clip-path=\"url(#clip7702)\" style=\"stroke:#000000; stroke-width:2; stroke-opacity:0.1; fill:none\" points=\"\n",
       "  224.866,735.212 3872.76,735.212 \n",
       "  \"/>\n",
       "<polyline clip-path=\"url(#clip7702)\" style=\"stroke:#000000; stroke-width:2; stroke-opacity:0.1; fill:none\" points=\"\n",
       "  224.866,440.2 3872.76,440.2 \n",
       "  \"/>\n",
       "<polyline clip-path=\"url(#clip7702)\" style=\"stroke:#000000; stroke-width:2; stroke-opacity:0.1; fill:none\" points=\"\n",
       "  224.866,145.188 3872.76,145.188 \n",
       "  \"/>\n",
       "<polyline clip-path=\"url(#clip7700)\" style=\"stroke:#000000; stroke-width:4; stroke-opacity:1; fill:none\" points=\"\n",
       "  224.866,1423.18 3872.76,1423.18 \n",
       "  \"/>\n",
       "<polyline clip-path=\"url(#clip7700)\" style=\"stroke:#000000; stroke-width:4; stroke-opacity:1; fill:none\" points=\"\n",
       "  224.866,1423.18 224.866,47.2441 \n",
       "  \"/>\n",
       "<polyline clip-path=\"url(#clip7700)\" style=\"stroke:#000000; stroke-width:4; stroke-opacity:1; fill:none\" points=\"\n",
       "  328.108,1423.18 328.108,1406.67 \n",
       "  \"/>\n",
       "<polyline clip-path=\"url(#clip7700)\" style=\"stroke:#000000; stroke-width:4; stroke-opacity:1; fill:none\" points=\"\n",
       "  596.968,1423.18 596.968,1406.67 \n",
       "  \"/>\n",
       "<polyline clip-path=\"url(#clip7700)\" style=\"stroke:#000000; stroke-width:4; stroke-opacity:1; fill:none\" points=\"\n",
       "  812.056,1423.18 812.056,1406.67 \n",
       "  \"/>\n",
       "<polyline clip-path=\"url(#clip7700)\" style=\"stroke:#000000; stroke-width:4; stroke-opacity:1; fill:none\" points=\"\n",
       "  1080.92,1423.18 1080.92,1406.67 \n",
       "  \"/>\n",
       "<polyline clip-path=\"url(#clip7700)\" style=\"stroke:#000000; stroke-width:4; stroke-opacity:1; fill:none\" points=\"\n",
       "  1296,1423.18 1296,1406.67 \n",
       "  \"/>\n",
       "<polyline clip-path=\"url(#clip7700)\" style=\"stroke:#000000; stroke-width:4; stroke-opacity:1; fill:none\" points=\"\n",
       "  1564.86,1423.18 1564.86,1406.67 \n",
       "  \"/>\n",
       "<polyline clip-path=\"url(#clip7700)\" style=\"stroke:#000000; stroke-width:4; stroke-opacity:1; fill:none\" points=\"\n",
       "  1779.95,1423.18 1779.95,1406.67 \n",
       "  \"/>\n",
       "<polyline clip-path=\"url(#clip7700)\" style=\"stroke:#000000; stroke-width:4; stroke-opacity:1; fill:none\" points=\"\n",
       "  2048.81,1423.18 2048.81,1406.67 \n",
       "  \"/>\n",
       "<polyline clip-path=\"url(#clip7700)\" style=\"stroke:#000000; stroke-width:4; stroke-opacity:1; fill:none\" points=\"\n",
       "  2317.67,1423.18 2317.67,1406.67 \n",
       "  \"/>\n",
       "<polyline clip-path=\"url(#clip7700)\" style=\"stroke:#000000; stroke-width:4; stroke-opacity:1; fill:none\" points=\"\n",
       "  2532.76,1423.18 2532.76,1406.67 \n",
       "  \"/>\n",
       "<polyline clip-path=\"url(#clip7700)\" style=\"stroke:#000000; stroke-width:4; stroke-opacity:1; fill:none\" points=\"\n",
       "  2801.62,1423.18 2801.62,1406.67 \n",
       "  \"/>\n",
       "<polyline clip-path=\"url(#clip7700)\" style=\"stroke:#000000; stroke-width:4; stroke-opacity:1; fill:none\" points=\"\n",
       "  3016.71,1423.18 3016.71,1406.67 \n",
       "  \"/>\n",
       "<polyline clip-path=\"url(#clip7700)\" style=\"stroke:#000000; stroke-width:4; stroke-opacity:1; fill:none\" points=\"\n",
       "  3285.57,1423.18 3285.57,1406.67 \n",
       "  \"/>\n",
       "<polyline clip-path=\"url(#clip7700)\" style=\"stroke:#000000; stroke-width:4; stroke-opacity:1; fill:none\" points=\"\n",
       "  3500.65,1423.18 3500.65,1406.67 \n",
       "  \"/>\n",
       "<polyline clip-path=\"url(#clip7700)\" style=\"stroke:#000000; stroke-width:4; stroke-opacity:1; fill:none\" points=\"\n",
       "  3769.51,1423.18 3769.51,1406.67 \n",
       "  \"/>\n",
       "<polyline clip-path=\"url(#clip7700)\" style=\"stroke:#000000; stroke-width:4; stroke-opacity:1; fill:none\" points=\"\n",
       "  224.866,1325.24 268.641,1325.24 \n",
       "  \"/>\n",
       "<polyline clip-path=\"url(#clip7700)\" style=\"stroke:#000000; stroke-width:4; stroke-opacity:1; fill:none\" points=\"\n",
       "  224.866,1030.22 268.641,1030.22 \n",
       "  \"/>\n",
       "<polyline clip-path=\"url(#clip7700)\" style=\"stroke:#000000; stroke-width:4; stroke-opacity:1; fill:none\" points=\"\n",
       "  224.866,735.212 268.641,735.212 \n",
       "  \"/>\n",
       "<polyline clip-path=\"url(#clip7700)\" style=\"stroke:#000000; stroke-width:4; stroke-opacity:1; fill:none\" points=\"\n",
       "  224.866,440.2 268.641,440.2 \n",
       "  \"/>\n",
       "<polyline clip-path=\"url(#clip7700)\" style=\"stroke:#000000; stroke-width:4; stroke-opacity:1; fill:none\" points=\"\n",
       "  224.866,145.188 268.641,145.188 \n",
       "  \"/>\n",
       "<path clip-path=\"url(#clip7700)\" d=\"M 0 0 M240.181 1449.69 L246.477 1449.69 L261.801 1478.6 L261.801 1449.69 L266.338 1449.69 L266.338 1484.25 L260.042 1484.25 L244.718 1455.34 L244.718 1484.25 L240.181 1484.25 L240.181 1449.69 Z\" fill=\"#000000\" fill-rule=\"evenodd\" fill-opacity=\"1\" /><path clip-path=\"url(#clip7700)\" d=\"M 0 0 M280.852 1461.31 Q277.426 1461.31 275.435 1464 Q273.444 1466.66 273.444 1471.31 Q273.444 1475.96 275.412 1478.65 Q277.403 1481.31 280.852 1481.31 Q284.254 1481.31 286.245 1478.63 Q288.236 1475.94 288.236 1471.31 Q288.236 1466.71 286.245 1464.02 Q284.254 1461.31 280.852 1461.31 M280.852 1457.7 Q286.407 1457.7 289.579 1461.31 Q292.75 1464.92 292.75 1471.31 Q292.75 1477.68 289.579 1481.31 Q286.407 1484.92 280.852 1484.92 Q275.273 1484.92 272.102 1481.31 Q268.954 1477.68 268.954 1471.31 Q268.954 1464.92 272.102 1461.31 Q275.273 1457.7 280.852 1457.7 Z\" fill=\"#000000\" fill-rule=\"evenodd\" fill-opacity=\"1\" /><path clip-path=\"url(#clip7700)\" d=\"M 0 0 M294.162 1458.33 L298.676 1458.33 L306.777 1480.09 L314.879 1458.33 L319.393 1458.33 L309.671 1484.25 L303.884 1484.25 L294.162 1458.33 Z\" fill=\"#000000\" fill-rule=\"evenodd\" fill-opacity=\"1\" /><path clip-path=\"url(#clip7700)\" d=\"M 0 0 M320.782 1478.37 L325.666 1478.37 L325.666 1484.25 L320.782 1484.25 L320.782 1478.37 Z\" fill=\"#000000\" fill-rule=\"evenodd\" fill-opacity=\"1\" /><path clip-path=\"url(#clip7700)\" d=\"M 0 0 M343.583 1453.77 L331.777 1472.21 L343.583 1472.21 L343.583 1453.77 M342.356 1449.69 L348.236 1449.69 L348.236 1472.21 L353.166 1472.21 L353.166 1476.1 L348.236 1476.1 L348.236 1484.25 L343.583 1484.25 L343.583 1476.1 L327.981 1476.1 L327.981 1471.59 L342.356 1449.69 Z\" fill=\"#000000\" fill-rule=\"evenodd\" fill-opacity=\"1\" /><path clip-path=\"url(#clip7700)\" d=\"M 0 0 M358.722 1478.37 L363.606 1478.37 L363.606 1482.35 L359.81 1489.76 L356.824 1489.76 L358.722 1482.35 L358.722 1478.37 Z\" fill=\"#000000\" fill-rule=\"evenodd\" fill-opacity=\"1\" /><path clip-path=\"url(#clip7700)\" d=\"M 0 0 M372.703 1480.32 L389.022 1480.32 L389.022 1484.25 L367.078 1484.25 L367.078 1480.32 Q369.74 1477.56 374.323 1472.93 Q378.93 1468.28 380.11 1466.94 Q382.356 1464.41 383.235 1462.68 Q384.138 1460.92 384.138 1459.23 Q384.138 1456.47 382.194 1454.74 Q380.272 1453 377.171 1453 Q374.972 1453 372.518 1453.77 Q370.087 1454.53 367.31 1456.08 L367.31 1451.36 Q370.134 1450.22 372.587 1449.65 Q375.041 1449.07 377.078 1449.07 Q382.448 1449.07 385.643 1451.75 Q388.837 1454.44 388.837 1458.93 Q388.837 1461.06 388.027 1462.98 Q387.24 1464.88 385.134 1467.47 Q384.555 1468.14 381.453 1471.36 Q378.351 1474.55 372.703 1480.32 Z\" fill=\"#000000\" fill-rule=\"evenodd\" fill-opacity=\"1\" /><path clip-path=\"url(#clip7700)\" d=\"M 0 0 M404.092 1452.77 Q400.481 1452.77 398.652 1456.34 Q396.846 1459.88 396.846 1467.01 Q396.846 1474.11 398.652 1477.68 Q400.481 1481.22 404.092 1481.22 Q407.726 1481.22 409.532 1477.68 Q411.36 1474.11 411.36 1467.01 Q411.36 1459.88 409.532 1456.34 Q407.726 1452.77 404.092 1452.77 M404.092 1449.07 Q409.902 1449.07 412.957 1453.67 Q416.036 1458.26 416.036 1467.01 Q416.036 1475.73 412.957 1480.34 Q409.902 1484.92 404.092 1484.92 Q398.282 1484.92 395.203 1480.34 Q392.147 1475.73 392.147 1467.01 Q392.147 1458.26 395.203 1453.67 Q398.282 1449.07 404.092 1449.07 Z\" fill=\"#000000\" fill-rule=\"evenodd\" fill-opacity=\"1\" /><path clip-path=\"url(#clip7700)\" d=\"M 0 0 M509.376 1449.69 L515.672 1449.69 L530.996 1478.6 L530.996 1449.69 L535.533 1449.69 L535.533 1484.25 L529.237 1484.25 L513.913 1455.34 L513.913 1484.25 L509.376 1484.25 L509.376 1449.69 Z\" fill=\"#000000\" fill-rule=\"evenodd\" fill-opacity=\"1\" /><path clip-path=\"url(#clip7700)\" d=\"M 0 0 M550.047 1461.31 Q546.621 1461.31 544.631 1464 Q542.64 1466.66 542.64 1471.31 Q542.64 1475.96 544.607 1478.65 Q546.598 1481.31 550.047 1481.31 Q553.45 1481.31 555.441 1478.63 Q557.431 1475.94 557.431 1471.31 Q557.431 1466.71 555.441 1464.02 Q553.45 1461.31 550.047 1461.31 M550.047 1457.7 Q555.603 1457.7 558.774 1461.31 Q561.945 1464.92 561.945 1471.31 Q561.945 1477.68 558.774 1481.31 Q555.603 1484.92 550.047 1484.92 Q544.468 1484.92 541.297 1481.31 Q538.149 1477.68 538.149 1471.31 Q538.149 1464.92 541.297 1461.31 Q544.468 1457.7 550.047 1457.7 Z\" fill=\"#000000\" fill-rule=\"evenodd\" fill-opacity=\"1\" /><path clip-path=\"url(#clip7700)\" d=\"M 0 0 M563.357 1458.33 L567.871 1458.33 L575.973 1480.09 L584.075 1458.33 L588.589 1458.33 L578.866 1484.25 L573.079 1484.25 L563.357 1458.33 Z\" fill=\"#000000\" fill-rule=\"evenodd\" fill-opacity=\"1\" /><path clip-path=\"url(#clip7700)\" d=\"M 0 0 M589.977 1478.37 L594.862 1478.37 L594.862 1484.25 L589.977 1484.25 L589.977 1478.37 Z\" fill=\"#000000\" fill-rule=\"evenodd\" fill-opacity=\"1\" /><path clip-path=\"url(#clip7700)\" d=\"M 0 0 M600.07 1483.53 L600.07 1479.28 Q601.829 1480.11 603.635 1480.55 Q605.44 1480.99 607.176 1480.99 Q611.806 1480.99 614.237 1477.89 Q616.69 1474.76 617.038 1468.42 Q615.695 1470.41 613.635 1471.47 Q611.575 1472.54 609.075 1472.54 Q603.889 1472.54 600.857 1469.41 Q597.848 1466.27 597.848 1460.83 Q597.848 1455.5 600.996 1452.28 Q604.144 1449.07 609.376 1449.07 Q615.371 1449.07 618.519 1453.67 Q621.69 1458.26 621.69 1467.01 Q621.69 1475.18 617.801 1480.06 Q613.936 1484.92 607.385 1484.92 Q605.626 1484.92 603.82 1484.58 Q602.014 1484.23 600.07 1483.53 M609.376 1468.88 Q612.524 1468.88 614.352 1466.73 Q616.204 1464.58 616.204 1460.83 Q616.204 1457.1 614.352 1454.95 Q612.524 1452.77 609.376 1452.77 Q606.227 1452.77 604.376 1454.95 Q602.547 1457.1 602.547 1460.83 Q602.547 1464.58 604.376 1466.73 Q606.227 1468.88 609.376 1468.88 Z\" fill=\"#000000\" fill-rule=\"evenodd\" fill-opacity=\"1\" /><path clip-path=\"url(#clip7700)\" d=\"M 0 0 M627.246 1478.37 L632.13 1478.37 L632.13 1482.35 L628.334 1489.76 L625.348 1489.76 L627.246 1482.35 L627.246 1478.37 Z\" fill=\"#000000\" fill-rule=\"evenodd\" fill-opacity=\"1\" /><path clip-path=\"url(#clip7700)\" d=\"M 0 0 M641.227 1480.32 L657.547 1480.32 L657.547 1484.25 L635.602 1484.25 L635.602 1480.32 Q638.264 1477.56 642.848 1472.93 Q647.454 1468.28 648.635 1466.94 Q650.88 1464.41 651.76 1462.68 Q652.662 1460.92 652.662 1459.23 Q652.662 1456.47 650.718 1454.74 Q648.797 1453 645.695 1453 Q643.496 1453 641.042 1453.77 Q638.611 1454.53 635.834 1456.08 L635.834 1451.36 Q638.658 1450.22 641.111 1449.65 Q643.565 1449.07 645.602 1449.07 Q650.973 1449.07 654.167 1451.75 Q657.361 1454.44 657.361 1458.93 Q657.361 1461.06 656.551 1462.98 Q655.764 1464.88 653.658 1467.47 Q653.079 1468.14 649.977 1471.36 Q646.875 1474.55 641.227 1480.32 Z\" fill=\"#000000\" fill-rule=\"evenodd\" fill-opacity=\"1\" /><path clip-path=\"url(#clip7700)\" d=\"M 0 0 M672.616 1452.77 Q669.005 1452.77 667.176 1456.34 Q665.371 1459.88 665.371 1467.01 Q665.371 1474.11 667.176 1477.68 Q669.005 1481.22 672.616 1481.22 Q676.25 1481.22 678.056 1477.68 Q679.884 1474.11 679.884 1467.01 Q679.884 1459.88 678.056 1456.34 Q676.25 1452.77 672.616 1452.77 M672.616 1449.07 Q678.426 1449.07 681.482 1453.67 Q684.56 1458.26 684.56 1467.01 Q684.56 1475.73 681.482 1480.34 Q678.426 1484.92 672.616 1484.92 Q666.806 1484.92 663.727 1480.34 Q660.672 1475.73 660.672 1467.01 Q660.672 1458.26 663.727 1453.67 Q666.806 1449.07 672.616 1449.07 Z\" fill=\"#000000\" fill-rule=\"evenodd\" fill-opacity=\"1\" /><path clip-path=\"url(#clip7700)\" d=\"M 0 0 M711.802 1449.69 L718.098 1449.69 L733.422 1478.6 L733.422 1449.69 L737.959 1449.69 L737.959 1484.25 L731.663 1484.25 L716.339 1455.34 L716.339 1484.25 L711.802 1484.25 L711.802 1449.69 Z\" fill=\"#000000\" fill-rule=\"evenodd\" fill-opacity=\"1\" /><path clip-path=\"url(#clip7700)\" d=\"M 0 0 M752.473 1461.31 Q749.047 1461.31 747.056 1464 Q745.066 1466.66 745.066 1471.31 Q745.066 1475.96 747.033 1478.65 Q749.024 1481.31 752.473 1481.31 Q755.876 1481.31 757.867 1478.63 Q759.857 1475.94 759.857 1471.31 Q759.857 1466.71 757.867 1464.02 Q755.876 1461.31 752.473 1461.31 M752.473 1457.7 Q758.029 1457.7 761.2 1461.31 Q764.371 1464.92 764.371 1471.31 Q764.371 1477.68 761.2 1481.31 Q758.029 1484.92 752.473 1484.92 Q746.894 1484.92 743.723 1481.31 Q740.575 1477.68 740.575 1471.31 Q740.575 1464.92 743.723 1461.31 Q746.894 1457.7 752.473 1457.7 Z\" fill=\"#000000\" fill-rule=\"evenodd\" fill-opacity=\"1\" /><path clip-path=\"url(#clip7700)\" d=\"M 0 0 M765.783 1458.33 L770.297 1458.33 L778.399 1480.09 L786.501 1458.33 L791.014 1458.33 L781.292 1484.25 L775.505 1484.25 L765.783 1458.33 Z\" fill=\"#000000\" fill-rule=\"evenodd\" fill-opacity=\"1\" /><path clip-path=\"url(#clip7700)\" d=\"M 0 0 M792.403 1478.37 L797.288 1478.37 L797.288 1484.25 L792.403 1484.25 L792.403 1478.37 Z\" fill=\"#000000\" fill-rule=\"evenodd\" fill-opacity=\"1\" /><path clip-path=\"url(#clip7700)\" d=\"M 0 0 M803.167 1480.32 L810.806 1480.32 L810.806 1453.95 L802.496 1455.62 L802.496 1451.36 L810.76 1449.69 L815.436 1449.69 L815.436 1480.32 L823.074 1480.32 L823.074 1484.25 L803.167 1484.25 L803.167 1480.32 Z\" fill=\"#000000\" fill-rule=\"evenodd\" fill-opacity=\"1\" /><path clip-path=\"url(#clip7700)\" d=\"M 0 0 M842.31 1465.62 Q845.667 1466.34 847.542 1468.6 Q849.44 1470.87 849.44 1474.21 Q849.44 1479.32 845.922 1482.12 Q842.403 1484.92 835.922 1484.92 Q833.746 1484.92 831.431 1484.48 Q829.139 1484.07 826.686 1483.21 L826.686 1478.7 Q828.63 1479.83 830.945 1480.41 Q833.26 1480.99 835.783 1480.99 Q840.181 1480.99 842.473 1479.25 Q844.787 1477.52 844.787 1474.21 Q844.787 1471.15 842.635 1469.44 Q840.505 1467.7 836.686 1467.7 L832.658 1467.7 L832.658 1463.86 L836.871 1463.86 Q840.32 1463.86 842.148 1462.49 Q843.977 1461.1 843.977 1458.51 Q843.977 1455.85 842.079 1454.44 Q840.204 1453 836.686 1453 Q834.764 1453 832.565 1453.42 Q830.366 1453.84 827.727 1454.71 L827.727 1450.55 Q830.389 1449.81 832.704 1449.44 Q835.042 1449.07 837.102 1449.07 Q842.426 1449.07 845.528 1451.5 Q848.63 1453.9 848.63 1458.03 Q848.63 1460.9 846.986 1462.89 Q845.343 1464.85 842.31 1465.62 Z\" fill=\"#000000\" fill-rule=\"evenodd\" fill-opacity=\"1\" /><path clip-path=\"url(#clip7700)\" d=\"M 0 0 M854.996 1478.37 L859.88 1478.37 L859.88 1482.35 L856.084 1489.76 L853.097 1489.76 L854.996 1482.35 L854.996 1478.37 Z\" fill=\"#000000\" fill-rule=\"evenodd\" fill-opacity=\"1\" /><path clip-path=\"url(#clip7700)\" d=\"M 0 0 M868.977 1480.32 L885.296 1480.32 L885.296 1484.25 L863.352 1484.25 L863.352 1480.32 Q866.014 1477.56 870.597 1472.93 Q875.204 1468.28 876.384 1466.94 Q878.63 1464.41 879.509 1462.68 Q880.412 1460.92 880.412 1459.23 Q880.412 1456.47 878.468 1454.74 Q876.546 1453 873.445 1453 Q871.246 1453 868.792 1453.77 Q866.361 1454.53 863.584 1456.08 L863.584 1451.36 Q866.408 1450.22 868.861 1449.65 Q871.315 1449.07 873.352 1449.07 Q878.722 1449.07 881.917 1451.75 Q885.111 1454.44 885.111 1458.93 Q885.111 1461.06 884.301 1462.98 Q883.514 1464.88 881.408 1467.47 Q880.829 1468.14 877.727 1471.36 Q874.625 1474.55 868.977 1480.32 Z\" fill=\"#000000\" fill-rule=\"evenodd\" fill-opacity=\"1\" /><path clip-path=\"url(#clip7700)\" d=\"M 0 0 M900.366 1452.77 Q896.755 1452.77 894.926 1456.34 Q893.12 1459.88 893.12 1467.01 Q893.12 1474.11 894.926 1477.68 Q896.755 1481.22 900.366 1481.22 Q904 1481.22 905.806 1477.68 Q907.634 1474.11 907.634 1467.01 Q907.634 1459.88 905.806 1456.34 Q904 1452.77 900.366 1452.77 M900.366 1449.07 Q906.176 1449.07 909.231 1453.67 Q912.31 1458.26 912.31 1467.01 Q912.31 1475.73 909.231 1480.34 Q906.176 1484.92 900.366 1484.92 Q894.556 1484.92 891.477 1480.34 Q888.421 1475.73 888.421 1467.01 Q888.421 1458.26 891.477 1453.67 Q894.556 1449.07 900.366 1449.07 Z\" fill=\"#000000\" fill-rule=\"evenodd\" fill-opacity=\"1\" /><path clip-path=\"url(#clip7700)\" d=\"M 0 0 M980.384 1449.69 L986.68 1449.69 L1002 1478.6 L1002 1449.69 L1006.54 1449.69 L1006.54 1484.25 L1000.24 1484.25 L984.921 1455.34 L984.921 1484.25 L980.384 1484.25 L980.384 1449.69 Z\" fill=\"#000000\" fill-rule=\"evenodd\" fill-opacity=\"1\" /><path clip-path=\"url(#clip7700)\" d=\"M 0 0 M1021.06 1461.31 Q1017.63 1461.31 1015.64 1464 Q1013.65 1466.66 1013.65 1471.31 Q1013.65 1475.96 1015.62 1478.65 Q1017.61 1481.31 1021.06 1481.31 Q1024.46 1481.31 1026.45 1478.63 Q1028.44 1475.94 1028.44 1471.31 Q1028.44 1466.71 1026.45 1464.02 Q1024.46 1461.31 1021.06 1461.31 M1021.06 1457.7 Q1026.61 1457.7 1029.78 1461.31 Q1032.95 1464.92 1032.95 1471.31 Q1032.95 1477.68 1029.78 1481.31 Q1026.61 1484.92 1021.06 1484.92 Q1015.48 1484.92 1012.31 1481.31 Q1009.16 1477.68 1009.16 1471.31 Q1009.16 1464.92 1012.31 1461.31 Q1015.48 1457.7 1021.06 1457.7 Z\" fill=\"#000000\" fill-rule=\"evenodd\" fill-opacity=\"1\" /><path clip-path=\"url(#clip7700)\" d=\"M 0 0 M1034.37 1458.33 L1038.88 1458.33 L1046.98 1480.09 L1055.08 1458.33 L1059.6 1458.33 L1049.87 1484.25 L1044.09 1484.25 L1034.37 1458.33 Z\" fill=\"#000000\" fill-rule=\"evenodd\" fill-opacity=\"1\" /><path clip-path=\"url(#clip7700)\" d=\"M 0 0 M1060.99 1478.37 L1065.87 1478.37 L1065.87 1484.25 L1060.99 1484.25 L1060.99 1478.37 Z\" fill=\"#000000\" fill-rule=\"evenodd\" fill-opacity=\"1\" /><path clip-path=\"url(#clip7700)\" d=\"M 0 0 M1071.75 1480.32 L1079.39 1480.32 L1079.39 1453.95 L1071.08 1455.62 L1071.08 1451.36 L1079.34 1449.69 L1084.02 1449.69 L1084.02 1480.32 L1091.66 1480.32 L1091.66 1484.25 L1071.75 1484.25 L1071.75 1480.32 Z\" fill=\"#000000\" fill-rule=\"evenodd\" fill-opacity=\"1\" /><path clip-path=\"url(#clip7700)\" d=\"M 0 0 M1106.73 1467.84 Q1103.39 1467.84 1101.47 1469.62 Q1099.57 1471.4 1099.57 1474.53 Q1099.57 1477.65 1101.47 1479.44 Q1103.39 1481.22 1106.73 1481.22 Q1110.06 1481.22 1111.98 1479.44 Q1113.9 1477.63 1113.9 1474.53 Q1113.9 1471.4 1111.98 1469.62 Q1110.08 1467.84 1106.73 1467.84 M1102.05 1465.85 Q1099.04 1465.11 1097.35 1463.05 Q1095.68 1460.99 1095.68 1458.03 Q1095.68 1453.88 1098.62 1451.47 Q1101.59 1449.07 1106.73 1449.07 Q1111.89 1449.07 1114.83 1451.47 Q1117.77 1453.88 1117.77 1458.03 Q1117.77 1460.99 1116.08 1463.05 Q1114.41 1465.11 1111.42 1465.85 Q1114.8 1466.64 1116.68 1468.93 Q1118.58 1471.22 1118.58 1474.53 Q1118.58 1479.55 1115.5 1482.24 Q1112.44 1484.92 1106.73 1484.92 Q1101.01 1484.92 1097.93 1482.24 Q1094.87 1479.55 1094.87 1474.53 Q1094.87 1471.22 1096.77 1468.93 Q1098.67 1466.64 1102.05 1465.85 M1100.34 1458.46 Q1100.34 1461.15 1102 1462.65 Q1103.69 1464.16 1106.73 1464.16 Q1109.74 1464.16 1111.42 1462.65 Q1113.14 1461.15 1113.14 1458.46 Q1113.14 1455.78 1111.42 1454.28 Q1109.74 1452.77 1106.73 1452.77 Q1103.69 1452.77 1102 1454.28 Q1100.34 1455.78 1100.34 1458.46 Z\" fill=\"#000000\" fill-rule=\"evenodd\" fill-opacity=\"1\" /><path clip-path=\"url(#clip7700)\" d=\"M 0 0 M1124.13 1478.37 L1129.02 1478.37 L1129.02 1482.35 L1125.22 1489.76 L1122.24 1489.76 L1124.13 1482.35 L1124.13 1478.37 Z\" fill=\"#000000\" fill-rule=\"evenodd\" fill-opacity=\"1\" /><path clip-path=\"url(#clip7700)\" d=\"M 0 0 M1138.11 1480.32 L1154.43 1480.32 L1154.43 1484.25 L1132.49 1484.25 L1132.49 1480.32 Q1135.15 1477.56 1139.73 1472.93 Q1144.34 1468.28 1145.52 1466.94 Q1147.77 1464.41 1148.65 1462.68 Q1149.55 1460.92 1149.55 1459.23 Q1149.55 1456.47 1147.61 1454.74 Q1145.68 1453 1142.58 1453 Q1140.38 1453 1137.93 1453.77 Q1135.5 1454.53 1132.72 1456.08 L1132.72 1451.36 Q1135.55 1450.22 1138 1449.65 Q1140.45 1449.07 1142.49 1449.07 Q1147.86 1449.07 1151.05 1451.75 Q1154.25 1454.44 1154.25 1458.93 Q1154.25 1461.06 1153.44 1462.98 Q1152.65 1464.88 1150.55 1467.47 Q1149.97 1468.14 1146.86 1471.36 Q1143.76 1474.55 1138.11 1480.32 Z\" fill=\"#000000\" fill-rule=\"evenodd\" fill-opacity=\"1\" /><path clip-path=\"url(#clip7700)\" d=\"M 0 0 M1169.5 1452.77 Q1165.89 1452.77 1164.06 1456.34 Q1162.26 1459.88 1162.26 1467.01 Q1162.26 1474.11 1164.06 1477.68 Q1165.89 1481.22 1169.5 1481.22 Q1173.14 1481.22 1174.94 1477.68 Q1176.77 1474.11 1176.77 1467.01 Q1176.77 1459.88 1174.94 1456.34 Q1173.14 1452.77 1169.5 1452.77 M1169.5 1449.07 Q1175.31 1449.07 1178.37 1453.67 Q1181.45 1458.26 1181.45 1467.01 Q1181.45 1475.73 1178.37 1480.34 Q1175.31 1484.92 1169.5 1484.92 Q1163.69 1484.92 1160.61 1480.34 Q1157.56 1475.73 1157.56 1467.01 Q1157.56 1458.26 1160.61 1453.67 Q1163.69 1449.07 1169.5 1449.07 Z\" fill=\"#000000\" fill-rule=\"evenodd\" fill-opacity=\"1\" /><path clip-path=\"url(#clip7700)\" d=\"M 0 0 M1196.41 1449.69 L1202.71 1449.69 L1218.03 1478.6 L1218.03 1449.69 L1222.57 1449.69 L1222.57 1484.25 L1216.27 1484.25 L1200.95 1455.34 L1200.95 1484.25 L1196.41 1484.25 L1196.41 1449.69 Z\" fill=\"#000000\" fill-rule=\"evenodd\" fill-opacity=\"1\" /><path clip-path=\"url(#clip7700)\" d=\"M 0 0 M1237.08 1461.31 Q1233.65 1461.31 1231.66 1464 Q1229.67 1466.66 1229.67 1471.31 Q1229.67 1475.96 1231.64 1478.65 Q1233.63 1481.31 1237.08 1481.31 Q1240.48 1481.31 1242.47 1478.63 Q1244.46 1475.94 1244.46 1471.31 Q1244.46 1466.71 1242.47 1464.02 Q1240.48 1461.31 1237.08 1461.31 M1237.08 1457.7 Q1242.64 1457.7 1245.81 1461.31 Q1248.98 1464.92 1248.98 1471.31 Q1248.98 1477.68 1245.81 1481.31 Q1242.64 1484.92 1237.08 1484.92 Q1231.5 1484.92 1228.33 1481.31 Q1225.18 1477.68 1225.18 1471.31 Q1225.18 1464.92 1228.33 1461.31 Q1231.5 1457.7 1237.08 1457.7 Z\" fill=\"#000000\" fill-rule=\"evenodd\" fill-opacity=\"1\" /><path clip-path=\"url(#clip7700)\" d=\"M 0 0 M1250.39 1458.33 L1254.9 1458.33 L1263.01 1480.09 L1271.11 1458.33 L1275.62 1458.33 L1265.9 1484.25 L1260.11 1484.25 L1250.39 1458.33 Z\" fill=\"#000000\" fill-rule=\"evenodd\" fill-opacity=\"1\" /><path clip-path=\"url(#clip7700)\" d=\"M 0 0 M1277.01 1478.37 L1281.89 1478.37 L1281.89 1484.25 L1277.01 1484.25 L1277.01 1478.37 Z\" fill=\"#000000\" fill-rule=\"evenodd\" fill-opacity=\"1\" /><path clip-path=\"url(#clip7700)\" d=\"M 0 0 M1290.99 1480.32 L1307.31 1480.32 L1307.31 1484.25 L1285.37 1484.25 L1285.37 1480.32 Q1288.03 1477.56 1292.61 1472.93 Q1297.22 1468.28 1298.4 1466.94 Q1300.64 1464.41 1301.52 1462.68 Q1302.43 1460.92 1302.43 1459.23 Q1302.43 1456.47 1300.48 1454.74 Q1298.56 1453 1295.46 1453 Q1293.26 1453 1290.81 1453.77 Q1288.38 1454.53 1285.6 1456.08 L1285.6 1451.36 Q1288.42 1450.22 1290.88 1449.65 Q1293.33 1449.07 1295.37 1449.07 Q1300.74 1449.07 1303.93 1451.75 Q1307.13 1454.44 1307.13 1458.93 Q1307.13 1461.06 1306.32 1462.98 Q1305.53 1464.88 1303.42 1467.47 Q1302.84 1468.14 1299.74 1471.36 Q1296.64 1474.55 1290.99 1480.32 Z\" fill=\"#000000\" fill-rule=\"evenodd\" fill-opacity=\"1\" /><path clip-path=\"url(#clip7700)\" d=\"M 0 0 M1316.41 1480.32 L1332.73 1480.32 L1332.73 1484.25 L1310.78 1484.25 L1310.78 1480.32 Q1313.45 1477.56 1318.03 1472.93 Q1322.64 1468.28 1323.82 1466.94 Q1326.06 1464.41 1326.94 1462.68 Q1327.84 1460.92 1327.84 1459.23 Q1327.84 1456.47 1325.9 1454.74 Q1323.98 1453 1320.88 1453 Q1318.68 1453 1316.22 1453.77 Q1313.79 1454.53 1311.02 1456.08 L1311.02 1451.36 Q1313.84 1450.22 1316.29 1449.65 Q1318.75 1449.07 1320.78 1449.07 Q1326.15 1449.07 1329.35 1451.75 Q1332.54 1454.44 1332.54 1458.93 Q1332.54 1461.06 1331.73 1462.98 Q1330.95 1464.88 1328.84 1467.47 Q1328.26 1468.14 1325.16 1471.36 Q1322.06 1474.55 1316.41 1480.32 Z\" fill=\"#000000\" fill-rule=\"evenodd\" fill-opacity=\"1\" /><path clip-path=\"url(#clip7700)\" d=\"M 0 0 M1338.28 1478.37 L1343.17 1478.37 L1343.17 1482.35 L1339.37 1489.76 L1336.39 1489.76 L1338.28 1482.35 L1338.28 1478.37 Z\" fill=\"#000000\" fill-rule=\"evenodd\" fill-opacity=\"1\" /><path clip-path=\"url(#clip7700)\" d=\"M 0 0 M1352.26 1480.32 L1368.58 1480.32 L1368.58 1484.25 L1346.64 1484.25 L1346.64 1480.32 Q1349.3 1477.56 1353.89 1472.93 Q1358.49 1468.28 1359.67 1466.94 Q1361.92 1464.41 1362.8 1462.68 Q1363.7 1460.92 1363.7 1459.23 Q1363.7 1456.47 1361.76 1454.74 Q1359.83 1453 1356.73 1453 Q1354.53 1453 1352.08 1453.77 Q1349.65 1454.53 1346.87 1456.08 L1346.87 1451.36 Q1349.7 1450.22 1352.15 1449.65 Q1354.6 1449.07 1356.64 1449.07 Q1362.01 1449.07 1365.2 1451.75 Q1368.4 1454.44 1368.4 1458.93 Q1368.4 1461.06 1367.59 1462.98 Q1366.8 1464.88 1364.7 1467.47 Q1364.12 1468.14 1361.01 1471.36 Q1357.91 1474.55 1352.26 1480.32 Z\" fill=\"#000000\" fill-rule=\"evenodd\" fill-opacity=\"1\" /><path clip-path=\"url(#clip7700)\" d=\"M 0 0 M1383.65 1452.77 Q1380.04 1452.77 1378.21 1456.34 Q1376.41 1459.88 1376.41 1467.01 Q1376.41 1474.11 1378.21 1477.68 Q1380.04 1481.22 1383.65 1481.22 Q1387.29 1481.22 1389.09 1477.68 Q1390.92 1474.11 1390.92 1467.01 Q1390.92 1459.88 1389.09 1456.34 Q1387.29 1452.77 1383.65 1452.77 M1383.65 1449.07 Q1389.46 1449.07 1392.52 1453.67 Q1395.6 1458.26 1395.6 1467.01 Q1395.6 1475.73 1392.52 1480.34 Q1389.46 1484.92 1383.65 1484.92 Q1377.84 1484.92 1374.76 1480.34 Q1371.71 1475.73 1371.71 1467.01 Q1371.71 1458.26 1374.76 1453.67 Q1377.84 1449.07 1383.65 1449.07 Z\" fill=\"#000000\" fill-rule=\"evenodd\" fill-opacity=\"1\" /><path clip-path=\"url(#clip7700)\" d=\"M 0 0 M1464.92 1449.69 L1471.22 1449.69 L1486.54 1478.6 L1486.54 1449.69 L1491.08 1449.69 L1491.08 1484.25 L1484.78 1484.25 L1469.46 1455.34 L1469.46 1484.25 L1464.92 1484.25 L1464.92 1449.69 Z\" fill=\"#000000\" fill-rule=\"evenodd\" fill-opacity=\"1\" /><path clip-path=\"url(#clip7700)\" d=\"M 0 0 M1505.59 1461.31 Q1502.17 1461.31 1500.18 1464 Q1498.19 1466.66 1498.19 1471.31 Q1498.19 1475.96 1500.15 1478.65 Q1502.14 1481.31 1505.59 1481.31 Q1509 1481.31 1510.99 1478.63 Q1512.98 1475.94 1512.98 1471.31 Q1512.98 1466.71 1510.99 1464.02 Q1509 1461.31 1505.59 1461.31 M1505.59 1457.7 Q1511.15 1457.7 1514.32 1461.31 Q1517.49 1464.92 1517.49 1471.31 Q1517.49 1477.68 1514.32 1481.31 Q1511.15 1484.92 1505.59 1484.92 Q1500.01 1484.92 1496.84 1481.31 Q1493.69 1477.68 1493.69 1471.31 Q1493.69 1464.92 1496.84 1461.31 Q1500.01 1457.7 1505.59 1457.7 Z\" fill=\"#000000\" fill-rule=\"evenodd\" fill-opacity=\"1\" /><path clip-path=\"url(#clip7700)\" d=\"M 0 0 M1518.9 1458.33 L1523.42 1458.33 L1531.52 1480.09 L1539.62 1458.33 L1544.13 1458.33 L1534.41 1484.25 L1528.63 1484.25 L1518.9 1458.33 Z\" fill=\"#000000\" fill-rule=\"evenodd\" fill-opacity=\"1\" /><path clip-path=\"url(#clip7700)\" d=\"M 0 0 M1545.52 1478.37 L1550.41 1478.37 L1550.41 1484.25 L1545.52 1484.25 L1545.52 1478.37 Z\" fill=\"#000000\" fill-rule=\"evenodd\" fill-opacity=\"1\" /><path clip-path=\"url(#clip7700)\" d=\"M 0 0 M1559.5 1480.32 L1575.82 1480.32 L1575.82 1484.25 L1553.88 1484.25 L1553.88 1480.32 Q1556.54 1477.56 1561.13 1472.93 Q1565.73 1468.28 1566.91 1466.94 Q1569.16 1464.41 1570.04 1462.68 Q1570.94 1460.92 1570.94 1459.23 Q1570.94 1456.47 1569 1454.74 Q1567.07 1453 1563.97 1453 Q1561.77 1453 1559.32 1453.77 Q1556.89 1454.53 1554.11 1456.08 L1554.11 1451.36 Q1556.94 1450.22 1559.39 1449.65 Q1561.84 1449.07 1563.88 1449.07 Q1569.25 1449.07 1572.44 1451.75 Q1575.64 1454.44 1575.64 1458.93 Q1575.64 1461.06 1574.83 1462.98 Q1574.04 1464.88 1571.94 1467.47 Q1571.36 1468.14 1568.25 1471.36 Q1565.15 1474.55 1559.5 1480.32 Z\" fill=\"#000000\" fill-rule=\"evenodd\" fill-opacity=\"1\" /><path clip-path=\"url(#clip7700)\" d=\"M 0 0 M1579.71 1449.69 L1601.94 1449.69 L1601.94 1451.68 L1589.39 1484.25 L1584.5 1484.25 L1596.31 1453.63 L1579.71 1453.63 L1579.71 1449.69 Z\" fill=\"#000000\" fill-rule=\"evenodd\" fill-opacity=\"1\" /><path clip-path=\"url(#clip7700)\" d=\"M 0 0 M1607.49 1478.37 L1612.37 1478.37 L1612.37 1482.35 L1608.58 1489.76 L1605.59 1489.76 L1607.49 1482.35 L1607.49 1478.37 Z\" fill=\"#000000\" fill-rule=\"evenodd\" fill-opacity=\"1\" /><path clip-path=\"url(#clip7700)\" d=\"M 0 0 M1621.47 1480.32 L1637.79 1480.32 L1637.79 1484.25 L1615.85 1484.25 L1615.85 1480.32 Q1618.51 1477.56 1623.09 1472.93 Q1627.7 1468.28 1628.88 1466.94 Q1631.12 1464.41 1632 1462.68 Q1632.91 1460.92 1632.91 1459.23 Q1632.91 1456.47 1630.96 1454.74 Q1629.04 1453 1625.94 1453 Q1623.74 1453 1621.29 1453.77 Q1618.86 1454.53 1616.08 1456.08 L1616.08 1451.36 Q1618.9 1450.22 1621.36 1449.65 Q1623.81 1449.07 1625.85 1449.07 Q1631.22 1449.07 1634.41 1451.75 Q1637.61 1454.44 1637.61 1458.93 Q1637.61 1461.06 1636.8 1462.98 Q1636.01 1464.88 1633.9 1467.47 Q1633.32 1468.14 1630.22 1471.36 Q1627.12 1474.55 1621.47 1480.32 Z\" fill=\"#000000\" fill-rule=\"evenodd\" fill-opacity=\"1\" /><path clip-path=\"url(#clip7700)\" d=\"M 0 0 M1652.86 1452.77 Q1649.25 1452.77 1647.42 1456.34 Q1645.62 1459.88 1645.62 1467.01 Q1645.62 1474.11 1647.42 1477.68 Q1649.25 1481.22 1652.86 1481.22 Q1656.49 1481.22 1658.3 1477.68 Q1660.13 1474.11 1660.13 1467.01 Q1660.13 1459.88 1658.3 1456.34 Q1656.49 1452.77 1652.86 1452.77 M1652.86 1449.07 Q1658.67 1449.07 1661.73 1453.67 Q1664.81 1458.26 1664.81 1467.01 Q1664.81 1475.73 1661.73 1480.34 Q1658.67 1484.92 1652.86 1484.92 Q1647.05 1484.92 1643.97 1480.34 Q1640.92 1475.73 1640.92 1467.01 Q1640.92 1458.26 1643.97 1453.67 Q1647.05 1449.07 1652.86 1449.07 Z\" fill=\"#000000\" fill-rule=\"evenodd\" fill-opacity=\"1\" /><path clip-path=\"url(#clip7700)\" d=\"M 0 0 M1695.91 1453.53 L1695.91 1480.41 L1701.56 1480.41 Q1708.71 1480.41 1712.02 1477.17 Q1715.36 1473.93 1715.36 1466.94 Q1715.36 1459.99 1712.02 1456.78 Q1708.71 1453.53 1701.56 1453.53 L1695.91 1453.53 M1691.24 1449.69 L1700.84 1449.69 Q1710.89 1449.69 1715.59 1453.88 Q1720.29 1458.05 1720.29 1466.94 Q1720.29 1475.87 1715.57 1480.06 Q1710.84 1484.25 1700.84 1484.25 L1691.24 1484.25 L1691.24 1449.69 Z\" fill=\"#000000\" fill-rule=\"evenodd\" fill-opacity=\"1\" /><path clip-path=\"url(#clip7700)\" d=\"M 0 0 M1746.93 1470.22 L1746.93 1472.31 L1727.35 1472.31 Q1727.63 1476.71 1729.99 1479.02 Q1732.37 1481.31 1736.61 1481.31 Q1739.06 1481.31 1741.35 1480.71 Q1743.67 1480.11 1745.94 1478.9 L1745.94 1482.93 Q1743.64 1483.9 1741.24 1484.41 Q1738.83 1484.92 1736.35 1484.92 Q1730.15 1484.92 1726.51 1481.31 Q1722.9 1477.7 1722.9 1471.54 Q1722.9 1465.18 1726.33 1461.45 Q1729.78 1457.7 1735.61 1457.7 Q1740.84 1457.7 1743.88 1461.08 Q1746.93 1464.44 1746.93 1470.22 M1742.67 1468.97 Q1742.63 1465.48 1740.7 1463.4 Q1738.81 1461.31 1735.66 1461.31 Q1732.09 1461.31 1729.94 1463.33 Q1727.81 1465.34 1727.49 1469 L1742.67 1468.97 Z\" fill=\"#000000\" fill-rule=\"evenodd\" fill-opacity=\"1\" /><path clip-path=\"url(#clip7700)\" d=\"M 0 0 M1770.06 1459.32 L1770.06 1463.3 Q1768.25 1462.31 1766.42 1461.82 Q1764.62 1461.31 1762.76 1461.31 Q1758.62 1461.31 1756.33 1463.95 Q1754.04 1466.57 1754.04 1471.31 Q1754.04 1476.06 1756.33 1478.7 Q1758.62 1481.31 1762.76 1481.31 Q1764.62 1481.31 1766.42 1480.83 Q1768.25 1480.32 1770.06 1479.32 L1770.06 1483.26 Q1768.27 1484.09 1766.35 1484.51 Q1764.45 1484.92 1762.3 1484.92 Q1756.44 1484.92 1753 1481.24 Q1749.55 1477.56 1749.55 1471.31 Q1749.55 1464.97 1753.02 1461.34 Q1756.51 1457.7 1762.58 1457.7 Q1764.55 1457.7 1766.42 1458.12 Q1768.3 1458.51 1770.06 1459.32 Z\" fill=\"#000000\" fill-rule=\"evenodd\" fill-opacity=\"1\" /><path clip-path=\"url(#clip7700)\" d=\"M 0 0 M1775.12 1478.37 L1780.01 1478.37 L1780.01 1484.25 L1775.12 1484.25 L1775.12 1478.37 Z\" fill=\"#000000\" fill-rule=\"evenodd\" fill-opacity=\"1\" /><path clip-path=\"url(#clip7700)\" d=\"M 0 0 M1785.89 1480.32 L1793.53 1480.32 L1793.53 1453.95 L1785.22 1455.62 L1785.22 1451.36 L1793.48 1449.69 L1798.16 1449.69 L1798.16 1480.32 L1805.8 1480.32 L1805.8 1484.25 L1785.89 1484.25 L1785.89 1480.32 Z\" fill=\"#000000\" fill-rule=\"evenodd\" fill-opacity=\"1\" /><path clip-path=\"url(#clip7700)\" d=\"M 0 0 M1811.35 1478.37 L1816.24 1478.37 L1816.24 1482.35 L1812.44 1489.76 L1809.45 1489.76 L1811.35 1482.35 L1811.35 1478.37 Z\" fill=\"#000000\" fill-rule=\"evenodd\" fill-opacity=\"1\" /><path clip-path=\"url(#clip7700)\" d=\"M 0 0 M1825.33 1480.32 L1841.65 1480.32 L1841.65 1484.25 L1819.71 1484.25 L1819.71 1480.32 Q1822.37 1477.56 1826.95 1472.93 Q1831.56 1468.28 1832.74 1466.94 Q1834.99 1464.41 1835.87 1462.68 Q1836.77 1460.92 1836.77 1459.23 Q1836.77 1456.47 1834.82 1454.74 Q1832.9 1453 1829.8 1453 Q1827.6 1453 1825.15 1453.77 Q1822.72 1454.53 1819.94 1456.08 L1819.94 1451.36 Q1822.76 1450.22 1825.22 1449.65 Q1827.67 1449.07 1829.71 1449.07 Q1835.08 1449.07 1838.27 1451.75 Q1841.47 1454.44 1841.47 1458.93 Q1841.47 1461.06 1840.66 1462.98 Q1839.87 1464.88 1837.76 1467.47 Q1837.18 1468.14 1834.08 1471.36 Q1830.98 1474.55 1825.33 1480.32 Z\" fill=\"#000000\" fill-rule=\"evenodd\" fill-opacity=\"1\" /><path clip-path=\"url(#clip7700)\" d=\"M 0 0 M1856.72 1452.77 Q1853.11 1452.77 1851.28 1456.34 Q1849.48 1459.88 1849.48 1467.01 Q1849.48 1474.11 1851.28 1477.68 Q1853.11 1481.22 1856.72 1481.22 Q1860.36 1481.22 1862.16 1477.68 Q1863.99 1474.11 1863.99 1467.01 Q1863.99 1459.88 1862.16 1456.34 Q1860.36 1452.77 1856.72 1452.77 M1856.72 1449.07 Q1862.53 1449.07 1865.59 1453.67 Q1868.67 1458.26 1868.67 1467.01 Q1868.67 1475.73 1865.59 1480.34 Q1862.53 1484.92 1856.72 1484.92 Q1850.91 1484.92 1847.83 1480.34 Q1844.78 1475.73 1844.78 1467.01 Q1844.78 1458.26 1847.83 1453.67 Q1850.91 1449.07 1856.72 1449.07 Z\" fill=\"#000000\" fill-rule=\"evenodd\" fill-opacity=\"1\" /><path clip-path=\"url(#clip7700)\" d=\"M 0 0 M1964.08 1453.53 L1964.08 1480.41 L1969.73 1480.41 Q1976.88 1480.41 1980.19 1477.17 Q1983.52 1473.93 1983.52 1466.94 Q1983.52 1459.99 1980.19 1456.78 Q1976.88 1453.53 1969.73 1453.53 L1964.08 1453.53 M1959.4 1449.69 L1969.01 1449.69 Q1979.05 1449.69 1983.75 1453.88 Q1988.45 1458.05 1988.45 1466.94 Q1988.45 1475.87 1983.73 1480.06 Q1979.01 1484.25 1969.01 1484.25 L1959.4 1484.25 L1959.4 1449.69 Z\" fill=\"#000000\" fill-rule=\"evenodd\" fill-opacity=\"1\" /><path clip-path=\"url(#clip7700)\" d=\"M 0 0 M2015.1 1470.22 L2015.1 1472.31 L1995.51 1472.31 Q1995.79 1476.71 1998.15 1479.02 Q2000.54 1481.31 2004.77 1481.31 Q2007.23 1481.31 2009.52 1480.71 Q2011.83 1480.11 2014.1 1478.9 L2014.1 1482.93 Q2011.81 1483.9 2009.4 1484.41 Q2006.99 1484.92 2004.52 1484.92 Q1998.31 1484.92 1994.68 1481.31 Q1991.07 1477.7 1991.07 1471.54 Q1991.07 1465.18 1994.49 1461.45 Q1997.94 1457.7 2003.78 1457.7 Q2009.01 1457.7 2012.04 1461.08 Q2015.1 1464.44 2015.1 1470.22 M2010.84 1468.97 Q2010.79 1465.48 2008.87 1463.4 Q2006.97 1461.31 2003.82 1461.31 Q2000.26 1461.31 1998.11 1463.33 Q1995.98 1465.34 1995.65 1469 L2010.84 1468.97 Z\" fill=\"#000000\" fill-rule=\"evenodd\" fill-opacity=\"1\" /><path clip-path=\"url(#clip7700)\" d=\"M 0 0 M2038.22 1459.32 L2038.22 1463.3 Q2036.42 1462.31 2034.59 1461.82 Q2032.78 1461.31 2030.93 1461.31 Q2026.79 1461.31 2024.49 1463.95 Q2022.2 1466.57 2022.2 1471.31 Q2022.2 1476.06 2024.49 1478.7 Q2026.79 1481.31 2030.93 1481.31 Q2032.78 1481.31 2034.59 1480.83 Q2036.42 1480.32 2038.22 1479.32 L2038.22 1483.26 Q2036.44 1484.09 2034.52 1484.51 Q2032.62 1484.92 2030.47 1484.92 Q2024.61 1484.92 2021.16 1481.24 Q2017.71 1477.56 2017.71 1471.31 Q2017.71 1464.97 2021.18 1461.34 Q2024.68 1457.7 2030.74 1457.7 Q2032.71 1457.7 2034.59 1458.12 Q2036.46 1458.51 2038.22 1459.32 Z\" fill=\"#000000\" fill-rule=\"evenodd\" fill-opacity=\"1\" /><path clip-path=\"url(#clip7700)\" d=\"M 0 0 M2043.29 1478.37 L2048.17 1478.37 L2048.17 1484.25 L2043.29 1484.25 L2043.29 1478.37 Z\" fill=\"#000000\" fill-rule=\"evenodd\" fill-opacity=\"1\" /><path clip-path=\"url(#clip7700)\" d=\"M 0 0 M2063.82 1465.11 Q2060.67 1465.11 2058.82 1467.26 Q2056.99 1469.41 2056.99 1473.16 Q2056.99 1476.89 2058.82 1479.07 Q2060.67 1481.22 2063.82 1481.22 Q2066.97 1481.22 2068.8 1479.07 Q2070.65 1476.89 2070.65 1473.16 Q2070.65 1469.41 2068.8 1467.26 Q2066.97 1465.11 2063.82 1465.11 M2073.1 1450.46 L2073.1 1454.71 Q2071.35 1453.88 2069.54 1453.44 Q2067.76 1453 2066 1453 Q2061.37 1453 2058.92 1456.13 Q2056.48 1459.25 2056.14 1465.57 Q2057.5 1463.56 2059.56 1462.49 Q2061.62 1461.4 2064.1 1461.4 Q2069.31 1461.4 2072.32 1464.58 Q2075.35 1467.72 2075.35 1473.16 Q2075.35 1478.49 2072.2 1481.71 Q2069.05 1484.92 2063.82 1484.92 Q2057.83 1484.92 2054.66 1480.34 Q2051.48 1475.73 2051.48 1467.01 Q2051.48 1458.81 2055.37 1453.95 Q2059.26 1449.07 2065.81 1449.07 Q2067.57 1449.07 2069.35 1449.41 Q2071.16 1449.76 2073.1 1450.46 Z\" fill=\"#000000\" fill-rule=\"evenodd\" fill-opacity=\"1\" /><path clip-path=\"url(#clip7700)\" d=\"M 0 0 M2080.91 1478.37 L2085.79 1478.37 L2085.79 1482.35 L2081.99 1489.76 L2079.01 1489.76 L2080.91 1482.35 L2080.91 1478.37 Z\" fill=\"#000000\" fill-rule=\"evenodd\" fill-opacity=\"1\" /><path clip-path=\"url(#clip7700)\" d=\"M 0 0 M2094.89 1480.32 L2111.21 1480.32 L2111.21 1484.25 L2089.26 1484.25 L2089.26 1480.32 Q2091.92 1477.56 2096.51 1472.93 Q2101.11 1468.28 2102.29 1466.94 Q2104.54 1464.41 2105.42 1462.68 Q2106.32 1460.92 2106.32 1459.23 Q2106.32 1456.47 2104.38 1454.74 Q2102.46 1453 2099.35 1453 Q2097.16 1453 2094.7 1453.77 Q2092.27 1454.53 2089.49 1456.08 L2089.49 1451.36 Q2092.32 1450.22 2094.77 1449.65 Q2097.23 1449.07 2099.26 1449.07 Q2104.63 1449.07 2107.83 1451.75 Q2111.02 1454.44 2111.02 1458.93 Q2111.02 1461.06 2110.21 1462.98 Q2109.42 1464.88 2107.32 1467.47 Q2106.74 1468.14 2103.64 1471.36 Q2100.54 1474.55 2094.89 1480.32 Z\" fill=\"#000000\" fill-rule=\"evenodd\" fill-opacity=\"1\" /><path clip-path=\"url(#clip7700)\" d=\"M 0 0 M2126.28 1452.77 Q2122.66 1452.77 2120.84 1456.34 Q2119.03 1459.88 2119.03 1467.01 Q2119.03 1474.11 2120.84 1477.68 Q2122.66 1481.22 2126.28 1481.22 Q2129.91 1481.22 2131.72 1477.68 Q2133.54 1474.11 2133.54 1467.01 Q2133.54 1459.88 2131.72 1456.34 Q2129.91 1452.77 2126.28 1452.77 M2126.28 1449.07 Q2132.09 1449.07 2135.14 1453.67 Q2138.22 1458.26 2138.22 1467.01 Q2138.22 1475.73 2135.14 1480.34 Q2132.09 1484.92 2126.28 1484.92 Q2120.47 1484.92 2117.39 1480.34 Q2114.33 1475.73 2114.33 1467.01 Q2114.33 1458.26 2117.39 1453.67 Q2120.47 1449.07 2126.28 1449.07 Z\" fill=\"#000000\" fill-rule=\"evenodd\" fill-opacity=\"1\" /><path clip-path=\"url(#clip7700)\" d=\"M 0 0 M2220.74 1453.53 L2220.74 1480.41 L2226.39 1480.41 Q2233.54 1480.41 2236.85 1477.17 Q2240.18 1473.93 2240.18 1466.94 Q2240.18 1459.99 2236.85 1456.78 Q2233.54 1453.53 2226.39 1453.53 L2220.74 1453.53 M2216.06 1449.69 L2225.67 1449.69 Q2235.72 1449.69 2240.41 1453.88 Q2245.11 1458.05 2245.11 1466.94 Q2245.11 1475.87 2240.39 1480.06 Q2235.67 1484.25 2225.67 1484.25 L2216.06 1484.25 L2216.06 1449.69 Z\" fill=\"#000000\" fill-rule=\"evenodd\" fill-opacity=\"1\" /><path clip-path=\"url(#clip7700)\" d=\"M 0 0 M2271.76 1470.22 L2271.76 1472.31 L2252.17 1472.31 Q2252.45 1476.71 2254.81 1479.02 Q2257.2 1481.31 2261.43 1481.31 Q2263.89 1481.31 2266.18 1480.71 Q2268.49 1480.11 2270.76 1478.9 L2270.76 1482.93 Q2268.47 1483.9 2266.06 1484.41 Q2263.65 1484.92 2261.18 1484.92 Q2254.97 1484.92 2251.34 1481.31 Q2247.73 1477.7 2247.73 1471.54 Q2247.73 1465.18 2251.16 1461.45 Q2254.6 1457.7 2260.44 1457.7 Q2265.67 1457.7 2268.7 1461.08 Q2271.76 1464.44 2271.76 1470.22 M2267.5 1468.97 Q2267.45 1465.48 2265.53 1463.4 Q2263.63 1461.31 2260.48 1461.31 Q2256.92 1461.31 2254.77 1463.33 Q2252.64 1465.34 2252.31 1469 L2267.5 1468.97 Z\" fill=\"#000000\" fill-rule=\"evenodd\" fill-opacity=\"1\" /><path clip-path=\"url(#clip7700)\" d=\"M 0 0 M2294.88 1459.32 L2294.88 1463.3 Q2293.08 1462.31 2291.25 1461.82 Q2289.44 1461.31 2287.59 1461.31 Q2283.45 1461.31 2281.15 1463.95 Q2278.86 1466.57 2278.86 1471.31 Q2278.86 1476.06 2281.15 1478.7 Q2283.45 1481.31 2287.59 1481.31 Q2289.44 1481.31 2291.25 1480.83 Q2293.08 1480.32 2294.88 1479.32 L2294.88 1483.26 Q2293.1 1484.09 2291.18 1484.51 Q2289.28 1484.92 2287.13 1484.92 Q2281.27 1484.92 2277.82 1481.24 Q2274.37 1477.56 2274.37 1471.31 Q2274.37 1464.97 2277.84 1461.34 Q2281.34 1457.7 2287.4 1457.7 Q2289.37 1457.7 2291.25 1458.12 Q2293.12 1458.51 2294.88 1459.32 Z\" fill=\"#000000\" fill-rule=\"evenodd\" fill-opacity=\"1\" /><path clip-path=\"url(#clip7700)\" d=\"M 0 0 M2299.95 1478.37 L2304.84 1478.37 L2304.84 1484.25 L2299.95 1484.25 L2299.95 1478.37 Z\" fill=\"#000000\" fill-rule=\"evenodd\" fill-opacity=\"1\" /><path clip-path=\"url(#clip7700)\" d=\"M 0 0 M2310.71 1480.32 L2318.35 1480.32 L2318.35 1453.95 L2310.04 1455.62 L2310.04 1451.36 L2318.31 1449.69 L2322.98 1449.69 L2322.98 1480.32 L2330.62 1480.32 L2330.62 1484.25 L2310.71 1484.25 L2310.71 1480.32 Z\" fill=\"#000000\" fill-rule=\"evenodd\" fill-opacity=\"1\" /><path clip-path=\"url(#clip7700)\" d=\"M 0 0 M2336.5 1480.32 L2344.14 1480.32 L2344.14 1453.95 L2335.83 1455.62 L2335.83 1451.36 L2344.09 1449.69 L2348.77 1449.69 L2348.77 1480.32 L2356.41 1480.32 L2356.41 1484.25 L2336.5 1484.25 L2336.5 1480.32 Z\" fill=\"#000000\" fill-rule=\"evenodd\" fill-opacity=\"1\" /><path clip-path=\"url(#clip7700)\" d=\"M 0 0 M2361.96 1478.37 L2366.85 1478.37 L2366.85 1482.35 L2363.05 1489.76 L2360.07 1489.76 L2361.96 1482.35 L2361.96 1478.37 Z\" fill=\"#000000\" fill-rule=\"evenodd\" fill-opacity=\"1\" /><path clip-path=\"url(#clip7700)\" d=\"M 0 0 M2375.95 1480.32 L2392.27 1480.32 L2392.27 1484.25 L2370.32 1484.25 L2370.32 1480.32 Q2372.98 1477.56 2377.57 1472.93 Q2382.17 1468.28 2383.35 1466.94 Q2385.6 1464.41 2386.48 1462.68 Q2387.38 1460.92 2387.38 1459.23 Q2387.38 1456.47 2385.44 1454.74 Q2383.52 1453 2380.41 1453 Q2378.21 1453 2375.76 1453.77 Q2373.33 1454.53 2370.55 1456.08 L2370.55 1451.36 Q2373.38 1450.22 2375.83 1449.65 Q2378.28 1449.07 2380.32 1449.07 Q2385.69 1449.07 2388.89 1451.75 Q2392.08 1454.44 2392.08 1458.93 Q2392.08 1461.06 2391.27 1462.98 Q2390.48 1464.88 2388.38 1467.47 Q2387.8 1468.14 2384.7 1471.36 Q2381.59 1474.55 2375.95 1480.32 Z\" fill=\"#000000\" fill-rule=\"evenodd\" fill-opacity=\"1\" /><path clip-path=\"url(#clip7700)\" d=\"M 0 0 M2407.33 1452.77 Q2403.72 1452.77 2401.89 1456.34 Q2400.09 1459.88 2400.09 1467.01 Q2400.09 1474.11 2401.89 1477.68 Q2403.72 1481.22 2407.33 1481.22 Q2410.97 1481.22 2412.77 1477.68 Q2414.6 1474.11 2414.6 1467.01 Q2414.6 1459.88 2412.77 1456.34 Q2410.97 1452.77 2407.33 1452.77 M2407.33 1449.07 Q2413.14 1449.07 2416.2 1453.67 Q2419.28 1458.26 2419.28 1467.01 Q2419.28 1475.73 2416.2 1480.34 Q2413.14 1484.92 2407.33 1484.92 Q2401.52 1484.92 2398.45 1480.34 Q2395.39 1475.73 2395.39 1467.01 Q2395.39 1458.26 2398.45 1453.67 Q2401.52 1449.07 2407.33 1449.07 Z\" fill=\"#000000\" fill-rule=\"evenodd\" fill-opacity=\"1\" /><path clip-path=\"url(#clip7700)\" d=\"M 0 0 M2435.71 1453.53 L2435.71 1480.41 L2441.36 1480.41 Q2448.51 1480.41 2451.82 1477.17 Q2455.15 1473.93 2455.15 1466.94 Q2455.15 1459.99 2451.82 1456.78 Q2448.51 1453.53 2441.36 1453.53 L2435.71 1453.53 M2431.03 1449.69 L2440.64 1449.69 Q2450.69 1449.69 2455.39 1453.88 Q2460.09 1458.05 2460.09 1466.94 Q2460.09 1475.87 2455.36 1480.06 Q2450.64 1484.25 2440.64 1484.25 L2431.03 1484.25 L2431.03 1449.69 Z\" fill=\"#000000\" fill-rule=\"evenodd\" fill-opacity=\"1\" /><path clip-path=\"url(#clip7700)\" d=\"M 0 0 M2486.73 1470.22 L2486.73 1472.31 L2467.15 1472.31 Q2467.42 1476.71 2469.78 1479.02 Q2472.17 1481.31 2476.4 1481.31 Q2478.86 1481.31 2481.15 1480.71 Q2483.46 1480.11 2485.73 1478.9 L2485.73 1482.93 Q2483.44 1483.9 2481.03 1484.41 Q2478.63 1484.92 2476.15 1484.92 Q2469.95 1484.92 2466.31 1481.31 Q2462.7 1477.7 2462.7 1471.54 Q2462.7 1465.18 2466.13 1461.45 Q2469.58 1457.7 2475.41 1457.7 Q2480.64 1457.7 2483.67 1461.08 Q2486.73 1464.44 2486.73 1470.22 M2482.47 1468.97 Q2482.42 1465.48 2480.5 1463.4 Q2478.6 1461.31 2475.46 1461.31 Q2471.89 1461.31 2469.74 1463.33 Q2467.61 1465.34 2467.28 1469 L2482.47 1468.97 Z\" fill=\"#000000\" fill-rule=\"evenodd\" fill-opacity=\"1\" /><path clip-path=\"url(#clip7700)\" d=\"M 0 0 M2509.85 1459.32 L2509.85 1463.3 Q2508.05 1462.31 2506.22 1461.82 Q2504.41 1461.31 2502.56 1461.31 Q2498.42 1461.31 2496.13 1463.95 Q2493.84 1466.57 2493.84 1471.31 Q2493.84 1476.06 2496.13 1478.7 Q2498.42 1481.31 2502.56 1481.31 Q2504.41 1481.31 2506.22 1480.83 Q2508.05 1480.32 2509.85 1479.32 L2509.85 1483.26 Q2508.07 1484.09 2506.15 1484.51 Q2504.25 1484.92 2502.1 1484.92 Q2496.24 1484.92 2492.79 1481.24 Q2489.34 1477.56 2489.34 1471.31 Q2489.34 1464.97 2492.82 1461.34 Q2496.31 1457.7 2502.38 1457.7 Q2504.34 1457.7 2506.22 1458.12 Q2508.09 1458.51 2509.85 1459.32 Z\" fill=\"#000000\" fill-rule=\"evenodd\" fill-opacity=\"1\" /><path clip-path=\"url(#clip7700)\" d=\"M 0 0 M2514.92 1478.37 L2519.81 1478.37 L2519.81 1484.25 L2514.92 1484.25 L2514.92 1478.37 Z\" fill=\"#000000\" fill-rule=\"evenodd\" fill-opacity=\"1\" /><path clip-path=\"url(#clip7700)\" d=\"M 0 0 M2525.69 1480.32 L2533.33 1480.32 L2533.33 1453.95 L2525.02 1455.62 L2525.02 1451.36 L2533.28 1449.69 L2537.96 1449.69 L2537.96 1480.32 L2545.59 1480.32 L2545.59 1484.25 L2525.69 1484.25 L2525.69 1480.32 Z\" fill=\"#000000\" fill-rule=\"evenodd\" fill-opacity=\"1\" /><path clip-path=\"url(#clip7700)\" d=\"M 0 0 M2550.71 1449.69 L2569.07 1449.69 L2569.07 1453.63 L2554.99 1453.63 L2554.99 1462.1 Q2556.01 1461.75 2557.03 1461.59 Q2558.05 1461.4 2559.07 1461.4 Q2564.85 1461.4 2568.23 1464.58 Q2571.61 1467.75 2571.61 1473.16 Q2571.61 1478.74 2568.14 1481.84 Q2564.67 1484.92 2558.35 1484.92 Q2556.17 1484.92 2553.9 1484.55 Q2551.66 1484.18 2549.25 1483.44 L2549.25 1478.74 Q2551.33 1479.88 2553.56 1480.43 Q2555.78 1480.99 2558.26 1480.99 Q2562.26 1480.99 2564.6 1478.88 Q2566.94 1476.78 2566.94 1473.16 Q2566.94 1469.55 2564.6 1467.45 Q2562.26 1465.34 2558.26 1465.34 Q2556.38 1465.34 2554.51 1465.76 Q2552.65 1466.17 2550.71 1467.05 L2550.71 1449.69 Z\" fill=\"#000000\" fill-rule=\"evenodd\" fill-opacity=\"1\" /><path clip-path=\"url(#clip7700)\" d=\"M 0 0 M2577.17 1478.37 L2582.05 1478.37 L2582.05 1482.35 L2578.26 1489.76 L2575.27 1489.76 L2577.17 1482.35 L2577.17 1478.37 Z\" fill=\"#000000\" fill-rule=\"evenodd\" fill-opacity=\"1\" /><path clip-path=\"url(#clip7700)\" d=\"M 0 0 M2591.15 1480.32 L2607.47 1480.32 L2607.47 1484.25 L2585.52 1484.25 L2585.52 1480.32 Q2588.19 1477.56 2592.77 1472.93 Q2597.38 1468.28 2598.56 1466.94 Q2600.8 1464.41 2601.68 1462.68 Q2602.58 1460.92 2602.58 1459.23 Q2602.58 1456.47 2600.64 1454.74 Q2598.72 1453 2595.62 1453 Q2593.42 1453 2590.96 1453.77 Q2588.53 1454.53 2585.76 1456.08 L2585.76 1451.36 Q2588.58 1450.22 2591.03 1449.65 Q2593.49 1449.07 2595.52 1449.07 Q2600.89 1449.07 2604.09 1451.75 Q2607.28 1454.44 2607.28 1458.93 Q2607.28 1461.06 2606.47 1462.98 Q2605.69 1464.88 2603.58 1467.47 Q2603 1468.14 2599.9 1471.36 Q2596.8 1474.55 2591.15 1480.32 Z\" fill=\"#000000\" fill-rule=\"evenodd\" fill-opacity=\"1\" /><path clip-path=\"url(#clip7700)\" d=\"M 0 0 M2622.54 1452.77 Q2618.93 1452.77 2617.1 1456.34 Q2615.29 1459.88 2615.29 1467.01 Q2615.29 1474.11 2617.1 1477.68 Q2618.93 1481.22 2622.54 1481.22 Q2626.17 1481.22 2627.98 1477.68 Q2629.81 1474.11 2629.81 1467.01 Q2629.81 1459.88 2627.98 1456.34 Q2626.17 1452.77 2622.54 1452.77 M2622.54 1449.07 Q2628.35 1449.07 2631.4 1453.67 Q2634.48 1458.26 2634.48 1467.01 Q2634.48 1475.73 2631.4 1480.34 Q2628.35 1484.92 2622.54 1484.92 Q2616.73 1484.92 2613.65 1480.34 Q2610.59 1475.73 2610.59 1467.01 Q2610.59 1458.26 2613.65 1453.67 Q2616.73 1449.07 2622.54 1449.07 Z\" fill=\"#000000\" fill-rule=\"evenodd\" fill-opacity=\"1\" /><path clip-path=\"url(#clip7700)\" d=\"M 0 0 M2704.26 1453.53 L2704.26 1480.41 L2709.91 1480.41 Q2717.06 1480.41 2720.37 1477.17 Q2723.7 1473.93 2723.7 1466.94 Q2723.7 1459.99 2720.37 1456.78 Q2717.06 1453.53 2709.91 1453.53 L2704.26 1453.53 M2699.58 1449.69 L2709.19 1449.69 Q2719.23 1449.69 2723.93 1453.88 Q2728.63 1458.05 2728.63 1466.94 Q2728.63 1475.87 2723.91 1480.06 Q2719.19 1484.25 2709.19 1484.25 L2699.58 1484.25 L2699.58 1449.69 Z\" fill=\"#000000\" fill-rule=\"evenodd\" fill-opacity=\"1\" /><path clip-path=\"url(#clip7700)\" d=\"M 0 0 M2755.28 1470.22 L2755.28 1472.31 L2735.69 1472.31 Q2735.97 1476.71 2738.33 1479.02 Q2740.72 1481.31 2744.95 1481.31 Q2747.41 1481.31 2749.7 1480.71 Q2752.01 1480.11 2754.28 1478.9 L2754.28 1482.93 Q2751.99 1483.9 2749.58 1484.41 Q2747.17 1484.92 2744.7 1484.92 Q2738.49 1484.92 2734.86 1481.31 Q2731.25 1477.7 2731.25 1471.54 Q2731.25 1465.18 2734.67 1461.45 Q2738.12 1457.7 2743.96 1457.7 Q2749.19 1457.7 2752.22 1461.08 Q2755.28 1464.44 2755.28 1470.22 M2751.02 1468.97 Q2750.97 1465.48 2749.05 1463.4 Q2747.15 1461.31 2744 1461.31 Q2740.44 1461.31 2738.29 1463.33 Q2736.16 1465.34 2735.83 1469 L2751.02 1468.97 Z\" fill=\"#000000\" fill-rule=\"evenodd\" fill-opacity=\"1\" /><path clip-path=\"url(#clip7700)\" d=\"M 0 0 M2778.4 1459.32 L2778.4 1463.3 Q2776.6 1462.31 2774.77 1461.82 Q2772.96 1461.31 2771.11 1461.31 Q2766.97 1461.31 2764.67 1463.95 Q2762.38 1466.57 2762.38 1471.31 Q2762.38 1476.06 2764.67 1478.7 Q2766.97 1481.31 2771.11 1481.31 Q2772.96 1481.31 2774.77 1480.83 Q2776.6 1480.32 2778.4 1479.32 L2778.4 1483.26 Q2776.62 1484.09 2774.7 1484.51 Q2772.8 1484.92 2770.65 1484.92 Q2764.79 1484.92 2761.34 1481.24 Q2757.89 1477.56 2757.89 1471.31 Q2757.89 1464.97 2761.36 1461.34 Q2764.86 1457.7 2770.92 1457.7 Q2772.89 1457.7 2774.77 1458.12 Q2776.64 1458.51 2778.4 1459.32 Z\" fill=\"#000000\" fill-rule=\"evenodd\" fill-opacity=\"1\" /><path clip-path=\"url(#clip7700)\" d=\"M 0 0 M2783.47 1478.37 L2788.35 1478.37 L2788.35 1484.25 L2783.47 1484.25 L2783.47 1478.37 Z\" fill=\"#000000\" fill-rule=\"evenodd\" fill-opacity=\"1\" /><path clip-path=\"url(#clip7700)\" d=\"M 0 0 M2797.45 1480.32 L2813.77 1480.32 L2813.77 1484.25 L2791.83 1484.25 L2791.83 1480.32 Q2794.49 1477.56 2799.07 1472.93 Q2803.68 1468.28 2804.86 1466.94 Q2807.1 1464.41 2807.98 1462.68 Q2808.89 1460.92 2808.89 1459.23 Q2808.89 1456.47 2806.94 1454.74 Q2805.02 1453 2801.92 1453 Q2799.72 1453 2797.27 1453.77 Q2794.84 1454.53 2792.06 1456.08 L2792.06 1451.36 Q2794.88 1450.22 2797.34 1449.65 Q2799.79 1449.07 2801.83 1449.07 Q2807.2 1449.07 2810.39 1451.75 Q2813.59 1454.44 2813.59 1458.93 Q2813.59 1461.06 2812.78 1462.98 Q2811.99 1464.88 2809.88 1467.47 Q2809.3 1468.14 2806.2 1471.36 Q2803.1 1474.55 2797.45 1480.32 Z\" fill=\"#000000\" fill-rule=\"evenodd\" fill-opacity=\"1\" /><path clip-path=\"url(#clip7700)\" d=\"M 0 0 M2828.84 1452.77 Q2825.23 1452.77 2823.4 1456.34 Q2821.6 1459.88 2821.6 1467.01 Q2821.6 1474.11 2823.4 1477.68 Q2825.23 1481.22 2828.84 1481.22 Q2832.47 1481.22 2834.28 1477.68 Q2836.11 1474.11 2836.11 1467.01 Q2836.11 1459.88 2834.28 1456.34 Q2832.47 1452.77 2828.84 1452.77 M2828.84 1449.07 Q2834.65 1449.07 2837.71 1453.67 Q2840.78 1458.26 2840.78 1467.01 Q2840.78 1475.73 2837.71 1480.34 Q2834.65 1484.92 2828.84 1484.92 Q2823.03 1484.92 2819.95 1480.34 Q2816.9 1475.73 2816.9 1467.01 Q2816.9 1458.26 2819.95 1453.67 Q2823.03 1449.07 2828.84 1449.07 Z\" fill=\"#000000\" fill-rule=\"evenodd\" fill-opacity=\"1\" /><path clip-path=\"url(#clip7700)\" d=\"M 0 0 M2846.34 1478.37 L2851.22 1478.37 L2851.22 1482.35 L2847.43 1489.76 L2844.44 1489.76 L2846.34 1482.35 L2846.34 1478.37 Z\" fill=\"#000000\" fill-rule=\"evenodd\" fill-opacity=\"1\" /><path clip-path=\"url(#clip7700)\" d=\"M 0 0 M2860.32 1480.32 L2876.64 1480.32 L2876.64 1484.25 L2854.7 1484.25 L2854.7 1480.32 Q2857.36 1477.56 2861.94 1472.93 Q2866.55 1468.28 2867.73 1466.94 Q2869.97 1464.41 2870.85 1462.68 Q2871.76 1460.92 2871.76 1459.23 Q2871.76 1456.47 2869.81 1454.74 Q2867.89 1453 2864.79 1453 Q2862.59 1453 2860.14 1453.77 Q2857.71 1454.53 2854.93 1456.08 L2854.93 1451.36 Q2857.75 1450.22 2860.21 1449.65 Q2862.66 1449.07 2864.7 1449.07 Q2870.07 1449.07 2873.26 1451.75 Q2876.46 1454.44 2876.46 1458.93 Q2876.46 1461.06 2875.65 1462.98 Q2874.86 1464.88 2872.75 1467.47 Q2872.17 1468.14 2869.07 1471.36 Q2865.97 1474.55 2860.32 1480.32 Z\" fill=\"#000000\" fill-rule=\"evenodd\" fill-opacity=\"1\" /><path clip-path=\"url(#clip7700)\" d=\"M 0 0 M2891.71 1452.77 Q2888.1 1452.77 2886.27 1456.34 Q2884.47 1459.88 2884.47 1467.01 Q2884.47 1474.11 2886.27 1477.68 Q2888.1 1481.22 2891.71 1481.22 Q2895.34 1481.22 2897.15 1477.68 Q2898.98 1474.11 2898.98 1467.01 Q2898.98 1459.88 2897.15 1456.34 Q2895.34 1452.77 2891.71 1452.77 M2891.71 1449.07 Q2897.52 1449.07 2900.58 1453.67 Q2903.65 1458.26 2903.65 1467.01 Q2903.65 1475.73 2900.58 1480.34 Q2897.52 1484.92 2891.71 1484.92 Q2885.9 1484.92 2882.82 1480.34 Q2879.77 1475.73 2879.77 1467.01 Q2879.77 1458.26 2882.82 1453.67 Q2885.9 1449.07 2891.71 1449.07 Z\" fill=\"#000000\" fill-rule=\"evenodd\" fill-opacity=\"1\" /><path clip-path=\"url(#clip7700)\" d=\"M 0 0 M2919.1 1453.53 L2919.1 1480.41 L2924.75 1480.41 Q2931.9 1480.41 2935.21 1477.17 Q2938.55 1473.93 2938.55 1466.94 Q2938.55 1459.99 2935.21 1456.78 Q2931.9 1453.53 2924.75 1453.53 L2919.1 1453.53 M2914.43 1449.69 L2924.03 1449.69 Q2934.08 1449.69 2938.78 1453.88 Q2943.48 1458.05 2943.48 1466.94 Q2943.48 1475.87 2938.76 1480.06 Q2934.03 1484.25 2924.03 1484.25 L2914.43 1484.25 L2914.43 1449.69 Z\" fill=\"#000000\" fill-rule=\"evenodd\" fill-opacity=\"1\" /><path clip-path=\"url(#clip7700)\" d=\"M 0 0 M2970.12 1470.22 L2970.12 1472.31 L2950.54 1472.31 Q2950.82 1476.71 2953.18 1479.02 Q2955.56 1481.31 2959.8 1481.31 Q2962.25 1481.31 2964.54 1480.71 Q2966.86 1480.11 2969.13 1478.9 L2969.13 1482.93 Q2966.83 1483.9 2964.43 1484.41 Q2962.02 1484.92 2959.54 1484.92 Q2953.34 1484.92 2949.7 1481.31 Q2946.09 1477.7 2946.09 1471.54 Q2946.09 1465.18 2949.52 1461.45 Q2952.97 1457.7 2958.8 1457.7 Q2964.03 1457.7 2967.07 1461.08 Q2970.12 1464.44 2970.12 1470.22 M2965.86 1468.97 Q2965.82 1465.48 2963.89 1463.4 Q2962 1461.31 2958.85 1461.31 Q2955.28 1461.31 2953.13 1463.33 Q2951 1465.34 2950.68 1469 L2965.86 1468.97 Z\" fill=\"#000000\" fill-rule=\"evenodd\" fill-opacity=\"1\" /><path clip-path=\"url(#clip7700)\" d=\"M 0 0 M2993.25 1459.32 L2993.25 1463.3 Q2991.44 1462.31 2989.61 1461.82 Q2987.81 1461.31 2985.95 1461.31 Q2981.81 1461.31 2979.52 1463.95 Q2977.23 1466.57 2977.23 1471.31 Q2977.23 1476.06 2979.52 1478.7 Q2981.81 1481.31 2985.95 1481.31 Q2987.81 1481.31 2989.61 1480.83 Q2991.44 1480.32 2993.25 1479.32 L2993.25 1483.26 Q2991.46 1484.09 2989.54 1484.51 Q2987.64 1484.92 2985.49 1484.92 Q2979.63 1484.92 2976.19 1481.24 Q2972.74 1477.56 2972.74 1471.31 Q2972.74 1464.97 2976.21 1461.34 Q2979.7 1457.7 2985.77 1457.7 Q2987.74 1457.7 2989.61 1458.12 Q2991.49 1458.51 2993.25 1459.32 Z\" fill=\"#000000\" fill-rule=\"evenodd\" fill-opacity=\"1\" /><path clip-path=\"url(#clip7700)\" d=\"M 0 0 M2998.32 1478.37 L3003.2 1478.37 L3003.2 1484.25 L2998.32 1484.25 L2998.32 1478.37 Z\" fill=\"#000000\" fill-rule=\"evenodd\" fill-opacity=\"1\" /><path clip-path=\"url(#clip7700)\" d=\"M 0 0 M3012.3 1480.32 L3028.62 1480.32 L3028.62 1484.25 L3006.67 1484.25 L3006.67 1480.32 Q3009.33 1477.56 3013.92 1472.93 Q3018.52 1468.28 3019.7 1466.94 Q3021.95 1464.41 3022.83 1462.68 Q3023.73 1460.92 3023.73 1459.23 Q3023.73 1456.47 3021.79 1454.74 Q3019.87 1453 3016.76 1453 Q3014.57 1453 3012.11 1453.77 Q3009.68 1454.53 3006.9 1456.08 L3006.9 1451.36 Q3009.73 1450.22 3012.18 1449.65 Q3014.63 1449.07 3016.67 1449.07 Q3022.04 1449.07 3025.24 1451.75 Q3028.43 1454.44 3028.43 1458.93 Q3028.43 1461.06 3027.62 1462.98 Q3026.83 1464.88 3024.73 1467.47 Q3024.15 1468.14 3021.05 1471.36 Q3017.94 1474.55 3012.3 1480.32 Z\" fill=\"#000000\" fill-rule=\"evenodd\" fill-opacity=\"1\" /><path clip-path=\"url(#clip7700)\" d=\"M 0 0 M3046.53 1453.77 L3034.73 1472.21 L3046.53 1472.21 L3046.53 1453.77 M3045.31 1449.69 L3051.19 1449.69 L3051.19 1472.21 L3056.12 1472.21 L3056.12 1476.1 L3051.19 1476.1 L3051.19 1484.25 L3046.53 1484.25 L3046.53 1476.1 L3030.93 1476.1 L3030.93 1471.59 L3045.31 1449.69 Z\" fill=\"#000000\" fill-rule=\"evenodd\" fill-opacity=\"1\" /><path clip-path=\"url(#clip7700)\" d=\"M 0 0 M3061.67 1478.37 L3066.56 1478.37 L3066.56 1482.35 L3062.76 1489.76 L3059.77 1489.76 L3061.67 1482.35 L3061.67 1478.37 Z\" fill=\"#000000\" fill-rule=\"evenodd\" fill-opacity=\"1\" /><path clip-path=\"url(#clip7700)\" d=\"M 0 0 M3075.65 1480.32 L3091.97 1480.32 L3091.97 1484.25 L3070.03 1484.25 L3070.03 1480.32 Q3072.69 1477.56 3077.27 1472.93 Q3081.88 1468.28 3083.06 1466.94 Q3085.31 1464.41 3086.19 1462.68 Q3087.09 1460.92 3087.09 1459.23 Q3087.09 1456.47 3085.14 1454.74 Q3083.22 1453 3080.12 1453 Q3077.92 1453 3075.47 1453.77 Q3073.04 1454.53 3070.26 1456.08 L3070.26 1451.36 Q3073.08 1450.22 3075.54 1449.65 Q3077.99 1449.07 3080.03 1449.07 Q3085.4 1449.07 3088.59 1451.75 Q3091.79 1454.44 3091.79 1458.93 Q3091.79 1461.06 3090.98 1462.98 Q3090.19 1464.88 3088.08 1467.47 Q3087.5 1468.14 3084.4 1471.36 Q3081.3 1474.55 3075.65 1480.32 Z\" fill=\"#000000\" fill-rule=\"evenodd\" fill-opacity=\"1\" /><path clip-path=\"url(#clip7700)\" d=\"M 0 0 M3107.04 1452.77 Q3103.43 1452.77 3101.6 1456.34 Q3099.8 1459.88 3099.8 1467.01 Q3099.8 1474.11 3101.6 1477.68 Q3103.43 1481.22 3107.04 1481.22 Q3110.68 1481.22 3112.48 1477.68 Q3114.31 1474.11 3114.31 1467.01 Q3114.31 1459.88 3112.48 1456.34 Q3110.68 1452.77 3107.04 1452.77 M3107.04 1449.07 Q3112.85 1449.07 3115.91 1453.67 Q3118.99 1458.26 3118.99 1467.01 Q3118.99 1475.73 3115.91 1480.34 Q3112.85 1484.92 3107.04 1484.92 Q3101.23 1484.92 3098.15 1480.34 Q3095.1 1475.73 3095.1 1467.01 Q3095.1 1458.26 3098.15 1453.67 Q3101.23 1449.07 3107.04 1449.07 Z\" fill=\"#000000\" fill-rule=\"evenodd\" fill-opacity=\"1\" /><path clip-path=\"url(#clip7700)\" d=\"M 0 0 M3188.3 1453.53 L3188.3 1480.41 L3193.95 1480.41 Q3201.1 1480.41 3204.41 1477.17 Q3207.74 1473.93 3207.74 1466.94 Q3207.74 1459.99 3204.41 1456.78 Q3201.1 1453.53 3193.95 1453.53 L3188.3 1453.53 M3183.62 1449.69 L3193.23 1449.69 Q3203.27 1449.69 3207.97 1453.88 Q3212.67 1458.05 3212.67 1466.94 Q3212.67 1475.87 3207.95 1480.06 Q3203.23 1484.25 3193.23 1484.25 L3183.62 1484.25 L3183.62 1449.69 Z\" fill=\"#000000\" fill-rule=\"evenodd\" fill-opacity=\"1\" /><path clip-path=\"url(#clip7700)\" d=\"M 0 0 M3239.32 1470.22 L3239.32 1472.31 L3219.73 1472.31 Q3220.01 1476.71 3222.37 1479.02 Q3224.76 1481.31 3228.99 1481.31 Q3231.45 1481.31 3233.74 1480.71 Q3236.05 1480.11 3238.32 1478.9 L3238.32 1482.93 Q3236.03 1483.9 3233.62 1484.41 Q3231.21 1484.92 3228.74 1484.92 Q3222.53 1484.92 3218.9 1481.31 Q3215.29 1477.7 3215.29 1471.54 Q3215.29 1465.18 3218.71 1461.45 Q3222.16 1457.7 3228 1457.7 Q3233.23 1457.7 3236.26 1461.08 Q3239.32 1464.44 3239.32 1470.22 M3235.06 1468.97 Q3235.01 1465.48 3233.09 1463.4 Q3231.19 1461.31 3228.04 1461.31 Q3224.48 1461.31 3222.33 1463.33 Q3220.2 1465.34 3219.87 1469 L3235.06 1468.97 Z\" fill=\"#000000\" fill-rule=\"evenodd\" fill-opacity=\"1\" /><path clip-path=\"url(#clip7700)\" d=\"M 0 0 M3262.44 1459.32 L3262.44 1463.3 Q3260.64 1462.31 3258.81 1461.82 Q3257 1461.31 3255.15 1461.31 Q3251.01 1461.31 3248.71 1463.95 Q3246.42 1466.57 3246.42 1471.31 Q3246.42 1476.06 3248.71 1478.7 Q3251.01 1481.31 3255.15 1481.31 Q3257 1481.31 3258.81 1480.83 Q3260.64 1480.32 3262.44 1479.32 L3262.44 1483.26 Q3260.66 1484.09 3258.74 1484.51 Q3256.84 1484.92 3254.69 1484.92 Q3248.83 1484.92 3245.38 1481.24 Q3241.93 1477.56 3241.93 1471.31 Q3241.93 1464.97 3245.4 1461.34 Q3248.9 1457.7 3254.96 1457.7 Q3256.93 1457.7 3258.81 1458.12 Q3260.68 1458.51 3262.44 1459.32 Z\" fill=\"#000000\" fill-rule=\"evenodd\" fill-opacity=\"1\" /><path clip-path=\"url(#clip7700)\" d=\"M 0 0 M3267.51 1478.37 L3272.39 1478.37 L3272.39 1484.25 L3267.51 1484.25 L3267.51 1478.37 Z\" fill=\"#000000\" fill-rule=\"evenodd\" fill-opacity=\"1\" /><path clip-path=\"url(#clip7700)\" d=\"M 0 0 M3281.49 1480.32 L3297.81 1480.32 L3297.81 1484.25 L3275.87 1484.25 L3275.87 1480.32 Q3278.53 1477.56 3283.11 1472.93 Q3287.72 1468.28 3288.9 1466.94 Q3291.14 1464.41 3292.02 1462.68 Q3292.93 1460.92 3292.93 1459.23 Q3292.93 1456.47 3290.98 1454.74 Q3289.06 1453 3285.96 1453 Q3283.76 1453 3281.31 1453.77 Q3278.88 1454.53 3276.1 1456.08 L3276.1 1451.36 Q3278.92 1450.22 3281.38 1449.65 Q3283.83 1449.07 3285.87 1449.07 Q3291.24 1449.07 3294.43 1451.75 Q3297.63 1454.44 3297.63 1458.93 Q3297.63 1461.06 3296.82 1462.98 Q3296.03 1464.88 3293.92 1467.47 Q3293.34 1468.14 3290.24 1471.36 Q3287.14 1474.55 3281.49 1480.32 Z\" fill=\"#000000\" fill-rule=\"evenodd\" fill-opacity=\"1\" /><path clip-path=\"url(#clip7700)\" d=\"M 0 0 M3303.02 1483.53 L3303.02 1479.28 Q3304.78 1480.11 3306.58 1480.55 Q3308.39 1480.99 3310.13 1480.99 Q3314.76 1480.99 3317.19 1477.89 Q3319.64 1474.76 3319.99 1468.42 Q3318.64 1470.41 3316.58 1471.47 Q3314.52 1472.54 3312.02 1472.54 Q3306.84 1472.54 3303.81 1469.41 Q3300.8 1466.27 3300.8 1460.83 Q3300.8 1455.5 3303.95 1452.28 Q3307.09 1449.07 3312.33 1449.07 Q3318.32 1449.07 3321.47 1453.67 Q3324.64 1458.26 3324.64 1467.01 Q3324.64 1475.18 3320.75 1480.06 Q3316.89 1484.92 3310.33 1484.92 Q3308.58 1484.92 3306.77 1484.58 Q3304.96 1484.23 3303.02 1483.53 M3312.33 1468.88 Q3315.47 1468.88 3317.3 1466.73 Q3319.15 1464.58 3319.15 1460.83 Q3319.15 1457.1 3317.3 1454.95 Q3315.47 1452.77 3312.33 1452.77 Q3309.18 1452.77 3307.33 1454.95 Q3305.5 1457.1 3305.5 1460.83 Q3305.5 1464.58 3307.33 1466.73 Q3309.18 1468.88 3312.33 1468.88 Z\" fill=\"#000000\" fill-rule=\"evenodd\" fill-opacity=\"1\" /><path clip-path=\"url(#clip7700)\" d=\"M 0 0 M3330.2 1478.37 L3335.08 1478.37 L3335.08 1482.35 L3331.28 1489.76 L3328.3 1489.76 L3330.2 1482.35 L3330.2 1478.37 Z\" fill=\"#000000\" fill-rule=\"evenodd\" fill-opacity=\"1\" /><path clip-path=\"url(#clip7700)\" d=\"M 0 0 M3344.18 1480.32 L3360.5 1480.32 L3360.5 1484.25 L3338.55 1484.25 L3338.55 1480.32 Q3341.21 1477.56 3345.8 1472.93 Q3350.4 1468.28 3351.58 1466.94 Q3353.83 1464.41 3354.71 1462.68 Q3355.61 1460.92 3355.61 1459.23 Q3355.61 1456.47 3353.67 1454.74 Q3351.75 1453 3348.64 1453 Q3346.45 1453 3343.99 1453.77 Q3341.56 1454.53 3338.78 1456.08 L3338.78 1451.36 Q3341.61 1450.22 3344.06 1449.65 Q3346.51 1449.07 3348.55 1449.07 Q3353.92 1449.07 3357.12 1451.75 Q3360.31 1454.44 3360.31 1458.93 Q3360.31 1461.06 3359.5 1462.98 Q3358.71 1464.88 3356.61 1467.47 Q3356.03 1468.14 3352.93 1471.36 Q3349.83 1474.55 3344.18 1480.32 Z\" fill=\"#000000\" fill-rule=\"evenodd\" fill-opacity=\"1\" /><path clip-path=\"url(#clip7700)\" d=\"M 0 0 M3375.57 1452.77 Q3371.95 1452.77 3370.13 1456.34 Q3368.32 1459.88 3368.32 1467.01 Q3368.32 1474.11 3370.13 1477.68 Q3371.95 1481.22 3375.57 1481.22 Q3379.2 1481.22 3381.01 1477.68 Q3382.83 1474.11 3382.83 1467.01 Q3382.83 1459.88 3381.01 1456.34 Q3379.2 1452.77 3375.57 1452.77 M3375.57 1449.07 Q3381.38 1449.07 3384.43 1453.67 Q3387.51 1458.26 3387.51 1467.01 Q3387.51 1475.73 3384.43 1480.34 Q3381.38 1484.92 3375.57 1484.92 Q3369.76 1484.92 3366.68 1480.34 Q3363.62 1475.73 3363.62 1467.01 Q3363.62 1458.26 3366.68 1453.67 Q3369.76 1449.07 3375.57 1449.07 Z\" fill=\"#000000\" fill-rule=\"evenodd\" fill-opacity=\"1\" /><path clip-path=\"url(#clip7700)\" d=\"M 0 0 M3427.98 1449.69 L3432.66 1449.69 L3432.66 1481.84 Q3432.66 1488.09 3430.27 1490.92 Q3427.91 1493.74 3422.66 1493.74 L3420.87 1493.74 L3420.87 1489.81 L3422.33 1489.81 Q3425.43 1489.81 3426.71 1488.07 Q3427.98 1486.34 3427.98 1481.84 L3427.98 1449.69 Z\" fill=\"#000000\" fill-rule=\"evenodd\" fill-opacity=\"1\" /><path clip-path=\"url(#clip7700)\" d=\"M 0 0 M3448.91 1471.22 Q3443.74 1471.22 3441.75 1472.4 Q3439.76 1473.58 3439.76 1476.43 Q3439.76 1478.7 3441.24 1480.04 Q3442.75 1481.36 3445.32 1481.36 Q3448.86 1481.36 3450.99 1478.86 Q3453.14 1476.34 3453.14 1472.17 L3453.14 1471.22 L3448.91 1471.22 M3457.4 1469.46 L3457.4 1484.25 L3453.14 1484.25 L3453.14 1480.32 Q3451.68 1482.68 3449.51 1483.81 Q3447.33 1484.92 3444.18 1484.92 Q3440.2 1484.92 3437.84 1482.7 Q3435.5 1480.46 3435.5 1476.71 Q3435.5 1472.33 3438.42 1470.11 Q3441.36 1467.89 3447.17 1467.89 L3453.14 1467.89 L3453.14 1467.47 Q3453.14 1464.53 3451.2 1462.93 Q3449.28 1461.31 3445.78 1461.31 Q3443.56 1461.31 3441.45 1461.84 Q3439.35 1462.38 3437.4 1463.44 L3437.4 1459.51 Q3439.74 1458.6 3441.94 1458.16 Q3444.14 1457.7 3446.22 1457.7 Q3451.85 1457.7 3454.62 1460.62 Q3457.4 1463.53 3457.4 1469.46 Z\" fill=\"#000000\" fill-rule=\"evenodd\" fill-opacity=\"1\" /><path clip-path=\"url(#clip7700)\" d=\"M 0 0 M3483.42 1468.6 L3483.42 1484.25 L3479.16 1484.25 L3479.16 1468.74 Q3479.16 1465.06 3477.73 1463.23 Q3476.29 1461.4 3473.42 1461.4 Q3469.97 1461.4 3467.98 1463.6 Q3465.99 1465.8 3465.99 1469.6 L3465.99 1484.25 L3461.71 1484.25 L3461.71 1458.33 L3465.99 1458.33 L3465.99 1462.35 Q3467.52 1460.02 3469.58 1458.86 Q3471.66 1457.7 3474.37 1457.7 Q3478.84 1457.7 3481.13 1460.48 Q3483.42 1463.23 3483.42 1468.6 Z\" fill=\"#000000\" fill-rule=\"evenodd\" fill-opacity=\"1\" /><path clip-path=\"url(#clip7700)\" d=\"M 0 0 M3488.49 1478.37 L3493.37 1478.37 L3493.37 1484.25 L3488.49 1484.25 L3488.49 1478.37 Z\" fill=\"#000000\" fill-rule=\"evenodd\" fill-opacity=\"1\" /><path clip-path=\"url(#clip7700)\" d=\"M 0 0 M3502.47 1480.32 L3518.79 1480.32 L3518.79 1484.25 L3496.85 1484.25 L3496.85 1480.32 Q3499.51 1477.56 3504.09 1472.93 Q3508.7 1468.28 3509.88 1466.94 Q3512.12 1464.41 3513 1462.68 Q3513.91 1460.92 3513.91 1459.23 Q3513.91 1456.47 3511.96 1454.74 Q3510.04 1453 3506.94 1453 Q3504.74 1453 3502.29 1453.77 Q3499.86 1454.53 3497.08 1456.08 L3497.08 1451.36 Q3499.9 1450.22 3502.36 1449.65 Q3504.81 1449.07 3506.85 1449.07 Q3512.22 1449.07 3515.41 1451.75 Q3518.61 1454.44 3518.61 1458.93 Q3518.61 1461.06 3517.8 1462.98 Q3517.01 1464.88 3514.9 1467.47 Q3514.32 1468.14 3511.22 1471.36 Q3508.12 1474.55 3502.47 1480.32 Z\" fill=\"#000000\" fill-rule=\"evenodd\" fill-opacity=\"1\" /><path clip-path=\"url(#clip7700)\" d=\"M 0 0 M3524.35 1478.37 L3529.23 1478.37 L3529.23 1482.35 L3525.43 1489.76 L3522.45 1489.76 L3524.35 1482.35 L3524.35 1478.37 Z\" fill=\"#000000\" fill-rule=\"evenodd\" fill-opacity=\"1\" /><path clip-path=\"url(#clip7700)\" d=\"M 0 0 M3538.33 1480.32 L3554.65 1480.32 L3554.65 1484.25 L3532.7 1484.25 L3532.7 1480.32 Q3535.36 1477.56 3539.95 1472.93 Q3544.55 1468.28 3545.73 1466.94 Q3547.98 1464.41 3548.86 1462.68 Q3549.76 1460.92 3549.76 1459.23 Q3549.76 1456.47 3547.82 1454.74 Q3545.9 1453 3542.79 1453 Q3540.6 1453 3538.14 1453.77 Q3535.71 1454.53 3532.93 1456.08 L3532.93 1451.36 Q3535.76 1450.22 3538.21 1449.65 Q3540.67 1449.07 3542.7 1449.07 Q3548.07 1449.07 3551.27 1451.75 Q3554.46 1454.44 3554.46 1458.93 Q3554.46 1461.06 3553.65 1462.98 Q3552.86 1464.88 3550.76 1467.47 Q3550.18 1468.14 3547.08 1471.36 Q3543.98 1474.55 3538.33 1480.32 Z\" fill=\"#000000\" fill-rule=\"evenodd\" fill-opacity=\"1\" /><path clip-path=\"url(#clip7700)\" d=\"M 0 0 M3560.53 1480.32 L3568.17 1480.32 L3568.17 1453.95 L3559.86 1455.62 L3559.86 1451.36 L3568.12 1449.69 L3572.79 1449.69 L3572.79 1480.32 L3580.43 1480.32 L3580.43 1484.25 L3560.53 1484.25 L3560.53 1480.32 Z\" fill=\"#000000\" fill-rule=\"evenodd\" fill-opacity=\"1\" /><path clip-path=\"url(#clip7700)\" d=\"M 0 0 M3696.49 1449.69 L3701.17 1449.69 L3701.17 1481.84 Q3701.17 1488.09 3698.78 1490.92 Q3696.42 1493.74 3691.17 1493.74 L3689.39 1493.74 L3689.39 1489.81 L3690.85 1489.81 Q3693.95 1489.81 3695.22 1488.07 Q3696.49 1486.34 3696.49 1481.84 L3696.49 1449.69 Z\" fill=\"#000000\" fill-rule=\"evenodd\" fill-opacity=\"1\" /><path clip-path=\"url(#clip7700)\" d=\"M 0 0 M3717.42 1471.22 Q3712.26 1471.22 3710.27 1472.4 Q3708.28 1473.58 3708.28 1476.43 Q3708.28 1478.7 3709.76 1480.04 Q3711.26 1481.36 3713.83 1481.36 Q3717.37 1481.36 3719.5 1478.86 Q3721.66 1476.34 3721.66 1472.17 L3721.66 1471.22 L3717.42 1471.22 M3725.91 1469.46 L3725.91 1484.25 L3721.66 1484.25 L3721.66 1480.32 Q3720.2 1482.68 3718.02 1483.81 Q3715.85 1484.92 3712.7 1484.92 Q3708.72 1484.92 3706.35 1482.7 Q3704.02 1480.46 3704.02 1476.71 Q3704.02 1472.33 3706.93 1470.11 Q3709.87 1467.89 3715.68 1467.89 L3721.66 1467.89 L3721.66 1467.47 Q3721.66 1464.53 3719.71 1462.93 Q3717.79 1461.31 3714.29 1461.31 Q3712.07 1461.31 3709.97 1461.84 Q3707.86 1462.38 3705.91 1463.44 L3705.91 1459.51 Q3708.25 1458.6 3710.45 1458.16 Q3712.65 1457.7 3714.73 1457.7 Q3720.36 1457.7 3723.14 1460.62 Q3725.91 1463.53 3725.91 1469.46 Z\" fill=\"#000000\" fill-rule=\"evenodd\" fill-opacity=\"1\" /><path clip-path=\"url(#clip7700)\" d=\"M 0 0 M3751.93 1468.6 L3751.93 1484.25 L3747.67 1484.25 L3747.67 1468.74 Q3747.67 1465.06 3746.24 1463.23 Q3744.8 1461.4 3741.93 1461.4 Q3738.48 1461.4 3736.49 1463.6 Q3734.5 1465.8 3734.5 1469.6 L3734.5 1484.25 L3730.22 1484.25 L3730.22 1458.33 L3734.5 1458.33 L3734.5 1462.35 Q3736.03 1460.02 3738.09 1458.86 Q3740.17 1457.7 3742.88 1457.7 Q3747.35 1457.7 3749.64 1460.48 Q3751.93 1463.23 3751.93 1468.6 Z\" fill=\"#000000\" fill-rule=\"evenodd\" fill-opacity=\"1\" /><path clip-path=\"url(#clip7700)\" d=\"M 0 0 M3757 1478.37 L3761.89 1478.37 L3761.89 1484.25 L3757 1484.25 L3757 1478.37 Z\" fill=\"#000000\" fill-rule=\"evenodd\" fill-opacity=\"1\" /><path clip-path=\"url(#clip7700)\" d=\"M 0 0 M3765.78 1449.69 L3788 1449.69 L3788 1451.68 L3775.45 1484.25 L3770.57 1484.25 L3782.37 1453.63 L3765.78 1453.63 L3765.78 1449.69 Z\" fill=\"#000000\" fill-rule=\"evenodd\" fill-opacity=\"1\" /><path clip-path=\"url(#clip7700)\" d=\"M 0 0 M3793.55 1478.37 L3798.44 1478.37 L3798.44 1482.35 L3794.64 1489.76 L3791.65 1489.76 L3793.55 1482.35 L3793.55 1478.37 Z\" fill=\"#000000\" fill-rule=\"evenodd\" fill-opacity=\"1\" /><path clip-path=\"url(#clip7700)\" d=\"M 0 0 M3807.53 1480.32 L3823.85 1480.32 L3823.85 1484.25 L3801.91 1484.25 L3801.91 1480.32 Q3804.57 1477.56 3809.15 1472.93 Q3813.76 1468.28 3814.94 1466.94 Q3817.19 1464.41 3818.07 1462.68 Q3818.97 1460.92 3818.97 1459.23 Q3818.97 1456.47 3817.03 1454.74 Q3815.1 1453 3812 1453 Q3809.8 1453 3807.35 1453.77 Q3804.92 1454.53 3802.14 1456.08 L3802.14 1451.36 Q3804.96 1450.22 3807.42 1449.65 Q3809.87 1449.07 3811.91 1449.07 Q3817.28 1449.07 3820.47 1451.75 Q3823.67 1454.44 3823.67 1458.93 Q3823.67 1461.06 3822.86 1462.98 Q3822.07 1464.88 3819.96 1467.47 Q3819.39 1468.14 3816.28 1471.36 Q3813.18 1474.55 3807.53 1480.32 Z\" fill=\"#000000\" fill-rule=\"evenodd\" fill-opacity=\"1\" /><path clip-path=\"url(#clip7700)\" d=\"M 0 0 M3829.73 1480.32 L3837.37 1480.32 L3837.37 1453.95 L3829.06 1455.62 L3829.06 1451.36 L3837.33 1449.69 L3842 1449.69 L3842 1480.32 L3849.64 1480.32 L3849.64 1484.25 L3829.73 1484.25 L3829.73 1480.32 Z\" fill=\"#000000\" fill-rule=\"evenodd\" fill-opacity=\"1\" /><path clip-path=\"url(#clip7700)\" d=\"M 0 0 M146.801 1326.1 Q143.467 1326.1 141.546 1327.89 Q139.648 1329.67 139.648 1332.79 Q139.648 1335.92 141.546 1337.7 Q143.467 1339.48 146.801 1339.48 Q150.134 1339.48 152.055 1337.7 Q153.977 1335.9 153.977 1332.79 Q153.977 1329.67 152.055 1327.89 Q150.157 1326.1 146.801 1326.1 M142.125 1324.11 Q139.116 1323.37 137.426 1321.31 Q135.759 1319.25 135.759 1316.29 Q135.759 1312.15 138.699 1309.74 Q141.662 1307.33 146.801 1307.33 Q151.963 1307.33 154.903 1309.74 Q157.842 1312.15 157.842 1316.29 Q157.842 1319.25 156.153 1321.31 Q154.486 1323.37 151.5 1324.11 Q154.879 1324.9 156.754 1327.19 Q158.652 1329.48 158.652 1332.79 Q158.652 1337.82 155.574 1340.5 Q152.518 1343.19 146.801 1343.19 Q141.083 1343.19 138.004 1340.5 Q134.949 1337.82 134.949 1332.79 Q134.949 1329.48 136.847 1327.19 Q138.745 1324.9 142.125 1324.11 M140.412 1316.73 Q140.412 1319.41 142.079 1320.92 Q143.768 1322.42 146.801 1322.42 Q149.81 1322.42 151.5 1320.92 Q153.213 1319.41 153.213 1316.73 Q153.213 1314.04 151.5 1312.54 Q149.81 1311.03 146.801 1311.03 Q143.768 1311.03 142.079 1312.54 Q140.412 1314.04 140.412 1316.73 Z\" fill=\"#000000\" fill-rule=\"evenodd\" fill-opacity=\"1\" /><path clip-path=\"url(#clip7700)\" d=\"M 0 0 M173.722 1311.03 Q170.111 1311.03 168.282 1314.6 Q166.477 1318.14 166.477 1325.27 Q166.477 1332.38 168.282 1335.94 Q170.111 1339.48 173.722 1339.48 Q177.356 1339.48 179.162 1335.94 Q180.99 1332.38 180.99 1325.27 Q180.99 1318.14 179.162 1314.6 Q177.356 1311.03 173.722 1311.03 M173.722 1307.33 Q179.532 1307.33 182.588 1311.94 Q185.666 1316.52 185.666 1325.27 Q185.666 1334 182.588 1338.6 Q179.532 1343.19 173.722 1343.19 Q167.912 1343.19 164.833 1338.6 Q161.777 1334 161.777 1325.27 Q161.777 1316.52 164.833 1311.94 Q167.912 1307.33 173.722 1307.33 Z\" fill=\"#000000\" fill-rule=\"evenodd\" fill-opacity=\"1\" /><path clip-path=\"url(#clip7700)\" d=\"M 0 0 M137.032 1046.79 L137.032 1042.53 Q138.791 1043.36 140.597 1043.8 Q142.403 1044.24 144.139 1044.24 Q148.768 1044.24 151.199 1041.14 Q153.653 1038.01 154 1031.67 Q152.657 1033.66 150.597 1034.73 Q148.537 1035.79 146.037 1035.79 Q140.852 1035.79 137.819 1032.67 Q134.81 1029.52 134.81 1024.08 Q134.81 1018.75 137.958 1015.54 Q141.106 1012.32 146.338 1012.32 Q152.333 1012.32 155.481 1016.93 Q158.652 1021.51 158.652 1030.26 Q158.652 1038.43 154.764 1043.31 Q150.898 1048.18 144.347 1048.18 Q142.588 1048.18 140.782 1047.83 Q138.977 1047.48 137.032 1046.79 M146.338 1032.13 Q149.486 1032.13 151.315 1029.98 Q153.166 1027.83 153.166 1024.08 Q153.166 1020.35 151.315 1018.2 Q149.486 1016.02 146.338 1016.02 Q143.19 1016.02 141.338 1018.2 Q139.509 1020.35 139.509 1024.08 Q139.509 1027.83 141.338 1029.98 Q143.19 1032.13 146.338 1032.13 Z\" fill=\"#000000\" fill-rule=\"evenodd\" fill-opacity=\"1\" /><path clip-path=\"url(#clip7700)\" d=\"M 0 0 M173.722 1016.02 Q170.111 1016.02 168.282 1019.59 Q166.477 1023.13 166.477 1030.26 Q166.477 1037.37 168.282 1040.93 Q170.111 1044.47 173.722 1044.47 Q177.356 1044.47 179.162 1040.93 Q180.99 1037.37 180.99 1030.26 Q180.99 1023.13 179.162 1019.59 Q177.356 1016.02 173.722 1016.02 M173.722 1012.32 Q179.532 1012.32 182.588 1016.93 Q185.666 1021.51 185.666 1030.26 Q185.666 1038.99 182.588 1043.59 Q179.532 1048.18 173.722 1048.18 Q167.912 1048.18 164.833 1043.59 Q161.777 1038.99 161.777 1030.26 Q161.777 1021.51 164.833 1016.93 Q167.912 1012.32 173.722 1012.32 Z\" fill=\"#000000\" fill-rule=\"evenodd\" fill-opacity=\"1\" /><path clip-path=\"url(#clip7700)\" d=\"M 0 0 M111.731 748.557 L119.37 748.557 L119.37 722.191 L111.06 723.858 L111.06 719.599 L119.324 717.932 L124 717.932 L124 748.557 L131.639 748.557 L131.639 752.492 L111.731 752.492 L111.731 748.557 Z\" fill=\"#000000\" fill-rule=\"evenodd\" fill-opacity=\"1\" /><path clip-path=\"url(#clip7700)\" d=\"M 0 0 M146.708 721.011 Q143.097 721.011 141.268 724.575 Q139.463 728.117 139.463 735.247 Q139.463 742.353 141.268 745.918 Q143.097 749.46 146.708 749.46 Q150.342 749.46 152.148 745.918 Q153.977 742.353 153.977 735.247 Q153.977 728.117 152.148 724.575 Q150.342 721.011 146.708 721.011 M146.708 717.307 Q152.518 717.307 155.574 721.913 Q158.652 726.497 158.652 735.247 Q158.652 743.973 155.574 748.58 Q152.518 753.163 146.708 753.163 Q140.898 753.163 137.819 748.58 Q134.764 743.973 134.764 735.247 Q134.764 726.497 137.819 721.913 Q140.898 717.307 146.708 717.307 Z\" fill=\"#000000\" fill-rule=\"evenodd\" fill-opacity=\"1\" /><path clip-path=\"url(#clip7700)\" d=\"M 0 0 M173.722 721.011 Q170.111 721.011 168.282 724.575 Q166.477 728.117 166.477 735.247 Q166.477 742.353 168.282 745.918 Q170.111 749.46 173.722 749.46 Q177.356 749.46 179.162 745.918 Q180.99 742.353 180.99 735.247 Q180.99 728.117 179.162 724.575 Q177.356 721.011 173.722 721.011 M173.722 717.307 Q179.532 717.307 182.588 721.913 Q185.666 726.497 185.666 735.247 Q185.666 743.973 182.588 748.58 Q179.532 753.163 173.722 753.163 Q167.912 753.163 164.833 748.58 Q161.777 743.973 161.777 735.247 Q161.777 726.497 164.833 721.913 Q167.912 717.307 173.722 717.307 Z\" fill=\"#000000\" fill-rule=\"evenodd\" fill-opacity=\"1\" /><path clip-path=\"url(#clip7700)\" d=\"M 0 0 M112.958 453.545 L120.597 453.545 L120.597 427.179 L112.287 428.846 L112.287 424.587 L120.551 422.92 L125.227 422.92 L125.227 453.545 L132.866 453.545 L132.866 457.48 L112.958 457.48 L112.958 453.545 Z\" fill=\"#000000\" fill-rule=\"evenodd\" fill-opacity=\"1\" /><path clip-path=\"url(#clip7700)\" d=\"M 0 0 M138.745 453.545 L146.384 453.545 L146.384 427.179 L138.074 428.846 L138.074 424.587 L146.338 422.92 L151.014 422.92 L151.014 453.545 L158.652 453.545 L158.652 457.48 L138.745 457.48 L138.745 453.545 Z\" fill=\"#000000\" fill-rule=\"evenodd\" fill-opacity=\"1\" /><path clip-path=\"url(#clip7700)\" d=\"M 0 0 M173.722 425.999 Q170.111 425.999 168.282 429.563 Q166.477 433.105 166.477 440.235 Q166.477 447.341 168.282 450.906 Q170.111 454.448 173.722 454.448 Q177.356 454.448 179.162 450.906 Q180.99 447.341 180.99 440.235 Q180.99 433.105 179.162 429.563 Q177.356 425.999 173.722 425.999 M173.722 422.295 Q179.532 422.295 182.588 426.901 Q185.666 431.485 185.666 440.235 Q185.666 448.962 182.588 453.568 Q179.532 458.151 173.722 458.151 Q167.912 458.151 164.833 453.568 Q161.777 448.962 161.777 440.235 Q161.777 431.485 164.833 426.901 Q167.912 422.295 173.722 422.295 Z\" fill=\"#000000\" fill-rule=\"evenodd\" fill-opacity=\"1\" /><path clip-path=\"url(#clip7700)\" d=\"M 0 0 M113.329 158.533 L120.968 158.533 L120.968 132.167 L112.657 133.834 L112.657 129.575 L120.921 127.908 L125.597 127.908 L125.597 158.533 L133.236 158.533 L133.236 162.468 L113.329 162.468 L113.329 158.533 Z\" fill=\"#000000\" fill-rule=\"evenodd\" fill-opacity=\"1\" /><path clip-path=\"url(#clip7700)\" d=\"M 0 0 M142.333 158.533 L158.652 158.533 L158.652 162.468 L136.708 162.468 L136.708 158.533 Q139.37 155.778 143.953 151.149 Q148.56 146.496 149.741 145.153 Q151.986 142.63 152.865 140.894 Q153.768 139.135 153.768 137.445 Q153.768 134.69 151.824 132.954 Q149.903 131.218 146.801 131.218 Q144.602 131.218 142.148 131.982 Q139.717 132.746 136.94 134.297 L136.94 129.575 Q139.764 128.44 142.217 127.862 Q144.671 127.283 146.708 127.283 Q152.078 127.283 155.273 129.968 Q158.467 132.653 158.467 137.144 Q158.467 139.274 157.657 141.195 Q156.87 143.093 154.764 145.686 Q154.185 146.357 151.083 149.575 Q147.981 152.769 142.333 158.533 Z\" fill=\"#000000\" fill-rule=\"evenodd\" fill-opacity=\"1\" /><path clip-path=\"url(#clip7700)\" d=\"M 0 0 M173.722 130.987 Q170.111 130.987 168.282 134.552 Q166.477 138.093 166.477 145.223 Q166.477 152.329 168.282 155.894 Q170.111 159.436 173.722 159.436 Q177.356 159.436 179.162 155.894 Q180.99 152.329 180.99 145.223 Q180.99 138.093 179.162 134.552 Q177.356 130.987 173.722 130.987 M173.722 127.283 Q179.532 127.283 182.588 131.89 Q185.666 136.473 185.666 145.223 Q185.666 153.95 182.588 158.556 Q179.532 163.139 173.722 163.139 Q167.912 163.139 164.833 158.556 Q161.777 153.95 161.777 145.223 Q161.777 136.473 164.833 131.89 Q167.912 127.283 173.722 127.283 Z\" fill=\"#000000\" fill-rule=\"evenodd\" fill-opacity=\"1\" /><path clip-path=\"url(#clip7700)\" d=\"M 0 0 M2011.56 1541.01 L2011.56 1521.72 L2017.41 1521.72 L2017.41 1571.24 L2011.56 1571.24 L2011.56 1565.9 Q2009.71 1569.08 2006.88 1570.64 Q2004.08 1572.17 2000.13 1572.17 Q1993.67 1572.17 1989.59 1567.01 Q1985.55 1561.85 1985.55 1553.45 Q1985.55 1545.05 1989.59 1539.89 Q1993.67 1534.74 2000.13 1534.74 Q2004.08 1534.74 2006.88 1536.3 Q2009.71 1537.82 2011.56 1541.01 M1991.6 1553.45 Q1991.6 1559.91 1994.24 1563.6 Q1996.91 1567.27 2001.56 1567.27 Q2006.21 1567.27 2008.88 1563.6 Q2011.56 1559.91 2011.56 1553.45 Q2011.56 1546.99 2008.88 1543.33 Q2006.21 1539.64 2001.56 1539.64 Q1996.91 1539.64 1994.24 1543.33 Q1991.6 1546.99 1991.6 1553.45 Z\" fill=\"#000000\" fill-rule=\"evenodd\" fill-opacity=\"1\" /><path clip-path=\"url(#clip7700)\" d=\"M 0 0 M2039.76 1553.32 Q2032.66 1553.32 2029.92 1554.95 Q2027.18 1556.57 2027.18 1560.49 Q2027.18 1563.6 2029.22 1565.45 Q2031.29 1567.27 2034.82 1567.27 Q2039.69 1567.27 2042.62 1563.83 Q2045.58 1560.36 2045.58 1554.63 L2045.58 1553.32 L2039.76 1553.32 M2051.44 1550.91 L2051.44 1571.24 L2045.58 1571.24 L2045.58 1565.83 Q2043.58 1569.08 2040.58 1570.64 Q2037.59 1572.17 2033.26 1572.17 Q2027.79 1572.17 2024.54 1569.11 Q2021.33 1566.02 2021.33 1560.87 Q2021.33 1554.85 2025.34 1551.8 Q2029.38 1548.74 2037.37 1548.74 L2045.58 1548.74 L2045.58 1548.17 Q2045.58 1544.13 2042.91 1541.93 Q2040.27 1539.7 2035.46 1539.7 Q2032.4 1539.7 2029.51 1540.43 Q2026.61 1541.17 2023.94 1542.63 L2023.94 1537.22 Q2027.15 1535.98 2030.18 1535.37 Q2033.2 1534.74 2036.06 1534.74 Q2043.8 1534.74 2047.62 1538.75 Q2051.44 1542.76 2051.44 1550.91 Z\" fill=\"#000000\" fill-rule=\"evenodd\" fill-opacity=\"1\" /><path clip-path=\"url(#clip7700)\" d=\"M 0 0 M2063.37 1525.47 L2063.37 1535.6 L2075.44 1535.6 L2075.44 1540.15 L2063.37 1540.15 L2063.37 1559.5 Q2063.37 1563.86 2064.55 1565.1 Q2065.76 1566.34 2069.42 1566.34 L2075.44 1566.34 L2075.44 1571.24 L2069.42 1571.24 Q2062.64 1571.24 2060.06 1568.73 Q2057.48 1566.18 2057.48 1559.5 L2057.48 1540.15 L2053.19 1540.15 L2053.19 1535.6 L2057.48 1535.6 L2057.48 1525.47 L2063.37 1525.47 Z\" fill=\"#000000\" fill-rule=\"evenodd\" fill-opacity=\"1\" /><path clip-path=\"url(#clip7700)\" d=\"M 0 0 M2112.07 1551.96 L2112.07 1554.82 L2085.14 1554.82 Q2085.53 1560.87 2088.77 1564.05 Q2092.05 1567.2 2097.87 1567.2 Q2101.25 1567.2 2104.4 1566.37 Q2107.58 1565.55 2110.7 1563.89 L2110.7 1569.43 Q2107.55 1570.77 2104.24 1571.47 Q2100.93 1572.17 2097.52 1572.17 Q2088.99 1572.17 2084 1567.2 Q2079.03 1562.24 2079.03 1553.77 Q2079.03 1545.02 2083.74 1539.89 Q2088.49 1534.74 2096.51 1534.74 Q2103.7 1534.74 2107.87 1539.38 Q2112.07 1544 2112.07 1551.96 M2106.21 1550.24 Q2106.15 1545.43 2103.51 1542.57 Q2100.9 1539.7 2096.57 1539.7 Q2091.67 1539.7 2088.71 1542.47 Q2085.78 1545.24 2085.33 1550.27 L2106.21 1550.24 Z\" fill=\"#000000\" fill-rule=\"evenodd\" fill-opacity=\"1\" /><path clip-path=\"url(#clip7700)\" d=\"M 0 0 M21.9562 811.585 L21.9562 805.378 L51.875 794.238 L21.9562 783.098 L21.9562 776.891 L57.6042 790.259 L57.6042 798.217 L21.9562 811.585 Z\" fill=\"#000000\" fill-rule=\"evenodd\" fill-opacity=\"1\" /><path clip-path=\"url(#clip7700)\" d=\"M 0 0 M39.6847 754.548 Q39.6847 761.646 41.3079 764.383 Q42.9312 767.12 46.8461 767.12 Q49.9653 767.12 51.8114 765.083 Q53.6256 763.014 53.6256 759.481 Q53.6256 754.611 50.1881 751.683 Q46.7188 748.723 40.9897 748.723 L39.6847 748.723 L39.6847 754.548 M37.2657 742.867 L57.6042 742.867 L57.6042 748.723 L52.1933 748.723 Q55.4398 750.728 56.9994 753.72 Q58.5272 756.712 58.5272 761.041 Q58.5272 766.515 55.4716 769.762 Q52.3843 772.977 47.2281 772.977 Q41.2125 772.977 38.1569 768.966 Q35.1014 764.924 35.1014 756.935 L35.1014 748.723 L34.5285 748.723 Q30.4862 748.723 28.2901 751.397 Q26.0621 754.039 26.0621 758.845 Q26.0621 761.9 26.7941 764.797 Q27.5262 767.693 28.9903 770.367 L23.5795 770.367 Q22.3381 767.152 21.7334 764.128 Q21.0968 761.104 21.0968 758.24 Q21.0968 750.506 25.1072 746.686 Q29.1176 742.867 37.2657 742.867 Z\" fill=\"#000000\" fill-rule=\"evenodd\" fill-opacity=\"1\" /><path clip-path=\"url(#clip7700)\" d=\"M 0 0 M8.07896 736.724 L8.07896 730.867 L57.6042 730.867 L57.6042 736.724 L8.07896 736.724 Z\" fill=\"#000000\" fill-rule=\"evenodd\" fill-opacity=\"1\" /><path clip-path=\"url(#clip7700)\" d=\"M 0 0 M43.5359 725.329 L21.9562 725.329 L21.9562 719.473 L43.3131 719.473 Q48.3739 719.473 50.9202 717.499 Q53.4346 715.526 53.4346 711.579 Q53.4346 706.837 50.4109 704.1 Q47.3872 701.33 42.1673 701.33 L21.9562 701.33 L21.9562 695.474 L57.6042 695.474 L57.6042 701.33 L52.1296 701.33 Q55.3762 703.463 56.9676 706.296 Q58.5272 709.097 58.5272 712.821 Q58.5272 718.964 54.7078 722.146 Q50.8883 725.329 43.5359 725.329 M21.0968 710.593 L21.0968 710.593 Z\" fill=\"#000000\" fill-rule=\"evenodd\" fill-opacity=\"1\" /><path clip-path=\"url(#clip7700)\" d=\"M 0 0 M38.3161 658.839 L41.1806 658.839 L41.1806 685.766 Q47.2281 685.384 50.4109 682.138 Q53.5619 678.86 53.5619 673.035 Q53.5619 669.661 52.7344 666.51 Q51.9069 663.327 50.2518 660.208 L55.7899 660.208 Q57.1267 663.359 57.827 666.669 Q58.5272 669.979 58.5272 673.385 Q58.5272 681.915 53.5619 686.912 Q48.5967 691.877 40.1303 691.877 Q31.3774 691.877 26.2531 687.167 Q21.0968 682.424 21.0968 674.404 Q21.0968 667.21 25.7438 663.041 Q30.3589 658.839 38.3161 658.839 M36.5973 664.696 Q31.7912 664.76 28.9266 667.401 Q26.0621 670.011 26.0621 674.34 Q26.0621 679.241 28.8312 682.202 Q31.6002 685.13 36.6292 685.575 L36.5973 664.696 Z\" fill=\"#000000\" fill-rule=\"evenodd\" fill-opacity=\"1\" /><polyline clip-path=\"url(#clip7702)\" style=\"stroke:#009af9; stroke-width:4; stroke-opacity:1; fill:none\" points=\"\n",
       "  328.108,1384.24 381.88,1266.23 435.652,1177.73 489.424,1059.73 543.196,971.222 596.968,971.222 650.74,1000.72 704.512,971.222 758.284,971.222 812.056,971.222 \n",
       "  865.828,941.72 919.6,912.219 973.372,912.219 1027.14,882.718 1080.92,912.219 1134.69,912.219 1188.46,941.72 1242.23,971.222 1296,971.222 1349.78,1030.22 \n",
       "  1403.55,1059.73 1457.32,1089.23 1511.09,1089.23 1564.86,1118.73 1618.64,1059.73 1672.41,1059.73 1726.18,1030.22 1779.95,941.72 1833.72,882.718 1887.5,794.214 \n",
       "  1941.27,735.212 1995.04,705.711 2048.81,705.711 2102.58,705.711 2156.35,705.711 2210.13,705.711 2263.9,676.21 2317.67,676.21 2371.44,705.711 2425.21,735.212 \n",
       "  2478.99,735.212 2532.76,676.21 2586.53,617.207 2640.3,558.205 2694.07,499.202 2747.85,440.2 2801.62,469.701 2855.39,469.701 2909.16,410.699 2962.93,381.198 \n",
       "  3016.71,322.195 3070.48,263.193 3124.25,204.19 3178.02,204.19 3231.79,145.188 3285.57,115.687 3339.34,86.1857 3393.11,86.1857 3446.88,86.1857 3500.65,115.687 \n",
       "  3554.43,145.188 3608.2,145.188 3661.97,145.188 3715.74,145.188 3769.51,145.188 \n",
       "  \"/>\n",
       "<polyline clip-path=\"url(#clip7702)\" style=\"stroke:#e26f46; stroke-width:4; stroke-opacity:1; fill:none\" points=\"\n",
       "  328.108,1354.74 381.88,1236.73 435.652,1148.23 489.424,1059.73 543.196,1000.72 596.968,971.222 650.74,1000.72 704.512,971.222 758.284,1000.72 812.056,971.222 \n",
       "  865.828,941.72 919.6,912.219 973.372,912.219 1027.14,882.718 1080.92,882.718 1134.69,882.718 1188.46,912.219 1242.23,941.72 1296,1000.72 1349.78,1030.22 \n",
       "  1403.55,1089.23 1457.32,1089.23 1511.09,1089.23 1564.86,1089.23 1618.64,1059.73 1672.41,1030.22 1726.18,1000.72 1779.95,971.222 1833.72,912.219 1887.5,823.716 \n",
       "  1941.27,764.713 1995.04,735.212 2048.81,705.711 2102.58,705.711 2156.35,676.21 2210.13,676.21 2263.9,676.21 2317.67,676.21 2371.44,705.711 2425.21,735.212 \n",
       "  2478.99,735.212 2532.76,676.21 2586.53,617.207 2640.3,558.205 2694.07,499.202 2747.85,469.701 2801.62,469.701 2855.39,440.2 2909.16,381.198 2962.93,351.696 \n",
       "  3016.71,292.694 3070.48,263.193 3124.25,233.692 3178.02,204.19 3231.79,174.689 3285.57,115.687 3339.34,115.687 3393.11,86.1857 3446.88,86.1857 3500.65,86.1857 \n",
       "  3554.43,115.687 3608.2,115.687 3661.97,115.687 3715.74,145.188 3769.51,174.689 \n",
       "  \"/>\n",
       "<polyline clip-path=\"url(#clip7702)\" style=\"stroke:#3da44d; stroke-width:4; stroke-opacity:1; fill:none\" points=\"\n",
       "  3527.54,2799.12 3527.54,-1328.69 \n",
       "  \"/>\n",
       "<path clip-path=\"url(#clip7700)\" d=\"\n",
       "M342.466 463.884 L1113.98 463.884 L1113.98 221.964 L342.466 221.964  Z\n",
       "  \" fill=\"#ffffff\" fill-rule=\"evenodd\" fill-opacity=\"1\"/>\n",
       "<polyline clip-path=\"url(#clip7700)\" style=\"stroke:#000000; stroke-width:4; stroke-opacity:1; fill:none\" points=\"\n",
       "  342.466,463.884 1113.98,463.884 1113.98,221.964 342.466,221.964 342.466,463.884 \n",
       "  \"/>\n",
       "<polyline clip-path=\"url(#clip7700)\" style=\"stroke:#009af9; stroke-width:4; stroke-opacity:1; fill:none\" points=\"\n",
       "  381.666,282.444 616.866,282.444 \n",
       "  \"/>\n",
       "<path clip-path=\"url(#clip7700)\" d=\"M 0 0 M671.899 269.771 L665.557 286.97 L678.265 286.97 L671.899 269.771 M669.261 265.164 L674.562 265.164 L687.733 299.724 L682.872 299.724 L679.724 290.858 L664.145 290.858 L660.997 299.724 L656.066 299.724 L669.261 265.164 Z\" fill=\"#000000\" fill-rule=\"evenodd\" fill-opacity=\"1\" /><path clip-path=\"url(#clip7700)\" d=\"M 0 0 M705.256 269.771 L698.913 286.97 L711.621 286.97 L705.256 269.771 M702.617 265.164 L707.918 265.164 L721.089 299.724 L716.228 299.724 L713.08 290.858 L697.501 290.858 L694.353 299.724 L689.423 299.724 L702.617 265.164 Z\" fill=\"#000000\" fill-rule=\"evenodd\" fill-opacity=\"1\" /><path clip-path=\"url(#clip7700)\" d=\"M 0 0 M730.418 269.007 L730.418 281.993 L736.297 281.993 Q739.561 281.993 741.344 280.303 Q743.126 278.613 743.126 275.488 Q743.126 272.386 741.344 270.696 Q739.561 269.007 736.297 269.007 L730.418 269.007 M725.742 265.164 L736.297 265.164 Q742.107 265.164 745.07 267.803 Q748.056 270.419 748.056 275.488 Q748.056 280.604 745.07 283.22 Q742.107 285.835 736.297 285.835 L730.418 285.835 L730.418 299.724 L725.742 299.724 L725.742 265.164 Z\" fill=\"#000000\" fill-rule=\"evenodd\" fill-opacity=\"1\" /><path clip-path=\"url(#clip7700)\" d=\"M 0 0 M752.709 265.164 L757.385 265.164 L757.385 295.789 L774.214 295.789 L774.214 299.724 L752.709 299.724 L752.709 265.164 Z\" fill=\"#000000\" fill-rule=\"evenodd\" fill-opacity=\"1\" /><polyline clip-path=\"url(#clip7700)\" style=\"stroke:#e26f46; stroke-width:4; stroke-opacity:1; fill:none\" points=\"\n",
       "  381.666,342.924 616.866,342.924 \n",
       "  \"/>\n",
       "<path clip-path=\"url(#clip7700)\" d=\"M 0 0 M660.349 356.315 L660.349 370.065 L656.066 370.065 L656.066 334.278 L660.349 334.278 L660.349 338.213 Q661.691 335.899 663.728 334.788 Q665.788 333.653 668.636 333.653 Q673.358 333.653 676.298 337.403 Q679.261 341.153 679.261 347.264 Q679.261 353.375 676.298 357.125 Q673.358 360.875 668.636 360.875 Q665.788 360.875 663.728 359.764 Q661.691 358.63 660.349 356.315 M674.839 347.264 Q674.839 342.565 672.895 339.903 Q670.974 337.218 667.594 337.218 Q664.214 337.218 662.27 339.903 Q660.349 342.565 660.349 347.264 Q660.349 351.963 662.27 354.649 Q664.214 357.311 667.594 357.311 Q670.974 357.311 672.895 354.649 Q674.839 351.963 674.839 347.264 Z\" fill=\"#000000\" fill-rule=\"evenodd\" fill-opacity=\"1\" /><path clip-path=\"url(#clip7700)\" d=\"M 0 0 M698.751 338.26 Q698.034 337.843 697.177 337.658 Q696.344 337.45 695.325 337.45 Q691.714 337.45 689.77 339.811 Q687.848 342.149 687.848 346.547 L687.848 360.204 L683.566 360.204 L683.566 334.278 L687.848 334.278 L687.848 338.306 Q689.191 335.945 691.344 334.811 Q693.497 333.653 696.575 333.653 Q697.015 333.653 697.547 333.723 Q698.08 333.769 698.728 333.885 L698.751 338.26 Z\" fill=\"#000000\" fill-rule=\"evenodd\" fill-opacity=\"1\" /><path clip-path=\"url(#clip7700)\" d=\"M 0 0 M724.353 346.176 L724.353 348.26 L704.77 348.26 Q705.047 352.658 707.409 354.973 Q709.793 357.264 714.029 357.264 Q716.483 357.264 718.774 356.662 Q721.089 356.061 723.358 354.857 L723.358 358.885 Q721.066 359.857 718.658 360.366 Q716.251 360.875 713.774 360.875 Q707.571 360.875 703.936 357.264 Q700.325 353.653 700.325 347.496 Q700.325 341.13 703.751 337.403 Q707.2 333.653 713.034 333.653 Q718.265 333.653 721.297 337.033 Q724.353 340.389 724.353 346.176 M720.094 344.926 Q720.047 341.431 718.126 339.348 Q716.228 337.264 713.08 337.264 Q709.515 337.264 707.362 339.278 Q705.233 341.292 704.909 344.95 L720.094 344.926 Z\" fill=\"#000000\" fill-rule=\"evenodd\" fill-opacity=\"1\" /><path clip-path=\"url(#clip7700)\" d=\"M 0 0 M745.881 338.213 L745.881 324.186 L750.14 324.186 L750.14 360.204 L745.881 360.204 L745.881 356.315 Q744.538 358.63 742.478 359.764 Q740.441 360.875 737.57 360.875 Q732.871 360.875 729.908 357.125 Q726.969 353.375 726.969 347.264 Q726.969 341.153 729.908 337.403 Q732.871 333.653 737.57 333.653 Q740.441 333.653 742.478 334.788 Q744.538 335.899 745.881 338.213 M731.367 347.264 Q731.367 351.963 733.288 354.649 Q735.232 357.311 738.612 357.311 Q741.992 357.311 743.936 354.649 Q745.881 351.963 745.881 347.264 Q745.881 342.565 743.936 339.903 Q741.992 337.218 738.612 337.218 Q735.232 337.218 733.288 339.903 Q731.367 342.565 731.367 347.264 Z\" fill=\"#000000\" fill-rule=\"evenodd\" fill-opacity=\"1\" /><path clip-path=\"url(#clip7700)\" d=\"M 0 0 M754.607 334.278 L758.867 334.278 L758.867 360.204 L754.607 360.204 L754.607 334.278 M754.607 324.186 L758.867 324.186 L758.867 329.579 L754.607 329.579 L754.607 324.186 Z\" fill=\"#000000\" fill-rule=\"evenodd\" fill-opacity=\"1\" /><path clip-path=\"url(#clip7700)\" d=\"M 0 0 M781.991 335.274 L781.991 339.255 Q780.186 338.26 778.357 337.774 Q776.552 337.264 774.7 337.264 Q770.556 337.264 768.265 339.903 Q765.973 342.519 765.973 347.264 Q765.973 352.01 768.265 354.649 Q770.556 357.264 774.7 357.264 Q776.552 357.264 778.357 356.778 Q780.186 356.269 781.991 355.274 L781.991 359.209 Q780.209 360.042 778.288 360.459 Q776.39 360.875 774.237 360.875 Q768.38 360.875 764.931 357.195 Q761.482 353.514 761.482 347.264 Q761.482 340.922 764.955 337.288 Q768.45 333.653 774.515 333.653 Q776.482 333.653 778.357 334.07 Q780.232 334.463 781.991 335.274 Z\" fill=\"#000000\" fill-rule=\"evenodd\" fill-opacity=\"1\" /><path clip-path=\"url(#clip7700)\" d=\"M 0 0 M790.672 326.917 L790.672 334.278 L799.445 334.278 L799.445 337.588 L790.672 337.588 L790.672 351.662 Q790.672 354.834 791.528 355.737 Q792.408 356.639 795.07 356.639 L799.445 356.639 L799.445 360.204 L795.07 360.204 Q790.14 360.204 788.265 358.375 Q786.39 356.524 786.39 351.662 L786.39 337.588 L783.265 337.588 L783.265 334.278 L786.39 334.278 L786.39 326.917 L790.672 326.917 Z\" fill=\"#000000\" fill-rule=\"evenodd\" fill-opacity=\"1\" /><path clip-path=\"url(#clip7700)\" d=\"M 0 0 M826.088 346.176 L826.088 348.26 L806.505 348.26 Q806.783 352.658 809.144 354.973 Q811.528 357.264 815.764 357.264 Q818.218 357.264 820.51 356.662 Q822.825 356.061 825.093 354.857 L825.093 358.885 Q822.801 359.857 820.394 360.366 Q817.987 360.875 815.51 360.875 Q809.306 360.875 805.672 357.264 Q802.061 353.653 802.061 347.496 Q802.061 341.13 805.487 337.403 Q808.936 333.653 814.769 333.653 Q820.001 333.653 823.033 337.033 Q826.088 340.389 826.088 346.176 M821.829 344.926 Q821.783 341.431 819.862 339.348 Q817.964 337.264 814.815 337.264 Q811.251 337.264 809.098 339.278 Q806.968 341.292 806.644 344.95 L821.829 344.926 Z\" fill=\"#000000\" fill-rule=\"evenodd\" fill-opacity=\"1\" /><path clip-path=\"url(#clip7700)\" d=\"M 0 0 M847.616 338.213 L847.616 324.186 L851.875 324.186 L851.875 360.204 L847.616 360.204 L847.616 356.315 Q846.274 358.63 844.213 359.764 Q842.176 360.875 839.306 360.875 Q834.607 360.875 831.644 357.125 Q828.704 353.375 828.704 347.264 Q828.704 341.153 831.644 337.403 Q834.607 333.653 839.306 333.653 Q842.176 333.653 844.213 334.788 Q846.274 335.899 847.616 338.213 M833.102 347.264 Q833.102 351.963 835.024 354.649 Q836.968 357.311 840.348 357.311 Q843.727 357.311 845.672 354.649 Q847.616 351.963 847.616 347.264 Q847.616 342.565 845.672 339.903 Q843.727 337.218 840.348 337.218 Q836.968 337.218 835.024 339.903 Q833.102 342.565 833.102 347.264 Z\" fill=\"#000000\" fill-rule=\"evenodd\" fill-opacity=\"1\" /><polyline clip-path=\"url(#clip7700)\" style=\"stroke:#3da44d; stroke-width:4; stroke-opacity:1; fill:none\" points=\"\n",
       "  381.666,403.404 616.866,403.404 \n",
       "  \"/>\n",
       "<path clip-path=\"url(#clip7700)\" d=\"M 0 0 M656.066 386.124 L685.302 386.124 L685.302 390.059 L673.034 390.059 L673.034 420.684 L668.335 420.684 L668.335 390.059 L656.066 390.059 L656.066 386.124 Z\" fill=\"#000000\" fill-rule=\"evenodd\" fill-opacity=\"1\" /><path clip-path=\"url(#clip7700)\" d=\"M 0 0 M691.76 397.744 Q688.335 397.744 686.344 400.43 Q684.353 403.092 684.353 407.744 Q684.353 412.397 686.321 415.082 Q688.311 417.744 691.76 417.744 Q695.163 417.744 697.154 415.059 Q699.145 412.374 699.145 407.744 Q699.145 403.138 697.154 400.453 Q695.163 397.744 691.76 397.744 M691.76 394.133 Q697.316 394.133 700.487 397.744 Q703.659 401.355 703.659 407.744 Q703.659 414.11 700.487 417.744 Q697.316 421.355 691.76 421.355 Q686.182 421.355 683.011 417.744 Q679.862 414.11 679.862 407.744 Q679.862 401.355 683.011 397.744 Q686.182 394.133 691.76 394.133 Z\" fill=\"#000000\" fill-rule=\"evenodd\" fill-opacity=\"1\" /><path clip-path=\"url(#clip7700)\" d=\"M 0 0 M725.186 398.693 L725.186 384.666 L729.445 384.666 L729.445 420.684 L725.186 420.684 L725.186 416.795 Q723.844 419.11 721.783 420.244 Q719.746 421.355 716.876 421.355 Q712.177 421.355 709.214 417.605 Q706.274 413.855 706.274 407.744 Q706.274 401.633 709.214 397.883 Q712.177 394.133 716.876 394.133 Q719.746 394.133 721.783 395.268 Q723.844 396.379 725.186 398.693 M710.672 407.744 Q710.672 412.443 712.594 415.129 Q714.538 417.791 717.918 417.791 Q721.297 417.791 723.242 415.129 Q725.186 412.443 725.186 407.744 Q725.186 403.045 723.242 400.383 Q721.297 397.698 717.918 397.698 Q714.538 397.698 712.594 400.383 Q710.672 403.045 710.672 407.744 Z\" fill=\"#000000\" fill-rule=\"evenodd\" fill-opacity=\"1\" /><path clip-path=\"url(#clip7700)\" d=\"M 0 0 M745.695 407.652 Q740.533 407.652 738.543 408.832 Q736.552 410.013 736.552 412.86 Q736.552 415.129 738.033 416.471 Q739.538 417.791 742.107 417.791 Q745.649 417.791 747.779 415.291 Q749.931 412.767 749.931 408.601 L749.931 407.652 L745.695 407.652 M754.191 405.893 L754.191 420.684 L749.931 420.684 L749.931 416.749 Q748.473 419.11 746.297 420.244 Q744.121 421.355 740.973 421.355 Q736.992 421.355 734.631 419.133 Q732.293 416.888 732.293 413.138 Q732.293 408.763 735.209 406.541 Q738.149 404.318 743.959 404.318 L749.931 404.318 L749.931 403.902 Q749.931 400.962 747.987 399.365 Q746.066 397.744 742.57 397.744 Q740.348 397.744 738.242 398.277 Q736.135 398.809 734.191 399.874 L734.191 395.939 Q736.529 395.036 738.728 394.596 Q740.927 394.133 743.01 394.133 Q748.635 394.133 751.413 397.05 Q754.191 399.967 754.191 405.893 Z\" fill=\"#000000\" fill-rule=\"evenodd\" fill-opacity=\"1\" /><path clip-path=\"url(#clip7700)\" d=\"M 0 0 M769.445 423.091 Q767.64 427.721 765.927 429.133 Q764.214 430.545 761.343 430.545 L757.941 430.545 L757.941 426.98 L760.441 426.98 Q762.2 426.98 763.172 426.147 Q764.144 425.314 765.325 422.212 L766.089 420.267 L755.603 394.758 L760.117 394.758 L768.218 415.036 L776.32 394.758 L780.834 394.758 L769.445 423.091 Z\" fill=\"#000000\" fill-rule=\"evenodd\" fill-opacity=\"1\" /><path clip-path=\"url(#clip7700)\" d=\"M 0 0 M800.556 386.124 L805.232 386.124 L805.232 418.277 Q805.232 424.527 802.848 427.351 Q800.487 430.175 795.232 430.175 L793.45 430.175 L793.45 426.24 L794.908 426.24 Q798.01 426.24 799.283 424.504 Q800.556 422.767 800.556 418.277 L800.556 386.124 Z\" fill=\"#000000\" fill-rule=\"evenodd\" fill-opacity=\"1\" /><path clip-path=\"url(#clip7700)\" d=\"M 0 0 M821.482 407.652 Q816.32 407.652 814.329 408.832 Q812.339 410.013 812.339 412.86 Q812.339 415.129 813.82 416.471 Q815.325 417.791 817.894 417.791 Q821.436 417.791 823.565 415.291 Q825.718 412.767 825.718 408.601 L825.718 407.652 L821.482 407.652 M829.977 405.893 L829.977 420.684 L825.718 420.684 L825.718 416.749 Q824.26 419.11 822.084 420.244 Q819.908 421.355 816.76 421.355 Q812.778 421.355 810.417 419.133 Q808.079 416.888 808.079 413.138 Q808.079 408.763 810.996 406.541 Q813.936 404.318 819.746 404.318 L825.718 404.318 L825.718 403.902 Q825.718 400.962 823.774 399.365 Q821.852 397.744 818.357 397.744 Q816.135 397.744 814.028 398.277 Q811.922 398.809 809.977 399.874 L809.977 395.939 Q812.315 395.036 814.514 394.596 Q816.714 394.133 818.797 394.133 Q824.422 394.133 827.2 397.05 Q829.977 399.967 829.977 405.893 Z\" fill=\"#000000\" fill-rule=\"evenodd\" fill-opacity=\"1\" /><path clip-path=\"url(#clip7700)\" d=\"M 0 0 M855.996 405.036 L855.996 420.684 L851.736 420.684 L851.736 405.175 Q851.736 401.494 850.301 399.666 Q848.866 397.837 845.996 397.837 Q842.547 397.837 840.556 400.036 Q838.565 402.235 838.565 406.031 L838.565 420.684 L834.283 420.684 L834.283 394.758 L838.565 394.758 L838.565 398.786 Q840.093 396.448 842.153 395.291 Q844.237 394.133 846.945 394.133 Q851.412 394.133 853.704 396.911 Q855.996 399.666 855.996 405.036 Z\" fill=\"#000000\" fill-rule=\"evenodd\" fill-opacity=\"1\" /><path clip-path=\"url(#clip7700)\" d=\"M 0 0 M861.065 414.804 L865.949 414.804 L865.949 420.684 L861.065 420.684 L861.065 414.804 Z\" fill=\"#000000\" fill-rule=\"evenodd\" fill-opacity=\"1\" /><path clip-path=\"url(#clip7700)\" d=\"M 0 0 M890.116 416.749 L906.435 416.749 L906.435 420.684 L884.491 420.684 L884.491 416.749 Q887.153 413.994 891.736 409.365 Q896.343 404.712 897.523 403.369 Q899.769 400.846 900.648 399.11 Q901.551 397.351 901.551 395.661 Q901.551 392.906 899.607 391.17 Q897.685 389.434 894.583 389.434 Q892.384 389.434 889.931 390.198 Q887.5 390.962 884.722 392.513 L884.722 387.791 Q887.546 386.656 890 386.078 Q892.454 385.499 894.491 385.499 Q899.861 385.499 903.056 388.184 Q906.25 390.869 906.25 395.36 Q906.25 397.49 905.44 399.411 Q904.653 401.309 902.546 403.902 Q901.968 404.573 898.866 407.791 Q895.764 410.985 890.116 416.749 Z\" fill=\"#000000\" fill-rule=\"evenodd\" fill-opacity=\"1\" /><path clip-path=\"url(#clip7700)\" d=\"M 0 0 M911.991 414.804 L916.875 414.804 L916.875 418.786 L913.079 426.193 L910.093 426.193 L911.991 418.786 L911.991 414.804 Z\" fill=\"#000000\" fill-rule=\"evenodd\" fill-opacity=\"1\" /><path clip-path=\"url(#clip7700)\" d=\"M 0 0 M941.042 416.749 L957.361 416.749 L957.361 420.684 L935.417 420.684 L935.417 416.749 Q938.079 413.994 942.662 409.365 Q947.268 404.712 948.449 403.369 Q950.694 400.846 951.574 399.11 Q952.477 397.351 952.477 395.661 Q952.477 392.906 950.532 391.17 Q948.611 389.434 945.509 389.434 Q943.31 389.434 940.856 390.198 Q938.426 390.962 935.648 392.513 L935.648 387.791 Q938.472 386.656 940.926 386.078 Q943.38 385.499 945.417 385.499 Q950.787 385.499 953.981 388.184 Q957.176 390.869 957.176 395.36 Q957.176 397.49 956.366 399.411 Q955.579 401.309 953.472 403.902 Q952.893 404.573 949.792 407.791 Q946.69 410.985 941.042 416.749 Z\" fill=\"#000000\" fill-rule=\"evenodd\" fill-opacity=\"1\" /><path clip-path=\"url(#clip7700)\" d=\"M 0 0 M972.43 389.203 Q968.819 389.203 966.99 392.768 Q965.185 396.309 965.185 403.439 Q965.185 410.545 966.99 414.11 Q968.819 417.652 972.43 417.652 Q976.065 417.652 977.87 414.11 Q979.699 410.545 979.699 403.439 Q979.699 396.309 977.87 392.768 Q976.065 389.203 972.43 389.203 M972.43 385.499 Q978.24 385.499 981.296 390.106 Q984.375 394.689 984.375 403.439 Q984.375 412.166 981.296 416.772 Q978.24 421.355 972.43 421.355 Q966.62 421.355 963.541 416.772 Q960.486 412.166 960.486 403.439 Q960.486 394.689 963.541 390.106 Q966.62 385.499 972.43 385.499 Z\" fill=\"#000000\" fill-rule=\"evenodd\" fill-opacity=\"1\" /><path clip-path=\"url(#clip7700)\" d=\"M 0 0 M993.472 416.749 L1009.79 416.749 L1009.79 420.684 L987.847 420.684 L987.847 416.749 Q990.509 413.994 995.092 409.365 Q999.699 404.712 1000.88 403.369 Q1003.12 400.846 1004 399.11 Q1004.91 397.351 1004.91 395.661 Q1004.91 392.906 1002.96 391.17 Q1001.04 389.434 997.939 389.434 Q995.74 389.434 993.287 390.198 Q990.856 390.962 988.078 392.513 L988.078 387.791 Q990.902 386.656 993.356 386.078 Q995.81 385.499 997.847 385.499 Q1003.22 385.499 1006.41 388.184 Q1009.61 390.869 1009.61 395.36 Q1009.61 397.49 1008.8 399.411 Q1008.01 401.309 1005.9 403.902 Q1005.32 404.573 1002.22 407.791 Q999.12 410.985 993.472 416.749 Z\" fill=\"#000000\" fill-rule=\"evenodd\" fill-opacity=\"1\" /><path clip-path=\"url(#clip7700)\" d=\"M 0 0 M1015.67 416.749 L1023.31 416.749 L1023.31 390.383 L1015 392.05 L1015 387.791 L1023.26 386.124 L1027.94 386.124 L1027.94 416.749 L1035.58 416.749 L1035.58 420.684 L1015.67 420.684 L1015.67 416.749 Z\" fill=\"#000000\" fill-rule=\"evenodd\" fill-opacity=\"1\" /></svg>\n"
      ]
     },
     "execution_count": 13,
     "metadata": {},
     "output_type": "execute_result"
    }
   ],
   "source": [
    "## Draw Plot\n",
    "\n",
    "using Plots \n",
    "\n",
    "gr()\n",
    "plot(            x_axis_dates,\n",
    "               [ y_axis_original   y_axis_predicted ], # y-axis\n",
    "    label    = [ symbol_to_predict \"predicted\"  \"\" ],\n",
    "    legend   =:topleft, \n",
    "              # :right, :left, :top, :bottom, :inside, :best, :legend, :topright, :topleft, :bottomleft, :bottomright\n",
    "    xlabel   = \"date\",\n",
    "    ylabel   = \"value\",\n",
    "    size     = (980, 400), # width, height\n",
    "    layout = (1, 1), # number of graphs: vertically, horizontally\n",
    "    )\n",
    "\n",
    "## Add veritical today line\n",
    "\n",
    "plot!([today_id], seriestype=\"vline\", label=[ \"Today \"*t \"\" ],)"
   ]
  },
  {
   "cell_type": "code",
   "execution_count": 14,
   "metadata": {
    "ExecuteTime": {
     "end_time": "2021-01-02T12:39:28.632000-05:00",
     "start_time": "2021-01-02T17:38:31.132Z"
    }
   },
   "outputs": [
    {
     "name": "stdout",
     "output_type": "stream",
     "text": [
      "Saving plot image to ../images/predictions_AAPL.png\n"
     ]
    }
   ],
   "source": [
    "## Save plot graph\n",
    "\n",
    "path_to_save = \"../images/predictions_\" * symbol_to_predict * \".png\"\n",
    "println(\"Saving plot image to \", path_to_save)\n",
    "savefig(path_to_save)"
   ]
  },
  {
   "cell_type": "code",
   "execution_count": 15,
   "metadata": {
    "ExecuteTime": {
     "end_time": "2021-01-02T12:39:29.551000-05:00",
     "start_time": "2021-01-02T17:38:31.137Z"
    }
   },
   "outputs": [
    {
     "name": "stdout",
     "output_type": "stream",
     "text": [
      "AAPL 2021-01-02\n",
      "Sun, 2020-12-27\t predicted 118.0\t, but actual value was \t118.0\t difference is 0.0\n",
      "Mon, 2020-12-28\t predicted 119.0\t, but actual value was \t120.0\t difference is -1.0\n",
      "Tue, 2020-12-29\t predicted 121.0\t, but actual value was \t121.0\t difference is 0.0\n",
      "Wed, 2020-12-30\t predicted 121.0\t, but actual value was \t122.0\t difference is -1.0\n",
      "Thu, 2020-12-31\t predicted 122.0\t, but actual value was \t122.0\t difference is 0.0\n",
      "Fri, 2021-01-01\t predicted 122.0\t, but actual value was \t122.0\t difference is 0.0\n",
      "Sat, 2021-01-02\t predicted 122.0\t, but actual value was \t121.0\t difference is 1.0\n",
      "Sun, 2021-01-03\t predicted 121.0\n",
      "Mon, 2021-01-04\t predicted 121.0\n",
      "Tue, 2021-01-05\t predicted 121.0\n",
      "Wed, 2021-01-06\t predicted 120.0\n",
      "Thu, 2021-01-07\t predicted 119.0\n"
     ]
    }
   ],
   "source": [
    "## print prediction comparisons\n",
    "\n",
    "println(symbol_to_predict, \" \", today())\n",
    "\n",
    "data_original = y_axis_original\n",
    "data_predicted = y_axis_predicted\n",
    "data_all_predicitons = data_to_predict\n",
    "\n",
    "include(\"../Julia/print_predictions.jl\")\n",
    "print_predictions(data_to_predict,prediction_results, symbol_to_predict)"
   ]
  },
  {
   "cell_type": "code",
   "execution_count": null,
   "metadata": {},
   "outputs": [],
   "source": []
  }
 ],
 "metadata": {
  "kernelspec": {
   "display_name": "Julia 1.5.1",
   "language": "julia",
   "name": "julia-1.5"
  },
  "language_info": {
   "file_extension": ".jl",
   "mimetype": "application/julia",
   "name": "julia",
   "version": "1.5.1"
  },
  "toc": {
   "base_numbering": 1,
   "nav_menu": {},
   "number_sections": true,
   "sideBar": true,
   "skip_h1_title": true,
   "title_cell": "Table of Contents",
   "title_sidebar": "Contents",
   "toc_cell": true,
   "toc_position": {},
   "toc_section_display": true,
   "toc_window_display": true
  },
  "varInspector": {
   "cols": {
    "lenName": 16,
    "lenType": 16,
    "lenVar": 40
   },
   "kernels_config": {
    "python": {
     "delete_cmd_postfix": "",
     "delete_cmd_prefix": "del ",
     "library": "var_list.py",
     "varRefreshCmd": "print(var_dic_list())"
    },
    "r": {
     "delete_cmd_postfix": ") ",
     "delete_cmd_prefix": "rm(",
     "library": "var_list.r",
     "varRefreshCmd": "cat(var_dic_list()) "
    }
   },
   "types_to_exclude": [
    "module",
    "function",
    "builtin_function_or_method",
    "instance",
    "_Feature"
   ],
   "window_display": false
  }
 },
 "nbformat": 4,
 "nbformat_minor": 4
}
