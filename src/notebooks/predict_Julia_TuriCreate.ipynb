{
 "cells": [
  {
   "cell_type": "markdown",
   "metadata": {},
   "source": [
    "# Prediction Model using TuriCreate in Julia"
   ]
  },
  {
   "cell_type": "markdown",
   "metadata": {
    "toc": true
   },
   "source": [
    "<h1>Table of Contents<span class=\"tocSkip\"></span></h1>\n",
    "<div class=\"toc\"><ul class=\"toc-item\"><li><span><a href=\"#Set-Up\" data-toc-modified-id=\"Set-Up-1\"><span class=\"toc-item-num\">1&nbsp;&nbsp;</span>Set Up</a></span></li><li><span><a href=\"#Fetch-Data-(SFrame)-from-Uber-CSV\" data-toc-modified-id=\"Fetch-Data-(SFrame)-from-Uber-CSV-2\"><span class=\"toc-item-num\">2&nbsp;&nbsp;</span>Fetch Data (SFrame) from Uber CSV</a></span></li><li><span><a href=\"#Split-Data\" data-toc-modified-id=\"Split-Data-3\"><span class=\"toc-item-num\">3&nbsp;&nbsp;</span>Split Data</a></span></li><li><span><a href=\"#Evaluate-the-Model\" data-toc-modified-id=\"Evaluate-the-Model-4\"><span class=\"toc-item-num\">4&nbsp;&nbsp;</span>Evaluate the Model</a></span></li><li><span><a href=\"#Save-/-Export-the-Model\" data-toc-modified-id=\"Save-/-Export-the-Model-5\"><span class=\"toc-item-num\">5&nbsp;&nbsp;</span>Save / Export the Model</a></span></li><li><span><a href=\"#Make-predictions\" data-toc-modified-id=\"Make-predictions-6\"><span class=\"toc-item-num\">6&nbsp;&nbsp;</span>Make predictions</a></span><ul class=\"toc-item\"><li><span><a href=\"#Explore-SFrame\" data-toc-modified-id=\"Explore-SFrame-6.1\"><span class=\"toc-item-num\">6.1&nbsp;&nbsp;</span>Explore SFrame</a></span></li></ul></li></ul></div>"
   ]
  },
  {
   "cell_type": "markdown",
   "metadata": {},
   "source": [
    "## Set Up"
   ]
  },
  {
   "cell_type": "code",
   "execution_count": 1,
   "metadata": {
    "ExecuteTime": {
     "end_time": "2020-12-11T20:54:21.368000-05:00",
     "start_time": "2020-12-12T01:54:20.457Z"
    }
   },
   "outputs": [
    {
     "name": "stdout",
     "output_type": "stream",
     "text": [
      "\n"
     ]
    }
   ],
   "source": [
    "symbol_to_predict = \"DJIA\"\n",
    "symbol_to_predict = \"AAPL\"\n",
    "#symbol_to_predict = \"VIX\"\n",
    "# symbol_to_predict = \"NIO\"\n",
    "#symbol_to_predict = \"NVDA\"\n",
    "\n",
    "features_to_analyze = \n",
    "[\n",
    " \n",
    "\"GSPC_Quantized\"\n",
    ",\"GSPC_Avg005\"\n",
    ",\"GSPC_Avg010\"\n",
    ",\"GSPC_Avg030\"\n",
    ",\"GSPC_Avg060\"\n",
    ",\"GSPC_Avg090\"\n",
    ",\"GSPC_Avg120\"\n",
    ",\"GSPC_Avg180\"\n",
    " \n",
    ",\"BTC_USD_Quantized\"\n",
    ",\"BTC_USD_Avg005\"\n",
    ",\"BTC_USD_Avg010\"\n",
    ",\"BTC_USD_Avg030\"\n",
    ",\"BTC_USD_Avg060\"\n",
    ",\"BTC_USD_Avg090\"\n",
    ",\"BTC_USD_Avg120\"\n",
    ",\"BTC_USD_Avg180\"\n",
    " \n",
    ",\"DALLAS_FED_MFC_Quantized\"\n",
    ",\"DALLAS_FED_MFC_Avg005\"\n",
    ",\"DALLAS_FED_MFC_Avg010\"\n",
    ",\"DALLAS_FED_MFC_Avg030\"\n",
    ",\"DALLAS_FED_MFC_Avg060\"\n",
    ",\"DALLAS_FED_MFC_Avg090\"\n",
    ",\"DALLAS_FED_MFC_Avg120\"\n",
    ",\"DALLAS_FED_MFC_Avg180\"\n",
    " \n",
    ",\"GOLD_Quantized\"\n",
    ",\"GOLD_Avg005\"\n",
    ",\"GOLD_Avg010\"\n",
    ",\"GOLD_Avg030\"\n",
    ",\"GOLD_Avg060\"\n",
    ",\"GOLD_Avg090\"\n",
    ",\"GOLD_Avg120\"\n",
    ",\"GOLD_Avg180\"\n",
    " \n",
    ",\"GELYF_Quantized\"\n",
    ",\"GELYF_Avg005\"\n",
    ",\"GELYF_Avg010\"\n",
    ",\"GELYF_Avg030\"\n",
    ",\"GELYF_Avg060\"\n",
    ",\"GELYF_Avg090\"\n",
    ",\"GELYF_Avg120\"\n",
    ",\"GELYF_Avg180\"\n",
    " \n",
    ",\"US_PEND_HOME_SALE_M_Quantized\"\n",
    ",\"US_PEND_HOME_SALE_M_Avg005\"\n",
    ",\"US_PEND_HOME_SALE_M_Avg010\"\n",
    ",\"US_PEND_HOME_SALE_M_Avg030\"\n",
    ",\"US_PEND_HOME_SALE_M_Avg060\"\n",
    ",\"US_PEND_HOME_SALE_M_Avg090\"\n",
    ",\"US_PEND_HOME_SALE_M_Avg120\"\n",
    ",\"US_PEND_HOME_SALE_M_Avg180\"\n",
    " \n",
    ",\"TNX_Quantized\"\n",
    ",\"TNX_Avg005\"\n",
    ",\"TNX_Avg010\"\n",
    ",\"TNX_Avg030\"\n",
    ",\"TNX_Avg060\"\n",
    ",\"TNX_Avg090\"\n",
    ",\"TNX_Avg120\"\n",
    ",\"TNX_Avg180\"\n",
    " \n",
    ",\"TSLA_Quantized\"\n",
    ",\"TSLA_Avg005\"\n",
    ",\"TSLA_Avg010\"\n",
    ",\"TSLA_Avg030\"\n",
    ",\"TSLA_Avg060\"\n",
    ",\"TSLA_Avg090\"\n",
    ",\"TSLA_Avg120\"\n",
    ",\"TSLA_Avg180\"\n",
    " \n",
    ",\"US_BUILD_PERM_Quantized\"\n",
    ",\"US_BUILD_PERM_Avg005\"\n",
    ",\"US_BUILD_PERM_Avg010\"\n",
    ",\"US_BUILD_PERM_Avg030\"\n",
    ",\"US_BUILD_PERM_Avg060\"\n",
    ",\"US_BUILD_PERM_Avg090\"\n",
    ",\"US_BUILD_PERM_Avg120\"\n",
    ",\"US_BUILD_PERM_Avg180\"\n",
    " \n",
    ",\"BYDDF_Quantized\"\n",
    ",\"BYDDF_Avg005\"\n",
    ",\"BYDDF_Avg010\"\n",
    ",\"BYDDF_Avg030\"\n",
    ",\"BYDDF_Avg060\"\n",
    ",\"BYDDF_Avg090\"\n",
    ",\"BYDDF_Avg120\"\n",
    ",\"BYDDF_Avg180\"\n",
    " \n",
    ",\"US_INDS_PROD_M_Quantized\"\n",
    ",\"US_INDS_PROD_M_Avg005\"\n",
    ",\"US_INDS_PROD_M_Avg010\"\n",
    ",\"US_INDS_PROD_M_Avg030\"\n",
    ",\"US_INDS_PROD_M_Avg060\"\n",
    ",\"US_INDS_PROD_M_Avg090\"\n",
    ",\"US_INDS_PROD_M_Avg120\"\n",
    ",\"US_INDS_PROD_M_Avg180\"\n",
    " \n",
    ",\"US_ISM_MFC_EMPL_Quantized\"\n",
    ",\"US_ISM_MFC_EMPL_Avg005\"\n",
    ",\"US_ISM_MFC_EMPL_Avg010\"\n",
    ",\"US_ISM_MFC_EMPL_Avg030\"\n",
    ",\"US_ISM_MFC_EMPL_Avg060\"\n",
    ",\"US_ISM_MFC_EMPL_Avg090\"\n",
    ",\"US_ISM_MFC_EMPL_Avg120\"\n",
    ",\"US_ISM_MFC_EMPL_Avg180\"\n",
    " \n",
    ",\"US_INIT_JOB_CLAIM_Quantized\"\n",
    ",\"US_INIT_JOB_CLAIM_Avg005\"\n",
    ",\"US_INIT_JOB_CLAIM_Avg010\"\n",
    ",\"US_INIT_JOB_CLAIM_Avg030\"\n",
    ",\"US_INIT_JOB_CLAIM_Avg060\"\n",
    ",\"US_INIT_JOB_CLAIM_Avg090\"\n",
    ",\"US_INIT_JOB_CLAIM_Avg120\"\n",
    ",\"US_INIT_JOB_CLAIM_Avg180\"\n",
    " \n",
    ",\"US_UNEMPLOY_RATE_Quantized\"\n",
    ",\"US_UNEMPLOY_RATE_Avg005\"\n",
    ",\"US_UNEMPLOY_RATE_Avg010\"\n",
    ",\"US_UNEMPLOY_RATE_Avg030\"\n",
    ",\"US_UNEMPLOY_RATE_Avg060\"\n",
    ",\"US_UNEMPLOY_RATE_Avg090\"\n",
    ",\"US_UNEMPLOY_RATE_Avg120\"\n",
    ",\"US_UNEMPLOY_RATE_Avg180\"\n",
    " \n",
    ",\"NVDA_Quantized\"\n",
    ",\"NVDA_Avg005\"\n",
    ",\"NVDA_Avg010\"\n",
    ",\"NVDA_Avg030\"\n",
    ",\"NVDA_Avg060\"\n",
    ",\"NVDA_Avg090\"\n",
    ",\"NVDA_Avg120\"\n",
    ",\"NVDA_Avg180\"\n",
    " \n",
    ",\"NRMGX_Quantized\"\n",
    ",\"NRMGX_Avg005\"\n",
    ",\"NRMGX_Avg010\"\n",
    ",\"NRMGX_Avg030\"\n",
    ",\"NRMGX_Avg060\"\n",
    ",\"NRMGX_Avg090\"\n",
    ",\"NRMGX_Avg120\"\n",
    ",\"NRMGX_Avg180\"\n",
    " \n",
    ",\"US_HOUS_STRS_M_Quantized\"\n",
    ",\"US_HOUS_STRS_M_Avg005\"\n",
    ",\"US_HOUS_STRS_M_Avg010\"\n",
    ",\"US_HOUS_STRS_M_Avg030\"\n",
    ",\"US_HOUS_STRS_M_Avg060\"\n",
    ",\"US_HOUS_STRS_M_Avg090\"\n",
    ",\"US_HOUS_STRS_M_Avg120\"\n",
    ",\"US_HOUS_STRS_M_Avg180\"\n",
    " \n",
    ",\"HD_Quantized\"\n",
    ",\"HD_Avg005\"\n",
    ",\"HD_Avg010\"\n",
    ",\"HD_Avg030\"\n",
    ",\"HD_Avg060\"\n",
    ",\"HD_Avg090\"\n",
    ",\"HD_Avg120\"\n",
    ",\"HD_Avg180\"\n",
    " \n",
    ",\"US_GDP_Q_Quantized\"\n",
    ",\"US_GDP_Q_Avg005\"\n",
    ",\"US_GDP_Q_Avg010\"\n",
    ",\"US_GDP_Q_Avg030\"\n",
    ",\"US_GDP_Q_Avg060\"\n",
    ",\"US_GDP_Q_Avg090\"\n",
    ",\"US_GDP_Q_Avg120\"\n",
    ",\"US_GDP_Q_Avg180\"\n",
    " \n",
    ",\"VIX_Quantized\"\n",
    ",\"VIX_Avg005\"\n",
    ",\"VIX_Avg010\"\n",
    ",\"VIX_Avg030\"\n",
    ",\"VIX_Avg060\"\n",
    ",\"VIX_Avg090\"\n",
    ",\"VIX_Avg120\"\n",
    ",\"VIX_Avg180\"\n",
    " \n",
    ",\"TPLGX_Quantized\"\n",
    ",\"TPLGX_Avg005\"\n",
    ",\"TPLGX_Avg010\"\n",
    ",\"TPLGX_Avg030\"\n",
    ",\"TPLGX_Avg060\"\n",
    ",\"TPLGX_Avg090\"\n",
    ",\"TPLGX_Avg120\"\n",
    ",\"TPLGX_Avg180\"\n",
    " \n",
    ",\"US_ISM_MFC_PMI_Quantized\"\n",
    ",\"US_ISM_MFC_PMI_Avg005\"\n",
    ",\"US_ISM_MFC_PMI_Avg010\"\n",
    ",\"US_ISM_MFC_PMI_Avg030\"\n",
    ",\"US_ISM_MFC_PMI_Avg060\"\n",
    ",\"US_ISM_MFC_PMI_Avg090\"\n",
    ",\"US_ISM_MFC_PMI_Avg120\"\n",
    ",\"US_ISM_MFC_PMI_Avg180\"\n",
    " \n",
    ",\"VINIX_Quantized\"\n",
    ",\"VINIX_Avg005\"\n",
    ",\"VINIX_Avg010\"\n",
    ",\"VINIX_Avg030\"\n",
    ",\"VINIX_Avg060\"\n",
    ",\"VINIX_Avg090\"\n",
    ",\"VINIX_Avg120\"\n",
    ",\"VINIX_Avg180\"\n",
    " \n",
    ",\"VBTLX_Quantized\"\n",
    ",\"VBTLX_Avg005\"\n",
    ",\"VBTLX_Avg010\"\n",
    ",\"VBTLX_Avg030\"\n",
    ",\"VBTLX_Avg060\"\n",
    ",\"VBTLX_Avg090\"\n",
    ",\"VBTLX_Avg120\"\n",
    ",\"VBTLX_Avg180\"\n",
    " \n",
    ",\"RERGX_Quantized\"\n",
    ",\"RERGX_Avg005\"\n",
    ",\"RERGX_Avg010\"\n",
    ",\"RERGX_Avg030\"\n",
    ",\"RERGX_Avg060\"\n",
    ",\"RERGX_Avg090\"\n",
    ",\"RERGX_Avg120\"\n",
    ",\"RERGX_Avg180\"\n",
    " \n",
    ",\"CRSP_Quantized\"\n",
    ",\"CRSP_Avg005\"\n",
    ",\"CRSP_Avg010\"\n",
    ",\"CRSP_Avg030\"\n",
    ",\"CRSP_Avg060\"\n",
    ",\"CRSP_Avg090\"\n",
    ",\"CRSP_Avg120\"\n",
    ",\"CRSP_Avg180\"\n",
    " \n",
    ",\"BABA_Quantized\"\n",
    ",\"BABA_Avg005\"\n",
    ",\"BABA_Avg010\"\n",
    ",\"BABA_Avg030\"\n",
    ",\"BABA_Avg060\"\n",
    ",\"BABA_Avg090\"\n",
    ",\"BABA_Avg120\"\n",
    ",\"BABA_Avg180\"\n",
    " \n",
    ",\"DJIA_Quantized\"\n",
    ",\"DJIA_Avg005\"\n",
    ",\"DJIA_Avg010\"\n",
    ",\"DJIA_Avg030\"\n",
    ",\"DJIA_Avg060\"\n",
    ",\"DJIA_Avg090\"\n",
    ",\"DJIA_Avg120\"\n",
    ",\"DJIA_Avg180\"\n",
    " \n",
    "#,\"AAPL_Quantized\"\n",
    ",\"AAPL_Avg005\"\n",
    ",\"AAPL_Avg010\"\n",
    ",\"AAPL_Avg030\"\n",
    ",\"AAPL_Avg060\"\n",
    ",\"AAPL_Avg090\"\n",
    ",\"AAPL_Avg120\"\n",
    ",\"AAPL_Avg180\"\n",
    " \n",
    "    \n",
    "]\n",
    "\n",
    "println()"
   ]
  },
  {
   "cell_type": "code",
   "execution_count": 2,
   "metadata": {
    "ExecuteTime": {
     "end_time": "2020-12-11T20:54:26.313000-05:00",
     "start_time": "2020-12-12T01:54:20.462Z"
    }
   },
   "outputs": [
    {
     "name": "stdout",
     "output_type": "stream",
     "text": [
      "\n"
     ]
    },
    {
     "data": {
      "text/plain": [
       "\"AAPL_Original\""
      ]
     },
     "execution_count": 2,
     "metadata": {},
     "output_type": "execute_result"
    }
   ],
   "source": [
    "## uncomment for the first run\n",
    "# import Pkg\n",
    "# Pkg.add(\"PyCall\")\n",
    "# Pkg.add(\"Conda\")\n",
    "# ENV[\"PYTHON\"] = \"/opt/anaconda3/envs/turi/bin/python\"\n",
    "# /opt/anaconda3/envs/turi/lib/python3.6/site-packages/\n",
    "# Pkg.build(\"PyCall\")\n",
    "\n",
    "include(\"../Julia/functions.jl\") \n",
    "data_path=\"../DATA/processed/uber_training.csv\"\n",
    "column_to_predict = symbol_to_predict * \"_Original\""
   ]
  },
  {
   "cell_type": "markdown",
   "metadata": {},
   "source": [
    "## Fetch Data (SFrame) from Uber CSV"
   ]
  },
  {
   "cell_type": "code",
   "execution_count": 3,
   "metadata": {
    "ExecuteTime": {
     "end_time": "2020-12-11T20:54:30.717000-05:00",
     "start_time": "2020-12-12T01:54:20.467Z"
    }
   },
   "outputs": [
    {
     "name": "stdout",
     "output_type": "stream",
     "text": [
      "Finished parsing file /Users/uki/REPOS/MarketIndicators.jl/src/DATA/processed/uber_training.csv\n",
      "Parsing completed. Parsed 100 lines in 0.035993 secs.\n",
      "------------------------------------------------------\n",
      "Inferred types from first 100 line(s) of file as \n",
      "column_type_hints=[int,str,float,float,float,float,float,float,float,float,float,float,float,float,float,float,float,float,float,float,float,float,float,float,float,float,float,float,float,float,float,float,float,float,float,float,float,float,float,float,float,float,float,float,float,float,float,float,float,float,float,float,float,float,float,float,float,float,float,float,float,float,float,float,float,float,float,float,float,float,float,float,float,float,float,float,float,float,float,float,float,float,float,float,float,float,float,float,float,float,float,float,float,float,float,float,float,float,float,float,float,float,float,float,float,float,float,float,float,float,float,float,float,float,float,float,float,float,float,float,float,float,float,float,float,float,float,float,float,float,float,float,float,float,float,float,float,float,float,float,float,float,float,float,float,float,float,float,float,float,float,float,float,float,float,float,float,float,float,float,float,float,float,float,float,float,float,float,float,float,float,float,float,float,float,float,float,float,float,float,float,float,float,float,float,float,float,float,float,float,float,float,float,float,float,float,float,float,float,float,float,float,float,float,float,float,float,float,float,float,float,float,float,float,float,float,float,float,float,float,float,float,float,float,float,float,float,float,float,float,float,float,float,float,float,float,float,float,float,float,float,float,float,float,float,float,float,float,float,float,float,float,float,float,float,float,float,float,float,float,float,float,float]\n",
      "If parsing fails due to incorrect types, you can correct\n",
      "the inferred type list above and pass it to read_csv in\n",
      "the column_type_hints argument\n",
      "------------------------------------------------------\n",
      "Finished parsing file /Users/uki/REPOS/MarketIndicators.jl/src/DATA/processed/uber_training.csv\n",
      "Parsing completed. Parsed 452 lines in 0.015563 secs.\n",
      "\n"
     ]
    }
   ],
   "source": [
    "using PyCall\n",
    "tc = pyimport(\"turicreate\")\n",
    "data = tc.SFrame(data_path)\n",
    "println()"
   ]
  },
  {
   "cell_type": "markdown",
   "metadata": {},
   "source": [
    "## Split Data"
   ]
  },
  {
   "cell_type": "code",
   "execution_count": 4,
   "metadata": {
    "ExecuteTime": {
     "end_time": "2020-12-11T20:54:31.379000-05:00",
     "start_time": "2020-12-12T01:54:20.470Z"
    }
   },
   "outputs": [
    {
     "name": "stdout",
     "output_type": "stream",
     "text": [
      "(366,)\n",
      "(86,)\n"
     ]
    }
   ],
   "source": [
    "# Make a train-test split\n",
    "train_data, test_data = data.random_split(0.8)\n",
    "\n",
    "println( size(train_data) )\n",
    "println( size(test_data)  )"
   ]
  },
  {
   "cell_type": "code",
   "execution_count": 5,
   "metadata": {
    "ExecuteTime": {
     "end_time": "2020-12-11T20:54:34.149000-05:00",
     "start_time": "2020-12-12T01:54:20.474Z"
    }
   },
   "outputs": [
    {
     "name": "stdout",
     "output_type": "stream",
     "text": [
      "Automatically generating validation set from 5% of the data.\n",
      "Linear regression:\n",
      "--------------------------------------------------------\n",
      "Number of examples          : 345\n",
      "Number of features          : 231\n",
      "Number of unpacked features : 231\n",
      "Number of coefficients    : 232\n",
      "Starting Newton Method\n",
      "--------------------------------------------------------\n",
      "+-----------+----------+--------------+--------------------+----------------------+---------------------------------+-----------------------------------+\n",
      "| Iteration | Passes   | Elapsed Time | Training Max Error | Validation Max Error | Training Root-Mean-Square Error | Validation Root-Mean-Square Error |\n",
      "+-----------+----------+--------------+--------------------+----------------------+---------------------------------+-----------------------------------+\n",
      "| 1         | 2        | 1.042653     | 2.364939           | 1.669704             | 0.665363                        | 0.655824                          |\n",
      "+-----------+----------+--------------+--------------------+----------------------+---------------------------------+-----------------------------------+\n",
      "SUCCESS: Optimal solution found.\n",
      "\n"
     ]
    },
    {
     "data": {
      "text/plain": [
       "PyObject Class                          : LinearRegression\n",
       "\n",
       "Schema\n",
       "------\n",
       "Number of coefficients         : 232\n",
       "Number of examples             : 345\n",
       "Number of feature columns      : 231\n",
       "Number of unpacked features    : 231\n",
       "\n",
       "Hyperparameters\n",
       "---------------\n",
       "L1 penalty                     : 0\n",
       "L2 penalty                     : 0.01\n",
       "\n",
       "Training Summary\n",
       "----------------\n",
       "Solver                         : newton\n",
       "Solver iterations              : 1\n",
       "Solver status                  : SUCCESS: Optimal solution found.\n",
       "Training time (sec)            : 1.0582\n",
       "\n",
       "Settings\n",
       "--------\n",
       "Residual sum of squares        : 152.7344\n",
       "Training RMSE                  : 0.6654\n",
       "\n",
       "Highest Positive Coefficients\n",
       "-----------------------------\n",
       "(intercept)                    : 65.5898\n",
       "BTC_USD_Avg120                 : 0.5263\n",
       "AAPL_Avg005                    : 0.3521\n",
       "US_PEND_HOME_SALE_M_Avg180     : 0.3053\n",
       "US_INDS_PROD_M_Avg120          : 0.2051\n",
       "\n",
       "Lowest Negative Coefficients\n",
       "----------------------------\n",
       "GELYF_Avg090                   : -0.4392\n",
       "US_ISM_MFC_EMPL_Avg060         : -0.2176\n",
       "BTC_USD_Avg180                 : -0.2109\n",
       "GELYF_Avg180                   : -0.1765\n",
       "GELYF_Avg120                   : -0.1558\n"
      ]
     },
     "execution_count": 5,
     "metadata": {},
     "output_type": "execute_result"
    }
   ],
   "source": [
    "model = tc.regression.create( \n",
    "    train_data, \n",
    "    target = column_to_predict, \n",
    "    features = features_to_analyze, \n",
    "    validation_set=\"auto\", \n",
    "    verbose=true\n",
    ")"
   ]
  },
  {
   "cell_type": "markdown",
   "metadata": {},
   "source": [
    "## Evaluate the Model"
   ]
  },
  {
   "cell_type": "code",
   "execution_count": 6,
   "metadata": {
    "ExecuteTime": {
     "end_time": "2020-12-11T20:54:35.423000-05:00",
     "start_time": "2020-12-12T01:54:20.479Z"
    }
   },
   "outputs": [
    {
     "data": {
      "text/plain": [
       "Dict{Any,Any} with 2 entries:\n",
       "  \"rmse\"      => 1.20681\n",
       "  \"max_error\" => 5.14623"
      ]
     },
     "execution_count": 6,
     "metadata": {},
     "output_type": "execute_result"
    }
   ],
   "source": [
    "#TODO: write this in a loop to select the best model\n",
    "# Evaluate the model and save the results into a dictionary\n",
    "results = model.evaluate( test_data ) #test_data[0:2531]\n",
    "results"
   ]
  },
  {
   "cell_type": "code",
   "execution_count": 7,
   "metadata": {
    "ExecuteTime": {
     "end_time": "2020-12-11T20:54:35.601000-05:00",
     "start_time": "2020-12-12T01:54:20.484Z"
    }
   },
   "outputs": [
    {
     "name": "stdout",
     "output_type": "stream",
     "text": [
      "max_error: 5.15, rmse: 1.21\n"
     ]
    }
   ],
   "source": [
    "rmse = results[\"rmse\"]\n",
    "rmse = round(rmse, digits=2)\n",
    "\n",
    "max_error = results[\"max_error\"]\n",
    "max_error = round(max_error, digits=2)\n",
    "\n",
    "println( \"max_error: \", max_error, \", rmse: \", rmse )\n",
    "# max_error: 1069.27, rmse: 184.6\n",
    "# max_error: 65.35, rmse: 32.6            predict: ^DJIA added: US_INIT_JOBLESS\n",
    "# max_error: 1875.39, rmse: 443.59        predict: ^DJIA commented out: \"DJIA_Quantized\"\n",
    "# max_error: 1339.76, rmse: 373.94        predict: ^DJIA commented out: \"DJIA_Quantized\"\n",
    "# max_error: 916.19, rmse: 231.24       predict: ^DJIA with \"DJIA_Avg005\""
   ]
  },
  {
   "cell_type": "markdown",
   "metadata": {},
   "source": [
    "## Save / Export the Model"
   ]
  },
  {
   "cell_type": "code",
   "execution_count": 8,
   "metadata": {
    "ExecuteTime": {
     "end_time": "2020-12-11T20:54:35.627000-05:00",
     "start_time": "2020-12-12T01:54:20.488Z"
    }
   },
   "outputs": [],
   "source": [
    "# Export to Core ML\n",
    "model.export_coreml(\"../DATA/models/^DJI.mlmodel\")"
   ]
  },
  {
   "cell_type": "markdown",
   "metadata": {},
   "source": [
    "## Make predictions "
   ]
  },
  {
   "cell_type": "code",
   "execution_count": 9,
   "metadata": {
    "ExecuteTime": {
     "end_time": "2020-12-11T20:54:35.839000-05:00",
     "start_time": "2020-12-12T01:54:20.492Z"
    }
   },
   "outputs": [
    {
     "name": "stdout",
     "output_type": "stream",
     "text": [
      "Finished parsing file /Users/uki/REPOS/MarketIndicators.jl/src/DATA/processed/uber_prediction.csv\n",
      "Parsing completed. Parsed 95 lines in 0.041435 secs.\n",
      "------------------------------------------------------\n",
      "Inferred types from first 100 line(s) of file as \n",
      "column_type_hints=[int,str,float,float,float,float,float,float,float,float,float,float,float,float,float,float,float,float,float,float,float,float,float,float,float,float,float,float,float,float,float,float,float,float,float,float,float,float,float,float,float,float,float,float,float,float,float,float,float,float,float,float,float,float,float,float,float,float,float,float,float,float,float,float,float,float,float,float,float,float,float,float,float,float,float,float,float,float,float,float,float,float,float,float,float,float,float,float,float,float,float,float,float,float,float,float,float,float,float,float,float,float,float,float,float,float,float,float,float,float,float,float,float,float,float,float,float,float,float,float,float,float,float,float,float,float,float,float,float,float,float,float,float,float,float,float,float,float,float,float,float,float,float,float,float,float,float,float,float,float,float,float,float,float,float,float,float,float,float,float,float,float,float,float,float,float,float,float,float,float,float,float,float,float,float,float,float,float,float,float,float,float,float,float,float,float,float,float,float,float,float,float,float,float,float,float,float,float,float,float,float,float,float,float,float,float,float,float,float,float,float,float,float,float,float,float,float,float,float,float,float,float,float,float,float,float,float,float,float,float,float,float,float,float,float,float,float,float,float,float,float,float,float,float,float,float,float,float,float,float,float,float,float,float,float,float,float,float,float,float,float,float,float]\n",
      "If parsing fails due to incorrect types, you can correct\n",
      "the inferred type list above and pass it to read_csv in\n",
      "the column_type_hints argument\n",
      "------------------------------------------------------\n",
      "Finished parsing file /Users/uki/REPOS/MarketIndicators.jl/src/DATA/processed/uber_prediction.csv\n",
      "Parsing completed. Parsed 95 lines in 0.008949 secs.\n",
      "\n"
     ]
    }
   ],
   "source": [
    "data_path=\"../DATA/processed/uber_prediction.csv\"\n",
    "data_predictions = tc.SFrame(data_path)\n",
    "\n",
    "## Save predictions to an SArray\n",
    "predictions = model.predict(data_predictions)\n",
    "#get(predictions, 1)\n",
    "\n",
    "println()"
   ]
  },
  {
   "cell_type": "markdown",
   "metadata": {},
   "source": [
    "### Explore SFrame"
   ]
  },
  {
   "cell_type": "code",
   "execution_count": 10,
   "metadata": {
    "ExecuteTime": {
     "end_time": "2020-12-11T20:54:36.066000-05:00",
     "start_time": "2020-12-12T01:54:20.496Z"
    }
   },
   "outputs": [
    {
     "name": "stdout",
     "output_type": "stream",
     "text": [
      "record_count data 95\n",
      "record_count predictions 95\n",
      "feature_number 263\n",
      "Rata Die 737774\n",
      "date 2020-12-15\n",
      "original 30071.130859\n"
     ]
    }
   ],
   "source": [
    "record_count = size(data_predictions)[1]\n",
    "row = get(data_predictions, record_count-1)\n",
    "\n",
    "feature_number = row.count\n",
    "day = row[\"Rata_Die\"]\n",
    "date = row[\"Date\"] # \"2020-10-20\"\n",
    "original = row[\"DJIA_Original\"]\n",
    "\n",
    "println( \"record_count data \", record_count )\n",
    "println( \"record_count predictions \", size(predictions)[1] )\n",
    "\n",
    "println( \"feature_number \", feature_number )\n",
    "println( \"Rata Die \", day )\n",
    "println( \"date \", date )\n",
    "println( \"original \", original )"
   ]
  },
  {
   "cell_type": "code",
   "execution_count": 11,
   "metadata": {
    "ExecuteTime": {
     "end_time": "2020-12-11T20:54:39.092000-05:00",
     "start_time": "2020-12-12T01:54:20.501Z"
    }
   },
   "outputs": [
    {
     "name": "stdout",
     "output_type": "stream",
     "text": [
      "preditions set size: 94, step 5\n",
      "AAPL 94 Array{Date,1}\n",
      "t = Dec. 11, 2020 - String\n",
      "\n"
     ]
    }
   ],
   "source": [
    "using Dates\n",
    "today_rata = Dates.datetime2rata( today() )\n",
    "\n",
    "## Determine dataset size\n",
    "\n",
    "initio = 1                                              # latin: start\n",
    "finem  = size(predictions)[1] -1                        # latin: end\n",
    "gradus = convert(Int64, round( finem/20, digits=0)  )   # latin: step\n",
    "\n",
    "println(\"preditions set size: \", finem, \", step \", gradus)\n",
    "\n",
    "\n",
    "## Declare variables\n",
    "x_axis_dates      = Vector{Date}() # results in Array{Date,1}\n",
    "y_axis_original   = Vector{Float64}()\n",
    "y_axis_predicted  = Vector{Float64}()\n",
    "\n",
    "println(symbol_to_predict, \" \", finem, \" \", typeof(x_axis_dates))\n",
    "\n",
    "today_id  = 50 # not set yet\n",
    "\n",
    "## step thru each prediction\n",
    "for id in initio:finem\n",
    "    row = get(data_predictions, id) # get a dictionary of data from the SFrame\n",
    "    \n",
    "    date_string = row[\"Date\"] # e.g. \"2020-10-20\"\n",
    "    date = Date(date_string) # 2020-09-07 Date\n",
    "    if date == today()\n",
    "        today_id = id\n",
    "    end \n",
    "    #date = Dates.format(date, \"u.d,yy\" )\n",
    "    #println(\"date \", date, \" \", typeof(date))\n",
    "    push!(x_axis_dates, date)\n",
    "    \n",
    "    predicted = get(predictions, id) # Float64\n",
    "    predicted = round(predicted, digits=0)\n",
    "    #println(\"predicted \", predicted, \" \", typeof(predicted))\n",
    "    append!(y_axis_predicted, predicted)\n",
    "    \n",
    "    \n",
    "    original = row[ column_to_predict ]\n",
    "    original = round(original, digits=0) # Float64\n",
    "    #println(\"original \", original, \" \", typeof(original)) \n",
    "    append!(y_axis_original, original)\n",
    "end\n",
    "\n",
    "## Format Dates for plotting\n",
    "include(\"../Julia/function_format_dates.jl\")\n",
    "x_axis_dates = format_dates(x_axis_dates, \"u. d, yy \")\n",
    "\n",
    "\n",
    "\n",
    "t = today()# Date\n",
    "t = format_dates([t], \"u. d, yyyy\") # Array{String,1}\n",
    "t = t[1] # String\n",
    "println(\"t = \", t, \" - \", typeof(t))\n",
    "\n",
    "println()"
   ]
  },
  {
   "cell_type": "code",
   "execution_count": 12,
   "metadata": {
    "ExecuteTime": {
     "end_time": "2020-12-11T20:55:25.019000-05:00",
     "start_time": "2020-12-12T01:54:20.506Z"
    }
   },
   "outputs": [
    {
     "data": {
      "image/svg+xml": [
       "<?xml version=\"1.0\" encoding=\"utf-8\"?>\n",
       "<svg xmlns=\"http://www.w3.org/2000/svg\" xmlns:xlink=\"http://www.w3.org/1999/xlink\" width=\"980\" height=\"400\" viewBox=\"0 0 3920 1600\">\n",
       "<defs>\n",
       "  <clipPath id=\"clip8100\">\n",
       "    <rect x=\"0\" y=\"0\" width=\"3920\" height=\"1600\"/>\n",
       "  </clipPath>\n",
       "</defs>\n",
       "<path clip-path=\"url(#clip8100)\" d=\"\n",
       "M0 1600 L3920 1600 L3920 0 L0 0  Z\n",
       "  \" fill=\"#ffffff\" fill-rule=\"evenodd\" fill-opacity=\"1\"/>\n",
       "<defs>\n",
       "  <clipPath id=\"clip8101\">\n",
       "    <rect x=\"784\" y=\"0\" width=\"2745\" height=\"1600\"/>\n",
       "  </clipPath>\n",
       "</defs>\n",
       "<path clip-path=\"url(#clip8100)\" d=\"\n",
       "M223.639 1423.18 L3872.76 1423.18 L3872.76 47.2441 L223.639 47.2441  Z\n",
       "  \" fill=\"#ffffff\" fill-rule=\"evenodd\" fill-opacity=\"1\"/>\n",
       "<defs>\n",
       "  <clipPath id=\"clip8102\">\n",
       "    <rect x=\"223\" y=\"47\" width=\"3650\" height=\"1377\"/>\n",
       "  </clipPath>\n",
       "</defs>\n",
       "<polyline clip-path=\"url(#clip8102)\" style=\"stroke:#000000; stroke-width:2; stroke-opacity:0.1; fill:none\" points=\"\n",
       "  326.916,1423.18 326.916,47.2441 \n",
       "  \"/>\n",
       "<polyline clip-path=\"url(#clip8102)\" style=\"stroke:#000000; stroke-width:2; stroke-opacity:0.1; fill:none\" points=\"\n",
       "  586.034,1423.18 586.034,47.2441 \n",
       "  \"/>\n",
       "<polyline clip-path=\"url(#clip8102)\" style=\"stroke:#000000; stroke-width:2; stroke-opacity:0.1; fill:none\" points=\"\n",
       "  808.135,1423.18 808.135,47.2441 \n",
       "  \"/>\n",
       "<polyline clip-path=\"url(#clip8102)\" style=\"stroke:#000000; stroke-width:2; stroke-opacity:0.1; fill:none\" points=\"\n",
       "  1067.25,1423.18 1067.25,47.2441 \n",
       "  \"/>\n",
       "<polyline clip-path=\"url(#clip8102)\" style=\"stroke:#000000; stroke-width:2; stroke-opacity:0.1; fill:none\" points=\"\n",
       "  1326.37,1423.18 1326.37,47.2441 \n",
       "  \"/>\n",
       "<polyline clip-path=\"url(#clip8102)\" style=\"stroke:#000000; stroke-width:2; stroke-opacity:0.1; fill:none\" points=\"\n",
       "  1548.47,1423.18 1548.47,47.2441 \n",
       "  \"/>\n",
       "<polyline clip-path=\"url(#clip8102)\" style=\"stroke:#000000; stroke-width:2; stroke-opacity:0.1; fill:none\" points=\"\n",
       "  1807.59,1423.18 1807.59,47.2441 \n",
       "  \"/>\n",
       "<polyline clip-path=\"url(#clip8102)\" style=\"stroke:#000000; stroke-width:2; stroke-opacity:0.1; fill:none\" points=\"\n",
       "  2066.71,1423.18 2066.71,47.2441 \n",
       "  \"/>\n",
       "<polyline clip-path=\"url(#clip8102)\" style=\"stroke:#000000; stroke-width:2; stroke-opacity:0.1; fill:none\" points=\"\n",
       "  2288.81,1423.18 2288.81,47.2441 \n",
       "  \"/>\n",
       "<polyline clip-path=\"url(#clip8102)\" style=\"stroke:#000000; stroke-width:2; stroke-opacity:0.1; fill:none\" points=\"\n",
       "  2547.92,1423.18 2547.92,47.2441 \n",
       "  \"/>\n",
       "<polyline clip-path=\"url(#clip8102)\" style=\"stroke:#000000; stroke-width:2; stroke-opacity:0.1; fill:none\" points=\"\n",
       "  2770.03,1423.18 2770.03,47.2441 \n",
       "  \"/>\n",
       "<polyline clip-path=\"url(#clip8102)\" style=\"stroke:#000000; stroke-width:2; stroke-opacity:0.1; fill:none\" points=\"\n",
       "  3029.14,1423.18 3029.14,47.2441 \n",
       "  \"/>\n",
       "<polyline clip-path=\"url(#clip8102)\" style=\"stroke:#000000; stroke-width:2; stroke-opacity:0.1; fill:none\" points=\"\n",
       "  3288.26,1423.18 3288.26,47.2441 \n",
       "  \"/>\n",
       "<polyline clip-path=\"url(#clip8102)\" style=\"stroke:#000000; stroke-width:2; stroke-opacity:0.1; fill:none\" points=\"\n",
       "  3510.36,1423.18 3510.36,47.2441 \n",
       "  \"/>\n",
       "<polyline clip-path=\"url(#clip8102)\" style=\"stroke:#000000; stroke-width:2; stroke-opacity:0.1; fill:none\" points=\"\n",
       "  3769.48,1423.18 3769.48,47.2441 \n",
       "  \"/>\n",
       "<polyline clip-path=\"url(#clip8102)\" style=\"stroke:#000000; stroke-width:2; stroke-opacity:0.1; fill:none\" points=\"\n",
       "  223.639,1384.24 3872.76,1384.24 \n",
       "  \"/>\n",
       "<polyline clip-path=\"url(#clip8102)\" style=\"stroke:#000000; stroke-width:2; stroke-opacity:0.1; fill:none\" points=\"\n",
       "  223.639,978.597 3872.76,978.597 \n",
       "  \"/>\n",
       "<polyline clip-path=\"url(#clip8102)\" style=\"stroke:#000000; stroke-width:2; stroke-opacity:0.1; fill:none\" points=\"\n",
       "  223.639,572.955 3872.76,572.955 \n",
       "  \"/>\n",
       "<polyline clip-path=\"url(#clip8102)\" style=\"stroke:#000000; stroke-width:2; stroke-opacity:0.1; fill:none\" points=\"\n",
       "  223.639,167.314 3872.76,167.314 \n",
       "  \"/>\n",
       "<polyline clip-path=\"url(#clip8100)\" style=\"stroke:#000000; stroke-width:4; stroke-opacity:1; fill:none\" points=\"\n",
       "  223.639,1423.18 3872.76,1423.18 \n",
       "  \"/>\n",
       "<polyline clip-path=\"url(#clip8100)\" style=\"stroke:#000000; stroke-width:4; stroke-opacity:1; fill:none\" points=\"\n",
       "  223.639,1423.18 223.639,47.2441 \n",
       "  \"/>\n",
       "<polyline clip-path=\"url(#clip8100)\" style=\"stroke:#000000; stroke-width:4; stroke-opacity:1; fill:none\" points=\"\n",
       "  326.916,1423.18 326.916,1406.67 \n",
       "  \"/>\n",
       "<polyline clip-path=\"url(#clip8100)\" style=\"stroke:#000000; stroke-width:4; stroke-opacity:1; fill:none\" points=\"\n",
       "  586.034,1423.18 586.034,1406.67 \n",
       "  \"/>\n",
       "<polyline clip-path=\"url(#clip8100)\" style=\"stroke:#000000; stroke-width:4; stroke-opacity:1; fill:none\" points=\"\n",
       "  808.135,1423.18 808.135,1406.67 \n",
       "  \"/>\n",
       "<polyline clip-path=\"url(#clip8100)\" style=\"stroke:#000000; stroke-width:4; stroke-opacity:1; fill:none\" points=\"\n",
       "  1067.25,1423.18 1067.25,1406.67 \n",
       "  \"/>\n",
       "<polyline clip-path=\"url(#clip8100)\" style=\"stroke:#000000; stroke-width:4; stroke-opacity:1; fill:none\" points=\"\n",
       "  1326.37,1423.18 1326.37,1406.67 \n",
       "  \"/>\n",
       "<polyline clip-path=\"url(#clip8100)\" style=\"stroke:#000000; stroke-width:4; stroke-opacity:1; fill:none\" points=\"\n",
       "  1548.47,1423.18 1548.47,1406.67 \n",
       "  \"/>\n",
       "<polyline clip-path=\"url(#clip8100)\" style=\"stroke:#000000; stroke-width:4; stroke-opacity:1; fill:none\" points=\"\n",
       "  1807.59,1423.18 1807.59,1406.67 \n",
       "  \"/>\n",
       "<polyline clip-path=\"url(#clip8100)\" style=\"stroke:#000000; stroke-width:4; stroke-opacity:1; fill:none\" points=\"\n",
       "  2066.71,1423.18 2066.71,1406.67 \n",
       "  \"/>\n",
       "<polyline clip-path=\"url(#clip8100)\" style=\"stroke:#000000; stroke-width:4; stroke-opacity:1; fill:none\" points=\"\n",
       "  2288.81,1423.18 2288.81,1406.67 \n",
       "  \"/>\n",
       "<polyline clip-path=\"url(#clip8100)\" style=\"stroke:#000000; stroke-width:4; stroke-opacity:1; fill:none\" points=\"\n",
       "  2547.92,1423.18 2547.92,1406.67 \n",
       "  \"/>\n",
       "<polyline clip-path=\"url(#clip8100)\" style=\"stroke:#000000; stroke-width:4; stroke-opacity:1; fill:none\" points=\"\n",
       "  2770.03,1423.18 2770.03,1406.67 \n",
       "  \"/>\n",
       "<polyline clip-path=\"url(#clip8100)\" style=\"stroke:#000000; stroke-width:4; stroke-opacity:1; fill:none\" points=\"\n",
       "  3029.14,1423.18 3029.14,1406.67 \n",
       "  \"/>\n",
       "<polyline clip-path=\"url(#clip8100)\" style=\"stroke:#000000; stroke-width:4; stroke-opacity:1; fill:none\" points=\"\n",
       "  3288.26,1423.18 3288.26,1406.67 \n",
       "  \"/>\n",
       "<polyline clip-path=\"url(#clip8100)\" style=\"stroke:#000000; stroke-width:4; stroke-opacity:1; fill:none\" points=\"\n",
       "  3510.36,1423.18 3510.36,1406.67 \n",
       "  \"/>\n",
       "<polyline clip-path=\"url(#clip8100)\" style=\"stroke:#000000; stroke-width:4; stroke-opacity:1; fill:none\" points=\"\n",
       "  3769.48,1423.18 3769.48,1406.67 \n",
       "  \"/>\n",
       "<polyline clip-path=\"url(#clip8100)\" style=\"stroke:#000000; stroke-width:4; stroke-opacity:1; fill:none\" points=\"\n",
       "  223.639,1384.24 267.429,1384.24 \n",
       "  \"/>\n",
       "<polyline clip-path=\"url(#clip8100)\" style=\"stroke:#000000; stroke-width:4; stroke-opacity:1; fill:none\" points=\"\n",
       "  223.639,978.597 267.429,978.597 \n",
       "  \"/>\n",
       "<polyline clip-path=\"url(#clip8100)\" style=\"stroke:#000000; stroke-width:4; stroke-opacity:1; fill:none\" points=\"\n",
       "  223.639,572.955 267.429,572.955 \n",
       "  \"/>\n",
       "<polyline clip-path=\"url(#clip8100)\" style=\"stroke:#000000; stroke-width:4; stroke-opacity:1; fill:none\" points=\"\n",
       "  223.639,167.314 267.429,167.314 \n",
       "  \"/>\n",
       "<path clip-path=\"url(#clip8100)\" d=\"M 0 0 M224.833 1450.83 L224.833 1455.39 Q222.171 1454.11 219.81 1453.49 Q217.449 1452.86 215.25 1452.86 Q211.431 1452.86 209.347 1454.34 Q207.287 1455.83 207.287 1458.56 Q207.287 1460.85 208.653 1462.03 Q210.042 1463.19 213.884 1463.9 L216.709 1464.48 Q221.94 1465.48 224.417 1468 Q226.917 1470.5 226.917 1474.71 Q226.917 1479.74 223.537 1482.33 Q220.181 1484.92 213.676 1484.92 Q211.222 1484.92 208.445 1484.37 Q205.69 1483.81 202.727 1482.72 L202.727 1477.91 Q205.574 1479.51 208.306 1480.32 Q211.037 1481.13 213.676 1481.13 Q217.681 1481.13 219.857 1479.55 Q222.033 1477.98 222.033 1475.06 Q222.033 1472.52 220.459 1471.08 Q218.908 1469.65 215.343 1468.93 L212.496 1468.37 Q207.264 1467.33 204.926 1465.11 Q202.588 1462.89 202.588 1458.93 Q202.588 1454.34 205.806 1451.71 Q209.047 1449.07 214.718 1449.07 Q217.148 1449.07 219.671 1449.51 Q222.195 1449.95 224.833 1450.83 Z\" fill=\"#000000\" fill-rule=\"evenodd\" fill-opacity=\"1\" /><path clip-path=\"url(#clip8100)\" d=\"M 0 0 M253.56 1470.22 L253.56 1472.31 L233.977 1472.31 Q234.255 1476.71 236.616 1479.02 Q239 1481.31 243.236 1481.31 Q245.69 1481.31 247.982 1480.71 Q250.296 1480.11 252.565 1478.9 L252.565 1482.93 Q250.273 1483.9 247.866 1484.41 Q245.458 1484.92 242.982 1484.92 Q236.778 1484.92 233.144 1481.31 Q229.533 1477.7 229.533 1471.54 Q229.533 1465.18 232.958 1461.45 Q236.408 1457.7 242.241 1457.7 Q247.472 1457.7 250.505 1461.08 Q253.56 1464.44 253.56 1470.22 M249.301 1468.97 Q249.255 1465.48 247.333 1463.4 Q245.435 1461.31 242.287 1461.31 Q238.722 1461.31 236.57 1463.33 Q234.44 1465.34 234.116 1469 L249.301 1468.97 Z\" fill=\"#000000\" fill-rule=\"evenodd\" fill-opacity=\"1\" /><path clip-path=\"url(#clip8100)\" d=\"M 0 0 M262.148 1480.36 L262.148 1494.11 L257.866 1494.11 L257.866 1458.33 L262.148 1458.33 L262.148 1462.26 Q263.491 1459.95 265.528 1458.84 Q267.588 1457.7 270.435 1457.7 Q275.157 1457.7 278.097 1461.45 Q281.06 1465.2 281.06 1471.31 Q281.06 1477.42 278.097 1481.17 Q275.157 1484.92 270.435 1484.92 Q267.588 1484.92 265.528 1483.81 Q263.491 1482.68 262.148 1480.36 M276.639 1471.31 Q276.639 1466.61 274.694 1463.95 Q272.773 1461.27 269.393 1461.27 Q266.014 1461.27 264.069 1463.95 Q262.148 1466.61 262.148 1471.31 Q262.148 1476.01 264.069 1478.7 Q266.014 1481.36 269.393 1481.36 Q272.773 1481.36 274.694 1478.7 Q276.639 1476.01 276.639 1471.31 Z\" fill=\"#000000\" fill-rule=\"evenodd\" fill-opacity=\"1\" /><path clip-path=\"url(#clip8100)\" d=\"M 0 0 M286.129 1478.37 L291.014 1478.37 L291.014 1484.25 L286.129 1484.25 L286.129 1478.37 Z\" fill=\"#000000\" fill-rule=\"evenodd\" fill-opacity=\"1\" /><path clip-path=\"url(#clip8100)\" d=\"M 0 0 M311.963 1480.32 L319.602 1480.32 L319.602 1453.95 L311.291 1455.62 L311.291 1451.36 L319.555 1449.69 L324.231 1449.69 L324.231 1480.32 L331.87 1480.32 L331.87 1484.25 L311.963 1484.25 L311.963 1480.32 Z\" fill=\"#000000\" fill-rule=\"evenodd\" fill-opacity=\"1\" /><path clip-path=\"url(#clip8100)\" d=\"M 0 0 M351.106 1465.62 Q354.462 1466.34 356.337 1468.6 Q358.236 1470.87 358.236 1474.21 Q358.236 1479.32 354.717 1482.12 Q351.199 1484.92 344.717 1484.92 Q342.541 1484.92 340.226 1484.48 Q337.935 1484.07 335.481 1483.21 L335.481 1478.7 Q337.425 1479.83 339.74 1480.41 Q342.055 1480.99 344.578 1480.99 Q348.976 1480.99 351.268 1479.25 Q353.583 1477.52 353.583 1474.21 Q353.583 1471.15 351.43 1469.44 Q349.3 1467.7 345.481 1467.7 L341.453 1467.7 L341.453 1463.86 L345.666 1463.86 Q349.115 1463.86 350.944 1462.49 Q352.773 1461.1 352.773 1458.51 Q352.773 1455.85 350.874 1454.44 Q348.999 1453 345.481 1453 Q343.56 1453 341.361 1453.42 Q339.162 1453.84 336.523 1454.71 L336.523 1450.55 Q339.185 1449.81 341.5 1449.44 Q343.837 1449.07 345.898 1449.07 Q351.222 1449.07 354.324 1451.5 Q357.425 1453.9 357.425 1458.03 Q357.425 1460.9 355.782 1462.89 Q354.138 1464.85 351.106 1465.62 Z\" fill=\"#000000\" fill-rule=\"evenodd\" fill-opacity=\"1\" /><path clip-path=\"url(#clip8100)\" d=\"M 0 0 M363.791 1478.37 L368.675 1478.37 L368.675 1482.35 L364.879 1489.76 L361.893 1489.76 L363.791 1482.35 L363.791 1478.37 Z\" fill=\"#000000\" fill-rule=\"evenodd\" fill-opacity=\"1\" /><path clip-path=\"url(#clip8100)\" d=\"M 0 0 M392.842 1480.32 L409.161 1480.32 L409.161 1484.25 L387.217 1484.25 L387.217 1480.32 Q389.879 1477.56 394.462 1472.93 Q399.069 1468.28 400.249 1466.94 Q402.495 1464.41 403.374 1462.68 Q404.277 1460.92 404.277 1459.23 Q404.277 1456.47 402.333 1454.74 Q400.411 1453 397.309 1453 Q395.11 1453 392.657 1453.77 Q390.226 1454.53 387.448 1456.08 L387.448 1451.36 Q390.272 1450.22 392.726 1449.65 Q395.18 1449.07 397.217 1449.07 Q402.587 1449.07 405.782 1451.75 Q408.976 1454.44 408.976 1458.93 Q408.976 1461.06 408.166 1462.98 Q407.379 1464.88 405.272 1467.47 Q404.694 1468.14 401.592 1471.36 Q398.49 1474.55 392.842 1480.32 Z\" fill=\"#000000\" fill-rule=\"evenodd\" fill-opacity=\"1\" /><path clip-path=\"url(#clip8100)\" d=\"M 0 0 M424.231 1452.77 Q420.619 1452.77 418.791 1456.34 Q416.985 1459.88 416.985 1467.01 Q416.985 1474.11 418.791 1477.68 Q420.619 1481.22 424.231 1481.22 Q427.865 1481.22 429.67 1477.68 Q431.499 1474.11 431.499 1467.01 Q431.499 1459.88 429.67 1456.34 Q427.865 1452.77 424.231 1452.77 M424.231 1449.07 Q430.041 1449.07 433.096 1453.67 Q436.175 1458.26 436.175 1467.01 Q436.175 1475.73 433.096 1480.34 Q430.041 1484.92 424.231 1484.92 Q418.42 1484.92 415.342 1480.34 Q412.286 1475.73 412.286 1467.01 Q412.286 1458.26 415.342 1453.67 Q418.42 1449.07 424.231 1449.07 Z\" fill=\"#000000\" fill-rule=\"evenodd\" fill-opacity=\"1\" /><path clip-path=\"url(#clip8100)\" d=\"M 0 0 M483.812 1450.83 L483.812 1455.39 Q481.15 1454.11 478.789 1453.49 Q476.428 1452.86 474.229 1452.86 Q470.41 1452.86 468.326 1454.34 Q466.266 1455.83 466.266 1458.56 Q466.266 1460.85 467.632 1462.03 Q469.021 1463.19 472.863 1463.9 L475.687 1464.48 Q480.919 1465.48 483.396 1468 Q485.896 1470.5 485.896 1474.71 Q485.896 1479.74 482.516 1482.33 Q479.159 1484.92 472.655 1484.92 Q470.201 1484.92 467.423 1484.37 Q464.669 1483.81 461.706 1482.72 L461.706 1477.91 Q464.553 1479.51 467.285 1480.32 Q470.016 1481.13 472.655 1481.13 Q476.659 1481.13 478.835 1479.55 Q481.011 1477.98 481.011 1475.06 Q481.011 1472.52 479.437 1471.08 Q477.886 1469.65 474.322 1468.93 L471.474 1468.37 Q466.243 1467.33 463.905 1465.11 Q461.567 1462.89 461.567 1458.93 Q461.567 1454.34 464.785 1451.71 Q468.025 1449.07 473.697 1449.07 Q476.127 1449.07 478.65 1449.51 Q481.173 1449.95 483.812 1450.83 Z\" fill=\"#000000\" fill-rule=\"evenodd\" fill-opacity=\"1\" /><path clip-path=\"url(#clip8100)\" d=\"M 0 0 M512.539 1470.22 L512.539 1472.31 L492.956 1472.31 Q493.233 1476.71 495.595 1479.02 Q497.979 1481.31 502.215 1481.31 Q504.669 1481.31 506.96 1480.71 Q509.275 1480.11 511.544 1478.9 L511.544 1482.93 Q509.252 1483.9 506.845 1484.41 Q504.437 1484.92 501.96 1484.92 Q495.757 1484.92 492.122 1481.31 Q488.511 1477.7 488.511 1471.54 Q488.511 1465.18 491.937 1461.45 Q495.386 1457.7 501.22 1457.7 Q506.451 1457.7 509.483 1461.08 Q512.539 1464.44 512.539 1470.22 M508.28 1468.97 Q508.233 1465.48 506.312 1463.4 Q504.414 1461.31 501.266 1461.31 Q497.701 1461.31 495.548 1463.33 Q493.419 1465.34 493.095 1469 L508.28 1468.97 Z\" fill=\"#000000\" fill-rule=\"evenodd\" fill-opacity=\"1\" /><path clip-path=\"url(#clip8100)\" d=\"M 0 0 M521.127 1480.36 L521.127 1494.11 L516.844 1494.11 L516.844 1458.33 L521.127 1458.33 L521.127 1462.26 Q522.469 1459.95 524.506 1458.84 Q526.567 1457.7 529.414 1457.7 Q534.136 1457.7 537.076 1461.45 Q540.039 1465.2 540.039 1471.31 Q540.039 1477.42 537.076 1481.17 Q534.136 1484.92 529.414 1484.92 Q526.567 1484.92 524.506 1483.81 Q522.469 1482.68 521.127 1480.36 M535.618 1471.31 Q535.618 1466.61 533.673 1463.95 Q531.752 1461.27 528.372 1461.27 Q524.993 1461.27 523.048 1463.95 Q521.127 1466.61 521.127 1471.31 Q521.127 1476.01 523.048 1478.7 Q524.993 1481.36 528.372 1481.36 Q531.752 1481.36 533.673 1478.7 Q535.618 1476.01 535.618 1471.31 Z\" fill=\"#000000\" fill-rule=\"evenodd\" fill-opacity=\"1\" /><path clip-path=\"url(#clip8100)\" d=\"M 0 0 M545.108 1478.37 L549.992 1478.37 L549.992 1484.25 L545.108 1484.25 L545.108 1478.37 Z\" fill=\"#000000\" fill-rule=\"evenodd\" fill-opacity=\"1\" /><path clip-path=\"url(#clip8100)\" d=\"M 0 0 M574.159 1480.32 L590.478 1480.32 L590.478 1484.25 L568.534 1484.25 L568.534 1480.32 Q571.196 1477.56 575.779 1472.93 Q580.386 1468.28 581.566 1466.94 Q583.812 1464.41 584.691 1462.68 Q585.594 1460.92 585.594 1459.23 Q585.594 1456.47 583.65 1454.74 Q581.728 1453 578.627 1453 Q576.427 1453 573.974 1453.77 Q571.543 1454.53 568.765 1456.08 L568.765 1451.36 Q571.59 1450.22 574.043 1449.65 Q576.497 1449.07 578.534 1449.07 Q583.904 1449.07 587.099 1451.75 Q590.293 1454.44 590.293 1458.93 Q590.293 1461.06 589.483 1462.98 Q588.696 1464.88 586.589 1467.47 Q586.011 1468.14 582.909 1471.36 Q579.807 1474.55 574.159 1480.32 Z\" fill=\"#000000\" fill-rule=\"evenodd\" fill-opacity=\"1\" /><path clip-path=\"url(#clip8100)\" d=\"M 0 0 M605.548 1452.77 Q601.937 1452.77 600.108 1456.34 Q598.302 1459.88 598.302 1467.01 Q598.302 1474.11 600.108 1477.68 Q601.937 1481.22 605.548 1481.22 Q609.182 1481.22 610.987 1477.68 Q612.816 1474.11 612.816 1467.01 Q612.816 1459.88 610.987 1456.34 Q609.182 1452.77 605.548 1452.77 M605.548 1449.07 Q611.358 1449.07 614.413 1453.67 Q617.492 1458.26 617.492 1467.01 Q617.492 1475.73 614.413 1480.34 Q611.358 1484.92 605.548 1484.92 Q599.738 1484.92 596.659 1480.34 Q593.603 1475.73 593.603 1467.01 Q593.603 1458.26 596.659 1453.67 Q599.738 1449.07 605.548 1449.07 Z\" fill=\"#000000\" fill-rule=\"evenodd\" fill-opacity=\"1\" /><path clip-path=\"url(#clip8100)\" d=\"M 0 0 M623.048 1478.37 L627.932 1478.37 L627.932 1482.35 L624.136 1489.76 L621.149 1489.76 L623.048 1482.35 L623.048 1478.37 Z\" fill=\"#000000\" fill-rule=\"evenodd\" fill-opacity=\"1\" /><path clip-path=\"url(#clip8100)\" d=\"M 0 0 M652.098 1480.32 L668.418 1480.32 L668.418 1484.25 L646.473 1484.25 L646.473 1480.32 Q649.135 1477.56 653.719 1472.93 Q658.325 1468.28 659.506 1466.94 Q661.751 1464.41 662.631 1462.68 Q663.533 1460.92 663.533 1459.23 Q663.533 1456.47 661.589 1454.74 Q659.668 1453 656.566 1453 Q654.367 1453 651.913 1453.77 Q649.483 1454.53 646.705 1456.08 L646.705 1451.36 Q649.529 1450.22 651.983 1449.65 Q654.436 1449.07 656.473 1449.07 Q661.844 1449.07 665.038 1451.75 Q668.233 1454.44 668.233 1458.93 Q668.233 1461.06 667.422 1462.98 Q666.635 1464.88 664.529 1467.47 Q663.95 1468.14 660.848 1471.36 Q657.746 1474.55 652.098 1480.32 Z\" fill=\"#000000\" fill-rule=\"evenodd\" fill-opacity=\"1\" /><path clip-path=\"url(#clip8100)\" d=\"M 0 0 M683.487 1452.77 Q679.876 1452.77 678.047 1456.34 Q676.242 1459.88 676.242 1467.01 Q676.242 1474.11 678.047 1477.68 Q679.876 1481.22 683.487 1481.22 Q687.121 1481.22 688.927 1477.68 Q690.756 1474.11 690.756 1467.01 Q690.756 1459.88 688.927 1456.34 Q687.121 1452.77 683.487 1452.77 M683.487 1449.07 Q689.297 1449.07 692.353 1453.67 Q695.431 1458.26 695.431 1467.01 Q695.431 1475.73 692.353 1480.34 Q689.297 1484.92 683.487 1484.92 Q677.677 1484.92 674.598 1480.34 Q671.543 1475.73 671.543 1467.01 Q671.543 1458.26 674.598 1453.67 Q677.677 1449.07 683.487 1449.07 Z\" fill=\"#000000\" fill-rule=\"evenodd\" fill-opacity=\"1\" /><path clip-path=\"url(#clip8100)\" d=\"M 0 0 M705.832 1450.83 L705.832 1455.39 Q703.17 1454.11 700.809 1453.49 Q698.448 1452.86 696.249 1452.86 Q692.429 1452.86 690.346 1454.34 Q688.286 1455.83 688.286 1458.56 Q688.286 1460.85 689.652 1462.03 Q691.04 1463.19 694.883 1463.9 L697.707 1464.48 Q702.939 1465.48 705.415 1468 Q707.915 1470.5 707.915 1474.71 Q707.915 1479.74 704.536 1482.33 Q701.179 1484.92 694.675 1484.92 Q692.221 1484.92 689.443 1484.37 Q686.689 1483.81 683.726 1482.72 L683.726 1477.91 Q686.573 1479.51 689.304 1480.32 Q692.036 1481.13 694.675 1481.13 Q698.679 1481.13 700.855 1479.55 Q703.031 1477.98 703.031 1475.06 Q703.031 1472.52 701.457 1471.08 Q699.906 1469.65 696.341 1468.93 L693.494 1468.37 Q688.263 1467.33 685.925 1465.11 Q683.587 1462.89 683.587 1458.93 Q683.587 1454.34 686.804 1451.71 Q690.045 1449.07 695.716 1449.07 Q698.147 1449.07 700.67 1449.51 Q703.193 1449.95 705.832 1450.83 Z\" fill=\"#000000\" fill-rule=\"evenodd\" fill-opacity=\"1\" /><path clip-path=\"url(#clip8100)\" d=\"M 0 0 M734.559 1470.22 L734.559 1472.31 L714.976 1472.31 Q715.253 1476.71 717.614 1479.02 Q719.999 1481.31 724.235 1481.31 Q726.688 1481.31 728.98 1480.71 Q731.295 1480.11 733.563 1478.9 L733.563 1482.93 Q731.272 1483.9 728.864 1484.41 Q726.457 1484.92 723.98 1484.92 Q717.776 1484.92 714.142 1481.31 Q710.531 1477.7 710.531 1471.54 Q710.531 1465.18 713.957 1461.45 Q717.406 1457.7 723.239 1457.7 Q728.471 1457.7 731.503 1461.08 Q734.559 1464.44 734.559 1470.22 M730.299 1468.97 Q730.253 1465.48 728.332 1463.4 Q726.434 1461.31 723.286 1461.31 Q719.721 1461.31 717.568 1463.33 Q715.438 1465.34 715.114 1469 L730.299 1468.97 Z\" fill=\"#000000\" fill-rule=\"evenodd\" fill-opacity=\"1\" /><path clip-path=\"url(#clip8100)\" d=\"M 0 0 M743.147 1480.36 L743.147 1494.11 L738.864 1494.11 L738.864 1458.33 L743.147 1458.33 L743.147 1462.26 Q744.489 1459.95 746.526 1458.84 Q748.586 1457.7 751.434 1457.7 Q756.156 1457.7 759.096 1461.45 Q762.059 1465.2 762.059 1471.31 Q762.059 1477.42 759.096 1481.17 Q756.156 1484.92 751.434 1484.92 Q748.586 1484.92 746.526 1483.81 Q744.489 1482.68 743.147 1480.36 M757.637 1471.31 Q757.637 1466.61 755.693 1463.95 Q753.772 1461.27 750.392 1461.27 Q747.012 1461.27 745.068 1463.95 Q743.147 1466.61 743.147 1471.31 Q743.147 1476.01 745.068 1478.7 Q747.012 1481.36 750.392 1481.36 Q753.772 1481.36 755.693 1478.7 Q757.637 1476.01 757.637 1471.31 Z\" fill=\"#000000\" fill-rule=\"evenodd\" fill-opacity=\"1\" /><path clip-path=\"url(#clip8100)\" d=\"M 0 0 M767.128 1478.37 L772.012 1478.37 L772.012 1484.25 L767.128 1484.25 L767.128 1478.37 Z\" fill=\"#000000\" fill-rule=\"evenodd\" fill-opacity=\"1\" /><path clip-path=\"url(#clip8100)\" d=\"M 0 0 M796.179 1480.32 L812.498 1480.32 L812.498 1484.25 L790.554 1484.25 L790.554 1480.32 Q793.216 1477.56 797.799 1472.93 Q802.406 1468.28 803.586 1466.94 Q805.831 1464.41 806.711 1462.68 Q807.614 1460.92 807.614 1459.23 Q807.614 1456.47 805.669 1454.74 Q803.748 1453 800.646 1453 Q798.447 1453 795.994 1453.77 Q793.563 1454.53 790.785 1456.08 L790.785 1451.36 Q793.609 1450.22 796.063 1449.65 Q798.517 1449.07 800.554 1449.07 Q805.924 1449.07 809.119 1451.75 Q812.313 1454.44 812.313 1458.93 Q812.313 1461.06 811.503 1462.98 Q810.716 1464.88 808.609 1467.47 Q808.031 1468.14 804.929 1471.36 Q801.827 1474.55 796.179 1480.32 Z\" fill=\"#000000\" fill-rule=\"evenodd\" fill-opacity=\"1\" /><path clip-path=\"url(#clip8100)\" d=\"M 0 0 M828.146 1465.11 Q824.998 1465.11 823.146 1467.26 Q821.318 1469.41 821.318 1473.16 Q821.318 1476.89 823.146 1479.07 Q824.998 1481.22 828.146 1481.22 Q831.294 1481.22 833.123 1479.07 Q834.975 1476.89 834.975 1473.16 Q834.975 1469.41 833.123 1467.26 Q831.294 1465.11 828.146 1465.11 M837.429 1450.46 L837.429 1454.71 Q835.669 1453.88 833.864 1453.44 Q832.081 1453 830.322 1453 Q825.693 1453 823.239 1456.13 Q820.808 1459.25 820.461 1465.57 Q821.827 1463.56 823.887 1462.49 Q825.947 1461.4 828.424 1461.4 Q833.632 1461.4 836.642 1464.58 Q839.674 1467.72 839.674 1473.16 Q839.674 1478.49 836.526 1481.71 Q833.378 1484.92 828.146 1484.92 Q822.151 1484.92 818.98 1480.34 Q815.808 1475.73 815.808 1467.01 Q815.808 1458.81 819.697 1453.95 Q823.586 1449.07 830.137 1449.07 Q831.896 1449.07 833.679 1449.41 Q835.484 1449.76 837.429 1450.46 Z\" fill=\"#000000\" fill-rule=\"evenodd\" fill-opacity=\"1\" /><path clip-path=\"url(#clip8100)\" d=\"M 0 0 M845.229 1478.37 L850.114 1478.37 L850.114 1482.35 L846.317 1489.76 L843.331 1489.76 L845.229 1482.35 L845.229 1478.37 Z\" fill=\"#000000\" fill-rule=\"evenodd\" fill-opacity=\"1\" /><path clip-path=\"url(#clip8100)\" d=\"M 0 0 M874.28 1480.32 L890.6 1480.32 L890.6 1484.25 L868.655 1484.25 L868.655 1480.32 Q871.317 1477.56 875.901 1472.93 Q880.507 1468.28 881.688 1466.94 Q883.933 1464.41 884.813 1462.68 Q885.715 1460.92 885.715 1459.23 Q885.715 1456.47 883.771 1454.74 Q881.85 1453 878.748 1453 Q876.549 1453 874.095 1453.77 Q871.664 1454.53 868.887 1456.08 L868.887 1451.36 Q871.711 1450.22 874.164 1449.65 Q876.618 1449.07 878.655 1449.07 Q884.026 1449.07 887.22 1451.75 Q890.414 1454.44 890.414 1458.93 Q890.414 1461.06 889.604 1462.98 Q888.817 1464.88 886.711 1467.47 Q886.132 1468.14 883.03 1471.36 Q879.928 1474.55 874.28 1480.32 Z\" fill=\"#000000\" fill-rule=\"evenodd\" fill-opacity=\"1\" /><path clip-path=\"url(#clip8100)\" d=\"M 0 0 M905.669 1452.77 Q902.058 1452.77 900.229 1456.34 Q898.424 1459.88 898.424 1467.01 Q898.424 1474.11 900.229 1477.68 Q902.058 1481.22 905.669 1481.22 Q909.303 1481.22 911.109 1477.68 Q912.937 1474.11 912.937 1467.01 Q912.937 1459.88 911.109 1456.34 Q909.303 1452.77 905.669 1452.77 M905.669 1449.07 Q911.479 1449.07 914.535 1453.67 Q917.613 1458.26 917.613 1467.01 Q917.613 1475.73 914.535 1480.34 Q911.479 1484.92 905.669 1484.92 Q899.859 1484.92 896.78 1480.34 Q893.725 1475.73 893.725 1467.01 Q893.725 1458.26 896.78 1453.67 Q899.859 1449.07 905.669 1449.07 Z\" fill=\"#000000\" fill-rule=\"evenodd\" fill-opacity=\"1\" /><path clip-path=\"url(#clip8100)\" d=\"M 0 0 M974.788 1452.86 Q969.695 1452.86 966.686 1456.66 Q963.7 1460.46 963.7 1467.01 Q963.7 1473.53 966.686 1477.33 Q969.695 1481.13 974.788 1481.13 Q979.88 1481.13 982.843 1477.33 Q985.829 1473.53 985.829 1467.01 Q985.829 1460.46 982.843 1456.66 Q979.88 1452.86 974.788 1452.86 M974.788 1449.07 Q982.056 1449.07 986.408 1453.95 Q990.76 1458.81 990.76 1467.01 Q990.76 1475.18 986.408 1480.06 Q982.056 1484.92 974.788 1484.92 Q967.496 1484.92 963.121 1480.06 Q958.769 1475.2 958.769 1467.01 Q958.769 1458.81 963.121 1453.95 Q967.496 1449.07 974.788 1449.07 Z\" fill=\"#000000\" fill-rule=\"evenodd\" fill-opacity=\"1\" /><path clip-path=\"url(#clip8100)\" d=\"M 0 0 M1013.88 1459.32 L1013.88 1463.3 Q1012.08 1462.31 1010.25 1461.82 Q1008.44 1461.31 1006.59 1461.31 Q1002.45 1461.31 1000.16 1463.95 Q997.866 1466.57 997.866 1471.31 Q997.866 1476.06 1000.16 1478.7 Q1002.45 1481.31 1006.59 1481.31 Q1008.44 1481.31 1010.25 1480.83 Q1012.08 1480.32 1013.88 1479.32 L1013.88 1483.26 Q1012.1 1484.09 1010.18 1484.51 Q1008.28 1484.92 1006.13 1484.92 Q1000.27 1484.92 996.824 1481.24 Q993.375 1477.56 993.375 1471.31 Q993.375 1464.97 996.848 1461.34 Q1000.34 1457.7 1006.41 1457.7 Q1008.38 1457.7 1010.25 1458.12 Q1012.13 1458.51 1013.88 1459.32 Z\" fill=\"#000000\" fill-rule=\"evenodd\" fill-opacity=\"1\" /><path clip-path=\"url(#clip8100)\" d=\"M 0 0 M1022.57 1450.96 L1022.57 1458.33 L1031.34 1458.33 L1031.34 1461.64 L1022.57 1461.64 L1022.57 1475.71 Q1022.57 1478.88 1023.42 1479.78 Q1024.3 1480.69 1026.96 1480.69 L1031.34 1480.69 L1031.34 1484.25 L1026.96 1484.25 Q1022.03 1484.25 1020.16 1482.42 Q1018.28 1480.57 1018.28 1475.71 L1018.28 1461.64 L1015.16 1461.64 L1015.16 1458.33 L1018.28 1458.33 L1018.28 1450.96 L1022.57 1450.96 Z\" fill=\"#000000\" fill-rule=\"evenodd\" fill-opacity=\"1\" /><path clip-path=\"url(#clip8100)\" d=\"M 0 0 M1036.41 1478.37 L1041.29 1478.37 L1041.29 1484.25 L1036.41 1484.25 L1036.41 1478.37 Z\" fill=\"#000000\" fill-rule=\"evenodd\" fill-opacity=\"1\" /><path clip-path=\"url(#clip8100)\" d=\"M 0 0 M1075.6 1465.62 Q1078.95 1466.34 1080.83 1468.6 Q1082.73 1470.87 1082.73 1474.21 Q1082.73 1479.32 1079.21 1482.12 Q1075.69 1484.92 1069.21 1484.92 Q1067.03 1484.92 1064.72 1484.48 Q1062.43 1484.07 1059.97 1483.21 L1059.97 1478.7 Q1061.92 1479.83 1064.23 1480.41 Q1066.55 1480.99 1069.07 1480.99 Q1073.47 1480.99 1075.76 1479.25 Q1078.07 1477.52 1078.07 1474.21 Q1078.07 1471.15 1075.92 1469.44 Q1073.79 1467.7 1069.97 1467.7 L1065.94 1467.7 L1065.94 1463.86 L1070.16 1463.86 Q1073.61 1463.86 1075.44 1462.49 Q1077.26 1461.1 1077.26 1458.51 Q1077.26 1455.85 1075.37 1454.44 Q1073.49 1453 1069.97 1453 Q1068.05 1453 1065.85 1453.42 Q1063.65 1453.84 1061.01 1454.71 L1061.01 1450.55 Q1063.68 1449.81 1065.99 1449.44 Q1068.33 1449.07 1070.39 1449.07 Q1075.71 1449.07 1078.81 1451.5 Q1081.92 1453.9 1081.92 1458.03 Q1081.92 1460.9 1080.27 1462.89 Q1078.63 1464.85 1075.6 1465.62 Z\" fill=\"#000000\" fill-rule=\"evenodd\" fill-opacity=\"1\" /><path clip-path=\"url(#clip8100)\" d=\"M 0 0 M1088.28 1478.37 L1093.17 1478.37 L1093.17 1482.35 L1089.37 1489.76 L1086.38 1489.76 L1088.28 1482.35 L1088.28 1478.37 Z\" fill=\"#000000\" fill-rule=\"evenodd\" fill-opacity=\"1\" /><path clip-path=\"url(#clip8100)\" d=\"M 0 0 M1117.33 1480.32 L1133.65 1480.32 L1133.65 1484.25 L1111.71 1484.25 L1111.71 1480.32 Q1114.37 1477.56 1118.95 1472.93 Q1123.56 1468.28 1124.74 1466.94 Q1126.99 1464.41 1127.87 1462.68 Q1128.77 1460.92 1128.77 1459.23 Q1128.77 1456.47 1126.82 1454.74 Q1124.9 1453 1121.8 1453 Q1119.6 1453 1117.15 1453.77 Q1114.72 1454.53 1111.94 1456.08 L1111.94 1451.36 Q1114.76 1450.22 1117.22 1449.65 Q1119.67 1449.07 1121.71 1449.07 Q1127.08 1449.07 1130.27 1451.75 Q1133.47 1454.44 1133.47 1458.93 Q1133.47 1461.06 1132.66 1462.98 Q1131.87 1464.88 1129.76 1467.47 Q1129.18 1468.14 1126.08 1471.36 Q1122.98 1474.55 1117.33 1480.32 Z\" fill=\"#000000\" fill-rule=\"evenodd\" fill-opacity=\"1\" /><path clip-path=\"url(#clip8100)\" d=\"M 0 0 M1148.72 1452.77 Q1145.11 1452.77 1143.28 1456.34 Q1141.48 1459.88 1141.48 1467.01 Q1141.48 1474.11 1143.28 1477.68 Q1145.11 1481.22 1148.72 1481.22 Q1152.36 1481.22 1154.16 1477.68 Q1155.99 1474.11 1155.99 1467.01 Q1155.99 1459.88 1154.16 1456.34 Q1152.36 1452.77 1148.72 1452.77 M1148.72 1449.07 Q1154.53 1449.07 1157.59 1453.67 Q1160.67 1458.26 1160.67 1467.01 Q1160.67 1475.73 1157.59 1480.34 Q1154.53 1484.92 1148.72 1484.92 Q1142.91 1484.92 1139.83 1480.34 Q1136.78 1475.73 1136.78 1467.01 Q1136.78 1458.26 1139.83 1453.67 Q1142.91 1449.07 1148.72 1449.07 Z\" fill=\"#000000\" fill-rule=\"evenodd\" fill-opacity=\"1\" /><path clip-path=\"url(#clip8100)\" d=\"M 0 0 M1220.69 1452.86 Q1215.6 1452.86 1212.59 1456.66 Q1209.6 1460.46 1209.6 1467.01 Q1209.6 1473.53 1212.59 1477.33 Q1215.6 1481.13 1220.69 1481.13 Q1225.78 1481.13 1228.74 1477.33 Q1231.73 1473.53 1231.73 1467.01 Q1231.73 1460.46 1228.74 1456.66 Q1225.78 1452.86 1220.69 1452.86 M1220.69 1449.07 Q1227.96 1449.07 1232.31 1453.95 Q1236.66 1458.81 1236.66 1467.01 Q1236.66 1475.18 1232.31 1480.06 Q1227.96 1484.92 1220.69 1484.92 Q1213.4 1484.92 1209.02 1480.06 Q1204.67 1475.2 1204.67 1467.01 Q1204.67 1458.81 1209.02 1453.95 Q1213.4 1449.07 1220.69 1449.07 Z\" fill=\"#000000\" fill-rule=\"evenodd\" fill-opacity=\"1\" /><path clip-path=\"url(#clip8100)\" d=\"M 0 0 M1259.78 1459.32 L1259.78 1463.3 Q1257.98 1462.31 1256.15 1461.82 Q1254.34 1461.31 1252.49 1461.31 Q1248.35 1461.31 1246.06 1463.95 Q1243.77 1466.57 1243.77 1471.31 Q1243.77 1476.06 1246.06 1478.7 Q1248.35 1481.31 1252.49 1481.31 Q1254.34 1481.31 1256.15 1480.83 Q1257.98 1480.32 1259.78 1479.32 L1259.78 1483.26 Q1258 1484.09 1256.08 1484.51 Q1254.18 1484.92 1252.03 1484.92 Q1246.17 1484.92 1242.72 1481.24 Q1239.28 1477.56 1239.28 1471.31 Q1239.28 1464.97 1242.75 1461.34 Q1246.24 1457.7 1252.31 1457.7 Q1254.28 1457.7 1256.15 1458.12 Q1258.03 1458.51 1259.78 1459.32 Z\" fill=\"#000000\" fill-rule=\"evenodd\" fill-opacity=\"1\" /><path clip-path=\"url(#clip8100)\" d=\"M 0 0 M1268.47 1450.96 L1268.47 1458.33 L1277.24 1458.33 L1277.24 1461.64 L1268.47 1461.64 L1268.47 1475.71 Q1268.47 1478.88 1269.32 1479.78 Q1270.2 1480.69 1272.86 1480.69 L1277.24 1480.69 L1277.24 1484.25 L1272.86 1484.25 Q1267.93 1484.25 1266.06 1482.42 Q1264.18 1480.57 1264.18 1475.71 L1264.18 1461.64 L1261.06 1461.64 L1261.06 1458.33 L1264.18 1458.33 L1264.18 1450.96 L1268.47 1450.96 Z\" fill=\"#000000\" fill-rule=\"evenodd\" fill-opacity=\"1\" /><path clip-path=\"url(#clip8100)\" d=\"M 0 0 M1282.31 1478.37 L1287.19 1478.37 L1287.19 1484.25 L1282.31 1484.25 L1282.31 1478.37 Z\" fill=\"#000000\" fill-rule=\"evenodd\" fill-opacity=\"1\" /><path clip-path=\"url(#clip8100)\" d=\"M 0 0 M1308.14 1480.32 L1315.78 1480.32 L1315.78 1453.95 L1307.47 1455.62 L1307.47 1451.36 L1315.73 1449.69 L1320.41 1449.69 L1320.41 1480.32 L1328.05 1480.32 L1328.05 1484.25 L1308.14 1484.25 L1308.14 1480.32 Z\" fill=\"#000000\" fill-rule=\"evenodd\" fill-opacity=\"1\" /><path clip-path=\"url(#clip8100)\" d=\"M 0 0 M1343.12 1452.77 Q1339.51 1452.77 1337.68 1456.34 Q1335.87 1459.88 1335.87 1467.01 Q1335.87 1474.11 1337.68 1477.68 Q1339.51 1481.22 1343.12 1481.22 Q1346.75 1481.22 1348.56 1477.68 Q1350.39 1474.11 1350.39 1467.01 Q1350.39 1459.88 1348.56 1456.34 Q1346.75 1452.77 1343.12 1452.77 M1343.12 1449.07 Q1348.93 1449.07 1351.98 1453.67 Q1355.06 1458.26 1355.06 1467.01 Q1355.06 1475.73 1351.98 1480.34 Q1348.93 1484.92 1343.12 1484.92 Q1337.31 1484.92 1334.23 1480.34 Q1331.17 1475.73 1331.17 1467.01 Q1331.17 1458.26 1334.23 1453.67 Q1337.31 1449.07 1343.12 1449.07 Z\" fill=\"#000000\" fill-rule=\"evenodd\" fill-opacity=\"1\" /><path clip-path=\"url(#clip8100)\" d=\"M 0 0 M1360.62 1478.37 L1365.5 1478.37 L1365.5 1482.35 L1361.71 1489.76 L1358.72 1489.76 L1360.62 1482.35 L1360.62 1478.37 Z\" fill=\"#000000\" fill-rule=\"evenodd\" fill-opacity=\"1\" /><path clip-path=\"url(#clip8100)\" d=\"M 0 0 M1389.67 1480.32 L1405.99 1480.32 L1405.99 1484.25 L1384.04 1484.25 L1384.04 1480.32 Q1386.71 1477.56 1391.29 1472.93 Q1395.9 1468.28 1397.08 1466.94 Q1399.32 1464.41 1400.2 1462.68 Q1401.1 1460.92 1401.1 1459.23 Q1401.1 1456.47 1399.16 1454.74 Q1397.24 1453 1394.14 1453 Q1391.94 1453 1389.48 1453.77 Q1387.05 1454.53 1384.27 1456.08 L1384.27 1451.36 Q1387.1 1450.22 1389.55 1449.65 Q1392.01 1449.07 1394.04 1449.07 Q1399.41 1449.07 1402.61 1451.75 Q1405.8 1454.44 1405.8 1458.93 Q1405.8 1461.06 1404.99 1462.98 Q1404.21 1464.88 1402.1 1467.47 Q1401.52 1468.14 1398.42 1471.36 Q1395.32 1474.55 1389.67 1480.32 Z\" fill=\"#000000\" fill-rule=\"evenodd\" fill-opacity=\"1\" /><path clip-path=\"url(#clip8100)\" d=\"M 0 0 M1421.06 1452.77 Q1417.45 1452.77 1415.62 1456.34 Q1413.81 1459.88 1413.81 1467.01 Q1413.81 1474.11 1415.62 1477.68 Q1417.45 1481.22 1421.06 1481.22 Q1424.69 1481.22 1426.5 1477.68 Q1428.33 1474.11 1428.33 1467.01 Q1428.33 1459.88 1426.5 1456.34 Q1424.69 1452.77 1421.06 1452.77 M1421.06 1449.07 Q1426.87 1449.07 1429.92 1453.67 Q1433 1458.26 1433 1467.01 Q1433 1475.73 1429.92 1480.34 Q1426.87 1484.92 1421.06 1484.92 Q1415.25 1484.92 1412.17 1480.34 Q1409.11 1475.73 1409.11 1467.01 Q1409.11 1458.26 1412.17 1453.67 Q1415.25 1449.07 1421.06 1449.07 Z\" fill=\"#000000\" fill-rule=\"evenodd\" fill-opacity=\"1\" /><path clip-path=\"url(#clip8100)\" d=\"M 0 0 M1442.71 1452.86 Q1437.61 1452.86 1434.61 1456.66 Q1431.62 1460.46 1431.62 1467.01 Q1431.62 1473.53 1434.61 1477.33 Q1437.61 1481.13 1442.71 1481.13 Q1447.8 1481.13 1450.76 1477.33 Q1453.75 1473.53 1453.75 1467.01 Q1453.75 1460.46 1450.76 1456.66 Q1447.8 1452.86 1442.71 1452.86 M1442.71 1449.07 Q1449.98 1449.07 1454.33 1453.95 Q1458.68 1458.81 1458.68 1467.01 Q1458.68 1475.18 1454.33 1480.06 Q1449.98 1484.92 1442.71 1484.92 Q1435.42 1484.92 1431.04 1480.06 Q1426.69 1475.2 1426.69 1467.01 Q1426.69 1458.81 1431.04 1453.95 Q1435.42 1449.07 1442.71 1449.07 Z\" fill=\"#000000\" fill-rule=\"evenodd\" fill-opacity=\"1\" /><path clip-path=\"url(#clip8100)\" d=\"M 0 0 M1481.8 1459.32 L1481.8 1463.3 Q1480 1462.31 1478.17 1461.82 Q1476.36 1461.31 1474.51 1461.31 Q1470.37 1461.31 1468.08 1463.95 Q1465.79 1466.57 1465.79 1471.31 Q1465.79 1476.06 1468.08 1478.7 Q1470.37 1481.31 1474.51 1481.31 Q1476.36 1481.31 1478.17 1480.83 Q1480 1480.32 1481.8 1479.32 L1481.8 1483.26 Q1480.02 1484.09 1478.1 1484.51 Q1476.2 1484.92 1474.05 1484.92 Q1468.19 1484.92 1464.74 1481.24 Q1461.3 1477.56 1461.3 1471.31 Q1461.3 1464.97 1464.77 1461.34 Q1468.26 1457.7 1474.33 1457.7 Q1476.3 1457.7 1478.17 1458.12 Q1480.05 1458.51 1481.8 1459.32 Z\" fill=\"#000000\" fill-rule=\"evenodd\" fill-opacity=\"1\" /><path clip-path=\"url(#clip8100)\" d=\"M 0 0 M1490.48 1450.96 L1490.48 1458.33 L1499.26 1458.33 L1499.26 1461.64 L1490.48 1461.64 L1490.48 1475.71 Q1490.48 1478.88 1491.34 1479.78 Q1492.22 1480.69 1494.88 1480.69 L1499.26 1480.69 L1499.26 1484.25 L1494.88 1484.25 Q1489.95 1484.25 1488.08 1482.42 Q1486.2 1480.57 1486.2 1475.71 L1486.2 1461.64 L1483.08 1461.64 L1483.08 1458.33 L1486.2 1458.33 L1486.2 1450.96 L1490.48 1450.96 Z\" fill=\"#000000\" fill-rule=\"evenodd\" fill-opacity=\"1\" /><path clip-path=\"url(#clip8100)\" d=\"M 0 0 M1504.33 1478.37 L1509.21 1478.37 L1509.21 1484.25 L1504.33 1484.25 L1504.33 1478.37 Z\" fill=\"#000000\" fill-rule=\"evenodd\" fill-opacity=\"1\" /><path clip-path=\"url(#clip8100)\" d=\"M 0 0 M1530.16 1480.32 L1537.8 1480.32 L1537.8 1453.95 L1529.49 1455.62 L1529.49 1451.36 L1537.75 1449.69 L1542.43 1449.69 L1542.43 1480.32 L1550.07 1480.32 L1550.07 1484.25 L1530.16 1484.25 L1530.16 1480.32 Z\" fill=\"#000000\" fill-rule=\"evenodd\" fill-opacity=\"1\" /><path clip-path=\"url(#clip8100)\" d=\"M 0 0 M1565.72 1465.11 Q1562.57 1465.11 1560.72 1467.26 Q1558.89 1469.41 1558.89 1473.16 Q1558.89 1476.89 1560.72 1479.07 Q1562.57 1481.22 1565.72 1481.22 Q1568.86 1481.22 1570.69 1479.07 Q1572.54 1476.89 1572.54 1473.16 Q1572.54 1469.41 1570.69 1467.26 Q1568.86 1465.11 1565.72 1465.11 M1575 1450.46 L1575 1454.71 Q1573.24 1453.88 1571.43 1453.44 Q1569.65 1453 1567.89 1453 Q1563.26 1453 1560.81 1456.13 Q1558.38 1459.25 1558.03 1465.57 Q1559.4 1463.56 1561.46 1462.49 Q1563.52 1461.4 1565.99 1461.4 Q1571.2 1461.4 1574.21 1464.58 Q1577.24 1467.72 1577.24 1473.16 Q1577.24 1478.49 1574.1 1481.71 Q1570.95 1484.92 1565.72 1484.92 Q1559.72 1484.92 1556.55 1480.34 Q1553.38 1475.73 1553.38 1467.01 Q1553.38 1458.81 1557.27 1453.95 Q1561.16 1449.07 1567.71 1449.07 Q1569.47 1449.07 1571.25 1449.41 Q1573.05 1449.76 1575 1450.46 Z\" fill=\"#000000\" fill-rule=\"evenodd\" fill-opacity=\"1\" /><path clip-path=\"url(#clip8100)\" d=\"M 0 0 M1582.8 1478.37 L1587.68 1478.37 L1587.68 1482.35 L1583.89 1489.76 L1580.9 1489.76 L1582.8 1482.35 L1582.8 1478.37 Z\" fill=\"#000000\" fill-rule=\"evenodd\" fill-opacity=\"1\" /><path clip-path=\"url(#clip8100)\" d=\"M 0 0 M1611.85 1480.32 L1628.17 1480.32 L1628.17 1484.25 L1606.23 1484.25 L1606.23 1480.32 Q1608.89 1477.56 1613.47 1472.93 Q1618.08 1468.28 1619.26 1466.94 Q1621.5 1464.41 1622.38 1462.68 Q1623.29 1460.92 1623.29 1459.23 Q1623.29 1456.47 1621.34 1454.74 Q1619.42 1453 1616.32 1453 Q1614.12 1453 1611.66 1453.77 Q1609.23 1454.53 1606.46 1456.08 L1606.46 1451.36 Q1609.28 1450.22 1611.73 1449.65 Q1614.19 1449.07 1616.23 1449.07 Q1621.6 1449.07 1624.79 1451.75 Q1627.98 1454.44 1627.98 1458.93 Q1627.98 1461.06 1627.17 1462.98 Q1626.39 1464.88 1624.28 1467.47 Q1623.7 1468.14 1620.6 1471.36 Q1617.5 1474.55 1611.85 1480.32 Z\" fill=\"#000000\" fill-rule=\"evenodd\" fill-opacity=\"1\" /><path clip-path=\"url(#clip8100)\" d=\"M 0 0 M1643.24 1452.77 Q1639.63 1452.77 1637.8 1456.34 Q1635.99 1459.88 1635.99 1467.01 Q1635.99 1474.11 1637.8 1477.68 Q1639.63 1481.22 1643.24 1481.22 Q1646.87 1481.22 1648.68 1477.68 Q1650.51 1474.11 1650.51 1467.01 Q1650.51 1459.88 1648.68 1456.34 Q1646.87 1452.77 1643.24 1452.77 M1643.24 1449.07 Q1649.05 1449.07 1652.1 1453.67 Q1655.18 1458.26 1655.18 1467.01 Q1655.18 1475.73 1652.1 1480.34 Q1649.05 1484.92 1643.24 1484.92 Q1637.43 1484.92 1634.35 1480.34 Q1631.29 1475.73 1631.29 1467.01 Q1631.29 1458.26 1634.35 1453.67 Q1637.43 1449.07 1643.24 1449.07 Z\" fill=\"#000000\" fill-rule=\"evenodd\" fill-opacity=\"1\" /><path clip-path=\"url(#clip8100)\" d=\"M 0 0 M1702.42 1452.86 Q1697.32 1452.86 1694.31 1456.66 Q1691.33 1460.46 1691.33 1467.01 Q1691.33 1473.53 1694.31 1477.33 Q1697.32 1481.13 1702.42 1481.13 Q1707.51 1481.13 1710.47 1477.33 Q1713.46 1473.53 1713.46 1467.01 Q1713.46 1460.46 1710.47 1456.66 Q1707.51 1452.86 1702.42 1452.86 M1702.42 1449.07 Q1709.68 1449.07 1714.04 1453.95 Q1718.39 1458.81 1718.39 1467.01 Q1718.39 1475.18 1714.04 1480.06 Q1709.68 1484.92 1702.42 1484.92 Q1695.12 1484.92 1690.75 1480.06 Q1686.4 1475.2 1686.4 1467.01 Q1686.4 1458.81 1690.75 1453.95 Q1695.12 1449.07 1702.42 1449.07 Z\" fill=\"#000000\" fill-rule=\"evenodd\" fill-opacity=\"1\" /><path clip-path=\"url(#clip8100)\" d=\"M 0 0 M1741.51 1459.32 L1741.51 1463.3 Q1739.71 1462.31 1737.88 1461.82 Q1736.07 1461.31 1734.22 1461.31 Q1730.08 1461.31 1727.79 1463.95 Q1725.49 1466.57 1725.49 1471.31 Q1725.49 1476.06 1727.79 1478.7 Q1730.08 1481.31 1734.22 1481.31 Q1736.07 1481.31 1737.88 1480.83 Q1739.71 1480.32 1741.51 1479.32 L1741.51 1483.26 Q1739.73 1484.09 1737.81 1484.51 Q1735.91 1484.92 1733.76 1484.92 Q1727.9 1484.92 1724.45 1481.24 Q1721 1477.56 1721 1471.31 Q1721 1464.97 1724.48 1461.34 Q1727.97 1457.7 1734.04 1457.7 Q1736 1457.7 1737.88 1458.12 Q1739.75 1458.51 1741.51 1459.32 Z\" fill=\"#000000\" fill-rule=\"evenodd\" fill-opacity=\"1\" /><path clip-path=\"url(#clip8100)\" d=\"M 0 0 M1750.19 1450.96 L1750.19 1458.33 L1758.97 1458.33 L1758.97 1461.64 L1750.19 1461.64 L1750.19 1475.71 Q1750.19 1478.88 1751.05 1479.78 Q1751.93 1480.69 1754.59 1480.69 L1758.97 1480.69 L1758.97 1484.25 L1754.59 1484.25 Q1749.66 1484.25 1747.79 1482.42 Q1745.91 1480.57 1745.91 1475.71 L1745.91 1461.64 L1742.79 1461.64 L1742.79 1458.33 L1745.91 1458.33 L1745.91 1450.96 L1750.19 1450.96 Z\" fill=\"#000000\" fill-rule=\"evenodd\" fill-opacity=\"1\" /><path clip-path=\"url(#clip8100)\" d=\"M 0 0 M1764.04 1478.37 L1768.92 1478.37 L1768.92 1484.25 L1764.04 1484.25 L1764.04 1478.37 Z\" fill=\"#000000\" fill-rule=\"evenodd\" fill-opacity=\"1\" /><path clip-path=\"url(#clip8100)\" d=\"M 0 0 M1793.09 1480.32 L1809.41 1480.32 L1809.41 1484.25 L1787.46 1484.25 L1787.46 1480.32 Q1790.12 1477.56 1794.71 1472.93 Q1799.31 1468.28 1800.49 1466.94 Q1802.74 1464.41 1803.62 1462.68 Q1804.52 1460.92 1804.52 1459.23 Q1804.52 1456.47 1802.58 1454.74 Q1800.66 1453 1797.55 1453 Q1795.35 1453 1792.9 1453.77 Q1790.47 1454.53 1787.69 1456.08 L1787.69 1451.36 Q1790.52 1450.22 1792.97 1449.65 Q1795.42 1449.07 1797.46 1449.07 Q1802.83 1449.07 1806.03 1451.75 Q1809.22 1454.44 1809.22 1458.93 Q1809.22 1461.06 1808.41 1462.98 Q1807.62 1464.88 1805.52 1467.47 Q1804.94 1468.14 1801.84 1471.36 Q1798.73 1474.55 1793.09 1480.32 Z\" fill=\"#000000\" fill-rule=\"evenodd\" fill-opacity=\"1\" /><path clip-path=\"url(#clip8100)\" d=\"M 0 0 M1828.64 1465.62 Q1832 1466.34 1833.87 1468.6 Q1835.77 1470.87 1835.77 1474.21 Q1835.77 1479.32 1832.25 1482.12 Q1828.73 1484.92 1822.25 1484.92 Q1820.08 1484.92 1817.76 1484.48 Q1815.47 1484.07 1813.02 1483.21 L1813.02 1478.7 Q1814.96 1479.83 1817.28 1480.41 Q1819.59 1480.99 1822.11 1480.99 Q1826.51 1480.99 1828.8 1479.25 Q1831.12 1477.52 1831.12 1474.21 Q1831.12 1471.15 1828.97 1469.44 Q1826.84 1467.7 1823.02 1467.7 L1818.99 1467.7 L1818.99 1463.86 L1823.2 1463.86 Q1826.65 1463.86 1828.48 1462.49 Q1830.31 1461.1 1830.31 1458.51 Q1830.31 1455.85 1828.41 1454.44 Q1826.54 1453 1823.02 1453 Q1821.1 1453 1818.9 1453.42 Q1816.7 1453.84 1814.06 1454.71 L1814.06 1450.55 Q1816.72 1449.81 1819.04 1449.44 Q1821.37 1449.07 1823.43 1449.07 Q1828.76 1449.07 1831.86 1451.5 Q1834.96 1453.9 1834.96 1458.03 Q1834.96 1460.9 1833.32 1462.89 Q1831.67 1464.85 1828.64 1465.62 Z\" fill=\"#000000\" fill-rule=\"evenodd\" fill-opacity=\"1\" /><path clip-path=\"url(#clip8100)\" d=\"M 0 0 M1841.33 1478.37 L1846.21 1478.37 L1846.21 1482.35 L1842.41 1489.76 L1839.43 1489.76 L1841.33 1482.35 L1841.33 1478.37 Z\" fill=\"#000000\" fill-rule=\"evenodd\" fill-opacity=\"1\" /><path clip-path=\"url(#clip8100)\" d=\"M 0 0 M1870.38 1480.32 L1886.7 1480.32 L1886.7 1484.25 L1864.75 1484.25 L1864.75 1480.32 Q1867.41 1477.56 1872 1472.93 Q1876.6 1468.28 1877.78 1466.94 Q1880.03 1464.41 1880.91 1462.68 Q1881.81 1460.92 1881.81 1459.23 Q1881.81 1456.47 1879.87 1454.74 Q1877.95 1453 1874.85 1453 Q1872.65 1453 1870.19 1453.77 Q1867.76 1454.53 1864.98 1456.08 L1864.98 1451.36 Q1867.81 1450.22 1870.26 1449.65 Q1872.72 1449.07 1874.75 1449.07 Q1880.12 1449.07 1883.32 1451.75 Q1886.51 1454.44 1886.51 1458.93 Q1886.51 1461.06 1885.7 1462.98 Q1884.91 1464.88 1882.81 1467.47 Q1882.23 1468.14 1879.13 1471.36 Q1876.03 1474.55 1870.38 1480.32 Z\" fill=\"#000000\" fill-rule=\"evenodd\" fill-opacity=\"1\" /><path clip-path=\"url(#clip8100)\" d=\"M 0 0 M1901.77 1452.77 Q1898.16 1452.77 1896.33 1456.34 Q1894.52 1459.88 1894.52 1467.01 Q1894.52 1474.11 1896.33 1477.68 Q1898.16 1481.22 1901.77 1481.22 Q1905.4 1481.22 1907.21 1477.68 Q1909.03 1474.11 1909.03 1467.01 Q1909.03 1459.88 1907.21 1456.34 Q1905.4 1452.77 1901.77 1452.77 M1901.77 1449.07 Q1907.58 1449.07 1910.63 1453.67 Q1913.71 1458.26 1913.71 1467.01 Q1913.71 1475.73 1910.63 1480.34 Q1907.58 1484.92 1901.77 1484.92 Q1895.96 1484.92 1892.88 1480.34 Q1889.82 1475.73 1889.82 1467.01 Q1889.82 1458.26 1892.88 1453.67 Q1895.96 1449.07 1901.77 1449.07 Z\" fill=\"#000000\" fill-rule=\"evenodd\" fill-opacity=\"1\" /><path clip-path=\"url(#clip8100)\" d=\"M 0 0 M1960.73 1452.86 Q1955.64 1452.86 1952.63 1456.66 Q1949.65 1460.46 1949.65 1467.01 Q1949.65 1473.53 1952.63 1477.33 Q1955.64 1481.13 1960.73 1481.13 Q1965.83 1481.13 1968.79 1477.33 Q1971.78 1473.53 1971.78 1467.01 Q1971.78 1460.46 1968.79 1456.66 Q1965.83 1452.86 1960.73 1452.86 M1960.73 1449.07 Q1968 1449.07 1972.35 1453.95 Q1976.71 1458.81 1976.71 1467.01 Q1976.71 1475.18 1972.35 1480.06 Q1968 1484.92 1960.73 1484.92 Q1953.44 1484.92 1949.07 1480.06 Q1944.72 1475.2 1944.72 1467.01 Q1944.72 1458.81 1949.07 1453.95 Q1953.44 1449.07 1960.73 1449.07 Z\" fill=\"#000000\" fill-rule=\"evenodd\" fill-opacity=\"1\" /><path clip-path=\"url(#clip8100)\" d=\"M 0 0 M1999.83 1459.32 L1999.83 1463.3 Q1998.03 1462.31 1996.2 1461.82 Q1994.39 1461.31 1992.54 1461.31 Q1988.4 1461.31 1986.1 1463.95 Q1983.81 1466.57 1983.81 1471.31 Q1983.81 1476.06 1986.1 1478.7 Q1988.4 1481.31 1992.54 1481.31 Q1994.39 1481.31 1996.2 1480.83 Q1998.03 1480.32 1999.83 1479.32 L1999.83 1483.26 Q1998.05 1484.09 1996.13 1484.51 Q1994.23 1484.92 1992.08 1484.92 Q1986.22 1484.92 1982.77 1481.24 Q1979.32 1477.56 1979.32 1471.31 Q1979.32 1464.97 1982.79 1461.34 Q1986.29 1457.7 1992.35 1457.7 Q1994.32 1457.7 1996.2 1458.12 Q1998.07 1458.51 1999.83 1459.32 Z\" fill=\"#000000\" fill-rule=\"evenodd\" fill-opacity=\"1\" /><path clip-path=\"url(#clip8100)\" d=\"M 0 0 M2008.51 1450.96 L2008.51 1458.33 L2017.29 1458.33 L2017.29 1461.64 L2008.51 1461.64 L2008.51 1475.71 Q2008.51 1478.88 2009.37 1479.78 Q2010.25 1480.69 2012.91 1480.69 L2017.29 1480.69 L2017.29 1484.25 L2012.91 1484.25 Q2007.98 1484.25 2006.1 1482.42 Q2004.23 1480.57 2004.23 1475.71 L2004.23 1461.64 L2001.1 1461.64 L2001.1 1458.33 L2004.23 1458.33 L2004.23 1450.96 L2008.51 1450.96 Z\" fill=\"#000000\" fill-rule=\"evenodd\" fill-opacity=\"1\" /><path clip-path=\"url(#clip8100)\" d=\"M 0 0 M2022.35 1478.37 L2027.24 1478.37 L2027.24 1484.25 L2022.35 1484.25 L2022.35 1478.37 Z\" fill=\"#000000\" fill-rule=\"evenodd\" fill-opacity=\"1\" /><path clip-path=\"url(#clip8100)\" d=\"M 0 0 M2061.54 1465.62 Q2064.9 1466.34 2066.78 1468.6 Q2068.67 1470.87 2068.67 1474.21 Q2068.67 1479.32 2065.16 1482.12 Q2061.64 1484.92 2055.16 1484.92 Q2052.98 1484.92 2050.66 1484.48 Q2048.37 1484.07 2045.92 1483.21 L2045.92 1478.7 Q2047.86 1479.83 2050.18 1480.41 Q2052.49 1480.99 2055.02 1480.99 Q2059.41 1480.99 2061.71 1479.25 Q2064.02 1477.52 2064.02 1474.21 Q2064.02 1471.15 2061.87 1469.44 Q2059.74 1467.7 2055.92 1467.7 L2051.89 1467.7 L2051.89 1463.86 L2056.1 1463.86 Q2059.55 1463.86 2061.38 1462.49 Q2063.21 1461.1 2063.21 1458.51 Q2063.21 1455.85 2061.31 1454.44 Q2059.44 1453 2055.92 1453 Q2054 1453 2051.8 1453.42 Q2049.6 1453.84 2046.96 1454.71 L2046.96 1450.55 Q2049.62 1449.81 2051.94 1449.44 Q2054.28 1449.07 2056.34 1449.07 Q2061.66 1449.07 2064.76 1451.5 Q2067.86 1453.9 2067.86 1458.03 Q2067.86 1460.9 2066.22 1462.89 Q2064.58 1464.85 2061.54 1465.62 Z\" fill=\"#000000\" fill-rule=\"evenodd\" fill-opacity=\"1\" /><path clip-path=\"url(#clip8100)\" d=\"M 0 0 M2083.74 1452.77 Q2080.13 1452.77 2078.3 1456.34 Q2076.5 1459.88 2076.5 1467.01 Q2076.5 1474.11 2078.3 1477.68 Q2080.13 1481.22 2083.74 1481.22 Q2087.38 1481.22 2089.18 1477.68 Q2091.01 1474.11 2091.01 1467.01 Q2091.01 1459.88 2089.18 1456.34 Q2087.38 1452.77 2083.74 1452.77 M2083.74 1449.07 Q2089.55 1449.07 2092.61 1453.67 Q2095.69 1458.26 2095.69 1467.01 Q2095.69 1475.73 2092.61 1480.34 Q2089.55 1484.92 2083.74 1484.92 Q2077.93 1484.92 2074.85 1480.34 Q2071.8 1475.73 2071.8 1467.01 Q2071.8 1458.26 2074.85 1453.67 Q2077.93 1449.07 2083.74 1449.07 Z\" fill=\"#000000\" fill-rule=\"evenodd\" fill-opacity=\"1\" /><path clip-path=\"url(#clip8100)\" d=\"M 0 0 M2101.24 1478.37 L2106.13 1478.37 L2106.13 1482.35 L2102.33 1489.76 L2099.34 1489.76 L2101.24 1482.35 L2101.24 1478.37 Z\" fill=\"#000000\" fill-rule=\"evenodd\" fill-opacity=\"1\" /><path clip-path=\"url(#clip8100)\" d=\"M 0 0 M2130.29 1480.32 L2146.61 1480.32 L2146.61 1484.25 L2124.67 1484.25 L2124.67 1480.32 Q2127.33 1477.56 2131.91 1472.93 Q2136.52 1468.28 2137.7 1466.94 Q2139.95 1464.41 2140.83 1462.68 Q2141.73 1460.92 2141.73 1459.23 Q2141.73 1456.47 2139.78 1454.74 Q2137.86 1453 2134.76 1453 Q2132.56 1453 2130.11 1453.77 Q2127.68 1454.53 2124.9 1456.08 L2124.9 1451.36 Q2127.72 1450.22 2130.18 1449.65 Q2132.63 1449.07 2134.67 1449.07 Q2140.04 1449.07 2143.23 1451.75 Q2146.43 1454.44 2146.43 1458.93 Q2146.43 1461.06 2145.62 1462.98 Q2144.83 1464.88 2142.72 1467.47 Q2142.15 1468.14 2139.04 1471.36 Q2135.94 1474.55 2130.29 1480.32 Z\" fill=\"#000000\" fill-rule=\"evenodd\" fill-opacity=\"1\" /><path clip-path=\"url(#clip8100)\" d=\"M 0 0 M2161.68 1452.77 Q2158.07 1452.77 2156.24 1456.34 Q2154.44 1459.88 2154.44 1467.01 Q2154.44 1474.11 2156.24 1477.68 Q2158.07 1481.22 2161.68 1481.22 Q2165.32 1481.22 2167.12 1477.68 Q2168.95 1474.11 2168.95 1467.01 Q2168.95 1459.88 2167.12 1456.34 Q2165.32 1452.77 2161.68 1452.77 M2161.68 1449.07 Q2167.49 1449.07 2170.55 1453.67 Q2173.63 1458.26 2173.63 1467.01 Q2173.63 1475.73 2170.55 1480.34 Q2167.49 1484.92 2161.68 1484.92 Q2155.87 1484.92 2152.79 1480.34 Q2149.74 1475.73 2149.74 1467.01 Q2149.74 1458.26 2152.79 1453.67 Q2155.87 1449.07 2161.68 1449.07 Z\" fill=\"#000000\" fill-rule=\"evenodd\" fill-opacity=\"1\" /><path clip-path=\"url(#clip8100)\" d=\"M 0 0 M2179.02 1449.69 L2185.31 1449.69 L2200.64 1478.6 L2200.64 1449.69 L2205.17 1449.69 L2205.17 1484.25 L2198.88 1484.25 L2183.55 1455.34 L2183.55 1484.25 L2179.02 1484.25 L2179.02 1449.69 Z\" fill=\"#000000\" fill-rule=\"evenodd\" fill-opacity=\"1\" /><path clip-path=\"url(#clip8100)\" d=\"M 0 0 M2219.69 1461.31 Q2216.26 1461.31 2214.27 1464 Q2212.28 1466.66 2212.28 1471.31 Q2212.28 1475.96 2214.25 1478.65 Q2216.24 1481.31 2219.69 1481.31 Q2223.09 1481.31 2225.08 1478.63 Q2227.07 1475.94 2227.07 1471.31 Q2227.07 1466.71 2225.08 1464.02 Q2223.09 1461.31 2219.69 1461.31 M2219.69 1457.7 Q2225.24 1457.7 2228.41 1461.31 Q2231.58 1464.92 2231.58 1471.31 Q2231.58 1477.68 2228.41 1481.31 Q2225.24 1484.92 2219.69 1484.92 Q2214.11 1484.92 2210.94 1481.31 Q2207.79 1477.68 2207.79 1471.31 Q2207.79 1464.92 2210.94 1461.31 Q2214.11 1457.7 2219.69 1457.7 Z\" fill=\"#000000\" fill-rule=\"evenodd\" fill-opacity=\"1\" /><path clip-path=\"url(#clip8100)\" d=\"M 0 0 M2233 1458.33 L2237.51 1458.33 L2245.61 1480.09 L2253.71 1458.33 L2258.23 1458.33 L2248.51 1484.25 L2242.72 1484.25 L2233 1458.33 Z\" fill=\"#000000\" fill-rule=\"evenodd\" fill-opacity=\"1\" /><path clip-path=\"url(#clip8100)\" d=\"M 0 0 M2259.62 1478.37 L2264.5 1478.37 L2264.5 1484.25 L2259.62 1484.25 L2259.62 1478.37 Z\" fill=\"#000000\" fill-rule=\"evenodd\" fill-opacity=\"1\" /><path clip-path=\"url(#clip8100)\" d=\"M 0 0 M2284.69 1449.69 L2303.04 1449.69 L2303.04 1453.63 L2288.97 1453.63 L2288.97 1462.1 Q2289.99 1461.75 2291.01 1461.59 Q2292.02 1461.4 2293.04 1461.4 Q2298.83 1461.4 2302.21 1464.58 Q2305.59 1467.75 2305.59 1473.16 Q2305.59 1478.74 2302.12 1481.84 Q2298.64 1484.92 2292.33 1484.92 Q2290.15 1484.92 2287.88 1484.55 Q2285.64 1484.18 2283.23 1483.44 L2283.23 1478.74 Q2285.31 1479.88 2287.53 1480.43 Q2289.76 1480.99 2292.23 1480.99 Q2296.24 1480.99 2298.58 1478.88 Q2300.91 1476.78 2300.91 1473.16 Q2300.91 1469.55 2298.58 1467.45 Q2296.24 1465.34 2292.23 1465.34 Q2290.36 1465.34 2288.48 1465.76 Q2286.63 1466.17 2284.69 1467.05 L2284.69 1449.69 Z\" fill=\"#000000\" fill-rule=\"evenodd\" fill-opacity=\"1\" /><path clip-path=\"url(#clip8100)\" d=\"M 0 0 M2311.14 1478.37 L2316.03 1478.37 L2316.03 1482.35 L2312.23 1489.76 L2309.25 1489.76 L2311.14 1482.35 L2311.14 1478.37 Z\" fill=\"#000000\" fill-rule=\"evenodd\" fill-opacity=\"1\" /><path clip-path=\"url(#clip8100)\" d=\"M 0 0 M2340.2 1480.32 L2356.51 1480.32 L2356.51 1484.25 L2334.57 1484.25 L2334.57 1480.32 Q2337.23 1477.56 2341.82 1472.93 Q2346.42 1468.28 2347.6 1466.94 Q2349.85 1464.41 2350.73 1462.68 Q2351.63 1460.92 2351.63 1459.23 Q2351.63 1456.47 2349.69 1454.74 Q2347.76 1453 2344.66 1453 Q2342.46 1453 2340.01 1453.77 Q2337.58 1454.53 2334.8 1456.08 L2334.8 1451.36 Q2337.63 1450.22 2340.08 1449.65 Q2342.53 1449.07 2344.57 1449.07 Q2349.94 1449.07 2353.14 1451.75 Q2356.33 1454.44 2356.33 1458.93 Q2356.33 1461.06 2355.52 1462.98 Q2354.73 1464.88 2352.63 1467.47 Q2352.05 1468.14 2348.95 1471.36 Q2345.84 1474.55 2340.2 1480.32 Z\" fill=\"#000000\" fill-rule=\"evenodd\" fill-opacity=\"1\" /><path clip-path=\"url(#clip8100)\" d=\"M 0 0 M2371.58 1452.77 Q2367.97 1452.77 2366.14 1456.34 Q2364.34 1459.88 2364.34 1467.01 Q2364.34 1474.11 2366.14 1477.68 Q2367.97 1481.22 2371.58 1481.22 Q2375.22 1481.22 2377.02 1477.68 Q2378.85 1474.11 2378.85 1467.01 Q2378.85 1459.88 2377.02 1456.34 Q2375.22 1452.77 2371.58 1452.77 M2371.58 1449.07 Q2377.39 1449.07 2380.45 1453.67 Q2383.53 1458.26 2383.53 1467.01 Q2383.53 1475.73 2380.45 1480.34 Q2377.39 1484.92 2371.58 1484.92 Q2365.77 1484.92 2362.7 1480.34 Q2359.64 1475.73 2359.64 1467.01 Q2359.64 1458.26 2362.7 1453.67 Q2365.77 1449.07 2371.58 1449.07 Z\" fill=\"#000000\" fill-rule=\"evenodd\" fill-opacity=\"1\" /><path clip-path=\"url(#clip8100)\" d=\"M 0 0 M2425.54 1449.69 L2431.84 1449.69 L2447.16 1478.6 L2447.16 1449.69 L2451.7 1449.69 L2451.7 1484.25 L2445.4 1484.25 L2430.08 1455.34 L2430.08 1484.25 L2425.54 1484.25 L2425.54 1449.69 Z\" fill=\"#000000\" fill-rule=\"evenodd\" fill-opacity=\"1\" /><path clip-path=\"url(#clip8100)\" d=\"M 0 0 M2466.21 1461.31 Q2462.79 1461.31 2460.8 1464 Q2458.8 1466.66 2458.8 1471.31 Q2458.8 1475.96 2460.77 1478.65 Q2462.76 1481.31 2466.21 1481.31 Q2469.61 1481.31 2471.61 1478.63 Q2473.6 1475.94 2473.6 1471.31 Q2473.6 1466.71 2471.61 1464.02 Q2469.61 1461.31 2466.21 1461.31 M2466.21 1457.7 Q2471.77 1457.7 2474.94 1461.31 Q2478.11 1464.92 2478.11 1471.31 Q2478.11 1477.68 2474.94 1481.31 Q2471.77 1484.92 2466.21 1484.92 Q2460.63 1484.92 2457.46 1481.31 Q2454.31 1477.68 2454.31 1471.31 Q2454.31 1464.92 2457.46 1461.31 Q2460.63 1457.7 2466.21 1457.7 Z\" fill=\"#000000\" fill-rule=\"evenodd\" fill-opacity=\"1\" /><path clip-path=\"url(#clip8100)\" d=\"M 0 0 M2479.52 1458.33 L2484.04 1458.33 L2492.14 1480.09 L2500.24 1458.33 L2504.75 1458.33 L2495.03 1484.25 L2489.24 1484.25 L2479.52 1458.33 Z\" fill=\"#000000\" fill-rule=\"evenodd\" fill-opacity=\"1\" /><path clip-path=\"url(#clip8100)\" d=\"M 0 0 M2506.14 1478.37 L2511.03 1478.37 L2511.03 1484.25 L2506.14 1484.25 L2506.14 1478.37 Z\" fill=\"#000000\" fill-rule=\"evenodd\" fill-opacity=\"1\" /><path clip-path=\"url(#clip8100)\" d=\"M 0 0 M2531.98 1480.32 L2539.61 1480.32 L2539.61 1453.95 L2531.3 1455.62 L2531.3 1451.36 L2539.57 1449.69 L2544.24 1449.69 L2544.24 1480.32 L2551.88 1480.32 L2551.88 1484.25 L2531.98 1484.25 L2531.98 1480.32 Z\" fill=\"#000000\" fill-rule=\"evenodd\" fill-opacity=\"1\" /><path clip-path=\"url(#clip8100)\" d=\"M 0 0 M2560.98 1480.32 L2577.3 1480.32 L2577.3 1484.25 L2555.36 1484.25 L2555.36 1480.32 Q2558.02 1477.56 2562.6 1472.93 Q2567.21 1468.28 2568.39 1466.94 Q2570.63 1464.41 2571.51 1462.68 Q2572.42 1460.92 2572.42 1459.23 Q2572.42 1456.47 2570.47 1454.74 Q2568.55 1453 2565.45 1453 Q2563.25 1453 2560.79 1453.77 Q2558.36 1454.53 2555.59 1456.08 L2555.59 1451.36 Q2558.41 1450.22 2560.86 1449.65 Q2563.32 1449.07 2565.35 1449.07 Q2570.73 1449.07 2573.92 1451.75 Q2577.11 1454.44 2577.11 1458.93 Q2577.11 1461.06 2576.3 1462.98 Q2575.52 1464.88 2573.41 1467.47 Q2572.83 1468.14 2569.73 1471.36 Q2566.63 1474.55 2560.98 1480.32 Z\" fill=\"#000000\" fill-rule=\"evenodd\" fill-opacity=\"1\" /><path clip-path=\"url(#clip8100)\" d=\"M 0 0 M2582.85 1478.37 L2587.74 1478.37 L2587.74 1482.35 L2583.94 1489.76 L2580.96 1489.76 L2582.85 1482.35 L2582.85 1478.37 Z\" fill=\"#000000\" fill-rule=\"evenodd\" fill-opacity=\"1\" /><path clip-path=\"url(#clip8100)\" d=\"M 0 0 M2611.91 1480.32 L2628.22 1480.32 L2628.22 1484.25 L2606.28 1484.25 L2606.28 1480.32 Q2608.94 1477.56 2613.53 1472.93 Q2618.13 1468.28 2619.31 1466.94 Q2621.56 1464.41 2622.44 1462.68 Q2623.34 1460.92 2623.34 1459.23 Q2623.34 1456.47 2621.4 1454.74 Q2619.48 1453 2616.37 1453 Q2614.17 1453 2611.72 1453.77 Q2609.29 1454.53 2606.51 1456.08 L2606.51 1451.36 Q2609.34 1450.22 2611.79 1449.65 Q2614.24 1449.07 2616.28 1449.07 Q2621.65 1449.07 2624.85 1451.75 Q2628.04 1454.44 2628.04 1458.93 Q2628.04 1461.06 2627.23 1462.98 Q2626.44 1464.88 2624.34 1467.47 Q2623.76 1468.14 2620.66 1471.36 Q2617.55 1474.55 2611.91 1480.32 Z\" fill=\"#000000\" fill-rule=\"evenodd\" fill-opacity=\"1\" /><path clip-path=\"url(#clip8100)\" d=\"M 0 0 M2643.29 1452.77 Q2639.68 1452.77 2637.85 1456.34 Q2636.05 1459.88 2636.05 1467.01 Q2636.05 1474.11 2637.85 1477.68 Q2639.68 1481.22 2643.29 1481.22 Q2646.93 1481.22 2648.73 1477.68 Q2650.56 1474.11 2650.56 1467.01 Q2650.56 1459.88 2648.73 1456.34 Q2646.93 1452.77 2643.29 1452.77 M2643.29 1449.07 Q2649.1 1449.07 2652.16 1453.67 Q2655.24 1458.26 2655.24 1467.01 Q2655.24 1475.73 2652.16 1480.34 Q2649.1 1484.92 2643.29 1484.92 Q2637.48 1484.92 2634.41 1480.34 Q2631.35 1475.73 2631.35 1467.01 Q2631.35 1458.26 2634.41 1453.67 Q2637.48 1449.07 2643.29 1449.07 Z\" fill=\"#000000\" fill-rule=\"evenodd\" fill-opacity=\"1\" /><path clip-path=\"url(#clip8100)\" d=\"M 0 0 M2646.89 1449.69 L2653.19 1449.69 L2668.51 1478.6 L2668.51 1449.69 L2673.05 1449.69 L2673.05 1484.25 L2666.75 1484.25 L2651.43 1455.34 L2651.43 1484.25 L2646.89 1484.25 L2646.89 1449.69 Z\" fill=\"#000000\" fill-rule=\"evenodd\" fill-opacity=\"1\" /><path clip-path=\"url(#clip8100)\" d=\"M 0 0 M2687.56 1461.31 Q2684.13 1461.31 2682.14 1464 Q2680.15 1466.66 2680.15 1471.31 Q2680.15 1475.96 2682.12 1478.65 Q2684.11 1481.31 2687.56 1481.31 Q2690.96 1481.31 2692.95 1478.63 Q2694.94 1475.94 2694.94 1471.31 Q2694.94 1466.71 2692.95 1464.02 Q2690.96 1461.31 2687.56 1461.31 M2687.56 1457.7 Q2693.12 1457.7 2696.29 1461.31 Q2699.46 1464.92 2699.46 1471.31 Q2699.46 1477.68 2696.29 1481.31 Q2693.12 1484.92 2687.56 1484.92 Q2681.98 1484.92 2678.81 1481.31 Q2675.66 1477.68 2675.66 1471.31 Q2675.66 1464.92 2678.81 1461.31 Q2681.98 1457.7 2687.56 1457.7 Z\" fill=\"#000000\" fill-rule=\"evenodd\" fill-opacity=\"1\" /><path clip-path=\"url(#clip8100)\" d=\"M 0 0 M2700.87 1458.33 L2705.38 1458.33 L2713.49 1480.09 L2721.59 1458.33 L2726.1 1458.33 L2716.38 1484.25 L2710.59 1484.25 L2700.87 1458.33 Z\" fill=\"#000000\" fill-rule=\"evenodd\" fill-opacity=\"1\" /><path clip-path=\"url(#clip8100)\" d=\"M 0 0 M2727.49 1478.37 L2732.38 1478.37 L2732.38 1484.25 L2727.49 1484.25 L2727.49 1478.37 Z\" fill=\"#000000\" fill-rule=\"evenodd\" fill-opacity=\"1\" /><path clip-path=\"url(#clip8100)\" d=\"M 0 0 M2753.32 1480.32 L2760.96 1480.32 L2760.96 1453.95 L2752.65 1455.62 L2752.65 1451.36 L2760.92 1449.69 L2765.59 1449.69 L2765.59 1480.32 L2773.23 1480.32 L2773.23 1484.25 L2753.32 1484.25 L2753.32 1480.32 Z\" fill=\"#000000\" fill-rule=\"evenodd\" fill-opacity=\"1\" /><path clip-path=\"url(#clip8100)\" d=\"M 0 0 M2788.3 1467.84 Q2784.97 1467.84 2783.05 1469.62 Q2781.15 1471.4 2781.15 1474.53 Q2781.15 1477.65 2783.05 1479.44 Q2784.97 1481.22 2788.3 1481.22 Q2791.63 1481.22 2793.56 1479.44 Q2795.48 1477.63 2795.48 1474.53 Q2795.48 1471.4 2793.56 1469.62 Q2791.66 1467.84 2788.3 1467.84 M2783.62 1465.85 Q2780.62 1465.11 2778.93 1463.05 Q2777.26 1460.99 2777.26 1458.03 Q2777.26 1453.88 2780.2 1451.47 Q2783.16 1449.07 2788.3 1449.07 Q2793.46 1449.07 2796.4 1451.47 Q2799.34 1453.88 2799.34 1458.03 Q2799.34 1460.99 2797.65 1463.05 Q2795.99 1465.11 2793 1465.85 Q2796.38 1466.64 2798.25 1468.93 Q2800.15 1471.22 2800.15 1474.53 Q2800.15 1479.55 2797.07 1482.24 Q2794.02 1484.92 2788.3 1484.92 Q2782.58 1484.92 2779.5 1482.24 Q2776.45 1479.55 2776.45 1474.53 Q2776.45 1471.22 2778.35 1468.93 Q2780.25 1466.64 2783.62 1465.85 M2781.91 1458.46 Q2781.91 1461.15 2783.58 1462.65 Q2785.27 1464.16 2788.3 1464.16 Q2791.31 1464.16 2793 1462.65 Q2794.71 1461.15 2794.71 1458.46 Q2794.71 1455.78 2793 1454.28 Q2791.31 1452.77 2788.3 1452.77 Q2785.27 1452.77 2783.58 1454.28 Q2781.91 1455.78 2781.91 1458.46 Z\" fill=\"#000000\" fill-rule=\"evenodd\" fill-opacity=\"1\" /><path clip-path=\"url(#clip8100)\" d=\"M 0 0 M2805.71 1478.37 L2810.59 1478.37 L2810.59 1482.35 L2806.8 1489.76 L2803.81 1489.76 L2805.71 1482.35 L2805.71 1478.37 Z\" fill=\"#000000\" fill-rule=\"evenodd\" fill-opacity=\"1\" /><path clip-path=\"url(#clip8100)\" d=\"M 0 0 M2834.76 1480.32 L2851.08 1480.32 L2851.08 1484.25 L2829.13 1484.25 L2829.13 1480.32 Q2831.8 1477.56 2836.38 1472.93 Q2840.99 1468.28 2842.17 1466.94 Q2844.41 1464.41 2845.29 1462.68 Q2846.19 1460.92 2846.19 1459.23 Q2846.19 1456.47 2844.25 1454.74 Q2842.33 1453 2839.23 1453 Q2837.03 1453 2834.57 1453.77 Q2832.14 1454.53 2829.37 1456.08 L2829.37 1451.36 Q2832.19 1450.22 2834.64 1449.65 Q2837.1 1449.07 2839.13 1449.07 Q2844.5 1449.07 2847.7 1451.75 Q2850.89 1454.44 2850.89 1458.93 Q2850.89 1461.06 2850.08 1462.98 Q2849.3 1464.88 2847.19 1467.47 Q2846.61 1468.14 2843.51 1471.36 Q2840.41 1474.55 2834.76 1480.32 Z\" fill=\"#000000\" fill-rule=\"evenodd\" fill-opacity=\"1\" /><path clip-path=\"url(#clip8100)\" d=\"M 0 0 M2866.15 1452.77 Q2862.54 1452.77 2860.71 1456.34 Q2858.9 1459.88 2858.9 1467.01 Q2858.9 1474.11 2860.71 1477.68 Q2862.54 1481.22 2866.15 1481.22 Q2869.78 1481.22 2871.59 1477.68 Q2873.42 1474.11 2873.42 1467.01 Q2873.42 1459.88 2871.59 1456.34 Q2869.78 1452.77 2866.15 1452.77 M2866.15 1449.07 Q2871.96 1449.07 2875.01 1453.67 Q2878.09 1458.26 2878.09 1467.01 Q2878.09 1475.73 2875.01 1480.34 Q2871.96 1484.92 2866.15 1484.92 Q2860.34 1484.92 2857.26 1480.34 Q2854.2 1475.73 2854.2 1467.01 Q2854.2 1458.26 2857.26 1453.67 Q2860.34 1449.07 2866.15 1449.07 Z\" fill=\"#000000\" fill-rule=\"evenodd\" fill-opacity=\"1\" /><path clip-path=\"url(#clip8100)\" d=\"M 0 0 M2906.64 1449.69 L2912.94 1449.69 L2928.26 1478.6 L2928.26 1449.69 L2932.8 1449.69 L2932.8 1484.25 L2926.5 1484.25 L2911.18 1455.34 L2911.18 1484.25 L2906.64 1484.25 L2906.64 1449.69 Z\" fill=\"#000000\" fill-rule=\"evenodd\" fill-opacity=\"1\" /><path clip-path=\"url(#clip8100)\" d=\"M 0 0 M2947.31 1461.31 Q2943.89 1461.31 2941.9 1464 Q2939.91 1466.66 2939.91 1471.31 Q2939.91 1475.96 2941.87 1478.65 Q2943.87 1481.31 2947.31 1481.31 Q2950.72 1481.31 2952.71 1478.63 Q2954.7 1475.94 2954.7 1471.31 Q2954.7 1466.71 2952.71 1464.02 Q2950.72 1461.31 2947.31 1461.31 M2947.31 1457.7 Q2952.87 1457.7 2956.04 1461.31 Q2959.21 1464.92 2959.21 1471.31 Q2959.21 1477.68 2956.04 1481.31 Q2952.87 1484.92 2947.31 1484.92 Q2941.74 1484.92 2938.56 1481.31 Q2935.42 1477.68 2935.42 1471.31 Q2935.42 1464.92 2938.56 1461.31 Q2941.74 1457.7 2947.31 1457.7 Z\" fill=\"#000000\" fill-rule=\"evenodd\" fill-opacity=\"1\" /><path clip-path=\"url(#clip8100)\" d=\"M 0 0 M2960.62 1458.33 L2965.14 1458.33 L2973.24 1480.09 L2981.34 1458.33 L2985.86 1458.33 L2976.13 1484.25 L2970.35 1484.25 L2960.62 1458.33 Z\" fill=\"#000000\" fill-rule=\"evenodd\" fill-opacity=\"1\" /><path clip-path=\"url(#clip8100)\" d=\"M 0 0 M2987.25 1478.37 L2992.13 1478.37 L2992.13 1484.25 L2987.25 1484.25 L2987.25 1478.37 Z\" fill=\"#000000\" fill-rule=\"evenodd\" fill-opacity=\"1\" /><path clip-path=\"url(#clip8100)\" d=\"M 0 0 M3016.3 1480.32 L3032.62 1480.32 L3032.62 1484.25 L3010.67 1484.25 L3010.67 1480.32 Q3013.33 1477.56 3017.92 1472.93 Q3022.52 1468.28 3023.7 1466.94 Q3025.95 1464.41 3026.83 1462.68 Q3027.73 1460.92 3027.73 1459.23 Q3027.73 1456.47 3025.79 1454.74 Q3023.87 1453 3020.76 1453 Q3018.56 1453 3016.11 1453.77 Q3013.68 1454.53 3010.9 1456.08 L3010.9 1451.36 Q3013.73 1450.22 3016.18 1449.65 Q3018.63 1449.07 3020.67 1449.07 Q3026.04 1449.07 3029.24 1451.75 Q3032.43 1454.44 3032.43 1458.93 Q3032.43 1461.06 3031.62 1462.98 Q3030.83 1464.88 3028.73 1467.47 Q3028.15 1468.14 3025.05 1471.36 Q3021.94 1474.55 3016.3 1480.32 Z\" fill=\"#000000\" fill-rule=\"evenodd\" fill-opacity=\"1\" /><path clip-path=\"url(#clip8100)\" d=\"M 0 0 M3037.73 1449.69 L3056.09 1449.69 L3056.09 1453.63 L3042.01 1453.63 L3042.01 1462.1 Q3043.03 1461.75 3044.05 1461.59 Q3045.07 1461.4 3046.09 1461.4 Q3051.87 1461.4 3055.25 1464.58 Q3058.63 1467.75 3058.63 1473.16 Q3058.63 1478.74 3055.16 1481.84 Q3051.69 1484.92 3045.37 1484.92 Q3043.19 1484.92 3040.93 1484.55 Q3038.68 1484.18 3036.27 1483.44 L3036.27 1478.74 Q3038.36 1479.88 3040.58 1480.43 Q3042.8 1480.99 3045.28 1480.99 Q3049.28 1480.99 3051.62 1478.88 Q3053.96 1476.78 3053.96 1473.16 Q3053.96 1469.55 3051.62 1467.45 Q3049.28 1465.34 3045.28 1465.34 Q3043.4 1465.34 3041.53 1465.76 Q3039.68 1466.17 3037.73 1467.05 L3037.73 1449.69 Z\" fill=\"#000000\" fill-rule=\"evenodd\" fill-opacity=\"1\" /><path clip-path=\"url(#clip8100)\" d=\"M 0 0 M3064.19 1478.37 L3069.07 1478.37 L3069.07 1482.35 L3065.28 1489.76 L3062.29 1489.76 L3064.19 1482.35 L3064.19 1478.37 Z\" fill=\"#000000\" fill-rule=\"evenodd\" fill-opacity=\"1\" /><path clip-path=\"url(#clip8100)\" d=\"M 0 0 M3093.24 1480.32 L3109.56 1480.32 L3109.56 1484.25 L3087.61 1484.25 L3087.61 1480.32 Q3090.28 1477.56 3094.86 1472.93 Q3099.47 1468.28 3100.65 1466.94 Q3102.89 1464.41 3103.77 1462.68 Q3104.67 1460.92 3104.67 1459.23 Q3104.67 1456.47 3102.73 1454.74 Q3100.81 1453 3097.71 1453 Q3095.51 1453 3093.05 1453.77 Q3090.62 1454.53 3087.85 1456.08 L3087.85 1451.36 Q3090.67 1450.22 3093.12 1449.65 Q3095.58 1449.07 3097.61 1449.07 Q3102.99 1449.07 3106.18 1451.75 Q3109.37 1454.44 3109.37 1458.93 Q3109.37 1461.06 3108.56 1462.98 Q3107.78 1464.88 3105.67 1467.47 Q3105.09 1468.14 3101.99 1471.36 Q3098.89 1474.55 3093.24 1480.32 Z\" fill=\"#000000\" fill-rule=\"evenodd\" fill-opacity=\"1\" /><path clip-path=\"url(#clip8100)\" d=\"M 0 0 M3124.63 1452.77 Q3121.02 1452.77 3119.19 1456.34 Q3117.38 1459.88 3117.38 1467.01 Q3117.38 1474.11 3119.19 1477.68 Q3121.02 1481.22 3124.63 1481.22 Q3128.26 1481.22 3130.07 1477.68 Q3131.9 1474.11 3131.9 1467.01 Q3131.9 1459.88 3130.07 1456.34 Q3128.26 1452.77 3124.63 1452.77 M3124.63 1449.07 Q3130.44 1449.07 3133.49 1453.67 Q3136.57 1458.26 3136.57 1467.01 Q3136.57 1475.73 3133.49 1480.34 Q3130.44 1484.92 3124.63 1484.92 Q3118.82 1484.92 3115.74 1480.34 Q3112.68 1475.73 3112.68 1467.01 Q3112.68 1458.26 3115.74 1453.67 Q3118.82 1449.07 3124.63 1449.07 Z\" fill=\"#000000\" fill-rule=\"evenodd\" fill-opacity=\"1\" /><path clip-path=\"url(#clip8100)\" d=\"M 0 0 M3181.8 1453.53 L3181.8 1480.41 L3187.45 1480.41 Q3194.6 1480.41 3197.91 1477.17 Q3201.25 1473.93 3201.25 1466.94 Q3201.25 1459.99 3197.91 1456.78 Q3194.6 1453.53 3187.45 1453.53 L3181.8 1453.53 M3177.13 1449.69 L3186.73 1449.69 Q3196.78 1449.69 3201.48 1453.88 Q3206.18 1458.05 3206.18 1466.94 Q3206.18 1475.87 3201.46 1480.06 Q3196.73 1484.25 3186.73 1484.25 L3177.13 1484.25 L3177.13 1449.69 Z\" fill=\"#000000\" fill-rule=\"evenodd\" fill-opacity=\"1\" /><path clip-path=\"url(#clip8100)\" d=\"M 0 0 M3232.82 1470.22 L3232.82 1472.31 L3213.24 1472.31 Q3213.52 1476.71 3215.88 1479.02 Q3218.26 1481.31 3222.5 1481.31 Q3224.95 1481.31 3227.24 1480.71 Q3229.56 1480.11 3231.83 1478.9 L3231.83 1482.93 Q3229.53 1483.9 3227.13 1484.41 Q3224.72 1484.92 3222.24 1484.92 Q3216.04 1484.92 3212.4 1481.31 Q3208.79 1477.7 3208.79 1471.54 Q3208.79 1465.18 3212.22 1461.45 Q3215.67 1457.7 3221.5 1457.7 Q3226.73 1457.7 3229.77 1461.08 Q3232.82 1464.44 3232.82 1470.22 M3228.56 1468.97 Q3228.52 1465.48 3226.59 1463.4 Q3224.7 1461.31 3221.55 1461.31 Q3217.98 1461.31 3215.83 1463.33 Q3213.7 1465.34 3213.38 1469 L3228.56 1468.97 Z\" fill=\"#000000\" fill-rule=\"evenodd\" fill-opacity=\"1\" /><path clip-path=\"url(#clip8100)\" d=\"M 0 0 M3255.95 1459.32 L3255.95 1463.3 Q3254.14 1462.31 3252.31 1461.82 Q3250.51 1461.31 3248.65 1461.31 Q3244.51 1461.31 3242.22 1463.95 Q3239.93 1466.57 3239.93 1471.31 Q3239.93 1476.06 3242.22 1478.7 Q3244.51 1481.31 3248.65 1481.31 Q3250.51 1481.31 3252.31 1480.83 Q3254.14 1480.32 3255.95 1479.32 L3255.95 1483.26 Q3254.16 1484.09 3252.24 1484.51 Q3250.34 1484.92 3248.19 1484.92 Q3242.33 1484.92 3238.89 1481.24 Q3235.44 1477.56 3235.44 1471.31 Q3235.44 1464.97 3238.91 1461.34 Q3242.4 1457.7 3248.47 1457.7 Q3250.44 1457.7 3252.31 1458.12 Q3254.19 1458.51 3255.95 1459.32 Z\" fill=\"#000000\" fill-rule=\"evenodd\" fill-opacity=\"1\" /><path clip-path=\"url(#clip8100)\" d=\"M 0 0 M3261.02 1478.37 L3265.9 1478.37 L3265.9 1484.25 L3261.02 1484.25 L3261.02 1478.37 Z\" fill=\"#000000\" fill-rule=\"evenodd\" fill-opacity=\"1\" /><path clip-path=\"url(#clip8100)\" d=\"M 0 0 M3290.07 1480.32 L3306.39 1480.32 L3306.39 1484.25 L3284.44 1484.25 L3284.44 1480.32 Q3287.1 1477.56 3291.69 1472.93 Q3296.29 1468.28 3297.47 1466.94 Q3299.72 1464.41 3300.6 1462.68 Q3301.5 1460.92 3301.5 1459.23 Q3301.5 1456.47 3299.56 1454.74 Q3297.64 1453 3294.53 1453 Q3292.33 1453 3289.88 1453.77 Q3287.45 1454.53 3284.67 1456.08 L3284.67 1451.36 Q3287.5 1450.22 3289.95 1449.65 Q3292.4 1449.07 3294.44 1449.07 Q3299.81 1449.07 3303.01 1451.75 Q3306.2 1454.44 3306.2 1458.93 Q3306.2 1461.06 3305.39 1462.98 Q3304.6 1464.88 3302.5 1467.47 Q3301.92 1468.14 3298.82 1471.36 Q3295.71 1474.55 3290.07 1480.32 Z\" fill=\"#000000\" fill-rule=\"evenodd\" fill-opacity=\"1\" /><path clip-path=\"url(#clip8100)\" d=\"M 0 0 M3311.94 1478.37 L3316.83 1478.37 L3316.83 1482.35 L3313.03 1489.76 L3310.04 1489.76 L3311.94 1482.35 L3311.94 1478.37 Z\" fill=\"#000000\" fill-rule=\"evenodd\" fill-opacity=\"1\" /><path clip-path=\"url(#clip8100)\" d=\"M 0 0 M3340.99 1480.32 L3357.31 1480.32 L3357.31 1484.25 L3335.37 1484.25 L3335.37 1480.32 Q3338.03 1477.56 3342.61 1472.93 Q3347.22 1468.28 3348.4 1466.94 Q3350.64 1464.41 3351.52 1462.68 Q3352.43 1460.92 3352.43 1459.23 Q3352.43 1456.47 3350.48 1454.74 Q3348.56 1453 3345.46 1453 Q3343.26 1453 3340.81 1453.77 Q3338.38 1454.53 3335.6 1456.08 L3335.6 1451.36 Q3338.42 1450.22 3340.88 1449.65 Q3343.33 1449.07 3345.37 1449.07 Q3350.74 1449.07 3353.93 1451.75 Q3357.13 1454.44 3357.13 1458.93 Q3357.13 1461.06 3356.32 1462.98 Q3355.53 1464.88 3353.42 1467.47 Q3352.84 1468.14 3349.74 1471.36 Q3346.64 1474.55 3340.99 1480.32 Z\" fill=\"#000000\" fill-rule=\"evenodd\" fill-opacity=\"1\" /><path clip-path=\"url(#clip8100)\" d=\"M 0 0 M3372.38 1452.77 Q3368.77 1452.77 3366.94 1456.34 Q3365.14 1459.88 3365.14 1467.01 Q3365.14 1474.11 3366.94 1477.68 Q3368.77 1481.22 3372.38 1481.22 Q3376.01 1481.22 3377.82 1477.68 Q3379.65 1474.11 3379.65 1467.01 Q3379.65 1459.88 3377.82 1456.34 Q3376.01 1452.77 3372.38 1452.77 M3372.38 1449.07 Q3378.19 1449.07 3381.25 1453.67 Q3384.32 1458.26 3384.32 1467.01 Q3384.32 1475.73 3381.25 1480.34 Q3378.19 1484.92 3372.38 1484.92 Q3366.57 1484.92 3363.49 1480.34 Q3360.44 1475.73 3360.44 1467.01 Q3360.44 1458.26 3363.49 1453.67 Q3366.57 1449.07 3372.38 1449.07 Z\" fill=\"#000000\" fill-rule=\"evenodd\" fill-opacity=\"1\" /><path clip-path=\"url(#clip8100)\" d=\"M 0 0 M3403.15 1453.53 L3403.15 1480.41 L3408.8 1480.41 Q3415.95 1480.41 3419.26 1477.17 Q3422.6 1473.93 3422.6 1466.94 Q3422.6 1459.99 3419.26 1456.78 Q3415.95 1453.53 3408.8 1453.53 L3403.15 1453.53 M3398.48 1449.69 L3408.08 1449.69 Q3418.13 1449.69 3422.83 1453.88 Q3427.53 1458.05 3427.53 1466.94 Q3427.53 1475.87 3422.8 1480.06 Q3418.08 1484.25 3408.08 1484.25 L3398.48 1484.25 L3398.48 1449.69 Z\" fill=\"#000000\" fill-rule=\"evenodd\" fill-opacity=\"1\" /><path clip-path=\"url(#clip8100)\" d=\"M 0 0 M3454.17 1470.22 L3454.17 1472.31 L3434.59 1472.31 Q3434.86 1476.71 3437.23 1479.02 Q3439.61 1481.31 3443.85 1481.31 Q3446.3 1481.31 3448.59 1480.71 Q3450.91 1480.11 3453.17 1478.9 L3453.17 1482.93 Q3450.88 1483.9 3448.48 1484.41 Q3446.07 1484.92 3443.59 1484.92 Q3437.39 1484.92 3433.75 1481.31 Q3430.14 1477.7 3430.14 1471.54 Q3430.14 1465.18 3433.57 1461.45 Q3437.02 1457.7 3442.85 1457.7 Q3448.08 1457.7 3451.11 1461.08 Q3454.17 1464.44 3454.17 1470.22 M3449.91 1468.97 Q3449.86 1465.48 3447.94 1463.4 Q3446.04 1461.31 3442.9 1461.31 Q3439.33 1461.31 3437.18 1463.33 Q3435.05 1465.34 3434.73 1469 L3449.91 1468.97 Z\" fill=\"#000000\" fill-rule=\"evenodd\" fill-opacity=\"1\" /><path clip-path=\"url(#clip8100)\" d=\"M 0 0 M3477.29 1459.32 L3477.29 1463.3 Q3475.49 1462.31 3473.66 1461.82 Q3471.85 1461.31 3470 1461.31 Q3465.86 1461.31 3463.57 1463.95 Q3461.28 1466.57 3461.28 1471.31 Q3461.28 1476.06 3463.57 1478.7 Q3465.86 1481.31 3470 1481.31 Q3471.85 1481.31 3473.66 1480.83 Q3475.49 1480.32 3477.29 1479.32 L3477.29 1483.26 Q3475.51 1484.09 3473.59 1484.51 Q3471.69 1484.92 3469.54 1484.92 Q3463.68 1484.92 3460.23 1481.24 Q3456.79 1477.56 3456.79 1471.31 Q3456.79 1464.97 3460.26 1461.34 Q3463.75 1457.7 3469.82 1457.7 Q3471.79 1457.7 3473.66 1458.12 Q3475.54 1458.51 3477.29 1459.32 Z\" fill=\"#000000\" fill-rule=\"evenodd\" fill-opacity=\"1\" /><path clip-path=\"url(#clip8100)\" d=\"M 0 0 M3482.36 1478.37 L3487.25 1478.37 L3487.25 1484.25 L3482.36 1484.25 L3482.36 1478.37 Z\" fill=\"#000000\" fill-rule=\"evenodd\" fill-opacity=\"1\" /><path clip-path=\"url(#clip8100)\" d=\"M 0 0 M3517.39 1467.84 Q3514.05 1467.84 3512.13 1469.62 Q3510.23 1471.4 3510.23 1474.53 Q3510.23 1477.65 3512.13 1479.44 Q3514.05 1481.22 3517.39 1481.22 Q3520.72 1481.22 3522.64 1479.44 Q3524.56 1477.63 3524.56 1474.53 Q3524.56 1471.4 3522.64 1469.62 Q3520.74 1467.84 3517.39 1467.84 M3512.71 1465.85 Q3509.7 1465.11 3508.01 1463.05 Q3506.35 1460.99 3506.35 1458.03 Q3506.35 1453.88 3509.29 1451.47 Q3512.25 1449.07 3517.39 1449.07 Q3522.55 1449.07 3525.49 1451.47 Q3528.43 1453.88 3528.43 1458.03 Q3528.43 1460.99 3526.74 1463.05 Q3525.07 1465.11 3522.09 1465.85 Q3525.47 1466.64 3527.34 1468.93 Q3529.24 1471.22 3529.24 1474.53 Q3529.24 1479.55 3526.16 1482.24 Q3523.1 1484.92 3517.39 1484.92 Q3511.67 1484.92 3508.59 1482.24 Q3505.54 1479.55 3505.54 1474.53 Q3505.54 1471.22 3507.43 1468.93 Q3509.33 1466.64 3512.71 1465.85 M3511 1458.46 Q3511 1461.15 3512.66 1462.65 Q3514.35 1464.16 3517.39 1464.16 Q3520.4 1464.16 3522.09 1462.65 Q3523.8 1461.15 3523.8 1458.46 Q3523.8 1455.78 3522.09 1454.28 Q3520.4 1452.77 3517.39 1452.77 Q3514.35 1452.77 3512.66 1454.28 Q3511 1455.78 3511 1458.46 Z\" fill=\"#000000\" fill-rule=\"evenodd\" fill-opacity=\"1\" /><path clip-path=\"url(#clip8100)\" d=\"M 0 0 M3534.79 1478.37 L3539.68 1478.37 L3539.68 1482.35 L3535.88 1489.76 L3532.9 1489.76 L3534.79 1482.35 L3534.79 1478.37 Z\" fill=\"#000000\" fill-rule=\"evenodd\" fill-opacity=\"1\" /><path clip-path=\"url(#clip8100)\" d=\"M 0 0 M3563.84 1480.32 L3580.16 1480.32 L3580.16 1484.25 L3558.22 1484.25 L3558.22 1480.32 Q3560.88 1477.56 3565.47 1472.93 Q3570.07 1468.28 3571.25 1466.94 Q3573.5 1464.41 3574.38 1462.68 Q3575.28 1460.92 3575.28 1459.23 Q3575.28 1456.47 3573.34 1454.74 Q3571.41 1453 3568.31 1453 Q3566.11 1453 3563.66 1453.77 Q3561.23 1454.53 3558.45 1456.08 L3558.45 1451.36 Q3561.28 1450.22 3563.73 1449.65 Q3566.18 1449.07 3568.22 1449.07 Q3573.59 1449.07 3576.78 1451.75 Q3579.98 1454.44 3579.98 1458.93 Q3579.98 1461.06 3579.17 1462.98 Q3578.38 1464.88 3576.28 1467.47 Q3575.7 1468.14 3572.59 1471.36 Q3569.49 1474.55 3563.84 1480.32 Z\" fill=\"#000000\" fill-rule=\"evenodd\" fill-opacity=\"1\" /><path clip-path=\"url(#clip8100)\" d=\"M 0 0 M3595.23 1452.77 Q3591.62 1452.77 3589.79 1456.34 Q3587.99 1459.88 3587.99 1467.01 Q3587.99 1474.11 3589.79 1477.68 Q3591.62 1481.22 3595.23 1481.22 Q3598.87 1481.22 3600.67 1477.68 Q3602.5 1474.11 3602.5 1467.01 Q3602.5 1459.88 3600.67 1456.34 Q3598.87 1452.77 3595.23 1452.77 M3595.23 1449.07 Q3601.04 1449.07 3604.1 1453.67 Q3607.18 1458.26 3607.18 1467.01 Q3607.18 1475.73 3604.1 1480.34 Q3601.04 1484.92 3595.23 1484.92 Q3589.42 1484.92 3586.34 1480.34 Q3583.29 1475.73 3583.29 1467.01 Q3583.29 1458.26 3586.34 1453.67 Q3589.42 1449.07 3595.23 1449.07 Z\" fill=\"#000000\" fill-rule=\"evenodd\" fill-opacity=\"1\" /><path clip-path=\"url(#clip8100)\" d=\"M 0 0 M3649.83 1453.53 L3649.83 1480.41 L3655.48 1480.41 Q3662.63 1480.41 3665.94 1477.17 Q3669.27 1473.93 3669.27 1466.94 Q3669.27 1459.99 3665.94 1456.78 Q3662.63 1453.53 3655.48 1453.53 L3649.83 1453.53 M3645.15 1449.69 L3654.76 1449.69 Q3664.8 1449.69 3669.5 1453.88 Q3674.2 1458.05 3674.2 1466.94 Q3674.2 1475.87 3669.48 1480.06 Q3664.76 1484.25 3654.76 1484.25 L3645.15 1484.25 L3645.15 1449.69 Z\" fill=\"#000000\" fill-rule=\"evenodd\" fill-opacity=\"1\" /><path clip-path=\"url(#clip8100)\" d=\"M 0 0 M3700.85 1470.22 L3700.85 1472.31 L3681.26 1472.31 Q3681.54 1476.71 3683.9 1479.02 Q3686.29 1481.31 3690.52 1481.31 Q3692.97 1481.31 3695.27 1480.71 Q3697.58 1480.11 3699.85 1478.9 L3699.85 1482.93 Q3697.56 1483.9 3695.15 1484.41 Q3692.74 1484.92 3690.27 1484.92 Q3684.06 1484.92 3680.43 1481.31 Q3676.82 1477.7 3676.82 1471.54 Q3676.82 1465.18 3680.24 1461.45 Q3683.69 1457.7 3689.53 1457.7 Q3694.76 1457.7 3697.79 1461.08 Q3700.85 1464.44 3700.85 1470.22 M3696.59 1468.97 Q3696.54 1465.48 3694.62 1463.4 Q3692.72 1461.31 3689.57 1461.31 Q3686.01 1461.31 3683.85 1463.33 Q3681.72 1465.34 3681.4 1469 L3696.59 1468.97 Z\" fill=\"#000000\" fill-rule=\"evenodd\" fill-opacity=\"1\" /><path clip-path=\"url(#clip8100)\" d=\"M 0 0 M3723.97 1459.32 L3723.97 1463.3 Q3722.16 1462.31 3720.34 1461.82 Q3718.53 1461.31 3716.68 1461.31 Q3712.53 1461.31 3710.24 1463.95 Q3707.95 1466.57 3707.95 1471.31 Q3707.95 1476.06 3710.24 1478.7 Q3712.53 1481.31 3716.68 1481.31 Q3718.53 1481.31 3720.34 1480.83 Q3722.16 1480.32 3723.97 1479.32 L3723.97 1483.26 Q3722.19 1484.09 3720.27 1484.51 Q3718.37 1484.92 3716.22 1484.92 Q3710.36 1484.92 3706.91 1481.24 Q3703.46 1477.56 3703.46 1471.31 Q3703.46 1464.97 3706.93 1461.34 Q3710.43 1457.7 3716.49 1457.7 Q3718.46 1457.7 3720.34 1458.12 Q3722.21 1458.51 3723.97 1459.32 Z\" fill=\"#000000\" fill-rule=\"evenodd\" fill-opacity=\"1\" /><path clip-path=\"url(#clip8100)\" d=\"M 0 0 M3729.04 1478.37 L3733.92 1478.37 L3733.92 1484.25 L3729.04 1484.25 L3729.04 1478.37 Z\" fill=\"#000000\" fill-rule=\"evenodd\" fill-opacity=\"1\" /><path clip-path=\"url(#clip8100)\" d=\"M 0 0 M3754.87 1480.32 L3762.51 1480.32 L3762.51 1453.95 L3754.2 1455.62 L3754.2 1451.36 L3762.47 1449.69 L3767.14 1449.69 L3767.14 1480.32 L3774.78 1480.32 L3774.78 1484.25 L3754.87 1484.25 L3754.87 1480.32 Z\" fill=\"#000000\" fill-rule=\"evenodd\" fill-opacity=\"1\" /><path clip-path=\"url(#clip8100)\" d=\"M 0 0 M3779.9 1449.69 L3798.25 1449.69 L3798.25 1453.63 L3784.18 1453.63 L3784.18 1462.1 Q3785.2 1461.75 3786.22 1461.59 Q3787.23 1461.4 3788.25 1461.4 Q3794.04 1461.4 3797.42 1464.58 Q3800.8 1467.75 3800.8 1473.16 Q3800.8 1478.74 3797.33 1481.84 Q3793.85 1484.92 3787.53 1484.92 Q3785.36 1484.92 3783.09 1484.55 Q3780.84 1484.18 3778.44 1483.44 L3778.44 1478.74 Q3780.52 1479.88 3782.74 1480.43 Q3784.97 1480.99 3787.44 1480.99 Q3791.45 1480.99 3793.78 1478.88 Q3796.12 1476.78 3796.12 1473.16 Q3796.12 1469.55 3793.78 1467.45 Q3791.45 1465.34 3787.44 1465.34 Q3785.57 1465.34 3783.69 1465.76 Q3781.84 1466.17 3779.9 1467.05 L3779.9 1449.69 Z\" fill=\"#000000\" fill-rule=\"evenodd\" fill-opacity=\"1\" /><path clip-path=\"url(#clip8100)\" d=\"M 0 0 M3806.35 1478.37 L3811.24 1478.37 L3811.24 1482.35 L3807.44 1489.76 L3804.46 1489.76 L3806.35 1482.35 L3806.35 1478.37 Z\" fill=\"#000000\" fill-rule=\"evenodd\" fill-opacity=\"1\" /><path clip-path=\"url(#clip8100)\" d=\"M 0 0 M3835.4 1480.32 L3851.72 1480.32 L3851.72 1484.25 L3829.78 1484.25 L3829.78 1480.32 Q3832.44 1477.56 3837.02 1472.93 Q3841.63 1468.28 3842.81 1466.94 Q3845.06 1464.41 3845.94 1462.68 Q3846.84 1460.92 3846.84 1459.23 Q3846.84 1456.47 3844.9 1454.74 Q3842.97 1453 3839.87 1453 Q3837.67 1453 3835.22 1453.77 Q3832.79 1454.53 3830.01 1456.08 L3830.01 1451.36 Q3832.84 1450.22 3835.29 1449.65 Q3837.74 1449.07 3839.78 1449.07 Q3845.15 1449.07 3848.34 1451.75 Q3851.54 1454.44 3851.54 1458.93 Q3851.54 1461.06 3850.73 1462.98 Q3849.94 1464.88 3847.84 1467.47 Q3847.26 1468.14 3844.15 1471.36 Q3841.05 1474.55 3835.4 1480.32 Z\" fill=\"#000000\" fill-rule=\"evenodd\" fill-opacity=\"1\" /><path clip-path=\"url(#clip8100)\" d=\"M 0 0 M3866.79 1452.77 Q3863.18 1452.77 3861.35 1456.34 Q3859.55 1459.88 3859.55 1467.01 Q3859.55 1474.11 3861.35 1477.68 Q3863.18 1481.22 3866.79 1481.22 Q3870.43 1481.22 3872.23 1477.68 Q3874.06 1474.11 3874.06 1467.01 Q3874.06 1459.88 3872.23 1456.34 Q3870.43 1452.77 3866.79 1452.77 M3866.79 1449.07 Q3872.6 1449.07 3875.66 1453.67 Q3878.74 1458.26 3878.74 1467.01 Q3878.74 1475.73 3875.66 1480.34 Q3872.6 1484.92 3866.79 1484.92 Q3860.98 1484.92 3857.9 1480.34 Q3854.85 1475.73 3854.85 1467.01 Q3854.85 1458.26 3857.9 1453.67 Q3860.98 1449.07 3866.79 1449.07 Z\" fill=\"#000000\" fill-rule=\"evenodd\" fill-opacity=\"1\" /><path clip-path=\"url(#clip8100)\" d=\"M 0 0 M111.731 1397.58 L119.37 1397.58 L119.37 1371.22 L111.06 1372.88 L111.06 1368.62 L119.324 1366.96 L124 1366.96 L124 1397.58 L131.639 1397.58 L131.639 1401.52 L111.731 1401.52 L111.731 1397.58 Z\" fill=\"#000000\" fill-rule=\"evenodd\" fill-opacity=\"1\" /><path clip-path=\"url(#clip8100)\" d=\"M 0 0 M137.518 1397.58 L145.157 1397.58 L145.157 1371.22 L136.847 1372.88 L136.847 1368.62 L145.111 1366.96 L149.787 1366.96 L149.787 1397.58 L157.426 1397.58 L157.426 1401.52 L137.518 1401.52 L137.518 1397.58 Z\" fill=\"#000000\" fill-rule=\"evenodd\" fill-opacity=\"1\" /><path clip-path=\"url(#clip8100)\" d=\"M 0 0 M172.495 1370.04 Q168.884 1370.04 167.055 1373.6 Q165.25 1377.14 165.25 1384.27 Q165.25 1391.38 167.055 1394.94 Q168.884 1398.49 172.495 1398.49 Q176.129 1398.49 177.935 1394.94 Q179.763 1391.38 179.763 1384.27 Q179.763 1377.14 177.935 1373.6 Q176.129 1370.04 172.495 1370.04 M172.495 1366.33 Q178.305 1366.33 181.361 1370.94 Q184.439 1375.52 184.439 1384.27 Q184.439 1393 181.361 1397.61 Q178.305 1402.19 172.495 1402.19 Q166.685 1402.19 163.606 1397.61 Q160.551 1393 160.551 1384.27 Q160.551 1375.52 163.606 1370.94 Q166.685 1366.33 172.495 1366.33 Z\" fill=\"#000000\" fill-rule=\"evenodd\" fill-opacity=\"1\" /><path clip-path=\"url(#clip8100)\" d=\"M 0 0 M112.727 991.942 L120.366 991.942 L120.366 965.576 L112.056 967.243 L112.056 962.983 L120.319 961.317 L124.995 961.317 L124.995 991.942 L132.634 991.942 L132.634 995.877 L112.727 995.877 L112.727 991.942 Z\" fill=\"#000000\" fill-rule=\"evenodd\" fill-opacity=\"1\" /><path clip-path=\"url(#clip8100)\" d=\"M 0 0 M138.514 991.942 L146.153 991.942 L146.153 965.576 L137.842 967.243 L137.842 962.983 L146.106 961.317 L150.782 961.317 L150.782 991.942 L158.421 991.942 L158.421 995.877 L138.514 995.877 L138.514 991.942 Z\" fill=\"#000000\" fill-rule=\"evenodd\" fill-opacity=\"1\" /><path clip-path=\"url(#clip8100)\" d=\"M 0 0 M163.537 961.317 L181.893 961.317 L181.893 965.252 L167.819 965.252 L167.819 973.724 Q168.838 973.377 169.856 973.215 Q170.875 973.03 171.893 973.03 Q177.68 973.03 181.06 976.201 Q184.439 979.372 184.439 984.789 Q184.439 990.368 180.967 993.469 Q177.495 996.548 171.176 996.548 Q169 996.548 166.731 996.178 Q164.486 995.807 162.078 995.067 L162.078 990.368 Q164.162 991.502 166.384 992.057 Q168.606 992.613 171.083 992.613 Q175.088 992.613 177.426 990.506 Q179.763 988.4 179.763 984.789 Q179.763 981.178 177.426 979.071 Q175.088 976.965 171.083 976.965 Q169.208 976.965 167.333 977.382 Q165.481 977.798 163.537 978.678 L163.537 961.317 Z\" fill=\"#000000\" fill-rule=\"evenodd\" fill-opacity=\"1\" /><path clip-path=\"url(#clip8100)\" d=\"M 0 0 M112.102 586.3 L119.741 586.3 L119.741 559.935 L111.431 561.601 L111.431 557.342 L119.694 555.675 L124.37 555.675 L124.37 586.3 L132.009 586.3 L132.009 590.235 L112.102 590.235 L112.102 586.3 Z\" fill=\"#000000\" fill-rule=\"evenodd\" fill-opacity=\"1\" /><path clip-path=\"url(#clip8100)\" d=\"M 0 0 M141.106 586.3 L157.426 586.3 L157.426 590.235 L135.481 590.235 L135.481 586.3 Q138.143 583.546 142.727 578.916 Q147.333 574.263 148.514 572.921 Q150.759 570.398 151.639 568.661 Q152.541 566.902 152.541 565.212 Q152.541 562.458 150.597 560.722 Q148.676 558.986 145.574 558.986 Q143.375 558.986 140.921 559.749 Q138.491 560.513 135.713 562.064 L135.713 557.342 Q138.537 556.208 140.991 555.629 Q143.444 555.05 145.481 555.05 Q150.852 555.05 154.046 557.736 Q157.24 560.421 157.24 564.911 Q157.24 567.041 156.43 568.962 Q155.643 570.86 153.537 573.453 Q152.958 574.124 149.856 577.342 Q146.754 580.536 141.106 586.3 Z\" fill=\"#000000\" fill-rule=\"evenodd\" fill-opacity=\"1\" /><path clip-path=\"url(#clip8100)\" d=\"M 0 0 M172.495 558.754 Q168.884 558.754 167.055 562.319 Q165.25 565.861 165.25 572.99 Q165.25 580.097 167.055 583.661 Q168.884 587.203 172.495 587.203 Q176.129 587.203 177.935 583.661 Q179.763 580.097 179.763 572.99 Q179.763 565.861 177.935 562.319 Q176.129 558.754 172.495 558.754 M172.495 555.05 Q178.305 555.05 181.361 559.657 Q184.439 564.24 184.439 572.99 Q184.439 581.717 181.361 586.323 Q178.305 590.907 172.495 590.907 Q166.685 590.907 163.606 586.323 Q160.551 581.717 160.551 572.99 Q160.551 564.24 163.606 559.657 Q166.685 555.05 172.495 555.05 Z\" fill=\"#000000\" fill-rule=\"evenodd\" fill-opacity=\"1\" /><path clip-path=\"url(#clip8100)\" d=\"M 0 0 M113.097 180.659 L120.736 180.659 L120.736 154.293 L112.426 155.96 L112.426 151.701 L120.69 150.034 L125.366 150.034 L125.366 180.659 L133.004 180.659 L133.004 184.594 L113.097 184.594 L113.097 180.659 Z\" fill=\"#000000\" fill-rule=\"evenodd\" fill-opacity=\"1\" /><path clip-path=\"url(#clip8100)\" d=\"M 0 0 M142.102 180.659 L158.421 180.659 L158.421 184.594 L136.477 184.594 L136.477 180.659 Q139.139 177.904 143.722 173.275 Q148.328 168.622 149.509 167.279 Q151.754 164.756 152.634 163.02 Q153.537 161.261 153.537 159.571 Q153.537 156.816 151.592 155.08 Q149.671 153.344 146.569 153.344 Q144.37 153.344 141.916 154.108 Q139.486 154.872 136.708 156.423 L136.708 151.701 Q139.532 150.566 141.986 149.988 Q144.44 149.409 146.477 149.409 Q151.847 149.409 155.041 152.094 Q158.236 154.779 158.236 159.27 Q158.236 161.4 157.426 163.321 Q156.639 165.219 154.532 167.812 Q153.953 168.483 150.852 171.701 Q147.75 174.895 142.102 180.659 Z\" fill=\"#000000\" fill-rule=\"evenodd\" fill-opacity=\"1\" /><path clip-path=\"url(#clip8100)\" d=\"M 0 0 M163.537 150.034 L181.893 150.034 L181.893 153.969 L167.819 153.969 L167.819 162.441 Q168.838 162.094 169.856 161.932 Q170.875 161.747 171.893 161.747 Q177.68 161.747 181.06 164.918 Q184.439 168.089 184.439 173.506 Q184.439 179.085 180.967 182.187 Q177.495 185.265 171.176 185.265 Q169 185.265 166.731 184.895 Q164.486 184.525 162.078 183.784 L162.078 179.085 Q164.162 180.219 166.384 180.775 Q168.606 181.33 171.083 181.33 Q175.088 181.33 177.426 179.224 Q179.763 177.117 179.763 173.506 Q179.763 169.895 177.426 167.788 Q175.088 165.682 171.083 165.682 Q169.208 165.682 167.333 166.099 Q165.481 166.515 163.537 167.395 L163.537 150.034 Z\" fill=\"#000000\" fill-rule=\"evenodd\" fill-opacity=\"1\" /><path clip-path=\"url(#clip8100)\" d=\"M 0 0 M1993.96 1525.47 L1993.96 1535.6 L2006.02 1535.6 L2006.02 1540.15 L1993.96 1540.15 L1993.96 1559.5 Q1993.96 1563.86 1995.14 1565.1 Q1996.35 1566.34 2000.01 1566.34 L2006.02 1566.34 L2006.02 1571.24 L2000.01 1571.24 Q1993.23 1571.24 1990.65 1568.73 Q1988.07 1566.18 1988.07 1559.5 L1988.07 1540.15 L1983.78 1540.15 L1983.78 1535.6 L1988.07 1535.6 L1988.07 1525.47 L1993.96 1525.47 Z\" fill=\"#000000\" fill-rule=\"evenodd\" fill-opacity=\"1\" /><path clip-path=\"url(#clip8100)\" d=\"M 0 0 M2012.17 1535.6 L2018.02 1535.6 L2018.02 1571.24 L2012.17 1571.24 L2012.17 1535.6 M2012.17 1521.72 L2018.02 1521.72 L2018.02 1529.13 L2012.17 1529.13 L2012.17 1521.72 Z\" fill=\"#000000\" fill-rule=\"evenodd\" fill-opacity=\"1\" /><path clip-path=\"url(#clip8100)\" d=\"M 0 0 M2051.92 1542.44 Q2054.12 1538.49 2057.17 1536.61 Q2060.23 1534.74 2064.37 1534.74 Q2069.94 1534.74 2072.96 1538.65 Q2075.98 1542.53 2075.98 1549.73 L2075.98 1571.24 L2070.1 1571.24 L2070.1 1549.92 Q2070.1 1544.79 2068.28 1542.31 Q2066.47 1539.83 2062.74 1539.83 Q2058.19 1539.83 2055.55 1542.85 Q2052.91 1545.88 2052.91 1551.1 L2052.91 1571.24 L2047.02 1571.24 L2047.02 1549.92 Q2047.02 1544.76 2045.21 1542.31 Q2043.39 1539.83 2039.6 1539.83 Q2035.12 1539.83 2032.47 1542.88 Q2029.83 1545.91 2029.83 1551.1 L2029.83 1571.24 L2023.94 1571.24 L2023.94 1535.6 L2029.83 1535.6 L2029.83 1541.13 Q2031.84 1537.86 2034.64 1536.3 Q2037.44 1534.74 2041.29 1534.74 Q2045.17 1534.74 2047.88 1536.71 Q2050.62 1538.68 2051.92 1542.44 Z\" fill=\"#000000\" fill-rule=\"evenodd\" fill-opacity=\"1\" /><path clip-path=\"url(#clip8100)\" d=\"M 0 0 M2112.62 1551.96 L2112.62 1554.82 L2085.69 1554.82 Q2086.07 1560.87 2089.32 1564.05 Q2092.6 1567.2 2098.42 1567.2 Q2101.8 1567.2 2104.95 1566.37 Q2108.13 1565.55 2111.25 1563.89 L2111.25 1569.43 Q2108.1 1570.77 2104.79 1571.47 Q2101.48 1572.17 2098.07 1572.17 Q2089.54 1572.17 2084.55 1567.2 Q2079.58 1562.24 2079.58 1553.77 Q2079.58 1545.02 2084.29 1539.89 Q2089.03 1534.74 2097.05 1534.74 Q2104.25 1534.74 2108.42 1539.38 Q2112.62 1544 2112.62 1551.96 M2106.76 1550.24 Q2106.7 1545.43 2104.06 1542.57 Q2101.45 1539.7 2097.12 1539.7 Q2092.22 1539.7 2089.26 1542.47 Q2086.33 1545.24 2085.88 1550.27 L2106.76 1550.24 Z\" fill=\"#000000\" fill-rule=\"evenodd\" fill-opacity=\"1\" /><path clip-path=\"url(#clip8100)\" d=\"M 0 0 M21.9562 811.585 L21.9562 805.378 L51.875 794.238 L21.9562 783.098 L21.9562 776.891 L57.6042 790.259 L57.6042 798.217 L21.9562 811.585 Z\" fill=\"#000000\" fill-rule=\"evenodd\" fill-opacity=\"1\" /><path clip-path=\"url(#clip8100)\" d=\"M 0 0 M39.6847 754.548 Q39.6847 761.646 41.3079 764.383 Q42.9312 767.12 46.8461 767.12 Q49.9653 767.12 51.8114 765.083 Q53.6256 763.014 53.6256 759.481 Q53.6256 754.611 50.1881 751.683 Q46.7188 748.723 40.9897 748.723 L39.6847 748.723 L39.6847 754.548 M37.2657 742.867 L57.6042 742.867 L57.6042 748.723 L52.1933 748.723 Q55.4398 750.728 56.9994 753.72 Q58.5272 756.712 58.5272 761.041 Q58.5272 766.515 55.4716 769.762 Q52.3843 772.977 47.2281 772.977 Q41.2125 772.977 38.1569 768.966 Q35.1014 764.924 35.1014 756.935 L35.1014 748.723 L34.5285 748.723 Q30.4862 748.723 28.2901 751.397 Q26.0621 754.039 26.0621 758.845 Q26.0621 761.9 26.7941 764.797 Q27.5262 767.693 28.9903 770.367 L23.5795 770.367 Q22.3381 767.152 21.7334 764.128 Q21.0968 761.104 21.0968 758.24 Q21.0968 750.506 25.1072 746.686 Q29.1176 742.867 37.2657 742.867 Z\" fill=\"#000000\" fill-rule=\"evenodd\" fill-opacity=\"1\" /><path clip-path=\"url(#clip8100)\" d=\"M 0 0 M8.07896 736.724 L8.07896 730.867 L57.6042 730.867 L57.6042 736.724 L8.07896 736.724 Z\" fill=\"#000000\" fill-rule=\"evenodd\" fill-opacity=\"1\" /><path clip-path=\"url(#clip8100)\" d=\"M 0 0 M43.5359 725.329 L21.9562 725.329 L21.9562 719.473 L43.3131 719.473 Q48.3739 719.473 50.9202 717.499 Q53.4346 715.526 53.4346 711.579 Q53.4346 706.837 50.4109 704.1 Q47.3872 701.33 42.1673 701.33 L21.9562 701.33 L21.9562 695.474 L57.6042 695.474 L57.6042 701.33 L52.1296 701.33 Q55.3762 703.463 56.9676 706.296 Q58.5272 709.097 58.5272 712.821 Q58.5272 718.964 54.7078 722.146 Q50.8883 725.329 43.5359 725.329 M21.0968 710.593 L21.0968 710.593 Z\" fill=\"#000000\" fill-rule=\"evenodd\" fill-opacity=\"1\" /><path clip-path=\"url(#clip8100)\" d=\"M 0 0 M38.3161 658.839 L41.1806 658.839 L41.1806 685.766 Q47.2281 685.384 50.4109 682.138 Q53.5619 678.86 53.5619 673.035 Q53.5619 669.661 52.7344 666.51 Q51.9069 663.327 50.2518 660.208 L55.7899 660.208 Q57.1267 663.359 57.827 666.669 Q58.5272 669.979 58.5272 673.385 Q58.5272 681.915 53.5619 686.912 Q48.5967 691.877 40.1303 691.877 Q31.3774 691.877 26.2531 687.167 Q21.0968 682.424 21.0968 674.404 Q21.0968 667.21 25.7438 663.041 Q30.3589 658.839 38.3161 658.839 M36.5973 664.696 Q31.7912 664.76 28.9266 667.401 Q26.0621 670.011 26.0621 674.34 Q26.0621 679.241 28.8312 682.202 Q31.6002 685.13 36.6292 685.575 L36.5973 664.696 Z\" fill=\"#000000\" fill-rule=\"evenodd\" fill-opacity=\"1\" /><polyline clip-path=\"url(#clip8102)\" style=\"stroke:#009af9; stroke-width:4; stroke-opacity:1; fill:none\" points=\"\n",
       "  326.916,978.597 363.933,897.469 400.95,654.084 437.967,897.469 474.983,1221.98 512,1303.11 549.017,1303.11 586.034,1303.11 623.051,1384.24 660.068,1140.85 \n",
       "  697.084,1221.98 734.101,1384.24 771.118,1221.98 808.135,1221.98 845.152,1221.98 882.168,978.597 919.185,978.597 956.202,816.34 993.219,735.212 1030.24,978.597 \n",
       "  1067.25,978.597 1104.27,978.597 1141.29,816.34 1178.3,897.469 1215.32,897.469 1252.34,897.469 1289.35,816.34 1326.37,816.34 1363.39,816.34 1400.4,167.314 \n",
       "  1437.42,167.314 1474.44,329.571 1511.45,491.827 1548.47,410.699 1585.49,410.699 1622.5,410.699 1659.52,572.955 1696.54,654.084 1733.55,654.084 1770.57,735.212 \n",
       "  1807.59,816.34 1844.61,816.34 1881.62,816.34 1918.64,816.34 1955.66,816.34 1992.67,978.597 2029.69,816.34 2066.71,1221.98 2103.72,1221.98 2140.74,1221.98 \n",
       "  2177.76,1303.11 2214.77,1303.11 2251.79,897.469 2288.81,572.955 2325.82,654.084 2362.84,654.084 2399.86,654.084 2436.87,410.699 2473.89,735.212 2510.91,572.955 \n",
       "  2547.92,491.827 2584.94,572.955 2621.96,572.955 2658.97,572.955 2695.99,491.827 2733.01,491.827 2770.03,572.955 2807.04,654.084 2844.06,654.084 2881.08,654.084 \n",
       "  2918.09,654.084 2955.11,735.212 2992.13,897.469 3029.14,816.34 3066.16,816.34 3103.18,816.34 3140.19,816.34 3177.21,816.34 3214.23,491.827 3251.24,329.571 \n",
       "  3288.26,329.571 3325.28,248.442 3362.29,329.571 3399.31,329.571 3436.33,329.571 3473.34,167.314 3510.36,167.314 3547.38,86.1857 3584.4,248.442 3621.41,329.571 \n",
       "  3658.43,329.571 3695.45,329.571 3732.46,329.571 3769.48,329.571 \n",
       "  \"/>\n",
       "<polyline clip-path=\"url(#clip8102)\" style=\"stroke:#e26f46; stroke-width:4; stroke-opacity:1; fill:none\" points=\"\n",
       "  326.916,1059.73 363.933,816.34 400.95,735.212 437.967,816.34 474.983,1221.98 512,1303.11 549.017,1303.11 586.034,1303.11 623.051,1303.11 660.068,1221.98 \n",
       "  697.084,1303.11 734.101,1303.11 771.118,1140.85 808.135,1140.85 845.152,1221.98 882.168,978.597 919.185,897.469 956.202,897.469 993.219,735.212 1030.24,978.597 \n",
       "  1067.25,978.597 1104.27,978.597 1141.29,897.469 1178.3,816.34 1215.32,816.34 1252.34,735.212 1289.35,735.212 1326.37,735.212 1363.39,735.212 1400.4,329.571 \n",
       "  1437.42,248.442 1474.44,329.571 1511.45,410.699 1548.47,410.699 1585.49,410.699 1622.5,410.699 1659.52,491.827 1696.54,654.084 1733.55,654.084 1770.57,735.212 \n",
       "  1807.59,816.34 1844.61,816.34 1881.62,897.469 1918.64,816.34 1955.66,816.34 1992.67,978.597 2029.69,1059.73 2066.71,1221.98 2103.72,1221.98 2140.74,1221.98 \n",
       "  2177.76,1384.24 2214.77,1221.98 2251.79,816.34 2288.81,654.084 2325.82,572.955 2362.84,572.955 2399.86,572.955 2436.87,410.699 2473.89,816.34 2510.91,654.084 \n",
       "  2547.92,572.955 2584.94,572.955 2621.96,491.827 2658.97,572.955 2695.99,572.955 2733.01,491.827 2770.03,410.699 2807.04,572.955 2844.06,654.084 2881.08,654.084 \n",
       "  2918.09,735.212 2955.11,816.34 2992.13,816.34 3029.14,735.212 3066.16,816.34 3103.18,816.34 3140.19,735.212 3177.21,654.084 3214.23,572.955 3251.24,329.571 \n",
       "  3288.26,410.699 3325.28,329.571 3362.29,329.571 3399.31,329.571 3436.33,329.571 3473.34,167.314 3510.36,167.314 3547.38,167.314 3584.4,329.571 3621.41,329.571 \n",
       "  3658.43,572.955 3695.45,816.34 3732.46,1059.73 3769.48,1303.11 \n",
       "  \"/>\n",
       "<polyline clip-path=\"url(#clip8102)\" style=\"stroke:#3da44d; stroke-width:4; stroke-opacity:1; fill:none\" points=\"\n",
       "  3639.92,2799.12 3639.92,-1328.69 \n",
       "  \"/>\n",
       "<path clip-path=\"url(#clip8100)\" d=\"\n",
       "M341.239 463.884 L1163.51 463.884 L1163.51 221.964 L341.239 221.964  Z\n",
       "  \" fill=\"#ffffff\" fill-rule=\"evenodd\" fill-opacity=\"1\"/>\n",
       "<polyline clip-path=\"url(#clip8100)\" style=\"stroke:#000000; stroke-width:4; stroke-opacity:1; fill:none\" points=\"\n",
       "  341.239,463.884 1163.51,463.884 1163.51,221.964 341.239,221.964 341.239,463.884 \n",
       "  \"/>\n",
       "<polyline clip-path=\"url(#clip8100)\" style=\"stroke:#009af9; stroke-width:4; stroke-opacity:1; fill:none\" points=\"\n",
       "  380.439,282.444 615.639,282.444 \n",
       "  \"/>\n",
       "<path clip-path=\"url(#clip8100)\" d=\"M 0 0 M670.673 269.771 L664.33 286.97 L677.038 286.97 L670.673 269.771 M668.034 265.164 L673.335 265.164 L686.506 299.724 L681.645 299.724 L678.497 290.858 L662.918 290.858 L659.77 299.724 L654.839 299.724 L668.034 265.164 Z\" fill=\"#000000\" fill-rule=\"evenodd\" fill-opacity=\"1\" /><path clip-path=\"url(#clip8100)\" d=\"M 0 0 M704.029 269.771 L697.686 286.97 L710.395 286.97 L704.029 269.771 M701.39 265.164 L706.691 265.164 L719.862 299.724 L715.001 299.724 L711.853 290.858 L696.274 290.858 L693.126 299.724 L688.196 299.724 L701.39 265.164 Z\" fill=\"#000000\" fill-rule=\"evenodd\" fill-opacity=\"1\" /><path clip-path=\"url(#clip8100)\" d=\"M 0 0 M729.191 269.007 L729.191 281.993 L735.07 281.993 Q738.334 281.993 740.117 280.303 Q741.899 278.613 741.899 275.488 Q741.899 272.386 740.117 270.696 Q738.334 269.007 735.07 269.007 L729.191 269.007 M724.515 265.164 L735.07 265.164 Q740.881 265.164 743.844 267.803 Q746.83 270.419 746.83 275.488 Q746.83 280.604 743.844 283.22 Q740.881 285.835 735.07 285.835 L729.191 285.835 L729.191 299.724 L724.515 299.724 L724.515 265.164 Z\" fill=\"#000000\" fill-rule=\"evenodd\" fill-opacity=\"1\" /><path clip-path=\"url(#clip8100)\" d=\"M 0 0 M751.482 265.164 L756.158 265.164 L756.158 295.789 L772.987 295.789 L772.987 299.724 L751.482 299.724 L751.482 265.164 Z\" fill=\"#000000\" fill-rule=\"evenodd\" fill-opacity=\"1\" /><polyline clip-path=\"url(#clip8100)\" style=\"stroke:#e26f46; stroke-width:4; stroke-opacity:1; fill:none\" points=\"\n",
       "  380.439,342.924 615.639,342.924 \n",
       "  \"/>\n",
       "<path clip-path=\"url(#clip8100)\" d=\"M 0 0 M659.122 356.315 L659.122 370.065 L654.839 370.065 L654.839 334.278 L659.122 334.278 L659.122 338.213 Q660.464 335.899 662.501 334.788 Q664.562 333.653 667.409 333.653 Q672.131 333.653 675.071 337.403 Q678.034 341.153 678.034 347.264 Q678.034 353.375 675.071 357.125 Q672.131 360.875 667.409 360.875 Q664.562 360.875 662.501 359.764 Q660.464 358.63 659.122 356.315 M673.612 347.264 Q673.612 342.565 671.668 339.903 Q669.747 337.218 666.367 337.218 Q662.987 337.218 661.043 339.903 Q659.122 342.565 659.122 347.264 Q659.122 351.963 661.043 354.649 Q662.987 357.311 666.367 357.311 Q669.747 357.311 671.668 354.649 Q673.612 351.963 673.612 347.264 Z\" fill=\"#000000\" fill-rule=\"evenodd\" fill-opacity=\"1\" /><path clip-path=\"url(#clip8100)\" d=\"M 0 0 M697.524 338.26 Q696.807 337.843 695.95 337.658 Q695.117 337.45 694.098 337.45 Q690.487 337.45 688.543 339.811 Q686.622 342.149 686.622 346.547 L686.622 360.204 L682.339 360.204 L682.339 334.278 L686.622 334.278 L686.622 338.306 Q687.964 335.945 690.117 334.811 Q692.27 333.653 695.348 333.653 Q695.788 333.653 696.321 333.723 Q696.853 333.769 697.501 333.885 L697.524 338.26 Z\" fill=\"#000000\" fill-rule=\"evenodd\" fill-opacity=\"1\" /><path clip-path=\"url(#clip8100)\" d=\"M 0 0 M723.126 346.176 L723.126 348.26 L703.543 348.26 Q703.821 352.658 706.182 354.973 Q708.566 357.264 712.802 357.264 Q715.256 357.264 717.547 356.662 Q719.862 356.061 722.131 354.857 L722.131 358.885 Q719.839 359.857 717.432 360.366 Q715.024 360.875 712.547 360.875 Q706.344 360.875 702.71 357.264 Q699.098 353.653 699.098 347.496 Q699.098 341.13 702.524 337.403 Q705.973 333.653 711.807 333.653 Q717.038 333.653 720.071 337.033 Q723.126 340.389 723.126 346.176 M718.867 344.926 Q718.821 341.431 716.899 339.348 Q715.001 337.264 711.853 337.264 Q708.288 337.264 706.135 339.278 Q704.006 341.292 703.682 344.95 L718.867 344.926 Z\" fill=\"#000000\" fill-rule=\"evenodd\" fill-opacity=\"1\" /><path clip-path=\"url(#clip8100)\" d=\"M 0 0 M744.654 338.213 L744.654 324.186 L748.913 324.186 L748.913 360.204 L744.654 360.204 L744.654 356.315 Q743.311 358.63 741.251 359.764 Q739.214 360.875 736.344 360.875 Q731.645 360.875 728.682 357.125 Q725.742 353.375 725.742 347.264 Q725.742 341.153 728.682 337.403 Q731.645 333.653 736.344 333.653 Q739.214 333.653 741.251 334.788 Q743.311 335.899 744.654 338.213 M730.14 347.264 Q730.14 351.963 732.061 354.649 Q734.006 357.311 737.385 357.311 Q740.765 357.311 742.709 354.649 Q744.654 351.963 744.654 347.264 Q744.654 342.565 742.709 339.903 Q740.765 337.218 737.385 337.218 Q734.006 337.218 732.061 339.903 Q730.14 342.565 730.14 347.264 Z\" fill=\"#000000\" fill-rule=\"evenodd\" fill-opacity=\"1\" /><path clip-path=\"url(#clip8100)\" d=\"M 0 0 M753.381 334.278 L757.64 334.278 L757.64 360.204 L753.381 360.204 L753.381 334.278 M753.381 324.186 L757.64 324.186 L757.64 329.579 L753.381 329.579 L753.381 324.186 Z\" fill=\"#000000\" fill-rule=\"evenodd\" fill-opacity=\"1\" /><path clip-path=\"url(#clip8100)\" d=\"M 0 0 M766.32 326.917 L766.32 334.278 L775.093 334.278 L775.093 337.588 L766.32 337.588 L766.32 351.662 Q766.32 354.834 767.177 355.737 Q768.056 356.639 770.718 356.639 L775.093 356.639 L775.093 360.204 L770.718 360.204 Q765.788 360.204 763.913 358.375 Q762.038 356.524 762.038 351.662 L762.038 337.588 L758.913 337.588 L758.913 334.278 L762.038 334.278 L762.038 326.917 L766.32 326.917 Z\" fill=\"#000000\" fill-rule=\"evenodd\" fill-opacity=\"1\" /><path clip-path=\"url(#clip8100)\" d=\"M 0 0 M779.561 334.278 L783.82 334.278 L783.82 360.204 L779.561 360.204 L779.561 334.278 M779.561 324.186 L783.82 324.186 L783.82 329.579 L779.561 329.579 L779.561 324.186 Z\" fill=\"#000000\" fill-rule=\"evenodd\" fill-opacity=\"1\" /><path clip-path=\"url(#clip8100)\" d=\"M 0 0 M798.334 337.264 Q794.908 337.264 792.917 339.95 Q790.927 342.612 790.927 347.264 Q790.927 351.917 792.894 354.602 Q794.885 357.264 798.334 357.264 Q801.737 357.264 803.727 354.579 Q805.718 351.894 805.718 347.264 Q805.718 342.658 803.727 339.973 Q801.737 337.264 798.334 337.264 M798.334 333.653 Q803.89 333.653 807.061 337.264 Q810.232 340.875 810.232 347.264 Q810.232 353.63 807.061 357.264 Q803.89 360.875 798.334 360.875 Q792.755 360.875 789.584 357.264 Q786.436 353.63 786.436 347.264 Q786.436 340.875 789.584 337.264 Q792.755 333.653 798.334 333.653 Z\" fill=\"#000000\" fill-rule=\"evenodd\" fill-opacity=\"1\" /><path clip-path=\"url(#clip8100)\" d=\"M 0 0 M836.25 344.556 L836.25 360.204 L831.991 360.204 L831.991 344.695 Q831.991 341.014 830.556 339.186 Q829.121 337.357 826.251 337.357 Q822.801 337.357 820.811 339.556 Q818.82 341.755 818.82 345.551 L818.82 360.204 L814.538 360.204 L814.538 334.278 L818.82 334.278 L818.82 338.306 Q820.348 335.968 822.408 334.811 Q824.491 333.653 827.2 333.653 Q831.667 333.653 833.959 336.431 Q836.25 339.186 836.25 344.556 Z\" fill=\"#000000\" fill-rule=\"evenodd\" fill-opacity=\"1\" /><path clip-path=\"url(#clip8100)\" d=\"M 0 0 M857.246 335.042 L857.246 339.07 Q855.44 338.144 853.496 337.681 Q851.551 337.218 849.468 337.218 Q846.297 337.218 844.699 338.19 Q843.125 339.163 843.125 341.107 Q843.125 342.588 844.26 343.445 Q845.394 344.278 848.82 345.042 L850.278 345.366 Q854.815 346.338 856.713 348.121 Q858.635 349.88 858.635 353.051 Q858.635 356.662 855.764 358.769 Q852.917 360.875 847.917 360.875 Q845.834 360.875 843.565 360.459 Q841.32 360.065 838.82 359.255 L838.82 354.857 Q841.181 356.084 843.473 356.709 Q845.764 357.311 848.01 357.311 Q851.019 357.311 852.639 356.292 Q854.26 355.25 854.26 353.375 Q854.26 351.639 853.079 350.713 Q851.922 349.787 847.963 348.931 L846.482 348.584 Q842.524 347.75 840.764 346.038 Q839.005 344.301 839.005 341.292 Q839.005 337.635 841.598 335.644 Q844.19 333.653 848.959 333.653 Q851.32 333.653 853.403 334.001 Q855.486 334.348 857.246 335.042 Z\" fill=\"#000000\" fill-rule=\"evenodd\" fill-opacity=\"1\" /><polyline clip-path=\"url(#clip8100)\" style=\"stroke:#3da44d; stroke-width:4; stroke-opacity:1; fill:none\" points=\"\n",
       "  380.439,403.404 615.639,403.404 \n",
       "  \"/>\n",
       "<path clip-path=\"url(#clip8100)\" d=\"M 0 0 M654.839 386.124 L684.075 386.124 L684.075 390.059 L671.807 390.059 L671.807 420.684 L667.108 420.684 L667.108 390.059 L654.839 390.059 L654.839 386.124 Z\" fill=\"#000000\" fill-rule=\"evenodd\" fill-opacity=\"1\" /><path clip-path=\"url(#clip8100)\" d=\"M 0 0 M690.534 397.744 Q687.108 397.744 685.117 400.43 Q683.126 403.092 683.126 407.744 Q683.126 412.397 685.094 415.082 Q687.085 417.744 690.534 417.744 Q693.936 417.744 695.927 415.059 Q697.918 412.374 697.918 407.744 Q697.918 403.138 695.927 400.453 Q693.936 397.744 690.534 397.744 M690.534 394.133 Q696.089 394.133 699.26 397.744 Q702.432 401.355 702.432 407.744 Q702.432 414.11 699.26 417.744 Q696.089 421.355 690.534 421.355 Q684.955 421.355 681.784 417.744 Q678.636 414.11 678.636 407.744 Q678.636 401.355 681.784 397.744 Q684.955 394.133 690.534 394.133 Z\" fill=\"#000000\" fill-rule=\"evenodd\" fill-opacity=\"1\" /><path clip-path=\"url(#clip8100)\" d=\"M 0 0 M723.959 398.693 L723.959 384.666 L728.219 384.666 L728.219 420.684 L723.959 420.684 L723.959 416.795 Q722.617 419.11 720.557 420.244 Q718.52 421.355 715.649 421.355 Q710.95 421.355 707.987 417.605 Q705.047 413.855 705.047 407.744 Q705.047 401.633 707.987 397.883 Q710.95 394.133 715.649 394.133 Q718.52 394.133 720.557 395.268 Q722.617 396.379 723.959 398.693 M709.446 407.744 Q709.446 412.443 711.367 415.129 Q713.311 417.791 716.691 417.791 Q720.071 417.791 722.015 415.129 Q723.959 412.443 723.959 407.744 Q723.959 403.045 722.015 400.383 Q720.071 397.698 716.691 397.698 Q713.311 397.698 711.367 400.383 Q709.446 403.045 709.446 407.744 Z\" fill=\"#000000\" fill-rule=\"evenodd\" fill-opacity=\"1\" /><path clip-path=\"url(#clip8100)\" d=\"M 0 0 M744.469 407.652 Q739.307 407.652 737.316 408.832 Q735.325 410.013 735.325 412.86 Q735.325 415.129 736.807 416.471 Q738.311 417.791 740.881 417.791 Q744.422 417.791 746.552 415.291 Q748.705 412.767 748.705 408.601 L748.705 407.652 L744.469 407.652 M752.964 405.893 L752.964 420.684 L748.705 420.684 L748.705 416.749 Q747.246 419.11 745.07 420.244 Q742.894 421.355 739.746 421.355 Q735.765 421.355 733.404 419.133 Q731.066 416.888 731.066 413.138 Q731.066 408.763 733.982 406.541 Q736.922 404.318 742.732 404.318 L748.705 404.318 L748.705 403.902 Q748.705 400.962 746.76 399.365 Q744.839 397.744 741.344 397.744 Q739.121 397.744 737.015 398.277 Q734.908 398.809 732.964 399.874 L732.964 395.939 Q735.302 395.036 737.501 394.596 Q739.7 394.133 741.783 394.133 Q747.408 394.133 750.186 397.05 Q752.964 399.967 752.964 405.893 Z\" fill=\"#000000\" fill-rule=\"evenodd\" fill-opacity=\"1\" /><path clip-path=\"url(#clip8100)\" d=\"M 0 0 M768.218 423.091 Q766.413 427.721 764.7 429.133 Q762.987 430.545 760.117 430.545 L756.714 430.545 L756.714 426.98 L759.214 426.98 Q760.973 426.98 761.945 426.147 Q762.918 425.314 764.098 422.212 L764.862 420.267 L754.376 394.758 L758.89 394.758 L766.992 415.036 L775.093 394.758 L779.607 394.758 L768.218 423.091 Z\" fill=\"#000000\" fill-rule=\"evenodd\" fill-opacity=\"1\" /><path clip-path=\"url(#clip8100)\" d=\"M 0 0 M804.005 389.967 L804.005 416.842 L809.653 416.842 Q816.806 416.842 820.116 413.601 Q823.45 410.36 823.45 403.369 Q823.45 396.425 820.116 393.207 Q816.806 389.967 809.653 389.967 L804.005 389.967 M799.329 386.124 L808.936 386.124 Q818.982 386.124 823.681 390.314 Q828.38 394.481 828.38 403.369 Q828.38 412.305 823.658 416.494 Q818.936 420.684 808.936 420.684 L799.329 420.684 L799.329 386.124 Z\" fill=\"#000000\" fill-rule=\"evenodd\" fill-opacity=\"1\" /><path clip-path=\"url(#clip8100)\" d=\"M 0 0 M855.024 406.656 L855.024 408.74 L835.44 408.74 Q835.718 413.138 838.079 415.453 Q840.463 417.744 844.699 417.744 Q847.153 417.744 849.445 417.142 Q851.76 416.541 854.028 415.337 L854.028 419.365 Q851.736 420.337 849.329 420.846 Q846.922 421.355 844.445 421.355 Q838.241 421.355 834.607 417.744 Q830.996 414.133 830.996 407.976 Q830.996 401.61 834.422 397.883 Q837.871 394.133 843.704 394.133 Q848.936 394.133 851.968 397.513 Q855.024 400.869 855.024 406.656 M850.764 405.406 Q850.718 401.911 848.797 399.828 Q846.899 397.744 843.75 397.744 Q840.186 397.744 838.033 399.758 Q835.903 401.772 835.579 405.43 L850.764 405.406 Z\" fill=\"#000000\" fill-rule=\"evenodd\" fill-opacity=\"1\" /><path clip-path=\"url(#clip8100)\" d=\"M 0 0 M878.148 395.754 L878.148 399.735 Q876.343 398.74 874.514 398.254 Q872.709 397.744 870.857 397.744 Q866.713 397.744 864.422 400.383 Q862.13 402.999 862.13 407.744 Q862.13 412.49 864.422 415.129 Q866.713 417.744 870.857 417.744 Q872.709 417.744 874.514 417.258 Q876.343 416.749 878.148 415.754 L878.148 419.689 Q876.366 420.522 874.445 420.939 Q872.547 421.355 870.394 421.355 Q864.537 421.355 861.088 417.675 Q857.639 413.994 857.639 407.744 Q857.639 401.402 861.111 397.768 Q864.607 394.133 870.672 394.133 Q872.639 394.133 874.514 394.55 Q876.389 394.943 878.148 395.754 Z\" fill=\"#000000\" fill-rule=\"evenodd\" fill-opacity=\"1\" /><path clip-path=\"url(#clip8100)\" d=\"M 0 0 M883.218 414.804 L888.102 414.804 L888.102 420.684 L883.218 420.684 L883.218 414.804 Z\" fill=\"#000000\" fill-rule=\"evenodd\" fill-opacity=\"1\" /><path clip-path=\"url(#clip8100)\" d=\"M 0 0 M909.051 416.749 L916.69 416.749 L916.69 390.383 L908.38 392.05 L908.38 387.791 L916.644 386.124 L921.319 386.124 L921.319 416.749 L928.958 416.749 L928.958 420.684 L909.051 420.684 L909.051 416.749 Z\" fill=\"#000000\" fill-rule=\"evenodd\" fill-opacity=\"1\" /><path clip-path=\"url(#clip8100)\" d=\"M 0 0 M934.838 416.749 L942.477 416.749 L942.477 390.383 L934.167 392.05 L934.167 387.791 L942.43 386.124 L947.106 386.124 L947.106 416.749 L954.745 416.749 L954.745 420.684 L934.838 420.684 L934.838 416.749 Z\" fill=\"#000000\" fill-rule=\"evenodd\" fill-opacity=\"1\" /><path clip-path=\"url(#clip8100)\" d=\"M 0 0 M960.301 414.804 L965.185 414.804 L965.185 418.786 L961.389 426.193 L958.403 426.193 L960.301 418.786 L960.301 414.804 Z\" fill=\"#000000\" fill-rule=\"evenodd\" fill-opacity=\"1\" /><path clip-path=\"url(#clip8100)\" d=\"M 0 0 M989.351 416.749 L1005.67 416.749 L1005.67 420.684 L983.727 420.684 L983.727 416.749 Q986.389 413.994 990.972 409.365 Q995.578 404.712 996.759 403.369 Q999.004 400.846 999.884 399.11 Q1000.79 397.351 1000.79 395.661 Q1000.79 392.906 998.842 391.17 Q996.921 389.434 993.819 389.434 Q991.62 389.434 989.166 390.198 Q986.736 390.962 983.958 392.513 L983.958 387.791 Q986.782 386.656 989.236 386.078 Q991.689 385.499 993.726 385.499 Q999.097 385.499 1002.29 388.184 Q1005.49 390.869 1005.49 395.36 Q1005.49 397.49 1004.68 399.411 Q1003.89 401.309 1001.78 403.902 Q1001.2 404.573 998.101 407.791 Q995 410.985 989.351 416.749 Z\" fill=\"#000000\" fill-rule=\"evenodd\" fill-opacity=\"1\" /><path clip-path=\"url(#clip8100)\" d=\"M 0 0 M1020.74 389.203 Q1017.13 389.203 1015.3 392.768 Q1013.49 396.309 1013.49 403.439 Q1013.49 410.545 1015.3 414.11 Q1017.13 417.652 1020.74 417.652 Q1024.37 417.652 1026.18 414.11 Q1028.01 410.545 1028.01 403.439 Q1028.01 396.309 1026.18 392.768 Q1024.37 389.203 1020.74 389.203 M1020.74 385.499 Q1026.55 385.499 1029.61 390.106 Q1032.68 394.689 1032.68 403.439 Q1032.68 412.166 1029.61 416.772 Q1026.55 421.355 1020.74 421.355 Q1014.93 421.355 1011.85 416.772 Q1008.8 412.166 1008.8 403.439 Q1008.8 394.689 1011.85 390.106 Q1014.93 385.499 1020.74 385.499 Z\" fill=\"#000000\" fill-rule=\"evenodd\" fill-opacity=\"1\" /><path clip-path=\"url(#clip8100)\" d=\"M 0 0 M1041.78 416.749 L1058.1 416.749 L1058.1 420.684 L1036.16 420.684 L1036.16 416.749 Q1038.82 413.994 1043.4 409.365 Q1048.01 404.712 1049.19 403.369 Q1051.43 400.846 1052.31 399.11 Q1053.22 397.351 1053.22 395.661 Q1053.22 392.906 1051.27 391.17 Q1049.35 389.434 1046.25 389.434 Q1044.05 389.434 1041.6 390.198 Q1039.17 390.962 1036.39 392.513 L1036.39 387.791 Q1039.21 386.656 1041.67 386.078 Q1044.12 385.499 1046.16 385.499 Q1051.53 385.499 1054.72 388.184 Q1057.92 390.869 1057.92 395.36 Q1057.92 397.49 1057.11 399.411 Q1056.32 401.309 1054.21 403.902 Q1053.63 404.573 1050.53 407.791 Q1047.43 410.985 1041.78 416.749 Z\" fill=\"#000000\" fill-rule=\"evenodd\" fill-opacity=\"1\" /><path clip-path=\"url(#clip8100)\" d=\"M 0 0 M1073.17 389.203 Q1069.56 389.203 1067.73 392.768 Q1065.93 396.309 1065.93 403.439 Q1065.93 410.545 1067.73 414.11 Q1069.56 417.652 1073.17 417.652 Q1076.8 417.652 1078.61 414.11 Q1080.44 410.545 1080.44 403.439 Q1080.44 396.309 1078.61 392.768 Q1076.8 389.203 1073.17 389.203 M1073.17 385.499 Q1078.98 385.499 1082.04 390.106 Q1085.11 394.689 1085.11 403.439 Q1085.11 412.166 1082.04 416.772 Q1078.98 421.355 1073.17 421.355 Q1067.36 421.355 1064.28 416.772 Q1061.23 412.166 1061.23 403.439 Q1061.23 394.689 1064.28 390.106 Q1067.36 385.499 1073.17 385.499 Z\" fill=\"#000000\" fill-rule=\"evenodd\" fill-opacity=\"1\" /></svg>\n"
      ]
     },
     "execution_count": 12,
     "metadata": {},
     "output_type": "execute_result"
    }
   ],
   "source": [
    "using Plots\n",
    "\n",
    "#dates = format_dates( df[rows,2] , \"m/d/yy\")\n",
    "\n",
    "gr()\n",
    "plot(    x_axis_dates,\n",
    "        [  y_axis_original y_axis_predicted \n",
    "        ], # y-axis\n",
    "    label    = \n",
    "        [ symbol_to_predict \"preditions\"  \"\" ],\n",
    "    legend   =:topleft, \n",
    "              # :right, :left, :top, :bottom, :inside, :best, :legend, :topright, :topleft, :bottomleft, :bottomright\n",
    "    xlabel   = \"time\",\n",
    "    ylabel   = \"value\",\n",
    "    size     = (980, 400), # width, height\n",
    "    layout = (1, 1), # number of graphs: vertically, horizontally\n",
    "    )\n",
    "## Add veritical today line\n",
    "plot!([today_id], seriestype=\"vline\", label=[ \"Today \"*t \"\" ],)\n"
   ]
  },
  {
   "cell_type": "code",
   "execution_count": 13,
   "metadata": {
    "ExecuteTime": {
     "end_time": "2020-12-11T20:55:26.339000-05:00",
     "start_time": "2020-12-12T01:54:20.511Z"
    }
   },
   "outputs": [],
   "source": [
    "savefig(\"../images/predictions_\" * symbol_to_predict * \".png\")"
   ]
  },
  {
   "cell_type": "code",
   "execution_count": 14,
   "metadata": {
    "ExecuteTime": {
     "end_time": "2020-12-11T20:55:26.824000-05:00",
     "start_time": "2020-12-12T01:54:20.515Z"
    }
   },
   "outputs": [
    {
     "name": "stdout",
     "output_type": "stream",
     "text": [
      "AAPL 2020-12-11\n",
      "Sat, 2020-12-05\t predicted 123.0\t, but actual value was \t123.0\t difference is 0.0\n",
      "Sun, 2020-12-06\t predicted 123.0\t, but actual value was \t123.0\t difference is 0.0\n",
      "Mon, 2020-12-07\t predicted 125.0\t, but actual value was \t125.0\t difference is 0.0\n",
      "Tue, 2020-12-08\t predicted 125.0\t, but actual value was \t125.0\t difference is 0.0\n",
      "Wed, 2020-12-09\t predicted 125.0\t, but actual value was \t126.0\t difference is 1.0\n",
      "Thu, 2020-12-10\t predicted 123.0\t, but actual value was \t124.0\t difference is 1.0\n",
      "Fri, 2020-12-11\t predicted 123.0\t, but actual value was \t123.0\t difference is 0.0\n",
      "Sat, 2020-12-12\t predicted 120.0\n",
      "Sun, 2020-12-13\t predicted 117.0\n",
      "Mon, 2020-12-14\t predicted 114.0\n"
     ]
    }
   ],
   "source": [
    "## print prediction comparisons\n",
    "println(symbol_to_predict, \" \", today())\n",
    "\n",
    "file_path = \"../DATA/\" * symbol_to_predict * \"_predictions.csv\"\n",
    "open( file_path, \"a\") do file_handle # append\n",
    "    \n",
    "    for id in finem-10:finem\n",
    "        if id < today_id + 4 # Allows to show Monday predition on Friday night.\n",
    "            row = get(data_predictions, id) # get a dictionary of data from the SFrame\n",
    "            date_string = row[\"Date\"] # e.g. \"2020-10-20\"\n",
    "\n",
    "            a = y_axis_predicted[id]\n",
    "            b = y_axis_original[id]\n",
    "            d = round(b-a, digits=3)\n",
    "            date = convert(String, Dates.format( Date(date_string), \"e, yyyy-mm-dd\" ) )\n",
    "            if id <= today_id\n",
    "                println( date, \"\\t predicted \", a , \"\\t, but actual value was \\t\", b , \"\\t difference is \",  d  ) # di\n",
    "            else\n",
    "                println( date, \"\\t predicted \", a  ) # \n",
    "\n",
    "                txt_to_save =  \n",
    "                    convert(String, Dates.format( today(), \"yyyy-mm-dd\" ) ) *\",\"* \n",
    "                    convert(String, symbol_to_predict) *\",\"* \n",
    "                    date_string *\",\"* \n",
    "                    string(a) * \"\\n\"\n",
    "                \n",
    "                write(file_handle, txt_to_save )\n",
    "                \n",
    "            end # if\n",
    "        end #if \n",
    "    end # for\n",
    "end # open file"
   ]
  },
  {
   "cell_type": "code",
   "execution_count": null,
   "metadata": {},
   "outputs": [],
   "source": []
  },
  {
   "cell_type": "code",
   "execution_count": null,
   "metadata": {},
   "outputs": [],
   "source": []
  }
 ],
 "metadata": {
  "kernelspec": {
   "display_name": "Julia 1.5.1",
   "language": "julia",
   "name": "julia-1.5"
  },
  "language_info": {
   "file_extension": ".jl",
   "mimetype": "application/julia",
   "name": "julia",
   "version": "1.5.1"
  },
  "toc": {
   "base_numbering": 1,
   "nav_menu": {},
   "number_sections": true,
   "sideBar": true,
   "skip_h1_title": true,
   "title_cell": "Table of Contents",
   "title_sidebar": "Contents",
   "toc_cell": true,
   "toc_position": {},
   "toc_section_display": true,
   "toc_window_display": true
  },
  "varInspector": {
   "cols": {
    "lenName": 16,
    "lenType": 16,
    "lenVar": 40
   },
   "kernels_config": {
    "python": {
     "delete_cmd_postfix": "",
     "delete_cmd_prefix": "del ",
     "library": "var_list.py",
     "varRefreshCmd": "print(var_dic_list())"
    },
    "r": {
     "delete_cmd_postfix": ") ",
     "delete_cmd_prefix": "rm(",
     "library": "var_list.r",
     "varRefreshCmd": "cat(var_dic_list()) "
    }
   },
   "types_to_exclude": [
    "module",
    "function",
    "builtin_function_or_method",
    "instance",
    "_Feature"
   ],
   "window_display": false
  }
 },
 "nbformat": 4,
 "nbformat_minor": 4
}
