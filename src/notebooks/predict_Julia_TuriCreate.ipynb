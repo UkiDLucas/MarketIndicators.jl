{
 "cells": [
  {
   "cell_type": "markdown",
   "metadata": {},
   "source": [
    "# Prediction Model using TuriCreate in Julia"
   ]
  },
  {
   "cell_type": "markdown",
   "metadata": {
    "toc": true
   },
   "source": [
    "<h1>Table of Contents<span class=\"tocSkip\"></span></h1>\n",
    "<div class=\"toc\"><ul class=\"toc-item\"><li><span><a href=\"#Set-Up\" data-toc-modified-id=\"Set-Up-1\"><span class=\"toc-item-num\">1&nbsp;&nbsp;</span>Set Up</a></span></li><li><span><a href=\"#Fetch-Data-(SFrame)-from-Uber-CSV\" data-toc-modified-id=\"Fetch-Data-(SFrame)-from-Uber-CSV-2\"><span class=\"toc-item-num\">2&nbsp;&nbsp;</span>Fetch Data (SFrame) from Uber CSV</a></span></li><li><span><a href=\"#Split-Data\" data-toc-modified-id=\"Split-Data-3\"><span class=\"toc-item-num\">3&nbsp;&nbsp;</span>Split Data</a></span></li><li><span><a href=\"#Evaluate-the-Model\" data-toc-modified-id=\"Evaluate-the-Model-4\"><span class=\"toc-item-num\">4&nbsp;&nbsp;</span>Evaluate the Model</a></span></li><li><span><a href=\"#Save-/-Export-the-Model\" data-toc-modified-id=\"Save-/-Export-the-Model-5\"><span class=\"toc-item-num\">5&nbsp;&nbsp;</span>Save / Export the Model</a></span></li><li><span><a href=\"#Make-predictions\" data-toc-modified-id=\"Make-predictions-6\"><span class=\"toc-item-num\">6&nbsp;&nbsp;</span>Make predictions</a></span><ul class=\"toc-item\"><li><span><a href=\"#Explore-SFrame\" data-toc-modified-id=\"Explore-SFrame-6.1\"><span class=\"toc-item-num\">6.1&nbsp;&nbsp;</span>Explore SFrame</a></span></li></ul></li></ul></div>"
   ]
  },
  {
   "cell_type": "markdown",
   "metadata": {},
   "source": [
    "## Set Up"
   ]
  },
  {
   "cell_type": "code",
   "execution_count": 1,
   "metadata": {
    "ExecuteTime": {
     "end_time": "2020-12-11T20:27:33.196000-05:00",
     "start_time": "2020-12-12T01:27:32.304Z"
    }
   },
   "outputs": [
    {
     "name": "stdout",
     "output_type": "stream",
     "text": [
      "\n"
     ]
    }
   ],
   "source": [
    "symbol_to_predict = \"DJIA\" # - there is a bug\n",
    "# symbol_to_predict = \"AAPL\"\n",
    "#symbol_to_predict = \"VIX\"\n",
    "# symbol_to_predict = \"NIO\"\n",
    "#symbol_to_predict = \"NVDA\"\n",
    "\n",
    "features_to_analyze = \n",
    "[\n",
    " \n",
    "\"GSPC_Quantized\"\n",
    ",\"GSPC_Avg005\"\n",
    ",\"GSPC_Avg010\"\n",
    ",\"GSPC_Avg030\"\n",
    ",\"GSPC_Avg060\"\n",
    ",\"GSPC_Avg090\"\n",
    ",\"GSPC_Avg120\"\n",
    ",\"GSPC_Avg180\"\n",
    " \n",
    ",\"BTC_USD_Quantized\"\n",
    ",\"BTC_USD_Avg005\"\n",
    ",\"BTC_USD_Avg010\"\n",
    ",\"BTC_USD_Avg030\"\n",
    ",\"BTC_USD_Avg060\"\n",
    ",\"BTC_USD_Avg090\"\n",
    ",\"BTC_USD_Avg120\"\n",
    ",\"BTC_USD_Avg180\"\n",
    " \n",
    ",\"DALLAS_FED_MFC_Quantized\"\n",
    ",\"DALLAS_FED_MFC_Avg005\"\n",
    ",\"DALLAS_FED_MFC_Avg010\"\n",
    ",\"DALLAS_FED_MFC_Avg030\"\n",
    ",\"DALLAS_FED_MFC_Avg060\"\n",
    ",\"DALLAS_FED_MFC_Avg090\"\n",
    ",\"DALLAS_FED_MFC_Avg120\"\n",
    ",\"DALLAS_FED_MFC_Avg180\"\n",
    " \n",
    ",\"GOLD_Quantized\"\n",
    ",\"GOLD_Avg005\"\n",
    ",\"GOLD_Avg010\"\n",
    ",\"GOLD_Avg030\"\n",
    ",\"GOLD_Avg060\"\n",
    ",\"GOLD_Avg090\"\n",
    ",\"GOLD_Avg120\"\n",
    ",\"GOLD_Avg180\"\n",
    " \n",
    ",\"GELYF_Quantized\"\n",
    ",\"GELYF_Avg005\"\n",
    ",\"GELYF_Avg010\"\n",
    ",\"GELYF_Avg030\"\n",
    ",\"GELYF_Avg060\"\n",
    ",\"GELYF_Avg090\"\n",
    ",\"GELYF_Avg120\"\n",
    ",\"GELYF_Avg180\"\n",
    " \n",
    ",\"US_PEND_HOME_SALE_M_Quantized\"\n",
    ",\"US_PEND_HOME_SALE_M_Avg005\"\n",
    ",\"US_PEND_HOME_SALE_M_Avg010\"\n",
    ",\"US_PEND_HOME_SALE_M_Avg030\"\n",
    ",\"US_PEND_HOME_SALE_M_Avg060\"\n",
    ",\"US_PEND_HOME_SALE_M_Avg090\"\n",
    ",\"US_PEND_HOME_SALE_M_Avg120\"\n",
    ",\"US_PEND_HOME_SALE_M_Avg180\"\n",
    " \n",
    ",\"TNX_Quantized\"\n",
    ",\"TNX_Avg005\"\n",
    ",\"TNX_Avg010\"\n",
    ",\"TNX_Avg030\"\n",
    ",\"TNX_Avg060\"\n",
    ",\"TNX_Avg090\"\n",
    ",\"TNX_Avg120\"\n",
    ",\"TNX_Avg180\"\n",
    " \n",
    ",\"TSLA_Quantized\"\n",
    ",\"TSLA_Avg005\"\n",
    ",\"TSLA_Avg010\"\n",
    ",\"TSLA_Avg030\"\n",
    ",\"TSLA_Avg060\"\n",
    ",\"TSLA_Avg090\"\n",
    ",\"TSLA_Avg120\"\n",
    ",\"TSLA_Avg180\"\n",
    " \n",
    ",\"US_BUILD_PERM_Quantized\"\n",
    ",\"US_BUILD_PERM_Avg005\"\n",
    ",\"US_BUILD_PERM_Avg010\"\n",
    ",\"US_BUILD_PERM_Avg030\"\n",
    ",\"US_BUILD_PERM_Avg060\"\n",
    ",\"US_BUILD_PERM_Avg090\"\n",
    ",\"US_BUILD_PERM_Avg120\"\n",
    ",\"US_BUILD_PERM_Avg180\"\n",
    " \n",
    ",\"BYDDF_Quantized\"\n",
    ",\"BYDDF_Avg005\"\n",
    ",\"BYDDF_Avg010\"\n",
    ",\"BYDDF_Avg030\"\n",
    ",\"BYDDF_Avg060\"\n",
    ",\"BYDDF_Avg090\"\n",
    ",\"BYDDF_Avg120\"\n",
    ",\"BYDDF_Avg180\"\n",
    " \n",
    ",\"US_INDS_PROD_M_Quantized\"\n",
    ",\"US_INDS_PROD_M_Avg005\"\n",
    ",\"US_INDS_PROD_M_Avg010\"\n",
    ",\"US_INDS_PROD_M_Avg030\"\n",
    ",\"US_INDS_PROD_M_Avg060\"\n",
    ",\"US_INDS_PROD_M_Avg090\"\n",
    ",\"US_INDS_PROD_M_Avg120\"\n",
    ",\"US_INDS_PROD_M_Avg180\"\n",
    " \n",
    ",\"US_ISM_MFC_EMPL_Quantized\"\n",
    ",\"US_ISM_MFC_EMPL_Avg005\"\n",
    ",\"US_ISM_MFC_EMPL_Avg010\"\n",
    ",\"US_ISM_MFC_EMPL_Avg030\"\n",
    ",\"US_ISM_MFC_EMPL_Avg060\"\n",
    ",\"US_ISM_MFC_EMPL_Avg090\"\n",
    ",\"US_ISM_MFC_EMPL_Avg120\"\n",
    ",\"US_ISM_MFC_EMPL_Avg180\"\n",
    " \n",
    ",\"US_INIT_JOB_CLAIM_Quantized\"\n",
    ",\"US_INIT_JOB_CLAIM_Avg005\"\n",
    ",\"US_INIT_JOB_CLAIM_Avg010\"\n",
    ",\"US_INIT_JOB_CLAIM_Avg030\"\n",
    ",\"US_INIT_JOB_CLAIM_Avg060\"\n",
    ",\"US_INIT_JOB_CLAIM_Avg090\"\n",
    ",\"US_INIT_JOB_CLAIM_Avg120\"\n",
    ",\"US_INIT_JOB_CLAIM_Avg180\"\n",
    " \n",
    ",\"US_UNEMPLOY_RATE_Quantized\"\n",
    ",\"US_UNEMPLOY_RATE_Avg005\"\n",
    ",\"US_UNEMPLOY_RATE_Avg010\"\n",
    ",\"US_UNEMPLOY_RATE_Avg030\"\n",
    ",\"US_UNEMPLOY_RATE_Avg060\"\n",
    ",\"US_UNEMPLOY_RATE_Avg090\"\n",
    ",\"US_UNEMPLOY_RATE_Avg120\"\n",
    ",\"US_UNEMPLOY_RATE_Avg180\"\n",
    " \n",
    ",\"NVDA_Quantized\"\n",
    ",\"NVDA_Avg005\"\n",
    ",\"NVDA_Avg010\"\n",
    ",\"NVDA_Avg030\"\n",
    ",\"NVDA_Avg060\"\n",
    ",\"NVDA_Avg090\"\n",
    ",\"NVDA_Avg120\"\n",
    ",\"NVDA_Avg180\"\n",
    " \n",
    ",\"NRMGX_Quantized\"\n",
    ",\"NRMGX_Avg005\"\n",
    ",\"NRMGX_Avg010\"\n",
    ",\"NRMGX_Avg030\"\n",
    ",\"NRMGX_Avg060\"\n",
    ",\"NRMGX_Avg090\"\n",
    ",\"NRMGX_Avg120\"\n",
    ",\"NRMGX_Avg180\"\n",
    " \n",
    ",\"US_HOUS_STRS_M_Quantized\"\n",
    ",\"US_HOUS_STRS_M_Avg005\"\n",
    ",\"US_HOUS_STRS_M_Avg010\"\n",
    ",\"US_HOUS_STRS_M_Avg030\"\n",
    ",\"US_HOUS_STRS_M_Avg060\"\n",
    ",\"US_HOUS_STRS_M_Avg090\"\n",
    ",\"US_HOUS_STRS_M_Avg120\"\n",
    ",\"US_HOUS_STRS_M_Avg180\"\n",
    " \n",
    ",\"HD_Quantized\"\n",
    ",\"HD_Avg005\"\n",
    ",\"HD_Avg010\"\n",
    ",\"HD_Avg030\"\n",
    ",\"HD_Avg060\"\n",
    ",\"HD_Avg090\"\n",
    ",\"HD_Avg120\"\n",
    ",\"HD_Avg180\"\n",
    " \n",
    ",\"US_GDP_Q_Quantized\"\n",
    ",\"US_GDP_Q_Avg005\"\n",
    ",\"US_GDP_Q_Avg010\"\n",
    ",\"US_GDP_Q_Avg030\"\n",
    ",\"US_GDP_Q_Avg060\"\n",
    ",\"US_GDP_Q_Avg090\"\n",
    ",\"US_GDP_Q_Avg120\"\n",
    ",\"US_GDP_Q_Avg180\"\n",
    " \n",
    ",\"VIX_Quantized\"\n",
    ",\"VIX_Avg005\"\n",
    ",\"VIX_Avg010\"\n",
    ",\"VIX_Avg030\"\n",
    ",\"VIX_Avg060\"\n",
    ",\"VIX_Avg090\"\n",
    ",\"VIX_Avg120\"\n",
    ",\"VIX_Avg180\"\n",
    " \n",
    ",\"TPLGX_Quantized\"\n",
    ",\"TPLGX_Avg005\"\n",
    ",\"TPLGX_Avg010\"\n",
    ",\"TPLGX_Avg030\"\n",
    ",\"TPLGX_Avg060\"\n",
    ",\"TPLGX_Avg090\"\n",
    ",\"TPLGX_Avg120\"\n",
    ",\"TPLGX_Avg180\"\n",
    " \n",
    ",\"US_ISM_MFC_PMI_Quantized\"\n",
    ",\"US_ISM_MFC_PMI_Avg005\"\n",
    ",\"US_ISM_MFC_PMI_Avg010\"\n",
    ",\"US_ISM_MFC_PMI_Avg030\"\n",
    ",\"US_ISM_MFC_PMI_Avg060\"\n",
    ",\"US_ISM_MFC_PMI_Avg090\"\n",
    ",\"US_ISM_MFC_PMI_Avg120\"\n",
    ",\"US_ISM_MFC_PMI_Avg180\"\n",
    " \n",
    ",\"VINIX_Quantized\"\n",
    ",\"VINIX_Avg005\"\n",
    ",\"VINIX_Avg010\"\n",
    ",\"VINIX_Avg030\"\n",
    ",\"VINIX_Avg060\"\n",
    ",\"VINIX_Avg090\"\n",
    ",\"VINIX_Avg120\"\n",
    ",\"VINIX_Avg180\"\n",
    " \n",
    ",\"VBTLX_Quantized\"\n",
    ",\"VBTLX_Avg005\"\n",
    ",\"VBTLX_Avg010\"\n",
    ",\"VBTLX_Avg030\"\n",
    ",\"VBTLX_Avg060\"\n",
    ",\"VBTLX_Avg090\"\n",
    ",\"VBTLX_Avg120\"\n",
    ",\"VBTLX_Avg180\"\n",
    " \n",
    ",\"RERGX_Quantized\"\n",
    ",\"RERGX_Avg005\"\n",
    ",\"RERGX_Avg010\"\n",
    ",\"RERGX_Avg030\"\n",
    ",\"RERGX_Avg060\"\n",
    ",\"RERGX_Avg090\"\n",
    ",\"RERGX_Avg120\"\n",
    ",\"RERGX_Avg180\"\n",
    " \n",
    ",\"CRSP_Quantized\"\n",
    ",\"CRSP_Avg005\"\n",
    ",\"CRSP_Avg010\"\n",
    ",\"CRSP_Avg030\"\n",
    ",\"CRSP_Avg060\"\n",
    ",\"CRSP_Avg090\"\n",
    ",\"CRSP_Avg120\"\n",
    ",\"CRSP_Avg180\"\n",
    " \n",
    ",\"BABA_Quantized\"\n",
    ",\"BABA_Avg005\"\n",
    ",\"BABA_Avg010\"\n",
    ",\"BABA_Avg030\"\n",
    ",\"BABA_Avg060\"\n",
    ",\"BABA_Avg090\"\n",
    ",\"BABA_Avg120\"\n",
    ",\"BABA_Avg180\"\n",
    " \n",
    ",\"DJIA_Quantized\"\n",
    ",\"DJIA_Avg005\"\n",
    ",\"DJIA_Avg010\"\n",
    ",\"DJIA_Avg030\"\n",
    ",\"DJIA_Avg060\"\n",
    ",\"DJIA_Avg090\"\n",
    ",\"DJIA_Avg120\"\n",
    ",\"DJIA_Avg180\"\n",
    " \n",
    ",\"AAPL_Quantized\"\n",
    ",\"AAPL_Avg005\"\n",
    ",\"AAPL_Avg010\"\n",
    ",\"AAPL_Avg030\"\n",
    ",\"AAPL_Avg060\"\n",
    ",\"AAPL_Avg090\"\n",
    ",\"AAPL_Avg120\"\n",
    ",\"AAPL_Avg180\"\n",
    " \n",
    "    \n",
    "]\n",
    "\n",
    "println()"
   ]
  },
  {
   "cell_type": "code",
   "execution_count": 2,
   "metadata": {
    "ExecuteTime": {
     "end_time": "2020-12-11T20:27:38.104000-05:00",
     "start_time": "2020-12-12T01:27:32.312Z"
    }
   },
   "outputs": [
    {
     "name": "stdout",
     "output_type": "stream",
     "text": [
      "\n"
     ]
    },
    {
     "data": {
      "text/plain": [
       "\"DJIA_Original\""
      ]
     },
     "execution_count": 2,
     "metadata": {},
     "output_type": "execute_result"
    }
   ],
   "source": [
    "## uncomment for the first run\n",
    "# import Pkg\n",
    "# Pkg.add(\"PyCall\")\n",
    "# Pkg.add(\"Conda\")\n",
    "# ENV[\"PYTHON\"] = \"/opt/anaconda3/envs/turi/bin/python\"\n",
    "# /opt/anaconda3/envs/turi/lib/python3.6/site-packages/\n",
    "# Pkg.build(\"PyCall\")\n",
    "\n",
    "include(\"../Julia/functions.jl\") \n",
    "data_path=\"../DATA/processed/uber_training.csv\"\n",
    "column_to_predict = symbol_to_predict * \"_Original\""
   ]
  },
  {
   "cell_type": "markdown",
   "metadata": {},
   "source": [
    "## Fetch Data (SFrame) from Uber CSV"
   ]
  },
  {
   "cell_type": "code",
   "execution_count": 3,
   "metadata": {
    "ExecuteTime": {
     "end_time": "2020-12-11T20:27:42.966000-05:00",
     "start_time": "2020-12-12T01:27:32.316Z"
    }
   },
   "outputs": [
    {
     "name": "stdout",
     "output_type": "stream",
     "text": [
      "Finished parsing file /Users/uki/REPOS/MarketIndicators.jl/src/DATA/processed/uber_training.csv\n",
      "Parsing completed. Parsed 100 lines in 0.036668 secs.\n",
      "------------------------------------------------------\n",
      "Inferred types from first 100 line(s) of file as \n",
      "column_type_hints=[int,str,float,float,float,float,float,float,float,float,float,float,float,float,float,float,float,float,float,float,float,float,float,float,float,float,float,float,float,float,float,float,float,float,float,float,float,float,float,float,float,float,float,float,float,float,float,float,float,float,float,float,float,float,float,float,float,float,float,float,float,float,float,float,float,float,float,float,float,float,float,float,float,float,float,float,float,float,float,float,float,float,float,float,float,float,float,float,float,float,float,float,float,float,float,float,float,float,float,float,float,float,float,float,float,float,float,float,float,float,float,float,float,float,float,float,float,float,float,float,float,float,float,float,float,float,float,float,float,float,float,float,float,float,float,float,float,float,float,float,float,float,float,float,float,float,float,float,float,float,float,float,float,float,float,float,float,float,float,float,float,float,float,float,float,float,float,float,float,float,float,float,float,float,float,float,float,float,float,float,float,float,float,float,float,float,float,float,float,float,float,float,float,float,float,float,float,float,float,float,float,float,float,float,float,float,float,float,float,float,float,float,float,float,float,float,float,float,float,float,float,float,float,float,float,float,float,float,float,float,float,float,float,float,float,float,float,float,float,float,float,float,float,float,float,float,float,float,float,float,float,float,float,float,float,float,float,float,float,float,float,float,float]\n",
      "If parsing fails due to incorrect types, you can correct\n",
      "the inferred type list above and pass it to read_csv in\n",
      "the column_type_hints argument\n",
      "------------------------------------------------------\n",
      "Finished parsing file /Users/uki/REPOS/MarketIndicators.jl/src/DATA/processed/uber_training.csv\n",
      "Parsing completed. Parsed 452 lines in 0.023476 secs.\n",
      "\n"
     ]
    }
   ],
   "source": [
    "using PyCall\n",
    "tc = pyimport(\"turicreate\")\n",
    "data = tc.SFrame(data_path)\n",
    "println()"
   ]
  },
  {
   "cell_type": "markdown",
   "metadata": {},
   "source": [
    "## Split Data"
   ]
  },
  {
   "cell_type": "code",
   "execution_count": 4,
   "metadata": {
    "ExecuteTime": {
     "end_time": "2020-12-11T20:27:43.601000-05:00",
     "start_time": "2020-12-12T01:27:32.321Z"
    }
   },
   "outputs": [
    {
     "name": "stdout",
     "output_type": "stream",
     "text": [
      "(362,)\n",
      "(90,)\n"
     ]
    }
   ],
   "source": [
    "# Make a train-test split\n",
    "train_data, test_data = data.random_split(0.8)\n",
    "\n",
    "println( size(train_data) )\n",
    "println( size(test_data)  )"
   ]
  },
  {
   "cell_type": "code",
   "execution_count": 5,
   "metadata": {
    "ExecuteTime": {
     "end_time": "2020-12-11T20:27:46.363000-05:00",
     "start_time": "2020-12-12T01:27:32.327Z"
    }
   },
   "outputs": [
    {
     "name": "stdout",
     "output_type": "stream",
     "text": [
      "Automatically generating validation set from 5% of the data.\n",
      "Linear regression:\n",
      "--------------------------------------------------------\n",
      "Number of examples          : 345\n",
      "Number of features          : 232\n",
      "Number of unpacked features : 232\n",
      "Number of coefficients    : 233\n",
      "Starting Newton Method\n",
      "--------------------------------------------------------\n",
      "+-----------+----------+--------------+--------------------+----------------------+---------------------------------+-----------------------------------+\n",
      "| Iteration | Passes   | Elapsed Time | Training Max Error | Validation Max Error | Training Root-Mean-Square Error | Validation Root-Mean-Square Error |\n",
      "+-----------+----------+--------------+--------------------+----------------------+---------------------------------+-----------------------------------+\n",
      "| 1         | 2        | 1.035101     | 104.274802         | 59.752487            | 28.463671                       | 31.466115                         |\n",
      "+-----------+----------+--------------+--------------------+----------------------+---------------------------------+-----------------------------------+\n",
      "SUCCESS: Optimal solution found.\n",
      "\n"
     ]
    },
    {
     "data": {
      "text/plain": [
       "PyObject Class                          : LinearRegression\n",
       "\n",
       "Schema\n",
       "------\n",
       "Number of coefficients         : 233\n",
       "Number of examples             : 345\n",
       "Number of feature columns      : 232\n",
       "Number of unpacked features    : 232\n",
       "\n",
       "Hyperparameters\n",
       "---------------\n",
       "L1 penalty                     : 0\n",
       "L2 penalty                     : 0.01\n",
       "\n",
       "Training Summary\n",
       "----------------\n",
       "Solver                         : newton\n",
       "Solver iterations              : 1\n",
       "Solver status                  : SUCCESS: Optimal solution found.\n",
       "Training time (sec)            : 1.0471\n",
       "\n",
       "Settings\n",
       "--------\n",
       "Residual sum of squares        : 279512.2895\n",
       "Training RMSE                  : 28.4637\n",
       "\n",
       "Highest Positive Coefficients\n",
       "-----------------------------\n",
       "(intercept)                    : 16768.258\n",
       "DJIA_Quantized                 : 68.32\n",
       "GSPC_Quantized                 : 37.3177\n",
       "GELYF_Avg090                   : 10.1974\n",
       "VINIX_Quantized                : 8.7505\n",
       "\n",
       "Lowest Negative Coefficients\n",
       "----------------------------\n",
       "BTC_USD_Avg180                 : -11.8054\n",
       "GELYF_Avg060                   : -10.4491\n",
       "TPLGX_Quantized                : -7.3849\n",
       "BTC_USD_Avg090                 : -6.4976\n",
       "US_PEND_HOME_SALE_M_Avg060     : -6.2601\n"
      ]
     },
     "execution_count": 5,
     "metadata": {},
     "output_type": "execute_result"
    }
   ],
   "source": [
    "model = tc.regression.create( \n",
    "    train_data, \n",
    "    target = column_to_predict, \n",
    "    features = features_to_analyze, \n",
    "    validation_set=\"auto\", \n",
    "    verbose=true\n",
    ")"
   ]
  },
  {
   "cell_type": "markdown",
   "metadata": {},
   "source": [
    "## Evaluate the Model"
   ]
  },
  {
   "cell_type": "code",
   "execution_count": 6,
   "metadata": {
    "ExecuteTime": {
     "end_time": "2020-12-11T20:27:47.586000-05:00",
     "start_time": "2020-12-12T01:27:32.332Z"
    }
   },
   "outputs": [
    {
     "data": {
      "text/plain": [
       "Dict{Any,Any} with 2 entries:\n",
       "  \"rmse\"      => 43.2746\n",
       "  \"max_error\" => 128.488"
      ]
     },
     "execution_count": 6,
     "metadata": {},
     "output_type": "execute_result"
    }
   ],
   "source": [
    "#TODO: write this in a loop to select the best model\n",
    "# Evaluate the model and save the results into a dictionary\n",
    "results = model.evaluate( test_data ) #test_data[0:2531]\n",
    "results"
   ]
  },
  {
   "cell_type": "code",
   "execution_count": 7,
   "metadata": {
    "ExecuteTime": {
     "end_time": "2020-12-11T20:27:47.743000-05:00",
     "start_time": "2020-12-12T01:27:32.336Z"
    }
   },
   "outputs": [
    {
     "name": "stdout",
     "output_type": "stream",
     "text": [
      "max_error: 128.49, rmse: 43.27\n"
     ]
    }
   ],
   "source": [
    "rmse = results[\"rmse\"]\n",
    "rmse = round(rmse, digits=2)\n",
    "\n",
    "max_error = results[\"max_error\"]\n",
    "max_error = round(max_error, digits=2)\n",
    "\n",
    "println( \"max_error: \", max_error, \", rmse: \", rmse )\n",
    "# max_error: 1069.27, rmse: 184.6\n",
    "# max_error: 65.35, rmse: 32.6            predict: ^DJIA added: US_INIT_JOBLESS\n",
    "# max_error: 1875.39, rmse: 443.59        predict: ^DJIA commented out: \"DJIA_Quantized\"\n",
    "# max_error: 1339.76, rmse: 373.94        predict: ^DJIA commented out: \"DJIA_Quantized\"\n",
    "# max_error: 916.19, rmse: 231.24       predict: ^DJIA with \"DJIA_Avg005\""
   ]
  },
  {
   "cell_type": "markdown",
   "metadata": {},
   "source": [
    "## Save / Export the Model"
   ]
  },
  {
   "cell_type": "code",
   "execution_count": 8,
   "metadata": {
    "ExecuteTime": {
     "end_time": "2020-12-11T20:27:47.773000-05:00",
     "start_time": "2020-12-12T01:27:32.342Z"
    }
   },
   "outputs": [],
   "source": [
    "# Export to Core ML\n",
    "model.export_coreml(\"../DATA/models/^DJI.mlmodel\")"
   ]
  },
  {
   "cell_type": "markdown",
   "metadata": {},
   "source": [
    "## Make predictions "
   ]
  },
  {
   "cell_type": "code",
   "execution_count": 9,
   "metadata": {
    "ExecuteTime": {
     "end_time": "2020-12-11T20:27:48.001000-05:00",
     "start_time": "2020-12-12T01:27:32.346Z"
    }
   },
   "outputs": [
    {
     "name": "stdout",
     "output_type": "stream",
     "text": [
      "Finished parsing file /Users/uki/REPOS/MarketIndicators.jl/src/DATA/processed/uber_prediction.csv\n",
      "Parsing completed. Parsed 95 lines in 0.046717 secs.\n",
      "------------------------------------------------------\n",
      "Inferred types from first 100 line(s) of file as \n",
      "column_type_hints=[int,str,float,float,float,float,float,float,float,float,float,float,float,float,float,float,float,float,float,float,float,float,float,float,float,float,float,float,float,float,float,float,float,float,float,float,float,float,float,float,float,float,float,float,float,float,float,float,float,float,float,float,float,float,float,float,float,float,float,float,float,float,float,float,float,float,float,float,float,float,float,float,float,float,float,float,float,float,float,float,float,float,float,float,float,float,float,float,float,float,float,float,float,float,float,float,float,float,float,float,float,float,float,float,float,float,float,float,float,float,float,float,float,float,float,float,float,float,float,float,float,float,float,float,float,float,float,float,float,float,float,float,float,float,float,float,float,float,float,float,float,float,float,float,float,float,float,float,float,float,float,float,float,float,float,float,float,float,float,float,float,float,float,float,float,float,float,float,float,float,float,float,float,float,float,float,float,float,float,float,float,float,float,float,float,float,float,float,float,float,float,float,float,float,float,float,float,float,float,float,float,float,float,float,float,float,float,float,float,float,float,float,float,float,float,float,float,float,float,float,float,float,float,float,float,float,float,float,float,float,float,float,float,float,float,float,float,float,float,float,float,float,float,float,float,float,float,float,float,float,float,float,float,float,float,float,float,float,float,float,float,float,float]\n",
      "If parsing fails due to incorrect types, you can correct\n",
      "the inferred type list above and pass it to read_csv in\n",
      "the column_type_hints argument\n",
      "------------------------------------------------------\n",
      "Finished parsing file /Users/uki/REPOS/MarketIndicators.jl/src/DATA/processed/uber_prediction.csv\n",
      "Parsing completed. Parsed 95 lines in 0.01093 secs.\n",
      "\n"
     ]
    }
   ],
   "source": [
    "data_path=\"../DATA/processed/uber_prediction.csv\"\n",
    "data_predictions = tc.SFrame(data_path)\n",
    "\n",
    "## Save predictions to an SArray\n",
    "predictions = model.predict(data_predictions)\n",
    "#get(predictions, 1)\n",
    "\n",
    "println()"
   ]
  },
  {
   "cell_type": "markdown",
   "metadata": {},
   "source": [
    "### Explore SFrame"
   ]
  },
  {
   "cell_type": "code",
   "execution_count": 10,
   "metadata": {
    "ExecuteTime": {
     "end_time": "2020-12-11T20:27:48.199000-05:00",
     "start_time": "2020-12-12T01:27:32.351Z"
    }
   },
   "outputs": [
    {
     "name": "stdout",
     "output_type": "stream",
     "text": [
      "record_count data 95\n",
      "record_count predictions 95\n",
      "feature_number 263\n",
      "Rata Die 737774\n",
      "date 2020-12-15\n",
      "original 30071.130859\n"
     ]
    }
   ],
   "source": [
    "record_count = size(data_predictions)[1]\n",
    "row = get(data_predictions, record_count-1)\n",
    "\n",
    "feature_number = row.count\n",
    "day = row[\"Rata_Die\"]\n",
    "date = row[\"Date\"] # \"2020-10-20\"\n",
    "original = row[\"DJIA_Original\"]\n",
    "\n",
    "println( \"record_count data \", record_count )\n",
    "println( \"record_count predictions \", size(predictions)[1] )\n",
    "\n",
    "println( \"feature_number \", feature_number )\n",
    "println( \"Rata Die \", day )\n",
    "println( \"date \", date )\n",
    "println( \"original \", original )"
   ]
  },
  {
   "cell_type": "code",
   "execution_count": 11,
   "metadata": {
    "ExecuteTime": {
     "end_time": "2020-12-11T20:27:51.266000-05:00",
     "start_time": "2020-12-12T01:27:32.357Z"
    }
   },
   "outputs": [
    {
     "name": "stdout",
     "output_type": "stream",
     "text": [
      "preditions set size: 94, step 5\n",
      "DJIA 94 Array{Date,1}\n",
      "t Dec. 11, 2020 String\n",
      "\n"
     ]
    }
   ],
   "source": [
    "using Dates\n",
    "today_rata = Dates.datetime2rata( today() )\n",
    "\n",
    "## Determine dataset size\n",
    "\n",
    "initio = 1                                              # latin: start\n",
    "finem  = size(predictions)[1] -1                        # latin: end\n",
    "gradus = convert(Int64, round( finem/20, digits=0)  )   # latin: step\n",
    "\n",
    "println(\"preditions set size: \", finem, \", step \", gradus)\n",
    "\n",
    "\n",
    "## Declare variables\n",
    "x_axis_dates      = Vector{Date}() # results in Array{Date,1}\n",
    "y_axis_original   = Vector{Float64}()\n",
    "y_axis_predicted  = Vector{Float64}()\n",
    "\n",
    "println(symbol_to_predict, \" \", finem, \" \", typeof(x_axis_dates))\n",
    "\n",
    "today_id  = 50 # not set yet\n",
    "\n",
    "## step thru each prediction\n",
    "for id in initio:finem\n",
    "    row = get(data_predictions, id) # get a dictionary of data from the SFrame\n",
    "    \n",
    "    date_string = row[\"Date\"] # e.g. \"2020-10-20\"\n",
    "    date = Date(date_string) # 2020-09-07 Date\n",
    "    if date == today()\n",
    "        today_id = id\n",
    "    end \n",
    "    #date = Dates.format(date, \"u.d,yy\" )\n",
    "    #println(\"date \", date, \" \", typeof(date))\n",
    "    push!(x_axis_dates, date)\n",
    "    \n",
    "    predicted = get(predictions, id) # Float64\n",
    "    predicted = round(predicted, digits=0)\n",
    "    #println(\"predicted \", predicted, \" \", typeof(predicted))\n",
    "    append!(y_axis_predicted, predicted)\n",
    "    \n",
    "    \n",
    "    original = row[ column_to_predict ]\n",
    "    original = round(original, digits=0) # Float64\n",
    "    #println(\"original \", original, \" \", typeof(original)) \n",
    "    append!(y_axis_original, original)\n",
    "end\n",
    "\n",
    "## Format Dates for plotting\n",
    "include(\"../Julia/function_format_dates.jl\")\n",
    "x_axis_dates = format_dates(x_axis_dates, \"u. d, yy\")\n",
    "\n",
    "\n",
    "\n",
    "t = today()# Date\n",
    "t = format_dates([t], \"u. d, yyyy\") # Array{String,1}\n",
    "t = t[1] # String\n",
    "println(\"t \", t, \" \", typeof(t))\n",
    "\n",
    "println()"
   ]
  },
  {
   "cell_type": "code",
   "execution_count": 12,
   "metadata": {
    "ExecuteTime": {
     "end_time": "2020-12-11T20:28:36.809000-05:00",
     "start_time": "2020-12-12T01:27:32.362Z"
    }
   },
   "outputs": [
    {
     "data": {
      "image/svg+xml": [
       "<?xml version=\"1.0\" encoding=\"utf-8\"?>\n",
       "<svg xmlns=\"http://www.w3.org/2000/svg\" xmlns:xlink=\"http://www.w3.org/1999/xlink\" width=\"980\" height=\"400\" viewBox=\"0 0 3920 1600\">\n",
       "<defs>\n",
       "  <clipPath id=\"clip2500\">\n",
       "    <rect x=\"0\" y=\"0\" width=\"3920\" height=\"1600\"/>\n",
       "  </clipPath>\n",
       "</defs>\n",
       "<path clip-path=\"url(#clip2500)\" d=\"\n",
       "M0 1600 L3920 1600 L3920 0 L0 0  Z\n",
       "  \" fill=\"#ffffff\" fill-rule=\"evenodd\" fill-opacity=\"1\"/>\n",
       "<defs>\n",
       "  <clipPath id=\"clip2501\">\n",
       "    <rect x=\"784\" y=\"0\" width=\"2745\" height=\"1600\"/>\n",
       "  </clipPath>\n",
       "</defs>\n",
       "<path clip-path=\"url(#clip2500)\" d=\"\n",
       "M281.07 1423.18 L3872.76 1423.18 L3872.76 47.2441 L281.07 47.2441  Z\n",
       "  \" fill=\"#ffffff\" fill-rule=\"evenodd\" fill-opacity=\"1\"/>\n",
       "<defs>\n",
       "  <clipPath id=\"clip2502\">\n",
       "    <rect x=\"281\" y=\"47\" width=\"3593\" height=\"1377\"/>\n",
       "  </clipPath>\n",
       "</defs>\n",
       "<polyline clip-path=\"url(#clip2502)\" style=\"stroke:#000000; stroke-width:2; stroke-opacity:0.1; fill:none\" points=\"\n",
       "  382.721,1423.18 382.721,47.2441 \n",
       "  \"/>\n",
       "<polyline clip-path=\"url(#clip2502)\" style=\"stroke:#000000; stroke-width:2; stroke-opacity:0.1; fill:none\" points=\"\n",
       "  637.761,1423.18 637.761,47.2441 \n",
       "  \"/>\n",
       "<polyline clip-path=\"url(#clip2502)\" style=\"stroke:#000000; stroke-width:2; stroke-opacity:0.1; fill:none\" points=\"\n",
       "  856.366,1423.18 856.366,47.2441 \n",
       "  \"/>\n",
       "<polyline clip-path=\"url(#clip2502)\" style=\"stroke:#000000; stroke-width:2; stroke-opacity:0.1; fill:none\" points=\"\n",
       "  1111.41,1423.18 1111.41,47.2441 \n",
       "  \"/>\n",
       "<polyline clip-path=\"url(#clip2502)\" style=\"stroke:#000000; stroke-width:2; stroke-opacity:0.1; fill:none\" points=\"\n",
       "  1366.45,1423.18 1366.45,47.2441 \n",
       "  \"/>\n",
       "<polyline clip-path=\"url(#clip2502)\" style=\"stroke:#000000; stroke-width:2; stroke-opacity:0.1; fill:none\" points=\"\n",
       "  1585.05,1423.18 1585.05,47.2441 \n",
       "  \"/>\n",
       "<polyline clip-path=\"url(#clip2502)\" style=\"stroke:#000000; stroke-width:2; stroke-opacity:0.1; fill:none\" points=\"\n",
       "  1840.09,1423.18 1840.09,47.2441 \n",
       "  \"/>\n",
       "<polyline clip-path=\"url(#clip2502)\" style=\"stroke:#000000; stroke-width:2; stroke-opacity:0.1; fill:none\" points=\"\n",
       "  2095.13,1423.18 2095.13,47.2441 \n",
       "  \"/>\n",
       "<polyline clip-path=\"url(#clip2502)\" style=\"stroke:#000000; stroke-width:2; stroke-opacity:0.1; fill:none\" points=\"\n",
       "  2313.74,1423.18 2313.74,47.2441 \n",
       "  \"/>\n",
       "<polyline clip-path=\"url(#clip2502)\" style=\"stroke:#000000; stroke-width:2; stroke-opacity:0.1; fill:none\" points=\"\n",
       "  2568.77,1423.18 2568.77,47.2441 \n",
       "  \"/>\n",
       "<polyline clip-path=\"url(#clip2502)\" style=\"stroke:#000000; stroke-width:2; stroke-opacity:0.1; fill:none\" points=\"\n",
       "  2787.38,1423.18 2787.38,47.2441 \n",
       "  \"/>\n",
       "<polyline clip-path=\"url(#clip2502)\" style=\"stroke:#000000; stroke-width:2; stroke-opacity:0.1; fill:none\" points=\"\n",
       "  3042.42,1423.18 3042.42,47.2441 \n",
       "  \"/>\n",
       "<polyline clip-path=\"url(#clip2502)\" style=\"stroke:#000000; stroke-width:2; stroke-opacity:0.1; fill:none\" points=\"\n",
       "  3297.46,1423.18 3297.46,47.2441 \n",
       "  \"/>\n",
       "<polyline clip-path=\"url(#clip2502)\" style=\"stroke:#000000; stroke-width:2; stroke-opacity:0.1; fill:none\" points=\"\n",
       "  3516.06,1423.18 3516.06,47.2441 \n",
       "  \"/>\n",
       "<polyline clip-path=\"url(#clip2502)\" style=\"stroke:#000000; stroke-width:2; stroke-opacity:0.1; fill:none\" points=\"\n",
       "  3771.1,1423.18 3771.1,47.2441 \n",
       "  \"/>\n",
       "<polyline clip-path=\"url(#clip2502)\" style=\"stroke:#000000; stroke-width:2; stroke-opacity:0.1; fill:none\" points=\"\n",
       "  281.07,1257.42 3872.76,1257.42 \n",
       "  \"/>\n",
       "<polyline clip-path=\"url(#clip2502)\" style=\"stroke:#000000; stroke-width:2; stroke-opacity:0.1; fill:none\" points=\"\n",
       "  281.07,906.119 3872.76,906.119 \n",
       "  \"/>\n",
       "<polyline clip-path=\"url(#clip2502)\" style=\"stroke:#000000; stroke-width:2; stroke-opacity:0.1; fill:none\" points=\"\n",
       "  281.07,554.82 3872.76,554.82 \n",
       "  \"/>\n",
       "<polyline clip-path=\"url(#clip2502)\" style=\"stroke:#000000; stroke-width:2; stroke-opacity:0.1; fill:none\" points=\"\n",
       "  281.07,203.52 3872.76,203.52 \n",
       "  \"/>\n",
       "<polyline clip-path=\"url(#clip2500)\" style=\"stroke:#000000; stroke-width:4; stroke-opacity:1; fill:none\" points=\"\n",
       "  281.07,1423.18 3872.76,1423.18 \n",
       "  \"/>\n",
       "<polyline clip-path=\"url(#clip2500)\" style=\"stroke:#000000; stroke-width:4; stroke-opacity:1; fill:none\" points=\"\n",
       "  281.07,1423.18 281.07,47.2441 \n",
       "  \"/>\n",
       "<polyline clip-path=\"url(#clip2500)\" style=\"stroke:#000000; stroke-width:4; stroke-opacity:1; fill:none\" points=\"\n",
       "  382.721,1423.18 382.721,1406.67 \n",
       "  \"/>\n",
       "<polyline clip-path=\"url(#clip2500)\" style=\"stroke:#000000; stroke-width:4; stroke-opacity:1; fill:none\" points=\"\n",
       "  637.761,1423.18 637.761,1406.67 \n",
       "  \"/>\n",
       "<polyline clip-path=\"url(#clip2500)\" style=\"stroke:#000000; stroke-width:4; stroke-opacity:1; fill:none\" points=\"\n",
       "  856.366,1423.18 856.366,1406.67 \n",
       "  \"/>\n",
       "<polyline clip-path=\"url(#clip2500)\" style=\"stroke:#000000; stroke-width:4; stroke-opacity:1; fill:none\" points=\"\n",
       "  1111.41,1423.18 1111.41,1406.67 \n",
       "  \"/>\n",
       "<polyline clip-path=\"url(#clip2500)\" style=\"stroke:#000000; stroke-width:4; stroke-opacity:1; fill:none\" points=\"\n",
       "  1366.45,1423.18 1366.45,1406.67 \n",
       "  \"/>\n",
       "<polyline clip-path=\"url(#clip2500)\" style=\"stroke:#000000; stroke-width:4; stroke-opacity:1; fill:none\" points=\"\n",
       "  1585.05,1423.18 1585.05,1406.67 \n",
       "  \"/>\n",
       "<polyline clip-path=\"url(#clip2500)\" style=\"stroke:#000000; stroke-width:4; stroke-opacity:1; fill:none\" points=\"\n",
       "  1840.09,1423.18 1840.09,1406.67 \n",
       "  \"/>\n",
       "<polyline clip-path=\"url(#clip2500)\" style=\"stroke:#000000; stroke-width:4; stroke-opacity:1; fill:none\" points=\"\n",
       "  2095.13,1423.18 2095.13,1406.67 \n",
       "  \"/>\n",
       "<polyline clip-path=\"url(#clip2500)\" style=\"stroke:#000000; stroke-width:4; stroke-opacity:1; fill:none\" points=\"\n",
       "  2313.74,1423.18 2313.74,1406.67 \n",
       "  \"/>\n",
       "<polyline clip-path=\"url(#clip2500)\" style=\"stroke:#000000; stroke-width:4; stroke-opacity:1; fill:none\" points=\"\n",
       "  2568.77,1423.18 2568.77,1406.67 \n",
       "  \"/>\n",
       "<polyline clip-path=\"url(#clip2500)\" style=\"stroke:#000000; stroke-width:4; stroke-opacity:1; fill:none\" points=\"\n",
       "  2787.38,1423.18 2787.38,1406.67 \n",
       "  \"/>\n",
       "<polyline clip-path=\"url(#clip2500)\" style=\"stroke:#000000; stroke-width:4; stroke-opacity:1; fill:none\" points=\"\n",
       "  3042.42,1423.18 3042.42,1406.67 \n",
       "  \"/>\n",
       "<polyline clip-path=\"url(#clip2500)\" style=\"stroke:#000000; stroke-width:4; stroke-opacity:1; fill:none\" points=\"\n",
       "  3297.46,1423.18 3297.46,1406.67 \n",
       "  \"/>\n",
       "<polyline clip-path=\"url(#clip2500)\" style=\"stroke:#000000; stroke-width:4; stroke-opacity:1; fill:none\" points=\"\n",
       "  3516.06,1423.18 3516.06,1406.67 \n",
       "  \"/>\n",
       "<polyline clip-path=\"url(#clip2500)\" style=\"stroke:#000000; stroke-width:4; stroke-opacity:1; fill:none\" points=\"\n",
       "  3771.1,1423.18 3771.1,1406.67 \n",
       "  \"/>\n",
       "<polyline clip-path=\"url(#clip2500)\" style=\"stroke:#000000; stroke-width:4; stroke-opacity:1; fill:none\" points=\"\n",
       "  281.07,1257.42 324.17,1257.42 \n",
       "  \"/>\n",
       "<polyline clip-path=\"url(#clip2500)\" style=\"stroke:#000000; stroke-width:4; stroke-opacity:1; fill:none\" points=\"\n",
       "  281.07,906.119 324.17,906.119 \n",
       "  \"/>\n",
       "<polyline clip-path=\"url(#clip2500)\" style=\"stroke:#000000; stroke-width:4; stroke-opacity:1; fill:none\" points=\"\n",
       "  281.07,554.82 324.17,554.82 \n",
       "  \"/>\n",
       "<polyline clip-path=\"url(#clip2500)\" style=\"stroke:#000000; stroke-width:4; stroke-opacity:1; fill:none\" points=\"\n",
       "  281.07,203.52 324.17,203.52 \n",
       "  \"/>\n",
       "<path clip-path=\"url(#clip2500)\" d=\"M 0 0 M288.173 1450.83 L288.173 1455.39 Q285.511 1454.11 283.15 1453.49 Q280.789 1452.86 278.59 1452.86 Q274.77 1452.86 272.687 1454.34 Q270.627 1455.83 270.627 1458.56 Q270.627 1460.85 271.993 1462.03 Q273.381 1463.19 277.224 1463.9 L280.048 1464.48 Q285.28 1465.48 287.756 1468 Q290.256 1470.5 290.256 1474.71 Q290.256 1479.74 286.877 1482.33 Q283.52 1484.92 277.016 1484.92 Q274.562 1484.92 271.784 1484.37 Q269.03 1483.81 266.067 1482.72 L266.067 1477.91 Q268.914 1479.51 271.645 1480.32 Q274.377 1481.13 277.016 1481.13 Q281.02 1481.13 283.196 1479.55 Q285.372 1477.98 285.372 1475.06 Q285.372 1472.52 283.798 1471.08 Q282.247 1469.65 278.682 1468.93 L275.835 1468.37 Q270.604 1467.33 268.266 1465.11 Q265.928 1462.89 265.928 1458.93 Q265.928 1454.34 269.145 1451.71 Q272.386 1449.07 278.057 1449.07 Q280.488 1449.07 283.011 1449.51 Q285.534 1449.95 288.173 1450.83 Z\" fill=\"#000000\" fill-rule=\"evenodd\" fill-opacity=\"1\" /><path clip-path=\"url(#clip2500)\" d=\"M 0 0 M316.9 1470.22 L316.9 1472.31 L297.317 1472.31 Q297.594 1476.71 299.955 1479.02 Q302.34 1481.31 306.576 1481.31 Q309.029 1481.31 311.321 1480.71 Q313.636 1480.11 315.904 1478.9 L315.904 1482.93 Q313.613 1483.9 311.205 1484.41 Q308.798 1484.92 306.321 1484.92 Q300.117 1484.92 296.483 1481.31 Q292.872 1477.7 292.872 1471.54 Q292.872 1465.18 296.298 1461.45 Q299.747 1457.7 305.58 1457.7 Q310.812 1457.7 313.844 1461.08 Q316.9 1464.44 316.9 1470.22 M312.64 1468.97 Q312.594 1465.48 310.673 1463.4 Q308.775 1461.31 305.627 1461.31 Q302.062 1461.31 299.909 1463.33 Q297.779 1465.34 297.455 1469 L312.64 1468.97 Z\" fill=\"#000000\" fill-rule=\"evenodd\" fill-opacity=\"1\" /><path clip-path=\"url(#clip2500)\" d=\"M 0 0 M325.488 1480.36 L325.488 1494.11 L321.205 1494.11 L321.205 1458.33 L325.488 1458.33 L325.488 1462.26 Q326.83 1459.95 328.867 1458.84 Q330.927 1457.7 333.775 1457.7 Q338.497 1457.7 341.437 1461.45 Q344.4 1465.2 344.4 1471.31 Q344.4 1477.42 341.437 1481.17 Q338.497 1484.92 333.775 1484.92 Q330.927 1484.92 328.867 1483.81 Q326.83 1482.68 325.488 1480.36 M339.978 1471.31 Q339.978 1466.61 338.034 1463.95 Q336.113 1461.27 332.733 1461.27 Q329.353 1461.27 327.409 1463.95 Q325.488 1466.61 325.488 1471.31 Q325.488 1476.01 327.409 1478.7 Q329.353 1481.36 332.733 1481.36 Q336.113 1481.36 338.034 1478.7 Q339.978 1476.01 339.978 1471.31 Z\" fill=\"#000000\" fill-rule=\"evenodd\" fill-opacity=\"1\" /><path clip-path=\"url(#clip2500)\" d=\"M 0 0 M349.469 1478.37 L354.353 1478.37 L354.353 1484.25 L349.469 1484.25 L349.469 1478.37 Z\" fill=\"#000000\" fill-rule=\"evenodd\" fill-opacity=\"1\" /><path clip-path=\"url(#clip2500)\" d=\"M 0 0 M375.302 1480.32 L382.941 1480.32 L382.941 1453.95 L374.631 1455.62 L374.631 1451.36 L382.895 1449.69 L387.571 1449.69 L387.571 1480.32 L395.209 1480.32 L395.209 1484.25 L375.302 1484.25 L375.302 1480.32 Z\" fill=\"#000000\" fill-rule=\"evenodd\" fill-opacity=\"1\" /><path clip-path=\"url(#clip2500)\" d=\"M 0 0 M414.446 1465.62 Q417.802 1466.34 419.677 1468.6 Q421.575 1470.87 421.575 1474.21 Q421.575 1479.32 418.057 1482.12 Q414.538 1484.92 408.057 1484.92 Q405.881 1484.92 403.566 1484.48 Q401.274 1484.07 398.821 1483.21 L398.821 1478.7 Q400.765 1479.83 403.08 1480.41 Q405.395 1480.99 407.918 1480.99 Q412.316 1480.99 414.608 1479.25 Q416.922 1477.52 416.922 1474.21 Q416.922 1471.15 414.77 1469.44 Q412.64 1467.7 408.821 1467.7 L404.793 1467.7 L404.793 1463.86 L409.006 1463.86 Q412.455 1463.86 414.283 1462.49 Q416.112 1461.1 416.112 1458.51 Q416.112 1455.85 414.214 1454.44 Q412.339 1453 408.821 1453 Q406.899 1453 404.7 1453.42 Q402.501 1453.84 399.862 1454.71 L399.862 1450.55 Q402.524 1449.81 404.839 1449.44 Q407.177 1449.07 409.237 1449.07 Q414.561 1449.07 417.663 1451.5 Q420.765 1453.9 420.765 1458.03 Q420.765 1460.9 419.121 1462.89 Q417.478 1464.85 414.446 1465.62 Z\" fill=\"#000000\" fill-rule=\"evenodd\" fill-opacity=\"1\" /><path clip-path=\"url(#clip2500)\" d=\"M 0 0 M427.131 1478.37 L432.015 1478.37 L432.015 1482.35 L428.219 1489.76 L425.232 1489.76 L427.131 1482.35 L427.131 1478.37 Z\" fill=\"#000000\" fill-rule=\"evenodd\" fill-opacity=\"1\" /><path clip-path=\"url(#clip2500)\" d=\"M 0 0 M456.181 1480.32 L472.501 1480.32 L472.501 1484.25 L450.556 1484.25 L450.556 1480.32 Q453.218 1477.56 457.802 1472.93 Q462.408 1468.28 463.589 1466.94 Q465.834 1464.41 466.714 1462.68 Q467.617 1460.92 467.617 1459.23 Q467.617 1456.47 465.672 1454.74 Q463.751 1453 460.649 1453 Q458.45 1453 455.996 1453.77 Q453.566 1454.53 450.788 1456.08 L450.788 1451.36 Q453.612 1450.22 456.066 1449.65 Q458.519 1449.07 460.556 1449.07 Q465.927 1449.07 469.121 1451.75 Q472.316 1454.44 472.316 1458.93 Q472.316 1461.06 471.505 1462.98 Q470.718 1464.88 468.612 1467.47 Q468.033 1468.14 464.931 1471.36 Q461.83 1474.55 456.181 1480.32 Z\" fill=\"#000000\" fill-rule=\"evenodd\" fill-opacity=\"1\" /><path clip-path=\"url(#clip2500)\" d=\"M 0 0 M487.57 1452.77 Q483.959 1452.77 482.13 1456.34 Q480.325 1459.88 480.325 1467.01 Q480.325 1474.11 482.13 1477.68 Q483.959 1481.22 487.57 1481.22 Q491.204 1481.22 493.01 1477.68 Q494.839 1474.11 494.839 1467.01 Q494.839 1459.88 493.01 1456.34 Q491.204 1452.77 487.57 1452.77 M487.57 1449.07 Q493.38 1449.07 496.436 1453.67 Q499.514 1458.26 499.514 1467.01 Q499.514 1475.73 496.436 1480.34 Q493.38 1484.92 487.57 1484.92 Q481.76 1484.92 478.681 1480.34 Q475.626 1475.73 475.626 1467.01 Q475.626 1458.26 478.681 1453.67 Q481.76 1449.07 487.57 1449.07 Z\" fill=\"#000000\" fill-rule=\"evenodd\" fill-opacity=\"1\" /><path clip-path=\"url(#clip2500)\" d=\"M 0 0 M543.074 1450.83 L543.074 1455.39 Q540.412 1454.11 538.051 1453.49 Q535.69 1452.86 533.49 1452.86 Q529.671 1452.86 527.588 1454.34 Q525.528 1455.83 525.528 1458.56 Q525.528 1460.85 526.893 1462.03 Q528.282 1463.19 532.125 1463.9 L534.949 1464.48 Q540.18 1465.48 542.657 1468 Q545.157 1470.5 545.157 1474.71 Q545.157 1479.74 541.777 1482.33 Q538.421 1484.92 531.916 1484.92 Q529.463 1484.92 526.685 1484.37 Q523.93 1483.81 520.967 1482.72 L520.967 1477.91 Q523.815 1479.51 526.546 1480.32 Q529.278 1481.13 531.916 1481.13 Q535.921 1481.13 538.097 1479.55 Q540.273 1477.98 540.273 1475.06 Q540.273 1472.52 538.699 1471.08 Q537.148 1469.65 533.583 1468.93 L530.736 1468.37 Q525.504 1467.33 523.166 1465.11 Q520.828 1462.89 520.828 1458.93 Q520.828 1454.34 524.046 1451.71 Q527.287 1449.07 532.958 1449.07 Q535.389 1449.07 537.912 1449.51 Q540.435 1449.95 543.074 1450.83 Z\" fill=\"#000000\" fill-rule=\"evenodd\" fill-opacity=\"1\" /><path clip-path=\"url(#clip2500)\" d=\"M 0 0 M571.8 1470.22 L571.8 1472.31 L552.217 1472.31 Q552.495 1476.71 554.856 1479.02 Q557.24 1481.31 561.476 1481.31 Q563.93 1481.31 566.222 1480.71 Q568.537 1480.11 570.805 1478.9 L570.805 1482.93 Q568.513 1483.9 566.106 1484.41 Q563.699 1484.92 561.222 1484.92 Q555.018 1484.92 551.384 1481.31 Q547.773 1477.7 547.773 1471.54 Q547.773 1465.18 551.199 1461.45 Q554.648 1457.7 560.481 1457.7 Q565.713 1457.7 568.745 1461.08 Q571.8 1464.44 571.8 1470.22 M567.541 1468.97 Q567.495 1465.48 565.574 1463.4 Q563.675 1461.31 560.527 1461.31 Q556.963 1461.31 554.81 1463.33 Q552.68 1465.34 552.356 1469 L567.541 1468.97 Z\" fill=\"#000000\" fill-rule=\"evenodd\" fill-opacity=\"1\" /><path clip-path=\"url(#clip2500)\" d=\"M 0 0 M580.388 1480.36 L580.388 1494.11 L576.106 1494.11 L576.106 1458.33 L580.388 1458.33 L580.388 1462.26 Q581.731 1459.95 583.768 1458.84 Q585.828 1457.7 588.675 1457.7 Q593.398 1457.7 596.337 1461.45 Q599.3 1465.2 599.3 1471.31 Q599.3 1477.42 596.337 1481.17 Q593.398 1484.92 588.675 1484.92 Q585.828 1484.92 583.768 1483.81 Q581.731 1482.68 580.388 1480.36 M594.879 1471.31 Q594.879 1466.61 592.935 1463.95 Q591.013 1461.27 587.634 1461.27 Q584.254 1461.27 582.31 1463.95 Q580.388 1466.61 580.388 1471.31 Q580.388 1476.01 582.31 1478.7 Q584.254 1481.36 587.634 1481.36 Q591.013 1481.36 592.935 1478.7 Q594.879 1476.01 594.879 1471.31 Z\" fill=\"#000000\" fill-rule=\"evenodd\" fill-opacity=\"1\" /><path clip-path=\"url(#clip2500)\" d=\"M 0 0 M604.37 1478.37 L609.254 1478.37 L609.254 1484.25 L604.37 1484.25 L604.37 1478.37 Z\" fill=\"#000000\" fill-rule=\"evenodd\" fill-opacity=\"1\" /><path clip-path=\"url(#clip2500)\" d=\"M 0 0 M633.42 1480.32 L649.74 1480.32 L649.74 1484.25 L627.796 1484.25 L627.796 1480.32 Q630.458 1477.56 635.041 1472.93 Q639.647 1468.28 640.828 1466.94 Q643.073 1464.41 643.953 1462.68 Q644.856 1460.92 644.856 1459.23 Q644.856 1456.47 642.911 1454.74 Q640.99 1453 637.888 1453 Q635.689 1453 633.235 1453.77 Q630.805 1454.53 628.027 1456.08 L628.027 1451.36 Q630.851 1450.22 633.305 1449.65 Q635.758 1449.07 637.795 1449.07 Q643.166 1449.07 646.36 1451.75 Q649.555 1454.44 649.555 1458.93 Q649.555 1461.06 648.744 1462.98 Q647.957 1464.88 645.851 1467.47 Q645.272 1468.14 642.17 1471.36 Q639.069 1474.55 633.42 1480.32 Z\" fill=\"#000000\" fill-rule=\"evenodd\" fill-opacity=\"1\" /><path clip-path=\"url(#clip2500)\" d=\"M 0 0 M664.809 1452.77 Q661.198 1452.77 659.369 1456.34 Q657.564 1459.88 657.564 1467.01 Q657.564 1474.11 659.369 1477.68 Q661.198 1481.22 664.809 1481.22 Q668.443 1481.22 670.249 1477.68 Q672.078 1474.11 672.078 1467.01 Q672.078 1459.88 670.249 1456.34 Q668.443 1452.77 664.809 1452.77 M664.809 1449.07 Q670.619 1449.07 673.675 1453.67 Q676.754 1458.26 676.754 1467.01 Q676.754 1475.73 673.675 1480.34 Q670.619 1484.92 664.809 1484.92 Q658.999 1484.92 655.92 1480.34 Q652.865 1475.73 652.865 1467.01 Q652.865 1458.26 655.92 1453.67 Q658.999 1449.07 664.809 1449.07 Z\" fill=\"#000000\" fill-rule=\"evenodd\" fill-opacity=\"1\" /><path clip-path=\"url(#clip2500)\" d=\"M 0 0 M682.309 1478.37 L687.193 1478.37 L687.193 1482.35 L683.397 1489.76 L680.411 1489.76 L682.309 1482.35 L682.309 1478.37 Z\" fill=\"#000000\" fill-rule=\"evenodd\" fill-opacity=\"1\" /><path clip-path=\"url(#clip2500)\" d=\"M 0 0 M711.36 1480.32 L727.679 1480.32 L727.679 1484.25 L705.735 1484.25 L705.735 1480.32 Q708.397 1477.56 712.98 1472.93 Q717.587 1468.28 718.767 1466.94 Q721.013 1464.41 721.892 1462.68 Q722.795 1460.92 722.795 1459.23 Q722.795 1456.47 720.851 1454.74 Q718.929 1453 715.827 1453 Q713.628 1453 711.175 1453.77 Q708.744 1454.53 705.966 1456.08 L705.966 1451.36 Q708.79 1450.22 711.244 1449.65 Q713.698 1449.07 715.735 1449.07 Q721.105 1449.07 724.3 1451.75 Q727.494 1454.44 727.494 1458.93 Q727.494 1461.06 726.684 1462.98 Q725.897 1464.88 723.79 1467.47 Q723.212 1468.14 720.11 1471.36 Q717.008 1474.55 711.36 1480.32 Z\" fill=\"#000000\" fill-rule=\"evenodd\" fill-opacity=\"1\" /><path clip-path=\"url(#clip2500)\" d=\"M 0 0 M742.749 1452.77 Q739.138 1452.77 737.309 1456.34 Q735.503 1459.88 735.503 1467.01 Q735.503 1474.11 737.309 1477.68 Q739.138 1481.22 742.749 1481.22 Q746.383 1481.22 748.188 1477.68 Q750.017 1474.11 750.017 1467.01 Q750.017 1459.88 748.188 1456.34 Q746.383 1452.77 742.749 1452.77 M742.749 1449.07 Q748.559 1449.07 751.614 1453.67 Q754.693 1458.26 754.693 1467.01 Q754.693 1475.73 751.614 1480.34 Q748.559 1484.92 742.749 1484.92 Q736.938 1484.92 733.86 1480.34 Q730.804 1475.73 730.804 1467.01 Q730.804 1458.26 733.86 1453.67 Q736.938 1449.07 742.749 1449.07 Z\" fill=\"#000000\" fill-rule=\"evenodd\" fill-opacity=\"1\" /><path clip-path=\"url(#clip2500)\" d=\"M 0 0 M761.598 1450.83 L761.598 1455.39 Q758.936 1454.11 756.575 1453.49 Q754.214 1452.86 752.015 1452.86 Q748.195 1452.86 746.112 1454.34 Q744.052 1455.83 744.052 1458.56 Q744.052 1460.85 745.418 1462.03 Q746.807 1463.19 750.649 1463.9 L753.473 1464.48 Q758.705 1465.48 761.181 1468 Q763.681 1470.5 763.681 1474.71 Q763.681 1479.74 760.302 1482.33 Q756.945 1484.92 750.441 1484.92 Q747.987 1484.92 745.209 1484.37 Q742.455 1483.81 739.492 1482.72 L739.492 1477.91 Q742.339 1479.51 745.07 1480.32 Q747.802 1481.13 750.441 1481.13 Q754.445 1481.13 756.621 1479.55 Q758.797 1477.98 758.797 1475.06 Q758.797 1472.52 757.223 1471.08 Q755.672 1469.65 752.107 1468.93 L749.26 1468.37 Q744.029 1467.33 741.691 1465.11 Q739.353 1462.89 739.353 1458.93 Q739.353 1454.34 742.57 1451.71 Q745.811 1449.07 751.482 1449.07 Q753.913 1449.07 756.436 1449.51 Q758.959 1449.95 761.598 1450.83 Z\" fill=\"#000000\" fill-rule=\"evenodd\" fill-opacity=\"1\" /><path clip-path=\"url(#clip2500)\" d=\"M 0 0 M790.325 1470.22 L790.325 1472.31 L770.742 1472.31 Q771.019 1476.71 773.38 1479.02 Q775.765 1481.31 780.001 1481.31 Q782.454 1481.31 784.746 1480.71 Q787.061 1480.11 789.329 1478.9 L789.329 1482.93 Q787.038 1483.9 784.63 1484.41 Q782.223 1484.92 779.746 1484.92 Q773.542 1484.92 769.908 1481.31 Q766.297 1477.7 766.297 1471.54 Q766.297 1465.18 769.723 1461.45 Q773.172 1457.7 779.005 1457.7 Q784.237 1457.7 787.269 1461.08 Q790.325 1464.44 790.325 1470.22 M786.066 1468.97 Q786.019 1465.48 784.098 1463.4 Q782.2 1461.31 779.052 1461.31 Q775.487 1461.31 773.334 1463.33 Q771.205 1465.34 770.88 1469 L786.066 1468.97 Z\" fill=\"#000000\" fill-rule=\"evenodd\" fill-opacity=\"1\" /><path clip-path=\"url(#clip2500)\" d=\"M 0 0 M798.913 1480.36 L798.913 1494.11 L794.63 1494.11 L794.63 1458.33 L798.913 1458.33 L798.913 1462.26 Q800.255 1459.95 802.292 1458.84 Q804.353 1457.7 807.2 1457.7 Q811.922 1457.7 814.862 1461.45 Q817.825 1465.2 817.825 1471.31 Q817.825 1477.42 814.862 1481.17 Q811.922 1484.92 807.2 1484.92 Q804.353 1484.92 802.292 1483.81 Q800.255 1482.68 798.913 1480.36 M813.403 1471.31 Q813.403 1466.61 811.459 1463.95 Q809.538 1461.27 806.158 1461.27 Q802.778 1461.27 800.834 1463.95 Q798.913 1466.61 798.913 1471.31 Q798.913 1476.01 800.834 1478.7 Q802.778 1481.36 806.158 1481.36 Q809.538 1481.36 811.459 1478.7 Q813.403 1476.01 813.403 1471.31 Z\" fill=\"#000000\" fill-rule=\"evenodd\" fill-opacity=\"1\" /><path clip-path=\"url(#clip2500)\" d=\"M 0 0 M822.894 1478.37 L827.778 1478.37 L827.778 1484.25 L822.894 1484.25 L822.894 1478.37 Z\" fill=\"#000000\" fill-rule=\"evenodd\" fill-opacity=\"1\" /><path clip-path=\"url(#clip2500)\" d=\"M 0 0 M851.945 1480.32 L868.264 1480.32 L868.264 1484.25 L846.32 1484.25 L846.32 1480.32 Q848.982 1477.56 853.565 1472.93 Q858.172 1468.28 859.352 1466.94 Q861.598 1464.41 862.477 1462.68 Q863.38 1460.92 863.38 1459.23 Q863.38 1456.47 861.436 1454.74 Q859.514 1453 856.412 1453 Q854.213 1453 851.76 1453.77 Q849.329 1454.53 846.551 1456.08 L846.551 1451.36 Q849.375 1450.22 851.829 1449.65 Q854.283 1449.07 856.32 1449.07 Q861.69 1449.07 864.885 1451.75 Q868.079 1454.44 868.079 1458.93 Q868.079 1461.06 867.269 1462.98 Q866.482 1464.88 864.375 1467.47 Q863.797 1468.14 860.695 1471.36 Q857.593 1474.55 851.945 1480.32 Z\" fill=\"#000000\" fill-rule=\"evenodd\" fill-opacity=\"1\" /><path clip-path=\"url(#clip2500)\" d=\"M 0 0 M883.912 1465.11 Q880.764 1465.11 878.912 1467.26 Q877.084 1469.41 877.084 1473.16 Q877.084 1476.89 878.912 1479.07 Q880.764 1481.22 883.912 1481.22 Q887.06 1481.22 888.889 1479.07 Q890.741 1476.89 890.741 1473.16 Q890.741 1469.41 888.889 1467.26 Q887.06 1465.11 883.912 1465.11 M893.195 1450.46 L893.195 1454.71 Q891.435 1453.88 889.63 1453.44 Q887.847 1453 886.088 1453 Q881.459 1453 879.005 1456.13 Q876.574 1459.25 876.227 1465.57 Q877.593 1463.56 879.653 1462.49 Q881.713 1461.4 884.19 1461.4 Q889.398 1461.4 892.408 1464.58 Q895.44 1467.72 895.44 1473.16 Q895.44 1478.49 892.292 1481.71 Q889.144 1484.92 883.912 1484.92 Q877.917 1484.92 874.746 1480.34 Q871.574 1475.73 871.574 1467.01 Q871.574 1458.81 875.463 1453.95 Q879.352 1449.07 885.903 1449.07 Q887.662 1449.07 889.445 1449.41 Q891.25 1449.76 893.195 1450.46 Z\" fill=\"#000000\" fill-rule=\"evenodd\" fill-opacity=\"1\" /><path clip-path=\"url(#clip2500)\" d=\"M 0 0 M900.996 1478.37 L905.88 1478.37 L905.88 1482.35 L902.083 1489.76 L899.097 1489.76 L900.996 1482.35 L900.996 1478.37 Z\" fill=\"#000000\" fill-rule=\"evenodd\" fill-opacity=\"1\" /><path clip-path=\"url(#clip2500)\" d=\"M 0 0 M930.046 1480.32 L946.366 1480.32 L946.366 1484.25 L924.421 1484.25 L924.421 1480.32 Q927.083 1477.56 931.667 1472.93 Q936.273 1468.28 937.454 1466.94 Q939.699 1464.41 940.579 1462.68 Q941.481 1460.92 941.481 1459.23 Q941.481 1456.47 939.537 1454.74 Q937.616 1453 934.514 1453 Q932.315 1453 929.861 1453.77 Q927.431 1454.53 924.653 1456.08 L924.653 1451.36 Q927.477 1450.22 929.931 1449.65 Q932.384 1449.07 934.421 1449.07 Q939.792 1449.07 942.986 1451.75 Q946.18 1454.44 946.18 1458.93 Q946.18 1461.06 945.37 1462.98 Q944.583 1464.88 942.477 1467.47 Q941.898 1468.14 938.796 1471.36 Q935.694 1474.55 930.046 1480.32 Z\" fill=\"#000000\" fill-rule=\"evenodd\" fill-opacity=\"1\" /><path clip-path=\"url(#clip2500)\" d=\"M 0 0 M961.435 1452.77 Q957.824 1452.77 955.995 1456.34 Q954.19 1459.88 954.19 1467.01 Q954.19 1474.11 955.995 1477.68 Q957.824 1481.22 961.435 1481.22 Q965.069 1481.22 966.875 1477.68 Q968.703 1474.11 968.703 1467.01 Q968.703 1459.88 966.875 1456.34 Q965.069 1452.77 961.435 1452.77 M961.435 1449.07 Q967.245 1449.07 970.301 1453.67 Q973.379 1458.26 973.379 1467.01 Q973.379 1475.73 970.301 1480.34 Q967.245 1484.92 961.435 1484.92 Q955.625 1484.92 952.546 1480.34 Q949.491 1475.73 949.491 1467.01 Q949.491 1458.26 952.546 1453.67 Q955.625 1449.07 961.435 1449.07 Z\" fill=\"#000000\" fill-rule=\"evenodd\" fill-opacity=\"1\" /><path clip-path=\"url(#clip2500)\" d=\"M 0 0 M1026.48 1452.86 Q1021.38 1452.86 1018.37 1456.66 Q1015.39 1460.46 1015.39 1467.01 Q1015.39 1473.53 1018.37 1477.33 Q1021.38 1481.13 1026.48 1481.13 Q1031.57 1481.13 1034.53 1477.33 Q1037.52 1473.53 1037.52 1467.01 Q1037.52 1460.46 1034.53 1456.66 Q1031.57 1452.86 1026.48 1452.86 M1026.48 1449.07 Q1033.74 1449.07 1038.1 1453.95 Q1042.45 1458.81 1042.45 1467.01 Q1042.45 1475.18 1038.1 1480.06 Q1033.74 1484.92 1026.48 1484.92 Q1019.18 1484.92 1014.81 1480.06 Q1010.46 1475.2 1010.46 1467.01 Q1010.46 1458.81 1014.81 1453.95 Q1019.18 1449.07 1026.48 1449.07 Z\" fill=\"#000000\" fill-rule=\"evenodd\" fill-opacity=\"1\" /><path clip-path=\"url(#clip2500)\" d=\"M 0 0 M1065.57 1459.32 L1065.57 1463.3 Q1063.77 1462.31 1061.94 1461.82 Q1060.13 1461.31 1058.28 1461.31 Q1054.14 1461.31 1051.85 1463.95 Q1049.55 1466.57 1049.55 1471.31 Q1049.55 1476.06 1051.85 1478.7 Q1054.14 1481.31 1058.28 1481.31 Q1060.13 1481.31 1061.94 1480.83 Q1063.77 1480.32 1065.57 1479.32 L1065.57 1483.26 Q1063.79 1484.09 1061.87 1484.51 Q1059.97 1484.92 1057.82 1484.92 Q1051.96 1484.92 1048.51 1481.24 Q1045.06 1477.56 1045.06 1471.31 Q1045.06 1464.97 1048.54 1461.34 Q1052.03 1457.7 1058.1 1457.7 Q1060.06 1457.7 1061.94 1458.12 Q1063.81 1458.51 1065.57 1459.32 Z\" fill=\"#000000\" fill-rule=\"evenodd\" fill-opacity=\"1\" /><path clip-path=\"url(#clip2500)\" d=\"M 0 0 M1074.25 1450.96 L1074.25 1458.33 L1083.03 1458.33 L1083.03 1461.64 L1074.25 1461.64 L1074.25 1475.71 Q1074.25 1478.88 1075.11 1479.78 Q1075.99 1480.69 1078.65 1480.69 L1083.03 1480.69 L1083.03 1484.25 L1078.65 1484.25 Q1073.72 1484.25 1071.85 1482.42 Q1069.97 1480.57 1069.97 1475.71 L1069.97 1461.64 L1066.85 1461.64 L1066.85 1458.33 L1069.97 1458.33 L1069.97 1450.96 L1074.25 1450.96 Z\" fill=\"#000000\" fill-rule=\"evenodd\" fill-opacity=\"1\" /><path clip-path=\"url(#clip2500)\" d=\"M 0 0 M1088.1 1478.37 L1092.98 1478.37 L1092.98 1484.25 L1088.1 1484.25 L1088.1 1478.37 Z\" fill=\"#000000\" fill-rule=\"evenodd\" fill-opacity=\"1\" /><path clip-path=\"url(#clip2500)\" d=\"M 0 0 M1127.29 1465.62 Q1130.64 1466.34 1132.52 1468.6 Q1134.41 1470.87 1134.41 1474.21 Q1134.41 1479.32 1130.9 1482.12 Q1127.38 1484.92 1120.9 1484.92 Q1118.72 1484.92 1116.41 1484.48 Q1114.11 1484.07 1111.66 1483.21 L1111.66 1478.7 Q1113.6 1479.83 1115.92 1480.41 Q1118.23 1480.99 1120.76 1480.99 Q1125.16 1480.99 1127.45 1479.25 Q1129.76 1477.52 1129.76 1474.21 Q1129.76 1471.15 1127.61 1469.44 Q1125.48 1467.7 1121.66 1467.7 L1117.63 1467.7 L1117.63 1463.86 L1121.85 1463.86 Q1125.29 1463.86 1127.12 1462.49 Q1128.95 1461.1 1128.95 1458.51 Q1128.95 1455.85 1127.05 1454.44 Q1125.18 1453 1121.66 1453 Q1119.74 1453 1117.54 1453.42 Q1115.34 1453.84 1112.7 1454.71 L1112.7 1450.55 Q1115.36 1449.81 1117.68 1449.44 Q1120.02 1449.07 1122.08 1449.07 Q1127.4 1449.07 1130.5 1451.5 Q1133.6 1453.9 1133.6 1458.03 Q1133.6 1460.9 1131.96 1462.89 Q1130.32 1464.85 1127.29 1465.62 Z\" fill=\"#000000\" fill-rule=\"evenodd\" fill-opacity=\"1\" /><path clip-path=\"url(#clip2500)\" d=\"M 0 0 M1139.97 1478.37 L1144.85 1478.37 L1144.85 1482.35 L1141.06 1489.76 L1138.07 1489.76 L1139.97 1482.35 L1139.97 1478.37 Z\" fill=\"#000000\" fill-rule=\"evenodd\" fill-opacity=\"1\" /><path clip-path=\"url(#clip2500)\" d=\"M 0 0 M1169.02 1480.32 L1185.34 1480.32 L1185.34 1484.25 L1163.4 1484.25 L1163.4 1480.32 Q1166.06 1477.56 1170.64 1472.93 Q1175.25 1468.28 1176.43 1466.94 Q1178.67 1464.41 1179.55 1462.68 Q1180.46 1460.92 1180.46 1459.23 Q1180.46 1456.47 1178.51 1454.74 Q1176.59 1453 1173.49 1453 Q1171.29 1453 1168.84 1453.77 Q1166.41 1454.53 1163.63 1456.08 L1163.63 1451.36 Q1166.45 1450.22 1168.91 1449.65 Q1171.36 1449.07 1173.4 1449.07 Q1178.77 1449.07 1181.96 1451.75 Q1185.16 1454.44 1185.16 1458.93 Q1185.16 1461.06 1184.35 1462.98 Q1183.56 1464.88 1181.45 1467.47 Q1180.87 1468.14 1177.77 1471.36 Q1174.67 1474.55 1169.02 1480.32 Z\" fill=\"#000000\" fill-rule=\"evenodd\" fill-opacity=\"1\" /><path clip-path=\"url(#clip2500)\" d=\"M 0 0 M1200.41 1452.77 Q1196.8 1452.77 1194.97 1456.34 Q1193.16 1459.88 1193.16 1467.01 Q1193.16 1474.11 1194.97 1477.68 Q1196.8 1481.22 1200.41 1481.22 Q1204.04 1481.22 1205.85 1477.68 Q1207.68 1474.11 1207.68 1467.01 Q1207.68 1459.88 1205.85 1456.34 Q1204.04 1452.77 1200.41 1452.77 M1200.41 1449.07 Q1206.22 1449.07 1209.28 1453.67 Q1212.35 1458.26 1212.35 1467.01 Q1212.35 1475.73 1209.28 1480.34 Q1206.22 1484.92 1200.41 1484.92 Q1194.6 1484.92 1191.52 1480.34 Q1188.47 1475.73 1188.47 1467.01 Q1188.47 1458.26 1191.52 1453.67 Q1194.6 1449.07 1200.41 1449.07 Z\" fill=\"#000000\" fill-rule=\"evenodd\" fill-opacity=\"1\" /><path clip-path=\"url(#clip2500)\" d=\"M 0 0 M1268.3 1452.86 Q1263.21 1452.86 1260.2 1456.66 Q1257.21 1460.46 1257.21 1467.01 Q1257.21 1473.53 1260.2 1477.33 Q1263.21 1481.13 1268.3 1481.13 Q1273.39 1481.13 1276.35 1477.33 Q1279.34 1473.53 1279.34 1467.01 Q1279.34 1460.46 1276.35 1456.66 Q1273.39 1452.86 1268.3 1452.86 M1268.3 1449.07 Q1275.57 1449.07 1279.92 1453.95 Q1284.27 1458.81 1284.27 1467.01 Q1284.27 1475.18 1279.92 1480.06 Q1275.57 1484.92 1268.3 1484.92 Q1261.01 1484.92 1256.63 1480.06 Q1252.28 1475.2 1252.28 1467.01 Q1252.28 1458.81 1256.63 1453.95 Q1261.01 1449.07 1268.3 1449.07 Z\" fill=\"#000000\" fill-rule=\"evenodd\" fill-opacity=\"1\" /><path clip-path=\"url(#clip2500)\" d=\"M 0 0 M1307.39 1459.32 L1307.39 1463.3 Q1305.59 1462.31 1303.76 1461.82 Q1301.95 1461.31 1300.1 1461.31 Q1295.96 1461.31 1293.67 1463.95 Q1291.38 1466.57 1291.38 1471.31 Q1291.38 1476.06 1293.67 1478.7 Q1295.96 1481.31 1300.1 1481.31 Q1301.95 1481.31 1303.76 1480.83 Q1305.59 1480.32 1307.39 1479.32 L1307.39 1483.26 Q1305.61 1484.09 1303.69 1484.51 Q1301.79 1484.92 1299.64 1484.92 Q1293.78 1484.92 1290.33 1481.24 Q1286.89 1477.56 1286.89 1471.31 Q1286.89 1464.97 1290.36 1461.34 Q1293.85 1457.7 1299.92 1457.7 Q1301.89 1457.7 1303.76 1458.12 Q1305.64 1458.51 1307.39 1459.32 Z\" fill=\"#000000\" fill-rule=\"evenodd\" fill-opacity=\"1\" /><path clip-path=\"url(#clip2500)\" d=\"M 0 0 M1316.08 1450.96 L1316.08 1458.33 L1324.85 1458.33 L1324.85 1461.64 L1316.08 1461.64 L1316.08 1475.71 Q1316.08 1478.88 1316.93 1479.78 Q1317.81 1480.69 1320.47 1480.69 L1324.85 1480.69 L1324.85 1484.25 L1320.47 1484.25 Q1315.54 1484.25 1313.67 1482.42 Q1311.79 1480.57 1311.79 1475.71 L1311.79 1461.64 L1308.67 1461.64 L1308.67 1458.33 L1311.79 1458.33 L1311.79 1450.96 L1316.08 1450.96 Z\" fill=\"#000000\" fill-rule=\"evenodd\" fill-opacity=\"1\" /><path clip-path=\"url(#clip2500)\" d=\"M 0 0 M1329.92 1478.37 L1334.8 1478.37 L1334.8 1484.25 L1329.92 1484.25 L1329.92 1478.37 Z\" fill=\"#000000\" fill-rule=\"evenodd\" fill-opacity=\"1\" /><path clip-path=\"url(#clip2500)\" d=\"M 0 0 M1355.75 1480.32 L1363.39 1480.32 L1363.39 1453.95 L1355.08 1455.62 L1355.08 1451.36 L1363.34 1449.69 L1368.02 1449.69 L1368.02 1480.32 L1375.66 1480.32 L1375.66 1484.25 L1355.75 1484.25 L1355.75 1480.32 Z\" fill=\"#000000\" fill-rule=\"evenodd\" fill-opacity=\"1\" /><path clip-path=\"url(#clip2500)\" d=\"M 0 0 M1390.73 1452.77 Q1387.12 1452.77 1385.29 1456.34 Q1383.48 1459.88 1383.48 1467.01 Q1383.48 1474.11 1385.29 1477.68 Q1387.12 1481.22 1390.73 1481.22 Q1394.36 1481.22 1396.17 1477.68 Q1398 1474.11 1398 1467.01 Q1398 1459.88 1396.17 1456.34 Q1394.36 1452.77 1390.73 1452.77 M1390.73 1449.07 Q1396.54 1449.07 1399.59 1453.67 Q1402.67 1458.26 1402.67 1467.01 Q1402.67 1475.73 1399.59 1480.34 Q1396.54 1484.92 1390.73 1484.92 Q1384.92 1484.92 1381.84 1480.34 Q1378.78 1475.73 1378.78 1467.01 Q1378.78 1458.26 1381.84 1453.67 Q1384.92 1449.07 1390.73 1449.07 Z\" fill=\"#000000\" fill-rule=\"evenodd\" fill-opacity=\"1\" /><path clip-path=\"url(#clip2500)\" d=\"M 0 0 M1408.23 1478.37 L1413.11 1478.37 L1413.11 1482.35 L1409.32 1489.76 L1406.33 1489.76 L1408.23 1482.35 L1408.23 1478.37 Z\" fill=\"#000000\" fill-rule=\"evenodd\" fill-opacity=\"1\" /><path clip-path=\"url(#clip2500)\" d=\"M 0 0 M1437.28 1480.32 L1453.6 1480.32 L1453.6 1484.25 L1431.65 1484.25 L1431.65 1480.32 Q1434.32 1477.56 1438.9 1472.93 Q1443.51 1468.28 1444.69 1466.94 Q1446.93 1464.41 1447.81 1462.68 Q1448.71 1460.92 1448.71 1459.23 Q1448.71 1456.47 1446.77 1454.74 Q1444.85 1453 1441.75 1453 Q1439.55 1453 1437.09 1453.77 Q1434.66 1454.53 1431.88 1456.08 L1431.88 1451.36 Q1434.71 1450.22 1437.16 1449.65 Q1439.62 1449.07 1441.65 1449.07 Q1447.02 1449.07 1450.22 1451.75 Q1453.41 1454.44 1453.41 1458.93 Q1453.41 1461.06 1452.6 1462.98 Q1451.82 1464.88 1449.71 1467.47 Q1449.13 1468.14 1446.03 1471.36 Q1442.93 1474.55 1437.28 1480.32 Z\" fill=\"#000000\" fill-rule=\"evenodd\" fill-opacity=\"1\" /><path clip-path=\"url(#clip2500)\" d=\"M 0 0 M1468.67 1452.77 Q1465.06 1452.77 1463.23 1456.34 Q1461.42 1459.88 1461.42 1467.01 Q1461.42 1474.11 1463.23 1477.68 Q1465.06 1481.22 1468.67 1481.22 Q1472.3 1481.22 1474.11 1477.68 Q1475.94 1474.11 1475.94 1467.01 Q1475.94 1459.88 1474.11 1456.34 Q1472.3 1452.77 1468.67 1452.77 M1468.67 1449.07 Q1474.48 1449.07 1477.53 1453.67 Q1480.61 1458.26 1480.61 1467.01 Q1480.61 1475.73 1477.53 1480.34 Q1474.48 1484.92 1468.67 1484.92 Q1462.86 1484.92 1459.78 1480.34 Q1456.72 1475.73 1456.72 1467.01 Q1456.72 1458.26 1459.78 1453.67 Q1462.86 1449.07 1468.67 1449.07 Z\" fill=\"#000000\" fill-rule=\"evenodd\" fill-opacity=\"1\" /><path clip-path=\"url(#clip2500)\" d=\"M 0 0 M1486.82 1452.86 Q1481.73 1452.86 1478.72 1456.66 Q1475.73 1460.46 1475.73 1467.01 Q1475.73 1473.53 1478.72 1477.33 Q1481.73 1481.13 1486.82 1481.13 Q1491.91 1481.13 1494.88 1477.33 Q1497.86 1473.53 1497.86 1467.01 Q1497.86 1460.46 1494.88 1456.66 Q1491.91 1452.86 1486.82 1452.86 M1486.82 1449.07 Q1494.09 1449.07 1498.44 1453.95 Q1502.79 1458.81 1502.79 1467.01 Q1502.79 1475.18 1498.44 1480.06 Q1494.09 1484.92 1486.82 1484.92 Q1479.53 1484.92 1475.16 1480.06 Q1470.8 1475.2 1470.8 1467.01 Q1470.8 1458.81 1475.16 1453.95 Q1479.53 1449.07 1486.82 1449.07 Z\" fill=\"#000000\" fill-rule=\"evenodd\" fill-opacity=\"1\" /><path clip-path=\"url(#clip2500)\" d=\"M 0 0 M1525.92 1459.32 L1525.92 1463.3 Q1524.11 1462.31 1522.28 1461.82 Q1520.48 1461.31 1518.63 1461.31 Q1514.48 1461.31 1512.19 1463.95 Q1509.9 1466.57 1509.9 1471.31 Q1509.9 1476.06 1512.19 1478.7 Q1514.48 1481.31 1518.63 1481.31 Q1520.48 1481.31 1522.28 1480.83 Q1524.11 1480.32 1525.92 1479.32 L1525.92 1483.26 Q1524.14 1484.09 1522.22 1484.51 Q1520.32 1484.92 1518.16 1484.92 Q1512.31 1484.92 1508.86 1481.24 Q1505.41 1477.56 1505.41 1471.31 Q1505.41 1464.97 1508.88 1461.34 Q1512.38 1457.7 1518.44 1457.7 Q1520.41 1457.7 1522.28 1458.12 Q1524.16 1458.51 1525.92 1459.32 Z\" fill=\"#000000\" fill-rule=\"evenodd\" fill-opacity=\"1\" /><path clip-path=\"url(#clip2500)\" d=\"M 0 0 M1534.6 1450.96 L1534.6 1458.33 L1543.37 1458.33 L1543.37 1461.64 L1534.6 1461.64 L1534.6 1475.71 Q1534.6 1478.88 1535.46 1479.78 Q1536.34 1480.69 1539 1480.69 L1543.37 1480.69 L1543.37 1484.25 L1539 1484.25 Q1534.07 1484.25 1532.19 1482.42 Q1530.32 1480.57 1530.32 1475.71 L1530.32 1461.64 L1527.19 1461.64 L1527.19 1458.33 L1530.32 1458.33 L1530.32 1450.96 L1534.6 1450.96 Z\" fill=\"#000000\" fill-rule=\"evenodd\" fill-opacity=\"1\" /><path clip-path=\"url(#clip2500)\" d=\"M 0 0 M1548.44 1478.37 L1553.33 1478.37 L1553.33 1484.25 L1548.44 1484.25 L1548.44 1478.37 Z\" fill=\"#000000\" fill-rule=\"evenodd\" fill-opacity=\"1\" /><path clip-path=\"url(#clip2500)\" d=\"M 0 0 M1574.28 1480.32 L1581.91 1480.32 L1581.91 1453.95 L1573.6 1455.62 L1573.6 1451.36 L1581.87 1449.69 L1586.54 1449.69 L1586.54 1480.32 L1594.18 1480.32 L1594.18 1484.25 L1574.28 1484.25 L1574.28 1480.32 Z\" fill=\"#000000\" fill-rule=\"evenodd\" fill-opacity=\"1\" /><path clip-path=\"url(#clip2500)\" d=\"M 0 0 M1609.83 1465.11 Q1606.68 1465.11 1604.83 1467.26 Q1603 1469.41 1603 1473.16 Q1603 1476.89 1604.83 1479.07 Q1606.68 1481.22 1609.83 1481.22 Q1612.98 1481.22 1614.81 1479.07 Q1616.66 1476.89 1616.66 1473.16 Q1616.66 1469.41 1614.81 1467.26 Q1612.98 1465.11 1609.83 1465.11 M1619.11 1450.46 L1619.11 1454.71 Q1617.35 1453.88 1615.55 1453.44 Q1613.77 1453 1612.01 1453 Q1607.38 1453 1604.92 1456.13 Q1602.49 1459.25 1602.15 1465.57 Q1603.51 1463.56 1605.57 1462.49 Q1607.63 1461.4 1610.11 1461.4 Q1615.32 1461.4 1618.33 1464.58 Q1621.36 1467.72 1621.36 1473.16 Q1621.36 1478.49 1618.21 1481.71 Q1615.06 1484.92 1609.83 1484.92 Q1603.84 1484.92 1600.66 1480.34 Q1597.49 1475.73 1597.49 1467.01 Q1597.49 1458.81 1601.38 1453.95 Q1605.27 1449.07 1611.82 1449.07 Q1613.58 1449.07 1615.36 1449.41 Q1617.17 1449.76 1619.11 1450.46 Z\" fill=\"#000000\" fill-rule=\"evenodd\" fill-opacity=\"1\" /><path clip-path=\"url(#clip2500)\" d=\"M 0 0 M1626.91 1478.37 L1631.8 1478.37 L1631.8 1482.35 L1628 1489.76 L1625.02 1489.76 L1626.91 1482.35 L1626.91 1478.37 Z\" fill=\"#000000\" fill-rule=\"evenodd\" fill-opacity=\"1\" /><path clip-path=\"url(#clip2500)\" d=\"M 0 0 M1655.96 1480.32 L1672.28 1480.32 L1672.28 1484.25 L1650.34 1484.25 L1650.34 1480.32 Q1653 1477.56 1657.59 1472.93 Q1662.19 1468.28 1663.37 1466.94 Q1665.62 1464.41 1666.5 1462.68 Q1667.4 1460.92 1667.4 1459.23 Q1667.4 1456.47 1665.46 1454.74 Q1663.53 1453 1660.43 1453 Q1658.23 1453 1655.78 1453.77 Q1653.35 1454.53 1650.57 1456.08 L1650.57 1451.36 Q1653.4 1450.22 1655.85 1449.65 Q1658.3 1449.07 1660.34 1449.07 Q1665.71 1449.07 1668.9 1451.75 Q1672.1 1454.44 1672.1 1458.93 Q1672.1 1461.06 1671.29 1462.98 Q1670.5 1464.88 1668.4 1467.47 Q1667.82 1468.14 1664.71 1471.36 Q1661.61 1474.55 1655.96 1480.32 Z\" fill=\"#000000\" fill-rule=\"evenodd\" fill-opacity=\"1\" /><path clip-path=\"url(#clip2500)\" d=\"M 0 0 M1687.35 1452.77 Q1683.74 1452.77 1681.91 1456.34 Q1680.11 1459.88 1680.11 1467.01 Q1680.11 1474.11 1681.91 1477.68 Q1683.74 1481.22 1687.35 1481.22 Q1690.99 1481.22 1692.79 1477.68 Q1694.62 1474.11 1694.62 1467.01 Q1694.62 1459.88 1692.79 1456.34 Q1690.99 1452.77 1687.35 1452.77 M1687.35 1449.07 Q1693.16 1449.07 1696.22 1453.67 Q1699.3 1458.26 1699.3 1467.01 Q1699.3 1475.73 1696.22 1480.34 Q1693.16 1484.92 1687.35 1484.92 Q1681.54 1484.92 1678.46 1480.34 Q1675.41 1475.73 1675.41 1467.01 Q1675.41 1458.26 1678.46 1453.67 Q1681.54 1449.07 1687.35 1449.07 Z\" fill=\"#000000\" fill-rule=\"evenodd\" fill-opacity=\"1\" /><path clip-path=\"url(#clip2500)\" d=\"M 0 0 M1742.45 1452.86 Q1737.36 1452.86 1734.35 1456.66 Q1731.36 1460.46 1731.36 1467.01 Q1731.36 1473.53 1734.35 1477.33 Q1737.36 1481.13 1742.45 1481.13 Q1747.54 1481.13 1750.51 1477.33 Q1753.49 1473.53 1753.49 1467.01 Q1753.49 1460.46 1750.51 1456.66 Q1747.54 1452.86 1742.45 1452.86 M1742.45 1449.07 Q1749.72 1449.07 1754.07 1453.95 Q1758.42 1458.81 1758.42 1467.01 Q1758.42 1475.18 1754.07 1480.06 Q1749.72 1484.92 1742.45 1484.92 Q1735.16 1484.92 1730.79 1480.06 Q1726.43 1475.2 1726.43 1467.01 Q1726.43 1458.81 1730.79 1453.95 Q1735.16 1449.07 1742.45 1449.07 Z\" fill=\"#000000\" fill-rule=\"evenodd\" fill-opacity=\"1\" /><path clip-path=\"url(#clip2500)\" d=\"M 0 0 M1781.55 1459.32 L1781.55 1463.3 Q1779.74 1462.31 1777.91 1461.82 Q1776.11 1461.31 1774.26 1461.31 Q1770.11 1461.31 1767.82 1463.95 Q1765.53 1466.57 1765.53 1471.31 Q1765.53 1476.06 1767.82 1478.7 Q1770.11 1481.31 1774.26 1481.31 Q1776.11 1481.31 1777.91 1480.83 Q1779.74 1480.32 1781.55 1479.32 L1781.55 1483.26 Q1779.77 1484.09 1777.85 1484.51 Q1775.95 1484.92 1773.79 1484.92 Q1767.94 1484.92 1764.49 1481.24 Q1761.04 1477.56 1761.04 1471.31 Q1761.04 1464.97 1764.51 1461.34 Q1768.01 1457.7 1774.07 1457.7 Q1776.04 1457.7 1777.91 1458.12 Q1779.79 1458.51 1781.55 1459.32 Z\" fill=\"#000000\" fill-rule=\"evenodd\" fill-opacity=\"1\" /><path clip-path=\"url(#clip2500)\" d=\"M 0 0 M1790.23 1450.96 L1790.23 1458.33 L1799 1458.33 L1799 1461.64 L1790.23 1461.64 L1790.23 1475.71 Q1790.23 1478.88 1791.09 1479.78 Q1791.97 1480.69 1794.63 1480.69 L1799 1480.69 L1799 1484.25 L1794.63 1484.25 Q1789.7 1484.25 1787.82 1482.42 Q1785.95 1480.57 1785.95 1475.71 L1785.95 1461.64 L1782.82 1461.64 L1782.82 1458.33 L1785.95 1458.33 L1785.95 1450.96 L1790.23 1450.96 Z\" fill=\"#000000\" fill-rule=\"evenodd\" fill-opacity=\"1\" /><path clip-path=\"url(#clip2500)\" d=\"M 0 0 M1804.07 1478.37 L1808.96 1478.37 L1808.96 1484.25 L1804.07 1484.25 L1804.07 1478.37 Z\" fill=\"#000000\" fill-rule=\"evenodd\" fill-opacity=\"1\" /><path clip-path=\"url(#clip2500)\" d=\"M 0 0 M1833.12 1480.32 L1849.44 1480.32 L1849.44 1484.25 L1827.5 1484.25 L1827.5 1480.32 Q1830.16 1477.56 1834.74 1472.93 Q1839.35 1468.28 1840.53 1466.94 Q1842.78 1464.41 1843.66 1462.68 Q1844.56 1460.92 1844.56 1459.23 Q1844.56 1456.47 1842.61 1454.74 Q1840.69 1453 1837.59 1453 Q1835.39 1453 1832.94 1453.77 Q1830.51 1454.53 1827.73 1456.08 L1827.73 1451.36 Q1830.55 1450.22 1833.01 1449.65 Q1835.46 1449.07 1837.5 1449.07 Q1842.87 1449.07 1846.06 1451.75 Q1849.26 1454.44 1849.26 1458.93 Q1849.26 1461.06 1848.45 1462.98 Q1847.66 1464.88 1845.55 1467.47 Q1844.97 1468.14 1841.87 1471.36 Q1838.77 1474.55 1833.12 1480.32 Z\" fill=\"#000000\" fill-rule=\"evenodd\" fill-opacity=\"1\" /><path clip-path=\"url(#clip2500)\" d=\"M 0 0 M1868.68 1465.62 Q1872.03 1466.34 1873.91 1468.6 Q1875.81 1470.87 1875.81 1474.21 Q1875.81 1479.32 1872.29 1482.12 Q1868.77 1484.92 1862.29 1484.92 Q1860.11 1484.92 1857.8 1484.48 Q1855.51 1484.07 1853.05 1483.21 L1853.05 1478.7 Q1855 1479.83 1857.31 1480.41 Q1859.63 1480.99 1862.15 1480.99 Q1866.55 1480.99 1868.84 1479.25 Q1871.15 1477.52 1871.15 1474.21 Q1871.15 1471.15 1869 1469.44 Q1866.87 1467.7 1863.05 1467.7 L1859.03 1467.7 L1859.03 1463.86 L1863.24 1463.86 Q1866.69 1463.86 1868.52 1462.49 Q1870.34 1461.1 1870.34 1458.51 Q1870.34 1455.85 1868.45 1454.44 Q1866.57 1453 1863.05 1453 Q1861.13 1453 1858.93 1453.42 Q1856.73 1453.84 1854.09 1454.71 L1854.09 1450.55 Q1856.76 1449.81 1859.07 1449.44 Q1861.41 1449.07 1863.47 1449.07 Q1868.79 1449.07 1871.9 1451.5 Q1875 1453.9 1875 1458.03 Q1875 1460.9 1873.35 1462.89 Q1871.71 1464.85 1868.68 1465.62 Z\" fill=\"#000000\" fill-rule=\"evenodd\" fill-opacity=\"1\" /><path clip-path=\"url(#clip2500)\" d=\"M 0 0 M1881.36 1478.37 L1886.25 1478.37 L1886.25 1482.35 L1882.45 1489.76 L1879.47 1489.76 L1881.36 1482.35 L1881.36 1478.37 Z\" fill=\"#000000\" fill-rule=\"evenodd\" fill-opacity=\"1\" /><path clip-path=\"url(#clip2500)\" d=\"M 0 0 M1910.41 1480.32 L1926.73 1480.32 L1926.73 1484.25 L1904.79 1484.25 L1904.79 1480.32 Q1907.45 1477.56 1912.03 1472.93 Q1916.64 1468.28 1917.82 1466.94 Q1920.07 1464.41 1920.95 1462.68 Q1921.85 1460.92 1921.85 1459.23 Q1921.85 1456.47 1919.9 1454.74 Q1917.98 1453 1914.88 1453 Q1912.68 1453 1910.23 1453.77 Q1907.8 1454.53 1905.02 1456.08 L1905.02 1451.36 Q1907.84 1450.22 1910.3 1449.65 Q1912.75 1449.07 1914.79 1449.07 Q1920.16 1449.07 1923.35 1451.75 Q1926.55 1454.44 1926.55 1458.93 Q1926.55 1461.06 1925.74 1462.98 Q1924.95 1464.88 1922.84 1467.47 Q1922.27 1468.14 1919.16 1471.36 Q1916.06 1474.55 1910.41 1480.32 Z\" fill=\"#000000\" fill-rule=\"evenodd\" fill-opacity=\"1\" /><path clip-path=\"url(#clip2500)\" d=\"M 0 0 M1941.8 1452.77 Q1938.19 1452.77 1936.36 1456.34 Q1934.56 1459.88 1934.56 1467.01 Q1934.56 1474.11 1936.36 1477.68 Q1938.19 1481.22 1941.8 1481.22 Q1945.44 1481.22 1947.24 1477.68 Q1949.07 1474.11 1949.07 1467.01 Q1949.07 1459.88 1947.24 1456.34 Q1945.44 1452.77 1941.8 1452.77 M1941.8 1449.07 Q1947.61 1449.07 1950.67 1453.67 Q1953.75 1458.26 1953.75 1467.01 Q1953.75 1475.73 1950.67 1480.34 Q1947.61 1484.92 1941.8 1484.92 Q1935.99 1484.92 1932.91 1480.34 Q1929.86 1475.73 1929.86 1467.01 Q1929.86 1458.26 1932.91 1453.67 Q1935.99 1449.07 1941.8 1449.07 Z\" fill=\"#000000\" fill-rule=\"evenodd\" fill-opacity=\"1\" /><path clip-path=\"url(#clip2500)\" d=\"M 0 0 M1996.69 1452.86 Q1991.6 1452.86 1988.59 1456.66 Q1985.61 1460.46 1985.61 1467.01 Q1985.61 1473.53 1988.59 1477.33 Q1991.6 1481.13 1996.69 1481.13 Q2001.79 1481.13 2004.75 1477.33 Q2007.73 1473.53 2007.73 1467.01 Q2007.73 1460.46 2004.75 1456.66 Q2001.79 1452.86 1996.69 1452.86 M1996.69 1449.07 Q2003.96 1449.07 2008.31 1453.95 Q2012.67 1458.81 2012.67 1467.01 Q2012.67 1475.18 2008.31 1480.06 Q2003.96 1484.92 1996.69 1484.92 Q1989.4 1484.92 1985.03 1480.06 Q1980.67 1475.2 1980.67 1467.01 Q1980.67 1458.81 1985.03 1453.95 Q1989.4 1449.07 1996.69 1449.07 Z\" fill=\"#000000\" fill-rule=\"evenodd\" fill-opacity=\"1\" /><path clip-path=\"url(#clip2500)\" d=\"M 0 0 M2035.79 1459.32 L2035.79 1463.3 Q2033.98 1462.31 2032.16 1461.82 Q2030.35 1461.31 2028.5 1461.31 Q2024.35 1461.31 2022.06 1463.95 Q2019.77 1466.57 2019.77 1471.31 Q2019.77 1476.06 2022.06 1478.7 Q2024.35 1481.31 2028.5 1481.31 Q2030.35 1481.31 2032.16 1480.83 Q2033.98 1480.32 2035.79 1479.32 L2035.79 1483.26 Q2034.01 1484.09 2032.09 1484.51 Q2030.19 1484.92 2028.04 1484.92 Q2022.18 1484.92 2018.73 1481.24 Q2015.28 1477.56 2015.28 1471.31 Q2015.28 1464.97 2018.75 1461.34 Q2022.25 1457.7 2028.31 1457.7 Q2030.28 1457.7 2032.16 1458.12 Q2034.03 1458.51 2035.79 1459.32 Z\" fill=\"#000000\" fill-rule=\"evenodd\" fill-opacity=\"1\" /><path clip-path=\"url(#clip2500)\" d=\"M 0 0 M2044.47 1450.96 L2044.47 1458.33 L2053.24 1458.33 L2053.24 1461.64 L2044.47 1461.64 L2044.47 1475.71 Q2044.47 1478.88 2045.33 1479.78 Q2046.21 1480.69 2048.87 1480.69 L2053.24 1480.69 L2053.24 1484.25 L2048.87 1484.25 Q2043.94 1484.25 2042.06 1482.42 Q2040.19 1480.57 2040.19 1475.71 L2040.19 1461.64 L2037.06 1461.64 L2037.06 1458.33 L2040.19 1458.33 L2040.19 1450.96 L2044.47 1450.96 Z\" fill=\"#000000\" fill-rule=\"evenodd\" fill-opacity=\"1\" /><path clip-path=\"url(#clip2500)\" d=\"M 0 0 M2058.31 1478.37 L2063.2 1478.37 L2063.2 1484.25 L2058.31 1484.25 L2058.31 1478.37 Z\" fill=\"#000000\" fill-rule=\"evenodd\" fill-opacity=\"1\" /><path clip-path=\"url(#clip2500)\" d=\"M 0 0 M2097.5 1465.62 Q2100.86 1466.34 2102.73 1468.6 Q2104.63 1470.87 2104.63 1474.21 Q2104.63 1479.32 2101.11 1482.12 Q2097.6 1484.92 2091.11 1484.92 Q2088.94 1484.92 2086.62 1484.48 Q2084.33 1484.07 2081.88 1483.21 L2081.88 1478.7 Q2083.82 1479.83 2086.14 1480.41 Q2088.45 1480.99 2090.97 1480.99 Q2095.37 1480.99 2097.66 1479.25 Q2099.98 1477.52 2099.98 1474.21 Q2099.98 1471.15 2097.83 1469.44 Q2095.7 1467.7 2091.88 1467.7 L2087.85 1467.7 L2087.85 1463.86 L2092.06 1463.86 Q2095.51 1463.86 2097.34 1462.49 Q2099.17 1461.1 2099.17 1458.51 Q2099.17 1455.85 2097.27 1454.44 Q2095.4 1453 2091.88 1453 Q2089.96 1453 2087.76 1453.42 Q2085.56 1453.84 2082.92 1454.71 L2082.92 1450.55 Q2085.58 1449.81 2087.9 1449.44 Q2090.23 1449.07 2092.29 1449.07 Q2097.62 1449.07 2100.72 1451.5 Q2103.82 1453.9 2103.82 1458.03 Q2103.82 1460.9 2102.18 1462.89 Q2100.53 1464.85 2097.5 1465.62 Z\" fill=\"#000000\" fill-rule=\"evenodd\" fill-opacity=\"1\" /><path clip-path=\"url(#clip2500)\" d=\"M 0 0 M2119.7 1452.77 Q2116.09 1452.77 2114.26 1456.34 Q2112.46 1459.88 2112.46 1467.01 Q2112.46 1474.11 2114.26 1477.68 Q2116.09 1481.22 2119.7 1481.22 Q2123.34 1481.22 2125.14 1477.68 Q2126.97 1474.11 2126.97 1467.01 Q2126.97 1459.88 2125.14 1456.34 Q2123.34 1452.77 2119.7 1452.77 M2119.7 1449.07 Q2125.51 1449.07 2128.57 1453.67 Q2131.65 1458.26 2131.65 1467.01 Q2131.65 1475.73 2128.57 1480.34 Q2125.51 1484.92 2119.7 1484.92 Q2113.89 1484.92 2110.81 1480.34 Q2107.76 1475.73 2107.76 1467.01 Q2107.76 1458.26 2110.81 1453.67 Q2113.89 1449.07 2119.7 1449.07 Z\" fill=\"#000000\" fill-rule=\"evenodd\" fill-opacity=\"1\" /><path clip-path=\"url(#clip2500)\" d=\"M 0 0 M2137.2 1478.37 L2142.09 1478.37 L2142.09 1482.35 L2138.29 1489.76 L2135.3 1489.76 L2137.2 1482.35 L2137.2 1478.37 Z\" fill=\"#000000\" fill-rule=\"evenodd\" fill-opacity=\"1\" /><path clip-path=\"url(#clip2500)\" d=\"M 0 0 M2166.25 1480.32 L2182.57 1480.32 L2182.57 1484.25 L2160.63 1484.25 L2160.63 1480.32 Q2163.29 1477.56 2167.87 1472.93 Q2172.48 1468.28 2173.66 1466.94 Q2175.9 1464.41 2176.78 1462.68 Q2177.69 1460.92 2177.69 1459.23 Q2177.69 1456.47 2175.74 1454.74 Q2173.82 1453 2170.72 1453 Q2168.52 1453 2166.07 1453.77 Q2163.64 1454.53 2160.86 1456.08 L2160.86 1451.36 Q2163.68 1450.22 2166.14 1449.65 Q2168.59 1449.07 2170.63 1449.07 Q2176 1449.07 2179.19 1451.75 Q2182.39 1454.44 2182.39 1458.93 Q2182.39 1461.06 2181.58 1462.98 Q2180.79 1464.88 2178.68 1467.47 Q2178.1 1468.14 2175 1471.36 Q2171.9 1474.55 2166.25 1480.32 Z\" fill=\"#000000\" fill-rule=\"evenodd\" fill-opacity=\"1\" /><path clip-path=\"url(#clip2500)\" d=\"M 0 0 M2197.64 1452.77 Q2194.03 1452.77 2192.2 1456.34 Q2190.4 1459.88 2190.4 1467.01 Q2190.4 1474.11 2192.2 1477.68 Q2194.03 1481.22 2197.64 1481.22 Q2201.28 1481.22 2203.08 1477.68 Q2204.91 1474.11 2204.91 1467.01 Q2204.91 1459.88 2203.08 1456.34 Q2201.28 1452.77 2197.64 1452.77 M2197.64 1449.07 Q2203.45 1449.07 2206.51 1453.67 Q2209.59 1458.26 2209.59 1467.01 Q2209.59 1475.73 2206.51 1480.34 Q2203.45 1484.92 2197.64 1484.92 Q2191.83 1484.92 2188.75 1480.34 Q2185.7 1475.73 2185.7 1467.01 Q2185.7 1458.26 2188.75 1453.67 Q2191.83 1449.07 2197.64 1449.07 Z\" fill=\"#000000\" fill-rule=\"evenodd\" fill-opacity=\"1\" /><path clip-path=\"url(#clip2500)\" d=\"M 0 0 M2211.48 1449.69 L2217.78 1449.69 L2233.1 1478.6 L2233.1 1449.69 L2237.64 1449.69 L2237.64 1484.25 L2231.34 1484.25 L2216.02 1455.34 L2216.02 1484.25 L2211.48 1484.25 L2211.48 1449.69 Z\" fill=\"#000000\" fill-rule=\"evenodd\" fill-opacity=\"1\" /><path clip-path=\"url(#clip2500)\" d=\"M 0 0 M2252.15 1461.31 Q2248.72 1461.31 2246.73 1464 Q2244.74 1466.66 2244.74 1471.31 Q2244.74 1475.96 2246.71 1478.65 Q2248.7 1481.31 2252.15 1481.31 Q2255.55 1481.31 2257.54 1478.63 Q2259.53 1475.94 2259.53 1471.31 Q2259.53 1466.71 2257.54 1464.02 Q2255.55 1461.31 2252.15 1461.31 M2252.15 1457.7 Q2257.71 1457.7 2260.88 1461.31 Q2264.05 1464.92 2264.05 1471.31 Q2264.05 1477.68 2260.88 1481.31 Q2257.71 1484.92 2252.15 1484.92 Q2246.57 1484.92 2243.4 1481.31 Q2240.25 1477.68 2240.25 1471.31 Q2240.25 1464.92 2243.4 1461.31 Q2246.57 1457.7 2252.15 1457.7 Z\" fill=\"#000000\" fill-rule=\"evenodd\" fill-opacity=\"1\" /><path clip-path=\"url(#clip2500)\" d=\"M 0 0 M2265.46 1458.33 L2269.97 1458.33 L2278.08 1480.09 L2286.18 1458.33 L2290.69 1458.33 L2280.97 1484.25 L2275.18 1484.25 L2265.46 1458.33 Z\" fill=\"#000000\" fill-rule=\"evenodd\" fill-opacity=\"1\" /><path clip-path=\"url(#clip2500)\" d=\"M 0 0 M2292.08 1478.37 L2296.96 1478.37 L2296.96 1484.25 L2292.08 1484.25 L2292.08 1478.37 Z\" fill=\"#000000\" fill-rule=\"evenodd\" fill-opacity=\"1\" /><path clip-path=\"url(#clip2500)\" d=\"M 0 0 M2317.15 1449.69 L2335.51 1449.69 L2335.51 1453.63 L2321.43 1453.63 L2321.43 1462.1 Q2322.45 1461.75 2323.47 1461.59 Q2324.49 1461.4 2325.51 1461.4 Q2331.29 1461.4 2334.67 1464.58 Q2338.05 1467.75 2338.05 1473.16 Q2338.05 1478.74 2334.58 1481.84 Q2331.11 1484.92 2324.79 1484.92 Q2322.61 1484.92 2320.34 1484.55 Q2318.1 1484.18 2315.69 1483.44 L2315.69 1478.74 Q2317.77 1479.88 2320 1480.43 Q2322.22 1480.99 2324.7 1480.99 Q2328.7 1480.99 2331.04 1478.88 Q2333.38 1476.78 2333.38 1473.16 Q2333.38 1469.55 2331.04 1467.45 Q2328.7 1465.34 2324.7 1465.34 Q2322.82 1465.34 2320.95 1465.76 Q2319.09 1466.17 2317.15 1467.05 L2317.15 1449.69 Z\" fill=\"#000000\" fill-rule=\"evenodd\" fill-opacity=\"1\" /><path clip-path=\"url(#clip2500)\" d=\"M 0 0 M2343.61 1478.37 L2348.49 1478.37 L2348.49 1482.35 L2344.7 1489.76 L2341.71 1489.76 L2343.61 1482.35 L2343.61 1478.37 Z\" fill=\"#000000\" fill-rule=\"evenodd\" fill-opacity=\"1\" /><path clip-path=\"url(#clip2500)\" d=\"M 0 0 M2372.66 1480.32 L2388.98 1480.32 L2388.98 1484.25 L2367.03 1484.25 L2367.03 1480.32 Q2369.7 1477.56 2374.28 1472.93 Q2378.89 1468.28 2380.07 1466.94 Q2382.31 1464.41 2383.19 1462.68 Q2384.09 1460.92 2384.09 1459.23 Q2384.09 1456.47 2382.15 1454.74 Q2380.23 1453 2377.13 1453 Q2374.93 1453 2372.47 1453.77 Q2370.04 1454.53 2367.27 1456.08 L2367.27 1451.36 Q2370.09 1450.22 2372.54 1449.65 Q2375 1449.07 2377.03 1449.07 Q2382.4 1449.07 2385.6 1451.75 Q2388.79 1454.44 2388.79 1458.93 Q2388.79 1461.06 2387.98 1462.98 Q2387.2 1464.88 2385.09 1467.47 Q2384.51 1468.14 2381.41 1471.36 Q2378.31 1474.55 2372.66 1480.32 Z\" fill=\"#000000\" fill-rule=\"evenodd\" fill-opacity=\"1\" /><path clip-path=\"url(#clip2500)\" d=\"M 0 0 M2404.05 1452.77 Q2400.44 1452.77 2398.61 1456.34 Q2396.8 1459.88 2396.8 1467.01 Q2396.8 1474.11 2398.61 1477.68 Q2400.44 1481.22 2404.05 1481.22 Q2407.68 1481.22 2409.49 1477.68 Q2411.32 1474.11 2411.32 1467.01 Q2411.32 1459.88 2409.49 1456.34 Q2407.68 1452.77 2404.05 1452.77 M2404.05 1449.07 Q2409.86 1449.07 2412.91 1453.67 Q2415.99 1458.26 2415.99 1467.01 Q2415.99 1475.73 2412.91 1480.34 Q2409.86 1484.92 2404.05 1484.92 Q2398.24 1484.92 2395.16 1480.34 Q2392.1 1475.73 2392.1 1467.01 Q2392.1 1458.26 2395.16 1453.67 Q2398.24 1449.07 2404.05 1449.07 Z\" fill=\"#000000\" fill-rule=\"evenodd\" fill-opacity=\"1\" /><path clip-path=\"url(#clip2500)\" d=\"M 0 0 M2453.93 1449.69 L2460.22 1449.69 L2475.55 1478.6 L2475.55 1449.69 L2480.08 1449.69 L2480.08 1484.25 L2473.79 1484.25 L2458.46 1455.34 L2458.46 1484.25 L2453.93 1484.25 L2453.93 1449.69 Z\" fill=\"#000000\" fill-rule=\"evenodd\" fill-opacity=\"1\" /><path clip-path=\"url(#clip2500)\" d=\"M 0 0 M2494.6 1461.31 Q2491.17 1461.31 2489.18 1464 Q2487.19 1466.66 2487.19 1471.31 Q2487.19 1475.96 2489.16 1478.65 Q2491.15 1481.31 2494.6 1481.31 Q2498 1481.31 2499.99 1478.63 Q2501.98 1475.94 2501.98 1471.31 Q2501.98 1466.71 2499.99 1464.02 Q2498 1461.31 2494.6 1461.31 M2494.6 1457.7 Q2500.15 1457.7 2503.32 1461.31 Q2506.5 1464.92 2506.5 1471.31 Q2506.5 1477.68 2503.32 1481.31 Q2500.15 1484.92 2494.6 1484.92 Q2489.02 1484.92 2485.85 1481.31 Q2482.7 1477.68 2482.7 1471.31 Q2482.7 1464.92 2485.85 1461.31 Q2489.02 1457.7 2494.6 1457.7 Z\" fill=\"#000000\" fill-rule=\"evenodd\" fill-opacity=\"1\" /><path clip-path=\"url(#clip2500)\" d=\"M 0 0 M2507.91 1458.33 L2512.42 1458.33 L2520.52 1480.09 L2528.62 1458.33 L2533.14 1458.33 L2523.42 1484.25 L2517.63 1484.25 L2507.91 1458.33 Z\" fill=\"#000000\" fill-rule=\"evenodd\" fill-opacity=\"1\" /><path clip-path=\"url(#clip2500)\" d=\"M 0 0 M2534.53 1478.37 L2539.41 1478.37 L2539.41 1484.25 L2534.53 1484.25 L2534.53 1478.37 Z\" fill=\"#000000\" fill-rule=\"evenodd\" fill-opacity=\"1\" /><path clip-path=\"url(#clip2500)\" d=\"M 0 0 M2560.36 1480.32 L2568 1480.32 L2568 1453.95 L2559.69 1455.62 L2559.69 1451.36 L2567.95 1449.69 L2572.63 1449.69 L2572.63 1480.32 L2580.27 1480.32 L2580.27 1484.25 L2560.36 1484.25 L2560.36 1480.32 Z\" fill=\"#000000\" fill-rule=\"evenodd\" fill-opacity=\"1\" /><path clip-path=\"url(#clip2500)\" d=\"M 0 0 M2589.37 1480.32 L2605.68 1480.32 L2605.68 1484.25 L2583.74 1484.25 L2583.74 1480.32 Q2586.4 1477.56 2590.99 1472.93 Q2595.59 1468.28 2596.77 1466.94 Q2599.02 1464.41 2599.9 1462.68 Q2600.8 1460.92 2600.8 1459.23 Q2600.8 1456.47 2598.86 1454.74 Q2596.93 1453 2593.83 1453 Q2591.63 1453 2589.18 1453.77 Q2586.75 1454.53 2583.97 1456.08 L2583.97 1451.36 Q2586.8 1450.22 2589.25 1449.65 Q2591.7 1449.07 2593.74 1449.07 Q2599.11 1449.07 2602.3 1451.75 Q2605.5 1454.44 2605.5 1458.93 Q2605.5 1461.06 2604.69 1462.98 Q2603.9 1464.88 2601.8 1467.47 Q2601.22 1468.14 2598.11 1471.36 Q2595.01 1474.55 2589.37 1480.32 Z\" fill=\"#000000\" fill-rule=\"evenodd\" fill-opacity=\"1\" /><path clip-path=\"url(#clip2500)\" d=\"M 0 0 M2611.24 1478.37 L2616.12 1478.37 L2616.12 1482.35 L2612.33 1489.76 L2609.34 1489.76 L2611.24 1482.35 L2611.24 1478.37 Z\" fill=\"#000000\" fill-rule=\"evenodd\" fill-opacity=\"1\" /><path clip-path=\"url(#clip2500)\" d=\"M 0 0 M2640.29 1480.32 L2656.61 1480.32 L2656.61 1484.25 L2634.67 1484.25 L2634.67 1480.32 Q2637.33 1477.56 2641.91 1472.93 Q2646.52 1468.28 2647.7 1466.94 Q2649.94 1464.41 2650.82 1462.68 Q2651.73 1460.92 2651.73 1459.23 Q2651.73 1456.47 2649.78 1454.74 Q2647.86 1453 2644.76 1453 Q2642.56 1453 2640.11 1453.77 Q2637.67 1454.53 2634.9 1456.08 L2634.9 1451.36 Q2637.72 1450.22 2640.17 1449.65 Q2642.63 1449.07 2644.67 1449.07 Q2650.04 1449.07 2653.23 1451.75 Q2656.42 1454.44 2656.42 1458.93 Q2656.42 1461.06 2655.61 1462.98 Q2654.83 1464.88 2652.72 1467.47 Q2652.14 1468.14 2649.04 1471.36 Q2645.94 1474.55 2640.29 1480.32 Z\" fill=\"#000000\" fill-rule=\"evenodd\" fill-opacity=\"1\" /><path clip-path=\"url(#clip2500)\" d=\"M 0 0 M2671.68 1452.77 Q2668.07 1452.77 2666.24 1456.34 Q2664.43 1459.88 2664.43 1467.01 Q2664.43 1474.11 2666.24 1477.68 Q2668.07 1481.22 2671.68 1481.22 Q2675.31 1481.22 2677.12 1477.68 Q2678.95 1474.11 2678.95 1467.01 Q2678.95 1459.88 2677.12 1456.34 Q2675.31 1452.77 2671.68 1452.77 M2671.68 1449.07 Q2677.49 1449.07 2680.55 1453.67 Q2683.62 1458.26 2683.62 1467.01 Q2683.62 1475.73 2680.55 1480.34 Q2677.49 1484.92 2671.68 1484.92 Q2665.87 1484.92 2662.79 1480.34 Q2659.74 1475.73 2659.74 1467.01 Q2659.74 1458.26 2662.79 1453.67 Q2665.87 1449.07 2671.68 1449.07 Z\" fill=\"#000000\" fill-rule=\"evenodd\" fill-opacity=\"1\" /><path clip-path=\"url(#clip2500)\" d=\"M 0 0 M2671.78 1449.69 L2678.08 1449.69 L2693.4 1478.6 L2693.4 1449.69 L2697.94 1449.69 L2697.94 1484.25 L2691.64 1484.25 L2676.32 1455.34 L2676.32 1484.25 L2671.78 1484.25 L2671.78 1449.69 Z\" fill=\"#000000\" fill-rule=\"evenodd\" fill-opacity=\"1\" /><path clip-path=\"url(#clip2500)\" d=\"M 0 0 M2712.45 1461.31 Q2709.02 1461.31 2707.03 1464 Q2705.04 1466.66 2705.04 1471.31 Q2705.04 1475.96 2707.01 1478.65 Q2709 1481.31 2712.45 1481.31 Q2715.85 1481.31 2717.84 1478.63 Q2719.83 1475.94 2719.83 1471.31 Q2719.83 1466.71 2717.84 1464.02 Q2715.85 1461.31 2712.45 1461.31 M2712.45 1457.7 Q2718.01 1457.7 2721.18 1461.31 Q2724.35 1464.92 2724.35 1471.31 Q2724.35 1477.68 2721.18 1481.31 Q2718.01 1484.92 2712.45 1484.92 Q2706.87 1484.92 2703.7 1481.31 Q2700.55 1477.68 2700.55 1471.31 Q2700.55 1464.92 2703.7 1461.31 Q2706.87 1457.7 2712.45 1457.7 Z\" fill=\"#000000\" fill-rule=\"evenodd\" fill-opacity=\"1\" /><path clip-path=\"url(#clip2500)\" d=\"M 0 0 M2725.76 1458.33 L2730.27 1458.33 L2738.38 1480.09 L2746.48 1458.33 L2750.99 1458.33 L2741.27 1484.25 L2735.48 1484.25 L2725.76 1458.33 Z\" fill=\"#000000\" fill-rule=\"evenodd\" fill-opacity=\"1\" /><path clip-path=\"url(#clip2500)\" d=\"M 0 0 M2752.38 1478.37 L2757.26 1478.37 L2757.26 1484.25 L2752.38 1484.25 L2752.38 1478.37 Z\" fill=\"#000000\" fill-rule=\"evenodd\" fill-opacity=\"1\" /><path clip-path=\"url(#clip2500)\" d=\"M 0 0 M2778.21 1480.32 L2785.85 1480.32 L2785.85 1453.95 L2777.54 1455.62 L2777.54 1451.36 L2785.81 1449.69 L2790.48 1449.69 L2790.48 1480.32 L2798.12 1480.32 L2798.12 1484.25 L2778.21 1484.25 L2778.21 1480.32 Z\" fill=\"#000000\" fill-rule=\"evenodd\" fill-opacity=\"1\" /><path clip-path=\"url(#clip2500)\" d=\"M 0 0 M2813.19 1467.84 Q2809.86 1467.84 2807.94 1469.62 Q2806.04 1471.4 2806.04 1474.53 Q2806.04 1477.65 2807.94 1479.44 Q2809.86 1481.22 2813.19 1481.22 Q2816.52 1481.22 2818.44 1479.44 Q2820.37 1477.63 2820.37 1474.53 Q2820.37 1471.4 2818.44 1469.62 Q2816.55 1467.84 2813.19 1467.84 M2808.51 1465.85 Q2805.51 1465.11 2803.82 1463.05 Q2802.15 1460.99 2802.15 1458.03 Q2802.15 1453.88 2805.09 1451.47 Q2808.05 1449.07 2813.19 1449.07 Q2818.35 1449.07 2821.29 1451.47 Q2824.23 1453.88 2824.23 1458.03 Q2824.23 1460.99 2822.54 1463.05 Q2820.88 1465.11 2817.89 1465.85 Q2821.27 1466.64 2823.14 1468.93 Q2825.04 1471.22 2825.04 1474.53 Q2825.04 1479.55 2821.96 1482.24 Q2818.91 1484.92 2813.19 1484.92 Q2807.47 1484.92 2804.39 1482.24 Q2801.34 1479.55 2801.34 1474.53 Q2801.34 1471.22 2803.24 1468.93 Q2805.13 1466.64 2808.51 1465.85 M2806.8 1458.46 Q2806.8 1461.15 2808.47 1462.65 Q2810.16 1464.16 2813.19 1464.16 Q2816.2 1464.16 2817.89 1462.65 Q2819.6 1461.15 2819.6 1458.46 Q2819.6 1455.78 2817.89 1454.28 Q2816.2 1452.77 2813.19 1452.77 Q2810.16 1452.77 2808.47 1454.28 Q2806.8 1455.78 2806.8 1458.46 Z\" fill=\"#000000\" fill-rule=\"evenodd\" fill-opacity=\"1\" /><path clip-path=\"url(#clip2500)\" d=\"M 0 0 M2830.6 1478.37 L2835.48 1478.37 L2835.48 1482.35 L2831.69 1489.76 L2828.7 1489.76 L2830.6 1482.35 L2830.6 1478.37 Z\" fill=\"#000000\" fill-rule=\"evenodd\" fill-opacity=\"1\" /><path clip-path=\"url(#clip2500)\" d=\"M 0 0 M2859.65 1480.32 L2875.97 1480.32 L2875.97 1484.25 L2854.02 1484.25 L2854.02 1480.32 Q2856.69 1477.56 2861.27 1472.93 Q2865.88 1468.28 2867.06 1466.94 Q2869.3 1464.41 2870.18 1462.68 Q2871.08 1460.92 2871.08 1459.23 Q2871.08 1456.47 2869.14 1454.74 Q2867.22 1453 2864.12 1453 Q2861.92 1453 2859.46 1453.77 Q2857.03 1454.53 2854.25 1456.08 L2854.25 1451.36 Q2857.08 1450.22 2859.53 1449.65 Q2861.99 1449.07 2864.02 1449.07 Q2869.39 1449.07 2872.59 1451.75 Q2875.78 1454.44 2875.78 1458.93 Q2875.78 1461.06 2874.97 1462.98 Q2874.19 1464.88 2872.08 1467.47 Q2871.5 1468.14 2868.4 1471.36 Q2865.3 1474.55 2859.65 1480.32 Z\" fill=\"#000000\" fill-rule=\"evenodd\" fill-opacity=\"1\" /><path clip-path=\"url(#clip2500)\" d=\"M 0 0 M2891.04 1452.77 Q2887.43 1452.77 2885.6 1456.34 Q2883.79 1459.88 2883.79 1467.01 Q2883.79 1474.11 2885.6 1477.68 Q2887.43 1481.22 2891.04 1481.22 Q2894.67 1481.22 2896.48 1477.68 Q2898.31 1474.11 2898.31 1467.01 Q2898.31 1459.88 2896.48 1456.34 Q2894.67 1452.77 2891.04 1452.77 M2891.04 1449.07 Q2896.85 1449.07 2899.9 1453.67 Q2902.98 1458.26 2902.98 1467.01 Q2902.98 1475.73 2899.9 1480.34 Q2896.85 1484.92 2891.04 1484.92 Q2885.23 1484.92 2882.15 1480.34 Q2879.09 1475.73 2879.09 1467.01 Q2879.09 1458.26 2882.15 1453.67 Q2885.23 1449.07 2891.04 1449.07 Z\" fill=\"#000000\" fill-rule=\"evenodd\" fill-opacity=\"1\" /><path clip-path=\"url(#clip2500)\" d=\"M 0 0 M2927.46 1449.69 L2933.75 1449.69 L2949.08 1478.6 L2949.08 1449.69 L2953.61 1449.69 L2953.61 1484.25 L2947.32 1484.25 L2931.99 1455.34 L2931.99 1484.25 L2927.46 1484.25 L2927.46 1449.69 Z\" fill=\"#000000\" fill-rule=\"evenodd\" fill-opacity=\"1\" /><path clip-path=\"url(#clip2500)\" d=\"M 0 0 M2968.13 1461.31 Q2964.7 1461.31 2962.71 1464 Q2960.72 1466.66 2960.72 1471.31 Q2960.72 1475.96 2962.69 1478.65 Q2964.68 1481.31 2968.13 1481.31 Q2971.53 1481.31 2973.52 1478.63 Q2975.51 1475.94 2975.51 1471.31 Q2975.51 1466.71 2973.52 1464.02 Q2971.53 1461.31 2968.13 1461.31 M2968.13 1457.7 Q2973.68 1457.7 2976.85 1461.31 Q2980.02 1464.92 2980.02 1471.31 Q2980.02 1477.68 2976.85 1481.31 Q2973.68 1484.92 2968.13 1484.92 Q2962.55 1484.92 2959.38 1481.31 Q2956.23 1477.68 2956.23 1471.31 Q2956.23 1464.92 2959.38 1461.31 Q2962.55 1457.7 2968.13 1457.7 Z\" fill=\"#000000\" fill-rule=\"evenodd\" fill-opacity=\"1\" /><path clip-path=\"url(#clip2500)\" d=\"M 0 0 M2981.44 1458.33 L2985.95 1458.33 L2994.05 1480.09 L3002.15 1458.33 L3006.67 1458.33 L2996.95 1484.25 L2991.16 1484.25 L2981.44 1458.33 Z\" fill=\"#000000\" fill-rule=\"evenodd\" fill-opacity=\"1\" /><path clip-path=\"url(#clip2500)\" d=\"M 0 0 M3008.06 1478.37 L3012.94 1478.37 L3012.94 1484.25 L3008.06 1484.25 L3008.06 1478.37 Z\" fill=\"#000000\" fill-rule=\"evenodd\" fill-opacity=\"1\" /><path clip-path=\"url(#clip2500)\" d=\"M 0 0 M3037.11 1480.32 L3053.43 1480.32 L3053.43 1484.25 L3031.48 1484.25 L3031.48 1480.32 Q3034.14 1477.56 3038.73 1472.93 Q3043.33 1468.28 3044.51 1466.94 Q3046.76 1464.41 3047.64 1462.68 Q3048.54 1460.92 3048.54 1459.23 Q3048.54 1456.47 3046.6 1454.74 Q3044.68 1453 3041.57 1453 Q3039.38 1453 3036.92 1453.77 Q3034.49 1454.53 3031.71 1456.08 L3031.71 1451.36 Q3034.54 1450.22 3036.99 1449.65 Q3039.45 1449.07 3041.48 1449.07 Q3046.85 1449.07 3050.05 1451.75 Q3053.24 1454.44 3053.24 1458.93 Q3053.24 1461.06 3052.43 1462.98 Q3051.64 1464.88 3049.54 1467.47 Q3048.96 1468.14 3045.86 1471.36 Q3042.76 1474.55 3037.11 1480.32 Z\" fill=\"#000000\" fill-rule=\"evenodd\" fill-opacity=\"1\" /><path clip-path=\"url(#clip2500)\" d=\"M 0 0 M3058.54 1449.69 L3076.9 1449.69 L3076.9 1453.63 L3062.82 1453.63 L3062.82 1462.1 Q3063.84 1461.75 3064.86 1461.59 Q3065.88 1461.4 3066.9 1461.4 Q3072.69 1461.4 3076.07 1464.58 Q3079.45 1467.75 3079.45 1473.16 Q3079.45 1478.74 3075.97 1481.84 Q3072.5 1484.92 3066.18 1484.92 Q3064.01 1484.92 3061.74 1484.55 Q3059.49 1484.18 3057.08 1483.44 L3057.08 1478.74 Q3059.17 1479.88 3061.39 1480.43 Q3063.61 1480.99 3066.09 1480.99 Q3070.09 1480.99 3072.43 1478.88 Q3074.77 1476.78 3074.77 1473.16 Q3074.77 1469.55 3072.43 1467.45 Q3070.09 1465.34 3066.09 1465.34 Q3064.21 1465.34 3062.34 1465.76 Q3060.49 1466.17 3058.54 1467.05 L3058.54 1449.69 Z\" fill=\"#000000\" fill-rule=\"evenodd\" fill-opacity=\"1\" /><path clip-path=\"url(#clip2500)\" d=\"M 0 0 M3085 1478.37 L3089.88 1478.37 L3089.88 1482.35 L3086.09 1489.76 L3083.1 1489.76 L3085 1482.35 L3085 1478.37 Z\" fill=\"#000000\" fill-rule=\"evenodd\" fill-opacity=\"1\" /><path clip-path=\"url(#clip2500)\" d=\"M 0 0 M3114.05 1480.32 L3130.37 1480.32 L3130.37 1484.25 L3108.43 1484.25 L3108.43 1480.32 Q3111.09 1477.56 3115.67 1472.93 Q3120.28 1468.28 3121.46 1466.94 Q3123.7 1464.41 3124.58 1462.68 Q3125.49 1460.92 3125.49 1459.23 Q3125.49 1456.47 3123.54 1454.74 Q3121.62 1453 3118.52 1453 Q3116.32 1453 3113.87 1453.77 Q3111.44 1454.53 3108.66 1456.08 L3108.66 1451.36 Q3111.48 1450.22 3113.94 1449.65 Q3116.39 1449.07 3118.43 1449.07 Q3123.8 1449.07 3126.99 1451.75 Q3130.19 1454.44 3130.19 1458.93 Q3130.19 1461.06 3129.38 1462.98 Q3128.59 1464.88 3126.48 1467.47 Q3125.9 1468.14 3122.8 1471.36 Q3119.7 1474.55 3114.05 1480.32 Z\" fill=\"#000000\" fill-rule=\"evenodd\" fill-opacity=\"1\" /><path clip-path=\"url(#clip2500)\" d=\"M 0 0 M3145.44 1452.77 Q3141.83 1452.77 3140 1456.34 Q3138.19 1459.88 3138.19 1467.01 Q3138.19 1474.11 3140 1477.68 Q3141.83 1481.22 3145.44 1481.22 Q3149.07 1481.22 3150.88 1477.68 Q3152.71 1474.11 3152.71 1467.01 Q3152.71 1459.88 3150.88 1456.34 Q3149.07 1452.77 3145.44 1452.77 M3145.44 1449.07 Q3151.25 1449.07 3154.31 1453.67 Q3157.38 1458.26 3157.38 1467.01 Q3157.38 1475.73 3154.31 1480.34 Q3151.25 1484.92 3145.44 1484.92 Q3139.63 1484.92 3136.55 1480.34 Q3133.5 1475.73 3133.5 1467.01 Q3133.5 1458.26 3136.55 1453.67 Q3139.63 1449.07 3145.44 1449.07 Z\" fill=\"#000000\" fill-rule=\"evenodd\" fill-opacity=\"1\" /><path clip-path=\"url(#clip2500)\" d=\"M 0 0 M3198.54 1453.53 L3198.54 1480.41 L3204.18 1480.41 Q3211.34 1480.41 3214.65 1477.17 Q3217.98 1473.93 3217.98 1466.94 Q3217.98 1459.99 3214.65 1456.78 Q3211.34 1453.53 3204.18 1453.53 L3198.54 1453.53 M3193.86 1449.69 L3203.47 1449.69 Q3213.51 1449.69 3218.21 1453.88 Q3222.91 1458.05 3222.91 1466.94 Q3222.91 1475.87 3218.19 1480.06 Q3213.47 1484.25 3203.47 1484.25 L3193.86 1484.25 L3193.86 1449.69 Z\" fill=\"#000000\" fill-rule=\"evenodd\" fill-opacity=\"1\" /><path clip-path=\"url(#clip2500)\" d=\"M 0 0 M3249.55 1470.22 L3249.55 1472.31 L3229.97 1472.31 Q3230.25 1476.71 3232.61 1479.02 Q3234.99 1481.31 3239.23 1481.31 Q3241.68 1481.31 3243.98 1480.71 Q3246.29 1480.11 3248.56 1478.9 L3248.56 1482.93 Q3246.27 1483.9 3243.86 1484.41 Q3241.45 1484.92 3238.98 1484.92 Q3232.77 1484.92 3229.14 1481.31 Q3225.53 1477.7 3225.53 1471.54 Q3225.53 1465.18 3228.95 1461.45 Q3232.4 1457.7 3238.24 1457.7 Q3243.47 1457.7 3246.5 1461.08 Q3249.55 1464.44 3249.55 1470.22 M3245.3 1468.97 Q3245.25 1465.48 3243.33 1463.4 Q3241.43 1461.31 3238.28 1461.31 Q3234.72 1461.31 3232.56 1463.33 Q3230.43 1465.34 3230.11 1469 L3245.3 1468.97 Z\" fill=\"#000000\" fill-rule=\"evenodd\" fill-opacity=\"1\" /><path clip-path=\"url(#clip2500)\" d=\"M 0 0 M3272.68 1459.32 L3272.68 1463.3 Q3270.87 1462.31 3269.05 1461.82 Q3267.24 1461.31 3265.39 1461.31 Q3261.24 1461.31 3258.95 1463.95 Q3256.66 1466.57 3256.66 1471.31 Q3256.66 1476.06 3258.95 1478.7 Q3261.24 1481.31 3265.39 1481.31 Q3267.24 1481.31 3269.05 1480.83 Q3270.87 1480.32 3272.68 1479.32 L3272.68 1483.26 Q3270.9 1484.09 3268.98 1484.51 Q3267.08 1484.92 3264.92 1484.92 Q3259.07 1484.92 3255.62 1481.24 Q3252.17 1477.56 3252.17 1471.31 Q3252.17 1464.97 3255.64 1461.34 Q3259.14 1457.7 3265.2 1457.7 Q3267.17 1457.7 3269.05 1458.12 Q3270.92 1458.51 3272.68 1459.32 Z\" fill=\"#000000\" fill-rule=\"evenodd\" fill-opacity=\"1\" /><path clip-path=\"url(#clip2500)\" d=\"M 0 0 M3277.75 1478.37 L3282.63 1478.37 L3282.63 1484.25 L3277.75 1484.25 L3277.75 1478.37 Z\" fill=\"#000000\" fill-rule=\"evenodd\" fill-opacity=\"1\" /><path clip-path=\"url(#clip2500)\" d=\"M 0 0 M3306.8 1480.32 L3323.12 1480.32 L3323.12 1484.25 L3301.17 1484.25 L3301.17 1480.32 Q3303.84 1477.56 3308.42 1472.93 Q3313.03 1468.28 3314.21 1466.94 Q3316.45 1464.41 3317.33 1462.68 Q3318.23 1460.92 3318.23 1459.23 Q3318.23 1456.47 3316.29 1454.74 Q3314.37 1453 3311.27 1453 Q3309.07 1453 3306.61 1453.77 Q3304.18 1454.53 3301.41 1456.08 L3301.41 1451.36 Q3304.23 1450.22 3306.68 1449.65 Q3309.14 1449.07 3311.17 1449.07 Q3316.54 1449.07 3319.74 1451.75 Q3322.93 1454.44 3322.93 1458.93 Q3322.93 1461.06 3322.12 1462.98 Q3321.34 1464.88 3319.23 1467.47 Q3318.65 1468.14 3315.55 1471.36 Q3312.45 1474.55 3306.8 1480.32 Z\" fill=\"#000000\" fill-rule=\"evenodd\" fill-opacity=\"1\" /><path clip-path=\"url(#clip2500)\" d=\"M 0 0 M3328.67 1478.37 L3333.56 1478.37 L3333.56 1482.35 L3329.76 1489.76 L3326.78 1489.76 L3328.67 1482.35 L3328.67 1478.37 Z\" fill=\"#000000\" fill-rule=\"evenodd\" fill-opacity=\"1\" /><path clip-path=\"url(#clip2500)\" d=\"M 0 0 M3357.73 1480.32 L3374.04 1480.32 L3374.04 1484.25 L3352.1 1484.25 L3352.1 1480.32 Q3354.76 1477.56 3359.35 1472.93 Q3363.95 1468.28 3365.13 1466.94 Q3367.38 1464.41 3368.26 1462.68 Q3369.16 1460.92 3369.16 1459.23 Q3369.16 1456.47 3367.22 1454.74 Q3365.29 1453 3362.19 1453 Q3359.99 1453 3357.54 1453.77 Q3355.11 1454.53 3352.33 1456.08 L3352.33 1451.36 Q3355.16 1450.22 3357.61 1449.65 Q3360.06 1449.07 3362.1 1449.07 Q3367.47 1449.07 3370.67 1451.75 Q3373.86 1454.44 3373.86 1458.93 Q3373.86 1461.06 3373.05 1462.98 Q3372.26 1464.88 3370.16 1467.47 Q3369.58 1468.14 3366.48 1471.36 Q3363.37 1474.55 3357.73 1480.32 Z\" fill=\"#000000\" fill-rule=\"evenodd\" fill-opacity=\"1\" /><path clip-path=\"url(#clip2500)\" d=\"M 0 0 M3389.11 1452.77 Q3385.5 1452.77 3383.67 1456.34 Q3381.87 1459.88 3381.87 1467.01 Q3381.87 1474.11 3383.67 1477.68 Q3385.5 1481.22 3389.11 1481.22 Q3392.75 1481.22 3394.55 1477.68 Q3396.38 1474.11 3396.38 1467.01 Q3396.38 1459.88 3394.55 1456.34 Q3392.75 1452.77 3389.11 1452.77 M3389.11 1449.07 Q3394.92 1449.07 3397.98 1453.67 Q3401.06 1458.26 3401.06 1467.01 Q3401.06 1475.73 3397.98 1480.34 Q3394.92 1484.92 3389.11 1484.92 Q3383.3 1484.92 3380.23 1480.34 Q3377.17 1475.73 3377.17 1467.01 Q3377.17 1458.26 3380.23 1453.67 Q3383.3 1449.07 3389.11 1449.07 Z\" fill=\"#000000\" fill-rule=\"evenodd\" fill-opacity=\"1\" /><path clip-path=\"url(#clip2500)\" d=\"M 0 0 M3416.39 1453.53 L3416.39 1480.41 L3422.04 1480.41 Q3429.19 1480.41 3432.5 1477.17 Q3435.83 1473.93 3435.83 1466.94 Q3435.83 1459.99 3432.5 1456.78 Q3429.19 1453.53 3422.04 1453.53 L3416.39 1453.53 M3411.71 1449.69 L3421.32 1449.69 Q3431.37 1449.69 3436.07 1453.88 Q3440.76 1458.05 3440.76 1466.94 Q3440.76 1475.87 3436.04 1480.06 Q3431.32 1484.25 3421.32 1484.25 L3411.71 1484.25 L3411.71 1449.69 Z\" fill=\"#000000\" fill-rule=\"evenodd\" fill-opacity=\"1\" /><path clip-path=\"url(#clip2500)\" d=\"M 0 0 M3467.41 1470.22 L3467.41 1472.31 L3447.82 1472.31 Q3448.1 1476.71 3450.46 1479.02 Q3452.85 1481.31 3457.08 1481.31 Q3459.54 1481.31 3461.83 1480.71 Q3464.14 1480.11 3466.41 1478.9 L3466.41 1482.93 Q3464.12 1483.9 3461.71 1484.41 Q3459.31 1484.92 3456.83 1484.92 Q3450.63 1484.92 3446.99 1481.31 Q3443.38 1477.7 3443.38 1471.54 Q3443.38 1465.18 3446.81 1461.45 Q3450.25 1457.7 3456.09 1457.7 Q3461.32 1457.7 3464.35 1461.08 Q3467.41 1464.44 3467.41 1470.22 M3463.15 1468.97 Q3463.1 1465.48 3461.18 1463.4 Q3459.28 1461.31 3456.13 1461.31 Q3452.57 1461.31 3450.42 1463.33 Q3448.29 1465.34 3447.96 1469 L3463.15 1468.97 Z\" fill=\"#000000\" fill-rule=\"evenodd\" fill-opacity=\"1\" /><path clip-path=\"url(#clip2500)\" d=\"M 0 0 M3490.53 1459.32 L3490.53 1463.3 Q3488.73 1462.31 3486.9 1461.82 Q3485.09 1461.31 3483.24 1461.31 Q3479.1 1461.31 3476.81 1463.95 Q3474.51 1466.57 3474.51 1471.31 Q3474.51 1476.06 3476.81 1478.7 Q3479.1 1481.31 3483.24 1481.31 Q3485.09 1481.31 3486.9 1480.83 Q3488.73 1480.32 3490.53 1479.32 L3490.53 1483.26 Q3488.75 1484.09 3486.83 1484.51 Q3484.93 1484.92 3482.78 1484.92 Q3476.92 1484.92 3473.47 1481.24 Q3470.02 1477.56 3470.02 1471.31 Q3470.02 1464.97 3473.5 1461.34 Q3476.99 1457.7 3483.06 1457.7 Q3485.02 1457.7 3486.9 1458.12 Q3488.77 1458.51 3490.53 1459.32 Z\" fill=\"#000000\" fill-rule=\"evenodd\" fill-opacity=\"1\" /><path clip-path=\"url(#clip2500)\" d=\"M 0 0 M3495.6 1478.37 L3500.49 1478.37 L3500.49 1484.25 L3495.6 1484.25 L3495.6 1478.37 Z\" fill=\"#000000\" fill-rule=\"evenodd\" fill-opacity=\"1\" /><path clip-path=\"url(#clip2500)\" d=\"M 0 0 M3530.62 1467.84 Q3527.29 1467.84 3525.37 1469.62 Q3523.47 1471.4 3523.47 1474.53 Q3523.47 1477.65 3525.37 1479.44 Q3527.29 1481.22 3530.62 1481.22 Q3533.96 1481.22 3535.88 1479.44 Q3537.8 1477.63 3537.8 1474.53 Q3537.8 1471.4 3535.88 1469.62 Q3533.98 1467.84 3530.62 1467.84 M3525.95 1465.85 Q3522.94 1465.11 3521.25 1463.05 Q3519.58 1460.99 3519.58 1458.03 Q3519.58 1453.88 3522.52 1451.47 Q3525.49 1449.07 3530.62 1449.07 Q3535.79 1449.07 3538.73 1451.47 Q3541.67 1453.88 3541.67 1458.03 Q3541.67 1460.99 3539.98 1463.05 Q3538.31 1465.11 3535.32 1465.85 Q3538.7 1466.64 3540.58 1468.93 Q3542.48 1471.22 3542.48 1474.53 Q3542.48 1479.55 3539.4 1482.24 Q3536.34 1484.92 3530.62 1484.92 Q3524.91 1484.92 3521.83 1482.24 Q3518.77 1479.55 3518.77 1474.53 Q3518.77 1471.22 3520.67 1468.93 Q3522.57 1466.64 3525.95 1465.85 M3524.24 1458.46 Q3524.24 1461.15 3525.9 1462.65 Q3527.59 1464.16 3530.62 1464.16 Q3533.63 1464.16 3535.32 1462.65 Q3537.04 1461.15 3537.04 1458.46 Q3537.04 1455.78 3535.32 1454.28 Q3533.63 1452.77 3530.62 1452.77 Q3527.59 1452.77 3525.9 1454.28 Q3524.24 1455.78 3524.24 1458.46 Z\" fill=\"#000000\" fill-rule=\"evenodd\" fill-opacity=\"1\" /><path clip-path=\"url(#clip2500)\" d=\"M 0 0 M3548.03 1478.37 L3552.92 1478.37 L3552.92 1482.35 L3549.12 1489.76 L3546.13 1489.76 L3548.03 1482.35 L3548.03 1478.37 Z\" fill=\"#000000\" fill-rule=\"evenodd\" fill-opacity=\"1\" /><path clip-path=\"url(#clip2500)\" d=\"M 0 0 M3577.08 1480.32 L3593.4 1480.32 L3593.4 1484.25 L3571.46 1484.25 L3571.46 1480.32 Q3574.12 1477.56 3578.7 1472.93 Q3583.31 1468.28 3584.49 1466.94 Q3586.74 1464.41 3587.62 1462.68 Q3588.52 1460.92 3588.52 1459.23 Q3588.52 1456.47 3586.57 1454.74 Q3584.65 1453 3581.55 1453 Q3579.35 1453 3576.9 1453.77 Q3574.47 1454.53 3571.69 1456.08 L3571.69 1451.36 Q3574.51 1450.22 3576.97 1449.65 Q3579.42 1449.07 3581.46 1449.07 Q3586.83 1449.07 3590.02 1451.75 Q3593.22 1454.44 3593.22 1458.93 Q3593.22 1461.06 3592.41 1462.98 Q3591.62 1464.88 3589.51 1467.47 Q3588.93 1468.14 3585.83 1471.36 Q3582.73 1474.55 3577.08 1480.32 Z\" fill=\"#000000\" fill-rule=\"evenodd\" fill-opacity=\"1\" /><path clip-path=\"url(#clip2500)\" d=\"M 0 0 M3608.47 1452.77 Q3604.86 1452.77 3603.03 1456.34 Q3601.23 1459.88 3601.23 1467.01 Q3601.23 1474.11 3603.03 1477.68 Q3604.86 1481.22 3608.47 1481.22 Q3612.11 1481.22 3613.91 1477.68 Q3615.74 1474.11 3615.74 1467.01 Q3615.74 1459.88 3613.91 1456.34 Q3612.11 1452.77 3608.47 1452.77 M3608.47 1449.07 Q3614.28 1449.07 3617.34 1453.67 Q3620.42 1458.26 3620.42 1467.01 Q3620.42 1475.73 3617.34 1480.34 Q3614.28 1484.92 3608.47 1484.92 Q3602.66 1484.92 3599.58 1480.34 Q3596.53 1475.73 3596.53 1467.01 Q3596.53 1458.26 3599.58 1453.67 Q3602.66 1449.07 3608.47 1449.07 Z\" fill=\"#000000\" fill-rule=\"evenodd\" fill-opacity=\"1\" /><path clip-path=\"url(#clip2500)\" d=\"M 0 0 M3658.99 1453.53 L3658.99 1480.41 L3664.64 1480.41 Q3671.79 1480.41 3675.1 1477.17 Q3678.43 1473.93 3678.43 1466.94 Q3678.43 1459.99 3675.1 1456.78 Q3671.79 1453.53 3664.64 1453.53 L3658.99 1453.53 M3654.31 1449.69 L3663.92 1449.69 Q3673.96 1449.69 3678.66 1453.88 Q3683.36 1458.05 3683.36 1466.94 Q3683.36 1475.87 3678.64 1480.06 Q3673.92 1484.25 3663.92 1484.25 L3654.31 1484.25 L3654.31 1449.69 Z\" fill=\"#000000\" fill-rule=\"evenodd\" fill-opacity=\"1\" /><path clip-path=\"url(#clip2500)\" d=\"M 0 0 M3710.01 1470.22 L3710.01 1472.31 L3690.42 1472.31 Q3690.7 1476.71 3693.06 1479.02 Q3695.45 1481.31 3699.68 1481.31 Q3702.13 1481.31 3704.43 1480.71 Q3706.74 1480.11 3709.01 1478.9 L3709.01 1482.93 Q3706.72 1483.9 3704.31 1484.41 Q3701.9 1484.92 3699.43 1484.92 Q3693.22 1484.92 3689.59 1481.31 Q3685.98 1477.7 3685.98 1471.54 Q3685.98 1465.18 3689.4 1461.45 Q3692.85 1457.7 3698.69 1457.7 Q3703.92 1457.7 3706.95 1461.08 Q3710.01 1464.44 3710.01 1470.22 M3705.75 1468.97 Q3705.7 1465.48 3703.78 1463.4 Q3701.88 1461.31 3698.73 1461.31 Q3695.17 1461.31 3693.01 1463.33 Q3690.88 1465.34 3690.56 1469 L3705.75 1468.97 Z\" fill=\"#000000\" fill-rule=\"evenodd\" fill-opacity=\"1\" /><path clip-path=\"url(#clip2500)\" d=\"M 0 0 M3733.13 1459.32 L3733.13 1463.3 Q3731.32 1462.31 3729.5 1461.82 Q3727.69 1461.31 3725.84 1461.31 Q3721.69 1461.31 3719.4 1463.95 Q3717.11 1466.57 3717.11 1471.31 Q3717.11 1476.06 3719.4 1478.7 Q3721.69 1481.31 3725.84 1481.31 Q3727.69 1481.31 3729.5 1480.83 Q3731.32 1480.32 3733.13 1479.32 L3733.13 1483.26 Q3731.35 1484.09 3729.43 1484.51 Q3727.53 1484.92 3725.38 1484.92 Q3719.52 1484.92 3716.07 1481.24 Q3712.62 1477.56 3712.62 1471.31 Q3712.62 1464.97 3716.09 1461.34 Q3719.59 1457.7 3725.65 1457.7 Q3727.62 1457.7 3729.5 1458.12 Q3731.37 1458.51 3733.13 1459.32 Z\" fill=\"#000000\" fill-rule=\"evenodd\" fill-opacity=\"1\" /><path clip-path=\"url(#clip2500)\" d=\"M 0 0 M3738.2 1478.37 L3743.08 1478.37 L3743.08 1484.25 L3738.2 1484.25 L3738.2 1478.37 Z\" fill=\"#000000\" fill-rule=\"evenodd\" fill-opacity=\"1\" /><path clip-path=\"url(#clip2500)\" d=\"M 0 0 M3764.03 1480.32 L3771.67 1480.32 L3771.67 1453.95 L3763.36 1455.62 L3763.36 1451.36 L3771.63 1449.69 L3776.3 1449.69 L3776.3 1480.32 L3783.94 1480.32 L3783.94 1484.25 L3764.03 1484.25 L3764.03 1480.32 Z\" fill=\"#000000\" fill-rule=\"evenodd\" fill-opacity=\"1\" /><path clip-path=\"url(#clip2500)\" d=\"M 0 0 M3789.06 1449.69 L3807.41 1449.69 L3807.41 1453.63 L3793.34 1453.63 L3793.34 1462.1 Q3794.36 1461.75 3795.38 1461.59 Q3796.39 1461.4 3797.41 1461.4 Q3803.2 1461.4 3806.58 1464.58 Q3809.96 1467.75 3809.96 1473.16 Q3809.96 1478.74 3806.49 1481.84 Q3803.01 1484.92 3796.69 1484.92 Q3794.52 1484.92 3792.25 1484.55 Q3790 1484.18 3787.6 1483.44 L3787.6 1478.74 Q3789.68 1479.88 3791.9 1480.43 Q3794.13 1480.99 3796.6 1480.99 Q3800.61 1480.99 3802.94 1478.88 Q3805.28 1476.78 3805.28 1473.16 Q3805.28 1469.55 3802.94 1467.45 Q3800.61 1465.34 3796.6 1465.34 Q3794.73 1465.34 3792.85 1465.76 Q3791 1466.17 3789.06 1467.05 L3789.06 1449.69 Z\" fill=\"#000000\" fill-rule=\"evenodd\" fill-opacity=\"1\" /><path clip-path=\"url(#clip2500)\" d=\"M 0 0 M3815.51 1478.37 L3820.4 1478.37 L3820.4 1482.35 L3816.6 1489.76 L3813.62 1489.76 L3815.51 1482.35 L3815.51 1478.37 Z\" fill=\"#000000\" fill-rule=\"evenodd\" fill-opacity=\"1\" /><path clip-path=\"url(#clip2500)\" d=\"M 0 0 M3844.56 1480.32 L3860.88 1480.32 L3860.88 1484.25 L3838.94 1484.25 L3838.94 1480.32 Q3841.6 1477.56 3846.19 1472.93 Q3850.79 1468.28 3851.97 1466.94 Q3854.22 1464.41 3855.1 1462.68 Q3856 1460.92 3856 1459.23 Q3856 1456.47 3854.06 1454.74 Q3852.13 1453 3849.03 1453 Q3846.83 1453 3844.38 1453.77 Q3841.95 1454.53 3839.17 1456.08 L3839.17 1451.36 Q3842 1450.22 3844.45 1449.65 Q3846.9 1449.07 3848.94 1449.07 Q3854.31 1449.07 3857.5 1451.75 Q3860.7 1454.44 3860.7 1458.93 Q3860.7 1461.06 3859.89 1462.98 Q3859.1 1464.88 3857 1467.47 Q3856.42 1468.14 3853.31 1471.36 Q3850.21 1474.55 3844.56 1480.32 Z\" fill=\"#000000\" fill-rule=\"evenodd\" fill-opacity=\"1\" /><path clip-path=\"url(#clip2500)\" d=\"M 0 0 M3875.95 1452.77 Q3872.34 1452.77 3870.51 1456.34 Q3868.71 1459.88 3868.71 1467.01 Q3868.71 1474.11 3870.51 1477.68 Q3872.34 1481.22 3875.95 1481.22 Q3879.59 1481.22 3881.39 1477.68 Q3883.22 1474.11 3883.22 1467.01 Q3883.22 1459.88 3881.39 1456.34 Q3879.59 1452.77 3875.95 1452.77 M3875.95 1449.07 Q3881.76 1449.07 3884.82 1453.67 Q3887.9 1458.26 3887.9 1467.01 Q3887.9 1475.73 3884.82 1480.34 Q3881.76 1484.92 3875.95 1484.92 Q3870.14 1484.92 3867.06 1480.34 Q3864.01 1475.73 3864.01 1467.01 Q3864.01 1458.26 3867.06 1453.67 Q3870.14 1449.07 3875.95 1449.07 Z\" fill=\"#000000\" fill-rule=\"evenodd\" fill-opacity=\"1\" /><path clip-path=\"url(#clip2500)\" d=\"M 0 0 M118.398 1270.76 L134.717 1270.76 L134.717 1274.7 L112.773 1274.7 L112.773 1270.76 Q115.435 1268.01 120.018 1263.38 Q124.625 1258.73 125.805 1257.38 Q128.051 1254.86 128.93 1253.13 Q129.833 1251.37 129.833 1249.68 Q129.833 1246.92 127.889 1245.19 Q125.967 1243.45 122.866 1243.45 Q120.667 1243.45 118.213 1244.21 Q115.782 1244.98 113.005 1246.53 L113.005 1241.81 Q115.829 1240.67 118.282 1240.09 Q120.736 1239.51 122.773 1239.51 Q128.143 1239.51 131.338 1242.2 Q134.532 1244.88 134.532 1249.38 Q134.532 1251.5 133.722 1253.43 Q132.935 1255.32 130.829 1257.92 Q130.25 1258.59 127.148 1261.81 Q124.046 1265 118.398 1270.76 Z\" fill=\"#000000\" fill-rule=\"evenodd\" fill-opacity=\"1\" /><path clip-path=\"url(#clip2500)\" d=\"M 0 0 M138.606 1240.14 L160.828 1240.14 L160.828 1242.13 L148.282 1274.7 L143.398 1274.7 L155.203 1244.07 L138.606 1244.07 L138.606 1240.14 Z\" fill=\"#000000\" fill-rule=\"evenodd\" fill-opacity=\"1\" /><path clip-path=\"url(#clip2500)\" d=\"M 0 0 M175.898 1243.22 Q172.287 1243.22 170.458 1246.78 Q168.652 1250.32 168.652 1257.45 Q168.652 1264.56 170.458 1268.13 Q172.287 1271.67 175.898 1271.67 Q179.532 1271.67 181.338 1268.13 Q183.166 1264.56 183.166 1257.45 Q183.166 1250.32 181.338 1246.78 Q179.532 1243.22 175.898 1243.22 M175.898 1239.51 Q181.708 1239.51 184.763 1244.12 Q187.842 1248.7 187.842 1257.45 Q187.842 1266.18 184.763 1270.79 Q181.708 1275.37 175.898 1275.37 Q170.088 1275.37 167.009 1270.79 Q163.953 1266.18 163.953 1257.45 Q163.953 1248.7 167.009 1244.12 Q170.088 1239.51 175.898 1239.51 Z\" fill=\"#000000\" fill-rule=\"evenodd\" fill-opacity=\"1\" /><path clip-path=\"url(#clip2500)\" d=\"M 0 0 M202.912 1243.22 Q199.3 1243.22 197.472 1246.78 Q195.666 1250.32 195.666 1257.45 Q195.666 1264.56 197.472 1268.13 Q199.3 1271.67 202.912 1271.67 Q206.546 1271.67 208.351 1268.13 Q210.18 1264.56 210.18 1257.45 Q210.18 1250.32 208.351 1246.78 Q206.546 1243.22 202.912 1243.22 M202.912 1239.51 Q208.722 1239.51 211.777 1244.12 Q214.856 1248.7 214.856 1257.45 Q214.856 1266.18 211.777 1270.79 Q208.722 1275.37 202.912 1275.37 Q197.101 1275.37 194.023 1270.79 Q190.967 1266.18 190.967 1257.45 Q190.967 1248.7 194.023 1244.12 Q197.101 1239.51 202.912 1239.51 Z\" fill=\"#000000\" fill-rule=\"evenodd\" fill-opacity=\"1\" /><path clip-path=\"url(#clip2500)\" d=\"M 0 0 M229.925 1243.22 Q226.314 1243.22 224.485 1246.78 Q222.68 1250.32 222.68 1257.45 Q222.68 1264.56 224.485 1268.13 Q226.314 1271.67 229.925 1271.67 Q233.56 1271.67 235.365 1268.13 Q237.194 1264.56 237.194 1257.45 Q237.194 1250.32 235.365 1246.78 Q233.56 1243.22 229.925 1243.22 M229.925 1239.51 Q235.735 1239.51 238.791 1244.12 Q241.87 1248.7 241.87 1257.45 Q241.87 1266.18 238.791 1270.79 Q235.735 1275.37 229.925 1275.37 Q224.115 1275.37 221.036 1270.79 Q217.981 1266.18 217.981 1257.45 Q217.981 1248.7 221.036 1244.12 Q224.115 1239.51 229.925 1239.51 Z\" fill=\"#000000\" fill-rule=\"evenodd\" fill-opacity=\"1\" /><path clip-path=\"url(#clip2500)\" d=\"M 0 0 M117.588 919.464 L133.907 919.464 L133.907 923.399 L111.963 923.399 L111.963 919.464 Q114.625 916.71 119.208 912.08 Q123.815 907.427 124.995 906.085 Q127.241 903.561 128.12 901.825 Q129.023 900.066 129.023 898.376 Q129.023 895.622 127.079 893.886 Q125.157 892.149 122.055 892.149 Q119.856 892.149 117.403 892.913 Q114.972 893.677 112.194 895.228 L112.194 890.506 Q115.018 889.372 117.472 888.793 Q119.926 888.214 121.963 888.214 Q127.333 888.214 130.528 890.899 Q133.722 893.585 133.722 898.075 Q133.722 900.205 132.912 902.126 Q132.125 904.024 130.018 906.617 Q129.44 907.288 126.338 910.506 Q123.236 913.7 117.588 919.464 Z\" fill=\"#000000\" fill-rule=\"evenodd\" fill-opacity=\"1\" /><path clip-path=\"url(#clip2500)\" d=\"M 0 0 M148.977 906.987 Q145.643 906.987 143.722 908.77 Q141.824 910.552 141.824 913.677 Q141.824 916.802 143.722 918.585 Q145.643 920.367 148.977 920.367 Q152.31 920.367 154.231 918.585 Q156.153 916.779 156.153 913.677 Q156.153 910.552 154.231 908.77 Q152.333 906.987 148.977 906.987 M144.301 904.997 Q141.291 904.256 139.602 902.196 Q137.935 900.136 137.935 897.173 Q137.935 893.029 140.875 890.622 Q143.838 888.214 148.977 888.214 Q154.139 888.214 157.078 890.622 Q160.018 893.029 160.018 897.173 Q160.018 900.136 158.328 902.196 Q156.662 904.256 153.676 904.997 Q157.055 905.784 158.93 908.075 Q160.828 910.367 160.828 913.677 Q160.828 918.7 157.75 921.385 Q154.694 924.071 148.977 924.071 Q143.259 924.071 140.18 921.385 Q137.125 918.7 137.125 913.677 Q137.125 910.367 139.023 908.075 Q140.921 905.784 144.301 904.997 M142.588 897.612 Q142.588 900.298 144.254 901.802 Q145.944 903.307 148.977 903.307 Q151.986 903.307 153.676 901.802 Q155.389 900.298 155.389 897.612 Q155.389 894.927 153.676 893.423 Q151.986 891.918 148.977 891.918 Q145.944 891.918 144.254 893.423 Q142.588 894.927 142.588 897.612 Z\" fill=\"#000000\" fill-rule=\"evenodd\" fill-opacity=\"1\" /><path clip-path=\"url(#clip2500)\" d=\"M 0 0 M175.898 891.918 Q172.287 891.918 170.458 895.483 Q168.652 899.024 168.652 906.154 Q168.652 913.26 170.458 916.825 Q172.287 920.367 175.898 920.367 Q179.532 920.367 181.338 916.825 Q183.166 913.26 183.166 906.154 Q183.166 899.024 181.338 895.483 Q179.532 891.918 175.898 891.918 M175.898 888.214 Q181.708 888.214 184.763 892.821 Q187.842 897.404 187.842 906.154 Q187.842 914.881 184.763 919.487 Q181.708 924.071 175.898 924.071 Q170.088 924.071 167.009 919.487 Q163.953 914.881 163.953 906.154 Q163.953 897.404 167.009 892.821 Q170.088 888.214 175.898 888.214 Z\" fill=\"#000000\" fill-rule=\"evenodd\" fill-opacity=\"1\" /><path clip-path=\"url(#clip2500)\" d=\"M 0 0 M202.912 891.918 Q199.3 891.918 197.472 895.483 Q195.666 899.024 195.666 906.154 Q195.666 913.26 197.472 916.825 Q199.3 920.367 202.912 920.367 Q206.546 920.367 208.351 916.825 Q210.18 913.26 210.18 906.154 Q210.18 899.024 208.351 895.483 Q206.546 891.918 202.912 891.918 M202.912 888.214 Q208.722 888.214 211.777 892.821 Q214.856 897.404 214.856 906.154 Q214.856 914.881 211.777 919.487 Q208.722 924.071 202.912 924.071 Q197.101 924.071 194.023 919.487 Q190.967 914.881 190.967 906.154 Q190.967 897.404 194.023 892.821 Q197.101 888.214 202.912 888.214 Z\" fill=\"#000000\" fill-rule=\"evenodd\" fill-opacity=\"1\" /><path clip-path=\"url(#clip2500)\" d=\"M 0 0 M229.925 891.918 Q226.314 891.918 224.485 895.483 Q222.68 899.024 222.68 906.154 Q222.68 913.26 224.485 916.825 Q226.314 920.367 229.925 920.367 Q233.56 920.367 235.365 916.825 Q237.194 913.26 237.194 906.154 Q237.194 899.024 235.365 895.483 Q233.56 891.918 229.925 891.918 M229.925 888.214 Q235.735 888.214 238.791 892.821 Q241.87 897.404 241.87 906.154 Q241.87 914.881 238.791 919.487 Q235.735 924.071 229.925 924.071 Q224.115 924.071 221.036 919.487 Q217.981 914.881 217.981 906.154 Q217.981 897.404 221.036 892.821 Q224.115 888.214 229.925 888.214 Z\" fill=\"#000000\" fill-rule=\"evenodd\" fill-opacity=\"1\" /><path clip-path=\"url(#clip2500)\" d=\"M 0 0 M117.68 568.164 L134 568.164 L134 572.1 L112.056 572.1 L112.056 568.164 Q114.718 565.41 119.301 560.78 Q123.907 556.127 125.088 554.785 Q127.333 552.262 128.213 550.526 Q129.116 548.766 129.116 547.077 Q129.116 544.322 127.171 542.586 Q125.25 540.85 122.148 540.85 Q119.949 540.85 117.495 541.614 Q115.065 542.377 112.287 543.928 L112.287 539.206 Q115.111 538.072 117.565 537.493 Q120.018 536.915 122.055 536.915 Q127.426 536.915 130.62 539.6 Q133.815 542.285 133.815 546.776 Q133.815 548.905 133.004 550.827 Q132.217 552.725 130.111 555.317 Q129.532 555.989 126.43 559.206 Q123.329 562.401 117.68 568.164 Z\" fill=\"#000000\" fill-rule=\"evenodd\" fill-opacity=\"1\" /><path clip-path=\"url(#clip2500)\" d=\"M 0 0 M139.208 571.382 L139.208 567.123 Q140.967 567.956 142.773 568.396 Q144.578 568.836 146.315 568.836 Q150.944 568.836 153.375 565.734 Q155.828 562.609 156.176 556.266 Q154.833 558.257 152.773 559.322 Q150.713 560.387 148.213 560.387 Q143.028 560.387 139.995 557.262 Q136.986 554.114 136.986 548.674 Q136.986 543.35 140.134 540.132 Q143.282 536.915 148.514 536.915 Q154.509 536.915 157.657 541.521 Q160.828 546.104 160.828 554.854 Q160.828 563.026 156.94 567.91 Q153.074 572.771 146.523 572.771 Q144.764 572.771 142.958 572.424 Q141.153 572.076 139.208 571.382 M148.514 556.729 Q151.662 556.729 153.49 554.576 Q155.342 552.424 155.342 548.674 Q155.342 544.947 153.49 542.794 Q151.662 540.618 148.514 540.618 Q145.366 540.618 143.514 542.794 Q141.685 544.947 141.685 548.674 Q141.685 552.424 143.514 554.576 Q145.366 556.729 148.514 556.729 Z\" fill=\"#000000\" fill-rule=\"evenodd\" fill-opacity=\"1\" /><path clip-path=\"url(#clip2500)\" d=\"M 0 0 M175.898 540.618 Q172.287 540.618 170.458 544.183 Q168.652 547.725 168.652 554.854 Q168.652 561.961 170.458 565.526 Q172.287 569.067 175.898 569.067 Q179.532 569.067 181.338 565.526 Q183.166 561.961 183.166 554.854 Q183.166 547.725 181.338 544.183 Q179.532 540.618 175.898 540.618 M175.898 536.915 Q181.708 536.915 184.763 541.521 Q187.842 546.104 187.842 554.854 Q187.842 563.581 184.763 568.188 Q181.708 572.771 175.898 572.771 Q170.088 572.771 167.009 568.188 Q163.953 563.581 163.953 554.854 Q163.953 546.104 167.009 541.521 Q170.088 536.915 175.898 536.915 Z\" fill=\"#000000\" fill-rule=\"evenodd\" fill-opacity=\"1\" /><path clip-path=\"url(#clip2500)\" d=\"M 0 0 M202.912 540.618 Q199.3 540.618 197.472 544.183 Q195.666 547.725 195.666 554.854 Q195.666 561.961 197.472 565.526 Q199.3 569.067 202.912 569.067 Q206.546 569.067 208.351 565.526 Q210.18 561.961 210.18 554.854 Q210.18 547.725 208.351 544.183 Q206.546 540.618 202.912 540.618 M202.912 536.915 Q208.722 536.915 211.777 541.521 Q214.856 546.104 214.856 554.854 Q214.856 563.581 211.777 568.188 Q208.722 572.771 202.912 572.771 Q197.101 572.771 194.023 568.188 Q190.967 563.581 190.967 554.854 Q190.967 546.104 194.023 541.521 Q197.101 536.915 202.912 536.915 Z\" fill=\"#000000\" fill-rule=\"evenodd\" fill-opacity=\"1\" /><path clip-path=\"url(#clip2500)\" d=\"M 0 0 M229.925 540.618 Q226.314 540.618 224.485 544.183 Q222.68 547.725 222.68 554.854 Q222.68 561.961 224.485 565.526 Q226.314 569.067 229.925 569.067 Q233.56 569.067 235.365 565.526 Q237.194 561.961 237.194 554.854 Q237.194 547.725 235.365 544.183 Q233.56 540.618 229.925 540.618 M229.925 536.915 Q235.735 536.915 238.791 541.521 Q241.87 546.104 241.87 554.854 Q241.87 563.581 238.791 568.188 Q235.735 572.771 229.925 572.771 Q224.115 572.771 221.036 568.188 Q217.981 563.581 217.981 554.854 Q217.981 546.104 221.036 541.521 Q224.115 536.915 229.925 536.915 Z\" fill=\"#000000\" fill-rule=\"evenodd\" fill-opacity=\"1\" /><path clip-path=\"url(#clip2500)\" d=\"M 0 0 M126.685 202.166 Q130.042 202.883 131.917 205.152 Q133.815 207.42 133.815 210.754 Q133.815 215.869 130.296 218.67 Q126.778 221.471 120.296 221.471 Q118.12 221.471 115.806 221.031 Q113.514 220.615 111.06 219.758 L111.06 215.244 Q113.005 216.379 115.319 216.957 Q117.634 217.536 120.157 217.536 Q124.555 217.536 126.847 215.8 Q129.162 214.064 129.162 210.754 Q129.162 207.698 127.009 205.985 Q124.88 204.249 121.06 204.249 L117.032 204.249 L117.032 200.406 L121.245 200.406 Q124.694 200.406 126.523 199.041 Q128.352 197.652 128.352 195.059 Q128.352 192.397 126.454 190.985 Q124.579 189.55 121.06 189.55 Q119.139 189.55 116.94 189.967 Q114.741 190.383 112.102 191.263 L112.102 187.096 Q114.764 186.356 117.079 185.985 Q119.417 185.615 121.477 185.615 Q126.801 185.615 129.903 188.045 Q133.004 190.453 133.004 194.573 Q133.004 197.443 131.361 199.434 Q129.717 201.402 126.685 202.166 Z\" fill=\"#000000\" fill-rule=\"evenodd\" fill-opacity=\"1\" /><path clip-path=\"url(#clip2500)\" d=\"M 0 0 M148.884 189.318 Q145.273 189.318 143.444 192.883 Q141.639 196.425 141.639 203.555 Q141.639 210.661 143.444 214.226 Q145.273 217.767 148.884 217.767 Q152.518 217.767 154.324 214.226 Q156.153 210.661 156.153 203.555 Q156.153 196.425 154.324 192.883 Q152.518 189.318 148.884 189.318 M148.884 185.615 Q154.694 185.615 157.75 190.221 Q160.828 194.805 160.828 203.555 Q160.828 212.281 157.75 216.888 Q154.694 221.471 148.884 221.471 Q143.074 221.471 139.995 216.888 Q136.94 212.281 136.94 203.555 Q136.94 194.805 139.995 190.221 Q143.074 185.615 148.884 185.615 Z\" fill=\"#000000\" fill-rule=\"evenodd\" fill-opacity=\"1\" /><path clip-path=\"url(#clip2500)\" d=\"M 0 0 M175.898 189.318 Q172.287 189.318 170.458 192.883 Q168.652 196.425 168.652 203.555 Q168.652 210.661 170.458 214.226 Q172.287 217.767 175.898 217.767 Q179.532 217.767 181.338 214.226 Q183.166 210.661 183.166 203.555 Q183.166 196.425 181.338 192.883 Q179.532 189.318 175.898 189.318 M175.898 185.615 Q181.708 185.615 184.763 190.221 Q187.842 194.805 187.842 203.555 Q187.842 212.281 184.763 216.888 Q181.708 221.471 175.898 221.471 Q170.088 221.471 167.009 216.888 Q163.953 212.281 163.953 203.555 Q163.953 194.805 167.009 190.221 Q170.088 185.615 175.898 185.615 Z\" fill=\"#000000\" fill-rule=\"evenodd\" fill-opacity=\"1\" /><path clip-path=\"url(#clip2500)\" d=\"M 0 0 M202.912 189.318 Q199.3 189.318 197.472 192.883 Q195.666 196.425 195.666 203.555 Q195.666 210.661 197.472 214.226 Q199.3 217.767 202.912 217.767 Q206.546 217.767 208.351 214.226 Q210.18 210.661 210.18 203.555 Q210.18 196.425 208.351 192.883 Q206.546 189.318 202.912 189.318 M202.912 185.615 Q208.722 185.615 211.777 190.221 Q214.856 194.805 214.856 203.555 Q214.856 212.281 211.777 216.888 Q208.722 221.471 202.912 221.471 Q197.101 221.471 194.023 216.888 Q190.967 212.281 190.967 203.555 Q190.967 194.805 194.023 190.221 Q197.101 185.615 202.912 185.615 Z\" fill=\"#000000\" fill-rule=\"evenodd\" fill-opacity=\"1\" /><path clip-path=\"url(#clip2500)\" d=\"M 0 0 M229.925 189.318 Q226.314 189.318 224.485 192.883 Q222.68 196.425 222.68 203.555 Q222.68 210.661 224.485 214.226 Q226.314 217.767 229.925 217.767 Q233.56 217.767 235.365 214.226 Q237.194 210.661 237.194 203.555 Q237.194 196.425 235.365 192.883 Q233.56 189.318 229.925 189.318 M229.925 185.615 Q235.735 185.615 238.791 190.221 Q241.87 194.805 241.87 203.555 Q241.87 212.281 238.791 216.888 Q235.735 221.471 229.925 221.471 Q224.115 221.471 221.036 216.888 Q217.981 212.281 217.981 203.555 Q217.981 194.805 221.036 190.221 Q224.115 185.615 229.925 185.615 Z\" fill=\"#000000\" fill-rule=\"evenodd\" fill-opacity=\"1\" /><path clip-path=\"url(#clip2500)\" d=\"M 0 0 M2022.68 1525.47 L2022.68 1535.6 L2034.74 1535.6 L2034.74 1540.15 L2022.68 1540.15 L2022.68 1559.5 Q2022.68 1563.86 2023.85 1565.1 Q2025.06 1566.34 2028.72 1566.34 L2034.74 1566.34 L2034.74 1571.24 L2028.72 1571.24 Q2021.94 1571.24 2019.37 1568.73 Q2016.79 1566.18 2016.79 1559.5 L2016.79 1540.15 L2012.49 1540.15 L2012.49 1535.6 L2016.79 1535.6 L2016.79 1525.47 L2022.68 1525.47 Z\" fill=\"#000000\" fill-rule=\"evenodd\" fill-opacity=\"1\" /><path clip-path=\"url(#clip2500)\" d=\"M 0 0 M2040.88 1535.6 L2046.74 1535.6 L2046.74 1571.24 L2040.88 1571.24 L2040.88 1535.6 M2040.88 1521.72 L2046.74 1521.72 L2046.74 1529.13 L2040.88 1529.13 L2040.88 1521.72 Z\" fill=\"#000000\" fill-rule=\"evenodd\" fill-opacity=\"1\" /><path clip-path=\"url(#clip2500)\" d=\"M 0 0 M2080.64 1542.44 Q2082.83 1538.49 2085.89 1536.61 Q2088.94 1534.74 2093.08 1534.74 Q2098.65 1534.74 2101.68 1538.65 Q2104.7 1542.53 2104.7 1549.73 L2104.7 1571.24 L2098.81 1571.24 L2098.81 1549.92 Q2098.81 1544.79 2097 1542.31 Q2095.18 1539.83 2091.46 1539.83 Q2086.91 1539.83 2084.27 1542.85 Q2081.62 1545.88 2081.62 1551.1 L2081.62 1571.24 L2075.74 1571.24 L2075.74 1549.92 Q2075.74 1544.76 2073.92 1542.31 Q2072.11 1539.83 2068.32 1539.83 Q2063.83 1539.83 2061.19 1542.88 Q2058.55 1545.91 2058.55 1551.1 L2058.55 1571.24 L2052.66 1571.24 L2052.66 1535.6 L2058.55 1535.6 L2058.55 1541.13 Q2060.55 1537.86 2063.35 1536.3 Q2066.15 1534.74 2070.01 1534.74 Q2073.89 1534.74 2076.59 1536.71 Q2079.33 1538.68 2080.64 1542.44 Z\" fill=\"#000000\" fill-rule=\"evenodd\" fill-opacity=\"1\" /><path clip-path=\"url(#clip2500)\" d=\"M 0 0 M2141.33 1551.96 L2141.33 1554.82 L2114.41 1554.82 Q2114.79 1560.87 2118.04 1564.05 Q2121.31 1567.2 2127.14 1567.2 Q2130.51 1567.2 2133.66 1566.37 Q2136.85 1565.55 2139.97 1563.89 L2139.97 1569.43 Q2136.81 1570.77 2133.5 1571.47 Q2130.19 1572.17 2126.79 1572.17 Q2118.26 1572.17 2113.26 1567.2 Q2108.3 1562.24 2108.3 1553.77 Q2108.3 1545.02 2113.01 1539.89 Q2117.75 1534.74 2125.77 1534.74 Q2132.96 1534.74 2137.13 1539.38 Q2141.33 1544 2141.33 1551.96 M2135.48 1550.24 Q2135.41 1545.43 2132.77 1542.57 Q2130.16 1539.7 2125.83 1539.7 Q2120.93 1539.7 2117.97 1542.47 Q2115.04 1545.24 2114.6 1550.27 L2135.48 1550.24 Z\" fill=\"#000000\" fill-rule=\"evenodd\" fill-opacity=\"1\" /><path clip-path=\"url(#clip2500)\" d=\"M 0 0 M21.9562 811.585 L21.9562 805.378 L51.875 794.238 L21.9562 783.098 L21.9562 776.891 L57.6042 790.259 L57.6042 798.217 L21.9562 811.585 Z\" fill=\"#000000\" fill-rule=\"evenodd\" fill-opacity=\"1\" /><path clip-path=\"url(#clip2500)\" d=\"M 0 0 M39.6847 754.548 Q39.6847 761.646 41.3079 764.383 Q42.9312 767.12 46.8461 767.12 Q49.9653 767.12 51.8114 765.083 Q53.6256 763.014 53.6256 759.481 Q53.6256 754.611 50.1881 751.683 Q46.7188 748.723 40.9897 748.723 L39.6847 748.723 L39.6847 754.548 M37.2657 742.867 L57.6042 742.867 L57.6042 748.723 L52.1933 748.723 Q55.4398 750.728 56.9994 753.72 Q58.5272 756.712 58.5272 761.041 Q58.5272 766.515 55.4716 769.762 Q52.3843 772.977 47.2281 772.977 Q41.2125 772.977 38.1569 768.966 Q35.1014 764.924 35.1014 756.935 L35.1014 748.723 L34.5285 748.723 Q30.4862 748.723 28.2901 751.397 Q26.0621 754.039 26.0621 758.845 Q26.0621 761.9 26.7941 764.797 Q27.5262 767.693 28.9903 770.367 L23.5795 770.367 Q22.3381 767.152 21.7334 764.128 Q21.0968 761.104 21.0968 758.24 Q21.0968 750.506 25.1072 746.686 Q29.1176 742.867 37.2657 742.867 Z\" fill=\"#000000\" fill-rule=\"evenodd\" fill-opacity=\"1\" /><path clip-path=\"url(#clip2500)\" d=\"M 0 0 M8.07896 736.724 L8.07896 730.867 L57.6042 730.867 L57.6042 736.724 L8.07896 736.724 Z\" fill=\"#000000\" fill-rule=\"evenodd\" fill-opacity=\"1\" /><path clip-path=\"url(#clip2500)\" d=\"M 0 0 M43.5359 725.329 L21.9562 725.329 L21.9562 719.473 L43.3131 719.473 Q48.3739 719.473 50.9202 717.499 Q53.4346 715.526 53.4346 711.579 Q53.4346 706.837 50.4109 704.1 Q47.3872 701.33 42.1673 701.33 L21.9562 701.33 L21.9562 695.474 L57.6042 695.474 L57.6042 701.33 L52.1296 701.33 Q55.3762 703.463 56.9676 706.296 Q58.5272 709.097 58.5272 712.821 Q58.5272 718.964 54.7078 722.146 Q50.8883 725.329 43.5359 725.329 M21.0968 710.593 L21.0968 710.593 Z\" fill=\"#000000\" fill-rule=\"evenodd\" fill-opacity=\"1\" /><path clip-path=\"url(#clip2500)\" d=\"M 0 0 M38.3161 658.839 L41.1806 658.839 L41.1806 685.766 Q47.2281 685.384 50.4109 682.138 Q53.5619 678.86 53.5619 673.035 Q53.5619 669.661 52.7344 666.51 Q51.9069 663.327 50.2518 660.208 L55.7899 660.208 Q57.1267 663.359 57.827 666.669 Q58.5272 669.979 58.5272 673.385 Q58.5272 681.915 53.5619 686.912 Q48.5967 691.877 40.1303 691.877 Q31.3774 691.877 26.2531 687.167 Q21.0968 682.424 21.0968 674.404 Q21.0968 667.21 25.7438 663.041 Q30.3589 658.839 38.3161 658.839 M36.5973 664.696 Q31.7912 664.76 28.9266 667.401 Q26.0621 670.011 26.0621 674.34 Q26.0621 679.241 28.8312 682.202 Q31.6002 685.13 36.6292 685.575 L36.5973 664.696 Z\" fill=\"#000000\" fill-rule=\"evenodd\" fill-opacity=\"1\" /><polyline clip-path=\"url(#clip2502)\" style=\"stroke:#009af9; stroke-width:4; stroke-opacity:1; fill:none\" points=\"\n",
       "  382.721,966.192 419.155,875.908 455.59,824.969 492.024,777.895 528.458,886.095 564.892,924.738 601.327,924.738 637.761,924.738 674.195,1087.04 710.629,1140.44 \n",
       "  747.063,1094.42 783.498,1224.05 819.932,1173.46 856.366,1173.46 892.8,1173.46 929.235,1003.43 965.669,1044.53 1002.1,896.986 1038.54,891.716 1074.97,954.95 \n",
       "  1111.41,954.95 1147.84,954.95 1184.27,848.857 1220.71,781.759 1257.14,776.138 1293.58,744.873 1330.01,668.641 1366.45,668.641 1402.88,668.641 1439.31,569.574 \n",
       "  1475.75,621.918 1512.18,627.539 1548.62,717.823 1585.05,609.974 1621.48,609.974 1657.92,609.974 1694.35,655.994 1730.79,704.122 1767.22,747.683 1803.66,758.222 \n",
       "  1840.09,752.601 1876.52,752.601 1912.96,752.601 1949.39,840.778 1985.83,1008.7 2022.26,1221.59 2058.7,1295.36 2095.13,1384.24 2131.56,1384.24 2168,1384.24 \n",
       "  2204.43,1242.31 2240.87,1032.59 2277.3,800.027 2313.74,732.226 2350.17,754.358 2386.6,754.358 2423.04,754.358 2459.47,226.706 2495.91,386.547 2532.34,346.499 \n",
       "  2568.77,445.214 2605.21,358.443 2641.64,358.443 2678.08,358.443 2714.51,216.167 2750.95,248.486 2787.38,227.759 2823.81,370.387 2860.25,389.709 2896.68,389.709 \n",
       "  2933.12,389.709 2969.55,320.151 3005.99,162.418 3042.42,182.793 3078.85,182.793 3115.29,198.25 3151.72,198.25 3188.16,198.25 3224.59,254.458 3261.03,174.362 \n",
       "  3297.46,237.596 3333.89,164.526 3370.33,126.936 3406.76,126.936 3443.2,126.936 3479.63,121.667 3516.06,117.1 3552.5,91.1039 3588.93,181.037 3625.37,178.578 \n",
       "  3661.8,178.578 3698.24,178.578 3734.67,178.578 3771.1,178.578 \n",
       "  \"/>\n",
       "<polyline clip-path=\"url(#clip2502)\" style=\"stroke:#e26f46; stroke-width:4; stroke-opacity:1; fill:none\" points=\"\n",
       "  382.721,973.92 419.155,880.474 455.59,811.971 492.024,773.328 528.458,902.606 564.892,930.359 601.327,924.387 637.761,925.792 674.195,1107.77 710.629,1113.39 \n",
       "  747.063,1086.34 783.498,1216.67 819.932,1167.49 856.366,1166.08 892.8,1168.19 929.235,1002.38 965.669,1041.72 1002.1,907.524 1038.54,898.039 1074.97,953.896 \n",
       "  1111.41,955.653 1147.84,955.653 1184.27,846.047 1220.71,783.867 1257.14,804.242 1293.58,750.494 1330.01,666.182 1366.45,674.613 1402.88,685.152 1439.31,565.007 \n",
       "  1475.75,609.622 1512.18,617.351 1548.62,716.066 1585.05,615.594 1621.48,614.541 1657.92,613.838 1694.35,636.321 1730.79,694.988 1767.22,738.901 1803.66,758.573 \n",
       "  1840.09,754.007 1876.52,754.007 1912.96,757.871 1949.39,843.939 1985.83,999.565 2022.26,1204.72 2058.7,1307.3 2095.13,1365.62 2131.56,1367.02 2168,1366.67 \n",
       "  2204.43,1236.69 2240.87,1047.69 2277.3,822.51 2313.74,725.2 2350.17,742.414 2386.6,739.603 2423.04,735.036 2459.47,253.053 2495.91,431.865 2532.34,379.872 \n",
       "  2568.77,461.374 2605.21,374.603 2641.64,367.225 2678.08,361.605 2714.51,208.087 2750.95,251.297 2787.38,216.869 2823.81,366.874 2860.25,370.738 2896.68,379.17 \n",
       "  2933.12,381.98 2969.55,329.285 3005.99,175.065 3042.42,182.091 3078.85,181.739 3115.29,194.737 3151.72,201.061 3188.16,207.033 3224.59,248.486 3261.03,166.282 \n",
       "  3297.46,230.219 3333.89,164.526 3370.33,119.208 3406.76,121.316 3443.2,125.18 3479.63,140.988 3516.06,130.098 3552.5,86.1857 3588.93,167.687 3625.37,179.983 \n",
       "  3661.8,187.36 3698.24,199.655 3734.67,213.356 3771.1,227.057 \n",
       "  \"/>\n",
       "<polyline clip-path=\"url(#clip2502)\" style=\"stroke:#3da44d; stroke-width:4; stroke-opacity:1; fill:none\" points=\"\n",
       "  3643.58,2799.12 3643.58,-1328.69 \n",
       "  \"/>\n",
       "<path clip-path=\"url(#clip2500)\" d=\"\n",
       "M398.67 463.884 L1220.95 463.884 L1220.95 221.964 L398.67 221.964  Z\n",
       "  \" fill=\"#ffffff\" fill-rule=\"evenodd\" fill-opacity=\"1\"/>\n",
       "<polyline clip-path=\"url(#clip2500)\" style=\"stroke:#000000; stroke-width:4; stroke-opacity:1; fill:none\" points=\"\n",
       "  398.67,463.884 1220.95,463.884 1220.95,221.964 398.67,221.964 398.67,463.884 \n",
       "  \"/>\n",
       "<polyline clip-path=\"url(#clip2500)\" style=\"stroke:#009af9; stroke-width:4; stroke-opacity:1; fill:none\" points=\"\n",
       "  437.87,282.444 673.07,282.444 \n",
       "  \"/>\n",
       "<path clip-path=\"url(#clip2500)\" d=\"M 0 0 M716.946 269.007 L716.946 295.882 L722.594 295.882 Q729.746 295.882 733.057 292.641 Q736.39 289.4 736.39 282.409 Q736.39 275.465 733.057 272.247 Q729.746 269.007 722.594 269.007 L716.946 269.007 M712.27 265.164 L721.876 265.164 Q731.922 265.164 736.621 269.354 Q741.32 273.521 741.32 282.409 Q741.32 291.345 736.598 295.534 Q731.876 299.724 721.876 299.724 L712.27 299.724 L712.27 265.164 Z\" fill=\"#000000\" fill-rule=\"evenodd\" fill-opacity=\"1\" /><path clip-path=\"url(#clip2500)\" d=\"M 0 0 M745.973 265.164 L750.649 265.164 L750.649 297.317 Q750.649 303.567 748.265 306.391 Q745.904 309.215 740.649 309.215 L738.867 309.215 L738.867 305.28 L740.325 305.28 Q743.427 305.28 744.7 303.544 Q745.973 301.807 745.973 297.317 L745.973 265.164 Z\" fill=\"#000000\" fill-rule=\"evenodd\" fill-opacity=\"1\" /><path clip-path=\"url(#clip2500)\" d=\"M 0 0 M755.302 265.164 L759.978 265.164 L759.978 299.724 L755.302 299.724 L755.302 265.164 Z\" fill=\"#000000\" fill-rule=\"evenodd\" fill-opacity=\"1\" /><path clip-path=\"url(#clip2500)\" d=\"M 0 0 M776.181 269.771 L769.839 286.97 L782.547 286.97 L776.181 269.771 M773.542 265.164 L778.843 265.164 L792.015 299.724 L787.153 299.724 L784.005 290.858 L768.427 290.858 L765.279 299.724 L760.348 299.724 L773.542 265.164 Z\" fill=\"#000000\" fill-rule=\"evenodd\" fill-opacity=\"1\" /><polyline clip-path=\"url(#clip2500)\" style=\"stroke:#e26f46; stroke-width:4; stroke-opacity:1; fill:none\" points=\"\n",
       "  437.87,342.924 673.07,342.924 \n",
       "  \"/>\n",
       "<path clip-path=\"url(#clip2500)\" d=\"M 0 0 M716.552 356.315 L716.552 370.065 L712.27 370.065 L712.27 334.278 L716.552 334.278 L716.552 338.213 Q717.895 335.899 719.932 334.788 Q721.992 333.653 724.839 333.653 Q729.561 333.653 732.501 337.403 Q735.464 341.153 735.464 347.264 Q735.464 353.375 732.501 357.125 Q729.561 360.875 724.839 360.875 Q721.992 360.875 719.932 359.764 Q717.895 358.63 716.552 356.315 M731.043 347.264 Q731.043 342.565 729.098 339.903 Q727.177 337.218 723.797 337.218 Q720.418 337.218 718.473 339.903 Q716.552 342.565 716.552 347.264 Q716.552 351.963 718.473 354.649 Q720.418 357.311 723.797 357.311 Q727.177 357.311 729.098 354.649 Q731.043 351.963 731.043 347.264 Z\" fill=\"#000000\" fill-rule=\"evenodd\" fill-opacity=\"1\" /><path clip-path=\"url(#clip2500)\" d=\"M 0 0 M754.955 338.26 Q754.237 337.843 753.381 337.658 Q752.547 337.45 751.529 337.45 Q747.918 337.45 745.973 339.811 Q744.052 342.149 744.052 346.547 L744.052 360.204 L739.769 360.204 L739.769 334.278 L744.052 334.278 L744.052 338.306 Q745.394 335.945 747.547 334.811 Q749.7 333.653 752.779 333.653 Q753.218 333.653 753.751 333.723 Q754.283 333.769 754.931 333.885 L754.955 338.26 Z\" fill=\"#000000\" fill-rule=\"evenodd\" fill-opacity=\"1\" /><path clip-path=\"url(#clip2500)\" d=\"M 0 0 M780.556 346.176 L780.556 348.26 L760.973 348.26 Q761.251 352.658 763.612 354.973 Q765.996 357.264 770.232 357.264 Q772.686 357.264 774.978 356.662 Q777.292 356.061 779.561 354.857 L779.561 358.885 Q777.269 359.857 774.862 360.366 Q772.455 360.875 769.978 360.875 Q763.774 360.875 760.14 357.264 Q756.529 353.653 756.529 347.496 Q756.529 341.13 759.955 337.403 Q763.404 333.653 769.237 333.653 Q774.468 333.653 777.501 337.033 Q780.556 340.389 780.556 346.176 M776.297 344.926 Q776.251 341.431 774.329 339.348 Q772.431 337.264 769.283 337.264 Q765.718 337.264 763.566 339.278 Q761.436 341.292 761.112 344.95 L776.297 344.926 Z\" fill=\"#000000\" fill-rule=\"evenodd\" fill-opacity=\"1\" /><path clip-path=\"url(#clip2500)\" d=\"M 0 0 M802.084 338.213 L802.084 324.186 L806.343 324.186 L806.343 360.204 L802.084 360.204 L802.084 356.315 Q800.741 358.63 798.681 359.764 Q796.644 360.875 793.774 360.875 Q789.075 360.875 786.112 357.125 Q783.172 353.375 783.172 347.264 Q783.172 341.153 786.112 337.403 Q789.075 333.653 793.774 333.653 Q796.644 333.653 798.681 334.788 Q800.741 335.899 802.084 338.213 M787.57 347.264 Q787.57 351.963 789.491 354.649 Q791.436 357.311 794.815 357.311 Q798.195 357.311 800.14 354.649 Q802.084 351.963 802.084 347.264 Q802.084 342.565 800.14 339.903 Q798.195 337.218 794.815 337.218 Q791.436 337.218 789.491 339.903 Q787.57 342.565 787.57 347.264 Z\" fill=\"#000000\" fill-rule=\"evenodd\" fill-opacity=\"1\" /><path clip-path=\"url(#clip2500)\" d=\"M 0 0 M810.811 334.278 L815.07 334.278 L815.07 360.204 L810.811 360.204 L810.811 334.278 M810.811 324.186 L815.07 324.186 L815.07 329.579 L810.811 329.579 L810.811 324.186 Z\" fill=\"#000000\" fill-rule=\"evenodd\" fill-opacity=\"1\" /><path clip-path=\"url(#clip2500)\" d=\"M 0 0 M823.751 326.917 L823.751 334.278 L832.524 334.278 L832.524 337.588 L823.751 337.588 L823.751 351.662 Q823.751 354.834 824.607 355.737 Q825.487 356.639 828.149 356.639 L832.524 356.639 L832.524 360.204 L828.149 360.204 Q823.218 360.204 821.343 358.375 Q819.468 356.524 819.468 351.662 L819.468 337.588 L816.343 337.588 L816.343 334.278 L819.468 334.278 L819.468 326.917 L823.751 326.917 Z\" fill=\"#000000\" fill-rule=\"evenodd\" fill-opacity=\"1\" /><path clip-path=\"url(#clip2500)\" d=\"M 0 0 M836.991 334.278 L841.25 334.278 L841.25 360.204 L836.991 360.204 L836.991 334.278 M836.991 324.186 L841.25 324.186 L841.25 329.579 L836.991 329.579 L836.991 324.186 Z\" fill=\"#000000\" fill-rule=\"evenodd\" fill-opacity=\"1\" /><path clip-path=\"url(#clip2500)\" d=\"M 0 0 M855.764 337.264 Q852.338 337.264 850.348 339.95 Q848.357 342.612 848.357 347.264 Q848.357 351.917 850.324 354.602 Q852.315 357.264 855.764 357.264 Q859.167 357.264 861.158 354.579 Q863.148 351.894 863.148 347.264 Q863.148 342.658 861.158 339.973 Q859.167 337.264 855.764 337.264 M855.764 333.653 Q861.32 333.653 864.491 337.264 Q867.662 340.875 867.662 347.264 Q867.662 353.63 864.491 357.264 Q861.32 360.875 855.764 360.875 Q850.186 360.875 847.014 357.264 Q843.866 353.63 843.866 347.264 Q843.866 340.875 847.014 337.264 Q850.186 333.653 855.764 333.653 Z\" fill=\"#000000\" fill-rule=\"evenodd\" fill-opacity=\"1\" /><path clip-path=\"url(#clip2500)\" d=\"M 0 0 M893.681 344.556 L893.681 360.204 L889.421 360.204 L889.421 344.695 Q889.421 341.014 887.986 339.186 Q886.551 337.357 883.681 337.357 Q880.232 337.357 878.241 339.556 Q876.25 341.755 876.25 345.551 L876.25 360.204 L871.968 360.204 L871.968 334.278 L876.25 334.278 L876.25 338.306 Q877.778 335.968 879.838 334.811 Q881.922 333.653 884.63 333.653 Q889.097 333.653 891.389 336.431 Q893.681 339.186 893.681 344.556 Z\" fill=\"#000000\" fill-rule=\"evenodd\" fill-opacity=\"1\" /><path clip-path=\"url(#clip2500)\" d=\"M 0 0 M914.676 335.042 L914.676 339.07 Q912.87 338.144 910.926 337.681 Q908.982 337.218 906.898 337.218 Q903.727 337.218 902.13 338.19 Q900.556 339.163 900.556 341.107 Q900.556 342.588 901.69 343.445 Q902.824 344.278 906.25 345.042 L907.708 345.366 Q912.245 346.338 914.144 348.121 Q916.065 349.88 916.065 353.051 Q916.065 356.662 913.194 358.769 Q910.347 360.875 905.347 360.875 Q903.264 360.875 900.995 360.459 Q898.75 360.065 896.25 359.255 L896.25 354.857 Q898.611 356.084 900.903 356.709 Q903.195 357.311 905.44 357.311 Q908.449 357.311 910.07 356.292 Q911.69 355.25 911.69 353.375 Q911.69 351.639 910.509 350.713 Q909.352 349.787 905.394 348.931 L903.912 348.584 Q899.954 347.75 898.195 346.038 Q896.435 344.301 896.435 341.292 Q896.435 337.635 899.028 335.644 Q901.62 333.653 906.389 333.653 Q908.75 333.653 910.833 334.001 Q912.917 334.348 914.676 335.042 Z\" fill=\"#000000\" fill-rule=\"evenodd\" fill-opacity=\"1\" /><polyline clip-path=\"url(#clip2500)\" style=\"stroke:#3da44d; stroke-width:4; stroke-opacity:1; fill:none\" points=\"\n",
       "  437.87,403.404 673.07,403.404 \n",
       "  \"/>\n",
       "<path clip-path=\"url(#clip2500)\" d=\"M 0 0 M712.27 386.124 L741.506 386.124 L741.506 390.059 L729.237 390.059 L729.237 420.684 L724.538 420.684 L724.538 390.059 L712.27 390.059 L712.27 386.124 Z\" fill=\"#000000\" fill-rule=\"evenodd\" fill-opacity=\"1\" /><path clip-path=\"url(#clip2500)\" d=\"M 0 0 M747.964 397.744 Q744.538 397.744 742.547 400.43 Q740.557 403.092 740.557 407.744 Q740.557 412.397 742.524 415.082 Q744.515 417.744 747.964 417.744 Q751.367 417.744 753.357 415.059 Q755.348 412.374 755.348 407.744 Q755.348 403.138 753.357 400.453 Q751.367 397.744 747.964 397.744 M747.964 394.133 Q753.519 394.133 756.691 397.744 Q759.862 401.355 759.862 407.744 Q759.862 414.11 756.691 417.744 Q753.519 421.355 747.964 421.355 Q742.385 421.355 739.214 417.744 Q736.066 414.11 736.066 407.744 Q736.066 401.355 739.214 397.744 Q742.385 394.133 747.964 394.133 Z\" fill=\"#000000\" fill-rule=\"evenodd\" fill-opacity=\"1\" /><path clip-path=\"url(#clip2500)\" d=\"M 0 0 M781.39 398.693 L781.39 384.666 L785.649 384.666 L785.649 420.684 L781.39 420.684 L781.39 416.795 Q780.047 419.11 777.987 420.244 Q775.95 421.355 773.08 421.355 Q768.38 421.355 765.418 417.605 Q762.478 413.855 762.478 407.744 Q762.478 401.633 765.418 397.883 Q768.38 394.133 773.08 394.133 Q775.95 394.133 777.987 395.268 Q780.047 396.379 781.39 398.693 M766.876 407.744 Q766.876 412.443 768.797 415.129 Q770.742 417.791 774.121 417.791 Q777.501 417.791 779.445 415.129 Q781.39 412.443 781.39 407.744 Q781.39 403.045 779.445 400.383 Q777.501 397.698 774.121 397.698 Q770.742 397.698 768.797 400.383 Q766.876 403.045 766.876 407.744 Z\" fill=\"#000000\" fill-rule=\"evenodd\" fill-opacity=\"1\" /><path clip-path=\"url(#clip2500)\" d=\"M 0 0 M801.899 407.652 Q796.737 407.652 794.746 408.832 Q792.755 410.013 792.755 412.86 Q792.755 415.129 794.237 416.471 Q795.741 417.791 798.311 417.791 Q801.852 417.791 803.982 415.291 Q806.135 412.767 806.135 408.601 L806.135 407.652 L801.899 407.652 M810.394 405.893 L810.394 420.684 L806.135 420.684 L806.135 416.749 Q804.677 419.11 802.501 420.244 Q800.325 421.355 797.177 421.355 Q793.195 421.355 790.834 419.133 Q788.496 416.888 788.496 413.138 Q788.496 408.763 791.413 406.541 Q794.353 404.318 800.163 404.318 L806.135 404.318 L806.135 403.902 Q806.135 400.962 804.19 399.365 Q802.269 397.744 798.774 397.744 Q796.552 397.744 794.445 398.277 Q792.339 398.809 790.394 399.874 L790.394 395.939 Q792.732 395.036 794.931 394.596 Q797.13 394.133 799.214 394.133 Q804.839 394.133 807.616 397.05 Q810.394 399.967 810.394 405.893 Z\" fill=\"#000000\" fill-rule=\"evenodd\" fill-opacity=\"1\" /><path clip-path=\"url(#clip2500)\" d=\"M 0 0 M825.649 423.091 Q823.843 427.721 822.13 429.133 Q820.417 430.545 817.547 430.545 L814.144 430.545 L814.144 426.98 L816.644 426.98 Q818.403 426.98 819.376 426.147 Q820.348 425.314 821.528 422.212 L822.292 420.267 L811.806 394.758 L816.32 394.758 L824.422 415.036 L832.524 394.758 L837.037 394.758 L825.649 423.091 Z\" fill=\"#000000\" fill-rule=\"evenodd\" fill-opacity=\"1\" /><path clip-path=\"url(#clip2500)\" d=\"M 0 0 M861.436 389.967 L861.436 416.842 L867.084 416.842 Q874.236 416.842 877.547 413.601 Q880.88 410.36 880.88 403.369 Q880.88 396.425 877.547 393.207 Q874.236 389.967 867.084 389.967 L861.436 389.967 M856.76 386.124 L866.366 386.124 Q876.412 386.124 881.111 390.314 Q885.81 394.481 885.81 403.369 Q885.81 412.305 881.088 416.494 Q876.366 420.684 866.366 420.684 L856.76 420.684 L856.76 386.124 Z\" fill=\"#000000\" fill-rule=\"evenodd\" fill-opacity=\"1\" /><path clip-path=\"url(#clip2500)\" d=\"M 0 0 M912.454 406.656 L912.454 408.74 L892.871 408.74 Q893.148 413.138 895.509 415.453 Q897.894 417.744 902.13 417.744 Q904.583 417.744 906.875 417.142 Q909.19 416.541 911.458 415.337 L911.458 419.365 Q909.167 420.337 906.759 420.846 Q904.352 421.355 901.875 421.355 Q895.671 421.355 892.037 417.744 Q888.426 414.133 888.426 407.976 Q888.426 401.61 891.852 397.883 Q895.301 394.133 901.134 394.133 Q906.366 394.133 909.398 397.513 Q912.454 400.869 912.454 406.656 M908.195 405.406 Q908.148 401.911 906.227 399.828 Q904.329 397.744 901.181 397.744 Q897.616 397.744 895.463 399.758 Q893.333 401.772 893.009 405.43 L908.195 405.406 Z\" fill=\"#000000\" fill-rule=\"evenodd\" fill-opacity=\"1\" /><path clip-path=\"url(#clip2500)\" d=\"M 0 0 M935.579 395.754 L935.579 399.735 Q933.773 398.74 931.944 398.254 Q930.139 397.744 928.287 397.744 Q924.144 397.744 921.852 400.383 Q919.56 402.999 919.56 407.744 Q919.56 412.49 921.852 415.129 Q924.144 417.744 928.287 417.744 Q930.139 417.744 931.944 417.258 Q933.773 416.749 935.579 415.754 L935.579 419.689 Q933.796 420.522 931.875 420.939 Q929.977 421.355 927.824 421.355 Q921.968 421.355 918.519 417.675 Q915.069 413.994 915.069 407.744 Q915.069 401.402 918.542 397.768 Q922.037 394.133 928.102 394.133 Q930.069 394.133 931.944 394.55 Q933.819 394.943 935.579 395.754 Z\" fill=\"#000000\" fill-rule=\"evenodd\" fill-opacity=\"1\" /><path clip-path=\"url(#clip2500)\" d=\"M 0 0 M940.648 414.804 L945.532 414.804 L945.532 420.684 L940.648 420.684 L940.648 414.804 Z\" fill=\"#000000\" fill-rule=\"evenodd\" fill-opacity=\"1\" /><path clip-path=\"url(#clip2500)\" d=\"M 0 0 M966.481 416.749 L974.12 416.749 L974.12 390.383 L965.81 392.05 L965.81 387.791 L974.074 386.124 L978.75 386.124 L978.75 416.749 L986.389 416.749 L986.389 420.684 L966.481 420.684 L966.481 416.749 Z\" fill=\"#000000\" fill-rule=\"evenodd\" fill-opacity=\"1\" /><path clip-path=\"url(#clip2500)\" d=\"M 0 0 M992.268 416.749 L999.907 416.749 L999.907 390.383 L991.597 392.05 L991.597 387.791 L999.861 386.124 L1004.54 386.124 L1004.54 416.749 L1012.18 416.749 L1012.18 420.684 L992.268 420.684 L992.268 416.749 Z\" fill=\"#000000\" fill-rule=\"evenodd\" fill-opacity=\"1\" /><path clip-path=\"url(#clip2500)\" d=\"M 0 0 M1017.73 414.804 L1022.62 414.804 L1022.62 418.786 L1018.82 426.193 L1015.83 426.193 L1017.73 418.786 L1017.73 414.804 Z\" fill=\"#000000\" fill-rule=\"evenodd\" fill-opacity=\"1\" /><path clip-path=\"url(#clip2500)\" d=\"M 0 0 M1046.78 416.749 L1063.1 416.749 L1063.1 420.684 L1041.16 420.684 L1041.16 416.749 Q1043.82 413.994 1048.4 409.365 Q1053.01 404.712 1054.19 403.369 Q1056.43 400.846 1057.31 399.11 Q1058.22 397.351 1058.22 395.661 Q1058.22 392.906 1056.27 391.17 Q1054.35 389.434 1051.25 389.434 Q1049.05 389.434 1046.6 390.198 Q1044.17 390.962 1041.39 392.513 L1041.39 387.791 Q1044.21 386.656 1046.67 386.078 Q1049.12 385.499 1051.16 385.499 Q1056.53 385.499 1059.72 388.184 Q1062.92 390.869 1062.92 395.36 Q1062.92 397.49 1062.11 399.411 Q1061.32 401.309 1059.21 403.902 Q1058.63 404.573 1055.53 407.791 Q1052.43 410.985 1046.78 416.749 Z\" fill=\"#000000\" fill-rule=\"evenodd\" fill-opacity=\"1\" /><path clip-path=\"url(#clip2500)\" d=\"M 0 0 M1078.17 389.203 Q1074.56 389.203 1072.73 392.768 Q1070.93 396.309 1070.93 403.439 Q1070.93 410.545 1072.73 414.11 Q1074.56 417.652 1078.17 417.652 Q1081.8 417.652 1083.61 414.11 Q1085.44 410.545 1085.44 403.439 Q1085.44 396.309 1083.61 392.768 Q1081.8 389.203 1078.17 389.203 M1078.17 385.499 Q1083.98 385.499 1087.04 390.106 Q1090.11 394.689 1090.11 403.439 Q1090.11 412.166 1087.04 416.772 Q1083.98 421.355 1078.17 421.355 Q1072.36 421.355 1069.28 416.772 Q1066.23 412.166 1066.23 403.439 Q1066.23 394.689 1069.28 390.106 Q1072.36 385.499 1078.17 385.499 Z\" fill=\"#000000\" fill-rule=\"evenodd\" fill-opacity=\"1\" /><path clip-path=\"url(#clip2500)\" d=\"M 0 0 M1099.21 416.749 L1115.53 416.749 L1115.53 420.684 L1093.59 420.684 L1093.59 416.749 Q1096.25 413.994 1100.83 409.365 Q1105.44 404.712 1106.62 403.369 Q1108.86 400.846 1109.74 399.11 Q1110.65 397.351 1110.65 395.661 Q1110.65 392.906 1108.7 391.17 Q1106.78 389.434 1103.68 389.434 Q1101.48 389.434 1099.03 390.198 Q1096.6 390.962 1093.82 392.513 L1093.82 387.791 Q1096.64 386.656 1099.1 386.078 Q1101.55 385.499 1103.59 385.499 Q1108.96 385.499 1112.15 388.184 Q1115.35 390.869 1115.35 395.36 Q1115.35 397.49 1114.54 399.411 Q1113.75 401.309 1111.64 403.902 Q1111.06 404.573 1107.96 407.791 Q1104.86 410.985 1099.21 416.749 Z\" fill=\"#000000\" fill-rule=\"evenodd\" fill-opacity=\"1\" /><path clip-path=\"url(#clip2500)\" d=\"M 0 0 M1130.6 389.203 Q1126.99 389.203 1125.16 392.768 Q1123.36 396.309 1123.36 403.439 Q1123.36 410.545 1125.16 414.11 Q1126.99 417.652 1130.6 417.652 Q1134.23 417.652 1136.04 414.11 Q1137.87 410.545 1137.87 403.439 Q1137.87 396.309 1136.04 392.768 Q1134.23 389.203 1130.6 389.203 M1130.6 385.499 Q1136.41 385.499 1139.47 390.106 Q1142.55 394.689 1142.55 403.439 Q1142.55 412.166 1139.47 416.772 Q1136.41 421.355 1130.6 421.355 Q1124.79 421.355 1121.71 416.772 Q1118.66 412.166 1118.66 403.439 Q1118.66 394.689 1121.71 390.106 Q1124.79 385.499 1130.6 385.499 Z\" fill=\"#000000\" fill-rule=\"evenodd\" fill-opacity=\"1\" /></svg>\n"
      ]
     },
     "execution_count": 12,
     "metadata": {},
     "output_type": "execute_result"
    }
   ],
   "source": [
    "using Plots\n",
    "\n",
    "#dates = format_dates( df[rows,2] , \"m/d/yy\")\n",
    "\n",
    "gr()\n",
    "plot(    x_axis_dates,\n",
    "        [  y_axis_original y_axis_predicted \n",
    "        ], # y-axis\n",
    "    label    = \n",
    "        [ symbol_to_predict \"preditions\"  \"\" ],\n",
    "    legend   =:topleft, \n",
    "              # :right, :left, :top, :bottom, :inside, :best, :legend, :topright, :topleft, :bottomleft, :bottomright\n",
    "    xlabel   = \"time\",\n",
    "    ylabel   = \"value\",\n",
    "    size     = (980, 400), # width, height\n",
    "    layout = (1, 1), # number of graphs: vertically, horizontally\n",
    "    )\n",
    "## Add veritical today line\n",
    "plot!([today_id], seriestype=\"vline\", label=[ \"Today \"*t \"\" ],)\n"
   ]
  },
  {
   "cell_type": "code",
   "execution_count": 13,
   "metadata": {
    "ExecuteTime": {
     "end_time": "2020-12-11T20:28:38.204000-05:00",
     "start_time": "2020-12-12T01:27:32.366Z"
    }
   },
   "outputs": [],
   "source": [
    "savefig(\"../images/predictions_\" * symbol_to_predict * \".png\")"
   ]
  },
  {
   "cell_type": "code",
   "execution_count": 16,
   "metadata": {
    "ExecuteTime": {
     "end_time": "2020-12-11T20:31:25.076000-05:00",
     "start_time": "2020-12-12T01:31:24.237Z"
    }
   },
   "outputs": [
    {
     "name": "stdout",
     "output_type": "stream",
     "text": [
      "DJIA 2020-12-11\n",
      "Sat, 2020-12-05\t predicted 30234.0\t, but actual value was \t30218.0\t difference is -16.0\n",
      "Sun, 2020-12-06\t predicted 30223.0\t, but actual value was \t30218.0\t difference is -5.0\n",
      "Mon, 2020-12-07\t predicted 30178.0\t, but actual value was \t30233.0\t difference is 55.0\n",
      "Tue, 2020-12-08\t predicted 30209.0\t, but actual value was \t30246.0\t difference is 37.0\n",
      "Wed, 2020-12-09\t predicted 30334.0\t, but actual value was \t30320.0\t difference is -14.0\n",
      "Thu, 2020-12-10\t predicted 30102.0\t, but actual value was \t30064.0\t difference is -38.0\n",
      "Fri, 2020-12-11\t predicted 30067.0\t, but actual value was \t30071.0\t difference is 4.0\n",
      "Sat, 2020-12-12\t predicted 30046.0\n",
      "Sun, 2020-12-13\t predicted 30011.0\n"
     ]
    }
   ],
   "source": [
    "## print prediction comparisons\n",
    "println(symbol_to_predict, \" \", today())\n",
    "\n",
    "file_path = \"../DATA/\" * symbol_to_predict * \"_predictions.csv\"\n",
    "open( file_path, \"a\") do file_handle # append\n",
    "    \n",
    "    for id in finem-10:finem\n",
    "        if id < today_id + 3\n",
    "            row = get(data_predictions, id) # get a dictionary of data from the SFrame\n",
    "            date_string = row[\"Date\"] # e.g. \"2020-10-20\"\n",
    "\n",
    "            a = y_axis_predicted[id]\n",
    "            b = y_axis_original[id]\n",
    "            d = round(b-a, digits=3)\n",
    "            date = convert(String, Dates.format( Date(date_string), \"e, yyyy-mm-dd\" ) )\n",
    "            if id <= today_id\n",
    "                println( date, \"\\t predicted \", a , \"\\t, but actual value was \\t\", b , \"\\t difference is \",  d  ) # di\n",
    "            else\n",
    "                println( date, \"\\t predicted \", a  ) # \n",
    "\n",
    "                txt_to_save =  \n",
    "                    convert(String, Dates.format( today(), \"yyyy-mm-dd\" ) ) *\",\"* \n",
    "                    convert(String, symbol_to_predict) *\",\"* \n",
    "                    date_string *\",\"* \n",
    "                    string(a) * \"\\n\"\n",
    "                \n",
    "                write(file_handle, txt_to_save )\n",
    "                \n",
    "            end # if\n",
    "        end #if \n",
    "    end # for\n",
    "end # open file"
   ]
  },
  {
   "cell_type": "code",
   "execution_count": null,
   "metadata": {},
   "outputs": [],
   "source": []
  },
  {
   "cell_type": "code",
   "execution_count": null,
   "metadata": {},
   "outputs": [],
   "source": []
  }
 ],
 "metadata": {
  "kernelspec": {
   "display_name": "Julia 1.5.1",
   "language": "julia",
   "name": "julia-1.5"
  },
  "language_info": {
   "file_extension": ".jl",
   "mimetype": "application/julia",
   "name": "julia",
   "version": "1.5.1"
  },
  "toc": {
   "base_numbering": 1,
   "nav_menu": {},
   "number_sections": true,
   "sideBar": true,
   "skip_h1_title": true,
   "title_cell": "Table of Contents",
   "title_sidebar": "Contents",
   "toc_cell": true,
   "toc_position": {},
   "toc_section_display": true,
   "toc_window_display": true
  },
  "varInspector": {
   "cols": {
    "lenName": 16,
    "lenType": 16,
    "lenVar": 40
   },
   "kernels_config": {
    "python": {
     "delete_cmd_postfix": "",
     "delete_cmd_prefix": "del ",
     "library": "var_list.py",
     "varRefreshCmd": "print(var_dic_list())"
    },
    "r": {
     "delete_cmd_postfix": ") ",
     "delete_cmd_prefix": "rm(",
     "library": "var_list.r",
     "varRefreshCmd": "cat(var_dic_list()) "
    }
   },
   "types_to_exclude": [
    "module",
    "function",
    "builtin_function_or_method",
    "instance",
    "_Feature"
   ],
   "window_display": false
  }
 },
 "nbformat": 4,
 "nbformat_minor": 4
}
