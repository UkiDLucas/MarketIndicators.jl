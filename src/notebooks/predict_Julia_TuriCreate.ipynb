{
 "cells": [
  {
   "cell_type": "markdown",
   "metadata": {},
   "source": [
    "# Prediction Model using TuriCreate in Julia"
   ]
  },
  {
   "cell_type": "markdown",
   "metadata": {
    "toc": true
   },
   "source": [
    "<h1>Table of Contents<span class=\"tocSkip\"></span></h1>\n",
    "<div class=\"toc\"><ul class=\"toc-item\"><li><span><a href=\"#Set-Up\" data-toc-modified-id=\"Set-Up-1\"><span class=\"toc-item-num\">1&nbsp;&nbsp;</span>Set Up</a></span></li><li><span><a href=\"#Fetch-Data-(SFrame)-from-Uber-CSV\" data-toc-modified-id=\"Fetch-Data-(SFrame)-from-Uber-CSV-2\"><span class=\"toc-item-num\">2&nbsp;&nbsp;</span>Fetch Data (SFrame) from Uber CSV</a></span></li><li><span><a href=\"#Split-Data\" data-toc-modified-id=\"Split-Data-3\"><span class=\"toc-item-num\">3&nbsp;&nbsp;</span>Split Data</a></span></li><li><span><a href=\"#Evaluate-the-Model\" data-toc-modified-id=\"Evaluate-the-Model-4\"><span class=\"toc-item-num\">4&nbsp;&nbsp;</span>Evaluate the Model</a></span></li><li><span><a href=\"#Save-/-Export-the-Model\" data-toc-modified-id=\"Save-/-Export-the-Model-5\"><span class=\"toc-item-num\">5&nbsp;&nbsp;</span>Save / Export the Model</a></span></li><li><span><a href=\"#Make-predictions\" data-toc-modified-id=\"Make-predictions-6\"><span class=\"toc-item-num\">6&nbsp;&nbsp;</span>Make predictions</a></span><ul class=\"toc-item\"><li><span><a href=\"#Explore-SFrame\" data-toc-modified-id=\"Explore-SFrame-6.1\"><span class=\"toc-item-num\">6.1&nbsp;&nbsp;</span>Explore SFrame</a></span></li></ul></li></ul></div>"
   ]
  },
  {
   "cell_type": "markdown",
   "metadata": {},
   "source": [
    "## Set Up"
   ]
  },
  {
   "cell_type": "code",
   "execution_count": 1,
   "metadata": {
    "ExecuteTime": {
     "end_time": "2020-12-09T08:01:19.020000-05:00",
     "start_time": "2020-12-09T13:01:18.214Z"
    }
   },
   "outputs": [
    {
     "name": "stdout",
     "output_type": "stream",
     "text": [
      "\n"
     ]
    }
   ],
   "source": [
    "# symbol_to_predict = \"DJIA\" - there is a bug\n",
    "# symbol_to_predict = \"AAPL\"\n",
    "#symbol_to_predict = \"VIX\"\n",
    "# symbol_to_predict = \"NIO\"\n",
    "symbol_to_predict = \"NVDA\"\n",
    "\n",
    "features_to_analyze = \n",
    "[\n",
    "    \"VIX_Avg365\" \n",
    "    ,\"VIX_Quantized\"\n",
    "    ,\"VIX_Avg030\"\n",
    "    ,\"VIX_Avg060\"\n",
    "    ,\"VIX_Avg090\"\n",
    "    ,\"VIX_Avg120\"\n",
    "    ,\"VIX_Avg180\"\n",
    "        \n",
    "    ,\"US_ISM_MFC_PMI_Quantized\"\n",
    "    ,\"US_ISM_MFC_PMI_Avg030\"\n",
    "    ,\"US_ISM_MFC_PMI_Avg060\"\n",
    "    ,\"US_ISM_MFC_PMI_Avg090\"\n",
    "    ,\"US_ISM_MFC_PMI_Avg180\"\n",
    "    ,\"US_ISM_MFC_PMI_Avg365\"\n",
    "        \n",
    "\n",
    "    ,\"DJIA_Quantized\"\n",
    "    ,\"DJIA_Avg005\"\n",
    "    ,\"DJIA_Avg030\"\n",
    "    ,\"DJIA_Avg060\"\n",
    "    ,\"DJIA_Avg090\"\n",
    "    ,\"DJIA_Avg120\"\n",
    "    ,\"DJIA_Avg180\"\n",
    "       \n",
    "    ,\"AAPL_Quantized\"\n",
    "    ,\"AAPL_Avg005\"\n",
    "    ,\"AAPL_Avg030\"\n",
    "    ,\"AAPL_Avg060\"\n",
    "    ,\"AAPL_Avg090\"\n",
    "    ,\"AAPL_Avg120\"\n",
    "    ,\"AAPL_Avg180\"\n",
    "\n",
    "    ,\"US_ISM_MFC_EMP_Quantized\"\n",
    "    ,\"US_ISM_MFC_EMP_Avg030\"\n",
    "    ,\"US_ISM_MFC_EMP_Avg060\"\n",
    "    ,\"US_ISM_MFC_EMP_Avg090\"\n",
    "    ,\"US_ISM_MFC_EMP_Avg120\"\n",
    "    ,\"US_ISM_MFC_EMP_Avg180\"\n",
    "    ,\"US_ISM_MFC_EMP_Avg365\"\n",
    "        \n",
    "    ,\"US_INIT_JOBLESS_Quantized\"\n",
    "    ,\"US_INIT_JOBLESS_Avg005\"\n",
    "    ,\"US_INIT_JOBLESS_Avg030\"\n",
    "    ,\"US_INIT_JOBLESS_Avg060\"\n",
    "    ,\"US_INIT_JOBLESS_Avg090\"\n",
    "    ,\"US_INIT_JOBLESS_Avg120\"\n",
    "    ,\"US_INIT_JOBLESS_Avg180\"\n",
    "        \n",
    "    ,\"US_GDP_Q_Quantized\"\n",
    "    ,\"US_GDP_Q_Avg005\"\n",
    "    ,\"US_GDP_Q_Avg030\"\n",
    "    ,\"US_GDP_Q_Avg060\"\n",
    "    ,\"US_GDP_Q_Avg090\"\n",
    "    ,\"US_GDP_Q_Avg120\"\n",
    "    ,\"US_GDP_Q_Avg180\"\n",
    "        \n",
    "\n",
    "    ,\"NIO_Quantized\"\n",
    "    ,\"NIO_Avg005\"\n",
    "    ,\"NIO_Avg030\"\n",
    "    ,\"NIO_Avg060\"\n",
    "    ,\"NIO_Avg090\"\n",
    "    ,\"NIO_Avg120\"\n",
    "    ,\"NIO_Avg180\"\n",
    "        \n",
    "\n",
    "    #,\"NVDA_Quantized\"\n",
    "    ,\"NVDA_Avg005\"\n",
    "    ,\"NVDA_Avg030\"\n",
    "    ,\"NVDA_Avg060\"\n",
    "    ,\"NVDA_Avg090\"\n",
    "    ,\"NVDA_Avg120\"\n",
    "    ,\"NVDA_Avg180\"\n",
    "        \n",
    "\n",
    "    ,\"US_HOUS_STRT_M_Quantized\"\n",
    "    ,\"US_HOUS_STRT_M_Avg005\"\n",
    "    ,\"US_HOUS_STRT_M_Avg030\"\n",
    "    ,\"US_HOUS_STRT_M_Avg060\"\n",
    "    ,\"US_HOUS_STRT_M_Avg090\"\n",
    "    ,\"US_HOUS_STRT_M_Avg120\"\n",
    "    ,\"US_HOUS_STRT_M_Avg180\"\n",
    "    \n",
    "]\n",
    "\n",
    "println()"
   ]
  },
  {
   "cell_type": "code",
   "execution_count": 2,
   "metadata": {
    "ExecuteTime": {
     "end_time": "2020-12-09T08:01:23.724000-05:00",
     "start_time": "2020-12-09T13:01:18.217Z"
    }
   },
   "outputs": [
    {
     "name": "stdout",
     "output_type": "stream",
     "text": [
      "\n"
     ]
    },
    {
     "data": {
      "text/plain": [
       "\"NVDA_Original\""
      ]
     },
     "execution_count": 2,
     "metadata": {},
     "output_type": "execute_result"
    }
   ],
   "source": [
    "## uncomment for the first run\n",
    "# import Pkg\n",
    "# Pkg.add(\"PyCall\")\n",
    "# Pkg.add(\"Conda\")\n",
    "# ENV[\"PYTHON\"] = \"/opt/anaconda3/envs/turi/bin/python\"\n",
    "# /opt/anaconda3/envs/turi/lib/python3.6/site-packages/\n",
    "# Pkg.build(\"PyCall\")\n",
    "\n",
    "include(\"../Julia/functions.jl\") \n",
    "data_path=\"../DATA/processed/uber_training.csv\"\n",
    "column_to_predict = symbol_to_predict * \"_Original\""
   ]
  },
  {
   "cell_type": "markdown",
   "metadata": {},
   "source": [
    "## Fetch Data (SFrame) from Uber CSV"
   ]
  },
  {
   "cell_type": "code",
   "execution_count": 3,
   "metadata": {
    "ExecuteTime": {
     "end_time": "2020-12-09T08:01:27.915000-05:00",
     "start_time": "2020-12-09T13:01:18.223Z"
    }
   },
   "outputs": [
    {
     "name": "stdout",
     "output_type": "stream",
     "text": [
      "Finished parsing file /Users/uki/REPOS/MarketIndicators.jl/src/DATA/processed/uber_training.csv\n",
      "Parsing completed. Parsed 100 lines in 0.027205 secs.\n",
      "------------------------------------------------------\n",
      "Inferred types from first 100 line(s) of file as \n",
      "column_type_hints=[int,str,float,float,float,float,float,float,float,float,float,float,float,float,float,float,float,float,float,float,float,float,float,float,float,float,float,float,float,float,float,float,float,float,float,float,float,float,float,float,float,float,float,float,float,float,float,float,float,float,float,float,float,float,float,float,float,float,float,float,float,float,float,float,float,float,float,float,float,float,float,float,float,float,float,float,float,float,float]\n",
      "If parsing fails due to incorrect types, you can correct\n",
      "the inferred type list above and pass it to read_csv in\n",
      "the column_type_hints argument\n",
      "------------------------------------------------------\n",
      "Finished parsing file /Users/uki/REPOS/MarketIndicators.jl/src/DATA/processed/uber_training.csv\n",
      "Parsing completed. Parsed 814 lines in 0.010464 secs.\n",
      "\n"
     ]
    }
   ],
   "source": [
    "using PyCall\n",
    "tc = pyimport(\"turicreate\")\n",
    "data = tc.SFrame(data_path)\n",
    "println()"
   ]
  },
  {
   "cell_type": "markdown",
   "metadata": {},
   "source": [
    "## Split Data"
   ]
  },
  {
   "cell_type": "code",
   "execution_count": 4,
   "metadata": {
    "ExecuteTime": {
     "end_time": "2020-12-09T08:01:28.460000-05:00",
     "start_time": "2020-12-09T13:01:18.227Z"
    }
   },
   "outputs": [
    {
     "name": "stdout",
     "output_type": "stream",
     "text": [
      "(652,)\n",
      "(162,)\n"
     ]
    }
   ],
   "source": [
    "# Make a train-test split\n",
    "train_data, test_data = data.random_split(0.8)\n",
    "\n",
    "println( size(train_data) )\n",
    "println( size(test_data)  )"
   ]
  },
  {
   "cell_type": "code",
   "execution_count": 5,
   "metadata": {
    "ExecuteTime": {
     "end_time": "2020-12-09T08:01:30.685000-05:00",
     "start_time": "2020-12-09T13:01:18.231Z"
    }
   },
   "outputs": [
    {
     "name": "stdout",
     "output_type": "stream",
     "text": [
      "Automatically generating validation set from 5% of the data.\n",
      "Linear regression:\n",
      "--------------------------------------------------------\n",
      "Number of examples          : 624\n",
      "Number of features          : 68\n",
      "Number of unpacked features : 68\n",
      "Number of coefficients    : 69\n",
      "Starting Newton Method\n",
      "--------------------------------------------------------\n",
      "+-----------+----------+--------------+--------------------+----------------------+---------------------------------+-----------------------------------+\n",
      "| Iteration | Passes   | Elapsed Time | Training Max Error | Validation Max Error | Training Root-Mean-Square Error | Validation Root-Mean-Square Error |\n",
      "+-----------+----------+--------------+--------------------+----------------------+---------------------------------+-----------------------------------+\n",
      "| 1         | 2        | 1.023332     | 28.146325          | 10.836609            | 4.259091                        | 3.609952                          |\n",
      "+-----------+----------+--------------+--------------------+----------------------+---------------------------------+-----------------------------------+\n",
      "SUCCESS: Optimal solution found.\n",
      "\n",
      "Boosted trees regression:\n",
      "--------------------------------------------------------\n",
      "Number of examples          : 624\n",
      "Number of features          : 68\n",
      "Number of unpacked features : 68\n",
      "+-----------+--------------+--------------------+----------------------+---------------------------------+-----------------------------------+\n",
      "| Iteration | Elapsed Time | Training Max Error | Validation Max Error | Training Root-Mean-Square Error | Validation Root-Mean-Square Error |\n",
      "+-----------+--------------+--------------------+----------------------+---------------------------------+-----------------------------------+\n",
      "| 1         | 0.009481     | 432.084656         | 402.354675           | 209.599289                      | 208.680801                        |\n",
      "| 2         | 0.012472     | 319.609985         | 289.880005           | 147.854401                      | 145.549164                        |\n",
      "| 3         | 0.015430     | 240.034058         | 210.304077           | 104.428658                      | 101.461655                        |\n",
      "| 4         | 0.018011     | 180.920441         | 151.190460           | 73.823372                       | 71.610931                         |\n",
      "| 5         | 0.021489     | 139.430481         | 109.700500           | 52.308270                       | 50.526775                         |\n",
      "| 10        | 0.038598     | 44.270142          | 23.765930            | 10.428668                       | 10.125500                         |\n",
      "+-----------+--------------+--------------------+----------------------+---------------------------------+-----------------------------------+\n"
     ]
    },
    {
     "data": {
      "text/plain": [
       "PyObject Class                          : LinearRegression\n",
       "\n",
       "Schema\n",
       "------\n",
       "Number of coefficients         : 69\n",
       "Number of examples             : 624\n",
       "Number of feature columns      : 68\n",
       "Number of unpacked features    : 68\n",
       "\n",
       "Hyperparameters\n",
       "---------------\n",
       "L1 penalty                     : 0\n",
       "L2 penalty                     : 0.01\n",
       "\n",
       "Training Summary\n",
       "----------------\n",
       "Solver                         : newton\n",
       "Solver iterations              : 1\n",
       "Solver status                  : SUCCESS: Optimal solution found.\n",
       "Training time (sec)            : 1.0318\n",
       "\n",
       "Settings\n",
       "--------\n",
       "Residual sum of squares        : 11319.2678\n",
       "Training RMSE                  : 4.2591\n",
       "\n",
       "Highest Positive Coefficients\n",
       "-----------------------------\n",
       "(intercept)                    : 287.6633\n",
       "NVDA_Avg005                    : 2.0789\n",
       "US_GDP_Q_Avg120                : 1.6416\n",
       "AAPL_Quantized                 : 1.5717\n",
       "US_ISM_MFC_PMI_Avg060          : 0.85\n",
       "\n",
       "Lowest Negative Coefficients\n",
       "----------------------------\n",
       "US_GDP_Q_Avg180                : -3.1201\n",
       "AAPL_Avg090                    : -1.7698\n",
       "AAPL_Avg005                    : -1.3689\n",
       "NVDA_Avg090                    : -0.9677\n",
       "NVDA_Avg180                    : -0.8114\n"
      ]
     },
     "execution_count": 5,
     "metadata": {},
     "output_type": "execute_result"
    }
   ],
   "source": [
    "model = tc.regression.create( \n",
    "    train_data, \n",
    "    target = column_to_predict, \n",
    "    features = features_to_analyze, \n",
    "    validation_set=\"auto\", \n",
    "    verbose=true\n",
    ")"
   ]
  },
  {
   "cell_type": "markdown",
   "metadata": {},
   "source": [
    "## Evaluate the Model"
   ]
  },
  {
   "cell_type": "code",
   "execution_count": 6,
   "metadata": {
    "ExecuteTime": {
     "end_time": "2020-12-09T08:01:31.845000-05:00",
     "start_time": "2020-12-09T13:01:18.236Z"
    }
   },
   "outputs": [
    {
     "data": {
      "text/plain": [
       "Dict{Any,Any} with 2 entries:\n",
       "  \"rmse\"      => 5.18523\n",
       "  \"max_error\" => 25.5726"
      ]
     },
     "execution_count": 6,
     "metadata": {},
     "output_type": "execute_result"
    }
   ],
   "source": [
    "#TODO: write this in a loop to select the best model\n",
    "# Evaluate the model and save the results into a dictionary\n",
    "results = model.evaluate( test_data ) #test_data[0:2531]\n",
    "results"
   ]
  },
  {
   "cell_type": "code",
   "execution_count": 7,
   "metadata": {
    "ExecuteTime": {
     "end_time": "2020-12-09T08:01:31.995000-05:00",
     "start_time": "2020-12-09T13:01:18.241Z"
    }
   },
   "outputs": [
    {
     "name": "stdout",
     "output_type": "stream",
     "text": [
      "max_error: 25.57, rmse: 5.19\n"
     ]
    }
   ],
   "source": [
    "rmse = results[\"rmse\"]\n",
    "rmse = round(rmse, digits=2)\n",
    "\n",
    "max_error = results[\"max_error\"]\n",
    "max_error = round(max_error, digits=2)\n",
    "\n",
    "println( \"max_error: \", max_error, \", rmse: \", rmse )\n",
    "# max_error: 1069.27, rmse: 184.6\n",
    "# max_error: 65.35, rmse: 32.6            predict: ^DJIA added: US_INIT_JOBLESS\n",
    "# max_error: 1875.39, rmse: 443.59        predict: ^DJIA commented out: \"DJIA_Quantized\"\n",
    "# max_error: 1339.76, rmse: 373.94        predict: ^DJIA commented out: \"DJIA_Quantized\"\n",
    "# max_error: 916.19, rmse: 231.24       predict: ^DJIA with \"DJIA_Avg005\""
   ]
  },
  {
   "cell_type": "markdown",
   "metadata": {},
   "source": [
    "## Save / Export the Model"
   ]
  },
  {
   "cell_type": "code",
   "execution_count": 8,
   "metadata": {
    "ExecuteTime": {
     "end_time": "2020-12-09T08:01:32.023000-05:00",
     "start_time": "2020-12-09T13:01:18.244Z"
    }
   },
   "outputs": [],
   "source": [
    "# Export to Core ML\n",
    "model.export_coreml(\"../DATA/models/^DJI.mlmodel\")"
   ]
  },
  {
   "cell_type": "markdown",
   "metadata": {},
   "source": [
    "## Make predictions "
   ]
  },
  {
   "cell_type": "code",
   "execution_count": 9,
   "metadata": {
    "ExecuteTime": {
     "end_time": "2020-12-09T08:01:32.136000-05:00",
     "start_time": "2020-12-09T13:01:18.248Z"
    }
   },
   "outputs": [
    {
     "name": "stdout",
     "output_type": "stream",
     "text": [
      "Finished parsing file /Users/uki/REPOS/MarketIndicators.jl/src/DATA/processed/uber_prediction.csv\n",
      "Parsing completed. Parsed 100 lines in 0.040408 secs.\n",
      "------------------------------------------------------\n",
      "Inferred types from first 100 line(s) of file as \n",
      "column_type_hints=[int,str,float,float,float,float,float,float,float,float,float,float,float,float,float,float,float,float,float,float,float,float,float,float,float,float,float,float,float,float,float,float,float,float,float,float,float,float,float,float,float,float,float,float,float,float,float,float,float,float,float,float,float,float,float,float,float,float,float,float,float,float,float,float,float,float,float,float,float,float,float,float,float,float,float,float,float,float,float]\n",
      "If parsing fails due to incorrect types, you can correct\n",
      "the inferred type list above and pass it to read_csv in\n",
      "the column_type_hints argument\n",
      "------------------------------------------------------\n",
      "Finished parsing file /Users/uki/REPOS/MarketIndicators.jl/src/DATA/processed/uber_prediction.csv\n",
      "Parsing completed. Parsed 120 lines in 0.00697 secs.\n",
      "\n"
     ]
    }
   ],
   "source": [
    "data_path=\"../DATA/processed/uber_prediction.csv\"\n",
    "data_predictions = tc.SFrame(data_path)\n",
    "\n",
    "## Save predictions to an SArray\n",
    "predictions = model.predict(data_predictions)\n",
    "#get(predictions, 1)\n",
    "\n",
    "println()"
   ]
  },
  {
   "cell_type": "markdown",
   "metadata": {},
   "source": [
    "### Explore SFrame"
   ]
  },
  {
   "cell_type": "code",
   "execution_count": 10,
   "metadata": {
    "ExecuteTime": {
     "end_time": "2020-12-09T08:01:32.305000-05:00",
     "start_time": "2020-12-09T13:01:18.253Z"
    }
   },
   "outputs": [
    {
     "name": "stdout",
     "output_type": "stream",
     "text": [
      "record_count data 120\n",
      "record_count predictions 120\n",
      "feature_number 79\n",
      "Rata Die 737796\n",
      "date 2021-01-06\n",
      "original 18556.13\n"
     ]
    }
   ],
   "source": [
    "record_count = size(data_predictions)[1]\n",
    "row = get(data_predictions, record_count-1)\n",
    "\n",
    "feature_number = row.count\n",
    "day = row[\"Rata_Die\"]\n",
    "date = row[\"Date\"] # \"2020-10-20\"\n",
    "original = row[\"DJIA_Original\"]\n",
    "\n",
    "println( \"record_count data \", record_count )\n",
    "println( \"record_count predictions \", size(predictions)[1] )\n",
    "\n",
    "println( \"feature_number \", feature_number )\n",
    "println( \"Rata Die \", day )\n",
    "println( \"date \", date )\n",
    "println( \"original \", original )"
   ]
  },
  {
   "cell_type": "code",
   "execution_count": 11,
   "metadata": {
    "ExecuteTime": {
     "end_time": "2020-12-09T08:01:34.827000-05:00",
     "start_time": "2020-12-09T13:01:18.257Z"
    }
   },
   "outputs": [
    {
     "name": "stdout",
     "output_type": "stream",
     "text": [
      "preditions set size: 119, step 6\n",
      "NVDA 119 Array{Date,1}\n",
      "t Dec. 9, 2020 String\n",
      "\n"
     ]
    }
   ],
   "source": [
    "using Dates\n",
    "today_rata = Dates.datetime2rata( today() )\n",
    "\n",
    "## Determine dataset size\n",
    "\n",
    "initio = 1                                              # latin: start\n",
    "finem  = size(predictions)[1] -1                        # latin: end\n",
    "gradus = convert(Int64, round( finem/20, digits=0)  )   # latin: step\n",
    "\n",
    "println(\"preditions set size: \", finem, \", step \", gradus)\n",
    "\n",
    "\n",
    "## Declare variables\n",
    "x_axis_dates      = Vector{Date}() # results in Array{Date,1}\n",
    "y_axis_original   = Vector{Float64}()\n",
    "y_axis_predicted  = Vector{Float64}()\n",
    "\n",
    "println(symbol_to_predict, \" \", finem, \" \", typeof(x_axis_dates))\n",
    "\n",
    "today_id  = 50 # not set yet\n",
    "\n",
    "## step thru each prediction\n",
    "for id in initio:finem\n",
    "    row = get(data_predictions, id) # get a dictionary of data from the SFrame\n",
    "    \n",
    "    date_string = row[\"Date\"] # e.g. \"2020-10-20\"\n",
    "    date = Date(date_string) # 2020-09-07 Date\n",
    "    if date == today()\n",
    "        today_id = id\n",
    "    end \n",
    "    #date = Dates.format(date, \"u.d,yy\" )\n",
    "    #println(\"date \", date, \" \", typeof(date))\n",
    "    push!(x_axis_dates, date)\n",
    "    \n",
    "    predicted = get(predictions, id) # Float64\n",
    "    predicted = round(predicted, digits=0)\n",
    "    #println(\"predicted \", predicted, \" \", typeof(predicted))\n",
    "    append!(y_axis_predicted, predicted)\n",
    "    \n",
    "    \n",
    "    original = row[ column_to_predict ]\n",
    "    original = round(original, digits=0) # Float64\n",
    "    #println(\"original \", original, \" \", typeof(original)) \n",
    "    append!(y_axis_original, original)\n",
    "end\n",
    "\n",
    "## Format Dates for plotting\n",
    "include(\"../Julia/function_format_dates.jl\")\n",
    "x_axis_dates = format_dates(x_axis_dates, \"u. d, yy\")\n",
    "\n",
    "\n",
    "\n",
    "t = today()# Date\n",
    "t = format_dates([t], \"u. d, yyyy\") # Array{String,1}\n",
    "t = t[1] # String\n",
    "println(\"t \", t, \" \", typeof(t))\n",
    "\n",
    "println()"
   ]
  },
  {
   "cell_type": "code",
   "execution_count": 12,
   "metadata": {
    "ExecuteTime": {
     "end_time": "2020-12-09T08:02:18.856000-05:00",
     "start_time": "2020-12-09T13:01:18.262Z"
    }
   },
   "outputs": [
    {
     "data": {
      "image/svg+xml": [
       "<?xml version=\"1.0\" encoding=\"utf-8\"?>\n",
       "<svg xmlns=\"http://www.w3.org/2000/svg\" xmlns:xlink=\"http://www.w3.org/1999/xlink\" width=\"980\" height=\"400\" viewBox=\"0 0 3920 1600\">\n",
       "<defs>\n",
       "  <clipPath id=\"clip2600\">\n",
       "    <rect x=\"0\" y=\"0\" width=\"3920\" height=\"1600\"/>\n",
       "  </clipPath>\n",
       "</defs>\n",
       "<path clip-path=\"url(#clip2600)\" d=\"\n",
       "M0 1600 L3920 1600 L3920 0 L0 0  Z\n",
       "  \" fill=\"#ffffff\" fill-rule=\"evenodd\" fill-opacity=\"1\"/>\n",
       "<defs>\n",
       "  <clipPath id=\"clip2601\">\n",
       "    <rect x=\"784\" y=\"0\" width=\"2745\" height=\"1600\"/>\n",
       "  </clipPath>\n",
       "</defs>\n",
       "<path clip-path=\"url(#clip2600)\" d=\"\n",
       "M227.135 1423.18 L3872.76 1423.18 L3872.76 47.2441 L227.135 47.2441  Z\n",
       "  \" fill=\"#ffffff\" fill-rule=\"evenodd\" fill-opacity=\"1\"/>\n",
       "<defs>\n",
       "  <clipPath id=\"clip2602\">\n",
       "    <rect x=\"227\" y=\"47\" width=\"3647\" height=\"1377\"/>\n",
       "  </clipPath>\n",
       "</defs>\n",
       "<polyline clip-path=\"url(#clip2602)\" style=\"stroke:#000000; stroke-width:2; stroke-opacity:0.1; fill:none\" points=\"\n",
       "  330.313,1423.18 330.313,47.2441 \n",
       "  \"/>\n",
       "<polyline clip-path=\"url(#clip2602)\" style=\"stroke:#000000; stroke-width:2; stroke-opacity:0.1; fill:none\" points=\"\n",
       "  563.483,1423.18 563.483,47.2441 \n",
       "  \"/>\n",
       "<polyline clip-path=\"url(#clip2602)\" style=\"stroke:#000000; stroke-width:2; stroke-opacity:0.1; fill:none\" points=\"\n",
       "  825.8,1423.18 825.8,47.2441 \n",
       "  \"/>\n",
       "<polyline clip-path=\"url(#clip2602)\" style=\"stroke:#000000; stroke-width:2; stroke-opacity:0.1; fill:none\" points=\"\n",
       "  1058.97,1423.18 1058.97,47.2441 \n",
       "  \"/>\n",
       "<polyline clip-path=\"url(#clip2602)\" style=\"stroke:#000000; stroke-width:2; stroke-opacity:0.1; fill:none\" points=\"\n",
       "  1321.29,1423.18 1321.29,47.2441 \n",
       "  \"/>\n",
       "<polyline clip-path=\"url(#clip2602)\" style=\"stroke:#000000; stroke-width:2; stroke-opacity:0.1; fill:none\" points=\"\n",
       "  1554.46,1423.18 1554.46,47.2441 \n",
       "  \"/>\n",
       "<polyline clip-path=\"url(#clip2602)\" style=\"stroke:#000000; stroke-width:2; stroke-opacity:0.1; fill:none\" points=\"\n",
       "  1816.77,1423.18 1816.77,47.2441 \n",
       "  \"/>\n",
       "<polyline clip-path=\"url(#clip2602)\" style=\"stroke:#000000; stroke-width:2; stroke-opacity:0.1; fill:none\" points=\"\n",
       "  2049.95,1423.18 2049.95,47.2441 \n",
       "  \"/>\n",
       "<polyline clip-path=\"url(#clip2602)\" style=\"stroke:#000000; stroke-width:2; stroke-opacity:0.1; fill:none\" points=\"\n",
       "  2283.12,1423.18 2283.12,47.2441 \n",
       "  \"/>\n",
       "<polyline clip-path=\"url(#clip2602)\" style=\"stroke:#000000; stroke-width:2; stroke-opacity:0.1; fill:none\" points=\"\n",
       "  2545.43,1423.18 2545.43,47.2441 \n",
       "  \"/>\n",
       "<polyline clip-path=\"url(#clip2602)\" style=\"stroke:#000000; stroke-width:2; stroke-opacity:0.1; fill:none\" points=\"\n",
       "  2778.6,1423.18 2778.6,47.2441 \n",
       "  \"/>\n",
       "<polyline clip-path=\"url(#clip2602)\" style=\"stroke:#000000; stroke-width:2; stroke-opacity:0.1; fill:none\" points=\"\n",
       "  3040.92,1423.18 3040.92,47.2441 \n",
       "  \"/>\n",
       "<polyline clip-path=\"url(#clip2602)\" style=\"stroke:#000000; stroke-width:2; stroke-opacity:0.1; fill:none\" points=\"\n",
       "  3274.09,1423.18 3274.09,47.2441 \n",
       "  \"/>\n",
       "<polyline clip-path=\"url(#clip2602)\" style=\"stroke:#000000; stroke-width:2; stroke-opacity:0.1; fill:none\" points=\"\n",
       "  3536.41,1423.18 3536.41,47.2441 \n",
       "  \"/>\n",
       "<polyline clip-path=\"url(#clip2602)\" style=\"stroke:#000000; stroke-width:2; stroke-opacity:0.1; fill:none\" points=\"\n",
       "  3769.58,1423.18 3769.58,47.2441 \n",
       "  \"/>\n",
       "<polyline clip-path=\"url(#clip2602)\" style=\"stroke:#000000; stroke-width:2; stroke-opacity:0.1; fill:none\" points=\"\n",
       "  227.135,1398.99 3872.76,1398.99 \n",
       "  \"/>\n",
       "<polyline clip-path=\"url(#clip2602)\" style=\"stroke:#000000; stroke-width:2; stroke-opacity:0.1; fill:none\" points=\"\n",
       "  227.135,1103.98 3872.76,1103.98 \n",
       "  \"/>\n",
       "<polyline clip-path=\"url(#clip2602)\" style=\"stroke:#000000; stroke-width:2; stroke-opacity:0.1; fill:none\" points=\"\n",
       "  227.135,808.965 3872.76,808.965 \n",
       "  \"/>\n",
       "<polyline clip-path=\"url(#clip2602)\" style=\"stroke:#000000; stroke-width:2; stroke-opacity:0.1; fill:none\" points=\"\n",
       "  227.135,513.953 3872.76,513.953 \n",
       "  \"/>\n",
       "<polyline clip-path=\"url(#clip2602)\" style=\"stroke:#000000; stroke-width:2; stroke-opacity:0.1; fill:none\" points=\"\n",
       "  227.135,218.941 3872.76,218.941 \n",
       "  \"/>\n",
       "<polyline clip-path=\"url(#clip2600)\" style=\"stroke:#000000; stroke-width:4; stroke-opacity:1; fill:none\" points=\"\n",
       "  227.135,1423.18 3872.76,1423.18 \n",
       "  \"/>\n",
       "<polyline clip-path=\"url(#clip2600)\" style=\"stroke:#000000; stroke-width:4; stroke-opacity:1; fill:none\" points=\"\n",
       "  227.135,1423.18 227.135,47.2441 \n",
       "  \"/>\n",
       "<polyline clip-path=\"url(#clip2600)\" style=\"stroke:#000000; stroke-width:4; stroke-opacity:1; fill:none\" points=\"\n",
       "  330.313,1423.18 330.313,1406.67 \n",
       "  \"/>\n",
       "<polyline clip-path=\"url(#clip2600)\" style=\"stroke:#000000; stroke-width:4; stroke-opacity:1; fill:none\" points=\"\n",
       "  563.483,1423.18 563.483,1406.67 \n",
       "  \"/>\n",
       "<polyline clip-path=\"url(#clip2600)\" style=\"stroke:#000000; stroke-width:4; stroke-opacity:1; fill:none\" points=\"\n",
       "  825.8,1423.18 825.8,1406.67 \n",
       "  \"/>\n",
       "<polyline clip-path=\"url(#clip2600)\" style=\"stroke:#000000; stroke-width:4; stroke-opacity:1; fill:none\" points=\"\n",
       "  1058.97,1423.18 1058.97,1406.67 \n",
       "  \"/>\n",
       "<polyline clip-path=\"url(#clip2600)\" style=\"stroke:#000000; stroke-width:4; stroke-opacity:1; fill:none\" points=\"\n",
       "  1321.29,1423.18 1321.29,1406.67 \n",
       "  \"/>\n",
       "<polyline clip-path=\"url(#clip2600)\" style=\"stroke:#000000; stroke-width:4; stroke-opacity:1; fill:none\" points=\"\n",
       "  1554.46,1423.18 1554.46,1406.67 \n",
       "  \"/>\n",
       "<polyline clip-path=\"url(#clip2600)\" style=\"stroke:#000000; stroke-width:4; stroke-opacity:1; fill:none\" points=\"\n",
       "  1816.77,1423.18 1816.77,1406.67 \n",
       "  \"/>\n",
       "<polyline clip-path=\"url(#clip2600)\" style=\"stroke:#000000; stroke-width:4; stroke-opacity:1; fill:none\" points=\"\n",
       "  2049.95,1423.18 2049.95,1406.67 \n",
       "  \"/>\n",
       "<polyline clip-path=\"url(#clip2600)\" style=\"stroke:#000000; stroke-width:4; stroke-opacity:1; fill:none\" points=\"\n",
       "  2283.12,1423.18 2283.12,1406.67 \n",
       "  \"/>\n",
       "<polyline clip-path=\"url(#clip2600)\" style=\"stroke:#000000; stroke-width:4; stroke-opacity:1; fill:none\" points=\"\n",
       "  2545.43,1423.18 2545.43,1406.67 \n",
       "  \"/>\n",
       "<polyline clip-path=\"url(#clip2600)\" style=\"stroke:#000000; stroke-width:4; stroke-opacity:1; fill:none\" points=\"\n",
       "  2778.6,1423.18 2778.6,1406.67 \n",
       "  \"/>\n",
       "<polyline clip-path=\"url(#clip2600)\" style=\"stroke:#000000; stroke-width:4; stroke-opacity:1; fill:none\" points=\"\n",
       "  3040.92,1423.18 3040.92,1406.67 \n",
       "  \"/>\n",
       "<polyline clip-path=\"url(#clip2600)\" style=\"stroke:#000000; stroke-width:4; stroke-opacity:1; fill:none\" points=\"\n",
       "  3274.09,1423.18 3274.09,1406.67 \n",
       "  \"/>\n",
       "<polyline clip-path=\"url(#clip2600)\" style=\"stroke:#000000; stroke-width:4; stroke-opacity:1; fill:none\" points=\"\n",
       "  3536.41,1423.18 3536.41,1406.67 \n",
       "  \"/>\n",
       "<polyline clip-path=\"url(#clip2600)\" style=\"stroke:#000000; stroke-width:4; stroke-opacity:1; fill:none\" points=\"\n",
       "  3769.58,1423.18 3769.58,1406.67 \n",
       "  \"/>\n",
       "<polyline clip-path=\"url(#clip2600)\" style=\"stroke:#000000; stroke-width:4; stroke-opacity:1; fill:none\" points=\"\n",
       "  227.135,1398.99 270.882,1398.99 \n",
       "  \"/>\n",
       "<polyline clip-path=\"url(#clip2600)\" style=\"stroke:#000000; stroke-width:4; stroke-opacity:1; fill:none\" points=\"\n",
       "  227.135,1103.98 270.882,1103.98 \n",
       "  \"/>\n",
       "<polyline clip-path=\"url(#clip2600)\" style=\"stroke:#000000; stroke-width:4; stroke-opacity:1; fill:none\" points=\"\n",
       "  227.135,808.965 270.882,808.965 \n",
       "  \"/>\n",
       "<polyline clip-path=\"url(#clip2600)\" style=\"stroke:#000000; stroke-width:4; stroke-opacity:1; fill:none\" points=\"\n",
       "  227.135,513.953 270.882,513.953 \n",
       "  \"/>\n",
       "<polyline clip-path=\"url(#clip2600)\" style=\"stroke:#000000; stroke-width:4; stroke-opacity:1; fill:none\" points=\"\n",
       "  227.135,218.941 270.882,218.941 \n",
       "  \"/>\n",
       "<path clip-path=\"url(#clip2600)\" d=\"M 0 0 M235.441 1450.83 L235.441 1455.39 Q232.779 1454.11 230.417 1453.49 Q228.056 1452.86 225.857 1452.86 Q222.038 1452.86 219.954 1454.34 Q217.894 1455.83 217.894 1458.56 Q217.894 1460.85 219.26 1462.03 Q220.649 1463.19 224.492 1463.9 L227.316 1464.48 Q232.547 1465.48 235.024 1468 Q237.524 1470.5 237.524 1474.71 Q237.524 1479.74 234.144 1482.33 Q230.788 1484.92 224.283 1484.92 Q221.829 1484.92 219.052 1484.37 Q216.297 1483.81 213.334 1482.72 L213.334 1477.91 Q216.181 1479.51 218.913 1480.32 Q221.644 1481.13 224.283 1481.13 Q228.288 1481.13 230.464 1479.55 Q232.64 1477.98 232.64 1475.06 Q232.64 1472.52 231.066 1471.08 Q229.515 1469.65 225.95 1468.93 L223.103 1468.37 Q217.871 1467.33 215.533 1465.11 Q213.195 1462.89 213.195 1458.93 Q213.195 1454.34 216.413 1451.71 Q219.654 1449.07 225.325 1449.07 Q227.755 1449.07 230.279 1449.51 Q232.802 1449.95 235.441 1450.83 Z\" fill=\"#000000\" fill-rule=\"evenodd\" fill-opacity=\"1\" /><path clip-path=\"url(#clip2600)\" d=\"M 0 0 M264.167 1470.22 L264.167 1472.31 L244.584 1472.31 Q244.862 1476.71 247.223 1479.02 Q249.607 1481.31 253.843 1481.31 Q256.297 1481.31 258.589 1480.71 Q260.903 1480.11 263.172 1478.9 L263.172 1482.93 Q260.88 1483.9 258.473 1484.41 Q256.065 1484.92 253.589 1484.92 Q247.385 1484.92 243.751 1481.31 Q240.14 1477.7 240.14 1471.54 Q240.14 1465.18 243.565 1461.45 Q247.015 1457.7 252.848 1457.7 Q258.079 1457.7 261.112 1461.08 Q264.167 1464.44 264.167 1470.22 M259.908 1468.97 Q259.862 1465.48 257.94 1463.4 Q256.042 1461.31 252.894 1461.31 Q249.329 1461.31 247.177 1463.33 Q245.047 1465.34 244.723 1469 L259.908 1468.97 Z\" fill=\"#000000\" fill-rule=\"evenodd\" fill-opacity=\"1\" /><path clip-path=\"url(#clip2600)\" d=\"M 0 0 M272.755 1480.36 L272.755 1494.11 L268.473 1494.11 L268.473 1458.33 L272.755 1458.33 L272.755 1462.26 Q274.098 1459.95 276.135 1458.84 Q278.195 1457.7 281.042 1457.7 Q285.764 1457.7 288.704 1461.45 Q291.667 1465.2 291.667 1471.31 Q291.667 1477.42 288.704 1481.17 Q285.764 1484.92 281.042 1484.92 Q278.195 1484.92 276.135 1483.81 Q274.098 1482.68 272.755 1480.36 M287.246 1471.31 Q287.246 1466.61 285.301 1463.95 Q283.38 1461.27 280 1461.27 Q276.621 1461.27 274.676 1463.95 Q272.755 1466.61 272.755 1471.31 Q272.755 1476.01 274.676 1478.7 Q276.621 1481.36 280 1481.36 Q283.38 1481.36 285.301 1478.7 Q287.246 1476.01 287.246 1471.31 Z\" fill=\"#000000\" fill-rule=\"evenodd\" fill-opacity=\"1\" /><path clip-path=\"url(#clip2600)\" d=\"M 0 0 M296.736 1478.37 L301.621 1478.37 L301.621 1484.25 L296.736 1484.25 L296.736 1478.37 Z\" fill=\"#000000\" fill-rule=\"evenodd\" fill-opacity=\"1\" /><path clip-path=\"url(#clip2600)\" d=\"M 0 0 M322.57 1480.32 L330.209 1480.32 L330.209 1453.95 L321.898 1455.62 L321.898 1451.36 L330.162 1449.69 L334.838 1449.69 L334.838 1480.32 L342.477 1480.32 L342.477 1484.25 L322.57 1484.25 L322.57 1480.32 Z\" fill=\"#000000\" fill-rule=\"evenodd\" fill-opacity=\"1\" /><path clip-path=\"url(#clip2600)\" d=\"M 0 0 M357.546 1452.77 Q353.935 1452.77 352.107 1456.34 Q350.301 1459.88 350.301 1467.01 Q350.301 1474.11 352.107 1477.68 Q353.935 1481.22 357.546 1481.22 Q361.181 1481.22 362.986 1477.68 Q364.815 1474.11 364.815 1467.01 Q364.815 1459.88 362.986 1456.34 Q361.181 1452.77 357.546 1452.77 M357.546 1449.07 Q363.357 1449.07 366.412 1453.67 Q369.491 1458.26 369.491 1467.01 Q369.491 1475.73 366.412 1480.34 Q363.357 1484.92 357.546 1484.92 Q351.736 1484.92 348.658 1480.34 Q345.602 1475.73 345.602 1467.01 Q345.602 1458.26 348.658 1453.67 Q351.736 1449.07 357.546 1449.07 Z\" fill=\"#000000\" fill-rule=\"evenodd\" fill-opacity=\"1\" /><path clip-path=\"url(#clip2600)\" d=\"M 0 0 M375.046 1478.37 L379.93 1478.37 L379.93 1482.35 L376.134 1489.76 L373.148 1489.76 L375.046 1482.35 L375.046 1478.37 Z\" fill=\"#000000\" fill-rule=\"evenodd\" fill-opacity=\"1\" /><path clip-path=\"url(#clip2600)\" d=\"M 0 0 M404.097 1480.32 L420.416 1480.32 L420.416 1484.25 L398.472 1484.25 L398.472 1480.32 Q401.134 1477.56 405.717 1472.93 Q410.324 1468.28 411.504 1466.94 Q413.75 1464.41 414.629 1462.68 Q415.532 1460.92 415.532 1459.23 Q415.532 1456.47 413.588 1454.74 Q411.666 1453 408.565 1453 Q406.366 1453 403.912 1453.77 Q401.481 1454.53 398.704 1456.08 L398.704 1451.36 Q401.528 1450.22 403.981 1449.65 Q406.435 1449.07 408.472 1449.07 Q413.842 1449.07 417.037 1451.75 Q420.231 1454.44 420.231 1458.93 Q420.231 1461.06 419.421 1462.98 Q418.634 1464.88 416.528 1467.47 Q415.949 1468.14 412.847 1471.36 Q409.745 1474.55 404.097 1480.32 Z\" fill=\"#000000\" fill-rule=\"evenodd\" fill-opacity=\"1\" /><path clip-path=\"url(#clip2600)\" d=\"M 0 0 M435.486 1452.77 Q431.875 1452.77 430.046 1456.34 Q428.24 1459.88 428.24 1467.01 Q428.24 1474.11 430.046 1477.68 Q431.875 1481.22 435.486 1481.22 Q439.12 1481.22 440.926 1477.68 Q442.754 1474.11 442.754 1467.01 Q442.754 1459.88 440.926 1456.34 Q439.12 1452.77 435.486 1452.77 M435.486 1449.07 Q441.296 1449.07 444.351 1453.67 Q447.43 1458.26 447.43 1467.01 Q447.43 1475.73 444.351 1480.34 Q441.296 1484.92 435.486 1484.92 Q429.676 1484.92 426.597 1480.34 Q423.541 1475.73 423.541 1467.01 Q423.541 1458.26 426.597 1453.67 Q429.676 1449.07 435.486 1449.07 Z\" fill=\"#000000\" fill-rule=\"evenodd\" fill-opacity=\"1\" /><path clip-path=\"url(#clip2600)\" d=\"M 0 0 M468.657 1450.83 L468.657 1455.39 Q465.995 1454.11 463.634 1453.49 Q461.273 1452.86 459.074 1452.86 Q455.255 1452.86 453.171 1454.34 Q451.111 1455.83 451.111 1458.56 Q451.111 1460.85 452.477 1462.03 Q453.866 1463.19 457.708 1463.9 L460.532 1464.48 Q465.764 1465.48 468.241 1468 Q470.741 1470.5 470.741 1474.71 Q470.741 1479.74 467.361 1482.33 Q464.005 1484.92 457.5 1484.92 Q455.046 1484.92 452.269 1484.37 Q449.514 1483.81 446.551 1482.72 L446.551 1477.91 Q449.398 1479.51 452.13 1480.32 Q454.861 1481.13 457.5 1481.13 Q461.505 1481.13 463.681 1479.55 Q465.856 1477.98 465.856 1475.06 Q465.856 1472.52 464.282 1471.08 Q462.731 1469.65 459.167 1468.93 L456.319 1468.37 Q451.088 1467.33 448.75 1465.11 Q446.412 1462.89 446.412 1458.93 Q446.412 1454.34 449.63 1451.71 Q452.87 1449.07 458.542 1449.07 Q460.972 1449.07 463.495 1449.51 Q466.018 1449.95 468.657 1450.83 Z\" fill=\"#000000\" fill-rule=\"evenodd\" fill-opacity=\"1\" /><path clip-path=\"url(#clip2600)\" d=\"M 0 0 M497.384 1470.22 L497.384 1472.31 L477.801 1472.31 Q478.079 1476.71 480.44 1479.02 Q482.824 1481.31 487.06 1481.31 Q489.514 1481.31 491.805 1480.71 Q494.12 1480.11 496.389 1478.9 L496.389 1482.93 Q494.097 1483.9 491.69 1484.41 Q489.282 1484.92 486.805 1484.92 Q480.602 1484.92 476.967 1481.31 Q473.356 1477.7 473.356 1471.54 Q473.356 1465.18 476.782 1461.45 Q480.231 1457.7 486.065 1457.7 Q491.296 1457.7 494.329 1461.08 Q497.384 1464.44 497.384 1470.22 M493.125 1468.97 Q493.079 1465.48 491.157 1463.4 Q489.259 1461.31 486.111 1461.31 Q482.546 1461.31 480.393 1463.33 Q478.264 1465.34 477.94 1469 L493.125 1468.97 Z\" fill=\"#000000\" fill-rule=\"evenodd\" fill-opacity=\"1\" /><path clip-path=\"url(#clip2600)\" d=\"M 0 0 M505.972 1480.36 L505.972 1494.11 L501.69 1494.11 L501.69 1458.33 L505.972 1458.33 L505.972 1462.26 Q507.315 1459.95 509.352 1458.84 Q511.412 1457.7 514.259 1457.7 Q518.981 1457.7 521.921 1461.45 Q524.884 1465.2 524.884 1471.31 Q524.884 1477.42 521.921 1481.17 Q518.981 1484.92 514.259 1484.92 Q511.412 1484.92 509.352 1483.81 Q507.315 1482.68 505.972 1480.36 M520.463 1471.31 Q520.463 1466.61 518.518 1463.95 Q516.597 1461.27 513.217 1461.27 Q509.838 1461.27 507.893 1463.95 Q505.972 1466.61 505.972 1471.31 Q505.972 1476.01 507.893 1478.7 Q509.838 1481.36 513.217 1481.36 Q516.597 1481.36 518.518 1478.7 Q520.463 1476.01 520.463 1471.31 Z\" fill=\"#000000\" fill-rule=\"evenodd\" fill-opacity=\"1\" /><path clip-path=\"url(#clip2600)\" d=\"M 0 0 M529.953 1478.37 L534.838 1478.37 L534.838 1484.25 L529.953 1484.25 L529.953 1478.37 Z\" fill=\"#000000\" fill-rule=\"evenodd\" fill-opacity=\"1\" /><path clip-path=\"url(#clip2600)\" d=\"M 0 0 M555.787 1480.32 L563.425 1480.32 L563.425 1453.95 L555.115 1455.62 L555.115 1451.36 L563.379 1449.69 L568.055 1449.69 L568.055 1480.32 L575.694 1480.32 L575.694 1484.25 L555.787 1484.25 L555.787 1480.32 Z\" fill=\"#000000\" fill-rule=\"evenodd\" fill-opacity=\"1\" /><path clip-path=\"url(#clip2600)\" d=\"M 0 0 M590.763 1467.84 Q587.43 1467.84 585.509 1469.62 Q583.61 1471.4 583.61 1474.53 Q583.61 1477.65 585.509 1479.44 Q587.43 1481.22 590.763 1481.22 Q594.096 1481.22 596.018 1479.44 Q597.939 1477.63 597.939 1474.53 Q597.939 1471.4 596.018 1469.62 Q594.12 1467.84 590.763 1467.84 M586.087 1465.85 Q583.078 1465.11 581.388 1463.05 Q579.722 1460.99 579.722 1458.03 Q579.722 1453.88 582.661 1451.47 Q585.624 1449.07 590.763 1449.07 Q595.925 1449.07 598.865 1451.47 Q601.805 1453.88 601.805 1458.03 Q601.805 1460.99 600.115 1463.05 Q598.448 1465.11 595.462 1465.85 Q598.842 1466.64 600.717 1468.93 Q602.615 1471.22 602.615 1474.53 Q602.615 1479.55 599.536 1482.24 Q596.481 1484.92 590.763 1484.92 Q585.046 1484.92 581.967 1482.24 Q578.911 1479.55 578.911 1474.53 Q578.911 1471.22 580.81 1468.93 Q582.708 1466.64 586.087 1465.85 M584.374 1458.46 Q584.374 1461.15 586.041 1462.65 Q587.731 1464.16 590.763 1464.16 Q593.772 1464.16 595.462 1462.65 Q597.175 1461.15 597.175 1458.46 Q597.175 1455.78 595.462 1454.28 Q593.772 1452.77 590.763 1452.77 Q587.731 1452.77 586.041 1454.28 Q584.374 1455.78 584.374 1458.46 Z\" fill=\"#000000\" fill-rule=\"evenodd\" fill-opacity=\"1\" /><path clip-path=\"url(#clip2600)\" d=\"M 0 0 M608.17 1478.37 L613.055 1478.37 L613.055 1482.35 L609.258 1489.76 L606.272 1489.76 L608.17 1482.35 L608.17 1478.37 Z\" fill=\"#000000\" fill-rule=\"evenodd\" fill-opacity=\"1\" /><path clip-path=\"url(#clip2600)\" d=\"M 0 0 M637.221 1480.32 L653.541 1480.32 L653.541 1484.25 L631.596 1484.25 L631.596 1480.32 Q634.258 1477.56 638.842 1472.93 Q643.448 1468.28 644.629 1466.94 Q646.874 1464.41 647.754 1462.68 Q648.656 1460.92 648.656 1459.23 Q648.656 1456.47 646.712 1454.74 Q644.791 1453 641.689 1453 Q639.49 1453 637.036 1453.77 Q634.606 1454.53 631.828 1456.08 L631.828 1451.36 Q634.652 1450.22 637.106 1449.65 Q639.559 1449.07 641.596 1449.07 Q646.967 1449.07 650.161 1451.75 Q653.355 1454.44 653.355 1458.93 Q653.355 1461.06 652.545 1462.98 Q651.758 1464.88 649.652 1467.47 Q649.073 1468.14 645.971 1471.36 Q642.869 1474.55 637.221 1480.32 Z\" fill=\"#000000\" fill-rule=\"evenodd\" fill-opacity=\"1\" /><path clip-path=\"url(#clip2600)\" d=\"M 0 0 M668.61 1452.77 Q664.999 1452.77 663.17 1456.34 Q661.365 1459.88 661.365 1467.01 Q661.365 1474.11 663.17 1477.68 Q664.999 1481.22 668.61 1481.22 Q672.244 1481.22 674.05 1477.68 Q675.878 1474.11 675.878 1467.01 Q675.878 1459.88 674.05 1456.34 Q672.244 1452.77 668.61 1452.77 M668.61 1449.07 Q674.42 1449.07 677.476 1453.67 Q680.554 1458.26 680.554 1467.01 Q680.554 1475.73 677.476 1480.34 Q674.42 1484.92 668.61 1484.92 Q662.8 1484.92 659.721 1480.34 Q656.666 1475.73 656.666 1467.01 Q656.666 1458.26 659.721 1453.67 Q662.8 1449.07 668.61 1449.07 Z\" fill=\"#000000\" fill-rule=\"evenodd\" fill-opacity=\"1\" /><path clip-path=\"url(#clip2600)\" d=\"M 0 0 M731.564 1450.83 L731.564 1455.39 Q728.902 1454.11 726.541 1453.49 Q724.18 1452.86 721.981 1452.86 Q718.162 1452.86 716.078 1454.34 Q714.018 1455.83 714.018 1458.56 Q714.018 1460.85 715.384 1462.03 Q716.773 1463.19 720.615 1463.9 L723.44 1464.48 Q728.671 1465.48 731.148 1468 Q733.648 1470.5 733.648 1474.71 Q733.648 1479.74 730.268 1482.33 Q726.912 1484.92 720.407 1484.92 Q717.953 1484.92 715.176 1484.37 Q712.421 1483.81 709.458 1482.72 L709.458 1477.91 Q712.305 1479.51 715.037 1480.32 Q717.768 1481.13 720.407 1481.13 Q724.412 1481.13 726.588 1479.55 Q728.764 1477.98 728.764 1475.06 Q728.764 1472.52 727.189 1471.08 Q725.639 1469.65 722.074 1468.93 L719.227 1468.37 Q713.995 1467.33 711.657 1465.11 Q709.319 1462.89 709.319 1458.93 Q709.319 1454.34 712.537 1451.71 Q715.778 1449.07 721.449 1449.07 Q723.879 1449.07 726.402 1449.51 Q728.926 1449.95 731.564 1450.83 Z\" fill=\"#000000\" fill-rule=\"evenodd\" fill-opacity=\"1\" /><path clip-path=\"url(#clip2600)\" d=\"M 0 0 M760.291 1470.22 L760.291 1472.31 L740.708 1472.31 Q740.986 1476.71 743.347 1479.02 Q745.731 1481.31 749.967 1481.31 Q752.421 1481.31 754.712 1480.71 Q757.027 1480.11 759.296 1478.9 L759.296 1482.93 Q757.004 1483.9 754.597 1484.41 Q752.189 1484.92 749.713 1484.92 Q743.509 1484.92 739.875 1481.31 Q736.264 1477.7 736.264 1471.54 Q736.264 1465.18 739.689 1461.45 Q743.138 1457.7 748.972 1457.7 Q754.203 1457.7 757.236 1461.08 Q760.291 1464.44 760.291 1470.22 M756.032 1468.97 Q755.986 1465.48 754.064 1463.4 Q752.166 1461.31 749.018 1461.31 Q745.453 1461.31 743.301 1463.33 Q741.171 1465.34 740.847 1469 L756.032 1468.97 Z\" fill=\"#000000\" fill-rule=\"evenodd\" fill-opacity=\"1\" /><path clip-path=\"url(#clip2600)\" d=\"M 0 0 M768.879 1480.36 L768.879 1494.11 L764.597 1494.11 L764.597 1458.33 L768.879 1458.33 L768.879 1462.26 Q770.222 1459.95 772.259 1458.84 Q774.319 1457.7 777.166 1457.7 Q781.888 1457.7 784.828 1461.45 Q787.791 1465.2 787.791 1471.31 Q787.791 1477.42 784.828 1481.17 Q781.888 1484.92 777.166 1484.92 Q774.319 1484.92 772.259 1483.81 Q770.222 1482.68 768.879 1480.36 M783.37 1471.31 Q783.37 1466.61 781.425 1463.95 Q779.504 1461.27 776.124 1461.27 Q772.745 1461.27 770.8 1463.95 Q768.879 1466.61 768.879 1471.31 Q768.879 1476.01 770.8 1478.7 Q772.745 1481.36 776.124 1481.36 Q779.504 1481.36 781.425 1478.7 Q783.37 1476.01 783.37 1471.31 Z\" fill=\"#000000\" fill-rule=\"evenodd\" fill-opacity=\"1\" /><path clip-path=\"url(#clip2600)\" d=\"M 0 0 M792.86 1478.37 L797.745 1478.37 L797.745 1484.25 L792.86 1484.25 L792.86 1478.37 Z\" fill=\"#000000\" fill-rule=\"evenodd\" fill-opacity=\"1\" /><path clip-path=\"url(#clip2600)\" d=\"M 0 0 M821.911 1480.32 L838.231 1480.32 L838.231 1484.25 L816.286 1484.25 L816.286 1480.32 Q818.948 1477.56 823.532 1472.93 Q828.138 1468.28 829.319 1466.94 Q831.564 1464.41 832.444 1462.68 Q833.346 1460.92 833.346 1459.23 Q833.346 1456.47 831.402 1454.74 Q829.481 1453 826.379 1453 Q824.18 1453 821.726 1453.77 Q819.295 1454.53 816.518 1456.08 L816.518 1451.36 Q819.342 1450.22 821.795 1449.65 Q824.249 1449.07 826.286 1449.07 Q831.657 1449.07 834.851 1451.75 Q838.045 1454.44 838.045 1458.93 Q838.045 1461.06 837.235 1462.98 Q836.448 1464.88 834.342 1467.47 Q833.763 1468.14 830.661 1471.36 Q827.559 1474.55 821.911 1480.32 Z\" fill=\"#000000\" fill-rule=\"evenodd\" fill-opacity=\"1\" /><path clip-path=\"url(#clip2600)\" d=\"M 0 0 M842.119 1449.69 L864.342 1449.69 L864.342 1451.68 L851.795 1484.25 L846.911 1484.25 L858.717 1453.63 L842.119 1453.63 L842.119 1449.69 Z\" fill=\"#000000\" fill-rule=\"evenodd\" fill-opacity=\"1\" /><path clip-path=\"url(#clip2600)\" d=\"M 0 0 M869.897 1478.37 L874.781 1478.37 L874.781 1482.35 L870.985 1489.76 L867.999 1489.76 L869.897 1482.35 L869.897 1478.37 Z\" fill=\"#000000\" fill-rule=\"evenodd\" fill-opacity=\"1\" /><path clip-path=\"url(#clip2600)\" d=\"M 0 0 M898.948 1480.32 L915.267 1480.32 L915.267 1484.25 L893.323 1484.25 L893.323 1480.32 Q895.985 1477.56 900.568 1472.93 Q905.175 1468.28 906.355 1466.94 Q908.601 1464.41 909.48 1462.68 Q910.383 1460.92 910.383 1459.23 Q910.383 1456.47 908.439 1454.74 Q906.517 1453 903.415 1453 Q901.216 1453 898.763 1453.77 Q896.332 1454.53 893.554 1456.08 L893.554 1451.36 Q896.378 1450.22 898.832 1449.65 Q901.286 1449.07 903.323 1449.07 Q908.693 1449.07 911.888 1451.75 Q915.082 1454.44 915.082 1458.93 Q915.082 1461.06 914.272 1462.98 Q913.485 1464.88 911.378 1467.47 Q910.8 1468.14 907.698 1471.36 Q904.596 1474.55 898.948 1480.32 Z\" fill=\"#000000\" fill-rule=\"evenodd\" fill-opacity=\"1\" /><path clip-path=\"url(#clip2600)\" d=\"M 0 0 M930.337 1452.77 Q926.725 1452.77 924.897 1456.34 Q923.091 1459.88 923.091 1467.01 Q923.091 1474.11 924.897 1477.68 Q926.725 1481.22 930.337 1481.22 Q933.971 1481.22 935.776 1477.68 Q937.605 1474.11 937.605 1467.01 Q937.605 1459.88 935.776 1456.34 Q933.971 1452.77 930.337 1452.77 M930.337 1449.07 Q936.147 1449.07 939.202 1453.67 Q942.281 1458.26 942.281 1467.01 Q942.281 1475.73 939.202 1480.34 Q936.147 1484.92 930.337 1484.92 Q924.526 1484.92 921.448 1480.34 Q918.392 1475.73 918.392 1467.01 Q918.392 1458.26 921.448 1453.67 Q924.526 1449.07 930.337 1449.07 Z\" fill=\"#000000\" fill-rule=\"evenodd\" fill-opacity=\"1\" /><path clip-path=\"url(#clip2600)\" d=\"M 0 0 M974.214 1452.86 Q969.122 1452.86 966.112 1456.66 Q963.126 1460.46 963.126 1467.01 Q963.126 1473.53 966.112 1477.33 Q969.122 1481.13 974.214 1481.13 Q979.307 1481.13 982.27 1477.33 Q985.256 1473.53 985.256 1467.01 Q985.256 1460.46 982.27 1456.66 Q979.307 1452.86 974.214 1452.86 M974.214 1449.07 Q981.483 1449.07 985.834 1453.95 Q990.186 1458.81 990.186 1467.01 Q990.186 1475.18 985.834 1480.06 Q981.483 1484.92 974.214 1484.92 Q966.922 1484.92 962.547 1480.06 Q958.196 1475.2 958.196 1467.01 Q958.196 1458.81 962.547 1453.95 Q966.922 1449.07 974.214 1449.07 Z\" fill=\"#000000\" fill-rule=\"evenodd\" fill-opacity=\"1\" /><path clip-path=\"url(#clip2600)\" d=\"M 0 0 M1013.31 1459.32 L1013.31 1463.3 Q1011.51 1462.31 1009.68 1461.82 Q1007.87 1461.31 1006.02 1461.31 Q1001.88 1461.31 999.584 1463.95 Q997.293 1466.57 997.293 1471.31 Q997.293 1476.06 999.584 1478.7 Q1001.88 1481.31 1006.02 1481.31 Q1007.87 1481.31 1009.68 1480.83 Q1011.51 1480.32 1013.31 1479.32 L1013.31 1483.26 Q1011.53 1484.09 1009.61 1484.51 Q1007.71 1484.92 1005.56 1484.92 Q999.7 1484.92 996.251 1481.24 Q992.802 1477.56 992.802 1471.31 Q992.802 1464.97 996.274 1461.34 Q999.77 1457.7 1005.83 1457.7 Q1007.8 1457.7 1009.68 1458.12 Q1011.55 1458.51 1013.31 1459.32 Z\" fill=\"#000000\" fill-rule=\"evenodd\" fill-opacity=\"1\" /><path clip-path=\"url(#clip2600)\" d=\"M 0 0 M1021.99 1450.96 L1021.99 1458.33 L1030.76 1458.33 L1030.76 1461.64 L1021.99 1461.64 L1021.99 1475.71 Q1021.99 1478.88 1022.85 1479.78 Q1023.73 1480.69 1026.39 1480.69 L1030.76 1480.69 L1030.76 1484.25 L1026.39 1484.25 Q1021.46 1484.25 1019.58 1482.42 Q1017.71 1480.57 1017.71 1475.71 L1017.71 1461.64 L1014.58 1461.64 L1014.58 1458.33 L1017.71 1458.33 L1017.71 1450.96 L1021.99 1450.96 Z\" fill=\"#000000\" fill-rule=\"evenodd\" fill-opacity=\"1\" /><path clip-path=\"url(#clip2600)\" d=\"M 0 0 M1035.83 1478.37 L1040.72 1478.37 L1040.72 1484.25 L1035.83 1484.25 L1035.83 1478.37 Z\" fill=\"#000000\" fill-rule=\"evenodd\" fill-opacity=\"1\" /><path clip-path=\"url(#clip2600)\" d=\"M 0 0 M1060.9 1449.69 L1079.26 1449.69 L1079.26 1453.63 L1065.19 1453.63 L1065.19 1462.1 Q1066.2 1461.75 1067.22 1461.59 Q1068.24 1461.4 1069.26 1461.4 Q1075.05 1461.4 1078.43 1464.58 Q1081.81 1467.75 1081.81 1473.16 Q1081.81 1478.74 1078.33 1481.84 Q1074.86 1484.92 1068.54 1484.92 Q1066.37 1484.92 1064.1 1484.55 Q1061.85 1484.18 1059.45 1483.44 L1059.45 1478.74 Q1061.53 1479.88 1063.75 1480.43 Q1065.97 1480.99 1068.45 1480.99 Q1072.45 1480.99 1074.79 1478.88 Q1077.13 1476.78 1077.13 1473.16 Q1077.13 1469.55 1074.79 1467.45 Q1072.45 1465.34 1068.45 1465.34 Q1066.57 1465.34 1064.7 1465.76 Q1062.85 1466.17 1060.9 1467.05 L1060.9 1449.69 Z\" fill=\"#000000\" fill-rule=\"evenodd\" fill-opacity=\"1\" /><path clip-path=\"url(#clip2600)\" d=\"M 0 0 M1087.36 1478.37 L1092.25 1478.37 L1092.25 1482.35 L1088.45 1489.76 L1085.46 1489.76 L1087.36 1482.35 L1087.36 1478.37 Z\" fill=\"#000000\" fill-rule=\"evenodd\" fill-opacity=\"1\" /><path clip-path=\"url(#clip2600)\" d=\"M 0 0 M1116.41 1480.32 L1132.73 1480.32 L1132.73 1484.25 L1110.79 1484.25 L1110.79 1480.32 Q1113.45 1477.56 1118.03 1472.93 Q1122.64 1468.28 1123.82 1466.94 Q1126.07 1464.41 1126.94 1462.68 Q1127.85 1460.92 1127.85 1459.23 Q1127.85 1456.47 1125.9 1454.74 Q1123.98 1453 1120.88 1453 Q1118.68 1453 1116.23 1453.77 Q1113.8 1454.53 1111.02 1456.08 L1111.02 1451.36 Q1113.84 1450.22 1116.3 1449.65 Q1118.75 1449.07 1120.79 1449.07 Q1126.16 1449.07 1129.35 1451.75 Q1132.55 1454.44 1132.55 1458.93 Q1132.55 1461.06 1131.74 1462.98 Q1130.95 1464.88 1128.84 1467.47 Q1128.26 1468.14 1125.16 1471.36 Q1122.06 1474.55 1116.41 1480.32 Z\" fill=\"#000000\" fill-rule=\"evenodd\" fill-opacity=\"1\" /><path clip-path=\"url(#clip2600)\" d=\"M 0 0 M1147.8 1452.77 Q1144.19 1452.77 1142.36 1456.34 Q1140.56 1459.88 1140.56 1467.01 Q1140.56 1474.11 1142.36 1477.68 Q1144.19 1481.22 1147.8 1481.22 Q1151.44 1481.22 1153.24 1477.68 Q1155.07 1474.11 1155.07 1467.01 Q1155.07 1459.88 1153.24 1456.34 Q1151.44 1452.77 1147.8 1452.77 M1147.8 1449.07 Q1153.61 1449.07 1156.67 1453.67 Q1159.75 1458.26 1159.75 1467.01 Q1159.75 1475.73 1156.67 1480.34 Q1153.61 1484.92 1147.8 1484.92 Q1141.99 1484.92 1138.91 1480.34 Q1135.86 1475.73 1135.86 1467.01 Q1135.86 1458.26 1138.91 1453.67 Q1141.99 1449.07 1147.8 1449.07 Z\" fill=\"#000000\" fill-rule=\"evenodd\" fill-opacity=\"1\" /><path clip-path=\"url(#clip2600)\" d=\"M 0 0 M1222.9 1452.86 Q1217.8 1452.86 1214.79 1456.66 Q1211.81 1460.46 1211.81 1467.01 Q1211.81 1473.53 1214.79 1477.33 Q1217.8 1481.13 1222.9 1481.13 Q1227.99 1481.13 1230.95 1477.33 Q1233.94 1473.53 1233.94 1467.01 Q1233.94 1460.46 1230.95 1456.66 Q1227.99 1452.86 1222.9 1452.86 M1222.9 1449.07 Q1230.17 1449.07 1234.52 1453.95 Q1238.87 1458.81 1238.87 1467.01 Q1238.87 1475.18 1234.52 1480.06 Q1230.17 1484.92 1222.9 1484.92 Q1215.61 1484.92 1211.23 1480.06 Q1206.88 1475.2 1206.88 1467.01 Q1206.88 1458.81 1211.23 1453.95 Q1215.61 1449.07 1222.9 1449.07 Z\" fill=\"#000000\" fill-rule=\"evenodd\" fill-opacity=\"1\" /><path clip-path=\"url(#clip2600)\" d=\"M 0 0 M1261.99 1459.32 L1261.99 1463.3 Q1260.19 1462.31 1258.36 1461.82 Q1256.55 1461.31 1254.7 1461.31 Q1250.56 1461.31 1248.27 1463.95 Q1245.98 1466.57 1245.98 1471.31 Q1245.98 1476.06 1248.27 1478.7 Q1250.56 1481.31 1254.7 1481.31 Q1256.55 1481.31 1258.36 1480.83 Q1260.19 1480.32 1261.99 1479.32 L1261.99 1483.26 Q1260.21 1484.09 1258.29 1484.51 Q1256.39 1484.92 1254.24 1484.92 Q1248.38 1484.92 1244.93 1481.24 Q1241.48 1477.56 1241.48 1471.31 Q1241.48 1464.97 1244.96 1461.34 Q1248.45 1457.7 1254.52 1457.7 Q1256.48 1457.7 1258.36 1458.12 Q1260.23 1458.51 1261.99 1459.32 Z\" fill=\"#000000\" fill-rule=\"evenodd\" fill-opacity=\"1\" /><path clip-path=\"url(#clip2600)\" d=\"M 0 0 M1270.67 1450.96 L1270.67 1458.33 L1279.45 1458.33 L1279.45 1461.64 L1270.67 1461.64 L1270.67 1475.71 Q1270.67 1478.88 1271.53 1479.78 Q1272.41 1480.69 1275.07 1480.69 L1279.45 1480.69 L1279.45 1484.25 L1275.07 1484.25 Q1270.14 1484.25 1268.27 1482.42 Q1266.39 1480.57 1266.39 1475.71 L1266.39 1461.64 L1263.27 1461.64 L1263.27 1458.33 L1266.39 1458.33 L1266.39 1450.96 L1270.67 1450.96 Z\" fill=\"#000000\" fill-rule=\"evenodd\" fill-opacity=\"1\" /><path clip-path=\"url(#clip2600)\" d=\"M 0 0 M1284.52 1478.37 L1289.4 1478.37 L1289.4 1484.25 L1284.52 1484.25 L1284.52 1478.37 Z\" fill=\"#000000\" fill-rule=\"evenodd\" fill-opacity=\"1\" /><path clip-path=\"url(#clip2600)\" d=\"M 0 0 M1310.35 1480.32 L1317.99 1480.32 L1317.99 1453.95 L1309.68 1455.62 L1309.68 1451.36 L1317.94 1449.69 L1322.62 1449.69 L1322.62 1480.32 L1330.26 1480.32 L1330.26 1484.25 L1310.35 1484.25 L1310.35 1480.32 Z\" fill=\"#000000\" fill-rule=\"evenodd\" fill-opacity=\"1\" /><path clip-path=\"url(#clip2600)\" d=\"M 0 0 M1348.17 1453.77 L1336.37 1472.21 L1348.17 1472.21 L1348.17 1453.77 M1346.95 1449.69 L1352.83 1449.69 L1352.83 1472.21 L1357.76 1472.21 L1357.76 1476.1 L1352.83 1476.1 L1352.83 1484.25 L1348.17 1484.25 L1348.17 1476.1 L1332.57 1476.1 L1332.57 1471.59 L1346.95 1449.69 Z\" fill=\"#000000\" fill-rule=\"evenodd\" fill-opacity=\"1\" /><path clip-path=\"url(#clip2600)\" d=\"M 0 0 M1363.31 1478.37 L1368.2 1478.37 L1368.2 1482.35 L1364.4 1489.76 L1361.41 1489.76 L1363.31 1482.35 L1363.31 1478.37 Z\" fill=\"#000000\" fill-rule=\"evenodd\" fill-opacity=\"1\" /><path clip-path=\"url(#clip2600)\" d=\"M 0 0 M1392.36 1480.32 L1408.68 1480.32 L1408.68 1484.25 L1386.74 1484.25 L1386.74 1480.32 Q1389.4 1477.56 1393.98 1472.93 Q1398.59 1468.28 1399.77 1466.94 Q1402.02 1464.41 1402.9 1462.68 Q1403.8 1460.92 1403.8 1459.23 Q1403.8 1456.47 1401.85 1454.74 Q1399.93 1453 1396.83 1453 Q1394.63 1453 1392.18 1453.77 Q1389.75 1454.53 1386.97 1456.08 L1386.97 1451.36 Q1389.79 1450.22 1392.25 1449.65 Q1394.7 1449.07 1396.74 1449.07 Q1402.11 1449.07 1405.3 1451.75 Q1408.5 1454.44 1408.5 1458.93 Q1408.5 1461.06 1407.69 1462.98 Q1406.9 1464.88 1404.79 1467.47 Q1404.22 1468.14 1401.11 1471.36 Q1398.01 1474.55 1392.36 1480.32 Z\" fill=\"#000000\" fill-rule=\"evenodd\" fill-opacity=\"1\" /><path clip-path=\"url(#clip2600)\" d=\"M 0 0 M1423.75 1452.77 Q1420.14 1452.77 1418.31 1456.34 Q1416.51 1459.88 1416.51 1467.01 Q1416.51 1474.11 1418.31 1477.68 Q1420.14 1481.22 1423.75 1481.22 Q1427.39 1481.22 1429.19 1477.68 Q1431.02 1474.11 1431.02 1467.01 Q1431.02 1459.88 1429.19 1456.34 Q1427.39 1452.77 1423.75 1452.77 M1423.75 1449.07 Q1429.56 1449.07 1432.62 1453.67 Q1435.7 1458.26 1435.7 1467.01 Q1435.7 1475.73 1432.62 1480.34 Q1429.56 1484.92 1423.75 1484.92 Q1417.94 1484.92 1414.86 1480.34 Q1411.81 1475.73 1411.81 1467.01 Q1411.81 1458.26 1414.86 1453.67 Q1417.94 1449.07 1423.75 1449.07 Z\" fill=\"#000000\" fill-rule=\"evenodd\" fill-opacity=\"1\" /><path clip-path=\"url(#clip2600)\" d=\"M 0 0 M1457.29 1452.86 Q1452.2 1452.86 1449.19 1456.66 Q1446.21 1460.46 1446.21 1467.01 Q1446.21 1473.53 1449.19 1477.33 Q1452.2 1481.13 1457.29 1481.13 Q1462.39 1481.13 1465.35 1477.33 Q1468.34 1473.53 1468.34 1467.01 Q1468.34 1460.46 1465.35 1456.66 Q1462.39 1452.86 1457.29 1452.86 M1457.29 1449.07 Q1464.56 1449.07 1468.91 1453.95 Q1473.27 1458.81 1473.27 1467.01 Q1473.27 1475.18 1468.91 1480.06 Q1464.56 1484.92 1457.29 1484.92 Q1450 1484.92 1445.63 1480.06 Q1441.28 1475.2 1441.28 1467.01 Q1441.28 1458.81 1445.63 1453.95 Q1450 1449.07 1457.29 1449.07 Z\" fill=\"#000000\" fill-rule=\"evenodd\" fill-opacity=\"1\" /><path clip-path=\"url(#clip2600)\" d=\"M 0 0 M1496.39 1459.32 L1496.39 1463.3 Q1494.59 1462.31 1492.76 1461.82 Q1490.95 1461.31 1489.1 1461.31 Q1484.96 1461.31 1482.66 1463.95 Q1480.37 1466.57 1480.37 1471.31 Q1480.37 1476.06 1482.66 1478.7 Q1484.96 1481.31 1489.1 1481.31 Q1490.95 1481.31 1492.76 1480.83 Q1494.59 1480.32 1496.39 1479.32 L1496.39 1483.26 Q1494.61 1484.09 1492.69 1484.51 Q1490.79 1484.92 1488.64 1484.92 Q1482.78 1484.92 1479.33 1481.24 Q1475.88 1477.56 1475.88 1471.31 Q1475.88 1464.97 1479.35 1461.34 Q1482.85 1457.7 1488.91 1457.7 Q1490.88 1457.7 1492.76 1458.12 Q1494.63 1458.51 1496.39 1459.32 Z\" fill=\"#000000\" fill-rule=\"evenodd\" fill-opacity=\"1\" /><path clip-path=\"url(#clip2600)\" d=\"M 0 0 M1505.07 1450.96 L1505.07 1458.33 L1513.84 1458.33 L1513.84 1461.64 L1505.07 1461.64 L1505.07 1475.71 Q1505.07 1478.88 1505.93 1479.78 Q1506.81 1480.69 1509.47 1480.69 L1513.84 1480.69 L1513.84 1484.25 L1509.47 1484.25 Q1504.54 1484.25 1502.66 1482.42 Q1500.79 1480.57 1500.79 1475.71 L1500.79 1461.64 L1497.66 1461.64 L1497.66 1458.33 L1500.79 1458.33 L1500.79 1450.96 L1505.07 1450.96 Z\" fill=\"#000000\" fill-rule=\"evenodd\" fill-opacity=\"1\" /><path clip-path=\"url(#clip2600)\" d=\"M 0 0 M1518.91 1478.37 L1523.8 1478.37 L1523.8 1484.25 L1518.91 1484.25 L1518.91 1478.37 Z\" fill=\"#000000\" fill-rule=\"evenodd\" fill-opacity=\"1\" /><path clip-path=\"url(#clip2600)\" d=\"M 0 0 M1547.96 1480.32 L1564.28 1480.32 L1564.28 1484.25 L1542.34 1484.25 L1542.34 1480.32 Q1545 1477.56 1549.59 1472.93 Q1554.19 1468.28 1555.37 1466.94 Q1557.62 1464.41 1558.5 1462.68 Q1559.4 1460.92 1559.4 1459.23 Q1559.4 1456.47 1557.46 1454.74 Q1555.53 1453 1552.43 1453 Q1550.23 1453 1547.78 1453.77 Q1545.35 1454.53 1542.57 1456.08 L1542.57 1451.36 Q1545.4 1450.22 1547.85 1449.65 Q1550.3 1449.07 1552.34 1449.07 Q1557.71 1449.07 1560.9 1451.75 Q1564.1 1454.44 1564.1 1458.93 Q1564.1 1461.06 1563.29 1462.98 Q1562.5 1464.88 1560.4 1467.47 Q1559.82 1468.14 1556.71 1471.36 Q1553.61 1474.55 1547.96 1480.32 Z\" fill=\"#000000\" fill-rule=\"evenodd\" fill-opacity=\"1\" /><path clip-path=\"url(#clip2600)\" d=\"M 0 0 M1573.38 1480.32 L1589.7 1480.32 L1589.7 1484.25 L1567.76 1484.25 L1567.76 1480.32 Q1570.42 1477.56 1575 1472.93 Q1579.61 1468.28 1580.79 1466.94 Q1583.03 1464.41 1583.91 1462.68 Q1584.82 1460.92 1584.82 1459.23 Q1584.82 1456.47 1582.87 1454.74 Q1580.95 1453 1577.85 1453 Q1575.65 1453 1573.2 1453.77 Q1570.77 1454.53 1567.99 1456.08 L1567.99 1451.36 Q1570.81 1450.22 1573.27 1449.65 Q1575.72 1449.07 1577.76 1449.07 Q1583.13 1449.07 1586.32 1451.75 Q1589.52 1454.44 1589.52 1458.93 Q1589.52 1461.06 1588.71 1462.98 Q1587.92 1464.88 1585.81 1467.47 Q1585.23 1468.14 1582.13 1471.36 Q1579.03 1474.55 1573.38 1480.32 Z\" fill=\"#000000\" fill-rule=\"evenodd\" fill-opacity=\"1\" /><path clip-path=\"url(#clip2600)\" d=\"M 0 0 M1595.26 1478.37 L1600.14 1478.37 L1600.14 1482.35 L1596.34 1489.76 L1593.36 1489.76 L1595.26 1482.35 L1595.26 1478.37 Z\" fill=\"#000000\" fill-rule=\"evenodd\" fill-opacity=\"1\" /><path clip-path=\"url(#clip2600)\" d=\"M 0 0 M1624.31 1480.32 L1640.63 1480.32 L1640.63 1484.25 L1618.68 1484.25 L1618.68 1480.32 Q1621.34 1477.56 1625.93 1472.93 Q1630.53 1468.28 1631.71 1466.94 Q1633.96 1464.41 1634.84 1462.68 Q1635.74 1460.92 1635.74 1459.23 Q1635.74 1456.47 1633.8 1454.74 Q1631.88 1453 1628.77 1453 Q1626.58 1453 1624.12 1453.77 Q1621.69 1454.53 1618.91 1456.08 L1618.91 1451.36 Q1621.74 1450.22 1624.19 1449.65 Q1626.65 1449.07 1628.68 1449.07 Q1634.05 1449.07 1637.25 1451.75 Q1640.44 1454.44 1640.44 1458.93 Q1640.44 1461.06 1639.63 1462.98 Q1638.84 1464.88 1636.74 1467.47 Q1636.16 1468.14 1633.06 1471.36 Q1629.96 1474.55 1624.31 1480.32 Z\" fill=\"#000000\" fill-rule=\"evenodd\" fill-opacity=\"1\" /><path clip-path=\"url(#clip2600)\" d=\"M 0 0 M1655.7 1452.77 Q1652.08 1452.77 1650.26 1456.34 Q1648.45 1459.88 1648.45 1467.01 Q1648.45 1474.11 1650.26 1477.68 Q1652.08 1481.22 1655.7 1481.22 Q1659.33 1481.22 1661.14 1477.68 Q1662.96 1474.11 1662.96 1467.01 Q1662.96 1459.88 1661.14 1456.34 Q1659.33 1452.77 1655.7 1452.77 M1655.7 1449.07 Q1661.51 1449.07 1664.56 1453.67 Q1667.64 1458.26 1667.64 1467.01 Q1667.64 1475.73 1664.56 1480.34 Q1661.51 1484.92 1655.7 1484.92 Q1649.89 1484.92 1646.81 1480.34 Q1643.75 1475.73 1643.75 1467.01 Q1643.75 1458.26 1646.81 1453.67 Q1649.89 1449.07 1655.7 1449.07 Z\" fill=\"#000000\" fill-rule=\"evenodd\" fill-opacity=\"1\" /><path clip-path=\"url(#clip2600)\" d=\"M 0 0 M1718.95 1452.86 Q1713.86 1452.86 1710.85 1456.66 Q1707.86 1460.46 1707.86 1467.01 Q1707.86 1473.53 1710.85 1477.33 Q1713.86 1481.13 1718.95 1481.13 Q1724.04 1481.13 1727.01 1477.33 Q1729.99 1473.53 1729.99 1467.01 Q1729.99 1460.46 1727.01 1456.66 Q1724.04 1452.86 1718.95 1452.86 M1718.95 1449.07 Q1726.22 1449.07 1730.57 1453.95 Q1734.92 1458.81 1734.92 1467.01 Q1734.92 1475.18 1730.57 1480.06 Q1726.22 1484.92 1718.95 1484.92 Q1711.66 1484.92 1707.28 1480.06 Q1702.93 1475.2 1702.93 1467.01 Q1702.93 1458.81 1707.28 1453.95 Q1711.66 1449.07 1718.95 1449.07 Z\" fill=\"#000000\" fill-rule=\"evenodd\" fill-opacity=\"1\" /><path clip-path=\"url(#clip2600)\" d=\"M 0 0 M1758.05 1459.32 L1758.05 1463.3 Q1756.24 1462.31 1754.41 1461.82 Q1752.61 1461.31 1750.76 1461.31 Q1746.61 1461.31 1744.32 1463.95 Q1742.03 1466.57 1742.03 1471.31 Q1742.03 1476.06 1744.32 1478.7 Q1746.61 1481.31 1750.76 1481.31 Q1752.61 1481.31 1754.41 1480.83 Q1756.24 1480.32 1758.05 1479.32 L1758.05 1483.26 Q1756.27 1484.09 1754.34 1484.51 Q1752.45 1484.92 1750.29 1484.92 Q1744.44 1484.92 1740.99 1481.24 Q1737.54 1477.56 1737.54 1471.31 Q1737.54 1464.97 1741.01 1461.34 Q1744.51 1457.7 1750.57 1457.7 Q1752.54 1457.7 1754.41 1458.12 Q1756.29 1458.51 1758.05 1459.32 Z\" fill=\"#000000\" fill-rule=\"evenodd\" fill-opacity=\"1\" /><path clip-path=\"url(#clip2600)\" d=\"M 0 0 M1766.73 1450.96 L1766.73 1458.33 L1775.5 1458.33 L1775.5 1461.64 L1766.73 1461.64 L1766.73 1475.71 Q1766.73 1478.88 1767.59 1479.78 Q1768.46 1480.69 1771.13 1480.69 L1775.5 1480.69 L1775.5 1484.25 L1771.13 1484.25 Q1766.2 1484.25 1764.32 1482.42 Q1762.45 1480.57 1762.45 1475.71 L1762.45 1461.64 L1759.32 1461.64 L1759.32 1458.33 L1762.45 1458.33 L1762.45 1450.96 L1766.73 1450.96 Z\" fill=\"#000000\" fill-rule=\"evenodd\" fill-opacity=\"1\" /><path clip-path=\"url(#clip2600)\" d=\"M 0 0 M1780.57 1478.37 L1785.46 1478.37 L1785.46 1484.25 L1780.57 1484.25 L1780.57 1478.37 Z\" fill=\"#000000\" fill-rule=\"evenodd\" fill-opacity=\"1\" /><path clip-path=\"url(#clip2600)\" d=\"M 0 0 M1819.76 1465.62 Q1823.12 1466.34 1824.99 1468.6 Q1826.89 1470.87 1826.89 1474.21 Q1826.89 1479.32 1823.37 1482.12 Q1819.85 1484.92 1813.37 1484.92 Q1811.2 1484.92 1808.88 1484.48 Q1806.59 1484.07 1804.14 1483.21 L1804.14 1478.7 Q1806.08 1479.83 1808.4 1480.41 Q1810.71 1480.99 1813.23 1480.99 Q1817.63 1480.99 1819.92 1479.25 Q1822.24 1477.52 1822.24 1474.21 Q1822.24 1471.15 1820.08 1469.44 Q1817.96 1467.7 1814.14 1467.7 L1810.11 1467.7 L1810.11 1463.86 L1814.32 1463.86 Q1817.77 1463.86 1819.6 1462.49 Q1821.43 1461.1 1821.43 1458.51 Q1821.43 1455.85 1819.53 1454.44 Q1817.65 1453 1814.14 1453 Q1812.21 1453 1810.02 1453.42 Q1807.82 1453.84 1805.18 1454.71 L1805.18 1450.55 Q1807.84 1449.81 1810.15 1449.44 Q1812.49 1449.07 1814.55 1449.07 Q1819.88 1449.07 1822.98 1451.5 Q1826.08 1453.9 1826.08 1458.03 Q1826.08 1460.9 1824.44 1462.89 Q1822.79 1464.85 1819.76 1465.62 Z\" fill=\"#000000\" fill-rule=\"evenodd\" fill-opacity=\"1\" /><path clip-path=\"url(#clip2600)\" d=\"M 0 0 M1832.77 1480.32 L1840.41 1480.32 L1840.41 1453.95 L1832.1 1455.62 L1832.1 1451.36 L1840.36 1449.69 L1845.04 1449.69 L1845.04 1480.32 L1852.68 1480.32 L1852.68 1484.25 L1832.77 1484.25 L1832.77 1480.32 Z\" fill=\"#000000\" fill-rule=\"evenodd\" fill-opacity=\"1\" /><path clip-path=\"url(#clip2600)\" d=\"M 0 0 M1858.23 1478.37 L1863.12 1478.37 L1863.12 1482.35 L1859.32 1489.76 L1856.33 1489.76 L1858.23 1482.35 L1858.23 1478.37 Z\" fill=\"#000000\" fill-rule=\"evenodd\" fill-opacity=\"1\" /><path clip-path=\"url(#clip2600)\" d=\"M 0 0 M1887.28 1480.32 L1903.6 1480.32 L1903.6 1484.25 L1881.66 1484.25 L1881.66 1480.32 Q1884.32 1477.56 1888.9 1472.93 Q1893.51 1468.28 1894.69 1466.94 Q1896.94 1464.41 1897.82 1462.68 Q1898.72 1460.92 1898.72 1459.23 Q1898.72 1456.47 1896.77 1454.74 Q1894.85 1453 1891.75 1453 Q1889.55 1453 1887.1 1453.77 Q1884.67 1454.53 1881.89 1456.08 L1881.89 1451.36 Q1884.71 1450.22 1887.17 1449.65 Q1889.62 1449.07 1891.66 1449.07 Q1897.03 1449.07 1900.22 1451.75 Q1903.42 1454.44 1903.42 1458.93 Q1903.42 1461.06 1902.61 1462.98 Q1901.82 1464.88 1899.71 1467.47 Q1899.14 1468.14 1896.03 1471.36 Q1892.93 1474.55 1887.28 1480.32 Z\" fill=\"#000000\" fill-rule=\"evenodd\" fill-opacity=\"1\" /><path clip-path=\"url(#clip2600)\" d=\"M 0 0 M1918.67 1452.77 Q1915.06 1452.77 1913.23 1456.34 Q1911.43 1459.88 1911.43 1467.01 Q1911.43 1474.11 1913.23 1477.68 Q1915.06 1481.22 1918.67 1481.22 Q1922.31 1481.22 1924.11 1477.68 Q1925.94 1474.11 1925.94 1467.01 Q1925.94 1459.88 1924.11 1456.34 Q1922.31 1452.77 1918.67 1452.77 M1918.67 1449.07 Q1924.48 1449.07 1927.54 1453.67 Q1930.62 1458.26 1930.62 1467.01 Q1930.62 1475.73 1927.54 1480.34 Q1924.48 1484.92 1918.67 1484.92 Q1912.86 1484.92 1909.78 1480.34 Q1906.73 1475.73 1906.73 1467.01 Q1906.73 1458.26 1909.78 1453.67 Q1912.86 1449.07 1918.67 1449.07 Z\" fill=\"#000000\" fill-rule=\"evenodd\" fill-opacity=\"1\" /><path clip-path=\"url(#clip2600)\" d=\"M 0 0 M1947.24 1449.69 L1953.53 1449.69 L1968.86 1478.6 L1968.86 1449.69 L1973.39 1449.69 L1973.39 1484.25 L1967.1 1484.25 L1951.77 1455.34 L1951.77 1484.25 L1947.24 1484.25 L1947.24 1449.69 Z\" fill=\"#000000\" fill-rule=\"evenodd\" fill-opacity=\"1\" /><path clip-path=\"url(#clip2600)\" d=\"M 0 0 M1987.91 1461.31 Q1984.48 1461.31 1982.49 1464 Q1980.5 1466.66 1980.5 1471.31 Q1980.5 1475.96 1982.47 1478.65 Q1984.46 1481.31 1987.91 1481.31 Q1991.31 1481.31 1993.3 1478.63 Q1995.29 1475.94 1995.29 1471.31 Q1995.29 1466.71 1993.3 1464.02 Q1991.31 1461.31 1987.91 1461.31 M1987.91 1457.7 Q1993.46 1457.7 1996.64 1461.31 Q1999.81 1464.92 1999.81 1471.31 Q1999.81 1477.68 1996.64 1481.31 Q1993.46 1484.92 1987.91 1484.92 Q1982.33 1484.92 1979.16 1481.31 Q1976.01 1477.68 1976.01 1471.31 Q1976.01 1464.92 1979.16 1461.31 Q1982.33 1457.7 1987.91 1457.7 Z\" fill=\"#000000\" fill-rule=\"evenodd\" fill-opacity=\"1\" /><path clip-path=\"url(#clip2600)\" d=\"M 0 0 M2001.22 1458.33 L2005.73 1458.33 L2013.83 1480.09 L2021.94 1458.33 L2026.45 1458.33 L2016.73 1484.25 L2010.94 1484.25 L2001.22 1458.33 Z\" fill=\"#000000\" fill-rule=\"evenodd\" fill-opacity=\"1\" /><path clip-path=\"url(#clip2600)\" d=\"M 0 0 M2027.84 1478.37 L2032.72 1478.37 L2032.72 1484.25 L2027.84 1484.25 L2027.84 1478.37 Z\" fill=\"#000000\" fill-rule=\"evenodd\" fill-opacity=\"1\" /><path clip-path=\"url(#clip2600)\" d=\"M 0 0 M2062.86 1467.84 Q2059.53 1467.84 2057.61 1469.62 Q2055.71 1471.4 2055.71 1474.53 Q2055.71 1477.65 2057.61 1479.44 Q2059.53 1481.22 2062.86 1481.22 Q2066.2 1481.22 2068.12 1479.44 Q2070.04 1477.63 2070.04 1474.53 Q2070.04 1471.4 2068.12 1469.62 Q2066.22 1467.84 2062.86 1467.84 M2058.19 1465.85 Q2055.18 1465.11 2053.49 1463.05 Q2051.82 1460.99 2051.82 1458.03 Q2051.82 1453.88 2054.76 1451.47 Q2057.72 1449.07 2062.86 1449.07 Q2068.02 1449.07 2070.96 1451.47 Q2073.9 1453.88 2073.9 1458.03 Q2073.9 1460.99 2072.21 1463.05 Q2070.55 1465.11 2067.56 1465.85 Q2070.94 1466.64 2072.82 1468.93 Q2074.71 1471.22 2074.71 1474.53 Q2074.71 1479.55 2071.64 1482.24 Q2068.58 1484.92 2062.86 1484.92 Q2057.14 1484.92 2054.07 1482.24 Q2051.01 1479.55 2051.01 1474.53 Q2051.01 1471.22 2052.91 1468.93 Q2054.81 1466.64 2058.19 1465.85 M2056.47 1458.46 Q2056.47 1461.15 2058.14 1462.65 Q2059.83 1464.16 2062.86 1464.16 Q2065.87 1464.16 2067.56 1462.65 Q2069.27 1461.15 2069.27 1458.46 Q2069.27 1455.78 2067.56 1454.28 Q2065.87 1452.77 2062.86 1452.77 Q2059.83 1452.77 2058.14 1454.28 Q2056.47 1455.78 2056.47 1458.46 Z\" fill=\"#000000\" fill-rule=\"evenodd\" fill-opacity=\"1\" /><path clip-path=\"url(#clip2600)\" d=\"M 0 0 M2080.27 1478.37 L2085.15 1478.37 L2085.15 1482.35 L2081.36 1489.76 L2078.37 1489.76 L2080.27 1482.35 L2080.27 1478.37 Z\" fill=\"#000000\" fill-rule=\"evenodd\" fill-opacity=\"1\" /><path clip-path=\"url(#clip2600)\" d=\"M 0 0 M2109.32 1480.32 L2125.64 1480.32 L2125.64 1484.25 L2103.7 1484.25 L2103.7 1480.32 Q2106.36 1477.56 2110.94 1472.93 Q2115.55 1468.28 2116.73 1466.94 Q2118.97 1464.41 2119.85 1462.68 Q2120.76 1460.92 2120.76 1459.23 Q2120.76 1456.47 2118.81 1454.74 Q2116.89 1453 2113.79 1453 Q2111.59 1453 2109.13 1453.77 Q2106.7 1454.53 2103.93 1456.08 L2103.93 1451.36 Q2106.75 1450.22 2109.2 1449.65 Q2111.66 1449.07 2113.69 1449.07 Q2119.07 1449.07 2122.26 1451.75 Q2125.45 1454.44 2125.45 1458.93 Q2125.45 1461.06 2124.64 1462.98 Q2123.86 1464.88 2121.75 1467.47 Q2121.17 1468.14 2118.07 1471.36 Q2114.97 1474.55 2109.32 1480.32 Z\" fill=\"#000000\" fill-rule=\"evenodd\" fill-opacity=\"1\" /><path clip-path=\"url(#clip2600)\" d=\"M 0 0 M2140.71 1452.77 Q2137.1 1452.77 2135.27 1456.34 Q2133.46 1459.88 2133.46 1467.01 Q2133.46 1474.11 2135.27 1477.68 Q2137.1 1481.22 2140.71 1481.22 Q2144.34 1481.22 2146.15 1477.68 Q2147.98 1474.11 2147.98 1467.01 Q2147.98 1459.88 2146.15 1456.34 Q2144.34 1452.77 2140.71 1452.77 M2140.71 1449.07 Q2146.52 1449.07 2149.57 1453.67 Q2152.65 1458.26 2152.65 1467.01 Q2152.65 1475.73 2149.57 1480.34 Q2146.52 1484.92 2140.71 1484.92 Q2134.9 1484.92 2131.82 1480.34 Q2128.76 1475.73 2128.76 1467.01 Q2128.76 1458.26 2131.82 1453.67 Q2134.9 1449.07 2140.71 1449.07 Z\" fill=\"#000000\" fill-rule=\"evenodd\" fill-opacity=\"1\" /><path clip-path=\"url(#clip2600)\" d=\"M 0 0 M2167.39 1449.69 L2173.68 1449.69 L2189.01 1478.6 L2189.01 1449.69 L2193.54 1449.69 L2193.54 1484.25 L2187.25 1484.25 L2171.92 1455.34 L2171.92 1484.25 L2167.39 1484.25 L2167.39 1449.69 Z\" fill=\"#000000\" fill-rule=\"evenodd\" fill-opacity=\"1\" /><path clip-path=\"url(#clip2600)\" d=\"M 0 0 M2208.06 1461.31 Q2204.63 1461.31 2202.64 1464 Q2200.65 1466.66 2200.65 1471.31 Q2200.65 1475.96 2202.62 1478.65 Q2204.61 1481.31 2208.06 1481.31 Q2211.46 1481.31 2213.45 1478.63 Q2215.44 1475.94 2215.44 1471.31 Q2215.44 1466.71 2213.45 1464.02 Q2211.46 1461.31 2208.06 1461.31 M2208.06 1457.7 Q2213.61 1457.7 2216.79 1461.31 Q2219.96 1464.92 2219.96 1471.31 Q2219.96 1477.68 2216.79 1481.31 Q2213.61 1484.92 2208.06 1484.92 Q2202.48 1484.92 2199.31 1481.31 Q2196.16 1477.68 2196.16 1471.31 Q2196.16 1464.92 2199.31 1461.31 Q2202.48 1457.7 2208.06 1457.7 Z\" fill=\"#000000\" fill-rule=\"evenodd\" fill-opacity=\"1\" /><path clip-path=\"url(#clip2600)\" d=\"M 0 0 M2221.37 1458.33 L2225.88 1458.33 L2233.98 1480.09 L2242.09 1458.33 L2246.6 1458.33 L2236.88 1484.25 L2231.09 1484.25 L2221.37 1458.33 Z\" fill=\"#000000\" fill-rule=\"evenodd\" fill-opacity=\"1\" /><path clip-path=\"url(#clip2600)\" d=\"M 0 0 M2247.99 1478.37 L2252.87 1478.37 L2252.87 1484.25 L2247.99 1484.25 L2247.99 1478.37 Z\" fill=\"#000000\" fill-rule=\"evenodd\" fill-opacity=\"1\" /><path clip-path=\"url(#clip2600)\" d=\"M 0 0 M2273.82 1480.32 L2281.46 1480.32 L2281.46 1453.95 L2273.15 1455.62 L2273.15 1451.36 L2281.41 1449.69 L2286.09 1449.69 L2286.09 1480.32 L2293.73 1480.32 L2293.73 1484.25 L2273.82 1484.25 L2273.82 1480.32 Z\" fill=\"#000000\" fill-rule=\"evenodd\" fill-opacity=\"1\" /><path clip-path=\"url(#clip2600)\" d=\"M 0 0 M2309.38 1465.11 Q2306.23 1465.11 2304.38 1467.26 Q2302.55 1469.41 2302.55 1473.16 Q2302.55 1476.89 2304.38 1479.07 Q2306.23 1481.22 2309.38 1481.22 Q2312.53 1481.22 2314.35 1479.07 Q2316.21 1476.89 2316.21 1473.16 Q2316.21 1469.41 2314.35 1467.26 Q2312.53 1465.11 2309.38 1465.11 M2318.66 1450.46 L2318.66 1454.71 Q2316.9 1453.88 2315.09 1453.44 Q2313.31 1453 2311.55 1453 Q2306.92 1453 2304.47 1456.13 Q2302.04 1459.25 2301.69 1465.57 Q2303.06 1463.56 2305.12 1462.49 Q2307.18 1461.4 2309.66 1461.4 Q2314.86 1461.4 2317.87 1464.58 Q2320.9 1467.72 2320.9 1473.16 Q2320.9 1478.49 2317.76 1481.71 Q2314.61 1484.92 2309.38 1484.92 Q2303.38 1484.92 2300.21 1480.34 Q2297.04 1475.73 2297.04 1467.01 Q2297.04 1458.81 2300.93 1453.95 Q2304.82 1449.07 2311.37 1449.07 Q2313.13 1449.07 2314.91 1449.41 Q2316.72 1449.76 2318.66 1450.46 Z\" fill=\"#000000\" fill-rule=\"evenodd\" fill-opacity=\"1\" /><path clip-path=\"url(#clip2600)\" d=\"M 0 0 M2326.46 1478.37 L2331.34 1478.37 L2331.34 1482.35 L2327.55 1489.76 L2324.56 1489.76 L2326.46 1482.35 L2326.46 1478.37 Z\" fill=\"#000000\" fill-rule=\"evenodd\" fill-opacity=\"1\" /><path clip-path=\"url(#clip2600)\" d=\"M 0 0 M2355.51 1480.32 L2371.83 1480.32 L2371.83 1484.25 L2349.89 1484.25 L2349.89 1480.32 Q2352.55 1477.56 2357.13 1472.93 Q2361.74 1468.28 2362.92 1466.94 Q2365.16 1464.41 2366.04 1462.68 Q2366.95 1460.92 2366.95 1459.23 Q2366.95 1456.47 2365 1454.74 Q2363.08 1453 2359.98 1453 Q2357.78 1453 2355.33 1453.77 Q2352.9 1454.53 2350.12 1456.08 L2350.12 1451.36 Q2352.94 1450.22 2355.4 1449.65 Q2357.85 1449.07 2359.89 1449.07 Q2365.26 1449.07 2368.45 1451.75 Q2371.65 1454.44 2371.65 1458.93 Q2371.65 1461.06 2370.84 1462.98 Q2370.05 1464.88 2367.94 1467.47 Q2367.36 1468.14 2364.26 1471.36 Q2361.16 1474.55 2355.51 1480.32 Z\" fill=\"#000000\" fill-rule=\"evenodd\" fill-opacity=\"1\" /><path clip-path=\"url(#clip2600)\" d=\"M 0 0 M2386.9 1452.77 Q2383.29 1452.77 2381.46 1456.34 Q2379.65 1459.88 2379.65 1467.01 Q2379.65 1474.11 2381.46 1477.68 Q2383.29 1481.22 2386.9 1481.22 Q2390.53 1481.22 2392.34 1477.68 Q2394.17 1474.11 2394.17 1467.01 Q2394.17 1459.88 2392.34 1456.34 Q2390.53 1452.77 2386.9 1452.77 M2386.9 1449.07 Q2392.71 1449.07 2395.77 1453.67 Q2398.84 1458.26 2398.84 1467.01 Q2398.84 1475.73 2395.77 1480.34 Q2392.71 1484.92 2386.9 1484.92 Q2381.09 1484.92 2378.01 1480.34 Q2374.96 1475.73 2374.96 1467.01 Q2374.96 1458.26 2378.01 1453.67 Q2381.09 1449.07 2386.9 1449.07 Z\" fill=\"#000000\" fill-rule=\"evenodd\" fill-opacity=\"1\" /><path clip-path=\"url(#clip2600)\" d=\"M 0 0 M2430.47 1449.69 L2436.76 1449.69 L2452.09 1478.6 L2452.09 1449.69 L2456.63 1449.69 L2456.63 1484.25 L2450.33 1484.25 L2435.01 1455.34 L2435.01 1484.25 L2430.47 1484.25 L2430.47 1449.69 Z\" fill=\"#000000\" fill-rule=\"evenodd\" fill-opacity=\"1\" /><path clip-path=\"url(#clip2600)\" d=\"M 0 0 M2471.14 1461.31 Q2467.71 1461.31 2465.72 1464 Q2463.73 1466.66 2463.73 1471.31 Q2463.73 1475.96 2465.7 1478.65 Q2467.69 1481.31 2471.14 1481.31 Q2474.54 1481.31 2476.53 1478.63 Q2478.52 1475.94 2478.52 1471.31 Q2478.52 1466.71 2476.53 1464.02 Q2474.54 1461.31 2471.14 1461.31 M2471.14 1457.7 Q2476.69 1457.7 2479.87 1461.31 Q2483.04 1464.92 2483.04 1471.31 Q2483.04 1477.68 2479.87 1481.31 Q2476.69 1484.92 2471.14 1484.92 Q2465.56 1484.92 2462.39 1481.31 Q2459.24 1477.68 2459.24 1471.31 Q2459.24 1464.92 2462.39 1461.31 Q2465.56 1457.7 2471.14 1457.7 Z\" fill=\"#000000\" fill-rule=\"evenodd\" fill-opacity=\"1\" /><path clip-path=\"url(#clip2600)\" d=\"M 0 0 M2484.45 1458.33 L2488.96 1458.33 L2497.06 1480.09 L2505.17 1458.33 L2509.68 1458.33 L2499.96 1484.25 L2494.17 1484.25 L2484.45 1458.33 Z\" fill=\"#000000\" fill-rule=\"evenodd\" fill-opacity=\"1\" /><path clip-path=\"url(#clip2600)\" d=\"M 0 0 M2511.07 1478.37 L2515.95 1478.37 L2515.95 1484.25 L2511.07 1484.25 L2511.07 1478.37 Z\" fill=\"#000000\" fill-rule=\"evenodd\" fill-opacity=\"1\" /><path clip-path=\"url(#clip2600)\" d=\"M 0 0 M2540.12 1480.32 L2556.44 1480.32 L2556.44 1484.25 L2534.5 1484.25 L2534.5 1480.32 Q2537.16 1477.56 2541.74 1472.93 Q2546.35 1468.28 2547.53 1466.94 Q2549.77 1464.41 2550.65 1462.68 Q2551.56 1460.92 2551.56 1459.23 Q2551.56 1456.47 2549.61 1454.74 Q2547.69 1453 2544.59 1453 Q2542.39 1453 2539.94 1453.77 Q2537.5 1454.53 2534.73 1456.08 L2534.73 1451.36 Q2537.55 1450.22 2540 1449.65 Q2542.46 1449.07 2544.5 1449.07 Q2549.87 1449.07 2553.06 1451.75 Q2556.25 1454.44 2556.25 1458.93 Q2556.25 1461.06 2555.44 1462.98 Q2554.66 1464.88 2552.55 1467.47 Q2551.97 1468.14 2548.87 1471.36 Q2545.77 1474.55 2540.12 1480.32 Z\" fill=\"#000000\" fill-rule=\"evenodd\" fill-opacity=\"1\" /><path clip-path=\"url(#clip2600)\" d=\"M 0 0 M2561.56 1449.69 L2579.91 1449.69 L2579.91 1453.63 L2565.84 1453.63 L2565.84 1462.1 Q2566.86 1461.75 2567.87 1461.59 Q2568.89 1461.4 2569.91 1461.4 Q2575.7 1461.4 2579.08 1464.58 Q2582.46 1467.75 2582.46 1473.16 Q2582.46 1478.74 2578.99 1481.84 Q2575.51 1484.92 2569.19 1484.92 Q2567.02 1484.92 2564.75 1484.55 Q2562.5 1484.18 2560.1 1483.44 L2560.1 1478.74 Q2562.18 1479.88 2564.4 1480.43 Q2566.62 1480.99 2569.1 1480.99 Q2573.11 1480.99 2575.44 1478.88 Q2577.78 1476.78 2577.78 1473.16 Q2577.78 1469.55 2575.44 1467.45 Q2573.11 1465.34 2569.1 1465.34 Q2567.23 1465.34 2565.35 1465.76 Q2563.5 1466.17 2561.56 1467.05 L2561.56 1449.69 Z\" fill=\"#000000\" fill-rule=\"evenodd\" fill-opacity=\"1\" /><path clip-path=\"url(#clip2600)\" d=\"M 0 0 M2588.01 1478.37 L2592.9 1478.37 L2592.9 1482.35 L2589.1 1489.76 L2586.12 1489.76 L2588.01 1482.35 L2588.01 1478.37 Z\" fill=\"#000000\" fill-rule=\"evenodd\" fill-opacity=\"1\" /><path clip-path=\"url(#clip2600)\" d=\"M 0 0 M2617.06 1480.32 L2633.38 1480.32 L2633.38 1484.25 L2611.44 1484.25 L2611.44 1480.32 Q2614.1 1477.56 2618.68 1472.93 Q2623.29 1468.28 2624.47 1466.94 Q2626.72 1464.41 2627.6 1462.68 Q2628.5 1460.92 2628.5 1459.23 Q2628.5 1456.47 2626.55 1454.74 Q2624.63 1453 2621.53 1453 Q2619.33 1453 2616.88 1453.77 Q2614.45 1454.53 2611.67 1456.08 L2611.67 1451.36 Q2614.49 1450.22 2616.95 1449.65 Q2619.4 1449.07 2621.44 1449.07 Q2626.81 1449.07 2630 1451.75 Q2633.2 1454.44 2633.2 1458.93 Q2633.2 1461.06 2632.39 1462.98 Q2631.6 1464.88 2629.49 1467.47 Q2628.92 1468.14 2625.81 1471.36 Q2622.71 1474.55 2617.06 1480.32 Z\" fill=\"#000000\" fill-rule=\"evenodd\" fill-opacity=\"1\" /><path clip-path=\"url(#clip2600)\" d=\"M 0 0 M2648.45 1452.77 Q2644.84 1452.77 2643.01 1456.34 Q2641.21 1459.88 2641.21 1467.01 Q2641.21 1474.11 2643.01 1477.68 Q2644.84 1481.22 2648.45 1481.22 Q2652.09 1481.22 2653.89 1477.68 Q2655.72 1474.11 2655.72 1467.01 Q2655.72 1459.88 2653.89 1456.34 Q2652.09 1452.77 2648.45 1452.77 M2648.45 1449.07 Q2654.26 1449.07 2657.32 1453.67 Q2660.4 1458.26 2660.4 1467.01 Q2660.4 1475.73 2657.32 1480.34 Q2654.26 1484.92 2648.45 1484.92 Q2642.64 1484.92 2639.56 1480.34 Q2636.51 1475.73 2636.51 1467.01 Q2636.51 1458.26 2639.56 1453.67 Q2642.64 1449.07 2648.45 1449.07 Z\" fill=\"#000000\" fill-rule=\"evenodd\" fill-opacity=\"1\" /><path clip-path=\"url(#clip2600)\" d=\"M 0 0 M2679.21 1453.53 L2679.21 1480.41 L2684.85 1480.41 Q2692.01 1480.41 2695.32 1477.17 Q2698.65 1473.93 2698.65 1466.94 Q2698.65 1459.99 2695.32 1456.78 Q2692.01 1453.53 2684.85 1453.53 L2679.21 1453.53 M2674.53 1449.69 L2684.14 1449.69 Q2694.18 1449.69 2698.88 1453.88 Q2703.58 1458.05 2703.58 1466.94 Q2703.58 1475.87 2698.86 1480.06 Q2694.14 1484.25 2684.14 1484.25 L2674.53 1484.25 L2674.53 1449.69 Z\" fill=\"#000000\" fill-rule=\"evenodd\" fill-opacity=\"1\" /><path clip-path=\"url(#clip2600)\" d=\"M 0 0 M2730.22 1470.22 L2730.22 1472.31 L2710.64 1472.31 Q2710.92 1476.71 2713.28 1479.02 Q2715.66 1481.31 2719.9 1481.31 Q2722.35 1481.31 2724.65 1480.71 Q2726.96 1480.11 2729.23 1478.9 L2729.23 1482.93 Q2726.94 1483.9 2724.53 1484.41 Q2722.12 1484.92 2719.65 1484.92 Q2713.44 1484.92 2709.81 1481.31 Q2706.2 1477.7 2706.2 1471.54 Q2706.2 1465.18 2709.62 1461.45 Q2713.07 1457.7 2718.9 1457.7 Q2724.14 1457.7 2727.17 1461.08 Q2730.22 1464.44 2730.22 1470.22 M2725.96 1468.97 Q2725.92 1465.48 2724 1463.4 Q2722.1 1461.31 2718.95 1461.31 Q2715.39 1461.31 2713.23 1463.33 Q2711.1 1465.34 2710.78 1469 L2725.96 1468.97 Z\" fill=\"#000000\" fill-rule=\"evenodd\" fill-opacity=\"1\" /><path clip-path=\"url(#clip2600)\" d=\"M 0 0 M2753.35 1459.32 L2753.35 1463.3 Q2751.54 1462.31 2749.71 1461.82 Q2747.91 1461.31 2746.06 1461.31 Q2741.91 1461.31 2739.62 1463.95 Q2737.33 1466.57 2737.33 1471.31 Q2737.33 1476.06 2739.62 1478.7 Q2741.91 1481.31 2746.06 1481.31 Q2747.91 1481.31 2749.71 1480.83 Q2751.54 1480.32 2753.35 1479.32 L2753.35 1483.26 Q2751.57 1484.09 2749.65 1484.51 Q2747.75 1484.92 2745.59 1484.92 Q2739.74 1484.92 2736.29 1481.24 Q2732.84 1477.56 2732.84 1471.31 Q2732.84 1464.97 2736.31 1461.34 Q2739.81 1457.7 2745.87 1457.7 Q2747.84 1457.7 2749.71 1458.12 Q2751.59 1458.51 2753.35 1459.32 Z\" fill=\"#000000\" fill-rule=\"evenodd\" fill-opacity=\"1\" /><path clip-path=\"url(#clip2600)\" d=\"M 0 0 M2758.42 1478.37 L2763.3 1478.37 L2763.3 1484.25 L2758.42 1484.25 L2758.42 1478.37 Z\" fill=\"#000000\" fill-rule=\"evenodd\" fill-opacity=\"1\" /><path clip-path=\"url(#clip2600)\" d=\"M 0 0 M2797.61 1465.62 Q2800.96 1466.34 2802.84 1468.6 Q2804.74 1470.87 2804.74 1474.21 Q2804.74 1479.32 2801.22 1482.12 Q2797.7 1484.92 2791.22 1484.92 Q2789.04 1484.92 2786.73 1484.48 Q2784.44 1484.07 2781.98 1483.21 L2781.98 1478.7 Q2783.93 1479.83 2786.24 1480.41 Q2788.56 1480.99 2791.08 1480.99 Q2795.48 1480.99 2797.77 1479.25 Q2800.08 1477.52 2800.08 1474.21 Q2800.08 1471.15 2797.93 1469.44 Q2795.8 1467.7 2791.98 1467.7 L2787.96 1467.7 L2787.96 1463.86 L2792.17 1463.86 Q2795.62 1463.86 2797.45 1462.49 Q2799.27 1461.1 2799.27 1458.51 Q2799.27 1455.85 2797.38 1454.44 Q2795.5 1453 2791.98 1453 Q2790.06 1453 2787.86 1453.42 Q2785.66 1453.84 2783.02 1454.71 L2783.02 1450.55 Q2785.69 1449.81 2788 1449.44 Q2790.34 1449.07 2792.4 1449.07 Q2797.72 1449.07 2800.83 1451.5 Q2803.93 1453.9 2803.93 1458.03 Q2803.93 1460.9 2802.28 1462.89 Q2800.64 1464.85 2797.61 1465.62 Z\" fill=\"#000000\" fill-rule=\"evenodd\" fill-opacity=\"1\" /><path clip-path=\"url(#clip2600)\" d=\"M 0 0 M2810.29 1478.37 L2815.18 1478.37 L2815.18 1482.35 L2811.38 1489.76 L2808.39 1489.76 L2810.29 1482.35 L2810.29 1478.37 Z\" fill=\"#000000\" fill-rule=\"evenodd\" fill-opacity=\"1\" /><path clip-path=\"url(#clip2600)\" d=\"M 0 0 M2839.34 1480.32 L2855.66 1480.32 L2855.66 1484.25 L2833.72 1484.25 L2833.72 1480.32 Q2836.38 1477.56 2840.96 1472.93 Q2845.57 1468.28 2846.75 1466.94 Q2849 1464.41 2849.88 1462.68 Q2850.78 1460.92 2850.78 1459.23 Q2850.78 1456.47 2848.83 1454.74 Q2846.91 1453 2843.81 1453 Q2841.61 1453 2839.16 1453.77 Q2836.73 1454.53 2833.95 1456.08 L2833.95 1451.36 Q2836.77 1450.22 2839.23 1449.65 Q2841.68 1449.07 2843.72 1449.07 Q2849.09 1449.07 2852.28 1451.75 Q2855.48 1454.44 2855.48 1458.93 Q2855.48 1461.06 2854.67 1462.98 Q2853.88 1464.88 2851.77 1467.47 Q2851.2 1468.14 2848.09 1471.36 Q2844.99 1474.55 2839.34 1480.32 Z\" fill=\"#000000\" fill-rule=\"evenodd\" fill-opacity=\"1\" /><path clip-path=\"url(#clip2600)\" d=\"M 0 0 M2870.73 1452.77 Q2867.12 1452.77 2865.29 1456.34 Q2863.49 1459.88 2863.49 1467.01 Q2863.49 1474.11 2865.29 1477.68 Q2867.12 1481.22 2870.73 1481.22 Q2874.37 1481.22 2876.17 1477.68 Q2878 1474.11 2878 1467.01 Q2878 1459.88 2876.17 1456.34 Q2874.37 1452.77 2870.73 1452.77 M2870.73 1449.07 Q2876.54 1449.07 2879.6 1453.67 Q2882.68 1458.26 2882.68 1467.01 Q2882.68 1475.73 2879.6 1480.34 Q2876.54 1484.92 2870.73 1484.92 Q2864.92 1484.92 2861.84 1480.34 Q2858.79 1475.73 2858.79 1467.01 Q2858.79 1458.26 2861.84 1453.67 Q2864.92 1449.07 2870.73 1449.07 Z\" fill=\"#000000\" fill-rule=\"evenodd\" fill-opacity=\"1\" /><path clip-path=\"url(#clip2600)\" d=\"M 0 0 M2929.1 1453.53 L2929.1 1480.41 L2934.75 1480.41 Q2941.9 1480.41 2945.21 1477.17 Q2948.55 1473.93 2948.55 1466.94 Q2948.55 1459.99 2945.21 1456.78 Q2941.9 1453.53 2934.75 1453.53 L2929.1 1453.53 M2924.43 1449.69 L2934.03 1449.69 Q2944.08 1449.69 2948.78 1453.88 Q2953.48 1458.05 2953.48 1466.94 Q2953.48 1475.87 2948.76 1480.06 Q2944.03 1484.25 2934.03 1484.25 L2924.43 1484.25 L2924.43 1449.69 Z\" fill=\"#000000\" fill-rule=\"evenodd\" fill-opacity=\"1\" /><path clip-path=\"url(#clip2600)\" d=\"M 0 0 M2980.12 1470.22 L2980.12 1472.31 L2960.54 1472.31 Q2960.82 1476.71 2963.18 1479.02 Q2965.56 1481.31 2969.8 1481.31 Q2972.25 1481.31 2974.54 1480.71 Q2976.86 1480.11 2979.13 1478.9 L2979.13 1482.93 Q2976.83 1483.9 2974.43 1484.41 Q2972.02 1484.92 2969.54 1484.92 Q2963.34 1484.92 2959.71 1481.31 Q2956.09 1477.7 2956.09 1471.54 Q2956.09 1465.18 2959.52 1461.45 Q2962.97 1457.7 2968.8 1457.7 Q2974.03 1457.7 2977.07 1461.08 Q2980.12 1464.44 2980.12 1470.22 M2975.86 1468.97 Q2975.82 1465.48 2973.89 1463.4 Q2972 1461.31 2968.85 1461.31 Q2965.28 1461.31 2963.13 1463.33 Q2961 1465.34 2960.68 1469 L2975.86 1468.97 Z\" fill=\"#000000\" fill-rule=\"evenodd\" fill-opacity=\"1\" /><path clip-path=\"url(#clip2600)\" d=\"M 0 0 M3003.25 1459.32 L3003.25 1463.3 Q3001.44 1462.31 2999.61 1461.82 Q2997.81 1461.31 2995.96 1461.31 Q2991.81 1461.31 2989.52 1463.95 Q2987.23 1466.57 2987.23 1471.31 Q2987.23 1476.06 2989.52 1478.7 Q2991.81 1481.31 2995.96 1481.31 Q2997.81 1481.31 2999.61 1480.83 Q3001.44 1480.32 3003.25 1479.32 L3003.25 1483.26 Q3001.46 1484.09 2999.54 1484.51 Q2997.64 1484.92 2995.49 1484.92 Q2989.64 1484.92 2986.19 1481.24 Q2982.74 1477.56 2982.74 1471.31 Q2982.74 1464.97 2986.21 1461.34 Q2989.71 1457.7 2995.77 1457.7 Q2997.74 1457.7 2999.61 1458.12 Q3001.49 1458.51 3003.25 1459.32 Z\" fill=\"#000000\" fill-rule=\"evenodd\" fill-opacity=\"1\" /><path clip-path=\"url(#clip2600)\" d=\"M 0 0 M3008.32 1478.37 L3013.2 1478.37 L3013.2 1484.25 L3008.32 1484.25 L3008.32 1478.37 Z\" fill=\"#000000\" fill-rule=\"evenodd\" fill-opacity=\"1\" /><path clip-path=\"url(#clip2600)\" d=\"M 0 0 M3034.15 1480.32 L3041.79 1480.32 L3041.79 1453.95 L3033.48 1455.62 L3033.48 1451.36 L3041.74 1449.69 L3046.42 1449.69 L3046.42 1480.32 L3054.06 1480.32 L3054.06 1484.25 L3034.15 1484.25 L3034.15 1480.32 Z\" fill=\"#000000\" fill-rule=\"evenodd\" fill-opacity=\"1\" /><path clip-path=\"url(#clip2600)\" d=\"M 0 0 M3063.15 1480.32 L3079.47 1480.32 L3079.47 1484.25 L3057.53 1484.25 L3057.53 1480.32 Q3060.19 1477.56 3064.77 1472.93 Q3069.38 1468.28 3070.56 1466.94 Q3072.81 1464.41 3073.69 1462.68 Q3074.59 1460.92 3074.59 1459.23 Q3074.59 1456.47 3072.64 1454.74 Q3070.72 1453 3067.62 1453 Q3065.42 1453 3062.97 1453.77 Q3060.54 1454.53 3057.76 1456.08 L3057.76 1451.36 Q3060.58 1450.22 3063.04 1449.65 Q3065.49 1449.07 3067.53 1449.07 Q3072.9 1449.07 3076.09 1451.75 Q3079.29 1454.44 3079.29 1458.93 Q3079.29 1461.06 3078.48 1462.98 Q3077.69 1464.88 3075.58 1467.47 Q3075.01 1468.14 3071.9 1471.36 Q3068.8 1474.55 3063.15 1480.32 Z\" fill=\"#000000\" fill-rule=\"evenodd\" fill-opacity=\"1\" /><path clip-path=\"url(#clip2600)\" d=\"M 0 0 M3085.03 1478.37 L3089.91 1478.37 L3089.91 1482.35 L3086.12 1489.76 L3083.13 1489.76 L3085.03 1482.35 L3085.03 1478.37 Z\" fill=\"#000000\" fill-rule=\"evenodd\" fill-opacity=\"1\" /><path clip-path=\"url(#clip2600)\" d=\"M 0 0 M3114.08 1480.32 L3130.4 1480.32 L3130.4 1484.25 L3108.45 1484.25 L3108.45 1480.32 Q3111.12 1477.56 3115.7 1472.93 Q3120.31 1468.28 3121.49 1466.94 Q3123.73 1464.41 3124.61 1462.68 Q3125.51 1460.92 3125.51 1459.23 Q3125.51 1456.47 3123.57 1454.74 Q3121.65 1453 3118.55 1453 Q3116.35 1453 3113.89 1453.77 Q3111.46 1454.53 3108.69 1456.08 L3108.69 1451.36 Q3111.51 1450.22 3113.96 1449.65 Q3116.42 1449.07 3118.45 1449.07 Q3123.82 1449.07 3127.02 1451.75 Q3130.21 1454.44 3130.21 1458.93 Q3130.21 1461.06 3129.4 1462.98 Q3128.62 1464.88 3126.51 1467.47 Q3125.93 1468.14 3122.83 1471.36 Q3119.73 1474.55 3114.08 1480.32 Z\" fill=\"#000000\" fill-rule=\"evenodd\" fill-opacity=\"1\" /><path clip-path=\"url(#clip2600)\" d=\"M 0 0 M3145.47 1452.77 Q3141.86 1452.77 3140.03 1456.34 Q3138.22 1459.88 3138.22 1467.01 Q3138.22 1474.11 3140.03 1477.68 Q3141.86 1481.22 3145.47 1481.22 Q3149.1 1481.22 3150.91 1477.68 Q3152.74 1474.11 3152.74 1467.01 Q3152.74 1459.88 3150.91 1456.34 Q3149.1 1452.77 3145.47 1452.77 M3145.47 1449.07 Q3151.28 1449.07 3154.33 1453.67 Q3157.41 1458.26 3157.41 1467.01 Q3157.41 1475.73 3154.33 1480.34 Q3151.28 1484.92 3145.47 1484.92 Q3139.66 1484.92 3136.58 1480.34 Q3133.52 1475.73 3133.52 1467.01 Q3133.52 1458.26 3136.58 1453.67 Q3139.66 1449.07 3145.47 1449.07 Z\" fill=\"#000000\" fill-rule=\"evenodd\" fill-opacity=\"1\" /><path clip-path=\"url(#clip2600)\" d=\"M 0 0 M3161.66 1453.53 L3161.66 1480.41 L3167.31 1480.41 Q3174.46 1480.41 3177.77 1477.17 Q3181.1 1473.93 3181.1 1466.94 Q3181.1 1459.99 3177.77 1456.78 Q3174.46 1453.53 3167.31 1453.53 L3161.66 1453.53 M3156.98 1449.69 L3166.59 1449.69 Q3176.64 1449.69 3181.34 1453.88 Q3186.04 1458.05 3186.04 1466.94 Q3186.04 1475.87 3181.31 1480.06 Q3176.59 1484.25 3166.59 1484.25 L3156.98 1484.25 L3156.98 1449.69 Z\" fill=\"#000000\" fill-rule=\"evenodd\" fill-opacity=\"1\" /><path clip-path=\"url(#clip2600)\" d=\"M 0 0 M3212.68 1470.22 L3212.68 1472.31 L3193.1 1472.31 Q3193.37 1476.71 3195.73 1479.02 Q3198.12 1481.31 3202.35 1481.31 Q3204.81 1481.31 3207.1 1480.71 Q3209.42 1480.11 3211.68 1478.9 L3211.68 1482.93 Q3209.39 1483.9 3206.98 1484.41 Q3204.58 1484.92 3202.1 1484.92 Q3195.9 1484.92 3192.26 1481.31 Q3188.65 1477.7 3188.65 1471.54 Q3188.65 1465.18 3192.08 1461.45 Q3195.53 1457.7 3201.36 1457.7 Q3206.59 1457.7 3209.62 1461.08 Q3212.68 1464.44 3212.68 1470.22 M3208.42 1468.97 Q3208.37 1465.48 3206.45 1463.4 Q3204.55 1461.31 3201.41 1461.31 Q3197.84 1461.31 3195.69 1463.33 Q3193.56 1465.34 3193.23 1469 L3208.42 1468.97 Z\" fill=\"#000000\" fill-rule=\"evenodd\" fill-opacity=\"1\" /><path clip-path=\"url(#clip2600)\" d=\"M 0 0 M3235.8 1459.32 L3235.8 1463.3 Q3234 1462.31 3232.17 1461.82 Q3230.36 1461.31 3228.51 1461.31 Q3224.37 1461.31 3222.08 1463.95 Q3219.79 1466.57 3219.79 1471.31 Q3219.79 1476.06 3222.08 1478.7 Q3224.37 1481.31 3228.51 1481.31 Q3230.36 1481.31 3232.17 1480.83 Q3234 1480.32 3235.8 1479.32 L3235.8 1483.26 Q3234.02 1484.09 3232.1 1484.51 Q3230.2 1484.92 3228.05 1484.92 Q3222.19 1484.92 3218.74 1481.24 Q3215.29 1477.56 3215.29 1471.31 Q3215.29 1464.97 3218.77 1461.34 Q3222.26 1457.7 3228.33 1457.7 Q3230.29 1457.7 3232.17 1458.12 Q3234.04 1458.51 3235.8 1459.32 Z\" fill=\"#000000\" fill-rule=\"evenodd\" fill-opacity=\"1\" /><path clip-path=\"url(#clip2600)\" d=\"M 0 0 M3240.87 1478.37 L3245.76 1478.37 L3245.76 1484.25 L3240.87 1484.25 L3240.87 1478.37 Z\" fill=\"#000000\" fill-rule=\"evenodd\" fill-opacity=\"1\" /><path clip-path=\"url(#clip2600)\" d=\"M 0 0 M3269.92 1480.32 L3286.24 1480.32 L3286.24 1484.25 L3264.3 1484.25 L3264.3 1480.32 Q3266.96 1477.56 3271.54 1472.93 Q3276.15 1468.28 3277.33 1466.94 Q3279.58 1464.41 3280.46 1462.68 Q3281.36 1460.92 3281.36 1459.23 Q3281.36 1456.47 3279.41 1454.74 Q3277.49 1453 3274.39 1453 Q3272.19 1453 3269.74 1453.77 Q3267.31 1454.53 3264.53 1456.08 L3264.53 1451.36 Q3267.35 1450.22 3269.81 1449.65 Q3272.26 1449.07 3274.3 1449.07 Q3279.67 1449.07 3282.86 1451.75 Q3286.06 1454.44 3286.06 1458.93 Q3286.06 1461.06 3285.25 1462.98 Q3284.46 1464.88 3282.35 1467.47 Q3281.78 1468.14 3278.67 1471.36 Q3275.57 1474.55 3269.92 1480.32 Z\" fill=\"#000000\" fill-rule=\"evenodd\" fill-opacity=\"1\" /><path clip-path=\"url(#clip2600)\" d=\"M 0 0 M3301.31 1452.77 Q3297.7 1452.77 3295.87 1456.34 Q3294.07 1459.88 3294.07 1467.01 Q3294.07 1474.11 3295.87 1477.68 Q3297.7 1481.22 3301.31 1481.22 Q3304.95 1481.22 3306.75 1477.68 Q3308.58 1474.11 3308.58 1467.01 Q3308.58 1459.88 3306.75 1456.34 Q3304.95 1452.77 3301.31 1452.77 M3301.31 1449.07 Q3307.12 1449.07 3310.18 1453.67 Q3313.26 1458.26 3313.26 1467.01 Q3313.26 1475.73 3310.18 1480.34 Q3307.12 1484.92 3301.31 1484.92 Q3295.5 1484.92 3292.42 1480.34 Q3289.37 1475.73 3289.37 1467.01 Q3289.37 1458.26 3292.42 1453.67 Q3295.5 1449.07 3301.31 1449.07 Z\" fill=\"#000000\" fill-rule=\"evenodd\" fill-opacity=\"1\" /><path clip-path=\"url(#clip2600)\" d=\"M 0 0 M3318.81 1478.37 L3323.7 1478.37 L3323.7 1482.35 L3319.9 1489.76 L3316.91 1489.76 L3318.81 1482.35 L3318.81 1478.37 Z\" fill=\"#000000\" fill-rule=\"evenodd\" fill-opacity=\"1\" /><path clip-path=\"url(#clip2600)\" d=\"M 0 0 M3347.86 1480.32 L3364.18 1480.32 L3364.18 1484.25 L3342.24 1484.25 L3342.24 1480.32 Q3344.9 1477.56 3349.48 1472.93 Q3354.09 1468.28 3355.27 1466.94 Q3357.52 1464.41 3358.4 1462.68 Q3359.3 1460.92 3359.3 1459.23 Q3359.3 1456.47 3357.35 1454.74 Q3355.43 1453 3352.33 1453 Q3350.13 1453 3347.68 1453.77 Q3345.25 1454.53 3342.47 1456.08 L3342.47 1451.36 Q3345.29 1450.22 3347.75 1449.65 Q3350.2 1449.07 3352.24 1449.07 Q3357.61 1449.07 3360.8 1451.75 Q3364 1454.44 3364 1458.93 Q3364 1461.06 3363.19 1462.98 Q3362.4 1464.88 3360.29 1467.47 Q3359.72 1468.14 3356.61 1471.36 Q3353.51 1474.55 3347.86 1480.32 Z\" fill=\"#000000\" fill-rule=\"evenodd\" fill-opacity=\"1\" /><path clip-path=\"url(#clip2600)\" d=\"M 0 0 M3379.25 1452.77 Q3375.64 1452.77 3373.81 1456.34 Q3372.01 1459.88 3372.01 1467.01 Q3372.01 1474.11 3373.81 1477.68 Q3375.64 1481.22 3379.25 1481.22 Q3382.89 1481.22 3384.69 1477.68 Q3386.52 1474.11 3386.52 1467.01 Q3386.52 1459.88 3384.69 1456.34 Q3382.89 1452.77 3379.25 1452.77 M3379.25 1449.07 Q3385.06 1449.07 3388.12 1453.67 Q3391.2 1458.26 3391.2 1467.01 Q3391.2 1475.73 3388.12 1480.34 Q3385.06 1484.92 3379.25 1484.92 Q3373.44 1484.92 3370.36 1480.34 Q3367.31 1475.73 3367.31 1467.01 Q3367.31 1458.26 3370.36 1453.67 Q3373.44 1449.07 3379.25 1449.07 Z\" fill=\"#000000\" fill-rule=\"evenodd\" fill-opacity=\"1\" /><path clip-path=\"url(#clip2600)\" d=\"M 0 0 M3424.07 1453.53 L3424.07 1480.41 L3429.72 1480.41 Q3436.87 1480.41 3440.18 1477.17 Q3443.51 1473.93 3443.51 1466.94 Q3443.51 1459.99 3440.18 1456.78 Q3436.87 1453.53 3429.72 1453.53 L3424.07 1453.53 M3419.39 1449.69 L3429 1449.69 Q3439.05 1449.69 3443.75 1453.88 Q3448.44 1458.05 3448.44 1466.94 Q3448.44 1475.87 3443.72 1480.06 Q3439 1484.25 3429 1484.25 L3419.39 1484.25 L3419.39 1449.69 Z\" fill=\"#000000\" fill-rule=\"evenodd\" fill-opacity=\"1\" /><path clip-path=\"url(#clip2600)\" d=\"M 0 0 M3475.09 1470.22 L3475.09 1472.31 L3455.51 1472.31 Q3455.78 1476.71 3458.14 1479.02 Q3460.53 1481.31 3464.76 1481.31 Q3467.22 1481.31 3469.51 1480.71 Q3471.82 1480.11 3474.09 1478.9 L3474.09 1482.93 Q3471.8 1483.9 3469.39 1484.41 Q3466.99 1484.92 3464.51 1484.92 Q3458.31 1484.92 3454.67 1481.31 Q3451.06 1477.7 3451.06 1471.54 Q3451.06 1465.18 3454.49 1461.45 Q3457.94 1457.7 3463.77 1457.7 Q3469 1457.7 3472.03 1461.08 Q3475.09 1464.44 3475.09 1470.22 M3470.83 1468.97 Q3470.78 1465.48 3468.86 1463.4 Q3466.96 1461.31 3463.82 1461.31 Q3460.25 1461.31 3458.1 1463.33 Q3455.97 1465.34 3455.64 1469 L3470.83 1468.97 Z\" fill=\"#000000\" fill-rule=\"evenodd\" fill-opacity=\"1\" /><path clip-path=\"url(#clip2600)\" d=\"M 0 0 M3498.21 1459.32 L3498.21 1463.3 Q3496.41 1462.31 3494.58 1461.82 Q3492.77 1461.31 3490.92 1461.31 Q3486.78 1461.31 3484.49 1463.95 Q3482.19 1466.57 3482.19 1471.31 Q3482.19 1476.06 3484.49 1478.7 Q3486.78 1481.31 3490.92 1481.31 Q3492.77 1481.31 3494.58 1480.83 Q3496.41 1480.32 3498.21 1479.32 L3498.21 1483.26 Q3496.43 1484.09 3494.51 1484.51 Q3492.61 1484.92 3490.46 1484.92 Q3484.6 1484.92 3481.15 1481.24 Q3477.7 1477.56 3477.7 1471.31 Q3477.7 1464.97 3481.18 1461.34 Q3484.67 1457.7 3490.74 1457.7 Q3492.7 1457.7 3494.58 1458.12 Q3496.45 1458.51 3498.21 1459.32 Z\" fill=\"#000000\" fill-rule=\"evenodd\" fill-opacity=\"1\" /><path clip-path=\"url(#clip2600)\" d=\"M 0 0 M3503.28 1478.37 L3508.17 1478.37 L3508.17 1484.25 L3503.28 1484.25 L3503.28 1478.37 Z\" fill=\"#000000\" fill-rule=\"evenodd\" fill-opacity=\"1\" /><path clip-path=\"url(#clip2600)\" d=\"M 0 0 M3532.33 1480.32 L3548.65 1480.32 L3548.65 1484.25 L3526.71 1484.25 L3526.71 1480.32 Q3529.37 1477.56 3533.95 1472.93 Q3538.56 1468.28 3539.74 1466.94 Q3541.99 1464.41 3542.87 1462.68 Q3543.77 1460.92 3543.77 1459.23 Q3543.77 1456.47 3541.82 1454.74 Q3539.9 1453 3536.8 1453 Q3534.6 1453 3532.15 1453.77 Q3529.72 1454.53 3526.94 1456.08 L3526.94 1451.36 Q3529.76 1450.22 3532.22 1449.65 Q3534.67 1449.07 3536.71 1449.07 Q3542.08 1449.07 3545.27 1451.75 Q3548.47 1454.44 3548.47 1458.93 Q3548.47 1461.06 3547.66 1462.98 Q3546.87 1464.88 3544.76 1467.47 Q3544.19 1468.14 3541.08 1471.36 Q3537.98 1474.55 3532.33 1480.32 Z\" fill=\"#000000\" fill-rule=\"evenodd\" fill-opacity=\"1\" /><path clip-path=\"url(#clip2600)\" d=\"M 0 0 M3553.86 1483.53 L3553.86 1479.28 Q3555.62 1480.11 3557.43 1480.55 Q3559.23 1480.99 3560.97 1480.99 Q3565.6 1480.99 3568.03 1477.89 Q3570.48 1474.76 3570.83 1468.42 Q3569.49 1470.41 3567.43 1471.47 Q3565.37 1472.54 3562.87 1472.54 Q3557.68 1472.54 3554.65 1469.41 Q3551.64 1466.27 3551.64 1460.83 Q3551.64 1455.5 3554.79 1452.28 Q3557.94 1449.07 3563.17 1449.07 Q3569.16 1449.07 3572.31 1453.67 Q3575.48 1458.26 3575.48 1467.01 Q3575.48 1475.18 3571.59 1480.06 Q3567.73 1484.92 3561.18 1484.92 Q3559.42 1484.92 3557.61 1484.58 Q3555.81 1484.23 3553.86 1483.53 M3563.17 1468.88 Q3566.31 1468.88 3568.14 1466.73 Q3570 1464.58 3570 1460.83 Q3570 1457.1 3568.14 1454.95 Q3566.31 1452.77 3563.17 1452.77 Q3560.02 1452.77 3558.17 1454.95 Q3556.34 1457.1 3556.34 1460.83 Q3556.34 1464.58 3558.17 1466.73 Q3560.02 1468.88 3563.17 1468.88 Z\" fill=\"#000000\" fill-rule=\"evenodd\" fill-opacity=\"1\" /><path clip-path=\"url(#clip2600)\" d=\"M 0 0 M3581.04 1478.37 L3585.92 1478.37 L3585.92 1482.35 L3582.12 1489.76 L3579.14 1489.76 L3581.04 1482.35 L3581.04 1478.37 Z\" fill=\"#000000\" fill-rule=\"evenodd\" fill-opacity=\"1\" /><path clip-path=\"url(#clip2600)\" d=\"M 0 0 M3610.09 1480.32 L3626.41 1480.32 L3626.41 1484.25 L3604.46 1484.25 L3604.46 1480.32 Q3607.12 1477.56 3611.71 1472.93 Q3616.31 1468.28 3617.49 1466.94 Q3619.74 1464.41 3620.62 1462.68 Q3621.52 1460.92 3621.52 1459.23 Q3621.52 1456.47 3619.58 1454.74 Q3617.66 1453 3614.56 1453 Q3612.36 1453 3609.9 1453.77 Q3607.47 1454.53 3604.69 1456.08 L3604.69 1451.36 Q3607.52 1450.22 3609.97 1449.65 Q3612.43 1449.07 3614.46 1449.07 Q3619.83 1449.07 3623.03 1451.75 Q3626.22 1454.44 3626.22 1458.93 Q3626.22 1461.06 3625.41 1462.98 Q3624.62 1464.88 3622.52 1467.47 Q3621.94 1468.14 3618.84 1471.36 Q3615.74 1474.55 3610.09 1480.32 Z\" fill=\"#000000\" fill-rule=\"evenodd\" fill-opacity=\"1\" /><path clip-path=\"url(#clip2600)\" d=\"M 0 0 M3641.48 1452.77 Q3637.87 1452.77 3636.04 1456.34 Q3634.23 1459.88 3634.23 1467.01 Q3634.23 1474.11 3636.04 1477.68 Q3637.87 1481.22 3641.48 1481.22 Q3645.11 1481.22 3646.92 1477.68 Q3648.74 1474.11 3648.74 1467.01 Q3648.74 1459.88 3646.92 1456.34 Q3645.11 1452.77 3641.48 1452.77 M3641.48 1449.07 Q3647.29 1449.07 3650.34 1453.67 Q3653.42 1458.26 3653.42 1467.01 Q3653.42 1475.73 3650.34 1480.34 Q3647.29 1484.92 3641.48 1484.92 Q3635.67 1484.92 3632.59 1480.34 Q3629.53 1475.73 3629.53 1467.01 Q3629.53 1458.26 3632.59 1453.67 Q3635.67 1449.07 3641.48 1449.07 Z\" fill=\"#000000\" fill-rule=\"evenodd\" fill-opacity=\"1\" /><path clip-path=\"url(#clip2600)\" d=\"M 0 0 M3680.96 1449.69 L3685.63 1449.69 L3685.63 1481.84 Q3685.63 1488.09 3683.25 1490.92 Q3680.89 1493.74 3675.63 1493.74 L3673.85 1493.74 L3673.85 1489.81 L3675.31 1489.81 Q3678.41 1489.81 3679.68 1488.07 Q3680.96 1486.34 3680.96 1481.84 L3680.96 1449.69 Z\" fill=\"#000000\" fill-rule=\"evenodd\" fill-opacity=\"1\" /><path clip-path=\"url(#clip2600)\" d=\"M 0 0 M3701.88 1471.22 Q3696.72 1471.22 3694.73 1472.4 Q3692.74 1473.58 3692.74 1476.43 Q3692.74 1478.7 3694.22 1480.04 Q3695.72 1481.36 3698.29 1481.36 Q3701.84 1481.36 3703.96 1478.86 Q3706.12 1476.34 3706.12 1472.17 L3706.12 1471.22 L3701.88 1471.22 M3710.38 1469.46 L3710.38 1484.25 L3706.12 1484.25 L3706.12 1480.32 Q3704.66 1482.68 3702.48 1483.81 Q3700.31 1484.92 3697.16 1484.92 Q3693.18 1484.92 3690.82 1482.7 Q3688.48 1480.46 3688.48 1476.71 Q3688.48 1472.33 3691.4 1470.11 Q3694.34 1467.89 3700.15 1467.89 L3706.12 1467.89 L3706.12 1467.47 Q3706.12 1464.53 3704.17 1462.93 Q3702.25 1461.31 3698.76 1461.31 Q3696.53 1461.31 3694.43 1461.84 Q3692.32 1462.38 3690.38 1463.44 L3690.38 1459.51 Q3692.71 1458.6 3694.91 1458.16 Q3697.11 1457.7 3699.2 1457.7 Q3704.82 1457.7 3707.6 1460.62 Q3710.38 1463.53 3710.38 1469.46 Z\" fill=\"#000000\" fill-rule=\"evenodd\" fill-opacity=\"1\" /><path clip-path=\"url(#clip2600)\" d=\"M 0 0 M3736.4 1468.6 L3736.4 1484.25 L3732.14 1484.25 L3732.14 1468.74 Q3732.14 1465.06 3730.7 1463.23 Q3729.27 1461.4 3726.4 1461.4 Q3722.95 1461.4 3720.96 1463.6 Q3718.96 1465.8 3718.96 1469.6 L3718.96 1484.25 L3714.68 1484.25 L3714.68 1458.33 L3718.96 1458.33 L3718.96 1462.35 Q3720.49 1460.02 3722.55 1458.86 Q3724.64 1457.7 3727.34 1457.7 Q3731.81 1457.7 3734.1 1460.48 Q3736.4 1463.23 3736.4 1468.6 Z\" fill=\"#000000\" fill-rule=\"evenodd\" fill-opacity=\"1\" /><path clip-path=\"url(#clip2600)\" d=\"M 0 0 M3741.46 1478.37 L3746.35 1478.37 L3746.35 1484.25 L3741.46 1484.25 L3741.46 1478.37 Z\" fill=\"#000000\" fill-rule=\"evenodd\" fill-opacity=\"1\" /><path clip-path=\"url(#clip2600)\" d=\"M 0 0 M3777.07 1465.11 Q3773.92 1465.11 3772.07 1467.26 Q3770.24 1469.41 3770.24 1473.16 Q3770.24 1476.89 3772.07 1479.07 Q3773.92 1481.22 3777.07 1481.22 Q3780.21 1481.22 3782.04 1479.07 Q3783.9 1476.89 3783.9 1473.16 Q3783.9 1469.41 3782.04 1467.26 Q3780.21 1465.11 3777.07 1465.11 M3786.35 1450.46 L3786.35 1454.71 Q3784.59 1453.88 3782.78 1453.44 Q3781 1453 3779.24 1453 Q3774.61 1453 3772.16 1456.13 Q3769.73 1459.25 3769.38 1465.57 Q3770.75 1463.56 3772.81 1462.49 Q3774.87 1461.4 3777.34 1461.4 Q3782.55 1461.4 3785.56 1464.58 Q3788.59 1467.72 3788.59 1473.16 Q3788.59 1478.49 3785.45 1481.71 Q3782.3 1484.92 3777.07 1484.92 Q3771.07 1484.92 3767.9 1480.34 Q3764.73 1475.73 3764.73 1467.01 Q3764.73 1458.81 3768.62 1453.95 Q3772.51 1449.07 3779.06 1449.07 Q3780.82 1449.07 3782.6 1449.41 Q3784.4 1449.76 3786.35 1450.46 Z\" fill=\"#000000\" fill-rule=\"evenodd\" fill-opacity=\"1\" /><path clip-path=\"url(#clip2600)\" d=\"M 0 0 M3794.15 1478.37 L3799.03 1478.37 L3799.03 1482.35 L3795.24 1489.76 L3792.25 1489.76 L3794.15 1482.35 L3794.15 1478.37 Z\" fill=\"#000000\" fill-rule=\"evenodd\" fill-opacity=\"1\" /><path clip-path=\"url(#clip2600)\" d=\"M 0 0 M3823.2 1480.32 L3839.52 1480.32 L3839.52 1484.25 L3817.58 1484.25 L3817.58 1480.32 Q3820.24 1477.56 3824.82 1472.93 Q3829.43 1468.28 3830.61 1466.94 Q3832.85 1464.41 3833.73 1462.68 Q3834.64 1460.92 3834.64 1459.23 Q3834.64 1456.47 3832.69 1454.74 Q3830.77 1453 3827.67 1453 Q3825.47 1453 3823.02 1453.77 Q3820.58 1454.53 3817.81 1456.08 L3817.81 1451.36 Q3820.63 1450.22 3823.08 1449.65 Q3825.54 1449.07 3827.58 1449.07 Q3832.95 1449.07 3836.14 1451.75 Q3839.33 1454.44 3839.33 1458.93 Q3839.33 1461.06 3838.52 1462.98 Q3837.74 1464.88 3835.63 1467.47 Q3835.05 1468.14 3831.95 1471.36 Q3828.85 1474.55 3823.2 1480.32 Z\" fill=\"#000000\" fill-rule=\"evenodd\" fill-opacity=\"1\" /><path clip-path=\"url(#clip2600)\" d=\"M 0 0 M3845.4 1480.32 L3853.04 1480.32 L3853.04 1453.95 L3844.73 1455.62 L3844.73 1451.36 L3852.99 1449.69 L3857.67 1449.69 L3857.67 1480.32 L3865.31 1480.32 L3865.31 1484.25 L3845.4 1484.25 L3845.4 1480.32 Z\" fill=\"#000000\" fill-rule=\"evenodd\" fill-opacity=\"1\" /><path clip-path=\"url(#clip2600)\" d=\"M 0 0 M113.005 1381.71 L131.361 1381.71 L131.361 1385.64 L117.287 1385.64 L117.287 1394.12 Q118.305 1393.77 119.324 1393.61 Q120.343 1393.42 121.361 1393.42 Q127.148 1393.42 130.528 1396.59 Q133.907 1399.76 133.907 1405.18 Q133.907 1410.76 130.435 1413.86 Q126.963 1416.94 120.643 1416.94 Q118.468 1416.94 116.199 1416.57 Q113.954 1416.2 111.546 1415.46 L111.546 1410.76 Q113.63 1411.89 115.852 1412.45 Q118.074 1413 120.551 1413 Q124.555 1413 126.893 1410.9 Q129.231 1408.79 129.231 1405.18 Q129.231 1401.57 126.893 1399.46 Q124.555 1397.36 120.551 1397.36 Q118.676 1397.36 116.801 1397.77 Q114.949 1398.19 113.005 1399.07 L113.005 1381.71 Z\" fill=\"#000000\" fill-rule=\"evenodd\" fill-opacity=\"1\" /><path clip-path=\"url(#clip2600)\" d=\"M 0 0 M148.977 1384.79 Q145.366 1384.79 143.537 1388.35 Q141.731 1391.89 141.731 1399.02 Q141.731 1406.13 143.537 1409.69 Q145.366 1413.24 148.977 1413.24 Q152.611 1413.24 154.416 1409.69 Q156.245 1406.13 156.245 1399.02 Q156.245 1391.89 154.416 1388.35 Q152.611 1384.79 148.977 1384.79 M148.977 1381.08 Q154.787 1381.08 157.842 1385.69 Q160.921 1390.27 160.921 1399.02 Q160.921 1407.75 157.842 1412.36 Q154.787 1416.94 148.977 1416.94 Q143.166 1416.94 140.088 1412.36 Q137.032 1407.75 137.032 1399.02 Q137.032 1390.27 140.088 1385.69 Q143.166 1381.08 148.977 1381.08 Z\" fill=\"#000000\" fill-rule=\"evenodd\" fill-opacity=\"1\" /><path clip-path=\"url(#clip2600)\" d=\"M 0 0 M175.99 1384.79 Q172.379 1384.79 170.551 1388.35 Q168.745 1391.89 168.745 1399.02 Q168.745 1406.13 170.551 1409.69 Q172.379 1413.24 175.99 1413.24 Q179.625 1413.24 181.43 1409.69 Q183.259 1406.13 183.259 1399.02 Q183.259 1391.89 181.43 1388.35 Q179.625 1384.79 175.99 1384.79 M175.99 1381.08 Q181.801 1381.08 184.856 1385.69 Q187.935 1390.27 187.935 1399.02 Q187.935 1407.75 184.856 1412.36 Q181.801 1416.94 175.99 1416.94 Q170.18 1416.94 167.102 1412.36 Q164.046 1407.75 164.046 1399.02 Q164.046 1390.27 167.102 1385.69 Q170.18 1381.08 175.99 1381.08 Z\" fill=\"#000000\" fill-rule=\"evenodd\" fill-opacity=\"1\" /><path clip-path=\"url(#clip2600)\" d=\"M 0 0 M114.602 1086.7 L132.958 1086.7 L132.958 1090.63 L118.884 1090.63 L118.884 1099.1 Q119.903 1098.76 120.921 1098.59 Q121.94 1098.41 122.958 1098.41 Q128.745 1098.41 132.125 1101.58 Q135.504 1104.75 135.504 1110.17 Q135.504 1115.75 132.032 1118.85 Q128.56 1121.93 122.241 1121.93 Q120.065 1121.93 117.796 1121.56 Q115.551 1121.19 113.143 1120.45 L113.143 1115.75 Q115.227 1116.88 117.449 1117.44 Q119.671 1117.99 122.148 1117.99 Q126.153 1117.99 128.491 1115.89 Q130.829 1113.78 130.829 1110.17 Q130.829 1106.56 128.491 1104.45 Q126.153 1102.34 122.148 1102.34 Q120.273 1102.34 118.398 1102.76 Q116.546 1103.18 114.602 1104.06 L114.602 1086.7 Z\" fill=\"#000000\" fill-rule=\"evenodd\" fill-opacity=\"1\" /><path clip-path=\"url(#clip2600)\" d=\"M 0 0 M144.602 1117.32 L160.921 1117.32 L160.921 1121.26 L138.977 1121.26 L138.977 1117.32 Q141.639 1114.57 146.222 1109.94 Q150.828 1105.28 152.009 1103.94 Q154.254 1101.42 155.134 1099.68 Q156.037 1097.92 156.037 1096.23 Q156.037 1093.48 154.092 1091.74 Q152.171 1090.01 149.069 1090.01 Q146.87 1090.01 144.416 1090.77 Q141.986 1091.53 139.208 1093.09 L139.208 1088.36 Q142.032 1087.23 144.486 1086.65 Q146.94 1086.07 148.977 1086.07 Q154.347 1086.07 157.541 1088.76 Q160.736 1091.44 160.736 1095.93 Q160.736 1098.06 159.926 1099.98 Q159.139 1101.88 157.032 1104.47 Q156.453 1105.15 153.352 1108.36 Q150.25 1111.56 144.602 1117.32 Z\" fill=\"#000000\" fill-rule=\"evenodd\" fill-opacity=\"1\" /><path clip-path=\"url(#clip2600)\" d=\"M 0 0 M175.99 1089.78 Q172.379 1089.78 170.551 1093.34 Q168.745 1096.88 168.745 1104.01 Q168.745 1111.12 170.551 1114.68 Q172.379 1118.22 175.99 1118.22 Q179.625 1118.22 181.43 1114.68 Q183.259 1111.12 183.259 1104.01 Q183.259 1096.88 181.43 1093.34 Q179.625 1089.78 175.99 1089.78 M175.99 1086.07 Q181.801 1086.07 184.856 1090.68 Q187.935 1095.26 187.935 1104.01 Q187.935 1112.74 184.856 1117.34 Q181.801 1121.93 175.99 1121.93 Q170.18 1121.93 167.102 1117.34 Q164.046 1112.74 164.046 1104.01 Q164.046 1095.26 167.102 1090.68 Q170.18 1086.07 175.99 1086.07 Z\" fill=\"#000000\" fill-rule=\"evenodd\" fill-opacity=\"1\" /><path clip-path=\"url(#clip2600)\" d=\"M 0 0 M112.518 791.685 L130.875 791.685 L130.875 795.62 L116.801 795.62 L116.801 804.092 Q117.819 803.745 118.838 803.583 Q119.856 803.398 120.875 803.398 Q126.662 803.398 130.042 806.569 Q133.421 809.74 133.421 815.157 Q133.421 820.736 129.949 823.838 Q126.477 826.916 120.157 826.916 Q117.981 826.916 115.713 826.546 Q113.468 826.176 111.06 825.435 L111.06 820.736 Q113.143 821.87 115.366 822.426 Q117.588 822.981 120.065 822.981 Q124.069 822.981 126.407 820.875 Q128.745 818.768 128.745 815.157 Q128.745 811.546 126.407 809.439 Q124.069 807.333 120.065 807.333 Q118.19 807.333 116.315 807.75 Q114.463 808.166 112.518 809.046 L112.518 791.685 Z\" fill=\"#000000\" fill-rule=\"evenodd\" fill-opacity=\"1\" /><path clip-path=\"url(#clip2600)\" d=\"M 0 0 M151.338 795.759 L139.532 814.208 L151.338 814.208 L151.338 795.759 M150.111 791.685 L155.99 791.685 L155.99 814.208 L160.921 814.208 L160.921 818.097 L155.99 818.097 L155.99 826.245 L151.338 826.245 L151.338 818.097 L135.736 818.097 L135.736 813.583 L150.111 791.685 Z\" fill=\"#000000\" fill-rule=\"evenodd\" fill-opacity=\"1\" /><path clip-path=\"url(#clip2600)\" d=\"M 0 0 M175.99 794.764 Q172.379 794.764 170.551 798.328 Q168.745 801.87 168.745 809 Q168.745 816.106 170.551 819.671 Q172.379 823.213 175.99 823.213 Q179.625 823.213 181.43 819.671 Q183.259 816.106 183.259 809 Q183.259 801.87 181.43 798.328 Q179.625 794.764 175.99 794.764 M175.99 791.06 Q181.801 791.06 184.856 795.666 Q187.935 800.25 187.935 809 Q187.935 817.726 184.856 822.333 Q181.801 826.916 175.99 826.916 Q170.18 826.916 167.102 822.333 Q164.046 817.726 164.046 809 Q164.046 800.25 167.102 795.666 Q170.18 791.06 175.99 791.06 Z\" fill=\"#000000\" fill-rule=\"evenodd\" fill-opacity=\"1\" /><path clip-path=\"url(#clip2600)\" d=\"M 0 0 M112.843 496.673 L131.199 496.673 L131.199 500.608 L117.125 500.608 L117.125 509.08 Q118.143 508.733 119.162 508.571 Q120.18 508.386 121.199 508.386 Q126.986 508.386 130.366 511.557 Q133.745 514.728 133.745 520.145 Q133.745 525.724 130.273 528.826 Q126.801 531.904 120.481 531.904 Q118.305 531.904 116.037 531.534 Q113.792 531.164 111.384 530.423 L111.384 525.724 Q113.468 526.858 115.69 527.414 Q117.912 527.969 120.389 527.969 Q124.393 527.969 126.731 525.863 Q129.069 523.756 129.069 520.145 Q129.069 516.534 126.731 514.428 Q124.393 512.321 120.389 512.321 Q118.514 512.321 116.639 512.738 Q114.787 513.154 112.843 514.034 L112.843 496.673 Z\" fill=\"#000000\" fill-rule=\"evenodd\" fill-opacity=\"1\" /><path clip-path=\"url(#clip2600)\" d=\"M 0 0 M149.393 512.09 Q146.245 512.09 144.393 514.242 Q142.565 516.395 142.565 520.145 Q142.565 523.872 144.393 526.048 Q146.245 528.201 149.393 528.201 Q152.541 528.201 154.37 526.048 Q156.222 523.872 156.222 520.145 Q156.222 516.395 154.37 514.242 Q152.541 512.09 149.393 512.09 M158.676 497.437 L158.676 501.696 Q156.916 500.863 155.111 500.423 Q153.328 499.983 151.569 499.983 Q146.94 499.983 144.486 503.108 Q142.055 506.233 141.708 512.553 Q143.074 510.539 145.134 509.474 Q147.194 508.386 149.671 508.386 Q154.879 508.386 157.889 511.557 Q160.921 514.705 160.921 520.145 Q160.921 525.469 157.773 528.687 Q154.625 531.904 149.393 531.904 Q143.398 531.904 140.227 527.321 Q137.055 522.715 137.055 513.988 Q137.055 505.793 140.944 500.932 Q144.833 496.048 151.384 496.048 Q153.143 496.048 154.926 496.395 Q156.731 496.742 158.676 497.437 Z\" fill=\"#000000\" fill-rule=\"evenodd\" fill-opacity=\"1\" /><path clip-path=\"url(#clip2600)\" d=\"M 0 0 M175.99 499.752 Q172.379 499.752 170.551 503.316 Q168.745 506.858 168.745 513.988 Q168.745 521.094 170.551 524.659 Q172.379 528.201 175.99 528.201 Q179.625 528.201 181.43 524.659 Q183.259 521.094 183.259 513.988 Q183.259 506.858 181.43 503.316 Q179.625 499.752 175.99 499.752 M175.99 496.048 Q181.801 496.048 184.856 500.654 Q187.935 505.238 187.935 513.988 Q187.935 522.715 184.856 527.321 Q181.801 531.904 175.99 531.904 Q170.18 531.904 167.102 527.321 Q164.046 522.715 164.046 513.988 Q164.046 505.238 167.102 500.654 Q170.18 496.048 175.99 496.048 Z\" fill=\"#000000\" fill-rule=\"evenodd\" fill-opacity=\"1\" /><path clip-path=\"url(#clip2600)\" d=\"M 0 0 M113.097 201.661 L131.454 201.661 L131.454 205.596 L117.38 205.596 L117.38 214.068 Q118.398 213.721 119.417 213.559 Q120.435 213.374 121.454 213.374 Q127.241 213.374 130.62 216.545 Q134 219.717 134 225.133 Q134 230.712 130.528 233.814 Q127.055 236.892 120.736 236.892 Q118.56 236.892 116.292 236.522 Q114.046 236.152 111.639 235.411 L111.639 230.712 Q113.722 231.846 115.944 232.402 Q118.167 232.957 120.643 232.957 Q124.648 232.957 126.986 230.851 Q129.324 228.744 129.324 225.133 Q129.324 221.522 126.986 219.416 Q124.648 217.309 120.643 217.309 Q118.768 217.309 116.893 217.726 Q115.042 218.142 113.097 219.022 L113.097 201.661 Z\" fill=\"#000000\" fill-rule=\"evenodd\" fill-opacity=\"1\" /><path clip-path=\"url(#clip2600)\" d=\"M 0 0 M149.069 219.809 Q145.736 219.809 143.815 221.591 Q141.916 223.374 141.916 226.499 Q141.916 229.624 143.815 231.406 Q145.736 233.189 149.069 233.189 Q152.403 233.189 154.324 231.406 Q156.245 229.601 156.245 226.499 Q156.245 223.374 154.324 221.591 Q152.426 219.809 149.069 219.809 M144.393 217.818 Q141.384 217.078 139.694 215.017 Q138.028 212.957 138.028 209.994 Q138.028 205.851 140.967 203.443 Q143.93 201.036 149.069 201.036 Q154.231 201.036 157.171 203.443 Q160.111 205.851 160.111 209.994 Q160.111 212.957 158.421 215.017 Q156.754 217.078 153.768 217.818 Q157.148 218.605 159.023 220.897 Q160.921 223.189 160.921 226.499 Q160.921 231.522 157.842 234.207 Q154.787 236.892 149.069 236.892 Q143.352 236.892 140.273 234.207 Q137.217 231.522 137.217 226.499 Q137.217 223.189 139.116 220.897 Q141.014 218.605 144.393 217.818 M142.68 210.434 Q142.68 213.119 144.347 214.624 Q146.037 216.129 149.069 216.129 Q152.078 216.129 153.768 214.624 Q155.481 213.119 155.481 210.434 Q155.481 207.749 153.768 206.244 Q152.078 204.74 149.069 204.74 Q146.037 204.74 144.347 206.244 Q142.68 207.749 142.68 210.434 Z\" fill=\"#000000\" fill-rule=\"evenodd\" fill-opacity=\"1\" /><path clip-path=\"url(#clip2600)\" d=\"M 0 0 M175.99 204.74 Q172.379 204.74 170.551 208.305 Q168.745 211.846 168.745 218.976 Q168.745 226.082 170.551 229.647 Q172.379 233.189 175.99 233.189 Q179.625 233.189 181.43 229.647 Q183.259 226.082 183.259 218.976 Q183.259 211.846 181.43 208.305 Q179.625 204.74 175.99 204.74 M175.99 201.036 Q181.801 201.036 184.856 205.643 Q187.935 210.226 187.935 218.976 Q187.935 227.703 184.856 232.309 Q181.801 236.892 175.99 236.892 Q170.18 236.892 167.102 232.309 Q164.046 227.703 164.046 218.976 Q164.046 210.226 167.102 205.643 Q170.18 201.036 175.99 201.036 Z\" fill=\"#000000\" fill-rule=\"evenodd\" fill-opacity=\"1\" /><path clip-path=\"url(#clip2600)\" d=\"M 0 0 M1995.71 1525.47 L1995.71 1535.6 L2007.77 1535.6 L2007.77 1540.15 L1995.71 1540.15 L1995.71 1559.5 Q1995.71 1563.86 1996.89 1565.1 Q1998.1 1566.34 2001.76 1566.34 L2007.77 1566.34 L2007.77 1571.24 L2001.76 1571.24 Q1994.98 1571.24 1992.4 1568.73 Q1989.82 1566.18 1989.82 1559.5 L1989.82 1540.15 L1985.52 1540.15 L1985.52 1535.6 L1989.82 1535.6 L1989.82 1525.47 L1995.71 1525.47 Z\" fill=\"#000000\" fill-rule=\"evenodd\" fill-opacity=\"1\" /><path clip-path=\"url(#clip2600)\" d=\"M 0 0 M2013.92 1535.6 L2019.77 1535.6 L2019.77 1571.24 L2013.92 1571.24 L2013.92 1535.6 M2013.92 1521.72 L2019.77 1521.72 L2019.77 1529.13 L2013.92 1529.13 L2013.92 1521.72 Z\" fill=\"#000000\" fill-rule=\"evenodd\" fill-opacity=\"1\" /><path clip-path=\"url(#clip2600)\" d=\"M 0 0 M2053.67 1542.44 Q2055.87 1538.49 2058.92 1536.61 Q2061.98 1534.74 2066.11 1534.74 Q2071.68 1534.74 2074.71 1538.65 Q2077.73 1542.53 2077.73 1549.73 L2077.73 1571.24 L2071.84 1571.24 L2071.84 1549.92 Q2071.84 1544.79 2070.03 1542.31 Q2068.21 1539.83 2064.49 1539.83 Q2059.94 1539.83 2057.3 1542.85 Q2054.66 1545.88 2054.66 1551.1 L2054.66 1571.24 L2048.77 1571.24 L2048.77 1549.92 Q2048.77 1544.76 2046.95 1542.31 Q2045.14 1539.83 2041.35 1539.83 Q2036.86 1539.83 2034.22 1542.88 Q2031.58 1545.91 2031.58 1551.1 L2031.58 1571.24 L2025.69 1571.24 L2025.69 1535.6 L2031.58 1535.6 L2031.58 1541.13 Q2033.59 1537.86 2036.39 1536.3 Q2039.19 1534.74 2043.04 1534.74 Q2046.92 1534.74 2049.63 1536.71 Q2052.36 1538.68 2053.67 1542.44 Z\" fill=\"#000000\" fill-rule=\"evenodd\" fill-opacity=\"1\" /><path clip-path=\"url(#clip2600)\" d=\"M 0 0 M2114.37 1551.96 L2114.37 1554.82 L2087.44 1554.82 Q2087.82 1560.87 2091.07 1564.05 Q2094.35 1567.2 2100.17 1567.2 Q2103.54 1567.2 2106.7 1566.37 Q2109.88 1565.55 2113 1563.89 L2113 1569.43 Q2109.85 1570.77 2106.54 1571.47 Q2103.23 1572.17 2099.82 1572.17 Q2091.29 1572.17 2086.29 1567.2 Q2081.33 1562.24 2081.33 1553.77 Q2081.33 1545.02 2086.04 1539.89 Q2090.78 1534.74 2098.8 1534.74 Q2106 1534.74 2110.16 1539.38 Q2114.37 1544 2114.37 1551.96 M2108.51 1550.24 Q2108.45 1545.43 2105.8 1542.57 Q2103.19 1539.7 2098.87 1539.7 Q2093.96 1539.7 2091 1542.47 Q2088.08 1545.24 2087.63 1550.27 L2108.51 1550.24 Z\" fill=\"#000000\" fill-rule=\"evenodd\" fill-opacity=\"1\" /><path clip-path=\"url(#clip2600)\" d=\"M 0 0 M21.9562 811.585 L21.9562 805.378 L51.875 794.238 L21.9562 783.098 L21.9562 776.891 L57.6042 790.259 L57.6042 798.217 L21.9562 811.585 Z\" fill=\"#000000\" fill-rule=\"evenodd\" fill-opacity=\"1\" /><path clip-path=\"url(#clip2600)\" d=\"M 0 0 M39.6847 754.548 Q39.6847 761.646 41.3079 764.383 Q42.9312 767.12 46.8461 767.12 Q49.9653 767.12 51.8114 765.083 Q53.6256 763.014 53.6256 759.481 Q53.6256 754.611 50.1881 751.683 Q46.7188 748.723 40.9897 748.723 L39.6847 748.723 L39.6847 754.548 M37.2657 742.867 L57.6042 742.867 L57.6042 748.723 L52.1933 748.723 Q55.4398 750.728 56.9994 753.72 Q58.5272 756.712 58.5272 761.041 Q58.5272 766.515 55.4716 769.762 Q52.3843 772.977 47.2281 772.977 Q41.2125 772.977 38.1569 768.966 Q35.1014 764.924 35.1014 756.935 L35.1014 748.723 L34.5285 748.723 Q30.4862 748.723 28.2901 751.397 Q26.0621 754.039 26.0621 758.845 Q26.0621 761.9 26.7941 764.797 Q27.5262 767.693 28.9903 770.367 L23.5795 770.367 Q22.3381 767.152 21.7334 764.128 Q21.0968 761.104 21.0968 758.24 Q21.0968 750.506 25.1072 746.686 Q29.1176 742.867 37.2657 742.867 Z\" fill=\"#000000\" fill-rule=\"evenodd\" fill-opacity=\"1\" /><path clip-path=\"url(#clip2600)\" d=\"M 0 0 M8.07896 736.724 L8.07896 730.867 L57.6042 730.867 L57.6042 736.724 L8.07896 736.724 Z\" fill=\"#000000\" fill-rule=\"evenodd\" fill-opacity=\"1\" /><path clip-path=\"url(#clip2600)\" d=\"M 0 0 M43.5359 725.329 L21.9562 725.329 L21.9562 719.473 L43.3131 719.473 Q48.3739 719.473 50.9202 717.499 Q53.4346 715.526 53.4346 711.579 Q53.4346 706.837 50.4109 704.1 Q47.3872 701.33 42.1673 701.33 L21.9562 701.33 L21.9562 695.474 L57.6042 695.474 L57.6042 701.33 L52.1296 701.33 Q55.3762 703.463 56.9676 706.296 Q58.5272 709.097 58.5272 712.821 Q58.5272 718.964 54.7078 722.146 Q50.8883 725.329 43.5359 725.329 M21.0968 710.593 L21.0968 710.593 Z\" fill=\"#000000\" fill-rule=\"evenodd\" fill-opacity=\"1\" /><path clip-path=\"url(#clip2600)\" d=\"M 0 0 M38.3161 658.839 L41.1806 658.839 L41.1806 685.766 Q47.2281 685.384 50.4109 682.138 Q53.5619 678.86 53.5619 673.035 Q53.5619 669.661 52.7344 666.51 Q51.9069 663.327 50.2518 660.208 L55.7899 660.208 Q57.1267 663.359 57.827 666.669 Q58.5272 669.979 58.5272 673.385 Q58.5272 681.915 53.5619 686.912 Q48.5967 691.877 40.1303 691.877 Q31.3774 691.877 26.2531 687.167 Q21.0968 682.424 21.0968 674.404 Q21.0968 667.21 25.7438 663.041 Q30.3589 658.839 38.3161 658.839 M36.5973 664.696 Q31.7912 664.76 28.9266 667.401 Q26.0621 670.011 26.0621 674.34 Q26.0621 679.241 28.8312 682.202 Q31.6002 685.13 36.6292 685.575 L36.5973 664.696 Z\" fill=\"#000000\" fill-rule=\"evenodd\" fill-opacity=\"1\" /><polyline clip-path=\"url(#clip2602)\" style=\"stroke:#009af9; stroke-width:4; stroke-opacity:1; fill:none\" points=\"\n",
       "  330.313,1059.73 359.459,1310.49 388.605,1310.49 417.752,1310.49 446.898,912.219 476.044,926.97 505.191,1044.97 534.337,1339.99 563.483,1325.24 592.63,1325.24 \n",
       "  621.776,1325.24 650.922,1384.24 680.068,1310.49 709.215,1266.23 738.361,1354.74 767.507,1177.73 796.654,1177.73 825.8,1177.73 854.946,1074.48 884.093,838.466 \n",
       "  913.239,735.212 942.385,646.708 971.532,794.214 1000.68,794.214 1029.82,794.214 1058.97,720.461 1088.12,425.449 1117.26,440.2 1146.41,469.701 1175.56,617.207 \n",
       "  1204.7,617.207 1233.85,617.207 1262.99,307.445 1292.14,307.445 1321.29,307.445 1350.43,513.953 1379.58,440.2 1408.73,440.2 1437.87,440.2 1467.02,528.704 \n",
       "  1496.17,631.958 1525.31,631.958 1554.46,749.963 1583.6,749.963 1612.75,749.963 1641.9,749.963 1671.04,690.96 1700.19,838.466 1729.34,956.471 1758.48,985.972 \n",
       "  1787.63,1148.23 1816.77,1148.23 1845.92,1148.23 1875.07,1207.23 1904.21,1044.97 1933.36,617.207 1962.51,307.445 1991.65,159.939 2020.8,159.939 2049.95,159.939 \n",
       "  2079.09,100.936 2108.24,749.963 2137.38,853.217 2166.53,646.708 2195.68,705.711 2224.82,705.711 2253.97,705.711 2283.12,720.461 2312.26,749.963 2341.41,749.963 \n",
       "  2370.55,808.965 2399.7,808.965 2428.85,808.965 2457.99,808.965 2487.14,882.718 2516.29,1015.47 2545.43,941.72 2574.58,941.72 2603.73,867.967 2632.87,867.967 \n",
       "  2662.02,867.967 2691.16,867.967 2720.31,794.214 2749.46,705.711 2778.6,720.461 2807.75,779.464 2836.9,779.464 2866.04,779.464 2895.19,676.21 2924.33,676.21 \n",
       "  2953.48,676.21 2982.63,676.21 3011.77,676.21 3040.92,676.21 3070.07,676.21 3099.21,676.21 3128.36,676.21 3157.51,676.21 3186.65,676.21 3215.8,676.21 \n",
       "  3244.94,676.21 3274.09,676.21 3303.24,676.21 3332.38,676.21 3361.53,676.21 3390.68,676.21 3419.82,676.21 3448.97,676.21 3478.11,676.21 3507.26,676.21 \n",
       "  3536.41,676.21 3565.55,676.21 3594.7,676.21 3623.85,676.21 3652.99,676.21 3682.14,676.21 3711.29,676.21 3740.43,676.21 3769.58,676.21 \n",
       "  \"/>\n",
       "<polyline clip-path=\"url(#clip2602)\" style=\"stroke:#e26f46; stroke-width:4; stroke-opacity:1; fill:none\" points=\"\n",
       "  330.313,1133.48 359.459,1354.74 388.605,1339.99 417.752,1295.73 446.898,1177.73 476.044,971.222 505.191,1074.48 534.337,1221.98 563.483,1236.73 592.63,1266.23 \n",
       "  621.776,1295.73 650.922,1354.74 680.068,1221.98 709.215,1266.23 738.361,1339.99 767.507,1207.23 796.654,1177.73 825.8,1148.23 854.946,985.972 884.093,912.219 \n",
       "  913.239,764.713 942.385,690.96 971.532,764.713 1000.68,735.212 1029.82,735.212 1058.97,676.21 1088.12,661.459 1117.26,631.958 1146.41,558.205 1175.56,528.704 \n",
       "  1204.7,528.704 1233.85,572.955 1262.99,277.943 1292.14,322.195 1321.29,381.198 1350.43,454.951 1379.58,425.449 1408.73,440.2 1437.87,425.449 1467.02,513.953 \n",
       "  1496.17,602.457 1525.31,631.958 1554.46,676.21 1583.6,764.713 1612.75,779.464 1641.9,779.464 1671.04,823.716 1700.19,794.214 1729.34,971.222 1758.48,912.219 \n",
       "  1787.63,1118.73 1816.77,1133.48 1845.92,1118.73 1875.07,1074.48 1904.21,1030.22 1933.36,779.464 1962.51,484.452 1991.65,425.449 2020.8,322.195 2049.95,263.193 \n",
       "  2079.09,86.1857 2108.24,366.447 2137.38,425.449 2166.53,469.701 2195.68,572.955 2224.82,690.96 2253.97,705.711 2283.12,720.461 2312.26,749.963 2341.41,838.466 \n",
       "  2370.55,867.967 2399.7,897.469 2428.85,897.469 2457.99,882.718 2487.14,912.219 2516.29,971.222 2545.43,971.222 2574.58,1000.72 2603.73,941.72 2632.87,941.72 \n",
       "  2662.02,912.219 2691.16,779.464 2720.31,720.461 2749.46,764.713 2778.6,749.963 2807.75,838.466 2836.9,823.716 2866.04,794.214 2895.19,720.461 2924.33,690.96 \n",
       "  2953.48,676.21 2982.63,661.459 3011.77,661.459 3040.92,661.459 3070.07,646.708 3099.21,646.708 3128.36,661.459 3157.51,661.459 3186.65,661.459 3215.8,676.21 \n",
       "  3244.94,676.21 3274.09,690.96 3303.24,690.96 3332.38,705.711 3361.53,705.711 3390.68,705.711 3419.82,720.461 3448.97,720.461 3478.11,735.212 3507.26,749.963 \n",
       "  3536.41,764.713 3565.55,779.464 3594.7,794.214 3623.85,823.716 3652.99,838.466 3682.14,853.217 3711.29,867.967 3740.43,882.718 3769.58,897.469 \n",
       "  \"/>\n",
       "<polyline clip-path=\"url(#clip2602)\" style=\"stroke:#3da44d; stroke-width:4; stroke-opacity:1; fill:none\" points=\"\n",
       "  2968.05,2799.12 2968.05,-1328.69 \n",
       "  \"/>\n",
       "<path clip-path=\"url(#clip2600)\" d=\"\n",
       "M2957.63 1187.98 L3755.16 1187.98 L3755.16 946.06 L2957.63 946.06  Z\n",
       "  \" fill=\"#ffffff\" fill-rule=\"evenodd\" fill-opacity=\"1\"/>\n",
       "<polyline clip-path=\"url(#clip2600)\" style=\"stroke:#000000; stroke-width:4; stroke-opacity:1; fill:none\" points=\"\n",
       "  2957.63,1187.98 3755.16,1187.98 3755.16,946.06 2957.63,946.06 2957.63,1187.98 \n",
       "  \"/>\n",
       "<polyline clip-path=\"url(#clip2600)\" style=\"stroke:#009af9; stroke-width:4; stroke-opacity:1; fill:none\" points=\"\n",
       "  2996.83,1006.54 3232.03,1006.54 \n",
       "  \"/>\n",
       "<path clip-path=\"url(#clip2600)\" d=\"M 0 0 M3271.23 989.26 L3277.52 989.26 L3292.85 1018.17 L3292.85 989.26 L3297.38 989.26 L3297.38 1023.82 L3291.09 1023.82 L3275.76 994.908 L3275.76 1023.82 L3271.23 1023.82 L3271.23 989.26 Z\" fill=\"#000000\" fill-rule=\"evenodd\" fill-opacity=\"1\" /><path clip-path=\"url(#clip2600)\" d=\"M 0 0 M3310.95 1023.82 L3297.75 989.26 L3302.64 989.26 L3313.59 1018.36 L3324.56 989.26 L3329.42 989.26 L3316.25 1023.82 L3310.95 1023.82 Z\" fill=\"#000000\" fill-rule=\"evenodd\" fill-opacity=\"1\" /><path clip-path=\"url(#clip2600)\" d=\"M 0 0 M3338.75 993.102 L3338.75 1019.98 L3344.4 1019.98 Q3351.55 1019.98 3354.86 1016.74 Q3358.19 1013.5 3358.19 1006.51 Q3358.19 999.561 3354.86 996.343 Q3351.55 993.102 3344.4 993.102 L3338.75 993.102 M3334.07 989.26 L3343.68 989.26 Q3353.73 989.26 3358.42 993.45 Q3363.12 997.616 3363.12 1006.51 Q3363.12 1015.44 3358.4 1019.63 Q3353.68 1023.82 3343.68 1023.82 L3334.07 1023.82 L3334.07 989.26 Z\" fill=\"#000000\" fill-rule=\"evenodd\" fill-opacity=\"1\" /><path clip-path=\"url(#clip2600)\" d=\"M 0 0 M3378.49 993.866 L3372.15 1011.07 L3384.86 1011.07 L3378.49 993.866 M3375.85 989.26 L3381.16 989.26 L3394.33 1023.82 L3389.47 1023.82 L3386.32 1014.95 L3370.74 1014.95 L3367.59 1023.82 L3362.66 1023.82 L3375.85 989.26 Z\" fill=\"#000000\" fill-rule=\"evenodd\" fill-opacity=\"1\" /><polyline clip-path=\"url(#clip2600)\" style=\"stroke:#e26f46; stroke-width:4; stroke-opacity:1; fill:none\" points=\"\n",
       "  2996.83,1067.02 3232.03,1067.02 \n",
       "  \"/>\n",
       "<path clip-path=\"url(#clip2600)\" d=\"M 0 0 M3275.51 1080.41 L3275.51 1094.16 L3271.23 1094.16 L3271.23 1058.37 L3275.51 1058.37 L3275.51 1062.31 Q3276.85 1059.99 3278.89 1058.88 Q3280.95 1057.75 3283.8 1057.75 Q3288.52 1057.75 3291.46 1061.5 Q3294.42 1065.25 3294.42 1071.36 Q3294.42 1077.47 3291.46 1081.22 Q3288.52 1084.97 3283.8 1084.97 Q3280.95 1084.97 3278.89 1083.86 Q3276.85 1082.73 3275.51 1080.41 M3290 1071.36 Q3290 1066.66 3288.05 1064 Q3286.13 1061.31 3282.75 1061.31 Q3279.37 1061.31 3277.43 1064 Q3275.51 1066.66 3275.51 1071.36 Q3275.51 1076.06 3277.43 1078.74 Q3279.37 1081.41 3282.75 1081.41 Q3286.13 1081.41 3288.05 1078.74 Q3290 1076.06 3290 1071.36 Z\" fill=\"#000000\" fill-rule=\"evenodd\" fill-opacity=\"1\" /><path clip-path=\"url(#clip2600)\" d=\"M 0 0 M3313.91 1062.36 Q3313.19 1061.94 3312.34 1061.75 Q3311.5 1061.55 3310.48 1061.55 Q3306.87 1061.55 3304.93 1063.91 Q3303.01 1066.24 3303.01 1070.64 L3303.01 1084.3 L3298.73 1084.3 L3298.73 1058.37 L3303.01 1058.37 L3303.01 1062.4 Q3304.35 1060.04 3306.5 1058.91 Q3308.66 1057.75 3311.73 1057.75 Q3312.17 1057.75 3312.71 1057.82 Q3313.24 1057.86 3313.89 1057.98 L3313.91 1062.36 Z\" fill=\"#000000\" fill-rule=\"evenodd\" fill-opacity=\"1\" /><path clip-path=\"url(#clip2600)\" d=\"M 0 0 M3339.51 1070.27 L3339.51 1072.36 L3319.93 1072.36 Q3320.21 1076.75 3322.57 1079.07 Q3324.95 1081.36 3329.19 1081.36 Q3331.64 1081.36 3333.93 1080.76 Q3336.25 1080.16 3338.52 1078.95 L3338.52 1082.98 Q3336.23 1083.95 3333.82 1084.46 Q3331.41 1084.97 3328.93 1084.97 Q3322.73 1084.97 3319.1 1081.36 Q3315.48 1077.75 3315.48 1071.59 Q3315.48 1065.23 3318.91 1061.5 Q3322.36 1057.75 3328.19 1057.75 Q3333.42 1057.75 3336.46 1061.13 Q3339.51 1064.49 3339.51 1070.27 M3335.25 1069.02 Q3335.21 1065.53 3333.29 1063.44 Q3331.39 1061.36 3328.24 1061.36 Q3324.67 1061.36 3322.52 1063.37 Q3320.39 1065.39 3320.07 1069.05 L3335.25 1069.02 Z\" fill=\"#000000\" fill-rule=\"evenodd\" fill-opacity=\"1\" /><path clip-path=\"url(#clip2600)\" d=\"M 0 0 M3361.04 1062.31 L3361.04 1048.28 L3365.3 1048.28 L3365.3 1084.3 L3361.04 1084.3 L3361.04 1080.41 Q3359.7 1082.73 3357.64 1083.86 Q3355.6 1084.97 3352.73 1084.97 Q3348.03 1084.97 3345.07 1081.22 Q3342.13 1077.47 3342.13 1071.36 Q3342.13 1065.25 3345.07 1061.5 Q3348.03 1057.75 3352.73 1057.75 Q3355.6 1057.75 3357.64 1058.88 Q3359.7 1059.99 3361.04 1062.31 M3346.53 1071.36 Q3346.53 1076.06 3348.45 1078.74 Q3350.39 1081.41 3353.77 1081.41 Q3357.15 1081.41 3359.1 1078.74 Q3361.04 1076.06 3361.04 1071.36 Q3361.04 1066.66 3359.1 1064 Q3357.15 1061.31 3353.77 1061.31 Q3350.39 1061.31 3348.45 1064 Q3346.53 1066.66 3346.53 1071.36 Z\" fill=\"#000000\" fill-rule=\"evenodd\" fill-opacity=\"1\" /><path clip-path=\"url(#clip2600)\" d=\"M 0 0 M3369.77 1058.37 L3374.03 1058.37 L3374.03 1084.3 L3369.77 1084.3 L3369.77 1058.37 M3369.77 1048.28 L3374.03 1048.28 L3374.03 1053.68 L3369.77 1053.68 L3369.77 1048.28 Z\" fill=\"#000000\" fill-rule=\"evenodd\" fill-opacity=\"1\" /><path clip-path=\"url(#clip2600)\" d=\"M 0 0 M3382.71 1051.01 L3382.71 1058.37 L3391.48 1058.37 L3391.48 1061.68 L3382.71 1061.68 L3382.71 1075.76 Q3382.71 1078.93 3383.56 1079.83 Q3384.44 1080.74 3387.1 1080.74 L3391.48 1080.74 L3391.48 1084.3 L3387.1 1084.3 Q3382.17 1084.3 3380.3 1082.47 Q3378.42 1080.62 3378.42 1075.76 L3378.42 1061.68 L3375.3 1061.68 L3375.3 1058.37 L3378.42 1058.37 L3378.42 1051.01 L3382.71 1051.01 Z\" fill=\"#000000\" fill-rule=\"evenodd\" fill-opacity=\"1\" /><path clip-path=\"url(#clip2600)\" d=\"M 0 0 M3395.95 1058.37 L3400.21 1058.37 L3400.21 1084.3 L3395.95 1084.3 L3395.95 1058.37 M3395.95 1048.28 L3400.21 1048.28 L3400.21 1053.68 L3395.95 1053.68 L3395.95 1048.28 Z\" fill=\"#000000\" fill-rule=\"evenodd\" fill-opacity=\"1\" /><path clip-path=\"url(#clip2600)\" d=\"M 0 0 M3414.72 1061.36 Q3411.29 1061.36 3409.3 1064.05 Q3407.31 1066.71 3407.31 1071.36 Q3407.31 1076.01 3409.28 1078.7 Q3411.27 1081.36 3414.72 1081.36 Q3418.12 1081.36 3420.11 1078.67 Q3422.1 1075.99 3422.1 1071.36 Q3422.1 1066.75 3420.11 1064.07 Q3418.12 1061.36 3414.72 1061.36 M3414.72 1057.75 Q3420.28 1057.75 3423.45 1061.36 Q3426.62 1064.97 3426.62 1071.36 Q3426.62 1077.73 3423.45 1081.36 Q3420.28 1084.97 3414.72 1084.97 Q3409.14 1084.97 3405.97 1081.36 Q3402.82 1077.73 3402.82 1071.36 Q3402.82 1064.97 3405.97 1061.36 Q3409.14 1057.75 3414.72 1057.75 Z\" fill=\"#000000\" fill-rule=\"evenodd\" fill-opacity=\"1\" /><path clip-path=\"url(#clip2600)\" d=\"M 0 0 M3452.64 1068.65 L3452.64 1084.3 L3448.38 1084.3 L3448.38 1068.79 Q3448.38 1065.11 3446.94 1063.28 Q3445.51 1061.45 3442.64 1061.45 Q3439.19 1061.45 3437.2 1063.65 Q3435.21 1065.85 3435.21 1069.65 L3435.21 1084.3 L3430.92 1084.3 L3430.92 1058.37 L3435.21 1058.37 L3435.21 1062.4 Q3436.73 1060.06 3438.79 1058.91 Q3440.88 1057.75 3443.59 1057.75 Q3448.05 1057.75 3450.35 1060.53 Q3452.64 1063.28 3452.64 1068.65 Z\" fill=\"#000000\" fill-rule=\"evenodd\" fill-opacity=\"1\" /><path clip-path=\"url(#clip2600)\" d=\"M 0 0 M3473.63 1059.14 L3473.63 1063.17 Q3471.83 1062.24 3469.88 1061.78 Q3467.94 1061.31 3465.85 1061.31 Q3462.68 1061.31 3461.09 1062.29 Q3459.51 1063.26 3459.51 1065.2 Q3459.51 1066.68 3460.65 1067.54 Q3461.78 1068.37 3465.21 1069.14 L3466.66 1069.46 Q3471.2 1070.43 3473.1 1072.22 Q3475.02 1073.98 3475.02 1077.15 Q3475.02 1080.76 3472.15 1082.86 Q3469.3 1084.97 3464.3 1084.97 Q3462.22 1084.97 3459.95 1084.55 Q3457.71 1084.16 3455.21 1083.35 L3455.21 1078.95 Q3457.57 1080.18 3459.86 1080.8 Q3462.15 1081.41 3464.4 1081.41 Q3467.41 1081.41 3469.03 1080.39 Q3470.65 1079.35 3470.65 1077.47 Q3470.65 1075.74 3469.47 1074.81 Q3468.31 1073.88 3464.35 1073.03 L3462.87 1072.68 Q3458.91 1071.85 3457.15 1070.13 Q3455.39 1068.4 3455.39 1065.39 Q3455.39 1061.73 3457.98 1059.74 Q3460.58 1057.75 3465.35 1057.75 Q3467.71 1057.75 3469.79 1058.1 Q3471.87 1058.44 3473.63 1059.14 Z\" fill=\"#000000\" fill-rule=\"evenodd\" fill-opacity=\"1\" /><polyline clip-path=\"url(#clip2600)\" style=\"stroke:#3da44d; stroke-width:4; stroke-opacity:1; fill:none\" points=\"\n",
       "  2996.83,1127.5 3232.03,1127.5 \n",
       "  \"/>\n",
       "<path clip-path=\"url(#clip2600)\" d=\"M 0 0 M3271.23 1110.22 L3300.46 1110.22 L3300.46 1114.16 L3288.19 1114.16 L3288.19 1144.78 L3283.49 1144.78 L3283.49 1114.16 L3271.23 1114.16 L3271.23 1110.22 Z\" fill=\"#000000\" fill-rule=\"evenodd\" fill-opacity=\"1\" /><path clip-path=\"url(#clip2600)\" d=\"M 0 0 M3306.92 1121.84 Q3303.49 1121.84 3301.5 1124.53 Q3299.51 1127.19 3299.51 1131.84 Q3299.51 1136.49 3301.48 1139.18 Q3303.47 1141.84 3306.92 1141.84 Q3310.32 1141.84 3312.31 1139.15 Q3314.3 1136.47 3314.3 1131.84 Q3314.3 1127.23 3312.31 1124.55 Q3310.32 1121.84 3306.92 1121.84 M3306.92 1118.23 Q3312.48 1118.23 3315.65 1121.84 Q3318.82 1125.45 3318.82 1131.84 Q3318.82 1138.21 3315.65 1141.84 Q3312.48 1145.45 3306.92 1145.45 Q3301.34 1145.45 3298.17 1141.84 Q3295.02 1138.21 3295.02 1131.84 Q3295.02 1125.45 3298.17 1121.84 Q3301.34 1118.23 3306.92 1118.23 Z\" fill=\"#000000\" fill-rule=\"evenodd\" fill-opacity=\"1\" /><path clip-path=\"url(#clip2600)\" d=\"M 0 0 M3340.35 1122.79 L3340.35 1108.76 L3344.6 1108.76 L3344.6 1144.78 L3340.35 1144.78 L3340.35 1140.89 Q3339 1143.21 3336.94 1144.34 Q3334.91 1145.45 3332.04 1145.45 Q3327.34 1145.45 3324.37 1141.7 Q3321.43 1137.95 3321.43 1131.84 Q3321.43 1125.73 3324.37 1121.98 Q3327.34 1118.23 3332.04 1118.23 Q3334.91 1118.23 3336.94 1119.36 Q3339 1120.47 3340.35 1122.79 M3325.83 1131.84 Q3325.83 1136.54 3327.75 1139.22 Q3329.7 1141.89 3333.08 1141.89 Q3336.46 1141.89 3338.4 1139.22 Q3340.35 1136.54 3340.35 1131.84 Q3340.35 1127.14 3338.4 1124.48 Q3336.46 1121.79 3333.08 1121.79 Q3329.7 1121.79 3327.75 1124.48 Q3325.83 1127.14 3325.83 1131.84 Z\" fill=\"#000000\" fill-rule=\"evenodd\" fill-opacity=\"1\" /><path clip-path=\"url(#clip2600)\" d=\"M 0 0 M3360.85 1131.75 Q3355.69 1131.75 3353.7 1132.93 Q3351.71 1134.11 3351.71 1136.96 Q3351.71 1139.22 3353.19 1140.57 Q3354.7 1141.89 3357.27 1141.89 Q3360.81 1141.89 3362.94 1139.39 Q3365.09 1136.86 3365.09 1132.7 L3365.09 1131.75 L3360.85 1131.75 M3369.35 1129.99 L3369.35 1144.78 L3365.09 1144.78 L3365.09 1140.84 Q3363.63 1143.21 3361.46 1144.34 Q3359.28 1145.45 3356.13 1145.45 Q3352.15 1145.45 3349.79 1143.23 Q3347.45 1140.98 3347.45 1137.23 Q3347.45 1132.86 3350.37 1130.64 Q3353.31 1128.41 3359.12 1128.41 L3365.09 1128.41 L3365.09 1128 Q3365.09 1125.06 3363.15 1123.46 Q3361.23 1121.84 3357.73 1121.84 Q3355.51 1121.84 3353.4 1122.37 Q3351.29 1122.9 3349.35 1123.97 L3349.35 1120.03 Q3351.69 1119.13 3353.89 1118.69 Q3356.09 1118.23 3358.17 1118.23 Q3363.79 1118.23 3366.57 1121.15 Q3369.35 1124.06 3369.35 1129.99 Z\" fill=\"#000000\" fill-rule=\"evenodd\" fill-opacity=\"1\" /><path clip-path=\"url(#clip2600)\" d=\"M 0 0 M3384.6 1147.19 Q3382.8 1151.82 3381.09 1153.23 Q3379.37 1154.64 3376.5 1154.64 L3373.1 1154.64 L3373.1 1151.08 L3375.6 1151.08 Q3377.36 1151.08 3378.33 1150.24 Q3379.3 1149.41 3380.48 1146.31 L3381.25 1144.36 L3370.76 1118.85 L3375.28 1118.85 L3383.38 1139.13 L3391.48 1118.85 L3395.99 1118.85 L3384.6 1147.19 Z\" fill=\"#000000\" fill-rule=\"evenodd\" fill-opacity=\"1\" /><path clip-path=\"url(#clip2600)\" d=\"M 0 0 M3420.39 1114.06 L3420.39 1140.94 L3426.04 1140.94 Q3433.19 1140.94 3436.5 1137.7 Q3439.84 1134.46 3439.84 1127.47 Q3439.84 1120.52 3436.5 1117.3 Q3433.19 1114.06 3426.04 1114.06 L3420.39 1114.06 M3415.72 1110.22 L3425.32 1110.22 Q3435.37 1110.22 3440.07 1114.41 Q3444.77 1118.58 3444.77 1127.47 Q3444.77 1136.4 3440.04 1140.59 Q3435.32 1144.78 3425.32 1144.78 L3415.72 1144.78 L3415.72 1110.22 Z\" fill=\"#000000\" fill-rule=\"evenodd\" fill-opacity=\"1\" /><path clip-path=\"url(#clip2600)\" d=\"M 0 0 M3471.41 1130.75 L3471.41 1132.84 L3451.83 1132.84 Q3452.1 1137.23 3454.47 1139.55 Q3456.85 1141.84 3461.09 1141.84 Q3463.54 1141.84 3465.83 1141.24 Q3468.15 1140.64 3470.41 1139.43 L3470.41 1143.46 Q3468.12 1144.43 3465.72 1144.94 Q3463.31 1145.45 3460.83 1145.45 Q3454.63 1145.45 3450.99 1141.84 Q3447.38 1138.23 3447.38 1132.07 Q3447.38 1125.71 3450.81 1121.98 Q3454.26 1118.23 3460.09 1118.23 Q3465.32 1118.23 3468.35 1121.61 Q3471.41 1124.97 3471.41 1130.75 M3467.15 1129.5 Q3467.1 1126.01 3465.18 1123.92 Q3463.28 1121.84 3460.14 1121.84 Q3456.57 1121.84 3454.42 1123.85 Q3452.29 1125.87 3451.97 1129.53 L3467.15 1129.5 Z\" fill=\"#000000\" fill-rule=\"evenodd\" fill-opacity=\"1\" /><path clip-path=\"url(#clip2600)\" d=\"M 0 0 M3494.53 1119.85 L3494.53 1123.83 Q3492.73 1122.84 3490.9 1122.35 Q3489.09 1121.84 3487.24 1121.84 Q3483.1 1121.84 3480.81 1124.48 Q3478.52 1127.09 3478.52 1131.84 Q3478.52 1136.59 3480.81 1139.22 Q3483.1 1141.84 3487.24 1141.84 Q3489.09 1141.84 3490.9 1141.35 Q3492.73 1140.84 3494.53 1139.85 L3494.53 1143.78 Q3492.75 1144.62 3490.83 1145.03 Q3488.93 1145.45 3486.78 1145.45 Q3480.92 1145.45 3477.47 1141.77 Q3474.03 1138.09 3474.03 1131.84 Q3474.03 1125.5 3477.5 1121.86 Q3480.99 1118.23 3487.06 1118.23 Q3489.03 1118.23 3490.9 1118.65 Q3492.78 1119.04 3494.53 1119.85 Z\" fill=\"#000000\" fill-rule=\"evenodd\" fill-opacity=\"1\" /><path clip-path=\"url(#clip2600)\" d=\"M 0 0 M3499.6 1138.9 L3504.49 1138.9 L3504.49 1144.78 L3499.6 1144.78 L3499.6 1138.9 Z\" fill=\"#000000\" fill-rule=\"evenodd\" fill-opacity=\"1\" /><path clip-path=\"url(#clip2600)\" d=\"M 0 0 M3524.77 1144.06 L3524.77 1139.8 Q3526.53 1140.64 3528.33 1141.08 Q3530.14 1141.52 3531.87 1141.52 Q3536.5 1141.52 3538.93 1138.41 Q3541.39 1135.29 3541.73 1128.95 Q3540.39 1130.94 3538.33 1132 Q3536.27 1133.07 3533.77 1133.07 Q3528.59 1133.07 3525.55 1129.94 Q3522.54 1126.79 3522.54 1121.35 Q3522.54 1116.03 3525.69 1112.81 Q3528.84 1109.59 3534.07 1109.59 Q3540.07 1109.59 3543.21 1114.2 Q3546.39 1118.78 3546.39 1127.53 Q3546.39 1135.71 3542.5 1140.59 Q3538.63 1145.45 3532.08 1145.45 Q3530.32 1145.45 3528.52 1145.1 Q3526.71 1144.76 3524.77 1144.06 M3534.07 1129.41 Q3537.22 1129.41 3539.05 1127.26 Q3540.9 1125.1 3540.9 1121.35 Q3540.9 1117.63 3539.05 1115.47 Q3537.22 1113.3 3534.07 1113.3 Q3530.92 1113.3 3529.07 1115.47 Q3527.24 1117.63 3527.24 1121.35 Q3527.24 1125.1 3529.07 1127.26 Q3530.92 1129.41 3534.07 1129.41 Z\" fill=\"#000000\" fill-rule=\"evenodd\" fill-opacity=\"1\" /><path clip-path=\"url(#clip2600)\" d=\"M 0 0 M3551.94 1138.9 L3556.83 1138.9 L3556.83 1142.88 L3553.03 1150.29 L3550.04 1150.29 L3551.94 1142.88 L3551.94 1138.9 Z\" fill=\"#000000\" fill-rule=\"evenodd\" fill-opacity=\"1\" /><path clip-path=\"url(#clip2600)\" d=\"M 0 0 M3580.99 1140.84 L3597.31 1140.84 L3597.31 1144.78 L3575.37 1144.78 L3575.37 1140.84 Q3578.03 1138.09 3582.61 1133.46 Q3587.22 1128.81 3588.4 1127.47 Q3590.65 1124.94 3591.52 1123.21 Q3592.43 1121.45 3592.43 1119.76 Q3592.43 1117 3590.48 1115.27 Q3588.56 1113.53 3585.46 1113.53 Q3583.26 1113.53 3580.81 1114.29 Q3578.38 1115.06 3575.6 1116.61 L3575.6 1111.89 Q3578.42 1110.75 3580.88 1110.17 Q3583.33 1109.59 3585.37 1109.59 Q3590.74 1109.59 3593.93 1112.28 Q3597.13 1114.97 3597.13 1119.46 Q3597.13 1121.59 3596.32 1123.51 Q3595.53 1125.4 3593.42 1128 Q3592.84 1128.67 3589.74 1131.89 Q3586.64 1135.08 3580.99 1140.84 Z\" fill=\"#000000\" fill-rule=\"evenodd\" fill-opacity=\"1\" /><path clip-path=\"url(#clip2600)\" d=\"M 0 0 M3612.38 1113.3 Q3608.77 1113.3 3606.94 1116.86 Q3605.14 1120.4 3605.14 1127.53 Q3605.14 1134.64 3606.94 1138.21 Q3608.77 1141.75 3612.38 1141.75 Q3616.02 1141.75 3617.82 1138.21 Q3619.65 1134.64 3619.65 1127.53 Q3619.65 1120.4 3617.82 1116.86 Q3616.02 1113.3 3612.38 1113.3 M3612.38 1109.59 Q3618.19 1109.59 3621.25 1114.2 Q3624.33 1118.78 3624.33 1127.53 Q3624.33 1136.26 3621.25 1140.87 Q3618.19 1145.45 3612.38 1145.45 Q3606.57 1145.45 3603.49 1140.87 Q3600.44 1136.26 3600.44 1127.53 Q3600.44 1118.78 3603.49 1114.2 Q3606.57 1109.59 3612.38 1109.59 Z\" fill=\"#000000\" fill-rule=\"evenodd\" fill-opacity=\"1\" /><path clip-path=\"url(#clip2600)\" d=\"M 0 0 M3633.42 1140.84 L3649.74 1140.84 L3649.74 1144.78 L3627.8 1144.78 L3627.8 1140.84 Q3630.46 1138.09 3635.04 1133.46 Q3639.65 1128.81 3640.83 1127.47 Q3643.08 1124.94 3643.96 1123.21 Q3644.86 1121.45 3644.86 1119.76 Q3644.86 1117 3642.91 1115.27 Q3640.99 1113.53 3637.89 1113.53 Q3635.69 1113.53 3633.24 1114.29 Q3630.81 1115.06 3628.03 1116.61 L3628.03 1111.89 Q3630.85 1110.75 3633.31 1110.17 Q3635.76 1109.59 3637.8 1109.59 Q3643.17 1109.59 3646.36 1112.28 Q3649.56 1114.97 3649.56 1119.46 Q3649.56 1121.59 3648.75 1123.51 Q3647.96 1125.4 3645.85 1128 Q3645.27 1128.67 3642.17 1131.89 Q3639.07 1135.08 3633.42 1140.84 Z\" fill=\"#000000\" fill-rule=\"evenodd\" fill-opacity=\"1\" /><path clip-path=\"url(#clip2600)\" d=\"M 0 0 M3664.81 1113.3 Q3661.2 1113.3 3659.37 1116.86 Q3657.57 1120.4 3657.57 1127.53 Q3657.57 1134.64 3659.37 1138.21 Q3661.2 1141.75 3664.81 1141.75 Q3668.45 1141.75 3670.25 1138.21 Q3672.08 1134.64 3672.08 1127.53 Q3672.08 1120.4 3670.25 1116.86 Q3668.45 1113.3 3664.81 1113.3 M3664.81 1109.59 Q3670.62 1109.59 3673.68 1114.2 Q3676.76 1118.78 3676.76 1127.53 Q3676.76 1136.26 3673.68 1140.87 Q3670.62 1145.45 3664.81 1145.45 Q3659 1145.45 3655.92 1140.87 Q3652.87 1136.26 3652.87 1127.53 Q3652.87 1118.78 3655.92 1114.2 Q3659 1109.59 3664.81 1109.59 Z\" fill=\"#000000\" fill-rule=\"evenodd\" fill-opacity=\"1\" /></svg>\n"
      ]
     },
     "execution_count": 12,
     "metadata": {},
     "output_type": "execute_result"
    }
   ],
   "source": [
    "using Plots\n",
    "\n",
    "#dates = format_dates( df[rows,2] , \"m/d/yy\")\n",
    "\n",
    "gr()\n",
    "plot(    x_axis_dates,\n",
    "        [  y_axis_original y_axis_predicted \n",
    "        ], # y-axis\n",
    "    label    = \n",
    "        [ symbol_to_predict \"preditions\"  \"\" ],\n",
    "    legend   =:bottomright, \n",
    "              # :right, :left, :top, :bottom, :inside, :best, :legend, :topright, :topleft, :bottomleft, :bottomright\n",
    "    xlabel   = \"time\",\n",
    "    ylabel   = \"value\",\n",
    "    size     = (980, 400), # width, height\n",
    "    layout = (1, 1), # number of graphs: vertically, horizontally\n",
    "    )\n",
    "## Add veritical today line\n",
    "plot!([today_id], seriestype=\"vline\", label=[ \"Today \"*t \"\" ],)\n"
   ]
  },
  {
   "cell_type": "code",
   "execution_count": 13,
   "metadata": {
    "ExecuteTime": {
     "end_time": "2020-12-09T08:02:20.117000-05:00",
     "start_time": "2020-12-09T13:01:18.267Z"
    }
   },
   "outputs": [],
   "source": [
    "savefig(\"../../predictions_\" * symbol_to_predict * \".png\")"
   ]
  },
  {
   "cell_type": "code",
   "execution_count": 14,
   "metadata": {
    "ExecuteTime": {
     "end_time": "2020-12-09T08:02:20.639000-05:00",
     "start_time": "2020-12-09T13:01:18.273Z"
    }
   },
   "outputs": [
    {
     "name": "stdout",
     "output_type": "stream",
     "text": [
      "NVDA 2020-12-09\n",
      "Wed, 2020-12-02\t predicted 543.0\t, but actual value was \t547.0\t difference is 4.0\n",
      "Thu, 2020-12-03\t predicted 544.0\t, but actual value was \t546.0\t difference is 2.0\n",
      "Fri, 2020-12-04\t predicted 538.0\t, but actual value was \t542.0\t difference is 4.0\n",
      "Sat, 2020-12-05\t predicted 539.0\t, but actual value was \t542.0\t difference is 3.0\n",
      "Sun, 2020-12-06\t predicted 541.0\t, but actual value was \t542.0\t difference is 1.0\n",
      "Mon, 2020-12-07\t predicted 546.0\t, but actual value was \t549.0\t difference is 3.0\n",
      "Tue, 2020-12-08\t predicted 548.0\t, but actual value was \t549.0\t difference is 1.0\n",
      "Wed, 2020-12-09\t predicted 549.0\n",
      "Thu, 2020-12-10\t predicted 550.0\n",
      "Fri, 2020-12-11\t predicted 550.0\n"
     ]
    }
   ],
   "source": [
    "## print prediction comparisons\n",
    "println(symbol_to_predict, \" \", today())\n",
    "\n",
    "file_path = \"../DATA/\" * symbol_to_predict * \"_pedictions.csv\"\n",
    "open( file_path, \"a\") do file_handle # append\n",
    "    \n",
    "    for id in finem-35:finem\n",
    "        if id < today_id + 3\n",
    "            row = get(data_predictions, id) # get a dictionary of data from the SFrame\n",
    "            date_string = row[\"Date\"] # e.g. \"2020-10-20\"\n",
    "\n",
    "            a = y_axis_predicted[id]\n",
    "            b = y_axis_original[id]\n",
    "            d = round(b-a, digits=3)\n",
    "            date = convert(String, Dates.format( Date(date_string), \"e, yyyy-mm-dd\" ) )\n",
    "            if id < today_id\n",
    "                println( date, \"\\t predicted \", a , \"\\t, but actual value was \\t\", b , \"\\t difference is \",  d  ) # di\n",
    "            else\n",
    "                println( date, \"\\t predicted \", a  ) # \n",
    "\n",
    "                txt_to_save =  \n",
    "                    convert(String, Dates.format( today(), \"yyyy-mm-dd\" ) ) *\",\"* \n",
    "                    convert(String, symbol_to_predict) *\",\"* \n",
    "                    date_string *\",\"* \n",
    "                    string(a) * \"\\n\"\n",
    "                \n",
    "                write(file_handle, txt_to_save )\n",
    "                \n",
    "            end # if\n",
    "        end #if \n",
    "    end # for\n",
    "end # open file"
   ]
  },
  {
   "cell_type": "code",
   "execution_count": null,
   "metadata": {},
   "outputs": [],
   "source": []
  },
  {
   "cell_type": "code",
   "execution_count": null,
   "metadata": {},
   "outputs": [],
   "source": []
  }
 ],
 "metadata": {
  "kernelspec": {
   "display_name": "Julia 1.5.1",
   "language": "julia",
   "name": "julia-1.5"
  },
  "language_info": {
   "file_extension": ".jl",
   "mimetype": "application/julia",
   "name": "julia",
   "version": "1.5.1"
  },
  "toc": {
   "base_numbering": 1,
   "nav_menu": {},
   "number_sections": true,
   "sideBar": true,
   "skip_h1_title": true,
   "title_cell": "Table of Contents",
   "title_sidebar": "Contents",
   "toc_cell": true,
   "toc_position": {},
   "toc_section_display": true,
   "toc_window_display": true
  },
  "varInspector": {
   "cols": {
    "lenName": 16,
    "lenType": 16,
    "lenVar": 40
   },
   "kernels_config": {
    "python": {
     "delete_cmd_postfix": "",
     "delete_cmd_prefix": "del ",
     "library": "var_list.py",
     "varRefreshCmd": "print(var_dic_list())"
    },
    "r": {
     "delete_cmd_postfix": ") ",
     "delete_cmd_prefix": "rm(",
     "library": "var_list.r",
     "varRefreshCmd": "cat(var_dic_list()) "
    }
   },
   "types_to_exclude": [
    "module",
    "function",
    "builtin_function_or_method",
    "instance",
    "_Feature"
   ],
   "window_display": false
  }
 },
 "nbformat": 4,
 "nbformat_minor": 4
}
