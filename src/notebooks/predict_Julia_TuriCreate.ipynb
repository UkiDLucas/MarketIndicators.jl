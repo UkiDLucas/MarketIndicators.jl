{
 "cells": [
  {
   "cell_type": "markdown",
   "metadata": {},
   "source": [
    "# Prediction Model using TuriCreate in Julia"
   ]
  },
  {
   "cell_type": "markdown",
   "metadata": {
    "toc": true
   },
   "source": [
    "<h1>Table of Contents<span class=\"tocSkip\"></span></h1>\n",
    "<div class=\"toc\"><ul class=\"toc-item\"><li><span><a href=\"#Set-Up\" data-toc-modified-id=\"Set-Up-1\"><span class=\"toc-item-num\">1&nbsp;&nbsp;</span>Set Up</a></span></li><li><span><a href=\"#Fetch-Data-(SFrame)-from-Uber-CSV\" data-toc-modified-id=\"Fetch-Data-(SFrame)-from-Uber-CSV-2\"><span class=\"toc-item-num\">2&nbsp;&nbsp;</span>Fetch Data (SFrame) from Uber CSV</a></span></li><li><span><a href=\"#Split-Data\" data-toc-modified-id=\"Split-Data-3\"><span class=\"toc-item-num\">3&nbsp;&nbsp;</span>Split Data</a></span></li><li><span><a href=\"#Evaluate-the-Model\" data-toc-modified-id=\"Evaluate-the-Model-4\"><span class=\"toc-item-num\">4&nbsp;&nbsp;</span>Evaluate the Model</a></span></li><li><span><a href=\"#Save-/-Export-the-Model\" data-toc-modified-id=\"Save-/-Export-the-Model-5\"><span class=\"toc-item-num\">5&nbsp;&nbsp;</span>Save / Export the Model</a></span></li><li><span><a href=\"#Make-predictions\" data-toc-modified-id=\"Make-predictions-6\"><span class=\"toc-item-num\">6&nbsp;&nbsp;</span>Make predictions</a></span><ul class=\"toc-item\"><li><span><a href=\"#Explore-SFrame\" data-toc-modified-id=\"Explore-SFrame-6.1\"><span class=\"toc-item-num\">6.1&nbsp;&nbsp;</span>Explore SFrame</a></span></li></ul></li></ul></div>"
   ]
  },
  {
   "cell_type": "markdown",
   "metadata": {},
   "source": [
    "## Set Up"
   ]
  },
  {
   "cell_type": "code",
   "execution_count": 1,
   "metadata": {
    "ExecuteTime": {
     "end_time": "2020-12-11T21:05:36.260000-05:00",
     "start_time": "2020-12-12T02:05:35.367Z"
    }
   },
   "outputs": [
    {
     "name": "stdout",
     "output_type": "stream",
     "text": [
      "\n"
     ]
    }
   ],
   "source": [
    "symbol_to_predict = \"DJIA\"\n",
    "symbol_to_predict = \"AAPL\"\n",
    "symbol_to_predict = \"VIX\"\n",
    "symbol_to_predict = \"NVDA\"\n",
    "\n",
    "features_to_analyze = \n",
    "[\n",
    "  \n",
    "\"GSPC_Avg005\"\n",
    ",\"GSPC_Avg010\"\n",
    ",\"GSPC_Avg030\"\n",
    ",\"GSPC_Avg060\"\n",
    ",\"GSPC_Avg090\"\n",
    ",\"GSPC_Avg120\"\n",
    ",\"GSPC_Avg180\"\n",
    "  \n",
    ",\"BTC_USD_Avg005\"\n",
    ",\"BTC_USD_Avg010\"\n",
    ",\"BTC_USD_Avg030\"\n",
    ",\"BTC_USD_Avg060\"\n",
    ",\"BTC_USD_Avg090\"\n",
    ",\"BTC_USD_Avg120\"\n",
    ",\"BTC_USD_Avg180\"\n",
    "  \n",
    ",\"DALLAS_FED_MFC_Avg005\"\n",
    ",\"DALLAS_FED_MFC_Avg010\"\n",
    ",\"DALLAS_FED_MFC_Avg030\"\n",
    ",\"DALLAS_FED_MFC_Avg060\"\n",
    ",\"DALLAS_FED_MFC_Avg090\"\n",
    ",\"DALLAS_FED_MFC_Avg120\"\n",
    ",\"DALLAS_FED_MFC_Avg180\"\n",
    "  \n",
    ",\"GOLD_Avg005\"\n",
    ",\"GOLD_Avg010\"\n",
    ",\"GOLD_Avg030\"\n",
    ",\"GOLD_Avg060\"\n",
    ",\"GOLD_Avg090\"\n",
    ",\"GOLD_Avg120\"\n",
    ",\"GOLD_Avg180\"\n",
    "  \n",
    ",\"GELYF_Avg005\"\n",
    ",\"GELYF_Avg010\"\n",
    ",\"GELYF_Avg030\"\n",
    ",\"GELYF_Avg060\"\n",
    ",\"GELYF_Avg090\"\n",
    ",\"GELYF_Avg120\"\n",
    ",\"GELYF_Avg180\"\n",
    "  \n",
    ",\"US_PEND_HOME_SALE_M_Avg005\"\n",
    ",\"US_PEND_HOME_SALE_M_Avg010\"\n",
    ",\"US_PEND_HOME_SALE_M_Avg030\"\n",
    ",\"US_PEND_HOME_SALE_M_Avg060\"\n",
    ",\"US_PEND_HOME_SALE_M_Avg090\"\n",
    ",\"US_PEND_HOME_SALE_M_Avg120\"\n",
    ",\"US_PEND_HOME_SALE_M_Avg180\"\n",
    "  \n",
    ",\"TNX_Avg005\"\n",
    ",\"TNX_Avg010\"\n",
    ",\"TNX_Avg030\"\n",
    ",\"TNX_Avg060\"\n",
    ",\"TNX_Avg090\"\n",
    ",\"TNX_Avg120\"\n",
    ",\"TNX_Avg180\"\n",
    "  \n",
    ",\"TSLA_Avg005\"\n",
    ",\"TSLA_Avg010\"\n",
    ",\"TSLA_Avg030\"\n",
    ",\"TSLA_Avg060\"\n",
    ",\"TSLA_Avg090\"\n",
    ",\"TSLA_Avg120\"\n",
    ",\"TSLA_Avg180\"\n",
    "  \n",
    ",\"US_BUILD_PERM_Avg005\"\n",
    ",\"US_BUILD_PERM_Avg010\"\n",
    ",\"US_BUILD_PERM_Avg030\"\n",
    ",\"US_BUILD_PERM_Avg060\"\n",
    ",\"US_BUILD_PERM_Avg090\"\n",
    ",\"US_BUILD_PERM_Avg120\"\n",
    ",\"US_BUILD_PERM_Avg180\"\n",
    "  \n",
    ",\"BYDDF_Avg005\"\n",
    ",\"BYDDF_Avg010\"\n",
    ",\"BYDDF_Avg030\"\n",
    ",\"BYDDF_Avg060\"\n",
    ",\"BYDDF_Avg090\"\n",
    ",\"BYDDF_Avg120\"\n",
    ",\"BYDDF_Avg180\"\n",
    "  \n",
    ",\"US_INDS_PROD_M_Avg005\"\n",
    ",\"US_INDS_PROD_M_Avg010\"\n",
    ",\"US_INDS_PROD_M_Avg030\"\n",
    ",\"US_INDS_PROD_M_Avg060\"\n",
    ",\"US_INDS_PROD_M_Avg090\"\n",
    ",\"US_INDS_PROD_M_Avg120\"\n",
    ",\"US_INDS_PROD_M_Avg180\"\n",
    "  \n",
    ",\"US_ISM_MFC_EMPL_Avg005\"\n",
    ",\"US_ISM_MFC_EMPL_Avg010\"\n",
    ",\"US_ISM_MFC_EMPL_Avg030\"\n",
    ",\"US_ISM_MFC_EMPL_Avg060\"\n",
    ",\"US_ISM_MFC_EMPL_Avg090\"\n",
    ",\"US_ISM_MFC_EMPL_Avg120\"\n",
    ",\"US_ISM_MFC_EMPL_Avg180\"\n",
    "  \n",
    ",\"US_INIT_JOB_CLAIM_Avg005\"\n",
    ",\"US_INIT_JOB_CLAIM_Avg010\"\n",
    ",\"US_INIT_JOB_CLAIM_Avg030\"\n",
    ",\"US_INIT_JOB_CLAIM_Avg060\"\n",
    ",\"US_INIT_JOB_CLAIM_Avg090\"\n",
    ",\"US_INIT_JOB_CLAIM_Avg120\"\n",
    ",\"US_INIT_JOB_CLAIM_Avg180\"\n",
    "  \n",
    ",\"US_UNEMPLOY_RATE_Avg005\"\n",
    ",\"US_UNEMPLOY_RATE_Avg010\"\n",
    ",\"US_UNEMPLOY_RATE_Avg030\"\n",
    ",\"US_UNEMPLOY_RATE_Avg060\"\n",
    ",\"US_UNEMPLOY_RATE_Avg090\"\n",
    ",\"US_UNEMPLOY_RATE_Avg120\"\n",
    ",\"US_UNEMPLOY_RATE_Avg180\"\n",
    "  \n",
    ",\"NVDA_Avg005\"\n",
    ",\"NVDA_Avg010\"\n",
    ",\"NVDA_Avg030\"\n",
    ",\"NVDA_Avg060\"\n",
    ",\"NVDA_Avg090\"\n",
    ",\"NVDA_Avg120\"\n",
    ",\"NVDA_Avg180\"\n",
    "  \n",
    ",\"NRMGX_Avg005\"\n",
    ",\"NRMGX_Avg010\"\n",
    ",\"NRMGX_Avg030\"\n",
    ",\"NRMGX_Avg060\"\n",
    ",\"NRMGX_Avg090\"\n",
    ",\"NRMGX_Avg120\"\n",
    ",\"NRMGX_Avg180\"\n",
    "  \n",
    ",\"US_HOUS_STRS_M_Avg005\"\n",
    ",\"US_HOUS_STRS_M_Avg010\"\n",
    ",\"US_HOUS_STRS_M_Avg030\"\n",
    ",\"US_HOUS_STRS_M_Avg060\"\n",
    ",\"US_HOUS_STRS_M_Avg090\"\n",
    ",\"US_HOUS_STRS_M_Avg120\"\n",
    ",\"US_HOUS_STRS_M_Avg180\"\n",
    "  \n",
    ",\"HD_Avg005\"\n",
    ",\"HD_Avg010\"\n",
    ",\"HD_Avg030\"\n",
    ",\"HD_Avg060\"\n",
    ",\"HD_Avg090\"\n",
    ",\"HD_Avg120\"\n",
    ",\"HD_Avg180\"\n",
    "  \n",
    ",\"US_GDP_Q_Avg005\"\n",
    ",\"US_GDP_Q_Avg010\"\n",
    ",\"US_GDP_Q_Avg030\"\n",
    ",\"US_GDP_Q_Avg060\"\n",
    ",\"US_GDP_Q_Avg090\"\n",
    ",\"US_GDP_Q_Avg120\"\n",
    ",\"US_GDP_Q_Avg180\"\n",
    "  \n",
    ",\"VIX_Avg005\"\n",
    ",\"VIX_Avg010\"\n",
    ",\"VIX_Avg030\"\n",
    ",\"VIX_Avg060\"\n",
    ",\"VIX_Avg090\"\n",
    ",\"VIX_Avg120\"\n",
    ",\"VIX_Avg180\"\n",
    "  \n",
    ",\"TPLGX_Avg005\"\n",
    ",\"TPLGX_Avg010\"\n",
    ",\"TPLGX_Avg030\"\n",
    ",\"TPLGX_Avg060\"\n",
    ",\"TPLGX_Avg090\"\n",
    ",\"TPLGX_Avg120\"\n",
    ",\"TPLGX_Avg180\"\n",
    "  \n",
    ",\"US_ISM_MFC_PMI_Avg005\"\n",
    ",\"US_ISM_MFC_PMI_Avg010\"\n",
    ",\"US_ISM_MFC_PMI_Avg030\"\n",
    ",\"US_ISM_MFC_PMI_Avg060\"\n",
    ",\"US_ISM_MFC_PMI_Avg090\"\n",
    ",\"US_ISM_MFC_PMI_Avg120\"\n",
    ",\"US_ISM_MFC_PMI_Avg180\"\n",
    "  \n",
    ",\"VINIX_Avg005\"\n",
    ",\"VINIX_Avg010\"\n",
    ",\"VINIX_Avg030\"\n",
    ",\"VINIX_Avg060\"\n",
    ",\"VINIX_Avg090\"\n",
    ",\"VINIX_Avg120\"\n",
    ",\"VINIX_Avg180\"\n",
    "  \n",
    ",\"VBTLX_Avg005\"\n",
    ",\"VBTLX_Avg010\"\n",
    ",\"VBTLX_Avg030\"\n",
    ",\"VBTLX_Avg060\"\n",
    ",\"VBTLX_Avg090\"\n",
    ",\"VBTLX_Avg120\"\n",
    ",\"VBTLX_Avg180\"\n",
    "  \n",
    ",\"RERGX_Avg005\"\n",
    ",\"RERGX_Avg010\"\n",
    ",\"RERGX_Avg030\"\n",
    ",\"RERGX_Avg060\"\n",
    ",\"RERGX_Avg090\"\n",
    ",\"RERGX_Avg120\"\n",
    ",\"RERGX_Avg180\"\n",
    "  \n",
    ",\"CRSP_Avg005\"\n",
    ",\"CRSP_Avg010\"\n",
    ",\"CRSP_Avg030\"\n",
    ",\"CRSP_Avg060\"\n",
    ",\"CRSP_Avg090\"\n",
    ",\"CRSP_Avg120\"\n",
    ",\"CRSP_Avg180\"\n",
    "  \n",
    ",\"BABA_Avg005\"\n",
    ",\"BABA_Avg010\"\n",
    ",\"BABA_Avg030\"\n",
    ",\"BABA_Avg060\"\n",
    ",\"BABA_Avg090\"\n",
    ",\"BABA_Avg120\"\n",
    ",\"BABA_Avg180\"\n",
    "  \n",
    ",\"DJIA_Avg005\"\n",
    ",\"DJIA_Avg010\"\n",
    ",\"DJIA_Avg030\"\n",
    ",\"DJIA_Avg060\"\n",
    ",\"DJIA_Avg090\"\n",
    ",\"DJIA_Avg120\"\n",
    ",\"DJIA_Avg180\"\n",
    "  \n",
    ",\"AAPL_Avg005\"\n",
    ",\"AAPL_Avg010\"\n",
    ",\"AAPL_Avg030\"\n",
    ",\"AAPL_Avg060\"\n",
    ",\"AAPL_Avg090\"\n",
    ",\"AAPL_Avg120\"\n",
    ",\"AAPL_Avg180\"\n",
    "     \n",
    "]\n",
    "\n",
    "println()"
   ]
  },
  {
   "cell_type": "code",
   "execution_count": 2,
   "metadata": {
    "ExecuteTime": {
     "end_time": "2020-12-11T21:05:41.111000-05:00",
     "start_time": "2020-12-12T02:05:35.372Z"
    }
   },
   "outputs": [
    {
     "name": "stdout",
     "output_type": "stream",
     "text": [
      "\n"
     ]
    },
    {
     "data": {
      "text/plain": [
       "\"VIX_Original\""
      ]
     },
     "execution_count": 2,
     "metadata": {},
     "output_type": "execute_result"
    }
   ],
   "source": [
    "## uncomment for the first run\n",
    "# import Pkg\n",
    "# Pkg.add(\"PyCall\")\n",
    "# Pkg.add(\"Conda\")\n",
    "# ENV[\"PYTHON\"] = \"/opt/anaconda3/envs/turi/bin/python\"\n",
    "# /opt/anaconda3/envs/turi/lib/python3.6/site-packages/\n",
    "# Pkg.build(\"PyCall\")\n",
    "\n",
    "include(\"../Julia/functions.jl\") \n",
    "data_path=\"../DATA/processed/uber_training.csv\"\n",
    "column_to_predict = symbol_to_predict * \"_Original\""
   ]
  },
  {
   "cell_type": "markdown",
   "metadata": {},
   "source": [
    "## Fetch Data (SFrame) from Uber CSV"
   ]
  },
  {
   "cell_type": "code",
   "execution_count": 3,
   "metadata": {
    "ExecuteTime": {
     "end_time": "2020-12-11T21:05:45.377000-05:00",
     "start_time": "2020-12-12T02:05:35.376Z"
    }
   },
   "outputs": [
    {
     "name": "stdout",
     "output_type": "stream",
     "text": [
      "Finished parsing file /Users/uki/REPOS/MarketIndicators.jl/src/DATA/processed/uber_training.csv\n",
      "Parsing completed. Parsed 100 lines in 0.03545 secs.\n",
      "------------------------------------------------------\n",
      "Inferred types from first 100 line(s) of file as \n",
      "column_type_hints=[int,str,float,float,float,float,float,float,float,float,float,float,float,float,float,float,float,float,float,float,float,float,float,float,float,float,float,float,float,float,float,float,float,float,float,float,float,float,float,float,float,float,float,float,float,float,float,float,float,float,float,float,float,float,float,float,float,float,float,float,float,float,float,float,float,float,float,float,float,float,float,float,float,float,float,float,float,float,float,float,float,float,float,float,float,float,float,float,float,float,float,float,float,float,float,float,float,float,float,float,float,float,float,float,float,float,float,float,float,float,float,float,float,float,float,float,float,float,float,float,float,float,float,float,float,float,float,float,float,float,float,float,float,float,float,float,float,float,float,float,float,float,float,float,float,float,float,float,float,float,float,float,float,float,float,float,float,float,float,float,float,float,float,float,float,float,float,float,float,float,float,float,float,float,float,float,float,float,float,float,float,float,float,float,float,float,float,float,float,float,float,float,float,float,float,float,float,float,float,float,float,float,float,float,float,float,float,float,float,float,float,float,float,float,float,float,float,float,float,float,float,float,float,float,float,float,float,float,float,float,float,float,float,float,float,float,float,float,float,float,float,float,float,float,float,float,float,float,float,float,float,float,float,float,float,float,float,float,float,float,float,float,float]\n",
      "If parsing fails due to incorrect types, you can correct\n",
      "the inferred type list above and pass it to read_csv in\n",
      "the column_type_hints argument\n",
      "------------------------------------------------------\n",
      "Finished parsing file /Users/uki/REPOS/MarketIndicators.jl/src/DATA/processed/uber_training.csv\n",
      "Parsing completed. Parsed 452 lines in 0.015628 secs.\n",
      "\n"
     ]
    }
   ],
   "source": [
    "using PyCall\n",
    "tc = pyimport(\"turicreate\")\n",
    "data = tc.SFrame(data_path)\n",
    "println()"
   ]
  },
  {
   "cell_type": "markdown",
   "metadata": {},
   "source": [
    "## Split Data"
   ]
  },
  {
   "cell_type": "code",
   "execution_count": 4,
   "metadata": {
    "ExecuteTime": {
     "end_time": "2020-12-11T21:05:46.021000-05:00",
     "start_time": "2020-12-12T02:05:35.381Z"
    }
   },
   "outputs": [
    {
     "name": "stdout",
     "output_type": "stream",
     "text": [
      "(379,)\n",
      "(73,)\n"
     ]
    }
   ],
   "source": [
    "# Make a train-test split\n",
    "train_data, test_data = data.random_split(0.8)\n",
    "\n",
    "println( size(train_data) )\n",
    "println( size(test_data)  )"
   ]
  },
  {
   "cell_type": "code",
   "execution_count": 5,
   "metadata": {
    "ExecuteTime": {
     "end_time": "2020-12-11T21:05:48.621000-05:00",
     "start_time": "2020-12-12T02:05:35.386Z"
    }
   },
   "outputs": [
    {
     "name": "stdout",
     "output_type": "stream",
     "text": [
      "Automatically generating validation set from 5% of the data.\n",
      "Linear regression:\n",
      "--------------------------------------------------------\n",
      "Number of examples          : 357\n",
      "Number of features          : 203\n",
      "Number of unpacked features : 203\n",
      "Number of coefficients    : 204\n",
      "Starting Newton Method\n",
      "--------------------------------------------------------\n",
      "+-----------+----------+--------------+--------------------+----------------------+---------------------------------+-----------------------------------+\n",
      "| Iteration | Passes   | Elapsed Time | Training Max Error | Validation Max Error | Training Root-Mean-Square Error | Validation Root-Mean-Square Error |\n",
      "+-----------+----------+--------------+--------------------+----------------------+---------------------------------+-----------------------------------+\n",
      "| 1         | 2        | 1.031367     | 8.844637           | 3.560996             | 1.728417                        | 1.151200                          |\n",
      "+-----------+----------+--------------+--------------------+----------------------+---------------------------------+-----------------------------------+\n",
      "SUCCESS: Optimal solution found.\n",
      "\n"
     ]
    },
    {
     "data": {
      "text/plain": [
       "PyObject Class                          : LinearRegression\n",
       "\n",
       "Schema\n",
       "------\n",
       "Number of coefficients         : 204\n",
       "Number of examples             : 357\n",
       "Number of feature columns      : 203\n",
       "Number of unpacked features    : 203\n",
       "\n",
       "Hyperparameters\n",
       "---------------\n",
       "L1 penalty                     : 0\n",
       "L2 penalty                     : 0.01\n",
       "\n",
       "Training Summary\n",
       "----------------\n",
       "Solver                         : newton\n",
       "Solver iterations              : 1\n",
       "Solver status                  : SUCCESS: Optimal solution found.\n",
       "Training time (sec)            : 1.0451\n",
       "\n",
       "Settings\n",
       "--------\n",
       "Residual sum of squares        : 1066.5107\n",
       "Training RMSE                  : 1.7284\n",
       "\n",
       "Highest Positive Coefficients\n",
       "-----------------------------\n",
       "(intercept)                    : 22.5529\n",
       "BTC_USD_Avg030                 : 0.8486\n",
       "GELYF_Avg060                   : 0.8463\n",
       "US_HOUS_STRS_M_Avg120          : 0.7064\n",
       "BTC_USD_Avg180                 : 0.6322\n",
       "\n",
       "Lowest Negative Coefficients\n",
       "----------------------------\n",
       "GELYF_Avg180                   : -0.5443\n",
       "US_HOUS_STRS_M_Avg090          : -0.4282\n",
       "US_ISM_MFC_PMI_Avg030          : -0.3416\n",
       "AAPL_Avg010                    : -0.3317\n",
       "BTC_USD_Avg120                 : -0.3245\n"
      ]
     },
     "execution_count": 5,
     "metadata": {},
     "output_type": "execute_result"
    }
   ],
   "source": [
    "model = tc.regression.create( \n",
    "    train_data, \n",
    "    target = column_to_predict, \n",
    "    features = features_to_analyze, \n",
    "    validation_set=\"auto\", \n",
    "    verbose=true\n",
    ")"
   ]
  },
  {
   "cell_type": "markdown",
   "metadata": {},
   "source": [
    "## Evaluate the Model"
   ]
  },
  {
   "cell_type": "code",
   "execution_count": 6,
   "metadata": {
    "ExecuteTime": {
     "end_time": "2020-12-11T21:05:49.921000-05:00",
     "start_time": "2020-12-12T02:05:35.390Z"
    }
   },
   "outputs": [
    {
     "data": {
      "text/plain": [
       "Dict{Any,Any} with 2 entries:\n",
       "  \"rmse\"      => 1.94146\n",
       "  \"max_error\" => 8.41186"
      ]
     },
     "execution_count": 6,
     "metadata": {},
     "output_type": "execute_result"
    }
   ],
   "source": [
    "#TODO: write this in a loop to select the best model\n",
    "# Evaluate the model and save the results into a dictionary\n",
    "results = model.evaluate( test_data ) #test_data[0:2531]\n",
    "results"
   ]
  },
  {
   "cell_type": "code",
   "execution_count": 7,
   "metadata": {
    "ExecuteTime": {
     "end_time": "2020-12-11T21:05:50.086000-05:00",
     "start_time": "2020-12-12T02:05:35.394Z"
    }
   },
   "outputs": [
    {
     "name": "stdout",
     "output_type": "stream",
     "text": [
      "max_error: 8.41, rmse: 1.94\n"
     ]
    }
   ],
   "source": [
    "rmse = results[\"rmse\"]\n",
    "rmse = round(rmse, digits=2)\n",
    "\n",
    "max_error = results[\"max_error\"]\n",
    "max_error = round(max_error, digits=2)\n",
    "\n",
    "println( \"max_error: \", max_error, \", rmse: \", rmse )\n",
    "# max_error: 1069.27, rmse: 184.6\n",
    "# max_error: 65.35, rmse: 32.6            predict: ^DJIA added: US_INIT_JOBLESS\n",
    "# max_error: 1875.39, rmse: 443.59        predict: ^DJIA commented out: \"DJIA_Quantized\"\n",
    "# max_error: 1339.76, rmse: 373.94        predict: ^DJIA commented out: \"DJIA_Quantized\"\n",
    "# max_error: 916.19, rmse: 231.24       predict: ^DJIA with \"DJIA_Avg005\""
   ]
  },
  {
   "cell_type": "markdown",
   "metadata": {},
   "source": [
    "## Save / Export the Model"
   ]
  },
  {
   "cell_type": "code",
   "execution_count": 8,
   "metadata": {
    "ExecuteTime": {
     "end_time": "2020-12-11T21:05:50.112000-05:00",
     "start_time": "2020-12-12T02:05:35.398Z"
    }
   },
   "outputs": [],
   "source": [
    "# Export to Core ML\n",
    "model.export_coreml(\"../DATA/models/^DJI.mlmodel\")"
   ]
  },
  {
   "cell_type": "markdown",
   "metadata": {},
   "source": [
    "## Make predictions "
   ]
  },
  {
   "cell_type": "code",
   "execution_count": 9,
   "metadata": {
    "ExecuteTime": {
     "end_time": "2020-12-11T21:05:50.309000-05:00",
     "start_time": "2020-12-12T02:05:35.403Z"
    }
   },
   "outputs": [
    {
     "name": "stdout",
     "output_type": "stream",
     "text": [
      "Finished parsing file /Users/uki/REPOS/MarketIndicators.jl/src/DATA/processed/uber_prediction.csv\n",
      "Parsing completed. Parsed 95 lines in 0.035253 secs.\n",
      "------------------------------------------------------\n",
      "Inferred types from first 100 line(s) of file as \n",
      "column_type_hints=[int,str,float,float,float,float,float,float,float,float,float,float,float,float,float,float,float,float,float,float,float,float,float,float,float,float,float,float,float,float,float,float,float,float,float,float,float,float,float,float,float,float,float,float,float,float,float,float,float,float,float,float,float,float,float,float,float,float,float,float,float,float,float,float,float,float,float,float,float,float,float,float,float,float,float,float,float,float,float,float,float,float,float,float,float,float,float,float,float,float,float,float,float,float,float,float,float,float,float,float,float,float,float,float,float,float,float,float,float,float,float,float,float,float,float,float,float,float,float,float,float,float,float,float,float,float,float,float,float,float,float,float,float,float,float,float,float,float,float,float,float,float,float,float,float,float,float,float,float,float,float,float,float,float,float,float,float,float,float,float,float,float,float,float,float,float,float,float,float,float,float,float,float,float,float,float,float,float,float,float,float,float,float,float,float,float,float,float,float,float,float,float,float,float,float,float,float,float,float,float,float,float,float,float,float,float,float,float,float,float,float,float,float,float,float,float,float,float,float,float,float,float,float,float,float,float,float,float,float,float,float,float,float,float,float,float,float,float,float,float,float,float,float,float,float,float,float,float,float,float,float,float,float,float,float,float,float,float,float,float,float,float,float]\n",
      "If parsing fails due to incorrect types, you can correct\n",
      "the inferred type list above and pass it to read_csv in\n",
      "the column_type_hints argument\n",
      "------------------------------------------------------\n",
      "Finished parsing file /Users/uki/REPOS/MarketIndicators.jl/src/DATA/processed/uber_prediction.csv\n",
      "Parsing completed. Parsed 95 lines in 0.008296 secs.\n",
      "\n"
     ]
    }
   ],
   "source": [
    "data_path=\"../DATA/processed/uber_prediction.csv\"\n",
    "data_predictions = tc.SFrame(data_path)\n",
    "\n",
    "## Save predictions to an SArray\n",
    "predictions = model.predict(data_predictions)\n",
    "#get(predictions, 1)\n",
    "\n",
    "println()"
   ]
  },
  {
   "cell_type": "markdown",
   "metadata": {},
   "source": [
    "### Explore SFrame"
   ]
  },
  {
   "cell_type": "code",
   "execution_count": 10,
   "metadata": {
    "ExecuteTime": {
     "end_time": "2020-12-11T21:05:50.505000-05:00",
     "start_time": "2020-12-12T02:05:35.408Z"
    }
   },
   "outputs": [
    {
     "name": "stdout",
     "output_type": "stream",
     "text": [
      "record_count data 95\n",
      "record_count predictions 95\n",
      "feature_number 263\n",
      "Rata Die 737774\n",
      "date 2020-12-15\n",
      "original 30071.130859\n"
     ]
    }
   ],
   "source": [
    "record_count = size(data_predictions)[1]\n",
    "row = get(data_predictions, record_count-1)\n",
    "\n",
    "feature_number = row.count\n",
    "day = row[\"Rata_Die\"]\n",
    "date = row[\"Date\"] # \"2020-10-20\"\n",
    "original = row[\"DJIA_Original\"]\n",
    "\n",
    "println( \"record_count data \", record_count )\n",
    "println( \"record_count predictions \", size(predictions)[1] )\n",
    "\n",
    "println( \"feature_number \", feature_number )\n",
    "println( \"Rata Die \", day )\n",
    "println( \"date \", date )\n",
    "println( \"original \", original )"
   ]
  },
  {
   "cell_type": "code",
   "execution_count": 11,
   "metadata": {
    "ExecuteTime": {
     "end_time": "2020-12-11T21:05:53.473000-05:00",
     "start_time": "2020-12-12T02:05:35.413Z"
    }
   },
   "outputs": [
    {
     "name": "stdout",
     "output_type": "stream",
     "text": [
      "preditions set size: 94, step 5\n",
      "VIX 94 Array{Date,1}\n",
      "t = Dec. 11, 2020 - String\n",
      "\n"
     ]
    }
   ],
   "source": [
    "using Dates\n",
    "today_rata = Dates.datetime2rata( today() )\n",
    "\n",
    "## Determine dataset size\n",
    "\n",
    "initio = 1                                              # latin: start\n",
    "finem  = size(predictions)[1] -1                        # latin: end\n",
    "gradus = convert(Int64, round( finem/20, digits=0)  )   # latin: step\n",
    "\n",
    "println(\"preditions set size: \", finem, \", step \", gradus)\n",
    "\n",
    "\n",
    "## Declare variables\n",
    "x_axis_dates      = Vector{Date}() # results in Array{Date,1}\n",
    "y_axis_original   = Vector{Float64}()\n",
    "y_axis_predicted  = Vector{Float64}()\n",
    "\n",
    "println(symbol_to_predict, \" \", finem, \" \", typeof(x_axis_dates))\n",
    "\n",
    "today_id  = 50 # not set yet\n",
    "\n",
    "## step thru each prediction\n",
    "for id in initio:finem\n",
    "    row = get(data_predictions, id) # get a dictionary of data from the SFrame\n",
    "    \n",
    "    date_string = row[\"Date\"] # e.g. \"2020-10-20\"\n",
    "    date = Date(date_string) # 2020-09-07 Date\n",
    "    if date == today()\n",
    "        today_id = id\n",
    "    end \n",
    "    #date = Dates.format(date, \"u.d,yy\" )\n",
    "    #println(\"date \", date, \" \", typeof(date))\n",
    "    push!(x_axis_dates, date)\n",
    "    \n",
    "    predicted = get(predictions, id) # Float64\n",
    "    predicted = round(predicted, digits=0)\n",
    "    #println(\"predicted \", predicted, \" \", typeof(predicted))\n",
    "    append!(y_axis_predicted, predicted)\n",
    "    \n",
    "    \n",
    "    original = row[ column_to_predict ]\n",
    "    original = round(original, digits=0) # Float64\n",
    "    #println(\"original \", original, \" \", typeof(original)) \n",
    "    append!(y_axis_original, original)\n",
    "end\n",
    "\n",
    "## Format Dates for plotting\n",
    "include(\"../Julia/function_format_dates.jl\")\n",
    "x_axis_dates = format_dates(x_axis_dates, \"u. d, yy \")\n",
    "\n",
    "\n",
    "\n",
    "t = today()# Date\n",
    "t = format_dates([t], \"u. d, yyyy\") # Array{String,1}\n",
    "t = t[1] # String\n",
    "println(\"t = \", t, \" - \", typeof(t))\n",
    "\n",
    "println()"
   ]
  },
  {
   "cell_type": "code",
   "execution_count": 12,
   "metadata": {
    "ExecuteTime": {
     "end_time": "2020-12-11T21:06:37.279000-05:00",
     "start_time": "2020-12-12T02:05:35.418Z"
    }
   },
   "outputs": [
    {
     "data": {
      "image/svg+xml": [
       "<?xml version=\"1.0\" encoding=\"utf-8\"?>\n",
       "<svg xmlns=\"http://www.w3.org/2000/svg\" xmlns:xlink=\"http://www.w3.org/1999/xlink\" width=\"980\" height=\"400\" viewBox=\"0 0 3920 1600\">\n",
       "<defs>\n",
       "  <clipPath id=\"clip8500\">\n",
       "    <rect x=\"0\" y=\"0\" width=\"3920\" height=\"1600\"/>\n",
       "  </clipPath>\n",
       "</defs>\n",
       "<path clip-path=\"url(#clip8500)\" d=\"\n",
       "M0 1600 L3920 1600 L3920 0 L0 0  Z\n",
       "  \" fill=\"#ffffff\" fill-rule=\"evenodd\" fill-opacity=\"1\"/>\n",
       "<defs>\n",
       "  <clipPath id=\"clip8501\">\n",
       "    <rect x=\"784\" y=\"0\" width=\"2745\" height=\"1600\"/>\n",
       "  </clipPath>\n",
       "</defs>\n",
       "<path clip-path=\"url(#clip8500)\" d=\"\n",
       "M202.459 1423.18 L3872.76 1423.18 L3872.76 47.2441 L202.459 47.2441  Z\n",
       "  \" fill=\"#ffffff\" fill-rule=\"evenodd\" fill-opacity=\"1\"/>\n",
       "<defs>\n",
       "  <clipPath id=\"clip8502\">\n",
       "    <rect x=\"202\" y=\"47\" width=\"3671\" height=\"1377\"/>\n",
       "  </clipPath>\n",
       "</defs>\n",
       "<polyline clip-path=\"url(#clip8502)\" style=\"stroke:#000000; stroke-width:2; stroke-opacity:0.1; fill:none\" points=\"\n",
       "  306.335,1423.18 306.335,47.2441 \n",
       "  \"/>\n",
       "<polyline clip-path=\"url(#clip8502)\" style=\"stroke:#000000; stroke-width:2; stroke-opacity:0.1; fill:none\" points=\"\n",
       "  566.957,1423.18 566.957,47.2441 \n",
       "  \"/>\n",
       "<polyline clip-path=\"url(#clip8502)\" style=\"stroke:#000000; stroke-width:2; stroke-opacity:0.1; fill:none\" points=\"\n",
       "  790.347,1423.18 790.347,47.2441 \n",
       "  \"/>\n",
       "<polyline clip-path=\"url(#clip8502)\" style=\"stroke:#000000; stroke-width:2; stroke-opacity:0.1; fill:none\" points=\"\n",
       "  1050.97,1423.18 1050.97,47.2441 \n",
       "  \"/>\n",
       "<polyline clip-path=\"url(#clip8502)\" style=\"stroke:#000000; stroke-width:2; stroke-opacity:0.1; fill:none\" points=\"\n",
       "  1311.59,1423.18 1311.59,47.2441 \n",
       "  \"/>\n",
       "<polyline clip-path=\"url(#clip8502)\" style=\"stroke:#000000; stroke-width:2; stroke-opacity:0.1; fill:none\" points=\"\n",
       "  1534.98,1423.18 1534.98,47.2441 \n",
       "  \"/>\n",
       "<polyline clip-path=\"url(#clip8502)\" style=\"stroke:#000000; stroke-width:2; stroke-opacity:0.1; fill:none\" points=\"\n",
       "  1795.6,1423.18 1795.6,47.2441 \n",
       "  \"/>\n",
       "<polyline clip-path=\"url(#clip8502)\" style=\"stroke:#000000; stroke-width:2; stroke-opacity:0.1; fill:none\" points=\"\n",
       "  2056.22,1423.18 2056.22,47.2441 \n",
       "  \"/>\n",
       "<polyline clip-path=\"url(#clip8502)\" style=\"stroke:#000000; stroke-width:2; stroke-opacity:0.1; fill:none\" points=\"\n",
       "  2279.61,1423.18 2279.61,47.2441 \n",
       "  \"/>\n",
       "<polyline clip-path=\"url(#clip8502)\" style=\"stroke:#000000; stroke-width:2; stroke-opacity:0.1; fill:none\" points=\"\n",
       "  2540.23,1423.18 2540.23,47.2441 \n",
       "  \"/>\n",
       "<polyline clip-path=\"url(#clip8502)\" style=\"stroke:#000000; stroke-width:2; stroke-opacity:0.1; fill:none\" points=\"\n",
       "  2763.62,1423.18 2763.62,47.2441 \n",
       "  \"/>\n",
       "<polyline clip-path=\"url(#clip8502)\" style=\"stroke:#000000; stroke-width:2; stroke-opacity:0.1; fill:none\" points=\"\n",
       "  3024.25,1423.18 3024.25,47.2441 \n",
       "  \"/>\n",
       "<polyline clip-path=\"url(#clip8502)\" style=\"stroke:#000000; stroke-width:2; stroke-opacity:0.1; fill:none\" points=\"\n",
       "  3284.87,1423.18 3284.87,47.2441 \n",
       "  \"/>\n",
       "<polyline clip-path=\"url(#clip8502)\" style=\"stroke:#000000; stroke-width:2; stroke-opacity:0.1; fill:none\" points=\"\n",
       "  3508.26,1423.18 3508.26,47.2441 \n",
       "  \"/>\n",
       "<polyline clip-path=\"url(#clip8502)\" style=\"stroke:#000000; stroke-width:2; stroke-opacity:0.1; fill:none\" points=\"\n",
       "  3768.88,1423.18 3768.88,47.2441 \n",
       "  \"/>\n",
       "<polyline clip-path=\"url(#clip8502)\" style=\"stroke:#000000; stroke-width:2; stroke-opacity:0.1; fill:none\" points=\"\n",
       "  202.459,1384.24 3872.76,1384.24 \n",
       "  \"/>\n",
       "<polyline clip-path=\"url(#clip8502)\" style=\"stroke:#000000; stroke-width:2; stroke-opacity:0.1; fill:none\" points=\"\n",
       "  202.459,1089.23 3872.76,1089.23 \n",
       "  \"/>\n",
       "<polyline clip-path=\"url(#clip8502)\" style=\"stroke:#000000; stroke-width:2; stroke-opacity:0.1; fill:none\" points=\"\n",
       "  202.459,794.214 3872.76,794.214 \n",
       "  \"/>\n",
       "<polyline clip-path=\"url(#clip8502)\" style=\"stroke:#000000; stroke-width:2; stroke-opacity:0.1; fill:none\" points=\"\n",
       "  202.459,499.202 3872.76,499.202 \n",
       "  \"/>\n",
       "<polyline clip-path=\"url(#clip8502)\" style=\"stroke:#000000; stroke-width:2; stroke-opacity:0.1; fill:none\" points=\"\n",
       "  202.459,204.19 3872.76,204.19 \n",
       "  \"/>\n",
       "<polyline clip-path=\"url(#clip8502)\" style=\"stroke:#000000; stroke-width:2; stroke-opacity:0.1; fill:none\" points=\"\n",
       "  202.459,204.19 3872.76,204.19 \n",
       "  \"/>\n",
       "<polyline clip-path=\"url(#clip8500)\" style=\"stroke:#000000; stroke-width:4; stroke-opacity:1; fill:none\" points=\"\n",
       "  202.459,1423.18 3872.76,1423.18 \n",
       "  \"/>\n",
       "<polyline clip-path=\"url(#clip8500)\" style=\"stroke:#000000; stroke-width:4; stroke-opacity:1; fill:none\" points=\"\n",
       "  202.459,1423.18 202.459,47.2441 \n",
       "  \"/>\n",
       "<polyline clip-path=\"url(#clip8500)\" style=\"stroke:#000000; stroke-width:4; stroke-opacity:1; fill:none\" points=\"\n",
       "  306.335,1423.18 306.335,1406.67 \n",
       "  \"/>\n",
       "<polyline clip-path=\"url(#clip8500)\" style=\"stroke:#000000; stroke-width:4; stroke-opacity:1; fill:none\" points=\"\n",
       "  566.957,1423.18 566.957,1406.67 \n",
       "  \"/>\n",
       "<polyline clip-path=\"url(#clip8500)\" style=\"stroke:#000000; stroke-width:4; stroke-opacity:1; fill:none\" points=\"\n",
       "  790.347,1423.18 790.347,1406.67 \n",
       "  \"/>\n",
       "<polyline clip-path=\"url(#clip8500)\" style=\"stroke:#000000; stroke-width:4; stroke-opacity:1; fill:none\" points=\"\n",
       "  1050.97,1423.18 1050.97,1406.67 \n",
       "  \"/>\n",
       "<polyline clip-path=\"url(#clip8500)\" style=\"stroke:#000000; stroke-width:4; stroke-opacity:1; fill:none\" points=\"\n",
       "  1311.59,1423.18 1311.59,1406.67 \n",
       "  \"/>\n",
       "<polyline clip-path=\"url(#clip8500)\" style=\"stroke:#000000; stroke-width:4; stroke-opacity:1; fill:none\" points=\"\n",
       "  1534.98,1423.18 1534.98,1406.67 \n",
       "  \"/>\n",
       "<polyline clip-path=\"url(#clip8500)\" style=\"stroke:#000000; stroke-width:4; stroke-opacity:1; fill:none\" points=\"\n",
       "  1795.6,1423.18 1795.6,1406.67 \n",
       "  \"/>\n",
       "<polyline clip-path=\"url(#clip8500)\" style=\"stroke:#000000; stroke-width:4; stroke-opacity:1; fill:none\" points=\"\n",
       "  2056.22,1423.18 2056.22,1406.67 \n",
       "  \"/>\n",
       "<polyline clip-path=\"url(#clip8500)\" style=\"stroke:#000000; stroke-width:4; stroke-opacity:1; fill:none\" points=\"\n",
       "  2279.61,1423.18 2279.61,1406.67 \n",
       "  \"/>\n",
       "<polyline clip-path=\"url(#clip8500)\" style=\"stroke:#000000; stroke-width:4; stroke-opacity:1; fill:none\" points=\"\n",
       "  2540.23,1423.18 2540.23,1406.67 \n",
       "  \"/>\n",
       "<polyline clip-path=\"url(#clip8500)\" style=\"stroke:#000000; stroke-width:4; stroke-opacity:1; fill:none\" points=\"\n",
       "  2763.62,1423.18 2763.62,1406.67 \n",
       "  \"/>\n",
       "<polyline clip-path=\"url(#clip8500)\" style=\"stroke:#000000; stroke-width:4; stroke-opacity:1; fill:none\" points=\"\n",
       "  3024.25,1423.18 3024.25,1406.67 \n",
       "  \"/>\n",
       "<polyline clip-path=\"url(#clip8500)\" style=\"stroke:#000000; stroke-width:4; stroke-opacity:1; fill:none\" points=\"\n",
       "  3284.87,1423.18 3284.87,1406.67 \n",
       "  \"/>\n",
       "<polyline clip-path=\"url(#clip8500)\" style=\"stroke:#000000; stroke-width:4; stroke-opacity:1; fill:none\" points=\"\n",
       "  3508.26,1423.18 3508.26,1406.67 \n",
       "  \"/>\n",
       "<polyline clip-path=\"url(#clip8500)\" style=\"stroke:#000000; stroke-width:4; stroke-opacity:1; fill:none\" points=\"\n",
       "  3768.88,1423.18 3768.88,1406.67 \n",
       "  \"/>\n",
       "<polyline clip-path=\"url(#clip8500)\" style=\"stroke:#000000; stroke-width:4; stroke-opacity:1; fill:none\" points=\"\n",
       "  202.459,1384.24 246.503,1384.24 \n",
       "  \"/>\n",
       "<polyline clip-path=\"url(#clip8500)\" style=\"stroke:#000000; stroke-width:4; stroke-opacity:1; fill:none\" points=\"\n",
       "  202.459,1089.23 246.503,1089.23 \n",
       "  \"/>\n",
       "<polyline clip-path=\"url(#clip8500)\" style=\"stroke:#000000; stroke-width:4; stroke-opacity:1; fill:none\" points=\"\n",
       "  202.459,794.214 246.503,794.214 \n",
       "  \"/>\n",
       "<polyline clip-path=\"url(#clip8500)\" style=\"stroke:#000000; stroke-width:4; stroke-opacity:1; fill:none\" points=\"\n",
       "  202.459,499.202 246.503,499.202 \n",
       "  \"/>\n",
       "<polyline clip-path=\"url(#clip8500)\" style=\"stroke:#000000; stroke-width:4; stroke-opacity:1; fill:none\" points=\"\n",
       "  202.459,204.19 246.503,204.19 \n",
       "  \"/>\n",
       "<polyline clip-path=\"url(#clip8500)\" style=\"stroke:#000000; stroke-width:4; stroke-opacity:1; fill:none\" points=\"\n",
       "  202.459,204.19 246.503,204.19 \n",
       "  \"/>\n",
       "<path clip-path=\"url(#clip8500)\" d=\"M 0 0 M204.252 1450.83 L204.252 1455.39 Q201.59 1454.11 199.229 1453.49 Q196.868 1452.86 194.669 1452.86 Q190.85 1452.86 188.766 1454.34 Q186.706 1455.83 186.706 1458.56 Q186.706 1460.85 188.072 1462.03 Q189.461 1463.19 193.303 1463.9 L196.128 1464.48 Q201.359 1465.48 203.836 1468 Q206.336 1470.5 206.336 1474.71 Q206.336 1479.74 202.956 1482.33 Q199.6 1484.92 193.095 1484.92 Q190.641 1484.92 187.864 1484.37 Q185.109 1483.81 182.146 1482.72 L182.146 1477.91 Q184.993 1479.51 187.725 1480.32 Q190.456 1481.13 193.095 1481.13 Q197.1 1481.13 199.276 1479.55 Q201.452 1477.98 201.452 1475.06 Q201.452 1472.52 199.878 1471.08 Q198.327 1469.65 194.762 1468.93 L191.915 1468.37 Q186.683 1467.33 184.345 1465.11 Q182.007 1462.89 182.007 1458.93 Q182.007 1454.34 185.225 1451.71 Q188.466 1449.07 194.137 1449.07 Q196.567 1449.07 199.09 1449.51 Q201.614 1449.95 204.252 1450.83 Z\" fill=\"#000000\" fill-rule=\"evenodd\" fill-opacity=\"1\" /><path clip-path=\"url(#clip8500)\" d=\"M 0 0 M232.979 1470.22 L232.979 1472.31 L213.396 1472.31 Q213.674 1476.71 216.035 1479.02 Q218.419 1481.31 222.655 1481.31 Q225.109 1481.31 227.401 1480.71 Q229.715 1480.11 231.984 1478.9 L231.984 1482.93 Q229.692 1483.9 227.285 1484.41 Q224.877 1484.92 222.401 1484.92 Q216.197 1484.92 212.563 1481.31 Q208.952 1477.7 208.952 1471.54 Q208.952 1465.18 212.377 1461.45 Q215.827 1457.7 221.66 1457.7 Q226.891 1457.7 229.924 1461.08 Q232.979 1464.44 232.979 1470.22 M228.72 1468.97 Q228.674 1465.48 226.752 1463.4 Q224.854 1461.31 221.706 1461.31 Q218.141 1461.31 215.989 1463.33 Q213.859 1465.34 213.535 1469 L228.72 1468.97 Z\" fill=\"#000000\" fill-rule=\"evenodd\" fill-opacity=\"1\" /><path clip-path=\"url(#clip8500)\" d=\"M 0 0 M241.567 1480.36 L241.567 1494.11 L237.285 1494.11 L237.285 1458.33 L241.567 1458.33 L241.567 1462.26 Q242.91 1459.95 244.947 1458.84 Q247.007 1457.7 249.854 1457.7 Q254.576 1457.7 257.516 1461.45 Q260.479 1465.2 260.479 1471.31 Q260.479 1477.42 257.516 1481.17 Q254.576 1484.92 249.854 1484.92 Q247.007 1484.92 244.947 1483.81 Q242.91 1482.68 241.567 1480.36 M256.058 1471.31 Q256.058 1466.61 254.113 1463.95 Q252.192 1461.27 248.812 1461.27 Q245.433 1461.27 243.488 1463.95 Q241.567 1466.61 241.567 1471.31 Q241.567 1476.01 243.488 1478.7 Q245.433 1481.36 248.812 1481.36 Q252.192 1481.36 254.113 1478.7 Q256.058 1476.01 256.058 1471.31 Z\" fill=\"#000000\" fill-rule=\"evenodd\" fill-opacity=\"1\" /><path clip-path=\"url(#clip8500)\" d=\"M 0 0 M265.548 1478.37 L270.433 1478.37 L270.433 1484.25 L265.548 1484.25 L265.548 1478.37 Z\" fill=\"#000000\" fill-rule=\"evenodd\" fill-opacity=\"1\" /><path clip-path=\"url(#clip8500)\" d=\"M 0 0 M291.382 1480.32 L299.021 1480.32 L299.021 1453.95 L290.71 1455.62 L290.71 1451.36 L298.974 1449.69 L303.65 1449.69 L303.65 1480.32 L311.289 1480.32 L311.289 1484.25 L291.382 1484.25 L291.382 1480.32 Z\" fill=\"#000000\" fill-rule=\"evenodd\" fill-opacity=\"1\" /><path clip-path=\"url(#clip8500)\" d=\"M 0 0 M330.525 1465.62 Q333.881 1466.34 335.756 1468.6 Q337.655 1470.87 337.655 1474.21 Q337.655 1479.32 334.136 1482.12 Q330.618 1484.92 324.136 1484.92 Q321.96 1484.92 319.645 1484.48 Q317.354 1484.07 314.9 1483.21 L314.9 1478.7 Q316.844 1479.83 319.159 1480.41 Q321.474 1480.99 323.997 1480.99 Q328.395 1480.99 330.687 1479.25 Q333.002 1477.52 333.002 1474.21 Q333.002 1471.15 330.849 1469.44 Q328.719 1467.7 324.9 1467.7 L320.872 1467.7 L320.872 1463.86 L325.085 1463.86 Q328.534 1463.86 330.363 1462.49 Q332.192 1461.1 332.192 1458.51 Q332.192 1455.85 330.293 1454.44 Q328.418 1453 324.9 1453 Q322.979 1453 320.78 1453.42 Q318.581 1453.84 315.942 1454.71 L315.942 1450.55 Q318.604 1449.81 320.919 1449.44 Q323.256 1449.07 325.317 1449.07 Q330.641 1449.07 333.743 1451.5 Q336.844 1453.9 336.844 1458.03 Q336.844 1460.9 335.201 1462.89 Q333.557 1464.85 330.525 1465.62 Z\" fill=\"#000000\" fill-rule=\"evenodd\" fill-opacity=\"1\" /><path clip-path=\"url(#clip8500)\" d=\"M 0 0 M343.21 1478.37 L348.094 1478.37 L348.094 1482.35 L344.298 1489.76 L341.312 1489.76 L343.21 1482.35 L343.21 1478.37 Z\" fill=\"#000000\" fill-rule=\"evenodd\" fill-opacity=\"1\" /><path clip-path=\"url(#clip8500)\" d=\"M 0 0 M372.261 1480.32 L388.58 1480.32 L388.58 1484.25 L366.636 1484.25 L366.636 1480.32 Q369.298 1477.56 373.881 1472.93 Q378.488 1468.28 379.668 1466.94 Q381.914 1464.41 382.793 1462.68 Q383.696 1460.92 383.696 1459.23 Q383.696 1456.47 381.752 1454.74 Q379.83 1453 376.728 1453 Q374.529 1453 372.076 1453.77 Q369.645 1454.53 366.867 1456.08 L366.867 1451.36 Q369.691 1450.22 372.145 1449.65 Q374.599 1449.07 376.636 1449.07 Q382.006 1449.07 385.201 1451.75 Q388.395 1454.44 388.395 1458.93 Q388.395 1461.06 387.585 1462.98 Q386.798 1464.88 384.691 1467.47 Q384.113 1468.14 381.011 1471.36 Q377.909 1474.55 372.261 1480.32 Z\" fill=\"#000000\" fill-rule=\"evenodd\" fill-opacity=\"1\" /><path clip-path=\"url(#clip8500)\" d=\"M 0 0 M403.65 1452.77 Q400.038 1452.77 398.21 1456.34 Q396.404 1459.88 396.404 1467.01 Q396.404 1474.11 398.21 1477.68 Q400.038 1481.22 403.65 1481.22 Q407.284 1481.22 409.089 1477.68 Q410.918 1474.11 410.918 1467.01 Q410.918 1459.88 409.089 1456.34 Q407.284 1452.77 403.65 1452.77 M403.65 1449.07 Q409.46 1449.07 412.515 1453.67 Q415.594 1458.26 415.594 1467.01 Q415.594 1475.73 412.515 1480.34 Q409.46 1484.92 403.65 1484.92 Q397.839 1484.92 394.761 1480.34 Q391.705 1475.73 391.705 1467.01 Q391.705 1458.26 394.761 1453.67 Q397.839 1449.07 403.65 1449.07 Z\" fill=\"#000000\" fill-rule=\"evenodd\" fill-opacity=\"1\" /><path clip-path=\"url(#clip8500)\" d=\"M 0 0 M464.735 1450.83 L464.735 1455.39 Q462.073 1454.11 459.712 1453.49 Q457.351 1452.86 455.152 1452.86 Q451.333 1452.86 449.249 1454.34 Q447.189 1455.83 447.189 1458.56 Q447.189 1460.85 448.555 1462.03 Q449.944 1463.19 453.786 1463.9 L456.61 1464.48 Q461.842 1465.48 464.319 1468 Q466.819 1470.5 466.819 1474.71 Q466.819 1479.74 463.439 1482.33 Q460.082 1484.92 453.578 1484.92 Q451.124 1484.92 448.346 1484.37 Q445.592 1483.81 442.629 1482.72 L442.629 1477.91 Q445.476 1479.51 448.208 1480.32 Q450.939 1481.13 453.578 1481.13 Q457.582 1481.13 459.758 1479.55 Q461.934 1477.98 461.934 1475.06 Q461.934 1472.52 460.36 1471.08 Q458.809 1469.65 455.245 1468.93 L452.397 1468.37 Q447.166 1467.33 444.828 1465.11 Q442.49 1462.89 442.49 1458.93 Q442.49 1454.34 445.708 1451.71 Q448.948 1449.07 454.62 1449.07 Q457.05 1449.07 459.573 1449.51 Q462.096 1449.95 464.735 1450.83 Z\" fill=\"#000000\" fill-rule=\"evenodd\" fill-opacity=\"1\" /><path clip-path=\"url(#clip8500)\" d=\"M 0 0 M493.462 1470.22 L493.462 1472.31 L473.879 1472.31 Q474.156 1476.71 476.518 1479.02 Q478.902 1481.31 483.138 1481.31 Q485.592 1481.31 487.883 1480.71 Q490.198 1480.11 492.467 1478.9 L492.467 1482.93 Q490.175 1483.9 487.768 1484.41 Q485.36 1484.92 482.883 1484.92 Q476.68 1484.92 473.045 1481.31 Q469.434 1477.7 469.434 1471.54 Q469.434 1465.18 472.86 1461.45 Q476.309 1457.7 482.143 1457.7 Q487.374 1457.7 490.406 1461.08 Q493.462 1464.44 493.462 1470.22 M489.203 1468.97 Q489.156 1465.48 487.235 1463.4 Q485.337 1461.31 482.189 1461.31 Q478.624 1461.31 476.471 1463.33 Q474.342 1465.34 474.018 1469 L489.203 1468.97 Z\" fill=\"#000000\" fill-rule=\"evenodd\" fill-opacity=\"1\" /><path clip-path=\"url(#clip8500)\" d=\"M 0 0 M502.05 1480.36 L502.05 1494.11 L497.767 1494.11 L497.767 1458.33 L502.05 1458.33 L502.05 1462.26 Q503.392 1459.95 505.429 1458.84 Q507.49 1457.7 510.337 1457.7 Q515.059 1457.7 517.999 1461.45 Q520.962 1465.2 520.962 1471.31 Q520.962 1477.42 517.999 1481.17 Q515.059 1484.92 510.337 1484.92 Q507.49 1484.92 505.429 1483.81 Q503.392 1482.68 502.05 1480.36 M516.54 1471.31 Q516.54 1466.61 514.596 1463.95 Q512.675 1461.27 509.295 1461.27 Q505.916 1461.27 503.971 1463.95 Q502.05 1466.61 502.05 1471.31 Q502.05 1476.01 503.971 1478.7 Q505.916 1481.36 509.295 1481.36 Q512.675 1481.36 514.596 1478.7 Q516.54 1476.01 516.54 1471.31 Z\" fill=\"#000000\" fill-rule=\"evenodd\" fill-opacity=\"1\" /><path clip-path=\"url(#clip8500)\" d=\"M 0 0 M526.031 1478.37 L530.915 1478.37 L530.915 1484.25 L526.031 1484.25 L526.031 1478.37 Z\" fill=\"#000000\" fill-rule=\"evenodd\" fill-opacity=\"1\" /><path clip-path=\"url(#clip8500)\" d=\"M 0 0 M555.082 1480.32 L571.401 1480.32 L571.401 1484.25 L549.457 1484.25 L549.457 1480.32 Q552.119 1477.56 556.702 1472.93 Q561.309 1468.28 562.489 1466.94 Q564.735 1464.41 565.614 1462.68 Q566.517 1460.92 566.517 1459.23 Q566.517 1456.47 564.573 1454.74 Q562.651 1453 559.55 1453 Q557.35 1453 554.897 1453.77 Q552.466 1454.53 549.688 1456.08 L549.688 1451.36 Q552.513 1450.22 554.966 1449.65 Q557.42 1449.07 559.457 1449.07 Q564.827 1449.07 568.022 1451.75 Q571.216 1454.44 571.216 1458.93 Q571.216 1461.06 570.406 1462.98 Q569.619 1464.88 567.512 1467.47 Q566.934 1468.14 563.832 1471.36 Q560.73 1474.55 555.082 1480.32 Z\" fill=\"#000000\" fill-rule=\"evenodd\" fill-opacity=\"1\" /><path clip-path=\"url(#clip8500)\" d=\"M 0 0 M586.471 1452.77 Q582.86 1452.77 581.031 1456.34 Q579.225 1459.88 579.225 1467.01 Q579.225 1474.11 581.031 1477.68 Q582.86 1481.22 586.471 1481.22 Q590.105 1481.22 591.91 1477.68 Q593.739 1474.11 593.739 1467.01 Q593.739 1459.88 591.91 1456.34 Q590.105 1452.77 586.471 1452.77 M586.471 1449.07 Q592.281 1449.07 595.336 1453.67 Q598.415 1458.26 598.415 1467.01 Q598.415 1475.73 595.336 1480.34 Q592.281 1484.92 586.471 1484.92 Q580.661 1484.92 577.582 1480.34 Q574.526 1475.73 574.526 1467.01 Q574.526 1458.26 577.582 1453.67 Q580.661 1449.07 586.471 1449.07 Z\" fill=\"#000000\" fill-rule=\"evenodd\" fill-opacity=\"1\" /><path clip-path=\"url(#clip8500)\" d=\"M 0 0 M603.971 1478.37 L608.855 1478.37 L608.855 1482.35 L605.059 1489.76 L602.072 1489.76 L603.971 1482.35 L603.971 1478.37 Z\" fill=\"#000000\" fill-rule=\"evenodd\" fill-opacity=\"1\" /><path clip-path=\"url(#clip8500)\" d=\"M 0 0 M633.021 1480.32 L649.341 1480.32 L649.341 1484.25 L627.396 1484.25 L627.396 1480.32 Q630.058 1477.56 634.642 1472.93 Q639.248 1468.28 640.429 1466.94 Q642.674 1464.41 643.554 1462.68 Q644.456 1460.92 644.456 1459.23 Q644.456 1456.47 642.512 1454.74 Q640.591 1453 637.489 1453 Q635.29 1453 632.836 1453.77 Q630.406 1454.53 627.628 1456.08 L627.628 1451.36 Q630.452 1450.22 632.906 1449.65 Q635.359 1449.07 637.396 1449.07 Q642.767 1449.07 645.961 1451.75 Q649.156 1454.44 649.156 1458.93 Q649.156 1461.06 648.345 1462.98 Q647.558 1464.88 645.452 1467.47 Q644.873 1468.14 641.771 1471.36 Q638.669 1474.55 633.021 1480.32 Z\" fill=\"#000000\" fill-rule=\"evenodd\" fill-opacity=\"1\" /><path clip-path=\"url(#clip8500)\" d=\"M 0 0 M664.41 1452.77 Q660.799 1452.77 658.97 1456.34 Q657.165 1459.88 657.165 1467.01 Q657.165 1474.11 658.97 1477.68 Q660.799 1481.22 664.41 1481.22 Q668.044 1481.22 669.85 1477.68 Q671.679 1474.11 671.679 1467.01 Q671.679 1459.88 669.85 1456.34 Q668.044 1452.77 664.41 1452.77 M664.41 1449.07 Q670.22 1449.07 673.276 1453.67 Q676.354 1458.26 676.354 1467.01 Q676.354 1475.73 673.276 1480.34 Q670.22 1484.92 664.41 1484.92 Q658.6 1484.92 655.521 1480.34 Q652.466 1475.73 652.466 1467.01 Q652.466 1458.26 655.521 1453.67 Q658.6 1449.07 664.41 1449.07 Z\" fill=\"#000000\" fill-rule=\"evenodd\" fill-opacity=\"1\" /><path clip-path=\"url(#clip8500)\" d=\"M 0 0 M688.044 1450.83 L688.044 1455.39 Q685.382 1454.11 683.021 1453.49 Q680.66 1452.86 678.461 1452.86 Q674.641 1452.86 672.558 1454.34 Q670.498 1455.83 670.498 1458.56 Q670.498 1460.85 671.864 1462.03 Q673.253 1463.19 677.095 1463.9 L679.919 1464.48 Q685.151 1465.48 687.627 1468 Q690.127 1470.5 690.127 1474.71 Q690.127 1479.74 686.748 1482.33 Q683.391 1484.92 676.887 1484.92 Q674.433 1484.92 671.655 1484.37 Q668.901 1483.81 665.938 1482.72 L665.938 1477.91 Q668.785 1479.51 671.516 1480.32 Q674.248 1481.13 676.887 1481.13 Q680.891 1481.13 683.067 1479.55 Q685.243 1477.98 685.243 1475.06 Q685.243 1472.52 683.669 1471.08 Q682.118 1469.65 678.553 1468.93 L675.706 1468.37 Q670.475 1467.33 668.137 1465.11 Q665.799 1462.89 665.799 1458.93 Q665.799 1454.34 669.016 1451.71 Q672.257 1449.07 677.928 1449.07 Q680.359 1449.07 682.882 1449.51 Q685.405 1449.95 688.044 1450.83 Z\" fill=\"#000000\" fill-rule=\"evenodd\" fill-opacity=\"1\" /><path clip-path=\"url(#clip8500)\" d=\"M 0 0 M716.771 1470.22 L716.771 1472.31 L697.188 1472.31 Q697.465 1476.71 699.827 1479.02 Q702.211 1481.31 706.447 1481.31 Q708.901 1481.31 711.192 1480.71 Q713.507 1480.11 715.775 1478.9 L715.775 1482.93 Q713.484 1483.9 711.076 1484.41 Q708.669 1484.92 706.192 1484.92 Q699.989 1484.92 696.354 1481.31 Q692.743 1477.7 692.743 1471.54 Q692.743 1465.18 696.169 1461.45 Q699.618 1457.7 705.451 1457.7 Q710.683 1457.7 713.715 1461.08 Q716.771 1464.44 716.771 1470.22 M712.512 1468.97 Q712.465 1465.48 710.544 1463.4 Q708.646 1461.31 705.498 1461.31 Q701.933 1461.31 699.78 1463.33 Q697.651 1465.34 697.327 1469 L712.512 1468.97 Z\" fill=\"#000000\" fill-rule=\"evenodd\" fill-opacity=\"1\" /><path clip-path=\"url(#clip8500)\" d=\"M 0 0 M725.359 1480.36 L725.359 1494.11 L721.076 1494.11 L721.076 1458.33 L725.359 1458.33 L725.359 1462.26 Q726.701 1459.95 728.738 1458.84 Q730.799 1457.7 733.646 1457.7 Q738.368 1457.7 741.308 1461.45 Q744.271 1465.2 744.271 1471.31 Q744.271 1477.42 741.308 1481.17 Q738.368 1484.92 733.646 1484.92 Q730.799 1484.92 728.738 1483.81 Q726.701 1482.68 725.359 1480.36 M739.849 1471.31 Q739.849 1466.61 737.905 1463.95 Q735.984 1461.27 732.604 1461.27 Q729.224 1461.27 727.28 1463.95 Q725.359 1466.61 725.359 1471.31 Q725.359 1476.01 727.28 1478.7 Q729.224 1481.36 732.604 1481.36 Q735.984 1481.36 737.905 1478.7 Q739.849 1476.01 739.849 1471.31 Z\" fill=\"#000000\" fill-rule=\"evenodd\" fill-opacity=\"1\" /><path clip-path=\"url(#clip8500)\" d=\"M 0 0 M749.34 1478.37 L754.224 1478.37 L754.224 1484.25 L749.34 1484.25 L749.34 1478.37 Z\" fill=\"#000000\" fill-rule=\"evenodd\" fill-opacity=\"1\" /><path clip-path=\"url(#clip8500)\" d=\"M 0 0 M778.391 1480.32 L794.71 1480.32 L794.71 1484.25 L772.766 1484.25 L772.766 1480.32 Q775.428 1477.56 780.011 1472.93 Q784.618 1468.28 785.798 1466.94 Q788.044 1464.41 788.923 1462.68 Q789.826 1460.92 789.826 1459.23 Q789.826 1456.47 787.882 1454.74 Q785.96 1453 782.858 1453 Q780.659 1453 778.206 1453.77 Q775.775 1454.53 772.997 1456.08 L772.997 1451.36 Q775.821 1450.22 778.275 1449.65 Q780.729 1449.07 782.766 1449.07 Q788.136 1449.07 791.331 1451.75 Q794.525 1454.44 794.525 1458.93 Q794.525 1461.06 793.715 1462.98 Q792.928 1464.88 790.821 1467.47 Q790.243 1468.14 787.141 1471.36 Q784.039 1474.55 778.391 1480.32 Z\" fill=\"#000000\" fill-rule=\"evenodd\" fill-opacity=\"1\" /><path clip-path=\"url(#clip8500)\" d=\"M 0 0 M810.358 1465.11 Q807.21 1465.11 805.358 1467.26 Q803.53 1469.41 803.53 1473.16 Q803.53 1476.89 805.358 1479.07 Q807.21 1481.22 810.358 1481.22 Q813.506 1481.22 815.335 1479.07 Q817.187 1476.89 817.187 1473.16 Q817.187 1469.41 815.335 1467.26 Q813.506 1465.11 810.358 1465.11 M819.641 1450.46 L819.641 1454.71 Q817.881 1453.88 816.076 1453.44 Q814.293 1453 812.534 1453 Q807.905 1453 805.451 1456.13 Q803.02 1459.25 802.673 1465.57 Q804.039 1463.56 806.099 1462.49 Q808.159 1461.4 810.636 1461.4 Q815.844 1461.4 818.854 1464.58 Q821.886 1467.72 821.886 1473.16 Q821.886 1478.49 818.738 1481.71 Q815.59 1484.92 810.358 1484.92 Q804.363 1484.92 801.192 1480.34 Q798.02 1475.73 798.02 1467.01 Q798.02 1458.81 801.909 1453.95 Q805.798 1449.07 812.349 1449.07 Q814.108 1449.07 815.891 1449.41 Q817.696 1449.76 819.641 1450.46 Z\" fill=\"#000000\" fill-rule=\"evenodd\" fill-opacity=\"1\" /><path clip-path=\"url(#clip8500)\" d=\"M 0 0 M827.442 1478.37 L832.326 1478.37 L832.326 1482.35 L828.53 1489.76 L825.543 1489.76 L827.442 1482.35 L827.442 1478.37 Z\" fill=\"#000000\" fill-rule=\"evenodd\" fill-opacity=\"1\" /><path clip-path=\"url(#clip8500)\" d=\"M 0 0 M856.492 1480.32 L872.812 1480.32 L872.812 1484.25 L850.867 1484.25 L850.867 1480.32 Q853.529 1477.56 858.113 1472.93 Q862.719 1468.28 863.9 1466.94 Q866.145 1464.41 867.025 1462.68 Q867.927 1460.92 867.927 1459.23 Q867.927 1456.47 865.983 1454.74 Q864.062 1453 860.96 1453 Q858.761 1453 856.307 1453.77 Q853.877 1454.53 851.099 1456.08 L851.099 1451.36 Q853.923 1450.22 856.377 1449.65 Q858.83 1449.07 860.867 1449.07 Q866.238 1449.07 869.432 1451.75 Q872.627 1454.44 872.627 1458.93 Q872.627 1461.06 871.816 1462.98 Q871.029 1464.88 868.923 1467.47 Q868.344 1468.14 865.242 1471.36 Q862.14 1474.55 856.492 1480.32 Z\" fill=\"#000000\" fill-rule=\"evenodd\" fill-opacity=\"1\" /><path clip-path=\"url(#clip8500)\" d=\"M 0 0 M887.881 1452.77 Q884.27 1452.77 882.441 1456.34 Q880.636 1459.88 880.636 1467.01 Q880.636 1474.11 882.441 1477.68 Q884.27 1481.22 887.881 1481.22 Q891.515 1481.22 893.321 1477.68 Q895.15 1474.11 895.15 1467.01 Q895.15 1459.88 893.321 1456.34 Q891.515 1452.77 887.881 1452.77 M887.881 1449.07 Q893.691 1449.07 896.747 1453.67 Q899.825 1458.26 899.825 1467.01 Q899.825 1475.73 896.747 1480.34 Q893.691 1484.92 887.881 1484.92 Q882.071 1484.92 878.992 1480.34 Q875.937 1475.73 875.937 1467.01 Q875.937 1458.26 878.992 1453.67 Q882.071 1449.07 887.881 1449.07 Z\" fill=\"#000000\" fill-rule=\"evenodd\" fill-opacity=\"1\" /><path clip-path=\"url(#clip8500)\" d=\"M 0 0 M958.504 1452.86 Q953.411 1452.86 950.402 1456.66 Q947.416 1460.46 947.416 1467.01 Q947.416 1473.53 950.402 1477.33 Q953.411 1481.13 958.504 1481.13 Q963.596 1481.13 966.559 1477.33 Q969.545 1473.53 969.545 1467.01 Q969.545 1460.46 966.559 1456.66 Q963.596 1452.86 958.504 1452.86 M958.504 1449.07 Q965.772 1449.07 970.124 1453.95 Q974.476 1458.81 974.476 1467.01 Q974.476 1475.18 970.124 1480.06 Q965.772 1484.92 958.504 1484.92 Q951.212 1484.92 946.837 1480.06 Q942.485 1475.2 942.485 1467.01 Q942.485 1458.81 946.837 1453.95 Q951.212 1449.07 958.504 1449.07 Z\" fill=\"#000000\" fill-rule=\"evenodd\" fill-opacity=\"1\" /><path clip-path=\"url(#clip8500)\" d=\"M 0 0 M997.601 1459.32 L997.601 1463.3 Q995.795 1462.31 993.966 1461.82 Q992.161 1461.31 990.309 1461.31 Q986.166 1461.31 983.874 1463.95 Q981.582 1466.57 981.582 1471.31 Q981.582 1476.06 983.874 1478.7 Q986.166 1481.31 990.309 1481.31 Q992.161 1481.31 993.966 1480.83 Q995.795 1480.32 997.601 1479.32 L997.601 1483.26 Q995.818 1484.09 993.897 1484.51 Q991.999 1484.92 989.846 1484.92 Q983.99 1484.92 980.541 1481.24 Q977.092 1477.56 977.092 1471.31 Q977.092 1464.97 980.564 1461.34 Q984.059 1457.7 990.124 1457.7 Q992.091 1457.7 993.966 1458.12 Q995.841 1458.51 997.601 1459.32 Z\" fill=\"#000000\" fill-rule=\"evenodd\" fill-opacity=\"1\" /><path clip-path=\"url(#clip8500)\" d=\"M 0 0 M1006.28 1450.96 L1006.28 1458.33 L1015.05 1458.33 L1015.05 1461.64 L1006.28 1461.64 L1006.28 1475.71 Q1006.28 1478.88 1007.14 1479.78 Q1008.02 1480.69 1010.68 1480.69 L1015.05 1480.69 L1015.05 1484.25 L1010.68 1484.25 Q1005.75 1484.25 1003.87 1482.42 Q1002 1480.57 1002 1475.71 L1002 1461.64 L998.874 1461.64 L998.874 1458.33 L1002 1458.33 L1002 1450.96 L1006.28 1450.96 Z\" fill=\"#000000\" fill-rule=\"evenodd\" fill-opacity=\"1\" /><path clip-path=\"url(#clip8500)\" d=\"M 0 0 M1020.12 1478.37 L1025.01 1478.37 L1025.01 1484.25 L1020.12 1484.25 L1020.12 1478.37 Z\" fill=\"#000000\" fill-rule=\"evenodd\" fill-opacity=\"1\" /><path clip-path=\"url(#clip8500)\" d=\"M 0 0 M1059.31 1465.62 Q1062.67 1466.34 1064.54 1468.6 Q1066.44 1470.87 1066.44 1474.21 Q1066.44 1479.32 1062.92 1482.12 Q1059.41 1484.92 1052.92 1484.92 Q1050.75 1484.92 1048.43 1484.48 Q1046.14 1484.07 1043.69 1483.21 L1043.69 1478.7 Q1045.63 1479.83 1047.95 1480.41 Q1050.26 1480.99 1052.79 1480.99 Q1057.18 1480.99 1059.48 1479.25 Q1061.79 1477.52 1061.79 1474.21 Q1061.79 1471.15 1059.64 1469.44 Q1057.51 1467.7 1053.69 1467.7 L1049.66 1467.7 L1049.66 1463.86 L1053.87 1463.86 Q1057.32 1463.86 1059.15 1462.49 Q1060.98 1461.1 1060.98 1458.51 Q1060.98 1455.85 1059.08 1454.44 Q1057.21 1453 1053.69 1453 Q1051.77 1453 1049.57 1453.42 Q1047.37 1453.84 1044.73 1454.71 L1044.73 1450.55 Q1047.39 1449.81 1049.71 1449.44 Q1052.04 1449.07 1054.11 1449.07 Q1059.43 1449.07 1062.53 1451.5 Q1065.63 1453.9 1065.63 1458.03 Q1065.63 1460.9 1063.99 1462.89 Q1062.35 1464.85 1059.31 1465.62 Z\" fill=\"#000000\" fill-rule=\"evenodd\" fill-opacity=\"1\" /><path clip-path=\"url(#clip8500)\" d=\"M 0 0 M1072 1478.37 L1076.88 1478.37 L1076.88 1482.35 L1073.09 1489.76 L1070.1 1489.76 L1072 1482.35 L1072 1478.37 Z\" fill=\"#000000\" fill-rule=\"evenodd\" fill-opacity=\"1\" /><path clip-path=\"url(#clip8500)\" d=\"M 0 0 M1101.05 1480.32 L1117.37 1480.32 L1117.37 1484.25 L1095.42 1484.25 L1095.42 1480.32 Q1098.09 1477.56 1102.67 1472.93 Q1107.28 1468.28 1108.46 1466.94 Q1110.7 1464.41 1111.58 1462.68 Q1112.48 1460.92 1112.48 1459.23 Q1112.48 1456.47 1110.54 1454.74 Q1108.62 1453 1105.52 1453 Q1103.32 1453 1100.86 1453.77 Q1098.43 1454.53 1095.66 1456.08 L1095.66 1451.36 Q1098.48 1450.22 1100.93 1449.65 Q1103.39 1449.07 1105.42 1449.07 Q1110.79 1449.07 1113.99 1451.75 Q1117.18 1454.44 1117.18 1458.93 Q1117.18 1461.06 1116.37 1462.98 Q1115.59 1464.88 1113.48 1467.47 Q1112.9 1468.14 1109.8 1471.36 Q1106.7 1474.55 1101.05 1480.32 Z\" fill=\"#000000\" fill-rule=\"evenodd\" fill-opacity=\"1\" /><path clip-path=\"url(#clip8500)\" d=\"M 0 0 M1132.44 1452.77 Q1128.83 1452.77 1127 1456.34 Q1125.19 1459.88 1125.19 1467.01 Q1125.19 1474.11 1127 1477.68 Q1128.83 1481.22 1132.44 1481.22 Q1136.07 1481.22 1137.88 1477.68 Q1139.71 1474.11 1139.71 1467.01 Q1139.71 1459.88 1137.88 1456.34 Q1136.07 1452.77 1132.44 1452.77 M1132.44 1449.07 Q1138.25 1449.07 1141.3 1453.67 Q1144.38 1458.26 1144.38 1467.01 Q1144.38 1475.73 1141.3 1480.34 Q1138.25 1484.92 1132.44 1484.92 Q1126.63 1484.92 1123.55 1480.34 Q1120.49 1475.73 1120.49 1467.01 Q1120.49 1458.26 1123.55 1453.67 Q1126.63 1449.07 1132.44 1449.07 Z\" fill=\"#000000\" fill-rule=\"evenodd\" fill-opacity=\"1\" /><path clip-path=\"url(#clip8500)\" d=\"M 0 0 M1205.91 1452.86 Q1200.82 1452.86 1197.81 1456.66 Q1194.82 1460.46 1194.82 1467.01 Q1194.82 1473.53 1197.81 1477.33 Q1200.82 1481.13 1205.91 1481.13 Q1211 1481.13 1213.96 1477.33 Q1216.95 1473.53 1216.95 1467.01 Q1216.95 1460.46 1213.96 1456.66 Q1211 1452.86 1205.91 1452.86 M1205.91 1449.07 Q1213.18 1449.07 1217.53 1453.95 Q1221.88 1458.81 1221.88 1467.01 Q1221.88 1475.18 1217.53 1480.06 Q1213.18 1484.92 1205.91 1484.92 Q1198.62 1484.92 1194.24 1480.06 Q1189.89 1475.2 1189.89 1467.01 Q1189.89 1458.81 1194.24 1453.95 Q1198.62 1449.07 1205.91 1449.07 Z\" fill=\"#000000\" fill-rule=\"evenodd\" fill-opacity=\"1\" /><path clip-path=\"url(#clip8500)\" d=\"M 0 0 M1245 1459.32 L1245 1463.3 Q1243.2 1462.31 1241.37 1461.82 Q1239.56 1461.31 1237.71 1461.31 Q1233.57 1461.31 1231.28 1463.95 Q1228.99 1466.57 1228.99 1471.31 Q1228.99 1476.06 1231.28 1478.7 Q1233.57 1481.31 1237.71 1481.31 Q1239.56 1481.31 1241.37 1480.83 Q1243.2 1480.32 1245 1479.32 L1245 1483.26 Q1243.22 1484.09 1241.3 1484.51 Q1239.4 1484.92 1237.25 1484.92 Q1231.39 1484.92 1227.94 1481.24 Q1224.5 1477.56 1224.5 1471.31 Q1224.5 1464.97 1227.97 1461.34 Q1231.46 1457.7 1237.53 1457.7 Q1239.5 1457.7 1241.37 1458.12 Q1243.25 1458.51 1245 1459.32 Z\" fill=\"#000000\" fill-rule=\"evenodd\" fill-opacity=\"1\" /><path clip-path=\"url(#clip8500)\" d=\"M 0 0 M1253.69 1450.96 L1253.69 1458.33 L1262.46 1458.33 L1262.46 1461.64 L1253.69 1461.64 L1253.69 1475.71 Q1253.69 1478.88 1254.54 1479.78 Q1255.42 1480.69 1258.08 1480.69 L1262.46 1480.69 L1262.46 1484.25 L1258.08 1484.25 Q1253.15 1484.25 1251.28 1482.42 Q1249.4 1480.57 1249.4 1475.71 L1249.4 1461.64 L1246.28 1461.64 L1246.28 1458.33 L1249.4 1458.33 L1249.4 1450.96 L1253.69 1450.96 Z\" fill=\"#000000\" fill-rule=\"evenodd\" fill-opacity=\"1\" /><path clip-path=\"url(#clip8500)\" d=\"M 0 0 M1267.53 1478.37 L1272.41 1478.37 L1272.41 1484.25 L1267.53 1484.25 L1267.53 1478.37 Z\" fill=\"#000000\" fill-rule=\"evenodd\" fill-opacity=\"1\" /><path clip-path=\"url(#clip8500)\" d=\"M 0 0 M1293.36 1480.32 L1301 1480.32 L1301 1453.95 L1292.69 1455.62 L1292.69 1451.36 L1300.95 1449.69 L1305.63 1449.69 L1305.63 1480.32 L1313.27 1480.32 L1313.27 1484.25 L1293.36 1484.25 L1293.36 1480.32 Z\" fill=\"#000000\" fill-rule=\"evenodd\" fill-opacity=\"1\" /><path clip-path=\"url(#clip8500)\" d=\"M 0 0 M1328.34 1452.77 Q1324.73 1452.77 1322.9 1456.34 Q1321.09 1459.88 1321.09 1467.01 Q1321.09 1474.11 1322.9 1477.68 Q1324.73 1481.22 1328.34 1481.22 Q1331.97 1481.22 1333.78 1477.68 Q1335.61 1474.11 1335.61 1467.01 Q1335.61 1459.88 1333.78 1456.34 Q1331.97 1452.77 1328.34 1452.77 M1328.34 1449.07 Q1334.15 1449.07 1337.2 1453.67 Q1340.28 1458.26 1340.28 1467.01 Q1340.28 1475.73 1337.2 1480.34 Q1334.15 1484.92 1328.34 1484.92 Q1322.53 1484.92 1319.45 1480.34 Q1316.39 1475.73 1316.39 1467.01 Q1316.39 1458.26 1319.45 1453.67 Q1322.53 1449.07 1328.34 1449.07 Z\" fill=\"#000000\" fill-rule=\"evenodd\" fill-opacity=\"1\" /><path clip-path=\"url(#clip8500)\" d=\"M 0 0 M1345.84 1478.37 L1350.72 1478.37 L1350.72 1482.35 L1346.93 1489.76 L1343.94 1489.76 L1345.84 1482.35 L1345.84 1478.37 Z\" fill=\"#000000\" fill-rule=\"evenodd\" fill-opacity=\"1\" /><path clip-path=\"url(#clip8500)\" d=\"M 0 0 M1374.89 1480.32 L1391.21 1480.32 L1391.21 1484.25 L1369.26 1484.25 L1369.26 1480.32 Q1371.93 1477.56 1376.51 1472.93 Q1381.12 1468.28 1382.3 1466.94 Q1384.54 1464.41 1385.42 1462.68 Q1386.32 1460.92 1386.32 1459.23 Q1386.32 1456.47 1384.38 1454.74 Q1382.46 1453 1379.36 1453 Q1377.16 1453 1374.7 1453.77 Q1372.27 1454.53 1369.49 1456.08 L1369.49 1451.36 Q1372.32 1450.22 1374.77 1449.65 Q1377.23 1449.07 1379.26 1449.07 Q1384.63 1449.07 1387.83 1451.75 Q1391.02 1454.44 1391.02 1458.93 Q1391.02 1461.06 1390.21 1462.98 Q1389.43 1464.88 1387.32 1467.47 Q1386.74 1468.14 1383.64 1471.36 Q1380.54 1474.55 1374.89 1480.32 Z\" fill=\"#000000\" fill-rule=\"evenodd\" fill-opacity=\"1\" /><path clip-path=\"url(#clip8500)\" d=\"M 0 0 M1406.28 1452.77 Q1402.67 1452.77 1400.84 1456.34 Q1399.03 1459.88 1399.03 1467.01 Q1399.03 1474.11 1400.84 1477.68 Q1402.67 1481.22 1406.28 1481.22 Q1409.91 1481.22 1411.72 1477.68 Q1413.55 1474.11 1413.55 1467.01 Q1413.55 1459.88 1411.72 1456.34 Q1409.91 1452.77 1406.28 1452.77 M1406.28 1449.07 Q1412.09 1449.07 1415.14 1453.67 Q1418.22 1458.26 1418.22 1467.01 Q1418.22 1475.73 1415.14 1480.34 Q1412.09 1484.92 1406.28 1484.92 Q1400.47 1484.92 1397.39 1480.34 Q1394.33 1475.73 1394.33 1467.01 Q1394.33 1458.26 1397.39 1453.67 Q1400.47 1449.07 1406.28 1449.07 Z\" fill=\"#000000\" fill-rule=\"evenodd\" fill-opacity=\"1\" /><path clip-path=\"url(#clip8500)\" d=\"M 0 0 M1429.22 1452.86 Q1424.12 1452.86 1421.11 1456.66 Q1418.13 1460.46 1418.13 1467.01 Q1418.13 1473.53 1421.11 1477.33 Q1424.12 1481.13 1429.22 1481.13 Q1434.31 1481.13 1437.27 1477.33 Q1440.26 1473.53 1440.26 1467.01 Q1440.26 1460.46 1437.27 1456.66 Q1434.31 1452.86 1429.22 1452.86 M1429.22 1449.07 Q1436.49 1449.07 1440.84 1453.95 Q1445.19 1458.81 1445.19 1467.01 Q1445.19 1475.18 1440.84 1480.06 Q1436.49 1484.92 1429.22 1484.92 Q1421.93 1484.92 1417.55 1480.06 Q1413.2 1475.2 1413.2 1467.01 Q1413.2 1458.81 1417.55 1453.95 Q1421.93 1449.07 1429.22 1449.07 Z\" fill=\"#000000\" fill-rule=\"evenodd\" fill-opacity=\"1\" /><path clip-path=\"url(#clip8500)\" d=\"M 0 0 M1468.31 1459.32 L1468.31 1463.3 Q1466.51 1462.31 1464.68 1461.82 Q1462.87 1461.31 1461.02 1461.31 Q1456.88 1461.31 1454.59 1463.95 Q1452.3 1466.57 1452.3 1471.31 Q1452.3 1476.06 1454.59 1478.7 Q1456.88 1481.31 1461.02 1481.31 Q1462.87 1481.31 1464.68 1480.83 Q1466.51 1480.32 1468.31 1479.32 L1468.31 1483.26 Q1466.53 1484.09 1464.61 1484.51 Q1462.71 1484.92 1460.56 1484.92 Q1454.7 1484.92 1451.25 1481.24 Q1447.8 1477.56 1447.8 1471.31 Q1447.8 1464.97 1451.28 1461.34 Q1454.77 1457.7 1460.84 1457.7 Q1462.8 1457.7 1464.68 1458.12 Q1466.55 1458.51 1468.31 1459.32 Z\" fill=\"#000000\" fill-rule=\"evenodd\" fill-opacity=\"1\" /><path clip-path=\"url(#clip8500)\" d=\"M 0 0 M1476.99 1450.96 L1476.99 1458.33 L1485.77 1458.33 L1485.77 1461.64 L1476.99 1461.64 L1476.99 1475.71 Q1476.99 1478.88 1477.85 1479.78 Q1478.73 1480.69 1481.39 1480.69 L1485.77 1480.69 L1485.77 1484.25 L1481.39 1484.25 Q1476.46 1484.25 1474.59 1482.42 Q1472.71 1480.57 1472.71 1475.71 L1472.71 1461.64 L1469.59 1461.64 L1469.59 1458.33 L1472.71 1458.33 L1472.71 1450.96 L1476.99 1450.96 Z\" fill=\"#000000\" fill-rule=\"evenodd\" fill-opacity=\"1\" /><path clip-path=\"url(#clip8500)\" d=\"M 0 0 M1490.84 1478.37 L1495.72 1478.37 L1495.72 1484.25 L1490.84 1484.25 L1490.84 1478.37 Z\" fill=\"#000000\" fill-rule=\"evenodd\" fill-opacity=\"1\" /><path clip-path=\"url(#clip8500)\" d=\"M 0 0 M1516.67 1480.32 L1524.31 1480.32 L1524.31 1453.95 L1516 1455.62 L1516 1451.36 L1524.26 1449.69 L1528.94 1449.69 L1528.94 1480.32 L1536.58 1480.32 L1536.58 1484.25 L1516.67 1484.25 L1516.67 1480.32 Z\" fill=\"#000000\" fill-rule=\"evenodd\" fill-opacity=\"1\" /><path clip-path=\"url(#clip8500)\" d=\"M 0 0 M1552.23 1465.11 Q1549.08 1465.11 1547.23 1467.26 Q1545.4 1469.41 1545.4 1473.16 Q1545.4 1476.89 1547.23 1479.07 Q1549.08 1481.22 1552.23 1481.22 Q1555.37 1481.22 1557.2 1479.07 Q1559.05 1476.89 1559.05 1473.16 Q1559.05 1469.41 1557.2 1467.26 Q1555.37 1465.11 1552.23 1465.11 M1561.51 1450.46 L1561.51 1454.71 Q1559.75 1453.88 1557.94 1453.44 Q1556.16 1453 1554.4 1453 Q1549.77 1453 1547.32 1456.13 Q1544.89 1459.25 1544.54 1465.57 Q1545.91 1463.56 1547.97 1462.49 Q1550.03 1461.4 1552.5 1461.4 Q1557.71 1461.4 1560.72 1464.58 Q1563.75 1467.72 1563.75 1473.16 Q1563.75 1478.49 1560.6 1481.71 Q1557.46 1484.92 1552.23 1484.92 Q1546.23 1484.92 1543.06 1480.34 Q1539.89 1475.73 1539.89 1467.01 Q1539.89 1458.81 1543.78 1453.95 Q1547.67 1449.07 1554.22 1449.07 Q1555.98 1449.07 1557.76 1449.41 Q1559.56 1449.76 1561.51 1450.46 Z\" fill=\"#000000\" fill-rule=\"evenodd\" fill-opacity=\"1\" /><path clip-path=\"url(#clip8500)\" d=\"M 0 0 M1569.31 1478.37 L1574.19 1478.37 L1574.19 1482.35 L1570.4 1489.76 L1567.41 1489.76 L1569.31 1482.35 L1569.31 1478.37 Z\" fill=\"#000000\" fill-rule=\"evenodd\" fill-opacity=\"1\" /><path clip-path=\"url(#clip8500)\" d=\"M 0 0 M1598.36 1480.32 L1614.68 1480.32 L1614.68 1484.25 L1592.73 1484.25 L1592.73 1480.32 Q1595.4 1477.56 1599.98 1472.93 Q1604.59 1468.28 1605.77 1466.94 Q1608.01 1464.41 1608.89 1462.68 Q1609.79 1460.92 1609.79 1459.23 Q1609.79 1456.47 1607.85 1454.74 Q1605.93 1453 1602.83 1453 Q1600.63 1453 1598.17 1453.77 Q1595.74 1454.53 1592.97 1456.08 L1592.97 1451.36 Q1595.79 1450.22 1598.24 1449.65 Q1600.7 1449.07 1602.73 1449.07 Q1608.1 1449.07 1611.3 1451.75 Q1614.49 1454.44 1614.49 1458.93 Q1614.49 1461.06 1613.68 1462.98 Q1612.9 1464.88 1610.79 1467.47 Q1610.21 1468.14 1607.11 1471.36 Q1604.01 1474.55 1598.36 1480.32 Z\" fill=\"#000000\" fill-rule=\"evenodd\" fill-opacity=\"1\" /><path clip-path=\"url(#clip8500)\" d=\"M 0 0 M1629.75 1452.77 Q1626.14 1452.77 1624.31 1456.34 Q1622.5 1459.88 1622.5 1467.01 Q1622.5 1474.11 1624.31 1477.68 Q1626.14 1481.22 1629.75 1481.22 Q1633.38 1481.22 1635.19 1477.68 Q1637.02 1474.11 1637.02 1467.01 Q1637.02 1459.88 1635.19 1456.34 Q1633.38 1452.77 1629.75 1452.77 M1629.75 1449.07 Q1635.56 1449.07 1638.61 1453.67 Q1641.69 1458.26 1641.69 1467.01 Q1641.69 1475.73 1638.61 1480.34 Q1635.56 1484.92 1629.75 1484.92 Q1623.94 1484.92 1620.86 1480.34 Q1617.8 1475.73 1617.8 1467.01 Q1617.8 1458.26 1620.86 1453.67 Q1623.94 1449.07 1629.75 1449.07 Z\" fill=\"#000000\" fill-rule=\"evenodd\" fill-opacity=\"1\" /><path clip-path=\"url(#clip8500)\" d=\"M 0 0 M1690.43 1452.86 Q1685.34 1452.86 1682.33 1456.66 Q1679.34 1460.46 1679.34 1467.01 Q1679.34 1473.53 1682.33 1477.33 Q1685.34 1481.13 1690.43 1481.13 Q1695.52 1481.13 1698.48 1477.33 Q1701.47 1473.53 1701.47 1467.01 Q1701.47 1460.46 1698.48 1456.66 Q1695.52 1452.86 1690.43 1452.86 M1690.43 1449.07 Q1697.7 1449.07 1702.05 1453.95 Q1706.4 1458.81 1706.4 1467.01 Q1706.4 1475.18 1702.05 1480.06 Q1697.7 1484.92 1690.43 1484.92 Q1683.14 1484.92 1678.76 1480.06 Q1674.41 1475.2 1674.41 1467.01 Q1674.41 1458.81 1678.76 1453.95 Q1683.14 1449.07 1690.43 1449.07 Z\" fill=\"#000000\" fill-rule=\"evenodd\" fill-opacity=\"1\" /><path clip-path=\"url(#clip8500)\" d=\"M 0 0 M1729.53 1459.32 L1729.53 1463.3 Q1727.72 1462.31 1725.89 1461.82 Q1724.09 1461.31 1722.23 1461.31 Q1718.09 1461.31 1715.8 1463.95 Q1713.51 1466.57 1713.51 1471.31 Q1713.51 1476.06 1715.8 1478.7 Q1718.09 1481.31 1722.23 1481.31 Q1724.09 1481.31 1725.89 1480.83 Q1727.72 1480.32 1729.53 1479.32 L1729.53 1483.26 Q1727.74 1484.09 1725.82 1484.51 Q1723.92 1484.92 1721.77 1484.92 Q1715.91 1484.92 1712.47 1481.24 Q1709.02 1477.56 1709.02 1471.31 Q1709.02 1464.97 1712.49 1461.34 Q1715.98 1457.7 1722.05 1457.7 Q1724.02 1457.7 1725.89 1458.12 Q1727.77 1458.51 1729.53 1459.32 Z\" fill=\"#000000\" fill-rule=\"evenodd\" fill-opacity=\"1\" /><path clip-path=\"url(#clip8500)\" d=\"M 0 0 M1738.21 1450.96 L1738.21 1458.33 L1746.98 1458.33 L1746.98 1461.64 L1738.21 1461.64 L1738.21 1475.71 Q1738.21 1478.88 1739.06 1479.78 Q1739.94 1480.69 1742.6 1480.69 L1746.98 1480.69 L1746.98 1484.25 L1742.6 1484.25 Q1737.67 1484.25 1735.8 1482.42 Q1733.92 1480.57 1733.92 1475.71 L1733.92 1461.64 L1730.8 1461.64 L1730.8 1458.33 L1733.92 1458.33 L1733.92 1450.96 L1738.21 1450.96 Z\" fill=\"#000000\" fill-rule=\"evenodd\" fill-opacity=\"1\" /><path clip-path=\"url(#clip8500)\" d=\"M 0 0 M1752.05 1478.37 L1756.93 1478.37 L1756.93 1484.25 L1752.05 1484.25 L1752.05 1478.37 Z\" fill=\"#000000\" fill-rule=\"evenodd\" fill-opacity=\"1\" /><path clip-path=\"url(#clip8500)\" d=\"M 0 0 M1781.1 1480.32 L1797.42 1480.32 L1797.42 1484.25 L1775.47 1484.25 L1775.47 1480.32 Q1778.14 1477.56 1782.72 1472.93 Q1787.33 1468.28 1788.51 1466.94 Q1790.75 1464.41 1791.63 1462.68 Q1792.53 1460.92 1792.53 1459.23 Q1792.53 1456.47 1790.59 1454.74 Q1788.67 1453 1785.57 1453 Q1783.37 1453 1780.91 1453.77 Q1778.48 1454.53 1775.71 1456.08 L1775.71 1451.36 Q1778.53 1450.22 1780.98 1449.65 Q1783.44 1449.07 1785.47 1449.07 Q1790.84 1449.07 1794.04 1451.75 Q1797.23 1454.44 1797.23 1458.93 Q1797.23 1461.06 1796.42 1462.98 Q1795.64 1464.88 1793.53 1467.47 Q1792.95 1468.14 1789.85 1471.36 Q1786.75 1474.55 1781.1 1480.32 Z\" fill=\"#000000\" fill-rule=\"evenodd\" fill-opacity=\"1\" /><path clip-path=\"url(#clip8500)\" d=\"M 0 0 M1816.65 1465.62 Q1820.01 1466.34 1821.89 1468.6 Q1823.78 1470.87 1823.78 1474.21 Q1823.78 1479.32 1820.27 1482.12 Q1816.75 1484.92 1810.27 1484.92 Q1808.09 1484.92 1805.78 1484.48 Q1803.48 1484.07 1801.03 1483.21 L1801.03 1478.7 Q1802.97 1479.83 1805.29 1480.41 Q1807.6 1480.99 1810.13 1480.99 Q1814.53 1480.99 1816.82 1479.25 Q1819.13 1477.52 1819.13 1474.21 Q1819.13 1471.15 1816.98 1469.44 Q1814.85 1467.7 1811.03 1467.7 L1807 1467.7 L1807 1463.86 L1811.21 1463.86 Q1814.66 1463.86 1816.49 1462.49 Q1818.32 1461.1 1818.32 1458.51 Q1818.32 1455.85 1816.42 1454.44 Q1814.55 1453 1811.03 1453 Q1809.11 1453 1806.91 1453.42 Q1804.71 1453.84 1802.07 1454.71 L1802.07 1450.55 Q1804.73 1449.81 1807.05 1449.44 Q1809.39 1449.07 1811.45 1449.07 Q1816.77 1449.07 1819.87 1451.5 Q1822.97 1453.9 1822.97 1458.03 Q1822.97 1460.9 1821.33 1462.89 Q1819.69 1464.85 1816.65 1465.62 Z\" fill=\"#000000\" fill-rule=\"evenodd\" fill-opacity=\"1\" /><path clip-path=\"url(#clip8500)\" d=\"M 0 0 M1829.34 1478.37 L1834.22 1478.37 L1834.22 1482.35 L1830.43 1489.76 L1827.44 1489.76 L1829.34 1482.35 L1829.34 1478.37 Z\" fill=\"#000000\" fill-rule=\"evenodd\" fill-opacity=\"1\" /><path clip-path=\"url(#clip8500)\" d=\"M 0 0 M1858.39 1480.32 L1874.71 1480.32 L1874.71 1484.25 L1852.77 1484.25 L1852.77 1480.32 Q1855.43 1477.56 1860.01 1472.93 Q1864.62 1468.28 1865.8 1466.94 Q1868.04 1464.41 1868.92 1462.68 Q1869.83 1460.92 1869.83 1459.23 Q1869.83 1456.47 1867.88 1454.74 Q1865.96 1453 1862.86 1453 Q1860.66 1453 1858.21 1453.77 Q1855.77 1454.53 1853 1456.08 L1853 1451.36 Q1855.82 1450.22 1858.27 1449.65 Q1860.73 1449.07 1862.77 1449.07 Q1868.14 1449.07 1871.33 1451.75 Q1874.52 1454.44 1874.52 1458.93 Q1874.52 1461.06 1873.71 1462.98 Q1872.93 1464.88 1870.82 1467.47 Q1870.24 1468.14 1867.14 1471.36 Q1864.04 1474.55 1858.39 1480.32 Z\" fill=\"#000000\" fill-rule=\"evenodd\" fill-opacity=\"1\" /><path clip-path=\"url(#clip8500)\" d=\"M 0 0 M1889.78 1452.77 Q1886.17 1452.77 1884.34 1456.34 Q1882.53 1459.88 1882.53 1467.01 Q1882.53 1474.11 1884.34 1477.68 Q1886.17 1481.22 1889.78 1481.22 Q1893.41 1481.22 1895.22 1477.68 Q1897.05 1474.11 1897.05 1467.01 Q1897.05 1459.88 1895.22 1456.34 Q1893.41 1452.77 1889.78 1452.77 M1889.78 1449.07 Q1895.59 1449.07 1898.65 1453.67 Q1901.72 1458.26 1901.72 1467.01 Q1901.72 1475.73 1898.65 1480.34 Q1895.59 1484.92 1889.78 1484.92 Q1883.97 1484.92 1880.89 1480.34 Q1877.84 1475.73 1877.84 1467.01 Q1877.84 1458.26 1880.89 1453.67 Q1883.97 1449.07 1889.78 1449.07 Z\" fill=\"#000000\" fill-rule=\"evenodd\" fill-opacity=\"1\" /><path clip-path=\"url(#clip8500)\" d=\"M 0 0 M1950.25 1452.86 Q1945.16 1452.86 1942.15 1456.66 Q1939.16 1460.46 1939.16 1467.01 Q1939.16 1473.53 1942.15 1477.33 Q1945.16 1481.13 1950.25 1481.13 Q1955.34 1481.13 1958.31 1477.33 Q1961.29 1473.53 1961.29 1467.01 Q1961.29 1460.46 1958.31 1456.66 Q1955.34 1452.86 1950.25 1452.86 M1950.25 1449.07 Q1957.52 1449.07 1961.87 1453.95 Q1966.22 1458.81 1966.22 1467.01 Q1966.22 1475.18 1961.87 1480.06 Q1957.52 1484.92 1950.25 1484.92 Q1942.96 1484.92 1938.58 1480.06 Q1934.23 1475.2 1934.23 1467.01 Q1934.23 1458.81 1938.58 1453.95 Q1942.96 1449.07 1950.25 1449.07 Z\" fill=\"#000000\" fill-rule=\"evenodd\" fill-opacity=\"1\" /><path clip-path=\"url(#clip8500)\" d=\"M 0 0 M1989.35 1459.32 L1989.35 1463.3 Q1987.54 1462.31 1985.71 1461.82 Q1983.91 1461.31 1982.06 1461.31 Q1977.91 1461.31 1975.62 1463.95 Q1973.33 1466.57 1973.33 1471.31 Q1973.33 1476.06 1975.62 1478.7 Q1977.91 1481.31 1982.06 1481.31 Q1983.91 1481.31 1985.71 1480.83 Q1987.54 1480.32 1989.35 1479.32 L1989.35 1483.26 Q1987.57 1484.09 1985.64 1484.51 Q1983.75 1484.92 1981.59 1484.92 Q1975.74 1484.92 1972.29 1481.24 Q1968.84 1477.56 1968.84 1471.31 Q1968.84 1464.97 1972.31 1461.34 Q1975.81 1457.7 1981.87 1457.7 Q1983.84 1457.7 1985.71 1458.12 Q1987.59 1458.51 1989.35 1459.32 Z\" fill=\"#000000\" fill-rule=\"evenodd\" fill-opacity=\"1\" /><path clip-path=\"url(#clip8500)\" d=\"M 0 0 M1998.03 1450.96 L1998.03 1458.33 L2006.8 1458.33 L2006.8 1461.64 L1998.03 1461.64 L1998.03 1475.71 Q1998.03 1478.88 1998.89 1479.78 Q1999.77 1480.69 2002.43 1480.69 L2006.8 1480.69 L2006.8 1484.25 L2002.43 1484.25 Q1997.5 1484.25 1995.62 1482.42 Q1993.75 1480.57 1993.75 1475.71 L1993.75 1461.64 L1990.62 1461.64 L1990.62 1458.33 L1993.75 1458.33 L1993.75 1450.96 L1998.03 1450.96 Z\" fill=\"#000000\" fill-rule=\"evenodd\" fill-opacity=\"1\" /><path clip-path=\"url(#clip8500)\" d=\"M 0 0 M2011.87 1478.37 L2016.76 1478.37 L2016.76 1484.25 L2011.87 1484.25 L2011.87 1478.37 Z\" fill=\"#000000\" fill-rule=\"evenodd\" fill-opacity=\"1\" /><path clip-path=\"url(#clip8500)\" d=\"M 0 0 M2051.06 1465.62 Q2054.42 1466.34 2056.29 1468.6 Q2058.19 1470.87 2058.19 1474.21 Q2058.19 1479.32 2054.67 1482.12 Q2051.15 1484.92 2044.67 1484.92 Q2042.5 1484.92 2040.18 1484.48 Q2037.89 1484.07 2035.44 1483.21 L2035.44 1478.7 Q2037.38 1479.83 2039.7 1480.41 Q2042.01 1480.99 2044.53 1480.99 Q2048.93 1480.99 2051.22 1479.25 Q2053.54 1477.52 2053.54 1474.21 Q2053.54 1471.15 2051.39 1469.44 Q2049.26 1467.7 2045.44 1467.7 L2041.41 1467.7 L2041.41 1463.86 L2045.62 1463.86 Q2049.07 1463.86 2050.9 1462.49 Q2052.73 1461.1 2052.73 1458.51 Q2052.73 1455.85 2050.83 1454.44 Q2048.95 1453 2045.44 1453 Q2043.51 1453 2041.32 1453.42 Q2039.12 1453.84 2036.48 1454.71 L2036.48 1450.55 Q2039.14 1449.81 2041.45 1449.44 Q2043.79 1449.07 2045.85 1449.07 Q2051.18 1449.07 2054.28 1451.5 Q2057.38 1453.9 2057.38 1458.03 Q2057.38 1460.9 2055.74 1462.89 Q2054.09 1464.85 2051.06 1465.62 Z\" fill=\"#000000\" fill-rule=\"evenodd\" fill-opacity=\"1\" /><path clip-path=\"url(#clip8500)\" d=\"M 0 0 M2073.26 1452.77 Q2069.65 1452.77 2067.82 1456.34 Q2066.01 1459.88 2066.01 1467.01 Q2066.01 1474.11 2067.82 1477.68 Q2069.65 1481.22 2073.26 1481.22 Q2076.89 1481.22 2078.7 1477.68 Q2080.53 1474.11 2080.53 1467.01 Q2080.53 1459.88 2078.7 1456.34 Q2076.89 1452.77 2073.26 1452.77 M2073.26 1449.07 Q2079.07 1449.07 2082.13 1453.67 Q2085.2 1458.26 2085.2 1467.01 Q2085.2 1475.73 2082.13 1480.34 Q2079.07 1484.92 2073.26 1484.92 Q2067.45 1484.92 2064.37 1480.34 Q2061.32 1475.73 2061.32 1467.01 Q2061.32 1458.26 2064.37 1453.67 Q2067.45 1449.07 2073.26 1449.07 Z\" fill=\"#000000\" fill-rule=\"evenodd\" fill-opacity=\"1\" /><path clip-path=\"url(#clip8500)\" d=\"M 0 0 M2090.76 1478.37 L2095.64 1478.37 L2095.64 1482.35 L2091.85 1489.76 L2088.86 1489.76 L2090.76 1482.35 L2090.76 1478.37 Z\" fill=\"#000000\" fill-rule=\"evenodd\" fill-opacity=\"1\" /><path clip-path=\"url(#clip8500)\" d=\"M 0 0 M2119.81 1480.32 L2136.13 1480.32 L2136.13 1484.25 L2114.19 1484.25 L2114.19 1480.32 Q2116.85 1477.56 2121.43 1472.93 Q2126.04 1468.28 2127.22 1466.94 Q2129.46 1464.41 2130.34 1462.68 Q2131.25 1460.92 2131.25 1459.23 Q2131.25 1456.47 2129.3 1454.74 Q2127.38 1453 2124.28 1453 Q2122.08 1453 2119.63 1453.77 Q2117.2 1454.53 2114.42 1456.08 L2114.42 1451.36 Q2117.24 1450.22 2119.7 1449.65 Q2122.15 1449.07 2124.19 1449.07 Q2129.56 1449.07 2132.75 1451.75 Q2135.95 1454.44 2135.95 1458.93 Q2135.95 1461.06 2135.13 1462.98 Q2134.35 1464.88 2132.24 1467.47 Q2131.66 1468.14 2128.56 1471.36 Q2125.46 1474.55 2119.81 1480.32 Z\" fill=\"#000000\" fill-rule=\"evenodd\" fill-opacity=\"1\" /><path clip-path=\"url(#clip8500)\" d=\"M 0 0 M2151.2 1452.77 Q2147.59 1452.77 2145.76 1456.34 Q2143.95 1459.88 2143.95 1467.01 Q2143.95 1474.11 2145.76 1477.68 Q2147.59 1481.22 2151.2 1481.22 Q2154.83 1481.22 2156.64 1477.68 Q2158.47 1474.11 2158.47 1467.01 Q2158.47 1459.88 2156.64 1456.34 Q2154.83 1452.77 2151.2 1452.77 M2151.2 1449.07 Q2157.01 1449.07 2160.07 1453.67 Q2163.14 1458.26 2163.14 1467.01 Q2163.14 1475.73 2160.07 1480.34 Q2157.01 1484.92 2151.2 1484.92 Q2145.39 1484.92 2142.31 1480.34 Q2139.26 1475.73 2139.26 1467.01 Q2139.26 1458.26 2142.31 1453.67 Q2145.39 1449.07 2151.2 1449.07 Z\" fill=\"#000000\" fill-rule=\"evenodd\" fill-opacity=\"1\" /><path clip-path=\"url(#clip8500)\" d=\"M 0 0 M2169.82 1449.69 L2176.12 1449.69 L2191.44 1478.6 L2191.44 1449.69 L2195.98 1449.69 L2195.98 1484.25 L2189.68 1484.25 L2174.36 1455.34 L2174.36 1484.25 L2169.82 1484.25 L2169.82 1449.69 Z\" fill=\"#000000\" fill-rule=\"evenodd\" fill-opacity=\"1\" /><path clip-path=\"url(#clip8500)\" d=\"M 0 0 M2210.49 1461.31 Q2207.07 1461.31 2205.08 1464 Q2203.09 1466.66 2203.09 1471.31 Q2203.09 1475.96 2205.05 1478.65 Q2207.04 1481.31 2210.49 1481.31 Q2213.9 1481.31 2215.89 1478.63 Q2217.88 1475.94 2217.88 1471.31 Q2217.88 1466.71 2215.89 1464.02 Q2213.9 1461.31 2210.49 1461.31 M2210.49 1457.7 Q2216.05 1457.7 2219.22 1461.31 Q2222.39 1464.92 2222.39 1471.31 Q2222.39 1477.68 2219.22 1481.31 Q2216.05 1484.92 2210.49 1484.92 Q2204.91 1484.92 2201.74 1481.31 Q2198.6 1477.68 2198.6 1471.31 Q2198.6 1464.92 2201.74 1461.31 Q2204.91 1457.7 2210.49 1457.7 Z\" fill=\"#000000\" fill-rule=\"evenodd\" fill-opacity=\"1\" /><path clip-path=\"url(#clip8500)\" d=\"M 0 0 M2223.8 1458.33 L2228.32 1458.33 L2236.42 1480.09 L2244.52 1458.33 L2249.03 1458.33 L2239.31 1484.25 L2233.53 1484.25 L2223.8 1458.33 Z\" fill=\"#000000\" fill-rule=\"evenodd\" fill-opacity=\"1\" /><path clip-path=\"url(#clip8500)\" d=\"M 0 0 M2250.42 1478.37 L2255.31 1478.37 L2255.31 1484.25 L2250.42 1484.25 L2250.42 1478.37 Z\" fill=\"#000000\" fill-rule=\"evenodd\" fill-opacity=\"1\" /><path clip-path=\"url(#clip8500)\" d=\"M 0 0 M2275.49 1449.69 L2293.85 1449.69 L2293.85 1453.63 L2279.78 1453.63 L2279.78 1462.1 Q2280.79 1461.75 2281.81 1461.59 Q2282.83 1461.4 2283.85 1461.4 Q2289.64 1461.4 2293.02 1464.58 Q2296.4 1467.75 2296.4 1473.16 Q2296.4 1478.74 2292.92 1481.84 Q2289.45 1484.92 2283.13 1484.92 Q2280.96 1484.92 2278.69 1484.55 Q2276.44 1484.18 2274.03 1483.44 L2274.03 1478.74 Q2276.12 1479.88 2278.34 1480.43 Q2280.56 1480.99 2283.04 1480.99 Q2287.04 1480.99 2289.38 1478.88 Q2291.72 1476.78 2291.72 1473.16 Q2291.72 1469.55 2289.38 1467.45 Q2287.04 1465.34 2283.04 1465.34 Q2281.16 1465.34 2279.29 1465.76 Q2277.44 1466.17 2275.49 1467.05 L2275.49 1449.69 Z\" fill=\"#000000\" fill-rule=\"evenodd\" fill-opacity=\"1\" /><path clip-path=\"url(#clip8500)\" d=\"M 0 0 M2301.95 1478.37 L2306.84 1478.37 L2306.84 1482.35 L2303.04 1489.76 L2300.05 1489.76 L2301.95 1482.35 L2301.95 1478.37 Z\" fill=\"#000000\" fill-rule=\"evenodd\" fill-opacity=\"1\" /><path clip-path=\"url(#clip8500)\" d=\"M 0 0 M2331 1480.32 L2347.32 1480.32 L2347.32 1484.25 L2325.38 1484.25 L2325.38 1480.32 Q2328.04 1477.56 2332.62 1472.93 Q2337.23 1468.28 2338.41 1466.94 Q2340.65 1464.41 2341.53 1462.68 Q2342.44 1460.92 2342.44 1459.23 Q2342.44 1456.47 2340.49 1454.74 Q2338.57 1453 2335.47 1453 Q2333.27 1453 2330.82 1453.77 Q2328.39 1454.53 2325.61 1456.08 L2325.61 1451.36 Q2328.43 1450.22 2330.89 1449.65 Q2333.34 1449.07 2335.38 1449.07 Q2340.75 1449.07 2343.94 1451.75 Q2347.14 1454.44 2347.14 1458.93 Q2347.14 1461.06 2346.33 1462.98 Q2345.54 1464.88 2343.43 1467.47 Q2342.85 1468.14 2339.75 1471.36 Q2336.65 1474.55 2331 1480.32 Z\" fill=\"#000000\" fill-rule=\"evenodd\" fill-opacity=\"1\" /><path clip-path=\"url(#clip8500)\" d=\"M 0 0 M2362.39 1452.77 Q2358.78 1452.77 2356.95 1456.34 Q2355.15 1459.88 2355.15 1467.01 Q2355.15 1474.11 2356.95 1477.68 Q2358.78 1481.22 2362.39 1481.22 Q2366.02 1481.22 2367.83 1477.68 Q2369.66 1474.11 2369.66 1467.01 Q2369.66 1459.88 2367.83 1456.34 Q2366.02 1452.77 2362.39 1452.77 M2362.39 1449.07 Q2368.2 1449.07 2371.26 1453.67 Q2374.33 1458.26 2374.33 1467.01 Q2374.33 1475.73 2371.26 1480.34 Q2368.2 1484.92 2362.39 1484.92 Q2356.58 1484.92 2353.5 1480.34 Q2350.45 1475.73 2350.45 1467.01 Q2350.45 1458.26 2353.5 1453.67 Q2356.58 1449.07 2362.39 1449.07 Z\" fill=\"#000000\" fill-rule=\"evenodd\" fill-opacity=\"1\" /><path clip-path=\"url(#clip8500)\" d=\"M 0 0 M2417.85 1449.69 L2424.15 1449.69 L2439.47 1478.6 L2439.47 1449.69 L2444.01 1449.69 L2444.01 1484.25 L2437.71 1484.25 L2422.39 1455.34 L2422.39 1484.25 L2417.85 1484.25 L2417.85 1449.69 Z\" fill=\"#000000\" fill-rule=\"evenodd\" fill-opacity=\"1\" /><path clip-path=\"url(#clip8500)\" d=\"M 0 0 M2458.52 1461.31 Q2455.1 1461.31 2453.11 1464 Q2451.11 1466.66 2451.11 1471.31 Q2451.11 1475.96 2453.08 1478.65 Q2455.07 1481.31 2458.52 1481.31 Q2461.93 1481.31 2463.92 1478.63 Q2465.91 1475.94 2465.91 1471.31 Q2465.91 1466.71 2463.92 1464.02 Q2461.93 1461.31 2458.52 1461.31 M2458.52 1457.7 Q2464.08 1457.7 2467.25 1461.31 Q2470.42 1464.92 2470.42 1471.31 Q2470.42 1477.68 2467.25 1481.31 Q2464.08 1484.92 2458.52 1484.92 Q2452.94 1484.92 2449.77 1481.31 Q2446.62 1477.68 2446.62 1471.31 Q2446.62 1464.92 2449.77 1461.31 Q2452.94 1457.7 2458.52 1457.7 Z\" fill=\"#000000\" fill-rule=\"evenodd\" fill-opacity=\"1\" /><path clip-path=\"url(#clip8500)\" d=\"M 0 0 M2471.83 1458.33 L2476.35 1458.33 L2484.45 1480.09 L2492.55 1458.33 L2497.06 1458.33 L2487.34 1484.25 L2481.55 1484.25 L2471.83 1458.33 Z\" fill=\"#000000\" fill-rule=\"evenodd\" fill-opacity=\"1\" /><path clip-path=\"url(#clip8500)\" d=\"M 0 0 M2498.45 1478.37 L2503.34 1478.37 L2503.34 1484.25 L2498.45 1484.25 L2498.45 1478.37 Z\" fill=\"#000000\" fill-rule=\"evenodd\" fill-opacity=\"1\" /><path clip-path=\"url(#clip8500)\" d=\"M 0 0 M2524.29 1480.32 L2531.92 1480.32 L2531.92 1453.95 L2523.61 1455.62 L2523.61 1451.36 L2531.88 1449.69 L2536.55 1449.69 L2536.55 1480.32 L2544.19 1480.32 L2544.19 1484.25 L2524.29 1484.25 L2524.29 1480.32 Z\" fill=\"#000000\" fill-rule=\"evenodd\" fill-opacity=\"1\" /><path clip-path=\"url(#clip8500)\" d=\"M 0 0 M2553.29 1480.32 L2569.61 1480.32 L2569.61 1484.25 L2547.67 1484.25 L2547.67 1480.32 Q2550.33 1477.56 2554.91 1472.93 Q2559.52 1468.28 2560.7 1466.94 Q2562.94 1464.41 2563.82 1462.68 Q2564.73 1460.92 2564.73 1459.23 Q2564.73 1456.47 2562.78 1454.74 Q2560.86 1453 2557.76 1453 Q2555.56 1453 2553.11 1453.77 Q2550.67 1454.53 2547.9 1456.08 L2547.9 1451.36 Q2550.72 1450.22 2553.17 1449.65 Q2555.63 1449.07 2557.67 1449.07 Q2563.04 1449.07 2566.23 1451.75 Q2569.42 1454.44 2569.42 1458.93 Q2569.42 1461.06 2568.61 1462.98 Q2567.83 1464.88 2565.72 1467.47 Q2565.14 1468.14 2562.04 1471.36 Q2558.94 1474.55 2553.29 1480.32 Z\" fill=\"#000000\" fill-rule=\"evenodd\" fill-opacity=\"1\" /><path clip-path=\"url(#clip8500)\" d=\"M 0 0 M2575.17 1478.37 L2580.05 1478.37 L2580.05 1482.35 L2576.25 1489.76 L2573.27 1489.76 L2575.17 1482.35 L2575.17 1478.37 Z\" fill=\"#000000\" fill-rule=\"evenodd\" fill-opacity=\"1\" /><path clip-path=\"url(#clip8500)\" d=\"M 0 0 M2604.22 1480.32 L2620.54 1480.32 L2620.54 1484.25 L2598.59 1484.25 L2598.59 1480.32 Q2601.25 1477.56 2605.84 1472.93 Q2610.44 1468.28 2611.62 1466.94 Q2613.87 1464.41 2614.75 1462.68 Q2615.65 1460.92 2615.65 1459.23 Q2615.65 1456.47 2613.71 1454.74 Q2611.79 1453 2608.68 1453 Q2606.48 1453 2604.03 1453.77 Q2601.6 1454.53 2598.82 1456.08 L2598.82 1451.36 Q2601.65 1450.22 2604.1 1449.65 Q2606.55 1449.07 2608.59 1449.07 Q2613.96 1449.07 2617.16 1451.75 Q2620.35 1454.44 2620.35 1458.93 Q2620.35 1461.06 2619.54 1462.98 Q2618.75 1464.88 2616.65 1467.47 Q2616.07 1468.14 2612.97 1471.36 Q2609.86 1474.55 2604.22 1480.32 Z\" fill=\"#000000\" fill-rule=\"evenodd\" fill-opacity=\"1\" /><path clip-path=\"url(#clip8500)\" d=\"M 0 0 M2635.6 1452.77 Q2631.99 1452.77 2630.16 1456.34 Q2628.36 1459.88 2628.36 1467.01 Q2628.36 1474.11 2630.16 1477.68 Q2631.99 1481.22 2635.6 1481.22 Q2639.24 1481.22 2641.04 1477.68 Q2642.87 1474.11 2642.87 1467.01 Q2642.87 1459.88 2641.04 1456.34 Q2639.24 1452.77 2635.6 1452.77 M2635.6 1449.07 Q2641.41 1449.07 2644.47 1453.67 Q2647.55 1458.26 2647.55 1467.01 Q2647.55 1475.73 2644.47 1480.34 Q2641.41 1484.92 2635.6 1484.92 Q2629.79 1484.92 2626.72 1480.34 Q2623.66 1475.73 2623.66 1467.01 Q2623.66 1458.26 2626.72 1453.67 Q2629.79 1449.07 2635.6 1449.07 Z\" fill=\"#000000\" fill-rule=\"evenodd\" fill-opacity=\"1\" /><path clip-path=\"url(#clip8500)\" d=\"M 0 0 M2640.49 1449.69 L2646.79 1449.69 L2662.11 1478.6 L2662.11 1449.69 L2666.65 1449.69 L2666.65 1484.25 L2660.35 1484.25 L2645.03 1455.34 L2645.03 1484.25 L2640.49 1484.25 L2640.49 1449.69 Z\" fill=\"#000000\" fill-rule=\"evenodd\" fill-opacity=\"1\" /><path clip-path=\"url(#clip8500)\" d=\"M 0 0 M2681.16 1461.31 Q2677.73 1461.31 2675.74 1464 Q2673.75 1466.66 2673.75 1471.31 Q2673.75 1475.96 2675.72 1478.65 Q2677.71 1481.31 2681.16 1481.31 Q2684.56 1481.31 2686.55 1478.63 Q2688.54 1475.94 2688.54 1471.31 Q2688.54 1466.71 2686.55 1464.02 Q2684.56 1461.31 2681.16 1461.31 M2681.16 1457.7 Q2686.72 1457.7 2689.89 1461.31 Q2693.06 1464.92 2693.06 1471.31 Q2693.06 1477.68 2689.89 1481.31 Q2686.72 1484.92 2681.16 1484.92 Q2675.58 1484.92 2672.41 1481.31 Q2669.26 1477.68 2669.26 1471.31 Q2669.26 1464.92 2672.41 1461.31 Q2675.58 1457.7 2681.16 1457.7 Z\" fill=\"#000000\" fill-rule=\"evenodd\" fill-opacity=\"1\" /><path clip-path=\"url(#clip8500)\" d=\"M 0 0 M2694.47 1458.33 L2698.98 1458.33 L2707.09 1480.09 L2715.19 1458.33 L2719.7 1458.33 L2709.98 1484.25 L2704.19 1484.25 L2694.47 1458.33 Z\" fill=\"#000000\" fill-rule=\"evenodd\" fill-opacity=\"1\" /><path clip-path=\"url(#clip8500)\" d=\"M 0 0 M2721.09 1478.37 L2725.97 1478.37 L2725.97 1484.25 L2721.09 1484.25 L2721.09 1478.37 Z\" fill=\"#000000\" fill-rule=\"evenodd\" fill-opacity=\"1\" /><path clip-path=\"url(#clip8500)\" d=\"M 0 0 M2746.92 1480.32 L2754.56 1480.32 L2754.56 1453.95 L2746.25 1455.62 L2746.25 1451.36 L2754.52 1449.69 L2759.19 1449.69 L2759.19 1480.32 L2766.83 1480.32 L2766.83 1484.25 L2746.92 1484.25 L2746.92 1480.32 Z\" fill=\"#000000\" fill-rule=\"evenodd\" fill-opacity=\"1\" /><path clip-path=\"url(#clip8500)\" d=\"M 0 0 M2781.9 1467.84 Q2778.57 1467.84 2776.65 1469.62 Q2774.75 1471.4 2774.75 1474.53 Q2774.75 1477.65 2776.65 1479.44 Q2778.57 1481.22 2781.9 1481.22 Q2785.23 1481.22 2787.15 1479.44 Q2789.08 1477.63 2789.08 1474.53 Q2789.08 1471.4 2787.15 1469.62 Q2785.26 1467.84 2781.9 1467.84 M2777.22 1465.85 Q2774.22 1465.11 2772.53 1463.05 Q2770.86 1460.99 2770.86 1458.03 Q2770.86 1453.88 2773.8 1451.47 Q2776.76 1449.07 2781.9 1449.07 Q2787.06 1449.07 2790 1451.47 Q2792.94 1453.88 2792.94 1458.03 Q2792.94 1460.99 2791.25 1463.05 Q2789.59 1465.11 2786.6 1465.85 Q2789.98 1466.64 2791.85 1468.93 Q2793.75 1471.22 2793.75 1474.53 Q2793.75 1479.55 2790.67 1482.24 Q2787.62 1484.92 2781.9 1484.92 Q2776.18 1484.92 2773.1 1482.24 Q2770.05 1479.55 2770.05 1474.53 Q2770.05 1471.22 2771.95 1468.93 Q2773.84 1466.64 2777.22 1465.85 M2775.51 1458.46 Q2775.51 1461.15 2777.18 1462.65 Q2778.87 1464.16 2781.9 1464.16 Q2784.91 1464.16 2786.6 1462.65 Q2788.31 1461.15 2788.31 1458.46 Q2788.31 1455.78 2786.6 1454.28 Q2784.91 1452.77 2781.9 1452.77 Q2778.87 1452.77 2777.18 1454.28 Q2775.51 1455.78 2775.51 1458.46 Z\" fill=\"#000000\" fill-rule=\"evenodd\" fill-opacity=\"1\" /><path clip-path=\"url(#clip8500)\" d=\"M 0 0 M2799.31 1478.37 L2804.19 1478.37 L2804.19 1482.35 L2800.4 1489.76 L2797.41 1489.76 L2799.31 1482.35 L2799.31 1478.37 Z\" fill=\"#000000\" fill-rule=\"evenodd\" fill-opacity=\"1\" /><path clip-path=\"url(#clip8500)\" d=\"M 0 0 M2828.36 1480.32 L2844.68 1480.32 L2844.68 1484.25 L2822.73 1484.25 L2822.73 1480.32 Q2825.4 1477.56 2829.98 1472.93 Q2834.59 1468.28 2835.77 1466.94 Q2838.01 1464.41 2838.89 1462.68 Q2839.79 1460.92 2839.79 1459.23 Q2839.79 1456.47 2837.85 1454.74 Q2835.93 1453 2832.83 1453 Q2830.63 1453 2828.17 1453.77 Q2825.74 1454.53 2822.96 1456.08 L2822.96 1451.36 Q2825.79 1450.22 2828.24 1449.65 Q2830.7 1449.07 2832.73 1449.07 Q2838.1 1449.07 2841.3 1451.75 Q2844.49 1454.44 2844.49 1458.93 Q2844.49 1461.06 2843.68 1462.98 Q2842.9 1464.88 2840.79 1467.47 Q2840.21 1468.14 2837.11 1471.36 Q2834.01 1474.55 2828.36 1480.32 Z\" fill=\"#000000\" fill-rule=\"evenodd\" fill-opacity=\"1\" /><path clip-path=\"url(#clip8500)\" d=\"M 0 0 M2859.75 1452.77 Q2856.14 1452.77 2854.31 1456.34 Q2852.5 1459.88 2852.5 1467.01 Q2852.5 1474.11 2854.31 1477.68 Q2856.14 1481.22 2859.75 1481.22 Q2863.38 1481.22 2865.19 1477.68 Q2867.02 1474.11 2867.02 1467.01 Q2867.02 1459.88 2865.19 1456.34 Q2863.38 1452.77 2859.75 1452.77 M2859.75 1449.07 Q2865.56 1449.07 2868.61 1453.67 Q2871.69 1458.26 2871.69 1467.01 Q2871.69 1475.73 2868.61 1480.34 Q2865.56 1484.92 2859.75 1484.92 Q2853.94 1484.92 2850.86 1480.34 Q2847.8 1475.73 2847.8 1467.01 Q2847.8 1458.26 2850.86 1453.67 Q2853.94 1449.07 2859.75 1449.07 Z\" fill=\"#000000\" fill-rule=\"evenodd\" fill-opacity=\"1\" /><path clip-path=\"url(#clip8500)\" d=\"M 0 0 M2901.75 1449.69 L2908.04 1449.69 L2923.37 1478.6 L2923.37 1449.69 L2927.9 1449.69 L2927.9 1484.25 L2921.61 1484.25 L2906.28 1455.34 L2906.28 1484.25 L2901.75 1484.25 L2901.75 1449.69 Z\" fill=\"#000000\" fill-rule=\"evenodd\" fill-opacity=\"1\" /><path clip-path=\"url(#clip8500)\" d=\"M 0 0 M2942.42 1461.31 Q2938.99 1461.31 2937 1464 Q2935.01 1466.66 2935.01 1471.31 Q2935.01 1475.96 2936.98 1478.65 Q2938.97 1481.31 2942.42 1481.31 Q2945.82 1481.31 2947.81 1478.63 Q2949.8 1475.94 2949.8 1471.31 Q2949.8 1466.71 2947.81 1464.02 Q2945.82 1461.31 2942.42 1461.31 M2942.42 1457.7 Q2947.97 1457.7 2951.14 1461.31 Q2954.32 1464.92 2954.32 1471.31 Q2954.32 1477.68 2951.14 1481.31 Q2947.97 1484.92 2942.42 1484.92 Q2936.84 1484.92 2933.67 1481.31 Q2930.52 1477.68 2930.52 1471.31 Q2930.52 1464.92 2933.67 1461.31 Q2936.84 1457.7 2942.42 1457.7 Z\" fill=\"#000000\" fill-rule=\"evenodd\" fill-opacity=\"1\" /><path clip-path=\"url(#clip8500)\" d=\"M 0 0 M2955.73 1458.33 L2960.24 1458.33 L2968.34 1480.09 L2976.45 1458.33 L2980.96 1458.33 L2971.24 1484.25 L2965.45 1484.25 L2955.73 1458.33 Z\" fill=\"#000000\" fill-rule=\"evenodd\" fill-opacity=\"1\" /><path clip-path=\"url(#clip8500)\" d=\"M 0 0 M2982.35 1478.37 L2987.23 1478.37 L2987.23 1484.25 L2982.35 1484.25 L2982.35 1478.37 Z\" fill=\"#000000\" fill-rule=\"evenodd\" fill-opacity=\"1\" /><path clip-path=\"url(#clip8500)\" d=\"M 0 0 M3011.4 1480.32 L3027.72 1480.32 L3027.72 1484.25 L3005.77 1484.25 L3005.77 1480.32 Q3008.44 1477.56 3013.02 1472.93 Q3017.63 1468.28 3018.81 1466.94 Q3021.05 1464.41 3021.93 1462.68 Q3022.83 1460.92 3022.83 1459.23 Q3022.83 1456.47 3020.89 1454.74 Q3018.97 1453 3015.87 1453 Q3013.67 1453 3011.21 1453.77 Q3008.78 1454.53 3006.01 1456.08 L3006.01 1451.36 Q3008.83 1450.22 3011.28 1449.65 Q3013.74 1449.07 3015.77 1449.07 Q3021.14 1449.07 3024.34 1451.75 Q3027.53 1454.44 3027.53 1458.93 Q3027.53 1461.06 3026.72 1462.98 Q3025.94 1464.88 3023.83 1467.47 Q3023.25 1468.14 3020.15 1471.36 Q3017.05 1474.55 3011.4 1480.32 Z\" fill=\"#000000\" fill-rule=\"evenodd\" fill-opacity=\"1\" /><path clip-path=\"url(#clip8500)\" d=\"M 0 0 M3032.83 1449.69 L3051.19 1449.69 L3051.19 1453.63 L3037.12 1453.63 L3037.12 1462.1 Q3038.14 1461.75 3039.15 1461.59 Q3040.17 1461.4 3041.19 1461.4 Q3046.98 1461.4 3050.36 1464.58 Q3053.74 1467.75 3053.74 1473.16 Q3053.74 1478.74 3050.26 1481.84 Q3046.79 1484.92 3040.47 1484.92 Q3038.3 1484.92 3036.03 1484.55 Q3033.78 1484.18 3031.38 1483.44 L3031.38 1478.74 Q3033.46 1479.88 3035.68 1480.43 Q3037.9 1480.99 3040.38 1480.99 Q3044.39 1480.99 3046.72 1478.88 Q3049.06 1476.78 3049.06 1473.16 Q3049.06 1469.55 3046.72 1467.45 Q3044.39 1465.34 3040.38 1465.34 Q3038.51 1465.34 3036.63 1465.76 Q3034.78 1466.17 3032.83 1467.05 L3032.83 1449.69 Z\" fill=\"#000000\" fill-rule=\"evenodd\" fill-opacity=\"1\" /><path clip-path=\"url(#clip8500)\" d=\"M 0 0 M3059.29 1478.37 L3064.18 1478.37 L3064.18 1482.35 L3060.38 1489.76 L3057.39 1489.76 L3059.29 1482.35 L3059.29 1478.37 Z\" fill=\"#000000\" fill-rule=\"evenodd\" fill-opacity=\"1\" /><path clip-path=\"url(#clip8500)\" d=\"M 0 0 M3088.34 1480.32 L3104.66 1480.32 L3104.66 1484.25 L3082.72 1484.25 L3082.72 1480.32 Q3085.38 1477.56 3089.96 1472.93 Q3094.57 1468.28 3095.75 1466.94 Q3098 1464.41 3098.88 1462.68 Q3099.78 1460.92 3099.78 1459.23 Q3099.78 1456.47 3097.83 1454.74 Q3095.91 1453 3092.81 1453 Q3090.61 1453 3088.16 1453.77 Q3085.73 1454.53 3082.95 1456.08 L3082.95 1451.36 Q3085.77 1450.22 3088.23 1449.65 Q3090.68 1449.07 3092.72 1449.07 Q3098.09 1449.07 3101.28 1451.75 Q3104.48 1454.44 3104.48 1458.93 Q3104.48 1461.06 3103.67 1462.98 Q3102.88 1464.88 3100.77 1467.47 Q3100.2 1468.14 3097.09 1471.36 Q3093.99 1474.55 3088.34 1480.32 Z\" fill=\"#000000\" fill-rule=\"evenodd\" fill-opacity=\"1\" /><path clip-path=\"url(#clip8500)\" d=\"M 0 0 M3119.73 1452.77 Q3116.12 1452.77 3114.29 1456.34 Q3112.49 1459.88 3112.49 1467.01 Q3112.49 1474.11 3114.29 1477.68 Q3116.12 1481.22 3119.73 1481.22 Q3123.37 1481.22 3125.17 1477.68 Q3127 1474.11 3127 1467.01 Q3127 1459.88 3125.17 1456.34 Q3123.37 1452.77 3119.73 1452.77 M3119.73 1449.07 Q3125.54 1449.07 3128.6 1453.67 Q3131.68 1458.26 3131.68 1467.01 Q3131.68 1475.73 3128.6 1480.34 Q3125.54 1484.92 3119.73 1484.92 Q3113.92 1484.92 3110.84 1480.34 Q3107.79 1475.73 3107.79 1467.01 Q3107.79 1458.26 3110.84 1453.67 Q3113.92 1449.07 3119.73 1449.07 Z\" fill=\"#000000\" fill-rule=\"evenodd\" fill-opacity=\"1\" /><path clip-path=\"url(#clip8500)\" d=\"M 0 0 M3178.41 1453.53 L3178.41 1480.41 L3184.06 1480.41 Q3191.21 1480.41 3194.52 1477.17 Q3197.85 1473.93 3197.85 1466.94 Q3197.85 1459.99 3194.52 1456.78 Q3191.21 1453.53 3184.06 1453.53 L3178.41 1453.53 M3173.73 1449.69 L3183.34 1449.69 Q3193.39 1449.69 3198.09 1453.88 Q3202.79 1458.05 3202.79 1466.94 Q3202.79 1475.87 3198.06 1480.06 Q3193.34 1484.25 3183.34 1484.25 L3173.73 1484.25 L3173.73 1449.69 Z\" fill=\"#000000\" fill-rule=\"evenodd\" fill-opacity=\"1\" /><path clip-path=\"url(#clip8500)\" d=\"M 0 0 M3229.43 1470.22 L3229.43 1472.31 L3209.85 1472.31 Q3210.12 1476.71 3212.48 1479.02 Q3214.87 1481.31 3219.1 1481.31 Q3221.56 1481.31 3223.85 1480.71 Q3226.16 1480.11 3228.43 1478.9 L3228.43 1482.93 Q3226.14 1483.9 3223.73 1484.41 Q3221.33 1484.92 3218.85 1484.92 Q3212.65 1484.92 3209.01 1481.31 Q3205.4 1477.7 3205.4 1471.54 Q3205.4 1465.18 3208.83 1461.45 Q3212.28 1457.7 3218.11 1457.7 Q3223.34 1457.7 3226.37 1461.08 Q3229.43 1464.44 3229.43 1470.22 M3225.17 1468.97 Q3225.12 1465.48 3223.2 1463.4 Q3221.3 1461.31 3218.16 1461.31 Q3214.59 1461.31 3212.44 1463.33 Q3210.31 1465.34 3209.98 1469 L3225.17 1468.97 Z\" fill=\"#000000\" fill-rule=\"evenodd\" fill-opacity=\"1\" /><path clip-path=\"url(#clip8500)\" d=\"M 0 0 M3252.55 1459.32 L3252.55 1463.3 Q3250.75 1462.31 3248.92 1461.82 Q3247.11 1461.31 3245.26 1461.31 Q3241.12 1461.31 3238.83 1463.95 Q3236.53 1466.57 3236.53 1471.31 Q3236.53 1476.06 3238.83 1478.7 Q3241.12 1481.31 3245.26 1481.31 Q3247.11 1481.31 3248.92 1480.83 Q3250.75 1480.32 3252.55 1479.32 L3252.55 1483.26 Q3250.77 1484.09 3248.85 1484.51 Q3246.95 1484.92 3244.8 1484.92 Q3238.94 1484.92 3235.49 1481.24 Q3232.04 1477.56 3232.04 1471.31 Q3232.04 1464.97 3235.52 1461.34 Q3239.01 1457.7 3245.08 1457.7 Q3247.04 1457.7 3248.92 1458.12 Q3250.79 1458.51 3252.55 1459.32 Z\" fill=\"#000000\" fill-rule=\"evenodd\" fill-opacity=\"1\" /><path clip-path=\"url(#clip8500)\" d=\"M 0 0 M3257.62 1478.37 L3262.51 1478.37 L3262.51 1484.25 L3257.62 1484.25 L3257.62 1478.37 Z\" fill=\"#000000\" fill-rule=\"evenodd\" fill-opacity=\"1\" /><path clip-path=\"url(#clip8500)\" d=\"M 0 0 M3286.67 1480.32 L3302.99 1480.32 L3302.99 1484.25 L3281.05 1484.25 L3281.05 1480.32 Q3283.71 1477.56 3288.29 1472.93 Q3292.9 1468.28 3294.08 1466.94 Q3296.33 1464.41 3297.21 1462.68 Q3298.11 1460.92 3298.11 1459.23 Q3298.11 1456.47 3296.16 1454.74 Q3294.24 1453 3291.14 1453 Q3288.94 1453 3286.49 1453.77 Q3284.06 1454.53 3281.28 1456.08 L3281.28 1451.36 Q3284.1 1450.22 3286.56 1449.65 Q3289.01 1449.07 3291.05 1449.07 Q3296.42 1449.07 3299.61 1451.75 Q3302.81 1454.44 3302.81 1458.93 Q3302.81 1461.06 3302 1462.98 Q3301.21 1464.88 3299.1 1467.47 Q3298.53 1468.14 3295.42 1471.36 Q3292.32 1474.55 3286.67 1480.32 Z\" fill=\"#000000\" fill-rule=\"evenodd\" fill-opacity=\"1\" /><path clip-path=\"url(#clip8500)\" d=\"M 0 0 M3308.55 1478.37 L3313.43 1478.37 L3313.43 1482.35 L3309.64 1489.76 L3306.65 1489.76 L3308.55 1482.35 L3308.55 1478.37 Z\" fill=\"#000000\" fill-rule=\"evenodd\" fill-opacity=\"1\" /><path clip-path=\"url(#clip8500)\" d=\"M 0 0 M3337.6 1480.32 L3353.92 1480.32 L3353.92 1484.25 L3331.97 1484.25 L3331.97 1480.32 Q3334.64 1477.56 3339.22 1472.93 Q3343.83 1468.28 3345.01 1466.94 Q3347.25 1464.41 3348.13 1462.68 Q3349.03 1460.92 3349.03 1459.23 Q3349.03 1456.47 3347.09 1454.74 Q3345.17 1453 3342.07 1453 Q3339.87 1453 3337.41 1453.77 Q3334.98 1454.53 3332.21 1456.08 L3332.21 1451.36 Q3335.03 1450.22 3337.48 1449.65 Q3339.94 1449.07 3341.97 1449.07 Q3347.34 1449.07 3350.54 1451.75 Q3353.73 1454.44 3353.73 1458.93 Q3353.73 1461.06 3352.92 1462.98 Q3352.14 1464.88 3350.03 1467.47 Q3349.45 1468.14 3346.35 1471.36 Q3343.25 1474.55 3337.6 1480.32 Z\" fill=\"#000000\" fill-rule=\"evenodd\" fill-opacity=\"1\" /><path clip-path=\"url(#clip8500)\" d=\"M 0 0 M3368.99 1452.77 Q3365.38 1452.77 3363.55 1456.34 Q3361.74 1459.88 3361.74 1467.01 Q3361.74 1474.11 3363.55 1477.68 Q3365.38 1481.22 3368.99 1481.22 Q3372.62 1481.22 3374.43 1477.68 Q3376.26 1474.11 3376.26 1467.01 Q3376.26 1459.88 3374.43 1456.34 Q3372.62 1452.77 3368.99 1452.77 M3368.99 1449.07 Q3374.8 1449.07 3377.85 1453.67 Q3380.93 1458.26 3380.93 1467.01 Q3380.93 1475.73 3377.85 1480.34 Q3374.8 1484.92 3368.99 1484.92 Q3363.18 1484.92 3360.1 1480.34 Q3357.04 1475.73 3357.04 1467.01 Q3357.04 1458.26 3360.1 1453.67 Q3363.18 1449.07 3368.99 1449.07 Z\" fill=\"#000000\" fill-rule=\"evenodd\" fill-opacity=\"1\" /><path clip-path=\"url(#clip8500)\" d=\"M 0 0 M3401.05 1453.53 L3401.05 1480.41 L3406.7 1480.41 Q3413.85 1480.41 3417.16 1477.17 Q3420.49 1473.93 3420.49 1466.94 Q3420.49 1459.99 3417.16 1456.78 Q3413.85 1453.53 3406.7 1453.53 L3401.05 1453.53 M3396.37 1449.69 L3405.98 1449.69 Q3416.02 1449.69 3420.72 1453.88 Q3425.42 1458.05 3425.42 1466.94 Q3425.42 1475.87 3420.7 1480.06 Q3415.98 1484.25 3405.98 1484.25 L3396.37 1484.25 L3396.37 1449.69 Z\" fill=\"#000000\" fill-rule=\"evenodd\" fill-opacity=\"1\" /><path clip-path=\"url(#clip8500)\" d=\"M 0 0 M3452.07 1470.22 L3452.07 1472.31 L3432.48 1472.31 Q3432.76 1476.71 3435.12 1479.02 Q3437.51 1481.31 3441.74 1481.31 Q3444.2 1481.31 3446.49 1480.71 Q3448.8 1480.11 3451.07 1478.9 L3451.07 1482.93 Q3448.78 1483.9 3446.37 1484.41 Q3443.96 1484.92 3441.49 1484.92 Q3435.28 1484.92 3431.65 1481.31 Q3428.04 1477.7 3428.04 1471.54 Q3428.04 1465.18 3431.46 1461.45 Q3434.91 1457.7 3440.75 1457.7 Q3445.98 1457.7 3449.01 1461.08 Q3452.07 1464.44 3452.07 1470.22 M3447.81 1468.97 Q3447.76 1465.48 3445.84 1463.4 Q3443.94 1461.31 3440.79 1461.31 Q3437.23 1461.31 3435.08 1463.33 Q3432.95 1465.34 3432.62 1469 L3447.81 1468.97 Z\" fill=\"#000000\" fill-rule=\"evenodd\" fill-opacity=\"1\" /><path clip-path=\"url(#clip8500)\" d=\"M 0 0 M3475.19 1459.32 L3475.19 1463.3 Q3473.39 1462.31 3471.56 1461.82 Q3469.75 1461.31 3467.9 1461.31 Q3463.76 1461.31 3461.46 1463.95 Q3459.17 1466.57 3459.17 1471.31 Q3459.17 1476.06 3461.46 1478.7 Q3463.76 1481.31 3467.9 1481.31 Q3469.75 1481.31 3471.56 1480.83 Q3473.39 1480.32 3475.19 1479.32 L3475.19 1483.26 Q3473.41 1484.09 3471.49 1484.51 Q3469.59 1484.92 3467.44 1484.92 Q3461.58 1484.92 3458.13 1481.24 Q3454.68 1477.56 3454.68 1471.31 Q3454.68 1464.97 3458.15 1461.34 Q3461.65 1457.7 3467.71 1457.7 Q3469.68 1457.7 3471.56 1458.12 Q3473.43 1458.51 3475.19 1459.32 Z\" fill=\"#000000\" fill-rule=\"evenodd\" fill-opacity=\"1\" /><path clip-path=\"url(#clip8500)\" d=\"M 0 0 M3480.26 1478.37 L3485.14 1478.37 L3485.14 1484.25 L3480.26 1484.25 L3480.26 1478.37 Z\" fill=\"#000000\" fill-rule=\"evenodd\" fill-opacity=\"1\" /><path clip-path=\"url(#clip8500)\" d=\"M 0 0 M3515.28 1467.84 Q3511.95 1467.84 3510.03 1469.62 Q3508.13 1471.4 3508.13 1474.53 Q3508.13 1477.65 3510.03 1479.44 Q3511.95 1481.22 3515.28 1481.22 Q3518.62 1481.22 3520.54 1479.44 Q3522.46 1477.63 3522.46 1474.53 Q3522.46 1471.4 3520.54 1469.62 Q3518.64 1467.84 3515.28 1467.84 M3510.61 1465.85 Q3507.6 1465.11 3505.91 1463.05 Q3504.24 1460.99 3504.24 1458.03 Q3504.24 1453.88 3507.18 1451.47 Q3510.14 1449.07 3515.28 1449.07 Q3520.45 1449.07 3523.39 1451.47 Q3526.32 1453.88 3526.32 1458.03 Q3526.32 1460.99 3524.64 1463.05 Q3522.97 1465.11 3519.98 1465.85 Q3523.36 1466.64 3525.24 1468.93 Q3527.14 1471.22 3527.14 1474.53 Q3527.14 1479.55 3524.06 1482.24 Q3521 1484.92 3515.28 1484.92 Q3509.57 1484.92 3506.49 1482.24 Q3503.43 1479.55 3503.43 1474.53 Q3503.43 1471.22 3505.33 1468.93 Q3507.23 1466.64 3510.61 1465.85 M3508.89 1458.46 Q3508.89 1461.15 3510.56 1462.65 Q3512.25 1464.16 3515.28 1464.16 Q3518.29 1464.16 3519.98 1462.65 Q3521.7 1461.15 3521.7 1458.46 Q3521.7 1455.78 3519.98 1454.28 Q3518.29 1452.77 3515.28 1452.77 Q3512.25 1452.77 3510.56 1454.28 Q3508.89 1455.78 3508.89 1458.46 Z\" fill=\"#000000\" fill-rule=\"evenodd\" fill-opacity=\"1\" /><path clip-path=\"url(#clip8500)\" d=\"M 0 0 M3532.69 1478.37 L3537.57 1478.37 L3537.57 1482.35 L3533.78 1489.76 L3530.79 1489.76 L3532.69 1482.35 L3532.69 1478.37 Z\" fill=\"#000000\" fill-rule=\"evenodd\" fill-opacity=\"1\" /><path clip-path=\"url(#clip8500)\" d=\"M 0 0 M3561.74 1480.32 L3578.06 1480.32 L3578.06 1484.25 L3556.12 1484.25 L3556.12 1480.32 Q3558.78 1477.56 3563.36 1472.93 Q3567.97 1468.28 3569.15 1466.94 Q3571.39 1464.41 3572.27 1462.68 Q3573.18 1460.92 3573.18 1459.23 Q3573.18 1456.47 3571.23 1454.74 Q3569.31 1453 3566.21 1453 Q3564.01 1453 3561.56 1453.77 Q3559.13 1454.53 3556.35 1456.08 L3556.35 1451.36 Q3559.17 1450.22 3561.63 1449.65 Q3564.08 1449.07 3566.12 1449.07 Q3571.49 1449.07 3574.68 1451.75 Q3577.88 1454.44 3577.88 1458.93 Q3577.88 1461.06 3577.07 1462.98 Q3576.28 1464.88 3574.17 1467.47 Q3573.59 1468.14 3570.49 1471.36 Q3567.39 1474.55 3561.74 1480.32 Z\" fill=\"#000000\" fill-rule=\"evenodd\" fill-opacity=\"1\" /><path clip-path=\"url(#clip8500)\" d=\"M 0 0 M3593.13 1452.77 Q3589.52 1452.77 3587.69 1456.34 Q3585.88 1459.88 3585.88 1467.01 Q3585.88 1474.11 3587.69 1477.68 Q3589.52 1481.22 3593.13 1481.22 Q3596.76 1481.22 3598.57 1477.68 Q3600.4 1474.11 3600.4 1467.01 Q3600.4 1459.88 3598.57 1456.34 Q3596.76 1452.77 3593.13 1452.77 M3593.13 1449.07 Q3598.94 1449.07 3602 1453.67 Q3605.07 1458.26 3605.07 1467.01 Q3605.07 1475.73 3602 1480.34 Q3598.94 1484.92 3593.13 1484.92 Q3587.32 1484.92 3584.24 1480.34 Q3581.19 1475.73 3581.19 1467.01 Q3581.19 1458.26 3584.24 1453.67 Q3587.32 1449.07 3593.13 1449.07 Z\" fill=\"#000000\" fill-rule=\"evenodd\" fill-opacity=\"1\" /><path clip-path=\"url(#clip8500)\" d=\"M 0 0 M3649.23 1453.53 L3649.23 1480.41 L3654.88 1480.41 Q3662.03 1480.41 3665.34 1477.17 Q3668.67 1473.93 3668.67 1466.94 Q3668.67 1459.99 3665.34 1456.78 Q3662.03 1453.53 3654.88 1453.53 L3649.23 1453.53 M3644.55 1449.69 L3654.16 1449.69 Q3664.2 1449.69 3668.9 1453.88 Q3673.6 1458.05 3673.6 1466.94 Q3673.6 1475.87 3668.88 1480.06 Q3664.16 1484.25 3654.16 1484.25 L3644.55 1484.25 L3644.55 1449.69 Z\" fill=\"#000000\" fill-rule=\"evenodd\" fill-opacity=\"1\" /><path clip-path=\"url(#clip8500)\" d=\"M 0 0 M3700.25 1470.22 L3700.25 1472.31 L3680.66 1472.31 Q3680.94 1476.71 3683.3 1479.02 Q3685.69 1481.31 3689.92 1481.31 Q3692.38 1481.31 3694.67 1480.71 Q3696.98 1480.11 3699.25 1478.9 L3699.25 1482.93 Q3696.96 1483.9 3694.55 1484.41 Q3692.14 1484.92 3689.67 1484.92 Q3683.46 1484.92 3679.83 1481.31 Q3676.22 1477.7 3676.22 1471.54 Q3676.22 1465.18 3679.64 1461.45 Q3683.09 1457.7 3688.93 1457.7 Q3694.16 1457.7 3697.19 1461.08 Q3700.25 1464.44 3700.25 1470.22 M3695.99 1468.97 Q3695.94 1465.48 3694.02 1463.4 Q3692.12 1461.31 3688.97 1461.31 Q3685.41 1461.31 3683.26 1463.33 Q3681.13 1465.34 3680.8 1469 L3695.99 1468.97 Z\" fill=\"#000000\" fill-rule=\"evenodd\" fill-opacity=\"1\" /><path clip-path=\"url(#clip8500)\" d=\"M 0 0 M3723.37 1459.32 L3723.37 1463.3 Q3721.57 1462.31 3719.74 1461.82 Q3717.93 1461.31 3716.08 1461.31 Q3711.94 1461.31 3709.64 1463.95 Q3707.35 1466.57 3707.35 1471.31 Q3707.35 1476.06 3709.64 1478.7 Q3711.94 1481.31 3716.08 1481.31 Q3717.93 1481.31 3719.74 1480.83 Q3721.57 1480.32 3723.37 1479.32 L3723.37 1483.26 Q3721.59 1484.09 3719.67 1484.51 Q3717.77 1484.92 3715.62 1484.92 Q3709.76 1484.92 3706.31 1481.24 Q3702.86 1477.56 3702.86 1471.31 Q3702.86 1464.97 3706.33 1461.34 Q3709.83 1457.7 3715.89 1457.7 Q3717.86 1457.7 3719.74 1458.12 Q3721.61 1458.51 3723.37 1459.32 Z\" fill=\"#000000\" fill-rule=\"evenodd\" fill-opacity=\"1\" /><path clip-path=\"url(#clip8500)\" d=\"M 0 0 M3728.44 1478.37 L3733.32 1478.37 L3733.32 1484.25 L3728.44 1484.25 L3728.44 1478.37 Z\" fill=\"#000000\" fill-rule=\"evenodd\" fill-opacity=\"1\" /><path clip-path=\"url(#clip8500)\" d=\"M 0 0 M3754.27 1480.32 L3761.91 1480.32 L3761.91 1453.95 L3753.6 1455.62 L3753.6 1451.36 L3761.87 1449.69 L3766.54 1449.69 L3766.54 1480.32 L3774.18 1480.32 L3774.18 1484.25 L3754.27 1484.25 L3754.27 1480.32 Z\" fill=\"#000000\" fill-rule=\"evenodd\" fill-opacity=\"1\" /><path clip-path=\"url(#clip8500)\" d=\"M 0 0 M3779.3 1449.69 L3797.65 1449.69 L3797.65 1453.63 L3783.58 1453.63 L3783.58 1462.1 Q3784.6 1461.75 3785.62 1461.59 Q3786.63 1461.4 3787.65 1461.4 Q3793.44 1461.4 3796.82 1464.58 Q3800.2 1467.75 3800.2 1473.16 Q3800.2 1478.74 3796.73 1481.84 Q3793.25 1484.92 3786.94 1484.92 Q3784.76 1484.92 3782.49 1484.55 Q3780.25 1484.18 3777.84 1483.44 L3777.84 1478.74 Q3779.92 1479.88 3782.14 1480.43 Q3784.37 1480.99 3786.84 1480.99 Q3790.85 1480.99 3793.19 1478.88 Q3795.52 1476.78 3795.52 1473.16 Q3795.52 1469.55 3793.19 1467.45 Q3790.85 1465.34 3786.84 1465.34 Q3784.97 1465.34 3783.09 1465.76 Q3781.24 1466.17 3779.3 1467.05 L3779.3 1449.69 Z\" fill=\"#000000\" fill-rule=\"evenodd\" fill-opacity=\"1\" /><path clip-path=\"url(#clip8500)\" d=\"M 0 0 M3805.75 1478.37 L3810.64 1478.37 L3810.64 1482.35 L3806.84 1489.76 L3803.86 1489.76 L3805.75 1482.35 L3805.75 1478.37 Z\" fill=\"#000000\" fill-rule=\"evenodd\" fill-opacity=\"1\" /><path clip-path=\"url(#clip8500)\" d=\"M 0 0 M3834.81 1480.32 L3851.12 1480.32 L3851.12 1484.25 L3829.18 1484.25 L3829.18 1480.32 Q3831.84 1477.56 3836.43 1472.93 Q3841.03 1468.28 3842.21 1466.94 Q3844.46 1464.41 3845.34 1462.68 Q3846.24 1460.92 3846.24 1459.23 Q3846.24 1456.47 3844.3 1454.74 Q3842.37 1453 3839.27 1453 Q3837.07 1453 3834.62 1453.77 Q3832.19 1454.53 3829.41 1456.08 L3829.41 1451.36 Q3832.24 1450.22 3834.69 1449.65 Q3837.14 1449.07 3839.18 1449.07 Q3844.55 1449.07 3847.74 1451.75 Q3850.94 1454.44 3850.94 1458.93 Q3850.94 1461.06 3850.13 1462.98 Q3849.34 1464.88 3847.24 1467.47 Q3846.66 1468.14 3843.56 1471.36 Q3840.45 1474.55 3834.81 1480.32 Z\" fill=\"#000000\" fill-rule=\"evenodd\" fill-opacity=\"1\" /><path clip-path=\"url(#clip8500)\" d=\"M 0 0 M3866.19 1452.77 Q3862.58 1452.77 3860.75 1456.34 Q3858.95 1459.88 3858.95 1467.01 Q3858.95 1474.11 3860.75 1477.68 Q3862.58 1481.22 3866.19 1481.22 Q3869.83 1481.22 3871.63 1477.68 Q3873.46 1474.11 3873.46 1467.01 Q3873.46 1459.88 3871.63 1456.34 Q3869.83 1452.77 3866.19 1452.77 M3866.19 1449.07 Q3872 1449.07 3875.06 1453.67 Q3878.14 1458.26 3878.14 1467.01 Q3878.14 1475.73 3875.06 1480.34 Q3872 1484.92 3866.19 1484.92 Q3860.38 1484.92 3857.31 1480.34 Q3854.25 1475.73 3854.25 1467.01 Q3854.25 1458.26 3857.31 1453.67 Q3860.38 1449.07 3866.19 1449.07 Z\" fill=\"#000000\" fill-rule=\"evenodd\" fill-opacity=\"1\" /><path clip-path=\"url(#clip8500)\" d=\"M 0 0 M119.926 1397.58 L136.245 1397.58 L136.245 1401.52 L114.301 1401.52 L114.301 1397.58 Q116.963 1394.83 121.546 1390.2 Q126.153 1385.55 127.333 1384.2 Q129.579 1381.68 130.458 1379.94 Q131.361 1378.19 131.361 1376.5 Q131.361 1373.74 129.417 1372 Q127.495 1370.27 124.393 1370.27 Q122.194 1370.27 119.741 1371.03 Q117.31 1371.8 114.532 1373.35 L114.532 1368.62 Q117.356 1367.49 119.81 1366.91 Q122.264 1366.33 124.301 1366.33 Q129.671 1366.33 132.866 1369.02 Q136.06 1371.7 136.06 1376.19 Q136.06 1378.32 135.25 1380.25 Q134.463 1382.14 132.356 1384.74 Q131.778 1385.41 128.676 1388.62 Q125.574 1391.82 119.926 1397.58 Z\" fill=\"#000000\" fill-rule=\"evenodd\" fill-opacity=\"1\" /><path clip-path=\"url(#clip8500)\" d=\"M 0 0 M151.315 1370.04 Q147.703 1370.04 145.875 1373.6 Q144.069 1377.14 144.069 1384.27 Q144.069 1391.38 145.875 1394.94 Q147.703 1398.49 151.315 1398.49 Q154.949 1398.49 156.754 1394.94 Q158.583 1391.38 158.583 1384.27 Q158.583 1377.14 156.754 1373.6 Q154.949 1370.04 151.315 1370.04 M151.315 1366.33 Q157.125 1366.33 160.18 1370.94 Q163.259 1375.52 163.259 1384.27 Q163.259 1393 160.18 1397.61 Q157.125 1402.19 151.315 1402.19 Q145.504 1402.19 142.426 1397.61 Q139.37 1393 139.37 1384.27 Q139.37 1375.52 142.426 1370.94 Q145.504 1366.33 151.315 1366.33 Z\" fill=\"#000000\" fill-rule=\"evenodd\" fill-opacity=\"1\" /><path clip-path=\"url(#clip8500)\" d=\"M 0 0 M120.921 1102.57 L137.241 1102.57 L137.241 1106.51 L115.296 1106.51 L115.296 1102.57 Q117.958 1099.82 122.542 1095.19 Q127.148 1090.53 128.329 1089.19 Q130.574 1086.67 131.454 1084.93 Q132.356 1083.17 132.356 1081.48 Q132.356 1078.73 130.412 1076.99 Q128.491 1075.26 125.389 1075.26 Q123.19 1075.26 120.736 1076.02 Q118.305 1076.78 115.528 1078.34 L115.528 1073.61 Q118.352 1072.48 120.805 1071.9 Q123.259 1071.32 125.296 1071.32 Q130.667 1071.32 133.861 1074.01 Q137.055 1076.69 137.055 1081.18 Q137.055 1083.31 136.245 1085.23 Q135.458 1087.13 133.352 1089.72 Q132.773 1090.4 129.671 1093.61 Q126.569 1096.81 120.921 1102.57 Z\" fill=\"#000000\" fill-rule=\"evenodd\" fill-opacity=\"1\" /><path clip-path=\"url(#clip8500)\" d=\"M 0 0 M142.356 1071.95 L160.713 1071.95 L160.713 1075.88 L146.639 1075.88 L146.639 1084.35 Q147.657 1084.01 148.676 1083.84 Q149.694 1083.66 150.713 1083.66 Q156.5 1083.66 159.879 1086.83 Q163.259 1090 163.259 1095.42 Q163.259 1101 159.787 1104.1 Q156.315 1107.18 149.995 1107.18 Q147.819 1107.18 145.551 1106.81 Q143.305 1106.44 140.898 1105.7 L140.898 1101 Q142.981 1102.13 145.203 1102.69 Q147.426 1103.24 149.903 1103.24 Q153.907 1103.24 156.245 1101.14 Q158.583 1099.03 158.583 1095.42 Q158.583 1091.81 156.245 1089.7 Q153.907 1087.59 149.903 1087.59 Q148.028 1087.59 146.153 1088.01 Q144.301 1088.43 142.356 1089.31 L142.356 1071.95 Z\" fill=\"#000000\" fill-rule=\"evenodd\" fill-opacity=\"1\" /><path clip-path=\"url(#clip8500)\" d=\"M 0 0 M129.116 792.86 Q132.472 793.578 134.347 795.846 Q136.245 798.115 136.245 801.448 Q136.245 806.564 132.727 809.365 Q129.208 812.166 122.727 812.166 Q120.551 812.166 118.236 811.726 Q115.944 811.309 113.491 810.453 L113.491 805.939 Q115.435 807.073 117.75 807.652 Q120.065 808.23 122.588 808.23 Q126.986 808.23 129.278 806.494 Q131.592 804.758 131.592 801.448 Q131.592 798.393 129.44 796.68 Q127.31 794.944 123.491 794.944 L119.463 794.944 L119.463 791.101 L123.676 791.101 Q127.125 791.101 128.954 789.735 Q130.782 788.346 130.782 785.754 Q130.782 783.092 128.884 781.68 Q127.009 780.245 123.491 780.245 Q121.569 780.245 119.37 780.661 Q117.171 781.078 114.532 781.957 L114.532 777.791 Q117.194 777.05 119.509 776.68 Q121.847 776.309 123.907 776.309 Q129.231 776.309 132.333 778.74 Q135.435 781.147 135.435 785.268 Q135.435 788.138 133.792 790.129 Q132.148 792.096 129.116 792.86 Z\" fill=\"#000000\" fill-rule=\"evenodd\" fill-opacity=\"1\" /><path clip-path=\"url(#clip8500)\" d=\"M 0 0 M151.315 780.013 Q147.703 780.013 145.875 783.578 Q144.069 787.119 144.069 794.249 Q144.069 801.356 145.875 804.92 Q147.703 808.462 151.315 808.462 Q154.949 808.462 156.754 804.92 Q158.583 801.356 158.583 794.249 Q158.583 787.119 156.754 783.578 Q154.949 780.013 151.315 780.013 M151.315 776.309 Q157.125 776.309 160.18 780.916 Q163.259 785.499 163.259 794.249 Q163.259 802.976 160.18 807.582 Q157.125 812.166 151.315 812.166 Q145.504 812.166 142.426 807.582 Q139.37 802.976 139.37 794.249 Q139.37 785.499 142.426 780.916 Q145.504 776.309 151.315 776.309 Z\" fill=\"#000000\" fill-rule=\"evenodd\" fill-opacity=\"1\" /><path clip-path=\"url(#clip8500)\" d=\"M 0 0 M130.111 497.848 Q133.467 498.566 135.342 500.834 Q137.241 503.103 137.241 506.436 Q137.241 511.552 133.722 514.353 Q130.204 517.154 123.722 517.154 Q121.546 517.154 119.231 516.714 Q116.94 516.297 114.486 515.441 L114.486 510.927 Q116.43 512.061 118.745 512.64 Q121.06 513.219 123.583 513.219 Q127.981 513.219 130.273 511.482 Q132.588 509.746 132.588 506.436 Q132.588 503.381 130.435 501.668 Q128.305 499.932 124.486 499.932 L120.458 499.932 L120.458 496.089 L124.671 496.089 Q128.12 496.089 129.949 494.723 Q131.778 493.334 131.778 490.742 Q131.778 488.08 129.88 486.668 Q128.005 485.233 124.486 485.233 Q122.565 485.233 120.366 485.649 Q118.167 486.066 115.528 486.946 L115.528 482.779 Q118.19 482.038 120.505 481.668 Q122.843 481.297 124.903 481.297 Q130.227 481.297 133.329 483.728 Q136.43 486.135 136.43 490.256 Q136.43 493.126 134.787 495.117 Q133.143 497.084 130.111 497.848 Z\" fill=\"#000000\" fill-rule=\"evenodd\" fill-opacity=\"1\" /><path clip-path=\"url(#clip8500)\" d=\"M 0 0 M142.356 481.922 L160.713 481.922 L160.713 485.858 L146.639 485.858 L146.639 494.33 Q147.657 493.983 148.676 493.82 Q149.694 493.635 150.713 493.635 Q156.5 493.635 159.879 496.807 Q163.259 499.978 163.259 505.395 Q163.259 510.973 159.787 514.075 Q156.315 517.154 149.995 517.154 Q147.819 517.154 145.551 516.783 Q143.305 516.413 140.898 515.672 L140.898 510.973 Q142.981 512.107 145.203 512.663 Q147.426 513.219 149.903 513.219 Q153.907 513.219 156.245 511.112 Q158.583 509.006 158.583 505.395 Q158.583 501.783 156.245 499.677 Q153.907 497.57 149.903 497.57 Q148.028 497.57 146.153 497.987 Q144.301 498.404 142.356 499.283 L142.356 481.922 Z\" fill=\"#000000\" fill-rule=\"evenodd\" fill-opacity=\"1\" /><path clip-path=\"url(#clip8500)\" d=\"M 0 0 M126.662 190.985 L114.856 209.433 L126.662 209.433 L126.662 190.985 M125.435 186.91 L131.315 186.91 L131.315 209.433 L136.245 209.433 L136.245 213.322 L131.315 213.322 L131.315 221.47 L126.662 221.47 L126.662 213.322 L111.06 213.322 L111.06 208.808 L125.435 186.91 Z\" fill=\"#000000\" fill-rule=\"evenodd\" fill-opacity=\"1\" /><path clip-path=\"url(#clip8500)\" d=\"M 0 0 M151.315 189.989 Q147.703 189.989 145.875 193.554 Q144.069 197.096 144.069 204.225 Q144.069 211.332 145.875 214.896 Q147.703 218.438 151.315 218.438 Q154.949 218.438 156.754 214.896 Q158.583 211.332 158.583 204.225 Q158.583 197.096 156.754 193.554 Q154.949 189.989 151.315 189.989 M151.315 186.285 Q157.125 186.285 160.18 190.892 Q163.259 195.475 163.259 204.225 Q163.259 212.952 160.18 217.558 Q157.125 222.142 151.315 222.142 Q145.504 222.142 142.426 217.558 Q139.37 212.952 139.37 204.225 Q139.37 195.475 142.426 190.892 Q145.504 186.285 151.315 186.285 Z\" fill=\"#000000\" fill-rule=\"evenodd\" fill-opacity=\"1\" /><path clip-path=\"url(#clip8500)\" d=\"M 0 0 M126.662 190.985 L114.856 209.433 L126.662 209.433 L126.662 190.985 M125.435 186.91 L131.315 186.91 L131.315 209.433 L136.245 209.433 L136.245 213.322 L131.315 213.322 L131.315 221.47 L126.662 221.47 L126.662 213.322 L111.06 213.322 L111.06 208.808 L125.435 186.91 Z\" fill=\"#000000\" fill-rule=\"evenodd\" fill-opacity=\"1\" /><path clip-path=\"url(#clip8500)\" d=\"M 0 0 M151.315 189.989 Q147.703 189.989 145.875 193.554 Q144.069 197.096 144.069 204.225 Q144.069 211.332 145.875 214.896 Q147.703 218.438 151.315 218.438 Q154.949 218.438 156.754 214.896 Q158.583 211.332 158.583 204.225 Q158.583 197.096 156.754 193.554 Q154.949 189.989 151.315 189.989 M151.315 186.285 Q157.125 186.285 160.18 190.892 Q163.259 195.475 163.259 204.225 Q163.259 212.952 160.18 217.558 Q157.125 222.142 151.315 222.142 Q145.504 222.142 142.426 217.558 Q139.37 212.952 139.37 204.225 Q139.37 195.475 142.426 190.892 Q145.504 186.285 151.315 186.285 Z\" fill=\"#000000\" fill-rule=\"evenodd\" fill-opacity=\"1\" /><path clip-path=\"url(#clip8500)\" d=\"M 0 0 M1983.37 1525.47 L1983.37 1535.6 L1995.43 1535.6 L1995.43 1540.15 L1983.37 1540.15 L1983.37 1559.5 Q1983.37 1563.86 1984.55 1565.1 Q1985.76 1566.34 1989.42 1566.34 L1995.43 1566.34 L1995.43 1571.24 L1989.42 1571.24 Q1982.64 1571.24 1980.06 1568.73 Q1977.48 1566.18 1977.48 1559.5 L1977.48 1540.15 L1973.19 1540.15 L1973.19 1535.6 L1977.48 1535.6 L1977.48 1525.47 L1983.37 1525.47 Z\" fill=\"#000000\" fill-rule=\"evenodd\" fill-opacity=\"1\" /><path clip-path=\"url(#clip8500)\" d=\"M 0 0 M2001.58 1535.6 L2007.43 1535.6 L2007.43 1571.24 L2001.58 1571.24 L2001.58 1535.6 M2001.58 1521.72 L2007.43 1521.72 L2007.43 1529.13 L2001.58 1529.13 L2001.58 1521.72 Z\" fill=\"#000000\" fill-rule=\"evenodd\" fill-opacity=\"1\" /><path clip-path=\"url(#clip8500)\" d=\"M 0 0 M2041.33 1542.44 Q2043.53 1538.49 2046.58 1536.61 Q2049.64 1534.74 2053.78 1534.74 Q2059.35 1534.74 2062.37 1538.65 Q2065.39 1542.53 2065.39 1549.73 L2065.39 1571.24 L2059.51 1571.24 L2059.51 1549.92 Q2059.51 1544.79 2057.69 1542.31 Q2055.88 1539.83 2052.15 1539.83 Q2047.6 1539.83 2044.96 1542.85 Q2042.32 1545.88 2042.32 1551.1 L2042.32 1571.24 L2036.43 1571.24 L2036.43 1549.92 Q2036.43 1544.76 2034.62 1542.31 Q2032.8 1539.83 2029.01 1539.83 Q2024.53 1539.83 2021.88 1542.88 Q2019.24 1545.91 2019.24 1551.1 L2019.24 1571.24 L2013.35 1571.24 L2013.35 1535.6 L2019.24 1535.6 L2019.24 1541.13 Q2021.25 1537.86 2024.05 1536.3 Q2026.85 1534.74 2030.7 1534.74 Q2034.58 1534.74 2037.29 1536.71 Q2040.03 1538.68 2041.33 1542.44 Z\" fill=\"#000000\" fill-rule=\"evenodd\" fill-opacity=\"1\" /><path clip-path=\"url(#clip8500)\" d=\"M 0 0 M2102.03 1551.96 L2102.03 1554.82 L2075.1 1554.82 Q2075.48 1560.87 2078.73 1564.05 Q2082.01 1567.2 2087.83 1567.2 Q2091.21 1567.2 2094.36 1566.37 Q2097.54 1565.55 2100.66 1563.89 L2100.66 1569.43 Q2097.51 1570.77 2094.2 1571.47 Q2090.89 1572.17 2087.48 1572.17 Q2078.95 1572.17 2073.96 1567.2 Q2068.99 1562.24 2068.99 1553.77 Q2068.99 1545.02 2073.7 1539.89 Q2078.44 1534.74 2086.46 1534.74 Q2093.66 1534.74 2097.83 1539.38 Q2102.03 1544 2102.03 1551.96 M2096.17 1550.24 Q2096.11 1545.43 2093.47 1542.57 Q2090.86 1539.7 2086.53 1539.7 Q2081.63 1539.7 2078.67 1542.47 Q2075.74 1545.24 2075.29 1550.27 L2096.17 1550.24 Z\" fill=\"#000000\" fill-rule=\"evenodd\" fill-opacity=\"1\" /><path clip-path=\"url(#clip8500)\" d=\"M 0 0 M21.9562 811.585 L21.9562 805.378 L51.875 794.238 L21.9562 783.098 L21.9562 776.891 L57.6042 790.259 L57.6042 798.217 L21.9562 811.585 Z\" fill=\"#000000\" fill-rule=\"evenodd\" fill-opacity=\"1\" /><path clip-path=\"url(#clip8500)\" d=\"M 0 0 M39.6847 754.548 Q39.6847 761.646 41.3079 764.383 Q42.9312 767.12 46.8461 767.12 Q49.9653 767.12 51.8114 765.083 Q53.6256 763.014 53.6256 759.481 Q53.6256 754.611 50.1881 751.683 Q46.7188 748.723 40.9897 748.723 L39.6847 748.723 L39.6847 754.548 M37.2657 742.867 L57.6042 742.867 L57.6042 748.723 L52.1933 748.723 Q55.4398 750.728 56.9994 753.72 Q58.5272 756.712 58.5272 761.041 Q58.5272 766.515 55.4716 769.762 Q52.3843 772.977 47.2281 772.977 Q41.2125 772.977 38.1569 768.966 Q35.1014 764.924 35.1014 756.935 L35.1014 748.723 L34.5285 748.723 Q30.4862 748.723 28.2901 751.397 Q26.0621 754.039 26.0621 758.845 Q26.0621 761.9 26.7941 764.797 Q27.5262 767.693 28.9903 770.367 L23.5795 770.367 Q22.3381 767.152 21.7334 764.128 Q21.0968 761.104 21.0968 758.24 Q21.0968 750.506 25.1072 746.686 Q29.1176 742.867 37.2657 742.867 Z\" fill=\"#000000\" fill-rule=\"evenodd\" fill-opacity=\"1\" /><path clip-path=\"url(#clip8500)\" d=\"M 0 0 M8.07896 736.724 L8.07896 730.867 L57.6042 730.867 L57.6042 736.724 L8.07896 736.724 Z\" fill=\"#000000\" fill-rule=\"evenodd\" fill-opacity=\"1\" /><path clip-path=\"url(#clip8500)\" d=\"M 0 0 M43.5359 725.329 L21.9562 725.329 L21.9562 719.473 L43.3131 719.473 Q48.3739 719.473 50.9202 717.499 Q53.4346 715.526 53.4346 711.579 Q53.4346 706.837 50.4109 704.1 Q47.3872 701.33 42.1673 701.33 L21.9562 701.33 L21.9562 695.474 L57.6042 695.474 L57.6042 701.33 L52.1296 701.33 Q55.3762 703.463 56.9676 706.296 Q58.5272 709.097 58.5272 712.821 Q58.5272 718.964 54.7078 722.146 Q50.8883 725.329 43.5359 725.329 M21.0968 710.593 L21.0968 710.593 Z\" fill=\"#000000\" fill-rule=\"evenodd\" fill-opacity=\"1\" /><path clip-path=\"url(#clip8500)\" d=\"M 0 0 M38.3161 658.839 L41.1806 658.839 L41.1806 685.766 Q47.2281 685.384 50.4109 682.138 Q53.5619 678.86 53.5619 673.035 Q53.5619 669.661 52.7344 666.51 Q51.9069 663.327 50.2518 660.208 L55.7899 660.208 Q57.1267 663.359 57.827 666.669 Q58.5272 669.979 58.5272 673.385 Q58.5272 681.915 53.5619 686.912 Q48.5967 691.877 40.1303 691.877 Q31.3774 691.877 26.2531 687.167 Q21.0968 682.424 21.0968 674.404 Q21.0968 667.21 25.7438 663.041 Q30.3589 658.839 38.3161 658.839 M36.5973 664.696 Q31.7912 664.76 28.9266 667.401 Q26.0621 670.011 26.0621 674.34 Q26.0621 679.241 28.8312 682.202 Q31.6002 685.13 36.6292 685.575 L36.5973 664.696 Z\" fill=\"#000000\" fill-rule=\"evenodd\" fill-opacity=\"1\" /><polyline clip-path=\"url(#clip8502)\" style=\"stroke:#009af9; stroke-width:4; stroke-opacity:1; fill:none\" points=\"\n",
       "  306.335,794.214 343.567,971.222 380.799,1030.22 418.03,971.222 455.262,853.217 492.494,912.219 529.725,912.219 566.957,912.219 604.189,735.212 641.42,853.217 \n",
       "  678.652,794.214 715.884,794.214 753.115,794.214 790.347,794.214 827.579,794.214 864.81,971.222 902.042,971.222 939.273,971.222 976.505,971.222 1013.74,794.214 \n",
       "  1050.97,794.214 1088.2,794.214 1125.43,794.214 1162.66,794.214 1199.9,794.214 1237.13,912.219 1274.36,1030.22 1311.59,1030.22 1348.82,1030.22 1386.05,1030.22 \n",
       "  1423.29,971.222 1460.52,971.222 1497.75,853.217 1534.98,971.222 1572.21,971.222 1609.44,971.222 1646.68,794.214 1683.91,794.214 1721.14,735.212 1758.37,794.214 \n",
       "  1795.6,853.217 1832.83,853.217 1870.06,853.217 1907.3,558.205 1944.53,558.205 1981.76,145.188 2018.99,145.188 2056.22,145.188 2093.45,145.188 2130.69,145.188 \n",
       "  2167.92,263.193 2205.15,440.2 2242.38,381.198 2279.61,912.219 2316.84,853.217 2354.08,853.217 2391.31,853.217 2428.54,1030.22 2465.77,971.222 2503,1089.23 \n",
       "  2540.23,971.222 2577.47,1089.23 2614.7,1089.23 2651.93,1089.23 2689.16,1148.23 2726.39,1148.23 2763.62,1148.23 2800.86,1089.23 2838.09,1148.23 2875.32,1148.23 \n",
       "  2912.55,1148.23 2949.78,1148.23 2987.01,1266.23 3024.25,1266.23 3061.48,1266.23 3098.71,1266.23 3135.94,1266.23 3173.17,1266.23 3210.4,1207.23 3247.64,1325.24 \n",
       "  3284.87,1325.24 3322.1,1266.23 3359.33,1325.24 3396.56,1325.24 3433.79,1325.24 3471.03,1207.23 3508.26,1266.23 3545.49,1207.23 3582.72,1207.23 3619.95,1089.23 \n",
       "  3657.18,1089.23 3694.42,1089.23 3731.65,1089.23 3768.88,1089.23 \n",
       "  \"/>\n",
       "<polyline clip-path=\"url(#clip8502)\" style=\"stroke:#e26f46; stroke-width:4; stroke-opacity:1; fill:none\" points=\"\n",
       "  306.335,912.219 343.567,971.222 380.799,1030.22 418.03,971.222 455.262,912.219 492.494,853.217 529.725,853.217 566.957,853.217 604.189,794.214 641.42,853.217 \n",
       "  678.652,794.214 715.884,794.214 753.115,794.214 790.347,794.214 827.579,794.214 864.81,912.219 902.042,912.219 939.273,912.219 976.505,912.219 1013.74,853.217 \n",
       "  1050.97,794.214 1088.2,853.217 1125.43,853.217 1162.66,853.217 1199.9,853.217 1237.13,912.219 1274.36,912.219 1311.59,971.222 1348.82,1030.22 1386.05,1089.23 \n",
       "  1423.29,1089.23 1460.52,971.222 1497.75,912.219 1534.98,853.217 1572.21,853.217 1609.44,853.217 1646.68,853.217 1683.91,853.217 1721.14,853.217 1758.37,794.214 \n",
       "  1795.6,794.214 1832.83,794.214 1870.06,794.214 1907.3,676.21 1944.53,558.205 1981.76,263.193 2018.99,145.188 2056.22,86.1857 2093.45,86.1857 2130.69,204.19 \n",
       "  2167.92,263.193 2205.15,440.2 2242.38,499.202 2279.61,617.207 2316.84,794.214 2354.08,912.219 2391.31,912.219 2428.54,1030.22 2465.77,1030.22 2503,1030.22 \n",
       "  2540.23,1030.22 2577.47,1030.22 2614.7,1030.22 2651.93,1089.23 2689.16,1089.23 2726.39,1148.23 2763.62,1148.23 2800.86,1148.23 2838.09,1148.23 2875.32,1148.23 \n",
       "  2912.55,1207.23 2949.78,1207.23 2987.01,1207.23 3024.25,1207.23 3061.48,1266.23 3098.71,1325.24 3135.94,1325.24 3173.17,1266.23 3210.4,1207.23 3247.64,1207.23 \n",
       "  3284.87,1207.23 3322.1,1266.23 3359.33,1325.24 3396.56,1325.24 3433.79,1384.24 3471.03,1325.24 3508.26,1325.24 3545.49,1207.23 3582.72,1148.23 3619.95,1030.22 \n",
       "  3657.18,971.222 3694.42,912.219 3731.65,912.219 3768.88,912.219 \n",
       "  \"/>\n",
       "<polyline clip-path=\"url(#clip8502)\" style=\"stroke:#3da44d; stroke-width:4; stroke-opacity:1; fill:none\" points=\"\n",
       "  3638.57,2799.12 3638.57,-1328.69 \n",
       "  \"/>\n",
       "<path clip-path=\"url(#clip8500)\" d=\"\n",
       "M320.059 463.884 L1142.33 463.884 L1142.33 221.964 L320.059 221.964  Z\n",
       "  \" fill=\"#ffffff\" fill-rule=\"evenodd\" fill-opacity=\"1\"/>\n",
       "<polyline clip-path=\"url(#clip8500)\" style=\"stroke:#000000; stroke-width:4; stroke-opacity:1; fill:none\" points=\"\n",
       "  320.059,463.884 1142.33,463.884 1142.33,221.964 320.059,221.964 320.059,463.884 \n",
       "  \"/>\n",
       "<polyline clip-path=\"url(#clip8500)\" style=\"stroke:#009af9; stroke-width:4; stroke-opacity:1; fill:none\" points=\"\n",
       "  359.259,282.444 594.459,282.444 \n",
       "  \"/>\n",
       "<path clip-path=\"url(#clip8500)\" d=\"M 0 0 M646.853 299.724 L633.659 265.164 L638.543 265.164 L649.492 294.261 L660.464 265.164 L665.325 265.164 L652.154 299.724 L646.853 299.724 Z\" fill=\"#000000\" fill-rule=\"evenodd\" fill-opacity=\"1\" /><path clip-path=\"url(#clip8500)\" d=\"M 0 0 M669.978 265.164 L674.654 265.164 L674.654 299.724 L669.978 299.724 L669.978 265.164 Z\" fill=\"#000000\" fill-rule=\"evenodd\" fill-opacity=\"1\" /><path clip-path=\"url(#clip8500)\" d=\"M 0 0 M677.64 265.164 L682.663 265.164 L691.251 278.011 L699.885 265.164 L704.909 265.164 L693.798 281.761 L705.649 299.724 L700.626 299.724 L690.904 285.025 L681.112 299.724 L676.066 299.724 L688.404 281.275 L677.64 265.164 Z\" fill=\"#000000\" fill-rule=\"evenodd\" fill-opacity=\"1\" /><polyline clip-path=\"url(#clip8500)\" style=\"stroke:#e26f46; stroke-width:4; stroke-opacity:1; fill:none\" points=\"\n",
       "  359.259,342.924 594.459,342.924 \n",
       "  \"/>\n",
       "<path clip-path=\"url(#clip8500)\" d=\"M 0 0 M637.941 356.315 L637.941 370.065 L633.659 370.065 L633.659 334.278 L637.941 334.278 L637.941 338.213 Q639.284 335.899 641.321 334.788 Q643.381 333.653 646.228 333.653 Q650.951 333.653 653.89 337.403 Q656.853 341.153 656.853 347.264 Q656.853 353.375 653.89 357.125 Q650.951 360.875 646.228 360.875 Q643.381 360.875 641.321 359.764 Q639.284 358.63 637.941 356.315 M652.432 347.264 Q652.432 342.565 650.488 339.903 Q648.566 337.218 645.187 337.218 Q641.807 337.218 639.863 339.903 Q637.941 342.565 637.941 347.264 Q637.941 351.963 639.863 354.649 Q641.807 357.311 645.187 357.311 Q648.566 357.311 650.488 354.649 Q652.432 351.963 652.432 347.264 Z\" fill=\"#000000\" fill-rule=\"evenodd\" fill-opacity=\"1\" /><path clip-path=\"url(#clip8500)\" d=\"M 0 0 M676.344 338.26 Q675.626 337.843 674.77 337.658 Q673.937 337.45 672.918 337.45 Q669.307 337.45 667.362 339.811 Q665.441 342.149 665.441 346.547 L665.441 360.204 L661.159 360.204 L661.159 334.278 L665.441 334.278 L665.441 338.306 Q666.784 335.945 668.937 334.811 Q671.089 333.653 674.168 333.653 Q674.608 333.653 675.14 333.723 Q675.673 333.769 676.321 333.885 L676.344 338.26 Z\" fill=\"#000000\" fill-rule=\"evenodd\" fill-opacity=\"1\" /><path clip-path=\"url(#clip8500)\" d=\"M 0 0 M701.946 346.176 L701.946 348.26 L682.362 348.26 Q682.64 352.658 685.001 354.973 Q687.386 357.264 691.622 357.264 Q694.075 357.264 696.367 356.662 Q698.682 356.061 700.95 354.857 L700.95 358.885 Q698.659 359.857 696.251 360.366 Q693.844 360.875 691.367 360.875 Q685.163 360.875 681.529 357.264 Q677.918 353.653 677.918 347.496 Q677.918 341.13 681.344 337.403 Q684.793 333.653 690.626 333.653 Q695.858 333.653 698.89 337.033 Q701.946 340.389 701.946 346.176 M697.686 344.926 Q697.64 341.431 695.719 339.348 Q693.821 337.264 690.673 337.264 Q687.108 337.264 684.955 339.278 Q682.825 341.292 682.501 344.95 L697.686 344.926 Z\" fill=\"#000000\" fill-rule=\"evenodd\" fill-opacity=\"1\" /><path clip-path=\"url(#clip8500)\" d=\"M 0 0 M723.473 338.213 L723.473 324.186 L727.733 324.186 L727.733 360.204 L723.473 360.204 L723.473 356.315 Q722.131 358.63 720.071 359.764 Q718.033 360.875 715.163 360.875 Q710.464 360.875 707.501 357.125 Q704.561 353.375 704.561 347.264 Q704.561 341.153 707.501 337.403 Q710.464 333.653 715.163 333.653 Q718.033 333.653 720.071 334.788 Q722.131 335.899 723.473 338.213 M708.959 347.264 Q708.959 351.963 710.881 354.649 Q712.825 357.311 716.205 357.311 Q719.584 357.311 721.529 354.649 Q723.473 351.963 723.473 347.264 Q723.473 342.565 721.529 339.903 Q719.584 337.218 716.205 337.218 Q712.825 337.218 710.881 339.903 Q708.959 342.565 708.959 347.264 Z\" fill=\"#000000\" fill-rule=\"evenodd\" fill-opacity=\"1\" /><path clip-path=\"url(#clip8500)\" d=\"M 0 0 M732.2 334.278 L736.459 334.278 L736.459 360.204 L732.2 360.204 L732.2 334.278 M732.2 324.186 L736.459 324.186 L736.459 329.579 L732.2 329.579 L732.2 324.186 Z\" fill=\"#000000\" fill-rule=\"evenodd\" fill-opacity=\"1\" /><path clip-path=\"url(#clip8500)\" d=\"M 0 0 M759.584 335.274 L759.584 339.255 Q757.779 338.26 755.95 337.774 Q754.144 337.264 752.293 337.264 Q748.149 337.264 745.857 339.903 Q743.566 342.519 743.566 347.264 Q743.566 352.01 745.857 354.649 Q748.149 357.264 752.293 357.264 Q754.144 357.264 755.95 356.778 Q757.779 356.269 759.584 355.274 L759.584 359.209 Q757.802 360.042 755.881 360.459 Q753.982 360.875 751.83 360.875 Q745.973 360.875 742.524 357.195 Q739.075 353.514 739.075 347.264 Q739.075 340.922 742.547 337.288 Q746.043 333.653 752.107 333.653 Q754.075 333.653 755.95 334.07 Q757.825 334.463 759.584 335.274 Z\" fill=\"#000000\" fill-rule=\"evenodd\" fill-opacity=\"1\" /><path clip-path=\"url(#clip8500)\" d=\"M 0 0 M768.265 326.917 L768.265 334.278 L777.038 334.278 L777.038 337.588 L768.265 337.588 L768.265 351.662 Q768.265 354.834 769.121 355.737 Q770.001 356.639 772.663 356.639 L777.038 356.639 L777.038 360.204 L772.663 360.204 Q767.732 360.204 765.857 358.375 Q763.982 356.524 763.982 351.662 L763.982 337.588 L760.857 337.588 L760.857 334.278 L763.982 334.278 L763.982 326.917 L768.265 326.917 Z\" fill=\"#000000\" fill-rule=\"evenodd\" fill-opacity=\"1\" /><path clip-path=\"url(#clip8500)\" d=\"M 0 0 M781.505 334.278 L785.765 334.278 L785.765 360.204 L781.505 360.204 L781.505 334.278 M781.505 324.186 L785.765 324.186 L785.765 329.579 L781.505 329.579 L781.505 324.186 Z\" fill=\"#000000\" fill-rule=\"evenodd\" fill-opacity=\"1\" /><path clip-path=\"url(#clip8500)\" d=\"M 0 0 M800.278 337.264 Q796.853 337.264 794.862 339.95 Q792.871 342.612 792.871 347.264 Q792.871 351.917 794.839 354.602 Q796.829 357.264 800.278 357.264 Q803.681 357.264 805.672 354.579 Q807.663 351.894 807.663 347.264 Q807.663 342.658 805.672 339.973 Q803.681 337.264 800.278 337.264 M800.278 333.653 Q805.834 333.653 809.005 337.264 Q812.177 340.875 812.177 347.264 Q812.177 353.63 809.005 357.264 Q805.834 360.875 800.278 360.875 Q794.7 360.875 791.528 357.264 Q788.38 353.63 788.38 347.264 Q788.38 340.875 791.528 337.264 Q794.7 333.653 800.278 333.653 Z\" fill=\"#000000\" fill-rule=\"evenodd\" fill-opacity=\"1\" /><path clip-path=\"url(#clip8500)\" d=\"M 0 0 M838.195 344.556 L838.195 360.204 L833.936 360.204 L833.936 344.695 Q833.936 341.014 832.5 339.186 Q831.065 337.357 828.195 337.357 Q824.746 337.357 822.755 339.556 Q820.764 341.755 820.764 345.551 L820.764 360.204 L816.482 360.204 L816.482 334.278 L820.764 334.278 L820.764 338.306 Q822.292 335.968 824.352 334.811 Q826.436 333.653 829.144 333.653 Q833.612 333.653 835.903 336.431 Q838.195 339.186 838.195 344.556 Z\" fill=\"#000000\" fill-rule=\"evenodd\" fill-opacity=\"1\" /><path clip-path=\"url(#clip8500)\" d=\"M 0 0 M859.19 335.042 L859.19 339.07 Q857.385 338.144 855.44 337.681 Q853.496 337.218 851.412 337.218 Q848.241 337.218 846.644 338.19 Q845.07 339.163 845.07 341.107 Q845.07 342.588 846.204 343.445 Q847.338 344.278 850.764 345.042 L852.223 345.366 Q856.76 346.338 858.658 348.121 Q860.579 349.88 860.579 353.051 Q860.579 356.662 857.709 358.769 Q854.861 360.875 849.861 360.875 Q847.778 360.875 845.51 360.459 Q843.264 360.065 840.764 359.255 L840.764 354.857 Q843.125 356.084 845.417 356.709 Q847.709 357.311 849.954 357.311 Q852.963 357.311 854.584 356.292 Q856.204 355.25 856.204 353.375 Q856.204 351.639 855.024 350.713 Q853.866 349.787 849.908 348.931 L848.426 348.584 Q844.468 347.75 842.709 346.038 Q840.95 344.301 840.95 341.292 Q840.95 337.635 843.542 335.644 Q846.135 333.653 850.903 333.653 Q853.264 333.653 855.348 334.001 Q857.431 334.348 859.19 335.042 Z\" fill=\"#000000\" fill-rule=\"evenodd\" fill-opacity=\"1\" /><polyline clip-path=\"url(#clip8500)\" style=\"stroke:#3da44d; stroke-width:4; stroke-opacity:1; fill:none\" points=\"\n",
       "  359.259,403.404 594.459,403.404 \n",
       "  \"/>\n",
       "<path clip-path=\"url(#clip8500)\" d=\"M 0 0 M633.659 386.124 L662.895 386.124 L662.895 390.059 L650.626 390.059 L650.626 420.684 L645.927 420.684 L645.927 390.059 L633.659 390.059 L633.659 386.124 Z\" fill=\"#000000\" fill-rule=\"evenodd\" fill-opacity=\"1\" /><path clip-path=\"url(#clip8500)\" d=\"M 0 0 M669.353 397.744 Q665.927 397.744 663.937 400.43 Q661.946 403.092 661.946 407.744 Q661.946 412.397 663.913 415.082 Q665.904 417.744 669.353 417.744 Q672.756 417.744 674.747 415.059 Q676.737 412.374 676.737 407.744 Q676.737 403.138 674.747 400.453 Q672.756 397.744 669.353 397.744 M669.353 394.133 Q674.909 394.133 678.08 397.744 Q681.251 401.355 681.251 407.744 Q681.251 414.11 678.08 417.744 Q674.909 421.355 669.353 421.355 Q663.775 421.355 660.603 417.744 Q657.455 414.11 657.455 407.744 Q657.455 401.355 660.603 397.744 Q663.775 394.133 669.353 394.133 Z\" fill=\"#000000\" fill-rule=\"evenodd\" fill-opacity=\"1\" /><path clip-path=\"url(#clip8500)\" d=\"M 0 0 M702.779 398.693 L702.779 384.666 L707.038 384.666 L707.038 420.684 L702.779 420.684 L702.779 416.795 Q701.436 419.11 699.376 420.244 Q697.339 421.355 694.469 421.355 Q689.77 421.355 686.807 417.605 Q683.867 413.855 683.867 407.744 Q683.867 401.633 686.807 397.883 Q689.77 394.133 694.469 394.133 Q697.339 394.133 699.376 395.268 Q701.436 396.379 702.779 398.693 M688.265 407.744 Q688.265 412.443 690.186 415.129 Q692.131 417.791 695.51 417.791 Q698.89 417.791 700.835 415.129 Q702.779 412.443 702.779 407.744 Q702.779 403.045 700.835 400.383 Q698.89 397.698 695.51 397.698 Q692.131 397.698 690.186 400.383 Q688.265 403.045 688.265 407.744 Z\" fill=\"#000000\" fill-rule=\"evenodd\" fill-opacity=\"1\" /><path clip-path=\"url(#clip8500)\" d=\"M 0 0 M723.288 407.652 Q718.126 407.652 716.135 408.832 Q714.145 410.013 714.145 412.86 Q714.145 415.129 715.626 416.471 Q717.131 417.791 719.7 417.791 Q723.242 417.791 725.371 415.291 Q727.524 412.767 727.524 408.601 L727.524 407.652 L723.288 407.652 M731.783 405.893 L731.783 420.684 L727.524 420.684 L727.524 416.749 Q726.066 419.11 723.89 420.244 Q721.714 421.355 718.566 421.355 Q714.584 421.355 712.223 419.133 Q709.885 416.888 709.885 413.138 Q709.885 408.763 712.802 406.541 Q715.742 404.318 721.552 404.318 L727.524 404.318 L727.524 403.902 Q727.524 400.962 725.58 399.365 Q723.658 397.744 720.163 397.744 Q717.941 397.744 715.834 398.277 Q713.728 398.809 711.784 399.874 L711.784 395.939 Q714.121 395.036 716.321 394.596 Q718.52 394.133 720.603 394.133 Q726.228 394.133 729.006 397.05 Q731.783 399.967 731.783 405.893 Z\" fill=\"#000000\" fill-rule=\"evenodd\" fill-opacity=\"1\" /><path clip-path=\"url(#clip8500)\" d=\"M 0 0 M747.038 423.091 Q745.232 427.721 743.519 429.133 Q741.807 430.545 738.936 430.545 L735.533 430.545 L735.533 426.98 L738.033 426.98 Q739.793 426.98 740.765 426.147 Q741.737 425.314 742.918 422.212 L743.682 420.267 L733.195 394.758 L737.709 394.758 L745.811 415.036 L753.913 394.758 L758.427 394.758 L747.038 423.091 Z\" fill=\"#000000\" fill-rule=\"evenodd\" fill-opacity=\"1\" /><path clip-path=\"url(#clip8500)\" d=\"M 0 0 M782.825 389.967 L782.825 416.842 L788.473 416.842 Q795.626 416.842 798.936 413.601 Q802.269 410.36 802.269 403.369 Q802.269 396.425 798.936 393.207 Q795.626 389.967 788.473 389.967 L782.825 389.967 M778.149 386.124 L787.755 386.124 Q797.802 386.124 802.501 390.314 Q807.2 394.481 807.2 403.369 Q807.2 412.305 802.477 416.494 Q797.755 420.684 787.755 420.684 L778.149 420.684 L778.149 386.124 Z\" fill=\"#000000\" fill-rule=\"evenodd\" fill-opacity=\"1\" /><path clip-path=\"url(#clip8500)\" d=\"M 0 0 M833.843 406.656 L833.843 408.74 L814.26 408.74 Q814.538 413.138 816.899 415.453 Q819.283 417.744 823.519 417.744 Q825.973 417.744 828.264 417.142 Q830.579 416.541 832.848 415.337 L832.848 419.365 Q830.556 420.337 828.149 420.846 Q825.741 421.355 823.264 421.355 Q817.061 421.355 813.427 417.744 Q809.815 414.133 809.815 407.976 Q809.815 401.61 813.241 397.883 Q816.69 394.133 822.524 394.133 Q827.755 394.133 830.788 397.513 Q833.843 400.869 833.843 406.656 M829.584 405.406 Q829.538 401.911 827.616 399.828 Q825.718 397.744 822.57 397.744 Q819.005 397.744 816.852 399.758 Q814.723 401.772 814.399 405.43 L829.584 405.406 Z\" fill=\"#000000\" fill-rule=\"evenodd\" fill-opacity=\"1\" /><path clip-path=\"url(#clip8500)\" d=\"M 0 0 M856.968 395.754 L856.968 399.735 Q855.162 398.74 853.334 398.254 Q851.528 397.744 849.676 397.744 Q845.533 397.744 843.241 400.383 Q840.95 402.999 840.95 407.744 Q840.95 412.49 843.241 415.129 Q845.533 417.744 849.676 417.744 Q851.528 417.744 853.334 417.258 Q855.162 416.749 856.968 415.754 L856.968 419.689 Q855.186 420.522 853.264 420.939 Q851.366 421.355 849.213 421.355 Q843.357 421.355 839.908 417.675 Q836.459 413.994 836.459 407.744 Q836.459 401.402 839.931 397.768 Q843.426 394.133 849.491 394.133 Q851.459 394.133 853.334 394.55 Q855.209 394.943 856.968 395.754 Z\" fill=\"#000000\" fill-rule=\"evenodd\" fill-opacity=\"1\" /><path clip-path=\"url(#clip8500)\" d=\"M 0 0 M862.037 414.804 L866.922 414.804 L866.922 420.684 L862.037 420.684 L862.037 414.804 Z\" fill=\"#000000\" fill-rule=\"evenodd\" fill-opacity=\"1\" /><path clip-path=\"url(#clip8500)\" d=\"M 0 0 M887.871 416.749 L895.509 416.749 L895.509 390.383 L887.199 392.05 L887.199 387.791 L895.463 386.124 L900.139 386.124 L900.139 416.749 L907.778 416.749 L907.778 420.684 L887.871 420.684 L887.871 416.749 Z\" fill=\"#000000\" fill-rule=\"evenodd\" fill-opacity=\"1\" /><path clip-path=\"url(#clip8500)\" d=\"M 0 0 M913.657 416.749 L921.296 416.749 L921.296 390.383 L912.986 392.05 L912.986 387.791 L921.25 386.124 L925.926 386.124 L925.926 416.749 L933.565 416.749 L933.565 420.684 L913.657 420.684 L913.657 416.749 Z\" fill=\"#000000\" fill-rule=\"evenodd\" fill-opacity=\"1\" /><path clip-path=\"url(#clip8500)\" d=\"M 0 0 M939.12 414.804 L944.005 414.804 L944.005 418.786 L940.208 426.193 L937.222 426.193 L939.12 418.786 L939.12 414.804 Z\" fill=\"#000000\" fill-rule=\"evenodd\" fill-opacity=\"1\" /><path clip-path=\"url(#clip8500)\" d=\"M 0 0 M968.171 416.749 L984.49 416.749 L984.49 420.684 L962.546 420.684 L962.546 416.749 Q965.208 413.994 969.791 409.365 Q974.398 404.712 975.578 403.369 Q977.824 400.846 978.703 399.11 Q979.606 397.351 979.606 395.661 Q979.606 392.906 977.662 391.17 Q975.74 389.434 972.639 389.434 Q970.44 389.434 967.986 390.198 Q965.555 390.962 962.778 392.513 L962.778 387.791 Q965.602 386.656 968.055 386.078 Q970.509 385.499 972.546 385.499 Q977.916 385.499 981.111 388.184 Q984.305 390.869 984.305 395.36 Q984.305 397.49 983.495 399.411 Q982.708 401.309 980.602 403.902 Q980.023 404.573 976.921 407.791 Q973.819 410.985 968.171 416.749 Z\" fill=\"#000000\" fill-rule=\"evenodd\" fill-opacity=\"1\" /><path clip-path=\"url(#clip8500)\" d=\"M 0 0 M999.56 389.203 Q995.949 389.203 994.12 392.768 Q992.314 396.309 992.314 403.439 Q992.314 410.545 994.12 414.11 Q995.949 417.652 999.56 417.652 Q1003.19 417.652 1005 414.11 Q1006.83 410.545 1006.83 403.439 Q1006.83 396.309 1005 392.768 Q1003.19 389.203 999.56 389.203 M999.56 385.499 Q1005.37 385.499 1008.43 390.106 Q1011.5 394.689 1011.5 403.439 Q1011.5 412.166 1008.43 416.772 Q1005.37 421.355 999.56 421.355 Q993.75 421.355 990.671 416.772 Q987.615 412.166 987.615 403.439 Q987.615 394.689 990.671 390.106 Q993.75 385.499 999.56 385.499 Z\" fill=\"#000000\" fill-rule=\"evenodd\" fill-opacity=\"1\" /><path clip-path=\"url(#clip8500)\" d=\"M 0 0 M1020.6 416.749 L1036.92 416.749 L1036.92 420.684 L1014.98 420.684 L1014.98 416.749 Q1017.64 413.994 1022.22 409.365 Q1026.83 404.712 1028.01 403.369 Q1030.25 400.846 1031.13 399.11 Q1032.04 397.351 1032.04 395.661 Q1032.04 392.906 1030.09 391.17 Q1028.17 389.434 1025.07 389.434 Q1022.87 389.434 1020.42 390.198 Q1017.99 390.962 1015.21 392.513 L1015.21 387.791 Q1018.03 386.656 1020.49 386.078 Q1022.94 385.499 1024.98 385.499 Q1030.35 385.499 1033.54 388.184 Q1036.74 390.869 1036.74 395.36 Q1036.74 397.49 1035.93 399.411 Q1035.14 401.309 1033.03 403.902 Q1032.45 404.573 1029.35 407.791 Q1026.25 410.985 1020.6 416.749 Z\" fill=\"#000000\" fill-rule=\"evenodd\" fill-opacity=\"1\" /><path clip-path=\"url(#clip8500)\" d=\"M 0 0 M1051.99 389.203 Q1048.38 389.203 1046.55 392.768 Q1044.74 396.309 1044.74 403.439 Q1044.74 410.545 1046.55 414.11 Q1048.38 417.652 1051.99 417.652 Q1055.62 417.652 1057.43 414.11 Q1059.26 410.545 1059.26 403.439 Q1059.26 396.309 1057.43 392.768 Q1055.62 389.203 1051.99 389.203 M1051.99 385.499 Q1057.8 385.499 1060.86 390.106 Q1063.93 394.689 1063.93 403.439 Q1063.93 412.166 1060.86 416.772 Q1057.8 421.355 1051.99 421.355 Q1046.18 421.355 1043.1 416.772 Q1040.05 412.166 1040.05 403.439 Q1040.05 394.689 1043.1 390.106 Q1046.18 385.499 1051.99 385.499 Z\" fill=\"#000000\" fill-rule=\"evenodd\" fill-opacity=\"1\" /></svg>\n"
      ]
     },
     "execution_count": 12,
     "metadata": {},
     "output_type": "execute_result"
    }
   ],
   "source": [
    "using Plots\n",
    "\n",
    "#dates = format_dates( df[rows,2] , \"m/d/yy\")\n",
    "\n",
    "gr()\n",
    "plot(    x_axis_dates,\n",
    "        [  y_axis_original y_axis_predicted \n",
    "        ], # y-axis\n",
    "    label    = \n",
    "        [ symbol_to_predict \"predictions\"  \"\" ],\n",
    "    legend   =:topleft, \n",
    "              # :right, :left, :top, :bottom, :inside, :best, :legend, :topright, :topleft, :bottomleft, :bottomright\n",
    "    xlabel   = \"time\",\n",
    "    ylabel   = \"value\",\n",
    "    size     = (980, 400), # width, height\n",
    "    layout = (1, 1), # number of graphs: vertically, horizontally\n",
    "    )\n",
    "## Add veritical today line\n",
    "plot!([today_id], seriestype=\"vline\", label=[ \"Today \"*t \"\" ],)\n"
   ]
  },
  {
   "cell_type": "code",
   "execution_count": 13,
   "metadata": {
    "ExecuteTime": {
     "end_time": "2020-12-11T21:06:38.588000-05:00",
     "start_time": "2020-12-12T02:05:35.422Z"
    }
   },
   "outputs": [],
   "source": [
    "savefig(\"../images/predictions_\" * symbol_to_predict * \".png\")"
   ]
  },
  {
   "cell_type": "code",
   "execution_count": 14,
   "metadata": {
    "ExecuteTime": {
     "end_time": "2020-12-11T21:06:39.040000-05:00",
     "start_time": "2020-12-12T02:05:35.425Z"
    }
   },
   "outputs": [
    {
     "name": "stdout",
     "output_type": "stream",
     "text": [
      "VIX 2020-12-11\n",
      "Sat, 2020-12-05\t predicted 21.0\t, but actual value was \t21.0\t difference is 0.0\n",
      "Sun, 2020-12-06\t predicted 20.0\t, but actual value was \t21.0\t difference is 1.0\n",
      "Mon, 2020-12-07\t predicted 21.0\t, but actual value was \t23.0\t difference is 2.0\n",
      "Tue, 2020-12-08\t predicted 21.0\t, but actual value was \t22.0\t difference is 1.0\n",
      "Wed, 2020-12-09\t predicted 23.0\t, but actual value was \t23.0\t difference is 0.0\n",
      "Thu, 2020-12-10\t predicted 24.0\t, but actual value was \t23.0\t difference is -1.0\n",
      "Fri, 2020-12-11\t predicted 26.0\t, but actual value was \t25.0\t difference is -1.0\n",
      "Sat, 2020-12-12\t predicted 27.0\n",
      "Sun, 2020-12-13\t predicted 28.0\n",
      "Mon, 2020-12-14\t predicted 28.0\n"
     ]
    }
   ],
   "source": [
    "## print prediction comparisons\n",
    "println(symbol_to_predict, \" \", today())\n",
    "\n",
    "file_path = \"../DATA/\" * symbol_to_predict * \"_predictions.csv\"\n",
    "open( file_path, \"a\") do file_handle # append\n",
    "    \n",
    "    for id in finem-10:finem\n",
    "        if id < today_id + 4 # Allows to show Monday predition on Friday night.\n",
    "            row = get(data_predictions, id) # get a dictionary of data from the SFrame\n",
    "            date_string = row[\"Date\"] # e.g. \"2020-10-20\"\n",
    "\n",
    "            a = y_axis_predicted[id]\n",
    "            b = y_axis_original[id]\n",
    "            d = round(b-a, digits=3)\n",
    "            date = convert(String, Dates.format( Date(date_string), \"e, yyyy-mm-dd\" ) )\n",
    "            if id <= today_id\n",
    "                println( date, \"\\t predicted \", a , \"\\t, but actual value was \\t\", b , \"\\t difference is \",  d  ) # di\n",
    "            else\n",
    "                println( date, \"\\t predicted \", a  ) # \n",
    "\n",
    "                txt_to_save =  \n",
    "                    convert(String, Dates.format( today(), \"yyyy-mm-dd\" ) ) *\",\"* \n",
    "                    convert(String, symbol_to_predict) *\",\"* \n",
    "                    date_string *\",\"* \n",
    "                    string(a) * \"\\n\"\n",
    "                \n",
    "                write(file_handle, txt_to_save )\n",
    "                \n",
    "            end # if\n",
    "        end #if \n",
    "    end # for\n",
    "end # open file"
   ]
  },
  {
   "cell_type": "code",
   "execution_count": null,
   "metadata": {},
   "outputs": [],
   "source": []
  },
  {
   "cell_type": "code",
   "execution_count": null,
   "metadata": {},
   "outputs": [],
   "source": []
  }
 ],
 "metadata": {
  "kernelspec": {
   "display_name": "Julia 1.5.1",
   "language": "julia",
   "name": "julia-1.5"
  },
  "language_info": {
   "file_extension": ".jl",
   "mimetype": "application/julia",
   "name": "julia",
   "version": "1.5.1"
  },
  "toc": {
   "base_numbering": 1,
   "nav_menu": {},
   "number_sections": true,
   "sideBar": true,
   "skip_h1_title": true,
   "title_cell": "Table of Contents",
   "title_sidebar": "Contents",
   "toc_cell": true,
   "toc_position": {},
   "toc_section_display": true,
   "toc_window_display": true
  },
  "varInspector": {
   "cols": {
    "lenName": 16,
    "lenType": 16,
    "lenVar": 40
   },
   "kernels_config": {
    "python": {
     "delete_cmd_postfix": "",
     "delete_cmd_prefix": "del ",
     "library": "var_list.py",
     "varRefreshCmd": "print(var_dic_list())"
    },
    "r": {
     "delete_cmd_postfix": ") ",
     "delete_cmd_prefix": "rm(",
     "library": "var_list.r",
     "varRefreshCmd": "cat(var_dic_list()) "
    }
   },
   "types_to_exclude": [
    "module",
    "function",
    "builtin_function_or_method",
    "instance",
    "_Feature"
   ],
   "window_display": false
  }
 },
 "nbformat": 4,
 "nbformat_minor": 4
}
