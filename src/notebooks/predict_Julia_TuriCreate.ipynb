{
 "cells": [
  {
   "cell_type": "markdown",
   "metadata": {},
   "source": [
    "# Prediction Model using TuriCreate in Julia"
   ]
  },
  {
   "cell_type": "markdown",
   "metadata": {
    "toc": true
   },
   "source": [
    "<h1>Table of Contents<span class=\"tocSkip\"></span></h1>\n",
    "<div class=\"toc\"><ul class=\"toc-item\"><li><span><a href=\"#Set-Up\" data-toc-modified-id=\"Set-Up-1\"><span class=\"toc-item-num\">1&nbsp;&nbsp;</span>Set Up</a></span></li><li><span><a href=\"#Fetch-Data-(SFrame)-from-Uber-CSV\" data-toc-modified-id=\"Fetch-Data-(SFrame)-from-Uber-CSV-2\"><span class=\"toc-item-num\">2&nbsp;&nbsp;</span>Fetch Data (SFrame) from Uber CSV</a></span></li><li><span><a href=\"#Split-Data\" data-toc-modified-id=\"Split-Data-3\"><span class=\"toc-item-num\">3&nbsp;&nbsp;</span>Split Data</a></span></li><li><span><a href=\"#Evaluate-the-Model\" data-toc-modified-id=\"Evaluate-the-Model-4\"><span class=\"toc-item-num\">4&nbsp;&nbsp;</span>Evaluate the Model</a></span></li><li><span><a href=\"#Save-/-Export-the-Model\" data-toc-modified-id=\"Save-/-Export-the-Model-5\"><span class=\"toc-item-num\">5&nbsp;&nbsp;</span>Save / Export the Model</a></span></li><li><span><a href=\"#Make-predictions\" data-toc-modified-id=\"Make-predictions-6\"><span class=\"toc-item-num\">6&nbsp;&nbsp;</span>Make predictions</a></span><ul class=\"toc-item\"><li><span><a href=\"#Explore-SFrame\" data-toc-modified-id=\"Explore-SFrame-6.1\"><span class=\"toc-item-num\">6.1&nbsp;&nbsp;</span>Explore SFrame</a></span></li></ul></li></ul></div>"
   ]
  },
  {
   "cell_type": "markdown",
   "metadata": {},
   "source": [
    "## Set Up"
   ]
  },
  {
   "cell_type": "code",
   "execution_count": 1,
   "metadata": {
    "ExecuteTime": {
     "end_time": "2020-12-14T19:59:21.450000-05:00",
     "start_time": "2020-12-15T00:59:20.628Z"
    }
   },
   "outputs": [
    {
     "name": "stdout",
     "output_type": "stream",
     "text": [
      "symbol_to_predict DJIA\n"
     ]
    }
   ],
   "source": [
    "## normally we receive symbol_to_predict from the calling code in Main.jl\n",
    "\n",
    "## comment out when exporting .jl file\n",
    "symbol_to_predict = \"DJIA\"\n",
    "\n",
    "println(\"symbol_to_predict \", symbol_to_predict )"
   ]
  },
  {
   "cell_type": "code",
   "execution_count": 2,
   "metadata": {
    "ExecuteTime": {
     "end_time": "2020-12-14T19:59:21.516000-05:00",
     "start_time": "2020-12-15T00:59:20.631Z"
    }
   },
   "outputs": [
    {
     "name": "stdout",
     "output_type": "stream",
     "text": [
      "\n"
     ]
    }
   ],
   "source": [
    "## Read feature names (columns) form the text file \n",
    "features_to_analyze = readlines(\"../DATA/features_to_analyze.txt\") # returns Array{String,1}\n",
    " \n",
    "println()"
   ]
  },
  {
   "cell_type": "code",
   "execution_count": 3,
   "metadata": {
    "ExecuteTime": {
     "end_time": "2020-12-14T19:59:25.951000-05:00",
     "start_time": "2020-12-15T00:59:20.635Z"
    }
   },
   "outputs": [
    {
     "name": "stdout",
     "output_type": "stream",
     "text": [
      "\n"
     ]
    },
    {
     "data": {
      "text/plain": [
       "\"DJIA_Original\""
      ]
     },
     "execution_count": 3,
     "metadata": {},
     "output_type": "execute_result"
    }
   ],
   "source": [
    "## uncomment for the first run\n",
    "# import Pkg\n",
    "# Pkg.add(\"PyCall\")\n",
    "# Pkg.add(\"Conda\")\n",
    "# ENV[\"PYTHON\"] = \"/opt/anaconda3/envs/turi/bin/python\"\n",
    "# /opt/anaconda3/envs/turi/lib/python3.6/site-packages/\n",
    "# Pkg.build(\"PyCall\")\n",
    "\n",
    "include(\"../Julia/functions.jl\") \n",
    "data_path=\"../DATA/processed/uber_training.csv\"\n",
    "column_to_predict = symbol_to_predict * \"_Original\""
   ]
  },
  {
   "cell_type": "markdown",
   "metadata": {},
   "source": [
    "## Fetch Data (SFrame) from Uber CSV"
   ]
  },
  {
   "cell_type": "code",
   "execution_count": 4,
   "metadata": {
    "ExecuteTime": {
     "end_time": "2020-12-14T19:59:30.219000-05:00",
     "start_time": "2020-12-15T00:59:20.639Z"
    }
   },
   "outputs": [
    {
     "name": "stdout",
     "output_type": "stream",
     "text": [
      "Finished parsing file /Users/uki/REPOS/MarketIndicators.jl/src/DATA/processed/uber_training.csv\n",
      "Parsing completed. Parsed 100 lines in 0.044436 secs.\n",
      "------------------------------------------------------\n",
      "Inferred types from first 100 line(s) of file as \n",
      "column_type_hints=[int,str,float,float,float,float,float,float,float,float,float,float,float,float,float,float,float,float,float,float,float,float,float,float,float,float,float,float,float,float,float,float,float,float,float,float,float,float,float,float,float,float,float,float,float,float,float,float,float,float,float,float,float,float,float,float,float,float,float,float,float,float,float,float,float,float,float,float,float,float,float,float,float,float,float,float,float,float,float,float,float,float,float,float,float,float,float,float,float,float,float,float,float,float,float,float,float,float,float,float,float,float,float,float,float,float,float,float,float,float,float,float,float,float,float,float,float,float,float,float,float,float,float,float,float,float,float,float,float,float,float,float,float,float,float,float,float,float,float,float,float,float,float,float,float,float,float,float,float,float,float,float,float,float,float,float,float,float,float,float,float,float,float,float,float,float,float,float,float,float,float,float,float,float,float,float,float,float,float,float,float,float,float,float,float,float,float,float,float,float,float,float,float,float,float,float,float,float,float,float,float,float,float,float,float,float,float,float,float,float,float,float,float,float,float,float,float,float,float,float,float,float,float,float,float,float,float,float,float,float,float,float,float,float,float,float,float,float,float,float,float,float,float,float,float,float,float,float,float,float,float,float,float,float,float,float,float,float,float,float,float,float,float]\n",
      "If parsing fails due to incorrect types, you can correct\n",
      "the inferred type list above and pass it to read_csv in\n",
      "the column_type_hints argument\n",
      "------------------------------------------------------\n",
      "Finished parsing file /Users/uki/REPOS/MarketIndicators.jl/src/DATA/processed/uber_training.csv\n",
      "Parsing completed. Parsed 1518 lines in 0.034361 secs.\n",
      "\n"
     ]
    }
   ],
   "source": [
    "using PyCall\n",
    "tc = pyimport(\"turicreate\")\n",
    "data = tc.SFrame(data_path)\n",
    "println()"
   ]
  },
  {
   "cell_type": "markdown",
   "metadata": {},
   "source": [
    "## Split Data"
   ]
  },
  {
   "cell_type": "code",
   "execution_count": 5,
   "metadata": {
    "ExecuteTime": {
     "end_time": "2020-12-14T19:59:30.834000-05:00",
     "start_time": "2020-12-15T00:59:20.641Z"
    }
   },
   "outputs": [
    {
     "name": "stdout",
     "output_type": "stream",
     "text": [
      "(1232,)\n",
      "(286,)\n"
     ]
    }
   ],
   "source": [
    "# Make a train-test split\n",
    "train_data, test_data = data.random_split(0.8)\n",
    "\n",
    "println( size(train_data) )\n",
    "println( size(test_data)  )"
   ]
  },
  {
   "cell_type": "code",
   "execution_count": 6,
   "metadata": {
    "ExecuteTime": {
     "end_time": "2020-12-14T19:59:33.446000-05:00",
     "start_time": "2020-12-15T00:59:20.644Z"
    }
   },
   "outputs": [
    {
     "name": "stdout",
     "output_type": "stream",
     "text": [
      "Automatically generating validation set from 5% of the data.\n",
      "Linear regression:\n",
      "--------------------------------------------------------\n",
      "Number of examples          : 1165\n",
      "Number of features          : 203\n",
      "Number of unpacked features : 203\n",
      "Number of coefficients    : 204\n",
      "Starting Newton Method\n",
      "--------------------------------------------------------\n",
      "+-----------+----------+--------------+--------------------+----------------------+---------------------------------+-----------------------------------+\n",
      "| Iteration | Passes   | Elapsed Time | Training Max Error | Validation Max Error | Training Root-Mean-Square Error | Validation Root-Mean-Square Error |\n",
      "+-----------+----------+--------------+--------------------+----------------------+---------------------------------+-----------------------------------+\n",
      "| 1         | 2        | 1.038219     | 1263.687445        | 1039.066185          | 168.861783                      | 216.467874                        |\n",
      "+-----------+----------+--------------+--------------------+----------------------+---------------------------------+-----------------------------------+\n",
      "SUCCESS: Optimal solution found.\n",
      "\n"
     ]
    },
    {
     "data": {
      "text/plain": [
       "PyObject Class                          : LinearRegression\n",
       "\n",
       "Schema\n",
       "------\n",
       "Number of coefficients         : 204\n",
       "Number of examples             : 1165\n",
       "Number of feature columns      : 203\n",
       "Number of unpacked features    : 203\n",
       "\n",
       "Hyperparameters\n",
       "---------------\n",
       "L1 penalty                     : 0\n",
       "L2 penalty                     : 0.01\n",
       "\n",
       "Training Summary\n",
       "----------------\n",
       "Solver                         : newton\n",
       "Solver iterations              : 1\n",
       "Solver status                  : SUCCESS: Optimal solution found.\n",
       "Training time (sec)            : 1.0541\n",
       "\n",
       "Settings\n",
       "--------\n",
       "Residual sum of squares        : 33219161.7115\n",
       "Training RMSE                  : 168.8618\n",
       "\n",
       "Highest Positive Coefficients\n",
       "-----------------------------\n",
       "(intercept)                    : 36290.9152\n",
       "DJIA_Avg005                    : 66.8712\n",
       "US_GDP_Q_Avg060                : 65.146\n",
       "US_PEND_HOME_SALE_M_Avg120     : 52.7764\n",
       "US_GDP_Q_Avg180                : 48.5935\n",
       "\n",
       "Lowest Negative Coefficients\n",
       "----------------------------\n",
       "US_GDP_Q_Avg120                : -92.83\n",
       "US_INDS_PROD_M_Avg180          : -91.7283\n",
       "VINIX_Avg010                   : -53.6253\n",
       "GOLD_Avg180                    : -49.7234\n",
       "GELYF_Avg090                   : -42.302\n"
      ]
     },
     "execution_count": 6,
     "metadata": {},
     "output_type": "execute_result"
    }
   ],
   "source": [
    "model = tc.regression.create( \n",
    "    train_data, \n",
    "    target = column_to_predict, \n",
    "    features = features_to_analyze, \n",
    "    validation_set=\"auto\", \n",
    "    verbose=true\n",
    ")"
   ]
  },
  {
   "cell_type": "markdown",
   "metadata": {},
   "source": [
    "## Evaluate the Model"
   ]
  },
  {
   "cell_type": "code",
   "execution_count": 7,
   "metadata": {
    "ExecuteTime": {
     "end_time": "2020-12-14T19:59:34.608000-05:00",
     "start_time": "2020-12-15T00:59:20.647Z"
    }
   },
   "outputs": [
    {
     "data": {
      "text/plain": [
       "Dict{Any,Any} with 2 entries:\n",
       "  \"rmse\"      => 189.649\n",
       "  \"max_error\" => 1200.16"
      ]
     },
     "execution_count": 7,
     "metadata": {},
     "output_type": "execute_result"
    }
   ],
   "source": [
    "#TODO: write this in a loop to select the best model\n",
    "# Evaluate the model and save the results into a dictionary\n",
    "results = model.evaluate( test_data ) #test_data[0:2531]\n",
    "results"
   ]
  },
  {
   "cell_type": "code",
   "execution_count": 8,
   "metadata": {
    "ExecuteTime": {
     "end_time": "2020-12-14T19:59:34.758000-05:00",
     "start_time": "2020-12-15T00:59:20.650Z"
    }
   },
   "outputs": [
    {
     "name": "stdout",
     "output_type": "stream",
     "text": [
      "max_error: 1200.16, rmse: 189.65\n"
     ]
    }
   ],
   "source": [
    "rmse = results[\"rmse\"]\n",
    "rmse = round(rmse, digits=2)\n",
    "\n",
    "max_error = results[\"max_error\"]\n",
    "max_error = round(max_error, digits=2)\n",
    "\n",
    "println( \"max_error: \", max_error, \", rmse: \", rmse )\n",
    "# max_error: 1069.27, rmse: 184.6\n",
    "# max_error: 65.35, rmse: 32.6            predict: ^DJIA added: US_INIT_JOBLESS\n",
    "# max_error: 1875.39, rmse: 443.59        predict: ^DJIA commented out: \"DJIA_Quantized\"\n",
    "# max_error: 1339.76, rmse: 373.94        predict: ^DJIA commented out: \"DJIA_Quantized\"\n",
    "# max_error: 916.19, rmse: 231.24       predict: ^DJIA with \"DJIA_Avg005\""
   ]
  },
  {
   "cell_type": "markdown",
   "metadata": {},
   "source": [
    "## Save / Export the Model"
   ]
  },
  {
   "cell_type": "code",
   "execution_count": 9,
   "metadata": {
    "ExecuteTime": {
     "end_time": "2020-12-14T19:59:34.782000-05:00",
     "start_time": "2020-12-15T00:59:20.653Z"
    }
   },
   "outputs": [],
   "source": [
    "# Export to Core ML\n",
    "model.export_coreml(\"../DATA/models/\" * symbol_to_predict * \".mlmodel\")"
   ]
  },
  {
   "cell_type": "markdown",
   "metadata": {},
   "source": [
    "## Make predictions "
   ]
  },
  {
   "cell_type": "code",
   "execution_count": 10,
   "metadata": {
    "ExecuteTime": {
     "end_time": "2020-12-14T19:59:34.973000-05:00",
     "start_time": "2020-12-15T00:59:20.655Z"
    }
   },
   "outputs": [
    {
     "name": "stdout",
     "output_type": "stream",
     "text": [
      "Finished parsing file /Users/uki/REPOS/MarketIndicators.jl/src/DATA/processed/uber_prediction.csv\n",
      "Parsing completed. Parsed 95 lines in 0.037511 secs.\n",
      "------------------------------------------------------\n",
      "Inferred types from first 100 line(s) of file as \n",
      "column_type_hints=[int,str,float,float,float,float,float,float,float,float,float,float,float,float,float,float,float,float,float,float,float,float,float,float,float,float,float,float,float,float,float,float,float,float,float,float,float,float,float,float,float,float,float,float,float,float,float,float,float,float,float,float,float,float,float,float,float,float,float,float,float,float,float,float,float,float,float,float,float,float,float,float,float,float,float,float,float,float,float,float,float,float,float,float,float,float,float,float,float,float,float,float,float,float,float,float,float,float,float,float,float,float,float,float,float,float,float,float,float,float,float,float,float,float,float,float,float,float,float,float,float,float,float,float,float,float,float,float,float,float,float,float,float,float,float,float,float,float,float,float,float,float,float,float,float,float,float,float,float,float,float,float,float,float,float,float,float,float,float,float,float,float,float,float,float,float,float,float,float,float,float,float,float,float,float,float,float,float,float,float,float,float,float,float,float,float,float,float,float,float,float,float,float,float,float,float,float,float,float,float,float,float,float,float,float,float,float,float,float,float,float,float,float,float,float,float,float,float,float,float,float,float,float,float,float,float,float,float,float,float,float,float,float,float,float,float,float,float,float,float,float,float,float,float,float,float,float,float,float,float,float,float,float,float,float,float,float,float,float,float,float,float,float]\n",
      "If parsing fails due to incorrect types, you can correct\n",
      "the inferred type list above and pass it to read_csv in\n",
      "the column_type_hints argument\n",
      "------------------------------------------------------\n",
      "Finished parsing file /Users/uki/REPOS/MarketIndicators.jl/src/DATA/processed/uber_prediction.csv\n",
      "Parsing completed. Parsed 95 lines in 0.008376 secs.\n",
      "\n"
     ]
    }
   ],
   "source": [
    "data_path=\"../DATA/processed/uber_prediction.csv\"\n",
    "data_predictions = tc.SFrame(data_path)\n",
    "\n",
    "## Save predictions to an SArray\n",
    "predictions = model.predict(data_predictions)\n",
    "#get(predictions, 1)\n",
    "\n",
    "println()"
   ]
  },
  {
   "cell_type": "markdown",
   "metadata": {},
   "source": [
    "### Explore SFrame"
   ]
  },
  {
   "cell_type": "code",
   "execution_count": 11,
   "metadata": {
    "ExecuteTime": {
     "end_time": "2020-12-14T19:59:35.156000-05:00",
     "start_time": "2020-12-15T00:59:20.658Z"
    }
   },
   "outputs": [
    {
     "name": "stdout",
     "output_type": "stream",
     "text": [
      "record_count data 95\n",
      "record_count predictions 95\n",
      "feature_number 263\n",
      "Rata Die 737777\n",
      "date 2020-12-18\n",
      "original 30325.789063\n"
     ]
    }
   ],
   "source": [
    "record_count = size(data_predictions)[1]\n",
    "row = get(data_predictions, record_count-1)\n",
    "\n",
    "feature_number = row.count\n",
    "day = row[\"Rata_Die\"]\n",
    "date = row[\"Date\"] # \"2020-10-20\"\n",
    "original = row[\"DJIA_Original\"]\n",
    "\n",
    "println( \"record_count data \", record_count )\n",
    "println( \"record_count predictions \", size(predictions)[1] )\n",
    "\n",
    "println( \"feature_number \", feature_number )\n",
    "println( \"Rata Die \", day )\n",
    "println( \"date \", date )\n",
    "println( \"original \", original )"
   ]
  },
  {
   "cell_type": "code",
   "execution_count": 26,
   "metadata": {
    "ExecuteTime": {
     "end_time": "2020-12-14T20:06:18.582000-05:00",
     "start_time": "2020-12-15T01:06:17.890Z"
    }
   },
   "outputs": [
    {
     "name": "stdout",
     "output_type": "stream",
     "text": [
      "preditions set size: 94, step 5\n",
      "DJIA 94 Array{Date,1}\n",
      "t = Dec. 14, 2020 - String\n",
      "\n"
     ]
    }
   ],
   "source": [
    "using Dates\n",
    "today_rata = Dates.datetime2rata( today() )\n",
    "\n",
    "## Determine dataset size\n",
    "\n",
    "initio = 1                                              # latin: start\n",
    "finem  = size(predictions)[1] -1                        # latin: end\n",
    "gradus = convert(Int64, round( finem/20, digits=0)  )   # latin: step\n",
    "\n",
    "println(\"preditions set size: \", finem, \", step \", gradus)\n",
    "\n",
    "\n",
    "## Declare variables\n",
    "x_axis_dates      = Vector{Date}() # results in Array{Date,1}\n",
    "y_axis_original   = Vector{Float64}()\n",
    "y_axis_predicted  = Vector{Float64}()\n",
    "\n",
    "println(symbol_to_predict, \" \", finem, \" \", typeof(x_axis_dates))\n",
    "\n",
    "today_id  = 50 # not set yet\n",
    "\n",
    "## step thru each prediction\n",
    "for id in initio:finem\n",
    "    row = get(data_predictions, id) # get a dictionary of data from the SFrame\n",
    "    \n",
    "    date_string = row[\"Date\"] # e.g. \"2020-10-20\"\n",
    "    date = Date(date_string) # 2020-09-07 Date\n",
    "    if date == today()\n",
    "        today_id = id\n",
    "    end \n",
    "    #date = Dates.format(date, \"u.d,yy\" )\n",
    "    #println(\"date \", date, \" \", typeof(date))\n",
    "    push!(x_axis_dates, date)\n",
    "    \n",
    "    predicted = get(predictions, id) # Float64\n",
    "    predicted = round(predicted, digits=0)\n",
    "    #println(\"predicted \", predicted, \" \", typeof(predicted))\n",
    "    append!(y_axis_predicted, predicted)\n",
    "    \n",
    "    \n",
    "    original = row[ column_to_predict ]\n",
    "    original = round(original, digits=0) # Float64\n",
    "    #println(\"original \", original, \" \", typeof(original)) \n",
    "    append!(y_axis_original, original)\n",
    "end\n",
    "\n",
    "## Format Dates for plotting\n",
    "include(\"../Julia/function_format_dates.jl\")\n",
    "x_axis_dates = format_dates(x_axis_dates, \" u.d,yy \")\n",
    "\n",
    "\n",
    "\n",
    "t = today()# Date\n",
    "t = format_dates([t], \"u. d, yyyy\") # Array{String,1}\n",
    "t = t[1] # String\n",
    "println(\"t = \", t, \" - \", typeof(t))\n",
    "\n",
    "println()"
   ]
  },
  {
   "cell_type": "code",
   "execution_count": 27,
   "metadata": {
    "ExecuteTime": {
     "end_time": "2020-12-14T20:06:19.269000-05:00",
     "start_time": "2020-12-15T01:06:19.225Z"
    }
   },
   "outputs": [
    {
     "data": {
      "image/svg+xml": [
       "<?xml version=\"1.0\" encoding=\"utf-8\"?>\n",
       "<svg xmlns=\"http://www.w3.org/2000/svg\" xmlns:xlink=\"http://www.w3.org/1999/xlink\" width=\"980\" height=\"400\" viewBox=\"0 0 3920 1600\">\n",
       "<defs>\n",
       "  <clipPath id=\"clip7700\">\n",
       "    <rect x=\"0\" y=\"0\" width=\"3920\" height=\"1600\"/>\n",
       "  </clipPath>\n",
       "</defs>\n",
       "<path clip-path=\"url(#clip7700)\" d=\"\n",
       "M0 1600 L3920 1600 L3920 0 L0 0  Z\n",
       "  \" fill=\"#ffffff\" fill-rule=\"evenodd\" fill-opacity=\"1\"/>\n",
       "<defs>\n",
       "  <clipPath id=\"clip7701\">\n",
       "    <rect x=\"784\" y=\"0\" width=\"2745\" height=\"1600\"/>\n",
       "  </clipPath>\n",
       "</defs>\n",
       "<path clip-path=\"url(#clip7700)\" d=\"\n",
       "M277.844 1455.01 L3872.76 1455.01 L3872.76 47.2441 L277.844 47.2441  Z\n",
       "  \" fill=\"#ffffff\" fill-rule=\"evenodd\" fill-opacity=\"1\"/>\n",
       "<defs>\n",
       "  <clipPath id=\"clip7702\">\n",
       "    <rect x=\"277\" y=\"47\" width=\"3596\" height=\"1409\"/>\n",
       "  </clipPath>\n",
       "</defs>\n",
       "<polyline clip-path=\"url(#clip7702)\" style=\"stroke:#000000; stroke-width:2; stroke-opacity:0.1; fill:none\" points=\"\n",
       "  379.586,1455.01 379.586,47.2441 \n",
       "  \"/>\n",
       "<polyline clip-path=\"url(#clip7702)\" style=\"stroke:#000000; stroke-width:2; stroke-opacity:0.1; fill:none\" points=\"\n",
       "  634.855,1455.01 634.855,47.2441 \n",
       "  \"/>\n",
       "<polyline clip-path=\"url(#clip7702)\" style=\"stroke:#000000; stroke-width:2; stroke-opacity:0.1; fill:none\" points=\"\n",
       "  853.657,1455.01 853.657,47.2441 \n",
       "  \"/>\n",
       "<polyline clip-path=\"url(#clip7702)\" style=\"stroke:#000000; stroke-width:2; stroke-opacity:0.1; fill:none\" points=\"\n",
       "  1108.93,1455.01 1108.93,47.2441 \n",
       "  \"/>\n",
       "<polyline clip-path=\"url(#clip7702)\" style=\"stroke:#000000; stroke-width:2; stroke-opacity:0.1; fill:none\" points=\"\n",
       "  1364.19,1455.01 1364.19,47.2441 \n",
       "  \"/>\n",
       "<polyline clip-path=\"url(#clip7702)\" style=\"stroke:#000000; stroke-width:2; stroke-opacity:0.1; fill:none\" points=\"\n",
       "  1583,1455.01 1583,47.2441 \n",
       "  \"/>\n",
       "<polyline clip-path=\"url(#clip7702)\" style=\"stroke:#000000; stroke-width:2; stroke-opacity:0.1; fill:none\" points=\"\n",
       "  1838.26,1455.01 1838.26,47.2441 \n",
       "  \"/>\n",
       "<polyline clip-path=\"url(#clip7702)\" style=\"stroke:#000000; stroke-width:2; stroke-opacity:0.1; fill:none\" points=\"\n",
       "  2093.53,1455.01 2093.53,47.2441 \n",
       "  \"/>\n",
       "<polyline clip-path=\"url(#clip7702)\" style=\"stroke:#000000; stroke-width:2; stroke-opacity:0.1; fill:none\" points=\"\n",
       "  2312.33,1455.01 2312.33,47.2441 \n",
       "  \"/>\n",
       "<polyline clip-path=\"url(#clip7702)\" style=\"stroke:#000000; stroke-width:2; stroke-opacity:0.1; fill:none\" points=\"\n",
       "  2567.6,1455.01 2567.6,47.2441 \n",
       "  \"/>\n",
       "<polyline clip-path=\"url(#clip7702)\" style=\"stroke:#000000; stroke-width:2; stroke-opacity:0.1; fill:none\" points=\"\n",
       "  2786.41,1455.01 2786.41,47.2441 \n",
       "  \"/>\n",
       "<polyline clip-path=\"url(#clip7702)\" style=\"stroke:#000000; stroke-width:2; stroke-opacity:0.1; fill:none\" points=\"\n",
       "  3041.67,1455.01 3041.67,47.2441 \n",
       "  \"/>\n",
       "<polyline clip-path=\"url(#clip7702)\" style=\"stroke:#000000; stroke-width:2; stroke-opacity:0.1; fill:none\" points=\"\n",
       "  3296.94,1455.01 3296.94,47.2441 \n",
       "  \"/>\n",
       "<polyline clip-path=\"url(#clip7702)\" style=\"stroke:#000000; stroke-width:2; stroke-opacity:0.1; fill:none\" points=\"\n",
       "  3515.74,1455.01 3515.74,47.2441 \n",
       "  \"/>\n",
       "<polyline clip-path=\"url(#clip7702)\" style=\"stroke:#000000; stroke-width:2; stroke-opacity:0.1; fill:none\" points=\"\n",
       "  3771.01,1455.01 3771.01,47.2441 \n",
       "  \"/>\n",
       "<polyline clip-path=\"url(#clip7702)\" style=\"stroke:#000000; stroke-width:2; stroke-opacity:0.1; fill:none\" points=\"\n",
       "  277.844,1285.48 3872.76,1285.48 \n",
       "  \"/>\n",
       "<polyline clip-path=\"url(#clip7702)\" style=\"stroke:#000000; stroke-width:2; stroke-opacity:0.1; fill:none\" points=\"\n",
       "  277.844,926.251 3872.76,926.251 \n",
       "  \"/>\n",
       "<polyline clip-path=\"url(#clip7702)\" style=\"stroke:#000000; stroke-width:2; stroke-opacity:0.1; fill:none\" points=\"\n",
       "  277.844,567.019 3872.76,567.019 \n",
       "  \"/>\n",
       "<polyline clip-path=\"url(#clip7702)\" style=\"stroke:#000000; stroke-width:2; stroke-opacity:0.1; fill:none\" points=\"\n",
       "  277.844,207.788 3872.76,207.788 \n",
       "  \"/>\n",
       "<polyline clip-path=\"url(#clip7700)\" style=\"stroke:#000000; stroke-width:4; stroke-opacity:1; fill:none\" points=\"\n",
       "  277.844,1455.01 3872.76,1455.01 \n",
       "  \"/>\n",
       "<polyline clip-path=\"url(#clip7700)\" style=\"stroke:#000000; stroke-width:4; stroke-opacity:1; fill:none\" points=\"\n",
       "  277.844,1455.01 277.844,47.2441 \n",
       "  \"/>\n",
       "<polyline clip-path=\"url(#clip7700)\" style=\"stroke:#000000; stroke-width:4; stroke-opacity:1; fill:none\" points=\"\n",
       "  379.586,1455.01 379.586,1438.11 \n",
       "  \"/>\n",
       "<polyline clip-path=\"url(#clip7700)\" style=\"stroke:#000000; stroke-width:4; stroke-opacity:1; fill:none\" points=\"\n",
       "  634.855,1455.01 634.855,1438.11 \n",
       "  \"/>\n",
       "<polyline clip-path=\"url(#clip7700)\" style=\"stroke:#000000; stroke-width:4; stroke-opacity:1; fill:none\" points=\"\n",
       "  853.657,1455.01 853.657,1438.11 \n",
       "  \"/>\n",
       "<polyline clip-path=\"url(#clip7700)\" style=\"stroke:#000000; stroke-width:4; stroke-opacity:1; fill:none\" points=\"\n",
       "  1108.93,1455.01 1108.93,1438.11 \n",
       "  \"/>\n",
       "<polyline clip-path=\"url(#clip7700)\" style=\"stroke:#000000; stroke-width:4; stroke-opacity:1; fill:none\" points=\"\n",
       "  1364.19,1455.01 1364.19,1438.11 \n",
       "  \"/>\n",
       "<polyline clip-path=\"url(#clip7700)\" style=\"stroke:#000000; stroke-width:4; stroke-opacity:1; fill:none\" points=\"\n",
       "  1583,1455.01 1583,1438.11 \n",
       "  \"/>\n",
       "<polyline clip-path=\"url(#clip7700)\" style=\"stroke:#000000; stroke-width:4; stroke-opacity:1; fill:none\" points=\"\n",
       "  1838.26,1455.01 1838.26,1438.11 \n",
       "  \"/>\n",
       "<polyline clip-path=\"url(#clip7700)\" style=\"stroke:#000000; stroke-width:4; stroke-opacity:1; fill:none\" points=\"\n",
       "  2093.53,1455.01 2093.53,1438.11 \n",
       "  \"/>\n",
       "<polyline clip-path=\"url(#clip7700)\" style=\"stroke:#000000; stroke-width:4; stroke-opacity:1; fill:none\" points=\"\n",
       "  2312.33,1455.01 2312.33,1438.11 \n",
       "  \"/>\n",
       "<polyline clip-path=\"url(#clip7700)\" style=\"stroke:#000000; stroke-width:4; stroke-opacity:1; fill:none\" points=\"\n",
       "  2567.6,1455.01 2567.6,1438.11 \n",
       "  \"/>\n",
       "<polyline clip-path=\"url(#clip7700)\" style=\"stroke:#000000; stroke-width:4; stroke-opacity:1; fill:none\" points=\"\n",
       "  2786.41,1455.01 2786.41,1438.11 \n",
       "  \"/>\n",
       "<polyline clip-path=\"url(#clip7700)\" style=\"stroke:#000000; stroke-width:4; stroke-opacity:1; fill:none\" points=\"\n",
       "  3041.67,1455.01 3041.67,1438.11 \n",
       "  \"/>\n",
       "<polyline clip-path=\"url(#clip7700)\" style=\"stroke:#000000; stroke-width:4; stroke-opacity:1; fill:none\" points=\"\n",
       "  3296.94,1455.01 3296.94,1438.11 \n",
       "  \"/>\n",
       "<polyline clip-path=\"url(#clip7700)\" style=\"stroke:#000000; stroke-width:4; stroke-opacity:1; fill:none\" points=\"\n",
       "  3515.74,1455.01 3515.74,1438.11 \n",
       "  \"/>\n",
       "<polyline clip-path=\"url(#clip7700)\" style=\"stroke:#000000; stroke-width:4; stroke-opacity:1; fill:none\" points=\"\n",
       "  3771.01,1455.01 3771.01,1438.11 \n",
       "  \"/>\n",
       "<polyline clip-path=\"url(#clip7700)\" style=\"stroke:#000000; stroke-width:4; stroke-opacity:1; fill:none\" points=\"\n",
       "  277.844,1285.48 320.982,1285.48 \n",
       "  \"/>\n",
       "<polyline clip-path=\"url(#clip7700)\" style=\"stroke:#000000; stroke-width:4; stroke-opacity:1; fill:none\" points=\"\n",
       "  277.844,926.251 320.982,926.251 \n",
       "  \"/>\n",
       "<polyline clip-path=\"url(#clip7700)\" style=\"stroke:#000000; stroke-width:4; stroke-opacity:1; fill:none\" points=\"\n",
       "  277.844,567.019 320.982,567.019 \n",
       "  \"/>\n",
       "<polyline clip-path=\"url(#clip7700)\" style=\"stroke:#000000; stroke-width:4; stroke-opacity:1; fill:none\" points=\"\n",
       "  277.844,207.788 320.982,207.788 \n",
       "  \"/>\n",
       "<path clip-path=\"url(#clip7700)\" d=\"M 0 0 M301.265 1482.65 L301.265 1487.21 Q298.603 1485.94 296.242 1485.32 Q293.881 1484.69 291.682 1484.69 Q287.862 1484.69 285.779 1486.17 Q283.719 1487.65 283.719 1490.38 Q283.719 1492.68 285.085 1493.86 Q286.473 1495.01 290.316 1495.73 L293.14 1496.31 Q298.371 1497.31 300.848 1499.83 Q303.348 1502.33 303.348 1506.54 Q303.348 1511.56 299.969 1514.16 Q296.612 1516.75 290.108 1516.75 Q287.654 1516.75 284.876 1516.19 Q282.122 1515.64 279.159 1514.55 L279.159 1509.74 Q282.006 1511.33 284.737 1512.14 Q287.469 1512.95 290.108 1512.95 Q294.112 1512.95 296.288 1511.38 Q298.464 1509.81 298.464 1506.89 Q298.464 1504.34 296.89 1502.91 Q295.339 1501.47 291.774 1500.75 L288.927 1500.2 Q283.696 1499.16 281.358 1496.94 Q279.02 1494.71 279.02 1490.75 Q279.02 1486.17 282.237 1483.53 Q285.478 1480.89 291.149 1480.89 Q293.58 1480.89 296.103 1481.33 Q298.626 1481.77 301.265 1482.65 Z\" fill=\"#000000\" fill-rule=\"evenodd\" fill-opacity=\"1\" /><path clip-path=\"url(#clip7700)\" d=\"M 0 0 M329.992 1502.05 L329.992 1504.13 L310.408 1504.13 Q310.686 1508.53 313.047 1510.85 Q315.432 1513.14 319.668 1513.14 Q322.121 1513.14 324.413 1512.54 Q326.728 1511.94 328.996 1510.73 L328.996 1514.76 Q326.705 1515.73 324.297 1516.24 Q321.89 1516.75 319.413 1516.75 Q313.209 1516.75 309.575 1513.14 Q305.964 1509.53 305.964 1503.37 Q305.964 1497 309.39 1493.28 Q312.839 1489.53 318.672 1489.53 Q323.904 1489.53 326.936 1492.91 Q329.992 1496.26 329.992 1502.05 M325.732 1500.8 Q325.686 1497.31 323.765 1495.22 Q321.867 1493.14 318.719 1493.14 Q315.154 1493.14 313.001 1495.15 Q310.871 1497.17 310.547 1500.82 L325.732 1500.8 Z\" fill=\"#000000\" fill-rule=\"evenodd\" fill-opacity=\"1\" /><path clip-path=\"url(#clip7700)\" d=\"M 0 0 M338.58 1512.19 L338.58 1525.94 L334.297 1525.94 L334.297 1490.15 L338.58 1490.15 L338.58 1494.09 Q339.922 1491.77 341.959 1490.66 Q344.019 1489.53 346.867 1489.53 Q351.589 1489.53 354.529 1493.28 Q357.492 1497.03 357.492 1503.14 Q357.492 1509.25 354.529 1513 Q351.589 1516.75 346.867 1516.75 Q344.019 1516.75 341.959 1515.64 Q339.922 1514.5 338.58 1512.19 M353.07 1503.14 Q353.07 1498.44 351.126 1495.78 Q349.205 1493.09 345.825 1493.09 Q342.445 1493.09 340.501 1495.78 Q338.58 1498.44 338.58 1503.14 Q338.58 1507.84 340.501 1510.52 Q342.445 1513.19 345.825 1513.19 Q349.205 1513.19 351.126 1510.52 Q353.07 1507.84 353.07 1503.14 Z\" fill=\"#000000\" fill-rule=\"evenodd\" fill-opacity=\"1\" /><path clip-path=\"url(#clip7700)\" d=\"M 0 0 M362.561 1510.2 L367.445 1510.2 L367.445 1516.08 L362.561 1516.08 L362.561 1510.2 Z\" fill=\"#000000\" fill-rule=\"evenodd\" fill-opacity=\"1\" /><path clip-path=\"url(#clip7700)\" d=\"M 0 0 M373.325 1512.14 L380.964 1512.14 L380.964 1485.78 L372.653 1487.44 L372.653 1483.19 L380.917 1481.52 L385.593 1481.52 L385.593 1512.14 L393.232 1512.14 L393.232 1516.08 L373.325 1516.08 L373.325 1512.14 Z\" fill=\"#000000\" fill-rule=\"evenodd\" fill-opacity=\"1\" /><path clip-path=\"url(#clip7700)\" d=\"M 0 0 M408.88 1496.94 Q405.732 1496.94 403.88 1499.09 Q402.051 1501.24 402.051 1504.99 Q402.051 1508.72 403.88 1510.89 Q405.732 1513.05 408.88 1513.05 Q412.028 1513.05 413.857 1510.89 Q415.709 1508.72 415.709 1504.99 Q415.709 1501.24 413.857 1499.09 Q412.028 1496.94 408.88 1496.94 M418.163 1482.28 L418.163 1486.54 Q416.403 1485.71 414.598 1485.27 Q412.815 1484.83 411.056 1484.83 Q406.426 1484.83 403.973 1487.95 Q401.542 1491.08 401.195 1497.4 Q402.561 1495.38 404.621 1494.32 Q406.681 1493.23 409.158 1493.23 Q414.366 1493.23 417.375 1496.4 Q420.408 1499.55 420.408 1504.99 Q420.408 1510.31 417.26 1513.53 Q414.112 1516.75 408.88 1516.75 Q402.885 1516.75 399.714 1512.17 Q396.542 1507.56 396.542 1498.83 Q396.542 1490.64 400.431 1485.78 Q404.32 1480.89 410.871 1480.89 Q412.63 1480.89 414.413 1481.24 Q416.218 1481.59 418.163 1482.28 Z\" fill=\"#000000\" fill-rule=\"evenodd\" fill-opacity=\"1\" /><path clip-path=\"url(#clip7700)\" d=\"M 0 0 M425.963 1510.2 L430.848 1510.2 L430.848 1514.18 L427.051 1521.59 L424.065 1521.59 L425.963 1514.18 L425.963 1510.2 Z\" fill=\"#000000\" fill-rule=\"evenodd\" fill-opacity=\"1\" /><path clip-path=\"url(#clip7700)\" d=\"M 0 0 M439.945 1512.14 L456.264 1512.14 L456.264 1516.08 L434.32 1516.08 L434.32 1512.14 Q436.982 1509.39 441.565 1504.76 Q446.172 1500.11 447.352 1498.76 Q449.598 1496.24 450.477 1494.5 Q451.38 1492.75 451.38 1491.06 Q451.38 1488.3 449.435 1486.57 Q447.514 1484.83 444.412 1484.83 Q442.213 1484.83 439.76 1485.59 Q437.329 1486.36 434.551 1487.91 L434.551 1483.19 Q437.375 1482.05 439.829 1481.47 Q442.283 1480.89 444.32 1480.89 Q449.69 1480.89 452.885 1483.58 Q456.079 1486.26 456.079 1490.75 Q456.079 1492.88 455.269 1494.81 Q454.482 1496.7 452.375 1499.3 Q451.797 1499.97 448.695 1503.19 Q445.593 1506.38 439.945 1512.14 Z\" fill=\"#000000\" fill-rule=\"evenodd\" fill-opacity=\"1\" /><path clip-path=\"url(#clip7700)\" d=\"M 0 0 M471.334 1484.6 Q467.722 1484.6 465.894 1488.16 Q464.088 1491.7 464.088 1498.83 Q464.088 1505.94 465.894 1509.5 Q467.722 1513.05 471.334 1513.05 Q474.968 1513.05 476.773 1509.5 Q478.602 1505.94 478.602 1498.83 Q478.602 1491.7 476.773 1488.16 Q474.968 1484.6 471.334 1484.6 M471.334 1480.89 Q477.144 1480.89 480.199 1485.5 Q483.278 1490.08 483.278 1498.83 Q483.278 1507.56 480.199 1512.17 Q477.144 1516.75 471.334 1516.75 Q465.523 1516.75 462.445 1512.17 Q459.389 1507.56 459.389 1498.83 Q459.389 1490.08 462.445 1485.5 Q465.523 1480.89 471.334 1480.89 Z\" fill=\"#000000\" fill-rule=\"evenodd\" fill-opacity=\"1\" /><path clip-path=\"url(#clip7700)\" d=\"M 0 0 M557.124 1482.65 L557.124 1487.21 Q554.462 1485.94 552.101 1485.32 Q549.74 1484.69 547.541 1484.69 Q543.721 1484.69 541.638 1486.17 Q539.578 1487.65 539.578 1490.38 Q539.578 1492.68 540.943 1493.86 Q542.332 1495.01 546.175 1495.73 L548.999 1496.31 Q554.23 1497.31 556.707 1499.83 Q559.207 1502.33 559.207 1506.54 Q559.207 1511.56 555.828 1514.16 Q552.471 1516.75 545.967 1516.75 Q543.513 1516.75 540.735 1516.19 Q537.981 1515.64 535.018 1514.55 L535.018 1509.74 Q537.865 1511.33 540.596 1512.14 Q543.328 1512.95 545.967 1512.95 Q549.971 1512.95 552.147 1511.38 Q554.323 1509.81 554.323 1506.89 Q554.323 1504.34 552.749 1502.91 Q551.198 1501.47 547.633 1500.75 L544.786 1500.2 Q539.555 1499.16 537.217 1496.94 Q534.879 1494.71 534.879 1490.75 Q534.879 1486.17 538.096 1483.53 Q541.337 1480.89 547.008 1480.89 Q549.439 1480.89 551.962 1481.33 Q554.485 1481.77 557.124 1482.65 Z\" fill=\"#000000\" fill-rule=\"evenodd\" fill-opacity=\"1\" /><path clip-path=\"url(#clip7700)\" d=\"M 0 0 M585.851 1502.05 L585.851 1504.13 L566.267 1504.13 Q566.545 1508.53 568.906 1510.85 Q571.291 1513.14 575.527 1513.14 Q577.98 1513.14 580.272 1512.54 Q582.587 1511.94 584.855 1510.73 L584.855 1514.76 Q582.564 1515.73 580.156 1516.24 Q577.749 1516.75 575.272 1516.75 Q569.068 1516.75 565.434 1513.14 Q561.823 1509.53 561.823 1503.37 Q561.823 1497 565.249 1493.28 Q568.698 1489.53 574.531 1489.53 Q579.763 1489.53 582.795 1492.91 Q585.851 1496.26 585.851 1502.05 M581.591 1500.8 Q581.545 1497.31 579.624 1495.22 Q577.726 1493.14 574.578 1493.14 Q571.013 1493.14 568.86 1495.15 Q566.73 1497.17 566.406 1500.82 L581.591 1500.8 Z\" fill=\"#000000\" fill-rule=\"evenodd\" fill-opacity=\"1\" /><path clip-path=\"url(#clip7700)\" d=\"M 0 0 M594.439 1512.19 L594.439 1525.94 L590.156 1525.94 L590.156 1490.15 L594.439 1490.15 L594.439 1494.09 Q595.781 1491.77 597.818 1490.66 Q599.878 1489.53 602.726 1489.53 Q607.448 1489.53 610.388 1493.28 Q613.35 1497.03 613.35 1503.14 Q613.35 1509.25 610.388 1513 Q607.448 1516.75 602.726 1516.75 Q599.878 1516.75 597.818 1515.64 Q595.781 1514.5 594.439 1512.19 M608.929 1503.14 Q608.929 1498.44 606.985 1495.78 Q605.063 1493.09 601.684 1493.09 Q598.304 1493.09 596.36 1495.78 Q594.439 1498.44 594.439 1503.14 Q594.439 1507.84 596.36 1510.52 Q598.304 1513.19 601.684 1513.19 Q605.063 1513.19 606.985 1510.52 Q608.929 1507.84 608.929 1503.14 Z\" fill=\"#000000\" fill-rule=\"evenodd\" fill-opacity=\"1\" /><path clip-path=\"url(#clip7700)\" d=\"M 0 0 M618.42 1510.2 L623.304 1510.2 L623.304 1516.08 L618.42 1516.08 L618.42 1510.2 Z\" fill=\"#000000\" fill-rule=\"evenodd\" fill-opacity=\"1\" /><path clip-path=\"url(#clip7700)\" d=\"M 0 0 M632.401 1512.14 L648.721 1512.14 L648.721 1516.08 L626.776 1516.08 L626.776 1512.14 Q629.438 1509.39 634.022 1504.76 Q638.628 1500.11 639.809 1498.76 Q642.054 1496.24 642.934 1494.5 Q643.836 1492.75 643.836 1491.06 Q643.836 1488.3 641.892 1486.57 Q639.971 1484.83 636.869 1484.83 Q634.67 1484.83 632.216 1485.59 Q629.786 1486.36 627.008 1487.91 L627.008 1483.19 Q629.832 1482.05 632.286 1481.47 Q634.739 1480.89 636.776 1480.89 Q642.147 1480.89 645.341 1483.58 Q648.535 1486.26 648.535 1490.75 Q648.535 1492.88 647.725 1494.81 Q646.938 1496.7 644.832 1499.3 Q644.253 1499.97 641.151 1503.19 Q638.049 1506.38 632.401 1512.14 Z\" fill=\"#000000\" fill-rule=\"evenodd\" fill-opacity=\"1\" /><path clip-path=\"url(#clip7700)\" d=\"M 0 0 M667.957 1497.44 Q671.313 1498.16 673.188 1500.43 Q675.086 1502.7 675.086 1506.03 Q675.086 1511.15 671.568 1513.95 Q668.049 1516.75 661.568 1516.75 Q659.392 1516.75 657.077 1516.31 Q654.785 1515.89 652.332 1515.04 L652.332 1510.52 Q654.276 1511.66 656.591 1512.24 Q658.906 1512.81 661.429 1512.81 Q665.827 1512.81 668.119 1511.08 Q670.434 1509.34 670.434 1506.03 Q670.434 1502.98 668.281 1501.26 Q666.151 1499.53 662.332 1499.53 L658.304 1499.53 L658.304 1495.69 L662.517 1495.69 Q665.966 1495.69 667.795 1494.32 Q669.623 1492.93 669.623 1490.34 Q669.623 1487.68 667.725 1486.26 Q665.85 1484.83 662.332 1484.83 Q660.41 1484.83 658.211 1485.25 Q656.012 1485.66 653.373 1486.54 L653.373 1482.38 Q656.035 1481.63 658.35 1481.26 Q660.688 1480.89 662.748 1480.89 Q668.072 1480.89 671.174 1483.32 Q674.276 1485.73 674.276 1489.85 Q674.276 1492.72 672.633 1494.71 Q670.989 1496.68 667.957 1497.44 Z\" fill=\"#000000\" fill-rule=\"evenodd\" fill-opacity=\"1\" /><path clip-path=\"url(#clip7700)\" d=\"M 0 0 M680.642 1510.2 L685.526 1510.2 L685.526 1514.18 L681.73 1521.59 L678.744 1521.59 L680.642 1514.18 L680.642 1510.2 Z\" fill=\"#000000\" fill-rule=\"evenodd\" fill-opacity=\"1\" /><path clip-path=\"url(#clip7700)\" d=\"M 0 0 M694.623 1512.14 L710.943 1512.14 L710.943 1516.08 L688.998 1516.08 L688.998 1512.14 Q691.66 1509.39 696.244 1504.76 Q700.85 1500.11 702.031 1498.76 Q704.276 1496.24 705.156 1494.5 Q706.058 1492.75 706.058 1491.06 Q706.058 1488.3 704.114 1486.57 Q702.193 1484.83 699.091 1484.83 Q696.892 1484.83 694.438 1485.59 Q692.007 1486.36 689.23 1487.91 L689.23 1483.19 Q692.054 1482.05 694.507 1481.47 Q696.961 1480.89 698.998 1480.89 Q704.369 1480.89 707.563 1483.58 Q710.757 1486.26 710.757 1490.75 Q710.757 1492.88 709.947 1494.81 Q709.16 1496.7 707.054 1499.3 Q706.475 1499.97 703.373 1503.19 Q700.271 1506.38 694.623 1512.14 Z\" fill=\"#000000\" fill-rule=\"evenodd\" fill-opacity=\"1\" /><path clip-path=\"url(#clip7700)\" d=\"M 0 0 M726.012 1484.6 Q722.401 1484.6 720.572 1488.16 Q718.767 1491.7 718.767 1498.83 Q718.767 1505.94 720.572 1509.5 Q722.401 1513.05 726.012 1513.05 Q729.646 1513.05 731.452 1509.5 Q733.28 1505.94 733.28 1498.83 Q733.28 1491.7 731.452 1488.16 Q729.646 1484.6 726.012 1484.6 M726.012 1480.89 Q731.822 1480.89 734.878 1485.5 Q737.956 1490.08 737.956 1498.83 Q737.956 1507.56 734.878 1512.17 Q731.822 1516.75 726.012 1516.75 Q720.202 1516.75 717.123 1512.17 Q714.068 1507.56 714.068 1498.83 Q714.068 1490.08 717.123 1485.5 Q720.202 1480.89 726.012 1480.89 Z\" fill=\"#000000\" fill-rule=\"evenodd\" fill-opacity=\"1\" /><path clip-path=\"url(#clip7700)\" d=\"M 0 0 M775.694 1482.65 L775.694 1487.21 Q773.032 1485.94 770.671 1485.32 Q768.31 1484.69 766.111 1484.69 Q762.291 1484.69 760.208 1486.17 Q758.148 1487.65 758.148 1490.38 Q758.148 1492.68 759.514 1493.86 Q760.903 1495.01 764.745 1495.73 L767.569 1496.31 Q772.801 1497.31 775.278 1499.83 Q777.778 1502.33 777.778 1506.54 Q777.778 1511.56 774.398 1514.16 Q771.041 1516.75 764.537 1516.75 Q762.083 1516.75 759.305 1516.19 Q756.551 1515.64 753.588 1514.55 L753.588 1509.74 Q756.435 1511.33 759.166 1512.14 Q761.898 1512.95 764.537 1512.95 Q768.541 1512.95 770.717 1511.38 Q772.893 1509.81 772.893 1506.89 Q772.893 1504.34 771.319 1502.91 Q769.768 1501.47 766.203 1500.75 L763.356 1500.2 Q758.125 1499.16 755.787 1496.94 Q753.449 1494.71 753.449 1490.75 Q753.449 1486.17 756.667 1483.53 Q759.907 1480.89 765.579 1480.89 Q768.009 1480.89 770.532 1481.33 Q773.055 1481.77 775.694 1482.65 Z\" fill=\"#000000\" fill-rule=\"evenodd\" fill-opacity=\"1\" /><path clip-path=\"url(#clip7700)\" d=\"M 0 0 M804.421 1502.05 L804.421 1504.13 L784.838 1504.13 Q785.115 1508.53 787.477 1510.85 Q789.861 1513.14 794.097 1513.14 Q796.551 1513.14 798.842 1512.54 Q801.157 1511.94 803.426 1510.73 L803.426 1514.76 Q801.134 1515.73 798.726 1516.24 Q796.319 1516.75 793.842 1516.75 Q787.639 1516.75 784.004 1513.14 Q780.393 1509.53 780.393 1503.37 Q780.393 1497 783.819 1493.28 Q787.268 1489.53 793.102 1489.53 Q798.333 1489.53 801.365 1492.91 Q804.421 1496.26 804.421 1502.05 M800.162 1500.8 Q800.115 1497.31 798.194 1495.22 Q796.296 1493.14 793.148 1493.14 Q789.583 1493.14 787.43 1495.15 Q785.301 1497.17 784.977 1500.82 L800.162 1500.8 Z\" fill=\"#000000\" fill-rule=\"evenodd\" fill-opacity=\"1\" /><path clip-path=\"url(#clip7700)\" d=\"M 0 0 M813.009 1512.19 L813.009 1525.94 L808.726 1525.94 L808.726 1490.15 L813.009 1490.15 L813.009 1494.09 Q814.351 1491.77 816.388 1490.66 Q818.449 1489.53 821.296 1489.53 Q826.018 1489.53 828.958 1493.28 Q831.921 1497.03 831.921 1503.14 Q831.921 1509.25 828.958 1513 Q826.018 1516.75 821.296 1516.75 Q818.449 1516.75 816.388 1515.64 Q814.351 1514.5 813.009 1512.19 M827.499 1503.14 Q827.499 1498.44 825.555 1495.78 Q823.634 1493.09 820.254 1493.09 Q816.875 1493.09 814.93 1495.78 Q813.009 1498.44 813.009 1503.14 Q813.009 1507.84 814.93 1510.52 Q816.875 1513.19 820.254 1513.19 Q823.634 1513.19 825.555 1510.52 Q827.499 1507.84 827.499 1503.14 Z\" fill=\"#000000\" fill-rule=\"evenodd\" fill-opacity=\"1\" /><path clip-path=\"url(#clip7700)\" d=\"M 0 0 M836.99 1510.2 L841.874 1510.2 L841.874 1516.08 L836.99 1516.08 L836.99 1510.2 Z\" fill=\"#000000\" fill-rule=\"evenodd\" fill-opacity=\"1\" /><path clip-path=\"url(#clip7700)\" d=\"M 0 0 M850.972 1512.14 L867.291 1512.14 L867.291 1516.08 L845.347 1516.08 L845.347 1512.14 Q848.009 1509.39 852.592 1504.76 Q857.198 1500.11 858.379 1498.76 Q860.624 1496.24 861.504 1494.5 Q862.407 1492.75 862.407 1491.06 Q862.407 1488.3 860.462 1486.57 Q858.541 1484.83 855.439 1484.83 Q853.24 1484.83 850.786 1485.59 Q848.356 1486.36 845.578 1487.91 L845.578 1483.19 Q848.402 1482.05 850.856 1481.47 Q853.31 1480.89 855.347 1480.89 Q860.717 1480.89 863.911 1483.58 Q867.106 1486.26 867.106 1490.75 Q867.106 1492.88 866.296 1494.81 Q865.509 1496.7 863.402 1499.3 Q862.823 1499.97 859.722 1503.19 Q856.62 1506.38 850.972 1512.14 Z\" fill=\"#000000\" fill-rule=\"evenodd\" fill-opacity=\"1\" /><path clip-path=\"url(#clip7700)\" d=\"M 0 0 M872.499 1515.36 L872.499 1511.1 Q874.258 1511.94 876.064 1512.38 Q877.87 1512.81 879.606 1512.81 Q884.235 1512.81 886.666 1509.71 Q889.12 1506.59 889.467 1500.25 Q888.124 1502.24 886.064 1503.3 Q884.004 1504.37 881.504 1504.37 Q876.319 1504.37 873.286 1501.24 Q870.277 1498.09 870.277 1492.65 Q870.277 1487.33 873.425 1484.11 Q876.573 1480.89 881.805 1480.89 Q887.8 1480.89 890.948 1485.5 Q894.119 1490.08 894.119 1498.83 Q894.119 1507 890.231 1511.89 Q886.365 1516.75 879.814 1516.75 Q878.055 1516.75 876.249 1516.4 Q874.444 1516.06 872.499 1515.36 M881.805 1500.71 Q884.953 1500.71 886.782 1498.56 Q888.633 1496.4 888.633 1492.65 Q888.633 1488.93 886.782 1486.77 Q884.953 1484.6 881.805 1484.6 Q878.657 1484.6 876.805 1486.77 Q874.976 1488.93 874.976 1492.65 Q874.976 1496.4 876.805 1498.56 Q878.657 1500.71 881.805 1500.71 Z\" fill=\"#000000\" fill-rule=\"evenodd\" fill-opacity=\"1\" /><path clip-path=\"url(#clip7700)\" d=\"M 0 0 M899.675 1510.2 L904.559 1510.2 L904.559 1514.18 L900.763 1521.59 L897.777 1521.59 L899.675 1514.18 L899.675 1510.2 Z\" fill=\"#000000\" fill-rule=\"evenodd\" fill-opacity=\"1\" /><path clip-path=\"url(#clip7700)\" d=\"M 0 0 M913.656 1512.14 L929.976 1512.14 L929.976 1516.08 L908.031 1516.08 L908.031 1512.14 Q910.693 1509.39 915.277 1504.76 Q919.883 1500.11 921.064 1498.76 Q923.309 1496.24 924.189 1494.5 Q925.092 1492.75 925.092 1491.06 Q925.092 1488.3 923.147 1486.57 Q921.226 1484.83 918.124 1484.83 Q915.925 1484.83 913.471 1485.59 Q911.041 1486.36 908.263 1487.91 L908.263 1483.19 Q911.087 1482.05 913.541 1481.47 Q915.994 1480.89 918.031 1480.89 Q923.402 1480.89 926.596 1483.58 Q929.791 1486.26 929.791 1490.75 Q929.791 1492.88 928.98 1494.81 Q928.193 1496.7 926.087 1499.3 Q925.508 1499.97 922.406 1503.19 Q919.305 1506.38 913.656 1512.14 Z\" fill=\"#000000\" fill-rule=\"evenodd\" fill-opacity=\"1\" /><path clip-path=\"url(#clip7700)\" d=\"M 0 0 M945.045 1484.6 Q941.434 1484.6 939.605 1488.16 Q937.8 1491.7 937.8 1498.83 Q937.8 1505.94 939.605 1509.5 Q941.434 1513.05 945.045 1513.05 Q948.679 1513.05 950.485 1509.5 Q952.314 1505.94 952.314 1498.83 Q952.314 1491.7 950.485 1488.16 Q948.679 1484.6 945.045 1484.6 M945.045 1480.89 Q950.855 1480.89 953.911 1485.5 Q956.99 1490.08 956.99 1498.83 Q956.99 1507.56 953.911 1512.17 Q950.855 1516.75 945.045 1516.75 Q939.235 1516.75 936.156 1512.17 Q933.101 1507.56 933.101 1498.83 Q933.101 1490.08 936.156 1485.5 Q939.235 1480.89 945.045 1480.89 Z\" fill=\"#000000\" fill-rule=\"evenodd\" fill-opacity=\"1\" /><path clip-path=\"url(#clip7700)\" d=\"M 0 0 M1039.99 1484.69 Q1034.9 1484.69 1031.89 1488.49 Q1028.9 1492.28 1028.9 1498.83 Q1028.9 1505.36 1031.89 1509.16 Q1034.9 1512.95 1039.99 1512.95 Q1045.08 1512.95 1048.05 1509.16 Q1051.03 1505.36 1051.03 1498.83 Q1051.03 1492.28 1048.05 1488.49 Q1045.08 1484.69 1039.99 1484.69 M1039.99 1480.89 Q1047.26 1480.89 1051.61 1485.78 Q1055.96 1490.64 1055.96 1498.83 Q1055.96 1507 1051.61 1511.89 Q1047.26 1516.75 1039.99 1516.75 Q1032.7 1516.75 1028.32 1511.89 Q1023.97 1507.03 1023.97 1498.83 Q1023.97 1490.64 1028.32 1485.78 Q1032.7 1480.89 1039.99 1480.89 Z\" fill=\"#000000\" fill-rule=\"evenodd\" fill-opacity=\"1\" /><path clip-path=\"url(#clip7700)\" d=\"M 0 0 M1079.09 1491.15 L1079.09 1495.13 Q1077.28 1494.13 1075.45 1493.65 Q1073.65 1493.14 1071.8 1493.14 Q1067.65 1493.14 1065.36 1495.78 Q1063.07 1498.39 1063.07 1503.14 Q1063.07 1507.88 1065.36 1510.52 Q1067.65 1513.14 1071.8 1513.14 Q1073.65 1513.14 1075.45 1512.65 Q1077.28 1512.14 1079.09 1511.15 L1079.09 1515.08 Q1077.31 1515.92 1075.38 1516.33 Q1073.49 1516.75 1071.33 1516.75 Q1065.48 1516.75 1062.03 1513.07 Q1058.58 1509.39 1058.58 1503.14 Q1058.58 1496.8 1062.05 1493.16 Q1065.55 1489.53 1071.61 1489.53 Q1073.58 1489.53 1075.45 1489.94 Q1077.33 1490.34 1079.09 1491.15 Z\" fill=\"#000000\" fill-rule=\"evenodd\" fill-opacity=\"1\" /><path clip-path=\"url(#clip7700)\" d=\"M 0 0 M1087.77 1482.79 L1087.77 1490.15 L1096.54 1490.15 L1096.54 1493.46 L1087.77 1493.46 L1087.77 1507.54 Q1087.77 1510.71 1088.62 1511.61 Q1089.5 1512.51 1092.17 1512.51 L1096.54 1512.51 L1096.54 1516.08 L1092.17 1516.08 Q1087.24 1516.08 1085.36 1514.25 Q1083.49 1512.4 1083.49 1507.54 L1083.49 1493.46 L1080.36 1493.46 L1080.36 1490.15 L1083.49 1490.15 L1083.49 1482.79 L1087.77 1482.79 Z\" fill=\"#000000\" fill-rule=\"evenodd\" fill-opacity=\"1\" /><path clip-path=\"url(#clip7700)\" d=\"M 0 0 M1101.61 1510.2 L1106.49 1510.2 L1106.49 1516.08 L1101.61 1516.08 L1101.61 1510.2 Z\" fill=\"#000000\" fill-rule=\"evenodd\" fill-opacity=\"1\" /><path clip-path=\"url(#clip7700)\" d=\"M 0 0 M1122.14 1496.94 Q1118.99 1496.94 1117.14 1499.09 Q1115.31 1501.24 1115.31 1504.99 Q1115.31 1508.72 1117.14 1510.89 Q1118.99 1513.05 1122.14 1513.05 Q1125.29 1513.05 1127.12 1510.89 Q1128.97 1508.72 1128.97 1504.99 Q1128.97 1501.24 1127.12 1499.09 Q1125.29 1496.94 1122.14 1496.94 M1131.43 1482.28 L1131.43 1486.54 Q1129.67 1485.71 1127.86 1485.27 Q1126.08 1484.83 1124.32 1484.83 Q1119.69 1484.83 1117.24 1487.95 Q1114.81 1491.08 1114.46 1497.4 Q1115.82 1495.38 1117.88 1494.32 Q1119.94 1493.23 1122.42 1493.23 Q1127.63 1493.23 1130.64 1496.4 Q1133.67 1499.55 1133.67 1504.99 Q1133.67 1510.31 1130.52 1513.53 Q1127.37 1516.75 1122.14 1516.75 Q1116.15 1516.75 1112.98 1512.17 Q1109.81 1507.56 1109.81 1498.83 Q1109.81 1490.64 1113.69 1485.78 Q1117.58 1480.89 1124.13 1480.89 Q1125.89 1480.89 1127.68 1481.24 Q1129.48 1481.59 1131.43 1482.28 Z\" fill=\"#000000\" fill-rule=\"evenodd\" fill-opacity=\"1\" /><path clip-path=\"url(#clip7700)\" d=\"M 0 0 M1139.23 1510.2 L1144.11 1510.2 L1144.11 1514.18 L1140.31 1521.59 L1137.33 1521.59 L1139.23 1514.18 L1139.23 1510.2 Z\" fill=\"#000000\" fill-rule=\"evenodd\" fill-opacity=\"1\" /><path clip-path=\"url(#clip7700)\" d=\"M 0 0 M1153.21 1512.14 L1169.53 1512.14 L1169.53 1516.08 L1147.58 1516.08 L1147.58 1512.14 Q1150.24 1509.39 1154.83 1504.76 Q1159.43 1500.11 1160.61 1498.76 Q1162.86 1496.24 1163.74 1494.5 Q1164.64 1492.75 1164.64 1491.06 Q1164.64 1488.3 1162.7 1486.57 Q1160.78 1484.83 1157.68 1484.83 Q1155.48 1484.83 1153.02 1485.59 Q1150.59 1486.36 1147.81 1487.91 L1147.81 1483.19 Q1150.64 1482.05 1153.09 1481.47 Q1155.55 1480.89 1157.58 1480.89 Q1162.95 1480.89 1166.15 1483.58 Q1169.34 1486.26 1169.34 1490.75 Q1169.34 1492.88 1168.53 1494.81 Q1167.74 1496.7 1165.64 1499.3 Q1165.06 1499.97 1161.96 1503.19 Q1158.86 1506.38 1153.21 1512.14 Z\" fill=\"#000000\" fill-rule=\"evenodd\" fill-opacity=\"1\" /><path clip-path=\"url(#clip7700)\" d=\"M 0 0 M1184.6 1484.6 Q1180.99 1484.6 1179.16 1488.16 Q1177.35 1491.7 1177.35 1498.83 Q1177.35 1505.94 1179.16 1509.5 Q1180.99 1513.05 1184.6 1513.05 Q1188.23 1513.05 1190.04 1509.5 Q1191.86 1505.94 1191.86 1498.83 Q1191.86 1491.7 1190.04 1488.16 Q1188.23 1484.6 1184.6 1484.6 M1184.6 1480.89 Q1190.41 1480.89 1193.46 1485.5 Q1196.54 1490.08 1196.54 1498.83 Q1196.54 1507.56 1193.46 1512.17 Q1190.41 1516.75 1184.6 1516.75 Q1178.79 1516.75 1175.71 1512.17 Q1172.65 1507.56 1172.65 1498.83 Q1172.65 1490.08 1175.71 1485.5 Q1178.79 1480.89 1184.6 1480.89 Z\" fill=\"#000000\" fill-rule=\"evenodd\" fill-opacity=\"1\" /><path clip-path=\"url(#clip7700)\" d=\"M 0 0 M1282.77 1484.69 Q1277.68 1484.69 1274.67 1488.49 Q1271.68 1492.28 1271.68 1498.83 Q1271.68 1505.36 1274.67 1509.16 Q1277.68 1512.95 1282.77 1512.95 Q1287.86 1512.95 1290.83 1509.16 Q1293.81 1505.36 1293.81 1498.83 Q1293.81 1492.28 1290.83 1488.49 Q1287.86 1484.69 1282.77 1484.69 M1282.77 1480.89 Q1290.04 1480.89 1294.39 1485.78 Q1298.74 1490.64 1298.74 1498.83 Q1298.74 1507 1294.39 1511.89 Q1290.04 1516.75 1282.77 1516.75 Q1275.48 1516.75 1271.1 1511.89 Q1266.75 1507.03 1266.75 1498.83 Q1266.75 1490.64 1271.1 1485.78 Q1275.48 1480.89 1282.77 1480.89 Z\" fill=\"#000000\" fill-rule=\"evenodd\" fill-opacity=\"1\" /><path clip-path=\"url(#clip7700)\" d=\"M 0 0 M1321.87 1491.15 L1321.87 1495.13 Q1320.06 1494.13 1318.23 1493.65 Q1316.43 1493.14 1314.58 1493.14 Q1310.43 1493.14 1308.14 1495.78 Q1305.85 1498.39 1305.85 1503.14 Q1305.85 1507.88 1308.14 1510.52 Q1310.43 1513.14 1314.58 1513.14 Q1316.43 1513.14 1318.23 1512.65 Q1320.06 1512.14 1321.87 1511.15 L1321.87 1515.08 Q1320.09 1515.92 1318.16 1516.33 Q1316.27 1516.75 1314.11 1516.75 Q1308.26 1516.75 1304.81 1513.07 Q1301.36 1509.39 1301.36 1503.14 Q1301.36 1496.8 1304.83 1493.16 Q1308.33 1489.53 1314.39 1489.53 Q1316.36 1489.53 1318.23 1489.94 Q1320.11 1490.34 1321.87 1491.15 Z\" fill=\"#000000\" fill-rule=\"evenodd\" fill-opacity=\"1\" /><path clip-path=\"url(#clip7700)\" d=\"M 0 0 M1330.55 1482.79 L1330.55 1490.15 L1339.32 1490.15 L1339.32 1493.46 L1330.55 1493.46 L1330.55 1507.54 Q1330.55 1510.71 1331.4 1511.61 Q1332.28 1512.51 1334.95 1512.51 L1339.32 1512.51 L1339.32 1516.08 L1334.95 1516.08 Q1330.02 1516.08 1328.14 1514.25 Q1326.27 1512.4 1326.27 1507.54 L1326.27 1493.46 L1323.14 1493.46 L1323.14 1490.15 L1326.27 1490.15 L1326.27 1482.79 L1330.55 1482.79 Z\" fill=\"#000000\" fill-rule=\"evenodd\" fill-opacity=\"1\" /><path clip-path=\"url(#clip7700)\" d=\"M 0 0 M1344.39 1510.2 L1349.28 1510.2 L1349.28 1516.08 L1344.39 1516.08 L1344.39 1510.2 Z\" fill=\"#000000\" fill-rule=\"evenodd\" fill-opacity=\"1\" /><path clip-path=\"url(#clip7700)\" d=\"M 0 0 M1355.15 1512.14 L1362.79 1512.14 L1362.79 1485.78 L1354.48 1487.44 L1354.48 1483.19 L1362.75 1481.52 L1367.42 1481.52 L1367.42 1512.14 L1375.06 1512.14 L1375.06 1516.08 L1355.15 1516.08 L1355.15 1512.14 Z\" fill=\"#000000\" fill-rule=\"evenodd\" fill-opacity=\"1\" /><path clip-path=\"url(#clip7700)\" d=\"M 0 0 M1394.3 1497.44 Q1397.65 1498.16 1399.53 1500.43 Q1401.43 1502.7 1401.43 1506.03 Q1401.43 1511.15 1397.91 1513.95 Q1394.39 1516.75 1387.91 1516.75 Q1385.73 1516.75 1383.42 1516.31 Q1381.13 1515.89 1378.67 1515.04 L1378.67 1510.52 Q1380.62 1511.66 1382.93 1512.24 Q1385.25 1512.81 1387.77 1512.81 Q1392.17 1512.81 1394.46 1511.08 Q1396.77 1509.34 1396.77 1506.03 Q1396.77 1502.98 1394.62 1501.26 Q1392.49 1499.53 1388.67 1499.53 L1384.65 1499.53 L1384.65 1495.69 L1388.86 1495.69 Q1392.31 1495.69 1394.14 1494.32 Q1395.96 1492.93 1395.96 1490.34 Q1395.96 1487.68 1394.07 1486.26 Q1392.19 1484.83 1388.67 1484.83 Q1386.75 1484.83 1384.55 1485.25 Q1382.35 1485.66 1379.71 1486.54 L1379.71 1482.38 Q1382.38 1481.63 1384.69 1481.26 Q1387.03 1480.89 1389.09 1480.89 Q1394.41 1480.89 1397.52 1483.32 Q1400.62 1485.73 1400.62 1489.85 Q1400.62 1492.72 1398.97 1494.71 Q1397.33 1496.68 1394.3 1497.44 Z\" fill=\"#000000\" fill-rule=\"evenodd\" fill-opacity=\"1\" /><path clip-path=\"url(#clip7700)\" d=\"M 0 0 M1406.98 1510.2 L1411.87 1510.2 L1411.87 1514.18 L1408.07 1521.59 L1405.09 1521.59 L1406.98 1514.18 L1406.98 1510.2 Z\" fill=\"#000000\" fill-rule=\"evenodd\" fill-opacity=\"1\" /><path clip-path=\"url(#clip7700)\" d=\"M 0 0 M1420.96 1512.14 L1437.28 1512.14 L1437.28 1516.08 L1415.34 1516.08 L1415.34 1512.14 Q1418 1509.39 1422.58 1504.76 Q1427.19 1500.11 1428.37 1498.76 Q1430.62 1496.24 1431.5 1494.5 Q1432.4 1492.75 1432.4 1491.06 Q1432.4 1488.3 1430.46 1486.57 Q1428.53 1484.83 1425.43 1484.83 Q1423.23 1484.83 1420.78 1485.59 Q1418.35 1486.36 1415.57 1487.91 L1415.57 1483.19 Q1418.4 1482.05 1420.85 1481.47 Q1423.3 1480.89 1425.34 1480.89 Q1430.71 1480.89 1433.9 1483.58 Q1437.1 1486.26 1437.1 1490.75 Q1437.1 1492.88 1436.29 1494.81 Q1435.5 1496.7 1433.4 1499.3 Q1432.82 1499.97 1429.71 1503.19 Q1426.61 1506.38 1420.96 1512.14 Z\" fill=\"#000000\" fill-rule=\"evenodd\" fill-opacity=\"1\" /><path clip-path=\"url(#clip7700)\" d=\"M 0 0 M1452.35 1484.6 Q1448.74 1484.6 1446.91 1488.16 Q1445.11 1491.7 1445.11 1498.83 Q1445.11 1505.94 1446.91 1509.5 Q1448.74 1513.05 1452.35 1513.05 Q1455.99 1513.05 1457.79 1509.5 Q1459.62 1505.94 1459.62 1498.83 Q1459.62 1491.7 1457.79 1488.16 Q1455.99 1484.6 1452.35 1484.6 M1452.35 1480.89 Q1458.16 1480.89 1461.22 1485.5 Q1464.3 1490.08 1464.3 1498.83 Q1464.3 1507.56 1461.22 1512.17 Q1458.16 1516.75 1452.35 1516.75 Q1446.54 1516.75 1443.46 1512.17 Q1440.41 1507.56 1440.41 1498.83 Q1440.41 1490.08 1443.46 1485.5 Q1446.54 1480.89 1452.35 1480.89 Z\" fill=\"#000000\" fill-rule=\"evenodd\" fill-opacity=\"1\" /><path clip-path=\"url(#clip7700)\" d=\"M 0 0 M1501.34 1484.69 Q1496.25 1484.69 1493.24 1488.49 Q1490.25 1492.28 1490.25 1498.83 Q1490.25 1505.36 1493.24 1509.16 Q1496.25 1512.95 1501.34 1512.95 Q1506.43 1512.95 1509.4 1509.16 Q1512.38 1505.36 1512.38 1498.83 Q1512.38 1492.28 1509.4 1488.49 Q1506.43 1484.69 1501.34 1484.69 M1501.34 1480.89 Q1508.61 1480.89 1512.96 1485.78 Q1517.31 1490.64 1517.31 1498.83 Q1517.31 1507 1512.96 1511.89 Q1508.61 1516.75 1501.34 1516.75 Q1494.05 1516.75 1489.67 1511.89 Q1485.32 1507.03 1485.32 1498.83 Q1485.32 1490.64 1489.67 1485.78 Q1494.05 1480.89 1501.34 1480.89 Z\" fill=\"#000000\" fill-rule=\"evenodd\" fill-opacity=\"1\" /><path clip-path=\"url(#clip7700)\" d=\"M 0 0 M1540.44 1491.15 L1540.44 1495.13 Q1538.63 1494.13 1536.8 1493.65 Q1535 1493.14 1533.15 1493.14 Q1529 1493.14 1526.71 1495.78 Q1524.42 1498.39 1524.42 1503.14 Q1524.42 1507.88 1526.71 1510.52 Q1529 1513.14 1533.15 1513.14 Q1535 1513.14 1536.8 1512.65 Q1538.63 1512.14 1540.44 1511.15 L1540.44 1515.08 Q1538.66 1515.92 1536.73 1516.33 Q1534.84 1516.75 1532.68 1516.75 Q1526.83 1516.75 1523.38 1513.07 Q1519.93 1509.39 1519.93 1503.14 Q1519.93 1496.8 1523.4 1493.16 Q1526.9 1489.53 1532.96 1489.53 Q1534.93 1489.53 1536.8 1489.94 Q1538.68 1490.34 1540.44 1491.15 Z\" fill=\"#000000\" fill-rule=\"evenodd\" fill-opacity=\"1\" /><path clip-path=\"url(#clip7700)\" d=\"M 0 0 M1549.12 1482.79 L1549.12 1490.15 L1557.89 1490.15 L1557.89 1493.46 L1549.12 1493.46 L1549.12 1507.54 Q1549.12 1510.71 1549.98 1511.61 Q1550.85 1512.51 1553.52 1512.51 L1557.89 1512.51 L1557.89 1516.08 L1553.52 1516.08 Q1548.59 1516.08 1546.71 1514.25 Q1544.84 1512.4 1544.84 1507.54 L1544.84 1493.46 L1541.71 1493.46 L1541.71 1490.15 L1544.84 1490.15 L1544.84 1482.79 L1549.12 1482.79 Z\" fill=\"#000000\" fill-rule=\"evenodd\" fill-opacity=\"1\" /><path clip-path=\"url(#clip7700)\" d=\"M 0 0 M1562.96 1510.2 L1567.85 1510.2 L1567.85 1516.08 L1562.96 1516.08 L1562.96 1510.2 Z\" fill=\"#000000\" fill-rule=\"evenodd\" fill-opacity=\"1\" /><path clip-path=\"url(#clip7700)\" d=\"M 0 0 M1573.73 1512.14 L1581.36 1512.14 L1581.36 1485.78 L1573.05 1487.44 L1573.05 1483.19 L1581.32 1481.52 L1585.99 1481.52 L1585.99 1512.14 L1593.63 1512.14 L1593.63 1516.08 L1573.73 1516.08 L1573.73 1512.14 Z\" fill=\"#000000\" fill-rule=\"evenodd\" fill-opacity=\"1\" /><path clip-path=\"url(#clip7700)\" d=\"M 0 0 M1598.84 1515.36 L1598.84 1511.1 Q1600.6 1511.94 1602.41 1512.38 Q1604.21 1512.81 1605.95 1512.81 Q1610.58 1512.81 1613.01 1509.71 Q1615.46 1506.59 1615.81 1500.25 Q1614.47 1502.24 1612.41 1503.3 Q1610.35 1504.37 1607.85 1504.37 Q1602.66 1504.37 1599.63 1501.24 Q1596.62 1498.09 1596.62 1492.65 Q1596.62 1487.33 1599.77 1484.11 Q1602.91 1480.89 1608.15 1480.89 Q1614.14 1480.89 1617.29 1485.5 Q1620.46 1490.08 1620.46 1498.83 Q1620.46 1507 1616.57 1511.89 Q1612.71 1516.75 1606.16 1516.75 Q1604.4 1516.75 1602.59 1516.4 Q1600.79 1516.06 1598.84 1515.36 M1608.15 1500.71 Q1611.29 1500.71 1613.12 1498.56 Q1614.97 1496.4 1614.97 1492.65 Q1614.97 1488.93 1613.12 1486.77 Q1611.29 1484.6 1608.15 1484.6 Q1605 1484.6 1603.15 1486.77 Q1601.32 1488.93 1601.32 1492.65 Q1601.32 1496.4 1603.15 1498.56 Q1605 1500.71 1608.15 1500.71 Z\" fill=\"#000000\" fill-rule=\"evenodd\" fill-opacity=\"1\" /><path clip-path=\"url(#clip7700)\" d=\"M 0 0 M1626.02 1510.2 L1630.9 1510.2 L1630.9 1514.18 L1627.1 1521.59 L1624.12 1521.59 L1626.02 1514.18 L1626.02 1510.2 Z\" fill=\"#000000\" fill-rule=\"evenodd\" fill-opacity=\"1\" /><path clip-path=\"url(#clip7700)\" d=\"M 0 0 M1640 1512.14 L1656.32 1512.14 L1656.32 1516.08 L1634.37 1516.08 L1634.37 1512.14 Q1637.03 1509.39 1641.62 1504.76 Q1646.22 1500.11 1647.41 1498.76 Q1649.65 1496.24 1650.53 1494.5 Q1651.43 1492.75 1651.43 1491.06 Q1651.43 1488.3 1649.49 1486.57 Q1647.57 1484.83 1644.47 1484.83 Q1642.27 1484.83 1639.81 1485.59 Q1637.38 1486.36 1634.6 1487.91 L1634.6 1483.19 Q1637.43 1482.05 1639.88 1481.47 Q1642.34 1480.89 1644.37 1480.89 Q1649.74 1480.89 1652.94 1483.58 Q1656.13 1486.26 1656.13 1490.75 Q1656.13 1492.88 1655.32 1494.81 Q1654.53 1496.7 1652.43 1499.3 Q1651.85 1499.97 1648.75 1503.19 Q1645.65 1506.38 1640 1512.14 Z\" fill=\"#000000\" fill-rule=\"evenodd\" fill-opacity=\"1\" /><path clip-path=\"url(#clip7700)\" d=\"M 0 0 M1671.39 1484.6 Q1667.78 1484.6 1665.95 1488.16 Q1664.14 1491.7 1664.14 1498.83 Q1664.14 1505.94 1665.95 1509.5 Q1667.78 1513.05 1671.39 1513.05 Q1675.02 1513.05 1676.83 1509.5 Q1678.66 1505.94 1678.66 1498.83 Q1678.66 1491.7 1676.83 1488.16 Q1675.02 1484.6 1671.39 1484.6 M1671.39 1480.89 Q1677.2 1480.89 1680.25 1485.5 Q1683.33 1490.08 1683.33 1498.83 Q1683.33 1507.56 1680.25 1512.17 Q1677.2 1516.75 1671.39 1516.75 Q1665.58 1516.75 1662.5 1512.17 Q1659.44 1507.56 1659.44 1498.83 Q1659.44 1490.08 1662.5 1485.5 Q1665.58 1480.89 1671.39 1480.89 Z\" fill=\"#000000\" fill-rule=\"evenodd\" fill-opacity=\"1\" /><path clip-path=\"url(#clip7700)\" d=\"M 0 0 M1756.62 1484.69 Q1751.53 1484.69 1748.52 1488.49 Q1745.53 1492.28 1745.53 1498.83 Q1745.53 1505.36 1748.52 1509.16 Q1751.53 1512.95 1756.62 1512.95 Q1761.71 1512.95 1764.68 1509.16 Q1767.66 1505.36 1767.66 1498.83 Q1767.66 1492.28 1764.68 1488.49 Q1761.71 1484.69 1756.62 1484.69 M1756.62 1480.89 Q1763.89 1480.89 1768.24 1485.78 Q1772.59 1490.64 1772.59 1498.83 Q1772.59 1507 1768.24 1511.89 Q1763.89 1516.75 1756.62 1516.75 Q1749.33 1516.75 1744.95 1511.89 Q1740.6 1507.03 1740.6 1498.83 Q1740.6 1490.64 1744.95 1485.78 Q1749.33 1480.89 1756.62 1480.89 Z\" fill=\"#000000\" fill-rule=\"evenodd\" fill-opacity=\"1\" /><path clip-path=\"url(#clip7700)\" d=\"M 0 0 M1795.72 1491.15 L1795.72 1495.13 Q1793.91 1494.13 1792.08 1493.65 Q1790.28 1493.14 1788.43 1493.14 Q1784.28 1493.14 1781.99 1495.78 Q1779.7 1498.39 1779.7 1503.14 Q1779.7 1507.88 1781.99 1510.52 Q1784.28 1513.14 1788.43 1513.14 Q1790.28 1513.14 1792.08 1512.65 Q1793.91 1512.14 1795.72 1511.15 L1795.72 1515.08 Q1793.94 1515.92 1792.01 1516.33 Q1790.12 1516.75 1787.96 1516.75 Q1782.11 1516.75 1778.66 1513.07 Q1775.21 1509.39 1775.21 1503.14 Q1775.21 1496.8 1778.68 1493.16 Q1782.18 1489.53 1788.24 1489.53 Q1790.21 1489.53 1792.08 1489.94 Q1793.96 1490.34 1795.72 1491.15 Z\" fill=\"#000000\" fill-rule=\"evenodd\" fill-opacity=\"1\" /><path clip-path=\"url(#clip7700)\" d=\"M 0 0 M1804.4 1482.79 L1804.4 1490.15 L1813.17 1490.15 L1813.17 1493.46 L1804.4 1493.46 L1804.4 1507.54 Q1804.4 1510.71 1805.26 1511.61 Q1806.14 1512.51 1808.8 1512.51 L1813.17 1512.51 L1813.17 1516.08 L1808.8 1516.08 Q1803.87 1516.08 1801.99 1514.25 Q1800.12 1512.4 1800.12 1507.54 L1800.12 1493.46 L1796.99 1493.46 L1796.99 1490.15 L1800.12 1490.15 L1800.12 1482.79 L1804.4 1482.79 Z\" fill=\"#000000\" fill-rule=\"evenodd\" fill-opacity=\"1\" /><path clip-path=\"url(#clip7700)\" d=\"M 0 0 M1818.24 1510.2 L1823.13 1510.2 L1823.13 1516.08 L1818.24 1516.08 L1818.24 1510.2 Z\" fill=\"#000000\" fill-rule=\"evenodd\" fill-opacity=\"1\" /><path clip-path=\"url(#clip7700)\" d=\"M 0 0 M1832.22 1512.14 L1848.54 1512.14 L1848.54 1516.08 L1826.6 1516.08 L1826.6 1512.14 Q1829.26 1509.39 1833.84 1504.76 Q1838.45 1500.11 1839.63 1498.76 Q1841.88 1496.24 1842.76 1494.5 Q1843.66 1492.75 1843.66 1491.06 Q1843.66 1488.3 1841.71 1486.57 Q1839.79 1484.83 1836.69 1484.83 Q1834.49 1484.83 1832.04 1485.59 Q1829.61 1486.36 1826.83 1487.91 L1826.83 1483.19 Q1829.65 1482.05 1832.11 1481.47 Q1834.56 1480.89 1836.6 1480.89 Q1841.97 1480.89 1845.16 1483.58 Q1848.36 1486.26 1848.36 1490.75 Q1848.36 1492.88 1847.55 1494.81 Q1846.76 1496.7 1844.65 1499.3 Q1844.07 1499.97 1840.97 1503.19 Q1837.87 1506.38 1832.22 1512.14 Z\" fill=\"#000000\" fill-rule=\"evenodd\" fill-opacity=\"1\" /><path clip-path=\"url(#clip7700)\" d=\"M 0 0 M1864.19 1496.94 Q1861.04 1496.94 1859.19 1499.09 Q1857.36 1501.24 1857.36 1504.99 Q1857.36 1508.72 1859.19 1510.89 Q1861.04 1513.05 1864.19 1513.05 Q1867.34 1513.05 1869.17 1510.89 Q1871.02 1508.72 1871.02 1504.99 Q1871.02 1501.24 1869.17 1499.09 Q1867.34 1496.94 1864.19 1496.94 M1873.47 1482.28 L1873.47 1486.54 Q1871.71 1485.71 1869.91 1485.27 Q1868.13 1484.83 1866.37 1484.83 Q1861.74 1484.83 1859.28 1487.95 Q1856.85 1491.08 1856.51 1497.4 Q1857.87 1495.38 1859.93 1494.32 Q1861.99 1493.23 1864.47 1493.23 Q1869.68 1493.23 1872.69 1496.4 Q1875.72 1499.55 1875.72 1504.99 Q1875.72 1510.31 1872.57 1513.53 Q1869.42 1516.75 1864.19 1516.75 Q1858.19 1516.75 1855.02 1512.17 Q1851.85 1507.56 1851.85 1498.83 Q1851.85 1490.64 1855.74 1485.78 Q1859.63 1480.89 1866.18 1480.89 Q1867.94 1480.89 1869.72 1481.24 Q1871.53 1481.59 1873.47 1482.28 Z\" fill=\"#000000\" fill-rule=\"evenodd\" fill-opacity=\"1\" /><path clip-path=\"url(#clip7700)\" d=\"M 0 0 M1881.27 1510.2 L1886.16 1510.2 L1886.16 1514.18 L1882.36 1521.59 L1879.38 1521.59 L1881.27 1514.18 L1881.27 1510.2 Z\" fill=\"#000000\" fill-rule=\"evenodd\" fill-opacity=\"1\" /><path clip-path=\"url(#clip7700)\" d=\"M 0 0 M1895.25 1512.14 L1911.57 1512.14 L1911.57 1516.08 L1889.63 1516.08 L1889.63 1512.14 Q1892.29 1509.39 1896.88 1504.76 Q1901.48 1500.11 1902.66 1498.76 Q1904.91 1496.24 1905.79 1494.5 Q1906.69 1492.75 1906.69 1491.06 Q1906.69 1488.3 1904.75 1486.57 Q1902.82 1484.83 1899.72 1484.83 Q1897.52 1484.83 1895.07 1485.59 Q1892.64 1486.36 1889.86 1487.91 L1889.86 1483.19 Q1892.69 1482.05 1895.14 1481.47 Q1897.59 1480.89 1899.63 1480.89 Q1905 1480.89 1908.19 1483.58 Q1911.39 1486.26 1911.39 1490.75 Q1911.39 1492.88 1910.58 1494.81 Q1909.79 1496.7 1907.69 1499.3 Q1907.11 1499.97 1904 1503.19 Q1900.9 1506.38 1895.25 1512.14 Z\" fill=\"#000000\" fill-rule=\"evenodd\" fill-opacity=\"1\" /><path clip-path=\"url(#clip7700)\" d=\"M 0 0 M1926.64 1484.6 Q1923.03 1484.6 1921.2 1488.16 Q1919.4 1491.7 1919.4 1498.83 Q1919.4 1505.94 1921.2 1509.5 Q1923.03 1513.05 1926.64 1513.05 Q1930.28 1513.05 1932.08 1509.5 Q1933.91 1505.94 1933.91 1498.83 Q1933.91 1491.7 1932.08 1488.16 Q1930.28 1484.6 1926.64 1484.6 M1926.64 1480.89 Q1932.45 1480.89 1935.51 1485.5 Q1938.59 1490.08 1938.59 1498.83 Q1938.59 1507.56 1935.51 1512.17 Q1932.45 1516.75 1926.64 1516.75 Q1920.83 1516.75 1917.75 1512.17 Q1914.7 1507.56 1914.7 1498.83 Q1914.7 1490.08 1917.75 1485.5 Q1920.83 1480.89 1926.64 1480.89 Z\" fill=\"#000000\" fill-rule=\"evenodd\" fill-opacity=\"1\" /><path clip-path=\"url(#clip7700)\" d=\"M 0 0 M2008.97 1481.52 L2015.27 1481.52 L2030.59 1510.43 L2030.59 1481.52 L2035.13 1481.52 L2035.13 1516.08 L2028.83 1516.08 L2013.51 1487.17 L2013.51 1516.08 L2008.97 1516.08 L2008.97 1481.52 Z\" fill=\"#000000\" fill-rule=\"evenodd\" fill-opacity=\"1\" /><path clip-path=\"url(#clip7700)\" d=\"M 0 0 M2049.64 1493.14 Q2046.22 1493.14 2044.23 1495.82 Q2042.24 1498.49 2042.24 1503.14 Q2042.24 1507.79 2044.2 1510.48 Q2046.2 1513.14 2049.64 1513.14 Q2053.05 1513.14 2055.04 1510.45 Q2057.03 1507.77 2057.03 1503.14 Q2057.03 1498.53 2055.04 1495.85 Q2053.05 1493.14 2049.64 1493.14 M2049.64 1489.53 Q2055.2 1489.53 2058.37 1493.14 Q2061.54 1496.75 2061.54 1503.14 Q2061.54 1509.5 2058.37 1513.14 Q2055.2 1516.75 2049.64 1516.75 Q2044.07 1516.75 2040.89 1513.14 Q2037.75 1509.5 2037.75 1503.14 Q2037.75 1496.75 2040.89 1493.14 Q2044.07 1489.53 2049.64 1489.53 Z\" fill=\"#000000\" fill-rule=\"evenodd\" fill-opacity=\"1\" /><path clip-path=\"url(#clip7700)\" d=\"M 0 0 M2062.95 1490.15 L2067.47 1490.15 L2075.57 1511.91 L2083.67 1490.15 L2088.19 1490.15 L2078.46 1516.08 L2072.68 1516.08 L2062.95 1490.15 Z\" fill=\"#000000\" fill-rule=\"evenodd\" fill-opacity=\"1\" /><path clip-path=\"url(#clip7700)\" d=\"M 0 0 M2089.57 1510.2 L2094.46 1510.2 L2094.46 1516.08 L2089.57 1516.08 L2089.57 1510.2 Z\" fill=\"#000000\" fill-rule=\"evenodd\" fill-opacity=\"1\" /><path clip-path=\"url(#clip7700)\" d=\"M 0 0 M2103.56 1512.14 L2119.88 1512.14 L2119.88 1516.08 L2097.93 1516.08 L2097.93 1512.14 Q2100.59 1509.39 2105.18 1504.76 Q2109.78 1500.11 2110.96 1498.76 Q2113.21 1496.24 2114.09 1494.5 Q2114.99 1492.75 2114.99 1491.06 Q2114.99 1488.3 2113.05 1486.57 Q2111.13 1484.83 2108.02 1484.83 Q2105.82 1484.83 2103.37 1485.59 Q2100.94 1486.36 2098.16 1487.91 L2098.16 1483.19 Q2100.99 1482.05 2103.44 1481.47 Q2105.89 1480.89 2107.93 1480.89 Q2113.3 1480.89 2116.5 1483.58 Q2119.69 1486.26 2119.69 1490.75 Q2119.69 1492.88 2118.88 1494.81 Q2118.09 1496.7 2115.99 1499.3 Q2115.41 1499.97 2112.31 1503.19 Q2109.2 1506.38 2103.56 1512.14 Z\" fill=\"#000000\" fill-rule=\"evenodd\" fill-opacity=\"1\" /><path clip-path=\"url(#clip7700)\" d=\"M 0 0 M2125.43 1510.2 L2130.32 1510.2 L2130.32 1514.18 L2126.52 1521.59 L2123.53 1521.59 L2125.43 1514.18 L2125.43 1510.2 Z\" fill=\"#000000\" fill-rule=\"evenodd\" fill-opacity=\"1\" /><path clip-path=\"url(#clip7700)\" d=\"M 0 0 M2139.41 1512.14 L2155.73 1512.14 L2155.73 1516.08 L2133.79 1516.08 L2133.79 1512.14 Q2136.45 1509.39 2141.03 1504.76 Q2145.64 1500.11 2146.82 1498.76 Q2149.07 1496.24 2149.94 1494.5 Q2150.85 1492.75 2150.85 1491.06 Q2150.85 1488.3 2148.9 1486.57 Q2146.98 1484.83 2143.88 1484.83 Q2141.68 1484.83 2139.23 1485.59 Q2136.8 1486.36 2134.02 1487.91 L2134.02 1483.19 Q2136.84 1482.05 2139.3 1481.47 Q2141.75 1480.89 2143.79 1480.89 Q2149.16 1480.89 2152.35 1483.58 Q2155.55 1486.26 2155.55 1490.75 Q2155.55 1492.88 2154.74 1494.81 Q2153.95 1496.7 2151.84 1499.3 Q2151.26 1499.97 2148.16 1503.19 Q2145.06 1506.38 2139.41 1512.14 Z\" fill=\"#000000\" fill-rule=\"evenodd\" fill-opacity=\"1\" /><path clip-path=\"url(#clip7700)\" d=\"M 0 0 M2170.8 1484.6 Q2167.19 1484.6 2165.36 1488.16 Q2163.56 1491.7 2163.56 1498.83 Q2163.56 1505.94 2165.36 1509.5 Q2167.19 1513.05 2170.8 1513.05 Q2174.44 1513.05 2176.24 1509.5 Q2178.07 1505.94 2178.07 1498.83 Q2178.07 1491.7 2176.24 1488.16 Q2174.44 1484.6 2170.8 1484.6 M2170.8 1480.89 Q2176.61 1480.89 2179.67 1485.5 Q2182.75 1490.08 2182.75 1498.83 Q2182.75 1507.56 2179.67 1512.17 Q2176.61 1516.75 2170.8 1516.75 Q2164.99 1516.75 2161.91 1512.17 Q2158.86 1507.56 2158.86 1498.83 Q2158.86 1490.08 2161.91 1485.5 Q2164.99 1480.89 2170.8 1480.89 Z\" fill=\"#000000\" fill-rule=\"evenodd\" fill-opacity=\"1\" /><path clip-path=\"url(#clip7700)\" d=\"M 0 0 M2227.02 1481.52 L2233.32 1481.52 L2248.64 1510.43 L2248.64 1481.52 L2253.18 1481.52 L2253.18 1516.08 L2246.88 1516.08 L2231.56 1487.17 L2231.56 1516.08 L2227.02 1516.08 L2227.02 1481.52 Z\" fill=\"#000000\" fill-rule=\"evenodd\" fill-opacity=\"1\" /><path clip-path=\"url(#clip7700)\" d=\"M 0 0 M2267.69 1493.14 Q2264.27 1493.14 2262.28 1495.82 Q2260.29 1498.49 2260.29 1503.14 Q2260.29 1507.79 2262.25 1510.48 Q2264.24 1513.14 2267.69 1513.14 Q2271.1 1513.14 2273.09 1510.45 Q2275.08 1507.77 2275.08 1503.14 Q2275.08 1498.53 2273.09 1495.85 Q2271.1 1493.14 2267.69 1493.14 M2267.69 1489.53 Q2273.25 1489.53 2276.42 1493.14 Q2279.59 1496.75 2279.59 1503.14 Q2279.59 1509.5 2276.42 1513.14 Q2273.25 1516.75 2267.69 1516.75 Q2262.12 1516.75 2258.94 1513.14 Q2255.8 1509.5 2255.8 1503.14 Q2255.8 1496.75 2258.94 1493.14 Q2262.12 1489.53 2267.69 1489.53 Z\" fill=\"#000000\" fill-rule=\"evenodd\" fill-opacity=\"1\" /><path clip-path=\"url(#clip7700)\" d=\"M 0 0 M2281 1490.15 L2285.52 1490.15 L2293.62 1511.91 L2301.72 1490.15 L2306.24 1490.15 L2296.51 1516.08 L2290.73 1516.08 L2281 1490.15 Z\" fill=\"#000000\" fill-rule=\"evenodd\" fill-opacity=\"1\" /><path clip-path=\"url(#clip7700)\" d=\"M 0 0 M2307.62 1510.2 L2312.51 1510.2 L2312.51 1516.08 L2307.62 1516.08 L2307.62 1510.2 Z\" fill=\"#000000\" fill-rule=\"evenodd\" fill-opacity=\"1\" /><path clip-path=\"url(#clip7700)\" d=\"M 0 0 M2327.58 1499.67 Q2324.24 1499.67 2322.32 1501.45 Q2320.43 1503.23 2320.43 1506.36 Q2320.43 1509.48 2322.32 1511.26 Q2324.24 1513.05 2327.58 1513.05 Q2330.91 1513.05 2332.83 1511.26 Q2334.75 1509.46 2334.75 1506.36 Q2334.75 1503.23 2332.83 1501.45 Q2330.93 1499.67 2327.58 1499.67 M2322.9 1497.68 Q2319.89 1496.94 2318.2 1494.88 Q2316.54 1492.82 2316.54 1489.85 Q2316.54 1485.71 2319.48 1483.3 Q2322.44 1480.89 2327.58 1480.89 Q2332.74 1480.89 2335.68 1483.3 Q2338.62 1485.71 2338.62 1489.85 Q2338.62 1492.82 2336.93 1494.88 Q2335.26 1496.94 2332.28 1497.68 Q2335.66 1498.46 2337.53 1500.75 Q2339.43 1503.05 2339.43 1506.36 Q2339.43 1511.38 2336.35 1514.06 Q2333.3 1516.75 2327.58 1516.75 Q2321.86 1516.75 2318.78 1514.06 Q2315.73 1511.38 2315.73 1506.36 Q2315.73 1503.05 2317.62 1500.75 Q2319.52 1498.46 2322.9 1497.68 M2321.19 1490.29 Q2321.19 1492.98 2322.86 1494.48 Q2324.55 1495.99 2327.58 1495.99 Q2330.59 1495.99 2332.28 1494.48 Q2333.99 1492.98 2333.99 1490.29 Q2333.99 1487.61 2332.28 1486.1 Q2330.59 1484.6 2327.58 1484.6 Q2324.55 1484.6 2322.86 1486.1 Q2321.19 1487.61 2321.19 1490.29 Z\" fill=\"#000000\" fill-rule=\"evenodd\" fill-opacity=\"1\" /><path clip-path=\"url(#clip7700)\" d=\"M 0 0 M2344.99 1510.2 L2349.87 1510.2 L2349.87 1514.18 L2346.07 1521.59 L2343.09 1521.59 L2344.99 1514.18 L2344.99 1510.2 Z\" fill=\"#000000\" fill-rule=\"evenodd\" fill-opacity=\"1\" /><path clip-path=\"url(#clip7700)\" d=\"M 0 0 M2358.97 1512.14 L2375.29 1512.14 L2375.29 1516.08 L2353.34 1516.08 L2353.34 1512.14 Q2356 1509.39 2360.59 1504.76 Q2365.19 1500.11 2366.37 1498.76 Q2368.62 1496.24 2369.5 1494.5 Q2370.4 1492.75 2370.4 1491.06 Q2370.4 1488.3 2368.46 1486.57 Q2366.54 1484.83 2363.43 1484.83 Q2361.24 1484.83 2358.78 1485.59 Q2356.35 1486.36 2353.57 1487.91 L2353.57 1483.19 Q2356.4 1482.05 2358.85 1481.47 Q2361.3 1480.89 2363.34 1480.89 Q2368.71 1480.89 2371.91 1483.58 Q2375.1 1486.26 2375.1 1490.75 Q2375.1 1492.88 2374.29 1494.81 Q2373.5 1496.7 2371.4 1499.3 Q2370.82 1499.97 2367.72 1503.19 Q2364.61 1506.38 2358.97 1512.14 Z\" fill=\"#000000\" fill-rule=\"evenodd\" fill-opacity=\"1\" /><path clip-path=\"url(#clip7700)\" d=\"M 0 0 M2390.36 1484.6 Q2386.74 1484.6 2384.92 1488.16 Q2383.11 1491.7 2383.11 1498.83 Q2383.11 1505.94 2384.92 1509.5 Q2386.74 1513.05 2390.36 1513.05 Q2393.99 1513.05 2395.8 1509.5 Q2397.62 1505.94 2397.62 1498.83 Q2397.62 1491.7 2395.8 1488.16 Q2393.99 1484.6 2390.36 1484.6 M2390.36 1480.89 Q2396.17 1480.89 2399.22 1485.5 Q2402.3 1490.08 2402.3 1498.83 Q2402.3 1507.56 2399.22 1512.17 Q2396.17 1516.75 2390.36 1516.75 Q2384.55 1516.75 2381.47 1512.17 Q2378.41 1507.56 2378.41 1498.83 Q2378.41 1490.08 2381.47 1485.5 Q2384.55 1480.89 2390.36 1480.89 Z\" fill=\"#000000\" fill-rule=\"evenodd\" fill-opacity=\"1\" /><path clip-path=\"url(#clip7700)\" d=\"M 0 0 M2469.85 1481.52 L2476.15 1481.52 L2491.47 1510.43 L2491.47 1481.52 L2496.01 1481.52 L2496.01 1516.08 L2489.71 1516.08 L2474.39 1487.17 L2474.39 1516.08 L2469.85 1516.08 L2469.85 1481.52 Z\" fill=\"#000000\" fill-rule=\"evenodd\" fill-opacity=\"1\" /><path clip-path=\"url(#clip7700)\" d=\"M 0 0 M2510.52 1493.14 Q2507.09 1493.14 2505.1 1495.82 Q2503.11 1498.49 2503.11 1503.14 Q2503.11 1507.79 2505.08 1510.48 Q2507.07 1513.14 2510.52 1513.14 Q2513.92 1513.14 2515.91 1510.45 Q2517.9 1507.77 2517.9 1503.14 Q2517.9 1498.53 2515.91 1495.85 Q2513.92 1493.14 2510.52 1493.14 M2510.52 1489.53 Q2516.08 1489.53 2519.25 1493.14 Q2522.42 1496.75 2522.42 1503.14 Q2522.42 1509.5 2519.25 1513.14 Q2516.08 1516.75 2510.52 1516.75 Q2504.94 1516.75 2501.77 1513.14 Q2498.62 1509.5 2498.62 1503.14 Q2498.62 1496.75 2501.77 1493.14 Q2504.94 1489.53 2510.52 1489.53 Z\" fill=\"#000000\" fill-rule=\"evenodd\" fill-opacity=\"1\" /><path clip-path=\"url(#clip7700)\" d=\"M 0 0 M2523.83 1490.15 L2528.34 1490.15 L2536.45 1511.91 L2544.55 1490.15 L2549.06 1490.15 L2539.34 1516.08 L2533.55 1516.08 L2523.83 1490.15 Z\" fill=\"#000000\" fill-rule=\"evenodd\" fill-opacity=\"1\" /><path clip-path=\"url(#clip7700)\" d=\"M 0 0 M2550.45 1510.2 L2555.34 1510.2 L2555.34 1516.08 L2550.45 1516.08 L2550.45 1510.2 Z\" fill=\"#000000\" fill-rule=\"evenodd\" fill-opacity=\"1\" /><path clip-path=\"url(#clip7700)\" d=\"M 0 0 M2561.21 1512.14 L2568.85 1512.14 L2568.85 1485.78 L2560.54 1487.44 L2560.54 1483.19 L2568.81 1481.52 L2573.48 1481.52 L2573.48 1512.14 L2581.12 1512.14 L2581.12 1516.08 L2561.21 1516.08 L2561.21 1512.14 Z\" fill=\"#000000\" fill-rule=\"evenodd\" fill-opacity=\"1\" /><path clip-path=\"url(#clip7700)\" d=\"M 0 0 M2586.24 1481.52 L2604.59 1481.52 L2604.59 1485.45 L2590.52 1485.45 L2590.52 1493.93 Q2591.54 1493.58 2592.56 1493.42 Q2593.58 1493.23 2594.59 1493.23 Q2600.38 1493.23 2603.76 1496.4 Q2607.14 1499.57 2607.14 1504.99 Q2607.14 1510.57 2603.67 1513.67 Q2600.2 1516.75 2593.88 1516.75 Q2591.7 1516.75 2589.43 1516.38 Q2587.19 1516.01 2584.78 1515.27 L2584.78 1510.57 Q2586.86 1511.7 2589.08 1512.26 Q2591.31 1512.81 2593.78 1512.81 Q2597.79 1512.81 2600.13 1510.71 Q2602.46 1508.6 2602.46 1504.99 Q2602.46 1501.38 2600.13 1499.27 Q2597.79 1497.17 2593.78 1497.17 Q2591.91 1497.17 2590.03 1497.58 Q2588.18 1498 2586.24 1498.88 L2586.24 1481.52 Z\" fill=\"#000000\" fill-rule=\"evenodd\" fill-opacity=\"1\" /><path clip-path=\"url(#clip7700)\" d=\"M 0 0 M2612.7 1510.2 L2617.58 1510.2 L2617.58 1514.18 L2613.78 1521.59 L2610.8 1521.59 L2612.7 1514.18 L2612.7 1510.2 Z\" fill=\"#000000\" fill-rule=\"evenodd\" fill-opacity=\"1\" /><path clip-path=\"url(#clip7700)\" d=\"M 0 0 M2626.68 1512.14 L2643 1512.14 L2643 1516.08 L2621.05 1516.08 L2621.05 1512.14 Q2623.71 1509.39 2628.3 1504.76 Q2632.9 1500.11 2634.08 1498.76 Q2636.33 1496.24 2637.21 1494.5 Q2638.11 1492.75 2638.11 1491.06 Q2638.11 1488.3 2636.17 1486.57 Q2634.25 1484.83 2631.14 1484.83 Q2628.95 1484.83 2626.49 1485.59 Q2624.06 1486.36 2621.28 1487.91 L2621.28 1483.19 Q2624.11 1482.05 2626.56 1481.47 Q2629.02 1480.89 2631.05 1480.89 Q2636.42 1480.89 2639.62 1483.58 Q2642.81 1486.26 2642.81 1490.75 Q2642.81 1492.88 2642 1494.81 Q2641.21 1496.7 2639.11 1499.3 Q2638.53 1499.97 2635.43 1503.19 Q2632.33 1506.38 2626.68 1512.14 Z\" fill=\"#000000\" fill-rule=\"evenodd\" fill-opacity=\"1\" /><path clip-path=\"url(#clip7700)\" d=\"M 0 0 M2658.07 1484.6 Q2654.45 1484.6 2652.63 1488.16 Q2650.82 1491.7 2650.82 1498.83 Q2650.82 1505.94 2652.63 1509.5 Q2654.45 1513.05 2658.07 1513.05 Q2661.7 1513.05 2663.51 1509.5 Q2665.33 1505.94 2665.33 1498.83 Q2665.33 1491.7 2663.51 1488.16 Q2661.7 1484.6 2658.07 1484.6 M2658.07 1480.89 Q2663.88 1480.89 2666.93 1485.5 Q2670.01 1490.08 2670.01 1498.83 Q2670.01 1507.56 2666.93 1512.17 Q2663.88 1516.75 2658.07 1516.75 Q2652.26 1516.75 2649.18 1512.17 Q2646.12 1507.56 2646.12 1498.83 Q2646.12 1490.08 2649.18 1485.5 Q2652.26 1480.89 2658.07 1480.89 Z\" fill=\"#000000\" fill-rule=\"evenodd\" fill-opacity=\"1\" /><path clip-path=\"url(#clip7700)\" d=\"M 0 0 M2688.95 1481.52 L2695.25 1481.52 L2710.57 1510.43 L2710.57 1481.52 L2715.11 1481.52 L2715.11 1516.08 L2708.81 1516.08 L2693.49 1487.17 L2693.49 1516.08 L2688.95 1516.08 L2688.95 1481.52 Z\" fill=\"#000000\" fill-rule=\"evenodd\" fill-opacity=\"1\" /><path clip-path=\"url(#clip7700)\" d=\"M 0 0 M2729.62 1493.14 Q2726.2 1493.14 2724.21 1495.82 Q2722.22 1498.49 2722.22 1503.14 Q2722.22 1507.79 2724.18 1510.48 Q2726.17 1513.14 2729.62 1513.14 Q2733.03 1513.14 2735.02 1510.45 Q2737.01 1507.77 2737.01 1503.14 Q2737.01 1498.53 2735.02 1495.85 Q2733.03 1493.14 2729.62 1493.14 M2729.62 1489.53 Q2735.18 1489.53 2738.35 1493.14 Q2741.52 1496.75 2741.52 1503.14 Q2741.52 1509.5 2738.35 1513.14 Q2735.18 1516.75 2729.62 1516.75 Q2724.04 1516.75 2720.87 1513.14 Q2717.73 1509.5 2717.73 1503.14 Q2717.73 1496.75 2720.87 1493.14 Q2724.04 1489.53 2729.62 1489.53 Z\" fill=\"#000000\" fill-rule=\"evenodd\" fill-opacity=\"1\" /><path clip-path=\"url(#clip7700)\" d=\"M 0 0 M2742.93 1490.15 L2747.45 1490.15 L2755.55 1511.91 L2763.65 1490.15 L2768.16 1490.15 L2758.44 1516.08 L2752.66 1516.08 L2742.93 1490.15 Z\" fill=\"#000000\" fill-rule=\"evenodd\" fill-opacity=\"1\" /><path clip-path=\"url(#clip7700)\" d=\"M 0 0 M2769.55 1510.2 L2774.44 1510.2 L2774.44 1516.08 L2769.55 1516.08 L2769.55 1510.2 Z\" fill=\"#000000\" fill-rule=\"evenodd\" fill-opacity=\"1\" /><path clip-path=\"url(#clip7700)\" d=\"M 0 0 M2783.53 1512.14 L2799.85 1512.14 L2799.85 1516.08 L2777.91 1516.08 L2777.91 1512.14 Q2780.57 1509.39 2785.16 1504.76 Q2789.76 1500.11 2790.94 1498.76 Q2793.19 1496.24 2794.07 1494.5 Q2794.97 1492.75 2794.97 1491.06 Q2794.97 1488.3 2793.03 1486.57 Q2791.1 1484.83 2788 1484.83 Q2785.8 1484.83 2783.35 1485.59 Q2780.92 1486.36 2778.14 1487.91 L2778.14 1483.19 Q2780.97 1482.05 2783.42 1481.47 Q2785.87 1480.89 2787.91 1480.89 Q2793.28 1480.89 2796.47 1483.58 Q2799.67 1486.26 2799.67 1490.75 Q2799.67 1492.88 2798.86 1494.81 Q2798.07 1496.7 2795.97 1499.3 Q2795.39 1499.97 2792.28 1503.19 Q2789.18 1506.38 2783.53 1512.14 Z\" fill=\"#000000\" fill-rule=\"evenodd\" fill-opacity=\"1\" /><path clip-path=\"url(#clip7700)\" d=\"M 0 0 M2805.73 1512.14 L2813.37 1512.14 L2813.37 1485.78 L2805.06 1487.44 L2805.06 1483.19 L2813.33 1481.52 L2818 1481.52 L2818 1512.14 L2825.64 1512.14 L2825.64 1516.08 L2805.73 1516.08 L2805.73 1512.14 Z\" fill=\"#000000\" fill-rule=\"evenodd\" fill-opacity=\"1\" /><path clip-path=\"url(#clip7700)\" d=\"M 0 0 M2831.2 1510.2 L2836.08 1510.2 L2836.08 1514.18 L2832.28 1521.59 L2829.3 1521.59 L2831.2 1514.18 L2831.2 1510.2 Z\" fill=\"#000000\" fill-rule=\"evenodd\" fill-opacity=\"1\" /><path clip-path=\"url(#clip7700)\" d=\"M 0 0 M2845.18 1512.14 L2861.5 1512.14 L2861.5 1516.08 L2839.55 1516.08 L2839.55 1512.14 Q2842.22 1509.39 2846.8 1504.76 Q2851.4 1500.11 2852.59 1498.76 Q2854.83 1496.24 2855.71 1494.5 Q2856.61 1492.75 2856.61 1491.06 Q2856.61 1488.3 2854.67 1486.57 Q2852.75 1484.83 2849.65 1484.83 Q2847.45 1484.83 2844.99 1485.59 Q2842.56 1486.36 2839.78 1487.91 L2839.78 1483.19 Q2842.61 1482.05 2845.06 1481.47 Q2847.52 1480.89 2849.55 1480.89 Q2854.92 1480.89 2858.12 1483.58 Q2861.31 1486.26 2861.31 1490.75 Q2861.31 1492.88 2860.5 1494.81 Q2859.72 1496.7 2857.61 1499.3 Q2857.03 1499.97 2853.93 1503.19 Q2850.83 1506.38 2845.18 1512.14 Z\" fill=\"#000000\" fill-rule=\"evenodd\" fill-opacity=\"1\" /><path clip-path=\"url(#clip7700)\" d=\"M 0 0 M2876.57 1484.6 Q2872.96 1484.6 2871.13 1488.16 Q2869.32 1491.7 2869.32 1498.83 Q2869.32 1505.94 2871.13 1509.5 Q2872.96 1513.05 2876.57 1513.05 Q2880.2 1513.05 2882.01 1509.5 Q2883.84 1505.94 2883.84 1498.83 Q2883.84 1491.7 2882.01 1488.16 Q2880.2 1484.6 2876.57 1484.6 M2876.57 1480.89 Q2882.38 1480.89 2885.43 1485.5 Q2888.51 1490.08 2888.51 1498.83 Q2888.51 1507.56 2885.43 1512.17 Q2882.38 1516.75 2876.57 1516.75 Q2870.76 1516.75 2867.68 1512.17 Q2864.62 1507.56 2864.62 1498.83 Q2864.62 1490.08 2867.68 1485.5 Q2870.76 1480.89 2876.57 1480.89 Z\" fill=\"#000000\" fill-rule=\"evenodd\" fill-opacity=\"1\" /><path clip-path=\"url(#clip7700)\" d=\"M 0 0 M2943.65 1481.52 L2949.95 1481.52 L2965.27 1510.43 L2965.27 1481.52 L2969.81 1481.52 L2969.81 1516.08 L2963.51 1516.08 L2948.19 1487.17 L2948.19 1516.08 L2943.65 1516.08 L2943.65 1481.52 Z\" fill=\"#000000\" fill-rule=\"evenodd\" fill-opacity=\"1\" /><path clip-path=\"url(#clip7700)\" d=\"M 0 0 M2984.32 1493.14 Q2980.9 1493.14 2978.91 1495.82 Q2976.92 1498.49 2976.92 1503.14 Q2976.92 1507.79 2978.88 1510.48 Q2980.88 1513.14 2984.32 1513.14 Q2987.73 1513.14 2989.72 1510.45 Q2991.71 1507.77 2991.71 1503.14 Q2991.71 1498.53 2989.72 1495.85 Q2987.73 1493.14 2984.32 1493.14 M2984.32 1489.53 Q2989.88 1489.53 2993.05 1493.14 Q2996.22 1496.75 2996.22 1503.14 Q2996.22 1509.5 2993.05 1513.14 Q2989.88 1516.75 2984.32 1516.75 Q2978.75 1516.75 2975.57 1513.14 Q2972.43 1509.5 2972.43 1503.14 Q2972.43 1496.75 2975.57 1493.14 Q2978.75 1489.53 2984.32 1489.53 Z\" fill=\"#000000\" fill-rule=\"evenodd\" fill-opacity=\"1\" /><path clip-path=\"url(#clip7700)\" d=\"M 0 0 M2997.63 1490.15 L3002.15 1490.15 L3010.25 1511.91 L3018.35 1490.15 L3022.87 1490.15 L3013.14 1516.08 L3007.36 1516.08 L2997.63 1490.15 Z\" fill=\"#000000\" fill-rule=\"evenodd\" fill-opacity=\"1\" /><path clip-path=\"url(#clip7700)\" d=\"M 0 0 M3024.26 1510.2 L3029.14 1510.2 L3029.14 1516.08 L3024.26 1516.08 L3024.26 1510.2 Z\" fill=\"#000000\" fill-rule=\"evenodd\" fill-opacity=\"1\" /><path clip-path=\"url(#clip7700)\" d=\"M 0 0 M3038.24 1512.14 L3054.56 1512.14 L3054.56 1516.08 L3032.61 1516.08 L3032.61 1512.14 Q3035.27 1509.39 3039.86 1504.76 Q3044.46 1500.11 3045.64 1498.76 Q3047.89 1496.24 3048.77 1494.5 Q3049.67 1492.75 3049.67 1491.06 Q3049.67 1488.3 3047.73 1486.57 Q3045.81 1484.83 3042.7 1484.83 Q3040.51 1484.83 3038.05 1485.59 Q3035.62 1486.36 3032.84 1487.91 L3032.84 1483.19 Q3035.67 1482.05 3038.12 1481.47 Q3040.57 1480.89 3042.61 1480.89 Q3047.98 1480.89 3051.18 1483.58 Q3054.37 1486.26 3054.37 1490.75 Q3054.37 1492.88 3053.56 1494.81 Q3052.77 1496.7 3050.67 1499.3 Q3050.09 1499.97 3046.99 1503.19 Q3043.88 1506.38 3038.24 1512.14 Z\" fill=\"#000000\" fill-rule=\"evenodd\" fill-opacity=\"1\" /><path clip-path=\"url(#clip7700)\" d=\"M 0 0 M3069.63 1499.67 Q3066.29 1499.67 3064.37 1501.45 Q3062.47 1503.23 3062.47 1506.36 Q3062.47 1509.48 3064.37 1511.26 Q3066.29 1513.05 3069.63 1513.05 Q3072.96 1513.05 3074.88 1511.26 Q3076.8 1509.46 3076.8 1506.36 Q3076.8 1503.23 3074.88 1501.45 Q3072.98 1499.67 3069.63 1499.67 M3064.95 1497.68 Q3061.94 1496.94 3060.25 1494.88 Q3058.58 1492.82 3058.58 1489.85 Q3058.58 1485.71 3061.52 1483.3 Q3064.49 1480.89 3069.63 1480.89 Q3074.79 1480.89 3077.73 1483.3 Q3080.67 1485.71 3080.67 1489.85 Q3080.67 1492.82 3078.98 1494.88 Q3077.31 1496.94 3074.32 1497.68 Q3077.7 1498.46 3079.58 1500.75 Q3081.48 1503.05 3081.48 1506.36 Q3081.48 1511.38 3078.4 1514.06 Q3075.34 1516.75 3069.63 1516.75 Q3063.91 1516.75 3060.83 1514.06 Q3057.77 1511.38 3057.77 1506.36 Q3057.77 1503.05 3059.67 1500.75 Q3061.57 1498.46 3064.95 1497.68 M3063.24 1490.29 Q3063.24 1492.98 3064.9 1494.48 Q3066.59 1495.99 3069.63 1495.99 Q3072.63 1495.99 3074.32 1494.48 Q3076.04 1492.98 3076.04 1490.29 Q3076.04 1487.61 3074.32 1486.1 Q3072.63 1484.6 3069.63 1484.6 Q3066.59 1484.6 3064.9 1486.1 Q3063.24 1487.61 3063.24 1490.29 Z\" fill=\"#000000\" fill-rule=\"evenodd\" fill-opacity=\"1\" /><path clip-path=\"url(#clip7700)\" d=\"M 0 0 M3087.03 1510.2 L3091.92 1510.2 L3091.92 1514.18 L3088.12 1521.59 L3085.13 1521.59 L3087.03 1514.18 L3087.03 1510.2 Z\" fill=\"#000000\" fill-rule=\"evenodd\" fill-opacity=\"1\" /><path clip-path=\"url(#clip7700)\" d=\"M 0 0 M3101.01 1512.14 L3117.33 1512.14 L3117.33 1516.08 L3095.39 1516.08 L3095.39 1512.14 Q3098.05 1509.39 3102.63 1504.76 Q3107.24 1500.11 3108.42 1498.76 Q3110.67 1496.24 3111.55 1494.5 Q3112.45 1492.75 3112.45 1491.06 Q3112.45 1488.3 3110.5 1486.57 Q3108.58 1484.83 3105.48 1484.83 Q3103.28 1484.83 3100.83 1485.59 Q3098.4 1486.36 3095.62 1487.91 L3095.62 1483.19 Q3098.44 1482.05 3100.9 1481.47 Q3103.35 1480.89 3105.39 1480.89 Q3110.76 1480.89 3113.95 1483.58 Q3117.15 1486.26 3117.15 1490.75 Q3117.15 1492.88 3116.34 1494.81 Q3115.55 1496.7 3113.44 1499.3 Q3112.87 1499.97 3109.76 1503.19 Q3106.66 1506.38 3101.01 1512.14 Z\" fill=\"#000000\" fill-rule=\"evenodd\" fill-opacity=\"1\" /><path clip-path=\"url(#clip7700)\" d=\"M 0 0 M3132.4 1484.6 Q3128.79 1484.6 3126.96 1488.16 Q3125.16 1491.7 3125.16 1498.83 Q3125.16 1505.94 3126.96 1509.5 Q3128.79 1513.05 3132.4 1513.05 Q3136.04 1513.05 3137.84 1509.5 Q3139.67 1505.94 3139.67 1498.83 Q3139.67 1491.7 3137.84 1488.16 Q3136.04 1484.6 3132.4 1484.6 M3132.4 1480.89 Q3138.21 1480.89 3141.27 1485.5 Q3144.35 1490.08 3144.35 1498.83 Q3144.35 1507.56 3141.27 1512.17 Q3138.21 1516.75 3132.4 1516.75 Q3126.59 1516.75 3123.51 1512.17 Q3120.46 1507.56 3120.46 1498.83 Q3120.46 1490.08 3123.51 1485.5 Q3126.59 1480.89 3132.4 1480.89 Z\" fill=\"#000000\" fill-rule=\"evenodd\" fill-opacity=\"1\" /><path clip-path=\"url(#clip7700)\" d=\"M 0 0 M3215.11 1485.36 L3215.11 1512.24 L3220.76 1512.24 Q3227.92 1512.24 3231.23 1509 Q3234.56 1505.75 3234.56 1498.76 Q3234.56 1491.82 3231.23 1488.6 Q3227.92 1485.36 3220.76 1485.36 L3215.11 1485.36 M3210.44 1481.52 L3220.04 1481.52 Q3230.09 1481.52 3234.79 1485.71 Q3239.49 1489.88 3239.49 1498.76 Q3239.49 1507.7 3234.77 1511.89 Q3230.04 1516.08 3220.04 1516.08 L3210.44 1516.08 L3210.44 1481.52 Z\" fill=\"#000000\" fill-rule=\"evenodd\" fill-opacity=\"1\" /><path clip-path=\"url(#clip7700)\" d=\"M 0 0 M3266.13 1502.05 L3266.13 1504.13 L3246.55 1504.13 Q3246.83 1508.53 3249.19 1510.85 Q3251.57 1513.14 3255.81 1513.14 Q3258.26 1513.14 3260.55 1512.54 Q3262.87 1511.94 3265.14 1510.73 L3265.14 1514.76 Q3262.85 1515.73 3260.44 1516.24 Q3258.03 1516.75 3255.55 1516.75 Q3249.35 1516.75 3245.72 1513.14 Q3242.11 1509.53 3242.11 1503.37 Q3242.11 1497 3245.53 1493.28 Q3248.98 1489.53 3254.81 1489.53 Q3260.04 1489.53 3263.08 1492.91 Q3266.13 1496.26 3266.13 1502.05 M3261.87 1500.8 Q3261.83 1497.31 3259.91 1495.22 Q3258.01 1493.14 3254.86 1493.14 Q3251.29 1493.14 3249.14 1495.15 Q3247.01 1497.17 3246.69 1500.82 L3261.87 1500.8 Z\" fill=\"#000000\" fill-rule=\"evenodd\" fill-opacity=\"1\" /><path clip-path=\"url(#clip7700)\" d=\"M 0 0 M3289.26 1491.15 L3289.26 1495.13 Q3287.45 1494.13 3285.62 1493.65 Q3283.82 1493.14 3281.97 1493.14 Q3277.82 1493.14 3275.53 1495.78 Q3273.24 1498.39 3273.24 1503.14 Q3273.24 1507.88 3275.53 1510.52 Q3277.82 1513.14 3281.97 1513.14 Q3283.82 1513.14 3285.62 1512.65 Q3287.45 1512.14 3289.26 1511.15 L3289.26 1515.08 Q3287.48 1515.92 3285.55 1516.33 Q3283.66 1516.75 3281.5 1516.75 Q3275.65 1516.75 3272.2 1513.07 Q3268.75 1509.39 3268.75 1503.14 Q3268.75 1496.8 3272.22 1493.16 Q3275.72 1489.53 3281.78 1489.53 Q3283.75 1489.53 3285.62 1489.94 Q3287.5 1490.34 3289.26 1491.15 Z\" fill=\"#000000\" fill-rule=\"evenodd\" fill-opacity=\"1\" /><path clip-path=\"url(#clip7700)\" d=\"M 0 0 M3294.33 1510.2 L3299.21 1510.2 L3299.21 1516.08 L3294.33 1516.08 L3294.33 1510.2 Z\" fill=\"#000000\" fill-rule=\"evenodd\" fill-opacity=\"1\" /><path clip-path=\"url(#clip7700)\" d=\"M 0 0 M3304.33 1481.52 L3322.68 1481.52 L3322.68 1485.45 L3308.61 1485.45 L3308.61 1493.93 Q3309.63 1493.58 3310.65 1493.42 Q3311.66 1493.23 3312.68 1493.23 Q3318.47 1493.23 3321.85 1496.4 Q3325.23 1499.57 3325.23 1504.99 Q3325.23 1510.57 3321.76 1513.67 Q3318.29 1516.75 3311.97 1516.75 Q3309.79 1516.75 3307.52 1516.38 Q3305.28 1516.01 3302.87 1515.27 L3302.87 1510.57 Q3304.95 1511.7 3307.17 1512.26 Q3309.4 1512.81 3311.87 1512.81 Q3315.88 1512.81 3318.22 1510.71 Q3320.55 1508.6 3320.55 1504.99 Q3320.55 1501.38 3318.22 1499.27 Q3315.88 1497.17 3311.87 1497.17 Q3310 1497.17 3308.12 1497.58 Q3306.27 1498 3304.33 1498.88 L3304.33 1481.52 Z\" fill=\"#000000\" fill-rule=\"evenodd\" fill-opacity=\"1\" /><path clip-path=\"url(#clip7700)\" d=\"M 0 0 M3330.79 1510.2 L3335.67 1510.2 L3335.67 1514.18 L3331.87 1521.59 L3328.89 1521.59 L3330.79 1514.18 L3330.79 1510.2 Z\" fill=\"#000000\" fill-rule=\"evenodd\" fill-opacity=\"1\" /><path clip-path=\"url(#clip7700)\" d=\"M 0 0 M3344.77 1512.14 L3361.09 1512.14 L3361.09 1516.08 L3339.14 1516.08 L3339.14 1512.14 Q3341.8 1509.39 3346.39 1504.76 Q3350.99 1500.11 3352.17 1498.76 Q3354.42 1496.24 3355.3 1494.5 Q3356.2 1492.75 3356.2 1491.06 Q3356.2 1488.3 3354.26 1486.57 Q3352.34 1484.83 3349.23 1484.83 Q3347.04 1484.83 3344.58 1485.59 Q3342.15 1486.36 3339.37 1487.91 L3339.37 1483.19 Q3342.2 1482.05 3344.65 1481.47 Q3347.1 1480.89 3349.14 1480.89 Q3354.51 1480.89 3357.71 1483.58 Q3360.9 1486.26 3360.9 1490.75 Q3360.9 1492.88 3360.09 1494.81 Q3359.3 1496.7 3357.2 1499.3 Q3356.62 1499.97 3353.52 1503.19 Q3350.41 1506.38 3344.77 1512.14 Z\" fill=\"#000000\" fill-rule=\"evenodd\" fill-opacity=\"1\" /><path clip-path=\"url(#clip7700)\" d=\"M 0 0 M3376.16 1484.6 Q3372.54 1484.6 3370.72 1488.16 Q3368.91 1491.7 3368.91 1498.83 Q3368.91 1505.94 3370.72 1509.5 Q3372.54 1513.05 3376.16 1513.05 Q3379.79 1513.05 3381.6 1509.5 Q3383.42 1505.94 3383.42 1498.83 Q3383.42 1491.7 3381.6 1488.16 Q3379.79 1484.6 3376.16 1484.6 M3376.16 1480.89 Q3381.97 1480.89 3385.02 1485.5 Q3388.1 1490.08 3388.1 1498.83 Q3388.1 1507.56 3385.02 1512.17 Q3381.97 1516.75 3376.16 1516.75 Q3370.35 1516.75 3367.27 1512.17 Q3364.21 1507.56 3364.21 1498.83 Q3364.21 1490.08 3367.27 1485.5 Q3370.35 1480.89 3376.16 1480.89 Z\" fill=\"#000000\" fill-rule=\"evenodd\" fill-opacity=\"1\" /><path clip-path=\"url(#clip7700)\" d=\"M 0 0 M3421.14 1485.36 L3421.14 1512.24 L3426.79 1512.24 Q3433.94 1512.24 3437.25 1509 Q3440.58 1505.75 3440.58 1498.76 Q3440.58 1491.82 3437.25 1488.6 Q3433.94 1485.36 3426.79 1485.36 L3421.14 1485.36 M3416.46 1481.52 L3426.07 1481.52 Q3436.12 1481.52 3440.81 1485.71 Q3445.51 1489.88 3445.51 1498.76 Q3445.51 1507.7 3440.79 1511.89 Q3436.07 1516.08 3426.07 1516.08 L3416.46 1516.08 L3416.46 1481.52 Z\" fill=\"#000000\" fill-rule=\"evenodd\" fill-opacity=\"1\" /><path clip-path=\"url(#clip7700)\" d=\"M 0 0 M3472.16 1502.05 L3472.16 1504.13 L3452.57 1504.13 Q3452.85 1508.53 3455.21 1510.85 Q3457.6 1513.14 3461.83 1513.14 Q3464.29 1513.14 3466.58 1512.54 Q3468.89 1511.94 3471.16 1510.73 L3471.16 1514.76 Q3468.87 1515.73 3466.46 1516.24 Q3464.05 1516.75 3461.58 1516.75 Q3455.37 1516.75 3451.74 1513.14 Q3448.13 1509.53 3448.13 1503.37 Q3448.13 1497 3451.55 1493.28 Q3455 1489.53 3460.84 1489.53 Q3466.07 1489.53 3469.1 1492.91 Q3472.16 1496.26 3472.16 1502.05 M3467.9 1500.8 Q3467.85 1497.31 3465.93 1495.22 Q3464.03 1493.14 3460.88 1493.14 Q3457.32 1493.14 3455.17 1495.15 Q3453.04 1497.17 3452.71 1500.82 L3467.9 1500.8 Z\" fill=\"#000000\" fill-rule=\"evenodd\" fill-opacity=\"1\" /><path clip-path=\"url(#clip7700)\" d=\"M 0 0 M3495.28 1491.15 L3495.28 1495.13 Q3493.48 1494.13 3491.65 1493.65 Q3489.84 1493.14 3487.99 1493.14 Q3483.85 1493.14 3481.55 1495.78 Q3479.26 1498.39 3479.26 1503.14 Q3479.26 1507.88 3481.55 1510.52 Q3483.85 1513.14 3487.99 1513.14 Q3489.84 1513.14 3491.65 1512.65 Q3493.48 1512.14 3495.28 1511.15 L3495.28 1515.08 Q3493.5 1515.92 3491.58 1516.33 Q3489.68 1516.75 3487.53 1516.75 Q3481.67 1516.75 3478.22 1513.07 Q3474.77 1509.39 3474.77 1503.14 Q3474.77 1496.8 3478.24 1493.16 Q3481.74 1489.53 3487.8 1489.53 Q3489.77 1489.53 3491.65 1489.94 Q3493.52 1490.34 3495.28 1491.15 Z\" fill=\"#000000\" fill-rule=\"evenodd\" fill-opacity=\"1\" /><path clip-path=\"url(#clip7700)\" d=\"M 0 0 M3500.35 1510.2 L3505.24 1510.2 L3505.24 1516.08 L3500.35 1516.08 L3500.35 1510.2 Z\" fill=\"#000000\" fill-rule=\"evenodd\" fill-opacity=\"1\" /><path clip-path=\"url(#clip7700)\" d=\"M 0 0 M3511.11 1512.14 L3518.75 1512.14 L3518.75 1485.78 L3510.44 1487.44 L3510.44 1483.19 L3518.71 1481.52 L3523.38 1481.52 L3523.38 1512.14 L3531.02 1512.14 L3531.02 1516.08 L3511.11 1516.08 L3511.11 1512.14 Z\" fill=\"#000000\" fill-rule=\"evenodd\" fill-opacity=\"1\" /><path clip-path=\"url(#clip7700)\" d=\"M 0 0 M3536.9 1512.14 L3544.54 1512.14 L3544.54 1485.78 L3536.23 1487.44 L3536.23 1483.19 L3544.49 1481.52 L3549.17 1481.52 L3549.17 1512.14 L3556.81 1512.14 L3556.81 1516.08 L3536.9 1516.08 L3536.9 1512.14 Z\" fill=\"#000000\" fill-rule=\"evenodd\" fill-opacity=\"1\" /><path clip-path=\"url(#clip7700)\" d=\"M 0 0 M3562.36 1510.2 L3567.25 1510.2 L3567.25 1514.18 L3563.45 1521.59 L3560.47 1521.59 L3562.36 1514.18 L3562.36 1510.2 Z\" fill=\"#000000\" fill-rule=\"evenodd\" fill-opacity=\"1\" /><path clip-path=\"url(#clip7700)\" d=\"M 0 0 M3576.35 1512.14 L3592.67 1512.14 L3592.67 1516.08 L3570.72 1516.08 L3570.72 1512.14 Q3573.38 1509.39 3577.97 1504.76 Q3582.57 1500.11 3583.75 1498.76 Q3586 1496.24 3586.88 1494.5 Q3587.78 1492.75 3587.78 1491.06 Q3587.78 1488.3 3585.84 1486.57 Q3583.92 1484.83 3580.81 1484.83 Q3578.61 1484.83 3576.16 1485.59 Q3573.73 1486.36 3570.95 1487.91 L3570.95 1483.19 Q3573.78 1482.05 3576.23 1481.47 Q3578.68 1480.89 3580.72 1480.89 Q3586.09 1480.89 3589.29 1483.58 Q3592.48 1486.26 3592.48 1490.75 Q3592.48 1492.88 3591.67 1494.81 Q3590.88 1496.7 3588.78 1499.3 Q3588.2 1499.97 3585.1 1503.19 Q3581.99 1506.38 3576.35 1512.14 Z\" fill=\"#000000\" fill-rule=\"evenodd\" fill-opacity=\"1\" /><path clip-path=\"url(#clip7700)\" d=\"M 0 0 M3607.73 1484.6 Q3604.12 1484.6 3602.29 1488.16 Q3600.49 1491.7 3600.49 1498.83 Q3600.49 1505.94 3602.29 1509.5 Q3604.12 1513.05 3607.73 1513.05 Q3611.37 1513.05 3613.17 1509.5 Q3615 1505.94 3615 1498.83 Q3615 1491.7 3613.17 1488.16 Q3611.37 1484.6 3607.73 1484.6 M3607.73 1480.89 Q3613.54 1480.89 3616.6 1485.5 Q3619.68 1490.08 3619.68 1498.83 Q3619.68 1507.56 3616.6 1512.17 Q3613.54 1516.75 3607.73 1516.75 Q3601.92 1516.75 3598.85 1512.17 Q3595.79 1507.56 3595.79 1498.83 Q3595.79 1490.08 3598.85 1485.5 Q3601.92 1480.89 3607.73 1480.89 Z\" fill=\"#000000\" fill-rule=\"evenodd\" fill-opacity=\"1\" /><path clip-path=\"url(#clip7700)\" d=\"M 0 0 M3675.84 1485.36 L3675.84 1512.24 L3681.49 1512.24 Q3688.64 1512.24 3691.95 1509 Q3695.28 1505.75 3695.28 1498.76 Q3695.28 1491.82 3691.95 1488.6 Q3688.64 1485.36 3681.49 1485.36 L3675.84 1485.36 M3671.16 1481.52 L3680.77 1481.52 Q3690.82 1481.52 3695.52 1485.71 Q3700.21 1489.88 3700.21 1498.76 Q3700.21 1507.7 3695.49 1511.89 Q3690.77 1516.08 3680.77 1516.08 L3671.16 1516.08 L3671.16 1481.52 Z\" fill=\"#000000\" fill-rule=\"evenodd\" fill-opacity=\"1\" /><path clip-path=\"url(#clip7700)\" d=\"M 0 0 M3726.86 1502.05 L3726.86 1504.13 L3707.28 1504.13 Q3707.55 1508.53 3709.91 1510.85 Q3712.3 1513.14 3716.53 1513.14 Q3718.99 1513.14 3721.28 1512.54 Q3723.59 1511.94 3725.86 1510.73 L3725.86 1514.76 Q3723.57 1515.73 3721.16 1516.24 Q3718.76 1516.75 3716.28 1516.75 Q3710.08 1516.75 3706.44 1513.14 Q3702.83 1509.53 3702.83 1503.37 Q3702.83 1497 3706.26 1493.28 Q3709.71 1489.53 3715.54 1489.53 Q3720.77 1489.53 3723.8 1492.91 Q3726.86 1496.26 3726.86 1502.05 M3722.6 1500.8 Q3722.55 1497.31 3720.63 1495.22 Q3718.73 1493.14 3715.59 1493.14 Q3712.02 1493.14 3709.87 1495.15 Q3707.74 1497.17 3707.41 1500.82 L3722.6 1500.8 Z\" fill=\"#000000\" fill-rule=\"evenodd\" fill-opacity=\"1\" /><path clip-path=\"url(#clip7700)\" d=\"M 0 0 M3749.98 1491.15 L3749.98 1495.13 Q3748.18 1494.13 3746.35 1493.65 Q3744.54 1493.14 3742.69 1493.14 Q3738.55 1493.14 3736.26 1495.78 Q3733.96 1498.39 3733.96 1503.14 Q3733.96 1507.88 3736.26 1510.52 Q3738.55 1513.14 3742.69 1513.14 Q3744.54 1513.14 3746.35 1512.65 Q3748.18 1512.14 3749.98 1511.15 L3749.98 1515.08 Q3748.2 1515.92 3746.28 1516.33 Q3744.38 1516.75 3742.23 1516.75 Q3736.37 1516.75 3732.92 1513.07 Q3729.47 1509.39 3729.47 1503.14 Q3729.47 1496.8 3732.95 1493.16 Q3736.44 1489.53 3742.51 1489.53 Q3744.47 1489.53 3746.35 1489.94 Q3748.22 1490.34 3749.98 1491.15 Z\" fill=\"#000000\" fill-rule=\"evenodd\" fill-opacity=\"1\" /><path clip-path=\"url(#clip7700)\" d=\"M 0 0 M3755.05 1510.2 L3759.94 1510.2 L3759.94 1516.08 L3755.05 1516.08 L3755.05 1510.2 Z\" fill=\"#000000\" fill-rule=\"evenodd\" fill-opacity=\"1\" /><path clip-path=\"url(#clip7700)\" d=\"M 0 0 M3765.82 1512.14 L3773.46 1512.14 L3773.46 1485.78 L3765.15 1487.44 L3765.15 1483.19 L3773.41 1481.52 L3778.08 1481.52 L3778.08 1512.14 L3785.72 1512.14 L3785.72 1516.08 L3765.82 1516.08 L3765.82 1512.14 Z\" fill=\"#000000\" fill-rule=\"evenodd\" fill-opacity=\"1\" /><path clip-path=\"url(#clip7700)\" d=\"M 0 0 M3800.79 1499.67 Q3797.46 1499.67 3795.54 1501.45 Q3793.64 1503.23 3793.64 1506.36 Q3793.64 1509.48 3795.54 1511.26 Q3797.46 1513.05 3800.79 1513.05 Q3804.13 1513.05 3806.05 1511.26 Q3807.97 1509.46 3807.97 1506.36 Q3807.97 1503.23 3806.05 1501.45 Q3804.15 1499.67 3800.79 1499.67 M3796.12 1497.68 Q3793.11 1496.94 3791.42 1494.88 Q3789.75 1492.82 3789.75 1489.85 Q3789.75 1485.71 3792.69 1483.3 Q3795.65 1480.89 3800.79 1480.89 Q3805.96 1480.89 3808.89 1483.3 Q3811.83 1485.71 3811.83 1489.85 Q3811.83 1492.82 3810.14 1494.88 Q3808.48 1496.94 3805.49 1497.68 Q3808.87 1498.46 3810.75 1500.75 Q3812.64 1503.05 3812.64 1506.36 Q3812.64 1511.38 3809.57 1514.06 Q3806.51 1516.75 3800.79 1516.75 Q3795.08 1516.75 3792 1514.06 Q3788.94 1511.38 3788.94 1506.36 Q3788.94 1503.05 3790.84 1500.75 Q3792.74 1498.46 3796.12 1497.68 M3794.4 1490.29 Q3794.4 1492.98 3796.07 1494.48 Q3797.76 1495.99 3800.79 1495.99 Q3803.8 1495.99 3805.49 1494.48 Q3807.21 1492.98 3807.21 1490.29 Q3807.21 1487.61 3805.49 1486.1 Q3803.8 1484.6 3800.79 1484.6 Q3797.76 1484.6 3796.07 1486.1 Q3794.4 1487.61 3794.4 1490.29 Z\" fill=\"#000000\" fill-rule=\"evenodd\" fill-opacity=\"1\" /><path clip-path=\"url(#clip7700)\" d=\"M 0 0 M3818.2 1510.2 L3823.08 1510.2 L3823.08 1514.18 L3819.29 1521.59 L3816.3 1521.59 L3818.2 1514.18 L3818.2 1510.2 Z\" fill=\"#000000\" fill-rule=\"evenodd\" fill-opacity=\"1\" /><path clip-path=\"url(#clip7700)\" d=\"M 0 0 M3832.18 1512.14 L3848.5 1512.14 L3848.5 1516.08 L3826.56 1516.08 L3826.56 1512.14 Q3829.22 1509.39 3833.8 1504.76 Q3838.41 1500.11 3839.59 1498.76 Q3841.83 1496.24 3842.71 1494.5 Q3843.62 1492.75 3843.62 1491.06 Q3843.62 1488.3 3841.67 1486.57 Q3839.75 1484.83 3836.65 1484.83 Q3834.45 1484.83 3832 1485.59 Q3829.57 1486.36 3826.79 1487.91 L3826.79 1483.19 Q3829.61 1482.05 3832.07 1481.47 Q3834.52 1480.89 3836.56 1480.89 Q3841.93 1480.89 3845.12 1483.58 Q3848.32 1486.26 3848.32 1490.75 Q3848.32 1492.88 3847.51 1494.81 Q3846.72 1496.7 3844.61 1499.3 Q3844.03 1499.97 3840.93 1503.19 Q3837.83 1506.38 3832.18 1512.14 Z\" fill=\"#000000\" fill-rule=\"evenodd\" fill-opacity=\"1\" /><path clip-path=\"url(#clip7700)\" d=\"M 0 0 M3863.57 1484.6 Q3859.96 1484.6 3858.13 1488.16 Q3856.33 1491.7 3856.33 1498.83 Q3856.33 1505.94 3858.13 1509.5 Q3859.96 1513.05 3863.57 1513.05 Q3867.2 1513.05 3869.01 1509.5 Q3870.84 1505.94 3870.84 1498.83 Q3870.84 1491.7 3869.01 1488.16 Q3867.2 1484.6 3863.57 1484.6 M3863.57 1480.89 Q3869.38 1480.89 3872.44 1485.5 Q3875.51 1490.08 3875.51 1498.83 Q3875.51 1507.56 3872.44 1512.17 Q3869.38 1516.75 3863.57 1516.75 Q3857.76 1516.75 3854.68 1512.17 Q3851.63 1507.56 3851.63 1498.83 Q3851.63 1490.08 3854.68 1485.5 Q3857.76 1480.89 3863.57 1480.89 Z\" fill=\"#000000\" fill-rule=\"evenodd\" fill-opacity=\"1\" /><path clip-path=\"url(#clip7700)\" d=\"M 0 0 M115.172 1298.83 L131.491 1298.83 L131.491 1302.76 L109.547 1302.76 L109.547 1298.83 Q112.209 1296.07 116.792 1291.44 Q121.399 1286.79 122.579 1285.45 Q124.825 1282.92 125.704 1281.19 Q126.607 1279.43 126.607 1277.74 Q126.607 1274.98 124.663 1273.25 Q122.741 1271.51 119.64 1271.51 Q117.44 1271.51 114.987 1272.28 Q112.556 1273.04 109.778 1274.59 L109.778 1269.87 Q112.603 1268.73 115.056 1268.16 Q117.51 1267.58 119.547 1267.58 Q124.917 1267.58 128.112 1270.26 Q131.306 1272.95 131.306 1277.44 Q131.306 1279.57 130.496 1281.49 Q129.709 1283.39 127.602 1285.98 Q127.024 1286.65 123.922 1289.87 Q120.82 1293.06 115.172 1298.83 Z\" fill=\"#000000\" fill-rule=\"evenodd\" fill-opacity=\"1\" /><path clip-path=\"url(#clip7700)\" d=\"M 0 0 M135.38 1268.2 L157.602 1268.2 L157.602 1270.19 L145.056 1302.76 L140.172 1302.76 L151.977 1272.14 L135.38 1272.14 L135.38 1268.2 Z\" fill=\"#000000\" fill-rule=\"evenodd\" fill-opacity=\"1\" /><path clip-path=\"url(#clip7700)\" d=\"M 0 0 M172.672 1271.28 Q169.061 1271.28 167.232 1274.85 Q165.426 1278.39 165.426 1285.52 Q165.426 1292.62 167.232 1296.19 Q169.061 1299.73 172.672 1299.73 Q176.306 1299.73 178.111 1296.19 Q179.94 1292.62 179.94 1285.52 Q179.94 1278.39 178.111 1274.85 Q176.306 1271.28 172.672 1271.28 M172.672 1267.58 Q178.482 1267.58 181.537 1272.18 Q184.616 1276.77 184.616 1285.52 Q184.616 1294.24 181.537 1298.85 Q178.482 1303.43 172.672 1303.43 Q166.861 1303.43 163.783 1298.85 Q160.727 1294.24 160.727 1285.52 Q160.727 1276.77 163.783 1272.18 Q166.861 1267.58 172.672 1267.58 Z\" fill=\"#000000\" fill-rule=\"evenodd\" fill-opacity=\"1\" /><path clip-path=\"url(#clip7700)\" d=\"M 0 0 M199.685 1271.28 Q196.074 1271.28 194.246 1274.85 Q192.44 1278.39 192.44 1285.52 Q192.44 1292.62 194.246 1296.19 Q196.074 1299.73 199.685 1299.73 Q203.32 1299.73 205.125 1296.19 Q206.954 1292.62 206.954 1285.52 Q206.954 1278.39 205.125 1274.85 Q203.32 1271.28 199.685 1271.28 M199.685 1267.58 Q205.496 1267.58 208.551 1272.18 Q211.63 1276.77 211.63 1285.52 Q211.63 1294.24 208.551 1298.85 Q205.496 1303.43 199.685 1303.43 Q193.875 1303.43 190.797 1298.85 Q187.741 1294.24 187.741 1285.52 Q187.741 1276.77 190.797 1272.18 Q193.875 1267.58 199.685 1267.58 Z\" fill=\"#000000\" fill-rule=\"evenodd\" fill-opacity=\"1\" /><path clip-path=\"url(#clip7700)\" d=\"M 0 0 M226.699 1271.28 Q223.088 1271.28 221.259 1274.85 Q219.454 1278.39 219.454 1285.52 Q219.454 1292.62 221.259 1296.19 Q223.088 1299.73 226.699 1299.73 Q230.333 1299.73 232.139 1296.19 Q233.968 1292.62 233.968 1285.52 Q233.968 1278.39 232.139 1274.85 Q230.333 1271.28 226.699 1271.28 M226.699 1267.58 Q232.509 1267.58 235.565 1272.18 Q238.644 1276.77 238.644 1285.52 Q238.644 1294.24 235.565 1298.85 Q232.509 1303.43 226.699 1303.43 Q220.889 1303.43 217.81 1298.85 Q214.755 1294.24 214.755 1285.52 Q214.755 1276.77 217.81 1272.18 Q220.889 1267.58 226.699 1267.58 Z\" fill=\"#000000\" fill-rule=\"evenodd\" fill-opacity=\"1\" /><path clip-path=\"url(#clip7700)\" d=\"M 0 0 M114.362 939.596 L130.681 939.596 L130.681 943.531 L108.737 943.531 L108.737 939.596 Q111.399 936.841 115.982 932.211 Q120.589 927.559 121.769 926.216 Q124.015 923.693 124.894 921.957 Q125.797 920.197 125.797 918.508 Q125.797 915.753 123.852 914.017 Q121.931 912.281 118.829 912.281 Q116.63 912.281 114.177 913.045 Q111.746 913.809 108.968 915.36 L108.968 910.637 Q111.792 909.503 114.246 908.924 Q116.7 908.346 118.737 908.346 Q124.107 908.346 127.302 911.031 Q130.496 913.716 130.496 918.207 Q130.496 920.336 129.686 922.258 Q128.899 924.156 126.792 926.748 Q126.214 927.42 123.112 930.637 Q120.01 933.832 114.362 939.596 Z\" fill=\"#000000\" fill-rule=\"evenodd\" fill-opacity=\"1\" /><path clip-path=\"url(#clip7700)\" d=\"M 0 0 M145.75 927.119 Q142.417 927.119 140.496 928.901 Q138.598 930.684 138.598 933.809 Q138.598 936.933 140.496 938.716 Q142.417 940.498 145.75 940.498 Q149.084 940.498 151.005 938.716 Q152.926 936.91 152.926 933.809 Q152.926 930.684 151.005 928.901 Q149.107 927.119 145.75 927.119 M141.075 925.128 Q138.065 924.387 136.376 922.327 Q134.709 920.267 134.709 917.304 Q134.709 913.16 137.649 910.753 Q140.612 908.346 145.75 908.346 Q150.913 908.346 153.852 910.753 Q156.792 913.16 156.792 917.304 Q156.792 920.267 155.102 922.327 Q153.436 924.387 150.45 925.128 Q153.829 925.915 155.704 928.207 Q157.602 930.498 157.602 933.809 Q157.602 938.832 154.524 941.517 Q151.468 944.202 145.75 944.202 Q140.033 944.202 136.954 941.517 Q133.899 938.832 133.899 933.809 Q133.899 930.498 135.797 928.207 Q137.695 925.915 141.075 925.128 M139.362 917.744 Q139.362 920.429 141.028 921.934 Q142.718 923.438 145.75 923.438 Q148.76 923.438 150.45 921.934 Q152.163 920.429 152.163 917.744 Q152.163 915.059 150.45 913.554 Q148.76 912.049 145.75 912.049 Q142.718 912.049 141.028 913.554 Q139.362 915.059 139.362 917.744 Z\" fill=\"#000000\" fill-rule=\"evenodd\" fill-opacity=\"1\" /><path clip-path=\"url(#clip7700)\" d=\"M 0 0 M172.672 912.049 Q169.061 912.049 167.232 915.614 Q165.426 919.156 165.426 926.285 Q165.426 933.392 167.232 936.957 Q169.061 940.498 172.672 940.498 Q176.306 940.498 178.111 936.957 Q179.94 933.392 179.94 926.285 Q179.94 919.156 178.111 915.614 Q176.306 912.049 172.672 912.049 M172.672 908.346 Q178.482 908.346 181.537 912.952 Q184.616 917.535 184.616 926.285 Q184.616 935.012 181.537 939.619 Q178.482 944.202 172.672 944.202 Q166.861 944.202 163.783 939.619 Q160.727 935.012 160.727 926.285 Q160.727 917.535 163.783 912.952 Q166.861 908.346 172.672 908.346 Z\" fill=\"#000000\" fill-rule=\"evenodd\" fill-opacity=\"1\" /><path clip-path=\"url(#clip7700)\" d=\"M 0 0 M199.685 912.049 Q196.074 912.049 194.246 915.614 Q192.44 919.156 192.44 926.285 Q192.44 933.392 194.246 936.957 Q196.074 940.498 199.685 940.498 Q203.32 940.498 205.125 936.957 Q206.954 933.392 206.954 926.285 Q206.954 919.156 205.125 915.614 Q203.32 912.049 199.685 912.049 M199.685 908.346 Q205.496 908.346 208.551 912.952 Q211.63 917.535 211.63 926.285 Q211.63 935.012 208.551 939.619 Q205.496 944.202 199.685 944.202 Q193.875 944.202 190.797 939.619 Q187.741 935.012 187.741 926.285 Q187.741 917.535 190.797 912.952 Q193.875 908.346 199.685 908.346 Z\" fill=\"#000000\" fill-rule=\"evenodd\" fill-opacity=\"1\" /><path clip-path=\"url(#clip7700)\" d=\"M 0 0 M226.699 912.049 Q223.088 912.049 221.259 915.614 Q219.454 919.156 219.454 926.285 Q219.454 933.392 221.259 936.957 Q223.088 940.498 226.699 940.498 Q230.333 940.498 232.139 936.957 Q233.968 933.392 233.968 926.285 Q233.968 919.156 232.139 915.614 Q230.333 912.049 226.699 912.049 M226.699 908.346 Q232.509 908.346 235.565 912.952 Q238.644 917.535 238.644 926.285 Q238.644 935.012 235.565 939.619 Q232.509 944.202 226.699 944.202 Q220.889 944.202 217.81 939.619 Q214.755 935.012 214.755 926.285 Q214.755 917.535 217.81 912.952 Q220.889 908.346 226.699 908.346 Z\" fill=\"#000000\" fill-rule=\"evenodd\" fill-opacity=\"1\" /><path clip-path=\"url(#clip7700)\" d=\"M 0 0 M114.454 580.364 L130.774 580.364 L130.774 584.299 L108.829 584.299 L108.829 580.364 Q111.491 577.61 116.075 572.98 Q120.681 568.327 121.862 566.985 Q124.107 564.462 124.987 562.725 Q125.889 560.966 125.889 559.276 Q125.889 556.522 123.945 554.786 Q122.024 553.05 118.922 553.05 Q116.723 553.05 114.269 553.813 Q111.839 554.577 109.061 556.128 L109.061 551.406 Q111.885 550.272 114.339 549.693 Q116.792 549.114 118.829 549.114 Q124.2 549.114 127.394 551.8 Q130.589 554.485 130.589 558.975 Q130.589 561.105 129.778 563.026 Q128.991 564.925 126.885 567.517 Q126.306 568.188 123.204 571.406 Q120.102 574.6 114.454 580.364 Z\" fill=\"#000000\" fill-rule=\"evenodd\" fill-opacity=\"1\" /><path clip-path=\"url(#clip7700)\" d=\"M 0 0 M135.982 583.582 L135.982 579.323 Q137.741 580.156 139.547 580.596 Q141.352 581.036 143.088 581.036 Q147.718 581.036 150.149 577.934 Q152.602 574.809 152.95 568.466 Q151.607 570.457 149.547 571.522 Q147.487 572.587 144.987 572.587 Q139.801 572.587 136.769 569.462 Q133.76 566.313 133.76 560.874 Q133.76 555.55 136.908 552.332 Q140.056 549.114 145.288 549.114 Q151.283 549.114 154.431 553.721 Q157.602 558.304 157.602 567.054 Q157.602 575.225 153.713 580.11 Q149.848 584.971 143.297 584.971 Q141.538 584.971 139.732 584.623 Q137.926 584.276 135.982 583.582 M145.288 568.929 Q148.436 568.929 150.264 566.776 Q152.116 564.624 152.116 560.874 Q152.116 557.147 150.264 554.994 Q148.436 552.818 145.288 552.818 Q142.139 552.818 140.288 554.994 Q138.459 557.147 138.459 560.874 Q138.459 564.624 140.288 566.776 Q142.139 568.929 145.288 568.929 Z\" fill=\"#000000\" fill-rule=\"evenodd\" fill-opacity=\"1\" /><path clip-path=\"url(#clip7700)\" d=\"M 0 0 M172.672 552.818 Q169.061 552.818 167.232 556.383 Q165.426 559.925 165.426 567.054 Q165.426 574.161 167.232 577.725 Q169.061 581.267 172.672 581.267 Q176.306 581.267 178.111 577.725 Q179.94 574.161 179.94 567.054 Q179.94 559.925 178.111 556.383 Q176.306 552.818 172.672 552.818 M172.672 549.114 Q178.482 549.114 181.537 553.721 Q184.616 558.304 184.616 567.054 Q184.616 575.781 181.537 580.387 Q178.482 584.971 172.672 584.971 Q166.861 584.971 163.783 580.387 Q160.727 575.781 160.727 567.054 Q160.727 558.304 163.783 553.721 Q166.861 549.114 172.672 549.114 Z\" fill=\"#000000\" fill-rule=\"evenodd\" fill-opacity=\"1\" /><path clip-path=\"url(#clip7700)\" d=\"M 0 0 M199.685 552.818 Q196.074 552.818 194.246 556.383 Q192.44 559.925 192.44 567.054 Q192.44 574.161 194.246 577.725 Q196.074 581.267 199.685 581.267 Q203.32 581.267 205.125 577.725 Q206.954 574.161 206.954 567.054 Q206.954 559.925 205.125 556.383 Q203.32 552.818 199.685 552.818 M199.685 549.114 Q205.496 549.114 208.551 553.721 Q211.63 558.304 211.63 567.054 Q211.63 575.781 208.551 580.387 Q205.496 584.971 199.685 584.971 Q193.875 584.971 190.797 580.387 Q187.741 575.781 187.741 567.054 Q187.741 558.304 190.797 553.721 Q193.875 549.114 199.685 549.114 Z\" fill=\"#000000\" fill-rule=\"evenodd\" fill-opacity=\"1\" /><path clip-path=\"url(#clip7700)\" d=\"M 0 0 M226.699 552.818 Q223.088 552.818 221.259 556.383 Q219.454 559.925 219.454 567.054 Q219.454 574.161 221.259 577.725 Q223.088 581.267 226.699 581.267 Q230.333 581.267 232.139 577.725 Q233.968 574.161 233.968 567.054 Q233.968 559.925 232.139 556.383 Q230.333 552.818 226.699 552.818 M226.699 549.114 Q232.509 549.114 235.565 553.721 Q238.644 558.304 238.644 567.054 Q238.644 575.781 235.565 580.387 Q232.509 584.971 226.699 584.971 Q220.889 584.971 217.81 580.387 Q214.755 575.781 214.755 567.054 Q214.755 558.304 217.81 553.721 Q220.889 549.114 226.699 549.114 Z\" fill=\"#000000\" fill-rule=\"evenodd\" fill-opacity=\"1\" /><path clip-path=\"url(#clip7700)\" d=\"M 0 0 M123.459 206.434 Q126.815 207.152 128.69 209.42 Q130.589 211.689 130.589 215.022 Q130.589 220.138 127.07 222.939 Q123.552 225.739 117.07 225.739 Q114.894 225.739 112.579 225.3 Q110.288 224.883 107.834 224.026 L107.834 219.513 Q109.778 220.647 112.093 221.226 Q114.408 221.804 116.931 221.804 Q121.329 221.804 123.621 220.068 Q125.936 218.332 125.936 215.022 Q125.936 211.966 123.783 210.253 Q121.653 208.517 117.834 208.517 L113.806 208.517 L113.806 204.675 L118.019 204.675 Q121.468 204.675 123.297 203.309 Q125.126 201.92 125.126 199.328 Q125.126 196.666 123.227 195.253 Q121.352 193.818 117.834 193.818 Q115.913 193.818 113.714 194.235 Q111.515 194.652 108.876 195.531 L108.876 191.365 Q111.538 190.624 113.853 190.254 Q116.19 189.883 118.251 189.883 Q123.575 189.883 126.677 192.314 Q129.778 194.721 129.778 198.841 Q129.778 201.712 128.135 203.703 Q126.491 205.67 123.459 206.434 Z\" fill=\"#000000\" fill-rule=\"evenodd\" fill-opacity=\"1\" /><path clip-path=\"url(#clip7700)\" d=\"M 0 0 M145.658 193.587 Q142.047 193.587 140.218 197.152 Q138.413 200.693 138.413 207.823 Q138.413 214.929 140.218 218.494 Q142.047 222.036 145.658 222.036 Q149.292 222.036 151.098 218.494 Q152.926 214.929 152.926 207.823 Q152.926 200.693 151.098 197.152 Q149.292 193.587 145.658 193.587 M145.658 189.883 Q151.468 189.883 154.524 194.49 Q157.602 199.073 157.602 207.823 Q157.602 216.55 154.524 221.156 Q151.468 225.739 145.658 225.739 Q139.848 225.739 136.769 221.156 Q133.714 216.55 133.714 207.823 Q133.714 199.073 136.769 194.49 Q139.848 189.883 145.658 189.883 Z\" fill=\"#000000\" fill-rule=\"evenodd\" fill-opacity=\"1\" /><path clip-path=\"url(#clip7700)\" d=\"M 0 0 M172.672 193.587 Q169.061 193.587 167.232 197.152 Q165.426 200.693 165.426 207.823 Q165.426 214.929 167.232 218.494 Q169.061 222.036 172.672 222.036 Q176.306 222.036 178.111 218.494 Q179.94 214.929 179.94 207.823 Q179.94 200.693 178.111 197.152 Q176.306 193.587 172.672 193.587 M172.672 189.883 Q178.482 189.883 181.537 194.49 Q184.616 199.073 184.616 207.823 Q184.616 216.55 181.537 221.156 Q178.482 225.739 172.672 225.739 Q166.861 225.739 163.783 221.156 Q160.727 216.55 160.727 207.823 Q160.727 199.073 163.783 194.49 Q166.861 189.883 172.672 189.883 Z\" fill=\"#000000\" fill-rule=\"evenodd\" fill-opacity=\"1\" /><path clip-path=\"url(#clip7700)\" d=\"M 0 0 M199.685 193.587 Q196.074 193.587 194.246 197.152 Q192.44 200.693 192.44 207.823 Q192.44 214.929 194.246 218.494 Q196.074 222.036 199.685 222.036 Q203.32 222.036 205.125 218.494 Q206.954 214.929 206.954 207.823 Q206.954 200.693 205.125 197.152 Q203.32 193.587 199.685 193.587 M199.685 189.883 Q205.496 189.883 208.551 194.49 Q211.63 199.073 211.63 207.823 Q211.63 216.55 208.551 221.156 Q205.496 225.739 199.685 225.739 Q193.875 225.739 190.797 221.156 Q187.741 216.55 187.741 207.823 Q187.741 199.073 190.797 194.49 Q193.875 189.883 199.685 189.883 Z\" fill=\"#000000\" fill-rule=\"evenodd\" fill-opacity=\"1\" /><path clip-path=\"url(#clip7700)\" d=\"M 0 0 M226.699 193.587 Q223.088 193.587 221.259 197.152 Q219.454 200.693 219.454 207.823 Q219.454 214.929 221.259 218.494 Q223.088 222.036 226.699 222.036 Q230.333 222.036 232.139 218.494 Q233.968 214.929 233.968 207.823 Q233.968 200.693 232.139 197.152 Q230.333 193.587 226.699 193.587 M226.699 189.883 Q232.509 189.883 235.565 194.49 Q238.644 199.073 238.644 207.823 Q238.644 216.55 235.565 221.156 Q232.509 225.739 226.699 225.739 Q220.889 225.739 217.81 221.156 Q214.755 216.55 214.755 207.823 Q214.755 199.073 217.81 194.49 Q220.889 189.883 226.699 189.883 Z\" fill=\"#000000\" fill-rule=\"evenodd\" fill-opacity=\"1\" /><path clip-path=\"url(#clip7700)\" d=\"M 0 0 M2021.06 1557.3 L2021.06 1567.42 L2033.13 1567.42 L2033.13 1571.97 L2021.06 1571.97 L2021.06 1591.33 Q2021.06 1595.69 2022.24 1596.93 Q2023.45 1598.17 2027.11 1598.17 L2033.13 1598.17 L2033.13 1603.07 L2027.11 1603.07 Q2020.33 1603.07 2017.75 1600.56 Q2015.18 1598.01 2015.18 1591.33 L2015.18 1571.97 L2010.88 1571.97 L2010.88 1567.42 L2015.18 1567.42 L2015.18 1557.3 L2021.06 1557.3 Z\" fill=\"#000000\" fill-rule=\"evenodd\" fill-opacity=\"1\" /><path clip-path=\"url(#clip7700)\" d=\"M 0 0 M2039.27 1567.42 L2045.13 1567.42 L2045.13 1603.07 L2039.27 1603.07 L2039.27 1567.42 M2039.27 1553.55 L2045.13 1553.55 L2045.13 1560.96 L2039.27 1560.96 L2039.27 1553.55 Z\" fill=\"#000000\" fill-rule=\"evenodd\" fill-opacity=\"1\" /><path clip-path=\"url(#clip7700)\" d=\"M 0 0 M2079.02 1574.27 Q2081.22 1570.32 2084.28 1568.44 Q2087.33 1566.56 2091.47 1566.56 Q2097.04 1566.56 2100.06 1570.48 Q2103.09 1574.36 2103.09 1581.55 L2103.09 1603.07 L2097.2 1603.07 L2097.2 1581.75 Q2097.2 1576.62 2095.38 1574.14 Q2093.57 1571.66 2089.85 1571.66 Q2085.29 1571.66 2082.65 1574.68 Q2080.01 1577.7 2080.01 1582.92 L2080.01 1603.07 L2074.12 1603.07 L2074.12 1581.75 Q2074.12 1576.59 2072.31 1574.14 Q2070.49 1571.66 2066.71 1571.66 Q2062.22 1571.66 2059.58 1574.71 Q2056.93 1577.74 2056.93 1582.92 L2056.93 1603.07 L2051.05 1603.07 L2051.05 1567.42 L2056.93 1567.42 L2056.93 1572.96 Q2058.94 1569.68 2061.74 1568.12 Q2064.54 1566.56 2068.39 1566.56 Q2072.28 1566.56 2074.98 1568.54 Q2077.72 1570.51 2079.02 1574.27 Z\" fill=\"#000000\" fill-rule=\"evenodd\" fill-opacity=\"1\" /><path clip-path=\"url(#clip7700)\" d=\"M 0 0 M2139.72 1583.78 L2139.72 1586.65 L2112.79 1586.65 Q2113.18 1592.69 2116.42 1595.88 Q2119.7 1599.03 2125.53 1599.03 Q2128.9 1599.03 2132.05 1598.2 Q2135.23 1597.37 2138.35 1595.72 L2138.35 1601.26 Q2135.2 1602.59 2131.89 1603.29 Q2128.58 1603.99 2125.18 1603.99 Q2116.64 1603.99 2111.65 1599.03 Q2106.68 1594.06 2106.68 1585.6 Q2106.68 1576.84 2111.39 1571.72 Q2116.14 1566.56 2124.16 1566.56 Q2131.35 1566.56 2135.52 1571.21 Q2139.72 1575.83 2139.72 1583.78 M2133.86 1582.06 Q2133.8 1577.26 2131.16 1574.39 Q2128.55 1571.53 2124.22 1571.53 Q2119.32 1571.53 2116.36 1574.3 Q2113.43 1577.07 2112.98 1582.1 L2133.86 1582.06 Z\" fill=\"#000000\" fill-rule=\"evenodd\" fill-opacity=\"1\" /><path clip-path=\"url(#clip7700)\" d=\"M 0 0 M18.7301 827.498 L18.7301 821.291 L48.6489 810.151 L18.7301 799.011 L18.7301 792.805 L54.378 806.173 L54.378 814.13 L18.7301 827.498 Z\" fill=\"#000000\" fill-rule=\"evenodd\" fill-opacity=\"1\" /><path clip-path=\"url(#clip7700)\" d=\"M 0 0 M36.4586 770.461 Q36.4586 777.559 38.0818 780.296 Q39.7051 783.034 43.62 783.034 Q46.7392 783.034 48.5852 780.997 Q50.3995 778.928 50.3995 775.395 Q50.3995 770.525 46.962 767.597 Q43.4927 764.637 37.7635 764.637 L36.4586 764.637 L36.4586 770.461 M34.0396 758.78 L54.378 758.78 L54.378 764.637 L48.9672 764.637 Q52.2137 766.642 53.7733 769.634 Q55.3011 772.626 55.3011 776.954 Q55.3011 782.429 52.2455 785.675 Q49.1582 788.89 44.0019 788.89 Q37.9863 788.89 34.9308 784.88 Q31.8753 780.837 31.8753 772.848 L31.8753 764.637 L31.3023 764.637 Q27.2601 764.637 25.064 767.31 Q22.836 769.952 22.836 774.758 Q22.836 777.814 23.568 780.71 Q24.3001 783.606 25.7642 786.28 L20.3533 786.28 Q19.112 783.065 18.5073 780.042 Q17.8707 777.018 17.8707 774.153 Q17.8707 766.419 21.8811 762.6 Q25.8915 758.78 34.0396 758.78 Z\" fill=\"#000000\" fill-rule=\"evenodd\" fill-opacity=\"1\" /><path clip-path=\"url(#clip7700)\" d=\"M 0 0 M4.85284 752.637 L4.85284 746.781 L54.378 746.781 L54.378 752.637 L4.85284 752.637 Z\" fill=\"#000000\" fill-rule=\"evenodd\" fill-opacity=\"1\" /><path clip-path=\"url(#clip7700)\" d=\"M 0 0 M40.3098 741.243 L18.7301 741.243 L18.7301 735.386 L40.087 735.386 Q45.1478 735.386 47.694 733.413 Q50.2085 731.439 50.2085 727.493 Q50.2085 722.75 47.1848 720.013 Q44.1611 717.244 38.9412 717.244 L18.7301 717.244 L18.7301 711.388 L54.378 711.388 L54.378 717.244 L48.9035 717.244 Q52.15 719.376 53.7415 722.209 Q55.3011 725.01 55.3011 728.734 Q55.3011 734.877 51.4816 738.06 Q47.6622 741.243 40.3098 741.243 M17.8707 726.506 L17.8707 726.506 Z\" fill=\"#000000\" fill-rule=\"evenodd\" fill-opacity=\"1\" /><path clip-path=\"url(#clip7700)\" d=\"M 0 0 M35.0899 674.753 L37.9545 674.753 L37.9545 701.68 Q44.0019 701.298 47.1848 698.051 Q50.3358 694.773 50.3358 688.948 Q50.3358 685.575 49.5083 682.424 Q48.6807 679.241 47.0256 676.121 L52.5638 676.121 Q53.9006 679.273 54.6008 682.583 Q55.3011 685.893 55.3011 689.299 Q55.3011 697.829 50.3358 702.826 Q45.3706 707.791 36.9042 707.791 Q28.1513 707.791 23.0269 703.08 Q17.8707 698.338 17.8707 690.317 Q17.8707 683.124 22.5177 678.954 Q27.1328 674.753 35.0899 674.753 M33.3712 680.609 Q28.5651 680.673 25.7005 683.315 Q22.836 685.925 22.836 690.253 Q22.836 695.155 25.605 698.115 Q28.3741 701.043 33.403 701.489 L33.3712 680.609 Z\" fill=\"#000000\" fill-rule=\"evenodd\" fill-opacity=\"1\" /><polyline clip-path=\"url(#clip7702)\" style=\"stroke:#009af9; stroke-width:4; stroke-opacity:1; fill:none\" points=\"\n",
       "  379.586,795.131 416.053,905.774 452.52,945.29 488.987,945.29 525.454,945.29 561.921,1111.25 598.388,1165.86 634.855,1118.8 671.322,1251.35 707.789,1199.63 \n",
       "  744.256,1199.63 780.723,1199.63 817.19,1025.76 853.657,1067.79 890.124,916.911 926.591,911.522 963.058,976.184 999.525,976.184 1035.99,976.184 1072.46,867.696 \n",
       "  1108.93,799.083 1145.39,793.335 1181.86,761.364 1218.33,683.41 1254.79,683.41 1291.26,683.41 1327.73,582.107 1364.19,635.633 1400.66,641.38 1437.13,733.703 \n",
       "  1473.59,623.419 1510.06,623.419 1546.53,623.419 1583,670.478 1619.46,719.693 1655.93,764.237 1692.4,775.014 1728.86,769.267 1765.33,769.267 1801.8,769.267 \n",
       "  1838.26,859.434 1874.73,1031.15 1911.2,1248.84 1947.67,1324.28 1984.13,1415.16 2020.6,1415.16 2057.07,1415.16 2093.53,1270.04 2130,1055.57 2166.47,817.763 \n",
       "  2202.93,748.431 2239.4,771.063 2275.87,771.063 2312.33,771.063 2348.8,231.497 2385.27,394.948 2421.74,353.995 2458.2,454.939 2494.67,366.209 2531.14,366.209 \n",
       "  2567.6,366.209 2604.07,220.72 2640.54,253.77 2677,232.575 2713.47,378.423 2749.94,398.181 2786.41,398.181 2822.87,398.181 2859.34,327.053 2895.81,165.758 \n",
       "  2932.27,186.593 2968.74,186.593 3005.21,202.4 3041.67,202.4 3078.14,202.4 3114.61,259.877 3151.07,177.972 3187.54,242.634 3224.01,167.913 3260.48,129.476 \n",
       "  3296.94,129.476 3333.41,129.476 3369.88,124.087 3406.34,119.417 3442.81,92.8341 3479.28,184.797 3515.74,182.283 3552.21,182.283 3588.68,182.283 3625.15,90.6787 \n",
       "  3661.61,90.6787 3698.08,90.6787 3734.55,90.6787 3771.01,90.6787 \n",
       "  \"/>\n",
       "<polyline clip-path=\"url(#clip7702)\" style=\"stroke:#e26f46; stroke-width:4; stroke-opacity:1; fill:none\" points=\"\n",
       "  379.586,914.037 416.053,928.406 452.52,957.863 488.987,990.912 525.454,1025.04 561.921,1091.86 598.388,1122.03 634.855,1150.77 671.322,1177.35 707.789,1188.85 \n",
       "  744.256,1170.89 780.723,1174.84 817.19,1105.87 853.657,1052.34 890.124,1000.97 926.591,947.086 963.058,932.717 999.525,943.135 1035.99,906.493 1072.46,881.347 \n",
       "  1108.93,864.104 1145.39,816.326 1181.86,756.334 1218.33,686.284 1254.79,649.643 1291.26,581.389 1327.73,568.456 1364.19,575.282 1400.66,620.186 1437.13,660.42 \n",
       "  1473.59,691.313 1510.06,718.615 1546.53,714.663 1583,736.577 1619.46,732.266 1655.93,763.519 1692.4,797.287 1728.86,835.365 1765.33,840.035 1801.8,834.287 \n",
       "  1838.26,872.007 1874.73,945.649 1911.2,1101.56 1947.67,1183.1 1984.13,1284.76 2020.6,1337.93 2057.07,1344.04 2093.53,1267.16 2130,1202.5 2166.47,1072.46 \n",
       "  2202.93,916.551 2239.4,764.597 2275.87,643.176 2312.33,514.572 2348.8,419.375 2385.27,393.87 2421.74,383.811 2458.2,389.2 2494.67,372.675 2531.14,384.171 \n",
       "  2567.6,346.092 2604.07,324.538 2640.54,278.916 2677,273.168 2713.47,289.334 2749.94,314.121 2786.41,362.976 2822.87,371.238 2859.34,376.986 2895.81,349.325 \n",
       "  2932.27,305.14 2968.74,238.682 3005.21,198.807 3041.67,162.884 3078.14,153.903 3114.61,179.768 3151.07,173.302 3187.54,193.06 3224.01,204.196 3260.48,190.545 \n",
       "  3296.94,151.389 3333.41,110.796 3369.88,100.378 3406.34,87.0864 3442.81,108.64 3479.28,141.33 3515.74,179.409 3552.21,188.749 3588.68,151.03 3625.15,175.457 \n",
       "  3661.61,202.4 3698.08,222.876 3734.55,254.847 3771.01,292.567 \n",
       "  \"/>\n",
       "<polyline clip-path=\"url(#clip7702)\" style=\"stroke:#3da44d; stroke-width:4; stroke-opacity:1; fill:none\" points=\"\n",
       "  3643.38,2862.77 3643.38,-1360.52 \n",
       "  \"/>\n",
       "<path clip-path=\"url(#clip7700)\" d=\"\n",
       "M395.444 463.884 L1219.43 463.884 L1219.43 221.964 L395.444 221.964  Z\n",
       "  \" fill=\"#ffffff\" fill-rule=\"evenodd\" fill-opacity=\"1\"/>\n",
       "<polyline clip-path=\"url(#clip7700)\" style=\"stroke:#000000; stroke-width:4; stroke-opacity:1; fill:none\" points=\"\n",
       "  395.444,463.884 1219.43,463.884 1219.43,221.964 395.444,221.964 395.444,463.884 \n",
       "  \"/>\n",
       "<polyline clip-path=\"url(#clip7700)\" style=\"stroke:#009af9; stroke-width:4; stroke-opacity:1; fill:none\" points=\"\n",
       "  434.644,282.444 669.844,282.444 \n",
       "  \"/>\n",
       "<path clip-path=\"url(#clip7700)\" d=\"M 0 0 M713.719 269.007 L713.719 295.882 L719.368 295.882 Q726.52 295.882 729.83 292.641 Q733.164 289.4 733.164 282.409 Q733.164 275.465 729.83 272.247 Q726.52 269.007 719.368 269.007 L713.719 269.007 M709.044 265.164 L718.65 265.164 Q728.696 265.164 733.395 269.354 Q738.094 273.521 738.094 282.409 Q738.094 291.345 733.372 295.534 Q728.65 299.724 718.65 299.724 L709.044 299.724 L709.044 265.164 Z\" fill=\"#000000\" fill-rule=\"evenodd\" fill-opacity=\"1\" /><path clip-path=\"url(#clip7700)\" d=\"M 0 0 M742.747 265.164 L747.423 265.164 L747.423 297.317 Q747.423 303.567 745.039 306.391 Q742.678 309.215 737.423 309.215 L735.641 309.215 L735.641 305.28 L737.099 305.28 Q740.201 305.28 741.474 303.544 Q742.747 301.807 742.747 297.317 L742.747 265.164 Z\" fill=\"#000000\" fill-rule=\"evenodd\" fill-opacity=\"1\" /><path clip-path=\"url(#clip7700)\" d=\"M 0 0 M752.076 265.164 L756.752 265.164 L756.752 299.724 L752.076 299.724 L752.076 265.164 Z\" fill=\"#000000\" fill-rule=\"evenodd\" fill-opacity=\"1\" /><path clip-path=\"url(#clip7700)\" d=\"M 0 0 M772.955 269.771 L766.613 286.97 L779.321 286.97 L772.955 269.771 M770.316 265.164 L775.617 265.164 L788.788 299.724 L783.927 299.724 L780.779 290.858 L765.201 290.858 L762.052 299.724 L757.122 299.724 L770.316 265.164 Z\" fill=\"#000000\" fill-rule=\"evenodd\" fill-opacity=\"1\" /><polyline clip-path=\"url(#clip7700)\" style=\"stroke:#e26f46; stroke-width:4; stroke-opacity:1; fill:none\" points=\"\n",
       "  434.644,342.924 669.844,342.924 \n",
       "  \"/>\n",
       "<path clip-path=\"url(#clip7700)\" d=\"M 0 0 M713.326 356.315 L713.326 370.065 L709.044 370.065 L709.044 334.278 L713.326 334.278 L713.326 338.213 Q714.668 335.899 716.706 334.788 Q718.766 333.653 721.613 333.653 Q726.335 333.653 729.275 337.403 Q732.238 341.153 732.238 347.264 Q732.238 353.375 729.275 357.125 Q726.335 360.875 721.613 360.875 Q718.766 360.875 716.706 359.764 Q714.668 358.63 713.326 356.315 M727.817 347.264 Q727.817 342.565 725.872 339.903 Q723.951 337.218 720.571 337.218 Q717.192 337.218 715.247 339.903 Q713.326 342.565 713.326 347.264 Q713.326 351.963 715.247 354.649 Q717.192 357.311 720.571 357.311 Q723.951 357.311 725.872 354.649 Q727.817 351.963 727.817 347.264 Z\" fill=\"#000000\" fill-rule=\"evenodd\" fill-opacity=\"1\" /><path clip-path=\"url(#clip7700)\" d=\"M 0 0 M751.728 338.26 Q751.011 337.843 750.154 337.658 Q749.321 337.45 748.303 337.45 Q744.691 337.45 742.747 339.811 Q740.826 342.149 740.826 346.547 L740.826 360.204 L736.543 360.204 L736.543 334.278 L740.826 334.278 L740.826 338.306 Q742.168 335.945 744.321 334.811 Q746.474 333.653 749.553 333.653 Q749.992 333.653 750.525 333.723 Q751.057 333.769 751.705 333.885 L751.728 338.26 Z\" fill=\"#000000\" fill-rule=\"evenodd\" fill-opacity=\"1\" /><path clip-path=\"url(#clip7700)\" d=\"M 0 0 M777.33 346.176 L777.33 348.26 L757.747 348.26 Q758.025 352.658 760.386 354.973 Q762.77 357.264 767.006 357.264 Q769.46 357.264 771.752 356.662 Q774.066 356.061 776.335 354.857 L776.335 358.885 Q774.043 359.857 771.636 360.366 Q769.228 360.875 766.752 360.875 Q760.548 360.875 756.914 357.264 Q753.303 353.653 753.303 347.496 Q753.303 341.13 756.728 337.403 Q760.178 333.653 766.011 333.653 Q771.242 333.653 774.275 337.033 Q777.33 340.389 777.33 346.176 M773.071 344.926 Q773.025 341.431 771.103 339.348 Q769.205 337.264 766.057 337.264 Q762.492 337.264 760.34 339.278 Q758.21 341.292 757.886 344.95 L773.071 344.926 Z\" fill=\"#000000\" fill-rule=\"evenodd\" fill-opacity=\"1\" /><path clip-path=\"url(#clip7700)\" d=\"M 0 0 M798.858 338.213 L798.858 324.186 L803.117 324.186 L803.117 360.204 L798.858 360.204 L798.858 356.315 Q797.515 358.63 795.455 359.764 Q793.418 360.875 790.548 360.875 Q785.849 360.875 782.886 357.125 Q779.946 353.375 779.946 347.264 Q779.946 341.153 782.886 337.403 Q785.849 333.653 790.548 333.653 Q793.418 333.653 795.455 334.788 Q797.515 335.899 798.858 338.213 M784.344 347.264 Q784.344 351.963 786.265 354.649 Q788.21 357.311 791.589 357.311 Q794.969 357.311 796.913 354.649 Q798.858 351.963 798.858 347.264 Q798.858 342.565 796.913 339.903 Q794.969 337.218 791.589 337.218 Q788.21 337.218 786.265 339.903 Q784.344 342.565 784.344 347.264 Z\" fill=\"#000000\" fill-rule=\"evenodd\" fill-opacity=\"1\" /><path clip-path=\"url(#clip7700)\" d=\"M 0 0 M807.585 334.278 L811.844 334.278 L811.844 360.204 L807.585 360.204 L807.585 334.278 M807.585 324.186 L811.844 324.186 L811.844 329.579 L807.585 329.579 L807.585 324.186 Z\" fill=\"#000000\" fill-rule=\"evenodd\" fill-opacity=\"1\" /><path clip-path=\"url(#clip7700)\" d=\"M 0 0 M834.969 335.274 L834.969 339.255 Q833.163 338.26 831.335 337.774 Q829.529 337.264 827.677 337.264 Q823.534 337.264 821.242 339.903 Q818.95 342.519 818.95 347.264 Q818.95 352.01 821.242 354.649 Q823.534 357.264 827.677 357.264 Q829.529 357.264 831.335 356.778 Q833.163 356.269 834.969 355.274 L834.969 359.209 Q833.186 360.042 831.265 360.459 Q829.367 360.875 827.214 360.875 Q821.358 360.875 817.909 357.195 Q814.46 353.514 814.46 347.264 Q814.46 340.922 817.932 337.288 Q821.427 333.653 827.492 333.653 Q829.46 333.653 831.335 334.07 Q833.21 334.463 834.969 335.274 Z\" fill=\"#000000\" fill-rule=\"evenodd\" fill-opacity=\"1\" /><path clip-path=\"url(#clip7700)\" d=\"M 0 0 M843.649 326.917 L843.649 334.278 L852.422 334.278 L852.422 337.588 L843.649 337.588 L843.649 351.662 Q843.649 354.834 844.506 355.737 Q845.385 356.639 848.047 356.639 L852.422 356.639 L852.422 360.204 L848.047 360.204 Q843.117 360.204 841.242 358.375 Q839.367 356.524 839.367 351.662 L839.367 337.588 L836.242 337.588 L836.242 334.278 L839.367 334.278 L839.367 326.917 L843.649 326.917 Z\" fill=\"#000000\" fill-rule=\"evenodd\" fill-opacity=\"1\" /><path clip-path=\"url(#clip7700)\" d=\"M 0 0 M856.89 334.278 L861.149 334.278 L861.149 360.204 L856.89 360.204 L856.89 334.278 M856.89 324.186 L861.149 324.186 L861.149 329.579 L856.89 329.579 L856.89 324.186 Z\" fill=\"#000000\" fill-rule=\"evenodd\" fill-opacity=\"1\" /><path clip-path=\"url(#clip7700)\" d=\"M 0 0 M875.663 337.264 Q872.237 337.264 870.246 339.95 Q868.256 342.612 868.256 347.264 Q868.256 351.917 870.223 354.602 Q872.214 357.264 875.663 357.264 Q879.066 357.264 881.056 354.579 Q883.047 351.894 883.047 347.264 Q883.047 342.658 881.056 339.973 Q879.066 337.264 875.663 337.264 M875.663 333.653 Q881.219 333.653 884.39 337.264 Q887.561 340.875 887.561 347.264 Q887.561 353.63 884.39 357.264 Q881.219 360.875 875.663 360.875 Q870.084 360.875 866.913 357.264 Q863.765 353.63 863.765 347.264 Q863.765 340.875 866.913 337.264 Q870.084 333.653 875.663 333.653 Z\" fill=\"#000000\" fill-rule=\"evenodd\" fill-opacity=\"1\" /><path clip-path=\"url(#clip7700)\" d=\"M 0 0 M913.579 344.556 L913.579 360.204 L909.32 360.204 L909.32 344.695 Q909.32 341.014 907.885 339.186 Q906.45 337.357 903.58 337.357 Q900.13 337.357 898.14 339.556 Q896.149 341.755 896.149 345.551 L896.149 360.204 L891.867 360.204 L891.867 334.278 L896.149 334.278 L896.149 338.306 Q897.677 335.968 899.737 334.811 Q901.82 333.653 904.529 333.653 Q908.996 333.653 911.288 336.431 Q913.579 339.186 913.579 344.556 Z\" fill=\"#000000\" fill-rule=\"evenodd\" fill-opacity=\"1\" /><path clip-path=\"url(#clip7700)\" d=\"M 0 0 M934.575 335.042 L934.575 339.07 Q932.769 338.144 930.825 337.681 Q928.88 337.218 926.797 337.218 Q923.626 337.218 922.028 338.19 Q920.454 339.163 920.454 341.107 Q920.454 342.588 921.589 343.445 Q922.723 344.278 926.149 345.042 L927.607 345.366 Q932.144 346.338 934.042 348.121 Q935.964 349.88 935.964 353.051 Q935.964 356.662 933.093 358.769 Q930.246 360.875 925.246 360.875 Q923.163 360.875 920.894 360.459 Q918.649 360.065 916.149 359.255 L916.149 354.857 Q918.51 356.084 920.802 356.709 Q923.093 357.311 925.339 357.311 Q928.348 357.311 929.968 356.292 Q931.589 355.25 931.589 353.375 Q931.589 351.639 930.408 350.713 Q929.251 349.787 925.292 348.931 L923.811 348.584 Q919.853 347.75 918.093 346.038 Q916.334 344.301 916.334 341.292 Q916.334 337.635 918.927 335.644 Q921.519 333.653 926.288 333.653 Q928.649 333.653 930.732 334.001 Q932.815 334.348 934.575 335.042 Z\" fill=\"#000000\" fill-rule=\"evenodd\" fill-opacity=\"1\" /><polyline clip-path=\"url(#clip7700)\" style=\"stroke:#3da44d; stroke-width:4; stroke-opacity:1; fill:none\" points=\"\n",
       "  434.644,403.404 669.844,403.404 \n",
       "  \"/>\n",
       "<path clip-path=\"url(#clip7700)\" d=\"M 0 0 M709.044 386.124 L738.279 386.124 L738.279 390.059 L726.011 390.059 L726.011 420.684 L721.312 420.684 L721.312 390.059 L709.044 390.059 L709.044 386.124 Z\" fill=\"#000000\" fill-rule=\"evenodd\" fill-opacity=\"1\" /><path clip-path=\"url(#clip7700)\" d=\"M 0 0 M744.738 397.744 Q741.312 397.744 739.321 400.43 Q737.33 403.092 737.33 407.744 Q737.33 412.397 739.298 415.082 Q741.289 417.744 744.738 417.744 Q748.141 417.744 750.131 415.059 Q752.122 412.374 752.122 407.744 Q752.122 403.138 750.131 400.453 Q748.141 397.744 744.738 397.744 M744.738 394.133 Q750.293 394.133 753.465 397.744 Q756.636 401.355 756.636 407.744 Q756.636 414.11 753.465 417.744 Q750.293 421.355 744.738 421.355 Q739.159 421.355 735.988 417.744 Q732.84 414.11 732.84 407.744 Q732.84 401.355 735.988 397.744 Q739.159 394.133 744.738 394.133 Z\" fill=\"#000000\" fill-rule=\"evenodd\" fill-opacity=\"1\" /><path clip-path=\"url(#clip7700)\" d=\"M 0 0 M778.164 398.693 L778.164 384.666 L782.423 384.666 L782.423 420.684 L778.164 420.684 L778.164 416.795 Q776.821 419.11 774.761 420.244 Q772.724 421.355 769.853 421.355 Q765.154 421.355 762.191 417.605 Q759.252 413.855 759.252 407.744 Q759.252 401.633 762.191 397.883 Q765.154 394.133 769.853 394.133 Q772.724 394.133 774.761 395.268 Q776.821 396.379 778.164 398.693 M763.65 407.744 Q763.65 412.443 765.571 415.129 Q767.515 417.791 770.895 417.791 Q774.275 417.791 776.219 415.129 Q778.164 412.443 778.164 407.744 Q778.164 403.045 776.219 400.383 Q774.275 397.698 770.895 397.698 Q767.515 397.698 765.571 400.383 Q763.65 403.045 763.65 407.744 Z\" fill=\"#000000\" fill-rule=\"evenodd\" fill-opacity=\"1\" /><path clip-path=\"url(#clip7700)\" d=\"M 0 0 M798.673 407.652 Q793.511 407.652 791.52 408.832 Q789.529 410.013 789.529 412.86 Q789.529 415.129 791.011 416.471 Q792.515 417.791 795.085 417.791 Q798.626 417.791 800.756 415.291 Q802.909 412.767 802.909 408.601 L802.909 407.652 L798.673 407.652 M807.168 405.893 L807.168 420.684 L802.909 420.684 L802.909 416.749 Q801.45 419.11 799.275 420.244 Q797.099 421.355 793.95 421.355 Q789.969 421.355 787.608 419.133 Q785.27 416.888 785.27 413.138 Q785.27 408.763 788.187 406.541 Q791.126 404.318 796.937 404.318 L802.909 404.318 L802.909 403.902 Q802.909 400.962 800.964 399.365 Q799.043 397.744 795.548 397.744 Q793.325 397.744 791.219 398.277 Q789.113 398.809 787.168 399.874 L787.168 395.939 Q789.506 395.036 791.705 394.596 Q793.904 394.133 795.987 394.133 Q801.612 394.133 804.39 397.05 Q807.168 399.967 807.168 405.893 Z\" fill=\"#000000\" fill-rule=\"evenodd\" fill-opacity=\"1\" /><path clip-path=\"url(#clip7700)\" d=\"M 0 0 M822.423 423.091 Q820.617 427.721 818.904 429.133 Q817.191 430.545 814.321 430.545 L810.918 430.545 L810.918 426.98 L813.418 426.98 Q815.177 426.98 816.149 426.147 Q817.122 425.314 818.302 422.212 L819.066 420.267 L808.58 394.758 L813.094 394.758 L821.196 415.036 L829.298 394.758 L833.811 394.758 L822.423 423.091 Z\" fill=\"#000000\" fill-rule=\"evenodd\" fill-opacity=\"1\" /><path clip-path=\"url(#clip7700)\" d=\"M 0 0 M858.209 389.967 L858.209 416.842 L863.858 416.842 Q871.01 416.842 874.32 413.601 Q877.654 410.36 877.654 403.369 Q877.654 396.425 874.32 393.207 Q871.01 389.967 863.858 389.967 L858.209 389.967 M853.533 386.124 L863.14 386.124 Q873.186 386.124 877.885 390.314 Q882.584 394.481 882.584 403.369 Q882.584 412.305 877.862 416.494 Q873.14 420.684 863.14 420.684 L853.533 420.684 L853.533 386.124 Z\" fill=\"#000000\" fill-rule=\"evenodd\" fill-opacity=\"1\" /><path clip-path=\"url(#clip7700)\" d=\"M 0 0 M909.228 406.656 L909.228 408.74 L889.644 408.74 Q889.922 413.138 892.283 415.453 Q894.668 417.744 898.904 417.744 Q901.357 417.744 903.649 417.142 Q905.964 416.541 908.232 415.337 L908.232 419.365 Q905.941 420.337 903.533 420.846 Q901.126 421.355 898.649 421.355 Q892.445 421.355 888.811 417.744 Q885.2 414.133 885.2 407.976 Q885.2 401.61 888.626 397.883 Q892.075 394.133 897.908 394.133 Q903.14 394.133 906.172 397.513 Q909.228 400.869 909.228 406.656 M904.968 405.406 Q904.922 401.911 903.001 399.828 Q901.103 397.744 897.955 397.744 Q894.39 397.744 892.237 399.758 Q890.107 401.772 889.783 405.43 L904.968 405.406 Z\" fill=\"#000000\" fill-rule=\"evenodd\" fill-opacity=\"1\" /><path clip-path=\"url(#clip7700)\" d=\"M 0 0 M932.353 395.754 L932.353 399.735 Q930.547 398.74 928.718 398.254 Q926.913 397.744 925.061 397.744 Q920.917 397.744 918.626 400.383 Q916.334 402.999 916.334 407.744 Q916.334 412.49 918.626 415.129 Q920.917 417.744 925.061 417.744 Q926.913 417.744 928.718 417.258 Q930.547 416.749 932.353 415.754 L932.353 419.689 Q930.57 420.522 928.649 420.939 Q926.751 421.355 924.598 421.355 Q918.741 421.355 915.292 417.675 Q911.843 413.994 911.843 407.744 Q911.843 401.402 915.316 397.768 Q918.811 394.133 924.876 394.133 Q926.843 394.133 928.718 394.55 Q930.593 394.943 932.353 395.754 Z\" fill=\"#000000\" fill-rule=\"evenodd\" fill-opacity=\"1\" /><path clip-path=\"url(#clip7700)\" d=\"M 0 0 M937.422 414.804 L942.306 414.804 L942.306 420.684 L937.422 420.684 L937.422 414.804 Z\" fill=\"#000000\" fill-rule=\"evenodd\" fill-opacity=\"1\" /><path clip-path=\"url(#clip7700)\" d=\"M 0 0 M963.255 416.749 L970.894 416.749 L970.894 390.383 L962.584 392.05 L962.584 387.791 L970.848 386.124 L975.524 386.124 L975.524 416.749 L983.162 416.749 L983.162 420.684 L963.255 420.684 L963.255 416.749 Z\" fill=\"#000000\" fill-rule=\"evenodd\" fill-opacity=\"1\" /><path clip-path=\"url(#clip7700)\" d=\"M 0 0 M1001.08 390.198 L989.273 408.647 L1001.08 408.647 L1001.08 390.198 M999.852 386.124 L1005.73 386.124 L1005.73 408.647 L1010.66 408.647 L1010.66 412.536 L1005.73 412.536 L1005.73 420.684 L1001.08 420.684 L1001.08 412.536 L985.477 412.536 L985.477 408.022 L999.852 386.124 Z\" fill=\"#000000\" fill-rule=\"evenodd\" fill-opacity=\"1\" /><path clip-path=\"url(#clip7700)\" d=\"M 0 0 M1016.22 414.804 L1021.1 414.804 L1021.1 418.786 L1017.31 426.193 L1014.32 426.193 L1016.22 418.786 L1016.22 414.804 Z\" fill=\"#000000\" fill-rule=\"evenodd\" fill-opacity=\"1\" /><path clip-path=\"url(#clip7700)\" d=\"M 0 0 M1045.27 416.749 L1061.59 416.749 L1061.59 420.684 L1039.64 420.684 L1039.64 416.749 Q1042.31 413.994 1046.89 409.365 Q1051.5 404.712 1052.68 403.369 Q1054.92 400.846 1055.8 399.11 Q1056.7 397.351 1056.7 395.661 Q1056.7 392.906 1054.76 391.17 Q1052.84 389.434 1049.74 389.434 Q1047.54 389.434 1045.08 390.198 Q1042.65 390.962 1039.88 392.513 L1039.88 387.791 Q1042.7 386.656 1045.15 386.078 Q1047.61 385.499 1049.64 385.499 Q1055.01 385.499 1058.21 388.184 Q1061.4 390.869 1061.4 395.36 Q1061.4 397.49 1060.59 399.411 Q1059.81 401.309 1057.7 403.902 Q1057.12 404.573 1054.02 407.791 Q1050.92 410.985 1045.27 416.749 Z\" fill=\"#000000\" fill-rule=\"evenodd\" fill-opacity=\"1\" /><path clip-path=\"url(#clip7700)\" d=\"M 0 0 M1076.66 389.203 Q1073.05 389.203 1071.22 392.768 Q1069.41 396.309 1069.41 403.439 Q1069.41 410.545 1071.22 414.11 Q1073.05 417.652 1076.66 417.652 Q1080.29 417.652 1082.1 414.11 Q1083.93 410.545 1083.93 403.439 Q1083.93 396.309 1082.1 392.768 Q1080.29 389.203 1076.66 389.203 M1076.66 385.499 Q1082.47 385.499 1085.52 390.106 Q1088.6 394.689 1088.6 403.439 Q1088.6 412.166 1085.52 416.772 Q1082.47 421.355 1076.66 421.355 Q1070.85 421.355 1067.77 416.772 Q1064.71 412.166 1064.71 403.439 Q1064.71 394.689 1067.77 390.106 Q1070.85 385.499 1076.66 385.499 Z\" fill=\"#000000\" fill-rule=\"evenodd\" fill-opacity=\"1\" /><path clip-path=\"url(#clip7700)\" d=\"M 0 0 M1097.7 416.749 L1114.02 416.749 L1114.02 420.684 L1092.07 420.684 L1092.07 416.749 Q1094.74 413.994 1099.32 409.365 Q1103.93 404.712 1105.11 403.369 Q1107.35 400.846 1108.23 399.11 Q1109.13 397.351 1109.13 395.661 Q1109.13 392.906 1107.19 391.17 Q1105.27 389.434 1102.17 389.434 Q1099.97 389.434 1097.51 390.198 Q1095.08 390.962 1092.31 392.513 L1092.31 387.791 Q1095.13 386.656 1097.58 386.078 Q1100.04 385.499 1102.07 385.499 Q1107.44 385.499 1110.64 388.184 Q1113.83 390.869 1113.83 395.36 Q1113.83 397.49 1113.02 399.411 Q1112.24 401.309 1110.13 403.902 Q1109.55 404.573 1106.45 407.791 Q1103.35 410.985 1097.7 416.749 Z\" fill=\"#000000\" fill-rule=\"evenodd\" fill-opacity=\"1\" /><path clip-path=\"url(#clip7700)\" d=\"M 0 0 M1129.09 389.203 Q1125.48 389.203 1123.65 392.768 Q1121.84 396.309 1121.84 403.439 Q1121.84 410.545 1123.65 414.11 Q1125.48 417.652 1129.09 417.652 Q1132.72 417.652 1134.53 414.11 Q1136.36 410.545 1136.36 403.439 Q1136.36 396.309 1134.53 392.768 Q1132.72 389.203 1129.09 389.203 M1129.09 385.499 Q1134.9 385.499 1137.95 390.106 Q1141.03 394.689 1141.03 403.439 Q1141.03 412.166 1137.95 416.772 Q1134.9 421.355 1129.09 421.355 Q1123.28 421.355 1120.2 416.772 Q1117.14 412.166 1117.14 403.439 Q1117.14 394.689 1120.2 390.106 Q1123.28 385.499 1129.09 385.499 Z\" fill=\"#000000\" fill-rule=\"evenodd\" fill-opacity=\"1\" /></svg>\n"
      ]
     },
     "execution_count": 27,
     "metadata": {},
     "output_type": "execute_result"
    }
   ],
   "source": [
    "using Plots\n",
    "\n",
    "#dates = format_dates( df[rows,2] , \"m/d/yy\")\n",
    "\n",
    "gr()\n",
    "plot(    x_axis_dates,\n",
    "        [  y_axis_original y_axis_predicted \n",
    "        ], # y-axis\n",
    "    label    = \n",
    "        [ symbol_to_predict \"predictions\"  \"\" ],\n",
    "    legend   =:topleft, \n",
    "              # :right, :left, :top, :bottom, :inside, :best, :legend, :topright, :topleft, :bottomleft, :bottomright\n",
    "    xlabel   = \"time\",\n",
    "    ylabel   = \"value\",\n",
    "    size     = (980, 400), # width, height\n",
    "    layout = (1, 1), # number of graphs: vertically, horizontally\n",
    "    )\n",
    "## Add veritical today line\n",
    "plot!([today_id], seriestype=\"vline\", label=[ \"Today \"*t \"\" ],)\n"
   ]
  },
  {
   "cell_type": "code",
   "execution_count": 14,
   "metadata": {
    "ExecuteTime": {
     "end_time": "2020-12-14T20:00:20.911000-05:00",
     "start_time": "2020-12-15T00:59:20.669Z"
    }
   },
   "outputs": [],
   "source": [
    "## save plot graph\n",
    "\n",
    "savefig(\"../images/predictions_\" * symbol_to_predict * \".png\")"
   ]
  },
  {
   "cell_type": "code",
   "execution_count": 15,
   "metadata": {
    "ExecuteTime": {
     "end_time": "2020-12-14T20:00:21.436000-05:00",
     "start_time": "2020-12-15T00:59:20.671Z"
    }
   },
   "outputs": [
    {
     "name": "stdout",
     "output_type": "stream",
     "text": [
      "DJIA 2020-12-14\n",
      "Tue, 2020-12-08\t predicted 30336.0\t, but actual value was \t30246.0\t difference is -90.0\n",
      "Wed, 2020-12-09\t predicted 30276.0\t, but actual value was \t30320.0\t difference is 44.0\n",
      "Thu, 2020-12-10\t predicted 30185.0\t, but actual value was \t30064.0\t difference is -121.0\n",
      "Fri, 2020-12-11\t predicted 30079.0\t, but actual value was \t30071.0\t difference is -8.0\n",
      "Sat, 2020-12-12\t predicted 30053.0\t, but actual value was \t30071.0\t difference is 18.0\n",
      "Sun, 2020-12-13\t predicted 30158.0\t, but actual value was \t30071.0\t difference is -87.0\n",
      "Mon, 2020-12-14\t predicted 30090.0\t, but actual value was \t30326.0\t difference is 236.0\n",
      "Tue, 2020-12-15\t predicted 30015.0\n"
     ]
    }
   ],
   "source": [
    "## print prediction comparisons\n",
    "println(symbol_to_predict, \" \", today())\n",
    "\n",
    "file_path = \"../DATA/predictions.csv\"\n",
    "open( file_path, \"a\") do file_handle # append\n",
    "    \n",
    "    for id in finem-10:finem\n",
    "        if id <= today_id + 1 # Days to the future\n",
    "            row = get(data_predictions, id) # get a dictionary of data from the SFrame\n",
    "            date_string = row[\"Date\"] # e.g. \"2020-10-20\"\n",
    "\n",
    "            a = y_axis_predicted[id]\n",
    "            b = y_axis_original[id]\n",
    "            d = round(b-a, digits=3)\n",
    "            date = convert(String, Dates.format( Date(date_string), \"e, yyyy-mm-dd\" ) )\n",
    "            if id <= today_id\n",
    "                println( date, \"\\t predicted \", a , \"\\t, but actual value was \\t\", b , \"\\t difference is \",  d  ) # di\n",
    "            else\n",
    "                println( date, \"\\t predicted \", a  ) # \n",
    "\n",
    "                txt_to_save =  \n",
    "                    convert(String, Dates.format( today(), \"yyyy-mm-dd\" ) ) *\",\"* \n",
    "                    convert(String, symbol_to_predict) *\",\"* \n",
    "                    date_string *\",\"* \n",
    "                    string(a) * \"\\n\"\n",
    "                \n",
    "                write(file_handle, txt_to_save )\n",
    "                \n",
    "            end # if\n",
    "        end #if \n",
    "    end # for\n",
    "end # open file"
   ]
  },
  {
   "cell_type": "code",
   "execution_count": null,
   "metadata": {},
   "outputs": [],
   "source": []
  },
  {
   "cell_type": "code",
   "execution_count": null,
   "metadata": {},
   "outputs": [],
   "source": []
  }
 ],
 "metadata": {
  "kernelspec": {
   "display_name": "Julia 1.5.1",
   "language": "julia",
   "name": "julia-1.5"
  },
  "language_info": {
   "file_extension": ".jl",
   "mimetype": "application/julia",
   "name": "julia",
   "version": "1.5.1"
  },
  "toc": {
   "base_numbering": 1,
   "nav_menu": {},
   "number_sections": true,
   "sideBar": true,
   "skip_h1_title": true,
   "title_cell": "Table of Contents",
   "title_sidebar": "Contents",
   "toc_cell": true,
   "toc_position": {},
   "toc_section_display": true,
   "toc_window_display": true
  },
  "varInspector": {
   "cols": {
    "lenName": 16,
    "lenType": 16,
    "lenVar": 40
   },
   "kernels_config": {
    "python": {
     "delete_cmd_postfix": "",
     "delete_cmd_prefix": "del ",
     "library": "var_list.py",
     "varRefreshCmd": "print(var_dic_list())"
    },
    "r": {
     "delete_cmd_postfix": ") ",
     "delete_cmd_prefix": "rm(",
     "library": "var_list.r",
     "varRefreshCmd": "cat(var_dic_list()) "
    }
   },
   "types_to_exclude": [
    "module",
    "function",
    "builtin_function_or_method",
    "instance",
    "_Feature"
   ],
   "window_display": false
  }
 },
 "nbformat": 4,
 "nbformat_minor": 4
}
