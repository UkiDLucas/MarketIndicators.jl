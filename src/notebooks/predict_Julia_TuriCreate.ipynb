{
 "cells": [
  {
   "cell_type": "markdown",
   "metadata": {},
   "source": [
    "# Prediction Model using TuriCreate in Julia"
   ]
  },
  {
   "cell_type": "markdown",
   "metadata": {
    "toc": true
   },
   "source": [
    "<h1>Table of Contents<span class=\"tocSkip\"></span></h1>\n",
    "<div class=\"toc\"><ul class=\"toc-item\"><li><span><a href=\"#Set-Up\" data-toc-modified-id=\"Set-Up-1\"><span class=\"toc-item-num\">1&nbsp;&nbsp;</span>Set Up</a></span></li><li><span><a href=\"#Fetch-Data-(SFrame)-from-Uber-CSV\" data-toc-modified-id=\"Fetch-Data-(SFrame)-from-Uber-CSV-2\"><span class=\"toc-item-num\">2&nbsp;&nbsp;</span>Fetch Data (SFrame) from Uber CSV</a></span></li><li><span><a href=\"#Split-Data\" data-toc-modified-id=\"Split-Data-3\"><span class=\"toc-item-num\">3&nbsp;&nbsp;</span>Split Data</a></span></li><li><span><a href=\"#Train-the-Model\" data-toc-modified-id=\"Train-the-Model-4\"><span class=\"toc-item-num\">4&nbsp;&nbsp;</span>Train the Model</a></span></li><li><span><a href=\"#Evaluate-the-Model\" data-toc-modified-id=\"Evaluate-the-Model-5\"><span class=\"toc-item-num\">5&nbsp;&nbsp;</span>Evaluate the Model</a></span></li><li><span><a href=\"#Save-/-Export-the-Model\" data-toc-modified-id=\"Save-/-Export-the-Model-6\"><span class=\"toc-item-num\">6&nbsp;&nbsp;</span>Save / Export the Model</a></span></li><li><span><a href=\"#Make-predictions\" data-toc-modified-id=\"Make-predictions-7\"><span class=\"toc-item-num\">7&nbsp;&nbsp;</span>Make predictions</a></span><ul class=\"toc-item\"><li><span><a href=\"#Explore-SFrame\" data-toc-modified-id=\"Explore-SFrame-7.1\"><span class=\"toc-item-num\">7.1&nbsp;&nbsp;</span>Explore SFrame</a></span></li></ul></li></ul></div>"
   ]
  },
  {
   "cell_type": "markdown",
   "metadata": {},
   "source": [
    "## Set Up"
   ]
  },
  {
   "cell_type": "code",
   "execution_count": 1,
   "metadata": {
    "ExecuteTime": {
     "end_time": "2020-12-15T21:12:47.431000-05:00",
     "start_time": "2020-12-16T02:12:46.506Z"
    }
   },
   "outputs": [
    {
     "name": "stdout",
     "output_type": "stream",
     "text": [
      "symbol_to_predict BABA\n"
     ]
    }
   ],
   "source": [
    "## uncomment for the first run\n",
    "# import Pkg\n",
    "# Pkg.add(\"PyCall\")\n",
    "# Pkg.add(\"Conda\")\n",
    "# ENV[\"PYTHON\"] = \"/opt/anaconda3/envs/turi/bin/python\"\n",
    "# /opt/anaconda3/envs/turi/lib/python3.6/site-packages/\n",
    "# Pkg.build(\"PyCall\")\n",
    "\n",
    "#symbol_to_predict = \"BABA\"\n",
    "\n",
    "println(\"symbol_to_predict \", symbol_to_predict )"
   ]
  },
  {
   "cell_type": "code",
   "execution_count": 2,
   "metadata": {
    "ExecuteTime": {
     "end_time": "2020-12-15T21:12:48.936000-05:00",
     "start_time": "2020-12-16T02:12:46.511Z"
    }
   },
   "outputs": [
    {
     "data": {
      "text/plain": [
       "205-element Array{String,1}:\n",
       " \"AAPL_Avg005\"\n",
       " \"AAPL_Avg010\"\n",
       " \"AAPL_Avg030\"\n",
       " \"AAPL_Avg060\"\n",
       " \"AAPL_Avg090\"\n",
       " \"AAPL_Avg120\"\n",
       " \"AAPL_Avg180\"\n",
       " \"BABA_Avg005\"\n",
       " \"BABA_Avg010\"\n",
       " \"BABA_Avg030\"\n",
       " \"BABA_Avg060\"\n",
       " \"BABA_Avg090\"\n",
       " \"BABA_Avg120\"\n",
       " ⋮\n",
       " \"VINIX_Avg030\"\n",
       " \"VINIX_Avg060\"\n",
       " \"VINIX_Avg090\"\n",
       " \"VINIX_Avg120\"\n",
       " \"VINIX_Avg180\"\n",
       " \"VIX_Avg005\"\n",
       " \"VIX_Avg010\"\n",
       " \"VIX_Avg030\"\n",
       " \"VIX_Avg060\"\n",
       " \"VIX_Avg090\"\n",
       " \"VIX_Avg120\"\n",
       " \"VIX_Avg180\""
      ]
     },
     "execution_count": 2,
     "metadata": {},
     "output_type": "execute_result"
    }
   ],
   "source": [
    "## Read feature names (columns) from the text file \n",
    "features_to_analyze = readlines(\"../DATA/features_to_analyze.txt\") # returns Array{String,1}"
   ]
  },
  {
   "cell_type": "code",
   "execution_count": 3,
   "metadata": {
    "ExecuteTime": {
     "end_time": "2020-12-15T21:12:53.499000-05:00",
     "start_time": "2020-12-16T02:12:46.516Z"
    }
   },
   "outputs": [
    {
     "name": "stdout",
     "output_type": "stream",
     "text": [
      "\n"
     ]
    },
    {
     "data": {
      "text/plain": [
       "\"BABA_Original\""
      ]
     },
     "execution_count": 3,
     "metadata": {},
     "output_type": "execute_result"
    }
   ],
   "source": [
    "include(\"../Julia/functions.jl\") \n",
    "include(\"../Julia/function_format_dates.jl\")\n",
    "\n",
    "data_path=\"../DATA/processed/uber_training.csv\"\n",
    "column_to_predict = symbol_to_predict * \"_Original\""
   ]
  },
  {
   "cell_type": "markdown",
   "metadata": {},
   "source": [
    "## Fetch Data (SFrame) from Uber CSV"
   ]
  },
  {
   "cell_type": "code",
   "execution_count": 4,
   "metadata": {
    "ExecuteTime": {
     "end_time": "2020-12-15T21:12:58.046000-05:00",
     "start_time": "2020-12-16T02:12:46.522Z"
    }
   },
   "outputs": [
    {
     "name": "stdout",
     "output_type": "stream",
     "text": [
      "Finished parsing file /Users/uki/REPOS/MarketIndicators.jl/src/DATA/processed/uber_training.csv\n",
      "Parsing completed. Parsed 100 lines in 0.04772 secs.\n",
      "------------------------------------------------------\n",
      "Inferred types from first 100 line(s) of file as \n",
      "column_type_hints=[int,str,float,float,float,float,float,float,float,float,float,float,float,float,float,float,float,float,float,float,float,float,float,float,float,float,float,float,float,float,float,float,float,float,float,float,float,float,float,float,float,float,float,float,float,float,float,float,float,float,float,float,float,float,float,float,float,float,float,float,float,float,float,float,float,float,float,float,float,float,float,float,float,float,float,float,float,float,float,float,float,float,float,float,float,float,float,float,float,float,float,float,float,float,float,float,float,float,float,float,float,float,float,float,float,float,float,float,float,float,float,float,float,float,float,float,float,float,float,float,float,float,float,float,float,float,float,float,float,float,float,float,float,float,float,float,float,float,float,float,float,float,float,float,float,float,float,float,float,float,float,float,float,float,float,float,float,float,float,float,float,float,float,float,float,float,float,float,float,float,float,float,float,float,float,float,float,float,float,float,float,float,float,float,float,float,float,float,float,float,float,float,float,float,float,float,float,float,float,float,float,float,float,float,float,float,float,float,float,float,float,float,float,float,float,float,float,float,float,float,float,float,float,float,float,float,float,float,float,float,float,float,float,float,float,float,float,float,float,float,float,float,float,float,float,float,float,float,float,float,float,float,float,float,float,float,float,float,float,float,float,float,float]\n",
      "If parsing fails due to incorrect types, you can correct\n",
      "the inferred type list above and pass it to read_csv in\n",
      "the column_type_hints argument\n",
      "------------------------------------------------------\n",
      "Finished parsing file /Users/uki/REPOS/MarketIndicators.jl/src/DATA/processed/uber_training.csv\n",
      "Parsing completed. Parsed 1519 lines in 0.042584 secs.\n",
      "\n"
     ]
    }
   ],
   "source": [
    "## Fetch Data (SFrame) from Uber CSV\n",
    "\n",
    "using PyCall\n",
    "tc = pyimport(\"turicreate\")\n",
    "data = tc.SFrame(data_path)\n",
    "println()"
   ]
  },
  {
   "cell_type": "markdown",
   "metadata": {},
   "source": [
    "## Split Data"
   ]
  },
  {
   "cell_type": "code",
   "execution_count": 5,
   "metadata": {
    "ExecuteTime": {
     "end_time": "2020-12-15T21:12:58.750000-05:00",
     "start_time": "2020-12-16T02:12:46.526Z"
    }
   },
   "outputs": [
    {
     "name": "stdout",
     "output_type": "stream",
     "text": [
      "train_data size = (1217,)\n",
      "test_data size = (302,)\n"
     ]
    }
   ],
   "source": [
    "# Make a train-test split\n",
    "train_data, test_data = data.random_split(0.8)\n",
    "\n",
    "println( \"train_data size = \", size(train_data) )\n",
    "println( \"test_data size = \", size(test_data)  )"
   ]
  },
  {
   "cell_type": "markdown",
   "metadata": {},
   "source": [
    "## Train the Model"
   ]
  },
  {
   "cell_type": "code",
   "execution_count": 6,
   "metadata": {
    "ExecuteTime": {
     "end_time": "2020-12-15T21:13:02.437000-05:00",
     "start_time": "2020-12-16T02:12:46.530Z"
    }
   },
   "outputs": [
    {
     "name": "stdout",
     "output_type": "stream",
     "text": [
      "Automatically generating validation set from 5% of the data.\n",
      "Linear regression:\n",
      "--------------------------------------------------------\n",
      "Number of examples          : 1153\n",
      "Number of features          : 205\n",
      "Number of unpacked features : 205\n",
      "Number of coefficients    : 1357\n",
      "Starting L-BFGS\n",
      "--------------------------------------------------------\n",
      "+-----------+----------+-----------+--------------+--------------------+----------------------+---------------------------------+-----------------------------------+\n",
      "| Iteration | Passes   | Step size | Elapsed Time | Training Max Error | Validation Max Error | Training Root-Mean-Square Error | Validation Root-Mean-Square Error |\n",
      "+-----------+----------+-----------+--------------+--------------------+----------------------+---------------------------------+-----------------------------------+\n",
      "Warning: Reached max step size.\n",
      "| 0         | 5        | 25.000000 | 1.098995     | 279.388520         | 274.413075           | 151.795276                      | 152.432707                        |\n",
      "| 1         | 10       | 1.015930  | 1.235107     | 112.626100         | 93.353389            | 35.871807                       | 33.397896                         |\n",
      "| 2         | 16       | 5.079650  | 1.405200     | 51.032084          | 37.403821            | 20.506473                       | 18.949683                         |\n",
      "| 3         | 18       | 3.813097  | 1.472911     | 41.361869          | 32.756533            | 12.417561                       | 12.595555                         |\n",
      "| 4         | 19       | 3.813097  | 1.526379     | 73.647039          | 57.272863            | 34.808291                       | 26.094906                         |\n",
      "| 9         | 33       | 1.000000  | 2.051255     | 19.825901          | 29.247160            | 0.626052                        | 8.706949                          |\n",
      "+-----------+----------+-----------+--------------+--------------------+----------------------+---------------------------------+-----------------------------------+\n"
     ]
    },
    {
     "data": {
      "text/plain": [
       "PyObject Class                          : LinearRegression\n",
       "\n",
       "Schema\n",
       "------\n",
       "Number of coefficients         : 1357\n",
       "Number of examples             : 1153\n",
       "Number of feature columns      : 205\n",
       "Number of unpacked features    : 205\n",
       "\n",
       "Hyperparameters\n",
       "---------------\n",
       "L1 penalty                     : 0\n",
       "L2 penalty                     : 0.01\n",
       "\n",
       "Training Summary\n",
       "----------------\n",
       "Solver                         : lbfgs\n",
       "Solver iterations              : 10\n",
       "Solver status                  : Completed (Iteration limit reached).\n",
       "Training time (sec)            : 0.7928\n",
       "\n",
       "Settings\n",
       "--------\n",
       "Residual sum of squares        : 808.6478\n",
       "Training RMSE                  : 0.6261\n",
       "\n",
       "Highest Positive Coefficients\n",
       "-----------------------------\n",
       "Date[2020-07-09]               : 41.3746\n",
       "Date[2020-07-13]               : 35.3474\n",
       "Date[2020-07-08]               : 33.4185\n",
       "Date[2020-07-11]               : 33.1344\n",
       "Date[2020-07-12]               : 32.3012\n",
       "\n",
       "Lowest Negative Coefficients\n",
       "----------------------------\n",
       "Date[2018-10-10]               : -27.9035\n",
       "Date[2018-10-11]               : -27.4866\n",
       "Date[2019-10-02]               : -22.5811\n",
       "Date[2019-10-09]               : -22.2528\n",
       "Date[2018-10-09]               : -22.0659\n"
      ]
     },
     "execution_count": 6,
     "metadata": {},
     "output_type": "execute_result"
    }
   ],
   "source": [
    "## Train the Model\n",
    "model = tc.regression.create( \n",
    "    train_data, \n",
    "    target = column_to_predict, \n",
    "    features = features_to_analyze, \n",
    "    validation_set=\"auto\", \n",
    "    verbose=true\n",
    ")"
   ]
  },
  {
   "cell_type": "markdown",
   "metadata": {},
   "source": [
    "## Evaluate the Model"
   ]
  },
  {
   "cell_type": "code",
   "execution_count": 7,
   "metadata": {
    "ExecuteTime": {
     "end_time": "2020-12-15T21:13:02.831000-05:00",
     "start_time": "2020-12-16T02:12:46.534Z"
    }
   },
   "outputs": [
    {
     "name": "stdout",
     "output_type": "stream",
     "text": [
      "MODEL EVALUTATION max_error: 33.97, rmse: 11.6\n"
     ]
    }
   ],
   "source": [
    "## Evaluate the model and save the results into a dictionary\n",
    "## TODO: write this in a loop to select the best model\n",
    "results = model.evaluate( test_data ) #test_data[0:2531]\n",
    "\n",
    "rmse = results[\"rmse\"]\n",
    "rmse = round(rmse, digits=2)\n",
    "\n",
    "max_error = results[\"max_error\"]\n",
    "max_error = round(max_error, digits=2)\n",
    "\n",
    "println( \"MODEL EVALUTATION max_error: \", max_error, \", rmse: \", rmse )"
   ]
  },
  {
   "cell_type": "markdown",
   "metadata": {},
   "source": [
    "## Save / Export the Model"
   ]
  },
  {
   "cell_type": "code",
   "execution_count": 8,
   "metadata": {
    "ExecuteTime": {
     "end_time": "2020-12-15T21:13:02.863000-05:00",
     "start_time": "2020-12-16T02:12:46.537Z"
    }
   },
   "outputs": [
    {
     "name": "stdout",
     "output_type": "stream",
     "text": [
      "Saved model to ../DATA/models/BABA.mlmodel\n"
     ]
    }
   ],
   "source": [
    "## Export to Core ML\n",
    "model_path = \"../DATA/models/\" * symbol_to_predict * \".mlmodel\"\n",
    "println(\"Saved model to \", model_path)\n",
    "model.export_coreml(model_path)"
   ]
  },
  {
   "cell_type": "markdown",
   "metadata": {},
   "source": [
    "## Make predictions "
   ]
  },
  {
   "cell_type": "code",
   "execution_count": 9,
   "metadata": {
    "ExecuteTime": {
     "end_time": "2020-12-15T21:13:03.095000-05:00",
     "start_time": "2020-12-16T02:12:46.541Z"
    }
   },
   "outputs": [
    {
     "name": "stdout",
     "output_type": "stream",
     "text": [
      "Finished parsing file /Users/uki/REPOS/MarketIndicators.jl/src/DATA/processed/uber_prediction.csv\n",
      "Parsing completed. Parsed 95 lines in 0.047813 secs.\n",
      "------------------------------------------------------\n",
      "Inferred types from first 100 line(s) of file as \n",
      "column_type_hints=[int,str,float,float,float,float,float,float,float,float,float,float,float,float,float,float,float,float,float,float,float,float,float,float,float,float,float,float,float,float,float,float,float,float,float,float,float,float,float,float,float,float,float,float,float,float,float,float,float,float,float,float,float,float,float,float,float,float,float,float,float,float,float,float,float,float,float,float,float,float,float,float,float,float,float,float,float,float,float,float,float,float,float,float,float,float,float,float,float,float,float,float,float,float,float,float,float,float,float,float,float,float,float,float,float,float,float,float,float,float,float,float,float,float,float,float,float,float,float,float,float,float,float,float,float,float,float,float,float,float,float,float,float,float,float,float,float,float,float,float,float,float,float,float,float,float,float,float,float,float,float,float,float,float,float,float,float,float,float,float,float,float,float,float,float,float,float,float,float,float,float,float,float,float,float,float,float,float,float,float,float,float,float,float,float,float,float,float,float,float,float,float,float,float,float,float,float,float,float,float,float,float,float,float,float,float,float,float,float,float,float,float,float,float,float,float,float,float,float,float,float,float,float,float,float,float,float,float,float,float,float,float,float,float,float,float,float,float,float,float,float,float,float,float,float,float,float,float,float,float,float,float,float,float,float,float,float,float,float,float,float,float,float]\n",
      "If parsing fails due to incorrect types, you can correct\n",
      "the inferred type list above and pass it to read_csv in\n",
      "the column_type_hints argument\n",
      "------------------------------------------------------\n",
      "Finished parsing file /Users/uki/REPOS/MarketIndicators.jl/src/DATA/processed/uber_prediction.csv\n",
      "Parsing completed. Parsed 95 lines in 0.011985 secs.\n",
      "\n"
     ]
    }
   ],
   "source": [
    "## Read UBER predictions CSV\n",
    "data_path=\"../DATA/processed/uber_prediction.csv\"\n",
    "data_to_predict = tc.SFrame(data_path)\n",
    "\n",
    "## Save predictions to an SArray\n",
    "prediction_results = model.predict(data_to_predict) # get(predictions, 1)\n",
    "\n",
    "println()"
   ]
  },
  {
   "cell_type": "markdown",
   "metadata": {},
   "source": [
    "### Explore SFrame"
   ]
  },
  {
   "cell_type": "code",
   "execution_count": 10,
   "metadata": {
    "ExecuteTime": {
     "end_time": "2020-12-15T21:13:03.097000-05:00",
     "start_time": "2020-12-16T02:12:46.544Z"
    }
   },
   "outputs": [],
   "source": [
    "## Explore the SFrame\n",
    "\n",
    "#record_count = size(data_to_predict)[1]\n",
    "#row = get(data_to_predict, record_count-1)\n",
    "\n",
    "#feature_number = row.count\n",
    "#day = row[\"Rata_Die\"]\n",
    "#date = row[\"Date\"] # \"2020-10-20\"\n",
    "#original = row[\"DJIA_Original\"]\n",
    "\n",
    "#println( \"record_count data \", record_count )\n",
    "#println( \"record_count prediction_results \", size(prediction_results)[1] )\n",
    "\n",
    "#println( \"feature_number \", feature_number )\n",
    "#println( \"Rata Die \", day )\n",
    "#println( \"date \", date )\n",
    "#println( \"original \", original )"
   ]
  },
  {
   "cell_type": "code",
   "execution_count": 11,
   "metadata": {
    "ExecuteTime": {
     "end_time": "2020-12-15T21:13:06.085000-05:00",
     "start_time": "2020-12-16T02:12:46.548Z"
    }
   },
   "outputs": [
    {
     "name": "stdout",
     "output_type": "stream",
     "text": [
      "found today's date 2020-12-15\n",
      "\n"
     ]
    }
   ],
   "source": [
    "using Dates\n",
    "today_rata = Dates.datetime2rata( today() )\n",
    "\n",
    "## Determine dataset size\n",
    "\n",
    "initio = 1                                              # latin: start\n",
    "finem  = size(prediction_results)[1] -1                 # latin: end\n",
    "#gradus = convert(Int64, round( finem/20, digits=0)  )  # latin: step\n",
    "\n",
    "#println(\"PREDICTION dataset size: \", finem, \", step \", gradus)\n",
    "\n",
    "\n",
    "## Declare variables\n",
    "x_axis_dates      = Vector{Date}() # results in Array{Date,1}\n",
    "y_axis_original   = Vector{Float64}()\n",
    "y_axis_predicted  = Vector{Float64}()\n",
    "\n",
    "#println(symbol_to_predict, \" \", finem, \" \", typeof(x_axis_dates))\n",
    "\n",
    "today_id  = 0 # not set yet\n",
    "\n",
    "## step thru each prediction\n",
    "for id in initio:finem\n",
    "    row = get(data_to_predict, id) # get a dictionary of data from the SFrame\n",
    "    \n",
    "    date_string = row[\"Date\"] # e.g. \"2020-10-20\"\n",
    "    date = Date(date_string) # 2020-09-07 Date\n",
    "    if date == today()\n",
    "        println(\"found today's date \", date)\n",
    "        today_id = id\n",
    "    end \n",
    "    \n",
    "    if date <= today() + Dates.Day(1) # graph only 1 extra day\n",
    "    \n",
    "        #date = Dates.format(date, \"u.d,yy\" )\n",
    "        #println(\"date \", date, \" \", typeof(date))\n",
    "        push!(x_axis_dates, date)\n",
    "\n",
    "        predicted = get(prediction_results, id) # Float64\n",
    "        predicted = round(predicted, digits=0)\n",
    "        #println(\"predicted \", predicted, \" \", typeof(predicted))\n",
    "        append!(y_axis_predicted, predicted)\n",
    "\n",
    "\n",
    "        original = row[ column_to_predict ]\n",
    "        original = round(original, digits=0) # Float64\n",
    "        #println(\"original \", original, \" \", typeof(original)) \n",
    "        append!(y_axis_original, original)\n",
    "    end #if\n",
    "end\n",
    "\n",
    "## Format Dates for plotting\n",
    "x_axis_dates = format_dates(x_axis_dates, \"u.d,yy\") # Trim any spaces, spaces may cause \"segmentation error\"\n",
    "\n",
    "\n",
    "\n",
    "t = today()# Date\n",
    "t = format_dates([t], \"u. d, yyyy\") # Array{String,1}\n",
    "t = t[1] # String\n",
    "#println(\"t = \", t, \" - \", typeof(t))\n",
    "println()"
   ]
  },
  {
   "cell_type": "code",
   "execution_count": 12,
   "metadata": {
    "ExecuteTime": {
     "end_time": "2020-12-15T21:13:53.899000-05:00",
     "start_time": "2020-12-16T02:12:46.552Z"
    }
   },
   "outputs": [
    {
     "data": {
      "image/svg+xml": [
       "<?xml version=\"1.0\" encoding=\"utf-8\"?>\n",
       "<svg xmlns=\"http://www.w3.org/2000/svg\" xmlns:xlink=\"http://www.w3.org/1999/xlink\" width=\"980\" height=\"400\" viewBox=\"0 0 3920 1600\">\n",
       "<defs>\n",
       "  <clipPath id=\"clip0300\">\n",
       "    <rect x=\"0\" y=\"0\" width=\"3920\" height=\"1600\"/>\n",
       "  </clipPath>\n",
       "</defs>\n",
       "<path clip-path=\"url(#clip0300)\" d=\"\n",
       "M0 1600 L3920 1600 L3920 0 L0 0  Z\n",
       "  \" fill=\"#ffffff\" fill-rule=\"evenodd\" fill-opacity=\"1\"/>\n",
       "<defs>\n",
       "  <clipPath id=\"clip0301\">\n",
       "    <rect x=\"784\" y=\"0\" width=\"2745\" height=\"1600\"/>\n",
       "  </clipPath>\n",
       "</defs>\n",
       "<path clip-path=\"url(#clip0300)\" d=\"\n",
       "M227.042 1423.18 L3872.76 1423.18 L3872.76 47.2441 L227.042 47.2441  Z\n",
       "  \" fill=\"#ffffff\" fill-rule=\"evenodd\" fill-opacity=\"1\"/>\n",
       "<defs>\n",
       "  <clipPath id=\"clip0302\">\n",
       "    <rect x=\"227\" y=\"47\" width=\"3647\" height=\"1377\"/>\n",
       "  </clipPath>\n",
       "</defs>\n",
       "<polyline clip-path=\"url(#clip0302)\" style=\"stroke:#000000; stroke-width:2; stroke-opacity:0.1; fill:none\" points=\"\n",
       "  330.223,1423.18 330.223,47.2441 \n",
       "  \"/>\n",
       "<polyline clip-path=\"url(#clip0302)\" style=\"stroke:#000000; stroke-width:2; stroke-opacity:0.1; fill:none\" points=\"\n",
       "  559.513,1423.18 559.513,47.2441 \n",
       "  \"/>\n",
       "<polyline clip-path=\"url(#clip0302)\" style=\"stroke:#000000; stroke-width:2; stroke-opacity:0.1; fill:none\" points=\"\n",
       "  827.018,1423.18 827.018,47.2441 \n",
       "  \"/>\n",
       "<polyline clip-path=\"url(#clip0302)\" style=\"stroke:#000000; stroke-width:2; stroke-opacity:0.1; fill:none\" points=\"\n",
       "  1056.31,1423.18 1056.31,47.2441 \n",
       "  \"/>\n",
       "<polyline clip-path=\"url(#clip0302)\" style=\"stroke:#000000; stroke-width:2; stroke-opacity:0.1; fill:none\" points=\"\n",
       "  1323.81,1423.18 1323.81,47.2441 \n",
       "  \"/>\n",
       "<polyline clip-path=\"url(#clip0302)\" style=\"stroke:#000000; stroke-width:2; stroke-opacity:0.1; fill:none\" points=\"\n",
       "  1553.1,1423.18 1553.1,47.2441 \n",
       "  \"/>\n",
       "<polyline clip-path=\"url(#clip0302)\" style=\"stroke:#000000; stroke-width:2; stroke-opacity:0.1; fill:none\" points=\"\n",
       "  1820.61,1423.18 1820.61,47.2441 \n",
       "  \"/>\n",
       "<polyline clip-path=\"url(#clip0302)\" style=\"stroke:#000000; stroke-width:2; stroke-opacity:0.1; fill:none\" points=\"\n",
       "  2049.9,1423.18 2049.9,47.2441 \n",
       "  \"/>\n",
       "<polyline clip-path=\"url(#clip0302)\" style=\"stroke:#000000; stroke-width:2; stroke-opacity:0.1; fill:none\" points=\"\n",
       "  2279.19,1423.18 2279.19,47.2441 \n",
       "  \"/>\n",
       "<polyline clip-path=\"url(#clip0302)\" style=\"stroke:#000000; stroke-width:2; stroke-opacity:0.1; fill:none\" points=\"\n",
       "  2546.69,1423.18 2546.69,47.2441 \n",
       "  \"/>\n",
       "<polyline clip-path=\"url(#clip0302)\" style=\"stroke:#000000; stroke-width:2; stroke-opacity:0.1; fill:none\" points=\"\n",
       "  2775.98,1423.18 2775.98,47.2441 \n",
       "  \"/>\n",
       "<polyline clip-path=\"url(#clip0302)\" style=\"stroke:#000000; stroke-width:2; stroke-opacity:0.1; fill:none\" points=\"\n",
       "  3043.49,1423.18 3043.49,47.2441 \n",
       "  \"/>\n",
       "<polyline clip-path=\"url(#clip0302)\" style=\"stroke:#000000; stroke-width:2; stroke-opacity:0.1; fill:none\" points=\"\n",
       "  3272.78,1423.18 3272.78,47.2441 \n",
       "  \"/>\n",
       "<polyline clip-path=\"url(#clip0302)\" style=\"stroke:#000000; stroke-width:2; stroke-opacity:0.1; fill:none\" points=\"\n",
       "  3540.29,1423.18 3540.29,47.2441 \n",
       "  \"/>\n",
       "<polyline clip-path=\"url(#clip0302)\" style=\"stroke:#000000; stroke-width:2; stroke-opacity:0.1; fill:none\" points=\"\n",
       "  3769.58,1423.18 3769.58,47.2441 \n",
       "  \"/>\n",
       "<polyline clip-path=\"url(#clip0302)\" style=\"stroke:#000000; stroke-width:2; stroke-opacity:0.1; fill:none\" points=\"\n",
       "  227.042,1294.27 3872.76,1294.27 \n",
       "  \"/>\n",
       "<polyline clip-path=\"url(#clip0302)\" style=\"stroke:#000000; stroke-width:2; stroke-opacity:0.1; fill:none\" points=\"\n",
       "  227.042,972.974 3872.76,972.974 \n",
       "  \"/>\n",
       "<polyline clip-path=\"url(#clip0302)\" style=\"stroke:#000000; stroke-width:2; stroke-opacity:0.1; fill:none\" points=\"\n",
       "  227.042,651.674 3872.76,651.674 \n",
       "  \"/>\n",
       "<polyline clip-path=\"url(#clip0302)\" style=\"stroke:#000000; stroke-width:2; stroke-opacity:0.1; fill:none\" points=\"\n",
       "  227.042,330.374 3872.76,330.374 \n",
       "  \"/>\n",
       "<polyline clip-path=\"url(#clip0300)\" style=\"stroke:#000000; stroke-width:4; stroke-opacity:1; fill:none\" points=\"\n",
       "  227.042,1423.18 3872.76,1423.18 \n",
       "  \"/>\n",
       "<polyline clip-path=\"url(#clip0300)\" style=\"stroke:#000000; stroke-width:4; stroke-opacity:1; fill:none\" points=\"\n",
       "  227.042,1423.18 227.042,47.2441 \n",
       "  \"/>\n",
       "<polyline clip-path=\"url(#clip0300)\" style=\"stroke:#000000; stroke-width:4; stroke-opacity:1; fill:none\" points=\"\n",
       "  330.223,1423.18 330.223,1406.67 \n",
       "  \"/>\n",
       "<polyline clip-path=\"url(#clip0300)\" style=\"stroke:#000000; stroke-width:4; stroke-opacity:1; fill:none\" points=\"\n",
       "  559.513,1423.18 559.513,1406.67 \n",
       "  \"/>\n",
       "<polyline clip-path=\"url(#clip0300)\" style=\"stroke:#000000; stroke-width:4; stroke-opacity:1; fill:none\" points=\"\n",
       "  827.018,1423.18 827.018,1406.67 \n",
       "  \"/>\n",
       "<polyline clip-path=\"url(#clip0300)\" style=\"stroke:#000000; stroke-width:4; stroke-opacity:1; fill:none\" points=\"\n",
       "  1056.31,1423.18 1056.31,1406.67 \n",
       "  \"/>\n",
       "<polyline clip-path=\"url(#clip0300)\" style=\"stroke:#000000; stroke-width:4; stroke-opacity:1; fill:none\" points=\"\n",
       "  1323.81,1423.18 1323.81,1406.67 \n",
       "  \"/>\n",
       "<polyline clip-path=\"url(#clip0300)\" style=\"stroke:#000000; stroke-width:4; stroke-opacity:1; fill:none\" points=\"\n",
       "  1553.1,1423.18 1553.1,1406.67 \n",
       "  \"/>\n",
       "<polyline clip-path=\"url(#clip0300)\" style=\"stroke:#000000; stroke-width:4; stroke-opacity:1; fill:none\" points=\"\n",
       "  1820.61,1423.18 1820.61,1406.67 \n",
       "  \"/>\n",
       "<polyline clip-path=\"url(#clip0300)\" style=\"stroke:#000000; stroke-width:4; stroke-opacity:1; fill:none\" points=\"\n",
       "  2049.9,1423.18 2049.9,1406.67 \n",
       "  \"/>\n",
       "<polyline clip-path=\"url(#clip0300)\" style=\"stroke:#000000; stroke-width:4; stroke-opacity:1; fill:none\" points=\"\n",
       "  2279.19,1423.18 2279.19,1406.67 \n",
       "  \"/>\n",
       "<polyline clip-path=\"url(#clip0300)\" style=\"stroke:#000000; stroke-width:4; stroke-opacity:1; fill:none\" points=\"\n",
       "  2546.69,1423.18 2546.69,1406.67 \n",
       "  \"/>\n",
       "<polyline clip-path=\"url(#clip0300)\" style=\"stroke:#000000; stroke-width:4; stroke-opacity:1; fill:none\" points=\"\n",
       "  2775.98,1423.18 2775.98,1406.67 \n",
       "  \"/>\n",
       "<polyline clip-path=\"url(#clip0300)\" style=\"stroke:#000000; stroke-width:4; stroke-opacity:1; fill:none\" points=\"\n",
       "  3043.49,1423.18 3043.49,1406.67 \n",
       "  \"/>\n",
       "<polyline clip-path=\"url(#clip0300)\" style=\"stroke:#000000; stroke-width:4; stroke-opacity:1; fill:none\" points=\"\n",
       "  3272.78,1423.18 3272.78,1406.67 \n",
       "  \"/>\n",
       "<polyline clip-path=\"url(#clip0300)\" style=\"stroke:#000000; stroke-width:4; stroke-opacity:1; fill:none\" points=\"\n",
       "  3540.29,1423.18 3540.29,1406.67 \n",
       "  \"/>\n",
       "<polyline clip-path=\"url(#clip0300)\" style=\"stroke:#000000; stroke-width:4; stroke-opacity:1; fill:none\" points=\"\n",
       "  3769.58,1423.18 3769.58,1406.67 \n",
       "  \"/>\n",
       "<polyline clip-path=\"url(#clip0300)\" style=\"stroke:#000000; stroke-width:4; stroke-opacity:1; fill:none\" points=\"\n",
       "  227.042,1294.27 270.791,1294.27 \n",
       "  \"/>\n",
       "<polyline clip-path=\"url(#clip0300)\" style=\"stroke:#000000; stroke-width:4; stroke-opacity:1; fill:none\" points=\"\n",
       "  227.042,972.974 270.791,972.974 \n",
       "  \"/>\n",
       "<polyline clip-path=\"url(#clip0300)\" style=\"stroke:#000000; stroke-width:4; stroke-opacity:1; fill:none\" points=\"\n",
       "  227.042,651.674 270.791,651.674 \n",
       "  \"/>\n",
       "<polyline clip-path=\"url(#clip0300)\" style=\"stroke:#000000; stroke-width:4; stroke-opacity:1; fill:none\" points=\"\n",
       "  227.042,330.374 270.791,330.374 \n",
       "  \"/>\n",
       "<path clip-path=\"url(#clip0300)\" d=\"M 0 0 M250.871 1450.83 L250.871 1455.39 Q248.209 1454.11 245.848 1453.49 Q243.487 1452.86 241.288 1452.86 Q237.469 1452.86 235.385 1454.34 Q233.325 1455.83 233.325 1458.56 Q233.325 1460.85 234.691 1462.03 Q236.08 1463.19 239.922 1463.9 L242.746 1464.48 Q247.978 1465.48 250.455 1468 Q252.955 1470.5 252.955 1474.71 Q252.955 1479.74 249.575 1482.33 Q246.219 1484.92 239.714 1484.92 Q237.26 1484.92 234.483 1484.37 Q231.728 1483.81 228.765 1482.72 L228.765 1477.91 Q231.612 1479.51 234.344 1480.32 Q237.075 1481.13 239.714 1481.13 Q243.719 1481.13 245.894 1479.55 Q248.07 1477.98 248.07 1475.06 Q248.07 1472.52 246.496 1471.08 Q244.945 1469.65 241.381 1468.93 L238.533 1468.37 Q233.302 1467.33 230.964 1465.11 Q228.626 1462.89 228.626 1458.93 Q228.626 1454.34 231.844 1451.71 Q235.084 1449.07 240.756 1449.07 Q243.186 1449.07 245.709 1449.51 Q248.232 1449.95 250.871 1450.83 Z\" fill=\"#000000\" fill-rule=\"evenodd\" fill-opacity=\"1\" /><path clip-path=\"url(#clip0300)\" d=\"M 0 0 M279.598 1470.22 L279.598 1472.31 L260.015 1472.31 Q260.293 1476.71 262.654 1479.02 Q265.038 1481.31 269.274 1481.31 Q271.728 1481.31 274.019 1480.71 Q276.334 1480.11 278.603 1478.9 L278.603 1482.93 Q276.311 1483.9 273.904 1484.41 Q271.496 1484.92 269.019 1484.92 Q262.816 1484.92 259.181 1481.31 Q255.57 1477.7 255.57 1471.54 Q255.57 1465.18 258.996 1461.45 Q262.445 1457.7 268.279 1457.7 Q273.51 1457.7 276.542 1461.08 Q279.598 1464.44 279.598 1470.22 M275.339 1468.97 Q275.292 1465.48 273.371 1463.4 Q271.473 1461.31 268.325 1461.31 Q264.76 1461.31 262.607 1463.33 Q260.478 1465.34 260.154 1469 L275.339 1468.97 Z\" fill=\"#000000\" fill-rule=\"evenodd\" fill-opacity=\"1\" /><path clip-path=\"url(#clip0300)\" d=\"M 0 0 M288.186 1480.36 L288.186 1494.11 L283.904 1494.11 L283.904 1458.33 L288.186 1458.33 L288.186 1462.26 Q289.529 1459.95 291.566 1458.84 Q293.626 1457.7 296.473 1457.7 Q301.195 1457.7 304.135 1461.45 Q307.098 1465.2 307.098 1471.31 Q307.098 1477.42 304.135 1481.17 Q301.195 1484.92 296.473 1484.92 Q293.626 1484.92 291.566 1483.81 Q289.529 1482.68 288.186 1480.36 M302.677 1471.31 Q302.677 1466.61 300.732 1463.95 Q298.811 1461.27 295.431 1461.27 Q292.052 1461.27 290.107 1463.95 Q288.186 1466.61 288.186 1471.31 Q288.186 1476.01 290.107 1478.7 Q292.052 1481.36 295.431 1481.36 Q298.811 1481.36 300.732 1478.7 Q302.677 1476.01 302.677 1471.31 Z\" fill=\"#000000\" fill-rule=\"evenodd\" fill-opacity=\"1\" /><path clip-path=\"url(#clip0300)\" d=\"M 0 0 M312.167 1478.37 L317.052 1478.37 L317.052 1484.25 L312.167 1484.25 L312.167 1478.37 Z\" fill=\"#000000\" fill-rule=\"evenodd\" fill-opacity=\"1\" /><path clip-path=\"url(#clip0300)\" d=\"M 0 0 M322.931 1480.32 L330.57 1480.32 L330.57 1453.95 L322.26 1455.62 L322.26 1451.36 L330.524 1449.69 L335.2 1449.69 L335.2 1480.32 L342.838 1480.32 L342.838 1484.25 L322.931 1484.25 L322.931 1480.32 Z\" fill=\"#000000\" fill-rule=\"evenodd\" fill-opacity=\"1\" /><path clip-path=\"url(#clip0300)\" d=\"M 0 0 M346.727 1449.69 L368.949 1449.69 L368.949 1451.68 L356.403 1484.25 L351.519 1484.25 L363.324 1453.63 L346.727 1453.63 L346.727 1449.69 Z\" fill=\"#000000\" fill-rule=\"evenodd\" fill-opacity=\"1\" /><path clip-path=\"url(#clip0300)\" d=\"M 0 0 M374.505 1478.37 L379.389 1478.37 L379.389 1482.35 L375.593 1489.76 L372.607 1489.76 L374.505 1482.35 L374.505 1478.37 Z\" fill=\"#000000\" fill-rule=\"evenodd\" fill-opacity=\"1\" /><path clip-path=\"url(#clip0300)\" d=\"M 0 0 M388.486 1480.32 L404.806 1480.32 L404.806 1484.25 L382.861 1484.25 L382.861 1480.32 Q385.523 1477.56 390.107 1472.93 Q394.713 1468.28 395.894 1466.94 Q398.139 1464.41 399.019 1462.68 Q399.921 1460.92 399.921 1459.23 Q399.921 1456.47 397.977 1454.74 Q396.056 1453 392.954 1453 Q390.755 1453 388.301 1453.77 Q385.871 1454.53 383.093 1456.08 L383.093 1451.36 Q385.917 1450.22 388.371 1449.65 Q390.824 1449.07 392.861 1449.07 Q398.232 1449.07 401.426 1451.75 Q404.62 1454.44 404.62 1458.93 Q404.62 1461.06 403.81 1462.98 Q403.023 1464.88 400.917 1467.47 Q400.338 1468.14 397.236 1471.36 Q394.134 1474.55 388.486 1480.32 Z\" fill=\"#000000\" fill-rule=\"evenodd\" fill-opacity=\"1\" /><path clip-path=\"url(#clip0300)\" d=\"M 0 0 M419.875 1452.77 Q416.264 1452.77 414.435 1456.34 Q412.63 1459.88 412.63 1467.01 Q412.63 1474.11 414.435 1477.68 Q416.264 1481.22 419.875 1481.22 Q423.509 1481.22 425.315 1477.68 Q427.144 1474.11 427.144 1467.01 Q427.144 1459.88 425.315 1456.34 Q423.509 1452.77 419.875 1452.77 M419.875 1449.07 Q425.685 1449.07 428.741 1453.67 Q431.819 1458.26 431.819 1467.01 Q431.819 1475.73 428.741 1480.34 Q425.685 1484.92 419.875 1484.92 Q414.065 1484.92 410.986 1480.34 Q407.931 1475.73 407.931 1467.01 Q407.931 1458.26 410.986 1453.67 Q414.065 1449.07 419.875 1449.07 Z\" fill=\"#000000\" fill-rule=\"evenodd\" fill-opacity=\"1\" /><path clip-path=\"url(#clip0300)\" d=\"M 0 0 M480.219 1450.83 L480.219 1455.39 Q477.557 1454.11 475.196 1453.49 Q472.835 1452.86 470.636 1452.86 Q466.817 1452.86 464.733 1454.34 Q462.673 1455.83 462.673 1458.56 Q462.673 1460.85 464.039 1462.03 Q465.428 1463.19 469.27 1463.9 L472.094 1464.48 Q477.326 1465.48 479.803 1468 Q482.303 1470.5 482.303 1474.71 Q482.303 1479.74 478.923 1482.33 Q475.567 1484.92 469.062 1484.92 Q466.608 1484.92 463.831 1484.37 Q461.076 1483.81 458.113 1482.72 L458.113 1477.91 Q460.96 1479.51 463.692 1480.32 Q466.423 1481.13 469.062 1481.13 Q473.067 1481.13 475.243 1479.55 Q477.418 1477.98 477.418 1475.06 Q477.418 1472.52 475.844 1471.08 Q474.293 1469.65 470.729 1468.93 L467.881 1468.37 Q462.65 1467.33 460.312 1465.11 Q457.974 1462.89 457.974 1458.93 Q457.974 1454.34 461.192 1451.71 Q464.432 1449.07 470.104 1449.07 Q472.534 1449.07 475.057 1449.51 Q477.58 1449.95 480.219 1450.83 Z\" fill=\"#000000\" fill-rule=\"evenodd\" fill-opacity=\"1\" /><path clip-path=\"url(#clip0300)\" d=\"M 0 0 M508.946 1470.22 L508.946 1472.31 L489.363 1472.31 Q489.641 1476.71 492.002 1479.02 Q494.386 1481.31 498.622 1481.31 Q501.076 1481.31 503.367 1480.71 Q505.682 1480.11 507.951 1478.9 L507.951 1482.93 Q505.659 1483.9 503.252 1484.41 Q500.844 1484.92 498.367 1484.92 Q492.164 1484.92 488.529 1481.31 Q484.918 1477.7 484.918 1471.54 Q484.918 1465.18 488.344 1461.45 Q491.793 1457.7 497.627 1457.7 Q502.858 1457.7 505.891 1461.08 Q508.946 1464.44 508.946 1470.22 M504.687 1468.97 Q504.641 1465.48 502.719 1463.4 Q500.821 1461.31 497.673 1461.31 Q494.108 1461.31 491.955 1463.33 Q489.826 1465.34 489.502 1469 L504.687 1468.97 Z\" fill=\"#000000\" fill-rule=\"evenodd\" fill-opacity=\"1\" /><path clip-path=\"url(#clip0300)\" d=\"M 0 0 M517.534 1480.36 L517.534 1494.11 L513.252 1494.11 L513.252 1458.33 L517.534 1458.33 L517.534 1462.26 Q518.877 1459.95 520.914 1458.84 Q522.974 1457.7 525.821 1457.7 Q530.543 1457.7 533.483 1461.45 Q536.446 1465.2 536.446 1471.31 Q536.446 1477.42 533.483 1481.17 Q530.543 1484.92 525.821 1484.92 Q522.974 1484.92 520.914 1483.81 Q518.877 1482.68 517.534 1480.36 M532.025 1471.31 Q532.025 1466.61 530.08 1463.95 Q528.159 1461.27 524.779 1461.27 Q521.4 1461.27 519.455 1463.95 Q517.534 1466.61 517.534 1471.31 Q517.534 1476.01 519.455 1478.7 Q521.4 1481.36 524.779 1481.36 Q528.159 1481.36 530.08 1478.7 Q532.025 1476.01 532.025 1471.31 Z\" fill=\"#000000\" fill-rule=\"evenodd\" fill-opacity=\"1\" /><path clip-path=\"url(#clip0300)\" d=\"M 0 0 M541.515 1478.37 L546.4 1478.37 L546.4 1484.25 L541.515 1484.25 L541.515 1478.37 Z\" fill=\"#000000\" fill-rule=\"evenodd\" fill-opacity=\"1\" /><path clip-path=\"url(#clip0300)\" d=\"M 0 0 M555.497 1480.32 L571.816 1480.32 L571.816 1484.25 L549.872 1484.25 L549.872 1480.32 Q552.534 1477.56 557.117 1472.93 Q561.724 1468.28 562.904 1466.94 Q565.149 1464.41 566.029 1462.68 Q566.932 1460.92 566.932 1459.23 Q566.932 1456.47 564.987 1454.74 Q563.066 1453 559.964 1453 Q557.765 1453 555.312 1453.77 Q552.881 1454.53 550.103 1456.08 L550.103 1451.36 Q552.927 1450.22 555.381 1449.65 Q557.835 1449.07 559.872 1449.07 Q565.242 1449.07 568.436 1451.75 Q571.631 1454.44 571.631 1458.93 Q571.631 1461.06 570.821 1462.98 Q570.034 1464.88 567.927 1467.47 Q567.349 1468.14 564.247 1471.36 Q561.145 1474.55 555.497 1480.32 Z\" fill=\"#000000\" fill-rule=\"evenodd\" fill-opacity=\"1\" /><path clip-path=\"url(#clip0300)\" d=\"M 0 0 M591.052 1465.62 Q594.409 1466.34 596.284 1468.6 Q598.182 1470.87 598.182 1474.21 Q598.182 1479.32 594.663 1482.12 Q591.145 1484.92 584.663 1484.92 Q582.487 1484.92 580.173 1484.48 Q577.881 1484.07 575.427 1483.21 L575.427 1478.7 Q577.372 1479.83 579.686 1480.41 Q582.001 1480.99 584.524 1480.99 Q588.922 1480.99 591.214 1479.25 Q593.529 1477.52 593.529 1474.21 Q593.529 1471.15 591.376 1469.44 Q589.247 1467.7 585.427 1467.7 L581.399 1467.7 L581.399 1463.86 L585.612 1463.86 Q589.061 1463.86 590.89 1462.49 Q592.719 1461.1 592.719 1458.51 Q592.719 1455.85 590.821 1454.44 Q588.946 1453 585.427 1453 Q583.506 1453 581.307 1453.42 Q579.108 1453.84 576.469 1454.71 L576.469 1450.55 Q579.131 1449.81 581.446 1449.44 Q583.784 1449.07 585.844 1449.07 Q591.168 1449.07 594.27 1451.5 Q597.371 1453.9 597.371 1458.03 Q597.371 1460.9 595.728 1462.89 Q594.084 1464.85 591.052 1465.62 Z\" fill=\"#000000\" fill-rule=\"evenodd\" fill-opacity=\"1\" /><path clip-path=\"url(#clip0300)\" d=\"M 0 0 M603.737 1478.37 L608.621 1478.37 L608.621 1482.35 L604.825 1489.76 L601.839 1489.76 L603.737 1482.35 L603.737 1478.37 Z\" fill=\"#000000\" fill-rule=\"evenodd\" fill-opacity=\"1\" /><path clip-path=\"url(#clip0300)\" d=\"M 0 0 M617.719 1480.32 L634.038 1480.32 L634.038 1484.25 L612.094 1484.25 L612.094 1480.32 Q614.756 1477.56 619.339 1472.93 Q623.945 1468.28 625.126 1466.94 Q627.371 1464.41 628.251 1462.68 Q629.154 1460.92 629.154 1459.23 Q629.154 1456.47 627.209 1454.74 Q625.288 1453 622.186 1453 Q619.987 1453 617.533 1453.77 Q615.103 1454.53 612.325 1456.08 L612.325 1451.36 Q615.149 1450.22 617.603 1449.65 Q620.057 1449.07 622.094 1449.07 Q627.464 1449.07 630.658 1451.75 Q633.853 1454.44 633.853 1458.93 Q633.853 1461.06 633.043 1462.98 Q632.256 1464.88 630.149 1467.47 Q629.57 1468.14 626.469 1471.36 Q623.367 1474.55 617.719 1480.32 Z\" fill=\"#000000\" fill-rule=\"evenodd\" fill-opacity=\"1\" /><path clip-path=\"url(#clip0300)\" d=\"M 0 0 M649.107 1452.77 Q645.496 1452.77 643.668 1456.34 Q641.862 1459.88 641.862 1467.01 Q641.862 1474.11 643.668 1477.68 Q645.496 1481.22 649.107 1481.22 Q652.742 1481.22 654.547 1477.68 Q656.376 1474.11 656.376 1467.01 Q656.376 1459.88 654.547 1456.34 Q652.742 1452.77 649.107 1452.77 M649.107 1449.07 Q654.917 1449.07 657.973 1453.67 Q661.052 1458.26 661.052 1467.01 Q661.052 1475.73 657.973 1480.34 Q654.917 1484.92 649.107 1484.92 Q643.297 1484.92 640.218 1480.34 Q637.163 1475.73 637.163 1467.01 Q637.163 1458.26 640.218 1453.67 Q643.297 1449.07 649.107 1449.07 Z\" fill=\"#000000\" fill-rule=\"evenodd\" fill-opacity=\"1\" /><path clip-path=\"url(#clip0300)\" d=\"M 0 0 M746.926 1450.83 L746.926 1455.39 Q744.264 1454.11 741.903 1453.49 Q739.542 1452.86 737.343 1452.86 Q733.523 1452.86 731.44 1454.34 Q729.38 1455.83 729.38 1458.56 Q729.38 1460.85 730.745 1462.03 Q732.134 1463.19 735.977 1463.9 L738.801 1464.48 Q744.032 1465.48 746.509 1468 Q749.009 1470.5 749.009 1474.71 Q749.009 1479.74 745.63 1482.33 Q742.273 1484.92 735.769 1484.92 Q733.315 1484.92 730.537 1484.37 Q727.783 1483.81 724.82 1482.72 L724.82 1477.91 Q727.667 1479.51 730.398 1480.32 Q733.13 1481.13 735.769 1481.13 Q739.773 1481.13 741.949 1479.55 Q744.125 1477.98 744.125 1475.06 Q744.125 1472.52 742.551 1471.08 Q741 1469.65 737.435 1468.93 L734.588 1468.37 Q729.357 1467.33 727.019 1465.11 Q724.681 1462.89 724.681 1458.93 Q724.681 1454.34 727.898 1451.71 Q731.139 1449.07 736.81 1449.07 Q739.241 1449.07 741.764 1449.51 Q744.287 1449.95 746.926 1450.83 Z\" fill=\"#000000\" fill-rule=\"evenodd\" fill-opacity=\"1\" /><path clip-path=\"url(#clip0300)\" d=\"M 0 0 M775.653 1470.22 L775.653 1472.31 L756.069 1472.31 Q756.347 1476.71 758.708 1479.02 Q761.093 1481.31 765.329 1481.31 Q767.782 1481.31 770.074 1480.71 Q772.389 1480.11 774.657 1478.9 L774.657 1482.93 Q772.366 1483.9 769.958 1484.41 Q767.551 1484.92 765.074 1484.92 Q758.87 1484.92 755.236 1481.31 Q751.625 1477.7 751.625 1471.54 Q751.625 1465.18 755.051 1461.45 Q758.5 1457.7 764.333 1457.7 Q769.565 1457.7 772.597 1461.08 Q775.653 1464.44 775.653 1470.22 M771.393 1468.97 Q771.347 1465.48 769.426 1463.4 Q767.528 1461.31 764.38 1461.31 Q760.815 1461.31 758.662 1463.33 Q756.532 1465.34 756.208 1469 L771.393 1468.97 Z\" fill=\"#000000\" fill-rule=\"evenodd\" fill-opacity=\"1\" /><path clip-path=\"url(#clip0300)\" d=\"M 0 0 M784.241 1480.36 L784.241 1494.11 L779.958 1494.11 L779.958 1458.33 L784.241 1458.33 L784.241 1462.26 Q785.583 1459.95 787.62 1458.84 Q789.68 1457.7 792.528 1457.7 Q797.25 1457.7 800.19 1461.45 Q803.152 1465.2 803.152 1471.31 Q803.152 1477.42 800.19 1481.17 Q797.25 1484.92 792.528 1484.92 Q789.68 1484.92 787.62 1483.81 Q785.583 1482.68 784.241 1480.36 M798.731 1471.31 Q798.731 1466.61 796.787 1463.95 Q794.866 1461.27 791.486 1461.27 Q788.106 1461.27 786.162 1463.95 Q784.241 1466.61 784.241 1471.31 Q784.241 1476.01 786.162 1478.7 Q788.106 1481.36 791.486 1481.36 Q794.866 1481.36 796.787 1478.7 Q798.731 1476.01 798.731 1471.31 Z\" fill=\"#000000\" fill-rule=\"evenodd\" fill-opacity=\"1\" /><path clip-path=\"url(#clip0300)\" d=\"M 0 0 M808.222 1478.37 L813.106 1478.37 L813.106 1484.25 L808.222 1484.25 L808.222 1478.37 Z\" fill=\"#000000\" fill-rule=\"evenodd\" fill-opacity=\"1\" /><path clip-path=\"url(#clip0300)\" d=\"M 0 0 M832.342 1465.62 Q835.699 1466.34 837.574 1468.6 Q839.472 1470.87 839.472 1474.21 Q839.472 1479.32 835.953 1482.12 Q832.435 1484.92 825.953 1484.92 Q823.777 1484.92 821.463 1484.48 Q819.171 1484.07 816.717 1483.21 L816.717 1478.7 Q818.662 1479.83 820.976 1480.41 Q823.291 1480.99 825.814 1480.99 Q830.213 1480.99 832.504 1479.25 Q834.819 1477.52 834.819 1474.21 Q834.819 1471.15 832.666 1469.44 Q830.537 1467.7 826.717 1467.7 L822.689 1467.7 L822.689 1463.86 L826.902 1463.86 Q830.351 1463.86 832.18 1462.49 Q834.009 1461.1 834.009 1458.51 Q834.009 1455.85 832.111 1454.44 Q830.236 1453 826.717 1453 Q824.796 1453 822.597 1453.42 Q820.398 1453.84 817.759 1454.71 L817.759 1450.55 Q820.421 1449.81 822.736 1449.44 Q825.074 1449.07 827.134 1449.07 Q832.458 1449.07 835.56 1451.5 Q838.662 1453.9 838.662 1458.03 Q838.662 1460.9 837.018 1462.89 Q835.375 1464.85 832.342 1465.62 Z\" fill=\"#000000\" fill-rule=\"evenodd\" fill-opacity=\"1\" /><path clip-path=\"url(#clip0300)\" d=\"M 0 0 M854.541 1452.77 Q850.93 1452.77 849.101 1456.34 Q847.296 1459.88 847.296 1467.01 Q847.296 1474.11 849.101 1477.68 Q850.93 1481.22 854.541 1481.22 Q858.175 1481.22 859.981 1477.68 Q861.81 1474.11 861.81 1467.01 Q861.81 1459.88 859.981 1456.34 Q858.175 1452.77 854.541 1452.77 M854.541 1449.07 Q860.351 1449.07 863.407 1453.67 Q866.485 1458.26 866.485 1467.01 Q866.485 1475.73 863.407 1480.34 Q860.351 1484.92 854.541 1484.92 Q848.731 1484.92 845.652 1480.34 Q842.597 1475.73 842.597 1467.01 Q842.597 1458.26 845.652 1453.67 Q848.731 1449.07 854.541 1449.07 Z\" fill=\"#000000\" fill-rule=\"evenodd\" fill-opacity=\"1\" /><path clip-path=\"url(#clip0300)\" d=\"M 0 0 M872.041 1478.37 L876.925 1478.37 L876.925 1482.35 L873.129 1489.76 L870.143 1489.76 L872.041 1482.35 L872.041 1478.37 Z\" fill=\"#000000\" fill-rule=\"evenodd\" fill-opacity=\"1\" /><path clip-path=\"url(#clip0300)\" d=\"M 0 0 M886.022 1480.32 L902.342 1480.32 L902.342 1484.25 L880.397 1484.25 L880.397 1480.32 Q883.059 1477.56 887.643 1472.93 Q892.249 1468.28 893.43 1466.94 Q895.675 1464.41 896.555 1462.68 Q897.458 1460.92 897.458 1459.23 Q897.458 1456.47 895.513 1454.74 Q893.592 1453 890.49 1453 Q888.291 1453 885.837 1453.77 Q883.407 1454.53 880.629 1456.08 L880.629 1451.36 Q883.453 1450.22 885.907 1449.65 Q888.36 1449.07 890.397 1449.07 Q895.768 1449.07 898.962 1451.75 Q902.157 1454.44 902.157 1458.93 Q902.157 1461.06 901.346 1462.98 Q900.559 1464.88 898.453 1467.47 Q897.874 1468.14 894.772 1471.36 Q891.671 1474.55 886.022 1480.32 Z\" fill=\"#000000\" fill-rule=\"evenodd\" fill-opacity=\"1\" /><path clip-path=\"url(#clip0300)\" d=\"M 0 0 M917.411 1452.77 Q913.8 1452.77 911.971 1456.34 Q910.166 1459.88 910.166 1467.01 Q910.166 1474.11 911.971 1477.68 Q913.8 1481.22 917.411 1481.22 Q921.045 1481.22 922.851 1477.68 Q924.68 1474.11 924.68 1467.01 Q924.68 1459.88 922.851 1456.34 Q921.045 1452.77 917.411 1452.77 M917.411 1449.07 Q923.221 1449.07 926.277 1453.67 Q929.356 1458.26 929.356 1467.01 Q929.356 1475.73 926.277 1480.34 Q923.221 1484.92 917.411 1484.92 Q911.601 1484.92 908.522 1480.34 Q905.467 1475.73 905.467 1467.01 Q905.467 1458.26 908.522 1453.67 Q911.601 1449.07 917.411 1449.07 Z\" fill=\"#000000\" fill-rule=\"evenodd\" fill-opacity=\"1\" /><path clip-path=\"url(#clip0300)\" d=\"M 0 0 M986.042 1452.86 Q980.95 1452.86 977.941 1456.66 Q974.955 1460.46 974.955 1467.01 Q974.955 1473.53 977.941 1477.33 Q980.95 1481.13 986.042 1481.13 Q991.135 1481.13 994.098 1477.33 Q997.084 1473.53 997.084 1467.01 Q997.084 1460.46 994.098 1456.66 Q991.135 1452.86 986.042 1452.86 M986.042 1449.07 Q993.311 1449.07 997.663 1453.95 Q1002.01 1458.81 1002.01 1467.01 Q1002.01 1475.18 997.663 1480.06 Q993.311 1484.92 986.042 1484.92 Q978.751 1484.92 974.376 1480.06 Q970.024 1475.2 970.024 1467.01 Q970.024 1458.81 974.376 1453.95 Q978.751 1449.07 986.042 1449.07 Z\" fill=\"#000000\" fill-rule=\"evenodd\" fill-opacity=\"1\" /><path clip-path=\"url(#clip0300)\" d=\"M 0 0 M1025.14 1459.32 L1025.14 1463.3 Q1023.33 1462.31 1021.51 1461.82 Q1019.7 1461.31 1017.85 1461.31 Q1013.7 1461.31 1011.41 1463.95 Q1009.12 1466.57 1009.12 1471.31 Q1009.12 1476.06 1011.41 1478.7 Q1013.7 1481.31 1017.85 1481.31 Q1019.7 1481.31 1021.51 1480.83 Q1023.33 1480.32 1025.14 1479.32 L1025.14 1483.26 Q1023.36 1484.09 1021.44 1484.51 Q1019.54 1484.92 1017.38 1484.92 Q1011.53 1484.92 1008.08 1481.24 Q1004.63 1477.56 1004.63 1471.31 Q1004.63 1464.97 1008.1 1461.34 Q1011.6 1457.7 1017.66 1457.7 Q1019.63 1457.7 1021.51 1458.12 Q1023.38 1458.51 1025.14 1459.32 Z\" fill=\"#000000\" fill-rule=\"evenodd\" fill-opacity=\"1\" /><path clip-path=\"url(#clip0300)\" d=\"M 0 0 M1033.82 1450.96 L1033.82 1458.33 L1042.59 1458.33 L1042.59 1461.64 L1033.82 1461.64 L1033.82 1475.71 Q1033.82 1478.88 1034.68 1479.78 Q1035.56 1480.69 1038.22 1480.69 L1042.59 1480.69 L1042.59 1484.25 L1038.22 1484.25 Q1033.29 1484.25 1031.41 1482.42 Q1029.54 1480.57 1029.54 1475.71 L1029.54 1461.64 L1026.41 1461.64 L1026.41 1458.33 L1029.54 1458.33 L1029.54 1450.96 L1033.82 1450.96 Z\" fill=\"#000000\" fill-rule=\"evenodd\" fill-opacity=\"1\" /><path clip-path=\"url(#clip0300)\" d=\"M 0 0 M1047.66 1478.37 L1052.55 1478.37 L1052.55 1484.25 L1047.66 1484.25 L1047.66 1478.37 Z\" fill=\"#000000\" fill-rule=\"evenodd\" fill-opacity=\"1\" /><path clip-path=\"url(#clip0300)\" d=\"M 0 0 M1068.19 1465.11 Q1065.05 1465.11 1063.19 1467.26 Q1061.37 1469.41 1061.37 1473.16 Q1061.37 1476.89 1063.19 1479.07 Q1065.05 1481.22 1068.19 1481.22 Q1071.34 1481.22 1073.17 1479.07 Q1075.02 1476.89 1075.02 1473.16 Q1075.02 1469.41 1073.17 1467.26 Q1071.34 1465.11 1068.19 1465.11 M1077.48 1450.46 L1077.48 1454.71 Q1075.72 1453.88 1073.91 1453.44 Q1072.13 1453 1070.37 1453 Q1065.74 1453 1063.29 1456.13 Q1060.86 1459.25 1060.51 1465.57 Q1061.88 1463.56 1063.94 1462.49 Q1066 1461.4 1068.47 1461.4 Q1073.68 1461.4 1076.69 1464.58 Q1079.72 1467.72 1079.72 1473.16 Q1079.72 1478.49 1076.57 1481.71 Q1073.43 1484.92 1068.19 1484.92 Q1062.2 1484.92 1059.03 1480.34 Q1055.86 1475.73 1055.86 1467.01 Q1055.86 1458.81 1059.75 1453.95 Q1063.63 1449.07 1070.19 1449.07 Q1071.94 1449.07 1073.73 1449.41 Q1075.53 1449.76 1077.48 1450.46 Z\" fill=\"#000000\" fill-rule=\"evenodd\" fill-opacity=\"1\" /><path clip-path=\"url(#clip0300)\" d=\"M 0 0 M1085.28 1478.37 L1090.16 1478.37 L1090.16 1482.35 L1086.37 1489.76 L1083.38 1489.76 L1085.28 1482.35 L1085.28 1478.37 Z\" fill=\"#000000\" fill-rule=\"evenodd\" fill-opacity=\"1\" /><path clip-path=\"url(#clip0300)\" d=\"M 0 0 M1099.26 1480.32 L1115.58 1480.32 L1115.58 1484.25 L1093.63 1484.25 L1093.63 1480.32 Q1096.3 1477.56 1100.88 1472.93 Q1105.49 1468.28 1106.67 1466.94 Q1108.91 1464.41 1109.79 1462.68 Q1110.69 1460.92 1110.69 1459.23 Q1110.69 1456.47 1108.75 1454.74 Q1106.83 1453 1103.73 1453 Q1101.53 1453 1099.07 1453.77 Q1096.64 1454.53 1093.87 1456.08 L1093.87 1451.36 Q1096.69 1450.22 1099.14 1449.65 Q1101.6 1449.07 1103.63 1449.07 Q1109 1449.07 1112.2 1451.75 Q1115.39 1454.44 1115.39 1458.93 Q1115.39 1461.06 1114.58 1462.98 Q1113.8 1464.88 1111.69 1467.47 Q1111.11 1468.14 1108.01 1471.36 Q1104.91 1474.55 1099.26 1480.32 Z\" fill=\"#000000\" fill-rule=\"evenodd\" fill-opacity=\"1\" /><path clip-path=\"url(#clip0300)\" d=\"M 0 0 M1130.65 1452.77 Q1127.04 1452.77 1125.21 1456.34 Q1123.4 1459.88 1123.4 1467.01 Q1123.4 1474.11 1125.21 1477.68 Q1127.04 1481.22 1130.65 1481.22 Q1134.28 1481.22 1136.09 1477.68 Q1137.92 1474.11 1137.92 1467.01 Q1137.92 1459.88 1136.09 1456.34 Q1134.28 1452.77 1130.65 1452.77 M1130.65 1449.07 Q1136.46 1449.07 1139.51 1453.67 Q1142.59 1458.26 1142.59 1467.01 Q1142.59 1475.73 1139.51 1480.34 Q1136.46 1484.92 1130.65 1484.92 Q1124.84 1484.92 1121.76 1480.34 Q1118.7 1475.73 1118.7 1467.01 Q1118.7 1458.26 1121.76 1453.67 Q1124.84 1449.07 1130.65 1449.07 Z\" fill=\"#000000\" fill-rule=\"evenodd\" fill-opacity=\"1\" /><path clip-path=\"url(#clip0300)\" d=\"M 0 0 M1241.06 1452.86 Q1235.97 1452.86 1232.96 1456.66 Q1229.97 1460.46 1229.97 1467.01 Q1229.97 1473.53 1232.96 1477.33 Q1235.97 1481.13 1241.06 1481.13 Q1246.15 1481.13 1249.11 1477.33 Q1252.1 1473.53 1252.1 1467.01 Q1252.1 1460.46 1249.11 1456.66 Q1246.15 1452.86 1241.06 1452.86 M1241.06 1449.07 Q1248.33 1449.07 1252.68 1453.95 Q1257.03 1458.81 1257.03 1467.01 Q1257.03 1475.18 1252.68 1480.06 Q1248.33 1484.92 1241.06 1484.92 Q1233.77 1484.92 1229.39 1480.06 Q1225.04 1475.2 1225.04 1467.01 Q1225.04 1458.81 1229.39 1453.95 Q1233.77 1449.07 1241.06 1449.07 Z\" fill=\"#000000\" fill-rule=\"evenodd\" fill-opacity=\"1\" /><path clip-path=\"url(#clip0300)\" d=\"M 0 0 M1280.16 1459.32 L1280.16 1463.3 Q1278.35 1462.31 1276.52 1461.82 Q1274.72 1461.31 1272.86 1461.31 Q1268.72 1461.31 1266.43 1463.95 Q1264.14 1466.57 1264.14 1471.31 Q1264.14 1476.06 1266.43 1478.7 Q1268.72 1481.31 1272.86 1481.31 Q1274.72 1481.31 1276.52 1480.83 Q1278.35 1480.32 1280.16 1479.32 L1280.16 1483.26 Q1278.37 1484.09 1276.45 1484.51 Q1274.55 1484.92 1272.4 1484.92 Q1266.55 1484.92 1263.1 1481.24 Q1259.65 1477.56 1259.65 1471.31 Q1259.65 1464.97 1263.12 1461.34 Q1266.61 1457.7 1272.68 1457.7 Q1274.65 1457.7 1276.52 1458.12 Q1278.4 1458.51 1280.16 1459.32 Z\" fill=\"#000000\" fill-rule=\"evenodd\" fill-opacity=\"1\" /><path clip-path=\"url(#clip0300)\" d=\"M 0 0 M1288.84 1450.96 L1288.84 1458.33 L1297.61 1458.33 L1297.61 1461.64 L1288.84 1461.64 L1288.84 1475.71 Q1288.84 1478.88 1289.69 1479.78 Q1290.57 1480.69 1293.23 1480.69 L1297.61 1480.69 L1297.61 1484.25 L1293.23 1484.25 Q1288.3 1484.25 1286.43 1482.42 Q1284.55 1480.57 1284.55 1475.71 L1284.55 1461.64 L1281.43 1461.64 L1281.43 1458.33 L1284.55 1458.33 L1284.55 1450.96 L1288.84 1450.96 Z\" fill=\"#000000\" fill-rule=\"evenodd\" fill-opacity=\"1\" /><path clip-path=\"url(#clip0300)\" d=\"M 0 0 M1302.68 1478.37 L1307.56 1478.37 L1307.56 1484.25 L1302.68 1484.25 L1302.68 1478.37 Z\" fill=\"#000000\" fill-rule=\"evenodd\" fill-opacity=\"1\" /><path clip-path=\"url(#clip0300)\" d=\"M 0 0 M1313.44 1480.32 L1321.08 1480.32 L1321.08 1453.95 L1312.77 1455.62 L1312.77 1451.36 L1321.04 1449.69 L1325.71 1449.69 L1325.71 1480.32 L1333.35 1480.32 L1333.35 1484.25 L1313.44 1484.25 L1313.44 1480.32 Z\" fill=\"#000000\" fill-rule=\"evenodd\" fill-opacity=\"1\" /><path clip-path=\"url(#clip0300)\" d=\"M 0 0 M1352.59 1465.62 Q1355.94 1466.34 1357.82 1468.6 Q1359.72 1470.87 1359.72 1474.21 Q1359.72 1479.32 1356.2 1482.12 Q1352.68 1484.92 1346.2 1484.92 Q1344.02 1484.92 1341.71 1484.48 Q1339.42 1484.07 1336.96 1483.21 L1336.96 1478.7 Q1338.91 1479.83 1341.22 1480.41 Q1343.54 1480.99 1346.06 1480.99 Q1350.46 1480.99 1352.75 1479.25 Q1355.06 1477.52 1355.06 1474.21 Q1355.06 1471.15 1352.91 1469.44 Q1350.78 1467.7 1346.96 1467.7 L1342.93 1467.7 L1342.93 1463.86 L1347.15 1463.86 Q1350.6 1463.86 1352.42 1462.49 Q1354.25 1461.1 1354.25 1458.51 Q1354.25 1455.85 1352.35 1454.44 Q1350.48 1453 1346.96 1453 Q1345.04 1453 1342.84 1453.42 Q1340.64 1453.84 1338 1454.71 L1338 1450.55 Q1340.67 1449.81 1342.98 1449.44 Q1345.32 1449.07 1347.38 1449.07 Q1352.7 1449.07 1355.8 1451.5 Q1358.91 1453.9 1358.91 1458.03 Q1358.91 1460.9 1357.26 1462.89 Q1355.62 1464.85 1352.59 1465.62 Z\" fill=\"#000000\" fill-rule=\"evenodd\" fill-opacity=\"1\" /><path clip-path=\"url(#clip0300)\" d=\"M 0 0 M1365.27 1478.37 L1370.16 1478.37 L1370.16 1482.35 L1366.36 1489.76 L1363.37 1489.76 L1365.27 1482.35 L1365.27 1478.37 Z\" fill=\"#000000\" fill-rule=\"evenodd\" fill-opacity=\"1\" /><path clip-path=\"url(#clip0300)\" d=\"M 0 0 M1379.25 1480.32 L1395.57 1480.32 L1395.57 1484.25 L1373.63 1484.25 L1373.63 1480.32 Q1376.29 1477.56 1380.87 1472.93 Q1385.48 1468.28 1386.66 1466.94 Q1388.91 1464.41 1389.79 1462.68 Q1390.69 1460.92 1390.69 1459.23 Q1390.69 1456.47 1388.74 1454.74 Q1386.82 1453 1383.72 1453 Q1381.52 1453 1379.07 1453.77 Q1376.64 1454.53 1373.86 1456.08 L1373.86 1451.36 Q1376.68 1450.22 1379.14 1449.65 Q1381.59 1449.07 1383.63 1449.07 Q1389 1449.07 1392.19 1451.75 Q1395.39 1454.44 1395.39 1458.93 Q1395.39 1461.06 1394.58 1462.98 Q1393.79 1464.88 1391.68 1467.47 Q1391.1 1468.14 1388 1471.36 Q1384.9 1474.55 1379.25 1480.32 Z\" fill=\"#000000\" fill-rule=\"evenodd\" fill-opacity=\"1\" /><path clip-path=\"url(#clip0300)\" d=\"M 0 0 M1410.64 1452.77 Q1407.03 1452.77 1405.2 1456.34 Q1403.4 1459.88 1403.4 1467.01 Q1403.4 1474.11 1405.2 1477.68 Q1407.03 1481.22 1410.64 1481.22 Q1414.28 1481.22 1416.08 1477.68 Q1417.91 1474.11 1417.91 1467.01 Q1417.91 1459.88 1416.08 1456.34 Q1414.28 1452.77 1410.64 1452.77 M1410.64 1449.07 Q1416.45 1449.07 1419.51 1453.67 Q1422.59 1458.26 1422.59 1467.01 Q1422.59 1475.73 1419.51 1480.34 Q1416.45 1484.92 1410.64 1484.92 Q1404.83 1484.92 1401.75 1480.34 Q1398.7 1475.73 1398.7 1467.01 Q1398.7 1458.26 1401.75 1453.67 Q1404.83 1449.07 1410.64 1449.07 Z\" fill=\"#000000\" fill-rule=\"evenodd\" fill-opacity=\"1\" /><path clip-path=\"url(#clip0300)\" d=\"M 0 0 M1470.12 1452.86 Q1465.03 1452.86 1462.02 1456.66 Q1459.03 1460.46 1459.03 1467.01 Q1459.03 1473.53 1462.02 1477.33 Q1465.03 1481.13 1470.12 1481.13 Q1475.21 1481.13 1478.17 1477.33 Q1481.16 1473.53 1481.16 1467.01 Q1481.16 1460.46 1478.17 1456.66 Q1475.21 1452.86 1470.12 1452.86 M1470.12 1449.07 Q1477.39 1449.07 1481.74 1453.95 Q1486.09 1458.81 1486.09 1467.01 Q1486.09 1475.18 1481.74 1480.06 Q1477.39 1484.92 1470.12 1484.92 Q1462.83 1484.92 1458.45 1480.06 Q1454.1 1475.2 1454.1 1467.01 Q1454.1 1458.81 1458.45 1453.95 Q1462.83 1449.07 1470.12 1449.07 Z\" fill=\"#000000\" fill-rule=\"evenodd\" fill-opacity=\"1\" /><path clip-path=\"url(#clip0300)\" d=\"M 0 0 M1509.22 1459.32 L1509.22 1463.3 Q1507.41 1462.31 1505.58 1461.82 Q1503.78 1461.31 1501.92 1461.31 Q1497.78 1461.31 1495.49 1463.95 Q1493.2 1466.57 1493.2 1471.31 Q1493.2 1476.06 1495.49 1478.7 Q1497.78 1481.31 1501.92 1481.31 Q1503.78 1481.31 1505.58 1480.83 Q1507.41 1480.32 1509.22 1479.32 L1509.22 1483.26 Q1507.43 1484.09 1505.51 1484.51 Q1503.61 1484.92 1501.46 1484.92 Q1495.6 1484.92 1492.15 1481.24 Q1488.71 1477.56 1488.71 1471.31 Q1488.71 1464.97 1492.18 1461.34 Q1495.67 1457.7 1501.74 1457.7 Q1503.71 1457.7 1505.58 1458.12 Q1507.46 1458.51 1509.22 1459.32 Z\" fill=\"#000000\" fill-rule=\"evenodd\" fill-opacity=\"1\" /><path clip-path=\"url(#clip0300)\" d=\"M 0 0 M1517.9 1450.96 L1517.9 1458.33 L1526.67 1458.33 L1526.67 1461.64 L1517.9 1461.64 L1517.9 1475.71 Q1517.9 1478.88 1518.75 1479.78 Q1519.63 1480.69 1522.29 1480.69 L1526.67 1480.69 L1526.67 1484.25 L1522.29 1484.25 Q1517.36 1484.25 1515.49 1482.42 Q1513.61 1480.57 1513.61 1475.71 L1513.61 1461.64 L1510.49 1461.64 L1510.49 1458.33 L1513.61 1458.33 L1513.61 1450.96 L1517.9 1450.96 Z\" fill=\"#000000\" fill-rule=\"evenodd\" fill-opacity=\"1\" /><path clip-path=\"url(#clip0300)\" d=\"M 0 0 M1531.74 1478.37 L1536.62 1478.37 L1536.62 1484.25 L1531.74 1484.25 L1531.74 1478.37 Z\" fill=\"#000000\" fill-rule=\"evenodd\" fill-opacity=\"1\" /><path clip-path=\"url(#clip0300)\" d=\"M 0 0 M1542.5 1480.32 L1550.14 1480.32 L1550.14 1453.95 L1541.83 1455.62 L1541.83 1451.36 L1550.09 1449.69 L1554.77 1449.69 L1554.77 1480.32 L1562.41 1480.32 L1562.41 1484.25 L1542.5 1484.25 L1542.5 1480.32 Z\" fill=\"#000000\" fill-rule=\"evenodd\" fill-opacity=\"1\" /><path clip-path=\"url(#clip0300)\" d=\"M 0 0 M1567.62 1483.53 L1567.62 1479.28 Q1569.38 1480.11 1571.18 1480.55 Q1572.99 1480.99 1574.72 1480.99 Q1579.35 1480.99 1581.78 1477.89 Q1584.24 1474.76 1584.58 1468.42 Q1583.24 1470.41 1581.18 1471.47 Q1579.12 1472.54 1576.62 1472.54 Q1571.44 1472.54 1568.4 1469.41 Q1565.4 1466.27 1565.4 1460.83 Q1565.4 1455.5 1568.54 1452.28 Q1571.69 1449.07 1576.92 1449.07 Q1582.92 1449.07 1586.07 1453.67 Q1589.24 1458.26 1589.24 1467.01 Q1589.24 1475.18 1585.35 1480.06 Q1581.48 1484.92 1574.93 1484.92 Q1573.17 1484.92 1571.37 1484.58 Q1569.56 1484.23 1567.62 1483.53 M1576.92 1468.88 Q1580.07 1468.88 1581.9 1466.73 Q1583.75 1464.58 1583.75 1460.83 Q1583.75 1457.1 1581.9 1454.95 Q1580.07 1452.77 1576.92 1452.77 Q1573.77 1452.77 1571.92 1454.95 Q1570.09 1457.1 1570.09 1460.83 Q1570.09 1464.58 1571.92 1466.73 Q1573.77 1468.88 1576.92 1468.88 Z\" fill=\"#000000\" fill-rule=\"evenodd\" fill-opacity=\"1\" /><path clip-path=\"url(#clip0300)\" d=\"M 0 0 M1594.79 1478.37 L1599.68 1478.37 L1599.68 1482.35 L1595.88 1489.76 L1592.9 1489.76 L1594.79 1482.35 L1594.79 1478.37 Z\" fill=\"#000000\" fill-rule=\"evenodd\" fill-opacity=\"1\" /><path clip-path=\"url(#clip0300)\" d=\"M 0 0 M1608.77 1480.32 L1625.09 1480.32 L1625.09 1484.25 L1603.15 1484.25 L1603.15 1480.32 Q1605.81 1477.56 1610.4 1472.93 Q1615 1468.28 1616.18 1466.94 Q1618.43 1464.41 1619.31 1462.68 Q1620.21 1460.92 1620.21 1459.23 Q1620.21 1456.47 1618.27 1454.74 Q1616.34 1453 1613.24 1453 Q1611.04 1453 1608.59 1453.77 Q1606.16 1454.53 1603.38 1456.08 L1603.38 1451.36 Q1606.21 1450.22 1608.66 1449.65 Q1611.11 1449.07 1613.15 1449.07 Q1618.52 1449.07 1621.71 1451.75 Q1624.91 1454.44 1624.91 1458.93 Q1624.91 1461.06 1624.1 1462.98 Q1623.31 1464.88 1621.21 1467.47 Q1620.63 1468.14 1617.52 1471.36 Q1614.42 1474.55 1608.77 1480.32 Z\" fill=\"#000000\" fill-rule=\"evenodd\" fill-opacity=\"1\" /><path clip-path=\"url(#clip0300)\" d=\"M 0 0 M1640.16 1452.77 Q1636.55 1452.77 1634.72 1456.34 Q1632.92 1459.88 1632.92 1467.01 Q1632.92 1474.11 1634.72 1477.68 Q1636.55 1481.22 1640.16 1481.22 Q1643.8 1481.22 1645.6 1477.68 Q1647.43 1474.11 1647.43 1467.01 Q1647.43 1459.88 1645.6 1456.34 Q1643.8 1452.77 1640.16 1452.77 M1640.16 1449.07 Q1645.97 1449.07 1649.03 1453.67 Q1652.11 1458.26 1652.11 1467.01 Q1652.11 1475.73 1649.03 1480.34 Q1645.97 1484.92 1640.16 1484.92 Q1634.35 1484.92 1631.27 1480.34 Q1628.22 1475.73 1628.22 1467.01 Q1628.22 1458.26 1631.27 1453.67 Q1634.35 1449.07 1640.16 1449.07 Z\" fill=\"#000000\" fill-rule=\"evenodd\" fill-opacity=\"1\" /><path clip-path=\"url(#clip0300)\" d=\"M 0 0 M1737.63 1452.86 Q1732.54 1452.86 1729.53 1456.66 Q1726.55 1460.46 1726.55 1467.01 Q1726.55 1473.53 1729.53 1477.33 Q1732.54 1481.13 1737.63 1481.13 Q1742.73 1481.13 1745.69 1477.33 Q1748.68 1473.53 1748.68 1467.01 Q1748.68 1460.46 1745.69 1456.66 Q1742.73 1452.86 1737.63 1452.86 M1737.63 1449.07 Q1744.9 1449.07 1749.26 1453.95 Q1753.61 1458.81 1753.61 1467.01 Q1753.61 1475.18 1749.26 1480.06 Q1744.9 1484.92 1737.63 1484.92 Q1730.34 1484.92 1725.97 1480.06 Q1721.62 1475.2 1721.62 1467.01 Q1721.62 1458.81 1725.97 1453.95 Q1730.34 1449.07 1737.63 1449.07 Z\" fill=\"#000000\" fill-rule=\"evenodd\" fill-opacity=\"1\" /><path clip-path=\"url(#clip0300)\" d=\"M 0 0 M1776.73 1459.32 L1776.73 1463.3 Q1774.93 1462.31 1773.1 1461.82 Q1771.29 1461.31 1769.44 1461.31 Q1765.3 1461.31 1763 1463.95 Q1760.71 1466.57 1760.71 1471.31 Q1760.71 1476.06 1763 1478.7 Q1765.3 1481.31 1769.44 1481.31 Q1771.29 1481.31 1773.1 1480.83 Q1774.93 1480.32 1776.73 1479.32 L1776.73 1483.26 Q1774.95 1484.09 1773.03 1484.51 Q1771.13 1484.92 1768.98 1484.92 Q1763.12 1484.92 1759.67 1481.24 Q1756.22 1477.56 1756.22 1471.31 Q1756.22 1464.97 1759.69 1461.34 Q1763.19 1457.7 1769.25 1457.7 Q1771.22 1457.7 1773.1 1458.12 Q1774.97 1458.51 1776.73 1459.32 Z\" fill=\"#000000\" fill-rule=\"evenodd\" fill-opacity=\"1\" /><path clip-path=\"url(#clip0300)\" d=\"M 0 0 M1785.41 1450.96 L1785.41 1458.33 L1794.19 1458.33 L1794.19 1461.64 L1785.41 1461.64 L1785.41 1475.71 Q1785.41 1478.88 1786.27 1479.78 Q1787.15 1480.69 1789.81 1480.69 L1794.19 1480.69 L1794.19 1484.25 L1789.81 1484.25 Q1784.88 1484.25 1783 1482.42 Q1781.13 1480.57 1781.13 1475.71 L1781.13 1461.64 L1778 1461.64 L1778 1458.33 L1781.13 1458.33 L1781.13 1450.96 L1785.41 1450.96 Z\" fill=\"#000000\" fill-rule=\"evenodd\" fill-opacity=\"1\" /><path clip-path=\"url(#clip0300)\" d=\"M 0 0 M1799.25 1478.37 L1804.14 1478.37 L1804.14 1484.25 L1799.25 1484.25 L1799.25 1478.37 Z\" fill=\"#000000\" fill-rule=\"evenodd\" fill-opacity=\"1\" /><path clip-path=\"url(#clip0300)\" d=\"M 0 0 M1813.24 1480.32 L1829.56 1480.32 L1829.56 1484.25 L1807.61 1484.25 L1807.61 1480.32 Q1810.27 1477.56 1814.86 1472.93 Q1819.46 1468.28 1820.64 1466.94 Q1822.89 1464.41 1823.77 1462.68 Q1824.67 1460.92 1824.67 1459.23 Q1824.67 1456.47 1822.73 1454.74 Q1820.81 1453 1817.7 1453 Q1815.5 1453 1813.05 1453.77 Q1810.62 1454.53 1807.84 1456.08 L1807.84 1451.36 Q1810.67 1450.22 1813.12 1449.65 Q1815.57 1449.07 1817.61 1449.07 Q1822.98 1449.07 1826.18 1451.75 Q1829.37 1454.44 1829.37 1458.93 Q1829.37 1461.06 1828.56 1462.98 Q1827.77 1464.88 1825.67 1467.47 Q1825.09 1468.14 1821.99 1471.36 Q1818.88 1474.55 1813.24 1480.32 Z\" fill=\"#000000\" fill-rule=\"evenodd\" fill-opacity=\"1\" /><path clip-path=\"url(#clip0300)\" d=\"M 0 0 M1845.2 1465.11 Q1842.06 1465.11 1840.2 1467.26 Q1838.37 1469.41 1838.37 1473.16 Q1838.37 1476.89 1840.2 1479.07 Q1842.06 1481.22 1845.2 1481.22 Q1848.35 1481.22 1850.18 1479.07 Q1852.03 1476.89 1852.03 1473.16 Q1852.03 1469.41 1850.18 1467.26 Q1848.35 1465.11 1845.2 1465.11 M1854.49 1450.46 L1854.49 1454.71 Q1852.73 1453.88 1850.92 1453.44 Q1849.14 1453 1847.38 1453 Q1842.75 1453 1840.3 1456.13 Q1837.87 1459.25 1837.52 1465.57 Q1838.88 1463.56 1840.94 1462.49 Q1843 1461.4 1845.48 1461.4 Q1850.69 1461.4 1853.7 1464.58 Q1856.73 1467.72 1856.73 1473.16 Q1856.73 1478.49 1853.58 1481.71 Q1850.44 1484.92 1845.2 1484.92 Q1839.21 1484.92 1836.04 1480.34 Q1832.87 1475.73 1832.87 1467.01 Q1832.87 1458.81 1836.75 1453.95 Q1840.64 1449.07 1847.19 1449.07 Q1848.95 1449.07 1850.74 1449.41 Q1852.54 1449.76 1854.49 1450.46 Z\" fill=\"#000000\" fill-rule=\"evenodd\" fill-opacity=\"1\" /><path clip-path=\"url(#clip0300)\" d=\"M 0 0 M1862.29 1478.37 L1867.17 1478.37 L1867.17 1482.35 L1863.37 1489.76 L1860.39 1489.76 L1862.29 1482.35 L1862.29 1478.37 Z\" fill=\"#000000\" fill-rule=\"evenodd\" fill-opacity=\"1\" /><path clip-path=\"url(#clip0300)\" d=\"M 0 0 M1876.27 1480.32 L1892.59 1480.32 L1892.59 1484.25 L1870.64 1484.25 L1870.64 1480.32 Q1873.31 1477.56 1877.89 1472.93 Q1882.5 1468.28 1883.68 1466.94 Q1885.92 1464.41 1886.8 1462.68 Q1887.7 1460.92 1887.7 1459.23 Q1887.7 1456.47 1885.76 1454.74 Q1883.84 1453 1880.74 1453 Q1878.54 1453 1876.08 1453.77 Q1873.65 1454.53 1870.87 1456.08 L1870.87 1451.36 Q1873.7 1450.22 1876.15 1449.65 Q1878.61 1449.07 1880.64 1449.07 Q1886.01 1449.07 1889.21 1451.75 Q1892.4 1454.44 1892.4 1458.93 Q1892.4 1461.06 1891.59 1462.98 Q1890.81 1464.88 1888.7 1467.47 Q1888.12 1468.14 1885.02 1471.36 Q1881.92 1474.55 1876.27 1480.32 Z\" fill=\"#000000\" fill-rule=\"evenodd\" fill-opacity=\"1\" /><path clip-path=\"url(#clip0300)\" d=\"M 0 0 M1907.66 1452.77 Q1904.05 1452.77 1902.22 1456.34 Q1900.41 1459.88 1900.41 1467.01 Q1900.41 1474.11 1902.22 1477.68 Q1904.05 1481.22 1907.66 1481.22 Q1911.29 1481.22 1913.1 1477.68 Q1914.93 1474.11 1914.93 1467.01 Q1914.93 1459.88 1913.1 1456.34 Q1911.29 1452.77 1907.66 1452.77 M1907.66 1449.07 Q1913.47 1449.07 1916.52 1453.67 Q1919.6 1458.26 1919.6 1467.01 Q1919.6 1475.73 1916.52 1480.34 Q1913.47 1484.92 1907.66 1484.92 Q1901.85 1484.92 1898.77 1480.34 Q1895.71 1475.73 1895.71 1467.01 Q1895.71 1458.26 1898.77 1453.67 Q1901.85 1449.07 1907.66 1449.07 Z\" fill=\"#000000\" fill-rule=\"evenodd\" fill-opacity=\"1\" /><path clip-path=\"url(#clip0300)\" d=\"M 0 0 M1962.83 1449.69 L1969.12 1449.69 L1984.45 1478.6 L1984.45 1449.69 L1988.99 1449.69 L1988.99 1484.25 L1982.69 1484.25 L1967.36 1455.34 L1967.36 1484.25 L1962.83 1484.25 L1962.83 1449.69 Z\" fill=\"#000000\" fill-rule=\"evenodd\" fill-opacity=\"1\" /><path clip-path=\"url(#clip0300)\" d=\"M 0 0 M2003.5 1461.31 Q2000.07 1461.31 1998.08 1464 Q1996.09 1466.66 1996.09 1471.31 Q1996.09 1475.96 1998.06 1478.65 Q2000.05 1481.31 2003.5 1481.31 Q2006.9 1481.31 2008.89 1478.63 Q2010.88 1475.94 2010.88 1471.31 Q2010.88 1466.71 2008.89 1464.02 Q2006.9 1461.31 2003.5 1461.31 M2003.5 1457.7 Q2009.05 1457.7 2012.23 1461.31 Q2015.4 1464.92 2015.4 1471.31 Q2015.4 1477.68 2012.23 1481.31 Q2009.05 1484.92 2003.5 1484.92 Q1997.92 1484.92 1994.75 1481.31 Q1991.6 1477.68 1991.6 1471.31 Q1991.6 1464.92 1994.75 1461.31 Q1997.92 1457.7 2003.5 1457.7 Z\" fill=\"#000000\" fill-rule=\"evenodd\" fill-opacity=\"1\" /><path clip-path=\"url(#clip0300)\" d=\"M 0 0 M2016.81 1458.33 L2021.32 1458.33 L2029.42 1480.09 L2037.53 1458.33 L2042.04 1458.33 L2032.32 1484.25 L2026.53 1484.25 L2016.81 1458.33 Z\" fill=\"#000000\" fill-rule=\"evenodd\" fill-opacity=\"1\" /><path clip-path=\"url(#clip0300)\" d=\"M 0 0 M2043.43 1478.37 L2048.31 1478.37 L2048.31 1484.25 L2043.43 1484.25 L2043.43 1478.37 Z\" fill=\"#000000\" fill-rule=\"evenodd\" fill-opacity=\"1\" /><path clip-path=\"url(#clip0300)\" d=\"M 0 0 M2054.19 1480.32 L2061.83 1480.32 L2061.83 1453.95 L2053.52 1455.62 L2053.52 1451.36 L2061.79 1449.69 L2066.46 1449.69 L2066.46 1480.32 L2074.1 1480.32 L2074.1 1484.25 L2054.19 1484.25 L2054.19 1480.32 Z\" fill=\"#000000\" fill-rule=\"evenodd\" fill-opacity=\"1\" /><path clip-path=\"url(#clip0300)\" d=\"M 0 0 M2079.66 1478.37 L2084.54 1478.37 L2084.54 1482.35 L2080.74 1489.76 L2077.76 1489.76 L2079.66 1482.35 L2079.66 1478.37 Z\" fill=\"#000000\" fill-rule=\"evenodd\" fill-opacity=\"1\" /><path clip-path=\"url(#clip0300)\" d=\"M 0 0 M2093.64 1480.32 L2109.96 1480.32 L2109.96 1484.25 L2088.01 1484.25 L2088.01 1480.32 Q2090.67 1477.56 2095.26 1472.93 Q2099.86 1468.28 2101.04 1466.94 Q2103.29 1464.41 2104.17 1462.68 Q2105.07 1460.92 2105.07 1459.23 Q2105.07 1456.47 2103.13 1454.74 Q2101.21 1453 2098.1 1453 Q2095.91 1453 2093.45 1453.77 Q2091.02 1454.53 2088.24 1456.08 L2088.24 1451.36 Q2091.07 1450.22 2093.52 1449.65 Q2095.98 1449.07 2098.01 1449.07 Q2103.38 1449.07 2106.58 1451.75 Q2109.77 1454.44 2109.77 1458.93 Q2109.77 1461.06 2108.96 1462.98 Q2108.17 1464.88 2106.07 1467.47 Q2105.49 1468.14 2102.39 1471.36 Q2099.29 1474.55 2093.64 1480.32 Z\" fill=\"#000000\" fill-rule=\"evenodd\" fill-opacity=\"1\" /><path clip-path=\"url(#clip0300)\" d=\"M 0 0 M2125.03 1452.77 Q2121.41 1452.77 2119.59 1456.34 Q2117.78 1459.88 2117.78 1467.01 Q2117.78 1474.11 2119.59 1477.68 Q2121.41 1481.22 2125.03 1481.22 Q2128.66 1481.22 2130.47 1477.68 Q2132.29 1474.11 2132.29 1467.01 Q2132.29 1459.88 2130.47 1456.34 Q2128.66 1452.77 2125.03 1452.77 M2125.03 1449.07 Q2130.84 1449.07 2133.89 1453.67 Q2136.97 1458.26 2136.97 1467.01 Q2136.97 1475.73 2133.89 1480.34 Q2130.84 1484.92 2125.03 1484.92 Q2119.22 1484.92 2116.14 1480.34 Q2113.08 1475.73 2113.08 1467.01 Q2113.08 1458.26 2116.14 1453.67 Q2119.22 1449.07 2125.03 1449.07 Z\" fill=\"#000000\" fill-rule=\"evenodd\" fill-opacity=\"1\" /><path clip-path=\"url(#clip0300)\" d=\"M 0 0 M2191.96 1449.69 L2198.25 1449.69 L2213.58 1478.6 L2213.58 1449.69 L2218.11 1449.69 L2218.11 1484.25 L2211.82 1484.25 L2196.49 1455.34 L2196.49 1484.25 L2191.96 1484.25 L2191.96 1449.69 Z\" fill=\"#000000\" fill-rule=\"evenodd\" fill-opacity=\"1\" /><path clip-path=\"url(#clip0300)\" d=\"M 0 0 M2232.63 1461.31 Q2229.2 1461.31 2227.21 1464 Q2225.22 1466.66 2225.22 1471.31 Q2225.22 1475.96 2227.19 1478.65 Q2229.18 1481.31 2232.63 1481.31 Q2236.03 1481.31 2238.02 1478.63 Q2240.01 1475.94 2240.01 1471.31 Q2240.01 1466.71 2238.02 1464.02 Q2236.03 1461.31 2232.63 1461.31 M2232.63 1457.7 Q2238.18 1457.7 2241.35 1461.31 Q2244.53 1464.92 2244.53 1471.31 Q2244.53 1477.68 2241.35 1481.31 Q2238.18 1484.92 2232.63 1484.92 Q2227.05 1484.92 2223.88 1481.31 Q2220.73 1477.68 2220.73 1471.31 Q2220.73 1464.92 2223.88 1461.31 Q2227.05 1457.7 2232.63 1457.7 Z\" fill=\"#000000\" fill-rule=\"evenodd\" fill-opacity=\"1\" /><path clip-path=\"url(#clip0300)\" d=\"M 0 0 M2245.94 1458.33 L2250.45 1458.33 L2258.55 1480.09 L2266.65 1458.33 L2271.17 1458.33 L2261.45 1484.25 L2255.66 1484.25 L2245.94 1458.33 Z\" fill=\"#000000\" fill-rule=\"evenodd\" fill-opacity=\"1\" /><path clip-path=\"url(#clip0300)\" d=\"M 0 0 M2272.56 1478.37 L2277.44 1478.37 L2277.44 1484.25 L2272.56 1484.25 L2272.56 1478.37 Z\" fill=\"#000000\" fill-rule=\"evenodd\" fill-opacity=\"1\" /><path clip-path=\"url(#clip0300)\" d=\"M 0 0 M2281.33 1449.69 L2303.55 1449.69 L2303.55 1451.68 L2291.01 1484.25 L2286.12 1484.25 L2297.93 1453.63 L2281.33 1453.63 L2281.33 1449.69 Z\" fill=\"#000000\" fill-rule=\"evenodd\" fill-opacity=\"1\" /><path clip-path=\"url(#clip0300)\" d=\"M 0 0 M2309.11 1478.37 L2313.99 1478.37 L2313.99 1482.35 L2310.2 1489.76 L2307.21 1489.76 L2309.11 1482.35 L2309.11 1478.37 Z\" fill=\"#000000\" fill-rule=\"evenodd\" fill-opacity=\"1\" /><path clip-path=\"url(#clip0300)\" d=\"M 0 0 M2323.09 1480.32 L2339.41 1480.32 L2339.41 1484.25 L2317.46 1484.25 L2317.46 1480.32 Q2320.13 1477.56 2324.71 1472.93 Q2329.32 1468.28 2330.5 1466.94 Q2332.74 1464.41 2333.62 1462.68 Q2334.52 1460.92 2334.52 1459.23 Q2334.52 1456.47 2332.58 1454.74 Q2330.66 1453 2327.56 1453 Q2325.36 1453 2322.9 1453.77 Q2320.47 1454.53 2317.7 1456.08 L2317.7 1451.36 Q2320.52 1450.22 2322.97 1449.65 Q2325.43 1449.07 2327.46 1449.07 Q2332.83 1449.07 2336.03 1451.75 Q2339.22 1454.44 2339.22 1458.93 Q2339.22 1461.06 2338.41 1462.98 Q2337.63 1464.88 2335.52 1467.47 Q2334.94 1468.14 2331.84 1471.36 Q2328.74 1474.55 2323.09 1480.32 Z\" fill=\"#000000\" fill-rule=\"evenodd\" fill-opacity=\"1\" /><path clip-path=\"url(#clip0300)\" d=\"M 0 0 M2354.48 1452.77 Q2350.87 1452.77 2349.04 1456.34 Q2347.23 1459.88 2347.23 1467.01 Q2347.23 1474.11 2349.04 1477.68 Q2350.87 1481.22 2354.48 1481.22 Q2358.11 1481.22 2359.92 1477.68 Q2361.75 1474.11 2361.75 1467.01 Q2361.75 1459.88 2359.92 1456.34 Q2358.11 1452.77 2354.48 1452.77 M2354.48 1449.07 Q2360.29 1449.07 2363.34 1453.67 Q2366.42 1458.26 2366.42 1467.01 Q2366.42 1475.73 2363.34 1480.34 Q2360.29 1484.92 2354.48 1484.92 Q2348.67 1484.92 2345.59 1480.34 Q2342.53 1475.73 2342.53 1467.01 Q2342.53 1458.26 2345.59 1453.67 Q2348.67 1449.07 2354.48 1449.07 Z\" fill=\"#000000\" fill-rule=\"evenodd\" fill-opacity=\"1\" /><path clip-path=\"url(#clip0300)\" d=\"M 0 0 M2445.87 1449.69 L2452.17 1449.69 L2467.49 1478.6 L2467.49 1449.69 L2472.03 1449.69 L2472.03 1484.25 L2465.73 1484.25 L2450.41 1455.34 L2450.41 1484.25 L2445.87 1484.25 L2445.87 1449.69 Z\" fill=\"#000000\" fill-rule=\"evenodd\" fill-opacity=\"1\" /><path clip-path=\"url(#clip0300)\" d=\"M 0 0 M2486.54 1461.31 Q2483.12 1461.31 2481.13 1464 Q2479.14 1466.66 2479.14 1471.31 Q2479.14 1475.96 2481.1 1478.65 Q2483.1 1481.31 2486.54 1481.31 Q2489.95 1481.31 2491.94 1478.63 Q2493.93 1475.94 2493.93 1471.31 Q2493.93 1466.71 2491.94 1464.02 Q2489.95 1461.31 2486.54 1461.31 M2486.54 1457.7 Q2492.1 1457.7 2495.27 1461.31 Q2498.44 1464.92 2498.44 1471.31 Q2498.44 1477.68 2495.27 1481.31 Q2492.1 1484.92 2486.54 1484.92 Q2480.97 1484.92 2477.79 1481.31 Q2474.65 1477.68 2474.65 1471.31 Q2474.65 1464.92 2477.79 1461.31 Q2480.97 1457.7 2486.54 1457.7 Z\" fill=\"#000000\" fill-rule=\"evenodd\" fill-opacity=\"1\" /><path clip-path=\"url(#clip0300)\" d=\"M 0 0 M2499.85 1458.33 L2504.37 1458.33 L2512.47 1480.09 L2520.57 1458.33 L2525.09 1458.33 L2515.36 1484.25 L2509.58 1484.25 L2499.85 1458.33 Z\" fill=\"#000000\" fill-rule=\"evenodd\" fill-opacity=\"1\" /><path clip-path=\"url(#clip0300)\" d=\"M 0 0 M2526.47 1478.37 L2531.36 1478.37 L2531.36 1484.25 L2526.47 1484.25 L2526.47 1478.37 Z\" fill=\"#000000\" fill-rule=\"evenodd\" fill-opacity=\"1\" /><path clip-path=\"url(#clip0300)\" d=\"M 0 0 M2537.24 1480.32 L2544.88 1480.32 L2544.88 1453.95 L2536.57 1455.62 L2536.57 1451.36 L2544.83 1449.69 L2549.51 1449.69 L2549.51 1480.32 L2557.15 1480.32 L2557.15 1484.25 L2537.24 1484.25 L2537.24 1480.32 Z\" fill=\"#000000\" fill-rule=\"evenodd\" fill-opacity=\"1\" /><path clip-path=\"url(#clip0300)\" d=\"M 0 0 M2575.06 1453.77 L2563.26 1472.21 L2575.06 1472.21 L2575.06 1453.77 M2573.84 1449.69 L2579.72 1449.69 L2579.72 1472.21 L2584.65 1472.21 L2584.65 1476.1 L2579.72 1476.1 L2579.72 1484.25 L2575.06 1484.25 L2575.06 1476.1 L2559.46 1476.1 L2559.46 1471.59 L2573.84 1449.69 Z\" fill=\"#000000\" fill-rule=\"evenodd\" fill-opacity=\"1\" /><path clip-path=\"url(#clip0300)\" d=\"M 0 0 M2590.2 1478.37 L2595.09 1478.37 L2595.09 1482.35 L2591.29 1489.76 L2588.3 1489.76 L2590.2 1482.35 L2590.2 1478.37 Z\" fill=\"#000000\" fill-rule=\"evenodd\" fill-opacity=\"1\" /><path clip-path=\"url(#clip0300)\" d=\"M 0 0 M2604.18 1480.32 L2620.5 1480.32 L2620.5 1484.25 L2598.56 1484.25 L2598.56 1480.32 Q2601.22 1477.56 2605.8 1472.93 Q2610.41 1468.28 2611.59 1466.94 Q2613.84 1464.41 2614.71 1462.68 Q2615.62 1460.92 2615.62 1459.23 Q2615.62 1456.47 2613.67 1454.74 Q2611.75 1453 2608.65 1453 Q2606.45 1453 2604 1453.77 Q2601.57 1454.53 2598.79 1456.08 L2598.79 1451.36 Q2601.61 1450.22 2604.07 1449.65 Q2606.52 1449.07 2608.56 1449.07 Q2613.93 1449.07 2617.12 1451.75 Q2620.32 1454.44 2620.32 1458.93 Q2620.32 1461.06 2619.51 1462.98 Q2618.72 1464.88 2616.61 1467.47 Q2616.03 1468.14 2612.93 1471.36 Q2609.83 1474.55 2604.18 1480.32 Z\" fill=\"#000000\" fill-rule=\"evenodd\" fill-opacity=\"1\" /><path clip-path=\"url(#clip0300)\" d=\"M 0 0 M2635.57 1452.77 Q2631.96 1452.77 2630.13 1456.34 Q2628.33 1459.88 2628.33 1467.01 Q2628.33 1474.11 2630.13 1477.68 Q2631.96 1481.22 2635.57 1481.22 Q2639.21 1481.22 2641.01 1477.68 Q2642.84 1474.11 2642.84 1467.01 Q2642.84 1459.88 2641.01 1456.34 Q2639.21 1452.77 2635.57 1452.77 M2635.57 1449.07 Q2641.38 1449.07 2644.44 1453.67 Q2647.52 1458.26 2647.52 1467.01 Q2647.52 1475.73 2644.44 1480.34 Q2641.38 1484.92 2635.57 1484.92 Q2629.76 1484.92 2626.68 1480.34 Q2623.63 1475.73 2623.63 1467.01 Q2623.63 1458.26 2626.68 1453.67 Q2629.76 1449.07 2635.57 1449.07 Z\" fill=\"#000000\" fill-rule=\"evenodd\" fill-opacity=\"1\" /><path clip-path=\"url(#clip0300)\" d=\"M 0 0 M2675.59 1449.69 L2681.89 1449.69 L2697.21 1478.6 L2697.21 1449.69 L2701.75 1449.69 L2701.75 1484.25 L2695.45 1484.25 L2680.13 1455.34 L2680.13 1484.25 L2675.59 1484.25 L2675.59 1449.69 Z\" fill=\"#000000\" fill-rule=\"evenodd\" fill-opacity=\"1\" /><path clip-path=\"url(#clip0300)\" d=\"M 0 0 M2716.26 1461.31 Q2712.84 1461.31 2710.85 1464 Q2708.86 1466.66 2708.86 1471.31 Q2708.86 1475.96 2710.82 1478.65 Q2712.81 1481.31 2716.26 1481.31 Q2719.67 1481.31 2721.66 1478.63 Q2723.65 1475.94 2723.65 1471.31 Q2723.65 1466.71 2721.66 1464.02 Q2719.67 1461.31 2716.26 1461.31 M2716.26 1457.7 Q2721.82 1457.7 2724.99 1461.31 Q2728.16 1464.92 2728.16 1471.31 Q2728.16 1477.68 2724.99 1481.31 Q2721.82 1484.92 2716.26 1484.92 Q2710.68 1484.92 2707.51 1481.31 Q2704.36 1477.68 2704.36 1471.31 Q2704.36 1464.92 2707.51 1461.31 Q2710.68 1457.7 2716.26 1457.7 Z\" fill=\"#000000\" fill-rule=\"evenodd\" fill-opacity=\"1\" /><path clip-path=\"url(#clip0300)\" d=\"M 0 0 M2729.57 1458.33 L2734.09 1458.33 L2742.19 1480.09 L2750.29 1458.33 L2754.8 1458.33 L2745.08 1484.25 L2739.29 1484.25 L2729.57 1458.33 Z\" fill=\"#000000\" fill-rule=\"evenodd\" fill-opacity=\"1\" /><path clip-path=\"url(#clip0300)\" d=\"M 0 0 M2756.19 1478.37 L2761.08 1478.37 L2761.08 1484.25 L2756.19 1484.25 L2756.19 1478.37 Z\" fill=\"#000000\" fill-rule=\"evenodd\" fill-opacity=\"1\" /><path clip-path=\"url(#clip0300)\" d=\"M 0 0 M2770.17 1480.32 L2786.49 1480.32 L2786.49 1484.25 L2764.55 1484.25 L2764.55 1480.32 Q2767.21 1477.56 2771.79 1472.93 Q2776.4 1468.28 2777.58 1466.94 Q2779.83 1464.41 2780.71 1462.68 Q2781.61 1460.92 2781.61 1459.23 Q2781.61 1456.47 2779.67 1454.74 Q2777.74 1453 2774.64 1453 Q2772.44 1453 2769.99 1453.77 Q2767.56 1454.53 2764.78 1456.08 L2764.78 1451.36 Q2767.6 1450.22 2770.06 1449.65 Q2772.51 1449.07 2774.55 1449.07 Q2779.92 1449.07 2783.11 1451.75 Q2786.31 1454.44 2786.31 1458.93 Q2786.31 1461.06 2785.5 1462.98 Q2784.71 1464.88 2782.6 1467.47 Q2782.03 1468.14 2778.92 1471.36 Q2775.82 1474.55 2770.17 1480.32 Z\" fill=\"#000000\" fill-rule=\"evenodd\" fill-opacity=\"1\" /><path clip-path=\"url(#clip0300)\" d=\"M 0 0 M2801.56 1452.77 Q2797.95 1452.77 2796.12 1456.34 Q2794.32 1459.88 2794.32 1467.01 Q2794.32 1474.11 2796.12 1477.68 Q2797.95 1481.22 2801.56 1481.22 Q2805.2 1481.22 2807 1477.68 Q2808.83 1474.11 2808.83 1467.01 Q2808.83 1459.88 2807 1456.34 Q2805.2 1452.77 2801.56 1452.77 M2801.56 1449.07 Q2807.37 1449.07 2810.43 1453.67 Q2813.51 1458.26 2813.51 1467.01 Q2813.51 1475.73 2810.43 1480.34 Q2807.37 1484.92 2801.56 1484.92 Q2795.75 1484.92 2792.67 1480.34 Q2789.62 1475.73 2789.62 1467.01 Q2789.62 1458.26 2792.67 1453.67 Q2795.75 1449.07 2801.56 1449.07 Z\" fill=\"#000000\" fill-rule=\"evenodd\" fill-opacity=\"1\" /><path clip-path=\"url(#clip0300)\" d=\"M 0 0 M2819.06 1478.37 L2823.95 1478.37 L2823.95 1482.35 L2820.15 1489.76 L2817.16 1489.76 L2819.06 1482.35 L2819.06 1478.37 Z\" fill=\"#000000\" fill-rule=\"evenodd\" fill-opacity=\"1\" /><path clip-path=\"url(#clip0300)\" d=\"M 0 0 M2833.04 1480.32 L2849.36 1480.32 L2849.36 1484.25 L2827.42 1484.25 L2827.42 1480.32 Q2830.08 1477.56 2834.66 1472.93 Q2839.27 1468.28 2840.45 1466.94 Q2842.7 1464.41 2843.58 1462.68 Q2844.48 1460.92 2844.48 1459.23 Q2844.48 1456.47 2842.54 1454.74 Q2840.61 1453 2837.51 1453 Q2835.31 1453 2832.86 1453.77 Q2830.43 1454.53 2827.65 1456.08 L2827.65 1451.36 Q2830.48 1450.22 2832.93 1449.65 Q2835.38 1449.07 2837.42 1449.07 Q2842.79 1449.07 2845.98 1451.75 Q2849.18 1454.44 2849.18 1458.93 Q2849.18 1461.06 2848.37 1462.98 Q2847.58 1464.88 2845.47 1467.47 Q2844.9 1468.14 2841.79 1471.36 Q2838.69 1474.55 2833.04 1480.32 Z\" fill=\"#000000\" fill-rule=\"evenodd\" fill-opacity=\"1\" /><path clip-path=\"url(#clip0300)\" d=\"M 0 0 M2864.43 1452.77 Q2860.82 1452.77 2858.99 1456.34 Q2857.19 1459.88 2857.19 1467.01 Q2857.19 1474.11 2858.99 1477.68 Q2860.82 1481.22 2864.43 1481.22 Q2868.07 1481.22 2869.87 1477.68 Q2871.7 1474.11 2871.7 1467.01 Q2871.7 1459.88 2869.87 1456.34 Q2868.07 1452.77 2864.43 1452.77 M2864.43 1449.07 Q2870.24 1449.07 2873.3 1453.67 Q2876.38 1458.26 2876.38 1467.01 Q2876.38 1475.73 2873.3 1480.34 Q2870.24 1484.92 2864.43 1484.92 Q2858.62 1484.92 2855.54 1480.34 Q2852.49 1475.73 2852.49 1467.01 Q2852.49 1458.26 2855.54 1453.67 Q2858.62 1449.07 2864.43 1449.07 Z\" fill=\"#000000\" fill-rule=\"evenodd\" fill-opacity=\"1\" /><path clip-path=\"url(#clip0300)\" d=\"M 0 0 M2943.55 1449.69 L2949.84 1449.69 L2965.17 1478.6 L2965.17 1449.69 L2969.71 1449.69 L2969.71 1484.25 L2963.41 1484.25 L2948.09 1455.34 L2948.09 1484.25 L2943.55 1484.25 L2943.55 1449.69 Z\" fill=\"#000000\" fill-rule=\"evenodd\" fill-opacity=\"1\" /><path clip-path=\"url(#clip0300)\" d=\"M 0 0 M2984.22 1461.31 Q2980.79 1461.31 2978.8 1464 Q2976.81 1466.66 2976.81 1471.31 Q2976.81 1475.96 2978.78 1478.65 Q2980.77 1481.31 2984.22 1481.31 Q2987.62 1481.31 2989.61 1478.63 Q2991.6 1475.94 2991.6 1471.31 Q2991.6 1466.71 2989.61 1464.02 Q2987.62 1461.31 2984.22 1461.31 M2984.22 1457.7 Q2989.77 1457.7 2992.95 1461.31 Q2996.12 1464.92 2996.12 1471.31 Q2996.12 1477.68 2992.95 1481.31 Q2989.77 1484.92 2984.22 1484.92 Q2978.64 1484.92 2975.47 1481.31 Q2972.32 1477.68 2972.32 1471.31 Q2972.32 1464.92 2975.47 1461.31 Q2978.64 1457.7 2984.22 1457.7 Z\" fill=\"#000000\" fill-rule=\"evenodd\" fill-opacity=\"1\" /><path clip-path=\"url(#clip0300)\" d=\"M 0 0 M2997.53 1458.33 L3002.04 1458.33 L3010.15 1480.09 L3018.25 1458.33 L3022.76 1458.33 L3013.04 1484.25 L3007.25 1484.25 L2997.53 1458.33 Z\" fill=\"#000000\" fill-rule=\"evenodd\" fill-opacity=\"1\" /><path clip-path=\"url(#clip0300)\" d=\"M 0 0 M3024.15 1478.37 L3029.03 1478.37 L3029.03 1484.25 L3024.15 1484.25 L3024.15 1478.37 Z\" fill=\"#000000\" fill-rule=\"evenodd\" fill-opacity=\"1\" /><path clip-path=\"url(#clip0300)\" d=\"M 0 0 M3038.13 1480.32 L3054.45 1480.32 L3054.45 1484.25 L3032.51 1484.25 L3032.51 1480.32 Q3035.17 1477.56 3039.75 1472.93 Q3044.36 1468.28 3045.54 1466.94 Q3047.78 1464.41 3048.66 1462.68 Q3049.57 1460.92 3049.57 1459.23 Q3049.57 1456.47 3047.62 1454.74 Q3045.7 1453 3042.6 1453 Q3040.4 1453 3037.95 1453.77 Q3035.52 1454.53 3032.74 1456.08 L3032.74 1451.36 Q3035.56 1450.22 3038.02 1449.65 Q3040.47 1449.07 3042.51 1449.07 Q3047.88 1449.07 3051.07 1451.75 Q3054.27 1454.44 3054.27 1458.93 Q3054.27 1461.06 3053.46 1462.98 Q3052.67 1464.88 3050.56 1467.47 Q3049.98 1468.14 3046.88 1471.36 Q3043.78 1474.55 3038.13 1480.32 Z\" fill=\"#000000\" fill-rule=\"evenodd\" fill-opacity=\"1\" /><path clip-path=\"url(#clip0300)\" d=\"M 0 0 M3058.34 1449.69 L3080.56 1449.69 L3080.56 1451.68 L3068.02 1484.25 L3063.13 1484.25 L3074.94 1453.63 L3058.34 1453.63 L3058.34 1449.69 Z\" fill=\"#000000\" fill-rule=\"evenodd\" fill-opacity=\"1\" /><path clip-path=\"url(#clip0300)\" d=\"M 0 0 M3086.12 1478.37 L3091 1478.37 L3091 1482.35 L3087.2 1489.76 L3084.22 1489.76 L3086.12 1482.35 L3086.12 1478.37 Z\" fill=\"#000000\" fill-rule=\"evenodd\" fill-opacity=\"1\" /><path clip-path=\"url(#clip0300)\" d=\"M 0 0 M3100.1 1480.32 L3116.42 1480.32 L3116.42 1484.25 L3094.47 1484.25 L3094.47 1480.32 Q3097.14 1477.56 3101.72 1472.93 Q3106.33 1468.28 3107.51 1466.94 Q3109.75 1464.41 3110.63 1462.68 Q3111.53 1460.92 3111.53 1459.23 Q3111.53 1456.47 3109.59 1454.74 Q3107.67 1453 3104.57 1453 Q3102.37 1453 3099.91 1453.77 Q3097.48 1454.53 3094.7 1456.08 L3094.7 1451.36 Q3097.53 1450.22 3099.98 1449.65 Q3102.44 1449.07 3104.47 1449.07 Q3109.84 1449.07 3113.04 1451.75 Q3116.23 1454.44 3116.23 1458.93 Q3116.23 1461.06 3115.42 1462.98 Q3114.64 1464.88 3112.53 1467.47 Q3111.95 1468.14 3108.85 1471.36 Q3105.75 1474.55 3100.1 1480.32 Z\" fill=\"#000000\" fill-rule=\"evenodd\" fill-opacity=\"1\" /><path clip-path=\"url(#clip0300)\" d=\"M 0 0 M3131.49 1452.77 Q3127.88 1452.77 3126.05 1456.34 Q3124.24 1459.88 3124.24 1467.01 Q3124.24 1474.11 3126.05 1477.68 Q3127.88 1481.22 3131.49 1481.22 Q3135.12 1481.22 3136.93 1477.68 Q3138.76 1474.11 3138.76 1467.01 Q3138.76 1459.88 3136.93 1456.34 Q3135.12 1452.77 3131.49 1452.77 M3131.49 1449.07 Q3137.3 1449.07 3140.35 1453.67 Q3143.43 1458.26 3143.43 1467.01 Q3143.43 1475.73 3140.35 1480.34 Q3137.3 1484.92 3131.49 1484.92 Q3125.68 1484.92 3122.6 1480.34 Q3119.54 1475.73 3119.54 1467.01 Q3119.54 1458.26 3122.6 1453.67 Q3125.68 1449.07 3131.49 1449.07 Z\" fill=\"#000000\" fill-rule=\"evenodd\" fill-opacity=\"1\" /><path clip-path=\"url(#clip0300)\" d=\"M 0 0 M3188.45 1453.53 L3188.45 1480.41 L3194.1 1480.41 Q3201.25 1480.41 3204.56 1477.17 Q3207.9 1473.93 3207.9 1466.94 Q3207.9 1459.99 3204.56 1456.78 Q3201.25 1453.53 3194.1 1453.53 L3188.45 1453.53 M3183.78 1449.69 L3193.38 1449.69 Q3203.43 1449.69 3208.13 1453.88 Q3212.83 1458.05 3212.83 1466.94 Q3212.83 1475.87 3208.1 1480.06 Q3203.38 1484.25 3193.38 1484.25 L3183.78 1484.25 L3183.78 1449.69 Z\" fill=\"#000000\" fill-rule=\"evenodd\" fill-opacity=\"1\" /><path clip-path=\"url(#clip0300)\" d=\"M 0 0 M3239.47 1470.22 L3239.47 1472.31 L3219.89 1472.31 Q3220.16 1476.71 3222.53 1479.02 Q3224.91 1481.31 3229.15 1481.31 Q3231.6 1481.31 3233.89 1480.71 Q3236.21 1480.11 3238.47 1478.9 L3238.47 1482.93 Q3236.18 1483.9 3233.78 1484.41 Q3231.37 1484.92 3228.89 1484.92 Q3222.69 1484.92 3219.05 1481.31 Q3215.44 1477.7 3215.44 1471.54 Q3215.44 1465.18 3218.87 1461.45 Q3222.32 1457.7 3228.15 1457.7 Q3233.38 1457.7 3236.41 1461.08 Q3239.47 1464.44 3239.47 1470.22 M3235.21 1468.97 Q3235.16 1465.48 3233.24 1463.4 Q3231.34 1461.31 3228.2 1461.31 Q3224.63 1461.31 3222.48 1463.33 Q3220.35 1465.34 3220.03 1469 L3235.21 1468.97 Z\" fill=\"#000000\" fill-rule=\"evenodd\" fill-opacity=\"1\" /><path clip-path=\"url(#clip0300)\" d=\"M 0 0 M3262.59 1459.32 L3262.59 1463.3 Q3260.79 1462.31 3258.96 1461.82 Q3257.16 1461.31 3255.3 1461.31 Q3251.16 1461.31 3248.87 1463.95 Q3246.58 1466.57 3246.58 1471.31 Q3246.58 1476.06 3248.87 1478.7 Q3251.16 1481.31 3255.3 1481.31 Q3257.16 1481.31 3258.96 1480.83 Q3260.79 1480.32 3262.59 1479.32 L3262.59 1483.26 Q3260.81 1484.09 3258.89 1484.51 Q3256.99 1484.92 3254.84 1484.92 Q3248.98 1484.92 3245.53 1481.24 Q3242.09 1477.56 3242.09 1471.31 Q3242.09 1464.97 3245.56 1461.34 Q3249.05 1457.7 3255.12 1457.7 Q3257.09 1457.7 3258.96 1458.12 Q3260.84 1458.51 3262.59 1459.32 Z\" fill=\"#000000\" fill-rule=\"evenodd\" fill-opacity=\"1\" /><path clip-path=\"url(#clip0300)\" d=\"M 0 0 M3267.66 1478.37 L3272.55 1478.37 L3272.55 1484.25 L3267.66 1484.25 L3267.66 1478.37 Z\" fill=\"#000000\" fill-rule=\"evenodd\" fill-opacity=\"1\" /><path clip-path=\"url(#clip0300)\" d=\"M 0 0 M3291.78 1465.62 Q3295.14 1466.34 3297.02 1468.6 Q3298.91 1470.87 3298.91 1474.21 Q3298.91 1479.32 3295.4 1482.12 Q3291.88 1484.92 3285.4 1484.92 Q3283.22 1484.92 3280.9 1484.48 Q3278.61 1484.07 3276.16 1483.21 L3276.16 1478.7 Q3278.1 1479.83 3280.42 1480.41 Q3282.73 1480.99 3285.26 1480.99 Q3289.65 1480.99 3291.95 1479.25 Q3294.26 1477.52 3294.26 1474.21 Q3294.26 1471.15 3292.11 1469.44 Q3289.98 1467.7 3286.16 1467.7 L3282.13 1467.7 L3282.13 1463.86 L3286.34 1463.86 Q3289.79 1463.86 3291.62 1462.49 Q3293.45 1461.1 3293.45 1458.51 Q3293.45 1455.85 3291.55 1454.44 Q3289.68 1453 3286.16 1453 Q3284.24 1453 3282.04 1453.42 Q3279.84 1453.84 3277.2 1454.71 L3277.2 1450.55 Q3279.86 1449.81 3282.18 1449.44 Q3284.52 1449.07 3286.58 1449.07 Q3291.9 1449.07 3295 1451.5 Q3298.1 1453.9 3298.1 1458.03 Q3298.1 1460.9 3296.46 1462.89 Q3294.82 1464.85 3291.78 1465.62 Z\" fill=\"#000000\" fill-rule=\"evenodd\" fill-opacity=\"1\" /><path clip-path=\"url(#clip0300)\" d=\"M 0 0 M3304.47 1478.37 L3309.35 1478.37 L3309.35 1482.35 L3305.56 1489.76 L3302.57 1489.76 L3304.47 1482.35 L3304.47 1478.37 Z\" fill=\"#000000\" fill-rule=\"evenodd\" fill-opacity=\"1\" /><path clip-path=\"url(#clip0300)\" d=\"M 0 0 M3318.45 1480.32 L3334.77 1480.32 L3334.77 1484.25 L3312.83 1484.25 L3312.83 1480.32 Q3315.49 1477.56 3320.07 1472.93 Q3324.68 1468.28 3325.86 1466.94 Q3328.1 1464.41 3328.98 1462.68 Q3329.89 1460.92 3329.89 1459.23 Q3329.89 1456.47 3327.94 1454.74 Q3326.02 1453 3322.92 1453 Q3320.72 1453 3318.27 1453.77 Q3315.84 1454.53 3313.06 1456.08 L3313.06 1451.36 Q3315.88 1450.22 3318.34 1449.65 Q3320.79 1449.07 3322.83 1449.07 Q3328.2 1449.07 3331.39 1451.75 Q3334.59 1454.44 3334.59 1458.93 Q3334.59 1461.06 3333.77 1462.98 Q3332.99 1464.88 3330.88 1467.47 Q3330.3 1468.14 3327.2 1471.36 Q3324.1 1474.55 3318.45 1480.32 Z\" fill=\"#000000\" fill-rule=\"evenodd\" fill-opacity=\"1\" /><path clip-path=\"url(#clip0300)\" d=\"M 0 0 M3349.84 1452.77 Q3346.23 1452.77 3344.4 1456.34 Q3342.59 1459.88 3342.59 1467.01 Q3342.59 1474.11 3344.4 1477.68 Q3346.23 1481.22 3349.84 1481.22 Q3353.47 1481.22 3355.28 1477.68 Q3357.11 1474.11 3357.11 1467.01 Q3357.11 1459.88 3355.28 1456.34 Q3353.47 1452.77 3349.84 1452.77 M3349.84 1449.07 Q3355.65 1449.07 3358.71 1453.67 Q3361.78 1458.26 3361.78 1467.01 Q3361.78 1475.73 3358.71 1480.34 Q3355.65 1484.92 3349.84 1484.92 Q3344.03 1484.92 3340.95 1480.34 Q3337.9 1475.73 3337.9 1467.01 Q3337.9 1458.26 3340.95 1453.67 Q3344.03 1449.07 3349.84 1449.07 Z\" fill=\"#000000\" fill-rule=\"evenodd\" fill-opacity=\"1\" /><path clip-path=\"url(#clip0300)\" d=\"M 0 0 M3442.74 1453.53 L3442.74 1480.41 L3448.39 1480.41 Q3455.54 1480.41 3458.85 1477.17 Q3462.18 1473.93 3462.18 1466.94 Q3462.18 1459.99 3458.85 1456.78 Q3455.54 1453.53 3448.39 1453.53 L3442.74 1453.53 M3438.06 1449.69 L3447.67 1449.69 Q3457.72 1449.69 3462.42 1453.88 Q3467.11 1458.05 3467.11 1466.94 Q3467.11 1475.87 3462.39 1480.06 Q3457.67 1484.25 3447.67 1484.25 L3438.06 1484.25 L3438.06 1449.69 Z\" fill=\"#000000\" fill-rule=\"evenodd\" fill-opacity=\"1\" /><path clip-path=\"url(#clip0300)\" d=\"M 0 0 M3493.76 1470.22 L3493.76 1472.31 L3474.17 1472.31 Q3474.45 1476.71 3476.81 1479.02 Q3479.2 1481.31 3483.43 1481.31 Q3485.89 1481.31 3488.18 1480.71 Q3490.49 1480.11 3492.76 1478.9 L3492.76 1482.93 Q3490.47 1483.9 3488.06 1484.41 Q3485.66 1484.92 3483.18 1484.92 Q3476.98 1484.92 3473.34 1481.31 Q3469.73 1477.7 3469.73 1471.54 Q3469.73 1465.18 3473.16 1461.45 Q3476.6 1457.7 3482.44 1457.7 Q3487.67 1457.7 3490.7 1461.08 Q3493.76 1464.44 3493.76 1470.22 M3489.5 1468.97 Q3489.45 1465.48 3487.53 1463.4 Q3485.63 1461.31 3482.48 1461.31 Q3478.92 1461.31 3476.77 1463.33 Q3474.64 1465.34 3474.31 1469 L3489.5 1468.97 Z\" fill=\"#000000\" fill-rule=\"evenodd\" fill-opacity=\"1\" /><path clip-path=\"url(#clip0300)\" d=\"M 0 0 M3516.88 1459.32 L3516.88 1463.3 Q3515.08 1462.31 3513.25 1461.82 Q3511.44 1461.31 3509.59 1461.31 Q3505.45 1461.31 3503.16 1463.95 Q3500.86 1466.57 3500.86 1471.31 Q3500.86 1476.06 3503.16 1478.7 Q3505.45 1481.31 3509.59 1481.31 Q3511.44 1481.31 3513.25 1480.83 Q3515.08 1480.32 3516.88 1479.32 L3516.88 1483.26 Q3515.1 1484.09 3513.18 1484.51 Q3511.28 1484.92 3509.13 1484.92 Q3503.27 1484.92 3499.82 1481.24 Q3496.37 1477.56 3496.37 1471.31 Q3496.37 1464.97 3499.85 1461.34 Q3503.34 1457.7 3509.41 1457.7 Q3511.37 1457.7 3513.25 1458.12 Q3515.12 1458.51 3516.88 1459.32 Z\" fill=\"#000000\" fill-rule=\"evenodd\" fill-opacity=\"1\" /><path clip-path=\"url(#clip0300)\" d=\"M 0 0 M3521.95 1478.37 L3526.84 1478.37 L3526.84 1484.25 L3521.95 1484.25 L3521.95 1478.37 Z\" fill=\"#000000\" fill-rule=\"evenodd\" fill-opacity=\"1\" /><path clip-path=\"url(#clip0300)\" d=\"M 0 0 M3532.72 1480.32 L3540.35 1480.32 L3540.35 1453.95 L3532.04 1455.62 L3532.04 1451.36 L3540.31 1449.69 L3544.98 1449.69 L3544.98 1480.32 L3552.62 1480.32 L3552.62 1484.25 L3532.72 1484.25 L3532.72 1480.32 Z\" fill=\"#000000\" fill-rule=\"evenodd\" fill-opacity=\"1\" /><path clip-path=\"url(#clip0300)\" d=\"M 0 0 M3567.69 1452.77 Q3564.08 1452.77 3562.25 1456.34 Q3560.45 1459.88 3560.45 1467.01 Q3560.45 1474.11 3562.25 1477.68 Q3564.08 1481.22 3567.69 1481.22 Q3571.33 1481.22 3573.13 1477.68 Q3574.96 1474.11 3574.96 1467.01 Q3574.96 1459.88 3573.13 1456.34 Q3571.33 1452.77 3567.69 1452.77 M3567.69 1449.07 Q3573.5 1449.07 3576.56 1453.67 Q3579.64 1458.26 3579.64 1467.01 Q3579.64 1475.73 3576.56 1480.34 Q3573.5 1484.92 3567.69 1484.92 Q3561.88 1484.92 3558.8 1480.34 Q3555.75 1475.73 3555.75 1467.01 Q3555.75 1458.26 3558.8 1453.67 Q3561.88 1449.07 3567.69 1449.07 Z\" fill=\"#000000\" fill-rule=\"evenodd\" fill-opacity=\"1\" /><path clip-path=\"url(#clip0300)\" d=\"M 0 0 M3585.19 1478.37 L3590.08 1478.37 L3590.08 1482.35 L3586.28 1489.76 L3583.29 1489.76 L3585.19 1482.35 L3585.19 1478.37 Z\" fill=\"#000000\" fill-rule=\"evenodd\" fill-opacity=\"1\" /><path clip-path=\"url(#clip0300)\" d=\"M 0 0 M3599.17 1480.32 L3615.49 1480.32 L3615.49 1484.25 L3593.55 1484.25 L3593.55 1480.32 Q3596.21 1477.56 3600.79 1472.93 Q3605.4 1468.28 3606.58 1466.94 Q3608.83 1464.41 3609.71 1462.68 Q3610.61 1460.92 3610.61 1459.23 Q3610.61 1456.47 3608.66 1454.74 Q3606.74 1453 3603.64 1453 Q3601.44 1453 3598.99 1453.77 Q3596.56 1454.53 3593.78 1456.08 L3593.78 1451.36 Q3596.6 1450.22 3599.06 1449.65 Q3601.51 1449.07 3603.55 1449.07 Q3608.92 1449.07 3612.11 1451.75 Q3615.31 1454.44 3615.31 1458.93 Q3615.31 1461.06 3614.5 1462.98 Q3613.71 1464.88 3611.6 1467.47 Q3611.03 1468.14 3607.92 1471.36 Q3604.82 1474.55 3599.17 1480.32 Z\" fill=\"#000000\" fill-rule=\"evenodd\" fill-opacity=\"1\" /><path clip-path=\"url(#clip0300)\" d=\"M 0 0 M3630.56 1452.77 Q3626.95 1452.77 3625.12 1456.34 Q3623.32 1459.88 3623.32 1467.01 Q3623.32 1474.11 3625.12 1477.68 Q3626.95 1481.22 3630.56 1481.22 Q3634.2 1481.22 3636 1477.68 Q3637.83 1474.11 3637.83 1467.01 Q3637.83 1459.88 3636 1456.34 Q3634.2 1452.77 3630.56 1452.77 M3630.56 1449.07 Q3636.37 1449.07 3639.43 1453.67 Q3642.51 1458.26 3642.51 1467.01 Q3642.51 1475.73 3639.43 1480.34 Q3636.37 1484.92 3630.56 1484.92 Q3624.75 1484.92 3621.67 1480.34 Q3618.62 1475.73 3618.62 1467.01 Q3618.62 1458.26 3621.67 1453.67 Q3624.75 1449.07 3630.56 1449.07 Z\" fill=\"#000000\" fill-rule=\"evenodd\" fill-opacity=\"1\" /><path clip-path=\"url(#clip0300)\" d=\"M 0 0 M3671.95 1453.53 L3671.95 1480.41 L3677.6 1480.41 Q3684.75 1480.41 3688.06 1477.17 Q3691.39 1473.93 3691.39 1466.94 Q3691.39 1459.99 3688.06 1456.78 Q3684.75 1453.53 3677.6 1453.53 L3671.95 1453.53 M3667.27 1449.69 L3676.88 1449.69 Q3686.93 1449.69 3691.62 1453.88 Q3696.32 1458.05 3696.32 1466.94 Q3696.32 1475.87 3691.6 1480.06 Q3686.88 1484.25 3676.88 1484.25 L3667.27 1484.25 L3667.27 1449.69 Z\" fill=\"#000000\" fill-rule=\"evenodd\" fill-opacity=\"1\" /><path clip-path=\"url(#clip0300)\" d=\"M 0 0 M3722.97 1470.22 L3722.97 1472.31 L3703.38 1472.31 Q3703.66 1476.71 3706.02 1479.02 Q3708.41 1481.31 3712.64 1481.31 Q3715.1 1481.31 3717.39 1480.71 Q3719.7 1480.11 3721.97 1478.9 L3721.97 1482.93 Q3719.68 1483.9 3717.27 1484.41 Q3714.86 1484.92 3712.39 1484.92 Q3706.18 1484.92 3702.55 1481.31 Q3698.94 1477.7 3698.94 1471.54 Q3698.94 1465.18 3702.37 1461.45 Q3705.81 1457.7 3711.65 1457.7 Q3716.88 1457.7 3719.91 1461.08 Q3722.97 1464.44 3722.97 1470.22 M3718.71 1468.97 Q3718.66 1465.48 3716.74 1463.4 Q3714.84 1461.31 3711.69 1461.31 Q3708.13 1461.31 3705.98 1463.33 Q3703.85 1465.34 3703.52 1469 L3718.71 1468.97 Z\" fill=\"#000000\" fill-rule=\"evenodd\" fill-opacity=\"1\" /><path clip-path=\"url(#clip0300)\" d=\"M 0 0 M3746.09 1459.32 L3746.09 1463.3 Q3744.29 1462.31 3742.46 1461.82 Q3740.65 1461.31 3738.8 1461.31 Q3734.66 1461.31 3732.36 1463.95 Q3730.07 1466.57 3730.07 1471.31 Q3730.07 1476.06 3732.36 1478.7 Q3734.66 1481.31 3738.8 1481.31 Q3740.65 1481.31 3742.46 1480.83 Q3744.29 1480.32 3746.09 1479.32 L3746.09 1483.26 Q3744.31 1484.09 3742.39 1484.51 Q3740.49 1484.92 3738.34 1484.92 Q3732.48 1484.92 3729.03 1481.24 Q3725.58 1477.56 3725.58 1471.31 Q3725.58 1464.97 3729.05 1461.34 Q3732.55 1457.7 3738.61 1457.7 Q3740.58 1457.7 3742.46 1458.12 Q3744.33 1458.51 3746.09 1459.32 Z\" fill=\"#000000\" fill-rule=\"evenodd\" fill-opacity=\"1\" /><path clip-path=\"url(#clip0300)\" d=\"M 0 0 M3751.16 1478.37 L3756.05 1478.37 L3756.05 1484.25 L3751.16 1484.25 L3751.16 1478.37 Z\" fill=\"#000000\" fill-rule=\"evenodd\" fill-opacity=\"1\" /><path clip-path=\"url(#clip0300)\" d=\"M 0 0 M3761.92 1480.32 L3769.56 1480.32 L3769.56 1453.95 L3761.25 1455.62 L3761.25 1451.36 L3769.52 1449.69 L3774.19 1449.69 L3774.19 1480.32 L3781.83 1480.32 L3781.83 1484.25 L3761.92 1484.25 L3761.92 1480.32 Z\" fill=\"#000000\" fill-rule=\"evenodd\" fill-opacity=\"1\" /><path clip-path=\"url(#clip0300)\" d=\"M 0 0 M3797.48 1465.11 Q3794.33 1465.11 3792.48 1467.26 Q3790.65 1469.41 3790.65 1473.16 Q3790.65 1476.89 3792.48 1479.07 Q3794.33 1481.22 3797.48 1481.22 Q3800.63 1481.22 3802.46 1479.07 Q3804.31 1476.89 3804.31 1473.16 Q3804.31 1469.41 3802.46 1467.26 Q3800.63 1465.11 3797.48 1465.11 M3806.76 1450.46 L3806.76 1454.71 Q3805 1453.88 3803.2 1453.44 Q3801.42 1453 3799.66 1453 Q3795.03 1453 3792.57 1456.13 Q3790.14 1459.25 3789.8 1465.57 Q3791.16 1463.56 3793.22 1462.49 Q3795.28 1461.4 3797.76 1461.4 Q3802.97 1461.4 3805.98 1464.58 Q3809.01 1467.72 3809.01 1473.16 Q3809.01 1478.49 3805.86 1481.71 Q3802.71 1484.92 3797.48 1484.92 Q3791.48 1484.92 3788.31 1480.34 Q3785.14 1475.73 3785.14 1467.01 Q3785.14 1458.81 3789.03 1453.95 Q3792.92 1449.07 3799.47 1449.07 Q3801.23 1449.07 3803.01 1449.41 Q3804.82 1449.76 3806.76 1450.46 Z\" fill=\"#000000\" fill-rule=\"evenodd\" fill-opacity=\"1\" /><path clip-path=\"url(#clip0300)\" d=\"M 0 0 M3814.56 1478.37 L3819.45 1478.37 L3819.45 1482.35 L3815.65 1489.76 L3812.67 1489.76 L3814.56 1482.35 L3814.56 1478.37 Z\" fill=\"#000000\" fill-rule=\"evenodd\" fill-opacity=\"1\" /><path clip-path=\"url(#clip0300)\" d=\"M 0 0 M3828.54 1480.32 L3844.86 1480.32 L3844.86 1484.25 L3822.92 1484.25 L3822.92 1480.32 Q3825.58 1477.56 3830.17 1472.93 Q3834.77 1468.28 3835.95 1466.94 Q3838.2 1464.41 3839.08 1462.68 Q3839.98 1460.92 3839.98 1459.23 Q3839.98 1456.47 3838.04 1454.74 Q3836.11 1453 3833.01 1453 Q3830.81 1453 3828.36 1453.77 Q3825.93 1454.53 3823.15 1456.08 L3823.15 1451.36 Q3825.98 1450.22 3828.43 1449.65 Q3830.88 1449.07 3832.92 1449.07 Q3838.29 1449.07 3841.48 1451.75 Q3844.68 1454.44 3844.68 1458.93 Q3844.68 1461.06 3843.87 1462.98 Q3843.08 1464.88 3840.98 1467.47 Q3840.4 1468.14 3837.29 1471.36 Q3834.19 1474.55 3828.54 1480.32 Z\" fill=\"#000000\" fill-rule=\"evenodd\" fill-opacity=\"1\" /><path clip-path=\"url(#clip0300)\" d=\"M 0 0 M3859.93 1452.77 Q3856.32 1452.77 3854.49 1456.34 Q3852.69 1459.88 3852.69 1467.01 Q3852.69 1474.11 3854.49 1477.68 Q3856.32 1481.22 3859.93 1481.22 Q3863.57 1481.22 3865.37 1477.68 Q3867.2 1474.11 3867.2 1467.01 Q3867.2 1459.88 3865.37 1456.34 Q3863.57 1452.77 3859.93 1452.77 M3859.93 1449.07 Q3865.74 1449.07 3868.8 1453.67 Q3871.88 1458.26 3871.88 1467.01 Q3871.88 1475.73 3868.8 1480.34 Q3865.74 1484.92 3859.93 1484.92 Q3854.12 1484.92 3851.04 1480.34 Q3847.99 1475.73 3847.99 1467.01 Q3847.99 1458.26 3851.04 1453.67 Q3854.12 1449.07 3859.93 1449.07 Z\" fill=\"#000000\" fill-rule=\"evenodd\" fill-opacity=\"1\" /><path clip-path=\"url(#clip0300)\" d=\"M 0 0 M120.088 1307.62 L136.407 1307.62 L136.407 1311.55 L114.463 1311.55 L114.463 1307.62 Q117.125 1304.86 121.708 1300.23 Q126.315 1295.58 127.495 1294.24 Q129.741 1291.72 130.62 1289.98 Q131.523 1288.22 131.523 1286.53 Q131.523 1283.78 129.579 1282.04 Q127.657 1280.3 124.555 1280.3 Q122.356 1280.3 119.903 1281.07 Q117.472 1281.83 114.694 1283.38 L114.694 1278.66 Q117.518 1277.53 119.972 1276.95 Q122.426 1276.37 124.463 1276.37 Q129.833 1276.37 133.028 1279.05 Q136.222 1281.74 136.222 1286.23 Q136.222 1288.36 135.412 1290.28 Q134.625 1292.18 132.518 1294.77 Q131.94 1295.44 128.838 1298.66 Q125.736 1301.86 120.088 1307.62 Z\" fill=\"#000000\" fill-rule=\"evenodd\" fill-opacity=\"1\" /><path clip-path=\"url(#clip0300)\" d=\"M 0 0 M145.504 1307.62 L161.824 1307.62 L161.824 1311.55 L139.879 1311.55 L139.879 1307.62 Q142.541 1304.86 147.125 1300.23 Q151.731 1295.58 152.912 1294.24 Q155.157 1291.72 156.037 1289.98 Q156.94 1288.22 156.94 1286.53 Q156.94 1283.78 154.995 1282.04 Q153.074 1280.3 149.972 1280.3 Q147.773 1280.3 145.319 1281.07 Q142.889 1281.83 140.111 1283.38 L140.111 1278.66 Q142.935 1277.53 145.389 1276.95 Q147.842 1276.37 149.879 1276.37 Q155.25 1276.37 158.444 1279.05 Q161.639 1281.74 161.639 1286.23 Q161.639 1288.36 160.828 1290.28 Q160.041 1292.18 157.935 1294.77 Q157.356 1295.44 154.254 1298.66 Q151.153 1301.86 145.504 1307.62 Z\" fill=\"#000000\" fill-rule=\"evenodd\" fill-opacity=\"1\" /><path clip-path=\"url(#clip0300)\" d=\"M 0 0 M166.939 1276.99 L185.296 1276.99 L185.296 1280.93 L171.222 1280.93 L171.222 1289.4 Q172.24 1289.05 173.259 1288.89 Q174.277 1288.71 175.296 1288.71 Q181.083 1288.71 184.463 1291.88 Q187.842 1295.05 187.842 1300.47 Q187.842 1306.04 184.37 1309.15 Q180.898 1312.23 174.578 1312.23 Q172.402 1312.23 170.134 1311.86 Q167.889 1311.48 165.481 1310.74 L165.481 1306.04 Q167.564 1307.18 169.787 1307.73 Q172.009 1308.29 174.486 1308.29 Q178.49 1308.29 180.828 1306.18 Q183.166 1304.08 183.166 1300.47 Q183.166 1296.86 180.828 1294.75 Q178.49 1292.64 174.486 1292.64 Q172.611 1292.64 170.736 1293.06 Q168.884 1293.48 166.939 1294.36 L166.939 1276.99 Z\" fill=\"#000000\" fill-rule=\"evenodd\" fill-opacity=\"1\" /><path clip-path=\"url(#clip0300)\" d=\"M 0 0 M118.491 986.319 L134.81 986.319 L134.81 990.254 L112.866 990.254 L112.866 986.319 Q115.528 983.564 120.111 978.935 Q124.717 974.282 125.898 972.939 Q128.143 970.416 129.023 968.68 Q129.926 966.921 129.926 965.231 Q129.926 962.476 127.981 960.74 Q126.06 959.004 122.958 959.004 Q120.759 959.004 118.305 959.768 Q115.875 960.532 113.097 962.083 L113.097 957.361 Q115.921 956.226 118.375 955.648 Q120.829 955.069 122.866 955.069 Q128.236 955.069 131.43 957.754 Q134.625 960.439 134.625 964.93 Q134.625 967.06 133.815 968.981 Q133.028 970.879 130.921 973.472 Q130.342 974.143 127.241 977.361 Q124.139 980.555 118.491 986.319 Z\" fill=\"#000000\" fill-rule=\"evenodd\" fill-opacity=\"1\" /><path clip-path=\"url(#clip0300)\" d=\"M 0 0 M139.926 955.694 L158.282 955.694 L158.282 959.629 L144.208 959.629 L144.208 968.101 Q145.227 967.754 146.245 967.592 Q147.264 967.407 148.282 967.407 Q154.069 967.407 157.449 970.578 Q160.828 973.75 160.828 979.166 Q160.828 984.745 157.356 987.847 Q153.884 990.925 147.565 990.925 Q145.389 990.925 143.12 990.555 Q140.875 990.185 138.467 989.444 L138.467 984.745 Q140.551 985.879 142.773 986.435 Q144.995 986.99 147.472 986.99 Q151.477 986.99 153.815 984.884 Q156.153 982.777 156.153 979.166 Q156.153 975.555 153.815 973.449 Q151.477 971.342 147.472 971.342 Q145.597 971.342 143.722 971.759 Q141.87 972.175 139.926 973.055 L139.926 955.694 Z\" fill=\"#000000\" fill-rule=\"evenodd\" fill-opacity=\"1\" /><path clip-path=\"url(#clip0300)\" d=\"M 0 0 M175.898 958.773 Q172.287 958.773 170.458 962.338 Q168.652 965.879 168.652 973.009 Q168.652 980.115 170.458 983.68 Q172.287 987.222 175.898 987.222 Q179.532 987.222 181.338 983.68 Q183.166 980.115 183.166 973.009 Q183.166 965.879 181.338 962.338 Q179.532 958.773 175.898 958.773 M175.898 955.069 Q181.708 955.069 184.763 959.676 Q187.842 964.259 187.842 973.009 Q187.842 981.736 184.763 986.342 Q181.708 990.925 175.898 990.925 Q170.088 990.925 167.009 986.342 Q163.953 981.736 163.953 973.009 Q163.953 964.259 167.009 959.676 Q170.088 955.069 175.898 955.069 Z\" fill=\"#000000\" fill-rule=\"evenodd\" fill-opacity=\"1\" /><path clip-path=\"url(#clip0300)\" d=\"M 0 0 M119.393 665.019 L135.713 665.019 L135.713 668.954 L113.768 668.954 L113.768 665.019 Q116.43 662.264 121.014 657.635 Q125.62 652.982 126.801 651.639 Q129.046 649.116 129.926 647.38 Q130.829 645.621 130.829 643.931 Q130.829 641.176 128.884 639.44 Q126.963 637.704 123.861 637.704 Q121.662 637.704 119.208 638.468 Q116.778 639.232 114 640.783 L114 636.061 Q116.824 634.926 119.278 634.348 Q121.731 633.769 123.768 633.769 Q129.139 633.769 132.333 636.454 Q135.528 639.139 135.528 643.63 Q135.528 645.76 134.717 647.681 Q133.93 649.579 131.824 652.172 Q131.245 652.843 128.143 656.06 Q125.042 659.255 119.393 665.019 Z\" fill=\"#000000\" fill-rule=\"evenodd\" fill-opacity=\"1\" /><path clip-path=\"url(#clip0300)\" d=\"M 0 0 M139.602 634.394 L161.824 634.394 L161.824 636.385 L149.278 668.954 L144.393 668.954 L156.199 638.329 L139.602 638.329 L139.602 634.394 Z\" fill=\"#000000\" fill-rule=\"evenodd\" fill-opacity=\"1\" /><path clip-path=\"url(#clip0300)\" d=\"M 0 0 M166.939 634.394 L185.296 634.394 L185.296 638.329 L171.222 638.329 L171.222 646.801 Q172.24 646.454 173.259 646.292 Q174.277 646.107 175.296 646.107 Q181.083 646.107 184.463 649.278 Q187.842 652.449 187.842 657.866 Q187.842 663.445 184.37 666.547 Q180.898 669.625 174.578 669.625 Q172.402 669.625 170.134 669.255 Q167.889 668.884 165.481 668.144 L165.481 663.445 Q167.564 664.579 169.787 665.135 Q172.009 665.69 174.486 665.69 Q178.49 665.69 180.828 663.584 Q183.166 661.477 183.166 657.866 Q183.166 654.255 180.828 652.148 Q178.49 650.042 174.486 650.042 Q172.611 650.042 170.736 650.459 Q168.884 650.875 166.939 651.755 L166.939 634.394 Z\" fill=\"#000000\" fill-rule=\"evenodd\" fill-opacity=\"1\" /><path clip-path=\"url(#clip0300)\" d=\"M 0 0 M126.685 329.02 Q130.042 329.737 131.917 332.006 Q133.815 334.274 133.815 337.608 Q133.815 342.723 130.296 345.524 Q126.778 348.325 120.296 348.325 Q118.12 348.325 115.806 347.885 Q113.514 347.469 111.06 346.612 L111.06 342.098 Q113.005 343.233 115.319 343.811 Q117.634 344.39 120.157 344.39 Q124.555 344.39 126.847 342.654 Q129.162 340.918 129.162 337.608 Q129.162 334.552 127.009 332.839 Q124.88 331.103 121.06 331.103 L117.032 331.103 L117.032 327.26 L121.245 327.26 Q124.694 327.26 126.523 325.895 Q128.352 324.506 128.352 321.913 Q128.352 319.251 126.454 317.839 Q124.579 316.404 121.06 316.404 Q119.139 316.404 116.94 316.821 Q114.741 317.237 112.102 318.117 L112.102 313.95 Q114.764 313.21 117.079 312.839 Q119.417 312.469 121.477 312.469 Q126.801 312.469 129.903 314.899 Q133.004 317.307 133.004 321.427 Q133.004 324.297 131.361 326.288 Q129.717 328.256 126.685 329.02 Z\" fill=\"#000000\" fill-rule=\"evenodd\" fill-opacity=\"1\" /><path clip-path=\"url(#clip0300)\" d=\"M 0 0 M148.884 316.172 Q145.273 316.172 143.444 319.737 Q141.639 323.279 141.639 330.409 Q141.639 337.515 143.444 341.08 Q145.273 344.621 148.884 344.621 Q152.518 344.621 154.324 341.08 Q156.153 337.515 156.153 330.409 Q156.153 323.279 154.324 319.737 Q152.518 316.172 148.884 316.172 M148.884 312.469 Q154.694 312.469 157.75 317.075 Q160.828 321.659 160.828 330.409 Q160.828 339.135 157.75 343.742 Q154.694 348.325 148.884 348.325 Q143.074 348.325 139.995 343.742 Q136.94 339.135 136.94 330.409 Q136.94 321.659 139.995 317.075 Q143.074 312.469 148.884 312.469 Z\" fill=\"#000000\" fill-rule=\"evenodd\" fill-opacity=\"1\" /><path clip-path=\"url(#clip0300)\" d=\"M 0 0 M175.898 316.172 Q172.287 316.172 170.458 319.737 Q168.652 323.279 168.652 330.409 Q168.652 337.515 170.458 341.08 Q172.287 344.621 175.898 344.621 Q179.532 344.621 181.338 341.08 Q183.166 337.515 183.166 330.409 Q183.166 323.279 181.338 319.737 Q179.532 316.172 175.898 316.172 M175.898 312.469 Q181.708 312.469 184.763 317.075 Q187.842 321.659 187.842 330.409 Q187.842 339.135 184.763 343.742 Q181.708 348.325 175.898 348.325 Q170.088 348.325 167.009 343.742 Q163.953 339.135 163.953 330.409 Q163.953 321.659 167.009 317.075 Q170.088 312.469 175.898 312.469 Z\" fill=\"#000000\" fill-rule=\"evenodd\" fill-opacity=\"1\" /><path clip-path=\"url(#clip0300)\" d=\"M 0 0 M2012.64 1541.01 L2012.64 1521.72 L2018.5 1521.72 L2018.5 1571.24 L2012.64 1571.24 L2012.64 1565.9 Q2010.8 1569.08 2007.96 1570.64 Q2005.16 1572.17 2001.22 1572.17 Q1994.76 1572.17 1990.68 1567.01 Q1986.64 1561.85 1986.64 1553.45 Q1986.64 1545.05 1990.68 1539.89 Q1994.76 1534.74 2001.22 1534.74 Q2005.16 1534.74 2007.96 1536.3 Q2010.8 1537.82 2012.64 1541.01 M1992.69 1553.45 Q1992.69 1559.91 1995.33 1563.6 Q1998 1567.27 2002.65 1567.27 Q2007.3 1567.27 2009.97 1563.6 Q2012.64 1559.91 2012.64 1553.45 Q2012.64 1546.99 2009.97 1543.33 Q2007.3 1539.64 2002.65 1539.64 Q1998 1539.64 1995.33 1543.33 Q1992.69 1546.99 1992.69 1553.45 Z\" fill=\"#000000\" fill-rule=\"evenodd\" fill-opacity=\"1\" /><path clip-path=\"url(#clip0300)\" d=\"M 0 0 M2040.84 1553.32 Q2033.75 1553.32 2031.01 1554.95 Q2028.27 1556.57 2028.27 1560.49 Q2028.27 1563.6 2030.31 1565.45 Q2032.38 1567.27 2035.91 1567.27 Q2040.78 1567.27 2043.71 1563.83 Q2046.67 1560.36 2046.67 1554.63 L2046.67 1553.32 L2040.84 1553.32 M2052.52 1550.91 L2052.52 1571.24 L2046.67 1571.24 L2046.67 1565.83 Q2044.66 1569.08 2041.67 1570.64 Q2038.68 1572.17 2034.35 1572.17 Q2028.88 1572.17 2025.63 1569.11 Q2022.42 1566.02 2022.42 1560.87 Q2022.42 1554.85 2026.43 1551.8 Q2030.47 1548.74 2038.46 1548.74 L2046.67 1548.74 L2046.67 1548.17 Q2046.67 1544.13 2043.99 1541.93 Q2041.35 1539.7 2036.55 1539.7 Q2033.49 1539.7 2030.6 1540.43 Q2027.7 1541.17 2025.03 1542.63 L2025.03 1537.22 Q2028.24 1535.98 2031.26 1535.37 Q2034.29 1534.74 2037.15 1534.74 Q2044.89 1534.74 2048.71 1538.75 Q2052.52 1542.76 2052.52 1550.91 Z\" fill=\"#000000\" fill-rule=\"evenodd\" fill-opacity=\"1\" /><path clip-path=\"url(#clip0300)\" d=\"M 0 0 M2064.46 1525.47 L2064.46 1535.6 L2076.52 1535.6 L2076.52 1540.15 L2064.46 1540.15 L2064.46 1559.5 Q2064.46 1563.86 2065.64 1565.1 Q2066.85 1566.34 2070.51 1566.34 L2076.52 1566.34 L2076.52 1571.24 L2070.51 1571.24 Q2063.73 1571.24 2061.15 1568.73 Q2058.57 1566.18 2058.57 1559.5 L2058.57 1540.15 L2054.28 1540.15 L2054.28 1535.6 L2058.57 1535.6 L2058.57 1525.47 L2064.46 1525.47 Z\" fill=\"#000000\" fill-rule=\"evenodd\" fill-opacity=\"1\" /><path clip-path=\"url(#clip0300)\" d=\"M 0 0 M2113.16 1551.96 L2113.16 1554.82 L2086.23 1554.82 Q2086.61 1560.87 2089.86 1564.05 Q2093.14 1567.2 2098.96 1567.2 Q2102.34 1567.2 2105.49 1566.37 Q2108.67 1565.55 2111.79 1563.89 L2111.79 1569.43 Q2108.64 1570.77 2105.33 1571.47 Q2102.02 1572.17 2098.61 1572.17 Q2090.08 1572.17 2085.09 1567.2 Q2080.12 1562.24 2080.12 1553.77 Q2080.12 1545.02 2084.83 1539.89 Q2089.57 1534.74 2097.59 1534.74 Q2104.79 1534.74 2108.96 1539.38 Q2113.16 1544 2113.16 1551.96 M2107.3 1550.24 Q2107.24 1545.43 2104.6 1542.57 Q2101.99 1539.7 2097.66 1539.7 Q2092.76 1539.7 2089.8 1542.47 Q2086.87 1545.24 2086.42 1550.27 L2107.3 1550.24 Z\" fill=\"#000000\" fill-rule=\"evenodd\" fill-opacity=\"1\" /><path clip-path=\"url(#clip0300)\" d=\"M 0 0 M21.9562 811.585 L21.9562 805.378 L51.875 794.238 L21.9562 783.098 L21.9562 776.891 L57.6042 790.259 L57.6042 798.217 L21.9562 811.585 Z\" fill=\"#000000\" fill-rule=\"evenodd\" fill-opacity=\"1\" /><path clip-path=\"url(#clip0300)\" d=\"M 0 0 M39.6847 754.548 Q39.6847 761.646 41.3079 764.383 Q42.9312 767.12 46.8461 767.12 Q49.9653 767.12 51.8114 765.083 Q53.6256 763.014 53.6256 759.481 Q53.6256 754.611 50.1881 751.683 Q46.7188 748.723 40.9897 748.723 L39.6847 748.723 L39.6847 754.548 M37.2657 742.867 L57.6042 742.867 L57.6042 748.723 L52.1933 748.723 Q55.4398 750.728 56.9994 753.72 Q58.5272 756.712 58.5272 761.041 Q58.5272 766.515 55.4716 769.762 Q52.3843 772.977 47.2281 772.977 Q41.2125 772.977 38.1569 768.966 Q35.1014 764.924 35.1014 756.935 L35.1014 748.723 L34.5285 748.723 Q30.4862 748.723 28.2901 751.397 Q26.0621 754.039 26.0621 758.845 Q26.0621 761.9 26.7941 764.797 Q27.5262 767.693 28.9903 770.367 L23.5795 770.367 Q22.3381 767.152 21.7334 764.128 Q21.0968 761.104 21.0968 758.24 Q21.0968 750.506 25.1072 746.686 Q29.1176 742.867 37.2657 742.867 Z\" fill=\"#000000\" fill-rule=\"evenodd\" fill-opacity=\"1\" /><path clip-path=\"url(#clip0300)\" d=\"M 0 0 M8.07896 736.724 L8.07896 730.867 L57.6042 730.867 L57.6042 736.724 L8.07896 736.724 Z\" fill=\"#000000\" fill-rule=\"evenodd\" fill-opacity=\"1\" /><path clip-path=\"url(#clip0300)\" d=\"M 0 0 M43.5359 725.329 L21.9562 725.329 L21.9562 719.473 L43.3131 719.473 Q48.3739 719.473 50.9202 717.499 Q53.4346 715.526 53.4346 711.579 Q53.4346 706.837 50.4109 704.1 Q47.3872 701.33 42.1673 701.33 L21.9562 701.33 L21.9562 695.474 L57.6042 695.474 L57.6042 701.33 L52.1296 701.33 Q55.3762 703.463 56.9676 706.296 Q58.5272 709.097 58.5272 712.821 Q58.5272 718.964 54.7078 722.146 Q50.8883 725.329 43.5359 725.329 M21.0968 710.593 L21.0968 710.593 Z\" fill=\"#000000\" fill-rule=\"evenodd\" fill-opacity=\"1\" /><path clip-path=\"url(#clip0300)\" d=\"M 0 0 M38.3161 658.839 L41.1806 658.839 L41.1806 685.766 Q47.2281 685.384 50.4109 682.138 Q53.5619 678.86 53.5619 673.035 Q53.5619 669.661 52.7344 666.51 Q51.9069 663.327 50.2518 660.208 L55.7899 660.208 Q57.1267 663.359 57.827 666.669 Q58.5272 669.979 58.5272 673.385 Q58.5272 681.915 53.5619 686.912 Q48.5967 691.877 40.1303 691.877 Q31.3774 691.877 26.2531 687.167 Q21.0968 682.424 21.0968 674.404 Q21.0968 667.21 25.7438 663.041 Q30.3589 658.839 38.3161 658.839 M36.5973 664.696 Q31.7912 664.76 28.9266 667.401 Q26.0621 670.011 26.0621 674.34 Q26.0621 679.241 28.8312 682.202 Q31.6002 685.13 36.6292 685.575 L36.5973 664.696 Z\" fill=\"#000000\" fill-rule=\"evenodd\" fill-opacity=\"1\" /><polyline clip-path=\"url(#clip0302)\" style=\"stroke:#009af9; stroke-width:4; stroke-opacity:1; fill:none\" points=\"\n",
       "  330.223,638.822 368.438,625.97 406.653,625.97 444.868,625.97 483.083,664.526 521.298,638.822 559.513,613.118 597.728,703.082 635.943,690.23 674.158,690.23 \n",
       "  712.373,690.23 750.588,600.266 788.803,600.266 827.018,394.634 865.233,381.782 903.448,433.19 941.663,433.19 979.878,433.19 1018.09,458.894 1056.31,368.93 \n",
       "  1094.52,330.374 1132.74,304.67 1170.95,291.818 1209.17,291.818 1247.38,291.818 1285.6,201.854 1323.81,201.854 1362.03,201.854 1400.24,330.374 1438.46,201.854 \n",
       "  1476.67,201.854 1514.89,201.854 1553.1,150.446 1591.32,176.15 1629.53,150.446 1667.75,176.15 1705.96,201.854 1744.18,201.854 1782.39,201.854 1820.61,137.594 \n",
       "  1858.82,86.1857 1897.04,150.446 1935.25,124.742 1973.47,189.002 2011.68,189.002 2049.9,189.002 2088.11,189.002 2126.33,407.486 2164.54,343.226 2202.76,446.042 \n",
       "  2240.97,317.522 2279.19,317.522 2317.4,317.522 2355.62,278.966 2393.83,587.414 2432.05,690.23 2470.26,703.082 2508.48,780.194 2546.69,780.194 2584.91,780.194 \n",
       "  2623.12,805.898 2661.34,844.454 2699.55,870.158 2737.77,831.602 2775.98,690.23 2814.2,690.23 2852.41,690.23 2890.63,638.822 2928.84,574.562 2967.06,600.266 \n",
       "  3005.27,600.266 3043.49,600.266 3081.7,600.266 3119.92,600.266 3158.13,728.786 3196.35,767.342 3234.56,805.898 3272.78,728.786 3310.99,703.082 3349.21,703.082 \n",
       "  3387.43,703.082 3425.64,767.342 3463.86,741.638 3502.07,741.638 3540.29,767.342 3578.5,780.194 3616.72,780.194 3654.93,780.194 3693.15,831.602 3731.36,895.862 \n",
       "  3769.58,895.862 \n",
       "  \"/>\n",
       "<polyline clip-path=\"url(#clip0302)\" style=\"stroke:#e26f46; stroke-width:4; stroke-opacity:1; fill:none\" points=\"\n",
       "  330.223,651.674 368.438,625.97 406.653,625.97 444.868,625.97 483.083,664.526 521.298,613.118 559.513,625.97 597.728,587.414 635.943,561.71 674.158,703.082 \n",
       "  712.373,600.266 750.588,613.118 788.803,587.414 827.018,407.486 865.233,394.634 903.448,446.042 941.663,433.19 979.878,433.19 1018.09,510.302 1056.31,381.782 \n",
       "  1094.52,343.226 1132.74,304.67 1170.95,304.67 1209.17,304.67 1247.38,304.67 1285.6,214.706 1323.81,201.854 1362.03,201.854 1400.24,330.374 1438.46,201.854 \n",
       "  1476.67,201.854 1514.89,343.226 1553.1,343.226 1591.32,189.002 1629.53,150.446 1667.75,176.15 1705.96,201.854 1744.18,266.114 1782.39,201.854 1820.61,137.594 \n",
       "  1858.82,304.67 1897.04,163.298 1935.25,343.226 1973.47,201.854 2011.68,201.854 2049.9,201.854 2088.11,574.562 2126.33,407.486 2164.54,343.226 2202.76,446.042 \n",
       "  2240.97,317.522 2279.19,317.522 2317.4,317.522 2355.62,574.562 2393.83,587.414 2432.05,690.23 2470.26,703.082 2508.48,767.342 2546.69,600.266 2584.91,767.342 \n",
       "  2623.12,805.898 2661.34,831.602 2699.55,677.378 2737.77,818.75 2775.98,664.526 2814.2,677.378 2852.41,728.786 2890.63,741.638 2928.84,574.562 2967.06,600.266 \n",
       "  3005.27,600.266 3043.49,600.266 3081.7,818.75 3119.92,870.158 3158.13,728.786 3196.35,767.342 3234.56,870.158 3272.78,728.786 3310.99,703.082 3349.21,870.158 \n",
       "  3387.43,921.566 3425.64,921.566 3463.86,728.786 3502.07,741.638 3540.29,767.342 3578.5,767.342 3616.72,921.566 3654.93,985.826 3693.15,1050.09 3731.36,1217.16 \n",
       "  3769.58,1384.24 \n",
       "  \"/>\n",
       "<polyline clip-path=\"url(#clip0302)\" style=\"stroke:#3da44d; stroke-width:4; stroke-opacity:1; fill:none\" points=\"\n",
       "  3750.47,2799.12 3750.47,-1328.69 \n",
       "  \"/>\n",
       "<path clip-path=\"url(#clip0300)\" d=\"\n",
       "M344.642 463.884 L1167.15 463.884 L1167.15 221.964 L344.642 221.964  Z\n",
       "  \" fill=\"#ffffff\" fill-rule=\"evenodd\" fill-opacity=\"1\"/>\n",
       "<polyline clip-path=\"url(#clip0300)\" style=\"stroke:#000000; stroke-width:4; stroke-opacity:1; fill:none\" points=\"\n",
       "  344.642,463.884 1167.15,463.884 1167.15,221.964 344.642,221.964 344.642,463.884 \n",
       "  \"/>\n",
       "<polyline clip-path=\"url(#clip0300)\" style=\"stroke:#009af9; stroke-width:4; stroke-opacity:1; fill:none\" points=\"\n",
       "  383.842,282.444 619.042,282.444 \n",
       "  \"/>\n",
       "<path clip-path=\"url(#clip0300)\" d=\"M 0 0 M662.918 283.22 L662.918 295.882 L670.418 295.882 Q674.191 295.882 675.997 294.331 Q677.825 292.757 677.825 289.539 Q677.825 286.298 675.997 284.77 Q674.191 283.22 670.418 283.22 L662.918 283.22 M662.918 269.007 L662.918 279.423 L669.839 279.423 Q673.265 279.423 674.932 278.15 Q676.622 276.854 676.622 274.215 Q676.622 271.599 674.932 270.303 Q673.265 269.007 669.839 269.007 L662.918 269.007 M658.242 265.164 L670.187 265.164 Q675.534 265.164 678.427 267.386 Q681.321 269.609 681.321 273.706 Q681.321 276.877 679.839 278.752 Q678.358 280.627 675.487 281.09 Q678.936 281.831 680.835 284.192 Q682.756 286.53 682.756 290.048 Q682.756 294.678 679.608 297.201 Q676.46 299.724 670.649 299.724 L658.242 299.724 L658.242 265.164 Z\" fill=\"#000000\" fill-rule=\"evenodd\" fill-opacity=\"1\" /><path clip-path=\"url(#clip0300)\" d=\"M 0 0 M698.96 269.771 L692.617 286.97 L705.325 286.97 L698.96 269.771 M696.321 265.164 L701.622 265.164 L714.793 299.724 L709.932 299.724 L706.784 290.858 L691.205 290.858 L688.057 299.724 L683.126 299.724 L696.321 265.164 Z\" fill=\"#000000\" fill-rule=\"evenodd\" fill-opacity=\"1\" /><path clip-path=\"url(#clip0300)\" d=\"M 0 0 M724.121 283.22 L724.121 295.882 L731.621 295.882 Q735.395 295.882 737.2 294.331 Q739.029 292.757 739.029 289.539 Q739.029 286.298 737.2 284.77 Q735.395 283.22 731.621 283.22 L724.121 283.22 M724.121 269.007 L724.121 279.423 L731.043 279.423 Q734.469 279.423 736.135 278.15 Q737.825 276.854 737.825 274.215 Q737.825 271.599 736.135 270.303 Q734.469 269.007 731.043 269.007 L724.121 269.007 M719.446 265.164 L731.39 265.164 Q736.737 265.164 739.631 267.386 Q742.524 269.609 742.524 273.706 Q742.524 276.877 741.043 278.752 Q739.561 280.627 736.691 281.09 Q740.14 281.831 742.038 284.192 Q743.959 286.53 743.959 290.048 Q743.959 294.678 740.811 297.201 Q737.663 299.724 731.853 299.724 L719.446 299.724 L719.446 265.164 Z\" fill=\"#000000\" fill-rule=\"evenodd\" fill-opacity=\"1\" /><path clip-path=\"url(#clip0300)\" d=\"M 0 0 M760.163 269.771 L753.82 286.97 L766.529 286.97 L760.163 269.771 M757.524 265.164 L762.825 265.164 L775.996 299.724 L771.135 299.724 L767.987 290.858 L752.408 290.858 L749.26 299.724 L744.33 299.724 L757.524 265.164 Z\" fill=\"#000000\" fill-rule=\"evenodd\" fill-opacity=\"1\" /><polyline clip-path=\"url(#clip0300)\" style=\"stroke:#e26f46; stroke-width:4; stroke-opacity:1; fill:none\" points=\"\n",
       "  383.842,342.924 619.042,342.924 \n",
       "  \"/>\n",
       "<path clip-path=\"url(#clip0300)\" d=\"M 0 0 M662.525 356.315 L662.525 370.065 L658.242 370.065 L658.242 334.278 L662.525 334.278 L662.525 338.213 Q663.867 335.899 665.904 334.788 Q667.964 333.653 670.812 333.653 Q675.534 333.653 678.474 337.403 Q681.436 341.153 681.436 347.264 Q681.436 353.375 678.474 357.125 Q675.534 360.875 670.812 360.875 Q667.964 360.875 665.904 359.764 Q663.867 358.63 662.525 356.315 M677.015 347.264 Q677.015 342.565 675.071 339.903 Q673.149 337.218 669.77 337.218 Q666.39 337.218 664.446 339.903 Q662.525 342.565 662.525 347.264 Q662.525 351.963 664.446 354.649 Q666.39 357.311 669.77 357.311 Q673.149 357.311 675.071 354.649 Q677.015 351.963 677.015 347.264 Z\" fill=\"#000000\" fill-rule=\"evenodd\" fill-opacity=\"1\" /><path clip-path=\"url(#clip0300)\" d=\"M 0 0 M700.927 338.26 Q700.21 337.843 699.353 337.658 Q698.52 337.45 697.501 337.45 Q693.89 337.45 691.946 339.811 Q690.024 342.149 690.024 346.547 L690.024 360.204 L685.742 360.204 L685.742 334.278 L690.024 334.278 L690.024 338.306 Q691.367 335.945 693.52 334.811 Q695.673 333.653 698.751 333.653 Q699.191 333.653 699.723 333.723 Q700.256 333.769 700.904 333.885 L700.927 338.26 Z\" fill=\"#000000\" fill-rule=\"evenodd\" fill-opacity=\"1\" /><path clip-path=\"url(#clip0300)\" d=\"M 0 0 M726.529 346.176 L726.529 348.26 L706.946 348.26 Q707.223 352.658 709.584 354.973 Q711.969 357.264 716.205 357.264 Q718.658 357.264 720.95 356.662 Q723.265 356.061 725.533 354.857 L725.533 358.885 Q723.242 359.857 720.834 360.366 Q718.427 360.875 715.95 360.875 Q709.747 360.875 706.112 357.264 Q702.501 353.653 702.501 347.496 Q702.501 341.13 705.927 337.403 Q709.376 333.653 715.209 333.653 Q720.441 333.653 723.473 337.033 Q726.529 340.389 726.529 346.176 M722.27 344.926 Q722.223 341.431 720.302 339.348 Q718.404 337.264 715.256 337.264 Q711.691 337.264 709.538 339.278 Q707.409 341.292 707.084 344.95 L722.27 344.926 Z\" fill=\"#000000\" fill-rule=\"evenodd\" fill-opacity=\"1\" /><path clip-path=\"url(#clip0300)\" d=\"M 0 0 M748.056 338.213 L748.056 324.186 L752.316 324.186 L752.316 360.204 L748.056 360.204 L748.056 356.315 Q746.714 358.63 744.654 359.764 Q742.617 360.875 739.746 360.875 Q735.047 360.875 732.084 357.125 Q729.145 353.375 729.145 347.264 Q729.145 341.153 732.084 337.403 Q735.047 333.653 739.746 333.653 Q742.617 333.653 744.654 334.788 Q746.714 335.899 748.056 338.213 M733.543 347.264 Q733.543 351.963 735.464 354.649 Q737.408 357.311 740.788 357.311 Q744.168 357.311 746.112 354.649 Q748.056 351.963 748.056 347.264 Q748.056 342.565 746.112 339.903 Q744.168 337.218 740.788 337.218 Q737.408 337.218 735.464 339.903 Q733.543 342.565 733.543 347.264 Z\" fill=\"#000000\" fill-rule=\"evenodd\" fill-opacity=\"1\" /><path clip-path=\"url(#clip0300)\" d=\"M 0 0 M756.783 334.278 L761.043 334.278 L761.043 360.204 L756.783 360.204 L756.783 334.278 M756.783 324.186 L761.043 324.186 L761.043 329.579 L756.783 329.579 L756.783 324.186 Z\" fill=\"#000000\" fill-rule=\"evenodd\" fill-opacity=\"1\" /><path clip-path=\"url(#clip0300)\" d=\"M 0 0 M784.167 335.274 L784.167 339.255 Q782.362 338.26 780.533 337.774 Q778.728 337.264 776.876 337.264 Q772.732 337.264 770.441 339.903 Q768.149 342.519 768.149 347.264 Q768.149 352.01 770.441 354.649 Q772.732 357.264 776.876 357.264 Q778.728 357.264 780.533 356.778 Q782.362 356.269 784.167 355.274 L784.167 359.209 Q782.385 360.042 780.464 360.459 Q778.566 360.875 776.413 360.875 Q770.556 360.875 767.107 357.195 Q763.658 353.514 763.658 347.264 Q763.658 340.922 767.13 337.288 Q770.626 333.653 776.691 333.653 Q778.658 333.653 780.533 334.07 Q782.408 334.463 784.167 335.274 Z\" fill=\"#000000\" fill-rule=\"evenodd\" fill-opacity=\"1\" /><path clip-path=\"url(#clip0300)\" d=\"M 0 0 M792.848 326.917 L792.848 334.278 L801.621 334.278 L801.621 337.588 L792.848 337.588 L792.848 351.662 Q792.848 354.834 793.704 355.737 Q794.584 356.639 797.246 356.639 L801.621 356.639 L801.621 360.204 L797.246 360.204 Q792.316 360.204 790.441 358.375 Q788.566 356.524 788.566 351.662 L788.566 337.588 L785.441 337.588 L785.441 334.278 L788.566 334.278 L788.566 326.917 L792.848 326.917 Z\" fill=\"#000000\" fill-rule=\"evenodd\" fill-opacity=\"1\" /><path clip-path=\"url(#clip0300)\" d=\"M 0 0 M828.264 346.176 L828.264 348.26 L808.681 348.26 Q808.959 352.658 811.32 354.973 Q813.704 357.264 817.94 357.264 Q820.394 357.264 822.686 356.662 Q825.001 356.061 827.269 354.857 L827.269 358.885 Q824.977 359.857 822.57 360.366 Q820.163 360.875 817.686 360.875 Q811.482 360.875 807.848 357.264 Q804.237 353.653 804.237 347.496 Q804.237 341.13 807.663 337.403 Q811.112 333.653 816.945 333.653 Q822.176 333.653 825.209 337.033 Q828.264 340.389 828.264 346.176 M824.005 344.926 Q823.959 341.431 822.038 339.348 Q820.139 337.264 816.991 337.264 Q813.427 337.264 811.274 339.278 Q809.144 341.292 808.82 344.95 L824.005 344.926 Z\" fill=\"#000000\" fill-rule=\"evenodd\" fill-opacity=\"1\" /><path clip-path=\"url(#clip0300)\" d=\"M 0 0 M849.792 338.213 L849.792 324.186 L854.051 324.186 L854.051 360.204 L849.792 360.204 L849.792 356.315 Q848.449 358.63 846.389 359.764 Q844.352 360.875 841.482 360.875 Q836.783 360.875 833.82 357.125 Q830.88 353.375 830.88 347.264 Q830.88 341.153 833.82 337.403 Q836.783 333.653 841.482 333.653 Q844.352 333.653 846.389 334.788 Q848.449 335.899 849.792 338.213 M835.278 347.264 Q835.278 351.963 837.2 354.649 Q839.144 357.311 842.524 357.311 Q845.903 357.311 847.848 354.649 Q849.792 351.963 849.792 347.264 Q849.792 342.565 847.848 339.903 Q845.903 337.218 842.524 337.218 Q839.144 337.218 837.2 339.903 Q835.278 342.565 835.278 347.264 Z\" fill=\"#000000\" fill-rule=\"evenodd\" fill-opacity=\"1\" /><polyline clip-path=\"url(#clip0300)\" style=\"stroke:#3da44d; stroke-width:4; stroke-opacity:1; fill:none\" points=\"\n",
       "  383.842,403.404 619.042,403.404 \n",
       "  \"/>\n",
       "<path clip-path=\"url(#clip0300)\" d=\"M 0 0 M658.242 386.124 L687.478 386.124 L687.478 390.059 L675.21 390.059 L675.21 420.684 L670.511 420.684 L670.511 390.059 L658.242 390.059 L658.242 386.124 Z\" fill=\"#000000\" fill-rule=\"evenodd\" fill-opacity=\"1\" /><path clip-path=\"url(#clip0300)\" d=\"M 0 0 M693.936 397.744 Q690.51 397.744 688.52 400.43 Q686.529 403.092 686.529 407.744 Q686.529 412.397 688.497 415.082 Q690.487 417.744 693.936 417.744 Q697.339 417.744 699.33 415.059 Q701.321 412.374 701.321 407.744 Q701.321 403.138 699.33 400.453 Q697.339 397.744 693.936 397.744 M693.936 394.133 Q699.492 394.133 702.663 397.744 Q705.834 401.355 705.834 407.744 Q705.834 414.11 702.663 417.744 Q699.492 421.355 693.936 421.355 Q688.358 421.355 685.186 417.744 Q682.038 414.11 682.038 407.744 Q682.038 401.355 685.186 397.744 Q688.358 394.133 693.936 394.133 Z\" fill=\"#000000\" fill-rule=\"evenodd\" fill-opacity=\"1\" /><path clip-path=\"url(#clip0300)\" d=\"M 0 0 M727.362 398.693 L727.362 384.666 L731.621 384.666 L731.621 420.684 L727.362 420.684 L727.362 416.795 Q726.02 419.11 723.959 420.244 Q721.922 421.355 719.052 421.355 Q714.353 421.355 711.39 417.605 Q708.45 413.855 708.45 407.744 Q708.45 401.633 711.39 397.883 Q714.353 394.133 719.052 394.133 Q721.922 394.133 723.959 395.268 Q726.02 396.379 727.362 398.693 M712.848 407.744 Q712.848 412.443 714.77 415.129 Q716.714 417.791 720.094 417.791 Q723.473 417.791 725.418 415.129 Q727.362 412.443 727.362 407.744 Q727.362 403.045 725.418 400.383 Q723.473 397.698 720.094 397.698 Q716.714 397.698 714.77 400.383 Q712.848 403.045 712.848 407.744 Z\" fill=\"#000000\" fill-rule=\"evenodd\" fill-opacity=\"1\" /><path clip-path=\"url(#clip0300)\" d=\"M 0 0 M747.871 407.652 Q742.709 407.652 740.719 408.832 Q738.728 410.013 738.728 412.86 Q738.728 415.129 740.209 416.471 Q741.714 417.791 744.283 417.791 Q747.825 417.791 749.955 415.291 Q752.107 412.767 752.107 408.601 L752.107 407.652 L747.871 407.652 M756.367 405.893 L756.367 420.684 L752.107 420.684 L752.107 416.749 Q750.649 419.11 748.473 420.244 Q746.297 421.355 743.149 421.355 Q739.168 421.355 736.807 419.133 Q734.469 416.888 734.469 413.138 Q734.469 408.763 737.385 406.541 Q740.325 404.318 746.135 404.318 L752.107 404.318 L752.107 403.902 Q752.107 400.962 750.163 399.365 Q748.242 397.744 744.746 397.744 Q742.524 397.744 740.418 398.277 Q738.311 398.809 736.367 399.874 L736.367 395.939 Q738.705 395.036 740.904 394.596 Q743.103 394.133 745.186 394.133 Q750.811 394.133 753.589 397.05 Q756.367 399.967 756.367 405.893 Z\" fill=\"#000000\" fill-rule=\"evenodd\" fill-opacity=\"1\" /><path clip-path=\"url(#clip0300)\" d=\"M 0 0 M771.621 423.091 Q769.816 427.721 768.103 429.133 Q766.39 430.545 763.519 430.545 L760.117 430.545 L760.117 426.98 L762.617 426.98 Q764.376 426.98 765.348 426.147 Q766.32 425.314 767.501 422.212 L768.265 420.267 L757.779 394.758 L762.293 394.758 L770.394 415.036 L778.496 394.758 L783.01 394.758 L771.621 423.091 Z\" fill=\"#000000\" fill-rule=\"evenodd\" fill-opacity=\"1\" /><path clip-path=\"url(#clip0300)\" d=\"M 0 0 M807.408 389.967 L807.408 416.842 L813.056 416.842 Q820.209 416.842 823.519 413.601 Q826.852 410.36 826.852 403.369 Q826.852 396.425 823.519 393.207 Q820.209 389.967 813.056 389.967 L807.408 389.967 M802.732 386.124 L812.339 386.124 Q822.385 386.124 827.084 390.314 Q831.783 394.481 831.783 403.369 Q831.783 412.305 827.061 416.494 Q822.338 420.684 812.339 420.684 L802.732 420.684 L802.732 386.124 Z\" fill=\"#000000\" fill-rule=\"evenodd\" fill-opacity=\"1\" /><path clip-path=\"url(#clip0300)\" d=\"M 0 0 M858.426 406.656 L858.426 408.74 L838.843 408.74 Q839.121 413.138 841.482 415.453 Q843.866 417.744 848.102 417.744 Q850.556 417.744 852.848 417.142 Q855.162 416.541 857.431 415.337 L857.431 419.365 Q855.139 420.337 852.732 420.846 Q850.324 421.355 847.848 421.355 Q841.644 421.355 838.01 417.744 Q834.399 414.133 834.399 407.976 Q834.399 401.61 837.825 397.883 Q841.274 394.133 847.107 394.133 Q852.338 394.133 855.371 397.513 Q858.426 400.869 858.426 406.656 M854.167 405.406 Q854.121 401.911 852.199 399.828 Q850.301 397.744 847.153 397.744 Q843.588 397.744 841.436 399.758 Q839.306 401.772 838.982 405.43 L854.167 405.406 Z\" fill=\"#000000\" fill-rule=\"evenodd\" fill-opacity=\"1\" /><path clip-path=\"url(#clip0300)\" d=\"M 0 0 M881.551 395.754 L881.551 399.735 Q879.746 398.74 877.917 398.254 Q876.111 397.744 874.26 397.744 Q870.116 397.744 867.824 400.383 Q865.533 402.999 865.533 407.744 Q865.533 412.49 867.824 415.129 Q870.116 417.744 874.26 417.744 Q876.111 417.744 877.917 417.258 Q879.746 416.749 881.551 415.754 L881.551 419.689 Q879.769 420.522 877.847 420.939 Q875.949 421.355 873.797 421.355 Q867.94 421.355 864.491 417.675 Q861.042 413.994 861.042 407.744 Q861.042 401.402 864.514 397.768 Q868.01 394.133 874.074 394.133 Q876.042 394.133 877.917 394.55 Q879.792 394.943 881.551 395.754 Z\" fill=\"#000000\" fill-rule=\"evenodd\" fill-opacity=\"1\" /><path clip-path=\"url(#clip0300)\" d=\"M 0 0 M886.621 414.804 L891.505 414.804 L891.505 420.684 L886.621 420.684 L886.621 414.804 Z\" fill=\"#000000\" fill-rule=\"evenodd\" fill-opacity=\"1\" /><path clip-path=\"url(#clip0300)\" d=\"M 0 0 M912.454 416.749 L920.093 416.749 L920.093 390.383 L911.782 392.05 L911.782 387.791 L920.046 386.124 L924.722 386.124 L924.722 416.749 L932.361 416.749 L932.361 420.684 L912.454 420.684 L912.454 416.749 Z\" fill=\"#000000\" fill-rule=\"evenodd\" fill-opacity=\"1\" /><path clip-path=\"url(#clip0300)\" d=\"M 0 0 M937.477 386.124 L955.833 386.124 L955.833 390.059 L941.759 390.059 L941.759 398.531 Q942.778 398.184 943.796 398.022 Q944.815 397.837 945.833 397.837 Q951.62 397.837 955 401.008 Q958.379 404.18 958.379 409.596 Q958.379 415.175 954.907 418.277 Q951.435 421.355 945.116 421.355 Q942.94 421.355 940.671 420.985 Q938.426 420.615 936.018 419.874 L936.018 415.175 Q938.102 416.309 940.324 416.865 Q942.546 417.42 945.023 417.42 Q949.028 417.42 951.366 415.314 Q953.704 413.207 953.704 409.596 Q953.704 405.985 951.366 403.879 Q949.028 401.772 945.023 401.772 Q943.148 401.772 941.273 402.189 Q939.421 402.605 937.477 403.485 L937.477 386.124 Z\" fill=\"#000000\" fill-rule=\"evenodd\" fill-opacity=\"1\" /><path clip-path=\"url(#clip0300)\" d=\"M 0 0 M963.935 414.804 L968.819 414.804 L968.819 418.786 L965.023 426.193 L962.037 426.193 L963.935 418.786 L963.935 414.804 Z\" fill=\"#000000\" fill-rule=\"evenodd\" fill-opacity=\"1\" /><path clip-path=\"url(#clip0300)\" d=\"M 0 0 M992.986 416.749 L1009.31 416.749 L1009.31 420.684 L987.361 420.684 L987.361 416.749 Q990.023 413.994 994.606 409.365 Q999.213 404.712 1000.39 403.369 Q1002.64 400.846 1003.52 399.11 Q1004.42 397.351 1004.42 395.661 Q1004.42 392.906 1002.48 391.17 Q1000.56 389.434 997.453 389.434 Q995.254 389.434 992.801 390.198 Q990.37 390.962 987.592 392.513 L987.592 387.791 Q990.416 386.656 992.87 386.078 Q995.324 385.499 997.361 385.499 Q1002.73 385.499 1005.93 388.184 Q1009.12 390.869 1009.12 395.36 Q1009.12 397.49 1008.31 399.411 Q1007.52 401.309 1005.42 403.902 Q1004.84 404.573 1001.74 407.791 Q998.634 410.985 992.986 416.749 Z\" fill=\"#000000\" fill-rule=\"evenodd\" fill-opacity=\"1\" /><path clip-path=\"url(#clip0300)\" d=\"M 0 0 M1024.37 389.203 Q1020.76 389.203 1018.93 392.768 Q1017.13 396.309 1017.13 403.439 Q1017.13 410.545 1018.93 414.11 Q1020.76 417.652 1024.37 417.652 Q1028.01 417.652 1029.81 414.11 Q1031.64 410.545 1031.64 403.439 Q1031.64 396.309 1029.81 392.768 Q1028.01 389.203 1024.37 389.203 M1024.37 385.499 Q1030.18 385.499 1033.24 390.106 Q1036.32 394.689 1036.32 403.439 Q1036.32 412.166 1033.24 416.772 Q1030.18 421.355 1024.37 421.355 Q1018.56 421.355 1015.49 416.772 Q1012.43 412.166 1012.43 403.439 Q1012.43 394.689 1015.49 390.106 Q1018.56 385.499 1024.37 385.499 Z\" fill=\"#000000\" fill-rule=\"evenodd\" fill-opacity=\"1\" /><path clip-path=\"url(#clip0300)\" d=\"M 0 0 M1045.42 416.749 L1061.74 416.749 L1061.74 420.684 L1039.79 420.684 L1039.79 416.749 Q1042.45 413.994 1047.04 409.365 Q1051.64 404.712 1052.82 403.369 Q1055.07 400.846 1055.95 399.11 Q1056.85 397.351 1056.85 395.661 Q1056.85 392.906 1054.91 391.17 Q1052.99 389.434 1049.88 389.434 Q1047.68 389.434 1045.23 390.198 Q1042.8 390.962 1040.02 392.513 L1040.02 387.791 Q1042.85 386.656 1045.3 386.078 Q1047.75 385.499 1049.79 385.499 Q1055.16 385.499 1058.36 388.184 Q1061.55 390.869 1061.55 395.36 Q1061.55 397.49 1060.74 399.411 Q1059.95 401.309 1057.85 403.902 Q1057.27 404.573 1054.17 407.791 Q1051.06 410.985 1045.42 416.749 Z\" fill=\"#000000\" fill-rule=\"evenodd\" fill-opacity=\"1\" /><path clip-path=\"url(#clip0300)\" d=\"M 0 0 M1076.8 389.203 Q1073.19 389.203 1071.36 392.768 Q1069.56 396.309 1069.56 403.439 Q1069.56 410.545 1071.36 414.11 Q1073.19 417.652 1076.8 417.652 Q1080.44 417.652 1082.24 414.11 Q1084.07 410.545 1084.07 403.439 Q1084.07 396.309 1082.24 392.768 Q1080.44 389.203 1076.8 389.203 M1076.8 385.499 Q1082.61 385.499 1085.67 390.106 Q1088.75 394.689 1088.75 403.439 Q1088.75 412.166 1085.67 416.772 Q1082.61 421.355 1076.8 421.355 Q1070.99 421.355 1067.92 416.772 Q1064.86 412.166 1064.86 403.439 Q1064.86 394.689 1067.92 390.106 Q1070.99 385.499 1076.8 385.499 Z\" fill=\"#000000\" fill-rule=\"evenodd\" fill-opacity=\"1\" /></svg>\n"
      ]
     },
     "execution_count": 12,
     "metadata": {},
     "output_type": "execute_result"
    }
   ],
   "source": [
    "## Draw Plot\n",
    "\n",
    "using Plots \n",
    "\n",
    "gr()\n",
    "plot(            x_axis_dates,\n",
    "               [ y_axis_original   y_axis_predicted ], # y-axis\n",
    "    label    = [ symbol_to_predict \"predicted\"  \"\" ],\n",
    "    legend   =:topleft, \n",
    "              # :right, :left, :top, :bottom, :inside, :best, :legend, :topright, :topleft, :bottomleft, :bottomright\n",
    "    xlabel   = \"date\",\n",
    "    ylabel   = \"value\",\n",
    "    size     = (980, 400), # width, height\n",
    "    layout = (1, 1), # number of graphs: vertically, horizontally\n",
    "    )\n",
    "\n",
    "## Add veritical today line\n",
    "\n",
    "plot!([today_id], seriestype=\"vline\", label=[ \"Today \"*t \"\" ],)"
   ]
  },
  {
   "cell_type": "code",
   "execution_count": 13,
   "metadata": {
    "ExecuteTime": {
     "end_time": "2020-12-15T21:13:55.215000-05:00",
     "start_time": "2020-12-16T02:12:46.555Z"
    }
   },
   "outputs": [
    {
     "name": "stdout",
     "output_type": "stream",
     "text": [
      "Saving plot image to ../images/predictions_BABA.png\n"
     ]
    }
   ],
   "source": [
    "## Save plot graph\n",
    "\n",
    "path_to_save = \"../images/predictions_\" * symbol_to_predict * \".png\"\n",
    "println(\"Saving plot image to \", path_to_save)\n",
    "savefig(path_to_save)"
   ]
  },
  {
   "cell_type": "code",
   "execution_count": 14,
   "metadata": {
    "ExecuteTime": {
     "end_time": "2020-12-15T21:13:56.285000-05:00",
     "start_time": "2020-12-16T02:12:46.558Z"
    }
   },
   "outputs": [
    {
     "name": "stdout",
     "output_type": "stream",
     "text": [
      "BABA 2020-12-15\n",
      "Wed, 2020-12-09\t predicted 268.0\t, but actual value was \t268.0\t difference is 0.0\n",
      "Thu, 2020-12-10\t predicted 266.0\t, but actual value was \t266.0\t difference is 0.0\n",
      "Fri, 2020-12-11\t predicted 266.0\t, but actual value was \t265.0\t difference is 1.0\n",
      "Sat, 2020-12-12\t predicted 254.0\t, but actual value was \t265.0\t difference is -11.0\n",
      "Sun, 2020-12-13\t predicted 249.0\t, but actual value was \t265.0\t difference is -16.0\n",
      "Mon, 2020-12-14\t predicted 244.0\t, but actual value was \t261.0\t difference is -17.0\n",
      "Tue, 2020-12-15\t predicted 231.0\t, but actual value was \t256.0\t difference is -25.0\n",
      "Wed, 2020-12-16\t predicted 218.0\n"
     ]
    }
   ],
   "source": [
    "## print prediction comparisons\n",
    "\n",
    "println(symbol_to_predict, \" \", today())\n",
    "\n",
    "data_original = y_axis_original\n",
    "data_predicted = y_axis_predicted\n",
    "data_all_predicitons = data_to_predict\n",
    "\n",
    "include(\"../Julia/function_print_predictions.jl\")\n",
    "print_predictions(data_to_predict,prediction_results, symbol_to_predict)"
   ]
  },
  {
   "cell_type": "code",
   "execution_count": null,
   "metadata": {},
   "outputs": [],
   "source": []
  }
 ],
 "metadata": {
  "kernelspec": {
   "display_name": "Julia 1.5.1",
   "language": "julia",
   "name": "julia-1.5"
  },
  "language_info": {
   "file_extension": ".jl",
   "mimetype": "application/julia",
   "name": "julia",
   "version": "1.5.1"
  },
  "toc": {
   "base_numbering": 1,
   "nav_menu": {},
   "number_sections": true,
   "sideBar": true,
   "skip_h1_title": true,
   "title_cell": "Table of Contents",
   "title_sidebar": "Contents",
   "toc_cell": true,
   "toc_position": {},
   "toc_section_display": true,
   "toc_window_display": true
  },
  "varInspector": {
   "cols": {
    "lenName": 16,
    "lenType": 16,
    "lenVar": 40
   },
   "kernels_config": {
    "python": {
     "delete_cmd_postfix": "",
     "delete_cmd_prefix": "del ",
     "library": "var_list.py",
     "varRefreshCmd": "print(var_dic_list())"
    },
    "r": {
     "delete_cmd_postfix": ") ",
     "delete_cmd_prefix": "rm(",
     "library": "var_list.r",
     "varRefreshCmd": "cat(var_dic_list()) "
    }
   },
   "types_to_exclude": [
    "module",
    "function",
    "builtin_function_or_method",
    "instance",
    "_Feature"
   ],
   "window_display": false
  }
 },
 "nbformat": 4,
 "nbformat_minor": 4
}
