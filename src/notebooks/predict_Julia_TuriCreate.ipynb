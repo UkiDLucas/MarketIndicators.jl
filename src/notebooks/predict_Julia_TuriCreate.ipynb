{
 "cells": [
  {
   "cell_type": "markdown",
   "metadata": {},
   "source": [
    "# Prediction Model using TuriCreate in Julia"
   ]
  },
  {
   "cell_type": "markdown",
   "metadata": {
    "toc": true
   },
   "source": [
    "<h1>Table of Contents<span class=\"tocSkip\"></span></h1>\n",
    "<div class=\"toc\"><ul class=\"toc-item\"><li><span><a href=\"#Set-Up\" data-toc-modified-id=\"Set-Up-1\"><span class=\"toc-item-num\">1&nbsp;&nbsp;</span>Set Up</a></span></li><li><span><a href=\"#Fetch-Data-(SFrame)-from-Uber-CSV\" data-toc-modified-id=\"Fetch-Data-(SFrame)-from-Uber-CSV-2\"><span class=\"toc-item-num\">2&nbsp;&nbsp;</span>Fetch Data (SFrame) from Uber CSV</a></span></li><li><span><a href=\"#Split-Data\" data-toc-modified-id=\"Split-Data-3\"><span class=\"toc-item-num\">3&nbsp;&nbsp;</span>Split Data</a></span></li><li><span><a href=\"#Evaluate-the-Model\" data-toc-modified-id=\"Evaluate-the-Model-4\"><span class=\"toc-item-num\">4&nbsp;&nbsp;</span>Evaluate the Model</a></span></li><li><span><a href=\"#Save-/-Export-the-Model\" data-toc-modified-id=\"Save-/-Export-the-Model-5\"><span class=\"toc-item-num\">5&nbsp;&nbsp;</span>Save / Export the Model</a></span></li><li><span><a href=\"#Make-predictions\" data-toc-modified-id=\"Make-predictions-6\"><span class=\"toc-item-num\">6&nbsp;&nbsp;</span>Make predictions</a></span><ul class=\"toc-item\"><li><span><a href=\"#Explore-SFrame\" data-toc-modified-id=\"Explore-SFrame-6.1\"><span class=\"toc-item-num\">6.1&nbsp;&nbsp;</span>Explore SFrame</a></span></li></ul></li></ul></div>"
   ]
  },
  {
   "cell_type": "markdown",
   "metadata": {},
   "source": [
    "## Set Up"
   ]
  },
  {
   "cell_type": "code",
   "execution_count": 1,
   "metadata": {
    "ExecuteTime": {
     "end_time": "2020-12-11T20:06:55.184000-05:00",
     "start_time": "2020-12-12T01:06:54.252Z"
    }
   },
   "outputs": [
    {
     "name": "stdout",
     "output_type": "stream",
     "text": [
      "\n"
     ]
    }
   ],
   "source": [
    "symbol_to_predict = \"DJIA\" # - there is a bug\n",
    "# symbol_to_predict = \"AAPL\"\n",
    "#symbol_to_predict = \"VIX\"\n",
    "# symbol_to_predict = \"NIO\"\n",
    "#symbol_to_predict = \"NVDA\"\n",
    "\n",
    "features_to_analyze = \n",
    "[\n",
    "\n",
    " \n",
    "\"GSPC_Quantized\"\n",
    ",\"GSPC_Avg005\"\n",
    ",\"GSPC_Avg030\"\n",
    ",\"GSPC_Avg060\"\n",
    ",\"GSPC_Avg090\"\n",
    ",\"GSPC_Avg120\"\n",
    ",\"GSPC_Avg180\"\n",
    "\n",
    ",\"BTC_USD_Quantized\"\n",
    ",\"BTC_USD_Avg005\"\n",
    ",\"BTC_USD_Avg030\"\n",
    ",\"BTC_USD_Avg060\"\n",
    ",\"BTC_USD_Avg090\"\n",
    ",\"BTC_USD_Avg120\"\n",
    ",\"BTC_USD_Avg180\"\n",
    "\n",
    ",\"DALLAS_FED_MFC_Quantized\"\n",
    ",\"DALLAS_FED_MFC_Avg005\"\n",
    ",\"DALLAS_FED_MFC_Avg030\"\n",
    ",\"DALLAS_FED_MFC_Avg060\"\n",
    ",\"DALLAS_FED_MFC_Avg090\"\n",
    ",\"DALLAS_FED_MFC_Avg120\"\n",
    ",\"DALLAS_FED_MFC_Avg180\"\n",
    " \n",
    ",\"GOLD_Quantized\"\n",
    ",\"GOLD_Avg005\"\n",
    ",\"GOLD_Avg030\"\n",
    ",\"GOLD_Avg060\"\n",
    ",\"GOLD_Avg090\"\n",
    ",\"GOLD_Avg120\"\n",
    ",\"GOLD_Avg180\"\n",
    " \n",
    ",\"GELYF_Quantized\"\n",
    ",\"GELYF_Avg005\"\n",
    ",\"GELYF_Avg030\"\n",
    ",\"GELYF_Avg060\"\n",
    ",\"GELYF_Avg090\"\n",
    ",\"GELYF_Avg120\"\n",
    ",\"GELYF_Avg180\"\n",
    " \n",
    ",\"US_PEND_HOME_SALE_M_Quantized\"\n",
    ",\"US_PEND_HOME_SALE_M_Avg005\"\n",
    ",\"US_PEND_HOME_SALE_M_Avg030\"\n",
    ",\"US_PEND_HOME_SALE_M_Avg060\"\n",
    ",\"US_PEND_HOME_SALE_M_Avg090\"\n",
    ",\"US_PEND_HOME_SALE_M_Avg120\"\n",
    ",\"US_PEND_HOME_SALE_M_Avg180\"\n",
    " \n",
    ",\"TNX_Quantized\"\n",
    ",\"TNX_Avg005\"\n",
    ",\"TNX_Avg030\"\n",
    ",\"TNX_Avg060\"\n",
    ",\"TNX_Avg090\"\n",
    ",\"TNX_Avg120\"\n",
    ",\"TNX_Avg180\"\n",
    " \n",
    ",\"TSLA_Quantized\"\n",
    ",\"TSLA_Avg005\"\n",
    ",\"TSLA_Avg030\"\n",
    ",\"TSLA_Avg060\"\n",
    ",\"TSLA_Avg090\"\n",
    ",\"TSLA_Avg120\"\n",
    ",\"TSLA_Avg180\"\n",
    " \n",
    ",\"US_BUILD_PERM_Quantized\"\n",
    ",\"US_BUILD_PERM_Avg005\"\n",
    ",\"US_BUILD_PERM_Avg030\"\n",
    ",\"US_BUILD_PERM_Avg060\"\n",
    ",\"US_BUILD_PERM_Avg090\"\n",
    ",\"US_BUILD_PERM_Avg120\"\n",
    ",\"US_BUILD_PERM_Avg180\"\n",
    " \n",
    ",\"BYDDF_Quantized\"\n",
    ",\"BYDDF_Avg005\"\n",
    ",\"BYDDF_Avg030\"\n",
    ",\"BYDDF_Avg060\"\n",
    ",\"BYDDF_Avg090\"\n",
    ",\"BYDDF_Avg120\"\n",
    ",\"BYDDF_Avg180\"\n",
    " \n",
    ",\"US_INDS_PROD_M_Quantized\"\n",
    ",\"US_INDS_PROD_M_Avg005\"\n",
    ",\"US_INDS_PROD_M_Avg030\"\n",
    ",\"US_INDS_PROD_M_Avg060\"\n",
    ",\"US_INDS_PROD_M_Avg090\"\n",
    ",\"US_INDS_PROD_M_Avg120\"\n",
    ",\"US_INDS_PROD_M_Avg180\"\n",
    " \n",
    ",\"US_ISM_MFC_EMPL_Quantized\"\n",
    ",\"US_ISM_MFC_EMPL_Avg005\"\n",
    ",\"US_ISM_MFC_EMPL_Avg030\"\n",
    ",\"US_ISM_MFC_EMPL_Avg060\"\n",
    ",\"US_ISM_MFC_EMPL_Avg090\"\n",
    ",\"US_ISM_MFC_EMPL_Avg120\"\n",
    ",\"US_ISM_MFC_EMPL_Avg180\"\n",
    " \n",
    ",\"US_INIT_JOB_CLAIM_Quantized\"\n",
    ",\"US_INIT_JOB_CLAIM_Avg005\"\n",
    ",\"US_INIT_JOB_CLAIM_Avg030\"\n",
    ",\"US_INIT_JOB_CLAIM_Avg060\"\n",
    ",\"US_INIT_JOB_CLAIM_Avg090\"\n",
    ",\"US_INIT_JOB_CLAIM_Avg120\"\n",
    ",\"US_INIT_JOB_CLAIM_Avg180\"\n",
    " \n",
    ",\"US_UNEMPLOY_RATE_Quantized\"\n",
    ",\"US_UNEMPLOY_RATE_Avg005\"\n",
    ",\"US_UNEMPLOY_RATE_Avg030\"\n",
    ",\"US_UNEMPLOY_RATE_Avg060\"\n",
    ",\"US_UNEMPLOY_RATE_Avg090\"\n",
    ",\"US_UNEMPLOY_RATE_Avg120\"\n",
    ",\"US_UNEMPLOY_RATE_Avg180\"\n",
    " \n",
    ",\"NVDA_Quantized\"\n",
    ",\"NVDA_Avg005\"\n",
    ",\"NVDA_Avg030\"\n",
    ",\"NVDA_Avg060\"\n",
    ",\"NVDA_Avg090\"\n",
    ",\"NVDA_Avg120\"\n",
    ",\"NVDA_Avg180\"\n",
    " \n",
    ",\"NRMGX_Quantized\"\n",
    ",\"NRMGX_Avg005\"\n",
    ",\"NRMGX_Avg030\"\n",
    ",\"NRMGX_Avg060\"\n",
    ",\"NRMGX_Avg090\"\n",
    ",\"NRMGX_Avg120\"\n",
    ",\"NRMGX_Avg180\"\n",
    " \n",
    ",\"US_HOUS_STRS_M_Quantized\"\n",
    ",\"US_HOUS_STRS_M_Avg005\"\n",
    ",\"US_HOUS_STRS_M_Avg030\"\n",
    ",\"US_HOUS_STRS_M_Avg060\"\n",
    ",\"US_HOUS_STRS_M_Avg090\"\n",
    ",\"US_HOUS_STRS_M_Avg120\"\n",
    ",\"US_HOUS_STRS_M_Avg180\"\n",
    " \n",
    ",\"HD_Quantized\"\n",
    ",\"HD_Avg005\"\n",
    ",\"HD_Avg030\"\n",
    ",\"HD_Avg060\"\n",
    ",\"HD_Avg090\"\n",
    ",\"HD_Avg120\"\n",
    ",\"HD_Avg180\"\n",
    " \n",
    ",\"US_GDP_Q_Quantized\"\n",
    ",\"US_GDP_Q_Avg005\"\n",
    ",\"US_GDP_Q_Avg030\"\n",
    ",\"US_GDP_Q_Avg060\"\n",
    ",\"US_GDP_Q_Avg090\"\n",
    ",\"US_GDP_Q_Avg120\"\n",
    ",\"US_GDP_Q_Avg180\"\n",
    " \n",
    ",\"LI_Quantized\"\n",
    ",\"LI_Avg005\"\n",
    ",\"LI_Avg030\"\n",
    ",\"LI_Avg060\"\n",
    ",\"LI_Avg090\"\n",
    ",\"LI_Avg120\"\n",
    ",\"LI_Avg180\"\n",
    " \n",
    ",\"VIX_Quantized\"\n",
    ",\"VIX_Avg005\"\n",
    ",\"VIX_Avg030\"\n",
    ",\"VIX_Avg060\"\n",
    ",\"VIX_Avg090\"\n",
    ",\"VIX_Avg120\"\n",
    ",\"VIX_Avg180\"\n",
    " \n",
    ",\"TPLGX_Quantized\"\n",
    ",\"TPLGX_Avg005\"\n",
    ",\"TPLGX_Avg030\"\n",
    ",\"TPLGX_Avg060\"\n",
    ",\"TPLGX_Avg090\"\n",
    ",\"TPLGX_Avg120\"\n",
    ",\"TPLGX_Avg180\"\n",
    " \n",
    ",\"US_ISM_MFC_PMI_Quantized\"\n",
    ",\"US_ISM_MFC_PMI_Avg005\"\n",
    ",\"US_ISM_MFC_PMI_Avg030\"\n",
    ",\"US_ISM_MFC_PMI_Avg060\"\n",
    ",\"US_ISM_MFC_PMI_Avg090\"\n",
    ",\"US_ISM_MFC_PMI_Avg120\"\n",
    ",\"US_ISM_MFC_PMI_Avg180\"\n",
    " \n",
    ",\"VINIX_Quantized\"\n",
    ",\"VINIX_Avg005\"\n",
    ",\"VINIX_Avg030\"\n",
    ",\"VINIX_Avg060\"\n",
    ",\"VINIX_Avg090\"\n",
    ",\"VINIX_Avg120\"\n",
    ",\"VINIX_Avg180\"\n",
    " \n",
    ",\"NIO_Quantized\"\n",
    ",\"NIO_Avg005\"\n",
    ",\"NIO_Avg030\"\n",
    ",\"NIO_Avg060\"\n",
    ",\"NIO_Avg090\"\n",
    ",\"NIO_Avg120\"\n",
    ",\"NIO_Avg180\"\n",
    " \n",
    ",\"VBTLX_Quantized\"\n",
    ",\"VBTLX_Avg005\"\n",
    ",\"VBTLX_Avg030\"\n",
    ",\"VBTLX_Avg060\"\n",
    ",\"VBTLX_Avg090\"\n",
    ",\"VBTLX_Avg120\"\n",
    ",\"VBTLX_Avg180\"\n",
    " \n",
    ",\"RERGX_Quantized\"\n",
    ",\"RERGX_Avg005\"\n",
    ",\"RERGX_Avg030\"\n",
    ",\"RERGX_Avg060\"\n",
    ",\"RERGX_Avg090\"\n",
    ",\"RERGX_Avg120\"\n",
    ",\"RERGX_Avg180\"\n",
    " \n",
    ",\"CRSP_Quantized\"\n",
    ",\"CRSP_Avg005\"\n",
    ",\"CRSP_Avg030\"\n",
    ",\"CRSP_Avg060\"\n",
    ",\"CRSP_Avg090\"\n",
    ",\"CRSP_Avg120\"\n",
    ",\"CRSP_Avg180\"\n",
    " \n",
    ",\"BABA_Quantized\"\n",
    ",\"BABA_Avg005\"\n",
    ",\"BABA_Avg030\"\n",
    ",\"BABA_Avg060\"\n",
    ",\"BABA_Avg090\"\n",
    ",\"BABA_Avg120\"\n",
    ",\"BABA_Avg180\"\n",
    " \n",
    ",\"RIDE_Quantized\"\n",
    ",\"RIDE_Avg005\"\n",
    ",\"RIDE_Avg030\"\n",
    ",\"RIDE_Avg060\"\n",
    ",\"RIDE_Avg090\"\n",
    ",\"RIDE_Avg120\"\n",
    ",\"RIDE_Avg180\"\n",
    " \n",
    ",\"DJIA_Quantized\"\n",
    ",\"DJIA_Avg005\"\n",
    ",\"DJIA_Avg030\"\n",
    ",\"DJIA_Avg060\"\n",
    ",\"DJIA_Avg090\"\n",
    ",\"DJIA_Avg120\"\n",
    ",\"DJIA_Avg180\"\n",
    " \n",
    ",\"AAPL_Quantized\"\n",
    ",\"AAPL_Avg005\"\n",
    ",\"AAPL_Avg030\"\n",
    ",\"AAPL_Avg060\"\n",
    ",\"AAPL_Avg090\"\n",
    ",\"AAPL_Avg120\"\n",
    ",\"AAPL_Avg180\"\n",
    " \n",
    "    \n",
    "]\n",
    "\n",
    "println()"
   ]
  },
  {
   "cell_type": "code",
   "execution_count": 2,
   "metadata": {
    "ExecuteTime": {
     "end_time": "2020-12-11T20:07:00.225000-05:00",
     "start_time": "2020-12-12T01:06:54.257Z"
    }
   },
   "outputs": [
    {
     "name": "stdout",
     "output_type": "stream",
     "text": [
      "\n"
     ]
    },
    {
     "data": {
      "text/plain": [
       "\"DJIA_Original\""
      ]
     },
     "execution_count": 2,
     "metadata": {},
     "output_type": "execute_result"
    }
   ],
   "source": [
    "## uncomment for the first run\n",
    "# import Pkg\n",
    "# Pkg.add(\"PyCall\")\n",
    "# Pkg.add(\"Conda\")\n",
    "# ENV[\"PYTHON\"] = \"/opt/anaconda3/envs/turi/bin/python\"\n",
    "# /opt/anaconda3/envs/turi/lib/python3.6/site-packages/\n",
    "# Pkg.build(\"PyCall\")\n",
    "\n",
    "include(\"../Julia/functions.jl\") \n",
    "data_path=\"../DATA/processed/uber_training.csv\"\n",
    "column_to_predict = symbol_to_predict * \"_Original\""
   ]
  },
  {
   "cell_type": "markdown",
   "metadata": {},
   "source": [
    "## Fetch Data (SFrame) from Uber CSV"
   ]
  },
  {
   "cell_type": "code",
   "execution_count": 3,
   "metadata": {
    "ExecuteTime": {
     "end_time": "2020-12-11T20:07:05.211000-05:00",
     "start_time": "2020-12-12T01:06:54.260Z"
    }
   },
   "outputs": [
    {
     "name": "stdout",
     "output_type": "stream",
     "text": [
      "Finished parsing file /Users/uki/REPOS/MarketIndicators.jl/src/DATA/processed/uber_training.csv\n",
      "Parsing completed. Parsed 100 lines in 0.034606 secs.\n",
      "------------------------------------------------------\n",
      "Inferred types from first 100 line(s) of file as \n",
      "column_type_hints=[int,str,float,float,float,float,float,float,float,float,float,float,float,float,float,float,float,float,float,float,float,float,float,float,float,float,float,float,float,float,float,float,float,float,float,float,float,float,float,float,float,float,float,float,float,float,float,float,float,float,float,float,float,float,float,float,float,float,float,float,float,float,float,float,float,float,float,float,float,float,float,float,float,float,float,float,float,float,float,float,float,float,float,float,float,float,float,float,float,float,float,float,float,float,float,float,float,float,float,float,float,float,float,float,float,float,float,float,float,float,float,float,float,float,float,float,float,float,float,float,float,float,float,float,float,float,float,float,float,float,float,float,float,float,float,float,float,float,float,float,float,float,float,float,float,float,float,float,float,float,float,float,float,float,float,float,float,float,float,float,float,float,float,float,float,float,float,float,float,float,float,float,float,float,float,float,float,float,float,float,float,float,float,float,float,float,float,float,float,float,float,float,float,float,float,float,float,float,float,float,float,float,float,float,float,float,float,float,float,float,float,float,float,float,float,float,float,float,float,float,float,float,float,float,float,float,float,float,float,float,float,float,float,float,float,float,float,float,float,float,float,float,float,float,float,float,float,float,float,float,float,float,float,float,float,float,float,float]\n",
      "If parsing fails due to incorrect types, you can correct\n",
      "the inferred type list above and pass it to read_csv in\n",
      "the column_type_hints argument\n",
      "------------------------------------------------------\n",
      "Finished parsing file /Users/uki/REPOS/MarketIndicators.jl/src/DATA/processed/uber_training.csv\n",
      "Parsing completed. Parsed 135 lines in 0.008349 secs.\n",
      "\n"
     ]
    }
   ],
   "source": [
    "using PyCall\n",
    "tc = pyimport(\"turicreate\")\n",
    "data = tc.SFrame(data_path)\n",
    "println()"
   ]
  },
  {
   "cell_type": "markdown",
   "metadata": {},
   "source": [
    "## Split Data"
   ]
  },
  {
   "cell_type": "code",
   "execution_count": 4,
   "metadata": {
    "ExecuteTime": {
     "end_time": "2020-12-11T20:07:05.862000-05:00",
     "start_time": "2020-12-12T01:06:54.264Z"
    }
   },
   "outputs": [
    {
     "name": "stdout",
     "output_type": "stream",
     "text": [
      "(112,)\n",
      "(23,)\n"
     ]
    }
   ],
   "source": [
    "# Make a train-test split\n",
    "train_data, test_data = data.random_split(0.8)\n",
    "\n",
    "println( size(train_data) )\n",
    "println( size(test_data)  )"
   ]
  },
  {
   "cell_type": "code",
   "execution_count": 5,
   "metadata": {
    "ExecuteTime": {
     "end_time": "2020-12-11T20:07:08.525000-05:00",
     "start_time": "2020-12-12T01:06:54.267Z"
    }
   },
   "outputs": [
    {
     "name": "stdout",
     "output_type": "stream",
     "text": [
      "Automatically generating validation set from 10% of the data.\n",
      "Linear regression:\n",
      "--------------------------------------------------------\n",
      "Number of examples          : 101\n",
      "Number of features          : 224\n",
      "Number of unpacked features : 224\n",
      "Number of coefficients    : 225\n",
      "Starting Newton Method\n",
      "--------------------------------------------------------\n",
      "+-----------+----------+--------------+--------------------+----------------------+---------------------------------+-----------------------------------+\n",
      "| Iteration | Passes   | Elapsed Time | Training Max Error | Validation Max Error | Training Root-Mean-Square Error | Validation Root-Mean-Square Error |\n",
      "+-----------+----------+--------------+--------------------+----------------------+---------------------------------+-----------------------------------+\n",
      "| 1         | 2        | 1.022233     | 124.342245         | 138.658789           | 40.424678                       | 86.958051                         |\n",
      "+-----------+----------+--------------+--------------------+----------------------+---------------------------------+-----------------------------------+\n",
      "SUCCESS: Optimal solution found.\n",
      "\n"
     ]
    },
    {
     "data": {
      "text/plain": [
       "PyObject Class                          : LinearRegression\n",
       "\n",
       "Schema\n",
       "------\n",
       "Number of coefficients         : 225\n",
       "Number of examples             : 101\n",
       "Number of feature columns      : 224\n",
       "Number of unpacked features    : 224\n",
       "\n",
       "Hyperparameters\n",
       "---------------\n",
       "L1 penalty                     : 0\n",
       "L2 penalty                     : 0.01\n",
       "\n",
       "Training Summary\n",
       "----------------\n",
       "Solver                         : newton\n",
       "Solver iterations              : 1\n",
       "Solver status                  : SUCCESS: Optimal solution found.\n",
       "Training time (sec)            : 1.0273\n",
       "\n",
       "Settings\n",
       "--------\n",
       "Residual sum of squares        : 165049.6131\n",
       "Training RMSE                  : 40.4247\n",
       "\n",
       "Highest Positive Coefficients\n",
       "-----------------------------\n",
       "(intercept)                    : 17959.9167\n",
       "DJIA_Quantized                 : 38.2637\n",
       "GELYF_Avg060                   : 26.0822\n",
       "GSPC_Quantized                 : 22.7372\n",
       "US_UNEMPLOY_RATE_Avg180        : 14.1153\n",
       "\n",
       "Lowest Negative Coefficients\n",
       "----------------------------\n",
       "US_PEND_HOME_SALE_M_Avg120     : -18.4308\n",
       "GELYF_Avg005                   : -17.5997\n",
       "NRMGX_Quantized                : -14.4555\n",
       "TSLA_Avg030                    : -12.8479\n",
       "US_PEND_HOME_SALE_M_Avg090     : -12.4912\n"
      ]
     },
     "execution_count": 5,
     "metadata": {},
     "output_type": "execute_result"
    }
   ],
   "source": [
    "model = tc.regression.create( \n",
    "    train_data, \n",
    "    target = column_to_predict, \n",
    "    features = features_to_analyze, \n",
    "    validation_set=\"auto\", \n",
    "    verbose=true\n",
    ")"
   ]
  },
  {
   "cell_type": "markdown",
   "metadata": {},
   "source": [
    "## Evaluate the Model"
   ]
  },
  {
   "cell_type": "code",
   "execution_count": 6,
   "metadata": {
    "ExecuteTime": {
     "end_time": "2020-12-11T20:07:09.888000-05:00",
     "start_time": "2020-12-12T01:06:54.271Z"
    }
   },
   "outputs": [
    {
     "data": {
      "text/plain": [
       "Dict{Any,Any} with 2 entries:\n",
       "  \"rmse\"      => 77.5046\n",
       "  \"max_error\" => 170.76"
      ]
     },
     "execution_count": 6,
     "metadata": {},
     "output_type": "execute_result"
    }
   ],
   "source": [
    "#TODO: write this in a loop to select the best model\n",
    "# Evaluate the model and save the results into a dictionary\n",
    "results = model.evaluate( test_data ) #test_data[0:2531]\n",
    "results"
   ]
  },
  {
   "cell_type": "code",
   "execution_count": 7,
   "metadata": {
    "ExecuteTime": {
     "end_time": "2020-12-11T20:07:10.063000-05:00",
     "start_time": "2020-12-12T01:06:54.274Z"
    }
   },
   "outputs": [
    {
     "name": "stdout",
     "output_type": "stream",
     "text": [
      "max_error: 170.76, rmse: 77.5\n"
     ]
    }
   ],
   "source": [
    "rmse = results[\"rmse\"]\n",
    "rmse = round(rmse, digits=2)\n",
    "\n",
    "max_error = results[\"max_error\"]\n",
    "max_error = round(max_error, digits=2)\n",
    "\n",
    "println( \"max_error: \", max_error, \", rmse: \", rmse )\n",
    "# max_error: 1069.27, rmse: 184.6\n",
    "# max_error: 65.35, rmse: 32.6            predict: ^DJIA added: US_INIT_JOBLESS\n",
    "# max_error: 1875.39, rmse: 443.59        predict: ^DJIA commented out: \"DJIA_Quantized\"\n",
    "# max_error: 1339.76, rmse: 373.94        predict: ^DJIA commented out: \"DJIA_Quantized\"\n",
    "# max_error: 916.19, rmse: 231.24       predict: ^DJIA with \"DJIA_Avg005\""
   ]
  },
  {
   "cell_type": "markdown",
   "metadata": {},
   "source": [
    "## Save / Export the Model"
   ]
  },
  {
   "cell_type": "code",
   "execution_count": 8,
   "metadata": {
    "ExecuteTime": {
     "end_time": "2020-12-11T20:07:10.091000-05:00",
     "start_time": "2020-12-12T01:06:54.278Z"
    }
   },
   "outputs": [],
   "source": [
    "# Export to Core ML\n",
    "model.export_coreml(\"../DATA/models/^DJI.mlmodel\")"
   ]
  },
  {
   "cell_type": "markdown",
   "metadata": {},
   "source": [
    "## Make predictions "
   ]
  },
  {
   "cell_type": "code",
   "execution_count": 9,
   "metadata": {
    "ExecuteTime": {
     "end_time": "2020-12-11T20:07:10.301000-05:00",
     "start_time": "2020-12-12T01:06:54.281Z"
    }
   },
   "outputs": [
    {
     "name": "stdout",
     "output_type": "stream",
     "text": [
      "Finished parsing file /Users/uki/REPOS/MarketIndicators.jl/src/DATA/processed/uber_prediction.csv\n",
      "Parsing completed. Parsed 93 lines in 0.035032 secs.\n",
      "------------------------------------------------------\n",
      "Inferred types from first 100 line(s) of file as \n",
      "column_type_hints=[int,str,float,float,float,float,float,float,float,float,float,float,float,float,float,float,float,float,float,float,float,float,float,float,float,float,float,float,float,float,float,float,float,float,float,float,float,float,float,float,float,float,float,float,float,float,float,float,float,float,float,float,float,float,float,float,float,float,float,float,float,float,float,float,float,float,float,float,float,float,float,float,float,float,float,float,float,float,float,float,float,float,float,float,float,float,float,float,float,float,float,float,float,float,float,float,float,float,float,float,float,float,float,float,float,float,float,float,float,float,float,float,float,float,float,float,float,float,float,float,float,float,float,float,float,float,float,float,float,float,float,float,float,float,float,float,float,float,float,float,float,float,float,float,float,float,float,float,float,float,float,float,float,float,float,float,float,float,float,float,float,float,float,float,float,float,float,float,float,float,float,float,float,float,float,float,float,float,float,float,float,float,float,float,float,float,float,float,float,float,float,float,float,float,float,float,float,float,float,float,float,float,float,float,float,float,float,float,float,float,float,float,float,float,float,float,float,float,float,float,float,float,float,float,float,float,float,float,float,float,float,float,float,float,float,float,float,float,float,float,float,float,float,float,float,float,float,float,float,float,float,float,float,float,float,float,float,float]\n",
      "If parsing fails due to incorrect types, you can correct\n",
      "the inferred type list above and pass it to read_csv in\n",
      "the column_type_hints argument\n",
      "------------------------------------------------------\n",
      "Finished parsing file /Users/uki/REPOS/MarketIndicators.jl/src/DATA/processed/uber_prediction.csv\n",
      "Parsing completed. Parsed 93 lines in 0.009861 secs.\n",
      "\n"
     ]
    }
   ],
   "source": [
    "data_path=\"../DATA/processed/uber_prediction.csv\"\n",
    "data_predictions = tc.SFrame(data_path)\n",
    "\n",
    "## Save predictions to an SArray\n",
    "predictions = model.predict(data_predictions)\n",
    "#get(predictions, 1)\n",
    "\n",
    "println()"
   ]
  },
  {
   "cell_type": "markdown",
   "metadata": {},
   "source": [
    "### Explore SFrame"
   ]
  },
  {
   "cell_type": "code",
   "execution_count": 10,
   "metadata": {
    "ExecuteTime": {
     "end_time": "2020-12-11T20:07:10.527000-05:00",
     "start_time": "2020-12-12T01:06:54.285Z"
    }
   },
   "outputs": [
    {
     "name": "stdout",
     "output_type": "stream",
     "text": [
      "record_count data 93\n",
      "record_count predictions 93\n",
      "feature_number 258\n",
      "Rata Die 737772\n",
      "date 2020-12-13\n",
      "original 30071.130859\n"
     ]
    }
   ],
   "source": [
    "record_count = size(data_predictions)[1]\n",
    "row = get(data_predictions, record_count-1)\n",
    "\n",
    "feature_number = row.count\n",
    "day = row[\"Rata_Die\"]\n",
    "date = row[\"Date\"] # \"2020-10-20\"\n",
    "original = row[\"DJIA_Original\"]\n",
    "\n",
    "println( \"record_count data \", record_count )\n",
    "println( \"record_count predictions \", size(predictions)[1] )\n",
    "\n",
    "println( \"feature_number \", feature_number )\n",
    "println( \"Rata Die \", day )\n",
    "println( \"date \", date )\n",
    "println( \"original \", original )"
   ]
  },
  {
   "cell_type": "code",
   "execution_count": 11,
   "metadata": {
    "ExecuteTime": {
     "end_time": "2020-12-11T20:07:13.597000-05:00",
     "start_time": "2020-12-12T01:06:54.288Z"
    }
   },
   "outputs": [
    {
     "name": "stdout",
     "output_type": "stream",
     "text": [
      "preditions set size: 92, step 5\n",
      "DJIA 92 Array{Date,1}\n",
      "t Dec. 11, 2020 String\n",
      "\n"
     ]
    }
   ],
   "source": [
    "using Dates\n",
    "today_rata = Dates.datetime2rata( today() )\n",
    "\n",
    "## Determine dataset size\n",
    "\n",
    "initio = 1                                              # latin: start\n",
    "finem  = size(predictions)[1] -1                        # latin: end\n",
    "gradus = convert(Int64, round( finem/20, digits=0)  )   # latin: step\n",
    "\n",
    "println(\"preditions set size: \", finem, \", step \", gradus)\n",
    "\n",
    "\n",
    "## Declare variables\n",
    "x_axis_dates      = Vector{Date}() # results in Array{Date,1}\n",
    "y_axis_original   = Vector{Float64}()\n",
    "y_axis_predicted  = Vector{Float64}()\n",
    "\n",
    "println(symbol_to_predict, \" \", finem, \" \", typeof(x_axis_dates))\n",
    "\n",
    "today_id  = 50 # not set yet\n",
    "\n",
    "## step thru each prediction\n",
    "for id in initio:finem\n",
    "    row = get(data_predictions, id) # get a dictionary of data from the SFrame\n",
    "    \n",
    "    date_string = row[\"Date\"] # e.g. \"2020-10-20\"\n",
    "    date = Date(date_string) # 2020-09-07 Date\n",
    "    if date == today()\n",
    "        today_id = id\n",
    "    end \n",
    "    #date = Dates.format(date, \"u.d,yy\" )\n",
    "    #println(\"date \", date, \" \", typeof(date))\n",
    "    push!(x_axis_dates, date)\n",
    "    \n",
    "    predicted = get(predictions, id) # Float64\n",
    "    predicted = round(predicted, digits=0)\n",
    "    #println(\"predicted \", predicted, \" \", typeof(predicted))\n",
    "    append!(y_axis_predicted, predicted)\n",
    "    \n",
    "    \n",
    "    original = row[ column_to_predict ]\n",
    "    original = round(original, digits=0) # Float64\n",
    "    #println(\"original \", original, \" \", typeof(original)) \n",
    "    append!(y_axis_original, original)\n",
    "end\n",
    "\n",
    "## Format Dates for plotting\n",
    "include(\"../Julia/function_format_dates.jl\")\n",
    "x_axis_dates = format_dates(x_axis_dates, \"u. d, yy\")\n",
    "\n",
    "\n",
    "\n",
    "t = today()# Date\n",
    "t = format_dates([t], \"u. d, yyyy\") # Array{String,1}\n",
    "t = t[1] # String\n",
    "println(\"t \", t, \" \", typeof(t))\n",
    "\n",
    "println()"
   ]
  },
  {
   "cell_type": "code",
   "execution_count": 12,
   "metadata": {
    "ExecuteTime": {
     "end_time": "2020-12-11T20:08:01.597000-05:00",
     "start_time": "2020-12-12T01:06:54.294Z"
    }
   },
   "outputs": [
    {
     "data": {
      "image/svg+xml": [
       "<?xml version=\"1.0\" encoding=\"utf-8\"?>\n",
       "<svg xmlns=\"http://www.w3.org/2000/svg\" xmlns:xlink=\"http://www.w3.org/1999/xlink\" width=\"980\" height=\"400\" viewBox=\"0 0 3920 1600\">\n",
       "<defs>\n",
       "  <clipPath id=\"clip7300\">\n",
       "    <rect x=\"0\" y=\"0\" width=\"3920\" height=\"1600\"/>\n",
       "  </clipPath>\n",
       "</defs>\n",
       "<path clip-path=\"url(#clip7300)\" d=\"\n",
       "M0 1600 L3920 1600 L3920 0 L0 0  Z\n",
       "  \" fill=\"#ffffff\" fill-rule=\"evenodd\" fill-opacity=\"1\"/>\n",
       "<defs>\n",
       "  <clipPath id=\"clip7301\">\n",
       "    <rect x=\"784\" y=\"0\" width=\"2745\" height=\"1600\"/>\n",
       "  </clipPath>\n",
       "</defs>\n",
       "<path clip-path=\"url(#clip7300)\" d=\"\n",
       "M281.07 1423.18 L3872.76 1423.18 L3872.76 47.2441 L281.07 47.2441  Z\n",
       "  \" fill=\"#ffffff\" fill-rule=\"evenodd\" fill-opacity=\"1\"/>\n",
       "<defs>\n",
       "  <clipPath id=\"clip7302\">\n",
       "    <rect x=\"281\" y=\"47\" width=\"3593\" height=\"1377\"/>\n",
       "  </clipPath>\n",
       "</defs>\n",
       "<polyline clip-path=\"url(#clip7302)\" style=\"stroke:#000000; stroke-width:2; stroke-opacity:0.1; fill:none\" points=\"\n",
       "  382.721,1423.18 382.721,47.2441 \n",
       "  \"/>\n",
       "<polyline clip-path=\"url(#clip7302)\" style=\"stroke:#000000; stroke-width:2; stroke-opacity:0.1; fill:none\" points=\"\n",
       "  643.366,1423.18 643.366,47.2441 \n",
       "  \"/>\n",
       "<polyline clip-path=\"url(#clip7302)\" style=\"stroke:#000000; stroke-width:2; stroke-opacity:0.1; fill:none\" points=\"\n",
       "  866.776,1423.18 866.776,47.2441 \n",
       "  \"/>\n",
       "<polyline clip-path=\"url(#clip7302)\" style=\"stroke:#000000; stroke-width:2; stroke-opacity:0.1; fill:none\" points=\"\n",
       "  1090.19,1423.18 1090.19,47.2441 \n",
       "  \"/>\n",
       "<polyline clip-path=\"url(#clip7302)\" style=\"stroke:#000000; stroke-width:2; stroke-opacity:0.1; fill:none\" points=\"\n",
       "  1350.83,1423.18 1350.83,47.2441 \n",
       "  \"/>\n",
       "<polyline clip-path=\"url(#clip7302)\" style=\"stroke:#000000; stroke-width:2; stroke-opacity:0.1; fill:none\" points=\"\n",
       "  1611.48,1423.18 1611.48,47.2441 \n",
       "  \"/>\n",
       "<polyline clip-path=\"url(#clip7302)\" style=\"stroke:#000000; stroke-width:2; stroke-opacity:0.1; fill:none\" points=\"\n",
       "  1834.89,1423.18 1834.89,47.2441 \n",
       "  \"/>\n",
       "<polyline clip-path=\"url(#clip7302)\" style=\"stroke:#000000; stroke-width:2; stroke-opacity:0.1; fill:none\" points=\"\n",
       "  2058.3,1423.18 2058.3,47.2441 \n",
       "  \"/>\n",
       "<polyline clip-path=\"url(#clip7302)\" style=\"stroke:#000000; stroke-width:2; stroke-opacity:0.1; fill:none\" points=\"\n",
       "  2318.94,1423.18 2318.94,47.2441 \n",
       "  \"/>\n",
       "<polyline clip-path=\"url(#clip7302)\" style=\"stroke:#000000; stroke-width:2; stroke-opacity:0.1; fill:none\" points=\"\n",
       "  2579.59,1423.18 2579.59,47.2441 \n",
       "  \"/>\n",
       "<polyline clip-path=\"url(#clip7302)\" style=\"stroke:#000000; stroke-width:2; stroke-opacity:0.1; fill:none\" points=\"\n",
       "  2802.99,1423.18 2802.99,47.2441 \n",
       "  \"/>\n",
       "<polyline clip-path=\"url(#clip7302)\" style=\"stroke:#000000; stroke-width:2; stroke-opacity:0.1; fill:none\" points=\"\n",
       "  3026.4,1423.18 3026.4,47.2441 \n",
       "  \"/>\n",
       "<polyline clip-path=\"url(#clip7302)\" style=\"stroke:#000000; stroke-width:2; stroke-opacity:0.1; fill:none\" points=\"\n",
       "  3287.05,1423.18 3287.05,47.2441 \n",
       "  \"/>\n",
       "<polyline clip-path=\"url(#clip7302)\" style=\"stroke:#000000; stroke-width:2; stroke-opacity:0.1; fill:none\" points=\"\n",
       "  3547.69,1423.18 3547.69,47.2441 \n",
       "  \"/>\n",
       "<polyline clip-path=\"url(#clip7302)\" style=\"stroke:#000000; stroke-width:2; stroke-opacity:0.1; fill:none\" points=\"\n",
       "  3771.1,1423.18 3771.1,47.2441 \n",
       "  \"/>\n",
       "<polyline clip-path=\"url(#clip7302)\" style=\"stroke:#000000; stroke-width:2; stroke-opacity:0.1; fill:none\" points=\"\n",
       "  281.07,1251.65 3872.76,1251.65 \n",
       "  \"/>\n",
       "<polyline clip-path=\"url(#clip7302)\" style=\"stroke:#000000; stroke-width:2; stroke-opacity:0.1; fill:none\" points=\"\n",
       "  281.07,911.663 3872.76,911.663 \n",
       "  \"/>\n",
       "<polyline clip-path=\"url(#clip7302)\" style=\"stroke:#000000; stroke-width:2; stroke-opacity:0.1; fill:none\" points=\"\n",
       "  281.07,571.68 3872.76,571.68 \n",
       "  \"/>\n",
       "<polyline clip-path=\"url(#clip7302)\" style=\"stroke:#000000; stroke-width:2; stroke-opacity:0.1; fill:none\" points=\"\n",
       "  281.07,231.698 3872.76,231.698 \n",
       "  \"/>\n",
       "<polyline clip-path=\"url(#clip7300)\" style=\"stroke:#000000; stroke-width:4; stroke-opacity:1; fill:none\" points=\"\n",
       "  281.07,1423.18 3872.76,1423.18 \n",
       "  \"/>\n",
       "<polyline clip-path=\"url(#clip7300)\" style=\"stroke:#000000; stroke-width:4; stroke-opacity:1; fill:none\" points=\"\n",
       "  281.07,1423.18 281.07,47.2441 \n",
       "  \"/>\n",
       "<polyline clip-path=\"url(#clip7300)\" style=\"stroke:#000000; stroke-width:4; stroke-opacity:1; fill:none\" points=\"\n",
       "  382.721,1423.18 382.721,1406.67 \n",
       "  \"/>\n",
       "<polyline clip-path=\"url(#clip7300)\" style=\"stroke:#000000; stroke-width:4; stroke-opacity:1; fill:none\" points=\"\n",
       "  643.366,1423.18 643.366,1406.67 \n",
       "  \"/>\n",
       "<polyline clip-path=\"url(#clip7300)\" style=\"stroke:#000000; stroke-width:4; stroke-opacity:1; fill:none\" points=\"\n",
       "  866.776,1423.18 866.776,1406.67 \n",
       "  \"/>\n",
       "<polyline clip-path=\"url(#clip7300)\" style=\"stroke:#000000; stroke-width:4; stroke-opacity:1; fill:none\" points=\"\n",
       "  1090.19,1423.18 1090.19,1406.67 \n",
       "  \"/>\n",
       "<polyline clip-path=\"url(#clip7300)\" style=\"stroke:#000000; stroke-width:4; stroke-opacity:1; fill:none\" points=\"\n",
       "  1350.83,1423.18 1350.83,1406.67 \n",
       "  \"/>\n",
       "<polyline clip-path=\"url(#clip7300)\" style=\"stroke:#000000; stroke-width:4; stroke-opacity:1; fill:none\" points=\"\n",
       "  1611.48,1423.18 1611.48,1406.67 \n",
       "  \"/>\n",
       "<polyline clip-path=\"url(#clip7300)\" style=\"stroke:#000000; stroke-width:4; stroke-opacity:1; fill:none\" points=\"\n",
       "  1834.89,1423.18 1834.89,1406.67 \n",
       "  \"/>\n",
       "<polyline clip-path=\"url(#clip7300)\" style=\"stroke:#000000; stroke-width:4; stroke-opacity:1; fill:none\" points=\"\n",
       "  2058.3,1423.18 2058.3,1406.67 \n",
       "  \"/>\n",
       "<polyline clip-path=\"url(#clip7300)\" style=\"stroke:#000000; stroke-width:4; stroke-opacity:1; fill:none\" points=\"\n",
       "  2318.94,1423.18 2318.94,1406.67 \n",
       "  \"/>\n",
       "<polyline clip-path=\"url(#clip7300)\" style=\"stroke:#000000; stroke-width:4; stroke-opacity:1; fill:none\" points=\"\n",
       "  2579.59,1423.18 2579.59,1406.67 \n",
       "  \"/>\n",
       "<polyline clip-path=\"url(#clip7300)\" style=\"stroke:#000000; stroke-width:4; stroke-opacity:1; fill:none\" points=\"\n",
       "  2802.99,1423.18 2802.99,1406.67 \n",
       "  \"/>\n",
       "<polyline clip-path=\"url(#clip7300)\" style=\"stroke:#000000; stroke-width:4; stroke-opacity:1; fill:none\" points=\"\n",
       "  3026.4,1423.18 3026.4,1406.67 \n",
       "  \"/>\n",
       "<polyline clip-path=\"url(#clip7300)\" style=\"stroke:#000000; stroke-width:4; stroke-opacity:1; fill:none\" points=\"\n",
       "  3287.05,1423.18 3287.05,1406.67 \n",
       "  \"/>\n",
       "<polyline clip-path=\"url(#clip7300)\" style=\"stroke:#000000; stroke-width:4; stroke-opacity:1; fill:none\" points=\"\n",
       "  3547.69,1423.18 3547.69,1406.67 \n",
       "  \"/>\n",
       "<polyline clip-path=\"url(#clip7300)\" style=\"stroke:#000000; stroke-width:4; stroke-opacity:1; fill:none\" points=\"\n",
       "  3771.1,1423.18 3771.1,1406.67 \n",
       "  \"/>\n",
       "<polyline clip-path=\"url(#clip7300)\" style=\"stroke:#000000; stroke-width:4; stroke-opacity:1; fill:none\" points=\"\n",
       "  281.07,1251.65 324.17,1251.65 \n",
       "  \"/>\n",
       "<polyline clip-path=\"url(#clip7300)\" style=\"stroke:#000000; stroke-width:4; stroke-opacity:1; fill:none\" points=\"\n",
       "  281.07,911.663 324.17,911.663 \n",
       "  \"/>\n",
       "<polyline clip-path=\"url(#clip7300)\" style=\"stroke:#000000; stroke-width:4; stroke-opacity:1; fill:none\" points=\"\n",
       "  281.07,571.68 324.17,571.68 \n",
       "  \"/>\n",
       "<polyline clip-path=\"url(#clip7300)\" style=\"stroke:#000000; stroke-width:4; stroke-opacity:1; fill:none\" points=\"\n",
       "  281.07,231.698 324.17,231.698 \n",
       "  \"/>\n",
       "<path clip-path=\"url(#clip7300)\" d=\"M 0 0 M288.173 1450.83 L288.173 1455.39 Q285.511 1454.11 283.15 1453.49 Q280.789 1452.86 278.59 1452.86 Q274.77 1452.86 272.687 1454.34 Q270.627 1455.83 270.627 1458.56 Q270.627 1460.85 271.993 1462.03 Q273.381 1463.19 277.224 1463.9 L280.048 1464.48 Q285.28 1465.48 287.756 1468 Q290.256 1470.5 290.256 1474.71 Q290.256 1479.74 286.877 1482.33 Q283.52 1484.92 277.016 1484.92 Q274.562 1484.92 271.784 1484.37 Q269.03 1483.81 266.067 1482.72 L266.067 1477.91 Q268.914 1479.51 271.645 1480.32 Q274.377 1481.13 277.016 1481.13 Q281.02 1481.13 283.196 1479.55 Q285.372 1477.98 285.372 1475.06 Q285.372 1472.52 283.798 1471.08 Q282.247 1469.65 278.682 1468.93 L275.835 1468.37 Q270.604 1467.33 268.266 1465.11 Q265.928 1462.89 265.928 1458.93 Q265.928 1454.34 269.145 1451.71 Q272.386 1449.07 278.057 1449.07 Q280.488 1449.07 283.011 1449.51 Q285.534 1449.95 288.173 1450.83 Z\" fill=\"#000000\" fill-rule=\"evenodd\" fill-opacity=\"1\" /><path clip-path=\"url(#clip7300)\" d=\"M 0 0 M316.9 1470.22 L316.9 1472.31 L297.317 1472.31 Q297.594 1476.71 299.955 1479.02 Q302.34 1481.31 306.576 1481.31 Q309.029 1481.31 311.321 1480.71 Q313.636 1480.11 315.904 1478.9 L315.904 1482.93 Q313.613 1483.9 311.205 1484.41 Q308.798 1484.92 306.321 1484.92 Q300.117 1484.92 296.483 1481.31 Q292.872 1477.7 292.872 1471.54 Q292.872 1465.18 296.298 1461.45 Q299.747 1457.7 305.58 1457.7 Q310.812 1457.7 313.844 1461.08 Q316.9 1464.44 316.9 1470.22 M312.64 1468.97 Q312.594 1465.48 310.673 1463.4 Q308.775 1461.31 305.627 1461.31 Q302.062 1461.31 299.909 1463.33 Q297.779 1465.34 297.455 1469 L312.64 1468.97 Z\" fill=\"#000000\" fill-rule=\"evenodd\" fill-opacity=\"1\" /><path clip-path=\"url(#clip7300)\" d=\"M 0 0 M325.488 1480.36 L325.488 1494.11 L321.205 1494.11 L321.205 1458.33 L325.488 1458.33 L325.488 1462.26 Q326.83 1459.95 328.867 1458.84 Q330.927 1457.7 333.775 1457.7 Q338.497 1457.7 341.437 1461.45 Q344.4 1465.2 344.4 1471.31 Q344.4 1477.42 341.437 1481.17 Q338.497 1484.92 333.775 1484.92 Q330.927 1484.92 328.867 1483.81 Q326.83 1482.68 325.488 1480.36 M339.978 1471.31 Q339.978 1466.61 338.034 1463.95 Q336.113 1461.27 332.733 1461.27 Q329.353 1461.27 327.409 1463.95 Q325.488 1466.61 325.488 1471.31 Q325.488 1476.01 327.409 1478.7 Q329.353 1481.36 332.733 1481.36 Q336.113 1481.36 338.034 1478.7 Q339.978 1476.01 339.978 1471.31 Z\" fill=\"#000000\" fill-rule=\"evenodd\" fill-opacity=\"1\" /><path clip-path=\"url(#clip7300)\" d=\"M 0 0 M349.469 1478.37 L354.353 1478.37 L354.353 1484.25 L349.469 1484.25 L349.469 1478.37 Z\" fill=\"#000000\" fill-rule=\"evenodd\" fill-opacity=\"1\" /><path clip-path=\"url(#clip7300)\" d=\"M 0 0 M375.302 1480.32 L382.941 1480.32 L382.941 1453.95 L374.631 1455.62 L374.631 1451.36 L382.895 1449.69 L387.571 1449.69 L387.571 1480.32 L395.209 1480.32 L395.209 1484.25 L375.302 1484.25 L375.302 1480.32 Z\" fill=\"#000000\" fill-rule=\"evenodd\" fill-opacity=\"1\" /><path clip-path=\"url(#clip7300)\" d=\"M 0 0 M414.446 1465.62 Q417.802 1466.34 419.677 1468.6 Q421.575 1470.87 421.575 1474.21 Q421.575 1479.32 418.057 1482.12 Q414.538 1484.92 408.057 1484.92 Q405.881 1484.92 403.566 1484.48 Q401.274 1484.07 398.821 1483.21 L398.821 1478.7 Q400.765 1479.83 403.08 1480.41 Q405.395 1480.99 407.918 1480.99 Q412.316 1480.99 414.608 1479.25 Q416.922 1477.52 416.922 1474.21 Q416.922 1471.15 414.77 1469.44 Q412.64 1467.7 408.821 1467.7 L404.793 1467.7 L404.793 1463.86 L409.006 1463.86 Q412.455 1463.86 414.283 1462.49 Q416.112 1461.1 416.112 1458.51 Q416.112 1455.85 414.214 1454.44 Q412.339 1453 408.821 1453 Q406.899 1453 404.7 1453.42 Q402.501 1453.84 399.862 1454.71 L399.862 1450.55 Q402.524 1449.81 404.839 1449.44 Q407.177 1449.07 409.237 1449.07 Q414.561 1449.07 417.663 1451.5 Q420.765 1453.9 420.765 1458.03 Q420.765 1460.9 419.121 1462.89 Q417.478 1464.85 414.446 1465.62 Z\" fill=\"#000000\" fill-rule=\"evenodd\" fill-opacity=\"1\" /><path clip-path=\"url(#clip7300)\" d=\"M 0 0 M427.131 1478.37 L432.015 1478.37 L432.015 1482.35 L428.219 1489.76 L425.232 1489.76 L427.131 1482.35 L427.131 1478.37 Z\" fill=\"#000000\" fill-rule=\"evenodd\" fill-opacity=\"1\" /><path clip-path=\"url(#clip7300)\" d=\"M 0 0 M456.181 1480.32 L472.501 1480.32 L472.501 1484.25 L450.556 1484.25 L450.556 1480.32 Q453.218 1477.56 457.802 1472.93 Q462.408 1468.28 463.589 1466.94 Q465.834 1464.41 466.714 1462.68 Q467.617 1460.92 467.617 1459.23 Q467.617 1456.47 465.672 1454.74 Q463.751 1453 460.649 1453 Q458.45 1453 455.996 1453.77 Q453.566 1454.53 450.788 1456.08 L450.788 1451.36 Q453.612 1450.22 456.066 1449.65 Q458.519 1449.07 460.556 1449.07 Q465.927 1449.07 469.121 1451.75 Q472.316 1454.44 472.316 1458.93 Q472.316 1461.06 471.505 1462.98 Q470.718 1464.88 468.612 1467.47 Q468.033 1468.14 464.931 1471.36 Q461.83 1474.55 456.181 1480.32 Z\" fill=\"#000000\" fill-rule=\"evenodd\" fill-opacity=\"1\" /><path clip-path=\"url(#clip7300)\" d=\"M 0 0 M487.57 1452.77 Q483.959 1452.77 482.13 1456.34 Q480.325 1459.88 480.325 1467.01 Q480.325 1474.11 482.13 1477.68 Q483.959 1481.22 487.57 1481.22 Q491.204 1481.22 493.01 1477.68 Q494.839 1474.11 494.839 1467.01 Q494.839 1459.88 493.01 1456.34 Q491.204 1452.77 487.57 1452.77 M487.57 1449.07 Q493.38 1449.07 496.436 1453.67 Q499.514 1458.26 499.514 1467.01 Q499.514 1475.73 496.436 1480.34 Q493.38 1484.92 487.57 1484.92 Q481.76 1484.92 478.681 1480.34 Q475.626 1475.73 475.626 1467.01 Q475.626 1458.26 478.681 1453.67 Q481.76 1449.07 487.57 1449.07 Z\" fill=\"#000000\" fill-rule=\"evenodd\" fill-opacity=\"1\" /><path clip-path=\"url(#clip7300)\" d=\"M 0 0 M548.679 1450.83 L548.679 1455.39 Q546.017 1454.11 543.656 1453.49 Q541.295 1452.86 539.096 1452.86 Q535.276 1452.86 533.193 1454.34 Q531.133 1455.83 531.133 1458.56 Q531.133 1460.85 532.499 1462.03 Q533.887 1463.19 537.73 1463.9 L540.554 1464.48 Q545.786 1465.48 548.262 1468 Q550.762 1470.5 550.762 1474.71 Q550.762 1479.74 547.383 1482.33 Q544.026 1484.92 537.522 1484.92 Q535.068 1484.92 532.29 1484.37 Q529.536 1483.81 526.573 1482.72 L526.573 1477.91 Q529.42 1479.51 532.151 1480.32 Q534.883 1481.13 537.522 1481.13 Q541.526 1481.13 543.702 1479.55 Q545.878 1477.98 545.878 1475.06 Q545.878 1472.52 544.304 1471.08 Q542.753 1469.65 539.188 1468.93 L536.341 1468.37 Q531.11 1467.33 528.772 1465.11 Q526.434 1462.89 526.434 1458.93 Q526.434 1454.34 529.651 1451.71 Q532.892 1449.07 538.563 1449.07 Q540.994 1449.07 543.517 1449.51 Q546.04 1449.95 548.679 1450.83 Z\" fill=\"#000000\" fill-rule=\"evenodd\" fill-opacity=\"1\" /><path clip-path=\"url(#clip7300)\" d=\"M 0 0 M577.406 1470.22 L577.406 1472.31 L557.822 1472.31 Q558.1 1476.71 560.461 1479.02 Q562.846 1481.31 567.082 1481.31 Q569.535 1481.31 571.827 1480.71 Q574.142 1480.11 576.41 1478.9 L576.41 1482.93 Q574.119 1483.9 571.711 1484.41 Q569.304 1484.92 566.827 1484.92 Q560.623 1484.92 556.989 1481.31 Q553.378 1477.7 553.378 1471.54 Q553.378 1465.18 556.804 1461.45 Q560.253 1457.7 566.086 1457.7 Q571.318 1457.7 574.35 1461.08 Q577.406 1464.44 577.406 1470.22 M573.146 1468.97 Q573.1 1465.48 571.179 1463.4 Q569.281 1461.31 566.133 1461.31 Q562.568 1461.31 560.415 1463.33 Q558.285 1465.34 557.961 1469 L573.146 1468.97 Z\" fill=\"#000000\" fill-rule=\"evenodd\" fill-opacity=\"1\" /><path clip-path=\"url(#clip7300)\" d=\"M 0 0 M585.994 1480.36 L585.994 1494.11 L581.711 1494.11 L581.711 1458.33 L585.994 1458.33 L585.994 1462.26 Q587.336 1459.95 589.373 1458.84 Q591.433 1457.7 594.281 1457.7 Q599.003 1457.7 601.943 1461.45 Q604.906 1465.2 604.906 1471.31 Q604.906 1477.42 601.943 1481.17 Q599.003 1484.92 594.281 1484.92 Q591.433 1484.92 589.373 1483.81 Q587.336 1482.68 585.994 1480.36 M600.484 1471.31 Q600.484 1466.61 598.54 1463.95 Q596.619 1461.27 593.239 1461.27 Q589.859 1461.27 587.915 1463.95 Q585.994 1466.61 585.994 1471.31 Q585.994 1476.01 587.915 1478.7 Q589.859 1481.36 593.239 1481.36 Q596.619 1481.36 598.54 1478.7 Q600.484 1476.01 600.484 1471.31 Z\" fill=\"#000000\" fill-rule=\"evenodd\" fill-opacity=\"1\" /><path clip-path=\"url(#clip7300)\" d=\"M 0 0 M609.975 1478.37 L614.859 1478.37 L614.859 1484.25 L609.975 1484.25 L609.975 1478.37 Z\" fill=\"#000000\" fill-rule=\"evenodd\" fill-opacity=\"1\" /><path clip-path=\"url(#clip7300)\" d=\"M 0 0 M639.026 1480.32 L655.345 1480.32 L655.345 1484.25 L633.401 1484.25 L633.401 1480.32 Q636.063 1477.56 640.646 1472.93 Q645.253 1468.28 646.433 1466.94 Q648.678 1464.41 649.558 1462.68 Q650.461 1460.92 650.461 1459.23 Q650.461 1456.47 648.516 1454.74 Q646.595 1453 643.493 1453 Q641.294 1453 638.841 1453.77 Q636.41 1454.53 633.632 1456.08 L633.632 1451.36 Q636.456 1450.22 638.91 1449.65 Q641.364 1449.07 643.401 1449.07 Q648.771 1449.07 651.965 1451.75 Q655.16 1454.44 655.16 1458.93 Q655.16 1461.06 654.35 1462.98 Q653.563 1464.88 651.456 1467.47 Q650.878 1468.14 647.776 1471.36 Q644.674 1474.55 639.026 1480.32 Z\" fill=\"#000000\" fill-rule=\"evenodd\" fill-opacity=\"1\" /><path clip-path=\"url(#clip7300)\" d=\"M 0 0 M670.414 1452.77 Q666.803 1452.77 664.975 1456.34 Q663.169 1459.88 663.169 1467.01 Q663.169 1474.11 664.975 1477.68 Q666.803 1481.22 670.414 1481.22 Q674.049 1481.22 675.854 1477.68 Q677.683 1474.11 677.683 1467.01 Q677.683 1459.88 675.854 1456.34 Q674.049 1452.77 670.414 1452.77 M670.414 1449.07 Q676.225 1449.07 679.28 1453.67 Q682.359 1458.26 682.359 1467.01 Q682.359 1475.73 679.28 1480.34 Q676.225 1484.92 670.414 1484.92 Q664.604 1484.92 661.526 1480.34 Q658.47 1475.73 658.47 1467.01 Q658.47 1458.26 661.526 1453.67 Q664.604 1449.07 670.414 1449.07 Z\" fill=\"#000000\" fill-rule=\"evenodd\" fill-opacity=\"1\" /><path clip-path=\"url(#clip7300)\" d=\"M 0 0 M687.914 1478.37 L692.799 1478.37 L692.799 1482.35 L689.002 1489.76 L686.016 1489.76 L687.914 1482.35 L687.914 1478.37 Z\" fill=\"#000000\" fill-rule=\"evenodd\" fill-opacity=\"1\" /><path clip-path=\"url(#clip7300)\" d=\"M 0 0 M716.965 1480.32 L733.285 1480.32 L733.285 1484.25 L711.34 1484.25 L711.34 1480.32 Q714.002 1477.56 718.586 1472.93 Q723.192 1468.28 724.373 1466.94 Q726.618 1464.41 727.498 1462.68 Q728.4 1460.92 728.4 1459.23 Q728.4 1456.47 726.456 1454.74 Q724.535 1453 721.433 1453 Q719.234 1453 716.78 1453.77 Q714.349 1454.53 711.572 1456.08 L711.572 1451.36 Q714.396 1450.22 716.849 1449.65 Q719.303 1449.07 721.34 1449.07 Q726.71 1449.07 729.905 1451.75 Q733.099 1454.44 733.099 1458.93 Q733.099 1461.06 732.289 1462.98 Q731.502 1464.88 729.396 1467.47 Q728.817 1468.14 725.715 1471.36 Q722.613 1474.55 716.965 1480.32 Z\" fill=\"#000000\" fill-rule=\"evenodd\" fill-opacity=\"1\" /><path clip-path=\"url(#clip7300)\" d=\"M 0 0 M748.354 1452.77 Q744.743 1452.77 742.914 1456.34 Q741.109 1459.88 741.109 1467.01 Q741.109 1474.11 742.914 1477.68 Q744.743 1481.22 748.354 1481.22 Q751.988 1481.22 753.794 1477.68 Q755.622 1474.11 755.622 1467.01 Q755.622 1459.88 753.794 1456.34 Q751.988 1452.77 748.354 1452.77 M748.354 1449.07 Q754.164 1449.07 757.22 1453.67 Q760.298 1458.26 760.298 1467.01 Q760.298 1475.73 757.22 1480.34 Q754.164 1484.92 748.354 1484.92 Q742.544 1484.92 739.465 1480.34 Q736.409 1475.73 736.409 1467.01 Q736.409 1458.26 739.465 1453.67 Q742.544 1449.07 748.354 1449.07 Z\" fill=\"#000000\" fill-rule=\"evenodd\" fill-opacity=\"1\" /><path clip-path=\"url(#clip7300)\" d=\"M 0 0 M772.008 1450.83 L772.008 1455.39 Q769.346 1454.11 766.985 1453.49 Q764.624 1452.86 762.425 1452.86 Q758.605 1452.86 756.522 1454.34 Q754.462 1455.83 754.462 1458.56 Q754.462 1460.85 755.827 1462.03 Q757.216 1463.19 761.059 1463.9 L763.883 1464.48 Q769.114 1465.48 771.591 1468 Q774.091 1470.5 774.091 1474.71 Q774.091 1479.74 770.712 1482.33 Q767.355 1484.92 760.851 1484.92 Q758.397 1484.92 755.619 1484.37 Q752.864 1483.81 749.902 1482.72 L749.902 1477.91 Q752.749 1479.51 755.48 1480.32 Q758.212 1481.13 760.851 1481.13 Q764.855 1481.13 767.031 1479.55 Q769.207 1477.98 769.207 1475.06 Q769.207 1472.52 767.633 1471.08 Q766.082 1469.65 762.517 1468.93 L759.67 1468.37 Q754.439 1467.33 752.101 1465.11 Q749.763 1462.89 749.763 1458.93 Q749.763 1454.34 752.98 1451.71 Q756.221 1449.07 761.892 1449.07 Q764.323 1449.07 766.846 1449.51 Q769.369 1449.95 772.008 1450.83 Z\" fill=\"#000000\" fill-rule=\"evenodd\" fill-opacity=\"1\" /><path clip-path=\"url(#clip7300)\" d=\"M 0 0 M800.735 1470.22 L800.735 1472.31 L781.151 1472.31 Q781.429 1476.71 783.79 1479.02 Q786.174 1481.31 790.411 1481.31 Q792.864 1481.31 795.156 1480.71 Q797.471 1480.11 799.739 1478.9 L799.739 1482.93 Q797.448 1483.9 795.04 1484.41 Q792.633 1484.92 790.156 1484.92 Q783.952 1484.92 780.318 1481.31 Q776.707 1477.7 776.707 1471.54 Q776.707 1465.18 780.133 1461.45 Q783.582 1457.7 789.415 1457.7 Q794.647 1457.7 797.679 1461.08 Q800.735 1464.44 800.735 1470.22 M796.475 1468.97 Q796.429 1465.48 794.508 1463.4 Q792.61 1461.31 789.461 1461.31 Q785.897 1461.31 783.744 1463.33 Q781.614 1465.34 781.29 1469 L796.475 1468.97 Z\" fill=\"#000000\" fill-rule=\"evenodd\" fill-opacity=\"1\" /><path clip-path=\"url(#clip7300)\" d=\"M 0 0 M809.322 1480.36 L809.322 1494.11 L805.04 1494.11 L805.04 1458.33 L809.322 1458.33 L809.322 1462.26 Q810.665 1459.95 812.702 1458.84 Q814.762 1457.7 817.609 1457.7 Q822.332 1457.7 825.271 1461.45 Q828.234 1465.2 828.234 1471.31 Q828.234 1477.42 825.271 1481.17 Q822.332 1484.92 817.609 1484.92 Q814.762 1484.92 812.702 1483.81 Q810.665 1482.68 809.322 1480.36 M823.813 1471.31 Q823.813 1466.61 821.869 1463.95 Q819.947 1461.27 816.568 1461.27 Q813.188 1461.27 811.244 1463.95 Q809.322 1466.61 809.322 1471.31 Q809.322 1476.01 811.244 1478.7 Q813.188 1481.36 816.568 1481.36 Q819.947 1481.36 821.869 1478.7 Q823.813 1476.01 823.813 1471.31 Z\" fill=\"#000000\" fill-rule=\"evenodd\" fill-opacity=\"1\" /><path clip-path=\"url(#clip7300)\" d=\"M 0 0 M833.304 1478.37 L838.188 1478.37 L838.188 1484.25 L833.304 1484.25 L833.304 1478.37 Z\" fill=\"#000000\" fill-rule=\"evenodd\" fill-opacity=\"1\" /><path clip-path=\"url(#clip7300)\" d=\"M 0 0 M862.355 1480.32 L878.674 1480.32 L878.674 1484.25 L856.73 1484.25 L856.73 1480.32 Q859.392 1477.56 863.975 1472.93 Q868.581 1468.28 869.762 1466.94 Q872.007 1464.41 872.887 1462.68 Q873.79 1460.92 873.79 1459.23 Q873.79 1456.47 871.845 1454.74 Q869.924 1453 866.822 1453 Q864.623 1453 862.169 1453.77 Q859.739 1454.53 856.961 1456.08 L856.961 1451.36 Q859.785 1450.22 862.239 1449.65 Q864.693 1449.07 866.73 1449.07 Q872.1 1449.07 875.294 1451.75 Q878.489 1454.44 878.489 1458.93 Q878.489 1461.06 877.679 1462.98 Q876.892 1464.88 874.785 1467.47 Q874.206 1468.14 871.105 1471.36 Q868.003 1474.55 862.355 1480.32 Z\" fill=\"#000000\" fill-rule=\"evenodd\" fill-opacity=\"1\" /><path clip-path=\"url(#clip7300)\" d=\"M 0 0 M894.322 1465.11 Q891.174 1465.11 889.322 1467.26 Q887.493 1469.41 887.493 1473.16 Q887.493 1476.89 889.322 1479.07 Q891.174 1481.22 894.322 1481.22 Q897.47 1481.22 899.299 1479.07 Q901.151 1476.89 901.151 1473.16 Q901.151 1469.41 899.299 1467.26 Q897.47 1465.11 894.322 1465.11 M903.604 1450.46 L903.604 1454.71 Q901.845 1453.88 900.04 1453.44 Q898.257 1453 896.498 1453 Q891.868 1453 889.415 1456.13 Q886.984 1459.25 886.637 1465.57 Q888.003 1463.56 890.063 1462.49 Q892.123 1461.4 894.6 1461.4 Q899.808 1461.4 902.817 1464.58 Q905.85 1467.72 905.85 1473.16 Q905.85 1478.49 902.702 1481.71 Q899.553 1484.92 894.322 1484.92 Q888.327 1484.92 885.155 1480.34 Q881.984 1475.73 881.984 1467.01 Q881.984 1458.81 885.873 1453.95 Q889.762 1449.07 896.313 1449.07 Q898.072 1449.07 899.854 1449.41 Q901.66 1449.76 903.604 1450.46 Z\" fill=\"#000000\" fill-rule=\"evenodd\" fill-opacity=\"1\" /><path clip-path=\"url(#clip7300)\" d=\"M 0 0 M911.405 1478.37 L916.29 1478.37 L916.29 1482.35 L912.493 1489.76 L909.507 1489.76 L911.405 1482.35 L911.405 1478.37 Z\" fill=\"#000000\" fill-rule=\"evenodd\" fill-opacity=\"1\" /><path clip-path=\"url(#clip7300)\" d=\"M 0 0 M940.456 1480.32 L956.775 1480.32 L956.775 1484.25 L934.831 1484.25 L934.831 1480.32 Q937.493 1477.56 942.076 1472.93 Q946.683 1468.28 947.863 1466.94 Q950.109 1464.41 950.988 1462.68 Q951.891 1460.92 951.891 1459.23 Q951.891 1456.47 949.947 1454.74 Q948.025 1453 944.924 1453 Q942.725 1453 940.271 1453.77 Q937.84 1454.53 935.063 1456.08 L935.063 1451.36 Q937.887 1450.22 940.34 1449.65 Q942.794 1449.07 944.831 1449.07 Q950.201 1449.07 953.396 1451.75 Q956.59 1454.44 956.59 1458.93 Q956.59 1461.06 955.78 1462.98 Q954.993 1464.88 952.887 1467.47 Q952.308 1468.14 949.206 1471.36 Q946.104 1474.55 940.456 1480.32 Z\" fill=\"#000000\" fill-rule=\"evenodd\" fill-opacity=\"1\" /><path clip-path=\"url(#clip7300)\" d=\"M 0 0 M971.845 1452.77 Q968.234 1452.77 966.405 1456.34 Q964.599 1459.88 964.599 1467.01 Q964.599 1474.11 966.405 1477.68 Q968.234 1481.22 971.845 1481.22 Q975.479 1481.22 977.285 1477.68 Q979.113 1474.11 979.113 1467.01 Q979.113 1459.88 977.285 1456.34 Q975.479 1452.77 971.845 1452.77 M971.845 1449.07 Q977.655 1449.07 980.71 1453.67 Q983.789 1458.26 983.789 1467.01 Q983.789 1475.73 980.71 1480.34 Q977.655 1484.92 971.845 1484.92 Q966.035 1484.92 962.956 1480.34 Q959.9 1475.73 959.9 1467.01 Q959.9 1458.26 962.956 1453.67 Q966.035 1449.07 971.845 1449.07 Z\" fill=\"#000000\" fill-rule=\"evenodd\" fill-opacity=\"1\" /><path clip-path=\"url(#clip7300)\" d=\"M 0 0 M1005.73 1452.86 Q1000.64 1452.86 997.628 1456.66 Q994.642 1460.46 994.642 1467.01 Q994.642 1473.53 997.628 1477.33 Q1000.64 1481.13 1005.73 1481.13 Q1010.82 1481.13 1013.79 1477.33 Q1016.77 1473.53 1016.77 1467.01 Q1016.77 1460.46 1013.79 1456.66 Q1010.82 1452.86 1005.73 1452.86 M1005.73 1449.07 Q1013 1449.07 1017.35 1453.95 Q1021.7 1458.81 1021.7 1467.01 Q1021.7 1475.18 1017.35 1480.06 Q1013 1484.92 1005.73 1484.92 Q998.439 1484.92 994.064 1480.06 Q989.712 1475.2 989.712 1467.01 Q989.712 1458.81 994.064 1453.95 Q998.439 1449.07 1005.73 1449.07 Z\" fill=\"#000000\" fill-rule=\"evenodd\" fill-opacity=\"1\" /><path clip-path=\"url(#clip7300)\" d=\"M 0 0 M1044.83 1459.32 L1044.83 1463.3 Q1043.02 1462.31 1041.19 1461.82 Q1039.39 1461.31 1037.54 1461.31 Q1033.39 1461.31 1031.1 1463.95 Q1028.81 1466.57 1028.81 1471.31 Q1028.81 1476.06 1031.1 1478.7 Q1033.39 1481.31 1037.54 1481.31 Q1039.39 1481.31 1041.19 1480.83 Q1043.02 1480.32 1044.83 1479.32 L1044.83 1483.26 Q1043.04 1484.09 1041.12 1484.51 Q1039.23 1484.92 1037.07 1484.92 Q1031.22 1484.92 1027.77 1481.24 Q1024.32 1477.56 1024.32 1471.31 Q1024.32 1464.97 1027.79 1461.34 Q1031.29 1457.7 1037.35 1457.7 Q1039.32 1457.7 1041.19 1458.12 Q1043.07 1458.51 1044.83 1459.32 Z\" fill=\"#000000\" fill-rule=\"evenodd\" fill-opacity=\"1\" /><path clip-path=\"url(#clip7300)\" d=\"M 0 0 M1053.51 1450.96 L1053.51 1458.33 L1062.28 1458.33 L1062.28 1461.64 L1053.51 1461.64 L1053.51 1475.71 Q1053.51 1478.88 1054.36 1479.78 Q1055.24 1480.69 1057.91 1480.69 L1062.28 1480.69 L1062.28 1484.25 L1057.91 1484.25 Q1052.98 1484.25 1051.1 1482.42 Q1049.23 1480.57 1049.23 1475.71 L1049.23 1461.64 L1046.1 1461.64 L1046.1 1458.33 L1049.23 1458.33 L1049.23 1450.96 L1053.51 1450.96 Z\" fill=\"#000000\" fill-rule=\"evenodd\" fill-opacity=\"1\" /><path clip-path=\"url(#clip7300)\" d=\"M 0 0 M1067.35 1478.37 L1072.23 1478.37 L1072.23 1484.25 L1067.35 1484.25 L1067.35 1478.37 Z\" fill=\"#000000\" fill-rule=\"evenodd\" fill-opacity=\"1\" /><path clip-path=\"url(#clip7300)\" d=\"M 0 0 M1096.4 1480.32 L1112.72 1480.32 L1112.72 1484.25 L1090.78 1484.25 L1090.78 1480.32 Q1093.44 1477.56 1098.02 1472.93 Q1102.63 1468.28 1103.81 1466.94 Q1106.05 1464.41 1106.93 1462.68 Q1107.84 1460.92 1107.84 1459.23 Q1107.84 1456.47 1105.89 1454.74 Q1103.97 1453 1100.87 1453 Q1098.67 1453 1096.22 1453.77 Q1093.79 1454.53 1091.01 1456.08 L1091.01 1451.36 Q1093.83 1450.22 1096.29 1449.65 Q1098.74 1449.07 1100.78 1449.07 Q1106.15 1449.07 1109.34 1451.75 Q1112.54 1454.44 1112.54 1458.93 Q1112.54 1461.06 1111.73 1462.98 Q1110.94 1464.88 1108.83 1467.47 Q1108.25 1468.14 1105.15 1471.36 Q1102.05 1474.55 1096.4 1480.32 Z\" fill=\"#000000\" fill-rule=\"evenodd\" fill-opacity=\"1\" /><path clip-path=\"url(#clip7300)\" d=\"M 0 0 M1118.28 1478.37 L1123.16 1478.37 L1123.16 1482.35 L1119.36 1489.76 L1116.38 1489.76 L1118.28 1482.35 L1118.28 1478.37 Z\" fill=\"#000000\" fill-rule=\"evenodd\" fill-opacity=\"1\" /><path clip-path=\"url(#clip7300)\" d=\"M 0 0 M1147.33 1480.32 L1163.65 1480.32 L1163.65 1484.25 L1141.7 1484.25 L1141.7 1480.32 Q1144.36 1477.56 1148.95 1472.93 Q1153.55 1468.28 1154.73 1466.94 Q1156.98 1464.41 1157.86 1462.68 Q1158.76 1460.92 1158.76 1459.23 Q1158.76 1456.47 1156.82 1454.74 Q1154.9 1453 1151.79 1453 Q1149.6 1453 1147.14 1453.77 Q1144.71 1454.53 1141.93 1456.08 L1141.93 1451.36 Q1144.76 1450.22 1147.21 1449.65 Q1149.66 1449.07 1151.7 1449.07 Q1157.07 1449.07 1160.27 1451.75 Q1163.46 1454.44 1163.46 1458.93 Q1163.46 1461.06 1162.65 1462.98 Q1161.86 1464.88 1159.76 1467.47 Q1159.18 1468.14 1156.08 1471.36 Q1152.97 1474.55 1147.33 1480.32 Z\" fill=\"#000000\" fill-rule=\"evenodd\" fill-opacity=\"1\" /><path clip-path=\"url(#clip7300)\" d=\"M 0 0 M1178.72 1452.77 Q1175.1 1452.77 1173.28 1456.34 Q1171.47 1459.88 1171.47 1467.01 Q1171.47 1474.11 1173.28 1477.68 Q1175.1 1481.22 1178.72 1481.22 Q1182.35 1481.22 1184.16 1477.68 Q1185.98 1474.11 1185.98 1467.01 Q1185.98 1459.88 1184.16 1456.34 Q1182.35 1452.77 1178.72 1452.77 M1178.72 1449.07 Q1184.53 1449.07 1187.58 1453.67 Q1190.66 1458.26 1190.66 1467.01 Q1190.66 1475.73 1187.58 1480.34 Q1184.53 1484.92 1178.72 1484.92 Q1172.91 1484.92 1169.83 1480.34 Q1166.77 1475.73 1166.77 1467.01 Q1166.77 1458.26 1169.83 1453.67 Q1172.91 1449.07 1178.72 1449.07 Z\" fill=\"#000000\" fill-rule=\"evenodd\" fill-opacity=\"1\" /><path clip-path=\"url(#clip7300)\" d=\"M 0 0 M1265.67 1452.86 Q1260.58 1452.86 1257.57 1456.66 Q1254.58 1460.46 1254.58 1467.01 Q1254.58 1473.53 1257.57 1477.33 Q1260.58 1481.13 1265.67 1481.13 Q1270.76 1481.13 1273.72 1477.33 Q1276.71 1473.53 1276.71 1467.01 Q1276.71 1460.46 1273.72 1456.66 Q1270.76 1452.86 1265.67 1452.86 M1265.67 1449.07 Q1272.94 1449.07 1277.29 1453.95 Q1281.64 1458.81 1281.64 1467.01 Q1281.64 1475.18 1277.29 1480.06 Q1272.94 1484.92 1265.67 1484.92 Q1258.38 1484.92 1254 1480.06 Q1249.65 1475.2 1249.65 1467.01 Q1249.65 1458.81 1254 1453.95 Q1258.38 1449.07 1265.67 1449.07 Z\" fill=\"#000000\" fill-rule=\"evenodd\" fill-opacity=\"1\" /><path clip-path=\"url(#clip7300)\" d=\"M 0 0 M1304.77 1459.32 L1304.77 1463.3 Q1302.96 1462.31 1301.13 1461.82 Q1299.33 1461.31 1297.47 1461.31 Q1293.33 1461.31 1291.04 1463.95 Q1288.75 1466.57 1288.75 1471.31 Q1288.75 1476.06 1291.04 1478.7 Q1293.33 1481.31 1297.47 1481.31 Q1299.33 1481.31 1301.13 1480.83 Q1302.96 1480.32 1304.77 1479.32 L1304.77 1483.26 Q1302.98 1484.09 1301.06 1484.51 Q1299.16 1484.92 1297.01 1484.92 Q1291.16 1484.92 1287.71 1481.24 Q1284.26 1477.56 1284.26 1471.31 Q1284.26 1464.97 1287.73 1461.34 Q1291.22 1457.7 1297.29 1457.7 Q1299.26 1457.7 1301.13 1458.12 Q1303.01 1458.51 1304.77 1459.32 Z\" fill=\"#000000\" fill-rule=\"evenodd\" fill-opacity=\"1\" /><path clip-path=\"url(#clip7300)\" d=\"M 0 0 M1313.45 1450.96 L1313.45 1458.33 L1322.22 1458.33 L1322.22 1461.64 L1313.45 1461.64 L1313.45 1475.71 Q1313.45 1478.88 1314.3 1479.78 Q1315.18 1480.69 1317.84 1480.69 L1322.22 1480.69 L1322.22 1484.25 L1317.84 1484.25 Q1312.91 1484.25 1311.04 1482.42 Q1309.16 1480.57 1309.16 1475.71 L1309.16 1461.64 L1306.04 1461.64 L1306.04 1458.33 L1309.16 1458.33 L1309.16 1450.96 L1313.45 1450.96 Z\" fill=\"#000000\" fill-rule=\"evenodd\" fill-opacity=\"1\" /><path clip-path=\"url(#clip7300)\" d=\"M 0 0 M1327.29 1478.37 L1332.17 1478.37 L1332.17 1484.25 L1327.29 1484.25 L1327.29 1478.37 Z\" fill=\"#000000\" fill-rule=\"evenodd\" fill-opacity=\"1\" /><path clip-path=\"url(#clip7300)\" d=\"M 0 0 M1352.45 1483.53 L1352.45 1479.28 Q1354.21 1480.11 1356.02 1480.55 Q1357.82 1480.99 1359.56 1480.99 Q1364.19 1480.99 1366.62 1477.89 Q1369.07 1474.76 1369.42 1468.42 Q1368.08 1470.41 1366.02 1471.47 Q1363.96 1472.54 1361.46 1472.54 Q1356.27 1472.54 1353.24 1469.41 Q1350.23 1466.27 1350.23 1460.83 Q1350.23 1455.5 1353.38 1452.28 Q1356.53 1449.07 1361.76 1449.07 Q1367.75 1449.07 1370.9 1453.67 Q1374.07 1458.26 1374.07 1467.01 Q1374.07 1475.18 1370.18 1480.06 Q1366.32 1484.92 1359.77 1484.92 Q1358.01 1484.92 1356.2 1484.58 Q1354.4 1484.23 1352.45 1483.53 M1361.76 1468.88 Q1364.9 1468.88 1366.73 1466.73 Q1368.59 1464.58 1368.59 1460.83 Q1368.59 1457.1 1366.73 1454.95 Q1364.9 1452.77 1361.76 1452.77 Q1358.61 1452.77 1356.76 1454.95 Q1354.93 1457.1 1354.93 1460.83 Q1354.93 1464.58 1356.76 1466.73 Q1358.61 1468.88 1361.76 1468.88 Z\" fill=\"#000000\" fill-rule=\"evenodd\" fill-opacity=\"1\" /><path clip-path=\"url(#clip7300)\" d=\"M 0 0 M1379.63 1478.37 L1384.51 1478.37 L1384.51 1482.35 L1380.71 1489.76 L1377.73 1489.76 L1379.63 1482.35 L1379.63 1478.37 Z\" fill=\"#000000\" fill-rule=\"evenodd\" fill-opacity=\"1\" /><path clip-path=\"url(#clip7300)\" d=\"M 0 0 M1408.68 1480.32 L1425 1480.32 L1425 1484.25 L1403.05 1484.25 L1403.05 1480.32 Q1405.71 1477.56 1410.3 1472.93 Q1414.9 1468.28 1416.08 1466.94 Q1418.33 1464.41 1419.21 1462.68 Q1420.11 1460.92 1420.11 1459.23 Q1420.11 1456.47 1418.17 1454.74 Q1416.25 1453 1413.15 1453 Q1410.95 1453 1408.49 1453.77 Q1406.06 1454.53 1403.28 1456.08 L1403.28 1451.36 Q1406.11 1450.22 1408.56 1449.65 Q1411.02 1449.07 1413.05 1449.07 Q1418.42 1449.07 1421.62 1451.75 Q1424.81 1454.44 1424.81 1458.93 Q1424.81 1461.06 1424 1462.98 Q1423.21 1464.88 1421.11 1467.47 Q1420.53 1468.14 1417.43 1471.36 Q1414.33 1474.55 1408.68 1480.32 Z\" fill=\"#000000\" fill-rule=\"evenodd\" fill-opacity=\"1\" /><path clip-path=\"url(#clip7300)\" d=\"M 0 0 M1440.07 1452.77 Q1436.46 1452.77 1434.63 1456.34 Q1432.82 1459.88 1432.82 1467.01 Q1432.82 1474.11 1434.63 1477.68 Q1436.46 1481.22 1440.07 1481.22 Q1443.7 1481.22 1445.51 1477.68 Q1447.33 1474.11 1447.33 1467.01 Q1447.33 1459.88 1445.51 1456.34 Q1443.7 1452.77 1440.07 1452.77 M1440.07 1449.07 Q1445.88 1449.07 1448.93 1453.67 Q1452.01 1458.26 1452.01 1467.01 Q1452.01 1475.73 1448.93 1480.34 Q1445.88 1484.92 1440.07 1484.92 Q1434.26 1484.92 1431.18 1480.34 Q1428.12 1475.73 1428.12 1467.01 Q1428.12 1458.26 1431.18 1453.67 Q1434.26 1449.07 1440.07 1449.07 Z\" fill=\"#000000\" fill-rule=\"evenodd\" fill-opacity=\"1\" /><path clip-path=\"url(#clip7300)\" d=\"M 0 0 M1513.25 1452.86 Q1508.15 1452.86 1505.15 1456.66 Q1502.16 1460.46 1502.16 1467.01 Q1502.16 1473.53 1505.15 1477.33 Q1508.15 1481.13 1513.25 1481.13 Q1518.34 1481.13 1521.3 1477.33 Q1524.29 1473.53 1524.29 1467.01 Q1524.29 1460.46 1521.3 1456.66 Q1518.34 1452.86 1513.25 1452.86 M1513.25 1449.07 Q1520.52 1449.07 1524.87 1453.95 Q1529.22 1458.81 1529.22 1467.01 Q1529.22 1475.18 1524.87 1480.06 Q1520.52 1484.92 1513.25 1484.92 Q1505.96 1484.92 1501.58 1480.06 Q1497.23 1475.2 1497.23 1467.01 Q1497.23 1458.81 1501.58 1453.95 Q1505.96 1449.07 1513.25 1449.07 Z\" fill=\"#000000\" fill-rule=\"evenodd\" fill-opacity=\"1\" /><path clip-path=\"url(#clip7300)\" d=\"M 0 0 M1552.34 1459.32 L1552.34 1463.3 Q1550.54 1462.31 1548.71 1461.82 Q1546.9 1461.31 1545.05 1461.31 Q1540.91 1461.31 1538.62 1463.95 Q1536.33 1466.57 1536.33 1471.31 Q1536.33 1476.06 1538.62 1478.7 Q1540.91 1481.31 1545.05 1481.31 Q1546.9 1481.31 1548.71 1480.83 Q1550.54 1480.32 1552.34 1479.32 L1552.34 1483.26 Q1550.56 1484.09 1548.64 1484.51 Q1546.74 1484.92 1544.59 1484.92 Q1538.73 1484.92 1535.28 1481.24 Q1531.83 1477.56 1531.83 1471.31 Q1531.83 1464.97 1535.31 1461.34 Q1538.8 1457.7 1544.87 1457.7 Q1546.83 1457.7 1548.71 1458.12 Q1550.58 1458.51 1552.34 1459.32 Z\" fill=\"#000000\" fill-rule=\"evenodd\" fill-opacity=\"1\" /><path clip-path=\"url(#clip7300)\" d=\"M 0 0 M1561.02 1450.96 L1561.02 1458.33 L1569.8 1458.33 L1569.8 1461.64 L1561.02 1461.64 L1561.02 1475.71 Q1561.02 1478.88 1561.88 1479.78 Q1562.76 1480.69 1565.42 1480.69 L1569.8 1480.69 L1569.8 1484.25 L1565.42 1484.25 Q1560.49 1484.25 1558.62 1482.42 Q1556.74 1480.57 1556.74 1475.71 L1556.74 1461.64 L1553.62 1461.64 L1553.62 1458.33 L1556.74 1458.33 L1556.74 1450.96 L1561.02 1450.96 Z\" fill=\"#000000\" fill-rule=\"evenodd\" fill-opacity=\"1\" /><path clip-path=\"url(#clip7300)\" d=\"M 0 0 M1574.87 1478.37 L1579.75 1478.37 L1579.75 1484.25 L1574.87 1484.25 L1574.87 1478.37 Z\" fill=\"#000000\" fill-rule=\"evenodd\" fill-opacity=\"1\" /><path clip-path=\"url(#clip7300)\" d=\"M 0 0 M1600.7 1480.32 L1608.34 1480.32 L1608.34 1453.95 L1600.03 1455.62 L1600.03 1451.36 L1608.29 1449.69 L1612.97 1449.69 L1612.97 1480.32 L1620.61 1480.32 L1620.61 1484.25 L1600.7 1484.25 L1600.7 1480.32 Z\" fill=\"#000000\" fill-rule=\"evenodd\" fill-opacity=\"1\" /><path clip-path=\"url(#clip7300)\" d=\"M 0 0 M1636.26 1465.11 Q1633.11 1465.11 1631.26 1467.26 Q1629.43 1469.41 1629.43 1473.16 Q1629.43 1476.89 1631.26 1479.07 Q1633.11 1481.22 1636.26 1481.22 Q1639.4 1481.22 1641.23 1479.07 Q1643.08 1476.89 1643.08 1473.16 Q1643.08 1469.41 1641.23 1467.26 Q1639.4 1465.11 1636.26 1465.11 M1645.54 1450.46 L1645.54 1454.71 Q1643.78 1453.88 1641.97 1453.44 Q1640.19 1453 1638.43 1453 Q1633.8 1453 1631.35 1456.13 Q1628.92 1459.25 1628.57 1465.57 Q1629.94 1463.56 1632 1462.49 Q1634.06 1461.4 1636.53 1461.4 Q1641.74 1461.4 1644.75 1464.58 Q1647.78 1467.72 1647.78 1473.16 Q1647.78 1478.49 1644.64 1481.71 Q1641.49 1484.92 1636.26 1484.92 Q1630.26 1484.92 1627.09 1480.34 Q1623.92 1475.73 1623.92 1467.01 Q1623.92 1458.81 1627.81 1453.95 Q1631.7 1449.07 1638.25 1449.07 Q1640.01 1449.07 1641.79 1449.41 Q1643.59 1449.76 1645.54 1450.46 Z\" fill=\"#000000\" fill-rule=\"evenodd\" fill-opacity=\"1\" /><path clip-path=\"url(#clip7300)\" d=\"M 0 0 M1653.34 1478.37 L1658.22 1478.37 L1658.22 1482.35 L1654.43 1489.76 L1651.44 1489.76 L1653.34 1482.35 L1653.34 1478.37 Z\" fill=\"#000000\" fill-rule=\"evenodd\" fill-opacity=\"1\" /><path clip-path=\"url(#clip7300)\" d=\"M 0 0 M1682.39 1480.32 L1698.71 1480.32 L1698.71 1484.25 L1676.76 1484.25 L1676.76 1480.32 Q1679.43 1477.56 1684.01 1472.93 Q1688.62 1468.28 1689.8 1466.94 Q1692.04 1464.41 1692.92 1462.68 Q1693.82 1460.92 1693.82 1459.23 Q1693.82 1456.47 1691.88 1454.74 Q1689.96 1453 1686.86 1453 Q1684.66 1453 1682.2 1453.77 Q1679.77 1454.53 1677 1456.08 L1677 1451.36 Q1679.82 1450.22 1682.27 1449.65 Q1684.73 1449.07 1686.76 1449.07 Q1692.13 1449.07 1695.33 1451.75 Q1698.52 1454.44 1698.52 1458.93 Q1698.52 1461.06 1697.71 1462.98 Q1696.93 1464.88 1694.82 1467.47 Q1694.24 1468.14 1691.14 1471.36 Q1688.04 1474.55 1682.39 1480.32 Z\" fill=\"#000000\" fill-rule=\"evenodd\" fill-opacity=\"1\" /><path clip-path=\"url(#clip7300)\" d=\"M 0 0 M1713.78 1452.77 Q1710.17 1452.77 1708.34 1456.34 Q1706.53 1459.88 1706.53 1467.01 Q1706.53 1474.11 1708.34 1477.68 Q1710.17 1481.22 1713.78 1481.22 Q1717.41 1481.22 1719.22 1477.68 Q1721.05 1474.11 1721.05 1467.01 Q1721.05 1459.88 1719.22 1456.34 Q1717.41 1452.77 1713.78 1452.77 M1713.78 1449.07 Q1719.59 1449.07 1722.64 1453.67 Q1725.72 1458.26 1725.72 1467.01 Q1725.72 1475.73 1722.64 1480.34 Q1719.59 1484.92 1713.78 1484.92 Q1707.97 1484.92 1704.89 1480.34 Q1701.83 1475.73 1701.83 1467.01 Q1701.83 1458.26 1704.89 1453.67 Q1707.97 1449.07 1713.78 1449.07 Z\" fill=\"#000000\" fill-rule=\"evenodd\" fill-opacity=\"1\" /><path clip-path=\"url(#clip7300)\" d=\"M 0 0 M1737.72 1452.86 Q1732.63 1452.86 1729.62 1456.66 Q1726.63 1460.46 1726.63 1467.01 Q1726.63 1473.53 1729.62 1477.33 Q1732.63 1481.13 1737.72 1481.13 Q1742.81 1481.13 1745.78 1477.33 Q1748.76 1473.53 1748.76 1467.01 Q1748.76 1460.46 1745.78 1456.66 Q1742.81 1452.86 1737.72 1452.86 M1737.72 1449.07 Q1744.99 1449.07 1749.34 1453.95 Q1753.69 1458.81 1753.69 1467.01 Q1753.69 1475.18 1749.34 1480.06 Q1744.99 1484.92 1737.72 1484.92 Q1730.43 1484.92 1726.05 1480.06 Q1721.7 1475.2 1721.7 1467.01 Q1721.7 1458.81 1726.05 1453.95 Q1730.43 1449.07 1737.72 1449.07 Z\" fill=\"#000000\" fill-rule=\"evenodd\" fill-opacity=\"1\" /><path clip-path=\"url(#clip7300)\" d=\"M 0 0 M1776.82 1459.32 L1776.82 1463.3 Q1775.01 1462.31 1773.18 1461.82 Q1771.38 1461.31 1769.53 1461.31 Q1765.38 1461.31 1763.09 1463.95 Q1760.8 1466.57 1760.8 1471.31 Q1760.8 1476.06 1763.09 1478.7 Q1765.38 1481.31 1769.53 1481.31 Q1771.38 1481.31 1773.18 1480.83 Q1775.01 1480.32 1776.82 1479.32 L1776.82 1483.26 Q1775.04 1484.09 1773.11 1484.51 Q1771.22 1484.92 1769.06 1484.92 Q1763.21 1484.92 1759.76 1481.24 Q1756.31 1477.56 1756.31 1471.31 Q1756.31 1464.97 1759.78 1461.34 Q1763.28 1457.7 1769.34 1457.7 Q1771.31 1457.7 1773.18 1458.12 Q1775.06 1458.51 1776.82 1459.32 Z\" fill=\"#000000\" fill-rule=\"evenodd\" fill-opacity=\"1\" /><path clip-path=\"url(#clip7300)\" d=\"M 0 0 M1785.5 1450.96 L1785.5 1458.33 L1794.27 1458.33 L1794.27 1461.64 L1785.5 1461.64 L1785.5 1475.71 Q1785.5 1478.88 1786.36 1479.78 Q1787.24 1480.69 1789.9 1480.69 L1794.27 1480.69 L1794.27 1484.25 L1789.9 1484.25 Q1784.97 1484.25 1783.09 1482.42 Q1781.22 1480.57 1781.22 1475.71 L1781.22 1461.64 L1778.09 1461.64 L1778.09 1458.33 L1781.22 1458.33 L1781.22 1450.96 L1785.5 1450.96 Z\" fill=\"#000000\" fill-rule=\"evenodd\" fill-opacity=\"1\" /><path clip-path=\"url(#clip7300)\" d=\"M 0 0 M1799.34 1478.37 L1804.23 1478.37 L1804.23 1484.25 L1799.34 1484.25 L1799.34 1478.37 Z\" fill=\"#000000\" fill-rule=\"evenodd\" fill-opacity=\"1\" /><path clip-path=\"url(#clip7300)\" d=\"M 0 0 M1828.39 1480.32 L1844.71 1480.32 L1844.71 1484.25 L1822.77 1484.25 L1822.77 1480.32 Q1825.43 1477.56 1830.01 1472.93 Q1834.62 1468.28 1835.8 1466.94 Q1838.05 1464.41 1838.92 1462.68 Q1839.83 1460.92 1839.83 1459.23 Q1839.83 1456.47 1837.88 1454.74 Q1835.96 1453 1832.86 1453 Q1830.66 1453 1828.21 1453.77 Q1825.78 1454.53 1823 1456.08 L1823 1451.36 Q1825.82 1450.22 1828.28 1449.65 Q1830.73 1449.07 1832.77 1449.07 Q1838.14 1449.07 1841.33 1451.75 Q1844.53 1454.44 1844.53 1458.93 Q1844.53 1461.06 1843.72 1462.98 Q1842.93 1464.88 1840.82 1467.47 Q1840.24 1468.14 1837.14 1471.36 Q1834.04 1474.55 1828.39 1480.32 Z\" fill=\"#000000\" fill-rule=\"evenodd\" fill-opacity=\"1\" /><path clip-path=\"url(#clip7300)\" d=\"M 0 0 M1853.81 1480.32 L1870.13 1480.32 L1870.13 1484.25 L1848.18 1484.25 L1848.18 1480.32 Q1850.85 1477.56 1855.43 1472.93 Q1860.04 1468.28 1861.22 1466.94 Q1863.46 1464.41 1864.34 1462.68 Q1865.24 1460.92 1865.24 1459.23 Q1865.24 1456.47 1863.3 1454.74 Q1861.38 1453 1858.28 1453 Q1856.08 1453 1853.62 1453.77 Q1851.19 1454.53 1848.42 1456.08 L1848.42 1451.36 Q1851.24 1450.22 1853.69 1449.65 Q1856.15 1449.07 1858.18 1449.07 Q1863.55 1449.07 1866.75 1451.75 Q1869.94 1454.44 1869.94 1458.93 Q1869.94 1461.06 1869.13 1462.98 Q1868.35 1464.88 1866.24 1467.47 Q1865.66 1468.14 1862.56 1471.36 Q1859.46 1474.55 1853.81 1480.32 Z\" fill=\"#000000\" fill-rule=\"evenodd\" fill-opacity=\"1\" /><path clip-path=\"url(#clip7300)\" d=\"M 0 0 M1875.68 1478.37 L1880.57 1478.37 L1880.57 1482.35 L1876.77 1489.76 L1873.79 1489.76 L1875.68 1482.35 L1875.68 1478.37 Z\" fill=\"#000000\" fill-rule=\"evenodd\" fill-opacity=\"1\" /><path clip-path=\"url(#clip7300)\" d=\"M 0 0 M1904.73 1480.32 L1921.05 1480.32 L1921.05 1484.25 L1899.11 1484.25 L1899.11 1480.32 Q1901.77 1477.56 1906.35 1472.93 Q1910.96 1468.28 1912.14 1466.94 Q1914.39 1464.41 1915.27 1462.68 Q1916.17 1460.92 1916.17 1459.23 Q1916.17 1456.47 1914.23 1454.74 Q1912.3 1453 1909.2 1453 Q1907 1453 1904.55 1453.77 Q1902.12 1454.53 1899.34 1456.08 L1899.34 1451.36 Q1902.17 1450.22 1904.62 1449.65 Q1907.07 1449.07 1909.11 1449.07 Q1914.48 1449.07 1917.67 1451.75 Q1920.87 1454.44 1920.87 1458.93 Q1920.87 1461.06 1920.06 1462.98 Q1919.27 1464.88 1917.17 1467.47 Q1916.59 1468.14 1913.48 1471.36 Q1910.38 1474.55 1904.73 1480.32 Z\" fill=\"#000000\" fill-rule=\"evenodd\" fill-opacity=\"1\" /><path clip-path=\"url(#clip7300)\" d=\"M 0 0 M1936.12 1452.77 Q1932.51 1452.77 1930.68 1456.34 Q1928.88 1459.88 1928.88 1467.01 Q1928.88 1474.11 1930.68 1477.68 Q1932.51 1481.22 1936.12 1481.22 Q1939.76 1481.22 1941.56 1477.68 Q1943.39 1474.11 1943.39 1467.01 Q1943.39 1459.88 1941.56 1456.34 Q1939.76 1452.77 1936.12 1452.77 M1936.12 1449.07 Q1941.93 1449.07 1944.99 1453.67 Q1948.07 1458.26 1948.07 1467.01 Q1948.07 1475.73 1944.99 1480.34 Q1941.93 1484.92 1936.12 1484.92 Q1930.31 1484.92 1927.23 1480.34 Q1924.18 1475.73 1924.18 1467.01 Q1924.18 1458.26 1927.23 1453.67 Q1930.31 1449.07 1936.12 1449.07 Z\" fill=\"#000000\" fill-rule=\"evenodd\" fill-opacity=\"1\" /><path clip-path=\"url(#clip7300)\" d=\"M 0 0 M1960.38 1452.86 Q1955.29 1452.86 1952.28 1456.66 Q1949.29 1460.46 1949.29 1467.01 Q1949.29 1473.53 1952.28 1477.33 Q1955.29 1481.13 1960.38 1481.13 Q1965.47 1481.13 1968.43 1477.33 Q1971.42 1473.53 1971.42 1467.01 Q1971.42 1460.46 1968.43 1456.66 Q1965.47 1452.86 1960.38 1452.86 M1960.38 1449.07 Q1967.65 1449.07 1972 1453.95 Q1976.35 1458.81 1976.35 1467.01 Q1976.35 1475.18 1972 1480.06 Q1967.65 1484.92 1960.38 1484.92 Q1953.09 1484.92 1948.71 1480.06 Q1944.36 1475.2 1944.36 1467.01 Q1944.36 1458.81 1948.71 1453.95 Q1953.09 1449.07 1960.38 1449.07 Z\" fill=\"#000000\" fill-rule=\"evenodd\" fill-opacity=\"1\" /><path clip-path=\"url(#clip7300)\" d=\"M 0 0 M1999.48 1459.32 L1999.48 1463.3 Q1997.67 1462.31 1995.84 1461.82 Q1994.04 1461.31 1992.18 1461.31 Q1988.04 1461.31 1985.75 1463.95 Q1983.46 1466.57 1983.46 1471.31 Q1983.46 1476.06 1985.75 1478.7 Q1988.04 1481.31 1992.18 1481.31 Q1994.04 1481.31 1995.84 1480.83 Q1997.67 1480.32 1999.48 1479.32 L1999.48 1483.26 Q1997.69 1484.09 1995.77 1484.51 Q1993.87 1484.92 1991.72 1484.92 Q1985.87 1484.92 1982.42 1481.24 Q1978.97 1477.56 1978.97 1471.31 Q1978.97 1464.97 1982.44 1461.34 Q1985.93 1457.7 1992 1457.7 Q1993.97 1457.7 1995.84 1458.12 Q1997.72 1458.51 1999.48 1459.32 Z\" fill=\"#000000\" fill-rule=\"evenodd\" fill-opacity=\"1\" /><path clip-path=\"url(#clip7300)\" d=\"M 0 0 M2008.16 1450.96 L2008.16 1458.33 L2016.93 1458.33 L2016.93 1461.64 L2008.16 1461.64 L2008.16 1475.71 Q2008.16 1478.88 2009.01 1479.78 Q2009.89 1480.69 2012.55 1480.69 L2016.93 1480.69 L2016.93 1484.25 L2012.55 1484.25 Q2007.62 1484.25 2005.75 1482.42 Q2003.87 1480.57 2003.87 1475.71 L2003.87 1461.64 L2000.75 1461.64 L2000.75 1458.33 L2003.87 1458.33 L2003.87 1450.96 L2008.16 1450.96 Z\" fill=\"#000000\" fill-rule=\"evenodd\" fill-opacity=\"1\" /><path clip-path=\"url(#clip7300)\" d=\"M 0 0 M2022 1478.37 L2026.88 1478.37 L2026.88 1484.25 L2022 1484.25 L2022 1478.37 Z\" fill=\"#000000\" fill-rule=\"evenodd\" fill-opacity=\"1\" /><path clip-path=\"url(#clip7300)\" d=\"M 0 0 M2051.05 1480.32 L2067.37 1480.32 L2067.37 1484.25 L2045.42 1484.25 L2045.42 1480.32 Q2048.09 1477.56 2052.67 1472.93 Q2057.28 1468.28 2058.46 1466.94 Q2060.7 1464.41 2061.58 1462.68 Q2062.49 1460.92 2062.49 1459.23 Q2062.49 1456.47 2060.54 1454.74 Q2058.62 1453 2055.52 1453 Q2053.32 1453 2050.86 1453.77 Q2048.43 1454.53 2045.66 1456.08 L2045.66 1451.36 Q2048.48 1450.22 2050.93 1449.65 Q2053.39 1449.07 2055.42 1449.07 Q2060.8 1449.07 2063.99 1451.75 Q2067.18 1454.44 2067.18 1458.93 Q2067.18 1461.06 2066.37 1462.98 Q2065.59 1464.88 2063.48 1467.47 Q2062.9 1468.14 2059.8 1471.36 Q2056.7 1474.55 2051.05 1480.32 Z\" fill=\"#000000\" fill-rule=\"evenodd\" fill-opacity=\"1\" /><path clip-path=\"url(#clip7300)\" d=\"M 0 0 M2082.44 1467.84 Q2079.11 1467.84 2077.18 1469.62 Q2075.29 1471.4 2075.29 1474.53 Q2075.29 1477.65 2077.18 1479.44 Q2079.11 1481.22 2082.44 1481.22 Q2085.77 1481.22 2087.69 1479.44 Q2089.61 1477.63 2089.61 1474.53 Q2089.61 1471.4 2087.69 1469.62 Q2085.8 1467.84 2082.44 1467.84 M2077.76 1465.85 Q2074.75 1465.11 2073.06 1463.05 Q2071.4 1460.99 2071.4 1458.03 Q2071.4 1453.88 2074.34 1451.47 Q2077.3 1449.07 2082.44 1449.07 Q2087.6 1449.07 2090.54 1451.47 Q2093.48 1453.88 2093.48 1458.03 Q2093.48 1460.99 2091.79 1463.05 Q2090.12 1465.11 2087.14 1465.85 Q2090.52 1466.64 2092.39 1468.93 Q2094.29 1471.22 2094.29 1474.53 Q2094.29 1479.55 2091.21 1482.24 Q2088.16 1484.92 2082.44 1484.92 Q2076.72 1484.92 2073.64 1482.24 Q2070.59 1479.55 2070.59 1474.53 Q2070.59 1471.22 2072.49 1468.93 Q2074.38 1466.64 2077.76 1465.85 M2076.05 1458.46 Q2076.05 1461.15 2077.72 1462.65 Q2079.41 1464.16 2082.44 1464.16 Q2085.45 1464.16 2087.14 1462.65 Q2088.85 1461.15 2088.85 1458.46 Q2088.85 1455.78 2087.14 1454.28 Q2085.45 1452.77 2082.44 1452.77 Q2079.41 1452.77 2077.72 1454.28 Q2076.05 1455.78 2076.05 1458.46 Z\" fill=\"#000000\" fill-rule=\"evenodd\" fill-opacity=\"1\" /><path clip-path=\"url(#clip7300)\" d=\"M 0 0 M2099.85 1478.37 L2104.73 1478.37 L2104.73 1482.35 L2100.93 1489.76 L2097.95 1489.76 L2099.85 1482.35 L2099.85 1478.37 Z\" fill=\"#000000\" fill-rule=\"evenodd\" fill-opacity=\"1\" /><path clip-path=\"url(#clip7300)\" d=\"M 0 0 M2128.9 1480.32 L2145.22 1480.32 L2145.22 1484.25 L2123.27 1484.25 L2123.27 1480.32 Q2125.93 1477.56 2130.52 1472.93 Q2135.12 1468.28 2136.3 1466.94 Q2138.55 1464.41 2139.43 1462.68 Q2140.33 1460.92 2140.33 1459.23 Q2140.33 1456.47 2138.39 1454.74 Q2136.47 1453 2133.36 1453 Q2131.17 1453 2128.71 1453.77 Q2126.28 1454.53 2123.5 1456.08 L2123.5 1451.36 Q2126.33 1450.22 2128.78 1449.65 Q2131.23 1449.07 2133.27 1449.07 Q2138.64 1449.07 2141.84 1451.75 Q2145.03 1454.44 2145.03 1458.93 Q2145.03 1461.06 2144.22 1462.98 Q2143.43 1464.88 2141.33 1467.47 Q2140.75 1468.14 2137.65 1471.36 Q2134.54 1474.55 2128.9 1480.32 Z\" fill=\"#000000\" fill-rule=\"evenodd\" fill-opacity=\"1\" /><path clip-path=\"url(#clip7300)\" d=\"M 0 0 M2160.29 1452.77 Q2156.67 1452.77 2154.85 1456.34 Q2153.04 1459.88 2153.04 1467.01 Q2153.04 1474.11 2154.85 1477.68 Q2156.67 1481.22 2160.29 1481.22 Q2163.92 1481.22 2165.73 1477.68 Q2167.55 1474.11 2167.55 1467.01 Q2167.55 1459.88 2165.73 1456.34 Q2163.92 1452.77 2160.29 1452.77 M2160.29 1449.07 Q2166.1 1449.07 2169.15 1453.67 Q2172.23 1458.26 2172.23 1467.01 Q2172.23 1475.73 2169.15 1480.34 Q2166.1 1484.92 2160.29 1484.92 Q2154.48 1484.92 2151.4 1480.34 Q2148.34 1475.73 2148.34 1467.01 Q2148.34 1458.26 2151.4 1453.67 Q2154.48 1449.07 2160.29 1449.07 Z\" fill=\"#000000\" fill-rule=\"evenodd\" fill-opacity=\"1\" /><path clip-path=\"url(#clip7300)\" d=\"M 0 0 M2215.94 1449.69 L2222.24 1449.69 L2237.56 1478.6 L2237.56 1449.69 L2242.1 1449.69 L2242.1 1484.25 L2235.8 1484.25 L2220.48 1455.34 L2220.48 1484.25 L2215.94 1484.25 L2215.94 1449.69 Z\" fill=\"#000000\" fill-rule=\"evenodd\" fill-opacity=\"1\" /><path clip-path=\"url(#clip7300)\" d=\"M 0 0 M2256.61 1461.31 Q2253.19 1461.31 2251.2 1464 Q2249.21 1466.66 2249.21 1471.31 Q2249.21 1475.96 2251.17 1478.65 Q2253.17 1481.31 2256.61 1481.31 Q2260.02 1481.31 2262.01 1478.63 Q2264 1475.94 2264 1471.31 Q2264 1466.71 2262.01 1464.02 Q2260.02 1461.31 2256.61 1461.31 M2256.61 1457.7 Q2262.17 1457.7 2265.34 1461.31 Q2268.51 1464.92 2268.51 1471.31 Q2268.51 1477.68 2265.34 1481.31 Q2262.17 1484.92 2256.61 1484.92 Q2251.04 1484.92 2247.86 1481.31 Q2244.72 1477.68 2244.72 1471.31 Q2244.72 1464.92 2247.86 1461.31 Q2251.04 1457.7 2256.61 1457.7 Z\" fill=\"#000000\" fill-rule=\"evenodd\" fill-opacity=\"1\" /><path clip-path=\"url(#clip7300)\" d=\"M 0 0 M2269.92 1458.33 L2274.44 1458.33 L2282.54 1480.09 L2290.64 1458.33 L2295.16 1458.33 L2285.43 1484.25 L2279.65 1484.25 L2269.92 1458.33 Z\" fill=\"#000000\" fill-rule=\"evenodd\" fill-opacity=\"1\" /><path clip-path=\"url(#clip7300)\" d=\"M 0 0 M2296.54 1478.37 L2301.43 1478.37 L2301.43 1484.25 L2296.54 1484.25 L2296.54 1478.37 Z\" fill=\"#000000\" fill-rule=\"evenodd\" fill-opacity=\"1\" /><path clip-path=\"url(#clip7300)\" d=\"M 0 0 M2334.41 1453.77 L2322.61 1472.21 L2334.41 1472.21 L2334.41 1453.77 M2333.19 1449.69 L2339.07 1449.69 L2339.07 1472.21 L2344 1472.21 L2344 1476.1 L2339.07 1476.1 L2339.07 1484.25 L2334.41 1484.25 L2334.41 1476.1 L2318.81 1476.1 L2318.81 1471.59 L2333.19 1449.69 Z\" fill=\"#000000\" fill-rule=\"evenodd\" fill-opacity=\"1\" /><path clip-path=\"url(#clip7300)\" d=\"M 0 0 M2349.55 1478.37 L2354.44 1478.37 L2354.44 1482.35 L2350.64 1489.76 L2347.66 1489.76 L2349.55 1482.35 L2349.55 1478.37 Z\" fill=\"#000000\" fill-rule=\"evenodd\" fill-opacity=\"1\" /><path clip-path=\"url(#clip7300)\" d=\"M 0 0 M2378.6 1480.32 L2394.92 1480.32 L2394.92 1484.25 L2372.98 1484.25 L2372.98 1480.32 Q2375.64 1477.56 2380.22 1472.93 Q2384.83 1468.28 2386.01 1466.94 Q2388.26 1464.41 2389.14 1462.68 Q2390.04 1460.92 2390.04 1459.23 Q2390.04 1456.47 2388.09 1454.74 Q2386.17 1453 2383.07 1453 Q2380.87 1453 2378.42 1453.77 Q2375.99 1454.53 2373.21 1456.08 L2373.21 1451.36 Q2376.03 1450.22 2378.49 1449.65 Q2380.94 1449.07 2382.98 1449.07 Q2388.35 1449.07 2391.54 1451.75 Q2394.74 1454.44 2394.74 1458.93 Q2394.74 1461.06 2393.93 1462.98 Q2393.14 1464.88 2391.03 1467.47 Q2390.46 1468.14 2387.35 1471.36 Q2384.25 1474.55 2378.6 1480.32 Z\" fill=\"#000000\" fill-rule=\"evenodd\" fill-opacity=\"1\" /><path clip-path=\"url(#clip7300)\" d=\"M 0 0 M2409.99 1452.77 Q2406.38 1452.77 2404.55 1456.34 Q2402.75 1459.88 2402.75 1467.01 Q2402.75 1474.11 2404.55 1477.68 Q2406.38 1481.22 2409.99 1481.22 Q2413.63 1481.22 2415.43 1477.68 Q2417.26 1474.11 2417.26 1467.01 Q2417.26 1459.88 2415.43 1456.34 Q2413.63 1452.77 2409.99 1452.77 M2409.99 1449.07 Q2415.8 1449.07 2418.86 1453.67 Q2421.94 1458.26 2421.94 1467.01 Q2421.94 1475.73 2418.86 1480.34 Q2415.8 1484.92 2409.99 1484.92 Q2404.18 1484.92 2401.1 1480.34 Q2398.05 1475.73 2398.05 1467.01 Q2398.05 1458.26 2401.1 1453.67 Q2404.18 1449.07 2409.99 1449.07 Z\" fill=\"#000000\" fill-rule=\"evenodd\" fill-opacity=\"1\" /><path clip-path=\"url(#clip7300)\" d=\"M 0 0 M2464.55 1449.69 L2470.85 1449.69 L2486.17 1478.6 L2486.17 1449.69 L2490.71 1449.69 L2490.71 1484.25 L2484.41 1484.25 L2469.09 1455.34 L2469.09 1484.25 L2464.55 1484.25 L2464.55 1449.69 Z\" fill=\"#000000\" fill-rule=\"evenodd\" fill-opacity=\"1\" /><path clip-path=\"url(#clip7300)\" d=\"M 0 0 M2505.22 1461.31 Q2501.8 1461.31 2499.81 1464 Q2497.81 1466.66 2497.81 1471.31 Q2497.81 1475.96 2499.78 1478.65 Q2501.77 1481.31 2505.22 1481.31 Q2508.62 1481.31 2510.62 1478.63 Q2512.61 1475.94 2512.61 1471.31 Q2512.61 1466.71 2510.62 1464.02 Q2508.62 1461.31 2505.22 1461.31 M2505.22 1457.7 Q2510.78 1457.7 2513.95 1461.31 Q2517.12 1464.92 2517.12 1471.31 Q2517.12 1477.68 2513.95 1481.31 Q2510.78 1484.92 2505.22 1484.92 Q2499.64 1484.92 2496.47 1481.31 Q2493.32 1477.68 2493.32 1471.31 Q2493.32 1464.92 2496.47 1461.31 Q2499.64 1457.7 2505.22 1457.7 Z\" fill=\"#000000\" fill-rule=\"evenodd\" fill-opacity=\"1\" /><path clip-path=\"url(#clip7300)\" d=\"M 0 0 M2518.53 1458.33 L2523.05 1458.33 L2531.15 1480.09 L2539.25 1458.33 L2543.76 1458.33 L2534.04 1484.25 L2528.25 1484.25 L2518.53 1458.33 Z\" fill=\"#000000\" fill-rule=\"evenodd\" fill-opacity=\"1\" /><path clip-path=\"url(#clip7300)\" d=\"M 0 0 M2545.15 1478.37 L2550.04 1478.37 L2550.04 1484.25 L2545.15 1484.25 L2545.15 1478.37 Z\" fill=\"#000000\" fill-rule=\"evenodd\" fill-opacity=\"1\" /><path clip-path=\"url(#clip7300)\" d=\"M 0 0 M2570.99 1480.32 L2578.62 1480.32 L2578.62 1453.95 L2570.31 1455.62 L2570.31 1451.36 L2578.58 1449.69 L2583.25 1449.69 L2583.25 1480.32 L2590.89 1480.32 L2590.89 1484.25 L2570.99 1484.25 L2570.99 1480.32 Z\" fill=\"#000000\" fill-rule=\"evenodd\" fill-opacity=\"1\" /><path clip-path=\"url(#clip7300)\" d=\"M 0 0 M2596.77 1480.32 L2604.41 1480.32 L2604.41 1453.95 L2596.1 1455.62 L2596.1 1451.36 L2604.36 1449.69 L2609.04 1449.69 L2609.04 1480.32 L2616.68 1480.32 L2616.68 1484.25 L2596.77 1484.25 L2596.77 1480.32 Z\" fill=\"#000000\" fill-rule=\"evenodd\" fill-opacity=\"1\" /><path clip-path=\"url(#clip7300)\" d=\"M 0 0 M2622.24 1478.37 L2627.12 1478.37 L2627.12 1482.35 L2623.32 1489.76 L2620.34 1489.76 L2622.24 1482.35 L2622.24 1478.37 Z\" fill=\"#000000\" fill-rule=\"evenodd\" fill-opacity=\"1\" /><path clip-path=\"url(#clip7300)\" d=\"M 0 0 M2651.29 1480.32 L2667.61 1480.32 L2667.61 1484.25 L2645.66 1484.25 L2645.66 1480.32 Q2648.32 1477.56 2652.91 1472.93 Q2657.51 1468.28 2658.69 1466.94 Q2660.94 1464.41 2661.82 1462.68 Q2662.72 1460.92 2662.72 1459.23 Q2662.72 1456.47 2660.78 1454.74 Q2658.86 1453 2655.75 1453 Q2653.55 1453 2651.1 1453.77 Q2648.67 1454.53 2645.89 1456.08 L2645.89 1451.36 Q2648.72 1450.22 2651.17 1449.65 Q2653.62 1449.07 2655.66 1449.07 Q2661.03 1449.07 2664.23 1451.75 Q2667.42 1454.44 2667.42 1458.93 Q2667.42 1461.06 2666.61 1462.98 Q2665.82 1464.88 2663.72 1467.47 Q2663.14 1468.14 2660.04 1471.36 Q2656.93 1474.55 2651.29 1480.32 Z\" fill=\"#000000\" fill-rule=\"evenodd\" fill-opacity=\"1\" /><path clip-path=\"url(#clip7300)\" d=\"M 0 0 M2682.67 1452.77 Q2679.06 1452.77 2677.23 1456.34 Q2675.43 1459.88 2675.43 1467.01 Q2675.43 1474.11 2677.23 1477.68 Q2679.06 1481.22 2682.67 1481.22 Q2686.31 1481.22 2688.11 1477.68 Q2689.94 1474.11 2689.94 1467.01 Q2689.94 1459.88 2688.11 1456.34 Q2686.31 1452.77 2682.67 1452.77 M2682.67 1449.07 Q2688.48 1449.07 2691.54 1453.67 Q2694.62 1458.26 2694.62 1467.01 Q2694.62 1475.73 2691.54 1480.34 Q2688.48 1484.92 2682.67 1484.92 Q2676.86 1484.92 2673.79 1480.34 Q2670.73 1475.73 2670.73 1467.01 Q2670.73 1458.26 2673.79 1453.67 Q2676.86 1449.07 2682.67 1449.07 Z\" fill=\"#000000\" fill-rule=\"evenodd\" fill-opacity=\"1\" /><path clip-path=\"url(#clip7300)\" d=\"M 0 0 M2687.8 1449.69 L2694.1 1449.69 L2709.42 1478.6 L2709.42 1449.69 L2713.96 1449.69 L2713.96 1484.25 L2707.66 1484.25 L2692.34 1455.34 L2692.34 1484.25 L2687.8 1484.25 L2687.8 1449.69 Z\" fill=\"#000000\" fill-rule=\"evenodd\" fill-opacity=\"1\" /><path clip-path=\"url(#clip7300)\" d=\"M 0 0 M2728.47 1461.31 Q2725.04 1461.31 2723.05 1464 Q2721.06 1466.66 2721.06 1471.31 Q2721.06 1475.96 2723.03 1478.65 Q2725.02 1481.31 2728.47 1481.31 Q2731.87 1481.31 2733.86 1478.63 Q2735.85 1475.94 2735.85 1471.31 Q2735.85 1466.71 2733.86 1464.02 Q2731.87 1461.31 2728.47 1461.31 M2728.47 1457.7 Q2734.03 1457.7 2737.2 1461.31 Q2740.37 1464.92 2740.37 1471.31 Q2740.37 1477.68 2737.2 1481.31 Q2734.03 1484.92 2728.47 1484.92 Q2722.89 1484.92 2719.72 1481.31 Q2716.57 1477.68 2716.57 1471.31 Q2716.57 1464.92 2719.72 1461.31 Q2722.89 1457.7 2728.47 1457.7 Z\" fill=\"#000000\" fill-rule=\"evenodd\" fill-opacity=\"1\" /><path clip-path=\"url(#clip7300)\" d=\"M 0 0 M2741.78 1458.33 L2746.29 1458.33 L2754.4 1480.09 L2762.5 1458.33 L2767.01 1458.33 L2757.29 1484.25 L2751.5 1484.25 L2741.78 1458.33 Z\" fill=\"#000000\" fill-rule=\"evenodd\" fill-opacity=\"1\" /><path clip-path=\"url(#clip7300)\" d=\"M 0 0 M2768.4 1478.37 L2773.28 1478.37 L2773.28 1484.25 L2768.4 1484.25 L2768.4 1478.37 Z\" fill=\"#000000\" fill-rule=\"evenodd\" fill-opacity=\"1\" /><path clip-path=\"url(#clip7300)\" d=\"M 0 0 M2794.23 1480.32 L2801.87 1480.32 L2801.87 1453.95 L2793.56 1455.62 L2793.56 1451.36 L2801.83 1449.69 L2806.5 1449.69 L2806.5 1480.32 L2814.14 1480.32 L2814.14 1484.25 L2794.23 1484.25 L2794.23 1480.32 Z\" fill=\"#000000\" fill-rule=\"evenodd\" fill-opacity=\"1\" /><path clip-path=\"url(#clip7300)\" d=\"M 0 0 M2818.03 1449.69 L2840.25 1449.69 L2840.25 1451.68 L2827.71 1484.25 L2822.82 1484.25 L2834.63 1453.63 L2818.03 1453.63 L2818.03 1449.69 Z\" fill=\"#000000\" fill-rule=\"evenodd\" fill-opacity=\"1\" /><path clip-path=\"url(#clip7300)\" d=\"M 0 0 M2845.81 1478.37 L2850.69 1478.37 L2850.69 1482.35 L2846.9 1489.76 L2843.91 1489.76 L2845.81 1482.35 L2845.81 1478.37 Z\" fill=\"#000000\" fill-rule=\"evenodd\" fill-opacity=\"1\" /><path clip-path=\"url(#clip7300)\" d=\"M 0 0 M2874.86 1480.32 L2891.18 1480.32 L2891.18 1484.25 L2869.23 1484.25 L2869.23 1480.32 Q2871.89 1477.56 2876.48 1472.93 Q2881.08 1468.28 2882.27 1466.94 Q2884.51 1464.41 2885.39 1462.68 Q2886.29 1460.92 2886.29 1459.23 Q2886.29 1456.47 2884.35 1454.74 Q2882.43 1453 2879.33 1453 Q2877.13 1453 2874.67 1453.77 Q2872.24 1454.53 2869.46 1456.08 L2869.46 1451.36 Q2872.29 1450.22 2874.74 1449.65 Q2877.2 1449.07 2879.23 1449.07 Q2884.6 1449.07 2887.8 1451.75 Q2890.99 1454.44 2890.99 1458.93 Q2890.99 1461.06 2890.18 1462.98 Q2889.39 1464.88 2887.29 1467.47 Q2886.71 1468.14 2883.61 1471.36 Q2880.51 1474.55 2874.86 1480.32 Z\" fill=\"#000000\" fill-rule=\"evenodd\" fill-opacity=\"1\" /><path clip-path=\"url(#clip7300)\" d=\"M 0 0 M2906.25 1452.77 Q2902.64 1452.77 2900.81 1456.34 Q2899 1459.88 2899 1467.01 Q2899 1474.11 2900.81 1477.68 Q2902.64 1481.22 2906.25 1481.22 Q2909.88 1481.22 2911.69 1477.68 Q2913.52 1474.11 2913.52 1467.01 Q2913.52 1459.88 2911.69 1456.34 Q2909.88 1452.77 2906.25 1452.77 M2906.25 1449.07 Q2912.06 1449.07 2915.11 1453.67 Q2918.19 1458.26 2918.19 1467.01 Q2918.19 1475.73 2915.11 1480.34 Q2912.06 1484.92 2906.25 1484.92 Q2900.44 1484.92 2897.36 1480.34 Q2894.3 1475.73 2894.3 1467.01 Q2894.3 1458.26 2897.36 1453.67 Q2900.44 1449.07 2906.25 1449.07 Z\" fill=\"#000000\" fill-rule=\"evenodd\" fill-opacity=\"1\" /><path clip-path=\"url(#clip7300)\" d=\"M 0 0 M2911.27 1449.69 L2917.56 1449.69 L2932.89 1478.6 L2932.89 1449.69 L2937.42 1449.69 L2937.42 1484.25 L2931.13 1484.25 L2915.8 1455.34 L2915.8 1484.25 L2911.27 1484.25 L2911.27 1449.69 Z\" fill=\"#000000\" fill-rule=\"evenodd\" fill-opacity=\"1\" /><path clip-path=\"url(#clip7300)\" d=\"M 0 0 M2951.94 1461.31 Q2948.51 1461.31 2946.52 1464 Q2944.53 1466.66 2944.53 1471.31 Q2944.53 1475.96 2946.5 1478.65 Q2948.49 1481.31 2951.94 1481.31 Q2955.34 1481.31 2957.33 1478.63 Q2959.32 1475.94 2959.32 1471.31 Q2959.32 1466.71 2957.33 1464.02 Q2955.34 1461.31 2951.94 1461.31 M2951.94 1457.7 Q2957.49 1457.7 2960.66 1461.31 Q2963.84 1464.92 2963.84 1471.31 Q2963.84 1477.68 2960.66 1481.31 Q2957.49 1484.92 2951.94 1484.92 Q2946.36 1484.92 2943.19 1481.31 Q2940.04 1477.68 2940.04 1471.31 Q2940.04 1464.92 2943.19 1461.31 Q2946.36 1457.7 2951.94 1457.7 Z\" fill=\"#000000\" fill-rule=\"evenodd\" fill-opacity=\"1\" /><path clip-path=\"url(#clip7300)\" d=\"M 0 0 M2965.25 1458.33 L2969.76 1458.33 L2977.86 1480.09 L2985.97 1458.33 L2990.48 1458.33 L2980.76 1484.25 L2974.97 1484.25 L2965.25 1458.33 Z\" fill=\"#000000\" fill-rule=\"evenodd\" fill-opacity=\"1\" /><path clip-path=\"url(#clip7300)\" d=\"M 0 0 M2991.87 1478.37 L2996.75 1478.37 L2996.75 1484.25 L2991.87 1484.25 L2991.87 1478.37 Z\" fill=\"#000000\" fill-rule=\"evenodd\" fill-opacity=\"1\" /><path clip-path=\"url(#clip7300)\" d=\"M 0 0 M3020.92 1480.32 L3037.24 1480.32 L3037.24 1484.25 L3015.29 1484.25 L3015.29 1480.32 Q3017.96 1477.56 3022.54 1472.93 Q3027.15 1468.28 3028.33 1466.94 Q3030.57 1464.41 3031.45 1462.68 Q3032.35 1460.92 3032.35 1459.23 Q3032.35 1456.47 3030.41 1454.74 Q3028.49 1453 3025.39 1453 Q3023.19 1453 3020.73 1453.77 Q3018.3 1454.53 3015.53 1456.08 L3015.53 1451.36 Q3018.35 1450.22 3020.8 1449.65 Q3023.26 1449.07 3025.29 1449.07 Q3030.66 1449.07 3033.86 1451.75 Q3037.05 1454.44 3037.05 1458.93 Q3037.05 1461.06 3036.24 1462.98 Q3035.46 1464.88 3033.35 1467.47 Q3032.77 1468.14 3029.67 1471.36 Q3026.57 1474.55 3020.92 1480.32 Z\" fill=\"#000000\" fill-rule=\"evenodd\" fill-opacity=\"1\" /><path clip-path=\"url(#clip7300)\" d=\"M 0 0 M3056.47 1465.62 Q3059.83 1466.34 3061.71 1468.6 Q3063.6 1470.87 3063.6 1474.21 Q3063.6 1479.32 3060.09 1482.12 Q3056.57 1484.92 3050.09 1484.92 Q3047.91 1484.92 3045.59 1484.48 Q3043.3 1484.07 3040.85 1483.21 L3040.85 1478.7 Q3042.79 1479.83 3045.11 1480.41 Q3047.42 1480.99 3049.95 1480.99 Q3054.34 1480.99 3056.64 1479.25 Q3058.95 1477.52 3058.95 1474.21 Q3058.95 1471.15 3056.8 1469.44 Q3054.67 1467.7 3050.85 1467.7 L3046.82 1467.7 L3046.82 1463.86 L3051.03 1463.86 Q3054.48 1463.86 3056.31 1462.49 Q3058.14 1461.1 3058.14 1458.51 Q3058.14 1455.85 3056.24 1454.44 Q3054.37 1453 3050.85 1453 Q3048.93 1453 3046.73 1453.42 Q3044.53 1453.84 3041.89 1454.71 L3041.89 1450.55 Q3044.55 1449.81 3046.87 1449.44 Q3049.21 1449.07 3051.27 1449.07 Q3056.59 1449.07 3059.69 1451.5 Q3062.79 1453.9 3062.79 1458.03 Q3062.79 1460.9 3061.15 1462.89 Q3059.51 1464.85 3056.47 1465.62 Z\" fill=\"#000000\" fill-rule=\"evenodd\" fill-opacity=\"1\" /><path clip-path=\"url(#clip7300)\" d=\"M 0 0 M3069.16 1478.37 L3074.04 1478.37 L3074.04 1482.35 L3070.25 1489.76 L3067.26 1489.76 L3069.16 1482.35 L3069.16 1478.37 Z\" fill=\"#000000\" fill-rule=\"evenodd\" fill-opacity=\"1\" /><path clip-path=\"url(#clip7300)\" d=\"M 0 0 M3098.21 1480.32 L3114.53 1480.32 L3114.53 1484.25 L3092.58 1484.25 L3092.58 1480.32 Q3095.25 1477.56 3099.83 1472.93 Q3104.44 1468.28 3105.62 1466.94 Q3107.86 1464.41 3108.74 1462.68 Q3109.65 1460.92 3109.65 1459.23 Q3109.65 1456.47 3107.7 1454.74 Q3105.78 1453 3102.68 1453 Q3100.48 1453 3098.02 1453.77 Q3095.59 1454.53 3092.82 1456.08 L3092.82 1451.36 Q3095.64 1450.22 3098.09 1449.65 Q3100.55 1449.07 3102.58 1449.07 Q3107.96 1449.07 3111.15 1451.75 Q3114.34 1454.44 3114.34 1458.93 Q3114.34 1461.06 3113.53 1462.98 Q3112.75 1464.88 3110.64 1467.47 Q3110.06 1468.14 3106.96 1471.36 Q3103.86 1474.55 3098.21 1480.32 Z\" fill=\"#000000\" fill-rule=\"evenodd\" fill-opacity=\"1\" /><path clip-path=\"url(#clip7300)\" d=\"M 0 0 M3129.6 1452.77 Q3125.99 1452.77 3124.16 1456.34 Q3122.35 1459.88 3122.35 1467.01 Q3122.35 1474.11 3124.16 1477.68 Q3125.99 1481.22 3129.6 1481.22 Q3133.23 1481.22 3135.04 1477.68 Q3136.87 1474.11 3136.87 1467.01 Q3136.87 1459.88 3135.04 1456.34 Q3133.23 1452.77 3129.6 1452.77 M3129.6 1449.07 Q3135.41 1449.07 3138.46 1453.67 Q3141.54 1458.26 3141.54 1467.01 Q3141.54 1475.73 3138.46 1480.34 Q3135.41 1484.92 3129.6 1484.92 Q3123.79 1484.92 3120.71 1480.34 Q3117.65 1475.73 3117.65 1467.01 Q3117.65 1458.26 3120.71 1453.67 Q3123.79 1449.07 3129.6 1449.07 Z\" fill=\"#000000\" fill-rule=\"evenodd\" fill-opacity=\"1\" /><path clip-path=\"url(#clip7300)\" d=\"M 0 0 M3171.11 1449.69 L3177.41 1449.69 L3192.73 1478.6 L3192.73 1449.69 L3197.27 1449.69 L3197.27 1484.25 L3190.97 1484.25 L3175.65 1455.34 L3175.65 1484.25 L3171.11 1484.25 L3171.11 1449.69 Z\" fill=\"#000000\" fill-rule=\"evenodd\" fill-opacity=\"1\" /><path clip-path=\"url(#clip7300)\" d=\"M 0 0 M3211.78 1461.31 Q3208.36 1461.31 3206.37 1464 Q3204.38 1466.66 3204.38 1471.31 Q3204.38 1475.96 3206.34 1478.65 Q3208.33 1481.31 3211.78 1481.31 Q3215.19 1481.31 3217.18 1478.63 Q3219.17 1475.94 3219.17 1471.31 Q3219.17 1466.71 3217.18 1464.02 Q3215.19 1461.31 3211.78 1461.31 M3211.78 1457.7 Q3217.34 1457.7 3220.51 1461.31 Q3223.68 1464.92 3223.68 1471.31 Q3223.68 1477.68 3220.51 1481.31 Q3217.34 1484.92 3211.78 1484.92 Q3206.21 1484.92 3203.03 1481.31 Q3199.89 1477.68 3199.89 1471.31 Q3199.89 1464.92 3203.03 1461.31 Q3206.21 1457.7 3211.78 1457.7 Z\" fill=\"#000000\" fill-rule=\"evenodd\" fill-opacity=\"1\" /><path clip-path=\"url(#clip7300)\" d=\"M 0 0 M3225.09 1458.33 L3229.61 1458.33 L3237.71 1480.09 L3245.81 1458.33 L3250.33 1458.33 L3240.6 1484.25 L3234.82 1484.25 L3225.09 1458.33 Z\" fill=\"#000000\" fill-rule=\"evenodd\" fill-opacity=\"1\" /><path clip-path=\"url(#clip7300)\" d=\"M 0 0 M3251.71 1478.37 L3256.6 1478.37 L3256.6 1484.25 L3251.71 1484.25 L3251.71 1478.37 Z\" fill=\"#000000\" fill-rule=\"evenodd\" fill-opacity=\"1\" /><path clip-path=\"url(#clip7300)\" d=\"M 0 0 M3290.9 1465.62 Q3294.26 1466.34 3296.14 1468.6 Q3298.03 1470.87 3298.03 1474.21 Q3298.03 1479.32 3294.51 1482.12 Q3291 1484.92 3284.51 1484.92 Q3282.34 1484.92 3280.02 1484.48 Q3277.73 1484.07 3275.28 1483.21 L3275.28 1478.7 Q3277.22 1479.83 3279.54 1480.41 Q3281.85 1480.99 3284.38 1480.99 Q3288.77 1480.99 3291.07 1479.25 Q3293.38 1477.52 3293.38 1474.21 Q3293.38 1471.15 3291.23 1469.44 Q3289.1 1467.7 3285.28 1467.7 L3281.25 1467.7 L3281.25 1463.86 L3285.46 1463.86 Q3288.91 1463.86 3290.74 1462.49 Q3292.57 1461.1 3292.57 1458.51 Q3292.57 1455.85 3290.67 1454.44 Q3288.8 1453 3285.28 1453 Q3283.36 1453 3281.16 1453.42 Q3278.96 1453.84 3276.32 1454.71 L3276.32 1450.55 Q3278.98 1449.81 3281.3 1449.44 Q3283.64 1449.07 3285.7 1449.07 Q3291.02 1449.07 3294.12 1451.5 Q3297.22 1453.9 3297.22 1458.03 Q3297.22 1460.9 3295.58 1462.89 Q3293.94 1464.85 3290.9 1465.62 Z\" fill=\"#000000\" fill-rule=\"evenodd\" fill-opacity=\"1\" /><path clip-path=\"url(#clip7300)\" d=\"M 0 0 M3313.1 1452.77 Q3309.49 1452.77 3307.66 1456.34 Q3305.86 1459.88 3305.86 1467.01 Q3305.86 1474.11 3307.66 1477.68 Q3309.49 1481.22 3313.1 1481.22 Q3316.74 1481.22 3318.54 1477.68 Q3320.37 1474.11 3320.37 1467.01 Q3320.37 1459.88 3318.54 1456.34 Q3316.74 1452.77 3313.1 1452.77 M3313.1 1449.07 Q3318.91 1449.07 3321.97 1453.67 Q3325.05 1458.26 3325.05 1467.01 Q3325.05 1475.73 3321.97 1480.34 Q3318.91 1484.92 3313.1 1484.92 Q3307.29 1484.92 3304.21 1480.34 Q3301.16 1475.73 3301.16 1467.01 Q3301.16 1458.26 3304.21 1453.67 Q3307.29 1449.07 3313.1 1449.07 Z\" fill=\"#000000\" fill-rule=\"evenodd\" fill-opacity=\"1\" /><path clip-path=\"url(#clip7300)\" d=\"M 0 0 M3330.6 1478.37 L3335.49 1478.37 L3335.49 1482.35 L3331.69 1489.76 L3328.7 1489.76 L3330.6 1482.35 L3330.6 1478.37 Z\" fill=\"#000000\" fill-rule=\"evenodd\" fill-opacity=\"1\" /><path clip-path=\"url(#clip7300)\" d=\"M 0 0 M3359.65 1480.32 L3375.97 1480.32 L3375.97 1484.25 L3354.03 1484.25 L3354.03 1480.32 Q3356.69 1477.56 3361.27 1472.93 Q3365.88 1468.28 3367.06 1466.94 Q3369.31 1464.41 3370.19 1462.68 Q3371.09 1460.92 3371.09 1459.23 Q3371.09 1456.47 3369.14 1454.74 Q3367.22 1453 3364.12 1453 Q3361.92 1453 3359.47 1453.77 Q3357.04 1454.53 3354.26 1456.08 L3354.26 1451.36 Q3357.08 1450.22 3359.54 1449.65 Q3361.99 1449.07 3364.03 1449.07 Q3369.4 1449.07 3372.59 1451.75 Q3375.79 1454.44 3375.79 1458.93 Q3375.79 1461.06 3374.98 1462.98 Q3374.19 1464.88 3372.08 1467.47 Q3371.51 1468.14 3368.4 1471.36 Q3365.3 1474.55 3359.65 1480.32 Z\" fill=\"#000000\" fill-rule=\"evenodd\" fill-opacity=\"1\" /><path clip-path=\"url(#clip7300)\" d=\"M 0 0 M3391.04 1452.77 Q3387.43 1452.77 3385.6 1456.34 Q3383.8 1459.88 3383.8 1467.01 Q3383.8 1474.11 3385.6 1477.68 Q3387.43 1481.22 3391.04 1481.22 Q3394.68 1481.22 3396.48 1477.68 Q3398.31 1474.11 3398.31 1467.01 Q3398.31 1459.88 3396.48 1456.34 Q3394.68 1452.77 3391.04 1452.77 M3391.04 1449.07 Q3396.85 1449.07 3399.91 1453.67 Q3402.99 1458.26 3402.99 1467.01 Q3402.99 1475.73 3399.91 1480.34 Q3396.85 1484.92 3391.04 1484.92 Q3385.23 1484.92 3382.15 1480.34 Q3379.1 1475.73 3379.1 1467.01 Q3379.1 1458.26 3382.15 1453.67 Q3385.23 1449.07 3391.04 1449.07 Z\" fill=\"#000000\" fill-rule=\"evenodd\" fill-opacity=\"1\" /><path clip-path=\"url(#clip7300)\" d=\"M 0 0 M3448.42 1453.53 L3448.42 1480.41 L3454.07 1480.41 Q3461.23 1480.41 3464.54 1477.17 Q3467.87 1473.93 3467.87 1466.94 Q3467.87 1459.99 3464.54 1456.78 Q3461.23 1453.53 3454.07 1453.53 L3448.42 1453.53 M3443.75 1449.69 L3453.35 1449.69 Q3463.4 1449.69 3468.1 1453.88 Q3472.8 1458.05 3472.8 1466.94 Q3472.8 1475.87 3468.08 1480.06 Q3463.35 1484.25 3453.35 1484.25 L3443.75 1484.25 L3443.75 1449.69 Z\" fill=\"#000000\" fill-rule=\"evenodd\" fill-opacity=\"1\" /><path clip-path=\"url(#clip7300)\" d=\"M 0 0 M3499.44 1470.22 L3499.44 1472.31 L3479.86 1472.31 Q3480.14 1476.71 3482.5 1479.02 Q3484.88 1481.31 3489.12 1481.31 Q3491.57 1481.31 3493.86 1480.71 Q3496.18 1480.11 3498.45 1478.9 L3498.45 1482.93 Q3496.16 1483.9 3493.75 1484.41 Q3491.34 1484.92 3488.86 1484.92 Q3482.66 1484.92 3479.03 1481.31 Q3475.41 1477.7 3475.41 1471.54 Q3475.41 1465.18 3478.84 1461.45 Q3482.29 1457.7 3488.12 1457.7 Q3493.35 1457.7 3496.39 1461.08 Q3499.44 1464.44 3499.44 1470.22 M3495.18 1468.97 Q3495.14 1465.48 3493.22 1463.4 Q3491.32 1461.31 3488.17 1461.31 Q3484.6 1461.31 3482.45 1463.33 Q3480.32 1465.34 3480 1469 L3495.18 1468.97 Z\" fill=\"#000000\" fill-rule=\"evenodd\" fill-opacity=\"1\" /><path clip-path=\"url(#clip7300)\" d=\"M 0 0 M3522.57 1459.32 L3522.57 1463.3 Q3520.76 1462.31 3518.93 1461.82 Q3517.13 1461.31 3515.28 1461.31 Q3511.13 1461.31 3508.84 1463.95 Q3506.55 1466.57 3506.55 1471.31 Q3506.55 1476.06 3508.84 1478.7 Q3511.13 1481.31 3515.28 1481.31 Q3517.13 1481.31 3518.93 1480.83 Q3520.76 1480.32 3522.57 1479.32 L3522.57 1483.26 Q3520.78 1484.09 3518.86 1484.51 Q3516.97 1484.92 3514.81 1484.92 Q3508.96 1484.92 3505.51 1481.24 Q3502.06 1477.56 3502.06 1471.31 Q3502.06 1464.97 3505.53 1461.34 Q3509.03 1457.7 3515.09 1457.7 Q3517.06 1457.7 3518.93 1458.12 Q3520.81 1458.51 3522.57 1459.32 Z\" fill=\"#000000\" fill-rule=\"evenodd\" fill-opacity=\"1\" /><path clip-path=\"url(#clip7300)\" d=\"M 0 0 M3527.64 1478.37 L3532.52 1478.37 L3532.52 1484.25 L3527.64 1484.25 L3527.64 1478.37 Z\" fill=\"#000000\" fill-rule=\"evenodd\" fill-opacity=\"1\" /><path clip-path=\"url(#clip7300)\" d=\"M 0 0 M3551.48 1449.69 L3573.7 1449.69 L3573.7 1451.68 L3561.16 1484.25 L3556.27 1484.25 L3568.08 1453.63 L3551.48 1453.63 L3551.48 1449.69 Z\" fill=\"#000000\" fill-rule=\"evenodd\" fill-opacity=\"1\" /><path clip-path=\"url(#clip7300)\" d=\"M 0 0 M3579.26 1478.37 L3584.14 1478.37 L3584.14 1482.35 L3580.34 1489.76 L3577.36 1489.76 L3579.26 1482.35 L3579.26 1478.37 Z\" fill=\"#000000\" fill-rule=\"evenodd\" fill-opacity=\"1\" /><path clip-path=\"url(#clip7300)\" d=\"M 0 0 M3608.31 1480.32 L3624.63 1480.32 L3624.63 1484.25 L3602.68 1484.25 L3602.68 1480.32 Q3605.34 1477.56 3609.93 1472.93 Q3614.53 1468.28 3615.71 1466.94 Q3617.96 1464.41 3618.84 1462.68 Q3619.74 1460.92 3619.74 1459.23 Q3619.74 1456.47 3617.8 1454.74 Q3615.88 1453 3612.78 1453 Q3610.58 1453 3608.12 1453.77 Q3605.69 1454.53 3602.91 1456.08 L3602.91 1451.36 Q3605.74 1450.22 3608.19 1449.65 Q3610.65 1449.07 3612.68 1449.07 Q3618.05 1449.07 3621.25 1451.75 Q3624.44 1454.44 3624.44 1458.93 Q3624.44 1461.06 3623.63 1462.98 Q3622.84 1464.88 3620.74 1467.47 Q3620.16 1468.14 3617.06 1471.36 Q3613.96 1474.55 3608.31 1480.32 Z\" fill=\"#000000\" fill-rule=\"evenodd\" fill-opacity=\"1\" /><path clip-path=\"url(#clip7300)\" d=\"M 0 0 M3639.7 1452.77 Q3636.09 1452.77 3634.26 1456.34 Q3632.45 1459.88 3632.45 1467.01 Q3632.45 1474.11 3634.26 1477.68 Q3636.09 1481.22 3639.7 1481.22 Q3643.33 1481.22 3645.14 1477.68 Q3646.96 1474.11 3646.96 1467.01 Q3646.96 1459.88 3645.14 1456.34 Q3643.33 1452.77 3639.7 1452.77 M3639.7 1449.07 Q3645.51 1449.07 3648.56 1453.67 Q3651.64 1458.26 3651.64 1467.01 Q3651.64 1475.73 3648.56 1480.34 Q3645.51 1484.92 3639.7 1484.92 Q3633.89 1484.92 3630.81 1480.34 Q3627.75 1475.73 3627.75 1467.01 Q3627.75 1458.26 3630.81 1453.67 Q3633.89 1449.07 3639.7 1449.07 Z\" fill=\"#000000\" fill-rule=\"evenodd\" fill-opacity=\"1\" /><path clip-path=\"url(#clip7300)\" d=\"M 0 0 M3658.81 1453.53 L3658.81 1480.41 L3664.46 1480.41 Q3671.61 1480.41 3674.92 1477.17 Q3678.26 1473.93 3678.26 1466.94 Q3678.26 1459.99 3674.92 1456.78 Q3671.61 1453.53 3664.46 1453.53 L3658.81 1453.53 M3654.14 1449.69 L3663.74 1449.69 Q3673.79 1449.69 3678.49 1453.88 Q3683.19 1458.05 3683.19 1466.94 Q3683.19 1475.87 3678.47 1480.06 Q3673.74 1484.25 3663.74 1484.25 L3654.14 1484.25 L3654.14 1449.69 Z\" fill=\"#000000\" fill-rule=\"evenodd\" fill-opacity=\"1\" /><path clip-path=\"url(#clip7300)\" d=\"M 0 0 M3709.83 1470.22 L3709.83 1472.31 L3690.25 1472.31 Q3690.53 1476.71 3692.89 1479.02 Q3695.27 1481.31 3699.51 1481.31 Q3701.96 1481.31 3704.25 1480.71 Q3706.57 1480.11 3708.84 1478.9 L3708.84 1482.93 Q3706.54 1483.9 3704.14 1484.41 Q3701.73 1484.92 3699.25 1484.92 Q3693.05 1484.92 3689.42 1481.31 Q3685.8 1477.7 3685.8 1471.54 Q3685.8 1465.18 3689.23 1461.45 Q3692.68 1457.7 3698.51 1457.7 Q3703.74 1457.7 3706.78 1461.08 Q3709.83 1464.44 3709.83 1470.22 M3705.57 1468.97 Q3705.53 1465.48 3703.6 1463.4 Q3701.71 1461.31 3698.56 1461.31 Q3694.99 1461.31 3692.84 1463.33 Q3690.71 1465.34 3690.39 1469 L3705.57 1468.97 Z\" fill=\"#000000\" fill-rule=\"evenodd\" fill-opacity=\"1\" /><path clip-path=\"url(#clip7300)\" d=\"M 0 0 M3732.96 1459.32 L3732.96 1463.3 Q3731.15 1462.31 3729.32 1461.82 Q3727.52 1461.31 3725.66 1461.31 Q3721.52 1461.31 3719.23 1463.95 Q3716.94 1466.57 3716.94 1471.31 Q3716.94 1476.06 3719.23 1478.7 Q3721.52 1481.31 3725.66 1481.31 Q3727.52 1481.31 3729.32 1480.83 Q3731.15 1480.32 3732.96 1479.32 L3732.96 1483.26 Q3731.17 1484.09 3729.25 1484.51 Q3727.35 1484.92 3725.2 1484.92 Q3719.35 1484.92 3715.9 1481.24 Q3712.45 1477.56 3712.45 1471.31 Q3712.45 1464.97 3715.92 1461.34 Q3719.41 1457.7 3725.48 1457.7 Q3727.45 1457.7 3729.32 1458.12 Q3731.2 1458.51 3732.96 1459.32 Z\" fill=\"#000000\" fill-rule=\"evenodd\" fill-opacity=\"1\" /><path clip-path=\"url(#clip7300)\" d=\"M 0 0 M3738.03 1478.37 L3742.91 1478.37 L3742.91 1484.25 L3738.03 1484.25 L3738.03 1478.37 Z\" fill=\"#000000\" fill-rule=\"evenodd\" fill-opacity=\"1\" /><path clip-path=\"url(#clip7300)\" d=\"M 0 0 M3763.86 1480.32 L3771.5 1480.32 L3771.5 1453.95 L3763.19 1455.62 L3763.19 1451.36 L3771.45 1449.69 L3776.13 1449.69 L3776.13 1480.32 L3783.77 1480.32 L3783.77 1484.25 L3763.86 1484.25 L3763.86 1480.32 Z\" fill=\"#000000\" fill-rule=\"evenodd\" fill-opacity=\"1\" /><path clip-path=\"url(#clip7300)\" d=\"M 0 0 M3803 1465.62 Q3806.36 1466.34 3808.23 1468.6 Q3810.13 1470.87 3810.13 1474.21 Q3810.13 1479.32 3806.61 1482.12 Q3803.09 1484.92 3796.61 1484.92 Q3794.44 1484.92 3792.12 1484.48 Q3789.83 1484.07 3787.38 1483.21 L3787.38 1478.7 Q3789.32 1479.83 3791.64 1480.41 Q3793.95 1480.99 3796.47 1480.99 Q3800.87 1480.99 3803.16 1479.25 Q3805.48 1477.52 3805.48 1474.21 Q3805.48 1471.15 3803.33 1469.44 Q3801.2 1467.7 3797.38 1467.7 L3793.35 1467.7 L3793.35 1463.86 L3797.56 1463.86 Q3801.01 1463.86 3802.84 1462.49 Q3804.67 1461.1 3804.67 1458.51 Q3804.67 1455.85 3802.77 1454.44 Q3800.9 1453 3797.38 1453 Q3795.46 1453 3793.26 1453.42 Q3791.06 1453.84 3788.42 1454.71 L3788.42 1450.55 Q3791.08 1449.81 3793.4 1449.44 Q3795.73 1449.07 3797.79 1449.07 Q3803.12 1449.07 3806.22 1451.5 Q3809.32 1453.9 3809.32 1458.03 Q3809.32 1460.9 3807.68 1462.89 Q3806.03 1464.85 3803 1465.62 Z\" fill=\"#000000\" fill-rule=\"evenodd\" fill-opacity=\"1\" /><path clip-path=\"url(#clip7300)\" d=\"M 0 0 M3815.69 1478.37 L3820.57 1478.37 L3820.57 1482.35 L3816.78 1489.76 L3813.79 1489.76 L3815.69 1482.35 L3815.69 1478.37 Z\" fill=\"#000000\" fill-rule=\"evenodd\" fill-opacity=\"1\" /><path clip-path=\"url(#clip7300)\" d=\"M 0 0 M3844.74 1480.32 L3861.06 1480.32 L3861.06 1484.25 L3839.11 1484.25 L3839.11 1480.32 Q3841.78 1477.56 3846.36 1472.93 Q3850.97 1468.28 3852.15 1466.94 Q3854.39 1464.41 3855.27 1462.68 Q3856.17 1460.92 3856.17 1459.23 Q3856.17 1456.47 3854.23 1454.74 Q3852.31 1453 3849.21 1453 Q3847.01 1453 3844.55 1453.77 Q3842.12 1454.53 3839.34 1456.08 L3839.34 1451.36 Q3842.17 1450.22 3844.62 1449.65 Q3847.08 1449.07 3849.11 1449.07 Q3854.48 1449.07 3857.68 1451.75 Q3860.87 1454.44 3860.87 1458.93 Q3860.87 1461.06 3860.06 1462.98 Q3859.28 1464.88 3857.17 1467.47 Q3856.59 1468.14 3853.49 1471.36 Q3850.39 1474.55 3844.74 1480.32 Z\" fill=\"#000000\" fill-rule=\"evenodd\" fill-opacity=\"1\" /><path clip-path=\"url(#clip7300)\" d=\"M 0 0 M3876.13 1452.77 Q3872.52 1452.77 3870.69 1456.34 Q3868.88 1459.88 3868.88 1467.01 Q3868.88 1474.11 3870.69 1477.68 Q3872.52 1481.22 3876.13 1481.22 Q3879.76 1481.22 3881.57 1477.68 Q3883.4 1474.11 3883.4 1467.01 Q3883.4 1459.88 3881.57 1456.34 Q3879.76 1452.77 3876.13 1452.77 M3876.13 1449.07 Q3881.94 1449.07 3884.99 1453.67 Q3888.07 1458.26 3888.07 1467.01 Q3888.07 1475.73 3884.99 1480.34 Q3881.94 1484.92 3876.13 1484.92 Q3870.32 1484.92 3867.24 1480.34 Q3864.18 1475.73 3864.18 1467.01 Q3864.18 1458.26 3867.24 1453.67 Q3870.32 1449.07 3876.13 1449.07 Z\" fill=\"#000000\" fill-rule=\"evenodd\" fill-opacity=\"1\" /><path clip-path=\"url(#clip7300)\" d=\"M 0 0 M118.398 1264.99 L134.717 1264.99 L134.717 1268.93 L112.773 1268.93 L112.773 1264.99 Q115.435 1262.24 120.018 1257.61 Q124.625 1252.95 125.805 1251.61 Q128.051 1249.09 128.93 1247.35 Q129.833 1245.59 129.833 1243.9 Q129.833 1241.15 127.889 1239.41 Q125.967 1237.68 122.866 1237.68 Q120.667 1237.68 118.213 1238.44 Q115.782 1239.2 113.005 1240.75 L113.005 1236.03 Q115.829 1234.9 118.282 1234.32 Q120.736 1233.74 122.773 1233.74 Q128.143 1233.74 131.338 1236.43 Q134.532 1239.11 134.532 1243.6 Q134.532 1245.73 133.722 1247.65 Q132.935 1249.55 130.829 1252.14 Q130.25 1252.81 127.148 1256.03 Q124.046 1259.23 118.398 1264.99 Z\" fill=\"#000000\" fill-rule=\"evenodd\" fill-opacity=\"1\" /><path clip-path=\"url(#clip7300)\" d=\"M 0 0 M138.606 1234.37 L160.828 1234.37 L160.828 1236.36 L148.282 1268.93 L143.398 1268.93 L155.203 1238.3 L138.606 1238.3 L138.606 1234.37 Z\" fill=\"#000000\" fill-rule=\"evenodd\" fill-opacity=\"1\" /><path clip-path=\"url(#clip7300)\" d=\"M 0 0 M175.898 1237.44 Q172.287 1237.44 170.458 1241.01 Q168.652 1244.55 168.652 1251.68 Q168.652 1258.79 170.458 1262.35 Q172.287 1265.89 175.898 1265.89 Q179.532 1265.89 181.338 1262.35 Q183.166 1258.79 183.166 1251.68 Q183.166 1244.55 181.338 1241.01 Q179.532 1237.44 175.898 1237.44 M175.898 1233.74 Q181.708 1233.74 184.763 1238.35 Q187.842 1242.93 187.842 1251.68 Q187.842 1260.41 184.763 1265.01 Q181.708 1269.6 175.898 1269.6 Q170.088 1269.6 167.009 1265.01 Q163.953 1260.41 163.953 1251.68 Q163.953 1242.93 167.009 1238.35 Q170.088 1233.74 175.898 1233.74 Z\" fill=\"#000000\" fill-rule=\"evenodd\" fill-opacity=\"1\" /><path clip-path=\"url(#clip7300)\" d=\"M 0 0 M202.912 1237.44 Q199.3 1237.44 197.472 1241.01 Q195.666 1244.55 195.666 1251.68 Q195.666 1258.79 197.472 1262.35 Q199.3 1265.89 202.912 1265.89 Q206.546 1265.89 208.351 1262.35 Q210.18 1258.79 210.18 1251.68 Q210.18 1244.55 208.351 1241.01 Q206.546 1237.44 202.912 1237.44 M202.912 1233.74 Q208.722 1233.74 211.777 1238.35 Q214.856 1242.93 214.856 1251.68 Q214.856 1260.41 211.777 1265.01 Q208.722 1269.6 202.912 1269.6 Q197.101 1269.6 194.023 1265.01 Q190.967 1260.41 190.967 1251.68 Q190.967 1242.93 194.023 1238.35 Q197.101 1233.74 202.912 1233.74 Z\" fill=\"#000000\" fill-rule=\"evenodd\" fill-opacity=\"1\" /><path clip-path=\"url(#clip7300)\" d=\"M 0 0 M229.925 1237.44 Q226.314 1237.44 224.485 1241.01 Q222.68 1244.55 222.68 1251.68 Q222.68 1258.79 224.485 1262.35 Q226.314 1265.89 229.925 1265.89 Q233.56 1265.89 235.365 1262.35 Q237.194 1258.79 237.194 1251.68 Q237.194 1244.55 235.365 1241.01 Q233.56 1237.44 229.925 1237.44 M229.925 1233.74 Q235.735 1233.74 238.791 1238.35 Q241.87 1242.93 241.87 1251.68 Q241.87 1260.41 238.791 1265.01 Q235.735 1269.6 229.925 1269.6 Q224.115 1269.6 221.036 1265.01 Q217.981 1260.41 217.981 1251.68 Q217.981 1242.93 221.036 1238.35 Q224.115 1233.74 229.925 1233.74 Z\" fill=\"#000000\" fill-rule=\"evenodd\" fill-opacity=\"1\" /><path clip-path=\"url(#clip7300)\" d=\"M 0 0 M117.588 925.008 L133.907 925.008 L133.907 928.943 L111.963 928.943 L111.963 925.008 Q114.625 922.253 119.208 917.623 Q123.815 912.971 124.995 911.628 Q127.241 909.105 128.12 907.369 Q129.023 905.61 129.023 903.92 Q129.023 901.165 127.079 899.429 Q125.157 897.693 122.055 897.693 Q119.856 897.693 117.403 898.457 Q114.972 899.221 112.194 900.772 L112.194 896.049 Q115.018 894.915 117.472 894.337 Q119.926 893.758 121.963 893.758 Q127.333 893.758 130.528 896.443 Q133.722 899.128 133.722 903.619 Q133.722 905.748 132.912 907.67 Q132.125 909.568 130.018 912.16 Q129.44 912.832 126.338 916.049 Q123.236 919.244 117.588 925.008 Z\" fill=\"#000000\" fill-rule=\"evenodd\" fill-opacity=\"1\" /><path clip-path=\"url(#clip7300)\" d=\"M 0 0 M148.977 912.531 Q145.643 912.531 143.722 914.313 Q141.824 916.096 141.824 919.221 Q141.824 922.346 143.722 924.128 Q145.643 925.91 148.977 925.91 Q152.31 925.91 154.231 924.128 Q156.153 922.322 156.153 919.221 Q156.153 916.096 154.231 914.313 Q152.333 912.531 148.977 912.531 M144.301 910.54 Q141.291 909.799 139.602 907.739 Q137.935 905.679 137.935 902.716 Q137.935 898.573 140.875 896.165 Q143.838 893.758 148.977 893.758 Q154.139 893.758 157.078 896.165 Q160.018 898.573 160.018 902.716 Q160.018 905.679 158.328 907.739 Q156.662 909.799 153.676 910.54 Q157.055 911.327 158.93 913.619 Q160.828 915.91 160.828 919.221 Q160.828 924.244 157.75 926.929 Q154.694 929.614 148.977 929.614 Q143.259 929.614 140.18 926.929 Q137.125 924.244 137.125 919.221 Q137.125 915.91 139.023 913.619 Q140.921 911.327 144.301 910.54 M142.588 903.156 Q142.588 905.841 144.254 907.346 Q145.944 908.85 148.977 908.85 Q151.986 908.85 153.676 907.346 Q155.389 905.841 155.389 903.156 Q155.389 900.471 153.676 898.966 Q151.986 897.461 148.977 897.461 Q145.944 897.461 144.254 898.966 Q142.588 900.471 142.588 903.156 Z\" fill=\"#000000\" fill-rule=\"evenodd\" fill-opacity=\"1\" /><path clip-path=\"url(#clip7300)\" d=\"M 0 0 M175.898 897.461 Q172.287 897.461 170.458 901.026 Q168.652 904.568 168.652 911.698 Q168.652 918.804 170.458 922.369 Q172.287 925.91 175.898 925.91 Q179.532 925.91 181.338 922.369 Q183.166 918.804 183.166 911.698 Q183.166 904.568 181.338 901.026 Q179.532 897.461 175.898 897.461 M175.898 893.758 Q181.708 893.758 184.763 898.364 Q187.842 902.948 187.842 911.698 Q187.842 920.424 184.763 925.031 Q181.708 929.614 175.898 929.614 Q170.088 929.614 167.009 925.031 Q163.953 920.424 163.953 911.698 Q163.953 902.948 167.009 898.364 Q170.088 893.758 175.898 893.758 Z\" fill=\"#000000\" fill-rule=\"evenodd\" fill-opacity=\"1\" /><path clip-path=\"url(#clip7300)\" d=\"M 0 0 M202.912 897.461 Q199.3 897.461 197.472 901.026 Q195.666 904.568 195.666 911.698 Q195.666 918.804 197.472 922.369 Q199.3 925.91 202.912 925.91 Q206.546 925.91 208.351 922.369 Q210.18 918.804 210.18 911.698 Q210.18 904.568 208.351 901.026 Q206.546 897.461 202.912 897.461 M202.912 893.758 Q208.722 893.758 211.777 898.364 Q214.856 902.948 214.856 911.698 Q214.856 920.424 211.777 925.031 Q208.722 929.614 202.912 929.614 Q197.101 929.614 194.023 925.031 Q190.967 920.424 190.967 911.698 Q190.967 902.948 194.023 898.364 Q197.101 893.758 202.912 893.758 Z\" fill=\"#000000\" fill-rule=\"evenodd\" fill-opacity=\"1\" /><path clip-path=\"url(#clip7300)\" d=\"M 0 0 M229.925 897.461 Q226.314 897.461 224.485 901.026 Q222.68 904.568 222.68 911.698 Q222.68 918.804 224.485 922.369 Q226.314 925.91 229.925 925.91 Q233.56 925.91 235.365 922.369 Q237.194 918.804 237.194 911.698 Q237.194 904.568 235.365 901.026 Q233.56 897.461 229.925 897.461 M229.925 893.758 Q235.735 893.758 238.791 898.364 Q241.87 902.948 241.87 911.698 Q241.87 920.424 238.791 925.031 Q235.735 929.614 229.925 929.614 Q224.115 929.614 221.036 925.031 Q217.981 920.424 217.981 911.698 Q217.981 902.948 221.036 898.364 Q224.115 893.758 229.925 893.758 Z\" fill=\"#000000\" fill-rule=\"evenodd\" fill-opacity=\"1\" /><path clip-path=\"url(#clip7300)\" d=\"M 0 0 M117.68 585.025 L134 585.025 L134 588.96 L112.056 588.96 L112.056 585.025 Q114.718 582.271 119.301 577.641 Q123.907 572.988 125.088 571.646 Q127.333 569.123 128.213 567.387 Q129.116 565.627 129.116 563.937 Q129.116 561.183 127.171 559.447 Q125.25 557.711 122.148 557.711 Q119.949 557.711 117.495 558.475 Q115.065 559.238 112.287 560.789 L112.287 556.067 Q115.111 554.933 117.565 554.354 Q120.018 553.775 122.055 553.775 Q127.426 553.775 130.62 556.461 Q133.815 559.146 133.815 563.637 Q133.815 565.766 133.004 567.687 Q132.217 569.586 130.111 572.178 Q129.532 572.849 126.43 576.067 Q123.329 579.261 117.68 585.025 Z\" fill=\"#000000\" fill-rule=\"evenodd\" fill-opacity=\"1\" /><path clip-path=\"url(#clip7300)\" d=\"M 0 0 M139.208 588.243 L139.208 583.984 Q140.967 584.817 142.773 585.257 Q144.578 585.697 146.315 585.697 Q150.944 585.697 153.375 582.595 Q155.828 579.47 156.176 573.127 Q154.833 575.118 152.773 576.183 Q150.713 577.248 148.213 577.248 Q143.028 577.248 139.995 574.123 Q136.986 570.974 136.986 565.535 Q136.986 560.211 140.134 556.993 Q143.282 553.775 148.514 553.775 Q154.509 553.775 157.657 558.382 Q160.828 562.965 160.828 571.715 Q160.828 579.886 156.94 584.771 Q153.074 589.632 146.523 589.632 Q144.764 589.632 142.958 589.285 Q141.153 588.937 139.208 588.243 M148.514 573.59 Q151.662 573.59 153.49 571.437 Q155.342 569.285 155.342 565.535 Q155.342 561.808 153.49 559.655 Q151.662 557.479 148.514 557.479 Q145.366 557.479 143.514 559.655 Q141.685 561.808 141.685 565.535 Q141.685 569.285 143.514 571.437 Q145.366 573.59 148.514 573.59 Z\" fill=\"#000000\" fill-rule=\"evenodd\" fill-opacity=\"1\" /><path clip-path=\"url(#clip7300)\" d=\"M 0 0 M175.898 557.479 Q172.287 557.479 170.458 561.044 Q168.652 564.586 168.652 571.715 Q168.652 578.822 170.458 582.386 Q172.287 585.928 175.898 585.928 Q179.532 585.928 181.338 582.386 Q183.166 578.822 183.166 571.715 Q183.166 564.586 181.338 561.044 Q179.532 557.479 175.898 557.479 M175.898 553.775 Q181.708 553.775 184.763 558.382 Q187.842 562.965 187.842 571.715 Q187.842 580.442 184.763 585.048 Q181.708 589.632 175.898 589.632 Q170.088 589.632 167.009 585.048 Q163.953 580.442 163.953 571.715 Q163.953 562.965 167.009 558.382 Q170.088 553.775 175.898 553.775 Z\" fill=\"#000000\" fill-rule=\"evenodd\" fill-opacity=\"1\" /><path clip-path=\"url(#clip7300)\" d=\"M 0 0 M202.912 557.479 Q199.3 557.479 197.472 561.044 Q195.666 564.586 195.666 571.715 Q195.666 578.822 197.472 582.386 Q199.3 585.928 202.912 585.928 Q206.546 585.928 208.351 582.386 Q210.18 578.822 210.18 571.715 Q210.18 564.586 208.351 561.044 Q206.546 557.479 202.912 557.479 M202.912 553.775 Q208.722 553.775 211.777 558.382 Q214.856 562.965 214.856 571.715 Q214.856 580.442 211.777 585.048 Q208.722 589.632 202.912 589.632 Q197.101 589.632 194.023 585.048 Q190.967 580.442 190.967 571.715 Q190.967 562.965 194.023 558.382 Q197.101 553.775 202.912 553.775 Z\" fill=\"#000000\" fill-rule=\"evenodd\" fill-opacity=\"1\" /><path clip-path=\"url(#clip7300)\" d=\"M 0 0 M229.925 557.479 Q226.314 557.479 224.485 561.044 Q222.68 564.586 222.68 571.715 Q222.68 578.822 224.485 582.386 Q226.314 585.928 229.925 585.928 Q233.56 585.928 235.365 582.386 Q237.194 578.822 237.194 571.715 Q237.194 564.586 235.365 561.044 Q233.56 557.479 229.925 557.479 M229.925 553.775 Q235.735 553.775 238.791 558.382 Q241.87 562.965 241.87 571.715 Q241.87 580.442 238.791 585.048 Q235.735 589.632 229.925 589.632 Q224.115 589.632 221.036 585.048 Q217.981 580.442 217.981 571.715 Q217.981 562.965 221.036 558.382 Q224.115 553.775 229.925 553.775 Z\" fill=\"#000000\" fill-rule=\"evenodd\" fill-opacity=\"1\" /><path clip-path=\"url(#clip7300)\" d=\"M 0 0 M126.685 230.344 Q130.042 231.062 131.917 233.33 Q133.815 235.599 133.815 238.932 Q133.815 244.048 130.296 246.848 Q126.778 249.649 120.296 249.649 Q118.12 249.649 115.806 249.21 Q113.514 248.793 111.06 247.936 L111.06 243.423 Q113.005 244.557 115.319 245.136 Q117.634 245.714 120.157 245.714 Q124.555 245.714 126.847 243.978 Q129.162 242.242 129.162 238.932 Q129.162 235.876 127.009 234.163 Q124.88 232.427 121.06 232.427 L117.032 232.427 L117.032 228.585 L121.245 228.585 Q124.694 228.585 126.523 227.219 Q128.352 225.83 128.352 223.238 Q128.352 220.575 126.454 219.163 Q124.579 217.728 121.06 217.728 Q119.139 217.728 116.94 218.145 Q114.741 218.562 112.102 219.441 L112.102 215.275 Q114.764 214.534 117.079 214.163 Q119.417 213.793 121.477 213.793 Q126.801 213.793 129.903 216.224 Q133.004 218.631 133.004 222.751 Q133.004 225.622 131.361 227.612 Q129.717 229.58 126.685 230.344 Z\" fill=\"#000000\" fill-rule=\"evenodd\" fill-opacity=\"1\" /><path clip-path=\"url(#clip7300)\" d=\"M 0 0 M148.884 217.497 Q145.273 217.497 143.444 221.062 Q141.639 224.603 141.639 231.733 Q141.639 238.839 143.444 242.404 Q145.273 245.946 148.884 245.946 Q152.518 245.946 154.324 242.404 Q156.153 238.839 156.153 231.733 Q156.153 224.603 154.324 221.062 Q152.518 217.497 148.884 217.497 M148.884 213.793 Q154.694 213.793 157.75 218.4 Q160.828 222.983 160.828 231.733 Q160.828 240.46 157.75 245.066 Q154.694 249.649 148.884 249.649 Q143.074 249.649 139.995 245.066 Q136.94 240.46 136.94 231.733 Q136.94 222.983 139.995 218.4 Q143.074 213.793 148.884 213.793 Z\" fill=\"#000000\" fill-rule=\"evenodd\" fill-opacity=\"1\" /><path clip-path=\"url(#clip7300)\" d=\"M 0 0 M175.898 217.497 Q172.287 217.497 170.458 221.062 Q168.652 224.603 168.652 231.733 Q168.652 238.839 170.458 242.404 Q172.287 245.946 175.898 245.946 Q179.532 245.946 181.338 242.404 Q183.166 238.839 183.166 231.733 Q183.166 224.603 181.338 221.062 Q179.532 217.497 175.898 217.497 M175.898 213.793 Q181.708 213.793 184.763 218.4 Q187.842 222.983 187.842 231.733 Q187.842 240.46 184.763 245.066 Q181.708 249.649 175.898 249.649 Q170.088 249.649 167.009 245.066 Q163.953 240.46 163.953 231.733 Q163.953 222.983 167.009 218.4 Q170.088 213.793 175.898 213.793 Z\" fill=\"#000000\" fill-rule=\"evenodd\" fill-opacity=\"1\" /><path clip-path=\"url(#clip7300)\" d=\"M 0 0 M202.912 217.497 Q199.3 217.497 197.472 221.062 Q195.666 224.603 195.666 231.733 Q195.666 238.839 197.472 242.404 Q199.3 245.946 202.912 245.946 Q206.546 245.946 208.351 242.404 Q210.18 238.839 210.18 231.733 Q210.18 224.603 208.351 221.062 Q206.546 217.497 202.912 217.497 M202.912 213.793 Q208.722 213.793 211.777 218.4 Q214.856 222.983 214.856 231.733 Q214.856 240.46 211.777 245.066 Q208.722 249.649 202.912 249.649 Q197.101 249.649 194.023 245.066 Q190.967 240.46 190.967 231.733 Q190.967 222.983 194.023 218.4 Q197.101 213.793 202.912 213.793 Z\" fill=\"#000000\" fill-rule=\"evenodd\" fill-opacity=\"1\" /><path clip-path=\"url(#clip7300)\" d=\"M 0 0 M229.925 217.497 Q226.314 217.497 224.485 221.062 Q222.68 224.603 222.68 231.733 Q222.68 238.839 224.485 242.404 Q226.314 245.946 229.925 245.946 Q233.56 245.946 235.365 242.404 Q237.194 238.839 237.194 231.733 Q237.194 224.603 235.365 221.062 Q233.56 217.497 229.925 217.497 M229.925 213.793 Q235.735 213.793 238.791 218.4 Q241.87 222.983 241.87 231.733 Q241.87 240.46 238.791 245.066 Q235.735 249.649 229.925 249.649 Q224.115 249.649 221.036 245.066 Q217.981 240.46 217.981 231.733 Q217.981 222.983 221.036 218.4 Q224.115 213.793 229.925 213.793 Z\" fill=\"#000000\" fill-rule=\"evenodd\" fill-opacity=\"1\" /><path clip-path=\"url(#clip7300)\" d=\"M 0 0 M2022.68 1525.47 L2022.68 1535.6 L2034.74 1535.6 L2034.74 1540.15 L2022.68 1540.15 L2022.68 1559.5 Q2022.68 1563.86 2023.85 1565.1 Q2025.06 1566.34 2028.72 1566.34 L2034.74 1566.34 L2034.74 1571.24 L2028.72 1571.24 Q2021.94 1571.24 2019.37 1568.73 Q2016.79 1566.18 2016.79 1559.5 L2016.79 1540.15 L2012.49 1540.15 L2012.49 1535.6 L2016.79 1535.6 L2016.79 1525.47 L2022.68 1525.47 Z\" fill=\"#000000\" fill-rule=\"evenodd\" fill-opacity=\"1\" /><path clip-path=\"url(#clip7300)\" d=\"M 0 0 M2040.88 1535.6 L2046.74 1535.6 L2046.74 1571.24 L2040.88 1571.24 L2040.88 1535.6 M2040.88 1521.72 L2046.74 1521.72 L2046.74 1529.13 L2040.88 1529.13 L2040.88 1521.72 Z\" fill=\"#000000\" fill-rule=\"evenodd\" fill-opacity=\"1\" /><path clip-path=\"url(#clip7300)\" d=\"M 0 0 M2080.64 1542.44 Q2082.83 1538.49 2085.89 1536.61 Q2088.94 1534.74 2093.08 1534.74 Q2098.65 1534.74 2101.68 1538.65 Q2104.7 1542.53 2104.7 1549.73 L2104.7 1571.24 L2098.81 1571.24 L2098.81 1549.92 Q2098.81 1544.79 2097 1542.31 Q2095.18 1539.83 2091.46 1539.83 Q2086.91 1539.83 2084.27 1542.85 Q2081.62 1545.88 2081.62 1551.1 L2081.62 1571.24 L2075.74 1571.24 L2075.74 1549.92 Q2075.74 1544.76 2073.92 1542.31 Q2072.11 1539.83 2068.32 1539.83 Q2063.83 1539.83 2061.19 1542.88 Q2058.55 1545.91 2058.55 1551.1 L2058.55 1571.24 L2052.66 1571.24 L2052.66 1535.6 L2058.55 1535.6 L2058.55 1541.13 Q2060.55 1537.86 2063.35 1536.3 Q2066.15 1534.74 2070.01 1534.74 Q2073.89 1534.74 2076.59 1536.71 Q2079.33 1538.68 2080.64 1542.44 Z\" fill=\"#000000\" fill-rule=\"evenodd\" fill-opacity=\"1\" /><path clip-path=\"url(#clip7300)\" d=\"M 0 0 M2141.33 1551.96 L2141.33 1554.82 L2114.41 1554.82 Q2114.79 1560.87 2118.04 1564.05 Q2121.31 1567.2 2127.14 1567.2 Q2130.51 1567.2 2133.66 1566.37 Q2136.85 1565.55 2139.97 1563.89 L2139.97 1569.43 Q2136.81 1570.77 2133.5 1571.47 Q2130.19 1572.17 2126.79 1572.17 Q2118.26 1572.17 2113.26 1567.2 Q2108.3 1562.24 2108.3 1553.77 Q2108.3 1545.02 2113.01 1539.89 Q2117.75 1534.74 2125.77 1534.74 Q2132.96 1534.74 2137.13 1539.38 Q2141.33 1544 2141.33 1551.96 M2135.48 1550.24 Q2135.41 1545.43 2132.77 1542.57 Q2130.16 1539.7 2125.83 1539.7 Q2120.93 1539.7 2117.97 1542.47 Q2115.04 1545.24 2114.6 1550.27 L2135.48 1550.24 Z\" fill=\"#000000\" fill-rule=\"evenodd\" fill-opacity=\"1\" /><path clip-path=\"url(#clip7300)\" d=\"M 0 0 M21.9562 811.585 L21.9562 805.378 L51.875 794.238 L21.9562 783.098 L21.9562 776.891 L57.6042 790.259 L57.6042 798.217 L21.9562 811.585 Z\" fill=\"#000000\" fill-rule=\"evenodd\" fill-opacity=\"1\" /><path clip-path=\"url(#clip7300)\" d=\"M 0 0 M39.6847 754.548 Q39.6847 761.646 41.3079 764.383 Q42.9312 767.12 46.8461 767.12 Q49.9653 767.12 51.8114 765.083 Q53.6256 763.014 53.6256 759.481 Q53.6256 754.611 50.1881 751.683 Q46.7188 748.723 40.9897 748.723 L39.6847 748.723 L39.6847 754.548 M37.2657 742.867 L57.6042 742.867 L57.6042 748.723 L52.1933 748.723 Q55.4398 750.728 56.9994 753.72 Q58.5272 756.712 58.5272 761.041 Q58.5272 766.515 55.4716 769.762 Q52.3843 772.977 47.2281 772.977 Q41.2125 772.977 38.1569 768.966 Q35.1014 764.924 35.1014 756.935 L35.1014 748.723 L34.5285 748.723 Q30.4862 748.723 28.2901 751.397 Q26.0621 754.039 26.0621 758.845 Q26.0621 761.9 26.7941 764.797 Q27.5262 767.693 28.9903 770.367 L23.5795 770.367 Q22.3381 767.152 21.7334 764.128 Q21.0968 761.104 21.0968 758.24 Q21.0968 750.506 25.1072 746.686 Q29.1176 742.867 37.2657 742.867 Z\" fill=\"#000000\" fill-rule=\"evenodd\" fill-opacity=\"1\" /><path clip-path=\"url(#clip7300)\" d=\"M 0 0 M8.07896 736.724 L8.07896 730.867 L57.6042 730.867 L57.6042 736.724 L8.07896 736.724 Z\" fill=\"#000000\" fill-rule=\"evenodd\" fill-opacity=\"1\" /><path clip-path=\"url(#clip7300)\" d=\"M 0 0 M43.5359 725.329 L21.9562 725.329 L21.9562 719.473 L43.3131 719.473 Q48.3739 719.473 50.9202 717.499 Q53.4346 715.526 53.4346 711.579 Q53.4346 706.837 50.4109 704.1 Q47.3872 701.33 42.1673 701.33 L21.9562 701.33 L21.9562 695.474 L57.6042 695.474 L57.6042 701.33 L52.1296 701.33 Q55.3762 703.463 56.9676 706.296 Q58.5272 709.097 58.5272 712.821 Q58.5272 718.964 54.7078 722.146 Q50.8883 725.329 43.5359 725.329 M21.0968 710.593 L21.0968 710.593 Z\" fill=\"#000000\" fill-rule=\"evenodd\" fill-opacity=\"1\" /><path clip-path=\"url(#clip7300)\" d=\"M 0 0 M38.3161 658.839 L41.1806 658.839 L41.1806 685.766 Q47.2281 685.384 50.4109 682.138 Q53.5619 678.86 53.5619 673.035 Q53.5619 669.661 52.7344 666.51 Q51.9069 663.327 50.2518 660.208 L55.7899 660.208 Q57.1267 663.359 57.827 666.669 Q58.5272 669.979 58.5272 673.385 Q58.5272 681.915 53.5619 686.912 Q48.5967 691.877 40.1303 691.877 Q31.3774 691.877 26.2531 687.167 Q21.0968 682.424 21.0968 674.404 Q21.0968 667.21 25.7438 663.041 Q30.3589 658.839 38.3161 658.839 M36.5973 664.696 Q31.7912 664.76 28.9266 667.401 Q26.0621 670.011 26.0621 674.34 Q26.0621 679.241 28.8312 682.202 Q31.6002 685.13 36.6292 685.575 L36.5973 664.696 Z\" fill=\"#000000\" fill-rule=\"evenodd\" fill-opacity=\"1\" /><polyline clip-path=\"url(#clip7302)\" style=\"stroke:#009af9; stroke-width:4; stroke-opacity:1; fill:none\" points=\"\n",
       "  382.721,969.8 419.956,882.424 457.191,833.127 494.426,787.569 531.661,892.284 568.896,929.682 606.131,929.682 643.366,929.682 680.601,1086.75 717.836,1138.43 \n",
       "  755.071,1093.89 792.306,1219.35 829.541,1170.39 866.776,1170.39 904.011,1170.39 941.246,1005.84 978.481,1045.62 1015.72,902.823 1052.95,897.724 1090.19,958.92 \n",
       "  1127.42,958.92 1164.66,958.92 1201.89,856.246 1239.13,791.309 1276.36,785.869 1313.6,755.611 1350.83,681.835 1388.07,681.835 1425.3,681.835 1462.54,585.96 \n",
       "  1499.77,636.617 1537.01,642.057 1574.24,729.432 1611.48,625.058 1648.71,625.058 1685.95,625.058 1723.18,669.595 1760.42,716.173 1797.65,758.331 1834.89,768.53 \n",
       "  1872.12,763.091 1909.36,763.091 1946.59,763.091 1983.83,848.426 2021.06,1010.94 2058.3,1216.97 2095.53,1288.36 2132.77,1374.38 2170,1374.38 2207.24,1374.38 \n",
       "  2244.47,1237.03 2281.71,1034.06 2318.94,808.988 2356.18,743.372 2393.41,764.79 2430.65,764.79 2467.88,764.79 2505.12,254.137 2542.35,408.829 2579.59,370.071 \n",
       "  2616.82,465.606 2654.05,381.63 2691.29,381.63 2728.52,381.63 2765.76,243.937 2802.99,275.216 2840.23,255.157 2877.46,393.19 2914.7,411.889 2951.93,411.889 \n",
       "  2989.17,411.889 3026.4,344.572 3063.64,191.92 3100.87,211.639 3138.11,211.639 3175.34,226.598 3212.58,226.598 3249.81,226.598 3287.05,280.996 3324.28,203.48 \n",
       "  3361.52,264.676 3398.75,193.96 3435.99,157.582 3473.22,157.582 3510.46,157.582 3547.69,152.482 3584.93,148.062 3622.16,122.904 3659.4,209.939 3696.63,207.559 \n",
       "  3733.87,207.559 3771.1,207.559 \n",
       "  \"/>\n",
       "<polyline clip-path=\"url(#clip7302)\" style=\"stroke:#e26f46; stroke-width:4; stroke-opacity:1; fill:none\" points=\"\n",
       "  382.721,982.719 419.956,898.743 457.191,846.726 494.426,832.787 531.661,887.524 568.896,922.542 606.131,927.982 643.366,950.421 680.601,1092.87 717.836,1114.29 \n",
       "  755.071,1100.69 792.306,1211.53 829.541,1183.31 866.776,1164.27 904.011,1155.43 941.246,1015.7 978.481,1020.8 1015.72,914.383 1052.95,912.003 1090.19,962.32 \n",
       "  1127.42,943.961 1164.66,942.261 1201.89,871.545 1239.13,813.068 1276.36,799.469 1313.6,752.211 1350.83,689.314 1388.07,690.674 1425.3,711.753 1462.54,585.28 \n",
       "  1499.77,635.937 1537.01,618.598 1574.24,712.093 1611.48,645.797 1648.71,648.176 1685.95,665.516 1723.18,677.075 1760.42,726.032 1797.65,742.012 1834.89,769.55 \n",
       "  1872.12,765.81 1909.36,762.071 1946.59,781.11 1983.83,834.487 2021.06,1050.72 2058.3,1216.97 2095.53,1335.62 2132.77,1384.24 2170,1364.52 2207.24,1365.88 \n",
       "  2244.47,1225.13 2281.71,1041.88 2318.94,841.626 2356.18,733.512 2393.41,769.21 2430.65,751.191 2467.88,722.633 2505.12,292.215 2542.35,408.489 2579.59,373.131 \n",
       "  2616.82,407.469 2654.05,384.69 2691.29,381.97 2728.52,381.97 2765.76,288.475 2802.99,273.856 2840.23,257.877 2877.46,369.391 2914.7,399.649 2951.93,409.169 \n",
       "  2989.17,415.629 3026.4,335.053 3063.64,208.579 3100.87,208.239 3138.11,225.238 3175.34,217.079 3212.58,223.539 3249.81,234.418 3287.05,271.476 3324.28,203.48 \n",
       "  3361.52,255.157 3398.75,198.38 3435.99,161.322 3473.22,153.502 3510.46,149.422 3547.69,160.642 3584.93,141.603 3622.16,86.1857 3659.4,174.921 3696.63,207.559 \n",
       "  3733.87,292.215 3771.1,369.391 \n",
       "  \"/>\n",
       "<polyline clip-path=\"url(#clip7302)\" style=\"stroke:#3da44d; stroke-width:4; stroke-opacity:1; fill:none\" points=\"\n",
       "  3715.25,2799.12 3715.25,-1328.69 \n",
       "  \"/>\n",
       "<path clip-path=\"url(#clip7300)\" d=\"\n",
       "M398.67 463.884 L1220.95 463.884 L1220.95 221.964 L398.67 221.964  Z\n",
       "  \" fill=\"#ffffff\" fill-rule=\"evenodd\" fill-opacity=\"1\"/>\n",
       "<polyline clip-path=\"url(#clip7300)\" style=\"stroke:#000000; stroke-width:4; stroke-opacity:1; fill:none\" points=\"\n",
       "  398.67,463.884 1220.95,463.884 1220.95,221.964 398.67,221.964 398.67,463.884 \n",
       "  \"/>\n",
       "<polyline clip-path=\"url(#clip7300)\" style=\"stroke:#009af9; stroke-width:4; stroke-opacity:1; fill:none\" points=\"\n",
       "  437.87,282.444 673.07,282.444 \n",
       "  \"/>\n",
       "<path clip-path=\"url(#clip7300)\" d=\"M 0 0 M716.946 269.007 L716.946 295.882 L722.594 295.882 Q729.746 295.882 733.057 292.641 Q736.39 289.4 736.39 282.409 Q736.39 275.465 733.057 272.247 Q729.746 269.007 722.594 269.007 L716.946 269.007 M712.27 265.164 L721.876 265.164 Q731.922 265.164 736.621 269.354 Q741.32 273.521 741.32 282.409 Q741.32 291.345 736.598 295.534 Q731.876 299.724 721.876 299.724 L712.27 299.724 L712.27 265.164 Z\" fill=\"#000000\" fill-rule=\"evenodd\" fill-opacity=\"1\" /><path clip-path=\"url(#clip7300)\" d=\"M 0 0 M745.973 265.164 L750.649 265.164 L750.649 297.317 Q750.649 303.567 748.265 306.391 Q745.904 309.215 740.649 309.215 L738.867 309.215 L738.867 305.28 L740.325 305.28 Q743.427 305.28 744.7 303.544 Q745.973 301.807 745.973 297.317 L745.973 265.164 Z\" fill=\"#000000\" fill-rule=\"evenodd\" fill-opacity=\"1\" /><path clip-path=\"url(#clip7300)\" d=\"M 0 0 M755.302 265.164 L759.978 265.164 L759.978 299.724 L755.302 299.724 L755.302 265.164 Z\" fill=\"#000000\" fill-rule=\"evenodd\" fill-opacity=\"1\" /><path clip-path=\"url(#clip7300)\" d=\"M 0 0 M776.181 269.771 L769.839 286.97 L782.547 286.97 L776.181 269.771 M773.542 265.164 L778.843 265.164 L792.015 299.724 L787.153 299.724 L784.005 290.858 L768.427 290.858 L765.279 299.724 L760.348 299.724 L773.542 265.164 Z\" fill=\"#000000\" fill-rule=\"evenodd\" fill-opacity=\"1\" /><polyline clip-path=\"url(#clip7300)\" style=\"stroke:#e26f46; stroke-width:4; stroke-opacity:1; fill:none\" points=\"\n",
       "  437.87,342.924 673.07,342.924 \n",
       "  \"/>\n",
       "<path clip-path=\"url(#clip7300)\" d=\"M 0 0 M716.552 356.315 L716.552 370.065 L712.27 370.065 L712.27 334.278 L716.552 334.278 L716.552 338.213 Q717.895 335.899 719.932 334.788 Q721.992 333.653 724.839 333.653 Q729.561 333.653 732.501 337.403 Q735.464 341.153 735.464 347.264 Q735.464 353.375 732.501 357.125 Q729.561 360.875 724.839 360.875 Q721.992 360.875 719.932 359.764 Q717.895 358.63 716.552 356.315 M731.043 347.264 Q731.043 342.565 729.098 339.903 Q727.177 337.218 723.797 337.218 Q720.418 337.218 718.473 339.903 Q716.552 342.565 716.552 347.264 Q716.552 351.963 718.473 354.649 Q720.418 357.311 723.797 357.311 Q727.177 357.311 729.098 354.649 Q731.043 351.963 731.043 347.264 Z\" fill=\"#000000\" fill-rule=\"evenodd\" fill-opacity=\"1\" /><path clip-path=\"url(#clip7300)\" d=\"M 0 0 M754.955 338.26 Q754.237 337.843 753.381 337.658 Q752.547 337.45 751.529 337.45 Q747.918 337.45 745.973 339.811 Q744.052 342.149 744.052 346.547 L744.052 360.204 L739.769 360.204 L739.769 334.278 L744.052 334.278 L744.052 338.306 Q745.394 335.945 747.547 334.811 Q749.7 333.653 752.779 333.653 Q753.218 333.653 753.751 333.723 Q754.283 333.769 754.931 333.885 L754.955 338.26 Z\" fill=\"#000000\" fill-rule=\"evenodd\" fill-opacity=\"1\" /><path clip-path=\"url(#clip7300)\" d=\"M 0 0 M780.556 346.176 L780.556 348.26 L760.973 348.26 Q761.251 352.658 763.612 354.973 Q765.996 357.264 770.232 357.264 Q772.686 357.264 774.978 356.662 Q777.292 356.061 779.561 354.857 L779.561 358.885 Q777.269 359.857 774.862 360.366 Q772.455 360.875 769.978 360.875 Q763.774 360.875 760.14 357.264 Q756.529 353.653 756.529 347.496 Q756.529 341.13 759.955 337.403 Q763.404 333.653 769.237 333.653 Q774.468 333.653 777.501 337.033 Q780.556 340.389 780.556 346.176 M776.297 344.926 Q776.251 341.431 774.329 339.348 Q772.431 337.264 769.283 337.264 Q765.718 337.264 763.566 339.278 Q761.436 341.292 761.112 344.95 L776.297 344.926 Z\" fill=\"#000000\" fill-rule=\"evenodd\" fill-opacity=\"1\" /><path clip-path=\"url(#clip7300)\" d=\"M 0 0 M802.084 338.213 L802.084 324.186 L806.343 324.186 L806.343 360.204 L802.084 360.204 L802.084 356.315 Q800.741 358.63 798.681 359.764 Q796.644 360.875 793.774 360.875 Q789.075 360.875 786.112 357.125 Q783.172 353.375 783.172 347.264 Q783.172 341.153 786.112 337.403 Q789.075 333.653 793.774 333.653 Q796.644 333.653 798.681 334.788 Q800.741 335.899 802.084 338.213 M787.57 347.264 Q787.57 351.963 789.491 354.649 Q791.436 357.311 794.815 357.311 Q798.195 357.311 800.14 354.649 Q802.084 351.963 802.084 347.264 Q802.084 342.565 800.14 339.903 Q798.195 337.218 794.815 337.218 Q791.436 337.218 789.491 339.903 Q787.57 342.565 787.57 347.264 Z\" fill=\"#000000\" fill-rule=\"evenodd\" fill-opacity=\"1\" /><path clip-path=\"url(#clip7300)\" d=\"M 0 0 M810.811 334.278 L815.07 334.278 L815.07 360.204 L810.811 360.204 L810.811 334.278 M810.811 324.186 L815.07 324.186 L815.07 329.579 L810.811 329.579 L810.811 324.186 Z\" fill=\"#000000\" fill-rule=\"evenodd\" fill-opacity=\"1\" /><path clip-path=\"url(#clip7300)\" d=\"M 0 0 M823.751 326.917 L823.751 334.278 L832.524 334.278 L832.524 337.588 L823.751 337.588 L823.751 351.662 Q823.751 354.834 824.607 355.737 Q825.487 356.639 828.149 356.639 L832.524 356.639 L832.524 360.204 L828.149 360.204 Q823.218 360.204 821.343 358.375 Q819.468 356.524 819.468 351.662 L819.468 337.588 L816.343 337.588 L816.343 334.278 L819.468 334.278 L819.468 326.917 L823.751 326.917 Z\" fill=\"#000000\" fill-rule=\"evenodd\" fill-opacity=\"1\" /><path clip-path=\"url(#clip7300)\" d=\"M 0 0 M836.991 334.278 L841.25 334.278 L841.25 360.204 L836.991 360.204 L836.991 334.278 M836.991 324.186 L841.25 324.186 L841.25 329.579 L836.991 329.579 L836.991 324.186 Z\" fill=\"#000000\" fill-rule=\"evenodd\" fill-opacity=\"1\" /><path clip-path=\"url(#clip7300)\" d=\"M 0 0 M855.764 337.264 Q852.338 337.264 850.348 339.95 Q848.357 342.612 848.357 347.264 Q848.357 351.917 850.324 354.602 Q852.315 357.264 855.764 357.264 Q859.167 357.264 861.158 354.579 Q863.148 351.894 863.148 347.264 Q863.148 342.658 861.158 339.973 Q859.167 337.264 855.764 337.264 M855.764 333.653 Q861.32 333.653 864.491 337.264 Q867.662 340.875 867.662 347.264 Q867.662 353.63 864.491 357.264 Q861.32 360.875 855.764 360.875 Q850.186 360.875 847.014 357.264 Q843.866 353.63 843.866 347.264 Q843.866 340.875 847.014 337.264 Q850.186 333.653 855.764 333.653 Z\" fill=\"#000000\" fill-rule=\"evenodd\" fill-opacity=\"1\" /><path clip-path=\"url(#clip7300)\" d=\"M 0 0 M893.681 344.556 L893.681 360.204 L889.421 360.204 L889.421 344.695 Q889.421 341.014 887.986 339.186 Q886.551 337.357 883.681 337.357 Q880.232 337.357 878.241 339.556 Q876.25 341.755 876.25 345.551 L876.25 360.204 L871.968 360.204 L871.968 334.278 L876.25 334.278 L876.25 338.306 Q877.778 335.968 879.838 334.811 Q881.922 333.653 884.63 333.653 Q889.097 333.653 891.389 336.431 Q893.681 339.186 893.681 344.556 Z\" fill=\"#000000\" fill-rule=\"evenodd\" fill-opacity=\"1\" /><path clip-path=\"url(#clip7300)\" d=\"M 0 0 M914.676 335.042 L914.676 339.07 Q912.87 338.144 910.926 337.681 Q908.982 337.218 906.898 337.218 Q903.727 337.218 902.13 338.19 Q900.556 339.163 900.556 341.107 Q900.556 342.588 901.69 343.445 Q902.824 344.278 906.25 345.042 L907.708 345.366 Q912.245 346.338 914.144 348.121 Q916.065 349.88 916.065 353.051 Q916.065 356.662 913.194 358.769 Q910.347 360.875 905.347 360.875 Q903.264 360.875 900.995 360.459 Q898.75 360.065 896.25 359.255 L896.25 354.857 Q898.611 356.084 900.903 356.709 Q903.195 357.311 905.44 357.311 Q908.449 357.311 910.07 356.292 Q911.69 355.25 911.69 353.375 Q911.69 351.639 910.509 350.713 Q909.352 349.787 905.394 348.931 L903.912 348.584 Q899.954 347.75 898.195 346.038 Q896.435 344.301 896.435 341.292 Q896.435 337.635 899.028 335.644 Q901.62 333.653 906.389 333.653 Q908.75 333.653 910.833 334.001 Q912.917 334.348 914.676 335.042 Z\" fill=\"#000000\" fill-rule=\"evenodd\" fill-opacity=\"1\" /><polyline clip-path=\"url(#clip7300)\" style=\"stroke:#3da44d; stroke-width:4; stroke-opacity:1; fill:none\" points=\"\n",
       "  437.87,403.404 673.07,403.404 \n",
       "  \"/>\n",
       "<path clip-path=\"url(#clip7300)\" d=\"M 0 0 M712.27 386.124 L741.506 386.124 L741.506 390.059 L729.237 390.059 L729.237 420.684 L724.538 420.684 L724.538 390.059 L712.27 390.059 L712.27 386.124 Z\" fill=\"#000000\" fill-rule=\"evenodd\" fill-opacity=\"1\" /><path clip-path=\"url(#clip7300)\" d=\"M 0 0 M747.964 397.744 Q744.538 397.744 742.547 400.43 Q740.557 403.092 740.557 407.744 Q740.557 412.397 742.524 415.082 Q744.515 417.744 747.964 417.744 Q751.367 417.744 753.357 415.059 Q755.348 412.374 755.348 407.744 Q755.348 403.138 753.357 400.453 Q751.367 397.744 747.964 397.744 M747.964 394.133 Q753.519 394.133 756.691 397.744 Q759.862 401.355 759.862 407.744 Q759.862 414.11 756.691 417.744 Q753.519 421.355 747.964 421.355 Q742.385 421.355 739.214 417.744 Q736.066 414.11 736.066 407.744 Q736.066 401.355 739.214 397.744 Q742.385 394.133 747.964 394.133 Z\" fill=\"#000000\" fill-rule=\"evenodd\" fill-opacity=\"1\" /><path clip-path=\"url(#clip7300)\" d=\"M 0 0 M781.39 398.693 L781.39 384.666 L785.649 384.666 L785.649 420.684 L781.39 420.684 L781.39 416.795 Q780.047 419.11 777.987 420.244 Q775.95 421.355 773.08 421.355 Q768.38 421.355 765.418 417.605 Q762.478 413.855 762.478 407.744 Q762.478 401.633 765.418 397.883 Q768.38 394.133 773.08 394.133 Q775.95 394.133 777.987 395.268 Q780.047 396.379 781.39 398.693 M766.876 407.744 Q766.876 412.443 768.797 415.129 Q770.742 417.791 774.121 417.791 Q777.501 417.791 779.445 415.129 Q781.39 412.443 781.39 407.744 Q781.39 403.045 779.445 400.383 Q777.501 397.698 774.121 397.698 Q770.742 397.698 768.797 400.383 Q766.876 403.045 766.876 407.744 Z\" fill=\"#000000\" fill-rule=\"evenodd\" fill-opacity=\"1\" /><path clip-path=\"url(#clip7300)\" d=\"M 0 0 M801.899 407.652 Q796.737 407.652 794.746 408.832 Q792.755 410.013 792.755 412.86 Q792.755 415.129 794.237 416.471 Q795.741 417.791 798.311 417.791 Q801.852 417.791 803.982 415.291 Q806.135 412.767 806.135 408.601 L806.135 407.652 L801.899 407.652 M810.394 405.893 L810.394 420.684 L806.135 420.684 L806.135 416.749 Q804.677 419.11 802.501 420.244 Q800.325 421.355 797.177 421.355 Q793.195 421.355 790.834 419.133 Q788.496 416.888 788.496 413.138 Q788.496 408.763 791.413 406.541 Q794.353 404.318 800.163 404.318 L806.135 404.318 L806.135 403.902 Q806.135 400.962 804.19 399.365 Q802.269 397.744 798.774 397.744 Q796.552 397.744 794.445 398.277 Q792.339 398.809 790.394 399.874 L790.394 395.939 Q792.732 395.036 794.931 394.596 Q797.13 394.133 799.214 394.133 Q804.839 394.133 807.616 397.05 Q810.394 399.967 810.394 405.893 Z\" fill=\"#000000\" fill-rule=\"evenodd\" fill-opacity=\"1\" /><path clip-path=\"url(#clip7300)\" d=\"M 0 0 M825.649 423.091 Q823.843 427.721 822.13 429.133 Q820.417 430.545 817.547 430.545 L814.144 430.545 L814.144 426.98 L816.644 426.98 Q818.403 426.98 819.376 426.147 Q820.348 425.314 821.528 422.212 L822.292 420.267 L811.806 394.758 L816.32 394.758 L824.422 415.036 L832.524 394.758 L837.037 394.758 L825.649 423.091 Z\" fill=\"#000000\" fill-rule=\"evenodd\" fill-opacity=\"1\" /><path clip-path=\"url(#clip7300)\" d=\"M 0 0 M861.436 389.967 L861.436 416.842 L867.084 416.842 Q874.236 416.842 877.547 413.601 Q880.88 410.36 880.88 403.369 Q880.88 396.425 877.547 393.207 Q874.236 389.967 867.084 389.967 L861.436 389.967 M856.76 386.124 L866.366 386.124 Q876.412 386.124 881.111 390.314 Q885.81 394.481 885.81 403.369 Q885.81 412.305 881.088 416.494 Q876.366 420.684 866.366 420.684 L856.76 420.684 L856.76 386.124 Z\" fill=\"#000000\" fill-rule=\"evenodd\" fill-opacity=\"1\" /><path clip-path=\"url(#clip7300)\" d=\"M 0 0 M912.454 406.656 L912.454 408.74 L892.871 408.74 Q893.148 413.138 895.509 415.453 Q897.894 417.744 902.13 417.744 Q904.583 417.744 906.875 417.142 Q909.19 416.541 911.458 415.337 L911.458 419.365 Q909.167 420.337 906.759 420.846 Q904.352 421.355 901.875 421.355 Q895.671 421.355 892.037 417.744 Q888.426 414.133 888.426 407.976 Q888.426 401.61 891.852 397.883 Q895.301 394.133 901.134 394.133 Q906.366 394.133 909.398 397.513 Q912.454 400.869 912.454 406.656 M908.195 405.406 Q908.148 401.911 906.227 399.828 Q904.329 397.744 901.181 397.744 Q897.616 397.744 895.463 399.758 Q893.333 401.772 893.009 405.43 L908.195 405.406 Z\" fill=\"#000000\" fill-rule=\"evenodd\" fill-opacity=\"1\" /><path clip-path=\"url(#clip7300)\" d=\"M 0 0 M935.579 395.754 L935.579 399.735 Q933.773 398.74 931.944 398.254 Q930.139 397.744 928.287 397.744 Q924.144 397.744 921.852 400.383 Q919.56 402.999 919.56 407.744 Q919.56 412.49 921.852 415.129 Q924.144 417.744 928.287 417.744 Q930.139 417.744 931.944 417.258 Q933.773 416.749 935.579 415.754 L935.579 419.689 Q933.796 420.522 931.875 420.939 Q929.977 421.355 927.824 421.355 Q921.968 421.355 918.519 417.675 Q915.069 413.994 915.069 407.744 Q915.069 401.402 918.542 397.768 Q922.037 394.133 928.102 394.133 Q930.069 394.133 931.944 394.55 Q933.819 394.943 935.579 395.754 Z\" fill=\"#000000\" fill-rule=\"evenodd\" fill-opacity=\"1\" /><path clip-path=\"url(#clip7300)\" d=\"M 0 0 M940.648 414.804 L945.532 414.804 L945.532 420.684 L940.648 420.684 L940.648 414.804 Z\" fill=\"#000000\" fill-rule=\"evenodd\" fill-opacity=\"1\" /><path clip-path=\"url(#clip7300)\" d=\"M 0 0 M966.481 416.749 L974.12 416.749 L974.12 390.383 L965.81 392.05 L965.81 387.791 L974.074 386.124 L978.75 386.124 L978.75 416.749 L986.389 416.749 L986.389 420.684 L966.481 420.684 L966.481 416.749 Z\" fill=\"#000000\" fill-rule=\"evenodd\" fill-opacity=\"1\" /><path clip-path=\"url(#clip7300)\" d=\"M 0 0 M992.268 416.749 L999.907 416.749 L999.907 390.383 L991.597 392.05 L991.597 387.791 L999.861 386.124 L1004.54 386.124 L1004.54 416.749 L1012.18 416.749 L1012.18 420.684 L992.268 420.684 L992.268 416.749 Z\" fill=\"#000000\" fill-rule=\"evenodd\" fill-opacity=\"1\" /><path clip-path=\"url(#clip7300)\" d=\"M 0 0 M1017.73 414.804 L1022.62 414.804 L1022.62 418.786 L1018.82 426.193 L1015.83 426.193 L1017.73 418.786 L1017.73 414.804 Z\" fill=\"#000000\" fill-rule=\"evenodd\" fill-opacity=\"1\" /><path clip-path=\"url(#clip7300)\" d=\"M 0 0 M1046.78 416.749 L1063.1 416.749 L1063.1 420.684 L1041.16 420.684 L1041.16 416.749 Q1043.82 413.994 1048.4 409.365 Q1053.01 404.712 1054.19 403.369 Q1056.43 400.846 1057.31 399.11 Q1058.22 397.351 1058.22 395.661 Q1058.22 392.906 1056.27 391.17 Q1054.35 389.434 1051.25 389.434 Q1049.05 389.434 1046.6 390.198 Q1044.17 390.962 1041.39 392.513 L1041.39 387.791 Q1044.21 386.656 1046.67 386.078 Q1049.12 385.499 1051.16 385.499 Q1056.53 385.499 1059.72 388.184 Q1062.92 390.869 1062.92 395.36 Q1062.92 397.49 1062.11 399.411 Q1061.32 401.309 1059.21 403.902 Q1058.63 404.573 1055.53 407.791 Q1052.43 410.985 1046.78 416.749 Z\" fill=\"#000000\" fill-rule=\"evenodd\" fill-opacity=\"1\" /><path clip-path=\"url(#clip7300)\" d=\"M 0 0 M1078.17 389.203 Q1074.56 389.203 1072.73 392.768 Q1070.93 396.309 1070.93 403.439 Q1070.93 410.545 1072.73 414.11 Q1074.56 417.652 1078.17 417.652 Q1081.8 417.652 1083.61 414.11 Q1085.44 410.545 1085.44 403.439 Q1085.44 396.309 1083.61 392.768 Q1081.8 389.203 1078.17 389.203 M1078.17 385.499 Q1083.98 385.499 1087.04 390.106 Q1090.11 394.689 1090.11 403.439 Q1090.11 412.166 1087.04 416.772 Q1083.98 421.355 1078.17 421.355 Q1072.36 421.355 1069.28 416.772 Q1066.23 412.166 1066.23 403.439 Q1066.23 394.689 1069.28 390.106 Q1072.36 385.499 1078.17 385.499 Z\" fill=\"#000000\" fill-rule=\"evenodd\" fill-opacity=\"1\" /><path clip-path=\"url(#clip7300)\" d=\"M 0 0 M1099.21 416.749 L1115.53 416.749 L1115.53 420.684 L1093.59 420.684 L1093.59 416.749 Q1096.25 413.994 1100.83 409.365 Q1105.44 404.712 1106.62 403.369 Q1108.86 400.846 1109.74 399.11 Q1110.65 397.351 1110.65 395.661 Q1110.65 392.906 1108.7 391.17 Q1106.78 389.434 1103.68 389.434 Q1101.48 389.434 1099.03 390.198 Q1096.6 390.962 1093.82 392.513 L1093.82 387.791 Q1096.64 386.656 1099.1 386.078 Q1101.55 385.499 1103.59 385.499 Q1108.96 385.499 1112.15 388.184 Q1115.35 390.869 1115.35 395.36 Q1115.35 397.49 1114.54 399.411 Q1113.75 401.309 1111.64 403.902 Q1111.06 404.573 1107.96 407.791 Q1104.86 410.985 1099.21 416.749 Z\" fill=\"#000000\" fill-rule=\"evenodd\" fill-opacity=\"1\" /><path clip-path=\"url(#clip7300)\" d=\"M 0 0 M1130.6 389.203 Q1126.99 389.203 1125.16 392.768 Q1123.36 396.309 1123.36 403.439 Q1123.36 410.545 1125.16 414.11 Q1126.99 417.652 1130.6 417.652 Q1134.23 417.652 1136.04 414.11 Q1137.87 410.545 1137.87 403.439 Q1137.87 396.309 1136.04 392.768 Q1134.23 389.203 1130.6 389.203 M1130.6 385.499 Q1136.41 385.499 1139.47 390.106 Q1142.55 394.689 1142.55 403.439 Q1142.55 412.166 1139.47 416.772 Q1136.41 421.355 1130.6 421.355 Q1124.79 421.355 1121.71 416.772 Q1118.66 412.166 1118.66 403.439 Q1118.66 394.689 1121.71 390.106 Q1124.79 385.499 1130.6 385.499 Z\" fill=\"#000000\" fill-rule=\"evenodd\" fill-opacity=\"1\" /></svg>\n"
      ]
     },
     "execution_count": 12,
     "metadata": {},
     "output_type": "execute_result"
    }
   ],
   "source": [
    "using Plots\n",
    "\n",
    "#dates = format_dates( df[rows,2] , \"m/d/yy\")\n",
    "\n",
    "gr()\n",
    "plot(    x_axis_dates,\n",
    "        [  y_axis_original y_axis_predicted \n",
    "        ], # y-axis\n",
    "    label    = \n",
    "        [ symbol_to_predict \"preditions\"  \"\" ],\n",
    "    legend   =:topleft, \n",
    "              # :right, :left, :top, :bottom, :inside, :best, :legend, :topright, :topleft, :bottomleft, :bottomright\n",
    "    xlabel   = \"time\",\n",
    "    ylabel   = \"value\",\n",
    "    size     = (980, 400), # width, height\n",
    "    layout = (1, 1), # number of graphs: vertically, horizontally\n",
    "    )\n",
    "## Add veritical today line\n",
    "plot!([today_id], seriestype=\"vline\", label=[ \"Today \"*t \"\" ],)\n"
   ]
  },
  {
   "cell_type": "code",
   "execution_count": 13,
   "metadata": {
    "ExecuteTime": {
     "end_time": "2020-12-11T20:08:02.900000-05:00",
     "start_time": "2020-12-12T01:06:54.297Z"
    }
   },
   "outputs": [],
   "source": [
    "savefig(\"../images/predictions_\" * symbol_to_predict * \".png\")"
   ]
  },
  {
   "cell_type": "code",
   "execution_count": 14,
   "metadata": {
    "ExecuteTime": {
     "end_time": "2020-12-11T20:08:03.678000-05:00",
     "start_time": "2020-12-12T01:06:54.300Z"
    }
   },
   "outputs": [
    {
     "name": "stdout",
     "output_type": "stream",
     "text": [
      "DJIA 2020-12-11\n",
      "Sun, 2020-11-08\t predicted 28556.0\t, but actual value was \t28432.0\t difference is -124.0\n",
      "Mon, 2020-11-09\t predicted 29822.0\t, but actual value was \t29934.0\t difference is 112.0\n",
      "Tue, 2020-11-10\t predicted 29480.0\t, but actual value was \t29479.0\t difference is -1.0\n",
      "Wed, 2020-11-11\t predicted 29584.0\t, but actual value was \t29593.0\t difference is 9.0\n",
      "Thu, 2020-11-12\t predicted 29483.0\t, but actual value was \t29312.0\t difference is -171.0\n",
      "Fri, 2020-11-13\t predicted 29550.0\t, but actual value was \t29559.0\t difference is 9.0\n",
      "Sat, 2020-11-14\t predicted 29558.0\t, but actual value was \t29559.0\t difference is 1.0\n",
      "Sun, 2020-11-15\t predicted 29558.0\t, but actual value was \t29559.0\t difference is 1.0\n",
      "Mon, 2020-11-16\t predicted 29833.0\t, but actual value was \t29964.0\t difference is 131.0\n",
      "Tue, 2020-11-17\t predicted 29876.0\t, but actual value was \t29872.0\t difference is -4.0\n",
      "Wed, 2020-11-18\t predicted 29923.0\t, but actual value was \t29931.0\t difference is 8.0\n",
      "Thu, 2020-11-19\t predicted 29595.0\t, but actual value was \t29525.0\t difference is -70.0\n",
      "Fri, 2020-11-20\t predicted 29506.0\t, but actual value was \t29470.0\t difference is -36.0\n",
      "Sat, 2020-11-21\t predicted 29478.0\t, but actual value was \t29470.0\t difference is -8.0\n",
      "Sun, 2020-11-22\t predicted 29459.0\t, but actual value was \t29470.0\t difference is 11.0\n",
      "Mon, 2020-11-23\t predicted 29696.0\t, but actual value was \t29668.0\t difference is -28.0\n",
      "Tue, 2020-11-24\t predicted 30068.0\t, but actual value was \t30117.0\t difference is 49.0\n",
      "Wed, 2020-11-25\t predicted 30069.0\t, but actual value was \t30059.0\t difference is -10.0\n",
      "Thu, 2020-11-26\t predicted 30019.0\t, but actual value was \t30059.0\t difference is 40.0\n",
      "Fri, 2020-11-27\t predicted 30043.0\t, but actual value was \t30015.0\t difference is -28.0\n",
      "Sat, 2020-11-28\t predicted 30024.0\t, but actual value was \t30015.0\t difference is -9.0\n",
      "Sun, 2020-11-29\t predicted 29992.0\t, but actual value was \t30015.0\t difference is 23.0\n",
      "Mon, 2020-11-30\t predicted 29883.0\t, but actual value was \t29855.0\t difference is -28.0\n",
      "Tue, 2020-12-01\t predicted 30083.0\t, but actual value was \t30083.0\t difference is 0.0\n",
      "Wed, 2020-12-02\t predicted 29931.0\t, but actual value was \t29903.0\t difference is -28.0\n",
      "Thu, 2020-12-03\t predicted 30098.0\t, but actual value was \t30111.0\t difference is 13.0\n",
      "Fri, 2020-12-04\t predicted 30207.0\t, but actual value was \t30218.0\t difference is 11.0\n",
      "Sat, 2020-12-05\t predicted 30230.0\t, but actual value was \t30218.0\t difference is -12.0\n",
      "Sun, 2020-12-06\t predicted 30242.0\t, but actual value was \t30218.0\t difference is -24.0\n",
      "Mon, 2020-12-07\t predicted 30209.0\t, but actual value was \t30233.0\t difference is 24.0\n",
      "Tue, 2020-12-08\t predicted 30265.0\t, but actual value was \t30246.0\t difference is -19.0\n",
      "Wed, 2020-12-09\t predicted 30428.0\t, but actual value was \t30320.0\t difference is -108.0\n",
      "Thu, 2020-12-10\t predicted 30167.0\t, but actual value was \t30064.0\t difference is -103.0\n",
      "Fri, 2020-12-11\t predicted 30071.0\n",
      "Sat, 2020-12-12\t predicted 29822.0\n",
      "Sun, 2020-12-13\t predicted 29595.0\n"
     ]
    }
   ],
   "source": [
    "## print prediction comparisons\n",
    "println(symbol_to_predict, \" \", today())\n",
    "\n",
    "file_path = \"../DATA/\" * symbol_to_predict * \"_predictions.csv\"\n",
    "open( file_path, \"a\") do file_handle # append\n",
    "    \n",
    "    for id in finem-35:finem\n",
    "        if id < today_id + 3\n",
    "            row = get(data_predictions, id) # get a dictionary of data from the SFrame\n",
    "            date_string = row[\"Date\"] # e.g. \"2020-10-20\"\n",
    "\n",
    "            a = y_axis_predicted[id]\n",
    "            b = y_axis_original[id]\n",
    "            d = round(b-a, digits=3)\n",
    "            date = convert(String, Dates.format( Date(date_string), \"e, yyyy-mm-dd\" ) )\n",
    "            if id < today_id\n",
    "                println( date, \"\\t predicted \", a , \"\\t, but actual value was \\t\", b , \"\\t difference is \",  d  ) # di\n",
    "            else\n",
    "                println( date, \"\\t predicted \", a  ) # \n",
    "\n",
    "                txt_to_save =  \n",
    "                    convert(String, Dates.format( today(), \"yyyy-mm-dd\" ) ) *\",\"* \n",
    "                    convert(String, symbol_to_predict) *\",\"* \n",
    "                    date_string *\",\"* \n",
    "                    string(a) * \"\\n\"\n",
    "                \n",
    "                write(file_handle, txt_to_save )\n",
    "                \n",
    "            end # if\n",
    "        end #if \n",
    "    end # for\n",
    "end # open file"
   ]
  },
  {
   "cell_type": "code",
   "execution_count": null,
   "metadata": {},
   "outputs": [],
   "source": []
  },
  {
   "cell_type": "code",
   "execution_count": null,
   "metadata": {},
   "outputs": [],
   "source": []
  }
 ],
 "metadata": {
  "kernelspec": {
   "display_name": "Julia 1.5.1",
   "language": "julia",
   "name": "julia-1.5"
  },
  "language_info": {
   "file_extension": ".jl",
   "mimetype": "application/julia",
   "name": "julia",
   "version": "1.5.1"
  },
  "toc": {
   "base_numbering": 1,
   "nav_menu": {},
   "number_sections": true,
   "sideBar": true,
   "skip_h1_title": true,
   "title_cell": "Table of Contents",
   "title_sidebar": "Contents",
   "toc_cell": true,
   "toc_position": {},
   "toc_section_display": true,
   "toc_window_display": true
  },
  "varInspector": {
   "cols": {
    "lenName": 16,
    "lenType": 16,
    "lenVar": 40
   },
   "kernels_config": {
    "python": {
     "delete_cmd_postfix": "",
     "delete_cmd_prefix": "del ",
     "library": "var_list.py",
     "varRefreshCmd": "print(var_dic_list())"
    },
    "r": {
     "delete_cmd_postfix": ") ",
     "delete_cmd_prefix": "rm(",
     "library": "var_list.r",
     "varRefreshCmd": "cat(var_dic_list()) "
    }
   },
   "types_to_exclude": [
    "module",
    "function",
    "builtin_function_or_method",
    "instance",
    "_Feature"
   ],
   "window_display": false
  }
 },
 "nbformat": 4,
 "nbformat_minor": 4
}
