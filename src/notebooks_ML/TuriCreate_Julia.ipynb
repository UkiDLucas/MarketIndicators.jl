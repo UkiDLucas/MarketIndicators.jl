{
 "cells": [
  {
   "cell_type": "markdown",
   "metadata": {},
   "source": [
    "# Prediction Model using TuriCreate in Julia"
   ]
  },
  {
   "cell_type": "markdown",
   "metadata": {
    "toc": true
   },
   "source": [
    "<h1>Table of Contents<span class=\"tocSkip\"></span></h1>\n",
    "<div class=\"toc\"><ul class=\"toc-item\"><li><span><a href=\"#Set-Up\" data-toc-modified-id=\"Set-Up-1\"><span class=\"toc-item-num\">1&nbsp;&nbsp;</span>Set Up</a></span></li><li><span><a href=\"#Fetch-Data-(SFrame)-from-Uber-CSV\" data-toc-modified-id=\"Fetch-Data-(SFrame)-from-Uber-CSV-2\"><span class=\"toc-item-num\">2&nbsp;&nbsp;</span>Fetch Data (SFrame) from Uber CSV</a></span></li><li><span><a href=\"#Split-Data\" data-toc-modified-id=\"Split-Data-3\"><span class=\"toc-item-num\">3&nbsp;&nbsp;</span>Split Data</a></span></li><li><span><a href=\"#Evaluate-the-Model\" data-toc-modified-id=\"Evaluate-the-Model-4\"><span class=\"toc-item-num\">4&nbsp;&nbsp;</span>Evaluate the Model</a></span></li><li><span><a href=\"#Save-/-Export-the-Model\" data-toc-modified-id=\"Save-/-Export-the-Model-5\"><span class=\"toc-item-num\">5&nbsp;&nbsp;</span>Save / Export the Model</a></span></li><li><span><a href=\"#Make-predictions\" data-toc-modified-id=\"Make-predictions-6\"><span class=\"toc-item-num\">6&nbsp;&nbsp;</span>Make predictions</a></span><ul class=\"toc-item\"><li><span><a href=\"#Explore-SFrame\" data-toc-modified-id=\"Explore-SFrame-6.1\"><span class=\"toc-item-num\">6.1&nbsp;&nbsp;</span>Explore SFrame</a></span></li><li><span><a href=\"#Format-Dates-for-Plot\" data-toc-modified-id=\"Format-Dates-for-Plot-6.2\"><span class=\"toc-item-num\">6.2&nbsp;&nbsp;</span>Format Dates for Plot</a></span></li></ul></li></ul></div>"
   ]
  },
  {
   "cell_type": "markdown",
   "metadata": {},
   "source": [
    "## Set Up"
   ]
  },
  {
   "cell_type": "code",
   "execution_count": 1,
   "metadata": {
    "ExecuteTime": {
     "end_time": "2020-12-05T14:19:18.872000-05:00",
     "start_time": "2020-12-05T19:19:14.684Z"
    }
   },
   "outputs": [
    {
     "name": "stdout",
     "output_type": "stream",
     "text": [
      "\n"
     ]
    }
   ],
   "source": [
    "column_to_predict = \"DJIA_Original\"\n",
    "\n",
    "## uncomment for the first run\n",
    "# import Pkg\n",
    "# Pkg.add(\"PyCall\")\n",
    "# Pkg.add(\"Conda\")\n",
    "# ENV[\"PYTHON\"] = \"/opt/anaconda3/envs/turi/bin/python\"\n",
    "# /opt/anaconda3/envs/turi/lib/python3.6/site-packages/\n",
    "# Pkg.build(\"PyCall\")\n",
    "\n",
    "include(\"../Julia/functions.jl\") "
   ]
  },
  {
   "cell_type": "code",
   "execution_count": 2,
   "metadata": {
    "ExecuteTime": {
     "end_time": "2020-12-05T14:19:23.914000-05:00",
     "start_time": "2020-12-05T19:19:14.688Z"
    }
   },
   "outputs": [
    {
     "data": {
      "text/plain": [
       "PyObject <module 'turicreate' from '/opt/anaconda3/envs/turi/lib/python3.6/site-packages/turicreate/__init__.py'>"
      ]
     },
     "execution_count": 2,
     "metadata": {},
     "output_type": "execute_result"
    }
   ],
   "source": [
    "using PyCall\n",
    "tc = pyimport(\"turicreate\")"
   ]
  },
  {
   "cell_type": "markdown",
   "metadata": {},
   "source": [
    "## Fetch Data (SFrame) from Uber CSV"
   ]
  },
  {
   "cell_type": "code",
   "execution_count": 3,
   "metadata": {
    "ExecuteTime": {
     "end_time": "2020-12-05T14:19:24.230000-05:00",
     "start_time": "2020-12-05T19:19:14.691Z"
    }
   },
   "outputs": [
    {
     "name": "stdout",
     "output_type": "stream",
     "text": [
      "Finished parsing file /Users/uki/REPOS/MarketIndicators.jl/src/DATA/processed/uber_training.csv\n",
      "Parsing completed. Parsed 100 lines in 0.02855 secs.\n",
      "------------------------------------------------------\n",
      "Inferred types from first 100 line(s) of file as \n",
      "column_type_hints=[int,str,float,float,float,float,float,float,float,float,float,float,float,float,float,float,float,float,float,float,float,float,float,float,float,float,float,float,float,float,float,float,float]\n",
      "If parsing fails due to incorrect types, you can correct\n",
      "the inferred type list above and pass it to read_csv in\n",
      "the column_type_hints argument\n",
      "------------------------------------------------------\n",
      "Finished parsing file /Users/uki/REPOS/MarketIndicators.jl/src/DATA/processed/uber_training.csv\n",
      "Parsing completed. Parsed 1785 lines in 0.008997 secs.\n",
      "\n"
     ]
    }
   ],
   "source": [
    "data_path=\"../DATA/processed/uber_training.csv\"\n",
    "data = tc.SFrame(data_path)\n",
    "println()"
   ]
  },
  {
   "cell_type": "markdown",
   "metadata": {},
   "source": [
    "## Split Data"
   ]
  },
  {
   "cell_type": "code",
   "execution_count": 4,
   "metadata": {
    "ExecuteTime": {
     "end_time": "2020-12-05T14:19:24.331000-05:00",
     "start_time": "2020-12-05T19:19:14.695Z"
    }
   },
   "outputs": [
    {
     "name": "stdout",
     "output_type": "stream",
     "text": [
      "\n"
     ]
    }
   ],
   "source": [
    "# Make a train-test split\n",
    "train_data, test_data = data.random_split(0.8)\n",
    "println()"
   ]
  },
  {
   "cell_type": "code",
   "execution_count": 5,
   "metadata": {
    "ExecuteTime": {
     "end_time": "2020-12-05T14:19:24.442000-05:00",
     "start_time": "2020-12-05T19:19:14.697Z"
    }
   },
   "outputs": [
    {
     "name": "stdout",
     "output_type": "stream",
     "text": [
      "(1447,)\n",
      "(338,)\n"
     ]
    }
   ],
   "source": [
    "println( size(train_data) )\n",
    "println( size(test_data)  )"
   ]
  },
  {
   "cell_type": "code",
   "execution_count": 6,
   "metadata": {
    "ExecuteTime": {
     "end_time": "2020-12-05T14:19:26.107000-05:00",
     "start_time": "2020-12-05T19:19:14.700Z"
    }
   },
   "outputs": [
    {
     "name": "stdout",
     "output_type": "stream",
     "text": [
      "Automatically generating validation set from 5% of the data.\n",
      "Linear regression:\n",
      "--------------------------------------------------------\n",
      "Number of examples          : 1374\n",
      "Number of features          : 28\n",
      "Number of unpacked features : 28\n",
      "Number of coefficients    : 29\n",
      "Starting Newton Method\n",
      "--------------------------------------------------------\n",
      "+-----------+----------+--------------+--------------------+----------------------+---------------------------------+-----------------------------------+\n",
      "| Iteration | Passes   | Elapsed Time | Training Max Error | Validation Max Error | Training Root-Mean-Square Error | Validation Root-Mean-Square Error |\n",
      "+-----------+----------+--------------+--------------------+----------------------+---------------------------------+-----------------------------------+\n",
      "| 1         | 2        | 1.015051     | 75.113457          | 66.537785            | 32.680180                       | 33.170203                         |\n",
      "+-----------+----------+--------------+--------------------+----------------------+---------------------------------+-----------------------------------+\n",
      "SUCCESS: Optimal solution found.\n",
      "\n",
      "Boosted trees regression:\n",
      "--------------------------------------------------------\n",
      "Number of examples          : 1374\n",
      "Number of features          : 28\n",
      "Number of unpacked features : 28\n",
      "+-----------+--------------+--------------------+----------------------+---------------------------------+-----------------------------------+\n",
      "| Iteration | Elapsed Time | Training Max Error | Validation Max Error | Training Root-Mean-Square Error | Validation Root-Mean-Square Error |\n",
      "+-----------+--------------+--------------------+----------------------+---------------------------------+-----------------------------------+\n",
      "| 1         | 0.005887     | 21842.513672       | 21253.535156         | 16763.476562                    | 16736.718750                      |\n",
      "| 2         | 0.008133     | 15858.283203       | 15269.304688         | 11759.488281                    | 11766.347656                      |\n",
      "| 3         | 0.010233     | 11542.775391       | 10953.796875         | 8249.887695                     | 8234.822266                       |\n",
      "| 4         | 0.012510     | 8530.523438        | 7941.544922          | 5789.812500                     | 5783.810547                       |\n",
      "| 5         | 0.014598     | 6314.132812        | 5725.154297          | 4064.378418                     | 4055.137939                       |\n",
      "| 10        | 0.025106     | 1526.859375        | 1161.285156          | 706.746765                      | 711.016418                        |\n",
      "+-----------+--------------+--------------------+----------------------+---------------------------------+-----------------------------------+\n"
     ]
    },
    {
     "data": {
      "text/plain": [
       "PyObject Class                          : LinearRegression\n",
       "\n",
       "Schema\n",
       "------\n",
       "Number of coefficients         : 29\n",
       "Number of examples             : 1374\n",
       "Number of feature columns      : 28\n",
       "Number of unpacked features    : 28\n",
       "\n",
       "Hyperparameters\n",
       "---------------\n",
       "L1 penalty                     : 0\n",
       "L2 penalty                     : 0.01\n",
       "\n",
       "Training Summary\n",
       "----------------\n",
       "Solver                         : newton\n",
       "Solver iterations              : 1\n",
       "Solver status                  : SUCCESS: Optimal solution found.\n",
       "Training time (sec)            : 1.0227\n",
       "\n",
       "Settings\n",
       "--------\n",
       "Residual sum of squares        : 1467423.9762\n",
       "Training RMSE                  : 32.6802\n",
       "\n",
       "Highest Positive Coefficients\n",
       "-----------------------------\n",
       "(intercept)                    : 15782.5004\n",
       "DJIA_Quantized                 : 112.4417\n",
       "DJIA_Avg090                    : 1.5542\n",
       "DJIA_Avg030                    : 1.0061\n",
       "mnfc_epmlt_Avg060              : 0.4675\n",
       "\n",
       "Lowest Negative Coefficients\n",
       "----------------------------\n",
       "mnfc_epmlt_Avg120              : -0.4598\n",
       "VIX_Avg120                     : -0.4598\n",
       "DJIA_Avg120                    : -0.4598\n",
       "mnfc_epmlt_Avg030              : -0.3558\n",
       "VIX_Quantized                  : -0.3298\n"
      ]
     },
     "execution_count": 6,
     "metadata": {},
     "output_type": "execute_result"
    }
   ],
   "source": [
    "\n",
    "\n",
    "model = tc.regression.create( \n",
    "    train_data, \n",
    "    target = column_to_predict, \n",
    "    features = [\n",
    "                \"DJIA_Quantized\" # kinda chitting\n",
    "                ,\"DJIA_Avg030\"\n",
    "                ,\"DJIA_Avg060\" \n",
    "                ,\"DJIA_Avg090\"\n",
    "                ,\"DJIA_Avg120\" \n",
    "                ,\"DJIA_Avg180\"\n",
    "                ,\"DJIA_Avg365\"\n",
    "    \n",
    "                ,\"mnfc_epmlt_Original\"\n",
    "                ,\"mnfc_epmlt_Quantized\"\n",
    "                ,\"mnfc_epmlt_Avg030\"\n",
    "                ,\"mnfc_epmlt_Avg060\" \n",
    "                ,\"mnfc_epmlt_Avg090\" \n",
    "                ,\"mnfc_epmlt_Avg120\"\n",
    "                ,\"mnfc_epmlt_Avg180\"\n",
    "                ,\"mnfc_epmlt_Avg365\"\n",
    "     \n",
    "                ,\"mnfc_PMI_Quantized\"\n",
    "                ,\"mnfc_PMI_Avg030\"\n",
    "                ,\"mnfc_PMI_Avg060\"\n",
    "                ,\"mnfc_PMI_Avg090\"\n",
    "                ,\"mnfc_PMI_Avg180\"\n",
    "                ,\"mnfc_PMI_Avg365\"\n",
    "    \n",
    "                ,\"VIX_Quantized\" \n",
    "                ,\"VIX_Avg030\"\n",
    "                ,\"VIX_Avg060\"\n",
    "                ,\"VIX_Avg090\"\n",
    "                ,\"VIX_Avg120\"\n",
    "                ,\"VIX_Avg180\" \n",
    "                ,\"VIX_Avg365\"\n",
    "            ], \n",
    "    validation_set=\"auto\", \n",
    "    verbose=true\n",
    ")"
   ]
  },
  {
   "cell_type": "markdown",
   "metadata": {},
   "source": [
    "## Evaluate the Model"
   ]
  },
  {
   "cell_type": "code",
   "execution_count": 7,
   "metadata": {
    "ExecuteTime": {
     "end_time": "2020-12-05T14:19:27.089000-05:00",
     "start_time": "2020-12-05T19:19:14.703Z"
    }
   },
   "outputs": [
    {
     "data": {
      "text/plain": [
       "Dict{Any,Any} with 2 entries:\n",
       "  \"rmse\"      => 33.0966\n",
       "  \"max_error\" => 65.6293"
      ]
     },
     "execution_count": 7,
     "metadata": {},
     "output_type": "execute_result"
    }
   ],
   "source": [
    "#TODO: write this in a loop to select the best model\n",
    "# Evaluate the model and save the results into a dictionary\n",
    "results = model.evaluate( test_data ) #test_data[0:2531]\n",
    "results"
   ]
  },
  {
   "cell_type": "code",
   "execution_count": 8,
   "metadata": {
    "ExecuteTime": {
     "end_time": "2020-12-05T14:19:27.213000-05:00",
     "start_time": "2020-12-05T19:19:14.706Z"
    }
   },
   "outputs": [
    {
     "name": "stdout",
     "output_type": "stream",
     "text": [
      "max_error: 65.63, rmse: 33.1\n"
     ]
    }
   ],
   "source": [
    "rmse = results[\"rmse\"]\n",
    "rmse = round(rmse, digits=2)\n",
    "\n",
    "max_error = results[\"max_error\"]\n",
    "max_error = round(max_error, digits=2)\n",
    "\n",
    "println( \"max_error: \", max_error, \", rmse: \", rmse )\n",
    "# max_error: 1069.27, rmse: 184.6"
   ]
  },
  {
   "cell_type": "markdown",
   "metadata": {},
   "source": [
    "## Save / Export the Model"
   ]
  },
  {
   "cell_type": "code",
   "execution_count": 9,
   "metadata": {
    "ExecuteTime": {
     "end_time": "2020-12-05T14:19:27.235000-05:00",
     "start_time": "2020-12-05T19:19:14.709Z"
    }
   },
   "outputs": [],
   "source": [
    "# Export to Core ML\n",
    "model.export_coreml(\"../DATA/models/^DJI.mlmodel\")"
   ]
  },
  {
   "cell_type": "markdown",
   "metadata": {},
   "source": [
    "## Make predictions "
   ]
  },
  {
   "cell_type": "code",
   "execution_count": 10,
   "metadata": {
    "ExecuteTime": {
     "end_time": "2020-12-05T14:19:27.307000-05:00",
     "start_time": "2020-12-05T19:19:14.712Z"
    }
   },
   "outputs": [
    {
     "name": "stdout",
     "output_type": "stream",
     "text": [
      "Finished parsing file /Users/uki/REPOS/MarketIndicators.jl/src/DATA/processed/uber_prediction.csv\n",
      "Parsing completed. Parsed 100 lines in 0.036413 secs.\n",
      "------------------------------------------------------\n",
      "Inferred types from first 100 line(s) of file as \n",
      "column_type_hints=[int,str,float,float,float,float,float,float,float,float,float,float,float,float,float,float,float,float,float,float,float,float,float,float,float,float,float,float,float,float,float,float,float]\n",
      "If parsing fails due to incorrect types, you can correct\n",
      "the inferred type list above and pass it to read_csv in\n",
      "the column_type_hints argument\n",
      "------------------------------------------------------\n",
      "Finished parsing file /Users/uki/REPOS/MarketIndicators.jl/src/DATA/processed/uber_prediction.csv\n",
      "Parsing completed. Parsed 121 lines in 0.006471 secs.\n",
      "\n"
     ]
    }
   ],
   "source": [
    "data_path=\"../DATA/processed/uber_prediction.csv\"\n",
    "data_predictions = tc.SFrame(data_path)\n",
    "println()"
   ]
  },
  {
   "cell_type": "code",
   "execution_count": 11,
   "metadata": {
    "ExecuteTime": {
     "end_time": "2020-12-05T14:19:27.599000-05:00",
     "start_time": "2020-12-05T19:19:14.716Z"
    }
   },
   "outputs": [
    {
     "data": {
      "text/plain": [
       "28511.340277740106"
      ]
     },
     "execution_count": 11,
     "metadata": {},
     "output_type": "execute_result"
    }
   ],
   "source": [
    "## Save predictions to an SArray\n",
    "predictions = model.predict(data_predictions)\n",
    "get(predictions, 1)"
   ]
  },
  {
   "cell_type": "markdown",
   "metadata": {},
   "source": [
    "### Explore SFrame"
   ]
  },
  {
   "cell_type": "code",
   "execution_count": 12,
   "metadata": {
    "ExecuteTime": {
     "end_time": "2020-12-05T14:19:27.685000-05:00",
     "start_time": "2020-12-05T19:19:14.719Z"
    }
   },
   "outputs": [
    {
     "name": "stdout",
     "output_type": "stream",
     "text": [
      "record_count data 121\n",
      "record_count predictions 121\n",
      "feature_number 33\n",
      "Rata Die 737794\n",
      "date 2021-01-04\n",
      "original 30218.259766\n"
     ]
    }
   ],
   "source": [
    "record_count = size(data_predictions)[1]\n",
    "row = get(data_predictions, record_count-1)\n",
    "\n",
    "feature_number = row.count\n",
    "day = row[\"Rata_Die\"]\n",
    "date = row[\"Date\"] # \"2020-10-20\"\n",
    "original = row[\"DJIA_Original\"]\n",
    "\n",
    "println( \"record_count data \", record_count )\n",
    "println( \"record_count predictions \", size(predictions)[1] )\n",
    "\n",
    "println( \"feature_number \", feature_number )\n",
    "println( \"Rata Die \", day )\n",
    "println( \"date \", date )\n",
    "println( \"original \", original )"
   ]
  },
  {
   "cell_type": "code",
   "execution_count": 13,
   "metadata": {
    "ExecuteTime": {
     "end_time": "2020-12-05T14:19:29.028000-05:00",
     "start_time": "2020-12-05T19:19:14.722Z"
    }
   },
   "outputs": [
    {
     "data": {
      "text/plain": [
       "737764"
      ]
     },
     "execution_count": 13,
     "metadata": {},
     "output_type": "execute_result"
    }
   ],
   "source": [
    "using Dates\n",
    "today_rata = Dates.datetime2rata( today() )"
   ]
  },
  {
   "cell_type": "code",
   "execution_count": 14,
   "metadata": {
    "ExecuteTime": {
     "end_time": "2020-12-05T14:19:29.043000-05:00",
     "start_time": "2020-12-05T19:19:14.726Z"
    }
   },
   "outputs": [
    {
     "name": "stdout",
     "output_type": "stream",
     "text": [
      "preditions set size: 120, step 6\n"
     ]
    }
   ],
   "source": [
    "## Determine dataset size\n",
    "\n",
    "initio = 1                                              # latin: start\n",
    "finem  = size(predictions)[1] -1                        # latin: end\n",
    "gradus = convert(Int64, round( finem/20, digits=0)  )   # latin: step\n",
    "\n",
    "println(\"preditions set size: \", finem, \", step \", gradus)"
   ]
  },
  {
   "cell_type": "code",
   "execution_count": null,
   "metadata": {
    "ExecuteTime": {
     "end_time": "2020-12-05T13:39:45.949000-05:00",
     "start_time": "2020-12-05T18:39:45.944Z"
    }
   },
   "outputs": [],
   "source": []
  },
  {
   "cell_type": "code",
   "execution_count": 15,
   "metadata": {
    "ExecuteTime": {
     "end_time": "2020-12-05T14:19:29.850000-05:00",
     "start_time": "2020-12-05T19:19:14.729Z"
    }
   },
   "outputs": [
    {
     "name": "stdout",
     "output_type": "stream",
     "text": [
      "DJIA_Original 120 Array{Date,1}\n",
      "\n"
     ]
    }
   ],
   "source": [
    "using Dates\n",
    "\n",
    "## Declare variables\n",
    "x_axis_dates      = Vector{Date}() # results in Array{Date,1}\n",
    "y_axis_original   = Vector{Float64}()\n",
    "y_axis_predicted  = Vector{Float64}()\n",
    "\n",
    "println(column_to_predict, \" \", finem, \" \", typeof(x_axis_dates))\n",
    "\n",
    "today_id  = 50 # not set yet\n",
    "\n",
    "## step thru each prediction\n",
    "for id in initio:finem\n",
    "    row = get(data_predictions, id) # get a dictionary of data from the SFrame\n",
    "    \n",
    "    date_string = row[\"Date\"] # e.g. \"2020-10-20\"\n",
    "    date = Date(date_string) # 2020-09-07 Date\n",
    "    if date == today()\n",
    "        today_id = id\n",
    "    end \n",
    "    #date = Dates.format(date, \"u.d,yy\" )\n",
    "    #println(\"date \", date, \" \", typeof(date))\n",
    "    push!(x_axis_dates, date)\n",
    "    \n",
    "    predicted = get(predictions, id) # Float64\n",
    "    predicted = round(predicted, digits=0)\n",
    "    #println(\"predicted \", predicted, \" \", typeof(predicted))\n",
    "    append!(y_axis_predicted, predicted)\n",
    "    \n",
    "    \n",
    "    original = row[\"DJIA_Original\"]\n",
    "    original = round(original, digits=0) # Float64\n",
    "    #println(\"original \", original, \" \", typeof(original)) \n",
    "    append!(y_axis_original, original)\n",
    "end\n",
    "\n",
    "## Format Dates for plotting\n",
    "include(\"../Julia/function_format_dates.jl\")\n",
    "x_axis_dates = format_dates(x_axis_dates, \"u.d,yy\")\n",
    "println()"
   ]
  },
  {
   "cell_type": "code",
   "execution_count": 16,
   "metadata": {
    "ExecuteTime": {
     "end_time": "2020-12-05T14:19:29.863000-05:00",
     "start_time": "2020-12-05T19:19:14.732Z"
    }
   },
   "outputs": [
    {
     "name": "stdout",
     "output_type": "stream",
     "text": [
      "t Dec.5,20 String\n"
     ]
    }
   ],
   "source": [
    "t = today() # Date\n",
    "t = format_dates([t], \"u.d,yy\") # Array{String,1}\n",
    "t = t[1] # String\n",
    "println(\"t \", t, \" \", typeof(t))"
   ]
  },
  {
   "cell_type": "code",
   "execution_count": 17,
   "metadata": {
    "ExecuteTime": {
     "end_time": "2020-12-05T14:20:03.262000-05:00",
     "start_time": "2020-12-05T19:19:14.735Z"
    }
   },
   "outputs": [
    {
     "data": {
      "image/png": "[encoded data removed]"
     },
     "execution_count": 17,
     "metadata": {},
     "output_type": "execute_result"
    }
   ],
   "source": [
    "using Plots\n",
    "\n",
    "#dates = format_dates( df[rows,2] , \"m/d/yy\")\n",
    "\n",
    "gr()\n",
    "plot(    x_axis_dates,\n",
    "        [  y_axis_predicted y_axis_original\n",
    "        ], # y-axis\n",
    "    label    = \n",
    "        [ \"DJIA preditions\" \"DJIA actuals\" \"today\" \"\"  ],\n",
    "    legend   =:topleft, \n",
    "              # :right, :left, :top, :bottom, :inside, :best, :legend, :topright, :topleft, :bottomleft, :bottomright\n",
    "    xlabel   = \"samples\",\n",
    "    ylabel   = \"indicators\",\n",
    "    size     = (980, 400), # width, height\n",
    "    layout = (1, 1), # number of graphs: vertically, horizontally\n",
    "    fmt = :png\n",
    "    )\n",
    "## Add veritical today line\n",
    "plot!([today_id], seriestype=\"vline\", label=[ \"today \"*t \"\" ],)"
   ]
  },
  {
   "cell_type": "code",
   "execution_count": 18,
   "metadata": {
    "ExecuteTime": {
     "end_time": "2020-12-05T14:20:04.246000-05:00",
     "start_time": "2020-12-05T19:19:14.738Z"
    }
   },
   "outputs": [],
   "source": [
    "savefig(\"../../predictions.png\")"
   ]
  },
  {
   "cell_type": "code",
   "execution_count": 19,
   "metadata": {
    "ExecuteTime": {
     "end_time": "2020-12-05T14:20:04.433000-05:00",
     "start_time": "2020-12-05T19:19:14.741Z"
    }
   },
   "outputs": [
    {
     "name": "stdout",
     "output_type": "stream",
     "text": [
      "2020-09-07 predicted 28511.0\t but actual value was \t28540.0\t difference is 29.0\n",
      "2020-09-13 predicted 27844.0\t but actual value was \t27829.0\t difference is -15.0\n",
      "2020-09-19 predicted 27957.0\t but actual value was \t27947.0\t difference is -10.0\n",
      "2020-09-25 predicted 27277.0\t but actual value was \t27239.0\t difference is -38.0\n",
      "2020-10-01 predicted 28069.0\t but actual value was \t28041.0\t difference is -28.0\n",
      "2020-10-07 predicted 28403.0\t but actual value was \t28370.0\t difference is -33.0\n",
      "2020-10-13 predicted 28856.0\t but actual value was \t28809.0\t difference is -47.0\n",
      "2020-10-19 predicted 28742.0\t but actual value was \t28712.0\t difference is -30.0\n",
      "2020-10-25 predicted 28407.0\t but actual value was \t28437.0\t difference is 30.0\n",
      "2020-10-31 predicted 26595.0\t but actual value was \t26639.0\t difference is 44.0\n",
      "2020-11-06 predicted 28405.0\t but actual value was \t28432.0\t difference is 27.0\n",
      "2020-11-12 predicted 29309.0\t but actual value was \t29312.0\t difference is 3.0\n",
      "2020-11-18 predicted 29878.0\t but actual value was \t29931.0\t difference is 53.0\n",
      "2020-11-24 predicted 30107.0\t but actual value was \t30117.0\t difference is 10.0\n",
      "2020-11-30 predicted 29887.0\t but actual value was \t29855.0\t difference is -32.0\n"
     ]
    }
   ],
   "source": [
    "## print prediction comparisons\n",
    "#println(today_id)\n",
    "\n",
    "for id in initio:gradus:finem\n",
    "    if id < today_id\n",
    "        row = get(data_predictions, id) # get a dictionary of data from the SFrame\n",
    "        date_string = row[\"Date\"] # e.g. \"2020-10-20\"\n",
    "        \n",
    "        a = y_axis_predicted[id]\n",
    "        b = y_axis_original[id]\n",
    "        d = round(b-a, digits=2)\n",
    "        println( date_string, \" predicted \", a , \"\\t but actual value was \\t\", b , \"\\t difference is \",  d  ) # di\n",
    "    end\n",
    "end"
   ]
  },
  {
   "cell_type": "code",
   "execution_count": null,
   "metadata": {},
   "outputs": [],
   "source": []
  }
 ],
 "metadata": {
  "kernelspec": {
   "display_name": "Julia 1.5.1",
   "language": "julia",
   "name": "julia-1.5"
  },
  "language_info": {
   "file_extension": ".jl",
   "mimetype": "application/julia",
   "name": "julia",
   "version": "1.5.1"
  },
  "toc": {
   "base_numbering": 1,
   "nav_menu": {},
   "number_sections": true,
   "sideBar": true,
   "skip_h1_title": true,
   "title_cell": "Table of Contents",
   "title_sidebar": "Contents",
   "toc_cell": true,
   "toc_position": {},
   "toc_section_display": true,
   "toc_window_display": true
  },
  "varInspector": {
   "cols": {
    "lenName": 16,
    "lenType": 16,
    "lenVar": 40
   },
   "kernels_config": {
    "python": {
     "delete_cmd_postfix": "",
     "delete_cmd_prefix": "del ",
     "library": "var_list.py",
     "varRefreshCmd": "print(var_dic_list())"
    },
    "r": {
     "delete_cmd_postfix": ") ",
     "delete_cmd_prefix": "rm(",
     "library": "var_list.r",
     "varRefreshCmd": "cat(var_dic_list()) "
    }
   },
   "types_to_exclude": [
    "module",
    "function",
    "builtin_function_or_method",
    "instance",
    "_Feature"
   ],
   "window_display": false
  }
 },
 "nbformat": 4,
 "nbformat_minor": 4
}
