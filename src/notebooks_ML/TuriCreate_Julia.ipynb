{
 "cells": [
  {
   "cell_type": "markdown",
   "metadata": {},
   "source": [
    "# Prediction Model using TuriCreate in Julia"
   ]
  },
  {
   "cell_type": "markdown",
   "metadata": {
    "toc": true
   },
   "source": [
    "<h1>Table of Contents<span class=\"tocSkip\"></span></h1>\n",
    "<div class=\"toc\"><ul class=\"toc-item\"><li><span><a href=\"#Set-Up\" data-toc-modified-id=\"Set-Up-1\"><span class=\"toc-item-num\">1&nbsp;&nbsp;</span>Set Up</a></span></li><li><span><a href=\"#Fetch-Data-(SFrame)-from-Uber-CSV\" data-toc-modified-id=\"Fetch-Data-(SFrame)-from-Uber-CSV-2\"><span class=\"toc-item-num\">2&nbsp;&nbsp;</span>Fetch Data (SFrame) from Uber CSV</a></span></li><li><span><a href=\"#Split-Data\" data-toc-modified-id=\"Split-Data-3\"><span class=\"toc-item-num\">3&nbsp;&nbsp;</span>Split Data</a></span></li><li><span><a href=\"#Evaluate-the-Model\" data-toc-modified-id=\"Evaluate-the-Model-4\"><span class=\"toc-item-num\">4&nbsp;&nbsp;</span>Evaluate the Model</a></span></li><li><span><a href=\"#Save-/-Export-the-Model\" data-toc-modified-id=\"Save-/-Export-the-Model-5\"><span class=\"toc-item-num\">5&nbsp;&nbsp;</span>Save / Export the Model</a></span></li><li><span><a href=\"#Make-predictions\" data-toc-modified-id=\"Make-predictions-6\"><span class=\"toc-item-num\">6&nbsp;&nbsp;</span>Make predictions</a></span><ul class=\"toc-item\"><li><span><a href=\"#Explore-SFrame\" data-toc-modified-id=\"Explore-SFrame-6.1\"><span class=\"toc-item-num\">6.1&nbsp;&nbsp;</span>Explore SFrame</a></span></li></ul></li></ul></div>"
   ]
  },
  {
   "cell_type": "markdown",
   "metadata": {},
   "source": [
    "## Set Up"
   ]
  },
  {
   "cell_type": "code",
   "execution_count": 1,
   "metadata": {
    "ExecuteTime": {
     "end_time": "2020-12-08T21:22:00.225000-05:00",
     "start_time": "2020-12-09T02:21:54.813Z"
    }
   },
   "outputs": [
    {
     "name": "stdout",
     "output_type": "stream",
     "text": [
      "\n"
     ]
    },
    {
     "data": {
      "text/plain": [
       "\"AAPL_Original\""
      ]
     },
     "execution_count": 1,
     "metadata": {},
     "output_type": "execute_result"
    }
   ],
   "source": [
    "symbol_to_predict = \"DJIA\"\n",
    "symbol_to_predict = \"AAPL\"\n",
    "# symbol_to_predict = \"VIX\"\n",
    "# symbol_to_predict = \"NIO\"\n",
    "# symbol_to_predict = \"NVDA\"\n",
    "\n",
    "\n",
    "\n",
    "\n",
    "## uncomment for the first run\n",
    "# import Pkg\n",
    "# Pkg.add(\"PyCall\")\n",
    "# Pkg.add(\"Conda\")\n",
    "# ENV[\"PYTHON\"] = \"/opt/anaconda3/envs/turi/bin/python\"\n",
    "# /opt/anaconda3/envs/turi/lib/python3.6/site-packages/\n",
    "# Pkg.build(\"PyCall\")\n",
    "\n",
    "include(\"../Julia/functions.jl\") \n",
    "data_path=\"../DATA/processed/uber_training.csv\"\n",
    "column_to_predict = symbol_to_predict * \"_Original\""
   ]
  },
  {
   "cell_type": "markdown",
   "metadata": {},
   "source": [
    "## Fetch Data (SFrame) from Uber CSV"
   ]
  },
  {
   "cell_type": "code",
   "execution_count": 2,
   "metadata": {
    "ExecuteTime": {
     "end_time": "2020-12-08T21:22:05.027000-05:00",
     "start_time": "2020-12-09T02:21:54.816Z"
    }
   },
   "outputs": [
    {
     "name": "stdout",
     "output_type": "stream",
     "text": [
      "Finished parsing file /Users/uki/REPOS/MarketIndicators.jl/src/DATA/processed/uber_training.csv\n",
      "Parsing completed. Parsed 100 lines in 0.028196 secs.\n",
      "------------------------------------------------------\n",
      "Inferred types from first 100 line(s) of file as \n",
      "column_type_hints=[int,str,float,float,float,float,float,float,float,float,float,float,float,float,float,float,float,float,float,float,float,float,float,float,float,float,float,float,float,float,float,float,float,float,float,float,float,float,float,float,float,float,float,float,float,float,float,float,float,float,float,float,float,float,float,float,float,float,float,float,float,float,float,float,float,float,float,float,float,float,float,float,float,float,float,float,float,float,float]\n",
      "If parsing fails due to incorrect types, you can correct\n",
      "the inferred type list above and pass it to read_csv in\n",
      "the column_type_hints argument\n",
      "------------------------------------------------------\n",
      "Finished parsing file /Users/uki/REPOS/MarketIndicators.jl/src/DATA/processed/uber_training.csv\n",
      "Parsing completed. Parsed 814 lines in 0.009443 secs.\n",
      "\n"
     ]
    }
   ],
   "source": [
    "using PyCall\n",
    "tc = pyimport(\"turicreate\")\n",
    "data = tc.SFrame(data_path)\n",
    "println()"
   ]
  },
  {
   "cell_type": "markdown",
   "metadata": {},
   "source": [
    "## Split Data"
   ]
  },
  {
   "cell_type": "code",
   "execution_count": 3,
   "metadata": {
    "ExecuteTime": {
     "end_time": "2020-12-08T21:22:05.518000-05:00",
     "start_time": "2020-12-09T02:21:54.819Z"
    }
   },
   "outputs": [
    {
     "name": "stdout",
     "output_type": "stream",
     "text": [
      "(660,)\n",
      "(154,)\n"
     ]
    }
   ],
   "source": [
    "# Make a train-test split\n",
    "train_data, test_data = data.random_split(0.8)\n",
    "\n",
    "println( size(train_data) )\n",
    "println( size(test_data)  )"
   ]
  },
  {
   "cell_type": "code",
   "execution_count": null,
   "metadata": {},
   "outputs": [],
   "source": []
  },
  {
   "cell_type": "code",
   "execution_count": 4,
   "metadata": {
    "ExecuteTime": {
     "end_time": "2020-12-08T21:22:07.622000-05:00",
     "start_time": "2020-12-09T02:21:54.823Z"
    }
   },
   "outputs": [
    {
     "name": "stdout",
     "output_type": "stream",
     "text": [
      "Automatically generating validation set from 5% of the data.\n",
      "Linear regression:\n",
      "--------------------------------------------------------\n",
      "Number of examples          : 618\n",
      "Number of features          : 65\n",
      "Number of unpacked features : 65\n",
      "Number of coefficients    : 66\n",
      "Starting Newton Method\n",
      "--------------------------------------------------------\n",
      "+-----------+----------+--------------+--------------------+----------------------+---------------------------------+-----------------------------------+\n",
      "| Iteration | Passes   | Elapsed Time | Training Max Error | Validation Max Error | Training Root-Mean-Square Error | Validation Root-Mean-Square Error |\n",
      "+-----------+----------+--------------+--------------------+----------------------+---------------------------------+-----------------------------------+\n",
      "| 1         | 2        | 1.023160     | 6.302868           | 5.645816             | 1.150779                        | 1.357278                          |\n",
      "+-----------+----------+--------------+--------------------+----------------------+---------------------------------+-----------------------------------+\n",
      "SUCCESS: Optimal solution found.\n",
      "\n",
      "Boosted trees regression:\n",
      "--------------------------------------------------------\n",
      "Number of examples          : 618\n",
      "Number of features          : 65\n",
      "Number of unpacked features : 65\n",
      "+-----------+--------------+--------------------+----------------------+---------------------------------+-----------------------------------+\n",
      "| Iteration | Elapsed Time | Training Max Error | Validation Max Error | Training Root-Mean-Square Error | Validation Root-Mean-Square Error |\n",
      "+-----------+--------------+--------------------+----------------------+---------------------------------+-----------------------------------+\n",
      "| 1         | 0.006909     | 99.436371          | 88.336365            | 50.798180                       | 50.961658                         |\n",
      "| 2         | 0.009644     | 75.200600          | 64.100594            | 35.789665                       | 36.168301                         |\n",
      "| 3         | 0.012864     | 57.658897          | 46.558891            | 25.238668                       | 25.391254                         |\n",
      "| 4         | 0.015479     | 45.376747          | 34.276741            | 17.825277                       | 18.052452                         |\n",
      "| 5         | 0.018334     | 35.781891          | 24.681885            | 12.607999                       | 12.634420                         |\n",
      "| 10        | 0.037214     | 13.014175          | 6.404884             | 2.444878                        | 2.462492                          |\n",
      "+-----------+--------------+--------------------+----------------------+---------------------------------+-----------------------------------+\n"
     ]
    },
    {
     "data": {
      "text/plain": [
       "PyObject Class                          : LinearRegression\n",
       "\n",
       "Schema\n",
       "------\n",
       "Number of coefficients         : 66\n",
       "Number of examples             : 618\n",
       "Number of feature columns      : 65\n",
       "Number of unpacked features    : 65\n",
       "\n",
       "Hyperparameters\n",
       "---------------\n",
       "L1 penalty                     : 0\n",
       "L2 penalty                     : 0.01\n",
       "\n",
       "Training Summary\n",
       "----------------\n",
       "Solver                         : newton\n",
       "Solver iterations              : 1\n",
       "Solver status                  : SUCCESS: Optimal solution found.\n",
       "Training time (sec)            : 1.0307\n",
       "\n",
       "Settings\n",
       "--------\n",
       "Residual sum of squares        : 818.4125\n",
       "Training RMSE                  : 1.1508\n",
       "\n",
       "Highest Positive Coefficients\n",
       "-----------------------------\n",
       "(intercept)                    : 80.4192\n",
       "AAPL_Avg005                    : 0.481\n",
       "US_GDP_Q_Avg090                : 0.4281\n",
       "NVDA_Avg060                    : 0.2418\n",
       "US_GDP_Q_Avg120                : 0.2102\n",
       "\n",
       "Lowest Negative Coefficients\n",
       "----------------------------\n",
       "US_GDP_Q_Avg180                : -0.8461\n",
       "AAPL_Avg060                    : -0.4395\n",
       "US_ISM_MFC_EMP_Avg180          : -0.2836\n",
       "US_ISM_MFC_EMP_Avg365          : -0.2411\n",
       "NVDA_Avg030                    : -0.1358\n"
      ]
     },
     "execution_count": 4,
     "metadata": {},
     "output_type": "execute_result"
    }
   ],
   "source": [
    "model = tc.regression.create( \n",
    "    train_data, \n",
    "    target = column_to_predict, \n",
    "    features = [\n",
    "\n",
    "    #\"VIX_Quantized\"\n",
    "    \"VIX_Avg030\"\n",
    "    ,\"VIX_Avg060\"\n",
    "    ,\"VIX_Avg090\"\n",
    "    ,\"VIX_Avg120\"\n",
    "    ,\"VIX_Avg180\"\n",
    "    ,\"VIX_Avg365\"\n",
    "        \n",
    "    ,\"US_ISM_MFC_PMI_Quantized\"\n",
    "    ,\"US_ISM_MFC_PMI_Avg030\"\n",
    "    ,\"US_ISM_MFC_PMI_Avg060\"\n",
    "    ,\"US_ISM_MFC_PMI_Avg090\"\n",
    "    ,\"US_ISM_MFC_PMI_Avg180\"\n",
    "    ,\"US_ISM_MFC_PMI_Avg365\"\n",
    "        \n",
    "\n",
    "    ,\"DJIA_Quantized\"\n",
    "    ,\"DJIA_Avg005\"\n",
    "    ,\"DJIA_Avg030\"\n",
    "    ,\"DJIA_Avg060\"\n",
    "    ,\"DJIA_Avg090\"\n",
    "    ,\"DJIA_Avg120\"\n",
    "    ,\"DJIA_Avg180\"\n",
    "       \n",
    "    #,\"AAPL_Quantized\"\n",
    "    ,\"AAPL_Avg005\"\n",
    "    ,\"AAPL_Avg030\"\n",
    "    ,\"AAPL_Avg060\"\n",
    "    ,\"AAPL_Avg090\"\n",
    "    ,\"AAPL_Avg120\"\n",
    "    ,\"AAPL_Avg180\"\n",
    "\n",
    "    ,\"US_ISM_MFC_EMP_Quantized\"\n",
    "    ,\"US_ISM_MFC_EMP_Avg030\"\n",
    "    ,\"US_ISM_MFC_EMP_Avg060\"\n",
    "    ,\"US_ISM_MFC_EMP_Avg090\"\n",
    "    ,\"US_ISM_MFC_EMP_Avg120\"\n",
    "    ,\"US_ISM_MFC_EMP_Avg180\"\n",
    "    ,\"US_ISM_MFC_EMP_Avg365\"\n",
    "        \n",
    "    ,\"US_INIT_JOBLESS_Quantized\"\n",
    "    ,\"US_INIT_JOBLESS_Avg005\"\n",
    "    ,\"US_INIT_JOBLESS_Avg030\"\n",
    "    ,\"US_INIT_JOBLESS_Avg060\"\n",
    "    ,\"US_INIT_JOBLESS_Avg090\"\n",
    "    ,\"US_INIT_JOBLESS_Avg120\"\n",
    "    ,\"US_INIT_JOBLESS_Avg180\"\n",
    "        \n",
    "    ,\"US_GDP_Q_Quantized\"\n",
    "    ,\"US_GDP_Q_Avg005\"\n",
    "    ,\"US_GDP_Q_Avg030\"\n",
    "    ,\"US_GDP_Q_Avg060\"\n",
    "    ,\"US_GDP_Q_Avg090\"\n",
    "    ,\"US_GDP_Q_Avg120\"\n",
    "    ,\"US_GDP_Q_Avg180\"\n",
    "        \n",
    "\n",
    "    #,\"NIO_Quantized\"\n",
    "    ,\"NIO_Avg005\"\n",
    "    ,\"NIO_Avg030\"\n",
    "    ,\"NIO_Avg060\"\n",
    "    ,\"NIO_Avg090\"\n",
    "    ,\"NIO_Avg120\"\n",
    "    ,\"NIO_Avg180\"\n",
    "        \n",
    "\n",
    "    #,\"NVDA_Quantized\"\n",
    "    ,\"NVDA_Avg005\"\n",
    "    ,\"NVDA_Avg030\"\n",
    "    ,\"NVDA_Avg060\"\n",
    "    ,\"NVDA_Avg090\"\n",
    "    ,\"NVDA_Avg120\"\n",
    "    ,\"NVDA_Avg180\"\n",
    "        \n",
    "\n",
    "    ,\"US_HOUS_STRT_M_Quantized\"\n",
    "    ,\"US_HOUS_STRT_M_Avg005\"\n",
    "    ,\"US_HOUS_STRT_M_Avg030\"\n",
    "    ,\"US_HOUS_STRT_M_Avg060\"\n",
    "    ,\"US_HOUS_STRT_M_Avg090\"\n",
    "    ,\"US_HOUS_STRT_M_Avg120\"\n",
    "    ,\"US_HOUS_STRT_M_Avg180\"\n",
    "    \n",
    "        ], \n",
    "    validation_set=\"auto\", \n",
    "    verbose=true\n",
    ")"
   ]
  },
  {
   "cell_type": "markdown",
   "metadata": {},
   "source": [
    "## Evaluate the Model"
   ]
  },
  {
   "cell_type": "code",
   "execution_count": 5,
   "metadata": {
    "ExecuteTime": {
     "end_time": "2020-12-08T21:22:08.652000-05:00",
     "start_time": "2020-12-09T02:21:54.826Z"
    }
   },
   "outputs": [
    {
     "data": {
      "text/plain": [
       "Dict{Any,Any} with 2 entries:\n",
       "  \"rmse\"      => 1.31996\n",
       "  \"max_error\" => 7.91916"
      ]
     },
     "execution_count": 5,
     "metadata": {},
     "output_type": "execute_result"
    }
   ],
   "source": [
    "#TODO: write this in a loop to select the best model\n",
    "# Evaluate the model and save the results into a dictionary\n",
    "results = model.evaluate( test_data ) #test_data[0:2531]\n",
    "results"
   ]
  },
  {
   "cell_type": "code",
   "execution_count": 6,
   "metadata": {
    "ExecuteTime": {
     "end_time": "2020-12-08T21:22:08.789000-05:00",
     "start_time": "2020-12-09T02:21:54.829Z"
    }
   },
   "outputs": [
    {
     "name": "stdout",
     "output_type": "stream",
     "text": [
      "max_error: 7.92, rmse: 1.32\n"
     ]
    }
   ],
   "source": [
    "rmse = results[\"rmse\"]\n",
    "rmse = round(rmse, digits=2)\n",
    "\n",
    "max_error = results[\"max_error\"]\n",
    "max_error = round(max_error, digits=2)\n",
    "\n",
    "println( \"max_error: \", max_error, \", rmse: \", rmse )\n",
    "# max_error: 1069.27, rmse: 184.6\n",
    "# max_error: 65.35, rmse: 32.6            predict: ^DJIA added: US_INIT_JOBLESS\n",
    "# max_error: 1875.39, rmse: 443.59        predict: ^DJIA commented out: \"DJIA_Quantized\"\n",
    "# max_error: 1339.76, rmse: 373.94        predict: ^DJIA commented out: \"DJIA_Quantized\"\n",
    "# max_error: 916.19, rmse: 231.24       predict: ^DJIA with \"DJIA_Avg005\""
   ]
  },
  {
   "cell_type": "markdown",
   "metadata": {},
   "source": [
    "## Save / Export the Model"
   ]
  },
  {
   "cell_type": "code",
   "execution_count": 7,
   "metadata": {
    "ExecuteTime": {
     "end_time": "2020-12-08T21:22:08.814000-05:00",
     "start_time": "2020-12-09T02:21:54.832Z"
    }
   },
   "outputs": [],
   "source": [
    "# Export to Core ML\n",
    "model.export_coreml(\"../DATA/models/^DJI.mlmodel\")"
   ]
  },
  {
   "cell_type": "markdown",
   "metadata": {},
   "source": [
    "## Make predictions "
   ]
  },
  {
   "cell_type": "code",
   "execution_count": 8,
   "metadata": {
    "ExecuteTime": {
     "end_time": "2020-12-08T21:22:08.892000-05:00",
     "start_time": "2020-12-09T02:21:54.835Z"
    }
   },
   "outputs": [
    {
     "name": "stdout",
     "output_type": "stream",
     "text": [
      "Finished parsing file /Users/uki/REPOS/MarketIndicators.jl/src/DATA/processed/uber_prediction.csv\n",
      "Parsing completed. Parsed 100 lines in 0.032113 secs.\n",
      "------------------------------------------------------\n",
      "Inferred types from first 100 line(s) of file as \n",
      "column_type_hints=[int,str,float,float,float,float,float,float,float,float,float,float,float,float,float,float,float,float,float,float,float,float,float,float,float,float,float,float,float,float,float,float,float,float,float,float,float,float,float,float,float,float,float,float,float,float,float,float,float,float,float,float,float,float,float,float,float,float,float,float,float,float,float,float,float,float,float,float,float,float,float,float,float,float,float,float,float,float,float]\n",
      "If parsing fails due to incorrect types, you can correct\n",
      "the inferred type list above and pass it to read_csv in\n",
      "the column_type_hints argument\n",
      "------------------------------------------------------\n",
      "Finished parsing file /Users/uki/REPOS/MarketIndicators.jl/src/DATA/processed/uber_prediction.csv\n",
      "Parsing completed. Parsed 120 lines in 0.006231 secs.\n",
      "\n"
     ]
    }
   ],
   "source": [
    "data_path=\"../DATA/processed/uber_prediction.csv\"\n",
    "data_predictions = tc.SFrame(data_path)\n",
    "println()"
   ]
  },
  {
   "cell_type": "code",
   "execution_count": 9,
   "metadata": {
    "ExecuteTime": {
     "end_time": "2020-12-08T21:22:09.212000-05:00",
     "start_time": "2020-12-09T02:21:54.837Z"
    }
   },
   "outputs": [
    {
     "data": {
      "text/plain": [
       "119.2937484938013"
      ]
     },
     "execution_count": 9,
     "metadata": {},
     "output_type": "execute_result"
    }
   ],
   "source": [
    "## Save predictions to an SArray\n",
    "predictions = model.predict(data_predictions)\n",
    "get(predictions, 1)"
   ]
  },
  {
   "cell_type": "markdown",
   "metadata": {},
   "source": [
    "### Explore SFrame"
   ]
  },
  {
   "cell_type": "code",
   "execution_count": 10,
   "metadata": {
    "ExecuteTime": {
     "end_time": "2020-12-08T21:22:09.318000-05:00",
     "start_time": "2020-12-09T02:21:54.840Z"
    }
   },
   "outputs": [
    {
     "name": "stdout",
     "output_type": "stream",
     "text": [
      "record_count data 120\n",
      "record_count predictions 120\n",
      "feature_number 79\n",
      "Rata Die 737796\n",
      "date 2021-01-06\n",
      "original 18556.13\n"
     ]
    }
   ],
   "source": [
    "record_count = size(data_predictions)[1]\n",
    "row = get(data_predictions, record_count-1)\n",
    "\n",
    "feature_number = row.count\n",
    "day = row[\"Rata_Die\"]\n",
    "date = row[\"Date\"] # \"2020-10-20\"\n",
    "original = row[\"DJIA_Original\"]\n",
    "\n",
    "println( \"record_count data \", record_count )\n",
    "println( \"record_count predictions \", size(predictions)[1] )\n",
    "\n",
    "println( \"feature_number \", feature_number )\n",
    "println( \"Rata Die \", day )\n",
    "println( \"date \", date )\n",
    "println( \"original \", original )"
   ]
  },
  {
   "cell_type": "code",
   "execution_count": 11,
   "metadata": {
    "ExecuteTime": {
     "end_time": "2020-12-08T21:22:11.534000-05:00",
     "start_time": "2020-12-09T02:21:54.843Z"
    }
   },
   "outputs": [
    {
     "name": "stdout",
     "output_type": "stream",
     "text": [
      "preditions set size: 119, step 6\n",
      "AAPL 119 Array{Date,1}\n",
      "t Dec.8, 20 String\n",
      "\n"
     ]
    }
   ],
   "source": [
    "using Dates\n",
    "today_rata = Dates.datetime2rata( today() )\n",
    "\n",
    "## Determine dataset size\n",
    "\n",
    "initio = 1                                              # latin: start\n",
    "finem  = size(predictions)[1] -1                        # latin: end\n",
    "gradus = convert(Int64, round( finem/20, digits=0)  )   # latin: step\n",
    "\n",
    "println(\"preditions set size: \", finem, \", step \", gradus)\n",
    "\n",
    "\n",
    "## Declare variables\n",
    "x_axis_dates      = Vector{Date}() # results in Array{Date,1}\n",
    "y_axis_original   = Vector{Float64}()\n",
    "y_axis_predicted  = Vector{Float64}()\n",
    "\n",
    "println(symbol_to_predict, \" \", finem, \" \", typeof(x_axis_dates))\n",
    "\n",
    "today_id  = 50 # not set yet\n",
    "\n",
    "## step thru each prediction\n",
    "for id in initio:finem\n",
    "    row = get(data_predictions, id) # get a dictionary of data from the SFrame\n",
    "    \n",
    "    date_string = row[\"Date\"] # e.g. \"2020-10-20\"\n",
    "    date = Date(date_string) # 2020-09-07 Date\n",
    "    if date == today()\n",
    "        today_id = id\n",
    "    end \n",
    "    #date = Dates.format(date, \"u.d,yy\" )\n",
    "    #println(\"date \", date, \" \", typeof(date))\n",
    "    push!(x_axis_dates, date)\n",
    "    \n",
    "    predicted = get(predictions, id) # Float64\n",
    "    predicted = round(predicted, digits=0)\n",
    "    #println(\"predicted \", predicted, \" \", typeof(predicted))\n",
    "    append!(y_axis_predicted, predicted)\n",
    "    \n",
    "    \n",
    "    original = row[ column_to_predict ]\n",
    "    original = round(original, digits=0) # Float64\n",
    "    #println(\"original \", original, \" \", typeof(original)) \n",
    "    append!(y_axis_original, original)\n",
    "end\n",
    "\n",
    "## Format Dates for plotting\n",
    "include(\"../Julia/function_format_dates.jl\")\n",
    "x_axis_dates = format_dates(x_axis_dates, \"u.d,yy\")\n",
    "\n",
    "\n",
    "\n",
    "t = today()# Date\n",
    "t = format_dates([t], \"u.d, yy\") # Array{String,1}\n",
    "t = t[1] # String\n",
    "println(\"t \", t, \" \", typeof(t))\n",
    "\n",
    "println()"
   ]
  },
  {
   "cell_type": "code",
   "execution_count": 14,
   "metadata": {
    "ExecuteTime": {
     "end_time": "2020-12-08T21:23:12.202000-05:00",
     "start_time": "2020-12-09T02:23:11.762Z"
    }
   },
   "outputs": [
    {
     "data": {
      "image/svg+xml": [
       "<?xml version=\"1.0\" encoding=\"utf-8\"?>\n",
       "<svg xmlns=\"http://www.w3.org/2000/svg\" xmlns:xlink=\"http://www.w3.org/1999/xlink\" width=\"980\" height=\"400\" viewBox=\"0 0 3920 1600\">\n",
       "<defs>\n",
       "  <clipPath id=\"clip8400\">\n",
       "    <rect x=\"0\" y=\"0\" width=\"3920\" height=\"1600\"/>\n",
       "  </clipPath>\n",
       "</defs>\n",
       "<path clip-path=\"url(#clip8400)\" d=\"\n",
       "M0 1600 L3920 1600 L3920 0 L0 0  Z\n",
       "  \" fill=\"#ffffff\" fill-rule=\"evenodd\" fill-opacity=\"1\"/>\n",
       "<defs>\n",
       "  <clipPath id=\"clip8401\">\n",
       "    <rect x=\"784\" y=\"0\" width=\"2745\" height=\"1600\"/>\n",
       "  </clipPath>\n",
       "</defs>\n",
       "<path clip-path=\"url(#clip8400)\" d=\"\n",
       "M222.126 1455.01 L3872.76 1455.01 L3872.76 47.2441 L222.126 47.2441  Z\n",
       "  \" fill=\"#ffffff\" fill-rule=\"evenodd\" fill-opacity=\"1\"/>\n",
       "<defs>\n",
       "  <clipPath id=\"clip8402\">\n",
       "    <rect x=\"222\" y=\"47\" width=\"3652\" height=\"1409\"/>\n",
       "  </clipPath>\n",
       "</defs>\n",
       "<polyline clip-path=\"url(#clip8402)\" style=\"stroke:#000000; stroke-width:2; stroke-opacity:0.1; fill:none\" points=\"\n",
       "  325.446,1455.01 325.446,47.2441 \n",
       "  \"/>\n",
       "<polyline clip-path=\"url(#clip8402)\" style=\"stroke:#000000; stroke-width:2; stroke-opacity:0.1; fill:none\" points=\"\n",
       "  558.937,1455.01 558.937,47.2441 \n",
       "  \"/>\n",
       "<polyline clip-path=\"url(#clip8402)\" style=\"stroke:#000000; stroke-width:2; stroke-opacity:0.1; fill:none\" points=\"\n",
       "  821.614,1455.01 821.614,47.2441 \n",
       "  \"/>\n",
       "<polyline clip-path=\"url(#clip8402)\" style=\"stroke:#000000; stroke-width:2; stroke-opacity:0.1; fill:none\" points=\"\n",
       "  1055.1,1455.01 1055.1,47.2441 \n",
       "  \"/>\n",
       "<polyline clip-path=\"url(#clip8402)\" style=\"stroke:#000000; stroke-width:2; stroke-opacity:0.1; fill:none\" points=\"\n",
       "  1317.78,1455.01 1317.78,47.2441 \n",
       "  \"/>\n",
       "<polyline clip-path=\"url(#clip8402)\" style=\"stroke:#000000; stroke-width:2; stroke-opacity:0.1; fill:none\" points=\"\n",
       "  1551.27,1455.01 1551.27,47.2441 \n",
       "  \"/>\n",
       "<polyline clip-path=\"url(#clip8402)\" style=\"stroke:#000000; stroke-width:2; stroke-opacity:0.1; fill:none\" points=\"\n",
       "  1813.95,1455.01 1813.95,47.2441 \n",
       "  \"/>\n",
       "<polyline clip-path=\"url(#clip8402)\" style=\"stroke:#000000; stroke-width:2; stroke-opacity:0.1; fill:none\" points=\"\n",
       "  2047.44,1455.01 2047.44,47.2441 \n",
       "  \"/>\n",
       "<polyline clip-path=\"url(#clip8402)\" style=\"stroke:#000000; stroke-width:2; stroke-opacity:0.1; fill:none\" points=\"\n",
       "  2280.93,1455.01 2280.93,47.2441 \n",
       "  \"/>\n",
       "<polyline clip-path=\"url(#clip8402)\" style=\"stroke:#000000; stroke-width:2; stroke-opacity:0.1; fill:none\" points=\"\n",
       "  2543.61,1455.01 2543.61,47.2441 \n",
       "  \"/>\n",
       "<polyline clip-path=\"url(#clip8402)\" style=\"stroke:#000000; stroke-width:2; stroke-opacity:0.1; fill:none\" points=\"\n",
       "  2777.1,1455.01 2777.1,47.2441 \n",
       "  \"/>\n",
       "<polyline clip-path=\"url(#clip8402)\" style=\"stroke:#000000; stroke-width:2; stroke-opacity:0.1; fill:none\" points=\"\n",
       "  3039.78,1455.01 3039.78,47.2441 \n",
       "  \"/>\n",
       "<polyline clip-path=\"url(#clip8402)\" style=\"stroke:#000000; stroke-width:2; stroke-opacity:0.1; fill:none\" points=\"\n",
       "  3273.27,1455.01 3273.27,47.2441 \n",
       "  \"/>\n",
       "<polyline clip-path=\"url(#clip8402)\" style=\"stroke:#000000; stroke-width:2; stroke-opacity:0.1; fill:none\" points=\"\n",
       "  3535.95,1455.01 3535.95,47.2441 \n",
       "  \"/>\n",
       "<polyline clip-path=\"url(#clip8402)\" style=\"stroke:#000000; stroke-width:2; stroke-opacity:0.1; fill:none\" points=\"\n",
       "  3769.44,1455.01 3769.44,47.2441 \n",
       "  \"/>\n",
       "<polyline clip-path=\"url(#clip8402)\" style=\"stroke:#000000; stroke-width:2; stroke-opacity:0.1; fill:none\" points=\"\n",
       "  222.126,1415.16 3872.76,1415.16 \n",
       "  \"/>\n",
       "<polyline clip-path=\"url(#clip8402)\" style=\"stroke:#000000; stroke-width:2; stroke-opacity:0.1; fill:none\" points=\"\n",
       "  222.126,1046.25 3872.76,1046.25 \n",
       "  \"/>\n",
       "<polyline clip-path=\"url(#clip8402)\" style=\"stroke:#000000; stroke-width:2; stroke-opacity:0.1; fill:none\" points=\"\n",
       "  222.126,677.343 3872.76,677.343 \n",
       "  \"/>\n",
       "<polyline clip-path=\"url(#clip8402)\" style=\"stroke:#000000; stroke-width:2; stroke-opacity:0.1; fill:none\" points=\"\n",
       "  222.126,308.433 3872.76,308.433 \n",
       "  \"/>\n",
       "<polyline clip-path=\"url(#clip8400)\" style=\"stroke:#000000; stroke-width:4; stroke-opacity:1; fill:none\" points=\"\n",
       "  222.126,1455.01 3872.76,1455.01 \n",
       "  \"/>\n",
       "<polyline clip-path=\"url(#clip8400)\" style=\"stroke:#000000; stroke-width:4; stroke-opacity:1; fill:none\" points=\"\n",
       "  222.126,1455.01 222.126,47.2441 \n",
       "  \"/>\n",
       "<polyline clip-path=\"url(#clip8400)\" style=\"stroke:#000000; stroke-width:4; stroke-opacity:1; fill:none\" points=\"\n",
       "  325.446,1455.01 325.446,1438.11 \n",
       "  \"/>\n",
       "<polyline clip-path=\"url(#clip8400)\" style=\"stroke:#000000; stroke-width:4; stroke-opacity:1; fill:none\" points=\"\n",
       "  558.937,1455.01 558.937,1438.11 \n",
       "  \"/>\n",
       "<polyline clip-path=\"url(#clip8400)\" style=\"stroke:#000000; stroke-width:4; stroke-opacity:1; fill:none\" points=\"\n",
       "  821.614,1455.01 821.614,1438.11 \n",
       "  \"/>\n",
       "<polyline clip-path=\"url(#clip8400)\" style=\"stroke:#000000; stroke-width:4; stroke-opacity:1; fill:none\" points=\"\n",
       "  1055.1,1455.01 1055.1,1438.11 \n",
       "  \"/>\n",
       "<polyline clip-path=\"url(#clip8400)\" style=\"stroke:#000000; stroke-width:4; stroke-opacity:1; fill:none\" points=\"\n",
       "  1317.78,1455.01 1317.78,1438.11 \n",
       "  \"/>\n",
       "<polyline clip-path=\"url(#clip8400)\" style=\"stroke:#000000; stroke-width:4; stroke-opacity:1; fill:none\" points=\"\n",
       "  1551.27,1455.01 1551.27,1438.11 \n",
       "  \"/>\n",
       "<polyline clip-path=\"url(#clip8400)\" style=\"stroke:#000000; stroke-width:4; stroke-opacity:1; fill:none\" points=\"\n",
       "  1813.95,1455.01 1813.95,1438.11 \n",
       "  \"/>\n",
       "<polyline clip-path=\"url(#clip8400)\" style=\"stroke:#000000; stroke-width:4; stroke-opacity:1; fill:none\" points=\"\n",
       "  2047.44,1455.01 2047.44,1438.11 \n",
       "  \"/>\n",
       "<polyline clip-path=\"url(#clip8400)\" style=\"stroke:#000000; stroke-width:4; stroke-opacity:1; fill:none\" points=\"\n",
       "  2280.93,1455.01 2280.93,1438.11 \n",
       "  \"/>\n",
       "<polyline clip-path=\"url(#clip8400)\" style=\"stroke:#000000; stroke-width:4; stroke-opacity:1; fill:none\" points=\"\n",
       "  2543.61,1455.01 2543.61,1438.11 \n",
       "  \"/>\n",
       "<polyline clip-path=\"url(#clip8400)\" style=\"stroke:#000000; stroke-width:4; stroke-opacity:1; fill:none\" points=\"\n",
       "  2777.1,1455.01 2777.1,1438.11 \n",
       "  \"/>\n",
       "<polyline clip-path=\"url(#clip8400)\" style=\"stroke:#000000; stroke-width:4; stroke-opacity:1; fill:none\" points=\"\n",
       "  3039.78,1455.01 3039.78,1438.11 \n",
       "  \"/>\n",
       "<polyline clip-path=\"url(#clip8400)\" style=\"stroke:#000000; stroke-width:4; stroke-opacity:1; fill:none\" points=\"\n",
       "  3273.27,1455.01 3273.27,1438.11 \n",
       "  \"/>\n",
       "<polyline clip-path=\"url(#clip8400)\" style=\"stroke:#000000; stroke-width:4; stroke-opacity:1; fill:none\" points=\"\n",
       "  3535.95,1455.01 3535.95,1438.11 \n",
       "  \"/>\n",
       "<polyline clip-path=\"url(#clip8400)\" style=\"stroke:#000000; stroke-width:4; stroke-opacity:1; fill:none\" points=\"\n",
       "  3769.44,1455.01 3769.44,1438.11 \n",
       "  \"/>\n",
       "<polyline clip-path=\"url(#clip8400)\" style=\"stroke:#000000; stroke-width:4; stroke-opacity:1; fill:none\" points=\"\n",
       "  222.126,1415.16 265.934,1415.16 \n",
       "  \"/>\n",
       "<polyline clip-path=\"url(#clip8400)\" style=\"stroke:#000000; stroke-width:4; stroke-opacity:1; fill:none\" points=\"\n",
       "  222.126,1046.25 265.934,1046.25 \n",
       "  \"/>\n",
       "<polyline clip-path=\"url(#clip8400)\" style=\"stroke:#000000; stroke-width:4; stroke-opacity:1; fill:none\" points=\"\n",
       "  222.126,677.343 265.934,677.343 \n",
       "  \"/>\n",
       "<polyline clip-path=\"url(#clip8400)\" style=\"stroke:#000000; stroke-width:4; stroke-opacity:1; fill:none\" points=\"\n",
       "  222.126,308.433 265.934,308.433 \n",
       "  \"/>\n",
       "<path clip-path=\"url(#clip8400)\" d=\"M 0 0 M245.643 1482.65 L245.643 1487.21 Q242.981 1485.94 240.62 1485.32 Q238.259 1484.69 236.06 1484.69 Q232.24 1484.69 230.157 1486.17 Q228.097 1487.65 228.097 1490.38 Q228.097 1492.68 229.463 1493.86 Q230.852 1495.01 234.694 1495.73 L237.518 1496.31 Q242.75 1497.31 245.226 1499.83 Q247.726 1502.33 247.726 1506.54 Q247.726 1511.56 244.347 1514.16 Q240.99 1516.75 234.486 1516.75 Q232.032 1516.75 229.254 1516.19 Q226.5 1515.64 223.537 1514.55 L223.537 1509.74 Q226.384 1511.33 229.115 1512.14 Q231.847 1512.95 234.486 1512.95 Q238.49 1512.95 240.666 1511.38 Q242.842 1509.81 242.842 1506.89 Q242.842 1504.34 241.268 1502.91 Q239.717 1501.47 236.152 1500.75 L233.305 1500.2 Q228.074 1499.16 225.736 1496.94 Q223.398 1494.71 223.398 1490.75 Q223.398 1486.17 226.615 1483.53 Q229.856 1480.89 235.527 1480.89 Q237.958 1480.89 240.481 1481.33 Q243.004 1481.77 245.643 1482.65 Z\" fill=\"#000000\" fill-rule=\"evenodd\" fill-opacity=\"1\" /><path clip-path=\"url(#clip8400)\" d=\"M 0 0 M274.37 1502.05 L274.37 1504.13 L254.787 1504.13 Q255.064 1508.53 257.425 1510.85 Q259.81 1513.14 264.046 1513.14 Q266.499 1513.14 268.791 1512.54 Q271.106 1511.94 273.374 1510.73 L273.374 1514.76 Q271.083 1515.73 268.675 1516.24 Q266.268 1516.75 263.791 1516.75 Q257.588 1516.75 253.953 1513.14 Q250.342 1509.53 250.342 1503.37 Q250.342 1497 253.768 1493.28 Q257.217 1489.53 263.05 1489.53 Q268.282 1489.53 271.314 1492.91 Q274.37 1496.26 274.37 1502.05 M270.111 1500.8 Q270.064 1497.31 268.143 1495.22 Q266.245 1493.14 263.097 1493.14 Q259.532 1493.14 257.379 1495.15 Q255.25 1497.17 254.925 1500.82 L270.111 1500.8 Z\" fill=\"#000000\" fill-rule=\"evenodd\" fill-opacity=\"1\" /><path clip-path=\"url(#clip8400)\" d=\"M 0 0 M282.958 1512.19 L282.958 1525.94 L278.675 1525.94 L278.675 1490.15 L282.958 1490.15 L282.958 1494.09 Q284.3 1491.77 286.337 1490.66 Q288.398 1489.53 291.245 1489.53 Q295.967 1489.53 298.907 1493.28 Q301.87 1497.03 301.87 1503.14 Q301.87 1509.25 298.907 1513 Q295.967 1516.75 291.245 1516.75 Q288.398 1516.75 286.337 1515.64 Q284.3 1514.5 282.958 1512.19 M297.448 1503.14 Q297.448 1498.44 295.504 1495.78 Q293.583 1493.09 290.203 1493.09 Q286.823 1493.09 284.879 1495.78 Q282.958 1498.44 282.958 1503.14 Q282.958 1507.84 284.879 1510.52 Q286.823 1513.19 290.203 1513.19 Q293.583 1513.19 295.504 1510.52 Q297.448 1507.84 297.448 1503.14 Z\" fill=\"#000000\" fill-rule=\"evenodd\" fill-opacity=\"1\" /><path clip-path=\"url(#clip8400)\" d=\"M 0 0 M306.939 1510.2 L311.823 1510.2 L311.823 1516.08 L306.939 1516.08 L306.939 1510.2 Z\" fill=\"#000000\" fill-rule=\"evenodd\" fill-opacity=\"1\" /><path clip-path=\"url(#clip8400)\" d=\"M 0 0 M317.703 1512.14 L325.342 1512.14 L325.342 1485.78 L317.032 1487.44 L317.032 1483.19 L325.295 1481.52 L329.971 1481.52 L329.971 1512.14 L337.61 1512.14 L337.61 1516.08 L317.703 1516.08 L317.703 1512.14 Z\" fill=\"#000000\" fill-rule=\"evenodd\" fill-opacity=\"1\" /><path clip-path=\"url(#clip8400)\" d=\"M 0 0 M352.68 1484.6 Q349.068 1484.6 347.24 1488.16 Q345.434 1491.7 345.434 1498.83 Q345.434 1505.94 347.24 1509.5 Q349.068 1513.05 352.68 1513.05 Q356.314 1513.05 358.119 1509.5 Q359.948 1505.94 359.948 1498.83 Q359.948 1491.7 358.119 1488.16 Q356.314 1484.6 352.68 1484.6 M352.68 1480.89 Q358.49 1480.89 361.545 1485.5 Q364.624 1490.08 364.624 1498.83 Q364.624 1507.56 361.545 1512.17 Q358.49 1516.75 352.68 1516.75 Q346.869 1516.75 343.791 1512.17 Q340.735 1507.56 340.735 1498.83 Q340.735 1490.08 343.791 1485.5 Q346.869 1480.89 352.68 1480.89 Z\" fill=\"#000000\" fill-rule=\"evenodd\" fill-opacity=\"1\" /><path clip-path=\"url(#clip8400)\" d=\"M 0 0 M370.179 1510.2 L375.064 1510.2 L375.064 1514.18 L371.267 1521.59 L368.281 1521.59 L370.179 1514.18 L370.179 1510.2 Z\" fill=\"#000000\" fill-rule=\"evenodd\" fill-opacity=\"1\" /><path clip-path=\"url(#clip8400)\" d=\"M 0 0 M384.161 1512.14 L400.48 1512.14 L400.48 1516.08 L378.536 1516.08 L378.536 1512.14 Q381.198 1509.39 385.781 1504.76 Q390.388 1500.11 391.568 1498.76 Q393.814 1496.24 394.693 1494.5 Q395.596 1492.75 395.596 1491.06 Q395.596 1488.3 393.652 1486.57 Q391.73 1484.83 388.628 1484.83 Q386.429 1484.83 383.976 1485.59 Q381.545 1486.36 378.767 1487.91 L378.767 1483.19 Q381.591 1482.05 384.045 1481.47 Q386.499 1480.89 388.536 1480.89 Q393.906 1480.89 397.101 1483.58 Q400.295 1486.26 400.295 1490.75 Q400.295 1492.88 399.485 1494.81 Q398.698 1496.7 396.591 1499.3 Q396.013 1499.97 392.911 1503.19 Q389.809 1506.38 384.161 1512.14 Z\" fill=\"#000000\" fill-rule=\"evenodd\" fill-opacity=\"1\" /><path clip-path=\"url(#clip8400)\" d=\"M 0 0 M415.55 1484.6 Q411.939 1484.6 410.11 1488.16 Q408.304 1491.7 408.304 1498.83 Q408.304 1505.94 410.11 1509.5 Q411.939 1513.05 415.55 1513.05 Q419.184 1513.05 420.989 1509.5 Q422.818 1505.94 422.818 1498.83 Q422.818 1491.7 420.989 1488.16 Q419.184 1484.6 415.55 1484.6 M415.55 1480.89 Q421.36 1480.89 424.415 1485.5 Q427.494 1490.08 427.494 1498.83 Q427.494 1507.56 424.415 1512.17 Q421.36 1516.75 415.55 1516.75 Q409.739 1516.75 406.661 1512.17 Q403.605 1507.56 403.605 1498.83 Q403.605 1490.08 406.661 1485.5 Q409.739 1480.89 415.55 1480.89 Z\" fill=\"#000000\" fill-rule=\"evenodd\" fill-opacity=\"1\" /><path clip-path=\"url(#clip8400)\" d=\"M 0 0 M479.18 1482.65 L479.18 1487.21 Q476.518 1485.94 474.157 1485.32 Q471.796 1484.69 469.597 1484.69 Q465.778 1484.69 463.694 1486.17 Q461.634 1487.65 461.634 1490.38 Q461.634 1492.68 463 1493.86 Q464.389 1495.01 468.231 1495.73 L471.055 1496.31 Q476.287 1497.31 478.764 1499.83 Q481.264 1502.33 481.264 1506.54 Q481.264 1511.56 477.884 1514.16 Q474.528 1516.75 468.023 1516.75 Q465.569 1516.75 462.791 1516.19 Q460.037 1515.64 457.074 1514.55 L457.074 1509.74 Q459.921 1511.33 462.653 1512.14 Q465.384 1512.95 468.023 1512.95 Q472.028 1512.95 474.203 1511.38 Q476.379 1509.81 476.379 1506.89 Q476.379 1504.34 474.805 1502.91 Q473.254 1501.47 469.69 1500.75 L466.842 1500.2 Q461.611 1499.16 459.273 1496.94 Q456.935 1494.71 456.935 1490.75 Q456.935 1486.17 460.153 1483.53 Q463.393 1480.89 469.065 1480.89 Q471.495 1480.89 474.018 1481.33 Q476.541 1481.77 479.18 1482.65 Z\" fill=\"#000000\" fill-rule=\"evenodd\" fill-opacity=\"1\" /><path clip-path=\"url(#clip8400)\" d=\"M 0 0 M507.907 1502.05 L507.907 1504.13 L488.324 1504.13 Q488.602 1508.53 490.963 1510.85 Q493.347 1513.14 497.583 1513.14 Q500.037 1513.14 502.328 1512.54 Q504.643 1511.94 506.912 1510.73 L506.912 1514.76 Q504.62 1515.73 502.213 1516.24 Q499.805 1516.75 497.328 1516.75 Q491.125 1516.75 487.49 1513.14 Q483.879 1509.53 483.879 1503.37 Q483.879 1497 487.305 1493.28 Q490.754 1489.53 496.588 1489.53 Q501.819 1489.53 504.851 1492.91 Q507.907 1496.26 507.907 1502.05 M503.648 1500.8 Q503.601 1497.31 501.68 1495.22 Q499.782 1493.14 496.634 1493.14 Q493.069 1493.14 490.916 1495.15 Q488.787 1497.17 488.463 1500.82 L503.648 1500.8 Z\" fill=\"#000000\" fill-rule=\"evenodd\" fill-opacity=\"1\" /><path clip-path=\"url(#clip8400)\" d=\"M 0 0 M516.495 1512.19 L516.495 1525.94 L512.213 1525.94 L512.213 1490.15 L516.495 1490.15 L516.495 1494.09 Q517.837 1491.77 519.875 1490.66 Q521.935 1489.53 524.782 1489.53 Q529.504 1489.53 532.444 1493.28 Q535.407 1497.03 535.407 1503.14 Q535.407 1509.25 532.444 1513 Q529.504 1516.75 524.782 1516.75 Q521.935 1516.75 519.875 1515.64 Q517.837 1514.5 516.495 1512.19 M530.986 1503.14 Q530.986 1498.44 529.041 1495.78 Q527.12 1493.09 523.74 1493.09 Q520.361 1493.09 518.416 1495.78 Q516.495 1498.44 516.495 1503.14 Q516.495 1507.84 518.416 1510.52 Q520.361 1513.19 523.74 1513.19 Q527.12 1513.19 529.041 1510.52 Q530.986 1507.84 530.986 1503.14 Z\" fill=\"#000000\" fill-rule=\"evenodd\" fill-opacity=\"1\" /><path clip-path=\"url(#clip8400)\" d=\"M 0 0 M540.476 1510.2 L545.36 1510.2 L545.36 1516.08 L540.476 1516.08 L540.476 1510.2 Z\" fill=\"#000000\" fill-rule=\"evenodd\" fill-opacity=\"1\" /><path clip-path=\"url(#clip8400)\" d=\"M 0 0 M551.24 1512.14 L558.879 1512.14 L558.879 1485.78 L550.569 1487.44 L550.569 1483.19 L558.833 1481.52 L563.509 1481.52 L563.509 1512.14 L571.147 1512.14 L571.147 1516.08 L551.24 1516.08 L551.24 1512.14 Z\" fill=\"#000000\" fill-rule=\"evenodd\" fill-opacity=\"1\" /><path clip-path=\"url(#clip8400)\" d=\"M 0 0 M586.217 1499.67 Q582.883 1499.67 580.962 1501.45 Q579.064 1503.23 579.064 1506.36 Q579.064 1509.48 580.962 1511.26 Q582.883 1513.05 586.217 1513.05 Q589.55 1513.05 591.471 1511.26 Q593.393 1509.46 593.393 1506.36 Q593.393 1503.23 591.471 1501.45 Q589.573 1499.67 586.217 1499.67 M581.541 1497.68 Q578.532 1496.94 576.842 1494.88 Q575.175 1492.82 575.175 1489.85 Q575.175 1485.71 578.115 1483.3 Q581.078 1480.89 586.217 1480.89 Q591.379 1480.89 594.319 1483.3 Q597.258 1485.71 597.258 1489.85 Q597.258 1492.82 595.569 1494.88 Q593.902 1496.94 590.916 1497.68 Q594.295 1498.46 596.17 1500.75 Q598.069 1503.05 598.069 1506.36 Q598.069 1511.38 594.99 1514.06 Q591.934 1516.75 586.217 1516.75 Q580.499 1516.75 577.42 1514.06 Q574.365 1511.38 574.365 1506.36 Q574.365 1503.05 576.263 1500.75 Q578.161 1498.46 581.541 1497.68 M579.828 1490.29 Q579.828 1492.98 581.495 1494.48 Q583.184 1495.99 586.217 1495.99 Q589.226 1495.99 590.916 1494.48 Q592.629 1492.98 592.629 1490.29 Q592.629 1487.61 590.916 1486.1 Q589.226 1484.6 586.217 1484.6 Q583.184 1484.6 581.495 1486.1 Q579.828 1487.61 579.828 1490.29 Z\" fill=\"#000000\" fill-rule=\"evenodd\" fill-opacity=\"1\" /><path clip-path=\"url(#clip8400)\" d=\"M 0 0 M603.624 1510.2 L608.508 1510.2 L608.508 1514.18 L604.712 1521.59 L601.726 1521.59 L603.624 1514.18 L603.624 1510.2 Z\" fill=\"#000000\" fill-rule=\"evenodd\" fill-opacity=\"1\" /><path clip-path=\"url(#clip8400)\" d=\"M 0 0 M617.605 1512.14 L633.925 1512.14 L633.925 1516.08 L611.98 1516.08 L611.98 1512.14 Q614.643 1509.39 619.226 1504.76 Q623.832 1500.11 625.013 1498.76 Q627.258 1496.24 628.138 1494.5 Q629.041 1492.75 629.041 1491.06 Q629.041 1488.3 627.096 1486.57 Q625.175 1484.83 622.073 1484.83 Q619.874 1484.83 617.42 1485.59 Q614.99 1486.36 612.212 1487.91 L612.212 1483.19 Q615.036 1482.05 617.49 1481.47 Q619.943 1480.89 621.98 1480.89 Q627.351 1480.89 630.545 1483.58 Q633.74 1486.26 633.74 1490.75 Q633.74 1492.88 632.929 1494.81 Q632.142 1496.7 630.036 1499.3 Q629.457 1499.97 626.355 1503.19 Q623.254 1506.38 617.605 1512.14 Z\" fill=\"#000000\" fill-rule=\"evenodd\" fill-opacity=\"1\" /><path clip-path=\"url(#clip8400)\" d=\"M 0 0 M648.994 1484.6 Q645.383 1484.6 643.554 1488.16 Q641.749 1491.7 641.749 1498.83 Q641.749 1505.94 643.554 1509.5 Q645.383 1513.05 648.994 1513.05 Q652.628 1513.05 654.434 1509.5 Q656.263 1505.94 656.263 1498.83 Q656.263 1491.7 654.434 1488.16 Q652.628 1484.6 648.994 1484.6 M648.994 1480.89 Q654.804 1480.89 657.86 1485.5 Q660.939 1490.08 660.939 1498.83 Q660.939 1507.56 657.86 1512.17 Q654.804 1516.75 648.994 1516.75 Q643.184 1516.75 640.105 1512.17 Q637.05 1507.56 637.05 1498.83 Q637.05 1490.08 640.105 1485.5 Q643.184 1480.89 648.994 1480.89 Z\" fill=\"#000000\" fill-rule=\"evenodd\" fill-opacity=\"1\" /><path clip-path=\"url(#clip8400)\" d=\"M 0 0 M742.448 1482.65 L742.448 1487.21 Q739.786 1485.94 737.425 1485.32 Q735.064 1484.69 732.864 1484.69 Q729.045 1484.69 726.962 1486.17 Q724.902 1487.65 724.902 1490.38 Q724.902 1492.68 726.267 1493.86 Q727.656 1495.01 731.499 1495.73 L734.323 1496.31 Q739.554 1497.31 742.031 1499.83 Q744.531 1502.33 744.531 1506.54 Q744.531 1511.56 741.151 1514.16 Q737.795 1516.75 731.29 1516.75 Q728.837 1516.75 726.059 1516.19 Q723.304 1515.64 720.341 1514.55 L720.341 1509.74 Q723.189 1511.33 725.92 1512.14 Q728.652 1512.95 731.29 1512.95 Q735.295 1512.95 737.471 1511.38 Q739.647 1509.81 739.647 1506.89 Q739.647 1504.34 738.073 1502.91 Q736.522 1501.47 732.957 1500.75 L730.11 1500.2 Q724.878 1499.16 722.54 1496.94 Q720.203 1494.71 720.203 1490.75 Q720.203 1486.17 723.42 1483.53 Q726.661 1480.89 732.332 1480.89 Q734.763 1480.89 737.286 1481.33 Q739.809 1481.77 742.448 1482.65 Z\" fill=\"#000000\" fill-rule=\"evenodd\" fill-opacity=\"1\" /><path clip-path=\"url(#clip8400)\" d=\"M 0 0 M771.174 1502.05 L771.174 1504.13 L751.591 1504.13 Q751.869 1508.53 754.23 1510.85 Q756.614 1513.14 760.85 1513.14 Q763.304 1513.14 765.596 1512.54 Q767.911 1511.94 770.179 1510.73 L770.179 1514.76 Q767.887 1515.73 765.48 1516.24 Q763.073 1516.75 760.596 1516.75 Q754.392 1516.75 750.758 1513.14 Q747.147 1509.53 747.147 1503.37 Q747.147 1497 750.573 1493.28 Q754.022 1489.53 759.855 1489.53 Q765.087 1489.53 768.119 1492.91 Q771.174 1496.26 771.174 1502.05 M766.915 1500.8 Q766.869 1497.31 764.948 1495.22 Q763.05 1493.14 759.901 1493.14 Q756.337 1493.14 754.184 1495.15 Q752.054 1497.17 751.73 1500.82 L766.915 1500.8 Z\" fill=\"#000000\" fill-rule=\"evenodd\" fill-opacity=\"1\" /><path clip-path=\"url(#clip8400)\" d=\"M 0 0 M779.762 1512.19 L779.762 1525.94 L775.48 1525.94 L775.48 1490.15 L779.762 1490.15 L779.762 1494.09 Q781.105 1491.77 783.142 1490.66 Q785.202 1489.53 788.049 1489.53 Q792.772 1489.53 795.711 1493.28 Q798.674 1497.03 798.674 1503.14 Q798.674 1509.25 795.711 1513 Q792.772 1516.75 788.049 1516.75 Q785.202 1516.75 783.142 1515.64 Q781.105 1514.5 779.762 1512.19 M794.253 1503.14 Q794.253 1498.44 792.309 1495.78 Q790.387 1493.09 787.008 1493.09 Q783.628 1493.09 781.684 1495.78 Q779.762 1498.44 779.762 1503.14 Q779.762 1507.84 781.684 1510.52 Q783.628 1513.19 787.008 1513.19 Q790.387 1513.19 792.309 1510.52 Q794.253 1507.84 794.253 1503.14 Z\" fill=\"#000000\" fill-rule=\"evenodd\" fill-opacity=\"1\" /><path clip-path=\"url(#clip8400)\" d=\"M 0 0 M803.744 1510.2 L808.628 1510.2 L808.628 1516.08 L803.744 1516.08 L803.744 1510.2 Z\" fill=\"#000000\" fill-rule=\"evenodd\" fill-opacity=\"1\" /><path clip-path=\"url(#clip8400)\" d=\"M 0 0 M817.725 1512.14 L834.045 1512.14 L834.045 1516.08 L812.1 1516.08 L812.1 1512.14 Q814.762 1509.39 819.346 1504.76 Q823.952 1500.11 825.133 1498.76 Q827.378 1496.24 828.258 1494.5 Q829.16 1492.75 829.16 1491.06 Q829.16 1488.3 827.216 1486.57 Q825.295 1484.83 822.193 1484.83 Q819.994 1484.83 817.54 1485.59 Q815.109 1486.36 812.332 1487.91 L812.332 1483.19 Q815.156 1482.05 817.609 1481.47 Q820.063 1480.89 822.1 1480.89 Q827.47 1480.89 830.665 1483.58 Q833.859 1486.26 833.859 1490.75 Q833.859 1492.88 833.049 1494.81 Q832.262 1496.7 830.156 1499.3 Q829.577 1499.97 826.475 1503.19 Q823.373 1506.38 817.725 1512.14 Z\" fill=\"#000000\" fill-rule=\"evenodd\" fill-opacity=\"1\" /><path clip-path=\"url(#clip8400)\" d=\"M 0 0 M837.933 1481.52 L860.155 1481.52 L860.155 1483.51 L847.609 1516.08 L842.725 1516.08 L854.531 1485.45 L837.933 1485.45 L837.933 1481.52 Z\" fill=\"#000000\" fill-rule=\"evenodd\" fill-opacity=\"1\" /><path clip-path=\"url(#clip8400)\" d=\"M 0 0 M865.711 1510.2 L870.595 1510.2 L870.595 1514.18 L866.799 1521.59 L863.813 1521.59 L865.711 1514.18 L865.711 1510.2 Z\" fill=\"#000000\" fill-rule=\"evenodd\" fill-opacity=\"1\" /><path clip-path=\"url(#clip8400)\" d=\"M 0 0 M879.692 1512.14 L896.012 1512.14 L896.012 1516.08 L874.067 1516.08 L874.067 1512.14 Q876.729 1509.39 881.313 1504.76 Q885.919 1500.11 887.1 1498.76 Q889.345 1496.24 890.225 1494.5 Q891.128 1492.75 891.128 1491.06 Q891.128 1488.3 889.183 1486.57 Q887.262 1484.83 884.16 1484.83 Q881.961 1484.83 879.507 1485.59 Q877.077 1486.36 874.299 1487.91 L874.299 1483.19 Q877.123 1482.05 879.577 1481.47 Q882.03 1480.89 884.067 1480.89 Q889.438 1480.89 892.632 1483.58 Q895.827 1486.26 895.827 1490.75 Q895.827 1492.88 895.016 1494.81 Q894.229 1496.7 892.123 1499.3 Q891.544 1499.97 888.442 1503.19 Q885.341 1506.38 879.692 1512.14 Z\" fill=\"#000000\" fill-rule=\"evenodd\" fill-opacity=\"1\" /><path clip-path=\"url(#clip8400)\" d=\"M 0 0 M911.081 1484.6 Q907.47 1484.6 905.641 1488.16 Q903.836 1491.7 903.836 1498.83 Q903.836 1505.94 905.641 1509.5 Q907.47 1513.05 911.081 1513.05 Q914.715 1513.05 916.521 1509.5 Q918.35 1505.94 918.35 1498.83 Q918.35 1491.7 916.521 1488.16 Q914.715 1484.6 911.081 1484.6 M911.081 1480.89 Q916.891 1480.89 919.947 1485.5 Q923.026 1490.08 923.026 1498.83 Q923.026 1507.56 919.947 1512.17 Q916.891 1516.75 911.081 1516.75 Q905.271 1516.75 902.192 1512.17 Q899.137 1507.56 899.137 1498.83 Q899.137 1490.08 902.192 1485.5 Q905.271 1480.89 911.081 1480.89 Z\" fill=\"#000000\" fill-rule=\"evenodd\" fill-opacity=\"1\" /><path clip-path=\"url(#clip8400)\" d=\"M 0 0 M985.418 1484.69 Q980.325 1484.69 977.316 1488.49 Q974.33 1492.28 974.33 1498.83 Q974.33 1505.36 977.316 1509.16 Q980.325 1512.95 985.418 1512.95 Q990.51 1512.95 993.473 1509.16 Q996.459 1505.36 996.459 1498.83 Q996.459 1492.28 993.473 1488.49 Q990.51 1484.69 985.418 1484.69 M985.418 1480.89 Q992.686 1480.89 997.038 1485.78 Q1001.39 1490.64 1001.39 1498.83 Q1001.39 1507 997.038 1511.89 Q992.686 1516.75 985.418 1516.75 Q978.126 1516.75 973.751 1511.89 Q969.399 1507.03 969.399 1498.83 Q969.399 1490.64 973.751 1485.78 Q978.126 1480.89 985.418 1480.89 Z\" fill=\"#000000\" fill-rule=\"evenodd\" fill-opacity=\"1\" /><path clip-path=\"url(#clip8400)\" d=\"M 0 0 M1024.51 1491.15 L1024.51 1495.13 Q1022.71 1494.13 1020.88 1493.65 Q1019.07 1493.14 1017.22 1493.14 Q1013.08 1493.14 1010.79 1495.78 Q1008.5 1498.39 1008.5 1503.14 Q1008.5 1507.88 1010.79 1510.52 Q1013.08 1513.14 1017.22 1513.14 Q1019.07 1513.14 1020.88 1512.65 Q1022.71 1512.14 1024.51 1511.15 L1024.51 1515.08 Q1022.73 1515.92 1020.81 1516.33 Q1018.91 1516.75 1016.76 1516.75 Q1010.9 1516.75 1007.45 1513.07 Q1004.01 1509.39 1004.01 1503.14 Q1004.01 1496.8 1007.48 1493.16 Q1010.97 1489.53 1017.04 1489.53 Q1019.01 1489.53 1020.88 1489.94 Q1022.76 1490.34 1024.51 1491.15 Z\" fill=\"#000000\" fill-rule=\"evenodd\" fill-opacity=\"1\" /><path clip-path=\"url(#clip8400)\" d=\"M 0 0 M1033.2 1482.79 L1033.2 1490.15 L1041.97 1490.15 L1041.97 1493.46 L1033.2 1493.46 L1033.2 1507.54 Q1033.2 1510.71 1034.05 1511.61 Q1034.93 1512.51 1037.59 1512.51 L1041.97 1512.51 L1041.97 1516.08 L1037.59 1516.08 Q1032.66 1516.08 1030.79 1514.25 Q1028.91 1512.4 1028.91 1507.54 L1028.91 1493.46 L1025.79 1493.46 L1025.79 1490.15 L1028.91 1490.15 L1028.91 1482.79 L1033.2 1482.79 Z\" fill=\"#000000\" fill-rule=\"evenodd\" fill-opacity=\"1\" /><path clip-path=\"url(#clip8400)\" d=\"M 0 0 M1047.04 1510.2 L1051.92 1510.2 L1051.92 1516.08 L1047.04 1516.08 L1047.04 1510.2 Z\" fill=\"#000000\" fill-rule=\"evenodd\" fill-opacity=\"1\" /><path clip-path=\"url(#clip8400)\" d=\"M 0 0 M1057.04 1481.52 L1075.39 1481.52 L1075.39 1485.45 L1061.32 1485.45 L1061.32 1493.93 Q1062.34 1493.58 1063.36 1493.42 Q1064.38 1493.23 1065.39 1493.23 Q1071.18 1493.23 1074.56 1496.4 Q1077.94 1499.57 1077.94 1504.99 Q1077.94 1510.57 1074.47 1513.67 Q1071 1516.75 1064.68 1516.75 Q1062.5 1516.75 1060.23 1516.38 Q1057.99 1516.01 1055.58 1515.27 L1055.58 1510.57 Q1057.66 1511.7 1059.88 1512.26 Q1062.11 1512.81 1064.58 1512.81 Q1068.59 1512.81 1070.93 1510.71 Q1073.26 1508.6 1073.26 1504.99 Q1073.26 1501.38 1070.93 1499.27 Q1068.59 1497.17 1064.58 1497.17 Q1062.71 1497.17 1060.83 1497.58 Q1058.98 1498 1057.04 1498.88 L1057.04 1481.52 Z\" fill=\"#000000\" fill-rule=\"evenodd\" fill-opacity=\"1\" /><path clip-path=\"url(#clip8400)\" d=\"M 0 0 M1083.5 1510.2 L1088.38 1510.2 L1088.38 1514.18 L1084.58 1521.59 L1081.6 1521.59 L1083.5 1514.18 L1083.5 1510.2 Z\" fill=\"#000000\" fill-rule=\"evenodd\" fill-opacity=\"1\" /><path clip-path=\"url(#clip8400)\" d=\"M 0 0 M1097.48 1512.14 L1113.8 1512.14 L1113.8 1516.08 L1091.85 1516.08 L1091.85 1512.14 Q1094.51 1509.39 1099.1 1504.76 Q1103.7 1500.11 1104.88 1498.76 Q1107.13 1496.24 1108.01 1494.5 Q1108.91 1492.75 1108.91 1491.06 Q1108.91 1488.3 1106.97 1486.57 Q1105.05 1484.83 1101.94 1484.83 Q1099.75 1484.83 1097.29 1485.59 Q1094.86 1486.36 1092.08 1487.91 L1092.08 1483.19 Q1094.91 1482.05 1097.36 1481.47 Q1099.82 1480.89 1101.85 1480.89 Q1107.22 1480.89 1110.42 1483.58 Q1113.61 1486.26 1113.61 1490.75 Q1113.61 1492.88 1112.8 1494.81 Q1112.01 1496.7 1109.91 1499.3 Q1109.33 1499.97 1106.23 1503.19 Q1103.13 1506.38 1097.48 1512.14 Z\" fill=\"#000000\" fill-rule=\"evenodd\" fill-opacity=\"1\" /><path clip-path=\"url(#clip8400)\" d=\"M 0 0 M1128.87 1484.6 Q1125.25 1484.6 1123.43 1488.16 Q1121.62 1491.7 1121.62 1498.83 Q1121.62 1505.94 1123.43 1509.5 Q1125.25 1513.05 1128.87 1513.05 Q1132.5 1513.05 1134.31 1509.5 Q1136.13 1505.94 1136.13 1498.83 Q1136.13 1491.7 1134.31 1488.16 Q1132.5 1484.6 1128.87 1484.6 M1128.87 1480.89 Q1134.68 1480.89 1137.73 1485.5 Q1140.81 1490.08 1140.81 1498.83 Q1140.81 1507.56 1137.73 1512.17 Q1134.68 1516.75 1128.87 1516.75 Q1123.06 1516.75 1119.98 1512.17 Q1116.92 1507.56 1116.92 1498.83 Q1116.92 1490.08 1119.98 1485.5 Q1123.06 1480.89 1128.87 1480.89 Z\" fill=\"#000000\" fill-rule=\"evenodd\" fill-opacity=\"1\" /><path clip-path=\"url(#clip8400)\" d=\"M 0 0 M1234.46 1484.69 Q1229.37 1484.69 1226.36 1488.49 Q1223.37 1492.28 1223.37 1498.83 Q1223.37 1505.36 1226.36 1509.16 Q1229.37 1512.95 1234.46 1512.95 Q1239.55 1512.95 1242.52 1509.16 Q1245.5 1505.36 1245.5 1498.83 Q1245.5 1492.28 1242.52 1488.49 Q1239.55 1484.69 1234.46 1484.69 M1234.46 1480.89 Q1241.73 1480.89 1246.08 1485.78 Q1250.43 1490.64 1250.43 1498.83 Q1250.43 1507 1246.08 1511.89 Q1241.73 1516.75 1234.46 1516.75 Q1227.17 1516.75 1222.79 1511.89 Q1218.44 1507.03 1218.44 1498.83 Q1218.44 1490.64 1222.79 1485.78 Q1227.17 1480.89 1234.46 1480.89 Z\" fill=\"#000000\" fill-rule=\"evenodd\" fill-opacity=\"1\" /><path clip-path=\"url(#clip8400)\" d=\"M 0 0 M1273.56 1491.15 L1273.56 1495.13 Q1271.75 1494.13 1269.92 1493.65 Q1268.12 1493.14 1266.27 1493.14 Q1262.12 1493.14 1259.83 1495.78 Q1257.54 1498.39 1257.54 1503.14 Q1257.54 1507.88 1259.83 1510.52 Q1262.12 1513.14 1266.27 1513.14 Q1268.12 1513.14 1269.92 1512.65 Q1271.75 1512.14 1273.56 1511.15 L1273.56 1515.08 Q1271.78 1515.92 1269.85 1516.33 Q1267.96 1516.75 1265.8 1516.75 Q1259.95 1516.75 1256.5 1513.07 Q1253.05 1509.39 1253.05 1503.14 Q1253.05 1496.8 1256.52 1493.16 Q1260.02 1489.53 1266.08 1489.53 Q1268.05 1489.53 1269.92 1489.94 Q1271.8 1490.34 1273.56 1491.15 Z\" fill=\"#000000\" fill-rule=\"evenodd\" fill-opacity=\"1\" /><path clip-path=\"url(#clip8400)\" d=\"M 0 0 M1282.24 1482.79 L1282.24 1490.15 L1291.01 1490.15 L1291.01 1493.46 L1282.24 1493.46 L1282.24 1507.54 Q1282.24 1510.71 1283.09 1511.61 Q1283.97 1512.51 1286.64 1512.51 L1291.01 1512.51 L1291.01 1516.08 L1286.64 1516.08 Q1281.71 1516.08 1279.83 1514.25 Q1277.96 1512.4 1277.96 1507.54 L1277.96 1493.46 L1274.83 1493.46 L1274.83 1490.15 L1277.96 1490.15 L1277.96 1482.79 L1282.24 1482.79 Z\" fill=\"#000000\" fill-rule=\"evenodd\" fill-opacity=\"1\" /><path clip-path=\"url(#clip8400)\" d=\"M 0 0 M1296.08 1510.2 L1300.97 1510.2 L1300.97 1516.08 L1296.08 1516.08 L1296.08 1510.2 Z\" fill=\"#000000\" fill-rule=\"evenodd\" fill-opacity=\"1\" /><path clip-path=\"url(#clip8400)\" d=\"M 0 0 M1306.84 1512.14 L1314.48 1512.14 L1314.48 1485.78 L1306.17 1487.44 L1306.17 1483.19 L1314.44 1481.52 L1319.11 1481.52 L1319.11 1512.14 L1326.75 1512.14 L1326.75 1516.08 L1306.84 1516.08 L1306.84 1512.14 Z\" fill=\"#000000\" fill-rule=\"evenodd\" fill-opacity=\"1\" /><path clip-path=\"url(#clip8400)\" d=\"M 0 0 M1344.67 1485.59 L1332.86 1504.04 L1344.67 1504.04 L1344.67 1485.59 M1343.44 1481.52 L1349.32 1481.52 L1349.32 1504.04 L1354.25 1504.04 L1354.25 1507.93 L1349.32 1507.93 L1349.32 1516.08 L1344.67 1516.08 L1344.67 1507.93 L1329.07 1507.93 L1329.07 1503.42 L1343.44 1481.52 Z\" fill=\"#000000\" fill-rule=\"evenodd\" fill-opacity=\"1\" /><path clip-path=\"url(#clip8400)\" d=\"M 0 0 M1359.81 1510.2 L1364.69 1510.2 L1364.69 1514.18 L1360.9 1521.59 L1357.91 1521.59 L1359.81 1514.18 L1359.81 1510.2 Z\" fill=\"#000000\" fill-rule=\"evenodd\" fill-opacity=\"1\" /><path clip-path=\"url(#clip8400)\" d=\"M 0 0 M1373.79 1512.14 L1390.11 1512.14 L1390.11 1516.08 L1368.16 1516.08 L1368.16 1512.14 Q1370.83 1509.39 1375.41 1504.76 Q1380.02 1500.11 1381.2 1498.76 Q1383.44 1496.24 1384.32 1494.5 Q1385.22 1492.75 1385.22 1491.06 Q1385.22 1488.3 1383.28 1486.57 Q1381.36 1484.83 1378.26 1484.83 Q1376.06 1484.83 1373.6 1485.59 Q1371.17 1486.36 1368.4 1487.91 L1368.4 1483.19 Q1371.22 1482.05 1373.67 1481.47 Q1376.13 1480.89 1378.16 1480.89 Q1383.53 1480.89 1386.73 1483.58 Q1389.92 1486.26 1389.92 1490.75 Q1389.92 1492.88 1389.11 1494.81 Q1388.33 1496.7 1386.22 1499.3 Q1385.64 1499.97 1382.54 1503.19 Q1379.44 1506.38 1373.79 1512.14 Z\" fill=\"#000000\" fill-rule=\"evenodd\" fill-opacity=\"1\" /><path clip-path=\"url(#clip8400)\" d=\"M 0 0 M1405.18 1484.6 Q1401.57 1484.6 1399.74 1488.16 Q1397.93 1491.7 1397.93 1498.83 Q1397.93 1505.94 1399.74 1509.5 Q1401.57 1513.05 1405.18 1513.05 Q1408.81 1513.05 1410.62 1509.5 Q1412.45 1505.94 1412.45 1498.83 Q1412.45 1491.7 1410.62 1488.16 Q1408.81 1484.6 1405.18 1484.6 M1405.18 1480.89 Q1410.99 1480.89 1414.04 1485.5 Q1417.12 1490.08 1417.12 1498.83 Q1417.12 1507.56 1414.04 1512.17 Q1410.99 1516.75 1405.18 1516.75 Q1399.37 1516.75 1396.29 1512.17 Q1393.23 1507.56 1393.23 1498.83 Q1393.23 1490.08 1396.29 1485.5 Q1399.37 1480.89 1405.18 1480.89 Z\" fill=\"#000000\" fill-rule=\"evenodd\" fill-opacity=\"1\" /><path clip-path=\"url(#clip8400)\" d=\"M 0 0 M1469.18 1484.69 Q1464.09 1484.69 1461.08 1488.49 Q1458.09 1492.28 1458.09 1498.83 Q1458.09 1505.36 1461.08 1509.16 Q1464.09 1512.95 1469.18 1512.95 Q1474.27 1512.95 1477.23 1509.16 Q1480.22 1505.36 1480.22 1498.83 Q1480.22 1492.28 1477.23 1488.49 Q1474.27 1484.69 1469.18 1484.69 M1469.18 1480.89 Q1476.45 1480.89 1480.8 1485.78 Q1485.15 1490.64 1485.15 1498.83 Q1485.15 1507 1480.8 1511.89 Q1476.45 1516.75 1469.18 1516.75 Q1461.89 1516.75 1457.51 1511.89 Q1453.16 1507.03 1453.16 1498.83 Q1453.16 1490.64 1457.51 1485.78 Q1461.89 1480.89 1469.18 1480.89 Z\" fill=\"#000000\" fill-rule=\"evenodd\" fill-opacity=\"1\" /><path clip-path=\"url(#clip8400)\" d=\"M 0 0 M1508.28 1491.15 L1508.28 1495.13 Q1506.47 1494.13 1504.64 1493.65 Q1502.84 1493.14 1500.98 1493.14 Q1496.84 1493.14 1494.55 1495.78 Q1492.26 1498.39 1492.26 1503.14 Q1492.26 1507.88 1494.55 1510.52 Q1496.84 1513.14 1500.98 1513.14 Q1502.84 1513.14 1504.64 1512.65 Q1506.47 1512.14 1508.28 1511.15 L1508.28 1515.08 Q1506.49 1515.92 1504.57 1516.33 Q1502.67 1516.75 1500.52 1516.75 Q1494.66 1516.75 1491.22 1513.07 Q1487.77 1509.39 1487.77 1503.14 Q1487.77 1496.8 1491.24 1493.16 Q1494.73 1489.53 1500.8 1489.53 Q1502.77 1489.53 1504.64 1489.94 Q1506.52 1490.34 1508.28 1491.15 Z\" fill=\"#000000\" fill-rule=\"evenodd\" fill-opacity=\"1\" /><path clip-path=\"url(#clip8400)\" d=\"M 0 0 M1516.96 1482.79 L1516.96 1490.15 L1525.73 1490.15 L1525.73 1493.46 L1516.96 1493.46 L1516.96 1507.54 Q1516.96 1510.71 1517.81 1511.61 Q1518.69 1512.51 1521.35 1512.51 L1525.73 1512.51 L1525.73 1516.08 L1521.35 1516.08 Q1516.42 1516.08 1514.55 1514.25 Q1512.67 1512.4 1512.67 1507.54 L1512.67 1493.46 L1509.55 1493.46 L1509.55 1490.15 L1512.67 1490.15 L1512.67 1482.79 L1516.96 1482.79 Z\" fill=\"#000000\" fill-rule=\"evenodd\" fill-opacity=\"1\" /><path clip-path=\"url(#clip8400)\" d=\"M 0 0 M1530.8 1510.2 L1535.68 1510.2 L1535.68 1516.08 L1530.8 1516.08 L1530.8 1510.2 Z\" fill=\"#000000\" fill-rule=\"evenodd\" fill-opacity=\"1\" /><path clip-path=\"url(#clip8400)\" d=\"M 0 0 M1544.78 1512.14 L1561.1 1512.14 L1561.1 1516.08 L1539.15 1516.08 L1539.15 1512.14 Q1541.82 1509.39 1546.4 1504.76 Q1551.01 1500.11 1552.19 1498.76 Q1554.43 1496.24 1555.31 1494.5 Q1556.22 1492.75 1556.22 1491.06 Q1556.22 1488.3 1554.27 1486.57 Q1552.35 1484.83 1549.25 1484.83 Q1547.05 1484.83 1544.59 1485.59 Q1542.16 1486.36 1539.39 1487.91 L1539.39 1483.19 Q1542.21 1482.05 1544.66 1481.47 Q1547.12 1480.89 1549.15 1480.89 Q1554.53 1480.89 1557.72 1483.58 Q1560.91 1486.26 1560.91 1490.75 Q1560.91 1492.88 1560.1 1494.81 Q1559.32 1496.7 1557.21 1499.3 Q1556.63 1499.97 1553.53 1503.19 Q1550.43 1506.38 1544.78 1512.14 Z\" fill=\"#000000\" fill-rule=\"evenodd\" fill-opacity=\"1\" /><path clip-path=\"url(#clip8400)\" d=\"M 0 0 M1570.2 1512.14 L1586.52 1512.14 L1586.52 1516.08 L1564.57 1516.08 L1564.57 1512.14 Q1567.23 1509.39 1571.82 1504.76 Q1576.42 1500.11 1577.6 1498.76 Q1579.85 1496.24 1580.73 1494.5 Q1581.63 1492.75 1581.63 1491.06 Q1581.63 1488.3 1579.69 1486.57 Q1577.77 1484.83 1574.66 1484.83 Q1572.46 1484.83 1570.01 1485.59 Q1567.58 1486.36 1564.8 1487.91 L1564.8 1483.19 Q1567.63 1482.05 1570.08 1481.47 Q1572.53 1480.89 1574.57 1480.89 Q1579.94 1480.89 1583.14 1483.58 Q1586.33 1486.26 1586.33 1490.75 Q1586.33 1492.88 1585.52 1494.81 Q1584.73 1496.7 1582.63 1499.3 Q1582.05 1499.97 1578.95 1503.19 Q1575.84 1506.38 1570.2 1512.14 Z\" fill=\"#000000\" fill-rule=\"evenodd\" fill-opacity=\"1\" /><path clip-path=\"url(#clip8400)\" d=\"M 0 0 M1592.07 1510.2 L1596.96 1510.2 L1596.96 1514.18 L1593.16 1521.59 L1590.17 1521.59 L1592.07 1514.18 L1592.07 1510.2 Z\" fill=\"#000000\" fill-rule=\"evenodd\" fill-opacity=\"1\" /><path clip-path=\"url(#clip8400)\" d=\"M 0 0 M1606.05 1512.14 L1622.37 1512.14 L1622.37 1516.08 L1600.43 1516.08 L1600.43 1512.14 Q1603.09 1509.39 1607.67 1504.76 Q1612.28 1500.11 1613.46 1498.76 Q1615.71 1496.24 1616.59 1494.5 Q1617.49 1492.75 1617.49 1491.06 Q1617.49 1488.3 1615.54 1486.57 Q1613.62 1484.83 1610.52 1484.83 Q1608.32 1484.83 1605.87 1485.59 Q1603.44 1486.36 1600.66 1487.91 L1600.66 1483.19 Q1603.48 1482.05 1605.94 1481.47 Q1608.39 1480.89 1610.43 1480.89 Q1615.8 1480.89 1618.99 1483.58 Q1622.19 1486.26 1622.19 1490.75 Q1622.19 1492.88 1621.38 1494.81 Q1620.59 1496.7 1618.48 1499.3 Q1617.9 1499.97 1614.8 1503.19 Q1611.7 1506.38 1606.05 1512.14 Z\" fill=\"#000000\" fill-rule=\"evenodd\" fill-opacity=\"1\" /><path clip-path=\"url(#clip8400)\" d=\"M 0 0 M1637.44 1484.6 Q1633.83 1484.6 1632 1488.16 Q1630.2 1491.7 1630.2 1498.83 Q1630.2 1505.94 1632 1509.5 Q1633.83 1513.05 1637.44 1513.05 Q1641.08 1513.05 1642.88 1509.5 Q1644.71 1505.94 1644.71 1498.83 Q1644.71 1491.7 1642.88 1488.16 Q1641.08 1484.6 1637.44 1484.6 M1637.44 1480.89 Q1643.25 1480.89 1646.31 1485.5 Q1649.39 1490.08 1649.39 1498.83 Q1649.39 1507.56 1646.31 1512.17 Q1643.25 1516.75 1637.44 1516.75 Q1631.63 1516.75 1628.55 1512.17 Q1625.5 1507.56 1625.5 1498.83 Q1625.5 1490.08 1628.55 1485.5 Q1631.63 1480.89 1637.44 1480.89 Z\" fill=\"#000000\" fill-rule=\"evenodd\" fill-opacity=\"1\" /><path clip-path=\"url(#clip8400)\" d=\"M 0 0 M1731.2 1484.69 Q1726.1 1484.69 1723.09 1488.49 Q1720.11 1492.28 1720.11 1498.83 Q1720.11 1505.36 1723.09 1509.16 Q1726.1 1512.95 1731.2 1512.95 Q1736.29 1512.95 1739.25 1509.16 Q1742.24 1505.36 1742.24 1498.83 Q1742.24 1492.28 1739.25 1488.49 Q1736.29 1484.69 1731.2 1484.69 M1731.2 1480.89 Q1738.46 1480.89 1742.82 1485.78 Q1747.17 1490.64 1747.17 1498.83 Q1747.17 1507 1742.82 1511.89 Q1738.46 1516.75 1731.2 1516.75 Q1723.9 1516.75 1719.53 1511.89 Q1715.18 1507.03 1715.18 1498.83 Q1715.18 1490.64 1719.53 1485.78 Q1723.9 1480.89 1731.2 1480.89 Z\" fill=\"#000000\" fill-rule=\"evenodd\" fill-opacity=\"1\" /><path clip-path=\"url(#clip8400)\" d=\"M 0 0 M1770.29 1491.15 L1770.29 1495.13 Q1768.49 1494.13 1766.66 1493.65 Q1764.85 1493.14 1763 1493.14 Q1758.86 1493.14 1756.57 1495.78 Q1754.27 1498.39 1754.27 1503.14 Q1754.27 1507.88 1756.57 1510.52 Q1758.86 1513.14 1763 1513.14 Q1764.85 1513.14 1766.66 1512.65 Q1768.49 1512.14 1770.29 1511.15 L1770.29 1515.08 Q1768.51 1515.92 1766.59 1516.33 Q1764.69 1516.75 1762.54 1516.75 Q1756.68 1516.75 1753.23 1513.07 Q1749.78 1509.39 1749.78 1503.14 Q1749.78 1496.8 1753.26 1493.16 Q1756.75 1489.53 1762.82 1489.53 Q1764.78 1489.53 1766.66 1489.94 Q1768.53 1490.34 1770.29 1491.15 Z\" fill=\"#000000\" fill-rule=\"evenodd\" fill-opacity=\"1\" /><path clip-path=\"url(#clip8400)\" d=\"M 0 0 M1778.97 1482.79 L1778.97 1490.15 L1787.75 1490.15 L1787.75 1493.46 L1778.97 1493.46 L1778.97 1507.54 Q1778.97 1510.71 1779.83 1511.61 Q1780.71 1512.51 1783.37 1512.51 L1787.75 1512.51 L1787.75 1516.08 L1783.37 1516.08 Q1778.44 1516.08 1776.57 1514.25 Q1774.69 1512.4 1774.69 1507.54 L1774.69 1493.46 L1771.57 1493.46 L1771.57 1490.15 L1774.69 1490.15 L1774.69 1482.79 L1778.97 1482.79 Z\" fill=\"#000000\" fill-rule=\"evenodd\" fill-opacity=\"1\" /><path clip-path=\"url(#clip8400)\" d=\"M 0 0 M1792.82 1510.2 L1797.7 1510.2 L1797.7 1516.08 L1792.82 1516.08 L1792.82 1510.2 Z\" fill=\"#000000\" fill-rule=\"evenodd\" fill-opacity=\"1\" /><path clip-path=\"url(#clip8400)\" d=\"M 0 0 M1816.94 1497.44 Q1820.29 1498.16 1822.17 1500.43 Q1824.07 1502.7 1824.07 1506.03 Q1824.07 1511.15 1820.55 1513.95 Q1817.03 1516.75 1810.55 1516.75 Q1808.37 1516.75 1806.06 1516.31 Q1803.77 1515.89 1801.31 1515.04 L1801.31 1510.52 Q1803.26 1511.66 1805.57 1512.24 Q1807.89 1512.81 1810.41 1512.81 Q1814.81 1512.81 1817.1 1511.08 Q1819.41 1509.34 1819.41 1506.03 Q1819.41 1502.98 1817.26 1501.26 Q1815.13 1499.53 1811.31 1499.53 L1807.28 1499.53 L1807.28 1495.69 L1811.5 1495.69 Q1814.95 1495.69 1816.77 1494.32 Q1818.6 1492.93 1818.6 1490.34 Q1818.6 1487.68 1816.7 1486.26 Q1814.83 1484.83 1811.31 1484.83 Q1809.39 1484.83 1807.19 1485.25 Q1804.99 1485.66 1802.35 1486.54 L1802.35 1482.38 Q1805.02 1481.63 1807.33 1481.26 Q1809.67 1480.89 1811.73 1480.89 Q1817.05 1480.89 1820.15 1483.32 Q1823.26 1485.73 1823.26 1489.85 Q1823.26 1492.72 1821.61 1494.71 Q1819.97 1496.68 1816.94 1497.44 Z\" fill=\"#000000\" fill-rule=\"evenodd\" fill-opacity=\"1\" /><path clip-path=\"url(#clip8400)\" d=\"M 0 0 M1829.95 1512.14 L1837.58 1512.14 L1837.58 1485.78 L1829.27 1487.44 L1829.27 1483.19 L1837.54 1481.52 L1842.21 1481.52 L1842.21 1512.14 L1849.85 1512.14 L1849.85 1516.08 L1829.95 1516.08 L1829.95 1512.14 Z\" fill=\"#000000\" fill-rule=\"evenodd\" fill-opacity=\"1\" /><path clip-path=\"url(#clip8400)\" d=\"M 0 0 M1855.41 1510.2 L1860.29 1510.2 L1860.29 1514.18 L1856.5 1521.59 L1853.51 1521.59 L1855.41 1514.18 L1855.41 1510.2 Z\" fill=\"#000000\" fill-rule=\"evenodd\" fill-opacity=\"1\" /><path clip-path=\"url(#clip8400)\" d=\"M 0 0 M1869.39 1512.14 L1885.71 1512.14 L1885.71 1516.08 L1863.76 1516.08 L1863.76 1512.14 Q1866.43 1509.39 1871.01 1504.76 Q1875.62 1500.11 1876.8 1498.76 Q1879.04 1496.24 1879.92 1494.5 Q1880.82 1492.75 1880.82 1491.06 Q1880.82 1488.3 1878.88 1486.57 Q1876.96 1484.83 1873.86 1484.83 Q1871.66 1484.83 1869.2 1485.59 Q1866.77 1486.36 1864 1487.91 L1864 1483.19 Q1866.82 1482.05 1869.27 1481.47 Q1871.73 1480.89 1873.76 1480.89 Q1879.14 1480.89 1882.33 1483.58 Q1885.52 1486.26 1885.52 1490.75 Q1885.52 1492.88 1884.71 1494.81 Q1883.93 1496.7 1881.82 1499.3 Q1881.24 1499.97 1878.14 1503.19 Q1875.04 1506.38 1869.39 1512.14 Z\" fill=\"#000000\" fill-rule=\"evenodd\" fill-opacity=\"1\" /><path clip-path=\"url(#clip8400)\" d=\"M 0 0 M1900.78 1484.6 Q1897.17 1484.6 1895.34 1488.16 Q1893.53 1491.7 1893.53 1498.83 Q1893.53 1505.94 1895.34 1509.5 Q1897.17 1513.05 1900.78 1513.05 Q1904.41 1513.05 1906.22 1509.5 Q1908.05 1505.94 1908.05 1498.83 Q1908.05 1491.7 1906.22 1488.16 Q1904.41 1484.6 1900.78 1484.6 M1900.78 1480.89 Q1906.59 1480.89 1909.64 1485.5 Q1912.72 1490.08 1912.72 1498.83 Q1912.72 1507.56 1909.64 1512.17 Q1906.59 1516.75 1900.78 1516.75 Q1894.97 1516.75 1891.89 1512.17 Q1888.83 1507.56 1888.83 1498.83 Q1888.83 1490.08 1891.89 1485.5 Q1894.97 1480.89 1900.78 1480.89 Z\" fill=\"#000000\" fill-rule=\"evenodd\" fill-opacity=\"1\" /><path clip-path=\"url(#clip8400)\" d=\"M 0 0 M1959.8 1481.52 L1966.1 1481.52 L1981.42 1510.43 L1981.42 1481.52 L1985.96 1481.52 L1985.96 1516.08 L1979.66 1516.08 L1964.34 1487.17 L1964.34 1516.08 L1959.8 1516.08 L1959.8 1481.52 Z\" fill=\"#000000\" fill-rule=\"evenodd\" fill-opacity=\"1\" /><path clip-path=\"url(#clip8400)\" d=\"M 0 0 M2000.47 1493.14 Q1997.05 1493.14 1995.06 1495.82 Q1993.07 1498.49 1993.07 1503.14 Q1993.07 1507.79 1995.03 1510.48 Q1997.02 1513.14 2000.47 1513.14 Q2003.88 1513.14 2005.87 1510.45 Q2007.86 1507.77 2007.86 1503.14 Q2007.86 1498.53 2005.87 1495.85 Q2003.88 1493.14 2000.47 1493.14 M2000.47 1489.53 Q2006.03 1489.53 2009.2 1493.14 Q2012.37 1496.75 2012.37 1503.14 Q2012.37 1509.5 2009.2 1513.14 Q2006.03 1516.75 2000.47 1516.75 Q1994.9 1516.75 1991.72 1513.14 Q1988.58 1509.5 1988.58 1503.14 Q1988.58 1496.75 1991.72 1493.14 Q1994.9 1489.53 2000.47 1489.53 Z\" fill=\"#000000\" fill-rule=\"evenodd\" fill-opacity=\"1\" /><path clip-path=\"url(#clip8400)\" d=\"M 0 0 M2013.78 1490.15 L2018.3 1490.15 L2026.4 1511.91 L2034.5 1490.15 L2039.02 1490.15 L2029.29 1516.08 L2023.51 1516.08 L2013.78 1490.15 Z\" fill=\"#000000\" fill-rule=\"evenodd\" fill-opacity=\"1\" /><path clip-path=\"url(#clip8400)\" d=\"M 0 0 M2040.4 1510.2 L2045.29 1510.2 L2045.29 1516.08 L2040.4 1516.08 L2040.4 1510.2 Z\" fill=\"#000000\" fill-rule=\"evenodd\" fill-opacity=\"1\" /><path clip-path=\"url(#clip8400)\" d=\"M 0 0 M2060.36 1499.67 Q2057.02 1499.67 2055.1 1501.45 Q2053.2 1503.23 2053.2 1506.36 Q2053.2 1509.48 2055.1 1511.26 Q2057.02 1513.05 2060.36 1513.05 Q2063.69 1513.05 2065.61 1511.26 Q2067.53 1509.46 2067.53 1506.36 Q2067.53 1503.23 2065.61 1501.45 Q2063.71 1499.67 2060.36 1499.67 M2055.68 1497.68 Q2052.67 1496.94 2050.98 1494.88 Q2049.32 1492.82 2049.32 1489.85 Q2049.32 1485.71 2052.26 1483.3 Q2055.22 1480.89 2060.36 1480.89 Q2065.52 1480.89 2068.46 1483.3 Q2071.4 1485.71 2071.4 1489.85 Q2071.4 1492.82 2069.71 1494.88 Q2068.04 1496.94 2065.06 1497.68 Q2068.44 1498.46 2070.31 1500.75 Q2072.21 1503.05 2072.21 1506.36 Q2072.21 1511.38 2069.13 1514.06 Q2066.08 1516.75 2060.36 1516.75 Q2054.64 1516.75 2051.56 1514.06 Q2048.51 1511.38 2048.51 1506.36 Q2048.51 1503.05 2050.4 1500.75 Q2052.3 1498.46 2055.68 1497.68 M2053.97 1490.29 Q2053.97 1492.98 2055.64 1494.48 Q2057.33 1495.99 2060.36 1495.99 Q2063.37 1495.99 2065.06 1494.48 Q2066.77 1492.98 2066.77 1490.29 Q2066.77 1487.61 2065.06 1486.1 Q2063.37 1484.6 2060.36 1484.6 Q2057.33 1484.6 2055.64 1486.1 Q2053.97 1487.61 2053.97 1490.29 Z\" fill=\"#000000\" fill-rule=\"evenodd\" fill-opacity=\"1\" /><path clip-path=\"url(#clip8400)\" d=\"M 0 0 M2077.76 1510.2 L2082.65 1510.2 L2082.65 1514.18 L2078.85 1521.59 L2075.87 1521.59 L2077.76 1514.18 L2077.76 1510.2 Z\" fill=\"#000000\" fill-rule=\"evenodd\" fill-opacity=\"1\" /><path clip-path=\"url(#clip8400)\" d=\"M 0 0 M2091.75 1512.14 L2108.07 1512.14 L2108.07 1516.08 L2086.12 1516.08 L2086.12 1512.14 Q2088.78 1509.39 2093.37 1504.76 Q2097.97 1500.11 2099.15 1498.76 Q2101.4 1496.24 2102.28 1494.5 Q2103.18 1492.75 2103.18 1491.06 Q2103.18 1488.3 2101.24 1486.57 Q2099.32 1484.83 2096.21 1484.83 Q2094.01 1484.83 2091.56 1485.59 Q2089.13 1486.36 2086.35 1487.91 L2086.35 1483.19 Q2089.18 1482.05 2091.63 1481.47 Q2094.08 1480.89 2096.12 1480.89 Q2101.49 1480.89 2104.69 1483.58 Q2107.88 1486.26 2107.88 1490.75 Q2107.88 1492.88 2107.07 1494.81 Q2106.28 1496.7 2104.18 1499.3 Q2103.6 1499.97 2100.5 1503.19 Q2097.39 1506.38 2091.75 1512.14 Z\" fill=\"#000000\" fill-rule=\"evenodd\" fill-opacity=\"1\" /><path clip-path=\"url(#clip8400)\" d=\"M 0 0 M2123.14 1484.6 Q2119.52 1484.6 2117.7 1488.16 Q2115.89 1491.7 2115.89 1498.83 Q2115.89 1505.94 2117.7 1509.5 Q2119.52 1513.05 2123.14 1513.05 Q2126.77 1513.05 2128.57 1509.5 Q2130.4 1505.94 2130.4 1498.83 Q2130.4 1491.7 2128.57 1488.16 Q2126.77 1484.6 2123.14 1484.6 M2123.14 1480.89 Q2128.95 1480.89 2132 1485.5 Q2135.08 1490.08 2135.08 1498.83 Q2135.08 1507.56 2132 1512.17 Q2128.95 1516.75 2123.14 1516.75 Q2117.32 1516.75 2114.25 1512.17 Q2111.19 1507.56 2111.19 1498.83 Q2111.19 1490.08 2114.25 1485.5 Q2117.32 1480.89 2123.14 1480.89 Z\" fill=\"#000000\" fill-rule=\"evenodd\" fill-opacity=\"1\" /><path clip-path=\"url(#clip8400)\" d=\"M 0 0 M2180.27 1481.52 L2186.57 1481.52 L2201.89 1510.43 L2201.89 1481.52 L2206.43 1481.52 L2206.43 1516.08 L2200.13 1516.08 L2184.81 1487.17 L2184.81 1516.08 L2180.27 1516.08 L2180.27 1481.52 Z\" fill=\"#000000\" fill-rule=\"evenodd\" fill-opacity=\"1\" /><path clip-path=\"url(#clip8400)\" d=\"M 0 0 M2220.94 1493.14 Q2217.52 1493.14 2215.53 1495.82 Q2213.54 1498.49 2213.54 1503.14 Q2213.54 1507.79 2215.5 1510.48 Q2217.49 1513.14 2220.94 1513.14 Q2224.35 1513.14 2226.34 1510.45 Q2228.33 1507.77 2228.33 1503.14 Q2228.33 1498.53 2226.34 1495.85 Q2224.35 1493.14 2220.94 1493.14 M2220.94 1489.53 Q2226.5 1489.53 2229.67 1493.14 Q2232.84 1496.75 2232.84 1503.14 Q2232.84 1509.5 2229.67 1513.14 Q2226.5 1516.75 2220.94 1516.75 Q2215.37 1516.75 2212.19 1513.14 Q2209.05 1509.5 2209.05 1503.14 Q2209.05 1496.75 2212.19 1493.14 Q2215.37 1489.53 2220.94 1489.53 Z\" fill=\"#000000\" fill-rule=\"evenodd\" fill-opacity=\"1\" /><path clip-path=\"url(#clip8400)\" d=\"M 0 0 M2234.25 1490.15 L2238.77 1490.15 L2246.87 1511.91 L2254.97 1490.15 L2259.49 1490.15 L2249.76 1516.08 L2243.98 1516.08 L2234.25 1490.15 Z\" fill=\"#000000\" fill-rule=\"evenodd\" fill-opacity=\"1\" /><path clip-path=\"url(#clip8400)\" d=\"M 0 0 M2260.87 1510.2 L2265.76 1510.2 L2265.76 1516.08 L2260.87 1516.08 L2260.87 1510.2 Z\" fill=\"#000000\" fill-rule=\"evenodd\" fill-opacity=\"1\" /><path clip-path=\"url(#clip8400)\" d=\"M 0 0 M2271.64 1512.14 L2279.28 1512.14 L2279.28 1485.78 L2270.97 1487.44 L2270.97 1483.19 L2279.23 1481.52 L2283.91 1481.52 L2283.91 1512.14 L2291.55 1512.14 L2291.55 1516.08 L2271.64 1516.08 L2271.64 1512.14 Z\" fill=\"#000000\" fill-rule=\"evenodd\" fill-opacity=\"1\" /><path clip-path=\"url(#clip8400)\" d=\"M 0 0 M2307.19 1496.94 Q2304.05 1496.94 2302.19 1499.09 Q2300.36 1501.24 2300.36 1504.99 Q2300.36 1508.72 2302.19 1510.89 Q2304.05 1513.05 2307.19 1513.05 Q2310.34 1513.05 2312.17 1510.89 Q2314.02 1508.72 2314.02 1504.99 Q2314.02 1501.24 2312.17 1499.09 Q2310.34 1496.94 2307.19 1496.94 M2316.48 1482.28 L2316.48 1486.54 Q2314.72 1485.71 2312.91 1485.27 Q2311.13 1484.83 2309.37 1484.83 Q2304.74 1484.83 2302.29 1487.95 Q2299.86 1491.08 2299.51 1497.4 Q2300.87 1495.38 2302.93 1494.32 Q2304.99 1493.23 2307.47 1493.23 Q2312.68 1493.23 2315.69 1496.4 Q2318.72 1499.55 2318.72 1504.99 Q2318.72 1510.31 2315.57 1513.53 Q2312.42 1516.75 2307.19 1516.75 Q2301.2 1516.75 2298.03 1512.17 Q2294.86 1507.56 2294.86 1498.83 Q2294.86 1490.64 2298.74 1485.78 Q2302.63 1480.89 2309.18 1480.89 Q2310.94 1480.89 2312.73 1481.24 Q2314.53 1481.59 2316.48 1482.28 Z\" fill=\"#000000\" fill-rule=\"evenodd\" fill-opacity=\"1\" /><path clip-path=\"url(#clip8400)\" d=\"M 0 0 M2324.28 1510.2 L2329.16 1510.2 L2329.16 1514.18 L2325.36 1521.59 L2322.38 1521.59 L2324.28 1514.18 L2324.28 1510.2 Z\" fill=\"#000000\" fill-rule=\"evenodd\" fill-opacity=\"1\" /><path clip-path=\"url(#clip8400)\" d=\"M 0 0 M2338.26 1512.14 L2354.58 1512.14 L2354.58 1516.08 L2332.63 1516.08 L2332.63 1512.14 Q2335.3 1509.39 2339.88 1504.76 Q2344.48 1500.11 2345.67 1498.76 Q2347.91 1496.24 2348.79 1494.5 Q2349.69 1492.75 2349.69 1491.06 Q2349.69 1488.3 2347.75 1486.57 Q2345.83 1484.83 2342.73 1484.83 Q2340.53 1484.83 2338.07 1485.59 Q2335.64 1486.36 2332.86 1487.91 L2332.86 1483.19 Q2335.69 1482.05 2338.14 1481.47 Q2340.6 1480.89 2342.63 1480.89 Q2348 1480.89 2351.2 1483.58 Q2354.39 1486.26 2354.39 1490.75 Q2354.39 1492.88 2353.58 1494.81 Q2352.79 1496.7 2350.69 1499.3 Q2350.11 1499.97 2347.01 1503.19 Q2343.91 1506.38 2338.26 1512.14 Z\" fill=\"#000000\" fill-rule=\"evenodd\" fill-opacity=\"1\" /><path clip-path=\"url(#clip8400)\" d=\"M 0 0 M2369.65 1484.6 Q2366.04 1484.6 2364.21 1488.16 Q2362.4 1491.7 2362.4 1498.83 Q2362.4 1505.94 2364.21 1509.5 Q2366.04 1513.05 2369.65 1513.05 Q2373.28 1513.05 2375.09 1509.5 Q2376.92 1505.94 2376.92 1498.83 Q2376.92 1491.7 2375.09 1488.16 Q2373.28 1484.6 2369.65 1484.6 M2369.65 1480.89 Q2375.46 1480.89 2378.51 1485.5 Q2381.59 1490.08 2381.59 1498.83 Q2381.59 1507.56 2378.51 1512.17 Q2375.46 1516.75 2369.65 1516.75 Q2363.84 1516.75 2360.76 1512.17 Q2357.7 1507.56 2357.7 1498.83 Q2357.7 1490.08 2360.76 1485.5 Q2363.84 1480.89 2369.65 1480.89 Z\" fill=\"#000000\" fill-rule=\"evenodd\" fill-opacity=\"1\" /><path clip-path=\"url(#clip8400)\" d=\"M 0 0 M2443.71 1481.52 L2450.01 1481.52 L2465.33 1510.43 L2465.33 1481.52 L2469.87 1481.52 L2469.87 1516.08 L2463.57 1516.08 L2448.25 1487.17 L2448.25 1516.08 L2443.71 1516.08 L2443.71 1481.52 Z\" fill=\"#000000\" fill-rule=\"evenodd\" fill-opacity=\"1\" /><path clip-path=\"url(#clip8400)\" d=\"M 0 0 M2484.38 1493.14 Q2480.96 1493.14 2478.97 1495.82 Q2476.98 1498.49 2476.98 1503.14 Q2476.98 1507.79 2478.95 1510.48 Q2480.94 1513.14 2484.38 1513.14 Q2487.79 1513.14 2489.78 1510.45 Q2491.77 1507.77 2491.77 1503.14 Q2491.77 1498.53 2489.78 1495.85 Q2487.79 1493.14 2484.38 1493.14 M2484.38 1489.53 Q2489.94 1489.53 2493.11 1493.14 Q2496.28 1496.75 2496.28 1503.14 Q2496.28 1509.5 2493.11 1513.14 Q2489.94 1516.75 2484.38 1516.75 Q2478.81 1516.75 2475.63 1513.14 Q2472.49 1509.5 2472.49 1503.14 Q2472.49 1496.75 2475.63 1493.14 Q2478.81 1489.53 2484.38 1489.53 Z\" fill=\"#000000\" fill-rule=\"evenodd\" fill-opacity=\"1\" /><path clip-path=\"url(#clip8400)\" d=\"M 0 0 M2497.7 1490.15 L2502.21 1490.15 L2510.31 1511.91 L2518.41 1490.15 L2522.93 1490.15 L2513.2 1516.08 L2507.42 1516.08 L2497.7 1490.15 Z\" fill=\"#000000\" fill-rule=\"evenodd\" fill-opacity=\"1\" /><path clip-path=\"url(#clip8400)\" d=\"M 0 0 M2524.32 1510.2 L2529.2 1510.2 L2529.2 1516.08 L2524.32 1516.08 L2524.32 1510.2 Z\" fill=\"#000000\" fill-rule=\"evenodd\" fill-opacity=\"1\" /><path clip-path=\"url(#clip8400)\" d=\"M 0 0 M2538.3 1512.14 L2554.62 1512.14 L2554.62 1516.08 L2532.67 1516.08 L2532.67 1512.14 Q2535.33 1509.39 2539.92 1504.76 Q2544.52 1500.11 2545.7 1498.76 Q2547.95 1496.24 2548.83 1494.5 Q2549.73 1492.75 2549.73 1491.06 Q2549.73 1488.3 2547.79 1486.57 Q2545.87 1484.83 2542.76 1484.83 Q2540.57 1484.83 2538.11 1485.59 Q2535.68 1486.36 2532.9 1487.91 L2532.9 1483.19 Q2535.73 1482.05 2538.18 1481.47 Q2540.63 1480.89 2542.67 1480.89 Q2548.04 1480.89 2551.24 1483.58 Q2554.43 1486.26 2554.43 1490.75 Q2554.43 1492.88 2553.62 1494.81 Q2552.83 1496.7 2550.73 1499.3 Q2550.15 1499.97 2547.05 1503.19 Q2543.94 1506.38 2538.3 1512.14 Z\" fill=\"#000000\" fill-rule=\"evenodd\" fill-opacity=\"1\" /><path clip-path=\"url(#clip8400)\" d=\"M 0 0 M2559.73 1481.52 L2578.09 1481.52 L2578.09 1485.45 L2564.01 1485.45 L2564.01 1493.93 Q2565.03 1493.58 2566.05 1493.42 Q2567.07 1493.23 2568.09 1493.23 Q2573.88 1493.23 2577.25 1496.4 Q2580.63 1499.57 2580.63 1504.99 Q2580.63 1510.57 2577.16 1513.67 Q2573.69 1516.75 2567.37 1516.75 Q2565.19 1516.75 2562.93 1516.38 Q2560.68 1516.01 2558.27 1515.27 L2558.27 1510.57 Q2560.36 1511.7 2562.58 1512.26 Q2564.8 1512.81 2567.28 1512.81 Q2571.28 1512.81 2573.62 1510.71 Q2575.96 1508.6 2575.96 1504.99 Q2575.96 1501.38 2573.62 1499.27 Q2571.28 1497.17 2567.28 1497.17 Q2565.4 1497.17 2563.53 1497.58 Q2561.68 1498 2559.73 1498.88 L2559.73 1481.52 Z\" fill=\"#000000\" fill-rule=\"evenodd\" fill-opacity=\"1\" /><path clip-path=\"url(#clip8400)\" d=\"M 0 0 M2586.19 1510.2 L2591.07 1510.2 L2591.07 1514.18 L2587.28 1521.59 L2584.29 1521.59 L2586.19 1514.18 L2586.19 1510.2 Z\" fill=\"#000000\" fill-rule=\"evenodd\" fill-opacity=\"1\" /><path clip-path=\"url(#clip8400)\" d=\"M 0 0 M2600.17 1512.14 L2616.49 1512.14 L2616.49 1516.08 L2594.55 1516.08 L2594.55 1512.14 Q2597.21 1509.39 2601.79 1504.76 Q2606.4 1500.11 2607.58 1498.76 Q2609.82 1496.24 2610.7 1494.5 Q2611.61 1492.75 2611.61 1491.06 Q2611.61 1488.3 2609.66 1486.57 Q2607.74 1484.83 2604.64 1484.83 Q2602.44 1484.83 2599.99 1485.59 Q2597.56 1486.36 2594.78 1487.91 L2594.78 1483.19 Q2597.6 1482.05 2600.06 1481.47 Q2602.51 1480.89 2604.55 1480.89 Q2609.92 1480.89 2613.11 1483.58 Q2616.31 1486.26 2616.31 1490.75 Q2616.31 1492.88 2615.5 1494.81 Q2614.71 1496.7 2612.6 1499.3 Q2612.02 1499.97 2608.92 1503.19 Q2605.82 1506.38 2600.17 1512.14 Z\" fill=\"#000000\" fill-rule=\"evenodd\" fill-opacity=\"1\" /><path clip-path=\"url(#clip8400)\" d=\"M 0 0 M2631.56 1484.6 Q2627.95 1484.6 2626.12 1488.16 Q2624.31 1491.7 2624.31 1498.83 Q2624.31 1505.94 2626.12 1509.5 Q2627.95 1513.05 2631.56 1513.05 Q2635.19 1513.05 2637 1509.5 Q2638.83 1505.94 2638.83 1498.83 Q2638.83 1491.7 2637 1488.16 Q2635.19 1484.6 2631.56 1484.6 M2631.56 1480.89 Q2637.37 1480.89 2640.43 1485.5 Q2643.5 1490.08 2643.5 1498.83 Q2643.5 1507.56 2640.43 1512.17 Q2637.37 1516.75 2631.56 1516.75 Q2625.75 1516.75 2622.67 1512.17 Q2619.62 1507.56 2619.62 1498.83 Q2619.62 1490.08 2622.67 1485.5 Q2625.75 1480.89 2631.56 1480.89 Z\" fill=\"#000000\" fill-rule=\"evenodd\" fill-opacity=\"1\" /><path clip-path=\"url(#clip8400)\" d=\"M 0 0 M2692.77 1485.36 L2692.77 1512.24 L2698.42 1512.24 Q2705.57 1512.24 2708.88 1509 Q2712.22 1505.75 2712.22 1498.76 Q2712.22 1491.82 2708.88 1488.6 Q2705.57 1485.36 2698.42 1485.36 L2692.77 1485.36 M2688.1 1481.52 L2697.7 1481.52 Q2707.75 1481.52 2712.45 1485.71 Q2717.15 1489.88 2717.15 1498.76 Q2717.15 1507.7 2712.42 1511.89 Q2707.7 1516.08 2697.7 1516.08 L2688.1 1516.08 L2688.1 1481.52 Z\" fill=\"#000000\" fill-rule=\"evenodd\" fill-opacity=\"1\" /><path clip-path=\"url(#clip8400)\" d=\"M 0 0 M2743.79 1502.05 L2743.79 1504.13 L2724.21 1504.13 Q2724.48 1508.53 2726.85 1510.85 Q2729.23 1513.14 2733.47 1513.14 Q2735.92 1513.14 2738.21 1512.54 Q2740.53 1511.94 2742.79 1510.73 L2742.79 1514.76 Q2740.5 1515.73 2738.1 1516.24 Q2735.69 1516.75 2733.21 1516.75 Q2727.01 1516.75 2723.37 1513.14 Q2719.76 1509.53 2719.76 1503.37 Q2719.76 1497 2723.19 1493.28 Q2726.64 1489.53 2732.47 1489.53 Q2737.7 1489.53 2740.73 1492.91 Q2743.79 1496.26 2743.79 1502.05 M2739.53 1500.8 Q2739.48 1497.31 2737.56 1495.22 Q2735.67 1493.14 2732.52 1493.14 Q2728.95 1493.14 2726.8 1495.15 Q2724.67 1497.17 2724.35 1500.82 L2739.53 1500.8 Z\" fill=\"#000000\" fill-rule=\"evenodd\" fill-opacity=\"1\" /><path clip-path=\"url(#clip8400)\" d=\"M 0 0 M2766.91 1491.15 L2766.91 1495.13 Q2765.11 1494.13 2763.28 1493.65 Q2761.48 1493.14 2759.62 1493.14 Q2755.48 1493.14 2753.19 1495.78 Q2750.9 1498.39 2750.9 1503.14 Q2750.9 1507.88 2753.19 1510.52 Q2755.48 1513.14 2759.62 1513.14 Q2761.48 1513.14 2763.28 1512.65 Q2765.11 1512.14 2766.91 1511.15 L2766.91 1515.08 Q2765.13 1515.92 2763.21 1516.33 Q2761.31 1516.75 2759.16 1516.75 Q2753.3 1516.75 2749.85 1513.07 Q2746.41 1509.39 2746.41 1503.14 Q2746.41 1496.8 2749.88 1493.16 Q2753.37 1489.53 2759.44 1489.53 Q2761.41 1489.53 2763.28 1489.94 Q2765.16 1490.34 2766.91 1491.15 Z\" fill=\"#000000\" fill-rule=\"evenodd\" fill-opacity=\"1\" /><path clip-path=\"url(#clip8400)\" d=\"M 0 0 M2771.98 1510.2 L2776.87 1510.2 L2776.87 1516.08 L2771.98 1516.08 L2771.98 1510.2 Z\" fill=\"#000000\" fill-rule=\"evenodd\" fill-opacity=\"1\" /><path clip-path=\"url(#clip8400)\" d=\"M 0 0 M2796.1 1497.44 Q2799.46 1498.16 2801.34 1500.43 Q2803.23 1502.7 2803.23 1506.03 Q2803.23 1511.15 2799.72 1513.95 Q2796.2 1516.75 2789.72 1516.75 Q2787.54 1516.75 2785.22 1516.31 Q2782.93 1515.89 2780.48 1515.04 L2780.48 1510.52 Q2782.42 1511.66 2784.74 1512.24 Q2787.05 1512.81 2789.58 1512.81 Q2793.97 1512.81 2796.27 1511.08 Q2798.58 1509.34 2798.58 1506.03 Q2798.58 1502.98 2796.43 1501.26 Q2794.3 1499.53 2790.48 1499.53 L2786.45 1499.53 L2786.45 1495.69 L2790.66 1495.69 Q2794.11 1495.69 2795.94 1494.32 Q2797.77 1492.93 2797.77 1490.34 Q2797.77 1487.68 2795.87 1486.26 Q2794 1484.83 2790.48 1484.83 Q2788.56 1484.83 2786.36 1485.25 Q2784.16 1485.66 2781.52 1486.54 L2781.52 1482.38 Q2784.18 1481.63 2786.5 1481.26 Q2788.84 1480.89 2790.9 1480.89 Q2796.22 1480.89 2799.32 1483.32 Q2802.42 1485.73 2802.42 1489.85 Q2802.42 1492.72 2800.78 1494.71 Q2799.14 1496.68 2796.1 1497.44 Z\" fill=\"#000000\" fill-rule=\"evenodd\" fill-opacity=\"1\" /><path clip-path=\"url(#clip8400)\" d=\"M 0 0 M2808.79 1510.2 L2813.67 1510.2 L2813.67 1514.18 L2809.88 1521.59 L2806.89 1521.59 L2808.79 1514.18 L2808.79 1510.2 Z\" fill=\"#000000\" fill-rule=\"evenodd\" fill-opacity=\"1\" /><path clip-path=\"url(#clip8400)\" d=\"M 0 0 M2822.77 1512.14 L2839.09 1512.14 L2839.09 1516.08 L2817.15 1516.08 L2817.15 1512.14 Q2819.81 1509.39 2824.39 1504.76 Q2829 1500.11 2830.18 1498.76 Q2832.42 1496.24 2833.3 1494.5 Q2834.21 1492.75 2834.21 1491.06 Q2834.21 1488.3 2832.26 1486.57 Q2830.34 1484.83 2827.24 1484.83 Q2825.04 1484.83 2822.59 1485.59 Q2820.16 1486.36 2817.38 1487.91 L2817.38 1483.19 Q2820.2 1482.05 2822.66 1481.47 Q2825.11 1480.89 2827.15 1480.89 Q2832.52 1480.89 2835.71 1483.58 Q2838.91 1486.26 2838.91 1490.75 Q2838.91 1492.88 2838.1 1494.81 Q2837.31 1496.7 2835.2 1499.3 Q2834.62 1499.97 2831.52 1503.19 Q2828.42 1506.38 2822.77 1512.14 Z\" fill=\"#000000\" fill-rule=\"evenodd\" fill-opacity=\"1\" /><path clip-path=\"url(#clip8400)\" d=\"M 0 0 M2854.16 1484.6 Q2850.55 1484.6 2848.72 1488.16 Q2846.91 1491.7 2846.91 1498.83 Q2846.91 1505.94 2848.72 1509.5 Q2850.55 1513.05 2854.16 1513.05 Q2857.79 1513.05 2859.6 1509.5 Q2861.43 1505.94 2861.43 1498.83 Q2861.43 1491.7 2859.6 1488.16 Q2857.79 1484.6 2854.16 1484.6 M2854.16 1480.89 Q2859.97 1480.89 2863.03 1485.5 Q2866.1 1490.08 2866.1 1498.83 Q2866.1 1507.56 2863.03 1512.17 Q2859.97 1516.75 2854.16 1516.75 Q2848.35 1516.75 2845.27 1512.17 Q2842.22 1507.56 2842.22 1498.83 Q2842.22 1490.08 2845.27 1485.5 Q2848.35 1480.89 2854.16 1480.89 Z\" fill=\"#000000\" fill-rule=\"evenodd\" fill-opacity=\"1\" /><path clip-path=\"url(#clip8400)\" d=\"M 0 0 M2943.03 1485.36 L2943.03 1512.24 L2948.68 1512.24 Q2955.83 1512.24 2959.14 1509 Q2962.47 1505.75 2962.47 1498.76 Q2962.47 1491.82 2959.14 1488.6 Q2955.83 1485.36 2948.68 1485.36 L2943.03 1485.36 M2938.35 1481.52 L2947.96 1481.52 Q2958.01 1481.52 2962.71 1485.71 Q2967.4 1489.88 2967.4 1498.76 Q2967.4 1507.7 2962.68 1511.89 Q2957.96 1516.08 2947.96 1516.08 L2938.35 1516.08 L2938.35 1481.52 Z\" fill=\"#000000\" fill-rule=\"evenodd\" fill-opacity=\"1\" /><path clip-path=\"url(#clip8400)\" d=\"M 0 0 M2994.05 1502.05 L2994.05 1504.13 L2974.47 1504.13 Q2974.74 1508.53 2977.1 1510.85 Q2979.49 1513.14 2983.72 1513.14 Q2986.18 1513.14 2988.47 1512.54 Q2990.78 1511.94 2993.05 1510.73 L2993.05 1514.76 Q2990.76 1515.73 2988.35 1516.24 Q2985.95 1516.75 2983.47 1516.75 Q2977.27 1516.75 2973.63 1513.14 Q2970.02 1509.53 2970.02 1503.37 Q2970.02 1497 2973.45 1493.28 Q2976.9 1489.53 2982.73 1489.53 Q2987.96 1489.53 2990.99 1492.91 Q2994.05 1496.26 2994.05 1502.05 M2989.79 1500.8 Q2989.74 1497.31 2987.82 1495.22 Q2985.92 1493.14 2982.78 1493.14 Q2979.21 1493.14 2977.06 1495.15 Q2974.93 1497.17 2974.6 1500.82 L2989.79 1500.8 Z\" fill=\"#000000\" fill-rule=\"evenodd\" fill-opacity=\"1\" /><path clip-path=\"url(#clip8400)\" d=\"M 0 0 M3017.17 1491.15 L3017.17 1495.13 Q3015.37 1494.13 3013.54 1493.65 Q3011.73 1493.14 3009.88 1493.14 Q3005.74 1493.14 3003.45 1495.78 Q3001.15 1498.39 3001.15 1503.14 Q3001.15 1507.88 3003.45 1510.52 Q3005.74 1513.14 3009.88 1513.14 Q3011.73 1513.14 3013.54 1512.65 Q3015.37 1512.14 3017.17 1511.15 L3017.17 1515.08 Q3015.39 1515.92 3013.47 1516.33 Q3011.57 1516.75 3009.42 1516.75 Q3003.56 1516.75 3000.11 1513.07 Q2996.66 1509.39 2996.66 1503.14 Q2996.66 1496.8 3000.14 1493.16 Q3003.63 1489.53 3009.7 1489.53 Q3011.66 1489.53 3013.54 1489.94 Q3015.41 1490.34 3017.17 1491.15 Z\" fill=\"#000000\" fill-rule=\"evenodd\" fill-opacity=\"1\" /><path clip-path=\"url(#clip8400)\" d=\"M 0 0 M3022.24 1510.2 L3027.13 1510.2 L3027.13 1516.08 L3022.24 1516.08 L3022.24 1510.2 Z\" fill=\"#000000\" fill-rule=\"evenodd\" fill-opacity=\"1\" /><path clip-path=\"url(#clip8400)\" d=\"M 0 0 M3033.01 1512.14 L3040.65 1512.14 L3040.65 1485.78 L3032.34 1487.44 L3032.34 1483.19 L3040.6 1481.52 L3045.27 1481.52 L3045.27 1512.14 L3052.91 1512.14 L3052.91 1516.08 L3033.01 1516.08 L3033.01 1512.14 Z\" fill=\"#000000\" fill-rule=\"evenodd\" fill-opacity=\"1\" /><path clip-path=\"url(#clip8400)\" d=\"M 0 0 M3062.01 1512.14 L3078.33 1512.14 L3078.33 1516.08 L3056.39 1516.08 L3056.39 1512.14 Q3059.05 1509.39 3063.63 1504.76 Q3068.24 1500.11 3069.42 1498.76 Q3071.66 1496.24 3072.54 1494.5 Q3073.45 1492.75 3073.45 1491.06 Q3073.45 1488.3 3071.5 1486.57 Q3069.58 1484.83 3066.48 1484.83 Q3064.28 1484.83 3061.83 1485.59 Q3059.4 1486.36 3056.62 1487.91 L3056.62 1483.19 Q3059.44 1482.05 3061.9 1481.47 Q3064.35 1480.89 3066.39 1480.89 Q3071.76 1480.89 3074.95 1483.58 Q3078.15 1486.26 3078.15 1490.75 Q3078.15 1492.88 3077.33 1494.81 Q3076.55 1496.7 3074.44 1499.3 Q3073.86 1499.97 3070.76 1503.19 Q3067.66 1506.38 3062.01 1512.14 Z\" fill=\"#000000\" fill-rule=\"evenodd\" fill-opacity=\"1\" /><path clip-path=\"url(#clip8400)\" d=\"M 0 0 M3083.89 1510.2 L3088.77 1510.2 L3088.77 1514.18 L3084.97 1521.59 L3081.99 1521.59 L3083.89 1514.18 L3083.89 1510.2 Z\" fill=\"#000000\" fill-rule=\"evenodd\" fill-opacity=\"1\" /><path clip-path=\"url(#clip8400)\" d=\"M 0 0 M3097.87 1512.14 L3114.19 1512.14 L3114.19 1516.08 L3092.24 1516.08 L3092.24 1512.14 Q3094.9 1509.39 3099.49 1504.76 Q3104.09 1500.11 3105.27 1498.76 Q3107.52 1496.24 3108.4 1494.5 Q3109.3 1492.75 3109.3 1491.06 Q3109.3 1488.3 3107.36 1486.57 Q3105.44 1484.83 3102.33 1484.83 Q3100.14 1484.83 3097.68 1485.59 Q3095.25 1486.36 3092.47 1487.91 L3092.47 1483.19 Q3095.3 1482.05 3097.75 1481.47 Q3100.21 1480.89 3102.24 1480.89 Q3107.61 1480.89 3110.81 1483.58 Q3114 1486.26 3114 1490.75 Q3114 1492.88 3113.19 1494.81 Q3112.4 1496.7 3110.3 1499.3 Q3109.72 1499.97 3106.62 1503.19 Q3103.52 1506.38 3097.87 1512.14 Z\" fill=\"#000000\" fill-rule=\"evenodd\" fill-opacity=\"1\" /><path clip-path=\"url(#clip8400)\" d=\"M 0 0 M3129.26 1484.6 Q3125.64 1484.6 3123.82 1488.16 Q3122.01 1491.7 3122.01 1498.83 Q3122.01 1505.94 3123.82 1509.5 Q3125.64 1513.05 3129.26 1513.05 Q3132.89 1513.05 3134.7 1509.5 Q3136.52 1505.94 3136.52 1498.83 Q3136.52 1491.7 3134.7 1488.16 Q3132.89 1484.6 3129.26 1484.6 M3129.26 1480.89 Q3135.07 1480.89 3138.12 1485.5 Q3141.2 1490.08 3141.2 1498.83 Q3141.2 1507.56 3138.12 1512.17 Q3135.07 1516.75 3129.26 1516.75 Q3123.45 1516.75 3120.37 1512.17 Q3117.31 1507.56 3117.31 1498.83 Q3117.31 1490.08 3120.37 1485.5 Q3123.45 1480.89 3129.26 1480.89 Z\" fill=\"#000000\" fill-rule=\"evenodd\" fill-opacity=\"1\" /><path clip-path=\"url(#clip8400)\" d=\"M 0 0 M3175.91 1485.36 L3175.91 1512.24 L3181.56 1512.24 Q3188.71 1512.24 3192.02 1509 Q3195.35 1505.75 3195.35 1498.76 Q3195.35 1491.82 3192.02 1488.6 Q3188.71 1485.36 3181.56 1485.36 L3175.91 1485.36 M3171.23 1481.52 L3180.84 1481.52 Q3190.88 1481.52 3195.58 1485.71 Q3200.28 1489.88 3200.28 1498.76 Q3200.28 1507.7 3195.56 1511.89 Q3190.84 1516.08 3180.84 1516.08 L3171.23 1516.08 L3171.23 1481.52 Z\" fill=\"#000000\" fill-rule=\"evenodd\" fill-opacity=\"1\" /><path clip-path=\"url(#clip8400)\" d=\"M 0 0 M3226.93 1502.05 L3226.93 1504.13 L3207.34 1504.13 Q3207.62 1508.53 3209.98 1510.85 Q3212.37 1513.14 3216.6 1513.14 Q3219.06 1513.14 3221.35 1512.54 Q3223.66 1511.94 3225.93 1510.73 L3225.93 1514.76 Q3223.64 1515.73 3221.23 1516.24 Q3218.82 1516.75 3216.35 1516.75 Q3210.14 1516.75 3206.51 1513.14 Q3202.9 1509.53 3202.9 1503.37 Q3202.9 1497 3206.32 1493.28 Q3209.77 1489.53 3215.61 1489.53 Q3220.84 1489.53 3223.87 1492.91 Q3226.93 1496.26 3226.93 1502.05 M3222.67 1500.8 Q3222.62 1497.31 3220.7 1495.22 Q3218.8 1493.14 3215.65 1493.14 Q3212.09 1493.14 3209.94 1495.15 Q3207.81 1497.17 3207.48 1500.82 L3222.67 1500.8 Z\" fill=\"#000000\" fill-rule=\"evenodd\" fill-opacity=\"1\" /><path clip-path=\"url(#clip8400)\" d=\"M 0 0 M3250.05 1491.15 L3250.05 1495.13 Q3248.25 1494.13 3246.42 1493.65 Q3244.61 1493.14 3242.76 1493.14 Q3238.62 1493.14 3236.32 1495.78 Q3234.03 1498.39 3234.03 1503.14 Q3234.03 1507.88 3236.32 1510.52 Q3238.62 1513.14 3242.76 1513.14 Q3244.61 1513.14 3246.42 1512.65 Q3248.25 1512.14 3250.05 1511.15 L3250.05 1515.08 Q3248.27 1515.92 3246.35 1516.33 Q3244.45 1516.75 3242.3 1516.75 Q3236.44 1516.75 3232.99 1513.07 Q3229.54 1509.39 3229.54 1503.14 Q3229.54 1496.8 3233.01 1493.16 Q3236.51 1489.53 3242.57 1489.53 Q3244.54 1489.53 3246.42 1489.94 Q3248.29 1490.34 3250.05 1491.15 Z\" fill=\"#000000\" fill-rule=\"evenodd\" fill-opacity=\"1\" /><path clip-path=\"url(#clip8400)\" d=\"M 0 0 M3255.12 1510.2 L3260 1510.2 L3260 1516.08 L3255.12 1516.08 L3255.12 1510.2 Z\" fill=\"#000000\" fill-rule=\"evenodd\" fill-opacity=\"1\" /><path clip-path=\"url(#clip8400)\" d=\"M 0 0 M3269.1 1512.14 L3285.42 1512.14 L3285.42 1516.08 L3263.48 1516.08 L3263.48 1512.14 Q3266.14 1509.39 3270.72 1504.76 Q3275.33 1500.11 3276.51 1498.76 Q3278.75 1496.24 3279.63 1494.5 Q3280.54 1492.75 3280.54 1491.06 Q3280.54 1488.3 3278.59 1486.57 Q3276.67 1484.83 3273.57 1484.83 Q3271.37 1484.83 3268.92 1485.59 Q3266.49 1486.36 3263.71 1487.91 L3263.71 1483.19 Q3266.53 1482.05 3268.99 1481.47 Q3271.44 1480.89 3273.48 1480.89 Q3278.85 1480.89 3282.04 1483.58 Q3285.24 1486.26 3285.24 1490.75 Q3285.24 1492.88 3284.43 1494.81 Q3283.64 1496.7 3281.53 1499.3 Q3280.95 1499.97 3277.85 1503.19 Q3274.75 1506.38 3269.1 1512.14 Z\" fill=\"#000000\" fill-rule=\"evenodd\" fill-opacity=\"1\" /><path clip-path=\"url(#clip8400)\" d=\"M 0 0 M3300.49 1484.6 Q3296.88 1484.6 3295.05 1488.16 Q3293.24 1491.7 3293.24 1498.83 Q3293.24 1505.94 3295.05 1509.5 Q3296.88 1513.05 3300.49 1513.05 Q3304.12 1513.05 3305.93 1509.5 Q3307.76 1505.94 3307.76 1498.83 Q3307.76 1491.7 3305.93 1488.16 Q3304.12 1484.6 3300.49 1484.6 M3300.49 1480.89 Q3306.3 1480.89 3309.36 1485.5 Q3312.43 1490.08 3312.43 1498.83 Q3312.43 1507.56 3309.36 1512.17 Q3306.3 1516.75 3300.49 1516.75 Q3294.68 1516.75 3291.6 1512.17 Q3288.55 1507.56 3288.55 1498.83 Q3288.55 1490.08 3291.6 1485.5 Q3294.68 1480.89 3300.49 1480.89 Z\" fill=\"#000000\" fill-rule=\"evenodd\" fill-opacity=\"1\" /><path clip-path=\"url(#clip8400)\" d=\"M 0 0 M3317.99 1510.2 L3322.87 1510.2 L3322.87 1514.18 L3319.08 1521.59 L3316.09 1521.59 L3317.99 1514.18 L3317.99 1510.2 Z\" fill=\"#000000\" fill-rule=\"evenodd\" fill-opacity=\"1\" /><path clip-path=\"url(#clip8400)\" d=\"M 0 0 M3331.97 1512.14 L3348.29 1512.14 L3348.29 1516.08 L3326.35 1516.08 L3326.35 1512.14 Q3329.01 1509.39 3333.59 1504.76 Q3338.2 1500.11 3339.38 1498.76 Q3341.62 1496.24 3342.5 1494.5 Q3343.41 1492.75 3343.41 1491.06 Q3343.41 1488.3 3341.46 1486.57 Q3339.54 1484.83 3336.44 1484.83 Q3334.24 1484.83 3331.79 1485.59 Q3329.36 1486.36 3326.58 1487.91 L3326.58 1483.19 Q3329.4 1482.05 3331.86 1481.47 Q3334.31 1480.89 3336.35 1480.89 Q3341.72 1480.89 3344.91 1483.58 Q3348.11 1486.26 3348.11 1490.75 Q3348.11 1492.88 3347.3 1494.81 Q3346.51 1496.7 3344.4 1499.3 Q3343.82 1499.97 3340.72 1503.19 Q3337.62 1506.38 3331.97 1512.14 Z\" fill=\"#000000\" fill-rule=\"evenodd\" fill-opacity=\"1\" /><path clip-path=\"url(#clip8400)\" d=\"M 0 0 M3363.36 1484.6 Q3359.75 1484.6 3357.92 1488.16 Q3356.11 1491.7 3356.11 1498.83 Q3356.11 1505.94 3357.92 1509.5 Q3359.75 1513.05 3363.36 1513.05 Q3366.99 1513.05 3368.8 1509.5 Q3370.63 1505.94 3370.63 1498.83 Q3370.63 1491.7 3368.8 1488.16 Q3366.99 1484.6 3363.36 1484.6 M3363.36 1480.89 Q3369.17 1480.89 3372.23 1485.5 Q3375.3 1490.08 3375.3 1498.83 Q3375.3 1507.56 3372.23 1512.17 Q3369.17 1516.75 3363.36 1516.75 Q3357.55 1516.75 3354.47 1512.17 Q3351.42 1507.56 3351.42 1498.83 Q3351.42 1490.08 3354.47 1485.5 Q3357.55 1480.89 3363.36 1480.89 Z\" fill=\"#000000\" fill-rule=\"evenodd\" fill-opacity=\"1\" /><path clip-path=\"url(#clip8400)\" d=\"M 0 0 M3438.68 1485.36 L3438.68 1512.24 L3444.33 1512.24 Q3451.48 1512.24 3454.79 1509 Q3458.12 1505.75 3458.12 1498.76 Q3458.12 1491.82 3454.79 1488.6 Q3451.48 1485.36 3444.33 1485.36 L3438.68 1485.36 M3434 1481.52 L3443.61 1481.52 Q3453.65 1481.52 3458.35 1485.71 Q3463.05 1489.88 3463.05 1498.76 Q3463.05 1507.7 3458.33 1511.89 Q3453.61 1516.08 3443.61 1516.08 L3434 1516.08 L3434 1481.52 Z\" fill=\"#000000\" fill-rule=\"evenodd\" fill-opacity=\"1\" /><path clip-path=\"url(#clip8400)\" d=\"M 0 0 M3489.7 1502.05 L3489.7 1504.13 L3470.11 1504.13 Q3470.39 1508.53 3472.75 1510.85 Q3475.14 1513.14 3479.37 1513.14 Q3481.83 1513.14 3484.12 1512.54 Q3486.43 1511.94 3488.7 1510.73 L3488.7 1514.76 Q3486.41 1515.73 3484 1516.24 Q3481.59 1516.75 3479.12 1516.75 Q3472.91 1516.75 3469.28 1513.14 Q3465.67 1509.53 3465.67 1503.37 Q3465.67 1497 3469.09 1493.28 Q3472.54 1489.53 3478.38 1489.53 Q3483.61 1489.53 3486.64 1492.91 Q3489.7 1496.26 3489.7 1502.05 M3485.44 1500.8 Q3485.39 1497.31 3483.47 1495.22 Q3481.57 1493.14 3478.42 1493.14 Q3474.86 1493.14 3472.7 1495.15 Q3470.58 1497.17 3470.25 1500.82 L3485.44 1500.8 Z\" fill=\"#000000\" fill-rule=\"evenodd\" fill-opacity=\"1\" /><path clip-path=\"url(#clip8400)\" d=\"M 0 0 M3512.82 1491.15 L3512.82 1495.13 Q3511.01 1494.13 3509.19 1493.65 Q3507.38 1493.14 3505.53 1493.14 Q3501.39 1493.14 3499.09 1495.78 Q3496.8 1498.39 3496.8 1503.14 Q3496.8 1507.88 3499.09 1510.52 Q3501.39 1513.14 3505.53 1513.14 Q3507.38 1513.14 3509.19 1512.65 Q3511.01 1512.14 3512.82 1511.15 L3512.82 1515.08 Q3511.04 1515.92 3509.12 1516.33 Q3507.22 1516.75 3505.07 1516.75 Q3499.21 1516.75 3495.76 1513.07 Q3492.31 1509.39 3492.31 1503.14 Q3492.31 1496.8 3495.78 1493.16 Q3499.28 1489.53 3505.34 1489.53 Q3507.31 1489.53 3509.19 1489.94 Q3511.06 1490.34 3512.82 1491.15 Z\" fill=\"#000000\" fill-rule=\"evenodd\" fill-opacity=\"1\" /><path clip-path=\"url(#clip8400)\" d=\"M 0 0 M3517.89 1510.2 L3522.77 1510.2 L3522.77 1516.08 L3517.89 1516.08 L3517.89 1510.2 Z\" fill=\"#000000\" fill-rule=\"evenodd\" fill-opacity=\"1\" /><path clip-path=\"url(#clip8400)\" d=\"M 0 0 M3531.87 1512.14 L3548.19 1512.14 L3548.19 1516.08 L3526.25 1516.08 L3526.25 1512.14 Q3528.91 1509.39 3533.49 1504.76 Q3538.1 1500.11 3539.28 1498.76 Q3541.52 1496.24 3542.4 1494.5 Q3543.31 1492.75 3543.31 1491.06 Q3543.31 1488.3 3541.36 1486.57 Q3539.44 1484.83 3536.34 1484.83 Q3534.14 1484.83 3531.69 1485.59 Q3529.26 1486.36 3526.48 1487.91 L3526.48 1483.19 Q3529.3 1482.05 3531.76 1481.47 Q3534.21 1480.89 3536.25 1480.89 Q3541.62 1480.89 3544.81 1483.58 Q3548.01 1486.26 3548.01 1490.75 Q3548.01 1492.88 3547.2 1494.81 Q3546.41 1496.7 3544.3 1499.3 Q3543.72 1499.97 3540.62 1503.19 Q3537.52 1506.38 3531.87 1512.14 Z\" fill=\"#000000\" fill-rule=\"evenodd\" fill-opacity=\"1\" /><path clip-path=\"url(#clip8400)\" d=\"M 0 0 M3553.4 1515.36 L3553.4 1511.1 Q3555.16 1511.94 3556.96 1512.38 Q3558.77 1512.81 3560.51 1512.81 Q3565.13 1512.81 3567.57 1509.71 Q3570.02 1506.59 3570.37 1500.25 Q3569.02 1502.24 3566.96 1503.3 Q3564.9 1504.37 3562.4 1504.37 Q3557.22 1504.37 3554.19 1501.24 Q3551.18 1498.09 3551.18 1492.65 Q3551.18 1487.33 3554.32 1484.11 Q3557.47 1480.89 3562.7 1480.89 Q3568.7 1480.89 3571.85 1485.5 Q3575.02 1490.08 3575.02 1498.83 Q3575.02 1507 3571.13 1511.89 Q3567.26 1516.75 3560.71 1516.75 Q3558.95 1516.75 3557.15 1516.4 Q3555.34 1516.06 3553.4 1515.36 M3562.7 1500.71 Q3565.85 1500.71 3567.68 1498.56 Q3569.53 1496.4 3569.53 1492.65 Q3569.53 1488.93 3567.68 1486.77 Q3565.85 1484.6 3562.7 1484.6 Q3559.56 1484.6 3557.7 1486.77 Q3555.88 1488.93 3555.88 1492.65 Q3555.88 1496.4 3557.7 1498.56 Q3559.56 1500.71 3562.7 1500.71 Z\" fill=\"#000000\" fill-rule=\"evenodd\" fill-opacity=\"1\" /><path clip-path=\"url(#clip8400)\" d=\"M 0 0 M3580.57 1510.2 L3585.46 1510.2 L3585.46 1514.18 L3581.66 1521.59 L3578.68 1521.59 L3580.57 1514.18 L3580.57 1510.2 Z\" fill=\"#000000\" fill-rule=\"evenodd\" fill-opacity=\"1\" /><path clip-path=\"url(#clip8400)\" d=\"M 0 0 M3594.56 1512.14 L3610.88 1512.14 L3610.88 1516.08 L3588.93 1516.08 L3588.93 1512.14 Q3591.59 1509.39 3596.18 1504.76 Q3600.78 1500.11 3601.96 1498.76 Q3604.21 1496.24 3605.09 1494.5 Q3605.99 1492.75 3605.99 1491.06 Q3605.99 1488.3 3604.05 1486.57 Q3602.13 1484.83 3599.02 1484.83 Q3596.82 1484.83 3594.37 1485.59 Q3591.94 1486.36 3589.16 1487.91 L3589.16 1483.19 Q3591.99 1482.05 3594.44 1481.47 Q3596.89 1480.89 3598.93 1480.89 Q3604.3 1480.89 3607.5 1483.58 Q3610.69 1486.26 3610.69 1490.75 Q3610.69 1492.88 3609.88 1494.81 Q3609.09 1496.7 3606.99 1499.3 Q3606.41 1499.97 3603.31 1503.19 Q3600.2 1506.38 3594.56 1512.14 Z\" fill=\"#000000\" fill-rule=\"evenodd\" fill-opacity=\"1\" /><path clip-path=\"url(#clip8400)\" d=\"M 0 0 M3625.94 1484.6 Q3622.33 1484.6 3620.51 1488.16 Q3618.7 1491.7 3618.7 1498.83 Q3618.7 1505.94 3620.51 1509.5 Q3622.33 1513.05 3625.94 1513.05 Q3629.58 1513.05 3631.38 1509.5 Q3633.21 1505.94 3633.21 1498.83 Q3633.21 1491.7 3631.38 1488.16 Q3629.58 1484.6 3625.94 1484.6 M3625.94 1480.89 Q3631.76 1480.89 3634.81 1485.5 Q3637.89 1490.08 3637.89 1498.83 Q3637.89 1507.56 3634.81 1512.17 Q3631.76 1516.75 3625.94 1516.75 Q3620.13 1516.75 3617.06 1512.17 Q3614 1507.56 3614 1498.83 Q3614 1490.08 3617.06 1485.5 Q3620.13 1480.89 3625.94 1480.89 Z\" fill=\"#000000\" fill-rule=\"evenodd\" fill-opacity=\"1\" /><path clip-path=\"url(#clip8400)\" d=\"M 0 0 M3695.88 1481.52 L3700.56 1481.52 L3700.56 1513.67 Q3700.56 1519.92 3698.18 1522.75 Q3695.81 1525.57 3690.56 1525.57 L3688.78 1525.57 L3688.78 1521.63 L3690.24 1521.63 Q3693.34 1521.63 3694.61 1519.9 Q3695.88 1518.16 3695.88 1513.67 L3695.88 1481.52 Z\" fill=\"#000000\" fill-rule=\"evenodd\" fill-opacity=\"1\" /><path clip-path=\"url(#clip8400)\" d=\"M 0 0 M3716.81 1503.05 Q3711.65 1503.05 3709.66 1504.23 Q3707.67 1505.41 3707.67 1508.25 Q3707.67 1510.52 3709.15 1511.87 Q3710.65 1513.19 3713.22 1513.19 Q3716.76 1513.19 3718.89 1510.69 Q3721.05 1508.16 3721.05 1504 L3721.05 1503.05 L3716.81 1503.05 M3725.3 1501.29 L3725.3 1516.08 L3721.05 1516.08 L3721.05 1512.14 Q3719.59 1514.5 3717.41 1515.64 Q3715.24 1516.75 3712.09 1516.75 Q3708.11 1516.75 3705.74 1514.53 Q3703.41 1512.28 3703.41 1508.53 Q3703.41 1504.16 3706.32 1501.94 Q3709.26 1499.71 3715.07 1499.71 L3721.05 1499.71 L3721.05 1499.3 Q3721.05 1496.36 3719.1 1494.76 Q3717.18 1493.14 3713.68 1493.14 Q3711.46 1493.14 3709.36 1493.67 Q3707.25 1494.2 3705.3 1495.27 L3705.3 1491.33 Q3707.64 1490.43 3709.84 1489.99 Q3712.04 1489.53 3714.12 1489.53 Q3719.75 1489.53 3722.53 1492.44 Q3725.3 1495.36 3725.3 1501.29 Z\" fill=\"#000000\" fill-rule=\"evenodd\" fill-opacity=\"1\" /><path clip-path=\"url(#clip8400)\" d=\"M 0 0 M3751.32 1500.43 L3751.32 1516.08 L3747.06 1516.08 L3747.06 1500.57 Q3747.06 1496.89 3745.63 1495.06 Q3744.19 1493.23 3741.32 1493.23 Q3737.87 1493.23 3735.88 1495.43 Q3733.89 1497.63 3733.89 1501.43 L3733.89 1516.08 L3729.61 1516.08 L3729.61 1490.15 L3733.89 1490.15 L3733.89 1494.18 Q3735.42 1491.84 3737.48 1490.69 Q3739.56 1489.53 3742.27 1489.53 Q3746.74 1489.53 3749.03 1492.31 Q3751.32 1495.06 3751.32 1500.43 Z\" fill=\"#000000\" fill-rule=\"evenodd\" fill-opacity=\"1\" /><path clip-path=\"url(#clip8400)\" d=\"M 0 0 M3756.39 1510.2 L3761.28 1510.2 L3761.28 1516.08 L3756.39 1516.08 L3756.39 1510.2 Z\" fill=\"#000000\" fill-rule=\"evenodd\" fill-opacity=\"1\" /><path clip-path=\"url(#clip8400)\" d=\"M 0 0 M3776.92 1496.94 Q3773.78 1496.94 3771.92 1499.09 Q3770.1 1501.24 3770.1 1504.99 Q3770.1 1508.72 3771.92 1510.89 Q3773.78 1513.05 3776.92 1513.05 Q3780.07 1513.05 3781.9 1510.89 Q3783.75 1508.72 3783.75 1504.99 Q3783.75 1501.24 3781.9 1499.09 Q3780.07 1496.94 3776.92 1496.94 M3786.21 1482.28 L3786.21 1486.54 Q3784.45 1485.71 3782.64 1485.27 Q3780.86 1484.83 3779.1 1484.83 Q3774.47 1484.83 3772.02 1487.95 Q3769.59 1491.08 3769.24 1497.4 Q3770.61 1495.38 3772.67 1494.32 Q3774.73 1493.23 3777.2 1493.23 Q3782.41 1493.23 3785.42 1496.4 Q3788.45 1499.55 3788.45 1504.99 Q3788.45 1510.31 3785.3 1513.53 Q3782.16 1516.75 3776.92 1516.75 Q3770.93 1516.75 3767.76 1512.17 Q3764.59 1507.56 3764.59 1498.83 Q3764.59 1490.64 3768.48 1485.78 Q3772.36 1480.89 3778.92 1480.89 Q3780.67 1480.89 3782.46 1481.24 Q3784.26 1481.59 3786.21 1482.28 Z\" fill=\"#000000\" fill-rule=\"evenodd\" fill-opacity=\"1\" /><path clip-path=\"url(#clip8400)\" d=\"M 0 0 M3794.01 1510.2 L3798.89 1510.2 L3798.89 1514.18 L3795.1 1521.59 L3792.11 1521.59 L3794.01 1514.18 L3794.01 1510.2 Z\" fill=\"#000000\" fill-rule=\"evenodd\" fill-opacity=\"1\" /><path clip-path=\"url(#clip8400)\" d=\"M 0 0 M3807.99 1512.14 L3824.31 1512.14 L3824.31 1516.08 L3802.36 1516.08 L3802.36 1512.14 Q3805.03 1509.39 3809.61 1504.76 Q3814.22 1500.11 3815.4 1498.76 Q3817.64 1496.24 3818.52 1494.5 Q3819.42 1492.75 3819.42 1491.06 Q3819.42 1488.3 3817.48 1486.57 Q3815.56 1484.83 3812.46 1484.83 Q3810.26 1484.83 3807.8 1485.59 Q3805.37 1486.36 3802.6 1487.91 L3802.6 1483.19 Q3805.42 1482.05 3807.87 1481.47 Q3810.33 1480.89 3812.36 1480.89 Q3817.73 1480.89 3820.93 1483.58 Q3824.12 1486.26 3824.12 1490.75 Q3824.12 1492.88 3823.31 1494.81 Q3822.53 1496.7 3820.42 1499.3 Q3819.84 1499.97 3816.74 1503.19 Q3813.64 1506.38 3807.99 1512.14 Z\" fill=\"#000000\" fill-rule=\"evenodd\" fill-opacity=\"1\" /><path clip-path=\"url(#clip8400)\" d=\"M 0 0 M3830.19 1512.14 L3837.83 1512.14 L3837.83 1485.78 L3829.52 1487.44 L3829.52 1483.19 L3837.78 1481.52 L3842.46 1481.52 L3842.46 1512.14 L3850.1 1512.14 L3850.1 1516.08 L3830.19 1516.08 L3830.19 1512.14 Z\" fill=\"#000000\" fill-rule=\"evenodd\" fill-opacity=\"1\" /><path clip-path=\"url(#clip8400)\" d=\"M 0 0 M110.218 1428.51 L117.857 1428.51 L117.857 1402.14 L109.547 1403.81 L109.547 1399.55 L117.811 1397.88 L122.487 1397.88 L122.487 1428.51 L130.126 1428.51 L130.126 1432.44 L110.218 1432.44 L110.218 1428.51 Z\" fill=\"#000000\" fill-rule=\"evenodd\" fill-opacity=\"1\" /><path clip-path=\"url(#clip8400)\" d=\"M 0 0 M136.005 1428.51 L143.644 1428.51 L143.644 1402.14 L135.334 1403.81 L135.334 1399.55 L143.598 1397.88 L148.274 1397.88 L148.274 1428.51 L155.912 1428.51 L155.912 1432.44 L136.005 1432.44 L136.005 1428.51 Z\" fill=\"#000000\" fill-rule=\"evenodd\" fill-opacity=\"1\" /><path clip-path=\"url(#clip8400)\" d=\"M 0 0 M170.982 1400.96 Q167.371 1400.96 165.542 1404.53 Q163.737 1408.07 163.737 1415.2 Q163.737 1422.31 165.542 1425.87 Q167.371 1429.41 170.982 1429.41 Q174.616 1429.41 176.422 1425.87 Q178.25 1422.31 178.25 1415.2 Q178.25 1408.07 176.422 1404.53 Q174.616 1400.96 170.982 1400.96 M170.982 1397.26 Q176.792 1397.26 179.848 1401.87 Q182.926 1406.45 182.926 1415.2 Q182.926 1423.93 179.848 1428.53 Q176.792 1433.12 170.982 1433.12 Q165.172 1433.12 162.093 1428.53 Q159.037 1423.93 159.037 1415.2 Q159.037 1406.45 162.093 1401.87 Q165.172 1397.26 170.982 1397.26 Z\" fill=\"#000000\" fill-rule=\"evenodd\" fill-opacity=\"1\" /><path clip-path=\"url(#clip8400)\" d=\"M 0 0 M110.589 1059.6 L118.227 1059.6 L118.227 1033.23 L109.917 1034.9 L109.917 1030.64 L118.181 1028.97 L122.857 1028.97 L122.857 1059.6 L130.496 1059.6 L130.496 1063.53 L110.589 1063.53 L110.589 1059.6 Z\" fill=\"#000000\" fill-rule=\"evenodd\" fill-opacity=\"1\" /><path clip-path=\"url(#clip8400)\" d=\"M 0 0 M139.593 1059.6 L155.912 1059.6 L155.912 1063.53 L133.968 1063.53 L133.968 1059.6 Q136.63 1056.84 141.213 1052.21 Q145.82 1047.56 147 1046.22 Q149.246 1043.7 150.125 1041.96 Q151.028 1040.2 151.028 1038.51 Q151.028 1035.76 149.084 1034.02 Q147.163 1032.28 144.061 1032.28 Q141.862 1032.28 139.408 1033.05 Q136.977 1033.81 134.2 1035.36 L134.2 1030.64 Q137.024 1029.51 139.477 1028.93 Q141.931 1028.35 143.968 1028.35 Q149.338 1028.35 152.533 1031.03 Q155.727 1033.72 155.727 1038.21 Q155.727 1040.34 154.917 1042.26 Q154.13 1044.16 152.024 1046.75 Q151.445 1047.42 148.343 1050.64 Q145.241 1053.83 139.593 1059.6 Z\" fill=\"#000000\" fill-rule=\"evenodd\" fill-opacity=\"1\" /><path clip-path=\"url(#clip8400)\" d=\"M 0 0 M170.982 1032.05 Q167.371 1032.05 165.542 1035.62 Q163.737 1039.16 163.737 1046.29 Q163.737 1053.4 165.542 1056.96 Q167.371 1060.5 170.982 1060.5 Q174.616 1060.5 176.422 1056.96 Q178.25 1053.4 178.25 1046.29 Q178.25 1039.16 176.422 1035.62 Q174.616 1032.05 170.982 1032.05 M170.982 1028.35 Q176.792 1028.35 179.848 1032.96 Q182.926 1037.54 182.926 1046.29 Q182.926 1055.02 179.848 1059.62 Q176.792 1064.21 170.982 1064.21 Q165.172 1064.21 162.093 1059.62 Q159.037 1055.02 159.037 1046.29 Q159.037 1037.54 162.093 1032.96 Q165.172 1028.35 170.982 1028.35 Z\" fill=\"#000000\" fill-rule=\"evenodd\" fill-opacity=\"1\" /><path clip-path=\"url(#clip8400)\" d=\"M 0 0 M109.64 690.688 L117.278 690.688 L117.278 664.323 L108.968 665.989 L108.968 661.73 L117.232 660.063 L121.908 660.063 L121.908 690.688 L129.547 690.688 L129.547 694.623 L109.64 694.623 L109.64 690.688 Z\" fill=\"#000000\" fill-rule=\"evenodd\" fill-opacity=\"1\" /><path clip-path=\"url(#clip8400)\" d=\"M 0 0 M148.783 675.989 Q152.139 676.707 154.014 678.975 Q155.912 681.244 155.912 684.577 Q155.912 689.693 152.394 692.494 Q148.875 695.295 142.394 695.295 Q140.218 695.295 137.903 694.855 Q135.612 694.438 133.158 693.582 L133.158 689.068 Q135.102 690.202 137.417 690.781 Q139.732 691.359 142.255 691.359 Q146.653 691.359 148.945 689.623 Q151.26 687.887 151.26 684.577 Q151.26 681.522 149.107 679.809 Q146.977 678.072 143.158 678.072 L139.13 678.072 L139.13 674.23 L143.343 674.23 Q146.792 674.23 148.621 672.864 Q150.45 671.475 150.45 668.883 Q150.45 666.221 148.551 664.809 Q146.676 663.373 143.158 663.373 Q141.237 663.373 139.038 663.79 Q136.839 664.207 134.2 665.086 L134.2 660.92 Q136.862 660.179 139.176 659.809 Q141.514 659.438 143.575 659.438 Q148.899 659.438 152 661.869 Q155.102 664.276 155.102 668.397 Q155.102 671.267 153.459 673.258 Q151.815 675.225 148.783 675.989 Z\" fill=\"#000000\" fill-rule=\"evenodd\" fill-opacity=\"1\" /><path clip-path=\"url(#clip8400)\" d=\"M 0 0 M170.982 663.142 Q167.371 663.142 165.542 666.707 Q163.737 670.248 163.737 677.378 Q163.737 684.484 165.542 688.049 Q167.371 691.591 170.982 691.591 Q174.616 691.591 176.422 688.049 Q178.25 684.484 178.25 677.378 Q178.25 670.248 176.422 666.707 Q174.616 663.142 170.982 663.142 M170.982 659.438 Q176.792 659.438 179.848 664.045 Q182.926 668.628 182.926 677.378 Q182.926 686.105 179.848 690.711 Q176.792 695.295 170.982 695.295 Q165.172 695.295 162.093 690.711 Q159.037 686.105 159.037 677.378 Q159.037 668.628 162.093 664.045 Q165.172 659.438 170.982 659.438 Z\" fill=\"#000000\" fill-rule=\"evenodd\" fill-opacity=\"1\" /><path clip-path=\"url(#clip8400)\" d=\"M 0 0 M108.505 321.778 L116.144 321.778 L116.144 295.412 L107.834 297.079 L107.834 292.819 L116.098 291.153 L120.774 291.153 L120.774 321.778 L128.413 321.778 L128.413 325.713 L108.505 325.713 L108.505 321.778 Z\" fill=\"#000000\" fill-rule=\"evenodd\" fill-opacity=\"1\" /><path clip-path=\"url(#clip8400)\" d=\"M 0 0 M146.329 295.227 L134.524 313.676 L146.329 313.676 L146.329 295.227 M145.102 291.153 L150.982 291.153 L150.982 313.676 L155.912 313.676 L155.912 317.565 L150.982 317.565 L150.982 325.713 L146.329 325.713 L146.329 317.565 L130.727 317.565 L130.727 313.051 L145.102 291.153 Z\" fill=\"#000000\" fill-rule=\"evenodd\" fill-opacity=\"1\" /><path clip-path=\"url(#clip8400)\" d=\"M 0 0 M170.982 294.231 Q167.371 294.231 165.542 297.796 Q163.737 301.338 163.737 308.467 Q163.737 315.574 165.542 319.139 Q167.371 322.68 170.982 322.68 Q174.616 322.68 176.422 319.139 Q178.25 315.574 178.25 308.467 Q178.25 301.338 176.422 297.796 Q174.616 294.231 170.982 294.231 M170.982 290.528 Q176.792 290.528 179.848 295.134 Q182.926 299.718 182.926 308.467 Q182.926 317.194 179.848 321.801 Q176.792 326.384 170.982 326.384 Q165.172 326.384 162.093 321.801 Q159.037 317.194 159.037 308.467 Q159.037 299.718 162.093 295.134 Q165.172 290.528 170.982 290.528 Z\" fill=\"#000000\" fill-rule=\"evenodd\" fill-opacity=\"1\" /><path clip-path=\"url(#clip8400)\" d=\"M 0 0 M1993.21 1557.3 L1993.21 1567.42 L2005.27 1567.42 L2005.27 1571.97 L1993.21 1571.97 L1993.21 1591.33 Q1993.21 1595.69 1994.38 1596.93 Q1995.59 1598.17 1999.25 1598.17 L2005.27 1598.17 L2005.27 1603.07 L1999.25 1603.07 Q1992.47 1603.07 1989.9 1600.56 Q1987.32 1598.01 1987.32 1591.33 L1987.32 1571.97 L1983.02 1571.97 L1983.02 1567.42 L1987.32 1567.42 L1987.32 1557.3 L1993.21 1557.3 Z\" fill=\"#000000\" fill-rule=\"evenodd\" fill-opacity=\"1\" /><path clip-path=\"url(#clip8400)\" d=\"M 0 0 M2011.41 1567.42 L2017.27 1567.42 L2017.27 1603.07 L2011.41 1603.07 L2011.41 1567.42 M2011.41 1553.55 L2017.27 1553.55 L2017.27 1560.96 L2011.41 1560.96 L2011.41 1553.55 Z\" fill=\"#000000\" fill-rule=\"evenodd\" fill-opacity=\"1\" /><path clip-path=\"url(#clip8400)\" d=\"M 0 0 M2051.17 1574.27 Q2053.36 1570.32 2056.42 1568.44 Q2059.47 1566.56 2063.61 1566.56 Q2069.18 1566.56 2072.2 1570.48 Q2075.23 1574.36 2075.23 1581.55 L2075.23 1603.07 L2069.34 1603.07 L2069.34 1581.75 Q2069.34 1576.62 2067.52 1574.14 Q2065.71 1571.66 2061.99 1571.66 Q2057.44 1571.66 2054.79 1574.68 Q2052.15 1577.7 2052.15 1582.92 L2052.15 1603.07 L2046.26 1603.07 L2046.26 1581.75 Q2046.26 1576.59 2044.45 1574.14 Q2042.63 1571.66 2038.85 1571.66 Q2034.36 1571.66 2031.72 1574.71 Q2029.08 1577.74 2029.08 1582.92 L2029.08 1603.07 L2023.19 1603.07 L2023.19 1567.42 L2029.08 1567.42 L2029.08 1572.96 Q2031.08 1569.68 2033.88 1568.12 Q2036.68 1566.56 2040.53 1566.56 Q2044.42 1566.56 2047.12 1568.54 Q2049.86 1570.51 2051.17 1574.27 Z\" fill=\"#000000\" fill-rule=\"evenodd\" fill-opacity=\"1\" /><path clip-path=\"url(#clip8400)\" d=\"M 0 0 M2111.86 1583.78 L2111.86 1586.65 L2084.94 1586.65 Q2085.32 1592.69 2088.56 1595.88 Q2091.84 1599.03 2097.67 1599.03 Q2101.04 1599.03 2104.19 1598.2 Q2107.37 1597.37 2110.49 1595.72 L2110.49 1601.26 Q2107.34 1602.59 2104.03 1603.29 Q2100.72 1603.99 2097.32 1603.99 Q2088.79 1603.99 2083.79 1599.03 Q2078.82 1594.06 2078.82 1585.6 Q2078.82 1576.84 2083.53 1571.72 Q2088.28 1566.56 2096.3 1566.56 Q2103.49 1566.56 2107.66 1571.21 Q2111.86 1575.83 2111.86 1583.78 M2106.01 1582.06 Q2105.94 1577.26 2103.3 1574.39 Q2100.69 1571.53 2096.36 1571.53 Q2091.46 1571.53 2088.5 1574.3 Q2085.57 1577.07 2085.13 1582.1 L2106.01 1582.06 Z\" fill=\"#000000\" fill-rule=\"evenodd\" fill-opacity=\"1\" /><path clip-path=\"url(#clip8400)\" d=\"M 0 0 M18.7301 827.498 L18.7301 821.291 L48.6489 810.151 L18.7301 799.011 L18.7301 792.805 L54.378 806.173 L54.378 814.13 L18.7301 827.498 Z\" fill=\"#000000\" fill-rule=\"evenodd\" fill-opacity=\"1\" /><path clip-path=\"url(#clip8400)\" d=\"M 0 0 M36.4586 770.461 Q36.4586 777.559 38.0818 780.296 Q39.7051 783.034 43.62 783.034 Q46.7392 783.034 48.5852 780.997 Q50.3995 778.928 50.3995 775.395 Q50.3995 770.525 46.962 767.597 Q43.4927 764.637 37.7635 764.637 L36.4586 764.637 L36.4586 770.461 M34.0396 758.78 L54.378 758.78 L54.378 764.637 L48.9672 764.637 Q52.2137 766.642 53.7733 769.634 Q55.3011 772.626 55.3011 776.954 Q55.3011 782.429 52.2455 785.675 Q49.1582 788.89 44.0019 788.89 Q37.9863 788.89 34.9308 784.88 Q31.8753 780.837 31.8753 772.848 L31.8753 764.637 L31.3023 764.637 Q27.2601 764.637 25.064 767.31 Q22.836 769.952 22.836 774.758 Q22.836 777.814 23.568 780.71 Q24.3001 783.606 25.7642 786.28 L20.3533 786.28 Q19.112 783.065 18.5073 780.042 Q17.8707 777.018 17.8707 774.153 Q17.8707 766.419 21.8811 762.6 Q25.8915 758.78 34.0396 758.78 Z\" fill=\"#000000\" fill-rule=\"evenodd\" fill-opacity=\"1\" /><path clip-path=\"url(#clip8400)\" d=\"M 0 0 M4.85284 752.637 L4.85284 746.781 L54.378 746.781 L54.378 752.637 L4.85284 752.637 Z\" fill=\"#000000\" fill-rule=\"evenodd\" fill-opacity=\"1\" /><path clip-path=\"url(#clip8400)\" d=\"M 0 0 M40.3098 741.243 L18.7301 741.243 L18.7301 735.386 L40.087 735.386 Q45.1478 735.386 47.694 733.413 Q50.2085 731.439 50.2085 727.493 Q50.2085 722.75 47.1848 720.013 Q44.1611 717.244 38.9412 717.244 L18.7301 717.244 L18.7301 711.388 L54.378 711.388 L54.378 717.244 L48.9035 717.244 Q52.15 719.376 53.7415 722.209 Q55.3011 725.01 55.3011 728.734 Q55.3011 734.877 51.4816 738.06 Q47.6622 741.243 40.3098 741.243 M17.8707 726.506 L17.8707 726.506 Z\" fill=\"#000000\" fill-rule=\"evenodd\" fill-opacity=\"1\" /><path clip-path=\"url(#clip8400)\" d=\"M 0 0 M35.0899 674.753 L37.9545 674.753 L37.9545 701.68 Q44.0019 701.298 47.1848 698.051 Q50.3358 694.773 50.3358 688.948 Q50.3358 685.575 49.5083 682.424 Q48.6807 679.241 47.0256 676.121 L52.5638 676.121 Q53.9006 679.273 54.6008 682.583 Q55.3011 685.893 55.3011 689.299 Q55.3011 697.829 50.3358 702.826 Q45.3706 707.791 36.9042 707.791 Q28.1513 707.791 23.0269 703.08 Q17.8707 698.338 17.8707 690.317 Q17.8707 683.124 22.5177 678.954 Q27.1328 674.753 35.0899 674.753 M33.3712 680.609 Q28.5651 680.673 25.7005 683.315 Q22.836 685.925 22.836 690.253 Q22.836 695.155 25.605 698.115 Q28.3741 701.043 33.403 701.489 L33.3712 680.609 Z\" fill=\"#000000\" fill-rule=\"evenodd\" fill-opacity=\"1\" /><polyline clip-path=\"url(#clip8402)\" style=\"stroke:#009af9; stroke-width:4; stroke-opacity:1; fill:none\" points=\"\n",
       "  325.446,1046.25 354.632,1230.71 383.819,1230.71 413.005,1230.71 442.191,1193.82 471.378,1083.14 500.564,1193.82 529.75,1341.38 558.937,1378.27 588.123,1378.27 \n",
       "  617.31,1378.27 646.496,1415.16 675.682,1304.49 704.869,1341.38 734.055,1415.16 763.241,1341.38 792.428,1341.38 821.614,1341.38 850.8,1230.71 879.987,1230.71 \n",
       "  909.173,1156.93 938.359,1120.04 967.546,1230.71 996.732,1230.71 1025.92,1230.71 1055.1,1156.93 1084.29,1193.82 1113.48,1193.82 1142.66,1193.82 1171.85,1156.93 \n",
       "  1201.04,1156.93 1230.22,1156.93 1259.41,861.799 1288.6,861.799 1317.78,935.581 1346.97,1009.36 1376.15,972.472 1405.34,972.472 1434.53,972.472 1463.71,1046.25 \n",
       "  1492.9,1083.14 1522.09,1083.14 1551.27,1120.04 1580.46,1156.93 1609.65,1156.93 1638.83,1156.93 1668.02,1156.93 1697.2,1156.93 1726.39,1230.71 1755.58,1156.93 \n",
       "  1784.76,1341.38 1813.95,1341.38 1843.14,1341.38 1872.32,1378.27 1901.51,1378.27 1930.7,1193.82 1959.88,1046.25 1989.07,1083.14 2018.25,1083.14 2047.44,1083.14 \n",
       "  2076.63,972.472 2105.81,1120.04 2135,1046.25 2164.19,1009.36 2193.37,1046.25 2222.56,1046.25 2251.75,1046.25 2280.93,1009.36 2310.12,1009.36 2339.3,1046.25 \n",
       "  2368.49,1083.14 2397.68,1083.14 2426.86,1083.14 2456.05,1083.14 2485.24,1120.04 2514.42,1193.82 2543.61,1156.93 2572.8,1156.93 2601.98,1156.93 2631.17,1156.93 \n",
       "  2660.35,1156.93 2689.54,1009.36 2718.73,935.581 2747.91,935.581 2777.1,898.69 2806.29,935.581 2835.47,935.581 2864.66,935.581 2893.85,861.799 2923.03,861.799 \n",
       "  2952.22,861.799 2981.4,861.799 3010.59,861.799 3039.78,861.799 3068.96,861.799 3098.15,861.799 3127.34,861.799 3156.52,861.799 3185.71,861.799 3214.9,861.799 \n",
       "  3244.08,861.799 3273.27,861.799 3302.45,861.799 3331.64,861.799 3360.83,861.799 3390.01,861.799 3419.2,861.799 3448.39,861.799 3477.57,861.799 3506.76,861.799 \n",
       "  3535.95,861.799 3565.13,861.799 3594.32,861.799 3623.5,861.799 3652.69,861.799 3681.88,861.799 3711.06,861.799 3740.25,861.799 3769.44,861.799 \n",
       "  \"/>\n",
       "<polyline clip-path=\"url(#clip8402)\" style=\"stroke:#e26f46; stroke-width:4; stroke-opacity:1; fill:none\" points=\"\n",
       "  325.446,1083.14 354.632,1120.04 383.819,1193.82 413.005,1193.82 442.191,1230.71 471.378,1230.71 500.564,1230.71 529.75,1267.6 558.937,1267.6 588.123,1304.49 \n",
       "  617.31,1341.38 646.496,1378.27 675.682,1378.27 704.869,1341.38 734.055,1341.38 763.241,1341.38 792.428,1304.49 821.614,1304.49 850.8,1304.49 879.987,1267.6 \n",
       "  909.173,1230.71 938.359,1193.82 967.546,1156.93 996.732,1156.93 1025.92,1156.93 1055.1,1156.93 1084.29,1156.93 1113.48,1156.93 1142.66,1156.93 1171.85,1120.04 \n",
       "  1201.04,1120.04 1230.22,1120.04 1259.41,1083.14 1288.6,1009.36 1317.78,972.472 1346.97,972.472 1376.15,935.581 1405.34,972.472 1434.53,972.472 1463.71,1009.36 \n",
       "  1492.9,1009.36 1522.09,1046.25 1551.27,1083.14 1580.46,1120.04 1609.65,1120.04 1638.83,1156.93 1668.02,1156.93 1697.2,1156.93 1726.39,1193.82 1755.58,1304.49 \n",
       "  1784.76,1304.49 1813.95,1267.6 1843.14,1267.6 1872.32,1230.71 1901.51,1267.6 1930.7,1267.6 1959.88,1193.82 1989.07,1156.93 2018.25,1120.04 2047.44,1083.14 \n",
       "  2076.63,1046.25 2105.81,1046.25 2135,1046.25 2164.19,1046.25 2193.37,1046.25 2222.56,1046.25 2251.75,1046.25 2280.93,1046.25 2310.12,1046.25 2339.3,1046.25 \n",
       "  2368.49,1046.25 2397.68,1046.25 2426.86,1083.14 2456.05,1083.14 2485.24,1120.04 2514.42,1120.04 2543.61,1156.93 2572.8,1156.93 2601.98,1156.93 2631.17,1156.93 \n",
       "  2660.35,1120.04 2689.54,1083.14 2718.73,1009.36 2747.91,972.472 2777.1,898.69 2806.29,861.799 2835.47,824.908 2864.66,788.016 2893.85,788.016 2923.03,751.125 \n",
       "  2952.22,714.234 2981.4,714.234 3010.59,677.343 3039.78,640.452 3068.96,640.452 3098.15,603.561 3127.34,603.561 3156.52,566.67 3185.71,566.67 3214.9,529.779 \n",
       "  3244.08,529.779 3273.27,492.888 3302.45,492.888 3331.64,455.997 3360.83,455.997 3390.01,419.106 3419.2,419.106 3448.39,382.215 3477.57,382.215 3506.76,345.324 \n",
       "  3535.95,308.433 3565.13,308.433 3594.32,271.542 3623.5,234.651 3652.69,197.76 3681.88,160.869 3711.06,160.869 3740.25,123.977 3769.44,87.0864 \n",
       "  \"/>\n",
       "<polyline clip-path=\"url(#clip8402)\" style=\"stroke:#3da44d; stroke-width:4; stroke-opacity:1; fill:none\" points=\"\n",
       "  2937.62,2862.77 2937.62,-1360.52 \n",
       "  \"/>\n",
       "<path clip-path=\"url(#clip8400)\" d=\"\n",
       "M3030.03 1219.81 L3755.16 1219.81 L3755.16 977.887 L3030.03 977.887  Z\n",
       "  \" fill=\"#ffffff\" fill-rule=\"evenodd\" fill-opacity=\"1\"/>\n",
       "<polyline clip-path=\"url(#clip8400)\" style=\"stroke:#000000; stroke-width:4; stroke-opacity:1; fill:none\" points=\"\n",
       "  3030.03,1219.81 3755.16,1219.81 3755.16,977.887 3030.03,977.887 3030.03,1219.81 \n",
       "  \"/>\n",
       "<polyline clip-path=\"url(#clip8400)\" style=\"stroke:#009af9; stroke-width:4; stroke-opacity:1; fill:none\" points=\"\n",
       "  3069.23,1038.37 3304.43,1038.37 \n",
       "  \"/>\n",
       "<path clip-path=\"url(#clip8400)\" d=\"M 0 0 M3359.47 1025.69 L3353.12 1042.89 L3365.83 1042.89 L3359.47 1025.69 M3356.83 1021.09 L3362.13 1021.09 L3375.3 1055.65 L3370.44 1055.65 L3367.29 1046.78 L3351.71 1046.78 L3348.56 1055.65 L3343.63 1055.65 L3356.83 1021.09 Z\" fill=\"#000000\" fill-rule=\"evenodd\" fill-opacity=\"1\" /><path clip-path=\"url(#clip8400)\" d=\"M 0 0 M3392.82 1025.69 L3386.48 1042.89 L3399.19 1042.89 L3392.82 1025.69 M3390.18 1021.09 L3395.48 1021.09 L3408.66 1055.65 L3403.79 1055.65 L3400.65 1046.78 L3385.07 1046.78 L3381.92 1055.65 L3376.99 1055.65 L3390.18 1021.09 Z\" fill=\"#000000\" fill-rule=\"evenodd\" fill-opacity=\"1\" /><path clip-path=\"url(#clip8400)\" d=\"M 0 0 M3417.98 1024.93 L3417.98 1037.92 L3423.86 1037.92 Q3427.13 1037.92 3428.91 1036.23 Q3430.69 1034.54 3430.69 1031.41 Q3430.69 1028.31 3428.91 1026.62 Q3427.13 1024.93 3423.86 1024.93 L3417.98 1024.93 M3413.31 1021.09 L3423.86 1021.09 Q3429.67 1021.09 3432.64 1023.73 Q3435.62 1026.34 3435.62 1031.41 Q3435.62 1036.53 3432.64 1039.14 Q3429.67 1041.76 3423.86 1041.76 L3417.98 1041.76 L3417.98 1055.65 L3413.31 1055.65 L3413.31 1021.09 Z\" fill=\"#000000\" fill-rule=\"evenodd\" fill-opacity=\"1\" /><path clip-path=\"url(#clip8400)\" d=\"M 0 0 M3440.28 1021.09 L3444.95 1021.09 L3444.95 1051.71 L3461.78 1051.71 L3461.78 1055.65 L3440.28 1055.65 L3440.28 1021.09 Z\" fill=\"#000000\" fill-rule=\"evenodd\" fill-opacity=\"1\" /><polyline clip-path=\"url(#clip8400)\" style=\"stroke:#e26f46; stroke-width:4; stroke-opacity:1; fill:none\" points=\"\n",
       "  3069.23,1098.85 3304.43,1098.85 \n",
       "  \"/>\n",
       "<path clip-path=\"url(#clip8400)\" d=\"M 0 0 M3347.92 1112.24 L3347.92 1125.99 L3343.63 1125.99 L3343.63 1090.2 L3347.92 1090.2 L3347.92 1094.14 Q3349.26 1091.82 3351.29 1090.71 Q3353.35 1089.58 3356.2 1089.58 Q3360.92 1089.58 3363.86 1093.33 Q3366.83 1097.08 3366.83 1103.19 Q3366.83 1109.3 3363.86 1113.05 Q3360.92 1116.8 3356.2 1116.8 Q3353.35 1116.8 3351.29 1115.69 Q3349.26 1114.55 3347.92 1112.24 M3362.41 1103.19 Q3362.41 1098.49 3360.46 1095.83 Q3358.54 1093.14 3355.16 1093.14 Q3351.78 1093.14 3349.84 1095.83 Q3347.92 1098.49 3347.92 1103.19 Q3347.92 1107.89 3349.84 1110.57 Q3351.78 1113.23 3355.16 1113.23 Q3358.54 1113.23 3360.46 1110.57 Q3362.41 1107.89 3362.41 1103.19 Z\" fill=\"#000000\" fill-rule=\"evenodd\" fill-opacity=\"1\" /><path clip-path=\"url(#clip8400)\" d=\"M 0 0 M3386.32 1094.18 Q3385.6 1093.77 3384.74 1093.58 Q3383.91 1093.37 3382.89 1093.37 Q3379.28 1093.37 3377.34 1095.73 Q3375.41 1098.07 3375.41 1102.47 L3375.41 1116.13 L3371.13 1116.13 L3371.13 1090.2 L3375.41 1090.2 L3375.41 1094.23 Q3376.76 1091.87 3378.91 1090.73 Q3381.06 1089.58 3384.14 1089.58 Q3384.58 1089.58 3385.11 1089.65 Q3385.65 1089.69 3386.29 1089.81 L3386.32 1094.18 Z\" fill=\"#000000\" fill-rule=\"evenodd\" fill-opacity=\"1\" /><path clip-path=\"url(#clip8400)\" d=\"M 0 0 M3411.92 1102.1 L3411.92 1104.18 L3392.34 1104.18 Q3392.61 1108.58 3394.98 1110.9 Q3397.36 1113.19 3401.6 1113.19 Q3404.05 1113.19 3406.34 1112.59 Q3408.66 1111.98 3410.92 1110.78 L3410.92 1114.81 Q3408.63 1115.78 3406.22 1116.29 Q3403.82 1116.8 3401.34 1116.8 Q3395.14 1116.8 3391.5 1113.19 Q3387.89 1109.58 3387.89 1103.42 Q3387.89 1097.05 3391.32 1093.33 Q3394.77 1089.58 3400.6 1089.58 Q3405.83 1089.58 3408.86 1092.96 Q3411.92 1096.31 3411.92 1102.1 M3407.66 1100.85 Q3407.61 1097.35 3405.69 1095.27 Q3403.79 1093.19 3400.65 1093.19 Q3397.08 1093.19 3394.93 1095.2 Q3392.8 1097.21 3392.48 1100.87 L3407.66 1100.85 Z\" fill=\"#000000\" fill-rule=\"evenodd\" fill-opacity=\"1\" /><path clip-path=\"url(#clip8400)\" d=\"M 0 0 M3433.45 1094.14 L3433.45 1080.11 L3437.71 1080.11 L3437.71 1116.13 L3433.45 1116.13 L3433.45 1112.24 Q3432.1 1114.55 3430.04 1115.69 Q3428.01 1116.8 3425.14 1116.8 Q3420.44 1116.8 3417.47 1113.05 Q3414.54 1109.3 3414.54 1103.19 Q3414.54 1097.08 3417.47 1093.33 Q3420.44 1089.58 3425.14 1089.58 Q3428.01 1089.58 3430.04 1090.71 Q3432.1 1091.82 3433.45 1094.14 M3418.93 1103.19 Q3418.93 1107.89 3420.85 1110.57 Q3422.8 1113.23 3426.18 1113.23 Q3429.56 1113.23 3431.5 1110.57 Q3433.45 1107.89 3433.45 1103.19 Q3433.45 1098.49 3431.5 1095.83 Q3429.56 1093.14 3426.18 1093.14 Q3422.8 1093.14 3420.85 1095.83 Q3418.93 1098.49 3418.93 1103.19 Z\" fill=\"#000000\" fill-rule=\"evenodd\" fill-opacity=\"1\" /><path clip-path=\"url(#clip8400)\" d=\"M 0 0 M3442.17 1090.2 L3446.43 1090.2 L3446.43 1116.13 L3442.17 1116.13 L3442.17 1090.2 M3442.17 1080.11 L3446.43 1080.11 L3446.43 1085.5 L3442.17 1085.5 L3442.17 1080.11 Z\" fill=\"#000000\" fill-rule=\"evenodd\" fill-opacity=\"1\" /><path clip-path=\"url(#clip8400)\" d=\"M 0 0 M3455.11 1082.84 L3455.11 1090.2 L3463.89 1090.2 L3463.89 1093.51 L3455.11 1093.51 L3455.11 1107.59 Q3455.11 1110.76 3455.97 1111.66 Q3456.85 1112.56 3459.51 1112.56 L3463.89 1112.56 L3463.89 1116.13 L3459.51 1116.13 Q3454.58 1116.13 3452.71 1114.3 Q3450.83 1112.45 3450.83 1107.59 L3450.83 1093.51 L3447.71 1093.51 L3447.71 1090.2 L3450.83 1090.2 L3450.83 1082.84 L3455.11 1082.84 Z\" fill=\"#000000\" fill-rule=\"evenodd\" fill-opacity=\"1\" /><path clip-path=\"url(#clip8400)\" d=\"M 0 0 M3468.35 1090.2 L3472.61 1090.2 L3472.61 1116.13 L3468.35 1116.13 L3468.35 1090.2 M3468.35 1080.11 L3472.61 1080.11 L3472.61 1085.5 L3468.35 1085.5 L3468.35 1080.11 Z\" fill=\"#000000\" fill-rule=\"evenodd\" fill-opacity=\"1\" /><path clip-path=\"url(#clip8400)\" d=\"M 0 0 M3487.13 1093.19 Q3483.7 1093.19 3481.71 1095.87 Q3479.72 1098.53 3479.72 1103.19 Q3479.72 1107.84 3481.69 1110.52 Q3483.68 1113.19 3487.13 1113.19 Q3490.53 1113.19 3492.52 1110.5 Q3494.51 1107.82 3494.51 1103.19 Q3494.51 1098.58 3492.52 1095.9 Q3490.53 1093.19 3487.13 1093.19 M3487.13 1089.58 Q3492.68 1089.58 3495.85 1093.19 Q3499.03 1096.8 3499.03 1103.19 Q3499.03 1109.55 3495.85 1113.19 Q3492.68 1116.8 3487.13 1116.8 Q3481.55 1116.8 3478.38 1113.19 Q3475.23 1109.55 3475.23 1103.19 Q3475.23 1096.8 3478.38 1093.19 Q3481.55 1089.58 3487.13 1089.58 Z\" fill=\"#000000\" fill-rule=\"evenodd\" fill-opacity=\"1\" /><path clip-path=\"url(#clip8400)\" d=\"M 0 0 M3525.04 1100.48 L3525.04 1116.13 L3520.78 1116.13 L3520.78 1100.62 Q3520.78 1096.94 3519.35 1095.11 Q3517.91 1093.28 3515.04 1093.28 Q3511.59 1093.28 3509.6 1095.48 Q3507.61 1097.68 3507.61 1101.47 L3507.61 1116.13 L3503.33 1116.13 L3503.33 1090.2 L3507.61 1090.2 L3507.61 1094.23 Q3509.14 1091.89 3511.2 1090.73 Q3513.28 1089.58 3515.99 1089.58 Q3520.46 1089.58 3522.75 1092.35 Q3525.04 1095.11 3525.04 1100.48 Z\" fill=\"#000000\" fill-rule=\"evenodd\" fill-opacity=\"1\" /><path clip-path=\"url(#clip8400)\" d=\"M 0 0 M3546.04 1090.96 L3546.04 1094.99 Q3544.23 1094.07 3542.29 1093.6 Q3540.34 1093.14 3538.26 1093.14 Q3535.09 1093.14 3533.49 1094.11 Q3531.92 1095.09 3531.92 1097.03 Q3531.92 1098.51 3533.05 1099.37 Q3534.19 1100.2 3537.61 1100.96 L3539.07 1101.29 Q3543.61 1102.26 3545.51 1104.04 Q3547.43 1105.8 3547.43 1108.97 Q3547.43 1112.59 3544.56 1114.69 Q3541.71 1116.8 3536.71 1116.8 Q3534.63 1116.8 3532.36 1116.38 Q3530.11 1115.99 3527.61 1115.18 L3527.61 1110.78 Q3529.97 1112.01 3532.27 1112.63 Q3534.56 1113.23 3536.8 1113.23 Q3539.81 1113.23 3541.43 1112.21 Q3543.05 1111.17 3543.05 1109.3 Q3543.05 1107.56 3541.87 1106.64 Q3540.71 1105.71 3536.76 1104.85 L3535.28 1104.51 Q3531.32 1103.67 3529.56 1101.96 Q3527.8 1100.22 3527.8 1097.21 Q3527.8 1093.56 3530.39 1091.57 Q3532.98 1089.58 3537.75 1089.58 Q3540.11 1089.58 3542.2 1089.92 Q3544.28 1090.27 3546.04 1090.96 Z\" fill=\"#000000\" fill-rule=\"evenodd\" fill-opacity=\"1\" /><polyline clip-path=\"url(#clip8400)\" style=\"stroke:#3da44d; stroke-width:4; stroke-opacity:1; fill:none\" points=\"\n",
       "  3069.23,1159.33 3304.43,1159.33 \n",
       "  \"/>\n",
       "<path clip-path=\"url(#clip8400)\" d=\"M 0 0 M3351.04 1143.32 L3351.04 1150.68 L3359.81 1150.68 L3359.81 1153.99 L3351.04 1153.99 L3351.04 1168.07 Q3351.04 1171.24 3351.9 1172.14 Q3352.78 1173.04 3355.44 1173.04 L3359.81 1173.04 L3359.81 1176.61 L3355.44 1176.61 Q3350.51 1176.61 3348.63 1174.78 Q3346.76 1172.93 3346.76 1168.07 L3346.76 1153.99 L3343.63 1153.99 L3343.63 1150.68 L3346.76 1150.68 L3346.76 1143.32 L3351.04 1143.32 Z\" fill=\"#000000\" fill-rule=\"evenodd\" fill-opacity=\"1\" /><path clip-path=\"url(#clip8400)\" d=\"M 0 0 M3374.33 1153.67 Q3370.9 1153.67 3368.91 1156.35 Q3366.92 1159.01 3366.92 1163.67 Q3366.92 1168.32 3368.89 1171 Q3370.88 1173.67 3374.33 1173.67 Q3377.73 1173.67 3379.72 1170.98 Q3381.71 1168.3 3381.71 1163.67 Q3381.71 1159.06 3379.72 1156.38 Q3377.73 1153.67 3374.33 1153.67 M3374.33 1150.06 Q3379.88 1150.06 3383.05 1153.67 Q3386.23 1157.28 3386.23 1163.67 Q3386.23 1170.03 3383.05 1173.67 Q3379.88 1177.28 3374.33 1177.28 Q3368.75 1177.28 3365.58 1173.67 Q3362.43 1170.03 3362.43 1163.67 Q3362.43 1157.28 3365.58 1153.67 Q3368.75 1150.06 3374.33 1150.06 Z\" fill=\"#000000\" fill-rule=\"evenodd\" fill-opacity=\"1\" /><path clip-path=\"url(#clip8400)\" d=\"M 0 0 M3407.75 1154.62 L3407.75 1140.59 L3412.01 1140.59 L3412.01 1176.61 L3407.75 1176.61 L3407.75 1172.72 Q3406.41 1175.03 3404.35 1176.17 Q3402.31 1177.28 3399.44 1177.28 Q3394.74 1177.28 3391.78 1173.53 Q3388.84 1169.78 3388.84 1163.67 Q3388.84 1157.56 3391.78 1153.81 Q3394.74 1150.06 3399.44 1150.06 Q3402.31 1150.06 3404.35 1151.19 Q3406.41 1152.3 3407.75 1154.62 M3393.24 1163.67 Q3393.24 1168.37 3395.16 1171.05 Q3397.1 1173.71 3400.48 1173.71 Q3403.86 1173.71 3405.81 1171.05 Q3407.75 1168.37 3407.75 1163.67 Q3407.75 1158.97 3405.81 1156.31 Q3403.86 1153.62 3400.48 1153.62 Q3397.1 1153.62 3395.16 1156.31 Q3393.24 1158.97 3393.24 1163.67 Z\" fill=\"#000000\" fill-rule=\"evenodd\" fill-opacity=\"1\" /><path clip-path=\"url(#clip8400)\" d=\"M 0 0 M3428.26 1163.57 Q3423.1 1163.57 3421.11 1164.75 Q3419.12 1165.94 3419.12 1168.78 Q3419.12 1171.05 3420.6 1172.39 Q3422.1 1173.71 3424.67 1173.71 Q3428.22 1173.71 3430.35 1171.21 Q3432.5 1168.69 3432.5 1164.52 L3432.5 1163.57 L3428.26 1163.57 M3436.76 1161.82 L3436.76 1176.61 L3432.5 1176.61 L3432.5 1172.67 Q3431.04 1175.03 3428.86 1176.17 Q3426.69 1177.28 3423.54 1177.28 Q3419.56 1177.28 3417.2 1175.06 Q3414.86 1172.81 3414.86 1169.06 Q3414.86 1164.69 3417.78 1162.46 Q3420.72 1160.24 3426.53 1160.24 L3432.5 1160.24 L3432.5 1159.82 Q3432.5 1156.88 3430.55 1155.29 Q3428.63 1153.67 3425.14 1153.67 Q3422.91 1153.67 3420.81 1154.2 Q3418.7 1154.73 3416.76 1155.8 L3416.76 1151.86 Q3419.1 1150.96 3421.29 1150.52 Q3423.49 1150.06 3425.58 1150.06 Q3431.2 1150.06 3433.98 1152.97 Q3436.76 1155.89 3436.76 1161.82 Z\" fill=\"#000000\" fill-rule=\"evenodd\" fill-opacity=\"1\" /><path clip-path=\"url(#clip8400)\" d=\"M 0 0 M3452.01 1179.01 Q3450.21 1183.64 3448.49 1185.06 Q3446.78 1186.47 3443.91 1186.47 L3440.51 1186.47 L3440.51 1182.9 L3443.01 1182.9 Q3444.77 1182.9 3445.74 1182.07 Q3446.71 1181.24 3447.89 1178.13 L3448.66 1176.19 L3438.17 1150.68 L3442.68 1150.68 L3450.78 1170.96 L3458.89 1150.68 L3463.4 1150.68 L3452.01 1179.01 Z\" fill=\"#000000\" fill-rule=\"evenodd\" fill-opacity=\"1\" /><path clip-path=\"url(#clip8400)\" d=\"M 0 0 M3487.8 1145.89 L3487.8 1172.76 L3493.45 1172.76 Q3500.6 1172.76 3503.91 1169.52 Q3507.24 1166.28 3507.24 1159.29 Q3507.24 1152.35 3503.91 1149.13 Q3500.6 1145.89 3493.45 1145.89 L3487.8 1145.89 M3483.12 1142.05 L3492.73 1142.05 Q3502.78 1142.05 3507.47 1146.24 Q3512.17 1150.4 3512.17 1159.29 Q3512.17 1168.23 3507.45 1172.42 Q3502.73 1176.61 3492.73 1176.61 L3483.12 1176.61 L3483.12 1142.05 Z\" fill=\"#000000\" fill-rule=\"evenodd\" fill-opacity=\"1\" /><path clip-path=\"url(#clip8400)\" d=\"M 0 0 M3538.82 1162.58 L3538.82 1164.66 L3519.23 1164.66 Q3519.51 1169.06 3521.87 1171.38 Q3524.26 1173.67 3528.49 1173.67 Q3530.95 1173.67 3533.24 1173.07 Q3535.55 1172.46 3537.82 1171.26 L3537.82 1175.29 Q3535.53 1176.26 3533.12 1176.77 Q3530.72 1177.28 3528.24 1177.28 Q3522.03 1177.28 3518.4 1173.67 Q3514.79 1170.06 3514.79 1163.9 Q3514.79 1157.53 3518.22 1153.81 Q3521.66 1150.06 3527.5 1150.06 Q3532.73 1150.06 3535.76 1153.44 Q3538.82 1156.79 3538.82 1162.58 M3534.56 1161.33 Q3534.51 1157.83 3532.59 1155.75 Q3530.69 1153.67 3527.54 1153.67 Q3523.98 1153.67 3521.83 1155.68 Q3519.7 1157.69 3519.37 1161.35 L3534.56 1161.33 Z\" fill=\"#000000\" fill-rule=\"evenodd\" fill-opacity=\"1\" /><path clip-path=\"url(#clip8400)\" d=\"M 0 0 M3561.94 1151.68 L3561.94 1155.66 Q3560.14 1154.66 3558.31 1154.18 Q3556.5 1153.67 3554.65 1153.67 Q3550.51 1153.67 3548.21 1156.31 Q3545.92 1158.92 3545.92 1163.67 Q3545.92 1168.41 3548.21 1171.05 Q3550.51 1173.67 3554.65 1173.67 Q3556.5 1173.67 3558.31 1173.18 Q3560.14 1172.67 3561.94 1171.68 L3561.94 1175.61 Q3560.16 1176.44 3558.24 1176.86 Q3556.34 1177.28 3554.19 1177.28 Q3548.33 1177.28 3544.88 1173.6 Q3541.43 1169.92 3541.43 1163.67 Q3541.43 1157.32 3544.9 1153.69 Q3548.4 1150.06 3554.46 1150.06 Q3556.43 1150.06 3558.31 1150.47 Q3560.18 1150.87 3561.94 1151.68 Z\" fill=\"#000000\" fill-rule=\"evenodd\" fill-opacity=\"1\" /><path clip-path=\"url(#clip8400)\" d=\"M 0 0 M3567.01 1170.73 L3571.9 1170.73 L3571.9 1176.61 L3567.01 1176.61 L3567.01 1170.73 Z\" fill=\"#000000\" fill-rule=\"evenodd\" fill-opacity=\"1\" /><path clip-path=\"url(#clip8400)\" d=\"M 0 0 M3586.96 1160.19 Q3583.63 1160.19 3581.71 1161.98 Q3579.81 1163.76 3579.81 1166.88 Q3579.81 1170.01 3581.71 1171.79 Q3583.63 1173.57 3586.96 1173.57 Q3590.3 1173.57 3592.22 1171.79 Q3594.14 1169.99 3594.14 1166.88 Q3594.14 1163.76 3592.22 1161.98 Q3590.32 1160.19 3586.96 1160.19 M3582.29 1158.2 Q3579.28 1157.46 3577.59 1155.4 Q3575.92 1153.34 3575.92 1150.38 Q3575.92 1146.24 3578.86 1143.83 Q3581.83 1141.42 3586.96 1141.42 Q3592.13 1141.42 3595.07 1143.83 Q3598.01 1146.24 3598.01 1150.38 Q3598.01 1153.34 3596.32 1155.4 Q3594.65 1157.46 3591.66 1158.2 Q3595.04 1158.99 3596.92 1161.28 Q3598.82 1163.57 3598.82 1166.88 Q3598.82 1171.91 3595.74 1174.59 Q3592.68 1177.28 3586.96 1177.28 Q3581.25 1177.28 3578.17 1174.59 Q3575.11 1171.91 3575.11 1166.88 Q3575.11 1163.57 3577.01 1161.28 Q3578.91 1158.99 3582.29 1158.2 M3580.58 1150.82 Q3580.58 1153.51 3582.24 1155.01 Q3583.93 1156.51 3586.96 1156.51 Q3589.97 1156.51 3591.66 1155.01 Q3593.38 1153.51 3593.38 1150.82 Q3593.38 1148.13 3591.66 1146.63 Q3589.97 1145.13 3586.96 1145.13 Q3583.93 1145.13 3582.24 1146.63 Q3580.58 1148.13 3580.58 1150.82 Z\" fill=\"#000000\" fill-rule=\"evenodd\" fill-opacity=\"1\" /><path clip-path=\"url(#clip8400)\" d=\"M 0 0 M3604.37 1170.73 L3609.26 1170.73 L3609.26 1174.71 L3605.46 1182.12 L3602.47 1182.12 L3604.37 1174.71 L3604.37 1170.73 Z\" fill=\"#000000\" fill-rule=\"evenodd\" fill-opacity=\"1\" /><path clip-path=\"url(#clip8400)\" d=\"M 0 0 M3633.42 1172.67 L3649.74 1172.67 L3649.74 1176.61 L3627.8 1176.61 L3627.8 1172.67 Q3630.46 1169.92 3635.04 1165.29 Q3639.65 1160.63 3640.83 1159.29 Q3643.08 1156.77 3643.96 1155.03 Q3644.86 1153.27 3644.86 1151.58 Q3644.86 1148.83 3642.91 1147.09 Q3640.99 1145.36 3637.89 1145.36 Q3635.69 1145.36 3633.24 1146.12 Q3630.81 1146.88 3628.03 1148.44 L3628.03 1143.71 Q3630.85 1142.58 3633.31 1142 Q3635.76 1141.42 3637.8 1141.42 Q3643.17 1141.42 3646.36 1144.11 Q3649.56 1146.79 3649.56 1151.28 Q3649.56 1153.41 3648.75 1155.33 Q3647.96 1157.23 3645.85 1159.82 Q3645.27 1160.5 3642.17 1163.71 Q3639.07 1166.91 3633.42 1172.67 Z\" fill=\"#000000\" fill-rule=\"evenodd\" fill-opacity=\"1\" /><path clip-path=\"url(#clip8400)\" d=\"M 0 0 M3664.81 1145.13 Q3661.2 1145.13 3659.37 1148.69 Q3657.57 1152.23 3657.57 1159.36 Q3657.57 1166.47 3659.37 1170.03 Q3661.2 1173.57 3664.81 1173.57 Q3668.45 1173.57 3670.25 1170.03 Q3672.08 1166.47 3672.08 1159.36 Q3672.08 1152.23 3670.25 1148.69 Q3668.45 1145.13 3664.81 1145.13 M3664.81 1141.42 Q3670.62 1141.42 3673.68 1146.03 Q3676.76 1150.61 3676.76 1159.36 Q3676.76 1168.09 3673.68 1172.69 Q3670.62 1177.28 3664.81 1177.28 Q3659 1177.28 3655.92 1172.69 Q3652.87 1168.09 3652.87 1159.36 Q3652.87 1150.61 3655.92 1146.03 Q3659 1141.42 3664.81 1141.42 Z\" fill=\"#000000\" fill-rule=\"evenodd\" fill-opacity=\"1\" /></svg>\n"
      ]
     },
     "execution_count": 14,
     "metadata": {},
     "output_type": "execute_result"
    }
   ],
   "source": [
    "using Plots\n",
    "\n",
    "#dates = format_dates( df[rows,2] , \"m/d/yy\")\n",
    "\n",
    "gr()\n",
    "plot(    x_axis_dates,\n",
    "        [  y_axis_original y_axis_predicted \n",
    "        ], # y-axis\n",
    "    label    = \n",
    "        [ symbol_to_predict \"preditions\"  \"\" ],\n",
    "    legend   =:bottomright, \n",
    "              # :right, :left, :top, :bottom, :inside, :best, :legend, :topright, :topleft, :bottomleft, :bottomright\n",
    "    xlabel   = \"time\",\n",
    "    ylabel   = \"value\",\n",
    "    size     = (980, 400), # width, height\n",
    "    layout = (1, 1), # number of graphs: vertically, horizontally\n",
    "    )\n",
    "## Add veritical today line\n",
    "plot!([today_id], seriestype=\"vline\", label=[ \"today \"*t \"\" ],)\n"
   ]
  },
  {
   "cell_type": "code",
   "execution_count": 15,
   "metadata": {
    "ExecuteTime": {
     "end_time": "2020-12-08T21:23:15.856000-05:00",
     "start_time": "2020-12-09T02:23:15.794Z"
    }
   },
   "outputs": [],
   "source": [
    "savefig(\"../../predictions_\" * symbol_to_predict * \".png\")"
   ]
  },
  {
   "cell_type": "code",
   "execution_count": 13,
   "metadata": {
    "ExecuteTime": {
     "end_time": "2020-12-08T21:22:49.133000-05:00",
     "start_time": "2020-12-09T02:21:54.852Z"
    }
   },
   "outputs": [
    {
     "name": "stdout",
     "output_type": "stream",
     "text": [
      "AAPL 2020-12-08\n",
      "Wed, 2020-12-02\t predicted 122.0\t, but actual value was \t123.0\t difference is 1.0\n",
      "Thu, 2020-12-03\t predicted 124.0\t, but actual value was \t124.0\t difference is 0.0\n",
      "Fri, 2020-12-04\t predicted 125.0\t, but actual value was \t123.0\t difference is -2.0\n",
      "Sat, 2020-12-05\t predicted 126.0\t, but actual value was \t123.0\t difference is -3.0\n",
      "Sun, 2020-12-06\t predicted 127.0\t, but actual value was \t123.0\t difference is -4.0\n",
      "Mon, 2020-12-07\t predicted 127.0\t, but actual value was \t125.0\t difference is -2.0\n",
      "Tue, 2020-12-08\t predicted 128.0\n",
      "Wed, 2020-12-09\t predicted 129.0\n",
      "Thu, 2020-12-10\t predicted 129.0\n"
     ]
    }
   ],
   "source": [
    "## print prediction comparisons\n",
    "println(symbol_to_predict, \" \", today())\n",
    "\n",
    "file_path = \"../DATA/\" * symbol_to_predict * \"_pedictions.csv\"\n",
    "open( file_path, \"a\") do file_handle # append\n",
    "    \n",
    "    for id in finem-35:finem\n",
    "        if id < today_id + 3\n",
    "            row = get(data_predictions, id) # get a dictionary of data from the SFrame\n",
    "            date_string = row[\"Date\"] # e.g. \"2020-10-20\"\n",
    "\n",
    "            a = y_axis_predicted[id]\n",
    "            b = y_axis_original[id]\n",
    "            d = round(b-a, digits=3)\n",
    "            date = convert(String, Dates.format( Date(date_string), \"e, yyyy-mm-dd\" ) )\n",
    "            if id < today_id\n",
    "                println( date, \"\\t predicted \", a , \"\\t, but actual value was \\t\", b , \"\\t difference is \",  d  ) # di\n",
    "            else\n",
    "                println( date, \"\\t predicted \", a  ) # \n",
    "\n",
    "                txt_to_save =  \n",
    "                    convert(String, Dates.format( today(), \"yyyy-mm-dd\" ) ) *\",\"* \n",
    "                    convert(String, symbol_to_predict) *\",\"* \n",
    "                    date_string *\",\"* \n",
    "                    string(a) * \"\\n\"\n",
    "                \n",
    "                write(file_handle, txt_to_save )\n",
    "                \n",
    "            end # if\n",
    "        end #if \n",
    "    end # for\n",
    "end # open file"
   ]
  },
  {
   "cell_type": "code",
   "execution_count": null,
   "metadata": {},
   "outputs": [],
   "source": []
  },
  {
   "cell_type": "code",
   "execution_count": null,
   "metadata": {},
   "outputs": [],
   "source": []
  }
 ],
 "metadata": {
  "kernelspec": {
   "display_name": "Julia 1.5.1",
   "language": "julia",
   "name": "julia-1.5"
  },
  "language_info": {
   "file_extension": ".jl",
   "mimetype": "application/julia",
   "name": "julia",
   "version": "1.5.1"
  },
  "toc": {
   "base_numbering": 1,
   "nav_menu": {},
   "number_sections": true,
   "sideBar": true,
   "skip_h1_title": true,
   "title_cell": "Table of Contents",
   "title_sidebar": "Contents",
   "toc_cell": true,
   "toc_position": {},
   "toc_section_display": true,
   "toc_window_display": true
  },
  "varInspector": {
   "cols": {
    "lenName": 16,
    "lenType": 16,
    "lenVar": 40
   },
   "kernels_config": {
    "python": {
     "delete_cmd_postfix": "",
     "delete_cmd_prefix": "del ",
     "library": "var_list.py",
     "varRefreshCmd": "print(var_dic_list())"
    },
    "r": {
     "delete_cmd_postfix": ") ",
     "delete_cmd_prefix": "rm(",
     "library": "var_list.r",
     "varRefreshCmd": "cat(var_dic_list()) "
    }
   },
   "types_to_exclude": [
    "module",
    "function",
    "builtin_function_or_method",
    "instance",
    "_Feature"
   ],
   "window_display": false
  }
 },
 "nbformat": 4,
 "nbformat_minor": 4
}
