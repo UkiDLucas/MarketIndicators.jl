{
 "cells": [
  {
   "cell_type": "markdown",
   "metadata": {},
   "source": [
    "# Prediction Model using TuriCreate in Julia"
   ]
  },
  {
   "cell_type": "markdown",
   "metadata": {
    "toc": true
   },
   "source": [
    "<h1>Table of Contents<span class=\"tocSkip\"></span></h1>\n",
    "<div class=\"toc\"><ul class=\"toc-item\"><li><span><a href=\"#Set-Up\" data-toc-modified-id=\"Set-Up-1\"><span class=\"toc-item-num\">1&nbsp;&nbsp;</span>Set Up</a></span></li><li><span><a href=\"#Fetch-Data-(SFrame)-from-Uber-CSV\" data-toc-modified-id=\"Fetch-Data-(SFrame)-from-Uber-CSV-2\"><span class=\"toc-item-num\">2&nbsp;&nbsp;</span>Fetch Data (SFrame) from Uber CSV</a></span></li><li><span><a href=\"#Split-Data\" data-toc-modified-id=\"Split-Data-3\"><span class=\"toc-item-num\">3&nbsp;&nbsp;</span>Split Data</a></span></li><li><span><a href=\"#Evaluate-the-Model\" data-toc-modified-id=\"Evaluate-the-Model-4\"><span class=\"toc-item-num\">4&nbsp;&nbsp;</span>Evaluate the Model</a></span></li><li><span><a href=\"#Save-/-Export-the-Model\" data-toc-modified-id=\"Save-/-Export-the-Model-5\"><span class=\"toc-item-num\">5&nbsp;&nbsp;</span>Save / Export the Model</a></span></li><li><span><a href=\"#Make-predictions\" data-toc-modified-id=\"Make-predictions-6\"><span class=\"toc-item-num\">6&nbsp;&nbsp;</span>Make predictions</a></span><ul class=\"toc-item\"><li><span><a href=\"#Explore-SFrame\" data-toc-modified-id=\"Explore-SFrame-6.1\"><span class=\"toc-item-num\">6.1&nbsp;&nbsp;</span>Explore SFrame</a></span></li></ul></li></ul></div>"
   ]
  },
  {
   "cell_type": "markdown",
   "metadata": {},
   "source": [
    "## Set Up"
   ]
  },
  {
   "cell_type": "code",
   "execution_count": 1,
   "metadata": {
    "ExecuteTime": {
     "end_time": "2020-12-06T22:01:20.193000-05:00",
     "start_time": "2020-12-07T03:01:15.894Z"
    }
   },
   "outputs": [
    {
     "name": "stdout",
     "output_type": "stream",
     "text": [
      "\n"
     ]
    }
   ],
   "source": [
    "column_to_predict = \"DJIA_Original\"\n",
    "# column_to_predict = \"AAPL_Original\"\n",
    "# column_to_predict = \"VIX_Original\"\n",
    "# column_to_predict = \"NIO_Original\"\n",
    "# column_to_predict = \"NVDA_Original\"\n",
    "\n",
    "## uncomment for the first run\n",
    "# import Pkg\n",
    "# Pkg.add(\"PyCall\")\n",
    "# Pkg.add(\"Conda\")\n",
    "# ENV[\"PYTHON\"] = \"/opt/anaconda3/envs/turi/bin/python\"\n",
    "# /opt/anaconda3/envs/turi/lib/python3.6/site-packages/\n",
    "# Pkg.build(\"PyCall\")\n",
    "\n",
    "include(\"../Julia/functions.jl\") "
   ]
  },
  {
   "cell_type": "code",
   "execution_count": 2,
   "metadata": {
    "ExecuteTime": {
     "end_time": "2020-12-06T22:01:24.249000-05:00",
     "start_time": "2020-12-07T03:01:15.897Z"
    }
   },
   "outputs": [
    {
     "data": {
      "text/plain": [
       "PyObject <module 'turicreate' from '/opt/anaconda3/envs/turi/lib/python3.6/site-packages/turicreate/__init__.py'>"
      ]
     },
     "execution_count": 2,
     "metadata": {},
     "output_type": "execute_result"
    }
   ],
   "source": [
    "using PyCall\n",
    "tc = pyimport(\"turicreate\")"
   ]
  },
  {
   "cell_type": "markdown",
   "metadata": {},
   "source": [
    "## Fetch Data (SFrame) from Uber CSV"
   ]
  },
  {
   "cell_type": "code",
   "execution_count": 3,
   "metadata": {
    "ExecuteTime": {
     "end_time": "2020-12-06T22:01:24.575000-05:00",
     "start_time": "2020-12-07T03:01:15.900Z"
    }
   },
   "outputs": [
    {
     "name": "stdout",
     "output_type": "stream",
     "text": [
      "Finished parsing file /Users/uki/REPOS/MarketIndicators.jl/src/DATA/processed/uber_training.csv\n",
      "Parsing completed. Parsed 100 lines in 0.026836 secs.\n",
      "------------------------------------------------------\n",
      "Inferred types from first 100 line(s) of file as \n",
      "column_type_hints=[int,str,float,float,float,float,float,float,float,float,float,float,float,float,float,float,float,float,float,float,float,float,float,float,float,float,float,float,float,float,float,float,float,float,float,float,float,float,float,float,float,float,float,float,float,float,float,float,float,float,float,float,float,float,float,float,float,float,float,float,float,float,float,float,float,float,float,float,float,float,float,float,float,float,float,float,float,float,float]\n",
      "If parsing fails due to incorrect types, you can correct\n",
      "the inferred type list above and pass it to read_csv in\n",
      "the column_type_hints argument\n",
      "------------------------------------------------------\n",
      "Finished parsing file /Users/uki/REPOS/MarketIndicators.jl/src/DATA/processed/uber_training.csv\n",
      "Parsing completed. Parsed 812 lines in 0.010979 secs.\n",
      "\n"
     ]
    }
   ],
   "source": [
    "data_path=\"../DATA/processed/uber_training.csv\"\n",
    "data = tc.SFrame(data_path)\n",
    "println()"
   ]
  },
  {
   "cell_type": "markdown",
   "metadata": {},
   "source": [
    "## Split Data"
   ]
  },
  {
   "cell_type": "code",
   "execution_count": 4,
   "metadata": {
    "ExecuteTime": {
     "end_time": "2020-12-06T22:01:24.685000-05:00",
     "start_time": "2020-12-07T03:01:15.903Z"
    }
   },
   "outputs": [
    {
     "name": "stdout",
     "output_type": "stream",
     "text": [
      "\n"
     ]
    }
   ],
   "source": [
    "# Make a train-test split\n",
    "train_data, test_data = data.random_split(0.8)\n",
    "println()"
   ]
  },
  {
   "cell_type": "code",
   "execution_count": 5,
   "metadata": {
    "ExecuteTime": {
     "end_time": "2020-12-06T22:01:24.829000-05:00",
     "start_time": "2020-12-07T03:01:15.906Z"
    }
   },
   "outputs": [
    {
     "name": "stdout",
     "output_type": "stream",
     "text": [
      "(644,)\n",
      "(168,)\n"
     ]
    }
   ],
   "source": [
    "println( size(train_data) )\n",
    "println( size(test_data)  )"
   ]
  },
  {
   "cell_type": "code",
   "execution_count": null,
   "metadata": {},
   "outputs": [],
   "source": []
  },
  {
   "cell_type": "code",
   "execution_count": 6,
   "metadata": {
    "ExecuteTime": {
     "end_time": "2020-12-06T22:01:26.706000-05:00",
     "start_time": "2020-12-07T03:01:15.910Z"
    }
   },
   "outputs": [
    {
     "name": "stdout",
     "output_type": "stream",
     "text": [
      "Automatically generating validation set from 5% of the data.\n",
      "Linear regression:\n",
      "--------------------------------------------------------\n",
      "Number of examples          : 609\n",
      "Number of features          : 65\n",
      "Number of unpacked features : 65\n",
      "Number of coefficients    : 66\n",
      "Starting Newton Method\n",
      "--------------------------------------------------------\n",
      "+-----------+----------+--------------+--------------------+----------------------+---------------------------------+-----------------------------------+\n",
      "| Iteration | Passes   | Elapsed Time | Training Max Error | Validation Max Error | Training Root-Mean-Square Error | Validation Root-Mean-Square Error |\n",
      "+-----------+----------+--------------+--------------------+----------------------+---------------------------------+-----------------------------------+\n",
      "| 1         | 2        | 1.019403     | 34.363873          | 13.423400            | 4.892109                        | 4.191145                          |\n",
      "+-----------+----------+--------------+--------------------+----------------------+---------------------------------+-----------------------------------+\n",
      "SUCCESS: Optimal solution found.\n",
      "\n",
      "Boosted trees regression:\n",
      "--------------------------------------------------------\n",
      "Number of examples          : 609\n",
      "Number of features          : 65\n",
      "Number of unpacked features : 65\n",
      "+-----------+--------------+--------------------+----------------------+---------------------------------+-----------------------------------+\n",
      "| Iteration | Elapsed Time | Training Max Error | Validation Max Error | Training Root-Mean-Square Error | Validation Root-Mean-Square Error |\n",
      "+-----------+--------------+--------------------+----------------------+---------------------------------+-----------------------------------+\n",
      "| 1         | 0.006936     | 432.164551         | 380.774536           | 211.174332                      | 207.257065                        |\n",
      "| 2         | 0.009285     | 319.865387         | 268.475372           | 148.965225                      | 144.785522                        |\n",
      "| 3         | 0.011734     | 240.585052         | 189.195038           | 105.210060                      | 101.838799                        |\n",
      "| 4         | 0.013986     | 181.741333         | 130.351318           | 74.346291                       | 71.505135                         |\n",
      "| 5         | 0.016224     | 140.229767         | 88.839752            | 52.676483                       | 50.491009                         |\n",
      "| 10        | 0.030840     | 49.316101          | 24.697968            | 10.605029                       | 10.806087                         |\n",
      "+-----------+--------------+--------------------+----------------------+---------------------------------+-----------------------------------+\n"
     ]
    },
    {
     "data": {
      "text/plain": [
       "PyObject Class                          : LinearRegression\n",
       "\n",
       "Schema\n",
       "------\n",
       "Number of coefficients         : 66\n",
       "Number of examples             : 609\n",
       "Number of feature columns      : 65\n",
       "Number of unpacked features    : 65\n",
       "\n",
       "Hyperparameters\n",
       "---------------\n",
       "L1 penalty                     : 0\n",
       "L2 penalty                     : 0.01\n",
       "\n",
       "Training Summary\n",
       "----------------\n",
       "Solver                         : newton\n",
       "Solver iterations              : 1\n",
       "Solver status                  : SUCCESS: Optimal solution found.\n",
       "Training time (sec)            : 1.0267\n",
       "\n",
       "Settings\n",
       "--------\n",
       "Residual sum of squares        : 14575.0308\n",
       "Training RMSE                  : 4.8921\n",
       "\n",
       "Highest Positive Coefficients\n",
       "-----------------------------\n",
       "(intercept)                    : 335.9787\n",
       "NVDA_Avg005                    : 2.1368\n",
       "DJIA_Quantized                 : 1.1662\n",
       "US_GDP_Q_Avg120                : 1.1235\n",
       "US_ISM_MFC_PMI_Avg090          : 1.0027\n",
       "\n",
       "Lowest Negative Coefficients\n",
       "----------------------------\n",
       "US_GDP_Q_Avg180                : -3.6004\n",
       "DJIA_Avg005                    : -1.1433\n",
       "AAPL_Avg090                    : -1.0543\n",
       "US_ISM_MFC_EMP_Avg180          : -0.9526\n",
       "AAPL_Avg060                    : -0.931\n"
      ]
     },
     "execution_count": 6,
     "metadata": {},
     "output_type": "execute_result"
    }
   ],
   "source": [
    "model = tc.regression.create( \n",
    "    train_data, \n",
    "    target = column_to_predict, \n",
    "    features = [\n",
    "\n",
    "    #\"VIX_Quantized\"\n",
    "    \"VIX_Avg030\"\n",
    "    ,\"VIX_Avg060\"\n",
    "    ,\"VIX_Avg090\"\n",
    "    ,\"VIX_Avg120\"\n",
    "    ,\"VIX_Avg180\"\n",
    "    ,\"VIX_Avg365\"\n",
    "        \n",
    "    ,\"US_ISM_MFC_PMI_Quantized\"\n",
    "    ,\"US_ISM_MFC_PMI_Avg030\"\n",
    "    ,\"US_ISM_MFC_PMI_Avg060\"\n",
    "    ,\"US_ISM_MFC_PMI_Avg090\"\n",
    "    ,\"US_ISM_MFC_PMI_Avg180\"\n",
    "    ,\"US_ISM_MFC_PMI_Avg365\"\n",
    "        \n",
    "\n",
    "    ,\"DJIA_Quantized\"\n",
    "    ,\"DJIA_Avg005\"\n",
    "    ,\"DJIA_Avg030\"\n",
    "    ,\"DJIA_Avg060\"\n",
    "    ,\"DJIA_Avg090\"\n",
    "    ,\"DJIA_Avg120\"\n",
    "    ,\"DJIA_Avg180\"\n",
    "       \n",
    "    #,\"AAPL_Quantized\"\n",
    "    ,\"AAPL_Avg005\"\n",
    "    ,\"AAPL_Avg030\"\n",
    "    ,\"AAPL_Avg060\"\n",
    "    ,\"AAPL_Avg090\"\n",
    "    ,\"AAPL_Avg120\"\n",
    "    ,\"AAPL_Avg180\"\n",
    "\n",
    "    ,\"US_ISM_MFC_EMP_Quantized\"\n",
    "    ,\"US_ISM_MFC_EMP_Avg030\"\n",
    "    ,\"US_ISM_MFC_EMP_Avg060\"\n",
    "    ,\"US_ISM_MFC_EMP_Avg090\"\n",
    "    ,\"US_ISM_MFC_EMP_Avg120\"\n",
    "    ,\"US_ISM_MFC_EMP_Avg180\"\n",
    "    ,\"US_ISM_MFC_EMP_Avg365\"\n",
    "        \n",
    "    ,\"US_INIT_JOBLESS_Quantized\"\n",
    "    ,\"US_INIT_JOBLESS_Avg005\"\n",
    "    ,\"US_INIT_JOBLESS_Avg030\"\n",
    "    ,\"US_INIT_JOBLESS_Avg060\"\n",
    "    ,\"US_INIT_JOBLESS_Avg090\"\n",
    "    ,\"US_INIT_JOBLESS_Avg120\"\n",
    "    ,\"US_INIT_JOBLESS_Avg180\"\n",
    "        \n",
    "    ,\"US_GDP_Q_Quantized\"\n",
    "    ,\"US_GDP_Q_Avg005\"\n",
    "    ,\"US_GDP_Q_Avg030\"\n",
    "    ,\"US_GDP_Q_Avg060\"\n",
    "    ,\"US_GDP_Q_Avg090\"\n",
    "    ,\"US_GDP_Q_Avg120\"\n",
    "    ,\"US_GDP_Q_Avg180\"\n",
    "        \n",
    "\n",
    "    #,\"NIO_Quantized\"\n",
    "    ,\"NIO_Avg005\"\n",
    "    ,\"NIO_Avg030\"\n",
    "    ,\"NIO_Avg060\"\n",
    "    ,\"NIO_Avg090\"\n",
    "    ,\"NIO_Avg120\"\n",
    "    ,\"NIO_Avg180\"\n",
    "        \n",
    "\n",
    "    #,\"NVDA_Quantized\"\n",
    "    ,\"NVDA_Avg005\"\n",
    "    ,\"NVDA_Avg030\"\n",
    "    ,\"NVDA_Avg060\"\n",
    "    ,\"NVDA_Avg090\"\n",
    "    ,\"NVDA_Avg120\"\n",
    "    ,\"NVDA_Avg180\"\n",
    "        \n",
    "\n",
    "    ,\"US_HOUS_STRT_M_Quantized\"\n",
    "    ,\"US_HOUS_STRT_M_Avg005\"\n",
    "    ,\"US_HOUS_STRT_M_Avg030\"\n",
    "    ,\"US_HOUS_STRT_M_Avg060\"\n",
    "    ,\"US_HOUS_STRT_M_Avg090\"\n",
    "    ,\"US_HOUS_STRT_M_Avg120\"\n",
    "    ,\"US_HOUS_STRT_M_Avg180\"\n",
    "    \n",
    "        ], \n",
    "    validation_set=\"auto\", \n",
    "    verbose=true\n",
    ")"
   ]
  },
  {
   "cell_type": "markdown",
   "metadata": {},
   "source": [
    "## Evaluate the Model"
   ]
  },
  {
   "cell_type": "code",
   "execution_count": 7,
   "metadata": {
    "ExecuteTime": {
     "end_time": "2020-12-06T22:01:27.715000-05:00",
     "start_time": "2020-12-07T03:01:15.913Z"
    }
   },
   "outputs": [
    {
     "data": {
      "text/plain": [
       "Dict{Any,Any} with 2 entries:\n",
       "  \"rmse\"      => 7.10606\n",
       "  \"max_error\" => 38.2748"
      ]
     },
     "execution_count": 7,
     "metadata": {},
     "output_type": "execute_result"
    }
   ],
   "source": [
    "#TODO: write this in a loop to select the best model\n",
    "# Evaluate the model and save the results into a dictionary\n",
    "results = model.evaluate( test_data ) #test_data[0:2531]\n",
    "results"
   ]
  },
  {
   "cell_type": "code",
   "execution_count": 8,
   "metadata": {
    "ExecuteTime": {
     "end_time": "2020-12-06T22:01:27.840000-05:00",
     "start_time": "2020-12-07T03:01:15.916Z"
    }
   },
   "outputs": [
    {
     "name": "stdout",
     "output_type": "stream",
     "text": [
      "max_error: 38.27, rmse: 7.11\n"
     ]
    }
   ],
   "source": [
    "rmse = results[\"rmse\"]\n",
    "rmse = round(rmse, digits=2)\n",
    "\n",
    "max_error = results[\"max_error\"]\n",
    "max_error = round(max_error, digits=2)\n",
    "\n",
    "println( \"max_error: \", max_error, \", rmse: \", rmse )\n",
    "# max_error: 1069.27, rmse: 184.6\n",
    "# max_error: 65.35, rmse: 32.6            predict: ^DJIA added: US_INIT_JOBLESS\n",
    "# max_error: 1875.39, rmse: 443.59        predict: ^DJIA commented out: \"DJIA_Quantized\"\n",
    "# max_error: 1339.76, rmse: 373.94        predict: ^DJIA commented out: \"DJIA_Quantized\"\n",
    "# max_error: 916.19, rmse: 231.24       predict: ^DJIA with \"DJIA_Avg005\""
   ]
  },
  {
   "cell_type": "markdown",
   "metadata": {},
   "source": [
    "## Save / Export the Model"
   ]
  },
  {
   "cell_type": "code",
   "execution_count": 9,
   "metadata": {
    "ExecuteTime": {
     "end_time": "2020-12-06T22:01:27.855000-05:00",
     "start_time": "2020-12-07T03:01:15.920Z"
    }
   },
   "outputs": [],
   "source": [
    "# Export to Core ML\n",
    "model.export_coreml(\"../DATA/models/^DJI.mlmodel\")"
   ]
  },
  {
   "cell_type": "markdown",
   "metadata": {},
   "source": [
    "## Make predictions "
   ]
  },
  {
   "cell_type": "code",
   "execution_count": 10,
   "metadata": {
    "ExecuteTime": {
     "end_time": "2020-12-06T22:01:27.934000-05:00",
     "start_time": "2020-12-07T03:01:15.923Z"
    }
   },
   "outputs": [
    {
     "name": "stdout",
     "output_type": "stream",
     "text": [
      "Finished parsing file /Users/uki/REPOS/MarketIndicators.jl/src/DATA/processed/uber_prediction.csv\n",
      "Parsing completed. Parsed 100 lines in 0.034703 secs.\n",
      "------------------------------------------------------\n",
      "Inferred types from first 100 line(s) of file as \n",
      "column_type_hints=[int,str,float,float,float,float,float,float,float,float,float,float,float,float,float,float,float,float,float,float,float,float,float,float,float,float,float,float,float,float,float,float,float,float,float,float,float,float,float,float,float,float,float,float,float,float,float,float,float,float,float,float,float,float,float,float,float,float,float,float,float,float,float,float,float,float,float,float,float,float,float,float,float,float,float,float,float,float,float]\n",
      "If parsing fails due to incorrect types, you can correct\n",
      "the inferred type list above and pass it to read_csv in\n",
      "the column_type_hints argument\n",
      "------------------------------------------------------\n",
      "Finished parsing file /Users/uki/REPOS/MarketIndicators.jl/src/DATA/processed/uber_prediction.csv\n",
      "Parsing completed. Parsed 120 lines in 0.00568 secs.\n",
      "\n"
     ]
    }
   ],
   "source": [
    "data_path=\"../DATA/processed/uber_prediction.csv\"\n",
    "data_predictions = tc.SFrame(data_path)\n",
    "println()"
   ]
  },
  {
   "cell_type": "code",
   "execution_count": 11,
   "metadata": {
    "ExecuteTime": {
     "end_time": "2020-12-06T22:01:28.271000-05:00",
     "start_time": "2020-12-07T03:01:15.926Z"
    }
   },
   "outputs": [
    {
     "data": {
      "text/plain": [
       "514.5720819691275"
      ]
     },
     "execution_count": 11,
     "metadata": {},
     "output_type": "execute_result"
    }
   ],
   "source": [
    "## Save predictions to an SArray\n",
    "predictions = model.predict(data_predictions)\n",
    "get(predictions, 1)"
   ]
  },
  {
   "cell_type": "markdown",
   "metadata": {},
   "source": [
    "### Explore SFrame"
   ]
  },
  {
   "cell_type": "code",
   "execution_count": 12,
   "metadata": {
    "ExecuteTime": {
     "end_time": "2020-12-06T22:01:28.395000-05:00",
     "start_time": "2020-12-07T03:01:15.930Z"
    }
   },
   "outputs": [
    {
     "name": "stdout",
     "output_type": "stream",
     "text": [
      "record_count data 120\n",
      "record_count predictions 120\n",
      "feature_number 79\n",
      "Rata Die 737794\n",
      "date 2021-01-04\n",
      "original 30218.259766\n"
     ]
    }
   ],
   "source": [
    "record_count = size(data_predictions)[1]\n",
    "row = get(data_predictions, record_count-1)\n",
    "\n",
    "feature_number = row.count\n",
    "day = row[\"Rata_Die\"]\n",
    "date = row[\"Date\"] # \"2020-10-20\"\n",
    "original = row[\"DJIA_Original\"]\n",
    "\n",
    "println( \"record_count data \", record_count )\n",
    "println( \"record_count predictions \", size(predictions)[1] )\n",
    "\n",
    "println( \"feature_number \", feature_number )\n",
    "println( \"Rata Die \", day )\n",
    "println( \"date \", date )\n",
    "println( \"original \", original )"
   ]
  },
  {
   "cell_type": "code",
   "execution_count": 13,
   "metadata": {
    "ExecuteTime": {
     "end_time": "2020-12-06T22:01:29.804000-05:00",
     "start_time": "2020-12-07T03:01:15.933Z"
    }
   },
   "outputs": [
    {
     "data": {
      "text/plain": [
       "737765"
      ]
     },
     "execution_count": 13,
     "metadata": {},
     "output_type": "execute_result"
    }
   ],
   "source": [
    "using Dates\n",
    "today_rata = Dates.datetime2rata( today() )"
   ]
  },
  {
   "cell_type": "code",
   "execution_count": 14,
   "metadata": {
    "ExecuteTime": {
     "end_time": "2020-12-06T22:01:29.814000-05:00",
     "start_time": "2020-12-07T03:01:15.936Z"
    }
   },
   "outputs": [
    {
     "name": "stdout",
     "output_type": "stream",
     "text": [
      "preditions set size: 119, step 6\n"
     ]
    }
   ],
   "source": [
    "## Determine dataset size\n",
    "\n",
    "initio = 1                                              # latin: start\n",
    "finem  = size(predictions)[1] -1                        # latin: end\n",
    "gradus = convert(Int64, round( finem/20, digits=0)  )   # latin: step\n",
    "\n",
    "println(\"preditions set size: \", finem, \", step \", gradus)"
   ]
  },
  {
   "cell_type": "code",
   "execution_count": 15,
   "metadata": {
    "ExecuteTime": {
     "end_time": "2020-12-06T22:01:30.774000-05:00",
     "start_time": "2020-12-07T03:01:15.939Z"
    }
   },
   "outputs": [
    {
     "name": "stdout",
     "output_type": "stream",
     "text": [
      "NVDA_Original 119 Array{Date,1}\n",
      "\n"
     ]
    }
   ],
   "source": [
    "using Dates\n",
    "\n",
    "## Declare variables\n",
    "x_axis_dates      = Vector{Date}() # results in Array{Date,1}\n",
    "y_axis_original   = Vector{Float64}()\n",
    "y_axis_predicted  = Vector{Float64}()\n",
    "\n",
    "println(column_to_predict, \" \", finem, \" \", typeof(x_axis_dates))\n",
    "\n",
    "today_id  = 50 # not set yet\n",
    "\n",
    "## step thru each prediction\n",
    "for id in initio:finem\n",
    "    row = get(data_predictions, id) # get a dictionary of data from the SFrame\n",
    "    \n",
    "    date_string = row[\"Date\"] # e.g. \"2020-10-20\"\n",
    "    date = Date(date_string) # 2020-09-07 Date\n",
    "    if date == today()\n",
    "        today_id = id\n",
    "    end \n",
    "    #date = Dates.format(date, \"u.d,yy\" )\n",
    "    #println(\"date \", date, \" \", typeof(date))\n",
    "    push!(x_axis_dates, date)\n",
    "    \n",
    "    predicted = get(predictions, id) # Float64\n",
    "    predicted = round(predicted, digits=0)\n",
    "    #println(\"predicted \", predicted, \" \", typeof(predicted))\n",
    "    append!(y_axis_predicted, predicted)\n",
    "    \n",
    "    \n",
    "    original = row[ column_to_predict ]\n",
    "    original = round(original, digits=0) # Float64\n",
    "    #println(\"original \", original, \" \", typeof(original)) \n",
    "    append!(y_axis_original, original)\n",
    "end\n",
    "\n",
    "## Format Dates for plotting\n",
    "include(\"../Julia/function_format_dates.jl\")\n",
    "x_axis_dates = format_dates(x_axis_dates, \"u.d,yy\")\n",
    "println()"
   ]
  },
  {
   "cell_type": "code",
   "execution_count": 16,
   "metadata": {
    "ExecuteTime": {
     "end_time": "2020-12-06T22:01:30.788000-05:00",
     "start_time": "2020-12-07T03:01:15.942Z"
    }
   },
   "outputs": [
    {
     "name": "stdout",
     "output_type": "stream",
     "text": [
      "t Dec.6,20 String\n"
     ]
    }
   ],
   "source": [
    "t = today()# Date\n",
    "t = format_dates([t], \"u.d,yy\") # Array{String,1}\n",
    "t = t[1] # String\n",
    "println(\"t \", t, \" \", typeof(t))"
   ]
  },
  {
   "cell_type": "code",
   "execution_count": 17,
   "metadata": {
    "ExecuteTime": {
     "end_time": "2020-12-06T22:02:06.599000-05:00",
     "start_time": "2020-12-07T03:01:15.947Z"
    }
   },
   "outputs": [
    {
     "data": {
      "image/svg+xml": [
       "<?xml version=\"1.0\" encoding=\"utf-8\"?>\n",
       "<svg xmlns=\"http://www.w3.org/2000/svg\" xmlns:xlink=\"http://www.w3.org/1999/xlink\" width=\"980\" height=\"400\" viewBox=\"0 0 3920 1600\">\n",
       "<defs>\n",
       "  <clipPath id=\"clip4300\">\n",
       "    <rect x=\"0\" y=\"0\" width=\"3920\" height=\"1600\"/>\n",
       "  </clipPath>\n",
       "</defs>\n",
       "<path clip-path=\"url(#clip4300)\" d=\"\n",
       "M0 1600 L3920 1600 L3920 0 L0 0  Z\n",
       "  \" fill=\"#ffffff\" fill-rule=\"evenodd\" fill-opacity=\"1\"/>\n",
       "<defs>\n",
       "  <clipPath id=\"clip4301\">\n",
       "    <rect x=\"784\" y=\"0\" width=\"2745\" height=\"1600\"/>\n",
       "  </clipPath>\n",
       "</defs>\n",
       "<path clip-path=\"url(#clip4300)\" d=\"\n",
       "M227.135 1423.18 L3872.76 1423.18 L3872.76 47.2441 L227.135 47.2441  Z\n",
       "  \" fill=\"#ffffff\" fill-rule=\"evenodd\" fill-opacity=\"1\"/>\n",
       "<defs>\n",
       "  <clipPath id=\"clip4302\">\n",
       "    <rect x=\"227\" y=\"47\" width=\"3647\" height=\"1377\"/>\n",
       "  </clipPath>\n",
       "</defs>\n",
       "<polyline clip-path=\"url(#clip4302)\" style=\"stroke:#000000; stroke-width:2; stroke-opacity:0.1; fill:none\" points=\"\n",
       "  330.313,1423.18 330.313,47.2441 \n",
       "  \"/>\n",
       "<polyline clip-path=\"url(#clip4302)\" style=\"stroke:#000000; stroke-width:2; stroke-opacity:0.1; fill:none\" points=\"\n",
       "  563.483,1423.18 563.483,47.2441 \n",
       "  \"/>\n",
       "<polyline clip-path=\"url(#clip4302)\" style=\"stroke:#000000; stroke-width:2; stroke-opacity:0.1; fill:none\" points=\"\n",
       "  825.8,1423.18 825.8,47.2441 \n",
       "  \"/>\n",
       "<polyline clip-path=\"url(#clip4302)\" style=\"stroke:#000000; stroke-width:2; stroke-opacity:0.1; fill:none\" points=\"\n",
       "  1058.97,1423.18 1058.97,47.2441 \n",
       "  \"/>\n",
       "<polyline clip-path=\"url(#clip4302)\" style=\"stroke:#000000; stroke-width:2; stroke-opacity:0.1; fill:none\" points=\"\n",
       "  1321.29,1423.18 1321.29,47.2441 \n",
       "  \"/>\n",
       "<polyline clip-path=\"url(#clip4302)\" style=\"stroke:#000000; stroke-width:2; stroke-opacity:0.1; fill:none\" points=\"\n",
       "  1554.46,1423.18 1554.46,47.2441 \n",
       "  \"/>\n",
       "<polyline clip-path=\"url(#clip4302)\" style=\"stroke:#000000; stroke-width:2; stroke-opacity:0.1; fill:none\" points=\"\n",
       "  1816.77,1423.18 1816.77,47.2441 \n",
       "  \"/>\n",
       "<polyline clip-path=\"url(#clip4302)\" style=\"stroke:#000000; stroke-width:2; stroke-opacity:0.1; fill:none\" points=\"\n",
       "  2049.95,1423.18 2049.95,47.2441 \n",
       "  \"/>\n",
       "<polyline clip-path=\"url(#clip4302)\" style=\"stroke:#000000; stroke-width:2; stroke-opacity:0.1; fill:none\" points=\"\n",
       "  2283.12,1423.18 2283.12,47.2441 \n",
       "  \"/>\n",
       "<polyline clip-path=\"url(#clip4302)\" style=\"stroke:#000000; stroke-width:2; stroke-opacity:0.1; fill:none\" points=\"\n",
       "  2545.43,1423.18 2545.43,47.2441 \n",
       "  \"/>\n",
       "<polyline clip-path=\"url(#clip4302)\" style=\"stroke:#000000; stroke-width:2; stroke-opacity:0.1; fill:none\" points=\"\n",
       "  2778.6,1423.18 2778.6,47.2441 \n",
       "  \"/>\n",
       "<polyline clip-path=\"url(#clip4302)\" style=\"stroke:#000000; stroke-width:2; stroke-opacity:0.1; fill:none\" points=\"\n",
       "  3040.92,1423.18 3040.92,47.2441 \n",
       "  \"/>\n",
       "<polyline clip-path=\"url(#clip4302)\" style=\"stroke:#000000; stroke-width:2; stroke-opacity:0.1; fill:none\" points=\"\n",
       "  3274.09,1423.18 3274.09,47.2441 \n",
       "  \"/>\n",
       "<polyline clip-path=\"url(#clip4302)\" style=\"stroke:#000000; stroke-width:2; stroke-opacity:0.1; fill:none\" points=\"\n",
       "  3536.41,1423.18 3536.41,47.2441 \n",
       "  \"/>\n",
       "<polyline clip-path=\"url(#clip4302)\" style=\"stroke:#000000; stroke-width:2; stroke-opacity:0.1; fill:none\" points=\"\n",
       "  3769.58,1423.18 3769.58,47.2441 \n",
       "  \"/>\n",
       "<polyline clip-path=\"url(#clip4302)\" style=\"stroke:#000000; stroke-width:2; stroke-opacity:0.1; fill:none\" points=\"\n",
       "  227.135,1398.05 3872.76,1398.05 \n",
       "  \"/>\n",
       "<polyline clip-path=\"url(#clip4302)\" style=\"stroke:#000000; stroke-width:2; stroke-opacity:0.1; fill:none\" points=\"\n",
       "  227.135,1121.87 3872.76,1121.87 \n",
       "  \"/>\n",
       "<polyline clip-path=\"url(#clip4302)\" style=\"stroke:#000000; stroke-width:2; stroke-opacity:0.1; fill:none\" points=\"\n",
       "  227.135,845.685 3872.76,845.685 \n",
       "  \"/>\n",
       "<polyline clip-path=\"url(#clip4302)\" style=\"stroke:#000000; stroke-width:2; stroke-opacity:0.1; fill:none\" points=\"\n",
       "  227.135,569.503 3872.76,569.503 \n",
       "  \"/>\n",
       "<polyline clip-path=\"url(#clip4302)\" style=\"stroke:#000000; stroke-width:2; stroke-opacity:0.1; fill:none\" points=\"\n",
       "  227.135,293.322 3872.76,293.322 \n",
       "  \"/>\n",
       "<polyline clip-path=\"url(#clip4300)\" style=\"stroke:#000000; stroke-width:4; stroke-opacity:1; fill:none\" points=\"\n",
       "  227.135,1423.18 3872.76,1423.18 \n",
       "  \"/>\n",
       "<polyline clip-path=\"url(#clip4300)\" style=\"stroke:#000000; stroke-width:4; stroke-opacity:1; fill:none\" points=\"\n",
       "  227.135,1423.18 227.135,47.2441 \n",
       "  \"/>\n",
       "<polyline clip-path=\"url(#clip4300)\" style=\"stroke:#000000; stroke-width:4; stroke-opacity:1; fill:none\" points=\"\n",
       "  330.313,1423.18 330.313,1406.67 \n",
       "  \"/>\n",
       "<polyline clip-path=\"url(#clip4300)\" style=\"stroke:#000000; stroke-width:4; stroke-opacity:1; fill:none\" points=\"\n",
       "  563.483,1423.18 563.483,1406.67 \n",
       "  \"/>\n",
       "<polyline clip-path=\"url(#clip4300)\" style=\"stroke:#000000; stroke-width:4; stroke-opacity:1; fill:none\" points=\"\n",
       "  825.8,1423.18 825.8,1406.67 \n",
       "  \"/>\n",
       "<polyline clip-path=\"url(#clip4300)\" style=\"stroke:#000000; stroke-width:4; stroke-opacity:1; fill:none\" points=\"\n",
       "  1058.97,1423.18 1058.97,1406.67 \n",
       "  \"/>\n",
       "<polyline clip-path=\"url(#clip4300)\" style=\"stroke:#000000; stroke-width:4; stroke-opacity:1; fill:none\" points=\"\n",
       "  1321.29,1423.18 1321.29,1406.67 \n",
       "  \"/>\n",
       "<polyline clip-path=\"url(#clip4300)\" style=\"stroke:#000000; stroke-width:4; stroke-opacity:1; fill:none\" points=\"\n",
       "  1554.46,1423.18 1554.46,1406.67 \n",
       "  \"/>\n",
       "<polyline clip-path=\"url(#clip4300)\" style=\"stroke:#000000; stroke-width:4; stroke-opacity:1; fill:none\" points=\"\n",
       "  1816.77,1423.18 1816.77,1406.67 \n",
       "  \"/>\n",
       "<polyline clip-path=\"url(#clip4300)\" style=\"stroke:#000000; stroke-width:4; stroke-opacity:1; fill:none\" points=\"\n",
       "  2049.95,1423.18 2049.95,1406.67 \n",
       "  \"/>\n",
       "<polyline clip-path=\"url(#clip4300)\" style=\"stroke:#000000; stroke-width:4; stroke-opacity:1; fill:none\" points=\"\n",
       "  2283.12,1423.18 2283.12,1406.67 \n",
       "  \"/>\n",
       "<polyline clip-path=\"url(#clip4300)\" style=\"stroke:#000000; stroke-width:4; stroke-opacity:1; fill:none\" points=\"\n",
       "  2545.43,1423.18 2545.43,1406.67 \n",
       "  \"/>\n",
       "<polyline clip-path=\"url(#clip4300)\" style=\"stroke:#000000; stroke-width:4; stroke-opacity:1; fill:none\" points=\"\n",
       "  2778.6,1423.18 2778.6,1406.67 \n",
       "  \"/>\n",
       "<polyline clip-path=\"url(#clip4300)\" style=\"stroke:#000000; stroke-width:4; stroke-opacity:1; fill:none\" points=\"\n",
       "  3040.92,1423.18 3040.92,1406.67 \n",
       "  \"/>\n",
       "<polyline clip-path=\"url(#clip4300)\" style=\"stroke:#000000; stroke-width:4; stroke-opacity:1; fill:none\" points=\"\n",
       "  3274.09,1423.18 3274.09,1406.67 \n",
       "  \"/>\n",
       "<polyline clip-path=\"url(#clip4300)\" style=\"stroke:#000000; stroke-width:4; stroke-opacity:1; fill:none\" points=\"\n",
       "  3536.41,1423.18 3536.41,1406.67 \n",
       "  \"/>\n",
       "<polyline clip-path=\"url(#clip4300)\" style=\"stroke:#000000; stroke-width:4; stroke-opacity:1; fill:none\" points=\"\n",
       "  3769.58,1423.18 3769.58,1406.67 \n",
       "  \"/>\n",
       "<polyline clip-path=\"url(#clip4300)\" style=\"stroke:#000000; stroke-width:4; stroke-opacity:1; fill:none\" points=\"\n",
       "  227.135,1398.05 270.882,1398.05 \n",
       "  \"/>\n",
       "<polyline clip-path=\"url(#clip4300)\" style=\"stroke:#000000; stroke-width:4; stroke-opacity:1; fill:none\" points=\"\n",
       "  227.135,1121.87 270.882,1121.87 \n",
       "  \"/>\n",
       "<polyline clip-path=\"url(#clip4300)\" style=\"stroke:#000000; stroke-width:4; stroke-opacity:1; fill:none\" points=\"\n",
       "  227.135,845.685 270.882,845.685 \n",
       "  \"/>\n",
       "<polyline clip-path=\"url(#clip4300)\" style=\"stroke:#000000; stroke-width:4; stroke-opacity:1; fill:none\" points=\"\n",
       "  227.135,569.503 270.882,569.503 \n",
       "  \"/>\n",
       "<polyline clip-path=\"url(#clip4300)\" style=\"stroke:#000000; stroke-width:4; stroke-opacity:1; fill:none\" points=\"\n",
       "  227.135,293.322 270.882,293.322 \n",
       "  \"/>\n",
       "<path clip-path=\"url(#clip4300)\" d=\"M 0 0 M263.45 1450.83 L263.45 1455.39 Q260.788 1454.11 258.427 1453.49 Q256.065 1452.86 253.866 1452.86 Q250.047 1452.86 247.964 1454.34 Q245.903 1455.83 245.903 1458.56 Q245.903 1460.85 247.269 1462.03 Q248.658 1463.19 252.501 1463.9 L255.325 1464.48 Q260.556 1465.48 263.033 1468 Q265.533 1470.5 265.533 1474.71 Q265.533 1479.74 262.153 1482.33 Q258.797 1484.92 252.292 1484.92 Q249.839 1484.92 247.061 1484.37 Q244.306 1483.81 241.343 1482.72 L241.343 1477.91 Q244.19 1479.51 246.922 1480.32 Q249.653 1481.13 252.292 1481.13 Q256.297 1481.13 258.473 1479.55 Q260.649 1477.98 260.649 1475.06 Q260.649 1472.52 259.075 1471.08 Q257.524 1469.65 253.959 1468.93 L251.112 1468.37 Q245.88 1467.33 243.542 1465.11 Q241.204 1462.89 241.204 1458.93 Q241.204 1454.34 244.422 1451.71 Q247.663 1449.07 253.334 1449.07 Q255.764 1449.07 258.288 1449.51 Q260.811 1449.95 263.45 1450.83 Z\" fill=\"#000000\" fill-rule=\"evenodd\" fill-opacity=\"1\" /><path clip-path=\"url(#clip4300)\" d=\"M 0 0 M292.176 1470.22 L292.176 1472.31 L272.593 1472.31 Q272.871 1476.71 275.232 1479.02 Q277.616 1481.31 281.852 1481.31 Q284.306 1481.31 286.598 1480.71 Q288.912 1480.11 291.181 1478.9 L291.181 1482.93 Q288.889 1483.9 286.482 1484.41 Q284.075 1484.92 281.598 1484.92 Q275.394 1484.92 271.76 1481.31 Q268.149 1477.7 268.149 1471.54 Q268.149 1465.18 271.575 1461.45 Q275.024 1457.7 280.857 1457.7 Q286.088 1457.7 289.121 1461.08 Q292.176 1464.44 292.176 1470.22 M287.917 1468.97 Q287.871 1465.48 285.95 1463.4 Q284.051 1461.31 280.903 1461.31 Q277.338 1461.31 275.186 1463.33 Q273.056 1465.34 272.732 1469 L287.917 1468.97 Z\" fill=\"#000000\" fill-rule=\"evenodd\" fill-opacity=\"1\" /><path clip-path=\"url(#clip4300)\" d=\"M 0 0 M300.764 1480.36 L300.764 1494.11 L296.482 1494.11 L296.482 1458.33 L300.764 1458.33 L300.764 1462.26 Q302.107 1459.95 304.144 1458.84 Q306.204 1457.7 309.051 1457.7 Q313.773 1457.7 316.713 1461.45 Q319.676 1465.2 319.676 1471.31 Q319.676 1477.42 316.713 1481.17 Q313.773 1484.92 309.051 1484.92 Q306.204 1484.92 304.144 1483.81 Q302.107 1482.68 300.764 1480.36 M315.255 1471.31 Q315.255 1466.61 313.31 1463.95 Q311.389 1461.27 308.01 1461.27 Q304.63 1461.27 302.686 1463.95 Q300.764 1466.61 300.764 1471.31 Q300.764 1476.01 302.686 1478.7 Q304.63 1481.36 308.01 1481.36 Q311.389 1481.36 313.31 1478.7 Q315.255 1476.01 315.255 1471.31 Z\" fill=\"#000000\" fill-rule=\"evenodd\" fill-opacity=\"1\" /><path clip-path=\"url(#clip4300)\" d=\"M 0 0 M324.746 1478.37 L329.63 1478.37 L329.63 1484.25 L324.746 1484.25 L324.746 1478.37 Z\" fill=\"#000000\" fill-rule=\"evenodd\" fill-opacity=\"1\" /><path clip-path=\"url(#clip4300)\" d=\"M 0 0 M344.699 1467.84 Q341.366 1467.84 339.445 1469.62 Q337.546 1471.4 337.546 1474.53 Q337.546 1477.65 339.445 1479.44 Q341.366 1481.22 344.699 1481.22 Q348.033 1481.22 349.954 1479.44 Q351.875 1477.63 351.875 1474.53 Q351.875 1471.4 349.954 1469.62 Q348.056 1467.84 344.699 1467.84 M340.023 1465.85 Q337.014 1465.11 335.324 1463.05 Q333.658 1460.99 333.658 1458.03 Q333.658 1453.88 336.597 1451.47 Q339.56 1449.07 344.699 1449.07 Q349.861 1449.07 352.801 1451.47 Q355.741 1453.88 355.741 1458.03 Q355.741 1460.99 354.051 1463.05 Q352.384 1465.11 349.398 1465.85 Q352.778 1466.64 354.653 1468.93 Q356.551 1471.22 356.551 1474.53 Q356.551 1479.55 353.472 1482.24 Q350.417 1484.92 344.699 1484.92 Q338.982 1484.92 335.903 1482.24 Q332.847 1479.55 332.847 1474.53 Q332.847 1471.22 334.746 1468.93 Q336.644 1466.64 340.023 1465.85 M338.31 1458.46 Q338.31 1461.15 339.977 1462.65 Q341.667 1464.16 344.699 1464.16 Q347.708 1464.16 349.398 1462.65 Q351.111 1461.15 351.111 1458.46 Q351.111 1455.78 349.398 1454.28 Q347.708 1452.77 344.699 1452.77 Q341.667 1452.77 339.977 1454.28 Q338.31 1455.78 338.31 1458.46 Z\" fill=\"#000000\" fill-rule=\"evenodd\" fill-opacity=\"1\" /><path clip-path=\"url(#clip4300)\" d=\"M 0 0 M362.107 1478.37 L366.991 1478.37 L366.991 1482.35 L363.194 1489.76 L360.208 1489.76 L362.107 1482.35 L362.107 1478.37 Z\" fill=\"#000000\" fill-rule=\"evenodd\" fill-opacity=\"1\" /><path clip-path=\"url(#clip4300)\" d=\"M 0 0 M376.088 1480.32 L392.407 1480.32 L392.407 1484.25 L370.463 1484.25 L370.463 1480.32 Q373.125 1477.56 377.708 1472.93 Q382.315 1468.28 383.495 1466.94 Q385.741 1464.41 386.62 1462.68 Q387.523 1460.92 387.523 1459.23 Q387.523 1456.47 385.579 1454.74 Q383.657 1453 380.555 1453 Q378.356 1453 375.903 1453.77 Q373.472 1454.53 370.694 1456.08 L370.694 1451.36 Q373.518 1450.22 375.972 1449.65 Q378.426 1449.07 380.463 1449.07 Q385.833 1449.07 389.028 1451.75 Q392.222 1454.44 392.222 1458.93 Q392.222 1461.06 391.412 1462.98 Q390.625 1464.88 388.518 1467.47 Q387.94 1468.14 384.838 1471.36 Q381.736 1474.55 376.088 1480.32 Z\" fill=\"#000000\" fill-rule=\"evenodd\" fill-opacity=\"1\" /><path clip-path=\"url(#clip4300)\" d=\"M 0 0 M407.477 1452.77 Q403.866 1452.77 402.037 1456.34 Q400.231 1459.88 400.231 1467.01 Q400.231 1474.11 402.037 1477.68 Q403.866 1481.22 407.477 1481.22 Q411.111 1481.22 412.916 1477.68 Q414.745 1474.11 414.745 1467.01 Q414.745 1459.88 412.916 1456.34 Q411.111 1452.77 407.477 1452.77 M407.477 1449.07 Q413.287 1449.07 416.342 1453.67 Q419.421 1458.26 419.421 1467.01 Q419.421 1475.73 416.342 1480.34 Q413.287 1484.92 407.477 1484.92 Q401.666 1484.92 398.588 1480.34 Q395.532 1475.73 395.532 1467.01 Q395.532 1458.26 398.588 1453.67 Q401.666 1449.07 407.477 1449.07 Z\" fill=\"#000000\" fill-rule=\"evenodd\" fill-opacity=\"1\" /><path clip-path=\"url(#clip4300)\" d=\"M 0 0 M483.599 1450.83 L483.599 1455.39 Q480.937 1454.11 478.576 1453.49 Q476.215 1452.86 474.016 1452.86 Q470.197 1452.86 468.113 1454.34 Q466.053 1455.83 466.053 1458.56 Q466.053 1460.85 467.419 1462.03 Q468.808 1463.19 472.65 1463.9 L475.474 1464.48 Q480.706 1465.48 483.183 1468 Q485.683 1470.5 485.683 1474.71 Q485.683 1479.74 482.303 1482.33 Q478.947 1484.92 472.442 1484.92 Q469.988 1484.92 467.211 1484.37 Q464.456 1483.81 461.493 1482.72 L461.493 1477.91 Q464.34 1479.51 467.072 1480.32 Q469.803 1481.13 472.442 1481.13 Q476.447 1481.13 478.623 1479.55 Q480.798 1477.98 480.798 1475.06 Q480.798 1472.52 479.224 1471.08 Q477.674 1469.65 474.109 1468.93 L471.261 1468.37 Q466.03 1467.33 463.692 1465.11 Q461.354 1462.89 461.354 1458.93 Q461.354 1454.34 464.572 1451.71 Q467.812 1449.07 473.484 1449.07 Q475.914 1449.07 478.437 1449.51 Q480.961 1449.95 483.599 1450.83 Z\" fill=\"#000000\" fill-rule=\"evenodd\" fill-opacity=\"1\" /><path clip-path=\"url(#clip4300)\" d=\"M 0 0 M512.326 1470.22 L512.326 1472.31 L492.743 1472.31 Q493.021 1476.71 495.382 1479.02 Q497.766 1481.31 502.002 1481.31 Q504.456 1481.31 506.747 1480.71 Q509.062 1480.11 511.331 1478.9 L511.331 1482.93 Q509.039 1483.9 506.632 1484.41 Q504.224 1484.92 501.747 1484.92 Q495.544 1484.92 491.91 1481.31 Q488.298 1477.7 488.298 1471.54 Q488.298 1465.18 491.724 1461.45 Q495.173 1457.7 501.007 1457.7 Q506.238 1457.7 509.271 1461.08 Q512.326 1464.44 512.326 1470.22 M508.067 1468.97 Q508.021 1465.48 506.099 1463.4 Q504.201 1461.31 501.053 1461.31 Q497.488 1461.31 495.335 1463.33 Q493.206 1465.34 492.882 1469 L508.067 1468.97 Z\" fill=\"#000000\" fill-rule=\"evenodd\" fill-opacity=\"1\" /><path clip-path=\"url(#clip4300)\" d=\"M 0 0 M520.914 1480.36 L520.914 1494.11 L516.632 1494.11 L516.632 1458.33 L520.914 1458.33 L520.914 1462.26 Q522.257 1459.95 524.294 1458.84 Q526.354 1457.7 529.201 1457.7 Q533.923 1457.7 536.863 1461.45 Q539.826 1465.2 539.826 1471.31 Q539.826 1477.42 536.863 1481.17 Q533.923 1484.92 529.201 1484.92 Q526.354 1484.92 524.294 1483.81 Q522.257 1482.68 520.914 1480.36 M535.405 1471.31 Q535.405 1466.61 533.46 1463.95 Q531.539 1461.27 528.159 1461.27 Q524.78 1461.27 522.835 1463.95 Q520.914 1466.61 520.914 1471.31 Q520.914 1476.01 522.835 1478.7 Q524.78 1481.36 528.159 1481.36 Q531.539 1481.36 533.46 1478.7 Q535.405 1476.01 535.405 1471.31 Z\" fill=\"#000000\" fill-rule=\"evenodd\" fill-opacity=\"1\" /><path clip-path=\"url(#clip4300)\" d=\"M 0 0 M544.895 1478.37 L549.78 1478.37 L549.78 1484.25 L544.895 1484.25 L544.895 1478.37 Z\" fill=\"#000000\" fill-rule=\"evenodd\" fill-opacity=\"1\" /><path clip-path=\"url(#clip4300)\" d=\"M 0 0 M555.659 1480.32 L563.298 1480.32 L563.298 1453.95 L554.988 1455.62 L554.988 1451.36 L563.252 1449.69 L567.928 1449.69 L567.928 1480.32 L575.566 1480.32 L575.566 1484.25 L555.659 1484.25 L555.659 1480.32 Z\" fill=\"#000000\" fill-rule=\"evenodd\" fill-opacity=\"1\" /><path clip-path=\"url(#clip4300)\" d=\"M 0 0 M591.215 1465.11 Q588.066 1465.11 586.215 1467.26 Q584.386 1469.41 584.386 1473.16 Q584.386 1476.89 586.215 1479.07 Q588.066 1481.22 591.215 1481.22 Q594.363 1481.22 596.191 1479.07 Q598.043 1476.89 598.043 1473.16 Q598.043 1469.41 596.191 1467.26 Q594.363 1465.11 591.215 1465.11 M600.497 1450.46 L600.497 1454.71 Q598.738 1453.88 596.932 1453.44 Q595.15 1453 593.39 1453 Q588.761 1453 586.307 1456.13 Q583.877 1459.25 583.529 1465.57 Q584.895 1463.56 586.955 1462.49 Q589.015 1461.4 591.492 1461.4 Q596.701 1461.4 599.71 1464.58 Q602.742 1467.72 602.742 1473.16 Q602.742 1478.49 599.594 1481.71 Q596.446 1484.92 591.215 1484.92 Q585.219 1484.92 582.048 1480.34 Q578.877 1475.73 578.877 1467.01 Q578.877 1458.81 582.766 1453.95 Q586.654 1449.07 593.205 1449.07 Q594.965 1449.07 596.747 1449.41 Q598.552 1449.76 600.497 1450.46 Z\" fill=\"#000000\" fill-rule=\"evenodd\" fill-opacity=\"1\" /><path clip-path=\"url(#clip4300)\" d=\"M 0 0 M608.298 1478.37 L613.182 1478.37 L613.182 1482.35 L609.386 1489.76 L606.4 1489.76 L608.298 1482.35 L608.298 1478.37 Z\" fill=\"#000000\" fill-rule=\"evenodd\" fill-opacity=\"1\" /><path clip-path=\"url(#clip4300)\" d=\"M 0 0 M622.279 1480.32 L638.599 1480.32 L638.599 1484.25 L616.654 1484.25 L616.654 1480.32 Q619.316 1477.56 623.9 1472.93 Q628.506 1468.28 629.687 1466.94 Q631.932 1464.41 632.812 1462.68 Q633.714 1460.92 633.714 1459.23 Q633.714 1456.47 631.77 1454.74 Q629.849 1453 626.747 1453 Q624.548 1453 622.094 1453.77 Q619.663 1454.53 616.886 1456.08 L616.886 1451.36 Q619.71 1450.22 622.163 1449.65 Q624.617 1449.07 626.654 1449.07 Q632.025 1449.07 635.219 1451.75 Q638.413 1454.44 638.413 1458.93 Q638.413 1461.06 637.603 1462.98 Q636.816 1464.88 634.71 1467.47 Q634.131 1468.14 631.029 1471.36 Q627.927 1474.55 622.279 1480.32 Z\" fill=\"#000000\" fill-rule=\"evenodd\" fill-opacity=\"1\" /><path clip-path=\"url(#clip4300)\" d=\"M 0 0 M653.668 1452.77 Q650.057 1452.77 648.228 1456.34 Q646.423 1459.88 646.423 1467.01 Q646.423 1474.11 648.228 1477.68 Q650.057 1481.22 653.668 1481.22 Q657.302 1481.22 659.108 1477.68 Q660.936 1474.11 660.936 1467.01 Q660.936 1459.88 659.108 1456.34 Q657.302 1452.77 653.668 1452.77 M653.668 1449.07 Q659.478 1449.07 662.534 1453.67 Q665.612 1458.26 665.612 1467.01 Q665.612 1475.73 662.534 1480.34 Q659.478 1484.92 653.668 1484.92 Q647.858 1484.92 644.779 1480.34 Q641.724 1475.73 641.724 1467.01 Q641.724 1458.26 644.779 1453.67 Q647.858 1449.07 653.668 1449.07 Z\" fill=\"#000000\" fill-rule=\"evenodd\" fill-opacity=\"1\" /><path clip-path=\"url(#clip4300)\" d=\"M 0 0 M746.68 1450.83 L746.68 1455.39 Q744.018 1454.11 741.657 1453.49 Q739.296 1452.86 737.097 1452.86 Q733.277 1452.86 731.194 1454.34 Q729.134 1455.83 729.134 1458.56 Q729.134 1460.85 730.5 1462.03 Q731.889 1463.19 735.731 1463.9 L738.555 1464.48 Q743.787 1465.48 746.263 1468 Q748.763 1470.5 748.763 1474.71 Q748.763 1479.74 745.384 1482.33 Q742.027 1484.92 735.523 1484.92 Q733.069 1484.92 730.291 1484.37 Q727.537 1483.81 724.574 1482.72 L724.574 1477.91 Q727.421 1479.51 730.152 1480.32 Q732.884 1481.13 735.523 1481.13 Q739.527 1481.13 741.703 1479.55 Q743.879 1477.98 743.879 1475.06 Q743.879 1472.52 742.305 1471.08 Q740.754 1469.65 737.189 1468.93 L734.342 1468.37 Q729.111 1467.33 726.773 1465.11 Q724.435 1462.89 724.435 1458.93 Q724.435 1454.34 727.652 1451.71 Q730.893 1449.07 736.564 1449.07 Q738.995 1449.07 741.518 1449.51 Q744.041 1449.95 746.68 1450.83 Z\" fill=\"#000000\" fill-rule=\"evenodd\" fill-opacity=\"1\" /><path clip-path=\"url(#clip4300)\" d=\"M 0 0 M775.407 1470.22 L775.407 1472.31 L755.824 1472.31 Q756.101 1476.71 758.462 1479.02 Q760.847 1481.31 765.083 1481.31 Q767.536 1481.31 769.828 1480.71 Q772.143 1480.11 774.411 1478.9 L774.411 1482.93 Q772.12 1483.9 769.712 1484.41 Q767.305 1484.92 764.828 1484.92 Q758.625 1484.92 754.99 1481.31 Q751.379 1477.7 751.379 1471.54 Q751.379 1465.18 754.805 1461.45 Q758.254 1457.7 764.087 1457.7 Q769.319 1457.7 772.351 1461.08 Q775.407 1464.44 775.407 1470.22 M771.148 1468.97 Q771.101 1465.48 769.18 1463.4 Q767.282 1461.31 764.134 1461.31 Q760.569 1461.31 758.416 1463.33 Q756.287 1465.34 755.962 1469 L771.148 1468.97 Z\" fill=\"#000000\" fill-rule=\"evenodd\" fill-opacity=\"1\" /><path clip-path=\"url(#clip4300)\" d=\"M 0 0 M783.995 1480.36 L783.995 1494.11 L779.712 1494.11 L779.712 1458.33 L783.995 1458.33 L783.995 1462.26 Q785.337 1459.95 787.374 1458.84 Q789.435 1457.7 792.282 1457.7 Q797.004 1457.7 799.944 1461.45 Q802.907 1465.2 802.907 1471.31 Q802.907 1477.42 799.944 1481.17 Q797.004 1484.92 792.282 1484.92 Q789.435 1484.92 787.374 1483.81 Q785.337 1482.68 783.995 1480.36 M798.485 1471.31 Q798.485 1466.61 796.541 1463.95 Q794.62 1461.27 791.24 1461.27 Q787.86 1461.27 785.916 1463.95 Q783.995 1466.61 783.995 1471.31 Q783.995 1476.01 785.916 1478.7 Q787.86 1481.36 791.24 1481.36 Q794.62 1481.36 796.541 1478.7 Q798.485 1476.01 798.485 1471.31 Z\" fill=\"#000000\" fill-rule=\"evenodd\" fill-opacity=\"1\" /><path clip-path=\"url(#clip4300)\" d=\"M 0 0 M807.976 1478.37 L812.86 1478.37 L812.86 1484.25 L807.976 1484.25 L807.976 1478.37 Z\" fill=\"#000000\" fill-rule=\"evenodd\" fill-opacity=\"1\" /><path clip-path=\"url(#clip4300)\" d=\"M 0 0 M821.957 1480.32 L838.277 1480.32 L838.277 1484.25 L816.333 1484.25 L816.333 1480.32 Q818.995 1477.56 823.578 1472.93 Q828.184 1468.28 829.365 1466.94 Q831.61 1464.41 832.49 1462.68 Q833.393 1460.92 833.393 1459.23 Q833.393 1456.47 831.448 1454.74 Q829.527 1453 826.425 1453 Q824.226 1453 821.772 1453.77 Q819.342 1454.53 816.564 1456.08 L816.564 1451.36 Q819.388 1450.22 821.842 1449.65 Q824.295 1449.07 826.332 1449.07 Q831.703 1449.07 834.897 1451.75 Q838.092 1454.44 838.092 1458.93 Q838.092 1461.06 837.281 1462.98 Q836.494 1464.88 834.388 1467.47 Q833.809 1468.14 830.707 1471.36 Q827.606 1474.55 821.957 1480.32 Z\" fill=\"#000000\" fill-rule=\"evenodd\" fill-opacity=\"1\" /><path clip-path=\"url(#clip4300)\" d=\"M 0 0 M843.393 1449.69 L861.749 1449.69 L861.749 1453.63 L847.675 1453.63 L847.675 1462.1 Q848.693 1461.75 849.712 1461.59 Q850.73 1461.4 851.749 1461.4 Q857.536 1461.4 860.916 1464.58 Q864.295 1467.75 864.295 1473.16 Q864.295 1478.74 860.823 1481.84 Q857.351 1484.92 851.031 1484.92 Q848.856 1484.92 846.587 1484.55 Q844.342 1484.18 841.934 1483.44 L841.934 1478.74 Q844.018 1479.88 846.24 1480.43 Q848.462 1480.99 850.939 1480.99 Q854.943 1480.99 857.281 1478.88 Q859.619 1476.78 859.619 1473.16 Q859.619 1469.55 857.281 1467.45 Q854.943 1465.34 850.939 1465.34 Q849.064 1465.34 847.189 1465.76 Q845.337 1466.17 843.393 1467.05 L843.393 1449.69 Z\" fill=\"#000000\" fill-rule=\"evenodd\" fill-opacity=\"1\" /><path clip-path=\"url(#clip4300)\" d=\"M 0 0 M869.851 1478.37 L874.735 1478.37 L874.735 1482.35 L870.939 1489.76 L867.953 1489.76 L869.851 1482.35 L869.851 1478.37 Z\" fill=\"#000000\" fill-rule=\"evenodd\" fill-opacity=\"1\" /><path clip-path=\"url(#clip4300)\" d=\"M 0 0 M883.832 1480.32 L900.152 1480.32 L900.152 1484.25 L878.207 1484.25 L878.207 1480.32 Q880.869 1477.56 885.453 1472.93 Q890.059 1468.28 891.24 1466.94 Q893.485 1464.41 894.365 1462.68 Q895.267 1460.92 895.267 1459.23 Q895.267 1456.47 893.323 1454.74 Q891.402 1453 888.3 1453 Q886.101 1453 883.647 1453.77 Q881.216 1454.53 878.439 1456.08 L878.439 1451.36 Q881.263 1450.22 883.716 1449.65 Q886.17 1449.07 888.207 1449.07 Q893.577 1449.07 896.772 1451.75 Q899.966 1454.44 899.966 1458.93 Q899.966 1461.06 899.156 1462.98 Q898.369 1464.88 896.263 1467.47 Q895.684 1468.14 892.582 1471.36 Q889.48 1474.55 883.832 1480.32 Z\" fill=\"#000000\" fill-rule=\"evenodd\" fill-opacity=\"1\" /><path clip-path=\"url(#clip4300)\" d=\"M 0 0 M915.221 1452.77 Q911.61 1452.77 909.781 1456.34 Q907.976 1459.88 907.976 1467.01 Q907.976 1474.11 909.781 1477.68 Q911.61 1481.22 915.221 1481.22 Q918.855 1481.22 920.661 1477.68 Q922.489 1474.11 922.489 1467.01 Q922.489 1459.88 920.661 1456.34 Q918.855 1452.77 915.221 1452.77 M915.221 1449.07 Q921.031 1449.07 924.087 1453.67 Q927.165 1458.26 927.165 1467.01 Q927.165 1475.73 924.087 1480.34 Q921.031 1484.92 915.221 1484.92 Q909.411 1484.92 906.332 1480.34 Q903.277 1475.73 903.277 1467.01 Q903.277 1458.26 906.332 1453.67 Q909.411 1449.07 915.221 1449.07 Z\" fill=\"#000000\" fill-rule=\"evenodd\" fill-opacity=\"1\" /><path clip-path=\"url(#clip4300)\" d=\"M 0 0 M989.11 1452.86 Q984.017 1452.86 981.008 1456.66 Q978.022 1460.46 978.022 1467.01 Q978.022 1473.53 981.008 1477.33 Q984.017 1481.13 989.11 1481.13 Q994.202 1481.13 997.165 1477.33 Q1000.15 1473.53 1000.15 1467.01 Q1000.15 1460.46 997.165 1456.66 Q994.202 1452.86 989.11 1452.86 M989.11 1449.07 Q996.378 1449.07 1000.73 1453.95 Q1005.08 1458.81 1005.08 1467.01 Q1005.08 1475.18 1000.73 1480.06 Q996.378 1484.92 989.11 1484.92 Q981.818 1484.92 977.443 1480.06 Q973.091 1475.2 973.091 1467.01 Q973.091 1458.81 977.443 1453.95 Q981.818 1449.07 989.11 1449.07 Z\" fill=\"#000000\" fill-rule=\"evenodd\" fill-opacity=\"1\" /><path clip-path=\"url(#clip4300)\" d=\"M 0 0 M1028.21 1459.32 L1028.21 1463.3 Q1026.4 1462.31 1024.57 1461.82 Q1022.77 1461.31 1020.92 1461.31 Q1016.77 1461.31 1014.48 1463.95 Q1012.19 1466.57 1012.19 1471.31 Q1012.19 1476.06 1014.48 1478.7 Q1016.77 1481.31 1020.92 1481.31 Q1022.77 1481.31 1024.57 1480.83 Q1026.4 1480.32 1028.21 1479.32 L1028.21 1483.26 Q1026.42 1484.09 1024.5 1484.51 Q1022.61 1484.92 1020.45 1484.92 Q1014.6 1484.92 1011.15 1481.24 Q1007.7 1477.56 1007.7 1471.31 Q1007.7 1464.97 1011.17 1461.34 Q1014.67 1457.7 1020.73 1457.7 Q1022.7 1457.7 1024.57 1458.12 Q1026.45 1458.51 1028.21 1459.32 Z\" fill=\"#000000\" fill-rule=\"evenodd\" fill-opacity=\"1\" /><path clip-path=\"url(#clip4300)\" d=\"M 0 0 M1036.89 1450.96 L1036.89 1458.33 L1045.66 1458.33 L1045.66 1461.64 L1036.89 1461.64 L1036.89 1475.71 Q1036.89 1478.88 1037.74 1479.78 Q1038.62 1480.69 1041.29 1480.69 L1045.66 1480.69 L1045.66 1484.25 L1041.29 1484.25 Q1036.35 1484.25 1034.48 1482.42 Q1032.6 1480.57 1032.6 1475.71 L1032.6 1461.64 L1029.48 1461.64 L1029.48 1458.33 L1032.6 1458.33 L1032.6 1450.96 L1036.89 1450.96 Z\" fill=\"#000000\" fill-rule=\"evenodd\" fill-opacity=\"1\" /><path clip-path=\"url(#clip4300)\" d=\"M 0 0 M1050.73 1478.37 L1055.61 1478.37 L1055.61 1484.25 L1050.73 1484.25 L1050.73 1478.37 Z\" fill=\"#000000\" fill-rule=\"evenodd\" fill-opacity=\"1\" /><path clip-path=\"url(#clip4300)\" d=\"M 0 0 M1074.85 1465.62 Q1078.21 1466.34 1080.08 1468.6 Q1081.98 1470.87 1081.98 1474.21 Q1081.98 1479.32 1078.46 1482.12 Q1074.94 1484.92 1068.46 1484.92 Q1066.29 1484.92 1063.97 1484.48 Q1061.68 1484.07 1059.23 1483.21 L1059.23 1478.7 Q1061.17 1479.83 1063.48 1480.41 Q1065.8 1480.99 1068.32 1480.99 Q1072.72 1480.99 1075.01 1479.25 Q1077.33 1477.52 1077.33 1474.21 Q1077.33 1471.15 1075.17 1469.44 Q1073.04 1467.7 1069.23 1467.7 L1065.2 1467.7 L1065.2 1463.86 L1069.41 1463.86 Q1072.86 1463.86 1074.69 1462.49 Q1076.52 1461.1 1076.52 1458.51 Q1076.52 1455.85 1074.62 1454.44 Q1072.74 1453 1069.23 1453 Q1067.3 1453 1065.1 1453.42 Q1062.91 1453.84 1060.27 1454.71 L1060.27 1450.55 Q1062.93 1449.81 1065.24 1449.44 Q1067.58 1449.07 1069.64 1449.07 Q1074.97 1449.07 1078.07 1451.5 Q1081.17 1453.9 1081.17 1458.03 Q1081.17 1460.9 1079.53 1462.89 Q1077.88 1464.85 1074.85 1465.62 Z\" fill=\"#000000\" fill-rule=\"evenodd\" fill-opacity=\"1\" /><path clip-path=\"url(#clip4300)\" d=\"M 0 0 M1087.54 1478.37 L1092.42 1478.37 L1092.42 1482.35 L1088.62 1489.76 L1085.64 1489.76 L1087.54 1482.35 L1087.54 1478.37 Z\" fill=\"#000000\" fill-rule=\"evenodd\" fill-opacity=\"1\" /><path clip-path=\"url(#clip4300)\" d=\"M 0 0 M1101.52 1480.32 L1117.84 1480.32 L1117.84 1484.25 L1095.89 1484.25 L1095.89 1480.32 Q1098.55 1477.56 1103.14 1472.93 Q1107.74 1468.28 1108.92 1466.94 Q1111.17 1464.41 1112.05 1462.68 Q1112.95 1460.92 1112.95 1459.23 Q1112.95 1456.47 1111.01 1454.74 Q1109.09 1453 1105.98 1453 Q1103.79 1453 1101.33 1453.77 Q1098.9 1454.53 1096.12 1456.08 L1096.12 1451.36 Q1098.95 1450.22 1101.4 1449.65 Q1103.85 1449.07 1105.89 1449.07 Q1111.26 1449.07 1114.46 1451.75 Q1117.65 1454.44 1117.65 1458.93 Q1117.65 1461.06 1116.84 1462.98 Q1116.05 1464.88 1113.95 1467.47 Q1113.37 1468.14 1110.27 1471.36 Q1107.16 1474.55 1101.52 1480.32 Z\" fill=\"#000000\" fill-rule=\"evenodd\" fill-opacity=\"1\" /><path clip-path=\"url(#clip4300)\" d=\"M 0 0 M1132.91 1452.77 Q1129.29 1452.77 1127.47 1456.34 Q1125.66 1459.88 1125.66 1467.01 Q1125.66 1474.11 1127.47 1477.68 Q1129.29 1481.22 1132.91 1481.22 Q1136.54 1481.22 1138.35 1477.68 Q1140.17 1474.11 1140.17 1467.01 Q1140.17 1459.88 1138.35 1456.34 Q1136.54 1452.77 1132.91 1452.77 M1132.91 1449.07 Q1138.72 1449.07 1141.77 1453.67 Q1144.85 1458.26 1144.85 1467.01 Q1144.85 1475.73 1141.77 1480.34 Q1138.72 1484.92 1132.91 1484.92 Q1127.1 1484.92 1124.02 1480.34 Q1120.96 1475.73 1120.96 1467.01 Q1120.96 1458.26 1124.02 1453.67 Q1127.1 1449.07 1132.91 1449.07 Z\" fill=\"#000000\" fill-rule=\"evenodd\" fill-opacity=\"1\" /><path clip-path=\"url(#clip4300)\" d=\"M 0 0 M1239.01 1452.86 Q1233.92 1452.86 1230.91 1456.66 Q1227.92 1460.46 1227.92 1467.01 Q1227.92 1473.53 1230.91 1477.33 Q1233.92 1481.13 1239.01 1481.13 Q1244.1 1481.13 1247.06 1477.33 Q1250.05 1473.53 1250.05 1467.01 Q1250.05 1460.46 1247.06 1456.66 Q1244.1 1452.86 1239.01 1452.86 M1239.01 1449.07 Q1246.28 1449.07 1250.63 1453.95 Q1254.98 1458.81 1254.98 1467.01 Q1254.98 1475.18 1250.63 1480.06 Q1246.28 1484.92 1239.01 1484.92 Q1231.72 1484.92 1227.34 1480.06 Q1222.99 1475.2 1222.99 1467.01 Q1222.99 1458.81 1227.34 1453.95 Q1231.72 1449.07 1239.01 1449.07 Z\" fill=\"#000000\" fill-rule=\"evenodd\" fill-opacity=\"1\" /><path clip-path=\"url(#clip4300)\" d=\"M 0 0 M1278.1 1459.32 L1278.1 1463.3 Q1276.3 1462.31 1274.47 1461.82 Q1272.67 1461.31 1270.81 1461.31 Q1266.67 1461.31 1264.38 1463.95 Q1262.09 1466.57 1262.09 1471.31 Q1262.09 1476.06 1264.38 1478.7 Q1266.67 1481.31 1270.81 1481.31 Q1272.67 1481.31 1274.47 1480.83 Q1276.3 1480.32 1278.1 1479.32 L1278.1 1483.26 Q1276.32 1484.09 1274.4 1484.51 Q1272.5 1484.92 1270.35 1484.92 Q1264.49 1484.92 1261.04 1481.24 Q1257.6 1477.56 1257.6 1471.31 Q1257.6 1464.97 1261.07 1461.34 Q1264.56 1457.7 1270.63 1457.7 Q1272.6 1457.7 1274.47 1458.12 Q1276.35 1458.51 1278.1 1459.32 Z\" fill=\"#000000\" fill-rule=\"evenodd\" fill-opacity=\"1\" /><path clip-path=\"url(#clip4300)\" d=\"M 0 0 M1286.79 1450.96 L1286.79 1458.33 L1295.56 1458.33 L1295.56 1461.64 L1286.79 1461.64 L1286.79 1475.71 Q1286.79 1478.88 1287.64 1479.78 Q1288.52 1480.69 1291.18 1480.69 L1295.56 1480.69 L1295.56 1484.25 L1291.18 1484.25 Q1286.25 1484.25 1284.38 1482.42 Q1282.5 1480.57 1282.5 1475.71 L1282.5 1461.64 L1279.38 1461.64 L1279.38 1458.33 L1282.5 1458.33 L1282.5 1450.96 L1286.79 1450.96 Z\" fill=\"#000000\" fill-rule=\"evenodd\" fill-opacity=\"1\" /><path clip-path=\"url(#clip4300)\" d=\"M 0 0 M1300.63 1478.37 L1305.51 1478.37 L1305.51 1484.25 L1300.63 1484.25 L1300.63 1478.37 Z\" fill=\"#000000\" fill-rule=\"evenodd\" fill-opacity=\"1\" /><path clip-path=\"url(#clip4300)\" d=\"M 0 0 M1311.39 1480.32 L1319.03 1480.32 L1319.03 1453.95 L1310.72 1455.62 L1310.72 1451.36 L1318.98 1449.69 L1323.66 1449.69 L1323.66 1480.32 L1331.3 1480.32 L1331.3 1484.25 L1311.39 1484.25 L1311.39 1480.32 Z\" fill=\"#000000\" fill-rule=\"evenodd\" fill-opacity=\"1\" /><path clip-path=\"url(#clip4300)\" d=\"M 0 0 M1340.4 1480.32 L1356.72 1480.32 L1356.72 1484.25 L1334.77 1484.25 L1334.77 1480.32 Q1337.43 1477.56 1342.02 1472.93 Q1346.62 1468.28 1347.8 1466.94 Q1350.05 1464.41 1350.93 1462.68 Q1351.83 1460.92 1351.83 1459.23 Q1351.83 1456.47 1349.89 1454.74 Q1347.97 1453 1344.86 1453 Q1342.66 1453 1340.21 1453.77 Q1337.78 1454.53 1335 1456.08 L1335 1451.36 Q1337.83 1450.22 1340.28 1449.65 Q1342.73 1449.07 1344.77 1449.07 Q1350.14 1449.07 1353.34 1451.75 Q1356.53 1454.44 1356.53 1458.93 Q1356.53 1461.06 1355.72 1462.98 Q1354.93 1464.88 1352.83 1467.47 Q1352.25 1468.14 1349.15 1471.36 Q1346.04 1474.55 1340.4 1480.32 Z\" fill=\"#000000\" fill-rule=\"evenodd\" fill-opacity=\"1\" /><path clip-path=\"url(#clip4300)\" d=\"M 0 0 M1362.27 1478.37 L1367.16 1478.37 L1367.16 1482.35 L1363.36 1489.76 L1360.37 1489.76 L1362.27 1482.35 L1362.27 1478.37 Z\" fill=\"#000000\" fill-rule=\"evenodd\" fill-opacity=\"1\" /><path clip-path=\"url(#clip4300)\" d=\"M 0 0 M1376.25 1480.32 L1392.57 1480.32 L1392.57 1484.25 L1370.63 1484.25 L1370.63 1480.32 Q1373.29 1477.56 1377.87 1472.93 Q1382.48 1468.28 1383.66 1466.94 Q1385.91 1464.41 1386.78 1462.68 Q1387.69 1460.92 1387.69 1459.23 Q1387.69 1456.47 1385.74 1454.74 Q1383.82 1453 1380.72 1453 Q1378.52 1453 1376.07 1453.77 Q1373.64 1454.53 1370.86 1456.08 L1370.86 1451.36 Q1373.68 1450.22 1376.14 1449.65 Q1378.59 1449.07 1380.63 1449.07 Q1386 1449.07 1389.19 1451.75 Q1392.39 1454.44 1392.39 1458.93 Q1392.39 1461.06 1391.58 1462.98 Q1390.79 1464.88 1388.68 1467.47 Q1388.1 1468.14 1385 1471.36 Q1381.9 1474.55 1376.25 1480.32 Z\" fill=\"#000000\" fill-rule=\"evenodd\" fill-opacity=\"1\" /><path clip-path=\"url(#clip4300)\" d=\"M 0 0 M1407.64 1452.77 Q1404.03 1452.77 1402.2 1456.34 Q1400.4 1459.88 1400.4 1467.01 Q1400.4 1474.11 1402.2 1477.68 Q1404.03 1481.22 1407.64 1481.22 Q1411.28 1481.22 1413.08 1477.68 Q1414.91 1474.11 1414.91 1467.01 Q1414.91 1459.88 1413.08 1456.34 Q1411.28 1452.77 1407.64 1452.77 M1407.64 1449.07 Q1413.45 1449.07 1416.51 1453.67 Q1419.59 1458.26 1419.59 1467.01 Q1419.59 1475.73 1416.51 1480.34 Q1413.45 1484.92 1407.64 1484.92 Q1401.83 1484.92 1398.75 1480.34 Q1395.7 1475.73 1395.7 1467.01 Q1395.7 1458.26 1398.75 1453.67 Q1401.83 1449.07 1407.64 1449.07 Z\" fill=\"#000000\" fill-rule=\"evenodd\" fill-opacity=\"1\" /><path clip-path=\"url(#clip4300)\" d=\"M 0 0 M1471.56 1452.86 Q1466.47 1452.86 1463.46 1456.66 Q1460.48 1460.46 1460.48 1467.01 Q1460.48 1473.53 1463.46 1477.33 Q1466.47 1481.13 1471.56 1481.13 Q1476.66 1481.13 1479.62 1477.33 Q1482.61 1473.53 1482.61 1467.01 Q1482.61 1460.46 1479.62 1456.66 Q1476.66 1452.86 1471.56 1452.86 M1471.56 1449.07 Q1478.83 1449.07 1483.19 1453.95 Q1487.54 1458.81 1487.54 1467.01 Q1487.54 1475.18 1483.19 1480.06 Q1478.83 1484.92 1471.56 1484.92 Q1464.27 1484.92 1459.9 1480.06 Q1455.55 1475.2 1455.55 1467.01 Q1455.55 1458.81 1459.9 1453.95 Q1464.27 1449.07 1471.56 1449.07 Z\" fill=\"#000000\" fill-rule=\"evenodd\" fill-opacity=\"1\" /><path clip-path=\"url(#clip4300)\" d=\"M 0 0 M1510.66 1459.32 L1510.66 1463.3 Q1508.86 1462.31 1507.03 1461.82 Q1505.22 1461.31 1503.37 1461.31 Q1499.23 1461.31 1496.94 1463.95 Q1494.64 1466.57 1494.64 1471.31 Q1494.64 1476.06 1496.94 1478.7 Q1499.23 1481.31 1503.37 1481.31 Q1505.22 1481.31 1507.03 1480.83 Q1508.86 1480.32 1510.66 1479.32 L1510.66 1483.26 Q1508.88 1484.09 1506.96 1484.51 Q1505.06 1484.92 1502.91 1484.92 Q1497.05 1484.92 1493.6 1481.24 Q1490.15 1477.56 1490.15 1471.31 Q1490.15 1464.97 1493.62 1461.34 Q1497.12 1457.7 1503.19 1457.7 Q1505.15 1457.7 1507.03 1458.12 Q1508.9 1458.51 1510.66 1459.32 Z\" fill=\"#000000\" fill-rule=\"evenodd\" fill-opacity=\"1\" /><path clip-path=\"url(#clip4300)\" d=\"M 0 0 M1519.34 1450.96 L1519.34 1458.33 L1528.12 1458.33 L1528.12 1461.64 L1519.34 1461.64 L1519.34 1475.71 Q1519.34 1478.88 1520.2 1479.78 Q1521.08 1480.69 1523.74 1480.69 L1528.12 1480.69 L1528.12 1484.25 L1523.74 1484.25 Q1518.81 1484.25 1516.94 1482.42 Q1515.06 1480.57 1515.06 1475.71 L1515.06 1461.64 L1511.94 1461.64 L1511.94 1458.33 L1515.06 1458.33 L1515.06 1450.96 L1519.34 1450.96 Z\" fill=\"#000000\" fill-rule=\"evenodd\" fill-opacity=\"1\" /><path clip-path=\"url(#clip4300)\" d=\"M 0 0 M1533.18 1478.37 L1538.07 1478.37 L1538.07 1484.25 L1533.18 1484.25 L1533.18 1478.37 Z\" fill=\"#000000\" fill-rule=\"evenodd\" fill-opacity=\"1\" /><path clip-path=\"url(#clip4300)\" d=\"M 0 0 M1547.17 1480.32 L1563.49 1480.32 L1563.49 1484.25 L1541.54 1484.25 L1541.54 1480.32 Q1544.2 1477.56 1548.79 1472.93 Q1553.39 1468.28 1554.57 1466.94 Q1556.82 1464.41 1557.7 1462.68 Q1558.6 1460.92 1558.6 1459.23 Q1558.6 1456.47 1556.66 1454.74 Q1554.74 1453 1551.63 1453 Q1549.43 1453 1546.98 1453.77 Q1544.55 1454.53 1541.77 1456.08 L1541.77 1451.36 Q1544.6 1450.22 1547.05 1449.65 Q1549.5 1449.07 1551.54 1449.07 Q1556.91 1449.07 1560.11 1451.75 Q1563.3 1454.44 1563.3 1458.93 Q1563.3 1461.06 1562.49 1462.98 Q1561.7 1464.88 1559.6 1467.47 Q1559.02 1468.14 1555.92 1471.36 Q1552.81 1474.55 1547.17 1480.32 Z\" fill=\"#000000\" fill-rule=\"evenodd\" fill-opacity=\"1\" /><path clip-path=\"url(#clip4300)\" d=\"M 0 0 M1578.56 1452.77 Q1574.94 1452.77 1573.12 1456.34 Q1571.31 1459.88 1571.31 1467.01 Q1571.31 1474.11 1573.12 1477.68 Q1574.94 1481.22 1578.56 1481.22 Q1582.19 1481.22 1583.99 1477.68 Q1585.82 1474.11 1585.82 1467.01 Q1585.82 1459.88 1583.99 1456.34 Q1582.19 1452.77 1578.56 1452.77 M1578.56 1449.07 Q1584.37 1449.07 1587.42 1453.67 Q1590.5 1458.26 1590.5 1467.01 Q1590.5 1475.73 1587.42 1480.34 Q1584.37 1484.92 1578.56 1484.92 Q1572.74 1484.92 1569.67 1480.34 Q1566.61 1475.73 1566.61 1467.01 Q1566.61 1458.26 1569.67 1453.67 Q1572.74 1449.07 1578.56 1449.07 Z\" fill=\"#000000\" fill-rule=\"evenodd\" fill-opacity=\"1\" /><path clip-path=\"url(#clip4300)\" d=\"M 0 0 M1596.05 1478.37 L1600.94 1478.37 L1600.94 1482.35 L1597.14 1489.76 L1594.16 1489.76 L1596.05 1482.35 L1596.05 1478.37 Z\" fill=\"#000000\" fill-rule=\"evenodd\" fill-opacity=\"1\" /><path clip-path=\"url(#clip4300)\" d=\"M 0 0 M1610.04 1480.32 L1626.36 1480.32 L1626.36 1484.25 L1604.41 1484.25 L1604.41 1480.32 Q1607.07 1477.56 1611.66 1472.93 Q1616.26 1468.28 1617.44 1466.94 Q1619.69 1464.41 1620.57 1462.68 Q1621.47 1460.92 1621.47 1459.23 Q1621.47 1456.47 1619.53 1454.74 Q1617.61 1453 1614.5 1453 Q1612.3 1453 1609.85 1453.77 Q1607.42 1454.53 1604.64 1456.08 L1604.64 1451.36 Q1607.47 1450.22 1609.92 1449.65 Q1612.37 1449.07 1614.41 1449.07 Q1619.78 1449.07 1622.98 1451.75 Q1626.17 1454.44 1626.17 1458.93 Q1626.17 1461.06 1625.36 1462.98 Q1624.57 1464.88 1622.47 1467.47 Q1621.89 1468.14 1618.79 1471.36 Q1615.68 1474.55 1610.04 1480.32 Z\" fill=\"#000000\" fill-rule=\"evenodd\" fill-opacity=\"1\" /><path clip-path=\"url(#clip4300)\" d=\"M 0 0 M1641.43 1452.77 Q1637.81 1452.77 1635.99 1456.34 Q1634.18 1459.88 1634.18 1467.01 Q1634.18 1474.11 1635.99 1477.68 Q1637.81 1481.22 1641.43 1481.22 Q1645.06 1481.22 1646.86 1477.68 Q1648.69 1474.11 1648.69 1467.01 Q1648.69 1459.88 1646.86 1456.34 Q1645.06 1452.77 1641.43 1452.77 M1641.43 1449.07 Q1647.24 1449.07 1650.29 1453.67 Q1653.37 1458.26 1653.37 1467.01 Q1653.37 1475.73 1650.29 1480.34 Q1647.24 1484.92 1641.43 1484.92 Q1635.61 1484.92 1632.54 1480.34 Q1629.48 1475.73 1629.48 1467.01 Q1629.48 1458.26 1632.54 1453.67 Q1635.61 1449.07 1641.43 1449.07 Z\" fill=\"#000000\" fill-rule=\"evenodd\" fill-opacity=\"1\" /><path clip-path=\"url(#clip4300)\" d=\"M 0 0 M1733.97 1452.86 Q1728.88 1452.86 1725.87 1456.66 Q1722.89 1460.46 1722.89 1467.01 Q1722.89 1473.53 1725.87 1477.33 Q1728.88 1481.13 1733.97 1481.13 Q1739.07 1481.13 1742.03 1477.33 Q1745.02 1473.53 1745.02 1467.01 Q1745.02 1460.46 1742.03 1456.66 Q1739.07 1452.86 1733.97 1452.86 M1733.97 1449.07 Q1741.24 1449.07 1745.59 1453.95 Q1749.95 1458.81 1749.95 1467.01 Q1749.95 1475.18 1745.59 1480.06 Q1741.24 1484.92 1733.97 1484.92 Q1726.68 1484.92 1722.31 1480.06 Q1717.96 1475.2 1717.96 1467.01 Q1717.96 1458.81 1722.31 1453.95 Q1726.68 1449.07 1733.97 1449.07 Z\" fill=\"#000000\" fill-rule=\"evenodd\" fill-opacity=\"1\" /><path clip-path=\"url(#clip4300)\" d=\"M 0 0 M1773.07 1459.32 L1773.07 1463.3 Q1771.27 1462.31 1769.44 1461.82 Q1767.63 1461.31 1765.78 1461.31 Q1761.64 1461.31 1759.34 1463.95 Q1757.05 1466.57 1757.05 1471.31 Q1757.05 1476.06 1759.34 1478.7 Q1761.64 1481.31 1765.78 1481.31 Q1767.63 1481.31 1769.44 1480.83 Q1771.27 1480.32 1773.07 1479.32 L1773.07 1483.26 Q1771.29 1484.09 1769.37 1484.51 Q1767.47 1484.92 1765.32 1484.92 Q1759.46 1484.92 1756.01 1481.24 Q1752.56 1477.56 1752.56 1471.31 Q1752.56 1464.97 1756.03 1461.34 Q1759.53 1457.7 1765.59 1457.7 Q1767.56 1457.7 1769.44 1458.12 Q1771.31 1458.51 1773.07 1459.32 Z\" fill=\"#000000\" fill-rule=\"evenodd\" fill-opacity=\"1\" /><path clip-path=\"url(#clip4300)\" d=\"M 0 0 M1781.75 1450.96 L1781.75 1458.33 L1790.52 1458.33 L1790.52 1461.64 L1781.75 1461.64 L1781.75 1475.71 Q1781.75 1478.88 1782.61 1479.78 Q1783.49 1480.69 1786.15 1480.69 L1790.52 1480.69 L1790.52 1484.25 L1786.15 1484.25 Q1781.22 1484.25 1779.34 1482.42 Q1777.47 1480.57 1777.47 1475.71 L1777.47 1461.64 L1774.34 1461.64 L1774.34 1458.33 L1777.47 1458.33 L1777.47 1450.96 L1781.75 1450.96 Z\" fill=\"#000000\" fill-rule=\"evenodd\" fill-opacity=\"1\" /><path clip-path=\"url(#clip4300)\" d=\"M 0 0 M1795.59 1478.37 L1800.48 1478.37 L1800.48 1484.25 L1795.59 1484.25 L1795.59 1478.37 Z\" fill=\"#000000\" fill-rule=\"evenodd\" fill-opacity=\"1\" /><path clip-path=\"url(#clip4300)\" d=\"M 0 0 M1809.58 1480.32 L1825.9 1480.32 L1825.9 1484.25 L1803.95 1484.25 L1803.95 1480.32 Q1806.61 1477.56 1811.2 1472.93 Q1815.8 1468.28 1816.98 1466.94 Q1819.23 1464.41 1820.11 1462.68 Q1821.01 1460.92 1821.01 1459.23 Q1821.01 1456.47 1819.07 1454.74 Q1817.15 1453 1814.04 1453 Q1811.84 1453 1809.39 1453.77 Q1806.96 1454.53 1804.18 1456.08 L1804.18 1451.36 Q1807.01 1450.22 1809.46 1449.65 Q1811.91 1449.07 1813.95 1449.07 Q1819.32 1449.07 1822.52 1451.75 Q1825.71 1454.44 1825.71 1458.93 Q1825.71 1461.06 1824.9 1462.98 Q1824.11 1464.88 1822.01 1467.47 Q1821.43 1468.14 1818.33 1471.36 Q1815.22 1474.55 1809.58 1480.32 Z\" fill=\"#000000\" fill-rule=\"evenodd\" fill-opacity=\"1\" /><path clip-path=\"url(#clip4300)\" d=\"M 0 0 M1831.1 1483.53 L1831.1 1479.28 Q1832.86 1480.11 1834.67 1480.55 Q1836.47 1480.99 1838.21 1480.99 Q1842.84 1480.99 1845.27 1477.89 Q1847.72 1474.76 1848.07 1468.42 Q1846.73 1470.41 1844.67 1471.47 Q1842.61 1472.54 1840.11 1472.54 Q1834.92 1472.54 1831.89 1469.41 Q1828.88 1466.27 1828.88 1460.83 Q1828.88 1455.5 1832.03 1452.28 Q1835.18 1449.07 1840.41 1449.07 Q1846.4 1449.07 1849.55 1453.67 Q1852.72 1458.26 1852.72 1467.01 Q1852.72 1475.18 1848.83 1480.06 Q1844.97 1484.92 1838.42 1484.92 Q1836.66 1484.92 1834.85 1484.58 Q1833.05 1484.23 1831.1 1483.53 M1840.41 1468.88 Q1843.56 1468.88 1845.39 1466.73 Q1847.24 1464.58 1847.24 1460.83 Q1847.24 1457.1 1845.39 1454.95 Q1843.56 1452.77 1840.41 1452.77 Q1837.26 1452.77 1835.41 1454.95 Q1833.58 1457.1 1833.58 1460.83 Q1833.58 1464.58 1835.41 1466.73 Q1837.26 1468.88 1840.41 1468.88 Z\" fill=\"#000000\" fill-rule=\"evenodd\" fill-opacity=\"1\" /><path clip-path=\"url(#clip4300)\" d=\"M 0 0 M1858.28 1478.37 L1863.16 1478.37 L1863.16 1482.35 L1859.37 1489.76 L1856.38 1489.76 L1858.28 1482.35 L1858.28 1478.37 Z\" fill=\"#000000\" fill-rule=\"evenodd\" fill-opacity=\"1\" /><path clip-path=\"url(#clip4300)\" d=\"M 0 0 M1872.26 1480.32 L1888.58 1480.32 L1888.58 1484.25 L1866.64 1484.25 L1866.64 1480.32 Q1869.3 1477.56 1873.88 1472.93 Q1878.49 1468.28 1879.67 1466.94 Q1881.91 1464.41 1882.79 1462.68 Q1883.7 1460.92 1883.7 1459.23 Q1883.7 1456.47 1881.75 1454.74 Q1879.83 1453 1876.73 1453 Q1874.53 1453 1872.08 1453.77 Q1869.64 1454.53 1866.87 1456.08 L1866.87 1451.36 Q1869.69 1450.22 1872.14 1449.65 Q1874.6 1449.07 1876.64 1449.07 Q1882.01 1449.07 1885.2 1451.75 Q1888.39 1454.44 1888.39 1458.93 Q1888.39 1461.06 1887.58 1462.98 Q1886.8 1464.88 1884.69 1467.47 Q1884.11 1468.14 1881.01 1471.36 Q1877.91 1474.55 1872.26 1480.32 Z\" fill=\"#000000\" fill-rule=\"evenodd\" fill-opacity=\"1\" /><path clip-path=\"url(#clip4300)\" d=\"M 0 0 M1903.65 1452.77 Q1900.04 1452.77 1898.21 1456.34 Q1896.4 1459.88 1896.4 1467.01 Q1896.4 1474.11 1898.21 1477.68 Q1900.04 1481.22 1903.65 1481.22 Q1907.28 1481.22 1909.09 1477.68 Q1910.92 1474.11 1910.92 1467.01 Q1910.92 1459.88 1909.09 1456.34 Q1907.28 1452.77 1903.65 1452.77 M1903.65 1449.07 Q1909.46 1449.07 1912.52 1453.67 Q1915.59 1458.26 1915.59 1467.01 Q1915.59 1475.73 1912.52 1480.34 Q1909.46 1484.92 1903.65 1484.92 Q1897.84 1484.92 1894.76 1480.34 Q1891.7 1475.73 1891.7 1467.01 Q1891.7 1458.26 1894.76 1453.67 Q1897.84 1449.07 1903.65 1449.07 Z\" fill=\"#000000\" fill-rule=\"evenodd\" fill-opacity=\"1\" /><path clip-path=\"url(#clip4300)\" d=\"M 0 0 M1962.18 1449.69 L1968.48 1449.69 L1983.8 1478.6 L1983.8 1449.69 L1988.34 1449.69 L1988.34 1484.25 L1982.04 1484.25 L1966.72 1455.34 L1966.72 1484.25 L1962.18 1484.25 L1962.18 1449.69 Z\" fill=\"#000000\" fill-rule=\"evenodd\" fill-opacity=\"1\" /><path clip-path=\"url(#clip4300)\" d=\"M 0 0 M2002.85 1461.31 Q1999.42 1461.31 1997.43 1464 Q1995.44 1466.66 1995.44 1471.31 Q1995.44 1475.96 1997.41 1478.65 Q1999.4 1481.31 2002.85 1481.31 Q2006.25 1481.31 2008.24 1478.63 Q2010.23 1475.94 2010.23 1471.31 Q2010.23 1466.71 2008.24 1464.02 Q2006.25 1461.31 2002.85 1461.31 M2002.85 1457.7 Q2008.41 1457.7 2011.58 1461.31 Q2014.75 1464.92 2014.75 1471.31 Q2014.75 1477.68 2011.58 1481.31 Q2008.41 1484.92 2002.85 1484.92 Q1997.27 1484.92 1994.1 1481.31 Q1990.95 1477.68 1990.95 1471.31 Q1990.95 1464.92 1994.1 1461.31 Q1997.27 1457.7 2002.85 1457.7 Z\" fill=\"#000000\" fill-rule=\"evenodd\" fill-opacity=\"1\" /><path clip-path=\"url(#clip4300)\" d=\"M 0 0 M2016.16 1458.33 L2020.67 1458.33 L2028.78 1480.09 L2036.88 1458.33 L2041.39 1458.33 L2031.67 1484.25 L2025.88 1484.25 L2016.16 1458.33 Z\" fill=\"#000000\" fill-rule=\"evenodd\" fill-opacity=\"1\" /><path clip-path=\"url(#clip4300)\" d=\"M 0 0 M2042.78 1478.37 L2047.67 1478.37 L2047.67 1484.25 L2042.78 1484.25 L2042.78 1478.37 Z\" fill=\"#000000\" fill-rule=\"evenodd\" fill-opacity=\"1\" /><path clip-path=\"url(#clip4300)\" d=\"M 0 0 M2063.31 1465.11 Q2060.17 1465.11 2058.31 1467.26 Q2056.48 1469.41 2056.48 1473.16 Q2056.48 1476.89 2058.31 1479.07 Q2060.17 1481.22 2063.31 1481.22 Q2066.46 1481.22 2068.29 1479.07 Q2070.14 1476.89 2070.14 1473.16 Q2070.14 1469.41 2068.29 1467.26 Q2066.46 1465.11 2063.31 1465.11 M2072.6 1450.46 L2072.6 1454.71 Q2070.84 1453.88 2069.03 1453.44 Q2067.25 1453 2065.49 1453 Q2060.86 1453 2058.41 1456.13 Q2055.98 1459.25 2055.63 1465.57 Q2056.99 1463.56 2059.05 1462.49 Q2061.11 1461.4 2063.59 1461.4 Q2068.8 1461.4 2071.81 1464.58 Q2074.84 1467.72 2074.84 1473.16 Q2074.84 1478.49 2071.69 1481.71 Q2068.54 1484.92 2063.31 1484.92 Q2057.32 1484.92 2054.15 1480.34 Q2050.98 1475.73 2050.98 1467.01 Q2050.98 1458.81 2054.86 1453.95 Q2058.75 1449.07 2065.3 1449.07 Q2067.06 1449.07 2068.85 1449.41 Q2070.65 1449.76 2072.6 1450.46 Z\" fill=\"#000000\" fill-rule=\"evenodd\" fill-opacity=\"1\" /><path clip-path=\"url(#clip4300)\" d=\"M 0 0 M2080.4 1478.37 L2085.28 1478.37 L2085.28 1482.35 L2081.48 1489.76 L2078.5 1489.76 L2080.4 1482.35 L2080.4 1478.37 Z\" fill=\"#000000\" fill-rule=\"evenodd\" fill-opacity=\"1\" /><path clip-path=\"url(#clip4300)\" d=\"M 0 0 M2094.38 1480.32 L2110.7 1480.32 L2110.7 1484.25 L2088.75 1484.25 L2088.75 1480.32 Q2091.42 1477.56 2096 1472.93 Q2100.6 1468.28 2101.79 1466.94 Q2104.03 1464.41 2104.91 1462.68 Q2105.81 1460.92 2105.81 1459.23 Q2105.81 1456.47 2103.87 1454.74 Q2101.95 1453 2098.85 1453 Q2096.65 1453 2094.19 1453.77 Q2091.76 1454.53 2088.98 1456.08 L2088.98 1451.36 Q2091.81 1450.22 2094.26 1449.65 Q2096.72 1449.07 2098.75 1449.07 Q2104.12 1449.07 2107.32 1451.75 Q2110.51 1454.44 2110.51 1458.93 Q2110.51 1461.06 2109.7 1462.98 Q2108.91 1464.88 2106.81 1467.47 Q2106.23 1468.14 2103.13 1471.36 Q2100.03 1474.55 2094.38 1480.32 Z\" fill=\"#000000\" fill-rule=\"evenodd\" fill-opacity=\"1\" /><path clip-path=\"url(#clip4300)\" d=\"M 0 0 M2125.77 1452.77 Q2122.16 1452.77 2120.33 1456.34 Q2118.52 1459.88 2118.52 1467.01 Q2118.52 1474.11 2120.33 1477.68 Q2122.16 1481.22 2125.77 1481.22 Q2129.4 1481.22 2131.21 1477.68 Q2133.04 1474.11 2133.04 1467.01 Q2133.04 1459.88 2131.21 1456.34 Q2129.4 1452.77 2125.77 1452.77 M2125.77 1449.07 Q2131.58 1449.07 2134.63 1453.67 Q2137.71 1458.26 2137.71 1467.01 Q2137.71 1475.73 2134.63 1480.34 Q2131.58 1484.92 2125.77 1484.92 Q2119.96 1484.92 2116.88 1480.34 Q2113.82 1475.73 2113.82 1467.01 Q2113.82 1458.26 2116.88 1453.67 Q2119.96 1449.07 2125.77 1449.07 Z\" fill=\"#000000\" fill-rule=\"evenodd\" fill-opacity=\"1\" /><path clip-path=\"url(#clip4300)\" d=\"M 0 0 M2182.29 1449.69 L2188.59 1449.69 L2203.91 1478.6 L2203.91 1449.69 L2208.45 1449.69 L2208.45 1484.25 L2202.16 1484.25 L2186.83 1455.34 L2186.83 1484.25 L2182.29 1484.25 L2182.29 1449.69 Z\" fill=\"#000000\" fill-rule=\"evenodd\" fill-opacity=\"1\" /><path clip-path=\"url(#clip4300)\" d=\"M 0 0 M2222.97 1461.31 Q2219.54 1461.31 2217.55 1464 Q2215.56 1466.66 2215.56 1471.31 Q2215.56 1475.96 2217.53 1478.65 Q2219.52 1481.31 2222.97 1481.31 Q2226.37 1481.31 2228.36 1478.63 Q2230.35 1475.94 2230.35 1471.31 Q2230.35 1466.71 2228.36 1464.02 Q2226.37 1461.31 2222.97 1461.31 M2222.97 1457.7 Q2228.52 1457.7 2231.69 1461.31 Q2234.86 1464.92 2234.86 1471.31 Q2234.86 1477.68 2231.69 1481.31 Q2228.52 1484.92 2222.97 1484.92 Q2217.39 1484.92 2214.22 1481.31 Q2211.07 1477.68 2211.07 1471.31 Q2211.07 1464.92 2214.22 1461.31 Q2217.39 1457.7 2222.97 1457.7 Z\" fill=\"#000000\" fill-rule=\"evenodd\" fill-opacity=\"1\" /><path clip-path=\"url(#clip4300)\" d=\"M 0 0 M2236.28 1458.33 L2240.79 1458.33 L2248.89 1480.09 L2256.99 1458.33 L2261.51 1458.33 L2251.78 1484.25 L2246 1484.25 L2236.28 1458.33 Z\" fill=\"#000000\" fill-rule=\"evenodd\" fill-opacity=\"1\" /><path clip-path=\"url(#clip4300)\" d=\"M 0 0 M2262.9 1478.37 L2267.78 1478.37 L2267.78 1484.25 L2262.9 1484.25 L2262.9 1478.37 Z\" fill=\"#000000\" fill-rule=\"evenodd\" fill-opacity=\"1\" /><path clip-path=\"url(#clip4300)\" d=\"M 0 0 M2273.66 1480.32 L2281.3 1480.32 L2281.3 1453.95 L2272.99 1455.62 L2272.99 1451.36 L2281.25 1449.69 L2285.93 1449.69 L2285.93 1480.32 L2293.57 1480.32 L2293.57 1484.25 L2273.66 1484.25 L2273.66 1480.32 Z\" fill=\"#000000\" fill-rule=\"evenodd\" fill-opacity=\"1\" /><path clip-path=\"url(#clip4300)\" d=\"M 0 0 M2311.48 1453.77 L2299.68 1472.21 L2311.48 1472.21 L2311.48 1453.77 M2310.26 1449.69 L2316.14 1449.69 L2316.14 1472.21 L2321.07 1472.21 L2321.07 1476.1 L2316.14 1476.1 L2316.14 1484.25 L2311.48 1484.25 L2311.48 1476.1 L2295.88 1476.1 L2295.88 1471.59 L2310.26 1449.69 Z\" fill=\"#000000\" fill-rule=\"evenodd\" fill-opacity=\"1\" /><path clip-path=\"url(#clip4300)\" d=\"M 0 0 M2326.62 1478.37 L2331.51 1478.37 L2331.51 1482.35 L2327.71 1489.76 L2324.72 1489.76 L2326.62 1482.35 L2326.62 1478.37 Z\" fill=\"#000000\" fill-rule=\"evenodd\" fill-opacity=\"1\" /><path clip-path=\"url(#clip4300)\" d=\"M 0 0 M2340.6 1480.32 L2356.92 1480.32 L2356.92 1484.25 L2334.98 1484.25 L2334.98 1480.32 Q2337.64 1477.56 2342.22 1472.93 Q2346.83 1468.28 2348.01 1466.94 Q2350.26 1464.41 2351.14 1462.68 Q2352.04 1460.92 2352.04 1459.23 Q2352.04 1456.47 2350.09 1454.74 Q2348.17 1453 2345.07 1453 Q2342.87 1453 2340.42 1453.77 Q2337.99 1454.53 2335.21 1456.08 L2335.21 1451.36 Q2338.03 1450.22 2340.49 1449.65 Q2342.94 1449.07 2344.98 1449.07 Q2350.35 1449.07 2353.54 1451.75 Q2356.74 1454.44 2356.74 1458.93 Q2356.74 1461.06 2355.93 1462.98 Q2355.14 1464.88 2353.03 1467.47 Q2352.46 1468.14 2349.35 1471.36 Q2346.25 1474.55 2340.6 1480.32 Z\" fill=\"#000000\" fill-rule=\"evenodd\" fill-opacity=\"1\" /><path clip-path=\"url(#clip4300)\" d=\"M 0 0 M2371.99 1452.77 Q2368.38 1452.77 2366.55 1456.34 Q2364.75 1459.88 2364.75 1467.01 Q2364.75 1474.11 2366.55 1477.68 Q2368.38 1481.22 2371.99 1481.22 Q2375.63 1481.22 2377.43 1477.68 Q2379.26 1474.11 2379.26 1467.01 Q2379.26 1459.88 2377.43 1456.34 Q2375.63 1452.77 2371.99 1452.77 M2371.99 1449.07 Q2377.8 1449.07 2380.86 1453.67 Q2383.94 1458.26 2383.94 1467.01 Q2383.94 1475.73 2380.86 1480.34 Q2377.8 1484.92 2371.99 1484.92 Q2366.18 1484.92 2363.1 1480.34 Q2360.05 1475.73 2360.05 1467.01 Q2360.05 1458.26 2363.1 1453.67 Q2366.18 1449.07 2371.99 1449.07 Z\" fill=\"#000000\" fill-rule=\"evenodd\" fill-opacity=\"1\" /><path clip-path=\"url(#clip4300)\" d=\"M 0 0 M2445.36 1449.69 L2451.66 1449.69 L2466.98 1478.6 L2466.98 1449.69 L2471.52 1449.69 L2471.52 1484.25 L2465.22 1484.25 L2449.9 1455.34 L2449.9 1484.25 L2445.36 1484.25 L2445.36 1449.69 Z\" fill=\"#000000\" fill-rule=\"evenodd\" fill-opacity=\"1\" /><path clip-path=\"url(#clip4300)\" d=\"M 0 0 M2486.03 1461.31 Q2482.61 1461.31 2480.62 1464 Q2478.63 1466.66 2478.63 1471.31 Q2478.63 1475.96 2480.6 1478.65 Q2482.59 1481.31 2486.03 1481.31 Q2489.44 1481.31 2491.43 1478.63 Q2493.42 1475.94 2493.42 1471.31 Q2493.42 1466.71 2491.43 1464.02 Q2489.44 1461.31 2486.03 1461.31 M2486.03 1457.7 Q2491.59 1457.7 2494.76 1461.31 Q2497.93 1464.92 2497.93 1471.31 Q2497.93 1477.68 2494.76 1481.31 Q2491.59 1484.92 2486.03 1484.92 Q2480.46 1484.92 2477.28 1481.31 Q2474.14 1477.68 2474.14 1471.31 Q2474.14 1464.92 2477.28 1461.31 Q2480.46 1457.7 2486.03 1457.7 Z\" fill=\"#000000\" fill-rule=\"evenodd\" fill-opacity=\"1\" /><path clip-path=\"url(#clip4300)\" d=\"M 0 0 M2499.34 1458.33 L2503.86 1458.33 L2511.96 1480.09 L2520.06 1458.33 L2524.58 1458.33 L2514.85 1484.25 L2509.07 1484.25 L2499.34 1458.33 Z\" fill=\"#000000\" fill-rule=\"evenodd\" fill-opacity=\"1\" /><path clip-path=\"url(#clip4300)\" d=\"M 0 0 M2525.97 1478.37 L2530.85 1478.37 L2530.85 1484.25 L2525.97 1484.25 L2525.97 1478.37 Z\" fill=\"#000000\" fill-rule=\"evenodd\" fill-opacity=\"1\" /><path clip-path=\"url(#clip4300)\" d=\"M 0 0 M2539.95 1480.32 L2556.27 1480.32 L2556.27 1484.25 L2534.32 1484.25 L2534.32 1480.32 Q2536.98 1477.56 2541.57 1472.93 Q2546.17 1468.28 2547.35 1466.94 Q2549.6 1464.41 2550.48 1462.68 Q2551.38 1460.92 2551.38 1459.23 Q2551.38 1456.47 2549.44 1454.74 Q2547.52 1453 2544.41 1453 Q2542.22 1453 2539.76 1453.77 Q2537.33 1454.53 2534.55 1456.08 L2534.55 1451.36 Q2537.38 1450.22 2539.83 1449.65 Q2542.28 1449.07 2544.32 1449.07 Q2549.69 1449.07 2552.89 1451.75 Q2556.08 1454.44 2556.08 1458.93 Q2556.08 1461.06 2555.27 1462.98 Q2554.48 1464.88 2552.38 1467.47 Q2551.8 1468.14 2548.7 1471.36 Q2545.59 1474.55 2539.95 1480.32 Z\" fill=\"#000000\" fill-rule=\"evenodd\" fill-opacity=\"1\" /><path clip-path=\"url(#clip4300)\" d=\"M 0 0 M2575.5 1465.62 Q2578.86 1466.34 2580.73 1468.6 Q2582.63 1470.87 2582.63 1474.21 Q2582.63 1479.32 2579.11 1482.12 Q2575.59 1484.92 2569.11 1484.92 Q2566.94 1484.92 2564.62 1484.48 Q2562.33 1484.07 2559.88 1483.21 L2559.88 1478.7 Q2561.82 1479.83 2564.14 1480.41 Q2566.45 1480.99 2568.97 1480.99 Q2573.37 1480.99 2575.66 1479.25 Q2577.98 1477.52 2577.98 1474.21 Q2577.98 1471.15 2575.83 1469.44 Q2573.7 1467.7 2569.88 1467.7 L2565.85 1467.7 L2565.85 1463.86 L2570.06 1463.86 Q2573.51 1463.86 2575.34 1462.49 Q2577.17 1461.1 2577.17 1458.51 Q2577.17 1455.85 2575.27 1454.44 Q2573.4 1453 2569.88 1453 Q2567.96 1453 2565.76 1453.42 Q2563.56 1453.84 2560.92 1454.71 L2560.92 1450.55 Q2563.58 1449.81 2565.9 1449.44 Q2568.23 1449.07 2570.29 1449.07 Q2575.62 1449.07 2578.72 1451.5 Q2581.82 1453.9 2581.82 1458.03 Q2581.82 1460.9 2580.18 1462.89 Q2578.53 1464.85 2575.5 1465.62 Z\" fill=\"#000000\" fill-rule=\"evenodd\" fill-opacity=\"1\" /><path clip-path=\"url(#clip4300)\" d=\"M 0 0 M2588.19 1478.37 L2593.07 1478.37 L2593.07 1482.35 L2589.28 1489.76 L2586.29 1489.76 L2588.19 1482.35 L2588.19 1478.37 Z\" fill=\"#000000\" fill-rule=\"evenodd\" fill-opacity=\"1\" /><path clip-path=\"url(#clip4300)\" d=\"M 0 0 M2602.17 1480.32 L2618.49 1480.32 L2618.49 1484.25 L2596.54 1484.25 L2596.54 1480.32 Q2599.21 1477.56 2603.79 1472.93 Q2608.4 1468.28 2609.58 1466.94 Q2611.82 1464.41 2612.7 1462.68 Q2613.6 1460.92 2613.6 1459.23 Q2613.6 1456.47 2611.66 1454.74 Q2609.74 1453 2606.64 1453 Q2604.44 1453 2601.98 1453.77 Q2599.55 1454.53 2596.78 1456.08 L2596.78 1451.36 Q2599.6 1450.22 2602.05 1449.65 Q2604.51 1449.07 2606.54 1449.07 Q2611.91 1449.07 2615.11 1451.75 Q2618.3 1454.44 2618.3 1458.93 Q2618.3 1461.06 2617.49 1462.98 Q2616.71 1464.88 2614.6 1467.47 Q2614.02 1468.14 2610.92 1471.36 Q2607.82 1474.55 2602.17 1480.32 Z\" fill=\"#000000\" fill-rule=\"evenodd\" fill-opacity=\"1\" /><path clip-path=\"url(#clip4300)\" d=\"M 0 0 M2633.56 1452.77 Q2629.95 1452.77 2628.12 1456.34 Q2626.31 1459.88 2626.31 1467.01 Q2626.31 1474.11 2628.12 1477.68 Q2629.95 1481.22 2633.56 1481.22 Q2637.19 1481.22 2639 1477.68 Q2640.83 1474.11 2640.83 1467.01 Q2640.83 1459.88 2639 1456.34 Q2637.19 1452.77 2633.56 1452.77 M2633.56 1449.07 Q2639.37 1449.07 2642.42 1453.67 Q2645.5 1458.26 2645.5 1467.01 Q2645.5 1475.73 2642.42 1480.34 Q2639.37 1484.92 2633.56 1484.92 Q2627.75 1484.92 2624.67 1480.34 Q2621.61 1475.73 2621.61 1467.01 Q2621.61 1458.26 2624.67 1453.67 Q2627.75 1449.07 2633.56 1449.07 Z\" fill=\"#000000\" fill-rule=\"evenodd\" fill-opacity=\"1\" /><path clip-path=\"url(#clip4300)\" d=\"M 0 0 M2694.56 1453.53 L2694.56 1480.41 L2700.21 1480.41 Q2707.37 1480.41 2710.68 1477.17 Q2714.01 1473.93 2714.01 1466.94 Q2714.01 1459.99 2710.68 1456.78 Q2707.37 1453.53 2700.21 1453.53 L2694.56 1453.53 M2689.89 1449.69 L2699.49 1449.69 Q2709.54 1449.69 2714.24 1453.88 Q2718.94 1458.05 2718.94 1466.94 Q2718.94 1475.87 2714.22 1480.06 Q2709.49 1484.25 2699.49 1484.25 L2689.89 1484.25 L2689.89 1449.69 Z\" fill=\"#000000\" fill-rule=\"evenodd\" fill-opacity=\"1\" /><path clip-path=\"url(#clip4300)\" d=\"M 0 0 M2745.58 1470.22 L2745.58 1472.31 L2726 1472.31 Q2726.28 1476.71 2728.64 1479.02 Q2731.02 1481.31 2735.26 1481.31 Q2737.71 1481.31 2740 1480.71 Q2742.32 1480.11 2744.59 1478.9 L2744.59 1482.93 Q2742.3 1483.9 2739.89 1484.41 Q2737.48 1484.92 2735 1484.92 Q2728.8 1484.92 2725.17 1481.31 Q2721.55 1477.7 2721.55 1471.54 Q2721.55 1465.18 2724.98 1461.45 Q2728.43 1457.7 2734.26 1457.7 Q2739.49 1457.7 2742.53 1461.08 Q2745.58 1464.44 2745.58 1470.22 M2741.32 1468.97 Q2741.28 1465.48 2739.36 1463.4 Q2737.46 1461.31 2734.31 1461.31 Q2730.74 1461.31 2728.59 1463.33 Q2726.46 1465.34 2726.14 1469 L2741.32 1468.97 Z\" fill=\"#000000\" fill-rule=\"evenodd\" fill-opacity=\"1\" /><path clip-path=\"url(#clip4300)\" d=\"M 0 0 M2768.71 1459.32 L2768.71 1463.3 Q2766.9 1462.31 2765.07 1461.82 Q2763.27 1461.31 2761.42 1461.31 Q2757.27 1461.31 2754.98 1463.95 Q2752.69 1466.57 2752.69 1471.31 Q2752.69 1476.06 2754.98 1478.7 Q2757.27 1481.31 2761.42 1481.31 Q2763.27 1481.31 2765.07 1480.83 Q2766.9 1480.32 2768.71 1479.32 L2768.71 1483.26 Q2766.93 1484.09 2765 1484.51 Q2763.11 1484.92 2760.95 1484.92 Q2755.1 1484.92 2751.65 1481.24 Q2748.2 1477.56 2748.2 1471.31 Q2748.2 1464.97 2751.67 1461.34 Q2755.17 1457.7 2761.23 1457.7 Q2763.2 1457.7 2765.07 1458.12 Q2766.95 1458.51 2768.71 1459.32 Z\" fill=\"#000000\" fill-rule=\"evenodd\" fill-opacity=\"1\" /><path clip-path=\"url(#clip4300)\" d=\"M 0 0 M2773.78 1478.37 L2778.66 1478.37 L2778.66 1484.25 L2773.78 1484.25 L2773.78 1478.37 Z\" fill=\"#000000\" fill-rule=\"evenodd\" fill-opacity=\"1\" /><path clip-path=\"url(#clip4300)\" d=\"M 0 0 M2784.54 1480.32 L2792.18 1480.32 L2792.18 1453.95 L2783.87 1455.62 L2783.87 1451.36 L2792.13 1449.69 L2796.81 1449.69 L2796.81 1480.32 L2804.45 1480.32 L2804.45 1484.25 L2784.54 1484.25 L2784.54 1480.32 Z\" fill=\"#000000\" fill-rule=\"evenodd\" fill-opacity=\"1\" /><path clip-path=\"url(#clip4300)\" d=\"M 0 0 M2810 1478.37 L2814.89 1478.37 L2814.89 1482.35 L2811.09 1489.76 L2808.11 1489.76 L2810 1482.35 L2810 1478.37 Z\" fill=\"#000000\" fill-rule=\"evenodd\" fill-opacity=\"1\" /><path clip-path=\"url(#clip4300)\" d=\"M 0 0 M2823.98 1480.32 L2840.3 1480.32 L2840.3 1484.25 L2818.36 1484.25 L2818.36 1480.32 Q2821.02 1477.56 2825.61 1472.93 Q2830.21 1468.28 2831.39 1466.94 Q2833.64 1464.41 2834.52 1462.68 Q2835.42 1460.92 2835.42 1459.23 Q2835.42 1456.47 2833.48 1454.74 Q2831.55 1453 2828.45 1453 Q2826.25 1453 2823.8 1453.77 Q2821.37 1454.53 2818.59 1456.08 L2818.59 1451.36 Q2821.42 1450.22 2823.87 1449.65 Q2826.32 1449.07 2828.36 1449.07 Q2833.73 1449.07 2836.92 1451.75 Q2840.12 1454.44 2840.12 1458.93 Q2840.12 1461.06 2839.31 1462.98 Q2838.52 1464.88 2836.42 1467.47 Q2835.84 1468.14 2832.73 1471.36 Q2829.63 1474.55 2823.98 1480.32 Z\" fill=\"#000000\" fill-rule=\"evenodd\" fill-opacity=\"1\" /><path clip-path=\"url(#clip4300)\" d=\"M 0 0 M2855.37 1452.77 Q2851.76 1452.77 2849.93 1456.34 Q2848.13 1459.88 2848.13 1467.01 Q2848.13 1474.11 2849.93 1477.68 Q2851.76 1481.22 2855.37 1481.22 Q2859.01 1481.22 2860.81 1477.68 Q2862.64 1474.11 2862.64 1467.01 Q2862.64 1459.88 2860.81 1456.34 Q2859.01 1452.77 2855.37 1452.77 M2855.37 1449.07 Q2861.18 1449.07 2864.24 1453.67 Q2867.32 1458.26 2867.32 1467.01 Q2867.32 1475.73 2864.24 1480.34 Q2861.18 1484.92 2855.37 1484.92 Q2849.56 1484.92 2846.48 1480.34 Q2843.43 1475.73 2843.43 1467.01 Q2843.43 1458.26 2846.48 1453.67 Q2849.56 1449.07 2855.37 1449.07 Z\" fill=\"#000000\" fill-rule=\"evenodd\" fill-opacity=\"1\" /><path clip-path=\"url(#clip4300)\" d=\"M 0 0 M2943.37 1453.53 L2943.37 1480.41 L2949.02 1480.41 Q2956.18 1480.41 2959.49 1477.17 Q2962.82 1473.93 2962.82 1466.94 Q2962.82 1459.99 2959.49 1456.78 Q2956.18 1453.53 2949.02 1453.53 L2943.37 1453.53 M2938.7 1449.69 L2948.3 1449.69 Q2958.35 1449.69 2963.05 1453.88 Q2967.75 1458.05 2967.75 1466.94 Q2967.75 1475.87 2963.03 1480.06 Q2958.3 1484.25 2948.3 1484.25 L2938.7 1484.25 L2938.7 1449.69 Z\" fill=\"#000000\" fill-rule=\"evenodd\" fill-opacity=\"1\" /><path clip-path=\"url(#clip4300)\" d=\"M 0 0 M2994.39 1470.22 L2994.39 1472.31 L2974.81 1472.31 Q2975.09 1476.71 2977.45 1479.02 Q2979.83 1481.31 2984.07 1481.31 Q2986.52 1481.31 2988.81 1480.71 Q2991.13 1480.11 2993.4 1478.9 L2993.4 1482.93 Q2991.11 1483.9 2988.7 1484.41 Q2986.29 1484.92 2983.81 1484.92 Q2977.61 1484.92 2973.98 1481.31 Q2970.36 1477.7 2970.36 1471.54 Q2970.36 1465.18 2973.79 1461.45 Q2977.24 1457.7 2983.07 1457.7 Q2988.3 1457.7 2991.34 1461.08 Q2994.39 1464.44 2994.39 1470.22 M2990.13 1468.97 Q2990.09 1465.48 2988.17 1463.4 Q2986.27 1461.31 2983.12 1461.31 Q2979.55 1461.31 2977.4 1463.33 Q2975.27 1465.34 2974.95 1469 L2990.13 1468.97 Z\" fill=\"#000000\" fill-rule=\"evenodd\" fill-opacity=\"1\" /><path clip-path=\"url(#clip4300)\" d=\"M 0 0 M3017.52 1459.32 L3017.52 1463.3 Q3015.71 1462.31 3013.88 1461.82 Q3012.08 1461.31 3010.23 1461.31 Q3006.08 1461.31 3003.79 1463.95 Q3001.5 1466.57 3001.5 1471.31 Q3001.5 1476.06 3003.79 1478.7 Q3006.08 1481.31 3010.23 1481.31 Q3012.08 1481.31 3013.88 1480.83 Q3015.71 1480.32 3017.52 1479.32 L3017.52 1483.26 Q3015.74 1484.09 3013.81 1484.51 Q3011.92 1484.92 3009.76 1484.92 Q3003.91 1484.92 3000.46 1481.24 Q2997.01 1477.56 2997.01 1471.31 Q2997.01 1464.97 3000.48 1461.34 Q3003.98 1457.7 3010.04 1457.7 Q3012.01 1457.7 3013.88 1458.12 Q3015.76 1458.51 3017.52 1459.32 Z\" fill=\"#000000\" fill-rule=\"evenodd\" fill-opacity=\"1\" /><path clip-path=\"url(#clip4300)\" d=\"M 0 0 M3022.59 1478.37 L3027.47 1478.37 L3027.47 1484.25 L3022.59 1484.25 L3022.59 1478.37 Z\" fill=\"#000000\" fill-rule=\"evenodd\" fill-opacity=\"1\" /><path clip-path=\"url(#clip4300)\" d=\"M 0 0 M3033.35 1480.32 L3040.99 1480.32 L3040.99 1453.95 L3032.68 1455.62 L3032.68 1451.36 L3040.94 1449.69 L3045.62 1449.69 L3045.62 1480.32 L3053.26 1480.32 L3053.26 1484.25 L3033.35 1484.25 L3033.35 1480.32 Z\" fill=\"#000000\" fill-rule=\"evenodd\" fill-opacity=\"1\" /><path clip-path=\"url(#clip4300)\" d=\"M 0 0 M3068.33 1452.77 Q3064.72 1452.77 3062.89 1456.34 Q3061.08 1459.88 3061.08 1467.01 Q3061.08 1474.11 3062.89 1477.68 Q3064.72 1481.22 3068.33 1481.22 Q3071.96 1481.22 3073.77 1477.68 Q3075.6 1474.11 3075.6 1467.01 Q3075.6 1459.88 3073.77 1456.34 Q3071.96 1452.77 3068.33 1452.77 M3068.33 1449.07 Q3074.14 1449.07 3077.19 1453.67 Q3080.27 1458.26 3080.27 1467.01 Q3080.27 1475.73 3077.19 1480.34 Q3074.14 1484.92 3068.33 1484.92 Q3062.52 1484.92 3059.44 1480.34 Q3056.38 1475.73 3056.38 1467.01 Q3056.38 1458.26 3059.44 1453.67 Q3062.52 1449.07 3068.33 1449.07 Z\" fill=\"#000000\" fill-rule=\"evenodd\" fill-opacity=\"1\" /><path clip-path=\"url(#clip4300)\" d=\"M 0 0 M3085.83 1478.37 L3090.71 1478.37 L3090.71 1482.35 L3086.92 1489.76 L3083.93 1489.76 L3085.83 1482.35 L3085.83 1478.37 Z\" fill=\"#000000\" fill-rule=\"evenodd\" fill-opacity=\"1\" /><path clip-path=\"url(#clip4300)\" d=\"M 0 0 M3099.81 1480.32 L3116.13 1480.32 L3116.13 1484.25 L3094.18 1484.25 L3094.18 1480.32 Q3096.85 1477.56 3101.43 1472.93 Q3106.04 1468.28 3107.22 1466.94 Q3109.46 1464.41 3110.34 1462.68 Q3111.24 1460.92 3111.24 1459.23 Q3111.24 1456.47 3109.3 1454.74 Q3107.38 1453 3104.28 1453 Q3102.08 1453 3099.62 1453.77 Q3097.19 1454.53 3094.42 1456.08 L3094.42 1451.36 Q3097.24 1450.22 3099.69 1449.65 Q3102.15 1449.07 3104.18 1449.07 Q3109.55 1449.07 3112.75 1451.75 Q3115.94 1454.44 3115.94 1458.93 Q3115.94 1461.06 3115.13 1462.98 Q3114.35 1464.88 3112.24 1467.47 Q3111.66 1468.14 3108.56 1471.36 Q3105.46 1474.55 3099.81 1480.32 Z\" fill=\"#000000\" fill-rule=\"evenodd\" fill-opacity=\"1\" /><path clip-path=\"url(#clip4300)\" d=\"M 0 0 M3131.2 1452.77 Q3127.59 1452.77 3125.76 1456.34 Q3123.95 1459.88 3123.95 1467.01 Q3123.95 1474.11 3125.76 1477.68 Q3127.59 1481.22 3131.2 1481.22 Q3134.83 1481.22 3136.64 1477.68 Q3138.47 1474.11 3138.47 1467.01 Q3138.47 1459.88 3136.64 1456.34 Q3134.83 1452.77 3131.2 1452.77 M3131.2 1449.07 Q3137.01 1449.07 3140.06 1453.67 Q3143.14 1458.26 3143.14 1467.01 Q3143.14 1475.73 3140.06 1480.34 Q3137.01 1484.92 3131.2 1484.92 Q3125.39 1484.92 3122.31 1480.34 Q3119.25 1475.73 3119.25 1467.01 Q3119.25 1458.26 3122.31 1453.67 Q3125.39 1449.07 3131.2 1449.07 Z\" fill=\"#000000\" fill-rule=\"evenodd\" fill-opacity=\"1\" /><path clip-path=\"url(#clip4300)\" d=\"M 0 0 M3176.59 1453.53 L3176.59 1480.41 L3182.24 1480.41 Q3189.39 1480.41 3192.7 1477.17 Q3196.04 1473.93 3196.04 1466.94 Q3196.04 1459.99 3192.7 1456.78 Q3189.39 1453.53 3182.24 1453.53 L3176.59 1453.53 M3171.92 1449.69 L3181.52 1449.69 Q3191.57 1449.69 3196.27 1453.88 Q3200.97 1458.05 3200.97 1466.94 Q3200.97 1475.87 3196.24 1480.06 Q3191.52 1484.25 3181.52 1484.25 L3171.92 1484.25 L3171.92 1449.69 Z\" fill=\"#000000\" fill-rule=\"evenodd\" fill-opacity=\"1\" /><path clip-path=\"url(#clip4300)\" d=\"M 0 0 M3227.61 1470.22 L3227.61 1472.31 L3208.03 1472.31 Q3208.3 1476.71 3210.66 1479.02 Q3213.05 1481.31 3217.29 1481.31 Q3219.74 1481.31 3222.03 1480.71 Q3224.35 1480.11 3226.61 1478.9 L3226.61 1482.93 Q3224.32 1483.9 3221.91 1484.41 Q3219.51 1484.92 3217.03 1484.92 Q3210.83 1484.92 3207.19 1481.31 Q3203.58 1477.7 3203.58 1471.54 Q3203.58 1465.18 3207.01 1461.45 Q3210.46 1457.7 3216.29 1457.7 Q3221.52 1457.7 3224.55 1461.08 Q3227.61 1464.44 3227.61 1470.22 M3223.35 1468.97 Q3223.3 1465.48 3221.38 1463.4 Q3219.48 1461.31 3216.34 1461.31 Q3212.77 1461.31 3210.62 1463.33 Q3208.49 1465.34 3208.17 1469 L3223.35 1468.97 Z\" fill=\"#000000\" fill-rule=\"evenodd\" fill-opacity=\"1\" /><path clip-path=\"url(#clip4300)\" d=\"M 0 0 M3250.73 1459.32 L3250.73 1463.3 Q3248.93 1462.31 3247.1 1461.82 Q3245.29 1461.31 3243.44 1461.31 Q3239.3 1461.31 3237.01 1463.95 Q3234.72 1466.57 3234.72 1471.31 Q3234.72 1476.06 3237.01 1478.7 Q3239.3 1481.31 3243.44 1481.31 Q3245.29 1481.31 3247.1 1480.83 Q3248.93 1480.32 3250.73 1479.32 L3250.73 1483.26 Q3248.95 1484.09 3247.03 1484.51 Q3245.13 1484.92 3242.98 1484.92 Q3237.12 1484.92 3233.67 1481.24 Q3230.23 1477.56 3230.23 1471.31 Q3230.23 1464.97 3233.7 1461.34 Q3237.19 1457.7 3243.26 1457.7 Q3245.22 1457.7 3247.1 1458.12 Q3248.97 1458.51 3250.73 1459.32 Z\" fill=\"#000000\" fill-rule=\"evenodd\" fill-opacity=\"1\" /><path clip-path=\"url(#clip4300)\" d=\"M 0 0 M3255.8 1478.37 L3260.69 1478.37 L3260.69 1484.25 L3255.8 1484.25 L3255.8 1478.37 Z\" fill=\"#000000\" fill-rule=\"evenodd\" fill-opacity=\"1\" /><path clip-path=\"url(#clip4300)\" d=\"M 0 0 M3266.57 1480.32 L3274.21 1480.32 L3274.21 1453.95 L3265.9 1455.62 L3265.9 1451.36 L3274.16 1449.69 L3278.84 1449.69 L3278.84 1480.32 L3286.47 1480.32 L3286.47 1484.25 L3266.57 1484.25 L3266.57 1480.32 Z\" fill=\"#000000\" fill-rule=\"evenodd\" fill-opacity=\"1\" /><path clip-path=\"url(#clip4300)\" d=\"M 0 0 M3301.54 1467.84 Q3298.21 1467.84 3296.29 1469.62 Q3294.39 1471.4 3294.39 1474.53 Q3294.39 1477.65 3296.29 1479.44 Q3298.21 1481.22 3301.54 1481.22 Q3304.88 1481.22 3306.8 1479.44 Q3308.72 1477.63 3308.72 1474.53 Q3308.72 1471.4 3306.8 1469.62 Q3304.9 1467.84 3301.54 1467.84 M3296.87 1465.85 Q3293.86 1465.11 3292.17 1463.05 Q3290.5 1460.99 3290.5 1458.03 Q3290.5 1453.88 3293.44 1451.47 Q3296.41 1449.07 3301.54 1449.07 Q3306.71 1449.07 3309.65 1451.47 Q3312.59 1453.88 3312.59 1458.03 Q3312.59 1460.99 3310.9 1463.05 Q3309.23 1465.11 3306.24 1465.85 Q3309.62 1466.64 3311.5 1468.93 Q3313.4 1471.22 3313.4 1474.53 Q3313.4 1479.55 3310.32 1482.24 Q3307.26 1484.92 3301.54 1484.92 Q3295.83 1484.92 3292.75 1482.24 Q3289.69 1479.55 3289.69 1474.53 Q3289.69 1471.22 3291.59 1468.93 Q3293.49 1466.64 3296.87 1465.85 M3295.16 1458.46 Q3295.16 1461.15 3296.82 1462.65 Q3298.51 1464.16 3301.54 1464.16 Q3304.55 1464.16 3306.24 1462.65 Q3307.96 1461.15 3307.96 1458.46 Q3307.96 1455.78 3306.24 1454.28 Q3304.55 1452.77 3301.54 1452.77 Q3298.51 1452.77 3296.82 1454.28 Q3295.16 1455.78 3295.16 1458.46 Z\" fill=\"#000000\" fill-rule=\"evenodd\" fill-opacity=\"1\" /><path clip-path=\"url(#clip4300)\" d=\"M 0 0 M3318.95 1478.37 L3323.84 1478.37 L3323.84 1482.35 L3320.04 1489.76 L3317.05 1489.76 L3318.95 1482.35 L3318.95 1478.37 Z\" fill=\"#000000\" fill-rule=\"evenodd\" fill-opacity=\"1\" /><path clip-path=\"url(#clip4300)\" d=\"M 0 0 M3332.93 1480.32 L3349.25 1480.32 L3349.25 1484.25 L3327.31 1484.25 L3327.31 1480.32 Q3329.97 1477.56 3334.55 1472.93 Q3339.16 1468.28 3340.34 1466.94 Q3342.59 1464.41 3343.47 1462.68 Q3344.37 1460.92 3344.37 1459.23 Q3344.37 1456.47 3342.42 1454.74 Q3340.5 1453 3337.4 1453 Q3335.2 1453 3332.75 1453.77 Q3330.32 1454.53 3327.54 1456.08 L3327.54 1451.36 Q3330.36 1450.22 3332.82 1449.65 Q3335.27 1449.07 3337.31 1449.07 Q3342.68 1449.07 3345.87 1451.75 Q3349.07 1454.44 3349.07 1458.93 Q3349.07 1461.06 3348.26 1462.98 Q3347.47 1464.88 3345.36 1467.47 Q3344.78 1468.14 3341.68 1471.36 Q3338.58 1474.55 3332.93 1480.32 Z\" fill=\"#000000\" fill-rule=\"evenodd\" fill-opacity=\"1\" /><path clip-path=\"url(#clip4300)\" d=\"M 0 0 M3364.32 1452.77 Q3360.71 1452.77 3358.88 1456.34 Q3357.08 1459.88 3357.08 1467.01 Q3357.08 1474.11 3358.88 1477.68 Q3360.71 1481.22 3364.32 1481.22 Q3367.96 1481.22 3369.76 1477.68 Q3371.59 1474.11 3371.59 1467.01 Q3371.59 1459.88 3369.76 1456.34 Q3367.96 1452.77 3364.32 1452.77 M3364.32 1449.07 Q3370.13 1449.07 3373.19 1453.67 Q3376.27 1458.26 3376.27 1467.01 Q3376.27 1475.73 3373.19 1480.34 Q3370.13 1484.92 3364.32 1484.92 Q3358.51 1484.92 3355.43 1480.34 Q3352.38 1475.73 3352.38 1467.01 Q3352.38 1458.26 3355.43 1453.67 Q3358.51 1449.07 3364.32 1449.07 Z\" fill=\"#000000\" fill-rule=\"evenodd\" fill-opacity=\"1\" /><path clip-path=\"url(#clip4300)\" d=\"M 0 0 M3439.5 1453.53 L3439.5 1480.41 L3445.15 1480.41 Q3452.3 1480.41 3455.61 1477.17 Q3458.94 1473.93 3458.94 1466.94 Q3458.94 1459.99 3455.61 1456.78 Q3452.3 1453.53 3445.15 1453.53 L3439.5 1453.53 M3434.82 1449.69 L3444.43 1449.69 Q3454.47 1449.69 3459.17 1453.88 Q3463.87 1458.05 3463.87 1466.94 Q3463.87 1475.87 3459.15 1480.06 Q3454.43 1484.25 3444.43 1484.25 L3434.82 1484.25 L3434.82 1449.69 Z\" fill=\"#000000\" fill-rule=\"evenodd\" fill-opacity=\"1\" /><path clip-path=\"url(#clip4300)\" d=\"M 0 0 M3490.52 1470.22 L3490.52 1472.31 L3470.93 1472.31 Q3471.21 1476.71 3473.57 1479.02 Q3475.96 1481.31 3480.19 1481.31 Q3482.65 1481.31 3484.94 1480.71 Q3487.25 1480.11 3489.52 1478.9 L3489.52 1482.93 Q3487.23 1483.9 3484.82 1484.41 Q3482.41 1484.92 3479.94 1484.92 Q3473.73 1484.92 3470.1 1481.31 Q3466.49 1477.7 3466.49 1471.54 Q3466.49 1465.18 3469.91 1461.45 Q3473.36 1457.7 3479.2 1457.7 Q3484.43 1457.7 3487.46 1461.08 Q3490.52 1464.44 3490.52 1470.22 M3486.26 1468.97 Q3486.21 1465.48 3484.29 1463.4 Q3482.39 1461.31 3479.24 1461.31 Q3475.68 1461.31 3473.53 1463.33 Q3471.4 1465.34 3471.07 1469 L3486.26 1468.97 Z\" fill=\"#000000\" fill-rule=\"evenodd\" fill-opacity=\"1\" /><path clip-path=\"url(#clip4300)\" d=\"M 0 0 M3513.64 1459.32 L3513.64 1463.3 Q3511.84 1462.31 3510.01 1461.82 Q3508.2 1461.31 3506.35 1461.31 Q3502.21 1461.31 3499.91 1463.95 Q3497.62 1466.57 3497.62 1471.31 Q3497.62 1476.06 3499.91 1478.7 Q3502.21 1481.31 3506.35 1481.31 Q3508.2 1481.31 3510.01 1480.83 Q3511.84 1480.32 3513.64 1479.32 L3513.64 1483.26 Q3511.86 1484.09 3509.94 1484.51 Q3508.04 1484.92 3505.89 1484.92 Q3500.03 1484.92 3496.58 1481.24 Q3493.13 1477.56 3493.13 1471.31 Q3493.13 1464.97 3496.6 1461.34 Q3500.1 1457.7 3506.16 1457.7 Q3508.13 1457.7 3510.01 1458.12 Q3511.88 1458.51 3513.64 1459.32 Z\" fill=\"#000000\" fill-rule=\"evenodd\" fill-opacity=\"1\" /><path clip-path=\"url(#clip4300)\" d=\"M 0 0 M3518.71 1478.37 L3523.59 1478.37 L3523.59 1484.25 L3518.71 1484.25 L3518.71 1478.37 Z\" fill=\"#000000\" fill-rule=\"evenodd\" fill-opacity=\"1\" /><path clip-path=\"url(#clip4300)\" d=\"M 0 0 M3532.69 1480.32 L3549.01 1480.32 L3549.01 1484.25 L3527.07 1484.25 L3527.07 1480.32 Q3529.73 1477.56 3534.31 1472.93 Q3538.92 1468.28 3540.1 1466.94 Q3542.34 1464.41 3543.22 1462.68 Q3544.13 1460.92 3544.13 1459.23 Q3544.13 1456.47 3542.18 1454.74 Q3540.26 1453 3537.16 1453 Q3534.96 1453 3532.51 1453.77 Q3530.08 1454.53 3527.3 1456.08 L3527.3 1451.36 Q3530.12 1450.22 3532.58 1449.65 Q3535.03 1449.07 3537.07 1449.07 Q3542.44 1449.07 3545.63 1451.75 Q3548.83 1454.44 3548.83 1458.93 Q3548.83 1461.06 3548.02 1462.98 Q3547.23 1464.88 3545.12 1467.47 Q3544.54 1468.14 3541.44 1471.36 Q3538.34 1474.55 3532.69 1480.32 Z\" fill=\"#000000\" fill-rule=\"evenodd\" fill-opacity=\"1\" /><path clip-path=\"url(#clip4300)\" d=\"M 0 0 M3552.9 1449.69 L3575.12 1449.69 L3575.12 1451.68 L3562.58 1484.25 L3557.69 1484.25 L3569.5 1453.63 L3552.9 1453.63 L3552.9 1449.69 Z\" fill=\"#000000\" fill-rule=\"evenodd\" fill-opacity=\"1\" /><path clip-path=\"url(#clip4300)\" d=\"M 0 0 M3580.68 1478.37 L3585.56 1478.37 L3585.56 1482.35 L3581.77 1489.76 L3578.78 1489.76 L3580.68 1482.35 L3580.68 1478.37 Z\" fill=\"#000000\" fill-rule=\"evenodd\" fill-opacity=\"1\" /><path clip-path=\"url(#clip4300)\" d=\"M 0 0 M3594.66 1480.32 L3610.98 1480.32 L3610.98 1484.25 L3589.03 1484.25 L3589.03 1480.32 Q3591.7 1477.56 3596.28 1472.93 Q3600.89 1468.28 3602.07 1466.94 Q3604.31 1464.41 3605.19 1462.68 Q3606.09 1460.92 3606.09 1459.23 Q3606.09 1456.47 3604.15 1454.74 Q3602.23 1453 3599.13 1453 Q3596.93 1453 3594.47 1453.77 Q3592.04 1454.53 3589.27 1456.08 L3589.27 1451.36 Q3592.09 1450.22 3594.54 1449.65 Q3597 1449.07 3599.03 1449.07 Q3604.4 1449.07 3607.6 1451.75 Q3610.79 1454.44 3610.79 1458.93 Q3610.79 1461.06 3609.98 1462.98 Q3609.2 1464.88 3607.09 1467.47 Q3606.51 1468.14 3603.41 1471.36 Q3600.31 1474.55 3594.66 1480.32 Z\" fill=\"#000000\" fill-rule=\"evenodd\" fill-opacity=\"1\" /><path clip-path=\"url(#clip4300)\" d=\"M 0 0 M3626.05 1452.77 Q3622.44 1452.77 3620.61 1456.34 Q3618.8 1459.88 3618.8 1467.01 Q3618.8 1474.11 3620.61 1477.68 Q3622.44 1481.22 3626.05 1481.22 Q3629.68 1481.22 3631.49 1477.68 Q3633.32 1474.11 3633.32 1467.01 Q3633.32 1459.88 3631.49 1456.34 Q3629.68 1452.77 3626.05 1452.77 M3626.05 1449.07 Q3631.86 1449.07 3634.91 1453.67 Q3637.99 1458.26 3637.99 1467.01 Q3637.99 1475.73 3634.91 1480.34 Q3631.86 1484.92 3626.05 1484.92 Q3620.24 1484.92 3617.16 1480.34 Q3614.1 1475.73 3614.1 1467.01 Q3614.1 1458.26 3617.16 1453.67 Q3620.24 1449.07 3626.05 1449.07 Z\" fill=\"#000000\" fill-rule=\"evenodd\" fill-opacity=\"1\" /><path clip-path=\"url(#clip4300)\" d=\"M 0 0 M3695.86 1449.69 L3700.54 1449.69 L3700.54 1481.84 Q3700.54 1488.09 3698.15 1490.92 Q3695.79 1493.74 3690.54 1493.74 L3688.76 1493.74 L3688.76 1489.81 L3690.21 1489.81 Q3693.32 1489.81 3694.59 1488.07 Q3695.86 1486.34 3695.86 1481.84 L3695.86 1449.69 Z\" fill=\"#000000\" fill-rule=\"evenodd\" fill-opacity=\"1\" /><path clip-path=\"url(#clip4300)\" d=\"M 0 0 M3716.79 1471.22 Q3711.63 1471.22 3709.64 1472.4 Q3707.65 1473.58 3707.65 1476.43 Q3707.65 1478.7 3709.13 1480.04 Q3710.63 1481.36 3713.2 1481.36 Q3716.74 1481.36 3718.87 1478.86 Q3721.02 1476.34 3721.02 1472.17 L3721.02 1471.22 L3716.79 1471.22 M3725.28 1469.46 L3725.28 1484.25 L3721.02 1484.25 L3721.02 1480.32 Q3719.57 1482.68 3717.39 1483.81 Q3715.21 1484.92 3712.07 1484.92 Q3708.09 1484.92 3705.72 1482.7 Q3703.39 1480.46 3703.39 1476.71 Q3703.39 1472.33 3706.3 1470.11 Q3709.24 1467.89 3715.05 1467.89 L3721.02 1467.89 L3721.02 1467.47 Q3721.02 1464.53 3719.08 1462.93 Q3717.16 1461.31 3713.66 1461.31 Q3711.44 1461.31 3709.34 1461.84 Q3707.23 1462.38 3705.28 1463.44 L3705.28 1459.51 Q3707.62 1458.6 3709.82 1458.16 Q3712.02 1457.7 3714.1 1457.7 Q3719.73 1457.7 3722.51 1460.62 Q3725.28 1463.53 3725.28 1469.46 Z\" fill=\"#000000\" fill-rule=\"evenodd\" fill-opacity=\"1\" /><path clip-path=\"url(#clip4300)\" d=\"M 0 0 M3751.3 1468.6 L3751.3 1484.25 L3747.04 1484.25 L3747.04 1468.74 Q3747.04 1465.06 3745.61 1463.23 Q3744.17 1461.4 3741.3 1461.4 Q3737.85 1461.4 3735.86 1463.6 Q3733.87 1465.8 3733.87 1469.6 L3733.87 1484.25 L3729.59 1484.25 L3729.59 1458.33 L3733.87 1458.33 L3733.87 1462.35 Q3735.4 1460.02 3737.46 1458.86 Q3739.54 1457.7 3742.25 1457.7 Q3746.72 1457.7 3749.01 1460.48 Q3751.3 1463.23 3751.3 1468.6 Z\" fill=\"#000000\" fill-rule=\"evenodd\" fill-opacity=\"1\" /><path clip-path=\"url(#clip4300)\" d=\"M 0 0 M3756.37 1478.37 L3761.26 1478.37 L3761.26 1484.25 L3756.37 1484.25 L3756.37 1478.37 Z\" fill=\"#000000\" fill-rule=\"evenodd\" fill-opacity=\"1\" /><path clip-path=\"url(#clip4300)\" d=\"M 0 0 M3779.17 1453.77 L3767.37 1472.21 L3779.17 1472.21 L3779.17 1453.77 M3777.95 1449.69 L3783.83 1449.69 L3783.83 1472.21 L3788.76 1472.21 L3788.76 1476.1 L3783.83 1476.1 L3783.83 1484.25 L3779.17 1484.25 L3779.17 1476.1 L3763.57 1476.1 L3763.57 1471.59 L3777.95 1449.69 Z\" fill=\"#000000\" fill-rule=\"evenodd\" fill-opacity=\"1\" /><path clip-path=\"url(#clip4300)\" d=\"M 0 0 M3794.31 1478.37 L3799.2 1478.37 L3799.2 1482.35 L3795.4 1489.76 L3792.41 1489.76 L3794.31 1482.35 L3794.31 1478.37 Z\" fill=\"#000000\" fill-rule=\"evenodd\" fill-opacity=\"1\" /><path clip-path=\"url(#clip4300)\" d=\"M 0 0 M3808.29 1480.32 L3824.61 1480.32 L3824.61 1484.25 L3802.67 1484.25 L3802.67 1480.32 Q3805.33 1477.56 3809.91 1472.93 Q3814.52 1468.28 3815.7 1466.94 Q3817.95 1464.41 3818.83 1462.68 Q3819.73 1460.92 3819.73 1459.23 Q3819.73 1456.47 3817.78 1454.74 Q3815.86 1453 3812.76 1453 Q3810.56 1453 3808.11 1453.77 Q3805.68 1454.53 3802.9 1456.08 L3802.9 1451.36 Q3805.72 1450.22 3808.18 1449.65 Q3810.63 1449.07 3812.67 1449.07 Q3818.04 1449.07 3821.23 1451.75 Q3824.43 1454.44 3824.43 1458.93 Q3824.43 1461.06 3823.62 1462.98 Q3822.83 1464.88 3820.72 1467.47 Q3820.14 1468.14 3817.04 1471.36 Q3813.94 1474.55 3808.29 1480.32 Z\" fill=\"#000000\" fill-rule=\"evenodd\" fill-opacity=\"1\" /><path clip-path=\"url(#clip4300)\" d=\"M 0 0 M3830.49 1480.32 L3838.13 1480.32 L3838.13 1453.95 L3829.82 1455.62 L3829.82 1451.36 L3838.08 1449.69 L3842.76 1449.69 L3842.76 1480.32 L3850.4 1480.32 L3850.4 1484.25 L3830.49 1484.25 L3830.49 1480.32 Z\" fill=\"#000000\" fill-rule=\"evenodd\" fill-opacity=\"1\" /><path clip-path=\"url(#clip4300)\" d=\"M 0 0 M113.005 1380.77 L131.361 1380.77 L131.361 1384.7 L117.287 1384.7 L117.287 1393.17 Q118.305 1392.83 119.324 1392.67 Q120.343 1392.48 121.361 1392.48 Q127.148 1392.48 130.528 1395.65 Q133.907 1398.82 133.907 1404.24 Q133.907 1409.82 130.435 1412.92 Q126.963 1416 120.643 1416 Q118.468 1416 116.199 1415.63 Q113.954 1415.26 111.546 1414.52 L111.546 1409.82 Q113.63 1410.95 115.852 1411.51 Q118.074 1412.06 120.551 1412.06 Q124.555 1412.06 126.893 1409.96 Q129.231 1407.85 129.231 1404.24 Q129.231 1400.63 126.893 1398.52 Q124.555 1396.42 120.551 1396.42 Q118.676 1396.42 116.801 1396.83 Q114.949 1397.25 113.005 1398.13 L113.005 1380.77 Z\" fill=\"#000000\" fill-rule=\"evenodd\" fill-opacity=\"1\" /><path clip-path=\"url(#clip4300)\" d=\"M 0 0 M148.977 1383.85 Q145.366 1383.85 143.537 1387.41 Q141.731 1390.95 141.731 1398.08 Q141.731 1405.19 143.537 1408.75 Q145.366 1412.29 148.977 1412.29 Q152.611 1412.29 154.416 1408.75 Q156.245 1405.19 156.245 1398.08 Q156.245 1390.95 154.416 1387.41 Q152.611 1383.85 148.977 1383.85 M148.977 1380.14 Q154.787 1380.14 157.842 1384.75 Q160.921 1389.33 160.921 1398.08 Q160.921 1406.81 157.842 1411.42 Q154.787 1416 148.977 1416 Q143.166 1416 140.088 1411.42 Q137.032 1406.81 137.032 1398.08 Q137.032 1389.33 140.088 1384.75 Q143.166 1380.14 148.977 1380.14 Z\" fill=\"#000000\" fill-rule=\"evenodd\" fill-opacity=\"1\" /><path clip-path=\"url(#clip4300)\" d=\"M 0 0 M175.99 1383.85 Q172.379 1383.85 170.551 1387.41 Q168.745 1390.95 168.745 1398.08 Q168.745 1405.19 170.551 1408.75 Q172.379 1412.29 175.99 1412.29 Q179.625 1412.29 181.43 1408.75 Q183.259 1405.19 183.259 1398.08 Q183.259 1390.95 181.43 1387.41 Q179.625 1383.85 175.99 1383.85 M175.99 1380.14 Q181.801 1380.14 184.856 1384.75 Q187.935 1389.33 187.935 1398.08 Q187.935 1406.81 184.856 1411.42 Q181.801 1416 175.99 1416 Q170.18 1416 167.102 1411.42 Q164.046 1406.81 164.046 1398.08 Q164.046 1389.33 167.102 1384.75 Q170.18 1380.14 175.99 1380.14 Z\" fill=\"#000000\" fill-rule=\"evenodd\" fill-opacity=\"1\" /><path clip-path=\"url(#clip4300)\" d=\"M 0 0 M114.602 1104.59 L132.958 1104.59 L132.958 1108.52 L118.884 1108.52 L118.884 1116.99 Q119.903 1116.65 120.921 1116.48 Q121.94 1116.3 122.958 1116.3 Q128.745 1116.3 132.125 1119.47 Q135.504 1122.64 135.504 1128.06 Q135.504 1133.64 132.032 1136.74 Q128.56 1139.82 122.241 1139.82 Q120.065 1139.82 117.796 1139.45 Q115.551 1139.08 113.143 1138.34 L113.143 1133.64 Q115.227 1134.77 117.449 1135.33 Q119.671 1135.88 122.148 1135.88 Q126.153 1135.88 128.491 1133.78 Q130.829 1131.67 130.829 1128.06 Q130.829 1124.45 128.491 1122.34 Q126.153 1120.23 122.148 1120.23 Q120.273 1120.23 118.398 1120.65 Q116.546 1121.07 114.602 1121.95 L114.602 1104.59 Z\" fill=\"#000000\" fill-rule=\"evenodd\" fill-opacity=\"1\" /><path clip-path=\"url(#clip4300)\" d=\"M 0 0 M144.602 1135.21 L160.921 1135.21 L160.921 1139.15 L138.977 1139.15 L138.977 1135.21 Q141.639 1132.46 146.222 1127.83 Q150.828 1123.17 152.009 1121.83 Q154.254 1119.31 155.134 1117.57 Q156.037 1115.81 156.037 1114.12 Q156.037 1111.37 154.092 1109.63 Q152.171 1107.9 149.069 1107.9 Q146.87 1107.9 144.416 1108.66 Q141.986 1109.42 139.208 1110.97 L139.208 1106.25 Q142.032 1105.12 144.486 1104.54 Q146.94 1103.96 148.977 1103.96 Q154.347 1103.96 157.541 1106.65 Q160.736 1109.33 160.736 1113.82 Q160.736 1115.95 159.926 1117.87 Q159.139 1119.77 157.032 1122.36 Q156.453 1123.03 153.352 1126.25 Q150.25 1129.45 144.602 1135.21 Z\" fill=\"#000000\" fill-rule=\"evenodd\" fill-opacity=\"1\" /><path clip-path=\"url(#clip4300)\" d=\"M 0 0 M175.99 1107.66 Q172.379 1107.66 170.551 1111.23 Q168.745 1114.77 168.745 1121.9 Q168.745 1129.01 170.551 1132.57 Q172.379 1136.11 175.99 1136.11 Q179.625 1136.11 181.43 1132.57 Q183.259 1129.01 183.259 1121.9 Q183.259 1114.77 181.43 1111.23 Q179.625 1107.66 175.99 1107.66 M175.99 1103.96 Q181.801 1103.96 184.856 1108.57 Q187.935 1113.15 187.935 1121.9 Q187.935 1130.63 184.856 1135.23 Q181.801 1139.82 175.99 1139.82 Q170.18 1139.82 167.102 1135.23 Q164.046 1130.63 164.046 1121.9 Q164.046 1113.15 167.102 1108.57 Q170.18 1103.96 175.99 1103.96 Z\" fill=\"#000000\" fill-rule=\"evenodd\" fill-opacity=\"1\" /><path clip-path=\"url(#clip4300)\" d=\"M 0 0 M112.518 828.405 L130.875 828.405 L130.875 832.34 L116.801 832.34 L116.801 840.812 Q117.819 840.465 118.838 840.303 Q119.856 840.117 120.875 840.117 Q126.662 840.117 130.042 843.289 Q133.421 846.46 133.421 851.877 Q133.421 857.455 129.949 860.557 Q126.477 863.636 120.157 863.636 Q117.981 863.636 115.713 863.265 Q113.468 862.895 111.06 862.154 L111.06 857.455 Q113.143 858.59 115.366 859.145 Q117.588 859.701 120.065 859.701 Q124.069 859.701 126.407 857.594 Q128.745 855.488 128.745 851.877 Q128.745 848.266 126.407 846.159 Q124.069 844.053 120.065 844.053 Q118.19 844.053 116.315 844.469 Q114.463 844.886 112.518 845.766 L112.518 828.405 Z\" fill=\"#000000\" fill-rule=\"evenodd\" fill-opacity=\"1\" /><path clip-path=\"url(#clip4300)\" d=\"M 0 0 M151.338 832.479 L139.532 850.928 L151.338 850.928 L151.338 832.479 M150.111 828.405 L155.99 828.405 L155.99 850.928 L160.921 850.928 L160.921 854.816 L155.99 854.816 L155.99 862.965 L151.338 862.965 L151.338 854.816 L135.736 854.816 L135.736 850.303 L150.111 828.405 Z\" fill=\"#000000\" fill-rule=\"evenodd\" fill-opacity=\"1\" /><path clip-path=\"url(#clip4300)\" d=\"M 0 0 M175.99 831.483 Q172.379 831.483 170.551 835.048 Q168.745 838.59 168.745 845.719 Q168.745 852.826 170.551 856.39 Q172.379 859.932 175.99 859.932 Q179.625 859.932 181.43 856.39 Q183.259 852.826 183.259 845.719 Q183.259 838.59 181.43 835.048 Q179.625 831.483 175.99 831.483 M175.99 827.78 Q181.801 827.78 184.856 832.386 Q187.935 836.969 187.935 845.719 Q187.935 854.446 184.856 859.053 Q181.801 863.636 175.99 863.636 Q170.18 863.636 167.102 859.053 Q164.046 854.446 164.046 845.719 Q164.046 836.969 167.102 832.386 Q170.18 827.78 175.99 827.78 Z\" fill=\"#000000\" fill-rule=\"evenodd\" fill-opacity=\"1\" /><path clip-path=\"url(#clip4300)\" d=\"M 0 0 M112.843 552.223 L131.199 552.223 L131.199 556.158 L117.125 556.158 L117.125 564.63 Q118.143 564.283 119.162 564.121 Q120.18 563.936 121.199 563.936 Q126.986 563.936 130.366 567.107 Q133.745 570.279 133.745 575.695 Q133.745 581.274 130.273 584.376 Q126.801 587.454 120.481 587.454 Q118.305 587.454 116.037 587.084 Q113.792 586.714 111.384 585.973 L111.384 581.274 Q113.468 582.408 115.69 582.964 Q117.912 583.519 120.389 583.519 Q124.393 583.519 126.731 581.413 Q129.069 579.306 129.069 575.695 Q129.069 572.084 126.731 569.978 Q124.393 567.871 120.389 567.871 Q118.514 567.871 116.639 568.288 Q114.787 568.705 112.843 569.584 L112.843 552.223 Z\" fill=\"#000000\" fill-rule=\"evenodd\" fill-opacity=\"1\" /><path clip-path=\"url(#clip4300)\" d=\"M 0 0 M149.393 567.64 Q146.245 567.64 144.393 569.792 Q142.565 571.945 142.565 575.695 Q142.565 579.422 144.393 581.598 Q146.245 583.751 149.393 583.751 Q152.541 583.751 154.37 581.598 Q156.222 579.422 156.222 575.695 Q156.222 571.945 154.37 569.792 Q152.541 567.64 149.393 567.64 M158.676 552.987 L158.676 557.246 Q156.916 556.413 155.111 555.973 Q153.328 555.533 151.569 555.533 Q146.94 555.533 144.486 558.658 Q142.055 561.783 141.708 568.103 Q143.074 566.089 145.134 565.024 Q147.194 563.936 149.671 563.936 Q154.879 563.936 157.889 567.107 Q160.921 570.255 160.921 575.695 Q160.921 581.019 157.773 584.237 Q154.625 587.454 149.393 587.454 Q143.398 587.454 140.227 582.871 Q137.055 578.265 137.055 569.538 Q137.055 561.343 140.944 556.482 Q144.833 551.598 151.384 551.598 Q153.143 551.598 154.926 551.945 Q156.731 552.293 158.676 552.987 Z\" fill=\"#000000\" fill-rule=\"evenodd\" fill-opacity=\"1\" /><path clip-path=\"url(#clip4300)\" d=\"M 0 0 M175.99 555.302 Q172.379 555.302 170.551 558.867 Q168.745 562.408 168.745 569.538 Q168.745 576.644 170.551 580.209 Q172.379 583.751 175.99 583.751 Q179.625 583.751 181.43 580.209 Q183.259 576.644 183.259 569.538 Q183.259 562.408 181.43 558.867 Q179.625 555.302 175.99 555.302 M175.99 551.598 Q181.801 551.598 184.856 556.205 Q187.935 560.788 187.935 569.538 Q187.935 578.265 184.856 582.871 Q181.801 587.454 175.99 587.454 Q170.18 587.454 167.102 582.871 Q164.046 578.265 164.046 569.538 Q164.046 560.788 167.102 556.205 Q170.18 551.598 175.99 551.598 Z\" fill=\"#000000\" fill-rule=\"evenodd\" fill-opacity=\"1\" /><path clip-path=\"url(#clip4300)\" d=\"M 0 0 M113.097 276.042 L131.454 276.042 L131.454 279.977 L117.38 279.977 L117.38 288.449 Q118.398 288.102 119.417 287.94 Q120.435 287.755 121.454 287.755 Q127.241 287.755 130.62 290.926 Q134 294.097 134 299.514 Q134 305.092 130.528 308.194 Q127.055 311.273 120.736 311.273 Q118.56 311.273 116.292 310.903 Q114.046 310.532 111.639 309.792 L111.639 305.092 Q113.722 306.227 115.944 306.782 Q118.167 307.338 120.643 307.338 Q124.648 307.338 126.986 305.231 Q129.324 303.125 129.324 299.514 Q129.324 295.903 126.986 293.796 Q124.648 291.69 120.643 291.69 Q118.768 291.69 116.893 292.106 Q115.042 292.523 113.097 293.403 L113.097 276.042 Z\" fill=\"#000000\" fill-rule=\"evenodd\" fill-opacity=\"1\" /><path clip-path=\"url(#clip4300)\" d=\"M 0 0 M149.069 294.19 Q145.736 294.19 143.815 295.972 Q141.916 297.755 141.916 300.88 Q141.916 304.005 143.815 305.787 Q145.736 307.569 149.069 307.569 Q152.403 307.569 154.324 305.787 Q156.245 303.981 156.245 300.88 Q156.245 297.755 154.324 295.972 Q152.426 294.19 149.069 294.19 M144.393 292.199 Q141.384 291.458 139.694 289.398 Q138.028 287.338 138.028 284.375 Q138.028 280.232 140.967 277.824 Q143.93 275.417 149.069 275.417 Q154.231 275.417 157.171 277.824 Q160.111 280.232 160.111 284.375 Q160.111 287.338 158.421 289.398 Q156.754 291.458 153.768 292.199 Q157.148 292.986 159.023 295.278 Q160.921 297.569 160.921 300.88 Q160.921 305.903 157.842 308.588 Q154.787 311.273 149.069 311.273 Q143.352 311.273 140.273 308.588 Q137.217 305.903 137.217 300.88 Q137.217 297.569 139.116 295.278 Q141.014 292.986 144.393 292.199 M142.68 284.815 Q142.68 287.5 144.347 289.005 Q146.037 290.509 149.069 290.509 Q152.078 290.509 153.768 289.005 Q155.481 287.5 155.481 284.815 Q155.481 282.13 153.768 280.625 Q152.078 279.12 149.069 279.12 Q146.037 279.12 144.347 280.625 Q142.68 282.13 142.68 284.815 Z\" fill=\"#000000\" fill-rule=\"evenodd\" fill-opacity=\"1\" /><path clip-path=\"url(#clip4300)\" d=\"M 0 0 M175.99 279.12 Q172.379 279.12 170.551 282.685 Q168.745 286.227 168.745 293.356 Q168.745 300.463 170.551 304.028 Q172.379 307.569 175.99 307.569 Q179.625 307.569 181.43 304.028 Q183.259 300.463 183.259 293.356 Q183.259 286.227 181.43 282.685 Q179.625 279.12 175.99 279.12 M175.99 275.417 Q181.801 275.417 184.856 280.023 Q187.935 284.606 187.935 293.356 Q187.935 302.083 184.856 306.69 Q181.801 311.273 175.99 311.273 Q170.18 311.273 167.102 306.69 Q164.046 302.083 164.046 293.356 Q164.046 284.606 167.102 280.023 Q170.18 275.417 175.99 275.417 Z\" fill=\"#000000\" fill-rule=\"evenodd\" fill-opacity=\"1\" /><path clip-path=\"url(#clip4300)\" d=\"M 0 0 M1995.71 1525.47 L1995.71 1535.6 L2007.77 1535.6 L2007.77 1540.15 L1995.71 1540.15 L1995.71 1559.5 Q1995.71 1563.86 1996.89 1565.1 Q1998.1 1566.34 2001.76 1566.34 L2007.77 1566.34 L2007.77 1571.24 L2001.76 1571.24 Q1994.98 1571.24 1992.4 1568.73 Q1989.82 1566.18 1989.82 1559.5 L1989.82 1540.15 L1985.52 1540.15 L1985.52 1535.6 L1989.82 1535.6 L1989.82 1525.47 L1995.71 1525.47 Z\" fill=\"#000000\" fill-rule=\"evenodd\" fill-opacity=\"1\" /><path clip-path=\"url(#clip4300)\" d=\"M 0 0 M2013.92 1535.6 L2019.77 1535.6 L2019.77 1571.24 L2013.92 1571.24 L2013.92 1535.6 M2013.92 1521.72 L2019.77 1521.72 L2019.77 1529.13 L2013.92 1529.13 L2013.92 1521.72 Z\" fill=\"#000000\" fill-rule=\"evenodd\" fill-opacity=\"1\" /><path clip-path=\"url(#clip4300)\" d=\"M 0 0 M2053.67 1542.44 Q2055.87 1538.49 2058.92 1536.61 Q2061.98 1534.74 2066.11 1534.74 Q2071.68 1534.74 2074.71 1538.65 Q2077.73 1542.53 2077.73 1549.73 L2077.73 1571.24 L2071.84 1571.24 L2071.84 1549.92 Q2071.84 1544.79 2070.03 1542.31 Q2068.21 1539.83 2064.49 1539.83 Q2059.94 1539.83 2057.3 1542.85 Q2054.66 1545.88 2054.66 1551.1 L2054.66 1571.24 L2048.77 1571.24 L2048.77 1549.92 Q2048.77 1544.76 2046.95 1542.31 Q2045.14 1539.83 2041.35 1539.83 Q2036.86 1539.83 2034.22 1542.88 Q2031.58 1545.91 2031.58 1551.1 L2031.58 1571.24 L2025.69 1571.24 L2025.69 1535.6 L2031.58 1535.6 L2031.58 1541.13 Q2033.59 1537.86 2036.39 1536.3 Q2039.19 1534.74 2043.04 1534.74 Q2046.92 1534.74 2049.63 1536.71 Q2052.36 1538.68 2053.67 1542.44 Z\" fill=\"#000000\" fill-rule=\"evenodd\" fill-opacity=\"1\" /><path clip-path=\"url(#clip4300)\" d=\"M 0 0 M2114.37 1551.96 L2114.37 1554.82 L2087.44 1554.82 Q2087.82 1560.87 2091.07 1564.05 Q2094.35 1567.2 2100.17 1567.2 Q2103.54 1567.2 2106.7 1566.37 Q2109.88 1565.55 2113 1563.89 L2113 1569.43 Q2109.85 1570.77 2106.54 1571.47 Q2103.23 1572.17 2099.82 1572.17 Q2091.29 1572.17 2086.29 1567.2 Q2081.33 1562.24 2081.33 1553.77 Q2081.33 1545.02 2086.04 1539.89 Q2090.78 1534.74 2098.8 1534.74 Q2106 1534.74 2110.16 1539.38 Q2114.37 1544 2114.37 1551.96 M2108.51 1550.24 Q2108.45 1545.43 2105.8 1542.57 Q2103.19 1539.7 2098.87 1539.7 Q2093.96 1539.7 2091 1542.47 Q2088.08 1545.24 2087.63 1550.27 L2108.51 1550.24 Z\" fill=\"#000000\" fill-rule=\"evenodd\" fill-opacity=\"1\" /><path clip-path=\"url(#clip4300)\" d=\"M 0 0 M21.9562 811.585 L21.9562 805.378 L51.875 794.238 L21.9562 783.098 L21.9562 776.891 L57.6042 790.259 L57.6042 798.217 L21.9562 811.585 Z\" fill=\"#000000\" fill-rule=\"evenodd\" fill-opacity=\"1\" /><path clip-path=\"url(#clip4300)\" d=\"M 0 0 M39.6847 754.548 Q39.6847 761.646 41.3079 764.383 Q42.9312 767.12 46.8461 767.12 Q49.9653 767.12 51.8114 765.083 Q53.6256 763.014 53.6256 759.481 Q53.6256 754.611 50.1881 751.683 Q46.7188 748.723 40.9897 748.723 L39.6847 748.723 L39.6847 754.548 M37.2657 742.867 L57.6042 742.867 L57.6042 748.723 L52.1933 748.723 Q55.4398 750.728 56.9994 753.72 Q58.5272 756.712 58.5272 761.041 Q58.5272 766.515 55.4716 769.762 Q52.3843 772.977 47.2281 772.977 Q41.2125 772.977 38.1569 768.966 Q35.1014 764.924 35.1014 756.935 L35.1014 748.723 L34.5285 748.723 Q30.4862 748.723 28.2901 751.397 Q26.0621 754.039 26.0621 758.845 Q26.0621 761.9 26.7941 764.797 Q27.5262 767.693 28.9903 770.367 L23.5795 770.367 Q22.3381 767.152 21.7334 764.128 Q21.0968 761.104 21.0968 758.24 Q21.0968 750.506 25.1072 746.686 Q29.1176 742.867 37.2657 742.867 Z\" fill=\"#000000\" fill-rule=\"evenodd\" fill-opacity=\"1\" /><path clip-path=\"url(#clip4300)\" d=\"M 0 0 M8.07896 736.724 L8.07896 730.867 L57.6042 730.867 L57.6042 736.724 L8.07896 736.724 Z\" fill=\"#000000\" fill-rule=\"evenodd\" fill-opacity=\"1\" /><path clip-path=\"url(#clip4300)\" d=\"M 0 0 M43.5359 725.329 L21.9562 725.329 L21.9562 719.473 L43.3131 719.473 Q48.3739 719.473 50.9202 717.499 Q53.4346 715.526 53.4346 711.579 Q53.4346 706.837 50.4109 704.1 Q47.3872 701.33 42.1673 701.33 L21.9562 701.33 L21.9562 695.474 L57.6042 695.474 L57.6042 701.33 L52.1296 701.33 Q55.3762 703.463 56.9676 706.296 Q58.5272 709.097 58.5272 712.821 Q58.5272 718.964 54.7078 722.146 Q50.8883 725.329 43.5359 725.329 M21.0968 710.593 L21.0968 710.593 Z\" fill=\"#000000\" fill-rule=\"evenodd\" fill-opacity=\"1\" /><path clip-path=\"url(#clip4300)\" d=\"M 0 0 M38.3161 658.839 L41.1806 658.839 L41.1806 685.766 Q47.2281 685.384 50.4109 682.138 Q53.5619 678.86 53.5619 673.035 Q53.5619 669.661 52.7344 666.51 Q51.9069 663.327 50.2518 660.208 L55.7899 660.208 Q57.1267 663.359 57.827 666.669 Q58.5272 669.979 58.5272 673.385 Q58.5272 681.915 53.5619 686.912 Q48.5967 691.877 40.1303 691.877 Q31.3774 691.877 26.2531 687.167 Q21.0968 682.424 21.0968 674.404 Q21.0968 667.21 25.7438 663.041 Q30.3589 658.839 38.3161 658.839 M36.5973 664.696 Q31.7912 664.76 28.9266 667.401 Q26.0621 670.011 26.0621 674.34 Q26.0621 679.241 28.8312 682.202 Q31.6002 685.13 36.6292 685.575 L36.5973 664.696 Z\" fill=\"#000000\" fill-rule=\"evenodd\" fill-opacity=\"1\" /><polyline clip-path=\"url(#clip4302)\" style=\"stroke:#009af9; stroke-width:4; stroke-opacity:1; fill:none\" points=\"\n",
       "  330.313,1370.43 359.459,1232.34 388.605,1080.44 417.752,1315.19 446.898,1315.19 476.044,1315.19 505.191,942.348 534.337,956.157 563.483,1066.63 592.63,1342.81 \n",
       "  621.776,1329 650.922,1329 680.068,1329 709.215,1384.24 738.361,1315.19 767.507,1273.77 796.654,1356.62 825.8,1190.91 854.946,1190.91 884.093,1190.91 \n",
       "  913.239,1094.25 942.385,873.303 971.532,776.639 1000.68,693.785 1029.82,831.875 1058.97,831.875 1088.12,831.875 1117.26,762.83 1146.41,486.649 1175.56,500.458 \n",
       "  1204.7,528.076 1233.85,666.167 1262.99,666.167 1292.14,666.167 1321.29,376.176 1350.43,376.176 1379.58,376.176 1408.73,569.503 1437.87,500.458 1467.02,500.458 \n",
       "  1496.17,500.458 1525.31,583.312 1554.46,679.976 1583.6,679.976 1612.75,790.448 1641.9,790.448 1671.04,790.448 1700.19,790.448 1729.34,735.212 1758.48,873.303 \n",
       "  1787.63,983.775 1816.77,1011.39 1845.92,1163.29 1875.07,1163.29 1904.21,1163.29 1933.36,1218.53 1962.51,1066.63 1991.65,666.167 2020.8,376.176 2049.95,238.085 \n",
       "  2079.09,238.085 2108.24,238.085 2137.38,182.849 2166.53,790.448 2195.68,887.112 2224.82,693.785 2253.97,749.021 2283.12,749.021 2312.26,749.021 2341.41,762.83 \n",
       "  2370.55,790.448 2399.7,790.448 2428.85,845.685 2457.99,845.685 2487.14,845.685 2516.29,845.685 2545.43,914.73 2574.58,1039.01 2603.73,969.966 2632.87,969.966 \n",
       "  2662.02,900.921 2691.16,900.921 2720.31,900.921 2749.46,900.921 2778.6,831.875 2807.75,749.021 2836.9,762.83 2866.04,818.066 2895.19,818.066 2924.33,818.066 \n",
       "  2953.48,818.066 2982.63,818.066 3011.77,818.066 3040.92,818.066 3070.07,818.066 3099.21,818.066 3128.36,818.066 3157.51,818.066 3186.65,818.066 3215.8,818.066 \n",
       "  3244.94,818.066 3274.09,818.066 3303.24,818.066 3332.38,818.066 3361.53,818.066 3390.68,818.066 3419.82,818.066 3448.97,818.066 3478.11,818.066 3507.26,818.066 \n",
       "  3536.41,818.066 3565.55,818.066 3594.7,818.066 3623.85,818.066 3652.99,818.066 3682.14,818.066 3711.29,818.066 3740.43,818.066 3769.58,818.066 \n",
       "  \"/>\n",
       "<polyline clip-path=\"url(#clip4302)\" style=\"stroke:#e26f46; stroke-width:4; stroke-opacity:1; fill:none\" points=\"\n",
       "  330.313,1190.91 359.459,1190.91 388.605,1190.91 417.752,1273.77 446.898,1301.38 476.044,1287.57 505.191,1204.72 534.337,1149.48 563.483,1094.25 592.63,1135.68 \n",
       "  621.776,1163.29 650.922,1232.34 680.068,1287.57 709.215,1384.24 738.361,1370.43 767.507,1315.19 796.654,1342.81 825.8,1273.77 854.946,1218.53 884.093,1177.1 \n",
       "  913.239,1080.44 942.385,1011.39 971.532,887.112 1000.68,831.875 1029.82,818.066 1058.97,776.639 1088.12,776.639 1117.26,735.212 1146.41,679.976 1175.56,638.548 \n",
       "  1204.7,597.121 1233.85,569.503 1262.99,569.503 1292.14,610.93 1321.29,555.694 1350.43,555.694 1379.58,528.076 1408.73,541.885 1437.87,472.84 1467.02,500.458 \n",
       "  1496.17,528.076 1525.31,583.312 1554.46,624.739 1583.6,666.167 1612.75,707.594 1641.9,735.212 1671.04,762.83 1700.19,790.448 1729.34,831.875 1758.48,900.921 \n",
       "  1787.63,983.775 1816.77,1094.25 1845.92,1108.06 1875.07,1094.25 1904.21,1080.44 1933.36,983.775 1962.51,928.539 1991.65,804.257 2020.8,679.976 2049.95,583.312 \n",
       "  2079.09,445.221 2108.24,334.749 2137.38,86.1857 2166.53,251.895 2195.68,389.985 2224.82,555.694 2253.97,652.358 2283.12,749.021 2312.26,762.83 2341.41,693.785 \n",
       "  2370.55,749.021 2399.7,776.639 2428.85,845.685 2457.99,887.112 2487.14,887.112 2516.29,873.303 2545.43,873.303 2574.58,859.494 2603.73,914.73 2632.87,956.157 \n",
       "  2662.02,997.584 2691.16,983.775 2720.31,928.539 2749.46,900.921 2778.6,818.066 2807.75,790.448 2836.9,721.403 2866.04,666.167 2895.19,624.739 2924.33,597.121 \n",
       "  2953.48,597.121 2982.63,569.503 3011.77,555.694 3040.92,528.076 3070.07,514.267 3099.21,500.458 3128.36,472.84 3157.51,459.031 3186.65,445.221 3215.8,417.603 \n",
       "  3244.94,403.794 3274.09,389.985 3303.24,376.176 3332.38,362.367 3361.53,348.558 3390.68,320.94 3419.82,307.131 3448.97,293.322 3478.11,279.513 3507.26,265.704 \n",
       "  3536.41,251.895 3565.55,238.085 3594.7,238.085 3623.85,224.276 3652.99,210.467 3682.14,210.467 3711.29,196.658 3740.43,196.658 3769.58,182.849 \n",
       "  \"/>\n",
       "<polyline clip-path=\"url(#clip4302)\" style=\"stroke:#3da44d; stroke-width:4; stroke-opacity:1; fill:none\" points=\"\n",
       "  2938.91,2799.12 2938.91,-1328.69 \n",
       "  \"/>\n",
       "<path clip-path=\"url(#clip4300)\" d=\"\n",
       "M3044.85 1187.98 L3755.16 1187.98 L3755.16 946.06 L3044.85 946.06  Z\n",
       "  \" fill=\"#ffffff\" fill-rule=\"evenodd\" fill-opacity=\"1\"/>\n",
       "<polyline clip-path=\"url(#clip4300)\" style=\"stroke:#000000; stroke-width:4; stroke-opacity:1; fill:none\" points=\"\n",
       "  3044.85,1187.98 3755.16,1187.98 3755.16,946.06 3044.85,946.06 3044.85,1187.98 \n",
       "  \"/>\n",
       "<polyline clip-path=\"url(#clip4300)\" style=\"stroke:#009af9; stroke-width:4; stroke-opacity:1; fill:none\" points=\"\n",
       "  3084.05,1006.54 3319.25,1006.54 \n",
       "  \"/>\n",
       "<path clip-path=\"url(#clip4300)\" d=\"M 0 0 M3358.45 989.26 L3364.74 989.26 L3380.07 1018.17 L3380.07 989.26 L3384.6 989.26 L3384.6 1023.82 L3378.31 1023.82 L3362.98 994.908 L3362.98 1023.82 L3358.45 1023.82 L3358.45 989.26 Z\" fill=\"#000000\" fill-rule=\"evenodd\" fill-opacity=\"1\" /><path clip-path=\"url(#clip4300)\" d=\"M 0 0 M3398.17 1023.82 L3384.98 989.26 L3389.86 989.26 L3400.81 1018.36 L3411.78 989.26 L3416.64 989.26 L3403.47 1023.82 L3398.17 1023.82 Z\" fill=\"#000000\" fill-rule=\"evenodd\" fill-opacity=\"1\" /><path clip-path=\"url(#clip4300)\" d=\"M 0 0 M3425.97 993.102 L3425.97 1019.98 L3431.62 1019.98 Q3438.77 1019.98 3442.08 1016.74 Q3445.41 1013.5 3445.41 1006.51 Q3445.41 999.561 3442.08 996.343 Q3438.77 993.102 3431.62 993.102 L3425.97 993.102 M3421.29 989.26 L3430.9 989.26 Q3440.95 989.26 3445.65 993.45 Q3450.35 997.616 3450.35 1006.51 Q3450.35 1015.44 3445.62 1019.63 Q3440.9 1023.82 3430.9 1023.82 L3421.29 1023.82 L3421.29 989.26 Z\" fill=\"#000000\" fill-rule=\"evenodd\" fill-opacity=\"1\" /><path clip-path=\"url(#clip4300)\" d=\"M 0 0 M3465.72 993.866 L3459.37 1011.07 L3472.08 1011.07 L3465.72 993.866 M3463.08 989.26 L3468.38 989.26 L3481.55 1023.82 L3476.69 1023.82 L3473.54 1014.95 L3457.96 1014.95 L3454.81 1023.82 L3449.88 1023.82 L3463.08 989.26 Z\" fill=\"#000000\" fill-rule=\"evenodd\" fill-opacity=\"1\" /><path clip-path=\"url(#clip4300)\" d=\"M 0 0 M3505.72 1031.69 L3505.72 1035 L3481.09 1035 L3481.09 1031.69 L3505.72 1031.69 Z\" fill=\"#000000\" fill-rule=\"evenodd\" fill-opacity=\"1\" /><path clip-path=\"url(#clip4300)\" d=\"M 0 0 M3524.4 992.431 Q3519.3 992.431 3516.29 996.227 Q3513.31 1000.02 3513.31 1006.57 Q3513.31 1013.1 3516.29 1016.9 Q3519.3 1020.69 3524.4 1020.69 Q3529.49 1020.69 3532.45 1016.9 Q3535.44 1013.1 3535.44 1006.57 Q3535.44 1000.02 3532.45 996.227 Q3529.49 992.431 3524.4 992.431 M3524.4 988.635 Q3531.66 988.635 3536.02 993.519 Q3540.37 998.38 3540.37 1006.57 Q3540.37 1014.75 3536.02 1019.63 Q3531.66 1024.49 3524.4 1024.49 Q3517.1 1024.49 3512.73 1019.63 Q3508.38 1014.77 3508.38 1006.57 Q3508.38 998.38 3512.73 993.519 Q3517.1 988.635 3524.4 988.635 Z\" fill=\"#000000\" fill-rule=\"evenodd\" fill-opacity=\"1\" /><path clip-path=\"url(#clip4300)\" d=\"M 0 0 M3559.86 1001.88 Q3559.14 1001.46 3558.28 1001.27 Q3557.45 1001.07 3556.43 1001.07 Q3552.82 1001.07 3550.88 1003.43 Q3548.96 1005.76 3548.96 1010.16 L3548.96 1023.82 L3544.67 1023.82 L3544.67 997.894 L3548.96 997.894 L3548.96 1001.92 Q3550.3 999.561 3552.45 998.426 Q3554.6 997.269 3557.68 997.269 Q3558.12 997.269 3558.65 997.339 Q3559.19 997.385 3559.84 997.501 L3559.86 1001.88 Z\" fill=\"#000000\" fill-rule=\"evenodd\" fill-opacity=\"1\" /><path clip-path=\"url(#clip4300)\" d=\"M 0 0 M3564.33 997.894 L3568.59 997.894 L3568.59 1023.82 L3564.33 1023.82 L3564.33 997.894 M3564.33 987.802 L3568.59 987.802 L3568.59 993.195 L3564.33 993.195 L3564.33 987.802 Z\" fill=\"#000000\" fill-rule=\"evenodd\" fill-opacity=\"1\" /><path clip-path=\"url(#clip4300)\" d=\"M 0 0 M3590.11 1010.56 Q3590.11 1005.93 3588.19 1003.38 Q3586.29 1000.83 3582.84 1000.83 Q3579.42 1000.83 3577.5 1003.38 Q3575.6 1005.93 3575.6 1010.56 Q3575.6 1015.16 3577.5 1017.71 Q3579.42 1020.26 3582.84 1020.26 Q3586.29 1020.26 3588.19 1017.71 Q3590.11 1015.16 3590.11 1010.56 M3594.37 1020.6 Q3594.37 1027.22 3591.43 1030.44 Q3588.49 1033.68 3582.43 1033.68 Q3580.18 1033.68 3578.19 1033.33 Q3576.2 1033.01 3574.33 1032.32 L3574.33 1028.17 Q3576.2 1029.19 3578.03 1029.68 Q3579.86 1030.16 3581.76 1030.16 Q3585.95 1030.16 3588.03 1027.96 Q3590.11 1025.79 3590.11 1021.37 L3590.11 1019.26 Q3588.79 1021.55 3586.73 1022.69 Q3584.67 1023.82 3581.8 1023.82 Q3577.03 1023.82 3574.12 1020.19 Q3571.2 1016.55 3571.2 1010.56 Q3571.2 1004.54 3574.12 1000.9 Q3577.03 997.269 3581.8 997.269 Q3584.67 997.269 3586.73 998.403 Q3588.79 999.538 3590.11 1001.83 L3590.11 997.894 L3594.37 997.894 L3594.37 1020.6 Z\" fill=\"#000000\" fill-rule=\"evenodd\" fill-opacity=\"1\" /><path clip-path=\"url(#clip4300)\" d=\"M 0 0 M3598.84 997.894 L3603.1 997.894 L3603.1 1023.82 L3598.84 1023.82 L3598.84 997.894 M3598.84 987.802 L3603.1 987.802 L3603.1 993.195 L3598.84 993.195 L3598.84 987.802 Z\" fill=\"#000000\" fill-rule=\"evenodd\" fill-opacity=\"1\" /><path clip-path=\"url(#clip4300)\" d=\"M 0 0 M3629.12 1008.17 L3629.12 1023.82 L3624.86 1023.82 L3624.86 1008.31 Q3624.86 1004.63 3623.42 1002.8 Q3621.99 1000.97 3619.12 1000.97 Q3615.67 1000.97 3613.68 1003.17 Q3611.69 1005.37 3611.69 1009.17 L3611.69 1023.82 L3607.4 1023.82 L3607.4 997.894 L3611.69 997.894 L3611.69 1001.92 Q3613.21 999.584 3615.27 998.426 Q3617.36 997.269 3620.07 997.269 Q3624.53 997.269 3626.83 1000.05 Q3629.12 1002.8 3629.12 1008.17 Z\" fill=\"#000000\" fill-rule=\"evenodd\" fill-opacity=\"1\" /><path clip-path=\"url(#clip4300)\" d=\"M 0 0 M3645.37 1010.79 Q3640.21 1010.79 3638.21 1011.97 Q3636.22 1013.15 3636.22 1016 Q3636.22 1018.26 3637.71 1019.61 Q3639.21 1020.93 3641.78 1020.93 Q3645.32 1020.93 3647.45 1018.43 Q3649.6 1015.9 3649.6 1011.74 L3649.6 1010.79 L3645.37 1010.79 M3653.86 1009.03 L3653.86 1023.82 L3649.6 1023.82 L3649.6 1019.88 Q3648.14 1022.25 3645.97 1023.38 Q3643.79 1024.49 3640.64 1024.49 Q3636.66 1024.49 3634.3 1022.27 Q3631.96 1020.02 3631.96 1016.27 Q3631.96 1011.9 3634.88 1009.68 Q3637.82 1007.45 3643.63 1007.45 L3649.6 1007.45 L3649.6 1007.04 Q3649.6 1004.1 3647.66 1002.5 Q3645.74 1000.88 3642.24 1000.88 Q3640.02 1000.88 3637.91 1001.41 Q3635.81 1001.94 3633.86 1003.01 L3633.86 999.075 Q3636.2 998.172 3638.4 997.732 Q3640.6 997.269 3642.68 997.269 Q3648.31 997.269 3651.08 1000.19 Q3653.86 1003.1 3653.86 1009.03 Z\" fill=\"#000000\" fill-rule=\"evenodd\" fill-opacity=\"1\" /><path clip-path=\"url(#clip4300)\" d=\"M 0 0 M3658.33 987.802 L3662.59 987.802 L3662.59 1023.82 L3658.33 1023.82 L3658.33 987.802 Z\" fill=\"#000000\" fill-rule=\"evenodd\" fill-opacity=\"1\" /><polyline clip-path=\"url(#clip4300)\" style=\"stroke:#e26f46; stroke-width:4; stroke-opacity:1; fill:none\" points=\"\n",
       "  3084.05,1067.02 3319.25,1067.02 \n",
       "  \"/>\n",
       "<path clip-path=\"url(#clip4300)\" d=\"M 0 0 M3362.73 1080.41 L3362.73 1094.16 L3358.45 1094.16 L3358.45 1058.37 L3362.73 1058.37 L3362.73 1062.31 Q3364.07 1059.99 3366.11 1058.88 Q3368.17 1057.75 3371.02 1057.75 Q3375.74 1057.75 3378.68 1061.5 Q3381.64 1065.25 3381.64 1071.36 Q3381.64 1077.47 3378.68 1081.22 Q3375.74 1084.97 3371.02 1084.97 Q3368.17 1084.97 3366.11 1083.86 Q3364.07 1082.73 3362.73 1080.41 M3377.22 1071.36 Q3377.22 1066.66 3375.28 1064 Q3373.35 1061.31 3369.98 1061.31 Q3366.6 1061.31 3364.65 1064 Q3362.73 1066.66 3362.73 1071.36 Q3362.73 1076.06 3364.65 1078.74 Q3366.6 1081.41 3369.98 1081.41 Q3373.35 1081.41 3375.28 1078.74 Q3377.22 1076.06 3377.22 1071.36 Z\" fill=\"#000000\" fill-rule=\"evenodd\" fill-opacity=\"1\" /><path clip-path=\"url(#clip4300)\" d=\"M 0 0 M3401.13 1062.36 Q3400.41 1061.94 3399.56 1061.75 Q3398.72 1061.55 3397.71 1061.55 Q3394.1 1061.55 3392.15 1063.91 Q3390.23 1066.24 3390.23 1070.64 L3390.23 1084.3 L3385.95 1084.3 L3385.95 1058.37 L3390.23 1058.37 L3390.23 1062.4 Q3391.57 1060.04 3393.73 1058.91 Q3395.88 1057.75 3398.96 1057.75 Q3399.4 1057.75 3399.93 1057.82 Q3400.46 1057.86 3401.11 1057.98 L3401.13 1062.36 Z\" fill=\"#000000\" fill-rule=\"evenodd\" fill-opacity=\"1\" /><path clip-path=\"url(#clip4300)\" d=\"M 0 0 M3426.73 1070.27 L3426.73 1072.36 L3407.15 1072.36 Q3407.43 1076.75 3409.79 1079.07 Q3412.17 1081.36 3416.41 1081.36 Q3418.86 1081.36 3421.16 1080.76 Q3423.47 1080.16 3425.74 1078.95 L3425.74 1082.98 Q3423.45 1083.95 3421.04 1084.46 Q3418.63 1084.97 3416.16 1084.97 Q3409.95 1084.97 3406.32 1081.36 Q3402.71 1077.75 3402.71 1071.59 Q3402.71 1065.23 3406.13 1061.5 Q3409.58 1057.75 3415.41 1057.75 Q3420.65 1057.75 3423.68 1061.13 Q3426.73 1064.49 3426.73 1070.27 M3422.47 1069.02 Q3422.43 1065.53 3420.51 1063.44 Q3418.61 1061.36 3415.46 1061.36 Q3411.9 1061.36 3409.74 1063.37 Q3407.61 1065.39 3407.29 1069.05 L3422.47 1069.02 Z\" fill=\"#000000\" fill-rule=\"evenodd\" fill-opacity=\"1\" /><path clip-path=\"url(#clip4300)\" d=\"M 0 0 M3448.26 1062.31 L3448.26 1048.28 L3452.52 1048.28 L3452.52 1084.3 L3448.26 1084.3 L3448.26 1080.41 Q3446.92 1082.73 3444.86 1083.86 Q3442.82 1084.97 3439.95 1084.97 Q3435.25 1084.97 3432.29 1081.22 Q3429.35 1077.47 3429.35 1071.36 Q3429.35 1065.25 3432.29 1061.5 Q3435.25 1057.75 3439.95 1057.75 Q3442.82 1057.75 3444.86 1058.88 Q3446.92 1059.99 3448.26 1062.31 M3433.75 1071.36 Q3433.75 1076.06 3435.67 1078.74 Q3437.61 1081.41 3440.99 1081.41 Q3444.37 1081.41 3446.32 1078.74 Q3448.26 1076.06 3448.26 1071.36 Q3448.26 1066.66 3446.32 1064 Q3444.37 1061.31 3440.99 1061.31 Q3437.61 1061.31 3435.67 1064 Q3433.75 1066.66 3433.75 1071.36 Z\" fill=\"#000000\" fill-rule=\"evenodd\" fill-opacity=\"1\" /><path clip-path=\"url(#clip4300)\" d=\"M 0 0 M3456.99 1058.37 L3461.25 1058.37 L3461.25 1084.3 L3456.99 1084.3 L3456.99 1058.37 M3456.99 1048.28 L3461.25 1048.28 L3461.25 1053.68 L3456.99 1053.68 L3456.99 1048.28 Z\" fill=\"#000000\" fill-rule=\"evenodd\" fill-opacity=\"1\" /><path clip-path=\"url(#clip4300)\" d=\"M 0 0 M3469.93 1051.01 L3469.93 1058.37 L3478.7 1058.37 L3478.7 1061.68 L3469.93 1061.68 L3469.93 1075.76 Q3469.93 1078.93 3470.78 1079.83 Q3471.66 1080.74 3474.33 1080.74 L3478.7 1080.74 L3478.7 1084.3 L3474.33 1084.3 Q3469.4 1084.3 3467.52 1082.47 Q3465.65 1080.62 3465.65 1075.76 L3465.65 1061.68 L3462.52 1061.68 L3462.52 1058.37 L3465.65 1058.37 L3465.65 1051.01 L3469.93 1051.01 Z\" fill=\"#000000\" fill-rule=\"evenodd\" fill-opacity=\"1\" /><path clip-path=\"url(#clip4300)\" d=\"M 0 0 M3483.17 1058.37 L3487.43 1058.37 L3487.43 1084.3 L3483.17 1084.3 L3483.17 1058.37 M3483.17 1048.28 L3487.43 1048.28 L3487.43 1053.68 L3483.17 1053.68 L3483.17 1048.28 Z\" fill=\"#000000\" fill-rule=\"evenodd\" fill-opacity=\"1\" /><path clip-path=\"url(#clip4300)\" d=\"M 0 0 M3501.94 1061.36 Q3498.52 1061.36 3496.53 1064.05 Q3494.53 1066.71 3494.53 1071.36 Q3494.53 1076.01 3496.5 1078.7 Q3498.49 1081.36 3501.94 1081.36 Q3505.34 1081.36 3507.34 1078.67 Q3509.33 1075.99 3509.33 1071.36 Q3509.33 1066.75 3507.34 1064.07 Q3505.34 1061.36 3501.94 1061.36 M3501.94 1057.75 Q3507.5 1057.75 3510.67 1061.36 Q3513.84 1064.97 3513.84 1071.36 Q3513.84 1077.73 3510.67 1081.36 Q3507.5 1084.97 3501.94 1084.97 Q3496.36 1084.97 3493.19 1081.36 Q3490.04 1077.73 3490.04 1071.36 Q3490.04 1064.97 3493.19 1061.36 Q3496.36 1057.75 3501.94 1057.75 Z\" fill=\"#000000\" fill-rule=\"evenodd\" fill-opacity=\"1\" /><path clip-path=\"url(#clip4300)\" d=\"M 0 0 M3539.86 1068.65 L3539.86 1084.3 L3535.6 1084.3 L3535.6 1068.79 Q3535.6 1065.11 3534.16 1063.28 Q3532.73 1061.45 3529.86 1061.45 Q3526.41 1061.45 3524.42 1063.65 Q3522.43 1065.85 3522.43 1069.65 L3522.43 1084.3 L3518.15 1084.3 L3518.15 1058.37 L3522.43 1058.37 L3522.43 1062.4 Q3523.96 1060.06 3526.02 1058.91 Q3528.1 1057.75 3530.81 1057.75 Q3535.28 1057.75 3537.57 1060.53 Q3539.86 1063.28 3539.86 1068.65 Z\" fill=\"#000000\" fill-rule=\"evenodd\" fill-opacity=\"1\" /><path clip-path=\"url(#clip4300)\" d=\"M 0 0 M3560.85 1059.14 L3560.85 1063.17 Q3559.05 1062.24 3557.1 1061.78 Q3555.16 1061.31 3553.08 1061.31 Q3549.9 1061.31 3548.31 1062.29 Q3546.73 1063.26 3546.73 1065.2 Q3546.73 1066.68 3547.87 1067.54 Q3549 1068.37 3552.43 1069.14 L3553.89 1069.46 Q3558.42 1070.43 3560.32 1072.22 Q3562.24 1073.98 3562.24 1077.15 Q3562.24 1080.76 3559.37 1082.86 Q3556.53 1084.97 3551.53 1084.97 Q3549.44 1084.97 3547.17 1084.55 Q3544.93 1084.16 3542.43 1083.35 L3542.43 1078.95 Q3544.79 1080.18 3547.08 1080.8 Q3549.37 1081.41 3551.62 1081.41 Q3554.63 1081.41 3556.25 1080.39 Q3557.87 1079.35 3557.87 1077.47 Q3557.87 1075.74 3556.69 1074.81 Q3555.53 1073.88 3551.57 1073.03 L3550.09 1072.68 Q3546.13 1071.85 3544.37 1070.13 Q3542.61 1068.4 3542.61 1065.39 Q3542.61 1061.73 3545.21 1059.74 Q3547.8 1057.75 3552.57 1057.75 Q3554.93 1057.75 3557.01 1058.1 Q3559.09 1058.44 3560.85 1059.14 Z\" fill=\"#000000\" fill-rule=\"evenodd\" fill-opacity=\"1\" /><polyline clip-path=\"url(#clip4300)\" style=\"stroke:#3da44d; stroke-width:4; stroke-opacity:1; fill:none\" points=\"\n",
       "  3084.05,1127.5 3319.25,1127.5 \n",
       "  \"/>\n",
       "<path clip-path=\"url(#clip4300)\" d=\"M 0 0 M3365.85 1111.49 L3365.85 1118.85 L3374.63 1118.85 L3374.63 1122.16 L3365.85 1122.16 L3365.85 1136.24 Q3365.85 1139.41 3366.71 1140.31 Q3367.59 1141.22 3370.25 1141.22 L3374.63 1141.22 L3374.63 1144.78 L3370.25 1144.78 Q3365.32 1144.78 3363.45 1142.95 Q3361.57 1141.1 3361.57 1136.24 L3361.57 1122.16 L3358.45 1122.16 L3358.45 1118.85 L3361.57 1118.85 L3361.57 1111.49 L3365.85 1111.49 Z\" fill=\"#000000\" fill-rule=\"evenodd\" fill-opacity=\"1\" /><path clip-path=\"url(#clip4300)\" d=\"M 0 0 M3389.14 1121.84 Q3385.72 1121.84 3383.73 1124.53 Q3381.73 1127.19 3381.73 1131.84 Q3381.73 1136.49 3383.7 1139.18 Q3385.69 1141.84 3389.14 1141.84 Q3392.54 1141.84 3394.54 1139.15 Q3396.53 1136.47 3396.53 1131.84 Q3396.53 1127.23 3394.54 1124.55 Q3392.54 1121.84 3389.14 1121.84 M3389.14 1118.23 Q3394.7 1118.23 3397.87 1121.84 Q3401.04 1125.45 3401.04 1131.84 Q3401.04 1138.21 3397.87 1141.84 Q3394.7 1145.45 3389.14 1145.45 Q3383.56 1145.45 3380.39 1141.84 Q3377.24 1138.21 3377.24 1131.84 Q3377.24 1125.45 3380.39 1121.84 Q3383.56 1118.23 3389.14 1118.23 Z\" fill=\"#000000\" fill-rule=\"evenodd\" fill-opacity=\"1\" /><path clip-path=\"url(#clip4300)\" d=\"M 0 0 M3422.57 1122.79 L3422.57 1108.76 L3426.83 1108.76 L3426.83 1144.78 L3422.57 1144.78 L3422.57 1140.89 Q3421.22 1143.21 3419.16 1144.34 Q3417.13 1145.45 3414.26 1145.45 Q3409.56 1145.45 3406.6 1141.7 Q3403.66 1137.95 3403.66 1131.84 Q3403.66 1125.73 3406.6 1121.98 Q3409.56 1118.23 3414.26 1118.23 Q3417.13 1118.23 3419.16 1119.36 Q3421.22 1120.47 3422.57 1122.79 M3408.05 1131.84 Q3408.05 1136.54 3409.97 1139.22 Q3411.92 1141.89 3415.3 1141.89 Q3418.68 1141.89 3420.62 1139.22 Q3422.57 1136.54 3422.57 1131.84 Q3422.57 1127.14 3420.62 1124.48 Q3418.68 1121.79 3415.3 1121.79 Q3411.92 1121.79 3409.97 1124.48 Q3408.05 1127.14 3408.05 1131.84 Z\" fill=\"#000000\" fill-rule=\"evenodd\" fill-opacity=\"1\" /><path clip-path=\"url(#clip4300)\" d=\"M 0 0 M3443.08 1131.75 Q3437.91 1131.75 3435.92 1132.93 Q3433.93 1134.11 3433.93 1136.96 Q3433.93 1139.22 3435.41 1140.57 Q3436.92 1141.89 3439.49 1141.89 Q3443.03 1141.89 3445.16 1139.39 Q3447.31 1136.86 3447.31 1132.7 L3447.31 1131.75 L3443.08 1131.75 M3451.57 1129.99 L3451.57 1144.78 L3447.31 1144.78 L3447.31 1140.84 Q3445.85 1143.21 3443.68 1144.34 Q3441.5 1145.45 3438.35 1145.45 Q3434.37 1145.45 3432.01 1143.23 Q3429.67 1140.98 3429.67 1137.23 Q3429.67 1132.86 3432.59 1130.64 Q3435.53 1128.41 3441.34 1128.41 L3447.31 1128.41 L3447.31 1128 Q3447.31 1125.06 3445.37 1123.46 Q3443.45 1121.84 3439.95 1121.84 Q3437.73 1121.84 3435.62 1122.37 Q3433.52 1122.9 3431.57 1123.97 L3431.57 1120.03 Q3433.91 1119.13 3436.11 1118.69 Q3438.31 1118.23 3440.39 1118.23 Q3446.02 1118.23 3448.79 1121.15 Q3451.57 1124.06 3451.57 1129.99 Z\" fill=\"#000000\" fill-rule=\"evenodd\" fill-opacity=\"1\" /><path clip-path=\"url(#clip4300)\" d=\"M 0 0 M3466.83 1147.19 Q3465.02 1151.82 3463.31 1153.23 Q3461.6 1154.64 3458.72 1154.64 L3455.32 1154.64 L3455.32 1151.08 L3457.82 1151.08 Q3459.58 1151.08 3460.55 1150.24 Q3461.53 1149.41 3462.71 1146.31 L3463.47 1144.36 L3452.98 1118.85 L3457.5 1118.85 L3465.6 1139.13 L3473.7 1118.85 L3478.22 1118.85 L3466.83 1147.19 Z\" fill=\"#000000\" fill-rule=\"evenodd\" fill-opacity=\"1\" /><path clip-path=\"url(#clip4300)\" d=\"M 0 0 M3502.61 1114.06 L3502.61 1140.94 L3508.26 1140.94 Q3515.41 1140.94 3518.72 1137.7 Q3522.06 1134.46 3522.06 1127.47 Q3522.06 1120.52 3518.72 1117.3 Q3515.41 1114.06 3508.26 1114.06 L3502.61 1114.06 M3497.94 1110.22 L3507.54 1110.22 Q3517.59 1110.22 3522.29 1114.41 Q3526.99 1118.58 3526.99 1127.47 Q3526.99 1136.4 3522.27 1140.59 Q3517.54 1144.78 3507.54 1144.78 L3497.94 1144.78 L3497.94 1110.22 Z\" fill=\"#000000\" fill-rule=\"evenodd\" fill-opacity=\"1\" /><path clip-path=\"url(#clip4300)\" d=\"M 0 0 M3553.63 1130.75 L3553.63 1132.84 L3534.05 1132.84 Q3534.33 1137.23 3536.69 1139.55 Q3539.07 1141.84 3543.31 1141.84 Q3545.76 1141.84 3548.05 1141.24 Q3550.37 1140.64 3552.64 1139.43 L3552.64 1143.46 Q3550.34 1144.43 3547.94 1144.94 Q3545.53 1145.45 3543.05 1145.45 Q3536.85 1145.45 3533.22 1141.84 Q3529.6 1138.23 3529.6 1132.07 Q3529.6 1125.71 3533.03 1121.98 Q3536.48 1118.23 3542.31 1118.23 Q3547.54 1118.23 3550.58 1121.61 Q3553.63 1124.97 3553.63 1130.75 M3549.37 1129.5 Q3549.33 1126.01 3547.4 1123.92 Q3545.51 1121.84 3542.36 1121.84 Q3538.79 1121.84 3536.64 1123.85 Q3534.51 1125.87 3534.19 1129.53 L3549.37 1129.5 Z\" fill=\"#000000\" fill-rule=\"evenodd\" fill-opacity=\"1\" /><path clip-path=\"url(#clip4300)\" d=\"M 0 0 M3576.76 1119.85 L3576.76 1123.83 Q3574.95 1122.84 3573.12 1122.35 Q3571.32 1121.84 3569.46 1121.84 Q3565.32 1121.84 3563.03 1124.48 Q3560.74 1127.09 3560.74 1131.84 Q3560.74 1136.59 3563.03 1139.22 Q3565.32 1141.84 3569.46 1141.84 Q3571.32 1141.84 3573.12 1141.35 Q3574.95 1140.84 3576.76 1139.85 L3576.76 1143.78 Q3574.97 1144.62 3573.05 1145.03 Q3571.15 1145.45 3569 1145.45 Q3563.15 1145.45 3559.7 1141.77 Q3556.25 1138.09 3556.25 1131.84 Q3556.25 1125.5 3559.72 1121.86 Q3563.21 1118.23 3569.28 1118.23 Q3571.25 1118.23 3573.12 1118.65 Q3575 1119.04 3576.76 1119.85 Z\" fill=\"#000000\" fill-rule=\"evenodd\" fill-opacity=\"1\" /><path clip-path=\"url(#clip4300)\" d=\"M 0 0 M3581.83 1138.9 L3586.71 1138.9 L3586.71 1144.78 L3581.83 1144.78 L3581.83 1138.9 Z\" fill=\"#000000\" fill-rule=\"evenodd\" fill-opacity=\"1\" /><path clip-path=\"url(#clip4300)\" d=\"M 0 0 M3602.36 1125.64 Q3599.21 1125.64 3597.36 1127.79 Q3595.53 1129.94 3595.53 1133.69 Q3595.53 1137.42 3597.36 1139.59 Q3599.21 1141.75 3602.36 1141.75 Q3605.51 1141.75 3607.33 1139.59 Q3609.19 1137.42 3609.19 1133.69 Q3609.19 1129.94 3607.33 1127.79 Q3605.51 1125.64 3602.36 1125.64 M3611.64 1110.98 L3611.64 1115.24 Q3609.88 1114.41 3608.08 1113.97 Q3606.29 1113.53 3604.53 1113.53 Q3599.9 1113.53 3597.45 1116.65 Q3595.02 1119.78 3594.67 1126.1 Q3596.04 1124.09 3598.1 1123.02 Q3600.16 1121.93 3602.64 1121.93 Q3607.84 1121.93 3610.85 1125.1 Q3613.89 1128.25 3613.89 1133.69 Q3613.89 1139.02 3610.74 1142.23 Q3607.59 1145.45 3602.36 1145.45 Q3596.36 1145.45 3593.19 1140.87 Q3590.02 1136.26 3590.02 1127.53 Q3590.02 1119.34 3593.91 1114.48 Q3597.8 1109.59 3604.35 1109.59 Q3606.11 1109.59 3607.89 1109.94 Q3609.7 1110.29 3611.64 1110.98 Z\" fill=\"#000000\" fill-rule=\"evenodd\" fill-opacity=\"1\" /><path clip-path=\"url(#clip4300)\" d=\"M 0 0 M3619.44 1138.9 L3624.33 1138.9 L3624.33 1142.88 L3620.53 1150.29 L3617.54 1150.29 L3619.44 1142.88 L3619.44 1138.9 Z\" fill=\"#000000\" fill-rule=\"evenodd\" fill-opacity=\"1\" /><path clip-path=\"url(#clip4300)\" d=\"M 0 0 M3633.42 1140.84 L3649.74 1140.84 L3649.74 1144.78 L3627.8 1144.78 L3627.8 1140.84 Q3630.46 1138.09 3635.04 1133.46 Q3639.65 1128.81 3640.83 1127.47 Q3643.08 1124.94 3643.96 1123.21 Q3644.86 1121.45 3644.86 1119.76 Q3644.86 1117 3642.91 1115.27 Q3640.99 1113.53 3637.89 1113.53 Q3635.69 1113.53 3633.24 1114.29 Q3630.81 1115.06 3628.03 1116.61 L3628.03 1111.89 Q3630.85 1110.75 3633.31 1110.17 Q3635.76 1109.59 3637.8 1109.59 Q3643.17 1109.59 3646.36 1112.28 Q3649.56 1114.97 3649.56 1119.46 Q3649.56 1121.59 3648.75 1123.51 Q3647.96 1125.4 3645.85 1128 Q3645.27 1128.67 3642.17 1131.89 Q3639.07 1135.08 3633.42 1140.84 Z\" fill=\"#000000\" fill-rule=\"evenodd\" fill-opacity=\"1\" /><path clip-path=\"url(#clip4300)\" d=\"M 0 0 M3664.81 1113.3 Q3661.2 1113.3 3659.37 1116.86 Q3657.57 1120.4 3657.57 1127.53 Q3657.57 1134.64 3659.37 1138.21 Q3661.2 1141.75 3664.81 1141.75 Q3668.45 1141.75 3670.25 1138.21 Q3672.08 1134.64 3672.08 1127.53 Q3672.08 1120.4 3670.25 1116.86 Q3668.45 1113.3 3664.81 1113.3 M3664.81 1109.59 Q3670.62 1109.59 3673.68 1114.2 Q3676.76 1118.78 3676.76 1127.53 Q3676.76 1136.26 3673.68 1140.87 Q3670.62 1145.45 3664.81 1145.45 Q3659 1145.45 3655.92 1140.87 Q3652.87 1136.26 3652.87 1127.53 Q3652.87 1118.78 3655.92 1114.2 Q3659 1109.59 3664.81 1109.59 Z\" fill=\"#000000\" fill-rule=\"evenodd\" fill-opacity=\"1\" /></svg>\n"
      ]
     },
     "execution_count": 17,
     "metadata": {},
     "output_type": "execute_result"
    }
   ],
   "source": [
    "using Plots\n",
    "\n",
    "#dates = format_dates( df[rows,2] , \"m/d/yy\")\n",
    "\n",
    "gr()\n",
    "plot(    x_axis_dates,\n",
    "        [  y_axis_original y_axis_predicted \n",
    "        ], # y-axis\n",
    "    label    = \n",
    "        [ column_to_predict \"preditions\"  \"\" ],\n",
    "    legend   =:bottomright, \n",
    "              # :right, :left, :top, :bottom, :inside, :best, :legend, :topright, :topleft, :bottomleft, :bottomright\n",
    "    xlabel   = \"time\",\n",
    "    ylabel   = \"value\",\n",
    "    size     = (980, 400), # width, height\n",
    "    layout = (1, 1), # number of graphs: vertically, horizontally\n",
    "    )\n",
    "## Add veritical today line\n",
    "plot!([today_id], seriestype=\"vline\", label=[ \"today \"*t \"\" ],)"
   ]
  },
  {
   "cell_type": "code",
   "execution_count": 18,
   "metadata": {
    "ExecuteTime": {
     "end_time": "2020-12-06T22:02:07.700000-05:00",
     "start_time": "2020-12-07T03:01:15.950Z"
    }
   },
   "outputs": [],
   "source": [
    "savefig(\"../../predictions.png\")\n",
    "savefig(\"../../predictions_\" * column_to_predict * \".png\")"
   ]
  },
  {
   "cell_type": "code",
   "execution_count": 19,
   "metadata": {
    "ExecuteTime": {
     "end_time": "2020-12-06T22:02:08.014000-05:00",
     "start_time": "2020-12-07T03:01:15.954Z"
    }
   },
   "outputs": [
    {
     "name": "stdout",
     "output_type": "stream",
     "text": [
      "Mon, Nov. 30, 2020\t predicted 536.0\t, but actual value was \t536.0\t difference is 0.0\n",
      "Tue, Dec. 01, 2020\t predicted 542.0\t, but actual value was \t541.0\t difference is -1.0\n",
      "Wed, Dec. 02, 2020\t predicted 544.0\t, but actual value was \t547.0\t difference is 3.0\n",
      "Thu, Dec. 03, 2020\t predicted 549.0\t, but actual value was \t546.0\t difference is -3.0\n",
      "Fri, Dec. 04, 2020\t predicted 553.0\t, but actual value was \t542.0\t difference is -11.0\n",
      "Sat, Dec. 05, 2020\t predicted 556.0\t, but actual value was \t542.0\t difference is -14.0\n",
      "Sun, Dec. 06, 2020\t predicted 558.0\n",
      "Mon, Dec. 07, 2020\t predicted 558.0\n",
      "Tue, Dec. 08, 2020\t predicted 560.0\n"
     ]
    }
   ],
   "source": [
    "## print prediction comparisons\n",
    "#println(today_id)\n",
    "\n",
    "for id in finem-35:finem\n",
    "    if id < today_id + 3\n",
    "        row = get(data_predictions, id) # get a dictionary of data from the SFrame\n",
    "        date_string = row[\"Date\"] # e.g. \"2020-10-20\"\n",
    "        \n",
    "        a = y_axis_predicted[id]\n",
    "        b = y_axis_original[id]\n",
    "        d = round(b-a, digits=3)\n",
    "        date = convert(String, Dates.format( Date(date_string), \"e, u. dd, yyyy\" ) )\n",
    "        if id < today_id\n",
    "            println( date, \"\\t predicted \", a , \"\\t, but actual value was \\t\", b , \"\\t difference is \",  d  ) # di\n",
    "        else\n",
    "            println( date, \"\\t predicted \", a  ) # di\n",
    "        end # if\n",
    "    end #if \n",
    "end"
   ]
  },
  {
   "cell_type": "code",
   "execution_count": null,
   "metadata": {},
   "outputs": [],
   "source": []
  }
 ],
 "metadata": {
  "kernelspec": {
   "display_name": "Julia 1.5.1",
   "language": "julia",
   "name": "julia-1.5"
  },
  "language_info": {
   "file_extension": ".jl",
   "mimetype": "application/julia",
   "name": "julia",
   "version": "1.5.1"
  },
  "toc": {
   "base_numbering": 1,
   "nav_menu": {},
   "number_sections": true,
   "sideBar": true,
   "skip_h1_title": true,
   "title_cell": "Table of Contents",
   "title_sidebar": "Contents",
   "toc_cell": true,
   "toc_position": {},
   "toc_section_display": true,
   "toc_window_display": true
  },
  "varInspector": {
   "cols": {
    "lenName": 16,
    "lenType": 16,
    "lenVar": 40
   },
   "kernels_config": {
    "python": {
     "delete_cmd_postfix": "",
     "delete_cmd_prefix": "del ",
     "library": "var_list.py",
     "varRefreshCmd": "print(var_dic_list())"
    },
    "r": {
     "delete_cmd_postfix": ") ",
     "delete_cmd_prefix": "rm(",
     "library": "var_list.r",
     "varRefreshCmd": "cat(var_dic_list()) "
    }
   },
   "types_to_exclude": [
    "module",
    "function",
    "builtin_function_or_method",
    "instance",
    "_Feature"
   ],
   "window_display": false
  }
 },
 "nbformat": 4,
 "nbformat_minor": 4
}
