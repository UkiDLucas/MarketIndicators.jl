{
 "cells": [
  {
   "cell_type": "markdown",
   "metadata": {},
   "source": [
    "# Prediction Model using TuriCreate in Julia"
   ]
  },
  {
   "cell_type": "markdown",
   "metadata": {
    "toc": true
   },
   "source": [
    "<h1>Table of Contents<span class=\"tocSkip\"></span></h1>\n",
    "<div class=\"toc\"><ul class=\"toc-item\"><li><span><a href=\"#Set-Up\" data-toc-modified-id=\"Set-Up-1\"><span class=\"toc-item-num\">1&nbsp;&nbsp;</span>Set Up</a></span></li><li><span><a href=\"#Fetch-Data-(SFrame)-from-Uber-CSV\" data-toc-modified-id=\"Fetch-Data-(SFrame)-from-Uber-CSV-2\"><span class=\"toc-item-num\">2&nbsp;&nbsp;</span>Fetch Data (SFrame) from Uber CSV</a></span></li><li><span><a href=\"#Split-Data\" data-toc-modified-id=\"Split-Data-3\"><span class=\"toc-item-num\">3&nbsp;&nbsp;</span>Split Data</a></span></li></ul></div>"
   ]
  },
  {
   "cell_type": "markdown",
   "metadata": {},
   "source": [
    "## Set Up"
   ]
  },
  {
   "cell_type": "code",
   "execution_count": 1,
   "metadata": {
    "ExecuteTime": {
     "end_time": "2020-12-05T11:06:25.909000-05:00",
     "start_time": "2020-12-05T16:06:25.258Z"
    }
   },
   "outputs": [],
   "source": [
    "## uncomment for the first run\n",
    "# import Pkg\n",
    "# Pkg.add(\"PyCall\")\n",
    "# Pkg.add(\"Conda\")\n",
    "# ENV[\"PYTHON\"] = \"/opt/anaconda3/envs/turi/bin/python\"\n",
    "# /opt/anaconda3/envs/turi/lib/python3.6/site-packages/\n",
    "# Pkg.build(\"PyCall\")"
   ]
  },
  {
   "cell_type": "code",
   "execution_count": 2,
   "metadata": {
    "ExecuteTime": {
     "end_time": "2020-12-05T11:06:36.016000-05:00",
     "start_time": "2020-12-05T16:06:25.260Z"
    }
   },
   "outputs": [
    {
     "data": {
      "text/plain": [
       "PyObject <module 'turicreate' from '/opt/anaconda3/envs/turi/lib/python3.6/site-packages/turicreate/__init__.py'>"
      ]
     },
     "execution_count": 2,
     "metadata": {},
     "output_type": "execute_result"
    }
   ],
   "source": [
    "using PyCall\n",
    "tc = pyimport(\"turicreate\")"
   ]
  },
  {
   "cell_type": "markdown",
   "metadata": {},
   "source": [
    "## Fetch Data (SFrame) from Uber CSV"
   ]
  },
  {
   "cell_type": "code",
   "execution_count": 16,
   "metadata": {
    "ExecuteTime": {
     "end_time": "2020-12-05T11:13:42.973000-05:00",
     "start_time": "2020-12-05T16:13:42.886Z"
    }
   },
   "outputs": [
    {
     "name": "stdout",
     "output_type": "stream",
     "text": [
      "Finished parsing file /Users/uki/REPOS/MarketIndicators.jl/src/DATA/processed/uber.csv\n",
      "Parsing completed. Parsed 100 lines in 0.034016 secs.\n",
      "------------------------------------------------------\n",
      "Inferred types from first 100 line(s) of file as \n",
      "column_type_hints=[int,str,float,float,float,float,float,float,float,float,float,float,float,float,float,float,float,float,float,float,float,float,float,float,float,float,float,float,float,float,float,float,float]\n",
      "If parsing fails due to incorrect types, you can correct\n",
      "the inferred type list above and pass it to read_csv in\n",
      "the column_type_hints argument\n",
      "------------------------------------------------------\n",
      "Finished parsing file /Users/uki/REPOS/MarketIndicators.jl/src/DATA/processed/uber.csv\n",
      "Parsing completed. Parsed 1820 lines in 0.008586 secs.\n",
      "\n"
     ]
    }
   ],
   "source": [
    "data_path=\"../DATA/processed/uber.csv\"\n",
    "data = tc.SFrame(data_path)\n",
    "println()"
   ]
  },
  {
   "cell_type": "code",
   "execution_count": 34,
   "metadata": {
    "ExecuteTime": {
     "end_time": "2020-12-05T11:22:20.379000-05:00",
     "start_time": "2020-12-05T16:22:20.368Z"
    }
   },
   "outputs": [
    {
     "name": "stdout",
     "output_type": "stream",
     "text": [
      "1820\n",
      "33\n",
      "737718\n",
      "2020-10-20\n"
     ]
    }
   ],
   "source": [
    "# Do not take initial year data as averages are not complete\n",
    "row = get(data, 1743)\n",
    "\n",
    "record_count = size(data)[1]\n",
    "feature_number = row.count\n",
    "day = row[\"Day\"]\n",
    "date = row[\"Date\"] # \"2020-10-20\"\n",
    "\n",
    "println( record_count )\n",
    "println( feature_number )\n",
    "println( day )\n",
    "println( date )"
   ]
  },
  {
   "cell_type": "markdown",
   "metadata": {},
   "source": [
    "## Split Data"
   ]
  },
  {
   "cell_type": "code",
   "execution_count": 6,
   "metadata": {
    "ExecuteTime": {
     "end_time": "2020-12-05T11:06:37.918000-05:00",
     "start_time": "2020-12-05T16:06:25.268Z"
    }
   },
   "outputs": [
    {
     "name": "stdout",
     "output_type": "stream",
     "text": [
      "\n"
     ]
    }
   ],
   "source": [
    "# Make a train-test split\n",
    "train_data, test_data = data.random_split(0.8)\n",
    "println()"
   ]
  },
  {
   "cell_type": "code",
   "execution_count": 15,
   "metadata": {
    "ExecuteTime": {
     "end_time": "2020-12-05T11:08:50.286000-05:00",
     "start_time": "2020-12-05T16:08:50.163Z"
    }
   },
   "outputs": [
    {
     "name": "stdout",
     "output_type": "stream",
     "text": [
      "(1490,)\n",
      "(330,)\n"
     ]
    }
   ],
   "source": [
    "println( size(train_data) )\n",
    "println( size(test_data)  )"
   ]
  },
  {
   "cell_type": "code",
   "execution_count": 8,
   "metadata": {
    "ExecuteTime": {
     "end_time": "2020-12-05T11:06:39.728000-05:00",
     "start_time": "2020-12-05T16:06:25.271Z"
    }
   },
   "outputs": [
    {
     "ename": "LoadError",
     "evalue": "PyError ($(Expr(:escape, :(ccall(#= /Users/uki/.julia/packages/PyCall/BcTLp/src/pyfncall.jl:43 =# @pysym(:PyObject_Call), PyPtr, (PyPtr, PyPtr, PyPtr), o, pyargsptr, kw))))) <class 'turicreate.toolkits._main.ToolkitError'>\nToolkitError(\"Input data does not contain the following columns: ['HOUSE_SRT_MM_Value', 'VIX_Avg005', 'MFC_MPI_Avg090', 'HOUSE_SRT_MM_Avg180', 'HOUSE_SRT_MM_Avg365', 'MFC_MPI_Avg365', 'MFC_MPI_Value', 'ISM_MFC_EMP_Avg365', 'MFC_MPI_Avg180', 'HOUSE_SRT_MM_Avg090', 'ISM_MFC_EMP_Avg180', 'ISM_MFC_EMP_Avg090']\",)\n  File \"/opt/anaconda3/envs/turi/lib/python3.6/site-packages/turicreate/toolkits/regression/_regression.py\", line 108, in create\n    dataset, validation_set = _validate_data(dataset, target, features, validation_set)\n  File \"/opt/anaconda3/envs/turi/lib/python3.6/site-packages/turicreate/toolkits/_internal_utils.py\", line 742, in _validate_data\n    dataset = _toolkits_select_columns(dataset, features + [target])\n  File \"/opt/anaconda3/envs/turi/lib/python3.6/site-packages/turicreate/toolkits/_internal_utils.py\", line 573, in _toolkits_select_columns\n    + \"{}\".format(missing_features)\n",
     "output_type": "error",
     "traceback": [
      "PyError ($(Expr(:escape, :(ccall(#= /Users/uki/.julia/packages/PyCall/BcTLp/src/pyfncall.jl:43 =# @pysym(:PyObject_Call), PyPtr, (PyPtr, PyPtr, PyPtr), o, pyargsptr, kw))))) <class 'turicreate.toolkits._main.ToolkitError'>\nToolkitError(\"Input data does not contain the following columns: ['HOUSE_SRT_MM_Value', 'VIX_Avg005', 'MFC_MPI_Avg090', 'HOUSE_SRT_MM_Avg180', 'HOUSE_SRT_MM_Avg365', 'MFC_MPI_Avg365', 'MFC_MPI_Value', 'ISM_MFC_EMP_Avg365', 'MFC_MPI_Avg180', 'HOUSE_SRT_MM_Avg090', 'ISM_MFC_EMP_Avg180', 'ISM_MFC_EMP_Avg090']\",)\n  File \"/opt/anaconda3/envs/turi/lib/python3.6/site-packages/turicreate/toolkits/regression/_regression.py\", line 108, in create\n    dataset, validation_set = _validate_data(dataset, target, features, validation_set)\n  File \"/opt/anaconda3/envs/turi/lib/python3.6/site-packages/turicreate/toolkits/_internal_utils.py\", line 742, in _validate_data\n    dataset = _toolkits_select_columns(dataset, features + [target])\n  File \"/opt/anaconda3/envs/turi/lib/python3.6/site-packages/turicreate/toolkits/_internal_utils.py\", line 573, in _toolkits_select_columns\n    + \"{}\".format(missing_features)\n",
      "",
      "Stacktrace:",
      " [1] pyerr_check at /Users/uki/.julia/packages/PyCall/BcTLp/src/exception.jl:62 [inlined]",
      " [2] pyerr_check at /Users/uki/.julia/packages/PyCall/BcTLp/src/exception.jl:66 [inlined]",
      " [3] _handle_error(::String) at /Users/uki/.julia/packages/PyCall/BcTLp/src/exception.jl:83",
      " [4] macro expansion at /Users/uki/.julia/packages/PyCall/BcTLp/src/exception.jl:97 [inlined]",
      " [5] #110 at /Users/uki/.julia/packages/PyCall/BcTLp/src/pyfncall.jl:43 [inlined]",
      " [6] disable_sigint at ./c.jl:446 [inlined]",
      " [7] __pycall! at /Users/uki/.julia/packages/PyCall/BcTLp/src/pyfncall.jl:42 [inlined]",
      " [8] _pycall!(::PyObject, ::PyObject, ::Tuple{PyObject}, ::Int64, ::PyObject) at /Users/uki/.julia/packages/PyCall/BcTLp/src/pyfncall.jl:29",
      " [9] _pycall!(::PyObject, ::PyObject, ::Tuple{PyObject}, ::Base.Iterators.Pairs{Symbol,Any,NTuple{4,Symbol},NamedTuple{(:target, :features, :validation_set, :verbose),Tuple{String,Array{String,1},String,Bool}}}) at /Users/uki/.julia/packages/PyCall/BcTLp/src/pyfncall.jl:11",
      " [10] #_#117 at /Users/uki/.julia/packages/PyCall/BcTLp/src/pyfncall.jl:86 [inlined]",
      " [11] top-level scope at In[8]:3",
      " [12] include_string(::Function, ::Module, ::String, ::String) at ./loading.jl:1091"
     ]
    }
   ],
   "source": [
    "column_to_predict = \"DJIA_Original\"\n",
    "\n",
    "model = tc.regression.create( \n",
    "    train_data, \n",
    "    target = column_to_predict, \n",
    "    features = [\n",
    "                 #\"DJIA_Avg005\"\n",
    "                \"DJIA_Avg030\"\n",
    "                ,\"DJIA_Avg090\"\n",
    "                ,\"DJIA_Avg180\"        \n",
    "                ,\"DJIA_Avg365\"\n",
    "\n",
    "                ,\"ISM_MFC_EMP_Avg090\"\n",
    "                ,\"ISM_MFC_EMP_Avg180\"\n",
    "                ,\"ISM_MFC_EMP_Avg365\"\n",
    "\n",
    "                ,\"HOUSE_SRT_MM_Value\"\n",
    "                ,\"HOUSE_SRT_MM_Avg090\"\n",
    "                ,\"HOUSE_SRT_MM_Avg180\"\n",
    "                ,\"HOUSE_SRT_MM_Avg365\"\n",
    "\n",
    "                ,\"MFC_MPI_Value\"\n",
    "                ,\"MFC_MPI_Avg090\"\n",
    "                ,\"MFC_MPI_Avg180\"\n",
    "                ,\"MFC_MPI_Avg365\"\n",
    "        \n",
    "                ,\"VIX_Avg005\"\n",
    "                ,\"VIX_Avg030\"\n",
    "                ,\"VIX_Avg090\"\n",
    "                ,\"VIX_Avg180\"        \n",
    "                ,\"VIX_Avg365\"\n",
    "            ], \n",
    "    validation_set=\"auto\", \n",
    "    verbose=true\n",
    ")"
   ]
  },
  {
   "cell_type": "code",
   "execution_count": 9,
   "metadata": {
    "ExecuteTime": {
     "end_time": "2020-12-05T11:06:39.791000-05:00",
     "start_time": "2020-12-05T16:06:25.273Z"
    }
   },
   "outputs": [
    {
     "ename": "LoadError",
     "evalue": "UndefVarError: model not defined",
     "output_type": "error",
     "traceback": [
      "UndefVarError: model not defined",
      "",
      "Stacktrace:",
      " [1] top-level scope at In[9]:2",
      " [2] include_string(::Function, ::Module, ::String, ::String) at ./loading.jl:1091"
     ]
    }
   ],
   "source": [
    "## Save predictions to an SArray\n",
    "predictions = model.predict(test_data)\n",
    "#predictions"
   ]
  },
  {
   "cell_type": "code",
   "execution_count": 10,
   "metadata": {
    "ExecuteTime": {
     "end_time": "2020-12-05T11:06:39.794000-05:00",
     "start_time": "2020-12-05T16:06:25.274Z"
    }
   },
   "outputs": [
    {
     "ename": "LoadError",
     "evalue": "UndefVarError: predictions not defined",
     "output_type": "error",
     "traceback": [
      "UndefVarError: predictions not defined",
      "",
      "Stacktrace:",
      " [1] top-level scope at In[10]:3",
      " [2] include_string(::Function, ::Module, ::String, ::String) at ./loading.jl:1091"
     ]
    }
   ],
   "source": [
    "initio = 1                        # latin: start\n",
    "gradus = 30                       # latin: step\n",
    "finem  = size(predictions)[1] -1  # latin: end\n",
    "\n",
    "println(column_to_predict, \" \", finem)\n",
    "\n",
    "x_axis_ids        = Vector{Int64}() # Array{Int64,1}\n",
    "y_axis_preditions = Vector{Float64}()\n",
    "y_axis_actuals    = Vector{Float64}()\n",
    "\n",
    "for id in initio:finem\n",
    "    push!(x_axis_ids, id )\n",
    "    \n",
    "    a = get(predictions, id)\n",
    "    append!(y_axis_preditions, round(a, digits=1))\n",
    "    \n",
    "    b = get(test_data, column_to_predict )\n",
    "    b = get(b, id )\n",
    "    append!(y_axis_actuals, round(b, digits=1))\n",
    "    #println( \"predicted \", round(a, digits=1) , \"\\t but actual value was \\t\", round(b, digits=1) , \"\\t difference is \",  round(b-a, digits=2)  ) # dict\n",
    "end\n",
    "\n",
    "\n",
    "for id in initio:gradus:finem\n",
    "    a = y_axis_preditions[id]\n",
    "    b = y_axis_actuals[id]\n",
    "    println( \"predicted \", a , \"\\t but actual value was \\t\", b , \"\\t difference is \",  round(b-a, digits=2)  ) # dict\n",
    "end"
   ]
  },
  {
   "cell_type": "code",
   "execution_count": 11,
   "metadata": {
    "ExecuteTime": {
     "end_time": "2020-12-05T11:06:50.611000-05:00",
     "start_time": "2020-12-05T16:06:25.277Z"
    }
   },
   "outputs": [
    {
     "ename": "LoadError",
     "evalue": "UndefVarError: y_axis_preditions not defined",
     "output_type": "error",
     "traceback": [
      "UndefVarError: y_axis_preditions not defined",
      "",
      "Stacktrace:",
      " [1] top-level scope at In[11]:6",
      " [2] include_string(::Function, ::Module, ::String, ::String) at ./loading.jl:1091"
     ]
    }
   ],
   "source": [
    "using Plots\n",
    "\n",
    "#dates = format_dates( df[rows,2] , \"m/d/yy\")\n",
    "\n",
    "gr()\n",
    "plot(    x_axis_ids,\n",
    "        [  y_axis_preditions y_axis_actuals\n",
    "        ], # y-axis\n",
    "    label    = \n",
    "        [ \"DJIA preditions\" \"DJIA actuals\" \"\"  ],\n",
    "    legend   =:topleft, \n",
    "              # :right, :left, :top, :bottom, :inside, :best, :legend, :topright, :topleft, :bottomleft, :bottomright\n",
    "    xlabel   = \"samples\",\n",
    "    ylabel   = \"indicators\",\n",
    "    size     = (980, 400), # width, height\n",
    "    layout = (1, 1) # number of graphs: vertically, horizontally\n",
    "    )"
   ]
  },
  {
   "cell_type": "code",
   "execution_count": 12,
   "metadata": {
    "ExecuteTime": {
     "end_time": "2020-12-05T11:06:58.223000-05:00",
     "start_time": "2020-12-05T16:06:25.278Z"
    }
   },
   "outputs": [
    {
     "ename": "LoadError",
     "evalue": "UndefVarError: model not defined",
     "output_type": "error",
     "traceback": [
      "UndefVarError: model not defined",
      "",
      "Stacktrace:",
      " [1] top-level scope at In[12]:3",
      " [2] include_string(::Function, ::Module, ::String, ::String) at ./loading.jl:1091"
     ]
    }
   ],
   "source": [
    "#TODO: write this in a loop to select the best model\n",
    "# Evaluate the model and save the results into a dictionary\n",
    "results = model.evaluate( test_data ) #test_data[0:2531]\n",
    "results"
   ]
  },
  {
   "cell_type": "code",
   "execution_count": 13,
   "metadata": {
    "ExecuteTime": {
     "end_time": "2020-12-05T11:06:58.226000-05:00",
     "start_time": "2020-12-05T16:06:25.280Z"
    }
   },
   "outputs": [
    {
     "ename": "LoadError",
     "evalue": "UndefVarError: results not defined",
     "output_type": "error",
     "traceback": [
      "UndefVarError: results not defined",
      "",
      "Stacktrace:",
      " [1] top-level scope at In[13]:1",
      " [2] include_string(::Function, ::Module, ::String, ::String) at ./loading.jl:1091"
     ]
    }
   ],
   "source": [
    "rmse = results[\"rmse\"]\n",
    "rmse = round(rmse, digits=2)\n",
    "\n",
    "max_error = results[\"max_error\"]\n",
    "max_error = round(max_error, digits=2)\n",
    "\n",
    "println( \"max_error: \", max_error, \", rmse: \", rmse )\n",
    "# max_error: 1069.27, rmse: 184.6"
   ]
  },
  {
   "cell_type": "code",
   "execution_count": null,
   "metadata": {},
   "outputs": [],
   "source": []
  },
  {
   "cell_type": "code",
   "execution_count": 14,
   "metadata": {
    "ExecuteTime": {
     "end_time": "2020-12-05T11:06:58.229000-05:00",
     "start_time": "2020-12-05T16:06:25.284Z"
    }
   },
   "outputs": [
    {
     "ename": "LoadError",
     "evalue": "UndefVarError: model not defined",
     "output_type": "error",
     "traceback": [
      "UndefVarError: model not defined",
      "",
      "Stacktrace:",
      " [1] top-level scope at In[14]:2",
      " [2] include_string(::Function, ::Module, ::String, ::String) at ./loading.jl:1091"
     ]
    }
   ],
   "source": [
    "# Export to Core ML\n",
    "model.export_coreml(\"../DATA/models/^DJI.mlmodel\")"
   ]
  },
  {
   "cell_type": "code",
   "execution_count": null,
   "metadata": {},
   "outputs": [],
   "source": []
  }
 ],
 "metadata": {
  "kernelspec": {
   "display_name": "Julia 1.5.1",
   "language": "julia",
   "name": "julia-1.5"
  },
  "language_info": {
   "file_extension": ".jl",
   "mimetype": "application/julia",
   "name": "julia",
   "version": "1.5.1"
  },
  "toc": {
   "base_numbering": 1,
   "nav_menu": {},
   "number_sections": true,
   "sideBar": true,
   "skip_h1_title": true,
   "title_cell": "Table of Contents",
   "title_sidebar": "Contents",
   "toc_cell": true,
   "toc_position": {},
   "toc_section_display": true,
   "toc_window_display": true
  },
  "varInspector": {
   "cols": {
    "lenName": 16,
    "lenType": 16,
    "lenVar": 40
   },
   "kernels_config": {
    "python": {
     "delete_cmd_postfix": "",
     "delete_cmd_prefix": "del ",
     "library": "var_list.py",
     "varRefreshCmd": "print(var_dic_list())"
    },
    "r": {
     "delete_cmd_postfix": ") ",
     "delete_cmd_prefix": "rm(",
     "library": "var_list.r",
     "varRefreshCmd": "cat(var_dic_list()) "
    }
   },
   "types_to_exclude": [
    "module",
    "function",
    "builtin_function_or_method",
    "instance",
    "_Feature"
   ],
   "window_display": false
  }
 },
 "nbformat": 4,
 "nbformat_minor": 4
}
