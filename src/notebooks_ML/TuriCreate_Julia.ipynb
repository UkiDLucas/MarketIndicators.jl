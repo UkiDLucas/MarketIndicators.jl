{
 "cells": [
  {
   "cell_type": "markdown",
   "metadata": {},
   "source": [
    "# Prediction Model using TuriCreate in Julia"
   ]
  },
  {
   "cell_type": "markdown",
   "metadata": {
    "toc": true
   },
   "source": [
    "<h1>Table of Contents<span class=\"tocSkip\"></span></h1>\n",
    "<div class=\"toc\"><ul class=\"toc-item\"><li><span><a href=\"#Set-Up\" data-toc-modified-id=\"Set-Up-1\"><span class=\"toc-item-num\">1&nbsp;&nbsp;</span>Set Up</a></span></li><li><span><a href=\"#Fetch-Data-(SFrame)-from-Uber-CSV\" data-toc-modified-id=\"Fetch-Data-(SFrame)-from-Uber-CSV-2\"><span class=\"toc-item-num\">2&nbsp;&nbsp;</span>Fetch Data (SFrame) from Uber CSV</a></span></li><li><span><a href=\"#Split-Data\" data-toc-modified-id=\"Split-Data-3\"><span class=\"toc-item-num\">3&nbsp;&nbsp;</span>Split Data</a></span></li><li><span><a href=\"#Evaluate-the-Model\" data-toc-modified-id=\"Evaluate-the-Model-4\"><span class=\"toc-item-num\">4&nbsp;&nbsp;</span>Evaluate the Model</a></span></li><li><span><a href=\"#Save-/-Export-the-Model\" data-toc-modified-id=\"Save-/-Export-the-Model-5\"><span class=\"toc-item-num\">5&nbsp;&nbsp;</span>Save / Export the Model</a></span></li><li><span><a href=\"#Make-predictions\" data-toc-modified-id=\"Make-predictions-6\"><span class=\"toc-item-num\">6&nbsp;&nbsp;</span>Make predictions</a></span><ul class=\"toc-item\"><li><span><a href=\"#Explore-SFrame\" data-toc-modified-id=\"Explore-SFrame-6.1\"><span class=\"toc-item-num\">6.1&nbsp;&nbsp;</span>Explore SFrame</a></span></li></ul></li></ul></div>"
   ]
  },
  {
   "cell_type": "markdown",
   "metadata": {},
   "source": [
    "## Set Up"
   ]
  },
  {
   "cell_type": "code",
   "execution_count": 1,
   "metadata": {
    "ExecuteTime": {
     "end_time": "2020-12-06T20:13:21.763000-05:00",
     "start_time": "2020-12-07T01:13:17.360Z"
    }
   },
   "outputs": [
    {
     "name": "stdout",
     "output_type": "stream",
     "text": [
      "\n"
     ]
    }
   ],
   "source": [
    "column_to_predict = \"DJIA_Original\"\n",
    "# column_to_predict = \"AAPL_Original\"\n",
    "# column_to_predict = \"VIX_Original\"\n",
    "\n",
    "## uncomment for the first run\n",
    "# import Pkg\n",
    "# Pkg.add(\"PyCall\")\n",
    "# Pkg.add(\"Conda\")\n",
    "# ENV[\"PYTHON\"] = \"/opt/anaconda3/envs/turi/bin/python\"\n",
    "# /opt/anaconda3/envs/turi/lib/python3.6/site-packages/\n",
    "# Pkg.build(\"PyCall\")\n",
    "\n",
    "include(\"../Julia/functions.jl\") "
   ]
  },
  {
   "cell_type": "code",
   "execution_count": 2,
   "metadata": {
    "ExecuteTime": {
     "end_time": "2020-12-06T20:13:26.057000-05:00",
     "start_time": "2020-12-07T01:13:17.363Z"
    }
   },
   "outputs": [
    {
     "data": {
      "text/plain": [
       "PyObject <module 'turicreate' from '/opt/anaconda3/envs/turi/lib/python3.6/site-packages/turicreate/__init__.py'>"
      ]
     },
     "execution_count": 2,
     "metadata": {},
     "output_type": "execute_result"
    }
   ],
   "source": [
    "using PyCall\n",
    "tc = pyimport(\"turicreate\")"
   ]
  },
  {
   "cell_type": "markdown",
   "metadata": {},
   "source": [
    "## Fetch Data (SFrame) from Uber CSV"
   ]
  },
  {
   "cell_type": "code",
   "execution_count": 3,
   "metadata": {
    "ExecuteTime": {
     "end_time": "2020-12-06T20:13:26.374000-05:00",
     "start_time": "2020-12-07T01:13:17.366Z"
    }
   },
   "outputs": [
    {
     "name": "stdout",
     "output_type": "stream",
     "text": [
      "Finished parsing file /Users/uki/REPOS/MarketIndicators.jl/src/DATA/processed/uber_training.csv\n",
      "Parsing completed. Parsed 100 lines in 0.026811 secs.\n",
      "------------------------------------------------------\n",
      "Inferred types from first 100 line(s) of file as \n",
      "column_type_hints=[int,str,float,float,float,float,float,float,float,float,float,float,float,float,float,float,float,float,float,float,float,float,float,float,float,float,float,float,float,float,float,float,float,float,float,float,float,float,float,float,float,float,float,float,float,float,float]\n",
      "If parsing fails due to incorrect types, you can correct\n",
      "the inferred type list above and pass it to read_csv in\n",
      "the column_type_hints argument\n",
      "------------------------------------------------------\n",
      "Finished parsing file /Users/uki/REPOS/MarketIndicators.jl/src/DATA/processed/uber_training.csv\n",
      "Parsing completed. Parsed 1786 lines in 0.012071 secs.\n",
      "\n"
     ]
    }
   ],
   "source": [
    "data_path=\"../DATA/processed/uber_training.csv\"\n",
    "data = tc.SFrame(data_path)\n",
    "println()"
   ]
  },
  {
   "cell_type": "markdown",
   "metadata": {},
   "source": [
    "## Split Data"
   ]
  },
  {
   "cell_type": "code",
   "execution_count": 4,
   "metadata": {
    "ExecuteTime": {
     "end_time": "2020-12-06T20:13:26.484000-05:00",
     "start_time": "2020-12-07T01:13:17.369Z"
    }
   },
   "outputs": [
    {
     "name": "stdout",
     "output_type": "stream",
     "text": [
      "\n"
     ]
    }
   ],
   "source": [
    "# Make a train-test split\n",
    "train_data, test_data = data.random_split(0.8)\n",
    "println()"
   ]
  },
  {
   "cell_type": "code",
   "execution_count": 5,
   "metadata": {
    "ExecuteTime": {
     "end_time": "2020-12-06T20:13:26.604000-05:00",
     "start_time": "2020-12-07T01:13:17.374Z"
    }
   },
   "outputs": [
    {
     "name": "stdout",
     "output_type": "stream",
     "text": [
      "(1447,)\n",
      "(339,)\n"
     ]
    }
   ],
   "source": [
    "println( size(train_data) )\n",
    "println( size(test_data)  )"
   ]
  },
  {
   "cell_type": "code",
   "execution_count": null,
   "metadata": {},
   "outputs": [],
   "source": []
  },
  {
   "cell_type": "code",
   "execution_count": 6,
   "metadata": {
    "ExecuteTime": {
     "end_time": "2020-12-06T20:13:28.392000-05:00",
     "start_time": "2020-12-07T01:13:17.378Z"
    }
   },
   "outputs": [
    {
     "name": "stdout",
     "output_type": "stream",
     "text": [
      "Automatically generating validation set from 5% of the data.\n",
      "Linear regression:\n",
      "--------------------------------------------------------\n",
      "Number of examples          : 1378\n",
      "Number of features          : 38\n",
      "Number of unpacked features : 38\n",
      "Number of coefficients    : 39\n",
      "Starting Newton Method\n",
      "--------------------------------------------------------\n",
      "+-----------+----------+--------------+--------------------+----------------------+---------------------------------+-----------------------------------+\n",
      "| Iteration | Passes   | Elapsed Time | Training Max Error | Validation Max Error | Training Root-Mean-Square Error | Validation Root-Mean-Square Error |\n",
      "+-----------+----------+--------------+--------------------+----------------------+---------------------------------+-----------------------------------+\n",
      "| 1         | 2        | 1.021909     | 1786.318235        | 823.286302           | 411.162907                      | 342.241340                        |\n",
      "+-----------+----------+--------------+--------------------+----------------------+---------------------------------+-----------------------------------+\n",
      "SUCCESS: Optimal solution found.\n",
      "\n",
      "Boosted trees regression:\n",
      "--------------------------------------------------------\n",
      "Number of examples          : 1378\n",
      "Number of features          : 38\n",
      "Number of unpacked features : 38\n",
      "+-----------+--------------+--------------------+----------------------+---------------------------------+-----------------------------------+\n",
      "| Iteration | Elapsed Time | Training Max Error | Validation Max Error | Training Root-Mean-Square Error | Validation Root-Mean-Square Error |\n",
      "+-----------+--------------+--------------------+----------------------+---------------------------------+-----------------------------------+\n",
      "| 1         | 0.008958     | 21929.748047       | 21685.658203         | 16790.701172                    | 16677.091797                      |\n",
      "| 2         | 0.011757     | 16020.205078       | 15776.115234         | 11786.844727                    | 11687.418945                      |\n",
      "| 3         | 0.015126     | 11765.259766       | 11521.169922         | 8279.152344                     | 8206.833008                       |\n",
      "| 4         | 0.018594     | 8694.736328        | 8450.646484          | 5821.111328                     | 5752.335938                       |\n",
      "| 5         | 0.021920     | 6843.527344        | 6143.681641          | 4098.457031                     | 4048.385986                       |\n",
      "| 10        | 0.042265     | 2380.296875        | 1480.005859          | 758.944580                      | 717.499146                        |\n",
      "+-----------+--------------+--------------------+----------------------+---------------------------------+-----------------------------------+\n"
     ]
    },
    {
     "data": {
      "text/plain": [
       "PyObject Class                          : LinearRegression\n",
       "\n",
       "Schema\n",
       "------\n",
       "Number of coefficients         : 39\n",
       "Number of examples             : 1378\n",
       "Number of feature columns      : 38\n",
       "Number of unpacked features    : 38\n",
       "\n",
       "Hyperparameters\n",
       "---------------\n",
       "L1 penalty                     : 0\n",
       "L2 penalty                     : 0.01\n",
       "\n",
       "Training Summary\n",
       "----------------\n",
       "Solver                         : newton\n",
       "Solver iterations              : 1\n",
       "Solver status                  : SUCCESS: Optimal solution found.\n",
       "Training time (sec)            : 1.0313\n",
       "\n",
       "Settings\n",
       "--------\n",
       "Residual sum of squares        : 232957701.9598\n",
       "Training RMSE                  : 411.1629\n",
       "\n",
       "Highest Positive Coefficients\n",
       "-----------------------------\n",
       "(intercept)                    : 21137.0284\n",
       "AAPL_Avg180                    : 68.3289\n",
       "DJIA_Avg030                    : 63.4133\n",
       "US_ISM_MFC_PMI_Avg365          : 62.7632\n",
       "DJIA_Avg120                    : 58.7551\n",
       "\n",
       "Lowest Negative Coefficients\n",
       "----------------------------\n",
       "DJIA_Avg365                    : -68.9701\n",
       "AAPL_Avg120                    : -63.7157\n",
       "AAPL_Avg060                    : -43.0516\n",
       "AAPL_Avg030                    : -36.865\n",
       "VIX_Avg120                     : -26.6201\n"
      ]
     },
     "execution_count": 6,
     "metadata": {},
     "output_type": "execute_result"
    }
   ],
   "source": [
    "model = tc.regression.create( \n",
    "    train_data, \n",
    "    target = column_to_predict, \n",
    "    features = [\n",
    "\n",
    "    #\"VIX_Quantized\"\n",
    "    \"VIX_Avg030\"\n",
    "    ,\"VIX_Avg060\"\n",
    "    ,\"VIX_Avg090\"\n",
    "    ,\"VIX_Avg120\"\n",
    "    ,\"VIX_Avg180\"\n",
    "    ,\"VIX_Avg365\"\n",
    "        \n",
    "    ,\"US_ISM_MFC_PMI_Quantized\"\n",
    "    ,\"US_ISM_MFC_PMI_Avg030\"\n",
    "    ,\"US_ISM_MFC_PMI_Avg060\"\n",
    "    ,\"US_ISM_MFC_PMI_Avg090\"\n",
    "    ,\"US_ISM_MFC_PMI_Avg180\"\n",
    "    ,\"US_ISM_MFC_PMI_Avg365\"\n",
    "        \n",
    "    # ,\"DJIA_Quantized\" # comment out when predicting DJIA\n",
    "    ,\"DJIA_Avg030\"\n",
    "    ,\"DJIA_Avg060\"\n",
    "    ,\"DJIA_Avg090\"\n",
    "    ,\"DJIA_Avg120\"\n",
    "    ,\"DJIA_Avg180\"\n",
    "    ,\"DJIA_Avg365\"\n",
    "        \n",
    "    ,\"AAPL_Quantized\" # replace with 5 day average\n",
    "    ,\"AAPL_Avg030\"\n",
    "    ,\"AAPL_Avg060\"\n",
    "    ,\"AAPL_Avg090\"\n",
    "    ,\"AAPL_Avg120\"\n",
    "    ,\"AAPL_Avg180\"\n",
    "\n",
    "    ,\"US_ISM_MFC_EMP_Quantized\"\n",
    "    ,\"US_ISM_MFC_EMP_Avg030\"\n",
    "    ,\"US_ISM_MFC_EMP_Avg060\"\n",
    "    ,\"US_ISM_MFC_EMP_Avg090\"\n",
    "    ,\"US_ISM_MFC_EMP_Avg120\"\n",
    "    ,\"US_ISM_MFC_EMP_Avg180\"\n",
    "    ,\"US_ISM_MFC_EMP_Avg365\"\n",
    "        \n",
    "        \n",
    "    ,\"US_INIT_JOBLESS_Quantized\"\n",
    "    ,\"US_INIT_JOBLESS_Avg005\"\n",
    "    ,\"US_INIT_JOBLESS_Avg030\"\n",
    "    ,\"US_INIT_JOBLESS_Avg060\"\n",
    "    ,\"US_INIT_JOBLESS_Avg090\"\n",
    "    ,\"US_INIT_JOBLESS_Avg120\"\n",
    "    ,\"US_INIT_JOBLESS_Avg180\"\n",
    "    \n",
    "        ], \n",
    "    validation_set=\"auto\", \n",
    "    verbose=true\n",
    ")"
   ]
  },
  {
   "cell_type": "markdown",
   "metadata": {},
   "source": [
    "## Evaluate the Model"
   ]
  },
  {
   "cell_type": "code",
   "execution_count": 7,
   "metadata": {
    "ExecuteTime": {
     "end_time": "2020-12-06T20:13:29.402000-05:00",
     "start_time": "2020-12-07T01:13:17.382Z"
    }
   },
   "outputs": [
    {
     "data": {
      "text/plain": [
       "Dict{Any,Any} with 2 entries:\n",
       "  \"rmse\"      => 373.941\n",
       "  \"max_error\" => 1339.76"
      ]
     },
     "execution_count": 7,
     "metadata": {},
     "output_type": "execute_result"
    }
   ],
   "source": [
    "#TODO: write this in a loop to select the best model\n",
    "# Evaluate the model and save the results into a dictionary\n",
    "results = model.evaluate( test_data ) #test_data[0:2531]\n",
    "results"
   ]
  },
  {
   "cell_type": "code",
   "execution_count": 8,
   "metadata": {
    "ExecuteTime": {
     "end_time": "2020-12-06T20:13:29.508000-05:00",
     "start_time": "2020-12-07T01:13:17.385Z"
    }
   },
   "outputs": [
    {
     "name": "stdout",
     "output_type": "stream",
     "text": [
      "max_error: 1339.76, rmse: 373.94\n"
     ]
    }
   ],
   "source": [
    "rmse = results[\"rmse\"]\n",
    "rmse = round(rmse, digits=2)\n",
    "\n",
    "max_error = results[\"max_error\"]\n",
    "max_error = round(max_error, digits=2)\n",
    "\n",
    "println( \"max_error: \", max_error, \", rmse: \", rmse )\n",
    "# max_error: 1069.27, rmse: 184.6\n",
    "# max_error: 65.35, rmse: 32.6            predict: ^DJIA added: US_INIT_JOBLESS\n",
    "# max_error: 1875.39, rmse: 443.59        predict: ^DJIA commented out: \"DJIA_Quantized\"\n",
    "# max_error: 1339.76, rmse: 373.94        predict: ^DJIA commented out: \"DJIA_Quantized\""
   ]
  },
  {
   "cell_type": "markdown",
   "metadata": {},
   "source": [
    "## Save / Export the Model"
   ]
  },
  {
   "cell_type": "code",
   "execution_count": 9,
   "metadata": {
    "ExecuteTime": {
     "end_time": "2020-12-06T20:13:29.530000-05:00",
     "start_time": "2020-12-07T01:13:17.388Z"
    }
   },
   "outputs": [],
   "source": [
    "# Export to Core ML\n",
    "model.export_coreml(\"../DATA/models/^DJI.mlmodel\")"
   ]
  },
  {
   "cell_type": "markdown",
   "metadata": {},
   "source": [
    "## Make predictions "
   ]
  },
  {
   "cell_type": "code",
   "execution_count": 10,
   "metadata": {
    "ExecuteTime": {
     "end_time": "2020-12-06T20:13:29.584000-05:00",
     "start_time": "2020-12-07T01:13:17.391Z"
    }
   },
   "outputs": [
    {
     "name": "stdout",
     "output_type": "stream",
     "text": [
      "Finished parsing file /Users/uki/REPOS/MarketIndicators.jl/src/DATA/processed/uber_prediction.csv\n",
      "Parsing completed. Parsed 96 lines in 0.024831 secs.\n",
      "------------------------------------------------------\n",
      "Inferred types from first 100 line(s) of file as \n",
      "column_type_hints=[int,str,float,float,float,float,float,float,float,float,float,float,float,float,float,float,float,float,float,float,float,float,float,float,float,float,float,float,float,float,float,float,float,float,float,float,float,float,float,float,float,float,float,float,float,float,float]\n",
      "If parsing fails due to incorrect types, you can correct\n",
      "the inferred type list above and pass it to read_csv in\n",
      "the column_type_hints argument\n",
      "------------------------------------------------------\n",
      "Finished parsing file /Users/uki/REPOS/MarketIndicators.jl/src/DATA/processed/uber_prediction.csv\n",
      "Parsing completed. Parsed 96 lines in 0.005859 secs.\n",
      "\n"
     ]
    }
   ],
   "source": [
    "data_path=\"../DATA/processed/uber_prediction.csv\"\n",
    "data_predictions = tc.SFrame(data_path)\n",
    "println()"
   ]
  },
  {
   "cell_type": "code",
   "execution_count": 11,
   "metadata": {
    "ExecuteTime": {
     "end_time": "2020-12-06T20:13:29.878000-05:00",
     "start_time": "2020-12-07T01:13:17.394Z"
    }
   },
   "outputs": [
    {
     "data": {
      "text/plain": [
       "27942.334915533404"
      ]
     },
     "execution_count": 11,
     "metadata": {},
     "output_type": "execute_result"
    }
   ],
   "source": [
    "## Save predictions to an SArray\n",
    "predictions = model.predict(data_predictions)\n",
    "get(predictions, 1)"
   ]
  },
  {
   "cell_type": "markdown",
   "metadata": {},
   "source": [
    "### Explore SFrame"
   ]
  },
  {
   "cell_type": "code",
   "execution_count": 12,
   "metadata": {
    "ExecuteTime": {
     "end_time": "2020-12-06T20:13:29.967000-05:00",
     "start_time": "2020-12-07T01:13:17.397Z"
    }
   },
   "outputs": [
    {
     "name": "stdout",
     "output_type": "stream",
     "text": [
      "record_count data 96\n",
      "record_count predictions 96\n",
      "feature_number 47\n",
      "Rata Die 737770\n",
      "date 2020-12-11\n",
      "original 30218.259766\n"
     ]
    }
   ],
   "source": [
    "record_count = size(data_predictions)[1]\n",
    "row = get(data_predictions, record_count-1)\n",
    "\n",
    "feature_number = row.count\n",
    "day = row[\"Rata_Die\"]\n",
    "date = row[\"Date\"] # \"2020-10-20\"\n",
    "original = row[\"DJIA_Original\"]\n",
    "\n",
    "println( \"record_count data \", record_count )\n",
    "println( \"record_count predictions \", size(predictions)[1] )\n",
    "\n",
    "println( \"feature_number \", feature_number )\n",
    "println( \"Rata Die \", day )\n",
    "println( \"date \", date )\n",
    "println( \"original \", original )"
   ]
  },
  {
   "cell_type": "code",
   "execution_count": 13,
   "metadata": {
    "ExecuteTime": {
     "end_time": "2020-12-06T20:13:31.385000-05:00",
     "start_time": "2020-12-07T01:13:17.400Z"
    }
   },
   "outputs": [
    {
     "data": {
      "text/plain": [
       "737765"
      ]
     },
     "execution_count": 13,
     "metadata": {},
     "output_type": "execute_result"
    }
   ],
   "source": [
    "using Dates\n",
    "today_rata = Dates.datetime2rata( today() )"
   ]
  },
  {
   "cell_type": "code",
   "execution_count": 14,
   "metadata": {
    "ExecuteTime": {
     "end_time": "2020-12-06T20:13:31.397000-05:00",
     "start_time": "2020-12-07T01:13:17.403Z"
    }
   },
   "outputs": [
    {
     "name": "stdout",
     "output_type": "stream",
     "text": [
      "preditions set size: 95, step 5\n"
     ]
    }
   ],
   "source": [
    "## Determine dataset size\n",
    "\n",
    "initio = 1                                              # latin: start\n",
    "finem  = size(predictions)[1] -1                        # latin: end\n",
    "gradus = convert(Int64, round( finem/20, digits=0)  )   # latin: step\n",
    "\n",
    "println(\"preditions set size: \", finem, \", step \", gradus)"
   ]
  },
  {
   "cell_type": "code",
   "execution_count": 15,
   "metadata": {
    "ExecuteTime": {
     "end_time": "2020-12-06T20:13:32.243000-05:00",
     "start_time": "2020-12-07T01:13:17.407Z"
    }
   },
   "outputs": [
    {
     "name": "stdout",
     "output_type": "stream",
     "text": [
      "DJIA_Original 95 Array{Date,1}\n",
      "\n"
     ]
    }
   ],
   "source": [
    "using Dates\n",
    "\n",
    "## Declare variables\n",
    "x_axis_dates      = Vector{Date}() # results in Array{Date,1}\n",
    "y_axis_original   = Vector{Float64}()\n",
    "y_axis_predicted  = Vector{Float64}()\n",
    "\n",
    "println(column_to_predict, \" \", finem, \" \", typeof(x_axis_dates))\n",
    "\n",
    "today_id  = 50 # not set yet\n",
    "\n",
    "## step thru each prediction\n",
    "for id in initio:finem\n",
    "    row = get(data_predictions, id) # get a dictionary of data from the SFrame\n",
    "    \n",
    "    date_string = row[\"Date\"] # e.g. \"2020-10-20\"\n",
    "    date = Date(date_string) # 2020-09-07 Date\n",
    "    if date == today()\n",
    "        today_id = id\n",
    "    end \n",
    "    #date = Dates.format(date, \"u.d,yy\" )\n",
    "    #println(\"date \", date, \" \", typeof(date))\n",
    "    push!(x_axis_dates, date)\n",
    "    \n",
    "    predicted = get(predictions, id) # Float64\n",
    "    predicted = round(predicted, digits=0)\n",
    "    #println(\"predicted \", predicted, \" \", typeof(predicted))\n",
    "    append!(y_axis_predicted, predicted)\n",
    "    \n",
    "    \n",
    "    original = row[ column_to_predict ]\n",
    "    original = round(original, digits=0) # Float64\n",
    "    #println(\"original \", original, \" \", typeof(original)) \n",
    "    append!(y_axis_original, original)\n",
    "end\n",
    "\n",
    "## Format Dates for plotting\n",
    "include(\"../Julia/function_format_dates.jl\")\n",
    "x_axis_dates = format_dates(x_axis_dates, \"u.d,yy\")\n",
    "println()"
   ]
  },
  {
   "cell_type": "code",
   "execution_count": 16,
   "metadata": {
    "ExecuteTime": {
     "end_time": "2020-12-06T20:13:32.256000-05:00",
     "start_time": "2020-12-07T01:13:17.410Z"
    }
   },
   "outputs": [
    {
     "name": "stdout",
     "output_type": "stream",
     "text": [
      "t Dec.6,20 String\n"
     ]
    }
   ],
   "source": [
    "t = today()# Date\n",
    "t = format_dates([t], \"u.d,yy\") # Array{String,1}\n",
    "t = t[1] # String\n",
    "println(\"t \", t, \" \", typeof(t))"
   ]
  },
  {
   "cell_type": "code",
   "execution_count": 17,
   "metadata": {
    "ExecuteTime": {
     "end_time": "2020-12-06T20:14:09.332000-05:00",
     "start_time": "2020-12-07T01:13:17.414Z"
    }
   },
   "outputs": [
    {
     "data": {
      "image/svg+xml": [
       "<?xml version=\"1.0\" encoding=\"utf-8\"?>\n",
       "<svg xmlns=\"http://www.w3.org/2000/svg\" xmlns:xlink=\"http://www.w3.org/1999/xlink\" width=\"980\" height=\"400\" viewBox=\"0 0 3920 1600\">\n",
       "<defs>\n",
       "  <clipPath id=\"clip9700\">\n",
       "    <rect x=\"0\" y=\"0\" width=\"3920\" height=\"1600\"/>\n",
       "  </clipPath>\n",
       "</defs>\n",
       "<path clip-path=\"url(#clip9700)\" d=\"\n",
       "M0 1600 L3920 1600 L3920 0 L0 0  Z\n",
       "  \" fill=\"#ffffff\" fill-rule=\"evenodd\" fill-opacity=\"1\"/>\n",
       "<defs>\n",
       "  <clipPath id=\"clip9701\">\n",
       "    <rect x=\"784\" y=\"0\" width=\"2745\" height=\"1600\"/>\n",
       "  </clipPath>\n",
       "</defs>\n",
       "<path clip-path=\"url(#clip9700)\" d=\"\n",
       "M281.07 1423.18 L3872.76 1423.18 L3872.76 47.2441 L281.07 47.2441  Z\n",
       "  \" fill=\"#ffffff\" fill-rule=\"evenodd\" fill-opacity=\"1\"/>\n",
       "<defs>\n",
       "  <clipPath id=\"clip9702\">\n",
       "    <rect x=\"281\" y=\"47\" width=\"3593\" height=\"1377\"/>\n",
       "  </clipPath>\n",
       "</defs>\n",
       "<polyline clip-path=\"url(#clip9702)\" style=\"stroke:#000000; stroke-width:2; stroke-opacity:0.1; fill:none\" points=\"\n",
       "  382.721,1423.18 382.721,47.2441 \n",
       "  \"/>\n",
       "<polyline clip-path=\"url(#clip9702)\" style=\"stroke:#000000; stroke-width:2; stroke-opacity:0.1; fill:none\" points=\"\n",
       "  635.048,1423.18 635.048,47.2441 \n",
       "  \"/>\n",
       "<polyline clip-path=\"url(#clip9702)\" style=\"stroke:#000000; stroke-width:2; stroke-opacity:0.1; fill:none\" points=\"\n",
       "  851.327,1423.18 851.327,47.2441 \n",
       "  \"/>\n",
       "<polyline clip-path=\"url(#clip9702)\" style=\"stroke:#000000; stroke-width:2; stroke-opacity:0.1; fill:none\" points=\"\n",
       "  1103.65,1423.18 1103.65,47.2441 \n",
       "  \"/>\n",
       "<polyline clip-path=\"url(#clip9702)\" style=\"stroke:#000000; stroke-width:2; stroke-opacity:0.1; fill:none\" points=\"\n",
       "  1355.98,1423.18 1355.98,47.2441 \n",
       "  \"/>\n",
       "<polyline clip-path=\"url(#clip9702)\" style=\"stroke:#000000; stroke-width:2; stroke-opacity:0.1; fill:none\" points=\"\n",
       "  1608.31,1423.18 1608.31,47.2441 \n",
       "  \"/>\n",
       "<polyline clip-path=\"url(#clip9702)\" style=\"stroke:#000000; stroke-width:2; stroke-opacity:0.1; fill:none\" points=\"\n",
       "  1824.59,1423.18 1824.59,47.2441 \n",
       "  \"/>\n",
       "<polyline clip-path=\"url(#clip9702)\" style=\"stroke:#000000; stroke-width:2; stroke-opacity:0.1; fill:none\" points=\"\n",
       "  2076.91,1423.18 2076.91,47.2441 \n",
       "  \"/>\n",
       "<polyline clip-path=\"url(#clip9702)\" style=\"stroke:#000000; stroke-width:2; stroke-opacity:0.1; fill:none\" points=\"\n",
       "  2329.24,1423.18 2329.24,47.2441 \n",
       "  \"/>\n",
       "<polyline clip-path=\"url(#clip9702)\" style=\"stroke:#000000; stroke-width:2; stroke-opacity:0.1; fill:none\" points=\"\n",
       "  2545.52,1423.18 2545.52,47.2441 \n",
       "  \"/>\n",
       "<polyline clip-path=\"url(#clip9702)\" style=\"stroke:#000000; stroke-width:2; stroke-opacity:0.1; fill:none\" points=\"\n",
       "  2797.85,1423.18 2797.85,47.2441 \n",
       "  \"/>\n",
       "<polyline clip-path=\"url(#clip9702)\" style=\"stroke:#000000; stroke-width:2; stroke-opacity:0.1; fill:none\" points=\"\n",
       "  3050.17,1423.18 3050.17,47.2441 \n",
       "  \"/>\n",
       "<polyline clip-path=\"url(#clip9702)\" style=\"stroke:#000000; stroke-width:2; stroke-opacity:0.1; fill:none\" points=\"\n",
       "  3302.5,1423.18 3302.5,47.2441 \n",
       "  \"/>\n",
       "<polyline clip-path=\"url(#clip9702)\" style=\"stroke:#000000; stroke-width:2; stroke-opacity:0.1; fill:none\" points=\"\n",
       "  3518.78,1423.18 3518.78,47.2441 \n",
       "  \"/>\n",
       "<polyline clip-path=\"url(#clip9702)\" style=\"stroke:#000000; stroke-width:2; stroke-opacity:0.1; fill:none\" points=\"\n",
       "  3771.1,1423.18 3771.1,47.2441 \n",
       "  \"/>\n",
       "<polyline clip-path=\"url(#clip9702)\" style=\"stroke:#000000; stroke-width:2; stroke-opacity:0.1; fill:none\" points=\"\n",
       "  281.07,1275.89 3872.76,1275.89 \n",
       "  \"/>\n",
       "<polyline clip-path=\"url(#clip9702)\" style=\"stroke:#000000; stroke-width:2; stroke-opacity:0.1; fill:none\" points=\"\n",
       "  281.07,975.764 3872.76,975.764 \n",
       "  \"/>\n",
       "<polyline clip-path=\"url(#clip9702)\" style=\"stroke:#000000; stroke-width:2; stroke-opacity:0.1; fill:none\" points=\"\n",
       "  281.07,675.637 3872.76,675.637 \n",
       "  \"/>\n",
       "<polyline clip-path=\"url(#clip9702)\" style=\"stroke:#000000; stroke-width:2; stroke-opacity:0.1; fill:none\" points=\"\n",
       "  281.07,375.509 3872.76,375.509 \n",
       "  \"/>\n",
       "<polyline clip-path=\"url(#clip9702)\" style=\"stroke:#000000; stroke-width:2; stroke-opacity:0.1; fill:none\" points=\"\n",
       "  281.07,75.3811 3872.76,75.3811 \n",
       "  \"/>\n",
       "<polyline clip-path=\"url(#clip9700)\" style=\"stroke:#000000; stroke-width:4; stroke-opacity:1; fill:none\" points=\"\n",
       "  281.07,1423.18 3872.76,1423.18 \n",
       "  \"/>\n",
       "<polyline clip-path=\"url(#clip9700)\" style=\"stroke:#000000; stroke-width:4; stroke-opacity:1; fill:none\" points=\"\n",
       "  281.07,1423.18 281.07,47.2441 \n",
       "  \"/>\n",
       "<polyline clip-path=\"url(#clip9700)\" style=\"stroke:#000000; stroke-width:4; stroke-opacity:1; fill:none\" points=\"\n",
       "  382.721,1423.18 382.721,1406.67 \n",
       "  \"/>\n",
       "<polyline clip-path=\"url(#clip9700)\" style=\"stroke:#000000; stroke-width:4; stroke-opacity:1; fill:none\" points=\"\n",
       "  635.048,1423.18 635.048,1406.67 \n",
       "  \"/>\n",
       "<polyline clip-path=\"url(#clip9700)\" style=\"stroke:#000000; stroke-width:4; stroke-opacity:1; fill:none\" points=\"\n",
       "  851.327,1423.18 851.327,1406.67 \n",
       "  \"/>\n",
       "<polyline clip-path=\"url(#clip9700)\" style=\"stroke:#000000; stroke-width:4; stroke-opacity:1; fill:none\" points=\"\n",
       "  1103.65,1423.18 1103.65,1406.67 \n",
       "  \"/>\n",
       "<polyline clip-path=\"url(#clip9700)\" style=\"stroke:#000000; stroke-width:4; stroke-opacity:1; fill:none\" points=\"\n",
       "  1355.98,1423.18 1355.98,1406.67 \n",
       "  \"/>\n",
       "<polyline clip-path=\"url(#clip9700)\" style=\"stroke:#000000; stroke-width:4; stroke-opacity:1; fill:none\" points=\"\n",
       "  1608.31,1423.18 1608.31,1406.67 \n",
       "  \"/>\n",
       "<polyline clip-path=\"url(#clip9700)\" style=\"stroke:#000000; stroke-width:4; stroke-opacity:1; fill:none\" points=\"\n",
       "  1824.59,1423.18 1824.59,1406.67 \n",
       "  \"/>\n",
       "<polyline clip-path=\"url(#clip9700)\" style=\"stroke:#000000; stroke-width:4; stroke-opacity:1; fill:none\" points=\"\n",
       "  2076.91,1423.18 2076.91,1406.67 \n",
       "  \"/>\n",
       "<polyline clip-path=\"url(#clip9700)\" style=\"stroke:#000000; stroke-width:4; stroke-opacity:1; fill:none\" points=\"\n",
       "  2329.24,1423.18 2329.24,1406.67 \n",
       "  \"/>\n",
       "<polyline clip-path=\"url(#clip9700)\" style=\"stroke:#000000; stroke-width:4; stroke-opacity:1; fill:none\" points=\"\n",
       "  2545.52,1423.18 2545.52,1406.67 \n",
       "  \"/>\n",
       "<polyline clip-path=\"url(#clip9700)\" style=\"stroke:#000000; stroke-width:4; stroke-opacity:1; fill:none\" points=\"\n",
       "  2797.85,1423.18 2797.85,1406.67 \n",
       "  \"/>\n",
       "<polyline clip-path=\"url(#clip9700)\" style=\"stroke:#000000; stroke-width:4; stroke-opacity:1; fill:none\" points=\"\n",
       "  3050.17,1423.18 3050.17,1406.67 \n",
       "  \"/>\n",
       "<polyline clip-path=\"url(#clip9700)\" style=\"stroke:#000000; stroke-width:4; stroke-opacity:1; fill:none\" points=\"\n",
       "  3302.5,1423.18 3302.5,1406.67 \n",
       "  \"/>\n",
       "<polyline clip-path=\"url(#clip9700)\" style=\"stroke:#000000; stroke-width:4; stroke-opacity:1; fill:none\" points=\"\n",
       "  3518.78,1423.18 3518.78,1406.67 \n",
       "  \"/>\n",
       "<polyline clip-path=\"url(#clip9700)\" style=\"stroke:#000000; stroke-width:4; stroke-opacity:1; fill:none\" points=\"\n",
       "  3771.1,1423.18 3771.1,1406.67 \n",
       "  \"/>\n",
       "<polyline clip-path=\"url(#clip9700)\" style=\"stroke:#000000; stroke-width:4; stroke-opacity:1; fill:none\" points=\"\n",
       "  281.07,1275.89 324.17,1275.89 \n",
       "  \"/>\n",
       "<polyline clip-path=\"url(#clip9700)\" style=\"stroke:#000000; stroke-width:4; stroke-opacity:1; fill:none\" points=\"\n",
       "  281.07,975.764 324.17,975.764 \n",
       "  \"/>\n",
       "<polyline clip-path=\"url(#clip9700)\" style=\"stroke:#000000; stroke-width:4; stroke-opacity:1; fill:none\" points=\"\n",
       "  281.07,675.637 324.17,675.637 \n",
       "  \"/>\n",
       "<polyline clip-path=\"url(#clip9700)\" style=\"stroke:#000000; stroke-width:4; stroke-opacity:1; fill:none\" points=\"\n",
       "  281.07,375.509 324.17,375.509 \n",
       "  \"/>\n",
       "<polyline clip-path=\"url(#clip9700)\" style=\"stroke:#000000; stroke-width:4; stroke-opacity:1; fill:none\" points=\"\n",
       "  281.07,75.3811 324.17,75.3811 \n",
       "  \"/>\n",
       "<path clip-path=\"url(#clip9700)\" d=\"M 0 0 M315.858 1450.83 L315.858 1455.39 Q313.196 1454.11 310.835 1453.49 Q308.474 1452.86 306.275 1452.86 Q302.455 1452.86 300.372 1454.34 Q298.312 1455.83 298.312 1458.56 Q298.312 1460.85 299.678 1462.03 Q301.066 1463.19 304.909 1463.9 L307.733 1464.48 Q312.965 1465.48 315.441 1468 Q317.941 1470.5 317.941 1474.71 Q317.941 1479.74 314.562 1482.33 Q311.205 1484.92 304.701 1484.92 Q302.247 1484.92 299.469 1484.37 Q296.715 1483.81 293.752 1482.72 L293.752 1477.91 Q296.599 1479.51 299.33 1480.32 Q302.062 1481.13 304.701 1481.13 Q308.705 1481.13 310.881 1479.55 Q313.057 1477.98 313.057 1475.06 Q313.057 1472.52 311.483 1471.08 Q309.932 1469.65 306.367 1468.93 L303.52 1468.37 Q298.289 1467.33 295.951 1465.11 Q293.613 1462.89 293.613 1458.93 Q293.613 1454.34 296.83 1451.71 Q300.071 1449.07 305.742 1449.07 Q308.173 1449.07 310.696 1449.51 Q313.219 1449.95 315.858 1450.83 Z\" fill=\"#000000\" fill-rule=\"evenodd\" fill-opacity=\"1\" /><path clip-path=\"url(#clip9700)\" d=\"M 0 0 M344.585 1470.22 L344.585 1472.31 L325.002 1472.31 Q325.279 1476.71 327.64 1479.02 Q330.025 1481.31 334.261 1481.31 Q336.714 1481.31 339.006 1480.71 Q341.321 1480.11 343.589 1478.9 L343.589 1482.93 Q341.298 1483.9 338.89 1484.41 Q336.483 1484.92 334.006 1484.92 Q327.802 1484.92 324.168 1481.31 Q320.557 1477.7 320.557 1471.54 Q320.557 1465.18 323.983 1461.45 Q327.432 1457.7 333.265 1457.7 Q338.497 1457.7 341.529 1461.08 Q344.585 1464.44 344.585 1470.22 M340.326 1468.97 Q340.279 1465.48 338.358 1463.4 Q336.46 1461.31 333.312 1461.31 Q329.747 1461.31 327.594 1463.33 Q325.465 1465.34 325.14 1469 L340.326 1468.97 Z\" fill=\"#000000\" fill-rule=\"evenodd\" fill-opacity=\"1\" /><path clip-path=\"url(#clip9700)\" d=\"M 0 0 M353.173 1480.36 L353.173 1494.11 L348.89 1494.11 L348.89 1458.33 L353.173 1458.33 L353.173 1462.26 Q354.515 1459.95 356.552 1458.84 Q358.612 1457.7 361.46 1457.7 Q366.182 1457.7 369.122 1461.45 Q372.085 1465.2 372.085 1471.31 Q372.085 1477.42 369.122 1481.17 Q366.182 1484.92 361.46 1484.92 Q358.612 1484.92 356.552 1483.81 Q354.515 1482.68 353.173 1480.36 M367.663 1471.31 Q367.663 1466.61 365.719 1463.95 Q363.798 1461.27 360.418 1461.27 Q357.038 1461.27 355.094 1463.95 Q353.173 1466.61 353.173 1471.31 Q353.173 1476.01 355.094 1478.7 Q357.038 1481.36 360.418 1481.36 Q363.798 1481.36 365.719 1478.7 Q367.663 1476.01 367.663 1471.31 Z\" fill=\"#000000\" fill-rule=\"evenodd\" fill-opacity=\"1\" /><path clip-path=\"url(#clip9700)\" d=\"M 0 0 M377.154 1478.37 L382.038 1478.37 L382.038 1484.25 L377.154 1484.25 L377.154 1478.37 Z\" fill=\"#000000\" fill-rule=\"evenodd\" fill-opacity=\"1\" /><path clip-path=\"url(#clip9700)\" d=\"M 0 0 M397.108 1467.84 Q393.774 1467.84 391.853 1469.62 Q389.955 1471.4 389.955 1474.53 Q389.955 1477.65 391.853 1479.44 Q393.774 1481.22 397.108 1481.22 Q400.441 1481.22 402.362 1479.44 Q404.284 1477.63 404.284 1474.53 Q404.284 1471.4 402.362 1469.62 Q400.464 1467.84 397.108 1467.84 M392.432 1465.85 Q389.422 1465.11 387.733 1463.05 Q386.066 1460.99 386.066 1458.03 Q386.066 1453.88 389.006 1451.47 Q391.969 1449.07 397.108 1449.07 Q402.27 1449.07 405.209 1451.47 Q408.149 1453.88 408.149 1458.03 Q408.149 1460.99 406.459 1463.05 Q404.793 1465.11 401.807 1465.85 Q405.186 1466.64 407.061 1468.93 Q408.959 1471.22 408.959 1474.53 Q408.959 1479.55 405.881 1482.24 Q402.825 1484.92 397.108 1484.92 Q391.39 1484.92 388.311 1482.24 Q385.256 1479.55 385.256 1474.53 Q385.256 1471.22 387.154 1468.93 Q389.052 1466.64 392.432 1465.85 M390.719 1458.46 Q390.719 1461.15 392.385 1462.65 Q394.075 1464.16 397.108 1464.16 Q400.117 1464.16 401.807 1462.65 Q403.52 1461.15 403.52 1458.46 Q403.52 1455.78 401.807 1454.28 Q400.117 1452.77 397.108 1452.77 Q394.075 1452.77 392.385 1454.28 Q390.719 1455.78 390.719 1458.46 Z\" fill=\"#000000\" fill-rule=\"evenodd\" fill-opacity=\"1\" /><path clip-path=\"url(#clip9700)\" d=\"M 0 0 M414.515 1478.37 L419.399 1478.37 L419.399 1482.35 L415.603 1489.76 L412.617 1489.76 L414.515 1482.35 L414.515 1478.37 Z\" fill=\"#000000\" fill-rule=\"evenodd\" fill-opacity=\"1\" /><path clip-path=\"url(#clip9700)\" d=\"M 0 0 M428.496 1480.32 L444.816 1480.32 L444.816 1484.25 L422.871 1484.25 L422.871 1480.32 Q425.533 1477.56 430.117 1472.93 Q434.723 1468.28 435.904 1466.94 Q438.149 1464.41 439.029 1462.68 Q439.931 1460.92 439.931 1459.23 Q439.931 1456.47 437.987 1454.74 Q436.066 1453 432.964 1453 Q430.765 1453 428.311 1453.77 Q425.881 1454.53 423.103 1456.08 L423.103 1451.36 Q425.927 1450.22 428.381 1449.65 Q430.834 1449.07 432.871 1449.07 Q438.242 1449.07 441.436 1451.75 Q444.631 1454.44 444.631 1458.93 Q444.631 1461.06 443.82 1462.98 Q443.033 1464.88 440.927 1467.47 Q440.348 1468.14 437.246 1471.36 Q434.144 1474.55 428.496 1480.32 Z\" fill=\"#000000\" fill-rule=\"evenodd\" fill-opacity=\"1\" /><path clip-path=\"url(#clip9700)\" d=\"M 0 0 M459.885 1452.77 Q456.274 1452.77 454.445 1456.34 Q452.64 1459.88 452.64 1467.01 Q452.64 1474.11 454.445 1477.68 Q456.274 1481.22 459.885 1481.22 Q463.519 1481.22 465.325 1477.68 Q467.154 1474.11 467.154 1467.01 Q467.154 1459.88 465.325 1456.34 Q463.519 1452.77 459.885 1452.77 M459.885 1449.07 Q465.695 1449.07 468.751 1453.67 Q471.829 1458.26 471.829 1467.01 Q471.829 1475.73 468.751 1480.34 Q465.695 1484.92 459.885 1484.92 Q454.075 1484.92 450.996 1480.34 Q447.941 1475.73 447.941 1467.01 Q447.941 1458.26 450.996 1453.67 Q454.075 1449.07 459.885 1449.07 Z\" fill=\"#000000\" fill-rule=\"evenodd\" fill-opacity=\"1\" /><path clip-path=\"url(#clip9700)\" d=\"M 0 0 M555.742 1450.83 L555.742 1455.39 Q553.08 1454.11 550.719 1453.49 Q548.358 1452.86 546.159 1452.86 Q542.34 1452.86 540.256 1454.34 Q538.196 1455.83 538.196 1458.56 Q538.196 1460.85 539.562 1462.03 Q540.951 1463.19 544.793 1463.9 L547.617 1464.48 Q552.849 1465.48 555.326 1468 Q557.826 1470.5 557.826 1474.71 Q557.826 1479.74 554.446 1482.33 Q551.09 1484.92 544.585 1484.92 Q542.131 1484.92 539.354 1484.37 Q536.599 1483.81 533.636 1482.72 L533.636 1477.91 Q536.483 1479.51 539.215 1480.32 Q541.946 1481.13 544.585 1481.13 Q548.59 1481.13 550.766 1479.55 Q552.942 1477.98 552.942 1475.06 Q552.942 1472.52 551.367 1471.08 Q549.817 1469.65 546.252 1468.93 L543.405 1468.37 Q538.173 1467.33 535.835 1465.11 Q533.497 1462.89 533.497 1458.93 Q533.497 1454.34 536.715 1451.71 Q539.955 1449.07 545.627 1449.07 Q548.057 1449.07 550.58 1449.51 Q553.104 1449.95 555.742 1450.83 Z\" fill=\"#000000\" fill-rule=\"evenodd\" fill-opacity=\"1\" /><path clip-path=\"url(#clip9700)\" d=\"M 0 0 M584.469 1470.22 L584.469 1472.31 L564.886 1472.31 Q565.164 1476.71 567.525 1479.02 Q569.909 1481.31 574.145 1481.31 Q576.599 1481.31 578.89 1480.71 Q581.205 1480.11 583.474 1478.9 L583.474 1482.93 Q581.182 1483.9 578.775 1484.41 Q576.367 1484.92 573.89 1484.92 Q567.687 1484.92 564.053 1481.31 Q560.441 1477.7 560.441 1471.54 Q560.441 1465.18 563.867 1461.45 Q567.316 1457.7 573.15 1457.7 Q578.381 1457.7 581.414 1461.08 Q584.469 1464.44 584.469 1470.22 M580.21 1468.97 Q580.164 1465.48 578.242 1463.4 Q576.344 1461.31 573.196 1461.31 Q569.631 1461.31 567.478 1463.33 Q565.349 1465.34 565.025 1469 L580.21 1468.97 Z\" fill=\"#000000\" fill-rule=\"evenodd\" fill-opacity=\"1\" /><path clip-path=\"url(#clip9700)\" d=\"M 0 0 M593.057 1480.36 L593.057 1494.11 L588.775 1494.11 L588.775 1458.33 L593.057 1458.33 L593.057 1462.26 Q594.4 1459.95 596.437 1458.84 Q598.497 1457.7 601.344 1457.7 Q606.066 1457.7 609.006 1461.45 Q611.969 1465.2 611.969 1471.31 Q611.969 1477.42 609.006 1481.17 Q606.066 1484.92 601.344 1484.92 Q598.497 1484.92 596.437 1483.81 Q594.4 1482.68 593.057 1480.36 M607.548 1471.31 Q607.548 1466.61 605.603 1463.95 Q603.682 1461.27 600.302 1461.27 Q596.923 1461.27 594.978 1463.95 Q593.057 1466.61 593.057 1471.31 Q593.057 1476.01 594.978 1478.7 Q596.923 1481.36 600.302 1481.36 Q603.682 1481.36 605.603 1478.7 Q607.548 1476.01 607.548 1471.31 Z\" fill=\"#000000\" fill-rule=\"evenodd\" fill-opacity=\"1\" /><path clip-path=\"url(#clip9700)\" d=\"M 0 0 M617.038 1478.37 L621.923 1478.37 L621.923 1484.25 L617.038 1484.25 L617.038 1478.37 Z\" fill=\"#000000\" fill-rule=\"evenodd\" fill-opacity=\"1\" /><path clip-path=\"url(#clip9700)\" d=\"M 0 0 M627.802 1480.32 L635.441 1480.32 L635.441 1453.95 L627.131 1455.62 L627.131 1451.36 L635.395 1449.69 L640.071 1449.69 L640.071 1480.32 L647.71 1480.32 L647.71 1484.25 L627.802 1484.25 L627.802 1480.32 Z\" fill=\"#000000\" fill-rule=\"evenodd\" fill-opacity=\"1\" /><path clip-path=\"url(#clip9700)\" d=\"M 0 0 M652.825 1449.69 L671.182 1449.69 L671.182 1453.63 L657.108 1453.63 L657.108 1462.1 Q658.126 1461.75 659.145 1461.59 Q660.163 1461.4 661.182 1461.4 Q666.969 1461.4 670.348 1464.58 Q673.728 1467.75 673.728 1473.16 Q673.728 1478.74 670.256 1481.84 Q666.783 1484.92 660.464 1484.92 Q658.288 1484.92 656.02 1484.55 Q653.774 1484.18 651.367 1483.44 L651.367 1478.74 Q653.45 1479.88 655.672 1480.43 Q657.895 1480.99 660.371 1480.99 Q664.376 1480.99 666.714 1478.88 Q669.052 1476.78 669.052 1473.16 Q669.052 1469.55 666.714 1467.45 Q664.376 1465.34 660.371 1465.34 Q658.497 1465.34 656.622 1465.76 Q654.77 1466.17 652.825 1467.05 L652.825 1449.69 Z\" fill=\"#000000\" fill-rule=\"evenodd\" fill-opacity=\"1\" /><path clip-path=\"url(#clip9700)\" d=\"M 0 0 M679.283 1478.37 L684.168 1478.37 L684.168 1482.35 L680.371 1489.76 L677.385 1489.76 L679.283 1482.35 L679.283 1478.37 Z\" fill=\"#000000\" fill-rule=\"evenodd\" fill-opacity=\"1\" /><path clip-path=\"url(#clip9700)\" d=\"M 0 0 M693.265 1480.32 L709.584 1480.32 L709.584 1484.25 L687.64 1484.25 L687.64 1480.32 Q690.302 1477.56 694.885 1472.93 Q699.492 1468.28 700.672 1466.94 Q702.918 1464.41 703.797 1462.68 Q704.7 1460.92 704.7 1459.23 Q704.7 1456.47 702.756 1454.74 Q700.834 1453 697.732 1453 Q695.533 1453 693.08 1453.77 Q690.649 1454.53 687.871 1456.08 L687.871 1451.36 Q690.695 1450.22 693.149 1449.65 Q695.603 1449.07 697.64 1449.07 Q703.01 1449.07 706.205 1451.75 Q709.399 1454.44 709.399 1458.93 Q709.399 1461.06 708.589 1462.98 Q707.802 1464.88 705.695 1467.47 Q705.117 1468.14 702.015 1471.36 Q698.913 1474.55 693.265 1480.32 Z\" fill=\"#000000\" fill-rule=\"evenodd\" fill-opacity=\"1\" /><path clip-path=\"url(#clip9700)\" d=\"M 0 0 M724.654 1452.77 Q721.042 1452.77 719.214 1456.34 Q717.408 1459.88 717.408 1467.01 Q717.408 1474.11 719.214 1477.68 Q721.042 1481.22 724.654 1481.22 Q728.288 1481.22 730.093 1477.68 Q731.922 1474.11 731.922 1467.01 Q731.922 1459.88 730.093 1456.34 Q728.288 1452.77 724.654 1452.77 M724.654 1449.07 Q730.464 1449.07 733.519 1453.67 Q736.598 1458.26 736.598 1467.01 Q736.598 1475.73 733.519 1480.34 Q730.464 1484.92 724.654 1484.92 Q718.843 1484.92 715.765 1480.34 Q712.709 1475.73 712.709 1467.01 Q712.709 1458.26 715.765 1453.67 Q718.843 1449.07 724.654 1449.07 Z\" fill=\"#000000\" fill-rule=\"evenodd\" fill-opacity=\"1\" /><path clip-path=\"url(#clip9700)\" d=\"M 0 0 M772.323 1450.83 L772.323 1455.39 Q769.661 1454.11 767.3 1453.49 Q764.939 1452.86 762.74 1452.86 Q758.92 1452.86 756.837 1454.34 Q754.777 1455.83 754.777 1458.56 Q754.777 1460.85 756.143 1462.03 Q757.532 1463.19 761.374 1463.9 L764.198 1464.48 Q769.43 1465.48 771.906 1468 Q774.406 1470.5 774.406 1474.71 Q774.406 1479.74 771.027 1482.33 Q767.67 1484.92 761.166 1484.92 Q758.712 1484.92 755.934 1484.37 Q753.18 1483.81 750.217 1482.72 L750.217 1477.91 Q753.064 1479.51 755.795 1480.32 Q758.527 1481.13 761.166 1481.13 Q765.17 1481.13 767.346 1479.55 Q769.522 1477.98 769.522 1475.06 Q769.522 1472.52 767.948 1471.08 Q766.397 1469.65 762.832 1468.93 L759.985 1468.37 Q754.754 1467.33 752.416 1465.11 Q750.078 1462.89 750.078 1458.93 Q750.078 1454.34 753.295 1451.71 Q756.536 1449.07 762.207 1449.07 Q764.638 1449.07 767.161 1449.51 Q769.684 1449.95 772.323 1450.83 Z\" fill=\"#000000\" fill-rule=\"evenodd\" fill-opacity=\"1\" /><path clip-path=\"url(#clip9700)\" d=\"M 0 0 M801.05 1470.22 L801.05 1472.31 L781.467 1472.31 Q781.744 1476.71 784.105 1479.02 Q786.49 1481.31 790.726 1481.31 Q793.179 1481.31 795.471 1480.71 Q797.786 1480.11 800.054 1478.9 L800.054 1482.93 Q797.763 1483.9 795.355 1484.41 Q792.948 1484.92 790.471 1484.92 Q784.268 1484.92 780.633 1481.31 Q777.022 1477.7 777.022 1471.54 Q777.022 1465.18 780.448 1461.45 Q783.897 1457.7 789.73 1457.7 Q794.962 1457.7 797.994 1461.08 Q801.05 1464.44 801.05 1470.22 M796.791 1468.97 Q796.744 1465.48 794.823 1463.4 Q792.925 1461.31 789.777 1461.31 Q786.212 1461.31 784.059 1463.33 Q781.93 1465.34 781.605 1469 L796.791 1468.97 Z\" fill=\"#000000\" fill-rule=\"evenodd\" fill-opacity=\"1\" /><path clip-path=\"url(#clip9700)\" d=\"M 0 0 M809.638 1480.36 L809.638 1494.11 L805.355 1494.11 L805.355 1458.33 L809.638 1458.33 L809.638 1462.26 Q810.98 1459.95 813.017 1458.84 Q815.078 1457.7 817.925 1457.7 Q822.647 1457.7 825.587 1461.45 Q828.55 1465.2 828.55 1471.31 Q828.55 1477.42 825.587 1481.17 Q822.647 1484.92 817.925 1484.92 Q815.078 1484.92 813.017 1483.81 Q810.98 1482.68 809.638 1480.36 M824.128 1471.31 Q824.128 1466.61 822.184 1463.95 Q820.263 1461.27 816.883 1461.27 Q813.503 1461.27 811.559 1463.95 Q809.638 1466.61 809.638 1471.31 Q809.638 1476.01 811.559 1478.7 Q813.503 1481.36 816.883 1481.36 Q820.263 1481.36 822.184 1478.7 Q824.128 1476.01 824.128 1471.31 Z\" fill=\"#000000\" fill-rule=\"evenodd\" fill-opacity=\"1\" /><path clip-path=\"url(#clip9700)\" d=\"M 0 0 M833.619 1478.37 L838.503 1478.37 L838.503 1484.25 L833.619 1484.25 L833.619 1478.37 Z\" fill=\"#000000\" fill-rule=\"evenodd\" fill-opacity=\"1\" /><path clip-path=\"url(#clip9700)\" d=\"M 0 0 M847.601 1480.32 L863.92 1480.32 L863.92 1484.25 L841.976 1484.25 L841.976 1480.32 Q844.638 1477.56 849.221 1472.93 Q853.827 1468.28 855.008 1466.94 Q857.253 1464.41 858.133 1462.68 Q859.036 1460.92 859.036 1459.23 Q859.036 1456.47 857.091 1454.74 Q855.17 1453 852.068 1453 Q849.869 1453 847.415 1453.77 Q844.985 1454.53 842.207 1456.08 L842.207 1451.36 Q845.031 1450.22 847.485 1449.65 Q849.938 1449.07 851.975 1449.07 Q857.346 1449.07 860.54 1451.75 Q863.735 1454.44 863.735 1458.93 Q863.735 1461.06 862.924 1462.98 Q862.137 1464.88 860.031 1467.47 Q859.452 1468.14 856.35 1471.36 Q853.249 1474.55 847.601 1480.32 Z\" fill=\"#000000\" fill-rule=\"evenodd\" fill-opacity=\"1\" /><path clip-path=\"url(#clip9700)\" d=\"M 0 0 M869.799 1480.32 L877.438 1480.32 L877.438 1453.95 L869.128 1455.62 L869.128 1451.36 L877.392 1449.69 L882.068 1449.69 L882.068 1480.32 L889.707 1480.32 L889.707 1484.25 L869.799 1484.25 L869.799 1480.32 Z\" fill=\"#000000\" fill-rule=\"evenodd\" fill-opacity=\"1\" /><path clip-path=\"url(#clip9700)\" d=\"M 0 0 M895.262 1478.37 L900.147 1478.37 L900.147 1482.35 L896.35 1489.76 L893.364 1489.76 L895.262 1482.35 L895.262 1478.37 Z\" fill=\"#000000\" fill-rule=\"evenodd\" fill-opacity=\"1\" /><path clip-path=\"url(#clip9700)\" d=\"M 0 0 M909.244 1480.32 L925.563 1480.32 L925.563 1484.25 L903.619 1484.25 L903.619 1480.32 Q906.281 1477.56 910.864 1472.93 Q915.471 1468.28 916.651 1466.94 Q918.896 1464.41 919.776 1462.68 Q920.679 1460.92 920.679 1459.23 Q920.679 1456.47 918.734 1454.74 Q916.813 1453 913.711 1453 Q911.512 1453 909.059 1453.77 Q906.628 1454.53 903.85 1456.08 L903.85 1451.36 Q906.674 1450.22 909.128 1449.65 Q911.582 1449.07 913.619 1449.07 Q918.989 1449.07 922.183 1451.75 Q925.378 1454.44 925.378 1458.93 Q925.378 1461.06 924.568 1462.98 Q923.781 1464.88 921.674 1467.47 Q921.095 1468.14 917.994 1471.36 Q914.892 1474.55 909.244 1480.32 Z\" fill=\"#000000\" fill-rule=\"evenodd\" fill-opacity=\"1\" /><path clip-path=\"url(#clip9700)\" d=\"M 0 0 M940.632 1452.77 Q937.021 1452.77 935.193 1456.34 Q933.387 1459.88 933.387 1467.01 Q933.387 1474.11 935.193 1477.68 Q937.021 1481.22 940.632 1481.22 Q944.267 1481.22 946.072 1477.68 Q947.901 1474.11 947.901 1467.01 Q947.901 1459.88 946.072 1456.34 Q944.267 1452.77 940.632 1452.77 M940.632 1449.07 Q946.443 1449.07 949.498 1453.67 Q952.577 1458.26 952.577 1467.01 Q952.577 1475.73 949.498 1480.34 Q946.443 1484.92 940.632 1484.92 Q934.822 1484.92 931.744 1480.34 Q928.688 1475.73 928.688 1467.01 Q928.688 1458.26 931.744 1453.67 Q934.822 1449.07 940.632 1449.07 Z\" fill=\"#000000\" fill-rule=\"evenodd\" fill-opacity=\"1\" /><path clip-path=\"url(#clip9700)\" d=\"M 0 0 M1024.08 1450.83 L1024.08 1455.39 Q1021.42 1454.11 1019.06 1453.49 Q1016.7 1452.86 1014.5 1452.86 Q1010.68 1452.86 1008.6 1454.34 Q1006.54 1455.83 1006.54 1458.56 Q1006.54 1460.85 1007.9 1462.03 Q1009.29 1463.19 1013.13 1463.9 L1015.96 1464.48 Q1021.19 1465.48 1023.67 1468 Q1026.17 1470.5 1026.17 1474.71 Q1026.17 1479.74 1022.79 1482.33 Q1019.43 1484.92 1012.93 1484.92 Q1010.47 1484.92 1007.69 1484.37 Q1004.94 1483.81 1001.98 1482.72 L1001.98 1477.91 Q1004.82 1479.51 1007.55 1480.32 Q1010.29 1481.13 1012.93 1481.13 Q1016.93 1481.13 1019.11 1479.55 Q1021.28 1477.98 1021.28 1475.06 Q1021.28 1472.52 1019.71 1471.08 Q1018.16 1469.65 1014.59 1468.93 L1011.74 1468.37 Q1006.51 1467.33 1004.18 1465.11 Q1001.84 1462.89 1001.84 1458.93 Q1001.84 1454.34 1005.05 1451.71 Q1008.3 1449.07 1013.97 1449.07 Q1016.4 1449.07 1018.92 1449.51 Q1021.44 1449.95 1024.08 1450.83 Z\" fill=\"#000000\" fill-rule=\"evenodd\" fill-opacity=\"1\" /><path clip-path=\"url(#clip9700)\" d=\"M 0 0 M1052.81 1470.22 L1052.81 1472.31 L1033.23 1472.31 Q1033.5 1476.71 1035.86 1479.02 Q1038.25 1481.31 1042.49 1481.31 Q1044.94 1481.31 1047.23 1480.71 Q1049.55 1480.11 1051.81 1478.9 L1051.81 1482.93 Q1049.52 1483.9 1047.11 1484.41 Q1044.71 1484.92 1042.23 1484.92 Q1036.03 1484.92 1032.39 1481.31 Q1028.78 1477.7 1028.78 1471.54 Q1028.78 1465.18 1032.21 1461.45 Q1035.66 1457.7 1041.49 1457.7 Q1046.72 1457.7 1049.75 1461.08 Q1052.81 1464.44 1052.81 1470.22 M1048.55 1468.97 Q1048.5 1465.48 1046.58 1463.4 Q1044.68 1461.31 1041.54 1461.31 Q1037.97 1461.31 1035.82 1463.33 Q1033.69 1465.34 1033.36 1469 L1048.55 1468.97 Z\" fill=\"#000000\" fill-rule=\"evenodd\" fill-opacity=\"1\" /><path clip-path=\"url(#clip9700)\" d=\"M 0 0 M1061.4 1480.36 L1061.4 1494.11 L1057.11 1494.11 L1057.11 1458.33 L1061.4 1458.33 L1061.4 1462.26 Q1062.74 1459.95 1064.78 1458.84 Q1066.84 1457.7 1069.68 1457.7 Q1074.41 1457.7 1077.35 1461.45 Q1080.31 1465.2 1080.31 1471.31 Q1080.31 1477.42 1077.35 1481.17 Q1074.41 1484.92 1069.68 1484.92 Q1066.84 1484.92 1064.78 1483.81 Q1062.74 1482.68 1061.4 1480.36 M1075.89 1471.31 Q1075.89 1466.61 1073.94 1463.95 Q1072.02 1461.27 1068.64 1461.27 Q1065.26 1461.27 1063.32 1463.95 Q1061.4 1466.61 1061.4 1471.31 Q1061.4 1476.01 1063.32 1478.7 Q1065.26 1481.36 1068.64 1481.36 Q1072.02 1481.36 1073.94 1478.7 Q1075.89 1476.01 1075.89 1471.31 Z\" fill=\"#000000\" fill-rule=\"evenodd\" fill-opacity=\"1\" /><path clip-path=\"url(#clip9700)\" d=\"M 0 0 M1085.38 1478.37 L1090.26 1478.37 L1090.26 1484.25 L1085.38 1484.25 L1085.38 1478.37 Z\" fill=\"#000000\" fill-rule=\"evenodd\" fill-opacity=\"1\" /><path clip-path=\"url(#clip9700)\" d=\"M 0 0 M1099.36 1480.32 L1115.68 1480.32 L1115.68 1484.25 L1093.73 1484.25 L1093.73 1480.32 Q1096.4 1477.56 1100.98 1472.93 Q1105.59 1468.28 1106.77 1466.94 Q1109.01 1464.41 1109.89 1462.68 Q1110.79 1460.92 1110.79 1459.23 Q1110.79 1456.47 1108.85 1454.74 Q1106.93 1453 1103.83 1453 Q1101.63 1453 1099.17 1453.77 Q1096.74 1454.53 1093.97 1456.08 L1093.97 1451.36 Q1096.79 1450.22 1099.24 1449.65 Q1101.7 1449.07 1103.73 1449.07 Q1109.11 1449.07 1112.3 1451.75 Q1115.49 1454.44 1115.49 1458.93 Q1115.49 1461.06 1114.68 1462.98 Q1113.9 1464.88 1111.79 1467.47 Q1111.21 1468.14 1108.11 1471.36 Q1105.01 1474.55 1099.36 1480.32 Z\" fill=\"#000000\" fill-rule=\"evenodd\" fill-opacity=\"1\" /><path clip-path=\"url(#clip9700)\" d=\"M 0 0 M1130.75 1467.84 Q1127.42 1467.84 1125.49 1469.62 Q1123.6 1471.4 1123.6 1474.53 Q1123.6 1477.65 1125.49 1479.44 Q1127.42 1481.22 1130.75 1481.22 Q1134.08 1481.22 1136 1479.44 Q1137.92 1477.63 1137.92 1474.53 Q1137.92 1471.4 1136 1469.62 Q1134.1 1467.84 1130.75 1467.84 M1126.07 1465.85 Q1123.06 1465.11 1121.37 1463.05 Q1119.71 1460.99 1119.71 1458.03 Q1119.71 1453.88 1122.65 1451.47 Q1125.61 1449.07 1130.75 1449.07 Q1135.91 1449.07 1138.85 1451.47 Q1141.79 1453.88 1141.79 1458.03 Q1141.79 1460.99 1140.1 1463.05 Q1138.43 1465.11 1135.45 1465.85 Q1138.83 1466.64 1140.7 1468.93 Q1142.6 1471.22 1142.6 1474.53 Q1142.6 1479.55 1139.52 1482.24 Q1136.47 1484.92 1130.75 1484.92 Q1125.03 1484.92 1121.95 1482.24 Q1118.9 1479.55 1118.9 1474.53 Q1118.9 1471.22 1120.79 1468.93 Q1122.69 1466.64 1126.07 1465.85 M1124.36 1458.46 Q1124.36 1461.15 1126.03 1462.65 Q1127.72 1464.16 1130.75 1464.16 Q1133.76 1464.16 1135.45 1462.65 Q1137.16 1461.15 1137.16 1458.46 Q1137.16 1455.78 1135.45 1454.28 Q1133.76 1452.77 1130.75 1452.77 Q1127.72 1452.77 1126.03 1454.28 Q1124.36 1455.78 1124.36 1458.46 Z\" fill=\"#000000\" fill-rule=\"evenodd\" fill-opacity=\"1\" /><path clip-path=\"url(#clip9700)\" d=\"M 0 0 M1148.16 1478.37 L1153.04 1478.37 L1153.04 1482.35 L1149.24 1489.76 L1146.26 1489.76 L1148.16 1482.35 L1148.16 1478.37 Z\" fill=\"#000000\" fill-rule=\"evenodd\" fill-opacity=\"1\" /><path clip-path=\"url(#clip9700)\" d=\"M 0 0 M1162.14 1480.32 L1178.46 1480.32 L1178.46 1484.25 L1156.51 1484.25 L1156.51 1480.32 Q1159.17 1477.56 1163.76 1472.93 Q1168.36 1468.28 1169.54 1466.94 Q1171.79 1464.41 1172.67 1462.68 Q1173.57 1460.92 1173.57 1459.23 Q1173.57 1456.47 1171.63 1454.74 Q1169.71 1453 1166.6 1453 Q1164.41 1453 1161.95 1453.77 Q1159.52 1454.53 1156.74 1456.08 L1156.74 1451.36 Q1159.57 1450.22 1162.02 1449.65 Q1164.48 1449.07 1166.51 1449.07 Q1171.88 1449.07 1175.08 1451.75 Q1178.27 1454.44 1178.27 1458.93 Q1178.27 1461.06 1177.46 1462.98 Q1176.67 1464.88 1174.57 1467.47 Q1173.99 1468.14 1170.89 1471.36 Q1167.79 1474.55 1162.14 1480.32 Z\" fill=\"#000000\" fill-rule=\"evenodd\" fill-opacity=\"1\" /><path clip-path=\"url(#clip9700)\" d=\"M 0 0 M1193.53 1452.77 Q1189.91 1452.77 1188.09 1456.34 Q1186.28 1459.88 1186.28 1467.01 Q1186.28 1474.11 1188.09 1477.68 Q1189.91 1481.22 1193.53 1481.22 Q1197.16 1481.22 1198.97 1477.68 Q1200.79 1474.11 1200.79 1467.01 Q1200.79 1459.88 1198.97 1456.34 Q1197.16 1452.77 1193.53 1452.77 M1193.53 1449.07 Q1199.34 1449.07 1202.39 1453.67 Q1205.47 1458.26 1205.47 1467.01 Q1205.47 1475.73 1202.39 1480.34 Q1199.34 1484.92 1193.53 1484.92 Q1187.72 1484.92 1184.64 1480.34 Q1181.58 1475.73 1181.58 1467.01 Q1181.58 1458.26 1184.64 1453.67 Q1187.72 1449.07 1193.53 1449.07 Z\" fill=\"#000000\" fill-rule=\"evenodd\" fill-opacity=\"1\" /><path clip-path=\"url(#clip9700)\" d=\"M 0 0 M1286.29 1452.86 Q1281.2 1452.86 1278.19 1456.66 Q1275.21 1460.46 1275.21 1467.01 Q1275.21 1473.53 1278.19 1477.33 Q1281.2 1481.13 1286.29 1481.13 Q1291.39 1481.13 1294.35 1477.33 Q1297.33 1473.53 1297.33 1467.01 Q1297.33 1460.46 1294.35 1456.66 Q1291.39 1452.86 1286.29 1452.86 M1286.29 1449.07 Q1293.56 1449.07 1297.91 1453.95 Q1302.27 1458.81 1302.27 1467.01 Q1302.27 1475.18 1297.91 1480.06 Q1293.56 1484.92 1286.29 1484.92 Q1279 1484.92 1274.63 1480.06 Q1270.27 1475.2 1270.27 1467.01 Q1270.27 1458.81 1274.63 1453.95 Q1279 1449.07 1286.29 1449.07 Z\" fill=\"#000000\" fill-rule=\"evenodd\" fill-opacity=\"1\" /><path clip-path=\"url(#clip9700)\" d=\"M 0 0 M1325.39 1459.32 L1325.39 1463.3 Q1323.58 1462.31 1321.76 1461.82 Q1319.95 1461.31 1318.1 1461.31 Q1313.95 1461.31 1311.66 1463.95 Q1309.37 1466.57 1309.37 1471.31 Q1309.37 1476.06 1311.66 1478.7 Q1313.95 1481.31 1318.1 1481.31 Q1319.95 1481.31 1321.76 1480.83 Q1323.58 1480.32 1325.39 1479.32 L1325.39 1483.26 Q1323.61 1484.09 1321.69 1484.51 Q1319.79 1484.92 1317.64 1484.92 Q1311.78 1484.92 1308.33 1481.24 Q1304.88 1477.56 1304.88 1471.31 Q1304.88 1464.97 1308.35 1461.34 Q1311.85 1457.7 1317.91 1457.7 Q1319.88 1457.7 1321.76 1458.12 Q1323.63 1458.51 1325.39 1459.32 Z\" fill=\"#000000\" fill-rule=\"evenodd\" fill-opacity=\"1\" /><path clip-path=\"url(#clip9700)\" d=\"M 0 0 M1334.07 1450.96 L1334.07 1458.33 L1342.84 1458.33 L1342.84 1461.64 L1334.07 1461.64 L1334.07 1475.71 Q1334.07 1478.88 1334.93 1479.78 Q1335.81 1480.69 1338.47 1480.69 L1342.84 1480.69 L1342.84 1484.25 L1338.47 1484.25 Q1333.54 1484.25 1331.66 1482.42 Q1329.79 1480.57 1329.79 1475.71 L1329.79 1461.64 L1326.66 1461.64 L1326.66 1458.33 L1329.79 1458.33 L1329.79 1450.96 L1334.07 1450.96 Z\" fill=\"#000000\" fill-rule=\"evenodd\" fill-opacity=\"1\" /><path clip-path=\"url(#clip9700)\" d=\"M 0 0 M1347.91 1478.37 L1352.8 1478.37 L1352.8 1484.25 L1347.91 1484.25 L1347.91 1478.37 Z\" fill=\"#000000\" fill-rule=\"evenodd\" fill-opacity=\"1\" /><path clip-path=\"url(#clip9700)\" d=\"M 0 0 M1357.91 1449.69 L1376.27 1449.69 L1376.27 1453.63 L1362.2 1453.63 L1362.2 1462.1 Q1363.21 1461.75 1364.23 1461.59 Q1365.25 1461.4 1366.27 1461.4 Q1372.06 1461.4 1375.44 1464.58 Q1378.82 1467.75 1378.82 1473.16 Q1378.82 1478.74 1375.34 1481.84 Q1371.87 1484.92 1365.55 1484.92 Q1363.38 1484.92 1361.11 1484.55 Q1358.86 1484.18 1356.45 1483.44 L1356.45 1478.74 Q1358.54 1479.88 1360.76 1480.43 Q1362.98 1480.99 1365.46 1480.99 Q1369.46 1480.99 1371.8 1478.88 Q1374.14 1476.78 1374.14 1473.16 Q1374.14 1469.55 1371.8 1467.45 Q1369.46 1465.34 1365.46 1465.34 Q1363.58 1465.34 1361.71 1465.76 Q1359.86 1466.17 1357.91 1467.05 L1357.91 1449.69 Z\" fill=\"#000000\" fill-rule=\"evenodd\" fill-opacity=\"1\" /><path clip-path=\"url(#clip9700)\" d=\"M 0 0 M1384.37 1478.37 L1389.26 1478.37 L1389.26 1482.35 L1385.46 1489.76 L1382.47 1489.76 L1384.37 1482.35 L1384.37 1478.37 Z\" fill=\"#000000\" fill-rule=\"evenodd\" fill-opacity=\"1\" /><path clip-path=\"url(#clip9700)\" d=\"M 0 0 M1398.35 1480.32 L1414.67 1480.32 L1414.67 1484.25 L1392.73 1484.25 L1392.73 1480.32 Q1395.39 1477.56 1399.97 1472.93 Q1404.58 1468.28 1405.76 1466.94 Q1408.01 1464.41 1408.88 1462.68 Q1409.79 1460.92 1409.79 1459.23 Q1409.79 1456.47 1407.84 1454.74 Q1405.92 1453 1402.82 1453 Q1400.62 1453 1398.17 1453.77 Q1395.74 1454.53 1392.96 1456.08 L1392.96 1451.36 Q1395.78 1450.22 1398.24 1449.65 Q1400.69 1449.07 1402.73 1449.07 Q1408.1 1449.07 1411.29 1451.75 Q1414.49 1454.44 1414.49 1458.93 Q1414.49 1461.06 1413.68 1462.98 Q1412.89 1464.88 1410.78 1467.47 Q1410.2 1468.14 1407.1 1471.36 Q1404 1474.55 1398.35 1480.32 Z\" fill=\"#000000\" fill-rule=\"evenodd\" fill-opacity=\"1\" /><path clip-path=\"url(#clip9700)\" d=\"M 0 0 M1429.74 1452.77 Q1426.13 1452.77 1424.3 1456.34 Q1422.5 1459.88 1422.5 1467.01 Q1422.5 1474.11 1424.3 1477.68 Q1426.13 1481.22 1429.74 1481.22 Q1433.38 1481.22 1435.18 1477.68 Q1437.01 1474.11 1437.01 1467.01 Q1437.01 1459.88 1435.18 1456.34 Q1433.38 1452.77 1429.74 1452.77 M1429.74 1449.07 Q1435.55 1449.07 1438.61 1453.67 Q1441.69 1458.26 1441.69 1467.01 Q1441.69 1475.73 1438.61 1480.34 Q1435.55 1484.92 1429.74 1484.92 Q1423.93 1484.92 1420.85 1480.34 Q1417.8 1475.73 1417.8 1467.01 Q1417.8 1458.26 1420.85 1453.67 Q1423.93 1449.07 1429.74 1449.07 Z\" fill=\"#000000\" fill-rule=\"evenodd\" fill-opacity=\"1\" /><path clip-path=\"url(#clip9700)\" d=\"M 0 0 M1526.03 1452.86 Q1520.93 1452.86 1517.93 1456.66 Q1514.94 1460.46 1514.94 1467.01 Q1514.94 1473.53 1517.93 1477.33 Q1520.93 1481.13 1526.03 1481.13 Q1531.12 1481.13 1534.08 1477.33 Q1537.07 1473.53 1537.07 1467.01 Q1537.07 1460.46 1534.08 1456.66 Q1531.12 1452.86 1526.03 1452.86 M1526.03 1449.07 Q1533.3 1449.07 1537.65 1453.95 Q1542 1458.81 1542 1467.01 Q1542 1475.18 1537.65 1480.06 Q1533.3 1484.92 1526.03 1484.92 Q1518.74 1484.92 1514.36 1480.06 Q1510.01 1475.2 1510.01 1467.01 Q1510.01 1458.81 1514.36 1453.95 Q1518.74 1449.07 1526.03 1449.07 Z\" fill=\"#000000\" fill-rule=\"evenodd\" fill-opacity=\"1\" /><path clip-path=\"url(#clip9700)\" d=\"M 0 0 M1565.12 1459.32 L1565.12 1463.3 Q1563.32 1462.31 1561.49 1461.82 Q1559.68 1461.31 1557.83 1461.31 Q1553.69 1461.31 1551.4 1463.95 Q1549.11 1466.57 1549.11 1471.31 Q1549.11 1476.06 1551.4 1478.7 Q1553.69 1481.31 1557.83 1481.31 Q1559.68 1481.31 1561.49 1480.83 Q1563.32 1480.32 1565.12 1479.32 L1565.12 1483.26 Q1563.34 1484.09 1561.42 1484.51 Q1559.52 1484.92 1557.37 1484.92 Q1551.51 1484.92 1548.06 1481.24 Q1544.61 1477.56 1544.61 1471.31 Q1544.61 1464.97 1548.09 1461.34 Q1551.58 1457.7 1557.65 1457.7 Q1559.61 1457.7 1561.49 1458.12 Q1563.36 1458.51 1565.12 1459.32 Z\" fill=\"#000000\" fill-rule=\"evenodd\" fill-opacity=\"1\" /><path clip-path=\"url(#clip9700)\" d=\"M 0 0 M1573.8 1450.96 L1573.8 1458.33 L1582.58 1458.33 L1582.58 1461.64 L1573.8 1461.64 L1573.8 1475.71 Q1573.8 1478.88 1574.66 1479.78 Q1575.54 1480.69 1578.2 1480.69 L1582.58 1480.69 L1582.58 1484.25 L1578.2 1484.25 Q1573.27 1484.25 1571.4 1482.42 Q1569.52 1480.57 1569.52 1475.71 L1569.52 1461.64 L1566.4 1461.64 L1566.4 1458.33 L1569.52 1458.33 L1569.52 1450.96 L1573.8 1450.96 Z\" fill=\"#000000\" fill-rule=\"evenodd\" fill-opacity=\"1\" /><path clip-path=\"url(#clip9700)\" d=\"M 0 0 M1587.65 1478.37 L1592.53 1478.37 L1592.53 1484.25 L1587.65 1484.25 L1587.65 1478.37 Z\" fill=\"#000000\" fill-rule=\"evenodd\" fill-opacity=\"1\" /><path clip-path=\"url(#clip9700)\" d=\"M 0 0 M1598.41 1480.32 L1606.05 1480.32 L1606.05 1453.95 L1597.74 1455.62 L1597.74 1451.36 L1606 1449.69 L1610.68 1449.69 L1610.68 1480.32 L1618.32 1480.32 L1618.32 1484.25 L1598.41 1484.25 L1598.41 1480.32 Z\" fill=\"#000000\" fill-rule=\"evenodd\" fill-opacity=\"1\" /><path clip-path=\"url(#clip9700)\" d=\"M 0 0 M1627.42 1480.32 L1643.73 1480.32 L1643.73 1484.25 L1621.79 1484.25 L1621.79 1480.32 Q1624.45 1477.56 1629.04 1472.93 Q1633.64 1468.28 1634.82 1466.94 Q1637.07 1464.41 1637.95 1462.68 Q1638.85 1460.92 1638.85 1459.23 Q1638.85 1456.47 1636.91 1454.74 Q1634.98 1453 1631.88 1453 Q1629.68 1453 1627.23 1453.77 Q1624.8 1454.53 1622.02 1456.08 L1622.02 1451.36 Q1624.85 1450.22 1627.3 1449.65 Q1629.75 1449.07 1631.79 1449.07 Q1637.16 1449.07 1640.36 1451.75 Q1643.55 1454.44 1643.55 1458.93 Q1643.55 1461.06 1642.74 1462.98 Q1641.95 1464.88 1639.85 1467.47 Q1639.27 1468.14 1636.17 1471.36 Q1633.06 1474.55 1627.42 1480.32 Z\" fill=\"#000000\" fill-rule=\"evenodd\" fill-opacity=\"1\" /><path clip-path=\"url(#clip9700)\" d=\"M 0 0 M1649.29 1478.37 L1654.17 1478.37 L1654.17 1482.35 L1650.38 1489.76 L1647.39 1489.76 L1649.29 1482.35 L1649.29 1478.37 Z\" fill=\"#000000\" fill-rule=\"evenodd\" fill-opacity=\"1\" /><path clip-path=\"url(#clip9700)\" d=\"M 0 0 M1663.27 1480.32 L1679.59 1480.32 L1679.59 1484.25 L1657.65 1484.25 L1657.65 1480.32 Q1660.31 1477.56 1664.89 1472.93 Q1669.5 1468.28 1670.68 1466.94 Q1672.92 1464.41 1673.8 1462.68 Q1674.71 1460.92 1674.71 1459.23 Q1674.71 1456.47 1672.76 1454.74 Q1670.84 1453 1667.74 1453 Q1665.54 1453 1663.09 1453.77 Q1660.66 1454.53 1657.88 1456.08 L1657.88 1451.36 Q1660.7 1450.22 1663.16 1449.65 Q1665.61 1449.07 1667.65 1449.07 Q1673.02 1449.07 1676.21 1451.75 Q1679.41 1454.44 1679.41 1458.93 Q1679.41 1461.06 1678.6 1462.98 Q1677.81 1464.88 1675.7 1467.47 Q1675.12 1468.14 1672.02 1471.36 Q1668.92 1474.55 1663.27 1480.32 Z\" fill=\"#000000\" fill-rule=\"evenodd\" fill-opacity=\"1\" /><path clip-path=\"url(#clip9700)\" d=\"M 0 0 M1694.66 1452.77 Q1691.05 1452.77 1689.22 1456.34 Q1687.41 1459.88 1687.41 1467.01 Q1687.41 1474.11 1689.22 1477.68 Q1691.05 1481.22 1694.66 1481.22 Q1698.29 1481.22 1700.1 1477.68 Q1701.93 1474.11 1701.93 1467.01 Q1701.93 1459.88 1700.1 1456.34 Q1698.29 1452.77 1694.66 1452.77 M1694.66 1449.07 Q1700.47 1449.07 1703.53 1453.67 Q1706.6 1458.26 1706.6 1467.01 Q1706.6 1475.73 1703.53 1480.34 Q1700.47 1484.92 1694.66 1484.92 Q1688.85 1484.92 1685.77 1480.34 Q1682.72 1475.73 1682.72 1467.01 Q1682.72 1458.26 1685.77 1453.67 Q1688.85 1449.07 1694.66 1449.07 Z\" fill=\"#000000\" fill-rule=\"evenodd\" fill-opacity=\"1\" /><path clip-path=\"url(#clip9700)\" d=\"M 0 0 M1741.55 1452.86 Q1736.46 1452.86 1733.45 1456.66 Q1730.47 1460.46 1730.47 1467.01 Q1730.47 1473.53 1733.45 1477.33 Q1736.46 1481.13 1741.55 1481.13 Q1746.65 1481.13 1749.61 1477.33 Q1752.6 1473.53 1752.6 1467.01 Q1752.6 1460.46 1749.61 1456.66 Q1746.65 1452.86 1741.55 1452.86 M1741.55 1449.07 Q1748.82 1449.07 1753.17 1453.95 Q1757.53 1458.81 1757.53 1467.01 Q1757.53 1475.18 1753.17 1480.06 Q1748.82 1484.92 1741.55 1484.92 Q1734.26 1484.92 1729.89 1480.06 Q1725.54 1475.2 1725.54 1467.01 Q1725.54 1458.81 1729.89 1453.95 Q1734.26 1449.07 1741.55 1449.07 Z\" fill=\"#000000\" fill-rule=\"evenodd\" fill-opacity=\"1\" /><path clip-path=\"url(#clip9700)\" d=\"M 0 0 M1780.65 1459.32 L1780.65 1463.3 Q1778.85 1462.31 1777.02 1461.82 Q1775.21 1461.31 1773.36 1461.31 Q1769.22 1461.31 1766.92 1463.95 Q1764.63 1466.57 1764.63 1471.31 Q1764.63 1476.06 1766.92 1478.7 Q1769.22 1481.31 1773.36 1481.31 Q1775.21 1481.31 1777.02 1480.83 Q1778.85 1480.32 1780.65 1479.32 L1780.65 1483.26 Q1778.87 1484.09 1776.95 1484.51 Q1775.05 1484.92 1772.9 1484.92 Q1767.04 1484.92 1763.59 1481.24 Q1760.14 1477.56 1760.14 1471.31 Q1760.14 1464.97 1763.61 1461.34 Q1767.11 1457.7 1773.17 1457.7 Q1775.14 1457.7 1777.02 1458.12 Q1778.89 1458.51 1780.65 1459.32 Z\" fill=\"#000000\" fill-rule=\"evenodd\" fill-opacity=\"1\" /><path clip-path=\"url(#clip9700)\" d=\"M 0 0 M1789.33 1450.96 L1789.33 1458.33 L1798.11 1458.33 L1798.11 1461.64 L1789.33 1461.64 L1789.33 1475.71 Q1789.33 1478.88 1790.19 1479.78 Q1791.07 1480.69 1793.73 1480.69 L1798.11 1480.69 L1798.11 1484.25 L1793.73 1484.25 Q1788.8 1484.25 1786.92 1482.42 Q1785.05 1480.57 1785.05 1475.71 L1785.05 1461.64 L1781.92 1461.64 L1781.92 1458.33 L1785.05 1458.33 L1785.05 1450.96 L1789.33 1450.96 Z\" fill=\"#000000\" fill-rule=\"evenodd\" fill-opacity=\"1\" /><path clip-path=\"url(#clip9700)\" d=\"M 0 0 M1803.17 1478.37 L1808.06 1478.37 L1808.06 1484.25 L1803.17 1484.25 L1803.17 1478.37 Z\" fill=\"#000000\" fill-rule=\"evenodd\" fill-opacity=\"1\" /><path clip-path=\"url(#clip9700)\" d=\"M 0 0 M1813.94 1480.32 L1821.58 1480.32 L1821.58 1453.95 L1813.27 1455.62 L1813.27 1451.36 L1821.53 1449.69 L1826.21 1449.69 L1826.21 1480.32 L1833.85 1480.32 L1833.85 1484.25 L1813.94 1484.25 L1813.94 1480.32 Z\" fill=\"#000000\" fill-rule=\"evenodd\" fill-opacity=\"1\" /><path clip-path=\"url(#clip9700)\" d=\"M 0 0 M1848.91 1467.84 Q1845.58 1467.84 1843.66 1469.62 Q1841.76 1471.4 1841.76 1474.53 Q1841.76 1477.65 1843.66 1479.44 Q1845.58 1481.22 1848.91 1481.22 Q1852.25 1481.22 1854.17 1479.44 Q1856.09 1477.63 1856.09 1474.53 Q1856.09 1471.4 1854.17 1469.62 Q1852.27 1467.84 1848.91 1467.84 M1844.24 1465.85 Q1841.23 1465.11 1839.54 1463.05 Q1837.87 1460.99 1837.87 1458.03 Q1837.87 1453.88 1840.81 1451.47 Q1843.78 1449.07 1848.91 1449.07 Q1854.08 1449.07 1857.02 1451.47 Q1859.96 1453.88 1859.96 1458.03 Q1859.96 1460.99 1858.27 1463.05 Q1856.6 1465.11 1853.61 1465.85 Q1856.99 1466.64 1858.87 1468.93 Q1860.77 1471.22 1860.77 1474.53 Q1860.77 1479.55 1857.69 1482.24 Q1854.63 1484.92 1848.91 1484.92 Q1843.2 1484.92 1840.12 1482.24 Q1837.06 1479.55 1837.06 1474.53 Q1837.06 1471.22 1838.96 1468.93 Q1840.86 1466.64 1844.24 1465.85 M1842.53 1458.46 Q1842.53 1461.15 1844.19 1462.65 Q1845.88 1464.16 1848.91 1464.16 Q1851.92 1464.16 1853.61 1462.65 Q1855.33 1461.15 1855.33 1458.46 Q1855.33 1455.78 1853.61 1454.28 Q1851.92 1452.77 1848.91 1452.77 Q1845.88 1452.77 1844.19 1454.28 Q1842.53 1455.78 1842.53 1458.46 Z\" fill=\"#000000\" fill-rule=\"evenodd\" fill-opacity=\"1\" /><path clip-path=\"url(#clip9700)\" d=\"M 0 0 M1866.32 1478.37 L1871.21 1478.37 L1871.21 1482.35 L1867.41 1489.76 L1864.42 1489.76 L1866.32 1482.35 L1866.32 1478.37 Z\" fill=\"#000000\" fill-rule=\"evenodd\" fill-opacity=\"1\" /><path clip-path=\"url(#clip9700)\" d=\"M 0 0 M1880.3 1480.32 L1896.62 1480.32 L1896.62 1484.25 L1874.68 1484.25 L1874.68 1480.32 Q1877.34 1477.56 1881.92 1472.93 Q1886.53 1468.28 1887.71 1466.94 Q1889.96 1464.41 1890.84 1462.68 Q1891.74 1460.92 1891.74 1459.23 Q1891.74 1456.47 1889.79 1454.74 Q1887.87 1453 1884.77 1453 Q1882.57 1453 1880.12 1453.77 Q1877.69 1454.53 1874.91 1456.08 L1874.91 1451.36 Q1877.73 1450.22 1880.19 1449.65 Q1882.64 1449.07 1884.68 1449.07 Q1890.05 1449.07 1893.24 1451.75 Q1896.44 1454.44 1896.44 1458.93 Q1896.44 1461.06 1895.63 1462.98 Q1894.84 1464.88 1892.73 1467.47 Q1892.16 1468.14 1889.05 1471.36 Q1885.95 1474.55 1880.3 1480.32 Z\" fill=\"#000000\" fill-rule=\"evenodd\" fill-opacity=\"1\" /><path clip-path=\"url(#clip9700)\" d=\"M 0 0 M1911.69 1452.77 Q1908.08 1452.77 1906.25 1456.34 Q1904.45 1459.88 1904.45 1467.01 Q1904.45 1474.11 1906.25 1477.68 Q1908.08 1481.22 1911.69 1481.22 Q1915.33 1481.22 1917.13 1477.68 Q1918.96 1474.11 1918.96 1467.01 Q1918.96 1459.88 1917.13 1456.34 Q1915.33 1452.77 1911.69 1452.77 M1911.69 1449.07 Q1917.5 1449.07 1920.56 1453.67 Q1923.64 1458.26 1923.64 1467.01 Q1923.64 1475.73 1920.56 1480.34 Q1917.5 1484.92 1911.69 1484.92 Q1905.88 1484.92 1902.8 1480.34 Q1899.75 1475.73 1899.75 1467.01 Q1899.75 1458.26 1902.8 1453.67 Q1905.88 1449.07 1911.69 1449.07 Z\" fill=\"#000000\" fill-rule=\"evenodd\" fill-opacity=\"1\" /><path clip-path=\"url(#clip9700)\" d=\"M 0 0 M1994.52 1452.86 Q1989.42 1452.86 1986.42 1456.66 Q1983.43 1460.46 1983.43 1467.01 Q1983.43 1473.53 1986.42 1477.33 Q1989.42 1481.13 1994.52 1481.13 Q1999.61 1481.13 2002.57 1477.33 Q2005.56 1473.53 2005.56 1467.01 Q2005.56 1460.46 2002.57 1456.66 Q1999.61 1452.86 1994.52 1452.86 M1994.52 1449.07 Q2001.79 1449.07 2006.14 1453.95 Q2010.49 1458.81 2010.49 1467.01 Q2010.49 1475.18 2006.14 1480.06 Q2001.79 1484.92 1994.52 1484.92 Q1987.23 1484.92 1982.85 1480.06 Q1978.5 1475.2 1978.5 1467.01 Q1978.5 1458.81 1982.85 1453.95 Q1987.23 1449.07 1994.52 1449.07 Z\" fill=\"#000000\" fill-rule=\"evenodd\" fill-opacity=\"1\" /><path clip-path=\"url(#clip9700)\" d=\"M 0 0 M2033.61 1459.32 L2033.61 1463.3 Q2031.81 1462.31 2029.98 1461.82 Q2028.17 1461.31 2026.32 1461.31 Q2022.18 1461.31 2019.89 1463.95 Q2017.6 1466.57 2017.6 1471.31 Q2017.6 1476.06 2019.89 1478.7 Q2022.18 1481.31 2026.32 1481.31 Q2028.17 1481.31 2029.98 1480.83 Q2031.81 1480.32 2033.61 1479.32 L2033.61 1483.26 Q2031.83 1484.09 2029.91 1484.51 Q2028.01 1484.92 2025.86 1484.92 Q2020 1484.92 2016.55 1481.24 Q2013.11 1477.56 2013.11 1471.31 Q2013.11 1464.97 2016.58 1461.34 Q2020.07 1457.7 2026.14 1457.7 Q2028.11 1457.7 2029.98 1458.12 Q2031.86 1458.51 2033.61 1459.32 Z\" fill=\"#000000\" fill-rule=\"evenodd\" fill-opacity=\"1\" /><path clip-path=\"url(#clip9700)\" d=\"M 0 0 M2042.29 1450.96 L2042.29 1458.33 L2051.07 1458.33 L2051.07 1461.64 L2042.29 1461.64 L2042.29 1475.71 Q2042.29 1478.88 2043.15 1479.78 Q2044.03 1480.69 2046.69 1480.69 L2051.07 1480.69 L2051.07 1484.25 L2046.69 1484.25 Q2041.76 1484.25 2039.89 1482.42 Q2038.01 1480.57 2038.01 1475.71 L2038.01 1461.64 L2034.89 1461.64 L2034.89 1458.33 L2038.01 1458.33 L2038.01 1450.96 L2042.29 1450.96 Z\" fill=\"#000000\" fill-rule=\"evenodd\" fill-opacity=\"1\" /><path clip-path=\"url(#clip9700)\" d=\"M 0 0 M2056.14 1478.37 L2061.02 1478.37 L2061.02 1484.25 L2056.14 1484.25 L2056.14 1478.37 Z\" fill=\"#000000\" fill-rule=\"evenodd\" fill-opacity=\"1\" /><path clip-path=\"url(#clip9700)\" d=\"M 0 0 M2070.12 1480.32 L2086.44 1480.32 L2086.44 1484.25 L2064.49 1484.25 L2064.49 1480.32 Q2067.16 1477.56 2071.74 1472.93 Q2076.35 1468.28 2077.53 1466.94 Q2079.77 1464.41 2080.65 1462.68 Q2081.55 1460.92 2081.55 1459.23 Q2081.55 1456.47 2079.61 1454.74 Q2077.69 1453 2074.59 1453 Q2072.39 1453 2069.93 1453.77 Q2067.5 1454.53 2064.73 1456.08 L2064.73 1451.36 Q2067.55 1450.22 2070 1449.65 Q2072.46 1449.07 2074.49 1449.07 Q2079.86 1449.07 2083.06 1451.75 Q2086.25 1454.44 2086.25 1458.93 Q2086.25 1461.06 2085.44 1462.98 Q2084.66 1464.88 2082.55 1467.47 Q2081.97 1468.14 2078.87 1471.36 Q2075.77 1474.55 2070.12 1480.32 Z\" fill=\"#000000\" fill-rule=\"evenodd\" fill-opacity=\"1\" /><path clip-path=\"url(#clip9700)\" d=\"M 0 0 M2091.55 1449.69 L2109.91 1449.69 L2109.91 1453.63 L2095.84 1453.63 L2095.84 1462.1 Q2096.85 1461.75 2097.87 1461.59 Q2098.89 1461.4 2099.91 1461.4 Q2105.7 1461.4 2109.08 1464.58 Q2112.46 1467.75 2112.46 1473.16 Q2112.46 1478.74 2108.98 1481.84 Q2105.51 1484.92 2099.19 1484.92 Q2097.02 1484.92 2094.75 1484.55 Q2092.5 1484.18 2090.1 1483.44 L2090.1 1478.74 Q2092.18 1479.88 2094.4 1480.43 Q2096.62 1480.99 2099.1 1480.99 Q2103.1 1480.99 2105.44 1478.88 Q2107.78 1476.78 2107.78 1473.16 Q2107.78 1469.55 2105.44 1467.45 Q2103.1 1465.34 2099.1 1465.34 Q2097.23 1465.34 2095.35 1465.76 Q2093.5 1466.17 2091.55 1467.05 L2091.55 1449.69 Z\" fill=\"#000000\" fill-rule=\"evenodd\" fill-opacity=\"1\" /><path clip-path=\"url(#clip9700)\" d=\"M 0 0 M2118.01 1478.37 L2122.9 1478.37 L2122.9 1482.35 L2119.1 1489.76 L2116.11 1489.76 L2118.01 1482.35 L2118.01 1478.37 Z\" fill=\"#000000\" fill-rule=\"evenodd\" fill-opacity=\"1\" /><path clip-path=\"url(#clip9700)\" d=\"M 0 0 M2131.99 1480.32 L2148.31 1480.32 L2148.31 1484.25 L2126.37 1484.25 L2126.37 1480.32 Q2129.03 1477.56 2133.61 1472.93 Q2138.22 1468.28 2139.4 1466.94 Q2141.65 1464.41 2142.53 1462.68 Q2143.43 1460.92 2143.43 1459.23 Q2143.43 1456.47 2141.48 1454.74 Q2139.56 1453 2136.46 1453 Q2134.26 1453 2131.81 1453.77 Q2129.38 1454.53 2126.6 1456.08 L2126.6 1451.36 Q2129.42 1450.22 2131.88 1449.65 Q2134.33 1449.07 2136.37 1449.07 Q2141.74 1449.07 2144.93 1451.75 Q2148.13 1454.44 2148.13 1458.93 Q2148.13 1461.06 2147.32 1462.98 Q2146.53 1464.88 2144.42 1467.47 Q2143.85 1468.14 2140.74 1471.36 Q2137.64 1474.55 2131.99 1480.32 Z\" fill=\"#000000\" fill-rule=\"evenodd\" fill-opacity=\"1\" /><path clip-path=\"url(#clip9700)\" d=\"M 0 0 M2163.38 1452.77 Q2159.77 1452.77 2157.94 1456.34 Q2156.14 1459.88 2156.14 1467.01 Q2156.14 1474.11 2157.94 1477.68 Q2159.77 1481.22 2163.38 1481.22 Q2167.02 1481.22 2168.82 1477.68 Q2170.65 1474.11 2170.65 1467.01 Q2170.65 1459.88 2168.82 1456.34 Q2167.02 1452.77 2163.38 1452.77 M2163.38 1449.07 Q2169.19 1449.07 2172.25 1453.67 Q2175.33 1458.26 2175.33 1467.01 Q2175.33 1475.73 2172.25 1480.34 Q2169.19 1484.92 2163.38 1484.92 Q2157.57 1484.92 2154.49 1480.34 Q2151.44 1475.73 2151.44 1467.01 Q2151.44 1458.26 2154.49 1453.67 Q2157.57 1449.07 2163.38 1449.07 Z\" fill=\"#000000\" fill-rule=\"evenodd\" fill-opacity=\"1\" /><path clip-path=\"url(#clip9700)\" d=\"M 0 0 M2242.17 1449.69 L2248.46 1449.69 L2263.79 1478.6 L2263.79 1449.69 L2268.33 1449.69 L2268.33 1484.25 L2262.03 1484.25 L2246.7 1455.34 L2246.7 1484.25 L2242.17 1484.25 L2242.17 1449.69 Z\" fill=\"#000000\" fill-rule=\"evenodd\" fill-opacity=\"1\" /><path clip-path=\"url(#clip9700)\" d=\"M 0 0 M2282.84 1461.31 Q2279.41 1461.31 2277.42 1464 Q2275.43 1466.66 2275.43 1471.31 Q2275.43 1475.96 2277.4 1478.65 Q2279.39 1481.31 2282.84 1481.31 Q2286.24 1481.31 2288.23 1478.63 Q2290.22 1475.94 2290.22 1471.31 Q2290.22 1466.71 2288.23 1464.02 Q2286.24 1461.31 2282.84 1461.31 M2282.84 1457.7 Q2288.39 1457.7 2291.57 1461.31 Q2294.74 1464.92 2294.74 1471.31 Q2294.74 1477.68 2291.57 1481.31 Q2288.39 1484.92 2282.84 1484.92 Q2277.26 1484.92 2274.09 1481.31 Q2270.94 1477.68 2270.94 1471.31 Q2270.94 1464.92 2274.09 1461.31 Q2277.26 1457.7 2282.84 1457.7 Z\" fill=\"#000000\" fill-rule=\"evenodd\" fill-opacity=\"1\" /><path clip-path=\"url(#clip9700)\" d=\"M 0 0 M2296.15 1458.33 L2300.66 1458.33 L2308.76 1480.09 L2316.87 1458.33 L2321.38 1458.33 L2311.66 1484.25 L2305.87 1484.25 L2296.15 1458.33 Z\" fill=\"#000000\" fill-rule=\"evenodd\" fill-opacity=\"1\" /><path clip-path=\"url(#clip9700)\" d=\"M 0 0 M2322.77 1478.37 L2327.65 1478.37 L2327.65 1484.25 L2322.77 1484.25 L2322.77 1478.37 Z\" fill=\"#000000\" fill-rule=\"evenodd\" fill-opacity=\"1\" /><path clip-path=\"url(#clip9700)\" d=\"M 0 0 M2333.53 1480.32 L2341.17 1480.32 L2341.17 1453.95 L2332.86 1455.62 L2332.86 1451.36 L2341.13 1449.69 L2345.8 1449.69 L2345.8 1480.32 L2353.44 1480.32 L2353.44 1484.25 L2333.53 1484.25 L2333.53 1480.32 Z\" fill=\"#000000\" fill-rule=\"evenodd\" fill-opacity=\"1\" /><path clip-path=\"url(#clip9700)\" d=\"M 0 0 M2359 1478.37 L2363.88 1478.37 L2363.88 1482.35 L2360.08 1489.76 L2357.1 1489.76 L2359 1482.35 L2359 1478.37 Z\" fill=\"#000000\" fill-rule=\"evenodd\" fill-opacity=\"1\" /><path clip-path=\"url(#clip9700)\" d=\"M 0 0 M2372.98 1480.32 L2389.3 1480.32 L2389.3 1484.25 L2367.35 1484.25 L2367.35 1480.32 Q2370.01 1477.56 2374.6 1472.93 Q2379.2 1468.28 2380.38 1466.94 Q2382.63 1464.41 2383.51 1462.68 Q2384.41 1460.92 2384.41 1459.23 Q2384.41 1456.47 2382.47 1454.74 Q2380.55 1453 2377.44 1453 Q2375.25 1453 2372.79 1453.77 Q2370.36 1454.53 2367.58 1456.08 L2367.58 1451.36 Q2370.41 1450.22 2372.86 1449.65 Q2375.32 1449.07 2377.35 1449.07 Q2382.72 1449.07 2385.92 1451.75 Q2389.11 1454.44 2389.11 1458.93 Q2389.11 1461.06 2388.3 1462.98 Q2387.51 1464.88 2385.41 1467.47 Q2384.83 1468.14 2381.73 1471.36 Q2378.63 1474.55 2372.98 1480.32 Z\" fill=\"#000000\" fill-rule=\"evenodd\" fill-opacity=\"1\" /><path clip-path=\"url(#clip9700)\" d=\"M 0 0 M2404.37 1452.77 Q2400.76 1452.77 2398.93 1456.34 Q2397.12 1459.88 2397.12 1467.01 Q2397.12 1474.11 2398.93 1477.68 Q2400.76 1481.22 2404.37 1481.22 Q2408 1481.22 2409.81 1477.68 Q2411.63 1474.11 2411.63 1467.01 Q2411.63 1459.88 2409.81 1456.34 Q2408 1452.77 2404.37 1452.77 M2404.37 1449.07 Q2410.18 1449.07 2413.23 1453.67 Q2416.31 1458.26 2416.31 1467.01 Q2416.31 1475.73 2413.23 1480.34 Q2410.18 1484.92 2404.37 1484.92 Q2398.56 1484.92 2395.48 1480.34 Q2392.42 1475.73 2392.42 1467.01 Q2392.42 1458.26 2395.48 1453.67 Q2398.56 1449.07 2404.37 1449.07 Z\" fill=\"#000000\" fill-rule=\"evenodd\" fill-opacity=\"1\" /><path clip-path=\"url(#clip9700)\" d=\"M 0 0 M2458.29 1449.69 L2464.58 1449.69 L2479.91 1478.6 L2479.91 1449.69 L2484.44 1449.69 L2484.44 1484.25 L2478.15 1484.25 L2462.82 1455.34 L2462.82 1484.25 L2458.29 1484.25 L2458.29 1449.69 Z\" fill=\"#000000\" fill-rule=\"evenodd\" fill-opacity=\"1\" /><path clip-path=\"url(#clip9700)\" d=\"M 0 0 M2498.96 1461.31 Q2495.53 1461.31 2493.54 1464 Q2491.55 1466.66 2491.55 1471.31 Q2491.55 1475.96 2493.52 1478.65 Q2495.51 1481.31 2498.96 1481.31 Q2502.36 1481.31 2504.35 1478.63 Q2506.34 1475.94 2506.34 1471.31 Q2506.34 1466.71 2504.35 1464.02 Q2502.36 1461.31 2498.96 1461.31 M2498.96 1457.7 Q2504.51 1457.7 2507.68 1461.31 Q2510.85 1464.92 2510.85 1471.31 Q2510.85 1477.68 2507.68 1481.31 Q2504.51 1484.92 2498.96 1484.92 Q2493.38 1484.92 2490.21 1481.31 Q2487.06 1477.68 2487.06 1471.31 Q2487.06 1464.92 2490.21 1461.31 Q2493.38 1457.7 2498.96 1457.7 Z\" fill=\"#000000\" fill-rule=\"evenodd\" fill-opacity=\"1\" /><path clip-path=\"url(#clip9700)\" d=\"M 0 0 M2512.27 1458.33 L2516.78 1458.33 L2524.88 1480.09 L2532.98 1458.33 L2537.5 1458.33 L2527.78 1484.25 L2521.99 1484.25 L2512.27 1458.33 Z\" fill=\"#000000\" fill-rule=\"evenodd\" fill-opacity=\"1\" /><path clip-path=\"url(#clip9700)\" d=\"M 0 0 M2538.89 1478.37 L2543.77 1478.37 L2543.77 1484.25 L2538.89 1484.25 L2538.89 1478.37 Z\" fill=\"#000000\" fill-rule=\"evenodd\" fill-opacity=\"1\" /><path clip-path=\"url(#clip9700)\" d=\"M 0 0 M2547.66 1449.69 L2569.88 1449.69 L2569.88 1451.68 L2557.34 1484.25 L2552.45 1484.25 L2564.26 1453.63 L2547.66 1453.63 L2547.66 1449.69 Z\" fill=\"#000000\" fill-rule=\"evenodd\" fill-opacity=\"1\" /><path clip-path=\"url(#clip9700)\" d=\"M 0 0 M2575.44 1478.37 L2580.32 1478.37 L2580.32 1482.35 L2576.53 1489.76 L2573.54 1489.76 L2575.44 1482.35 L2575.44 1478.37 Z\" fill=\"#000000\" fill-rule=\"evenodd\" fill-opacity=\"1\" /><path clip-path=\"url(#clip9700)\" d=\"M 0 0 M2589.42 1480.32 L2605.74 1480.32 L2605.74 1484.25 L2583.79 1484.25 L2583.79 1480.32 Q2586.46 1477.56 2591.04 1472.93 Q2595.65 1468.28 2596.83 1466.94 Q2599.07 1464.41 2599.95 1462.68 Q2600.85 1460.92 2600.85 1459.23 Q2600.85 1456.47 2598.91 1454.74 Q2596.99 1453 2593.89 1453 Q2591.69 1453 2589.23 1453.77 Q2586.8 1454.53 2584.03 1456.08 L2584.03 1451.36 Q2586.85 1450.22 2589.3 1449.65 Q2591.76 1449.07 2593.79 1449.07 Q2599.16 1449.07 2602.36 1451.75 Q2605.55 1454.44 2605.55 1458.93 Q2605.55 1461.06 2604.74 1462.98 Q2603.96 1464.88 2601.85 1467.47 Q2601.27 1468.14 2598.17 1471.36 Q2595.07 1474.55 2589.42 1480.32 Z\" fill=\"#000000\" fill-rule=\"evenodd\" fill-opacity=\"1\" /><path clip-path=\"url(#clip9700)\" d=\"M 0 0 M2620.81 1452.77 Q2617.2 1452.77 2615.37 1456.34 Q2613.56 1459.88 2613.56 1467.01 Q2613.56 1474.11 2615.37 1477.68 Q2617.2 1481.22 2620.81 1481.22 Q2624.44 1481.22 2626.25 1477.68 Q2628.08 1474.11 2628.08 1467.01 Q2628.08 1459.88 2626.25 1456.34 Q2624.44 1452.77 2620.81 1452.77 M2620.81 1449.07 Q2626.62 1449.07 2629.67 1453.67 Q2632.75 1458.26 2632.75 1467.01 Q2632.75 1475.73 2629.67 1480.34 Q2626.62 1484.92 2620.81 1484.92 Q2615 1484.92 2611.92 1480.34 Q2608.86 1475.73 2608.86 1467.01 Q2608.86 1458.26 2611.92 1453.67 Q2615 1449.07 2620.81 1449.07 Z\" fill=\"#000000\" fill-rule=\"evenodd\" fill-opacity=\"1\" /><path clip-path=\"url(#clip9700)\" d=\"M 0 0 M2697.02 1449.69 L2703.32 1449.69 L2718.64 1478.6 L2718.64 1449.69 L2723.18 1449.69 L2723.18 1484.25 L2716.89 1484.25 L2701.56 1455.34 L2701.56 1484.25 L2697.02 1484.25 L2697.02 1449.69 Z\" fill=\"#000000\" fill-rule=\"evenodd\" fill-opacity=\"1\" /><path clip-path=\"url(#clip9700)\" d=\"M 0 0 M2737.7 1461.31 Q2734.27 1461.31 2732.28 1464 Q2730.29 1466.66 2730.29 1471.31 Q2730.29 1475.96 2732.26 1478.65 Q2734.25 1481.31 2737.7 1481.31 Q2741.1 1481.31 2743.09 1478.63 Q2745.08 1475.94 2745.08 1471.31 Q2745.08 1466.71 2743.09 1464.02 Q2741.1 1461.31 2737.7 1461.31 M2737.7 1457.7 Q2743.25 1457.7 2746.42 1461.31 Q2749.59 1464.92 2749.59 1471.31 Q2749.59 1477.68 2746.42 1481.31 Q2743.25 1484.92 2737.7 1484.92 Q2732.12 1484.92 2728.95 1481.31 Q2725.8 1477.68 2725.8 1471.31 Q2725.8 1464.92 2728.95 1461.31 Q2732.12 1457.7 2737.7 1457.7 Z\" fill=\"#000000\" fill-rule=\"evenodd\" fill-opacity=\"1\" /><path clip-path=\"url(#clip9700)\" d=\"M 0 0 M2751.01 1458.33 L2755.52 1458.33 L2763.62 1480.09 L2771.72 1458.33 L2776.24 1458.33 L2766.51 1484.25 L2760.73 1484.25 L2751.01 1458.33 Z\" fill=\"#000000\" fill-rule=\"evenodd\" fill-opacity=\"1\" /><path clip-path=\"url(#clip9700)\" d=\"M 0 0 M2777.63 1478.37 L2782.51 1478.37 L2782.51 1484.25 L2777.63 1484.25 L2777.63 1478.37 Z\" fill=\"#000000\" fill-rule=\"evenodd\" fill-opacity=\"1\" /><path clip-path=\"url(#clip9700)\" d=\"M 0 0 M2788.39 1480.32 L2796.03 1480.32 L2796.03 1453.95 L2787.72 1455.62 L2787.72 1451.36 L2795.98 1449.69 L2800.66 1449.69 L2800.66 1480.32 L2808.3 1480.32 L2808.3 1484.25 L2788.39 1484.25 L2788.39 1480.32 Z\" fill=\"#000000\" fill-rule=\"evenodd\" fill-opacity=\"1\" /><path clip-path=\"url(#clip9700)\" d=\"M 0 0 M2826.21 1453.77 L2814.41 1472.21 L2826.21 1472.21 L2826.21 1453.77 M2824.99 1449.69 L2830.87 1449.69 L2830.87 1472.21 L2835.8 1472.21 L2835.8 1476.1 L2830.87 1476.1 L2830.87 1484.25 L2826.21 1484.25 L2826.21 1476.1 L2810.61 1476.1 L2810.61 1471.59 L2824.99 1449.69 Z\" fill=\"#000000\" fill-rule=\"evenodd\" fill-opacity=\"1\" /><path clip-path=\"url(#clip9700)\" d=\"M 0 0 M2841.35 1478.37 L2846.24 1478.37 L2846.24 1482.35 L2842.44 1489.76 L2839.45 1489.76 L2841.35 1482.35 L2841.35 1478.37 Z\" fill=\"#000000\" fill-rule=\"evenodd\" fill-opacity=\"1\" /><path clip-path=\"url(#clip9700)\" d=\"M 0 0 M2855.33 1480.32 L2871.65 1480.32 L2871.65 1484.25 L2849.71 1484.25 L2849.71 1480.32 Q2852.37 1477.56 2856.95 1472.93 Q2861.56 1468.28 2862.74 1466.94 Q2864.99 1464.41 2865.87 1462.68 Q2866.77 1460.92 2866.77 1459.23 Q2866.77 1456.47 2864.82 1454.74 Q2862.9 1453 2859.8 1453 Q2857.6 1453 2855.15 1453.77 Q2852.72 1454.53 2849.94 1456.08 L2849.94 1451.36 Q2852.76 1450.22 2855.22 1449.65 Q2857.67 1449.07 2859.71 1449.07 Q2865.08 1449.07 2868.27 1451.75 Q2871.47 1454.44 2871.47 1458.93 Q2871.47 1461.06 2870.66 1462.98 Q2869.87 1464.88 2867.76 1467.47 Q2867.19 1468.14 2864.08 1471.36 Q2860.98 1474.55 2855.33 1480.32 Z\" fill=\"#000000\" fill-rule=\"evenodd\" fill-opacity=\"1\" /><path clip-path=\"url(#clip9700)\" d=\"M 0 0 M2886.72 1452.77 Q2883.11 1452.77 2881.28 1456.34 Q2879.48 1459.88 2879.48 1467.01 Q2879.48 1474.11 2881.28 1477.68 Q2883.11 1481.22 2886.72 1481.22 Q2890.36 1481.22 2892.16 1477.68 Q2893.99 1474.11 2893.99 1467.01 Q2893.99 1459.88 2892.16 1456.34 Q2890.36 1452.77 2886.72 1452.77 M2886.72 1449.07 Q2892.53 1449.07 2895.59 1453.67 Q2898.67 1458.26 2898.67 1467.01 Q2898.67 1475.73 2895.59 1480.34 Q2892.53 1484.92 2886.72 1484.92 Q2880.91 1484.92 2877.83 1480.34 Q2874.78 1475.73 2874.78 1467.01 Q2874.78 1458.26 2877.83 1453.67 Q2880.91 1449.07 2886.72 1449.07 Z\" fill=\"#000000\" fill-rule=\"evenodd\" fill-opacity=\"1\" /><path clip-path=\"url(#clip9700)\" d=\"M 0 0 M2950.39 1449.69 L2956.69 1449.69 L2972.01 1478.6 L2972.01 1449.69 L2976.55 1449.69 L2976.55 1484.25 L2970.25 1484.25 L2954.93 1455.34 L2954.93 1484.25 L2950.39 1484.25 L2950.39 1449.69 Z\" fill=\"#000000\" fill-rule=\"evenodd\" fill-opacity=\"1\" /><path clip-path=\"url(#clip9700)\" d=\"M 0 0 M2991.06 1461.31 Q2987.64 1461.31 2985.65 1464 Q2983.66 1466.66 2983.66 1471.31 Q2983.66 1475.96 2985.62 1478.65 Q2987.61 1481.31 2991.06 1481.31 Q2994.47 1481.31 2996.46 1478.63 Q2998.45 1475.94 2998.45 1471.31 Q2998.45 1466.71 2996.46 1464.02 Q2994.47 1461.31 2991.06 1461.31 M2991.06 1457.7 Q2996.62 1457.7 2999.79 1461.31 Q3002.96 1464.92 3002.96 1471.31 Q3002.96 1477.68 2999.79 1481.31 Q2996.62 1484.92 2991.06 1484.92 Q2985.48 1484.92 2982.31 1481.31 Q2979.17 1477.68 2979.17 1471.31 Q2979.17 1464.92 2982.31 1461.31 Q2985.48 1457.7 2991.06 1457.7 Z\" fill=\"#000000\" fill-rule=\"evenodd\" fill-opacity=\"1\" /><path clip-path=\"url(#clip9700)\" d=\"M 0 0 M3004.37 1458.33 L3008.89 1458.33 L3016.99 1480.09 L3025.09 1458.33 L3029.6 1458.33 L3019.88 1484.25 L3014.1 1484.25 L3004.37 1458.33 Z\" fill=\"#000000\" fill-rule=\"evenodd\" fill-opacity=\"1\" /><path clip-path=\"url(#clip9700)\" d=\"M 0 0 M3030.99 1478.37 L3035.88 1478.37 L3035.88 1484.25 L3030.99 1484.25 L3030.99 1478.37 Z\" fill=\"#000000\" fill-rule=\"evenodd\" fill-opacity=\"1\" /><path clip-path=\"url(#clip9700)\" d=\"M 0 0 M3044.98 1480.32 L3061.29 1480.32 L3061.29 1484.25 L3039.35 1484.25 L3039.35 1480.32 Q3042.01 1477.56 3046.6 1472.93 Q3051.2 1468.28 3052.38 1466.94 Q3054.63 1464.41 3055.51 1462.68 Q3056.41 1460.92 3056.41 1459.23 Q3056.41 1456.47 3054.47 1454.74 Q3052.54 1453 3049.44 1453 Q3047.24 1453 3044.79 1453.77 Q3042.36 1454.53 3039.58 1456.08 L3039.58 1451.36 Q3042.41 1450.22 3044.86 1449.65 Q3047.31 1449.07 3049.35 1449.07 Q3054.72 1449.07 3057.91 1451.75 Q3061.11 1454.44 3061.11 1458.93 Q3061.11 1461.06 3060.3 1462.98 Q3059.51 1464.88 3057.41 1467.47 Q3056.83 1468.14 3053.73 1471.36 Q3050.62 1474.55 3044.98 1480.32 Z\" fill=\"#000000\" fill-rule=\"evenodd\" fill-opacity=\"1\" /><path clip-path=\"url(#clip9700)\" d=\"M 0 0 M3067.17 1480.32 L3074.81 1480.32 L3074.81 1453.95 L3066.5 1455.62 L3066.5 1451.36 L3074.77 1449.69 L3079.44 1449.69 L3079.44 1480.32 L3087.08 1480.32 L3087.08 1484.25 L3067.17 1484.25 L3067.17 1480.32 Z\" fill=\"#000000\" fill-rule=\"evenodd\" fill-opacity=\"1\" /><path clip-path=\"url(#clip9700)\" d=\"M 0 0 M3092.64 1478.37 L3097.52 1478.37 L3097.52 1482.35 L3093.72 1489.76 L3090.74 1489.76 L3092.64 1482.35 L3092.64 1478.37 Z\" fill=\"#000000\" fill-rule=\"evenodd\" fill-opacity=\"1\" /><path clip-path=\"url(#clip9700)\" d=\"M 0 0 M3106.62 1480.32 L3122.94 1480.32 L3122.94 1484.25 L3100.99 1484.25 L3100.99 1480.32 Q3103.66 1477.56 3108.24 1472.93 Q3112.85 1468.28 3114.03 1466.94 Q3116.27 1464.41 3117.15 1462.68 Q3118.05 1460.92 3118.05 1459.23 Q3118.05 1456.47 3116.11 1454.74 Q3114.19 1453 3111.09 1453 Q3108.89 1453 3106.43 1453.77 Q3104 1454.53 3101.22 1456.08 L3101.22 1451.36 Q3104.05 1450.22 3106.5 1449.65 Q3108.96 1449.07 3110.99 1449.07 Q3116.36 1449.07 3119.56 1451.75 Q3122.75 1454.44 3122.75 1458.93 Q3122.75 1461.06 3121.94 1462.98 Q3121.16 1464.88 3119.05 1467.47 Q3118.47 1468.14 3115.37 1471.36 Q3112.27 1474.55 3106.62 1480.32 Z\" fill=\"#000000\" fill-rule=\"evenodd\" fill-opacity=\"1\" /><path clip-path=\"url(#clip9700)\" d=\"M 0 0 M3138.01 1452.77 Q3134.4 1452.77 3132.57 1456.34 Q3130.76 1459.88 3130.76 1467.01 Q3130.76 1474.11 3132.57 1477.68 Q3134.4 1481.22 3138.01 1481.22 Q3141.64 1481.22 3143.45 1477.68 Q3145.28 1474.11 3145.28 1467.01 Q3145.28 1459.88 3143.45 1456.34 Q3141.64 1452.77 3138.01 1452.77 M3138.01 1449.07 Q3143.82 1449.07 3146.87 1453.67 Q3149.95 1458.26 3149.95 1467.01 Q3149.95 1475.73 3146.87 1480.34 Q3143.82 1484.92 3138.01 1484.92 Q3132.2 1484.92 3129.12 1480.34 Q3126.06 1475.73 3126.06 1467.01 Q3126.06 1458.26 3129.12 1453.67 Q3132.2 1449.07 3138.01 1449.07 Z\" fill=\"#000000\" fill-rule=\"evenodd\" fill-opacity=\"1\" /><path clip-path=\"url(#clip9700)\" d=\"M 0 0 M3202.15 1449.69 L3208.45 1449.69 L3223.77 1478.6 L3223.77 1449.69 L3228.31 1449.69 L3228.31 1484.25 L3222.01 1484.25 L3206.69 1455.34 L3206.69 1484.25 L3202.15 1484.25 L3202.15 1449.69 Z\" fill=\"#000000\" fill-rule=\"evenodd\" fill-opacity=\"1\" /><path clip-path=\"url(#clip9700)\" d=\"M 0 0 M3242.82 1461.31 Q3239.4 1461.31 3237.41 1464 Q3235.42 1466.66 3235.42 1471.31 Q3235.42 1475.96 3237.38 1478.65 Q3239.37 1481.31 3242.82 1481.31 Q3246.23 1481.31 3248.22 1478.63 Q3250.21 1475.94 3250.21 1471.31 Q3250.21 1466.71 3248.22 1464.02 Q3246.23 1461.31 3242.82 1461.31 M3242.82 1457.7 Q3248.38 1457.7 3251.55 1461.31 Q3254.72 1464.92 3254.72 1471.31 Q3254.72 1477.68 3251.55 1481.31 Q3248.38 1484.92 3242.82 1484.92 Q3237.24 1484.92 3234.07 1481.31 Q3230.92 1477.68 3230.92 1471.31 Q3230.92 1464.92 3234.07 1461.31 Q3237.24 1457.7 3242.82 1457.7 Z\" fill=\"#000000\" fill-rule=\"evenodd\" fill-opacity=\"1\" /><path clip-path=\"url(#clip9700)\" d=\"M 0 0 M3256.13 1458.33 L3260.65 1458.33 L3268.75 1480.09 L3276.85 1458.33 L3281.36 1458.33 L3271.64 1484.25 L3265.85 1484.25 L3256.13 1458.33 Z\" fill=\"#000000\" fill-rule=\"evenodd\" fill-opacity=\"1\" /><path clip-path=\"url(#clip9700)\" d=\"M 0 0 M3282.75 1478.37 L3287.64 1478.37 L3287.64 1484.25 L3282.75 1484.25 L3282.75 1478.37 Z\" fill=\"#000000\" fill-rule=\"evenodd\" fill-opacity=\"1\" /><path clip-path=\"url(#clip9700)\" d=\"M 0 0 M3296.73 1480.32 L3313.05 1480.32 L3313.05 1484.25 L3291.11 1484.25 L3291.11 1480.32 Q3293.77 1477.56 3298.35 1472.93 Q3302.96 1468.28 3304.14 1466.94 Q3306.39 1464.41 3307.27 1462.68 Q3308.17 1460.92 3308.17 1459.23 Q3308.17 1456.47 3306.23 1454.74 Q3304.3 1453 3301.2 1453 Q3299 1453 3296.55 1453.77 Q3294.12 1454.53 3291.34 1456.08 L3291.34 1451.36 Q3294.16 1450.22 3296.62 1449.65 Q3299.07 1449.07 3301.11 1449.07 Q3306.48 1449.07 3309.67 1451.75 Q3312.87 1454.44 3312.87 1458.93 Q3312.87 1461.06 3312.06 1462.98 Q3311.27 1464.88 3309.16 1467.47 Q3308.59 1468.14 3305.48 1471.36 Q3302.38 1474.55 3296.73 1480.32 Z\" fill=\"#000000\" fill-rule=\"evenodd\" fill-opacity=\"1\" /><path clip-path=\"url(#clip9700)\" d=\"M 0 0 M3328.12 1467.84 Q3324.79 1467.84 3322.87 1469.62 Q3320.97 1471.4 3320.97 1474.53 Q3320.97 1477.65 3322.87 1479.44 Q3324.79 1481.22 3328.12 1481.22 Q3331.46 1481.22 3333.38 1479.44 Q3335.3 1477.63 3335.3 1474.53 Q3335.3 1471.4 3333.38 1469.62 Q3331.48 1467.84 3328.12 1467.84 M3323.45 1465.85 Q3320.44 1465.11 3318.75 1463.05 Q3317.08 1460.99 3317.08 1458.03 Q3317.08 1453.88 3320.02 1451.47 Q3322.98 1449.07 3328.12 1449.07 Q3333.29 1449.07 3336.22 1451.47 Q3339.16 1453.88 3339.16 1458.03 Q3339.16 1460.99 3337.47 1463.05 Q3335.81 1465.11 3332.82 1465.85 Q3336.2 1466.64 3338.08 1468.93 Q3339.97 1471.22 3339.97 1474.53 Q3339.97 1479.55 3336.9 1482.24 Q3333.84 1484.92 3328.12 1484.92 Q3322.41 1484.92 3319.33 1482.24 Q3316.27 1479.55 3316.27 1474.53 Q3316.27 1471.22 3318.17 1468.93 Q3320.07 1466.64 3323.45 1465.85 M3321.73 1458.46 Q3321.73 1461.15 3323.4 1462.65 Q3325.09 1464.16 3328.12 1464.16 Q3331.13 1464.16 3332.82 1462.65 Q3334.54 1461.15 3334.54 1458.46 Q3334.54 1455.78 3332.82 1454.28 Q3331.13 1452.77 3328.12 1452.77 Q3325.09 1452.77 3323.4 1454.28 Q3321.73 1455.78 3321.73 1458.46 Z\" fill=\"#000000\" fill-rule=\"evenodd\" fill-opacity=\"1\" /><path clip-path=\"url(#clip9700)\" d=\"M 0 0 M3345.53 1478.37 L3350.41 1478.37 L3350.41 1482.35 L3346.62 1489.76 L3343.63 1489.76 L3345.53 1482.35 L3345.53 1478.37 Z\" fill=\"#000000\" fill-rule=\"evenodd\" fill-opacity=\"1\" /><path clip-path=\"url(#clip9700)\" d=\"M 0 0 M3359.51 1480.32 L3375.83 1480.32 L3375.83 1484.25 L3353.89 1484.25 L3353.89 1480.32 Q3356.55 1477.56 3361.13 1472.93 Q3365.74 1468.28 3366.92 1466.94 Q3369.16 1464.41 3370.04 1462.68 Q3370.95 1460.92 3370.95 1459.23 Q3370.95 1456.47 3369 1454.74 Q3367.08 1453 3363.98 1453 Q3361.78 1453 3359.33 1453.77 Q3356.9 1454.53 3354.12 1456.08 L3354.12 1451.36 Q3356.94 1450.22 3359.4 1449.65 Q3361.85 1449.07 3363.89 1449.07 Q3369.26 1449.07 3372.45 1451.75 Q3375.65 1454.44 3375.65 1458.93 Q3375.65 1461.06 3374.84 1462.98 Q3374.05 1464.88 3371.94 1467.47 Q3371.36 1468.14 3368.26 1471.36 Q3365.16 1474.55 3359.51 1480.32 Z\" fill=\"#000000\" fill-rule=\"evenodd\" fill-opacity=\"1\" /><path clip-path=\"url(#clip9700)\" d=\"M 0 0 M3390.9 1452.77 Q3387.29 1452.77 3385.46 1456.34 Q3383.66 1459.88 3383.66 1467.01 Q3383.66 1474.11 3385.46 1477.68 Q3387.29 1481.22 3390.9 1481.22 Q3394.53 1481.22 3396.34 1477.68 Q3398.17 1474.11 3398.17 1467.01 Q3398.17 1459.88 3396.34 1456.34 Q3394.53 1452.77 3390.9 1452.77 M3390.9 1449.07 Q3396.71 1449.07 3399.77 1453.67 Q3402.84 1458.26 3402.84 1467.01 Q3402.84 1475.73 3399.77 1480.34 Q3396.71 1484.92 3390.9 1484.92 Q3385.09 1484.92 3382.01 1480.34 Q3378.96 1475.73 3378.96 1467.01 Q3378.96 1458.26 3382.01 1453.67 Q3385.09 1449.07 3390.9 1449.07 Z\" fill=\"#000000\" fill-rule=\"evenodd\" fill-opacity=\"1\" /><path clip-path=\"url(#clip9700)\" d=\"M 0 0 M3433.88 1453.53 L3433.88 1480.41 L3439.53 1480.41 Q3446.68 1480.41 3449.99 1477.17 Q3453.33 1473.93 3453.33 1466.94 Q3453.33 1459.99 3449.99 1456.78 Q3446.68 1453.53 3439.53 1453.53 L3433.88 1453.53 M3429.21 1449.69 L3438.81 1449.69 Q3448.86 1449.69 3453.56 1453.88 Q3458.26 1458.05 3458.26 1466.94 Q3458.26 1475.87 3453.54 1480.06 Q3448.81 1484.25 3438.81 1484.25 L3429.21 1484.25 L3429.21 1449.69 Z\" fill=\"#000000\" fill-rule=\"evenodd\" fill-opacity=\"1\" /><path clip-path=\"url(#clip9700)\" d=\"M 0 0 M3484.9 1470.22 L3484.9 1472.31 L3465.32 1472.31 Q3465.6 1476.71 3467.96 1479.02 Q3470.34 1481.31 3474.58 1481.31 Q3477.03 1481.31 3479.32 1480.71 Q3481.64 1480.11 3483.91 1478.9 L3483.91 1482.93 Q3481.61 1483.9 3479.21 1484.41 Q3476.8 1484.92 3474.32 1484.92 Q3468.12 1484.92 3464.48 1481.31 Q3460.87 1477.7 3460.87 1471.54 Q3460.87 1465.18 3464.3 1461.45 Q3467.75 1457.7 3473.58 1457.7 Q3478.81 1457.7 3481.85 1461.08 Q3484.9 1464.44 3484.9 1470.22 M3480.64 1468.97 Q3480.6 1465.48 3478.67 1463.4 Q3476.78 1461.31 3473.63 1461.31 Q3470.06 1461.31 3467.91 1463.33 Q3465.78 1465.34 3465.46 1469 L3480.64 1468.97 Z\" fill=\"#000000\" fill-rule=\"evenodd\" fill-opacity=\"1\" /><path clip-path=\"url(#clip9700)\" d=\"M 0 0 M3508.03 1459.32 L3508.03 1463.3 Q3506.22 1462.31 3504.39 1461.82 Q3502.59 1461.31 3500.73 1461.31 Q3496.59 1461.31 3494.3 1463.95 Q3492.01 1466.57 3492.01 1471.31 Q3492.01 1476.06 3494.3 1478.7 Q3496.59 1481.31 3500.73 1481.31 Q3502.59 1481.31 3504.39 1480.83 Q3506.22 1480.32 3508.03 1479.32 L3508.03 1483.26 Q3506.24 1484.09 3504.32 1484.51 Q3502.42 1484.92 3500.27 1484.92 Q3494.41 1484.92 3490.97 1481.24 Q3487.52 1477.56 3487.52 1471.31 Q3487.52 1464.97 3490.99 1461.34 Q3494.48 1457.7 3500.55 1457.7 Q3502.52 1457.7 3504.39 1458.12 Q3506.27 1458.51 3508.03 1459.32 Z\" fill=\"#000000\" fill-rule=\"evenodd\" fill-opacity=\"1\" /><path clip-path=\"url(#clip9700)\" d=\"M 0 0 M3513.1 1478.37 L3517.98 1478.37 L3517.98 1484.25 L3513.1 1484.25 L3513.1 1478.37 Z\" fill=\"#000000\" fill-rule=\"evenodd\" fill-opacity=\"1\" /><path clip-path=\"url(#clip9700)\" d=\"M 0 0 M3535.9 1453.77 L3524.09 1472.21 L3535.9 1472.21 L3535.9 1453.77 M3534.67 1449.69 L3540.55 1449.69 L3540.55 1472.21 L3545.48 1472.21 L3545.48 1476.1 L3540.55 1476.1 L3540.55 1484.25 L3535.9 1484.25 L3535.9 1476.1 L3520.29 1476.1 L3520.29 1471.59 L3534.67 1449.69 Z\" fill=\"#000000\" fill-rule=\"evenodd\" fill-opacity=\"1\" /><path clip-path=\"url(#clip9700)\" d=\"M 0 0 M3551.03 1478.37 L3555.92 1478.37 L3555.92 1482.35 L3552.12 1489.76 L3549.14 1489.76 L3551.03 1482.35 L3551.03 1478.37 Z\" fill=\"#000000\" fill-rule=\"evenodd\" fill-opacity=\"1\" /><path clip-path=\"url(#clip9700)\" d=\"M 0 0 M3565.02 1480.32 L3581.34 1480.32 L3581.34 1484.25 L3559.39 1484.25 L3559.39 1480.32 Q3562.05 1477.56 3566.64 1472.93 Q3571.24 1468.28 3572.42 1466.94 Q3574.67 1464.41 3575.55 1462.68 Q3576.45 1460.92 3576.45 1459.23 Q3576.45 1456.47 3574.51 1454.74 Q3572.59 1453 3569.48 1453 Q3567.28 1453 3564.83 1453.77 Q3562.4 1454.53 3559.62 1456.08 L3559.62 1451.36 Q3562.45 1450.22 3564.9 1449.65 Q3567.35 1449.07 3569.39 1449.07 Q3574.76 1449.07 3577.96 1451.75 Q3581.15 1454.44 3581.15 1458.93 Q3581.15 1461.06 3580.34 1462.98 Q3579.55 1464.88 3577.45 1467.47 Q3576.87 1468.14 3573.77 1471.36 Q3570.66 1474.55 3565.02 1480.32 Z\" fill=\"#000000\" fill-rule=\"evenodd\" fill-opacity=\"1\" /><path clip-path=\"url(#clip9700)\" d=\"M 0 0 M3596.4 1452.77 Q3592.79 1452.77 3590.97 1456.34 Q3589.16 1459.88 3589.16 1467.01 Q3589.16 1474.11 3590.97 1477.68 Q3592.79 1481.22 3596.4 1481.22 Q3600.04 1481.22 3601.84 1477.68 Q3603.67 1474.11 3603.67 1467.01 Q3603.67 1459.88 3601.84 1456.34 Q3600.04 1452.77 3596.4 1452.77 M3596.4 1449.07 Q3602.22 1449.07 3605.27 1453.67 Q3608.35 1458.26 3608.35 1467.01 Q3608.35 1475.73 3605.27 1480.34 Q3602.22 1484.92 3596.4 1484.92 Q3590.59 1484.92 3587.52 1480.34 Q3584.46 1475.73 3584.46 1467.01 Q3584.46 1458.26 3587.52 1453.67 Q3590.59 1449.07 3596.4 1449.07 Z\" fill=\"#000000\" fill-rule=\"evenodd\" fill-opacity=\"1\" /><path clip-path=\"url(#clip9700)\" d=\"M 0 0 M3674.17 1453.53 L3674.17 1480.41 L3679.82 1480.41 Q3686.97 1480.41 3690.28 1477.17 Q3693.62 1473.93 3693.62 1466.94 Q3693.62 1459.99 3690.28 1456.78 Q3686.97 1453.53 3679.82 1453.53 L3674.17 1453.53 M3669.5 1449.69 L3679.1 1449.69 Q3689.15 1449.69 3693.85 1453.88 Q3698.55 1458.05 3698.55 1466.94 Q3698.55 1475.87 3693.82 1480.06 Q3689.1 1484.25 3679.1 1484.25 L3669.5 1484.25 L3669.5 1449.69 Z\" fill=\"#000000\" fill-rule=\"evenodd\" fill-opacity=\"1\" /><path clip-path=\"url(#clip9700)\" d=\"M 0 0 M3725.19 1470.22 L3725.19 1472.31 L3705.61 1472.31 Q3705.88 1476.71 3708.25 1479.02 Q3710.63 1481.31 3714.87 1481.31 Q3717.32 1481.31 3719.61 1480.71 Q3721.93 1480.11 3724.19 1478.9 L3724.19 1482.93 Q3721.9 1483.9 3719.5 1484.41 Q3717.09 1484.92 3714.61 1484.92 Q3708.41 1484.92 3704.77 1481.31 Q3701.16 1477.7 3701.16 1471.54 Q3701.16 1465.18 3704.59 1461.45 Q3708.04 1457.7 3713.87 1457.7 Q3719.1 1457.7 3722.13 1461.08 Q3725.19 1464.44 3725.19 1470.22 M3720.93 1468.97 Q3720.88 1465.48 3718.96 1463.4 Q3717.07 1461.31 3713.92 1461.31 Q3710.35 1461.31 3708.2 1463.33 Q3706.07 1465.34 3705.75 1469 L3720.93 1468.97 Z\" fill=\"#000000\" fill-rule=\"evenodd\" fill-opacity=\"1\" /><path clip-path=\"url(#clip9700)\" d=\"M 0 0 M3748.32 1459.32 L3748.32 1463.3 Q3746.51 1462.31 3744.68 1461.82 Q3742.88 1461.31 3741.02 1461.31 Q3736.88 1461.31 3734.59 1463.95 Q3732.3 1466.57 3732.3 1471.31 Q3732.3 1476.06 3734.59 1478.7 Q3736.88 1481.31 3741.02 1481.31 Q3742.88 1481.31 3744.68 1480.83 Q3746.51 1480.32 3748.32 1479.32 L3748.32 1483.26 Q3746.53 1484.09 3744.61 1484.51 Q3742.71 1484.92 3740.56 1484.92 Q3734.7 1484.92 3731.26 1481.24 Q3727.81 1477.56 3727.81 1471.31 Q3727.81 1464.97 3731.28 1461.34 Q3734.77 1457.7 3740.84 1457.7 Q3742.81 1457.7 3744.68 1458.12 Q3746.56 1458.51 3748.32 1459.32 Z\" fill=\"#000000\" fill-rule=\"evenodd\" fill-opacity=\"1\" /><path clip-path=\"url(#clip9700)\" d=\"M 0 0 M3753.38 1478.37 L3758.27 1478.37 L3758.27 1484.25 L3753.38 1484.25 L3753.38 1478.37 Z\" fill=\"#000000\" fill-rule=\"evenodd\" fill-opacity=\"1\" /><path clip-path=\"url(#clip9700)\" d=\"M 0 0 M3764.15 1480.32 L3771.79 1480.32 L3771.79 1453.95 L3763.48 1455.62 L3763.48 1451.36 L3771.74 1449.69 L3776.42 1449.69 L3776.42 1480.32 L3784.06 1480.32 L3784.06 1484.25 L3764.15 1484.25 L3764.15 1480.32 Z\" fill=\"#000000\" fill-rule=\"evenodd\" fill-opacity=\"1\" /><path clip-path=\"url(#clip9700)\" d=\"M 0 0 M3789.94 1480.32 L3797.57 1480.32 L3797.57 1453.95 L3789.26 1455.62 L3789.26 1451.36 L3797.53 1449.69 L3802.2 1449.69 L3802.2 1480.32 L3809.84 1480.32 L3809.84 1484.25 L3789.94 1484.25 L3789.94 1480.32 Z\" fill=\"#000000\" fill-rule=\"evenodd\" fill-opacity=\"1\" /><path clip-path=\"url(#clip9700)\" d=\"M 0 0 M3815.4 1478.37 L3820.28 1478.37 L3820.28 1482.35 L3816.49 1489.76 L3813.5 1489.76 L3815.4 1482.35 L3815.4 1478.37 Z\" fill=\"#000000\" fill-rule=\"evenodd\" fill-opacity=\"1\" /><path clip-path=\"url(#clip9700)\" d=\"M 0 0 M3829.38 1480.32 L3845.7 1480.32 L3845.7 1484.25 L3823.75 1484.25 L3823.75 1480.32 Q3826.42 1477.56 3831 1472.93 Q3835.61 1468.28 3836.79 1466.94 Q3839.03 1464.41 3839.91 1462.68 Q3840.81 1460.92 3840.81 1459.23 Q3840.81 1456.47 3838.87 1454.74 Q3836.95 1453 3833.85 1453 Q3831.65 1453 3829.19 1453.77 Q3826.76 1454.53 3823.99 1456.08 L3823.99 1451.36 Q3826.81 1450.22 3829.26 1449.65 Q3831.72 1449.07 3833.75 1449.07 Q3839.12 1449.07 3842.32 1451.75 Q3845.51 1454.44 3845.51 1458.93 Q3845.51 1461.06 3844.7 1462.98 Q3843.92 1464.88 3841.81 1467.47 Q3841.23 1468.14 3838.13 1471.36 Q3835.03 1474.55 3829.38 1480.32 Z\" fill=\"#000000\" fill-rule=\"evenodd\" fill-opacity=\"1\" /><path clip-path=\"url(#clip9700)\" d=\"M 0 0 M3860.77 1452.77 Q3857.16 1452.77 3855.33 1456.34 Q3853.52 1459.88 3853.52 1467.01 Q3853.52 1474.11 3855.33 1477.68 Q3857.16 1481.22 3860.77 1481.22 Q3864.4 1481.22 3866.21 1477.68 Q3868.04 1474.11 3868.04 1467.01 Q3868.04 1459.88 3866.21 1456.34 Q3864.4 1452.77 3860.77 1452.77 M3860.77 1449.07 Q3866.58 1449.07 3869.63 1453.67 Q3872.71 1458.26 3872.71 1467.01 Q3872.71 1475.73 3869.63 1480.34 Q3866.58 1484.92 3860.77 1484.92 Q3854.96 1484.92 3851.88 1480.34 Q3848.82 1475.73 3848.82 1467.01 Q3848.82 1458.26 3851.88 1453.67 Q3854.96 1449.07 3860.77 1449.07 Z\" fill=\"#000000\" fill-rule=\"evenodd\" fill-opacity=\"1\" /><path clip-path=\"url(#clip9700)\" d=\"M 0 0 M118.398 1289.24 L134.717 1289.24 L134.717 1293.17 L112.773 1293.17 L112.773 1289.24 Q115.435 1286.48 120.018 1281.85 Q124.625 1277.2 125.805 1275.86 Q128.051 1273.33 128.93 1271.6 Q129.833 1269.84 129.833 1268.15 Q129.833 1265.39 127.889 1263.66 Q125.967 1261.92 122.866 1261.92 Q120.667 1261.92 118.213 1262.69 Q115.782 1263.45 113.005 1265 L113.005 1260.28 Q115.829 1259.14 118.282 1258.57 Q120.736 1257.99 122.773 1257.99 Q128.143 1257.99 131.338 1260.67 Q134.532 1263.36 134.532 1267.85 Q134.532 1269.98 133.722 1271.9 Q132.935 1273.8 130.829 1276.39 Q130.25 1277.06 127.148 1280.28 Q124.046 1283.47 118.398 1289.24 Z\" fill=\"#000000\" fill-rule=\"evenodd\" fill-opacity=\"1\" /><path clip-path=\"url(#clip9700)\" d=\"M 0 0 M138.606 1258.61 L160.828 1258.61 L160.828 1260.6 L148.282 1293.17 L143.398 1293.17 L155.203 1262.55 L138.606 1262.55 L138.606 1258.61 Z\" fill=\"#000000\" fill-rule=\"evenodd\" fill-opacity=\"1\" /><path clip-path=\"url(#clip9700)\" d=\"M 0 0 M175.898 1261.69 Q172.287 1261.69 170.458 1265.26 Q168.652 1268.8 168.652 1275.93 Q168.652 1283.03 170.458 1286.6 Q172.287 1290.14 175.898 1290.14 Q179.532 1290.14 181.338 1286.6 Q183.166 1283.03 183.166 1275.93 Q183.166 1268.8 181.338 1265.26 Q179.532 1261.69 175.898 1261.69 M175.898 1257.99 Q181.708 1257.99 184.763 1262.59 Q187.842 1267.18 187.842 1275.93 Q187.842 1284.65 184.763 1289.26 Q181.708 1293.84 175.898 1293.84 Q170.088 1293.84 167.009 1289.26 Q163.953 1284.65 163.953 1275.93 Q163.953 1267.18 167.009 1262.59 Q170.088 1257.99 175.898 1257.99 Z\" fill=\"#000000\" fill-rule=\"evenodd\" fill-opacity=\"1\" /><path clip-path=\"url(#clip9700)\" d=\"M 0 0 M202.912 1261.69 Q199.3 1261.69 197.472 1265.26 Q195.666 1268.8 195.666 1275.93 Q195.666 1283.03 197.472 1286.6 Q199.3 1290.14 202.912 1290.14 Q206.546 1290.14 208.351 1286.6 Q210.18 1283.03 210.18 1275.93 Q210.18 1268.8 208.351 1265.26 Q206.546 1261.69 202.912 1261.69 M202.912 1257.99 Q208.722 1257.99 211.777 1262.59 Q214.856 1267.18 214.856 1275.93 Q214.856 1284.65 211.777 1289.26 Q208.722 1293.84 202.912 1293.84 Q197.101 1293.84 194.023 1289.26 Q190.967 1284.65 190.967 1275.93 Q190.967 1267.18 194.023 1262.59 Q197.101 1257.99 202.912 1257.99 Z\" fill=\"#000000\" fill-rule=\"evenodd\" fill-opacity=\"1\" /><path clip-path=\"url(#clip9700)\" d=\"M 0 0 M229.925 1261.69 Q226.314 1261.69 224.485 1265.26 Q222.68 1268.8 222.68 1275.93 Q222.68 1283.03 224.485 1286.6 Q226.314 1290.14 229.925 1290.14 Q233.56 1290.14 235.365 1286.6 Q237.194 1283.03 237.194 1275.93 Q237.194 1268.8 235.365 1265.26 Q233.56 1261.69 229.925 1261.69 M229.925 1257.99 Q235.735 1257.99 238.791 1262.59 Q241.87 1267.18 241.87 1275.93 Q241.87 1284.65 238.791 1289.26 Q235.735 1293.84 229.925 1293.84 Q224.115 1293.84 221.036 1289.26 Q217.981 1284.65 217.981 1275.93 Q217.981 1267.18 221.036 1262.59 Q224.115 1257.99 229.925 1257.99 Z\" fill=\"#000000\" fill-rule=\"evenodd\" fill-opacity=\"1\" /><path clip-path=\"url(#clip9700)\" d=\"M 0 0 M117.588 989.109 L133.907 989.109 L133.907 993.044 L111.963 993.044 L111.963 989.109 Q114.625 986.355 119.208 981.725 Q123.815 977.072 124.995 975.73 Q127.241 973.207 128.12 971.47 Q129.023 969.711 129.023 968.021 Q129.023 965.267 127.079 963.531 Q125.157 961.795 122.055 961.795 Q119.856 961.795 117.403 962.558 Q114.972 963.322 112.194 964.873 L112.194 960.151 Q115.018 959.017 117.472 958.438 Q119.926 957.859 121.963 957.859 Q127.333 957.859 130.528 960.545 Q133.722 963.23 133.722 967.72 Q133.722 969.85 132.912 971.771 Q132.125 973.669 130.018 976.262 Q129.44 976.933 126.338 980.151 Q123.236 983.345 117.588 989.109 Z\" fill=\"#000000\" fill-rule=\"evenodd\" fill-opacity=\"1\" /><path clip-path=\"url(#clip9700)\" d=\"M 0 0 M148.977 976.632 Q145.643 976.632 143.722 978.415 Q141.824 980.197 141.824 983.322 Q141.824 986.447 143.722 988.23 Q145.643 990.012 148.977 990.012 Q152.31 990.012 154.231 988.23 Q156.153 986.424 156.153 983.322 Q156.153 980.197 154.231 978.415 Q152.333 976.632 148.977 976.632 M144.301 974.642 Q141.291 973.901 139.602 971.841 Q137.935 969.781 137.935 966.818 Q137.935 962.674 140.875 960.267 Q143.838 957.859 148.977 957.859 Q154.139 957.859 157.078 960.267 Q160.018 962.674 160.018 966.818 Q160.018 969.781 158.328 971.841 Q156.662 973.901 153.676 974.642 Q157.055 975.429 158.93 977.72 Q160.828 980.012 160.828 983.322 Q160.828 988.345 157.75 991.03 Q154.694 993.716 148.977 993.716 Q143.259 993.716 140.18 991.03 Q137.125 988.345 137.125 983.322 Q137.125 980.012 139.023 977.72 Q140.921 975.429 144.301 974.642 M142.588 967.257 Q142.588 969.943 144.254 971.447 Q145.944 972.952 148.977 972.952 Q151.986 972.952 153.676 971.447 Q155.389 969.943 155.389 967.257 Q155.389 964.572 153.676 963.068 Q151.986 961.563 148.977 961.563 Q145.944 961.563 144.254 963.068 Q142.588 964.572 142.588 967.257 Z\" fill=\"#000000\" fill-rule=\"evenodd\" fill-opacity=\"1\" /><path clip-path=\"url(#clip9700)\" d=\"M 0 0 M175.898 961.563 Q172.287 961.563 170.458 965.128 Q168.652 968.67 168.652 975.799 Q168.652 982.906 170.458 986.47 Q172.287 990.012 175.898 990.012 Q179.532 990.012 181.338 986.47 Q183.166 982.906 183.166 975.799 Q183.166 968.67 181.338 965.128 Q179.532 961.563 175.898 961.563 M175.898 957.859 Q181.708 957.859 184.763 962.466 Q187.842 967.049 187.842 975.799 Q187.842 984.526 184.763 989.132 Q181.708 993.716 175.898 993.716 Q170.088 993.716 167.009 989.132 Q163.953 984.526 163.953 975.799 Q163.953 967.049 167.009 962.466 Q170.088 957.859 175.898 957.859 Z\" fill=\"#000000\" fill-rule=\"evenodd\" fill-opacity=\"1\" /><path clip-path=\"url(#clip9700)\" d=\"M 0 0 M202.912 961.563 Q199.3 961.563 197.472 965.128 Q195.666 968.67 195.666 975.799 Q195.666 982.906 197.472 986.47 Q199.3 990.012 202.912 990.012 Q206.546 990.012 208.351 986.47 Q210.18 982.906 210.18 975.799 Q210.18 968.67 208.351 965.128 Q206.546 961.563 202.912 961.563 M202.912 957.859 Q208.722 957.859 211.777 962.466 Q214.856 967.049 214.856 975.799 Q214.856 984.526 211.777 989.132 Q208.722 993.716 202.912 993.716 Q197.101 993.716 194.023 989.132 Q190.967 984.526 190.967 975.799 Q190.967 967.049 194.023 962.466 Q197.101 957.859 202.912 957.859 Z\" fill=\"#000000\" fill-rule=\"evenodd\" fill-opacity=\"1\" /><path clip-path=\"url(#clip9700)\" d=\"M 0 0 M229.925 961.563 Q226.314 961.563 224.485 965.128 Q222.68 968.67 222.68 975.799 Q222.68 982.906 224.485 986.47 Q226.314 990.012 229.925 990.012 Q233.56 990.012 235.365 986.47 Q237.194 982.906 237.194 975.799 Q237.194 968.67 235.365 965.128 Q233.56 961.563 229.925 961.563 M229.925 957.859 Q235.735 957.859 238.791 962.466 Q241.87 967.049 241.87 975.799 Q241.87 984.526 238.791 989.132 Q235.735 993.716 229.925 993.716 Q224.115 993.716 221.036 989.132 Q217.981 984.526 217.981 975.799 Q217.981 967.049 221.036 962.466 Q224.115 957.859 229.925 957.859 Z\" fill=\"#000000\" fill-rule=\"evenodd\" fill-opacity=\"1\" /><path clip-path=\"url(#clip9700)\" d=\"M 0 0 M117.68 688.981 L134 688.981 L134 692.917 L112.056 692.917 L112.056 688.981 Q114.718 686.227 119.301 681.597 Q123.907 676.944 125.088 675.602 Q127.333 673.079 128.213 671.343 Q129.116 669.583 129.116 667.894 Q129.116 665.139 127.171 663.403 Q125.25 661.667 122.148 661.667 Q119.949 661.667 117.495 662.431 Q115.065 663.195 112.287 664.745 L112.287 660.023 Q115.111 658.889 117.565 658.31 Q120.018 657.732 122.055 657.732 Q127.426 657.732 130.62 660.417 Q133.815 663.102 133.815 667.593 Q133.815 669.722 133.004 671.644 Q132.217 673.542 130.111 676.134 Q129.532 676.806 126.43 680.023 Q123.329 683.218 117.68 688.981 Z\" fill=\"#000000\" fill-rule=\"evenodd\" fill-opacity=\"1\" /><path clip-path=\"url(#clip9700)\" d=\"M 0 0 M139.208 692.199 L139.208 687.94 Q140.967 688.773 142.773 689.213 Q144.578 689.653 146.315 689.653 Q150.944 689.653 153.375 686.551 Q155.828 683.426 156.176 677.083 Q154.833 679.074 152.773 680.139 Q150.713 681.204 148.213 681.204 Q143.028 681.204 139.995 678.079 Q136.986 674.931 136.986 669.491 Q136.986 664.167 140.134 660.949 Q143.282 657.732 148.514 657.732 Q154.509 657.732 157.657 662.338 Q160.828 666.921 160.828 675.671 Q160.828 683.843 156.94 688.727 Q153.074 693.588 146.523 693.588 Q144.764 693.588 142.958 693.241 Q141.153 692.893 139.208 692.199 M148.514 677.546 Q151.662 677.546 153.49 675.394 Q155.342 673.241 155.342 669.491 Q155.342 665.764 153.49 663.611 Q151.662 661.435 148.514 661.435 Q145.366 661.435 143.514 663.611 Q141.685 665.764 141.685 669.491 Q141.685 673.241 143.514 675.394 Q145.366 677.546 148.514 677.546 Z\" fill=\"#000000\" fill-rule=\"evenodd\" fill-opacity=\"1\" /><path clip-path=\"url(#clip9700)\" d=\"M 0 0 M175.898 661.435 Q172.287 661.435 170.458 665 Q168.652 668.542 168.652 675.671 Q168.652 682.778 170.458 686.343 Q172.287 689.884 175.898 689.884 Q179.532 689.884 181.338 686.343 Q183.166 682.778 183.166 675.671 Q183.166 668.542 181.338 665 Q179.532 661.435 175.898 661.435 M175.898 657.732 Q181.708 657.732 184.763 662.338 Q187.842 666.921 187.842 675.671 Q187.842 684.398 184.763 689.005 Q181.708 693.588 175.898 693.588 Q170.088 693.588 167.009 689.005 Q163.953 684.398 163.953 675.671 Q163.953 666.921 167.009 662.338 Q170.088 657.732 175.898 657.732 Z\" fill=\"#000000\" fill-rule=\"evenodd\" fill-opacity=\"1\" /><path clip-path=\"url(#clip9700)\" d=\"M 0 0 M202.912 661.435 Q199.3 661.435 197.472 665 Q195.666 668.542 195.666 675.671 Q195.666 682.778 197.472 686.343 Q199.3 689.884 202.912 689.884 Q206.546 689.884 208.351 686.343 Q210.18 682.778 210.18 675.671 Q210.18 668.542 208.351 665 Q206.546 661.435 202.912 661.435 M202.912 657.732 Q208.722 657.732 211.777 662.338 Q214.856 666.921 214.856 675.671 Q214.856 684.398 211.777 689.005 Q208.722 693.588 202.912 693.588 Q197.101 693.588 194.023 689.005 Q190.967 684.398 190.967 675.671 Q190.967 666.921 194.023 662.338 Q197.101 657.732 202.912 657.732 Z\" fill=\"#000000\" fill-rule=\"evenodd\" fill-opacity=\"1\" /><path clip-path=\"url(#clip9700)\" d=\"M 0 0 M229.925 661.435 Q226.314 661.435 224.485 665 Q222.68 668.542 222.68 675.671 Q222.68 682.778 224.485 686.343 Q226.314 689.884 229.925 689.884 Q233.56 689.884 235.365 686.343 Q237.194 682.778 237.194 675.671 Q237.194 668.542 235.365 665 Q233.56 661.435 229.925 661.435 M229.925 657.732 Q235.735 657.732 238.791 662.338 Q241.87 666.921 241.87 675.671 Q241.87 684.398 238.791 689.005 Q235.735 693.588 229.925 693.588 Q224.115 693.588 221.036 689.005 Q217.981 684.398 217.981 675.671 Q217.981 666.921 221.036 662.338 Q224.115 657.732 229.925 657.732 Z\" fill=\"#000000\" fill-rule=\"evenodd\" fill-opacity=\"1\" /><path clip-path=\"url(#clip9700)\" d=\"M 0 0 M126.685 374.155 Q130.042 374.872 131.917 377.141 Q133.815 379.409 133.815 382.743 Q133.815 387.858 130.296 390.659 Q126.778 393.46 120.296 393.46 Q118.12 393.46 115.806 393.02 Q113.514 392.604 111.06 391.747 L111.06 387.233 Q113.005 388.368 115.319 388.946 Q117.634 389.525 120.157 389.525 Q124.555 389.525 126.847 387.789 Q129.162 386.053 129.162 382.743 Q129.162 379.687 127.009 377.974 Q124.88 376.238 121.06 376.238 L117.032 376.238 L117.032 372.395 L121.245 372.395 Q124.694 372.395 126.523 371.03 Q128.352 369.641 128.352 367.048 Q128.352 364.386 126.454 362.974 Q124.579 361.539 121.06 361.539 Q119.139 361.539 116.94 361.956 Q114.741 362.372 112.102 363.252 L112.102 359.085 Q114.764 358.345 117.079 357.974 Q119.417 357.604 121.477 357.604 Q126.801 357.604 129.903 360.034 Q133.004 362.442 133.004 366.562 Q133.004 369.432 131.361 371.423 Q129.717 373.391 126.685 374.155 Z\" fill=\"#000000\" fill-rule=\"evenodd\" fill-opacity=\"1\" /><path clip-path=\"url(#clip9700)\" d=\"M 0 0 M148.884 361.308 Q145.273 361.308 143.444 364.872 Q141.639 368.414 141.639 375.544 Q141.639 382.65 143.444 386.215 Q145.273 389.756 148.884 389.756 Q152.518 389.756 154.324 386.215 Q156.153 382.65 156.153 375.544 Q156.153 368.414 154.324 364.872 Q152.518 361.308 148.884 361.308 M148.884 357.604 Q154.694 357.604 157.75 362.21 Q160.828 366.794 160.828 375.544 Q160.828 384.27 157.75 388.877 Q154.694 393.46 148.884 393.46 Q143.074 393.46 139.995 388.877 Q136.94 384.27 136.94 375.544 Q136.94 366.794 139.995 362.21 Q143.074 357.604 148.884 357.604 Z\" fill=\"#000000\" fill-rule=\"evenodd\" fill-opacity=\"1\" /><path clip-path=\"url(#clip9700)\" d=\"M 0 0 M175.898 361.308 Q172.287 361.308 170.458 364.872 Q168.652 368.414 168.652 375.544 Q168.652 382.65 170.458 386.215 Q172.287 389.756 175.898 389.756 Q179.532 389.756 181.338 386.215 Q183.166 382.65 183.166 375.544 Q183.166 368.414 181.338 364.872 Q179.532 361.308 175.898 361.308 M175.898 357.604 Q181.708 357.604 184.763 362.21 Q187.842 366.794 187.842 375.544 Q187.842 384.27 184.763 388.877 Q181.708 393.46 175.898 393.46 Q170.088 393.46 167.009 388.877 Q163.953 384.27 163.953 375.544 Q163.953 366.794 167.009 362.21 Q170.088 357.604 175.898 357.604 Z\" fill=\"#000000\" fill-rule=\"evenodd\" fill-opacity=\"1\" /><path clip-path=\"url(#clip9700)\" d=\"M 0 0 M202.912 361.308 Q199.3 361.308 197.472 364.872 Q195.666 368.414 195.666 375.544 Q195.666 382.65 197.472 386.215 Q199.3 389.756 202.912 389.756 Q206.546 389.756 208.351 386.215 Q210.18 382.65 210.18 375.544 Q210.18 368.414 208.351 364.872 Q206.546 361.308 202.912 361.308 M202.912 357.604 Q208.722 357.604 211.777 362.21 Q214.856 366.794 214.856 375.544 Q214.856 384.27 211.777 388.877 Q208.722 393.46 202.912 393.46 Q197.101 393.46 194.023 388.877 Q190.967 384.27 190.967 375.544 Q190.967 366.794 194.023 362.21 Q197.101 357.604 202.912 357.604 Z\" fill=\"#000000\" fill-rule=\"evenodd\" fill-opacity=\"1\" /><path clip-path=\"url(#clip9700)\" d=\"M 0 0 M229.925 361.308 Q226.314 361.308 224.485 364.872 Q222.68 368.414 222.68 375.544 Q222.68 382.65 224.485 386.215 Q226.314 389.756 229.925 389.756 Q233.56 389.756 235.365 386.215 Q237.194 382.65 237.194 375.544 Q237.194 368.414 235.365 364.872 Q233.56 361.308 229.925 361.308 M229.925 357.604 Q235.735 357.604 238.791 362.21 Q241.87 366.794 241.87 375.544 Q241.87 384.27 238.791 388.877 Q235.735 393.46 229.925 393.46 Q224.115 393.46 221.036 388.877 Q217.981 384.27 217.981 375.544 Q217.981 366.794 221.036 362.21 Q224.115 357.604 229.925 357.604 Z\" fill=\"#000000\" fill-rule=\"evenodd\" fill-opacity=\"1\" /><path clip-path=\"url(#clip9700)\" d=\"M 0 0 M127.912 74.0269 Q131.268 74.7445 133.143 77.013 Q135.042 79.2815 135.042 82.6148 Q135.042 87.7305 131.523 90.5315 Q128.005 93.3324 121.523 93.3324 Q119.347 93.3324 117.032 92.8926 Q114.741 92.4759 112.287 91.6194 L112.287 87.1055 Q114.231 88.2398 116.546 88.8185 Q118.861 89.3972 121.384 89.3972 Q125.782 89.3972 128.074 87.6611 Q130.389 85.925 130.389 82.6148 Q130.389 79.5593 128.236 77.8463 Q126.106 76.1102 122.287 76.1102 L118.259 76.1102 L118.259 72.2677 L122.472 72.2677 Q125.921 72.2677 127.75 70.9019 Q129.579 69.513 129.579 66.9205 Q129.579 64.2584 127.68 62.8464 Q125.805 61.4112 122.287 61.4112 Q120.366 61.4112 118.167 61.8279 Q115.968 62.2446 113.329 63.1242 L113.329 58.9575 Q115.991 58.2168 118.305 57.8464 Q120.643 57.4761 122.704 57.4761 Q128.028 57.4761 131.129 59.9066 Q134.231 62.314 134.231 66.4344 Q134.231 69.3047 132.588 71.2954 Q130.944 73.263 127.912 74.0269 Z\" fill=\"#000000\" fill-rule=\"evenodd\" fill-opacity=\"1\" /><path clip-path=\"url(#clip9700)\" d=\"M 0 0 M140.921 88.7259 L148.56 88.7259 L148.56 62.3603 L140.25 64.027 L140.25 59.7677 L148.514 58.1011 L153.19 58.1011 L153.19 88.7259 L160.828 88.7259 L160.828 92.6611 L140.921 92.6611 L140.921 88.7259 Z\" fill=\"#000000\" fill-rule=\"evenodd\" fill-opacity=\"1\" /><path clip-path=\"url(#clip9700)\" d=\"M 0 0 M175.898 61.1798 Q172.287 61.1798 170.458 64.7446 Q168.652 68.2862 168.652 75.4158 Q168.652 82.5222 170.458 86.087 Q172.287 89.6287 175.898 89.6287 Q179.532 89.6287 181.338 86.087 Q183.166 82.5222 183.166 75.4158 Q183.166 68.2862 181.338 64.7446 Q179.532 61.1798 175.898 61.1798 M175.898 57.4761 Q181.708 57.4761 184.763 62.0825 Q187.842 66.6658 187.842 75.4158 Q187.842 84.1426 184.763 88.7491 Q181.708 93.3324 175.898 93.3324 Q170.088 93.3324 167.009 88.7491 Q163.953 84.1426 163.953 75.4158 Q163.953 66.6658 167.009 62.0825 Q170.088 57.4761 175.898 57.4761 Z\" fill=\"#000000\" fill-rule=\"evenodd\" fill-opacity=\"1\" /><path clip-path=\"url(#clip9700)\" d=\"M 0 0 M202.912 61.1798 Q199.3 61.1798 197.472 64.7446 Q195.666 68.2862 195.666 75.4158 Q195.666 82.5222 197.472 86.087 Q199.3 89.6287 202.912 89.6287 Q206.546 89.6287 208.351 86.087 Q210.18 82.5222 210.18 75.4158 Q210.18 68.2862 208.351 64.7446 Q206.546 61.1798 202.912 61.1798 M202.912 57.4761 Q208.722 57.4761 211.777 62.0825 Q214.856 66.6658 214.856 75.4158 Q214.856 84.1426 211.777 88.7491 Q208.722 93.3324 202.912 93.3324 Q197.101 93.3324 194.023 88.7491 Q190.967 84.1426 190.967 75.4158 Q190.967 66.6658 194.023 62.0825 Q197.101 57.4761 202.912 57.4761 Z\" fill=\"#000000\" fill-rule=\"evenodd\" fill-opacity=\"1\" /><path clip-path=\"url(#clip9700)\" d=\"M 0 0 M229.925 61.1798 Q226.314 61.1798 224.485 64.7446 Q222.68 68.2862 222.68 75.4158 Q222.68 82.5222 224.485 86.087 Q226.314 89.6287 229.925 89.6287 Q233.56 89.6287 235.365 86.087 Q237.194 82.5222 237.194 75.4158 Q237.194 68.2862 235.365 64.7446 Q233.56 61.1798 229.925 61.1798 M229.925 57.4761 Q235.735 57.4761 238.791 62.0825 Q241.87 66.6658 241.87 75.4158 Q241.87 84.1426 238.791 88.7491 Q235.735 93.3324 229.925 93.3324 Q224.115 93.3324 221.036 88.7491 Q217.981 84.1426 217.981 75.4158 Q217.981 66.6658 221.036 62.0825 Q224.115 57.4761 229.925 57.4761 Z\" fill=\"#000000\" fill-rule=\"evenodd\" fill-opacity=\"1\" /><path clip-path=\"url(#clip9700)\" d=\"M 0 0 M2022.68 1525.47 L2022.68 1535.6 L2034.74 1535.6 L2034.74 1540.15 L2022.68 1540.15 L2022.68 1559.5 Q2022.68 1563.86 2023.85 1565.1 Q2025.06 1566.34 2028.72 1566.34 L2034.74 1566.34 L2034.74 1571.24 L2028.72 1571.24 Q2021.94 1571.24 2019.37 1568.73 Q2016.79 1566.18 2016.79 1559.5 L2016.79 1540.15 L2012.49 1540.15 L2012.49 1535.6 L2016.79 1535.6 L2016.79 1525.47 L2022.68 1525.47 Z\" fill=\"#000000\" fill-rule=\"evenodd\" fill-opacity=\"1\" /><path clip-path=\"url(#clip9700)\" d=\"M 0 0 M2040.88 1535.6 L2046.74 1535.6 L2046.74 1571.24 L2040.88 1571.24 L2040.88 1535.6 M2040.88 1521.72 L2046.74 1521.72 L2046.74 1529.13 L2040.88 1529.13 L2040.88 1521.72 Z\" fill=\"#000000\" fill-rule=\"evenodd\" fill-opacity=\"1\" /><path clip-path=\"url(#clip9700)\" d=\"M 0 0 M2080.64 1542.44 Q2082.83 1538.49 2085.89 1536.61 Q2088.94 1534.74 2093.08 1534.74 Q2098.65 1534.74 2101.68 1538.65 Q2104.7 1542.53 2104.7 1549.73 L2104.7 1571.24 L2098.81 1571.24 L2098.81 1549.92 Q2098.81 1544.79 2097 1542.31 Q2095.18 1539.83 2091.46 1539.83 Q2086.91 1539.83 2084.27 1542.85 Q2081.62 1545.88 2081.62 1551.1 L2081.62 1571.24 L2075.74 1571.24 L2075.74 1549.92 Q2075.74 1544.76 2073.92 1542.31 Q2072.11 1539.83 2068.32 1539.83 Q2063.83 1539.83 2061.19 1542.88 Q2058.55 1545.91 2058.55 1551.1 L2058.55 1571.24 L2052.66 1571.24 L2052.66 1535.6 L2058.55 1535.6 L2058.55 1541.13 Q2060.55 1537.86 2063.35 1536.3 Q2066.15 1534.74 2070.01 1534.74 Q2073.89 1534.74 2076.59 1536.71 Q2079.33 1538.68 2080.64 1542.44 Z\" fill=\"#000000\" fill-rule=\"evenodd\" fill-opacity=\"1\" /><path clip-path=\"url(#clip9700)\" d=\"M 0 0 M2141.33 1551.96 L2141.33 1554.82 L2114.41 1554.82 Q2114.79 1560.87 2118.04 1564.05 Q2121.31 1567.2 2127.14 1567.2 Q2130.51 1567.2 2133.66 1566.37 Q2136.85 1565.55 2139.97 1563.89 L2139.97 1569.43 Q2136.81 1570.77 2133.5 1571.47 Q2130.19 1572.17 2126.79 1572.17 Q2118.26 1572.17 2113.26 1567.2 Q2108.3 1562.24 2108.3 1553.77 Q2108.3 1545.02 2113.01 1539.89 Q2117.75 1534.74 2125.77 1534.74 Q2132.96 1534.74 2137.13 1539.38 Q2141.33 1544 2141.33 1551.96 M2135.48 1550.24 Q2135.41 1545.43 2132.77 1542.57 Q2130.16 1539.7 2125.83 1539.7 Q2120.93 1539.7 2117.97 1542.47 Q2115.04 1545.24 2114.6 1550.27 L2135.48 1550.24 Z\" fill=\"#000000\" fill-rule=\"evenodd\" fill-opacity=\"1\" /><path clip-path=\"url(#clip9700)\" d=\"M 0 0 M21.9562 811.585 L21.9562 805.378 L51.875 794.238 L21.9562 783.098 L21.9562 776.891 L57.6042 790.259 L57.6042 798.217 L21.9562 811.585 Z\" fill=\"#000000\" fill-rule=\"evenodd\" fill-opacity=\"1\" /><path clip-path=\"url(#clip9700)\" d=\"M 0 0 M39.6847 754.548 Q39.6847 761.646 41.3079 764.383 Q42.9312 767.12 46.8461 767.12 Q49.9653 767.12 51.8114 765.083 Q53.6256 763.014 53.6256 759.481 Q53.6256 754.611 50.1881 751.683 Q46.7188 748.723 40.9897 748.723 L39.6847 748.723 L39.6847 754.548 M37.2657 742.867 L57.6042 742.867 L57.6042 748.723 L52.1933 748.723 Q55.4398 750.728 56.9994 753.72 Q58.5272 756.712 58.5272 761.041 Q58.5272 766.515 55.4716 769.762 Q52.3843 772.977 47.2281 772.977 Q41.2125 772.977 38.1569 768.966 Q35.1014 764.924 35.1014 756.935 L35.1014 748.723 L34.5285 748.723 Q30.4862 748.723 28.2901 751.397 Q26.0621 754.039 26.0621 758.845 Q26.0621 761.9 26.7941 764.797 Q27.5262 767.693 28.9903 770.367 L23.5795 770.367 Q22.3381 767.152 21.7334 764.128 Q21.0968 761.104 21.0968 758.24 Q21.0968 750.506 25.1072 746.686 Q29.1176 742.867 37.2657 742.867 Z\" fill=\"#000000\" fill-rule=\"evenodd\" fill-opacity=\"1\" /><path clip-path=\"url(#clip9700)\" d=\"M 0 0 M8.07896 736.724 L8.07896 730.867 L57.6042 730.867 L57.6042 736.724 L8.07896 736.724 Z\" fill=\"#000000\" fill-rule=\"evenodd\" fill-opacity=\"1\" /><path clip-path=\"url(#clip9700)\" d=\"M 0 0 M43.5359 725.329 L21.9562 725.329 L21.9562 719.473 L43.3131 719.473 Q48.3739 719.473 50.9202 717.499 Q53.4346 715.526 53.4346 711.579 Q53.4346 706.837 50.4109 704.1 Q47.3872 701.33 42.1673 701.33 L21.9562 701.33 L21.9562 695.474 L57.6042 695.474 L57.6042 701.33 L52.1296 701.33 Q55.3762 703.463 56.9676 706.296 Q58.5272 709.097 58.5272 712.821 Q58.5272 718.964 54.7078 722.146 Q50.8883 725.329 43.5359 725.329 M21.0968 710.593 L21.0968 710.593 Z\" fill=\"#000000\" fill-rule=\"evenodd\" fill-opacity=\"1\" /><path clip-path=\"url(#clip9700)\" d=\"M 0 0 M38.3161 658.839 L41.1806 658.839 L41.1806 685.766 Q47.2281 685.384 50.4109 682.138 Q53.5619 678.86 53.5619 673.035 Q53.5619 669.661 52.7344 666.51 Q51.9069 663.327 50.2518 660.208 L55.7899 660.208 Q57.1267 663.359 57.827 666.669 Q58.5272 669.979 58.5272 673.385 Q58.5272 681.915 53.5619 686.912 Q48.5967 691.877 40.1303 691.877 Q31.3774 691.877 26.2531 687.167 Q21.0968 682.424 21.0968 674.404 Q21.0968 667.21 25.7438 663.041 Q30.3589 658.839 38.3161 658.839 M36.5973 664.696 Q31.7912 664.76 28.9266 667.401 Q26.0621 670.011 26.0621 674.34 Q26.0621 679.241 28.8312 682.202 Q31.6002 685.13 36.6292 685.575 L36.5973 664.696 Z\" fill=\"#000000\" fill-rule=\"evenodd\" fill-opacity=\"1\" /><polyline clip-path=\"url(#clip9702)\" style=\"stroke:#009af9; stroke-width:4; stroke-opacity:1; fill:none\" points=\"\n",
       "  382.721,998.274 418.768,913.938 454.814,923.242 490.861,1027.09 526.908,1027.09 562.954,1027.09 599.001,949.953 635.048,906.435 671.094,866.218 707.141,958.657 \n",
       "  743.187,991.671 779.234,991.671 815.281,991.671 851.327,1130.33 887.374,1175.95 923.421,1136.63 959.467,1247.38 995.514,1204.16 1031.56,1204.16 1067.61,1204.16 \n",
       "  1103.65,1058.9 1139.7,1094.01 1175.75,967.961 1211.79,963.459 1247.84,1017.48 1283.89,1017.48 1319.93,1017.48 1355.98,926.844 1392.03,869.519 1428.07,864.717 \n",
       "  1464.12,838.006 1500.17,772.878 1536.21,772.878 1572.26,772.878 1608.31,688.242 1644.35,732.961 1680.4,737.763 1716.45,814.896 1752.49,722.757 1788.54,722.757 \n",
       "  1824.59,722.757 1860.63,762.073 1896.68,803.191 1932.73,840.407 1968.77,849.411 2004.82,844.609 2040.87,844.609 2076.91,844.609 2112.96,919.941 2149.01,1063.4 \n",
       "  2185.05,1245.28 2221.1,1308.31 2257.15,1384.24 2293.19,1384.24 2329.24,1384.24 2365.29,1262.99 2401.33,1083.81 2437.38,885.126 2473.43,827.201 2509.47,846.109 \n",
       "  2545.52,846.109 2581.57,846.109 2617.61,395.317 2653.66,531.875 2689.71,497.661 2725.75,581.997 2761.8,507.865 2797.85,507.865 2833.89,507.865 2869.94,386.313 \n",
       "  2905.99,413.925 2942.03,396.218 2978.08,518.07 3014.13,534.577 3050.17,534.577 3086.22,534.577 3122.27,475.151 3158.31,340.394 3194.36,357.801 3230.4,357.801 \n",
       "  3266.45,371.007 3302.5,371.007 3338.54,371.007 3374.59,419.027 3410.64,350.598 3446.68,404.621 3482.73,342.195 3518.78,310.081 3554.82,310.081 3590.87,310.081 \n",
       "  3626.92,310.081 3662.96,310.081 3699.01,310.081 3735.06,310.081 3771.1,310.081 \n",
       "  \"/>\n",
       "<polyline clip-path=\"url(#clip9702)\" style=\"stroke:#e26f46; stroke-width:4; stroke-opacity:1; fill:none\" points=\"\n",
       "  382.721,993.172 418.768,998.574 454.814,953.555 490.861,1129.13 526.908,1130.33 562.954,1131.23 599.001,1109.62 635.048,1002.78 671.094,1101.52 707.141,1222.47 \n",
       "  743.187,1250.98 779.234,1240.48 815.281,1230.27 851.327,1241.38 887.374,1154.94 923.421,1190.06 959.467,1244.08 995.514,1179.25 1031.56,1181.05 1067.61,1186.15 \n",
       "  1103.65,1097.92 1139.7,1097.62 1175.75,1023.18 1211.79,984.168 1247.84,1063.1 1283.89,1058.3 1319.93,1053.8 1355.98,994.672 1392.03,1003.38 1428.07,1010.58 \n",
       "  1464.12,977.865 1500.17,947.852 1536.21,934.347 1572.26,925.943 1608.31,660.93 1644.35,638.421 1680.4,722.757 1716.45,767.176 1752.49,745.566 1788.54,741.665 \n",
       "  1824.59,736.262 1860.63,765.675 1896.68,809.494 1932.73,816.697 1968.77,834.704 2004.82,872.52 2040.87,859.315 2076.91,844.909 2112.96,835.305 2149.01,794.187 \n",
       "  2185.05,870.119 2221.1,833.804 2257.15,997.073 2293.19,1002.48 2329.24,1008.18 2365.29,961.658 2401.33,942.45 2437.38,803.491 2473.43,677.137 2509.47,690.043 \n",
       "  2545.52,689.442 2581.57,690.943 2617.61,593.702 2653.66,720.956 2689.71,639.321 2725.75,601.805 2761.8,625.515 2797.85,612.91 2833.89,605.107 2869.94,543.28 \n",
       "  2905.99,549.883 2942.03,572.693 2978.08,576.294 3014.13,583.197 3050.17,572.693 3086.22,565.49 3122.27,589.8 3158.31,624.915 3194.36,568.491 3230.4,544.481 \n",
       "  3266.45,496.46 3302.5,460.445 3338.54,427.431 3374.59,281.269 3410.64,251.256 3446.68,225.745 3482.73,194.532 3518.78,205.937 3554.82,188.829 3590.87,171.422 \n",
       "  3626.92,152.514 3662.96,130.605 3699.01,118.299 3735.06,103.593 3771.1,86.1857 \n",
       "  \"/>\n",
       "<polyline clip-path=\"url(#clip9702)\" style=\"stroke:#3da44d; stroke-width:4; stroke-opacity:1; fill:none\" points=\"\n",
       "  3608.89,2799.12 3608.89,-1328.69 \n",
       "  \"/>\n",
       "<path clip-path=\"url(#clip9700)\" d=\"\n",
       "M3044.85 1187.98 L3755.16 1187.98 L3755.16 946.06 L3044.85 946.06  Z\n",
       "  \" fill=\"#ffffff\" fill-rule=\"evenodd\" fill-opacity=\"1\"/>\n",
       "<polyline clip-path=\"url(#clip9700)\" style=\"stroke:#000000; stroke-width:4; stroke-opacity:1; fill:none\" points=\"\n",
       "  3044.85,1187.98 3755.16,1187.98 3755.16,946.06 3044.85,946.06 3044.85,1187.98 \n",
       "  \"/>\n",
       "<polyline clip-path=\"url(#clip9700)\" style=\"stroke:#009af9; stroke-width:4; stroke-opacity:1; fill:none\" points=\"\n",
       "  3084.05,1006.54 3319.25,1006.54 \n",
       "  \"/>\n",
       "<path clip-path=\"url(#clip9700)\" d=\"M 0 0 M3363.12 993.102 L3363.12 1019.98 L3368.77 1019.98 Q3375.92 1019.98 3379.23 1016.74 Q3382.57 1013.5 3382.57 1006.51 Q3382.57 999.561 3379.23 996.343 Q3375.92 993.102 3368.77 993.102 L3363.12 993.102 M3358.45 989.26 L3368.05 989.26 Q3378.1 989.26 3382.8 993.45 Q3387.5 997.616 3387.5 1006.51 Q3387.5 1015.44 3382.78 1019.63 Q3378.05 1023.82 3368.05 1023.82 L3358.45 1023.82 L3358.45 989.26 Z\" fill=\"#000000\" fill-rule=\"evenodd\" fill-opacity=\"1\" /><path clip-path=\"url(#clip9700)\" d=\"M 0 0 M3392.15 989.26 L3396.83 989.26 L3396.83 1021.41 Q3396.83 1027.66 3394.44 1030.49 Q3392.08 1033.31 3386.83 1033.31 L3385.04 1033.31 L3385.04 1029.38 L3386.5 1029.38 Q3389.6 1029.38 3390.88 1027.64 Q3392.15 1025.9 3392.15 1021.41 L3392.15 989.26 Z\" fill=\"#000000\" fill-rule=\"evenodd\" fill-opacity=\"1\" /><path clip-path=\"url(#clip9700)\" d=\"M 0 0 M3401.48 989.26 L3406.16 989.26 L3406.16 1023.82 L3401.48 1023.82 L3401.48 989.26 Z\" fill=\"#000000\" fill-rule=\"evenodd\" fill-opacity=\"1\" /><path clip-path=\"url(#clip9700)\" d=\"M 0 0 M3422.36 993.866 L3416.02 1011.07 L3428.72 1011.07 L3422.36 993.866 M3419.72 989.26 L3425.02 989.26 L3438.19 1023.82 L3433.33 1023.82 L3430.18 1014.95 L3414.6 1014.95 L3411.46 1023.82 L3406.53 1023.82 L3419.72 989.26 Z\" fill=\"#000000\" fill-rule=\"evenodd\" fill-opacity=\"1\" /><path clip-path=\"url(#clip9700)\" d=\"M 0 0 M3462.36 1031.69 L3462.36 1035 L3437.73 1035 L3437.73 1031.69 L3462.36 1031.69 Z\" fill=\"#000000\" fill-rule=\"evenodd\" fill-opacity=\"1\" /><path clip-path=\"url(#clip9700)\" d=\"M 0 0 M3481.04 992.431 Q3475.95 992.431 3472.94 996.227 Q3469.95 1000.02 3469.95 1006.57 Q3469.95 1013.1 3472.94 1016.9 Q3475.95 1020.69 3481.04 1020.69 Q3486.13 1020.69 3489.09 1016.9 Q3492.08 1013.1 3492.08 1006.57 Q3492.08 1000.02 3489.09 996.227 Q3486.13 992.431 3481.04 992.431 M3481.04 988.635 Q3488.31 988.635 3492.66 993.519 Q3497.01 998.38 3497.01 1006.57 Q3497.01 1014.75 3492.66 1019.63 Q3488.31 1024.49 3481.04 1024.49 Q3473.75 1024.49 3469.37 1019.63 Q3465.02 1014.77 3465.02 1006.57 Q3465.02 998.38 3469.37 993.519 Q3473.75 988.635 3481.04 988.635 Z\" fill=\"#000000\" fill-rule=\"evenodd\" fill-opacity=\"1\" /><path clip-path=\"url(#clip9700)\" d=\"M 0 0 M3516.5 1001.88 Q3515.78 1001.46 3514.93 1001.27 Q3514.09 1001.07 3513.08 1001.07 Q3509.47 1001.07 3507.52 1003.43 Q3505.6 1005.76 3505.6 1010.16 L3505.6 1023.82 L3501.32 1023.82 L3501.32 997.894 L3505.6 997.894 L3505.6 1001.92 Q3506.94 999.561 3509.09 998.426 Q3511.25 997.269 3514.33 997.269 Q3514.77 997.269 3515.3 997.339 Q3515.83 997.385 3516.48 997.501 L3516.5 1001.88 Z\" fill=\"#000000\" fill-rule=\"evenodd\" fill-opacity=\"1\" /><path clip-path=\"url(#clip9700)\" d=\"M 0 0 M3520.97 997.894 L3525.23 997.894 L3525.23 1023.82 L3520.97 1023.82 L3520.97 997.894 M3520.97 987.802 L3525.23 987.802 L3525.23 993.195 L3520.97 993.195 L3520.97 987.802 Z\" fill=\"#000000\" fill-rule=\"evenodd\" fill-opacity=\"1\" /><path clip-path=\"url(#clip9700)\" d=\"M 0 0 M3546.76 1010.56 Q3546.76 1005.93 3544.84 1003.38 Q3542.94 1000.83 3539.49 1000.83 Q3536.06 1000.83 3534.14 1003.38 Q3532.24 1005.93 3532.24 1010.56 Q3532.24 1015.16 3534.14 1017.71 Q3536.06 1020.26 3539.49 1020.26 Q3542.94 1020.26 3544.84 1017.71 Q3546.76 1015.16 3546.76 1010.56 M3551.02 1020.6 Q3551.02 1027.22 3548.08 1030.44 Q3545.14 1033.68 3539.07 1033.68 Q3536.83 1033.68 3534.84 1033.33 Q3532.84 1033.01 3530.97 1032.32 L3530.97 1028.17 Q3532.84 1029.19 3534.67 1029.68 Q3536.5 1030.16 3538.4 1030.16 Q3542.59 1030.16 3544.67 1027.96 Q3546.76 1025.79 3546.76 1021.37 L3546.76 1019.26 Q3545.44 1021.55 3543.38 1022.69 Q3541.32 1023.82 3538.45 1023.82 Q3533.68 1023.82 3530.76 1020.19 Q3527.84 1016.55 3527.84 1010.56 Q3527.84 1004.54 3530.76 1000.9 Q3533.68 997.269 3538.45 997.269 Q3541.32 997.269 3543.38 998.403 Q3545.44 999.538 3546.76 1001.83 L3546.76 997.894 L3551.02 997.894 L3551.02 1020.6 Z\" fill=\"#000000\" fill-rule=\"evenodd\" fill-opacity=\"1\" /><path clip-path=\"url(#clip9700)\" d=\"M 0 0 M3555.48 997.894 L3559.74 997.894 L3559.74 1023.82 L3555.48 1023.82 L3555.48 997.894 M3555.48 987.802 L3559.74 987.802 L3559.74 993.195 L3555.48 993.195 L3555.48 987.802 Z\" fill=\"#000000\" fill-rule=\"evenodd\" fill-opacity=\"1\" /><path clip-path=\"url(#clip9700)\" d=\"M 0 0 M3585.76 1008.17 L3585.76 1023.82 L3581.5 1023.82 L3581.5 1008.31 Q3581.5 1004.63 3580.07 1002.8 Q3578.63 1000.97 3575.76 1000.97 Q3572.31 1000.97 3570.32 1003.17 Q3568.33 1005.37 3568.33 1009.17 L3568.33 1023.82 L3564.05 1023.82 L3564.05 997.894 L3568.33 997.894 L3568.33 1001.92 Q3569.86 999.584 3571.92 998.426 Q3574 997.269 3576.71 997.269 Q3581.18 997.269 3583.47 1000.05 Q3585.76 1002.8 3585.76 1008.17 Z\" fill=\"#000000\" fill-rule=\"evenodd\" fill-opacity=\"1\" /><path clip-path=\"url(#clip9700)\" d=\"M 0 0 M3602.01 1010.79 Q3596.85 1010.79 3594.86 1011.97 Q3592.87 1013.15 3592.87 1016 Q3592.87 1018.26 3594.35 1019.61 Q3595.85 1020.93 3598.42 1020.93 Q3601.96 1020.93 3604.09 1018.43 Q3606.25 1015.9 3606.25 1011.74 L3606.25 1010.79 L3602.01 1010.79 M3610.51 1009.03 L3610.51 1023.82 L3606.25 1023.82 L3606.25 1019.88 Q3604.79 1022.25 3602.61 1023.38 Q3600.44 1024.49 3597.29 1024.49 Q3593.31 1024.49 3590.95 1022.27 Q3588.61 1020.02 3588.61 1016.27 Q3588.61 1011.9 3591.52 1009.68 Q3594.46 1007.45 3600.27 1007.45 L3606.25 1007.45 L3606.25 1007.04 Q3606.25 1004.1 3604.3 1002.5 Q3602.38 1000.88 3598.89 1000.88 Q3596.66 1000.88 3594.56 1001.41 Q3592.45 1001.94 3590.51 1003.01 L3590.51 999.075 Q3592.84 998.172 3595.04 997.732 Q3597.24 997.269 3599.33 997.269 Q3604.95 997.269 3607.73 1000.19 Q3610.51 1003.1 3610.51 1009.03 Z\" fill=\"#000000\" fill-rule=\"evenodd\" fill-opacity=\"1\" /><path clip-path=\"url(#clip9700)\" d=\"M 0 0 M3614.97 987.802 L3619.23 987.802 L3619.23 1023.82 L3614.97 1023.82 L3614.97 987.802 Z\" fill=\"#000000\" fill-rule=\"evenodd\" fill-opacity=\"1\" /><polyline clip-path=\"url(#clip9700)\" style=\"stroke:#e26f46; stroke-width:4; stroke-opacity:1; fill:none\" points=\"\n",
       "  3084.05,1067.02 3319.25,1067.02 \n",
       "  \"/>\n",
       "<path clip-path=\"url(#clip9700)\" d=\"M 0 0 M3362.73 1080.41 L3362.73 1094.16 L3358.45 1094.16 L3358.45 1058.37 L3362.73 1058.37 L3362.73 1062.31 Q3364.07 1059.99 3366.11 1058.88 Q3368.17 1057.75 3371.02 1057.75 Q3375.74 1057.75 3378.68 1061.5 Q3381.64 1065.25 3381.64 1071.36 Q3381.64 1077.47 3378.68 1081.22 Q3375.74 1084.97 3371.02 1084.97 Q3368.17 1084.97 3366.11 1083.86 Q3364.07 1082.73 3362.73 1080.41 M3377.22 1071.36 Q3377.22 1066.66 3375.28 1064 Q3373.35 1061.31 3369.98 1061.31 Q3366.6 1061.31 3364.65 1064 Q3362.73 1066.66 3362.73 1071.36 Q3362.73 1076.06 3364.65 1078.74 Q3366.6 1081.41 3369.98 1081.41 Q3373.35 1081.41 3375.28 1078.74 Q3377.22 1076.06 3377.22 1071.36 Z\" fill=\"#000000\" fill-rule=\"evenodd\" fill-opacity=\"1\" /><path clip-path=\"url(#clip9700)\" d=\"M 0 0 M3401.13 1062.36 Q3400.41 1061.94 3399.56 1061.75 Q3398.72 1061.55 3397.71 1061.55 Q3394.1 1061.55 3392.15 1063.91 Q3390.23 1066.24 3390.23 1070.64 L3390.23 1084.3 L3385.95 1084.3 L3385.95 1058.37 L3390.23 1058.37 L3390.23 1062.4 Q3391.57 1060.04 3393.73 1058.91 Q3395.88 1057.75 3398.96 1057.75 Q3399.4 1057.75 3399.93 1057.82 Q3400.46 1057.86 3401.11 1057.98 L3401.13 1062.36 Z\" fill=\"#000000\" fill-rule=\"evenodd\" fill-opacity=\"1\" /><path clip-path=\"url(#clip9700)\" d=\"M 0 0 M3426.73 1070.27 L3426.73 1072.36 L3407.15 1072.36 Q3407.43 1076.75 3409.79 1079.07 Q3412.17 1081.36 3416.41 1081.36 Q3418.86 1081.36 3421.16 1080.76 Q3423.47 1080.16 3425.74 1078.95 L3425.74 1082.98 Q3423.45 1083.95 3421.04 1084.46 Q3418.63 1084.97 3416.16 1084.97 Q3409.95 1084.97 3406.32 1081.36 Q3402.71 1077.75 3402.71 1071.59 Q3402.71 1065.23 3406.13 1061.5 Q3409.58 1057.75 3415.41 1057.75 Q3420.65 1057.75 3423.68 1061.13 Q3426.73 1064.49 3426.73 1070.27 M3422.47 1069.02 Q3422.43 1065.53 3420.51 1063.44 Q3418.61 1061.36 3415.46 1061.36 Q3411.9 1061.36 3409.74 1063.37 Q3407.61 1065.39 3407.29 1069.05 L3422.47 1069.02 Z\" fill=\"#000000\" fill-rule=\"evenodd\" fill-opacity=\"1\" /><path clip-path=\"url(#clip9700)\" d=\"M 0 0 M3448.26 1062.31 L3448.26 1048.28 L3452.52 1048.28 L3452.52 1084.3 L3448.26 1084.3 L3448.26 1080.41 Q3446.92 1082.73 3444.86 1083.86 Q3442.82 1084.97 3439.95 1084.97 Q3435.25 1084.97 3432.29 1081.22 Q3429.35 1077.47 3429.35 1071.36 Q3429.35 1065.25 3432.29 1061.5 Q3435.25 1057.75 3439.95 1057.75 Q3442.82 1057.75 3444.86 1058.88 Q3446.92 1059.99 3448.26 1062.31 M3433.75 1071.36 Q3433.75 1076.06 3435.67 1078.74 Q3437.61 1081.41 3440.99 1081.41 Q3444.37 1081.41 3446.32 1078.74 Q3448.26 1076.06 3448.26 1071.36 Q3448.26 1066.66 3446.32 1064 Q3444.37 1061.31 3440.99 1061.31 Q3437.61 1061.31 3435.67 1064 Q3433.75 1066.66 3433.75 1071.36 Z\" fill=\"#000000\" fill-rule=\"evenodd\" fill-opacity=\"1\" /><path clip-path=\"url(#clip9700)\" d=\"M 0 0 M3456.99 1058.37 L3461.25 1058.37 L3461.25 1084.3 L3456.99 1084.3 L3456.99 1058.37 M3456.99 1048.28 L3461.25 1048.28 L3461.25 1053.68 L3456.99 1053.68 L3456.99 1048.28 Z\" fill=\"#000000\" fill-rule=\"evenodd\" fill-opacity=\"1\" /><path clip-path=\"url(#clip9700)\" d=\"M 0 0 M3469.93 1051.01 L3469.93 1058.37 L3478.7 1058.37 L3478.7 1061.68 L3469.93 1061.68 L3469.93 1075.76 Q3469.93 1078.93 3470.78 1079.83 Q3471.66 1080.74 3474.33 1080.74 L3478.7 1080.74 L3478.7 1084.3 L3474.33 1084.3 Q3469.4 1084.3 3467.52 1082.47 Q3465.65 1080.62 3465.65 1075.76 L3465.65 1061.68 L3462.52 1061.68 L3462.52 1058.37 L3465.65 1058.37 L3465.65 1051.01 L3469.93 1051.01 Z\" fill=\"#000000\" fill-rule=\"evenodd\" fill-opacity=\"1\" /><path clip-path=\"url(#clip9700)\" d=\"M 0 0 M3483.17 1058.37 L3487.43 1058.37 L3487.43 1084.3 L3483.17 1084.3 L3483.17 1058.37 M3483.17 1048.28 L3487.43 1048.28 L3487.43 1053.68 L3483.17 1053.68 L3483.17 1048.28 Z\" fill=\"#000000\" fill-rule=\"evenodd\" fill-opacity=\"1\" /><path clip-path=\"url(#clip9700)\" d=\"M 0 0 M3501.94 1061.36 Q3498.52 1061.36 3496.53 1064.05 Q3494.53 1066.71 3494.53 1071.36 Q3494.53 1076.01 3496.5 1078.7 Q3498.49 1081.36 3501.94 1081.36 Q3505.34 1081.36 3507.34 1078.67 Q3509.33 1075.99 3509.33 1071.36 Q3509.33 1066.75 3507.34 1064.07 Q3505.34 1061.36 3501.94 1061.36 M3501.94 1057.75 Q3507.5 1057.75 3510.67 1061.36 Q3513.84 1064.97 3513.84 1071.36 Q3513.84 1077.73 3510.67 1081.36 Q3507.5 1084.97 3501.94 1084.97 Q3496.36 1084.97 3493.19 1081.36 Q3490.04 1077.73 3490.04 1071.36 Q3490.04 1064.97 3493.19 1061.36 Q3496.36 1057.75 3501.94 1057.75 Z\" fill=\"#000000\" fill-rule=\"evenodd\" fill-opacity=\"1\" /><path clip-path=\"url(#clip9700)\" d=\"M 0 0 M3539.86 1068.65 L3539.86 1084.3 L3535.6 1084.3 L3535.6 1068.79 Q3535.6 1065.11 3534.16 1063.28 Q3532.73 1061.45 3529.86 1061.45 Q3526.41 1061.45 3524.42 1063.65 Q3522.43 1065.85 3522.43 1069.65 L3522.43 1084.3 L3518.15 1084.3 L3518.15 1058.37 L3522.43 1058.37 L3522.43 1062.4 Q3523.96 1060.06 3526.02 1058.91 Q3528.1 1057.75 3530.81 1057.75 Q3535.28 1057.75 3537.57 1060.53 Q3539.86 1063.28 3539.86 1068.65 Z\" fill=\"#000000\" fill-rule=\"evenodd\" fill-opacity=\"1\" /><path clip-path=\"url(#clip9700)\" d=\"M 0 0 M3560.85 1059.14 L3560.85 1063.17 Q3559.05 1062.24 3557.1 1061.78 Q3555.16 1061.31 3553.08 1061.31 Q3549.9 1061.31 3548.31 1062.29 Q3546.73 1063.26 3546.73 1065.2 Q3546.73 1066.68 3547.87 1067.54 Q3549 1068.37 3552.43 1069.14 L3553.89 1069.46 Q3558.42 1070.43 3560.32 1072.22 Q3562.24 1073.98 3562.24 1077.15 Q3562.24 1080.76 3559.37 1082.86 Q3556.53 1084.97 3551.53 1084.97 Q3549.44 1084.97 3547.17 1084.55 Q3544.93 1084.16 3542.43 1083.35 L3542.43 1078.95 Q3544.79 1080.18 3547.08 1080.8 Q3549.37 1081.41 3551.62 1081.41 Q3554.63 1081.41 3556.25 1080.39 Q3557.87 1079.35 3557.87 1077.47 Q3557.87 1075.74 3556.69 1074.81 Q3555.53 1073.88 3551.57 1073.03 L3550.09 1072.68 Q3546.13 1071.85 3544.37 1070.13 Q3542.61 1068.4 3542.61 1065.39 Q3542.61 1061.73 3545.21 1059.74 Q3547.8 1057.75 3552.57 1057.75 Q3554.93 1057.75 3557.01 1058.1 Q3559.09 1058.44 3560.85 1059.14 Z\" fill=\"#000000\" fill-rule=\"evenodd\" fill-opacity=\"1\" /><polyline clip-path=\"url(#clip9700)\" style=\"stroke:#3da44d; stroke-width:4; stroke-opacity:1; fill:none\" points=\"\n",
       "  3084.05,1127.5 3319.25,1127.5 \n",
       "  \"/>\n",
       "<path clip-path=\"url(#clip9700)\" d=\"M 0 0 M3365.85 1111.49 L3365.85 1118.85 L3374.63 1118.85 L3374.63 1122.16 L3365.85 1122.16 L3365.85 1136.24 Q3365.85 1139.41 3366.71 1140.31 Q3367.59 1141.22 3370.25 1141.22 L3374.63 1141.22 L3374.63 1144.78 L3370.25 1144.78 Q3365.32 1144.78 3363.45 1142.95 Q3361.57 1141.1 3361.57 1136.24 L3361.57 1122.16 L3358.45 1122.16 L3358.45 1118.85 L3361.57 1118.85 L3361.57 1111.49 L3365.85 1111.49 Z\" fill=\"#000000\" fill-rule=\"evenodd\" fill-opacity=\"1\" /><path clip-path=\"url(#clip9700)\" d=\"M 0 0 M3389.14 1121.84 Q3385.72 1121.84 3383.73 1124.53 Q3381.73 1127.19 3381.73 1131.84 Q3381.73 1136.49 3383.7 1139.18 Q3385.69 1141.84 3389.14 1141.84 Q3392.54 1141.84 3394.54 1139.15 Q3396.53 1136.47 3396.53 1131.84 Q3396.53 1127.23 3394.54 1124.55 Q3392.54 1121.84 3389.14 1121.84 M3389.14 1118.23 Q3394.7 1118.23 3397.87 1121.84 Q3401.04 1125.45 3401.04 1131.84 Q3401.04 1138.21 3397.87 1141.84 Q3394.7 1145.45 3389.14 1145.45 Q3383.56 1145.45 3380.39 1141.84 Q3377.24 1138.21 3377.24 1131.84 Q3377.24 1125.45 3380.39 1121.84 Q3383.56 1118.23 3389.14 1118.23 Z\" fill=\"#000000\" fill-rule=\"evenodd\" fill-opacity=\"1\" /><path clip-path=\"url(#clip9700)\" d=\"M 0 0 M3422.57 1122.79 L3422.57 1108.76 L3426.83 1108.76 L3426.83 1144.78 L3422.57 1144.78 L3422.57 1140.89 Q3421.22 1143.21 3419.16 1144.34 Q3417.13 1145.45 3414.26 1145.45 Q3409.56 1145.45 3406.6 1141.7 Q3403.66 1137.95 3403.66 1131.84 Q3403.66 1125.73 3406.6 1121.98 Q3409.56 1118.23 3414.26 1118.23 Q3417.13 1118.23 3419.16 1119.36 Q3421.22 1120.47 3422.57 1122.79 M3408.05 1131.84 Q3408.05 1136.54 3409.97 1139.22 Q3411.92 1141.89 3415.3 1141.89 Q3418.68 1141.89 3420.62 1139.22 Q3422.57 1136.54 3422.57 1131.84 Q3422.57 1127.14 3420.62 1124.48 Q3418.68 1121.79 3415.3 1121.79 Q3411.92 1121.79 3409.97 1124.48 Q3408.05 1127.14 3408.05 1131.84 Z\" fill=\"#000000\" fill-rule=\"evenodd\" fill-opacity=\"1\" /><path clip-path=\"url(#clip9700)\" d=\"M 0 0 M3443.08 1131.75 Q3437.91 1131.75 3435.92 1132.93 Q3433.93 1134.11 3433.93 1136.96 Q3433.93 1139.22 3435.41 1140.57 Q3436.92 1141.89 3439.49 1141.89 Q3443.03 1141.89 3445.16 1139.39 Q3447.31 1136.86 3447.31 1132.7 L3447.31 1131.75 L3443.08 1131.75 M3451.57 1129.99 L3451.57 1144.78 L3447.31 1144.78 L3447.31 1140.84 Q3445.85 1143.21 3443.68 1144.34 Q3441.5 1145.45 3438.35 1145.45 Q3434.37 1145.45 3432.01 1143.23 Q3429.67 1140.98 3429.67 1137.23 Q3429.67 1132.86 3432.59 1130.64 Q3435.53 1128.41 3441.34 1128.41 L3447.31 1128.41 L3447.31 1128 Q3447.31 1125.06 3445.37 1123.46 Q3443.45 1121.84 3439.95 1121.84 Q3437.73 1121.84 3435.62 1122.37 Q3433.52 1122.9 3431.57 1123.97 L3431.57 1120.03 Q3433.91 1119.13 3436.11 1118.69 Q3438.31 1118.23 3440.39 1118.23 Q3446.02 1118.23 3448.79 1121.15 Q3451.57 1124.06 3451.57 1129.99 Z\" fill=\"#000000\" fill-rule=\"evenodd\" fill-opacity=\"1\" /><path clip-path=\"url(#clip9700)\" d=\"M 0 0 M3466.83 1147.19 Q3465.02 1151.82 3463.31 1153.23 Q3461.6 1154.64 3458.72 1154.64 L3455.32 1154.64 L3455.32 1151.08 L3457.82 1151.08 Q3459.58 1151.08 3460.55 1150.24 Q3461.53 1149.41 3462.71 1146.31 L3463.47 1144.36 L3452.98 1118.85 L3457.5 1118.85 L3465.6 1139.13 L3473.7 1118.85 L3478.22 1118.85 L3466.83 1147.19 Z\" fill=\"#000000\" fill-rule=\"evenodd\" fill-opacity=\"1\" /><path clip-path=\"url(#clip9700)\" d=\"M 0 0 M3502.61 1114.06 L3502.61 1140.94 L3508.26 1140.94 Q3515.41 1140.94 3518.72 1137.7 Q3522.06 1134.46 3522.06 1127.47 Q3522.06 1120.52 3518.72 1117.3 Q3515.41 1114.06 3508.26 1114.06 L3502.61 1114.06 M3497.94 1110.22 L3507.54 1110.22 Q3517.59 1110.22 3522.29 1114.41 Q3526.99 1118.58 3526.99 1127.47 Q3526.99 1136.4 3522.27 1140.59 Q3517.54 1144.78 3507.54 1144.78 L3497.94 1144.78 L3497.94 1110.22 Z\" fill=\"#000000\" fill-rule=\"evenodd\" fill-opacity=\"1\" /><path clip-path=\"url(#clip9700)\" d=\"M 0 0 M3553.63 1130.75 L3553.63 1132.84 L3534.05 1132.84 Q3534.33 1137.23 3536.69 1139.55 Q3539.07 1141.84 3543.31 1141.84 Q3545.76 1141.84 3548.05 1141.24 Q3550.37 1140.64 3552.64 1139.43 L3552.64 1143.46 Q3550.34 1144.43 3547.94 1144.94 Q3545.53 1145.45 3543.05 1145.45 Q3536.85 1145.45 3533.22 1141.84 Q3529.6 1138.23 3529.6 1132.07 Q3529.6 1125.71 3533.03 1121.98 Q3536.48 1118.23 3542.31 1118.23 Q3547.54 1118.23 3550.58 1121.61 Q3553.63 1124.97 3553.63 1130.75 M3549.37 1129.5 Q3549.33 1126.01 3547.4 1123.92 Q3545.51 1121.84 3542.36 1121.84 Q3538.79 1121.84 3536.64 1123.85 Q3534.51 1125.87 3534.19 1129.53 L3549.37 1129.5 Z\" fill=\"#000000\" fill-rule=\"evenodd\" fill-opacity=\"1\" /><path clip-path=\"url(#clip9700)\" d=\"M 0 0 M3576.76 1119.85 L3576.76 1123.83 Q3574.95 1122.84 3573.12 1122.35 Q3571.32 1121.84 3569.46 1121.84 Q3565.32 1121.84 3563.03 1124.48 Q3560.74 1127.09 3560.74 1131.84 Q3560.74 1136.59 3563.03 1139.22 Q3565.32 1141.84 3569.46 1141.84 Q3571.32 1141.84 3573.12 1141.35 Q3574.95 1140.84 3576.76 1139.85 L3576.76 1143.78 Q3574.97 1144.62 3573.05 1145.03 Q3571.15 1145.45 3569 1145.45 Q3563.15 1145.45 3559.7 1141.77 Q3556.25 1138.09 3556.25 1131.84 Q3556.25 1125.5 3559.72 1121.86 Q3563.21 1118.23 3569.28 1118.23 Q3571.25 1118.23 3573.12 1118.65 Q3575 1119.04 3576.76 1119.85 Z\" fill=\"#000000\" fill-rule=\"evenodd\" fill-opacity=\"1\" /><path clip-path=\"url(#clip9700)\" d=\"M 0 0 M3581.83 1138.9 L3586.71 1138.9 L3586.71 1144.78 L3581.83 1144.78 L3581.83 1138.9 Z\" fill=\"#000000\" fill-rule=\"evenodd\" fill-opacity=\"1\" /><path clip-path=\"url(#clip9700)\" d=\"M 0 0 M3602.36 1125.64 Q3599.21 1125.64 3597.36 1127.79 Q3595.53 1129.94 3595.53 1133.69 Q3595.53 1137.42 3597.36 1139.59 Q3599.21 1141.75 3602.36 1141.75 Q3605.51 1141.75 3607.33 1139.59 Q3609.19 1137.42 3609.19 1133.69 Q3609.19 1129.94 3607.33 1127.79 Q3605.51 1125.64 3602.36 1125.64 M3611.64 1110.98 L3611.64 1115.24 Q3609.88 1114.41 3608.08 1113.97 Q3606.29 1113.53 3604.53 1113.53 Q3599.9 1113.53 3597.45 1116.65 Q3595.02 1119.78 3594.67 1126.1 Q3596.04 1124.09 3598.1 1123.02 Q3600.16 1121.93 3602.64 1121.93 Q3607.84 1121.93 3610.85 1125.1 Q3613.89 1128.25 3613.89 1133.69 Q3613.89 1139.02 3610.74 1142.23 Q3607.59 1145.45 3602.36 1145.45 Q3596.36 1145.45 3593.19 1140.87 Q3590.02 1136.26 3590.02 1127.53 Q3590.02 1119.34 3593.91 1114.48 Q3597.8 1109.59 3604.35 1109.59 Q3606.11 1109.59 3607.89 1109.94 Q3609.7 1110.29 3611.64 1110.98 Z\" fill=\"#000000\" fill-rule=\"evenodd\" fill-opacity=\"1\" /><path clip-path=\"url(#clip9700)\" d=\"M 0 0 M3619.44 1138.9 L3624.33 1138.9 L3624.33 1142.88 L3620.53 1150.29 L3617.54 1150.29 L3619.44 1142.88 L3619.44 1138.9 Z\" fill=\"#000000\" fill-rule=\"evenodd\" fill-opacity=\"1\" /><path clip-path=\"url(#clip9700)\" d=\"M 0 0 M3633.42 1140.84 L3649.74 1140.84 L3649.74 1144.78 L3627.8 1144.78 L3627.8 1140.84 Q3630.46 1138.09 3635.04 1133.46 Q3639.65 1128.81 3640.83 1127.47 Q3643.08 1124.94 3643.96 1123.21 Q3644.86 1121.45 3644.86 1119.76 Q3644.86 1117 3642.91 1115.27 Q3640.99 1113.53 3637.89 1113.53 Q3635.69 1113.53 3633.24 1114.29 Q3630.81 1115.06 3628.03 1116.61 L3628.03 1111.89 Q3630.85 1110.75 3633.31 1110.17 Q3635.76 1109.59 3637.8 1109.59 Q3643.17 1109.59 3646.36 1112.28 Q3649.56 1114.97 3649.56 1119.46 Q3649.56 1121.59 3648.75 1123.51 Q3647.96 1125.4 3645.85 1128 Q3645.27 1128.67 3642.17 1131.89 Q3639.07 1135.08 3633.42 1140.84 Z\" fill=\"#000000\" fill-rule=\"evenodd\" fill-opacity=\"1\" /><path clip-path=\"url(#clip9700)\" d=\"M 0 0 M3664.81 1113.3 Q3661.2 1113.3 3659.37 1116.86 Q3657.57 1120.4 3657.57 1127.53 Q3657.57 1134.64 3659.37 1138.21 Q3661.2 1141.75 3664.81 1141.75 Q3668.45 1141.75 3670.25 1138.21 Q3672.08 1134.64 3672.08 1127.53 Q3672.08 1120.4 3670.25 1116.86 Q3668.45 1113.3 3664.81 1113.3 M3664.81 1109.59 Q3670.62 1109.59 3673.68 1114.2 Q3676.76 1118.78 3676.76 1127.53 Q3676.76 1136.26 3673.68 1140.87 Q3670.62 1145.45 3664.81 1145.45 Q3659 1145.45 3655.92 1140.87 Q3652.87 1136.26 3652.87 1127.53 Q3652.87 1118.78 3655.92 1114.2 Q3659 1109.59 3664.81 1109.59 Z\" fill=\"#000000\" fill-rule=\"evenodd\" fill-opacity=\"1\" /></svg>\n"
      ]
     },
     "execution_count": 17,
     "metadata": {},
     "output_type": "execute_result"
    }
   ],
   "source": [
    "using Plots\n",
    "\n",
    "#dates = format_dates( df[rows,2] , \"m/d/yy\")\n",
    "\n",
    "gr()\n",
    "plot(    x_axis_dates,\n",
    "        [  y_axis_original y_axis_predicted \n",
    "        ], # y-axis\n",
    "    label    = \n",
    "        [ column_to_predict \"preditions\"  \"\" ],\n",
    "    legend   =:bottomright, \n",
    "              # :right, :left, :top, :bottom, :inside, :best, :legend, :topright, :topleft, :bottomleft, :bottomright\n",
    "    xlabel   = \"time\",\n",
    "    ylabel   = \"value\",\n",
    "    size     = (980, 400), # width, height\n",
    "    layout = (1, 1), # number of graphs: vertically, horizontally\n",
    "    )\n",
    "## Add veritical today line\n",
    "plot!([today_id], seriestype=\"vline\", label=[ \"today \"*t \"\" ],)"
   ]
  },
  {
   "cell_type": "code",
   "execution_count": 18,
   "metadata": {
    "ExecuteTime": {
     "end_time": "2020-12-06T20:14:10.334000-05:00",
     "start_time": "2020-12-07T01:13:17.416Z"
    }
   },
   "outputs": [],
   "source": [
    "savefig(\"../../predictions.png\")"
   ]
  },
  {
   "cell_type": "code",
   "execution_count": 19,
   "metadata": {
    "ExecuteTime": {
     "end_time": "2020-12-06T20:14:10.388000-05:00",
     "start_time": "2020-12-07T01:13:17.419Z"
    }
   },
   "outputs": [],
   "source": [
    "savefig(\"../../predictions_\" * column_to_predict * \".png\")"
   ]
  },
  {
   "cell_type": "code",
   "execution_count": 20,
   "metadata": {
    "ExecuteTime": {
     "end_time": "2020-12-06T20:14:10.618000-05:00",
     "start_time": "2020-12-07T01:13:17.424Z"
    }
   },
   "outputs": [
    {
     "name": "stdout",
     "output_type": "stream",
     "text": [
      "Tue, Dec. 01, 2020\t predicted 30414.0\t, but actual value was \t30083.0\t difference is -331.0\n",
      "Wed, Dec. 02, 2020\t predicted 30499.0\t, but actual value was \t29903.0\t difference is -596.0\n",
      "Thu, Dec. 03, 2020\t predicted 30603.0\t, but actual value was \t30111.0\t difference is -492.0\n",
      "Fri, Dec. 04, 2020\t predicted 30565.0\t, but actual value was \t30218.0\t difference is -347.0\n",
      "Sat, Dec. 05, 2020\t predicted 30622.0\t, but actual value was \t30218.0\t difference is -404.0\n",
      "Sun, Dec. 06, 2020\t predicted 30680.0\n",
      "Mon, Dec. 07, 2020\t predicted 30743.0\n"
     ]
    }
   ],
   "source": [
    "## print prediction comparisons\n",
    "#println(today_id)\n",
    "\n",
    "for id in finem-10:finem\n",
    "    if id < today_id + 2\n",
    "        row = get(data_predictions, id) # get a dictionary of data from the SFrame\n",
    "        date_string = row[\"Date\"] # e.g. \"2020-10-20\"\n",
    "        \n",
    "        a = y_axis_predicted[id]\n",
    "        b = y_axis_original[id]\n",
    "        d = round(b-a, digits=3)\n",
    "        date = convert(String, Dates.format( Date(date_string), \"e, u. dd, yyyy\" ) )\n",
    "        if id < today_id\n",
    "            println( date, \"\\t predicted \", a , \"\\t, but actual value was \\t\", b , \"\\t difference is \",  d  ) # di\n",
    "        else\n",
    "            println( date, \"\\t predicted \", a  ) # di\n",
    "        end # if\n",
    "    end #if \n",
    "end"
   ]
  },
  {
   "cell_type": "code",
   "execution_count": null,
   "metadata": {},
   "outputs": [],
   "source": []
  }
 ],
 "metadata": {
  "kernelspec": {
   "display_name": "Julia 1.5.1",
   "language": "julia",
   "name": "julia-1.5"
  },
  "language_info": {
   "file_extension": ".jl",
   "mimetype": "application/julia",
   "name": "julia",
   "version": "1.5.1"
  },
  "toc": {
   "base_numbering": 1,
   "nav_menu": {},
   "number_sections": true,
   "sideBar": true,
   "skip_h1_title": true,
   "title_cell": "Table of Contents",
   "title_sidebar": "Contents",
   "toc_cell": true,
   "toc_position": {},
   "toc_section_display": true,
   "toc_window_display": true
  },
  "varInspector": {
   "cols": {
    "lenName": 16,
    "lenType": 16,
    "lenVar": 40
   },
   "kernels_config": {
    "python": {
     "delete_cmd_postfix": "",
     "delete_cmd_prefix": "del ",
     "library": "var_list.py",
     "varRefreshCmd": "print(var_dic_list())"
    },
    "r": {
     "delete_cmd_postfix": ") ",
     "delete_cmd_prefix": "rm(",
     "library": "var_list.r",
     "varRefreshCmd": "cat(var_dic_list()) "
    }
   },
   "types_to_exclude": [
    "module",
    "function",
    "builtin_function_or_method",
    "instance",
    "_Feature"
   ],
   "window_display": false
  }
 },
 "nbformat": 4,
 "nbformat_minor": 4
}
