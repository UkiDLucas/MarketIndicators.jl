{
 "cells": [
  {
   "cell_type": "markdown",
   "metadata": {},
   "source": [
    "# Prediction Model using TuriCreate in Julia"
   ]
  },
  {
   "cell_type": "markdown",
   "metadata": {
    "toc": true
   },
   "source": [
    "<h1>Table of Contents<span class=\"tocSkip\"></span></h1>\n",
    "<div class=\"toc\"><ul class=\"toc-item\"><li><span><a href=\"#Set-Up\" data-toc-modified-id=\"Set-Up-1\"><span class=\"toc-item-num\">1&nbsp;&nbsp;</span>Set Up</a></span></li><li><span><a href=\"#Fetch-Data-(SFrame)-from-Uber-CSV\" data-toc-modified-id=\"Fetch-Data-(SFrame)-from-Uber-CSV-2\"><span class=\"toc-item-num\">2&nbsp;&nbsp;</span>Fetch Data (SFrame) from Uber CSV</a></span></li><li><span><a href=\"#Split-Data\" data-toc-modified-id=\"Split-Data-3\"><span class=\"toc-item-num\">3&nbsp;&nbsp;</span>Split Data</a></span></li><li><span><a href=\"#Evaluate-the-Model\" data-toc-modified-id=\"Evaluate-the-Model-4\"><span class=\"toc-item-num\">4&nbsp;&nbsp;</span>Evaluate the Model</a></span></li><li><span><a href=\"#Save-/-Export-the-Model\" data-toc-modified-id=\"Save-/-Export-the-Model-5\"><span class=\"toc-item-num\">5&nbsp;&nbsp;</span>Save / Export the Model</a></span></li><li><span><a href=\"#Make-predictions\" data-toc-modified-id=\"Make-predictions-6\"><span class=\"toc-item-num\">6&nbsp;&nbsp;</span>Make predictions</a></span><ul class=\"toc-item\"><li><span><a href=\"#Explore-SFrame\" data-toc-modified-id=\"Explore-SFrame-6.1\"><span class=\"toc-item-num\">6.1&nbsp;&nbsp;</span>Explore SFrame</a></span></li></ul></li></ul></div>"
   ]
  },
  {
   "cell_type": "markdown",
   "metadata": {},
   "source": [
    "## Set Up"
   ]
  },
  {
   "cell_type": "code",
   "execution_count": 1,
   "metadata": {
    "ExecuteTime": {
     "end_time": "2020-12-06T21:41:28.349000-05:00",
     "start_time": "2020-12-07T02:41:23.811Z"
    }
   },
   "outputs": [
    {
     "name": "stdout",
     "output_type": "stream",
     "text": [
      "\n"
     ]
    }
   ],
   "source": [
    "column_to_predict = \"DJIA_Original\"\n",
    "# column_to_predict = \"AAPL_Original\"\n",
    "# column_to_predict = \"VIX_Original\"\n",
    "# column_to_predict = \"NIO_Original\"\n",
    "# column_to_predict = \"NVDA_Original\"\n",
    "\n",
    "## uncomment for the first run\n",
    "# import Pkg\n",
    "# Pkg.add(\"PyCall\")\n",
    "# Pkg.add(\"Conda\")\n",
    "# ENV[\"PYTHON\"] = \"/opt/anaconda3/envs/turi/bin/python\"\n",
    "# /opt/anaconda3/envs/turi/lib/python3.6/site-packages/\n",
    "# Pkg.build(\"PyCall\")\n",
    "\n",
    "include(\"../Julia/functions.jl\") "
   ]
  },
  {
   "cell_type": "code",
   "execution_count": 2,
   "metadata": {
    "ExecuteTime": {
     "end_time": "2020-12-06T21:41:32.956000-05:00",
     "start_time": "2020-12-07T02:41:23.815Z"
    }
   },
   "outputs": [
    {
     "data": {
      "text/plain": [
       "PyObject <module 'turicreate' from '/opt/anaconda3/envs/turi/lib/python3.6/site-packages/turicreate/__init__.py'>"
      ]
     },
     "execution_count": 2,
     "metadata": {},
     "output_type": "execute_result"
    }
   ],
   "source": [
    "using PyCall\n",
    "tc = pyimport(\"turicreate\")"
   ]
  },
  {
   "cell_type": "markdown",
   "metadata": {},
   "source": [
    "## Fetch Data (SFrame) from Uber CSV"
   ]
  },
  {
   "cell_type": "code",
   "execution_count": 3,
   "metadata": {
    "ExecuteTime": {
     "end_time": "2020-12-06T21:41:33.274000-05:00",
     "start_time": "2020-12-07T02:41:23.818Z"
    }
   },
   "outputs": [
    {
     "name": "stdout",
     "output_type": "stream",
     "text": [
      "Finished parsing file /Users/uki/REPOS/MarketIndicators.jl/src/DATA/processed/uber_training.csv\n",
      "Parsing completed. Parsed 100 lines in 0.026401 secs.\n",
      "------------------------------------------------------\n",
      "Inferred types from first 100 line(s) of file as \n",
      "column_type_hints=[int,str,float,float,float,float,float,float,float,float,float,float,float,float,float,float,float,float,float,float,float,float,float,float,float,float,float,float,float,float,float,float,float,float,float,float,float,float,float,float,float,float,float,float,float,float,float,float,float,float,float,float,float,float,float,float,float,float,float,float,float,float,float,float,float,float,float,float,float,float,float,float,float,float,float,float,float,float,float]\n",
      "If parsing fails due to incorrect types, you can correct\n",
      "the inferred type list above and pass it to read_csv in\n",
      "the column_type_hints argument\n",
      "------------------------------------------------------\n",
      "Finished parsing file /Users/uki/REPOS/MarketIndicators.jl/src/DATA/processed/uber_training.csv\n",
      "Parsing completed. Parsed 812 lines in 0.009618 secs.\n",
      "\n"
     ]
    }
   ],
   "source": [
    "data_path=\"../DATA/processed/uber_training.csv\"\n",
    "data = tc.SFrame(data_path)\n",
    "println()"
   ]
  },
  {
   "cell_type": "markdown",
   "metadata": {},
   "source": [
    "## Split Data"
   ]
  },
  {
   "cell_type": "code",
   "execution_count": 4,
   "metadata": {
    "ExecuteTime": {
     "end_time": "2020-12-06T21:41:33.372000-05:00",
     "start_time": "2020-12-07T02:41:23.821Z"
    }
   },
   "outputs": [
    {
     "name": "stdout",
     "output_type": "stream",
     "text": [
      "\n"
     ]
    }
   ],
   "source": [
    "# Make a train-test split\n",
    "train_data, test_data = data.random_split(0.8)\n",
    "println()"
   ]
  },
  {
   "cell_type": "code",
   "execution_count": 5,
   "metadata": {
    "ExecuteTime": {
     "end_time": "2020-12-06T21:41:33.493000-05:00",
     "start_time": "2020-12-07T02:41:23.824Z"
    }
   },
   "outputs": [
    {
     "name": "stdout",
     "output_type": "stream",
     "text": [
      "(650,)\n",
      "(162,)\n"
     ]
    }
   ],
   "source": [
    "println( size(train_data) )\n",
    "println( size(test_data)  )"
   ]
  },
  {
   "cell_type": "code",
   "execution_count": null,
   "metadata": {},
   "outputs": [],
   "source": []
  },
  {
   "cell_type": "code",
   "execution_count": 6,
   "metadata": {
    "ExecuteTime": {
     "end_time": "2020-12-06T21:41:35.375000-05:00",
     "start_time": "2020-12-07T02:41:23.828Z"
    }
   },
   "outputs": [
    {
     "name": "stdout",
     "output_type": "stream",
     "text": [
      "Automatically generating validation set from 5% of the data.\n",
      "Linear regression:\n",
      "--------------------------------------------------------\n",
      "Number of examples          : 618\n",
      "Number of features          : 67\n",
      "Number of unpacked features : 67\n",
      "Number of coefficients    : 68\n",
      "Starting Newton Method\n",
      "--------------------------------------------------------\n",
      "+-----------+----------+--------------+--------------------+----------------------+---------------------------------+-----------------------------------+\n",
      "| Iteration | Passes   | Elapsed Time | Training Max Error | Validation Max Error | Training Root-Mean-Square Error | Validation Root-Mean-Square Error |\n",
      "+-----------+----------+--------------+--------------------+----------------------+---------------------------------+-----------------------------------+\n",
      "| 1         | 2        | 1.019196     | 1131.616268        | 658.158160           | 220.661181                      | 250.088345                        |\n",
      "+-----------+----------+--------------+--------------------+----------------------+---------------------------------+-----------------------------------+\n",
      "SUCCESS: Optimal solution found.\n",
      "\n",
      "Boosted trees regression:\n",
      "--------------------------------------------------------\n",
      "Number of examples          : 618\n",
      "Number of features          : 67\n",
      "Number of unpacked features : 67\n",
      "+-----------+--------------+--------------------+----------------------+---------------------------------+-----------------------------------+\n",
      "| Iteration | Elapsed Time | Training Max Error | Validation Max Error | Training Root-Mean-Square Error | Validation Root-Mean-Square Error |\n",
      "+-----------+--------------+--------------------+----------------------+---------------------------------+-----------------------------------+\n",
      "| 1         | 0.005158     | 21960.328125       | 21403.070312         | 18640.531250                    | 18713.066406                      |\n",
      "| 2         | 0.007342     | 15939.831055       | 15382.571289         | 13083.276367                    | 13077.498047                      |\n",
      "| 3         | 0.008663     | 11809.837891       | 11252.578125         | 9189.246094                     | 9152.324219                       |\n",
      "| 4         | 0.010408     | 8730.271484        | 8173.011719          | 6455.556152                     | 6418.937500                       |\n",
      "| 5         | 0.012286     | 6478.912109        | 5921.652344          | 4537.822754                     | 4519.269043                       |\n",
      "| 10        | 0.023697     | 1859.914062        | 1344.822266          | 819.370239                      | 803.260559                        |\n",
      "+-----------+--------------+--------------------+----------------------+---------------------------------+-----------------------------------+\n"
     ]
    },
    {
     "data": {
      "text/plain": [
       "PyObject Class                          : LinearRegression\n",
       "\n",
       "Schema\n",
       "------\n",
       "Number of coefficients         : 68\n",
       "Number of examples             : 618\n",
       "Number of feature columns      : 67\n",
       "Number of unpacked features    : 67\n",
       "\n",
       "Hyperparameters\n",
       "---------------\n",
       "L1 penalty                     : 0\n",
       "L2 penalty                     : 0.01\n",
       "\n",
       "Training Summary\n",
       "----------------\n",
       "Solver                         : newton\n",
       "Solver iterations              : 1\n",
       "Solver status                  : SUCCESS: Optimal solution found.\n",
       "Training time (sec)            : 1.0267\n",
       "\n",
       "Settings\n",
       "--------\n",
       "Residual sum of squares        : 30091258.3932\n",
       "Training RMSE                  : 220.6612\n",
       "\n",
       "Highest Positive Coefficients\n",
       "-----------------------------\n",
       "(intercept)                    : 23154.9506\n",
       "DJIA_Avg005                    : 95.2819\n",
       "US_GDP_Q_Avg180                : 76.0149\n",
       "AAPL_Avg060                    : 67.899\n",
       "AAPL_Quantized                 : 41.8857\n",
       "\n",
       "Lowest Negative Coefficients\n",
       "----------------------------\n",
       "US_GDP_Q_Avg090                : -46.5461\n",
       "AAPL_Avg005                    : -41.4148\n",
       "NVDA_Avg120                    : -34.3866\n",
       "DJIA_Avg090                    : -32.3793\n",
       "AAPL_Avg120                    : -29.9516\n"
      ]
     },
     "execution_count": 6,
     "metadata": {},
     "output_type": "execute_result"
    }
   ],
   "source": [
    "model = tc.regression.create( \n",
    "    train_data, \n",
    "    target = column_to_predict, \n",
    "    features = [\n",
    "\n",
    "    #\"VIX_Quantized\"\n",
    "    \"VIX_Avg030\"\n",
    "    ,\"VIX_Avg060\"\n",
    "    ,\"VIX_Avg090\"\n",
    "    ,\"VIX_Avg120\"\n",
    "    ,\"VIX_Avg180\"\n",
    "    ,\"VIX_Avg365\"\n",
    "        \n",
    "    ,\"US_ISM_MFC_PMI_Quantized\"\n",
    "    ,\"US_ISM_MFC_PMI_Avg030\"\n",
    "    ,\"US_ISM_MFC_PMI_Avg060\"\n",
    "    ,\"US_ISM_MFC_PMI_Avg090\"\n",
    "    ,\"US_ISM_MFC_PMI_Avg180\"\n",
    "    ,\"US_ISM_MFC_PMI_Avg365\"\n",
    "        \n",
    "\n",
    "    #,\"DJIA_Quantized\"\n",
    "    ,\"DJIA_Avg005\"\n",
    "    ,\"DJIA_Avg030\"\n",
    "    ,\"DJIA_Avg060\"\n",
    "    ,\"DJIA_Avg090\"\n",
    "    ,\"DJIA_Avg120\"\n",
    "    ,\"DJIA_Avg180\"\n",
    "       \n",
    "    ,\"AAPL_Quantized\"\n",
    "    ,\"AAPL_Avg005\"\n",
    "    ,\"AAPL_Avg030\"\n",
    "    ,\"AAPL_Avg060\"\n",
    "    ,\"AAPL_Avg090\"\n",
    "    ,\"AAPL_Avg120\"\n",
    "    ,\"AAPL_Avg180\"\n",
    "\n",
    "    ,\"US_ISM_MFC_EMP_Quantized\"\n",
    "    ,\"US_ISM_MFC_EMP_Avg030\"\n",
    "    ,\"US_ISM_MFC_EMP_Avg060\"\n",
    "    ,\"US_ISM_MFC_EMP_Avg090\"\n",
    "    ,\"US_ISM_MFC_EMP_Avg120\"\n",
    "    ,\"US_ISM_MFC_EMP_Avg180\"\n",
    "    ,\"US_ISM_MFC_EMP_Avg365\"\n",
    "        \n",
    "    ,\"US_INIT_JOBLESS_Quantized\"\n",
    "    ,\"US_INIT_JOBLESS_Avg005\"\n",
    "    ,\"US_INIT_JOBLESS_Avg030\"\n",
    "    ,\"US_INIT_JOBLESS_Avg060\"\n",
    "    ,\"US_INIT_JOBLESS_Avg090\"\n",
    "    ,\"US_INIT_JOBLESS_Avg120\"\n",
    "    ,\"US_INIT_JOBLESS_Avg180\"\n",
    "        \n",
    "    ,\"US_GDP_Q_Quantized\"\n",
    "    ,\"US_GDP_Q_Avg005\"\n",
    "    ,\"US_GDP_Q_Avg030\"\n",
    "    ,\"US_GDP_Q_Avg060\"\n",
    "    ,\"US_GDP_Q_Avg090\"\n",
    "    ,\"US_GDP_Q_Avg120\"\n",
    "    ,\"US_GDP_Q_Avg180\"\n",
    "        \n",
    "\n",
    "    ,\"NIO_Quantized\"\n",
    "    ,\"NIO_Avg005\"\n",
    "    ,\"NIO_Avg030\"\n",
    "    ,\"NIO_Avg060\"\n",
    "    ,\"NIO_Avg090\"\n",
    "    ,\"NIO_Avg120\"\n",
    "    ,\"NIO_Avg180\"\n",
    "        \n",
    "\n",
    "    ,\"NVDA_Quantized\"\n",
    "    ,\"NVDA_Avg005\"\n",
    "    ,\"NVDA_Avg030\"\n",
    "    ,\"NVDA_Avg060\"\n",
    "    ,\"NVDA_Avg090\"\n",
    "    ,\"NVDA_Avg120\"\n",
    "    ,\"NVDA_Avg180\"\n",
    "        \n",
    "\n",
    "    ,\"US_HOUS_STRT_M_Quantized\"\n",
    "    ,\"US_HOUS_STRT_M_Avg005\"\n",
    "    ,\"US_HOUS_STRT_M_Avg030\"\n",
    "    ,\"US_HOUS_STRT_M_Avg060\"\n",
    "    ,\"US_HOUS_STRT_M_Avg090\"\n",
    "    ,\"US_HOUS_STRT_M_Avg120\"\n",
    "    ,\"US_HOUS_STRT_M_Avg180\"\n",
    "    \n",
    "        ], \n",
    "    validation_set=\"auto\", \n",
    "    verbose=true\n",
    ")"
   ]
  },
  {
   "cell_type": "markdown",
   "metadata": {},
   "source": [
    "## Evaluate the Model"
   ]
  },
  {
   "cell_type": "code",
   "execution_count": 7,
   "metadata": {
    "ExecuteTime": {
     "end_time": "2020-12-06T21:41:36.394000-05:00",
     "start_time": "2020-12-07T02:41:23.831Z"
    }
   },
   "outputs": [
    {
     "data": {
      "text/plain": [
       "Dict{Any,Any} with 2 entries:\n",
       "  \"rmse\"      => 231.243\n",
       "  \"max_error\" => 916.186"
      ]
     },
     "execution_count": 7,
     "metadata": {},
     "output_type": "execute_result"
    }
   ],
   "source": [
    "#TODO: write this in a loop to select the best model\n",
    "# Evaluate the model and save the results into a dictionary\n",
    "results = model.evaluate( test_data ) #test_data[0:2531]\n",
    "results"
   ]
  },
  {
   "cell_type": "code",
   "execution_count": 8,
   "metadata": {
    "ExecuteTime": {
     "end_time": "2020-12-06T21:41:36.497000-05:00",
     "start_time": "2020-12-07T02:41:23.834Z"
    }
   },
   "outputs": [
    {
     "name": "stdout",
     "output_type": "stream",
     "text": [
      "max_error: 916.19, rmse: 231.24\n"
     ]
    }
   ],
   "source": [
    "rmse = results[\"rmse\"]\n",
    "rmse = round(rmse, digits=2)\n",
    "\n",
    "max_error = results[\"max_error\"]\n",
    "max_error = round(max_error, digits=2)\n",
    "\n",
    "println( \"max_error: \", max_error, \", rmse: \", rmse )\n",
    "# max_error: 1069.27, rmse: 184.6\n",
    "# max_error: 65.35, rmse: 32.6            predict: ^DJIA added: US_INIT_JOBLESS\n",
    "# max_error: 1875.39, rmse: 443.59        predict: ^DJIA commented out: \"DJIA_Quantized\"\n",
    "# max_error: 1339.76, rmse: 373.94        predict: ^DJIA commented out: \"DJIA_Quantized\""
   ]
  },
  {
   "cell_type": "markdown",
   "metadata": {},
   "source": [
    "## Save / Export the Model"
   ]
  },
  {
   "cell_type": "code",
   "execution_count": 9,
   "metadata": {
    "ExecuteTime": {
     "end_time": "2020-12-06T21:41:36.523000-05:00",
     "start_time": "2020-12-07T02:41:23.837Z"
    }
   },
   "outputs": [],
   "source": [
    "# Export to Core ML\n",
    "model.export_coreml(\"../DATA/models/^DJI.mlmodel\")"
   ]
  },
  {
   "cell_type": "markdown",
   "metadata": {},
   "source": [
    "## Make predictions "
   ]
  },
  {
   "cell_type": "code",
   "execution_count": 10,
   "metadata": {
    "ExecuteTime": {
     "end_time": "2020-12-06T21:41:36.588000-05:00",
     "start_time": "2020-12-07T02:41:23.840Z"
    }
   },
   "outputs": [
    {
     "name": "stdout",
     "output_type": "stream",
     "text": [
      "Finished parsing file /Users/uki/REPOS/MarketIndicators.jl/src/DATA/processed/uber_prediction.csv\n",
      "Parsing completed. Parsed 100 lines in 0.026619 secs.\n",
      "------------------------------------------------------\n",
      "Inferred types from first 100 line(s) of file as \n",
      "column_type_hints=[int,str,float,float,float,float,float,float,float,float,float,float,float,float,float,float,float,float,float,float,float,float,float,float,float,float,float,float,float,float,float,float,float,float,float,float,float,float,float,float,float,float,float,float,float,float,float,float,float,float,float,float,float,float,float,float,float,float,float,float,float,float,float,float,float,float,float,float,float,float,float,float,float,float,float,float,float,float,float]\n",
      "If parsing fails due to incorrect types, you can correct\n",
      "the inferred type list above and pass it to read_csv in\n",
      "the column_type_hints argument\n",
      "------------------------------------------------------\n",
      "Finished parsing file /Users/uki/REPOS/MarketIndicators.jl/src/DATA/processed/uber_prediction.csv\n",
      "Parsing completed. Parsed 120 lines in 0.005768 secs.\n",
      "\n"
     ]
    }
   ],
   "source": [
    "data_path=\"../DATA/processed/uber_prediction.csv\"\n",
    "data_predictions = tc.SFrame(data_path)\n",
    "println()"
   ]
  },
  {
   "cell_type": "code",
   "execution_count": 11,
   "metadata": {
    "ExecuteTime": {
     "end_time": "2020-12-06T21:41:36.874000-05:00",
     "start_time": "2020-12-07T02:41:23.843Z"
    }
   },
   "outputs": [
    {
     "data": {
      "text/plain": [
       "27946.510371039156"
      ]
     },
     "execution_count": 11,
     "metadata": {},
     "output_type": "execute_result"
    }
   ],
   "source": [
    "## Save predictions to an SArray\n",
    "predictions = model.predict(data_predictions)\n",
    "get(predictions, 1)"
   ]
  },
  {
   "cell_type": "markdown",
   "metadata": {},
   "source": [
    "### Explore SFrame"
   ]
  },
  {
   "cell_type": "code",
   "execution_count": 12,
   "metadata": {
    "ExecuteTime": {
     "end_time": "2020-12-06T21:41:36.970000-05:00",
     "start_time": "2020-12-07T02:41:23.847Z"
    }
   },
   "outputs": [
    {
     "name": "stdout",
     "output_type": "stream",
     "text": [
      "record_count data 120\n",
      "record_count predictions 120\n",
      "feature_number 79\n",
      "Rata Die 737794\n",
      "date 2021-01-04\n",
      "original 30218.259766\n"
     ]
    }
   ],
   "source": [
    "record_count = size(data_predictions)[1]\n",
    "row = get(data_predictions, record_count-1)\n",
    "\n",
    "feature_number = row.count\n",
    "day = row[\"Rata_Die\"]\n",
    "date = row[\"Date\"] # \"2020-10-20\"\n",
    "original = row[\"DJIA_Original\"]\n",
    "\n",
    "println( \"record_count data \", record_count )\n",
    "println( \"record_count predictions \", size(predictions)[1] )\n",
    "\n",
    "println( \"feature_number \", feature_number )\n",
    "println( \"Rata Die \", day )\n",
    "println( \"date \", date )\n",
    "println( \"original \", original )"
   ]
  },
  {
   "cell_type": "code",
   "execution_count": 13,
   "metadata": {
    "ExecuteTime": {
     "end_time": "2020-12-06T21:41:38.487000-05:00",
     "start_time": "2020-12-07T02:41:23.850Z"
    }
   },
   "outputs": [
    {
     "data": {
      "text/plain": [
       "737765"
      ]
     },
     "execution_count": 13,
     "metadata": {},
     "output_type": "execute_result"
    }
   ],
   "source": [
    "using Dates\n",
    "today_rata = Dates.datetime2rata( today() )"
   ]
  },
  {
   "cell_type": "code",
   "execution_count": 14,
   "metadata": {
    "ExecuteTime": {
     "end_time": "2020-12-06T21:41:38.508000-05:00",
     "start_time": "2020-12-07T02:41:23.853Z"
    }
   },
   "outputs": [
    {
     "name": "stdout",
     "output_type": "stream",
     "text": [
      "preditions set size: 119, step 6\n"
     ]
    }
   ],
   "source": [
    "## Determine dataset size\n",
    "\n",
    "initio = 1                                              # latin: start\n",
    "finem  = size(predictions)[1] -1                        # latin: end\n",
    "gradus = convert(Int64, round( finem/20, digits=0)  )   # latin: step\n",
    "\n",
    "println(\"preditions set size: \", finem, \", step \", gradus)"
   ]
  },
  {
   "cell_type": "code",
   "execution_count": 15,
   "metadata": {
    "ExecuteTime": {
     "end_time": "2020-12-06T21:41:39.425000-05:00",
     "start_time": "2020-12-07T02:41:23.856Z"
    }
   },
   "outputs": [
    {
     "name": "stdout",
     "output_type": "stream",
     "text": [
      "DJIA_Original 119 Array{Date,1}\n",
      "\n"
     ]
    }
   ],
   "source": [
    "using Dates\n",
    "\n",
    "## Declare variables\n",
    "x_axis_dates      = Vector{Date}() # results in Array{Date,1}\n",
    "y_axis_original   = Vector{Float64}()\n",
    "y_axis_predicted  = Vector{Float64}()\n",
    "\n",
    "println(column_to_predict, \" \", finem, \" \", typeof(x_axis_dates))\n",
    "\n",
    "today_id  = 50 # not set yet\n",
    "\n",
    "## step thru each prediction\n",
    "for id in initio:finem\n",
    "    row = get(data_predictions, id) # get a dictionary of data from the SFrame\n",
    "    \n",
    "    date_string = row[\"Date\"] # e.g. \"2020-10-20\"\n",
    "    date = Date(date_string) # 2020-09-07 Date\n",
    "    if date == today()\n",
    "        today_id = id\n",
    "    end \n",
    "    #date = Dates.format(date, \"u.d,yy\" )\n",
    "    #println(\"date \", date, \" \", typeof(date))\n",
    "    push!(x_axis_dates, date)\n",
    "    \n",
    "    predicted = get(predictions, id) # Float64\n",
    "    predicted = round(predicted, digits=0)\n",
    "    #println(\"predicted \", predicted, \" \", typeof(predicted))\n",
    "    append!(y_axis_predicted, predicted)\n",
    "    \n",
    "    \n",
    "    original = row[ column_to_predict ]\n",
    "    original = round(original, digits=0) # Float64\n",
    "    #println(\"original \", original, \" \", typeof(original)) \n",
    "    append!(y_axis_original, original)\n",
    "end\n",
    "\n",
    "## Format Dates for plotting\n",
    "include(\"../Julia/function_format_dates.jl\")\n",
    "x_axis_dates = format_dates(x_axis_dates, \"u.d,yy\")\n",
    "println()"
   ]
  },
  {
   "cell_type": "code",
   "execution_count": 16,
   "metadata": {
    "ExecuteTime": {
     "end_time": "2020-12-06T21:41:39.440000-05:00",
     "start_time": "2020-12-07T02:41:23.860Z"
    }
   },
   "outputs": [
    {
     "name": "stdout",
     "output_type": "stream",
     "text": [
      "t Dec.6,20 String\n"
     ]
    }
   ],
   "source": [
    "t = today()# Date\n",
    "t = format_dates([t], \"u.d,yy\") # Array{String,1}\n",
    "t = t[1] # String\n",
    "println(\"t \", t, \" \", typeof(t))"
   ]
  },
  {
   "cell_type": "code",
   "execution_count": 17,
   "metadata": {
    "ExecuteTime": {
     "end_time": "2020-12-06T21:42:14.908000-05:00",
     "start_time": "2020-12-07T02:41:23.864Z"
    }
   },
   "outputs": [
    {
     "data": {
      "image/svg+xml": [
       "<?xml version=\"1.0\" encoding=\"utf-8\"?>\n",
       "<svg xmlns=\"http://www.w3.org/2000/svg\" xmlns:xlink=\"http://www.w3.org/1999/xlink\" width=\"980\" height=\"400\" viewBox=\"0 0 3920 1600\">\n",
       "<defs>\n",
       "  <clipPath id=\"clip9900\">\n",
       "    <rect x=\"0\" y=\"0\" width=\"3920\" height=\"1600\"/>\n",
       "  </clipPath>\n",
       "</defs>\n",
       "<path clip-path=\"url(#clip9900)\" d=\"\n",
       "M0 1600 L3920 1600 L3920 0 L0 0  Z\n",
       "  \" fill=\"#ffffff\" fill-rule=\"evenodd\" fill-opacity=\"1\"/>\n",
       "<defs>\n",
       "  <clipPath id=\"clip9901\">\n",
       "    <rect x=\"784\" y=\"0\" width=\"2745\" height=\"1600\"/>\n",
       "  </clipPath>\n",
       "</defs>\n",
       "<path clip-path=\"url(#clip9900)\" d=\"\n",
       "M281.07 1423.18 L3872.76 1423.18 L3872.76 47.2441 L281.07 47.2441  Z\n",
       "  \" fill=\"#ffffff\" fill-rule=\"evenodd\" fill-opacity=\"1\"/>\n",
       "<defs>\n",
       "  <clipPath id=\"clip9902\">\n",
       "    <rect x=\"281\" y=\"47\" width=\"3593\" height=\"1377\"/>\n",
       "  </clipPath>\n",
       "</defs>\n",
       "<polyline clip-path=\"url(#clip9902)\" style=\"stroke:#000000; stroke-width:2; stroke-opacity:0.1; fill:none\" points=\"\n",
       "  382.721,1423.18 382.721,47.2441 \n",
       "  \"/>\n",
       "<polyline clip-path=\"url(#clip9902)\" style=\"stroke:#000000; stroke-width:2; stroke-opacity:0.1; fill:none\" points=\"\n",
       "  612.442,1423.18 612.442,47.2441 \n",
       "  \"/>\n",
       "<polyline clip-path=\"url(#clip9902)\" style=\"stroke:#000000; stroke-width:2; stroke-opacity:0.1; fill:none\" points=\"\n",
       "  870.878,1423.18 870.878,47.2441 \n",
       "  \"/>\n",
       "<polyline clip-path=\"url(#clip9902)\" style=\"stroke:#000000; stroke-width:2; stroke-opacity:0.1; fill:none\" points=\"\n",
       "  1100.6,1423.18 1100.6,47.2441 \n",
       "  \"/>\n",
       "<polyline clip-path=\"url(#clip9902)\" style=\"stroke:#000000; stroke-width:2; stroke-opacity:0.1; fill:none\" points=\"\n",
       "  1359.03,1423.18 1359.03,47.2441 \n",
       "  \"/>\n",
       "<polyline clip-path=\"url(#clip9902)\" style=\"stroke:#000000; stroke-width:2; stroke-opacity:0.1; fill:none\" points=\"\n",
       "  1588.76,1423.18 1588.76,47.2441 \n",
       "  \"/>\n",
       "<polyline clip-path=\"url(#clip9902)\" style=\"stroke:#000000; stroke-width:2; stroke-opacity:0.1; fill:none\" points=\"\n",
       "  1847.19,1423.18 1847.19,47.2441 \n",
       "  \"/>\n",
       "<polyline clip-path=\"url(#clip9902)\" style=\"stroke:#000000; stroke-width:2; stroke-opacity:0.1; fill:none\" points=\"\n",
       "  2076.91,1423.18 2076.91,47.2441 \n",
       "  \"/>\n",
       "<polyline clip-path=\"url(#clip9902)\" style=\"stroke:#000000; stroke-width:2; stroke-opacity:0.1; fill:none\" points=\"\n",
       "  2306.63,1423.18 2306.63,47.2441 \n",
       "  \"/>\n",
       "<polyline clip-path=\"url(#clip9902)\" style=\"stroke:#000000; stroke-width:2; stroke-opacity:0.1; fill:none\" points=\"\n",
       "  2565.07,1423.18 2565.07,47.2441 \n",
       "  \"/>\n",
       "<polyline clip-path=\"url(#clip9902)\" style=\"stroke:#000000; stroke-width:2; stroke-opacity:0.1; fill:none\" points=\"\n",
       "  2794.79,1423.18 2794.79,47.2441 \n",
       "  \"/>\n",
       "<polyline clip-path=\"url(#clip9902)\" style=\"stroke:#000000; stroke-width:2; stroke-opacity:0.1; fill:none\" points=\"\n",
       "  3053.23,1423.18 3053.23,47.2441 \n",
       "  \"/>\n",
       "<polyline clip-path=\"url(#clip9902)\" style=\"stroke:#000000; stroke-width:2; stroke-opacity:0.1; fill:none\" points=\"\n",
       "  3282.95,1423.18 3282.95,47.2441 \n",
       "  \"/>\n",
       "<polyline clip-path=\"url(#clip9902)\" style=\"stroke:#000000; stroke-width:2; stroke-opacity:0.1; fill:none\" points=\"\n",
       "  3541.38,1423.18 3541.38,47.2441 \n",
       "  \"/>\n",
       "<polyline clip-path=\"url(#clip9902)\" style=\"stroke:#000000; stroke-width:2; stroke-opacity:0.1; fill:none\" points=\"\n",
       "  3771.1,1423.18 3771.1,47.2441 \n",
       "  \"/>\n",
       "<polyline clip-path=\"url(#clip9902)\" style=\"stroke:#000000; stroke-width:2; stroke-opacity:0.1; fill:none\" points=\"\n",
       "  281.07,1253.31 3872.76,1253.31 \n",
       "  \"/>\n",
       "<polyline clip-path=\"url(#clip9902)\" style=\"stroke:#000000; stroke-width:2; stroke-opacity:0.1; fill:none\" points=\"\n",
       "  281.07,890.623 3872.76,890.623 \n",
       "  \"/>\n",
       "<polyline clip-path=\"url(#clip9902)\" style=\"stroke:#000000; stroke-width:2; stroke-opacity:0.1; fill:none\" points=\"\n",
       "  281.07,527.937 3872.76,527.937 \n",
       "  \"/>\n",
       "<polyline clip-path=\"url(#clip9902)\" style=\"stroke:#000000; stroke-width:2; stroke-opacity:0.1; fill:none\" points=\"\n",
       "  281.07,165.251 3872.76,165.251 \n",
       "  \"/>\n",
       "<polyline clip-path=\"url(#clip9900)\" style=\"stroke:#000000; stroke-width:4; stroke-opacity:1; fill:none\" points=\"\n",
       "  281.07,1423.18 3872.76,1423.18 \n",
       "  \"/>\n",
       "<polyline clip-path=\"url(#clip9900)\" style=\"stroke:#000000; stroke-width:4; stroke-opacity:1; fill:none\" points=\"\n",
       "  281.07,1423.18 281.07,47.2441 \n",
       "  \"/>\n",
       "<polyline clip-path=\"url(#clip9900)\" style=\"stroke:#000000; stroke-width:4; stroke-opacity:1; fill:none\" points=\"\n",
       "  382.721,1423.18 382.721,1406.67 \n",
       "  \"/>\n",
       "<polyline clip-path=\"url(#clip9900)\" style=\"stroke:#000000; stroke-width:4; stroke-opacity:1; fill:none\" points=\"\n",
       "  612.442,1423.18 612.442,1406.67 \n",
       "  \"/>\n",
       "<polyline clip-path=\"url(#clip9900)\" style=\"stroke:#000000; stroke-width:4; stroke-opacity:1; fill:none\" points=\"\n",
       "  870.878,1423.18 870.878,1406.67 \n",
       "  \"/>\n",
       "<polyline clip-path=\"url(#clip9900)\" style=\"stroke:#000000; stroke-width:4; stroke-opacity:1; fill:none\" points=\"\n",
       "  1100.6,1423.18 1100.6,1406.67 \n",
       "  \"/>\n",
       "<polyline clip-path=\"url(#clip9900)\" style=\"stroke:#000000; stroke-width:4; stroke-opacity:1; fill:none\" points=\"\n",
       "  1359.03,1423.18 1359.03,1406.67 \n",
       "  \"/>\n",
       "<polyline clip-path=\"url(#clip9900)\" style=\"stroke:#000000; stroke-width:4; stroke-opacity:1; fill:none\" points=\"\n",
       "  1588.76,1423.18 1588.76,1406.67 \n",
       "  \"/>\n",
       "<polyline clip-path=\"url(#clip9900)\" style=\"stroke:#000000; stroke-width:4; stroke-opacity:1; fill:none\" points=\"\n",
       "  1847.19,1423.18 1847.19,1406.67 \n",
       "  \"/>\n",
       "<polyline clip-path=\"url(#clip9900)\" style=\"stroke:#000000; stroke-width:4; stroke-opacity:1; fill:none\" points=\"\n",
       "  2076.91,1423.18 2076.91,1406.67 \n",
       "  \"/>\n",
       "<polyline clip-path=\"url(#clip9900)\" style=\"stroke:#000000; stroke-width:4; stroke-opacity:1; fill:none\" points=\"\n",
       "  2306.63,1423.18 2306.63,1406.67 \n",
       "  \"/>\n",
       "<polyline clip-path=\"url(#clip9900)\" style=\"stroke:#000000; stroke-width:4; stroke-opacity:1; fill:none\" points=\"\n",
       "  2565.07,1423.18 2565.07,1406.67 \n",
       "  \"/>\n",
       "<polyline clip-path=\"url(#clip9900)\" style=\"stroke:#000000; stroke-width:4; stroke-opacity:1; fill:none\" points=\"\n",
       "  2794.79,1423.18 2794.79,1406.67 \n",
       "  \"/>\n",
       "<polyline clip-path=\"url(#clip9900)\" style=\"stroke:#000000; stroke-width:4; stroke-opacity:1; fill:none\" points=\"\n",
       "  3053.23,1423.18 3053.23,1406.67 \n",
       "  \"/>\n",
       "<polyline clip-path=\"url(#clip9900)\" style=\"stroke:#000000; stroke-width:4; stroke-opacity:1; fill:none\" points=\"\n",
       "  3282.95,1423.18 3282.95,1406.67 \n",
       "  \"/>\n",
       "<polyline clip-path=\"url(#clip9900)\" style=\"stroke:#000000; stroke-width:4; stroke-opacity:1; fill:none\" points=\"\n",
       "  3541.38,1423.18 3541.38,1406.67 \n",
       "  \"/>\n",
       "<polyline clip-path=\"url(#clip9900)\" style=\"stroke:#000000; stroke-width:4; stroke-opacity:1; fill:none\" points=\"\n",
       "  3771.1,1423.18 3771.1,1406.67 \n",
       "  \"/>\n",
       "<polyline clip-path=\"url(#clip9900)\" style=\"stroke:#000000; stroke-width:4; stroke-opacity:1; fill:none\" points=\"\n",
       "  281.07,1253.31 324.17,1253.31 \n",
       "  \"/>\n",
       "<polyline clip-path=\"url(#clip9900)\" style=\"stroke:#000000; stroke-width:4; stroke-opacity:1; fill:none\" points=\"\n",
       "  281.07,890.623 324.17,890.623 \n",
       "  \"/>\n",
       "<polyline clip-path=\"url(#clip9900)\" style=\"stroke:#000000; stroke-width:4; stroke-opacity:1; fill:none\" points=\"\n",
       "  281.07,527.937 324.17,527.937 \n",
       "  \"/>\n",
       "<polyline clip-path=\"url(#clip9900)\" style=\"stroke:#000000; stroke-width:4; stroke-opacity:1; fill:none\" points=\"\n",
       "  281.07,165.251 324.17,165.251 \n",
       "  \"/>\n",
       "<path clip-path=\"url(#clip9900)\" d=\"M 0 0 M315.858 1450.83 L315.858 1455.39 Q313.196 1454.11 310.835 1453.49 Q308.474 1452.86 306.275 1452.86 Q302.455 1452.86 300.372 1454.34 Q298.312 1455.83 298.312 1458.56 Q298.312 1460.85 299.678 1462.03 Q301.066 1463.19 304.909 1463.9 L307.733 1464.48 Q312.965 1465.48 315.441 1468 Q317.941 1470.5 317.941 1474.71 Q317.941 1479.74 314.562 1482.33 Q311.205 1484.92 304.701 1484.92 Q302.247 1484.92 299.469 1484.37 Q296.715 1483.81 293.752 1482.72 L293.752 1477.91 Q296.599 1479.51 299.33 1480.32 Q302.062 1481.13 304.701 1481.13 Q308.705 1481.13 310.881 1479.55 Q313.057 1477.98 313.057 1475.06 Q313.057 1472.52 311.483 1471.08 Q309.932 1469.65 306.367 1468.93 L303.52 1468.37 Q298.289 1467.33 295.951 1465.11 Q293.613 1462.89 293.613 1458.93 Q293.613 1454.34 296.83 1451.71 Q300.071 1449.07 305.742 1449.07 Q308.173 1449.07 310.696 1449.51 Q313.219 1449.95 315.858 1450.83 Z\" fill=\"#000000\" fill-rule=\"evenodd\" fill-opacity=\"1\" /><path clip-path=\"url(#clip9900)\" d=\"M 0 0 M344.585 1470.22 L344.585 1472.31 L325.002 1472.31 Q325.279 1476.71 327.64 1479.02 Q330.025 1481.31 334.261 1481.31 Q336.714 1481.31 339.006 1480.71 Q341.321 1480.11 343.589 1478.9 L343.589 1482.93 Q341.298 1483.9 338.89 1484.41 Q336.483 1484.92 334.006 1484.92 Q327.802 1484.92 324.168 1481.31 Q320.557 1477.7 320.557 1471.54 Q320.557 1465.18 323.983 1461.45 Q327.432 1457.7 333.265 1457.7 Q338.497 1457.7 341.529 1461.08 Q344.585 1464.44 344.585 1470.22 M340.326 1468.97 Q340.279 1465.48 338.358 1463.4 Q336.46 1461.31 333.312 1461.31 Q329.747 1461.31 327.594 1463.33 Q325.465 1465.34 325.14 1469 L340.326 1468.97 Z\" fill=\"#000000\" fill-rule=\"evenodd\" fill-opacity=\"1\" /><path clip-path=\"url(#clip9900)\" d=\"M 0 0 M353.173 1480.36 L353.173 1494.11 L348.89 1494.11 L348.89 1458.33 L353.173 1458.33 L353.173 1462.26 Q354.515 1459.95 356.552 1458.84 Q358.612 1457.7 361.46 1457.7 Q366.182 1457.7 369.122 1461.45 Q372.085 1465.2 372.085 1471.31 Q372.085 1477.42 369.122 1481.17 Q366.182 1484.92 361.46 1484.92 Q358.612 1484.92 356.552 1483.81 Q354.515 1482.68 353.173 1480.36 M367.663 1471.31 Q367.663 1466.61 365.719 1463.95 Q363.798 1461.27 360.418 1461.27 Q357.038 1461.27 355.094 1463.95 Q353.173 1466.61 353.173 1471.31 Q353.173 1476.01 355.094 1478.7 Q357.038 1481.36 360.418 1481.36 Q363.798 1481.36 365.719 1478.7 Q367.663 1476.01 367.663 1471.31 Z\" fill=\"#000000\" fill-rule=\"evenodd\" fill-opacity=\"1\" /><path clip-path=\"url(#clip9900)\" d=\"M 0 0 M377.154 1478.37 L382.038 1478.37 L382.038 1484.25 L377.154 1484.25 L377.154 1478.37 Z\" fill=\"#000000\" fill-rule=\"evenodd\" fill-opacity=\"1\" /><path clip-path=\"url(#clip9900)\" d=\"M 0 0 M397.108 1467.84 Q393.774 1467.84 391.853 1469.62 Q389.955 1471.4 389.955 1474.53 Q389.955 1477.65 391.853 1479.44 Q393.774 1481.22 397.108 1481.22 Q400.441 1481.22 402.362 1479.44 Q404.284 1477.63 404.284 1474.53 Q404.284 1471.4 402.362 1469.62 Q400.464 1467.84 397.108 1467.84 M392.432 1465.85 Q389.422 1465.11 387.733 1463.05 Q386.066 1460.99 386.066 1458.03 Q386.066 1453.88 389.006 1451.47 Q391.969 1449.07 397.108 1449.07 Q402.27 1449.07 405.209 1451.47 Q408.149 1453.88 408.149 1458.03 Q408.149 1460.99 406.459 1463.05 Q404.793 1465.11 401.807 1465.85 Q405.186 1466.64 407.061 1468.93 Q408.959 1471.22 408.959 1474.53 Q408.959 1479.55 405.881 1482.24 Q402.825 1484.92 397.108 1484.92 Q391.39 1484.92 388.311 1482.24 Q385.256 1479.55 385.256 1474.53 Q385.256 1471.22 387.154 1468.93 Q389.052 1466.64 392.432 1465.85 M390.719 1458.46 Q390.719 1461.15 392.385 1462.65 Q394.075 1464.16 397.108 1464.16 Q400.117 1464.16 401.807 1462.65 Q403.52 1461.15 403.52 1458.46 Q403.52 1455.78 401.807 1454.28 Q400.117 1452.77 397.108 1452.77 Q394.075 1452.77 392.385 1454.28 Q390.719 1455.78 390.719 1458.46 Z\" fill=\"#000000\" fill-rule=\"evenodd\" fill-opacity=\"1\" /><path clip-path=\"url(#clip9900)\" d=\"M 0 0 M414.515 1478.37 L419.399 1478.37 L419.399 1482.35 L415.603 1489.76 L412.617 1489.76 L414.515 1482.35 L414.515 1478.37 Z\" fill=\"#000000\" fill-rule=\"evenodd\" fill-opacity=\"1\" /><path clip-path=\"url(#clip9900)\" d=\"M 0 0 M428.496 1480.32 L444.816 1480.32 L444.816 1484.25 L422.871 1484.25 L422.871 1480.32 Q425.533 1477.56 430.117 1472.93 Q434.723 1468.28 435.904 1466.94 Q438.149 1464.41 439.029 1462.68 Q439.931 1460.92 439.931 1459.23 Q439.931 1456.47 437.987 1454.74 Q436.066 1453 432.964 1453 Q430.765 1453 428.311 1453.77 Q425.881 1454.53 423.103 1456.08 L423.103 1451.36 Q425.927 1450.22 428.381 1449.65 Q430.834 1449.07 432.871 1449.07 Q438.242 1449.07 441.436 1451.75 Q444.631 1454.44 444.631 1458.93 Q444.631 1461.06 443.82 1462.98 Q443.033 1464.88 440.927 1467.47 Q440.348 1468.14 437.246 1471.36 Q434.144 1474.55 428.496 1480.32 Z\" fill=\"#000000\" fill-rule=\"evenodd\" fill-opacity=\"1\" /><path clip-path=\"url(#clip9900)\" d=\"M 0 0 M459.885 1452.77 Q456.274 1452.77 454.445 1456.34 Q452.64 1459.88 452.64 1467.01 Q452.64 1474.11 454.445 1477.68 Q456.274 1481.22 459.885 1481.22 Q463.519 1481.22 465.325 1477.68 Q467.154 1474.11 467.154 1467.01 Q467.154 1459.88 465.325 1456.34 Q463.519 1452.77 459.885 1452.77 M459.885 1449.07 Q465.695 1449.07 468.751 1453.67 Q471.829 1458.26 471.829 1467.01 Q471.829 1475.73 468.751 1480.34 Q465.695 1484.92 459.885 1484.92 Q454.075 1484.92 450.996 1480.34 Q447.941 1475.73 447.941 1467.01 Q447.941 1458.26 450.996 1453.67 Q454.075 1449.07 459.885 1449.07 Z\" fill=\"#000000\" fill-rule=\"evenodd\" fill-opacity=\"1\" /><path clip-path=\"url(#clip9900)\" d=\"M 0 0 M532.558 1450.83 L532.558 1455.39 Q529.896 1454.11 527.535 1453.49 Q525.174 1452.86 522.975 1452.86 Q519.156 1452.86 517.072 1454.34 Q515.012 1455.83 515.012 1458.56 Q515.012 1460.85 516.378 1462.03 Q517.767 1463.19 521.609 1463.9 L524.433 1464.48 Q529.665 1465.48 532.142 1468 Q534.642 1470.5 534.642 1474.71 Q534.642 1479.74 531.262 1482.33 Q527.905 1484.92 521.401 1484.92 Q518.947 1484.92 516.169 1484.37 Q513.415 1483.81 510.452 1482.72 L510.452 1477.91 Q513.299 1479.51 516.031 1480.32 Q518.762 1481.13 521.401 1481.13 Q525.405 1481.13 527.581 1479.55 Q529.757 1477.98 529.757 1475.06 Q529.757 1472.52 528.183 1471.08 Q526.632 1469.65 523.068 1468.93 L520.22 1468.37 Q514.989 1467.33 512.651 1465.11 Q510.313 1462.89 510.313 1458.93 Q510.313 1454.34 513.531 1451.71 Q516.771 1449.07 522.443 1449.07 Q524.873 1449.07 527.396 1449.51 Q529.919 1449.95 532.558 1450.83 Z\" fill=\"#000000\" fill-rule=\"evenodd\" fill-opacity=\"1\" /><path clip-path=\"url(#clip9900)\" d=\"M 0 0 M561.285 1470.22 L561.285 1472.31 L541.702 1472.31 Q541.979 1476.71 544.341 1479.02 Q546.725 1481.31 550.961 1481.31 Q553.415 1481.31 555.706 1480.71 Q558.021 1480.11 560.29 1478.9 L560.29 1482.93 Q557.998 1483.9 555.59 1484.41 Q553.183 1484.92 550.706 1484.92 Q544.503 1484.92 540.868 1481.31 Q537.257 1477.7 537.257 1471.54 Q537.257 1465.18 540.683 1461.45 Q544.132 1457.7 549.966 1457.7 Q555.197 1457.7 558.229 1461.08 Q561.285 1464.44 561.285 1470.22 M557.026 1468.97 Q556.979 1465.48 555.058 1463.4 Q553.16 1461.31 550.012 1461.31 Q546.447 1461.31 544.294 1463.33 Q542.165 1465.34 541.841 1469 L557.026 1468.97 Z\" fill=\"#000000\" fill-rule=\"evenodd\" fill-opacity=\"1\" /><path clip-path=\"url(#clip9900)\" d=\"M 0 0 M569.873 1480.36 L569.873 1494.11 L565.59 1494.11 L565.59 1458.33 L569.873 1458.33 L569.873 1462.26 Q571.215 1459.95 573.252 1458.84 Q575.313 1457.7 578.16 1457.7 Q582.882 1457.7 585.822 1461.45 Q588.785 1465.2 588.785 1471.31 Q588.785 1477.42 585.822 1481.17 Q582.882 1484.92 578.16 1484.92 Q575.313 1484.92 573.252 1483.81 Q571.215 1482.68 569.873 1480.36 M584.363 1471.31 Q584.363 1466.61 582.419 1463.95 Q580.498 1461.27 577.118 1461.27 Q573.739 1461.27 571.794 1463.95 Q569.873 1466.61 569.873 1471.31 Q569.873 1476.01 571.794 1478.7 Q573.739 1481.36 577.118 1481.36 Q580.498 1481.36 582.419 1478.7 Q584.363 1476.01 584.363 1471.31 Z\" fill=\"#000000\" fill-rule=\"evenodd\" fill-opacity=\"1\" /><path clip-path=\"url(#clip9900)\" d=\"M 0 0 M593.854 1478.37 L598.738 1478.37 L598.738 1484.25 L593.854 1484.25 L593.854 1478.37 Z\" fill=\"#000000\" fill-rule=\"evenodd\" fill-opacity=\"1\" /><path clip-path=\"url(#clip9900)\" d=\"M 0 0 M604.618 1480.32 L612.257 1480.32 L612.257 1453.95 L603.947 1455.62 L603.947 1451.36 L612.211 1449.69 L616.886 1449.69 L616.886 1480.32 L624.525 1480.32 L624.525 1484.25 L604.618 1484.25 L604.618 1480.32 Z\" fill=\"#000000\" fill-rule=\"evenodd\" fill-opacity=\"1\" /><path clip-path=\"url(#clip9900)\" d=\"M 0 0 M640.173 1465.11 Q637.025 1465.11 635.173 1467.26 Q633.345 1469.41 633.345 1473.16 Q633.345 1476.89 635.173 1479.07 Q637.025 1481.22 640.173 1481.22 Q643.322 1481.22 645.15 1479.07 Q647.002 1476.89 647.002 1473.16 Q647.002 1469.41 645.15 1467.26 Q643.322 1465.11 640.173 1465.11 M649.456 1450.46 L649.456 1454.71 Q647.696 1453.88 645.891 1453.44 Q644.109 1453 642.349 1453 Q637.72 1453 635.266 1456.13 Q632.835 1459.25 632.488 1465.57 Q633.854 1463.56 635.914 1462.49 Q637.974 1461.4 640.451 1461.4 Q645.659 1461.4 648.669 1464.58 Q651.701 1467.72 651.701 1473.16 Q651.701 1478.49 648.553 1481.71 Q645.405 1484.92 640.173 1484.92 Q634.178 1484.92 631.007 1480.34 Q627.835 1475.73 627.835 1467.01 Q627.835 1458.81 631.724 1453.95 Q635.613 1449.07 642.164 1449.07 Q643.923 1449.07 645.706 1449.41 Q647.511 1449.76 649.456 1450.46 Z\" fill=\"#000000\" fill-rule=\"evenodd\" fill-opacity=\"1\" /><path clip-path=\"url(#clip9900)\" d=\"M 0 0 M657.257 1478.37 L662.141 1478.37 L662.141 1482.35 L658.345 1489.76 L655.358 1489.76 L657.257 1482.35 L657.257 1478.37 Z\" fill=\"#000000\" fill-rule=\"evenodd\" fill-opacity=\"1\" /><path clip-path=\"url(#clip9900)\" d=\"M 0 0 M671.238 1480.32 L687.557 1480.32 L687.557 1484.25 L665.613 1484.25 L665.613 1480.32 Q668.275 1477.56 672.858 1472.93 Q677.465 1468.28 678.645 1466.94 Q680.891 1464.41 681.77 1462.68 Q682.673 1460.92 682.673 1459.23 Q682.673 1456.47 680.729 1454.74 Q678.807 1453 675.706 1453 Q673.507 1453 671.053 1453.77 Q668.622 1454.53 665.845 1456.08 L665.845 1451.36 Q668.669 1450.22 671.122 1449.65 Q673.576 1449.07 675.613 1449.07 Q680.983 1449.07 684.178 1451.75 Q687.372 1454.44 687.372 1458.93 Q687.372 1461.06 686.562 1462.98 Q685.775 1464.88 683.669 1467.47 Q683.09 1468.14 679.988 1471.36 Q676.886 1474.55 671.238 1480.32 Z\" fill=\"#000000\" fill-rule=\"evenodd\" fill-opacity=\"1\" /><path clip-path=\"url(#clip9900)\" d=\"M 0 0 M702.627 1452.77 Q699.016 1452.77 697.187 1456.34 Q695.381 1459.88 695.381 1467.01 Q695.381 1474.11 697.187 1477.68 Q699.016 1481.22 702.627 1481.22 Q706.261 1481.22 708.067 1477.68 Q709.895 1474.11 709.895 1467.01 Q709.895 1459.88 708.067 1456.34 Q706.261 1452.77 702.627 1452.77 M702.627 1449.07 Q708.437 1449.07 711.492 1453.67 Q714.571 1458.26 714.571 1467.01 Q714.571 1475.73 711.492 1480.34 Q708.437 1484.92 702.627 1484.92 Q696.817 1484.92 693.738 1480.34 Q690.682 1475.73 690.682 1467.01 Q690.682 1458.26 693.738 1453.67 Q696.817 1449.07 702.627 1449.07 Z\" fill=\"#000000\" fill-rule=\"evenodd\" fill-opacity=\"1\" /><path clip-path=\"url(#clip9900)\" d=\"M 0 0 M791.758 1450.83 L791.758 1455.39 Q789.096 1454.11 786.735 1453.49 Q784.374 1452.86 782.175 1452.86 Q778.355 1452.86 776.272 1454.34 Q774.212 1455.83 774.212 1458.56 Q774.212 1460.85 775.578 1462.03 Q776.967 1463.19 780.809 1463.9 L783.633 1464.48 Q788.865 1465.48 791.341 1468 Q793.841 1470.5 793.841 1474.71 Q793.841 1479.74 790.462 1482.33 Q787.105 1484.92 780.601 1484.92 Q778.147 1484.92 775.369 1484.37 Q772.615 1483.81 769.652 1482.72 L769.652 1477.91 Q772.499 1479.51 775.23 1480.32 Q777.962 1481.13 780.601 1481.13 Q784.605 1481.13 786.781 1479.55 Q788.957 1477.98 788.957 1475.06 Q788.957 1472.52 787.383 1471.08 Q785.832 1469.65 782.267 1468.93 L779.42 1468.37 Q774.189 1467.33 771.851 1465.11 Q769.513 1462.89 769.513 1458.93 Q769.513 1454.34 772.73 1451.71 Q775.971 1449.07 781.642 1449.07 Q784.073 1449.07 786.596 1449.51 Q789.119 1449.95 791.758 1450.83 Z\" fill=\"#000000\" fill-rule=\"evenodd\" fill-opacity=\"1\" /><path clip-path=\"url(#clip9900)\" d=\"M 0 0 M820.485 1470.22 L820.485 1472.31 L800.902 1472.31 Q801.179 1476.71 803.54 1479.02 Q805.925 1481.31 810.161 1481.31 Q812.614 1481.31 814.906 1480.71 Q817.221 1480.11 819.489 1478.9 L819.489 1482.93 Q817.198 1483.9 814.79 1484.41 Q812.383 1484.92 809.906 1484.92 Q803.702 1484.92 800.068 1481.31 Q796.457 1477.7 796.457 1471.54 Q796.457 1465.18 799.883 1461.45 Q803.332 1457.7 809.165 1457.7 Q814.397 1457.7 817.429 1461.08 Q820.485 1464.44 820.485 1470.22 M816.226 1468.97 Q816.179 1465.48 814.258 1463.4 Q812.36 1461.31 809.212 1461.31 Q805.647 1461.31 803.494 1463.33 Q801.365 1465.34 801.04 1469 L816.226 1468.97 Z\" fill=\"#000000\" fill-rule=\"evenodd\" fill-opacity=\"1\" /><path clip-path=\"url(#clip9900)\" d=\"M 0 0 M829.073 1480.36 L829.073 1494.11 L824.79 1494.11 L824.79 1458.33 L829.073 1458.33 L829.073 1462.26 Q830.415 1459.95 832.452 1458.84 Q834.513 1457.7 837.36 1457.7 Q842.082 1457.7 845.022 1461.45 Q847.985 1465.2 847.985 1471.31 Q847.985 1477.42 845.022 1481.17 Q842.082 1484.92 837.36 1484.92 Q834.513 1484.92 832.452 1483.81 Q830.415 1482.68 829.073 1480.36 M843.563 1471.31 Q843.563 1466.61 841.619 1463.95 Q839.698 1461.27 836.318 1461.27 Q832.938 1461.27 830.994 1463.95 Q829.073 1466.61 829.073 1471.31 Q829.073 1476.01 830.994 1478.7 Q832.938 1481.36 836.318 1481.36 Q839.698 1481.36 841.619 1478.7 Q843.563 1476.01 843.563 1471.31 Z\" fill=\"#000000\" fill-rule=\"evenodd\" fill-opacity=\"1\" /><path clip-path=\"url(#clip9900)\" d=\"M 0 0 M853.054 1478.37 L857.938 1478.37 L857.938 1484.25 L853.054 1484.25 L853.054 1478.37 Z\" fill=\"#000000\" fill-rule=\"evenodd\" fill-opacity=\"1\" /><path clip-path=\"url(#clip9900)\" d=\"M 0 0 M867.035 1480.32 L883.355 1480.32 L883.355 1484.25 L861.411 1484.25 L861.411 1480.32 Q864.073 1477.56 868.656 1472.93 Q873.262 1468.28 874.443 1466.94 Q876.688 1464.41 877.568 1462.68 Q878.471 1460.92 878.471 1459.23 Q878.471 1456.47 876.526 1454.74 Q874.605 1453 871.503 1453 Q869.304 1453 866.85 1453.77 Q864.42 1454.53 861.642 1456.08 L861.642 1451.36 Q864.466 1450.22 866.92 1449.65 Q869.373 1449.07 871.41 1449.07 Q876.781 1449.07 879.975 1451.75 Q883.17 1454.44 883.17 1458.93 Q883.17 1461.06 882.359 1462.98 Q881.572 1464.88 879.466 1467.47 Q878.887 1468.14 875.785 1471.36 Q872.684 1474.55 867.035 1480.32 Z\" fill=\"#000000\" fill-rule=\"evenodd\" fill-opacity=\"1\" /><path clip-path=\"url(#clip9900)\" d=\"M 0 0 M888.471 1449.69 L906.827 1449.69 L906.827 1453.63 L892.753 1453.63 L892.753 1462.1 Q893.771 1461.75 894.79 1461.59 Q895.808 1461.4 896.827 1461.4 Q902.614 1461.4 905.994 1464.58 Q909.373 1467.75 909.373 1473.16 Q909.373 1478.74 905.901 1481.84 Q902.429 1484.92 896.109 1484.92 Q893.933 1484.92 891.665 1484.55 Q889.42 1484.18 887.012 1483.44 L887.012 1478.74 Q889.096 1479.88 891.318 1480.43 Q893.54 1480.99 896.017 1480.99 Q900.021 1480.99 902.359 1478.88 Q904.697 1476.78 904.697 1473.16 Q904.697 1469.55 902.359 1467.45 Q900.021 1465.34 896.017 1465.34 Q894.142 1465.34 892.267 1465.76 Q890.415 1466.17 888.471 1467.05 L888.471 1449.69 Z\" fill=\"#000000\" fill-rule=\"evenodd\" fill-opacity=\"1\" /><path clip-path=\"url(#clip9900)\" d=\"M 0 0 M914.929 1478.37 L919.813 1478.37 L919.813 1482.35 L916.017 1489.76 L913.031 1489.76 L914.929 1482.35 L914.929 1478.37 Z\" fill=\"#000000\" fill-rule=\"evenodd\" fill-opacity=\"1\" /><path clip-path=\"url(#clip9900)\" d=\"M 0 0 M928.91 1480.32 L945.23 1480.32 L945.23 1484.25 L923.285 1484.25 L923.285 1480.32 Q925.947 1477.56 930.531 1472.93 Q935.137 1468.28 936.318 1466.94 Q938.563 1464.41 939.442 1462.68 Q940.345 1460.92 940.345 1459.23 Q940.345 1456.47 938.401 1454.74 Q936.48 1453 933.378 1453 Q931.179 1453 928.725 1453.77 Q926.294 1454.53 923.517 1456.08 L923.517 1451.36 Q926.341 1450.22 928.794 1449.65 Q931.248 1449.07 933.285 1449.07 Q938.655 1449.07 941.85 1451.75 Q945.044 1454.44 945.044 1458.93 Q945.044 1461.06 944.234 1462.98 Q943.447 1464.88 941.341 1467.47 Q940.762 1468.14 937.66 1471.36 Q934.558 1474.55 928.91 1480.32 Z\" fill=\"#000000\" fill-rule=\"evenodd\" fill-opacity=\"1\" /><path clip-path=\"url(#clip9900)\" d=\"M 0 0 M960.299 1452.77 Q956.688 1452.77 954.859 1456.34 Q953.054 1459.88 953.054 1467.01 Q953.054 1474.11 954.859 1477.68 Q956.688 1481.22 960.299 1481.22 Q963.933 1481.22 965.739 1477.68 Q967.567 1474.11 967.567 1467.01 Q967.567 1459.88 965.739 1456.34 Q963.933 1452.77 960.299 1452.77 M960.299 1449.07 Q966.109 1449.07 969.165 1453.67 Q972.243 1458.26 972.243 1467.01 Q972.243 1475.73 969.165 1480.34 Q966.109 1484.92 960.299 1484.92 Q954.489 1484.92 951.41 1480.34 Q948.354 1475.73 948.354 1467.01 Q948.354 1458.26 951.41 1453.67 Q954.489 1449.07 960.299 1449.07 Z\" fill=\"#000000\" fill-rule=\"evenodd\" fill-opacity=\"1\" /><path clip-path=\"url(#clip9900)\" d=\"M 0 0 M1030.74 1452.86 Q1025.65 1452.86 1022.64 1456.66 Q1019.65 1460.46 1019.65 1467.01 Q1019.65 1473.53 1022.64 1477.33 Q1025.65 1481.13 1030.74 1481.13 Q1035.83 1481.13 1038.79 1477.33 Q1041.78 1473.53 1041.78 1467.01 Q1041.78 1460.46 1038.79 1456.66 Q1035.83 1452.86 1030.74 1452.86 M1030.74 1449.07 Q1038.01 1449.07 1042.36 1453.95 Q1046.71 1458.81 1046.71 1467.01 Q1046.71 1475.18 1042.36 1480.06 Q1038.01 1484.92 1030.74 1484.92 Q1023.45 1484.92 1019.07 1480.06 Q1014.72 1475.2 1014.72 1467.01 Q1014.72 1458.81 1019.07 1453.95 Q1023.45 1449.07 1030.74 1449.07 Z\" fill=\"#000000\" fill-rule=\"evenodd\" fill-opacity=\"1\" /><path clip-path=\"url(#clip9900)\" d=\"M 0 0 M1069.84 1459.32 L1069.84 1463.3 Q1068.03 1462.31 1066.2 1461.82 Q1064.4 1461.31 1062.54 1461.31 Q1058.4 1461.31 1056.11 1463.95 Q1053.82 1466.57 1053.82 1471.31 Q1053.82 1476.06 1056.11 1478.7 Q1058.4 1481.31 1062.54 1481.31 Q1064.4 1481.31 1066.2 1480.83 Q1068.03 1480.32 1069.84 1479.32 L1069.84 1483.26 Q1068.05 1484.09 1066.13 1484.51 Q1064.23 1484.92 1062.08 1484.92 Q1056.22 1484.92 1052.78 1481.24 Q1049.33 1477.56 1049.33 1471.31 Q1049.33 1464.97 1052.8 1461.34 Q1056.29 1457.7 1062.36 1457.7 Q1064.33 1457.7 1066.2 1458.12 Q1068.08 1458.51 1069.84 1459.32 Z\" fill=\"#000000\" fill-rule=\"evenodd\" fill-opacity=\"1\" /><path clip-path=\"url(#clip9900)\" d=\"M 0 0 M1078.52 1450.96 L1078.52 1458.33 L1087.29 1458.33 L1087.29 1461.64 L1078.52 1461.64 L1078.52 1475.71 Q1078.52 1478.88 1079.37 1479.78 Q1080.25 1480.69 1082.91 1480.69 L1087.29 1480.69 L1087.29 1484.25 L1082.91 1484.25 Q1077.98 1484.25 1076.11 1482.42 Q1074.23 1480.57 1074.23 1475.71 L1074.23 1461.64 L1071.11 1461.64 L1071.11 1458.33 L1074.23 1458.33 L1074.23 1450.96 L1078.52 1450.96 Z\" fill=\"#000000\" fill-rule=\"evenodd\" fill-opacity=\"1\" /><path clip-path=\"url(#clip9900)\" d=\"M 0 0 M1092.36 1478.37 L1097.24 1478.37 L1097.24 1484.25 L1092.36 1484.25 L1092.36 1478.37 Z\" fill=\"#000000\" fill-rule=\"evenodd\" fill-opacity=\"1\" /><path clip-path=\"url(#clip9900)\" d=\"M 0 0 M1116.48 1465.62 Q1119.83 1466.34 1121.71 1468.6 Q1123.61 1470.87 1123.61 1474.21 Q1123.61 1479.32 1120.09 1482.12 Q1116.57 1484.92 1110.09 1484.92 Q1107.91 1484.92 1105.6 1484.48 Q1103.31 1484.07 1100.85 1483.21 L1100.85 1478.7 Q1102.8 1479.83 1105.11 1480.41 Q1107.43 1480.99 1109.95 1480.99 Q1114.35 1480.99 1116.64 1479.25 Q1118.96 1477.52 1118.96 1474.21 Q1118.96 1471.15 1116.8 1469.44 Q1114.67 1467.7 1110.85 1467.7 L1106.83 1467.7 L1106.83 1463.86 L1111.04 1463.86 Q1114.49 1463.86 1116.32 1462.49 Q1118.15 1461.1 1118.15 1458.51 Q1118.15 1455.85 1116.25 1454.44 Q1114.37 1453 1110.85 1453 Q1108.93 1453 1106.73 1453.42 Q1104.53 1453.84 1101.9 1454.71 L1101.9 1450.55 Q1104.56 1449.81 1106.87 1449.44 Q1109.21 1449.07 1111.27 1449.07 Q1116.59 1449.07 1119.7 1451.5 Q1122.8 1453.9 1122.8 1458.03 Q1122.8 1460.9 1121.15 1462.89 Q1119.51 1464.85 1116.48 1465.62 Z\" fill=\"#000000\" fill-rule=\"evenodd\" fill-opacity=\"1\" /><path clip-path=\"url(#clip9900)\" d=\"M 0 0 M1129.16 1478.37 L1134.05 1478.37 L1134.05 1482.35 L1130.25 1489.76 L1127.27 1489.76 L1129.16 1482.35 L1129.16 1478.37 Z\" fill=\"#000000\" fill-rule=\"evenodd\" fill-opacity=\"1\" /><path clip-path=\"url(#clip9900)\" d=\"M 0 0 M1143.15 1480.32 L1159.46 1480.32 L1159.46 1484.25 L1137.52 1484.25 L1137.52 1480.32 Q1140.18 1477.56 1144.77 1472.93 Q1149.37 1468.28 1150.55 1466.94 Q1152.8 1464.41 1153.68 1462.68 Q1154.58 1460.92 1154.58 1459.23 Q1154.58 1456.47 1152.64 1454.74 Q1150.71 1453 1147.61 1453 Q1145.41 1453 1142.96 1453.77 Q1140.53 1454.53 1137.75 1456.08 L1137.75 1451.36 Q1140.58 1450.22 1143.03 1449.65 Q1145.48 1449.07 1147.52 1449.07 Q1152.89 1449.07 1156.08 1451.75 Q1159.28 1454.44 1159.28 1458.93 Q1159.28 1461.06 1158.47 1462.98 Q1157.68 1464.88 1155.58 1467.47 Q1155 1468.14 1151.89 1471.36 Q1148.79 1474.55 1143.15 1480.32 Z\" fill=\"#000000\" fill-rule=\"evenodd\" fill-opacity=\"1\" /><path clip-path=\"url(#clip9900)\" d=\"M 0 0 M1174.53 1452.77 Q1170.92 1452.77 1169.09 1456.34 Q1167.29 1459.88 1167.29 1467.01 Q1167.29 1474.11 1169.09 1477.68 Q1170.92 1481.22 1174.53 1481.22 Q1178.17 1481.22 1179.97 1477.68 Q1181.8 1474.11 1181.8 1467.01 Q1181.8 1459.88 1179.97 1456.34 Q1178.17 1452.77 1174.53 1452.77 M1174.53 1449.07 Q1180.34 1449.07 1183.4 1453.67 Q1186.48 1458.26 1186.48 1467.01 Q1186.48 1475.73 1183.4 1480.34 Q1180.34 1484.92 1174.53 1484.92 Q1168.72 1484.92 1165.64 1480.34 Q1162.59 1475.73 1162.59 1467.01 Q1162.59 1458.26 1165.64 1453.67 Q1168.72 1449.07 1174.53 1449.07 Z\" fill=\"#000000\" fill-rule=\"evenodd\" fill-opacity=\"1\" /><path clip-path=\"url(#clip9900)\" d=\"M 0 0 M1276.76 1452.86 Q1271.66 1452.86 1268.65 1456.66 Q1265.67 1460.46 1265.67 1467.01 Q1265.67 1473.53 1268.65 1477.33 Q1271.66 1481.13 1276.76 1481.13 Q1281.85 1481.13 1284.81 1477.33 Q1287.8 1473.53 1287.8 1467.01 Q1287.8 1460.46 1284.81 1456.66 Q1281.85 1452.86 1276.76 1452.86 M1276.76 1449.07 Q1284.02 1449.07 1288.38 1453.95 Q1292.73 1458.81 1292.73 1467.01 Q1292.73 1475.18 1288.38 1480.06 Q1284.02 1484.92 1276.76 1484.92 Q1269.46 1484.92 1265.09 1480.06 Q1260.74 1475.2 1260.74 1467.01 Q1260.74 1458.81 1265.09 1453.95 Q1269.46 1449.07 1276.76 1449.07 Z\" fill=\"#000000\" fill-rule=\"evenodd\" fill-opacity=\"1\" /><path clip-path=\"url(#clip9900)\" d=\"M 0 0 M1315.85 1459.32 L1315.85 1463.3 Q1314.05 1462.31 1312.22 1461.82 Q1310.41 1461.31 1308.56 1461.31 Q1304.42 1461.31 1302.13 1463.95 Q1299.83 1466.57 1299.83 1471.31 Q1299.83 1476.06 1302.13 1478.7 Q1304.42 1481.31 1308.56 1481.31 Q1310.41 1481.31 1312.22 1480.83 Q1314.05 1480.32 1315.85 1479.32 L1315.85 1483.26 Q1314.07 1484.09 1312.15 1484.51 Q1310.25 1484.92 1308.1 1484.92 Q1302.24 1484.92 1298.79 1481.24 Q1295.34 1477.56 1295.34 1471.31 Q1295.34 1464.97 1298.82 1461.34 Q1302.31 1457.7 1308.38 1457.7 Q1310.34 1457.7 1312.22 1458.12 Q1314.09 1458.51 1315.85 1459.32 Z\" fill=\"#000000\" fill-rule=\"evenodd\" fill-opacity=\"1\" /><path clip-path=\"url(#clip9900)\" d=\"M 0 0 M1324.53 1450.96 L1324.53 1458.33 L1333.31 1458.33 L1333.31 1461.64 L1324.53 1461.64 L1324.53 1475.71 Q1324.53 1478.88 1325.39 1479.78 Q1326.27 1480.69 1328.93 1480.69 L1333.31 1480.69 L1333.31 1484.25 L1328.93 1484.25 Q1324 1484.25 1322.13 1482.42 Q1320.25 1480.57 1320.25 1475.71 L1320.25 1461.64 L1317.13 1461.64 L1317.13 1458.33 L1320.25 1458.33 L1320.25 1450.96 L1324.53 1450.96 Z\" fill=\"#000000\" fill-rule=\"evenodd\" fill-opacity=\"1\" /><path clip-path=\"url(#clip9900)\" d=\"M 0 0 M1338.38 1478.37 L1343.26 1478.37 L1343.26 1484.25 L1338.38 1484.25 L1338.38 1478.37 Z\" fill=\"#000000\" fill-rule=\"evenodd\" fill-opacity=\"1\" /><path clip-path=\"url(#clip9900)\" d=\"M 0 0 M1349.14 1480.32 L1356.78 1480.32 L1356.78 1453.95 L1348.47 1455.62 L1348.47 1451.36 L1356.73 1449.69 L1361.41 1449.69 L1361.41 1480.32 L1369.05 1480.32 L1369.05 1484.25 L1349.14 1484.25 L1349.14 1480.32 Z\" fill=\"#000000\" fill-rule=\"evenodd\" fill-opacity=\"1\" /><path clip-path=\"url(#clip9900)\" d=\"M 0 0 M1378.14 1480.32 L1394.46 1480.32 L1394.46 1484.25 L1372.52 1484.25 L1372.52 1480.32 Q1375.18 1477.56 1379.76 1472.93 Q1384.37 1468.28 1385.55 1466.94 Q1387.8 1464.41 1388.68 1462.68 Q1389.58 1460.92 1389.58 1459.23 Q1389.58 1456.47 1387.63 1454.74 Q1385.71 1453 1382.61 1453 Q1380.41 1453 1377.96 1453.77 Q1375.53 1454.53 1372.75 1456.08 L1372.75 1451.36 Q1375.57 1450.22 1378.03 1449.65 Q1380.48 1449.07 1382.52 1449.07 Q1387.89 1449.07 1391.08 1451.75 Q1394.28 1454.44 1394.28 1458.93 Q1394.28 1461.06 1393.47 1462.98 Q1392.68 1464.88 1390.57 1467.47 Q1390 1468.14 1386.89 1471.36 Q1383.79 1474.55 1378.14 1480.32 Z\" fill=\"#000000\" fill-rule=\"evenodd\" fill-opacity=\"1\" /><path clip-path=\"url(#clip9900)\" d=\"M 0 0 M1400.02 1478.37 L1404.9 1478.37 L1404.9 1482.35 L1401.11 1489.76 L1398.12 1489.76 L1400.02 1482.35 L1400.02 1478.37 Z\" fill=\"#000000\" fill-rule=\"evenodd\" fill-opacity=\"1\" /><path clip-path=\"url(#clip9900)\" d=\"M 0 0 M1414 1480.32 L1430.32 1480.32 L1430.32 1484.25 L1408.37 1484.25 L1408.37 1480.32 Q1411.04 1477.56 1415.62 1472.93 Q1420.23 1468.28 1421.41 1466.94 Q1423.65 1464.41 1424.53 1462.68 Q1425.44 1460.92 1425.44 1459.23 Q1425.44 1456.47 1423.49 1454.74 Q1421.57 1453 1418.47 1453 Q1416.27 1453 1413.81 1453.77 Q1411.38 1454.53 1408.61 1456.08 L1408.61 1451.36 Q1411.43 1450.22 1413.88 1449.65 Q1416.34 1449.07 1418.37 1449.07 Q1423.75 1449.07 1426.94 1451.75 Q1430.13 1454.44 1430.13 1458.93 Q1430.13 1461.06 1429.32 1462.98 Q1428.54 1464.88 1426.43 1467.47 Q1425.85 1468.14 1422.75 1471.36 Q1419.65 1474.55 1414 1480.32 Z\" fill=\"#000000\" fill-rule=\"evenodd\" fill-opacity=\"1\" /><path clip-path=\"url(#clip9900)\" d=\"M 0 0 M1445.39 1452.77 Q1441.78 1452.77 1439.95 1456.34 Q1438.14 1459.88 1438.14 1467.01 Q1438.14 1474.11 1439.95 1477.68 Q1441.78 1481.22 1445.39 1481.22 Q1449.02 1481.22 1450.83 1477.68 Q1452.66 1474.11 1452.66 1467.01 Q1452.66 1459.88 1450.83 1456.34 Q1449.02 1452.77 1445.39 1452.77 M1445.39 1449.07 Q1451.2 1449.07 1454.25 1453.67 Q1457.33 1458.26 1457.33 1467.01 Q1457.33 1475.73 1454.25 1480.34 Q1451.2 1484.92 1445.39 1484.92 Q1439.58 1484.92 1436.5 1480.34 Q1433.44 1475.73 1433.44 1467.01 Q1433.44 1458.26 1436.5 1453.67 Q1439.58 1449.07 1445.39 1449.07 Z\" fill=\"#000000\" fill-rule=\"evenodd\" fill-opacity=\"1\" /><path clip-path=\"url(#clip9900)\" d=\"M 0 0 M1505.86 1452.86 Q1500.77 1452.86 1497.76 1456.66 Q1494.77 1460.46 1494.77 1467.01 Q1494.77 1473.53 1497.76 1477.33 Q1500.77 1481.13 1505.86 1481.13 Q1510.96 1481.13 1513.92 1477.33 Q1516.9 1473.53 1516.9 1467.01 Q1516.9 1460.46 1513.92 1456.66 Q1510.96 1452.86 1505.86 1452.86 M1505.86 1449.07 Q1513.13 1449.07 1517.48 1453.95 Q1521.83 1458.81 1521.83 1467.01 Q1521.83 1475.18 1517.48 1480.06 Q1513.13 1484.92 1505.86 1484.92 Q1498.57 1484.92 1494.2 1480.06 Q1489.84 1475.2 1489.84 1467.01 Q1489.84 1458.81 1494.2 1453.95 Q1498.57 1449.07 1505.86 1449.07 Z\" fill=\"#000000\" fill-rule=\"evenodd\" fill-opacity=\"1\" /><path clip-path=\"url(#clip9900)\" d=\"M 0 0 M1544.96 1459.32 L1544.96 1463.3 Q1543.15 1462.31 1541.33 1461.82 Q1539.52 1461.31 1537.67 1461.31 Q1533.52 1461.31 1531.23 1463.95 Q1528.94 1466.57 1528.94 1471.31 Q1528.94 1476.06 1531.23 1478.7 Q1533.52 1481.31 1537.67 1481.31 Q1539.52 1481.31 1541.33 1480.83 Q1543.15 1480.32 1544.96 1479.32 L1544.96 1483.26 Q1543.18 1484.09 1541.26 1484.51 Q1539.36 1484.92 1537.21 1484.92 Q1531.35 1484.92 1527.9 1481.24 Q1524.45 1477.56 1524.45 1471.31 Q1524.45 1464.97 1527.92 1461.34 Q1531.42 1457.7 1537.48 1457.7 Q1539.45 1457.7 1541.33 1458.12 Q1543.2 1458.51 1544.96 1459.32 Z\" fill=\"#000000\" fill-rule=\"evenodd\" fill-opacity=\"1\" /><path clip-path=\"url(#clip9900)\" d=\"M 0 0 M1553.64 1450.96 L1553.64 1458.33 L1562.41 1458.33 L1562.41 1461.64 L1553.64 1461.64 L1553.64 1475.71 Q1553.64 1478.88 1554.5 1479.78 Q1555.38 1480.69 1558.04 1480.69 L1562.41 1480.69 L1562.41 1484.25 L1558.04 1484.25 Q1553.11 1484.25 1551.23 1482.42 Q1549.36 1480.57 1549.36 1475.71 L1549.36 1461.64 L1546.23 1461.64 L1546.23 1458.33 L1549.36 1458.33 L1549.36 1450.96 L1553.64 1450.96 Z\" fill=\"#000000\" fill-rule=\"evenodd\" fill-opacity=\"1\" /><path clip-path=\"url(#clip9900)\" d=\"M 0 0 M1567.48 1478.37 L1572.37 1478.37 L1572.37 1484.25 L1567.48 1484.25 L1567.48 1478.37 Z\" fill=\"#000000\" fill-rule=\"evenodd\" fill-opacity=\"1\" /><path clip-path=\"url(#clip9900)\" d=\"M 0 0 M1581.46 1480.32 L1597.78 1480.32 L1597.78 1484.25 L1575.84 1484.25 L1575.84 1480.32 Q1578.5 1477.56 1583.08 1472.93 Q1587.69 1468.28 1588.87 1466.94 Q1591.12 1464.41 1592 1462.68 Q1592.9 1460.92 1592.9 1459.23 Q1592.9 1456.47 1590.95 1454.74 Q1589.03 1453 1585.93 1453 Q1583.73 1453 1581.28 1453.77 Q1578.85 1454.53 1576.07 1456.08 L1576.07 1451.36 Q1578.89 1450.22 1581.35 1449.65 Q1583.8 1449.07 1585.84 1449.07 Q1591.21 1449.07 1594.4 1451.75 Q1597.6 1454.44 1597.6 1458.93 Q1597.6 1461.06 1596.79 1462.98 Q1596 1464.88 1593.89 1467.47 Q1593.32 1468.14 1590.21 1471.36 Q1587.11 1474.55 1581.46 1480.32 Z\" fill=\"#000000\" fill-rule=\"evenodd\" fill-opacity=\"1\" /><path clip-path=\"url(#clip9900)\" d=\"M 0 0 M1612.85 1452.77 Q1609.24 1452.77 1607.41 1456.34 Q1605.61 1459.88 1605.61 1467.01 Q1605.61 1474.11 1607.41 1477.68 Q1609.24 1481.22 1612.85 1481.22 Q1616.49 1481.22 1618.29 1477.68 Q1620.12 1474.11 1620.12 1467.01 Q1620.12 1459.88 1618.29 1456.34 Q1616.49 1452.77 1612.85 1452.77 M1612.85 1449.07 Q1618.66 1449.07 1621.72 1453.67 Q1624.8 1458.26 1624.8 1467.01 Q1624.8 1475.73 1621.72 1480.34 Q1618.66 1484.92 1612.85 1484.92 Q1607.04 1484.92 1603.96 1480.34 Q1600.91 1475.73 1600.91 1467.01 Q1600.91 1458.26 1603.96 1453.67 Q1607.04 1449.07 1612.85 1449.07 Z\" fill=\"#000000\" fill-rule=\"evenodd\" fill-opacity=\"1\" /><path clip-path=\"url(#clip9900)\" d=\"M 0 0 M1630.35 1478.37 L1635.24 1478.37 L1635.24 1482.35 L1631.44 1489.76 L1628.45 1489.76 L1630.35 1482.35 L1630.35 1478.37 Z\" fill=\"#000000\" fill-rule=\"evenodd\" fill-opacity=\"1\" /><path clip-path=\"url(#clip9900)\" d=\"M 0 0 M1644.33 1480.32 L1660.65 1480.32 L1660.65 1484.25 L1638.71 1484.25 L1638.71 1480.32 Q1641.37 1477.56 1645.95 1472.93 Q1650.56 1468.28 1651.74 1466.94 Q1653.99 1464.41 1654.87 1462.68 Q1655.77 1460.92 1655.77 1459.23 Q1655.77 1456.47 1653.82 1454.74 Q1651.9 1453 1648.8 1453 Q1646.6 1453 1644.15 1453.77 Q1641.72 1454.53 1638.94 1456.08 L1638.94 1451.36 Q1641.76 1450.22 1644.22 1449.65 Q1646.67 1449.07 1648.71 1449.07 Q1654.08 1449.07 1657.27 1451.75 Q1660.47 1454.44 1660.47 1458.93 Q1660.47 1461.06 1659.66 1462.98 Q1658.87 1464.88 1656.76 1467.47 Q1656.19 1468.14 1653.08 1471.36 Q1649.98 1474.55 1644.33 1480.32 Z\" fill=\"#000000\" fill-rule=\"evenodd\" fill-opacity=\"1\" /><path clip-path=\"url(#clip9900)\" d=\"M 0 0 M1675.72 1452.77 Q1672.11 1452.77 1670.28 1456.34 Q1668.48 1459.88 1668.48 1467.01 Q1668.48 1474.11 1670.28 1477.68 Q1672.11 1481.22 1675.72 1481.22 Q1679.36 1481.22 1681.16 1477.68 Q1682.99 1474.11 1682.99 1467.01 Q1682.99 1459.88 1681.16 1456.34 Q1679.36 1452.77 1675.72 1452.77 M1675.72 1449.07 Q1681.53 1449.07 1684.59 1453.67 Q1687.67 1458.26 1687.67 1467.01 Q1687.67 1475.73 1684.59 1480.34 Q1681.53 1484.92 1675.72 1484.92 Q1669.91 1484.92 1666.83 1480.34 Q1663.78 1475.73 1663.78 1467.01 Q1663.78 1458.26 1666.83 1453.67 Q1669.91 1449.07 1675.72 1449.07 Z\" fill=\"#000000\" fill-rule=\"evenodd\" fill-opacity=\"1\" /><path clip-path=\"url(#clip9900)\" d=\"M 0 0 M1764.39 1452.86 Q1759.3 1452.86 1756.29 1456.66 Q1753.3 1460.46 1753.3 1467.01 Q1753.3 1473.53 1756.29 1477.33 Q1759.3 1481.13 1764.39 1481.13 Q1769.48 1481.13 1772.45 1477.33 Q1775.43 1473.53 1775.43 1467.01 Q1775.43 1460.46 1772.45 1456.66 Q1769.48 1452.86 1764.39 1452.86 M1764.39 1449.07 Q1771.66 1449.07 1776.01 1453.95 Q1780.36 1458.81 1780.36 1467.01 Q1780.36 1475.18 1776.01 1480.06 Q1771.66 1484.92 1764.39 1484.92 Q1757.1 1484.92 1752.72 1480.06 Q1748.37 1475.2 1748.37 1467.01 Q1748.37 1458.81 1752.72 1453.95 Q1757.1 1449.07 1764.39 1449.07 Z\" fill=\"#000000\" fill-rule=\"evenodd\" fill-opacity=\"1\" /><path clip-path=\"url(#clip9900)\" d=\"M 0 0 M1803.49 1459.32 L1803.49 1463.3 Q1801.68 1462.31 1799.85 1461.82 Q1798.05 1461.31 1796.2 1461.31 Q1792.05 1461.31 1789.76 1463.95 Q1787.47 1466.57 1787.47 1471.31 Q1787.47 1476.06 1789.76 1478.7 Q1792.05 1481.31 1796.2 1481.31 Q1798.05 1481.31 1799.85 1480.83 Q1801.68 1480.32 1803.49 1479.32 L1803.49 1483.26 Q1801.71 1484.09 1799.78 1484.51 Q1797.89 1484.92 1795.73 1484.92 Q1789.88 1484.92 1786.43 1481.24 Q1782.98 1477.56 1782.98 1471.31 Q1782.98 1464.97 1786.45 1461.34 Q1789.95 1457.7 1796.01 1457.7 Q1797.98 1457.7 1799.85 1458.12 Q1801.73 1458.51 1803.49 1459.32 Z\" fill=\"#000000\" fill-rule=\"evenodd\" fill-opacity=\"1\" /><path clip-path=\"url(#clip9900)\" d=\"M 0 0 M1812.17 1450.96 L1812.17 1458.33 L1820.94 1458.33 L1820.94 1461.64 L1812.17 1461.64 L1812.17 1475.71 Q1812.17 1478.88 1813.03 1479.78 Q1813.91 1480.69 1816.57 1480.69 L1820.94 1480.69 L1820.94 1484.25 L1816.57 1484.25 Q1811.64 1484.25 1809.76 1482.42 Q1807.89 1480.57 1807.89 1475.71 L1807.89 1461.64 L1804.76 1461.64 L1804.76 1458.33 L1807.89 1458.33 L1807.89 1450.96 L1812.17 1450.96 Z\" fill=\"#000000\" fill-rule=\"evenodd\" fill-opacity=\"1\" /><path clip-path=\"url(#clip9900)\" d=\"M 0 0 M1826.01 1478.37 L1830.9 1478.37 L1830.9 1484.25 L1826.01 1484.25 L1826.01 1478.37 Z\" fill=\"#000000\" fill-rule=\"evenodd\" fill-opacity=\"1\" /><path clip-path=\"url(#clip9900)\" d=\"M 0 0 M1839.99 1480.32 L1856.31 1480.32 L1856.31 1484.25 L1834.37 1484.25 L1834.37 1480.32 Q1837.03 1477.56 1841.61 1472.93 Q1846.22 1468.28 1847.4 1466.94 Q1849.65 1464.41 1850.53 1462.68 Q1851.43 1460.92 1851.43 1459.23 Q1851.43 1456.47 1849.48 1454.74 Q1847.56 1453 1844.46 1453 Q1842.26 1453 1839.81 1453.77 Q1837.38 1454.53 1834.6 1456.08 L1834.6 1451.36 Q1837.42 1450.22 1839.88 1449.65 Q1842.33 1449.07 1844.37 1449.07 Q1849.74 1449.07 1852.93 1451.75 Q1856.13 1454.44 1856.13 1458.93 Q1856.13 1461.06 1855.32 1462.98 Q1854.53 1464.88 1852.42 1467.47 Q1851.84 1468.14 1848.74 1471.36 Q1845.64 1474.55 1839.99 1480.32 Z\" fill=\"#000000\" fill-rule=\"evenodd\" fill-opacity=\"1\" /><path clip-path=\"url(#clip9900)\" d=\"M 0 0 M1861.52 1483.53 L1861.52 1479.28 Q1863.28 1480.11 1865.09 1480.55 Q1866.89 1480.99 1868.63 1480.99 Q1873.26 1480.99 1875.69 1477.89 Q1878.14 1474.76 1878.49 1468.42 Q1877.15 1470.41 1875.09 1471.47 Q1873.03 1472.54 1870.53 1472.54 Q1865.34 1472.54 1862.31 1469.41 Q1859.3 1466.27 1859.3 1460.83 Q1859.3 1455.5 1862.45 1452.28 Q1865.59 1449.07 1870.83 1449.07 Q1876.82 1449.07 1879.97 1453.67 Q1883.14 1458.26 1883.14 1467.01 Q1883.14 1475.18 1879.25 1480.06 Q1875.39 1484.92 1868.84 1484.92 Q1867.08 1484.92 1865.27 1484.58 Q1863.46 1484.23 1861.52 1483.53 M1870.83 1468.88 Q1873.97 1468.88 1875.8 1466.73 Q1877.65 1464.58 1877.65 1460.83 Q1877.65 1457.1 1875.8 1454.95 Q1873.97 1452.77 1870.83 1452.77 Q1867.68 1452.77 1865.83 1454.95 Q1864 1457.1 1864 1460.83 Q1864 1464.58 1865.83 1466.73 Q1867.68 1468.88 1870.83 1468.88 Z\" fill=\"#000000\" fill-rule=\"evenodd\" fill-opacity=\"1\" /><path clip-path=\"url(#clip9900)\" d=\"M 0 0 M1888.7 1478.37 L1893.58 1478.37 L1893.58 1482.35 L1889.78 1489.76 L1886.8 1489.76 L1888.7 1482.35 L1888.7 1478.37 Z\" fill=\"#000000\" fill-rule=\"evenodd\" fill-opacity=\"1\" /><path clip-path=\"url(#clip9900)\" d=\"M 0 0 M1902.68 1480.32 L1919 1480.32 L1919 1484.25 L1897.05 1484.25 L1897.05 1480.32 Q1899.71 1477.56 1904.3 1472.93 Q1908.9 1468.28 1910.09 1466.94 Q1912.33 1464.41 1913.21 1462.68 Q1914.11 1460.92 1914.11 1459.23 Q1914.11 1456.47 1912.17 1454.74 Q1910.25 1453 1907.15 1453 Q1904.95 1453 1902.49 1453.77 Q1900.06 1454.53 1897.28 1456.08 L1897.28 1451.36 Q1900.11 1450.22 1902.56 1449.65 Q1905.02 1449.07 1907.05 1449.07 Q1912.42 1449.07 1915.62 1451.75 Q1918.81 1454.44 1918.81 1458.93 Q1918.81 1461.06 1918 1462.98 Q1917.21 1464.88 1915.11 1467.47 Q1914.53 1468.14 1911.43 1471.36 Q1908.33 1474.55 1902.68 1480.32 Z\" fill=\"#000000\" fill-rule=\"evenodd\" fill-opacity=\"1\" /><path clip-path=\"url(#clip9900)\" d=\"M 0 0 M1934.07 1452.77 Q1930.46 1452.77 1928.63 1456.34 Q1926.82 1459.88 1926.82 1467.01 Q1926.82 1474.11 1928.63 1477.68 Q1930.46 1481.22 1934.07 1481.22 Q1937.7 1481.22 1939.51 1477.68 Q1941.33 1474.11 1941.33 1467.01 Q1941.33 1459.88 1939.51 1456.34 Q1937.7 1452.77 1934.07 1452.77 M1934.07 1449.07 Q1939.88 1449.07 1942.93 1453.67 Q1946.01 1458.26 1946.01 1467.01 Q1946.01 1475.73 1942.93 1480.34 Q1939.88 1484.92 1934.07 1484.92 Q1928.26 1484.92 1925.18 1480.34 Q1922.12 1475.73 1922.12 1467.01 Q1922.12 1458.26 1925.18 1453.67 Q1928.26 1449.07 1934.07 1449.07 Z\" fill=\"#000000\" fill-rule=\"evenodd\" fill-opacity=\"1\" /><path clip-path=\"url(#clip9900)\" d=\"M 0 0 M1989.15 1449.69 L1995.44 1449.69 L2010.77 1478.6 L2010.77 1449.69 L2015.3 1449.69 L2015.3 1484.25 L2009.01 1484.25 L1993.68 1455.34 L1993.68 1484.25 L1989.15 1484.25 L1989.15 1449.69 Z\" fill=\"#000000\" fill-rule=\"evenodd\" fill-opacity=\"1\" /><path clip-path=\"url(#clip9900)\" d=\"M 0 0 M2029.82 1461.31 Q2026.39 1461.31 2024.4 1464 Q2022.41 1466.66 2022.41 1471.31 Q2022.41 1475.96 2024.38 1478.65 Q2026.37 1481.31 2029.82 1481.31 Q2033.22 1481.31 2035.21 1478.63 Q2037.2 1475.94 2037.2 1471.31 Q2037.2 1466.71 2035.21 1464.02 Q2033.22 1461.31 2029.82 1461.31 M2029.82 1457.7 Q2035.37 1457.7 2038.54 1461.31 Q2041.72 1464.92 2041.72 1471.31 Q2041.72 1477.68 2038.54 1481.31 Q2035.37 1484.92 2029.82 1484.92 Q2024.24 1484.92 2021.07 1481.31 Q2017.92 1477.68 2017.92 1471.31 Q2017.92 1464.92 2021.07 1461.31 Q2024.24 1457.7 2029.82 1457.7 Z\" fill=\"#000000\" fill-rule=\"evenodd\" fill-opacity=\"1\" /><path clip-path=\"url(#clip9900)\" d=\"M 0 0 M2043.13 1458.33 L2047.64 1458.33 L2055.74 1480.09 L2063.85 1458.33 L2068.36 1458.33 L2058.64 1484.25 L2052.85 1484.25 L2043.13 1458.33 Z\" fill=\"#000000\" fill-rule=\"evenodd\" fill-opacity=\"1\" /><path clip-path=\"url(#clip9900)\" d=\"M 0 0 M2069.75 1478.37 L2074.63 1478.37 L2074.63 1484.25 L2069.75 1484.25 L2069.75 1478.37 Z\" fill=\"#000000\" fill-rule=\"evenodd\" fill-opacity=\"1\" /><path clip-path=\"url(#clip9900)\" d=\"M 0 0 M2090.28 1465.11 Q2087.13 1465.11 2085.28 1467.26 Q2083.45 1469.41 2083.45 1473.16 Q2083.45 1476.89 2085.28 1479.07 Q2087.13 1481.22 2090.28 1481.22 Q2093.43 1481.22 2095.26 1479.07 Q2097.11 1476.89 2097.11 1473.16 Q2097.11 1469.41 2095.26 1467.26 Q2093.43 1465.11 2090.28 1465.11 M2099.56 1450.46 L2099.56 1454.71 Q2097.8 1453.88 2096 1453.44 Q2094.22 1453 2092.46 1453 Q2087.83 1453 2085.37 1456.13 Q2082.94 1459.25 2082.6 1465.57 Q2083.96 1463.56 2086.02 1462.49 Q2088.08 1461.4 2090.56 1461.4 Q2095.77 1461.4 2098.78 1464.58 Q2101.81 1467.72 2101.81 1473.16 Q2101.81 1478.49 2098.66 1481.71 Q2095.51 1484.92 2090.28 1484.92 Q2084.29 1484.92 2081.11 1480.34 Q2077.94 1475.73 2077.94 1467.01 Q2077.94 1458.81 2081.83 1453.95 Q2085.72 1449.07 2092.27 1449.07 Q2094.03 1449.07 2095.81 1449.41 Q2097.62 1449.76 2099.56 1450.46 Z\" fill=\"#000000\" fill-rule=\"evenodd\" fill-opacity=\"1\" /><path clip-path=\"url(#clip9900)\" d=\"M 0 0 M2107.36 1478.37 L2112.25 1478.37 L2112.25 1482.35 L2108.45 1489.76 L2105.47 1489.76 L2107.36 1482.35 L2107.36 1478.37 Z\" fill=\"#000000\" fill-rule=\"evenodd\" fill-opacity=\"1\" /><path clip-path=\"url(#clip9900)\" d=\"M 0 0 M2121.35 1480.32 L2137.66 1480.32 L2137.66 1484.25 L2115.72 1484.25 L2115.72 1480.32 Q2118.38 1477.56 2122.97 1472.93 Q2127.57 1468.28 2128.75 1466.94 Q2131 1464.41 2131.88 1462.68 Q2132.78 1460.92 2132.78 1459.23 Q2132.78 1456.47 2130.84 1454.74 Q2128.91 1453 2125.81 1453 Q2123.61 1453 2121.16 1453.77 Q2118.73 1454.53 2115.95 1456.08 L2115.95 1451.36 Q2118.78 1450.22 2121.23 1449.65 Q2123.68 1449.07 2125.72 1449.07 Q2131.09 1449.07 2134.29 1451.75 Q2137.48 1454.44 2137.48 1458.93 Q2137.48 1461.06 2136.67 1462.98 Q2135.88 1464.88 2133.78 1467.47 Q2133.2 1468.14 2130.1 1471.36 Q2126.99 1474.55 2121.35 1480.32 Z\" fill=\"#000000\" fill-rule=\"evenodd\" fill-opacity=\"1\" /><path clip-path=\"url(#clip9900)\" d=\"M 0 0 M2152.73 1452.77 Q2149.12 1452.77 2147.29 1456.34 Q2145.49 1459.88 2145.49 1467.01 Q2145.49 1474.11 2147.29 1477.68 Q2149.12 1481.22 2152.73 1481.22 Q2156.37 1481.22 2158.17 1477.68 Q2160 1474.11 2160 1467.01 Q2160 1459.88 2158.17 1456.34 Q2156.37 1452.77 2152.73 1452.77 M2152.73 1449.07 Q2158.54 1449.07 2161.6 1453.67 Q2164.68 1458.26 2164.68 1467.01 Q2164.68 1475.73 2161.6 1480.34 Q2158.54 1484.92 2152.73 1484.92 Q2146.92 1484.92 2143.85 1480.34 Q2140.79 1475.73 2140.79 1467.01 Q2140.79 1458.26 2143.85 1453.67 Q2146.92 1449.07 2152.73 1449.07 Z\" fill=\"#000000\" fill-rule=\"evenodd\" fill-opacity=\"1\" /><path clip-path=\"url(#clip9900)\" d=\"M 0 0 M2205.81 1449.69 L2212.11 1449.69 L2227.43 1478.6 L2227.43 1449.69 L2231.97 1449.69 L2231.97 1484.25 L2225.67 1484.25 L2210.35 1455.34 L2210.35 1484.25 L2205.81 1484.25 L2205.81 1449.69 Z\" fill=\"#000000\" fill-rule=\"evenodd\" fill-opacity=\"1\" /><path clip-path=\"url(#clip9900)\" d=\"M 0 0 M2246.48 1461.31 Q2243.06 1461.31 2241.07 1464 Q2239.08 1466.66 2239.08 1471.31 Q2239.08 1475.96 2241.04 1478.65 Q2243.03 1481.31 2246.48 1481.31 Q2249.89 1481.31 2251.88 1478.63 Q2253.87 1475.94 2253.87 1471.31 Q2253.87 1466.71 2251.88 1464.02 Q2249.89 1461.31 2246.48 1461.31 M2246.48 1457.7 Q2252.04 1457.7 2255.21 1461.31 Q2258.38 1464.92 2258.38 1471.31 Q2258.38 1477.68 2255.21 1481.31 Q2252.04 1484.92 2246.48 1484.92 Q2240.9 1484.92 2237.73 1481.31 Q2234.59 1477.68 2234.59 1471.31 Q2234.59 1464.92 2237.73 1461.31 Q2240.9 1457.7 2246.48 1457.7 Z\" fill=\"#000000\" fill-rule=\"evenodd\" fill-opacity=\"1\" /><path clip-path=\"url(#clip9900)\" d=\"M 0 0 M2259.79 1458.33 L2264.31 1458.33 L2272.41 1480.09 L2280.51 1458.33 L2285.02 1458.33 L2275.3 1484.25 L2269.52 1484.25 L2259.79 1458.33 Z\" fill=\"#000000\" fill-rule=\"evenodd\" fill-opacity=\"1\" /><path clip-path=\"url(#clip9900)\" d=\"M 0 0 M2286.41 1478.37 L2291.3 1478.37 L2291.3 1484.25 L2286.41 1484.25 L2286.41 1478.37 Z\" fill=\"#000000\" fill-rule=\"evenodd\" fill-opacity=\"1\" /><path clip-path=\"url(#clip9900)\" d=\"M 0 0 M2297.18 1480.32 L2304.82 1480.32 L2304.82 1453.95 L2296.51 1455.62 L2296.51 1451.36 L2304.77 1449.69 L2309.45 1449.69 L2309.45 1480.32 L2317.09 1480.32 L2317.09 1484.25 L2297.18 1484.25 L2297.18 1480.32 Z\" fill=\"#000000\" fill-rule=\"evenodd\" fill-opacity=\"1\" /><path clip-path=\"url(#clip9900)\" d=\"M 0 0 M2335 1453.77 L2323.2 1472.21 L2335 1472.21 L2335 1453.77 M2333.77 1449.69 L2339.65 1449.69 L2339.65 1472.21 L2344.58 1472.21 L2344.58 1476.1 L2339.65 1476.1 L2339.65 1484.25 L2335 1484.25 L2335 1476.1 L2319.4 1476.1 L2319.4 1471.59 L2333.77 1449.69 Z\" fill=\"#000000\" fill-rule=\"evenodd\" fill-opacity=\"1\" /><path clip-path=\"url(#clip9900)\" d=\"M 0 0 M2350.14 1478.37 L2355.02 1478.37 L2355.02 1482.35 L2351.23 1489.76 L2348.24 1489.76 L2350.14 1482.35 L2350.14 1478.37 Z\" fill=\"#000000\" fill-rule=\"evenodd\" fill-opacity=\"1\" /><path clip-path=\"url(#clip9900)\" d=\"M 0 0 M2364.12 1480.32 L2380.44 1480.32 L2380.44 1484.25 L2358.5 1484.25 L2358.5 1480.32 Q2361.16 1477.56 2365.74 1472.93 Q2370.35 1468.28 2371.53 1466.94 Q2373.77 1464.41 2374.65 1462.68 Q2375.56 1460.92 2375.56 1459.23 Q2375.56 1456.47 2373.61 1454.74 Q2371.69 1453 2368.59 1453 Q2366.39 1453 2363.94 1453.77 Q2361.51 1454.53 2358.73 1456.08 L2358.73 1451.36 Q2361.55 1450.22 2364.01 1449.65 Q2366.46 1449.07 2368.5 1449.07 Q2373.87 1449.07 2377.06 1451.75 Q2380.26 1454.44 2380.26 1458.93 Q2380.26 1461.06 2379.45 1462.98 Q2378.66 1464.88 2376.55 1467.47 Q2375.97 1468.14 2372.87 1471.36 Q2369.77 1474.55 2364.12 1480.32 Z\" fill=\"#000000\" fill-rule=\"evenodd\" fill-opacity=\"1\" /><path clip-path=\"url(#clip9900)\" d=\"M 0 0 M2395.51 1452.77 Q2391.9 1452.77 2390.07 1456.34 Q2388.27 1459.88 2388.27 1467.01 Q2388.27 1474.11 2390.07 1477.68 Q2391.9 1481.22 2395.51 1481.22 Q2399.14 1481.22 2400.95 1477.68 Q2402.78 1474.11 2402.78 1467.01 Q2402.78 1459.88 2400.95 1456.34 Q2399.14 1452.77 2395.51 1452.77 M2395.51 1449.07 Q2401.32 1449.07 2404.38 1453.67 Q2407.45 1458.26 2407.45 1467.01 Q2407.45 1475.73 2404.38 1480.34 Q2401.32 1484.92 2395.51 1484.92 Q2389.7 1484.92 2386.62 1480.34 Q2383.57 1475.73 2383.57 1467.01 Q2383.57 1458.26 2386.62 1453.67 Q2389.7 1449.07 2395.51 1449.07 Z\" fill=\"#000000\" fill-rule=\"evenodd\" fill-opacity=\"1\" /><path clip-path=\"url(#clip9900)\" d=\"M 0 0 M2465 1449.69 L2471.3 1449.69 L2486.62 1478.6 L2486.62 1449.69 L2491.16 1449.69 L2491.16 1484.25 L2484.86 1484.25 L2469.54 1455.34 L2469.54 1484.25 L2465 1484.25 L2465 1449.69 Z\" fill=\"#000000\" fill-rule=\"evenodd\" fill-opacity=\"1\" /><path clip-path=\"url(#clip9900)\" d=\"M 0 0 M2505.67 1461.31 Q2502.25 1461.31 2500.26 1464 Q2498.26 1466.66 2498.26 1471.31 Q2498.26 1475.96 2500.23 1478.65 Q2502.22 1481.31 2505.67 1481.31 Q2509.07 1481.31 2511.07 1478.63 Q2513.06 1475.94 2513.06 1471.31 Q2513.06 1466.71 2511.07 1464.02 Q2509.07 1461.31 2505.67 1461.31 M2505.67 1457.7 Q2511.23 1457.7 2514.4 1461.31 Q2517.57 1464.92 2517.57 1471.31 Q2517.57 1477.68 2514.4 1481.31 Q2511.23 1484.92 2505.67 1484.92 Q2500.09 1484.92 2496.92 1481.31 Q2493.77 1477.68 2493.77 1471.31 Q2493.77 1464.92 2496.92 1461.31 Q2500.09 1457.7 2505.67 1457.7 Z\" fill=\"#000000\" fill-rule=\"evenodd\" fill-opacity=\"1\" /><path clip-path=\"url(#clip9900)\" d=\"M 0 0 M2518.98 1458.33 L2523.5 1458.33 L2531.6 1480.09 L2539.7 1458.33 L2544.21 1458.33 L2534.49 1484.25 L2528.7 1484.25 L2518.98 1458.33 Z\" fill=\"#000000\" fill-rule=\"evenodd\" fill-opacity=\"1\" /><path clip-path=\"url(#clip9900)\" d=\"M 0 0 M2545.6 1478.37 L2550.49 1478.37 L2550.49 1484.25 L2545.6 1484.25 L2545.6 1478.37 Z\" fill=\"#000000\" fill-rule=\"evenodd\" fill-opacity=\"1\" /><path clip-path=\"url(#clip9900)\" d=\"M 0 0 M2559.58 1480.32 L2575.9 1480.32 L2575.9 1484.25 L2553.96 1484.25 L2553.96 1480.32 Q2556.62 1477.56 2561.2 1472.93 Q2565.81 1468.28 2566.99 1466.94 Q2569.24 1464.41 2570.12 1462.68 Q2571.02 1460.92 2571.02 1459.23 Q2571.02 1456.47 2569.07 1454.74 Q2567.15 1453 2564.05 1453 Q2561.85 1453 2559.4 1453.77 Q2556.97 1454.53 2554.19 1456.08 L2554.19 1451.36 Q2557.01 1450.22 2559.47 1449.65 Q2561.92 1449.07 2563.96 1449.07 Q2569.33 1449.07 2572.52 1451.75 Q2575.72 1454.44 2575.72 1458.93 Q2575.72 1461.06 2574.91 1462.98 Q2574.12 1464.88 2572.01 1467.47 Q2571.44 1468.14 2568.33 1471.36 Q2565.23 1474.55 2559.58 1480.32 Z\" fill=\"#000000\" fill-rule=\"evenodd\" fill-opacity=\"1\" /><path clip-path=\"url(#clip9900)\" d=\"M 0 0 M2595.14 1465.62 Q2598.5 1466.34 2600.37 1468.6 Q2602.27 1470.87 2602.27 1474.21 Q2602.27 1479.32 2598.75 1482.12 Q2595.23 1484.92 2588.75 1484.92 Q2586.57 1484.92 2584.26 1484.48 Q2581.97 1484.07 2579.51 1483.21 L2579.51 1478.7 Q2581.46 1479.83 2583.77 1480.41 Q2586.09 1480.99 2588.61 1480.99 Q2593.01 1480.99 2595.3 1479.25 Q2597.62 1477.52 2597.62 1474.21 Q2597.62 1471.15 2595.46 1469.44 Q2593.33 1467.7 2589.51 1467.7 L2585.49 1467.7 L2585.49 1463.86 L2589.7 1463.86 Q2593.15 1463.86 2594.98 1462.49 Q2596.81 1461.1 2596.81 1458.51 Q2596.81 1455.85 2594.91 1454.44 Q2593.03 1453 2589.51 1453 Q2587.59 1453 2585.39 1453.42 Q2583.19 1453.84 2580.56 1454.71 L2580.56 1450.55 Q2583.22 1449.81 2585.53 1449.44 Q2587.87 1449.07 2589.93 1449.07 Q2595.25 1449.07 2598.36 1451.5 Q2601.46 1453.9 2601.46 1458.03 Q2601.46 1460.9 2599.81 1462.89 Q2598.17 1464.85 2595.14 1465.62 Z\" fill=\"#000000\" fill-rule=\"evenodd\" fill-opacity=\"1\" /><path clip-path=\"url(#clip9900)\" d=\"M 0 0 M2607.82 1478.37 L2612.71 1478.37 L2612.71 1482.35 L2608.91 1489.76 L2605.93 1489.76 L2607.82 1482.35 L2607.82 1478.37 Z\" fill=\"#000000\" fill-rule=\"evenodd\" fill-opacity=\"1\" /><path clip-path=\"url(#clip9900)\" d=\"M 0 0 M2621.81 1480.32 L2638.12 1480.32 L2638.12 1484.25 L2616.18 1484.25 L2616.18 1480.32 Q2618.84 1477.56 2623.43 1472.93 Q2628.03 1468.28 2629.21 1466.94 Q2631.46 1464.41 2632.34 1462.68 Q2633.24 1460.92 2633.24 1459.23 Q2633.24 1456.47 2631.3 1454.74 Q2629.37 1453 2626.27 1453 Q2624.07 1453 2621.62 1453.77 Q2619.19 1454.53 2616.41 1456.08 L2616.41 1451.36 Q2619.24 1450.22 2621.69 1449.65 Q2624.14 1449.07 2626.18 1449.07 Q2631.55 1449.07 2634.75 1451.75 Q2637.94 1454.44 2637.94 1458.93 Q2637.94 1461.06 2637.13 1462.98 Q2636.34 1464.88 2634.24 1467.47 Q2633.66 1468.14 2630.56 1471.36 Q2627.45 1474.55 2621.81 1480.32 Z\" fill=\"#000000\" fill-rule=\"evenodd\" fill-opacity=\"1\" /><path clip-path=\"url(#clip9900)\" d=\"M 0 0 M2653.19 1452.77 Q2649.58 1452.77 2647.75 1456.34 Q2645.95 1459.88 2645.95 1467.01 Q2645.95 1474.11 2647.75 1477.68 Q2649.58 1481.22 2653.19 1481.22 Q2656.83 1481.22 2658.63 1477.68 Q2660.46 1474.11 2660.46 1467.01 Q2660.46 1459.88 2658.63 1456.34 Q2656.83 1452.77 2653.19 1452.77 M2653.19 1449.07 Q2659 1449.07 2662.06 1453.67 Q2665.14 1458.26 2665.14 1467.01 Q2665.14 1475.73 2662.06 1480.34 Q2659 1484.92 2653.19 1484.92 Q2647.38 1484.92 2644.31 1480.34 Q2641.25 1475.73 2641.25 1467.01 Q2641.25 1458.26 2644.31 1453.67 Q2647.38 1449.07 2653.19 1449.07 Z\" fill=\"#000000\" fill-rule=\"evenodd\" fill-opacity=\"1\" /><path clip-path=\"url(#clip9900)\" d=\"M 0 0 M2710.75 1453.53 L2710.75 1480.41 L2716.4 1480.41 Q2723.55 1480.41 2726.86 1477.17 Q2730.2 1473.93 2730.2 1466.94 Q2730.2 1459.99 2726.86 1456.78 Q2723.55 1453.53 2716.4 1453.53 L2710.75 1453.53 M2706.08 1449.69 L2715.68 1449.69 Q2725.73 1449.69 2730.43 1453.88 Q2735.13 1458.05 2735.13 1466.94 Q2735.13 1475.87 2730.4 1480.06 Q2725.68 1484.25 2715.68 1484.25 L2706.08 1484.25 L2706.08 1449.69 Z\" fill=\"#000000\" fill-rule=\"evenodd\" fill-opacity=\"1\" /><path clip-path=\"url(#clip9900)\" d=\"M 0 0 M2761.77 1470.22 L2761.77 1472.31 L2742.19 1472.31 Q2742.46 1476.71 2744.83 1479.02 Q2747.21 1481.31 2751.45 1481.31 Q2753.9 1481.31 2756.19 1480.71 Q2758.51 1480.11 2760.77 1478.9 L2760.77 1482.93 Q2758.48 1483.9 2756.08 1484.41 Q2753.67 1484.92 2751.19 1484.92 Q2744.99 1484.92 2741.35 1481.31 Q2737.74 1477.7 2737.74 1471.54 Q2737.74 1465.18 2741.17 1461.45 Q2744.62 1457.7 2750.45 1457.7 Q2755.68 1457.7 2758.71 1461.08 Q2761.77 1464.44 2761.77 1470.22 M2757.51 1468.97 Q2757.46 1465.48 2755.54 1463.4 Q2753.64 1461.31 2750.5 1461.31 Q2746.93 1461.31 2744.78 1463.33 Q2742.65 1465.34 2742.33 1469 L2757.51 1468.97 Z\" fill=\"#000000\" fill-rule=\"evenodd\" fill-opacity=\"1\" /><path clip-path=\"url(#clip9900)\" d=\"M 0 0 M2784.89 1459.32 L2784.89 1463.3 Q2783.09 1462.31 2781.26 1461.82 Q2779.46 1461.31 2777.6 1461.31 Q2773.46 1461.31 2771.17 1463.95 Q2768.88 1466.57 2768.88 1471.31 Q2768.88 1476.06 2771.17 1478.7 Q2773.46 1481.31 2777.6 1481.31 Q2779.46 1481.31 2781.26 1480.83 Q2783.09 1480.32 2784.89 1479.32 L2784.89 1483.26 Q2783.11 1484.09 2781.19 1484.51 Q2779.29 1484.92 2777.14 1484.92 Q2771.28 1484.92 2767.83 1481.24 Q2764.39 1477.56 2764.39 1471.31 Q2764.39 1464.97 2767.86 1461.34 Q2771.35 1457.7 2777.42 1457.7 Q2779.39 1457.7 2781.26 1458.12 Q2783.14 1458.51 2784.89 1459.32 Z\" fill=\"#000000\" fill-rule=\"evenodd\" fill-opacity=\"1\" /><path clip-path=\"url(#clip9900)\" d=\"M 0 0 M2789.96 1478.37 L2794.85 1478.37 L2794.85 1484.25 L2789.96 1484.25 L2789.96 1478.37 Z\" fill=\"#000000\" fill-rule=\"evenodd\" fill-opacity=\"1\" /><path clip-path=\"url(#clip9900)\" d=\"M 0 0 M2800.73 1480.32 L2808.37 1480.32 L2808.37 1453.95 L2800.06 1455.62 L2800.06 1451.36 L2808.32 1449.69 L2813 1449.69 L2813 1480.32 L2820.64 1480.32 L2820.64 1484.25 L2800.73 1484.25 L2800.73 1480.32 Z\" fill=\"#000000\" fill-rule=\"evenodd\" fill-opacity=\"1\" /><path clip-path=\"url(#clip9900)\" d=\"M 0 0 M2826.19 1478.37 L2831.08 1478.37 L2831.08 1482.35 L2827.28 1489.76 L2824.29 1489.76 L2826.19 1482.35 L2826.19 1478.37 Z\" fill=\"#000000\" fill-rule=\"evenodd\" fill-opacity=\"1\" /><path clip-path=\"url(#clip9900)\" d=\"M 0 0 M2840.17 1480.32 L2856.49 1480.32 L2856.49 1484.25 L2834.55 1484.25 L2834.55 1480.32 Q2837.21 1477.56 2841.79 1472.93 Q2846.4 1468.28 2847.58 1466.94 Q2849.83 1464.41 2850.7 1462.68 Q2851.61 1460.92 2851.61 1459.23 Q2851.61 1456.47 2849.66 1454.74 Q2847.74 1453 2844.64 1453 Q2842.44 1453 2839.99 1453.77 Q2837.56 1454.53 2834.78 1456.08 L2834.78 1451.36 Q2837.6 1450.22 2840.06 1449.65 Q2842.51 1449.07 2844.55 1449.07 Q2849.92 1449.07 2853.11 1451.75 Q2856.31 1454.44 2856.31 1458.93 Q2856.31 1461.06 2855.5 1462.98 Q2854.71 1464.88 2852.6 1467.47 Q2852.02 1468.14 2848.92 1471.36 Q2845.82 1474.55 2840.17 1480.32 Z\" fill=\"#000000\" fill-rule=\"evenodd\" fill-opacity=\"1\" /><path clip-path=\"url(#clip9900)\" d=\"M 0 0 M2871.56 1452.77 Q2867.95 1452.77 2866.12 1456.34 Q2864.32 1459.88 2864.32 1467.01 Q2864.32 1474.11 2866.12 1477.68 Q2867.95 1481.22 2871.56 1481.22 Q2875.2 1481.22 2877 1477.68 Q2878.83 1474.11 2878.83 1467.01 Q2878.83 1459.88 2877 1456.34 Q2875.2 1452.77 2871.56 1452.77 M2871.56 1449.07 Q2877.37 1449.07 2880.43 1453.67 Q2883.51 1458.26 2883.51 1467.01 Q2883.51 1475.73 2880.43 1480.34 Q2877.37 1484.92 2871.56 1484.92 Q2865.75 1484.92 2862.67 1480.34 Q2859.62 1475.73 2859.62 1467.01 Q2859.62 1458.26 2862.67 1453.67 Q2865.75 1449.07 2871.56 1449.07 Z\" fill=\"#000000\" fill-rule=\"evenodd\" fill-opacity=\"1\" /><path clip-path=\"url(#clip9900)\" d=\"M 0 0 M2955.68 1453.53 L2955.68 1480.41 L2961.33 1480.41 Q2968.48 1480.41 2971.79 1477.17 Q2975.13 1473.93 2975.13 1466.94 Q2975.13 1459.99 2971.79 1456.78 Q2968.48 1453.53 2961.33 1453.53 L2955.68 1453.53 M2951 1449.69 L2960.61 1449.69 Q2970.66 1449.69 2975.36 1453.88 Q2980.06 1458.05 2980.06 1466.94 Q2980.06 1475.87 2975.33 1480.06 Q2970.61 1484.25 2960.61 1484.25 L2951 1484.25 L2951 1449.69 Z\" fill=\"#000000\" fill-rule=\"evenodd\" fill-opacity=\"1\" /><path clip-path=\"url(#clip9900)\" d=\"M 0 0 M3006.7 1470.22 L3006.7 1472.31 L2987.12 1472.31 Q2987.39 1476.71 2989.75 1479.02 Q2992.14 1481.31 2996.38 1481.31 Q2998.83 1481.31 3001.12 1480.71 Q3003.44 1480.11 3005.7 1478.9 L3005.7 1482.93 Q3003.41 1483.9 3001 1484.41 Q2998.6 1484.92 2996.12 1484.92 Q2989.92 1484.92 2986.28 1481.31 Q2982.67 1477.7 2982.67 1471.54 Q2982.67 1465.18 2986.1 1461.45 Q2989.55 1457.7 2995.38 1457.7 Q3000.61 1457.7 3003.64 1461.08 Q3006.7 1464.44 3006.7 1470.22 M3002.44 1468.97 Q3002.39 1465.48 3000.47 1463.4 Q2998.57 1461.31 2995.43 1461.31 Q2991.86 1461.31 2989.71 1463.33 Q2987.58 1465.34 2987.25 1469 L3002.44 1468.97 Z\" fill=\"#000000\" fill-rule=\"evenodd\" fill-opacity=\"1\" /><path clip-path=\"url(#clip9900)\" d=\"M 0 0 M3029.82 1459.32 L3029.82 1463.3 Q3028.02 1462.31 3026.19 1461.82 Q3024.38 1461.31 3022.53 1461.31 Q3018.39 1461.31 3016.1 1463.95 Q3013.81 1466.57 3013.81 1471.31 Q3013.81 1476.06 3016.1 1478.7 Q3018.39 1481.31 3022.53 1481.31 Q3024.38 1481.31 3026.19 1480.83 Q3028.02 1480.32 3029.82 1479.32 L3029.82 1483.26 Q3028.04 1484.09 3026.12 1484.51 Q3024.22 1484.92 3022.07 1484.92 Q3016.21 1484.92 3012.76 1481.24 Q3009.31 1477.56 3009.31 1471.31 Q3009.31 1464.97 3012.79 1461.34 Q3016.28 1457.7 3022.35 1457.7 Q3024.31 1457.7 3026.19 1458.12 Q3028.06 1458.51 3029.82 1459.32 Z\" fill=\"#000000\" fill-rule=\"evenodd\" fill-opacity=\"1\" /><path clip-path=\"url(#clip9900)\" d=\"M 0 0 M3034.89 1478.37 L3039.78 1478.37 L3039.78 1484.25 L3034.89 1484.25 L3034.89 1478.37 Z\" fill=\"#000000\" fill-rule=\"evenodd\" fill-opacity=\"1\" /><path clip-path=\"url(#clip9900)\" d=\"M 0 0 M3045.66 1480.32 L3053.3 1480.32 L3053.3 1453.95 L3044.99 1455.62 L3044.99 1451.36 L3053.25 1449.69 L3057.93 1449.69 L3057.93 1480.32 L3065.56 1480.32 L3065.56 1484.25 L3045.66 1484.25 L3045.66 1480.32 Z\" fill=\"#000000\" fill-rule=\"evenodd\" fill-opacity=\"1\" /><path clip-path=\"url(#clip9900)\" d=\"M 0 0 M3080.63 1452.77 Q3077.02 1452.77 3075.19 1456.34 Q3073.39 1459.88 3073.39 1467.01 Q3073.39 1474.11 3075.19 1477.68 Q3077.02 1481.22 3080.63 1481.22 Q3084.27 1481.22 3086.07 1477.68 Q3087.9 1474.11 3087.9 1467.01 Q3087.9 1459.88 3086.07 1456.34 Q3084.27 1452.77 3080.63 1452.77 M3080.63 1449.07 Q3086.44 1449.07 3089.5 1453.67 Q3092.58 1458.26 3092.58 1467.01 Q3092.58 1475.73 3089.5 1480.34 Q3086.44 1484.92 3080.63 1484.92 Q3074.82 1484.92 3071.75 1480.34 Q3068.69 1475.73 3068.69 1467.01 Q3068.69 1458.26 3071.75 1453.67 Q3074.82 1449.07 3080.63 1449.07 Z\" fill=\"#000000\" fill-rule=\"evenodd\" fill-opacity=\"1\" /><path clip-path=\"url(#clip9900)\" d=\"M 0 0 M3098.13 1478.37 L3103.02 1478.37 L3103.02 1482.35 L3099.22 1489.76 L3096.24 1489.76 L3098.13 1482.35 L3098.13 1478.37 Z\" fill=\"#000000\" fill-rule=\"evenodd\" fill-opacity=\"1\" /><path clip-path=\"url(#clip9900)\" d=\"M 0 0 M3112.12 1480.32 L3128.43 1480.32 L3128.43 1484.25 L3106.49 1484.25 L3106.49 1480.32 Q3109.15 1477.56 3113.74 1472.93 Q3118.34 1468.28 3119.52 1466.94 Q3121.77 1464.41 3122.65 1462.68 Q3123.55 1460.92 3123.55 1459.23 Q3123.55 1456.47 3121.61 1454.74 Q3119.68 1453 3116.58 1453 Q3114.38 1453 3111.93 1453.77 Q3109.5 1454.53 3106.72 1456.08 L3106.72 1451.36 Q3109.55 1450.22 3112 1449.65 Q3114.45 1449.07 3116.49 1449.07 Q3121.86 1449.07 3125.05 1451.75 Q3128.25 1454.44 3128.25 1458.93 Q3128.25 1461.06 3127.44 1462.98 Q3126.65 1464.88 3124.55 1467.47 Q3123.97 1468.14 3120.87 1471.36 Q3117.76 1474.55 3112.12 1480.32 Z\" fill=\"#000000\" fill-rule=\"evenodd\" fill-opacity=\"1\" /><path clip-path=\"url(#clip9900)\" d=\"M 0 0 M3143.5 1452.77 Q3139.89 1452.77 3138.06 1456.34 Q3136.26 1459.88 3136.26 1467.01 Q3136.26 1474.11 3138.06 1477.68 Q3139.89 1481.22 3143.5 1481.22 Q3147.14 1481.22 3148.94 1477.68 Q3150.77 1474.11 3150.77 1467.01 Q3150.77 1459.88 3148.94 1456.34 Q3147.14 1452.77 3143.5 1452.77 M3143.5 1449.07 Q3149.31 1449.07 3152.37 1453.67 Q3155.45 1458.26 3155.45 1467.01 Q3155.45 1475.73 3152.37 1480.34 Q3149.31 1484.92 3143.5 1484.92 Q3137.69 1484.92 3134.62 1480.34 Q3131.56 1475.73 3131.56 1467.01 Q3131.56 1458.26 3134.62 1453.67 Q3137.69 1449.07 3143.5 1449.07 Z\" fill=\"#000000\" fill-rule=\"evenodd\" fill-opacity=\"1\" /><path clip-path=\"url(#clip9900)\" d=\"M 0 0 M3185.45 1453.53 L3185.45 1480.41 L3191.1 1480.41 Q3198.25 1480.41 3201.56 1477.17 Q3204.89 1473.93 3204.89 1466.94 Q3204.89 1459.99 3201.56 1456.78 Q3198.25 1453.53 3191.1 1453.53 L3185.45 1453.53 M3180.77 1449.69 L3190.38 1449.69 Q3200.42 1449.69 3205.12 1453.88 Q3209.82 1458.05 3209.82 1466.94 Q3209.82 1475.87 3205.1 1480.06 Q3200.38 1484.25 3190.38 1484.25 L3180.77 1484.25 L3180.77 1449.69 Z\" fill=\"#000000\" fill-rule=\"evenodd\" fill-opacity=\"1\" /><path clip-path=\"url(#clip9900)\" d=\"M 0 0 M3236.47 1470.22 L3236.47 1472.31 L3216.88 1472.31 Q3217.16 1476.71 3219.52 1479.02 Q3221.91 1481.31 3226.14 1481.31 Q3228.6 1481.31 3230.89 1480.71 Q3233.2 1480.11 3235.47 1478.9 L3235.47 1482.93 Q3233.18 1483.9 3230.77 1484.41 Q3228.36 1484.92 3225.89 1484.92 Q3219.68 1484.92 3216.05 1481.31 Q3212.44 1477.7 3212.44 1471.54 Q3212.44 1465.18 3215.86 1461.45 Q3219.31 1457.7 3225.15 1457.7 Q3230.38 1457.7 3233.41 1461.08 Q3236.47 1464.44 3236.47 1470.22 M3232.21 1468.97 Q3232.16 1465.48 3230.24 1463.4 Q3228.34 1461.31 3225.19 1461.31 Q3221.63 1461.31 3219.48 1463.33 Q3217.35 1465.34 3217.02 1469 L3232.21 1468.97 Z\" fill=\"#000000\" fill-rule=\"evenodd\" fill-opacity=\"1\" /><path clip-path=\"url(#clip9900)\" d=\"M 0 0 M3259.59 1459.32 L3259.59 1463.3 Q3257.79 1462.31 3255.96 1461.82 Q3254.15 1461.31 3252.3 1461.31 Q3248.16 1461.31 3245.86 1463.95 Q3243.57 1466.57 3243.57 1471.31 Q3243.57 1476.06 3245.86 1478.7 Q3248.16 1481.31 3252.3 1481.31 Q3254.15 1481.31 3255.96 1480.83 Q3257.79 1480.32 3259.59 1479.32 L3259.59 1483.26 Q3257.81 1484.09 3255.89 1484.51 Q3253.99 1484.92 3251.84 1484.92 Q3245.98 1484.92 3242.53 1481.24 Q3239.08 1477.56 3239.08 1471.31 Q3239.08 1464.97 3242.55 1461.34 Q3246.05 1457.7 3252.11 1457.7 Q3254.08 1457.7 3255.96 1458.12 Q3257.83 1458.51 3259.59 1459.32 Z\" fill=\"#000000\" fill-rule=\"evenodd\" fill-opacity=\"1\" /><path clip-path=\"url(#clip9900)\" d=\"M 0 0 M3264.66 1478.37 L3269.54 1478.37 L3269.54 1484.25 L3264.66 1484.25 L3264.66 1478.37 Z\" fill=\"#000000\" fill-rule=\"evenodd\" fill-opacity=\"1\" /><path clip-path=\"url(#clip9900)\" d=\"M 0 0 M3275.42 1480.32 L3283.06 1480.32 L3283.06 1453.95 L3274.75 1455.62 L3274.75 1451.36 L3283.02 1449.69 L3287.69 1449.69 L3287.69 1480.32 L3295.33 1480.32 L3295.33 1484.25 L3275.42 1484.25 L3275.42 1480.32 Z\" fill=\"#000000\" fill-rule=\"evenodd\" fill-opacity=\"1\" /><path clip-path=\"url(#clip9900)\" d=\"M 0 0 M3310.4 1467.84 Q3307.07 1467.84 3305.15 1469.62 Q3303.25 1471.4 3303.25 1474.53 Q3303.25 1477.65 3305.15 1479.44 Q3307.07 1481.22 3310.4 1481.22 Q3313.73 1481.22 3315.66 1479.44 Q3317.58 1477.63 3317.58 1474.53 Q3317.58 1471.4 3315.66 1469.62 Q3313.76 1467.84 3310.4 1467.84 M3305.73 1465.85 Q3302.72 1465.11 3301.03 1463.05 Q3299.36 1460.99 3299.36 1458.03 Q3299.36 1453.88 3302.3 1451.47 Q3305.26 1449.07 3310.4 1449.07 Q3315.56 1449.07 3318.5 1451.47 Q3321.44 1453.88 3321.44 1458.03 Q3321.44 1460.99 3319.75 1463.05 Q3318.09 1465.11 3315.1 1465.85 Q3318.48 1466.64 3320.35 1468.93 Q3322.25 1471.22 3322.25 1474.53 Q3322.25 1479.55 3319.17 1482.24 Q3316.12 1484.92 3310.4 1484.92 Q3304.68 1484.92 3301.6 1482.24 Q3298.55 1479.55 3298.55 1474.53 Q3298.55 1471.22 3300.45 1468.93 Q3302.35 1466.64 3305.73 1465.85 M3304.01 1458.46 Q3304.01 1461.15 3305.68 1462.65 Q3307.37 1464.16 3310.4 1464.16 Q3313.41 1464.16 3315.1 1462.65 Q3316.81 1461.15 3316.81 1458.46 Q3316.81 1455.78 3315.1 1454.28 Q3313.41 1452.77 3310.4 1452.77 Q3307.37 1452.77 3305.68 1454.28 Q3304.01 1455.78 3304.01 1458.46 Z\" fill=\"#000000\" fill-rule=\"evenodd\" fill-opacity=\"1\" /><path clip-path=\"url(#clip9900)\" d=\"M 0 0 M3327.81 1478.37 L3332.69 1478.37 L3332.69 1482.35 L3328.9 1489.76 L3325.91 1489.76 L3327.81 1482.35 L3327.81 1478.37 Z\" fill=\"#000000\" fill-rule=\"evenodd\" fill-opacity=\"1\" /><path clip-path=\"url(#clip9900)\" d=\"M 0 0 M3341.79 1480.32 L3358.11 1480.32 L3358.11 1484.25 L3336.16 1484.25 L3336.16 1480.32 Q3338.83 1477.56 3343.41 1472.93 Q3348.02 1468.28 3349.2 1466.94 Q3351.44 1464.41 3352.32 1462.68 Q3353.22 1460.92 3353.22 1459.23 Q3353.22 1456.47 3351.28 1454.74 Q3349.36 1453 3346.26 1453 Q3344.06 1453 3341.6 1453.77 Q3339.17 1454.53 3336.4 1456.08 L3336.4 1451.36 Q3339.22 1450.22 3341.67 1449.65 Q3344.13 1449.07 3346.16 1449.07 Q3351.54 1449.07 3354.73 1451.75 Q3357.92 1454.44 3357.92 1458.93 Q3357.92 1461.06 3357.11 1462.98 Q3356.33 1464.88 3354.22 1467.47 Q3353.64 1468.14 3350.54 1471.36 Q3347.44 1474.55 3341.79 1480.32 Z\" fill=\"#000000\" fill-rule=\"evenodd\" fill-opacity=\"1\" /><path clip-path=\"url(#clip9900)\" d=\"M 0 0 M3373.18 1452.77 Q3369.57 1452.77 3367.74 1456.34 Q3365.93 1459.88 3365.93 1467.01 Q3365.93 1474.11 3367.74 1477.68 Q3369.57 1481.22 3373.18 1481.22 Q3376.81 1481.22 3378.62 1477.68 Q3380.45 1474.11 3380.45 1467.01 Q3380.45 1459.88 3378.62 1456.34 Q3376.81 1452.77 3373.18 1452.77 M3373.18 1449.07 Q3378.99 1449.07 3382.04 1453.67 Q3385.12 1458.26 3385.12 1467.01 Q3385.12 1475.73 3382.04 1480.34 Q3378.99 1484.92 3373.18 1484.92 Q3367.37 1484.92 3364.29 1480.34 Q3361.23 1475.73 3361.23 1467.01 Q3361.23 1458.26 3364.29 1453.67 Q3367.37 1449.07 3373.18 1449.07 Z\" fill=\"#000000\" fill-rule=\"evenodd\" fill-opacity=\"1\" /><path clip-path=\"url(#clip9900)\" d=\"M 0 0 M3444.47 1453.53 L3444.47 1480.41 L3450.12 1480.41 Q3457.28 1480.41 3460.59 1477.17 Q3463.92 1473.93 3463.92 1466.94 Q3463.92 1459.99 3460.59 1456.78 Q3457.28 1453.53 3450.12 1453.53 L3444.47 1453.53 M3439.8 1449.69 L3449.4 1449.69 Q3459.45 1449.69 3464.15 1453.88 Q3468.85 1458.05 3468.85 1466.94 Q3468.85 1475.87 3464.13 1480.06 Q3459.4 1484.25 3449.4 1484.25 L3439.8 1484.25 L3439.8 1449.69 Z\" fill=\"#000000\" fill-rule=\"evenodd\" fill-opacity=\"1\" /><path clip-path=\"url(#clip9900)\" d=\"M 0 0 M3495.49 1470.22 L3495.49 1472.31 L3475.91 1472.31 Q3476.19 1476.71 3478.55 1479.02 Q3480.93 1481.31 3485.17 1481.31 Q3487.62 1481.31 3489.91 1480.71 Q3492.23 1480.11 3494.5 1478.9 L3494.5 1482.93 Q3492.21 1483.9 3489.8 1484.41 Q3487.39 1484.92 3484.91 1484.92 Q3478.71 1484.92 3475.08 1481.31 Q3471.46 1477.7 3471.46 1471.54 Q3471.46 1465.18 3474.89 1461.45 Q3478.34 1457.7 3484.17 1457.7 Q3489.4 1457.7 3492.44 1461.08 Q3495.49 1464.44 3495.49 1470.22 M3491.23 1468.97 Q3491.19 1465.48 3489.27 1463.4 Q3487.37 1461.31 3484.22 1461.31 Q3480.65 1461.31 3478.5 1463.33 Q3476.37 1465.34 3476.05 1469 L3491.23 1468.97 Z\" fill=\"#000000\" fill-rule=\"evenodd\" fill-opacity=\"1\" /><path clip-path=\"url(#clip9900)\" d=\"M 0 0 M3518.62 1459.32 L3518.62 1463.3 Q3516.81 1462.31 3514.98 1461.82 Q3513.18 1461.31 3511.33 1461.31 Q3507.18 1461.31 3504.89 1463.95 Q3502.6 1466.57 3502.6 1471.31 Q3502.6 1476.06 3504.89 1478.7 Q3507.18 1481.31 3511.33 1481.31 Q3513.18 1481.31 3514.98 1480.83 Q3516.81 1480.32 3518.62 1479.32 L3518.62 1483.26 Q3516.84 1484.09 3514.91 1484.51 Q3513.02 1484.92 3510.86 1484.92 Q3505.01 1484.92 3501.56 1481.24 Q3498.11 1477.56 3498.11 1471.31 Q3498.11 1464.97 3501.58 1461.34 Q3505.08 1457.7 3511.14 1457.7 Q3513.11 1457.7 3514.98 1458.12 Q3516.86 1458.51 3518.62 1459.32 Z\" fill=\"#000000\" fill-rule=\"evenodd\" fill-opacity=\"1\" /><path clip-path=\"url(#clip9900)\" d=\"M 0 0 M3523.69 1478.37 L3528.57 1478.37 L3528.57 1484.25 L3523.69 1484.25 L3523.69 1478.37 Z\" fill=\"#000000\" fill-rule=\"evenodd\" fill-opacity=\"1\" /><path clip-path=\"url(#clip9900)\" d=\"M 0 0 M3537.67 1480.32 L3553.99 1480.32 L3553.99 1484.25 L3532.04 1484.25 L3532.04 1480.32 Q3534.71 1477.56 3539.29 1472.93 Q3543.9 1468.28 3545.08 1466.94 Q3547.32 1464.41 3548.2 1462.68 Q3549.1 1460.92 3549.1 1459.23 Q3549.1 1456.47 3547.16 1454.74 Q3545.24 1453 3542.14 1453 Q3539.94 1453 3537.48 1453.77 Q3535.05 1454.53 3532.27 1456.08 L3532.27 1451.36 Q3535.1 1450.22 3537.55 1449.65 Q3540.01 1449.07 3542.04 1449.07 Q3547.41 1449.07 3550.61 1451.75 Q3553.8 1454.44 3553.8 1458.93 Q3553.8 1461.06 3552.99 1462.98 Q3552.21 1464.88 3550.1 1467.47 Q3549.52 1468.14 3546.42 1471.36 Q3543.32 1474.55 3537.67 1480.32 Z\" fill=\"#000000\" fill-rule=\"evenodd\" fill-opacity=\"1\" /><path clip-path=\"url(#clip9900)\" d=\"M 0 0 M3557.88 1449.69 L3580.1 1449.69 L3580.1 1451.68 L3567.55 1484.25 L3562.67 1484.25 L3574.47 1453.63 L3557.88 1453.63 L3557.88 1449.69 Z\" fill=\"#000000\" fill-rule=\"evenodd\" fill-opacity=\"1\" /><path clip-path=\"url(#clip9900)\" d=\"M 0 0 M3585.65 1478.37 L3590.54 1478.37 L3590.54 1482.35 L3586.74 1489.76 L3583.76 1489.76 L3585.65 1482.35 L3585.65 1478.37 Z\" fill=\"#000000\" fill-rule=\"evenodd\" fill-opacity=\"1\" /><path clip-path=\"url(#clip9900)\" d=\"M 0 0 M3599.64 1480.32 L3615.95 1480.32 L3615.95 1484.25 L3594.01 1484.25 L3594.01 1480.32 Q3596.67 1477.56 3601.26 1472.93 Q3605.86 1468.28 3607.04 1466.94 Q3609.29 1464.41 3610.17 1462.68 Q3611.07 1460.92 3611.07 1459.23 Q3611.07 1456.47 3609.13 1454.74 Q3607.2 1453 3604.1 1453 Q3601.9 1453 3599.45 1453.77 Q3597.02 1454.53 3594.24 1456.08 L3594.24 1451.36 Q3597.07 1450.22 3599.52 1449.65 Q3601.97 1449.07 3604.01 1449.07 Q3609.38 1449.07 3612.58 1451.75 Q3615.77 1454.44 3615.77 1458.93 Q3615.77 1461.06 3614.96 1462.98 Q3614.17 1464.88 3612.07 1467.47 Q3611.49 1468.14 3608.39 1471.36 Q3605.28 1474.55 3599.64 1480.32 Z\" fill=\"#000000\" fill-rule=\"evenodd\" fill-opacity=\"1\" /><path clip-path=\"url(#clip9900)\" d=\"M 0 0 M3631.02 1452.77 Q3627.41 1452.77 3625.58 1456.34 Q3623.78 1459.88 3623.78 1467.01 Q3623.78 1474.11 3625.58 1477.68 Q3627.41 1481.22 3631.02 1481.22 Q3634.66 1481.22 3636.46 1477.68 Q3638.29 1474.11 3638.29 1467.01 Q3638.29 1459.88 3636.46 1456.34 Q3634.66 1452.77 3631.02 1452.77 M3631.02 1449.07 Q3636.83 1449.07 3639.89 1453.67 Q3642.97 1458.26 3642.97 1467.01 Q3642.97 1475.73 3639.89 1480.34 Q3636.83 1484.92 3631.02 1484.92 Q3625.21 1484.92 3622.14 1480.34 Q3619.08 1475.73 3619.08 1467.01 Q3619.08 1458.26 3622.14 1453.67 Q3625.21 1449.07 3631.02 1449.07 Z\" fill=\"#000000\" fill-rule=\"evenodd\" fill-opacity=\"1\" /><path clip-path=\"url(#clip9900)\" d=\"M 0 0 M3697.39 1449.69 L3702.07 1449.69 L3702.07 1481.84 Q3702.07 1488.09 3699.68 1490.92 Q3697.32 1493.74 3692.07 1493.74 L3690.28 1493.74 L3690.28 1489.81 L3691.74 1489.81 Q3694.84 1489.81 3696.12 1488.07 Q3697.39 1486.34 3697.39 1481.84 L3697.39 1449.69 Z\" fill=\"#000000\" fill-rule=\"evenodd\" fill-opacity=\"1\" /><path clip-path=\"url(#clip9900)\" d=\"M 0 0 M3718.32 1471.22 Q3713.15 1471.22 3711.16 1472.4 Q3709.17 1473.58 3709.17 1476.43 Q3709.17 1478.7 3710.65 1480.04 Q3712.16 1481.36 3714.73 1481.36 Q3718.27 1481.36 3720.4 1478.86 Q3722.55 1476.34 3722.55 1472.17 L3722.55 1471.22 L3718.32 1471.22 M3726.81 1469.46 L3726.81 1484.25 L3722.55 1484.25 L3722.55 1480.32 Q3721.09 1482.68 3718.92 1483.81 Q3716.74 1484.92 3713.59 1484.92 Q3709.61 1484.92 3707.25 1482.7 Q3704.91 1480.46 3704.91 1476.71 Q3704.91 1472.33 3707.83 1470.11 Q3710.77 1467.89 3716.58 1467.89 L3722.55 1467.89 L3722.55 1467.47 Q3722.55 1464.53 3720.61 1462.93 Q3718.69 1461.31 3715.19 1461.31 Q3712.97 1461.31 3710.86 1461.84 Q3708.76 1462.38 3706.81 1463.44 L3706.81 1459.51 Q3709.15 1458.6 3711.35 1458.16 Q3713.55 1457.7 3715.63 1457.7 Q3721.26 1457.7 3724.03 1460.62 Q3726.81 1463.53 3726.81 1469.46 Z\" fill=\"#000000\" fill-rule=\"evenodd\" fill-opacity=\"1\" /><path clip-path=\"url(#clip9900)\" d=\"M 0 0 M3752.83 1468.6 L3752.83 1484.25 L3748.57 1484.25 L3748.57 1468.74 Q3748.57 1465.06 3747.13 1463.23 Q3745.7 1461.4 3742.83 1461.4 Q3739.38 1461.4 3737.39 1463.6 Q3735.4 1465.8 3735.4 1469.6 L3735.4 1484.25 L3731.12 1484.25 L3731.12 1458.33 L3735.4 1458.33 L3735.4 1462.35 Q3736.93 1460.02 3738.99 1458.86 Q3741.07 1457.7 3743.78 1457.7 Q3748.25 1457.7 3750.54 1460.48 Q3752.83 1463.23 3752.83 1468.6 Z\" fill=\"#000000\" fill-rule=\"evenodd\" fill-opacity=\"1\" /><path clip-path=\"url(#clip9900)\" d=\"M 0 0 M3757.9 1478.37 L3762.78 1478.37 L3762.78 1484.25 L3757.9 1484.25 L3757.9 1478.37 Z\" fill=\"#000000\" fill-rule=\"evenodd\" fill-opacity=\"1\" /><path clip-path=\"url(#clip9900)\" d=\"M 0 0 M3780.7 1453.77 L3768.89 1472.21 L3780.7 1472.21 L3780.7 1453.77 M3779.47 1449.69 L3785.35 1449.69 L3785.35 1472.21 L3790.28 1472.21 L3790.28 1476.1 L3785.35 1476.1 L3785.35 1484.25 L3780.7 1484.25 L3780.7 1476.1 L3765.1 1476.1 L3765.1 1471.59 L3779.47 1449.69 Z\" fill=\"#000000\" fill-rule=\"evenodd\" fill-opacity=\"1\" /><path clip-path=\"url(#clip9900)\" d=\"M 0 0 M3795.84 1478.37 L3800.72 1478.37 L3800.72 1482.35 L3796.93 1489.76 L3793.94 1489.76 L3795.84 1482.35 L3795.84 1478.37 Z\" fill=\"#000000\" fill-rule=\"evenodd\" fill-opacity=\"1\" /><path clip-path=\"url(#clip9900)\" d=\"M 0 0 M3809.82 1480.32 L3826.14 1480.32 L3826.14 1484.25 L3804.19 1484.25 L3804.19 1480.32 Q3806.86 1477.56 3811.44 1472.93 Q3816.05 1468.28 3817.23 1466.94 Q3819.47 1464.41 3820.35 1462.68 Q3821.25 1460.92 3821.25 1459.23 Q3821.25 1456.47 3819.31 1454.74 Q3817.39 1453 3814.29 1453 Q3812.09 1453 3809.63 1453.77 Q3807.2 1454.53 3804.43 1456.08 L3804.43 1451.36 Q3807.25 1450.22 3809.7 1449.65 Q3812.16 1449.07 3814.19 1449.07 Q3819.56 1449.07 3822.76 1451.75 Q3825.95 1454.44 3825.95 1458.93 Q3825.95 1461.06 3825.14 1462.98 Q3824.36 1464.88 3822.25 1467.47 Q3821.67 1468.14 3818.57 1471.36 Q3815.47 1474.55 3809.82 1480.32 Z\" fill=\"#000000\" fill-rule=\"evenodd\" fill-opacity=\"1\" /><path clip-path=\"url(#clip9900)\" d=\"M 0 0 M3832.02 1480.32 L3839.66 1480.32 L3839.66 1453.95 L3831.35 1455.62 L3831.35 1451.36 L3839.61 1449.69 L3844.29 1449.69 L3844.29 1480.32 L3851.93 1480.32 L3851.93 1484.25 L3832.02 1484.25 L3832.02 1480.32 Z\" fill=\"#000000\" fill-rule=\"evenodd\" fill-opacity=\"1\" /><path clip-path=\"url(#clip9900)\" d=\"M 0 0 M118.398 1266.65 L134.717 1266.65 L134.717 1270.59 L112.773 1270.59 L112.773 1266.65 Q115.435 1263.9 120.018 1259.27 Q124.625 1254.62 125.805 1253.27 Q128.051 1250.75 128.93 1249.01 Q129.833 1247.26 129.833 1245.57 Q129.833 1242.81 127.889 1241.07 Q125.967 1239.34 122.866 1239.34 Q120.667 1239.34 118.213 1240.1 Q115.782 1240.87 113.005 1242.42 L113.005 1237.7 Q115.829 1236.56 118.282 1235.98 Q120.736 1235.4 122.773 1235.4 Q128.143 1235.4 131.338 1238.09 Q134.532 1240.77 134.532 1245.26 Q134.532 1247.39 133.722 1249.32 Q132.935 1251.21 130.829 1253.81 Q130.25 1254.48 127.148 1257.7 Q124.046 1260.89 118.398 1266.65 Z\" fill=\"#000000\" fill-rule=\"evenodd\" fill-opacity=\"1\" /><path clip-path=\"url(#clip9900)\" d=\"M 0 0 M138.606 1236.03 L160.828 1236.03 L160.828 1238.02 L148.282 1270.59 L143.398 1270.59 L155.203 1239.96 L138.606 1239.96 L138.606 1236.03 Z\" fill=\"#000000\" fill-rule=\"evenodd\" fill-opacity=\"1\" /><path clip-path=\"url(#clip9900)\" d=\"M 0 0 M175.898 1239.11 Q172.287 1239.11 170.458 1242.67 Q168.652 1246.21 168.652 1253.34 Q168.652 1260.45 170.458 1264.01 Q172.287 1267.56 175.898 1267.56 Q179.532 1267.56 181.338 1264.01 Q183.166 1260.45 183.166 1253.34 Q183.166 1246.21 181.338 1242.67 Q179.532 1239.11 175.898 1239.11 M175.898 1235.4 Q181.708 1235.4 184.763 1240.01 Q187.842 1244.59 187.842 1253.34 Q187.842 1262.07 184.763 1266.68 Q181.708 1271.26 175.898 1271.26 Q170.088 1271.26 167.009 1266.68 Q163.953 1262.07 163.953 1253.34 Q163.953 1244.59 167.009 1240.01 Q170.088 1235.4 175.898 1235.4 Z\" fill=\"#000000\" fill-rule=\"evenodd\" fill-opacity=\"1\" /><path clip-path=\"url(#clip9900)\" d=\"M 0 0 M202.912 1239.11 Q199.3 1239.11 197.472 1242.67 Q195.666 1246.21 195.666 1253.34 Q195.666 1260.45 197.472 1264.01 Q199.3 1267.56 202.912 1267.56 Q206.546 1267.56 208.351 1264.01 Q210.18 1260.45 210.18 1253.34 Q210.18 1246.21 208.351 1242.67 Q206.546 1239.11 202.912 1239.11 M202.912 1235.4 Q208.722 1235.4 211.777 1240.01 Q214.856 1244.59 214.856 1253.34 Q214.856 1262.07 211.777 1266.68 Q208.722 1271.26 202.912 1271.26 Q197.101 1271.26 194.023 1266.68 Q190.967 1262.07 190.967 1253.34 Q190.967 1244.59 194.023 1240.01 Q197.101 1235.4 202.912 1235.4 Z\" fill=\"#000000\" fill-rule=\"evenodd\" fill-opacity=\"1\" /><path clip-path=\"url(#clip9900)\" d=\"M 0 0 M229.925 1239.11 Q226.314 1239.11 224.485 1242.67 Q222.68 1246.21 222.68 1253.34 Q222.68 1260.45 224.485 1264.01 Q226.314 1267.56 229.925 1267.56 Q233.56 1267.56 235.365 1264.01 Q237.194 1260.45 237.194 1253.34 Q237.194 1246.21 235.365 1242.67 Q233.56 1239.11 229.925 1239.11 M229.925 1235.4 Q235.735 1235.4 238.791 1240.01 Q241.87 1244.59 241.87 1253.34 Q241.87 1262.07 238.791 1266.68 Q235.735 1271.26 229.925 1271.26 Q224.115 1271.26 221.036 1266.68 Q217.981 1262.07 217.981 1253.34 Q217.981 1244.59 221.036 1240.01 Q224.115 1235.4 229.925 1235.4 Z\" fill=\"#000000\" fill-rule=\"evenodd\" fill-opacity=\"1\" /><path clip-path=\"url(#clip9900)\" d=\"M 0 0 M117.588 903.968 L133.907 903.968 L133.907 907.903 L111.963 907.903 L111.963 903.968 Q114.625 901.213 119.208 896.583 Q123.815 891.931 124.995 890.588 Q127.241 888.065 128.12 886.329 Q129.023 884.57 129.023 882.88 Q129.023 880.125 127.079 878.389 Q125.157 876.653 122.055 876.653 Q119.856 876.653 117.403 877.417 Q114.972 878.181 112.194 879.732 L112.194 875.01 Q115.018 873.875 117.472 873.297 Q119.926 872.718 121.963 872.718 Q127.333 872.718 130.528 875.403 Q133.722 878.088 133.722 882.579 Q133.722 884.709 132.912 886.63 Q132.125 888.528 130.018 891.121 Q129.44 891.792 126.338 895.009 Q123.236 898.204 117.588 903.968 Z\" fill=\"#000000\" fill-rule=\"evenodd\" fill-opacity=\"1\" /><path clip-path=\"url(#clip9900)\" d=\"M 0 0 M148.977 891.491 Q145.643 891.491 143.722 893.273 Q141.824 895.056 141.824 898.181 Q141.824 901.306 143.722 903.088 Q145.643 904.87 148.977 904.87 Q152.31 904.87 154.231 903.088 Q156.153 901.283 156.153 898.181 Q156.153 895.056 154.231 893.273 Q152.333 891.491 148.977 891.491 M144.301 889.5 Q141.291 888.759 139.602 886.699 Q137.935 884.639 137.935 881.676 Q137.935 877.533 140.875 875.125 Q143.838 872.718 148.977 872.718 Q154.139 872.718 157.078 875.125 Q160.018 877.533 160.018 881.676 Q160.018 884.639 158.328 886.699 Q156.662 888.759 153.676 889.5 Q157.055 890.287 158.93 892.579 Q160.828 894.871 160.828 898.181 Q160.828 903.204 157.75 905.889 Q154.694 908.574 148.977 908.574 Q143.259 908.574 140.18 905.889 Q137.125 903.204 137.125 898.181 Q137.125 894.871 139.023 892.579 Q140.921 890.287 144.301 889.5 M142.588 882.116 Q142.588 884.801 144.254 886.306 Q145.944 887.81 148.977 887.81 Q151.986 887.81 153.676 886.306 Q155.389 884.801 155.389 882.116 Q155.389 879.431 153.676 877.926 Q151.986 876.422 148.977 876.422 Q145.944 876.422 144.254 877.926 Q142.588 879.431 142.588 882.116 Z\" fill=\"#000000\" fill-rule=\"evenodd\" fill-opacity=\"1\" /><path clip-path=\"url(#clip9900)\" d=\"M 0 0 M175.898 876.422 Q172.287 876.422 170.458 879.986 Q168.652 883.528 168.652 890.658 Q168.652 897.764 170.458 901.329 Q172.287 904.87 175.898 904.87 Q179.532 904.87 181.338 901.329 Q183.166 897.764 183.166 890.658 Q183.166 883.528 181.338 879.986 Q179.532 876.422 175.898 876.422 M175.898 872.718 Q181.708 872.718 184.763 877.324 Q187.842 881.908 187.842 890.658 Q187.842 899.384 184.763 903.991 Q181.708 908.574 175.898 908.574 Q170.088 908.574 167.009 903.991 Q163.953 899.384 163.953 890.658 Q163.953 881.908 167.009 877.324 Q170.088 872.718 175.898 872.718 Z\" fill=\"#000000\" fill-rule=\"evenodd\" fill-opacity=\"1\" /><path clip-path=\"url(#clip9900)\" d=\"M 0 0 M202.912 876.422 Q199.3 876.422 197.472 879.986 Q195.666 883.528 195.666 890.658 Q195.666 897.764 197.472 901.329 Q199.3 904.87 202.912 904.87 Q206.546 904.87 208.351 901.329 Q210.18 897.764 210.18 890.658 Q210.18 883.528 208.351 879.986 Q206.546 876.422 202.912 876.422 M202.912 872.718 Q208.722 872.718 211.777 877.324 Q214.856 881.908 214.856 890.658 Q214.856 899.384 211.777 903.991 Q208.722 908.574 202.912 908.574 Q197.101 908.574 194.023 903.991 Q190.967 899.384 190.967 890.658 Q190.967 881.908 194.023 877.324 Q197.101 872.718 202.912 872.718 Z\" fill=\"#000000\" fill-rule=\"evenodd\" fill-opacity=\"1\" /><path clip-path=\"url(#clip9900)\" d=\"M 0 0 M229.925 876.422 Q226.314 876.422 224.485 879.986 Q222.68 883.528 222.68 890.658 Q222.68 897.764 224.485 901.329 Q226.314 904.87 229.925 904.87 Q233.56 904.87 235.365 901.329 Q237.194 897.764 237.194 890.658 Q237.194 883.528 235.365 879.986 Q233.56 876.422 229.925 876.422 M229.925 872.718 Q235.735 872.718 238.791 877.324 Q241.87 881.908 241.87 890.658 Q241.87 899.384 238.791 903.991 Q235.735 908.574 229.925 908.574 Q224.115 908.574 221.036 903.991 Q217.981 899.384 217.981 890.658 Q217.981 881.908 221.036 877.324 Q224.115 872.718 229.925 872.718 Z\" fill=\"#000000\" fill-rule=\"evenodd\" fill-opacity=\"1\" /><path clip-path=\"url(#clip9900)\" d=\"M 0 0 M117.68 541.282 L134 541.282 L134 545.217 L112.056 545.217 L112.056 541.282 Q114.718 538.527 119.301 533.898 Q123.907 529.245 125.088 527.902 Q127.333 525.379 128.213 523.643 Q129.116 521.884 129.116 520.194 Q129.116 517.439 127.171 515.703 Q125.25 513.967 122.148 513.967 Q119.949 513.967 117.495 514.731 Q115.065 515.495 112.287 517.046 L112.287 512.324 Q115.111 511.189 117.565 510.611 Q120.018 510.032 122.055 510.032 Q127.426 510.032 130.62 512.717 Q133.815 515.402 133.815 519.893 Q133.815 522.023 133.004 523.944 Q132.217 525.842 130.111 528.435 Q129.532 529.106 126.43 532.324 Q123.329 535.518 117.68 541.282 Z\" fill=\"#000000\" fill-rule=\"evenodd\" fill-opacity=\"1\" /><path clip-path=\"url(#clip9900)\" d=\"M 0 0 M139.208 544.499 L139.208 540.24 Q140.967 541.074 142.773 541.513 Q144.578 541.953 146.315 541.953 Q150.944 541.953 153.375 538.851 Q155.828 535.726 156.176 529.384 Q154.833 531.374 152.773 532.439 Q150.713 533.504 148.213 533.504 Q143.028 533.504 139.995 530.379 Q136.986 527.231 136.986 521.791 Q136.986 516.467 140.134 513.25 Q143.282 510.032 148.514 510.032 Q154.509 510.032 157.657 514.638 Q160.828 519.222 160.828 527.972 Q160.828 536.143 156.94 541.027 Q153.074 545.888 146.523 545.888 Q144.764 545.888 142.958 545.541 Q141.153 545.194 139.208 544.499 M148.514 529.847 Q151.662 529.847 153.49 527.694 Q155.342 525.541 155.342 521.791 Q155.342 518.064 153.49 515.912 Q151.662 513.736 148.514 513.736 Q145.366 513.736 143.514 515.912 Q141.685 518.064 141.685 521.791 Q141.685 525.541 143.514 527.694 Q145.366 529.847 148.514 529.847 Z\" fill=\"#000000\" fill-rule=\"evenodd\" fill-opacity=\"1\" /><path clip-path=\"url(#clip9900)\" d=\"M 0 0 M175.898 513.736 Q172.287 513.736 170.458 517.3 Q168.652 520.842 168.652 527.972 Q168.652 535.078 170.458 538.643 Q172.287 542.185 175.898 542.185 Q179.532 542.185 181.338 538.643 Q183.166 535.078 183.166 527.972 Q183.166 520.842 181.338 517.3 Q179.532 513.736 175.898 513.736 M175.898 510.032 Q181.708 510.032 184.763 514.638 Q187.842 519.222 187.842 527.972 Q187.842 536.699 184.763 541.305 Q181.708 545.888 175.898 545.888 Q170.088 545.888 167.009 541.305 Q163.953 536.699 163.953 527.972 Q163.953 519.222 167.009 514.638 Q170.088 510.032 175.898 510.032 Z\" fill=\"#000000\" fill-rule=\"evenodd\" fill-opacity=\"1\" /><path clip-path=\"url(#clip9900)\" d=\"M 0 0 M202.912 513.736 Q199.3 513.736 197.472 517.3 Q195.666 520.842 195.666 527.972 Q195.666 535.078 197.472 538.643 Q199.3 542.185 202.912 542.185 Q206.546 542.185 208.351 538.643 Q210.18 535.078 210.18 527.972 Q210.18 520.842 208.351 517.3 Q206.546 513.736 202.912 513.736 M202.912 510.032 Q208.722 510.032 211.777 514.638 Q214.856 519.222 214.856 527.972 Q214.856 536.699 211.777 541.305 Q208.722 545.888 202.912 545.888 Q197.101 545.888 194.023 541.305 Q190.967 536.699 190.967 527.972 Q190.967 519.222 194.023 514.638 Q197.101 510.032 202.912 510.032 Z\" fill=\"#000000\" fill-rule=\"evenodd\" fill-opacity=\"1\" /><path clip-path=\"url(#clip9900)\" d=\"M 0 0 M229.925 513.736 Q226.314 513.736 224.485 517.3 Q222.68 520.842 222.68 527.972 Q222.68 535.078 224.485 538.643 Q226.314 542.185 229.925 542.185 Q233.56 542.185 235.365 538.643 Q237.194 535.078 237.194 527.972 Q237.194 520.842 235.365 517.3 Q233.56 513.736 229.925 513.736 M229.925 510.032 Q235.735 510.032 238.791 514.638 Q241.87 519.222 241.87 527.972 Q241.87 536.699 238.791 541.305 Q235.735 545.888 229.925 545.888 Q224.115 545.888 221.036 541.305 Q217.981 536.699 217.981 527.972 Q217.981 519.222 221.036 514.638 Q224.115 510.032 229.925 510.032 Z\" fill=\"#000000\" fill-rule=\"evenodd\" fill-opacity=\"1\" /><path clip-path=\"url(#clip9900)\" d=\"M 0 0 M126.685 163.897 Q130.042 164.615 131.917 166.883 Q133.815 169.152 133.815 172.485 Q133.815 177.601 130.296 180.402 Q126.778 183.202 120.296 183.202 Q118.12 183.202 115.806 182.763 Q113.514 182.346 111.06 181.49 L111.06 176.976 Q113.005 178.11 115.319 178.689 Q117.634 179.267 120.157 179.267 Q124.555 179.267 126.847 177.531 Q129.162 175.795 129.162 172.485 Q129.162 169.429 127.009 167.716 Q124.88 165.98 121.06 165.98 L117.032 165.98 L117.032 162.138 L121.245 162.138 Q124.694 162.138 126.523 160.772 Q128.352 159.383 128.352 156.791 Q128.352 154.129 126.454 152.717 Q124.579 151.281 121.06 151.281 Q119.139 151.281 116.94 151.698 Q114.741 152.115 112.102 152.994 L112.102 148.828 Q114.764 148.087 117.079 147.717 Q119.417 147.346 121.477 147.346 Q126.801 147.346 129.903 149.777 Q133.004 152.184 133.004 156.304 Q133.004 159.175 131.361 161.166 Q129.717 163.133 126.685 163.897 Z\" fill=\"#000000\" fill-rule=\"evenodd\" fill-opacity=\"1\" /><path clip-path=\"url(#clip9900)\" d=\"M 0 0 M148.884 151.05 Q145.273 151.05 143.444 154.615 Q141.639 158.156 141.639 165.286 Q141.639 172.392 143.444 175.957 Q145.273 179.499 148.884 179.499 Q152.518 179.499 154.324 175.957 Q156.153 172.392 156.153 165.286 Q156.153 158.156 154.324 154.615 Q152.518 151.05 148.884 151.05 M148.884 147.346 Q154.694 147.346 157.75 151.953 Q160.828 156.536 160.828 165.286 Q160.828 174.013 157.75 178.619 Q154.694 183.202 148.884 183.202 Q143.074 183.202 139.995 178.619 Q136.94 174.013 136.94 165.286 Q136.94 156.536 139.995 151.953 Q143.074 147.346 148.884 147.346 Z\" fill=\"#000000\" fill-rule=\"evenodd\" fill-opacity=\"1\" /><path clip-path=\"url(#clip9900)\" d=\"M 0 0 M175.898 151.05 Q172.287 151.05 170.458 154.615 Q168.652 158.156 168.652 165.286 Q168.652 172.392 170.458 175.957 Q172.287 179.499 175.898 179.499 Q179.532 179.499 181.338 175.957 Q183.166 172.392 183.166 165.286 Q183.166 158.156 181.338 154.615 Q179.532 151.05 175.898 151.05 M175.898 147.346 Q181.708 147.346 184.763 151.953 Q187.842 156.536 187.842 165.286 Q187.842 174.013 184.763 178.619 Q181.708 183.202 175.898 183.202 Q170.088 183.202 167.009 178.619 Q163.953 174.013 163.953 165.286 Q163.953 156.536 167.009 151.953 Q170.088 147.346 175.898 147.346 Z\" fill=\"#000000\" fill-rule=\"evenodd\" fill-opacity=\"1\" /><path clip-path=\"url(#clip9900)\" d=\"M 0 0 M202.912 151.05 Q199.3 151.05 197.472 154.615 Q195.666 158.156 195.666 165.286 Q195.666 172.392 197.472 175.957 Q199.3 179.499 202.912 179.499 Q206.546 179.499 208.351 175.957 Q210.18 172.392 210.18 165.286 Q210.18 158.156 208.351 154.615 Q206.546 151.05 202.912 151.05 M202.912 147.346 Q208.722 147.346 211.777 151.953 Q214.856 156.536 214.856 165.286 Q214.856 174.013 211.777 178.619 Q208.722 183.202 202.912 183.202 Q197.101 183.202 194.023 178.619 Q190.967 174.013 190.967 165.286 Q190.967 156.536 194.023 151.953 Q197.101 147.346 202.912 147.346 Z\" fill=\"#000000\" fill-rule=\"evenodd\" fill-opacity=\"1\" /><path clip-path=\"url(#clip9900)\" d=\"M 0 0 M229.925 151.05 Q226.314 151.05 224.485 154.615 Q222.68 158.156 222.68 165.286 Q222.68 172.392 224.485 175.957 Q226.314 179.499 229.925 179.499 Q233.56 179.499 235.365 175.957 Q237.194 172.392 237.194 165.286 Q237.194 158.156 235.365 154.615 Q233.56 151.05 229.925 151.05 M229.925 147.346 Q235.735 147.346 238.791 151.953 Q241.87 156.536 241.87 165.286 Q241.87 174.013 238.791 178.619 Q235.735 183.202 229.925 183.202 Q224.115 183.202 221.036 178.619 Q217.981 174.013 217.981 165.286 Q217.981 156.536 221.036 151.953 Q224.115 147.346 229.925 147.346 Z\" fill=\"#000000\" fill-rule=\"evenodd\" fill-opacity=\"1\" /><path clip-path=\"url(#clip9900)\" d=\"M 0 0 M2022.68 1525.47 L2022.68 1535.6 L2034.74 1535.6 L2034.74 1540.15 L2022.68 1540.15 L2022.68 1559.5 Q2022.68 1563.86 2023.85 1565.1 Q2025.06 1566.34 2028.72 1566.34 L2034.74 1566.34 L2034.74 1571.24 L2028.72 1571.24 Q2021.94 1571.24 2019.37 1568.73 Q2016.79 1566.18 2016.79 1559.5 L2016.79 1540.15 L2012.49 1540.15 L2012.49 1535.6 L2016.79 1535.6 L2016.79 1525.47 L2022.68 1525.47 Z\" fill=\"#000000\" fill-rule=\"evenodd\" fill-opacity=\"1\" /><path clip-path=\"url(#clip9900)\" d=\"M 0 0 M2040.88 1535.6 L2046.74 1535.6 L2046.74 1571.24 L2040.88 1571.24 L2040.88 1535.6 M2040.88 1521.72 L2046.74 1521.72 L2046.74 1529.13 L2040.88 1529.13 L2040.88 1521.72 Z\" fill=\"#000000\" fill-rule=\"evenodd\" fill-opacity=\"1\" /><path clip-path=\"url(#clip9900)\" d=\"M 0 0 M2080.64 1542.44 Q2082.83 1538.49 2085.89 1536.61 Q2088.94 1534.74 2093.08 1534.74 Q2098.65 1534.74 2101.68 1538.65 Q2104.7 1542.53 2104.7 1549.73 L2104.7 1571.24 L2098.81 1571.24 L2098.81 1549.92 Q2098.81 1544.79 2097 1542.31 Q2095.18 1539.83 2091.46 1539.83 Q2086.91 1539.83 2084.27 1542.85 Q2081.62 1545.88 2081.62 1551.1 L2081.62 1571.24 L2075.74 1571.24 L2075.74 1549.92 Q2075.74 1544.76 2073.92 1542.31 Q2072.11 1539.83 2068.32 1539.83 Q2063.83 1539.83 2061.19 1542.88 Q2058.55 1545.91 2058.55 1551.1 L2058.55 1571.24 L2052.66 1571.24 L2052.66 1535.6 L2058.55 1535.6 L2058.55 1541.13 Q2060.55 1537.86 2063.35 1536.3 Q2066.15 1534.74 2070.01 1534.74 Q2073.89 1534.74 2076.59 1536.71 Q2079.33 1538.68 2080.64 1542.44 Z\" fill=\"#000000\" fill-rule=\"evenodd\" fill-opacity=\"1\" /><path clip-path=\"url(#clip9900)\" d=\"M 0 0 M2141.33 1551.96 L2141.33 1554.82 L2114.41 1554.82 Q2114.79 1560.87 2118.04 1564.05 Q2121.31 1567.2 2127.14 1567.2 Q2130.51 1567.2 2133.66 1566.37 Q2136.85 1565.55 2139.97 1563.89 L2139.97 1569.43 Q2136.81 1570.77 2133.5 1571.47 Q2130.19 1572.17 2126.79 1572.17 Q2118.26 1572.17 2113.26 1567.2 Q2108.3 1562.24 2108.3 1553.77 Q2108.3 1545.02 2113.01 1539.89 Q2117.75 1534.74 2125.77 1534.74 Q2132.96 1534.74 2137.13 1539.38 Q2141.33 1544 2141.33 1551.96 M2135.48 1550.24 Q2135.41 1545.43 2132.77 1542.57 Q2130.16 1539.7 2125.83 1539.7 Q2120.93 1539.7 2117.97 1542.47 Q2115.04 1545.24 2114.6 1550.27 L2135.48 1550.24 Z\" fill=\"#000000\" fill-rule=\"evenodd\" fill-opacity=\"1\" /><path clip-path=\"url(#clip9900)\" d=\"M 0 0 M21.9562 811.585 L21.9562 805.378 L51.875 794.238 L21.9562 783.098 L21.9562 776.891 L57.6042 790.259 L57.6042 798.217 L21.9562 811.585 Z\" fill=\"#000000\" fill-rule=\"evenodd\" fill-opacity=\"1\" /><path clip-path=\"url(#clip9900)\" d=\"M 0 0 M39.6847 754.548 Q39.6847 761.646 41.3079 764.383 Q42.9312 767.12 46.8461 767.12 Q49.9653 767.12 51.8114 765.083 Q53.6256 763.014 53.6256 759.481 Q53.6256 754.611 50.1881 751.683 Q46.7188 748.723 40.9897 748.723 L39.6847 748.723 L39.6847 754.548 M37.2657 742.867 L57.6042 742.867 L57.6042 748.723 L52.1933 748.723 Q55.4398 750.728 56.9994 753.72 Q58.5272 756.712 58.5272 761.041 Q58.5272 766.515 55.4716 769.762 Q52.3843 772.977 47.2281 772.977 Q41.2125 772.977 38.1569 768.966 Q35.1014 764.924 35.1014 756.935 L35.1014 748.723 L34.5285 748.723 Q30.4862 748.723 28.2901 751.397 Q26.0621 754.039 26.0621 758.845 Q26.0621 761.9 26.7941 764.797 Q27.5262 767.693 28.9903 770.367 L23.5795 770.367 Q22.3381 767.152 21.7334 764.128 Q21.0968 761.104 21.0968 758.24 Q21.0968 750.506 25.1072 746.686 Q29.1176 742.867 37.2657 742.867 Z\" fill=\"#000000\" fill-rule=\"evenodd\" fill-opacity=\"1\" /><path clip-path=\"url(#clip9900)\" d=\"M 0 0 M8.07896 736.724 L8.07896 730.867 L57.6042 730.867 L57.6042 736.724 L8.07896 736.724 Z\" fill=\"#000000\" fill-rule=\"evenodd\" fill-opacity=\"1\" /><path clip-path=\"url(#clip9900)\" d=\"M 0 0 M43.5359 725.329 L21.9562 725.329 L21.9562 719.473 L43.3131 719.473 Q48.3739 719.473 50.9202 717.499 Q53.4346 715.526 53.4346 711.579 Q53.4346 706.837 50.4109 704.1 Q47.3872 701.33 42.1673 701.33 L21.9562 701.33 L21.9562 695.474 L57.6042 695.474 L57.6042 701.33 L52.1296 701.33 Q55.3762 703.463 56.9676 706.296 Q58.5272 709.097 58.5272 712.821 Q58.5272 718.964 54.7078 722.146 Q50.8883 725.329 43.5359 725.329 M21.0968 710.593 L21.0968 710.593 Z\" fill=\"#000000\" fill-rule=\"evenodd\" fill-opacity=\"1\" /><path clip-path=\"url(#clip9900)\" d=\"M 0 0 M38.3161 658.839 L41.1806 658.839 L41.1806 685.766 Q47.2281 685.384 50.4109 682.138 Q53.5619 678.86 53.5619 673.035 Q53.5619 669.661 52.7344 666.51 Q51.9069 663.327 50.2518 660.208 L55.7899 660.208 Q57.1267 663.359 57.827 666.669 Q58.5272 669.979 58.5272 673.385 Q58.5272 681.915 53.5619 686.912 Q48.5967 691.877 40.1303 691.877 Q31.3774 691.877 26.2531 687.167 Q21.0968 682.424 21.0968 674.404 Q21.0968 667.21 25.7438 663.041 Q30.3589 658.839 38.3161 658.839 M36.5973 664.696 Q31.7912 664.76 28.9266 667.401 Q26.0621 670.011 26.0621 674.34 Q26.0621 679.241 28.8312 682.202 Q31.6002 685.13 36.6292 685.575 L36.5973 664.696 Z\" fill=\"#000000\" fill-rule=\"evenodd\" fill-opacity=\"1\" /><polyline clip-path=\"url(#clip9902)\" style=\"stroke:#009af9; stroke-width:4; stroke-opacity:1; fill:none\" points=\"\n",
       "  382.721,917.824 411.436,815.91 440.151,827.153 468.866,952.642 497.582,952.642 526.297,952.642 555.012,859.432 583.727,806.842 612.442,758.243 641.157,869.95 \n",
       "  669.872,909.845 698.587,909.845 727.302,909.845 756.018,1077.41 784.733,1132.53 813.448,1085.02 842.163,1218.85 870.878,1166.63 899.593,1166.63 928.308,1166.63 \n",
       "  957.023,991.087 985.739,1033.52 1014.45,881.193 1043.17,875.753 1071.88,941.036 1100.6,941.036 1129.31,941.036 1158.03,831.505 1186.74,762.232 1215.46,756.429 \n",
       "  1244.17,724.15 1272.89,645.447 1301.6,645.447 1330.32,645.447 1359.03,543.17 1387.75,597.21 1416.47,603.013 1445.18,696.223 1473.9,584.879 1502.61,584.879 \n",
       "  1531.33,584.879 1560.04,632.391 1588.76,682.078 1617.47,727.052 1646.19,737.932 1674.9,732.129 1703.62,732.129 1732.33,732.129 1761.05,823.163 1789.76,996.527 \n",
       "  1818.48,1216.31 1847.19,1292.48 1875.91,1384.24 1904.62,1384.24 1933.34,1384.24 1962.05,1237.71 1990.77,1021.19 2019.48,781.092 2048.2,711.093 2076.91,733.943 \n",
       "  2105.63,733.943 2134.34,733.943 2163.06,189.188 2191.77,354.211 2220.49,312.864 2249.2,414.779 2277.92,325.196 2306.63,325.196 2335.35,325.196 2364.06,178.308 \n",
       "  2392.78,211.675 2421.49,190.277 2450.21,337.527 2478.92,357.475 2507.64,357.475 2536.35,357.475 2565.07,285.663 2593.78,122.817 2622.5,143.853 2651.22,143.853 \n",
       "  2679.93,159.811 2708.65,159.811 2737.36,159.811 2766.08,217.841 2794.79,135.148 2823.51,200.432 2852.22,124.993 2880.94,86.1857 2909.65,86.1857 2938.37,86.1857 \n",
       "  2967.08,86.1857 2995.8,86.1857 3024.51,86.1857 3053.23,86.1857 3081.94,86.1857 3110.66,86.1857 3139.37,86.1857 3168.09,86.1857 3196.8,86.1857 3225.52,86.1857 \n",
       "  3254.23,86.1857 3282.95,86.1857 3311.66,86.1857 3340.38,86.1857 3369.09,86.1857 3397.81,86.1857 3426.52,86.1857 3455.24,86.1857 3483.95,86.1857 3512.67,86.1857 \n",
       "  3541.38,86.1857 3570.1,86.1857 3598.81,86.1857 3627.53,86.1857 3656.24,86.1857 3684.96,86.1857 3713.67,86.1857 3742.39,86.1857 3771.1,86.1857 \n",
       "  \"/>\n",
       "<polyline clip-path=\"url(#clip9902)\" style=\"stroke:#e26f46; stroke-width:4; stroke-opacity:1; fill:none\" points=\"\n",
       "  382.721,909.845 411.436,851.815 440.151,771.299 468.866,978.393 497.582,969.326 526.297,962.072 555.012,848.914 583.727,741.922 612.442,847.463 641.157,991.45 \n",
       "  669.872,988.911 698.587,967.15 727.302,943.575 756.018,1003.78 784.733,961.709 813.448,1024.09 842.163,1140.15 870.878,1094.09 899.593,1129.63 928.308,1140.51 \n",
       "  957.023,1044.04 985.739,998.703 1014.45,910.208 1043.17,811.557 1071.88,923.99 1100.6,928.342 1129.31,917.462 1158.03,850.365 1186.74,773.838 1215.46,784.356 \n",
       "  1244.17,746.274 1272.89,748.087 1301.6,728.865 1330.32,718.347 1359.03,428.924 1387.75,449.96 1416.47,541.719 1445.18,663.219 1473.9,650.888 1502.61,634.204 \n",
       "  1531.33,609.541 1560.04,642.183 1588.76,699.85 1617.47,722.699 1646.19,774.926 1674.9,828.241 1703.62,822.438 1732.33,822.075 1761.05,808.656 1789.76,841.66 \n",
       "  1818.48,1014.66 1847.19,1148.49 1875.91,1348.33 1904.62,1357.76 1933.34,1338.54 1962.05,1307.35 1990.77,1182.95 2019.48,881.918 2048.2,636.017 2076.91,567.107 \n",
       "  2105.63,560.579 2134.34,580.526 2163.06,439.804 2191.77,639.644 2220.49,529.025 2249.2,369.806 2277.92,307.424 2306.63,302.346 2335.35,307.787 2364.06,289.29 \n",
       "  2392.78,248.669 2421.49,250.482 2450.21,259.549 2478.92,246.493 2507.64,264.264 2536.35,275.87 2565.07,297.632 2593.78,318.305 2622.5,229.447 2651.22,176.494 \n",
       "  2679.93,97.0662 2708.65,102.869 2737.36,148.93 2766.08,115.563 2794.79,173.593 2823.51,230.535 2852.22,273.694 2880.94,363.278 2909.65,372.345 2938.37,380.324 \n",
       "  2967.08,374.521 2995.8,380.324 3024.51,402.085 3053.23,424.934 3081.94,454.312 3110.66,484.415 3139.37,513.067 3168.09,537.73 3196.8,560.216 3225.52,579.076 \n",
       "  3254.23,599.023 3282.95,617.158 3311.66,634.204 3340.38,651.976 3369.09,669.747 3397.81,684.617 3426.52,699.85 3455.24,714.358 3483.95,728.865 3512.67,744.823 \n",
       "  3541.38,762.957 3570.1,795.599 3598.81,823.526 3627.53,854.354 3656.24,886.271 3684.96,914.197 3713.67,943.212 3742.39,973.315 3771.1,1003.06 \n",
       "  \"/>\n",
       "<polyline clip-path=\"url(#clip9902)\" style=\"stroke:#3da44d; stroke-width:4; stroke-opacity:1; fill:none\" points=\"\n",
       "  2952.72,2799.12 2952.72,-1328.69 \n",
       "  \"/>\n",
       "<path clip-path=\"url(#clip9900)\" d=\"\n",
       "M3044.85 1187.98 L3755.16 1187.98 L3755.16 946.06 L3044.85 946.06  Z\n",
       "  \" fill=\"#ffffff\" fill-rule=\"evenodd\" fill-opacity=\"1\"/>\n",
       "<polyline clip-path=\"url(#clip9900)\" style=\"stroke:#000000; stroke-width:4; stroke-opacity:1; fill:none\" points=\"\n",
       "  3044.85,1187.98 3755.16,1187.98 3755.16,946.06 3044.85,946.06 3044.85,1187.98 \n",
       "  \"/>\n",
       "<polyline clip-path=\"url(#clip9900)\" style=\"stroke:#009af9; stroke-width:4; stroke-opacity:1; fill:none\" points=\"\n",
       "  3084.05,1006.54 3319.25,1006.54 \n",
       "  \"/>\n",
       "<path clip-path=\"url(#clip9900)\" d=\"M 0 0 M3363.12 993.102 L3363.12 1019.98 L3368.77 1019.98 Q3375.92 1019.98 3379.23 1016.74 Q3382.57 1013.5 3382.57 1006.51 Q3382.57 999.561 3379.23 996.343 Q3375.92 993.102 3368.77 993.102 L3363.12 993.102 M3358.45 989.26 L3368.05 989.26 Q3378.1 989.26 3382.8 993.45 Q3387.5 997.616 3387.5 1006.51 Q3387.5 1015.44 3382.78 1019.63 Q3378.05 1023.82 3368.05 1023.82 L3358.45 1023.82 L3358.45 989.26 Z\" fill=\"#000000\" fill-rule=\"evenodd\" fill-opacity=\"1\" /><path clip-path=\"url(#clip9900)\" d=\"M 0 0 M3392.15 989.26 L3396.83 989.26 L3396.83 1021.41 Q3396.83 1027.66 3394.44 1030.49 Q3392.08 1033.31 3386.83 1033.31 L3385.04 1033.31 L3385.04 1029.38 L3386.5 1029.38 Q3389.6 1029.38 3390.88 1027.64 Q3392.15 1025.9 3392.15 1021.41 L3392.15 989.26 Z\" fill=\"#000000\" fill-rule=\"evenodd\" fill-opacity=\"1\" /><path clip-path=\"url(#clip9900)\" d=\"M 0 0 M3401.48 989.26 L3406.16 989.26 L3406.16 1023.82 L3401.48 1023.82 L3401.48 989.26 Z\" fill=\"#000000\" fill-rule=\"evenodd\" fill-opacity=\"1\" /><path clip-path=\"url(#clip9900)\" d=\"M 0 0 M3422.36 993.866 L3416.02 1011.07 L3428.72 1011.07 L3422.36 993.866 M3419.72 989.26 L3425.02 989.26 L3438.19 1023.82 L3433.33 1023.82 L3430.18 1014.95 L3414.6 1014.95 L3411.46 1023.82 L3406.53 1023.82 L3419.72 989.26 Z\" fill=\"#000000\" fill-rule=\"evenodd\" fill-opacity=\"1\" /><path clip-path=\"url(#clip9900)\" d=\"M 0 0 M3462.36 1031.69 L3462.36 1035 L3437.73 1035 L3437.73 1031.69 L3462.36 1031.69 Z\" fill=\"#000000\" fill-rule=\"evenodd\" fill-opacity=\"1\" /><path clip-path=\"url(#clip9900)\" d=\"M 0 0 M3481.04 992.431 Q3475.95 992.431 3472.94 996.227 Q3469.95 1000.02 3469.95 1006.57 Q3469.95 1013.1 3472.94 1016.9 Q3475.95 1020.69 3481.04 1020.69 Q3486.13 1020.69 3489.09 1016.9 Q3492.08 1013.1 3492.08 1006.57 Q3492.08 1000.02 3489.09 996.227 Q3486.13 992.431 3481.04 992.431 M3481.04 988.635 Q3488.31 988.635 3492.66 993.519 Q3497.01 998.38 3497.01 1006.57 Q3497.01 1014.75 3492.66 1019.63 Q3488.31 1024.49 3481.04 1024.49 Q3473.75 1024.49 3469.37 1019.63 Q3465.02 1014.77 3465.02 1006.57 Q3465.02 998.38 3469.37 993.519 Q3473.75 988.635 3481.04 988.635 Z\" fill=\"#000000\" fill-rule=\"evenodd\" fill-opacity=\"1\" /><path clip-path=\"url(#clip9900)\" d=\"M 0 0 M3516.5 1001.88 Q3515.78 1001.46 3514.93 1001.27 Q3514.09 1001.07 3513.08 1001.07 Q3509.47 1001.07 3507.52 1003.43 Q3505.6 1005.76 3505.6 1010.16 L3505.6 1023.82 L3501.32 1023.82 L3501.32 997.894 L3505.6 997.894 L3505.6 1001.92 Q3506.94 999.561 3509.09 998.426 Q3511.25 997.269 3514.33 997.269 Q3514.77 997.269 3515.3 997.339 Q3515.83 997.385 3516.48 997.501 L3516.5 1001.88 Z\" fill=\"#000000\" fill-rule=\"evenodd\" fill-opacity=\"1\" /><path clip-path=\"url(#clip9900)\" d=\"M 0 0 M3520.97 997.894 L3525.23 997.894 L3525.23 1023.82 L3520.97 1023.82 L3520.97 997.894 M3520.97 987.802 L3525.23 987.802 L3525.23 993.195 L3520.97 993.195 L3520.97 987.802 Z\" fill=\"#000000\" fill-rule=\"evenodd\" fill-opacity=\"1\" /><path clip-path=\"url(#clip9900)\" d=\"M 0 0 M3546.76 1010.56 Q3546.76 1005.93 3544.84 1003.38 Q3542.94 1000.83 3539.49 1000.83 Q3536.06 1000.83 3534.14 1003.38 Q3532.24 1005.93 3532.24 1010.56 Q3532.24 1015.16 3534.14 1017.71 Q3536.06 1020.26 3539.49 1020.26 Q3542.94 1020.26 3544.84 1017.71 Q3546.76 1015.16 3546.76 1010.56 M3551.02 1020.6 Q3551.02 1027.22 3548.08 1030.44 Q3545.14 1033.68 3539.07 1033.68 Q3536.83 1033.68 3534.84 1033.33 Q3532.84 1033.01 3530.97 1032.32 L3530.97 1028.17 Q3532.84 1029.19 3534.67 1029.68 Q3536.5 1030.16 3538.4 1030.16 Q3542.59 1030.16 3544.67 1027.96 Q3546.76 1025.79 3546.76 1021.37 L3546.76 1019.26 Q3545.44 1021.55 3543.38 1022.69 Q3541.32 1023.82 3538.45 1023.82 Q3533.68 1023.82 3530.76 1020.19 Q3527.84 1016.55 3527.84 1010.56 Q3527.84 1004.54 3530.76 1000.9 Q3533.68 997.269 3538.45 997.269 Q3541.32 997.269 3543.38 998.403 Q3545.44 999.538 3546.76 1001.83 L3546.76 997.894 L3551.02 997.894 L3551.02 1020.6 Z\" fill=\"#000000\" fill-rule=\"evenodd\" fill-opacity=\"1\" /><path clip-path=\"url(#clip9900)\" d=\"M 0 0 M3555.48 997.894 L3559.74 997.894 L3559.74 1023.82 L3555.48 1023.82 L3555.48 997.894 M3555.48 987.802 L3559.74 987.802 L3559.74 993.195 L3555.48 993.195 L3555.48 987.802 Z\" fill=\"#000000\" fill-rule=\"evenodd\" fill-opacity=\"1\" /><path clip-path=\"url(#clip9900)\" d=\"M 0 0 M3585.76 1008.17 L3585.76 1023.82 L3581.5 1023.82 L3581.5 1008.31 Q3581.5 1004.63 3580.07 1002.8 Q3578.63 1000.97 3575.76 1000.97 Q3572.31 1000.97 3570.32 1003.17 Q3568.33 1005.37 3568.33 1009.17 L3568.33 1023.82 L3564.05 1023.82 L3564.05 997.894 L3568.33 997.894 L3568.33 1001.92 Q3569.86 999.584 3571.92 998.426 Q3574 997.269 3576.71 997.269 Q3581.18 997.269 3583.47 1000.05 Q3585.76 1002.8 3585.76 1008.17 Z\" fill=\"#000000\" fill-rule=\"evenodd\" fill-opacity=\"1\" /><path clip-path=\"url(#clip9900)\" d=\"M 0 0 M3602.01 1010.79 Q3596.85 1010.79 3594.86 1011.97 Q3592.87 1013.15 3592.87 1016 Q3592.87 1018.26 3594.35 1019.61 Q3595.85 1020.93 3598.42 1020.93 Q3601.96 1020.93 3604.09 1018.43 Q3606.25 1015.9 3606.25 1011.74 L3606.25 1010.79 L3602.01 1010.79 M3610.51 1009.03 L3610.51 1023.82 L3606.25 1023.82 L3606.25 1019.88 Q3604.79 1022.25 3602.61 1023.38 Q3600.44 1024.49 3597.29 1024.49 Q3593.31 1024.49 3590.95 1022.27 Q3588.61 1020.02 3588.61 1016.27 Q3588.61 1011.9 3591.52 1009.68 Q3594.46 1007.45 3600.27 1007.45 L3606.25 1007.45 L3606.25 1007.04 Q3606.25 1004.1 3604.3 1002.5 Q3602.38 1000.88 3598.89 1000.88 Q3596.66 1000.88 3594.56 1001.41 Q3592.45 1001.94 3590.51 1003.01 L3590.51 999.075 Q3592.84 998.172 3595.04 997.732 Q3597.24 997.269 3599.33 997.269 Q3604.95 997.269 3607.73 1000.19 Q3610.51 1003.1 3610.51 1009.03 Z\" fill=\"#000000\" fill-rule=\"evenodd\" fill-opacity=\"1\" /><path clip-path=\"url(#clip9900)\" d=\"M 0 0 M3614.97 987.802 L3619.23 987.802 L3619.23 1023.82 L3614.97 1023.82 L3614.97 987.802 Z\" fill=\"#000000\" fill-rule=\"evenodd\" fill-opacity=\"1\" /><polyline clip-path=\"url(#clip9900)\" style=\"stroke:#e26f46; stroke-width:4; stroke-opacity:1; fill:none\" points=\"\n",
       "  3084.05,1067.02 3319.25,1067.02 \n",
       "  \"/>\n",
       "<path clip-path=\"url(#clip9900)\" d=\"M 0 0 M3362.73 1080.41 L3362.73 1094.16 L3358.45 1094.16 L3358.45 1058.37 L3362.73 1058.37 L3362.73 1062.31 Q3364.07 1059.99 3366.11 1058.88 Q3368.17 1057.75 3371.02 1057.75 Q3375.74 1057.75 3378.68 1061.5 Q3381.64 1065.25 3381.64 1071.36 Q3381.64 1077.47 3378.68 1081.22 Q3375.74 1084.97 3371.02 1084.97 Q3368.17 1084.97 3366.11 1083.86 Q3364.07 1082.73 3362.73 1080.41 M3377.22 1071.36 Q3377.22 1066.66 3375.28 1064 Q3373.35 1061.31 3369.98 1061.31 Q3366.6 1061.31 3364.65 1064 Q3362.73 1066.66 3362.73 1071.36 Q3362.73 1076.06 3364.65 1078.74 Q3366.6 1081.41 3369.98 1081.41 Q3373.35 1081.41 3375.28 1078.74 Q3377.22 1076.06 3377.22 1071.36 Z\" fill=\"#000000\" fill-rule=\"evenodd\" fill-opacity=\"1\" /><path clip-path=\"url(#clip9900)\" d=\"M 0 0 M3401.13 1062.36 Q3400.41 1061.94 3399.56 1061.75 Q3398.72 1061.55 3397.71 1061.55 Q3394.1 1061.55 3392.15 1063.91 Q3390.23 1066.24 3390.23 1070.64 L3390.23 1084.3 L3385.95 1084.3 L3385.95 1058.37 L3390.23 1058.37 L3390.23 1062.4 Q3391.57 1060.04 3393.73 1058.91 Q3395.88 1057.75 3398.96 1057.75 Q3399.4 1057.75 3399.93 1057.82 Q3400.46 1057.86 3401.11 1057.98 L3401.13 1062.36 Z\" fill=\"#000000\" fill-rule=\"evenodd\" fill-opacity=\"1\" /><path clip-path=\"url(#clip9900)\" d=\"M 0 0 M3426.73 1070.27 L3426.73 1072.36 L3407.15 1072.36 Q3407.43 1076.75 3409.79 1079.07 Q3412.17 1081.36 3416.41 1081.36 Q3418.86 1081.36 3421.16 1080.76 Q3423.47 1080.16 3425.74 1078.95 L3425.74 1082.98 Q3423.45 1083.95 3421.04 1084.46 Q3418.63 1084.97 3416.16 1084.97 Q3409.95 1084.97 3406.32 1081.36 Q3402.71 1077.75 3402.71 1071.59 Q3402.71 1065.23 3406.13 1061.5 Q3409.58 1057.75 3415.41 1057.75 Q3420.65 1057.75 3423.68 1061.13 Q3426.73 1064.49 3426.73 1070.27 M3422.47 1069.02 Q3422.43 1065.53 3420.51 1063.44 Q3418.61 1061.36 3415.46 1061.36 Q3411.9 1061.36 3409.74 1063.37 Q3407.61 1065.39 3407.29 1069.05 L3422.47 1069.02 Z\" fill=\"#000000\" fill-rule=\"evenodd\" fill-opacity=\"1\" /><path clip-path=\"url(#clip9900)\" d=\"M 0 0 M3448.26 1062.31 L3448.26 1048.28 L3452.52 1048.28 L3452.52 1084.3 L3448.26 1084.3 L3448.26 1080.41 Q3446.92 1082.73 3444.86 1083.86 Q3442.82 1084.97 3439.95 1084.97 Q3435.25 1084.97 3432.29 1081.22 Q3429.35 1077.47 3429.35 1071.36 Q3429.35 1065.25 3432.29 1061.5 Q3435.25 1057.75 3439.95 1057.75 Q3442.82 1057.75 3444.86 1058.88 Q3446.92 1059.99 3448.26 1062.31 M3433.75 1071.36 Q3433.75 1076.06 3435.67 1078.74 Q3437.61 1081.41 3440.99 1081.41 Q3444.37 1081.41 3446.32 1078.74 Q3448.26 1076.06 3448.26 1071.36 Q3448.26 1066.66 3446.32 1064 Q3444.37 1061.31 3440.99 1061.31 Q3437.61 1061.31 3435.67 1064 Q3433.75 1066.66 3433.75 1071.36 Z\" fill=\"#000000\" fill-rule=\"evenodd\" fill-opacity=\"1\" /><path clip-path=\"url(#clip9900)\" d=\"M 0 0 M3456.99 1058.37 L3461.25 1058.37 L3461.25 1084.3 L3456.99 1084.3 L3456.99 1058.37 M3456.99 1048.28 L3461.25 1048.28 L3461.25 1053.68 L3456.99 1053.68 L3456.99 1048.28 Z\" fill=\"#000000\" fill-rule=\"evenodd\" fill-opacity=\"1\" /><path clip-path=\"url(#clip9900)\" d=\"M 0 0 M3469.93 1051.01 L3469.93 1058.37 L3478.7 1058.37 L3478.7 1061.68 L3469.93 1061.68 L3469.93 1075.76 Q3469.93 1078.93 3470.78 1079.83 Q3471.66 1080.74 3474.33 1080.74 L3478.7 1080.74 L3478.7 1084.3 L3474.33 1084.3 Q3469.4 1084.3 3467.52 1082.47 Q3465.65 1080.62 3465.65 1075.76 L3465.65 1061.68 L3462.52 1061.68 L3462.52 1058.37 L3465.65 1058.37 L3465.65 1051.01 L3469.93 1051.01 Z\" fill=\"#000000\" fill-rule=\"evenodd\" fill-opacity=\"1\" /><path clip-path=\"url(#clip9900)\" d=\"M 0 0 M3483.17 1058.37 L3487.43 1058.37 L3487.43 1084.3 L3483.17 1084.3 L3483.17 1058.37 M3483.17 1048.28 L3487.43 1048.28 L3487.43 1053.68 L3483.17 1053.68 L3483.17 1048.28 Z\" fill=\"#000000\" fill-rule=\"evenodd\" fill-opacity=\"1\" /><path clip-path=\"url(#clip9900)\" d=\"M 0 0 M3501.94 1061.36 Q3498.52 1061.36 3496.53 1064.05 Q3494.53 1066.71 3494.53 1071.36 Q3494.53 1076.01 3496.5 1078.7 Q3498.49 1081.36 3501.94 1081.36 Q3505.34 1081.36 3507.34 1078.67 Q3509.33 1075.99 3509.33 1071.36 Q3509.33 1066.75 3507.34 1064.07 Q3505.34 1061.36 3501.94 1061.36 M3501.94 1057.75 Q3507.5 1057.75 3510.67 1061.36 Q3513.84 1064.97 3513.84 1071.36 Q3513.84 1077.73 3510.67 1081.36 Q3507.5 1084.97 3501.94 1084.97 Q3496.36 1084.97 3493.19 1081.36 Q3490.04 1077.73 3490.04 1071.36 Q3490.04 1064.97 3493.19 1061.36 Q3496.36 1057.75 3501.94 1057.75 Z\" fill=\"#000000\" fill-rule=\"evenodd\" fill-opacity=\"1\" /><path clip-path=\"url(#clip9900)\" d=\"M 0 0 M3539.86 1068.65 L3539.86 1084.3 L3535.6 1084.3 L3535.6 1068.79 Q3535.6 1065.11 3534.16 1063.28 Q3532.73 1061.45 3529.86 1061.45 Q3526.41 1061.45 3524.42 1063.65 Q3522.43 1065.85 3522.43 1069.65 L3522.43 1084.3 L3518.15 1084.3 L3518.15 1058.37 L3522.43 1058.37 L3522.43 1062.4 Q3523.96 1060.06 3526.02 1058.91 Q3528.1 1057.75 3530.81 1057.75 Q3535.28 1057.75 3537.57 1060.53 Q3539.86 1063.28 3539.86 1068.65 Z\" fill=\"#000000\" fill-rule=\"evenodd\" fill-opacity=\"1\" /><path clip-path=\"url(#clip9900)\" d=\"M 0 0 M3560.85 1059.14 L3560.85 1063.17 Q3559.05 1062.24 3557.1 1061.78 Q3555.16 1061.31 3553.08 1061.31 Q3549.9 1061.31 3548.31 1062.29 Q3546.73 1063.26 3546.73 1065.2 Q3546.73 1066.68 3547.87 1067.54 Q3549 1068.37 3552.43 1069.14 L3553.89 1069.46 Q3558.42 1070.43 3560.32 1072.22 Q3562.24 1073.98 3562.24 1077.15 Q3562.24 1080.76 3559.37 1082.86 Q3556.53 1084.97 3551.53 1084.97 Q3549.44 1084.97 3547.17 1084.55 Q3544.93 1084.16 3542.43 1083.35 L3542.43 1078.95 Q3544.79 1080.18 3547.08 1080.8 Q3549.37 1081.41 3551.62 1081.41 Q3554.63 1081.41 3556.25 1080.39 Q3557.87 1079.35 3557.87 1077.47 Q3557.87 1075.74 3556.69 1074.81 Q3555.53 1073.88 3551.57 1073.03 L3550.09 1072.68 Q3546.13 1071.85 3544.37 1070.13 Q3542.61 1068.4 3542.61 1065.39 Q3542.61 1061.73 3545.21 1059.74 Q3547.8 1057.75 3552.57 1057.75 Q3554.93 1057.75 3557.01 1058.1 Q3559.09 1058.44 3560.85 1059.14 Z\" fill=\"#000000\" fill-rule=\"evenodd\" fill-opacity=\"1\" /><polyline clip-path=\"url(#clip9900)\" style=\"stroke:#3da44d; stroke-width:4; stroke-opacity:1; fill:none\" points=\"\n",
       "  3084.05,1127.5 3319.25,1127.5 \n",
       "  \"/>\n",
       "<path clip-path=\"url(#clip9900)\" d=\"M 0 0 M3365.85 1111.49 L3365.85 1118.85 L3374.63 1118.85 L3374.63 1122.16 L3365.85 1122.16 L3365.85 1136.24 Q3365.85 1139.41 3366.71 1140.31 Q3367.59 1141.22 3370.25 1141.22 L3374.63 1141.22 L3374.63 1144.78 L3370.25 1144.78 Q3365.32 1144.78 3363.45 1142.95 Q3361.57 1141.1 3361.57 1136.24 L3361.57 1122.16 L3358.45 1122.16 L3358.45 1118.85 L3361.57 1118.85 L3361.57 1111.49 L3365.85 1111.49 Z\" fill=\"#000000\" fill-rule=\"evenodd\" fill-opacity=\"1\" /><path clip-path=\"url(#clip9900)\" d=\"M 0 0 M3389.14 1121.84 Q3385.72 1121.84 3383.73 1124.53 Q3381.73 1127.19 3381.73 1131.84 Q3381.73 1136.49 3383.7 1139.18 Q3385.69 1141.84 3389.14 1141.84 Q3392.54 1141.84 3394.54 1139.15 Q3396.53 1136.47 3396.53 1131.84 Q3396.53 1127.23 3394.54 1124.55 Q3392.54 1121.84 3389.14 1121.84 M3389.14 1118.23 Q3394.7 1118.23 3397.87 1121.84 Q3401.04 1125.45 3401.04 1131.84 Q3401.04 1138.21 3397.87 1141.84 Q3394.7 1145.45 3389.14 1145.45 Q3383.56 1145.45 3380.39 1141.84 Q3377.24 1138.21 3377.24 1131.84 Q3377.24 1125.45 3380.39 1121.84 Q3383.56 1118.23 3389.14 1118.23 Z\" fill=\"#000000\" fill-rule=\"evenodd\" fill-opacity=\"1\" /><path clip-path=\"url(#clip9900)\" d=\"M 0 0 M3422.57 1122.79 L3422.57 1108.76 L3426.83 1108.76 L3426.83 1144.78 L3422.57 1144.78 L3422.57 1140.89 Q3421.22 1143.21 3419.16 1144.34 Q3417.13 1145.45 3414.26 1145.45 Q3409.56 1145.45 3406.6 1141.7 Q3403.66 1137.95 3403.66 1131.84 Q3403.66 1125.73 3406.6 1121.98 Q3409.56 1118.23 3414.26 1118.23 Q3417.13 1118.23 3419.16 1119.36 Q3421.22 1120.47 3422.57 1122.79 M3408.05 1131.84 Q3408.05 1136.54 3409.97 1139.22 Q3411.92 1141.89 3415.3 1141.89 Q3418.68 1141.89 3420.62 1139.22 Q3422.57 1136.54 3422.57 1131.84 Q3422.57 1127.14 3420.62 1124.48 Q3418.68 1121.79 3415.3 1121.79 Q3411.92 1121.79 3409.97 1124.48 Q3408.05 1127.14 3408.05 1131.84 Z\" fill=\"#000000\" fill-rule=\"evenodd\" fill-opacity=\"1\" /><path clip-path=\"url(#clip9900)\" d=\"M 0 0 M3443.08 1131.75 Q3437.91 1131.75 3435.92 1132.93 Q3433.93 1134.11 3433.93 1136.96 Q3433.93 1139.22 3435.41 1140.57 Q3436.92 1141.89 3439.49 1141.89 Q3443.03 1141.89 3445.16 1139.39 Q3447.31 1136.86 3447.31 1132.7 L3447.31 1131.75 L3443.08 1131.75 M3451.57 1129.99 L3451.57 1144.78 L3447.31 1144.78 L3447.31 1140.84 Q3445.85 1143.21 3443.68 1144.34 Q3441.5 1145.45 3438.35 1145.45 Q3434.37 1145.45 3432.01 1143.23 Q3429.67 1140.98 3429.67 1137.23 Q3429.67 1132.86 3432.59 1130.64 Q3435.53 1128.41 3441.34 1128.41 L3447.31 1128.41 L3447.31 1128 Q3447.31 1125.06 3445.37 1123.46 Q3443.45 1121.84 3439.95 1121.84 Q3437.73 1121.84 3435.62 1122.37 Q3433.52 1122.9 3431.57 1123.97 L3431.57 1120.03 Q3433.91 1119.13 3436.11 1118.69 Q3438.31 1118.23 3440.39 1118.23 Q3446.02 1118.23 3448.79 1121.15 Q3451.57 1124.06 3451.57 1129.99 Z\" fill=\"#000000\" fill-rule=\"evenodd\" fill-opacity=\"1\" /><path clip-path=\"url(#clip9900)\" d=\"M 0 0 M3466.83 1147.19 Q3465.02 1151.82 3463.31 1153.23 Q3461.6 1154.64 3458.72 1154.64 L3455.32 1154.64 L3455.32 1151.08 L3457.82 1151.08 Q3459.58 1151.08 3460.55 1150.24 Q3461.53 1149.41 3462.71 1146.31 L3463.47 1144.36 L3452.98 1118.85 L3457.5 1118.85 L3465.6 1139.13 L3473.7 1118.85 L3478.22 1118.85 L3466.83 1147.19 Z\" fill=\"#000000\" fill-rule=\"evenodd\" fill-opacity=\"1\" /><path clip-path=\"url(#clip9900)\" d=\"M 0 0 M3502.61 1114.06 L3502.61 1140.94 L3508.26 1140.94 Q3515.41 1140.94 3518.72 1137.7 Q3522.06 1134.46 3522.06 1127.47 Q3522.06 1120.52 3518.72 1117.3 Q3515.41 1114.06 3508.26 1114.06 L3502.61 1114.06 M3497.94 1110.22 L3507.54 1110.22 Q3517.59 1110.22 3522.29 1114.41 Q3526.99 1118.58 3526.99 1127.47 Q3526.99 1136.4 3522.27 1140.59 Q3517.54 1144.78 3507.54 1144.78 L3497.94 1144.78 L3497.94 1110.22 Z\" fill=\"#000000\" fill-rule=\"evenodd\" fill-opacity=\"1\" /><path clip-path=\"url(#clip9900)\" d=\"M 0 0 M3553.63 1130.75 L3553.63 1132.84 L3534.05 1132.84 Q3534.33 1137.23 3536.69 1139.55 Q3539.07 1141.84 3543.31 1141.84 Q3545.76 1141.84 3548.05 1141.24 Q3550.37 1140.64 3552.64 1139.43 L3552.64 1143.46 Q3550.34 1144.43 3547.94 1144.94 Q3545.53 1145.45 3543.05 1145.45 Q3536.85 1145.45 3533.22 1141.84 Q3529.6 1138.23 3529.6 1132.07 Q3529.6 1125.71 3533.03 1121.98 Q3536.48 1118.23 3542.31 1118.23 Q3547.54 1118.23 3550.58 1121.61 Q3553.63 1124.97 3553.63 1130.75 M3549.37 1129.5 Q3549.33 1126.01 3547.4 1123.92 Q3545.51 1121.84 3542.36 1121.84 Q3538.79 1121.84 3536.64 1123.85 Q3534.51 1125.87 3534.19 1129.53 L3549.37 1129.5 Z\" fill=\"#000000\" fill-rule=\"evenodd\" fill-opacity=\"1\" /><path clip-path=\"url(#clip9900)\" d=\"M 0 0 M3576.76 1119.85 L3576.76 1123.83 Q3574.95 1122.84 3573.12 1122.35 Q3571.32 1121.84 3569.46 1121.84 Q3565.32 1121.84 3563.03 1124.48 Q3560.74 1127.09 3560.74 1131.84 Q3560.74 1136.59 3563.03 1139.22 Q3565.32 1141.84 3569.46 1141.84 Q3571.32 1141.84 3573.12 1141.35 Q3574.95 1140.84 3576.76 1139.85 L3576.76 1143.78 Q3574.97 1144.62 3573.05 1145.03 Q3571.15 1145.45 3569 1145.45 Q3563.15 1145.45 3559.7 1141.77 Q3556.25 1138.09 3556.25 1131.84 Q3556.25 1125.5 3559.72 1121.86 Q3563.21 1118.23 3569.28 1118.23 Q3571.25 1118.23 3573.12 1118.65 Q3575 1119.04 3576.76 1119.85 Z\" fill=\"#000000\" fill-rule=\"evenodd\" fill-opacity=\"1\" /><path clip-path=\"url(#clip9900)\" d=\"M 0 0 M3581.83 1138.9 L3586.71 1138.9 L3586.71 1144.78 L3581.83 1144.78 L3581.83 1138.9 Z\" fill=\"#000000\" fill-rule=\"evenodd\" fill-opacity=\"1\" /><path clip-path=\"url(#clip9900)\" d=\"M 0 0 M3602.36 1125.64 Q3599.21 1125.64 3597.36 1127.79 Q3595.53 1129.94 3595.53 1133.69 Q3595.53 1137.42 3597.36 1139.59 Q3599.21 1141.75 3602.36 1141.75 Q3605.51 1141.75 3607.33 1139.59 Q3609.19 1137.42 3609.19 1133.69 Q3609.19 1129.94 3607.33 1127.79 Q3605.51 1125.64 3602.36 1125.64 M3611.64 1110.98 L3611.64 1115.24 Q3609.88 1114.41 3608.08 1113.97 Q3606.29 1113.53 3604.53 1113.53 Q3599.9 1113.53 3597.45 1116.65 Q3595.02 1119.78 3594.67 1126.1 Q3596.04 1124.09 3598.1 1123.02 Q3600.16 1121.93 3602.64 1121.93 Q3607.84 1121.93 3610.85 1125.1 Q3613.89 1128.25 3613.89 1133.69 Q3613.89 1139.02 3610.74 1142.23 Q3607.59 1145.45 3602.36 1145.45 Q3596.36 1145.45 3593.19 1140.87 Q3590.02 1136.26 3590.02 1127.53 Q3590.02 1119.34 3593.91 1114.48 Q3597.8 1109.59 3604.35 1109.59 Q3606.11 1109.59 3607.89 1109.94 Q3609.7 1110.29 3611.64 1110.98 Z\" fill=\"#000000\" fill-rule=\"evenodd\" fill-opacity=\"1\" /><path clip-path=\"url(#clip9900)\" d=\"M 0 0 M3619.44 1138.9 L3624.33 1138.9 L3624.33 1142.88 L3620.53 1150.29 L3617.54 1150.29 L3619.44 1142.88 L3619.44 1138.9 Z\" fill=\"#000000\" fill-rule=\"evenodd\" fill-opacity=\"1\" /><path clip-path=\"url(#clip9900)\" d=\"M 0 0 M3633.42 1140.84 L3649.74 1140.84 L3649.74 1144.78 L3627.8 1144.78 L3627.8 1140.84 Q3630.46 1138.09 3635.04 1133.46 Q3639.65 1128.81 3640.83 1127.47 Q3643.08 1124.94 3643.96 1123.21 Q3644.86 1121.45 3644.86 1119.76 Q3644.86 1117 3642.91 1115.27 Q3640.99 1113.53 3637.89 1113.53 Q3635.69 1113.53 3633.24 1114.29 Q3630.81 1115.06 3628.03 1116.61 L3628.03 1111.89 Q3630.85 1110.75 3633.31 1110.17 Q3635.76 1109.59 3637.8 1109.59 Q3643.17 1109.59 3646.36 1112.28 Q3649.56 1114.97 3649.56 1119.46 Q3649.56 1121.59 3648.75 1123.51 Q3647.96 1125.4 3645.85 1128 Q3645.27 1128.67 3642.17 1131.89 Q3639.07 1135.08 3633.42 1140.84 Z\" fill=\"#000000\" fill-rule=\"evenodd\" fill-opacity=\"1\" /><path clip-path=\"url(#clip9900)\" d=\"M 0 0 M3664.81 1113.3 Q3661.2 1113.3 3659.37 1116.86 Q3657.57 1120.4 3657.57 1127.53 Q3657.57 1134.64 3659.37 1138.21 Q3661.2 1141.75 3664.81 1141.75 Q3668.45 1141.75 3670.25 1138.21 Q3672.08 1134.64 3672.08 1127.53 Q3672.08 1120.4 3670.25 1116.86 Q3668.45 1113.3 3664.81 1113.3 M3664.81 1109.59 Q3670.62 1109.59 3673.68 1114.2 Q3676.76 1118.78 3676.76 1127.53 Q3676.76 1136.26 3673.68 1140.87 Q3670.62 1145.45 3664.81 1145.45 Q3659 1145.45 3655.92 1140.87 Q3652.87 1136.26 3652.87 1127.53 Q3652.87 1118.78 3655.92 1114.2 Q3659 1109.59 3664.81 1109.59 Z\" fill=\"#000000\" fill-rule=\"evenodd\" fill-opacity=\"1\" /></svg>\n"
      ]
     },
     "execution_count": 17,
     "metadata": {},
     "output_type": "execute_result"
    }
   ],
   "source": [
    "using Plots\n",
    "\n",
    "#dates = format_dates( df[rows,2] , \"m/d/yy\")\n",
    "\n",
    "gr()\n",
    "plot(    x_axis_dates,\n",
    "        [  y_axis_original y_axis_predicted \n",
    "        ], # y-axis\n",
    "    label    = \n",
    "        [ column_to_predict \"preditions\"  \"\" ],\n",
    "    legend   =:bottomright, \n",
    "              # :right, :left, :top, :bottom, :inside, :best, :legend, :topright, :topleft, :bottomleft, :bottomright\n",
    "    xlabel   = \"time\",\n",
    "    ylabel   = \"value\",\n",
    "    size     = (980, 400), # width, height\n",
    "    layout = (1, 1), # number of graphs: vertically, horizontally\n",
    "    )\n",
    "## Add veritical today line\n",
    "plot!([today_id], seriestype=\"vline\", label=[ \"today \"*t \"\" ],)"
   ]
  },
  {
   "cell_type": "code",
   "execution_count": 18,
   "metadata": {
    "ExecuteTime": {
     "end_time": "2020-12-06T21:42:15.886000-05:00",
     "start_time": "2020-12-07T02:41:23.868Z"
    }
   },
   "outputs": [],
   "source": [
    "savefig(\"../../predictions.png\")"
   ]
  },
  {
   "cell_type": "code",
   "execution_count": 19,
   "metadata": {
    "ExecuteTime": {
     "end_time": "2020-12-06T21:42:15.943000-05:00",
     "start_time": "2020-12-07T02:41:23.871Z"
    }
   },
   "outputs": [],
   "source": [
    "savefig(\"../../predictions_\" * column_to_predict * \".png\")"
   ]
  },
  {
   "cell_type": "code",
   "execution_count": 20,
   "metadata": {
    "ExecuteTime": {
     "end_time": "2020-12-06T21:42:15.967000-05:00",
     "start_time": "2020-12-07T02:41:23.874Z"
    }
   },
   "outputs": [],
   "source": [
    "## print prediction comparisons\n",
    "#println(today_id)\n",
    "\n",
    "for id in finem-10:finem\n",
    "    if id < today_id + 2\n",
    "        row = get(data_predictions, id) # get a dictionary of data from the SFrame\n",
    "        date_string = row[\"Date\"] # e.g. \"2020-10-20\"\n",
    "        \n",
    "        a = y_axis_predicted[id]\n",
    "        b = y_axis_original[id]\n",
    "        d = round(b-a, digits=3)\n",
    "        date = convert(String, Dates.format( Date(date_string), \"e, u. dd, yyyy\" ) )\n",
    "        if id < today_id\n",
    "            println( date, \"\\t predicted \", a , \"\\t, but actual value was \\t\", b , \"\\t difference is \",  d  ) # di\n",
    "        else\n",
    "            println( date, \"\\t predicted \", a  ) # di\n",
    "        end # if\n",
    "    end #if \n",
    "end"
   ]
  },
  {
   "cell_type": "code",
   "execution_count": null,
   "metadata": {},
   "outputs": [],
   "source": []
  }
 ],
 "metadata": {
  "kernelspec": {
   "display_name": "Julia 1.5.1",
   "language": "julia",
   "name": "julia-1.5"
  },
  "language_info": {
   "file_extension": ".jl",
   "mimetype": "application/julia",
   "name": "julia",
   "version": "1.5.1"
  },
  "toc": {
   "base_numbering": 1,
   "nav_menu": {},
   "number_sections": true,
   "sideBar": true,
   "skip_h1_title": true,
   "title_cell": "Table of Contents",
   "title_sidebar": "Contents",
   "toc_cell": true,
   "toc_position": {},
   "toc_section_display": true,
   "toc_window_display": true
  },
  "varInspector": {
   "cols": {
    "lenName": 16,
    "lenType": 16,
    "lenVar": 40
   },
   "kernels_config": {
    "python": {
     "delete_cmd_postfix": "",
     "delete_cmd_prefix": "del ",
     "library": "var_list.py",
     "varRefreshCmd": "print(var_dic_list())"
    },
    "r": {
     "delete_cmd_postfix": ") ",
     "delete_cmd_prefix": "rm(",
     "library": "var_list.r",
     "varRefreshCmd": "cat(var_dic_list()) "
    }
   },
   "types_to_exclude": [
    "module",
    "function",
    "builtin_function_or_method",
    "instance",
    "_Feature"
   ],
   "window_display": false
  }
 },
 "nbformat": 4,
 "nbformat_minor": 4
}
