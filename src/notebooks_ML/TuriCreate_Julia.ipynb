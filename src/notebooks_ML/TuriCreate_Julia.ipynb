{
 "cells": [
  {
   "cell_type": "markdown",
   "metadata": {},
   "source": [
    "# Prediction Model using TuriCreate in Julia"
   ]
  },
  {
   "cell_type": "markdown",
   "metadata": {
    "toc": true
   },
   "source": [
    "<h1>Table of Contents<span class=\"tocSkip\"></span></h1>\n",
    "<div class=\"toc\"><ul class=\"toc-item\"><li><span><a href=\"#Set-Up\" data-toc-modified-id=\"Set-Up-1\"><span class=\"toc-item-num\">1&nbsp;&nbsp;</span>Set Up</a></span></li><li><span><a href=\"#Fetch-Data-(SFrame)-from-Uber-CSV\" data-toc-modified-id=\"Fetch-Data-(SFrame)-from-Uber-CSV-2\"><span class=\"toc-item-num\">2&nbsp;&nbsp;</span>Fetch Data (SFrame) from Uber CSV</a></span></li><li><span><a href=\"#Split-Data\" data-toc-modified-id=\"Split-Data-3\"><span class=\"toc-item-num\">3&nbsp;&nbsp;</span>Split Data</a></span></li><li><span><a href=\"#Evaluate-the-Model\" data-toc-modified-id=\"Evaluate-the-Model-4\"><span class=\"toc-item-num\">4&nbsp;&nbsp;</span>Evaluate the Model</a></span></li><li><span><a href=\"#Save-/-Export-the-Model\" data-toc-modified-id=\"Save-/-Export-the-Model-5\"><span class=\"toc-item-num\">5&nbsp;&nbsp;</span>Save / Export the Model</a></span></li><li><span><a href=\"#Make-predictions\" data-toc-modified-id=\"Make-predictions-6\"><span class=\"toc-item-num\">6&nbsp;&nbsp;</span>Make predictions</a></span><ul class=\"toc-item\"><li><span><a href=\"#Explore-SFrame\" data-toc-modified-id=\"Explore-SFrame-6.1\"><span class=\"toc-item-num\">6.1&nbsp;&nbsp;</span>Explore SFrame</a></span></li></ul></li></ul></div>"
   ]
  },
  {
   "cell_type": "markdown",
   "metadata": {},
   "source": [
    "## Set Up"
   ]
  },
  {
   "cell_type": "code",
   "execution_count": 1,
   "metadata": {
    "ExecuteTime": {
     "end_time": "2020-12-06T21:58:39.337000-05:00",
     "start_time": "2020-12-07T02:58:34.975Z"
    }
   },
   "outputs": [
    {
     "name": "stdout",
     "output_type": "stream",
     "text": [
      "\n"
     ]
    }
   ],
   "source": [
    "# column_to_predict = \"DJIA_Original\"\n",
    "# column_to_predict = \"AAPL_Original\"\n",
    "# column_to_predict = \"VIX_Original\"\n",
    " column_to_predict = \"NIO_Original\"\n",
    "# column_to_predict = \"NVDA_Original\"\n",
    "\n",
    "## uncomment for the first run\n",
    "# import Pkg\n",
    "# Pkg.add(\"PyCall\")\n",
    "# Pkg.add(\"Conda\")\n",
    "# ENV[\"PYTHON\"] = \"/opt/anaconda3/envs/turi/bin/python\"\n",
    "# /opt/anaconda3/envs/turi/lib/python3.6/site-packages/\n",
    "# Pkg.build(\"PyCall\")\n",
    "\n",
    "include(\"../Julia/functions.jl\") "
   ]
  },
  {
   "cell_type": "code",
   "execution_count": 2,
   "metadata": {
    "ExecuteTime": {
     "end_time": "2020-12-06T21:58:43.410000-05:00",
     "start_time": "2020-12-07T02:58:34.978Z"
    }
   },
   "outputs": [
    {
     "data": {
      "text/plain": [
       "PyObject <module 'turicreate' from '/opt/anaconda3/envs/turi/lib/python3.6/site-packages/turicreate/__init__.py'>"
      ]
     },
     "execution_count": 2,
     "metadata": {},
     "output_type": "execute_result"
    }
   ],
   "source": [
    "using PyCall\n",
    "tc = pyimport(\"turicreate\")"
   ]
  },
  {
   "cell_type": "markdown",
   "metadata": {},
   "source": [
    "## Fetch Data (SFrame) from Uber CSV"
   ]
  },
  {
   "cell_type": "code",
   "execution_count": 3,
   "metadata": {
    "ExecuteTime": {
     "end_time": "2020-12-06T21:58:43.756000-05:00",
     "start_time": "2020-12-07T02:58:34.981Z"
    }
   },
   "outputs": [
    {
     "name": "stdout",
     "output_type": "stream",
     "text": [
      "Finished parsing file /Users/uki/REPOS/MarketIndicators.jl/src/DATA/processed/uber_training.csv\n",
      "Parsing completed. Parsed 100 lines in 0.028645 secs.\n",
      "------------------------------------------------------\n",
      "Inferred types from first 100 line(s) of file as \n",
      "column_type_hints=[int,str,float,float,float,float,float,float,float,float,float,float,float,float,float,float,float,float,float,float,float,float,float,float,float,float,float,float,float,float,float,float,float,float,float,float,float,float,float,float,float,float,float,float,float,float,float,float,float,float,float,float,float,float,float,float,float,float,float,float,float,float,float,float,float,float,float,float,float,float,float,float,float,float,float,float,float,float,float]\n",
      "If parsing fails due to incorrect types, you can correct\n",
      "the inferred type list above and pass it to read_csv in\n",
      "the column_type_hints argument\n",
      "------------------------------------------------------\n",
      "Finished parsing file /Users/uki/REPOS/MarketIndicators.jl/src/DATA/processed/uber_training.csv\n",
      "Parsing completed. Parsed 812 lines in 0.010382 secs.\n",
      "\n"
     ]
    }
   ],
   "source": [
    "data_path=\"../DATA/processed/uber_training.csv\"\n",
    "data = tc.SFrame(data_path)\n",
    "println()"
   ]
  },
  {
   "cell_type": "markdown",
   "metadata": {},
   "source": [
    "## Split Data"
   ]
  },
  {
   "cell_type": "code",
   "execution_count": 4,
   "metadata": {
    "ExecuteTime": {
     "end_time": "2020-12-06T21:58:43.870000-05:00",
     "start_time": "2020-12-07T02:58:34.985Z"
    }
   },
   "outputs": [
    {
     "name": "stdout",
     "output_type": "stream",
     "text": [
      "\n"
     ]
    }
   ],
   "source": [
    "# Make a train-test split\n",
    "train_data, test_data = data.random_split(0.8)\n",
    "println()"
   ]
  },
  {
   "cell_type": "code",
   "execution_count": 5,
   "metadata": {
    "ExecuteTime": {
     "end_time": "2020-12-06T21:58:44.027000-05:00",
     "start_time": "2020-12-07T02:58:34.988Z"
    }
   },
   "outputs": [
    {
     "name": "stdout",
     "output_type": "stream",
     "text": [
      "(645,)\n",
      "(167,)\n"
     ]
    }
   ],
   "source": [
    "println( size(train_data) )\n",
    "println( size(test_data)  )"
   ]
  },
  {
   "cell_type": "code",
   "execution_count": null,
   "metadata": {},
   "outputs": [],
   "source": []
  },
  {
   "cell_type": "code",
   "execution_count": 6,
   "metadata": {
    "ExecuteTime": {
     "end_time": "2020-12-06T21:58:45.923000-05:00",
     "start_time": "2020-12-07T02:58:34.992Z"
    }
   },
   "outputs": [
    {
     "name": "stdout",
     "output_type": "stream",
     "text": [
      "Automatically generating validation set from 5% of the data.\n",
      "Linear regression:\n",
      "--------------------------------------------------------\n",
      "Number of examples          : 626\n",
      "Number of features          : 66\n",
      "Number of unpacked features : 66\n",
      "Number of coefficients    : 67\n",
      "Starting Newton Method\n",
      "--------------------------------------------------------\n",
      "+-----------+----------+--------------+--------------------+----------------------+---------------------------------+-----------------------------------+\n",
      "| Iteration | Passes   | Elapsed Time | Training Max Error | Validation Max Error | Training Root-Mean-Square Error | Validation Root-Mean-Square Error |\n",
      "+-----------+----------+--------------+--------------------+----------------------+---------------------------------+-----------------------------------+\n",
      "| 1         | 2        | 1.013653     | 6.017015           | 3.626441             | 0.740165                        | 1.149098                          |\n",
      "+-----------+----------+--------------+--------------------+----------------------+---------------------------------+-----------------------------------+\n",
      "SUCCESS: Optimal solution found.\n",
      "\n",
      "Boosted trees regression:\n",
      "--------------------------------------------------------\n",
      "Number of examples          : 626\n",
      "Number of features          : 66\n",
      "Number of unpacked features : 66\n",
      "+-----------+--------------+--------------------+----------------------+---------------------------------+-----------------------------------+\n",
      "| Iteration | Elapsed Time | Training Max Error | Validation Max Error | Training Root-Mean-Square Error | Validation Root-Mean-Square Error |\n",
      "+-----------+--------------+--------------------+----------------------+---------------------------------+-----------------------------------+\n",
      "| 1         | 0.007969     | 41.377045          | 18.840061            | 8.896942                        | 10.397176                         |\n",
      "| 2         | 0.011361     | 31.056087          | 13.335202            | 6.381464                        | 7.408413                          |\n",
      "| 3         | 0.014448     | 23.465031          | 10.217347            | 4.590235                        | 5.404228                          |\n",
      "| 4         | 0.017345     | 17.832615          | 8.295299             | 3.318926                        | 4.006222                          |\n",
      "| 5         | 0.020492     | 13.996811          | 6.826561             | 2.420309                        | 3.007613                          |\n",
      "| 10        | 0.037767     | 4.205753           | 4.503139             | 0.563111                        | 1.275917                          |\n",
      "+-----------+--------------+--------------------+----------------------+---------------------------------+-----------------------------------+\n"
     ]
    },
    {
     "data": {
      "text/plain": [
       "PyObject Class                          : LinearRegression\n",
       "\n",
       "Schema\n",
       "------\n",
       "Number of coefficients         : 67\n",
       "Number of examples             : 626\n",
       "Number of feature columns      : 66\n",
       "Number of unpacked features    : 66\n",
       "\n",
       "Hyperparameters\n",
       "---------------\n",
       "L1 penalty                     : 0\n",
       "L2 penalty                     : 0.01\n",
       "\n",
       "Training Summary\n",
       "----------------\n",
       "Solver                         : newton\n",
       "Solver iterations              : 1\n",
       "Solver status                  : SUCCESS: Optimal solution found.\n",
       "Training time (sec)            : 1.0223\n",
       "\n",
       "Settings\n",
       "--------\n",
       "Residual sum of squares        : 342.9503\n",
       "Training RMSE                  : 0.7402\n",
       "\n",
       "Highest Positive Coefficients\n",
       "-----------------------------\n",
       "(intercept)                    : 29.7694\n",
       "US_GDP_Q_Avg180                : 0.2664\n",
       "NVDA_Avg090                    : 0.1709\n",
       "AAPL_Avg120                    : 0.1593\n",
       "US_ISM_MFC_EMP_Avg060          : 0.1517\n",
       "\n",
       "Lowest Negative Coefficients\n",
       "----------------------------\n",
       "US_GDP_Q_Avg120                : -0.2597\n",
       "AAPL_Avg060                    : -0.2161\n",
       "US_ISM_MFC_PMI_Avg060          : -0.2077\n",
       "US_ISM_MFC_EMP_Avg365          : -0.1352\n",
       "NVDA_Avg120                    : -0.0844\n"
      ]
     },
     "execution_count": 6,
     "metadata": {},
     "output_type": "execute_result"
    }
   ],
   "source": [
    "model = tc.regression.create( \n",
    "    train_data, \n",
    "    target = column_to_predict, \n",
    "    features = [\n",
    "\n",
    "    #\"VIX_Quantized\"\n",
    "    \"VIX_Avg030\"\n",
    "    ,\"VIX_Avg060\"\n",
    "    ,\"VIX_Avg090\"\n",
    "    ,\"VIX_Avg120\"\n",
    "    ,\"VIX_Avg180\"\n",
    "    ,\"VIX_Avg365\"\n",
    "        \n",
    "    ,\"US_ISM_MFC_PMI_Quantized\"\n",
    "    ,\"US_ISM_MFC_PMI_Avg030\"\n",
    "    ,\"US_ISM_MFC_PMI_Avg060\"\n",
    "    ,\"US_ISM_MFC_PMI_Avg090\"\n",
    "    ,\"US_ISM_MFC_PMI_Avg180\"\n",
    "    ,\"US_ISM_MFC_PMI_Avg365\"\n",
    "        \n",
    "\n",
    "    ,\"DJIA_Quantized\"\n",
    "    ,\"DJIA_Avg005\"\n",
    "    ,\"DJIA_Avg030\"\n",
    "    ,\"DJIA_Avg060\"\n",
    "    ,\"DJIA_Avg090\"\n",
    "    ,\"DJIA_Avg120\"\n",
    "    ,\"DJIA_Avg180\"\n",
    "       \n",
    "    #,\"AAPL_Quantized\"\n",
    "    ,\"AAPL_Avg005\"\n",
    "    ,\"AAPL_Avg030\"\n",
    "    ,\"AAPL_Avg060\"\n",
    "    ,\"AAPL_Avg090\"\n",
    "    ,\"AAPL_Avg120\"\n",
    "    ,\"AAPL_Avg180\"\n",
    "\n",
    "    ,\"US_ISM_MFC_EMP_Quantized\"\n",
    "    ,\"US_ISM_MFC_EMP_Avg030\"\n",
    "    ,\"US_ISM_MFC_EMP_Avg060\"\n",
    "    ,\"US_ISM_MFC_EMP_Avg090\"\n",
    "    ,\"US_ISM_MFC_EMP_Avg120\"\n",
    "    ,\"US_ISM_MFC_EMP_Avg180\"\n",
    "    ,\"US_ISM_MFC_EMP_Avg365\"\n",
    "        \n",
    "    ,\"US_INIT_JOBLESS_Quantized\"\n",
    "    ,\"US_INIT_JOBLESS_Avg005\"\n",
    "    ,\"US_INIT_JOBLESS_Avg030\"\n",
    "    ,\"US_INIT_JOBLESS_Avg060\"\n",
    "    ,\"US_INIT_JOBLESS_Avg090\"\n",
    "    ,\"US_INIT_JOBLESS_Avg120\"\n",
    "    ,\"US_INIT_JOBLESS_Avg180\"\n",
    "        \n",
    "    ,\"US_GDP_Q_Quantized\"\n",
    "    ,\"US_GDP_Q_Avg005\"\n",
    "    ,\"US_GDP_Q_Avg030\"\n",
    "    ,\"US_GDP_Q_Avg060\"\n",
    "    ,\"US_GDP_Q_Avg090\"\n",
    "    ,\"US_GDP_Q_Avg120\"\n",
    "    ,\"US_GDP_Q_Avg180\"\n",
    "        \n",
    "\n",
    "    #,\"NIO_Quantized\"\n",
    "    ,\"NIO_Avg005\"\n",
    "    ,\"NIO_Avg030\"\n",
    "    ,\"NIO_Avg060\"\n",
    "    ,\"NIO_Avg090\"\n",
    "    ,\"NIO_Avg120\"\n",
    "    ,\"NIO_Avg180\"\n",
    "        \n",
    "\n",
    "    ,\"NVDA_Quantized\"\n",
    "    ,\"NVDA_Avg005\"\n",
    "    ,\"NVDA_Avg030\"\n",
    "    ,\"NVDA_Avg060\"\n",
    "    ,\"NVDA_Avg090\"\n",
    "    ,\"NVDA_Avg120\"\n",
    "    ,\"NVDA_Avg180\"\n",
    "        \n",
    "\n",
    "    ,\"US_HOUS_STRT_M_Quantized\"\n",
    "    ,\"US_HOUS_STRT_M_Avg005\"\n",
    "    ,\"US_HOUS_STRT_M_Avg030\"\n",
    "    ,\"US_HOUS_STRT_M_Avg060\"\n",
    "    ,\"US_HOUS_STRT_M_Avg090\"\n",
    "    ,\"US_HOUS_STRT_M_Avg120\"\n",
    "    ,\"US_HOUS_STRT_M_Avg180\"\n",
    "    \n",
    "        ], \n",
    "    validation_set=\"auto\", \n",
    "    verbose=true\n",
    ")"
   ]
  },
  {
   "cell_type": "markdown",
   "metadata": {},
   "source": [
    "## Evaluate the Model"
   ]
  },
  {
   "cell_type": "code",
   "execution_count": 7,
   "metadata": {
    "ExecuteTime": {
     "end_time": "2020-12-06T21:58:46.983000-05:00",
     "start_time": "2020-12-07T02:58:34.996Z"
    }
   },
   "outputs": [
    {
     "data": {
      "text/plain": [
       "Dict{Any,Any} with 2 entries:\n",
       "  \"rmse\"      => 0.955965\n",
       "  \"max_error\" => 5.6945"
      ]
     },
     "execution_count": 7,
     "metadata": {},
     "output_type": "execute_result"
    }
   ],
   "source": [
    "#TODO: write this in a loop to select the best model\n",
    "# Evaluate the model and save the results into a dictionary\n",
    "results = model.evaluate( test_data ) #test_data[0:2531]\n",
    "results"
   ]
  },
  {
   "cell_type": "code",
   "execution_count": 8,
   "metadata": {
    "ExecuteTime": {
     "end_time": "2020-12-06T21:58:47.125000-05:00",
     "start_time": "2020-12-07T02:58:34.999Z"
    }
   },
   "outputs": [
    {
     "name": "stdout",
     "output_type": "stream",
     "text": [
      "max_error: 5.69, rmse: 0.96\n"
     ]
    }
   ],
   "source": [
    "rmse = results[\"rmse\"]\n",
    "rmse = round(rmse, digits=2)\n",
    "\n",
    "max_error = results[\"max_error\"]\n",
    "max_error = round(max_error, digits=2)\n",
    "\n",
    "println( \"max_error: \", max_error, \", rmse: \", rmse )\n",
    "# max_error: 1069.27, rmse: 184.6\n",
    "# max_error: 65.35, rmse: 32.6            predict: ^DJIA added: US_INIT_JOBLESS\n",
    "# max_error: 1875.39, rmse: 443.59        predict: ^DJIA commented out: \"DJIA_Quantized\"\n",
    "# max_error: 1339.76, rmse: 373.94        predict: ^DJIA commented out: \"DJIA_Quantized\"\n",
    "# max_error: 916.19, rmse: 231.24       predict: ^DJIA with \"DJIA_Avg005\""
   ]
  },
  {
   "cell_type": "markdown",
   "metadata": {},
   "source": [
    "## Save / Export the Model"
   ]
  },
  {
   "cell_type": "code",
   "execution_count": 9,
   "metadata": {
    "ExecuteTime": {
     "end_time": "2020-12-06T21:58:47.142000-05:00",
     "start_time": "2020-12-07T02:58:35.002Z"
    }
   },
   "outputs": [],
   "source": [
    "# Export to Core ML\n",
    "model.export_coreml(\"../DATA/models/^DJI.mlmodel\")"
   ]
  },
  {
   "cell_type": "markdown",
   "metadata": {},
   "source": [
    "## Make predictions "
   ]
  },
  {
   "cell_type": "code",
   "execution_count": 10,
   "metadata": {
    "ExecuteTime": {
     "end_time": "2020-12-06T21:58:47.223000-05:00",
     "start_time": "2020-12-07T02:58:35.006Z"
    }
   },
   "outputs": [
    {
     "name": "stdout",
     "output_type": "stream",
     "text": [
      "Finished parsing file /Users/uki/REPOS/MarketIndicators.jl/src/DATA/processed/uber_prediction.csv\n",
      "Parsing completed. Parsed 100 lines in 0.0331 secs.\n",
      "------------------------------------------------------\n",
      "Inferred types from first 100 line(s) of file as \n",
      "column_type_hints=[int,str,float,float,float,float,float,float,float,float,float,float,float,float,float,float,float,float,float,float,float,float,float,float,float,float,float,float,float,float,float,float,float,float,float,float,float,float,float,float,float,float,float,float,float,float,float,float,float,float,float,float,float,float,float,float,float,float,float,float,float,float,float,float,float,float,float,float,float,float,float,float,float,float,float,float,float,float,float]\n",
      "If parsing fails due to incorrect types, you can correct\n",
      "the inferred type list above and pass it to read_csv in\n",
      "the column_type_hints argument\n",
      "------------------------------------------------------\n",
      "Finished parsing file /Users/uki/REPOS/MarketIndicators.jl/src/DATA/processed/uber_prediction.csv\n",
      "Parsing completed. Parsed 120 lines in 0.006194 secs.\n",
      "\n"
     ]
    }
   ],
   "source": [
    "data_path=\"../DATA/processed/uber_prediction.csv\"\n",
    "data_predictions = tc.SFrame(data_path)\n",
    "println()"
   ]
  },
  {
   "cell_type": "code",
   "execution_count": 11,
   "metadata": {
    "ExecuteTime": {
     "end_time": "2020-12-06T21:58:47.595000-05:00",
     "start_time": "2020-12-07T02:58:35.010Z"
    }
   },
   "outputs": [
    {
     "data": {
      "text/plain": [
       "18.676409879128396"
      ]
     },
     "execution_count": 11,
     "metadata": {},
     "output_type": "execute_result"
    }
   ],
   "source": [
    "## Save predictions to an SArray\n",
    "predictions = model.predict(data_predictions)\n",
    "get(predictions, 1)"
   ]
  },
  {
   "cell_type": "markdown",
   "metadata": {},
   "source": [
    "### Explore SFrame"
   ]
  },
  {
   "cell_type": "code",
   "execution_count": 12,
   "metadata": {
    "ExecuteTime": {
     "end_time": "2020-12-06T21:58:47.707000-05:00",
     "start_time": "2020-12-07T02:58:35.013Z"
    }
   },
   "outputs": [
    {
     "name": "stdout",
     "output_type": "stream",
     "text": [
      "record_count data 120\n",
      "record_count predictions 120\n",
      "feature_number 79\n",
      "Rata Die 737794\n",
      "date 2021-01-04\n",
      "original 30218.259766\n"
     ]
    }
   ],
   "source": [
    "record_count = size(data_predictions)[1]\n",
    "row = get(data_predictions, record_count-1)\n",
    "\n",
    "feature_number = row.count\n",
    "day = row[\"Rata_Die\"]\n",
    "date = row[\"Date\"] # \"2020-10-20\"\n",
    "original = row[\"DJIA_Original\"]\n",
    "\n",
    "println( \"record_count data \", record_count )\n",
    "println( \"record_count predictions \", size(predictions)[1] )\n",
    "\n",
    "println( \"feature_number \", feature_number )\n",
    "println( \"Rata Die \", day )\n",
    "println( \"date \", date )\n",
    "println( \"original \", original )"
   ]
  },
  {
   "cell_type": "code",
   "execution_count": 13,
   "metadata": {
    "ExecuteTime": {
     "end_time": "2020-12-06T21:58:49.175000-05:00",
     "start_time": "2020-12-07T02:58:35.017Z"
    }
   },
   "outputs": [
    {
     "data": {
      "text/plain": [
       "737765"
      ]
     },
     "execution_count": 13,
     "metadata": {},
     "output_type": "execute_result"
    }
   ],
   "source": [
    "using Dates\n",
    "today_rata = Dates.datetime2rata( today() )"
   ]
  },
  {
   "cell_type": "code",
   "execution_count": 14,
   "metadata": {
    "ExecuteTime": {
     "end_time": "2020-12-06T21:58:49.188000-05:00",
     "start_time": "2020-12-07T02:58:35.020Z"
    }
   },
   "outputs": [
    {
     "name": "stdout",
     "output_type": "stream",
     "text": [
      "preditions set size: 119, step 6\n"
     ]
    }
   ],
   "source": [
    "## Determine dataset size\n",
    "\n",
    "initio = 1                                              # latin: start\n",
    "finem  = size(predictions)[1] -1                        # latin: end\n",
    "gradus = convert(Int64, round( finem/20, digits=0)  )   # latin: step\n",
    "\n",
    "println(\"preditions set size: \", finem, \", step \", gradus)"
   ]
  },
  {
   "cell_type": "code",
   "execution_count": 15,
   "metadata": {
    "ExecuteTime": {
     "end_time": "2020-12-06T21:58:50.153000-05:00",
     "start_time": "2020-12-07T02:58:35.024Z"
    }
   },
   "outputs": [
    {
     "name": "stdout",
     "output_type": "stream",
     "text": [
      "NIO_Original 119 Array{Date,1}\n",
      "\n"
     ]
    }
   ],
   "source": [
    "using Dates\n",
    "\n",
    "## Declare variables\n",
    "x_axis_dates      = Vector{Date}() # results in Array{Date,1}\n",
    "y_axis_original   = Vector{Float64}()\n",
    "y_axis_predicted  = Vector{Float64}()\n",
    "\n",
    "println(column_to_predict, \" \", finem, \" \", typeof(x_axis_dates))\n",
    "\n",
    "today_id  = 50 # not set yet\n",
    "\n",
    "## step thru each prediction\n",
    "for id in initio:finem\n",
    "    row = get(data_predictions, id) # get a dictionary of data from the SFrame\n",
    "    \n",
    "    date_string = row[\"Date\"] # e.g. \"2020-10-20\"\n",
    "    date = Date(date_string) # 2020-09-07 Date\n",
    "    if date == today()\n",
    "        today_id = id\n",
    "    end \n",
    "    #date = Dates.format(date, \"u.d,yy\" )\n",
    "    #println(\"date \", date, \" \", typeof(date))\n",
    "    push!(x_axis_dates, date)\n",
    "    \n",
    "    predicted = get(predictions, id) # Float64\n",
    "    predicted = round(predicted, digits=0)\n",
    "    #println(\"predicted \", predicted, \" \", typeof(predicted))\n",
    "    append!(y_axis_predicted, predicted)\n",
    "    \n",
    "    \n",
    "    original = row[ column_to_predict ]\n",
    "    original = round(original, digits=0) # Float64\n",
    "    #println(\"original \", original, \" \", typeof(original)) \n",
    "    append!(y_axis_original, original)\n",
    "end\n",
    "\n",
    "## Format Dates for plotting\n",
    "include(\"../Julia/function_format_dates.jl\")\n",
    "x_axis_dates = format_dates(x_axis_dates, \"u.d,yy\")\n",
    "println()"
   ]
  },
  {
   "cell_type": "code",
   "execution_count": 16,
   "metadata": {
    "ExecuteTime": {
     "end_time": "2020-12-06T21:58:50.167000-05:00",
     "start_time": "2020-12-07T02:58:35.028Z"
    }
   },
   "outputs": [
    {
     "name": "stdout",
     "output_type": "stream",
     "text": [
      "t Dec.6,20 String\n"
     ]
    }
   ],
   "source": [
    "t = today()# Date\n",
    "t = format_dates([t], \"u.d,yy\") # Array{String,1}\n",
    "t = t[1] # String\n",
    "println(\"t \", t, \" \", typeof(t))"
   ]
  },
  {
   "cell_type": "code",
   "execution_count": 17,
   "metadata": {
    "ExecuteTime": {
     "end_time": "2020-12-06T21:59:26.074000-05:00",
     "start_time": "2020-12-07T02:58:35.034Z"
    }
   },
   "outputs": [
    {
     "data": {
      "image/svg+xml": [
       "<?xml version=\"1.0\" encoding=\"utf-8\"?>\n",
       "<svg xmlns=\"http://www.w3.org/2000/svg\" xmlns:xlink=\"http://www.w3.org/1999/xlink\" width=\"980\" height=\"400\" viewBox=\"0 0 3920 1600\">\n",
       "<defs>\n",
       "  <clipPath id=\"clip1600\">\n",
       "    <rect x=\"0\" y=\"0\" width=\"3920\" height=\"1600\"/>\n",
       "  </clipPath>\n",
       "</defs>\n",
       "<path clip-path=\"url(#clip1600)\" d=\"\n",
       "M0 1600 L3920 1600 L3920 0 L0 0  Z\n",
       "  \" fill=\"#ffffff\" fill-rule=\"evenodd\" fill-opacity=\"1\"/>\n",
       "<defs>\n",
       "  <clipPath id=\"clip1601\">\n",
       "    <rect x=\"784\" y=\"0\" width=\"2745\" height=\"1600\"/>\n",
       "  </clipPath>\n",
       "</defs>\n",
       "<path clip-path=\"url(#clip1600)\" d=\"\n",
       "M202.459 1423.18 L3872.76 1423.18 L3872.76 47.2441 L202.459 47.2441  Z\n",
       "  \" fill=\"#ffffff\" fill-rule=\"evenodd\" fill-opacity=\"1\"/>\n",
       "<defs>\n",
       "  <clipPath id=\"clip1602\">\n",
       "    <rect x=\"202\" y=\"47\" width=\"3671\" height=\"1377\"/>\n",
       "  </clipPath>\n",
       "</defs>\n",
       "<polyline clip-path=\"url(#clip1602)\" style=\"stroke:#000000; stroke-width:2; stroke-opacity:0.1; fill:none\" points=\"\n",
       "  306.335,1423.18 306.335,47.2441 \n",
       "  \"/>\n",
       "<polyline clip-path=\"url(#clip1602)\" style=\"stroke:#000000; stroke-width:2; stroke-opacity:0.1; fill:none\" points=\"\n",
       "  541.084,1423.18 541.084,47.2441 \n",
       "  \"/>\n",
       "<polyline clip-path=\"url(#clip1602)\" style=\"stroke:#000000; stroke-width:2; stroke-opacity:0.1; fill:none\" points=\"\n",
       "  805.176,1423.18 805.176,47.2441 \n",
       "  \"/>\n",
       "<polyline clip-path=\"url(#clip1602)\" style=\"stroke:#000000; stroke-width:2; stroke-opacity:0.1; fill:none\" points=\"\n",
       "  1039.93,1423.18 1039.93,47.2441 \n",
       "  \"/>\n",
       "<polyline clip-path=\"url(#clip1602)\" style=\"stroke:#000000; stroke-width:2; stroke-opacity:0.1; fill:none\" points=\"\n",
       "  1304.02,1423.18 1304.02,47.2441 \n",
       "  \"/>\n",
       "<polyline clip-path=\"url(#clip1602)\" style=\"stroke:#000000; stroke-width:2; stroke-opacity:0.1; fill:none\" points=\"\n",
       "  1538.77,1423.18 1538.77,47.2441 \n",
       "  \"/>\n",
       "<polyline clip-path=\"url(#clip1602)\" style=\"stroke:#000000; stroke-width:2; stroke-opacity:0.1; fill:none\" points=\"\n",
       "  1802.86,1423.18 1802.86,47.2441 \n",
       "  \"/>\n",
       "<polyline clip-path=\"url(#clip1602)\" style=\"stroke:#000000; stroke-width:2; stroke-opacity:0.1; fill:none\" points=\"\n",
       "  2037.61,1423.18 2037.61,47.2441 \n",
       "  \"/>\n",
       "<polyline clip-path=\"url(#clip1602)\" style=\"stroke:#000000; stroke-width:2; stroke-opacity:0.1; fill:none\" points=\"\n",
       "  2272.36,1423.18 2272.36,47.2441 \n",
       "  \"/>\n",
       "<polyline clip-path=\"url(#clip1602)\" style=\"stroke:#000000; stroke-width:2; stroke-opacity:0.1; fill:none\" points=\"\n",
       "  2536.45,1423.18 2536.45,47.2441 \n",
       "  \"/>\n",
       "<polyline clip-path=\"url(#clip1602)\" style=\"stroke:#000000; stroke-width:2; stroke-opacity:0.1; fill:none\" points=\"\n",
       "  2771.2,1423.18 2771.2,47.2441 \n",
       "  \"/>\n",
       "<polyline clip-path=\"url(#clip1602)\" style=\"stroke:#000000; stroke-width:2; stroke-opacity:0.1; fill:none\" points=\"\n",
       "  3035.29,1423.18 3035.29,47.2441 \n",
       "  \"/>\n",
       "<polyline clip-path=\"url(#clip1602)\" style=\"stroke:#000000; stroke-width:2; stroke-opacity:0.1; fill:none\" points=\"\n",
       "  3270.04,1423.18 3270.04,47.2441 \n",
       "  \"/>\n",
       "<polyline clip-path=\"url(#clip1602)\" style=\"stroke:#000000; stroke-width:2; stroke-opacity:0.1; fill:none\" points=\"\n",
       "  3534.13,1423.18 3534.13,47.2441 \n",
       "  \"/>\n",
       "<polyline clip-path=\"url(#clip1602)\" style=\"stroke:#000000; stroke-width:2; stroke-opacity:0.1; fill:none\" points=\"\n",
       "  3768.88,1423.18 3768.88,47.2441 \n",
       "  \"/>\n",
       "<polyline clip-path=\"url(#clip1602)\" style=\"stroke:#000000; stroke-width:2; stroke-opacity:0.1; fill:none\" points=\"\n",
       "  202.459,1323.86 3872.76,1323.86 \n",
       "  \"/>\n",
       "<polyline clip-path=\"url(#clip1602)\" style=\"stroke:#000000; stroke-width:2; stroke-opacity:0.1; fill:none\" points=\"\n",
       "  202.459,1021.99 3872.76,1021.99 \n",
       "  \"/>\n",
       "<polyline clip-path=\"url(#clip1602)\" style=\"stroke:#000000; stroke-width:2; stroke-opacity:0.1; fill:none\" points=\"\n",
       "  202.459,720.118 3872.76,720.118 \n",
       "  \"/>\n",
       "<polyline clip-path=\"url(#clip1602)\" style=\"stroke:#000000; stroke-width:2; stroke-opacity:0.1; fill:none\" points=\"\n",
       "  202.459,418.246 3872.76,418.246 \n",
       "  \"/>\n",
       "<polyline clip-path=\"url(#clip1602)\" style=\"stroke:#000000; stroke-width:2; stroke-opacity:0.1; fill:none\" points=\"\n",
       "  202.459,116.373 3872.76,116.373 \n",
       "  \"/>\n",
       "<polyline clip-path=\"url(#clip1600)\" style=\"stroke:#000000; stroke-width:4; stroke-opacity:1; fill:none\" points=\"\n",
       "  202.459,1423.18 3872.76,1423.18 \n",
       "  \"/>\n",
       "<polyline clip-path=\"url(#clip1600)\" style=\"stroke:#000000; stroke-width:4; stroke-opacity:1; fill:none\" points=\"\n",
       "  202.459,1423.18 202.459,47.2441 \n",
       "  \"/>\n",
       "<polyline clip-path=\"url(#clip1600)\" style=\"stroke:#000000; stroke-width:4; stroke-opacity:1; fill:none\" points=\"\n",
       "  306.335,1423.18 306.335,1406.67 \n",
       "  \"/>\n",
       "<polyline clip-path=\"url(#clip1600)\" style=\"stroke:#000000; stroke-width:4; stroke-opacity:1; fill:none\" points=\"\n",
       "  541.084,1423.18 541.084,1406.67 \n",
       "  \"/>\n",
       "<polyline clip-path=\"url(#clip1600)\" style=\"stroke:#000000; stroke-width:4; stroke-opacity:1; fill:none\" points=\"\n",
       "  805.176,1423.18 805.176,1406.67 \n",
       "  \"/>\n",
       "<polyline clip-path=\"url(#clip1600)\" style=\"stroke:#000000; stroke-width:4; stroke-opacity:1; fill:none\" points=\"\n",
       "  1039.93,1423.18 1039.93,1406.67 \n",
       "  \"/>\n",
       "<polyline clip-path=\"url(#clip1600)\" style=\"stroke:#000000; stroke-width:4; stroke-opacity:1; fill:none\" points=\"\n",
       "  1304.02,1423.18 1304.02,1406.67 \n",
       "  \"/>\n",
       "<polyline clip-path=\"url(#clip1600)\" style=\"stroke:#000000; stroke-width:4; stroke-opacity:1; fill:none\" points=\"\n",
       "  1538.77,1423.18 1538.77,1406.67 \n",
       "  \"/>\n",
       "<polyline clip-path=\"url(#clip1600)\" style=\"stroke:#000000; stroke-width:4; stroke-opacity:1; fill:none\" points=\"\n",
       "  1802.86,1423.18 1802.86,1406.67 \n",
       "  \"/>\n",
       "<polyline clip-path=\"url(#clip1600)\" style=\"stroke:#000000; stroke-width:4; stroke-opacity:1; fill:none\" points=\"\n",
       "  2037.61,1423.18 2037.61,1406.67 \n",
       "  \"/>\n",
       "<polyline clip-path=\"url(#clip1600)\" style=\"stroke:#000000; stroke-width:4; stroke-opacity:1; fill:none\" points=\"\n",
       "  2272.36,1423.18 2272.36,1406.67 \n",
       "  \"/>\n",
       "<polyline clip-path=\"url(#clip1600)\" style=\"stroke:#000000; stroke-width:4; stroke-opacity:1; fill:none\" points=\"\n",
       "  2536.45,1423.18 2536.45,1406.67 \n",
       "  \"/>\n",
       "<polyline clip-path=\"url(#clip1600)\" style=\"stroke:#000000; stroke-width:4; stroke-opacity:1; fill:none\" points=\"\n",
       "  2771.2,1423.18 2771.2,1406.67 \n",
       "  \"/>\n",
       "<polyline clip-path=\"url(#clip1600)\" style=\"stroke:#000000; stroke-width:4; stroke-opacity:1; fill:none\" points=\"\n",
       "  3035.29,1423.18 3035.29,1406.67 \n",
       "  \"/>\n",
       "<polyline clip-path=\"url(#clip1600)\" style=\"stroke:#000000; stroke-width:4; stroke-opacity:1; fill:none\" points=\"\n",
       "  3270.04,1423.18 3270.04,1406.67 \n",
       "  \"/>\n",
       "<polyline clip-path=\"url(#clip1600)\" style=\"stroke:#000000; stroke-width:4; stroke-opacity:1; fill:none\" points=\"\n",
       "  3534.13,1423.18 3534.13,1406.67 \n",
       "  \"/>\n",
       "<polyline clip-path=\"url(#clip1600)\" style=\"stroke:#000000; stroke-width:4; stroke-opacity:1; fill:none\" points=\"\n",
       "  3768.88,1423.18 3768.88,1406.67 \n",
       "  \"/>\n",
       "<polyline clip-path=\"url(#clip1600)\" style=\"stroke:#000000; stroke-width:4; stroke-opacity:1; fill:none\" points=\"\n",
       "  202.459,1323.86 246.503,1323.86 \n",
       "  \"/>\n",
       "<polyline clip-path=\"url(#clip1600)\" style=\"stroke:#000000; stroke-width:4; stroke-opacity:1; fill:none\" points=\"\n",
       "  202.459,1021.99 246.503,1021.99 \n",
       "  \"/>\n",
       "<polyline clip-path=\"url(#clip1600)\" style=\"stroke:#000000; stroke-width:4; stroke-opacity:1; fill:none\" points=\"\n",
       "  202.459,720.118 246.503,720.118 \n",
       "  \"/>\n",
       "<polyline clip-path=\"url(#clip1600)\" style=\"stroke:#000000; stroke-width:4; stroke-opacity:1; fill:none\" points=\"\n",
       "  202.459,418.246 246.503,418.246 \n",
       "  \"/>\n",
       "<polyline clip-path=\"url(#clip1600)\" style=\"stroke:#000000; stroke-width:4; stroke-opacity:1; fill:none\" points=\"\n",
       "  202.459,116.373 246.503,116.373 \n",
       "  \"/>\n",
       "<path clip-path=\"url(#clip1600)\" d=\"M 0 0 M239.472 1450.83 L239.472 1455.39 Q236.81 1454.11 234.449 1453.49 Q232.088 1452.86 229.889 1452.86 Q226.07 1452.86 223.986 1454.34 Q221.926 1455.83 221.926 1458.56 Q221.926 1460.85 223.292 1462.03 Q224.681 1463.19 228.523 1463.9 L231.347 1464.48 Q236.579 1465.48 239.056 1468 Q241.556 1470.5 241.556 1474.71 Q241.556 1479.74 238.176 1482.33 Q234.819 1484.92 228.315 1484.92 Q225.861 1484.92 223.083 1484.37 Q220.329 1483.81 217.366 1482.72 L217.366 1477.91 Q220.213 1479.51 222.945 1480.32 Q225.676 1481.13 228.315 1481.13 Q232.319 1481.13 234.495 1479.55 Q236.671 1477.98 236.671 1475.06 Q236.671 1472.52 235.097 1471.08 Q233.546 1469.65 229.982 1468.93 L227.134 1468.37 Q221.903 1467.33 219.565 1465.11 Q217.227 1462.89 217.227 1458.93 Q217.227 1454.34 220.445 1451.71 Q223.685 1449.07 229.357 1449.07 Q231.787 1449.07 234.31 1449.51 Q236.833 1449.95 239.472 1450.83 Z\" fill=\"#000000\" fill-rule=\"evenodd\" fill-opacity=\"1\" /><path clip-path=\"url(#clip1600)\" d=\"M 0 0 M268.199 1470.22 L268.199 1472.31 L248.616 1472.31 Q248.893 1476.71 251.255 1479.02 Q253.639 1481.31 257.875 1481.31 Q260.329 1481.31 262.62 1480.71 Q264.935 1480.11 267.204 1478.9 L267.204 1482.93 Q264.912 1483.9 262.504 1484.41 Q260.097 1484.92 257.62 1484.92 Q251.417 1484.92 247.782 1481.31 Q244.171 1477.7 244.171 1471.54 Q244.171 1465.18 247.597 1461.45 Q251.046 1457.7 256.88 1457.7 Q262.111 1457.7 265.143 1461.08 Q268.199 1464.44 268.199 1470.22 M263.94 1468.97 Q263.893 1465.48 261.972 1463.4 Q260.074 1461.31 256.926 1461.31 Q253.361 1461.31 251.208 1463.33 Q249.079 1465.34 248.755 1469 L263.94 1468.97 Z\" fill=\"#000000\" fill-rule=\"evenodd\" fill-opacity=\"1\" /><path clip-path=\"url(#clip1600)\" d=\"M 0 0 M276.787 1480.36 L276.787 1494.11 L272.504 1494.11 L272.504 1458.33 L276.787 1458.33 L276.787 1462.26 Q278.129 1459.95 280.166 1458.84 Q282.227 1457.7 285.074 1457.7 Q289.796 1457.7 292.736 1461.45 Q295.699 1465.2 295.699 1471.31 Q295.699 1477.42 292.736 1481.17 Q289.796 1484.92 285.074 1484.92 Q282.227 1484.92 280.166 1483.81 Q278.129 1482.68 276.787 1480.36 M291.277 1471.31 Q291.277 1466.61 289.333 1463.95 Q287.412 1461.27 284.032 1461.27 Q280.653 1461.27 278.708 1463.95 Q276.787 1466.61 276.787 1471.31 Q276.787 1476.01 278.708 1478.7 Q280.653 1481.36 284.032 1481.36 Q287.412 1481.36 289.333 1478.7 Q291.277 1476.01 291.277 1471.31 Z\" fill=\"#000000\" fill-rule=\"evenodd\" fill-opacity=\"1\" /><path clip-path=\"url(#clip1600)\" d=\"M 0 0 M300.768 1478.37 L305.652 1478.37 L305.652 1484.25 L300.768 1484.25 L300.768 1478.37 Z\" fill=\"#000000\" fill-rule=\"evenodd\" fill-opacity=\"1\" /><path clip-path=\"url(#clip1600)\" d=\"M 0 0 M320.722 1467.84 Q317.388 1467.84 315.467 1469.62 Q313.569 1471.4 313.569 1474.53 Q313.569 1477.65 315.467 1479.44 Q317.388 1481.22 320.722 1481.22 Q324.055 1481.22 325.976 1479.44 Q327.898 1477.63 327.898 1474.53 Q327.898 1471.4 325.976 1469.62 Q324.078 1467.84 320.722 1467.84 M316.046 1465.85 Q313.037 1465.11 311.347 1463.05 Q309.68 1460.99 309.68 1458.03 Q309.68 1453.88 312.62 1451.47 Q315.583 1449.07 320.722 1449.07 Q325.884 1449.07 328.824 1451.47 Q331.763 1453.88 331.763 1458.03 Q331.763 1460.99 330.074 1463.05 Q328.407 1465.11 325.421 1465.85 Q328.8 1466.64 330.675 1468.93 Q332.574 1471.22 332.574 1474.53 Q332.574 1479.55 329.495 1482.24 Q326.439 1484.92 320.722 1484.92 Q315.004 1484.92 311.926 1482.24 Q308.87 1479.55 308.87 1474.53 Q308.87 1471.22 310.768 1468.93 Q312.666 1466.64 316.046 1465.85 M314.333 1458.46 Q314.333 1461.15 316 1462.65 Q317.689 1464.16 320.722 1464.16 Q323.731 1464.16 325.421 1462.65 Q327.134 1461.15 327.134 1458.46 Q327.134 1455.78 325.421 1454.28 Q323.731 1452.77 320.722 1452.77 Q317.689 1452.77 316 1454.28 Q314.333 1455.78 314.333 1458.46 Z\" fill=\"#000000\" fill-rule=\"evenodd\" fill-opacity=\"1\" /><path clip-path=\"url(#clip1600)\" d=\"M 0 0 M338.129 1478.37 L343.013 1478.37 L343.013 1482.35 L339.217 1489.76 L336.231 1489.76 L338.129 1482.35 L338.129 1478.37 Z\" fill=\"#000000\" fill-rule=\"evenodd\" fill-opacity=\"1\" /><path clip-path=\"url(#clip1600)\" d=\"M 0 0 M352.11 1480.32 L368.43 1480.32 L368.43 1484.25 L346.486 1484.25 L346.486 1480.32 Q349.148 1477.56 353.731 1472.93 Q358.337 1468.28 359.518 1466.94 Q361.763 1464.41 362.643 1462.68 Q363.546 1460.92 363.546 1459.23 Q363.546 1456.47 361.601 1454.74 Q359.68 1453 356.578 1453 Q354.379 1453 351.925 1453.77 Q349.495 1454.53 346.717 1456.08 L346.717 1451.36 Q349.541 1450.22 351.995 1449.65 Q354.448 1449.07 356.485 1449.07 Q361.856 1449.07 365.05 1451.75 Q368.245 1454.44 368.245 1458.93 Q368.245 1461.06 367.434 1462.98 Q366.647 1464.88 364.541 1467.47 Q363.962 1468.14 360.86 1471.36 Q357.759 1474.55 352.11 1480.32 Z\" fill=\"#000000\" fill-rule=\"evenodd\" fill-opacity=\"1\" /><path clip-path=\"url(#clip1600)\" d=\"M 0 0 M383.499 1452.77 Q379.888 1452.77 378.059 1456.34 Q376.254 1459.88 376.254 1467.01 Q376.254 1474.11 378.059 1477.68 Q379.888 1481.22 383.499 1481.22 Q387.133 1481.22 388.939 1477.68 Q390.768 1474.11 390.768 1467.01 Q390.768 1459.88 388.939 1456.34 Q387.133 1452.77 383.499 1452.77 M383.499 1449.07 Q389.309 1449.07 392.365 1453.67 Q395.444 1458.26 395.444 1467.01 Q395.444 1475.73 392.365 1480.34 Q389.309 1484.92 383.499 1484.92 Q377.689 1484.92 374.61 1480.34 Q371.555 1475.73 371.555 1467.01 Q371.555 1458.26 374.61 1453.67 Q377.689 1449.07 383.499 1449.07 Z\" fill=\"#000000\" fill-rule=\"evenodd\" fill-opacity=\"1\" /><path clip-path=\"url(#clip1600)\" d=\"M 0 0 M461.2 1450.83 L461.2 1455.39 Q458.538 1454.11 456.177 1453.49 Q453.816 1452.86 451.617 1452.86 Q447.798 1452.86 445.714 1454.34 Q443.654 1455.83 443.654 1458.56 Q443.654 1460.85 445.02 1462.03 Q446.409 1463.19 450.251 1463.9 L453.075 1464.48 Q458.307 1465.48 460.784 1468 Q463.284 1470.5 463.284 1474.71 Q463.284 1479.74 459.904 1482.33 Q456.547 1484.92 450.043 1484.92 Q447.589 1484.92 444.811 1484.37 Q442.057 1483.81 439.094 1482.72 L439.094 1477.91 Q441.941 1479.51 444.673 1480.32 Q447.404 1481.13 450.043 1481.13 Q454.047 1481.13 456.223 1479.55 Q458.399 1477.98 458.399 1475.06 Q458.399 1472.52 456.825 1471.08 Q455.274 1469.65 451.71 1468.93 L448.862 1468.37 Q443.631 1467.33 441.293 1465.11 Q438.955 1462.89 438.955 1458.93 Q438.955 1454.34 442.173 1451.71 Q445.413 1449.07 451.085 1449.07 Q453.515 1449.07 456.038 1449.51 Q458.561 1449.95 461.2 1450.83 Z\" fill=\"#000000\" fill-rule=\"evenodd\" fill-opacity=\"1\" /><path clip-path=\"url(#clip1600)\" d=\"M 0 0 M489.927 1470.22 L489.927 1472.31 L470.344 1472.31 Q470.621 1476.71 472.983 1479.02 Q475.367 1481.31 479.603 1481.31 Q482.057 1481.31 484.348 1480.71 Q486.663 1480.11 488.932 1478.9 L488.932 1482.93 Q486.64 1483.9 484.232 1484.41 Q481.825 1484.92 479.348 1484.92 Q473.145 1484.92 469.51 1481.31 Q465.899 1477.7 465.899 1471.54 Q465.899 1465.18 469.325 1461.45 Q472.774 1457.7 478.608 1457.7 Q483.839 1457.7 486.871 1461.08 Q489.927 1464.44 489.927 1470.22 M485.668 1468.97 Q485.621 1465.48 483.7 1463.4 Q481.802 1461.31 478.654 1461.31 Q475.089 1461.31 472.936 1463.33 Q470.807 1465.34 470.483 1469 L485.668 1468.97 Z\" fill=\"#000000\" fill-rule=\"evenodd\" fill-opacity=\"1\" /><path clip-path=\"url(#clip1600)\" d=\"M 0 0 M498.515 1480.36 L498.515 1494.11 L494.232 1494.11 L494.232 1458.33 L498.515 1458.33 L498.515 1462.26 Q499.857 1459.95 501.894 1458.84 Q503.955 1457.7 506.802 1457.7 Q511.524 1457.7 514.464 1461.45 Q517.427 1465.2 517.427 1471.31 Q517.427 1477.42 514.464 1481.17 Q511.524 1484.92 506.802 1484.92 Q503.955 1484.92 501.894 1483.81 Q499.857 1482.68 498.515 1480.36 M513.005 1471.31 Q513.005 1466.61 511.061 1463.95 Q509.14 1461.27 505.76 1461.27 Q502.381 1461.27 500.436 1463.95 Q498.515 1466.61 498.515 1471.31 Q498.515 1476.01 500.436 1478.7 Q502.381 1481.36 505.76 1481.36 Q509.14 1481.36 511.061 1478.7 Q513.005 1476.01 513.005 1471.31 Z\" fill=\"#000000\" fill-rule=\"evenodd\" fill-opacity=\"1\" /><path clip-path=\"url(#clip1600)\" d=\"M 0 0 M522.496 1478.37 L527.38 1478.37 L527.38 1484.25 L522.496 1484.25 L522.496 1478.37 Z\" fill=\"#000000\" fill-rule=\"evenodd\" fill-opacity=\"1\" /><path clip-path=\"url(#clip1600)\" d=\"M 0 0 M533.26 1480.32 L540.899 1480.32 L540.899 1453.95 L532.589 1455.62 L532.589 1451.36 L540.853 1449.69 L545.528 1449.69 L545.528 1480.32 L553.167 1480.32 L553.167 1484.25 L533.26 1484.25 L533.26 1480.32 Z\" fill=\"#000000\" fill-rule=\"evenodd\" fill-opacity=\"1\" /><path clip-path=\"url(#clip1600)\" d=\"M 0 0 M568.815 1465.11 Q565.667 1465.11 563.815 1467.26 Q561.987 1469.41 561.987 1473.16 Q561.987 1476.89 563.815 1479.07 Q565.667 1481.22 568.815 1481.22 Q571.964 1481.22 573.792 1479.07 Q575.644 1476.89 575.644 1473.16 Q575.644 1469.41 573.792 1467.26 Q571.964 1465.11 568.815 1465.11 M578.098 1450.46 L578.098 1454.71 Q576.338 1453.88 574.533 1453.44 Q572.751 1453 570.991 1453 Q566.362 1453 563.908 1456.13 Q561.477 1459.25 561.13 1465.57 Q562.496 1463.56 564.556 1462.49 Q566.616 1461.4 569.093 1461.4 Q574.301 1461.4 577.311 1464.58 Q580.343 1467.72 580.343 1473.16 Q580.343 1478.49 577.195 1481.71 Q574.047 1484.92 568.815 1484.92 Q562.82 1484.92 559.649 1480.34 Q556.477 1475.73 556.477 1467.01 Q556.477 1458.81 560.366 1453.95 Q564.255 1449.07 570.806 1449.07 Q572.565 1449.07 574.348 1449.41 Q576.153 1449.76 578.098 1450.46 Z\" fill=\"#000000\" fill-rule=\"evenodd\" fill-opacity=\"1\" /><path clip-path=\"url(#clip1600)\" d=\"M 0 0 M585.899 1478.37 L590.783 1478.37 L590.783 1482.35 L586.987 1489.76 L584 1489.76 L585.899 1482.35 L585.899 1478.37 Z\" fill=\"#000000\" fill-rule=\"evenodd\" fill-opacity=\"1\" /><path clip-path=\"url(#clip1600)\" d=\"M 0 0 M599.88 1480.32 L616.199 1480.32 L616.199 1484.25 L594.255 1484.25 L594.255 1480.32 Q596.917 1477.56 601.5 1472.93 Q606.107 1468.28 607.287 1466.94 Q609.533 1464.41 610.412 1462.68 Q611.315 1460.92 611.315 1459.23 Q611.315 1456.47 609.371 1454.74 Q607.449 1453 604.348 1453 Q602.149 1453 599.695 1453.77 Q597.264 1454.53 594.487 1456.08 L594.487 1451.36 Q597.311 1450.22 599.764 1449.65 Q602.218 1449.07 604.255 1449.07 Q609.625 1449.07 612.82 1451.75 Q616.014 1454.44 616.014 1458.93 Q616.014 1461.06 615.204 1462.98 Q614.417 1464.88 612.311 1467.47 Q611.732 1468.14 608.63 1471.36 Q605.528 1474.55 599.88 1480.32 Z\" fill=\"#000000\" fill-rule=\"evenodd\" fill-opacity=\"1\" /><path clip-path=\"url(#clip1600)\" d=\"M 0 0 M631.269 1452.77 Q627.658 1452.77 625.829 1456.34 Q624.023 1459.88 624.023 1467.01 Q624.023 1474.11 625.829 1477.68 Q627.658 1481.22 631.269 1481.22 Q634.903 1481.22 636.709 1477.68 Q638.537 1474.11 638.537 1467.01 Q638.537 1459.88 636.709 1456.34 Q634.903 1452.77 631.269 1452.77 M631.269 1449.07 Q637.079 1449.07 640.134 1453.67 Q643.213 1458.26 643.213 1467.01 Q643.213 1475.73 640.134 1480.34 Q637.079 1484.92 631.269 1484.92 Q625.459 1484.92 622.38 1480.34 Q619.324 1475.73 619.324 1467.01 Q619.324 1458.26 622.38 1453.67 Q625.459 1449.07 631.269 1449.07 Z\" fill=\"#000000\" fill-rule=\"evenodd\" fill-opacity=\"1\" /><path clip-path=\"url(#clip1600)\" d=\"M 0 0 M726.056 1450.83 L726.056 1455.39 Q723.394 1454.11 721.033 1453.49 Q718.672 1452.86 716.473 1452.86 Q712.654 1452.86 710.57 1454.34 Q708.51 1455.83 708.51 1458.56 Q708.51 1460.85 709.876 1462.03 Q711.265 1463.19 715.107 1463.9 L717.932 1464.48 Q723.163 1465.48 725.64 1468 Q728.14 1470.5 728.14 1474.71 Q728.14 1479.74 724.76 1482.33 Q721.404 1484.92 714.899 1484.92 Q712.445 1484.92 709.668 1484.37 Q706.913 1483.81 703.95 1482.72 L703.95 1477.91 Q706.797 1479.51 709.529 1480.32 Q712.26 1481.13 714.899 1481.13 Q718.904 1481.13 721.08 1479.55 Q723.256 1477.98 723.256 1475.06 Q723.256 1472.52 721.681 1471.08 Q720.131 1469.65 716.566 1468.93 L713.719 1468.37 Q708.487 1467.33 706.149 1465.11 Q703.811 1462.89 703.811 1458.93 Q703.811 1454.34 707.029 1451.71 Q710.27 1449.07 715.941 1449.07 Q718.371 1449.07 720.894 1449.51 Q723.418 1449.95 726.056 1450.83 Z\" fill=\"#000000\" fill-rule=\"evenodd\" fill-opacity=\"1\" /><path clip-path=\"url(#clip1600)\" d=\"M 0 0 M754.783 1470.22 L754.783 1472.31 L735.2 1472.31 Q735.478 1476.71 737.839 1479.02 Q740.223 1481.31 744.459 1481.31 Q746.913 1481.31 749.204 1480.71 Q751.519 1480.11 753.788 1478.9 L753.788 1482.93 Q751.496 1483.9 749.089 1484.41 Q746.681 1484.92 744.205 1484.92 Q738.001 1484.92 734.367 1481.31 Q730.756 1477.7 730.756 1471.54 Q730.756 1465.18 734.181 1461.45 Q737.63 1457.7 743.464 1457.7 Q748.695 1457.7 751.728 1461.08 Q754.783 1464.44 754.783 1470.22 M750.524 1468.97 Q750.478 1465.48 748.556 1463.4 Q746.658 1461.31 743.51 1461.31 Q739.945 1461.31 737.793 1463.33 Q735.663 1465.34 735.339 1469 L750.524 1468.97 Z\" fill=\"#000000\" fill-rule=\"evenodd\" fill-opacity=\"1\" /><path clip-path=\"url(#clip1600)\" d=\"M 0 0 M763.371 1480.36 L763.371 1494.11 L759.089 1494.11 L759.089 1458.33 L763.371 1458.33 L763.371 1462.26 Q764.714 1459.95 766.751 1458.84 Q768.811 1457.7 771.658 1457.7 Q776.38 1457.7 779.32 1461.45 Q782.283 1465.2 782.283 1471.31 Q782.283 1477.42 779.32 1481.17 Q776.38 1484.92 771.658 1484.92 Q768.811 1484.92 766.751 1483.81 Q764.714 1482.68 763.371 1480.36 M777.862 1471.31 Q777.862 1466.61 775.917 1463.95 Q773.996 1461.27 770.616 1461.27 Q767.237 1461.27 765.292 1463.95 Q763.371 1466.61 763.371 1471.31 Q763.371 1476.01 765.292 1478.7 Q767.237 1481.36 770.616 1481.36 Q773.996 1481.36 775.917 1478.7 Q777.862 1476.01 777.862 1471.31 Z\" fill=\"#000000\" fill-rule=\"evenodd\" fill-opacity=\"1\" /><path clip-path=\"url(#clip1600)\" d=\"M 0 0 M787.352 1478.37 L792.237 1478.37 L792.237 1484.25 L787.352 1484.25 L787.352 1478.37 Z\" fill=\"#000000\" fill-rule=\"evenodd\" fill-opacity=\"1\" /><path clip-path=\"url(#clip1600)\" d=\"M 0 0 M801.334 1480.32 L817.653 1480.32 L817.653 1484.25 L795.709 1484.25 L795.709 1480.32 Q798.371 1477.56 802.954 1472.93 Q807.561 1468.28 808.741 1466.94 Q810.987 1464.41 811.866 1462.68 Q812.769 1460.92 812.769 1459.23 Q812.769 1456.47 810.825 1454.74 Q808.903 1453 805.801 1453 Q803.602 1453 801.149 1453.77 Q798.718 1454.53 795.94 1456.08 L795.94 1451.36 Q798.764 1450.22 801.218 1449.65 Q803.672 1449.07 805.709 1449.07 Q811.079 1449.07 814.274 1451.75 Q817.468 1454.44 817.468 1458.93 Q817.468 1461.06 816.658 1462.98 Q815.871 1464.88 813.764 1467.47 Q813.186 1468.14 810.084 1471.36 Q806.982 1474.55 801.334 1480.32 Z\" fill=\"#000000\" fill-rule=\"evenodd\" fill-opacity=\"1\" /><path clip-path=\"url(#clip1600)\" d=\"M 0 0 M822.769 1449.69 L841.125 1449.69 L841.125 1453.63 L827.051 1453.63 L827.051 1462.1 Q828.07 1461.75 829.088 1461.59 Q830.107 1461.4 831.125 1461.4 Q836.912 1461.4 840.292 1464.58 Q843.672 1467.75 843.672 1473.16 Q843.672 1478.74 840.199 1481.84 Q836.727 1484.92 830.408 1484.92 Q828.232 1484.92 825.963 1484.55 Q823.718 1484.18 821.311 1483.44 L821.311 1478.74 Q823.394 1479.88 825.616 1480.43 Q827.838 1480.99 830.315 1480.99 Q834.32 1480.99 836.658 1478.88 Q838.996 1476.78 838.996 1473.16 Q838.996 1469.55 836.658 1467.45 Q834.32 1465.34 830.315 1465.34 Q828.44 1465.34 826.565 1465.76 Q824.713 1466.17 822.769 1467.05 L822.769 1449.69 Z\" fill=\"#000000\" fill-rule=\"evenodd\" fill-opacity=\"1\" /><path clip-path=\"url(#clip1600)\" d=\"M 0 0 M849.227 1478.37 L854.111 1478.37 L854.111 1482.35 L850.315 1489.76 L847.329 1489.76 L849.227 1482.35 L849.227 1478.37 Z\" fill=\"#000000\" fill-rule=\"evenodd\" fill-opacity=\"1\" /><path clip-path=\"url(#clip1600)\" d=\"M 0 0 M863.209 1480.32 L879.528 1480.32 L879.528 1484.25 L857.584 1484.25 L857.584 1480.32 Q860.246 1477.56 864.829 1472.93 Q869.435 1468.28 870.616 1466.94 Q872.861 1464.41 873.741 1462.68 Q874.644 1460.92 874.644 1459.23 Q874.644 1456.47 872.699 1454.74 Q870.778 1453 867.676 1453 Q865.477 1453 863.023 1453.77 Q860.593 1454.53 857.815 1456.08 L857.815 1451.36 Q860.639 1450.22 863.093 1449.65 Q865.546 1449.07 867.583 1449.07 Q872.954 1449.07 876.148 1451.75 Q879.343 1454.44 879.343 1458.93 Q879.343 1461.06 878.532 1462.98 Q877.745 1464.88 875.639 1467.47 Q875.06 1468.14 871.958 1471.36 Q868.857 1474.55 863.209 1480.32 Z\" fill=\"#000000\" fill-rule=\"evenodd\" fill-opacity=\"1\" /><path clip-path=\"url(#clip1600)\" d=\"M 0 0 M894.597 1452.77 Q890.986 1452.77 889.157 1456.34 Q887.352 1459.88 887.352 1467.01 Q887.352 1474.11 889.157 1477.68 Q890.986 1481.22 894.597 1481.22 Q898.231 1481.22 900.037 1477.68 Q901.866 1474.11 901.866 1467.01 Q901.866 1459.88 900.037 1456.34 Q898.231 1452.77 894.597 1452.77 M894.597 1449.07 Q900.407 1449.07 903.463 1453.67 Q906.542 1458.26 906.542 1467.01 Q906.542 1475.73 903.463 1480.34 Q900.407 1484.92 894.597 1484.92 Q888.787 1484.92 885.708 1480.34 Q882.653 1475.73 882.653 1467.01 Q882.653 1458.26 885.708 1453.67 Q888.787 1449.07 894.597 1449.07 Z\" fill=\"#000000\" fill-rule=\"evenodd\" fill-opacity=\"1\" /><path clip-path=\"url(#clip1600)\" d=\"M 0 0 M970.064 1452.86 Q964.972 1452.86 961.963 1456.66 Q958.977 1460.46 958.977 1467.01 Q958.977 1473.53 961.963 1477.33 Q964.972 1481.13 970.064 1481.13 Q975.157 1481.13 978.12 1477.33 Q981.106 1473.53 981.106 1467.01 Q981.106 1460.46 978.12 1456.66 Q975.157 1452.86 970.064 1452.86 M970.064 1449.07 Q977.333 1449.07 981.685 1453.95 Q986.037 1458.81 986.037 1467.01 Q986.037 1475.18 981.685 1480.06 Q977.333 1484.92 970.064 1484.92 Q962.773 1484.92 958.398 1480.06 Q954.046 1475.2 954.046 1467.01 Q954.046 1458.81 958.398 1453.95 Q962.773 1449.07 970.064 1449.07 Z\" fill=\"#000000\" fill-rule=\"evenodd\" fill-opacity=\"1\" /><path clip-path=\"url(#clip1600)\" d=\"M 0 0 M1009.16 1459.32 L1009.16 1463.3 Q1007.36 1462.31 1005.53 1461.82 Q1003.72 1461.31 1001.87 1461.31 Q997.726 1461.31 995.435 1463.95 Q993.143 1466.57 993.143 1471.31 Q993.143 1476.06 995.435 1478.7 Q997.726 1481.31 1001.87 1481.31 Q1003.72 1481.31 1005.53 1480.83 Q1007.36 1480.32 1009.16 1479.32 L1009.16 1483.26 Q1007.38 1484.09 1005.46 1484.51 Q1003.56 1484.92 1001.41 1484.92 Q995.55 1484.92 992.101 1481.24 Q988.652 1477.56 988.652 1471.31 Q988.652 1464.97 992.125 1461.34 Q995.62 1457.7 1001.68 1457.7 Q1003.65 1457.7 1005.53 1458.12 Q1007.4 1458.51 1009.16 1459.32 Z\" fill=\"#000000\" fill-rule=\"evenodd\" fill-opacity=\"1\" /><path clip-path=\"url(#clip1600)\" d=\"M 0 0 M1017.84 1450.96 L1017.84 1458.33 L1026.62 1458.33 L1026.62 1461.64 L1017.84 1461.64 L1017.84 1475.71 Q1017.84 1478.88 1018.7 1479.78 Q1019.58 1480.69 1022.24 1480.69 L1026.62 1480.69 L1026.62 1484.25 L1022.24 1484.25 Q1017.31 1484.25 1015.43 1482.42 Q1013.56 1480.57 1013.56 1475.71 L1013.56 1461.64 L1010.43 1461.64 L1010.43 1458.33 L1013.56 1458.33 L1013.56 1450.96 L1017.84 1450.96 Z\" fill=\"#000000\" fill-rule=\"evenodd\" fill-opacity=\"1\" /><path clip-path=\"url(#clip1600)\" d=\"M 0 0 M1031.68 1478.37 L1036.57 1478.37 L1036.57 1484.25 L1031.68 1484.25 L1031.68 1478.37 Z\" fill=\"#000000\" fill-rule=\"evenodd\" fill-opacity=\"1\" /><path clip-path=\"url(#clip1600)\" d=\"M 0 0 M1055.8 1465.62 Q1059.16 1466.34 1061.04 1468.6 Q1062.93 1470.87 1062.93 1474.21 Q1062.93 1479.32 1059.42 1482.12 Q1055.9 1484.92 1049.42 1484.92 Q1047.24 1484.92 1044.93 1484.48 Q1042.63 1484.07 1040.18 1483.21 L1040.18 1478.7 Q1042.12 1479.83 1044.44 1480.41 Q1046.75 1480.99 1049.28 1480.99 Q1053.68 1480.99 1055.97 1479.25 Q1058.28 1477.52 1058.28 1474.21 Q1058.28 1471.15 1056.13 1469.44 Q1054 1467.7 1050.18 1467.7 L1046.15 1467.7 L1046.15 1463.86 L1050.36 1463.86 Q1053.81 1463.86 1055.64 1462.49 Q1057.47 1461.1 1057.47 1458.51 Q1057.47 1455.85 1055.57 1454.44 Q1053.7 1453 1050.18 1453 Q1048.26 1453 1046.06 1453.42 Q1043.86 1453.84 1041.22 1454.71 L1041.22 1450.55 Q1043.88 1449.81 1046.2 1449.44 Q1048.54 1449.07 1050.6 1449.07 Q1055.92 1449.07 1059.02 1451.5 Q1062.12 1453.9 1062.12 1458.03 Q1062.12 1460.9 1060.48 1462.89 Q1058.84 1464.85 1055.8 1465.62 Z\" fill=\"#000000\" fill-rule=\"evenodd\" fill-opacity=\"1\" /><path clip-path=\"url(#clip1600)\" d=\"M 0 0 M1068.49 1478.37 L1073.37 1478.37 L1073.37 1482.35 L1069.58 1489.76 L1066.59 1489.76 L1068.49 1482.35 L1068.49 1478.37 Z\" fill=\"#000000\" fill-rule=\"evenodd\" fill-opacity=\"1\" /><path clip-path=\"url(#clip1600)\" d=\"M 0 0 M1082.47 1480.32 L1098.79 1480.32 L1098.79 1484.25 L1076.85 1484.25 L1076.85 1480.32 Q1079.51 1477.56 1084.09 1472.93 Q1088.7 1468.28 1089.88 1466.94 Q1092.12 1464.41 1093 1462.68 Q1093.91 1460.92 1093.91 1459.23 Q1093.91 1456.47 1091.96 1454.74 Q1090.04 1453 1086.94 1453 Q1084.74 1453 1082.29 1453.77 Q1079.86 1454.53 1077.08 1456.08 L1077.08 1451.36 Q1079.9 1450.22 1082.36 1449.65 Q1084.81 1449.07 1086.85 1449.07 Q1092.22 1449.07 1095.41 1451.75 Q1098.61 1454.44 1098.61 1458.93 Q1098.61 1461.06 1097.8 1462.98 Q1097.01 1464.88 1094.9 1467.47 Q1094.32 1468.14 1091.22 1471.36 Q1088.12 1474.55 1082.47 1480.32 Z\" fill=\"#000000\" fill-rule=\"evenodd\" fill-opacity=\"1\" /><path clip-path=\"url(#clip1600)\" d=\"M 0 0 M1113.86 1452.77 Q1110.25 1452.77 1108.42 1456.34 Q1106.61 1459.88 1106.61 1467.01 Q1106.61 1474.11 1108.42 1477.68 Q1110.25 1481.22 1113.86 1481.22 Q1117.49 1481.22 1119.3 1477.68 Q1121.13 1474.11 1121.13 1467.01 Q1121.13 1459.88 1119.3 1456.34 Q1117.49 1452.77 1113.86 1452.77 M1113.86 1449.07 Q1119.67 1449.07 1122.73 1453.67 Q1125.8 1458.26 1125.8 1467.01 Q1125.8 1475.73 1122.73 1480.34 Q1119.67 1484.92 1113.86 1484.92 Q1108.05 1484.92 1104.97 1480.34 Q1101.92 1475.73 1101.92 1467.01 Q1101.92 1458.26 1104.97 1453.67 Q1108.05 1449.07 1113.86 1449.07 Z\" fill=\"#000000\" fill-rule=\"evenodd\" fill-opacity=\"1\" /><path clip-path=\"url(#clip1600)\" d=\"M 0 0 M1221.74 1452.86 Q1216.65 1452.86 1213.64 1456.66 Q1210.65 1460.46 1210.65 1467.01 Q1210.65 1473.53 1213.64 1477.33 Q1216.65 1481.13 1221.74 1481.13 Q1226.83 1481.13 1229.79 1477.33 Q1232.78 1473.53 1232.78 1467.01 Q1232.78 1460.46 1229.79 1456.66 Q1226.83 1452.86 1221.74 1452.86 M1221.74 1449.07 Q1229.01 1449.07 1233.36 1453.95 Q1237.71 1458.81 1237.71 1467.01 Q1237.71 1475.18 1233.36 1480.06 Q1229.01 1484.92 1221.74 1484.92 Q1214.45 1484.92 1210.07 1480.06 Q1205.72 1475.2 1205.72 1467.01 Q1205.72 1458.81 1210.07 1453.95 Q1214.45 1449.07 1221.74 1449.07 Z\" fill=\"#000000\" fill-rule=\"evenodd\" fill-opacity=\"1\" /><path clip-path=\"url(#clip1600)\" d=\"M 0 0 M1260.83 1459.32 L1260.83 1463.3 Q1259.03 1462.31 1257.2 1461.82 Q1255.4 1461.31 1253.54 1461.31 Q1249.4 1461.31 1247.11 1463.95 Q1244.82 1466.57 1244.82 1471.31 Q1244.82 1476.06 1247.11 1478.7 Q1249.4 1481.31 1253.54 1481.31 Q1255.4 1481.31 1257.2 1480.83 Q1259.03 1480.32 1260.83 1479.32 L1260.83 1483.26 Q1259.05 1484.09 1257.13 1484.51 Q1255.23 1484.92 1253.08 1484.92 Q1247.22 1484.92 1243.77 1481.24 Q1240.33 1477.56 1240.33 1471.31 Q1240.33 1464.97 1243.8 1461.34 Q1247.29 1457.7 1253.36 1457.7 Q1255.33 1457.7 1257.2 1458.12 Q1259.08 1458.51 1260.83 1459.32 Z\" fill=\"#000000\" fill-rule=\"evenodd\" fill-opacity=\"1\" /><path clip-path=\"url(#clip1600)\" d=\"M 0 0 M1269.52 1450.96 L1269.52 1458.33 L1278.29 1458.33 L1278.29 1461.64 L1269.52 1461.64 L1269.52 1475.71 Q1269.52 1478.88 1270.37 1479.78 Q1271.25 1480.69 1273.91 1480.69 L1278.29 1480.69 L1278.29 1484.25 L1273.91 1484.25 Q1268.98 1484.25 1267.11 1482.42 Q1265.23 1480.57 1265.23 1475.71 L1265.23 1461.64 L1262.11 1461.64 L1262.11 1458.33 L1265.23 1458.33 L1265.23 1450.96 L1269.52 1450.96 Z\" fill=\"#000000\" fill-rule=\"evenodd\" fill-opacity=\"1\" /><path clip-path=\"url(#clip1600)\" d=\"M 0 0 M1283.36 1478.37 L1288.24 1478.37 L1288.24 1484.25 L1283.36 1484.25 L1283.36 1478.37 Z\" fill=\"#000000\" fill-rule=\"evenodd\" fill-opacity=\"1\" /><path clip-path=\"url(#clip1600)\" d=\"M 0 0 M1294.12 1480.32 L1301.76 1480.32 L1301.76 1453.95 L1293.45 1455.62 L1293.45 1451.36 L1301.71 1449.69 L1306.39 1449.69 L1306.39 1480.32 L1314.03 1480.32 L1314.03 1484.25 L1294.12 1484.25 L1294.12 1480.32 Z\" fill=\"#000000\" fill-rule=\"evenodd\" fill-opacity=\"1\" /><path clip-path=\"url(#clip1600)\" d=\"M 0 0 M1323.13 1480.32 L1339.45 1480.32 L1339.45 1484.25 L1317.5 1484.25 L1317.5 1480.32 Q1320.16 1477.56 1324.75 1472.93 Q1329.35 1468.28 1330.53 1466.94 Q1332.78 1464.41 1333.66 1462.68 Q1334.56 1460.92 1334.56 1459.23 Q1334.56 1456.47 1332.62 1454.74 Q1330.7 1453 1327.59 1453 Q1325.39 1453 1322.94 1453.77 Q1320.51 1454.53 1317.73 1456.08 L1317.73 1451.36 Q1320.56 1450.22 1323.01 1449.65 Q1325.46 1449.07 1327.5 1449.07 Q1332.87 1449.07 1336.07 1451.75 Q1339.26 1454.44 1339.26 1458.93 Q1339.26 1461.06 1338.45 1462.98 Q1337.66 1464.88 1335.56 1467.47 Q1334.98 1468.14 1331.88 1471.36 Q1328.77 1474.55 1323.13 1480.32 Z\" fill=\"#000000\" fill-rule=\"evenodd\" fill-opacity=\"1\" /><path clip-path=\"url(#clip1600)\" d=\"M 0 0 M1345 1478.37 L1349.89 1478.37 L1349.89 1482.35 L1346.09 1489.76 L1343.1 1489.76 L1345 1482.35 L1345 1478.37 Z\" fill=\"#000000\" fill-rule=\"evenodd\" fill-opacity=\"1\" /><path clip-path=\"url(#clip1600)\" d=\"M 0 0 M1358.98 1480.32 L1375.3 1480.32 L1375.3 1484.25 L1353.36 1484.25 L1353.36 1480.32 Q1356.02 1477.56 1360.6 1472.93 Q1365.21 1468.28 1366.39 1466.94 Q1368.64 1464.41 1369.51 1462.68 Q1370.42 1460.92 1370.42 1459.23 Q1370.42 1456.47 1368.47 1454.74 Q1366.55 1453 1363.45 1453 Q1361.25 1453 1358.8 1453.77 Q1356.37 1454.53 1353.59 1456.08 L1353.59 1451.36 Q1356.41 1450.22 1358.87 1449.65 Q1361.32 1449.07 1363.36 1449.07 Q1368.73 1449.07 1371.92 1451.75 Q1375.12 1454.44 1375.12 1458.93 Q1375.12 1461.06 1374.31 1462.98 Q1373.52 1464.88 1371.41 1467.47 Q1370.83 1468.14 1367.73 1471.36 Q1364.63 1474.55 1358.98 1480.32 Z\" fill=\"#000000\" fill-rule=\"evenodd\" fill-opacity=\"1\" /><path clip-path=\"url(#clip1600)\" d=\"M 0 0 M1390.37 1452.77 Q1386.76 1452.77 1384.93 1456.34 Q1383.13 1459.88 1383.13 1467.01 Q1383.13 1474.11 1384.93 1477.68 Q1386.76 1481.22 1390.37 1481.22 Q1394.01 1481.22 1395.81 1477.68 Q1397.64 1474.11 1397.64 1467.01 Q1397.64 1459.88 1395.81 1456.34 Q1394.01 1452.77 1390.37 1452.77 M1390.37 1449.07 Q1396.18 1449.07 1399.24 1453.67 Q1402.32 1458.26 1402.32 1467.01 Q1402.32 1475.73 1399.24 1480.34 Q1396.18 1484.92 1390.37 1484.92 Q1384.56 1484.92 1381.48 1480.34 Q1378.43 1475.73 1378.43 1467.01 Q1378.43 1458.26 1381.48 1453.67 Q1384.56 1449.07 1390.37 1449.07 Z\" fill=\"#000000\" fill-rule=\"evenodd\" fill-opacity=\"1\" /><path clip-path=\"url(#clip1600)\" d=\"M 0 0 M1455.87 1452.86 Q1450.78 1452.86 1447.77 1456.66 Q1444.79 1460.46 1444.79 1467.01 Q1444.79 1473.53 1447.77 1477.33 Q1450.78 1481.13 1455.87 1481.13 Q1460.97 1481.13 1463.93 1477.33 Q1466.91 1473.53 1466.91 1467.01 Q1466.91 1460.46 1463.93 1456.66 Q1460.97 1452.86 1455.87 1452.86 M1455.87 1449.07 Q1463.14 1449.07 1467.49 1453.95 Q1471.85 1458.81 1471.85 1467.01 Q1471.85 1475.18 1467.49 1480.06 Q1463.14 1484.92 1455.87 1484.92 Q1448.58 1484.92 1444.21 1480.06 Q1439.85 1475.2 1439.85 1467.01 Q1439.85 1458.81 1444.21 1453.95 Q1448.58 1449.07 1455.87 1449.07 Z\" fill=\"#000000\" fill-rule=\"evenodd\" fill-opacity=\"1\" /><path clip-path=\"url(#clip1600)\" d=\"M 0 0 M1494.97 1459.32 L1494.97 1463.3 Q1493.16 1462.31 1491.34 1461.82 Q1489.53 1461.31 1487.68 1461.31 Q1483.54 1461.31 1481.24 1463.95 Q1478.95 1466.57 1478.95 1471.31 Q1478.95 1476.06 1481.24 1478.7 Q1483.54 1481.31 1487.68 1481.31 Q1489.53 1481.31 1491.34 1480.83 Q1493.16 1480.32 1494.97 1479.32 L1494.97 1483.26 Q1493.19 1484.09 1491.27 1484.51 Q1489.37 1484.92 1487.22 1484.92 Q1481.36 1484.92 1477.91 1481.24 Q1474.46 1477.56 1474.46 1471.31 Q1474.46 1464.97 1477.93 1461.34 Q1481.43 1457.7 1487.49 1457.7 Q1489.46 1457.7 1491.34 1458.12 Q1493.21 1458.51 1494.97 1459.32 Z\" fill=\"#000000\" fill-rule=\"evenodd\" fill-opacity=\"1\" /><path clip-path=\"url(#clip1600)\" d=\"M 0 0 M1503.65 1450.96 L1503.65 1458.33 L1512.42 1458.33 L1512.42 1461.64 L1503.65 1461.64 L1503.65 1475.71 Q1503.65 1478.88 1504.51 1479.78 Q1505.39 1480.69 1508.05 1480.69 L1512.42 1480.69 L1512.42 1484.25 L1508.05 1484.25 Q1503.12 1484.25 1501.24 1482.42 Q1499.37 1480.57 1499.37 1475.71 L1499.37 1461.64 L1496.24 1461.64 L1496.24 1458.33 L1499.37 1458.33 L1499.37 1450.96 L1503.65 1450.96 Z\" fill=\"#000000\" fill-rule=\"evenodd\" fill-opacity=\"1\" /><path clip-path=\"url(#clip1600)\" d=\"M 0 0 M1517.49 1478.37 L1522.38 1478.37 L1522.38 1484.25 L1517.49 1484.25 L1517.49 1478.37 Z\" fill=\"#000000\" fill-rule=\"evenodd\" fill-opacity=\"1\" /><path clip-path=\"url(#clip1600)\" d=\"M 0 0 M1531.47 1480.32 L1547.79 1480.32 L1547.79 1484.25 L1525.85 1484.25 L1525.85 1480.32 Q1528.51 1477.56 1533.1 1472.93 Q1537.7 1468.28 1538.88 1466.94 Q1541.13 1464.41 1542.01 1462.68 Q1542.91 1460.92 1542.91 1459.23 Q1542.91 1456.47 1540.97 1454.74 Q1539.04 1453 1535.94 1453 Q1533.74 1453 1531.29 1453.77 Q1528.86 1454.53 1526.08 1456.08 L1526.08 1451.36 Q1528.91 1450.22 1531.36 1449.65 Q1533.81 1449.07 1535.85 1449.07 Q1541.22 1449.07 1544.41 1451.75 Q1547.61 1454.44 1547.61 1458.93 Q1547.61 1461.06 1546.8 1462.98 Q1546.01 1464.88 1543.91 1467.47 Q1543.33 1468.14 1540.22 1471.36 Q1537.12 1474.55 1531.47 1480.32 Z\" fill=\"#000000\" fill-rule=\"evenodd\" fill-opacity=\"1\" /><path clip-path=\"url(#clip1600)\" d=\"M 0 0 M1562.86 1452.77 Q1559.25 1452.77 1557.42 1456.34 Q1555.62 1459.88 1555.62 1467.01 Q1555.62 1474.11 1557.42 1477.68 Q1559.25 1481.22 1562.86 1481.22 Q1566.5 1481.22 1568.3 1477.68 Q1570.13 1474.11 1570.13 1467.01 Q1570.13 1459.88 1568.3 1456.34 Q1566.5 1452.77 1562.86 1452.77 M1562.86 1449.07 Q1568.67 1449.07 1571.73 1453.67 Q1574.81 1458.26 1574.81 1467.01 Q1574.81 1475.73 1571.73 1480.34 Q1568.67 1484.92 1562.86 1484.92 Q1557.05 1484.92 1553.97 1480.34 Q1550.92 1475.73 1550.92 1467.01 Q1550.92 1458.26 1553.97 1453.67 Q1557.05 1449.07 1562.86 1449.07 Z\" fill=\"#000000\" fill-rule=\"evenodd\" fill-opacity=\"1\" /><path clip-path=\"url(#clip1600)\" d=\"M 0 0 M1580.36 1478.37 L1585.25 1478.37 L1585.25 1482.35 L1581.45 1489.76 L1578.47 1489.76 L1580.36 1482.35 L1580.36 1478.37 Z\" fill=\"#000000\" fill-rule=\"evenodd\" fill-opacity=\"1\" /><path clip-path=\"url(#clip1600)\" d=\"M 0 0 M1594.34 1480.32 L1610.66 1480.32 L1610.66 1484.25 L1588.72 1484.25 L1588.72 1480.32 Q1591.38 1477.56 1595.97 1472.93 Q1600.57 1468.28 1601.75 1466.94 Q1604 1464.41 1604.88 1462.68 Q1605.78 1460.92 1605.78 1459.23 Q1605.78 1456.47 1603.84 1454.74 Q1601.91 1453 1598.81 1453 Q1596.61 1453 1594.16 1453.77 Q1591.73 1454.53 1588.95 1456.08 L1588.95 1451.36 Q1591.78 1450.22 1594.23 1449.65 Q1596.68 1449.07 1598.72 1449.07 Q1604.09 1449.07 1607.28 1451.75 Q1610.48 1454.44 1610.48 1458.93 Q1610.48 1461.06 1609.67 1462.98 Q1608.88 1464.88 1606.78 1467.47 Q1606.2 1468.14 1603.09 1471.36 Q1599.99 1474.55 1594.34 1480.32 Z\" fill=\"#000000\" fill-rule=\"evenodd\" fill-opacity=\"1\" /><path clip-path=\"url(#clip1600)\" d=\"M 0 0 M1625.73 1452.77 Q1622.12 1452.77 1620.29 1456.34 Q1618.49 1459.88 1618.49 1467.01 Q1618.49 1474.11 1620.29 1477.68 Q1622.12 1481.22 1625.73 1481.22 Q1629.37 1481.22 1631.17 1477.68 Q1633 1474.11 1633 1467.01 Q1633 1459.88 1631.17 1456.34 Q1629.37 1452.77 1625.73 1452.77 M1625.73 1449.07 Q1631.54 1449.07 1634.6 1453.67 Q1637.68 1458.26 1637.68 1467.01 Q1637.68 1475.73 1634.6 1480.34 Q1631.54 1484.92 1625.73 1484.92 Q1619.92 1484.92 1616.84 1480.34 Q1613.79 1475.73 1613.79 1467.01 Q1613.79 1458.26 1616.84 1453.67 Q1619.92 1449.07 1625.73 1449.07 Z\" fill=\"#000000\" fill-rule=\"evenodd\" fill-opacity=\"1\" /><path clip-path=\"url(#clip1600)\" d=\"M 0 0 M1720.06 1452.86 Q1714.97 1452.86 1711.96 1456.66 Q1708.97 1460.46 1708.97 1467.01 Q1708.97 1473.53 1711.96 1477.33 Q1714.97 1481.13 1720.06 1481.13 Q1725.15 1481.13 1728.11 1477.33 Q1731.1 1473.53 1731.1 1467.01 Q1731.1 1460.46 1728.11 1456.66 Q1725.15 1452.86 1720.06 1452.86 M1720.06 1449.07 Q1727.33 1449.07 1731.68 1453.95 Q1736.03 1458.81 1736.03 1467.01 Q1736.03 1475.18 1731.68 1480.06 Q1727.33 1484.92 1720.06 1484.92 Q1712.77 1484.92 1708.39 1480.06 Q1704.04 1475.2 1704.04 1467.01 Q1704.04 1458.81 1708.39 1453.95 Q1712.77 1449.07 1720.06 1449.07 Z\" fill=\"#000000\" fill-rule=\"evenodd\" fill-opacity=\"1\" /><path clip-path=\"url(#clip1600)\" d=\"M 0 0 M1759.16 1459.32 L1759.16 1463.3 Q1757.35 1462.31 1755.52 1461.82 Q1753.72 1461.31 1751.86 1461.31 Q1747.72 1461.31 1745.43 1463.95 Q1743.14 1466.57 1743.14 1471.31 Q1743.14 1476.06 1745.43 1478.7 Q1747.72 1481.31 1751.86 1481.31 Q1753.72 1481.31 1755.52 1480.83 Q1757.35 1480.32 1759.16 1479.32 L1759.16 1483.26 Q1757.37 1484.09 1755.45 1484.51 Q1753.55 1484.92 1751.4 1484.92 Q1745.54 1484.92 1742.1 1481.24 Q1738.65 1477.56 1738.65 1471.31 Q1738.65 1464.97 1742.12 1461.34 Q1745.61 1457.7 1751.68 1457.7 Q1753.65 1457.7 1755.52 1458.12 Q1757.4 1458.51 1759.16 1459.32 Z\" fill=\"#000000\" fill-rule=\"evenodd\" fill-opacity=\"1\" /><path clip-path=\"url(#clip1600)\" d=\"M 0 0 M1767.84 1450.96 L1767.84 1458.33 L1776.61 1458.33 L1776.61 1461.64 L1767.84 1461.64 L1767.84 1475.71 Q1767.84 1478.88 1768.69 1479.78 Q1769.57 1480.69 1772.23 1480.69 L1776.61 1480.69 L1776.61 1484.25 L1772.23 1484.25 Q1767.3 1484.25 1765.43 1482.42 Q1763.55 1480.57 1763.55 1475.71 L1763.55 1461.64 L1760.43 1461.64 L1760.43 1458.33 L1763.55 1458.33 L1763.55 1450.96 L1767.84 1450.96 Z\" fill=\"#000000\" fill-rule=\"evenodd\" fill-opacity=\"1\" /><path clip-path=\"url(#clip1600)\" d=\"M 0 0 M1781.68 1478.37 L1786.56 1478.37 L1786.56 1484.25 L1781.68 1484.25 L1781.68 1478.37 Z\" fill=\"#000000\" fill-rule=\"evenodd\" fill-opacity=\"1\" /><path clip-path=\"url(#clip1600)\" d=\"M 0 0 M1795.66 1480.32 L1811.98 1480.32 L1811.98 1484.25 L1790.03 1484.25 L1790.03 1480.32 Q1792.7 1477.56 1797.28 1472.93 Q1801.89 1468.28 1803.07 1466.94 Q1805.31 1464.41 1806.19 1462.68 Q1807.09 1460.92 1807.09 1459.23 Q1807.09 1456.47 1805.15 1454.74 Q1803.23 1453 1800.13 1453 Q1797.93 1453 1795.47 1453.77 Q1793.04 1454.53 1790.27 1456.08 L1790.27 1451.36 Q1793.09 1450.22 1795.54 1449.65 Q1798 1449.07 1800.03 1449.07 Q1805.4 1449.07 1808.6 1451.75 Q1811.79 1454.44 1811.79 1458.93 Q1811.79 1461.06 1810.98 1462.98 Q1810.2 1464.88 1808.09 1467.47 Q1807.51 1468.14 1804.41 1471.36 Q1801.31 1474.55 1795.66 1480.32 Z\" fill=\"#000000\" fill-rule=\"evenodd\" fill-opacity=\"1\" /><path clip-path=\"url(#clip1600)\" d=\"M 0 0 M1817.19 1483.53 L1817.19 1479.28 Q1818.95 1480.11 1820.75 1480.55 Q1822.56 1480.99 1824.29 1480.99 Q1828.92 1480.99 1831.35 1477.89 Q1833.81 1474.76 1834.15 1468.42 Q1832.81 1470.41 1830.75 1471.47 Q1828.69 1472.54 1826.19 1472.54 Q1821.01 1472.54 1817.97 1469.41 Q1814.97 1466.27 1814.97 1460.83 Q1814.97 1455.5 1818.11 1452.28 Q1821.26 1449.07 1826.49 1449.07 Q1832.49 1449.07 1835.64 1453.67 Q1838.81 1458.26 1838.81 1467.01 Q1838.81 1475.18 1834.92 1480.06 Q1831.05 1484.92 1824.5 1484.92 Q1822.74 1484.92 1820.94 1484.58 Q1819.13 1484.23 1817.19 1483.53 M1826.49 1468.88 Q1829.64 1468.88 1831.47 1466.73 Q1833.32 1464.58 1833.32 1460.83 Q1833.32 1457.1 1831.47 1454.95 Q1829.64 1452.77 1826.49 1452.77 Q1823.34 1452.77 1821.49 1454.95 Q1819.66 1457.1 1819.66 1460.83 Q1819.66 1464.58 1821.49 1466.73 Q1823.34 1468.88 1826.49 1468.88 Z\" fill=\"#000000\" fill-rule=\"evenodd\" fill-opacity=\"1\" /><path clip-path=\"url(#clip1600)\" d=\"M 0 0 M1844.36 1478.37 L1849.25 1478.37 L1849.25 1482.35 L1845.45 1489.76 L1842.46 1489.76 L1844.36 1482.35 L1844.36 1478.37 Z\" fill=\"#000000\" fill-rule=\"evenodd\" fill-opacity=\"1\" /><path clip-path=\"url(#clip1600)\" d=\"M 0 0 M1858.34 1480.32 L1874.66 1480.32 L1874.66 1484.25 L1852.72 1484.25 L1852.72 1480.32 Q1855.38 1477.56 1859.96 1472.93 Q1864.57 1468.28 1865.75 1466.94 Q1868 1464.41 1868.88 1462.68 Q1869.78 1460.92 1869.78 1459.23 Q1869.78 1456.47 1867.84 1454.74 Q1865.91 1453 1862.81 1453 Q1860.61 1453 1858.16 1453.77 Q1855.73 1454.53 1852.95 1456.08 L1852.95 1451.36 Q1855.78 1450.22 1858.23 1449.65 Q1860.68 1449.07 1862.72 1449.07 Q1868.09 1449.07 1871.28 1451.75 Q1874.48 1454.44 1874.48 1458.93 Q1874.48 1461.06 1873.67 1462.98 Q1872.88 1464.88 1870.77 1467.47 Q1870.2 1468.14 1867.09 1471.36 Q1863.99 1474.55 1858.34 1480.32 Z\" fill=\"#000000\" fill-rule=\"evenodd\" fill-opacity=\"1\" /><path clip-path=\"url(#clip1600)\" d=\"M 0 0 M1889.73 1452.77 Q1886.12 1452.77 1884.29 1456.34 Q1882.49 1459.88 1882.49 1467.01 Q1882.49 1474.11 1884.29 1477.68 Q1886.12 1481.22 1889.73 1481.22 Q1893.37 1481.22 1895.17 1477.68 Q1897 1474.11 1897 1467.01 Q1897 1459.88 1895.17 1456.34 Q1893.37 1452.77 1889.73 1452.77 M1889.73 1449.07 Q1895.54 1449.07 1898.6 1453.67 Q1901.68 1458.26 1901.68 1467.01 Q1901.68 1475.73 1898.6 1480.34 Q1895.54 1484.92 1889.73 1484.92 Q1883.92 1484.92 1880.84 1480.34 Q1877.79 1475.73 1877.79 1467.01 Q1877.79 1458.26 1880.84 1453.67 Q1883.92 1449.07 1889.73 1449.07 Z\" fill=\"#000000\" fill-rule=\"evenodd\" fill-opacity=\"1\" /><path clip-path=\"url(#clip1600)\" d=\"M 0 0 M1949.84 1449.69 L1956.14 1449.69 L1971.46 1478.6 L1971.46 1449.69 L1976 1449.69 L1976 1484.25 L1969.7 1484.25 L1954.38 1455.34 L1954.38 1484.25 L1949.84 1484.25 L1949.84 1449.69 Z\" fill=\"#000000\" fill-rule=\"evenodd\" fill-opacity=\"1\" /><path clip-path=\"url(#clip1600)\" d=\"M 0 0 M1990.51 1461.31 Q1987.09 1461.31 1985.1 1464 Q1983.11 1466.66 1983.11 1471.31 Q1983.11 1475.96 1985.07 1478.65 Q1987.06 1481.31 1990.51 1481.31 Q1993.92 1481.31 1995.91 1478.63 Q1997.9 1475.94 1997.9 1471.31 Q1997.9 1466.71 1995.91 1464.02 Q1993.92 1461.31 1990.51 1461.31 M1990.51 1457.7 Q1996.07 1457.7 1999.24 1461.31 Q2002.41 1464.92 2002.41 1471.31 Q2002.41 1477.68 1999.24 1481.31 Q1996.07 1484.92 1990.51 1484.92 Q1984.93 1484.92 1981.76 1481.31 Q1978.61 1477.68 1978.61 1471.31 Q1978.61 1464.92 1981.76 1461.31 Q1984.93 1457.7 1990.51 1457.7 Z\" fill=\"#000000\" fill-rule=\"evenodd\" fill-opacity=\"1\" /><path clip-path=\"url(#clip1600)\" d=\"M 0 0 M2003.82 1458.33 L2008.34 1458.33 L2016.44 1480.09 L2024.54 1458.33 L2029.05 1458.33 L2019.33 1484.25 L2013.55 1484.25 L2003.82 1458.33 Z\" fill=\"#000000\" fill-rule=\"evenodd\" fill-opacity=\"1\" /><path clip-path=\"url(#clip1600)\" d=\"M 0 0 M2030.44 1478.37 L2035.33 1478.37 L2035.33 1484.25 L2030.44 1484.25 L2030.44 1478.37 Z\" fill=\"#000000\" fill-rule=\"evenodd\" fill-opacity=\"1\" /><path clip-path=\"url(#clip1600)\" d=\"M 0 0 M2050.98 1465.11 Q2047.83 1465.11 2045.98 1467.26 Q2044.15 1469.41 2044.15 1473.16 Q2044.15 1476.89 2045.98 1479.07 Q2047.83 1481.22 2050.98 1481.22 Q2054.12 1481.22 2055.95 1479.07 Q2057.8 1476.89 2057.8 1473.16 Q2057.8 1469.41 2055.95 1467.26 Q2054.12 1465.11 2050.98 1465.11 M2060.26 1450.46 L2060.26 1454.71 Q2058.5 1453.88 2056.69 1453.44 Q2054.91 1453 2053.15 1453 Q2048.52 1453 2046.07 1456.13 Q2043.64 1459.25 2043.29 1465.57 Q2044.66 1463.56 2046.72 1462.49 Q2048.78 1461.4 2051.25 1461.4 Q2056.46 1461.4 2059.47 1464.58 Q2062.5 1467.72 2062.5 1473.16 Q2062.5 1478.49 2059.35 1481.71 Q2056.21 1484.92 2050.98 1484.92 Q2044.98 1484.92 2041.81 1480.34 Q2038.64 1475.73 2038.64 1467.01 Q2038.64 1458.81 2042.53 1453.95 Q2046.42 1449.07 2052.97 1449.07 Q2054.73 1449.07 2056.51 1449.41 Q2058.31 1449.76 2060.26 1450.46 Z\" fill=\"#000000\" fill-rule=\"evenodd\" fill-opacity=\"1\" /><path clip-path=\"url(#clip1600)\" d=\"M 0 0 M2068.06 1478.37 L2072.94 1478.37 L2072.94 1482.35 L2069.15 1489.76 L2066.16 1489.76 L2068.06 1482.35 L2068.06 1478.37 Z\" fill=\"#000000\" fill-rule=\"evenodd\" fill-opacity=\"1\" /><path clip-path=\"url(#clip1600)\" d=\"M 0 0 M2082.04 1480.32 L2098.36 1480.32 L2098.36 1484.25 L2076.42 1484.25 L2076.42 1480.32 Q2079.08 1477.56 2083.66 1472.93 Q2088.27 1468.28 2089.45 1466.94 Q2091.69 1464.41 2092.57 1462.68 Q2093.48 1460.92 2093.48 1459.23 Q2093.48 1456.47 2091.53 1454.74 Q2089.61 1453 2086.51 1453 Q2084.31 1453 2081.85 1453.77 Q2079.42 1454.53 2076.65 1456.08 L2076.65 1451.36 Q2079.47 1450.22 2081.92 1449.65 Q2084.38 1449.07 2086.42 1449.07 Q2091.79 1449.07 2094.98 1451.75 Q2098.17 1454.44 2098.17 1458.93 Q2098.17 1461.06 2097.36 1462.98 Q2096.58 1464.88 2094.47 1467.47 Q2093.89 1468.14 2090.79 1471.36 Q2087.69 1474.55 2082.04 1480.32 Z\" fill=\"#000000\" fill-rule=\"evenodd\" fill-opacity=\"1\" /><path clip-path=\"url(#clip1600)\" d=\"M 0 0 M2113.43 1452.77 Q2109.82 1452.77 2107.99 1456.34 Q2106.18 1459.88 2106.18 1467.01 Q2106.18 1474.11 2107.99 1477.68 Q2109.82 1481.22 2113.43 1481.22 Q2117.06 1481.22 2118.87 1477.68 Q2120.7 1474.11 2120.7 1467.01 Q2120.7 1459.88 2118.87 1456.34 Q2117.06 1452.77 2113.43 1452.77 M2113.43 1449.07 Q2119.24 1449.07 2122.29 1453.67 Q2125.37 1458.26 2125.37 1467.01 Q2125.37 1475.73 2122.29 1480.34 Q2119.24 1484.92 2113.43 1484.92 Q2107.62 1484.92 2104.54 1480.34 Q2101.48 1475.73 2101.48 1467.01 Q2101.48 1458.26 2104.54 1453.67 Q2107.62 1449.07 2113.43 1449.07 Z\" fill=\"#000000\" fill-rule=\"evenodd\" fill-opacity=\"1\" /><path clip-path=\"url(#clip1600)\" d=\"M 0 0 M2171.53 1449.69 L2177.83 1449.69 L2193.16 1478.6 L2193.16 1449.69 L2197.69 1449.69 L2197.69 1484.25 L2191.4 1484.25 L2176.07 1455.34 L2176.07 1484.25 L2171.53 1484.25 L2171.53 1449.69 Z\" fill=\"#000000\" fill-rule=\"evenodd\" fill-opacity=\"1\" /><path clip-path=\"url(#clip1600)\" d=\"M 0 0 M2212.21 1461.31 Q2208.78 1461.31 2206.79 1464 Q2204.8 1466.66 2204.8 1471.31 Q2204.8 1475.96 2206.77 1478.65 Q2208.76 1481.31 2212.21 1481.31 Q2215.61 1481.31 2217.6 1478.63 Q2219.59 1475.94 2219.59 1471.31 Q2219.59 1466.71 2217.6 1464.02 Q2215.61 1461.31 2212.21 1461.31 M2212.21 1457.7 Q2217.76 1457.7 2220.93 1461.31 Q2224.1 1464.92 2224.1 1471.31 Q2224.1 1477.68 2220.93 1481.31 Q2217.76 1484.92 2212.21 1484.92 Q2206.63 1484.92 2203.46 1481.31 Q2200.31 1477.68 2200.31 1471.31 Q2200.31 1464.92 2203.46 1461.31 Q2206.63 1457.7 2212.21 1457.7 Z\" fill=\"#000000\" fill-rule=\"evenodd\" fill-opacity=\"1\" /><path clip-path=\"url(#clip1600)\" d=\"M 0 0 M2225.52 1458.33 L2230.03 1458.33 L2238.13 1480.09 L2246.23 1458.33 L2250.75 1458.33 L2241.03 1484.25 L2235.24 1484.25 L2225.52 1458.33 Z\" fill=\"#000000\" fill-rule=\"evenodd\" fill-opacity=\"1\" /><path clip-path=\"url(#clip1600)\" d=\"M 0 0 M2252.14 1478.37 L2257.02 1478.37 L2257.02 1484.25 L2252.14 1484.25 L2252.14 1478.37 Z\" fill=\"#000000\" fill-rule=\"evenodd\" fill-opacity=\"1\" /><path clip-path=\"url(#clip1600)\" d=\"M 0 0 M2262.9 1480.32 L2270.54 1480.32 L2270.54 1453.95 L2262.23 1455.62 L2262.23 1451.36 L2270.49 1449.69 L2275.17 1449.69 L2275.17 1480.32 L2282.81 1480.32 L2282.81 1484.25 L2262.9 1484.25 L2262.9 1480.32 Z\" fill=\"#000000\" fill-rule=\"evenodd\" fill-opacity=\"1\" /><path clip-path=\"url(#clip1600)\" d=\"M 0 0 M2300.72 1453.77 L2288.92 1472.21 L2300.72 1472.21 L2300.72 1453.77 M2299.5 1449.69 L2305.38 1449.69 L2305.38 1472.21 L2310.31 1472.21 L2310.31 1476.1 L2305.38 1476.1 L2305.38 1484.25 L2300.72 1484.25 L2300.72 1476.1 L2285.12 1476.1 L2285.12 1471.59 L2299.5 1449.69 Z\" fill=\"#000000\" fill-rule=\"evenodd\" fill-opacity=\"1\" /><path clip-path=\"url(#clip1600)\" d=\"M 0 0 M2315.86 1478.37 L2320.75 1478.37 L2320.75 1482.35 L2316.95 1489.76 L2313.96 1489.76 L2315.86 1482.35 L2315.86 1478.37 Z\" fill=\"#000000\" fill-rule=\"evenodd\" fill-opacity=\"1\" /><path clip-path=\"url(#clip1600)\" d=\"M 0 0 M2329.84 1480.32 L2346.16 1480.32 L2346.16 1484.25 L2324.22 1484.25 L2324.22 1480.32 Q2326.88 1477.56 2331.46 1472.93 Q2336.07 1468.28 2337.25 1466.94 Q2339.5 1464.41 2340.38 1462.68 Q2341.28 1460.92 2341.28 1459.23 Q2341.28 1456.47 2339.34 1454.74 Q2337.41 1453 2334.31 1453 Q2332.11 1453 2329.66 1453.77 Q2327.23 1454.53 2324.45 1456.08 L2324.45 1451.36 Q2327.27 1450.22 2329.73 1449.65 Q2332.18 1449.07 2334.22 1449.07 Q2339.59 1449.07 2342.78 1451.75 Q2345.98 1454.44 2345.98 1458.93 Q2345.98 1461.06 2345.17 1462.98 Q2344.38 1464.88 2342.27 1467.47 Q2341.7 1468.14 2338.59 1471.36 Q2335.49 1474.55 2329.84 1480.32 Z\" fill=\"#000000\" fill-rule=\"evenodd\" fill-opacity=\"1\" /><path clip-path=\"url(#clip1600)\" d=\"M 0 0 M2361.23 1452.77 Q2357.62 1452.77 2355.79 1456.34 Q2353.99 1459.88 2353.99 1467.01 Q2353.99 1474.11 2355.79 1477.68 Q2357.62 1481.22 2361.23 1481.22 Q2364.87 1481.22 2366.67 1477.68 Q2368.5 1474.11 2368.5 1467.01 Q2368.5 1459.88 2366.67 1456.34 Q2364.87 1452.77 2361.23 1452.77 M2361.23 1449.07 Q2367.04 1449.07 2370.1 1453.67 Q2373.18 1458.26 2373.18 1467.01 Q2373.18 1475.73 2370.1 1480.34 Q2367.04 1484.92 2361.23 1484.92 Q2355.42 1484.92 2352.34 1480.34 Q2349.29 1475.73 2349.29 1467.01 Q2349.29 1458.26 2352.34 1453.67 Q2355.42 1449.07 2361.23 1449.07 Z\" fill=\"#000000\" fill-rule=\"evenodd\" fill-opacity=\"1\" /><path clip-path=\"url(#clip1600)\" d=\"M 0 0 M2436.38 1449.69 L2442.68 1449.69 L2458 1478.6 L2458 1449.69 L2462.54 1449.69 L2462.54 1484.25 L2456.24 1484.25 L2440.92 1455.34 L2440.92 1484.25 L2436.38 1484.25 L2436.38 1449.69 Z\" fill=\"#000000\" fill-rule=\"evenodd\" fill-opacity=\"1\" /><path clip-path=\"url(#clip1600)\" d=\"M 0 0 M2477.05 1461.31 Q2473.62 1461.31 2471.63 1464 Q2469.64 1466.66 2469.64 1471.31 Q2469.64 1475.96 2471.61 1478.65 Q2473.6 1481.31 2477.05 1481.31 Q2480.45 1481.31 2482.44 1478.63 Q2484.43 1475.94 2484.43 1471.31 Q2484.43 1466.71 2482.44 1464.02 Q2480.45 1461.31 2477.05 1461.31 M2477.05 1457.7 Q2482.61 1457.7 2485.78 1461.31 Q2488.95 1464.92 2488.95 1471.31 Q2488.95 1477.68 2485.78 1481.31 Q2482.61 1484.92 2477.05 1484.92 Q2471.47 1484.92 2468.3 1481.31 Q2465.15 1477.68 2465.15 1471.31 Q2465.15 1464.92 2468.3 1461.31 Q2471.47 1457.7 2477.05 1457.7 Z\" fill=\"#000000\" fill-rule=\"evenodd\" fill-opacity=\"1\" /><path clip-path=\"url(#clip1600)\" d=\"M 0 0 M2490.36 1458.33 L2494.87 1458.33 L2502.98 1480.09 L2511.08 1458.33 L2515.59 1458.33 L2505.87 1484.25 L2500.08 1484.25 L2490.36 1458.33 Z\" fill=\"#000000\" fill-rule=\"evenodd\" fill-opacity=\"1\" /><path clip-path=\"url(#clip1600)\" d=\"M 0 0 M2516.98 1478.37 L2521.87 1478.37 L2521.87 1484.25 L2516.98 1484.25 L2516.98 1478.37 Z\" fill=\"#000000\" fill-rule=\"evenodd\" fill-opacity=\"1\" /><path clip-path=\"url(#clip1600)\" d=\"M 0 0 M2530.96 1480.32 L2547.28 1480.32 L2547.28 1484.25 L2525.34 1484.25 L2525.34 1480.32 Q2528 1477.56 2532.58 1472.93 Q2537.19 1468.28 2538.37 1466.94 Q2540.62 1464.41 2541.49 1462.68 Q2542.4 1460.92 2542.4 1459.23 Q2542.4 1456.47 2540.45 1454.74 Q2538.53 1453 2535.43 1453 Q2533.23 1453 2530.78 1453.77 Q2528.35 1454.53 2525.57 1456.08 L2525.57 1451.36 Q2528.39 1450.22 2530.85 1449.65 Q2533.3 1449.07 2535.34 1449.07 Q2540.71 1449.07 2543.9 1451.75 Q2547.1 1454.44 2547.1 1458.93 Q2547.1 1461.06 2546.29 1462.98 Q2545.5 1464.88 2543.39 1467.47 Q2542.81 1468.14 2539.71 1471.36 Q2536.61 1474.55 2530.96 1480.32 Z\" fill=\"#000000\" fill-rule=\"evenodd\" fill-opacity=\"1\" /><path clip-path=\"url(#clip1600)\" d=\"M 0 0 M2566.52 1465.62 Q2569.87 1466.34 2571.75 1468.6 Q2573.65 1470.87 2573.65 1474.21 Q2573.65 1479.32 2570.13 1482.12 Q2566.61 1484.92 2560.13 1484.92 Q2557.95 1484.92 2555.64 1484.48 Q2553.35 1484.07 2550.89 1483.21 L2550.89 1478.7 Q2552.84 1479.83 2555.15 1480.41 Q2557.47 1480.99 2559.99 1480.99 Q2564.39 1480.99 2566.68 1479.25 Q2568.99 1477.52 2568.99 1474.21 Q2568.99 1471.15 2566.84 1469.44 Q2564.71 1467.7 2560.89 1467.7 L2556.87 1467.7 L2556.87 1463.86 L2561.08 1463.86 Q2564.53 1463.86 2566.36 1462.49 Q2568.18 1461.1 2568.18 1458.51 Q2568.18 1455.85 2566.29 1454.44 Q2564.41 1453 2560.89 1453 Q2558.97 1453 2556.77 1453.42 Q2554.57 1453.84 2551.93 1454.71 L2551.93 1450.55 Q2554.6 1449.81 2556.91 1449.44 Q2559.25 1449.07 2561.31 1449.07 Q2566.63 1449.07 2569.74 1451.5 Q2572.84 1453.9 2572.84 1458.03 Q2572.84 1460.9 2571.19 1462.89 Q2569.55 1464.85 2566.52 1465.62 Z\" fill=\"#000000\" fill-rule=\"evenodd\" fill-opacity=\"1\" /><path clip-path=\"url(#clip1600)\" d=\"M 0 0 M2579.2 1478.37 L2584.09 1478.37 L2584.09 1482.35 L2580.29 1489.76 L2577.3 1489.76 L2579.2 1482.35 L2579.2 1478.37 Z\" fill=\"#000000\" fill-rule=\"evenodd\" fill-opacity=\"1\" /><path clip-path=\"url(#clip1600)\" d=\"M 0 0 M2593.18 1480.32 L2609.5 1480.32 L2609.5 1484.25 L2587.56 1484.25 L2587.56 1480.32 Q2590.22 1477.56 2594.8 1472.93 Q2599.41 1468.28 2600.59 1466.94 Q2602.84 1464.41 2603.72 1462.68 Q2604.62 1460.92 2604.62 1459.23 Q2604.62 1456.47 2602.68 1454.74 Q2600.75 1453 2597.65 1453 Q2595.45 1453 2593 1453.77 Q2590.57 1454.53 2587.79 1456.08 L2587.79 1451.36 Q2590.61 1450.22 2593.07 1449.65 Q2595.52 1449.07 2597.56 1449.07 Q2602.93 1449.07 2606.12 1451.75 Q2609.32 1454.44 2609.32 1458.93 Q2609.32 1461.06 2608.51 1462.98 Q2607.72 1464.88 2605.61 1467.47 Q2605.04 1468.14 2601.93 1471.36 Q2598.83 1474.55 2593.18 1480.32 Z\" fill=\"#000000\" fill-rule=\"evenodd\" fill-opacity=\"1\" /><path clip-path=\"url(#clip1600)\" d=\"M 0 0 M2624.57 1452.77 Q2620.96 1452.77 2619.13 1456.34 Q2617.33 1459.88 2617.33 1467.01 Q2617.33 1474.11 2619.13 1477.68 Q2620.96 1481.22 2624.57 1481.22 Q2628.21 1481.22 2630.01 1477.68 Q2631.84 1474.11 2631.84 1467.01 Q2631.84 1459.88 2630.01 1456.34 Q2628.21 1452.77 2624.57 1452.77 M2624.57 1449.07 Q2630.38 1449.07 2633.44 1453.67 Q2636.52 1458.26 2636.52 1467.01 Q2636.52 1475.73 2633.44 1480.34 Q2630.38 1484.92 2624.57 1484.92 Q2618.76 1484.92 2615.68 1480.34 Q2612.63 1475.73 2612.63 1467.01 Q2612.63 1458.26 2615.68 1453.67 Q2618.76 1449.07 2624.57 1449.07 Z\" fill=\"#000000\" fill-rule=\"evenodd\" fill-opacity=\"1\" /><path clip-path=\"url(#clip1600)\" d=\"M 0 0 M2687.16 1453.53 L2687.16 1480.41 L2692.81 1480.41 Q2699.96 1480.41 2703.27 1477.17 Q2706.6 1473.93 2706.6 1466.94 Q2706.6 1459.99 2703.27 1456.78 Q2699.96 1453.53 2692.81 1453.53 L2687.16 1453.53 M2682.48 1449.69 L2692.09 1449.69 Q2702.14 1449.69 2706.83 1453.88 Q2711.53 1458.05 2711.53 1466.94 Q2711.53 1475.87 2706.81 1480.06 Q2702.09 1484.25 2692.09 1484.25 L2682.48 1484.25 L2682.48 1449.69 Z\" fill=\"#000000\" fill-rule=\"evenodd\" fill-opacity=\"1\" /><path clip-path=\"url(#clip1600)\" d=\"M 0 0 M2738.18 1470.22 L2738.18 1472.31 L2718.59 1472.31 Q2718.87 1476.71 2721.23 1479.02 Q2723.62 1481.31 2727.85 1481.31 Q2730.31 1481.31 2732.6 1480.71 Q2734.91 1480.11 2737.18 1478.9 L2737.18 1482.93 Q2734.89 1483.9 2732.48 1484.41 Q2730.07 1484.92 2727.6 1484.92 Q2721.39 1484.92 2717.76 1481.31 Q2714.15 1477.7 2714.15 1471.54 Q2714.15 1465.18 2717.57 1461.45 Q2721.02 1457.7 2726.86 1457.7 Q2732.09 1457.7 2735.12 1461.08 Q2738.18 1464.44 2738.18 1470.22 M2733.92 1468.97 Q2733.87 1465.48 2731.95 1463.4 Q2730.05 1461.31 2726.9 1461.31 Q2723.34 1461.31 2721.19 1463.33 Q2719.06 1465.34 2718.73 1469 L2733.92 1468.97 Z\" fill=\"#000000\" fill-rule=\"evenodd\" fill-opacity=\"1\" /><path clip-path=\"url(#clip1600)\" d=\"M 0 0 M2761.3 1459.32 L2761.3 1463.3 Q2759.5 1462.31 2757.67 1461.82 Q2755.86 1461.31 2754.01 1461.31 Q2749.87 1461.31 2747.57 1463.95 Q2745.28 1466.57 2745.28 1471.31 Q2745.28 1476.06 2747.57 1478.7 Q2749.87 1481.31 2754.01 1481.31 Q2755.86 1481.31 2757.67 1480.83 Q2759.5 1480.32 2761.3 1479.32 L2761.3 1483.26 Q2759.52 1484.09 2757.6 1484.51 Q2755.7 1484.92 2753.55 1484.92 Q2747.69 1484.92 2744.24 1481.24 Q2740.79 1477.56 2740.79 1471.31 Q2740.79 1464.97 2744.26 1461.34 Q2747.76 1457.7 2753.82 1457.7 Q2755.79 1457.7 2757.67 1458.12 Q2759.54 1458.51 2761.3 1459.32 Z\" fill=\"#000000\" fill-rule=\"evenodd\" fill-opacity=\"1\" /><path clip-path=\"url(#clip1600)\" d=\"M 0 0 M2766.37 1478.37 L2771.26 1478.37 L2771.26 1484.25 L2766.37 1484.25 L2766.37 1478.37 Z\" fill=\"#000000\" fill-rule=\"evenodd\" fill-opacity=\"1\" /><path clip-path=\"url(#clip1600)\" d=\"M 0 0 M2777.13 1480.32 L2784.77 1480.32 L2784.77 1453.95 L2776.46 1455.62 L2776.46 1451.36 L2784.73 1449.69 L2789.4 1449.69 L2789.4 1480.32 L2797.04 1480.32 L2797.04 1484.25 L2777.13 1484.25 L2777.13 1480.32 Z\" fill=\"#000000\" fill-rule=\"evenodd\" fill-opacity=\"1\" /><path clip-path=\"url(#clip1600)\" d=\"M 0 0 M2802.6 1478.37 L2807.48 1478.37 L2807.48 1482.35 L2803.69 1489.76 L2800.7 1489.76 L2802.6 1482.35 L2802.6 1478.37 Z\" fill=\"#000000\" fill-rule=\"evenodd\" fill-opacity=\"1\" /><path clip-path=\"url(#clip1600)\" d=\"M 0 0 M2816.58 1480.32 L2832.9 1480.32 L2832.9 1484.25 L2810.95 1484.25 L2810.95 1480.32 Q2813.62 1477.56 2818.2 1472.93 Q2822.81 1468.28 2823.99 1466.94 Q2826.23 1464.41 2827.11 1462.68 Q2828.01 1460.92 2828.01 1459.23 Q2828.01 1456.47 2826.07 1454.74 Q2824.15 1453 2821.05 1453 Q2818.85 1453 2816.39 1453.77 Q2813.96 1454.53 2811.19 1456.08 L2811.19 1451.36 Q2814.01 1450.22 2816.46 1449.65 Q2818.92 1449.07 2820.95 1449.07 Q2826.32 1449.07 2829.52 1451.75 Q2832.71 1454.44 2832.71 1458.93 Q2832.71 1461.06 2831.9 1462.98 Q2831.12 1464.88 2829.01 1467.47 Q2828.43 1468.14 2825.33 1471.36 Q2822.23 1474.55 2816.58 1480.32 Z\" fill=\"#000000\" fill-rule=\"evenodd\" fill-opacity=\"1\" /><path clip-path=\"url(#clip1600)\" d=\"M 0 0 M2847.97 1452.77 Q2844.36 1452.77 2842.53 1456.34 Q2840.72 1459.88 2840.72 1467.01 Q2840.72 1474.11 2842.53 1477.68 Q2844.36 1481.22 2847.97 1481.22 Q2851.6 1481.22 2853.41 1477.68 Q2855.24 1474.11 2855.24 1467.01 Q2855.24 1459.88 2853.41 1456.34 Q2851.6 1452.77 2847.97 1452.77 M2847.97 1449.07 Q2853.78 1449.07 2856.83 1453.67 Q2859.91 1458.26 2859.91 1467.01 Q2859.91 1475.73 2856.83 1480.34 Q2853.78 1484.92 2847.97 1484.92 Q2842.16 1484.92 2839.08 1480.34 Q2836.02 1475.73 2836.02 1467.01 Q2836.02 1458.26 2839.08 1453.67 Q2842.16 1449.07 2847.97 1449.07 Z\" fill=\"#000000\" fill-rule=\"evenodd\" fill-opacity=\"1\" /><path clip-path=\"url(#clip1600)\" d=\"M 0 0 M2937.74 1453.53 L2937.74 1480.41 L2943.39 1480.41 Q2950.54 1480.41 2953.85 1477.17 Q2957.19 1473.93 2957.19 1466.94 Q2957.19 1459.99 2953.85 1456.78 Q2950.54 1453.53 2943.39 1453.53 L2937.74 1453.53 M2933.07 1449.69 L2942.67 1449.69 Q2952.72 1449.69 2957.42 1453.88 Q2962.12 1458.05 2962.12 1466.94 Q2962.12 1475.87 2957.4 1480.06 Q2952.67 1484.25 2942.67 1484.25 L2933.07 1484.25 L2933.07 1449.69 Z\" fill=\"#000000\" fill-rule=\"evenodd\" fill-opacity=\"1\" /><path clip-path=\"url(#clip1600)\" d=\"M 0 0 M2988.76 1470.22 L2988.76 1472.31 L2969.18 1472.31 Q2969.46 1476.71 2971.82 1479.02 Q2974.2 1481.31 2978.44 1481.31 Q2980.89 1481.31 2983.18 1480.71 Q2985.5 1480.11 2987.77 1478.9 L2987.77 1482.93 Q2985.48 1483.9 2983.07 1484.41 Q2980.66 1484.92 2978.18 1484.92 Q2971.98 1484.92 2968.35 1481.31 Q2964.73 1477.7 2964.73 1471.54 Q2964.73 1465.18 2968.16 1461.45 Q2971.61 1457.7 2977.44 1457.7 Q2982.67 1457.7 2985.71 1461.08 Q2988.76 1464.44 2988.76 1470.22 M2984.5 1468.97 Q2984.46 1465.48 2982.54 1463.4 Q2980.64 1461.31 2977.49 1461.31 Q2973.92 1461.31 2971.77 1463.33 Q2969.64 1465.34 2969.32 1469 L2984.5 1468.97 Z\" fill=\"#000000\" fill-rule=\"evenodd\" fill-opacity=\"1\" /><path clip-path=\"url(#clip1600)\" d=\"M 0 0 M3011.89 1459.32 L3011.89 1463.3 Q3010.08 1462.31 3008.25 1461.82 Q3006.45 1461.31 3004.6 1461.31 Q3000.45 1461.31 2998.16 1463.95 Q2995.87 1466.57 2995.87 1471.31 Q2995.87 1476.06 2998.16 1478.7 Q3000.45 1481.31 3004.6 1481.31 Q3006.45 1481.31 3008.25 1480.83 Q3010.08 1480.32 3011.89 1479.32 L3011.89 1483.26 Q3010.1 1484.09 3008.18 1484.51 Q3006.29 1484.92 3004.13 1484.92 Q2998.28 1484.92 2994.83 1481.24 Q2991.38 1477.56 2991.38 1471.31 Q2991.38 1464.97 2994.85 1461.34 Q2998.35 1457.7 3004.41 1457.7 Q3006.38 1457.7 3008.25 1458.12 Q3010.13 1458.51 3011.89 1459.32 Z\" fill=\"#000000\" fill-rule=\"evenodd\" fill-opacity=\"1\" /><path clip-path=\"url(#clip1600)\" d=\"M 0 0 M3016.96 1478.37 L3021.84 1478.37 L3021.84 1484.25 L3016.96 1484.25 L3016.96 1478.37 Z\" fill=\"#000000\" fill-rule=\"evenodd\" fill-opacity=\"1\" /><path clip-path=\"url(#clip1600)\" d=\"M 0 0 M3027.72 1480.32 L3035.36 1480.32 L3035.36 1453.95 L3027.05 1455.62 L3027.05 1451.36 L3035.31 1449.69 L3039.99 1449.69 L3039.99 1480.32 L3047.63 1480.32 L3047.63 1484.25 L3027.72 1484.25 L3027.72 1480.32 Z\" fill=\"#000000\" fill-rule=\"evenodd\" fill-opacity=\"1\" /><path clip-path=\"url(#clip1600)\" d=\"M 0 0 M3062.7 1452.77 Q3059.09 1452.77 3057.26 1456.34 Q3055.45 1459.88 3055.45 1467.01 Q3055.45 1474.11 3057.26 1477.68 Q3059.09 1481.22 3062.7 1481.22 Q3066.33 1481.22 3068.14 1477.68 Q3069.97 1474.11 3069.97 1467.01 Q3069.97 1459.88 3068.14 1456.34 Q3066.33 1452.77 3062.7 1452.77 M3062.7 1449.07 Q3068.51 1449.07 3071.56 1453.67 Q3074.64 1458.26 3074.64 1467.01 Q3074.64 1475.73 3071.56 1480.34 Q3068.51 1484.92 3062.7 1484.92 Q3056.89 1484.92 3053.81 1480.34 Q3050.75 1475.73 3050.75 1467.01 Q3050.75 1458.26 3053.81 1453.67 Q3056.89 1449.07 3062.7 1449.07 Z\" fill=\"#000000\" fill-rule=\"evenodd\" fill-opacity=\"1\" /><path clip-path=\"url(#clip1600)\" d=\"M 0 0 M3080.2 1478.37 L3085.08 1478.37 L3085.08 1482.35 L3081.28 1489.76 L3078.3 1489.76 L3080.2 1482.35 L3080.2 1478.37 Z\" fill=\"#000000\" fill-rule=\"evenodd\" fill-opacity=\"1\" /><path clip-path=\"url(#clip1600)\" d=\"M 0 0 M3094.18 1480.32 L3110.5 1480.32 L3110.5 1484.25 L3088.55 1484.25 L3088.55 1480.32 Q3091.22 1477.56 3095.8 1472.93 Q3100.41 1468.28 3101.59 1466.94 Q3103.83 1464.41 3104.71 1462.68 Q3105.61 1460.92 3105.61 1459.23 Q3105.61 1456.47 3103.67 1454.74 Q3101.75 1453 3098.65 1453 Q3096.45 1453 3093.99 1453.77 Q3091.56 1454.53 3088.78 1456.08 L3088.78 1451.36 Q3091.61 1450.22 3094.06 1449.65 Q3096.52 1449.07 3098.55 1449.07 Q3103.92 1449.07 3107.12 1451.75 Q3110.31 1454.44 3110.31 1458.93 Q3110.31 1461.06 3109.5 1462.98 Q3108.72 1464.88 3106.61 1467.47 Q3106.03 1468.14 3102.93 1471.36 Q3099.83 1474.55 3094.18 1480.32 Z\" fill=\"#000000\" fill-rule=\"evenodd\" fill-opacity=\"1\" /><path clip-path=\"url(#clip1600)\" d=\"M 0 0 M3125.57 1452.77 Q3121.96 1452.77 3120.13 1456.34 Q3118.32 1459.88 3118.32 1467.01 Q3118.32 1474.11 3120.13 1477.68 Q3121.96 1481.22 3125.57 1481.22 Q3129.2 1481.22 3131.01 1477.68 Q3132.84 1474.11 3132.84 1467.01 Q3132.84 1459.88 3131.01 1456.34 Q3129.2 1452.77 3125.57 1452.77 M3125.57 1449.07 Q3131.38 1449.07 3134.43 1453.67 Q3137.51 1458.26 3137.51 1467.01 Q3137.51 1475.73 3134.43 1480.34 Q3131.38 1484.92 3125.57 1484.92 Q3119.76 1484.92 3116.68 1480.34 Q3113.62 1475.73 3113.62 1467.01 Q3113.62 1458.26 3116.68 1453.67 Q3119.76 1449.07 3125.57 1449.07 Z\" fill=\"#000000\" fill-rule=\"evenodd\" fill-opacity=\"1\" /><path clip-path=\"url(#clip1600)\" d=\"M 0 0 M3172.54 1453.53 L3172.54 1480.41 L3178.19 1480.41 Q3185.34 1480.41 3188.65 1477.17 Q3191.98 1473.93 3191.98 1466.94 Q3191.98 1459.99 3188.65 1456.78 Q3185.34 1453.53 3178.19 1453.53 L3172.54 1453.53 M3167.86 1449.69 L3177.47 1449.69 Q3187.52 1449.69 3192.21 1453.88 Q3196.91 1458.05 3196.91 1466.94 Q3196.91 1475.87 3192.19 1480.06 Q3187.47 1484.25 3177.47 1484.25 L3167.86 1484.25 L3167.86 1449.69 Z\" fill=\"#000000\" fill-rule=\"evenodd\" fill-opacity=\"1\" /><path clip-path=\"url(#clip1600)\" d=\"M 0 0 M3223.56 1470.22 L3223.56 1472.31 L3203.97 1472.31 Q3204.25 1476.71 3206.61 1479.02 Q3209 1481.31 3213.23 1481.31 Q3215.69 1481.31 3217.98 1480.71 Q3220.29 1480.11 3222.56 1478.9 L3222.56 1482.93 Q3220.27 1483.9 3217.86 1484.41 Q3215.46 1484.92 3212.98 1484.92 Q3206.77 1484.92 3203.14 1481.31 Q3199.53 1477.7 3199.53 1471.54 Q3199.53 1465.18 3202.96 1461.45 Q3206.4 1457.7 3212.24 1457.7 Q3217.47 1457.7 3220.5 1461.08 Q3223.56 1464.44 3223.56 1470.22 M3219.3 1468.97 Q3219.25 1465.48 3217.33 1463.4 Q3215.43 1461.31 3212.28 1461.31 Q3208.72 1461.31 3206.57 1463.33 Q3204.44 1465.34 3204.11 1469 L3219.3 1468.97 Z\" fill=\"#000000\" fill-rule=\"evenodd\" fill-opacity=\"1\" /><path clip-path=\"url(#clip1600)\" d=\"M 0 0 M3246.68 1459.32 L3246.68 1463.3 Q3244.88 1462.31 3243.05 1461.82 Q3241.24 1461.31 3239.39 1461.31 Q3235.25 1461.31 3232.96 1463.95 Q3230.66 1466.57 3230.66 1471.31 Q3230.66 1476.06 3232.96 1478.7 Q3235.25 1481.31 3239.39 1481.31 Q3241.24 1481.31 3243.05 1480.83 Q3244.88 1480.32 3246.68 1479.32 L3246.68 1483.26 Q3244.9 1484.09 3242.98 1484.51 Q3241.08 1484.92 3238.93 1484.92 Q3233.07 1484.92 3229.62 1481.24 Q3226.17 1477.56 3226.17 1471.31 Q3226.17 1464.97 3229.65 1461.34 Q3233.14 1457.7 3239.21 1457.7 Q3241.17 1457.7 3243.05 1458.12 Q3244.92 1458.51 3246.68 1459.32 Z\" fill=\"#000000\" fill-rule=\"evenodd\" fill-opacity=\"1\" /><path clip-path=\"url(#clip1600)\" d=\"M 0 0 M3251.75 1478.37 L3256.64 1478.37 L3256.64 1484.25 L3251.75 1484.25 L3251.75 1478.37 Z\" fill=\"#000000\" fill-rule=\"evenodd\" fill-opacity=\"1\" /><path clip-path=\"url(#clip1600)\" d=\"M 0 0 M3262.52 1480.32 L3270.15 1480.32 L3270.15 1453.95 L3261.84 1455.62 L3261.84 1451.36 L3270.11 1449.69 L3274.78 1449.69 L3274.78 1480.32 L3282.42 1480.32 L3282.42 1484.25 L3262.52 1484.25 L3262.52 1480.32 Z\" fill=\"#000000\" fill-rule=\"evenodd\" fill-opacity=\"1\" /><path clip-path=\"url(#clip1600)\" d=\"M 0 0 M3297.49 1467.84 Q3294.16 1467.84 3292.24 1469.62 Q3290.34 1471.4 3290.34 1474.53 Q3290.34 1477.65 3292.24 1479.44 Q3294.16 1481.22 3297.49 1481.22 Q3300.83 1481.22 3302.75 1479.44 Q3304.67 1477.63 3304.67 1474.53 Q3304.67 1471.4 3302.75 1469.62 Q3300.85 1467.84 3297.49 1467.84 M3292.82 1465.85 Q3289.81 1465.11 3288.12 1463.05 Q3286.45 1460.99 3286.45 1458.03 Q3286.45 1453.88 3289.39 1451.47 Q3292.35 1449.07 3297.49 1449.07 Q3302.65 1449.07 3305.59 1451.47 Q3308.53 1453.88 3308.53 1458.03 Q3308.53 1460.99 3306.84 1463.05 Q3305.18 1465.11 3302.19 1465.85 Q3305.57 1466.64 3307.45 1468.93 Q3309.34 1471.22 3309.34 1474.53 Q3309.34 1479.55 3306.27 1482.24 Q3303.21 1484.92 3297.49 1484.92 Q3291.77 1484.92 3288.7 1482.24 Q3285.64 1479.55 3285.64 1474.53 Q3285.64 1471.22 3287.54 1468.93 Q3289.44 1466.64 3292.82 1465.85 M3291.1 1458.46 Q3291.1 1461.15 3292.77 1462.65 Q3294.46 1464.16 3297.49 1464.16 Q3300.5 1464.16 3302.19 1462.65 Q3303.9 1461.15 3303.9 1458.46 Q3303.9 1455.78 3302.19 1454.28 Q3300.5 1452.77 3297.49 1452.77 Q3294.46 1452.77 3292.77 1454.28 Q3291.1 1455.78 3291.1 1458.46 Z\" fill=\"#000000\" fill-rule=\"evenodd\" fill-opacity=\"1\" /><path clip-path=\"url(#clip1600)\" d=\"M 0 0 M3314.9 1478.37 L3319.78 1478.37 L3319.78 1482.35 L3315.99 1489.76 L3313 1489.76 L3314.9 1482.35 L3314.9 1478.37 Z\" fill=\"#000000\" fill-rule=\"evenodd\" fill-opacity=\"1\" /><path clip-path=\"url(#clip1600)\" d=\"M 0 0 M3328.88 1480.32 L3345.2 1480.32 L3345.2 1484.25 L3323.26 1484.25 L3323.26 1480.32 Q3325.92 1477.56 3330.5 1472.93 Q3335.11 1468.28 3336.29 1466.94 Q3338.53 1464.41 3339.41 1462.68 Q3340.32 1460.92 3340.32 1459.23 Q3340.32 1456.47 3338.37 1454.74 Q3336.45 1453 3333.35 1453 Q3331.15 1453 3328.7 1453.77 Q3326.26 1454.53 3323.49 1456.08 L3323.49 1451.36 Q3326.31 1450.22 3328.76 1449.65 Q3331.22 1449.07 3333.26 1449.07 Q3338.63 1449.07 3341.82 1451.75 Q3345.01 1454.44 3345.01 1458.93 Q3345.01 1461.06 3344.2 1462.98 Q3343.42 1464.88 3341.31 1467.47 Q3340.73 1468.14 3337.63 1471.36 Q3334.53 1474.55 3328.88 1480.32 Z\" fill=\"#000000\" fill-rule=\"evenodd\" fill-opacity=\"1\" /><path clip-path=\"url(#clip1600)\" d=\"M 0 0 M3360.27 1452.77 Q3356.66 1452.77 3354.83 1456.34 Q3353.02 1459.88 3353.02 1467.01 Q3353.02 1474.11 3354.83 1477.68 Q3356.66 1481.22 3360.27 1481.22 Q3363.9 1481.22 3365.71 1477.68 Q3367.54 1474.11 3367.54 1467.01 Q3367.54 1459.88 3365.71 1456.34 Q3363.9 1452.77 3360.27 1452.77 M3360.27 1449.07 Q3366.08 1449.07 3369.14 1453.67 Q3372.21 1458.26 3372.21 1467.01 Q3372.21 1475.73 3369.14 1480.34 Q3366.08 1484.92 3360.27 1484.92 Q3354.46 1484.92 3351.38 1480.34 Q3348.33 1475.73 3348.33 1467.01 Q3348.33 1458.26 3351.38 1453.67 Q3354.46 1449.07 3360.27 1449.07 Z\" fill=\"#000000\" fill-rule=\"evenodd\" fill-opacity=\"1\" /><path clip-path=\"url(#clip1600)\" d=\"M 0 0 M3437.22 1453.53 L3437.22 1480.41 L3442.87 1480.41 Q3450.02 1480.41 3453.33 1477.17 Q3456.67 1473.93 3456.67 1466.94 Q3456.67 1459.99 3453.33 1456.78 Q3450.02 1453.53 3442.87 1453.53 L3437.22 1453.53 M3432.55 1449.69 L3442.15 1449.69 Q3452.2 1449.69 3456.9 1453.88 Q3461.6 1458.05 3461.6 1466.94 Q3461.6 1475.87 3456.87 1480.06 Q3452.15 1484.25 3442.15 1484.25 L3432.55 1484.25 L3432.55 1449.69 Z\" fill=\"#000000\" fill-rule=\"evenodd\" fill-opacity=\"1\" /><path clip-path=\"url(#clip1600)\" d=\"M 0 0 M3488.24 1470.22 L3488.24 1472.31 L3468.66 1472.31 Q3468.93 1476.71 3471.3 1479.02 Q3473.68 1481.31 3477.92 1481.31 Q3480.37 1481.31 3482.66 1480.71 Q3484.98 1480.11 3487.24 1478.9 L3487.24 1482.93 Q3484.95 1483.9 3482.55 1484.41 Q3480.14 1484.92 3477.66 1484.92 Q3471.46 1484.92 3467.82 1481.31 Q3464.21 1477.7 3464.21 1471.54 Q3464.21 1465.18 3467.64 1461.45 Q3471.09 1457.7 3476.92 1457.7 Q3482.15 1457.7 3485.18 1461.08 Q3488.24 1464.44 3488.24 1470.22 M3483.98 1468.97 Q3483.93 1465.48 3482.01 1463.4 Q3480.11 1461.31 3476.97 1461.31 Q3473.4 1461.31 3471.25 1463.33 Q3469.12 1465.34 3468.8 1469 L3483.98 1468.97 Z\" fill=\"#000000\" fill-rule=\"evenodd\" fill-opacity=\"1\" /><path clip-path=\"url(#clip1600)\" d=\"M 0 0 M3511.36 1459.32 L3511.36 1463.3 Q3509.56 1462.31 3507.73 1461.82 Q3505.92 1461.31 3504.07 1461.31 Q3499.93 1461.31 3497.64 1463.95 Q3495.35 1466.57 3495.35 1471.31 Q3495.35 1476.06 3497.64 1478.7 Q3499.93 1481.31 3504.07 1481.31 Q3505.92 1481.31 3507.73 1480.83 Q3509.56 1480.32 3511.36 1479.32 L3511.36 1483.26 Q3509.58 1484.09 3507.66 1484.51 Q3505.76 1484.92 3503.61 1484.92 Q3497.75 1484.92 3494.3 1481.24 Q3490.86 1477.56 3490.86 1471.31 Q3490.86 1464.97 3494.33 1461.34 Q3497.82 1457.7 3503.89 1457.7 Q3505.86 1457.7 3507.73 1458.12 Q3509.61 1458.51 3511.36 1459.32 Z\" fill=\"#000000\" fill-rule=\"evenodd\" fill-opacity=\"1\" /><path clip-path=\"url(#clip1600)\" d=\"M 0 0 M3516.43 1478.37 L3521.32 1478.37 L3521.32 1484.25 L3516.43 1484.25 L3516.43 1478.37 Z\" fill=\"#000000\" fill-rule=\"evenodd\" fill-opacity=\"1\" /><path clip-path=\"url(#clip1600)\" d=\"M 0 0 M3530.42 1480.32 L3546.73 1480.32 L3546.73 1484.25 L3524.79 1484.25 L3524.79 1480.32 Q3527.45 1477.56 3532.04 1472.93 Q3536.64 1468.28 3537.82 1466.94 Q3540.07 1464.41 3540.95 1462.68 Q3541.85 1460.92 3541.85 1459.23 Q3541.85 1456.47 3539.91 1454.74 Q3537.98 1453 3534.88 1453 Q3532.68 1453 3530.23 1453.77 Q3527.8 1454.53 3525.02 1456.08 L3525.02 1451.36 Q3527.85 1450.22 3530.3 1449.65 Q3532.75 1449.07 3534.79 1449.07 Q3540.16 1449.07 3543.36 1451.75 Q3546.55 1454.44 3546.55 1458.93 Q3546.55 1461.06 3545.74 1462.98 Q3544.95 1464.88 3542.85 1467.47 Q3542.27 1468.14 3539.17 1471.36 Q3536.06 1474.55 3530.42 1480.32 Z\" fill=\"#000000\" fill-rule=\"evenodd\" fill-opacity=\"1\" /><path clip-path=\"url(#clip1600)\" d=\"M 0 0 M3550.62 1449.69 L3572.85 1449.69 L3572.85 1451.68 L3560.3 1484.25 L3555.42 1484.25 L3567.22 1453.63 L3550.62 1453.63 L3550.62 1449.69 Z\" fill=\"#000000\" fill-rule=\"evenodd\" fill-opacity=\"1\" /><path clip-path=\"url(#clip1600)\" d=\"M 0 0 M3578.4 1478.37 L3583.29 1478.37 L3583.29 1482.35 L3579.49 1489.76 L3576.5 1489.76 L3578.4 1482.35 L3578.4 1478.37 Z\" fill=\"#000000\" fill-rule=\"evenodd\" fill-opacity=\"1\" /><path clip-path=\"url(#clip1600)\" d=\"M 0 0 M3592.38 1480.32 L3608.7 1480.32 L3608.7 1484.25 L3586.76 1484.25 L3586.76 1480.32 Q3589.42 1477.56 3594 1472.93 Q3598.61 1468.28 3599.79 1466.94 Q3602.04 1464.41 3602.92 1462.68 Q3603.82 1460.92 3603.82 1459.23 Q3603.82 1456.47 3601.87 1454.74 Q3599.95 1453 3596.85 1453 Q3594.65 1453 3592.2 1453.77 Q3589.77 1454.53 3586.99 1456.08 L3586.99 1451.36 Q3589.81 1450.22 3592.27 1449.65 Q3594.72 1449.07 3596.76 1449.07 Q3602.13 1449.07 3605.32 1451.75 Q3608.52 1454.44 3608.52 1458.93 Q3608.52 1461.06 3607.71 1462.98 Q3606.92 1464.88 3604.81 1467.47 Q3604.23 1468.14 3601.13 1471.36 Q3598.03 1474.55 3592.38 1480.32 Z\" fill=\"#000000\" fill-rule=\"evenodd\" fill-opacity=\"1\" /><path clip-path=\"url(#clip1600)\" d=\"M 0 0 M3623.77 1452.77 Q3620.16 1452.77 3618.33 1456.34 Q3616.53 1459.88 3616.53 1467.01 Q3616.53 1474.11 3618.33 1477.68 Q3620.16 1481.22 3623.77 1481.22 Q3627.41 1481.22 3629.21 1477.68 Q3631.04 1474.11 3631.04 1467.01 Q3631.04 1459.88 3629.21 1456.34 Q3627.41 1452.77 3623.77 1452.77 M3623.77 1449.07 Q3629.58 1449.07 3632.64 1453.67 Q3635.72 1458.26 3635.72 1467.01 Q3635.72 1475.73 3632.64 1480.34 Q3629.58 1484.92 3623.77 1484.92 Q3617.96 1484.92 3614.88 1480.34 Q3611.83 1475.73 3611.83 1467.01 Q3611.83 1458.26 3614.88 1453.67 Q3617.96 1449.07 3623.77 1449.07 Z\" fill=\"#000000\" fill-rule=\"evenodd\" fill-opacity=\"1\" /><path clip-path=\"url(#clip1600)\" d=\"M 0 0 M3695.16 1449.69 L3699.84 1449.69 L3699.84 1481.84 Q3699.84 1488.09 3697.46 1490.92 Q3695.1 1493.74 3689.84 1493.74 L3688.06 1493.74 L3688.06 1489.81 L3689.52 1489.81 Q3692.62 1489.81 3693.89 1488.07 Q3695.16 1486.34 3695.16 1481.84 L3695.16 1449.69 Z\" fill=\"#000000\" fill-rule=\"evenodd\" fill-opacity=\"1\" /><path clip-path=\"url(#clip1600)\" d=\"M 0 0 M3716.09 1471.22 Q3710.93 1471.22 3708.94 1472.4 Q3706.95 1473.58 3706.95 1476.43 Q3706.95 1478.7 3708.43 1480.04 Q3709.93 1481.36 3712.5 1481.36 Q3716.04 1481.36 3718.17 1478.86 Q3720.33 1476.34 3720.33 1472.17 L3720.33 1471.22 L3716.09 1471.22 M3724.59 1469.46 L3724.59 1484.25 L3720.33 1484.25 L3720.33 1480.32 Q3718.87 1482.68 3716.69 1483.81 Q3714.52 1484.92 3711.37 1484.92 Q3707.39 1484.92 3705.03 1482.7 Q3702.69 1480.46 3702.69 1476.71 Q3702.69 1472.33 3705.6 1470.11 Q3708.54 1467.89 3714.35 1467.89 L3720.33 1467.89 L3720.33 1467.47 Q3720.33 1464.53 3718.38 1462.93 Q3716.46 1461.31 3712.97 1461.31 Q3710.74 1461.31 3708.64 1461.84 Q3706.53 1462.38 3704.59 1463.44 L3704.59 1459.51 Q3706.92 1458.6 3709.12 1458.16 Q3711.32 1457.7 3713.41 1457.7 Q3719.03 1457.7 3721.81 1460.62 Q3724.59 1463.53 3724.59 1469.46 Z\" fill=\"#000000\" fill-rule=\"evenodd\" fill-opacity=\"1\" /><path clip-path=\"url(#clip1600)\" d=\"M 0 0 M3750.6 1468.6 L3750.6 1484.25 L3746.34 1484.25 L3746.34 1468.74 Q3746.34 1465.06 3744.91 1463.23 Q3743.47 1461.4 3740.6 1461.4 Q3737.16 1461.4 3735.16 1463.6 Q3733.17 1465.8 3733.17 1469.6 L3733.17 1484.25 L3728.89 1484.25 L3728.89 1458.33 L3733.17 1458.33 L3733.17 1462.35 Q3734.7 1460.02 3736.76 1458.86 Q3738.85 1457.7 3741.55 1457.7 Q3746.02 1457.7 3748.31 1460.48 Q3750.6 1463.23 3750.6 1468.6 Z\" fill=\"#000000\" fill-rule=\"evenodd\" fill-opacity=\"1\" /><path clip-path=\"url(#clip1600)\" d=\"M 0 0 M3755.67 1478.37 L3760.56 1478.37 L3760.56 1484.25 L3755.67 1484.25 L3755.67 1478.37 Z\" fill=\"#000000\" fill-rule=\"evenodd\" fill-opacity=\"1\" /><path clip-path=\"url(#clip1600)\" d=\"M 0 0 M3778.47 1453.77 L3766.67 1472.21 L3778.47 1472.21 L3778.47 1453.77 M3777.25 1449.69 L3783.13 1449.69 L3783.13 1472.21 L3788.06 1472.21 L3788.06 1476.1 L3783.13 1476.1 L3783.13 1484.25 L3778.47 1484.25 L3778.47 1476.1 L3762.87 1476.1 L3762.87 1471.59 L3777.25 1449.69 Z\" fill=\"#000000\" fill-rule=\"evenodd\" fill-opacity=\"1\" /><path clip-path=\"url(#clip1600)\" d=\"M 0 0 M3793.61 1478.37 L3798.5 1478.37 L3798.5 1482.35 L3794.7 1489.76 L3791.72 1489.76 L3793.61 1482.35 L3793.61 1478.37 Z\" fill=\"#000000\" fill-rule=\"evenodd\" fill-opacity=\"1\" /><path clip-path=\"url(#clip1600)\" d=\"M 0 0 M3807.59 1480.32 L3823.91 1480.32 L3823.91 1484.25 L3801.97 1484.25 L3801.97 1480.32 Q3804.63 1477.56 3809.22 1472.93 Q3813.82 1468.28 3815 1466.94 Q3817.25 1464.41 3818.13 1462.68 Q3819.03 1460.92 3819.03 1459.23 Q3819.03 1456.47 3817.09 1454.74 Q3815.16 1453 3812.06 1453 Q3809.86 1453 3807.41 1453.77 Q3804.98 1454.53 3802.2 1456.08 L3802.2 1451.36 Q3805.03 1450.22 3807.48 1449.65 Q3809.93 1449.07 3811.97 1449.07 Q3817.34 1449.07 3820.53 1451.75 Q3823.73 1454.44 3823.73 1458.93 Q3823.73 1461.06 3822.92 1462.98 Q3822.13 1464.88 3820.03 1467.47 Q3819.45 1468.14 3816.34 1471.36 Q3813.24 1474.55 3807.59 1480.32 Z\" fill=\"#000000\" fill-rule=\"evenodd\" fill-opacity=\"1\" /><path clip-path=\"url(#clip1600)\" d=\"M 0 0 M3829.79 1480.32 L3837.43 1480.32 L3837.43 1453.95 L3829.12 1455.62 L3829.12 1451.36 L3837.39 1449.69 L3842.06 1449.69 L3842.06 1480.32 L3849.7 1480.32 L3849.7 1484.25 L3829.79 1484.25 L3829.79 1480.32 Z\" fill=\"#000000\" fill-rule=\"evenodd\" fill-opacity=\"1\" /><path clip-path=\"url(#clip1600)\" d=\"M 0 0 M119.926 1337.21 L136.245 1337.21 L136.245 1341.14 L114.301 1341.14 L114.301 1337.21 Q116.963 1334.45 121.546 1329.82 Q126.153 1325.17 127.333 1323.83 Q129.579 1321.31 130.458 1319.57 Q131.361 1317.81 131.361 1316.12 Q131.361 1313.37 129.417 1311.63 Q127.495 1309.89 124.393 1309.89 Q122.194 1309.89 119.741 1310.66 Q117.31 1311.42 114.532 1312.97 L114.532 1308.25 Q117.356 1307.12 119.81 1306.54 Q122.264 1305.96 124.301 1305.96 Q129.671 1305.96 132.866 1308.64 Q136.06 1311.33 136.06 1315.82 Q136.06 1317.95 135.25 1319.87 Q134.463 1321.77 132.356 1324.36 Q131.778 1325.03 128.676 1328.25 Q125.574 1331.44 119.926 1337.21 Z\" fill=\"#000000\" fill-rule=\"evenodd\" fill-opacity=\"1\" /><path clip-path=\"url(#clip1600)\" d=\"M 0 0 M151.315 1309.66 Q147.703 1309.66 145.875 1313.23 Q144.069 1316.77 144.069 1323.9 Q144.069 1331 145.875 1334.57 Q147.703 1338.11 151.315 1338.11 Q154.949 1338.11 156.754 1334.57 Q158.583 1331 158.583 1323.9 Q158.583 1316.77 156.754 1313.23 Q154.949 1309.66 151.315 1309.66 M151.315 1305.96 Q157.125 1305.96 160.18 1310.57 Q163.259 1315.15 163.259 1323.9 Q163.259 1332.63 160.18 1337.23 Q157.125 1341.82 151.315 1341.82 Q145.504 1341.82 142.426 1337.23 Q139.37 1332.63 139.37 1323.9 Q139.37 1315.15 142.426 1310.57 Q145.504 1305.96 151.315 1305.96 Z\" fill=\"#000000\" fill-rule=\"evenodd\" fill-opacity=\"1\" /><path clip-path=\"url(#clip1600)\" d=\"M 0 0 M129.116 1020.64 Q132.472 1021.35 134.347 1023.62 Q136.245 1025.89 136.245 1029.22 Q136.245 1034.34 132.727 1037.14 Q129.208 1039.94 122.727 1039.94 Q120.551 1039.94 118.236 1039.5 Q115.944 1039.09 113.491 1038.23 L113.491 1033.72 Q115.435 1034.85 117.75 1035.43 Q120.065 1036.01 122.588 1036.01 Q126.986 1036.01 129.278 1034.27 Q131.592 1032.53 131.592 1029.22 Q131.592 1026.17 129.44 1024.46 Q127.31 1022.72 123.491 1022.72 L119.463 1022.72 L119.463 1018.88 L123.676 1018.88 Q127.125 1018.88 128.954 1017.51 Q130.782 1016.12 130.782 1013.53 Q130.782 1010.87 128.884 1009.46 Q127.009 1008.02 123.491 1008.02 Q121.569 1008.02 119.37 1008.44 Q117.171 1008.85 114.532 1009.73 L114.532 1005.57 Q117.194 1004.83 119.509 1004.46 Q121.847 1004.09 123.907 1004.09 Q129.231 1004.09 132.333 1006.52 Q135.435 1008.92 135.435 1013.04 Q135.435 1015.91 133.792 1017.91 Q132.148 1019.87 129.116 1020.64 Z\" fill=\"#000000\" fill-rule=\"evenodd\" fill-opacity=\"1\" /><path clip-path=\"url(#clip1600)\" d=\"M 0 0 M151.315 1007.79 Q147.703 1007.79 145.875 1011.35 Q144.069 1014.9 144.069 1022.03 Q144.069 1029.13 145.875 1032.7 Q147.703 1036.24 151.315 1036.24 Q154.949 1036.24 156.754 1032.7 Q158.583 1029.13 158.583 1022.03 Q158.583 1014.9 156.754 1011.35 Q154.949 1007.79 151.315 1007.79 M151.315 1004.09 Q157.125 1004.09 160.18 1008.69 Q163.259 1013.28 163.259 1022.03 Q163.259 1030.75 160.18 1035.36 Q157.125 1039.94 151.315 1039.94 Q145.504 1039.94 142.426 1035.36 Q139.37 1030.75 139.37 1022.03 Q139.37 1013.28 142.426 1008.69 Q145.504 1004.09 151.315 1004.09 Z\" fill=\"#000000\" fill-rule=\"evenodd\" fill-opacity=\"1\" /><path clip-path=\"url(#clip1600)\" d=\"M 0 0 M126.662 706.912 L114.856 725.361 L126.662 725.361 L126.662 706.912 M125.435 702.838 L131.315 702.838 L131.315 725.361 L136.245 725.361 L136.245 729.25 L131.315 729.25 L131.315 737.398 L126.662 737.398 L126.662 729.25 L111.06 729.25 L111.06 724.736 L125.435 702.838 Z\" fill=\"#000000\" fill-rule=\"evenodd\" fill-opacity=\"1\" /><path clip-path=\"url(#clip1600)\" d=\"M 0 0 M151.315 705.917 Q147.703 705.917 145.875 709.482 Q144.069 713.023 144.069 720.153 Q144.069 727.259 145.875 730.824 Q147.703 734.366 151.315 734.366 Q154.949 734.366 156.754 730.824 Q158.583 727.259 158.583 720.153 Q158.583 713.023 156.754 709.482 Q154.949 705.917 151.315 705.917 M151.315 702.213 Q157.125 702.213 160.18 706.82 Q163.259 711.403 163.259 720.153 Q163.259 728.88 160.18 733.486 Q157.125 738.07 151.315 738.07 Q145.504 738.07 142.426 733.486 Q139.37 728.88 139.37 720.153 Q139.37 711.403 142.426 706.82 Q145.504 702.213 151.315 702.213 Z\" fill=\"#000000\" fill-rule=\"evenodd\" fill-opacity=\"1\" /><path clip-path=\"url(#clip1600)\" d=\"M 0 0 M115.343 400.966 L133.699 400.966 L133.699 404.901 L119.625 404.901 L119.625 413.373 Q120.643 413.026 121.662 412.864 Q122.68 412.679 123.699 412.679 Q129.486 412.679 132.866 415.85 Q136.245 419.021 136.245 424.438 Q136.245 430.016 132.773 433.118 Q129.301 436.197 122.981 436.197 Q120.805 436.197 118.537 435.827 Q116.292 435.456 113.884 434.715 L113.884 430.016 Q115.968 431.151 118.19 431.706 Q120.412 432.262 122.889 432.262 Q126.893 432.262 129.231 430.155 Q131.569 428.049 131.569 424.438 Q131.569 420.827 129.231 418.72 Q126.893 416.614 122.889 416.614 Q121.014 416.614 119.139 417.03 Q117.287 417.447 115.343 418.327 L115.343 400.966 Z\" fill=\"#000000\" fill-rule=\"evenodd\" fill-opacity=\"1\" /><path clip-path=\"url(#clip1600)\" d=\"M 0 0 M151.315 404.044 Q147.703 404.044 145.875 407.609 Q144.069 411.151 144.069 418.28 Q144.069 425.387 145.875 428.952 Q147.703 432.493 151.315 432.493 Q154.949 432.493 156.754 428.952 Q158.583 425.387 158.583 418.28 Q158.583 411.151 156.754 407.609 Q154.949 404.044 151.315 404.044 M151.315 400.341 Q157.125 400.341 160.18 404.947 Q163.259 409.53 163.259 418.28 Q163.259 427.007 160.18 431.614 Q157.125 436.197 151.315 436.197 Q145.504 436.197 142.426 431.614 Q139.37 427.007 139.37 418.28 Q139.37 409.53 142.426 404.947 Q145.504 400.341 151.315 400.341 Z\" fill=\"#000000\" fill-rule=\"evenodd\" fill-opacity=\"1\" /><path clip-path=\"url(#clip1600)\" d=\"M 0 0 M124.717 114.51 Q121.569 114.51 119.718 116.662 Q117.889 118.815 117.889 122.565 Q117.889 126.292 119.718 128.468 Q121.569 130.621 124.717 130.621 Q127.866 130.621 129.694 128.468 Q131.546 126.292 131.546 122.565 Q131.546 118.815 129.694 116.662 Q127.866 114.51 124.717 114.51 M134 99.8568 L134 104.116 Q132.241 103.283 130.435 102.843 Q128.653 102.403 126.893 102.403 Q122.264 102.403 119.81 105.528 Q117.38 108.653 117.032 114.972 Q118.398 112.959 120.458 111.894 Q122.518 110.806 124.995 110.806 Q130.204 110.806 133.213 113.977 Q136.245 117.125 136.245 122.565 Q136.245 127.889 133.097 131.107 Q129.949 134.324 124.717 134.324 Q118.722 134.324 115.551 129.741 Q112.38 125.134 112.38 116.408 Q112.38 108.213 116.268 103.352 Q120.157 98.4679 126.708 98.4679 Q128.467 98.4679 130.25 98.8152 Q132.055 99.1624 134 99.8568 Z\" fill=\"#000000\" fill-rule=\"evenodd\" fill-opacity=\"1\" /><path clip-path=\"url(#clip1600)\" d=\"M 0 0 M151.315 102.172 Q147.703 102.172 145.875 105.736 Q144.069 109.278 144.069 116.408 Q144.069 123.514 145.875 127.079 Q147.703 130.621 151.315 130.621 Q154.949 130.621 156.754 127.079 Q158.583 123.514 158.583 116.408 Q158.583 109.278 156.754 105.736 Q154.949 102.172 151.315 102.172 M151.315 98.4679 Q157.125 98.4679 160.18 103.074 Q163.259 107.658 163.259 116.408 Q163.259 125.134 160.18 129.741 Q157.125 134.324 151.315 134.324 Q145.504 134.324 142.426 129.741 Q139.37 125.134 139.37 116.408 Q139.37 107.658 142.426 103.074 Q145.504 98.4679 151.315 98.4679 Z\" fill=\"#000000\" fill-rule=\"evenodd\" fill-opacity=\"1\" /><path clip-path=\"url(#clip1600)\" d=\"M 0 0 M1983.37 1525.47 L1983.37 1535.6 L1995.43 1535.6 L1995.43 1540.15 L1983.37 1540.15 L1983.37 1559.5 Q1983.37 1563.86 1984.55 1565.1 Q1985.76 1566.34 1989.42 1566.34 L1995.43 1566.34 L1995.43 1571.24 L1989.42 1571.24 Q1982.64 1571.24 1980.06 1568.73 Q1977.48 1566.18 1977.48 1559.5 L1977.48 1540.15 L1973.19 1540.15 L1973.19 1535.6 L1977.48 1535.6 L1977.48 1525.47 L1983.37 1525.47 Z\" fill=\"#000000\" fill-rule=\"evenodd\" fill-opacity=\"1\" /><path clip-path=\"url(#clip1600)\" d=\"M 0 0 M2001.58 1535.6 L2007.43 1535.6 L2007.43 1571.24 L2001.58 1571.24 L2001.58 1535.6 M2001.58 1521.72 L2007.43 1521.72 L2007.43 1529.13 L2001.58 1529.13 L2001.58 1521.72 Z\" fill=\"#000000\" fill-rule=\"evenodd\" fill-opacity=\"1\" /><path clip-path=\"url(#clip1600)\" d=\"M 0 0 M2041.33 1542.44 Q2043.53 1538.49 2046.58 1536.61 Q2049.64 1534.74 2053.78 1534.74 Q2059.35 1534.74 2062.37 1538.65 Q2065.39 1542.53 2065.39 1549.73 L2065.39 1571.24 L2059.51 1571.24 L2059.51 1549.92 Q2059.51 1544.79 2057.69 1542.31 Q2055.88 1539.83 2052.15 1539.83 Q2047.6 1539.83 2044.96 1542.85 Q2042.32 1545.88 2042.32 1551.1 L2042.32 1571.24 L2036.43 1571.24 L2036.43 1549.92 Q2036.43 1544.76 2034.62 1542.31 Q2032.8 1539.83 2029.01 1539.83 Q2024.53 1539.83 2021.88 1542.88 Q2019.24 1545.91 2019.24 1551.1 L2019.24 1571.24 L2013.35 1571.24 L2013.35 1535.6 L2019.24 1535.6 L2019.24 1541.13 Q2021.25 1537.86 2024.05 1536.3 Q2026.85 1534.74 2030.7 1534.74 Q2034.58 1534.74 2037.29 1536.71 Q2040.03 1538.68 2041.33 1542.44 Z\" fill=\"#000000\" fill-rule=\"evenodd\" fill-opacity=\"1\" /><path clip-path=\"url(#clip1600)\" d=\"M 0 0 M2102.03 1551.96 L2102.03 1554.82 L2075.1 1554.82 Q2075.48 1560.87 2078.73 1564.05 Q2082.01 1567.2 2087.83 1567.2 Q2091.21 1567.2 2094.36 1566.37 Q2097.54 1565.55 2100.66 1563.89 L2100.66 1569.43 Q2097.51 1570.77 2094.2 1571.47 Q2090.89 1572.17 2087.48 1572.17 Q2078.95 1572.17 2073.96 1567.2 Q2068.99 1562.24 2068.99 1553.77 Q2068.99 1545.02 2073.7 1539.89 Q2078.44 1534.74 2086.46 1534.74 Q2093.66 1534.74 2097.83 1539.38 Q2102.03 1544 2102.03 1551.96 M2096.17 1550.24 Q2096.11 1545.43 2093.47 1542.57 Q2090.86 1539.7 2086.53 1539.7 Q2081.63 1539.7 2078.67 1542.47 Q2075.74 1545.24 2075.29 1550.27 L2096.17 1550.24 Z\" fill=\"#000000\" fill-rule=\"evenodd\" fill-opacity=\"1\" /><path clip-path=\"url(#clip1600)\" d=\"M 0 0 M21.9562 811.585 L21.9562 805.378 L51.875 794.238 L21.9562 783.098 L21.9562 776.891 L57.6042 790.259 L57.6042 798.217 L21.9562 811.585 Z\" fill=\"#000000\" fill-rule=\"evenodd\" fill-opacity=\"1\" /><path clip-path=\"url(#clip1600)\" d=\"M 0 0 M39.6847 754.548 Q39.6847 761.646 41.3079 764.383 Q42.9312 767.12 46.8461 767.12 Q49.9653 767.12 51.8114 765.083 Q53.6256 763.014 53.6256 759.481 Q53.6256 754.611 50.1881 751.683 Q46.7188 748.723 40.9897 748.723 L39.6847 748.723 L39.6847 754.548 M37.2657 742.867 L57.6042 742.867 L57.6042 748.723 L52.1933 748.723 Q55.4398 750.728 56.9994 753.72 Q58.5272 756.712 58.5272 761.041 Q58.5272 766.515 55.4716 769.762 Q52.3843 772.977 47.2281 772.977 Q41.2125 772.977 38.1569 768.966 Q35.1014 764.924 35.1014 756.935 L35.1014 748.723 L34.5285 748.723 Q30.4862 748.723 28.2901 751.397 Q26.0621 754.039 26.0621 758.845 Q26.0621 761.9 26.7941 764.797 Q27.5262 767.693 28.9903 770.367 L23.5795 770.367 Q22.3381 767.152 21.7334 764.128 Q21.0968 761.104 21.0968 758.24 Q21.0968 750.506 25.1072 746.686 Q29.1176 742.867 37.2657 742.867 Z\" fill=\"#000000\" fill-rule=\"evenodd\" fill-opacity=\"1\" /><path clip-path=\"url(#clip1600)\" d=\"M 0 0 M8.07896 736.724 L8.07896 730.867 L57.6042 730.867 L57.6042 736.724 L8.07896 736.724 Z\" fill=\"#000000\" fill-rule=\"evenodd\" fill-opacity=\"1\" /><path clip-path=\"url(#clip1600)\" d=\"M 0 0 M43.5359 725.329 L21.9562 725.329 L21.9562 719.473 L43.3131 719.473 Q48.3739 719.473 50.9202 717.499 Q53.4346 715.526 53.4346 711.579 Q53.4346 706.837 50.4109 704.1 Q47.3872 701.33 42.1673 701.33 L21.9562 701.33 L21.9562 695.474 L57.6042 695.474 L57.6042 701.33 L52.1296 701.33 Q55.3762 703.463 56.9676 706.296 Q58.5272 709.097 58.5272 712.821 Q58.5272 718.964 54.7078 722.146 Q50.8883 725.329 43.5359 725.329 M21.0968 710.593 L21.0968 710.593 Z\" fill=\"#000000\" fill-rule=\"evenodd\" fill-opacity=\"1\" /><path clip-path=\"url(#clip1600)\" d=\"M 0 0 M38.3161 658.839 L41.1806 658.839 L41.1806 685.766 Q47.2281 685.384 50.4109 682.138 Q53.5619 678.86 53.5619 673.035 Q53.5619 669.661 52.7344 666.51 Q51.9069 663.327 50.2518 660.208 L55.7899 660.208 Q57.1267 663.359 57.827 666.669 Q58.5272 669.979 58.5272 673.385 Q58.5272 681.915 53.5619 686.912 Q48.5967 691.877 40.1303 691.877 Q31.3774 691.877 26.2531 687.167 Q21.0968 682.424 21.0968 674.404 Q21.0968 667.21 25.7438 663.041 Q30.3589 658.839 38.3161 658.839 M36.5973 664.696 Q31.7912 664.76 28.9266 667.401 Q26.0621 670.011 26.0621 674.34 Q26.0621 679.241 28.8312 682.202 Q31.6002 685.13 36.6292 685.575 L36.5973 664.696 Z\" fill=\"#000000\" fill-rule=\"evenodd\" fill-opacity=\"1\" /><polyline clip-path=\"url(#clip1602)\" style=\"stroke:#009af9; stroke-width:4; stroke-opacity:1; fill:none\" points=\"\n",
       "  306.335,1384.24 335.679,1354.05 365.022,1354.05 394.366,1384.24 423.71,1384.24 453.053,1384.24 482.397,1354.05 511.74,1323.86 541.084,1323.86 570.428,1354.05 \n",
       "  599.771,1323.86 629.115,1323.86 658.458,1323.86 687.802,1354.05 717.146,1354.05 746.489,1354.05 775.833,1384.24 805.176,1354.05 834.52,1354.05 863.864,1354.05 \n",
       "  893.207,1354.05 922.551,1293.68 951.894,1233.3 981.238,1263.49 1010.58,1263.49 1039.93,1263.49 1069.27,1263.49 1098.61,1263.49 1127.96,1263.49 1157.3,1263.49 \n",
       "  1186.64,1263.49 1215.99,1263.49 1245.33,1263.49 1274.67,1263.49 1304.02,1263.49 1333.36,1263.49 1362.7,1112.55 1392.05,1052.18 1421.39,1052.18 1450.74,1052.18 \n",
       "  1480.08,1052.18 1509.42,1052.18 1538.77,1082.37 1568.11,1082.37 1597.45,1082.37 1626.8,1112.55 1656.14,1112.55 1685.48,1112.55 1714.83,1112.55 1744.17,1082.37 \n",
       "  1773.52,1082.37 1802.86,961.616 1832.2,961.616 1861.55,961.616 1890.89,961.616 1920.23,871.055 1949.58,840.867 1978.92,720.118 2008.26,659.744 2037.61,629.557 \n",
       "  2066.95,629.557 2096.29,629.557 2125.64,569.182 2154.98,569.182 2184.33,629.557 2213.67,448.433 2243.01,297.497 2272.36,297.497 2301.7,297.497 2331.04,538.995 \n",
       "  2360.39,448.433 2389.73,508.807 2419.07,448.433 2448.42,388.058 2477.76,388.058 2507.1,388.058 2536.45,237.122 2565.79,206.935 2595.14,297.497 2624.48,297.497 \n",
       "  2653.82,237.122 2683.17,237.122 2712.51,237.122 2741.85,297.497 2771.2,357.871 2800.54,478.62 2829.88,448.433 2859.23,569.182 2888.57,569.182 2917.92,569.182 \n",
       "  2947.26,569.182 2976.6,569.182 3005.95,569.182 3035.29,569.182 3064.63,569.182 3093.98,569.182 3123.32,569.182 3152.66,569.182 3182.01,569.182 3211.35,569.182 \n",
       "  3240.69,569.182 3270.04,569.182 3299.38,569.182 3328.73,569.182 3358.07,569.182 3387.41,569.182 3416.76,569.182 3446.1,569.182 3475.44,569.182 3504.79,569.182 \n",
       "  3534.13,569.182 3563.47,569.182 3592.82,569.182 3622.16,569.182 3651.51,569.182 3680.85,569.182 3710.19,569.182 3739.54,569.182 3768.88,569.182 \n",
       "  \"/>\n",
       "<polyline clip-path=\"url(#clip1602)\" style=\"stroke:#e26f46; stroke-width:4; stroke-opacity:1; fill:none\" points=\"\n",
       "  306.335,1354.05 335.679,1354.05 365.022,1354.05 394.366,1354.05 423.71,1354.05 453.053,1354.05 482.397,1354.05 511.74,1354.05 541.084,1354.05 570.428,1354.05 \n",
       "  599.771,1354.05 629.115,1323.86 658.458,1323.86 687.802,1354.05 717.146,1323.86 746.489,1323.86 775.833,1354.05 805.176,1354.05 834.52,1354.05 863.864,1354.05 \n",
       "  893.207,1323.86 922.551,1323.86 951.894,1293.68 981.238,1293.68 1010.58,1293.68 1039.93,1263.49 1069.27,1263.49 1098.61,1263.49 1127.96,1233.3 1157.3,1233.3 \n",
       "  1186.64,1233.3 1215.99,1233.3 1245.33,1233.3 1274.67,1203.11 1304.02,1172.93 1333.36,1172.93 1362.7,1142.74 1392.05,1142.74 1421.39,1112.55 1450.74,1112.55 \n",
       "  1480.08,1082.37 1509.42,1082.37 1538.77,1082.37 1568.11,1082.37 1597.45,1082.37 1626.8,1082.37 1656.14,1082.37 1685.48,1082.37 1714.83,1052.18 1744.17,1052.18 \n",
       "  1773.52,1052.18 1802.86,991.804 1832.2,961.616 1861.55,931.429 1890.89,901.242 1920.23,840.867 1949.58,810.68 1978.92,750.306 2008.26,720.118 2037.61,659.744 \n",
       "  2066.95,629.557 2096.29,599.369 2125.64,569.182 2154.98,569.182 2184.33,538.995 2213.67,508.807 2243.01,478.62 2272.36,448.433 2301.7,418.246 2331.04,388.058 \n",
       "  2360.39,388.058 2389.73,388.058 2419.07,388.058 2448.42,388.058 2477.76,388.058 2507.1,357.871 2536.45,327.684 2565.79,327.684 2595.14,297.497 2624.48,297.497 \n",
       "  2653.82,267.309 2683.17,267.309 2712.51,267.309 2741.85,237.122 2771.2,237.122 2800.54,237.122 2829.88,237.122 2859.23,237.122 2888.57,267.309 2917.92,267.309 \n",
       "  2947.26,267.309 2976.6,267.309 3005.95,237.122 3035.29,237.122 3064.63,237.122 3093.98,237.122 3123.32,206.935 3152.66,206.935 3182.01,206.935 3211.35,176.747 \n",
       "  3240.69,176.747 3270.04,176.747 3299.38,146.56 3328.73,146.56 3358.07,146.56 3387.41,116.373 3416.76,116.373 3446.1,116.373 3475.44,86.1857 3504.79,86.1857 \n",
       "  3534.13,86.1857 3563.47,86.1857 3592.82,86.1857 3622.16,86.1857 3651.51,116.373 3680.85,116.373 3710.19,116.373 3739.54,116.373 3768.88,146.56 \n",
       "  \"/>\n",
       "<polyline clip-path=\"url(#clip1602)\" style=\"stroke:#3da44d; stroke-width:4; stroke-opacity:1; fill:none\" points=\"\n",
       "  2932.59,2799.12 2932.59,-1328.69 \n",
       "  \"/>\n",
       "<path clip-path=\"url(#clip1600)\" d=\"\n",
       "M3044.85 1187.98 L3755.16 1187.98 L3755.16 946.06 L3044.85 946.06  Z\n",
       "  \" fill=\"#ffffff\" fill-rule=\"evenodd\" fill-opacity=\"1\"/>\n",
       "<polyline clip-path=\"url(#clip1600)\" style=\"stroke:#000000; stroke-width:4; stroke-opacity:1; fill:none\" points=\"\n",
       "  3044.85,1187.98 3755.16,1187.98 3755.16,946.06 3044.85,946.06 3044.85,1187.98 \n",
       "  \"/>\n",
       "<polyline clip-path=\"url(#clip1600)\" style=\"stroke:#009af9; stroke-width:4; stroke-opacity:1; fill:none\" points=\"\n",
       "  3084.05,1006.54 3319.25,1006.54 \n",
       "  \"/>\n",
       "<path clip-path=\"url(#clip1600)\" d=\"M 0 0 M3358.45 989.26 L3364.74 989.26 L3380.07 1018.17 L3380.07 989.26 L3384.6 989.26 L3384.6 1023.82 L3378.31 1023.82 L3362.98 994.908 L3362.98 1023.82 L3358.45 1023.82 L3358.45 989.26 Z\" fill=\"#000000\" fill-rule=\"evenodd\" fill-opacity=\"1\" /><path clip-path=\"url(#clip1600)\" d=\"M 0 0 M3389.26 989.26 L3393.93 989.26 L3393.93 1023.82 L3389.26 1023.82 L3389.26 989.26 Z\" fill=\"#000000\" fill-rule=\"evenodd\" fill-opacity=\"1\" /><path clip-path=\"url(#clip1600)\" d=\"M 0 0 M3412.61 992.431 Q3407.52 992.431 3404.51 996.227 Q3401.53 1000.02 3401.53 1006.57 Q3401.53 1013.1 3404.51 1016.9 Q3407.52 1020.69 3412.61 1020.69 Q3417.71 1020.69 3420.67 1016.9 Q3423.66 1013.1 3423.66 1006.57 Q3423.66 1000.02 3420.67 996.227 Q3417.71 992.431 3412.61 992.431 M3412.61 988.635 Q3419.88 988.635 3424.23 993.519 Q3428.59 998.38 3428.59 1006.57 Q3428.59 1014.75 3424.23 1019.63 Q3419.88 1024.49 3412.61 1024.49 Q3405.32 1024.49 3400.95 1019.63 Q3396.6 1014.77 3396.6 1006.57 Q3396.6 998.38 3400.95 993.519 Q3405.32 988.635 3412.61 988.635 Z\" fill=\"#000000\" fill-rule=\"evenodd\" fill-opacity=\"1\" /><path clip-path=\"url(#clip1600)\" d=\"M 0 0 M3452.75 1031.69 L3452.75 1035 L3428.12 1035 L3428.12 1031.69 L3452.75 1031.69 Z\" fill=\"#000000\" fill-rule=\"evenodd\" fill-opacity=\"1\" /><path clip-path=\"url(#clip1600)\" d=\"M 0 0 M3471.43 992.431 Q3466.34 992.431 3463.33 996.227 Q3460.35 1000.02 3460.35 1006.57 Q3460.35 1013.1 3463.33 1016.9 Q3466.34 1020.69 3471.43 1020.69 Q3476.53 1020.69 3479.49 1016.9 Q3482.47 1013.1 3482.47 1006.57 Q3482.47 1000.02 3479.49 996.227 Q3476.53 992.431 3471.43 992.431 M3471.43 988.635 Q3478.7 988.635 3483.05 993.519 Q3487.41 998.38 3487.41 1006.57 Q3487.41 1014.75 3483.05 1019.63 Q3478.7 1024.49 3471.43 1024.49 Q3464.14 1024.49 3459.77 1019.63 Q3455.41 1014.77 3455.41 1006.57 Q3455.41 998.38 3459.77 993.519 Q3464.14 988.635 3471.43 988.635 Z\" fill=\"#000000\" fill-rule=\"evenodd\" fill-opacity=\"1\" /><path clip-path=\"url(#clip1600)\" d=\"M 0 0 M3506.9 1001.88 Q3506.18 1001.46 3505.32 1001.27 Q3504.49 1001.07 3503.47 1001.07 Q3499.86 1001.07 3497.91 1003.43 Q3495.99 1005.76 3495.99 1010.16 L3495.99 1023.82 L3491.71 1023.82 L3491.71 997.894 L3495.99 997.894 L3495.99 1001.92 Q3497.34 999.561 3499.49 998.426 Q3501.64 997.269 3504.72 997.269 Q3505.16 997.269 3505.69 997.339 Q3506.22 997.385 3506.87 997.501 L3506.9 1001.88 Z\" fill=\"#000000\" fill-rule=\"evenodd\" fill-opacity=\"1\" /><path clip-path=\"url(#clip1600)\" d=\"M 0 0 M3511.36 997.894 L3515.62 997.894 L3515.62 1023.82 L3511.36 1023.82 L3511.36 997.894 M3511.36 987.802 L3515.62 987.802 L3515.62 993.195 L3511.36 993.195 L3511.36 987.802 Z\" fill=\"#000000\" fill-rule=\"evenodd\" fill-opacity=\"1\" /><path clip-path=\"url(#clip1600)\" d=\"M 0 0 M3537.15 1010.56 Q3537.15 1005.93 3535.23 1003.38 Q3533.33 1000.83 3529.88 1000.83 Q3526.46 1000.83 3524.53 1003.38 Q3522.64 1005.93 3522.64 1010.56 Q3522.64 1015.16 3524.53 1017.71 Q3526.46 1020.26 3529.88 1020.26 Q3533.33 1020.26 3535.23 1017.71 Q3537.15 1015.16 3537.15 1010.56 M3541.41 1020.6 Q3541.41 1027.22 3538.47 1030.44 Q3535.53 1033.68 3529.47 1033.68 Q3527.22 1033.68 3525.23 1033.33 Q3523.24 1033.01 3521.36 1032.32 L3521.36 1028.17 Q3523.24 1029.19 3525.07 1029.68 Q3526.9 1030.16 3528.79 1030.16 Q3532.98 1030.16 3535.07 1027.96 Q3537.15 1025.79 3537.15 1021.37 L3537.15 1019.26 Q3535.83 1021.55 3533.77 1022.69 Q3531.71 1023.82 3528.84 1023.82 Q3524.07 1023.82 3521.15 1020.19 Q3518.24 1016.55 3518.24 1010.56 Q3518.24 1004.54 3521.15 1000.9 Q3524.07 997.269 3528.84 997.269 Q3531.71 997.269 3533.77 998.403 Q3535.83 999.538 3537.15 1001.83 L3537.15 997.894 L3541.41 997.894 L3541.41 1020.6 Z\" fill=\"#000000\" fill-rule=\"evenodd\" fill-opacity=\"1\" /><path clip-path=\"url(#clip1600)\" d=\"M 0 0 M3545.88 997.894 L3550.14 997.894 L3550.14 1023.82 L3545.88 1023.82 L3545.88 997.894 M3545.88 987.802 L3550.14 987.802 L3550.14 993.195 L3545.88 993.195 L3545.88 987.802 Z\" fill=\"#000000\" fill-rule=\"evenodd\" fill-opacity=\"1\" /><path clip-path=\"url(#clip1600)\" d=\"M 0 0 M3576.15 1008.17 L3576.15 1023.82 L3571.9 1023.82 L3571.9 1008.31 Q3571.9 1004.63 3570.46 1002.8 Q3569.03 1000.97 3566.15 1000.97 Q3562.71 1000.97 3560.71 1003.17 Q3558.72 1005.37 3558.72 1009.17 L3558.72 1023.82 L3554.44 1023.82 L3554.44 997.894 L3558.72 997.894 L3558.72 1001.92 Q3560.25 999.584 3562.31 998.426 Q3564.4 997.269 3567.1 997.269 Q3571.57 997.269 3573.86 1000.05 Q3576.15 1002.8 3576.15 1008.17 Z\" fill=\"#000000\" fill-rule=\"evenodd\" fill-opacity=\"1\" /><path clip-path=\"url(#clip1600)\" d=\"M 0 0 M3592.4 1010.79 Q3587.24 1010.79 3585.25 1011.97 Q3583.26 1013.15 3583.26 1016 Q3583.26 1018.26 3584.74 1019.61 Q3586.25 1020.93 3588.82 1020.93 Q3592.36 1020.93 3594.49 1018.43 Q3596.64 1015.9 3596.64 1011.74 L3596.64 1010.79 L3592.4 1010.79 M3600.9 1009.03 L3600.9 1023.82 L3596.64 1023.82 L3596.64 1019.88 Q3595.18 1022.25 3593.01 1023.38 Q3590.83 1024.49 3587.68 1024.49 Q3583.7 1024.49 3581.34 1022.27 Q3579 1020.02 3579 1016.27 Q3579 1011.9 3581.92 1009.68 Q3584.86 1007.45 3590.67 1007.45 L3596.64 1007.45 L3596.64 1007.04 Q3596.64 1004.1 3594.7 1002.5 Q3592.77 1000.88 3589.28 1000.88 Q3587.06 1000.88 3584.95 1001.41 Q3582.84 1001.94 3580.9 1003.01 L3580.9 999.075 Q3583.24 998.172 3585.44 997.732 Q3587.64 997.269 3589.72 997.269 Q3595.34 997.269 3598.12 1000.19 Q3600.9 1003.1 3600.9 1009.03 Z\" fill=\"#000000\" fill-rule=\"evenodd\" fill-opacity=\"1\" /><path clip-path=\"url(#clip1600)\" d=\"M 0 0 M3605.37 987.802 L3609.63 987.802 L3609.63 1023.82 L3605.37 1023.82 L3605.37 987.802 Z\" fill=\"#000000\" fill-rule=\"evenodd\" fill-opacity=\"1\" /><polyline clip-path=\"url(#clip1600)\" style=\"stroke:#e26f46; stroke-width:4; stroke-opacity:1; fill:none\" points=\"\n",
       "  3084.05,1067.02 3319.25,1067.02 \n",
       "  \"/>\n",
       "<path clip-path=\"url(#clip1600)\" d=\"M 0 0 M3362.73 1080.41 L3362.73 1094.16 L3358.45 1094.16 L3358.45 1058.37 L3362.73 1058.37 L3362.73 1062.31 Q3364.07 1059.99 3366.11 1058.88 Q3368.17 1057.75 3371.02 1057.75 Q3375.74 1057.75 3378.68 1061.5 Q3381.64 1065.25 3381.64 1071.36 Q3381.64 1077.47 3378.68 1081.22 Q3375.74 1084.97 3371.02 1084.97 Q3368.17 1084.97 3366.11 1083.86 Q3364.07 1082.73 3362.73 1080.41 M3377.22 1071.36 Q3377.22 1066.66 3375.28 1064 Q3373.35 1061.31 3369.98 1061.31 Q3366.6 1061.31 3364.65 1064 Q3362.73 1066.66 3362.73 1071.36 Q3362.73 1076.06 3364.65 1078.74 Q3366.6 1081.41 3369.98 1081.41 Q3373.35 1081.41 3375.28 1078.74 Q3377.22 1076.06 3377.22 1071.36 Z\" fill=\"#000000\" fill-rule=\"evenodd\" fill-opacity=\"1\" /><path clip-path=\"url(#clip1600)\" d=\"M 0 0 M3401.13 1062.36 Q3400.41 1061.94 3399.56 1061.75 Q3398.72 1061.55 3397.71 1061.55 Q3394.1 1061.55 3392.15 1063.91 Q3390.23 1066.24 3390.23 1070.64 L3390.23 1084.3 L3385.95 1084.3 L3385.95 1058.37 L3390.23 1058.37 L3390.23 1062.4 Q3391.57 1060.04 3393.73 1058.91 Q3395.88 1057.75 3398.96 1057.75 Q3399.4 1057.75 3399.93 1057.82 Q3400.46 1057.86 3401.11 1057.98 L3401.13 1062.36 Z\" fill=\"#000000\" fill-rule=\"evenodd\" fill-opacity=\"1\" /><path clip-path=\"url(#clip1600)\" d=\"M 0 0 M3426.73 1070.27 L3426.73 1072.36 L3407.15 1072.36 Q3407.43 1076.75 3409.79 1079.07 Q3412.17 1081.36 3416.41 1081.36 Q3418.86 1081.36 3421.16 1080.76 Q3423.47 1080.16 3425.74 1078.95 L3425.74 1082.98 Q3423.45 1083.95 3421.04 1084.46 Q3418.63 1084.97 3416.16 1084.97 Q3409.95 1084.97 3406.32 1081.36 Q3402.71 1077.75 3402.71 1071.59 Q3402.71 1065.23 3406.13 1061.5 Q3409.58 1057.75 3415.41 1057.75 Q3420.65 1057.75 3423.68 1061.13 Q3426.73 1064.49 3426.73 1070.27 M3422.47 1069.02 Q3422.43 1065.53 3420.51 1063.44 Q3418.61 1061.36 3415.46 1061.36 Q3411.9 1061.36 3409.74 1063.37 Q3407.61 1065.39 3407.29 1069.05 L3422.47 1069.02 Z\" fill=\"#000000\" fill-rule=\"evenodd\" fill-opacity=\"1\" /><path clip-path=\"url(#clip1600)\" d=\"M 0 0 M3448.26 1062.31 L3448.26 1048.28 L3452.52 1048.28 L3452.52 1084.3 L3448.26 1084.3 L3448.26 1080.41 Q3446.92 1082.73 3444.86 1083.86 Q3442.82 1084.97 3439.95 1084.97 Q3435.25 1084.97 3432.29 1081.22 Q3429.35 1077.47 3429.35 1071.36 Q3429.35 1065.25 3432.29 1061.5 Q3435.25 1057.75 3439.95 1057.75 Q3442.82 1057.75 3444.86 1058.88 Q3446.92 1059.99 3448.26 1062.31 M3433.75 1071.36 Q3433.75 1076.06 3435.67 1078.74 Q3437.61 1081.41 3440.99 1081.41 Q3444.37 1081.41 3446.32 1078.74 Q3448.26 1076.06 3448.26 1071.36 Q3448.26 1066.66 3446.32 1064 Q3444.37 1061.31 3440.99 1061.31 Q3437.61 1061.31 3435.67 1064 Q3433.75 1066.66 3433.75 1071.36 Z\" fill=\"#000000\" fill-rule=\"evenodd\" fill-opacity=\"1\" /><path clip-path=\"url(#clip1600)\" d=\"M 0 0 M3456.99 1058.37 L3461.25 1058.37 L3461.25 1084.3 L3456.99 1084.3 L3456.99 1058.37 M3456.99 1048.28 L3461.25 1048.28 L3461.25 1053.68 L3456.99 1053.68 L3456.99 1048.28 Z\" fill=\"#000000\" fill-rule=\"evenodd\" fill-opacity=\"1\" /><path clip-path=\"url(#clip1600)\" d=\"M 0 0 M3469.93 1051.01 L3469.93 1058.37 L3478.7 1058.37 L3478.7 1061.68 L3469.93 1061.68 L3469.93 1075.76 Q3469.93 1078.93 3470.78 1079.83 Q3471.66 1080.74 3474.33 1080.74 L3478.7 1080.74 L3478.7 1084.3 L3474.33 1084.3 Q3469.4 1084.3 3467.52 1082.47 Q3465.65 1080.62 3465.65 1075.76 L3465.65 1061.68 L3462.52 1061.68 L3462.52 1058.37 L3465.65 1058.37 L3465.65 1051.01 L3469.93 1051.01 Z\" fill=\"#000000\" fill-rule=\"evenodd\" fill-opacity=\"1\" /><path clip-path=\"url(#clip1600)\" d=\"M 0 0 M3483.17 1058.37 L3487.43 1058.37 L3487.43 1084.3 L3483.17 1084.3 L3483.17 1058.37 M3483.17 1048.28 L3487.43 1048.28 L3487.43 1053.68 L3483.17 1053.68 L3483.17 1048.28 Z\" fill=\"#000000\" fill-rule=\"evenodd\" fill-opacity=\"1\" /><path clip-path=\"url(#clip1600)\" d=\"M 0 0 M3501.94 1061.36 Q3498.52 1061.36 3496.53 1064.05 Q3494.53 1066.71 3494.53 1071.36 Q3494.53 1076.01 3496.5 1078.7 Q3498.49 1081.36 3501.94 1081.36 Q3505.34 1081.36 3507.34 1078.67 Q3509.33 1075.99 3509.33 1071.36 Q3509.33 1066.75 3507.34 1064.07 Q3505.34 1061.36 3501.94 1061.36 M3501.94 1057.75 Q3507.5 1057.75 3510.67 1061.36 Q3513.84 1064.97 3513.84 1071.36 Q3513.84 1077.73 3510.67 1081.36 Q3507.5 1084.97 3501.94 1084.97 Q3496.36 1084.97 3493.19 1081.36 Q3490.04 1077.73 3490.04 1071.36 Q3490.04 1064.97 3493.19 1061.36 Q3496.36 1057.75 3501.94 1057.75 Z\" fill=\"#000000\" fill-rule=\"evenodd\" fill-opacity=\"1\" /><path clip-path=\"url(#clip1600)\" d=\"M 0 0 M3539.86 1068.65 L3539.86 1084.3 L3535.6 1084.3 L3535.6 1068.79 Q3535.6 1065.11 3534.16 1063.28 Q3532.73 1061.45 3529.86 1061.45 Q3526.41 1061.45 3524.42 1063.65 Q3522.43 1065.85 3522.43 1069.65 L3522.43 1084.3 L3518.15 1084.3 L3518.15 1058.37 L3522.43 1058.37 L3522.43 1062.4 Q3523.96 1060.06 3526.02 1058.91 Q3528.1 1057.75 3530.81 1057.75 Q3535.28 1057.75 3537.57 1060.53 Q3539.86 1063.28 3539.86 1068.65 Z\" fill=\"#000000\" fill-rule=\"evenodd\" fill-opacity=\"1\" /><path clip-path=\"url(#clip1600)\" d=\"M 0 0 M3560.85 1059.14 L3560.85 1063.17 Q3559.05 1062.24 3557.1 1061.78 Q3555.16 1061.31 3553.08 1061.31 Q3549.9 1061.31 3548.31 1062.29 Q3546.73 1063.26 3546.73 1065.2 Q3546.73 1066.68 3547.87 1067.54 Q3549 1068.37 3552.43 1069.14 L3553.89 1069.46 Q3558.42 1070.43 3560.32 1072.22 Q3562.24 1073.98 3562.24 1077.15 Q3562.24 1080.76 3559.37 1082.86 Q3556.53 1084.97 3551.53 1084.97 Q3549.44 1084.97 3547.17 1084.55 Q3544.93 1084.16 3542.43 1083.35 L3542.43 1078.95 Q3544.79 1080.18 3547.08 1080.8 Q3549.37 1081.41 3551.62 1081.41 Q3554.63 1081.41 3556.25 1080.39 Q3557.87 1079.35 3557.87 1077.47 Q3557.87 1075.74 3556.69 1074.81 Q3555.53 1073.88 3551.57 1073.03 L3550.09 1072.68 Q3546.13 1071.85 3544.37 1070.13 Q3542.61 1068.4 3542.61 1065.39 Q3542.61 1061.73 3545.21 1059.74 Q3547.8 1057.75 3552.57 1057.75 Q3554.93 1057.75 3557.01 1058.1 Q3559.09 1058.44 3560.85 1059.14 Z\" fill=\"#000000\" fill-rule=\"evenodd\" fill-opacity=\"1\" /><polyline clip-path=\"url(#clip1600)\" style=\"stroke:#3da44d; stroke-width:4; stroke-opacity:1; fill:none\" points=\"\n",
       "  3084.05,1127.5 3319.25,1127.5 \n",
       "  \"/>\n",
       "<path clip-path=\"url(#clip1600)\" d=\"M 0 0 M3365.85 1111.49 L3365.85 1118.85 L3374.63 1118.85 L3374.63 1122.16 L3365.85 1122.16 L3365.85 1136.24 Q3365.85 1139.41 3366.71 1140.31 Q3367.59 1141.22 3370.25 1141.22 L3374.63 1141.22 L3374.63 1144.78 L3370.25 1144.78 Q3365.32 1144.78 3363.45 1142.95 Q3361.57 1141.1 3361.57 1136.24 L3361.57 1122.16 L3358.45 1122.16 L3358.45 1118.85 L3361.57 1118.85 L3361.57 1111.49 L3365.85 1111.49 Z\" fill=\"#000000\" fill-rule=\"evenodd\" fill-opacity=\"1\" /><path clip-path=\"url(#clip1600)\" d=\"M 0 0 M3389.14 1121.84 Q3385.72 1121.84 3383.73 1124.53 Q3381.73 1127.19 3381.73 1131.84 Q3381.73 1136.49 3383.7 1139.18 Q3385.69 1141.84 3389.14 1141.84 Q3392.54 1141.84 3394.54 1139.15 Q3396.53 1136.47 3396.53 1131.84 Q3396.53 1127.23 3394.54 1124.55 Q3392.54 1121.84 3389.14 1121.84 M3389.14 1118.23 Q3394.7 1118.23 3397.87 1121.84 Q3401.04 1125.45 3401.04 1131.84 Q3401.04 1138.21 3397.87 1141.84 Q3394.7 1145.45 3389.14 1145.45 Q3383.56 1145.45 3380.39 1141.84 Q3377.24 1138.21 3377.24 1131.84 Q3377.24 1125.45 3380.39 1121.84 Q3383.56 1118.23 3389.14 1118.23 Z\" fill=\"#000000\" fill-rule=\"evenodd\" fill-opacity=\"1\" /><path clip-path=\"url(#clip1600)\" d=\"M 0 0 M3422.57 1122.79 L3422.57 1108.76 L3426.83 1108.76 L3426.83 1144.78 L3422.57 1144.78 L3422.57 1140.89 Q3421.22 1143.21 3419.16 1144.34 Q3417.13 1145.45 3414.26 1145.45 Q3409.56 1145.45 3406.6 1141.7 Q3403.66 1137.95 3403.66 1131.84 Q3403.66 1125.73 3406.6 1121.98 Q3409.56 1118.23 3414.26 1118.23 Q3417.13 1118.23 3419.16 1119.36 Q3421.22 1120.47 3422.57 1122.79 M3408.05 1131.84 Q3408.05 1136.54 3409.97 1139.22 Q3411.92 1141.89 3415.3 1141.89 Q3418.68 1141.89 3420.62 1139.22 Q3422.57 1136.54 3422.57 1131.84 Q3422.57 1127.14 3420.62 1124.48 Q3418.68 1121.79 3415.3 1121.79 Q3411.92 1121.79 3409.97 1124.48 Q3408.05 1127.14 3408.05 1131.84 Z\" fill=\"#000000\" fill-rule=\"evenodd\" fill-opacity=\"1\" /><path clip-path=\"url(#clip1600)\" d=\"M 0 0 M3443.08 1131.75 Q3437.91 1131.75 3435.92 1132.93 Q3433.93 1134.11 3433.93 1136.96 Q3433.93 1139.22 3435.41 1140.57 Q3436.92 1141.89 3439.49 1141.89 Q3443.03 1141.89 3445.16 1139.39 Q3447.31 1136.86 3447.31 1132.7 L3447.31 1131.75 L3443.08 1131.75 M3451.57 1129.99 L3451.57 1144.78 L3447.31 1144.78 L3447.31 1140.84 Q3445.85 1143.21 3443.68 1144.34 Q3441.5 1145.45 3438.35 1145.45 Q3434.37 1145.45 3432.01 1143.23 Q3429.67 1140.98 3429.67 1137.23 Q3429.67 1132.86 3432.59 1130.64 Q3435.53 1128.41 3441.34 1128.41 L3447.31 1128.41 L3447.31 1128 Q3447.31 1125.06 3445.37 1123.46 Q3443.45 1121.84 3439.95 1121.84 Q3437.73 1121.84 3435.62 1122.37 Q3433.52 1122.9 3431.57 1123.97 L3431.57 1120.03 Q3433.91 1119.13 3436.11 1118.69 Q3438.31 1118.23 3440.39 1118.23 Q3446.02 1118.23 3448.79 1121.15 Q3451.57 1124.06 3451.57 1129.99 Z\" fill=\"#000000\" fill-rule=\"evenodd\" fill-opacity=\"1\" /><path clip-path=\"url(#clip1600)\" d=\"M 0 0 M3466.83 1147.19 Q3465.02 1151.82 3463.31 1153.23 Q3461.6 1154.64 3458.72 1154.64 L3455.32 1154.64 L3455.32 1151.08 L3457.82 1151.08 Q3459.58 1151.08 3460.55 1150.24 Q3461.53 1149.41 3462.71 1146.31 L3463.47 1144.36 L3452.98 1118.85 L3457.5 1118.85 L3465.6 1139.13 L3473.7 1118.85 L3478.22 1118.85 L3466.83 1147.19 Z\" fill=\"#000000\" fill-rule=\"evenodd\" fill-opacity=\"1\" /><path clip-path=\"url(#clip1600)\" d=\"M 0 0 M3502.61 1114.06 L3502.61 1140.94 L3508.26 1140.94 Q3515.41 1140.94 3518.72 1137.7 Q3522.06 1134.46 3522.06 1127.47 Q3522.06 1120.52 3518.72 1117.3 Q3515.41 1114.06 3508.26 1114.06 L3502.61 1114.06 M3497.94 1110.22 L3507.54 1110.22 Q3517.59 1110.22 3522.29 1114.41 Q3526.99 1118.58 3526.99 1127.47 Q3526.99 1136.4 3522.27 1140.59 Q3517.54 1144.78 3507.54 1144.78 L3497.94 1144.78 L3497.94 1110.22 Z\" fill=\"#000000\" fill-rule=\"evenodd\" fill-opacity=\"1\" /><path clip-path=\"url(#clip1600)\" d=\"M 0 0 M3553.63 1130.75 L3553.63 1132.84 L3534.05 1132.84 Q3534.33 1137.23 3536.69 1139.55 Q3539.07 1141.84 3543.31 1141.84 Q3545.76 1141.84 3548.05 1141.24 Q3550.37 1140.64 3552.64 1139.43 L3552.64 1143.46 Q3550.34 1144.43 3547.94 1144.94 Q3545.53 1145.45 3543.05 1145.45 Q3536.85 1145.45 3533.22 1141.84 Q3529.6 1138.23 3529.6 1132.07 Q3529.6 1125.71 3533.03 1121.98 Q3536.48 1118.23 3542.31 1118.23 Q3547.54 1118.23 3550.58 1121.61 Q3553.63 1124.97 3553.63 1130.75 M3549.37 1129.5 Q3549.33 1126.01 3547.4 1123.92 Q3545.51 1121.84 3542.36 1121.84 Q3538.79 1121.84 3536.64 1123.85 Q3534.51 1125.87 3534.19 1129.53 L3549.37 1129.5 Z\" fill=\"#000000\" fill-rule=\"evenodd\" fill-opacity=\"1\" /><path clip-path=\"url(#clip1600)\" d=\"M 0 0 M3576.76 1119.85 L3576.76 1123.83 Q3574.95 1122.84 3573.12 1122.35 Q3571.32 1121.84 3569.46 1121.84 Q3565.32 1121.84 3563.03 1124.48 Q3560.74 1127.09 3560.74 1131.84 Q3560.74 1136.59 3563.03 1139.22 Q3565.32 1141.84 3569.46 1141.84 Q3571.32 1141.84 3573.12 1141.35 Q3574.95 1140.84 3576.76 1139.85 L3576.76 1143.78 Q3574.97 1144.62 3573.05 1145.03 Q3571.15 1145.45 3569 1145.45 Q3563.15 1145.45 3559.7 1141.77 Q3556.25 1138.09 3556.25 1131.84 Q3556.25 1125.5 3559.72 1121.86 Q3563.21 1118.23 3569.28 1118.23 Q3571.25 1118.23 3573.12 1118.65 Q3575 1119.04 3576.76 1119.85 Z\" fill=\"#000000\" fill-rule=\"evenodd\" fill-opacity=\"1\" /><path clip-path=\"url(#clip1600)\" d=\"M 0 0 M3581.83 1138.9 L3586.71 1138.9 L3586.71 1144.78 L3581.83 1144.78 L3581.83 1138.9 Z\" fill=\"#000000\" fill-rule=\"evenodd\" fill-opacity=\"1\" /><path clip-path=\"url(#clip1600)\" d=\"M 0 0 M3602.36 1125.64 Q3599.21 1125.64 3597.36 1127.79 Q3595.53 1129.94 3595.53 1133.69 Q3595.53 1137.42 3597.36 1139.59 Q3599.21 1141.75 3602.36 1141.75 Q3605.51 1141.75 3607.33 1139.59 Q3609.19 1137.42 3609.19 1133.69 Q3609.19 1129.94 3607.33 1127.79 Q3605.51 1125.64 3602.36 1125.64 M3611.64 1110.98 L3611.64 1115.24 Q3609.88 1114.41 3608.08 1113.97 Q3606.29 1113.53 3604.53 1113.53 Q3599.9 1113.53 3597.45 1116.65 Q3595.02 1119.78 3594.67 1126.1 Q3596.04 1124.09 3598.1 1123.02 Q3600.16 1121.93 3602.64 1121.93 Q3607.84 1121.93 3610.85 1125.1 Q3613.89 1128.25 3613.89 1133.69 Q3613.89 1139.02 3610.74 1142.23 Q3607.59 1145.45 3602.36 1145.45 Q3596.36 1145.45 3593.19 1140.87 Q3590.02 1136.26 3590.02 1127.53 Q3590.02 1119.34 3593.91 1114.48 Q3597.8 1109.59 3604.35 1109.59 Q3606.11 1109.59 3607.89 1109.94 Q3609.7 1110.29 3611.64 1110.98 Z\" fill=\"#000000\" fill-rule=\"evenodd\" fill-opacity=\"1\" /><path clip-path=\"url(#clip1600)\" d=\"M 0 0 M3619.44 1138.9 L3624.33 1138.9 L3624.33 1142.88 L3620.53 1150.29 L3617.54 1150.29 L3619.44 1142.88 L3619.44 1138.9 Z\" fill=\"#000000\" fill-rule=\"evenodd\" fill-opacity=\"1\" /><path clip-path=\"url(#clip1600)\" d=\"M 0 0 M3633.42 1140.84 L3649.74 1140.84 L3649.74 1144.78 L3627.8 1144.78 L3627.8 1140.84 Q3630.46 1138.09 3635.04 1133.46 Q3639.65 1128.81 3640.83 1127.47 Q3643.08 1124.94 3643.96 1123.21 Q3644.86 1121.45 3644.86 1119.76 Q3644.86 1117 3642.91 1115.27 Q3640.99 1113.53 3637.89 1113.53 Q3635.69 1113.53 3633.24 1114.29 Q3630.81 1115.06 3628.03 1116.61 L3628.03 1111.89 Q3630.85 1110.75 3633.31 1110.17 Q3635.76 1109.59 3637.8 1109.59 Q3643.17 1109.59 3646.36 1112.28 Q3649.56 1114.97 3649.56 1119.46 Q3649.56 1121.59 3648.75 1123.51 Q3647.96 1125.4 3645.85 1128 Q3645.27 1128.67 3642.17 1131.89 Q3639.07 1135.08 3633.42 1140.84 Z\" fill=\"#000000\" fill-rule=\"evenodd\" fill-opacity=\"1\" /><path clip-path=\"url(#clip1600)\" d=\"M 0 0 M3664.81 1113.3 Q3661.2 1113.3 3659.37 1116.86 Q3657.57 1120.4 3657.57 1127.53 Q3657.57 1134.64 3659.37 1138.21 Q3661.2 1141.75 3664.81 1141.75 Q3668.45 1141.75 3670.25 1138.21 Q3672.08 1134.64 3672.08 1127.53 Q3672.08 1120.4 3670.25 1116.86 Q3668.45 1113.3 3664.81 1113.3 M3664.81 1109.59 Q3670.62 1109.59 3673.68 1114.2 Q3676.76 1118.78 3676.76 1127.53 Q3676.76 1136.26 3673.68 1140.87 Q3670.62 1145.45 3664.81 1145.45 Q3659 1145.45 3655.92 1140.87 Q3652.87 1136.26 3652.87 1127.53 Q3652.87 1118.78 3655.92 1114.2 Q3659 1109.59 3664.81 1109.59 Z\" fill=\"#000000\" fill-rule=\"evenodd\" fill-opacity=\"1\" /></svg>\n"
      ]
     },
     "execution_count": 17,
     "metadata": {},
     "output_type": "execute_result"
    }
   ],
   "source": [
    "using Plots\n",
    "\n",
    "#dates = format_dates( df[rows,2] , \"m/d/yy\")\n",
    "\n",
    "gr()\n",
    "plot(    x_axis_dates,\n",
    "        [  y_axis_original y_axis_predicted \n",
    "        ], # y-axis\n",
    "    label    = \n",
    "        [ column_to_predict \"preditions\"  \"\" ],\n",
    "    legend   =:bottomright, \n",
    "              # :right, :left, :top, :bottom, :inside, :best, :legend, :topright, :topleft, :bottomleft, :bottomright\n",
    "    xlabel   = \"time\",\n",
    "    ylabel   = \"value\",\n",
    "    size     = (980, 400), # width, height\n",
    "    layout = (1, 1), # number of graphs: vertically, horizontally\n",
    "    )\n",
    "## Add veritical today line\n",
    "plot!([today_id], seriestype=\"vline\", label=[ \"today \"*t \"\" ],)"
   ]
  },
  {
   "cell_type": "code",
   "execution_count": 18,
   "metadata": {
    "ExecuteTime": {
     "end_time": "2020-12-06T21:59:27.169000-05:00",
     "start_time": "2020-12-07T02:58:35.037Z"
    }
   },
   "outputs": [],
   "source": [
    "savefig(\"../../predictions.png\")\n",
    "savefig(\"../../predictions_\" * column_to_predict * \".png\")"
   ]
  },
  {
   "cell_type": "code",
   "execution_count": 19,
   "metadata": {
    "ExecuteTime": {
     "end_time": "2020-12-06T21:59:27.423000-05:00",
     "start_time": "2020-12-07T02:58:35.046Z"
    }
   },
   "outputs": [
    {
     "name": "stdout",
     "output_type": "stream",
     "text": [
      "Mon, Nov. 30, 2020\t predicted 56.0\t, but actual value was \t54.0\t difference is -2.0\n",
      "Tue, Dec. 01, 2020\t predicted 56.0\t, but actual value was \t52.0\t difference is -4.0\n",
      "Wed, Dec. 02, 2020\t predicted 56.0\t, but actual value was \t48.0\t difference is -8.0\n",
      "Thu, Dec. 03, 2020\t predicted 56.0\t, but actual value was \t49.0\t difference is -7.0\n",
      "Fri, Dec. 04, 2020\t predicted 56.0\t, but actual value was \t45.0\t difference is -11.0\n",
      "Sat, Dec. 05, 2020\t predicted 55.0\t, but actual value was \t45.0\t difference is -10.0\n",
      "Sun, Dec. 06, 2020\t predicted 55.0\n",
      "Mon, Dec. 07, 2020\t predicted 55.0\n",
      "Tue, Dec. 08, 2020\t predicted 55.0\n"
     ]
    }
   ],
   "source": [
    "## print prediction comparisons\n",
    "#println(today_id)\n",
    "\n",
    "for id in finem-35:finem\n",
    "    if id < today_id + 3\n",
    "        row = get(data_predictions, id) # get a dictionary of data from the SFrame\n",
    "        date_string = row[\"Date\"] # e.g. \"2020-10-20\"\n",
    "        \n",
    "        a = y_axis_predicted[id]\n",
    "        b = y_axis_original[id]\n",
    "        d = round(b-a, digits=3)\n",
    "        date = convert(String, Dates.format( Date(date_string), \"e, u. dd, yyyy\" ) )\n",
    "        if id < today_id\n",
    "            println( date, \"\\t predicted \", a , \"\\t, but actual value was \\t\", b , \"\\t difference is \",  d  ) # di\n",
    "        else\n",
    "            println( date, \"\\t predicted \", a  ) # di\n",
    "        end # if\n",
    "    end #if \n",
    "end"
   ]
  },
  {
   "cell_type": "code",
   "execution_count": null,
   "metadata": {},
   "outputs": [],
   "source": []
  }
 ],
 "metadata": {
  "kernelspec": {
   "display_name": "Julia 1.5.1",
   "language": "julia",
   "name": "julia-1.5"
  },
  "language_info": {
   "file_extension": ".jl",
   "mimetype": "application/julia",
   "name": "julia",
   "version": "1.5.1"
  },
  "toc": {
   "base_numbering": 1,
   "nav_menu": {},
   "number_sections": true,
   "sideBar": true,
   "skip_h1_title": true,
   "title_cell": "Table of Contents",
   "title_sidebar": "Contents",
   "toc_cell": true,
   "toc_position": {},
   "toc_section_display": true,
   "toc_window_display": true
  },
  "varInspector": {
   "cols": {
    "lenName": 16,
    "lenType": 16,
    "lenVar": 40
   },
   "kernels_config": {
    "python": {
     "delete_cmd_postfix": "",
     "delete_cmd_prefix": "del ",
     "library": "var_list.py",
     "varRefreshCmd": "print(var_dic_list())"
    },
    "r": {
     "delete_cmd_postfix": ") ",
     "delete_cmd_prefix": "rm(",
     "library": "var_list.r",
     "varRefreshCmd": "cat(var_dic_list()) "
    }
   },
   "types_to_exclude": [
    "module",
    "function",
    "builtin_function_or_method",
    "instance",
    "_Feature"
   ],
   "window_display": false
  }
 },
 "nbformat": 4,
 "nbformat_minor": 4
}
