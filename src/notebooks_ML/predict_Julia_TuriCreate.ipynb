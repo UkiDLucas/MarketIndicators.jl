{
 "cells": [
  {
   "cell_type": "markdown",
   "metadata": {},
   "source": [
    "# Prediction Model using TuriCreate in Julia"
   ]
  },
  {
   "cell_type": "markdown",
   "metadata": {
    "toc": true
   },
   "source": [
    "<h1>Table of Contents<span class=\"tocSkip\"></span></h1>\n",
    "<div class=\"toc\"><ul class=\"toc-item\"><li><span><a href=\"#Set-Up\" data-toc-modified-id=\"Set-Up-1\"><span class=\"toc-item-num\">1&nbsp;&nbsp;</span>Set Up</a></span></li><li><span><a href=\"#Fetch-Data-(SFrame)-from-Uber-CSV\" data-toc-modified-id=\"Fetch-Data-(SFrame)-from-Uber-CSV-2\"><span class=\"toc-item-num\">2&nbsp;&nbsp;</span>Fetch Data (SFrame) from Uber CSV</a></span></li><li><span><a href=\"#Split-Data\" data-toc-modified-id=\"Split-Data-3\"><span class=\"toc-item-num\">3&nbsp;&nbsp;</span>Split Data</a></span></li><li><span><a href=\"#Evaluate-the-Model\" data-toc-modified-id=\"Evaluate-the-Model-4\"><span class=\"toc-item-num\">4&nbsp;&nbsp;</span>Evaluate the Model</a></span></li><li><span><a href=\"#Save-/-Export-the-Model\" data-toc-modified-id=\"Save-/-Export-the-Model-5\"><span class=\"toc-item-num\">5&nbsp;&nbsp;</span>Save / Export the Model</a></span></li><li><span><a href=\"#Make-predictions\" data-toc-modified-id=\"Make-predictions-6\"><span class=\"toc-item-num\">6&nbsp;&nbsp;</span>Make predictions</a></span><ul class=\"toc-item\"><li><span><a href=\"#Explore-SFrame\" data-toc-modified-id=\"Explore-SFrame-6.1\"><span class=\"toc-item-num\">6.1&nbsp;&nbsp;</span>Explore SFrame</a></span></li></ul></li></ul></div>"
   ]
  },
  {
   "cell_type": "markdown",
   "metadata": {},
   "source": [
    "## Set Up"
   ]
  },
  {
   "cell_type": "code",
   "execution_count": 1,
   "metadata": {
    "ExecuteTime": {
     "end_time": "2020-12-09T07:18:26.886000-05:00",
     "start_time": "2020-12-09T12:18:26.173Z"
    }
   },
   "outputs": [
    {
     "name": "stdout",
     "output_type": "stream",
     "text": [
      "\n"
     ]
    }
   ],
   "source": [
    "symbol_to_predict = \"DJIA\"\n",
    "symbol_to_predict = \"AAPL\"\n",
    "# symbol_to_predict = \"VIX\"\n",
    "# symbol_to_predict = \"NIO\"\n",
    "# symbol_to_predict = \"NVDA\"\n",
    "\n",
    "features_to_analyze = \n",
    "[\n",
    "    \"VIX_Quantized\"\n",
    "    ,\"VIX_Avg030\"\n",
    "    ,\"VIX_Avg060\"\n",
    "    ,\"VIX_Avg090\"\n",
    "    ,\"VIX_Avg120\"\n",
    "    ,\"VIX_Avg180\"\n",
    "    ,\"VIX_Avg365\"\n",
    "        \n",
    "    ,\"US_ISM_MFC_PMI_Quantized\"\n",
    "    ,\"US_ISM_MFC_PMI_Avg030\"\n",
    "    ,\"US_ISM_MFC_PMI_Avg060\"\n",
    "    ,\"US_ISM_MFC_PMI_Avg090\"\n",
    "    ,\"US_ISM_MFC_PMI_Avg180\"\n",
    "    ,\"US_ISM_MFC_PMI_Avg365\"\n",
    "        \n",
    "\n",
    "    ,\"DJIA_Quantized\"\n",
    "    ,\"DJIA_Avg005\"\n",
    "    ,\"DJIA_Avg030\"\n",
    "    ,\"DJIA_Avg060\"\n",
    "    ,\"DJIA_Avg090\"\n",
    "    ,\"DJIA_Avg120\"\n",
    "    ,\"DJIA_Avg180\"\n",
    "       \n",
    "    #,\"AAPL_Quantized\"\n",
    "    ,\"AAPL_Avg005\"\n",
    "    ,\"AAPL_Avg030\"\n",
    "    ,\"AAPL_Avg060\"\n",
    "    ,\"AAPL_Avg090\"\n",
    "    ,\"AAPL_Avg120\"\n",
    "    ,\"AAPL_Avg180\"\n",
    "\n",
    "    ,\"US_ISM_MFC_EMP_Quantized\"\n",
    "    ,\"US_ISM_MFC_EMP_Avg030\"\n",
    "    ,\"US_ISM_MFC_EMP_Avg060\"\n",
    "    ,\"US_ISM_MFC_EMP_Avg090\"\n",
    "    ,\"US_ISM_MFC_EMP_Avg120\"\n",
    "    ,\"US_ISM_MFC_EMP_Avg180\"\n",
    "    ,\"US_ISM_MFC_EMP_Avg365\"\n",
    "        \n",
    "    ,\"US_INIT_JOBLESS_Quantized\"\n",
    "    ,\"US_INIT_JOBLESS_Avg005\"\n",
    "    ,\"US_INIT_JOBLESS_Avg030\"\n",
    "    ,\"US_INIT_JOBLESS_Avg060\"\n",
    "    ,\"US_INIT_JOBLESS_Avg090\"\n",
    "    ,\"US_INIT_JOBLESS_Avg120\"\n",
    "    ,\"US_INIT_JOBLESS_Avg180\"\n",
    "        \n",
    "    ,\"US_GDP_Q_Quantized\"\n",
    "    ,\"US_GDP_Q_Avg005\"\n",
    "    ,\"US_GDP_Q_Avg030\"\n",
    "    ,\"US_GDP_Q_Avg060\"\n",
    "    ,\"US_GDP_Q_Avg090\"\n",
    "    ,\"US_GDP_Q_Avg120\"\n",
    "    ,\"US_GDP_Q_Avg180\"\n",
    "        \n",
    "\n",
    "    ,\"NIO_Quantized\"\n",
    "    ,\"NIO_Avg005\"\n",
    "    ,\"NIO_Avg030\"\n",
    "    ,\"NIO_Avg060\"\n",
    "    ,\"NIO_Avg090\"\n",
    "    ,\"NIO_Avg120\"\n",
    "    ,\"NIO_Avg180\"\n",
    "        \n",
    "\n",
    "    ,\"NVDA_Quantized\"\n",
    "    ,\"NVDA_Avg005\"\n",
    "    ,\"NVDA_Avg030\"\n",
    "    ,\"NVDA_Avg060\"\n",
    "    ,\"NVDA_Avg090\"\n",
    "    ,\"NVDA_Avg120\"\n",
    "    ,\"NVDA_Avg180\"\n",
    "        \n",
    "\n",
    "    ,\"US_HOUS_STRT_M_Quantized\"\n",
    "    ,\"US_HOUS_STRT_M_Avg005\"\n",
    "    ,\"US_HOUS_STRT_M_Avg030\"\n",
    "    ,\"US_HOUS_STRT_M_Avg060\"\n",
    "    ,\"US_HOUS_STRT_M_Avg090\"\n",
    "    ,\"US_HOUS_STRT_M_Avg120\"\n",
    "    ,\"US_HOUS_STRT_M_Avg180\"\n",
    "    \n",
    "]\n",
    "\n",
    "println()"
   ]
  },
  {
   "cell_type": "code",
   "execution_count": 2,
   "metadata": {
    "ExecuteTime": {
     "end_time": "2020-12-09T07:18:31.438000-05:00",
     "start_time": "2020-12-09T12:18:26.178Z"
    }
   },
   "outputs": [
    {
     "name": "stdout",
     "output_type": "stream",
     "text": [
      "\n"
     ]
    },
    {
     "data": {
      "text/plain": [
       "\"AAPL_Original\""
      ]
     },
     "execution_count": 2,
     "metadata": {},
     "output_type": "execute_result"
    }
   ],
   "source": [
    "## uncomment for the first run\n",
    "# import Pkg\n",
    "# Pkg.add(\"PyCall\")\n",
    "# Pkg.add(\"Conda\")\n",
    "# ENV[\"PYTHON\"] = \"/opt/anaconda3/envs/turi/bin/python\"\n",
    "# /opt/anaconda3/envs/turi/lib/python3.6/site-packages/\n",
    "# Pkg.build(\"PyCall\")\n",
    "\n",
    "include(\"../Julia/functions.jl\") \n",
    "data_path=\"../DATA/processed/uber_training.csv\"\n",
    "column_to_predict = symbol_to_predict * \"_Original\""
   ]
  },
  {
   "cell_type": "markdown",
   "metadata": {},
   "source": [
    "## Fetch Data (SFrame) from Uber CSV"
   ]
  },
  {
   "cell_type": "code",
   "execution_count": 3,
   "metadata": {
    "ExecuteTime": {
     "end_time": "2020-12-09T07:18:36.012000-05:00",
     "start_time": "2020-12-09T12:18:26.182Z"
    }
   },
   "outputs": [
    {
     "name": "stdout",
     "output_type": "stream",
     "text": [
      "Finished parsing file /Users/uki/REPOS/MarketIndicators.jl/src/DATA/processed/uber_training.csv\n",
      "Parsing completed. Parsed 100 lines in 0.027751 secs.\n",
      "------------------------------------------------------\n",
      "Inferred types from first 100 line(s) of file as \n",
      "column_type_hints=[int,str,float,float,float,float,float,float,float,float,float,float,float,float,float,float,float,float,float,float,float,float,float,float,float,float,float,float,float,float,float,float,float,float,float,float,float,float,float,float,float,float,float,float,float,float,float,float,float,float,float,float,float,float,float,float,float,float,float,float,float,float,float,float,float,float,float,float,float,float,float,float,float,float,float,float,float,float,float]\n",
      "If parsing fails due to incorrect types, you can correct\n",
      "the inferred type list above and pass it to read_csv in\n",
      "the column_type_hints argument\n",
      "------------------------------------------------------\n",
      "Finished parsing file /Users/uki/REPOS/MarketIndicators.jl/src/DATA/processed/uber_training.csv\n",
      "Parsing completed. Parsed 814 lines in 0.009157 secs.\n",
      "\n"
     ]
    }
   ],
   "source": [
    "using PyCall\n",
    "tc = pyimport(\"turicreate\")\n",
    "data = tc.SFrame(data_path)\n",
    "println()"
   ]
  },
  {
   "cell_type": "markdown",
   "metadata": {},
   "source": [
    "## Split Data"
   ]
  },
  {
   "cell_type": "code",
   "execution_count": 4,
   "metadata": {
    "ExecuteTime": {
     "end_time": "2020-12-09T07:18:36.484000-05:00",
     "start_time": "2020-12-09T12:18:26.185Z"
    }
   },
   "outputs": [
    {
     "name": "stdout",
     "output_type": "stream",
     "text": [
      "(669,)\n",
      "(145,)\n"
     ]
    }
   ],
   "source": [
    "# Make a train-test split\n",
    "train_data, test_data = data.random_split(0.8)\n",
    "\n",
    "println( size(train_data) )\n",
    "println( size(test_data)  )"
   ]
  },
  {
   "cell_type": "code",
   "execution_count": 5,
   "metadata": {
    "ExecuteTime": {
     "end_time": "2020-12-09T07:18:38.603000-05:00",
     "start_time": "2020-12-09T12:18:26.190Z"
    }
   },
   "outputs": [
    {
     "name": "stdout",
     "output_type": "stream",
     "text": [
      "Automatically generating validation set from 5% of the data.\n",
      "Linear regression:\n",
      "--------------------------------------------------------\n",
      "Number of examples          : 638\n",
      "Number of features          : 68\n",
      "Number of unpacked features : 68\n",
      "Number of coefficients    : 69\n",
      "Starting Newton Method\n",
      "--------------------------------------------------------\n",
      "+-----------+----------+--------------+--------------------+----------------------+---------------------------------+-----------------------------------+\n",
      "| Iteration | Passes   | Elapsed Time | Training Max Error | Validation Max Error | Training Root-Mean-Square Error | Validation Root-Mean-Square Error |\n",
      "+-----------+----------+--------------+--------------------+----------------------+---------------------------------+-----------------------------------+\n",
      "| 1         | 2        | 1.018314     | 4.742093           | 2.532221             | 0.896096                        | 0.806298                          |\n",
      "+-----------+----------+--------------+--------------------+----------------------+---------------------------------+-----------------------------------+\n",
      "SUCCESS: Optimal solution found.\n",
      "\n",
      "Boosted trees regression:\n",
      "--------------------------------------------------------\n",
      "Number of examples          : 638\n",
      "Number of features          : 68\n",
      "Number of unpacked features : 68\n",
      "+-----------+--------------+--------------------+----------------------+---------------------------------+-----------------------------------+\n",
      "| Iteration | Elapsed Time | Training Max Error | Validation Max Error | Training Root-Mean-Square Error | Validation Root-Mean-Square Error |\n",
      "+-----------+--------------+--------------------+----------------------+---------------------------------+-----------------------------------+\n",
      "| 1         | 0.008751     | 99.425568          | 88.325562            | 52.010876                       | 48.332043                         |\n",
      "| 2         | 0.011558     | 74.939606          | 63.839600            | 36.633625                       | 34.075878                         |\n",
      "| 3         | 0.014153     | 57.367065          | 46.267059            | 25.828514                       | 24.177513                         |\n",
      "| 4         | 0.016640     | 44.238297          | 33.138290            | 18.227110                       | 17.120663                         |\n",
      "| 5         | 0.019059     | 35.264435          | 24.164429            | 12.887977                       | 12.155704                         |\n",
      "| 10        | 0.037511     | 13.433434          | 3.891548             | 2.470083                        | 2.200639                          |\n",
      "+-----------+--------------+--------------------+----------------------+---------------------------------+-----------------------------------+\n"
     ]
    },
    {
     "data": {
      "text/plain": [
       "PyObject Class                          : LinearRegression\n",
       "\n",
       "Schema\n",
       "------\n",
       "Number of coefficients         : 69\n",
       "Number of examples             : 638\n",
       "Number of feature columns      : 68\n",
       "Number of unpacked features    : 68\n",
       "\n",
       "Hyperparameters\n",
       "---------------\n",
       "L1 penalty                     : 0\n",
       "L2 penalty                     : 0.01\n",
       "\n",
       "Training Summary\n",
       "----------------\n",
       "Solver                         : newton\n",
       "Solver iterations              : 1\n",
       "Solver status                  : SUCCESS: Optimal solution found.\n",
       "Training time (sec)            : 1.0258\n",
       "\n",
       "Settings\n",
       "--------\n",
       "Residual sum of squares        : 512.3066\n",
       "Training RMSE                  : 0.8961\n",
       "\n",
       "Highest Positive Coefficients\n",
       "-----------------------------\n",
       "(intercept)                    : 78.0918\n",
       "AAPL_Avg005                    : 0.5225\n",
       "US_GDP_Q_Avg090                : 0.3321\n",
       "NVDA_Quantized                 : 0.2663\n",
       "AAPL_Avg090                    : 0.158\n",
       "\n",
       "Lowest Negative Coefficients\n",
       "----------------------------\n",
       "AAPL_Avg060                    : -0.3411\n",
       "NVDA_Avg005                    : -0.2908\n",
       "AAPL_Avg030                    : -0.178\n",
       "US_ISM_MFC_EMP_Avg365          : -0.1238\n",
       "US_GDP_Q_Avg060                : -0.098\n"
      ]
     },
     "execution_count": 5,
     "metadata": {},
     "output_type": "execute_result"
    }
   ],
   "source": [
    "model = tc.regression.create( \n",
    "    train_data, \n",
    "    target = column_to_predict, \n",
    "    features = features_to_analyze, \n",
    "    validation_set=\"auto\", \n",
    "    verbose=true\n",
    ")"
   ]
  },
  {
   "cell_type": "markdown",
   "metadata": {},
   "source": [
    "## Evaluate the Model"
   ]
  },
  {
   "cell_type": "code",
   "execution_count": 6,
   "metadata": {
    "ExecuteTime": {
     "end_time": "2020-12-09T07:18:39.649000-05:00",
     "start_time": "2020-12-09T12:18:26.194Z"
    }
   },
   "outputs": [
    {
     "data": {
      "text/plain": [
       "Dict{Any,Any} with 2 entries:\n",
       "  \"rmse\"      => 1.14504\n",
       "  \"max_error\" => 8.21049"
      ]
     },
     "execution_count": 6,
     "metadata": {},
     "output_type": "execute_result"
    }
   ],
   "source": [
    "#TODO: write this in a loop to select the best model\n",
    "# Evaluate the model and save the results into a dictionary\n",
    "results = model.evaluate( test_data ) #test_data[0:2531]\n",
    "results"
   ]
  },
  {
   "cell_type": "code",
   "execution_count": 7,
   "metadata": {
    "ExecuteTime": {
     "end_time": "2020-12-09T07:18:39.786000-05:00",
     "start_time": "2020-12-09T12:18:26.197Z"
    }
   },
   "outputs": [
    {
     "name": "stdout",
     "output_type": "stream",
     "text": [
      "max_error: 8.21, rmse: 1.15\n"
     ]
    }
   ],
   "source": [
    "rmse = results[\"rmse\"]\n",
    "rmse = round(rmse, digits=2)\n",
    "\n",
    "max_error = results[\"max_error\"]\n",
    "max_error = round(max_error, digits=2)\n",
    "\n",
    "println( \"max_error: \", max_error, \", rmse: \", rmse )\n",
    "# max_error: 1069.27, rmse: 184.6\n",
    "# max_error: 65.35, rmse: 32.6            predict: ^DJIA added: US_INIT_JOBLESS\n",
    "# max_error: 1875.39, rmse: 443.59        predict: ^DJIA commented out: \"DJIA_Quantized\"\n",
    "# max_error: 1339.76, rmse: 373.94        predict: ^DJIA commented out: \"DJIA_Quantized\"\n",
    "# max_error: 916.19, rmse: 231.24       predict: ^DJIA with \"DJIA_Avg005\""
   ]
  },
  {
   "cell_type": "markdown",
   "metadata": {},
   "source": [
    "## Save / Export the Model"
   ]
  },
  {
   "cell_type": "code",
   "execution_count": 8,
   "metadata": {
    "ExecuteTime": {
     "end_time": "2020-12-09T07:18:39.814000-05:00",
     "start_time": "2020-12-09T12:18:26.200Z"
    }
   },
   "outputs": [],
   "source": [
    "# Export to Core ML\n",
    "model.export_coreml(\"../DATA/models/^DJI.mlmodel\")"
   ]
  },
  {
   "cell_type": "markdown",
   "metadata": {},
   "source": [
    "## Make predictions "
   ]
  },
  {
   "cell_type": "code",
   "execution_count": 9,
   "metadata": {
    "ExecuteTime": {
     "end_time": "2020-12-09T07:18:39.908000-05:00",
     "start_time": "2020-12-09T12:18:26.205Z"
    }
   },
   "outputs": [
    {
     "name": "stdout",
     "output_type": "stream",
     "text": [
      "Finished parsing file /Users/uki/REPOS/MarketIndicators.jl/src/DATA/processed/uber_prediction.csv\n",
      "Parsing completed. Parsed 100 lines in 0.029846 secs.\n",
      "------------------------------------------------------\n",
      "Inferred types from first 100 line(s) of file as \n",
      "column_type_hints=[int,str,float,float,float,float,float,float,float,float,float,float,float,float,float,float,float,float,float,float,float,float,float,float,float,float,float,float,float,float,float,float,float,float,float,float,float,float,float,float,float,float,float,float,float,float,float,float,float,float,float,float,float,float,float,float,float,float,float,float,float,float,float,float,float,float,float,float,float,float,float,float,float,float,float,float,float,float,float]\n",
      "If parsing fails due to incorrect types, you can correct\n",
      "the inferred type list above and pass it to read_csv in\n",
      "the column_type_hints argument\n",
      "------------------------------------------------------\n",
      "Finished parsing file /Users/uki/REPOS/MarketIndicators.jl/src/DATA/processed/uber_prediction.csv\n",
      "Parsing completed. Parsed 120 lines in 0.006201 secs.\n",
      "\n"
     ]
    }
   ],
   "source": [
    "data_path=\"../DATA/processed/uber_prediction.csv\"\n",
    "data_predictions = tc.SFrame(data_path)\n",
    "\n",
    "## Save predictions to an SArray\n",
    "predictions = model.predict(data_predictions)\n",
    "get(predictions, 1)\n",
    "\n",
    "println()"
   ]
  },
  {
   "cell_type": "code",
   "execution_count": null,
   "metadata": {
    "ExecuteTime": {
     "end_time": "2020-12-09T06:58:04.902000-05:00",
     "start_time": "2020-12-09T11:57:51.402Z"
    }
   },
   "outputs": [],
   "source": []
  },
  {
   "cell_type": "markdown",
   "metadata": {},
   "source": [
    "### Explore SFrame"
   ]
  },
  {
   "cell_type": "code",
   "execution_count": 10,
   "metadata": {
    "ExecuteTime": {
     "end_time": "2020-12-09T07:18:40.024000-05:00",
     "start_time": "2020-12-09T12:18:26.211Z"
    }
   },
   "outputs": [
    {
     "name": "stdout",
     "output_type": "stream",
     "text": [
      "record_count data 120\n",
      "record_count predictions 120\n",
      "feature_number 79\n",
      "Rata Die 737796\n",
      "date 2021-01-06\n",
      "original 18556.13\n"
     ]
    }
   ],
   "source": [
    "record_count = size(data_predictions)[1]\n",
    "row = get(data_predictions, record_count-1)\n",
    "\n",
    "feature_number = row.count\n",
    "day = row[\"Rata_Die\"]\n",
    "date = row[\"Date\"] # \"2020-10-20\"\n",
    "original = row[\"DJIA_Original\"]\n",
    "\n",
    "println( \"record_count data \", record_count )\n",
    "println( \"record_count predictions \", size(predictions)[1] )\n",
    "\n",
    "println( \"feature_number \", feature_number )\n",
    "println( \"Rata Die \", day )\n",
    "println( \"date \", date )\n",
    "println( \"original \", original )"
   ]
  },
  {
   "cell_type": "code",
   "execution_count": 11,
   "metadata": {
    "ExecuteTime": {
     "end_time": "2020-12-09T07:18:42.239000-05:00",
     "start_time": "2020-12-09T12:18:26.214Z"
    }
   },
   "outputs": [
    {
     "name": "stdout",
     "output_type": "stream",
     "text": [
      "preditions set size: 119, step 6\n",
      "AAPL 119 Array{Date,1}\n",
      "t Dec. 9, 2020 String\n",
      "\n"
     ]
    }
   ],
   "source": [
    "using Dates\n",
    "today_rata = Dates.datetime2rata( today() )\n",
    "\n",
    "## Determine dataset size\n",
    "\n",
    "initio = 1                                              # latin: start\n",
    "finem  = size(predictions)[1] -1                        # latin: end\n",
    "gradus = convert(Int64, round( finem/20, digits=0)  )   # latin: step\n",
    "\n",
    "println(\"preditions set size: \", finem, \", step \", gradus)\n",
    "\n",
    "\n",
    "## Declare variables\n",
    "x_axis_dates      = Vector{Date}() # results in Array{Date,1}\n",
    "y_axis_original   = Vector{Float64}()\n",
    "y_axis_predicted  = Vector{Float64}()\n",
    "\n",
    "println(symbol_to_predict, \" \", finem, \" \", typeof(x_axis_dates))\n",
    "\n",
    "today_id  = 50 # not set yet\n",
    "\n",
    "## step thru each prediction\n",
    "for id in initio:finem\n",
    "    row = get(data_predictions, id) # get a dictionary of data from the SFrame\n",
    "    \n",
    "    date_string = row[\"Date\"] # e.g. \"2020-10-20\"\n",
    "    date = Date(date_string) # 2020-09-07 Date\n",
    "    if date == today()\n",
    "        today_id = id\n",
    "    end \n",
    "    #date = Dates.format(date, \"u.d,yy\" )\n",
    "    #println(\"date \", date, \" \", typeof(date))\n",
    "    push!(x_axis_dates, date)\n",
    "    \n",
    "    predicted = get(predictions, id) # Float64\n",
    "    predicted = round(predicted, digits=0)\n",
    "    #println(\"predicted \", predicted, \" \", typeof(predicted))\n",
    "    append!(y_axis_predicted, predicted)\n",
    "    \n",
    "    \n",
    "    original = row[ column_to_predict ]\n",
    "    original = round(original, digits=0) # Float64\n",
    "    #println(\"original \", original, \" \", typeof(original)) \n",
    "    append!(y_axis_original, original)\n",
    "end\n",
    "\n",
    "## Format Dates for plotting\n",
    "include(\"../Julia/function_format_dates.jl\")\n",
    "x_axis_dates = format_dates(x_axis_dates, \"u. d, yy\")\n",
    "\n",
    "\n",
    "\n",
    "t = today()# Date\n",
    "t = format_dates([t], \"u. d, yyyy\") # Array{String,1}\n",
    "t = t[1] # String\n",
    "println(\"t \", t, \" \", typeof(t))\n",
    "\n",
    "println()"
   ]
  },
  {
   "cell_type": "code",
   "execution_count": 12,
   "metadata": {
    "ExecuteTime": {
     "end_time": "2020-12-09T07:19:18.368000-05:00",
     "start_time": "2020-12-09T12:18:26.217Z"
    }
   },
   "outputs": [
    {
     "data": {
      "image/svg+xml": [
       "<?xml version=\"1.0\" encoding=\"utf-8\"?>\n",
       "<svg xmlns=\"http://www.w3.org/2000/svg\" xmlns:xlink=\"http://www.w3.org/1999/xlink\" width=\"980\" height=\"400\" viewBox=\"0 0 3920 1600\">\n",
       "<defs>\n",
       "  <clipPath id=\"clip6600\">\n",
       "    <rect x=\"0\" y=\"0\" width=\"3920\" height=\"1600\"/>\n",
       "  </clipPath>\n",
       "</defs>\n",
       "<path clip-path=\"url(#clip6600)\" d=\"\n",
       "M0 1600 L3920 1600 L3920 0 L0 0  Z\n",
       "  \" fill=\"#ffffff\" fill-rule=\"evenodd\" fill-opacity=\"1\"/>\n",
       "<defs>\n",
       "  <clipPath id=\"clip6601\">\n",
       "    <rect x=\"784\" y=\"0\" width=\"2745\" height=\"1600\"/>\n",
       "  </clipPath>\n",
       "</defs>\n",
       "<path clip-path=\"url(#clip6600)\" d=\"\n",
       "M225.352 1423.18 L3872.76 1423.18 L3872.76 47.2441 L225.352 47.2441  Z\n",
       "  \" fill=\"#ffffff\" fill-rule=\"evenodd\" fill-opacity=\"1\"/>\n",
       "<defs>\n",
       "  <clipPath id=\"clip6602\">\n",
       "    <rect x=\"225\" y=\"47\" width=\"3648\" height=\"1377\"/>\n",
       "  </clipPath>\n",
       "</defs>\n",
       "<polyline clip-path=\"url(#clip6602)\" style=\"stroke:#000000; stroke-width:2; stroke-opacity:0.1; fill:none\" points=\"\n",
       "  328.581,1423.18 328.581,47.2441 \n",
       "  \"/>\n",
       "<polyline clip-path=\"url(#clip6602)\" style=\"stroke:#000000; stroke-width:2; stroke-opacity:0.1; fill:none\" points=\"\n",
       "  561.865,1423.18 561.865,47.2441 \n",
       "  \"/>\n",
       "<polyline clip-path=\"url(#clip6602)\" style=\"stroke:#000000; stroke-width:2; stroke-opacity:0.1; fill:none\" points=\"\n",
       "  824.31,1423.18 824.31,47.2441 \n",
       "  \"/>\n",
       "<polyline clip-path=\"url(#clip6602)\" style=\"stroke:#000000; stroke-width:2; stroke-opacity:0.1; fill:none\" points=\"\n",
       "  1057.59,1423.18 1057.59,47.2441 \n",
       "  \"/>\n",
       "<polyline clip-path=\"url(#clip6602)\" style=\"stroke:#000000; stroke-width:2; stroke-opacity:0.1; fill:none\" points=\"\n",
       "  1320.04,1423.18 1320.04,47.2441 \n",
       "  \"/>\n",
       "<polyline clip-path=\"url(#clip6602)\" style=\"stroke:#000000; stroke-width:2; stroke-opacity:0.1; fill:none\" points=\"\n",
       "  1553.32,1423.18 1553.32,47.2441 \n",
       "  \"/>\n",
       "<polyline clip-path=\"url(#clip6602)\" style=\"stroke:#000000; stroke-width:2; stroke-opacity:0.1; fill:none\" points=\"\n",
       "  1815.77,1423.18 1815.77,47.2441 \n",
       "  \"/>\n",
       "<polyline clip-path=\"url(#clip6602)\" style=\"stroke:#000000; stroke-width:2; stroke-opacity:0.1; fill:none\" points=\"\n",
       "  2049.05,1423.18 2049.05,47.2441 \n",
       "  \"/>\n",
       "<polyline clip-path=\"url(#clip6602)\" style=\"stroke:#000000; stroke-width:2; stroke-opacity:0.1; fill:none\" points=\"\n",
       "  2282.34,1423.18 2282.34,47.2441 \n",
       "  \"/>\n",
       "<polyline clip-path=\"url(#clip6602)\" style=\"stroke:#000000; stroke-width:2; stroke-opacity:0.1; fill:none\" points=\"\n",
       "  2544.78,1423.18 2544.78,47.2441 \n",
       "  \"/>\n",
       "<polyline clip-path=\"url(#clip6602)\" style=\"stroke:#000000; stroke-width:2; stroke-opacity:0.1; fill:none\" points=\"\n",
       "  2778.07,1423.18 2778.07,47.2441 \n",
       "  \"/>\n",
       "<polyline clip-path=\"url(#clip6602)\" style=\"stroke:#000000; stroke-width:2; stroke-opacity:0.1; fill:none\" points=\"\n",
       "  3040.51,1423.18 3040.51,47.2441 \n",
       "  \"/>\n",
       "<polyline clip-path=\"url(#clip6602)\" style=\"stroke:#000000; stroke-width:2; stroke-opacity:0.1; fill:none\" points=\"\n",
       "  3273.8,1423.18 3273.8,47.2441 \n",
       "  \"/>\n",
       "<polyline clip-path=\"url(#clip6602)\" style=\"stroke:#000000; stroke-width:2; stroke-opacity:0.1; fill:none\" points=\"\n",
       "  3536.24,1423.18 3536.24,47.2441 \n",
       "  \"/>\n",
       "<polyline clip-path=\"url(#clip6602)\" style=\"stroke:#000000; stroke-width:2; stroke-opacity:0.1; fill:none\" points=\"\n",
       "  3769.53,1423.18 3769.53,47.2441 \n",
       "  \"/>\n",
       "<polyline clip-path=\"url(#clip6602)\" style=\"stroke:#000000; stroke-width:2; stroke-opacity:0.1; fill:none\" points=\"\n",
       "  225.352,1350.95 3872.76,1350.95 \n",
       "  \"/>\n",
       "<polyline clip-path=\"url(#clip6602)\" style=\"stroke:#000000; stroke-width:2; stroke-opacity:0.1; fill:none\" points=\"\n",
       "  225.352,1018.12 3872.76,1018.12 \n",
       "  \"/>\n",
       "<polyline clip-path=\"url(#clip6602)\" style=\"stroke:#000000; stroke-width:2; stroke-opacity:0.1; fill:none\" points=\"\n",
       "  225.352,685.287 3872.76,685.287 \n",
       "  \"/>\n",
       "<polyline clip-path=\"url(#clip6602)\" style=\"stroke:#000000; stroke-width:2; stroke-opacity:0.1; fill:none\" points=\"\n",
       "  225.352,352.453 3872.76,352.453 \n",
       "  \"/>\n",
       "<polyline clip-path=\"url(#clip6600)\" style=\"stroke:#000000; stroke-width:4; stroke-opacity:1; fill:none\" points=\"\n",
       "  225.352,1423.18 3872.76,1423.18 \n",
       "  \"/>\n",
       "<polyline clip-path=\"url(#clip6600)\" style=\"stroke:#000000; stroke-width:4; stroke-opacity:1; fill:none\" points=\"\n",
       "  225.352,1423.18 225.352,47.2441 \n",
       "  \"/>\n",
       "<polyline clip-path=\"url(#clip6600)\" style=\"stroke:#000000; stroke-width:4; stroke-opacity:1; fill:none\" points=\"\n",
       "  328.581,1423.18 328.581,1406.67 \n",
       "  \"/>\n",
       "<polyline clip-path=\"url(#clip6600)\" style=\"stroke:#000000; stroke-width:4; stroke-opacity:1; fill:none\" points=\"\n",
       "  561.865,1423.18 561.865,1406.67 \n",
       "  \"/>\n",
       "<polyline clip-path=\"url(#clip6600)\" style=\"stroke:#000000; stroke-width:4; stroke-opacity:1; fill:none\" points=\"\n",
       "  824.31,1423.18 824.31,1406.67 \n",
       "  \"/>\n",
       "<polyline clip-path=\"url(#clip6600)\" style=\"stroke:#000000; stroke-width:4; stroke-opacity:1; fill:none\" points=\"\n",
       "  1057.59,1423.18 1057.59,1406.67 \n",
       "  \"/>\n",
       "<polyline clip-path=\"url(#clip6600)\" style=\"stroke:#000000; stroke-width:4; stroke-opacity:1; fill:none\" points=\"\n",
       "  1320.04,1423.18 1320.04,1406.67 \n",
       "  \"/>\n",
       "<polyline clip-path=\"url(#clip6600)\" style=\"stroke:#000000; stroke-width:4; stroke-opacity:1; fill:none\" points=\"\n",
       "  1553.32,1423.18 1553.32,1406.67 \n",
       "  \"/>\n",
       "<polyline clip-path=\"url(#clip6600)\" style=\"stroke:#000000; stroke-width:4; stroke-opacity:1; fill:none\" points=\"\n",
       "  1815.77,1423.18 1815.77,1406.67 \n",
       "  \"/>\n",
       "<polyline clip-path=\"url(#clip6600)\" style=\"stroke:#000000; stroke-width:4; stroke-opacity:1; fill:none\" points=\"\n",
       "  2049.05,1423.18 2049.05,1406.67 \n",
       "  \"/>\n",
       "<polyline clip-path=\"url(#clip6600)\" style=\"stroke:#000000; stroke-width:4; stroke-opacity:1; fill:none\" points=\"\n",
       "  2282.34,1423.18 2282.34,1406.67 \n",
       "  \"/>\n",
       "<polyline clip-path=\"url(#clip6600)\" style=\"stroke:#000000; stroke-width:4; stroke-opacity:1; fill:none\" points=\"\n",
       "  2544.78,1423.18 2544.78,1406.67 \n",
       "  \"/>\n",
       "<polyline clip-path=\"url(#clip6600)\" style=\"stroke:#000000; stroke-width:4; stroke-opacity:1; fill:none\" points=\"\n",
       "  2778.07,1423.18 2778.07,1406.67 \n",
       "  \"/>\n",
       "<polyline clip-path=\"url(#clip6600)\" style=\"stroke:#000000; stroke-width:4; stroke-opacity:1; fill:none\" points=\"\n",
       "  3040.51,1423.18 3040.51,1406.67 \n",
       "  \"/>\n",
       "<polyline clip-path=\"url(#clip6600)\" style=\"stroke:#000000; stroke-width:4; stroke-opacity:1; fill:none\" points=\"\n",
       "  3273.8,1423.18 3273.8,1406.67 \n",
       "  \"/>\n",
       "<polyline clip-path=\"url(#clip6600)\" style=\"stroke:#000000; stroke-width:4; stroke-opacity:1; fill:none\" points=\"\n",
       "  3536.24,1423.18 3536.24,1406.67 \n",
       "  \"/>\n",
       "<polyline clip-path=\"url(#clip6600)\" style=\"stroke:#000000; stroke-width:4; stroke-opacity:1; fill:none\" points=\"\n",
       "  3769.53,1423.18 3769.53,1406.67 \n",
       "  \"/>\n",
       "<polyline clip-path=\"url(#clip6600)\" style=\"stroke:#000000; stroke-width:4; stroke-opacity:1; fill:none\" points=\"\n",
       "  225.352,1350.95 269.121,1350.95 \n",
       "  \"/>\n",
       "<polyline clip-path=\"url(#clip6600)\" style=\"stroke:#000000; stroke-width:4; stroke-opacity:1; fill:none\" points=\"\n",
       "  225.352,1018.12 269.121,1018.12 \n",
       "  \"/>\n",
       "<polyline clip-path=\"url(#clip6600)\" style=\"stroke:#000000; stroke-width:4; stroke-opacity:1; fill:none\" points=\"\n",
       "  225.352,685.287 269.121,685.287 \n",
       "  \"/>\n",
       "<polyline clip-path=\"url(#clip6600)\" style=\"stroke:#000000; stroke-width:4; stroke-opacity:1; fill:none\" points=\"\n",
       "  225.352,352.453 269.121,352.453 \n",
       "  \"/>\n",
       "<path clip-path=\"url(#clip6600)\" d=\"M 0 0 M233.709 1450.83 L233.709 1455.39 Q231.047 1454.11 228.685 1453.49 Q226.324 1452.86 224.125 1452.86 Q220.306 1452.86 218.223 1454.34 Q216.162 1455.83 216.162 1458.56 Q216.162 1460.85 217.528 1462.03 Q218.917 1463.19 222.76 1463.9 L225.584 1464.48 Q230.815 1465.48 233.292 1468 Q235.792 1470.5 235.792 1474.71 Q235.792 1479.74 232.412 1482.33 Q229.056 1484.92 222.551 1484.92 Q220.098 1484.92 217.32 1484.37 Q214.565 1483.81 211.602 1482.72 L211.602 1477.91 Q214.449 1479.51 217.181 1480.32 Q219.912 1481.13 222.551 1481.13 Q226.556 1481.13 228.732 1479.55 Q230.908 1477.98 230.908 1475.06 Q230.908 1472.52 229.334 1471.08 Q227.783 1469.65 224.218 1468.93 L221.371 1468.37 Q216.139 1467.33 213.801 1465.11 Q211.463 1462.89 211.463 1458.93 Q211.463 1454.34 214.681 1451.71 Q217.922 1449.07 223.593 1449.07 Q226.023 1449.07 228.547 1449.51 Q231.07 1449.95 233.709 1450.83 Z\" fill=\"#000000\" fill-rule=\"evenodd\" fill-opacity=\"1\" /><path clip-path=\"url(#clip6600)\" d=\"M 0 0 M262.435 1470.22 L262.435 1472.31 L242.852 1472.31 Q243.13 1476.71 245.491 1479.02 Q247.875 1481.31 252.111 1481.31 Q254.565 1481.31 256.857 1480.71 Q259.171 1480.11 261.44 1478.9 L261.44 1482.93 Q259.148 1483.9 256.741 1484.41 Q254.333 1484.92 251.857 1484.92 Q245.653 1484.92 242.019 1481.31 Q238.408 1477.7 238.408 1471.54 Q238.408 1465.18 241.834 1461.45 Q245.283 1457.7 251.116 1457.7 Q256.347 1457.7 259.38 1461.08 Q262.435 1464.44 262.435 1470.22 M258.176 1468.97 Q258.13 1465.48 256.208 1463.4 Q254.31 1461.31 251.162 1461.31 Q247.597 1461.31 245.445 1463.33 Q243.315 1465.34 242.991 1469 L258.176 1468.97 Z\" fill=\"#000000\" fill-rule=\"evenodd\" fill-opacity=\"1\" /><path clip-path=\"url(#clip6600)\" d=\"M 0 0 M271.023 1480.36 L271.023 1494.11 L266.741 1494.11 L266.741 1458.33 L271.023 1458.33 L271.023 1462.26 Q272.366 1459.95 274.403 1458.84 Q276.463 1457.7 279.31 1457.7 Q284.032 1457.7 286.972 1461.45 Q289.935 1465.2 289.935 1471.31 Q289.935 1477.42 286.972 1481.17 Q284.032 1484.92 279.31 1484.92 Q276.463 1484.92 274.403 1483.81 Q272.366 1482.68 271.023 1480.36 M285.514 1471.31 Q285.514 1466.61 283.569 1463.95 Q281.648 1461.27 278.269 1461.27 Q274.889 1461.27 272.944 1463.95 Q271.023 1466.61 271.023 1471.31 Q271.023 1476.01 272.944 1478.7 Q274.889 1481.36 278.269 1481.36 Q281.648 1481.36 283.569 1478.7 Q285.514 1476.01 285.514 1471.31 Z\" fill=\"#000000\" fill-rule=\"evenodd\" fill-opacity=\"1\" /><path clip-path=\"url(#clip6600)\" d=\"M 0 0 M295.005 1478.37 L299.889 1478.37 L299.889 1484.25 L295.005 1484.25 L295.005 1478.37 Z\" fill=\"#000000\" fill-rule=\"evenodd\" fill-opacity=\"1\" /><path clip-path=\"url(#clip6600)\" d=\"M 0 0 M320.838 1480.32 L328.477 1480.32 L328.477 1453.95 L320.166 1455.62 L320.166 1451.36 L328.43 1449.69 L333.106 1449.69 L333.106 1480.32 L340.745 1480.32 L340.745 1484.25 L320.838 1484.25 L320.838 1480.32 Z\" fill=\"#000000\" fill-rule=\"evenodd\" fill-opacity=\"1\" /><path clip-path=\"url(#clip6600)\" d=\"M 0 0 M355.814 1452.77 Q352.203 1452.77 350.375 1456.34 Q348.569 1459.88 348.569 1467.01 Q348.569 1474.11 350.375 1477.68 Q352.203 1481.22 355.814 1481.22 Q359.449 1481.22 361.254 1477.68 Q363.083 1474.11 363.083 1467.01 Q363.083 1459.88 361.254 1456.34 Q359.449 1452.77 355.814 1452.77 M355.814 1449.07 Q361.625 1449.07 364.68 1453.67 Q367.759 1458.26 367.759 1467.01 Q367.759 1475.73 364.68 1480.34 Q361.625 1484.92 355.814 1484.92 Q350.004 1484.92 346.926 1480.34 Q343.87 1475.73 343.87 1467.01 Q343.87 1458.26 346.926 1453.67 Q350.004 1449.07 355.814 1449.07 Z\" fill=\"#000000\" fill-rule=\"evenodd\" fill-opacity=\"1\" /><path clip-path=\"url(#clip6600)\" d=\"M 0 0 M373.314 1478.37 L378.199 1478.37 L378.199 1482.35 L374.402 1489.76 L371.416 1489.76 L373.314 1482.35 L373.314 1478.37 Z\" fill=\"#000000\" fill-rule=\"evenodd\" fill-opacity=\"1\" /><path clip-path=\"url(#clip6600)\" d=\"M 0 0 M402.365 1480.32 L418.684 1480.32 L418.684 1484.25 L396.74 1484.25 L396.74 1480.32 Q399.402 1477.56 403.985 1472.93 Q408.592 1468.28 409.772 1466.94 Q412.018 1464.41 412.897 1462.68 Q413.8 1460.92 413.8 1459.23 Q413.8 1456.47 411.856 1454.74 Q409.934 1453 406.833 1453 Q404.634 1453 402.18 1453.77 Q399.749 1454.53 396.972 1456.08 L396.972 1451.36 Q399.796 1450.22 402.249 1449.65 Q404.703 1449.07 406.74 1449.07 Q412.11 1449.07 415.305 1451.75 Q418.499 1454.44 418.499 1458.93 Q418.499 1461.06 417.689 1462.98 Q416.902 1464.88 414.796 1467.47 Q414.217 1468.14 411.115 1471.36 Q408.013 1474.55 402.365 1480.32 Z\" fill=\"#000000\" fill-rule=\"evenodd\" fill-opacity=\"1\" /><path clip-path=\"url(#clip6600)\" d=\"M 0 0 M433.754 1452.77 Q430.143 1452.77 428.314 1456.34 Q426.508 1459.88 426.508 1467.01 Q426.508 1474.11 428.314 1477.68 Q430.143 1481.22 433.754 1481.22 Q437.388 1481.22 439.194 1477.68 Q441.022 1474.11 441.022 1467.01 Q441.022 1459.88 439.194 1456.34 Q437.388 1452.77 433.754 1452.77 M433.754 1449.07 Q439.564 1449.07 442.619 1453.67 Q445.698 1458.26 445.698 1467.01 Q445.698 1475.73 442.619 1480.34 Q439.564 1484.92 433.754 1484.92 Q427.944 1484.92 424.865 1480.34 Q421.809 1475.73 421.809 1467.01 Q421.809 1458.26 424.865 1453.67 Q427.944 1449.07 433.754 1449.07 Z\" fill=\"#000000\" fill-rule=\"evenodd\" fill-opacity=\"1\" /><path clip-path=\"url(#clip6600)\" d=\"M 0 0 M467.039 1450.83 L467.039 1455.39 Q464.377 1454.11 462.016 1453.49 Q459.655 1452.86 457.456 1452.86 Q453.637 1452.86 451.553 1454.34 Q449.493 1455.83 449.493 1458.56 Q449.493 1460.85 450.859 1462.03 Q452.248 1463.19 456.09 1463.9 L458.914 1464.48 Q464.146 1465.48 466.623 1468 Q469.123 1470.5 469.123 1474.71 Q469.123 1479.74 465.743 1482.33 Q462.387 1484.92 455.882 1484.92 Q453.428 1484.92 450.651 1484.37 Q447.896 1483.81 444.933 1482.72 L444.933 1477.91 Q447.78 1479.51 450.512 1480.32 Q453.243 1481.13 455.882 1481.13 Q459.887 1481.13 462.063 1479.55 Q464.238 1477.98 464.238 1475.06 Q464.238 1472.52 462.664 1471.08 Q461.114 1469.65 457.549 1468.93 L454.701 1468.37 Q449.47 1467.33 447.132 1465.11 Q444.794 1462.89 444.794 1458.93 Q444.794 1454.34 448.012 1451.71 Q451.252 1449.07 456.924 1449.07 Q459.354 1449.07 461.877 1449.51 Q464.401 1449.95 467.039 1450.83 Z\" fill=\"#000000\" fill-rule=\"evenodd\" fill-opacity=\"1\" /><path clip-path=\"url(#clip6600)\" d=\"M 0 0 M495.766 1470.22 L495.766 1472.31 L476.183 1472.31 Q476.461 1476.71 478.822 1479.02 Q481.206 1481.31 485.442 1481.31 Q487.896 1481.31 490.187 1480.71 Q492.502 1480.11 494.771 1478.9 L494.771 1482.93 Q492.479 1483.9 490.072 1484.41 Q487.664 1484.92 485.187 1484.92 Q478.984 1484.92 475.35 1481.31 Q471.738 1477.7 471.738 1471.54 Q471.738 1465.18 475.164 1461.45 Q478.613 1457.7 484.447 1457.7 Q489.678 1457.7 492.711 1461.08 Q495.766 1464.44 495.766 1470.22 M491.507 1468.97 Q491.461 1465.48 489.539 1463.4 Q487.641 1461.31 484.493 1461.31 Q480.928 1461.31 478.775 1463.33 Q476.646 1465.34 476.322 1469 L491.507 1468.97 Z\" fill=\"#000000\" fill-rule=\"evenodd\" fill-opacity=\"1\" /><path clip-path=\"url(#clip6600)\" d=\"M 0 0 M504.354 1480.36 L504.354 1494.11 L500.072 1494.11 L500.072 1458.33 L504.354 1458.33 L504.354 1462.26 Q505.697 1459.95 507.734 1458.84 Q509.794 1457.7 512.641 1457.7 Q517.363 1457.7 520.303 1461.45 Q523.266 1465.2 523.266 1471.31 Q523.266 1477.42 520.303 1481.17 Q517.363 1484.92 512.641 1484.92 Q509.794 1484.92 507.734 1483.81 Q505.697 1482.68 504.354 1480.36 M518.845 1471.31 Q518.845 1466.61 516.9 1463.95 Q514.979 1461.27 511.599 1461.27 Q508.22 1461.27 506.275 1463.95 Q504.354 1466.61 504.354 1471.31 Q504.354 1476.01 506.275 1478.7 Q508.22 1481.36 511.599 1481.36 Q514.979 1481.36 516.9 1478.7 Q518.845 1476.01 518.845 1471.31 Z\" fill=\"#000000\" fill-rule=\"evenodd\" fill-opacity=\"1\" /><path clip-path=\"url(#clip6600)\" d=\"M 0 0 M528.335 1478.37 L533.22 1478.37 L533.22 1484.25 L528.335 1484.25 L528.335 1478.37 Z\" fill=\"#000000\" fill-rule=\"evenodd\" fill-opacity=\"1\" /><path clip-path=\"url(#clip6600)\" d=\"M 0 0 M554.169 1480.32 L561.807 1480.32 L561.807 1453.95 L553.497 1455.62 L553.497 1451.36 L561.761 1449.69 L566.437 1449.69 L566.437 1480.32 L574.076 1480.32 L574.076 1484.25 L554.169 1484.25 L554.169 1480.32 Z\" fill=\"#000000\" fill-rule=\"evenodd\" fill-opacity=\"1\" /><path clip-path=\"url(#clip6600)\" d=\"M 0 0 M589.145 1467.84 Q585.812 1467.84 583.891 1469.62 Q581.992 1471.4 581.992 1474.53 Q581.992 1477.65 583.891 1479.44 Q585.812 1481.22 589.145 1481.22 Q592.479 1481.22 594.4 1479.44 Q596.321 1477.63 596.321 1474.53 Q596.321 1471.4 594.4 1469.62 Q592.502 1467.84 589.145 1467.84 M584.469 1465.85 Q581.46 1465.11 579.77 1463.05 Q578.104 1460.99 578.104 1458.03 Q578.104 1453.88 581.043 1451.47 Q584.006 1449.07 589.145 1449.07 Q594.307 1449.07 597.247 1451.47 Q600.187 1453.88 600.187 1458.03 Q600.187 1460.99 598.497 1463.05 Q596.83 1465.11 593.844 1465.85 Q597.224 1466.64 599.099 1468.93 Q600.997 1471.22 600.997 1474.53 Q600.997 1479.55 597.918 1482.24 Q594.863 1484.92 589.145 1484.92 Q583.428 1484.92 580.349 1482.24 Q577.293 1479.55 577.293 1474.53 Q577.293 1471.22 579.192 1468.93 Q581.09 1466.64 584.469 1465.85 M582.756 1458.46 Q582.756 1461.15 584.423 1462.65 Q586.113 1464.16 589.145 1464.16 Q592.154 1464.16 593.844 1462.65 Q595.557 1461.15 595.557 1458.46 Q595.557 1455.78 593.844 1454.28 Q592.154 1452.77 589.145 1452.77 Q586.113 1452.77 584.423 1454.28 Q582.756 1455.78 582.756 1458.46 Z\" fill=\"#000000\" fill-rule=\"evenodd\" fill-opacity=\"1\" /><path clip-path=\"url(#clip6600)\" d=\"M 0 0 M606.553 1478.37 L611.437 1478.37 L611.437 1482.35 L607.64 1489.76 L604.654 1489.76 L606.553 1482.35 L606.553 1478.37 Z\" fill=\"#000000\" fill-rule=\"evenodd\" fill-opacity=\"1\" /><path clip-path=\"url(#clip6600)\" d=\"M 0 0 M635.603 1480.32 L651.923 1480.32 L651.923 1484.25 L629.978 1484.25 L629.978 1480.32 Q632.64 1477.56 637.224 1472.93 Q641.83 1468.28 643.011 1466.94 Q645.256 1464.41 646.136 1462.68 Q647.038 1460.92 647.038 1459.23 Q647.038 1456.47 645.094 1454.74 Q643.173 1453 640.071 1453 Q637.872 1453 635.418 1453.77 Q632.988 1454.53 630.21 1456.08 L630.21 1451.36 Q633.034 1450.22 635.488 1449.65 Q637.941 1449.07 639.978 1449.07 Q645.349 1449.07 648.543 1451.75 Q651.737 1454.44 651.737 1458.93 Q651.737 1461.06 650.927 1462.98 Q650.14 1464.88 648.034 1467.47 Q647.455 1468.14 644.353 1471.36 Q641.251 1474.55 635.603 1480.32 Z\" fill=\"#000000\" fill-rule=\"evenodd\" fill-opacity=\"1\" /><path clip-path=\"url(#clip6600)\" d=\"M 0 0 M666.992 1452.77 Q663.381 1452.77 661.552 1456.34 Q659.747 1459.88 659.747 1467.01 Q659.747 1474.11 661.552 1477.68 Q663.381 1481.22 666.992 1481.22 Q670.626 1481.22 672.432 1477.68 Q674.261 1474.11 674.261 1467.01 Q674.261 1459.88 672.432 1456.34 Q670.626 1452.77 666.992 1452.77 M666.992 1449.07 Q672.802 1449.07 675.858 1453.67 Q678.936 1458.26 678.936 1467.01 Q678.936 1475.73 675.858 1480.34 Q672.802 1484.92 666.992 1484.92 Q661.182 1484.92 658.103 1480.34 Q655.048 1475.73 655.048 1467.01 Q655.048 1458.26 658.103 1453.67 Q661.182 1449.07 666.992 1449.07 Z\" fill=\"#000000\" fill-rule=\"evenodd\" fill-opacity=\"1\" /><path clip-path=\"url(#clip6600)\" d=\"M 0 0 M730.075 1450.83 L730.075 1455.39 Q727.413 1454.11 725.052 1453.49 Q722.691 1452.86 720.491 1452.86 Q716.672 1452.86 714.589 1454.34 Q712.529 1455.83 712.529 1458.56 Q712.529 1460.85 713.894 1462.03 Q715.283 1463.19 719.126 1463.9 L721.95 1464.48 Q727.181 1465.48 729.658 1468 Q732.158 1470.5 732.158 1474.71 Q732.158 1479.74 728.778 1482.33 Q725.422 1484.92 718.917 1484.92 Q716.464 1484.92 713.686 1484.37 Q710.931 1483.81 707.968 1482.72 L707.968 1477.91 Q710.816 1479.51 713.547 1480.32 Q716.279 1481.13 718.917 1481.13 Q722.922 1481.13 725.098 1479.55 Q727.274 1477.98 727.274 1475.06 Q727.274 1472.52 725.7 1471.08 Q724.149 1469.65 720.584 1468.93 L717.737 1468.37 Q712.505 1467.33 710.167 1465.11 Q707.83 1462.89 707.83 1458.93 Q707.83 1454.34 711.047 1451.71 Q714.288 1449.07 719.959 1449.07 Q722.39 1449.07 724.913 1449.51 Q727.436 1449.95 730.075 1450.83 Z\" fill=\"#000000\" fill-rule=\"evenodd\" fill-opacity=\"1\" /><path clip-path=\"url(#clip6600)\" d=\"M 0 0 M758.801 1470.22 L758.801 1472.31 L739.218 1472.31 Q739.496 1476.71 741.857 1479.02 Q744.241 1481.31 748.477 1481.31 Q750.931 1481.31 753.223 1480.71 Q755.538 1480.11 757.806 1478.9 L757.806 1482.93 Q755.514 1483.9 753.107 1484.41 Q750.7 1484.92 748.223 1484.92 Q742.019 1484.92 738.385 1481.31 Q734.774 1477.7 734.774 1471.54 Q734.774 1465.18 738.2 1461.45 Q741.649 1457.7 747.482 1457.7 Q752.714 1457.7 755.746 1461.08 Q758.801 1464.44 758.801 1470.22 M754.542 1468.97 Q754.496 1465.48 752.575 1463.4 Q750.677 1461.31 747.528 1461.31 Q743.964 1461.31 741.811 1463.33 Q739.681 1465.34 739.357 1469 L754.542 1468.97 Z\" fill=\"#000000\" fill-rule=\"evenodd\" fill-opacity=\"1\" /><path clip-path=\"url(#clip6600)\" d=\"M 0 0 M767.389 1480.36 L767.389 1494.11 L763.107 1494.11 L763.107 1458.33 L767.389 1458.33 L767.389 1462.26 Q768.732 1459.95 770.769 1458.84 Q772.829 1457.7 775.676 1457.7 Q780.399 1457.7 783.338 1461.45 Q786.301 1465.2 786.301 1471.31 Q786.301 1477.42 783.338 1481.17 Q780.399 1484.92 775.676 1484.92 Q772.829 1484.92 770.769 1483.81 Q768.732 1482.68 767.389 1480.36 M781.88 1471.31 Q781.88 1466.61 779.936 1463.95 Q778.014 1461.27 774.635 1461.27 Q771.255 1461.27 769.311 1463.95 Q767.389 1466.61 767.389 1471.31 Q767.389 1476.01 769.311 1478.7 Q771.255 1481.36 774.635 1481.36 Q778.014 1481.36 779.936 1478.7 Q781.88 1476.01 781.88 1471.31 Z\" fill=\"#000000\" fill-rule=\"evenodd\" fill-opacity=\"1\" /><path clip-path=\"url(#clip6600)\" d=\"M 0 0 M791.371 1478.37 L796.255 1478.37 L796.255 1484.25 L791.371 1484.25 L791.371 1478.37 Z\" fill=\"#000000\" fill-rule=\"evenodd\" fill-opacity=\"1\" /><path clip-path=\"url(#clip6600)\" d=\"M 0 0 M820.421 1480.32 L836.741 1480.32 L836.741 1484.25 L814.797 1484.25 L814.797 1480.32 Q817.459 1477.56 822.042 1472.93 Q826.648 1468.28 827.829 1466.94 Q830.074 1464.41 830.954 1462.68 Q831.857 1460.92 831.857 1459.23 Q831.857 1456.47 829.912 1454.74 Q827.991 1453 824.889 1453 Q822.69 1453 820.236 1453.77 Q817.806 1454.53 815.028 1456.08 L815.028 1451.36 Q817.852 1450.22 820.306 1449.65 Q822.759 1449.07 824.796 1449.07 Q830.167 1449.07 833.361 1451.75 Q836.556 1454.44 836.556 1458.93 Q836.556 1461.06 835.745 1462.98 Q834.958 1464.88 832.852 1467.47 Q832.273 1468.14 829.171 1471.36 Q826.07 1474.55 820.421 1480.32 Z\" fill=\"#000000\" fill-rule=\"evenodd\" fill-opacity=\"1\" /><path clip-path=\"url(#clip6600)\" d=\"M 0 0 M840.63 1449.69 L862.852 1449.69 L862.852 1451.68 L850.306 1484.25 L845.421 1484.25 L857.227 1453.63 L840.63 1453.63 L840.63 1449.69 Z\" fill=\"#000000\" fill-rule=\"evenodd\" fill-opacity=\"1\" /><path clip-path=\"url(#clip6600)\" d=\"M 0 0 M868.407 1478.37 L873.292 1478.37 L873.292 1482.35 L869.495 1489.76 L866.509 1489.76 L868.407 1482.35 L868.407 1478.37 Z\" fill=\"#000000\" fill-rule=\"evenodd\" fill-opacity=\"1\" /><path clip-path=\"url(#clip6600)\" d=\"M 0 0 M897.458 1480.32 L913.777 1480.32 L913.777 1484.25 L891.833 1484.25 L891.833 1480.32 Q894.495 1477.56 899.078 1472.93 Q903.685 1468.28 904.865 1466.94 Q907.111 1464.41 907.99 1462.68 Q908.893 1460.92 908.893 1459.23 Q908.893 1456.47 906.949 1454.74 Q905.028 1453 901.926 1453 Q899.727 1453 897.273 1453.77 Q894.842 1454.53 892.065 1456.08 L892.065 1451.36 Q894.889 1450.22 897.342 1449.65 Q899.796 1449.07 901.833 1449.07 Q907.203 1449.07 910.398 1451.75 Q913.592 1454.44 913.592 1458.93 Q913.592 1461.06 912.782 1462.98 Q911.995 1464.88 909.889 1467.47 Q909.31 1468.14 906.208 1471.36 Q903.106 1474.55 897.458 1480.32 Z\" fill=\"#000000\" fill-rule=\"evenodd\" fill-opacity=\"1\" /><path clip-path=\"url(#clip6600)\" d=\"M 0 0 M928.847 1452.77 Q925.236 1452.77 923.407 1456.34 Q921.602 1459.88 921.602 1467.01 Q921.602 1474.11 923.407 1477.68 Q925.236 1481.22 928.847 1481.22 Q932.481 1481.22 934.287 1477.68 Q936.115 1474.11 936.115 1467.01 Q936.115 1459.88 934.287 1456.34 Q932.481 1452.77 928.847 1452.77 M928.847 1449.07 Q934.657 1449.07 937.713 1453.67 Q940.791 1458.26 940.791 1467.01 Q940.791 1475.73 937.713 1480.34 Q934.657 1484.92 928.847 1484.92 Q923.037 1484.92 919.958 1480.34 Q916.902 1475.73 916.902 1467.01 Q916.902 1458.26 919.958 1453.67 Q923.037 1449.07 928.847 1449.07 Z\" fill=\"#000000\" fill-rule=\"evenodd\" fill-opacity=\"1\" /><path clip-path=\"url(#clip6600)\" d=\"M 0 0 M972.838 1452.86 Q967.746 1452.86 964.737 1456.66 Q961.75 1460.46 961.75 1467.01 Q961.75 1473.53 964.737 1477.33 Q967.746 1481.13 972.838 1481.13 Q977.931 1481.13 980.894 1477.33 Q983.88 1473.53 983.88 1467.01 Q983.88 1460.46 980.894 1456.66 Q977.931 1452.86 972.838 1452.86 M972.838 1449.07 Q980.107 1449.07 984.459 1453.95 Q988.811 1458.81 988.811 1467.01 Q988.811 1475.18 984.459 1480.06 Q980.107 1484.92 972.838 1484.92 Q965.547 1484.92 961.172 1480.06 Q956.82 1475.2 956.82 1467.01 Q956.82 1458.81 961.172 1453.95 Q965.547 1449.07 972.838 1449.07 Z\" fill=\"#000000\" fill-rule=\"evenodd\" fill-opacity=\"1\" /><path clip-path=\"url(#clip6600)\" d=\"M 0 0 M1011.94 1459.32 L1011.94 1463.3 Q1010.13 1462.31 1008.3 1461.82 Q1006.5 1461.31 1004.64 1461.31 Q1000.5 1461.31 998.209 1463.95 Q995.917 1466.57 995.917 1471.31 Q995.917 1476.06 998.209 1478.7 Q1000.5 1481.31 1004.64 1481.31 Q1006.5 1481.31 1008.3 1480.83 Q1010.13 1480.32 1011.94 1479.32 L1011.94 1483.26 Q1010.15 1484.09 1008.23 1484.51 Q1006.33 1484.92 1004.18 1484.92 Q998.324 1484.92 994.875 1481.24 Q991.426 1477.56 991.426 1471.31 Q991.426 1464.97 994.898 1461.34 Q998.394 1457.7 1004.46 1457.7 Q1006.43 1457.7 1008.3 1458.12 Q1010.18 1458.51 1011.94 1459.32 Z\" fill=\"#000000\" fill-rule=\"evenodd\" fill-opacity=\"1\" /><path clip-path=\"url(#clip6600)\" d=\"M 0 0 M1020.62 1450.96 L1020.62 1458.33 L1029.39 1458.33 L1029.39 1461.64 L1020.62 1461.64 L1020.62 1475.71 Q1020.62 1478.88 1021.47 1479.78 Q1022.35 1480.69 1025.01 1480.69 L1029.39 1480.69 L1029.39 1484.25 L1025.01 1484.25 Q1020.08 1484.25 1018.21 1482.42 Q1016.33 1480.57 1016.33 1475.71 L1016.33 1461.64 L1013.21 1461.64 L1013.21 1458.33 L1016.33 1458.33 L1016.33 1450.96 L1020.62 1450.96 Z\" fill=\"#000000\" fill-rule=\"evenodd\" fill-opacity=\"1\" /><path clip-path=\"url(#clip6600)\" d=\"M 0 0 M1034.46 1478.37 L1039.34 1478.37 L1039.34 1484.25 L1034.46 1484.25 L1034.46 1478.37 Z\" fill=\"#000000\" fill-rule=\"evenodd\" fill-opacity=\"1\" /><path clip-path=\"url(#clip6600)\" d=\"M 0 0 M1059.53 1449.69 L1077.88 1449.69 L1077.88 1453.63 L1063.81 1453.63 L1063.81 1462.1 Q1064.83 1461.75 1065.85 1461.59 Q1066.87 1461.4 1067.88 1461.4 Q1073.67 1461.4 1077.05 1464.58 Q1080.43 1467.75 1080.43 1473.16 Q1080.43 1478.74 1076.96 1481.84 Q1073.49 1484.92 1067.17 1484.92 Q1064.99 1484.92 1062.72 1484.55 Q1060.48 1484.18 1058.07 1483.44 L1058.07 1478.74 Q1060.15 1479.88 1062.37 1480.43 Q1064.6 1480.99 1067.07 1480.99 Q1071.08 1480.99 1073.42 1478.88 Q1075.75 1476.78 1075.75 1473.16 Q1075.75 1469.55 1073.42 1467.45 Q1071.08 1465.34 1067.07 1465.34 Q1065.2 1465.34 1063.32 1465.76 Q1061.47 1466.17 1059.53 1467.05 L1059.53 1449.69 Z\" fill=\"#000000\" fill-rule=\"evenodd\" fill-opacity=\"1\" /><path clip-path=\"url(#clip6600)\" d=\"M 0 0 M1085.99 1478.37 L1090.87 1478.37 L1090.87 1482.35 L1087.07 1489.76 L1084.09 1489.76 L1085.99 1482.35 L1085.99 1478.37 Z\" fill=\"#000000\" fill-rule=\"evenodd\" fill-opacity=\"1\" /><path clip-path=\"url(#clip6600)\" d=\"M 0 0 M1115.04 1480.32 L1131.36 1480.32 L1131.36 1484.25 L1109.41 1484.25 L1109.41 1480.32 Q1112.07 1477.56 1116.66 1472.93 Q1121.26 1468.28 1122.44 1466.94 Q1124.69 1464.41 1125.57 1462.68 Q1126.47 1460.92 1126.47 1459.23 Q1126.47 1456.47 1124.53 1454.74 Q1122.61 1453 1119.5 1453 Q1117.31 1453 1114.85 1453.77 Q1112.42 1454.53 1109.64 1456.08 L1109.64 1451.36 Q1112.47 1450.22 1114.92 1449.65 Q1117.37 1449.07 1119.41 1449.07 Q1124.78 1449.07 1127.98 1451.75 Q1131.17 1454.44 1131.17 1458.93 Q1131.17 1461.06 1130.36 1462.98 Q1129.57 1464.88 1127.47 1467.47 Q1126.89 1468.14 1123.79 1471.36 Q1120.68 1474.55 1115.04 1480.32 Z\" fill=\"#000000\" fill-rule=\"evenodd\" fill-opacity=\"1\" /><path clip-path=\"url(#clip6600)\" d=\"M 0 0 M1146.43 1452.77 Q1142.81 1452.77 1140.99 1456.34 Q1139.18 1459.88 1139.18 1467.01 Q1139.18 1474.11 1140.99 1477.68 Q1142.81 1481.22 1146.43 1481.22 Q1150.06 1481.22 1151.87 1477.68 Q1153.69 1474.11 1153.69 1467.01 Q1153.69 1459.88 1151.87 1456.34 Q1150.06 1452.77 1146.43 1452.77 M1146.43 1449.07 Q1152.24 1449.07 1155.29 1453.67 Q1158.37 1458.26 1158.37 1467.01 Q1158.37 1475.73 1155.29 1480.34 Q1152.24 1484.92 1146.43 1484.92 Q1140.62 1484.92 1137.54 1480.34 Q1134.48 1475.73 1134.48 1467.01 Q1134.48 1458.26 1137.54 1453.67 Q1140.62 1449.07 1146.43 1449.07 Z\" fill=\"#000000\" fill-rule=\"evenodd\" fill-opacity=\"1\" /><path clip-path=\"url(#clip6600)\" d=\"M 0 0 M1221.65 1452.86 Q1216.56 1452.86 1213.55 1456.66 Q1210.56 1460.46 1210.56 1467.01 Q1210.56 1473.53 1213.55 1477.33 Q1216.56 1481.13 1221.65 1481.13 Q1226.74 1481.13 1229.7 1477.33 Q1232.69 1473.53 1232.69 1467.01 Q1232.69 1460.46 1229.7 1456.66 Q1226.74 1452.86 1221.65 1452.86 M1221.65 1449.07 Q1228.92 1449.07 1233.27 1453.95 Q1237.62 1458.81 1237.62 1467.01 Q1237.62 1475.18 1233.27 1480.06 Q1228.92 1484.92 1221.65 1484.92 Q1214.36 1484.92 1209.98 1480.06 Q1205.63 1475.2 1205.63 1467.01 Q1205.63 1458.81 1209.98 1453.95 Q1214.36 1449.07 1221.65 1449.07 Z\" fill=\"#000000\" fill-rule=\"evenodd\" fill-opacity=\"1\" /><path clip-path=\"url(#clip6600)\" d=\"M 0 0 M1260.75 1459.32 L1260.75 1463.3 Q1258.94 1462.31 1257.11 1461.82 Q1255.31 1461.31 1253.45 1461.31 Q1249.31 1461.31 1247.02 1463.95 Q1244.73 1466.57 1244.73 1471.31 Q1244.73 1476.06 1247.02 1478.7 Q1249.31 1481.31 1253.45 1481.31 Q1255.31 1481.31 1257.11 1480.83 Q1258.94 1480.32 1260.75 1479.32 L1260.75 1483.26 Q1258.96 1484.09 1257.04 1484.51 Q1255.14 1484.92 1252.99 1484.92 Q1247.14 1484.92 1243.69 1481.24 Q1240.24 1477.56 1240.24 1471.31 Q1240.24 1464.97 1243.71 1461.34 Q1247.2 1457.7 1253.27 1457.7 Q1255.24 1457.7 1257.11 1458.12 Q1258.99 1458.51 1260.75 1459.32 Z\" fill=\"#000000\" fill-rule=\"evenodd\" fill-opacity=\"1\" /><path clip-path=\"url(#clip6600)\" d=\"M 0 0 M1269.43 1450.96 L1269.43 1458.33 L1278.2 1458.33 L1278.2 1461.64 L1269.43 1461.64 L1269.43 1475.71 Q1269.43 1478.88 1270.28 1479.78 Q1271.16 1480.69 1273.82 1480.69 L1278.2 1480.69 L1278.2 1484.25 L1273.82 1484.25 Q1268.89 1484.25 1267.02 1482.42 Q1265.14 1480.57 1265.14 1475.71 L1265.14 1461.64 L1262.02 1461.64 L1262.02 1458.33 L1265.14 1458.33 L1265.14 1450.96 L1269.43 1450.96 Z\" fill=\"#000000\" fill-rule=\"evenodd\" fill-opacity=\"1\" /><path clip-path=\"url(#clip6600)\" d=\"M 0 0 M1283.27 1478.37 L1288.15 1478.37 L1288.15 1484.25 L1283.27 1484.25 L1283.27 1478.37 Z\" fill=\"#000000\" fill-rule=\"evenodd\" fill-opacity=\"1\" /><path clip-path=\"url(#clip6600)\" d=\"M 0 0 M1309.1 1480.32 L1316.74 1480.32 L1316.74 1453.95 L1308.43 1455.62 L1308.43 1451.36 L1316.7 1449.69 L1321.37 1449.69 L1321.37 1480.32 L1329.01 1480.32 L1329.01 1484.25 L1309.1 1484.25 L1309.1 1480.32 Z\" fill=\"#000000\" fill-rule=\"evenodd\" fill-opacity=\"1\" /><path clip-path=\"url(#clip6600)\" d=\"M 0 0 M1346.93 1453.77 L1335.12 1472.21 L1346.93 1472.21 L1346.93 1453.77 M1345.7 1449.69 L1351.58 1449.69 L1351.58 1472.21 L1356.51 1472.21 L1356.51 1476.1 L1351.58 1476.1 L1351.58 1484.25 L1346.93 1484.25 L1346.93 1476.1 L1331.32 1476.1 L1331.32 1471.59 L1345.7 1449.69 Z\" fill=\"#000000\" fill-rule=\"evenodd\" fill-opacity=\"1\" /><path clip-path=\"url(#clip6600)\" d=\"M 0 0 M1362.07 1478.37 L1366.95 1478.37 L1366.95 1482.35 L1363.15 1489.76 L1360.17 1489.76 L1362.07 1482.35 L1362.07 1478.37 Z\" fill=\"#000000\" fill-rule=\"evenodd\" fill-opacity=\"1\" /><path clip-path=\"url(#clip6600)\" d=\"M 0 0 M1391.12 1480.32 L1407.44 1480.32 L1407.44 1484.25 L1385.49 1484.25 L1385.49 1480.32 Q1388.15 1477.56 1392.74 1472.93 Q1397.34 1468.28 1398.52 1466.94 Q1400.77 1464.41 1401.65 1462.68 Q1402.55 1460.92 1402.55 1459.23 Q1402.55 1456.47 1400.61 1454.74 Q1398.69 1453 1395.58 1453 Q1393.38 1453 1390.93 1453.77 Q1388.5 1454.53 1385.72 1456.08 L1385.72 1451.36 Q1388.55 1450.22 1391 1449.65 Q1393.45 1449.07 1395.49 1449.07 Q1400.86 1449.07 1404.06 1451.75 Q1407.25 1454.44 1407.25 1458.93 Q1407.25 1461.06 1406.44 1462.98 Q1405.65 1464.88 1403.55 1467.47 Q1402.97 1468.14 1399.87 1471.36 Q1396.76 1474.55 1391.12 1480.32 Z\" fill=\"#000000\" fill-rule=\"evenodd\" fill-opacity=\"1\" /><path clip-path=\"url(#clip6600)\" d=\"M 0 0 M1422.5 1452.77 Q1418.89 1452.77 1417.06 1456.34 Q1415.26 1459.88 1415.26 1467.01 Q1415.26 1474.11 1417.06 1477.68 Q1418.89 1481.22 1422.5 1481.22 Q1426.14 1481.22 1427.94 1477.68 Q1429.77 1474.11 1429.77 1467.01 Q1429.77 1459.88 1427.94 1456.34 Q1426.14 1452.77 1422.5 1452.77 M1422.5 1449.07 Q1428.31 1449.07 1431.37 1453.67 Q1434.45 1458.26 1434.45 1467.01 Q1434.45 1475.73 1431.37 1480.34 Q1428.31 1484.92 1422.5 1484.92 Q1416.69 1484.92 1413.62 1480.34 Q1410.56 1475.73 1410.56 1467.01 Q1410.56 1458.26 1413.62 1453.67 Q1416.69 1449.07 1422.5 1449.07 Z\" fill=\"#000000\" fill-rule=\"evenodd\" fill-opacity=\"1\" /><path clip-path=\"url(#clip6600)\" d=\"M 0 0 M1456.16 1452.86 Q1451.07 1452.86 1448.06 1456.66 Q1445.07 1460.46 1445.07 1467.01 Q1445.07 1473.53 1448.06 1477.33 Q1451.07 1481.13 1456.16 1481.13 Q1461.25 1481.13 1464.22 1477.33 Q1467.2 1473.53 1467.2 1467.01 Q1467.2 1460.46 1464.22 1456.66 Q1461.25 1452.86 1456.16 1452.86 M1456.16 1449.07 Q1463.43 1449.07 1467.78 1453.95 Q1472.13 1458.81 1472.13 1467.01 Q1472.13 1475.18 1467.78 1480.06 Q1463.43 1484.92 1456.16 1484.92 Q1448.87 1484.92 1444.49 1480.06 Q1440.14 1475.2 1440.14 1467.01 Q1440.14 1458.81 1444.49 1453.95 Q1448.87 1449.07 1456.16 1449.07 Z\" fill=\"#000000\" fill-rule=\"evenodd\" fill-opacity=\"1\" /><path clip-path=\"url(#clip6600)\" d=\"M 0 0 M1495.26 1459.32 L1495.26 1463.3 Q1493.45 1462.31 1491.62 1461.82 Q1489.82 1461.31 1487.97 1461.31 Q1483.82 1461.31 1481.53 1463.95 Q1479.24 1466.57 1479.24 1471.31 Q1479.24 1476.06 1481.53 1478.7 Q1483.82 1481.31 1487.97 1481.31 Q1489.82 1481.31 1491.62 1480.83 Q1493.45 1480.32 1495.26 1479.32 L1495.26 1483.26 Q1493.48 1484.09 1491.55 1484.51 Q1489.66 1484.92 1487.5 1484.92 Q1481.65 1484.92 1478.2 1481.24 Q1474.75 1477.56 1474.75 1471.31 Q1474.75 1464.97 1478.22 1461.34 Q1481.72 1457.7 1487.78 1457.7 Q1489.75 1457.7 1491.62 1458.12 Q1493.5 1458.51 1495.26 1459.32 Z\" fill=\"#000000\" fill-rule=\"evenodd\" fill-opacity=\"1\" /><path clip-path=\"url(#clip6600)\" d=\"M 0 0 M1503.94 1450.96 L1503.94 1458.33 L1512.71 1458.33 L1512.71 1461.64 L1503.94 1461.64 L1503.94 1475.71 Q1503.94 1478.88 1504.79 1479.78 Q1505.67 1480.69 1508.34 1480.69 L1512.71 1480.69 L1512.71 1484.25 L1508.34 1484.25 Q1503.41 1484.25 1501.53 1482.42 Q1499.66 1480.57 1499.66 1475.71 L1499.66 1461.64 L1496.53 1461.64 L1496.53 1458.33 L1499.66 1458.33 L1499.66 1450.96 L1503.94 1450.96 Z\" fill=\"#000000\" fill-rule=\"evenodd\" fill-opacity=\"1\" /><path clip-path=\"url(#clip6600)\" d=\"M 0 0 M1517.78 1478.37 L1522.66 1478.37 L1522.66 1484.25 L1517.78 1484.25 L1517.78 1478.37 Z\" fill=\"#000000\" fill-rule=\"evenodd\" fill-opacity=\"1\" /><path clip-path=\"url(#clip6600)\" d=\"M 0 0 M1546.83 1480.32 L1563.15 1480.32 L1563.15 1484.25 L1541.21 1484.25 L1541.21 1480.32 Q1543.87 1477.56 1548.45 1472.93 Q1553.06 1468.28 1554.24 1466.94 Q1556.48 1464.41 1557.36 1462.68 Q1558.27 1460.92 1558.27 1459.23 Q1558.27 1456.47 1556.32 1454.74 Q1554.4 1453 1551.3 1453 Q1549.1 1453 1546.65 1453.77 Q1544.22 1454.53 1541.44 1456.08 L1541.44 1451.36 Q1544.26 1450.22 1546.72 1449.65 Q1549.17 1449.07 1551.21 1449.07 Q1556.58 1449.07 1559.77 1451.75 Q1562.97 1454.44 1562.97 1458.93 Q1562.97 1461.06 1562.16 1462.98 Q1561.37 1464.88 1559.26 1467.47 Q1558.68 1468.14 1555.58 1471.36 Q1552.48 1474.55 1546.83 1480.32 Z\" fill=\"#000000\" fill-rule=\"evenodd\" fill-opacity=\"1\" /><path clip-path=\"url(#clip6600)\" d=\"M 0 0 M1572.25 1480.32 L1588.57 1480.32 L1588.57 1484.25 L1566.62 1484.25 L1566.62 1480.32 Q1569.29 1477.56 1573.87 1472.93 Q1578.47 1468.28 1579.66 1466.94 Q1581.9 1464.41 1582.78 1462.68 Q1583.68 1460.92 1583.68 1459.23 Q1583.68 1456.47 1581.74 1454.74 Q1579.82 1453 1576.72 1453 Q1574.52 1453 1572.06 1453.77 Q1569.63 1454.53 1566.85 1456.08 L1566.85 1451.36 Q1569.68 1450.22 1572.13 1449.65 Q1574.59 1449.07 1576.62 1449.07 Q1581.99 1449.07 1585.19 1451.75 Q1588.38 1454.44 1588.38 1458.93 Q1588.38 1461.06 1587.57 1462.98 Q1586.78 1464.88 1584.68 1467.47 Q1584.1 1468.14 1581 1471.36 Q1577.9 1474.55 1572.25 1480.32 Z\" fill=\"#000000\" fill-rule=\"evenodd\" fill-opacity=\"1\" /><path clip-path=\"url(#clip6600)\" d=\"M 0 0 M1594.12 1478.37 L1599.01 1478.37 L1599.01 1482.35 L1595.21 1489.76 L1592.22 1489.76 L1594.12 1482.35 L1594.12 1478.37 Z\" fill=\"#000000\" fill-rule=\"evenodd\" fill-opacity=\"1\" /><path clip-path=\"url(#clip6600)\" d=\"M 0 0 M1623.17 1480.32 L1639.49 1480.32 L1639.49 1484.25 L1617.55 1484.25 L1617.55 1480.32 Q1620.21 1477.56 1624.79 1472.93 Q1629.4 1468.28 1630.58 1466.94 Q1632.83 1464.41 1633.71 1462.68 Q1634.61 1460.92 1634.61 1459.23 Q1634.61 1456.47 1632.66 1454.74 Q1630.74 1453 1627.64 1453 Q1625.44 1453 1622.99 1453.77 Q1620.56 1454.53 1617.78 1456.08 L1617.78 1451.36 Q1620.6 1450.22 1623.06 1449.65 Q1625.51 1449.07 1627.55 1449.07 Q1632.92 1449.07 1636.11 1451.75 Q1639.31 1454.44 1639.31 1458.93 Q1639.31 1461.06 1638.5 1462.98 Q1637.71 1464.88 1635.6 1467.47 Q1635.03 1468.14 1631.92 1471.36 Q1628.82 1474.55 1623.17 1480.32 Z\" fill=\"#000000\" fill-rule=\"evenodd\" fill-opacity=\"1\" /><path clip-path=\"url(#clip6600)\" d=\"M 0 0 M1654.56 1452.77 Q1650.95 1452.77 1649.12 1456.34 Q1647.32 1459.88 1647.32 1467.01 Q1647.32 1474.11 1649.12 1477.68 Q1650.95 1481.22 1654.56 1481.22 Q1658.2 1481.22 1660 1477.68 Q1661.83 1474.11 1661.83 1467.01 Q1661.83 1459.88 1660 1456.34 Q1658.2 1452.77 1654.56 1452.77 M1654.56 1449.07 Q1660.37 1449.07 1663.43 1453.67 Q1666.51 1458.26 1666.51 1467.01 Q1666.51 1475.73 1663.43 1480.34 Q1660.37 1484.92 1654.56 1484.92 Q1648.75 1484.92 1645.67 1480.34 Q1642.62 1475.73 1642.62 1467.01 Q1642.62 1458.26 1645.67 1453.67 Q1648.75 1449.07 1654.56 1449.07 Z\" fill=\"#000000\" fill-rule=\"evenodd\" fill-opacity=\"1\" /><path clip-path=\"url(#clip6600)\" d=\"M 0 0 M1717.95 1452.86 Q1712.85 1452.86 1709.84 1456.66 Q1706.86 1460.46 1706.86 1467.01 Q1706.86 1473.53 1709.84 1477.33 Q1712.85 1481.13 1717.95 1481.13 Q1723.04 1481.13 1726 1477.33 Q1728.99 1473.53 1728.99 1467.01 Q1728.99 1460.46 1726 1456.66 Q1723.04 1452.86 1717.95 1452.86 M1717.95 1449.07 Q1725.21 1449.07 1729.57 1453.95 Q1733.92 1458.81 1733.92 1467.01 Q1733.92 1475.18 1729.57 1480.06 Q1725.21 1484.92 1717.95 1484.92 Q1710.65 1484.92 1706.28 1480.06 Q1701.93 1475.2 1701.93 1467.01 Q1701.93 1458.81 1706.28 1453.95 Q1710.65 1449.07 1717.95 1449.07 Z\" fill=\"#000000\" fill-rule=\"evenodd\" fill-opacity=\"1\" /><path clip-path=\"url(#clip6600)\" d=\"M 0 0 M1757.04 1459.32 L1757.04 1463.3 Q1755.24 1462.31 1753.41 1461.82 Q1751.6 1461.31 1749.75 1461.31 Q1745.61 1461.31 1743.32 1463.95 Q1741.02 1466.57 1741.02 1471.31 Q1741.02 1476.06 1743.32 1478.7 Q1745.61 1481.31 1749.75 1481.31 Q1751.6 1481.31 1753.41 1480.83 Q1755.24 1480.32 1757.04 1479.32 L1757.04 1483.26 Q1755.26 1484.09 1753.34 1484.51 Q1751.44 1484.92 1749.29 1484.92 Q1743.43 1484.92 1739.98 1481.24 Q1736.53 1477.56 1736.53 1471.31 Q1736.53 1464.97 1740.01 1461.34 Q1743.5 1457.7 1749.57 1457.7 Q1751.53 1457.7 1753.41 1458.12 Q1755.28 1458.51 1757.04 1459.32 Z\" fill=\"#000000\" fill-rule=\"evenodd\" fill-opacity=\"1\" /><path clip-path=\"url(#clip6600)\" d=\"M 0 0 M1765.72 1450.96 L1765.72 1458.33 L1774.5 1458.33 L1774.5 1461.64 L1765.72 1461.64 L1765.72 1475.71 Q1765.72 1478.88 1766.58 1479.78 Q1767.46 1480.69 1770.12 1480.69 L1774.5 1480.69 L1774.5 1484.25 L1770.12 1484.25 Q1765.19 1484.25 1763.32 1482.42 Q1761.44 1480.57 1761.44 1475.71 L1761.44 1461.64 L1758.32 1461.64 L1758.32 1458.33 L1761.44 1458.33 L1761.44 1450.96 L1765.72 1450.96 Z\" fill=\"#000000\" fill-rule=\"evenodd\" fill-opacity=\"1\" /><path clip-path=\"url(#clip6600)\" d=\"M 0 0 M1779.57 1478.37 L1784.45 1478.37 L1784.45 1484.25 L1779.57 1484.25 L1779.57 1478.37 Z\" fill=\"#000000\" fill-rule=\"evenodd\" fill-opacity=\"1\" /><path clip-path=\"url(#clip6600)\" d=\"M 0 0 M1818.76 1465.62 Q1822.11 1466.34 1823.99 1468.6 Q1825.89 1470.87 1825.89 1474.21 Q1825.89 1479.32 1822.37 1482.12 Q1818.85 1484.92 1812.37 1484.92 Q1810.19 1484.92 1807.88 1484.48 Q1805.58 1484.07 1803.13 1483.21 L1803.13 1478.7 Q1805.08 1479.83 1807.39 1480.41 Q1809.7 1480.99 1812.23 1480.99 Q1816.63 1480.99 1818.92 1479.25 Q1821.23 1477.52 1821.23 1474.21 Q1821.23 1471.15 1819.08 1469.44 Q1816.95 1467.7 1813.13 1467.7 L1809.1 1467.7 L1809.1 1463.86 L1813.32 1463.86 Q1816.76 1463.86 1818.59 1462.49 Q1820.42 1461.1 1820.42 1458.51 Q1820.42 1455.85 1818.52 1454.44 Q1816.65 1453 1813.13 1453 Q1811.21 1453 1809.01 1453.42 Q1806.81 1453.84 1804.17 1454.71 L1804.17 1450.55 Q1806.83 1449.81 1809.15 1449.44 Q1811.49 1449.07 1813.55 1449.07 Q1818.87 1449.07 1821.97 1451.5 Q1825.08 1453.9 1825.08 1458.03 Q1825.08 1460.9 1823.43 1462.89 Q1821.79 1464.85 1818.76 1465.62 Z\" fill=\"#000000\" fill-rule=\"evenodd\" fill-opacity=\"1\" /><path clip-path=\"url(#clip6600)\" d=\"M 0 0 M1831.76 1480.32 L1839.4 1480.32 L1839.4 1453.95 L1831.09 1455.62 L1831.09 1451.36 L1839.36 1449.69 L1844.03 1449.69 L1844.03 1480.32 L1851.67 1480.32 L1851.67 1484.25 L1831.76 1484.25 L1831.76 1480.32 Z\" fill=\"#000000\" fill-rule=\"evenodd\" fill-opacity=\"1\" /><path clip-path=\"url(#clip6600)\" d=\"M 0 0 M1857.23 1478.37 L1862.11 1478.37 L1862.11 1482.35 L1858.32 1489.76 L1855.33 1489.76 L1857.23 1482.35 L1857.23 1478.37 Z\" fill=\"#000000\" fill-rule=\"evenodd\" fill-opacity=\"1\" /><path clip-path=\"url(#clip6600)\" d=\"M 0 0 M1886.28 1480.32 L1902.6 1480.32 L1902.6 1484.25 L1880.65 1484.25 L1880.65 1480.32 Q1883.32 1477.56 1887.9 1472.93 Q1892.51 1468.28 1893.69 1466.94 Q1895.93 1464.41 1896.81 1462.68 Q1897.71 1460.92 1897.71 1459.23 Q1897.71 1456.47 1895.77 1454.74 Q1893.85 1453 1890.75 1453 Q1888.55 1453 1886.09 1453.77 Q1883.66 1454.53 1880.88 1456.08 L1880.88 1451.36 Q1883.71 1450.22 1886.16 1449.65 Q1888.62 1449.07 1890.65 1449.07 Q1896.02 1449.07 1899.22 1451.75 Q1902.41 1454.44 1902.41 1458.93 Q1902.41 1461.06 1901.6 1462.98 Q1900.82 1464.88 1898.71 1467.47 Q1898.13 1468.14 1895.03 1471.36 Q1891.93 1474.55 1886.28 1480.32 Z\" fill=\"#000000\" fill-rule=\"evenodd\" fill-opacity=\"1\" /><path clip-path=\"url(#clip6600)\" d=\"M 0 0 M1917.67 1452.77 Q1914.06 1452.77 1912.23 1456.34 Q1910.42 1459.88 1910.42 1467.01 Q1910.42 1474.11 1912.23 1477.68 Q1914.06 1481.22 1917.67 1481.22 Q1921.3 1481.22 1923.11 1477.68 Q1924.94 1474.11 1924.94 1467.01 Q1924.94 1459.88 1923.11 1456.34 Q1921.3 1452.77 1917.67 1452.77 M1917.67 1449.07 Q1923.48 1449.07 1926.53 1453.67 Q1929.61 1458.26 1929.61 1467.01 Q1929.61 1475.73 1926.53 1480.34 Q1923.48 1484.92 1917.67 1484.92 Q1911.86 1484.92 1908.78 1480.34 Q1905.72 1475.73 1905.72 1467.01 Q1905.72 1458.26 1908.78 1453.67 Q1911.86 1449.07 1917.67 1449.07 Z\" fill=\"#000000\" fill-rule=\"evenodd\" fill-opacity=\"1\" /><path clip-path=\"url(#clip6600)\" d=\"M 0 0 M1946.35 1449.69 L1952.64 1449.69 L1967.97 1478.6 L1967.97 1449.69 L1972.5 1449.69 L1972.5 1484.25 L1966.21 1484.25 L1950.88 1455.34 L1950.88 1484.25 L1946.35 1484.25 L1946.35 1449.69 Z\" fill=\"#000000\" fill-rule=\"evenodd\" fill-opacity=\"1\" /><path clip-path=\"url(#clip6600)\" d=\"M 0 0 M1987.02 1461.31 Q1983.59 1461.31 1981.6 1464 Q1979.61 1466.66 1979.61 1471.31 Q1979.61 1475.96 1981.58 1478.65 Q1983.57 1481.31 1987.02 1481.31 Q1990.42 1481.31 1992.41 1478.63 Q1994.4 1475.94 1994.4 1471.31 Q1994.4 1466.71 1992.41 1464.02 Q1990.42 1461.31 1987.02 1461.31 M1987.02 1457.7 Q1992.57 1457.7 1995.74 1461.31 Q1998.92 1464.92 1998.92 1471.31 Q1998.92 1477.68 1995.74 1481.31 Q1992.57 1484.92 1987.02 1484.92 Q1981.44 1484.92 1978.27 1481.31 Q1975.12 1477.68 1975.12 1471.31 Q1975.12 1464.92 1978.27 1461.31 Q1981.44 1457.7 1987.02 1457.7 Z\" fill=\"#000000\" fill-rule=\"evenodd\" fill-opacity=\"1\" /><path clip-path=\"url(#clip6600)\" d=\"M 0 0 M2000.33 1458.33 L2004.84 1458.33 L2012.94 1480.09 L2021.05 1458.33 L2025.56 1458.33 L2015.84 1484.25 L2010.05 1484.25 L2000.33 1458.33 Z\" fill=\"#000000\" fill-rule=\"evenodd\" fill-opacity=\"1\" /><path clip-path=\"url(#clip6600)\" d=\"M 0 0 M2026.95 1478.37 L2031.83 1478.37 L2031.83 1484.25 L2026.95 1484.25 L2026.95 1478.37 Z\" fill=\"#000000\" fill-rule=\"evenodd\" fill-opacity=\"1\" /><path clip-path=\"url(#clip6600)\" d=\"M 0 0 M2061.97 1467.84 Q2058.64 1467.84 2056.72 1469.62 Q2054.82 1471.4 2054.82 1474.53 Q2054.82 1477.65 2056.72 1479.44 Q2058.64 1481.22 2061.97 1481.22 Q2065.3 1481.22 2067.23 1479.44 Q2069.15 1477.63 2069.15 1474.53 Q2069.15 1471.4 2067.23 1469.62 Q2065.33 1467.84 2061.97 1467.84 M2057.29 1465.85 Q2054.29 1465.11 2052.6 1463.05 Q2050.93 1460.99 2050.93 1458.03 Q2050.93 1453.88 2053.87 1451.47 Q2056.83 1449.07 2061.97 1449.07 Q2067.13 1449.07 2070.07 1451.47 Q2073.01 1453.88 2073.01 1458.03 Q2073.01 1460.99 2071.32 1463.05 Q2069.66 1465.11 2066.67 1465.85 Q2070.05 1466.64 2071.92 1468.93 Q2073.82 1471.22 2073.82 1474.53 Q2073.82 1479.55 2070.74 1482.24 Q2067.69 1484.92 2061.97 1484.92 Q2056.25 1484.92 2053.17 1482.24 Q2050.12 1479.55 2050.12 1474.53 Q2050.12 1471.22 2052.02 1468.93 Q2053.92 1466.64 2057.29 1465.85 M2055.58 1458.46 Q2055.58 1461.15 2057.25 1462.65 Q2058.94 1464.16 2061.97 1464.16 Q2064.98 1464.16 2066.67 1462.65 Q2068.38 1461.15 2068.38 1458.46 Q2068.38 1455.78 2066.67 1454.28 Q2064.98 1452.77 2061.97 1452.77 Q2058.94 1452.77 2057.25 1454.28 Q2055.58 1455.78 2055.58 1458.46 Z\" fill=\"#000000\" fill-rule=\"evenodd\" fill-opacity=\"1\" /><path clip-path=\"url(#clip6600)\" d=\"M 0 0 M2079.38 1478.37 L2084.26 1478.37 L2084.26 1482.35 L2080.47 1489.76 L2077.48 1489.76 L2079.38 1482.35 L2079.38 1478.37 Z\" fill=\"#000000\" fill-rule=\"evenodd\" fill-opacity=\"1\" /><path clip-path=\"url(#clip6600)\" d=\"M 0 0 M2108.43 1480.32 L2124.75 1480.32 L2124.75 1484.25 L2102.8 1484.25 L2102.8 1480.32 Q2105.47 1477.56 2110.05 1472.93 Q2114.66 1468.28 2115.84 1466.94 Q2118.08 1464.41 2118.96 1462.68 Q2119.86 1460.92 2119.86 1459.23 Q2119.86 1456.47 2117.92 1454.74 Q2116 1453 2112.9 1453 Q2110.7 1453 2108.24 1453.77 Q2105.81 1454.53 2103.04 1456.08 L2103.04 1451.36 Q2105.86 1450.22 2108.31 1449.65 Q2110.77 1449.07 2112.8 1449.07 Q2118.17 1449.07 2121.37 1451.75 Q2124.56 1454.44 2124.56 1458.93 Q2124.56 1461.06 2123.75 1462.98 Q2122.97 1464.88 2120.86 1467.47 Q2120.28 1468.14 2117.18 1471.36 Q2114.08 1474.55 2108.43 1480.32 Z\" fill=\"#000000\" fill-rule=\"evenodd\" fill-opacity=\"1\" /><path clip-path=\"url(#clip6600)\" d=\"M 0 0 M2139.82 1452.77 Q2136.21 1452.77 2134.38 1456.34 Q2132.57 1459.88 2132.57 1467.01 Q2132.57 1474.11 2134.38 1477.68 Q2136.21 1481.22 2139.82 1481.22 Q2143.45 1481.22 2145.26 1477.68 Q2147.09 1474.11 2147.09 1467.01 Q2147.09 1459.88 2145.26 1456.34 Q2143.45 1452.77 2139.82 1452.77 M2139.82 1449.07 Q2145.63 1449.07 2148.68 1453.67 Q2151.76 1458.26 2151.76 1467.01 Q2151.76 1475.73 2148.68 1480.34 Q2145.63 1484.92 2139.82 1484.92 Q2134.01 1484.92 2130.93 1480.34 Q2127.87 1475.73 2127.87 1467.01 Q2127.87 1458.26 2130.93 1453.67 Q2134.01 1449.07 2139.82 1449.07 Z\" fill=\"#000000\" fill-rule=\"evenodd\" fill-opacity=\"1\" /><path clip-path=\"url(#clip6600)\" d=\"M 0 0 M2166.61 1449.69 L2172.91 1449.69 L2188.23 1478.6 L2188.23 1449.69 L2192.77 1449.69 L2192.77 1484.25 L2186.47 1484.25 L2171.15 1455.34 L2171.15 1484.25 L2166.61 1484.25 L2166.61 1449.69 Z\" fill=\"#000000\" fill-rule=\"evenodd\" fill-opacity=\"1\" /><path clip-path=\"url(#clip6600)\" d=\"M 0 0 M2207.28 1461.31 Q2203.86 1461.31 2201.86 1464 Q2199.87 1466.66 2199.87 1471.31 Q2199.87 1475.96 2201.84 1478.65 Q2203.83 1481.31 2207.28 1481.31 Q2210.68 1481.31 2212.67 1478.63 Q2214.67 1475.94 2214.67 1471.31 Q2214.67 1466.71 2212.67 1464.02 Q2210.68 1461.31 2207.28 1461.31 M2207.28 1457.7 Q2212.84 1457.7 2216.01 1461.31 Q2219.18 1464.92 2219.18 1471.31 Q2219.18 1477.68 2216.01 1481.31 Q2212.84 1484.92 2207.28 1484.92 Q2201.7 1484.92 2198.53 1481.31 Q2195.38 1477.68 2195.38 1471.31 Q2195.38 1464.92 2198.53 1461.31 Q2201.7 1457.7 2207.28 1457.7 Z\" fill=\"#000000\" fill-rule=\"evenodd\" fill-opacity=\"1\" /><path clip-path=\"url(#clip6600)\" d=\"M 0 0 M2220.59 1458.33 L2225.11 1458.33 L2233.21 1480.09 L2241.31 1458.33 L2245.82 1458.33 L2236.1 1484.25 L2230.31 1484.25 L2220.59 1458.33 Z\" fill=\"#000000\" fill-rule=\"evenodd\" fill-opacity=\"1\" /><path clip-path=\"url(#clip6600)\" d=\"M 0 0 M2247.21 1478.37 L2252.1 1478.37 L2252.1 1484.25 L2247.21 1484.25 L2247.21 1478.37 Z\" fill=\"#000000\" fill-rule=\"evenodd\" fill-opacity=\"1\" /><path clip-path=\"url(#clip6600)\" d=\"M 0 0 M2273.04 1480.32 L2280.68 1480.32 L2280.68 1453.95 L2272.37 1455.62 L2272.37 1451.36 L2280.64 1449.69 L2285.31 1449.69 L2285.31 1480.32 L2292.95 1480.32 L2292.95 1484.25 L2273.04 1484.25 L2273.04 1480.32 Z\" fill=\"#000000\" fill-rule=\"evenodd\" fill-opacity=\"1\" /><path clip-path=\"url(#clip6600)\" d=\"M 0 0 M2308.6 1465.11 Q2305.45 1465.11 2303.6 1467.26 Q2301.77 1469.41 2301.77 1473.16 Q2301.77 1476.89 2303.6 1479.07 Q2305.45 1481.22 2308.6 1481.22 Q2311.75 1481.22 2313.58 1479.07 Q2315.43 1476.89 2315.43 1473.16 Q2315.43 1469.41 2313.58 1467.26 Q2311.75 1465.11 2308.6 1465.11 M2317.88 1450.46 L2317.88 1454.71 Q2316.12 1453.88 2314.32 1453.44 Q2312.54 1453 2310.78 1453 Q2306.15 1453 2303.69 1456.13 Q2301.26 1459.25 2300.91 1465.57 Q2302.28 1463.56 2304.34 1462.49 Q2306.4 1461.4 2308.88 1461.4 Q2314.09 1461.4 2317.1 1464.58 Q2320.13 1467.72 2320.13 1473.16 Q2320.13 1478.49 2316.98 1481.71 Q2313.83 1484.92 2308.6 1484.92 Q2302.6 1484.92 2299.43 1480.34 Q2296.26 1475.73 2296.26 1467.01 Q2296.26 1458.81 2300.15 1453.95 Q2304.04 1449.07 2310.59 1449.07 Q2312.35 1449.07 2314.13 1449.41 Q2315.94 1449.76 2317.88 1450.46 Z\" fill=\"#000000\" fill-rule=\"evenodd\" fill-opacity=\"1\" /><path clip-path=\"url(#clip6600)\" d=\"M 0 0 M2325.68 1478.37 L2330.57 1478.37 L2330.57 1482.35 L2326.77 1489.76 L2323.79 1489.76 L2325.68 1482.35 L2325.68 1478.37 Z\" fill=\"#000000\" fill-rule=\"evenodd\" fill-opacity=\"1\" /><path clip-path=\"url(#clip6600)\" d=\"M 0 0 M2354.73 1480.32 L2371.05 1480.32 L2371.05 1484.25 L2349.11 1484.25 L2349.11 1480.32 Q2351.77 1477.56 2356.35 1472.93 Q2360.96 1468.28 2362.14 1466.94 Q2364.39 1464.41 2365.27 1462.68 Q2366.17 1460.92 2366.17 1459.23 Q2366.17 1456.47 2364.22 1454.74 Q2362.3 1453 2359.2 1453 Q2357 1453 2354.55 1453.77 Q2352.12 1454.53 2349.34 1456.08 L2349.34 1451.36 Q2352.16 1450.22 2354.62 1449.65 Q2357.07 1449.07 2359.11 1449.07 Q2364.48 1449.07 2367.67 1451.75 Q2370.87 1454.44 2370.87 1458.93 Q2370.87 1461.06 2370.06 1462.98 Q2369.27 1464.88 2367.16 1467.47 Q2366.59 1468.14 2363.48 1471.36 Q2360.38 1474.55 2354.73 1480.32 Z\" fill=\"#000000\" fill-rule=\"evenodd\" fill-opacity=\"1\" /><path clip-path=\"url(#clip6600)\" d=\"M 0 0 M2386.12 1452.77 Q2382.51 1452.77 2380.68 1456.34 Q2378.88 1459.88 2378.88 1467.01 Q2378.88 1474.11 2380.68 1477.68 Q2382.51 1481.22 2386.12 1481.22 Q2389.76 1481.22 2391.56 1477.68 Q2393.39 1474.11 2393.39 1467.01 Q2393.39 1459.88 2391.56 1456.34 Q2389.76 1452.77 2386.12 1452.77 M2386.12 1449.07 Q2391.93 1449.07 2394.99 1453.67 Q2398.07 1458.26 2398.07 1467.01 Q2398.07 1475.73 2394.99 1480.34 Q2391.93 1484.92 2386.12 1484.92 Q2380.31 1484.92 2377.23 1480.34 Q2374.18 1475.73 2374.18 1467.01 Q2374.18 1458.26 2377.23 1453.67 Q2380.31 1449.07 2386.12 1449.07 Z\" fill=\"#000000\" fill-rule=\"evenodd\" fill-opacity=\"1\" /><path clip-path=\"url(#clip6600)\" d=\"M 0 0 M2429.82 1449.69 L2436.12 1449.69 L2451.44 1478.6 L2451.44 1449.69 L2455.98 1449.69 L2455.98 1484.25 L2449.68 1484.25 L2434.36 1455.34 L2434.36 1484.25 L2429.82 1484.25 L2429.82 1449.69 Z\" fill=\"#000000\" fill-rule=\"evenodd\" fill-opacity=\"1\" /><path clip-path=\"url(#clip6600)\" d=\"M 0 0 M2470.49 1461.31 Q2467.06 1461.31 2465.07 1464 Q2463.08 1466.66 2463.08 1471.31 Q2463.08 1475.96 2465.05 1478.65 Q2467.04 1481.31 2470.49 1481.31 Q2473.89 1481.31 2475.88 1478.63 Q2477.87 1475.94 2477.87 1471.31 Q2477.87 1466.71 2475.88 1464.02 Q2473.89 1461.31 2470.49 1461.31 M2470.49 1457.7 Q2476.05 1457.7 2479.22 1461.31 Q2482.39 1464.92 2482.39 1471.31 Q2482.39 1477.68 2479.22 1481.31 Q2476.05 1484.92 2470.49 1484.92 Q2464.91 1484.92 2461.74 1481.31 Q2458.59 1477.68 2458.59 1471.31 Q2458.59 1464.92 2461.74 1461.31 Q2464.91 1457.7 2470.49 1457.7 Z\" fill=\"#000000\" fill-rule=\"evenodd\" fill-opacity=\"1\" /><path clip-path=\"url(#clip6600)\" d=\"M 0 0 M2483.8 1458.33 L2488.31 1458.33 L2496.42 1480.09 L2504.52 1458.33 L2509.03 1458.33 L2499.31 1484.25 L2493.52 1484.25 L2483.8 1458.33 Z\" fill=\"#000000\" fill-rule=\"evenodd\" fill-opacity=\"1\" /><path clip-path=\"url(#clip6600)\" d=\"M 0 0 M2510.42 1478.37 L2515.3 1478.37 L2515.3 1484.25 L2510.42 1484.25 L2510.42 1478.37 Z\" fill=\"#000000\" fill-rule=\"evenodd\" fill-opacity=\"1\" /><path clip-path=\"url(#clip6600)\" d=\"M 0 0 M2539.47 1480.32 L2555.79 1480.32 L2555.79 1484.25 L2533.85 1484.25 L2533.85 1480.32 Q2536.51 1477.56 2541.09 1472.93 Q2545.7 1468.28 2546.88 1466.94 Q2549.12 1464.41 2550 1462.68 Q2550.91 1460.92 2550.91 1459.23 Q2550.91 1456.47 2548.96 1454.74 Q2547.04 1453 2543.94 1453 Q2541.74 1453 2539.29 1453.77 Q2536.86 1454.53 2534.08 1456.08 L2534.08 1451.36 Q2536.9 1450.22 2539.36 1449.65 Q2541.81 1449.07 2543.85 1449.07 Q2549.22 1449.07 2552.41 1451.75 Q2555.61 1454.44 2555.61 1458.93 Q2555.61 1461.06 2554.8 1462.98 Q2554.01 1464.88 2551.9 1467.47 Q2551.32 1468.14 2548.22 1471.36 Q2545.12 1474.55 2539.47 1480.32 Z\" fill=\"#000000\" fill-rule=\"evenodd\" fill-opacity=\"1\" /><path clip-path=\"url(#clip6600)\" d=\"M 0 0 M2560.91 1449.69 L2579.26 1449.69 L2579.26 1453.63 L2565.19 1453.63 L2565.19 1462.1 Q2566.21 1461.75 2567.23 1461.59 Q2568.24 1461.4 2569.26 1461.4 Q2575.05 1461.4 2578.43 1464.58 Q2581.81 1467.75 2581.81 1473.16 Q2581.81 1478.74 2578.34 1481.84 Q2574.86 1484.92 2568.55 1484.92 Q2566.37 1484.92 2564.1 1484.55 Q2561.86 1484.18 2559.45 1483.44 L2559.45 1478.74 Q2561.53 1479.88 2563.75 1480.43 Q2565.98 1480.99 2568.45 1480.99 Q2572.46 1480.99 2574.8 1478.88 Q2577.13 1476.78 2577.13 1473.16 Q2577.13 1469.55 2574.8 1467.45 Q2572.46 1465.34 2568.45 1465.34 Q2566.58 1465.34 2564.7 1465.76 Q2562.85 1466.17 2560.91 1467.05 L2560.91 1449.69 Z\" fill=\"#000000\" fill-rule=\"evenodd\" fill-opacity=\"1\" /><path clip-path=\"url(#clip6600)\" d=\"M 0 0 M2587.36 1478.37 L2592.25 1478.37 L2592.25 1482.35 L2588.45 1489.76 L2585.47 1489.76 L2587.36 1482.35 L2587.36 1478.37 Z\" fill=\"#000000\" fill-rule=\"evenodd\" fill-opacity=\"1\" /><path clip-path=\"url(#clip6600)\" d=\"M 0 0 M2616.42 1480.32 L2632.73 1480.32 L2632.73 1484.25 L2610.79 1484.25 L2610.79 1480.32 Q2613.45 1477.56 2618.04 1472.93 Q2622.64 1468.28 2623.82 1466.94 Q2626.07 1464.41 2626.95 1462.68 Q2627.85 1460.92 2627.85 1459.23 Q2627.85 1456.47 2625.91 1454.74 Q2623.98 1453 2620.88 1453 Q2618.68 1453 2616.23 1453.77 Q2613.8 1454.53 2611.02 1456.08 L2611.02 1451.36 Q2613.85 1450.22 2616.3 1449.65 Q2618.75 1449.07 2620.79 1449.07 Q2626.16 1449.07 2629.36 1451.75 Q2632.55 1454.44 2632.55 1458.93 Q2632.55 1461.06 2631.74 1462.98 Q2630.95 1464.88 2628.85 1467.47 Q2628.27 1468.14 2625.17 1471.36 Q2622.06 1474.55 2616.42 1480.32 Z\" fill=\"#000000\" fill-rule=\"evenodd\" fill-opacity=\"1\" /><path clip-path=\"url(#clip6600)\" d=\"M 0 0 M2647.8 1452.77 Q2644.19 1452.77 2642.36 1456.34 Q2640.56 1459.88 2640.56 1467.01 Q2640.56 1474.11 2642.36 1477.68 Q2644.19 1481.22 2647.8 1481.22 Q2651.44 1481.22 2653.24 1477.68 Q2655.07 1474.11 2655.07 1467.01 Q2655.07 1459.88 2653.24 1456.34 Q2651.44 1452.77 2647.8 1452.77 M2647.8 1449.07 Q2653.61 1449.07 2656.67 1453.67 Q2659.75 1458.26 2659.75 1467.01 Q2659.75 1475.73 2656.67 1480.34 Q2653.61 1484.92 2647.8 1484.92 Q2641.99 1484.92 2638.92 1480.34 Q2635.86 1475.73 2635.86 1467.01 Q2635.86 1458.26 2638.92 1453.67 Q2641.99 1449.07 2647.8 1449.07 Z\" fill=\"#000000\" fill-rule=\"evenodd\" fill-opacity=\"1\" /><path clip-path=\"url(#clip6600)\" d=\"M 0 0 M2678.67 1453.53 L2678.67 1480.41 L2684.32 1480.41 Q2691.47 1480.41 2694.78 1477.17 Q2698.11 1473.93 2698.11 1466.94 Q2698.11 1459.99 2694.78 1456.78 Q2691.47 1453.53 2684.32 1453.53 L2678.67 1453.53 M2673.99 1449.69 L2683.6 1449.69 Q2693.65 1449.69 2698.35 1453.88 Q2703.05 1458.05 2703.05 1466.94 Q2703.05 1475.87 2698.32 1480.06 Q2693.6 1484.25 2683.6 1484.25 L2673.99 1484.25 L2673.99 1449.69 Z\" fill=\"#000000\" fill-rule=\"evenodd\" fill-opacity=\"1\" /><path clip-path=\"url(#clip6600)\" d=\"M 0 0 M2729.69 1470.22 L2729.69 1472.31 L2710.11 1472.31 Q2710.38 1476.71 2712.74 1479.02 Q2715.13 1481.31 2719.36 1481.31 Q2721.82 1481.31 2724.11 1480.71 Q2726.43 1480.11 2728.69 1478.9 L2728.69 1482.93 Q2726.4 1483.9 2723.99 1484.41 Q2721.59 1484.92 2719.11 1484.92 Q2712.91 1484.92 2709.27 1481.31 Q2705.66 1477.7 2705.66 1471.54 Q2705.66 1465.18 2709.09 1461.45 Q2712.54 1457.7 2718.37 1457.7 Q2723.6 1457.7 2726.63 1461.08 Q2729.69 1464.44 2729.69 1470.22 M2725.43 1468.97 Q2725.38 1465.48 2723.46 1463.4 Q2721.56 1461.31 2718.42 1461.31 Q2714.85 1461.31 2712.7 1463.33 Q2710.57 1465.34 2710.24 1469 L2725.43 1468.97 Z\" fill=\"#000000\" fill-rule=\"evenodd\" fill-opacity=\"1\" /><path clip-path=\"url(#clip6600)\" d=\"M 0 0 M2752.81 1459.32 L2752.81 1463.3 Q2751.01 1462.31 2749.18 1461.82 Q2747.37 1461.31 2745.52 1461.31 Q2741.38 1461.31 2739.09 1463.95 Q2736.8 1466.57 2736.8 1471.31 Q2736.8 1476.06 2739.09 1478.7 Q2741.38 1481.31 2745.52 1481.31 Q2747.37 1481.31 2749.18 1480.83 Q2751.01 1480.32 2752.81 1479.32 L2752.81 1483.26 Q2751.03 1484.09 2749.11 1484.51 Q2747.21 1484.92 2745.06 1484.92 Q2739.2 1484.92 2735.75 1481.24 Q2732.3 1477.56 2732.3 1471.31 Q2732.3 1464.97 2735.78 1461.34 Q2739.27 1457.7 2745.34 1457.7 Q2747.3 1457.7 2749.18 1458.12 Q2751.05 1458.51 2752.81 1459.32 Z\" fill=\"#000000\" fill-rule=\"evenodd\" fill-opacity=\"1\" /><path clip-path=\"url(#clip6600)\" d=\"M 0 0 M2757.88 1478.37 L2762.77 1478.37 L2762.77 1484.25 L2757.88 1484.25 L2757.88 1478.37 Z\" fill=\"#000000\" fill-rule=\"evenodd\" fill-opacity=\"1\" /><path clip-path=\"url(#clip6600)\" d=\"M 0 0 M2797.07 1465.62 Q2800.43 1466.34 2802.3 1468.6 Q2804.2 1470.87 2804.2 1474.21 Q2804.2 1479.32 2800.68 1482.12 Q2797.17 1484.92 2790.68 1484.92 Q2788.51 1484.92 2786.19 1484.48 Q2783.9 1484.07 2781.45 1483.21 L2781.45 1478.7 Q2783.39 1479.83 2785.71 1480.41 Q2788.02 1480.99 2790.55 1480.99 Q2794.94 1480.99 2797.23 1479.25 Q2799.55 1477.52 2799.55 1474.21 Q2799.55 1471.15 2797.4 1469.44 Q2795.27 1467.7 2791.45 1467.7 L2787.42 1467.7 L2787.42 1463.86 L2791.63 1463.86 Q2795.08 1463.86 2796.91 1462.49 Q2798.74 1461.1 2798.74 1458.51 Q2798.74 1455.85 2796.84 1454.44 Q2794.97 1453 2791.45 1453 Q2789.53 1453 2787.33 1453.42 Q2785.13 1453.84 2782.49 1454.71 L2782.49 1450.55 Q2785.15 1449.81 2787.47 1449.44 Q2789.8 1449.07 2791.86 1449.07 Q2797.19 1449.07 2800.29 1451.5 Q2803.39 1453.9 2803.39 1458.03 Q2803.39 1460.9 2801.75 1462.89 Q2800.11 1464.85 2797.07 1465.62 Z\" fill=\"#000000\" fill-rule=\"evenodd\" fill-opacity=\"1\" /><path clip-path=\"url(#clip6600)\" d=\"M 0 0 M2809.76 1478.37 L2814.64 1478.37 L2814.64 1482.35 L2810.85 1489.76 L2807.86 1489.76 L2809.76 1482.35 L2809.76 1478.37 Z\" fill=\"#000000\" fill-rule=\"evenodd\" fill-opacity=\"1\" /><path clip-path=\"url(#clip6600)\" d=\"M 0 0 M2838.81 1480.32 L2855.13 1480.32 L2855.13 1484.25 L2833.18 1484.25 L2833.18 1480.32 Q2835.85 1477.56 2840.43 1472.93 Q2845.04 1468.28 2846.22 1466.94 Q2848.46 1464.41 2849.34 1462.68 Q2850.24 1460.92 2850.24 1459.23 Q2850.24 1456.47 2848.3 1454.74 Q2846.38 1453 2843.28 1453 Q2841.08 1453 2838.62 1453.77 Q2836.19 1454.53 2833.42 1456.08 L2833.42 1451.36 Q2836.24 1450.22 2838.69 1449.65 Q2841.15 1449.07 2843.18 1449.07 Q2848.55 1449.07 2851.75 1451.75 Q2854.94 1454.44 2854.94 1458.93 Q2854.94 1461.06 2854.13 1462.98 Q2853.35 1464.88 2851.24 1467.47 Q2850.66 1468.14 2847.56 1471.36 Q2844.46 1474.55 2838.81 1480.32 Z\" fill=\"#000000\" fill-rule=\"evenodd\" fill-opacity=\"1\" /><path clip-path=\"url(#clip6600)\" d=\"M 0 0 M2870.2 1452.77 Q2866.59 1452.77 2864.76 1456.34 Q2862.95 1459.88 2862.95 1467.01 Q2862.95 1474.11 2864.76 1477.68 Q2866.59 1481.22 2870.2 1481.22 Q2873.83 1481.22 2875.64 1477.68 Q2877.47 1474.11 2877.47 1467.01 Q2877.47 1459.88 2875.64 1456.34 Q2873.83 1452.77 2870.2 1452.77 M2870.2 1449.07 Q2876.01 1449.07 2879.06 1453.67 Q2882.14 1458.26 2882.14 1467.01 Q2882.14 1475.73 2879.06 1480.34 Q2876.01 1484.92 2870.2 1484.92 Q2864.39 1484.92 2861.31 1480.34 Q2858.25 1475.73 2858.25 1467.01 Q2858.25 1458.26 2861.31 1453.67 Q2864.39 1449.07 2870.2 1449.07 Z\" fill=\"#000000\" fill-rule=\"evenodd\" fill-opacity=\"1\" /><path clip-path=\"url(#clip6600)\" d=\"M 0 0 M2928.7 1453.53 L2928.7 1480.41 L2934.34 1480.41 Q2941.5 1480.41 2944.81 1477.17 Q2948.14 1473.93 2948.14 1466.94 Q2948.14 1459.99 2944.81 1456.78 Q2941.5 1453.53 2934.34 1453.53 L2928.7 1453.53 M2924.02 1449.69 L2933.63 1449.69 Q2943.67 1449.69 2948.37 1453.88 Q2953.07 1458.05 2953.07 1466.94 Q2953.07 1475.87 2948.35 1480.06 Q2943.63 1484.25 2933.63 1484.25 L2924.02 1484.25 L2924.02 1449.69 Z\" fill=\"#000000\" fill-rule=\"evenodd\" fill-opacity=\"1\" /><path clip-path=\"url(#clip6600)\" d=\"M 0 0 M2979.72 1470.22 L2979.72 1472.31 L2960.13 1472.31 Q2960.41 1476.71 2962.77 1479.02 Q2965.15 1481.31 2969.39 1481.31 Q2971.84 1481.31 2974.14 1480.71 Q2976.45 1480.11 2978.72 1478.9 L2978.72 1482.93 Q2976.43 1483.9 2974.02 1484.41 Q2971.61 1484.92 2969.14 1484.92 Q2962.93 1484.92 2959.3 1481.31 Q2955.69 1477.7 2955.69 1471.54 Q2955.69 1465.18 2959.11 1461.45 Q2962.56 1457.7 2968.4 1457.7 Q2973.63 1457.7 2976.66 1461.08 Q2979.72 1464.44 2979.72 1470.22 M2975.46 1468.97 Q2975.41 1465.48 2973.49 1463.4 Q2971.59 1461.31 2968.44 1461.31 Q2964.88 1461.31 2962.72 1463.33 Q2960.59 1465.34 2960.27 1469 L2975.46 1468.97 Z\" fill=\"#000000\" fill-rule=\"evenodd\" fill-opacity=\"1\" /><path clip-path=\"url(#clip6600)\" d=\"M 0 0 M3002.84 1459.32 L3002.84 1463.3 Q3001.03 1462.31 2999.21 1461.82 Q2997.4 1461.31 2995.55 1461.31 Q2991.4 1461.31 2989.11 1463.95 Q2986.82 1466.57 2986.82 1471.31 Q2986.82 1476.06 2989.11 1478.7 Q2991.4 1481.31 2995.55 1481.31 Q2997.4 1481.31 2999.21 1480.83 Q3001.03 1480.32 3002.84 1479.32 L3002.84 1483.26 Q3001.06 1484.09 2999.14 1484.51 Q2997.24 1484.92 2995.09 1484.92 Q2989.23 1484.92 2985.78 1481.24 Q2982.33 1477.56 2982.33 1471.31 Q2982.33 1464.97 2985.8 1461.34 Q2989.3 1457.7 2995.36 1457.7 Q2997.33 1457.7 2999.21 1458.12 Q3001.08 1458.51 3002.84 1459.32 Z\" fill=\"#000000\" fill-rule=\"evenodd\" fill-opacity=\"1\" /><path clip-path=\"url(#clip6600)\" d=\"M 0 0 M3007.91 1478.37 L3012.79 1478.37 L3012.79 1484.25 L3007.91 1484.25 L3007.91 1478.37 Z\" fill=\"#000000\" fill-rule=\"evenodd\" fill-opacity=\"1\" /><path clip-path=\"url(#clip6600)\" d=\"M 0 0 M3033.74 1480.32 L3041.38 1480.32 L3041.38 1453.95 L3033.07 1455.62 L3033.07 1451.36 L3041.34 1449.69 L3046.01 1449.69 L3046.01 1480.32 L3053.65 1480.32 L3053.65 1484.25 L3033.74 1484.25 L3033.74 1480.32 Z\" fill=\"#000000\" fill-rule=\"evenodd\" fill-opacity=\"1\" /><path clip-path=\"url(#clip6600)\" d=\"M 0 0 M3062.75 1480.32 L3079.07 1480.32 L3079.07 1484.25 L3057.12 1484.25 L3057.12 1480.32 Q3059.78 1477.56 3064.37 1472.93 Q3068.97 1468.28 3070.15 1466.94 Q3072.4 1464.41 3073.28 1462.68 Q3074.18 1460.92 3074.18 1459.23 Q3074.18 1456.47 3072.24 1454.74 Q3070.32 1453 3067.21 1453 Q3065.02 1453 3062.56 1453.77 Q3060.13 1454.53 3057.35 1456.08 L3057.35 1451.36 Q3060.18 1450.22 3062.63 1449.65 Q3065.08 1449.07 3067.12 1449.07 Q3072.49 1449.07 3075.69 1451.75 Q3078.88 1454.44 3078.88 1458.93 Q3078.88 1461.06 3078.07 1462.98 Q3077.28 1464.88 3075.18 1467.47 Q3074.6 1468.14 3071.5 1471.36 Q3068.4 1474.55 3062.75 1480.32 Z\" fill=\"#000000\" fill-rule=\"evenodd\" fill-opacity=\"1\" /><path clip-path=\"url(#clip6600)\" d=\"M 0 0 M3084.62 1478.37 L3089.51 1478.37 L3089.51 1482.35 L3085.71 1489.76 L3082.72 1489.76 L3084.62 1482.35 L3084.62 1478.37 Z\" fill=\"#000000\" fill-rule=\"evenodd\" fill-opacity=\"1\" /><path clip-path=\"url(#clip6600)\" d=\"M 0 0 M3113.67 1480.32 L3129.99 1480.32 L3129.99 1484.25 L3108.05 1484.25 L3108.05 1480.32 Q3110.71 1477.56 3115.29 1472.93 Q3119.9 1468.28 3121.08 1466.94 Q3123.33 1464.41 3124.21 1462.68 Q3125.11 1460.92 3125.11 1459.23 Q3125.11 1456.47 3123.16 1454.74 Q3121.24 1453 3118.14 1453 Q3115.94 1453 3113.49 1453.77 Q3111.06 1454.53 3108.28 1456.08 L3108.28 1451.36 Q3111.1 1450.22 3113.56 1449.65 Q3116.01 1449.07 3118.05 1449.07 Q3123.42 1449.07 3126.61 1451.75 Q3129.81 1454.44 3129.81 1458.93 Q3129.81 1461.06 3129 1462.98 Q3128.21 1464.88 3126.1 1467.47 Q3125.52 1468.14 3122.42 1471.36 Q3119.32 1474.55 3113.67 1480.32 Z\" fill=\"#000000\" fill-rule=\"evenodd\" fill-opacity=\"1\" /><path clip-path=\"url(#clip6600)\" d=\"M 0 0 M3145.06 1452.77 Q3141.45 1452.77 3139.62 1456.34 Q3137.82 1459.88 3137.82 1467.01 Q3137.82 1474.11 3139.62 1477.68 Q3141.45 1481.22 3145.06 1481.22 Q3148.7 1481.22 3150.5 1477.68 Q3152.33 1474.11 3152.33 1467.01 Q3152.33 1459.88 3150.5 1456.34 Q3148.7 1452.77 3145.06 1452.77 M3145.06 1449.07 Q3150.87 1449.07 3153.93 1453.67 Q3157.01 1458.26 3157.01 1467.01 Q3157.01 1475.73 3153.93 1480.34 Q3150.87 1484.92 3145.06 1484.92 Q3139.25 1484.92 3136.17 1480.34 Q3133.12 1475.73 3133.12 1467.01 Q3133.12 1458.26 3136.17 1453.67 Q3139.25 1449.07 3145.06 1449.07 Z\" fill=\"#000000\" fill-rule=\"evenodd\" fill-opacity=\"1\" /><path clip-path=\"url(#clip6600)\" d=\"M 0 0 M3161.37 1453.53 L3161.37 1480.41 L3167.02 1480.41 Q3174.17 1480.41 3177.48 1477.17 Q3180.81 1473.93 3180.81 1466.94 Q3180.81 1459.99 3177.48 1456.78 Q3174.17 1453.53 3167.02 1453.53 L3161.37 1453.53 M3156.69 1449.69 L3166.3 1449.69 Q3176.34 1449.69 3181.04 1453.88 Q3185.74 1458.05 3185.74 1466.94 Q3185.74 1475.87 3181.02 1480.06 Q3176.3 1484.25 3166.3 1484.25 L3156.69 1484.25 L3156.69 1449.69 Z\" fill=\"#000000\" fill-rule=\"evenodd\" fill-opacity=\"1\" /><path clip-path=\"url(#clip6600)\" d=\"M 0 0 M3212.39 1470.22 L3212.39 1472.31 L3192.8 1472.31 Q3193.08 1476.71 3195.44 1479.02 Q3197.83 1481.31 3202.06 1481.31 Q3204.52 1481.31 3206.81 1480.71 Q3209.12 1480.11 3211.39 1478.9 L3211.39 1482.93 Q3209.1 1483.9 3206.69 1484.41 Q3204.28 1484.92 3201.81 1484.92 Q3195.6 1484.92 3191.97 1481.31 Q3188.36 1477.7 3188.36 1471.54 Q3188.36 1465.18 3191.78 1461.45 Q3195.23 1457.7 3201.07 1457.7 Q3206.3 1457.7 3209.33 1461.08 Q3212.39 1464.44 3212.39 1470.22 M3208.13 1468.97 Q3208.08 1465.48 3206.16 1463.4 Q3204.26 1461.31 3201.11 1461.31 Q3197.55 1461.31 3195.4 1463.33 Q3193.27 1465.34 3192.94 1469 L3208.13 1468.97 Z\" fill=\"#000000\" fill-rule=\"evenodd\" fill-opacity=\"1\" /><path clip-path=\"url(#clip6600)\" d=\"M 0 0 M3235.51 1459.32 L3235.51 1463.3 Q3233.71 1462.31 3231.88 1461.82 Q3230.07 1461.31 3228.22 1461.31 Q3224.08 1461.31 3221.78 1463.95 Q3219.49 1466.57 3219.49 1471.31 Q3219.49 1476.06 3221.78 1478.7 Q3224.08 1481.31 3228.22 1481.31 Q3230.07 1481.31 3231.88 1480.83 Q3233.71 1480.32 3235.51 1479.32 L3235.51 1483.26 Q3233.73 1484.09 3231.81 1484.51 Q3229.91 1484.92 3227.76 1484.92 Q3221.9 1484.92 3218.45 1481.24 Q3215 1477.56 3215 1471.31 Q3215 1464.97 3218.47 1461.34 Q3221.97 1457.7 3228.03 1457.7 Q3230 1457.7 3231.88 1458.12 Q3233.75 1458.51 3235.51 1459.32 Z\" fill=\"#000000\" fill-rule=\"evenodd\" fill-opacity=\"1\" /><path clip-path=\"url(#clip6600)\" d=\"M 0 0 M3240.58 1478.37 L3245.46 1478.37 L3245.46 1484.25 L3240.58 1484.25 L3240.58 1478.37 Z\" fill=\"#000000\" fill-rule=\"evenodd\" fill-opacity=\"1\" /><path clip-path=\"url(#clip6600)\" d=\"M 0 0 M3269.63 1480.32 L3285.95 1480.32 L3285.95 1484.25 L3264.01 1484.25 L3264.01 1480.32 Q3266.67 1477.56 3271.25 1472.93 Q3275.86 1468.28 3277.04 1466.94 Q3279.28 1464.41 3280.16 1462.68 Q3281.07 1460.92 3281.07 1459.23 Q3281.07 1456.47 3279.12 1454.74 Q3277.2 1453 3274.1 1453 Q3271.9 1453 3269.45 1453.77 Q3267.02 1454.53 3264.24 1456.08 L3264.24 1451.36 Q3267.06 1450.22 3269.52 1449.65 Q3271.97 1449.07 3274.01 1449.07 Q3279.38 1449.07 3282.57 1451.75 Q3285.77 1454.44 3285.77 1458.93 Q3285.77 1461.06 3284.96 1462.98 Q3284.17 1464.88 3282.06 1467.47 Q3281.48 1468.14 3278.38 1471.36 Q3275.28 1474.55 3269.63 1480.32 Z\" fill=\"#000000\" fill-rule=\"evenodd\" fill-opacity=\"1\" /><path clip-path=\"url(#clip6600)\" d=\"M 0 0 M3301.02 1452.77 Q3297.41 1452.77 3295.58 1456.34 Q3293.77 1459.88 3293.77 1467.01 Q3293.77 1474.11 3295.58 1477.68 Q3297.41 1481.22 3301.02 1481.22 Q3304.65 1481.22 3306.46 1477.68 Q3308.29 1474.11 3308.29 1467.01 Q3308.29 1459.88 3306.46 1456.34 Q3304.65 1452.77 3301.02 1452.77 M3301.02 1449.07 Q3306.83 1449.07 3309.89 1453.67 Q3312.96 1458.26 3312.96 1467.01 Q3312.96 1475.73 3309.89 1480.34 Q3306.83 1484.92 3301.02 1484.92 Q3295.21 1484.92 3292.13 1480.34 Q3289.08 1475.73 3289.08 1467.01 Q3289.08 1458.26 3292.13 1453.67 Q3295.21 1449.07 3301.02 1449.07 Z\" fill=\"#000000\" fill-rule=\"evenodd\" fill-opacity=\"1\" /><path clip-path=\"url(#clip6600)\" d=\"M 0 0 M3318.52 1478.37 L3323.4 1478.37 L3323.4 1482.35 L3319.61 1489.76 L3316.62 1489.76 L3318.52 1482.35 L3318.52 1478.37 Z\" fill=\"#000000\" fill-rule=\"evenodd\" fill-opacity=\"1\" /><path clip-path=\"url(#clip6600)\" d=\"M 0 0 M3347.57 1480.32 L3363.89 1480.32 L3363.89 1484.25 L3341.95 1484.25 L3341.95 1480.32 Q3344.61 1477.56 3349.19 1472.93 Q3353.8 1468.28 3354.98 1466.94 Q3357.22 1464.41 3358.1 1462.68 Q3359.01 1460.92 3359.01 1459.23 Q3359.01 1456.47 3357.06 1454.74 Q3355.14 1453 3352.04 1453 Q3349.84 1453 3347.39 1453.77 Q3344.95 1454.53 3342.18 1456.08 L3342.18 1451.36 Q3345 1450.22 3347.45 1449.65 Q3349.91 1449.07 3351.95 1449.07 Q3357.32 1449.07 3360.51 1451.75 Q3363.7 1454.44 3363.7 1458.93 Q3363.7 1461.06 3362.89 1462.98 Q3362.11 1464.88 3360 1467.47 Q3359.42 1468.14 3356.32 1471.36 Q3353.22 1474.55 3347.57 1480.32 Z\" fill=\"#000000\" fill-rule=\"evenodd\" fill-opacity=\"1\" /><path clip-path=\"url(#clip6600)\" d=\"M 0 0 M3378.96 1452.77 Q3375.35 1452.77 3373.52 1456.34 Q3371.71 1459.88 3371.71 1467.01 Q3371.71 1474.11 3373.52 1477.68 Q3375.35 1481.22 3378.96 1481.22 Q3382.59 1481.22 3384.4 1477.68 Q3386.23 1474.11 3386.23 1467.01 Q3386.23 1459.88 3384.4 1456.34 Q3382.59 1452.77 3378.96 1452.77 M3378.96 1449.07 Q3384.77 1449.07 3387.83 1453.67 Q3390.9 1458.26 3390.9 1467.01 Q3390.9 1475.73 3387.83 1480.34 Q3384.77 1484.92 3378.96 1484.92 Q3373.15 1484.92 3370.07 1480.34 Q3367.01 1475.73 3367.01 1467.01 Q3367.01 1458.26 3370.07 1453.67 Q3373.15 1449.07 3378.96 1449.07 Z\" fill=\"#000000\" fill-rule=\"evenodd\" fill-opacity=\"1\" /><path clip-path=\"url(#clip6600)\" d=\"M 0 0 M3423.91 1453.53 L3423.91 1480.41 L3429.55 1480.41 Q3436.71 1480.41 3440.02 1477.17 Q3443.35 1473.93 3443.35 1466.94 Q3443.35 1459.99 3440.02 1456.78 Q3436.71 1453.53 3429.55 1453.53 L3423.91 1453.53 M3419.23 1449.69 L3428.84 1449.69 Q3438.88 1449.69 3443.58 1453.88 Q3448.28 1458.05 3448.28 1466.94 Q3448.28 1475.87 3443.56 1480.06 Q3438.84 1484.25 3428.84 1484.25 L3419.23 1484.25 L3419.23 1449.69 Z\" fill=\"#000000\" fill-rule=\"evenodd\" fill-opacity=\"1\" /><path clip-path=\"url(#clip6600)\" d=\"M 0 0 M3474.92 1470.22 L3474.92 1472.31 L3455.34 1472.31 Q3455.62 1476.71 3457.98 1479.02 Q3460.36 1481.31 3464.6 1481.31 Q3467.05 1481.31 3469.35 1480.71 Q3471.66 1480.11 3473.93 1478.9 L3473.93 1482.93 Q3471.64 1483.9 3469.23 1484.41 Q3466.82 1484.92 3464.35 1484.92 Q3458.14 1484.92 3454.51 1481.31 Q3450.9 1477.7 3450.9 1471.54 Q3450.9 1465.18 3454.32 1461.45 Q3457.77 1457.7 3463.6 1457.7 Q3468.84 1457.7 3471.87 1461.08 Q3474.92 1464.44 3474.92 1470.22 M3470.66 1468.97 Q3470.62 1465.48 3468.7 1463.4 Q3466.8 1461.31 3463.65 1461.31 Q3460.09 1461.31 3457.93 1463.33 Q3455.8 1465.34 3455.48 1469 L3470.66 1468.97 Z\" fill=\"#000000\" fill-rule=\"evenodd\" fill-opacity=\"1\" /><path clip-path=\"url(#clip6600)\" d=\"M 0 0 M3498.05 1459.32 L3498.05 1463.3 Q3496.24 1462.31 3494.41 1461.82 Q3492.61 1461.31 3490.76 1461.31 Q3486.61 1461.31 3484.32 1463.95 Q3482.03 1466.57 3482.03 1471.31 Q3482.03 1476.06 3484.32 1478.7 Q3486.61 1481.31 3490.76 1481.31 Q3492.61 1481.31 3494.41 1480.83 Q3496.24 1480.32 3498.05 1479.32 L3498.05 1483.26 Q3496.27 1484.09 3494.35 1484.51 Q3492.45 1484.92 3490.29 1484.92 Q3484.44 1484.92 3480.99 1481.24 Q3477.54 1477.56 3477.54 1471.31 Q3477.54 1464.97 3481.01 1461.34 Q3484.51 1457.7 3490.57 1457.7 Q3492.54 1457.7 3494.41 1458.12 Q3496.29 1458.51 3498.05 1459.32 Z\" fill=\"#000000\" fill-rule=\"evenodd\" fill-opacity=\"1\" /><path clip-path=\"url(#clip6600)\" d=\"M 0 0 M3503.12 1478.37 L3508 1478.37 L3508 1484.25 L3503.12 1484.25 L3503.12 1478.37 Z\" fill=\"#000000\" fill-rule=\"evenodd\" fill-opacity=\"1\" /><path clip-path=\"url(#clip6600)\" d=\"M 0 0 M3532.17 1480.32 L3548.49 1480.32 L3548.49 1484.25 L3526.54 1484.25 L3526.54 1480.32 Q3529.21 1477.56 3533.79 1472.93 Q3538.4 1468.28 3539.58 1466.94 Q3541.82 1464.41 3542.7 1462.68 Q3543.6 1460.92 3543.6 1459.23 Q3543.6 1456.47 3541.66 1454.74 Q3539.74 1453 3536.64 1453 Q3534.44 1453 3531.98 1453.77 Q3529.55 1454.53 3526.78 1456.08 L3526.78 1451.36 Q3529.6 1450.22 3532.05 1449.65 Q3534.51 1449.07 3536.54 1449.07 Q3541.91 1449.07 3545.11 1451.75 Q3548.3 1454.44 3548.3 1458.93 Q3548.3 1461.06 3547.49 1462.98 Q3546.71 1464.88 3544.6 1467.47 Q3544.02 1468.14 3540.92 1471.36 Q3537.82 1474.55 3532.17 1480.32 Z\" fill=\"#000000\" fill-rule=\"evenodd\" fill-opacity=\"1\" /><path clip-path=\"url(#clip6600)\" d=\"M 0 0 M3553.7 1483.53 L3553.7 1479.28 Q3555.46 1480.11 3557.26 1480.55 Q3559.07 1480.99 3560.8 1480.99 Q3565.43 1480.99 3567.86 1477.89 Q3570.32 1474.76 3570.66 1468.42 Q3569.32 1470.41 3567.26 1471.47 Q3565.2 1472.54 3562.7 1472.54 Q3557.52 1472.54 3554.48 1469.41 Q3551.47 1466.27 3551.47 1460.83 Q3551.47 1455.5 3554.62 1452.28 Q3557.77 1449.07 3563 1449.07 Q3569 1449.07 3572.15 1453.67 Q3575.32 1458.26 3575.32 1467.01 Q3575.32 1475.18 3571.43 1480.06 Q3567.56 1484.92 3561.01 1484.92 Q3559.25 1484.92 3557.45 1484.58 Q3555.64 1484.23 3553.7 1483.53 M3563 1468.88 Q3566.15 1468.88 3567.98 1466.73 Q3569.83 1464.58 3569.83 1460.83 Q3569.83 1457.1 3567.98 1454.95 Q3566.15 1452.77 3563 1452.77 Q3559.85 1452.77 3558 1454.95 Q3556.17 1457.1 3556.17 1460.83 Q3556.17 1464.58 3558 1466.73 Q3559.85 1468.88 3563 1468.88 Z\" fill=\"#000000\" fill-rule=\"evenodd\" fill-opacity=\"1\" /><path clip-path=\"url(#clip6600)\" d=\"M 0 0 M3580.87 1478.37 L3585.76 1478.37 L3585.76 1482.35 L3581.96 1489.76 L3578.97 1489.76 L3580.87 1482.35 L3580.87 1478.37 Z\" fill=\"#000000\" fill-rule=\"evenodd\" fill-opacity=\"1\" /><path clip-path=\"url(#clip6600)\" d=\"M 0 0 M3609.92 1480.32 L3626.24 1480.32 L3626.24 1484.25 L3604.3 1484.25 L3604.3 1480.32 Q3606.96 1477.56 3611.54 1472.93 Q3616.15 1468.28 3617.33 1466.94 Q3619.58 1464.41 3620.46 1462.68 Q3621.36 1460.92 3621.36 1459.23 Q3621.36 1456.47 3619.41 1454.74 Q3617.49 1453 3614.39 1453 Q3612.19 1453 3609.74 1453.77 Q3607.31 1454.53 3604.53 1456.08 L3604.53 1451.36 Q3607.35 1450.22 3609.81 1449.65 Q3612.26 1449.07 3614.3 1449.07 Q3619.67 1449.07 3622.86 1451.75 Q3626.06 1454.44 3626.06 1458.93 Q3626.06 1461.06 3625.25 1462.98 Q3624.46 1464.88 3622.35 1467.47 Q3621.77 1468.14 3618.67 1471.36 Q3615.57 1474.55 3609.92 1480.32 Z\" fill=\"#000000\" fill-rule=\"evenodd\" fill-opacity=\"1\" /><path clip-path=\"url(#clip6600)\" d=\"M 0 0 M3641.31 1452.77 Q3637.7 1452.77 3635.87 1456.34 Q3634.07 1459.88 3634.07 1467.01 Q3634.07 1474.11 3635.87 1477.68 Q3637.7 1481.22 3641.31 1481.22 Q3644.95 1481.22 3646.75 1477.68 Q3648.58 1474.11 3648.58 1467.01 Q3648.58 1459.88 3646.75 1456.34 Q3644.95 1452.77 3641.31 1452.77 M3641.31 1449.07 Q3647.12 1449.07 3650.18 1453.67 Q3653.26 1458.26 3653.26 1467.01 Q3653.26 1475.73 3650.18 1480.34 Q3647.12 1484.92 3641.31 1484.92 Q3635.5 1484.92 3632.42 1480.34 Q3629.37 1475.73 3629.37 1467.01 Q3629.37 1458.26 3632.42 1453.67 Q3635.5 1449.07 3641.31 1449.07 Z\" fill=\"#000000\" fill-rule=\"evenodd\" fill-opacity=\"1\" /><path clip-path=\"url(#clip6600)\" d=\"M 0 0 M3680.91 1449.69 L3685.58 1449.69 L3685.58 1481.84 Q3685.58 1488.09 3683.2 1490.92 Q3680.84 1493.74 3675.58 1493.74 L3673.8 1493.74 L3673.8 1489.81 L3675.26 1489.81 Q3678.36 1489.81 3679.63 1488.07 Q3680.91 1486.34 3680.91 1481.84 L3680.91 1449.69 Z\" fill=\"#000000\" fill-rule=\"evenodd\" fill-opacity=\"1\" /><path clip-path=\"url(#clip6600)\" d=\"M 0 0 M3701.83 1471.22 Q3696.67 1471.22 3694.68 1472.4 Q3692.69 1473.58 3692.69 1476.43 Q3692.69 1478.7 3694.17 1480.04 Q3695.67 1481.36 3698.24 1481.36 Q3701.78 1481.36 3703.91 1478.86 Q3706.07 1476.34 3706.07 1472.17 L3706.07 1471.22 L3701.83 1471.22 M3710.33 1469.46 L3710.33 1484.25 L3706.07 1484.25 L3706.07 1480.32 Q3704.61 1482.68 3702.43 1483.81 Q3700.26 1484.92 3697.11 1484.92 Q3693.13 1484.92 3690.77 1482.7 Q3688.43 1480.46 3688.43 1476.71 Q3688.43 1472.33 3691.35 1470.11 Q3694.28 1467.89 3700.1 1467.89 L3706.07 1467.89 L3706.07 1467.47 Q3706.07 1464.53 3704.12 1462.93 Q3702.2 1461.31 3698.71 1461.31 Q3696.48 1461.31 3694.38 1461.84 Q3692.27 1462.38 3690.33 1463.44 L3690.33 1459.51 Q3692.66 1458.6 3694.86 1458.16 Q3697.06 1457.7 3699.15 1457.7 Q3704.77 1457.7 3707.55 1460.62 Q3710.33 1463.53 3710.33 1469.46 Z\" fill=\"#000000\" fill-rule=\"evenodd\" fill-opacity=\"1\" /><path clip-path=\"url(#clip6600)\" d=\"M 0 0 M3736.34 1468.6 L3736.34 1484.25 L3732.09 1484.25 L3732.09 1468.74 Q3732.09 1465.06 3730.65 1463.23 Q3729.22 1461.4 3726.34 1461.4 Q3722.9 1461.4 3720.91 1463.6 Q3718.91 1465.8 3718.91 1469.6 L3718.91 1484.25 L3714.63 1484.25 L3714.63 1458.33 L3718.91 1458.33 L3718.91 1462.35 Q3720.44 1460.02 3722.5 1458.86 Q3724.59 1457.7 3727.29 1457.7 Q3731.76 1457.7 3734.05 1460.48 Q3736.34 1463.23 3736.34 1468.6 Z\" fill=\"#000000\" fill-rule=\"evenodd\" fill-opacity=\"1\" /><path clip-path=\"url(#clip6600)\" d=\"M 0 0 M3741.41 1478.37 L3746.3 1478.37 L3746.3 1484.25 L3741.41 1484.25 L3741.41 1478.37 Z\" fill=\"#000000\" fill-rule=\"evenodd\" fill-opacity=\"1\" /><path clip-path=\"url(#clip6600)\" d=\"M 0 0 M3777.02 1465.11 Q3773.87 1465.11 3772.02 1467.26 Q3770.19 1469.41 3770.19 1473.16 Q3770.19 1476.89 3772.02 1479.07 Q3773.87 1481.22 3777.02 1481.22 Q3780.16 1481.22 3781.99 1479.07 Q3783.84 1476.89 3783.84 1473.16 Q3783.84 1469.41 3781.99 1467.26 Q3780.16 1465.11 3777.02 1465.11 M3786.3 1450.46 L3786.3 1454.71 Q3784.54 1453.88 3782.73 1453.44 Q3780.95 1453 3779.19 1453 Q3774.56 1453 3772.11 1456.13 Q3769.68 1459.25 3769.33 1465.57 Q3770.7 1463.56 3772.76 1462.49 Q3774.82 1461.4 3777.29 1461.4 Q3782.5 1461.4 3785.51 1464.58 Q3788.54 1467.72 3788.54 1473.16 Q3788.54 1478.49 3785.4 1481.71 Q3782.25 1484.92 3777.02 1484.92 Q3771.02 1484.92 3767.85 1480.34 Q3764.68 1475.73 3764.68 1467.01 Q3764.68 1458.81 3768.57 1453.95 Q3772.46 1449.07 3779.01 1449.07 Q3780.77 1449.07 3782.55 1449.41 Q3784.35 1449.76 3786.3 1450.46 Z\" fill=\"#000000\" fill-rule=\"evenodd\" fill-opacity=\"1\" /><path clip-path=\"url(#clip6600)\" d=\"M 0 0 M3794.1 1478.37 L3798.98 1478.37 L3798.98 1482.35 L3795.19 1489.76 L3792.2 1489.76 L3794.1 1482.35 L3794.1 1478.37 Z\" fill=\"#000000\" fill-rule=\"evenodd\" fill-opacity=\"1\" /><path clip-path=\"url(#clip6600)\" d=\"M 0 0 M3823.15 1480.32 L3839.47 1480.32 L3839.47 1484.25 L3817.52 1484.25 L3817.52 1480.32 Q3820.19 1477.56 3824.77 1472.93 Q3829.38 1468.28 3830.56 1466.94 Q3832.8 1464.41 3833.68 1462.68 Q3834.59 1460.92 3834.59 1459.23 Q3834.59 1456.47 3832.64 1454.74 Q3830.72 1453 3827.62 1453 Q3825.42 1453 3822.96 1453.77 Q3820.53 1454.53 3817.76 1456.08 L3817.76 1451.36 Q3820.58 1450.22 3823.03 1449.65 Q3825.49 1449.07 3827.52 1449.07 Q3832.9 1449.07 3836.09 1451.75 Q3839.28 1454.44 3839.28 1458.93 Q3839.28 1461.06 3838.47 1462.98 Q3837.69 1464.88 3835.58 1467.47 Q3835 1468.14 3831.9 1471.36 Q3828.8 1474.55 3823.15 1480.32 Z\" fill=\"#000000\" fill-rule=\"evenodd\" fill-opacity=\"1\" /><path clip-path=\"url(#clip6600)\" d=\"M 0 0 M3845.35 1480.32 L3852.99 1480.32 L3852.99 1453.95 L3844.68 1455.62 L3844.68 1451.36 L3852.94 1449.69 L3857.62 1449.69 L3857.62 1480.32 L3865.26 1480.32 L3865.26 1484.25 L3845.35 1484.25 L3845.35 1480.32 Z\" fill=\"#000000\" fill-rule=\"evenodd\" fill-opacity=\"1\" /><path clip-path=\"url(#clip6600)\" d=\"M 0 0 M113.444 1364.3 L121.083 1364.3 L121.083 1337.93 L112.773 1339.6 L112.773 1335.34 L121.037 1333.67 L125.713 1333.67 L125.713 1364.3 L133.352 1364.3 L133.352 1368.23 L113.444 1368.23 L113.444 1364.3 Z\" fill=\"#000000\" fill-rule=\"evenodd\" fill-opacity=\"1\" /><path clip-path=\"url(#clip6600)\" d=\"M 0 0 M139.231 1364.3 L146.87 1364.3 L146.87 1337.93 L138.56 1339.6 L138.56 1335.34 L146.824 1333.67 L151.5 1333.67 L151.5 1364.3 L159.139 1364.3 L159.139 1368.23 L139.231 1368.23 L139.231 1364.3 Z\" fill=\"#000000\" fill-rule=\"evenodd\" fill-opacity=\"1\" /><path clip-path=\"url(#clip6600)\" d=\"M 0 0 M174.208 1336.75 Q170.597 1336.75 168.768 1340.32 Q166.963 1343.86 166.963 1350.99 Q166.963 1358.1 168.768 1361.66 Q170.597 1365.2 174.208 1365.2 Q177.842 1365.2 179.648 1361.66 Q181.476 1358.1 181.476 1350.99 Q181.476 1343.86 179.648 1340.32 Q177.842 1336.75 174.208 1336.75 M174.208 1333.05 Q180.018 1333.05 183.074 1337.66 Q186.152 1342.24 186.152 1350.99 Q186.152 1359.72 183.074 1364.32 Q180.018 1368.91 174.208 1368.91 Q168.398 1368.91 165.319 1364.32 Q162.264 1359.72 162.264 1350.99 Q162.264 1342.24 165.319 1337.66 Q168.398 1333.05 174.208 1333.05 Z\" fill=\"#000000\" fill-rule=\"evenodd\" fill-opacity=\"1\" /><path clip-path=\"url(#clip6600)\" d=\"M 0 0 M113.815 1031.47 L121.454 1031.47 L121.454 1005.1 L113.143 1006.77 L113.143 1002.51 L121.407 1000.84 L126.083 1000.84 L126.083 1031.47 L133.722 1031.47 L133.722 1035.4 L113.815 1035.4 L113.815 1031.47 Z\" fill=\"#000000\" fill-rule=\"evenodd\" fill-opacity=\"1\" /><path clip-path=\"url(#clip6600)\" d=\"M 0 0 M142.819 1031.47 L159.139 1031.47 L159.139 1035.4 L137.194 1035.4 L137.194 1031.47 Q139.856 1028.71 144.44 1024.08 Q149.046 1019.43 150.227 1018.09 Q152.472 1015.56 153.352 1013.83 Q154.254 1012.07 154.254 1010.38 Q154.254 1007.62 152.31 1005.89 Q150.389 1004.15 147.287 1004.15 Q145.088 1004.15 142.634 1004.91 Q140.204 1005.68 137.426 1007.23 L137.426 1002.51 Q140.25 1001.37 142.704 1000.79 Q145.157 1000.22 147.194 1000.22 Q152.565 1000.22 155.759 1002.9 Q158.953 1005.59 158.953 1010.08 Q158.953 1012.21 158.143 1014.13 Q157.356 1016.03 155.25 1018.62 Q154.671 1019.29 151.569 1022.51 Q148.467 1025.7 142.819 1031.47 Z\" fill=\"#000000\" fill-rule=\"evenodd\" fill-opacity=\"1\" /><path clip-path=\"url(#clip6600)\" d=\"M 0 0 M174.208 1003.92 Q170.597 1003.92 168.768 1007.48 Q166.963 1011.03 166.963 1018.16 Q166.963 1025.26 168.768 1028.83 Q170.597 1032.37 174.208 1032.37 Q177.842 1032.37 179.648 1028.83 Q181.476 1025.26 181.476 1018.16 Q181.476 1011.03 179.648 1007.48 Q177.842 1003.92 174.208 1003.92 M174.208 1000.22 Q180.018 1000.22 183.074 1004.82 Q186.152 1009.41 186.152 1018.16 Q186.152 1026.88 183.074 1031.49 Q180.018 1036.07 174.208 1036.07 Q168.398 1036.07 165.319 1031.49 Q162.264 1026.88 162.264 1018.16 Q162.264 1009.41 165.319 1004.82 Q168.398 1000.22 174.208 1000.22 Z\" fill=\"#000000\" fill-rule=\"evenodd\" fill-opacity=\"1\" /><path clip-path=\"url(#clip6600)\" d=\"M 0 0 M112.866 698.632 L120.505 698.632 L120.505 672.266 L112.194 673.933 L112.194 669.674 L120.458 668.007 L125.134 668.007 L125.134 698.632 L132.773 698.632 L132.773 702.567 L112.866 702.567 L112.866 698.632 Z\" fill=\"#000000\" fill-rule=\"evenodd\" fill-opacity=\"1\" /><path clip-path=\"url(#clip6600)\" d=\"M 0 0 M152.009 683.933 Q155.365 684.65 157.24 686.919 Q159.139 689.187 159.139 692.521 Q159.139 697.636 155.62 700.437 Q152.102 703.238 145.62 703.238 Q143.444 703.238 141.129 702.798 Q138.838 702.382 136.384 701.525 L136.384 697.011 Q138.329 698.146 140.643 698.724 Q142.958 699.303 145.481 699.303 Q149.879 699.303 152.171 697.567 Q154.486 695.831 154.486 692.521 Q154.486 689.465 152.333 687.752 Q150.203 686.016 146.384 686.016 L142.356 686.016 L142.356 682.173 L146.569 682.173 Q150.018 682.173 151.847 680.808 Q153.676 679.419 153.676 676.826 Q153.676 674.164 151.778 672.752 Q149.903 671.317 146.384 671.317 Q144.463 671.317 142.264 671.734 Q140.065 672.15 137.426 673.03 L137.426 668.863 Q140.088 668.123 142.403 667.752 Q144.741 667.382 146.801 667.382 Q152.125 667.382 155.227 669.812 Q158.328 672.22 158.328 676.34 Q158.328 679.211 156.685 681.201 Q155.041 683.169 152.009 683.933 Z\" fill=\"#000000\" fill-rule=\"evenodd\" fill-opacity=\"1\" /><path clip-path=\"url(#clip6600)\" d=\"M 0 0 M174.208 671.086 Q170.597 671.086 168.768 674.65 Q166.963 678.192 166.963 685.322 Q166.963 692.428 168.768 695.993 Q170.597 699.534 174.208 699.534 Q177.842 699.534 179.648 695.993 Q181.476 692.428 181.476 685.322 Q181.476 678.192 179.648 674.65 Q177.842 671.086 174.208 671.086 M174.208 667.382 Q180.018 667.382 183.074 671.988 Q186.152 676.572 186.152 685.322 Q186.152 694.048 183.074 698.655 Q180.018 703.238 174.208 703.238 Q168.398 703.238 165.319 698.655 Q162.264 694.048 162.264 685.322 Q162.264 676.572 165.319 671.988 Q168.398 667.382 174.208 667.382 Z\" fill=\"#000000\" fill-rule=\"evenodd\" fill-opacity=\"1\" /><path clip-path=\"url(#clip6600)\" d=\"M 0 0 M111.731 365.798 L119.37 365.798 L119.37 339.432 L111.06 341.099 L111.06 336.84 L119.324 335.173 L124 335.173 L124 365.798 L131.639 365.798 L131.639 369.733 L111.731 369.733 L111.731 365.798 Z\" fill=\"#000000\" fill-rule=\"evenodd\" fill-opacity=\"1\" /><path clip-path=\"url(#clip6600)\" d=\"M 0 0 M149.555 339.247 L137.75 357.696 L149.555 357.696 L149.555 339.247 M148.328 335.173 L154.208 335.173 L154.208 357.696 L159.139 357.696 L159.139 361.585 L154.208 361.585 L154.208 369.733 L149.555 369.733 L149.555 361.585 L133.954 361.585 L133.954 357.071 L148.328 335.173 Z\" fill=\"#000000\" fill-rule=\"evenodd\" fill-opacity=\"1\" /><path clip-path=\"url(#clip6600)\" d=\"M 0 0 M174.208 338.252 Q170.597 338.252 168.768 341.816 Q166.963 345.358 166.963 352.488 Q166.963 359.594 168.768 363.159 Q170.597 366.7 174.208 366.7 Q177.842 366.7 179.648 363.159 Q181.476 359.594 181.476 352.488 Q181.476 345.358 179.648 341.816 Q177.842 338.252 174.208 338.252 M174.208 334.548 Q180.018 334.548 183.074 339.154 Q186.152 343.738 186.152 352.488 Q186.152 361.214 183.074 365.821 Q180.018 370.404 174.208 370.404 Q168.398 370.404 165.319 365.821 Q162.264 361.214 162.264 352.488 Q162.264 343.738 165.319 339.154 Q168.398 334.548 174.208 334.548 Z\" fill=\"#000000\" fill-rule=\"evenodd\" fill-opacity=\"1\" /><path clip-path=\"url(#clip6600)\" d=\"M 0 0 M1994.82 1525.47 L1994.82 1535.6 L2006.88 1535.6 L2006.88 1540.15 L1994.82 1540.15 L1994.82 1559.5 Q1994.82 1563.86 1996 1565.1 Q1997.21 1566.34 2000.87 1566.34 L2006.88 1566.34 L2006.88 1571.24 L2000.87 1571.24 Q1994.09 1571.24 1991.51 1568.73 Q1988.93 1566.18 1988.93 1559.5 L1988.93 1540.15 L1984.63 1540.15 L1984.63 1535.6 L1988.93 1535.6 L1988.93 1525.47 L1994.82 1525.47 Z\" fill=\"#000000\" fill-rule=\"evenodd\" fill-opacity=\"1\" /><path clip-path=\"url(#clip6600)\" d=\"M 0 0 M2013.02 1535.6 L2018.88 1535.6 L2018.88 1571.24 L2013.02 1571.24 L2013.02 1535.6 M2013.02 1521.72 L2018.88 1521.72 L2018.88 1529.13 L2013.02 1529.13 L2013.02 1521.72 Z\" fill=\"#000000\" fill-rule=\"evenodd\" fill-opacity=\"1\" /><path clip-path=\"url(#clip6600)\" d=\"M 0 0 M2052.78 1542.44 Q2054.97 1538.49 2058.03 1536.61 Q2061.09 1534.74 2065.22 1534.74 Q2070.79 1534.74 2073.82 1538.65 Q2076.84 1542.53 2076.84 1549.73 L2076.84 1571.24 L2070.95 1571.24 L2070.95 1549.92 Q2070.95 1544.79 2069.14 1542.31 Q2067.32 1539.83 2063.6 1539.83 Q2059.05 1539.83 2056.41 1542.85 Q2053.76 1545.88 2053.76 1551.1 L2053.76 1571.24 L2047.88 1571.24 L2047.88 1549.92 Q2047.88 1544.76 2046.06 1542.31 Q2044.25 1539.83 2040.46 1539.83 Q2035.97 1539.83 2033.33 1542.88 Q2030.69 1545.91 2030.69 1551.1 L2030.69 1571.24 L2024.8 1571.24 L2024.8 1535.6 L2030.69 1535.6 L2030.69 1541.13 Q2032.69 1537.86 2035.5 1536.3 Q2038.3 1534.74 2042.15 1534.74 Q2046.03 1534.74 2048.74 1536.71 Q2051.47 1538.68 2052.78 1542.44 Z\" fill=\"#000000\" fill-rule=\"evenodd\" fill-opacity=\"1\" /><path clip-path=\"url(#clip6600)\" d=\"M 0 0 M2113.48 1551.96 L2113.48 1554.82 L2086.55 1554.82 Q2086.93 1560.87 2090.18 1564.05 Q2093.45 1567.2 2099.28 1567.2 Q2102.65 1567.2 2105.8 1566.37 Q2108.99 1565.55 2112.11 1563.89 L2112.11 1569.43 Q2108.96 1570.77 2105.65 1571.47 Q2102.34 1572.17 2098.93 1572.17 Q2090.4 1572.17 2085.4 1567.2 Q2080.44 1562.24 2080.44 1553.77 Q2080.44 1545.02 2085.15 1539.89 Q2089.89 1534.74 2097.91 1534.74 Q2105.1 1534.74 2109.27 1539.38 Q2113.48 1544 2113.48 1551.96 M2107.62 1550.24 Q2107.55 1545.43 2104.91 1542.57 Q2102.3 1539.7 2097.97 1539.7 Q2093.07 1539.7 2090.11 1542.47 Q2087.18 1545.24 2086.74 1550.27 L2107.62 1550.24 Z\" fill=\"#000000\" fill-rule=\"evenodd\" fill-opacity=\"1\" /><path clip-path=\"url(#clip6600)\" d=\"M 0 0 M21.9562 811.585 L21.9562 805.378 L51.875 794.238 L21.9562 783.098 L21.9562 776.891 L57.6042 790.259 L57.6042 798.217 L21.9562 811.585 Z\" fill=\"#000000\" fill-rule=\"evenodd\" fill-opacity=\"1\" /><path clip-path=\"url(#clip6600)\" d=\"M 0 0 M39.6847 754.548 Q39.6847 761.646 41.3079 764.383 Q42.9312 767.12 46.8461 767.12 Q49.9653 767.12 51.8114 765.083 Q53.6256 763.014 53.6256 759.481 Q53.6256 754.611 50.1881 751.683 Q46.7188 748.723 40.9897 748.723 L39.6847 748.723 L39.6847 754.548 M37.2657 742.867 L57.6042 742.867 L57.6042 748.723 L52.1933 748.723 Q55.4398 750.728 56.9994 753.72 Q58.5272 756.712 58.5272 761.041 Q58.5272 766.515 55.4716 769.762 Q52.3843 772.977 47.2281 772.977 Q41.2125 772.977 38.1569 768.966 Q35.1014 764.924 35.1014 756.935 L35.1014 748.723 L34.5285 748.723 Q30.4862 748.723 28.2901 751.397 Q26.0621 754.039 26.0621 758.845 Q26.0621 761.9 26.7941 764.797 Q27.5262 767.693 28.9903 770.367 L23.5795 770.367 Q22.3381 767.152 21.7334 764.128 Q21.0968 761.104 21.0968 758.24 Q21.0968 750.506 25.1072 746.686 Q29.1176 742.867 37.2657 742.867 Z\" fill=\"#000000\" fill-rule=\"evenodd\" fill-opacity=\"1\" /><path clip-path=\"url(#clip6600)\" d=\"M 0 0 M8.07896 736.724 L8.07896 730.867 L57.6042 730.867 L57.6042 736.724 L8.07896 736.724 Z\" fill=\"#000000\" fill-rule=\"evenodd\" fill-opacity=\"1\" /><path clip-path=\"url(#clip6600)\" d=\"M 0 0 M43.5359 725.329 L21.9562 725.329 L21.9562 719.473 L43.3131 719.473 Q48.3739 719.473 50.9202 717.499 Q53.4346 715.526 53.4346 711.579 Q53.4346 706.837 50.4109 704.1 Q47.3872 701.33 42.1673 701.33 L21.9562 701.33 L21.9562 695.474 L57.6042 695.474 L57.6042 701.33 L52.1296 701.33 Q55.3762 703.463 56.9676 706.296 Q58.5272 709.097 58.5272 712.821 Q58.5272 718.964 54.7078 722.146 Q50.8883 725.329 43.5359 725.329 M21.0968 710.593 L21.0968 710.593 Z\" fill=\"#000000\" fill-rule=\"evenodd\" fill-opacity=\"1\" /><path clip-path=\"url(#clip6600)\" d=\"M 0 0 M38.3161 658.839 L41.1806 658.839 L41.1806 685.766 Q47.2281 685.384 50.4109 682.138 Q53.5619 678.86 53.5619 673.035 Q53.5619 669.661 52.7344 666.51 Q51.9069 663.327 50.2518 660.208 L55.7899 660.208 Q57.1267 663.359 57.827 666.669 Q58.5272 669.979 58.5272 673.385 Q58.5272 681.915 53.5619 686.912 Q48.5967 691.877 40.1303 691.877 Q31.3774 691.877 26.2531 687.167 Q21.0968 682.424 21.0968 674.404 Q21.0968 667.21 25.7438 663.041 Q30.3589 658.839 38.3161 658.839 M36.5973 664.696 Q31.7912 664.76 28.9266 667.401 Q26.0621 670.011 26.0621 674.34 Q26.0621 679.241 28.8312 682.202 Q31.6002 685.13 36.6292 685.575 L36.5973 664.696 Z\" fill=\"#000000\" fill-rule=\"evenodd\" fill-opacity=\"1\" /><polyline clip-path=\"url(#clip6602)\" style=\"stroke:#009af9; stroke-width:4; stroke-opacity:1; fill:none\" points=\"\n",
       "  328.581,1018.12 357.741,1184.54 386.902,1184.54 416.062,1184.54 445.223,1151.25 474.384,1051.4 503.544,1151.25 532.705,1284.39 561.865,1317.67 591.026,1317.67 \n",
       "  620.186,1317.67 649.347,1350.95 678.508,1251.1 707.668,1284.39 736.829,1350.95 765.989,1284.39 795.15,1284.39 824.31,1284.39 853.471,1184.54 882.631,1184.54 \n",
       "  911.792,1117.97 940.953,1084.69 970.113,1184.54 999.274,1184.54 1028.43,1184.54 1057.59,1117.97 1086.76,1151.25 1115.92,1151.25 1145.08,1151.25 1174.24,1117.97 \n",
       "  1203.4,1117.97 1232.56,1117.97 1261.72,851.704 1290.88,851.704 1320.04,918.271 1349.2,984.837 1378.36,951.554 1407.52,951.554 1436.68,951.554 1465.84,1018.12 \n",
       "  1495,1051.4 1524.16,1051.4 1553.32,1084.69 1582.49,1117.97 1611.65,1117.97 1640.81,1117.97 1669.97,1117.97 1699.13,1117.97 1728.29,1184.54 1757.45,1117.97 \n",
       "  1786.61,1284.39 1815.77,1284.39 1844.93,1284.39 1874.09,1317.67 1903.25,1317.67 1932.41,1151.25 1961.57,1018.12 1990.73,1051.4 2019.89,1051.4 2049.05,1051.4 \n",
       "  2078.21,951.554 2107.38,1084.69 2136.54,1018.12 2165.7,984.837 2194.86,1018.12 2224.02,1018.12 2253.18,1018.12 2282.34,984.837 2311.5,984.837 2340.66,1018.12 \n",
       "  2369.82,1051.4 2398.98,1051.4 2428.14,1051.4 2457.3,1051.4 2486.46,1084.69 2515.62,1151.25 2544.78,1117.97 2573.94,1117.97 2603.1,1117.97 2632.27,1117.97 \n",
       "  2661.43,1117.97 2690.59,984.837 2719.75,918.271 2748.91,918.271 2778.07,884.987 2807.23,918.271 2836.39,918.271 2865.55,918.271 2894.71,851.704 2923.87,851.704 \n",
       "  2953.03,851.704 2982.19,851.704 3011.35,851.704 3040.51,851.704 3069.67,851.704 3098.83,851.704 3128,851.704 3157.16,851.704 3186.32,851.704 3215.48,851.704 \n",
       "  3244.64,851.704 3273.8,851.704 3302.96,851.704 3332.12,851.704 3361.28,851.704 3390.44,851.704 3419.6,851.704 3448.76,851.704 3477.92,851.704 3507.08,851.704 \n",
       "  3536.24,851.704 3565.4,851.704 3594.56,851.704 3623.72,851.704 3652.89,851.704 3682.05,851.704 3711.21,851.704 3740.37,851.704 3769.53,851.704 \n",
       "  \"/>\n",
       "<polyline clip-path=\"url(#clip6602)\" style=\"stroke:#e26f46; stroke-width:4; stroke-opacity:1; fill:none\" points=\"\n",
       "  328.581,1018.12 357.741,1117.97 386.902,1151.25 416.062,1184.54 445.223,1117.97 474.384,1117.97 503.544,1151.25 532.705,1284.39 561.865,1284.39 591.026,1284.39 \n",
       "  620.186,1317.67 649.347,1350.95 678.508,1317.67 707.668,1284.39 736.829,1317.67 765.989,1284.39 795.15,1251.1 824.31,1284.39 853.471,1217.82 882.631,1151.25 \n",
       "  911.792,1117.97 940.953,1117.97 970.113,1151.25 999.274,1151.25 1028.43,1151.25 1057.59,1151.25 1086.76,1084.69 1115.92,1084.69 1145.08,1117.97 1174.24,1151.25 \n",
       "  1203.4,1151.25 1232.56,1117.97 1261.72,984.837 1290.88,951.554 1320.04,918.271 1349.2,951.554 1378.36,918.271 1407.52,951.554 1436.68,951.554 1465.84,984.837 \n",
       "  1495,1018.12 1524.16,1018.12 1553.32,1051.4 1582.49,1084.69 1611.65,1084.69 1640.81,1117.97 1669.97,1117.97 1699.13,1151.25 1728.29,1151.25 1757.45,1384.24 \n",
       "  1786.61,1384.24 1815.77,1350.95 1844.93,1317.67 1874.09,1284.39 1903.25,1284.39 1932.41,1151.25 1961.57,1051.4 1990.73,1018.12 2019.89,1018.12 2049.05,1018.12 \n",
       "  2078.21,984.837 2107.38,1151.25 2136.54,1117.97 2165.7,1051.4 2194.86,1018.12 2224.02,1018.12 2253.18,984.837 2282.34,1018.12 2311.5,1018.12 2340.66,984.837 \n",
       "  2369.82,1018.12 2398.98,1018.12 2428.14,1051.4 2457.3,1051.4 2486.46,1084.69 2515.62,1151.25 2544.78,1117.97 2573.94,1117.97 2603.1,1117.97 2632.27,1084.69 \n",
       "  2661.43,1084.69 2690.59,1051.4 2719.75,951.554 2748.91,884.987 2778.07,851.704 2807.23,818.42 2836.39,785.137 2865.55,785.137 2894.71,751.854 2923.87,718.57 \n",
       "  2953.03,718.57 2982.19,685.287 3011.35,652.003 3040.51,652.003 3069.67,618.72 3098.83,618.72 3128,585.437 3157.16,585.437 3186.32,552.153 3215.48,552.153 \n",
       "  3244.64,518.87 3273.8,518.87 3302.96,485.586 3332.12,485.586 3361.28,452.303 3390.44,452.303 3419.6,419.02 3448.76,419.02 3477.92,385.736 3507.08,352.453 \n",
       "  3536.24,319.169 3565.4,319.169 3594.56,285.886 3623.72,252.603 3652.89,219.319 3682.05,186.036 3711.21,152.752 3740.37,119.469 3769.53,86.1857 \n",
       "  \"/>\n",
       "<polyline clip-path=\"url(#clip6602)\" style=\"stroke:#3da44d; stroke-width:4; stroke-opacity:1; fill:none\" points=\"\n",
       "  2967.61,2799.12 2967.61,-1328.69 \n",
       "  \"/>\n",
       "<path clip-path=\"url(#clip6600)\" d=\"\n",
       "M2957.63 1187.98 L3755.16 1187.98 L3755.16 946.06 L2957.63 946.06  Z\n",
       "  \" fill=\"#ffffff\" fill-rule=\"evenodd\" fill-opacity=\"1\"/>\n",
       "<polyline clip-path=\"url(#clip6600)\" style=\"stroke:#000000; stroke-width:4; stroke-opacity:1; fill:none\" points=\"\n",
       "  2957.63,1187.98 3755.16,1187.98 3755.16,946.06 2957.63,946.06 2957.63,1187.98 \n",
       "  \"/>\n",
       "<polyline clip-path=\"url(#clip6600)\" style=\"stroke:#009af9; stroke-width:4; stroke-opacity:1; fill:none\" points=\"\n",
       "  2996.83,1006.54 3232.03,1006.54 \n",
       "  \"/>\n",
       "<path clip-path=\"url(#clip6600)\" d=\"M 0 0 M3287.06 993.866 L3280.72 1011.07 L3293.42 1011.07 L3287.06 993.866 M3284.42 989.26 L3289.72 989.26 L3302.89 1023.82 L3298.03 1023.82 L3294.88 1014.95 L3279.3 1014.95 L3276.16 1023.82 L3271.23 1023.82 L3284.42 989.26 Z\" fill=\"#000000\" fill-rule=\"evenodd\" fill-opacity=\"1\" /><path clip-path=\"url(#clip6600)\" d=\"M 0 0 M3320.42 993.866 L3314.07 1011.07 L3326.78 1011.07 L3320.42 993.866 M3317.78 989.26 L3323.08 989.26 L3336.25 1023.82 L3331.39 1023.82 L3328.24 1014.95 L3312.66 1014.95 L3309.51 1023.82 L3304.58 1023.82 L3317.78 989.26 Z\" fill=\"#000000\" fill-rule=\"evenodd\" fill-opacity=\"1\" /><path clip-path=\"url(#clip6600)\" d=\"M 0 0 M3345.58 993.102 L3345.58 1006.09 L3351.46 1006.09 Q3354.72 1006.09 3356.5 1004.4 Q3358.29 1002.71 3358.29 999.584 Q3358.29 996.482 3356.5 994.792 Q3354.72 993.102 3351.46 993.102 L3345.58 993.102 M3340.9 989.26 L3351.46 989.26 Q3357.27 989.26 3360.23 991.899 Q3363.22 994.514 3363.22 999.584 Q3363.22 1004.7 3360.23 1007.32 Q3357.27 1009.93 3351.46 1009.93 L3345.58 1009.93 L3345.58 1023.82 L3340.9 1023.82 L3340.9 989.26 Z\" fill=\"#000000\" fill-rule=\"evenodd\" fill-opacity=\"1\" /><path clip-path=\"url(#clip6600)\" d=\"M 0 0 M3367.87 989.26 L3372.54 989.26 L3372.54 1019.88 L3389.37 1019.88 L3389.37 1023.82 L3367.87 1023.82 L3367.87 989.26 Z\" fill=\"#000000\" fill-rule=\"evenodd\" fill-opacity=\"1\" /><polyline clip-path=\"url(#clip6600)\" style=\"stroke:#e26f46; stroke-width:4; stroke-opacity:1; fill:none\" points=\"\n",
       "  2996.83,1067.02 3232.03,1067.02 \n",
       "  \"/>\n",
       "<path clip-path=\"url(#clip6600)\" d=\"M 0 0 M3275.51 1080.41 L3275.51 1094.16 L3271.23 1094.16 L3271.23 1058.37 L3275.51 1058.37 L3275.51 1062.31 Q3276.85 1059.99 3278.89 1058.88 Q3280.95 1057.75 3283.8 1057.75 Q3288.52 1057.75 3291.46 1061.5 Q3294.42 1065.25 3294.42 1071.36 Q3294.42 1077.47 3291.46 1081.22 Q3288.52 1084.97 3283.8 1084.97 Q3280.95 1084.97 3278.89 1083.86 Q3276.85 1082.73 3275.51 1080.41 M3290 1071.36 Q3290 1066.66 3288.05 1064 Q3286.13 1061.31 3282.75 1061.31 Q3279.37 1061.31 3277.43 1064 Q3275.51 1066.66 3275.51 1071.36 Q3275.51 1076.06 3277.43 1078.74 Q3279.37 1081.41 3282.75 1081.41 Q3286.13 1081.41 3288.05 1078.74 Q3290 1076.06 3290 1071.36 Z\" fill=\"#000000\" fill-rule=\"evenodd\" fill-opacity=\"1\" /><path clip-path=\"url(#clip6600)\" d=\"M 0 0 M3313.91 1062.36 Q3313.19 1061.94 3312.34 1061.75 Q3311.5 1061.55 3310.48 1061.55 Q3306.87 1061.55 3304.93 1063.91 Q3303.01 1066.24 3303.01 1070.64 L3303.01 1084.3 L3298.73 1084.3 L3298.73 1058.37 L3303.01 1058.37 L3303.01 1062.4 Q3304.35 1060.04 3306.5 1058.91 Q3308.66 1057.75 3311.73 1057.75 Q3312.17 1057.75 3312.71 1057.82 Q3313.24 1057.86 3313.89 1057.98 L3313.91 1062.36 Z\" fill=\"#000000\" fill-rule=\"evenodd\" fill-opacity=\"1\" /><path clip-path=\"url(#clip6600)\" d=\"M 0 0 M3339.51 1070.27 L3339.51 1072.36 L3319.93 1072.36 Q3320.21 1076.75 3322.57 1079.07 Q3324.95 1081.36 3329.19 1081.36 Q3331.64 1081.36 3333.93 1080.76 Q3336.25 1080.16 3338.52 1078.95 L3338.52 1082.98 Q3336.23 1083.95 3333.82 1084.46 Q3331.41 1084.97 3328.93 1084.97 Q3322.73 1084.97 3319.1 1081.36 Q3315.48 1077.75 3315.48 1071.59 Q3315.48 1065.23 3318.91 1061.5 Q3322.36 1057.75 3328.19 1057.75 Q3333.42 1057.75 3336.46 1061.13 Q3339.51 1064.49 3339.51 1070.27 M3335.25 1069.02 Q3335.21 1065.53 3333.29 1063.44 Q3331.39 1061.36 3328.24 1061.36 Q3324.67 1061.36 3322.52 1063.37 Q3320.39 1065.39 3320.07 1069.05 L3335.25 1069.02 Z\" fill=\"#000000\" fill-rule=\"evenodd\" fill-opacity=\"1\" /><path clip-path=\"url(#clip6600)\" d=\"M 0 0 M3361.04 1062.31 L3361.04 1048.28 L3365.3 1048.28 L3365.3 1084.3 L3361.04 1084.3 L3361.04 1080.41 Q3359.7 1082.73 3357.64 1083.86 Q3355.6 1084.97 3352.73 1084.97 Q3348.03 1084.97 3345.07 1081.22 Q3342.13 1077.47 3342.13 1071.36 Q3342.13 1065.25 3345.07 1061.5 Q3348.03 1057.75 3352.73 1057.75 Q3355.6 1057.75 3357.64 1058.88 Q3359.7 1059.99 3361.04 1062.31 M3346.53 1071.36 Q3346.53 1076.06 3348.45 1078.74 Q3350.39 1081.41 3353.77 1081.41 Q3357.15 1081.41 3359.1 1078.74 Q3361.04 1076.06 3361.04 1071.36 Q3361.04 1066.66 3359.1 1064 Q3357.15 1061.31 3353.77 1061.31 Q3350.39 1061.31 3348.45 1064 Q3346.53 1066.66 3346.53 1071.36 Z\" fill=\"#000000\" fill-rule=\"evenodd\" fill-opacity=\"1\" /><path clip-path=\"url(#clip6600)\" d=\"M 0 0 M3369.77 1058.37 L3374.03 1058.37 L3374.03 1084.3 L3369.77 1084.3 L3369.77 1058.37 M3369.77 1048.28 L3374.03 1048.28 L3374.03 1053.68 L3369.77 1053.68 L3369.77 1048.28 Z\" fill=\"#000000\" fill-rule=\"evenodd\" fill-opacity=\"1\" /><path clip-path=\"url(#clip6600)\" d=\"M 0 0 M3382.71 1051.01 L3382.71 1058.37 L3391.48 1058.37 L3391.48 1061.68 L3382.71 1061.68 L3382.71 1075.76 Q3382.71 1078.93 3383.56 1079.83 Q3384.44 1080.74 3387.1 1080.74 L3391.48 1080.74 L3391.48 1084.3 L3387.1 1084.3 Q3382.17 1084.3 3380.3 1082.47 Q3378.42 1080.62 3378.42 1075.76 L3378.42 1061.68 L3375.3 1061.68 L3375.3 1058.37 L3378.42 1058.37 L3378.42 1051.01 L3382.71 1051.01 Z\" fill=\"#000000\" fill-rule=\"evenodd\" fill-opacity=\"1\" /><path clip-path=\"url(#clip6600)\" d=\"M 0 0 M3395.95 1058.37 L3400.21 1058.37 L3400.21 1084.3 L3395.95 1084.3 L3395.95 1058.37 M3395.95 1048.28 L3400.21 1048.28 L3400.21 1053.68 L3395.95 1053.68 L3395.95 1048.28 Z\" fill=\"#000000\" fill-rule=\"evenodd\" fill-opacity=\"1\" /><path clip-path=\"url(#clip6600)\" d=\"M 0 0 M3414.72 1061.36 Q3411.29 1061.36 3409.3 1064.05 Q3407.31 1066.71 3407.31 1071.36 Q3407.31 1076.01 3409.28 1078.7 Q3411.27 1081.36 3414.72 1081.36 Q3418.12 1081.36 3420.11 1078.67 Q3422.1 1075.99 3422.1 1071.36 Q3422.1 1066.75 3420.11 1064.07 Q3418.12 1061.36 3414.72 1061.36 M3414.72 1057.75 Q3420.28 1057.75 3423.45 1061.36 Q3426.62 1064.97 3426.62 1071.36 Q3426.62 1077.73 3423.45 1081.36 Q3420.28 1084.97 3414.72 1084.97 Q3409.14 1084.97 3405.97 1081.36 Q3402.82 1077.73 3402.82 1071.36 Q3402.82 1064.97 3405.97 1061.36 Q3409.14 1057.75 3414.72 1057.75 Z\" fill=\"#000000\" fill-rule=\"evenodd\" fill-opacity=\"1\" /><path clip-path=\"url(#clip6600)\" d=\"M 0 0 M3452.64 1068.65 L3452.64 1084.3 L3448.38 1084.3 L3448.38 1068.79 Q3448.38 1065.11 3446.94 1063.28 Q3445.51 1061.45 3442.64 1061.45 Q3439.19 1061.45 3437.2 1063.65 Q3435.21 1065.85 3435.21 1069.65 L3435.21 1084.3 L3430.92 1084.3 L3430.92 1058.37 L3435.21 1058.37 L3435.21 1062.4 Q3436.73 1060.06 3438.79 1058.91 Q3440.88 1057.75 3443.59 1057.75 Q3448.05 1057.75 3450.35 1060.53 Q3452.64 1063.28 3452.64 1068.65 Z\" fill=\"#000000\" fill-rule=\"evenodd\" fill-opacity=\"1\" /><path clip-path=\"url(#clip6600)\" d=\"M 0 0 M3473.63 1059.14 L3473.63 1063.17 Q3471.83 1062.24 3469.88 1061.78 Q3467.94 1061.31 3465.85 1061.31 Q3462.68 1061.31 3461.09 1062.29 Q3459.51 1063.26 3459.51 1065.2 Q3459.51 1066.68 3460.65 1067.54 Q3461.78 1068.37 3465.21 1069.14 L3466.66 1069.46 Q3471.2 1070.43 3473.1 1072.22 Q3475.02 1073.98 3475.02 1077.15 Q3475.02 1080.76 3472.15 1082.86 Q3469.3 1084.97 3464.3 1084.97 Q3462.22 1084.97 3459.95 1084.55 Q3457.71 1084.16 3455.21 1083.35 L3455.21 1078.95 Q3457.57 1080.18 3459.86 1080.8 Q3462.15 1081.41 3464.4 1081.41 Q3467.41 1081.41 3469.03 1080.39 Q3470.65 1079.35 3470.65 1077.47 Q3470.65 1075.74 3469.47 1074.81 Q3468.31 1073.88 3464.35 1073.03 L3462.87 1072.68 Q3458.91 1071.85 3457.15 1070.13 Q3455.39 1068.4 3455.39 1065.39 Q3455.39 1061.73 3457.98 1059.74 Q3460.58 1057.75 3465.35 1057.75 Q3467.71 1057.75 3469.79 1058.1 Q3471.87 1058.44 3473.63 1059.14 Z\" fill=\"#000000\" fill-rule=\"evenodd\" fill-opacity=\"1\" /><polyline clip-path=\"url(#clip6600)\" style=\"stroke:#3da44d; stroke-width:4; stroke-opacity:1; fill:none\" points=\"\n",
       "  2996.83,1127.5 3232.03,1127.5 \n",
       "  \"/>\n",
       "<path clip-path=\"url(#clip6600)\" d=\"M 0 0 M3271.23 1110.22 L3300.46 1110.22 L3300.46 1114.16 L3288.19 1114.16 L3288.19 1144.78 L3283.49 1144.78 L3283.49 1114.16 L3271.23 1114.16 L3271.23 1110.22 Z\" fill=\"#000000\" fill-rule=\"evenodd\" fill-opacity=\"1\" /><path clip-path=\"url(#clip6600)\" d=\"M 0 0 M3306.92 1121.84 Q3303.49 1121.84 3301.5 1124.53 Q3299.51 1127.19 3299.51 1131.84 Q3299.51 1136.49 3301.48 1139.18 Q3303.47 1141.84 3306.92 1141.84 Q3310.32 1141.84 3312.31 1139.15 Q3314.3 1136.47 3314.3 1131.84 Q3314.3 1127.23 3312.31 1124.55 Q3310.32 1121.84 3306.92 1121.84 M3306.92 1118.23 Q3312.48 1118.23 3315.65 1121.84 Q3318.82 1125.45 3318.82 1131.84 Q3318.82 1138.21 3315.65 1141.84 Q3312.48 1145.45 3306.92 1145.45 Q3301.34 1145.45 3298.17 1141.84 Q3295.02 1138.21 3295.02 1131.84 Q3295.02 1125.45 3298.17 1121.84 Q3301.34 1118.23 3306.92 1118.23 Z\" fill=\"#000000\" fill-rule=\"evenodd\" fill-opacity=\"1\" /><path clip-path=\"url(#clip6600)\" d=\"M 0 0 M3340.35 1122.79 L3340.35 1108.76 L3344.6 1108.76 L3344.6 1144.78 L3340.35 1144.78 L3340.35 1140.89 Q3339 1143.21 3336.94 1144.34 Q3334.91 1145.45 3332.04 1145.45 Q3327.34 1145.45 3324.37 1141.7 Q3321.43 1137.95 3321.43 1131.84 Q3321.43 1125.73 3324.37 1121.98 Q3327.34 1118.23 3332.04 1118.23 Q3334.91 1118.23 3336.94 1119.36 Q3339 1120.47 3340.35 1122.79 M3325.83 1131.84 Q3325.83 1136.54 3327.75 1139.22 Q3329.7 1141.89 3333.08 1141.89 Q3336.46 1141.89 3338.4 1139.22 Q3340.35 1136.54 3340.35 1131.84 Q3340.35 1127.14 3338.4 1124.48 Q3336.46 1121.79 3333.08 1121.79 Q3329.7 1121.79 3327.75 1124.48 Q3325.83 1127.14 3325.83 1131.84 Z\" fill=\"#000000\" fill-rule=\"evenodd\" fill-opacity=\"1\" /><path clip-path=\"url(#clip6600)\" d=\"M 0 0 M3360.85 1131.75 Q3355.69 1131.75 3353.7 1132.93 Q3351.71 1134.11 3351.71 1136.96 Q3351.71 1139.22 3353.19 1140.57 Q3354.7 1141.89 3357.27 1141.89 Q3360.81 1141.89 3362.94 1139.39 Q3365.09 1136.86 3365.09 1132.7 L3365.09 1131.75 L3360.85 1131.75 M3369.35 1129.99 L3369.35 1144.78 L3365.09 1144.78 L3365.09 1140.84 Q3363.63 1143.21 3361.46 1144.34 Q3359.28 1145.45 3356.13 1145.45 Q3352.15 1145.45 3349.79 1143.23 Q3347.45 1140.98 3347.45 1137.23 Q3347.45 1132.86 3350.37 1130.64 Q3353.31 1128.41 3359.12 1128.41 L3365.09 1128.41 L3365.09 1128 Q3365.09 1125.06 3363.15 1123.46 Q3361.23 1121.84 3357.73 1121.84 Q3355.51 1121.84 3353.4 1122.37 Q3351.29 1122.9 3349.35 1123.97 L3349.35 1120.03 Q3351.69 1119.13 3353.89 1118.69 Q3356.09 1118.23 3358.17 1118.23 Q3363.79 1118.23 3366.57 1121.15 Q3369.35 1124.06 3369.35 1129.99 Z\" fill=\"#000000\" fill-rule=\"evenodd\" fill-opacity=\"1\" /><path clip-path=\"url(#clip6600)\" d=\"M 0 0 M3384.6 1147.19 Q3382.8 1151.82 3381.09 1153.23 Q3379.37 1154.64 3376.5 1154.64 L3373.1 1154.64 L3373.1 1151.08 L3375.6 1151.08 Q3377.36 1151.08 3378.33 1150.24 Q3379.3 1149.41 3380.48 1146.31 L3381.25 1144.36 L3370.76 1118.85 L3375.28 1118.85 L3383.38 1139.13 L3391.48 1118.85 L3395.99 1118.85 L3384.6 1147.19 Z\" fill=\"#000000\" fill-rule=\"evenodd\" fill-opacity=\"1\" /><path clip-path=\"url(#clip6600)\" d=\"M 0 0 M3420.39 1114.06 L3420.39 1140.94 L3426.04 1140.94 Q3433.19 1140.94 3436.5 1137.7 Q3439.84 1134.46 3439.84 1127.47 Q3439.84 1120.52 3436.5 1117.3 Q3433.19 1114.06 3426.04 1114.06 L3420.39 1114.06 M3415.72 1110.22 L3425.32 1110.22 Q3435.37 1110.22 3440.07 1114.41 Q3444.77 1118.58 3444.77 1127.47 Q3444.77 1136.4 3440.04 1140.59 Q3435.32 1144.78 3425.32 1144.78 L3415.72 1144.78 L3415.72 1110.22 Z\" fill=\"#000000\" fill-rule=\"evenodd\" fill-opacity=\"1\" /><path clip-path=\"url(#clip6600)\" d=\"M 0 0 M3471.41 1130.75 L3471.41 1132.84 L3451.83 1132.84 Q3452.1 1137.23 3454.47 1139.55 Q3456.85 1141.84 3461.09 1141.84 Q3463.54 1141.84 3465.83 1141.24 Q3468.15 1140.64 3470.41 1139.43 L3470.41 1143.46 Q3468.12 1144.43 3465.72 1144.94 Q3463.31 1145.45 3460.83 1145.45 Q3454.63 1145.45 3450.99 1141.84 Q3447.38 1138.23 3447.38 1132.07 Q3447.38 1125.71 3450.81 1121.98 Q3454.26 1118.23 3460.09 1118.23 Q3465.32 1118.23 3468.35 1121.61 Q3471.41 1124.97 3471.41 1130.75 M3467.15 1129.5 Q3467.1 1126.01 3465.18 1123.92 Q3463.28 1121.84 3460.14 1121.84 Q3456.57 1121.84 3454.42 1123.85 Q3452.29 1125.87 3451.97 1129.53 L3467.15 1129.5 Z\" fill=\"#000000\" fill-rule=\"evenodd\" fill-opacity=\"1\" /><path clip-path=\"url(#clip6600)\" d=\"M 0 0 M3494.53 1119.85 L3494.53 1123.83 Q3492.73 1122.84 3490.9 1122.35 Q3489.09 1121.84 3487.24 1121.84 Q3483.1 1121.84 3480.81 1124.48 Q3478.52 1127.09 3478.52 1131.84 Q3478.52 1136.59 3480.81 1139.22 Q3483.1 1141.84 3487.24 1141.84 Q3489.09 1141.84 3490.9 1141.35 Q3492.73 1140.84 3494.53 1139.85 L3494.53 1143.78 Q3492.75 1144.62 3490.83 1145.03 Q3488.93 1145.45 3486.78 1145.45 Q3480.92 1145.45 3477.47 1141.77 Q3474.03 1138.09 3474.03 1131.84 Q3474.03 1125.5 3477.5 1121.86 Q3480.99 1118.23 3487.06 1118.23 Q3489.03 1118.23 3490.9 1118.65 Q3492.78 1119.04 3494.53 1119.85 Z\" fill=\"#000000\" fill-rule=\"evenodd\" fill-opacity=\"1\" /><path clip-path=\"url(#clip6600)\" d=\"M 0 0 M3499.6 1138.9 L3504.49 1138.9 L3504.49 1144.78 L3499.6 1144.78 L3499.6 1138.9 Z\" fill=\"#000000\" fill-rule=\"evenodd\" fill-opacity=\"1\" /><path clip-path=\"url(#clip6600)\" d=\"M 0 0 M3524.77 1144.06 L3524.77 1139.8 Q3526.53 1140.64 3528.33 1141.08 Q3530.14 1141.52 3531.87 1141.52 Q3536.5 1141.52 3538.93 1138.41 Q3541.39 1135.29 3541.73 1128.95 Q3540.39 1130.94 3538.33 1132 Q3536.27 1133.07 3533.77 1133.07 Q3528.59 1133.07 3525.55 1129.94 Q3522.54 1126.79 3522.54 1121.35 Q3522.54 1116.03 3525.69 1112.81 Q3528.84 1109.59 3534.07 1109.59 Q3540.07 1109.59 3543.21 1114.2 Q3546.39 1118.78 3546.39 1127.53 Q3546.39 1135.71 3542.5 1140.59 Q3538.63 1145.45 3532.08 1145.45 Q3530.32 1145.45 3528.52 1145.1 Q3526.71 1144.76 3524.77 1144.06 M3534.07 1129.41 Q3537.22 1129.41 3539.05 1127.26 Q3540.9 1125.1 3540.9 1121.35 Q3540.9 1117.63 3539.05 1115.47 Q3537.22 1113.3 3534.07 1113.3 Q3530.92 1113.3 3529.07 1115.47 Q3527.24 1117.63 3527.24 1121.35 Q3527.24 1125.1 3529.07 1127.26 Q3530.92 1129.41 3534.07 1129.41 Z\" fill=\"#000000\" fill-rule=\"evenodd\" fill-opacity=\"1\" /><path clip-path=\"url(#clip6600)\" d=\"M 0 0 M3551.94 1138.9 L3556.83 1138.9 L3556.83 1142.88 L3553.03 1150.29 L3550.04 1150.29 L3551.94 1142.88 L3551.94 1138.9 Z\" fill=\"#000000\" fill-rule=\"evenodd\" fill-opacity=\"1\" /><path clip-path=\"url(#clip6600)\" d=\"M 0 0 M3580.99 1140.84 L3597.31 1140.84 L3597.31 1144.78 L3575.37 1144.78 L3575.37 1140.84 Q3578.03 1138.09 3582.61 1133.46 Q3587.22 1128.81 3588.4 1127.47 Q3590.65 1124.94 3591.52 1123.21 Q3592.43 1121.45 3592.43 1119.76 Q3592.43 1117 3590.48 1115.27 Q3588.56 1113.53 3585.46 1113.53 Q3583.26 1113.53 3580.81 1114.29 Q3578.38 1115.06 3575.6 1116.61 L3575.6 1111.89 Q3578.42 1110.75 3580.88 1110.17 Q3583.33 1109.59 3585.37 1109.59 Q3590.74 1109.59 3593.93 1112.28 Q3597.13 1114.97 3597.13 1119.46 Q3597.13 1121.59 3596.32 1123.51 Q3595.53 1125.4 3593.42 1128 Q3592.84 1128.67 3589.74 1131.89 Q3586.64 1135.08 3580.99 1140.84 Z\" fill=\"#000000\" fill-rule=\"evenodd\" fill-opacity=\"1\" /><path clip-path=\"url(#clip6600)\" d=\"M 0 0 M3612.38 1113.3 Q3608.77 1113.3 3606.94 1116.86 Q3605.14 1120.4 3605.14 1127.53 Q3605.14 1134.64 3606.94 1138.21 Q3608.77 1141.75 3612.38 1141.75 Q3616.02 1141.75 3617.82 1138.21 Q3619.65 1134.64 3619.65 1127.53 Q3619.65 1120.4 3617.82 1116.86 Q3616.02 1113.3 3612.38 1113.3 M3612.38 1109.59 Q3618.19 1109.59 3621.25 1114.2 Q3624.33 1118.78 3624.33 1127.53 Q3624.33 1136.26 3621.25 1140.87 Q3618.19 1145.45 3612.38 1145.45 Q3606.57 1145.45 3603.49 1140.87 Q3600.44 1136.26 3600.44 1127.53 Q3600.44 1118.78 3603.49 1114.2 Q3606.57 1109.59 3612.38 1109.59 Z\" fill=\"#000000\" fill-rule=\"evenodd\" fill-opacity=\"1\" /><path clip-path=\"url(#clip6600)\" d=\"M 0 0 M3633.42 1140.84 L3649.74 1140.84 L3649.74 1144.78 L3627.8 1144.78 L3627.8 1140.84 Q3630.46 1138.09 3635.04 1133.46 Q3639.65 1128.81 3640.83 1127.47 Q3643.08 1124.94 3643.96 1123.21 Q3644.86 1121.45 3644.86 1119.76 Q3644.86 1117 3642.91 1115.27 Q3640.99 1113.53 3637.89 1113.53 Q3635.69 1113.53 3633.24 1114.29 Q3630.81 1115.06 3628.03 1116.61 L3628.03 1111.89 Q3630.85 1110.75 3633.31 1110.17 Q3635.76 1109.59 3637.8 1109.59 Q3643.17 1109.59 3646.36 1112.28 Q3649.56 1114.97 3649.56 1119.46 Q3649.56 1121.59 3648.75 1123.51 Q3647.96 1125.4 3645.85 1128 Q3645.27 1128.67 3642.17 1131.89 Q3639.07 1135.08 3633.42 1140.84 Z\" fill=\"#000000\" fill-rule=\"evenodd\" fill-opacity=\"1\" /><path clip-path=\"url(#clip6600)\" d=\"M 0 0 M3664.81 1113.3 Q3661.2 1113.3 3659.37 1116.86 Q3657.57 1120.4 3657.57 1127.53 Q3657.57 1134.64 3659.37 1138.21 Q3661.2 1141.75 3664.81 1141.75 Q3668.45 1141.75 3670.25 1138.21 Q3672.08 1134.64 3672.08 1127.53 Q3672.08 1120.4 3670.25 1116.86 Q3668.45 1113.3 3664.81 1113.3 M3664.81 1109.59 Q3670.62 1109.59 3673.68 1114.2 Q3676.76 1118.78 3676.76 1127.53 Q3676.76 1136.26 3673.68 1140.87 Q3670.62 1145.45 3664.81 1145.45 Q3659 1145.45 3655.92 1140.87 Q3652.87 1136.26 3652.87 1127.53 Q3652.87 1118.78 3655.92 1114.2 Q3659 1109.59 3664.81 1109.59 Z\" fill=\"#000000\" fill-rule=\"evenodd\" fill-opacity=\"1\" /></svg>\n"
      ]
     },
     "execution_count": 12,
     "metadata": {},
     "output_type": "execute_result"
    }
   ],
   "source": [
    "using Plots\n",
    "\n",
    "#dates = format_dates( df[rows,2] , \"m/d/yy\")\n",
    "\n",
    "gr()\n",
    "plot(    x_axis_dates,\n",
    "        [  y_axis_original y_axis_predicted \n",
    "        ], # y-axis\n",
    "    label    = \n",
    "        [ symbol_to_predict \"preditions\"  \"\" ],\n",
    "    legend   =:bottomright, \n",
    "              # :right, :left, :top, :bottom, :inside, :best, :legend, :topright, :topleft, :bottomleft, :bottomright\n",
    "    xlabel   = \"time\",\n",
    "    ylabel   = \"value\",\n",
    "    size     = (980, 400), # width, height\n",
    "    layout = (1, 1), # number of graphs: vertically, horizontally\n",
    "    )\n",
    "## Add veritical today line\n",
    "plot!([today_id], seriestype=\"vline\", label=[ \"Today \"*t \"\" ],)\n"
   ]
  },
  {
   "cell_type": "code",
   "execution_count": 13,
   "metadata": {
    "ExecuteTime": {
     "end_time": "2020-12-09T07:19:19.409000-05:00",
     "start_time": "2020-12-09T12:18:26.220Z"
    }
   },
   "outputs": [],
   "source": [
    "savefig(\"../../predictions_\" * symbol_to_predict * \".png\")"
   ]
  },
  {
   "cell_type": "code",
   "execution_count": 14,
   "metadata": {
    "ExecuteTime": {
     "end_time": "2020-12-09T07:19:19.818000-05:00",
     "start_time": "2020-12-09T12:18:26.223Z"
    }
   },
   "outputs": [
    {
     "name": "stdout",
     "output_type": "stream",
     "text": [
      "AAPL 2020-12-09\n",
      "Wed, 2020-12-02\t predicted 124.0\t, but actual value was \t123.0\t difference is -1.0\n",
      "Thu, 2020-12-03\t predicted 125.0\t, but actual value was \t124.0\t difference is -1.0\n",
      "Fri, 2020-12-04\t predicted 126.0\t, but actual value was \t123.0\t difference is -3.0\n",
      "Sat, 2020-12-05\t predicted 127.0\t, but actual value was \t123.0\t difference is -4.0\n",
      "Sun, 2020-12-06\t predicted 127.0\t, but actual value was \t123.0\t difference is -4.0\n",
      "Mon, 2020-12-07\t predicted 128.0\t, but actual value was \t125.0\t difference is -3.0\n",
      "Tue, 2020-12-08\t predicted 129.0\t, but actual value was \t125.0\t difference is -4.0\n",
      "Wed, 2020-12-09\t predicted 129.0\n",
      "Thu, 2020-12-10\t predicted 130.0\n",
      "Fri, 2020-12-11\t predicted 131.0\n"
     ]
    }
   ],
   "source": [
    "## print prediction comparisons\n",
    "println(symbol_to_predict, \" \", today())\n",
    "\n",
    "file_path = \"../DATA/\" * symbol_to_predict * \"_pedictions.csv\"\n",
    "open( file_path, \"a\") do file_handle # append\n",
    "    \n",
    "    for id in finem-35:finem\n",
    "        if id < today_id + 3\n",
    "            row = get(data_predictions, id) # get a dictionary of data from the SFrame\n",
    "            date_string = row[\"Date\"] # e.g. \"2020-10-20\"\n",
    "\n",
    "            a = y_axis_predicted[id]\n",
    "            b = y_axis_original[id]\n",
    "            d = round(b-a, digits=3)\n",
    "            date = convert(String, Dates.format( Date(date_string), \"e, yyyy-mm-dd\" ) )\n",
    "            if id < today_id\n",
    "                println( date, \"\\t predicted \", a , \"\\t, but actual value was \\t\", b , \"\\t difference is \",  d  ) # di\n",
    "            else\n",
    "                println( date, \"\\t predicted \", a  ) # \n",
    "\n",
    "                txt_to_save =  \n",
    "                    convert(String, Dates.format( today(), \"yyyy-mm-dd\" ) ) *\",\"* \n",
    "                    convert(String, symbol_to_predict) *\",\"* \n",
    "                    date_string *\",\"* \n",
    "                    string(a) * \"\\n\"\n",
    "                \n",
    "                write(file_handle, txt_to_save )\n",
    "                \n",
    "            end # if\n",
    "        end #if \n",
    "    end # for\n",
    "end # open file"
   ]
  },
  {
   "cell_type": "code",
   "execution_count": null,
   "metadata": {},
   "outputs": [],
   "source": []
  },
  {
   "cell_type": "code",
   "execution_count": null,
   "metadata": {},
   "outputs": [],
   "source": []
  }
 ],
 "metadata": {
  "kernelspec": {
   "display_name": "Julia 1.5.1",
   "language": "julia",
   "name": "julia-1.5"
  },
  "language_info": {
   "file_extension": ".jl",
   "mimetype": "application/julia",
   "name": "julia",
   "version": "1.5.1"
  },
  "toc": {
   "base_numbering": 1,
   "nav_menu": {},
   "number_sections": true,
   "sideBar": true,
   "skip_h1_title": true,
   "title_cell": "Table of Contents",
   "title_sidebar": "Contents",
   "toc_cell": true,
   "toc_position": {},
   "toc_section_display": true,
   "toc_window_display": true
  },
  "varInspector": {
   "cols": {
    "lenName": 16,
    "lenType": 16,
    "lenVar": 40
   },
   "kernels_config": {
    "python": {
     "delete_cmd_postfix": "",
     "delete_cmd_prefix": "del ",
     "library": "var_list.py",
     "varRefreshCmd": "print(var_dic_list())"
    },
    "r": {
     "delete_cmd_postfix": ") ",
     "delete_cmd_prefix": "rm(",
     "library": "var_list.r",
     "varRefreshCmd": "cat(var_dic_list()) "
    }
   },
   "types_to_exclude": [
    "module",
    "function",
    "builtin_function_or_method",
    "instance",
    "_Feature"
   ],
   "window_display": false
  }
 },
 "nbformat": 4,
 "nbformat_minor": 4
}
