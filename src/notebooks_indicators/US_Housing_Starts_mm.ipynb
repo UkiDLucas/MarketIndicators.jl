{
 "cells": [
  {
   "cell_type": "markdown",
   "metadata": {},
   "source": [
    "# United States Housing Starts m/m\n",
    "\n",
    "Housing Starts m/m reflect changes in the number of new residential construction projects, which started in the reported month, compared to the previous month.\n",
    "\n",
    "Data for the indicator are obtained from a survey of developers and regulatory authorities. The sample size covers about 95% of all residential construction projects in the country. The data are adjusted for weather and season variations. The indicator is published in the second decade of each month, as part of the general national construction report. The report also includes construction permits and completed projects.\n",
    "\n",
    "The volume of new housing starts is rarely interpreted in absolute terms: construction is highly dependent on weather conditions, geographic location in the region, and time of the year. That is why analysts normally measure the indicator change for several months. During the indicator interpretation, economists pay attention to the following reference points.\n",
    "\n",
    "An increase in demand for new homes points to the growth of the population welfare.\n",
    "An increase in new housing constructions leads to an increase of employment in the construction industry.\n",
    "An increase in demand for new homes may lead to an increased demand for other products needed to new home buyers, such as new furniture, appliances, etc. This may spur consumer activity and affect price indices.\n",
    "The indicator growth may lead to an increase in the real estate market.\n",
    "Taking into account the above point, higher readings of housing starts may have a positive impact on the US dollar quotes.\n",
    "                        \n",
    "source:\n",
    "- https://www.mql5.com/en/economic-calendar/united-states/housing-starts-mm"
   ]
  },
  {
   "cell_type": "markdown",
   "metadata": {
    "toc": true
   },
   "source": [
    "<h1>Table of Contents<span class=\"tocSkip\"></span></h1>\n",
    "<div class=\"toc\"><ul class=\"toc-item\"><li><span><a href=\"#Set-Up\" data-toc-modified-id=\"Set-Up-1\"><span class=\"toc-item-num\">1&nbsp;&nbsp;</span>Set Up</a></span></li><li><span><a href=\"#Read-Data\" data-toc-modified-id=\"Read-Data-2\"><span class=\"toc-item-num\">2&nbsp;&nbsp;</span>Read Data</a></span><ul class=\"toc-item\"><li><span><a href=\"#Sample-the-data\" data-toc-modified-id=\"Sample-the-data-2.1\"><span class=\"toc-item-num\">2.1&nbsp;&nbsp;</span>Sample the data</a></span></li></ul></li><li><span><a href=\"#Choose-the-KEY-value-column\" data-toc-modified-id=\"Choose-the-KEY-value-column-3\"><span class=\"toc-item-num\">3&nbsp;&nbsp;</span>Choose the KEY value column</a></span><ul class=\"toc-item\"><li><span><a href=\"#Draw-Plots-of-Original-Data\" data-toc-modified-id=\"Draw-Plots-of-Original-Data-3.1\"><span class=\"toc-item-num\">3.1&nbsp;&nbsp;</span>Draw Plots of Original Data</a></span></li></ul></li><li><span><a href=\"#Extract-right-columns\" data-toc-modified-id=\"Extract-right-columns-4\"><span class=\"toc-item-num\">4&nbsp;&nbsp;</span>Extract right columns</a></span></li><li><span><a href=\"#Rata-Die\" data-toc-modified-id=\"Rata-Die-5\"><span class=\"toc-item-num\">5&nbsp;&nbsp;</span>Rata Die</a></span></li><li><span><a href=\"#Quantize-the-values\" data-toc-modified-id=\"Quantize-the-values-6\"><span class=\"toc-item-num\">6&nbsp;&nbsp;</span>Quantize the values</a></span></li><li><span><a href=\"#Fill-in-Empty-Dates\" data-toc-modified-id=\"Fill-in-Empty-Dates-7\"><span class=\"toc-item-num\">7&nbsp;&nbsp;</span>Fill in Empty Dates</a></span><ul class=\"toc-item\"><li><span><a href=\"#Fill:-Sort\" data-toc-modified-id=\"Fill:-Sort-7.1\"><span class=\"toc-item-num\">7.1&nbsp;&nbsp;</span>Fill: Sort</a></span></li><li><span><a href=\"#Fill:-Draw-Plots\" data-toc-modified-id=\"Fill:-Draw-Plots-7.2\"><span class=\"toc-item-num\">7.2&nbsp;&nbsp;</span>Fill: Draw Plots</a></span></li></ul></li><li><span><a href=\"#Averages\" data-toc-modified-id=\"Averages-8\"><span class=\"toc-item-num\">8&nbsp;&nbsp;</span>Averages</a></span><ul class=\"toc-item\"><li><span><a href=\"#Averages:-Draw-Plots\" data-toc-modified-id=\"Averages:-Draw-Plots-8.1\"><span class=\"toc-item-num\">8.1&nbsp;&nbsp;</span>Averages: Draw Plots</a></span></li><li><span><a href=\"#Insert-averages-to-DataFrame\" data-toc-modified-id=\"Insert-averages-to-DataFrame-8.2\"><span class=\"toc-item-num\">8.2&nbsp;&nbsp;</span>Insert averages to DataFrame</a></span></li><li><span><a href=\"#Position:-Draw-Plots\" data-toc-modified-id=\"Position:-Draw-Plots-8.3\"><span class=\"toc-item-num\">8.3&nbsp;&nbsp;</span>Position: Draw Plots</a></span></li></ul></li><li><span><a href=\"#Save-DataFrame-to-CSV-file\" data-toc-modified-id=\"Save-DataFrame-to-CSV-file-9\"><span class=\"toc-item-num\">9&nbsp;&nbsp;</span>Save DataFrame to CSV file</a></span><ul class=\"toc-item\"><li><span><a href=\"#Save:-Describe-before-saving\" data-toc-modified-id=\"Save:-Describe-before-saving-9.1\"><span class=\"toc-item-num\">9.1&nbsp;&nbsp;</span>Save: Describe before saving</a></span></li><li><span><a href=\"#Write-as-CSV-file\" data-toc-modified-id=\"Write-as-CSV-file-9.2\"><span class=\"toc-item-num\">9.2&nbsp;&nbsp;</span>Write as CSV file</a></span></li></ul></li></ul></div>"
   ]
  },
  {
   "cell_type": "markdown",
   "metadata": {},
   "source": [
    "## Set Up"
   ]
  },
  {
   "cell_type": "code",
   "execution_count": 6,
   "metadata": {
    "ExecuteTime": {
     "end_time": "2020-12-04T07:25:23.141000-05:00",
     "start_time": "2020-12-04T12:25:23.080Z"
    }
   },
   "outputs": [
    {
     "name": "stdout",
     "output_type": "stream",
     "text": [
      "\n",
      "\n"
     ]
    }
   ],
   "source": [
    "dataset_file_name = \"united-states.housing-starts-mm.csv\"\n",
    "path_data_original = \"../Data/original/\"\n",
    "date_original_format = \"yyyy.mm.dd\"\n",
    "original_value_column = 3\n",
    "last_position_change = \"2020-09-30\"\n",
    "\n",
    "include(\"../Julia/functions.jl\") \n",
    "println()"
   ]
  },
  {
   "cell_type": "markdown",
   "metadata": {},
   "source": [
    "## Read Data"
   ]
  },
  {
   "cell_type": "code",
   "execution_count": 7,
   "metadata": {
    "ExecuteTime": {
     "end_time": "2020-12-04T07:25:24.265000-05:00",
     "start_time": "2020-12-04T12:25:24.245Z"
    }
   },
   "outputs": [
    {
     "name": "stdout",
     "output_type": "stream",
     "text": [
      "Fetched and sorted by date ../Data/original/united-states.housing-starts-mm.csv, record count 59\n",
      "\n"
     ]
    }
   ],
   "source": [
    "## show available datasets\n",
    "#data = available_datasets() # uncomment to see all available datasets\n",
    "\n",
    "# Read DataFrame from the CSV file.\n",
    "df = fetch_dataset(dataset_file_name, date_original_format , path_data_original )\n",
    "\n",
    "println()"
   ]
  },
  {
   "cell_type": "markdown",
   "metadata": {},
   "source": [
    "### Sample the data"
   ]
  },
  {
   "cell_type": "code",
   "execution_count": 9,
   "metadata": {
    "ExecuteTime": {
     "end_time": "2020-12-04T07:26:17.758000-05:00",
     "start_time": "2020-12-04T12:26:15.337Z"
    }
   },
   "outputs": [
    {
     "data": {
      "text/html": [
       "<table class=\"data-frame\"><thead><tr><th></th><th>variable</th><th>mean</th><th>min</th><th>median</th><th>max</th><th>nunique</th><th>nmissing</th><th>eltype</th></tr><tr><th></th><th>Symbol</th><th>Union…</th><th>Any</th><th>Union…</th><th>Any</th><th>Union…</th><th>Union…</th><th>Type</th></tr></thead><tbody><p>4 rows × 8 columns</p><tr><th>1</th><td>Date</td><td></td><td>2016-01-12</td><td></td><td>2020-11-18</td><td>59</td><td></td><td>Date</td></tr><tr><th>2</th><td>ActualValue</td><td>0.261017</td><td>-30.2</td><td>-0.3</td><td>25.5</td><td></td><td></td><td>Float64</td></tr><tr><th>3</th><td>ForecastValue</td><td>6.60698</td><td>-30.7</td><td>1.1</td><td>245.5</td><td></td><td>16</td><td>Union{Missing, Float64}</td></tr><tr><th>4</th><td>PreviousValue</td><td>0.406897</td><td>-26.4</td><td>-0.35</td><td>27.4</td><td></td><td>1</td><td>Union{Missing, Float64}</td></tr></tbody></table>"
      ],
      "text/latex": [
       "\\begin{tabular}{r|cccccccc}\n",
       "\t& variable & mean & min & median & max & nunique & nmissing & eltype\\\\\n",
       "\t\\hline\n",
       "\t& Symbol & Union… & Any & Union… & Any & Union… & Union… & Type\\\\\n",
       "\t\\hline\n",
       "\t1 & Date &  & 2016-01-12 &  & 2020-11-18 & 59 &  & Date \\\\\n",
       "\t2 & ActualValue & 0.261017 & -30.2 & -0.3 & 25.5 &  &  & Float64 \\\\\n",
       "\t3 & ForecastValue & 6.60698 & -30.7 & 1.1 & 245.5 &  & 16 & Union\\{Missing, Float64\\} \\\\\n",
       "\t4 & PreviousValue & 0.406897 & -26.4 & -0.35 & 27.4 &  & 1 & Union\\{Missing, Float64\\} \\\\\n",
       "\\end{tabular}\n"
      ],
      "text/plain": [
       "4×8 DataFrame. Omitted printing of 2 columns\n",
       "│ Row │ variable      │ mean     │ min        │ median │ max        │ nunique │\n",
       "│     │ \u001b[90mSymbol\u001b[39m        │ \u001b[90mUnion…\u001b[39m   │ \u001b[90mAny\u001b[39m        │ \u001b[90mUnion…\u001b[39m │ \u001b[90mAny\u001b[39m        │ \u001b[90mUnion…\u001b[39m  │\n",
       "├─────┼───────────────┼──────────┼────────────┼────────┼────────────┼─────────┤\n",
       "│ 1   │ Date          │          │ 2016-01-12 │        │ 2020-11-18 │ 59      │\n",
       "│ 2   │ ActualValue   │ 0.261017 │ -30.2      │ -0.3   │ 25.5       │         │\n",
       "│ 3   │ ForecastValue │ 6.60698  │ -30.7      │ 1.1    │ 245.5      │         │\n",
       "│ 4   │ PreviousValue │ 0.406897 │ -26.4      │ -0.35  │ 27.4       │         │"
      ]
     },
     "execution_count": 9,
     "metadata": {},
     "output_type": "execute_result"
    }
   ],
   "source": [
    "using Statistics\n",
    "describe(df)"
   ]
  },
  {
   "cell_type": "markdown",
   "metadata": {},
   "source": [
    "## Choose the KEY value column\n",
    "- look at the Plot below\n",
    "- go back to the top \"Setup\" section and choose which column should be the \"Orignal value\"\n",
    "- re-run the notebook"
   ]
  },
  {
   "cell_type": "markdown",
   "metadata": {},
   "source": [
    "### Draw Plots of Original Data"
   ]
  },
  {
   "cell_type": "code",
   "execution_count": 11,
   "metadata": {
    "ExecuteTime": {
     "end_time": "2020-12-04T07:26:58.038000-05:00",
     "start_time": "2020-12-04T12:26:53.708Z"
    }
   },
   "outputs": [
    {
     "name": "stdout",
     "output_type": "stream",
     "text": [
      "1 Date\n",
      "2 ActualValue\n",
      "3 ForecastValue\n",
      "4 PreviousValue\n"
     ]
    },
    {
     "ename": "UndefRefError",
     "evalue": "UndefRefError: access to undefined reference",
     "output_type": "error",
     "traceback": [
      "UndefRefError: access to undefined reference",
      "",
      "Stacktrace:",
      " [1] getindex at ./array.jl:788 [inlined]",
      " [2] _replace!(::RecipesPipeline.var\"#39#40\", ::Array{String,1}, ::Array{String,1}, ::Int64) at ./set.jl:629",
      " [3] #replace#254 at ./set.jl:575 [inlined]",
      " [4] replace at ./set.jl:575 [inlined]",
      " [5] _prepare_series_data at /Users/uki/.julia/packages/RecipesPipeline/tkFmN/src/series.jl:18 [inlined]",
      " [6] _series_data_vector(::Array{String,1}, ::Dict{Symbol,Any}) at /Users/uki/.julia/packages/RecipesPipeline/tkFmN/src/series.jl:33",
      " [7] macro expansion at /Users/uki/.julia/packages/RecipesPipeline/tkFmN/src/series.jl:138 [inlined]",
      " [8] apply_recipe(::AbstractDict{Symbol,Any}, ::Type{RecipesPipeline.SliceIt}, ::Any, ::Any, ::Any) at /Users/uki/.julia/packages/RecipesBase/92zOw/src/RecipesBase.jl:282",
      " [9] _process_userrecipes!(::Plots.Plot{Plots.GRBackend}, ::Dict{Symbol,Any}, ::Tuple{Array{String,1},Array{Array{Float64,1},1}}) at /Users/uki/.julia/packages/RecipesPipeline/tkFmN/src/user_recipe.jl:35",
      " [10] recipe_pipeline!(::Plots.Plot{Plots.GRBackend}, ::Dict{Symbol,Any}, ::Tuple{Array{String,1},Array{Array{Float64,1},1}}) at /Users/uki/.julia/packages/RecipesPipeline/tkFmN/src/RecipesPipeline.jl:69",
      " [11] _plot!(::Plots.Plot{Plots.GRBackend}, ::Dict{Symbol,Any}, ::Tuple{Array{String,1},Array{Array{Float64,1},1}}) at /Users/uki/.julia/packages/Plots/8GUYs/src/plot.jl:167",
      " [12] plot(::Array{String,1}, ::Vararg{Any,N} where N; kw::Base.Iterators.Pairs{Symbol,Any,NTuple{6,Symbol},NamedTuple{(:label, :legend, :xlabel, :ylabel, :size, :layout),Tuple{Array{Any,2},Symbol,String,String,Tuple{Int64,Int64},Tuple{Int64,Int64}}}}) at /Users/uki/.julia/packages/Plots/8GUYs/src/plot.jl:57",
      " [13] top-level scope at In[11]:9"
     ]
    }
   ],
   "source": [
    "using Plots\n",
    "\n",
    "columns = print_colunms(df)\n",
    "record_count = size(df)[1]\n",
    "rows = 1:record_count\n",
    "dates = format_dates( df[rows,2] , \"m/d/yy\")\n",
    "\n",
    "gr()\n",
    "plot(          dates, # x-axis: dates\n",
    "               [  df[rows,2]    ], # y-axis\n",
    "    label    = [  columns[2]   \"\" ]  ,\n",
    "    legend   =:topleft, \n",
    "              # :right, :left, :top, :bottom, :inside, :best, :legend, :topright, :topleft, :bottomleft, :bottomright\n",
    "    xlabel   = \"time\",\n",
    "    ylabel   = \"indicators\",\n",
    "    size     = (980, 400), # width, height\n",
    "    layout = (1, 1) # number of graphs: vertically, horizontally\n",
    "    )"
   ]
  },
  {
   "cell_type": "markdown",
   "metadata": {},
   "source": [
    "## Extract right columns"
   ]
  },
  {
   "cell_type": "code",
   "execution_count": null,
   "metadata": {
    "ExecuteTime": {
     "end_time": "2020-12-04T07:19:02.643000-05:00",
     "start_time": "2020-12-04T12:18:19.621Z"
    }
   },
   "outputs": [],
   "source": [
    "using DataFrames\n",
    "df = DataFrame( Day      = df[:,1],                     # 1 \n",
    "                Date     = df[:,2],                     # 2 \n",
    "                Value    = df[:,original_value_column], # 3 \n",
    "                Original = df[:,original_value_column]  # 4 \n",
    "               )\n",
    "\n",
    "columns = preview_data(df)\n",
    "println()"
   ]
  },
  {
   "cell_type": "markdown",
   "metadata": {},
   "source": [
    "## Rata Die"
   ]
  },
  {
   "cell_type": "code",
   "execution_count": null,
   "metadata": {
    "ExecuteTime": {
     "end_time": "2020-12-04T07:19:02.836000-05:00",
     "start_time": "2020-12-04T12:18:19.625Z"
    }
   },
   "outputs": [],
   "source": [
    "record_count = size(df)[1]\n",
    "col_ind = 1\n",
    "insertcols!(df, col_ind, :Rata_Die => zeros(Int64, record_count); makeunique = true )\n",
    "\n",
    "update_rata_die!(df, 1, 2)\n",
    "#first(df, 6)\n",
    "println(\"Inserted Rata Die\")"
   ]
  },
  {
   "cell_type": "markdown",
   "metadata": {},
   "source": [
    "## Quantize the values\n",
    "\n",
    "- Quantization is a process of noramalizing the data\n",
    "- I have decided to normalize the data for Int8 as I might try use Google Coral NPU\n",
    "- minimum = -128.0\n",
    "- maximum = 127.0"
   ]
  },
  {
   "cell_type": "code",
   "execution_count": null,
   "metadata": {
    "ExecuteTime": {
     "end_time": "2020-12-04T07:19:03.127000-05:00",
     "start_time": "2020-12-04T12:18:19.629Z"
    }
   },
   "outputs": [],
   "source": [
    "data_original = df[:, 4] # keep original for display comparison later\n",
    "\n",
    "quantize_column!(df, 3)\n",
    "\n",
    "columns = preview_data(df, 12)\n",
    "println()"
   ]
  },
  {
   "cell_type": "code",
   "execution_count": null,
   "metadata": {
    "ExecuteTime": {
     "end_time": "2020-12-04T07:19:20.680000-05:00",
     "start_time": "2020-12-04T12:18:19.632Z"
    }
   },
   "outputs": [],
   "source": [
    "using Plots\n",
    "\n",
    "count = size(df)[1]\n",
    "rows = 1:count\n",
    "dates = format_dates( df[rows,2] , \"m/d/yy\")\n",
    "\n",
    "gr()\n",
    "plot(          dates, # x-axis: dates\n",
    "               [  df[rows,original_value_column]    ], # y-axis\n",
    "    label    = [  columns[original_value_column] \"\"   ]  ,\n",
    "    legend   =:topleft, \n",
    "              # :right, :left, :top, :bottom, :inside, :best, :legend, :topright, :topleft, :bottomleft, :bottomright\n",
    "    xlabel   = \"time\",\n",
    "    ylabel   = \"indicators\",\n",
    "    size     = (980, 400), # width, height\n",
    "    layout = (1, 1) # number of graphs: vertically, horizontally\n",
    "    )"
   ]
  },
  {
   "cell_type": "markdown",
   "metadata": {},
   "source": [
    "## Fill in Empty Dates"
   ]
  },
  {
   "cell_type": "code",
   "execution_count": null,
   "metadata": {
    "ExecuteTime": {
     "end_time": "2020-12-04T07:19:21.452000-05:00",
     "start_time": "2020-12-04T12:18:19.635Z"
    }
   },
   "outputs": [],
   "source": [
    "populate_missing_dates!(df)"
   ]
  },
  {
   "cell_type": "markdown",
   "metadata": {},
   "source": [
    "### Fill: Sort"
   ]
  },
  {
   "cell_type": "code",
   "execution_count": null,
   "metadata": {
    "ExecuteTime": {
     "end_time": "2020-12-04T07:19:24.239000-05:00",
     "start_time": "2020-12-04T12:18:19.639Z"
    }
   },
   "outputs": [],
   "source": [
    "df = sort(df, [:Day]);\n",
    "count = size(df)[1]\n",
    "first(df, 8)\n",
    "# columns = preview_data(df)\n",
    "# println()"
   ]
  },
  {
   "cell_type": "markdown",
   "metadata": {},
   "source": [
    "### Fill: Draw Plots\n",
    "- if the indicator is updated only preiodically (bi-weekly, monthly, quarterly) the the graph will appear blocky"
   ]
  },
  {
   "cell_type": "code",
   "execution_count": null,
   "metadata": {
    "ExecuteTime": {
     "end_time": "2020-12-04T07:19:24.271000-05:00",
     "start_time": "2020-12-04T12:18:19.643Z"
    }
   },
   "outputs": [],
   "source": [
    "using Plots\n",
    "count = size(df)[1]\n",
    "rows = 1:count\n",
    "dates = format_dates( df[rows,2] , \"m/d/yy\")\n",
    "\n",
    "gr()\n",
    "plot(          dates, # x-axis: dates\n",
    "               [ df[rows,original_value_column]    ], # y-axis\n",
    "    label    = [ columns[original_value_column]  \"\"],\n",
    "    legend   =:topleft, \n",
    "              # :right, :left, :top, :bottom, :inside, :best, :legend, :topright, :topleft, :bottomleft, :bottomright\n",
    "    xlabel   = \"time\",\n",
    "    ylabel   = \"indicators\",\n",
    "    size     = (980, 400), # width, height\n",
    "    layout = (1, 1) # number of graphs: vertically, horizontally\n",
    "    )"
   ]
  },
  {
   "cell_type": "markdown",
   "metadata": {},
   "source": [
    "## Averages"
   ]
  },
  {
   "cell_type": "code",
   "execution_count": null,
   "metadata": {
    "ExecuteTime": {
     "end_time": "2020-12-04T07:19:24.317000-05:00",
     "start_time": "2020-12-04T12:18:19.647Z"
    }
   },
   "outputs": [],
   "source": [
    "column_to_average = 3\n",
    "averages005 = calculate_average(df, 5,   column_to_average )\n",
    "averages030 = calculate_average(df, 30,  column_to_average )\n",
    "averages090 = calculate_average(df, 90,  column_to_average )\n",
    "averages180 = calculate_average(df, 180, column_to_average )\n",
    "averages365 = calculate_average(df, 365, column_to_average )\n",
    "println()"
   ]
  },
  {
   "cell_type": "markdown",
   "metadata": {},
   "source": [
    "### Averages: Draw Plots"
   ]
  },
  {
   "cell_type": "code",
   "execution_count": null,
   "metadata": {
    "ExecuteTime": {
     "end_time": "2020-12-04T07:19:24.351000-05:00",
     "start_time": "2020-12-04T12:18:19.651Z"
    }
   },
   "outputs": [],
   "source": [
    "using Plots\n",
    "\n",
    "columns = names(df)\n",
    "count = size(df)[1]\n",
    "days_back = 365*1\n",
    "rows = 1:count # count-days_back:count\n",
    "dates = format_dates( df[rows,2] , \"m/d/yy\")\n",
    "\n",
    "gr()\n",
    "plot(          dates, # x-axis: dates\n",
    "               [ df[rows,3]      ], # y-axis\n",
    "    label    = [ columns[3]    \"\"],\n",
    "    legend   =:topleft, \n",
    "              # :right, :left, :top, :bottom, :inside, :best, :legend, :topright, :topleft, :bottomleft, :bottomright\n",
    "    xlabel   = \"time\",\n",
    "    ylabel   = \"indicators\",\n",
    "    size     = (980, 400), # width, height\n",
    "    layout = (1, 1) # number of graphs: vertically, horizontally\n",
    "    )"
   ]
  },
  {
   "cell_type": "markdown",
   "metadata": {},
   "source": [
    "### Insert averages to DataFrame\n",
    "\n",
    "- if the frequency of data is e.g. 30 days, averages below 30 days do not add value"
   ]
  },
  {
   "cell_type": "code",
   "execution_count": null,
   "metadata": {
    "ExecuteTime": {
     "end_time": "2020-12-04T07:19:25.293000-05:00",
     "start_time": "2020-12-04T12:18:19.656Z"
    }
   },
   "outputs": [],
   "source": [
    "#insertcols!(df, 5,  :Avg005   => averages005  , makeunique=true)\n",
    "#insertcols!(df, 6,  :Avg030   => averages030  , makeunique=true)\n",
    "insertcols!(df,  5,  :Avg090   => averages090  , makeunique=true)\n",
    "insertcols!(df,  6,  :Avg180   => averages180  , makeunique=true)\n",
    "insertcols!(df,  7,  :Avg365   => averages365  , makeunique=true)\n",
    "\n",
    "using Statistics\n",
    "describe(df)"
   ]
  },
  {
   "cell_type": "markdown",
   "metadata": {},
   "source": [
    "### Position: Draw Plots"
   ]
  },
  {
   "cell_type": "code",
   "execution_count": null,
   "metadata": {
    "ExecuteTime": {
     "end_time": "2020-12-04T07:19:25.417000-05:00",
     "start_time": "2020-12-04T12:18:19.660Z"
    }
   },
   "outputs": [],
   "source": [
    "using Plots\n",
    "count = size(df)[1]\n",
    "days_back = 365\n",
    "rows = 1:count\n",
    "dates = format_dates( df[rows,2] , \"m/d/yy\")\n",
    "\n",
    "gr()\n",
    "plot(   dates, # x-axis: dates\n",
    "        [  position_column df[rows,3] df[rows,5] df[rows,6] df[rows,7]   ], # y-axis\n",
    "    label    = \n",
    "        [ \"position\"       columns[3] columns[5] df[rows,6] df[rows,7] \"\"],\n",
    "    legend   =:topleft, \n",
    "              # :right, :left, :top, :bottom, :inside, :best, :legend, :topright, :topleft, :bottomleft, :bottomright\n",
    "    xlabel   = \"time\",\n",
    "    ylabel   = \"indicators\",\n",
    "    size     = (980, 400), # width, height\n",
    "    layout = (1, 1) # number of graphs: vertically, horizontally\n",
    "    )"
   ]
  },
  {
   "cell_type": "markdown",
   "metadata": {},
   "source": [
    "[back to top](#Table-of-Contents)\n",
    "<hr/>\n",
    "\n",
    "## Save DataFrame to CSV file"
   ]
  },
  {
   "cell_type": "markdown",
   "metadata": {},
   "source": [
    "### Save: Describe before saving"
   ]
  },
  {
   "cell_type": "code",
   "execution_count": null,
   "metadata": {
    "ExecuteTime": {
     "end_time": "2020-12-04T07:19:25.423000-05:00",
     "start_time": "2020-12-04T12:18:19.664Z"
    }
   },
   "outputs": [],
   "source": [
    "using Statistics\n",
    "describe(df)"
   ]
  },
  {
   "cell_type": "markdown",
   "metadata": {},
   "source": [
    "### Write as CSV file"
   ]
  },
  {
   "cell_type": "code",
   "execution_count": null,
   "metadata": {
    "ExecuteTime": {
     "end_time": "2020-12-04T07:19:26.820000-05:00",
     "start_time": "2020-12-04T12:18:19.666Z"
    }
   },
   "outputs": [],
   "source": [
    "save_dataset(df, dataset_file_name, \"../Data/processed/\" );\n",
    "println(\"US_Housing_Starts_mm finished and saved to \", dataset_file_name)"
   ]
  },
  {
   "cell_type": "code",
   "execution_count": null,
   "metadata": {},
   "outputs": [],
   "source": []
  }
 ],
 "metadata": {
  "kernelspec": {
   "display_name": "Julia 1.4.2",
   "language": "julia",
   "name": "julia-1.4"
  },
  "language_info": {
   "file_extension": ".jl",
   "mimetype": "application/julia",
   "name": "julia",
   "version": "1.4.2"
  },
  "toc": {
   "base_numbering": 1,
   "nav_menu": {},
   "number_sections": true,
   "sideBar": true,
   "skip_h1_title": true,
   "title_cell": "Table of Contents",
   "title_sidebar": "Contents",
   "toc_cell": true,
   "toc_position": {},
   "toc_section_display": true,
   "toc_window_display": true
  },
  "varInspector": {
   "cols": {
    "lenName": 16,
    "lenType": 16,
    "lenVar": 40
   },
   "kernels_config": {
    "python": {
     "delete_cmd_postfix": "",
     "delete_cmd_prefix": "del ",
     "library": "var_list.py",
     "varRefreshCmd": "print(var_dic_list())"
    },
    "r": {
     "delete_cmd_postfix": ") ",
     "delete_cmd_prefix": "rm(",
     "library": "var_list.r",
     "varRefreshCmd": "cat(var_dic_list()) "
    }
   },
   "types_to_exclude": [
    "module",
    "function",
    "builtin_function_or_method",
    "instance",
    "_Feature"
   ],
   "window_display": false
  }
 },
 "nbformat": 4,
 "nbformat_minor": 4
}
