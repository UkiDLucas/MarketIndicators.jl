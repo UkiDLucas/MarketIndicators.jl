{
 "cells": [
  {
   "cell_type": "markdown",
   "metadata": {},
   "source": [
    "# NIO"
   ]
  },
  {
   "cell_type": "code",
   "execution_count": null,
   "metadata": {},
   "outputs": [],
   "source": []
  },
  {
   "cell_type": "markdown",
   "metadata": {
    "toc": true
   },
   "source": [
    "<h1>Table of Contents<span class=\"tocSkip\"></span></h1>\n",
    "<div class=\"toc\"><ul class=\"toc-item\"><li><span><a href=\"#NIO\" data-toc-modified-id=\"NIO-1\"><span class=\"toc-item-num\">1&nbsp;&nbsp;</span>NIO</a></span><ul class=\"toc-item\"><li><span><a href=\"#Set-Up\" data-toc-modified-id=\"Set-Up-1.1\"><span class=\"toc-item-num\">1.1&nbsp;&nbsp;</span>Set Up</a></span></li><li><span><a href=\"#Read-Data\" data-toc-modified-id=\"Read-Data-1.2\"><span class=\"toc-item-num\">1.2&nbsp;&nbsp;</span>Read Data</a></span><ul class=\"toc-item\"><li><span><a href=\"#Sample-the-data\" data-toc-modified-id=\"Sample-the-data-1.2.1\"><span class=\"toc-item-num\">1.2.1&nbsp;&nbsp;</span>Sample the data</a></span></li></ul></li><li><span><a href=\"#Rata-Die\" data-toc-modified-id=\"Rata-Die-1.3\"><span class=\"toc-item-num\">1.3&nbsp;&nbsp;</span>Rata Die</a></span><ul class=\"toc-item\"><li><span><a href=\"#Draw-Plots\" data-toc-modified-id=\"Draw-Plots-1.3.1\"><span class=\"toc-item-num\">1.3.1&nbsp;&nbsp;</span>Draw Plots</a></span></li><li><span><a href=\"#set-the-original-value-column\" data-toc-modified-id=\"set-the-original-value-column-1.3.2\"><span class=\"toc-item-num\">1.3.2&nbsp;&nbsp;</span>set the original value column</a></span></li></ul></li><li><span><a href=\"#Extract-right-columns\" data-toc-modified-id=\"Extract-right-columns-1.4\"><span class=\"toc-item-num\">1.4&nbsp;&nbsp;</span>Extract right columns</a></span></li><li><span><a href=\"#Quantize-the-values\" data-toc-modified-id=\"Quantize-the-values-1.5\"><span class=\"toc-item-num\">1.5&nbsp;&nbsp;</span>Quantize the values</a></span></li><li><span><a href=\"#Fill-in-Empty-Dates\" data-toc-modified-id=\"Fill-in-Empty-Dates-1.6\"><span class=\"toc-item-num\">1.6&nbsp;&nbsp;</span>Fill in Empty Dates</a></span><ul class=\"toc-item\"><li><span><a href=\"#Fill:-Sort\" data-toc-modified-id=\"Fill:-Sort-1.6.1\"><span class=\"toc-item-num\">1.6.1&nbsp;&nbsp;</span>Fill: Sort</a></span></li><li><span><a href=\"#Fill:-Draw-Plots\" data-toc-modified-id=\"Fill:-Draw-Plots-1.6.2\"><span class=\"toc-item-num\">1.6.2&nbsp;&nbsp;</span>Fill: Draw Plots</a></span></li></ul></li><li><span><a href=\"#Averages\" data-toc-modified-id=\"Averages-1.7\"><span class=\"toc-item-num\">1.7&nbsp;&nbsp;</span>Averages</a></span><ul class=\"toc-item\"><li><span><a href=\"#Averages:-Draw-Plots\" data-toc-modified-id=\"Averages:-Draw-Plots-1.7.1\"><span class=\"toc-item-num\">1.7.1&nbsp;&nbsp;</span>Averages: Draw Plots</a></span></li><li><span><a href=\"#Insert-averages-to-DataFrame\" data-toc-modified-id=\"Insert-averages-to-DataFrame-1.7.2\"><span class=\"toc-item-num\">1.7.2&nbsp;&nbsp;</span>Insert averages to DataFrame</a></span></li></ul></li><li><span><a href=\"#Position-on-given-Date\" data-toc-modified-id=\"Position-on-given-Date-1.8\"><span class=\"toc-item-num\">1.8&nbsp;&nbsp;</span>Position on given Date</a></span><ul class=\"toc-item\"><li><span><a href=\"#Position:-Draw-Plots\" data-toc-modified-id=\"Position:-Draw-Plots-1.8.1\"><span class=\"toc-item-num\">1.8.1&nbsp;&nbsp;</span>Position: Draw Plots</a></span></li></ul></li><li><span><a href=\"#Save-DataFrame-to-CSV-file\" data-toc-modified-id=\"Save-DataFrame-to-CSV-file-1.9\"><span class=\"toc-item-num\">1.9&nbsp;&nbsp;</span>Save DataFrame to CSV file</a></span><ul class=\"toc-item\"><li><span><a href=\"#Save:-Describe-before-saving\" data-toc-modified-id=\"Save:-Describe-before-saving-1.9.1\"><span class=\"toc-item-num\">1.9.1&nbsp;&nbsp;</span>Save: Describe before saving</a></span></li><li><span><a href=\"#Write-as-CSV-file\" data-toc-modified-id=\"Write-as-CSV-file-1.9.2\"><span class=\"toc-item-num\">1.9.2&nbsp;&nbsp;</span>Write as CSV file</a></span></li></ul></li></ul></li></ul></div>"
   ]
  },
  {
   "cell_type": "markdown",
   "metadata": {},
   "source": [
    "## Set Up"
   ]
  },
  {
   "cell_type": "code",
   "execution_count": 6,
   "metadata": {
    "ExecuteTime": {
     "end_time": "2020-11-30T20:02:42.538000-05:00",
     "start_time": "2020-12-01T01:02:41.289Z"
    }
   },
   "outputs": [
    {
     "name": "stdout",
     "output_type": "stream",
     "text": [
      "\n",
      "Run this file from the directory where this file is located.\n"
     ]
    },
    {
     "data": {
      "text/plain": [
       "\"/Users/uki/REPOS/MarketIndicators.jl/src/notebooks_indicators\""
      ]
     },
     "execution_count": 6,
     "metadata": {},
     "output_type": "execute_result"
    }
   ],
   "source": [
    "dataset_file_name = \"NIO.csv\"\n",
    "path_data_original = \"../Data/original/\"\n",
    "date_original_format = \"yyyy-mm-dd\"\n",
    "original_value_column = 3 # High\n",
    "last_position_change = \"2020-09-30\"\n",
    "\n",
    "#include(\"../Julia/MarketIndicators.jl\") \n",
    "include(\"../Julia/functions.jl\")\n",
    "\n",
    "println(\"Run this file from the directory where this file is located.\")\n",
    "pwd()"
   ]
  },
  {
   "cell_type": "markdown",
   "metadata": {},
   "source": [
    "## Read Data"
   ]
  },
  {
   "cell_type": "code",
   "execution_count": 2,
   "metadata": {
    "ExecuteTime": {
     "end_time": "2020-11-30T19:58:27.219000-05:00",
     "start_time": "2020-12-01T00:58:14.902Z"
    }
   },
   "outputs": [
    {
     "name": "stdout",
     "output_type": "stream",
     "text": [
      "../Data/original/NIO.csv\n",
      "data dimentions: (559, 7)\n"
     ]
    }
   ],
   "source": [
    "#data = available_datasets() # uncomment to see all available datasets\n",
    "\n",
    "df = fetch_dataset(dataset_file_name, date_original_format , path_data_original )\n",
    "record_count = size(df)[1]\n",
    "println(\"data dimentions: \", size(df) )\n",
    "\n",
    "#using Statistics\n",
    "#describe(df)"
   ]
  },
  {
   "cell_type": "markdown",
   "metadata": {},
   "source": [
    "### Sample the data"
   ]
  },
  {
   "cell_type": "code",
   "execution_count": 3,
   "metadata": {
    "ExecuteTime": {
     "end_time": "2020-11-30T19:58:39.446000-05:00",
     "start_time": "2020-12-01T00:58:38.082Z"
    }
   },
   "outputs": [
    {
     "name": "stdout",
     "output_type": "stream",
     "text": [
      "7×7 DataFrame\n",
      "│ Row │ Date       │ Open    │ High    │ Low     │ Close   │ Adj Close │\n",
      "│     │ \u001b[90mDate\u001b[39m       │ \u001b[90mFloat64\u001b[39m │ \u001b[90mFloat64\u001b[39m │ \u001b[90mFloat64\u001b[39m │ \u001b[90mFloat64\u001b[39m │ \u001b[90mFloat64\u001b[39m   │\n",
      "├─────┼────────────┼─────────┼─────────┼─────────┼─────────┼───────────┤\n",
      "│ 1   │ 2018-09-12 │ 6.0     │ 6.93    │ 5.35    │ 6.6     │ 6.6       │\n",
      "│ 2   │ 2019-01-28 │ 6.56    │ 6.68    │ 6.48    │ 6.67    │ 6.67      │\n",
      "│ 3   │ 2019-06-11 │ 2.67    │ 2.67    │ 2.55    │ 2.61    │ 2.61      │\n",
      "│ 4   │ 2019-10-22 │ 1.7     │ 1.77    │ 1.52    │ 1.58    │ 1.58      │\n",
      "│ 5   │ 2020-03-06 │ 3.62    │ 3.66    │ 3.42    │ 3.55    │ 3.55      │\n",
      "│ 6   │ 2020-07-20 │ 11.42   │ 12.84   │ 11.38   │ 12.82   │ 12.82     │\n",
      "│ 7   │ 2020-11-30 │ 54.21   │ 54.39   │ 48.18   │ 50.53   │ 50.53     │\n",
      "\n",
      "│ Row │ Volume    │\n",
      "│     │ \u001b[90mInt64\u001b[39m     │\n",
      "├─────┼───────────┤\n",
      "│ 1   │ 66849000  │\n",
      "│ 2   │ 5111000   │\n",
      "│ 3   │ 33070100  │\n",
      "│ 4   │ 38944000  │\n",
      "│ 5   │ 61238100  │\n",
      "│ 6   │ 155428100 │\n",
      "│ 7   │ 175607071 │\n",
      " Dataset dimentions: (559, 7)\n",
      "\n",
      " variable columns:\n",
      "1 Date\n",
      "2 Open\n",
      "3 High\n",
      "4 Low\n",
      "5 Close\n",
      "6 Adj Close\n",
      "7 Volume\n",
      "\n"
     ]
    }
   ],
   "source": [
    "columns = preview_data(df) # uncomment to see the data\n",
    "println()"
   ]
  },
  {
   "cell_type": "markdown",
   "metadata": {},
   "source": [
    "## Rata Die"
   ]
  },
  {
   "cell_type": "code",
   "execution_count": 4,
   "metadata": {
    "ExecuteTime": {
     "end_time": "2020-11-30T19:59:40.526000-05:00",
     "start_time": "2020-12-01T00:59:40.365Z"
    }
   },
   "outputs": [
    {
     "name": "stdout",
     "output_type": "stream",
     "text": [
      "\n"
     ]
    }
   ],
   "source": [
    "col_ind = 1\n",
    "insertcols!(df, col_ind, :Rata_Die => zeros(Int64, record_count); makeunique = true )\n",
    "\n",
    "update_rata_die!(df, 1, 2)\n",
    "#first(df, 6)\n",
    "\n",
    "#columns = preview_data(df, 3)\n",
    "println()"
   ]
  },
  {
   "cell_type": "markdown",
   "metadata": {},
   "source": [
    "### Draw Plots"
   ]
  },
  {
   "cell_type": "raw",
   "metadata": {
    "ExecuteTime": {
     "end_time": "2020-11-30T20:03:16.793000-05:00",
     "start_time": "2020-12-01T01:03:16.746Z"
    }
   },
   "source": [
    "# Comment out once done reviewing\n",
    "\n",
    "using Plots\n",
    "\n",
    "record_count = size(df)[1]\n",
    "rows = 1:record_count\n",
    "dates = format_dates( df[rows,2] , \"m/d/yy\")\n",
    "\n",
    "gr()\n",
    "plot(          dates, # x-axis: dates\n",
    "               [  df[rows, original_value_column]    ], # y-axis\n",
    "    label    = [  columns[ original_value_column]   \"\" ]  ,\n",
    "    legend   =:topleft, \n",
    "              # :right, :left, :top, :bottom, :inside, :best, :legend, :topright, :topleft, :bottomleft, :bottomright\n",
    "    xlabel   = \"time\",\n",
    "    ylabel   = \"indicators\",\n",
    "    size     = (980, 400), # width, height\n",
    "    layout = (1, 1) # number of graphs: vertically, horizontally\n",
    "    )"
   ]
  },
  {
   "cell_type": "markdown",
   "metadata": {},
   "source": [
    "### set the original value column\n",
    "- go back to the top \"Setup\" section and choose which column should be the \"Orignal value\"\n",
    "- re-run the notebook"
   ]
  },
  {
   "cell_type": "markdown",
   "metadata": {},
   "source": [
    "## Extract right columns"
   ]
  },
  {
   "cell_type": "code",
   "execution_count": 10,
   "metadata": {
    "ExecuteTime": {
     "end_time": "2020-11-30T20:03:57.400000-05:00",
     "start_time": "2020-12-01T01:03:57.385Z"
    }
   },
   "outputs": [
    {
     "name": "stdout",
     "output_type": "stream",
     "text": [
      "7×4 DataFrame\n",
      "│ Row │ Day    │ Date       │ Value   │ Original │\n",
      "│     │ \u001b[90mInt64\u001b[39m  │ \u001b[90mDate\u001b[39m       │ \u001b[90mFloat64\u001b[39m │ \u001b[90mFloat64\u001b[39m  │\n",
      "├─────┼────────┼────────────┼─────────┼──────────┤\n",
      "│ 1   │ 736949 │ 2018-09-12 │ 6.0     │ 6.0      │\n",
      "│ 2   │ 737087 │ 2019-01-28 │ 6.56    │ 6.56     │\n",
      "│ 3   │ 737221 │ 2019-06-11 │ 2.67    │ 2.67     │\n",
      "│ 4   │ 737354 │ 2019-10-22 │ 1.7     │ 1.7      │\n",
      "│ 5   │ 737490 │ 2020-03-06 │ 3.62    │ 3.62     │\n",
      "│ 6   │ 737626 │ 2020-07-20 │ 11.42   │ 11.42    │\n",
      "│ 7   │ 737759 │ 2020-11-30 │ 54.21   │ 54.21    │\n",
      " Dataset dimentions: (559, 4)\n",
      "\n",
      " variable columns:\n",
      "1 Day\n",
      "2 Date\n",
      "3 Value\n",
      "4 Original\n",
      "\n"
     ]
    }
   ],
   "source": [
    "# Extract only the columns to be kept\n",
    "\n",
    "using DataFrames\n",
    "df = DataFrame( Day      = df[:,1],                     # 1 \n",
    "                Date     = df[:,2],                     # 2 \n",
    "                Value    = df[:,original_value_column], # 3 \n",
    "                Original = df[:,original_value_column]  # 4 \n",
    "               )\n",
    "\n",
    "columns = preview_data(df)\n",
    "println()"
   ]
  },
  {
   "cell_type": "markdown",
   "metadata": {},
   "source": [
    "## Quantize the values\n",
    "\n",
    "- Quantization is a process of noramalizing the data\n",
    "- I have decided to normalize the data for Int8 as I might try use Google Coral NPU\n",
    "- minimum = -128.0\n",
    "- maximum = 127.0"
   ]
  },
  {
   "cell_type": "code",
   "execution_count": 11,
   "metadata": {
    "ExecuteTime": {
     "end_time": "2020-11-30T20:04:21.592000-05:00",
     "start_time": "2020-12-01T01:04:21.411Z"
    }
   },
   "outputs": [
    {
     "name": "stdout",
     "output_type": "stream",
     "text": [
      "bias for 0 value: -0.02132616411017333\n",
      "Normalization was performend using formula y=(((x-min)/(max-min))*255)-128 \n",
      "minimum = 1.19\n",
      "maximum = 56.990002\n",
      "Save these values for later to run model preditions\n",
      "7×4 DataFrame\n",
      "│ Row │ Day    │ Date       │ Value   │ Original │\n",
      "│     │ \u001b[90mInt64\u001b[39m  │ \u001b[90mDate\u001b[39m       │ \u001b[90mFloat64\u001b[39m │ \u001b[90mFloat64\u001b[39m  │\n",
      "├─────┼────────┼────────────┼─────────┼──────────┤\n",
      "│ 1   │ 736949 │ 2018-09-12 │ -106.0  │ 6.0      │\n",
      "│ 2   │ 737087 │ 2019-01-28 │ -103.0  │ 6.56     │\n",
      "│ 3   │ 737221 │ 2019-06-11 │ -121.0  │ 2.67     │\n",
      "│ 4   │ 737354 │ 2019-10-22 │ -126.0  │ 1.7      │\n",
      "│ 5   │ 737490 │ 2020-03-06 │ -117.0  │ 3.62     │\n",
      "│ 6   │ 737626 │ 2020-07-20 │ -81.0   │ 11.42    │\n",
      "│ 7   │ 737759 │ 2020-11-30 │ 114.0   │ 54.21    │\n",
      " Dataset dimentions: (559, 4)\n",
      "\n",
      " variable columns:\n",
      "1 Day\n",
      "2 Date\n",
      "3 Value\n",
      "4 Original\n",
      "\n"
     ]
    }
   ],
   "source": [
    "# Quantize the values\n",
    "\n",
    "data_original = df[:, 4] # keep original for display comparison later\n",
    "\n",
    "quantize_column!(df, 3)\n",
    "\n",
    "columns = preview_data(df)\n",
    "println()"
   ]
  },
  {
   "cell_type": "code",
   "execution_count": 12,
   "metadata": {
    "ExecuteTime": {
     "end_time": "2020-11-30T20:05:09.174000-05:00",
     "start_time": "2020-12-01T01:05:09.103Z"
    }
   },
   "outputs": [
    {
     "data": {
      "image/svg+xml": [
       "<?xml version=\"1.0\" encoding=\"utf-8\"?>\n",
       "<svg xmlns=\"http://www.w3.org/2000/svg\" xmlns:xlink=\"http://www.w3.org/1999/xlink\" width=\"980\" height=\"400\" viewBox=\"0 0 3920 1600\">\n",
       "<defs>\n",
       "  <clipPath id=\"clip8900\">\n",
       "    <rect x=\"0\" y=\"0\" width=\"3920\" height=\"1600\"/>\n",
       "  </clipPath>\n",
       "</defs>\n",
       "<path clip-path=\"url(#clip8900)\" d=\"\n",
       "M0 1600 L3920 1600 L3920 0 L0 0  Z\n",
       "  \" fill=\"#ffffff\" fill-rule=\"evenodd\" fill-opacity=\"1\"/>\n",
       "<defs>\n",
       "  <clipPath id=\"clip8901\">\n",
       "    <rect x=\"784\" y=\"0\" width=\"2745\" height=\"1600\"/>\n",
       "  </clipPath>\n",
       "</defs>\n",
       "<path clip-path=\"url(#clip8900)\" d=\"\n",
       "M239.325 1455.01 L3872.76 1455.01 L3872.76 47.2441 L239.325 47.2441  Z\n",
       "  \" fill=\"#ffffff\" fill-rule=\"evenodd\" fill-opacity=\"1\"/>\n",
       "<defs>\n",
       "  <clipPath id=\"clip8902\">\n",
       "    <rect x=\"239\" y=\"47\" width=\"3634\" height=\"1409\"/>\n",
       "  </clipPath>\n",
       "</defs>\n",
       "<polyline clip-path=\"url(#clip8902)\" style=\"stroke:#000000; stroke-width:2; stroke-opacity:0.1; fill:none\" points=\"\n",
       "  342.158,1455.01 342.158,47.2441 \n",
       "  \"/>\n",
       "<polyline clip-path=\"url(#clip8902)\" style=\"stroke:#000000; stroke-width:2; stroke-opacity:0.1; fill:none\" points=\"\n",
       "  587.876,1455.01 587.876,47.2441 \n",
       "  \"/>\n",
       "<polyline clip-path=\"url(#clip8902)\" style=\"stroke:#000000; stroke-width:2; stroke-opacity:0.1; fill:none\" points=\"\n",
       "  833.594,1455.01 833.594,47.2441 \n",
       "  \"/>\n",
       "<polyline clip-path=\"url(#clip8902)\" style=\"stroke:#000000; stroke-width:2; stroke-opacity:0.1; fill:none\" points=\"\n",
       "  1079.31,1455.01 1079.31,47.2441 \n",
       "  \"/>\n",
       "<polyline clip-path=\"url(#clip8902)\" style=\"stroke:#000000; stroke-width:2; stroke-opacity:0.1; fill:none\" points=\"\n",
       "  1318.89,1455.01 1318.89,47.2441 \n",
       "  \"/>\n",
       "<polyline clip-path=\"url(#clip8902)\" style=\"stroke:#000000; stroke-width:2; stroke-opacity:0.1; fill:none\" points=\"\n",
       "  1564.6,1455.01 1564.6,47.2441 \n",
       "  \"/>\n",
       "<polyline clip-path=\"url(#clip8902)\" style=\"stroke:#000000; stroke-width:2; stroke-opacity:0.1; fill:none\" points=\"\n",
       "  1810.32,1455.01 1810.32,47.2441 \n",
       "  \"/>\n",
       "<polyline clip-path=\"url(#clip8902)\" style=\"stroke:#000000; stroke-width:2; stroke-opacity:0.1; fill:none\" points=\"\n",
       "  2056.04,1455.01 2056.04,47.2441 \n",
       "  \"/>\n",
       "<polyline clip-path=\"url(#clip8902)\" style=\"stroke:#000000; stroke-width:2; stroke-opacity:0.1; fill:none\" points=\"\n",
       "  2301.76,1455.01 2301.76,47.2441 \n",
       "  \"/>\n",
       "<polyline clip-path=\"url(#clip8902)\" style=\"stroke:#000000; stroke-width:2; stroke-opacity:0.1; fill:none\" points=\"\n",
       "  2547.48,1455.01 2547.48,47.2441 \n",
       "  \"/>\n",
       "<polyline clip-path=\"url(#clip8902)\" style=\"stroke:#000000; stroke-width:2; stroke-opacity:0.1; fill:none\" points=\"\n",
       "  2793.19,1455.01 2793.19,47.2441 \n",
       "  \"/>\n",
       "<polyline clip-path=\"url(#clip8902)\" style=\"stroke:#000000; stroke-width:2; stroke-opacity:0.1; fill:none\" points=\"\n",
       "  3032.77,1455.01 3032.77,47.2441 \n",
       "  \"/>\n",
       "<polyline clip-path=\"url(#clip8902)\" style=\"stroke:#000000; stroke-width:2; stroke-opacity:0.1; fill:none\" points=\"\n",
       "  3278.49,1455.01 3278.49,47.2441 \n",
       "  \"/>\n",
       "<polyline clip-path=\"url(#clip8902)\" style=\"stroke:#000000; stroke-width:2; stroke-opacity:0.1; fill:none\" points=\"\n",
       "  3524.21,1455.01 3524.21,47.2441 \n",
       "  \"/>\n",
       "<polyline clip-path=\"url(#clip8902)\" style=\"stroke:#000000; stroke-width:2; stroke-opacity:0.1; fill:none\" points=\"\n",
       "  3769.92,1455.01 3769.92,47.2441 \n",
       "  \"/>\n",
       "<polyline clip-path=\"url(#clip8902)\" style=\"stroke:#000000; stroke-width:2; stroke-opacity:0.1; fill:none\" points=\"\n",
       "  239.325,1269.34 3872.76,1269.34 \n",
       "  \"/>\n",
       "<polyline clip-path=\"url(#clip8902)\" style=\"stroke:#000000; stroke-width:2; stroke-opacity:0.1; fill:none\" points=\"\n",
       "  239.325,1008.93 3872.76,1008.93 \n",
       "  \"/>\n",
       "<polyline clip-path=\"url(#clip8902)\" style=\"stroke:#000000; stroke-width:2; stroke-opacity:0.1; fill:none\" points=\"\n",
       "  239.325,748.521 3872.76,748.521 \n",
       "  \"/>\n",
       "<polyline clip-path=\"url(#clip8902)\" style=\"stroke:#000000; stroke-width:2; stroke-opacity:0.1; fill:none\" points=\"\n",
       "  239.325,488.114 3872.76,488.114 \n",
       "  \"/>\n",
       "<polyline clip-path=\"url(#clip8902)\" style=\"stroke:#000000; stroke-width:2; stroke-opacity:0.1; fill:none\" points=\"\n",
       "  239.325,227.706 3872.76,227.706 \n",
       "  \"/>\n",
       "<polyline clip-path=\"url(#clip8900)\" style=\"stroke:#000000; stroke-width:4; stroke-opacity:1; fill:none\" points=\"\n",
       "  239.325,1455.01 3872.76,1455.01 \n",
       "  \"/>\n",
       "<polyline clip-path=\"url(#clip8900)\" style=\"stroke:#000000; stroke-width:4; stroke-opacity:1; fill:none\" points=\"\n",
       "  239.325,1455.01 239.325,47.2441 \n",
       "  \"/>\n",
       "<polyline clip-path=\"url(#clip8900)\" style=\"stroke:#000000; stroke-width:4; stroke-opacity:1; fill:none\" points=\"\n",
       "  342.158,1455.01 342.158,1438.11 \n",
       "  \"/>\n",
       "<polyline clip-path=\"url(#clip8900)\" style=\"stroke:#000000; stroke-width:4; stroke-opacity:1; fill:none\" points=\"\n",
       "  587.876,1455.01 587.876,1438.11 \n",
       "  \"/>\n",
       "<polyline clip-path=\"url(#clip8900)\" style=\"stroke:#000000; stroke-width:4; stroke-opacity:1; fill:none\" points=\"\n",
       "  833.594,1455.01 833.594,1438.11 \n",
       "  \"/>\n",
       "<polyline clip-path=\"url(#clip8900)\" style=\"stroke:#000000; stroke-width:4; stroke-opacity:1; fill:none\" points=\"\n",
       "  1079.31,1455.01 1079.31,1438.11 \n",
       "  \"/>\n",
       "<polyline clip-path=\"url(#clip8900)\" style=\"stroke:#000000; stroke-width:4; stroke-opacity:1; fill:none\" points=\"\n",
       "  1318.89,1455.01 1318.89,1438.11 \n",
       "  \"/>\n",
       "<polyline clip-path=\"url(#clip8900)\" style=\"stroke:#000000; stroke-width:4; stroke-opacity:1; fill:none\" points=\"\n",
       "  1564.6,1455.01 1564.6,1438.11 \n",
       "  \"/>\n",
       "<polyline clip-path=\"url(#clip8900)\" style=\"stroke:#000000; stroke-width:4; stroke-opacity:1; fill:none\" points=\"\n",
       "  1810.32,1455.01 1810.32,1438.11 \n",
       "  \"/>\n",
       "<polyline clip-path=\"url(#clip8900)\" style=\"stroke:#000000; stroke-width:4; stroke-opacity:1; fill:none\" points=\"\n",
       "  2056.04,1455.01 2056.04,1438.11 \n",
       "  \"/>\n",
       "<polyline clip-path=\"url(#clip8900)\" style=\"stroke:#000000; stroke-width:4; stroke-opacity:1; fill:none\" points=\"\n",
       "  2301.76,1455.01 2301.76,1438.11 \n",
       "  \"/>\n",
       "<polyline clip-path=\"url(#clip8900)\" style=\"stroke:#000000; stroke-width:4; stroke-opacity:1; fill:none\" points=\"\n",
       "  2547.48,1455.01 2547.48,1438.11 \n",
       "  \"/>\n",
       "<polyline clip-path=\"url(#clip8900)\" style=\"stroke:#000000; stroke-width:4; stroke-opacity:1; fill:none\" points=\"\n",
       "  2793.19,1455.01 2793.19,1438.11 \n",
       "  \"/>\n",
       "<polyline clip-path=\"url(#clip8900)\" style=\"stroke:#000000; stroke-width:4; stroke-opacity:1; fill:none\" points=\"\n",
       "  3032.77,1455.01 3032.77,1438.11 \n",
       "  \"/>\n",
       "<polyline clip-path=\"url(#clip8900)\" style=\"stroke:#000000; stroke-width:4; stroke-opacity:1; fill:none\" points=\"\n",
       "  3278.49,1455.01 3278.49,1438.11 \n",
       "  \"/>\n",
       "<polyline clip-path=\"url(#clip8900)\" style=\"stroke:#000000; stroke-width:4; stroke-opacity:1; fill:none\" points=\"\n",
       "  3524.21,1455.01 3524.21,1438.11 \n",
       "  \"/>\n",
       "<polyline clip-path=\"url(#clip8900)\" style=\"stroke:#000000; stroke-width:4; stroke-opacity:1; fill:none\" points=\"\n",
       "  3769.92,1455.01 3769.92,1438.11 \n",
       "  \"/>\n",
       "<polyline clip-path=\"url(#clip8900)\" style=\"stroke:#000000; stroke-width:4; stroke-opacity:1; fill:none\" points=\"\n",
       "  239.325,1269.34 282.926,1269.34 \n",
       "  \"/>\n",
       "<polyline clip-path=\"url(#clip8900)\" style=\"stroke:#000000; stroke-width:4; stroke-opacity:1; fill:none\" points=\"\n",
       "  239.325,1008.93 282.926,1008.93 \n",
       "  \"/>\n",
       "<polyline clip-path=\"url(#clip8900)\" style=\"stroke:#000000; stroke-width:4; stroke-opacity:1; fill:none\" points=\"\n",
       "  239.325,748.521 282.926,748.521 \n",
       "  \"/>\n",
       "<polyline clip-path=\"url(#clip8900)\" style=\"stroke:#000000; stroke-width:4; stroke-opacity:1; fill:none\" points=\"\n",
       "  239.325,488.114 282.926,488.114 \n",
       "  \"/>\n",
       "<polyline clip-path=\"url(#clip8900)\" style=\"stroke:#000000; stroke-width:4; stroke-opacity:1; fill:none\" points=\"\n",
       "  239.325,227.706 282.926,227.706 \n",
       "  \"/>\n",
       "<path clip-path=\"url(#clip8900)\" d=\"M 0 0 M264.531 1515.36 L264.531 1511.1 Q266.291 1511.94 268.096 1512.38 Q269.902 1512.81 271.638 1512.81 Q276.267 1512.81 278.698 1509.71 Q281.152 1506.59 281.499 1500.25 Q280.156 1502.24 278.096 1503.3 Q276.036 1504.37 273.536 1504.37 Q268.351 1504.37 265.318 1501.24 Q262.309 1498.09 262.309 1492.65 Q262.309 1487.33 265.457 1484.11 Q268.605 1480.89 273.837 1480.89 Q279.832 1480.89 282.98 1485.5 Q286.152 1490.08 286.152 1498.83 Q286.152 1507 282.263 1511.89 Q278.397 1516.75 271.846 1516.75 Q270.087 1516.75 268.281 1516.4 Q266.476 1516.06 264.531 1515.36 M273.837 1500.71 Q276.985 1500.71 278.814 1498.56 Q280.665 1496.4 280.665 1492.65 Q280.665 1488.93 278.814 1486.77 Q276.985 1484.6 273.837 1484.6 Q270.689 1484.6 268.837 1486.77 Q267.008 1488.93 267.008 1492.65 Q267.008 1496.4 268.837 1498.56 Q270.689 1500.71 273.837 1500.71 Z\" fill=\"#000000\" fill-rule=\"evenodd\" fill-opacity=\"1\" /><path clip-path=\"url(#clip8900)\" d=\"M 0 0 M298.188 1481.52 L302.124 1481.52 L290.087 1520.48 L286.152 1520.48 L298.188 1481.52 Z\" fill=\"#000000\" fill-rule=\"evenodd\" fill-opacity=\"1\" /><path clip-path=\"url(#clip8900)\" d=\"M 0 0 M308.003 1512.14 L315.642 1512.14 L315.642 1485.78 L307.332 1487.44 L307.332 1483.19 L315.596 1481.52 L320.272 1481.52 L320.272 1512.14 L327.911 1512.14 L327.911 1516.08 L308.003 1516.08 L308.003 1512.14 Z\" fill=\"#000000\" fill-rule=\"evenodd\" fill-opacity=\"1\" /><path clip-path=\"url(#clip8900)\" d=\"M 0 0 M337.008 1512.14 L353.327 1512.14 L353.327 1516.08 L331.383 1516.08 L331.383 1512.14 Q334.045 1509.39 338.628 1504.76 Q343.235 1500.11 344.415 1498.76 Q346.66 1496.24 347.54 1494.5 Q348.443 1492.75 348.443 1491.06 Q348.443 1488.3 346.498 1486.57 Q344.577 1484.83 341.475 1484.83 Q339.276 1484.83 336.823 1485.59 Q334.392 1486.36 331.614 1487.91 L331.614 1483.19 Q334.438 1482.05 336.892 1481.47 Q339.346 1480.89 341.383 1480.89 Q346.753 1480.89 349.947 1483.58 Q353.142 1486.26 353.142 1490.75 Q353.142 1492.88 352.332 1494.81 Q351.545 1496.7 349.438 1499.3 Q348.86 1499.97 345.758 1503.19 Q342.656 1506.38 337.008 1512.14 Z\" fill=\"#000000\" fill-rule=\"evenodd\" fill-opacity=\"1\" /><path clip-path=\"url(#clip8900)\" d=\"M 0 0 M365.364 1481.52 L369.299 1481.52 L357.262 1520.48 L353.327 1520.48 L365.364 1481.52 Z\" fill=\"#000000\" fill-rule=\"evenodd\" fill-opacity=\"1\" /><path clip-path=\"url(#clip8900)\" d=\"M 0 0 M375.179 1512.14 L382.818 1512.14 L382.818 1485.78 L374.508 1487.44 L374.508 1483.19 L382.771 1481.52 L387.447 1481.52 L387.447 1512.14 L395.086 1512.14 L395.086 1516.08 L375.179 1516.08 L375.179 1512.14 Z\" fill=\"#000000\" fill-rule=\"evenodd\" fill-opacity=\"1\" /><path clip-path=\"url(#clip8900)\" d=\"M 0 0 M410.155 1499.67 Q406.822 1499.67 404.901 1501.45 Q403.003 1503.23 403.003 1506.36 Q403.003 1509.48 404.901 1511.26 Q406.822 1513.05 410.155 1513.05 Q413.489 1513.05 415.41 1511.26 Q417.331 1509.46 417.331 1506.36 Q417.331 1503.23 415.41 1501.45 Q413.512 1499.67 410.155 1499.67 M405.48 1497.68 Q402.47 1496.94 400.781 1494.88 Q399.114 1492.82 399.114 1489.85 Q399.114 1485.71 402.054 1483.3 Q405.017 1480.89 410.155 1480.89 Q415.317 1480.89 418.257 1483.3 Q421.197 1485.71 421.197 1489.85 Q421.197 1492.82 419.507 1494.88 Q417.841 1496.94 414.855 1497.68 Q418.234 1498.46 420.109 1500.75 Q422.007 1503.05 422.007 1506.36 Q422.007 1511.38 418.929 1514.06 Q415.873 1516.75 410.155 1516.75 Q404.438 1516.75 401.359 1514.06 Q398.304 1511.38 398.304 1506.36 Q398.304 1503.05 400.202 1500.75 Q402.1 1498.46 405.48 1497.68 M403.767 1490.29 Q403.767 1492.98 405.433 1494.48 Q407.123 1495.99 410.155 1495.99 Q413.165 1495.99 414.855 1494.48 Q416.567 1492.98 416.567 1490.29 Q416.567 1487.61 414.855 1486.1 Q413.165 1484.6 410.155 1484.6 Q407.123 1484.6 405.433 1486.1 Q403.767 1487.61 403.767 1490.29 Z\" fill=\"#000000\" fill-rule=\"evenodd\" fill-opacity=\"1\" /><path clip-path=\"url(#clip8900)\" d=\"M 0 0 M509.983 1512.14 L517.622 1512.14 L517.622 1485.78 L509.312 1487.44 L509.312 1483.19 L517.576 1481.52 L522.251 1481.52 L522.251 1512.14 L529.89 1512.14 L529.89 1516.08 L509.983 1516.08 L509.983 1512.14 Z\" fill=\"#000000\" fill-rule=\"evenodd\" fill-opacity=\"1\" /><path clip-path=\"url(#clip8900)\" d=\"M 0 0 M535.77 1512.14 L543.409 1512.14 L543.409 1485.78 L535.099 1487.44 L535.099 1483.19 L543.362 1481.52 L548.038 1481.52 L548.038 1512.14 L555.677 1512.14 L555.677 1516.08 L535.77 1516.08 L535.77 1512.14 Z\" fill=\"#000000\" fill-rule=\"evenodd\" fill-opacity=\"1\" /><path clip-path=\"url(#clip8900)\" d=\"M 0 0 M567.714 1481.52 L571.649 1481.52 L559.612 1520.48 L555.677 1520.48 L567.714 1481.52 Z\" fill=\"#000000\" fill-rule=\"evenodd\" fill-opacity=\"1\" /><path clip-path=\"url(#clip8900)\" d=\"M 0 0 M575.538 1481.52 L597.76 1481.52 L597.76 1483.51 L585.214 1516.08 L580.33 1516.08 L592.135 1485.45 L575.538 1485.45 L575.538 1481.52 Z\" fill=\"#000000\" fill-rule=\"evenodd\" fill-opacity=\"1\" /><path clip-path=\"url(#clip8900)\" d=\"M 0 0 M609.797 1481.52 L613.732 1481.52 L601.695 1520.48 L597.76 1520.48 L609.797 1481.52 Z\" fill=\"#000000\" fill-rule=\"evenodd\" fill-opacity=\"1\" /><path clip-path=\"url(#clip8900)\" d=\"M 0 0 M619.612 1512.14 L627.251 1512.14 L627.251 1485.78 L618.941 1487.44 L618.941 1483.19 L627.205 1481.52 L631.88 1481.52 L631.88 1512.14 L639.519 1512.14 L639.519 1516.08 L619.612 1516.08 L619.612 1512.14 Z\" fill=\"#000000\" fill-rule=\"evenodd\" fill-opacity=\"1\" /><path clip-path=\"url(#clip8900)\" d=\"M 0 0 M654.589 1499.67 Q651.255 1499.67 649.334 1501.45 Q647.436 1503.23 647.436 1506.36 Q647.436 1509.48 649.334 1511.26 Q651.255 1513.05 654.589 1513.05 Q657.922 1513.05 659.843 1511.26 Q661.765 1509.46 661.765 1506.36 Q661.765 1503.23 659.843 1501.45 Q657.945 1499.67 654.589 1499.67 M649.913 1497.68 Q646.904 1496.94 645.214 1494.88 Q643.547 1492.82 643.547 1489.85 Q643.547 1485.71 646.487 1483.3 Q649.45 1480.89 654.589 1480.89 Q659.751 1480.89 662.69 1483.3 Q665.63 1485.71 665.63 1489.85 Q665.63 1492.82 663.94 1494.88 Q662.274 1496.94 659.288 1497.68 Q662.667 1498.46 664.542 1500.75 Q666.44 1503.05 666.44 1506.36 Q666.44 1511.38 663.362 1514.06 Q660.306 1516.75 654.589 1516.75 Q648.871 1516.75 645.792 1514.06 Q642.737 1511.38 642.737 1506.36 Q642.737 1503.05 644.635 1500.75 Q646.533 1498.46 649.913 1497.68 M648.2 1490.29 Q648.2 1492.98 649.866 1494.48 Q651.556 1495.99 654.589 1495.99 Q657.598 1495.99 659.288 1494.48 Q661.001 1492.98 661.001 1490.29 Q661.001 1487.61 659.288 1486.1 Q657.598 1484.6 654.589 1484.6 Q651.556 1484.6 649.866 1486.1 Q648.2 1487.61 648.2 1490.29 Z\" fill=\"#000000\" fill-rule=\"evenodd\" fill-opacity=\"1\" /><path clip-path=\"url(#clip8900)\" d=\"M 0 0 M768.236 1512.14 L775.874 1512.14 L775.874 1485.78 L767.564 1487.44 L767.564 1483.19 L775.828 1481.52 L780.504 1481.52 L780.504 1512.14 L788.143 1512.14 L788.143 1516.08 L768.236 1516.08 L768.236 1512.14 Z\" fill=\"#000000\" fill-rule=\"evenodd\" fill-opacity=\"1\" /><path clip-path=\"url(#clip8900)\" d=\"M 0 0 M800.18 1481.52 L804.115 1481.52 L792.078 1520.48 L788.143 1520.48 L800.18 1481.52 Z\" fill=\"#000000\" fill-rule=\"evenodd\" fill-opacity=\"1\" /><path clip-path=\"url(#clip8900)\" d=\"M 0 0 M819.184 1499.67 Q815.851 1499.67 813.93 1501.45 Q812.032 1503.23 812.032 1506.36 Q812.032 1509.48 813.93 1511.26 Q815.851 1513.05 819.184 1513.05 Q822.518 1513.05 824.439 1511.26 Q826.36 1509.46 826.36 1506.36 Q826.36 1503.23 824.439 1501.45 Q822.541 1499.67 819.184 1499.67 M814.508 1497.68 Q811.499 1496.94 809.809 1494.88 Q808.143 1492.82 808.143 1489.85 Q808.143 1485.71 811.083 1483.3 Q814.045 1480.89 819.184 1480.89 Q824.346 1480.89 827.286 1483.3 Q830.226 1485.71 830.226 1489.85 Q830.226 1492.82 828.536 1494.88 Q826.869 1496.94 823.883 1497.68 Q827.263 1498.46 829.138 1500.75 Q831.036 1503.05 831.036 1506.36 Q831.036 1511.38 827.957 1514.06 Q824.902 1516.75 819.184 1516.75 Q813.467 1516.75 810.388 1514.06 Q807.333 1511.38 807.333 1506.36 Q807.333 1503.05 809.231 1500.75 Q811.129 1498.46 814.508 1497.68 M812.795 1490.29 Q812.795 1492.98 814.462 1494.48 Q816.152 1495.99 819.184 1495.99 Q822.194 1495.99 823.883 1494.48 Q825.596 1492.98 825.596 1490.29 Q825.596 1487.61 823.883 1486.1 Q822.194 1484.6 819.184 1484.6 Q816.152 1484.6 814.462 1486.1 Q812.795 1487.61 812.795 1490.29 Z\" fill=\"#000000\" fill-rule=\"evenodd\" fill-opacity=\"1\" /><path clip-path=\"url(#clip8900)\" d=\"M 0 0 M843.073 1481.52 L847.008 1481.52 L834.971 1520.48 L831.036 1520.48 L843.073 1481.52 Z\" fill=\"#000000\" fill-rule=\"evenodd\" fill-opacity=\"1\" /><path clip-path=\"url(#clip8900)\" d=\"M 0 0 M852.888 1512.14 L860.527 1512.14 L860.527 1485.78 L852.217 1487.44 L852.217 1483.19 L860.48 1481.52 L865.156 1481.52 L865.156 1512.14 L872.795 1512.14 L872.795 1516.08 L852.888 1516.08 L852.888 1512.14 Z\" fill=\"#000000\" fill-rule=\"evenodd\" fill-opacity=\"1\" /><path clip-path=\"url(#clip8900)\" d=\"M 0 0 M878.003 1515.36 L878.003 1511.1 Q879.763 1511.94 881.568 1512.38 Q883.374 1512.81 885.11 1512.81 Q889.739 1512.81 892.17 1509.71 Q894.624 1506.59 894.971 1500.25 Q893.628 1502.24 891.568 1503.3 Q889.508 1504.37 887.008 1504.37 Q881.823 1504.37 878.79 1501.24 Q875.781 1498.09 875.781 1492.65 Q875.781 1487.33 878.929 1484.11 Q882.078 1480.89 887.309 1480.89 Q893.304 1480.89 896.452 1485.5 Q899.624 1490.08 899.624 1498.83 Q899.624 1507 895.735 1511.89 Q891.869 1516.75 885.318 1516.75 Q883.559 1516.75 881.753 1516.4 Q879.948 1516.06 878.003 1515.36 M887.309 1500.71 Q890.457 1500.71 892.286 1498.56 Q894.138 1496.4 894.138 1492.65 Q894.138 1488.93 892.286 1486.77 Q890.457 1484.6 887.309 1484.6 Q884.161 1484.6 882.309 1486.77 Q880.48 1488.93 880.48 1492.65 Q880.48 1496.4 882.309 1498.56 Q884.161 1500.71 887.309 1500.71 Z\" fill=\"#000000\" fill-rule=\"evenodd\" fill-opacity=\"1\" /><path clip-path=\"url(#clip8900)\" d=\"M 0 0 M1028.22 1497.44 Q1031.58 1498.16 1033.46 1500.43 Q1035.35 1502.7 1035.35 1506.03 Q1035.35 1511.15 1031.84 1513.95 Q1028.32 1516.75 1021.84 1516.75 Q1019.66 1516.75 1017.34 1516.31 Q1015.05 1515.89 1012.6 1515.04 L1012.6 1510.52 Q1014.54 1511.66 1016.86 1512.24 Q1019.17 1512.81 1021.7 1512.81 Q1026.09 1512.81 1028.39 1511.08 Q1030.7 1509.34 1030.7 1506.03 Q1030.7 1502.98 1028.55 1501.26 Q1026.42 1499.53 1022.6 1499.53 L1018.57 1499.53 L1018.57 1495.69 L1022.78 1495.69 Q1026.23 1495.69 1028.06 1494.32 Q1029.89 1492.93 1029.89 1490.34 Q1029.89 1487.68 1027.99 1486.26 Q1026.12 1484.83 1022.6 1484.83 Q1020.68 1484.83 1018.48 1485.25 Q1016.28 1485.66 1013.64 1486.54 L1013.64 1482.38 Q1016.3 1481.63 1018.62 1481.26 Q1020.96 1480.89 1023.02 1480.89 Q1028.34 1480.89 1031.44 1483.32 Q1034.54 1485.73 1034.54 1489.85 Q1034.54 1492.72 1032.9 1494.71 Q1031.26 1496.68 1028.22 1497.44 Z\" fill=\"#000000\" fill-rule=\"evenodd\" fill-opacity=\"1\" /><path clip-path=\"url(#clip8900)\" d=\"M 0 0 M1047.39 1481.52 L1051.33 1481.52 L1039.29 1520.48 L1035.35 1520.48 L1047.39 1481.52 Z\" fill=\"#000000\" fill-rule=\"evenodd\" fill-opacity=\"1\" /><path clip-path=\"url(#clip8900)\" d=\"M 0 0 M1055.21 1481.52 L1077.44 1481.52 L1077.44 1483.51 L1064.89 1516.08 L1060.01 1516.08 L1071.81 1485.45 L1055.21 1485.45 L1055.21 1481.52 Z\" fill=\"#000000\" fill-rule=\"evenodd\" fill-opacity=\"1\" /><path clip-path=\"url(#clip8900)\" d=\"M 0 0 M1089.47 1481.52 L1093.41 1481.52 L1081.37 1520.48 L1077.44 1520.48 L1089.47 1481.52 Z\" fill=\"#000000\" fill-rule=\"evenodd\" fill-opacity=\"1\" /><path clip-path=\"url(#clip8900)\" d=\"M 0 0 M1099.29 1512.14 L1106.93 1512.14 L1106.93 1485.78 L1098.62 1487.44 L1098.62 1483.19 L1106.88 1481.52 L1111.56 1481.52 L1111.56 1512.14 L1119.2 1512.14 L1119.2 1516.08 L1099.29 1516.08 L1099.29 1512.14 Z\" fill=\"#000000\" fill-rule=\"evenodd\" fill-opacity=\"1\" /><path clip-path=\"url(#clip8900)\" d=\"M 0 0 M1124.4 1515.36 L1124.4 1511.1 Q1126.16 1511.94 1127.97 1512.38 Q1129.77 1512.81 1131.51 1512.81 Q1136.14 1512.81 1138.57 1509.71 Q1141.02 1506.59 1141.37 1500.25 Q1140.03 1502.24 1137.97 1503.3 Q1135.91 1504.37 1133.41 1504.37 Q1128.22 1504.37 1125.19 1501.24 Q1122.18 1498.09 1122.18 1492.65 Q1122.18 1487.33 1125.33 1484.11 Q1128.48 1480.89 1133.71 1480.89 Q1139.71 1480.89 1142.85 1485.5 Q1146.02 1490.08 1146.02 1498.83 Q1146.02 1507 1142.14 1511.89 Q1138.27 1516.75 1131.72 1516.75 Q1129.96 1516.75 1128.15 1516.4 Q1126.35 1516.06 1124.4 1515.36 M1133.71 1500.71 Q1136.86 1500.71 1138.69 1498.56 Q1140.54 1496.4 1140.54 1492.65 Q1140.54 1488.93 1138.69 1486.77 Q1136.86 1484.6 1133.71 1484.6 Q1130.56 1484.6 1128.71 1486.77 Q1126.88 1488.93 1126.88 1492.65 Q1126.88 1496.4 1128.71 1498.56 Q1130.56 1500.71 1133.71 1500.71 Z\" fill=\"#000000\" fill-rule=\"evenodd\" fill-opacity=\"1\" /><path clip-path=\"url(#clip8900)\" d=\"M 0 0 M1254.18 1481.52 L1272.53 1481.52 L1272.53 1485.45 L1258.46 1485.45 L1258.46 1493.93 Q1259.48 1493.58 1260.5 1493.42 Q1261.51 1493.23 1262.53 1493.23 Q1268.32 1493.23 1271.7 1496.4 Q1275.08 1499.57 1275.08 1504.99 Q1275.08 1510.57 1271.61 1513.67 Q1268.13 1516.75 1261.82 1516.75 Q1259.64 1516.75 1257.37 1516.38 Q1255.13 1516.01 1252.72 1515.27 L1252.72 1510.57 Q1254.8 1511.7 1257.02 1512.26 Q1259.25 1512.81 1261.72 1512.81 Q1265.73 1512.81 1268.07 1510.71 Q1270.4 1508.6 1270.4 1504.99 Q1270.4 1501.38 1268.07 1499.27 Q1265.73 1497.17 1261.72 1497.17 Q1259.85 1497.17 1257.97 1497.58 Q1256.12 1498 1254.18 1498.88 L1254.18 1481.52 Z\" fill=\"#000000\" fill-rule=\"evenodd\" fill-opacity=\"1\" /><path clip-path=\"url(#clip8900)\" d=\"M 0 0 M1287.12 1481.52 L1291.05 1481.52 L1279.01 1520.48 L1275.08 1520.48 L1287.12 1481.52 Z\" fill=\"#000000\" fill-rule=\"evenodd\" fill-opacity=\"1\" /><path clip-path=\"url(#clip8900)\" d=\"M 0 0 M1300.15 1512.14 L1316.47 1512.14 L1316.47 1516.08 L1294.52 1516.08 L1294.52 1512.14 Q1297.19 1509.39 1301.77 1504.76 Q1306.38 1500.11 1307.56 1498.76 Q1309.8 1496.24 1310.68 1494.5 Q1311.58 1492.75 1311.58 1491.06 Q1311.58 1488.3 1309.64 1486.57 Q1307.72 1484.83 1304.62 1484.83 Q1302.42 1484.83 1299.96 1485.59 Q1297.53 1486.36 1294.76 1487.91 L1294.76 1483.19 Q1297.58 1482.05 1300.03 1481.47 Q1302.49 1480.89 1304.52 1480.89 Q1309.89 1480.89 1313.09 1483.58 Q1316.28 1486.26 1316.28 1490.75 Q1316.28 1492.88 1315.47 1494.81 Q1314.69 1496.7 1312.58 1499.3 Q1312 1499.97 1308.9 1503.19 Q1305.8 1506.38 1300.15 1512.14 Z\" fill=\"#000000\" fill-rule=\"evenodd\" fill-opacity=\"1\" /><path clip-path=\"url(#clip8900)\" d=\"M 0 0 M1328.5 1481.52 L1332.44 1481.52 L1320.4 1520.48 L1316.47 1520.48 L1328.5 1481.52 Z\" fill=\"#000000\" fill-rule=\"evenodd\" fill-opacity=\"1\" /><path clip-path=\"url(#clip8900)\" d=\"M 0 0 M1338.32 1512.14 L1345.96 1512.14 L1345.96 1485.78 L1337.65 1487.44 L1337.65 1483.19 L1345.91 1481.52 L1350.59 1481.52 L1350.59 1512.14 L1358.23 1512.14 L1358.23 1516.08 L1338.32 1516.08 L1338.32 1512.14 Z\" fill=\"#000000\" fill-rule=\"evenodd\" fill-opacity=\"1\" /><path clip-path=\"url(#clip8900)\" d=\"M 0 0 M1363.44 1515.36 L1363.44 1511.1 Q1365.19 1511.94 1367 1512.38 Q1368.81 1512.81 1370.54 1512.81 Q1375.17 1512.81 1377.6 1509.71 Q1380.06 1506.59 1380.4 1500.25 Q1379.06 1502.24 1377 1503.3 Q1374.94 1504.37 1372.44 1504.37 Q1367.25 1504.37 1364.22 1501.24 Q1361.21 1498.09 1361.21 1492.65 Q1361.21 1487.33 1364.36 1484.11 Q1367.51 1480.89 1372.74 1480.89 Q1378.74 1480.89 1381.88 1485.5 Q1385.06 1490.08 1385.06 1498.83 Q1385.06 1507 1381.17 1511.89 Q1377.3 1516.75 1370.75 1516.75 Q1368.99 1516.75 1367.19 1516.4 Q1365.38 1516.06 1363.44 1515.36 M1372.74 1500.71 Q1375.89 1500.71 1377.72 1498.56 Q1379.57 1496.4 1379.57 1492.65 Q1379.57 1488.93 1377.72 1486.77 Q1375.89 1484.6 1372.74 1484.6 Q1369.59 1484.6 1367.74 1486.77 Q1365.91 1488.93 1365.91 1492.65 Q1365.91 1496.4 1367.74 1498.56 Q1369.59 1500.71 1372.74 1500.71 Z\" fill=\"#000000\" fill-rule=\"evenodd\" fill-opacity=\"1\" /><path clip-path=\"url(#clip8900)\" d=\"M 0 0 M1496.56 1496.94 Q1493.41 1496.94 1491.56 1499.09 Q1489.73 1501.24 1489.73 1504.99 Q1489.73 1508.72 1491.56 1510.89 Q1493.41 1513.05 1496.56 1513.05 Q1499.71 1513.05 1501.54 1510.89 Q1503.39 1508.72 1503.39 1504.99 Q1503.39 1501.24 1501.54 1499.09 Q1499.71 1496.94 1496.56 1496.94 M1505.84 1482.28 L1505.84 1486.54 Q1504.08 1485.71 1502.28 1485.27 Q1500.5 1484.83 1498.74 1484.83 Q1494.11 1484.83 1491.65 1487.95 Q1489.22 1491.08 1488.88 1497.4 Q1490.24 1495.38 1492.3 1494.32 Q1494.36 1493.23 1496.84 1493.23 Q1502.05 1493.23 1505.06 1496.4 Q1508.09 1499.55 1508.09 1504.99 Q1508.09 1510.31 1504.94 1513.53 Q1501.79 1516.75 1496.56 1516.75 Q1490.57 1516.75 1487.39 1512.17 Q1484.22 1507.56 1484.22 1498.83 Q1484.22 1490.64 1488.11 1485.78 Q1492 1480.89 1498.55 1480.89 Q1500.31 1480.89 1502.09 1481.24 Q1503.9 1481.59 1505.84 1482.28 Z\" fill=\"#000000\" fill-rule=\"evenodd\" fill-opacity=\"1\" /><path clip-path=\"url(#clip8900)\" d=\"M 0 0 M1520.13 1481.52 L1524.06 1481.52 L1512.02 1520.48 L1508.09 1520.48 L1520.13 1481.52 Z\" fill=\"#000000\" fill-rule=\"evenodd\" fill-opacity=\"1\" /><path clip-path=\"url(#clip8900)\" d=\"M 0 0 M1533.16 1512.14 L1549.48 1512.14 L1549.48 1516.08 L1527.53 1516.08 L1527.53 1512.14 Q1530.2 1509.39 1534.78 1504.76 Q1539.38 1500.11 1540.57 1498.76 Q1542.81 1496.24 1543.69 1494.5 Q1544.59 1492.75 1544.59 1491.06 Q1544.59 1488.3 1542.65 1486.57 Q1540.73 1484.83 1537.63 1484.83 Q1535.43 1484.83 1532.97 1485.59 Q1530.54 1486.36 1527.76 1487.91 L1527.76 1483.19 Q1530.59 1482.05 1533.04 1481.47 Q1535.5 1480.89 1537.53 1480.89 Q1542.9 1480.89 1546.1 1483.58 Q1549.29 1486.26 1549.29 1490.75 Q1549.29 1492.88 1548.48 1494.81 Q1547.7 1496.7 1545.59 1499.3 Q1545.01 1499.97 1541.91 1503.19 Q1538.81 1506.38 1533.16 1512.14 Z\" fill=\"#000000\" fill-rule=\"evenodd\" fill-opacity=\"1\" /><path clip-path=\"url(#clip8900)\" d=\"M 0 0 M1564.55 1499.67 Q1561.21 1499.67 1559.29 1501.45 Q1557.39 1503.23 1557.39 1506.36 Q1557.39 1509.48 1559.29 1511.26 Q1561.21 1513.05 1564.55 1513.05 Q1567.88 1513.05 1569.8 1511.26 Q1571.72 1509.46 1571.72 1506.36 Q1571.72 1503.23 1569.8 1501.45 Q1567.9 1499.67 1564.55 1499.67 M1559.87 1497.68 Q1556.86 1496.94 1555.17 1494.88 Q1553.51 1492.82 1553.51 1489.85 Q1553.51 1485.71 1556.45 1483.3 Q1559.41 1480.89 1564.55 1480.89 Q1569.71 1480.89 1572.65 1483.3 Q1575.59 1485.71 1575.59 1489.85 Q1575.59 1492.82 1573.9 1494.88 Q1572.23 1496.94 1569.25 1497.68 Q1572.63 1498.46 1574.5 1500.75 Q1576.4 1503.05 1576.4 1506.36 Q1576.4 1511.38 1573.32 1514.06 Q1570.26 1516.75 1564.55 1516.75 Q1558.83 1516.75 1555.75 1514.06 Q1552.7 1511.38 1552.7 1506.36 Q1552.7 1503.05 1554.59 1500.75 Q1556.49 1498.46 1559.87 1497.68 M1558.16 1490.29 Q1558.16 1492.98 1559.82 1494.48 Q1561.51 1495.99 1564.55 1495.99 Q1567.56 1495.99 1569.25 1494.48 Q1570.96 1492.98 1570.96 1490.29 Q1570.96 1487.61 1569.25 1486.1 Q1567.56 1484.6 1564.55 1484.6 Q1561.51 1484.6 1559.82 1486.1 Q1558.16 1487.61 1558.16 1490.29 Z\" fill=\"#000000\" fill-rule=\"evenodd\" fill-opacity=\"1\" /><path clip-path=\"url(#clip8900)\" d=\"M 0 0 M1588.44 1481.52 L1592.37 1481.52 L1580.33 1520.48 L1576.4 1520.48 L1588.44 1481.52 Z\" fill=\"#000000\" fill-rule=\"evenodd\" fill-opacity=\"1\" /><path clip-path=\"url(#clip8900)\" d=\"M 0 0 M1598.25 1512.14 L1605.89 1512.14 L1605.89 1485.78 L1597.58 1487.44 L1597.58 1483.19 L1605.84 1481.52 L1610.52 1481.52 L1610.52 1512.14 L1618.16 1512.14 L1618.16 1516.08 L1598.25 1516.08 L1598.25 1512.14 Z\" fill=\"#000000\" fill-rule=\"evenodd\" fill-opacity=\"1\" /><path clip-path=\"url(#clip8900)\" d=\"M 0 0 M1623.37 1515.36 L1623.37 1511.1 Q1625.13 1511.94 1626.93 1512.38 Q1628.74 1512.81 1630.47 1512.81 Q1635.1 1512.81 1637.53 1509.71 Q1639.99 1506.59 1640.33 1500.25 Q1638.99 1502.24 1636.93 1503.3 Q1634.87 1504.37 1632.37 1504.37 Q1627.19 1504.37 1624.15 1501.24 Q1621.14 1498.09 1621.14 1492.65 Q1621.14 1487.33 1624.29 1484.11 Q1627.44 1480.89 1632.67 1480.89 Q1638.67 1480.89 1641.81 1485.5 Q1644.99 1490.08 1644.99 1498.83 Q1644.99 1507 1641.1 1511.89 Q1637.23 1516.75 1630.68 1516.75 Q1628.92 1516.75 1627.12 1516.4 Q1625.31 1516.06 1623.37 1515.36 M1632.67 1500.71 Q1635.82 1500.71 1637.65 1498.56 Q1639.5 1496.4 1639.5 1492.65 Q1639.5 1488.93 1637.65 1486.77 Q1635.82 1484.6 1632.67 1484.6 Q1629.52 1484.6 1627.67 1486.77 Q1625.84 1488.93 1625.84 1492.65 Q1625.84 1496.4 1627.67 1498.56 Q1629.52 1500.71 1632.67 1500.71 Z\" fill=\"#000000\" fill-rule=\"evenodd\" fill-opacity=\"1\" /><path clip-path=\"url(#clip8900)\" d=\"M 0 0 M1741.75 1499.67 Q1738.41 1499.67 1736.49 1501.45 Q1734.59 1503.23 1734.59 1506.36 Q1734.59 1509.48 1736.49 1511.26 Q1738.41 1513.05 1741.75 1513.05 Q1745.08 1513.05 1747 1511.26 Q1748.92 1509.46 1748.92 1506.36 Q1748.92 1503.23 1747 1501.45 Q1745.1 1499.67 1741.75 1499.67 M1737.07 1497.68 Q1734.06 1496.94 1732.37 1494.88 Q1730.71 1492.82 1730.71 1489.85 Q1730.71 1485.71 1733.64 1483.3 Q1736.61 1480.89 1741.75 1480.89 Q1746.91 1480.89 1749.85 1483.3 Q1752.79 1485.71 1752.79 1489.85 Q1752.79 1492.82 1751.1 1494.88 Q1749.43 1496.94 1746.45 1497.68 Q1749.83 1498.46 1751.7 1500.75 Q1753.6 1503.05 1753.6 1506.36 Q1753.6 1511.38 1750.52 1514.06 Q1747.46 1516.75 1741.75 1516.75 Q1736.03 1516.75 1732.95 1514.06 Q1729.89 1511.38 1729.89 1506.36 Q1729.89 1503.05 1731.79 1500.75 Q1733.69 1498.46 1737.07 1497.68 M1735.36 1490.29 Q1735.36 1492.98 1737.02 1494.48 Q1738.71 1495.99 1741.75 1495.99 Q1744.76 1495.99 1746.45 1494.48 Q1748.16 1492.98 1748.16 1490.29 Q1748.16 1487.61 1746.45 1486.1 Q1744.76 1484.6 1741.75 1484.6 Q1738.71 1484.6 1737.02 1486.1 Q1735.36 1487.61 1735.36 1490.29 Z\" fill=\"#000000\" fill-rule=\"evenodd\" fill-opacity=\"1\" /><path clip-path=\"url(#clip8900)\" d=\"M 0 0 M1765.64 1481.52 L1769.57 1481.52 L1757.53 1520.48 L1753.6 1520.48 L1765.64 1481.52 Z\" fill=\"#000000\" fill-rule=\"evenodd\" fill-opacity=\"1\" /><path clip-path=\"url(#clip8900)\" d=\"M 0 0 M1778.67 1512.14 L1794.99 1512.14 L1794.99 1516.08 L1773.04 1516.08 L1773.04 1512.14 Q1775.7 1509.39 1780.29 1504.76 Q1784.89 1500.11 1786.08 1498.76 Q1788.32 1496.24 1789.2 1494.5 Q1790.1 1492.75 1790.1 1491.06 Q1790.1 1488.3 1788.16 1486.57 Q1786.24 1484.83 1783.14 1484.83 Q1780.94 1484.83 1778.48 1485.59 Q1776.05 1486.36 1773.27 1487.91 L1773.27 1483.19 Q1776.1 1482.05 1778.55 1481.47 Q1781.01 1480.89 1783.04 1480.89 Q1788.41 1480.89 1791.61 1483.58 Q1794.8 1486.26 1794.8 1490.75 Q1794.8 1492.88 1793.99 1494.81 Q1793.2 1496.7 1791.1 1499.3 Q1790.52 1499.97 1787.42 1503.19 Q1784.32 1506.38 1778.67 1512.14 Z\" fill=\"#000000\" fill-rule=\"evenodd\" fill-opacity=\"1\" /><path clip-path=\"url(#clip8900)\" d=\"M 0 0 M1810.64 1496.94 Q1807.49 1496.94 1805.64 1499.09 Q1803.81 1501.24 1803.81 1504.99 Q1803.81 1508.72 1805.64 1510.89 Q1807.49 1513.05 1810.64 1513.05 Q1813.78 1513.05 1815.61 1510.89 Q1817.46 1508.72 1817.46 1504.99 Q1817.46 1501.24 1815.61 1499.09 Q1813.78 1496.94 1810.64 1496.94 M1819.92 1482.28 L1819.92 1486.54 Q1818.16 1485.71 1816.35 1485.27 Q1814.57 1484.83 1812.81 1484.83 Q1808.18 1484.83 1805.73 1487.95 Q1803.3 1491.08 1802.95 1497.4 Q1804.32 1495.38 1806.38 1494.32 Q1808.44 1493.23 1810.91 1493.23 Q1816.12 1493.23 1819.13 1496.4 Q1822.16 1499.55 1822.16 1504.99 Q1822.16 1510.31 1819.01 1513.53 Q1815.87 1516.75 1810.64 1516.75 Q1804.64 1516.75 1801.47 1512.17 Q1798.3 1507.56 1798.3 1498.83 Q1798.3 1490.64 1802.19 1485.78 Q1806.07 1480.89 1812.63 1480.89 Q1814.39 1480.89 1816.17 1481.24 Q1817.97 1481.59 1819.92 1482.28 Z\" fill=\"#000000\" fill-rule=\"evenodd\" fill-opacity=\"1\" /><path clip-path=\"url(#clip8900)\" d=\"M 0 0 M1834.2 1481.52 L1838.13 1481.52 L1826.1 1520.48 L1822.16 1520.48 L1834.2 1481.52 Z\" fill=\"#000000\" fill-rule=\"evenodd\" fill-opacity=\"1\" /><path clip-path=\"url(#clip8900)\" d=\"M 0 0 M1844.01 1512.14 L1851.65 1512.14 L1851.65 1485.78 L1843.34 1487.44 L1843.34 1483.19 L1851.61 1481.52 L1856.28 1481.52 L1856.28 1512.14 L1863.92 1512.14 L1863.92 1516.08 L1844.01 1516.08 L1844.01 1512.14 Z\" fill=\"#000000\" fill-rule=\"evenodd\" fill-opacity=\"1\" /><path clip-path=\"url(#clip8900)\" d=\"M 0 0 M1869.13 1515.36 L1869.13 1511.1 Q1870.89 1511.94 1872.69 1512.38 Q1874.5 1512.81 1876.24 1512.81 Q1880.87 1512.81 1883.3 1509.71 Q1885.75 1506.59 1886.1 1500.25 Q1884.76 1502.24 1882.69 1503.3 Q1880.63 1504.37 1878.13 1504.37 Q1872.95 1504.37 1869.92 1501.24 Q1866.91 1498.09 1866.91 1492.65 Q1866.91 1487.33 1870.06 1484.11 Q1873.2 1480.89 1878.44 1480.89 Q1884.43 1480.89 1887.58 1485.5 Q1890.75 1490.08 1890.75 1498.83 Q1890.75 1507 1886.86 1511.89 Q1883 1516.75 1876.44 1516.75 Q1874.69 1516.75 1872.88 1516.4 Q1871.07 1516.06 1869.13 1515.36 M1878.44 1500.71 Q1881.58 1500.71 1883.41 1498.56 Q1885.26 1496.4 1885.26 1492.65 Q1885.26 1488.93 1883.41 1486.77 Q1881.58 1484.6 1878.44 1484.6 Q1875.29 1484.6 1873.44 1486.77 Q1871.61 1488.93 1871.61 1492.65 Q1871.61 1496.4 1873.44 1498.56 Q1875.29 1500.71 1878.44 1500.71 Z\" fill=\"#000000\" fill-rule=\"evenodd\" fill-opacity=\"1\" /><path clip-path=\"url(#clip8900)\" d=\"M 0 0 M1965.22 1512.14 L1972.86 1512.14 L1972.86 1485.78 L1964.55 1487.44 L1964.55 1483.19 L1972.81 1481.52 L1977.49 1481.52 L1977.49 1512.14 L1985.13 1512.14 L1985.13 1516.08 L1965.22 1516.08 L1965.22 1512.14 Z\" fill=\"#000000\" fill-rule=\"evenodd\" fill-opacity=\"1\" /><path clip-path=\"url(#clip8900)\" d=\"M 0 0 M2000.2 1484.6 Q1996.58 1484.6 1994.76 1488.16 Q1992.95 1491.7 1992.95 1498.83 Q1992.95 1505.94 1994.76 1509.5 Q1996.58 1513.05 2000.2 1513.05 Q2003.83 1513.05 2005.64 1509.5 Q2007.46 1505.94 2007.46 1498.83 Q2007.46 1491.7 2005.64 1488.16 Q2003.83 1484.6 2000.2 1484.6 M2000.2 1480.89 Q2006.01 1480.89 2009.06 1485.5 Q2012.14 1490.08 2012.14 1498.83 Q2012.14 1507.56 2009.06 1512.17 Q2006.01 1516.75 2000.2 1516.75 Q1994.39 1516.75 1991.31 1512.17 Q1988.25 1507.56 1988.25 1498.83 Q1988.25 1490.08 1991.31 1485.5 Q1994.39 1480.89 2000.2 1480.89 Z\" fill=\"#000000\" fill-rule=\"evenodd\" fill-opacity=\"1\" /><path clip-path=\"url(#clip8900)\" d=\"M 0 0 M2024.18 1481.52 L2028.11 1481.52 L2016.08 1520.48 L2012.14 1520.48 L2024.18 1481.52 Z\" fill=\"#000000\" fill-rule=\"evenodd\" fill-opacity=\"1\" /><path clip-path=\"url(#clip8900)\" d=\"M 0 0 M2037.21 1512.14 L2053.53 1512.14 L2053.53 1516.08 L2031.58 1516.08 L2031.58 1512.14 Q2034.25 1509.39 2038.83 1504.76 Q2043.44 1500.11 2044.62 1498.76 Q2046.86 1496.24 2047.74 1494.5 Q2048.64 1492.75 2048.64 1491.06 Q2048.64 1488.3 2046.7 1486.57 Q2044.78 1484.83 2041.68 1484.83 Q2039.48 1484.83 2037.02 1485.59 Q2034.59 1486.36 2031.82 1487.91 L2031.82 1483.19 Q2034.64 1482.05 2037.09 1481.47 Q2039.55 1480.89 2041.58 1480.89 Q2046.95 1480.89 2050.15 1483.58 Q2053.34 1486.26 2053.34 1490.75 Q2053.34 1492.88 2052.53 1494.81 Q2051.75 1496.7 2049.64 1499.3 Q2049.06 1499.97 2045.96 1503.19 Q2042.86 1506.38 2037.21 1512.14 Z\" fill=\"#000000\" fill-rule=\"evenodd\" fill-opacity=\"1\" /><path clip-path=\"url(#clip8900)\" d=\"M 0 0 M2062.63 1512.14 L2078.95 1512.14 L2078.95 1516.08 L2057 1516.08 L2057 1512.14 Q2059.66 1509.39 2064.25 1504.76 Q2068.85 1500.11 2070.03 1498.76 Q2072.28 1496.24 2073.16 1494.5 Q2074.06 1492.75 2074.06 1491.06 Q2074.06 1488.3 2072.12 1486.57 Q2070.2 1484.83 2067.09 1484.83 Q2064.89 1484.83 2062.44 1485.59 Q2060.01 1486.36 2057.23 1487.91 L2057.23 1483.19 Q2060.06 1482.05 2062.51 1481.47 Q2064.96 1480.89 2067 1480.89 Q2072.37 1480.89 2075.57 1483.58 Q2078.76 1486.26 2078.76 1490.75 Q2078.76 1492.88 2077.95 1494.81 Q2077.16 1496.7 2075.06 1499.3 Q2074.48 1499.97 2071.38 1503.19 Q2068.27 1506.38 2062.63 1512.14 Z\" fill=\"#000000\" fill-rule=\"evenodd\" fill-opacity=\"1\" /><path clip-path=\"url(#clip8900)\" d=\"M 0 0 M2090.98 1481.52 L2094.92 1481.52 L2082.88 1520.48 L2078.95 1520.48 L2090.98 1481.52 Z\" fill=\"#000000\" fill-rule=\"evenodd\" fill-opacity=\"1\" /><path clip-path=\"url(#clip8900)\" d=\"M 0 0 M2100.8 1512.14 L2108.44 1512.14 L2108.44 1485.78 L2100.13 1487.44 L2100.13 1483.19 L2108.39 1481.52 L2113.07 1481.52 L2113.07 1512.14 L2120.7 1512.14 L2120.7 1516.08 L2100.8 1516.08 L2100.8 1512.14 Z\" fill=\"#000000\" fill-rule=\"evenodd\" fill-opacity=\"1\" /><path clip-path=\"url(#clip8900)\" d=\"M 0 0 M2125.91 1515.36 L2125.91 1511.1 Q2127.67 1511.94 2129.48 1512.38 Q2131.28 1512.81 2133.02 1512.81 Q2137.65 1512.81 2140.08 1509.71 Q2142.53 1506.59 2142.88 1500.25 Q2141.54 1502.24 2139.48 1503.3 Q2137.42 1504.37 2134.92 1504.37 Q2129.73 1504.37 2126.7 1501.24 Q2123.69 1498.09 2123.69 1492.65 Q2123.69 1487.33 2126.84 1484.11 Q2129.99 1480.89 2135.22 1480.89 Q2141.21 1480.89 2144.36 1485.5 Q2147.53 1490.08 2147.53 1498.83 Q2147.53 1507 2143.64 1511.89 Q2139.78 1516.75 2133.23 1516.75 Q2131.47 1516.75 2129.66 1516.4 Q2127.86 1516.06 2125.91 1515.36 M2135.22 1500.71 Q2138.37 1500.71 2140.2 1498.56 Q2142.05 1496.4 2142.05 1492.65 Q2142.05 1488.93 2140.2 1486.77 Q2138.37 1484.6 2135.22 1484.6 Q2132.07 1484.6 2130.22 1486.77 Q2128.39 1488.93 2128.39 1492.65 Q2128.39 1496.4 2130.22 1498.56 Q2132.07 1500.71 2135.22 1500.71 Z\" fill=\"#000000\" fill-rule=\"evenodd\" fill-opacity=\"1\" /><path clip-path=\"url(#clip8900)\" d=\"M 0 0 M2210.8 1512.14 L2218.44 1512.14 L2218.44 1485.78 L2210.13 1487.44 L2210.13 1483.19 L2218.39 1481.52 L2223.07 1481.52 L2223.07 1512.14 L2230.71 1512.14 L2230.71 1516.08 L2210.8 1516.08 L2210.8 1512.14 Z\" fill=\"#000000\" fill-rule=\"evenodd\" fill-opacity=\"1\" /><path clip-path=\"url(#clip8900)\" d=\"M 0 0 M2239.8 1512.14 L2256.12 1512.14 L2256.12 1516.08 L2234.18 1516.08 L2234.18 1512.14 Q2236.84 1509.39 2241.42 1504.76 Q2246.03 1500.11 2247.21 1498.76 Q2249.46 1496.24 2250.34 1494.5 Q2251.24 1492.75 2251.24 1491.06 Q2251.24 1488.3 2249.29 1486.57 Q2247.37 1484.83 2244.27 1484.83 Q2242.07 1484.83 2239.62 1485.59 Q2237.19 1486.36 2234.41 1487.91 L2234.41 1483.19 Q2237.23 1482.05 2239.69 1481.47 Q2242.14 1480.89 2244.18 1480.89 Q2249.55 1480.89 2252.74 1483.58 Q2255.94 1486.26 2255.94 1490.75 Q2255.94 1492.88 2255.13 1494.81 Q2254.34 1496.7 2252.23 1499.3 Q2251.65 1499.97 2248.55 1503.19 Q2245.45 1506.38 2239.8 1512.14 Z\" fill=\"#000000\" fill-rule=\"evenodd\" fill-opacity=\"1\" /><path clip-path=\"url(#clip8900)\" d=\"M 0 0 M2268.16 1481.52 L2272.09 1481.52 L2260.06 1520.48 L2256.12 1520.48 L2268.16 1481.52 Z\" fill=\"#000000\" fill-rule=\"evenodd\" fill-opacity=\"1\" /><path clip-path=\"url(#clip8900)\" d=\"M 0 0 M2277.97 1512.14 L2285.61 1512.14 L2285.61 1485.78 L2277.3 1487.44 L2277.3 1483.19 L2285.57 1481.52 L2290.24 1481.52 L2290.24 1512.14 L2297.88 1512.14 L2297.88 1516.08 L2277.97 1516.08 L2277.97 1512.14 Z\" fill=\"#000000\" fill-rule=\"evenodd\" fill-opacity=\"1\" /><path clip-path=\"url(#clip8900)\" d=\"M 0 0 M2312.95 1499.67 Q2309.62 1499.67 2307.7 1501.45 Q2305.8 1503.23 2305.8 1506.36 Q2305.8 1509.48 2307.7 1511.26 Q2309.62 1513.05 2312.95 1513.05 Q2316.28 1513.05 2318.21 1511.26 Q2320.13 1509.46 2320.13 1506.36 Q2320.13 1503.23 2318.21 1501.45 Q2316.31 1499.67 2312.95 1499.67 M2308.27 1497.68 Q2305.27 1496.94 2303.58 1494.88 Q2301.91 1492.82 2301.91 1489.85 Q2301.91 1485.71 2304.85 1483.3 Q2307.81 1480.89 2312.95 1480.89 Q2318.11 1480.89 2321.05 1483.3 Q2323.99 1485.71 2323.99 1489.85 Q2323.99 1492.82 2322.3 1494.88 Q2320.64 1496.94 2317.65 1497.68 Q2321.03 1498.46 2322.9 1500.75 Q2324.8 1503.05 2324.8 1506.36 Q2324.8 1511.38 2321.72 1514.06 Q2318.67 1516.75 2312.95 1516.75 Q2307.23 1516.75 2304.15 1514.06 Q2301.1 1511.38 2301.1 1506.36 Q2301.1 1503.05 2303 1500.75 Q2304.9 1498.46 2308.27 1497.68 M2306.56 1490.29 Q2306.56 1492.98 2308.23 1494.48 Q2309.92 1495.99 2312.95 1495.99 Q2315.96 1495.99 2317.65 1494.48 Q2319.36 1492.98 2319.36 1490.29 Q2319.36 1487.61 2317.65 1486.1 Q2315.96 1484.6 2312.95 1484.6 Q2309.92 1484.6 2308.23 1486.1 Q2306.56 1487.61 2306.56 1490.29 Z\" fill=\"#000000\" fill-rule=\"evenodd\" fill-opacity=\"1\" /><path clip-path=\"url(#clip8900)\" d=\"M 0 0 M2336.84 1481.52 L2340.77 1481.52 L2328.74 1520.48 L2324.8 1520.48 L2336.84 1481.52 Z\" fill=\"#000000\" fill-rule=\"evenodd\" fill-opacity=\"1\" /><path clip-path=\"url(#clip8900)\" d=\"M 0 0 M2346.65 1512.14 L2354.29 1512.14 L2354.29 1485.78 L2345.98 1487.44 L2345.98 1483.19 L2354.25 1481.52 L2358.92 1481.52 L2358.92 1512.14 L2366.56 1512.14 L2366.56 1516.08 L2346.65 1516.08 L2346.65 1512.14 Z\" fill=\"#000000\" fill-rule=\"evenodd\" fill-opacity=\"1\" /><path clip-path=\"url(#clip8900)\" d=\"M 0 0 M2371.77 1515.36 L2371.77 1511.1 Q2373.53 1511.94 2375.33 1512.38 Q2377.14 1512.81 2378.88 1512.81 Q2383.51 1512.81 2385.94 1509.71 Q2388.39 1506.59 2388.74 1500.25 Q2387.39 1502.24 2385.33 1503.3 Q2383.27 1504.37 2380.77 1504.37 Q2375.59 1504.37 2372.56 1501.24 Q2369.55 1498.09 2369.55 1492.65 Q2369.55 1487.33 2372.7 1484.11 Q2375.84 1480.89 2381.08 1480.89 Q2387.07 1480.89 2390.22 1485.5 Q2393.39 1490.08 2393.39 1498.83 Q2393.39 1507 2389.5 1511.89 Q2385.64 1516.75 2379.08 1516.75 Q2377.33 1516.75 2375.52 1516.4 Q2373.71 1516.06 2371.77 1515.36 M2381.08 1500.71 Q2384.22 1500.71 2386.05 1498.56 Q2387.9 1496.4 2387.9 1492.65 Q2387.9 1488.93 2386.05 1486.77 Q2384.22 1484.6 2381.08 1484.6 Q2377.93 1484.6 2376.08 1486.77 Q2374.25 1488.93 2374.25 1492.65 Q2374.25 1496.4 2376.08 1498.56 Q2377.93 1500.71 2381.08 1500.71 Z\" fill=\"#000000\" fill-rule=\"evenodd\" fill-opacity=\"1\" /><path clip-path=\"url(#clip8900)\" d=\"M 0 0 M2473.59 1512.14 L2489.91 1512.14 L2489.91 1516.08 L2467.96 1516.08 L2467.96 1512.14 Q2470.62 1509.39 2475.21 1504.76 Q2479.81 1500.11 2481 1498.76 Q2483.24 1496.24 2484.12 1494.5 Q2485.02 1492.75 2485.02 1491.06 Q2485.02 1488.3 2483.08 1486.57 Q2481.16 1484.83 2478.06 1484.83 Q2475.86 1484.83 2473.4 1485.59 Q2470.97 1486.36 2468.19 1487.91 L2468.19 1483.19 Q2471.02 1482.05 2473.47 1481.47 Q2475.93 1480.89 2477.96 1480.89 Q2483.33 1480.89 2486.53 1483.58 Q2489.72 1486.26 2489.72 1490.75 Q2489.72 1492.88 2488.91 1494.81 Q2488.12 1496.7 2486.02 1499.3 Q2485.44 1499.97 2482.34 1503.19 Q2479.24 1506.38 2473.59 1512.14 Z\" fill=\"#000000\" fill-rule=\"evenodd\" fill-opacity=\"1\" /><path clip-path=\"url(#clip8900)\" d=\"M 0 0 M2501.94 1481.52 L2505.88 1481.52 L2493.84 1520.48 L2489.91 1520.48 L2501.94 1481.52 Z\" fill=\"#000000\" fill-rule=\"evenodd\" fill-opacity=\"1\" /><path clip-path=\"url(#clip8900)\" d=\"M 0 0 M2511.76 1512.14 L2519.4 1512.14 L2519.4 1485.78 L2511.09 1487.44 L2511.09 1483.19 L2519.35 1481.52 L2524.03 1481.52 L2524.03 1512.14 L2531.67 1512.14 L2531.67 1516.08 L2511.76 1516.08 L2511.76 1512.14 Z\" fill=\"#000000\" fill-rule=\"evenodd\" fill-opacity=\"1\" /><path clip-path=\"url(#clip8900)\" d=\"M 0 0 M2546.74 1499.67 Q2543.4 1499.67 2541.48 1501.45 Q2539.58 1503.23 2539.58 1506.36 Q2539.58 1509.48 2541.48 1511.26 Q2543.4 1513.05 2546.74 1513.05 Q2550.07 1513.05 2551.99 1511.26 Q2553.91 1509.46 2553.91 1506.36 Q2553.91 1503.23 2551.99 1501.45 Q2550.09 1499.67 2546.74 1499.67 M2542.06 1497.68 Q2539.05 1496.94 2537.36 1494.88 Q2535.69 1492.82 2535.69 1489.85 Q2535.69 1485.71 2538.63 1483.3 Q2541.6 1480.89 2546.74 1480.89 Q2551.9 1480.89 2554.84 1483.3 Q2557.78 1485.71 2557.78 1489.85 Q2557.78 1492.82 2556.09 1494.88 Q2554.42 1496.94 2551.43 1497.68 Q2554.81 1498.46 2556.69 1500.75 Q2558.59 1503.05 2558.59 1506.36 Q2558.59 1511.38 2555.51 1514.06 Q2552.45 1516.75 2546.74 1516.75 Q2541.02 1516.75 2537.94 1514.06 Q2534.88 1511.38 2534.88 1506.36 Q2534.88 1503.05 2536.78 1500.75 Q2538.68 1498.46 2542.06 1497.68 M2540.35 1490.29 Q2540.35 1492.98 2542.01 1494.48 Q2543.7 1495.99 2546.74 1495.99 Q2549.74 1495.99 2551.43 1494.48 Q2553.15 1492.98 2553.15 1490.29 Q2553.15 1487.61 2551.43 1486.1 Q2549.74 1484.6 2546.74 1484.6 Q2543.7 1484.6 2542.01 1486.1 Q2540.35 1487.61 2540.35 1490.29 Z\" fill=\"#000000\" fill-rule=\"evenodd\" fill-opacity=\"1\" /><path clip-path=\"url(#clip8900)\" d=\"M 0 0 M2570.62 1481.52 L2574.56 1481.52 L2562.52 1520.48 L2558.59 1520.48 L2570.62 1481.52 Z\" fill=\"#000000\" fill-rule=\"evenodd\" fill-opacity=\"1\" /><path clip-path=\"url(#clip8900)\" d=\"M 0 0 M2583.66 1512.14 L2599.98 1512.14 L2599.98 1516.08 L2578.03 1516.08 L2578.03 1512.14 Q2580.69 1509.39 2585.28 1504.76 Q2589.88 1500.11 2591.06 1498.76 Q2593.31 1496.24 2594.19 1494.5 Q2595.09 1492.75 2595.09 1491.06 Q2595.09 1488.3 2593.15 1486.57 Q2591.23 1484.83 2588.12 1484.83 Q2585.93 1484.83 2583.47 1485.59 Q2581.04 1486.36 2578.26 1487.91 L2578.26 1483.19 Q2581.09 1482.05 2583.54 1481.47 Q2585.99 1480.89 2588.03 1480.89 Q2593.4 1480.89 2596.6 1483.58 Q2599.79 1486.26 2599.79 1490.75 Q2599.79 1492.88 2598.98 1494.81 Q2598.19 1496.7 2596.09 1499.3 Q2595.51 1499.97 2592.41 1503.19 Q2589.3 1506.38 2583.66 1512.14 Z\" fill=\"#000000\" fill-rule=\"evenodd\" fill-opacity=\"1\" /><path clip-path=\"url(#clip8900)\" d=\"M 0 0 M2615.05 1484.6 Q2611.43 1484.6 2609.61 1488.16 Q2607.8 1491.7 2607.8 1498.83 Q2607.8 1505.94 2609.61 1509.5 Q2611.43 1513.05 2615.05 1513.05 Q2618.68 1513.05 2620.49 1509.5 Q2622.31 1505.94 2622.31 1498.83 Q2622.31 1491.7 2620.49 1488.16 Q2618.68 1484.6 2615.05 1484.6 M2615.05 1480.89 Q2620.86 1480.89 2623.91 1485.5 Q2626.99 1490.08 2626.99 1498.83 Q2626.99 1507.56 2623.91 1512.17 Q2620.86 1516.75 2615.05 1516.75 Q2609.24 1516.75 2606.16 1512.17 Q2603.1 1507.56 2603.1 1498.83 Q2603.1 1490.08 2606.16 1485.5 Q2609.24 1480.89 2615.05 1480.89 Z\" fill=\"#000000\" fill-rule=\"evenodd\" fill-opacity=\"1\" /><path clip-path=\"url(#clip8900)\" d=\"M 0 0 M2728.11 1485.59 L2716.31 1504.04 L2728.11 1504.04 L2728.11 1485.59 M2726.89 1481.52 L2732.77 1481.52 L2732.77 1504.04 L2737.7 1504.04 L2737.7 1507.93 L2732.77 1507.93 L2732.77 1516.08 L2728.11 1516.08 L2728.11 1507.93 L2712.51 1507.93 L2712.51 1503.42 L2726.89 1481.52 Z\" fill=\"#000000\" fill-rule=\"evenodd\" fill-opacity=\"1\" /><path clip-path=\"url(#clip8900)\" d=\"M 0 0 M2749.73 1481.52 L2753.67 1481.52 L2741.63 1520.48 L2737.7 1520.48 L2749.73 1481.52 Z\" fill=\"#000000\" fill-rule=\"evenodd\" fill-opacity=\"1\" /><path clip-path=\"url(#clip8900)\" d=\"M 0 0 M2759.55 1512.14 L2767.19 1512.14 L2767.19 1485.78 L2758.88 1487.44 L2758.88 1483.19 L2767.14 1481.52 L2771.82 1481.52 L2771.82 1512.14 L2779.46 1512.14 L2779.46 1516.08 L2759.55 1516.08 L2759.55 1512.14 Z\" fill=\"#000000\" fill-rule=\"evenodd\" fill-opacity=\"1\" /><path clip-path=\"url(#clip8900)\" d=\"M 0 0 M2784.57 1481.52 L2802.93 1481.52 L2802.93 1485.45 L2788.85 1485.45 L2788.85 1493.93 Q2789.87 1493.58 2790.89 1493.42 Q2791.91 1493.23 2792.93 1493.23 Q2798.72 1493.23 2802.09 1496.4 Q2805.47 1499.57 2805.47 1504.99 Q2805.47 1510.57 2802 1513.67 Q2798.53 1516.75 2792.21 1516.75 Q2790.03 1516.75 2787.77 1516.38 Q2785.52 1516.01 2783.11 1515.27 L2783.11 1510.57 Q2785.2 1511.7 2787.42 1512.26 Q2789.64 1512.81 2792.12 1512.81 Q2796.12 1512.81 2798.46 1510.71 Q2800.8 1508.6 2800.8 1504.99 Q2800.8 1501.38 2798.46 1499.27 Q2796.12 1497.17 2792.12 1497.17 Q2790.24 1497.17 2788.37 1497.58 Q2786.52 1498 2784.57 1498.88 L2784.57 1481.52 Z\" fill=\"#000000\" fill-rule=\"evenodd\" fill-opacity=\"1\" /><path clip-path=\"url(#clip8900)\" d=\"M 0 0 M2817.51 1481.52 L2821.45 1481.52 L2809.41 1520.48 L2805.47 1520.48 L2817.51 1481.52 Z\" fill=\"#000000\" fill-rule=\"evenodd\" fill-opacity=\"1\" /><path clip-path=\"url(#clip8900)\" d=\"M 0 0 M2830.54 1512.14 L2846.86 1512.14 L2846.86 1516.08 L2824.92 1516.08 L2824.92 1512.14 Q2827.58 1509.39 2832.16 1504.76 Q2836.77 1500.11 2837.95 1498.76 Q2840.2 1496.24 2841.08 1494.5 Q2841.98 1492.75 2841.98 1491.06 Q2841.98 1488.3 2840.03 1486.57 Q2838.11 1484.83 2835.01 1484.83 Q2832.81 1484.83 2830.36 1485.59 Q2827.93 1486.36 2825.15 1487.91 L2825.15 1483.19 Q2827.97 1482.05 2830.43 1481.47 Q2832.88 1480.89 2834.92 1480.89 Q2840.29 1480.89 2843.48 1483.58 Q2846.68 1486.26 2846.68 1490.75 Q2846.68 1492.88 2845.87 1494.81 Q2845.08 1496.7 2842.97 1499.3 Q2842.4 1499.97 2839.29 1503.19 Q2836.19 1506.38 2830.54 1512.14 Z\" fill=\"#000000\" fill-rule=\"evenodd\" fill-opacity=\"1\" /><path clip-path=\"url(#clip8900)\" d=\"M 0 0 M2861.93 1484.6 Q2858.32 1484.6 2856.49 1488.16 Q2854.69 1491.7 2854.69 1498.83 Q2854.69 1505.94 2856.49 1509.5 Q2858.32 1513.05 2861.93 1513.05 Q2865.57 1513.05 2867.37 1509.5 Q2869.2 1505.94 2869.2 1498.83 Q2869.2 1491.7 2867.37 1488.16 Q2865.57 1484.6 2861.93 1484.6 M2861.93 1480.89 Q2867.74 1480.89 2870.8 1485.5 Q2873.88 1490.08 2873.88 1498.83 Q2873.88 1507.56 2870.8 1512.17 Q2867.74 1516.75 2861.93 1516.75 Q2856.12 1516.75 2853.04 1512.17 Q2849.99 1507.56 2849.99 1498.83 Q2849.99 1490.08 2853.04 1485.5 Q2856.12 1480.89 2861.93 1480.89 Z\" fill=\"#000000\" fill-rule=\"evenodd\" fill-opacity=\"1\" /><path clip-path=\"url(#clip8900)\" d=\"M 0 0 M2964.59 1496.94 Q2961.44 1496.94 2959.59 1499.09 Q2957.76 1501.24 2957.76 1504.99 Q2957.76 1508.72 2959.59 1510.89 Q2961.44 1513.05 2964.59 1513.05 Q2967.73 1513.05 2969.56 1510.89 Q2971.42 1508.72 2971.42 1504.99 Q2971.42 1501.24 2969.56 1499.09 Q2967.73 1496.94 2964.59 1496.94 M2973.87 1482.28 L2973.87 1486.54 Q2972.11 1485.71 2970.3 1485.27 Q2968.52 1484.83 2966.76 1484.83 Q2962.13 1484.83 2959.68 1487.95 Q2957.25 1491.08 2956.9 1497.4 Q2958.27 1495.38 2960.33 1494.32 Q2962.39 1493.23 2964.86 1493.23 Q2970.07 1493.23 2973.08 1496.4 Q2976.11 1499.55 2976.11 1504.99 Q2976.11 1510.31 2972.97 1513.53 Q2969.82 1516.75 2964.59 1516.75 Q2958.59 1516.75 2955.42 1512.17 Q2952.25 1507.56 2952.25 1498.83 Q2952.25 1490.64 2956.14 1485.78 Q2960.03 1480.89 2966.58 1480.89 Q2968.34 1480.89 2970.12 1481.24 Q2971.92 1481.59 2973.87 1482.28 Z\" fill=\"#000000\" fill-rule=\"evenodd\" fill-opacity=\"1\" /><path clip-path=\"url(#clip8900)\" d=\"M 0 0 M2988.15 1481.52 L2992.09 1481.52 L2980.05 1520.48 L2976.11 1520.48 L2988.15 1481.52 Z\" fill=\"#000000\" fill-rule=\"evenodd\" fill-opacity=\"1\" /><path clip-path=\"url(#clip8900)\" d=\"M 0 0 M2997.97 1512.14 L3005.61 1512.14 L3005.61 1485.78 L2997.29 1487.44 L2997.29 1483.19 L3005.56 1481.52 L3010.23 1481.52 L3010.23 1512.14 L3017.87 1512.14 L3017.87 1516.08 L2997.97 1516.08 L2997.97 1512.14 Z\" fill=\"#000000\" fill-rule=\"evenodd\" fill-opacity=\"1\" /><path clip-path=\"url(#clip8900)\" d=\"M 0 0 M3032.94 1484.6 Q3029.33 1484.6 3027.5 1488.16 Q3025.7 1491.7 3025.7 1498.83 Q3025.7 1505.94 3027.5 1509.5 Q3029.33 1513.05 3032.94 1513.05 Q3036.58 1513.05 3038.38 1509.5 Q3040.21 1505.94 3040.21 1498.83 Q3040.21 1491.7 3038.38 1488.16 Q3036.58 1484.6 3032.94 1484.6 M3032.94 1480.89 Q3038.75 1480.89 3041.81 1485.5 Q3044.89 1490.08 3044.89 1498.83 Q3044.89 1507.56 3041.81 1512.17 Q3038.75 1516.75 3032.94 1516.75 Q3027.13 1516.75 3024.05 1512.17 Q3021 1507.56 3021 1498.83 Q3021 1490.08 3024.05 1485.5 Q3027.13 1480.89 3032.94 1480.89 Z\" fill=\"#000000\" fill-rule=\"evenodd\" fill-opacity=\"1\" /><path clip-path=\"url(#clip8900)\" d=\"M 0 0 M3056.92 1481.52 L3060.86 1481.52 L3048.82 1520.48 L3044.89 1520.48 L3056.92 1481.52 Z\" fill=\"#000000\" fill-rule=\"evenodd\" fill-opacity=\"1\" /><path clip-path=\"url(#clip8900)\" d=\"M 0 0 M3069.96 1512.14 L3086.28 1512.14 L3086.28 1516.08 L3064.33 1516.08 L3064.33 1512.14 Q3066.99 1509.39 3071.58 1504.76 Q3076.18 1500.11 3077.36 1498.76 Q3079.61 1496.24 3080.49 1494.5 Q3081.39 1492.75 3081.39 1491.06 Q3081.39 1488.3 3079.45 1486.57 Q3077.53 1484.83 3074.42 1484.83 Q3072.23 1484.83 3069.77 1485.59 Q3067.34 1486.36 3064.56 1487.91 L3064.56 1483.19 Q3067.39 1482.05 3069.84 1481.47 Q3072.29 1480.89 3074.33 1480.89 Q3079.7 1480.89 3082.9 1483.58 Q3086.09 1486.26 3086.09 1490.75 Q3086.09 1492.88 3085.28 1494.81 Q3084.49 1496.7 3082.39 1499.3 Q3081.81 1499.97 3078.71 1503.19 Q3075.6 1506.38 3069.96 1512.14 Z\" fill=\"#000000\" fill-rule=\"evenodd\" fill-opacity=\"1\" /><path clip-path=\"url(#clip8900)\" d=\"M 0 0 M3101.35 1484.6 Q3097.73 1484.6 3095.91 1488.16 Q3094.1 1491.7 3094.1 1498.83 Q3094.1 1505.94 3095.91 1509.5 Q3097.73 1513.05 3101.35 1513.05 Q3104.98 1513.05 3106.79 1509.5 Q3108.61 1505.94 3108.61 1498.83 Q3108.61 1491.7 3106.79 1488.16 Q3104.98 1484.6 3101.35 1484.6 M3101.35 1480.89 Q3107.16 1480.89 3110.21 1485.5 Q3113.29 1490.08 3113.29 1498.83 Q3113.29 1507.56 3110.21 1512.17 Q3107.16 1516.75 3101.35 1516.75 Q3095.54 1516.75 3092.46 1512.17 Q3089.4 1507.56 3089.4 1498.83 Q3089.4 1490.08 3092.46 1485.5 Q3095.54 1480.89 3101.35 1480.89 Z\" fill=\"#000000\" fill-rule=\"evenodd\" fill-opacity=\"1\" /><path clip-path=\"url(#clip8900)\" d=\"M 0 0 M3222.71 1499.67 Q3219.38 1499.67 3217.46 1501.45 Q3215.56 1503.23 3215.56 1506.36 Q3215.56 1509.48 3217.46 1511.26 Q3219.38 1513.05 3222.71 1513.05 Q3226.05 1513.05 3227.97 1511.26 Q3229.89 1509.46 3229.89 1506.36 Q3229.89 1503.23 3227.97 1501.45 Q3226.07 1499.67 3222.71 1499.67 M3218.04 1497.68 Q3215.03 1496.94 3213.34 1494.88 Q3211.67 1492.82 3211.67 1489.85 Q3211.67 1485.71 3214.61 1483.3 Q3217.57 1480.89 3222.71 1480.89 Q3227.87 1480.89 3230.81 1483.3 Q3233.75 1485.71 3233.75 1489.85 Q3233.75 1492.82 3232.06 1494.88 Q3230.4 1496.94 3227.41 1497.68 Q3230.79 1498.46 3232.67 1500.75 Q3234.56 1503.05 3234.56 1506.36 Q3234.56 1511.38 3231.49 1514.06 Q3228.43 1516.75 3222.71 1516.75 Q3216.99 1516.75 3213.92 1514.06 Q3210.86 1511.38 3210.86 1506.36 Q3210.86 1503.05 3212.76 1500.75 Q3214.66 1498.46 3218.04 1497.68 M3216.32 1490.29 Q3216.32 1492.98 3217.99 1494.48 Q3219.68 1495.99 3222.71 1495.99 Q3225.72 1495.99 3227.41 1494.48 Q3229.12 1492.98 3229.12 1490.29 Q3229.12 1487.61 3227.41 1486.1 Q3225.72 1484.6 3222.71 1484.6 Q3219.68 1484.6 3217.99 1486.1 Q3216.32 1487.61 3216.32 1490.29 Z\" fill=\"#000000\" fill-rule=\"evenodd\" fill-opacity=\"1\" /><path clip-path=\"url(#clip8900)\" d=\"M 0 0 M3246.6 1481.52 L3250.54 1481.52 L3238.5 1520.48 L3234.56 1520.48 L3246.6 1481.52 Z\" fill=\"#000000\" fill-rule=\"evenodd\" fill-opacity=\"1\" /><path clip-path=\"url(#clip8900)\" d=\"M 0 0 M3266.18 1496.94 Q3263.04 1496.94 3261.18 1499.09 Q3259.36 1501.24 3259.36 1504.99 Q3259.36 1508.72 3261.18 1510.89 Q3263.04 1513.05 3266.18 1513.05 Q3269.33 1513.05 3271.16 1510.89 Q3273.01 1508.72 3273.01 1504.99 Q3273.01 1501.24 3271.16 1499.09 Q3269.33 1496.94 3266.18 1496.94 M3275.47 1482.28 L3275.47 1486.54 Q3273.71 1485.71 3271.9 1485.27 Q3270.12 1484.83 3268.36 1484.83 Q3263.73 1484.83 3261.28 1487.95 Q3258.85 1491.08 3258.5 1497.4 Q3259.86 1495.38 3261.92 1494.32 Q3263.98 1493.23 3266.46 1493.23 Q3271.67 1493.23 3274.68 1496.4 Q3277.71 1499.55 3277.71 1504.99 Q3277.71 1510.31 3274.56 1513.53 Q3271.42 1516.75 3266.18 1516.75 Q3260.19 1516.75 3257.02 1512.17 Q3253.85 1507.56 3253.85 1498.83 Q3253.85 1490.64 3257.73 1485.78 Q3261.62 1480.89 3268.17 1480.89 Q3269.93 1480.89 3271.72 1481.24 Q3273.52 1481.59 3275.47 1482.28 Z\" fill=\"#000000\" fill-rule=\"evenodd\" fill-opacity=\"1\" /><path clip-path=\"url(#clip8900)\" d=\"M 0 0 M3289.75 1481.52 L3293.68 1481.52 L3281.65 1520.48 L3277.71 1520.48 L3289.75 1481.52 Z\" fill=\"#000000\" fill-rule=\"evenodd\" fill-opacity=\"1\" /><path clip-path=\"url(#clip8900)\" d=\"M 0 0 M3302.78 1512.14 L3319.1 1512.14 L3319.1 1516.08 L3297.16 1516.08 L3297.16 1512.14 Q3299.82 1509.39 3304.4 1504.76 Q3309.01 1500.11 3310.19 1498.76 Q3312.43 1496.24 3313.31 1494.5 Q3314.22 1492.75 3314.22 1491.06 Q3314.22 1488.3 3312.27 1486.57 Q3310.35 1484.83 3307.25 1484.83 Q3305.05 1484.83 3302.6 1485.59 Q3300.17 1486.36 3297.39 1487.91 L3297.39 1483.19 Q3300.21 1482.05 3302.67 1481.47 Q3305.12 1480.89 3307.16 1480.89 Q3312.53 1480.89 3315.72 1483.58 Q3318.92 1486.26 3318.92 1490.75 Q3318.92 1492.88 3318.1 1494.81 Q3317.32 1496.7 3315.21 1499.3 Q3314.63 1499.97 3311.53 1503.19 Q3308.43 1506.38 3302.78 1512.14 Z\" fill=\"#000000\" fill-rule=\"evenodd\" fill-opacity=\"1\" /><path clip-path=\"url(#clip8900)\" d=\"M 0 0 M3334.17 1484.6 Q3330.56 1484.6 3328.73 1488.16 Q3326.92 1491.7 3326.92 1498.83 Q3326.92 1505.94 3328.73 1509.5 Q3330.56 1513.05 3334.17 1513.05 Q3337.8 1513.05 3339.61 1509.5 Q3341.44 1505.94 3341.44 1498.83 Q3341.44 1491.7 3339.61 1488.16 Q3337.8 1484.6 3334.17 1484.6 M3334.17 1480.89 Q3339.98 1480.89 3343.04 1485.5 Q3346.11 1490.08 3346.11 1498.83 Q3346.11 1507.56 3343.04 1512.17 Q3339.98 1516.75 3334.17 1516.75 Q3328.36 1516.75 3325.28 1512.17 Q3322.23 1507.56 3322.23 1498.83 Q3322.23 1490.08 3325.28 1485.5 Q3328.36 1480.89 3334.17 1480.89 Z\" fill=\"#000000\" fill-rule=\"evenodd\" fill-opacity=\"1\" /><path clip-path=\"url(#clip8900)\" d=\"M 0 0 M3446.18 1512.14 L3453.82 1512.14 L3453.82 1485.78 L3445.51 1487.44 L3445.51 1483.19 L3453.78 1481.52 L3458.45 1481.52 L3458.45 1512.14 L3466.09 1512.14 L3466.09 1516.08 L3446.18 1516.08 L3446.18 1512.14 Z\" fill=\"#000000\" fill-rule=\"evenodd\" fill-opacity=\"1\" /><path clip-path=\"url(#clip8900)\" d=\"M 0 0 M3481.16 1484.6 Q3477.55 1484.6 3475.72 1488.16 Q3473.92 1491.7 3473.92 1498.83 Q3473.92 1505.94 3475.72 1509.5 Q3477.55 1513.05 3481.16 1513.05 Q3484.8 1513.05 3486.6 1509.5 Q3488.43 1505.94 3488.43 1498.83 Q3488.43 1491.7 3486.6 1488.16 Q3484.8 1484.6 3481.16 1484.6 M3481.16 1480.89 Q3486.97 1480.89 3490.03 1485.5 Q3493.11 1490.08 3493.11 1498.83 Q3493.11 1507.56 3490.03 1512.17 Q3486.97 1516.75 3481.16 1516.75 Q3475.35 1516.75 3472.27 1512.17 Q3469.22 1507.56 3469.22 1498.83 Q3469.22 1490.08 3472.27 1485.5 Q3475.35 1480.89 3481.16 1480.89 Z\" fill=\"#000000\" fill-rule=\"evenodd\" fill-opacity=\"1\" /><path clip-path=\"url(#clip8900)\" d=\"M 0 0 M3505.14 1481.52 L3509.08 1481.52 L3497.04 1520.48 L3493.11 1520.48 L3505.14 1481.52 Z\" fill=\"#000000\" fill-rule=\"evenodd\" fill-opacity=\"1\" /><path clip-path=\"url(#clip8900)\" d=\"M 0 0 M3518.17 1512.14 L3534.49 1512.14 L3534.49 1516.08 L3512.55 1516.08 L3512.55 1512.14 Q3515.21 1509.39 3519.8 1504.76 Q3524.4 1500.11 3525.58 1498.76 Q3527.83 1496.24 3528.71 1494.5 Q3529.61 1492.75 3529.61 1491.06 Q3529.61 1488.3 3527.67 1486.57 Q3525.74 1484.83 3522.64 1484.83 Q3520.44 1484.83 3517.99 1485.59 Q3515.56 1486.36 3512.78 1487.91 L3512.78 1483.19 Q3515.61 1482.05 3518.06 1481.47 Q3520.51 1480.89 3522.55 1480.89 Q3527.92 1480.89 3531.11 1483.58 Q3534.31 1486.26 3534.31 1490.75 Q3534.31 1492.88 3533.5 1494.81 Q3532.71 1496.7 3530.61 1499.3 Q3530.03 1499.97 3526.92 1503.19 Q3523.82 1506.38 3518.17 1512.14 Z\" fill=\"#000000\" fill-rule=\"evenodd\" fill-opacity=\"1\" /><path clip-path=\"url(#clip8900)\" d=\"M 0 0 M3546.53 1481.52 L3550.47 1481.52 L3538.43 1520.48 L3534.49 1520.48 L3546.53 1481.52 Z\" fill=\"#000000\" fill-rule=\"evenodd\" fill-opacity=\"1\" /><path clip-path=\"url(#clip8900)\" d=\"M 0 0 M3559.56 1512.14 L3575.88 1512.14 L3575.88 1516.08 L3553.94 1516.08 L3553.94 1512.14 Q3556.6 1509.39 3561.18 1504.76 Q3565.79 1500.11 3566.97 1498.76 Q3569.22 1496.24 3570.1 1494.5 Q3571 1492.75 3571 1491.06 Q3571 1488.3 3569.05 1486.57 Q3567.13 1484.83 3564.03 1484.83 Q3561.83 1484.83 3559.38 1485.59 Q3556.95 1486.36 3554.17 1487.91 L3554.17 1483.19 Q3556.99 1482.05 3559.45 1481.47 Q3561.9 1480.89 3563.94 1480.89 Q3569.31 1480.89 3572.5 1483.58 Q3575.7 1486.26 3575.7 1490.75 Q3575.7 1492.88 3574.89 1494.81 Q3574.1 1496.7 3571.99 1499.3 Q3571.42 1499.97 3568.31 1503.19 Q3565.21 1506.38 3559.56 1512.14 Z\" fill=\"#000000\" fill-rule=\"evenodd\" fill-opacity=\"1\" /><path clip-path=\"url(#clip8900)\" d=\"M 0 0 M3590.95 1484.6 Q3587.34 1484.6 3585.51 1488.16 Q3583.71 1491.7 3583.71 1498.83 Q3583.71 1505.94 3585.51 1509.5 Q3587.34 1513.05 3590.95 1513.05 Q3594.59 1513.05 3596.39 1509.5 Q3598.22 1505.94 3598.22 1498.83 Q3598.22 1491.7 3596.39 1488.16 Q3594.59 1484.6 3590.95 1484.6 M3590.95 1480.89 Q3596.76 1480.89 3599.82 1485.5 Q3602.9 1490.08 3602.9 1498.83 Q3602.9 1507.56 3599.82 1512.17 Q3596.76 1516.75 3590.95 1516.75 Q3585.14 1516.75 3582.06 1512.17 Q3579.01 1507.56 3579.01 1498.83 Q3579.01 1490.08 3582.06 1485.5 Q3585.14 1480.89 3590.95 1480.89 Z\" fill=\"#000000\" fill-rule=\"evenodd\" fill-opacity=\"1\" /><path clip-path=\"url(#clip8900)\" d=\"M 0 0 M3678.53 1512.14 L3686.17 1512.14 L3686.17 1485.78 L3677.86 1487.44 L3677.86 1483.19 L3686.13 1481.52 L3690.8 1481.52 L3690.8 1512.14 L3698.44 1512.14 L3698.44 1516.08 L3678.53 1516.08 L3678.53 1512.14 Z\" fill=\"#000000\" fill-rule=\"evenodd\" fill-opacity=\"1\" /><path clip-path=\"url(#clip8900)\" d=\"M 0 0 M3704.32 1512.14 L3711.96 1512.14 L3711.96 1485.78 L3703.65 1487.44 L3703.65 1483.19 L3711.91 1481.52 L3716.59 1481.52 L3716.59 1512.14 L3724.23 1512.14 L3724.23 1516.08 L3704.32 1516.08 L3704.32 1512.14 Z\" fill=\"#000000\" fill-rule=\"evenodd\" fill-opacity=\"1\" /><path clip-path=\"url(#clip8900)\" d=\"M 0 0 M3736.27 1481.52 L3740.2 1481.52 L3728.16 1520.48 L3724.23 1520.48 L3736.27 1481.52 Z\" fill=\"#000000\" fill-rule=\"evenodd\" fill-opacity=\"1\" /><path clip-path=\"url(#clip8900)\" d=\"M 0 0 M3759.44 1497.44 Q3762.79 1498.16 3764.67 1500.43 Q3766.57 1502.7 3766.57 1506.03 Q3766.57 1511.15 3763.05 1513.95 Q3759.53 1516.75 3753.05 1516.75 Q3750.87 1516.75 3748.56 1516.31 Q3746.27 1515.89 3743.81 1515.04 L3743.81 1510.52 Q3745.76 1511.66 3748.07 1512.24 Q3750.39 1512.81 3752.91 1512.81 Q3757.31 1512.81 3759.6 1511.08 Q3761.91 1509.34 3761.91 1506.03 Q3761.91 1502.98 3759.76 1501.26 Q3757.63 1499.53 3753.81 1499.53 L3749.78 1499.53 L3749.78 1495.69 L3754 1495.69 Q3757.45 1495.69 3759.27 1494.32 Q3761.1 1492.93 3761.1 1490.34 Q3761.1 1487.68 3759.21 1486.26 Q3757.33 1484.83 3753.81 1484.83 Q3751.89 1484.83 3749.69 1485.25 Q3747.49 1485.66 3744.85 1486.54 L3744.85 1482.38 Q3747.52 1481.63 3749.83 1481.26 Q3752.17 1480.89 3754.23 1480.89 Q3759.55 1480.89 3762.65 1483.32 Q3765.76 1485.73 3765.76 1489.85 Q3765.76 1492.72 3764.11 1494.71 Q3762.47 1496.68 3759.44 1497.44 Z\" fill=\"#000000\" fill-rule=\"evenodd\" fill-opacity=\"1\" /><path clip-path=\"url(#clip8900)\" d=\"M 0 0 M3781.64 1484.6 Q3778.02 1484.6 3776.2 1488.16 Q3774.39 1491.7 3774.39 1498.83 Q3774.39 1505.94 3776.2 1509.5 Q3778.02 1513.05 3781.64 1513.05 Q3785.27 1513.05 3787.08 1509.5 Q3788.9 1505.94 3788.9 1498.83 Q3788.9 1491.7 3787.08 1488.16 Q3785.27 1484.6 3781.64 1484.6 M3781.64 1480.89 Q3787.45 1480.89 3790.5 1485.5 Q3793.58 1490.08 3793.58 1498.83 Q3793.58 1507.56 3790.5 1512.17 Q3787.45 1516.75 3781.64 1516.75 Q3775.83 1516.75 3772.75 1512.17 Q3769.69 1507.56 3769.69 1498.83 Q3769.69 1490.08 3772.75 1485.5 Q3775.83 1480.89 3781.64 1480.89 Z\" fill=\"#000000\" fill-rule=\"evenodd\" fill-opacity=\"1\" /><path clip-path=\"url(#clip8900)\" d=\"M 0 0 M3805.62 1481.52 L3809.55 1481.52 L3797.52 1520.48 L3793.58 1520.48 L3805.62 1481.52 Z\" fill=\"#000000\" fill-rule=\"evenodd\" fill-opacity=\"1\" /><path clip-path=\"url(#clip8900)\" d=\"M 0 0 M3818.65 1512.14 L3834.97 1512.14 L3834.97 1516.08 L3813.02 1516.08 L3813.02 1512.14 Q3815.69 1509.39 3820.27 1504.76 Q3824.88 1500.11 3826.06 1498.76 Q3828.3 1496.24 3829.18 1494.5 Q3830.08 1492.75 3830.08 1491.06 Q3830.08 1488.3 3828.14 1486.57 Q3826.22 1484.83 3823.12 1484.83 Q3820.92 1484.83 3818.46 1485.59 Q3816.03 1486.36 3813.26 1487.91 L3813.26 1483.19 Q3816.08 1482.05 3818.53 1481.47 Q3820.99 1480.89 3823.02 1480.89 Q3828.39 1480.89 3831.59 1483.58 Q3834.78 1486.26 3834.78 1490.75 Q3834.78 1492.88 3833.97 1494.81 Q3833.19 1496.7 3831.08 1499.3 Q3830.5 1499.97 3827.4 1503.19 Q3824.3 1506.38 3818.65 1512.14 Z\" fill=\"#000000\" fill-rule=\"evenodd\" fill-opacity=\"1\" /><path clip-path=\"url(#clip8900)\" d=\"M 0 0 M3850.04 1484.6 Q3846.43 1484.6 3844.6 1488.16 Q3842.79 1491.7 3842.79 1498.83 Q3842.79 1505.94 3844.6 1509.5 Q3846.43 1513.05 3850.04 1513.05 Q3853.67 1513.05 3855.48 1509.5 Q3857.31 1505.94 3857.31 1498.83 Q3857.31 1491.7 3855.48 1488.16 Q3853.67 1484.6 3850.04 1484.6 M3850.04 1480.89 Q3855.85 1480.89 3858.9 1485.5 Q3861.98 1490.08 3861.98 1498.83 Q3861.98 1507.56 3858.9 1512.17 Q3855.85 1516.75 3850.04 1516.75 Q3844.23 1516.75 3841.15 1512.17 Q3838.09 1507.56 3838.09 1498.83 Q3838.09 1490.08 3841.15 1485.5 Q3844.23 1480.89 3850.04 1480.89 Z\" fill=\"#000000\" fill-rule=\"evenodd\" fill-opacity=\"1\" /><path clip-path=\"url(#clip8900)\" d=\"M 0 0 M107.834 1271.73 L120.311 1271.73 L120.311 1275.53 L107.834 1275.53 L107.834 1271.73 Z\" fill=\"#000000\" fill-rule=\"evenodd\" fill-opacity=\"1\" /><path clip-path=\"url(#clip8900)\" d=\"M 0 0 M126.19 1282.68 L133.829 1282.68 L133.829 1256.32 L125.519 1257.98 L125.519 1253.72 L133.783 1252.06 L138.459 1252.06 L138.459 1282.68 L146.098 1282.68 L146.098 1286.62 L126.19 1286.62 L126.19 1282.68 Z\" fill=\"#000000\" fill-rule=\"evenodd\" fill-opacity=\"1\" /><path clip-path=\"url(#clip8900)\" d=\"M 0 0 M161.167 1255.13 Q157.556 1255.13 155.727 1258.7 Q153.922 1262.24 153.922 1269.37 Q153.922 1276.48 155.727 1280.04 Q157.556 1283.58 161.167 1283.58 Q164.801 1283.58 166.607 1280.04 Q168.436 1276.48 168.436 1269.37 Q168.436 1262.24 166.607 1258.7 Q164.801 1255.13 161.167 1255.13 M161.167 1251.43 Q166.977 1251.43 170.033 1256.04 Q173.111 1260.62 173.111 1269.37 Q173.111 1278.1 170.033 1282.7 Q166.977 1287.29 161.167 1287.29 Q155.357 1287.29 152.278 1282.7 Q149.223 1278.1 149.223 1269.37 Q149.223 1260.62 152.278 1256.04 Q155.357 1251.43 161.167 1251.43 Z\" fill=\"#000000\" fill-rule=\"evenodd\" fill-opacity=\"1\" /><path clip-path=\"url(#clip8900)\" d=\"M 0 0 M188.181 1255.13 Q184.57 1255.13 182.741 1258.7 Q180.935 1262.24 180.935 1269.37 Q180.935 1276.48 182.741 1280.04 Q184.57 1283.58 188.181 1283.58 Q191.815 1283.58 193.621 1280.04 Q195.449 1276.48 195.449 1269.37 Q195.449 1262.24 193.621 1258.7 Q191.815 1255.13 188.181 1255.13 M188.181 1251.43 Q193.991 1251.43 197.047 1256.04 Q200.125 1260.62 200.125 1269.37 Q200.125 1278.1 197.047 1282.7 Q193.991 1287.29 188.181 1287.29 Q182.371 1287.29 179.292 1282.7 Q176.236 1278.1 176.236 1269.37 Q176.236 1260.62 179.292 1256.04 Q182.371 1251.43 188.181 1251.43 Z\" fill=\"#000000\" fill-rule=\"evenodd\" fill-opacity=\"1\" /><path clip-path=\"url(#clip8900)\" d=\"M 0 0 M134.616 1011.32 L147.093 1011.32 L147.093 1015.12 L134.616 1015.12 L134.616 1011.32 Z\" fill=\"#000000\" fill-rule=\"evenodd\" fill-opacity=\"1\" /><path clip-path=\"url(#clip8900)\" d=\"M 0 0 M152.209 991.649 L170.565 991.649 L170.565 995.584 L156.491 995.584 L156.491 1004.06 Q157.51 1003.71 158.528 1003.55 Q159.547 1003.36 160.565 1003.36 Q166.352 1003.36 169.732 1006.53 Q173.111 1009.7 173.111 1015.12 Q173.111 1020.7 169.639 1023.8 Q166.167 1026.88 159.848 1026.88 Q157.672 1026.88 155.403 1026.51 Q153.158 1026.14 150.75 1025.4 L150.75 1020.7 Q152.834 1021.83 155.056 1022.39 Q157.278 1022.94 159.755 1022.94 Q163.76 1022.94 166.098 1020.84 Q168.436 1018.73 168.436 1015.12 Q168.436 1011.51 166.098 1009.4 Q163.76 1007.3 159.755 1007.3 Q157.88 1007.3 156.005 1007.71 Q154.153 1008.13 152.209 1009.01 L152.209 991.649 Z\" fill=\"#000000\" fill-rule=\"evenodd\" fill-opacity=\"1\" /><path clip-path=\"url(#clip8900)\" d=\"M 0 0 M188.181 994.728 Q184.57 994.728 182.741 998.292 Q180.935 1001.83 180.935 1008.96 Q180.935 1016.07 182.741 1019.63 Q184.57 1023.18 188.181 1023.18 Q191.815 1023.18 193.621 1019.63 Q195.449 1016.07 195.449 1008.96 Q195.449 1001.83 193.621 998.292 Q191.815 994.728 188.181 994.728 M188.181 991.024 Q193.991 991.024 197.047 995.63 Q200.125 1000.21 200.125 1008.96 Q200.125 1017.69 197.047 1022.3 Q193.991 1026.88 188.181 1026.88 Q182.371 1026.88 179.292 1022.3 Q176.236 1017.69 176.236 1008.96 Q176.236 1000.21 179.292 995.63 Q182.371 991.024 188.181 991.024 Z\" fill=\"#000000\" fill-rule=\"evenodd\" fill-opacity=\"1\" /><path clip-path=\"url(#clip8900)\" d=\"M 0 0 M188.181 734.32 Q184.57 734.32 182.741 737.885 Q180.935 741.426 180.935 748.556 Q180.935 755.663 182.741 759.227 Q184.57 762.769 188.181 762.769 Q191.815 762.769 193.621 759.227 Q195.449 755.663 195.449 748.556 Q195.449 741.426 193.621 737.885 Q191.815 734.32 188.181 734.32 M188.181 730.616 Q193.991 730.616 197.047 735.223 Q200.125 739.806 200.125 748.556 Q200.125 757.283 197.047 761.889 Q193.991 766.473 188.181 766.473 Q182.371 766.473 179.292 761.889 Q176.236 757.283 176.236 748.556 Q176.236 739.806 179.292 735.223 Q182.371 730.616 188.181 730.616 Z\" fill=\"#000000\" fill-rule=\"evenodd\" fill-opacity=\"1\" /><path clip-path=\"url(#clip8900)\" d=\"M 0 0 M152.209 470.834 L170.565 470.834 L170.565 474.769 L156.491 474.769 L156.491 483.241 Q157.51 482.894 158.528 482.732 Q159.547 482.547 160.565 482.547 Q166.352 482.547 169.732 485.718 Q173.111 488.889 173.111 494.306 Q173.111 499.885 169.639 502.987 Q166.167 506.065 159.848 506.065 Q157.672 506.065 155.403 505.695 Q153.158 505.324 150.75 504.584 L150.75 499.885 Q152.834 501.019 155.056 501.574 Q157.278 502.13 159.755 502.13 Q163.76 502.13 166.098 500.024 Q168.436 497.917 168.436 494.306 Q168.436 490.695 166.098 488.588 Q163.76 486.482 159.755 486.482 Q157.88 486.482 156.005 486.899 Q154.153 487.315 152.209 488.195 L152.209 470.834 Z\" fill=\"#000000\" fill-rule=\"evenodd\" fill-opacity=\"1\" /><path clip-path=\"url(#clip8900)\" d=\"M 0 0 M188.181 473.913 Q184.57 473.913 182.741 477.477 Q180.935 481.019 180.935 488.149 Q180.935 495.255 182.741 498.82 Q184.57 502.362 188.181 502.362 Q191.815 502.362 193.621 498.82 Q195.449 495.255 195.449 488.149 Q195.449 481.019 193.621 477.477 Q191.815 473.913 188.181 473.913 M188.181 470.209 Q193.991 470.209 197.047 474.815 Q200.125 479.399 200.125 488.149 Q200.125 496.875 197.047 501.482 Q193.991 506.065 188.181 506.065 Q182.371 506.065 179.292 501.482 Q176.236 496.875 176.236 488.149 Q176.236 479.399 179.292 474.815 Q182.371 470.209 188.181 470.209 Z\" fill=\"#000000\" fill-rule=\"evenodd\" fill-opacity=\"1\" /><path clip-path=\"url(#clip8900)\" d=\"M 0 0 M126.19 241.051 L133.829 241.051 L133.829 214.686 L125.519 216.352 L125.519 212.093 L133.783 210.426 L138.459 210.426 L138.459 241.051 L146.098 241.051 L146.098 244.986 L126.19 244.986 L126.19 241.051 Z\" fill=\"#000000\" fill-rule=\"evenodd\" fill-opacity=\"1\" /><path clip-path=\"url(#clip8900)\" d=\"M 0 0 M161.167 213.505 Q157.556 213.505 155.727 217.07 Q153.922 220.612 153.922 227.741 Q153.922 234.848 155.727 238.412 Q157.556 241.954 161.167 241.954 Q164.801 241.954 166.607 238.412 Q168.436 234.848 168.436 227.741 Q168.436 220.612 166.607 217.07 Q164.801 213.505 161.167 213.505 M161.167 209.801 Q166.977 209.801 170.033 214.408 Q173.111 218.991 173.111 227.741 Q173.111 236.468 170.033 241.074 Q166.977 245.658 161.167 245.658 Q155.357 245.658 152.278 241.074 Q149.223 236.468 149.223 227.741 Q149.223 218.991 152.278 214.408 Q155.357 209.801 161.167 209.801 Z\" fill=\"#000000\" fill-rule=\"evenodd\" fill-opacity=\"1\" /><path clip-path=\"url(#clip8900)\" d=\"M 0 0 M188.181 213.505 Q184.57 213.505 182.741 217.07 Q180.935 220.612 180.935 227.741 Q180.935 234.848 182.741 238.412 Q184.57 241.954 188.181 241.954 Q191.815 241.954 193.621 238.412 Q195.449 234.848 195.449 227.741 Q195.449 220.612 193.621 217.07 Q191.815 213.505 188.181 213.505 M188.181 209.801 Q193.991 209.801 197.047 214.408 Q200.125 218.991 200.125 227.741 Q200.125 236.468 197.047 241.074 Q193.991 245.658 188.181 245.658 Q182.371 245.658 179.292 241.074 Q176.236 236.468 176.236 227.741 Q176.236 218.991 179.292 214.408 Q182.371 209.801 188.181 209.801 Z\" fill=\"#000000\" fill-rule=\"evenodd\" fill-opacity=\"1\" /><path clip-path=\"url(#clip8900)\" d=\"M 0 0 M2001.8 1557.3 L2001.8 1567.42 L2013.87 1567.42 L2013.87 1571.97 L2001.8 1571.97 L2001.8 1591.33 Q2001.8 1595.69 2002.98 1596.93 Q2004.19 1598.17 2007.85 1598.17 L2013.87 1598.17 L2013.87 1603.07 L2007.85 1603.07 Q2001.07 1603.07 1998.49 1600.56 Q1995.92 1598.01 1995.92 1591.33 L1995.92 1571.97 L1991.62 1571.97 L1991.62 1567.42 L1995.92 1567.42 L1995.92 1557.3 L2001.8 1557.3 Z\" fill=\"#000000\" fill-rule=\"evenodd\" fill-opacity=\"1\" /><path clip-path=\"url(#clip8900)\" d=\"M 0 0 M2020.01 1567.42 L2025.87 1567.42 L2025.87 1603.07 L2020.01 1603.07 L2020.01 1567.42 M2020.01 1553.55 L2025.87 1553.55 L2025.87 1560.96 L2020.01 1560.96 L2020.01 1553.55 Z\" fill=\"#000000\" fill-rule=\"evenodd\" fill-opacity=\"1\" /><path clip-path=\"url(#clip8900)\" d=\"M 0 0 M2059.76 1574.27 Q2061.96 1570.32 2065.02 1568.44 Q2068.07 1566.56 2072.21 1566.56 Q2077.78 1566.56 2080.8 1570.48 Q2083.83 1574.36 2083.83 1581.55 L2083.83 1603.07 L2077.94 1603.07 L2077.94 1581.75 Q2077.94 1576.62 2076.12 1574.14 Q2074.31 1571.66 2070.59 1571.66 Q2066.03 1571.66 2063.39 1574.68 Q2060.75 1577.7 2060.75 1582.92 L2060.75 1603.07 L2054.86 1603.07 L2054.86 1581.75 Q2054.86 1576.59 2053.05 1574.14 Q2051.23 1571.66 2047.45 1571.66 Q2042.96 1571.66 2040.32 1574.71 Q2037.68 1577.74 2037.68 1582.92 L2037.68 1603.07 L2031.79 1603.07 L2031.79 1567.42 L2037.68 1567.42 L2037.68 1572.96 Q2039.68 1569.68 2042.48 1568.12 Q2045.28 1566.56 2049.13 1566.56 Q2053.02 1566.56 2055.72 1568.54 Q2058.46 1570.51 2059.76 1574.27 Z\" fill=\"#000000\" fill-rule=\"evenodd\" fill-opacity=\"1\" /><path clip-path=\"url(#clip8900)\" d=\"M 0 0 M2120.46 1583.78 L2120.46 1586.65 L2093.53 1586.65 Q2093.92 1592.69 2097.16 1595.88 Q2100.44 1599.03 2106.27 1599.03 Q2109.64 1599.03 2112.79 1598.2 Q2115.97 1597.37 2119.09 1595.72 L2119.09 1601.26 Q2115.94 1602.59 2112.63 1603.29 Q2109.32 1603.99 2105.92 1603.99 Q2097.39 1603.99 2092.39 1599.03 Q2087.42 1594.06 2087.42 1585.6 Q2087.42 1576.84 2092.13 1571.72 Q2096.88 1566.56 2104.9 1566.56 Q2112.09 1566.56 2116.26 1571.21 Q2120.46 1575.83 2120.46 1583.78 M2114.61 1582.06 Q2114.54 1577.26 2111.9 1574.39 Q2109.29 1571.53 2104.96 1571.53 Q2100.06 1571.53 2097.1 1574.3 Q2094.17 1577.07 2093.73 1582.1 L2114.61 1582.06 Z\" fill=\"#000000\" fill-rule=\"evenodd\" fill-opacity=\"1\" /><path clip-path=\"url(#clip8900)\" d=\"M 0 0 M18.7301 887.527 L18.7301 881.67 L54.378 881.67 L54.378 887.527 L18.7301 887.527 M4.85284 887.527 L4.85284 881.67 L12.2689 881.67 L12.2689 887.527 L4.85284 887.527 Z\" fill=\"#000000\" fill-rule=\"evenodd\" fill-opacity=\"1\" /><path clip-path=\"url(#clip8900)\" d=\"M 0 0 M32.8619 845.895 L54.378 845.895 L54.378 851.751 L33.0529 851.751 Q27.9922 851.751 25.4777 853.725 Q22.9633 855.698 22.9633 859.645 Q22.9633 864.387 25.987 867.125 Q29.0107 869.862 34.2306 869.862 L54.378 869.862 L54.378 875.75 L18.7301 875.75 L18.7301 869.862 L24.2682 869.862 Q21.0536 867.761 19.4621 864.928 Q17.8707 862.064 17.8707 858.34 Q17.8707 852.197 21.6901 849.046 Q25.4777 845.895 32.8619 845.895 Z\" fill=\"#000000\" fill-rule=\"evenodd\" fill-opacity=\"1\" /><path clip-path=\"url(#clip8900)\" d=\"M 0 0 M24.1409 816.294 L4.85284 816.294 L4.85284 810.438 L54.378 810.438 L54.378 816.294 L49.0308 816.294 Q52.2137 818.14 53.7733 820.973 Q55.3011 823.774 55.3011 827.721 Q55.3011 834.182 50.1448 838.256 Q44.9886 842.298 36.5859 842.298 Q28.1832 842.298 23.0269 838.256 Q17.8707 834.182 17.8707 827.721 Q17.8707 823.774 19.4303 820.973 Q20.9581 818.14 24.1409 816.294 M36.5859 836.251 Q43.0471 836.251 46.7392 833.609 Q50.3995 830.935 50.3995 826.289 Q50.3995 821.642 46.7392 818.968 Q43.0471 816.294 36.5859 816.294 Q30.1247 816.294 26.4644 818.968 Q22.7723 821.642 22.7723 826.289 Q22.7723 830.935 26.4644 833.609 Q30.1247 836.251 36.5859 836.251 Z\" fill=\"#000000\" fill-rule=\"evenodd\" fill-opacity=\"1\" /><path clip-path=\"url(#clip8900)\" d=\"M 0 0 M18.7301 804.295 L18.7301 798.439 L54.378 798.439 L54.378 804.295 L18.7301 804.295 M4.85284 804.295 L4.85284 798.439 L12.2689 798.439 L12.2689 804.295 L4.85284 804.295 Z\" fill=\"#000000\" fill-rule=\"evenodd\" fill-opacity=\"1\" /><path clip-path=\"url(#clip8900)\" d=\"M 0 0 M20.0987 766.642 L25.5732 766.642 Q24.2046 769.124 23.5362 771.639 Q22.836 774.122 22.836 776.668 Q22.836 782.365 26.4644 785.516 Q30.061 788.667 36.5859 788.667 Q43.1107 788.667 46.7392 785.516 Q50.3358 782.365 50.3358 776.668 Q50.3358 774.122 49.6674 771.639 Q48.9672 769.124 47.5986 766.642 L53.0094 766.642 Q54.1552 769.093 54.7281 771.734 Q55.3011 774.344 55.3011 777.304 Q55.3011 785.357 50.2403 790.099 Q45.1796 794.842 36.5859 794.842 Q27.8649 794.842 22.8678 790.068 Q17.8707 785.262 17.8707 776.922 Q17.8707 774.217 18.4436 771.639 Q18.9847 769.061 20.0987 766.642 Z\" fill=\"#000000\" fill-rule=\"evenodd\" fill-opacity=\"1\" /><path clip-path=\"url(#clip8900)\" d=\"M 0 0 M36.4586 744.298 Q36.4586 751.396 38.0818 754.133 Q39.7051 756.87 43.62 756.87 Q46.7392 756.87 48.5852 754.833 Q50.3995 752.765 50.3995 749.232 Q50.3995 744.362 46.962 741.434 Q43.4927 738.474 37.7635 738.474 L36.4586 738.474 L36.4586 744.298 M34.0396 732.617 L54.378 732.617 L54.378 738.474 L48.9672 738.474 Q52.2137 740.479 53.7733 743.471 Q55.3011 746.463 55.3011 750.791 Q55.3011 756.266 52.2455 759.512 Q49.1582 762.727 44.0019 762.727 Q37.9863 762.727 34.9308 758.717 Q31.8753 754.674 31.8753 746.685 L31.8753 738.474 L31.3023 738.474 Q27.2601 738.474 25.064 741.147 Q22.836 743.789 22.836 748.595 Q22.836 751.651 23.568 754.547 Q24.3001 757.443 25.7642 760.117 L20.3533 760.117 Q19.112 756.902 18.5073 753.879 Q17.8707 750.855 17.8707 747.99 Q17.8707 740.256 21.8811 736.437 Q25.8915 732.617 34.0396 732.617 Z\" fill=\"#000000\" fill-rule=\"evenodd\" fill-opacity=\"1\" /><path clip-path=\"url(#clip8900)\" d=\"M 0 0 M8.6086 720.681 L18.7301 720.681 L18.7301 708.618 L23.2816 708.618 L23.2816 720.681 L42.6333 720.681 Q46.9938 720.681 48.2351 719.504 Q49.4764 718.294 49.4764 714.634 L49.4764 708.618 L54.378 708.618 L54.378 714.634 Q54.378 721.414 51.8636 723.992 Q49.3173 726.57 42.6333 726.57 L23.2816 726.57 L23.2816 730.867 L18.7301 730.867 L18.7301 726.57 L8.6086 726.57 L8.6086 720.681 Z\" fill=\"#000000\" fill-rule=\"evenodd\" fill-opacity=\"1\" /><path clip-path=\"url(#clip8900)\" d=\"M 0 0 M22.836 688.662 Q22.836 693.373 26.5281 696.11 Q30.1883 698.847 36.5859 698.847 Q42.9834 698.847 46.6755 696.142 Q50.3358 693.404 50.3358 688.662 Q50.3358 683.983 46.6437 681.246 Q42.9516 678.509 36.5859 678.509 Q30.252 678.509 26.5599 681.246 Q22.836 683.983 22.836 688.662 M17.8707 688.662 Q17.8707 681.023 22.836 676.663 Q27.8012 672.302 36.5859 672.302 Q45.3387 672.302 50.3358 676.663 Q55.3011 681.023 55.3011 688.662 Q55.3011 696.333 50.3358 700.693 Q45.3387 705.022 36.5859 705.022 Q27.8012 705.022 22.836 700.693 Q17.8707 696.333 17.8707 688.662 Z\" fill=\"#000000\" fill-rule=\"evenodd\" fill-opacity=\"1\" /><path clip-path=\"url(#clip8900)\" d=\"M 0 0 M24.2046 645.502 Q23.6317 646.489 23.377 647.667 Q23.0906 648.813 23.0906 650.213 Q23.0906 655.178 26.3371 657.852 Q29.5518 660.494 35.5992 660.494 L54.378 660.494 L54.378 666.382 L18.7301 666.382 L18.7301 660.494 L24.2682 660.494 Q21.0217 658.648 19.4621 655.688 Q17.8707 652.728 17.8707 648.494 Q17.8707 647.89 17.9662 647.158 Q18.0299 646.425 18.189 645.534 L24.2046 645.502 Z\" fill=\"#000000\" fill-rule=\"evenodd\" fill-opacity=\"1\" /><path clip-path=\"url(#clip8900)\" d=\"M 0 0 M19.7804 616.634 L25.3186 616.634 Q24.0454 619.117 23.4089 621.79 Q22.7723 624.464 22.7723 627.328 Q22.7723 631.689 24.1091 633.885 Q25.4459 636.049 28.1195 636.049 Q30.1565 636.049 31.3342 634.49 Q32.48 632.93 33.5303 628.22 L33.9759 626.214 Q35.3127 619.976 37.7635 617.366 Q40.1825 614.724 44.543 614.724 Q49.5083 614.724 52.4047 618.671 Q55.3011 622.586 55.3011 629.461 Q55.3011 632.325 54.7281 635.445 Q54.1871 638.532 53.0731 641.969 L47.0256 641.969 Q48.7126 638.723 49.5719 635.572 Q50.3995 632.421 50.3995 629.334 Q50.3995 625.196 48.999 622.968 Q47.5667 620.74 44.9886 620.74 Q42.6015 620.74 41.3283 622.363 Q40.0552 623.955 38.8775 629.397 L38.4001 631.434 Q37.2543 636.877 34.899 639.296 Q32.5118 641.715 28.3741 641.715 Q23.3452 641.715 20.608 638.15 Q17.8707 634.585 17.8707 628.029 Q17.8707 624.782 18.3481 621.918 Q18.8256 619.053 19.7804 616.634 Z\" fill=\"#000000\" fill-rule=\"evenodd\" fill-opacity=\"1\" /><polyline clip-path=\"url(#clip8902)\" style=\"stroke:#009af9; stroke-width:4; stroke-opacity:1; fill:none\" points=\"\n",
       "  342.158,1300.59 348.301,1284.96 354.444,1144.34 360.587,1217.25 366.73,1238.09 372.873,1253.71 379.016,1227.67 385.159,1227.67 391.302,1243.3 397.445,1253.71 \n",
       "  403.588,1264.13 409.731,1264.13 415.874,1279.75 422.016,1274.54 428.159,1284.96 434.302,1295.38 440.445,1295.38 446.588,1295.38 452.731,1300.59 458.874,1295.38 \n",
       "  465.017,1248.5 471.16,1264.13 477.303,1264.13 483.446,1258.92 489.589,1253.71 495.732,1248.5 501.875,1264.13 508.018,1264.13 514.161,1258.92 520.304,1284.96 \n",
       "  526.447,1279.75 532.59,1295.38 538.732,1295.38 544.875,1290.17 551.018,1295.38 557.161,1300.59 563.304,1300.59 569.447,1279.75 575.59,1290.17 581.733,1269.34 \n",
       "  587.876,1290.17 594.019,1290.17 600.162,1284.96 606.305,1284.96 612.448,1284.96 618.591,1279.75 624.734,1274.54 630.877,1269.34 637.02,1269.34 643.163,1258.92 \n",
       "  649.306,1253.71 655.448,1258.92 661.591,1264.13 667.734,1269.34 673.877,1264.13 680.02,1253.71 686.163,1258.92 692.306,1248.5 698.449,1264.13 704.592,1279.75 \n",
       "  710.735,1269.34 716.878,1274.54 723.021,1274.54 729.164,1274.54 735.307,1264.13 741.45,1264.13 747.593,1264.13 753.736,1274.54 759.879,1274.54 766.022,1279.75 \n",
       "  772.164,1290.17 778.307,1300.59 784.45,1300.59 790.593,1295.38 796.736,1290.17 802.879,1284.96 809.022,1295.38 815.165,1300.59 821.308,1295.38 827.451,1290.17 \n",
       "  833.594,1284.96 839.737,1290.17 845.88,1284.96 852.023,1290.17 858.166,1290.17 864.309,1279.75 870.452,1279.75 876.595,1284.96 882.738,1279.75 888.88,1284.96 \n",
       "  895.023,1284.96 901.166,1290.17 907.309,1284.96 913.452,1284.96 919.595,1284.96 925.738,1279.75 931.881,1269.34 938.024,1258.92 944.167,1253.71 950.31,1258.92 \n",
       "  956.453,1253.71 962.596,1248.5 968.739,1253.71 974.882,1258.92 981.025,1269.34 987.168,1264.13 993.311,1258.92 999.454,1264.13 1005.6,1269.34 1011.74,1269.34 \n",
       "  1017.88,1258.92 1024.03,1253.71 1030.17,1227.67 1036.31,1227.67 1042.45,1201.63 1048.6,1206.84 1054.74,1212.05 1060.88,1196.42 1067.03,1212.05 1073.17,1248.5 \n",
       "  1079.31,1258.92 1085.45,1274.54 1091.6,1279.75 1097.74,1284.96 1103.88,1295.38 1110.03,1284.96 1116.17,1295.38 1122.31,1305.79 1128.46,1305.79 1134.6,1300.59 \n",
       "  1140.74,1305.79 1146.88,1305.79 1153.03,1311 1159.17,1321.42 1165.31,1326.63 1171.46,1321.42 1177.6,1321.42 1183.74,1316.21 1189.88,1316.21 1196.03,1311 \n",
       "  1202.17,1316.21 1208.31,1316.21 1214.46,1316.21 1220.6,1316.21 1226.74,1321.42 1232.89,1326.63 1239.03,1321.42 1245.17,1326.63 1251.31,1331.83 1257.46,1331.83 \n",
       "  1263.6,1337.04 1269.74,1331.83 1275.89,1326.63 1282.03,1331.83 1288.17,1326.63 1294.32,1326.63 1300.46,1326.63 1306.6,1326.63 1312.74,1326.63 1318.89,1331.83 \n",
       "  1325.03,1331.83 1331.17,1331.83 1337.32,1326.63 1343.46,1331.83 1349.6,1337.04 1355.74,1331.83 1361.89,1337.04 1368.03,1337.04 1374.17,1331.83 1380.32,1331.83 \n",
       "  1386.46,1337.04 1392.6,1337.04 1398.75,1342.25 1404.89,1342.25 1411.03,1347.46 1417.17,1347.46 1423.32,1347.46 1429.46,1352.67 1435.6,1357.87 1441.75,1368.29 \n",
       "  1447.89,1373.5 1454.03,1373.5 1460.17,1368.29 1466.32,1373.5 1472.46,1378.71 1478.6,1378.71 1484.75,1378.71 1490.89,1378.71 1497.03,1383.92 1503.18,1383.92 \n",
       "  1509.32,1389.12 1515.46,1383.92 1521.6,1378.71 1527.75,1373.5 1533.89,1373.5 1540.03,1383.92 1546.18,1378.71 1552.32,1378.71 1558.46,1383.92 1564.6,1383.92 \n",
       "  1570.75,1378.71 1576.89,1383.92 1583.03,1373.5 1589.18,1363.08 1595.32,1368.29 1601.46,1357.87 1607.61,1347.46 1613.75,1357.87 1619.89,1363.08 1626.03,1357.87 \n",
       "  1632.18,1363.08 1638.32,1363.08 1644.46,1363.08 1650.61,1363.08 1656.75,1363.08 1662.89,1363.08 1669.03,1363.08 1675.18,1357.87 1681.32,1357.87 1687.46,1357.87 \n",
       "  1693.61,1363.08 1699.75,1363.08 1705.89,1363.08 1712.04,1368.29 1718.18,1368.29 1724.32,1368.29 1730.46,1373.5 1736.61,1368.29 1742.75,1368.29 1748.89,1373.5 \n",
       "  1755.04,1373.5 1761.18,1368.29 1767.32,1373.5 1773.46,1373.5 1779.61,1373.5 1785.75,1368.29 1791.89,1368.29 1798.04,1368.29 1804.18,1373.5 1810.32,1373.5 \n",
       "  1816.47,1373.5 1822.61,1373.5 1828.75,1373.5 1834.89,1373.5 1841.04,1378.71 1847.18,1378.71 1853.32,1378.71 1859.47,1373.5 1865.61,1373.5 1871.75,1368.29 \n",
       "  1877.9,1363.08 1884.04,1368.29 1890.18,1368.29 1896.32,1368.29 1902.47,1368.29 1908.61,1368.29 1914.75,1368.29 1920.9,1368.29 1927.04,1373.5 1933.18,1389.12 \n",
       "  1939.32,1394.33 1945.47,1394.33 1951.61,1399.54 1957.75,1404.75 1963.9,1409.96 1970.04,1415.16 1976.18,1404.75 1982.33,1404.75 1988.47,1404.75 1994.61,1404.75 \n",
       "  2000.75,1399.54 2006.9,1404.75 2013.04,1404.75 2019.18,1404.75 2025.33,1404.75 2031.47,1409.96 2037.61,1409.96 2043.75,1409.96 2049.9,1404.75 2056.04,1404.75 \n",
       "  2062.18,1404.75 2068.33,1404.75 2074.47,1404.75 2080.61,1409.96 2086.76,1409.96 2092.9,1409.96 2099.04,1409.96 2105.18,1409.96 2111.33,1404.75 2117.47,1399.54 \n",
       "  2123.61,1383.92 2129.76,1394.33 2135.9,1394.33 2142.04,1399.54 2148.18,1399.54 2154.33,1399.54 2160.47,1399.54 2166.61,1399.54 2172.76,1399.54 2178.9,1399.54 \n",
       "  2185.04,1399.54 2191.19,1399.54 2197.33,1394.33 2203.47,1394.33 2209.61,1394.33 2215.76,1389.12 2221.9,1389.12 2228.04,1389.12 2234.19,1389.12 2240.33,1383.92 \n",
       "  2246.47,1383.92 2252.61,1389.12 2258.76,1389.12 2264.9,1389.12 2271.04,1389.12 2277.19,1389.12 2283.33,1389.12 2289.47,1383.92 2295.62,1383.92 2301.76,1383.92 \n",
       "  2307.9,1378.71 2314.04,1378.71 2320.19,1378.71 2326.33,1378.71 2332.47,1383.92 2338.62,1383.92 2344.76,1373.5 2350.9,1342.25 2357.04,1347.46 2363.19,1357.87 \n",
       "  2369.33,1342.25 2375.47,1357.87 2381.62,1368.29 2387.76,1363.08 2393.9,1357.87 2400.05,1352.67 2406.19,1357.87 2412.33,1342.25 2418.47,1347.46 2424.62,1337.04 \n",
       "  2430.76,1331.83 2436.9,1316.21 2443.05,1337.04 2449.19,1326.63 2455.33,1347.46 2461.48,1342.25 2467.62,1342.25 2473.76,1342.25 2479.9,1347.46 2486.05,1357.87 \n",
       "  2492.19,1342.25 2498.33,1337.04 2504.48,1342.25 2510.62,1347.46 2516.76,1357.87 2522.9,1352.67 2529.05,1347.46 2535.19,1347.46 2541.33,1347.46 2547.48,1352.67 \n",
       "  2553.62,1347.46 2559.76,1347.46 2565.91,1342.25 2572.05,1352.67 2578.19,1321.42 2584.33,1337.04 2590.48,1347.46 2596.62,1347.46 2602.76,1342.25 2608.91,1347.46 \n",
       "  2615.05,1347.46 2621.19,1352.67 2627.33,1357.87 2633.48,1373.5 2639.62,1357.87 2645.76,1363.08 2651.91,1368.29 2658.05,1363.08 2664.19,1373.5 2670.34,1373.5 \n",
       "  2676.48,1383.92 2682.62,1389.12 2688.76,1383.92 2694.91,1389.12 2701.05,1383.92 2707.19,1378.71 2713.34,1378.71 2719.48,1373.5 2725.62,1378.71 2731.76,1378.71 \n",
       "  2737.91,1378.71 2744.05,1383.92 2750.19,1383.92 2756.34,1383.92 2762.48,1378.71 2768.62,1378.71 2774.77,1378.71 2780.91,1378.71 2787.05,1368.29 2793.19,1373.5 \n",
       "  2799.34,1363.08 2805.48,1363.08 2811.62,1368.29 2817.77,1368.29 2823.91,1368.29 2830.05,1368.29 2836.19,1368.29 2842.34,1373.5 2848.48,1363.08 2854.62,1352.67 \n",
       "  2860.77,1357.87 2866.91,1363.08 2873.05,1368.29 2879.2,1363.08 2885.34,1357.87 2891.48,1357.87 2897.62,1357.87 2903.77,1352.67 2909.91,1352.67 2916.05,1357.87 \n",
       "  2922.2,1363.08 2928.34,1363.08 2934.48,1357.87 2940.63,1357.87 2946.77,1352.67 2952.91,1363.08 2959.05,1363.08 2965.2,1363.08 2971.34,1347.46 2977.48,1347.46 \n",
       "  2983.63,1352.67 2989.77,1347.46 2995.91,1342.25 3002.05,1326.63 3008.2,1300.59 3014.34,1300.59 3020.48,1305.79 3026.63,1305.79 3032.77,1284.96 3038.91,1305.79 \n",
       "  3045.06,1295.38 3051.2,1300.59 3057.34,1264.13 3063.48,1279.75 3069.63,1279.75 3075.77,1269.34 3081.91,1258.92 3088.06,1264.13 3094.2,1279.75 3100.34,1284.96 \n",
       "  3106.48,1274.54 3112.63,1279.75 3118.77,1269.34 3124.91,1258.92 3131.06,1227.67 3137.2,1180.8 3143.34,1175.59 3149.49,1107.88 3155.63,1123.51 3161.77,1071.43 \n",
       "  3167.91,1081.84 3174.06,1128.72 3180.2,1113.09 3186.34,1144.34 3192.49,1159.97 3198.63,1170.38 3204.77,1123.51 3210.91,1149.55 3217.06,1144.34 3223.2,1170.38 \n",
       "  3229.34,1154.76 3235.49,1170.38 3241.63,1144.34 3247.77,1144.34 3253.92,1149.55 3260.06,1144.34 3266.2,1097.47 3272.34,1123.51 3278.49,1107.88 3284.63,1123.51 \n",
       "  3290.77,1113.09 3296.92,1081.84 3303.06,1123.51 3309.2,1123.51 3315.34,1128.72 3321.49,1133.92 3327.63,1102.68 3333.77,1102.68 3339.92,1113.09 3346.06,1118.3 \n",
       "  3352.2,1097.47 3358.35,1087.05 3364.49,993.304 3370.63,967.264 3376.77,993.304 3382.92,1034.97 3389.06,982.888 3395.2,946.431 3401.35,988.096 3407.49,1003.72 \n",
       "  3413.63,1034.97 3419.77,1019.35 3425.92,1003.72 3432.06,1014.14 3438.2,1008.93 3444.35,988.096 3450.49,982.888 3456.63,1008.93 3462.78,972.472 3468.92,988.096 \n",
       "  3475.06,1003.72 3481.2,988.096 3487.35,1029.76 3493.49,1014.14 3499.63,993.304 3505.78,998.513 3511.92,925.598 3518.06,925.598 3524.21,946.431 3530.35,925.598 \n",
       "  3536.49,925.598 3542.63,941.223 3548.78,920.39 3554.92,930.807 3561.06,920.39 3567.21,925.598 3573.35,873.517 3579.49,795.395 3585.63,748.521 3591.78,774.562 \n",
       "  3597.92,790.187 3604.06,779.77 3610.21,774.562 3616.35,790.187 3622.49,811.019 3628.64,821.435 3634.78,779.77 3640.92,764.146 3647.06,696.44 3653.21,633.942 \n",
       "  3659.35,644.358 3665.49,550.612 3671.64,519.363 3677.78,467.281 3683.92,451.657 3690.06,383.951 3696.21,498.53 3702.35,383.951 3708.49,222.498 3714.64,467.281 \n",
       "  3720.78,311.037 3726.92,352.702 3733.07,363.118 3739.21,295.412 3745.35,232.915 3751.49,87.0864 3757.64,253.747 3763.78,139.168 3769.92,154.792 \n",
       "  \"/>\n",
       "<path clip-path=\"url(#clip8900)\" d=\"\n",
       "M356.925 342.924 L862.767 342.924 L862.767 221.964 L356.925 221.964  Z\n",
       "  \" fill=\"#ffffff\" fill-rule=\"evenodd\" fill-opacity=\"1\"/>\n",
       "<polyline clip-path=\"url(#clip8900)\" style=\"stroke:#000000; stroke-width:4; stroke-opacity:1; fill:none\" points=\"\n",
       "  356.925,342.924 862.767,342.924 862.767,221.964 356.925,221.964 356.925,342.924 \n",
       "  \"/>\n",
       "<polyline clip-path=\"url(#clip8900)\" style=\"stroke:#009af9; stroke-width:4; stroke-opacity:1; fill:none\" points=\"\n",
       "  396.125,282.444 631.325,282.444 \n",
       "  \"/>\n",
       "<path clip-path=\"url(#clip8900)\" d=\"M 0 0 M683.72 299.724 L670.525 265.164 L675.409 265.164 L686.358 294.261 L697.331 265.164 L702.192 265.164 L689.02 299.724 L683.72 299.724 Z\" fill=\"#000000\" fill-rule=\"evenodd\" fill-opacity=\"1\" /><path clip-path=\"url(#clip8900)\" d=\"M 0 0 M714.761 286.692 Q709.599 286.692 707.608 287.872 Q705.618 289.053 705.618 291.9 Q705.618 294.169 707.099 295.511 Q708.604 296.831 711.173 296.831 Q714.715 296.831 716.844 294.331 Q718.997 291.807 718.997 287.641 L718.997 286.692 L714.761 286.692 M723.256 284.933 L723.256 299.724 L718.997 299.724 L718.997 295.789 Q717.539 298.15 715.363 299.284 Q713.187 300.395 710.039 300.395 Q706.057 300.395 703.696 298.173 Q701.358 295.928 701.358 292.178 Q701.358 287.803 704.275 285.581 Q707.215 283.358 713.025 283.358 L718.997 283.358 L718.997 282.942 Q718.997 280.002 717.053 278.405 Q715.131 276.784 711.636 276.784 Q709.414 276.784 707.307 277.317 Q705.201 277.849 703.257 278.914 L703.257 274.979 Q705.594 274.076 707.794 273.636 Q709.993 273.173 712.076 273.173 Q717.701 273.173 720.479 276.09 Q723.256 279.007 723.256 284.933 Z\" fill=\"#000000\" fill-rule=\"evenodd\" fill-opacity=\"1\" /><path clip-path=\"url(#clip8900)\" d=\"M 0 0 M727.724 263.706 L731.983 263.706 L731.983 299.724 L727.724 299.724 L727.724 263.706 Z\" fill=\"#000000\" fill-rule=\"evenodd\" fill-opacity=\"1\" /><path clip-path=\"url(#clip8900)\" d=\"M 0 0 M736.011 289.493 L736.011 273.798 L740.27 273.798 L740.27 289.331 Q740.27 293.011 741.705 294.863 Q743.141 296.692 746.011 296.692 Q749.46 296.692 751.451 294.493 Q753.465 292.294 753.465 288.497 L753.465 273.798 L757.724 273.798 L757.724 299.724 L753.465 299.724 L753.465 295.743 Q751.914 298.104 749.853 299.261 Q747.816 300.395 745.108 300.395 Q740.641 300.395 738.326 297.618 Q736.011 294.84 736.011 289.493 M746.729 273.173 L746.729 273.173 Z\" fill=\"#000000\" fill-rule=\"evenodd\" fill-opacity=\"1\" /><path clip-path=\"url(#clip8900)\" d=\"M 0 0 M784.367 285.696 L784.367 287.78 L764.784 287.78 Q765.062 292.178 767.423 294.493 Q769.807 296.784 774.043 296.784 Q776.497 296.784 778.789 296.182 Q781.103 295.581 783.372 294.377 L783.372 298.405 Q781.08 299.377 778.673 299.886 Q776.265 300.395 773.789 300.395 Q767.585 300.395 763.951 296.784 Q760.34 293.173 760.34 287.016 Q760.34 280.65 763.765 276.923 Q767.215 273.173 773.048 273.173 Q778.279 273.173 781.312 276.553 Q784.367 279.909 784.367 285.696 M780.108 284.446 Q780.062 280.951 778.14 278.868 Q776.242 276.784 773.094 276.784 Q769.529 276.784 767.377 278.798 Q765.247 280.812 764.923 284.47 L780.108 284.446 Z\" fill=\"#000000\" fill-rule=\"evenodd\" fill-opacity=\"1\" /></svg>\n"
      ]
     },
     "execution_count": 12,
     "metadata": {},
     "output_type": "execute_result"
    }
   ],
   "source": [
    "# Comment out once done reviewing\n",
    "\n",
    "using Plots\n",
    "\n",
    "count = size(df)[1]\n",
    "rows = 1:count\n",
    "dates = format_dates( df[rows,2] , \"m/d/yy\")\n",
    "\n",
    "gr()\n",
    "plot(          dates, # x-axis: dates\n",
    "               [  df[rows,3]    ], # y-axis\n",
    "    label    = [  columns[3] \"\"   ]  ,\n",
    "    legend   =:topleft, \n",
    "              # :right, :left, :top, :bottom, :inside, :best, :legend, :topright, :topleft, :bottomleft, :bottomright\n",
    "    xlabel   = \"time\",\n",
    "    ylabel   = \"indicators\",\n",
    "    size     = (980, 400), # width, height\n",
    "    layout = (1, 1) # number of graphs: vertically, horizontally\n",
    "    )"
   ]
  },
  {
   "cell_type": "markdown",
   "metadata": {},
   "source": [
    "## Fill in Empty Dates"
   ]
  },
  {
   "cell_type": "code",
   "execution_count": 13,
   "metadata": {
    "ExecuteTime": {
     "end_time": "2020-11-30T20:05:53.642000-05:00",
     "start_time": "2020-12-01T01:05:51.012Z"
    }
   },
   "outputs": [
    {
     "data": {
      "text/html": [
       "<table class=\"data-frame\"><thead><tr><th></th><th>Day</th><th>Date</th><th>Value</th><th>Original</th></tr><tr><th></th><th>Int64</th><th>Date</th><th>Float64</th><th>Float64</th></tr></thead><tbody><p>811 rows × 4 columns</p><tr><th>1</th><td>736949</td><td>2018-09-12</td><td>-106.0</td><td>6.0</td></tr><tr><th>2</th><td>736950</td><td>2018-09-13</td><td>-103.0</td><td>6.62</td></tr><tr><th>3</th><td>736951</td><td>2018-09-14</td><td>-76.0</td><td>12.66</td></tr><tr><th>4</th><td>736954</td><td>2018-09-17</td><td>-90.0</td><td>9.61</td></tr><tr><th>5</th><td>736955</td><td>2018-09-18</td><td>-94.0</td><td>8.73</td></tr><tr><th>6</th><td>736956</td><td>2018-09-19</td><td>-97.0</td><td>7.88</td></tr><tr><th>7</th><td>736957</td><td>2018-09-20</td><td>-92.0</td><td>9.07</td></tr><tr><th>8</th><td>736958</td><td>2018-09-21</td><td>-92.0</td><td>9.05</td></tr><tr><th>9</th><td>736961</td><td>2018-09-24</td><td>-95.0</td><td>8.32</td></tr><tr><th>10</th><td>736962</td><td>2018-09-25</td><td>-97.0</td><td>8.06</td></tr><tr><th>11</th><td>736963</td><td>2018-09-26</td><td>-99.0</td><td>7.59</td></tr><tr><th>12</th><td>736964</td><td>2018-09-27</td><td>-99.0</td><td>7.55</td></tr><tr><th>13</th><td>736965</td><td>2018-09-28</td><td>-102.0</td><td>6.97</td></tr><tr><th>14</th><td>736968</td><td>2018-10-01</td><td>-101.0</td><td>7.06</td></tr><tr><th>15</th><td>736969</td><td>2018-10-02</td><td>-103.0</td><td>6.6</td></tr><tr><th>16</th><td>736970</td><td>2018-10-03</td><td>-105.0</td><td>6.12</td></tr><tr><th>17</th><td>736971</td><td>2018-10-04</td><td>-105.0</td><td>6.19</td></tr><tr><th>18</th><td>736972</td><td>2018-10-05</td><td>-105.0</td><td>6.2</td></tr><tr><th>19</th><td>736975</td><td>2018-10-08</td><td>-106.0</td><td>6.07</td></tr><tr><th>20</th><td>736976</td><td>2018-10-09</td><td>-105.0</td><td>6.19</td></tr><tr><th>21</th><td>736977</td><td>2018-10-10</td><td>-96.0</td><td>8.1</td></tr><tr><th>22</th><td>736978</td><td>2018-10-11</td><td>-99.0</td><td>7.44</td></tr><tr><th>23</th><td>736979</td><td>2018-10-12</td><td>-99.0</td><td>7.46</td></tr><tr><th>24</th><td>736982</td><td>2018-10-15</td><td>-98.0</td><td>7.86</td></tr><tr><th>25</th><td>736983</td><td>2018-10-16</td><td>-97.0</td><td>8.06</td></tr><tr><th>26</th><td>736984</td><td>2018-10-17</td><td>-96.0</td><td>8.12</td></tr><tr><th>27</th><td>736985</td><td>2018-10-18</td><td>-99.0</td><td>7.6</td></tr><tr><th>28</th><td>736986</td><td>2018-10-19</td><td>-99.0</td><td>7.59</td></tr><tr><th>29</th><td>736989</td><td>2018-10-22</td><td>-98.0</td><td>7.68</td></tr><tr><th>30</th><td>736990</td><td>2018-10-23</td><td>-103.0</td><td>6.74</td></tr><tr><th>&vellip;</th><td>&vellip;</td><td>&vellip;</td><td>&vellip;</td><td>&vellip;</td></tr></tbody></table>"
      ],
      "text/latex": [
       "\\begin{tabular}{r|cccc}\n",
       "\t& Day & Date & Value & Original\\\\\n",
       "\t\\hline\n",
       "\t& Int64 & Date & Float64 & Float64\\\\\n",
       "\t\\hline\n",
       "\t1 & 736949 & 2018-09-12 & -106.0 & 6.0 \\\\\n",
       "\t2 & 736950 & 2018-09-13 & -103.0 & 6.62 \\\\\n",
       "\t3 & 736951 & 2018-09-14 & -76.0 & 12.66 \\\\\n",
       "\t4 & 736954 & 2018-09-17 & -90.0 & 9.61 \\\\\n",
       "\t5 & 736955 & 2018-09-18 & -94.0 & 8.73 \\\\\n",
       "\t6 & 736956 & 2018-09-19 & -97.0 & 7.88 \\\\\n",
       "\t7 & 736957 & 2018-09-20 & -92.0 & 9.07 \\\\\n",
       "\t8 & 736958 & 2018-09-21 & -92.0 & 9.05 \\\\\n",
       "\t9 & 736961 & 2018-09-24 & -95.0 & 8.32 \\\\\n",
       "\t10 & 736962 & 2018-09-25 & -97.0 & 8.06 \\\\\n",
       "\t11 & 736963 & 2018-09-26 & -99.0 & 7.59 \\\\\n",
       "\t12 & 736964 & 2018-09-27 & -99.0 & 7.55 \\\\\n",
       "\t13 & 736965 & 2018-09-28 & -102.0 & 6.97 \\\\\n",
       "\t14 & 736968 & 2018-10-01 & -101.0 & 7.06 \\\\\n",
       "\t15 & 736969 & 2018-10-02 & -103.0 & 6.6 \\\\\n",
       "\t16 & 736970 & 2018-10-03 & -105.0 & 6.12 \\\\\n",
       "\t17 & 736971 & 2018-10-04 & -105.0 & 6.19 \\\\\n",
       "\t18 & 736972 & 2018-10-05 & -105.0 & 6.2 \\\\\n",
       "\t19 & 736975 & 2018-10-08 & -106.0 & 6.07 \\\\\n",
       "\t20 & 736976 & 2018-10-09 & -105.0 & 6.19 \\\\\n",
       "\t21 & 736977 & 2018-10-10 & -96.0 & 8.1 \\\\\n",
       "\t22 & 736978 & 2018-10-11 & -99.0 & 7.44 \\\\\n",
       "\t23 & 736979 & 2018-10-12 & -99.0 & 7.46 \\\\\n",
       "\t24 & 736982 & 2018-10-15 & -98.0 & 7.86 \\\\\n",
       "\t25 & 736983 & 2018-10-16 & -97.0 & 8.06 \\\\\n",
       "\t26 & 736984 & 2018-10-17 & -96.0 & 8.12 \\\\\n",
       "\t27 & 736985 & 2018-10-18 & -99.0 & 7.6 \\\\\n",
       "\t28 & 736986 & 2018-10-19 & -99.0 & 7.59 \\\\\n",
       "\t29 & 736989 & 2018-10-22 & -98.0 & 7.68 \\\\\n",
       "\t30 & 736990 & 2018-10-23 & -103.0 & 6.74 \\\\\n",
       "\t$\\dots$ & $\\dots$ & $\\dots$ & $\\dots$ & $\\dots$ \\\\\n",
       "\\end{tabular}\n"
      ],
      "text/plain": [
       "811×4 DataFrame\n",
       "│ Row │ Day    │ Date       │ Value   │ Original │\n",
       "│     │ \u001b[90mInt64\u001b[39m  │ \u001b[90mDate\u001b[39m       │ \u001b[90mFloat64\u001b[39m │ \u001b[90mFloat64\u001b[39m  │\n",
       "├─────┼────────┼────────────┼─────────┼──────────┤\n",
       "│ 1   │ 736949 │ 2018-09-12 │ -106.0  │ 6.0      │\n",
       "│ 2   │ 736950 │ 2018-09-13 │ -103.0  │ 6.62     │\n",
       "│ 3   │ 736951 │ 2018-09-14 │ -76.0   │ 12.66    │\n",
       "│ 4   │ 736954 │ 2018-09-17 │ -90.0   │ 9.61     │\n",
       "│ 5   │ 736955 │ 2018-09-18 │ -94.0   │ 8.73     │\n",
       "│ 6   │ 736956 │ 2018-09-19 │ -97.0   │ 7.88     │\n",
       "│ 7   │ 736957 │ 2018-09-20 │ -92.0   │ 9.07     │\n",
       "│ 8   │ 736958 │ 2018-09-21 │ -92.0   │ 9.05     │\n",
       "│ 9   │ 736961 │ 2018-09-24 │ -95.0   │ 8.32     │\n",
       "│ 10  │ 736962 │ 2018-09-25 │ -97.0   │ 8.06     │\n",
       "⋮\n",
       "│ 801 │ 737729 │ 2020-10-31 │ 10.0    │ 31.39    │\n",
       "│ 802 │ 737730 │ 2020-11-01 │ 10.0    │ 31.39    │\n",
       "│ 803 │ 737736 │ 2020-11-07 │ 54.0    │ 41.09    │\n",
       "│ 804 │ 737737 │ 2020-11-08 │ 54.0    │ 41.09    │\n",
       "│ 805 │ 737743 │ 2020-11-14 │ 101.0   │ 51.29    │\n",
       "│ 806 │ 737744 │ 2020-11-15 │ 101.0   │ 51.29    │\n",
       "│ 807 │ 737750 │ 2020-11-21 │ 87.0    │ 48.27    │\n",
       "│ 808 │ 737751 │ 2020-11-22 │ 87.0    │ 48.27    │\n",
       "│ 809 │ 737755 │ 2020-11-26 │ 95.0    │ 49.98    │\n",
       "│ 810 │ 737757 │ 2020-11-28 │ 117.0   │ 54.86    │\n",
       "│ 811 │ 737758 │ 2020-11-29 │ 117.0   │ 54.86    │"
      ]
     },
     "execution_count": 13,
     "metadata": {},
     "output_type": "execute_result"
    }
   ],
   "source": [
    "populate_missing_dates!(df)"
   ]
  },
  {
   "cell_type": "markdown",
   "metadata": {},
   "source": [
    "### Fill: Sort"
   ]
  },
  {
   "cell_type": "code",
   "execution_count": 14,
   "metadata": {
    "ExecuteTime": {
     "end_time": "2020-11-30T20:06:04.166000-05:00",
     "start_time": "2020-12-01T01:06:03.772Z"
    }
   },
   "outputs": [
    {
     "name": "stdout",
     "output_type": "stream",
     "text": [
      "\n"
     ]
    }
   ],
   "source": [
    "df = sort(df, [:Day]);\n",
    "count = size(df)[1]\n",
    "first(df, 6)\n",
    "# columns = preview_data(df)\n",
    "println()"
   ]
  },
  {
   "cell_type": "markdown",
   "metadata": {},
   "source": [
    "### Fill: Draw Plots\n",
    "- if the indicator is updated only preiodically (bi-weekly, monthly, quarterly) the the graph will appear blocky"
   ]
  },
  {
   "cell_type": "raw",
   "metadata": {
    "ExecuteTime": {
     "end_time": "2020-11-30T20:06:19.236000-05:00",
     "start_time": "2020-12-01T01:06:19.191Z"
    }
   },
   "source": [
    "# Comment out once done reviewing\n",
    "\n",
    "using Plots\n",
    "count = size(df)[1]\n",
    "rows = 1:count\n",
    "dates = format_dates( df[rows,2] , \"m/d/yy\")\n",
    "\n",
    "gr()\n",
    "plot(          dates, # x-axis: dates\n",
    "               [  df[rows,3]    ], # y-axis\n",
    "    label    = [ columns[3]    \"\"  ],\n",
    "    legend   =:topleft, \n",
    "              # :right, :left, :top, :bottom, :inside, :best, :legend, :topright, :topleft, :bottomleft, :bottomright\n",
    "    xlabel   = \"time\",\n",
    "    ylabel   = \"indicators\",\n",
    "    size     = (980, 400), # width, height\n",
    "    layout = (1, 1) # number of graphs: vertically, horizontally\n",
    "    )"
   ]
  },
  {
   "cell_type": "markdown",
   "metadata": {},
   "source": [
    "## Averages"
   ]
  },
  {
   "cell_type": "code",
   "execution_count": 16,
   "metadata": {
    "ExecuteTime": {
     "end_time": "2020-11-30T20:06:40.724000-05:00",
     "start_time": "2020-12-01T01:06:40.623Z"
    }
   },
   "outputs": [
    {
     "name": "stdout",
     "output_type": "stream",
     "text": [
      "\n"
     ]
    }
   ],
   "source": [
    "column_to_average = 3\n",
    "averages005 = calculate_average(df, 5,   column_to_average )\n",
    "averages030 = calculate_average(df, 30,  column_to_average )\n",
    "averages090 = calculate_average(df, 90,  column_to_average )\n",
    "averages180 = calculate_average(df, 180, column_to_average )\n",
    "averages365 = calculate_average(df, 365, column_to_average )\n",
    "println()"
   ]
  },
  {
   "cell_type": "markdown",
   "metadata": {},
   "source": [
    "### Insert averages to DataFrame"
   ]
  },
  {
   "cell_type": "code",
   "execution_count": 19,
   "metadata": {
    "ExecuteTime": {
     "end_time": "2020-11-30T20:08:51.776000-05:00",
     "start_time": "2020-12-01T01:08:49.267Z"
    }
   },
   "outputs": [
    {
     "data": {
      "text/html": [
       "<table class=\"data-frame\"><thead><tr><th></th><th>variable</th><th>mean</th><th>min</th><th>median</th><th>max</th><th>nunique</th><th>nmissing</th><th>eltype</th></tr><tr><th></th><th>Symbol</th><th>Union…</th><th>Any</th><th>Union…</th><th>Any</th><th>Union…</th><th>Nothing</th><th>DataType</th></tr></thead><tbody><p>9 rows × 8 columns</p><tr><th>1</th><td>Day</td><td>737354.0</td><td>736949</td><td>737354.0</td><td>737759</td><td></td><td></td><td>Int64</td></tr><tr><th>2</th><td>Date</td><td></td><td>2018-09-12</td><td></td><td>2020-11-30</td><td>811</td><td></td><td>Date</td></tr><tr><th>3</th><td>Value</td><td>-96.4081</td><td>-128.0</td><td>-111.0</td><td>127.0</td><td></td><td></td><td>Float64</td></tr><tr><th>4</th><td>Original</td><td>8.10054</td><td>1.19</td><td>4.85</td><td>56.99</td><td></td><td></td><td>Float64</td></tr><tr><th>5</th><td>Avg005</td><td>-96.4567</td><td>-127.0</td><td>-111.4</td><td>112.0</td><td></td><td></td><td>Float64</td></tr><tr><th>6</th><td>Avg030</td><td>-96.3749</td><td>-126.37</td><td>-111.4</td><td>75.8</td><td></td><td></td><td>Float64</td></tr><tr><th>7</th><td>Avg090</td><td>-92.8742</td><td>-124.66</td><td>-109.37</td><td>3.71</td><td></td><td></td><td>Float64</td></tr><tr><th>8</th><td>Avg180</td><td>-84.5552</td><td>-121.9</td><td>-107.68</td><td>0.0</td><td></td><td></td><td>Float64</td></tr><tr><th>9</th><td>Avg365</td><td>-61.7176</td><td>-119.82</td><td>-98.93</td><td>0.0</td><td></td><td></td><td>Float64</td></tr></tbody></table>"
      ],
      "text/latex": [
       "\\begin{tabular}{r|cccccccc}\n",
       "\t& variable & mean & min & median & max & nunique & nmissing & eltype\\\\\n",
       "\t\\hline\n",
       "\t& Symbol & Union… & Any & Union… & Any & Union… & Nothing & DataType\\\\\n",
       "\t\\hline\n",
       "\t1 & Day & 737354.0 & 736949 & 737354.0 & 737759 &  &  & Int64 \\\\\n",
       "\t2 & Date &  & 2018-09-12 &  & 2020-11-30 & 811 &  & Date \\\\\n",
       "\t3 & Value & -96.4081 & -128.0 & -111.0 & 127.0 &  &  & Float64 \\\\\n",
       "\t4 & Original & 8.10054 & 1.19 & 4.85 & 56.99 &  &  & Float64 \\\\\n",
       "\t5 & Avg005 & -96.4567 & -127.0 & -111.4 & 112.0 &  &  & Float64 \\\\\n",
       "\t6 & Avg030 & -96.3749 & -126.37 & -111.4 & 75.8 &  &  & Float64 \\\\\n",
       "\t7 & Avg090 & -92.8742 & -124.66 & -109.37 & 3.71 &  &  & Float64 \\\\\n",
       "\t8 & Avg180 & -84.5552 & -121.9 & -107.68 & 0.0 &  &  & Float64 \\\\\n",
       "\t9 & Avg365 & -61.7176 & -119.82 & -98.93 & 0.0 &  &  & Float64 \\\\\n",
       "\\end{tabular}\n"
      ],
      "text/plain": [
       "9×8 DataFrame. Omitted printing of 2 columns\n",
       "│ Row │ variable │ mean     │ min        │ median   │ max        │ nunique │\n",
       "│     │ \u001b[90mSymbol\u001b[39m   │ \u001b[90mUnion…\u001b[39m   │ \u001b[90mAny\u001b[39m        │ \u001b[90mUnion…\u001b[39m   │ \u001b[90mAny\u001b[39m        │ \u001b[90mUnion…\u001b[39m  │\n",
       "├─────┼──────────┼──────────┼────────────┼──────────┼────────────┼─────────┤\n",
       "│ 1   │ Day      │ 737354.0 │ 736949     │ 737354.0 │ 737759     │         │\n",
       "│ 2   │ Date     │          │ 2018-09-12 │          │ 2020-11-30 │ 811     │\n",
       "│ 3   │ Value    │ -96.4081 │ -128.0     │ -111.0   │ 127.0      │         │\n",
       "│ 4   │ Original │ 8.10054  │ 1.19       │ 4.85     │ 56.99      │         │\n",
       "│ 5   │ Avg005   │ -96.4567 │ -127.0     │ -111.4   │ 112.0      │         │\n",
       "│ 6   │ Avg030   │ -96.3749 │ -126.37    │ -111.4   │ 75.8       │         │\n",
       "│ 7   │ Avg090   │ -92.8742 │ -124.66    │ -109.37  │ 3.71       │         │\n",
       "│ 8   │ Avg180   │ -84.5552 │ -121.9     │ -107.68  │ 0.0        │         │\n",
       "│ 9   │ Avg365   │ -61.7176 │ -119.82    │ -98.93   │ 0.0        │         │"
      ]
     },
     "execution_count": 19,
     "metadata": {},
     "output_type": "execute_result"
    }
   ],
   "source": [
    "insertcols!(df, 5,  :Avg005   => averages005  , makeunique=true)\n",
    "insertcols!(df, 6,  :Avg030   => averages030  , makeunique=true)\n",
    "insertcols!(df, 7,  :Avg090   => averages090  , makeunique=true)\n",
    "insertcols!(df, 8,  :Avg180   => averages180  , makeunique=true)\n",
    "insertcols!(df, 9,  :Avg365   => averages365  , makeunique=true)\n",
    "\n",
    "using Statistics\n",
    "describe(df)"
   ]
  },
  {
   "cell_type": "markdown",
   "metadata": {},
   "source": [
    "## Position on given Date\n",
    "- Indicates the date of the last major position event"
   ]
  },
  {
   "cell_type": "code",
   "execution_count": 20,
   "metadata": {
    "ExecuteTime": {
     "end_time": "2020-11-30T20:08:56.304000-05:00",
     "start_time": "2020-12-01T01:08:55.008Z"
    }
   },
   "outputs": [
    {
     "data": {
      "text/plain": [
       "3-element Array{Float64,1}:\n",
       " -34.0\n",
       " -34.0\n",
       " -34.0"
      ]
     },
     "execution_count": 20,
     "metadata": {},
     "output_type": "execute_result"
    }
   ],
   "source": [
    "position_column = position_on_date(df, last_position_change )\n",
    "position_column[1:3]"
   ]
  },
  {
   "cell_type": "markdown",
   "metadata": {},
   "source": [
    "### Position: Draw Plots"
   ]
  },
  {
   "cell_type": "code",
   "execution_count": 21,
   "metadata": {
    "ExecuteTime": {
     "end_time": "2020-11-30T20:09:00.288000-05:00",
     "start_time": "2020-12-01T01:08:59.935Z"
    }
   },
   "outputs": [
    {
     "data": {
      "image/svg+xml": [
       "<?xml version=\"1.0\" encoding=\"utf-8\"?>\n",
       "<svg xmlns=\"http://www.w3.org/2000/svg\" xmlns:xlink=\"http://www.w3.org/1999/xlink\" width=\"980\" height=\"400\" viewBox=\"0 0 3920 1600\">\n",
       "<defs>\n",
       "  <clipPath id=\"clip9700\">\n",
       "    <rect x=\"0\" y=\"0\" width=\"3920\" height=\"1600\"/>\n",
       "  </clipPath>\n",
       "</defs>\n",
       "<path clip-path=\"url(#clip9700)\" d=\"\n",
       "M0 1600 L3920 1600 L3920 0 L0 0  Z\n",
       "  \" fill=\"#ffffff\" fill-rule=\"evenodd\" fill-opacity=\"1\"/>\n",
       "<defs>\n",
       "  <clipPath id=\"clip9701\">\n",
       "    <rect x=\"784\" y=\"0\" width=\"2745\" height=\"1600\"/>\n",
       "  </clipPath>\n",
       "</defs>\n",
       "<path clip-path=\"url(#clip9700)\" d=\"\n",
       "M239.325 1455.01 L3872.76 1455.01 L3872.76 47.2441 L239.325 47.2441  Z\n",
       "  \" fill=\"#ffffff\" fill-rule=\"evenodd\" fill-opacity=\"1\"/>\n",
       "<defs>\n",
       "  <clipPath id=\"clip9702\">\n",
       "    <rect x=\"239\" y=\"47\" width=\"3634\" height=\"1409\"/>\n",
       "  </clipPath>\n",
       "</defs>\n",
       "<polyline clip-path=\"url(#clip9702)\" style=\"stroke:#000000; stroke-width:2; stroke-opacity:0.1; fill:none\" points=\"\n",
       "  342.158,1455.01 342.158,47.2441 \n",
       "  \"/>\n",
       "<polyline clip-path=\"url(#clip9702)\" style=\"stroke:#000000; stroke-width:2; stroke-opacity:0.1; fill:none\" points=\"\n",
       "  570.676,1455.01 570.676,47.2441 \n",
       "  \"/>\n",
       "<polyline clip-path=\"url(#clip9702)\" style=\"stroke:#000000; stroke-width:2; stroke-opacity:0.1; fill:none\" points=\"\n",
       "  837.28,1455.01 837.28,47.2441 \n",
       "  \"/>\n",
       "<polyline clip-path=\"url(#clip9702)\" style=\"stroke:#000000; stroke-width:2; stroke-opacity:0.1; fill:none\" points=\"\n",
       "  1065.8,1455.01 1065.8,47.2441 \n",
       "  \"/>\n",
       "<polyline clip-path=\"url(#clip9702)\" style=\"stroke:#000000; stroke-width:2; stroke-opacity:0.1; fill:none\" points=\"\n",
       "  1332.4,1455.01 1332.4,47.2441 \n",
       "  \"/>\n",
       "<polyline clip-path=\"url(#clip9702)\" style=\"stroke:#000000; stroke-width:2; stroke-opacity:0.1; fill:none\" points=\"\n",
       "  1560.92,1455.01 1560.92,47.2441 \n",
       "  \"/>\n",
       "<polyline clip-path=\"url(#clip9702)\" style=\"stroke:#000000; stroke-width:2; stroke-opacity:0.1; fill:none\" points=\"\n",
       "  1827.52,1455.01 1827.52,47.2441 \n",
       "  \"/>\n",
       "<polyline clip-path=\"url(#clip9702)\" style=\"stroke:#000000; stroke-width:2; stroke-opacity:0.1; fill:none\" points=\"\n",
       "  2056.04,1455.01 2056.04,47.2441 \n",
       "  \"/>\n",
       "<polyline clip-path=\"url(#clip9702)\" style=\"stroke:#000000; stroke-width:2; stroke-opacity:0.1; fill:none\" points=\"\n",
       "  2284.56,1455.01 2284.56,47.2441 \n",
       "  \"/>\n",
       "<polyline clip-path=\"url(#clip9702)\" style=\"stroke:#000000; stroke-width:2; stroke-opacity:0.1; fill:none\" points=\"\n",
       "  2551.16,1455.01 2551.16,47.2441 \n",
       "  \"/>\n",
       "<polyline clip-path=\"url(#clip9702)\" style=\"stroke:#000000; stroke-width:2; stroke-opacity:0.1; fill:none\" points=\"\n",
       "  2779.68,1455.01 2779.68,47.2441 \n",
       "  \"/>\n",
       "<polyline clip-path=\"url(#clip9702)\" style=\"stroke:#000000; stroke-width:2; stroke-opacity:0.1; fill:none\" points=\"\n",
       "  3046.28,1455.01 3046.28,47.2441 \n",
       "  \"/>\n",
       "<polyline clip-path=\"url(#clip9702)\" style=\"stroke:#000000; stroke-width:2; stroke-opacity:0.1; fill:none\" points=\"\n",
       "  3274.8,1455.01 3274.8,47.2441 \n",
       "  \"/>\n",
       "<polyline clip-path=\"url(#clip9702)\" style=\"stroke:#000000; stroke-width:2; stroke-opacity:0.1; fill:none\" points=\"\n",
       "  3541.41,1455.01 3541.41,47.2441 \n",
       "  \"/>\n",
       "<polyline clip-path=\"url(#clip9702)\" style=\"stroke:#000000; stroke-width:2; stroke-opacity:0.1; fill:none\" points=\"\n",
       "  3769.92,1455.01 3769.92,47.2441 \n",
       "  \"/>\n",
       "<polyline clip-path=\"url(#clip9702)\" style=\"stroke:#000000; stroke-width:2; stroke-opacity:0.1; fill:none\" points=\"\n",
       "  239.325,1415.63 3872.76,1415.63 \n",
       "  \"/>\n",
       "<polyline clip-path=\"url(#clip9702)\" style=\"stroke:#000000; stroke-width:2; stroke-opacity:0.1; fill:none\" points=\"\n",
       "  239.325,1123 3872.76,1123 \n",
       "  \"/>\n",
       "<polyline clip-path=\"url(#clip9702)\" style=\"stroke:#000000; stroke-width:2; stroke-opacity:0.1; fill:none\" points=\"\n",
       "  239.325,830.37 3872.76,830.37 \n",
       "  \"/>\n",
       "<polyline clip-path=\"url(#clip9702)\" style=\"stroke:#000000; stroke-width:2; stroke-opacity:0.1; fill:none\" points=\"\n",
       "  239.325,537.739 3872.76,537.739 \n",
       "  \"/>\n",
       "<polyline clip-path=\"url(#clip9702)\" style=\"stroke:#000000; stroke-width:2; stroke-opacity:0.1; fill:none\" points=\"\n",
       "  239.325,245.107 3872.76,245.107 \n",
       "  \"/>\n",
       "<polyline clip-path=\"url(#clip9700)\" style=\"stroke:#000000; stroke-width:4; stroke-opacity:1; fill:none\" points=\"\n",
       "  239.325,1455.01 3872.76,1455.01 \n",
       "  \"/>\n",
       "<polyline clip-path=\"url(#clip9700)\" style=\"stroke:#000000; stroke-width:4; stroke-opacity:1; fill:none\" points=\"\n",
       "  239.325,1455.01 239.325,47.2441 \n",
       "  \"/>\n",
       "<polyline clip-path=\"url(#clip9700)\" style=\"stroke:#000000; stroke-width:4; stroke-opacity:1; fill:none\" points=\"\n",
       "  342.158,1455.01 342.158,1438.11 \n",
       "  \"/>\n",
       "<polyline clip-path=\"url(#clip9700)\" style=\"stroke:#000000; stroke-width:4; stroke-opacity:1; fill:none\" points=\"\n",
       "  570.676,1455.01 570.676,1438.11 \n",
       "  \"/>\n",
       "<polyline clip-path=\"url(#clip9700)\" style=\"stroke:#000000; stroke-width:4; stroke-opacity:1; fill:none\" points=\"\n",
       "  837.28,1455.01 837.28,1438.11 \n",
       "  \"/>\n",
       "<polyline clip-path=\"url(#clip9700)\" style=\"stroke:#000000; stroke-width:4; stroke-opacity:1; fill:none\" points=\"\n",
       "  1065.8,1455.01 1065.8,1438.11 \n",
       "  \"/>\n",
       "<polyline clip-path=\"url(#clip9700)\" style=\"stroke:#000000; stroke-width:4; stroke-opacity:1; fill:none\" points=\"\n",
       "  1332.4,1455.01 1332.4,1438.11 \n",
       "  \"/>\n",
       "<polyline clip-path=\"url(#clip9700)\" style=\"stroke:#000000; stroke-width:4; stroke-opacity:1; fill:none\" points=\"\n",
       "  1560.92,1455.01 1560.92,1438.11 \n",
       "  \"/>\n",
       "<polyline clip-path=\"url(#clip9700)\" style=\"stroke:#000000; stroke-width:4; stroke-opacity:1; fill:none\" points=\"\n",
       "  1827.52,1455.01 1827.52,1438.11 \n",
       "  \"/>\n",
       "<polyline clip-path=\"url(#clip9700)\" style=\"stroke:#000000; stroke-width:4; stroke-opacity:1; fill:none\" points=\"\n",
       "  2056.04,1455.01 2056.04,1438.11 \n",
       "  \"/>\n",
       "<polyline clip-path=\"url(#clip9700)\" style=\"stroke:#000000; stroke-width:4; stroke-opacity:1; fill:none\" points=\"\n",
       "  2284.56,1455.01 2284.56,1438.11 \n",
       "  \"/>\n",
       "<polyline clip-path=\"url(#clip9700)\" style=\"stroke:#000000; stroke-width:4; stroke-opacity:1; fill:none\" points=\"\n",
       "  2551.16,1455.01 2551.16,1438.11 \n",
       "  \"/>\n",
       "<polyline clip-path=\"url(#clip9700)\" style=\"stroke:#000000; stroke-width:4; stroke-opacity:1; fill:none\" points=\"\n",
       "  2779.68,1455.01 2779.68,1438.11 \n",
       "  \"/>\n",
       "<polyline clip-path=\"url(#clip9700)\" style=\"stroke:#000000; stroke-width:4; stroke-opacity:1; fill:none\" points=\"\n",
       "  3046.28,1455.01 3046.28,1438.11 \n",
       "  \"/>\n",
       "<polyline clip-path=\"url(#clip9700)\" style=\"stroke:#000000; stroke-width:4; stroke-opacity:1; fill:none\" points=\"\n",
       "  3274.8,1455.01 3274.8,1438.11 \n",
       "  \"/>\n",
       "<polyline clip-path=\"url(#clip9700)\" style=\"stroke:#000000; stroke-width:4; stroke-opacity:1; fill:none\" points=\"\n",
       "  3541.41,1455.01 3541.41,1438.11 \n",
       "  \"/>\n",
       "<polyline clip-path=\"url(#clip9700)\" style=\"stroke:#000000; stroke-width:4; stroke-opacity:1; fill:none\" points=\"\n",
       "  3769.92,1455.01 3769.92,1438.11 \n",
       "  \"/>\n",
       "<polyline clip-path=\"url(#clip9700)\" style=\"stroke:#000000; stroke-width:4; stroke-opacity:1; fill:none\" points=\"\n",
       "  239.325,1415.63 282.926,1415.63 \n",
       "  \"/>\n",
       "<polyline clip-path=\"url(#clip9700)\" style=\"stroke:#000000; stroke-width:4; stroke-opacity:1; fill:none\" points=\"\n",
       "  239.325,1123 282.926,1123 \n",
       "  \"/>\n",
       "<polyline clip-path=\"url(#clip9700)\" style=\"stroke:#000000; stroke-width:4; stroke-opacity:1; fill:none\" points=\"\n",
       "  239.325,830.37 282.926,830.37 \n",
       "  \"/>\n",
       "<polyline clip-path=\"url(#clip9700)\" style=\"stroke:#000000; stroke-width:4; stroke-opacity:1; fill:none\" points=\"\n",
       "  239.325,537.739 282.926,537.739 \n",
       "  \"/>\n",
       "<polyline clip-path=\"url(#clip9700)\" style=\"stroke:#000000; stroke-width:4; stroke-opacity:1; fill:none\" points=\"\n",
       "  239.325,245.107 282.926,245.107 \n",
       "  \"/>\n",
       "<path clip-path=\"url(#clip9700)\" d=\"M 0 0 M277.378 1515.36 L277.378 1511.1 Q279.138 1511.94 280.943 1512.38 Q282.749 1512.81 284.485 1512.81 Q289.114 1512.81 291.545 1509.71 Q293.999 1506.59 294.346 1500.25 Q293.003 1502.24 290.943 1503.3 Q288.883 1504.37 286.383 1504.37 Q281.198 1504.37 278.165 1501.24 Q275.156 1498.09 275.156 1492.65 Q275.156 1487.33 278.304 1484.11 Q281.452 1480.89 286.684 1480.89 Q292.679 1480.89 295.827 1485.5 Q298.999 1490.08 298.999 1498.83 Q298.999 1507 295.11 1511.89 Q291.244 1516.75 284.693 1516.75 Q282.934 1516.75 281.128 1516.4 Q279.323 1516.06 277.378 1515.36 M286.684 1500.71 Q289.832 1500.71 291.661 1498.56 Q293.513 1496.4 293.513 1492.65 Q293.513 1488.93 291.661 1486.77 Q289.832 1484.6 286.684 1484.6 Q283.536 1484.6 281.684 1486.77 Q279.855 1488.93 279.855 1492.65 Q279.855 1496.4 281.684 1498.56 Q283.536 1500.71 286.684 1500.71 Z\" fill=\"#000000\" fill-rule=\"evenodd\" fill-opacity=\"1\" /><path clip-path=\"url(#clip9700)\" d=\"M 0 0 M311.036 1481.52 L314.971 1481.52 L302.934 1520.48 L298.999 1520.48 L311.036 1481.52 Z\" fill=\"#000000\" fill-rule=\"evenodd\" fill-opacity=\"1\" /><path clip-path=\"url(#clip9700)\" d=\"M 0 0 M320.85 1512.14 L328.489 1512.14 L328.489 1485.78 L320.179 1487.44 L320.179 1483.19 L328.443 1481.52 L333.119 1481.52 L333.119 1512.14 L340.758 1512.14 L340.758 1516.08 L320.85 1516.08 L320.85 1512.14 Z\" fill=\"#000000\" fill-rule=\"evenodd\" fill-opacity=\"1\" /><path clip-path=\"url(#clip9700)\" d=\"M 0 0 M352.795 1481.52 L356.73 1481.52 L344.693 1520.48 L340.758 1520.48 L352.795 1481.52 Z\" fill=\"#000000\" fill-rule=\"evenodd\" fill-opacity=\"1\" /><path clip-path=\"url(#clip9700)\" d=\"M 0 0 M365.827 1512.14 L382.146 1512.14 L382.146 1516.08 L360.202 1516.08 L360.202 1512.14 Q362.864 1509.39 367.447 1504.76 Q372.054 1500.11 373.234 1498.76 Q375.48 1496.24 376.359 1494.5 Q377.262 1492.75 377.262 1491.06 Q377.262 1488.3 375.318 1486.57 Q373.396 1484.83 370.295 1484.83 Q368.096 1484.83 365.642 1485.59 Q363.211 1486.36 360.434 1487.91 L360.434 1483.19 Q363.258 1482.05 365.711 1481.47 Q368.165 1480.89 370.202 1480.89 Q375.572 1480.89 378.767 1483.58 Q381.961 1486.26 381.961 1490.75 Q381.961 1492.88 381.151 1494.81 Q380.364 1496.7 378.257 1499.3 Q377.679 1499.97 374.577 1503.19 Q371.475 1506.38 365.827 1512.14 Z\" fill=\"#000000\" fill-rule=\"evenodd\" fill-opacity=\"1\" /><path clip-path=\"url(#clip9700)\" d=\"M 0 0 M397.216 1484.6 Q393.605 1484.6 391.776 1488.16 Q389.97 1491.7 389.97 1498.83 Q389.97 1505.94 391.776 1509.5 Q393.605 1513.05 397.216 1513.05 Q400.85 1513.05 402.656 1509.5 Q404.484 1505.94 404.484 1498.83 Q404.484 1491.7 402.656 1488.16 Q400.85 1484.6 397.216 1484.6 M397.216 1480.89 Q403.026 1480.89 406.081 1485.5 Q409.16 1490.08 409.16 1498.83 Q409.16 1507.56 406.081 1512.17 Q403.026 1516.75 397.216 1516.75 Q391.406 1516.75 388.327 1512.17 Q385.271 1507.56 385.271 1498.83 Q385.271 1490.08 388.327 1485.5 Q391.406 1480.89 397.216 1480.89 Z\" fill=\"#000000\" fill-rule=\"evenodd\" fill-opacity=\"1\" /><path clip-path=\"url(#clip9700)\" d=\"M 0 0 M505.734 1515.36 L505.734 1511.1 Q507.493 1511.94 509.299 1512.38 Q511.104 1512.81 512.84 1512.81 Q517.47 1512.81 519.901 1509.71 Q522.354 1506.59 522.702 1500.25 Q521.359 1502.24 519.299 1503.3 Q517.239 1504.37 514.739 1504.37 Q509.553 1504.37 506.521 1501.24 Q503.512 1498.09 503.512 1492.65 Q503.512 1487.33 506.66 1484.11 Q509.808 1480.89 515.04 1480.89 Q521.035 1480.89 524.183 1485.5 Q527.354 1490.08 527.354 1498.83 Q527.354 1507 523.465 1511.89 Q519.6 1516.75 513.049 1516.75 Q511.29 1516.75 509.484 1516.4 Q507.678 1516.06 505.734 1515.36 M515.04 1500.71 Q518.188 1500.71 520.016 1498.56 Q521.868 1496.4 521.868 1492.65 Q521.868 1488.93 520.016 1486.77 Q518.188 1484.6 515.04 1484.6 Q511.891 1484.6 510.04 1486.77 Q508.211 1488.93 508.211 1492.65 Q508.211 1496.4 510.04 1498.56 Q511.891 1500.71 515.04 1500.71 Z\" fill=\"#000000\" fill-rule=\"evenodd\" fill-opacity=\"1\" /><path clip-path=\"url(#clip9700)\" d=\"M 0 0 M539.391 1481.52 L543.326 1481.52 L531.289 1520.48 L527.354 1520.48 L539.391 1481.52 Z\" fill=\"#000000\" fill-rule=\"evenodd\" fill-opacity=\"1\" /><path clip-path=\"url(#clip9700)\" d=\"M 0 0 M547.215 1481.52 L569.437 1481.52 L569.437 1483.51 L556.891 1516.08 L552.007 1516.08 L563.812 1485.45 L547.215 1485.45 L547.215 1481.52 Z\" fill=\"#000000\" fill-rule=\"evenodd\" fill-opacity=\"1\" /><path clip-path=\"url(#clip9700)\" d=\"M 0 0 M581.474 1481.52 L585.41 1481.52 L573.373 1520.48 L569.437 1520.48 L581.474 1481.52 Z\" fill=\"#000000\" fill-rule=\"evenodd\" fill-opacity=\"1\" /><path clip-path=\"url(#clip9700)\" d=\"M 0 0 M594.507 1512.14 L610.826 1512.14 L610.826 1516.08 L588.882 1516.08 L588.882 1512.14 Q591.544 1509.39 596.127 1504.76 Q600.734 1500.11 601.914 1498.76 Q604.159 1496.24 605.039 1494.5 Q605.942 1492.75 605.942 1491.06 Q605.942 1488.3 603.997 1486.57 Q602.076 1484.83 598.974 1484.83 Q596.775 1484.83 594.322 1485.59 Q591.891 1486.36 589.113 1487.91 L589.113 1483.19 Q591.937 1482.05 594.391 1481.47 Q596.845 1480.89 598.882 1480.89 Q604.252 1480.89 607.446 1483.58 Q610.641 1486.26 610.641 1490.75 Q610.641 1492.88 609.831 1494.81 Q609.044 1496.7 606.937 1499.3 Q606.358 1499.97 603.257 1503.19 Q600.155 1506.38 594.507 1512.14 Z\" fill=\"#000000\" fill-rule=\"evenodd\" fill-opacity=\"1\" /><path clip-path=\"url(#clip9700)\" d=\"M 0 0 M625.895 1484.6 Q622.284 1484.6 620.456 1488.16 Q618.65 1491.7 618.65 1498.83 Q618.65 1505.94 620.456 1509.5 Q622.284 1513.05 625.895 1513.05 Q629.53 1513.05 631.335 1509.5 Q633.164 1505.94 633.164 1498.83 Q633.164 1491.7 631.335 1488.16 Q629.53 1484.6 625.895 1484.6 M625.895 1480.89 Q631.706 1480.89 634.761 1485.5 Q637.84 1490.08 637.84 1498.83 Q637.84 1507.56 634.761 1512.17 Q631.706 1516.75 625.895 1516.75 Q620.085 1516.75 617.007 1512.17 Q613.951 1507.56 613.951 1498.83 Q613.951 1490.08 617.007 1485.5 Q620.085 1480.89 625.895 1480.89 Z\" fill=\"#000000\" fill-rule=\"evenodd\" fill-opacity=\"1\" /><path clip-path=\"url(#clip9700)\" d=\"M 0 0 M758.75 1515.36 L758.75 1511.1 Q760.509 1511.94 762.315 1512.38 Q764.12 1512.81 765.857 1512.81 Q770.486 1512.81 772.917 1509.71 Q775.37 1506.59 775.718 1500.25 Q774.375 1502.24 772.315 1503.3 Q770.255 1504.37 767.755 1504.37 Q762.569 1504.37 759.537 1501.24 Q756.528 1498.09 756.528 1492.65 Q756.528 1487.33 759.676 1484.11 Q762.824 1480.89 768.056 1480.89 Q774.051 1480.89 777.199 1485.5 Q780.37 1490.08 780.37 1498.83 Q780.37 1507 776.481 1511.89 Q772.616 1516.75 766.065 1516.75 Q764.306 1516.75 762.5 1516.4 Q760.694 1516.06 758.75 1515.36 M768.056 1500.71 Q771.204 1500.71 773.032 1498.56 Q774.884 1496.4 774.884 1492.65 Q774.884 1488.93 773.032 1486.77 Q771.204 1484.6 768.056 1484.6 Q764.907 1484.6 763.056 1486.77 Q761.227 1488.93 761.227 1492.65 Q761.227 1496.4 763.056 1498.56 Q764.907 1500.71 768.056 1500.71 Z\" fill=\"#000000\" fill-rule=\"evenodd\" fill-opacity=\"1\" /><path clip-path=\"url(#clip9700)\" d=\"M 0 0 M792.407 1481.52 L796.342 1481.52 L784.305 1520.48 L780.37 1520.48 L792.407 1481.52 Z\" fill=\"#000000\" fill-rule=\"evenodd\" fill-opacity=\"1\" /><path clip-path=\"url(#clip9700)\" d=\"M 0 0 M802.222 1512.14 L809.861 1512.14 L809.861 1485.78 L801.551 1487.44 L801.551 1483.19 L809.815 1481.52 L814.491 1481.52 L814.491 1512.14 L822.129 1512.14 L822.129 1516.08 L802.222 1516.08 L802.222 1512.14 Z\" fill=\"#000000\" fill-rule=\"evenodd\" fill-opacity=\"1\" /><path clip-path=\"url(#clip9700)\" d=\"M 0 0 M840.046 1485.59 L828.24 1504.04 L840.046 1504.04 L840.046 1485.59 M838.819 1481.52 L844.699 1481.52 L844.699 1504.04 L849.629 1504.04 L849.629 1507.93 L844.699 1507.93 L844.699 1516.08 L840.046 1516.08 L840.046 1507.93 L824.444 1507.93 L824.444 1503.42 L838.819 1481.52 Z\" fill=\"#000000\" fill-rule=\"evenodd\" fill-opacity=\"1\" /><path clip-path=\"url(#clip9700)\" d=\"M 0 0 M861.666 1481.52 L865.601 1481.52 L853.564 1520.48 L849.629 1520.48 L861.666 1481.52 Z\" fill=\"#000000\" fill-rule=\"evenodd\" fill-opacity=\"1\" /><path clip-path=\"url(#clip9700)\" d=\"M 0 0 M874.699 1512.14 L891.018 1512.14 L891.018 1516.08 L869.074 1516.08 L869.074 1512.14 Q871.736 1509.39 876.319 1504.76 Q880.925 1500.11 882.106 1498.76 Q884.351 1496.24 885.231 1494.5 Q886.134 1492.75 886.134 1491.06 Q886.134 1488.3 884.189 1486.57 Q882.268 1484.83 879.166 1484.83 Q876.967 1484.83 874.513 1485.59 Q872.083 1486.36 869.305 1487.91 L869.305 1483.19 Q872.129 1482.05 874.583 1481.47 Q877.036 1480.89 879.073 1480.89 Q884.444 1480.89 887.638 1483.58 Q890.833 1486.26 890.833 1490.75 Q890.833 1492.88 890.023 1494.81 Q889.235 1496.7 887.129 1499.3 Q886.55 1499.97 883.448 1503.19 Q880.347 1506.38 874.699 1512.14 Z\" fill=\"#000000\" fill-rule=\"evenodd\" fill-opacity=\"1\" /><path clip-path=\"url(#clip9700)\" d=\"M 0 0 M906.087 1484.6 Q902.476 1484.6 900.647 1488.16 Q898.842 1491.7 898.842 1498.83 Q898.842 1505.94 900.647 1509.5 Q902.476 1513.05 906.087 1513.05 Q909.721 1513.05 911.527 1509.5 Q913.356 1505.94 913.356 1498.83 Q913.356 1491.7 911.527 1488.16 Q909.721 1484.6 906.087 1484.6 M906.087 1480.89 Q911.897 1480.89 914.953 1485.5 Q918.032 1490.08 918.032 1498.83 Q918.032 1507.56 914.953 1512.17 Q911.897 1516.75 906.087 1516.75 Q900.277 1516.75 897.198 1512.17 Q894.143 1507.56 894.143 1498.83 Q894.143 1490.08 897.198 1485.5 Q900.277 1480.89 906.087 1480.89 Z\" fill=\"#000000\" fill-rule=\"evenodd\" fill-opacity=\"1\" /><path clip-path=\"url(#clip9700)\" d=\"M 0 0 M987.696 1515.36 L987.696 1511.1 Q989.455 1511.94 991.261 1512.38 Q993.066 1512.81 994.802 1512.81 Q999.432 1512.81 1001.86 1509.71 Q1004.32 1506.59 1004.66 1500.25 Q1003.32 1502.24 1001.26 1503.3 Q999.201 1504.37 996.701 1504.37 Q991.515 1504.37 988.483 1501.24 Q985.474 1498.09 985.474 1492.65 Q985.474 1487.33 988.622 1484.11 Q991.77 1480.89 997.001 1480.89 Q1003 1480.89 1006.14 1485.5 Q1009.32 1490.08 1009.32 1498.83 Q1009.32 1507 1005.43 1511.89 Q1001.56 1516.75 995.011 1516.75 Q993.251 1516.75 991.446 1516.4 Q989.64 1516.06 987.696 1515.36 M997.001 1500.71 Q1000.15 1500.71 1001.98 1498.56 Q1003.83 1496.4 1003.83 1492.65 Q1003.83 1488.93 1001.98 1486.77 Q1000.15 1484.6 997.001 1484.6 Q993.853 1484.6 992.001 1486.77 Q990.173 1488.93 990.173 1492.65 Q990.173 1496.4 992.001 1498.56 Q993.853 1500.71 997.001 1500.71 Z\" fill=\"#000000\" fill-rule=\"evenodd\" fill-opacity=\"1\" /><path clip-path=\"url(#clip9700)\" d=\"M 0 0 M1021.35 1481.52 L1025.29 1481.52 L1013.25 1520.48 L1009.32 1520.48 L1021.35 1481.52 Z\" fill=\"#000000\" fill-rule=\"evenodd\" fill-opacity=\"1\" /><path clip-path=\"url(#clip9700)\" d=\"M 0 0 M1034.39 1512.14 L1050.7 1512.14 L1050.7 1516.08 L1028.76 1516.08 L1028.76 1512.14 Q1031.42 1509.39 1036.01 1504.76 Q1040.61 1500.11 1041.79 1498.76 Q1044.04 1496.24 1044.92 1494.5 Q1045.82 1492.75 1045.82 1491.06 Q1045.82 1488.3 1043.88 1486.57 Q1041.95 1484.83 1038.85 1484.83 Q1036.65 1484.83 1034.2 1485.59 Q1031.77 1486.36 1028.99 1487.91 L1028.99 1483.19 Q1031.82 1482.05 1034.27 1481.47 Q1036.72 1480.89 1038.76 1480.89 Q1044.13 1480.89 1047.33 1483.58 Q1050.52 1486.26 1050.52 1490.75 Q1050.52 1492.88 1049.71 1494.81 Q1048.92 1496.7 1046.82 1499.3 Q1046.24 1499.97 1043.14 1503.19 Q1040.03 1506.38 1034.39 1512.14 Z\" fill=\"#000000\" fill-rule=\"evenodd\" fill-opacity=\"1\" /><path clip-path=\"url(#clip9700)\" d=\"M 0 0 M1065.77 1484.6 Q1062.16 1484.6 1060.33 1488.16 Q1058.53 1491.7 1058.53 1498.83 Q1058.53 1505.94 1060.33 1509.5 Q1062.16 1513.05 1065.77 1513.05 Q1069.41 1513.05 1071.21 1509.5 Q1073.04 1505.94 1073.04 1498.83 Q1073.04 1491.7 1071.21 1488.16 Q1069.41 1484.6 1065.77 1484.6 M1065.77 1480.89 Q1071.58 1480.89 1074.64 1485.5 Q1077.72 1490.08 1077.72 1498.83 Q1077.72 1507.56 1074.64 1512.17 Q1071.58 1516.75 1065.77 1516.75 Q1059.96 1516.75 1056.89 1512.17 Q1053.83 1507.56 1053.83 1498.83 Q1053.83 1490.08 1056.89 1485.5 Q1059.96 1480.89 1065.77 1480.89 Z\" fill=\"#000000\" fill-rule=\"evenodd\" fill-opacity=\"1\" /><path clip-path=\"url(#clip9700)\" d=\"M 0 0 M1089.76 1481.52 L1093.69 1481.52 L1081.65 1520.48 L1077.72 1520.48 L1089.76 1481.52 Z\" fill=\"#000000\" fill-rule=\"evenodd\" fill-opacity=\"1\" /><path clip-path=\"url(#clip9700)\" d=\"M 0 0 M1102.79 1512.14 L1119.11 1512.14 L1119.11 1516.08 L1097.16 1516.08 L1097.16 1512.14 Q1099.82 1509.39 1104.41 1504.76 Q1109.01 1500.11 1110.2 1498.76 Q1112.44 1496.24 1113.32 1494.5 Q1114.22 1492.75 1114.22 1491.06 Q1114.22 1488.3 1112.28 1486.57 Q1110.36 1484.83 1107.26 1484.83 Q1105.06 1484.83 1102.6 1485.59 Q1100.17 1486.36 1097.39 1487.91 L1097.39 1483.19 Q1100.22 1482.05 1102.67 1481.47 Q1105.13 1480.89 1107.16 1480.89 Q1112.53 1480.89 1115.73 1483.58 Q1118.92 1486.26 1118.92 1490.75 Q1118.92 1492.88 1118.11 1494.81 Q1117.32 1496.7 1115.22 1499.3 Q1114.64 1499.97 1111.54 1503.19 Q1108.44 1506.38 1102.79 1512.14 Z\" fill=\"#000000\" fill-rule=\"evenodd\" fill-opacity=\"1\" /><path clip-path=\"url(#clip9700)\" d=\"M 0 0 M1134.18 1484.6 Q1130.57 1484.6 1128.74 1488.16 Q1126.93 1491.7 1126.93 1498.83 Q1126.93 1505.94 1128.74 1509.5 Q1130.57 1513.05 1134.18 1513.05 Q1137.81 1513.05 1139.62 1509.5 Q1141.45 1505.94 1141.45 1498.83 Q1141.45 1491.7 1139.62 1488.16 Q1137.81 1484.6 1134.18 1484.6 M1134.18 1480.89 Q1139.99 1480.89 1143.04 1485.5 Q1146.12 1490.08 1146.12 1498.83 Q1146.12 1507.56 1143.04 1512.17 Q1139.99 1516.75 1134.18 1516.75 Q1128.37 1516.75 1125.29 1512.17 Q1122.23 1507.56 1122.23 1498.83 Q1122.23 1490.08 1125.29 1485.5 Q1128.37 1480.89 1134.18 1480.89 Z\" fill=\"#000000\" fill-rule=\"evenodd\" fill-opacity=\"1\" /><path clip-path=\"url(#clip9700)\" d=\"M 0 0 M1254.75 1515.36 L1254.75 1511.1 Q1256.51 1511.94 1258.32 1512.38 Q1260.12 1512.81 1261.86 1512.81 Q1266.49 1512.81 1268.92 1509.71 Q1271.37 1506.59 1271.72 1500.25 Q1270.38 1502.24 1268.32 1503.3 Q1266.26 1504.37 1263.76 1504.37 Q1258.57 1504.37 1255.54 1501.24 Q1252.53 1498.09 1252.53 1492.65 Q1252.53 1487.33 1255.68 1484.11 Q1258.83 1480.89 1264.06 1480.89 Q1270.05 1480.89 1273.2 1485.5 Q1276.37 1490.08 1276.37 1498.83 Q1276.37 1507 1272.48 1511.89 Q1268.62 1516.75 1262.07 1516.75 Q1260.31 1516.75 1258.5 1516.4 Q1256.7 1516.06 1254.75 1515.36 M1264.06 1500.71 Q1267.2 1500.71 1269.03 1498.56 Q1270.89 1496.4 1270.89 1492.65 Q1270.89 1488.93 1269.03 1486.77 Q1267.2 1484.6 1264.06 1484.6 Q1260.91 1484.6 1259.06 1486.77 Q1257.23 1488.93 1257.23 1492.65 Q1257.23 1496.4 1259.06 1498.56 Q1260.91 1500.71 1264.06 1500.71 Z\" fill=\"#000000\" fill-rule=\"evenodd\" fill-opacity=\"1\" /><path clip-path=\"url(#clip9700)\" d=\"M 0 0 M1288.41 1481.52 L1292.34 1481.52 L1280.31 1520.48 L1276.37 1520.48 L1288.41 1481.52 Z\" fill=\"#000000\" fill-rule=\"evenodd\" fill-opacity=\"1\" /><path clip-path=\"url(#clip9700)\" d=\"M 0 0 M1301.44 1512.14 L1317.76 1512.14 L1317.76 1516.08 L1295.82 1516.08 L1295.82 1512.14 Q1298.48 1509.39 1303.06 1504.76 Q1307.67 1500.11 1308.85 1498.76 Q1311.09 1496.24 1311.97 1494.5 Q1312.88 1492.75 1312.88 1491.06 Q1312.88 1488.3 1310.93 1486.57 Q1309.01 1484.83 1305.91 1484.83 Q1303.71 1484.83 1301.26 1485.59 Q1298.83 1486.36 1296.05 1487.91 L1296.05 1483.19 Q1298.87 1482.05 1301.33 1481.47 Q1303.78 1480.89 1305.82 1480.89 Q1311.19 1480.89 1314.38 1483.58 Q1317.58 1486.26 1317.58 1490.75 Q1317.58 1492.88 1316.76 1494.81 Q1315.98 1496.7 1313.87 1499.3 Q1313.29 1499.97 1310.19 1503.19 Q1307.09 1506.38 1301.44 1512.14 Z\" fill=\"#000000\" fill-rule=\"evenodd\" fill-opacity=\"1\" /><path clip-path=\"url(#clip9700)\" d=\"M 0 0 M1321.65 1481.52 L1343.87 1481.52 L1343.87 1483.51 L1331.32 1516.08 L1326.44 1516.08 L1338.25 1485.45 L1321.65 1485.45 L1321.65 1481.52 Z\" fill=\"#000000\" fill-rule=\"evenodd\" fill-opacity=\"1\" /><path clip-path=\"url(#clip9700)\" d=\"M 0 0 M1355.91 1481.52 L1359.84 1481.52 L1347.81 1520.48 L1343.87 1520.48 L1355.91 1481.52 Z\" fill=\"#000000\" fill-rule=\"evenodd\" fill-opacity=\"1\" /><path clip-path=\"url(#clip9700)\" d=\"M 0 0 M1368.94 1512.14 L1385.26 1512.14 L1385.26 1516.08 L1363.32 1516.08 L1363.32 1512.14 Q1365.98 1509.39 1370.56 1504.76 Q1375.17 1500.11 1376.35 1498.76 Q1378.59 1496.24 1379.47 1494.5 Q1380.38 1492.75 1380.38 1491.06 Q1380.38 1488.3 1378.43 1486.57 Q1376.51 1484.83 1373.41 1484.83 Q1371.21 1484.83 1368.76 1485.59 Q1366.32 1486.36 1363.55 1487.91 L1363.55 1483.19 Q1366.37 1482.05 1368.82 1481.47 Q1371.28 1480.89 1373.32 1480.89 Q1378.69 1480.89 1381.88 1483.58 Q1385.07 1486.26 1385.07 1490.75 Q1385.07 1492.88 1384.26 1494.81 Q1383.48 1496.7 1381.37 1499.3 Q1380.79 1499.97 1377.69 1503.19 Q1374.59 1506.38 1368.94 1512.14 Z\" fill=\"#000000\" fill-rule=\"evenodd\" fill-opacity=\"1\" /><path clip-path=\"url(#clip9700)\" d=\"M 0 0 M1400.33 1484.6 Q1396.72 1484.6 1394.89 1488.16 Q1393.08 1491.7 1393.08 1498.83 Q1393.08 1505.94 1394.89 1509.5 Q1396.72 1513.05 1400.33 1513.05 Q1403.96 1513.05 1405.77 1509.5 Q1407.6 1505.94 1407.6 1498.83 Q1407.6 1491.7 1405.77 1488.16 Q1403.96 1484.6 1400.33 1484.6 M1400.33 1480.89 Q1406.14 1480.89 1409.19 1485.5 Q1412.27 1490.08 1412.27 1498.83 Q1412.27 1507.56 1409.19 1512.17 Q1406.14 1516.75 1400.33 1516.75 Q1394.52 1516.75 1391.44 1512.17 Q1388.38 1507.56 1388.38 1498.83 Q1388.38 1490.08 1391.44 1485.5 Q1394.52 1480.89 1400.33 1480.89 Z\" fill=\"#000000\" fill-rule=\"evenodd\" fill-opacity=\"1\" /><path clip-path=\"url(#clip9700)\" d=\"M 0 0 M1482.42 1512.14 L1490.06 1512.14 L1490.06 1485.78 L1481.75 1487.44 L1481.75 1483.19 L1490.02 1481.52 L1494.69 1481.52 L1494.69 1512.14 L1502.33 1512.14 L1502.33 1516.08 L1482.42 1516.08 L1482.42 1512.14 Z\" fill=\"#000000\" fill-rule=\"evenodd\" fill-opacity=\"1\" /><path clip-path=\"url(#clip9700)\" d=\"M 0 0 M1517.4 1484.6 Q1513.79 1484.6 1511.96 1488.16 Q1510.16 1491.7 1510.16 1498.83 Q1510.16 1505.94 1511.96 1509.5 Q1513.79 1513.05 1517.4 1513.05 Q1521.03 1513.05 1522.84 1509.5 Q1524.67 1505.94 1524.67 1498.83 Q1524.67 1491.7 1522.84 1488.16 Q1521.03 1484.6 1517.4 1484.6 M1517.4 1480.89 Q1523.21 1480.89 1526.27 1485.5 Q1529.35 1490.08 1529.35 1498.83 Q1529.35 1507.56 1526.27 1512.17 Q1523.21 1516.75 1517.4 1516.75 Q1511.59 1516.75 1508.51 1512.17 Q1505.46 1507.56 1505.46 1498.83 Q1505.46 1490.08 1508.51 1485.5 Q1511.59 1480.89 1517.4 1480.89 Z\" fill=\"#000000\" fill-rule=\"evenodd\" fill-opacity=\"1\" /><path clip-path=\"url(#clip9700)\" d=\"M 0 0 M1541.38 1481.52 L1545.32 1481.52 L1533.28 1520.48 L1529.35 1520.48 L1541.38 1481.52 Z\" fill=\"#000000\" fill-rule=\"evenodd\" fill-opacity=\"1\" /><path clip-path=\"url(#clip9700)\" d=\"M 0 0 M1564.55 1497.44 Q1567.91 1498.16 1569.78 1500.43 Q1571.68 1502.7 1571.68 1506.03 Q1571.68 1511.15 1568.16 1513.95 Q1564.65 1516.75 1558.16 1516.75 Q1555.99 1516.75 1553.67 1516.31 Q1551.38 1515.89 1548.93 1515.04 L1548.93 1510.52 Q1550.87 1511.66 1553.19 1512.24 Q1555.5 1512.81 1558.03 1512.81 Q1562.42 1512.81 1564.72 1511.08 Q1567.03 1509.34 1567.03 1506.03 Q1567.03 1502.98 1564.88 1501.26 Q1562.75 1499.53 1558.93 1499.53 L1554.9 1499.53 L1554.9 1495.69 L1559.11 1495.69 Q1562.56 1495.69 1564.39 1494.32 Q1566.22 1492.93 1566.22 1490.34 Q1566.22 1487.68 1564.32 1486.26 Q1562.45 1484.83 1558.93 1484.83 Q1557.01 1484.83 1554.81 1485.25 Q1552.61 1485.66 1549.97 1486.54 L1549.97 1482.38 Q1552.63 1481.63 1554.95 1481.26 Q1557.28 1480.89 1559.34 1480.89 Q1564.67 1480.89 1567.77 1483.32 Q1570.87 1485.73 1570.87 1489.85 Q1570.87 1492.72 1569.23 1494.71 Q1567.59 1496.68 1564.55 1497.44 Z\" fill=\"#000000\" fill-rule=\"evenodd\" fill-opacity=\"1\" /><path clip-path=\"url(#clip9700)\" d=\"M 0 0 M1583.72 1481.52 L1587.65 1481.52 L1575.62 1520.48 L1571.68 1520.48 L1583.72 1481.52 Z\" fill=\"#000000\" fill-rule=\"evenodd\" fill-opacity=\"1\" /><path clip-path=\"url(#clip9700)\" d=\"M 0 0 M1596.75 1512.14 L1613.07 1512.14 L1613.07 1516.08 L1591.13 1516.08 L1591.13 1512.14 Q1593.79 1509.39 1598.37 1504.76 Q1602.98 1500.11 1604.16 1498.76 Q1606.4 1496.24 1607.28 1494.5 Q1608.19 1492.75 1608.19 1491.06 Q1608.19 1488.3 1606.24 1486.57 Q1604.32 1484.83 1601.22 1484.83 Q1599.02 1484.83 1596.57 1485.59 Q1594.14 1486.36 1591.36 1487.91 L1591.36 1483.19 Q1594.18 1482.05 1596.64 1481.47 Q1599.09 1480.89 1601.13 1480.89 Q1606.5 1480.89 1609.69 1483.58 Q1612.89 1486.26 1612.89 1490.75 Q1612.89 1492.88 1612.08 1494.81 Q1611.29 1496.7 1609.18 1499.3 Q1608.6 1499.97 1605.5 1503.19 Q1602.4 1506.38 1596.75 1512.14 Z\" fill=\"#000000\" fill-rule=\"evenodd\" fill-opacity=\"1\" /><path clip-path=\"url(#clip9700)\" d=\"M 0 0 M1628.14 1484.6 Q1624.53 1484.6 1622.7 1488.16 Q1620.9 1491.7 1620.9 1498.83 Q1620.9 1505.94 1622.7 1509.5 Q1624.53 1513.05 1628.14 1513.05 Q1631.78 1513.05 1633.58 1509.5 Q1635.41 1505.94 1635.41 1498.83 Q1635.41 1491.7 1633.58 1488.16 Q1631.78 1484.6 1628.14 1484.6 M1628.14 1480.89 Q1633.95 1480.89 1637.01 1485.5 Q1640.09 1490.08 1640.09 1498.83 Q1640.09 1507.56 1637.01 1512.17 Q1633.95 1516.75 1628.14 1516.75 Q1622.33 1516.75 1619.25 1512.17 Q1616.2 1507.56 1616.2 1498.83 Q1616.2 1490.08 1619.25 1485.5 Q1622.33 1480.89 1628.14 1480.89 Z\" fill=\"#000000\" fill-rule=\"evenodd\" fill-opacity=\"1\" /><path clip-path=\"url(#clip9700)\" d=\"M 0 0 M1735.81 1512.14 L1743.45 1512.14 L1743.45 1485.78 L1735.14 1487.44 L1735.14 1483.19 L1743.4 1481.52 L1748.08 1481.52 L1748.08 1512.14 L1755.72 1512.14 L1755.72 1516.08 L1735.81 1516.08 L1735.81 1512.14 Z\" fill=\"#000000\" fill-rule=\"evenodd\" fill-opacity=\"1\" /><path clip-path=\"url(#clip9700)\" d=\"M 0 0 M1770.79 1484.6 Q1767.18 1484.6 1765.35 1488.16 Q1763.54 1491.7 1763.54 1498.83 Q1763.54 1505.94 1765.35 1509.5 Q1767.18 1513.05 1770.79 1513.05 Q1774.42 1513.05 1776.23 1509.5 Q1778.06 1505.94 1778.06 1498.83 Q1778.06 1491.7 1776.23 1488.16 Q1774.42 1484.6 1770.79 1484.6 M1770.79 1480.89 Q1776.6 1480.89 1779.65 1485.5 Q1782.73 1490.08 1782.73 1498.83 Q1782.73 1507.56 1779.65 1512.17 Q1776.6 1516.75 1770.79 1516.75 Q1764.98 1516.75 1761.9 1512.17 Q1758.84 1507.56 1758.84 1498.83 Q1758.84 1490.08 1761.9 1485.5 Q1764.98 1480.89 1770.79 1480.89 Z\" fill=\"#000000\" fill-rule=\"evenodd\" fill-opacity=\"1\" /><path clip-path=\"url(#clip9700)\" d=\"M 0 0 M1794.77 1481.52 L1798.7 1481.52 L1786.67 1520.48 L1782.73 1520.48 L1794.77 1481.52 Z\" fill=\"#000000\" fill-rule=\"evenodd\" fill-opacity=\"1\" /><path clip-path=\"url(#clip9700)\" d=\"M 0 0 M1804.58 1512.14 L1812.22 1512.14 L1812.22 1485.78 L1803.91 1487.44 L1803.91 1483.19 L1812.18 1481.52 L1816.85 1481.52 L1816.85 1512.14 L1824.49 1512.14 L1824.49 1516.08 L1804.58 1516.08 L1804.58 1512.14 Z\" fill=\"#000000\" fill-rule=\"evenodd\" fill-opacity=\"1\" /><path clip-path=\"url(#clip9700)\" d=\"M 0 0 M1839.56 1484.6 Q1835.95 1484.6 1834.12 1488.16 Q1832.31 1491.7 1832.31 1498.83 Q1832.31 1505.94 1834.12 1509.5 Q1835.95 1513.05 1839.56 1513.05 Q1843.19 1513.05 1845 1509.5 Q1846.83 1505.94 1846.83 1498.83 Q1846.83 1491.7 1845 1488.16 Q1843.19 1484.6 1839.56 1484.6 M1839.56 1480.89 Q1845.37 1480.89 1848.43 1485.5 Q1851.5 1490.08 1851.5 1498.83 Q1851.5 1507.56 1848.43 1512.17 Q1845.37 1516.75 1839.56 1516.75 Q1833.75 1516.75 1830.67 1512.17 Q1827.62 1507.56 1827.62 1498.83 Q1827.62 1490.08 1830.67 1485.5 Q1833.75 1480.89 1839.56 1480.89 Z\" fill=\"#000000\" fill-rule=\"evenodd\" fill-opacity=\"1\" /><path clip-path=\"url(#clip9700)\" d=\"M 0 0 M1863.54 1481.52 L1867.48 1481.52 L1855.44 1520.48 L1851.5 1520.48 L1863.54 1481.52 Z\" fill=\"#000000\" fill-rule=\"evenodd\" fill-opacity=\"1\" /><path clip-path=\"url(#clip9700)\" d=\"M 0 0 M1876.57 1512.14 L1892.89 1512.14 L1892.89 1516.08 L1870.95 1516.08 L1870.95 1512.14 Q1873.61 1509.39 1878.19 1504.76 Q1882.8 1500.11 1883.98 1498.76 Q1886.23 1496.24 1887.11 1494.5 Q1888.01 1492.75 1888.01 1491.06 Q1888.01 1488.3 1886.06 1486.57 Q1884.14 1484.83 1881.04 1484.83 Q1878.84 1484.83 1876.39 1485.59 Q1873.96 1486.36 1871.18 1487.91 L1871.18 1483.19 Q1874 1482.05 1876.46 1481.47 Q1878.91 1480.89 1880.95 1480.89 Q1886.32 1480.89 1889.51 1483.58 Q1892.71 1486.26 1892.71 1490.75 Q1892.71 1492.88 1891.9 1494.81 Q1891.11 1496.7 1889 1499.3 Q1888.43 1499.97 1885.32 1503.19 Q1882.22 1506.38 1876.57 1512.14 Z\" fill=\"#000000\" fill-rule=\"evenodd\" fill-opacity=\"1\" /><path clip-path=\"url(#clip9700)\" d=\"M 0 0 M1907.96 1484.6 Q1904.35 1484.6 1902.52 1488.16 Q1900.72 1491.7 1900.72 1498.83 Q1900.72 1505.94 1902.52 1509.5 Q1904.35 1513.05 1907.96 1513.05 Q1911.6 1513.05 1913.4 1509.5 Q1915.23 1505.94 1915.23 1498.83 Q1915.23 1491.7 1913.4 1488.16 Q1911.6 1484.6 1907.96 1484.6 M1907.96 1480.89 Q1913.77 1480.89 1916.83 1485.5 Q1919.91 1490.08 1919.91 1498.83 Q1919.91 1507.56 1916.83 1512.17 Q1913.77 1516.75 1907.96 1516.75 Q1902.15 1516.75 1899.07 1512.17 Q1896.02 1507.56 1896.02 1498.83 Q1896.02 1490.08 1899.07 1485.5 Q1902.15 1480.89 1907.96 1480.89 Z\" fill=\"#000000\" fill-rule=\"evenodd\" fill-opacity=\"1\" /><path clip-path=\"url(#clip9700)\" d=\"M 0 0 M1964.25 1512.14 L1971.89 1512.14 L1971.89 1485.78 L1963.58 1487.44 L1963.58 1483.19 L1971.84 1481.52 L1976.52 1481.52 L1976.52 1512.14 L1984.15 1512.14 L1984.15 1516.08 L1964.25 1516.08 L1964.25 1512.14 Z\" fill=\"#000000\" fill-rule=\"evenodd\" fill-opacity=\"1\" /><path clip-path=\"url(#clip9700)\" d=\"M 0 0 M1999.22 1484.6 Q1995.61 1484.6 1993.78 1488.16 Q1991.98 1491.7 1991.98 1498.83 Q1991.98 1505.94 1993.78 1509.5 Q1995.61 1513.05 1999.22 1513.05 Q2002.86 1513.05 2004.66 1509.5 Q2006.49 1505.94 2006.49 1498.83 Q2006.49 1491.7 2004.66 1488.16 Q2002.86 1484.6 1999.22 1484.6 M1999.22 1480.89 Q2005.03 1480.89 2008.09 1485.5 Q2011.17 1490.08 2011.17 1498.83 Q2011.17 1507.56 2008.09 1512.17 Q2005.03 1516.75 1999.22 1516.75 Q1993.41 1516.75 1990.33 1512.17 Q1987.28 1507.56 1987.28 1498.83 Q1987.28 1490.08 1990.33 1485.5 Q1993.41 1480.89 1999.22 1480.89 Z\" fill=\"#000000\" fill-rule=\"evenodd\" fill-opacity=\"1\" /><path clip-path=\"url(#clip9700)\" d=\"M 0 0 M2023.21 1481.52 L2027.14 1481.52 L2015.1 1520.48 L2011.17 1520.48 L2023.21 1481.52 Z\" fill=\"#000000\" fill-rule=\"evenodd\" fill-opacity=\"1\" /><path clip-path=\"url(#clip9700)\" d=\"M 0 0 M2033.02 1512.14 L2040.66 1512.14 L2040.66 1485.78 L2032.35 1487.44 L2032.35 1483.19 L2040.61 1481.52 L2045.29 1481.52 L2045.29 1512.14 L2052.93 1512.14 L2052.93 1516.08 L2033.02 1516.08 L2033.02 1512.14 Z\" fill=\"#000000\" fill-rule=\"evenodd\" fill-opacity=\"1\" /><path clip-path=\"url(#clip9700)\" d=\"M 0 0 M2068.58 1496.94 Q2065.43 1496.94 2063.58 1499.09 Q2061.75 1501.24 2061.75 1504.99 Q2061.75 1508.72 2063.58 1510.89 Q2065.43 1513.05 2068.58 1513.05 Q2071.72 1513.05 2073.55 1510.89 Q2075.4 1508.72 2075.4 1504.99 Q2075.4 1501.24 2073.55 1499.09 Q2071.72 1496.94 2068.58 1496.94 M2077.86 1482.28 L2077.86 1486.54 Q2076.1 1485.71 2074.29 1485.27 Q2072.51 1484.83 2070.75 1484.83 Q2066.12 1484.83 2063.67 1487.95 Q2061.24 1491.08 2060.89 1497.4 Q2062.26 1495.38 2064.32 1494.32 Q2066.38 1493.23 2068.85 1493.23 Q2074.06 1493.23 2077.07 1496.4 Q2080.1 1499.55 2080.1 1504.99 Q2080.1 1510.31 2076.95 1513.53 Q2073.81 1516.75 2068.58 1516.75 Q2062.58 1516.75 2059.41 1512.17 Q2056.24 1507.56 2056.24 1498.83 Q2056.24 1490.64 2060.13 1485.78 Q2064.02 1480.89 2070.57 1480.89 Q2072.33 1480.89 2074.11 1481.24 Q2075.91 1481.59 2077.86 1482.28 Z\" fill=\"#000000\" fill-rule=\"evenodd\" fill-opacity=\"1\" /><path clip-path=\"url(#clip9700)\" d=\"M 0 0 M2092.14 1481.52 L2096.08 1481.52 L2084.04 1520.48 L2080.1 1520.48 L2092.14 1481.52 Z\" fill=\"#000000\" fill-rule=\"evenodd\" fill-opacity=\"1\" /><path clip-path=\"url(#clip9700)\" d=\"M 0 0 M2105.17 1512.14 L2121.49 1512.14 L2121.49 1516.08 L2099.55 1516.08 L2099.55 1512.14 Q2102.21 1509.39 2106.79 1504.76 Q2111.4 1500.11 2112.58 1498.76 Q2114.82 1496.24 2115.7 1494.5 Q2116.61 1492.75 2116.61 1491.06 Q2116.61 1488.3 2114.66 1486.57 Q2112.74 1484.83 2109.64 1484.83 Q2107.44 1484.83 2104.99 1485.59 Q2102.56 1486.36 2099.78 1487.91 L2099.78 1483.19 Q2102.6 1482.05 2105.06 1481.47 Q2107.51 1480.89 2109.55 1480.89 Q2114.92 1480.89 2118.11 1483.58 Q2121.31 1486.26 2121.31 1490.75 Q2121.31 1492.88 2120.5 1494.81 Q2119.71 1496.7 2117.6 1499.3 Q2117.02 1499.97 2113.92 1503.19 Q2110.82 1506.38 2105.17 1512.14 Z\" fill=\"#000000\" fill-rule=\"evenodd\" fill-opacity=\"1\" /><path clip-path=\"url(#clip9700)\" d=\"M 0 0 M2136.56 1484.6 Q2132.95 1484.6 2131.12 1488.16 Q2129.32 1491.7 2129.32 1498.83 Q2129.32 1505.94 2131.12 1509.5 Q2132.95 1513.05 2136.56 1513.05 Q2140.2 1513.05 2142 1509.5 Q2143.83 1505.94 2143.83 1498.83 Q2143.83 1491.7 2142 1488.16 Q2140.2 1484.6 2136.56 1484.6 M2136.56 1480.89 Q2142.37 1480.89 2145.43 1485.5 Q2148.51 1490.08 2148.51 1498.83 Q2148.51 1507.56 2145.43 1512.17 Q2142.37 1516.75 2136.56 1516.75 Q2130.75 1516.75 2127.67 1512.17 Q2124.62 1507.56 2124.62 1498.83 Q2124.62 1490.08 2127.67 1485.5 Q2130.75 1480.89 2136.56 1480.89 Z\" fill=\"#000000\" fill-rule=\"evenodd\" fill-opacity=\"1\" /><path clip-path=\"url(#clip9700)\" d=\"M 0 0 M2193.83 1512.14 L2201.47 1512.14 L2201.47 1485.78 L2193.16 1487.44 L2193.16 1483.19 L2201.42 1481.52 L2206.1 1481.52 L2206.1 1512.14 L2213.74 1512.14 L2213.74 1516.08 L2193.83 1516.08 L2193.83 1512.14 Z\" fill=\"#000000\" fill-rule=\"evenodd\" fill-opacity=\"1\" /><path clip-path=\"url(#clip9700)\" d=\"M 0 0 M2228.81 1484.6 Q2225.2 1484.6 2223.37 1488.16 Q2221.56 1491.7 2221.56 1498.83 Q2221.56 1505.94 2223.37 1509.5 Q2225.2 1513.05 2228.81 1513.05 Q2232.44 1513.05 2234.25 1509.5 Q2236.07 1505.94 2236.07 1498.83 Q2236.07 1491.7 2234.25 1488.16 Q2232.44 1484.6 2228.81 1484.6 M2228.81 1480.89 Q2234.62 1480.89 2237.67 1485.5 Q2240.75 1490.08 2240.75 1498.83 Q2240.75 1507.56 2237.67 1512.17 Q2234.62 1516.75 2228.81 1516.75 Q2223 1516.75 2219.92 1512.17 Q2216.86 1507.56 2216.86 1498.83 Q2216.86 1490.08 2219.92 1485.5 Q2223 1480.89 2228.81 1480.89 Z\" fill=\"#000000\" fill-rule=\"evenodd\" fill-opacity=\"1\" /><path clip-path=\"url(#clip9700)\" d=\"M 0 0 M2252.79 1481.52 L2256.72 1481.52 L2244.69 1520.48 L2240.75 1520.48 L2252.79 1481.52 Z\" fill=\"#000000\" fill-rule=\"evenodd\" fill-opacity=\"1\" /><path clip-path=\"url(#clip9700)\" d=\"M 0 0 M2265.82 1512.14 L2282.14 1512.14 L2282.14 1516.08 L2260.19 1516.08 L2260.19 1512.14 Q2262.86 1509.39 2267.44 1504.76 Q2272.05 1500.11 2273.23 1498.76 Q2275.47 1496.24 2276.35 1494.5 Q2277.26 1492.75 2277.26 1491.06 Q2277.26 1488.3 2275.31 1486.57 Q2273.39 1484.83 2270.29 1484.83 Q2268.09 1484.83 2265.63 1485.59 Q2263.2 1486.36 2260.43 1487.91 L2260.43 1483.19 Q2263.25 1482.05 2265.7 1481.47 Q2268.16 1480.89 2270.19 1480.89 Q2275.57 1480.89 2278.76 1483.58 Q2281.95 1486.26 2281.95 1490.75 Q2281.95 1492.88 2281.14 1494.81 Q2280.36 1496.7 2278.25 1499.3 Q2277.67 1499.97 2274.57 1503.19 Q2271.47 1506.38 2265.82 1512.14 Z\" fill=\"#000000\" fill-rule=\"evenodd\" fill-opacity=\"1\" /><path clip-path=\"url(#clip9700)\" d=\"M 0 0 M2291.24 1512.14 L2307.56 1512.14 L2307.56 1516.08 L2285.61 1516.08 L2285.61 1512.14 Q2288.27 1509.39 2292.86 1504.76 Q2297.46 1500.11 2298.64 1498.76 Q2300.89 1496.24 2301.77 1494.5 Q2302.67 1492.75 2302.67 1491.06 Q2302.67 1488.3 2300.73 1486.57 Q2298.81 1484.83 2295.7 1484.83 Q2293.5 1484.83 2291.05 1485.59 Q2288.62 1486.36 2285.84 1487.91 L2285.84 1483.19 Q2288.67 1482.05 2291.12 1481.47 Q2293.57 1480.89 2295.61 1480.89 Q2300.98 1480.89 2304.18 1483.58 Q2307.37 1486.26 2307.37 1490.75 Q2307.37 1492.88 2306.56 1494.81 Q2305.77 1496.7 2303.67 1499.3 Q2303.09 1499.97 2299.99 1503.19 Q2296.88 1506.38 2291.24 1512.14 Z\" fill=\"#000000\" fill-rule=\"evenodd\" fill-opacity=\"1\" /><path clip-path=\"url(#clip9700)\" d=\"M 0 0 M2319.59 1481.52 L2323.53 1481.52 L2311.49 1520.48 L2307.56 1520.48 L2319.59 1481.52 Z\" fill=\"#000000\" fill-rule=\"evenodd\" fill-opacity=\"1\" /><path clip-path=\"url(#clip9700)\" d=\"M 0 0 M2332.63 1512.14 L2348.94 1512.14 L2348.94 1516.08 L2327 1516.08 L2327 1512.14 Q2329.66 1509.39 2334.25 1504.76 Q2338.85 1500.11 2340.03 1498.76 Q2342.28 1496.24 2343.16 1494.5 Q2344.06 1492.75 2344.06 1491.06 Q2344.06 1488.3 2342.12 1486.57 Q2340.19 1484.83 2337.09 1484.83 Q2334.89 1484.83 2332.44 1485.59 Q2330.01 1486.36 2327.23 1487.91 L2327.23 1483.19 Q2330.06 1482.05 2332.51 1481.47 Q2334.96 1480.89 2337 1480.89 Q2342.37 1480.89 2345.56 1483.58 Q2348.76 1486.26 2348.76 1490.75 Q2348.76 1492.88 2347.95 1494.81 Q2347.16 1496.7 2345.06 1499.3 Q2344.48 1499.97 2341.38 1503.19 Q2338.27 1506.38 2332.63 1512.14 Z\" fill=\"#000000\" fill-rule=\"evenodd\" fill-opacity=\"1\" /><path clip-path=\"url(#clip9700)\" d=\"M 0 0 M2364.01 1484.6 Q2360.4 1484.6 2358.57 1488.16 Q2356.77 1491.7 2356.77 1498.83 Q2356.77 1505.94 2358.57 1509.5 Q2360.4 1513.05 2364.01 1513.05 Q2367.65 1513.05 2369.45 1509.5 Q2371.28 1505.94 2371.28 1498.83 Q2371.28 1491.7 2369.45 1488.16 Q2367.65 1484.6 2364.01 1484.6 M2364.01 1480.89 Q2369.82 1480.89 2372.88 1485.5 Q2375.96 1490.08 2375.96 1498.83 Q2375.96 1507.56 2372.88 1512.17 Q2369.82 1516.75 2364.01 1516.75 Q2358.2 1516.75 2355.12 1512.17 Q2352.07 1507.56 2352.07 1498.83 Q2352.07 1490.08 2355.12 1485.5 Q2358.2 1480.89 2364.01 1480.89 Z\" fill=\"#000000\" fill-rule=\"evenodd\" fill-opacity=\"1\" /><path clip-path=\"url(#clip9700)\" d=\"M 0 0 M2459.73 1512.14 L2467.37 1512.14 L2467.37 1485.78 L2459.06 1487.44 L2459.06 1483.19 L2467.32 1481.52 L2472 1481.52 L2472 1512.14 L2479.63 1512.14 L2479.63 1516.08 L2459.73 1516.08 L2459.73 1512.14 Z\" fill=\"#000000\" fill-rule=\"evenodd\" fill-opacity=\"1\" /><path clip-path=\"url(#clip9700)\" d=\"M 0 0 M2494.7 1484.6 Q2491.09 1484.6 2489.26 1488.16 Q2487.46 1491.7 2487.46 1498.83 Q2487.46 1505.94 2489.26 1509.5 Q2491.09 1513.05 2494.7 1513.05 Q2498.34 1513.05 2500.14 1509.5 Q2501.97 1505.94 2501.97 1498.83 Q2501.97 1491.7 2500.14 1488.16 Q2498.34 1484.6 2494.7 1484.6 M2494.7 1480.89 Q2500.51 1480.89 2503.57 1485.5 Q2506.65 1490.08 2506.65 1498.83 Q2506.65 1507.56 2503.57 1512.17 Q2500.51 1516.75 2494.7 1516.75 Q2488.89 1516.75 2485.82 1512.17 Q2482.76 1507.56 2482.76 1498.83 Q2482.76 1490.08 2485.82 1485.5 Q2488.89 1480.89 2494.7 1480.89 Z\" fill=\"#000000\" fill-rule=\"evenodd\" fill-opacity=\"1\" /><path clip-path=\"url(#clip9700)\" d=\"M 0 0 M2518.69 1481.52 L2522.62 1481.52 L2510.58 1520.48 L2506.65 1520.48 L2518.69 1481.52 Z\" fill=\"#000000\" fill-rule=\"evenodd\" fill-opacity=\"1\" /><path clip-path=\"url(#clip9700)\" d=\"M 0 0 M2531.72 1512.14 L2548.04 1512.14 L2548.04 1516.08 L2526.09 1516.08 L2526.09 1512.14 Q2528.75 1509.39 2533.34 1504.76 Q2537.94 1500.11 2539.13 1498.76 Q2541.37 1496.24 2542.25 1494.5 Q2543.15 1492.75 2543.15 1491.06 Q2543.15 1488.3 2541.21 1486.57 Q2539.29 1484.83 2536.19 1484.83 Q2533.99 1484.83 2531.53 1485.59 Q2529.1 1486.36 2526.32 1487.91 L2526.32 1483.19 Q2529.15 1482.05 2531.6 1481.47 Q2534.06 1480.89 2536.09 1480.89 Q2541.46 1480.89 2544.66 1483.58 Q2547.85 1486.26 2547.85 1490.75 Q2547.85 1492.88 2547.04 1494.81 Q2546.25 1496.7 2544.15 1499.3 Q2543.57 1499.97 2540.47 1503.19 Q2537.37 1506.38 2531.72 1512.14 Z\" fill=\"#000000\" fill-rule=\"evenodd\" fill-opacity=\"1\" /><path clip-path=\"url(#clip9700)\" d=\"M 0 0 M2553.25 1515.36 L2553.25 1511.1 Q2555 1511.94 2556.81 1512.38 Q2558.62 1512.81 2560.35 1512.81 Q2564.98 1512.81 2567.41 1509.71 Q2569.87 1506.59 2570.21 1500.25 Q2568.87 1502.24 2566.81 1503.3 Q2564.75 1504.37 2562.25 1504.37 Q2557.06 1504.37 2554.03 1501.24 Q2551.02 1498.09 2551.02 1492.65 Q2551.02 1487.33 2554.17 1484.11 Q2557.32 1480.89 2562.55 1480.89 Q2568.55 1480.89 2571.69 1485.5 Q2574.87 1490.08 2574.87 1498.83 Q2574.87 1507 2570.98 1511.89 Q2567.11 1516.75 2560.56 1516.75 Q2558.8 1516.75 2557 1516.4 Q2555.19 1516.06 2553.25 1515.36 M2562.55 1500.71 Q2565.7 1500.71 2567.53 1498.56 Q2569.38 1496.4 2569.38 1492.65 Q2569.38 1488.93 2567.53 1486.77 Q2565.7 1484.6 2562.55 1484.6 Q2559.4 1484.6 2557.55 1486.77 Q2555.72 1488.93 2555.72 1492.65 Q2555.72 1496.4 2557.55 1498.56 Q2559.4 1500.71 2562.55 1500.71 Z\" fill=\"#000000\" fill-rule=\"evenodd\" fill-opacity=\"1\" /><path clip-path=\"url(#clip9700)\" d=\"M 0 0 M2586.9 1481.52 L2590.84 1481.52 L2578.8 1520.48 L2574.87 1520.48 L2586.9 1481.52 Z\" fill=\"#000000\" fill-rule=\"evenodd\" fill-opacity=\"1\" /><path clip-path=\"url(#clip9700)\" d=\"M 0 0 M2599.94 1512.14 L2616.25 1512.14 L2616.25 1516.08 L2594.31 1516.08 L2594.31 1512.14 Q2596.97 1509.39 2601.56 1504.76 Q2606.16 1500.11 2607.34 1498.76 Q2609.59 1496.24 2610.47 1494.5 Q2611.37 1492.75 2611.37 1491.06 Q2611.37 1488.3 2609.43 1486.57 Q2607.5 1484.83 2604.4 1484.83 Q2602.2 1484.83 2599.75 1485.59 Q2597.32 1486.36 2594.54 1487.91 L2594.54 1483.19 Q2597.37 1482.05 2599.82 1481.47 Q2602.27 1480.89 2604.31 1480.89 Q2609.68 1480.89 2612.87 1483.58 Q2616.07 1486.26 2616.07 1490.75 Q2616.07 1492.88 2615.26 1494.81 Q2614.47 1496.7 2612.37 1499.3 Q2611.79 1499.97 2608.68 1503.19 Q2605.58 1506.38 2599.94 1512.14 Z\" fill=\"#000000\" fill-rule=\"evenodd\" fill-opacity=\"1\" /><path clip-path=\"url(#clip9700)\" d=\"M 0 0 M2631.32 1484.6 Q2627.71 1484.6 2625.88 1488.16 Q2624.08 1491.7 2624.08 1498.83 Q2624.08 1505.94 2625.88 1509.5 Q2627.71 1513.05 2631.32 1513.05 Q2634.96 1513.05 2636.76 1509.5 Q2638.59 1505.94 2638.59 1498.83 Q2638.59 1491.7 2636.76 1488.16 Q2634.96 1484.6 2631.32 1484.6 M2631.32 1480.89 Q2637.13 1480.89 2640.19 1485.5 Q2643.27 1490.08 2643.27 1498.83 Q2643.27 1507.56 2640.19 1512.17 Q2637.13 1516.75 2631.32 1516.75 Q2625.51 1516.75 2622.43 1512.17 Q2619.38 1507.56 2619.38 1498.83 Q2619.38 1490.08 2622.43 1485.5 Q2625.51 1480.89 2631.32 1480.89 Z\" fill=\"#000000\" fill-rule=\"evenodd\" fill-opacity=\"1\" /><path clip-path=\"url(#clip9700)\" d=\"M 0 0 M2701.23 1512.14 L2708.87 1512.14 L2708.87 1485.78 L2700.56 1487.44 L2700.56 1483.19 L2708.82 1481.52 L2713.5 1481.52 L2713.5 1512.14 L2721.14 1512.14 L2721.14 1516.08 L2701.23 1516.08 L2701.23 1512.14 Z\" fill=\"#000000\" fill-rule=\"evenodd\" fill-opacity=\"1\" /><path clip-path=\"url(#clip9700)\" d=\"M 0 0 M2727.02 1512.14 L2734.66 1512.14 L2734.66 1485.78 L2726.35 1487.44 L2726.35 1483.19 L2734.61 1481.52 L2739.29 1481.52 L2739.29 1512.14 L2746.93 1512.14 L2746.93 1516.08 L2727.02 1516.08 L2727.02 1512.14 Z\" fill=\"#000000\" fill-rule=\"evenodd\" fill-opacity=\"1\" /><path clip-path=\"url(#clip9700)\" d=\"M 0 0 M2758.96 1481.52 L2762.9 1481.52 L2750.86 1520.48 L2746.93 1520.48 L2758.96 1481.52 Z\" fill=\"#000000\" fill-rule=\"evenodd\" fill-opacity=\"1\" /><path clip-path=\"url(#clip9700)\" d=\"M 0 0 M2780.81 1485.59 L2769.01 1504.04 L2780.81 1504.04 L2780.81 1485.59 M2779.59 1481.52 L2785.47 1481.52 L2785.47 1504.04 L2790.4 1504.04 L2790.4 1507.93 L2785.47 1507.93 L2785.47 1516.08 L2780.81 1516.08 L2780.81 1507.93 L2765.21 1507.93 L2765.21 1503.42 L2779.59 1481.52 Z\" fill=\"#000000\" fill-rule=\"evenodd\" fill-opacity=\"1\" /><path clip-path=\"url(#clip9700)\" d=\"M 0 0 M2802.43 1481.52 L2806.37 1481.52 L2794.33 1520.48 L2790.4 1520.48 L2802.43 1481.52 Z\" fill=\"#000000\" fill-rule=\"evenodd\" fill-opacity=\"1\" /><path clip-path=\"url(#clip9700)\" d=\"M 0 0 M2815.47 1512.14 L2831.79 1512.14 L2831.79 1516.08 L2809.84 1516.08 L2809.84 1512.14 Q2812.5 1509.39 2817.09 1504.76 Q2821.69 1500.11 2822.87 1498.76 Q2825.12 1496.24 2826 1494.5 Q2826.9 1492.75 2826.9 1491.06 Q2826.9 1488.3 2824.96 1486.57 Q2823.04 1484.83 2819.93 1484.83 Q2817.74 1484.83 2815.28 1485.59 Q2812.85 1486.36 2810.07 1487.91 L2810.07 1483.19 Q2812.9 1482.05 2815.35 1481.47 Q2817.8 1480.89 2819.84 1480.89 Q2825.21 1480.89 2828.41 1483.58 Q2831.6 1486.26 2831.6 1490.75 Q2831.6 1492.88 2830.79 1494.81 Q2830 1496.7 2827.9 1499.3 Q2827.32 1499.97 2824.22 1503.19 Q2821.11 1506.38 2815.47 1512.14 Z\" fill=\"#000000\" fill-rule=\"evenodd\" fill-opacity=\"1\" /><path clip-path=\"url(#clip9700)\" d=\"M 0 0 M2846.86 1484.6 Q2843.24 1484.6 2841.42 1488.16 Q2839.61 1491.7 2839.61 1498.83 Q2839.61 1505.94 2841.42 1509.5 Q2843.24 1513.05 2846.86 1513.05 Q2850.49 1513.05 2852.3 1509.5 Q2854.12 1505.94 2854.12 1498.83 Q2854.12 1491.7 2852.3 1488.16 Q2850.49 1484.6 2846.86 1484.6 M2846.86 1480.89 Q2852.67 1480.89 2855.72 1485.5 Q2858.8 1490.08 2858.8 1498.83 Q2858.8 1507.56 2855.72 1512.17 Q2852.67 1516.75 2846.86 1516.75 Q2841.05 1516.75 2837.97 1512.17 Q2834.91 1507.56 2834.91 1498.83 Q2834.91 1490.08 2837.97 1485.5 Q2841.05 1480.89 2846.86 1480.89 Z\" fill=\"#000000\" fill-rule=\"evenodd\" fill-opacity=\"1\" /><path clip-path=\"url(#clip9700)\" d=\"M 0 0 M2955.8 1512.14 L2963.44 1512.14 L2963.44 1485.78 L2955.13 1487.44 L2955.13 1483.19 L2963.39 1481.52 L2968.07 1481.52 L2968.07 1512.14 L2975.71 1512.14 L2975.71 1516.08 L2955.8 1516.08 L2955.8 1512.14 Z\" fill=\"#000000\" fill-rule=\"evenodd\" fill-opacity=\"1\" /><path clip-path=\"url(#clip9700)\" d=\"M 0 0 M2981.58 1512.14 L2989.22 1512.14 L2989.22 1485.78 L2980.91 1487.44 L2980.91 1483.19 L2989.18 1481.52 L2993.85 1481.52 L2993.85 1512.14 L3001.49 1512.14 L3001.49 1516.08 L2981.58 1516.08 L2981.58 1512.14 Z\" fill=\"#000000\" fill-rule=\"evenodd\" fill-opacity=\"1\" /><path clip-path=\"url(#clip9700)\" d=\"M 0 0 M3013.53 1481.52 L3017.46 1481.52 L3005.43 1520.48 L3001.49 1520.48 L3013.53 1481.52 Z\" fill=\"#000000\" fill-rule=\"evenodd\" fill-opacity=\"1\" /><path clip-path=\"url(#clip9700)\" d=\"M 0 0 M3023.34 1512.14 L3030.98 1512.14 L3030.98 1485.78 L3022.67 1487.44 L3022.67 1483.19 L3030.94 1481.52 L3035.61 1481.52 L3035.61 1512.14 L3043.25 1512.14 L3043.25 1516.08 L3023.34 1516.08 L3023.34 1512.14 Z\" fill=\"#000000\" fill-rule=\"evenodd\" fill-opacity=\"1\" /><path clip-path=\"url(#clip9700)\" d=\"M 0 0 M3049.13 1512.14 L3056.77 1512.14 L3056.77 1485.78 L3048.46 1487.44 L3048.46 1483.19 L3056.72 1481.52 L3061.4 1481.52 L3061.4 1512.14 L3069.04 1512.14 L3069.04 1516.08 L3049.13 1516.08 L3049.13 1512.14 Z\" fill=\"#000000\" fill-rule=\"evenodd\" fill-opacity=\"1\" /><path clip-path=\"url(#clip9700)\" d=\"M 0 0 M3081.08 1481.52 L3085.01 1481.52 L3072.97 1520.48 L3069.04 1520.48 L3081.08 1481.52 Z\" fill=\"#000000\" fill-rule=\"evenodd\" fill-opacity=\"1\" /><path clip-path=\"url(#clip9700)\" d=\"M 0 0 M3094.11 1512.14 L3110.43 1512.14 L3110.43 1516.08 L3088.48 1516.08 L3088.48 1512.14 Q3091.14 1509.39 3095.73 1504.76 Q3100.33 1500.11 3101.51 1498.76 Q3103.76 1496.24 3104.64 1494.5 Q3105.54 1492.75 3105.54 1491.06 Q3105.54 1488.3 3103.6 1486.57 Q3101.68 1484.83 3098.58 1484.83 Q3096.38 1484.83 3093.92 1485.59 Q3091.49 1486.36 3088.71 1487.91 L3088.71 1483.19 Q3091.54 1482.05 3093.99 1481.47 Q3096.45 1480.89 3098.48 1480.89 Q3103.85 1480.89 3107.05 1483.58 Q3110.24 1486.26 3110.24 1490.75 Q3110.24 1492.88 3109.43 1494.81 Q3108.64 1496.7 3106.54 1499.3 Q3105.96 1499.97 3102.86 1503.19 Q3099.76 1506.38 3094.11 1512.14 Z\" fill=\"#000000\" fill-rule=\"evenodd\" fill-opacity=\"1\" /><path clip-path=\"url(#clip9700)\" d=\"M 0 0 M3125.5 1484.6 Q3121.89 1484.6 3120.06 1488.16 Q3118.25 1491.7 3118.25 1498.83 Q3118.25 1505.94 3120.06 1509.5 Q3121.89 1513.05 3125.5 1513.05 Q3129.13 1513.05 3130.94 1509.5 Q3132.76 1505.94 3132.76 1498.83 Q3132.76 1491.7 3130.94 1488.16 Q3129.13 1484.6 3125.5 1484.6 M3125.5 1480.89 Q3131.31 1480.89 3134.36 1485.5 Q3137.44 1490.08 3137.44 1498.83 Q3137.44 1507.56 3134.36 1512.17 Q3131.31 1516.75 3125.5 1516.75 Q3119.69 1516.75 3116.61 1512.17 Q3113.55 1507.56 3113.55 1498.83 Q3113.55 1490.08 3116.61 1485.5 Q3119.69 1480.89 3125.5 1480.89 Z\" fill=\"#000000\" fill-rule=\"evenodd\" fill-opacity=\"1\" /><path clip-path=\"url(#clip9700)\" d=\"M 0 0 M3184.15 1512.14 L3191.79 1512.14 L3191.79 1485.78 L3183.48 1487.44 L3183.48 1483.19 L3191.75 1481.52 L3196.42 1481.52 L3196.42 1512.14 L3204.06 1512.14 L3204.06 1516.08 L3184.15 1516.08 L3184.15 1512.14 Z\" fill=\"#000000\" fill-rule=\"evenodd\" fill-opacity=\"1\" /><path clip-path=\"url(#clip9700)\" d=\"M 0 0 M3209.94 1512.14 L3217.58 1512.14 L3217.58 1485.78 L3209.27 1487.44 L3209.27 1483.19 L3217.53 1481.52 L3222.21 1481.52 L3222.21 1512.14 L3229.85 1512.14 L3229.85 1516.08 L3209.94 1516.08 L3209.94 1512.14 Z\" fill=\"#000000\" fill-rule=\"evenodd\" fill-opacity=\"1\" /><path clip-path=\"url(#clip9700)\" d=\"M 0 0 M3241.88 1481.52 L3245.82 1481.52 L3233.78 1520.48 L3229.85 1520.48 L3241.88 1481.52 Z\" fill=\"#000000\" fill-rule=\"evenodd\" fill-opacity=\"1\" /><path clip-path=\"url(#clip9700)\" d=\"M 0 0 M3251.7 1512.14 L3259.34 1512.14 L3259.34 1485.78 L3251.03 1487.44 L3251.03 1483.19 L3259.29 1481.52 L3263.97 1481.52 L3263.97 1512.14 L3271.61 1512.14 L3271.61 1516.08 L3251.7 1516.08 L3251.7 1512.14 Z\" fill=\"#000000\" fill-rule=\"evenodd\" fill-opacity=\"1\" /><path clip-path=\"url(#clip9700)\" d=\"M 0 0 M3275.5 1481.52 L3297.72 1481.52 L3297.72 1483.51 L3285.17 1516.08 L3280.29 1516.08 L3292.09 1485.45 L3275.5 1485.45 L3275.5 1481.52 Z\" fill=\"#000000\" fill-rule=\"evenodd\" fill-opacity=\"1\" /><path clip-path=\"url(#clip9700)\" d=\"M 0 0 M3309.75 1481.52 L3313.69 1481.52 L3301.65 1520.48 L3297.72 1520.48 L3309.75 1481.52 Z\" fill=\"#000000\" fill-rule=\"evenodd\" fill-opacity=\"1\" /><path clip-path=\"url(#clip9700)\" d=\"M 0 0 M3322.79 1512.14 L3339.11 1512.14 L3339.11 1516.08 L3317.16 1516.08 L3317.16 1512.14 Q3319.82 1509.39 3324.41 1504.76 Q3329.01 1500.11 3330.19 1498.76 Q3332.44 1496.24 3333.32 1494.5 Q3334.22 1492.75 3334.22 1491.06 Q3334.22 1488.3 3332.28 1486.57 Q3330.36 1484.83 3327.25 1484.83 Q3325.06 1484.83 3322.6 1485.59 Q3320.17 1486.36 3317.39 1487.91 L3317.39 1483.19 Q3320.22 1482.05 3322.67 1481.47 Q3325.13 1480.89 3327.16 1480.89 Q3332.53 1480.89 3335.73 1483.58 Q3338.92 1486.26 3338.92 1490.75 Q3338.92 1492.88 3338.11 1494.81 Q3337.32 1496.7 3335.22 1499.3 Q3334.64 1499.97 3331.54 1503.19 Q3328.44 1506.38 3322.79 1512.14 Z\" fill=\"#000000\" fill-rule=\"evenodd\" fill-opacity=\"1\" /><path clip-path=\"url(#clip9700)\" d=\"M 0 0 M3354.18 1484.6 Q3350.56 1484.6 3348.74 1488.16 Q3346.93 1491.7 3346.93 1498.83 Q3346.93 1505.94 3348.74 1509.5 Q3350.56 1513.05 3354.18 1513.05 Q3357.81 1513.05 3359.62 1509.5 Q3361.44 1505.94 3361.44 1498.83 Q3361.44 1491.7 3359.62 1488.16 Q3357.81 1484.6 3354.18 1484.6 M3354.18 1480.89 Q3359.99 1480.89 3363.04 1485.5 Q3366.12 1490.08 3366.12 1498.83 Q3366.12 1507.56 3363.04 1512.17 Q3359.99 1516.75 3354.18 1516.75 Q3348.37 1516.75 3345.29 1512.17 Q3342.23 1507.56 3342.23 1498.83 Q3342.23 1490.08 3345.29 1485.5 Q3348.37 1480.89 3354.18 1480.89 Z\" fill=\"#000000\" fill-rule=\"evenodd\" fill-opacity=\"1\" /><path clip-path=\"url(#clip9700)\" d=\"M 0 0 M3450.25 1512.14 L3457.89 1512.14 L3457.89 1485.78 L3449.58 1487.44 L3449.58 1483.19 L3457.84 1481.52 L3462.52 1481.52 L3462.52 1512.14 L3470.16 1512.14 L3470.16 1516.08 L3450.25 1516.08 L3450.25 1512.14 Z\" fill=\"#000000\" fill-rule=\"evenodd\" fill-opacity=\"1\" /><path clip-path=\"url(#clip9700)\" d=\"M 0 0 M3476.04 1512.14 L3483.67 1512.14 L3483.67 1485.78 L3475.36 1487.44 L3475.36 1483.19 L3483.63 1481.52 L3488.3 1481.52 L3488.3 1512.14 L3495.94 1512.14 L3495.94 1516.08 L3476.04 1516.08 L3476.04 1512.14 Z\" fill=\"#000000\" fill-rule=\"evenodd\" fill-opacity=\"1\" /><path clip-path=\"url(#clip9700)\" d=\"M 0 0 M3507.98 1481.52 L3511.91 1481.52 L3499.88 1520.48 L3495.94 1520.48 L3507.98 1481.52 Z\" fill=\"#000000\" fill-rule=\"evenodd\" fill-opacity=\"1\" /><path clip-path=\"url(#clip9700)\" d=\"M 0 0 M3521.01 1512.14 L3537.33 1512.14 L3537.33 1516.08 L3515.39 1516.08 L3515.39 1512.14 Q3518.05 1509.39 3522.63 1504.76 Q3527.24 1500.11 3528.42 1498.76 Q3530.66 1496.24 3531.54 1494.5 Q3532.45 1492.75 3532.45 1491.06 Q3532.45 1488.3 3530.5 1486.57 Q3528.58 1484.83 3525.48 1484.83 Q3523.28 1484.83 3520.83 1485.59 Q3518.4 1486.36 3515.62 1487.91 L3515.62 1483.19 Q3518.44 1482.05 3520.9 1481.47 Q3523.35 1480.89 3525.39 1480.89 Q3530.76 1480.89 3533.95 1483.58 Q3537.15 1486.26 3537.15 1490.75 Q3537.15 1492.88 3536.34 1494.81 Q3535.55 1496.7 3533.44 1499.3 Q3532.86 1499.97 3529.76 1503.19 Q3526.66 1506.38 3521.01 1512.14 Z\" fill=\"#000000\" fill-rule=\"evenodd\" fill-opacity=\"1\" /><path clip-path=\"url(#clip9700)\" d=\"M 0 0 M3555.25 1485.59 L3543.44 1504.04 L3555.25 1504.04 L3555.25 1485.59 M3554.02 1481.52 L3559.9 1481.52 L3559.9 1504.04 L3564.83 1504.04 L3564.83 1507.93 L3559.9 1507.93 L3559.9 1516.08 L3555.25 1516.08 L3555.25 1507.93 L3539.65 1507.93 L3539.65 1503.42 L3554.02 1481.52 Z\" fill=\"#000000\" fill-rule=\"evenodd\" fill-opacity=\"1\" /><path clip-path=\"url(#clip9700)\" d=\"M 0 0 M3576.87 1481.52 L3580.8 1481.52 L3568.77 1520.48 L3564.83 1520.48 L3576.87 1481.52 Z\" fill=\"#000000\" fill-rule=\"evenodd\" fill-opacity=\"1\" /><path clip-path=\"url(#clip9700)\" d=\"M 0 0 M3589.9 1512.14 L3606.22 1512.14 L3606.22 1516.08 L3584.28 1516.08 L3584.28 1512.14 Q3586.94 1509.39 3591.52 1504.76 Q3596.13 1500.11 3597.31 1498.76 Q3599.55 1496.24 3600.43 1494.5 Q3601.34 1492.75 3601.34 1491.06 Q3601.34 1488.3 3599.39 1486.57 Q3597.47 1484.83 3594.37 1484.83 Q3592.17 1484.83 3589.72 1485.59 Q3587.28 1486.36 3584.51 1487.91 L3584.51 1483.19 Q3587.33 1482.05 3589.78 1481.47 Q3592.24 1480.89 3594.28 1480.89 Q3599.65 1480.89 3602.84 1483.58 Q3606.03 1486.26 3606.03 1490.75 Q3606.03 1492.88 3605.22 1494.81 Q3604.44 1496.7 3602.33 1499.3 Q3601.75 1499.97 3598.65 1503.19 Q3595.55 1506.38 3589.9 1512.14 Z\" fill=\"#000000\" fill-rule=\"evenodd\" fill-opacity=\"1\" /><path clip-path=\"url(#clip9700)\" d=\"M 0 0 M3621.29 1484.6 Q3617.68 1484.6 3615.85 1488.16 Q3614.04 1491.7 3614.04 1498.83 Q3614.04 1505.94 3615.85 1509.5 Q3617.68 1513.05 3621.29 1513.05 Q3624.92 1513.05 3626.73 1509.5 Q3628.56 1505.94 3628.56 1498.83 Q3628.56 1491.7 3626.73 1488.16 Q3624.92 1484.6 3621.29 1484.6 M3621.29 1480.89 Q3627.1 1480.89 3630.15 1485.5 Q3633.23 1490.08 3633.23 1498.83 Q3633.23 1507.56 3630.15 1512.17 Q3627.1 1516.75 3621.29 1516.75 Q3615.48 1516.75 3612.4 1512.17 Q3609.34 1507.56 3609.34 1498.83 Q3609.34 1490.08 3612.4 1485.5 Q3615.48 1480.89 3621.29 1480.89 Z\" fill=\"#000000\" fill-rule=\"evenodd\" fill-opacity=\"1\" /><path clip-path=\"url(#clip9700)\" d=\"M 0 0 M3678.53 1512.14 L3686.17 1512.14 L3686.17 1485.78 L3677.86 1487.44 L3677.86 1483.19 L3686.13 1481.52 L3690.8 1481.52 L3690.8 1512.14 L3698.44 1512.14 L3698.44 1516.08 L3678.53 1516.08 L3678.53 1512.14 Z\" fill=\"#000000\" fill-rule=\"evenodd\" fill-opacity=\"1\" /><path clip-path=\"url(#clip9700)\" d=\"M 0 0 M3704.32 1512.14 L3711.96 1512.14 L3711.96 1485.78 L3703.65 1487.44 L3703.65 1483.19 L3711.91 1481.52 L3716.59 1481.52 L3716.59 1512.14 L3724.23 1512.14 L3724.23 1516.08 L3704.32 1516.08 L3704.32 1512.14 Z\" fill=\"#000000\" fill-rule=\"evenodd\" fill-opacity=\"1\" /><path clip-path=\"url(#clip9700)\" d=\"M 0 0 M3736.27 1481.52 L3740.2 1481.52 L3728.16 1520.48 L3724.23 1520.48 L3736.27 1481.52 Z\" fill=\"#000000\" fill-rule=\"evenodd\" fill-opacity=\"1\" /><path clip-path=\"url(#clip9700)\" d=\"M 0 0 M3759.44 1497.44 Q3762.79 1498.16 3764.67 1500.43 Q3766.57 1502.7 3766.57 1506.03 Q3766.57 1511.15 3763.05 1513.95 Q3759.53 1516.75 3753.05 1516.75 Q3750.87 1516.75 3748.56 1516.31 Q3746.27 1515.89 3743.81 1515.04 L3743.81 1510.52 Q3745.76 1511.66 3748.07 1512.24 Q3750.39 1512.81 3752.91 1512.81 Q3757.31 1512.81 3759.6 1511.08 Q3761.91 1509.34 3761.91 1506.03 Q3761.91 1502.98 3759.76 1501.26 Q3757.63 1499.53 3753.81 1499.53 L3749.78 1499.53 L3749.78 1495.69 L3754 1495.69 Q3757.45 1495.69 3759.27 1494.32 Q3761.1 1492.93 3761.1 1490.34 Q3761.1 1487.68 3759.21 1486.26 Q3757.33 1484.83 3753.81 1484.83 Q3751.89 1484.83 3749.69 1485.25 Q3747.49 1485.66 3744.85 1486.54 L3744.85 1482.38 Q3747.52 1481.63 3749.83 1481.26 Q3752.17 1480.89 3754.23 1480.89 Q3759.55 1480.89 3762.65 1483.32 Q3765.76 1485.73 3765.76 1489.85 Q3765.76 1492.72 3764.11 1494.71 Q3762.47 1496.68 3759.44 1497.44 Z\" fill=\"#000000\" fill-rule=\"evenodd\" fill-opacity=\"1\" /><path clip-path=\"url(#clip9700)\" d=\"M 0 0 M3781.64 1484.6 Q3778.02 1484.6 3776.2 1488.16 Q3774.39 1491.7 3774.39 1498.83 Q3774.39 1505.94 3776.2 1509.5 Q3778.02 1513.05 3781.64 1513.05 Q3785.27 1513.05 3787.08 1509.5 Q3788.9 1505.94 3788.9 1498.83 Q3788.9 1491.7 3787.08 1488.16 Q3785.27 1484.6 3781.64 1484.6 M3781.64 1480.89 Q3787.45 1480.89 3790.5 1485.5 Q3793.58 1490.08 3793.58 1498.83 Q3793.58 1507.56 3790.5 1512.17 Q3787.45 1516.75 3781.64 1516.75 Q3775.83 1516.75 3772.75 1512.17 Q3769.69 1507.56 3769.69 1498.83 Q3769.69 1490.08 3772.75 1485.5 Q3775.83 1480.89 3781.64 1480.89 Z\" fill=\"#000000\" fill-rule=\"evenodd\" fill-opacity=\"1\" /><path clip-path=\"url(#clip9700)\" d=\"M 0 0 M3805.62 1481.52 L3809.55 1481.52 L3797.52 1520.48 L3793.58 1520.48 L3805.62 1481.52 Z\" fill=\"#000000\" fill-rule=\"evenodd\" fill-opacity=\"1\" /><path clip-path=\"url(#clip9700)\" d=\"M 0 0 M3818.65 1512.14 L3834.97 1512.14 L3834.97 1516.08 L3813.02 1516.08 L3813.02 1512.14 Q3815.69 1509.39 3820.27 1504.76 Q3824.88 1500.11 3826.06 1498.76 Q3828.3 1496.24 3829.18 1494.5 Q3830.08 1492.75 3830.08 1491.06 Q3830.08 1488.3 3828.14 1486.57 Q3826.22 1484.83 3823.12 1484.83 Q3820.92 1484.83 3818.46 1485.59 Q3816.03 1486.36 3813.26 1487.91 L3813.26 1483.19 Q3816.08 1482.05 3818.53 1481.47 Q3820.99 1480.89 3823.02 1480.89 Q3828.39 1480.89 3831.59 1483.58 Q3834.78 1486.26 3834.78 1490.75 Q3834.78 1492.88 3833.97 1494.81 Q3833.19 1496.7 3831.08 1499.3 Q3830.5 1499.97 3827.4 1503.19 Q3824.3 1506.38 3818.65 1512.14 Z\" fill=\"#000000\" fill-rule=\"evenodd\" fill-opacity=\"1\" /><path clip-path=\"url(#clip9700)\" d=\"M 0 0 M3850.04 1484.6 Q3846.43 1484.6 3844.6 1488.16 Q3842.79 1491.7 3842.79 1498.83 Q3842.79 1505.94 3844.6 1509.5 Q3846.43 1513.05 3850.04 1513.05 Q3853.67 1513.05 3855.48 1509.5 Q3857.31 1505.94 3857.31 1498.83 Q3857.31 1491.7 3855.48 1488.16 Q3853.67 1484.6 3850.04 1484.6 M3850.04 1480.89 Q3855.85 1480.89 3858.9 1485.5 Q3861.98 1490.08 3861.98 1498.83 Q3861.98 1507.56 3858.9 1512.17 Q3855.85 1516.75 3850.04 1516.75 Q3844.23 1516.75 3841.15 1512.17 Q3838.09 1507.56 3838.09 1498.83 Q3838.09 1490.08 3841.15 1485.5 Q3844.23 1480.89 3850.04 1480.89 Z\" fill=\"#000000\" fill-rule=\"evenodd\" fill-opacity=\"1\" /><path clip-path=\"url(#clip9700)\" d=\"M 0 0 M107.834 1418.03 L120.311 1418.03 L120.311 1421.82 L107.834 1421.82 L107.834 1418.03 Z\" fill=\"#000000\" fill-rule=\"evenodd\" fill-opacity=\"1\" /><path clip-path=\"url(#clip9700)\" d=\"M 0 0 M126.19 1428.98 L133.829 1428.98 L133.829 1402.61 L125.519 1404.28 L125.519 1400.02 L133.783 1398.35 L138.459 1398.35 L138.459 1428.98 L146.098 1428.98 L146.098 1432.91 L126.19 1432.91 L126.19 1428.98 Z\" fill=\"#000000\" fill-rule=\"evenodd\" fill-opacity=\"1\" /><path clip-path=\"url(#clip9700)\" d=\"M 0 0 M161.167 1401.43 Q157.556 1401.43 155.727 1405 Q153.922 1408.54 153.922 1415.67 Q153.922 1422.77 155.727 1426.34 Q157.556 1429.88 161.167 1429.88 Q164.801 1429.88 166.607 1426.34 Q168.436 1422.77 168.436 1415.67 Q168.436 1408.54 166.607 1405 Q164.801 1401.43 161.167 1401.43 M161.167 1397.73 Q166.977 1397.73 170.033 1402.33 Q173.111 1406.92 173.111 1415.67 Q173.111 1424.39 170.033 1429 Q166.977 1433.58 161.167 1433.58 Q155.357 1433.58 152.278 1429 Q149.223 1424.39 149.223 1415.67 Q149.223 1406.92 152.278 1402.33 Q155.357 1397.73 161.167 1397.73 Z\" fill=\"#000000\" fill-rule=\"evenodd\" fill-opacity=\"1\" /><path clip-path=\"url(#clip9700)\" d=\"M 0 0 M188.181 1401.43 Q184.57 1401.43 182.741 1405 Q180.935 1408.54 180.935 1415.67 Q180.935 1422.77 182.741 1426.34 Q184.57 1429.88 188.181 1429.88 Q191.815 1429.88 193.621 1426.34 Q195.449 1422.77 195.449 1415.67 Q195.449 1408.54 193.621 1405 Q191.815 1401.43 188.181 1401.43 M188.181 1397.73 Q193.991 1397.73 197.047 1402.33 Q200.125 1406.92 200.125 1415.67 Q200.125 1424.39 197.047 1429 Q193.991 1433.58 188.181 1433.58 Q182.371 1433.58 179.292 1429 Q176.236 1424.39 176.236 1415.67 Q176.236 1406.92 179.292 1402.33 Q182.371 1397.73 188.181 1397.73 Z\" fill=\"#000000\" fill-rule=\"evenodd\" fill-opacity=\"1\" /><path clip-path=\"url(#clip9700)\" d=\"M 0 0 M134.616 1125.4 L147.093 1125.4 L147.093 1129.19 L134.616 1129.19 L134.616 1125.4 Z\" fill=\"#000000\" fill-rule=\"evenodd\" fill-opacity=\"1\" /><path clip-path=\"url(#clip9700)\" d=\"M 0 0 M152.209 1105.72 L170.565 1105.72 L170.565 1109.66 L156.491 1109.66 L156.491 1118.13 Q157.51 1117.78 158.528 1117.62 Q159.547 1117.43 160.565 1117.43 Q166.352 1117.43 169.732 1120.61 Q173.111 1123.78 173.111 1129.19 Q173.111 1134.77 169.639 1137.87 Q166.167 1140.95 159.848 1140.95 Q157.672 1140.95 155.403 1140.58 Q153.158 1140.21 150.75 1139.47 L150.75 1134.77 Q152.834 1135.91 155.056 1136.46 Q157.278 1137.02 159.755 1137.02 Q163.76 1137.02 166.098 1134.91 Q168.436 1132.8 168.436 1129.19 Q168.436 1125.58 166.098 1123.48 Q163.76 1121.37 159.755 1121.37 Q157.88 1121.37 156.005 1121.79 Q154.153 1122.2 152.209 1123.08 L152.209 1105.72 Z\" fill=\"#000000\" fill-rule=\"evenodd\" fill-opacity=\"1\" /><path clip-path=\"url(#clip9700)\" d=\"M 0 0 M188.181 1108.8 Q184.57 1108.8 182.741 1112.36 Q180.935 1115.91 180.935 1123.04 Q180.935 1130.14 182.741 1133.71 Q184.57 1137.25 188.181 1137.25 Q191.815 1137.25 193.621 1133.71 Q195.449 1130.14 195.449 1123.04 Q195.449 1115.91 193.621 1112.36 Q191.815 1108.8 188.181 1108.8 M188.181 1105.1 Q193.991 1105.1 197.047 1109.7 Q200.125 1114.29 200.125 1123.04 Q200.125 1131.76 197.047 1136.37 Q193.991 1140.95 188.181 1140.95 Q182.371 1140.95 179.292 1136.37 Q176.236 1131.76 176.236 1123.04 Q176.236 1114.29 179.292 1109.7 Q182.371 1105.1 188.181 1105.1 Z\" fill=\"#000000\" fill-rule=\"evenodd\" fill-opacity=\"1\" /><path clip-path=\"url(#clip9700)\" d=\"M 0 0 M188.181 816.169 Q184.57 816.169 182.741 819.733 Q180.935 823.275 180.935 830.405 Q180.935 837.511 182.741 841.076 Q184.57 844.618 188.181 844.618 Q191.815 844.618 193.621 841.076 Q195.449 837.511 195.449 830.405 Q195.449 823.275 193.621 819.733 Q191.815 816.169 188.181 816.169 M188.181 812.465 Q193.991 812.465 197.047 817.071 Q200.125 821.655 200.125 830.405 Q200.125 839.132 197.047 843.738 Q193.991 848.321 188.181 848.321 Q182.371 848.321 179.292 843.738 Q176.236 839.132 176.236 830.405 Q176.236 821.655 179.292 817.071 Q182.371 812.465 188.181 812.465 Z\" fill=\"#000000\" fill-rule=\"evenodd\" fill-opacity=\"1\" /><path clip-path=\"url(#clip9700)\" d=\"M 0 0 M152.209 520.459 L170.565 520.459 L170.565 524.394 L156.491 524.394 L156.491 532.866 Q157.51 532.519 158.528 532.357 Q159.547 532.172 160.565 532.172 Q166.352 532.172 169.732 535.343 Q173.111 538.514 173.111 543.931 Q173.111 549.509 169.639 552.611 Q166.167 555.69 159.848 555.69 Q157.672 555.69 155.403 555.32 Q153.158 554.949 150.75 554.208 L150.75 549.509 Q152.834 550.644 155.056 551.199 Q157.278 551.755 159.755 551.755 Q163.76 551.755 166.098 549.648 Q168.436 547.542 168.436 543.931 Q168.436 540.32 166.098 538.213 Q163.76 536.107 159.755 536.107 Q157.88 536.107 156.005 536.523 Q154.153 536.94 152.209 537.82 L152.209 520.459 Z\" fill=\"#000000\" fill-rule=\"evenodd\" fill-opacity=\"1\" /><path clip-path=\"url(#clip9700)\" d=\"M 0 0 M188.181 523.537 Q184.57 523.537 182.741 527.102 Q180.935 530.644 180.935 537.773 Q180.935 544.88 182.741 548.445 Q184.57 551.986 188.181 551.986 Q191.815 551.986 193.621 548.445 Q195.449 544.88 195.449 537.773 Q195.449 530.644 193.621 527.102 Q191.815 523.537 188.181 523.537 M188.181 519.834 Q193.991 519.834 197.047 524.44 Q200.125 529.023 200.125 537.773 Q200.125 546.5 197.047 551.107 Q193.991 555.69 188.181 555.69 Q182.371 555.69 179.292 551.107 Q176.236 546.5 176.236 537.773 Q176.236 529.023 179.292 524.44 Q182.371 519.834 188.181 519.834 Z\" fill=\"#000000\" fill-rule=\"evenodd\" fill-opacity=\"1\" /><path clip-path=\"url(#clip9700)\" d=\"M 0 0 M126.19 258.452 L133.829 258.452 L133.829 232.087 L125.519 233.753 L125.519 229.494 L133.783 227.827 L138.459 227.827 L138.459 258.452 L146.098 258.452 L146.098 262.387 L126.19 262.387 L126.19 258.452 Z\" fill=\"#000000\" fill-rule=\"evenodd\" fill-opacity=\"1\" /><path clip-path=\"url(#clip9700)\" d=\"M 0 0 M161.167 230.906 Q157.556 230.906 155.727 234.471 Q153.922 238.012 153.922 245.142 Q153.922 252.249 155.727 255.813 Q157.556 259.355 161.167 259.355 Q164.801 259.355 166.607 255.813 Q168.436 252.249 168.436 245.142 Q168.436 238.012 166.607 234.471 Q164.801 230.906 161.167 230.906 M161.167 227.202 Q166.977 227.202 170.033 231.809 Q173.111 236.392 173.111 245.142 Q173.111 253.869 170.033 258.475 Q166.977 263.059 161.167 263.059 Q155.357 263.059 152.278 258.475 Q149.223 253.869 149.223 245.142 Q149.223 236.392 152.278 231.809 Q155.357 227.202 161.167 227.202 Z\" fill=\"#000000\" fill-rule=\"evenodd\" fill-opacity=\"1\" /><path clip-path=\"url(#clip9700)\" d=\"M 0 0 M188.181 230.906 Q184.57 230.906 182.741 234.471 Q180.935 238.012 180.935 245.142 Q180.935 252.249 182.741 255.813 Q184.57 259.355 188.181 259.355 Q191.815 259.355 193.621 255.813 Q195.449 252.249 195.449 245.142 Q195.449 238.012 193.621 234.471 Q191.815 230.906 188.181 230.906 M188.181 227.202 Q193.991 227.202 197.047 231.809 Q200.125 236.392 200.125 245.142 Q200.125 253.869 197.047 258.475 Q193.991 263.059 188.181 263.059 Q182.371 263.059 179.292 258.475 Q176.236 253.869 176.236 245.142 Q176.236 236.392 179.292 231.809 Q182.371 227.202 188.181 227.202 Z\" fill=\"#000000\" fill-rule=\"evenodd\" fill-opacity=\"1\" /><path clip-path=\"url(#clip9700)\" d=\"M 0 0 M2001.8 1557.3 L2001.8 1567.42 L2013.87 1567.42 L2013.87 1571.97 L2001.8 1571.97 L2001.8 1591.33 Q2001.8 1595.69 2002.98 1596.93 Q2004.19 1598.17 2007.85 1598.17 L2013.87 1598.17 L2013.87 1603.07 L2007.85 1603.07 Q2001.07 1603.07 1998.49 1600.56 Q1995.92 1598.01 1995.92 1591.33 L1995.92 1571.97 L1991.62 1571.97 L1991.62 1567.42 L1995.92 1567.42 L1995.92 1557.3 L2001.8 1557.3 Z\" fill=\"#000000\" fill-rule=\"evenodd\" fill-opacity=\"1\" /><path clip-path=\"url(#clip9700)\" d=\"M 0 0 M2020.01 1567.42 L2025.87 1567.42 L2025.87 1603.07 L2020.01 1603.07 L2020.01 1567.42 M2020.01 1553.55 L2025.87 1553.55 L2025.87 1560.96 L2020.01 1560.96 L2020.01 1553.55 Z\" fill=\"#000000\" fill-rule=\"evenodd\" fill-opacity=\"1\" /><path clip-path=\"url(#clip9700)\" d=\"M 0 0 M2059.76 1574.27 Q2061.96 1570.32 2065.02 1568.44 Q2068.07 1566.56 2072.21 1566.56 Q2077.78 1566.56 2080.8 1570.48 Q2083.83 1574.36 2083.83 1581.55 L2083.83 1603.07 L2077.94 1603.07 L2077.94 1581.75 Q2077.94 1576.62 2076.12 1574.14 Q2074.31 1571.66 2070.59 1571.66 Q2066.03 1571.66 2063.39 1574.68 Q2060.75 1577.7 2060.75 1582.92 L2060.75 1603.07 L2054.86 1603.07 L2054.86 1581.75 Q2054.86 1576.59 2053.05 1574.14 Q2051.23 1571.66 2047.45 1571.66 Q2042.96 1571.66 2040.32 1574.71 Q2037.68 1577.74 2037.68 1582.92 L2037.68 1603.07 L2031.79 1603.07 L2031.79 1567.42 L2037.68 1567.42 L2037.68 1572.96 Q2039.68 1569.68 2042.48 1568.12 Q2045.28 1566.56 2049.13 1566.56 Q2053.02 1566.56 2055.72 1568.54 Q2058.46 1570.51 2059.76 1574.27 Z\" fill=\"#000000\" fill-rule=\"evenodd\" fill-opacity=\"1\" /><path clip-path=\"url(#clip9700)\" d=\"M 0 0 M2120.46 1583.78 L2120.46 1586.65 L2093.53 1586.65 Q2093.92 1592.69 2097.16 1595.88 Q2100.44 1599.03 2106.27 1599.03 Q2109.64 1599.03 2112.79 1598.2 Q2115.97 1597.37 2119.09 1595.72 L2119.09 1601.26 Q2115.94 1602.59 2112.63 1603.29 Q2109.32 1603.99 2105.92 1603.99 Q2097.39 1603.99 2092.39 1599.03 Q2087.42 1594.06 2087.42 1585.6 Q2087.42 1576.84 2092.13 1571.72 Q2096.88 1566.56 2104.9 1566.56 Q2112.09 1566.56 2116.26 1571.21 Q2120.46 1575.83 2120.46 1583.78 M2114.61 1582.06 Q2114.54 1577.26 2111.9 1574.39 Q2109.29 1571.53 2104.96 1571.53 Q2100.06 1571.53 2097.1 1574.3 Q2094.17 1577.07 2093.73 1582.1 L2114.61 1582.06 Z\" fill=\"#000000\" fill-rule=\"evenodd\" fill-opacity=\"1\" /><path clip-path=\"url(#clip9700)\" d=\"M 0 0 M18.7301 887.527 L18.7301 881.67 L54.378 881.67 L54.378 887.527 L18.7301 887.527 M4.85284 887.527 L4.85284 881.67 L12.2689 881.67 L12.2689 887.527 L4.85284 887.527 Z\" fill=\"#000000\" fill-rule=\"evenodd\" fill-opacity=\"1\" /><path clip-path=\"url(#clip9700)\" d=\"M 0 0 M32.8619 845.895 L54.378 845.895 L54.378 851.751 L33.0529 851.751 Q27.9922 851.751 25.4777 853.725 Q22.9633 855.698 22.9633 859.645 Q22.9633 864.387 25.987 867.125 Q29.0107 869.862 34.2306 869.862 L54.378 869.862 L54.378 875.75 L18.7301 875.75 L18.7301 869.862 L24.2682 869.862 Q21.0536 867.761 19.4621 864.928 Q17.8707 862.064 17.8707 858.34 Q17.8707 852.197 21.6901 849.046 Q25.4777 845.895 32.8619 845.895 Z\" fill=\"#000000\" fill-rule=\"evenodd\" fill-opacity=\"1\" /><path clip-path=\"url(#clip9700)\" d=\"M 0 0 M24.1409 816.294 L4.85284 816.294 L4.85284 810.438 L54.378 810.438 L54.378 816.294 L49.0308 816.294 Q52.2137 818.14 53.7733 820.973 Q55.3011 823.774 55.3011 827.721 Q55.3011 834.182 50.1448 838.256 Q44.9886 842.298 36.5859 842.298 Q28.1832 842.298 23.0269 838.256 Q17.8707 834.182 17.8707 827.721 Q17.8707 823.774 19.4303 820.973 Q20.9581 818.14 24.1409 816.294 M36.5859 836.251 Q43.0471 836.251 46.7392 833.609 Q50.3995 830.935 50.3995 826.289 Q50.3995 821.642 46.7392 818.968 Q43.0471 816.294 36.5859 816.294 Q30.1247 816.294 26.4644 818.968 Q22.7723 821.642 22.7723 826.289 Q22.7723 830.935 26.4644 833.609 Q30.1247 836.251 36.5859 836.251 Z\" fill=\"#000000\" fill-rule=\"evenodd\" fill-opacity=\"1\" /><path clip-path=\"url(#clip9700)\" d=\"M 0 0 M18.7301 804.295 L18.7301 798.439 L54.378 798.439 L54.378 804.295 L18.7301 804.295 M4.85284 804.295 L4.85284 798.439 L12.2689 798.439 L12.2689 804.295 L4.85284 804.295 Z\" fill=\"#000000\" fill-rule=\"evenodd\" fill-opacity=\"1\" /><path clip-path=\"url(#clip9700)\" d=\"M 0 0 M20.0987 766.642 L25.5732 766.642 Q24.2046 769.124 23.5362 771.639 Q22.836 774.122 22.836 776.668 Q22.836 782.365 26.4644 785.516 Q30.061 788.667 36.5859 788.667 Q43.1107 788.667 46.7392 785.516 Q50.3358 782.365 50.3358 776.668 Q50.3358 774.122 49.6674 771.639 Q48.9672 769.124 47.5986 766.642 L53.0094 766.642 Q54.1552 769.093 54.7281 771.734 Q55.3011 774.344 55.3011 777.304 Q55.3011 785.357 50.2403 790.099 Q45.1796 794.842 36.5859 794.842 Q27.8649 794.842 22.8678 790.068 Q17.8707 785.262 17.8707 776.922 Q17.8707 774.217 18.4436 771.639 Q18.9847 769.061 20.0987 766.642 Z\" fill=\"#000000\" fill-rule=\"evenodd\" fill-opacity=\"1\" /><path clip-path=\"url(#clip9700)\" d=\"M 0 0 M36.4586 744.298 Q36.4586 751.396 38.0818 754.133 Q39.7051 756.87 43.62 756.87 Q46.7392 756.87 48.5852 754.833 Q50.3995 752.765 50.3995 749.232 Q50.3995 744.362 46.962 741.434 Q43.4927 738.474 37.7635 738.474 L36.4586 738.474 L36.4586 744.298 M34.0396 732.617 L54.378 732.617 L54.378 738.474 L48.9672 738.474 Q52.2137 740.479 53.7733 743.471 Q55.3011 746.463 55.3011 750.791 Q55.3011 756.266 52.2455 759.512 Q49.1582 762.727 44.0019 762.727 Q37.9863 762.727 34.9308 758.717 Q31.8753 754.674 31.8753 746.685 L31.8753 738.474 L31.3023 738.474 Q27.2601 738.474 25.064 741.147 Q22.836 743.789 22.836 748.595 Q22.836 751.651 23.568 754.547 Q24.3001 757.443 25.7642 760.117 L20.3533 760.117 Q19.112 756.902 18.5073 753.879 Q17.8707 750.855 17.8707 747.99 Q17.8707 740.256 21.8811 736.437 Q25.8915 732.617 34.0396 732.617 Z\" fill=\"#000000\" fill-rule=\"evenodd\" fill-opacity=\"1\" /><path clip-path=\"url(#clip9700)\" d=\"M 0 0 M8.6086 720.681 L18.7301 720.681 L18.7301 708.618 L23.2816 708.618 L23.2816 720.681 L42.6333 720.681 Q46.9938 720.681 48.2351 719.504 Q49.4764 718.294 49.4764 714.634 L49.4764 708.618 L54.378 708.618 L54.378 714.634 Q54.378 721.414 51.8636 723.992 Q49.3173 726.57 42.6333 726.57 L23.2816 726.57 L23.2816 730.867 L18.7301 730.867 L18.7301 726.57 L8.6086 726.57 L8.6086 720.681 Z\" fill=\"#000000\" fill-rule=\"evenodd\" fill-opacity=\"1\" /><path clip-path=\"url(#clip9700)\" d=\"M 0 0 M22.836 688.662 Q22.836 693.373 26.5281 696.11 Q30.1883 698.847 36.5859 698.847 Q42.9834 698.847 46.6755 696.142 Q50.3358 693.404 50.3358 688.662 Q50.3358 683.983 46.6437 681.246 Q42.9516 678.509 36.5859 678.509 Q30.252 678.509 26.5599 681.246 Q22.836 683.983 22.836 688.662 M17.8707 688.662 Q17.8707 681.023 22.836 676.663 Q27.8012 672.302 36.5859 672.302 Q45.3387 672.302 50.3358 676.663 Q55.3011 681.023 55.3011 688.662 Q55.3011 696.333 50.3358 700.693 Q45.3387 705.022 36.5859 705.022 Q27.8012 705.022 22.836 700.693 Q17.8707 696.333 17.8707 688.662 Z\" fill=\"#000000\" fill-rule=\"evenodd\" fill-opacity=\"1\" /><path clip-path=\"url(#clip9700)\" d=\"M 0 0 M24.2046 645.502 Q23.6317 646.489 23.377 647.667 Q23.0906 648.813 23.0906 650.213 Q23.0906 655.178 26.3371 657.852 Q29.5518 660.494 35.5992 660.494 L54.378 660.494 L54.378 666.382 L18.7301 666.382 L18.7301 660.494 L24.2682 660.494 Q21.0217 658.648 19.4621 655.688 Q17.8707 652.728 17.8707 648.494 Q17.8707 647.89 17.9662 647.158 Q18.0299 646.425 18.189 645.534 L24.2046 645.502 Z\" fill=\"#000000\" fill-rule=\"evenodd\" fill-opacity=\"1\" /><path clip-path=\"url(#clip9700)\" d=\"M 0 0 M19.7804 616.634 L25.3186 616.634 Q24.0454 619.117 23.4089 621.79 Q22.7723 624.464 22.7723 627.328 Q22.7723 631.689 24.1091 633.885 Q25.4459 636.049 28.1195 636.049 Q30.1565 636.049 31.3342 634.49 Q32.48 632.93 33.5303 628.22 L33.9759 626.214 Q35.3127 619.976 37.7635 617.366 Q40.1825 614.724 44.543 614.724 Q49.5083 614.724 52.4047 618.671 Q55.3011 622.586 55.3011 629.461 Q55.3011 632.325 54.7281 635.445 Q54.1871 638.532 53.0731 641.969 L47.0256 641.969 Q48.7126 638.723 49.5719 635.572 Q50.3995 632.421 50.3995 629.334 Q50.3995 625.196 48.999 622.968 Q47.5667 620.74 44.9886 620.74 Q42.6015 620.74 41.3283 622.363 Q40.0552 623.955 38.8775 629.397 L38.4001 631.434 Q37.2543 636.877 34.899 639.296 Q32.5118 641.715 28.3741 641.715 Q23.3452 641.715 20.608 638.15 Q17.8707 634.585 17.8707 628.029 Q17.8707 624.782 18.3481 621.918 Q18.8256 619.053 19.7804 616.634 Z\" fill=\"#000000\" fill-rule=\"evenodd\" fill-opacity=\"1\" /><polyline clip-path=\"url(#clip9702)\" style=\"stroke:#009af9; stroke-width:4; stroke-opacity:1; fill:none\" points=\"\n",
       "  342.158,1093.74 380.244,1052.77 418.331,1099.59 456.417,1117.15 494.503,1117.15 532.59,1117.15 570.676,1117.15 608.762,1152.26 646.848,1134.71 684.935,1117.15 \n",
       "  723.021,1128.85 761.107,1128.85 799.193,1128.85 837.28,1123 875.366,1099.59 913.452,1093.74 951.539,1123 989.625,1082.03 1027.71,1082.03 1065.8,1082.03 \n",
       "  1103.88,1099.59 1141.97,1117.15 1180.06,1099.59 1218.14,1146.41 1256.23,1128.85 1294.32,1128.85 1332.4,1128.85 1370.49,1105.44 1408.57,1111.3 1446.66,1029.36 \n",
       "  1484.75,1029.36 1522.83,1052.77 1560.92,1052.77 1599.01,1052.77 1637.09,1029.36 1675.18,1029.36 1713.26,1046.92 1751.35,1023.51 1789.44,1035.21 1827.52,1035.21 \n",
       "  1865.61,1035.21 1903.7,1023.51 1941.78,1029.36 1979.87,970.833 2017.95,883.044 2056.04,830.37 2094.13,830.37 2132.21,830.37 2170.3,859.633 2208.39,877.191 \n",
       "  2246.47,865.486 2284.56,859.633 2322.64,877.191 2360.73,877.191 2398.82,877.191 2436.9,900.602 2474.99,912.307 2513.08,865.486 2551.16,847.928 2589.25,771.844 \n",
       "  2627.33,771.844 2665.42,771.844 2703.51,701.612 2741.59,713.317 2779.68,607.97 2817.77,572.854 2855.85,514.328 2893.94,514.328 2932.02,514.328 2970.11,496.77 \n",
       "  3008.2,420.686 3046.28,549.444 3084.37,420.686 3122.46,239.255 3160.54,239.255 3198.63,239.255 3236.72,514.328 3274.8,338.749 3312.89,385.57 3350.97,397.276 \n",
       "  3389.06,321.191 3427.15,321.191 3465.23,321.191 3503.32,250.96 3541.41,87.0864 3579.49,274.37 3617.58,274.37 3655.66,145.613 3693.75,145.613 3731.84,145.613 \n",
       "  3769.92,163.171 \n",
       "  \"/>\n",
       "<polyline clip-path=\"url(#clip9702)\" style=\"stroke:#e26f46; stroke-width:4; stroke-opacity:1; fill:none\" points=\"\n",
       "  342.158,1029.36 380.244,1029.36 418.331,1029.36 456.417,1029.36 494.503,1029.36 532.59,1029.36 570.676,1029.36 608.762,1029.36 646.848,1029.36 684.935,1029.36 \n",
       "  723.021,1029.36 761.107,1029.36 799.193,1029.36 837.28,1029.36 875.366,1029.36 913.452,1029.36 951.539,1029.36 989.625,1029.36 1027.71,1029.36 1065.8,1029.36 \n",
       "  1103.88,1029.36 1141.97,1029.36 1180.06,1029.36 1218.14,1029.36 1256.23,1029.36 1294.32,1029.36 1332.4,1029.36 1370.49,1029.36 1408.57,1029.36 1446.66,1029.36 \n",
       "  1484.75,1029.36 1522.83,1029.36 1560.92,1029.36 1599.01,1029.36 1637.09,1029.36 1675.18,1029.36 1713.26,1029.36 1751.35,1029.36 1789.44,1029.36 1827.52,1029.36 \n",
       "  1865.61,1029.36 1903.7,1029.36 1941.78,1029.36 1979.87,1029.36 2017.95,1029.36 2056.04,1029.36 2094.13,1029.36 2132.21,1029.36 2170.3,1029.36 2208.39,1029.36 \n",
       "  2246.47,1029.36 2284.56,1029.36 2322.64,1029.36 2360.73,1029.36 2398.82,1029.36 2436.9,1029.36 2474.99,1029.36 2513.08,1029.36 2551.16,1029.36 2589.25,1029.36 \n",
       "  2627.33,1029.36 2665.42,1029.36 2703.51,1029.36 2741.59,1029.36 2779.68,1029.36 2817.77,1029.36 2855.85,1029.36 2893.94,1029.36 2932.02,1029.36 2970.11,1029.36 \n",
       "  3008.2,1029.36 3046.28,1029.36 3084.37,1029.36 3122.46,1029.36 3160.54,1029.36 3198.63,1029.36 3236.72,1029.36 3274.8,1029.36 3312.89,1029.36 3350.97,1029.36 \n",
       "  3389.06,1029.36 3427.15,1029.36 3465.23,1029.36 3503.32,1029.36 3541.41,1029.36 3579.49,1029.36 3617.58,1029.36 3655.66,1029.36 3693.75,1029.36 3731.84,1029.36 \n",
       "  3769.92,1029.36 \n",
       "  \"/>\n",
       "<polyline clip-path=\"url(#clip9702)\" style=\"stroke:#3da44d; stroke-width:4; stroke-opacity:1; fill:none\" points=\"\n",
       "  342.158,1112.47 380.244,1101.93 418.331,1100.76 456.417,1103.1 494.503,1096.08 532.59,1100.76 570.676,1113.64 608.762,1124.17 646.848,1127.68 684.935,1127.68 \n",
       "  723.021,1130.02 761.107,1132.37 799.193,1127.68 837.28,1125.34 875.366,1121.83 913.452,1114.81 951.539,1113.64 989.625,1104.27 1027.71,1096.08 1065.8,1092.57 \n",
       "  1103.88,1093.74 1141.97,1092.57 1180.06,1096.08 1218.14,1108.96 1256.23,1118.32 1294.32,1124.17 1332.4,1126.51 1370.49,1127.68 1408.57,1120.66 1446.66,1100.76 \n",
       "  1484.75,1080.86 1522.83,1065.65 1560.92,1055.11 1599.01,1043.41 1637.09,1043.41 1675.18,1043.41 1713.26,1042.24 1751.35,1036.38 1789.44,1032.87 1827.52,1034.04 \n",
       "  1865.61,1035.21 1903.7,1030.53 1941.78,1031.7 1979.87,1018.82 2017.95,988.391 2056.04,947.423 2094.13,908.795 2132.21,868.997 2170.3,846.757 2208.39,845.587 \n",
       "  2246.47,852.61 2284.56,858.463 2322.64,867.827 2360.73,871.338 2398.82,871.338 2436.9,878.362 2474.99,888.896 2513.08,886.555 2551.16,880.703 2589.25,859.633 \n",
       "  2627.33,833.882 2665.42,805.789 2703.51,773.014 2741.59,746.092 2779.68,713.317 2817.77,673.52 2855.85,622.016 2893.94,584.56 2932.02,544.762 2970.11,522.522 \n",
       "  3008.2,492.088 3046.28,499.111 3084.37,480.383 3122.46,425.368 3160.54,373.865 3198.63,337.579 3236.72,330.556 3274.8,314.168 3312.89,343.431 3350.97,375.036 \n",
       "  3389.06,391.423 3427.15,352.796 3465.23,349.284 3503.32,322.362 3541.41,260.324 3579.49,250.96 3617.58,241.596 3655.66,206.48 3693.75,185.411 3731.84,197.116 \n",
       "  3769.92,174.876 \n",
       "  \"/>\n",
       "<polyline clip-path=\"url(#clip9702)\" style=\"stroke:#c271d2; stroke-width:4; stroke-opacity:1; fill:none\" points=\"\n",
       "  342.158,1211.2 380.244,1203.77 418.331,1199.67 456.417,1195.16 494.503,1191.3 532.59,1186.79 570.676,1182.29 608.762,1179.01 646.848,1175.5 684.935,1172.57 \n",
       "  723.021,1168.48 761.107,1164.38 799.193,1160.05 837.28,1155.6 875.366,1150.33 913.452,1144.66 951.539,1141.14 989.625,1136.29 1027.71,1131.02 1065.8,1125.52 \n",
       "  1103.88,1120.66 1141.97,1116.39 1180.06,1112.29 1218.14,1110.13 1256.23,1110.89 1294.32,1112.64 1332.4,1113.46 1370.49,1113.46 1408.57,1113.64 1446.66,1109.54 \n",
       "  1484.75,1107.37 1522.83,1107.37 1560.92,1105.85 1599.01,1103.69 1637.09,1100.76 1675.18,1097.84 1713.26,1095.49 1751.35,1091.22 1789.44,1087.89 1827.52,1085.13 \n",
       "  1865.61,1082.03 1903.7,1078.52 1941.78,1075.19 1979.87,1070.15 2017.95,1062.89 2056.04,1054.12 2094.13,1044.4 2132.21,1035.97 2170.3,1028.6 2208.39,1021.75 \n",
       "  2246.47,1013.97 2284.56,1005.36 2322.64,997.931 2360.73,988.976 2398.82,980.607 2436.9,972.999 2474.99,965.741 2513.08,957.782 2551.16,949.003 2589.25,940.399 \n",
       "  2627.33,931.796 2665.42,922.432 2703.51,910.727 2741.59,899.431 2779.68,885.385 2817.77,870.168 2855.85,852.434 2893.94,835.462 2932.02,818.079 2970.11,800.112 \n",
       "  3008.2,779.628 3046.28,763.826 3084.37,743.576 3122.46,719.17 3160.54,697.691 3198.63,678.026 3236.72,667.491 3274.8,651.104 3312.89,635.302 3350.97,619.266 \n",
       "  3389.06,601.123 3427.15,583.214 3465.23,564.661 3503.32,543.767 3541.41,517.43 3579.49,496.595 3617.58,475.291 3655.66,451.295 3693.75,427.885 3731.84,407.05 \n",
       "  3769.92,386.741 \n",
       "  \"/>\n",
       "<polyline clip-path=\"url(#clip9702)\" style=\"stroke:#ac8d18; stroke-width:4; stroke-opacity:1; fill:none\" points=\"\n",
       "  342.158,1305.08 380.244,1300.69 418.331,1296.77 456.417,1293.08 494.503,1289.33 532.59,1285.59 570.676,1281.78 608.762,1278.68 646.848,1275.11 684.935,1271.48 \n",
       "  723.021,1267.97 761.107,1264.46 799.193,1260.89 837.28,1257.67 875.366,1254.04 913.452,1250.35 951.539,1247.08 989.625,1243.39 1027.71,1239.64 1065.8,1236.07 \n",
       "  1103.88,1232.62 1141.97,1229.17 1180.06,1225.48 1218.14,1222.44 1256.23,1219.16 1294.32,1215.94 1332.4,1212.61 1370.49,1209.15 1408.57,1205.93 1446.66,1202.13 \n",
       "  1484.75,1198.38 1522.83,1194.87 1560.92,1191.36 1599.01,1188.43 1637.09,1185.27 1675.18,1183.05 1713.26,1180.77 1751.35,1178.84 1789.44,1177.08 1827.52,1175.32 \n",
       "  1865.61,1173.45 1903.7,1170.88 1941.78,1168.53 1979.87,1165.14 2017.95,1160.58 2056.04,1155.42 2094.13,1150.33 2132.21,1145.07 2170.3,1140.68 2208.39,1136.23 \n",
       "  2246.47,1131.66 2284.56,1126.69 2322.64,1121.95 2360.73,1117.21 2398.82,1112.64 2436.9,1108.19 2474.99,1104.16 2513.08,1099.59 2551.16,1094.79 2589.25,1089.11 \n",
       "  2627.33,1083.44 2665.42,1077.88 2703.51,1072.08 2741.59,1066.11 2779.68,1059.15 2817.77,1051.6 2855.85,1043.41 2893.94,1035.21 2932.02,1027.14 2970.11,1019.29 \n",
       "  3008.2,1010.05 3046.28,1002.26 3084.37,992.956 3122.46,981.602 3160.54,970.306 3198.63,958.952 3236.72,950.993 3274.8,941.102 3312.89,931.62 3350.97,922.198 \n",
       "  3389.06,911.897 3427.15,901.655 3465.23,891.647 3503.32,880.937 3541.41,869.641 3579.49,860.745 3617.58,851.498 3655.66,840.846 3693.75,830.194 3731.84,819.016 \n",
       "  3769.92,808.657 \n",
       "  \"/>\n",
       "<polyline clip-path=\"url(#clip9702)\" style=\"stroke:#00a9ad; stroke-width:4; stroke-opacity:1; fill:none\" points=\"\n",
       "  342.158,1415.16 380.244,1412.59 418.331,1410.25 456.417,1408.08 494.503,1405.74 532.59,1403.52 570.676,1401.29 608.762,1399.19 646.848,1397.08 684.935,1394.8 \n",
       "  723.021,1392.63 761.107,1390.41 799.193,1388.18 837.28,1385.84 875.366,1383.33 913.452,1380.81 951.539,1378.47 989.625,1375.89 1027.71,1373.32 1065.8,1370.74 \n",
       "  1103.88,1368.28 1141.97,1365.94 1180.06,1363.54 1218.14,1361.38 1256.23,1359.15 1294.32,1356.87 1332.4,1354.59 1370.49,1352.19 1408.57,1349.79 1446.66,1346.92 \n",
       "  1484.75,1344.06 1522.83,1341.36 1560.92,1338.61 1599.01,1335.92 1637.09,1333.05 1675.18,1330.24 1713.26,1327.49 1751.35,1324.68 1789.44,1321.87 1827.52,1319.06 \n",
       "  1865.61,1316.31 1903.7,1313.5 1941.78,1310.75 1979.87,1307.71 2017.95,1304.2 2056.04,1300.34 2094.13,1296.47 2132.21,1292.61 2170.3,1288.86 2208.39,1285.29 \n",
       "  2246.47,1281.61 2284.56,1277.92 2322.64,1274.29 2360.73,1270.66 2398.82,1267.09 2436.9,1263.7 2474.99,1260.36 2513.08,1256.68 2551.16,1252.99 2589.25,1248.77 \n",
       "  2627.33,1244.62 2665.42,1240.46 2703.51,1235.9 2741.59,1231.45 2779.68,1226.42 2817.77,1221.21 2855.85,1215.65 2893.94,1210.09 2932.02,1204.59 2970.11,1198.91 \n",
       "  3008.2,1192.82 3046.28,1187.44 3084.37,1181.29 3122.46,1174.15 3160.54,1167.07 3198.63,1159.99 3236.72,1154.49 3274.8,1147.93 3312.89,1141.61 3350.97,1135.35 \n",
       "  3389.06,1128.68 3427.15,1122.01 3465.23,1115.33 3503.32,1108.43 3541.41,1100.53 3579.49,1093.68 3617.58,1086.83 3655.66,1079.22 3693.75,1071.67 3731.84,1064.18 \n",
       "  3769.92,1056.87 \n",
       "  \"/>\n",
       "<path clip-path=\"url(#clip9700)\" d=\"\n",
       "M356.925 645.324 L1007.65 645.324 L1007.65 221.964 L356.925 221.964  Z\n",
       "  \" fill=\"#ffffff\" fill-rule=\"evenodd\" fill-opacity=\"1\"/>\n",
       "<polyline clip-path=\"url(#clip9700)\" style=\"stroke:#000000; stroke-width:4; stroke-opacity:1; fill:none\" points=\"\n",
       "  356.925,645.324 1007.65,645.324 1007.65,221.964 356.925,221.964 356.925,645.324 \n",
       "  \"/>\n",
       "<polyline clip-path=\"url(#clip9700)\" style=\"stroke:#009af9; stroke-width:4; stroke-opacity:1; fill:none\" points=\"\n",
       "  396.125,282.444 631.325,282.444 \n",
       "  \"/>\n",
       "<path clip-path=\"url(#clip9700)\" d=\"M 0 0 M683.72 299.724 L670.525 265.164 L675.409 265.164 L686.358 294.261 L697.331 265.164 L702.192 265.164 L689.02 299.724 L683.72 299.724 Z\" fill=\"#000000\" fill-rule=\"evenodd\" fill-opacity=\"1\" /><path clip-path=\"url(#clip9700)\" d=\"M 0 0 M714.761 286.692 Q709.599 286.692 707.608 287.872 Q705.618 289.053 705.618 291.9 Q705.618 294.169 707.099 295.511 Q708.604 296.831 711.173 296.831 Q714.715 296.831 716.844 294.331 Q718.997 291.807 718.997 287.641 L718.997 286.692 L714.761 286.692 M723.256 284.933 L723.256 299.724 L718.997 299.724 L718.997 295.789 Q717.539 298.15 715.363 299.284 Q713.187 300.395 710.039 300.395 Q706.057 300.395 703.696 298.173 Q701.358 295.928 701.358 292.178 Q701.358 287.803 704.275 285.581 Q707.215 283.358 713.025 283.358 L718.997 283.358 L718.997 282.942 Q718.997 280.002 717.053 278.405 Q715.131 276.784 711.636 276.784 Q709.414 276.784 707.307 277.317 Q705.201 277.849 703.257 278.914 L703.257 274.979 Q705.594 274.076 707.794 273.636 Q709.993 273.173 712.076 273.173 Q717.701 273.173 720.479 276.09 Q723.256 279.007 723.256 284.933 Z\" fill=\"#000000\" fill-rule=\"evenodd\" fill-opacity=\"1\" /><path clip-path=\"url(#clip9700)\" d=\"M 0 0 M727.724 263.706 L731.983 263.706 L731.983 299.724 L727.724 299.724 L727.724 263.706 Z\" fill=\"#000000\" fill-rule=\"evenodd\" fill-opacity=\"1\" /><path clip-path=\"url(#clip9700)\" d=\"M 0 0 M736.011 289.493 L736.011 273.798 L740.27 273.798 L740.27 289.331 Q740.27 293.011 741.705 294.863 Q743.141 296.692 746.011 296.692 Q749.46 296.692 751.451 294.493 Q753.465 292.294 753.465 288.497 L753.465 273.798 L757.724 273.798 L757.724 299.724 L753.465 299.724 L753.465 295.743 Q751.914 298.104 749.853 299.261 Q747.816 300.395 745.108 300.395 Q740.641 300.395 738.326 297.618 Q736.011 294.84 736.011 289.493 M746.729 273.173 L746.729 273.173 Z\" fill=\"#000000\" fill-rule=\"evenodd\" fill-opacity=\"1\" /><path clip-path=\"url(#clip9700)\" d=\"M 0 0 M784.367 285.696 L784.367 287.78 L764.784 287.78 Q765.062 292.178 767.423 294.493 Q769.807 296.784 774.043 296.784 Q776.497 296.784 778.789 296.182 Q781.103 295.581 783.372 294.377 L783.372 298.405 Q781.08 299.377 778.673 299.886 Q776.265 300.395 773.789 300.395 Q767.585 300.395 763.951 296.784 Q760.34 293.173 760.34 287.016 Q760.34 280.65 763.765 276.923 Q767.215 273.173 773.048 273.173 Q778.279 273.173 781.312 276.553 Q784.367 279.909 784.367 285.696 M780.108 284.446 Q780.062 280.951 778.14 278.868 Q776.242 276.784 773.094 276.784 Q769.529 276.784 767.377 278.798 Q765.247 280.812 764.923 284.47 L780.108 284.446 Z\" fill=\"#000000\" fill-rule=\"evenodd\" fill-opacity=\"1\" /><polyline clip-path=\"url(#clip9700)\" style=\"stroke:#e26f46; stroke-width:4; stroke-opacity:1; fill:none\" points=\"\n",
       "  396.125,342.924 631.325,342.924 \n",
       "  \"/>\n",
       "<path clip-path=\"url(#clip9700)\" d=\"M 0 0 M674.808 356.315 L674.808 370.065 L670.525 370.065 L670.525 334.278 L674.808 334.278 L674.808 338.213 Q676.15 335.899 678.187 334.788 Q680.247 333.653 683.095 333.653 Q687.817 333.653 690.757 337.403 Q693.72 341.153 693.72 347.264 Q693.72 353.375 690.757 357.125 Q687.817 360.875 683.095 360.875 Q680.247 360.875 678.187 359.764 Q676.15 358.63 674.808 356.315 M689.298 347.264 Q689.298 342.565 687.354 339.903 Q685.433 337.218 682.053 337.218 Q678.673 337.218 676.729 339.903 Q674.808 342.565 674.808 347.264 Q674.808 351.963 676.729 354.649 Q678.673 357.311 682.053 357.311 Q685.433 357.311 687.354 354.649 Q689.298 351.963 689.298 347.264 Z\" fill=\"#000000\" fill-rule=\"evenodd\" fill-opacity=\"1\" /><path clip-path=\"url(#clip9700)\" d=\"M 0 0 M708.233 337.264 Q704.807 337.264 702.817 339.95 Q700.826 342.612 700.826 347.264 Q700.826 351.917 702.794 354.602 Q704.784 357.264 708.233 357.264 Q711.636 357.264 713.627 354.579 Q715.618 351.894 715.618 347.264 Q715.618 342.658 713.627 339.973 Q711.636 337.264 708.233 337.264 M708.233 333.653 Q713.789 333.653 716.96 337.264 Q720.131 340.875 720.131 347.264 Q720.131 353.63 716.96 357.264 Q713.789 360.875 708.233 360.875 Q702.655 360.875 699.483 357.264 Q696.335 353.63 696.335 347.264 Q696.335 340.875 699.483 337.264 Q702.655 333.653 708.233 333.653 Z\" fill=\"#000000\" fill-rule=\"evenodd\" fill-opacity=\"1\" /><path clip-path=\"url(#clip9700)\" d=\"M 0 0 M741.127 335.042 L741.127 339.07 Q739.321 338.144 737.377 337.681 Q735.432 337.218 733.349 337.218 Q730.178 337.218 728.58 338.19 Q727.006 339.163 727.006 341.107 Q727.006 342.588 728.141 343.445 Q729.275 344.278 732.701 345.042 L734.159 345.366 Q738.696 346.338 740.594 348.121 Q742.516 349.88 742.516 353.051 Q742.516 356.662 739.645 358.769 Q736.798 360.875 731.798 360.875 Q729.715 360.875 727.446 360.459 Q725.201 360.065 722.701 359.255 L722.701 354.857 Q725.062 356.084 727.354 356.709 Q729.645 357.311 731.891 357.311 Q734.9 357.311 736.52 356.292 Q738.141 355.25 738.141 353.375 Q738.141 351.639 736.96 350.713 Q735.803 349.787 731.844 348.931 L730.363 348.584 Q726.405 347.75 724.645 346.038 Q722.886 344.301 722.886 341.292 Q722.886 337.635 725.479 335.644 Q728.071 333.653 732.84 333.653 Q735.201 333.653 737.284 334.001 Q739.367 334.348 741.127 335.042 Z\" fill=\"#000000\" fill-rule=\"evenodd\" fill-opacity=\"1\" /><path clip-path=\"url(#clip9700)\" d=\"M 0 0 M746.983 334.278 L751.242 334.278 L751.242 360.204 L746.983 360.204 L746.983 334.278 M746.983 324.186 L751.242 324.186 L751.242 329.579 L746.983 329.579 L746.983 324.186 Z\" fill=\"#000000\" fill-rule=\"evenodd\" fill-opacity=\"1\" /><path clip-path=\"url(#clip9700)\" d=\"M 0 0 M759.923 326.917 L759.923 334.278 L768.696 334.278 L768.696 337.588 L759.923 337.588 L759.923 351.662 Q759.923 354.834 760.779 355.737 Q761.659 356.639 764.321 356.639 L768.696 356.639 L768.696 360.204 L764.321 360.204 Q759.39 360.204 757.515 358.375 Q755.64 356.524 755.64 351.662 L755.64 337.588 L752.516 337.588 L752.516 334.278 L755.64 334.278 L755.64 326.917 L759.923 326.917 Z\" fill=\"#000000\" fill-rule=\"evenodd\" fill-opacity=\"1\" /><path clip-path=\"url(#clip9700)\" d=\"M 0 0 M773.164 334.278 L777.423 334.278 L777.423 360.204 L773.164 360.204 L773.164 334.278 M773.164 324.186 L777.423 324.186 L777.423 329.579 L773.164 329.579 L773.164 324.186 Z\" fill=\"#000000\" fill-rule=\"evenodd\" fill-opacity=\"1\" /><path clip-path=\"url(#clip9700)\" d=\"M 0 0 M791.937 337.264 Q788.511 337.264 786.52 339.95 Q784.529 342.612 784.529 347.264 Q784.529 351.917 786.497 354.602 Q788.488 357.264 791.937 357.264 Q795.339 357.264 797.33 354.579 Q799.321 351.894 799.321 347.264 Q799.321 342.658 797.33 339.973 Q795.339 337.264 791.937 337.264 M791.937 333.653 Q797.492 333.653 800.663 337.264 Q803.835 340.875 803.835 347.264 Q803.835 353.63 800.663 357.264 Q797.492 360.875 791.937 360.875 Q786.358 360.875 783.187 357.264 Q780.039 353.63 780.039 347.264 Q780.039 340.875 783.187 337.264 Q786.358 333.653 791.937 333.653 Z\" fill=\"#000000\" fill-rule=\"evenodd\" fill-opacity=\"1\" /><path clip-path=\"url(#clip9700)\" d=\"M 0 0 M829.853 344.556 L829.853 360.204 L825.594 360.204 L825.594 344.695 Q825.594 341.014 824.159 339.186 Q822.723 337.357 819.853 337.357 Q816.404 337.357 814.413 339.556 Q812.423 341.755 812.423 345.551 L812.423 360.204 L808.14 360.204 L808.14 334.278 L812.423 334.278 L812.423 338.306 Q813.95 335.968 816.011 334.811 Q818.094 333.653 820.802 333.653 Q825.27 333.653 827.561 336.431 Q829.853 339.186 829.853 344.556 Z\" fill=\"#000000\" fill-rule=\"evenodd\" fill-opacity=\"1\" /><polyline clip-path=\"url(#clip9700)\" style=\"stroke:#3da44d; stroke-width:4; stroke-opacity:1; fill:none\" points=\"\n",
       "  396.125,403.404 631.325,403.404 \n",
       "  \"/>\n",
       "<path clip-path=\"url(#clip9700)\" d=\"M 0 0 M671.984 386.124 L690.34 386.124 L690.34 390.059 L676.266 390.059 L676.266 398.531 Q677.284 398.184 678.303 398.022 Q679.321 397.837 680.34 397.837 Q686.127 397.837 689.507 401.008 Q692.886 404.18 692.886 409.596 Q692.886 415.175 689.414 418.277 Q685.942 421.355 679.622 421.355 Q677.446 421.355 675.178 420.985 Q672.933 420.615 670.525 419.874 L670.525 415.175 Q672.609 416.309 674.831 416.865 Q677.053 417.42 679.53 417.42 Q683.534 417.42 685.872 415.314 Q688.21 413.207 688.21 409.596 Q688.21 405.985 685.872 403.879 Q683.534 401.772 679.53 401.772 Q677.655 401.772 675.78 402.189 Q673.928 402.605 671.984 403.485 L671.984 386.124 Z\" fill=\"#000000\" fill-rule=\"evenodd\" fill-opacity=\"1\" /><path clip-path=\"url(#clip9700)\" d=\"M 0 0 M695.201 405.8 L707.678 405.8 L707.678 409.596 L695.201 409.596 L695.201 405.8 Z\" fill=\"#000000\" fill-rule=\"evenodd\" fill-opacity=\"1\" /><path clip-path=\"url(#clip9700)\" d=\"M 0 0 M729.205 398.693 L729.205 384.666 L733.465 384.666 L733.465 420.684 L729.205 420.684 L729.205 416.795 Q727.863 419.11 725.803 420.244 Q723.766 421.355 720.895 421.355 Q716.196 421.355 713.233 417.605 Q710.294 413.855 710.294 407.744 Q710.294 401.633 713.233 397.883 Q716.196 394.133 720.895 394.133 Q723.766 394.133 725.803 395.268 Q727.863 396.379 729.205 398.693 M714.692 407.744 Q714.692 412.443 716.613 415.129 Q718.557 417.791 721.937 417.791 Q725.317 417.791 727.261 415.129 Q729.205 412.443 729.205 407.744 Q729.205 403.045 727.261 400.383 Q725.317 397.698 721.937 397.698 Q718.557 397.698 716.613 400.383 Q714.692 403.045 714.692 407.744 Z\" fill=\"#000000\" fill-rule=\"evenodd\" fill-opacity=\"1\" /><path clip-path=\"url(#clip9700)\" d=\"M 0 0 M749.715 407.652 Q744.553 407.652 742.562 408.832 Q740.571 410.013 740.571 412.86 Q740.571 415.129 742.053 416.471 Q743.557 417.791 746.127 417.791 Q749.668 417.791 751.798 415.291 Q753.951 412.767 753.951 408.601 L753.951 407.652 L749.715 407.652 M758.21 405.893 L758.21 420.684 L753.951 420.684 L753.951 416.749 Q752.492 419.11 750.316 420.244 Q748.141 421.355 744.992 421.355 Q741.011 421.355 738.65 419.133 Q736.312 416.888 736.312 413.138 Q736.312 408.763 739.229 406.541 Q742.168 404.318 747.978 404.318 L753.951 404.318 L753.951 403.902 Q753.951 400.962 752.006 399.365 Q750.085 397.744 746.59 397.744 Q744.367 397.744 742.261 398.277 Q740.154 398.809 738.21 399.874 L738.21 395.939 Q740.548 395.036 742.747 394.596 Q744.946 394.133 747.029 394.133 Q752.654 394.133 755.432 397.05 Q758.21 399.967 758.21 405.893 Z\" fill=\"#000000\" fill-rule=\"evenodd\" fill-opacity=\"1\" /><path clip-path=\"url(#clip9700)\" d=\"M 0 0 M773.464 423.091 Q771.659 427.721 769.946 429.133 Q768.233 430.545 765.363 430.545 L761.96 430.545 L761.96 426.98 L764.46 426.98 Q766.219 426.98 767.191 426.147 Q768.164 425.314 769.344 422.212 L770.108 420.267 L759.622 394.758 L764.136 394.758 L772.238 415.036 L780.339 394.758 L784.853 394.758 L773.464 423.091 Z\" fill=\"#000000\" fill-rule=\"evenodd\" fill-opacity=\"1\" /><path clip-path=\"url(#clip9700)\" d=\"M 0 0 M816.173 407.652 Q811.011 407.652 809.02 408.832 Q807.029 410.013 807.029 412.86 Q807.029 415.129 808.511 416.471 Q810.015 417.791 812.585 417.791 Q816.126 417.791 818.256 415.291 Q820.409 412.767 820.409 408.601 L820.409 407.652 L816.173 407.652 M824.668 405.893 L824.668 420.684 L820.409 420.684 L820.409 416.749 Q818.95 419.11 816.774 420.244 Q814.599 421.355 811.45 421.355 Q807.469 421.355 805.108 419.133 Q802.77 416.888 802.77 413.138 Q802.77 408.763 805.687 406.541 Q808.626 404.318 814.436 404.318 L820.409 404.318 L820.409 403.902 Q820.409 400.962 818.464 399.365 Q816.543 397.744 813.048 397.744 Q810.825 397.744 808.719 398.277 Q806.612 398.809 804.668 399.874 L804.668 395.939 Q807.006 395.036 809.205 394.596 Q811.404 394.133 813.487 394.133 Q819.112 394.133 821.89 397.05 Q824.668 399.967 824.668 405.893 Z\" fill=\"#000000\" fill-rule=\"evenodd\" fill-opacity=\"1\" /><path clip-path=\"url(#clip9700)\" d=\"M 0 0 M826.08 394.758 L830.594 394.758 L838.696 416.517 L846.797 394.758 L851.311 394.758 L841.589 420.684 L835.802 420.684 L826.08 394.758 Z\" fill=\"#000000\" fill-rule=\"evenodd\" fill-opacity=\"1\" /><path clip-path=\"url(#clip9700)\" d=\"M 0 0 M872.839 407.42 Q872.839 402.791 870.918 400.244 Q869.02 397.698 865.57 397.698 Q862.145 397.698 860.223 400.244 Q858.325 402.791 858.325 407.42 Q858.325 412.027 860.223 414.573 Q862.145 417.119 865.57 417.119 Q869.02 417.119 870.918 414.573 Q872.839 412.027 872.839 407.42 M877.098 417.467 Q877.098 424.087 874.158 427.304 Q871.219 430.545 865.154 430.545 Q862.908 430.545 860.918 430.198 Q858.927 429.874 857.052 429.179 L857.052 425.036 Q858.927 426.054 860.756 426.541 Q862.584 427.027 864.483 427.027 Q868.672 427.027 870.756 424.828 Q872.839 422.652 872.839 418.23 L872.839 416.124 Q871.52 418.416 869.459 419.55 Q867.399 420.684 864.529 420.684 Q859.76 420.684 856.844 417.05 Q853.927 413.416 853.927 407.42 Q853.927 401.402 856.844 397.768 Q859.76 394.133 864.529 394.133 Q867.399 394.133 869.459 395.268 Q871.52 396.402 872.839 398.693 L872.839 394.758 L877.098 394.758 L877.098 417.467 Z\" fill=\"#000000\" fill-rule=\"evenodd\" fill-opacity=\"1\" /><polyline clip-path=\"url(#clip9700)\" style=\"stroke:#c271d2; stroke-width:4; stroke-opacity:1; fill:none\" points=\"\n",
       "  396.125,463.884 631.325,463.884 \n",
       "  \"/>\n",
       "<path clip-path=\"url(#clip9700)\" d=\"M 0 0 M686.15 462.53 Q689.507 463.248 691.382 465.516 Q693.28 467.785 693.28 471.118 Q693.28 476.234 689.761 479.034 Q686.243 481.835 679.761 481.835 Q677.585 481.835 675.271 481.396 Q672.979 480.979 670.525 480.122 L670.525 475.609 Q672.47 476.743 674.784 477.322 Q677.099 477.9 679.622 477.9 Q684.021 477.9 686.312 476.164 Q688.627 474.428 688.627 471.118 Q688.627 468.062 686.474 466.349 Q684.345 464.613 680.525 464.613 L676.497 464.613 L676.497 460.771 L680.71 460.771 Q684.159 460.771 685.988 459.405 Q687.817 458.016 687.817 455.423 Q687.817 452.761 685.919 451.349 Q684.044 449.914 680.525 449.914 Q678.604 449.914 676.405 450.331 Q674.206 450.748 671.567 451.627 L671.567 447.461 Q674.229 446.72 676.544 446.349 Q678.882 445.979 680.942 445.979 Q686.266 445.979 689.368 448.41 Q692.47 450.817 692.47 454.937 Q692.47 457.808 690.826 459.798 Q689.183 461.766 686.15 462.53 Z\" fill=\"#000000\" fill-rule=\"evenodd\" fill-opacity=\"1\" /><path clip-path=\"url(#clip9700)\" d=\"M 0 0 M708.349 449.683 Q704.738 449.683 702.909 453.248 Q701.104 456.789 701.104 463.919 Q701.104 471.025 702.909 474.59 Q704.738 478.132 708.349 478.132 Q711.983 478.132 713.789 474.59 Q715.618 471.025 715.618 463.919 Q715.618 456.789 713.789 453.248 Q711.983 449.683 708.349 449.683 M708.349 445.979 Q714.159 445.979 717.215 450.586 Q720.293 455.169 720.293 463.919 Q720.293 472.646 717.215 477.252 Q714.159 481.835 708.349 481.835 Q702.539 481.835 699.46 477.252 Q696.405 472.646 696.405 463.919 Q696.405 455.169 699.46 450.586 Q702.539 445.979 708.349 445.979 Z\" fill=\"#000000\" fill-rule=\"evenodd\" fill-opacity=\"1\" /><path clip-path=\"url(#clip9700)\" d=\"M 0 0 M722.608 466.28 L735.085 466.28 L735.085 470.076 L722.608 470.076 L722.608 466.28 Z\" fill=\"#000000\" fill-rule=\"evenodd\" fill-opacity=\"1\" /><path clip-path=\"url(#clip9700)\" d=\"M 0 0 M756.613 459.173 L756.613 445.146 L760.872 445.146 L760.872 481.164 L756.613 481.164 L756.613 477.275 Q755.27 479.59 753.21 480.724 Q751.173 481.835 748.303 481.835 Q743.604 481.835 740.641 478.085 Q737.701 474.335 737.701 468.224 Q737.701 462.113 740.641 458.363 Q743.604 454.613 748.303 454.613 Q751.173 454.613 753.21 455.748 Q755.27 456.859 756.613 459.173 M742.099 468.224 Q742.099 472.923 744.02 475.609 Q745.965 478.271 749.344 478.271 Q752.724 478.271 754.668 475.609 Q756.613 472.923 756.613 468.224 Q756.613 463.525 754.668 460.863 Q752.724 458.178 749.344 458.178 Q745.965 458.178 744.02 460.863 Q742.099 463.525 742.099 468.224 Z\" fill=\"#000000\" fill-rule=\"evenodd\" fill-opacity=\"1\" /><path clip-path=\"url(#clip9700)\" d=\"M 0 0 M777.122 468.132 Q771.96 468.132 769.969 469.312 Q767.978 470.493 767.978 473.34 Q767.978 475.609 769.46 476.951 Q770.964 478.271 773.534 478.271 Q777.076 478.271 779.205 475.771 Q781.358 473.247 781.358 469.081 L781.358 468.132 L777.122 468.132 M785.617 466.373 L785.617 481.164 L781.358 481.164 L781.358 477.229 Q779.9 479.59 777.724 480.724 Q775.548 481.835 772.4 481.835 Q768.418 481.835 766.057 479.613 Q763.719 477.368 763.719 473.618 Q763.719 469.243 766.636 467.021 Q769.576 464.798 775.386 464.798 L781.358 464.798 L781.358 464.382 Q781.358 461.442 779.414 459.845 Q777.492 458.224 773.997 458.224 Q771.775 458.224 769.668 458.757 Q767.562 459.289 765.617 460.354 L765.617 456.419 Q767.955 455.516 770.154 455.076 Q772.353 454.613 774.437 454.613 Q780.062 454.613 782.839 457.53 Q785.617 460.447 785.617 466.373 Z\" fill=\"#000000\" fill-rule=\"evenodd\" fill-opacity=\"1\" /><path clip-path=\"url(#clip9700)\" d=\"M 0 0 M800.872 483.571 Q799.066 488.201 797.353 489.613 Q795.64 491.025 792.77 491.025 L789.367 491.025 L789.367 487.46 L791.867 487.46 Q793.626 487.46 794.599 486.627 Q795.571 485.794 796.751 482.692 L797.515 480.747 L787.029 455.238 L791.543 455.238 L799.645 475.516 L807.747 455.238 L812.261 455.238 L800.872 483.571 Z\" fill=\"#000000\" fill-rule=\"evenodd\" fill-opacity=\"1\" /><path clip-path=\"url(#clip9700)\" d=\"M 0 0 M843.58 468.132 Q838.418 468.132 836.427 469.312 Q834.436 470.493 834.436 473.34 Q834.436 475.609 835.918 476.951 Q837.422 478.271 839.992 478.271 Q843.534 478.271 845.663 475.771 Q847.816 473.247 847.816 469.081 L847.816 468.132 L843.58 468.132 M852.075 466.373 L852.075 481.164 L847.816 481.164 L847.816 477.229 Q846.358 479.59 844.182 480.724 Q842.006 481.835 838.858 481.835 Q834.876 481.835 832.515 479.613 Q830.177 477.368 830.177 473.618 Q830.177 469.243 833.094 467.021 Q836.034 464.798 841.844 464.798 L847.816 464.798 L847.816 464.382 Q847.816 461.442 845.871 459.845 Q843.95 458.224 840.455 458.224 Q838.233 458.224 836.126 458.757 Q834.02 459.289 832.075 460.354 L832.075 456.419 Q834.413 455.516 836.612 455.076 Q838.811 454.613 840.895 454.613 Q846.52 454.613 849.297 457.53 Q852.075 460.447 852.075 466.373 Z\" fill=\"#000000\" fill-rule=\"evenodd\" fill-opacity=\"1\" /><path clip-path=\"url(#clip9700)\" d=\"M 0 0 M853.487 455.238 L858.001 455.238 L866.103 476.997 L874.205 455.238 L878.719 455.238 L868.996 481.164 L863.209 481.164 L853.487 455.238 Z\" fill=\"#000000\" fill-rule=\"evenodd\" fill-opacity=\"1\" /><path clip-path=\"url(#clip9700)\" d=\"M 0 0 M900.246 467.9 Q900.246 463.271 898.325 460.724 Q896.427 458.178 892.978 458.178 Q889.552 458.178 887.631 460.724 Q885.732 463.271 885.732 467.9 Q885.732 472.507 887.631 475.053 Q889.552 477.599 892.978 477.599 Q896.427 477.599 898.325 475.053 Q900.246 472.507 900.246 467.9 M904.505 477.947 Q904.505 484.567 901.566 487.784 Q898.626 491.025 892.561 491.025 Q890.316 491.025 888.325 490.678 Q886.334 490.354 884.459 489.659 L884.459 485.516 Q886.334 486.534 888.163 487.021 Q889.992 487.507 891.89 487.507 Q896.08 487.507 898.163 485.308 Q900.246 483.132 900.246 478.71 L900.246 476.604 Q898.927 478.896 896.867 480.03 Q894.806 481.164 891.936 481.164 Q887.168 481.164 884.251 477.53 Q881.334 473.896 881.334 467.9 Q881.334 461.882 884.251 458.248 Q887.168 454.613 891.936 454.613 Q894.806 454.613 896.867 455.748 Q898.927 456.882 900.246 459.173 L900.246 455.238 L904.505 455.238 L904.505 477.947 Z\" fill=\"#000000\" fill-rule=\"evenodd\" fill-opacity=\"1\" /><polyline clip-path=\"url(#clip9700)\" style=\"stroke:#ac8d18; stroke-width:4; stroke-opacity:1; fill:none\" points=\"\n",
       "  396.125,524.364 631.325,524.364 \n",
       "  \"/>\n",
       "<path clip-path=\"url(#clip9700)\" d=\"M 0 0 M672.747 540.927 L672.747 536.667 Q674.507 537.501 676.312 537.94 Q678.118 538.38 679.854 538.38 Q684.483 538.38 686.914 535.278 Q689.368 532.153 689.715 525.811 Q688.372 527.802 686.312 528.866 Q684.252 529.931 681.752 529.931 Q676.567 529.931 673.534 526.806 Q670.525 523.658 670.525 518.218 Q670.525 512.894 673.673 509.677 Q676.821 506.459 682.053 506.459 Q688.048 506.459 691.196 511.066 Q694.368 515.649 694.368 524.399 Q694.368 532.57 690.479 537.454 Q686.613 542.315 680.062 542.315 Q678.303 542.315 676.497 541.968 Q674.692 541.621 672.747 540.927 M682.053 526.274 Q685.201 526.274 687.03 524.121 Q688.882 521.968 688.882 518.218 Q688.882 514.491 687.03 512.339 Q685.201 510.163 682.053 510.163 Q678.905 510.163 677.053 512.339 Q675.224 514.491 675.224 518.218 Q675.224 521.968 677.053 524.121 Q678.905 526.274 682.053 526.274 Z\" fill=\"#000000\" fill-rule=\"evenodd\" fill-opacity=\"1\" /><path clip-path=\"url(#clip9700)\" d=\"M 0 0 M709.437 510.163 Q705.826 510.163 703.997 513.728 Q702.192 517.269 702.192 524.399 Q702.192 531.505 703.997 535.07 Q705.826 538.612 709.437 538.612 Q713.071 538.612 714.877 535.07 Q716.706 531.505 716.706 524.399 Q716.706 517.269 714.877 513.728 Q713.071 510.163 709.437 510.163 M709.437 506.459 Q715.247 506.459 718.303 511.066 Q721.381 515.649 721.381 524.399 Q721.381 533.126 718.303 537.732 Q715.247 542.315 709.437 542.315 Q703.627 542.315 700.548 537.732 Q697.493 533.126 697.493 524.399 Q697.493 515.649 700.548 511.066 Q703.627 506.459 709.437 506.459 Z\" fill=\"#000000\" fill-rule=\"evenodd\" fill-opacity=\"1\" /><path clip-path=\"url(#clip9700)\" d=\"M 0 0 M723.696 526.76 L736.173 526.76 L736.173 530.556 L723.696 530.556 L723.696 526.76 Z\" fill=\"#000000\" fill-rule=\"evenodd\" fill-opacity=\"1\" /><path clip-path=\"url(#clip9700)\" d=\"M 0 0 M757.701 519.653 L757.701 505.626 L761.96 505.626 L761.96 541.644 L757.701 541.644 L757.701 537.755 Q756.358 540.07 754.298 541.204 Q752.261 542.315 749.391 542.315 Q744.691 542.315 741.729 538.565 Q738.789 534.815 738.789 528.704 Q738.789 522.593 741.729 518.843 Q744.691 515.093 749.391 515.093 Q752.261 515.093 754.298 516.228 Q756.358 517.339 757.701 519.653 M743.187 528.704 Q743.187 533.403 745.108 536.089 Q747.053 538.751 750.432 538.751 Q753.812 538.751 755.756 536.089 Q757.701 533.403 757.701 528.704 Q757.701 524.005 755.756 521.343 Q753.812 518.658 750.432 518.658 Q747.053 518.658 745.108 521.343 Q743.187 524.005 743.187 528.704 Z\" fill=\"#000000\" fill-rule=\"evenodd\" fill-opacity=\"1\" /><path clip-path=\"url(#clip9700)\" d=\"M 0 0 M778.21 528.612 Q773.048 528.612 771.057 529.792 Q769.066 530.973 769.066 533.82 Q769.066 536.089 770.548 537.431 Q772.052 538.751 774.622 538.751 Q778.164 538.751 780.293 536.251 Q782.446 533.727 782.446 529.561 L782.446 528.612 L778.21 528.612 M786.705 526.853 L786.705 541.644 L782.446 541.644 L782.446 537.709 Q780.988 540.07 778.812 541.204 Q776.636 542.315 773.488 542.315 Q769.506 542.315 767.145 540.093 Q764.807 537.848 764.807 534.098 Q764.807 529.723 767.724 527.501 Q770.664 525.278 776.474 525.278 L782.446 525.278 L782.446 524.862 Q782.446 521.922 780.501 520.325 Q778.58 518.704 775.085 518.704 Q772.863 518.704 770.756 519.237 Q768.65 519.769 766.705 520.834 L766.705 516.899 Q769.043 515.996 771.242 515.556 Q773.441 515.093 775.525 515.093 Q781.15 515.093 783.927 518.01 Q786.705 520.927 786.705 526.853 Z\" fill=\"#000000\" fill-rule=\"evenodd\" fill-opacity=\"1\" /><path clip-path=\"url(#clip9700)\" d=\"M 0 0 M801.96 544.051 Q800.154 548.681 798.441 550.093 Q796.728 551.505 793.858 551.505 L790.455 551.505 L790.455 547.94 L792.955 547.94 Q794.714 547.94 795.687 547.107 Q796.659 546.274 797.839 543.172 L798.603 541.227 L788.117 515.718 L792.631 515.718 L800.733 535.996 L808.835 515.718 L813.349 515.718 L801.96 544.051 Z\" fill=\"#000000\" fill-rule=\"evenodd\" fill-opacity=\"1\" /><path clip-path=\"url(#clip9700)\" d=\"M 0 0 M844.668 528.612 Q839.506 528.612 837.515 529.792 Q835.524 530.973 835.524 533.82 Q835.524 536.089 837.006 537.431 Q838.51 538.751 841.08 538.751 Q844.621 538.751 846.751 536.251 Q848.904 533.727 848.904 529.561 L848.904 528.612 L844.668 528.612 M853.163 526.853 L853.163 541.644 L848.904 541.644 L848.904 537.709 Q847.446 540.07 845.27 541.204 Q843.094 542.315 839.946 542.315 Q835.964 542.315 833.603 540.093 Q831.265 537.848 831.265 534.098 Q831.265 529.723 834.182 527.501 Q837.122 525.278 842.932 525.278 L848.904 525.278 L848.904 524.862 Q848.904 521.922 846.959 520.325 Q845.038 518.704 841.543 518.704 Q839.321 518.704 837.214 519.237 Q835.108 519.769 833.163 520.834 L833.163 516.899 Q835.501 515.996 837.7 515.556 Q839.899 515.093 841.983 515.093 Q847.608 515.093 850.385 518.01 Q853.163 520.927 853.163 526.853 Z\" fill=\"#000000\" fill-rule=\"evenodd\" fill-opacity=\"1\" /><path clip-path=\"url(#clip9700)\" d=\"M 0 0 M854.575 515.718 L859.089 515.718 L867.191 537.477 L875.293 515.718 L879.806 515.718 L870.084 541.644 L864.297 541.644 L854.575 515.718 Z\" fill=\"#000000\" fill-rule=\"evenodd\" fill-opacity=\"1\" /><path clip-path=\"url(#clip9700)\" d=\"M 0 0 M901.334 528.38 Q901.334 523.751 899.413 521.204 Q897.515 518.658 894.066 518.658 Q890.64 518.658 888.718 521.204 Q886.82 523.751 886.82 528.38 Q886.82 532.987 888.718 535.533 Q890.64 538.079 894.066 538.079 Q897.515 538.079 899.413 535.533 Q901.334 532.987 901.334 528.38 M905.593 538.427 Q905.593 545.047 902.654 548.264 Q899.714 551.505 893.649 551.505 Q891.404 551.505 889.413 551.158 Q887.422 550.834 885.547 550.139 L885.547 545.996 Q887.422 547.014 889.251 547.501 Q891.08 547.987 892.978 547.987 Q897.168 547.987 899.251 545.788 Q901.334 543.612 901.334 539.19 L901.334 537.084 Q900.015 539.376 897.955 540.51 Q895.894 541.644 893.024 541.644 Q888.256 541.644 885.339 538.01 Q882.422 534.376 882.422 528.38 Q882.422 522.362 885.339 518.728 Q888.256 515.093 893.024 515.093 Q895.894 515.093 897.955 516.228 Q900.015 517.362 901.334 519.653 L901.334 515.718 L905.593 515.718 L905.593 538.427 Z\" fill=\"#000000\" fill-rule=\"evenodd\" fill-opacity=\"1\" /><polyline clip-path=\"url(#clip9700)\" style=\"stroke:#00a9ad; stroke-width:4; stroke-opacity:1; fill:none\" points=\"\n",
       "  396.125,584.844 631.325,584.844 \n",
       "  \"/>\n",
       "<path clip-path=\"url(#clip9700)\" d=\"M 0 0 M671.196 598.189 L678.835 598.189 L678.835 571.823 L670.525 573.49 L670.525 569.231 L678.789 567.564 L683.465 567.564 L683.465 598.189 L691.104 598.189 L691.104 602.124 L671.196 602.124 L671.196 598.189 Z\" fill=\"#000000\" fill-rule=\"evenodd\" fill-opacity=\"1\" /><path clip-path=\"url(#clip9700)\" d=\"M 0 0 M706.173 585.712 Q702.84 585.712 700.919 587.495 Q699.02 589.277 699.02 592.402 Q699.02 595.527 700.919 597.309 Q702.84 599.092 706.173 599.092 Q709.506 599.092 711.428 597.309 Q713.349 595.504 713.349 592.402 Q713.349 589.277 711.428 587.495 Q709.53 585.712 706.173 585.712 M701.497 583.721 Q698.488 582.981 696.798 580.921 Q695.132 578.86 695.132 575.897 Q695.132 571.754 698.071 569.346 Q701.034 566.939 706.173 566.939 Q711.335 566.939 714.275 569.346 Q717.215 571.754 717.215 575.897 Q717.215 578.86 715.525 580.921 Q713.858 582.981 710.872 583.721 Q714.252 584.508 716.127 586.8 Q718.025 589.092 718.025 592.402 Q718.025 597.425 714.946 600.11 Q711.891 602.795 706.173 602.795 Q700.456 602.795 697.377 600.11 Q694.321 597.425 694.321 592.402 Q694.321 589.092 696.22 586.8 Q698.118 584.508 701.497 583.721 M699.784 576.337 Q699.784 579.022 701.451 580.527 Q703.141 582.032 706.173 582.032 Q709.182 582.032 710.872 580.527 Q712.585 579.022 712.585 576.337 Q712.585 573.652 710.872 572.147 Q709.182 570.643 706.173 570.643 Q703.141 570.643 701.451 572.147 Q699.784 573.652 699.784 576.337 Z\" fill=\"#000000\" fill-rule=\"evenodd\" fill-opacity=\"1\" /><path clip-path=\"url(#clip9700)\" d=\"M 0 0 M733.094 570.643 Q729.483 570.643 727.655 574.208 Q725.849 577.749 725.849 584.879 Q725.849 591.985 727.655 595.55 Q729.483 599.092 733.094 599.092 Q736.729 599.092 738.534 595.55 Q740.363 591.985 740.363 584.879 Q740.363 577.749 738.534 574.208 Q736.729 570.643 733.094 570.643 M733.094 566.939 Q738.904 566.939 741.96 571.546 Q745.039 576.129 745.039 584.879 Q745.039 593.606 741.96 598.212 Q738.904 602.795 733.094 602.795 Q727.284 602.795 724.205 598.212 Q721.15 593.606 721.15 584.879 Q721.15 576.129 724.205 571.546 Q727.284 566.939 733.094 566.939 Z\" fill=\"#000000\" fill-rule=\"evenodd\" fill-opacity=\"1\" /><path clip-path=\"url(#clip9700)\" d=\"M 0 0 M747.353 587.24 L759.83 587.24 L759.83 591.036 L747.353 591.036 L747.353 587.24 Z\" fill=\"#000000\" fill-rule=\"evenodd\" fill-opacity=\"1\" /><path clip-path=\"url(#clip9700)\" d=\"M 0 0 M781.358 580.133 L781.358 566.106 L785.617 566.106 L785.617 602.124 L781.358 602.124 L781.358 598.235 Q780.015 600.55 777.955 601.684 Q775.918 602.795 773.048 602.795 Q768.349 602.795 765.386 599.045 Q762.446 595.295 762.446 589.184 Q762.446 583.073 765.386 579.323 Q768.349 575.573 773.048 575.573 Q775.918 575.573 777.955 576.708 Q780.015 577.819 781.358 580.133 M766.844 589.184 Q766.844 593.883 768.765 596.569 Q770.71 599.231 774.089 599.231 Q777.469 599.231 779.414 596.569 Q781.358 593.883 781.358 589.184 Q781.358 584.485 779.414 581.823 Q777.469 579.138 774.089 579.138 Q770.71 579.138 768.765 581.823 Q766.844 584.485 766.844 589.184 Z\" fill=\"#000000\" fill-rule=\"evenodd\" fill-opacity=\"1\" /><path clip-path=\"url(#clip9700)\" d=\"M 0 0 M801.867 589.092 Q796.705 589.092 794.714 590.272 Q792.724 591.453 792.724 594.3 Q792.724 596.569 794.205 597.911 Q795.71 599.231 798.279 599.231 Q801.821 599.231 803.95 596.731 Q806.103 594.207 806.103 590.041 L806.103 589.092 L801.867 589.092 M810.362 587.333 L810.362 602.124 L806.103 602.124 L806.103 598.189 Q804.645 600.55 802.469 601.684 Q800.293 602.795 797.145 602.795 Q793.163 602.795 790.802 600.573 Q788.464 598.328 788.464 594.578 Q788.464 590.203 791.381 587.981 Q794.321 585.758 800.131 585.758 L806.103 585.758 L806.103 585.342 Q806.103 582.402 804.159 580.805 Q802.237 579.184 798.742 579.184 Q796.52 579.184 794.413 579.717 Q792.307 580.249 790.363 581.314 L790.363 577.379 Q792.7 576.476 794.9 576.036 Q797.099 575.573 799.182 575.573 Q804.807 575.573 807.585 578.49 Q810.362 581.407 810.362 587.333 Z\" fill=\"#000000\" fill-rule=\"evenodd\" fill-opacity=\"1\" /><path clip-path=\"url(#clip9700)\" d=\"M 0 0 M825.617 604.531 Q823.811 609.161 822.098 610.573 Q820.386 611.985 817.515 611.985 L814.112 611.985 L814.112 608.42 L816.612 608.42 Q818.372 608.42 819.344 607.587 Q820.316 606.754 821.497 603.652 L822.261 601.707 L811.774 576.198 L816.288 576.198 L824.39 596.476 L832.492 576.198 L837.006 576.198 L825.617 604.531 Z\" fill=\"#000000\" fill-rule=\"evenodd\" fill-opacity=\"1\" /><path clip-path=\"url(#clip9700)\" d=\"M 0 0 M868.325 589.092 Q863.163 589.092 861.172 590.272 Q859.182 591.453 859.182 594.3 Q859.182 596.569 860.663 597.911 Q862.168 599.231 864.737 599.231 Q868.279 599.231 870.408 596.731 Q872.561 594.207 872.561 590.041 L872.561 589.092 L868.325 589.092 M876.82 587.333 L876.82 602.124 L872.561 602.124 L872.561 598.189 Q871.103 600.55 868.927 601.684 Q866.751 602.795 863.603 602.795 Q859.621 602.795 857.26 600.573 Q854.922 598.328 854.922 594.578 Q854.922 590.203 857.839 587.981 Q860.779 585.758 866.589 585.758 L872.561 585.758 L872.561 585.342 Q872.561 582.402 870.617 580.805 Q868.695 579.184 865.2 579.184 Q862.978 579.184 860.871 579.717 Q858.765 580.249 856.821 581.314 L856.821 577.379 Q859.158 576.476 861.358 576.036 Q863.557 575.573 865.64 575.573 Q871.265 575.573 874.043 578.49 Q876.82 581.407 876.82 587.333 Z\" fill=\"#000000\" fill-rule=\"evenodd\" fill-opacity=\"1\" /><path clip-path=\"url(#clip9700)\" d=\"M 0 0 M878.232 576.198 L882.746 576.198 L890.848 597.957 L898.95 576.198 L903.464 576.198 L893.742 602.124 L887.955 602.124 L878.232 576.198 Z\" fill=\"#000000\" fill-rule=\"evenodd\" fill-opacity=\"1\" /><path clip-path=\"url(#clip9700)\" d=\"M 0 0 M924.991 588.86 Q924.991 584.231 923.07 581.684 Q921.172 579.138 917.723 579.138 Q914.297 579.138 912.376 581.684 Q910.478 584.231 910.478 588.86 Q910.478 593.467 912.376 596.013 Q914.297 598.559 917.723 598.559 Q921.172 598.559 923.07 596.013 Q924.991 593.467 924.991 588.86 M929.251 598.907 Q929.251 605.527 926.311 608.744 Q923.371 611.985 917.306 611.985 Q915.061 611.985 913.07 611.638 Q911.079 611.314 909.204 610.619 L909.204 606.476 Q911.079 607.494 912.908 607.981 Q914.737 608.467 916.635 608.467 Q920.825 608.467 922.908 606.268 Q924.991 604.092 924.991 599.67 L924.991 597.564 Q923.672 599.856 921.612 600.99 Q919.552 602.124 916.681 602.124 Q911.913 602.124 908.996 598.49 Q906.08 594.856 906.08 588.86 Q906.08 582.842 908.996 579.208 Q911.913 575.573 916.681 575.573 Q919.552 575.573 921.612 576.708 Q923.672 577.842 924.991 580.133 L924.991 576.198 L929.251 576.198 L929.251 598.907 Z\" fill=\"#000000\" fill-rule=\"evenodd\" fill-opacity=\"1\" /></svg>\n"
      ]
     },
     "execution_count": 21,
     "metadata": {},
     "output_type": "execute_result"
    }
   ],
   "source": [
    "using Plots\n",
    "count = size(df)[1]\n",
    "days_back = 90\n",
    "rows = count-days_back:count\n",
    "dates = format_dates( df[rows,2] , \"m/d/yy\")\n",
    "\n",
    "gr()\n",
    "plot(   dates, # x-axis: dates\n",
    "        [  df[rows,3] position_column[rows] averages005[rows] averages030[rows] averages090[rows] averages180[rows] \n",
    "        ], # y-axis\n",
    "    label    = \n",
    "        [ columns[3] \"position\" \"5-day avg\" \"30-day avg\" \"90-day avg\" \"180-day avg\"  \"\"  ],\n",
    "    legend   =:topleft, \n",
    "              # :right, :left, :top, :bottom, :inside, :best, :legend, :topright, :topleft, :bottomleft, :bottomright\n",
    "    xlabel   = \"time\",\n",
    "    ylabel   = \"indicators\",\n",
    "    size     = (980, 400), # width, height\n",
    "    layout = (1, 1) # number of graphs: vertically, horizontally\n",
    "    )"
   ]
  },
  {
   "cell_type": "markdown",
   "metadata": {},
   "source": [
    "[back to top](#Table-of-Contents)\n",
    "<hr/>\n",
    "\n",
    "## Save DataFrame to CSV file"
   ]
  },
  {
   "cell_type": "markdown",
   "metadata": {},
   "source": [
    "### Save: Describe before saving"
   ]
  },
  {
   "cell_type": "code",
   "execution_count": 22,
   "metadata": {
    "ExecuteTime": {
     "end_time": "2020-11-30T20:09:40.621000-05:00",
     "start_time": "2020-12-01T01:09:40.610Z"
    }
   },
   "outputs": [
    {
     "data": {
      "text/html": [
       "<table class=\"data-frame\"><thead><tr><th></th><th>variable</th><th>mean</th><th>min</th><th>median</th><th>max</th><th>nunique</th><th>nmissing</th><th>eltype</th></tr><tr><th></th><th>Symbol</th><th>Union…</th><th>Any</th><th>Union…</th><th>Any</th><th>Union…</th><th>Nothing</th><th>DataType</th></tr></thead><tbody><p>9 rows × 8 columns</p><tr><th>1</th><td>Day</td><td>737354.0</td><td>736949</td><td>737354.0</td><td>737759</td><td></td><td></td><td>Int64</td></tr><tr><th>2</th><td>Date</td><td></td><td>2018-09-12</td><td></td><td>2020-11-30</td><td>811</td><td></td><td>Date</td></tr><tr><th>3</th><td>Value</td><td>-96.4081</td><td>-128.0</td><td>-111.0</td><td>127.0</td><td></td><td></td><td>Float64</td></tr><tr><th>4</th><td>Original</td><td>8.10054</td><td>1.19</td><td>4.85</td><td>56.99</td><td></td><td></td><td>Float64</td></tr><tr><th>5</th><td>Avg005</td><td>-96.4567</td><td>-127.0</td><td>-111.4</td><td>112.0</td><td></td><td></td><td>Float64</td></tr><tr><th>6</th><td>Avg030</td><td>-96.3749</td><td>-126.37</td><td>-111.4</td><td>75.8</td><td></td><td></td><td>Float64</td></tr><tr><th>7</th><td>Avg090</td><td>-92.8742</td><td>-124.66</td><td>-109.37</td><td>3.71</td><td></td><td></td><td>Float64</td></tr><tr><th>8</th><td>Avg180</td><td>-84.5552</td><td>-121.9</td><td>-107.68</td><td>0.0</td><td></td><td></td><td>Float64</td></tr><tr><th>9</th><td>Avg365</td><td>-61.7176</td><td>-119.82</td><td>-98.93</td><td>0.0</td><td></td><td></td><td>Float64</td></tr></tbody></table>"
      ],
      "text/latex": [
       "\\begin{tabular}{r|cccccccc}\n",
       "\t& variable & mean & min & median & max & nunique & nmissing & eltype\\\\\n",
       "\t\\hline\n",
       "\t& Symbol & Union… & Any & Union… & Any & Union… & Nothing & DataType\\\\\n",
       "\t\\hline\n",
       "\t1 & Day & 737354.0 & 736949 & 737354.0 & 737759 &  &  & Int64 \\\\\n",
       "\t2 & Date &  & 2018-09-12 &  & 2020-11-30 & 811 &  & Date \\\\\n",
       "\t3 & Value & -96.4081 & -128.0 & -111.0 & 127.0 &  &  & Float64 \\\\\n",
       "\t4 & Original & 8.10054 & 1.19 & 4.85 & 56.99 &  &  & Float64 \\\\\n",
       "\t5 & Avg005 & -96.4567 & -127.0 & -111.4 & 112.0 &  &  & Float64 \\\\\n",
       "\t6 & Avg030 & -96.3749 & -126.37 & -111.4 & 75.8 &  &  & Float64 \\\\\n",
       "\t7 & Avg090 & -92.8742 & -124.66 & -109.37 & 3.71 &  &  & Float64 \\\\\n",
       "\t8 & Avg180 & -84.5552 & -121.9 & -107.68 & 0.0 &  &  & Float64 \\\\\n",
       "\t9 & Avg365 & -61.7176 & -119.82 & -98.93 & 0.0 &  &  & Float64 \\\\\n",
       "\\end{tabular}\n"
      ],
      "text/plain": [
       "9×8 DataFrame. Omitted printing of 2 columns\n",
       "│ Row │ variable │ mean     │ min        │ median   │ max        │ nunique │\n",
       "│     │ \u001b[90mSymbol\u001b[39m   │ \u001b[90mUnion…\u001b[39m   │ \u001b[90mAny\u001b[39m        │ \u001b[90mUnion…\u001b[39m   │ \u001b[90mAny\u001b[39m        │ \u001b[90mUnion…\u001b[39m  │\n",
       "├─────┼──────────┼──────────┼────────────┼──────────┼────────────┼─────────┤\n",
       "│ 1   │ Day      │ 737354.0 │ 736949     │ 737354.0 │ 737759     │         │\n",
       "│ 2   │ Date     │          │ 2018-09-12 │          │ 2020-11-30 │ 811     │\n",
       "│ 3   │ Value    │ -96.4081 │ -128.0     │ -111.0   │ 127.0      │         │\n",
       "│ 4   │ Original │ 8.10054  │ 1.19       │ 4.85     │ 56.99      │         │\n",
       "│ 5   │ Avg005   │ -96.4567 │ -127.0     │ -111.4   │ 112.0      │         │\n",
       "│ 6   │ Avg030   │ -96.3749 │ -126.37    │ -111.4   │ 75.8       │         │\n",
       "│ 7   │ Avg090   │ -92.8742 │ -124.66    │ -109.37  │ 3.71       │         │\n",
       "│ 8   │ Avg180   │ -84.5552 │ -121.9     │ -107.68  │ 0.0        │         │\n",
       "│ 9   │ Avg365   │ -61.7176 │ -119.82    │ -98.93   │ 0.0        │         │"
      ]
     },
     "execution_count": 22,
     "metadata": {},
     "output_type": "execute_result"
    }
   ],
   "source": [
    "using Statistics\n",
    "describe(df)"
   ]
  },
  {
   "cell_type": "markdown",
   "metadata": {},
   "source": [
    "### Write as CSV file"
   ]
  },
  {
   "cell_type": "code",
   "execution_count": 23,
   "metadata": {
    "ExecuteTime": {
     "end_time": "2020-11-30T20:09:44.842000-05:00",
     "start_time": "2020-12-01T01:09:44.046Z"
    }
   },
   "outputs": [],
   "source": [
    "save_dataset(df, dataset_file_name, \"../Data/processed/\" );"
   ]
  },
  {
   "cell_type": "code",
   "execution_count": null,
   "metadata": {},
   "outputs": [],
   "source": []
  }
 ],
 "metadata": {
  "kernelspec": {
   "display_name": "Julia 1.5.1",
   "language": "julia",
   "name": "julia-1.5"
  },
  "language_info": {
   "file_extension": ".jl",
   "mimetype": "application/julia",
   "name": "julia",
   "version": "1.5.1"
  },
  "toc": {
   "base_numbering": 1,
   "nav_menu": {},
   "number_sections": true,
   "sideBar": true,
   "skip_h1_title": false,
   "title_cell": "Table of Contents",
   "title_sidebar": "Contents",
   "toc_cell": true,
   "toc_position": {},
   "toc_section_display": true,
   "toc_window_display": true
  },
  "varInspector": {
   "cols": {
    "lenName": 16,
    "lenType": 16,
    "lenVar": 40
   },
   "kernels_config": {
    "python": {
     "delete_cmd_postfix": "",
     "delete_cmd_prefix": "del ",
     "library": "var_list.py",
     "varRefreshCmd": "print(var_dic_list())"
    },
    "r": {
     "delete_cmd_postfix": ") ",
     "delete_cmd_prefix": "rm(",
     "library": "var_list.r",
     "varRefreshCmd": "cat(var_dic_list()) "
    }
   },
   "types_to_exclude": [
    "module",
    "function",
    "builtin_function_or_method",
    "instance",
    "_Feature"
   ],
   "window_display": false
  }
 },
 "nbformat": 4,
 "nbformat_minor": 2
}
