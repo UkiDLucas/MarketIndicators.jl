{
 "cells": [
  {
   "cell_type": "markdown",
   "metadata": {},
   "source": [
    "# Uber DataFrame\n",
    "- This notebook combines multiple Market indicators into one massive DataFrame\n",
    "- That DataFrame will be used for Machine Learning"
   ]
  },
  {
   "cell_type": "markdown",
   "metadata": {
    "toc": true
   },
   "source": [
    "<h1>Table of Contents<span class=\"tocSkip\"></span></h1>\n",
    "<div class=\"toc\"><ul class=\"toc-item\"><li><span><a href=\"#Set-Up\" data-toc-modified-id=\"Set-Up-1\"><span class=\"toc-item-num\">1&nbsp;&nbsp;</span>Set Up</a></span></li><li><span><a href=\"#Fetch-Data\" data-toc-modified-id=\"Fetch-Data-2\"><span class=\"toc-item-num\">2&nbsp;&nbsp;</span>Fetch Data</a></span></li><li><span><a href=\"#Explore-Data\" data-toc-modified-id=\"Explore-Data-3\"><span class=\"toc-item-num\">3&nbsp;&nbsp;</span>Explore Data</a></span></li><li><span><a href=\"#Trim--Common-Date-Span\" data-toc-modified-id=\"Trim--Common-Date-Span-4\"><span class=\"toc-item-num\">4&nbsp;&nbsp;</span>Trim  Common Date Span</a></span></li><li><span><a href=\"#Build-UBER-DataFrame\" data-toc-modified-id=\"Build-UBER-DataFrame-5\"><span class=\"toc-item-num\">5&nbsp;&nbsp;</span>Build UBER DataFrame</a></span></li><li><span><a href=\"#Visualize-the-dependencies\" data-toc-modified-id=\"Visualize-the-dependencies-6\"><span class=\"toc-item-num\">6&nbsp;&nbsp;</span>Visualize the dependencies</a></span></li><li><span><a href=\"#Divide-Training-and-Prediction-data-sets\" data-toc-modified-id=\"Divide-Training-and-Prediction-data-sets-7\"><span class=\"toc-item-num\">7&nbsp;&nbsp;</span>Divide Training and Prediction data sets</a></span><ul class=\"toc-item\"><li><span><a href=\"#Save-Datasets\" data-toc-modified-id=\"Save-Datasets-7.1\"><span class=\"toc-item-num\">7.1&nbsp;&nbsp;</span>Save Datasets</a></span></li></ul></li></ul></div>"
   ]
  },
  {
   "cell_type": "markdown",
   "metadata": {},
   "source": [
    "## Set Up"
   ]
  },
  {
   "cell_type": "code",
   "execution_count": null,
   "metadata": {
    "ExecuteTime": {
     "start_time": "2020-12-07T01:54:18.960Z"
    }
   },
   "outputs": [],
   "source": [
    "dir=\"../Data/processed/\"\n",
    "dataset_file_name = \"uber.csv\"\n",
    "\n",
    "include(\"../Julia/functions.jl\") \n",
    "include(\"../Julia/IndicatorData.jl\") \n",
    "include(\"../Julia/function_format_rata_die_to_us_date.jl\")\n",
    "include(\"../Julia/function_trim_DataFrames.jl\")\n",
    "println()"
   ]
  },
  {
   "cell_type": "markdown",
   "metadata": {},
   "source": [
    "## Fetch Data"
   ]
  },
  {
   "cell_type": "code",
   "execution_count": null,
   "metadata": {
    "ExecuteTime": {
     "start_time": "2020-12-07T01:54:18.963Z"
    }
   },
   "outputs": [],
   "source": [
    "data = Dict{String, IndicatorData}()\n",
    "\n",
    "## Do NOT use \"^\" in names as in \"^VIX\"\n",
    "addIndicator!(data, \"AAPL\", \"AAPL.csv\" )\n",
    "addIndicator!(data, \"VIX\", \"^VIX.csv\" )\n",
    "addIndicator!(data, \"DJIA\", \"^DJI.csv\" )\n",
    "addIndicator!(data, \"US_ISM_MFC_EMP\"  , \"united-states.ism-manufacturing-employment.csv\" )\n",
    "addIndicator!(data, \"US_HOUS_SRTS_M\"  , \"united-states.housing-starts-mm.csv\" )\n",
    "addIndicator!(data, \"US_ISM_MFC_PMI\"  , \"united-states.ism-manufacturing-pmi.csv\" )\n",
    "addIndicator!(data, \"US_INIT_JOBLESS\" , \"united-states.initial-jobless-claims.csv\" )\n",
    "addIndicator!(data, \"US_GDP_Q\"        , \"united-states.gross-domestic-product-qq.csv\" )\n",
    "addIndicator!(data, \"NIO\"             , \"NIO.csv\" )\n",
    "\n",
    "\n",
    "print()"
   ]
  },
  {
   "cell_type": "markdown",
   "metadata": {},
   "source": [
    "## Explore Data"
   ]
  },
  {
   "cell_type": "code",
   "execution_count": null,
   "metadata": {
    "ExecuteTime": {
     "start_time": "2020-12-07T01:54:18.966Z"
    }
   },
   "outputs": [],
   "source": [
    "data"
   ]
  },
  {
   "cell_type": "code",
   "execution_count": null,
   "metadata": {
    "ExecuteTime": {
     "start_time": "2020-12-07T01:54:18.969Z"
    }
   },
   "outputs": [],
   "source": [
    "data[\"AAPL\"].min_rata_die"
   ]
  },
  {
   "cell_type": "code",
   "execution_count": null,
   "metadata": {
    "ExecuteTime": {
     "start_time": "2020-12-07T01:54:18.973Z"
    }
   },
   "outputs": [],
   "source": [
    "using Statistics\n",
    "describe(data[\"AAPL\"].df)"
   ]
  },
  {
   "cell_type": "markdown",
   "metadata": {},
   "source": [
    "## Trim  Common Date Span\n",
    "\n",
    "Example:\n",
    "- for all the DataFrames\n",
    "- find lowest dates\n",
    "- select the highest (common) of them"
   ]
  },
  {
   "cell_type": "code",
   "execution_count": null,
   "metadata": {
    "ExecuteTime": {
     "start_time": "2020-12-07T01:54:18.976Z"
    }
   },
   "outputs": [],
   "source": [
    "trim_DataFrames!(data) # include(\"../Julia/function_trim_DataFrames.jl\")"
   ]
  },
  {
   "cell_type": "markdown",
   "metadata": {},
   "source": [
    "## Build UBER DataFrame"
   ]
  },
  {
   "cell_type": "code",
   "execution_count": null,
   "metadata": {
    "ExecuteTime": {
     "start_time": "2020-12-07T01:54:18.978Z"
    }
   },
   "outputs": [],
   "source": [
    "## Print POSSIBLE fields for UBER DataFrame\n",
    "\n",
    "for key in keys(data) \n",
    "    #df = data[key].df\n",
    "    columns = names(data[key].df)\n",
    "    for i in 1:length(columns)\n",
    "        println(\",\", data[key].name, \"_\",columns[i], \" = data[\\\"\", data[key].name, \"\\\"].df[:,:\", columns[i], \"] \") \n",
    "    end\n",
    "end"
   ]
  },
  {
   "cell_type": "code",
   "execution_count": null,
   "metadata": {
    "ExecuteTime": {
     "start_time": "2020-12-07T01:54:18.982Z"
    }
   },
   "outputs": [],
   "source": [
    "using DataFrames\n",
    "uber = DataFrame(  \n",
    "\n",
    " Rata_Die = data[\"DJIA\"].df[:,:Rata_Die] # Array{Int64,1}\n",
    ",Date = data[\"DJIA\"].df[:,:Date] \n",
    "    \n",
    ",VIX_Original = data[\"VIX\"].df[:,:Original] \n",
    ",VIX_Quantized = data[\"VIX\"].df[:,:Quantized] \n",
    ",VIX_Avg030 = data[\"VIX\"].df[:,:Avg030] \n",
    ",VIX_Avg060 = data[\"VIX\"].df[:,:Avg060] \n",
    ",VIX_Avg090 = data[\"VIX\"].df[:,:Avg090] \n",
    ",VIX_Avg120 = data[\"VIX\"].df[:,:Avg120] \n",
    ",VIX_Avg180 = data[\"VIX\"].df[:,:Avg180] \n",
    ",VIX_Avg365 = data[\"VIX\"].df[:,:Avg365] \n",
    "    \n",
    ",US_ISM_MFC_PMI_Original = data[\"US_ISM_MFC_PMI\"].df[:,:Original] \n",
    ",US_ISM_MFC_PMI_Quantized = data[\"US_ISM_MFC_PMI\"].df[:,:Quantized] \n",
    ",US_ISM_MFC_PMI_Avg030 = data[\"US_ISM_MFC_PMI\"].df[:,:Avg030] \n",
    ",US_ISM_MFC_PMI_Avg060 = data[\"US_ISM_MFC_PMI\"].df[:,:Avg060] \n",
    ",US_ISM_MFC_PMI_Avg090 = data[\"US_ISM_MFC_PMI\"].df[:,:Avg090] \n",
    ",US_ISM_MFC_PMI_Avg180 = data[\"US_ISM_MFC_PMI\"].df[:,:Avg180] \n",
    ",US_ISM_MFC_PMI_Avg365 = data[\"US_ISM_MFC_PMI\"].df[:,:Avg365] \n",
    "\n",
    ",DJIA_Original = data[\"DJIA\"].df[:,:Original] \n",
    ",DJIA_Quantized = data[\"DJIA\"].df[:,:Quantized] \n",
    ",DJIA_Avg030 = data[\"DJIA\"].df[:,:Avg030] \n",
    ",DJIA_Avg060 = data[\"DJIA\"].df[:,:Avg060] \n",
    ",DJIA_Avg090 = data[\"DJIA\"].df[:,:Avg090] \n",
    ",DJIA_Avg120 = data[\"DJIA\"].df[:,:Avg120] \n",
    ",DJIA_Avg180 = data[\"DJIA\"].df[:,:Avg180] \n",
    ",DJIA_Avg365 = data[\"DJIA\"].df[:,:Avg365] \n",
    "\n",
    ",AAPL_Original = data[\"AAPL\"].df[:,:Original] \n",
    ",AAPL_Quantized = data[\"AAPL\"].df[:,:Quantized] \n",
    ",AAPL_Avg030 = data[\"AAPL\"].df[:,:Avg030] \n",
    ",AAPL_Avg060 = data[\"AAPL\"].df[:,:Avg060] \n",
    ",AAPL_Avg090 = data[\"AAPL\"].df[:,:Avg090] \n",
    ",AAPL_Avg120 = data[\"AAPL\"].df[:,:Avg120] \n",
    ",AAPL_Avg180 = data[\"AAPL\"].df[:,:Avg180] \n",
    "\n",
    ",US_ISM_MFC_EMP_Original = data[\"US_ISM_MFC_EMP\"].df[:,:Original] \n",
    ",US_ISM_MFC_EMP_Quantized = data[\"US_ISM_MFC_EMP\"].df[:,:Quantized] \n",
    ",US_ISM_MFC_EMP_Avg030 = data[\"US_ISM_MFC_EMP\"].df[:,:Avg030] \n",
    ",US_ISM_MFC_EMP_Avg060 = data[\"US_ISM_MFC_EMP\"].df[:,:Avg060] \n",
    ",US_ISM_MFC_EMP_Avg090 = data[\"US_ISM_MFC_EMP\"].df[:,:Avg090] \n",
    ",US_ISM_MFC_EMP_Avg120 = data[\"US_ISM_MFC_EMP\"].df[:,:Avg120] \n",
    ",US_ISM_MFC_EMP_Avg180 = data[\"US_ISM_MFC_EMP\"].df[:,:Avg180] \n",
    ",US_ISM_MFC_EMP_Avg365 = data[\"US_ISM_MFC_EMP\"].df[:,:Avg365] \n",
    "    \n",
    ",US_INIT_JOBLESS_Quantized = data[\"US_INIT_JOBLESS\"].df[:,:Quantized] \n",
    ",US_INIT_JOBLESS_Avg005 = data[\"US_INIT_JOBLESS\"].df[:,:Avg005] \n",
    ",US_INIT_JOBLESS_Avg030 = data[\"US_INIT_JOBLESS\"].df[:,:Avg030] \n",
    ",US_INIT_JOBLESS_Avg060 = data[\"US_INIT_JOBLESS\"].df[:,:Avg060] \n",
    ",US_INIT_JOBLESS_Avg090 = data[\"US_INIT_JOBLESS\"].df[:,:Avg090] \n",
    ",US_INIT_JOBLESS_Avg120 = data[\"US_INIT_JOBLESS\"].df[:,:Avg120] \n",
    ",US_INIT_JOBLESS_Avg180 = data[\"US_INIT_JOBLESS\"].df[:,:Avg180] \n",
    "    \n",
    ",US_GDP_Q_Quantized = data[\"US_GDP_Q\"].df[:,:Quantized] \n",
    ",US_GDP_Q_Avg005 = data[\"US_GDP_Q\"].df[:,:Avg005] \n",
    ",US_GDP_Q_Avg030 = data[\"US_GDP_Q\"].df[:,:Avg030] \n",
    ",US_GDP_Q_Avg060 = data[\"US_GDP_Q\"].df[:,:Avg060] \n",
    ",US_GDP_Q_Avg090 = data[\"US_GDP_Q\"].df[:,:Avg090] \n",
    ",US_GDP_Q_Avg120 = data[\"US_GDP_Q\"].df[:,:Avg120] \n",
    ",US_GDP_Q_Avg180 = data[\"US_GDP_Q\"].df[:,:Avg180] \n",
    "    \n",
    ",NIO_Original = data[\"NIO\"].df[:,:Original] \n",
    ",NIO_Quantized = data[\"NIO\"].df[:,:Quantized] \n",
    ",NIO_Avg005 = data[\"NIO\"].df[:,:Avg005] \n",
    ",NIO_Avg030 = data[\"NIO\"].df[:,:Avg030] \n",
    ",NIO_Avg060 = data[\"NIO\"].df[:,:Avg060] \n",
    ",NIO_Avg090 = data[\"NIO\"].df[:,:Avg090] \n",
    ",NIO_Avg120 = data[\"NIO\"].df[:,:Avg120] \n",
    ",NIO_Avg180 = data[\"NIO\"].df[:,:Avg180] \n",
    "\n",
    "#,US_HOUS_SRTS_M_Original = data[\"US_HOUS_SRTS_M\"].df[:,:Original] \n",
    "#,US_HOUS_SRTS_M_Quantized = data[\"US_HOUS_SRTS_M\"].df[:,:Quantized] \n",
    "#,US_HOUS_SRTS_M_Avg030 = data[\"US_HOUS_SRTS_M\"].df[:,:Avg030] \n",
    "#,US_HOUS_SRTS_M_Avg060 = data[\"US_HOUS_SRTS_M\"].df[:,:Avg060] \n",
    "#,US_HOUS_SRTS_M_Avg090 = data[\"US_HOUS_SRTS_M\"].df[:,:Avg090] \n",
    "#,US_HOUS_SRTS_M_Avg180 = data[\"US_HOUS_SRTS_M\"].df[:,:Avg180] \n",
    "#,US_HOUS_SRTS_M_Avg365 = data[\"US_HOUS_SRTS_M\"].df[:,:Avg365] \n",
    ")\n",
    "using Statistics\n",
    "describe(uber)"
   ]
  },
  {
   "cell_type": "markdown",
   "metadata": {},
   "source": [
    "## Visualize the dependencies"
   ]
  },
  {
   "cell_type": "code",
   "execution_count": null,
   "metadata": {
    "ExecuteTime": {
     "start_time": "2020-12-07T01:54:18.985Z"
    }
   },
   "outputs": [],
   "source": [
    "columns = print_colunms(uber)\n",
    "println()"
   ]
  },
  {
   "cell_type": "code",
   "execution_count": null,
   "metadata": {
    "ExecuteTime": {
     "start_time": "2020-12-07T01:54:18.990Z"
    }
   },
   "outputs": [],
   "source": [
    "using Plots\n",
    "\n",
    "record_count = size(uber)[1]\n",
    "rows = 1:record_count\n",
    "dates = format_dates( uber[rows,2] , \"m/d/yy\")\n",
    "\n",
    "gr()\n",
    "plot( dates, # x-axis: dates\n",
    "     [ \n",
    "        uber[rows,8] uber[rows,15] uber[rows,23] uber[rows,31] uber[rows,38] uber[rows,45] uber[rows,53]         \n",
    "    ], # y-axis\n",
    "    label = [      \n",
    "        columns[8]     columns[15]   columns[23]   columns[31] columns[38]   columns[45]   columns[53] \"\" \n",
    "    ],\n",
    "    legend   =:topleft, \n",
    "              # :right, :left, :top, :bottom, :inside, :best, :legend, :topright, :topleft, :bottomleft, :bottomright\n",
    "    xlabel   = \"time\",\n",
    "    ylabel   = \"indicators\",\n",
    "    size     = (980, 400), # width, height\n",
    "    layout = (1, 1) # number of graphs: vertically, horizontally\n",
    "    )"
   ]
  },
  {
   "cell_type": "code",
   "execution_count": null,
   "metadata": {
    "ExecuteTime": {
     "start_time": "2020-12-07T01:54:18.993Z"
    }
   },
   "outputs": [],
   "source": [
    "savefig(\"../../indicators.png\")"
   ]
  },
  {
   "cell_type": "markdown",
   "metadata": {},
   "source": [
    "## Divide Training and Prediction data sets"
   ]
  },
  {
   "cell_type": "code",
   "execution_count": null,
   "metadata": {
    "ExecuteTime": {
     "start_time": "2020-12-07T01:54:18.996Z"
    }
   },
   "outputs": [],
   "source": [
    "record_count = size(uber)[1]\n",
    "today_rata = Dates.datetime2rata( today() )\n",
    "today_id = find_day(uber, today_rata)\n",
    "\n",
    "# I am putting overlap in the sets to see the behavior\n",
    "df_training   = uber[1:today_id-5,:] # train up 5 days ago, I want to see real prediction for last few days.\n",
    "df_prediction = uber[today_id-90:record_count,:] # show predictions up to 90 days ago\n",
    "\n",
    "println()"
   ]
  },
  {
   "cell_type": "markdown",
   "metadata": {},
   "source": [
    "### Save Datasets"
   ]
  },
  {
   "cell_type": "code",
   "execution_count": null,
   "metadata": {
    "ExecuteTime": {
     "start_time": "2020-12-07T01:54:18.999Z"
    }
   },
   "outputs": [],
   "source": [
    "save_dataset(df_training,   \"uber_training.csv\"  , \"../Data/processed/\");\n",
    "save_dataset(df_prediction, \"uber_prediction.csv\", \"../Data/processed/\");"
   ]
  },
  {
   "cell_type": "code",
   "execution_count": null,
   "metadata": {},
   "outputs": [],
   "source": []
  }
 ],
 "metadata": {
  "kernelspec": {
   "display_name": "Julia 1.4.2",
   "language": "julia",
   "name": "julia-1.4"
  },
  "language_info": {
   "file_extension": ".jl",
   "mimetype": "application/julia",
   "name": "julia",
   "version": "1.4.2"
  },
  "toc": {
   "base_numbering": 1,
   "nav_menu": {},
   "number_sections": true,
   "sideBar": true,
   "skip_h1_title": true,
   "title_cell": "Table of Contents",
   "title_sidebar": "Contents",
   "toc_cell": true,
   "toc_position": {},
   "toc_section_display": true,
   "toc_window_display": true
  },
  "varInspector": {
   "cols": {
    "lenName": 16,
    "lenType": 16,
    "lenVar": 40
   },
   "kernels_config": {
    "python": {
     "delete_cmd_postfix": "",
     "delete_cmd_prefix": "del ",
     "library": "var_list.py",
     "varRefreshCmd": "print(var_dic_list())"
    },
    "r": {
     "delete_cmd_postfix": ") ",
     "delete_cmd_prefix": "rm(",
     "library": "var_list.r",
     "varRefreshCmd": "cat(var_dic_list()) "
    }
   },
   "types_to_exclude": [
    "module",
    "function",
    "builtin_function_or_method",
    "instance",
    "_Feature"
   ],
   "window_display": false
  }
 },
 "nbformat": 4,
 "nbformat_minor": 4
}
