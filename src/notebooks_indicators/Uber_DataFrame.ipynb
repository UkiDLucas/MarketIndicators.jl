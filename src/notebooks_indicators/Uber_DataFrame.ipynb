{
 "cells": [
  {
   "cell_type": "markdown",
   "metadata": {},
   "source": [
    "# Uber DataFrame\n",
    "- This notebook combines multiple Market indicators into one massive DataFrame\n",
    "- That DataFrame will be used for Machine Learning"
   ]
  },
  {
   "cell_type": "markdown",
   "metadata": {
    "toc": true
   },
   "source": [
    "<h1>Table of Contents<span class=\"tocSkip\"></span></h1>\n",
    "<div class=\"toc\"><ul class=\"toc-item\"><li><span><a href=\"#Set-Up\" data-toc-modified-id=\"Set-Up-1\"><span class=\"toc-item-num\">1&nbsp;&nbsp;</span>Set Up</a></span></li><li><span><a href=\"#Fetch-Data\" data-toc-modified-id=\"Fetch-Data-2\"><span class=\"toc-item-num\">2&nbsp;&nbsp;</span>Fetch Data</a></span></li><li><span><a href=\"#Find-Common-Date-Span\" data-toc-modified-id=\"Find-Common-Date-Span-3\"><span class=\"toc-item-num\">3&nbsp;&nbsp;</span>Find Common Date Span</a></span></li><li><span><a href=\"#Visualize-the-dependencies\" data-toc-modified-id=\"Visualize-the-dependencies-4\"><span class=\"toc-item-num\">4&nbsp;&nbsp;</span>Visualize the dependencies</a></span></li><li><span><a href=\"#Divide-Training-and-Prediction-data-sets\" data-toc-modified-id=\"Divide-Training-and-Prediction-data-sets-5\"><span class=\"toc-item-num\">5&nbsp;&nbsp;</span>Divide Training and Prediction data sets</a></span><ul class=\"toc-item\"><li><span><a href=\"#Save-Datasets\" data-toc-modified-id=\"Save-Datasets-5.1\"><span class=\"toc-item-num\">5.1&nbsp;&nbsp;</span>Save Datasets</a></span></li></ul></li></ul></div>"
   ]
  },
  {
   "cell_type": "markdown",
   "metadata": {},
   "source": [
    "## Set Up"
   ]
  },
  {
   "cell_type": "code",
   "execution_count": 1,
   "metadata": {
    "ExecuteTime": {
     "end_time": "2020-12-05T14:41:26.425000-05:00",
     "start_time": "2020-12-05T19:41:20.724Z"
    }
   },
   "outputs": [
    {
     "name": "stdout",
     "output_type": "stream",
     "text": [
      "\n",
      "\n"
     ]
    }
   ],
   "source": [
    "dir=\"../Data/processed/\"\n",
    "\n",
    "dataset_file_name = \"uber.csv\"\n",
    "\n",
    "file1 = \"^DJI.csv\"\n",
    "file2 = \"united-states.ism-manufacturing-employment.csv\"\n",
    "file3 = \"united-states.housing-starts-mm.csv\"\n",
    "file4 = \"united-states.ism-manufacturing-pmi.csv\"\n",
    "file5 = \"^VIX.csv\"\n",
    "\n",
    "\n",
    "include(\"../Julia/functions.jl\") \n",
    "println()"
   ]
  },
  {
   "cell_type": "markdown",
   "metadata": {},
   "source": [
    "## Fetch Data"
   ]
  },
  {
   "cell_type": "code",
   "execution_count": 2,
   "metadata": {
    "ExecuteTime": {
     "end_time": "2020-12-05T14:41:46.076000-05:00",
     "start_time": "2020-12-05T19:41:20.737Z"
    }
   },
   "outputs": [
    {
     "name": "stdout",
     "output_type": "stream",
     "text": [
      "Fetched ../Data/processed/^DJI.csv, record count 13125\n"
     ]
    },
    {
     "data": {
      "text/html": [
       "<table class=\"data-frame\"><thead><tr><th></th><th>variable</th><th>mean</th><th>min</th><th>median</th><th>max</th><th>nunique</th><th>nmissing</th><th>eltype</th></tr><tr><th></th><th>Symbol</th><th>Union…</th><th>Any</th><th>Union…</th><th>Any</th><th>Union…</th><th>Nothing</th><th>DataType</th></tr></thead><tbody><p>10 rows × 8 columns</p><tr><th>1</th><td>Rata_Die</td><td>731232.0</td><td>724670</td><td>731232.0</td><td>737794</td><td></td><td></td><td>Int64</td></tr><tr><th>2</th><td>Date</td><td></td><td>1985-01-29</td><td></td><td>2021-01-04</td><td>13125</td><td></td><td>Date</td></tr><tr><th>3</th><td>Original</td><td>10381.3</td><td>1251.21</td><td>10215.5</td><td>30218.3</td><td></td><td></td><td>Float64</td></tr><tr><th>4</th><td>Quantized</td><td>-47.623</td><td>-128.0</td><td>-49.0</td><td>127.0</td><td></td><td></td><td>Float64</td></tr><tr><th>5</th><td>Avg030</td><td>-47.6219</td><td>-128.0</td><td>-48.87</td><td>127.0</td><td></td><td></td><td>Float64</td></tr><tr><th>6</th><td>Avg060</td><td>-47.6193</td><td>-128.0</td><td>-48.52</td><td>124.55</td><td></td><td></td><td>Float64</td></tr><tr><th>7</th><td>Avg090</td><td>-47.6073</td><td>-127.97</td><td>-48.33</td><td>119.34</td><td></td><td></td><td>Float64</td></tr><tr><th>8</th><td>Avg120</td><td>-47.5903</td><td>-127.94</td><td>-48.41</td><td>116.07</td><td></td><td></td><td>Float64</td></tr><tr><th>9</th><td>Avg180</td><td>-47.5499</td><td>-127.66</td><td>-48.53</td><td>111.66</td><td></td><td></td><td>Float64</td></tr><tr><th>10</th><td>Avg365</td><td>-47.3189</td><td>-127.01</td><td>-48.56</td><td>100.01</td><td></td><td></td><td>Float64</td></tr></tbody></table>"
      ],
      "text/latex": [
       "\\begin{tabular}{r|cccccccc}\n",
       "\t& variable & mean & min & median & max & nunique & nmissing & eltype\\\\\n",
       "\t\\hline\n",
       "\t& Symbol & Union… & Any & Union… & Any & Union… & Nothing & DataType\\\\\n",
       "\t\\hline\n",
       "\t1 & Rata\\_Die & 731232.0 & 724670 & 731232.0 & 737794 &  &  & Int64 \\\\\n",
       "\t2 & Date &  & 1985-01-29 &  & 2021-01-04 & 13125 &  & Date \\\\\n",
       "\t3 & Original & 10381.3 & 1251.21 & 10215.5 & 30218.3 &  &  & Float64 \\\\\n",
       "\t4 & Quantized & -47.623 & -128.0 & -49.0 & 127.0 &  &  & Float64 \\\\\n",
       "\t5 & Avg030 & -47.6219 & -128.0 & -48.87 & 127.0 &  &  & Float64 \\\\\n",
       "\t6 & Avg060 & -47.6193 & -128.0 & -48.52 & 124.55 &  &  & Float64 \\\\\n",
       "\t7 & Avg090 & -47.6073 & -127.97 & -48.33 & 119.34 &  &  & Float64 \\\\\n",
       "\t8 & Avg120 & -47.5903 & -127.94 & -48.41 & 116.07 &  &  & Float64 \\\\\n",
       "\t9 & Avg180 & -47.5499 & -127.66 & -48.53 & 111.66 &  &  & Float64 \\\\\n",
       "\t10 & Avg365 & -47.3189 & -127.01 & -48.56 & 100.01 &  &  & Float64 \\\\\n",
       "\\end{tabular}\n"
      ],
      "text/plain": [
       "10×8 DataFrame. Omitted printing of 2 columns\n",
       "│ Row │ variable  │ mean     │ min        │ median   │ max        │ nunique │\n",
       "│     │ \u001b[90mSymbol\u001b[39m    │ \u001b[90mUnion…\u001b[39m   │ \u001b[90mAny\u001b[39m        │ \u001b[90mUnion…\u001b[39m   │ \u001b[90mAny\u001b[39m        │ \u001b[90mUnion…\u001b[39m  │\n",
       "├─────┼───────────┼──────────┼────────────┼──────────┼────────────┼─────────┤\n",
       "│ 1   │ Rata_Die  │ 731232.0 │ 724670     │ 731232.0 │ 737794     │         │\n",
       "│ 2   │ Date      │          │ 1985-01-29 │          │ 2021-01-04 │ 13125   │\n",
       "│ 3   │ Original  │ 10381.3  │ 1251.21    │ 10215.5  │ 30218.3    │         │\n",
       "│ 4   │ Quantized │ -47.623  │ -128.0     │ -49.0    │ 127.0      │         │\n",
       "│ 5   │ Avg030    │ -47.6219 │ -128.0     │ -48.87   │ 127.0      │         │\n",
       "│ 6   │ Avg060    │ -47.6193 │ -128.0     │ -48.52   │ 124.55     │         │\n",
       "│ 7   │ Avg090    │ -47.6073 │ -127.97    │ -48.33   │ 119.34     │         │\n",
       "│ 8   │ Avg120    │ -47.5903 │ -127.94    │ -48.41   │ 116.07     │         │\n",
       "│ 9   │ Avg180    │ -47.5499 │ -127.66    │ -48.53   │ 111.66     │         │\n",
       "│ 10  │ Avg365    │ -47.3189 │ -127.01    │ -48.56   │ 100.01     │         │"
      ]
     },
     "execution_count": 2,
     "metadata": {},
     "output_type": "execute_result"
    }
   ],
   "source": [
    "df1 = fetch_dataset( file1 , \"yyyy-mm-dd\", dir )\n",
    "\n",
    "using Statistics\n",
    "describe(df1)"
   ]
  },
  {
   "cell_type": "code",
   "execution_count": 3,
   "metadata": {
    "ExecuteTime": {
     "end_time": "2020-12-05T14:41:46.091000-05:00",
     "start_time": "2020-12-05T19:41:20.743Z"
    }
   },
   "outputs": [
    {
     "name": "stdout",
     "output_type": "stream",
     "text": [
      "Fetched ../Data/processed/united-states.ism-manufacturing-employment.csv, record count 2622\n"
     ]
    },
    {
     "data": {
      "text/html": [
       "<table class=\"data-frame\"><thead><tr><th></th><th>variable</th><th>mean</th><th>min</th><th>median</th><th>max</th><th>nunique</th><th>nmissing</th><th>eltype</th></tr><tr><th></th><th>Symbol</th><th>Union…</th><th>Any</th><th>Union…</th><th>Any</th><th>Union…</th><th>Nothing</th><th>DataType</th></tr></thead><tbody><p>10 rows × 8 columns</p><tr><th>1</th><td>Rata_Die</td><td>736484.0</td><td>735173</td><td>736484.0</td><td>737794</td><td></td><td></td><td>Int64</td></tr><tr><th>2</th><td>Date</td><td></td><td>2013-11-01</td><td></td><td>2021-01-04</td><td>2622</td><td></td><td>Date</td></tr><tr><th>3</th><td>Original</td><td>52.1841</td><td>27.5</td><td>52.8</td><td>60.3</td><td></td><td></td><td>Float64</td></tr><tr><th>4</th><td>Quantized</td><td>63.9352</td><td>-128.0</td><td>69.0</td><td>127.0</td><td></td><td></td><td>Float64</td></tr><tr><th>5</th><td>Avg030</td><td>63.349</td><td>-128.0</td><td>69.185</td><td>127.0</td><td></td><td></td><td>Float64</td></tr><tr><th>6</th><td>Avg060</td><td>62.6054</td><td>-110.6</td><td>72.0</td><td>125.5</td><td></td><td></td><td>Float64</td></tr><tr><th>7</th><td>Avg090</td><td>61.7481</td><td>-79.27</td><td>71.925</td><td>124.68</td><td></td><td></td><td>Float64</td></tr><tr><th>8</th><td>Avg120</td><td>60.9625</td><td>-60.13</td><td>68.985</td><td>124.02</td><td></td><td></td><td>Float64</td></tr><tr><th>9</th><td>Avg180</td><td>59.7609</td><td>-36.78</td><td>68.44</td><td>114.71</td><td></td><td></td><td>Float64</td></tr><tr><th>10</th><td>Avg365</td><td>57.7324</td><td>-8.1</td><td>64.37</td><td>106.14</td><td></td><td></td><td>Float64</td></tr></tbody></table>"
      ],
      "text/latex": [
       "\\begin{tabular}{r|cccccccc}\n",
       "\t& variable & mean & min & median & max & nunique & nmissing & eltype\\\\\n",
       "\t\\hline\n",
       "\t& Symbol & Union… & Any & Union… & Any & Union… & Nothing & DataType\\\\\n",
       "\t\\hline\n",
       "\t1 & Rata\\_Die & 736484.0 & 735173 & 736484.0 & 737794 &  &  & Int64 \\\\\n",
       "\t2 & Date &  & 2013-11-01 &  & 2021-01-04 & 2622 &  & Date \\\\\n",
       "\t3 & Original & 52.1841 & 27.5 & 52.8 & 60.3 &  &  & Float64 \\\\\n",
       "\t4 & Quantized & 63.9352 & -128.0 & 69.0 & 127.0 &  &  & Float64 \\\\\n",
       "\t5 & Avg030 & 63.349 & -128.0 & 69.185 & 127.0 &  &  & Float64 \\\\\n",
       "\t6 & Avg060 & 62.6054 & -110.6 & 72.0 & 125.5 &  &  & Float64 \\\\\n",
       "\t7 & Avg090 & 61.7481 & -79.27 & 71.925 & 124.68 &  &  & Float64 \\\\\n",
       "\t8 & Avg120 & 60.9625 & -60.13 & 68.985 & 124.02 &  &  & Float64 \\\\\n",
       "\t9 & Avg180 & 59.7609 & -36.78 & 68.44 & 114.71 &  &  & Float64 \\\\\n",
       "\t10 & Avg365 & 57.7324 & -8.1 & 64.37 & 106.14 &  &  & Float64 \\\\\n",
       "\\end{tabular}\n"
      ],
      "text/plain": [
       "10×8 DataFrame. Omitted printing of 2 columns\n",
       "│ Row │ variable  │ mean     │ min        │ median   │ max        │ nunique │\n",
       "│     │ \u001b[90mSymbol\u001b[39m    │ \u001b[90mUnion…\u001b[39m   │ \u001b[90mAny\u001b[39m        │ \u001b[90mUnion…\u001b[39m   │ \u001b[90mAny\u001b[39m        │ \u001b[90mUnion…\u001b[39m  │\n",
       "├─────┼───────────┼──────────┼────────────┼──────────┼────────────┼─────────┤\n",
       "│ 1   │ Rata_Die  │ 736484.0 │ 735173     │ 736484.0 │ 737794     │         │\n",
       "│ 2   │ Date      │          │ 2013-11-01 │          │ 2021-01-04 │ 2622    │\n",
       "│ 3   │ Original  │ 52.1841  │ 27.5       │ 52.8     │ 60.3       │         │\n",
       "│ 4   │ Quantized │ 63.9352  │ -128.0     │ 69.0     │ 127.0      │         │\n",
       "│ 5   │ Avg030    │ 63.349   │ -128.0     │ 69.185   │ 127.0      │         │\n",
       "│ 6   │ Avg060    │ 62.6054  │ -110.6     │ 72.0     │ 125.5      │         │\n",
       "│ 7   │ Avg090    │ 61.7481  │ -79.27     │ 71.925   │ 124.68     │         │\n",
       "│ 8   │ Avg120    │ 60.9625  │ -60.13     │ 68.985   │ 124.02     │         │\n",
       "│ 9   │ Avg180    │ 59.7609  │ -36.78     │ 68.44    │ 114.71     │         │\n",
       "│ 10  │ Avg365    │ 57.7324  │ -8.1       │ 64.37    │ 106.14     │         │"
      ]
     },
     "execution_count": 3,
     "metadata": {},
     "output_type": "execute_result"
    }
   ],
   "source": [
    "df2 = fetch_dataset( file2 , \"yyyy-mm-dd\", dir )\n",
    "\n",
    "using Statistics\n",
    "describe(df2)"
   ]
  },
  {
   "cell_type": "code",
   "execution_count": 4,
   "metadata": {
    "ExecuteTime": {
     "end_time": "2020-12-05T14:41:46.108000-05:00",
     "start_time": "2020-12-05T19:41:20.748Z"
    },
    "scrolled": true
   },
   "outputs": [
    {
     "name": "stdout",
     "output_type": "stream",
     "text": [
      "Fetched ../Data/processed/united-states.housing-starts-mm.csv, record count 1879\n"
     ]
    },
    {
     "data": {
      "text/html": [
       "<table class=\"data-frame\"><thead><tr><th></th><th>variable</th><th>mean</th><th>min</th><th>median</th><th>max</th><th>nunique</th><th>nmissing</th><th>eltype</th></tr><tr><th></th><th>Symbol</th><th>Union…</th><th>Any</th><th>Union…</th><th>Any</th><th>Union…</th><th>Nothing</th><th>DataType</th></tr></thead><tbody><p>9 rows × 8 columns</p><tr><th>1</th><td>Rata_Die</td><td>736885.0</td><td>735975</td><td>736885.0</td><td>737795</td><td></td><td></td><td>Int64</td></tr><tr><th>2</th><td>Date</td><td></td><td>2016-01-12</td><td></td><td>2021-01-05</td><td>1821</td><td></td><td>Date</td></tr><tr><th>3</th><td>Original</td><td>-2.41197</td><td>-30.2</td><td>-2.5</td><td>25.5</td><td></td><td></td><td>Float64</td></tr><tr><th>4</th><td>Quantized</td><td>-0.604045</td><td>-128.0</td><td>-1.0</td><td>127.0</td><td></td><td></td><td>Float64</td></tr><tr><th>5</th><td>Avg030</td><td>-0.594125</td><td>-5.23</td><td>-0.73</td><td>3.27</td><td></td><td></td><td>Float64</td></tr><tr><th>6</th><td>Avg060</td><td>-0.580404</td><td>-4.63</td><td>-0.53</td><td>2.42</td><td></td><td></td><td>Float64</td></tr><tr><th>7</th><td>Avg090</td><td>-0.575168</td><td>-3.42</td><td>-0.53</td><td>1.62</td><td></td><td></td><td>Float64</td></tr><tr><th>8</th><td>Avg180</td><td>-0.552645</td><td>-2.04</td><td>-0.55</td><td>0.54</td><td></td><td></td><td>Float64</td></tr><tr><th>9</th><td>Avg365</td><td>-0.50099</td><td>-1.11</td><td>-0.57</td><td>0.0</td><td></td><td></td><td>Float64</td></tr></tbody></table>"
      ],
      "text/latex": [
       "\\begin{tabular}{r|cccccccc}\n",
       "\t& variable & mean & min & median & max & nunique & nmissing & eltype\\\\\n",
       "\t\\hline\n",
       "\t& Symbol & Union… & Any & Union… & Any & Union… & Nothing & DataType\\\\\n",
       "\t\\hline\n",
       "\t1 & Rata\\_Die & 736885.0 & 735975 & 736885.0 & 737795 &  &  & Int64 \\\\\n",
       "\t2 & Date &  & 2016-01-12 &  & 2021-01-05 & 1821 &  & Date \\\\\n",
       "\t3 & Original & -2.41197 & -30.2 & -2.5 & 25.5 &  &  & Float64 \\\\\n",
       "\t4 & Quantized & -0.604045 & -128.0 & -1.0 & 127.0 &  &  & Float64 \\\\\n",
       "\t5 & Avg030 & -0.594125 & -5.23 & -0.73 & 3.27 &  &  & Float64 \\\\\n",
       "\t6 & Avg060 & -0.580404 & -4.63 & -0.53 & 2.42 &  &  & Float64 \\\\\n",
       "\t7 & Avg090 & -0.575168 & -3.42 & -0.53 & 1.62 &  &  & Float64 \\\\\n",
       "\t8 & Avg180 & -0.552645 & -2.04 & -0.55 & 0.54 &  &  & Float64 \\\\\n",
       "\t9 & Avg365 & -0.50099 & -1.11 & -0.57 & 0.0 &  &  & Float64 \\\\\n",
       "\\end{tabular}\n"
      ],
      "text/plain": [
       "9×8 DataFrame. Omitted printing of 2 columns\n",
       "│ Row │ variable  │ mean      │ min        │ median   │ max        │ nunique │\n",
       "│     │ \u001b[90mSymbol\u001b[39m    │ \u001b[90mUnion…\u001b[39m    │ \u001b[90mAny\u001b[39m        │ \u001b[90mUnion…\u001b[39m   │ \u001b[90mAny\u001b[39m        │ \u001b[90mUnion…\u001b[39m  │\n",
       "├─────┼───────────┼───────────┼────────────┼──────────┼────────────┼─────────┤\n",
       "│ 1   │ Rata_Die  │ 736885.0  │ 735975     │ 736885.0 │ 737795     │         │\n",
       "│ 2   │ Date      │           │ 2016-01-12 │          │ 2021-01-05 │ 1821    │\n",
       "│ 3   │ Original  │ -2.41197  │ -30.2      │ -2.5     │ 25.5       │         │\n",
       "│ 4   │ Quantized │ -0.604045 │ -128.0     │ -1.0     │ 127.0      │         │\n",
       "│ 5   │ Avg030    │ -0.594125 │ -5.23      │ -0.73    │ 3.27       │         │\n",
       "│ 6   │ Avg060    │ -0.580404 │ -4.63      │ -0.53    │ 2.42       │         │\n",
       "│ 7   │ Avg090    │ -0.575168 │ -3.42      │ -0.53    │ 1.62       │         │\n",
       "│ 8   │ Avg180    │ -0.552645 │ -2.04      │ -0.55    │ 0.54       │         │\n",
       "│ 9   │ Avg365    │ -0.50099  │ -1.11      │ -0.57    │ 0.0        │         │"
      ]
     },
     "execution_count": 4,
     "metadata": {},
     "output_type": "execute_result"
    }
   ],
   "source": [
    "df3 = fetch_dataset( file3 , \"yyyy-mm-dd\", dir )\n",
    "\n",
    "using Statistics\n",
    "describe(df3)"
   ]
  },
  {
   "cell_type": "code",
   "execution_count": 5,
   "metadata": {
    "ExecuteTime": {
     "end_time": "2020-12-05T14:41:46.158000-05:00",
     "start_time": "2020-12-05T19:41:20.754Z"
    }
   },
   "outputs": [
    {
     "name": "stdout",
     "output_type": "stream",
     "text": [
      "Fetched ../Data/processed/united-states.ism-manufacturing-pmi.csv, record count 5059\n"
     ]
    },
    {
     "data": {
      "text/html": [
       "<table class=\"data-frame\"><thead><tr><th></th><th>variable</th><th>mean</th><th>min</th><th>median</th><th>max</th><th>nunique</th><th>nmissing</th><th>eltype</th></tr><tr><th></th><th>Symbol</th><th>Union…</th><th>Any</th><th>Union…</th><th>Any</th><th>Union…</th><th>Nothing</th><th>DataType</th></tr></thead><tbody><p>9 rows × 8 columns</p><tr><th>1</th><td>Rata_Die</td><td>736885.0</td><td>735975</td><td>736885.0</td><td>737795</td><td></td><td></td><td>Int64</td></tr><tr><th>2</th><td>Date</td><td></td><td>2016-01-12</td><td></td><td>2021-01-05</td><td>1821</td><td></td><td>Date</td></tr><tr><th>3</th><td>Original</td><td>-2.41197</td><td>-30.2</td><td>-2.5</td><td>25.5</td><td></td><td></td><td>Float64</td></tr><tr><th>4</th><td>Quantized</td><td>-0.604045</td><td>-128.0</td><td>-1.0</td><td>127.0</td><td></td><td></td><td>Float64</td></tr><tr><th>5</th><td>Avg030</td><td>-0.594125</td><td>-5.23</td><td>-0.73</td><td>3.27</td><td></td><td></td><td>Float64</td></tr><tr><th>6</th><td>Avg060</td><td>-0.580404</td><td>-4.63</td><td>-0.53</td><td>2.42</td><td></td><td></td><td>Float64</td></tr><tr><th>7</th><td>Avg090</td><td>-0.575168</td><td>-3.42</td><td>-0.53</td><td>1.62</td><td></td><td></td><td>Float64</td></tr><tr><th>8</th><td>Avg180</td><td>-0.552645</td><td>-2.04</td><td>-0.55</td><td>0.54</td><td></td><td></td><td>Float64</td></tr><tr><th>9</th><td>Avg365</td><td>-0.50099</td><td>-1.11</td><td>-0.57</td><td>0.0</td><td></td><td></td><td>Float64</td></tr></tbody></table>"
      ],
      "text/latex": [
       "\\begin{tabular}{r|cccccccc}\n",
       "\t& variable & mean & min & median & max & nunique & nmissing & eltype\\\\\n",
       "\t\\hline\n",
       "\t& Symbol & Union… & Any & Union… & Any & Union… & Nothing & DataType\\\\\n",
       "\t\\hline\n",
       "\t1 & Rata\\_Die & 736885.0 & 735975 & 736885.0 & 737795 &  &  & Int64 \\\\\n",
       "\t2 & Date &  & 2016-01-12 &  & 2021-01-05 & 1821 &  & Date \\\\\n",
       "\t3 & Original & -2.41197 & -30.2 & -2.5 & 25.5 &  &  & Float64 \\\\\n",
       "\t4 & Quantized & -0.604045 & -128.0 & -1.0 & 127.0 &  &  & Float64 \\\\\n",
       "\t5 & Avg030 & -0.594125 & -5.23 & -0.73 & 3.27 &  &  & Float64 \\\\\n",
       "\t6 & Avg060 & -0.580404 & -4.63 & -0.53 & 2.42 &  &  & Float64 \\\\\n",
       "\t7 & Avg090 & -0.575168 & -3.42 & -0.53 & 1.62 &  &  & Float64 \\\\\n",
       "\t8 & Avg180 & -0.552645 & -2.04 & -0.55 & 0.54 &  &  & Float64 \\\\\n",
       "\t9 & Avg365 & -0.50099 & -1.11 & -0.57 & 0.0 &  &  & Float64 \\\\\n",
       "\\end{tabular}\n"
      ],
      "text/plain": [
       "9×8 DataFrame. Omitted printing of 2 columns\n",
       "│ Row │ variable  │ mean      │ min        │ median   │ max        │ nunique │\n",
       "│     │ \u001b[90mSymbol\u001b[39m    │ \u001b[90mUnion…\u001b[39m    │ \u001b[90mAny\u001b[39m        │ \u001b[90mUnion…\u001b[39m   │ \u001b[90mAny\u001b[39m        │ \u001b[90mUnion…\u001b[39m  │\n",
       "├─────┼───────────┼───────────┼────────────┼──────────┼────────────┼─────────┤\n",
       "│ 1   │ Rata_Die  │ 736885.0  │ 735975     │ 736885.0 │ 737795     │         │\n",
       "│ 2   │ Date      │           │ 2016-01-12 │          │ 2021-01-05 │ 1821    │\n",
       "│ 3   │ Original  │ -2.41197  │ -30.2      │ -2.5     │ 25.5       │         │\n",
       "│ 4   │ Quantized │ -0.604045 │ -128.0     │ -1.0     │ 127.0      │         │\n",
       "│ 5   │ Avg030    │ -0.594125 │ -5.23      │ -0.73    │ 3.27       │         │\n",
       "│ 6   │ Avg060    │ -0.580404 │ -4.63      │ -0.53    │ 2.42       │         │\n",
       "│ 7   │ Avg090    │ -0.575168 │ -3.42      │ -0.53    │ 1.62       │         │\n",
       "│ 8   │ Avg180    │ -0.552645 │ -2.04      │ -0.55    │ 0.54       │         │\n",
       "│ 9   │ Avg365    │ -0.50099  │ -1.11      │ -0.57    │ 0.0        │         │"
      ]
     },
     "execution_count": 5,
     "metadata": {},
     "output_type": "execute_result"
    }
   ],
   "source": [
    "df4 = fetch_dataset( file4 , \"yyyy-mm-dd\", dir )\n",
    "\n",
    "using Statistics\n",
    "describe(df3)"
   ]
  },
  {
   "cell_type": "code",
   "execution_count": 6,
   "metadata": {
    "ExecuteTime": {
     "end_time": "2020-12-05T14:41:46.187000-05:00",
     "start_time": "2020-12-05T19:41:20.759Z"
    }
   },
   "outputs": [
    {
     "name": "stdout",
     "output_type": "stream",
     "text": [
      "Fetched ../Data/processed/^VIX.csv, record count 11326\n"
     ]
    },
    {
     "data": {
      "text/html": [
       "<table class=\"data-frame\"><thead><tr><th></th><th>variable</th><th>mean</th><th>min</th><th>median</th><th>max</th><th>nunique</th><th>nmissing</th><th>eltype</th></tr><tr><th></th><th>Symbol</th><th>Union…</th><th>Any</th><th>Union…</th><th>Any</th><th>Union…</th><th>Nothing</th><th>DataType</th></tr></thead><tbody><p>9 rows × 8 columns</p><tr><th>1</th><td>Rata_Die</td><td>736885.0</td><td>735975</td><td>736885.0</td><td>737795</td><td></td><td></td><td>Int64</td></tr><tr><th>2</th><td>Date</td><td></td><td>2016-01-12</td><td></td><td>2021-01-05</td><td>1821</td><td></td><td>Date</td></tr><tr><th>3</th><td>Original</td><td>-2.41197</td><td>-30.2</td><td>-2.5</td><td>25.5</td><td></td><td></td><td>Float64</td></tr><tr><th>4</th><td>Quantized</td><td>-0.604045</td><td>-128.0</td><td>-1.0</td><td>127.0</td><td></td><td></td><td>Float64</td></tr><tr><th>5</th><td>Avg030</td><td>-0.594125</td><td>-5.23</td><td>-0.73</td><td>3.27</td><td></td><td></td><td>Float64</td></tr><tr><th>6</th><td>Avg060</td><td>-0.580404</td><td>-4.63</td><td>-0.53</td><td>2.42</td><td></td><td></td><td>Float64</td></tr><tr><th>7</th><td>Avg090</td><td>-0.575168</td><td>-3.42</td><td>-0.53</td><td>1.62</td><td></td><td></td><td>Float64</td></tr><tr><th>8</th><td>Avg180</td><td>-0.552645</td><td>-2.04</td><td>-0.55</td><td>0.54</td><td></td><td></td><td>Float64</td></tr><tr><th>9</th><td>Avg365</td><td>-0.50099</td><td>-1.11</td><td>-0.57</td><td>0.0</td><td></td><td></td><td>Float64</td></tr></tbody></table>"
      ],
      "text/latex": [
       "\\begin{tabular}{r|cccccccc}\n",
       "\t& variable & mean & min & median & max & nunique & nmissing & eltype\\\\\n",
       "\t\\hline\n",
       "\t& Symbol & Union… & Any & Union… & Any & Union… & Nothing & DataType\\\\\n",
       "\t\\hline\n",
       "\t1 & Rata\\_Die & 736885.0 & 735975 & 736885.0 & 737795 &  &  & Int64 \\\\\n",
       "\t2 & Date &  & 2016-01-12 &  & 2021-01-05 & 1821 &  & Date \\\\\n",
       "\t3 & Original & -2.41197 & -30.2 & -2.5 & 25.5 &  &  & Float64 \\\\\n",
       "\t4 & Quantized & -0.604045 & -128.0 & -1.0 & 127.0 &  &  & Float64 \\\\\n",
       "\t5 & Avg030 & -0.594125 & -5.23 & -0.73 & 3.27 &  &  & Float64 \\\\\n",
       "\t6 & Avg060 & -0.580404 & -4.63 & -0.53 & 2.42 &  &  & Float64 \\\\\n",
       "\t7 & Avg090 & -0.575168 & -3.42 & -0.53 & 1.62 &  &  & Float64 \\\\\n",
       "\t8 & Avg180 & -0.552645 & -2.04 & -0.55 & 0.54 &  &  & Float64 \\\\\n",
       "\t9 & Avg365 & -0.50099 & -1.11 & -0.57 & 0.0 &  &  & Float64 \\\\\n",
       "\\end{tabular}\n"
      ],
      "text/plain": [
       "9×8 DataFrame. Omitted printing of 2 columns\n",
       "│ Row │ variable  │ mean      │ min        │ median   │ max        │ nunique │\n",
       "│     │ \u001b[90mSymbol\u001b[39m    │ \u001b[90mUnion…\u001b[39m    │ \u001b[90mAny\u001b[39m        │ \u001b[90mUnion…\u001b[39m   │ \u001b[90mAny\u001b[39m        │ \u001b[90mUnion…\u001b[39m  │\n",
       "├─────┼───────────┼───────────┼────────────┼──────────┼────────────┼─────────┤\n",
       "│ 1   │ Rata_Die  │ 736885.0  │ 735975     │ 736885.0 │ 737795     │         │\n",
       "│ 2   │ Date      │           │ 2016-01-12 │          │ 2021-01-05 │ 1821    │\n",
       "│ 3   │ Original  │ -2.41197  │ -30.2      │ -2.5     │ 25.5       │         │\n",
       "│ 4   │ Quantized │ -0.604045 │ -128.0     │ -1.0     │ 127.0      │         │\n",
       "│ 5   │ Avg030    │ -0.594125 │ -5.23      │ -0.73    │ 3.27       │         │\n",
       "│ 6   │ Avg060    │ -0.580404 │ -4.63      │ -0.53    │ 2.42       │         │\n",
       "│ 7   │ Avg090    │ -0.575168 │ -3.42      │ -0.53    │ 1.62       │         │\n",
       "│ 8   │ Avg180    │ -0.552645 │ -2.04      │ -0.55    │ 0.54       │         │\n",
       "│ 9   │ Avg365    │ -0.50099  │ -1.11      │ -0.57    │ 0.0        │         │"
      ]
     },
     "execution_count": 6,
     "metadata": {},
     "output_type": "execute_result"
    }
   ],
   "source": [
    "df5 = fetch_dataset( file5 , \"yyyy-mm-dd\", dir )\n",
    "\n",
    "using Statistics\n",
    "describe(df3)"
   ]
  },
  {
   "cell_type": "markdown",
   "metadata": {},
   "source": [
    "## Find Common Date Span\n",
    "\n",
    "Example:\n",
    "- for all the DataFrames\n",
    "- find lowest dates\n",
    "- select the highest (common) of them"
   ]
  },
  {
   "cell_type": "code",
   "execution_count": 7,
   "metadata": {
    "ExecuteTime": {
     "end_time": "2020-12-05T14:41:46.566000-05:00",
     "start_time": "2020-12-05T19:41:20.763Z"
    }
   },
   "outputs": [
    {
     "data": {
      "text/plain": [
       "format_rata_die_to_us_date (generic function with 1 method)"
      ]
     },
     "execution_count": 7,
     "metadata": {},
     "output_type": "execute_result"
    }
   ],
   "source": [
    "using Dates\n",
    "\n",
    "function format_rata_die_to_us_date(d)\n",
    "    return Dates.format( rata2datetime(d) , \"u. d, yyyy\")\n",
    "end"
   ]
  },
  {
   "cell_type": "code",
   "execution_count": 8,
   "metadata": {
    "ExecuteTime": {
     "end_time": "2020-12-05T14:41:46.791000-05:00",
     "start_time": "2020-12-05T19:41:20.769Z"
    }
   },
   "outputs": [
    {
     "name": "stdout",
     "output_type": "stream",
     "text": [
      "Oldest common day for df1 is Jan. 29, 1985\n",
      "Oldest common day for df2 is Nov. 1, 2013\n",
      "Oldest common day for df3 is Jan. 12, 2016\n",
      "Oldest common day for df4 is Mar. 1, 2007\n",
      "Oldest common day for df5 is Jan. 2, 1990\n",
      "Oldest common day is Jan. 12, 2016\n"
     ]
    }
   ],
   "source": [
    "oldest_common_day = maximum([\n",
    "         minimum(df1[:,1]) \n",
    "        ,minimum(df2[:,1]) \n",
    "        ,minimum(df3[:,1])\n",
    "        ,minimum(df4[:,1])\n",
    "        ,minimum(df5[:,1])\n",
    "        ])\n",
    "\n",
    "\n",
    "println(\"Oldest common day for df1 is \", format_rata_die_to_us_date( minimum(df1[:,1]))  )\n",
    "println(\"Oldest common day for df2 is \", format_rata_die_to_us_date( minimum(df2[:,1]))  )\n",
    "println(\"Oldest common day for df3 is \", format_rata_die_to_us_date( minimum(df3[:,1]))  )\n",
    "println(\"Oldest common day for df4 is \", format_rata_die_to_us_date( minimum(df4[:,1]))  )\n",
    "println(\"Oldest common day for df5 is \", format_rata_die_to_us_date( minimum(df5[:,1]))  )\n",
    "\n",
    "println(\"Oldest common day is \", format_rata_die_to_us_date(oldest_common_day) )"
   ]
  },
  {
   "cell_type": "code",
   "execution_count": 9,
   "metadata": {
    "ExecuteTime": {
     "end_time": "2020-12-05T14:41:46.797000-05:00",
     "start_time": "2020-12-05T19:41:20.774Z"
    }
   },
   "outputs": [
    {
     "name": "stdout",
     "output_type": "stream",
     "text": [
      "Newest common day for df1 is Jan. 4, 2021\n",
      "Newest common day for df2 is Jan. 4, 2021\n",
      "Newest common day for df3 is Jan. 5, 2021\n",
      "Newest common day for df4 is Jan. 4, 2021\n",
      "Newest common day for df5 is Jan. 4, 2021\n",
      "Newest common day is Jan. 4, 2021\n"
     ]
    }
   ],
   "source": [
    "newest_common_day = minimum([\n",
    "          maximum(df1[:,1])\n",
    "        , maximum(df2[:,1])\n",
    "        , maximum(df3[:,1])\n",
    "        , maximum(df4[:,1])\n",
    "        , maximum(df5[:,1])\n",
    "        ])\n",
    "\n",
    "println(\"Newest common day for df1 is \", format_rata_die_to_us_date( maximum(df1[:,1]))  )\n",
    "println(\"Newest common day for df2 is \", format_rata_die_to_us_date( maximum(df2[:,1]))  )\n",
    "println(\"Newest common day for df3 is \", format_rata_die_to_us_date( maximum(df3[:,1]))  )\n",
    "println(\"Newest common day for df4 is \", format_rata_die_to_us_date( maximum(df4[:,1]))  )\n",
    "println(\"Newest common day for df5 is \", format_rata_die_to_us_date( maximum(df5[:,1]))  )\n",
    "\n",
    "println(\"Newest common day is \", format_rata_die_to_us_date(newest_common_day) )"
   ]
  },
  {
   "cell_type": "code",
   "execution_count": 10,
   "metadata": {
    "ExecuteTime": {
     "end_time": "2020-12-05T14:41:48.080000-05:00",
     "start_time": "2020-12-05T19:41:20.779Z"
    },
    "scrolled": true
   },
   "outputs": [
    {
     "name": "stdout",
     "output_type": "stream",
     "text": [
      "^DJI 1820\n",
      "    [:Rata_Die, :Date, :Original, :Quantized, :Avg030, :Avg060, :Avg090, :Avg120, :Avg180, :Avg365]\n",
      "mnfc_epmlt 1820\n",
      "    [:Rata_Die, :Date, :Original, :Quantized, :Avg030, :Avg060, :Avg090, :Avg120, :Avg180, :Avg365]\n",
      "hous_start 1878\n",
      "    [:Rata_Die, :Date, :Original, :Quantized, :Avg030, :Avg060, :Avg090, :Avg180, :Avg365]\n",
      "mnfc_PMI 1820\n",
      "    [:Rata_Die, :Date, :Original, :Quantized, :Avg030, :Avg060, :Avg090, :Avg180, :Avg365]\n",
      "^VIX 1820\n",
      "    [:Rata_Die, :Date, :Original, :Quantized, :Avg030, :Avg060, :Avg090, :Avg120, :Avg180, :Avg365]\n",
      "\n"
     ]
    }
   ],
   "source": [
    "function trim_DataFrame(name::String, df::DataFrame, oldest_common_day::Int64,  newest_common_day::Int64)\n",
    "    oldest_row = find_day(df, oldest_common_day)\n",
    "    newest_row = find_day(df, newest_common_day)\n",
    "    df = df[oldest_row:newest_row,:] # trimming\n",
    "    println(name, \" \", size(df)[1],\"\\n    \", names(df) )\n",
    "    return df\n",
    "end\n",
    "\n",
    "df1 = trim_DataFrame(\"^DJI\", df1, oldest_common_day, newest_common_day)\n",
    "df2 = trim_DataFrame(\"mnfc_epmlt\", df2, oldest_common_day, newest_common_day)\n",
    "df3 = trim_DataFrame(\"hous_start\", df3, oldest_common_day, newest_common_day)\n",
    "df4 = trim_DataFrame(\"mnfc_PMI\", df4, oldest_common_day, newest_common_day)\n",
    "df5 = trim_DataFrame(\"^VIX\", df5, oldest_common_day, newest_common_day)\n",
    "println()"
   ]
  },
  {
   "cell_type": "code",
   "execution_count": 11,
   "metadata": {
    "ExecuteTime": {
     "end_time": "2020-12-05T14:41:48.664000-05:00",
     "start_time": "2020-12-05T19:41:20.791Z"
    }
   },
   "outputs": [
    {
     "data": {
      "text/html": [
       "<table class=\"data-frame\"><thead><tr><th></th><th>variable</th><th>mean</th><th>min</th><th>median</th><th>max</th><th>nunique</th><th>nmissing</th></tr><tr><th></th><th>Symbol</th><th>Union…</th><th>Any</th><th>Union…</th><th>Any</th><th>Union…</th><th>Nothing</th></tr></thead><tbody><p>33 rows × 8 columns (omitted printing of 1 columns)</p><tr><th>1</th><td>Rata_Die</td><td>736884.0</td><td>735975</td><td>736884.0</td><td>737794</td><td></td><td></td></tr><tr><th>2</th><td>Date</td><td></td><td>2016-01-12</td><td></td><td>2021-01-04</td><td>1820</td><td></td></tr><tr><th>3</th><td>DJIA_Original</td><td>23769.2</td><td>15897.8</td><td>24750.2</td><td>30218.3</td><td></td><td></td></tr><tr><th>4</th><td>DJIA_Quantized</td><td>70.2346</td><td>1.0</td><td>79.0</td><td>127.0</td><td></td><td></td></tr><tr><th>5</th><td>DJIA_Avg030</td><td>69.3258</td><td>3.87</td><td>78.485</td><td>127.0</td><td></td><td></td></tr><tr><th>6</th><td>DJIA_Avg060</td><td>68.4263</td><td>5.73</td><td>78.95</td><td>124.55</td><td></td><td></td></tr><tr><th>7</th><td>DJIA_Avg090</td><td>67.5987</td><td>8.59</td><td>78.57</td><td>119.34</td><td></td><td></td></tr><tr><th>8</th><td>DJIA_Avg120</td><td>66.7864</td><td>10.54</td><td>79.455</td><td>116.07</td><td></td><td></td></tr><tr><th>9</th><td>DJIA_Avg180</td><td>65.1665</td><td>10.94</td><td>80.415</td><td>111.66</td><td></td><td></td></tr><tr><th>10</th><td>DJIA_Avg365</td><td>61.2069</td><td>13.7</td><td>72.12</td><td>100.01</td><td></td><td></td></tr><tr><th>11</th><td>mnfc_epmlt_Original</td><td>51.7174</td><td>27.5</td><td>52.4</td><td>60.3</td><td></td><td></td></tr><tr><th>12</th><td>mnfc_epmlt_Quantized</td><td>60.2852</td><td>-128.0</td><td>66.0</td><td>127.0</td><td></td><td></td></tr><tr><th>13</th><td>mnfc_epmlt_Avg030</td><td>60.375</td><td>-128.0</td><td>68.435</td><td>127.0</td><td></td><td></td></tr><tr><th>14</th><td>mnfc_epmlt_Avg060</td><td>60.4111</td><td>-110.6</td><td>71.75</td><td>125.5</td><td></td><td></td></tr><tr><th>15</th><td>mnfc_epmlt_Avg090</td><td>60.2787</td><td>-79.27</td><td>73.44</td><td>124.68</td><td></td><td></td></tr><tr><th>16</th><td>mnfc_epmlt_Avg120</td><td>66.7864</td><td>10.54</td><td>79.455</td><td>116.07</td><td></td><td></td></tr><tr><th>17</th><td>mnfc_epmlt_Avg180</td><td>65.1665</td><td>10.94</td><td>80.415</td><td>111.66</td><td></td><td></td></tr><tr><th>18</th><td>mnfc_epmlt_Avg365</td><td>61.2069</td><td>13.7</td><td>72.12</td><td>100.01</td><td></td><td></td></tr><tr><th>19</th><td>mnfc_PMI_Original</td><td>54.1405</td><td>41.5</td><td>54.7</td><td>61.3</td><td></td><td></td></tr><tr><th>20</th><td>mnfc_PMI_Quantized</td><td>63.1901</td><td>-48.0</td><td>68.0</td><td>126.0</td><td></td><td></td></tr><tr><th>21</th><td>mnfc_PMI_Avg030</td><td>62.5495</td><td>-48.0</td><td>68.45</td><td>124.7</td><td></td><td></td></tr><tr><th>22</th><td>mnfc_PMI_Avg060</td><td>61.873</td><td>-41.23</td><td>67.9</td><td>118.35</td><td></td><td></td></tr><tr><th>23</th><td>mnfc_PMI_Avg090</td><td>61.2678</td><td>-21.74</td><td>65.39</td><td>113.97</td><td></td><td></td></tr><tr><th>24</th><td>mnfc_PMI_Avg180</td><td>65.1665</td><td>10.94</td><td>80.415</td><td>111.66</td><td></td><td></td></tr><tr><th>25</th><td>mnfc_PMI_Avg365</td><td>61.2069</td><td>13.7</td><td>72.12</td><td>100.01</td><td></td><td></td></tr><tr><th>26</th><td>VIX_Original</td><td>18.8229</td><td>9.31</td><td>15.64</td><td>85.47</td><td></td><td></td></tr><tr><th>27</th><td>VIX_Quantized</td><td>-97.7582</td><td>-128.0</td><td>-108.0</td><td>114.0</td><td></td><td></td></tr><tr><th>28</th><td>VIX_Avg030</td><td>-97.7454</td><td>-125.13</td><td>-107.915</td><td>56.77</td><td></td><td></td></tr><tr><th>29</th><td>VIX_Avg060</td><td>-97.8065</td><td>-124.17</td><td>-107.07</td><td>19.32</td><td></td><td></td></tr><tr><th>30</th><td>VIX_Avg090</td><td>-98.0429</td><td>-123.27</td><td>-106.39</td><td>-3.66</td><td></td><td></td></tr><tr><th>&vellip;</th><td>&vellip;</td><td>&vellip;</td><td>&vellip;</td><td>&vellip;</td><td>&vellip;</td><td>&vellip;</td><td>&vellip;</td></tr></tbody></table>"
      ],
      "text/latex": [
       "\\begin{tabular}{r|cccccccc}\n",
       "\t& variable & mean & min & median & max & nunique & nmissing & \\\\\n",
       "\t\\hline\n",
       "\t& Symbol & Union… & Any & Union… & Any & Union… & Nothing & \\\\\n",
       "\t\\hline\n",
       "\t1 & Rata\\_Die & 736884.0 & 735975 & 736884.0 & 737794 &  &  & $\\dots$ \\\\\n",
       "\t2 & Date &  & 2016-01-12 &  & 2021-01-04 & 1820 &  & $\\dots$ \\\\\n",
       "\t3 & DJIA\\_Original & 23769.2 & 15897.8 & 24750.2 & 30218.3 &  &  & $\\dots$ \\\\\n",
       "\t4 & DJIA\\_Quantized & 70.2346 & 1.0 & 79.0 & 127.0 &  &  & $\\dots$ \\\\\n",
       "\t5 & DJIA\\_Avg030 & 69.3258 & 3.87 & 78.485 & 127.0 &  &  & $\\dots$ \\\\\n",
       "\t6 & DJIA\\_Avg060 & 68.4263 & 5.73 & 78.95 & 124.55 &  &  & $\\dots$ \\\\\n",
       "\t7 & DJIA\\_Avg090 & 67.5987 & 8.59 & 78.57 & 119.34 &  &  & $\\dots$ \\\\\n",
       "\t8 & DJIA\\_Avg120 & 66.7864 & 10.54 & 79.455 & 116.07 &  &  & $\\dots$ \\\\\n",
       "\t9 & DJIA\\_Avg180 & 65.1665 & 10.94 & 80.415 & 111.66 &  &  & $\\dots$ \\\\\n",
       "\t10 & DJIA\\_Avg365 & 61.2069 & 13.7 & 72.12 & 100.01 &  &  & $\\dots$ \\\\\n",
       "\t11 & mnfc\\_epmlt\\_Original & 51.7174 & 27.5 & 52.4 & 60.3 &  &  & $\\dots$ \\\\\n",
       "\t12 & mnfc\\_epmlt\\_Quantized & 60.2852 & -128.0 & 66.0 & 127.0 &  &  & $\\dots$ \\\\\n",
       "\t13 & mnfc\\_epmlt\\_Avg030 & 60.375 & -128.0 & 68.435 & 127.0 &  &  & $\\dots$ \\\\\n",
       "\t14 & mnfc\\_epmlt\\_Avg060 & 60.4111 & -110.6 & 71.75 & 125.5 &  &  & $\\dots$ \\\\\n",
       "\t15 & mnfc\\_epmlt\\_Avg090 & 60.2787 & -79.27 & 73.44 & 124.68 &  &  & $\\dots$ \\\\\n",
       "\t16 & mnfc\\_epmlt\\_Avg120 & 66.7864 & 10.54 & 79.455 & 116.07 &  &  & $\\dots$ \\\\\n",
       "\t17 & mnfc\\_epmlt\\_Avg180 & 65.1665 & 10.94 & 80.415 & 111.66 &  &  & $\\dots$ \\\\\n",
       "\t18 & mnfc\\_epmlt\\_Avg365 & 61.2069 & 13.7 & 72.12 & 100.01 &  &  & $\\dots$ \\\\\n",
       "\t19 & mnfc\\_PMI\\_Original & 54.1405 & 41.5 & 54.7 & 61.3 &  &  & $\\dots$ \\\\\n",
       "\t20 & mnfc\\_PMI\\_Quantized & 63.1901 & -48.0 & 68.0 & 126.0 &  &  & $\\dots$ \\\\\n",
       "\t21 & mnfc\\_PMI\\_Avg030 & 62.5495 & -48.0 & 68.45 & 124.7 &  &  & $\\dots$ \\\\\n",
       "\t22 & mnfc\\_PMI\\_Avg060 & 61.873 & -41.23 & 67.9 & 118.35 &  &  & $\\dots$ \\\\\n",
       "\t23 & mnfc\\_PMI\\_Avg090 & 61.2678 & -21.74 & 65.39 & 113.97 &  &  & $\\dots$ \\\\\n",
       "\t24 & mnfc\\_PMI\\_Avg180 & 65.1665 & 10.94 & 80.415 & 111.66 &  &  & $\\dots$ \\\\\n",
       "\t25 & mnfc\\_PMI\\_Avg365 & 61.2069 & 13.7 & 72.12 & 100.01 &  &  & $\\dots$ \\\\\n",
       "\t26 & VIX\\_Original & 18.8229 & 9.31 & 15.64 & 85.47 &  &  & $\\dots$ \\\\\n",
       "\t27 & VIX\\_Quantized & -97.7582 & -128.0 & -108.0 & 114.0 &  &  & $\\dots$ \\\\\n",
       "\t28 & VIX\\_Avg030 & -97.7454 & -125.13 & -107.915 & 56.77 &  &  & $\\dots$ \\\\\n",
       "\t29 & VIX\\_Avg060 & -97.8065 & -124.17 & -107.07 & 19.32 &  &  & $\\dots$ \\\\\n",
       "\t30 & VIX\\_Avg090 & -98.0429 & -123.27 & -106.39 & -3.66 &  &  & $\\dots$ \\\\\n",
       "\t$\\dots$ & $\\dots$ & $\\dots$ & $\\dots$ & $\\dots$ & $\\dots$ & $\\dots$ & $\\dots$ &  \\\\\n",
       "\\end{tabular}\n"
      ],
      "text/plain": [
       "33×8 DataFrame. Omitted printing of 3 columns\n",
       "│ Row │ variable        │ mean     │ min        │ median   │ max        │\n",
       "│     │ \u001b[90mSymbol\u001b[39m          │ \u001b[90mUnion…\u001b[39m   │ \u001b[90mAny\u001b[39m        │ \u001b[90mUnion…\u001b[39m   │ \u001b[90mAny\u001b[39m        │\n",
       "├─────┼─────────────────┼──────────┼────────────┼──────────┼────────────┤\n",
       "│ 1   │ Rata_Die        │ 736884.0 │ 735975     │ 736884.0 │ 737794     │\n",
       "│ 2   │ Date            │          │ 2016-01-12 │          │ 2021-01-04 │\n",
       "│ 3   │ DJIA_Original   │ 23769.2  │ 15897.8    │ 24750.2  │ 30218.3    │\n",
       "│ 4   │ DJIA_Quantized  │ 70.2346  │ 1.0        │ 79.0     │ 127.0      │\n",
       "│ 5   │ DJIA_Avg030     │ 69.3258  │ 3.87       │ 78.485   │ 127.0      │\n",
       "│ 6   │ DJIA_Avg060     │ 68.4263  │ 5.73       │ 78.95    │ 124.55     │\n",
       "│ 7   │ DJIA_Avg090     │ 67.5987  │ 8.59       │ 78.57    │ 119.34     │\n",
       "│ 8   │ DJIA_Avg120     │ 66.7864  │ 10.54      │ 79.455   │ 116.07     │\n",
       "│ 9   │ DJIA_Avg180     │ 65.1665  │ 10.94      │ 80.415   │ 111.66     │\n",
       "│ 10  │ DJIA_Avg365     │ 61.2069  │ 13.7       │ 72.12    │ 100.01     │\n",
       "⋮\n",
       "│ 23  │ mnfc_PMI_Avg090 │ 61.2678  │ -21.74     │ 65.39    │ 113.97     │\n",
       "│ 24  │ mnfc_PMI_Avg180 │ 65.1665  │ 10.94      │ 80.415   │ 111.66     │\n",
       "│ 25  │ mnfc_PMI_Avg365 │ 61.2069  │ 13.7       │ 72.12    │ 100.01     │\n",
       "│ 26  │ VIX_Original    │ 18.8229  │ 9.31       │ 15.64    │ 85.47      │\n",
       "│ 27  │ VIX_Quantized   │ -97.7582 │ -128.0     │ -108.0   │ 114.0      │\n",
       "│ 28  │ VIX_Avg030      │ -97.7454 │ -125.13    │ -107.915 │ 56.77      │\n",
       "│ 29  │ VIX_Avg060      │ -97.8065 │ -124.17    │ -107.07  │ 19.32      │\n",
       "│ 30  │ VIX_Avg090      │ -98.0429 │ -123.27    │ -106.39  │ -3.66      │\n",
       "│ 31  │ VIX_Avg120      │ 66.7864  │ 10.54      │ 79.455   │ 116.07     │\n",
       "│ 32  │ VIX_Avg180      │ 65.1665  │ 10.94      │ 80.415   │ 111.66     │\n",
       "│ 33  │ VIX_Avg365      │ 61.2069  │ 13.7       │ 72.12    │ 100.01     │"
      ]
     },
     "execution_count": 11,
     "metadata": {},
     "output_type": "execute_result"
    }
   ],
   "source": [
    "using DataFrames\n",
    "uber_df = DataFrame(  Rata_Die              = df1[:,:Rata_Die] \n",
    "                     ,Date                  = df1[:,:Date] \n",
    "    \n",
    "                     ,DJIA_Original         = df1[:,:Original] \n",
    "                     ,DJIA_Quantized        = df1[:,:Quantized] \n",
    "                     ,DJIA_Avg030           = df1[:,:Avg030] \n",
    "                     ,DJIA_Avg060           = df1[:,:Avg060] \n",
    "                     ,DJIA_Avg090           = df1[:,:Avg090] \n",
    "                     ,DJIA_Avg120           = df1[:,:Avg120] \n",
    "                     ,DJIA_Avg180          = df1[:,:Avg180] \n",
    "                     ,DJIA_Avg365          = df1[:,:Avg365] \n",
    "    \n",
    "                     ,mnfc_epmlt_Original   = df2[:,:Original] \n",
    "                     ,mnfc_epmlt_Quantized  = df2[:,:Quantized]\n",
    "                     ,mnfc_epmlt_Avg030     = df2[:,:Avg030]\n",
    "                     ,mnfc_epmlt_Avg060     = df2[:,:Avg060]\n",
    "                     ,mnfc_epmlt_Avg090     = df2[:,:Avg090] \n",
    "                     ,mnfc_epmlt_Avg120     = df1[:,:Avg120] \n",
    "                     ,mnfc_epmlt_Avg180     = df1[:,:Avg180]\n",
    "                     ,mnfc_epmlt_Avg365    = df1[:,:Avg365] \n",
    "    \n",
    "                     ,mnfc_PMI_Original     = df4[:,:Original] \n",
    "                     ,mnfc_PMI_Quantized    = df4[:,:Quantized] \n",
    "                     ,mnfc_PMI_Avg030       = df4[:,:Avg030]  \n",
    "                     ,mnfc_PMI_Avg060       = df4[:,:Avg060]  \n",
    "                     ,mnfc_PMI_Avg090       = df4[:,:Avg090] \n",
    "                    #,mnfc_PMI_Avg120       = df1[:,:Avg120] \n",
    "                     ,mnfc_PMI_Avg180       = df1[:,:Avg180] \n",
    "                     ,mnfc_PMI_Avg365       = df1[:,:Avg365] \n",
    "    \n",
    "                     ,VIX_Original          = df5[:,:Original] \n",
    "                     ,VIX_Quantized         = df5[:,:Quantized] \n",
    "                     ,VIX_Avg030            = df5[:,:Avg030]  \n",
    "                     ,VIX_Avg060            = df5[:,:Avg060]  \n",
    "                     ,VIX_Avg090            = df5[:,:Avg090] \n",
    "                     ,VIX_Avg120            = df1[:,:Avg120] \n",
    "                     ,VIX_Avg180            = df1[:,:Avg180] \n",
    "                     ,VIX_Avg365            = df1[:,:Avg365] \n",
    "\n",
    "                   )\n",
    "using Statistics\n",
    "describe(uber_df)"
   ]
  },
  {
   "cell_type": "markdown",
   "metadata": {},
   "source": [
    "## Visualize the dependencies"
   ]
  },
  {
   "cell_type": "code",
   "execution_count": 12,
   "metadata": {
    "ExecuteTime": {
     "end_time": "2020-12-05T14:41:48.700000-05:00",
     "start_time": "2020-12-05T19:41:20.800Z"
    }
   },
   "outputs": [
    {
     "name": "stdout",
     "output_type": "stream",
     "text": [
      "1 Rata_Die\n",
      "2 Date\n",
      "3 DJIA_Original\n",
      "4 DJIA_Quantized\n",
      "5 DJIA_Avg030\n",
      "6 DJIA_Avg060\n",
      "7 DJIA_Avg090\n",
      "8 DJIA_Avg120\n",
      "9 DJIA_Avg180\n",
      "10 DJIA_Avg365\n",
      "11 mnfc_epmlt_Original\n",
      "12 mnfc_epmlt_Quantized\n",
      "13 mnfc_epmlt_Avg030\n",
      "14 mnfc_epmlt_Avg060\n",
      "15 mnfc_epmlt_Avg090\n",
      "16 mnfc_epmlt_Avg120\n",
      "17 mnfc_epmlt_Avg180\n",
      "18 mnfc_epmlt_Avg365\n",
      "19 mnfc_PMI_Original\n",
      "20 mnfc_PMI_Quantized\n",
      "21 mnfc_PMI_Avg030\n",
      "22 mnfc_PMI_Avg060\n",
      "23 mnfc_PMI_Avg090\n",
      "24 mnfc_PMI_Avg180\n",
      "25 mnfc_PMI_Avg365\n",
      "26 VIX_Original\n",
      "27 VIX_Quantized\n",
      "28 VIX_Avg030\n",
      "29 VIX_Avg060\n",
      "30 VIX_Avg090\n",
      "31 VIX_Avg120\n",
      "32 VIX_Avg180\n",
      "33 VIX_Avg365\n",
      "\n"
     ]
    }
   ],
   "source": [
    "columns = print_colunms(uber_df)\n",
    "println()"
   ]
  },
  {
   "cell_type": "code",
   "execution_count": null,
   "metadata": {
    "ExecuteTime": {
     "start_time": "2020-12-05T20:07:29.711Z"
    }
   },
   "outputs": [],
   "source": [
    "using Plots\n",
    "\n",
    "record_count = size(uber_df)[1]\n",
    "rows = 1:record_count\n",
    "dates = format_dates( uber_df[rows,2] , \"m/d/yy\")\n",
    "\n",
    "gr()\n",
    "plot(          dates, # x-axis: dates\n",
    "               [ uber_df[rows,6] uber_df[rows,14] uber_df[rows,22] uber_df[rows,29]         ], # y-axis\n",
    "    label    = [      columns[6]      columns[14]      columns[22]      columns[29]      \"\" ],\n",
    "    legend   =:bottom, \n",
    "              # :right, :left, :top, :bottom, :inside, :best, :legend, :topright, :topleft, :bottomleft, :bottomright\n",
    "    xlabel   = \"time\",\n",
    "    ylabel   = \"indicators\",\n",
    "    size     = (980, 400), # width, height\n",
    "    layout = (1, 1) # number of graphs: vertically, horizontally\n",
    "    )"
   ]
  },
  {
   "cell_type": "markdown",
   "metadata": {},
   "source": [
    "## Divide Training and Prediction data sets"
   ]
  },
  {
   "cell_type": "code",
   "execution_count": null,
   "metadata": {
    "ExecuteTime": {
     "start_time": "2020-12-05T19:41:20.810Z"
    }
   },
   "outputs": [],
   "source": [
    "record_count = size(uber_df)[1]\n",
    "today_rata = Dates.datetime2rata( today() )\n",
    "today_id = find_day(uber_df, today_rata)\n",
    "\n",
    "# I am putting overlap in the sets to see the behavior\n",
    "df_training   = uber_df[1:today_id-5,:] \n",
    "df_prediction = uber_df[split_day-60:record_count,:]\n",
    "\n",
    "println()"
   ]
  },
  {
   "cell_type": "markdown",
   "metadata": {},
   "source": [
    "### Save Datasets"
   ]
  },
  {
   "cell_type": "code",
   "execution_count": null,
   "metadata": {
    "ExecuteTime": {
     "start_time": "2020-12-05T19:41:20.813Z"
    }
   },
   "outputs": [],
   "source": [
    "save_dataset(df_training,   \"uber_training.csv\"  , \"../Data/processed/\");\n",
    "save_dataset(df_prediction, \"uber_prediction.csv\", \"../Data/processed/\");"
   ]
  },
  {
   "cell_type": "code",
   "execution_count": null,
   "metadata": {},
   "outputs": [],
   "source": []
  }
 ],
 "metadata": {
  "kernelspec": {
   "display_name": "Julia 1.4.2",
   "language": "julia",
   "name": "julia-1.4"
  },
  "language_info": {
   "file_extension": ".jl",
   "mimetype": "application/julia",
   "name": "julia",
   "version": "1.4.2"
  },
  "toc": {
   "base_numbering": 1,
   "nav_menu": {},
   "number_sections": true,
   "sideBar": true,
   "skip_h1_title": true,
   "title_cell": "Table of Contents",
   "title_sidebar": "Contents",
   "toc_cell": true,
   "toc_position": {},
   "toc_section_display": true,
   "toc_window_display": true
  },
  "varInspector": {
   "cols": {
    "lenName": 16,
    "lenType": 16,
    "lenVar": 40
   },
   "kernels_config": {
    "python": {
     "delete_cmd_postfix": "",
     "delete_cmd_prefix": "del ",
     "library": "var_list.py",
     "varRefreshCmd": "print(var_dic_list())"
    },
    "r": {
     "delete_cmd_postfix": ") ",
     "delete_cmd_prefix": "rm(",
     "library": "var_list.r",
     "varRefreshCmd": "cat(var_dic_list()) "
    }
   },
   "types_to_exclude": [
    "module",
    "function",
    "builtin_function_or_method",
    "instance",
    "_Feature"
   ],
   "window_display": false
  }
 },
 "nbformat": 4,
 "nbformat_minor": 4
}
