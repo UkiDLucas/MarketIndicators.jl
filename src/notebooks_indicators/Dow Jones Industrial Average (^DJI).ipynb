{
 "cells": [
  {
   "cell_type": "markdown",
   "metadata": {},
   "source": [
    "# Dow Jones Industrial Average (^DJI)\n",
    "\n",
    "\n",
    "Source\n",
    "- [Yahoo finance ^DJIA](https://finance.yahoo.com/quote/%5EDJI/history?period1=475804800&period2=1601251200&interval=1d&filter=history&frequency=1d)"
   ]
  },
  {
   "cell_type": "markdown",
   "metadata": {
    "toc": true
   },
   "source": [
    "<h1>Table of Contents<span class=\"tocSkip\"></span></h1>\n",
    "<div class=\"toc\"><ul class=\"toc-item\"><li><span><a href=\"#Set-Up\" data-toc-modified-id=\"Set-Up-1\"><span class=\"toc-item-num\">1&nbsp;&nbsp;</span>Set Up</a></span></li><li><span><a href=\"#Read-Data\" data-toc-modified-id=\"Read-Data-2\"><span class=\"toc-item-num\">2&nbsp;&nbsp;</span>Read Data</a></span><ul class=\"toc-item\"><li><span><a href=\"#Sample-the-data\" data-toc-modified-id=\"Sample-the-data-2.1\"><span class=\"toc-item-num\">2.1&nbsp;&nbsp;</span>Sample the data</a></span></li></ul></li><li><span><a href=\"#Rata-Die\" data-toc-modified-id=\"Rata-Die-3\"><span class=\"toc-item-num\">3&nbsp;&nbsp;</span>Rata Die</a></span><ul class=\"toc-item\"><li><span><a href=\"#Draw-Plots\" data-toc-modified-id=\"Draw-Plots-3.1\"><span class=\"toc-item-num\">3.1&nbsp;&nbsp;</span>Draw Plots</a></span></li><li><span><a href=\"#set-the-original-value-column\" data-toc-modified-id=\"set-the-original-value-column-3.2\"><span class=\"toc-item-num\">3.2&nbsp;&nbsp;</span>set the original value column</a></span></li></ul></li><li><span><a href=\"#Extract-right-columns\" data-toc-modified-id=\"Extract-right-columns-4\"><span class=\"toc-item-num\">4&nbsp;&nbsp;</span>Extract right columns</a></span></li><li><span><a href=\"#Quantize-the-values\" data-toc-modified-id=\"Quantize-the-values-5\"><span class=\"toc-item-num\">5&nbsp;&nbsp;</span>Quantize the values</a></span></li><li><span><a href=\"#Fill-in-Empty-Dates\" data-toc-modified-id=\"Fill-in-Empty-Dates-6\"><span class=\"toc-item-num\">6&nbsp;&nbsp;</span>Fill in Empty Dates</a></span><ul class=\"toc-item\"><li><span><a href=\"#Fill:-Sort\" data-toc-modified-id=\"Fill:-Sort-6.1\"><span class=\"toc-item-num\">6.1&nbsp;&nbsp;</span>Fill: Sort</a></span></li><li><span><a href=\"#Fill:-Draw-Plots\" data-toc-modified-id=\"Fill:-Draw-Plots-6.2\"><span class=\"toc-item-num\">6.2&nbsp;&nbsp;</span>Fill: Draw Plots</a></span></li></ul></li><li><span><a href=\"#Averages\" data-toc-modified-id=\"Averages-7\"><span class=\"toc-item-num\">7&nbsp;&nbsp;</span>Averages</a></span><ul class=\"toc-item\"><li><span><a href=\"#Averages:-Draw-Plots\" data-toc-modified-id=\"Averages:-Draw-Plots-7.1\"><span class=\"toc-item-num\">7.1&nbsp;&nbsp;</span>Averages: Draw Plots</a></span></li><li><span><a href=\"#Insert-averages-to-DataFrame\" data-toc-modified-id=\"Insert-averages-to-DataFrame-7.2\"><span class=\"toc-item-num\">7.2&nbsp;&nbsp;</span>Insert averages to DataFrame</a></span></li></ul></li><li><span><a href=\"#Position-on-given-Date\" data-toc-modified-id=\"Position-on-given-Date-8\"><span class=\"toc-item-num\">8&nbsp;&nbsp;</span>Position on given Date</a></span><ul class=\"toc-item\"><li><span><a href=\"#Position:-Draw-Plots\" data-toc-modified-id=\"Position:-Draw-Plots-8.1\"><span class=\"toc-item-num\">8.1&nbsp;&nbsp;</span>Position: Draw Plots</a></span></li></ul></li><li><span><a href=\"#Save-DataFrame-to-CSV-file\" data-toc-modified-id=\"Save-DataFrame-to-CSV-file-9\"><span class=\"toc-item-num\">9&nbsp;&nbsp;</span>Save DataFrame to CSV file</a></span><ul class=\"toc-item\"><li><span><a href=\"#Save:-Describe-before-saving\" data-toc-modified-id=\"Save:-Describe-before-saving-9.1\"><span class=\"toc-item-num\">9.1&nbsp;&nbsp;</span>Save: Describe before saving</a></span></li><li><span><a href=\"#Write-as-CSV-file\" data-toc-modified-id=\"Write-as-CSV-file-9.2\"><span class=\"toc-item-num\">9.2&nbsp;&nbsp;</span>Write as CSV file</a></span></li></ul></li></ul></div>"
   ]
  },
  {
   "cell_type": "markdown",
   "metadata": {},
   "source": [
    "## Set Up"
   ]
  },
  {
   "cell_type": "code",
   "execution_count": 25,
   "metadata": {
    "ExecuteTime": {
     "end_time": "2020-11-30T10:23:40.059000-05:00",
     "start_time": "2020-11-30T15:23:40.055Z"
    }
   },
   "outputs": [
    {
     "name": "stdout",
     "output_type": "stream",
     "text": [
      "Run this file from the location of the actual file.\n"
     ]
    },
    {
     "data": {
      "text/plain": [
       "\"/Users/uki/REPOS/MarketIndicators.jl/src/notebooks_indicators\""
      ]
     },
     "execution_count": 25,
     "metadata": {},
     "output_type": "execute_result"
    }
   ],
   "source": [
    "println(\"Run this file from the location of the actual file.\")\n",
    "pwd()"
   ]
  },
  {
   "cell_type": "code",
   "execution_count": 20,
   "metadata": {
    "ExecuteTime": {
     "end_time": "2020-11-30T10:10:31.701000-05:00",
     "start_time": "2020-11-30T15:10:31.561Z"
    }
   },
   "outputs": [
    {
     "name": "stdout",
     "output_type": "stream",
     "text": [
      "\n"
     ]
    }
   ],
   "source": [
    "dataset_file_name = \"^DJI.csv\"\n",
    "path_data_original = \"../Data/original/\"\n",
    "date_original_format = \"yyyy-mm-dd\"\n",
    "original_value_column = 4\n",
    "last_position_change = \"2020-09-30\"\n",
    "\n",
    "# notebooks are in one folder higher\n",
    "#include(\"../MarketIndicators.jl\") \n",
    "include(\"../Julia/functions.jl\")"
   ]
  },
  {
   "cell_type": "markdown",
   "metadata": {},
   "source": [
    "## Read Data"
   ]
  },
  {
   "cell_type": "code",
   "execution_count": 21,
   "metadata": {
    "ExecuteTime": {
     "end_time": "2020-11-30T10:10:44.033000-05:00",
     "start_time": "2020-11-30T15:10:43.992Z"
    }
   },
   "outputs": [
    {
     "name": "stdout",
     "output_type": "stream",
     "text": [
      "../Data/original/^DJI.csv\n",
      "data dimentions: (9033, 7)\n"
     ]
    }
   ],
   "source": [
    "#data = available_datasets() # uncomment to see all available datasets\n",
    "\n",
    "df = fetch_dataset(dataset_file_name, date_original_format , path_data_original )\n",
    "record_count = size(df)[1]\n",
    "println(\"data dimentions: \", size(df) )\n",
    "\n",
    "#using Statistics\n",
    "#describe(df)"
   ]
  },
  {
   "cell_type": "markdown",
   "metadata": {},
   "source": [
    "### Sample the data"
   ]
  },
  {
   "cell_type": "code",
   "execution_count": 23,
   "metadata": {
    "ExecuteTime": {
     "end_time": "2020-11-30T10:11:05.104000-05:00",
     "start_time": "2020-11-30T15:11:04.928Z"
    }
   },
   "outputs": [
    {
     "name": "stdout",
     "output_type": "stream",
     "text": [
      "6×7 DataFrame\n",
      "│ Row │ Date       │ Open    │ High    │ Low     │ Close   │ Adj Close │\n",
      "│     │ \u001b[90mDate\u001b[39m       │ \u001b[90mFloat64\u001b[39m │ \u001b[90mFloat64\u001b[39m │ \u001b[90mFloat64\u001b[39m │ \u001b[90mFloat64\u001b[39m │ \u001b[90mFloat64\u001b[39m   │\n",
      "├─────┼────────────┼─────────┼─────────┼─────────┼─────────┼───────────┤\n",
      "│ 1   │ 1985-01-29 │ 1277.72 │ 1295.49 │ 1266.89 │ 1292.62 │ 1292.62   │\n",
      "│ 2   │ 1991-01-15 │ 2485.64 │ 2504.46 │ 2470.05 │ 2490.59 │ 2490.59   │\n",
      "│ 3   │ 1996-12-27 │ 6543.6  │ 6576.28 │ 6537.46 │ 6560.91 │ 6560.91   │\n",
      "│ 4   │ 2002-12-23 │ 8511.39 │ 8554.04 │ 8462.64 │ 8493.29 │ 8493.29   │\n",
      "│ 5   │ 2008-12-16 │ 8565.65 │ 8958.79 │ 8565.65 │ 8924.14 │ 8924.14   │\n",
      "│ 6   │ 2014-12-10 │ 17798.0 │ 17798.0 │ 17508.1 │ 17533.2 │ 17533.2   │\n",
      "\n",
      "│ Row │ Volume    │\n",
      "│     │ \u001b[90mInt64\u001b[39m     │\n",
      "├─────┼───────────┤\n",
      "│ 1   │ 13560000  │\n",
      "│ 2   │ 11710000  │\n",
      "│ 3   │ 20860000  │\n",
      "│ 4   │ 184910000 │\n",
      "│ 5   │ 337190000 │\n",
      "│ 6   │ 115100000 │\n",
      " Dataset dimentions: (9033, 7)\n",
      "\n",
      " variable columns:\n",
      "1 Date\n",
      "2 Open\n",
      "3 High\n",
      "4 Low\n",
      "5 Close\n",
      "6 Adj Close\n",
      "7 Volume\n",
      "\n"
     ]
    }
   ],
   "source": [
    "columns = preview_data(df) # uncomment to see the data\n",
    "println()"
   ]
  },
  {
   "cell_type": "markdown",
   "metadata": {},
   "source": [
    "## Rata Die"
   ]
  },
  {
   "cell_type": "code",
   "execution_count": 4,
   "metadata": {
    "ExecuteTime": {
     "end_time": "2020-11-29T13:48:00.258000-05:00",
     "start_time": "2020-11-29T18:47:38.974Z"
    }
   },
   "outputs": [
    {
     "name": "stdout",
     "output_type": "stream",
     "text": [
      "\n"
     ]
    }
   ],
   "source": [
    "col_ind = 1\n",
    "insertcols!(df, col_ind, :Rata_Die => zeros(Int64, record_count); makeunique = true )\n",
    "\n",
    "update_rata_die!(df, 1, 2)\n",
    "#first(df, 6)\n",
    "\n",
    "#columns = preview_data(df, 3)\n",
    "println()"
   ]
  },
  {
   "cell_type": "markdown",
   "metadata": {},
   "source": [
    "### Draw Plots"
   ]
  },
  {
   "cell_type": "raw",
   "metadata": {},
   "source": [
    "using Plots\n",
    "\n",
    "record_count = size(df)[1]\n",
    "rows = 1:record_count\n",
    "dates = format_dates( df[rows,2] , \"m/d/yy\")\n",
    "\n",
    "gr()\n",
    "plot(          dates, # x-axis: dates\n",
    "               [  df[rows,4]    ], # y-axis\n",
    "    label    = [  columns[4]   \"\" ]  ,\n",
    "    legend   =:topleft, \n",
    "              # :right, :left, :top, :bottom, :inside, :best, :legend, :topright, :topleft, :bottomleft, :bottomright\n",
    "    xlabel   = \"time\",\n",
    "    ylabel   = \"indicators\",\n",
    "    size     = (980, 400), # width, height\n",
    "    layout = (1, 1) # number of graphs: vertically, horizontally\n",
    "    )"
   ]
  },
  {
   "cell_type": "markdown",
   "metadata": {},
   "source": [
    "### set the original value column\n",
    "- go back to the top \"Setup\" section and choose which column should be the \"Orignal value\"\n",
    "- re-run the notebook"
   ]
  },
  {
   "cell_type": "markdown",
   "metadata": {},
   "source": [
    "## Extract right columns"
   ]
  },
  {
   "cell_type": "code",
   "execution_count": 5,
   "metadata": {
    "ExecuteTime": {
     "end_time": "2020-11-29T13:48:01.558000-05:00",
     "start_time": "2020-11-29T18:47:38.997Z"
    }
   },
   "outputs": [
    {
     "name": "stdout",
     "output_type": "stream",
     "text": [
      "6×4 DataFrame\n",
      "│ Row │ Day    │ Date       │ Value   │ Original │\n",
      "│     │ \u001b[90mInt64\u001b[39m  │ \u001b[90mDate\u001b[39m       │ \u001b[90mFloat64\u001b[39m │ \u001b[90mFloat64\u001b[39m  │\n",
      "├─────┼────────┼────────────┼─────────┼──────────┤\n",
      "│ 1   │ 724670 │ 1985-01-29 │ 1295.49 │ 1295.49  │\n",
      "│ 2   │ 726847 │ 1991-01-15 │ 2504.46 │ 2504.46  │\n",
      "│ 3   │ 729020 │ 1996-12-27 │ 6576.28 │ 6576.28  │\n",
      "│ 4   │ 731207 │ 2002-12-23 │ 8554.04 │ 8554.04  │\n",
      "│ 5   │ 733392 │ 2008-12-16 │ 8958.79 │ 8958.79  │\n",
      "│ 6   │ 735577 │ 2014-12-10 │ 17798.0 │ 17798.0  │\n",
      " Dataset dimentions: (9033, 4)\n",
      "\n",
      " variable columns:\n",
      "1 Day\n",
      "2 Date\n",
      "3 Value\n",
      "4 Original\n",
      "\n"
     ]
    }
   ],
   "source": [
    "using DataFrames\n",
    "df = DataFrame( Day      = df[:,1],                     # 1 \n",
    "                Date     = df[:,2],                     # 2 \n",
    "                Value    = df[:,original_value_column], # 3 \n",
    "                Original = df[:,original_value_column]  # 4 \n",
    "               )\n",
    "\n",
    "columns = preview_data(df)\n",
    "println()"
   ]
  },
  {
   "cell_type": "markdown",
   "metadata": {},
   "source": [
    "## Quantize the values\n",
    "\n",
    "- Quantization is a process of noramalizing the data\n",
    "- I have decided to normalize the data for Int8 as I might try use Google Coral NPU\n",
    "- minimum = -128.0\n",
    "- maximum = 127.0"
   ]
  },
  {
   "cell_type": "code",
   "execution_count": 6,
   "metadata": {
    "ExecuteTime": {
     "end_time": "2020-11-29T13:48:01.759000-05:00",
     "start_time": "2020-11-29T18:47:39.000Z"
    }
   },
   "outputs": [
    {
     "name": "stdout",
     "output_type": "stream",
     "text": [
      "bias for 0 value: -0.04334650841850143\n",
      "Normalization was performend using formula y=(((x-min)/(max-min))*255)-128 \n",
      "minimum = 1251.209961\n",
      "maximum = 30116.509766\n",
      "Save these values for later to run model preditions\n",
      "6×4 DataFrame\n",
      "│ Row │ Day    │ Date       │ Value   │ Original │\n",
      "│     │ \u001b[90mInt64\u001b[39m  │ \u001b[90mDate\u001b[39m       │ \u001b[90mFloat64\u001b[39m │ \u001b[90mFloat64\u001b[39m  │\n",
      "├─────┼────────┼────────────┼─────────┼──────────┤\n",
      "│ 1   │ 724670 │ 1985-01-29 │ -128.0  │ 1295.49  │\n",
      "│ 2   │ 726847 │ 1991-01-15 │ -117.0  │ 2504.46  │\n",
      "│ 3   │ 729020 │ 1996-12-27 │ -81.0   │ 6576.28  │\n",
      "│ 4   │ 731207 │ 2002-12-23 │ -63.0   │ 8554.04  │\n",
      "│ 5   │ 733392 │ 2008-12-16 │ -60.0   │ 8958.79  │\n",
      "│ 6   │ 735577 │ 2014-12-10 │ 18.0    │ 17798.0  │\n",
      " Dataset dimentions: (9033, 4)\n",
      "\n",
      " variable columns:\n",
      "1 Day\n",
      "2 Date\n",
      "3 Value\n",
      "4 Original\n",
      "\n"
     ]
    }
   ],
   "source": [
    "data_original = df[:, 4] # keep original for display comparison later\n",
    "\n",
    "quantize_column!(df, 3)\n",
    "\n",
    "columns = preview_data(df)\n",
    "println()"
   ]
  },
  {
   "cell_type": "raw",
   "metadata": {},
   "source": [
    "using Plots\n",
    "\n",
    "count = size(df)[1]\n",
    "rows = 1:count\n",
    "dates = format_dates( df[rows,2] , \"m/d/yy\")\n",
    "\n",
    "gr()\n",
    "plot(          dates, # x-axis: dates\n",
    "               [  df[rows,3]    ], # y-axis\n",
    "    label    = [  columns[3] \"\"   ]  ,\n",
    "    legend   =:topleft, \n",
    "              # :right, :left, :top, :bottom, :inside, :best, :legend, :topright, :topleft, :bottomleft, :bottomright\n",
    "    xlabel   = \"time\",\n",
    "    ylabel   = \"indicators\",\n",
    "    size     = (980, 400), # width, height\n",
    "    layout = (1, 1) # number of graphs: vertically, horizontally\n",
    "    )"
   ]
  },
  {
   "cell_type": "markdown",
   "metadata": {},
   "source": [
    "## Fill in Empty Dates"
   ]
  },
  {
   "cell_type": "code",
   "execution_count": 7,
   "metadata": {
    "ExecuteTime": {
     "end_time": "2020-11-29T13:48:04.574000-05:00",
     "start_time": "2020-11-29T18:47:39.025Z"
    }
   },
   "outputs": [
    {
     "data": {
      "text/html": [
       "<table class=\"data-frame\"><thead><tr><th></th><th>Day</th><th>Date</th><th>Value</th><th>Original</th></tr><tr><th></th><th>Int64</th><th>Date</th><th>Float64</th><th>Float64</th></tr></thead><tbody><p>13,087 rows × 4 columns</p><tr><th>1</th><td>724670</td><td>1985-01-29</td><td>-128.0</td><td>1295.49</td></tr><tr><th>2</th><td>724671</td><td>1985-01-30</td><td>-128.0</td><td>1305.1</td></tr><tr><th>3</th><td>724672</td><td>1985-01-31</td><td>-128.0</td><td>1293.4</td></tr><tr><th>4</th><td>724673</td><td>1985-02-01</td><td>-128.0</td><td>1286.11</td></tr><tr><th>5</th><td>724676</td><td>1985-02-04</td><td>-128.0</td><td>1294.94</td></tr><tr><th>6</th><td>724677</td><td>1985-02-05</td><td>-128.0</td><td>1301.13</td></tr><tr><th>7</th><td>724678</td><td>1985-02-06</td><td>-128.0</td><td>1294.5</td></tr><tr><th>8</th><td>724679</td><td>1985-02-07</td><td>-128.0</td><td>1297.04</td></tr><tr><th>9</th><td>724680</td><td>1985-02-08</td><td>-128.0</td><td>1297.15</td></tr><tr><th>10</th><td>724683</td><td>1985-02-11</td><td>-128.0</td><td>1291.74</td></tr><tr><th>11</th><td>724684</td><td>1985-02-12</td><td>-128.0</td><td>1283.13</td></tr><tr><th>12</th><td>724685</td><td>1985-02-13</td><td>-128.0</td><td>1304.66</td></tr><tr><th>13</th><td>724686</td><td>1985-02-14</td><td>-128.0</td><td>1307.53</td></tr><tr><th>14</th><td>724687</td><td>1985-02-15</td><td>-128.0</td><td>1296.27</td></tr><tr><th>15</th><td>724691</td><td>1985-02-19</td><td>-128.0</td><td>1287.43</td></tr><tr><th>16</th><td>724692</td><td>1985-02-20</td><td>-128.0</td><td>1292.51</td></tr><tr><th>17</th><td>724693</td><td>1985-02-21</td><td>-128.0</td><td>1287.1</td></tr><tr><th>18</th><td>724694</td><td>1985-02-22</td><td>-128.0</td><td>1286.55</td></tr><tr><th>19</th><td>724697</td><td>1985-02-25</td><td>-128.0</td><td>1283.13</td></tr><tr><th>20</th><td>724698</td><td>1985-02-26</td><td>-128.0</td><td>1293.18</td></tr><tr><th>21</th><td>724699</td><td>1985-02-27</td><td>-128.0</td><td>1295.27</td></tr><tr><th>22</th><td>724700</td><td>1985-02-28</td><td>-128.0</td><td>1288.32</td></tr><tr><th>23</th><td>724701</td><td>1985-03-01</td><td>-127.0</td><td>1309.96</td></tr><tr><th>24</th><td>724704</td><td>1985-03-04</td><td>-128.0</td><td>1304.55</td></tr><tr><th>25</th><td>724705</td><td>1985-03-05</td><td>-128.0</td><td>1300.02</td></tr><tr><th>26</th><td>724706</td><td>1985-03-06</td><td>-128.0</td><td>1296.93</td></tr><tr><th>27</th><td>724707</td><td>1985-03-07</td><td>-128.0</td><td>1283.24</td></tr><tr><th>28</th><td>724708</td><td>1985-03-08</td><td>-128.0</td><td>1280.81</td></tr><tr><th>29</th><td>724711</td><td>1985-03-11</td><td>-128.0</td><td>1277.05</td></tr><tr><th>30</th><td>724712</td><td>1985-03-12</td><td>-128.0</td><td>1279.48</td></tr><tr><th>&vellip;</th><td>&vellip;</td><td>&vellip;</td><td>&vellip;</td><td>&vellip;</td></tr></tbody></table>"
      ],
      "text/latex": [
       "\\begin{tabular}{r|cccc}\n",
       "\t& Day & Date & Value & Original\\\\\n",
       "\t\\hline\n",
       "\t& Int64 & Date & Float64 & Float64\\\\\n",
       "\t\\hline\n",
       "\t1 & 724670 & 1985-01-29 & -128.0 & 1295.49 \\\\\n",
       "\t2 & 724671 & 1985-01-30 & -128.0 & 1305.1 \\\\\n",
       "\t3 & 724672 & 1985-01-31 & -128.0 & 1293.4 \\\\\n",
       "\t4 & 724673 & 1985-02-01 & -128.0 & 1286.11 \\\\\n",
       "\t5 & 724676 & 1985-02-04 & -128.0 & 1294.94 \\\\\n",
       "\t6 & 724677 & 1985-02-05 & -128.0 & 1301.13 \\\\\n",
       "\t7 & 724678 & 1985-02-06 & -128.0 & 1294.5 \\\\\n",
       "\t8 & 724679 & 1985-02-07 & -128.0 & 1297.04 \\\\\n",
       "\t9 & 724680 & 1985-02-08 & -128.0 & 1297.15 \\\\\n",
       "\t10 & 724683 & 1985-02-11 & -128.0 & 1291.74 \\\\\n",
       "\t11 & 724684 & 1985-02-12 & -128.0 & 1283.13 \\\\\n",
       "\t12 & 724685 & 1985-02-13 & -128.0 & 1304.66 \\\\\n",
       "\t13 & 724686 & 1985-02-14 & -128.0 & 1307.53 \\\\\n",
       "\t14 & 724687 & 1985-02-15 & -128.0 & 1296.27 \\\\\n",
       "\t15 & 724691 & 1985-02-19 & -128.0 & 1287.43 \\\\\n",
       "\t16 & 724692 & 1985-02-20 & -128.0 & 1292.51 \\\\\n",
       "\t17 & 724693 & 1985-02-21 & -128.0 & 1287.1 \\\\\n",
       "\t18 & 724694 & 1985-02-22 & -128.0 & 1286.55 \\\\\n",
       "\t19 & 724697 & 1985-02-25 & -128.0 & 1283.13 \\\\\n",
       "\t20 & 724698 & 1985-02-26 & -128.0 & 1293.18 \\\\\n",
       "\t21 & 724699 & 1985-02-27 & -128.0 & 1295.27 \\\\\n",
       "\t22 & 724700 & 1985-02-28 & -128.0 & 1288.32 \\\\\n",
       "\t23 & 724701 & 1985-03-01 & -127.0 & 1309.96 \\\\\n",
       "\t24 & 724704 & 1985-03-04 & -128.0 & 1304.55 \\\\\n",
       "\t25 & 724705 & 1985-03-05 & -128.0 & 1300.02 \\\\\n",
       "\t26 & 724706 & 1985-03-06 & -128.0 & 1296.93 \\\\\n",
       "\t27 & 724707 & 1985-03-07 & -128.0 & 1283.24 \\\\\n",
       "\t28 & 724708 & 1985-03-08 & -128.0 & 1280.81 \\\\\n",
       "\t29 & 724711 & 1985-03-11 & -128.0 & 1277.05 \\\\\n",
       "\t30 & 724712 & 1985-03-12 & -128.0 & 1279.48 \\\\\n",
       "\t$\\dots$ & $\\dots$ & $\\dots$ & $\\dots$ & $\\dots$ \\\\\n",
       "\\end{tabular}\n"
      ],
      "text/plain": [
       "13087×4 DataFrame\n",
       "│ Row   │ Day    │ Date       │ Value   │ Original │\n",
       "│       │ \u001b[90mInt64\u001b[39m  │ \u001b[90mDate\u001b[39m       │ \u001b[90mFloat64\u001b[39m │ \u001b[90mFloat64\u001b[39m  │\n",
       "├───────┼────────┼────────────┼─────────┼──────────┤\n",
       "│ 1     │ 724670 │ 1985-01-29 │ -128.0  │ 1295.49  │\n",
       "│ 2     │ 724671 │ 1985-01-30 │ -128.0  │ 1305.1   │\n",
       "│ 3     │ 724672 │ 1985-01-31 │ -128.0  │ 1293.4   │\n",
       "│ 4     │ 724673 │ 1985-02-01 │ -128.0  │ 1286.11  │\n",
       "│ 5     │ 724676 │ 1985-02-04 │ -128.0  │ 1294.94  │\n",
       "│ 6     │ 724677 │ 1985-02-05 │ -128.0  │ 1301.13  │\n",
       "│ 7     │ 724678 │ 1985-02-06 │ -128.0  │ 1294.5   │\n",
       "│ 8     │ 724679 │ 1985-02-07 │ -128.0  │ 1297.04  │\n",
       "│ 9     │ 724680 │ 1985-02-08 │ -128.0  │ 1297.15  │\n",
       "│ 10    │ 724683 │ 1985-02-11 │ -128.0  │ 1291.74  │\n",
       "⋮\n",
       "│ 13077 │ 737722 │ 2020-10-24 │ 112.0   │ 28436.5  │\n",
       "│ 13078 │ 737723 │ 2020-10-25 │ 112.0   │ 28436.5  │\n",
       "│ 13079 │ 737729 │ 2020-10-31 │ 96.0    │ 26639.2  │\n",
       "│ 13080 │ 737730 │ 2020-11-01 │ 96.0    │ 26639.2  │\n",
       "│ 13081 │ 737736 │ 2020-11-07 │ 112.0   │ 28432.0  │\n",
       "│ 13082 │ 737737 │ 2020-11-08 │ 112.0   │ 28432.0  │\n",
       "│ 13083 │ 737743 │ 2020-11-14 │ 122.0   │ 29559.2  │\n",
       "│ 13084 │ 737744 │ 2020-11-15 │ 122.0   │ 29559.2  │\n",
       "│ 13085 │ 737750 │ 2020-11-21 │ 121.0   │ 29469.9  │\n",
       "│ 13086 │ 737751 │ 2020-11-22 │ 121.0   │ 29469.9  │\n",
       "│ 13087 │ 737755 │ 2020-11-26 │ 126.0   │ 30058.9  │"
      ]
     },
     "execution_count": 7,
     "metadata": {},
     "output_type": "execute_result"
    }
   ],
   "source": [
    "populate_missing_dates!(df)"
   ]
  },
  {
   "cell_type": "markdown",
   "metadata": {},
   "source": [
    "### Fill: Sort"
   ]
  },
  {
   "cell_type": "code",
   "execution_count": 8,
   "metadata": {
    "ExecuteTime": {
     "end_time": "2020-11-29T13:48:05.088000-05:00",
     "start_time": "2020-11-29T18:47:39.029Z"
    }
   },
   "outputs": [
    {
     "name": "stdout",
     "output_type": "stream",
     "text": [
      "\n"
     ]
    }
   ],
   "source": [
    "df = sort(df, [:Day]);\n",
    "count = size(df)[1]\n",
    "first(df, 6)\n",
    "# columns = preview_data(df)\n",
    "println()"
   ]
  },
  {
   "cell_type": "markdown",
   "metadata": {},
   "source": [
    "### Fill: Draw Plots\n",
    "- if the indicator is updated only preiodically (bi-weekly, monthly, quarterly) the the graph will appear blocky"
   ]
  },
  {
   "cell_type": "raw",
   "metadata": {},
   "source": [
    "using Plots\n",
    "count = size(df)[1]\n",
    "rows = 1:count\n",
    "dates = format_dates( df[rows,2] , \"m/d/yy\")\n",
    "\n",
    "gr()\n",
    "plot(          dates, # x-axis: dates\n",
    "               [  df[rows,3]    ], # y-axis\n",
    "    label    = [ columns[3]    \"\"  ],\n",
    "    legend   =:topleft, \n",
    "              # :right, :left, :top, :bottom, :inside, :best, :legend, :topright, :topleft, :bottomleft, :bottomright\n",
    "    xlabel   = \"time\",\n",
    "    ylabel   = \"indicators\",\n",
    "    size     = (980, 400), # width, height\n",
    "    layout = (1, 1) # number of graphs: vertically, horizontally\n",
    "    )"
   ]
  },
  {
   "cell_type": "markdown",
   "metadata": {},
   "source": [
    "## Averages"
   ]
  },
  {
   "cell_type": "code",
   "execution_count": 9,
   "metadata": {
    "ExecuteTime": {
     "end_time": "2020-11-29T13:48:05.220000-05:00",
     "start_time": "2020-11-29T18:47:39.049Z"
    }
   },
   "outputs": [
    {
     "name": "stdout",
     "output_type": "stream",
     "text": [
      "\n"
     ]
    }
   ],
   "source": [
    "column_to_average = 3\n",
    "averages005 = calculate_average(df, 5,   column_to_average )\n",
    "averages030 = calculate_average(df, 30,  column_to_average )\n",
    "averages090 = calculate_average(df, 90,  column_to_average )\n",
    "averages180 = calculate_average(df, 180, column_to_average )\n",
    "averages365 = calculate_average(df, 365, column_to_average )\n",
    "println()"
   ]
  },
  {
   "cell_type": "markdown",
   "metadata": {},
   "source": [
    "### Averages: Draw Plots"
   ]
  },
  {
   "cell_type": "code",
   "execution_count": 10,
   "metadata": {
    "ExecuteTime": {
     "end_time": "2020-11-29T13:48:39.570000-05:00",
     "start_time": "2020-11-29T18:47:39.053Z"
    }
   },
   "outputs": [
    {
     "data": {
      "image/svg+xml": [
       "<?xml version=\"1.0\" encoding=\"utf-8\"?>\n",
       "<svg xmlns=\"http://www.w3.org/2000/svg\" xmlns:xlink=\"http://www.w3.org/1999/xlink\" width=\"980\" height=\"400\" viewBox=\"0 0 3920 1600\">\n",
       "<defs>\n",
       "  <clipPath id=\"clip8000\">\n",
       "    <rect x=\"0\" y=\"0\" width=\"3920\" height=\"1600\"/>\n",
       "  </clipPath>\n",
       "</defs>\n",
       "<path clip-path=\"url(#clip8000)\" d=\"\n",
       "M0 1600 L3920 1600 L3920 0 L0 0  Z\n",
       "  \" fill=\"#ffffff\" fill-rule=\"evenodd\" fill-opacity=\"1\"/>\n",
       "<defs>\n",
       "  <clipPath id=\"clip8001\">\n",
       "    <rect x=\"784\" y=\"0\" width=\"2745\" height=\"1600\"/>\n",
       "  </clipPath>\n",
       "</defs>\n",
       "<path clip-path=\"url(#clip8000)\" d=\"\n",
       "M224.866 1423.18 L3872.76 1423.18 L3872.76 47.2441 L224.866 47.2441  Z\n",
       "  \" fill=\"#ffffff\" fill-rule=\"evenodd\" fill-opacity=\"1\"/>\n",
       "<defs>\n",
       "  <clipPath id=\"clip8002\">\n",
       "    <rect x=\"224\" y=\"47\" width=\"3649\" height=\"1377\"/>\n",
       "  </clipPath>\n",
       "</defs>\n",
       "<polyline clip-path=\"url(#clip8002)\" style=\"stroke:#000000; stroke-width:2; stroke-opacity:0.1; fill:none\" points=\"\n",
       "  328.108,1423.18 328.108,47.2441 \n",
       "  \"/>\n",
       "<polyline clip-path=\"url(#clip8002)\" style=\"stroke:#000000; stroke-width:2; stroke-opacity:0.1; fill:none\" points=\"\n",
       "  573.25,1423.18 573.25,47.2441 \n",
       "  \"/>\n",
       "<polyline clip-path=\"url(#clip8002)\" style=\"stroke:#000000; stroke-width:2; stroke-opacity:0.1; fill:none\" points=\"\n",
       "  820.748,1423.18 820.748,47.2441 \n",
       "  \"/>\n",
       "<polyline clip-path=\"url(#clip8002)\" style=\"stroke:#000000; stroke-width:2; stroke-opacity:0.1; fill:none\" points=\"\n",
       "  1065.89,1423.18 1065.89,47.2441 \n",
       "  \"/>\n",
       "<polyline clip-path=\"url(#clip8002)\" style=\"stroke:#000000; stroke-width:2; stroke-opacity:0.1; fill:none\" points=\"\n",
       "  1311.03,1423.18 1311.03,47.2441 \n",
       "  \"/>\n",
       "<polyline clip-path=\"url(#clip8002)\" style=\"stroke:#000000; stroke-width:2; stroke-opacity:0.1; fill:none\" points=\"\n",
       "  1556.17,1423.18 1556.17,47.2441 \n",
       "  \"/>\n",
       "<polyline clip-path=\"url(#clip8002)\" style=\"stroke:#000000; stroke-width:2; stroke-opacity:0.1; fill:none\" points=\"\n",
       "  1803.67,1423.18 1803.67,47.2441 \n",
       "  \"/>\n",
       "<polyline clip-path=\"url(#clip8002)\" style=\"stroke:#000000; stroke-width:2; stroke-opacity:0.1; fill:none\" points=\"\n",
       "  2048.81,1423.18 2048.81,47.2441 \n",
       "  \"/>\n",
       "<polyline clip-path=\"url(#clip8002)\" style=\"stroke:#000000; stroke-width:2; stroke-opacity:0.1; fill:none\" points=\"\n",
       "  2293.95,1423.18 2293.95,47.2441 \n",
       "  \"/>\n",
       "<polyline clip-path=\"url(#clip8002)\" style=\"stroke:#000000; stroke-width:2; stroke-opacity:0.1; fill:none\" points=\"\n",
       "  2541.45,1423.18 2541.45,47.2441 \n",
       "  \"/>\n",
       "<polyline clip-path=\"url(#clip8002)\" style=\"stroke:#000000; stroke-width:2; stroke-opacity:0.1; fill:none\" points=\"\n",
       "  2786.59,1423.18 2786.59,47.2441 \n",
       "  \"/>\n",
       "<polyline clip-path=\"url(#clip8002)\" style=\"stroke:#000000; stroke-width:2; stroke-opacity:0.1; fill:none\" points=\"\n",
       "  3031.73,1423.18 3031.73,47.2441 \n",
       "  \"/>\n",
       "<polyline clip-path=\"url(#clip8002)\" style=\"stroke:#000000; stroke-width:2; stroke-opacity:0.1; fill:none\" points=\"\n",
       "  3276.87,1423.18 3276.87,47.2441 \n",
       "  \"/>\n",
       "<polyline clip-path=\"url(#clip8002)\" style=\"stroke:#000000; stroke-width:2; stroke-opacity:0.1; fill:none\" points=\"\n",
       "  3524.37,1423.18 3524.37,47.2441 \n",
       "  \"/>\n",
       "<polyline clip-path=\"url(#clip8002)\" style=\"stroke:#000000; stroke-width:2; stroke-opacity:0.1; fill:none\" points=\"\n",
       "  3769.51,1423.18 3769.51,47.2441 \n",
       "  \"/>\n",
       "<polyline clip-path=\"url(#clip8002)\" style=\"stroke:#000000; stroke-width:2; stroke-opacity:0.1; fill:none\" points=\"\n",
       "  224.866,1303.67 3872.76,1303.67 \n",
       "  \"/>\n",
       "<polyline clip-path=\"url(#clip8002)\" style=\"stroke:#000000; stroke-width:2; stroke-opacity:0.1; fill:none\" points=\"\n",
       "  224.866,1005.27 3872.76,1005.27 \n",
       "  \"/>\n",
       "<polyline clip-path=\"url(#clip8002)\" style=\"stroke:#000000; stroke-width:2; stroke-opacity:0.1; fill:none\" points=\"\n",
       "  224.866,706.864 3872.76,706.864 \n",
       "  \"/>\n",
       "<polyline clip-path=\"url(#clip8002)\" style=\"stroke:#000000; stroke-width:2; stroke-opacity:0.1; fill:none\" points=\"\n",
       "  224.866,408.461 3872.76,408.461 \n",
       "  \"/>\n",
       "<polyline clip-path=\"url(#clip8002)\" style=\"stroke:#000000; stroke-width:2; stroke-opacity:0.1; fill:none\" points=\"\n",
       "  224.866,110.058 3872.76,110.058 \n",
       "  \"/>\n",
       "<polyline clip-path=\"url(#clip8000)\" style=\"stroke:#000000; stroke-width:4; stroke-opacity:1; fill:none\" points=\"\n",
       "  224.866,1423.18 3872.76,1423.18 \n",
       "  \"/>\n",
       "<polyline clip-path=\"url(#clip8000)\" style=\"stroke:#000000; stroke-width:4; stroke-opacity:1; fill:none\" points=\"\n",
       "  224.866,1423.18 224.866,47.2441 \n",
       "  \"/>\n",
       "<polyline clip-path=\"url(#clip8000)\" style=\"stroke:#000000; stroke-width:4; stroke-opacity:1; fill:none\" points=\"\n",
       "  328.108,1423.18 328.108,1406.67 \n",
       "  \"/>\n",
       "<polyline clip-path=\"url(#clip8000)\" style=\"stroke:#000000; stroke-width:4; stroke-opacity:1; fill:none\" points=\"\n",
       "  573.25,1423.18 573.25,1406.67 \n",
       "  \"/>\n",
       "<polyline clip-path=\"url(#clip8000)\" style=\"stroke:#000000; stroke-width:4; stroke-opacity:1; fill:none\" points=\"\n",
       "  820.748,1423.18 820.748,1406.67 \n",
       "  \"/>\n",
       "<polyline clip-path=\"url(#clip8000)\" style=\"stroke:#000000; stroke-width:4; stroke-opacity:1; fill:none\" points=\"\n",
       "  1065.89,1423.18 1065.89,1406.67 \n",
       "  \"/>\n",
       "<polyline clip-path=\"url(#clip8000)\" style=\"stroke:#000000; stroke-width:4; stroke-opacity:1; fill:none\" points=\"\n",
       "  1311.03,1423.18 1311.03,1406.67 \n",
       "  \"/>\n",
       "<polyline clip-path=\"url(#clip8000)\" style=\"stroke:#000000; stroke-width:4; stroke-opacity:1; fill:none\" points=\"\n",
       "  1556.17,1423.18 1556.17,1406.67 \n",
       "  \"/>\n",
       "<polyline clip-path=\"url(#clip8000)\" style=\"stroke:#000000; stroke-width:4; stroke-opacity:1; fill:none\" points=\"\n",
       "  1803.67,1423.18 1803.67,1406.67 \n",
       "  \"/>\n",
       "<polyline clip-path=\"url(#clip8000)\" style=\"stroke:#000000; stroke-width:4; stroke-opacity:1; fill:none\" points=\"\n",
       "  2048.81,1423.18 2048.81,1406.67 \n",
       "  \"/>\n",
       "<polyline clip-path=\"url(#clip8000)\" style=\"stroke:#000000; stroke-width:4; stroke-opacity:1; fill:none\" points=\"\n",
       "  2293.95,1423.18 2293.95,1406.67 \n",
       "  \"/>\n",
       "<polyline clip-path=\"url(#clip8000)\" style=\"stroke:#000000; stroke-width:4; stroke-opacity:1; fill:none\" points=\"\n",
       "  2541.45,1423.18 2541.45,1406.67 \n",
       "  \"/>\n",
       "<polyline clip-path=\"url(#clip8000)\" style=\"stroke:#000000; stroke-width:4; stroke-opacity:1; fill:none\" points=\"\n",
       "  2786.59,1423.18 2786.59,1406.67 \n",
       "  \"/>\n",
       "<polyline clip-path=\"url(#clip8000)\" style=\"stroke:#000000; stroke-width:4; stroke-opacity:1; fill:none\" points=\"\n",
       "  3031.73,1423.18 3031.73,1406.67 \n",
       "  \"/>\n",
       "<polyline clip-path=\"url(#clip8000)\" style=\"stroke:#000000; stroke-width:4; stroke-opacity:1; fill:none\" points=\"\n",
       "  3276.87,1423.18 3276.87,1406.67 \n",
       "  \"/>\n",
       "<polyline clip-path=\"url(#clip8000)\" style=\"stroke:#000000; stroke-width:4; stroke-opacity:1; fill:none\" points=\"\n",
       "  3524.37,1423.18 3524.37,1406.67 \n",
       "  \"/>\n",
       "<polyline clip-path=\"url(#clip8000)\" style=\"stroke:#000000; stroke-width:4; stroke-opacity:1; fill:none\" points=\"\n",
       "  3769.51,1423.18 3769.51,1406.67 \n",
       "  \"/>\n",
       "<polyline clip-path=\"url(#clip8000)\" style=\"stroke:#000000; stroke-width:4; stroke-opacity:1; fill:none\" points=\"\n",
       "  224.866,1303.67 268.641,1303.67 \n",
       "  \"/>\n",
       "<polyline clip-path=\"url(#clip8000)\" style=\"stroke:#000000; stroke-width:4; stroke-opacity:1; fill:none\" points=\"\n",
       "  224.866,1005.27 268.641,1005.27 \n",
       "  \"/>\n",
       "<polyline clip-path=\"url(#clip8000)\" style=\"stroke:#000000; stroke-width:4; stroke-opacity:1; fill:none\" points=\"\n",
       "  224.866,706.864 268.641,706.864 \n",
       "  \"/>\n",
       "<polyline clip-path=\"url(#clip8000)\" style=\"stroke:#000000; stroke-width:4; stroke-opacity:1; fill:none\" points=\"\n",
       "  224.866,408.461 268.641,408.461 \n",
       "  \"/>\n",
       "<polyline clip-path=\"url(#clip8000)\" style=\"stroke:#000000; stroke-width:4; stroke-opacity:1; fill:none\" points=\"\n",
       "  224.866,110.058 268.641,110.058 \n",
       "  \"/>\n",
       "<path clip-path=\"url(#clip8000)\" d=\"M 0 0 M236.975 1480.32 L244.613 1480.32 L244.613 1453.95 L236.303 1455.62 L236.303 1451.36 L244.567 1449.69 L249.243 1449.69 L249.243 1480.32 L256.882 1480.32 L256.882 1484.25 L236.975 1484.25 L236.975 1480.32 Z\" fill=\"#000000\" fill-rule=\"evenodd\" fill-opacity=\"1\" /><path clip-path=\"url(#clip8000)\" d=\"M 0 0 M262.762 1480.32 L270.4 1480.32 L270.4 1453.95 L262.09 1455.62 L262.09 1451.36 L270.354 1449.69 L275.03 1449.69 L275.03 1480.32 L282.669 1480.32 L282.669 1484.25 L262.762 1484.25 L262.762 1480.32 Z\" fill=\"#000000\" fill-rule=\"evenodd\" fill-opacity=\"1\" /><path clip-path=\"url(#clip8000)\" d=\"M 0 0 M294.706 1449.69 L298.641 1449.69 L286.604 1488.65 L282.669 1488.65 L294.706 1449.69 Z\" fill=\"#000000\" fill-rule=\"evenodd\" fill-opacity=\"1\" /><path clip-path=\"url(#clip8000)\" d=\"M 0 0 M307.738 1480.32 L324.057 1480.32 L324.057 1484.25 L302.113 1484.25 L302.113 1480.32 Q304.775 1477.56 309.359 1472.93 Q313.965 1468.28 315.146 1466.94 Q317.391 1464.41 318.27 1462.68 Q319.173 1460.92 319.173 1459.23 Q319.173 1456.47 317.229 1454.74 Q315.308 1453 312.206 1453 Q310.007 1453 307.553 1453.77 Q305.122 1454.53 302.345 1456.08 L302.345 1451.36 Q305.169 1450.22 307.622 1449.65 Q310.076 1449.07 312.113 1449.07 Q317.483 1449.07 320.678 1451.75 Q323.872 1454.44 323.872 1458.93 Q323.872 1461.06 323.062 1462.98 Q322.275 1464.88 320.169 1467.47 Q319.59 1468.14 316.488 1471.36 Q313.386 1474.55 307.738 1480.32 Z\" fill=\"#000000\" fill-rule=\"evenodd\" fill-opacity=\"1\" /><path clip-path=\"url(#clip8000)\" d=\"M 0 0 M339.127 1467.84 Q335.794 1467.84 333.872 1469.62 Q331.974 1471.4 331.974 1474.53 Q331.974 1477.65 333.872 1479.44 Q335.794 1481.22 339.127 1481.22 Q342.46 1481.22 344.381 1479.44 Q346.303 1477.63 346.303 1474.53 Q346.303 1471.4 344.381 1469.62 Q342.483 1467.84 339.127 1467.84 M334.451 1465.85 Q331.442 1465.11 329.752 1463.05 Q328.085 1460.99 328.085 1458.03 Q328.085 1453.88 331.025 1451.47 Q333.988 1449.07 339.127 1449.07 Q344.289 1449.07 347.229 1451.47 Q350.168 1453.88 350.168 1458.03 Q350.168 1460.99 348.479 1463.05 Q346.812 1465.11 343.826 1465.85 Q347.206 1466.64 349.081 1468.93 Q350.979 1471.22 350.979 1474.53 Q350.979 1479.55 347.9 1482.24 Q344.844 1484.92 339.127 1484.92 Q333.409 1484.92 330.331 1482.24 Q327.275 1479.55 327.275 1474.53 Q327.275 1471.22 329.173 1468.93 Q331.071 1466.64 334.451 1465.85 M332.738 1458.46 Q332.738 1461.15 334.405 1462.65 Q336.094 1464.16 339.127 1464.16 Q342.136 1464.16 343.826 1462.65 Q345.539 1461.15 345.539 1458.46 Q345.539 1455.78 343.826 1454.28 Q342.136 1452.77 339.127 1452.77 Q336.094 1452.77 334.405 1454.28 Q332.738 1455.78 332.738 1458.46 Z\" fill=\"#000000\" fill-rule=\"evenodd\" fill-opacity=\"1\" /><path clip-path=\"url(#clip8000)\" d=\"M 0 0 M363.016 1449.69 L366.951 1449.69 L354.914 1488.65 L350.979 1488.65 L363.016 1449.69 Z\" fill=\"#000000\" fill-rule=\"evenodd\" fill-opacity=\"1\" /><path clip-path=\"url(#clip8000)\" d=\"M 0 0 M372.83 1480.32 L380.469 1480.32 L380.469 1453.95 L372.159 1455.62 L372.159 1451.36 L380.423 1449.69 L385.099 1449.69 L385.099 1480.32 L392.738 1480.32 L392.738 1484.25 L372.83 1484.25 L372.83 1480.32 Z\" fill=\"#000000\" fill-rule=\"evenodd\" fill-opacity=\"1\" /><path clip-path=\"url(#clip8000)\" d=\"M 0 0 M408.386 1465.11 Q405.238 1465.11 403.386 1467.26 Q401.557 1469.41 401.557 1473.16 Q401.557 1476.89 403.386 1479.07 Q405.238 1481.22 408.386 1481.22 Q411.534 1481.22 413.363 1479.07 Q415.214 1476.89 415.214 1473.16 Q415.214 1469.41 413.363 1467.26 Q411.534 1465.11 408.386 1465.11 M417.668 1450.46 L417.668 1454.71 Q415.909 1453.88 414.103 1453.44 Q412.321 1453 410.562 1453 Q405.932 1453 403.478 1456.13 Q401.048 1459.25 400.701 1465.57 Q402.066 1463.56 404.127 1462.49 Q406.187 1461.4 408.664 1461.4 Q413.872 1461.4 416.881 1464.58 Q419.913 1467.72 419.913 1473.16 Q419.913 1478.49 416.765 1481.71 Q413.617 1484.92 408.386 1484.92 Q402.39 1484.92 399.219 1480.34 Q396.048 1475.73 396.048 1467.01 Q396.048 1458.81 399.937 1453.95 Q403.826 1449.07 410.376 1449.07 Q412.136 1449.07 413.918 1449.41 Q415.724 1449.76 417.668 1450.46 Z\" fill=\"#000000\" fill-rule=\"evenodd\" fill-opacity=\"1\" /><path clip-path=\"url(#clip8000)\" d=\"M 0 0 M509.974 1465.62 Q513.331 1466.34 515.206 1468.6 Q517.104 1470.87 517.104 1474.21 Q517.104 1479.32 513.586 1482.12 Q510.067 1484.92 503.586 1484.92 Q501.41 1484.92 499.095 1484.48 Q496.803 1484.07 494.35 1483.21 L494.35 1478.7 Q496.294 1479.83 498.609 1480.41 Q500.924 1480.99 503.447 1480.99 Q507.845 1480.99 510.137 1479.25 Q512.451 1477.52 512.451 1474.21 Q512.451 1471.15 510.299 1469.44 Q508.169 1467.7 504.35 1467.7 L500.322 1467.7 L500.322 1463.86 L504.535 1463.86 Q507.984 1463.86 509.812 1462.49 Q511.641 1461.1 511.641 1458.51 Q511.641 1455.85 509.743 1454.44 Q507.868 1453 504.35 1453 Q502.428 1453 500.229 1453.42 Q498.03 1453.84 495.391 1454.71 L495.391 1450.55 Q498.053 1449.81 500.368 1449.44 Q502.706 1449.07 504.766 1449.07 Q510.09 1449.07 513.192 1451.5 Q516.294 1453.9 516.294 1458.03 Q516.294 1460.9 514.65 1462.89 Q513.007 1464.85 509.974 1465.62 Z\" fill=\"#000000\" fill-rule=\"evenodd\" fill-opacity=\"1\" /><path clip-path=\"url(#clip8000)\" d=\"M 0 0 M529.141 1449.69 L533.076 1449.69 L521.039 1488.65 L517.104 1488.65 L529.141 1449.69 Z\" fill=\"#000000\" fill-rule=\"evenodd\" fill-opacity=\"1\" /><path clip-path=\"url(#clip8000)\" d=\"M 0 0 M538.956 1480.32 L546.595 1480.32 L546.595 1453.95 L538.285 1455.62 L538.285 1451.36 L546.548 1449.69 L551.224 1449.69 L551.224 1480.32 L558.863 1480.32 L558.863 1484.25 L538.956 1484.25 L538.956 1480.32 Z\" fill=\"#000000\" fill-rule=\"evenodd\" fill-opacity=\"1\" /><path clip-path=\"url(#clip8000)\" d=\"M 0 0 M567.96 1480.32 L584.28 1480.32 L584.28 1484.25 L562.335 1484.25 L562.335 1480.32 Q564.997 1477.56 569.581 1472.93 Q574.187 1468.28 575.368 1466.94 Q577.613 1464.41 578.493 1462.68 Q579.395 1460.92 579.395 1459.23 Q579.395 1456.47 577.451 1454.74 Q575.53 1453 572.428 1453 Q570.229 1453 567.775 1453.77 Q565.345 1454.53 562.567 1456.08 L562.567 1451.36 Q565.391 1450.22 567.845 1449.65 Q570.298 1449.07 572.335 1449.07 Q577.706 1449.07 580.9 1451.75 Q584.094 1454.44 584.094 1458.93 Q584.094 1461.06 583.284 1462.98 Q582.497 1464.88 580.391 1467.47 Q579.812 1468.14 576.71 1471.36 Q573.608 1474.55 567.96 1480.32 Z\" fill=\"#000000\" fill-rule=\"evenodd\" fill-opacity=\"1\" /><path clip-path=\"url(#clip8000)\" d=\"M 0 0 M596.317 1449.69 L600.252 1449.69 L588.215 1488.65 L584.28 1488.65 L596.317 1449.69 Z\" fill=\"#000000\" fill-rule=\"evenodd\" fill-opacity=\"1\" /><path clip-path=\"url(#clip8000)\" d=\"M 0 0 M606.131 1480.32 L613.77 1480.32 L613.77 1453.95 L605.46 1455.62 L605.46 1451.36 L613.724 1449.69 L618.4 1449.69 L618.4 1480.32 L626.039 1480.32 L626.039 1484.25 L606.131 1484.25 L606.131 1480.32 Z\" fill=\"#000000\" fill-rule=\"evenodd\" fill-opacity=\"1\" /><path clip-path=\"url(#clip8000)\" d=\"M 0 0 M629.928 1449.69 L652.15 1449.69 L652.15 1451.68 L639.603 1484.25 L634.719 1484.25 L646.525 1453.63 L629.928 1453.63 L629.928 1449.69 Z\" fill=\"#000000\" fill-rule=\"evenodd\" fill-opacity=\"1\" /><path clip-path=\"url(#clip8000)\" d=\"M 0 0 M753.514 1465.11 Q750.366 1465.11 748.515 1467.26 Q746.686 1469.41 746.686 1473.16 Q746.686 1476.89 748.515 1479.07 Q750.366 1481.22 753.514 1481.22 Q756.663 1481.22 758.491 1479.07 Q760.343 1476.89 760.343 1473.16 Q760.343 1469.41 758.491 1467.26 Q756.663 1465.11 753.514 1465.11 M762.797 1450.46 L762.797 1454.71 Q761.038 1453.88 759.232 1453.44 Q757.45 1453 755.69 1453 Q751.061 1453 748.607 1456.13 Q746.177 1459.25 745.829 1465.57 Q747.195 1463.56 749.255 1462.49 Q751.315 1461.4 753.792 1461.4 Q759.001 1461.4 762.01 1464.58 Q765.042 1467.72 765.042 1473.16 Q765.042 1478.49 761.894 1481.71 Q758.746 1484.92 753.514 1484.92 Q747.519 1484.92 744.348 1480.34 Q741.177 1475.73 741.177 1467.01 Q741.177 1458.81 745.065 1453.95 Q748.954 1449.07 755.505 1449.07 Q757.264 1449.07 759.047 1449.41 Q760.852 1449.76 762.797 1450.46 Z\" fill=\"#000000\" fill-rule=\"evenodd\" fill-opacity=\"1\" /><path clip-path=\"url(#clip8000)\" d=\"M 0 0 M777.079 1449.69 L781.014 1449.69 L768.977 1488.65 L765.042 1488.65 L777.079 1449.69 Z\" fill=\"#000000\" fill-rule=\"evenodd\" fill-opacity=\"1\" /><path clip-path=\"url(#clip8000)\" d=\"M 0 0 M790.112 1480.32 L806.431 1480.32 L806.431 1484.25 L784.487 1484.25 L784.487 1480.32 Q787.149 1477.56 791.732 1472.93 Q796.338 1468.28 797.519 1466.94 Q799.764 1464.41 800.644 1462.68 Q801.547 1460.92 801.547 1459.23 Q801.547 1456.47 799.602 1454.74 Q797.681 1453 794.579 1453 Q792.38 1453 789.926 1453.77 Q787.496 1454.53 784.718 1456.08 L784.718 1451.36 Q787.542 1450.22 789.996 1449.65 Q792.449 1449.07 794.486 1449.07 Q799.857 1449.07 803.051 1451.75 Q806.246 1454.44 806.246 1458.93 Q806.246 1461.06 805.436 1462.98 Q804.648 1464.88 802.542 1467.47 Q801.963 1468.14 798.861 1471.36 Q795.76 1474.55 790.112 1480.32 Z\" fill=\"#000000\" fill-rule=\"evenodd\" fill-opacity=\"1\" /><path clip-path=\"url(#clip8000)\" d=\"M 0 0 M811.547 1449.69 L829.903 1449.69 L829.903 1453.63 L815.829 1453.63 L815.829 1462.1 Q816.847 1461.75 817.866 1461.59 Q818.885 1461.4 819.903 1461.4 Q825.69 1461.4 829.07 1464.58 Q832.449 1467.75 832.449 1473.16 Q832.449 1478.74 828.977 1481.84 Q825.505 1484.92 819.185 1484.92 Q817.01 1484.92 814.741 1484.55 Q812.496 1484.18 810.088 1483.44 L810.088 1478.74 Q812.172 1479.88 814.394 1480.43 Q816.616 1480.99 819.093 1480.99 Q823.097 1480.99 825.435 1478.88 Q827.773 1476.78 827.773 1473.16 Q827.773 1469.55 825.435 1467.45 Q823.097 1465.34 819.093 1465.34 Q817.218 1465.34 815.343 1465.76 Q813.491 1466.17 811.547 1467.05 L811.547 1449.69 Z\" fill=\"#000000\" fill-rule=\"evenodd\" fill-opacity=\"1\" /><path clip-path=\"url(#clip8000)\" d=\"M 0 0 M844.486 1449.69 L848.421 1449.69 L836.384 1488.65 L832.449 1488.65 L844.486 1449.69 Z\" fill=\"#000000\" fill-rule=\"evenodd\" fill-opacity=\"1\" /><path clip-path=\"url(#clip8000)\" d=\"M 0 0 M854.301 1480.32 L861.94 1480.32 L861.94 1453.95 L853.63 1455.62 L853.63 1451.36 L861.894 1449.69 L866.569 1449.69 L866.569 1480.32 L874.208 1480.32 L874.208 1484.25 L854.301 1484.25 L854.301 1480.32 Z\" fill=\"#000000\" fill-rule=\"evenodd\" fill-opacity=\"1\" /><path clip-path=\"url(#clip8000)\" d=\"M 0 0 M878.097 1449.69 L900.319 1449.69 L900.319 1451.68 L887.773 1484.25 L882.889 1484.25 L894.694 1453.63 L878.097 1453.63 L878.097 1449.69 Z\" fill=\"#000000\" fill-rule=\"evenodd\" fill-opacity=\"1\" /><path clip-path=\"url(#clip8000)\" d=\"M 0 0 M987.788 1480.32 L995.427 1480.32 L995.427 1453.95 L987.116 1455.62 L987.116 1451.36 L995.38 1449.69 L1000.06 1449.69 L1000.06 1480.32 L1007.7 1480.32 L1007.7 1484.25 L987.788 1484.25 L987.788 1480.32 Z\" fill=\"#000000\" fill-rule=\"evenodd\" fill-opacity=\"1\" /><path clip-path=\"url(#clip8000)\" d=\"M 0 0 M1022.76 1452.77 Q1019.15 1452.77 1017.32 1456.34 Q1015.52 1459.88 1015.52 1467.01 Q1015.52 1474.11 1017.32 1477.68 Q1019.15 1481.22 1022.76 1481.22 Q1026.4 1481.22 1028.2 1477.68 Q1030.03 1474.11 1030.03 1467.01 Q1030.03 1459.88 1028.2 1456.34 Q1026.4 1452.77 1022.76 1452.77 M1022.76 1449.07 Q1028.57 1449.07 1031.63 1453.67 Q1034.71 1458.26 1034.71 1467.01 Q1034.71 1475.73 1031.63 1480.34 Q1028.57 1484.92 1022.76 1484.92 Q1016.95 1484.92 1013.88 1480.34 Q1010.82 1475.73 1010.82 1467.01 Q1010.82 1458.26 1013.88 1453.67 Q1016.95 1449.07 1022.76 1449.07 Z\" fill=\"#000000\" fill-rule=\"evenodd\" fill-opacity=\"1\" /><path clip-path=\"url(#clip8000)\" d=\"M 0 0 M1046.75 1449.69 L1050.68 1449.69 L1038.64 1488.65 L1034.71 1488.65 L1046.75 1449.69 Z\" fill=\"#000000\" fill-rule=\"evenodd\" fill-opacity=\"1\" /><path clip-path=\"url(#clip8000)\" d=\"M 0 0 M1054.57 1449.69 L1076.79 1449.69 L1076.79 1451.68 L1064.25 1484.25 L1059.36 1484.25 L1071.17 1453.63 L1054.57 1453.63 L1054.57 1449.69 Z\" fill=\"#000000\" fill-rule=\"evenodd\" fill-opacity=\"1\" /><path clip-path=\"url(#clip8000)\" d=\"M 0 0 M1088.83 1449.69 L1092.76 1449.69 L1080.73 1488.65 L1076.79 1488.65 L1088.83 1449.69 Z\" fill=\"#000000\" fill-rule=\"evenodd\" fill-opacity=\"1\" /><path clip-path=\"url(#clip8000)\" d=\"M 0 0 M1098.64 1480.32 L1106.28 1480.32 L1106.28 1453.95 L1097.97 1455.62 L1097.97 1451.36 L1106.24 1449.69 L1110.91 1449.69 L1110.91 1480.32 L1118.55 1480.32 L1118.55 1484.25 L1098.64 1484.25 L1098.64 1480.32 Z\" fill=\"#000000\" fill-rule=\"evenodd\" fill-opacity=\"1\" /><path clip-path=\"url(#clip8000)\" d=\"M 0 0 M1122.44 1449.69 L1144.66 1449.69 L1144.66 1451.68 L1132.12 1484.25 L1127.23 1484.25 L1139.04 1453.63 L1122.44 1453.63 L1122.44 1449.69 Z\" fill=\"#000000\" fill-rule=\"evenodd\" fill-opacity=\"1\" /><path clip-path=\"url(#clip8000)\" d=\"M 0 0 M1232.78 1480.32 L1240.42 1480.32 L1240.42 1453.95 L1232.11 1455.62 L1232.11 1451.36 L1240.37 1449.69 L1245.05 1449.69 L1245.05 1480.32 L1252.69 1480.32 L1252.69 1484.25 L1232.78 1484.25 L1232.78 1480.32 Z\" fill=\"#000000\" fill-rule=\"evenodd\" fill-opacity=\"1\" /><path clip-path=\"url(#clip8000)\" d=\"M 0 0 M1264.72 1449.69 L1268.66 1449.69 L1256.62 1488.65 L1252.69 1488.65 L1264.72 1449.69 Z\" fill=\"#000000\" fill-rule=\"evenodd\" fill-opacity=\"1\" /><path clip-path=\"url(#clip8000)\" d=\"M 0 0 M1274.54 1480.32 L1282.18 1480.32 L1282.18 1453.95 L1273.87 1455.62 L1273.87 1451.36 L1282.13 1449.69 L1286.81 1449.69 L1286.81 1480.32 L1294.44 1480.32 L1294.44 1484.25 L1274.54 1484.25 L1274.54 1480.32 Z\" fill=\"#000000\" fill-rule=\"evenodd\" fill-opacity=\"1\" /><path clip-path=\"url(#clip8000)\" d=\"M 0 0 M1299.65 1483.53 L1299.65 1479.28 Q1301.41 1480.11 1303.22 1480.55 Q1305.02 1480.99 1306.76 1480.99 Q1311.39 1480.99 1313.82 1477.89 Q1316.27 1474.76 1316.62 1468.42 Q1315.28 1470.41 1313.22 1471.47 Q1311.16 1472.54 1308.66 1472.54 Q1303.47 1472.54 1300.44 1469.41 Q1297.43 1466.27 1297.43 1460.83 Q1297.43 1455.5 1300.58 1452.28 Q1303.73 1449.07 1308.96 1449.07 Q1314.95 1449.07 1318.1 1453.67 Q1321.27 1458.26 1321.27 1467.01 Q1321.27 1475.18 1317.38 1480.06 Q1313.52 1484.92 1306.97 1484.92 Q1305.21 1484.92 1303.4 1484.58 Q1301.6 1484.23 1299.65 1483.53 M1308.96 1468.88 Q1312.11 1468.88 1313.94 1466.73 Q1315.79 1464.58 1315.79 1460.83 Q1315.79 1457.1 1313.94 1454.95 Q1312.11 1452.77 1308.96 1452.77 Q1305.81 1452.77 1303.96 1454.95 Q1302.13 1457.1 1302.13 1460.83 Q1302.13 1464.58 1303.96 1466.73 Q1305.81 1468.88 1308.96 1468.88 Z\" fill=\"#000000\" fill-rule=\"evenodd\" fill-opacity=\"1\" /><path clip-path=\"url(#clip8000)\" d=\"M 0 0 M1333.31 1449.69 L1337.25 1449.69 L1325.21 1488.65 L1321.27 1488.65 L1333.31 1449.69 Z\" fill=\"#000000\" fill-rule=\"evenodd\" fill-opacity=\"1\" /><path clip-path=\"url(#clip8000)\" d=\"M 0 0 M1343.13 1480.32 L1350.76 1480.32 L1350.76 1453.95 L1342.45 1455.62 L1342.45 1451.36 L1350.72 1449.69 L1355.39 1449.69 L1355.39 1480.32 L1363.03 1480.32 L1363.03 1484.25 L1343.13 1484.25 L1343.13 1480.32 Z\" fill=\"#000000\" fill-rule=\"evenodd\" fill-opacity=\"1\" /><path clip-path=\"url(#clip8000)\" d=\"M 0 0 M1378.1 1467.84 Q1374.77 1467.84 1372.85 1469.62 Q1370.95 1471.4 1370.95 1474.53 Q1370.95 1477.65 1372.85 1479.44 Q1374.77 1481.22 1378.1 1481.22 Q1381.44 1481.22 1383.36 1479.44 Q1385.28 1477.63 1385.28 1474.53 Q1385.28 1471.4 1383.36 1469.62 Q1381.46 1467.84 1378.1 1467.84 M1373.43 1465.85 Q1370.42 1465.11 1368.73 1463.05 Q1367.06 1460.99 1367.06 1458.03 Q1367.06 1453.88 1370 1451.47 Q1372.96 1449.07 1378.1 1449.07 Q1383.26 1449.07 1386.2 1451.47 Q1389.14 1453.88 1389.14 1458.03 Q1389.14 1460.99 1387.45 1463.05 Q1385.79 1465.11 1382.8 1465.85 Q1386.18 1466.64 1388.06 1468.93 Q1389.95 1471.22 1389.95 1474.53 Q1389.95 1479.55 1386.87 1482.24 Q1383.82 1484.92 1378.1 1484.92 Q1372.38 1484.92 1369.31 1482.24 Q1366.25 1479.55 1366.25 1474.53 Q1366.25 1471.22 1368.15 1468.93 Q1370.05 1466.64 1373.43 1465.85 M1371.71 1458.46 Q1371.71 1461.15 1373.38 1462.65 Q1375.07 1464.16 1378.1 1464.16 Q1381.11 1464.16 1382.8 1462.65 Q1384.51 1461.15 1384.51 1458.46 Q1384.51 1455.78 1382.8 1454.28 Q1381.11 1452.77 1378.1 1452.77 Q1375.07 1452.77 1373.38 1454.28 Q1371.71 1455.78 1371.71 1458.46 Z\" fill=\"#000000\" fill-rule=\"evenodd\" fill-opacity=\"1\" /><path clip-path=\"url(#clip8000)\" d=\"M 0 0 M1490.94 1449.69 L1509.3 1449.69 L1509.3 1453.63 L1495.22 1453.63 L1495.22 1462.1 Q1496.24 1461.75 1497.26 1461.59 Q1498.28 1461.4 1499.3 1461.4 Q1505.08 1461.4 1508.46 1464.58 Q1511.84 1467.75 1511.84 1473.16 Q1511.84 1478.74 1508.37 1481.84 Q1504.9 1484.92 1498.58 1484.92 Q1496.4 1484.92 1494.13 1484.55 Q1491.89 1484.18 1489.48 1483.44 L1489.48 1478.74 Q1491.57 1479.88 1493.79 1480.43 Q1496.01 1480.99 1498.49 1480.99 Q1502.49 1480.99 1504.83 1478.88 Q1507.17 1476.78 1507.17 1473.16 Q1507.17 1469.55 1504.83 1467.45 Q1502.49 1465.34 1498.49 1465.34 Q1496.61 1465.34 1494.74 1465.76 Q1492.88 1466.17 1490.94 1467.05 L1490.94 1449.69 Z\" fill=\"#000000\" fill-rule=\"evenodd\" fill-opacity=\"1\" /><path clip-path=\"url(#clip8000)\" d=\"M 0 0 M1523.88 1449.69 L1527.82 1449.69 L1515.78 1488.65 L1511.84 1488.65 L1523.88 1449.69 Z\" fill=\"#000000\" fill-rule=\"evenodd\" fill-opacity=\"1\" /><path clip-path=\"url(#clip8000)\" d=\"M 0 0 M1547.05 1465.62 Q1550.41 1466.34 1552.28 1468.6 Q1554.18 1470.87 1554.18 1474.21 Q1554.18 1479.32 1550.66 1482.12 Q1547.14 1484.92 1540.66 1484.92 Q1538.49 1484.92 1536.17 1484.48 Q1533.88 1484.07 1531.43 1483.21 L1531.43 1478.7 Q1533.37 1479.83 1535.69 1480.41 Q1538 1480.99 1540.52 1480.99 Q1544.92 1480.99 1547.21 1479.25 Q1549.53 1477.52 1549.53 1474.21 Q1549.53 1471.15 1547.38 1469.44 Q1545.25 1467.7 1541.43 1467.7 L1537.4 1467.7 L1537.4 1463.86 L1541.61 1463.86 Q1545.06 1463.86 1546.89 1462.49 Q1548.72 1461.1 1548.72 1458.51 Q1548.72 1455.85 1546.82 1454.44 Q1544.94 1453 1541.43 1453 Q1539.5 1453 1537.31 1453.42 Q1535.11 1453.84 1532.47 1454.71 L1532.47 1450.55 Q1535.13 1449.81 1537.44 1449.44 Q1539.78 1449.07 1541.84 1449.07 Q1547.17 1449.07 1550.27 1451.5 Q1553.37 1453.9 1553.37 1458.03 Q1553.37 1460.9 1551.73 1462.89 Q1550.08 1464.85 1547.05 1465.62 Z\" fill=\"#000000\" fill-rule=\"evenodd\" fill-opacity=\"1\" /><path clip-path=\"url(#clip8000)\" d=\"M 0 0 M1566.22 1449.69 L1570.15 1449.69 L1558.12 1488.65 L1554.18 1488.65 L1566.22 1449.69 Z\" fill=\"#000000\" fill-rule=\"evenodd\" fill-opacity=\"1\" /><path clip-path=\"url(#clip8000)\" d=\"M 0 0 M1576.03 1480.32 L1583.67 1480.32 L1583.67 1453.95 L1575.36 1455.62 L1575.36 1451.36 L1583.63 1449.69 L1588.3 1449.69 L1588.3 1480.32 L1595.94 1480.32 L1595.94 1484.25 L1576.03 1484.25 L1576.03 1480.32 Z\" fill=\"#000000\" fill-rule=\"evenodd\" fill-opacity=\"1\" /><path clip-path=\"url(#clip8000)\" d=\"M 0 0 M1611.01 1467.84 Q1607.68 1467.84 1605.75 1469.62 Q1603.86 1471.4 1603.86 1474.53 Q1603.86 1477.65 1605.75 1479.44 Q1607.68 1481.22 1611.01 1481.22 Q1614.34 1481.22 1616.26 1479.44 Q1618.19 1477.63 1618.19 1474.53 Q1618.19 1471.4 1616.26 1469.62 Q1614.37 1467.84 1611.01 1467.84 M1606.33 1465.85 Q1603.32 1465.11 1601.63 1463.05 Q1599.97 1460.99 1599.97 1458.03 Q1599.97 1453.88 1602.91 1451.47 Q1605.87 1449.07 1611.01 1449.07 Q1616.17 1449.07 1619.11 1451.47 Q1622.05 1453.88 1622.05 1458.03 Q1622.05 1460.99 1620.36 1463.05 Q1618.69 1465.11 1615.71 1465.85 Q1619.09 1466.64 1620.96 1468.93 Q1622.86 1471.22 1622.86 1474.53 Q1622.86 1479.55 1619.78 1482.24 Q1616.73 1484.92 1611.01 1484.92 Q1605.29 1484.92 1602.21 1482.24 Q1599.16 1479.55 1599.16 1474.53 Q1599.16 1471.22 1601.06 1468.93 Q1602.95 1466.64 1606.33 1465.85 M1604.62 1458.46 Q1604.62 1461.15 1606.29 1462.65 Q1607.98 1464.16 1611.01 1464.16 Q1614.02 1464.16 1615.71 1462.65 Q1617.42 1461.15 1617.42 1458.46 Q1617.42 1455.78 1615.71 1454.28 Q1614.02 1452.77 1611.01 1452.77 Q1607.98 1452.77 1606.29 1454.28 Q1604.62 1455.78 1604.62 1458.46 Z\" fill=\"#000000\" fill-rule=\"evenodd\" fill-opacity=\"1\" /><path clip-path=\"url(#clip8000)\" d=\"M 0 0 M1734.86 1467.84 Q1731.53 1467.84 1729.61 1469.62 Q1727.71 1471.4 1727.71 1474.53 Q1727.71 1477.65 1729.61 1479.44 Q1731.53 1481.22 1734.86 1481.22 Q1738.2 1481.22 1740.12 1479.44 Q1742.04 1477.63 1742.04 1474.53 Q1742.04 1471.4 1740.12 1469.62 Q1738.22 1467.84 1734.86 1467.84 M1730.19 1465.85 Q1727.18 1465.11 1725.49 1463.05 Q1723.82 1460.99 1723.82 1458.03 Q1723.82 1453.88 1726.76 1451.47 Q1729.72 1449.07 1734.86 1449.07 Q1740.02 1449.07 1742.96 1451.47 Q1745.9 1453.88 1745.9 1458.03 Q1745.9 1460.99 1744.21 1463.05 Q1742.55 1465.11 1739.56 1465.85 Q1742.94 1466.64 1744.82 1468.93 Q1746.71 1471.22 1746.71 1474.53 Q1746.71 1479.55 1743.64 1482.24 Q1740.58 1484.92 1734.86 1484.92 Q1729.14 1484.92 1726.07 1482.24 Q1723.01 1479.55 1723.01 1474.53 Q1723.01 1471.22 1724.91 1468.93 Q1726.81 1466.64 1730.19 1465.85 M1728.47 1458.46 Q1728.47 1461.15 1730.14 1462.65 Q1731.83 1464.16 1734.86 1464.16 Q1737.87 1464.16 1739.56 1462.65 Q1741.27 1461.15 1741.27 1458.46 Q1741.27 1455.78 1739.56 1454.28 Q1737.87 1452.77 1734.86 1452.77 Q1731.83 1452.77 1730.14 1454.28 Q1728.47 1455.78 1728.47 1458.46 Z\" fill=\"#000000\" fill-rule=\"evenodd\" fill-opacity=\"1\" /><path clip-path=\"url(#clip8000)\" d=\"M 0 0 M1758.75 1449.69 L1762.69 1449.69 L1750.65 1488.65 L1746.71 1488.65 L1758.75 1449.69 Z\" fill=\"#000000\" fill-rule=\"evenodd\" fill-opacity=\"1\" /><path clip-path=\"url(#clip8000)\" d=\"M 0 0 M1768.57 1480.32 L1776.2 1480.32 L1776.2 1453.95 L1767.89 1455.62 L1767.89 1451.36 L1776.16 1449.69 L1780.83 1449.69 L1780.83 1480.32 L1788.47 1480.32 L1788.47 1484.25 L1768.57 1484.25 L1768.57 1480.32 Z\" fill=\"#000000\" fill-rule=\"evenodd\" fill-opacity=\"1\" /><path clip-path=\"url(#clip8000)\" d=\"M 0 0 M1804.12 1465.11 Q1800.97 1465.11 1799.12 1467.26 Q1797.29 1469.41 1797.29 1473.16 Q1797.29 1476.89 1799.12 1479.07 Q1800.97 1481.22 1804.12 1481.22 Q1807.27 1481.22 1809.1 1479.07 Q1810.95 1476.89 1810.95 1473.16 Q1810.95 1469.41 1809.1 1467.26 Q1807.27 1465.11 1804.12 1465.11 M1813.4 1450.46 L1813.4 1454.71 Q1811.64 1453.88 1809.84 1453.44 Q1808.06 1453 1806.3 1453 Q1801.67 1453 1799.21 1456.13 Q1796.78 1459.25 1796.44 1465.57 Q1797.8 1463.56 1799.86 1462.49 Q1801.92 1461.4 1804.4 1461.4 Q1809.61 1461.4 1812.62 1464.58 Q1815.65 1467.72 1815.65 1473.16 Q1815.65 1478.49 1812.5 1481.71 Q1809.35 1484.92 1804.12 1484.92 Q1798.13 1484.92 1794.95 1480.34 Q1791.78 1475.73 1791.78 1467.01 Q1791.78 1458.81 1795.67 1453.95 Q1799.56 1449.07 1806.11 1449.07 Q1807.87 1449.07 1809.65 1449.41 Q1811.46 1449.76 1813.4 1450.46 Z\" fill=\"#000000\" fill-rule=\"evenodd\" fill-opacity=\"1\" /><path clip-path=\"url(#clip8000)\" d=\"M 0 0 M1827.69 1449.69 L1831.62 1449.69 L1819.58 1488.65 L1815.65 1488.65 L1827.69 1449.69 Z\" fill=\"#000000\" fill-rule=\"evenodd\" fill-opacity=\"1\" /><path clip-path=\"url(#clip8000)\" d=\"M 0 0 M1837.5 1480.32 L1845.14 1480.32 L1845.14 1453.95 L1836.83 1455.62 L1836.83 1451.36 L1845.09 1449.69 L1849.77 1449.69 L1849.77 1480.32 L1857.41 1480.32 L1857.41 1484.25 L1837.5 1484.25 L1837.5 1480.32 Z\" fill=\"#000000\" fill-rule=\"evenodd\" fill-opacity=\"1\" /><path clip-path=\"url(#clip8000)\" d=\"M 0 0 M1872.48 1467.84 Q1869.14 1467.84 1867.22 1469.62 Q1865.32 1471.4 1865.32 1474.53 Q1865.32 1477.65 1867.22 1479.44 Q1869.14 1481.22 1872.48 1481.22 Q1875.81 1481.22 1877.73 1479.44 Q1879.65 1477.63 1879.65 1474.53 Q1879.65 1471.4 1877.73 1469.62 Q1875.83 1467.84 1872.48 1467.84 M1867.8 1465.85 Q1864.79 1465.11 1863.1 1463.05 Q1861.44 1460.99 1861.44 1458.03 Q1861.44 1453.88 1864.38 1451.47 Q1867.34 1449.07 1872.48 1449.07 Q1877.64 1449.07 1880.58 1451.47 Q1883.52 1453.88 1883.52 1458.03 Q1883.52 1460.99 1881.83 1463.05 Q1880.16 1465.11 1877.18 1465.85 Q1880.56 1466.64 1882.43 1468.93 Q1884.33 1471.22 1884.33 1474.53 Q1884.33 1479.55 1881.25 1482.24 Q1878.19 1484.92 1872.48 1484.92 Q1866.76 1484.92 1863.68 1482.24 Q1860.63 1479.55 1860.63 1474.53 Q1860.63 1471.22 1862.52 1468.93 Q1864.42 1466.64 1867.8 1465.85 M1866.09 1458.46 Q1866.09 1461.15 1867.76 1462.65 Q1869.44 1464.16 1872.48 1464.16 Q1875.49 1464.16 1877.18 1462.65 Q1878.89 1461.15 1878.89 1458.46 Q1878.89 1455.78 1877.18 1454.28 Q1875.49 1452.77 1872.48 1452.77 Q1869.44 1452.77 1867.76 1454.28 Q1866.09 1455.78 1866.09 1458.46 Z\" fill=\"#000000\" fill-rule=\"evenodd\" fill-opacity=\"1\" /><path clip-path=\"url(#clip8000)\" d=\"M 0 0 M1957.8 1480.32 L1965.44 1480.32 L1965.44 1453.95 L1957.13 1455.62 L1957.13 1451.36 L1965.4 1449.69 L1970.07 1449.69 L1970.07 1480.32 L1977.71 1480.32 L1977.71 1484.25 L1957.8 1484.25 L1957.8 1480.32 Z\" fill=\"#000000\" fill-rule=\"evenodd\" fill-opacity=\"1\" /><path clip-path=\"url(#clip8000)\" d=\"M 0 0 M1983.59 1480.32 L1991.23 1480.32 L1991.23 1453.95 L1982.92 1455.62 L1982.92 1451.36 L1991.18 1449.69 L1995.86 1449.69 L1995.86 1480.32 L2003.5 1480.32 L2003.5 1484.25 L1983.59 1484.25 L1983.59 1480.32 Z\" fill=\"#000000\" fill-rule=\"evenodd\" fill-opacity=\"1\" /><path clip-path=\"url(#clip8000)\" d=\"M 0 0 M2015.54 1449.69 L2019.47 1449.69 L2007.43 1488.65 L2003.5 1488.65 L2015.54 1449.69 Z\" fill=\"#000000\" fill-rule=\"evenodd\" fill-opacity=\"1\" /><path clip-path=\"url(#clip8000)\" d=\"M 0 0 M2028.57 1480.32 L2044.89 1480.32 L2044.89 1484.25 L2022.94 1484.25 L2022.94 1480.32 Q2025.61 1477.56 2030.19 1472.93 Q2034.79 1468.28 2035.98 1466.94 Q2038.22 1464.41 2039.1 1462.68 Q2040 1460.92 2040 1459.23 Q2040 1456.47 2038.06 1454.74 Q2036.14 1453 2033.04 1453 Q2030.84 1453 2028.38 1453.77 Q2025.95 1454.53 2023.17 1456.08 L2023.17 1451.36 Q2026 1450.22 2028.45 1449.65 Q2030.91 1449.07 2032.94 1449.07 Q2038.31 1449.07 2041.51 1451.75 Q2044.7 1454.44 2044.7 1458.93 Q2044.7 1461.06 2043.89 1462.98 Q2043.11 1464.88 2041 1467.47 Q2040.42 1468.14 2037.32 1471.36 Q2034.22 1474.55 2028.57 1480.32 Z\" fill=\"#000000\" fill-rule=\"evenodd\" fill-opacity=\"1\" /><path clip-path=\"url(#clip8000)\" d=\"M 0 0 M2059.96 1467.84 Q2056.62 1467.84 2054.7 1469.62 Q2052.8 1471.4 2052.8 1474.53 Q2052.8 1477.65 2054.7 1479.44 Q2056.62 1481.22 2059.96 1481.22 Q2063.29 1481.22 2065.21 1479.44 Q2067.13 1477.63 2067.13 1474.53 Q2067.13 1471.4 2065.21 1469.62 Q2063.31 1467.84 2059.96 1467.84 M2055.28 1465.85 Q2052.27 1465.11 2050.58 1463.05 Q2048.92 1460.99 2048.92 1458.03 Q2048.92 1453.88 2051.86 1451.47 Q2054.82 1449.07 2059.96 1449.07 Q2065.12 1449.07 2068.06 1451.47 Q2071 1453.88 2071 1458.03 Q2071 1460.99 2069.31 1463.05 Q2067.64 1465.11 2064.66 1465.85 Q2068.04 1466.64 2069.91 1468.93 Q2071.81 1471.22 2071.81 1474.53 Q2071.81 1479.55 2068.73 1482.24 Q2065.67 1484.92 2059.96 1484.92 Q2054.24 1484.92 2051.16 1482.24 Q2048.11 1479.55 2048.11 1474.53 Q2048.11 1471.22 2050 1468.93 Q2051.9 1466.64 2055.28 1465.85 M2053.57 1458.46 Q2053.57 1461.15 2055.23 1462.65 Q2056.92 1464.16 2059.96 1464.16 Q2062.97 1464.16 2064.66 1462.65 Q2066.37 1461.15 2066.37 1458.46 Q2066.37 1455.78 2064.66 1454.28 Q2062.97 1452.77 2059.96 1452.77 Q2056.92 1452.77 2055.23 1454.28 Q2053.57 1455.78 2053.57 1458.46 Z\" fill=\"#000000\" fill-rule=\"evenodd\" fill-opacity=\"1\" /><path clip-path=\"url(#clip8000)\" d=\"M 0 0 M2083.85 1449.69 L2087.78 1449.69 L2075.74 1488.65 L2071.81 1488.65 L2083.85 1449.69 Z\" fill=\"#000000\" fill-rule=\"evenodd\" fill-opacity=\"1\" /><path clip-path=\"url(#clip8000)\" d=\"M 0 0 M2093.66 1480.32 L2101.3 1480.32 L2101.3 1453.95 L2092.99 1455.62 L2092.99 1451.36 L2101.25 1449.69 L2105.93 1449.69 L2105.93 1480.32 L2113.57 1480.32 L2113.57 1484.25 L2093.66 1484.25 L2093.66 1480.32 Z\" fill=\"#000000\" fill-rule=\"evenodd\" fill-opacity=\"1\" /><path clip-path=\"url(#clip8000)\" d=\"M 0 0 M2128.64 1467.84 Q2125.3 1467.84 2123.38 1469.62 Q2121.48 1471.4 2121.48 1474.53 Q2121.48 1477.65 2123.38 1479.44 Q2125.3 1481.22 2128.64 1481.22 Q2131.97 1481.22 2133.89 1479.44 Q2135.81 1477.63 2135.81 1474.53 Q2135.81 1471.4 2133.89 1469.62 Q2131.99 1467.84 2128.64 1467.84 M2123.96 1465.85 Q2120.95 1465.11 2119.26 1463.05 Q2117.6 1460.99 2117.6 1458.03 Q2117.6 1453.88 2120.54 1451.47 Q2123.5 1449.07 2128.64 1449.07 Q2133.8 1449.07 2136.74 1451.47 Q2139.68 1453.88 2139.68 1458.03 Q2139.68 1460.99 2137.99 1463.05 Q2136.32 1465.11 2133.34 1465.85 Q2136.72 1466.64 2138.59 1468.93 Q2140.49 1471.22 2140.49 1474.53 Q2140.49 1479.55 2137.41 1482.24 Q2134.35 1484.92 2128.64 1484.92 Q2122.92 1484.92 2119.84 1482.24 Q2116.79 1479.55 2116.79 1474.53 Q2116.79 1471.22 2118.68 1468.93 Q2120.58 1466.64 2123.96 1465.85 M2122.25 1458.46 Q2122.25 1461.15 2123.91 1462.65 Q2125.6 1464.16 2128.64 1464.16 Q2131.65 1464.16 2133.34 1462.65 Q2135.05 1461.15 2135.05 1458.46 Q2135.05 1455.78 2133.34 1454.28 Q2131.65 1452.77 2128.64 1452.77 Q2125.6 1452.77 2123.91 1454.28 Q2122.25 1455.78 2122.25 1458.46 Z\" fill=\"#000000\" fill-rule=\"evenodd\" fill-opacity=\"1\" /><path clip-path=\"url(#clip8000)\" d=\"M 0 0 M2230.32 1465.62 Q2233.67 1466.34 2235.55 1468.6 Q2237.45 1470.87 2237.45 1474.21 Q2237.45 1479.32 2233.93 1482.12 Q2230.41 1484.92 2223.93 1484.92 Q2221.75 1484.92 2219.44 1484.48 Q2217.15 1484.07 2214.69 1483.21 L2214.69 1478.7 Q2216.64 1479.83 2218.95 1480.41 Q2221.27 1480.99 2223.79 1480.99 Q2228.19 1480.99 2230.48 1479.25 Q2232.8 1477.52 2232.8 1474.21 Q2232.8 1471.15 2230.64 1469.44 Q2228.51 1467.7 2224.69 1467.7 L2220.67 1467.7 L2220.67 1463.86 L2224.88 1463.86 Q2228.33 1463.86 2230.16 1462.49 Q2231.99 1461.1 2231.99 1458.51 Q2231.99 1455.85 2230.09 1454.44 Q2228.21 1453 2224.69 1453 Q2222.77 1453 2220.57 1453.42 Q2218.37 1453.84 2215.74 1454.71 L2215.74 1450.55 Q2218.4 1449.81 2220.71 1449.44 Q2223.05 1449.07 2225.11 1449.07 Q2230.43 1449.07 2233.54 1451.5 Q2236.64 1453.9 2236.64 1458.03 Q2236.64 1460.9 2234.99 1462.89 Q2233.35 1464.85 2230.32 1465.62 Z\" fill=\"#000000\" fill-rule=\"evenodd\" fill-opacity=\"1\" /><path clip-path=\"url(#clip8000)\" d=\"M 0 0 M2249.48 1449.69 L2253.42 1449.69 L2241.38 1488.65 L2237.45 1488.65 L2249.48 1449.69 Z\" fill=\"#000000\" fill-rule=\"evenodd\" fill-opacity=\"1\" /><path clip-path=\"url(#clip8000)\" d=\"M 0 0 M2259.3 1480.32 L2266.94 1480.32 L2266.94 1453.95 L2258.63 1455.62 L2258.63 1451.36 L2266.89 1449.69 L2271.57 1449.69 L2271.57 1480.32 L2279.21 1480.32 L2279.21 1484.25 L2259.3 1484.25 L2259.3 1480.32 Z\" fill=\"#000000\" fill-rule=\"evenodd\" fill-opacity=\"1\" /><path clip-path=\"url(#clip8000)\" d=\"M 0 0 M2288.3 1480.32 L2304.62 1480.32 L2304.62 1484.25 L2282.68 1484.25 L2282.68 1480.32 Q2285.34 1477.56 2289.92 1472.93 Q2294.53 1468.28 2295.71 1466.94 Q2297.96 1464.41 2298.84 1462.68 Q2299.74 1460.92 2299.74 1459.23 Q2299.74 1456.47 2297.79 1454.74 Q2295.87 1453 2292.77 1453 Q2290.57 1453 2288.12 1453.77 Q2285.69 1454.53 2282.91 1456.08 L2282.91 1451.36 Q2285.73 1450.22 2288.19 1449.65 Q2290.64 1449.07 2292.68 1449.07 Q2298.05 1449.07 2301.24 1451.75 Q2304.44 1454.44 2304.44 1458.93 Q2304.44 1461.06 2303.63 1462.98 Q2302.84 1464.88 2300.73 1467.47 Q2300.16 1468.14 2297.05 1471.36 Q2293.95 1474.55 2288.3 1480.32 Z\" fill=\"#000000\" fill-rule=\"evenodd\" fill-opacity=\"1\" /><path clip-path=\"url(#clip8000)\" d=\"M 0 0 M2316.66 1449.69 L2320.6 1449.69 L2308.56 1488.65 L2304.62 1488.65 L2316.66 1449.69 Z\" fill=\"#000000\" fill-rule=\"evenodd\" fill-opacity=\"1\" /><path clip-path=\"url(#clip8000)\" d=\"M 0 0 M2326.48 1480.32 L2334.11 1480.32 L2334.11 1453.95 L2325.8 1455.62 L2325.8 1451.36 L2334.07 1449.69 L2338.74 1449.69 L2338.74 1480.32 L2346.38 1480.32 L2346.38 1484.25 L2326.48 1484.25 L2326.48 1480.32 Z\" fill=\"#000000\" fill-rule=\"evenodd\" fill-opacity=\"1\" /><path clip-path=\"url(#clip8000)\" d=\"M 0 0 M2351.59 1483.53 L2351.59 1479.28 Q2353.35 1480.11 2355.16 1480.55 Q2356.96 1480.99 2358.7 1480.99 Q2363.33 1480.99 2365.76 1477.89 Q2368.21 1474.76 2368.56 1468.42 Q2367.22 1470.41 2365.16 1471.47 Q2363.1 1472.54 2360.6 1472.54 Q2355.41 1472.54 2352.38 1469.41 Q2349.37 1466.27 2349.37 1460.83 Q2349.37 1455.5 2352.52 1452.28 Q2355.66 1449.07 2360.9 1449.07 Q2366.89 1449.07 2370.04 1453.67 Q2373.21 1458.26 2373.21 1467.01 Q2373.21 1475.18 2369.32 1480.06 Q2365.46 1484.92 2358.91 1484.92 Q2357.15 1484.92 2355.34 1484.58 Q2353.54 1484.23 2351.59 1483.53 M2360.9 1468.88 Q2364.04 1468.88 2365.87 1466.73 Q2367.73 1464.58 2367.73 1460.83 Q2367.73 1457.1 2365.87 1454.95 Q2364.04 1452.77 2360.9 1452.77 Q2357.75 1452.77 2355.9 1454.95 Q2354.07 1457.1 2354.07 1460.83 Q2354.07 1464.58 2355.9 1466.73 Q2357.75 1468.88 2360.9 1468.88 Z\" fill=\"#000000\" fill-rule=\"evenodd\" fill-opacity=\"1\" /><path clip-path=\"url(#clip8000)\" d=\"M 0 0 M2473.86 1465.11 Q2470.71 1465.11 2468.86 1467.26 Q2467.03 1469.41 2467.03 1473.16 Q2467.03 1476.89 2468.86 1479.07 Q2470.71 1481.22 2473.86 1481.22 Q2477.01 1481.22 2478.84 1479.07 Q2480.69 1476.89 2480.69 1473.16 Q2480.69 1469.41 2478.84 1467.26 Q2477.01 1465.11 2473.86 1465.11 M2483.14 1450.46 L2483.14 1454.71 Q2481.38 1453.88 2479.58 1453.44 Q2477.79 1453 2476.03 1453 Q2471.4 1453 2468.95 1456.13 Q2466.52 1459.25 2466.17 1465.57 Q2467.54 1463.56 2469.6 1462.49 Q2471.66 1461.4 2474.14 1461.4 Q2479.34 1461.4 2482.35 1464.58 Q2485.39 1467.72 2485.39 1473.16 Q2485.39 1478.49 2482.24 1481.71 Q2479.09 1484.92 2473.86 1484.92 Q2467.86 1484.92 2464.69 1480.34 Q2461.52 1475.73 2461.52 1467.01 Q2461.52 1458.81 2465.41 1453.95 Q2469.3 1449.07 2475.85 1449.07 Q2477.61 1449.07 2479.39 1449.41 Q2481.2 1449.76 2483.14 1450.46 Z\" fill=\"#000000\" fill-rule=\"evenodd\" fill-opacity=\"1\" /><path clip-path=\"url(#clip8000)\" d=\"M 0 0 M2497.42 1449.69 L2501.36 1449.69 L2489.32 1488.65 L2485.39 1488.65 L2497.42 1449.69 Z\" fill=\"#000000\" fill-rule=\"evenodd\" fill-opacity=\"1\" /><path clip-path=\"url(#clip8000)\" d=\"M 0 0 M2510.46 1480.32 L2526.77 1480.32 L2526.77 1484.25 L2504.83 1484.25 L2504.83 1480.32 Q2507.49 1477.56 2512.08 1472.93 Q2516.68 1468.28 2517.86 1466.94 Q2520.11 1464.41 2520.99 1462.68 Q2521.89 1460.92 2521.89 1459.23 Q2521.89 1456.47 2519.95 1454.74 Q2518.02 1453 2514.92 1453 Q2512.72 1453 2510.27 1453.77 Q2507.84 1454.53 2505.06 1456.08 L2505.06 1451.36 Q2507.89 1450.22 2510.34 1449.65 Q2512.79 1449.07 2514.83 1449.07 Q2520.2 1449.07 2523.4 1451.75 Q2526.59 1454.44 2526.59 1458.93 Q2526.59 1461.06 2525.78 1462.98 Q2524.99 1464.88 2522.89 1467.47 Q2522.31 1468.14 2519.21 1471.36 Q2516.1 1474.55 2510.46 1480.32 Z\" fill=\"#000000\" fill-rule=\"evenodd\" fill-opacity=\"1\" /><path clip-path=\"url(#clip8000)\" d=\"M 0 0 M2531.89 1449.69 L2550.25 1449.69 L2550.25 1453.63 L2536.17 1453.63 L2536.17 1462.1 Q2537.19 1461.75 2538.21 1461.59 Q2539.23 1461.4 2540.25 1461.4 Q2546.03 1461.4 2549.41 1464.58 Q2552.79 1467.75 2552.79 1473.16 Q2552.79 1478.74 2549.32 1481.84 Q2545.85 1484.92 2539.53 1484.92 Q2537.35 1484.92 2535.08 1484.55 Q2532.84 1484.18 2530.43 1483.44 L2530.43 1478.74 Q2532.52 1479.88 2534.74 1480.43 Q2536.96 1480.99 2539.44 1480.99 Q2543.44 1480.99 2545.78 1478.88 Q2548.12 1476.78 2548.12 1473.16 Q2548.12 1469.55 2545.78 1467.45 Q2543.44 1465.34 2539.44 1465.34 Q2537.56 1465.34 2535.69 1465.76 Q2533.83 1466.17 2531.89 1467.05 L2531.89 1449.69 Z\" fill=\"#000000\" fill-rule=\"evenodd\" fill-opacity=\"1\" /><path clip-path=\"url(#clip8000)\" d=\"M 0 0 M2564.83 1449.69 L2568.77 1449.69 L2556.73 1488.65 L2552.79 1488.65 L2564.83 1449.69 Z\" fill=\"#000000\" fill-rule=\"evenodd\" fill-opacity=\"1\" /><path clip-path=\"url(#clip8000)\" d=\"M 0 0 M2574.64 1480.32 L2582.28 1480.32 L2582.28 1453.95 L2573.97 1455.62 L2573.97 1451.36 L2582.24 1449.69 L2586.91 1449.69 L2586.91 1480.32 L2594.55 1480.32 L2594.55 1484.25 L2574.64 1484.25 L2574.64 1480.32 Z\" fill=\"#000000\" fill-rule=\"evenodd\" fill-opacity=\"1\" /><path clip-path=\"url(#clip8000)\" d=\"M 0 0 M2599.76 1483.53 L2599.76 1479.28 Q2601.52 1480.11 2603.33 1480.55 Q2605.13 1480.99 2606.87 1480.99 Q2611.5 1480.99 2613.93 1477.89 Q2616.38 1474.76 2616.73 1468.42 Q2615.39 1470.41 2613.33 1471.47 Q2611.27 1472.54 2608.77 1472.54 Q2603.58 1472.54 2600.55 1469.41 Q2597.54 1466.27 2597.54 1460.83 Q2597.54 1455.5 2600.69 1452.28 Q2603.83 1449.07 2609.07 1449.07 Q2615.06 1449.07 2618.21 1453.67 Q2621.38 1458.26 2621.38 1467.01 Q2621.38 1475.18 2617.49 1480.06 Q2613.63 1484.92 2607.08 1484.92 Q2605.32 1484.92 2603.51 1484.58 Q2601.7 1484.23 2599.76 1483.53 M2609.07 1468.88 Q2612.21 1468.88 2614.04 1466.73 Q2615.89 1464.58 2615.89 1460.83 Q2615.89 1457.1 2614.04 1454.95 Q2612.21 1452.77 2609.07 1452.77 Q2605.92 1452.77 2604.07 1454.95 Q2602.24 1457.1 2602.24 1460.83 Q2602.24 1464.58 2604.07 1466.73 Q2605.92 1468.88 2609.07 1468.88 Z\" fill=\"#000000\" fill-rule=\"evenodd\" fill-opacity=\"1\" /><path clip-path=\"url(#clip8000)\" d=\"M 0 0 M2708.13 1480.32 L2715.77 1480.32 L2715.77 1453.95 L2707.46 1455.62 L2707.46 1451.36 L2715.72 1449.69 L2720.4 1449.69 L2720.4 1480.32 L2728.04 1480.32 L2728.04 1484.25 L2708.13 1484.25 L2708.13 1480.32 Z\" fill=\"#000000\" fill-rule=\"evenodd\" fill-opacity=\"1\" /><path clip-path=\"url(#clip8000)\" d=\"M 0 0 M2743.11 1452.77 Q2739.5 1452.77 2737.67 1456.34 Q2735.86 1459.88 2735.86 1467.01 Q2735.86 1474.11 2737.67 1477.68 Q2739.5 1481.22 2743.11 1481.22 Q2746.74 1481.22 2748.55 1477.68 Q2750.38 1474.11 2750.38 1467.01 Q2750.38 1459.88 2748.55 1456.34 Q2746.74 1452.77 2743.11 1452.77 M2743.11 1449.07 Q2748.92 1449.07 2751.97 1453.67 Q2755.05 1458.26 2755.05 1467.01 Q2755.05 1475.73 2751.97 1480.34 Q2748.92 1484.92 2743.11 1484.92 Q2737.3 1484.92 2734.22 1480.34 Q2731.16 1475.73 2731.16 1467.01 Q2731.16 1458.26 2734.22 1453.67 Q2737.3 1449.07 2743.11 1449.07 Z\" fill=\"#000000\" fill-rule=\"evenodd\" fill-opacity=\"1\" /><path clip-path=\"url(#clip8000)\" d=\"M 0 0 M2767.09 1449.69 L2771.02 1449.69 L2758.99 1488.65 L2755.05 1488.65 L2767.09 1449.69 Z\" fill=\"#000000\" fill-rule=\"evenodd\" fill-opacity=\"1\" /><path clip-path=\"url(#clip8000)\" d=\"M 0 0 M2774.91 1449.69 L2797.14 1449.69 L2797.14 1451.68 L2784.59 1484.25 L2779.71 1484.25 L2791.51 1453.63 L2774.91 1453.63 L2774.91 1449.69 Z\" fill=\"#000000\" fill-rule=\"evenodd\" fill-opacity=\"1\" /><path clip-path=\"url(#clip8000)\" d=\"M 0 0 M2809.17 1449.69 L2813.11 1449.69 L2801.07 1488.65 L2797.14 1488.65 L2809.17 1449.69 Z\" fill=\"#000000\" fill-rule=\"evenodd\" fill-opacity=\"1\" /><path clip-path=\"url(#clip8000)\" d=\"M 0 0 M2818.99 1480.32 L2826.63 1480.32 L2826.63 1453.95 L2818.32 1455.62 L2818.32 1451.36 L2826.58 1449.69 L2831.26 1449.69 L2831.26 1480.32 L2838.89 1480.32 L2838.89 1484.25 L2818.99 1484.25 L2818.99 1480.32 Z\" fill=\"#000000\" fill-rule=\"evenodd\" fill-opacity=\"1\" /><path clip-path=\"url(#clip8000)\" d=\"M 0 0 M2844.1 1483.53 L2844.1 1479.28 Q2845.86 1480.11 2847.67 1480.55 Q2849.47 1480.99 2851.21 1480.99 Q2855.84 1480.99 2858.27 1477.89 Q2860.72 1474.76 2861.07 1468.42 Q2859.73 1470.41 2857.67 1471.47 Q2855.61 1472.54 2853.11 1472.54 Q2847.92 1472.54 2844.89 1469.41 Q2841.88 1466.27 2841.88 1460.83 Q2841.88 1455.5 2845.03 1452.28 Q2848.18 1449.07 2853.41 1449.07 Q2859.4 1449.07 2862.55 1453.67 Q2865.72 1458.26 2865.72 1467.01 Q2865.72 1475.18 2861.83 1480.06 Q2857.97 1484.92 2851.42 1484.92 Q2849.66 1484.92 2847.85 1484.58 Q2846.05 1484.23 2844.1 1483.53 M2853.41 1468.88 Q2856.56 1468.88 2858.39 1466.73 Q2860.24 1464.58 2860.24 1460.83 Q2860.24 1457.1 2858.39 1454.95 Q2856.56 1452.77 2853.41 1452.77 Q2850.26 1452.77 2848.41 1454.95 Q2846.58 1457.1 2846.58 1460.83 Q2846.58 1464.58 2848.41 1466.73 Q2850.26 1468.88 2853.41 1468.88 Z\" fill=\"#000000\" fill-rule=\"evenodd\" fill-opacity=\"1\" /><path clip-path=\"url(#clip8000)\" d=\"M 0 0 M2953.62 1480.32 L2961.26 1480.32 L2961.26 1453.95 L2952.95 1455.62 L2952.95 1451.36 L2961.21 1449.69 L2965.89 1449.69 L2965.89 1480.32 L2973.53 1480.32 L2973.53 1484.25 L2953.62 1484.25 L2953.62 1480.32 Z\" fill=\"#000000\" fill-rule=\"evenodd\" fill-opacity=\"1\" /><path clip-path=\"url(#clip8000)\" d=\"M 0 0 M2985.56 1449.69 L2989.5 1449.69 L2977.46 1488.65 L2973.53 1488.65 L2985.56 1449.69 Z\" fill=\"#000000\" fill-rule=\"evenodd\" fill-opacity=\"1\" /><path clip-path=\"url(#clip8000)\" d=\"M 0 0 M2995.38 1480.32 L3003.02 1480.32 L3003.02 1453.95 L2994.71 1455.62 L2994.71 1451.36 L3002.97 1449.69 L3007.65 1449.69 L3007.65 1480.32 L3015.29 1480.32 L3015.29 1484.25 L2995.38 1484.25 L2995.38 1480.32 Z\" fill=\"#000000\" fill-rule=\"evenodd\" fill-opacity=\"1\" /><path clip-path=\"url(#clip8000)\" d=\"M 0 0 M3020.49 1483.53 L3020.49 1479.28 Q3022.25 1480.11 3024.06 1480.55 Q3025.86 1480.99 3027.6 1480.99 Q3032.23 1480.99 3034.66 1477.89 Q3037.11 1474.76 3037.46 1468.42 Q3036.12 1470.41 3034.06 1471.47 Q3032 1472.54 3029.5 1472.54 Q3024.31 1472.54 3021.28 1469.41 Q3018.27 1466.27 3018.27 1460.83 Q3018.27 1455.5 3021.42 1452.28 Q3024.57 1449.07 3029.8 1449.07 Q3035.8 1449.07 3038.94 1453.67 Q3042.11 1458.26 3042.11 1467.01 Q3042.11 1475.18 3038.23 1480.06 Q3034.36 1484.92 3027.81 1484.92 Q3026.05 1484.92 3024.24 1484.58 Q3022.44 1484.23 3020.49 1483.53 M3029.8 1468.88 Q3032.95 1468.88 3034.78 1466.73 Q3036.63 1464.58 3036.63 1460.83 Q3036.63 1457.1 3034.78 1454.95 Q3032.95 1452.77 3029.8 1452.77 Q3026.65 1452.77 3024.8 1454.95 Q3022.97 1457.1 3022.97 1460.83 Q3022.97 1464.58 3024.8 1466.73 Q3026.65 1468.88 3029.8 1468.88 Z\" fill=\"#000000\" fill-rule=\"evenodd\" fill-opacity=\"1\" /><path clip-path=\"url(#clip8000)\" d=\"M 0 0 M3054.15 1449.69 L3058.09 1449.69 L3046.05 1488.65 L3042.11 1488.65 L3054.15 1449.69 Z\" fill=\"#000000\" fill-rule=\"evenodd\" fill-opacity=\"1\" /><path clip-path=\"url(#clip8000)\" d=\"M 0 0 M3067.18 1480.32 L3083.5 1480.32 L3083.5 1484.25 L3061.56 1484.25 L3061.56 1480.32 Q3064.22 1477.56 3068.8 1472.93 Q3073.41 1468.28 3074.59 1466.94 Q3076.84 1464.41 3077.72 1462.68 Q3078.62 1460.92 3078.62 1459.23 Q3078.62 1456.47 3076.67 1454.74 Q3074.75 1453 3071.65 1453 Q3069.45 1453 3067 1453.77 Q3064.57 1454.53 3061.79 1456.08 L3061.79 1451.36 Q3064.61 1450.22 3067.07 1449.65 Q3069.52 1449.07 3071.56 1449.07 Q3076.93 1449.07 3080.12 1451.75 Q3083.32 1454.44 3083.32 1458.93 Q3083.32 1461.06 3082.51 1462.98 Q3081.72 1464.88 3079.61 1467.47 Q3079.04 1468.14 3075.93 1471.36 Q3072.83 1474.55 3067.18 1480.32 Z\" fill=\"#000000\" fill-rule=\"evenodd\" fill-opacity=\"1\" /><path clip-path=\"url(#clip8000)\" d=\"M 0 0 M3098.57 1452.77 Q3094.96 1452.77 3093.13 1456.34 Q3091.33 1459.88 3091.33 1467.01 Q3091.33 1474.11 3093.13 1477.68 Q3094.96 1481.22 3098.57 1481.22 Q3102.21 1481.22 3104.01 1477.68 Q3105.84 1474.11 3105.84 1467.01 Q3105.84 1459.88 3104.01 1456.34 Q3102.21 1452.77 3098.57 1452.77 M3098.57 1449.07 Q3104.38 1449.07 3107.44 1453.67 Q3110.52 1458.26 3110.52 1467.01 Q3110.52 1475.73 3107.44 1480.34 Q3104.38 1484.92 3098.57 1484.92 Q3092.76 1484.92 3089.68 1480.34 Q3086.63 1475.73 3086.63 1467.01 Q3086.63 1458.26 3089.68 1453.67 Q3092.76 1449.07 3098.57 1449.07 Z\" fill=\"#000000\" fill-rule=\"evenodd\" fill-opacity=\"1\" /><path clip-path=\"url(#clip8000)\" d=\"M 0 0 M3212.26 1449.69 L3230.61 1449.69 L3230.61 1453.63 L3216.54 1453.63 L3216.54 1462.1 Q3217.56 1461.75 3218.58 1461.59 Q3219.59 1461.4 3220.61 1461.4 Q3226.4 1461.4 3229.78 1464.58 Q3233.16 1467.75 3233.16 1473.16 Q3233.16 1478.74 3229.69 1481.84 Q3226.21 1484.92 3219.9 1484.92 Q3217.72 1484.92 3215.45 1484.55 Q3213.21 1484.18 3210.8 1483.44 L3210.8 1478.74 Q3212.88 1479.88 3215.1 1480.43 Q3217.33 1480.99 3219.8 1480.99 Q3223.81 1480.99 3226.15 1478.88 Q3228.48 1476.78 3228.48 1473.16 Q3228.48 1469.55 3226.15 1467.45 Q3223.81 1465.34 3219.8 1465.34 Q3217.93 1465.34 3216.05 1465.76 Q3214.2 1466.17 3212.26 1467.05 L3212.26 1449.69 Z\" fill=\"#000000\" fill-rule=\"evenodd\" fill-opacity=\"1\" /><path clip-path=\"url(#clip8000)\" d=\"M 0 0 M3245.2 1449.69 L3249.13 1449.69 L3237.09 1488.65 L3233.16 1488.65 L3245.2 1449.69 Z\" fill=\"#000000\" fill-rule=\"evenodd\" fill-opacity=\"1\" /><path clip-path=\"url(#clip8000)\" d=\"M 0 0 M3258.23 1480.32 L3274.55 1480.32 L3274.55 1484.25 L3252.6 1484.25 L3252.6 1480.32 Q3255.27 1477.56 3259.85 1472.93 Q3264.46 1468.28 3265.64 1466.94 Q3267.88 1464.41 3268.76 1462.68 Q3269.66 1460.92 3269.66 1459.23 Q3269.66 1456.47 3267.72 1454.74 Q3265.8 1453 3262.7 1453 Q3260.5 1453 3258.04 1453.77 Q3255.61 1454.53 3252.83 1456.08 L3252.83 1451.36 Q3255.66 1450.22 3258.11 1449.65 Q3260.57 1449.07 3262.6 1449.07 Q3267.97 1449.07 3271.17 1451.75 Q3274.36 1454.44 3274.36 1458.93 Q3274.36 1461.06 3273.55 1462.98 Q3272.77 1464.88 3270.66 1467.47 Q3270.08 1468.14 3266.98 1471.36 Q3263.88 1474.55 3258.23 1480.32 Z\" fill=\"#000000\" fill-rule=\"evenodd\" fill-opacity=\"1\" /><path clip-path=\"url(#clip8000)\" d=\"M 0 0 M3286.58 1449.69 L3290.52 1449.69 L3278.48 1488.65 L3274.55 1488.65 L3286.58 1449.69 Z\" fill=\"#000000\" fill-rule=\"evenodd\" fill-opacity=\"1\" /><path clip-path=\"url(#clip8000)\" d=\"M 0 0 M3299.62 1480.32 L3315.94 1480.32 L3315.94 1484.25 L3293.99 1484.25 L3293.99 1480.32 Q3296.65 1477.56 3301.24 1472.93 Q3305.84 1468.28 3307.02 1466.94 Q3309.27 1464.41 3310.15 1462.68 Q3311.05 1460.92 3311.05 1459.23 Q3311.05 1456.47 3309.11 1454.74 Q3307.19 1453 3304.08 1453 Q3301.89 1453 3299.43 1453.77 Q3297 1454.53 3294.22 1456.08 L3294.22 1451.36 Q3297.05 1450.22 3299.5 1449.65 Q3301.96 1449.07 3303.99 1449.07 Q3309.36 1449.07 3312.56 1451.75 Q3315.75 1454.44 3315.75 1458.93 Q3315.75 1461.06 3314.94 1462.98 Q3314.15 1464.88 3312.05 1467.47 Q3311.47 1468.14 3308.37 1471.36 Q3305.27 1474.55 3299.62 1480.32 Z\" fill=\"#000000\" fill-rule=\"evenodd\" fill-opacity=\"1\" /><path clip-path=\"url(#clip8000)\" d=\"M 0 0 M3331.01 1452.77 Q3327.39 1452.77 3325.57 1456.34 Q3323.76 1459.88 3323.76 1467.01 Q3323.76 1474.11 3325.57 1477.68 Q3327.39 1481.22 3331.01 1481.22 Q3334.64 1481.22 3336.45 1477.68 Q3338.27 1474.11 3338.27 1467.01 Q3338.27 1459.88 3336.45 1456.34 Q3334.64 1452.77 3331.01 1452.77 M3331.01 1449.07 Q3336.82 1449.07 3339.87 1453.67 Q3342.95 1458.26 3342.95 1467.01 Q3342.95 1475.73 3339.87 1480.34 Q3336.82 1484.92 3331.01 1484.92 Q3325.2 1484.92 3322.12 1480.34 Q3319.06 1475.73 3319.06 1467.01 Q3319.06 1458.26 3322.12 1453.67 Q3325.2 1449.07 3331.01 1449.07 Z\" fill=\"#000000\" fill-rule=\"evenodd\" fill-opacity=\"1\" /><path clip-path=\"url(#clip8000)\" d=\"M 0 0 M3456.28 1467.84 Q3452.95 1467.84 3451.03 1469.62 Q3449.13 1471.4 3449.13 1474.53 Q3449.13 1477.65 3451.03 1479.44 Q3452.95 1481.22 3456.28 1481.22 Q3459.62 1481.22 3461.54 1479.44 Q3463.46 1477.63 3463.46 1474.53 Q3463.46 1471.4 3461.54 1469.62 Q3459.64 1467.84 3456.28 1467.84 M3451.61 1465.85 Q3448.6 1465.11 3446.91 1463.05 Q3445.24 1460.99 3445.24 1458.03 Q3445.24 1453.88 3448.18 1451.47 Q3451.14 1449.07 3456.28 1449.07 Q3461.44 1449.07 3464.38 1451.47 Q3467.32 1453.88 3467.32 1458.03 Q3467.32 1460.99 3465.63 1463.05 Q3463.97 1465.11 3460.98 1465.85 Q3464.36 1466.64 3466.24 1468.93 Q3468.13 1471.22 3468.13 1474.53 Q3468.13 1479.55 3465.06 1482.24 Q3462 1484.92 3456.28 1484.92 Q3450.57 1484.92 3447.49 1482.24 Q3444.43 1479.55 3444.43 1474.53 Q3444.43 1471.22 3446.33 1468.93 Q3448.23 1466.64 3451.61 1465.85 M3449.89 1458.46 Q3449.89 1461.15 3451.56 1462.65 Q3453.25 1464.16 3456.28 1464.16 Q3459.29 1464.16 3460.98 1462.65 Q3462.69 1461.15 3462.69 1458.46 Q3462.69 1455.78 3460.98 1454.28 Q3459.29 1452.77 3456.28 1452.77 Q3453.25 1452.77 3451.56 1454.28 Q3449.89 1455.78 3449.89 1458.46 Z\" fill=\"#000000\" fill-rule=\"evenodd\" fill-opacity=\"1\" /><path clip-path=\"url(#clip8000)\" d=\"M 0 0 M3480.17 1449.69 L3484.11 1449.69 L3472.07 1488.65 L3468.13 1488.65 L3480.17 1449.69 Z\" fill=\"#000000\" fill-rule=\"evenodd\" fill-opacity=\"1\" /><path clip-path=\"url(#clip8000)\" d=\"M 0 0 M3489.99 1480.32 L3497.63 1480.32 L3497.63 1453.95 L3489.31 1455.62 L3489.31 1451.36 L3497.58 1449.69 L3502.25 1449.69 L3502.25 1480.32 L3509.89 1480.32 L3509.89 1484.25 L3489.99 1484.25 L3489.99 1480.32 Z\" fill=\"#000000\" fill-rule=\"evenodd\" fill-opacity=\"1\" /><path clip-path=\"url(#clip8000)\" d=\"M 0 0 M3515.01 1449.69 L3533.37 1449.69 L3533.37 1453.63 L3519.29 1453.63 L3519.29 1462.1 Q3520.31 1461.75 3521.33 1461.59 Q3522.35 1461.4 3523.37 1461.4 Q3529.15 1461.4 3532.53 1464.58 Q3535.91 1467.75 3535.91 1473.16 Q3535.91 1478.74 3532.44 1481.84 Q3528.97 1484.92 3522.65 1484.92 Q3520.47 1484.92 3518.2 1484.55 Q3515.96 1484.18 3513.55 1483.44 L3513.55 1478.74 Q3515.63 1479.88 3517.86 1480.43 Q3520.08 1480.99 3522.56 1480.99 Q3526.56 1480.99 3528.9 1478.88 Q3531.24 1476.78 3531.24 1473.16 Q3531.24 1469.55 3528.9 1467.45 Q3526.56 1465.34 3522.56 1465.34 Q3520.68 1465.34 3518.81 1465.76 Q3516.95 1466.17 3515.01 1467.05 L3515.01 1449.69 Z\" fill=\"#000000\" fill-rule=\"evenodd\" fill-opacity=\"1\" /><path clip-path=\"url(#clip8000)\" d=\"M 0 0 M3547.95 1449.69 L3551.88 1449.69 L3539.85 1488.65 L3535.91 1488.65 L3547.95 1449.69 Z\" fill=\"#000000\" fill-rule=\"evenodd\" fill-opacity=\"1\" /><path clip-path=\"url(#clip8000)\" d=\"M 0 0 M3560.98 1480.32 L3577.3 1480.32 L3577.3 1484.25 L3555.36 1484.25 L3555.36 1480.32 Q3558.02 1477.56 3562.6 1472.93 Q3567.21 1468.28 3568.39 1466.94 Q3570.63 1464.41 3571.51 1462.68 Q3572.42 1460.92 3572.42 1459.23 Q3572.42 1456.47 3570.47 1454.74 Q3568.55 1453 3565.45 1453 Q3563.25 1453 3560.8 1453.77 Q3558.37 1454.53 3555.59 1456.08 L3555.59 1451.36 Q3558.41 1450.22 3560.87 1449.65 Q3563.32 1449.07 3565.36 1449.07 Q3570.73 1449.07 3573.92 1451.75 Q3577.12 1454.44 3577.12 1458.93 Q3577.12 1461.06 3576.31 1462.98 Q3575.52 1464.88 3573.41 1467.47 Q3572.83 1468.14 3569.73 1471.36 Q3566.63 1474.55 3560.98 1480.32 Z\" fill=\"#000000\" fill-rule=\"evenodd\" fill-opacity=\"1\" /><path clip-path=\"url(#clip8000)\" d=\"M 0 0 M3592.37 1452.77 Q3588.76 1452.77 3586.93 1456.34 Q3585.12 1459.88 3585.12 1467.01 Q3585.12 1474.11 3586.93 1477.68 Q3588.76 1481.22 3592.37 1481.22 Q3596 1481.22 3597.81 1477.68 Q3599.64 1474.11 3599.64 1467.01 Q3599.64 1459.88 3597.81 1456.34 Q3596 1452.77 3592.37 1452.77 M3592.37 1449.07 Q3598.18 1449.07 3601.24 1453.67 Q3604.31 1458.26 3604.31 1467.01 Q3604.31 1475.73 3601.24 1480.34 Q3598.18 1484.92 3592.37 1484.92 Q3586.56 1484.92 3583.48 1480.34 Q3580.43 1475.73 3580.43 1467.01 Q3580.43 1458.26 3583.48 1453.67 Q3586.56 1449.07 3592.37 1449.07 Z\" fill=\"#000000\" fill-rule=\"evenodd\" fill-opacity=\"1\" /><path clip-path=\"url(#clip8000)\" d=\"M 0 0 M3679.05 1480.32 L3686.69 1480.32 L3686.69 1453.95 L3678.38 1455.62 L3678.38 1451.36 L3686.64 1449.69 L3691.32 1449.69 L3691.32 1480.32 L3698.96 1480.32 L3698.96 1484.25 L3679.05 1484.25 L3679.05 1480.32 Z\" fill=\"#000000\" fill-rule=\"evenodd\" fill-opacity=\"1\" /><path clip-path=\"url(#clip8000)\" d=\"M 0 0 M3704.84 1480.32 L3712.48 1480.32 L3712.48 1453.95 L3704.17 1455.62 L3704.17 1451.36 L3712.43 1449.69 L3717.11 1449.69 L3717.11 1480.32 L3724.75 1480.32 L3724.75 1484.25 L3704.84 1484.25 L3704.84 1480.32 Z\" fill=\"#000000\" fill-rule=\"evenodd\" fill-opacity=\"1\" /><path clip-path=\"url(#clip8000)\" d=\"M 0 0 M3736.78 1449.69 L3740.72 1449.69 L3728.68 1488.65 L3724.75 1488.65 L3736.78 1449.69 Z\" fill=\"#000000\" fill-rule=\"evenodd\" fill-opacity=\"1\" /><path clip-path=\"url(#clip8000)\" d=\"M 0 0 M3749.81 1480.32 L3766.13 1480.32 L3766.13 1484.25 L3744.19 1484.25 L3744.19 1480.32 Q3746.85 1477.56 3751.44 1472.93 Q3756.04 1468.28 3757.22 1466.94 Q3759.47 1464.41 3760.35 1462.68 Q3761.25 1460.92 3761.25 1459.23 Q3761.25 1456.47 3759.31 1454.74 Q3757.38 1453 3754.28 1453 Q3752.08 1453 3749.63 1453.77 Q3747.2 1454.53 3744.42 1456.08 L3744.42 1451.36 Q3747.25 1450.22 3749.7 1449.65 Q3752.15 1449.07 3754.19 1449.07 Q3759.56 1449.07 3762.75 1451.75 Q3765.95 1454.44 3765.95 1458.93 Q3765.95 1461.06 3765.14 1462.98 Q3764.35 1464.88 3762.25 1467.47 Q3761.67 1468.14 3758.56 1471.36 Q3755.46 1474.55 3749.81 1480.32 Z\" fill=\"#000000\" fill-rule=\"evenodd\" fill-opacity=\"1\" /><path clip-path=\"url(#clip8000)\" d=\"M 0 0 M3770.02 1449.69 L3792.25 1449.69 L3792.25 1451.68 L3779.7 1484.25 L3774.81 1484.25 L3786.62 1453.63 L3770.02 1453.63 L3770.02 1449.69 Z\" fill=\"#000000\" fill-rule=\"evenodd\" fill-opacity=\"1\" /><path clip-path=\"url(#clip8000)\" d=\"M 0 0 M3804.28 1449.69 L3808.22 1449.69 L3796.18 1488.65 L3792.25 1488.65 L3804.28 1449.69 Z\" fill=\"#000000\" fill-rule=\"evenodd\" fill-opacity=\"1\" /><path clip-path=\"url(#clip8000)\" d=\"M 0 0 M3817.31 1480.32 L3833.63 1480.32 L3833.63 1484.25 L3811.69 1484.25 L3811.69 1480.32 Q3814.35 1477.56 3818.93 1472.93 Q3823.54 1468.28 3824.72 1466.94 Q3826.97 1464.41 3827.85 1462.68 Q3828.75 1460.92 3828.75 1459.23 Q3828.75 1456.47 3826.81 1454.74 Q3824.88 1453 3821.78 1453 Q3819.58 1453 3817.13 1453.77 Q3814.7 1454.53 3811.92 1456.08 L3811.92 1451.36 Q3814.74 1450.22 3817.2 1449.65 Q3819.65 1449.07 3821.69 1449.07 Q3827.06 1449.07 3830.25 1451.75 Q3833.45 1454.44 3833.45 1458.93 Q3833.45 1461.06 3832.64 1462.98 Q3831.85 1464.88 3829.74 1467.47 Q3829.17 1468.14 3826.06 1471.36 Q3822.96 1474.55 3817.31 1480.32 Z\" fill=\"#000000\" fill-rule=\"evenodd\" fill-opacity=\"1\" /><path clip-path=\"url(#clip8000)\" d=\"M 0 0 M3848.7 1452.77 Q3845.09 1452.77 3843.26 1456.34 Q3841.46 1459.88 3841.46 1467.01 Q3841.46 1474.11 3843.26 1477.68 Q3845.09 1481.22 3848.7 1481.22 Q3852.34 1481.22 3854.14 1477.68 Q3855.97 1474.11 3855.97 1467.01 Q3855.97 1459.88 3854.14 1456.34 Q3852.34 1452.77 3848.7 1452.77 M3848.7 1449.07 Q3854.51 1449.07 3857.57 1453.67 Q3860.65 1458.26 3860.65 1467.01 Q3860.65 1475.73 3857.57 1480.34 Q3854.51 1484.92 3848.7 1484.92 Q3842.89 1484.92 3839.81 1480.34 Q3836.76 1475.73 3836.76 1467.01 Q3836.76 1458.26 3839.81 1453.67 Q3842.89 1449.07 3848.7 1449.07 Z\" fill=\"#000000\" fill-rule=\"evenodd\" fill-opacity=\"1\" /><path clip-path=\"url(#clip8000)\" d=\"M 0 0 M143.329 1317.01 L159.648 1317.01 L159.648 1320.95 L137.704 1320.95 L137.704 1317.01 Q140.366 1314.26 144.949 1309.63 Q149.555 1304.98 150.736 1303.63 Q152.981 1301.11 153.861 1299.38 Q154.764 1297.62 154.764 1295.93 Q154.764 1293.17 152.819 1291.44 Q150.898 1289.7 147.796 1289.7 Q145.597 1289.7 143.143 1290.46 Q140.713 1291.23 137.935 1292.78 L137.935 1288.06 Q140.759 1286.92 143.213 1286.34 Q145.666 1285.76 147.703 1285.76 Q153.074 1285.76 156.268 1288.45 Q159.463 1291.13 159.463 1295.63 Q159.463 1297.76 158.652 1299.68 Q157.865 1301.57 155.759 1304.17 Q155.18 1304.84 152.078 1308.06 Q148.977 1311.25 143.329 1317.01 Z\" fill=\"#000000\" fill-rule=\"evenodd\" fill-opacity=\"1\" /><path clip-path=\"url(#clip8000)\" d=\"M 0 0 M164.764 1286.39 L183.12 1286.39 L183.12 1290.32 L169.046 1290.32 L169.046 1298.8 Q170.064 1298.45 171.083 1298.29 Q172.101 1298.1 173.12 1298.1 Q178.907 1298.1 182.287 1301.27 Q185.666 1304.44 185.666 1309.86 Q185.666 1315.44 182.194 1318.54 Q178.722 1321.62 172.402 1321.62 Q170.227 1321.62 167.958 1321.25 Q165.713 1320.88 163.305 1320.14 L163.305 1315.44 Q165.389 1316.57 167.611 1317.13 Q169.833 1317.69 172.31 1317.69 Q176.314 1317.69 178.652 1315.58 Q180.99 1313.47 180.99 1309.86 Q180.99 1306.25 178.652 1304.14 Q176.314 1302.04 172.31 1302.04 Q170.435 1302.04 168.56 1302.45 Q166.708 1302.87 164.764 1303.75 L164.764 1286.39 Z\" fill=\"#000000\" fill-rule=\"evenodd\" fill-opacity=\"1\" /><path clip-path=\"url(#clip8000)\" d=\"M 0 0 M137.75 987.987 L156.106 987.987 L156.106 991.922 L142.032 991.922 L142.032 1000.39 Q143.051 1000.05 144.069 999.885 Q145.088 999.699 146.106 999.699 Q151.893 999.699 155.273 1002.87 Q158.652 1006.04 158.652 1011.46 Q158.652 1017.04 155.18 1020.14 Q151.708 1023.22 145.389 1023.22 Q143.213 1023.22 140.944 1022.85 Q138.699 1022.48 136.292 1021.74 L136.292 1017.04 Q138.375 1018.17 140.597 1018.73 Q142.819 1019.28 145.296 1019.28 Q149.301 1019.28 151.639 1017.18 Q153.977 1015.07 153.977 1011.46 Q153.977 1007.85 151.639 1005.74 Q149.301 1003.63 145.296 1003.63 Q143.421 1003.63 141.546 1004.05 Q139.694 1004.47 137.75 1005.35 L137.75 987.987 Z\" fill=\"#000000\" fill-rule=\"evenodd\" fill-opacity=\"1\" /><path clip-path=\"url(#clip8000)\" d=\"M 0 0 M173.722 991.065 Q170.111 991.065 168.282 994.63 Q166.477 998.172 166.477 1005.3 Q166.477 1012.41 168.282 1015.97 Q170.111 1019.51 173.722 1019.51 Q177.356 1019.51 179.162 1015.97 Q180.99 1012.41 180.99 1005.3 Q180.99 998.172 179.162 994.63 Q177.356 991.065 173.722 991.065 M173.722 987.362 Q179.532 987.362 182.588 991.968 Q185.666 996.551 185.666 1005.3 Q185.666 1014.03 182.588 1018.63 Q179.532 1023.22 173.722 1023.22 Q167.912 1023.22 164.833 1018.63 Q161.777 1014.03 161.777 1005.3 Q161.777 996.551 164.833 991.968 Q167.912 987.362 173.722 987.362 Z\" fill=\"#000000\" fill-rule=\"evenodd\" fill-opacity=\"1\" /><path clip-path=\"url(#clip8000)\" d=\"M 0 0 M137.426 689.584 L159.648 689.584 L159.648 691.574 L147.102 724.144 L142.217 724.144 L154.023 693.519 L137.426 693.519 L137.426 689.584 Z\" fill=\"#000000\" fill-rule=\"evenodd\" fill-opacity=\"1\" /><path clip-path=\"url(#clip8000)\" d=\"M 0 0 M164.764 689.584 L183.12 689.584 L183.12 693.519 L169.046 693.519 L169.046 701.991 Q170.064 701.644 171.083 701.482 Q172.101 701.297 173.12 701.297 Q178.907 701.297 182.287 704.468 Q185.666 707.639 185.666 713.056 Q185.666 718.634 182.194 721.736 Q178.722 724.815 172.402 724.815 Q170.227 724.815 167.958 724.445 Q165.713 724.074 163.305 723.334 L163.305 718.634 Q165.389 719.769 167.611 720.324 Q169.833 720.88 172.31 720.88 Q176.314 720.88 178.652 718.773 Q180.99 716.667 180.99 713.056 Q180.99 709.445 178.652 707.338 Q176.314 705.232 172.31 705.232 Q170.435 705.232 168.56 705.648 Q166.708 706.065 164.764 706.945 L164.764 689.584 Z\" fill=\"#000000\" fill-rule=\"evenodd\" fill-opacity=\"1\" /><path clip-path=\"url(#clip8000)\" d=\"M 0 0 M111.731 421.806 L119.37 421.806 L119.37 395.44 L111.06 397.107 L111.06 392.847 L119.324 391.181 L124 391.181 L124 421.806 L131.639 421.806 L131.639 425.741 L111.731 425.741 L111.731 421.806 Z\" fill=\"#000000\" fill-rule=\"evenodd\" fill-opacity=\"1\" /><path clip-path=\"url(#clip8000)\" d=\"M 0 0 M146.708 394.259 Q143.097 394.259 141.268 397.824 Q139.463 401.366 139.463 408.496 Q139.463 415.602 141.268 419.167 Q143.097 422.708 146.708 422.708 Q150.342 422.708 152.148 419.167 Q153.977 415.602 153.977 408.496 Q153.977 401.366 152.148 397.824 Q150.342 394.259 146.708 394.259 M146.708 390.556 Q152.518 390.556 155.574 395.162 Q158.652 399.746 158.652 408.496 Q158.652 417.222 155.574 421.829 Q152.518 426.412 146.708 426.412 Q140.898 426.412 137.819 421.829 Q134.764 417.222 134.764 408.496 Q134.764 399.746 137.819 395.162 Q140.898 390.556 146.708 390.556 Z\" fill=\"#000000\" fill-rule=\"evenodd\" fill-opacity=\"1\" /><path clip-path=\"url(#clip8000)\" d=\"M 0 0 M173.722 394.259 Q170.111 394.259 168.282 397.824 Q166.477 401.366 166.477 408.496 Q166.477 415.602 168.282 419.167 Q170.111 422.708 173.722 422.708 Q177.356 422.708 179.162 419.167 Q180.99 415.602 180.99 408.496 Q180.99 401.366 179.162 397.824 Q177.356 394.259 173.722 394.259 M173.722 390.556 Q179.532 390.556 182.588 395.162 Q185.666 399.746 185.666 408.496 Q185.666 417.222 182.588 421.829 Q179.532 426.412 173.722 426.412 Q167.912 426.412 164.833 421.829 Q161.777 417.222 161.777 408.496 Q161.777 399.746 164.833 395.162 Q167.912 390.556 173.722 390.556 Z\" fill=\"#000000\" fill-rule=\"evenodd\" fill-opacity=\"1\" /><path clip-path=\"url(#clip8000)\" d=\"M 0 0 M114.324 123.403 L121.963 123.403 L121.963 97.0371 L113.653 98.7038 L113.653 94.4446 L121.917 92.7779 L126.592 92.7779 L126.592 123.403 L134.231 123.403 L134.231 127.338 L114.324 127.338 L114.324 123.403 Z\" fill=\"#000000\" fill-rule=\"evenodd\" fill-opacity=\"1\" /><path clip-path=\"url(#clip8000)\" d=\"M 0 0 M143.329 123.403 L159.648 123.403 L159.648 127.338 L137.704 127.338 L137.704 123.403 Q140.366 120.648 144.949 116.019 Q149.555 111.366 150.736 110.023 Q152.981 107.5 153.861 105.764 Q154.764 104.005 154.764 102.315 Q154.764 99.5603 152.819 97.8242 Q150.898 96.0881 147.796 96.0881 Q145.597 96.0881 143.143 96.852 Q140.713 97.6158 137.935 99.1668 L137.935 94.4446 Q140.759 93.3103 143.213 92.7316 Q145.666 92.1529 147.703 92.1529 Q153.074 92.1529 156.268 94.8381 Q159.463 97.5232 159.463 102.014 Q159.463 104.144 158.652 106.065 Q157.865 107.963 155.759 110.556 Q155.18 111.227 152.078 114.444 Q148.977 117.639 143.329 123.403 Z\" fill=\"#000000\" fill-rule=\"evenodd\" fill-opacity=\"1\" /><path clip-path=\"url(#clip8000)\" d=\"M 0 0 M164.764 92.7779 L183.12 92.7779 L183.12 96.7131 L169.046 96.7131 L169.046 105.185 Q170.064 104.838 171.083 104.676 Q172.101 104.491 173.12 104.491 Q178.907 104.491 182.287 107.662 Q185.666 110.833 185.666 116.25 Q185.666 121.829 182.194 124.931 Q178.722 128.009 172.402 128.009 Q170.227 128.009 167.958 127.639 Q165.713 127.268 163.305 126.528 L163.305 121.829 Q165.389 122.963 167.611 123.518 Q169.833 124.074 172.31 124.074 Q176.314 124.074 178.652 121.968 Q180.99 119.861 180.99 116.25 Q180.99 112.639 178.652 110.532 Q176.314 108.426 172.31 108.426 Q170.435 108.426 168.56 108.843 Q166.708 109.259 164.764 110.139 L164.764 92.7779 Z\" fill=\"#000000\" fill-rule=\"evenodd\" fill-opacity=\"1\" /><path clip-path=\"url(#clip8000)\" d=\"M 0 0 M1994.58 1525.47 L1994.58 1535.6 L2006.64 1535.6 L2006.64 1540.15 L1994.58 1540.15 L1994.58 1559.5 Q1994.58 1563.86 1995.75 1565.1 Q1996.96 1566.34 2000.62 1566.34 L2006.64 1566.34 L2006.64 1571.24 L2000.62 1571.24 Q1993.84 1571.24 1991.27 1568.73 Q1988.69 1566.18 1988.69 1559.5 L1988.69 1540.15 L1984.39 1540.15 L1984.39 1535.6 L1988.69 1535.6 L1988.69 1525.47 L1994.58 1525.47 Z\" fill=\"#000000\" fill-rule=\"evenodd\" fill-opacity=\"1\" /><path clip-path=\"url(#clip8000)\" d=\"M 0 0 M2012.78 1535.6 L2018.64 1535.6 L2018.64 1571.24 L2012.78 1571.24 L2012.78 1535.6 M2012.78 1521.72 L2018.64 1521.72 L2018.64 1529.13 L2012.78 1529.13 L2012.78 1521.72 Z\" fill=\"#000000\" fill-rule=\"evenodd\" fill-opacity=\"1\" /><path clip-path=\"url(#clip8000)\" d=\"M 0 0 M2052.54 1542.44 Q2054.73 1538.49 2057.79 1536.61 Q2060.84 1534.74 2064.98 1534.74 Q2070.55 1534.74 2073.57 1538.65 Q2076.6 1542.53 2076.6 1549.73 L2076.6 1571.24 L2070.71 1571.24 L2070.71 1549.92 Q2070.71 1544.79 2068.89 1542.31 Q2067.08 1539.83 2063.36 1539.83 Q2058.81 1539.83 2056.16 1542.85 Q2053.52 1545.88 2053.52 1551.1 L2053.52 1571.24 L2047.63 1571.24 L2047.63 1549.92 Q2047.63 1544.76 2045.82 1542.31 Q2044 1539.83 2040.22 1539.83 Q2035.73 1539.83 2033.09 1542.88 Q2030.45 1545.91 2030.45 1551.1 L2030.45 1571.24 L2024.56 1571.24 L2024.56 1535.6 L2030.45 1535.6 L2030.45 1541.13 Q2032.45 1537.86 2035.25 1536.3 Q2038.05 1534.74 2041.9 1534.74 Q2045.79 1534.74 2048.49 1536.71 Q2051.23 1538.68 2052.54 1542.44 Z\" fill=\"#000000\" fill-rule=\"evenodd\" fill-opacity=\"1\" /><path clip-path=\"url(#clip8000)\" d=\"M 0 0 M2113.23 1551.96 L2113.23 1554.82 L2086.31 1554.82 Q2086.69 1560.87 2089.93 1564.05 Q2093.21 1567.2 2099.04 1567.2 Q2102.41 1567.2 2105.56 1566.37 Q2108.74 1565.55 2111.86 1563.89 L2111.86 1569.43 Q2108.71 1570.77 2105.4 1571.47 Q2102.09 1572.17 2098.69 1572.17 Q2090.16 1572.17 2085.16 1567.2 Q2080.19 1562.24 2080.19 1553.77 Q2080.19 1545.02 2084.9 1539.89 Q2089.65 1534.74 2097.67 1534.74 Q2104.86 1534.74 2109.03 1539.38 Q2113.23 1544 2113.23 1551.96 M2107.38 1550.24 Q2107.31 1545.43 2104.67 1542.57 Q2102.06 1539.7 2097.73 1539.7 Q2092.83 1539.7 2089.87 1542.47 Q2086.94 1545.24 2086.5 1550.27 L2107.38 1550.24 Z\" fill=\"#000000\" fill-rule=\"evenodd\" fill-opacity=\"1\" /><path clip-path=\"url(#clip8000)\" d=\"M 0 0 M21.9562 871.613 L21.9562 865.757 L57.6042 865.757 L57.6042 871.613 L21.9562 871.613 M8.07896 871.613 L8.07896 865.757 L15.495 865.757 L15.495 871.613 L8.07896 871.613 Z\" fill=\"#000000\" fill-rule=\"evenodd\" fill-opacity=\"1\" /><path clip-path=\"url(#clip8000)\" d=\"M 0 0 M36.0881 829.981 L57.6042 829.981 L57.6042 835.838 L36.279 835.838 Q31.2183 835.838 28.7038 837.811 Q26.1894 839.785 26.1894 843.731 Q26.1894 848.474 29.2131 851.211 Q32.2368 853.948 37.4567 853.948 L57.6042 853.948 L57.6042 859.837 L21.9562 859.837 L21.9562 853.948 L27.4944 853.948 Q24.2797 851.848 22.6883 849.015 Q21.0968 846.15 21.0968 842.426 Q21.0968 836.283 24.9163 833.132 Q28.7038 829.981 36.0881 829.981 Z\" fill=\"#000000\" fill-rule=\"evenodd\" fill-opacity=\"1\" /><path clip-path=\"url(#clip8000)\" d=\"M 0 0 M27.3671 800.381 L8.07896 800.381 L8.07896 794.524 L57.6042 794.524 L57.6042 800.381 L52.257 800.381 Q55.4398 802.227 56.9994 805.06 Q58.5272 807.861 58.5272 811.807 Q58.5272 818.269 53.371 822.343 Q48.2147 826.385 39.812 826.385 Q31.4093 826.385 26.2531 822.343 Q21.0968 818.269 21.0968 811.807 Q21.0968 807.861 22.6564 805.06 Q24.1842 802.227 27.3671 800.381 M39.812 820.337 Q46.2732 820.337 49.9653 817.696 Q53.6256 815.022 53.6256 810.375 Q53.6256 805.728 49.9653 803.054 Q46.2732 800.381 39.812 800.381 Q33.3508 800.381 29.6905 803.054 Q25.9984 805.728 25.9984 810.375 Q25.9984 815.022 29.6905 817.696 Q33.3508 820.337 39.812 820.337 Z\" fill=\"#000000\" fill-rule=\"evenodd\" fill-opacity=\"1\" /><path clip-path=\"url(#clip8000)\" d=\"M 0 0 M21.9562 788.382 L21.9562 782.525 L57.6042 782.525 L57.6042 788.382 L21.9562 788.382 M8.07896 788.382 L8.07896 782.525 L15.495 782.525 L15.495 788.382 L8.07896 788.382 Z\" fill=\"#000000\" fill-rule=\"evenodd\" fill-opacity=\"1\" /><path clip-path=\"url(#clip8000)\" d=\"M 0 0 M23.3248 750.728 L28.7993 750.728 Q27.4307 753.211 26.7623 755.725 Q26.0621 758.208 26.0621 760.754 Q26.0621 766.452 29.6905 769.603 Q33.2872 772.754 39.812 772.754 Q46.3369 772.754 49.9653 769.603 Q53.5619 766.452 53.5619 760.754 Q53.5619 758.208 52.8935 755.725 Q52.1933 753.211 50.8247 750.728 L56.2355 750.728 Q57.3814 753.179 57.9543 755.821 Q58.5272 758.431 58.5272 761.391 Q58.5272 769.444 53.4664 774.186 Q48.4057 778.928 39.812 778.928 Q31.091 778.928 26.0939 774.154 Q21.0968 769.348 21.0968 761.009 Q21.0968 758.304 21.6697 755.725 Q22.2108 753.147 23.3248 750.728 Z\" fill=\"#000000\" fill-rule=\"evenodd\" fill-opacity=\"1\" /><path clip-path=\"url(#clip8000)\" d=\"M 0 0 M39.6847 728.385 Q39.6847 735.483 41.3079 738.22 Q42.9312 740.957 46.8461 740.957 Q49.9653 740.957 51.8114 738.92 Q53.6256 736.851 53.6256 733.318 Q53.6256 728.448 50.1881 725.52 Q46.7188 722.56 40.9897 722.56 L39.6847 722.56 L39.6847 728.385 M37.2657 716.704 L57.6042 716.704 L57.6042 722.56 L52.1933 722.56 Q55.4398 724.565 56.9994 727.557 Q58.5272 730.549 58.5272 734.878 Q58.5272 740.352 55.4716 743.599 Q52.3843 746.813 47.2281 746.813 Q41.2125 746.813 38.1569 742.803 Q35.1014 738.761 35.1014 730.772 L35.1014 722.56 L34.5285 722.56 Q30.4862 722.56 28.2901 725.234 Q26.0621 727.875 26.0621 732.682 Q26.0621 735.737 26.7941 738.634 Q27.5262 741.53 28.9903 744.204 L23.5795 744.204 Q22.3381 740.989 21.7334 737.965 Q21.0968 734.941 21.0968 732.077 Q21.0968 724.343 25.1072 720.523 Q29.1176 716.704 37.2657 716.704 Z\" fill=\"#000000\" fill-rule=\"evenodd\" fill-opacity=\"1\" /><path clip-path=\"url(#clip8000)\" d=\"M 0 0 M11.8347 704.768 L21.9562 704.768 L21.9562 692.705 L26.5077 692.705 L26.5077 704.768 L45.8594 704.768 Q50.2199 704.768 51.4613 703.59 Q52.7026 702.381 52.7026 698.721 L52.7026 692.705 L57.6042 692.705 L57.6042 698.721 Q57.6042 705.5 55.0897 708.078 Q52.5434 710.656 45.8594 710.656 L26.5077 710.656 L26.5077 714.953 L21.9562 714.953 L21.9562 710.656 L11.8347 710.656 L11.8347 704.768 Z\" fill=\"#000000\" fill-rule=\"evenodd\" fill-opacity=\"1\" /><path clip-path=\"url(#clip8000)\" d=\"M 0 0 M26.0621 672.748 Q26.0621 677.459 29.7542 680.196 Q33.4145 682.934 39.812 682.934 Q46.2095 682.934 49.9017 680.228 Q53.5619 677.491 53.5619 672.748 Q53.5619 668.07 49.8698 665.332 Q46.1777 662.595 39.812 662.595 Q33.4781 662.595 29.786 665.332 Q26.0621 668.07 26.0621 672.748 M21.0968 672.748 Q21.0968 665.11 26.0621 660.749 Q31.0273 656.389 39.812 656.389 Q48.5649 656.389 53.5619 660.749 Q58.5272 665.11 58.5272 672.748 Q58.5272 680.419 53.5619 684.78 Q48.5649 689.108 39.812 689.108 Q31.0273 689.108 26.0621 684.78 Q21.0968 680.419 21.0968 672.748 Z\" fill=\"#000000\" fill-rule=\"evenodd\" fill-opacity=\"1\" /><path clip-path=\"url(#clip8000)\" d=\"M 0 0 M27.4307 629.589 Q26.8578 630.576 26.6032 631.753 Q26.3167 632.899 26.3167 634.3 Q26.3167 639.265 29.5632 641.938 Q32.7779 644.58 38.8253 644.58 L57.6042 644.58 L57.6042 650.468 L21.9562 650.468 L21.9562 644.58 L27.4944 644.58 Q24.2479 642.734 22.6883 639.774 Q21.0968 636.814 21.0968 632.581 Q21.0968 631.976 21.1923 631.244 Q21.256 630.512 21.4151 629.621 L27.4307 629.589 Z\" fill=\"#000000\" fill-rule=\"evenodd\" fill-opacity=\"1\" /><path clip-path=\"url(#clip8000)\" d=\"M 0 0 M23.0065 600.721 L28.5447 600.721 Q27.2716 603.203 26.635 605.877 Q25.9984 608.55 25.9984 611.415 Q25.9984 615.775 27.3352 617.972 Q28.672 620.136 31.3456 620.136 Q33.3826 620.136 34.5603 618.576 Q35.7061 617.017 36.7565 612.306 L37.2021 610.301 Q38.5389 604.062 40.9897 601.453 Q43.4086 598.811 47.7691 598.811 Q52.7344 598.811 55.6308 602.758 Q58.5272 606.672 58.5272 613.547 Q58.5272 616.412 57.9543 619.531 Q57.4132 622.619 56.2992 626.056 L50.2518 626.056 Q51.9387 622.81 52.798 619.658 Q53.6256 616.507 53.6256 613.42 Q53.6256 609.282 52.2251 607.054 Q50.7929 604.826 48.2147 604.826 Q45.8276 604.826 44.5545 606.45 Q43.2813 608.041 42.1037 613.484 L41.6262 615.521 Q40.4804 620.963 38.1251 623.382 Q35.738 625.801 31.6002 625.801 Q26.5713 625.801 23.8341 622.237 Q21.0968 618.672 21.0968 612.115 Q21.0968 608.869 21.5743 606.004 Q22.0517 603.139 23.0065 600.721 Z\" fill=\"#000000\" fill-rule=\"evenodd\" fill-opacity=\"1\" /><polyline clip-path=\"url(#clip8002)\" style=\"stroke:#009af9; stroke-width:4; stroke-opacity:1; fill:none\" points=\"\n",
       "  328.108,1243.99 330.466,1243.99 332.823,1232.05 335.18,1232.05 337.537,1232.05 339.894,1232.05 342.251,1232.05 344.608,1232.05 346.965,1232.05 349.323,1196.24 \n",
       "  351.68,1184.31 354.037,1184.31 356.394,1184.31 358.751,1184.31 361.108,1172.37 363.465,1160.44 365.822,1160.44 368.18,1160.44 370.537,1160.44 372.894,1160.44 \n",
       "  375.251,1160.44 377.608,1160.44 379.965,1148.5 382.322,1148.5 384.679,1160.44 387.037,1160.44 389.394,1160.44 391.751,1160.44 394.108,1160.44 396.465,1160.44 \n",
       "  398.822,1160.44 401.179,1160.44 403.536,1172.37 405.894,1172.37 408.251,1172.37 410.608,1172.37 412.965,1160.44 415.322,1160.44 417.679,1160.44 420.036,1148.5 \n",
       "  422.393,1148.5 424.751,1148.5 427.108,1160.44 429.465,1160.44 431.822,1160.44 434.179,1160.44 436.536,1160.44 438.893,1160.44 441.25,1160.44 443.608,1160.44 \n",
       "  445.965,1160.44 448.322,1172.37 450.679,1172.37 453.036,1172.37 455.393,1172.37 457.75,1172.37 460.108,1172.37 462.465,1160.44 464.822,1148.5 467.179,1136.56 \n",
       "  469.536,1136.56 471.893,1136.56 474.25,1136.56 476.607,1148.5 478.965,1160.44 481.322,1160.44 483.679,1160.44 486.036,1148.5 488.393,1148.5 490.75,1148.5 \n",
       "  493.107,1148.5 495.464,1136.56 497.822,1148.5 500.179,1136.56 502.536,1124.63 504.893,1124.63 507.25,1124.63 509.607,1100.76 511.964,1100.76 514.321,1088.82 \n",
       "  516.679,1088.82 519.036,1088.82 521.393,1088.82 523.75,1088.82 526.107,1088.82 528.464,1076.88 530.821,1064.95 533.178,1064.95 535.536,1064.95 537.893,1064.95 \n",
       "  540.25,1064.95 542.607,1064.95 544.964,1064.95 547.321,1029.14 549.678,1029.14 552.035,1041.07 554.393,1041.07 556.75,1041.07 559.107,1053.01 561.464,1053.01 \n",
       "  563.821,1053.01 566.178,1053.01 568.535,1053.01 570.892,1053.01 573.25,1053.01 575.607,1053.01 577.964,1064.95 580.321,1053.01 582.678,1053.01 585.035,1053.01 \n",
       "  587.392,1053.01 589.749,1053.01 592.107,1053.01 594.464,1053.01 596.821,1076.88 599.178,1076.88 601.535,1076.88 603.892,1076.88 606.249,1076.88 608.607,1088.82 \n",
       "  610.964,1076.88 613.321,1076.88 615.678,1076.88 618.035,1076.88 620.392,1076.88 622.749,1076.88 625.106,1076.88 627.464,1076.88 629.821,1064.95 632.178,1076.88 \n",
       "  634.535,1076.88 636.892,1076.88 639.249,1076.88 641.606,1076.88 643.963,1088.82 646.321,1088.82 648.678,1088.82 651.035,1088.82 653.392,1088.82 655.749,1088.82 \n",
       "  658.106,1088.82 660.463,1088.82 662.82,1100.76 665.178,1088.82 667.535,1088.82 669.892,1088.82 672.249,1088.82 674.606,1064.95 676.963,1041.07 679.32,1041.07 \n",
       "  681.677,1041.07 684.035,1053.01 686.392,1053.01 688.749,1053.01 691.106,1053.01 693.463,1053.01 695.82,1053.01 698.177,1053.01 700.534,1041.07 702.892,1041.07 \n",
       "  705.249,1041.07 707.606,1041.07 709.963,1041.07 712.32,1053.01 714.677,1053.01 717.034,1053.01 719.391,1053.01 721.749,1053.01 724.106,1053.01 726.463,1041.07 \n",
       "  728.82,1064.95 731.177,1076.88 733.534,1064.95 735.891,1064.95 738.248,1064.95 740.606,1053.01 742.963,1053.01 745.32,1041.07 747.677,1041.07 750.034,1041.07 \n",
       "  752.391,1041.07 754.748,1041.07 757.106,1041.07 759.463,1041.07 761.82,1041.07 764.177,1029.14 766.534,1029.14 768.891,1029.14 771.248,1029.14 773.605,1029.14 \n",
       "  775.963,1029.14 778.32,1029.14 780.677,1017.2 783.034,1017.2 785.391,1017.2 787.748,1017.2 790.105,1017.2 792.462,1017.2 794.82,1005.27 797.177,1005.27 \n",
       "  799.534,1005.27 801.891,1005.27 804.248,1005.27 806.605,993.33 808.962,993.33 811.319,993.33 813.677,1005.27 816.034,1005.27 818.391,1005.27 820.748,1005.27 \n",
       "  823.105,993.33 825.462,1005.27 827.819,993.33 830.176,993.33 832.534,1005.27 834.891,1005.27 837.248,1005.27 839.605,993.33 841.962,993.33 844.319,993.33 \n",
       "  846.676,1005.27 849.033,1005.27 851.391,1005.27 853.748,1005.27 856.105,1005.27 858.462,1005.27 860.819,981.394 863.176,993.33 865.533,981.394 867.89,981.394 \n",
       "  870.248,981.394 872.605,981.394 874.962,981.394 877.319,981.394 879.676,981.394 882.033,981.394 884.39,981.394 886.747,981.394 889.105,981.394 891.462,981.394 \n",
       "  893.819,969.458 896.176,957.522 898.533,957.522 900.89,957.522 903.247,957.522 905.605,945.586 907.962,945.586 910.319,933.65 912.676,933.65 915.033,933.65 \n",
       "  917.39,933.65 919.747,933.65 922.104,933.65 924.462,921.714 926.819,933.65 929.176,945.586 931.533,945.586 933.89,945.586 936.247,945.586 938.604,945.586 \n",
       "  940.961,933.65 943.319,933.65 945.676,945.586 948.033,969.458 950.39,969.458 952.747,969.458 955.104,969.458 957.461,945.586 959.818,957.522 962.176,957.522 \n",
       "  964.533,957.522 966.89,957.522 969.247,957.522 971.604,957.522 973.961,957.522 976.318,945.586 978.675,945.586 981.033,933.65 983.39,933.65 985.747,933.65 \n",
       "  988.104,933.65 990.461,945.586 992.818,957.522 995.175,957.522 997.532,957.522 999.89,957.522 1002.25,957.522 1004.6,933.65 1006.96,933.65 1009.32,921.714 \n",
       "  1011.68,921.714 1014.03,909.778 1016.39,909.778 1018.75,909.778 1021.1,909.778 1023.46,897.842 1025.82,897.842 1028.18,897.842 1030.53,897.842 1032.89,897.842 \n",
       "  1035.25,897.842 1037.6,909.778 1039.96,897.842 1042.32,897.842 1044.67,897.842 1047.03,897.842 1049.39,897.842 1051.75,897.842 1054.1,885.905 1056.46,873.969 \n",
       "  1058.82,873.969 1061.17,862.033 1063.53,862.033 1065.89,862.033 1068.25,862.033 1070.6,862.033 1072.96,850.097 1075.32,850.097 1077.67,850.097 1080.03,850.097 \n",
       "  1082.39,850.097 1084.75,850.097 1087.1,838.161 1089.46,838.161 1091.82,814.289 1094.17,814.289 1096.53,802.353 1098.89,802.353 1101.25,802.353 1103.6,802.353 \n",
       "  1105.96,790.417 1108.32,790.417 1110.67,790.417 1113.03,790.417 1115.39,790.417 1117.75,790.417 1120.1,790.417 1122.46,790.417 1124.82,778.48 1127.17,778.48 \n",
       "  1129.53,778.48 1131.89,778.48 1134.25,778.48 1136.6,778.48 1138.96,778.48 1141.32,778.48 1143.67,778.48 1146.03,790.417 1148.39,790.417 1150.75,790.417 \n",
       "  1153.1,790.417 1155.46,790.417 1157.82,802.353 1160.17,790.417 1162.53,790.417 1164.89,790.417 1167.25,790.417 1169.6,790.417 1171.96,766.544 1174.32,778.48 \n",
       "  1176.67,778.48 1179.03,778.48 1181.39,778.48 1183.75,778.48 1186.1,766.544 1188.46,742.672 1190.82,730.736 1193.17,694.928 1195.53,694.928 1197.89,694.928 \n",
       "  1200.25,694.928 1202.6,671.055 1204.96,694.928 1207.32,706.864 1209.67,706.864 1212.03,694.928 1214.39,694.928 1216.75,694.928 1219.1,694.928 1221.46,671.055 \n",
       "  1223.82,659.119 1226.17,659.119 1228.53,659.119 1230.89,659.119 1233.25,659.119 1235.6,635.247 1237.96,647.183 1240.32,647.183 1242.67,647.183 1245.03,647.183 \n",
       "  1247.39,647.183 1249.75,647.183 1252.1,647.183 1254.46,647.183 1256.82,647.183 1259.17,647.183 1261.53,635.247 1263.89,635.247 1266.24,635.247 1268.6,635.247 \n",
       "  1270.96,635.247 1273.32,635.247 1275.67,611.375 1278.03,599.439 1280.39,599.439 1282.74,599.439 1285.1,587.503 1287.46,575.566 1289.82,587.503 1292.17,563.63 \n",
       "  1294.53,539.758 1296.89,539.758 1299.24,539.758 1301.6,539.758 1303.96,515.886 1306.32,503.95 1308.67,503.95 1311.03,515.886 1313.39,515.886 1315.74,515.886 \n",
       "  1318.1,492.014 1320.46,492.014 1322.82,480.077 1325.17,468.141 1327.53,456.205 1329.89,456.205 1332.24,456.205 1334.6,456.205 1336.96,492.014 1339.32,480.077 \n",
       "  1341.67,492.014 1344.03,515.886 1346.39,515.886 1348.74,515.886 1351.1,575.566 1353.46,635.247 1355.82,599.439 1358.17,635.247 1360.53,694.928 1362.89,694.928 \n",
       "  1365.24,694.928 1367.6,647.183 1369.96,659.119 1372.32,635.247 1374.67,599.439 1377.03,575.566 1379.39,575.566 1381.74,575.566 1384.1,575.566 1386.46,611.375 \n",
       "  1388.82,599.439 1391.17,611.375 1393.53,587.503 1395.89,587.503 1398.24,587.503 1400.6,551.694 1402.96,539.758 1405.32,563.63 1407.67,611.375 1410.03,671.055 \n",
       "  1412.39,671.055 1414.74,671.055 1417.1,635.247 1419.46,623.311 1421.82,647.183 1424.17,635.247 1426.53,587.503 1428.89,587.503 1431.24,587.503 1433.6,575.566 \n",
       "  1435.96,587.503 1438.32,611.375 1440.67,623.311 1443.03,623.311 1445.39,623.311 1447.74,623.311 1450.1,635.247 1452.46,647.183 1454.82,623.311 1457.17,671.055 \n",
       "  1459.53,718.8 1461.89,718.8 1464.24,718.8 1466.6,706.864 1468.96,682.991 1471.31,718.8 1473.67,694.928 1476.03,694.928 1478.39,694.928 1480.74,694.928 \n",
       "  1483.1,718.8 1485.46,730.736 1487.81,694.928 1490.17,671.055 1492.53,682.991 1494.89,682.991 1497.24,682.991 1499.6,694.928 1501.96,682.991 1504.31,694.928 \n",
       "  1506.67,671.055 1509.03,659.119 1511.39,659.119 1513.74,659.119 1516.1,659.119 1518.46,635.247 1520.81,647.183 1523.17,647.183 1525.53,659.119 1527.89,659.119 \n",
       "  1530.24,659.119 1532.6,671.055 1534.96,671.055 1537.31,718.8 1539.67,682.991 1542.03,694.928 1544.39,694.928 1546.74,694.928 1549.1,682.991 1551.46,718.8 \n",
       "  1553.81,706.864 1556.17,730.736 1558.53,694.928 1560.89,694.928 1563.24,694.928 1565.6,682.991 1567.96,682.991 1570.31,671.055 1572.67,647.183 1575.03,635.247 \n",
       "  1577.39,635.247 1579.74,635.247 1582.1,623.311 1584.46,647.183 1586.81,647.183 1589.17,647.183 1591.53,647.183 1593.89,647.183 1596.24,647.183 1598.6,611.375 \n",
       "  1600.96,623.311 1603.31,635.247 1605.67,635.247 1608.03,647.183 1610.39,647.183 1612.74,647.183 1615.1,647.183 1617.46,659.119 1619.81,659.119 1622.17,671.055 \n",
       "  1624.53,659.119 1626.89,659.119 1629.24,659.119 1631.6,635.247 1633.96,647.183 1636.31,611.375 1638.67,587.503 1641.03,587.503 1643.39,587.503 1645.74,587.503 \n",
       "  1648.1,587.503 1650.46,587.503 1652.81,587.503 1655.17,587.503 1657.53,611.375 1659.89,611.375 1662.24,611.375 1664.6,623.311 1666.96,647.183 1669.31,647.183 \n",
       "  1671.67,659.119 1674.03,659.119 1676.39,659.119 1678.74,659.119 1681.1,682.991 1683.46,694.928 1685.81,671.055 1688.17,694.928 1690.53,682.991 1692.88,682.991 \n",
       "  1695.24,682.991 1697.6,694.928 1699.96,682.991 1702.31,682.991 1704.67,694.928 1707.03,671.055 1709.38,671.055 1711.74,671.055 1714.1,647.183 1716.46,635.247 \n",
       "  1718.81,647.183 1721.17,635.247 1723.53,623.311 1725.88,623.311 1728.24,623.311 1730.6,623.311 1732.96,611.375 1735.31,599.439 1737.67,611.375 1740.03,611.375 \n",
       "  1742.38,611.375 1744.74,611.375 1747.1,611.375 1749.46,599.439 1751.81,575.566 1754.17,563.63 1756.53,563.63 1758.88,563.63 1761.24,563.63 1763.6,575.566 \n",
       "  1765.96,575.566 1768.31,575.566 1770.67,587.503 1773.03,575.566 1775.38,575.566 1777.74,575.566 1780.1,563.63 1782.46,551.694 1784.81,563.63 1787.17,563.63 \n",
       "  1789.53,587.503 1791.88,587.503 1794.24,587.503 1796.6,587.503 1798.96,587.503 1801.31,599.439 1803.67,563.63 1806.03,551.694 1808.38,551.694 1810.74,551.694 \n",
       "  1813.1,539.758 1815.46,527.822 1817.81,539.758 1820.17,539.758 1822.53,539.758 1824.88,539.758 1827.24,539.758 1829.6,515.886 1831.96,503.95 1834.31,503.95 \n",
       "  1836.67,503.95 1839.03,515.886 1841.38,515.886 1843.74,515.886 1846.1,515.886 1848.46,527.822 1850.81,515.886 1853.17,515.886 1855.53,515.886 1857.88,515.886 \n",
       "  1860.24,515.886 1862.6,515.886 1864.96,515.886 1867.31,503.95 1869.67,503.95 1872.03,503.95 1874.38,503.95 1876.74,503.95 1879.1,503.95 1881.46,492.014 \n",
       "  1883.81,468.141 1886.17,444.269 1888.53,444.269 1890.88,444.269 1893.24,444.269 1895.6,444.269 1897.95,456.205 1900.31,456.205 1902.67,456.205 1905.03,468.141 \n",
       "  1907.38,468.141 1909.74,468.141 1912.1,444.269 1914.45,432.333 1916.81,420.397 1919.17,432.333 1921.53,444.269 1923.88,444.269 1926.24,444.269 1928.6,468.141 \n",
       "  1930.95,468.141 1933.31,468.141 1935.67,551.694 1938.03,575.566 1940.38,575.566 1942.74,575.566 1945.1,575.566 1947.45,539.758 1949.81,539.758 1952.17,551.694 \n",
       "  1954.53,563.63 1956.88,563.63 1959.24,563.63 1961.6,563.63 1963.95,587.503 1966.31,587.503 1968.67,611.375 1971.03,635.247 1973.38,635.247 1975.74,635.247 \n",
       "  1978.1,623.311 1980.45,635.247 1982.81,587.503 1985.17,587.503 1987.53,563.63 1989.88,563.63 1992.24,563.63 1994.6,575.566 1996.95,551.694 1999.31,503.95 \n",
       "  2001.67,492.014 2004.03,503.95 2006.38,503.95 2008.74,503.95 2011.1,527.822 2013.45,575.566 2015.81,575.566 2018.17,587.503 2020.53,575.566 2022.88,575.566 \n",
       "  2025.24,575.566 2027.6,587.503 2029.95,659.119 2032.31,659.119 2034.67,659.119 2037.03,682.991 2039.38,682.991 2041.74,682.991 2044.1,659.119 2046.45,647.183 \n",
       "  2048.81,587.503 2051.17,575.566 2053.53,563.63 2055.88,563.63 2058.24,563.63 2060.6,527.822 2062.95,539.758 2065.31,539.758 2067.67,635.247 2070.03,611.375 \n",
       "  2072.38,611.375 2074.74,611.375 2077.1,682.991 2079.45,647.183 2081.81,647.183 2084.17,647.183 2086.53,682.991 2088.88,682.991 2091.24,682.991 2093.6,718.8 \n",
       "  2095.95,742.672 2098.31,730.736 2100.67,802.353 2103.02,814.289 2105.38,814.289 2107.74,814.289 2110.1,909.778 2112.45,909.778 2114.81,850.097 2117.17,826.225 \n",
       "  2119.52,790.417 2121.88,790.417 2124.24,790.417 2126.6,802.353 2128.95,802.353 2131.31,790.417 2133.67,814.289 2136.02,778.48 2138.38,778.48 2140.74,778.48 \n",
       "  2143.1,766.544 2145.45,742.672 2147.81,718.8 2150.17,730.736 2152.52,730.736 2154.88,730.736 2157.24,730.736 2159.6,730.736 2161.95,718.8 2164.31,694.928 \n",
       "  2166.67,682.991 2169.02,647.183 2171.38,647.183 2173.74,647.183 2176.1,647.183 2178.45,671.055 2180.81,659.119 2183.17,671.055 2185.52,635.247 2187.88,635.247 \n",
       "  2190.24,635.247 2192.6,671.055 2194.95,659.119 2197.31,611.375 2199.67,623.311 2202.02,599.439 2204.38,599.439 2206.74,599.439 2209.1,599.439 2211.45,575.566 \n",
       "  2213.81,575.566 2216.17,587.503 2218.52,611.375 2220.88,611.375 2223.24,611.375 2225.6,599.439 2227.95,575.566 2230.31,563.63 2232.67,563.63 2235.02,527.822 \n",
       "  2237.38,527.822 2239.74,527.822 2242.1,527.822 2244.45,527.822 2246.81,515.886 2249.17,527.822 2251.52,515.886 2253.88,515.886 2256.24,515.886 2258.6,492.014 \n",
       "  2260.95,503.95 2263.31,515.886 2265.67,515.886 2268.02,503.95 2270.38,503.95 2272.74,503.95 2275.1,503.95 2277.45,527.822 2279.81,539.758 2282.17,551.694 \n",
       "  2284.52,575.566 2286.88,575.566 2289.24,575.566 2291.6,551.694 2293.95,551.694 2296.31,539.758 2298.67,551.694 2301.02,527.822 2303.38,527.822 2305.74,527.822 \n",
       "  2308.1,527.822 2310.45,503.95 2312.81,527.822 2315.17,515.886 2317.52,527.822 2319.88,527.822 2322.24,527.822 2324.59,563.63 2326.95,539.758 2329.31,551.694 \n",
       "  2331.67,551.694 2334.02,527.822 2336.38,527.822 2338.74,527.822 2341.09,492.014 2343.45,492.014 2345.81,492.014 2348.17,480.077 2350.52,468.141 2352.88,468.141 \n",
       "  2355.24,468.141 2357.59,480.077 2359.95,492.014 2362.31,503.95 2364.67,492.014 2367.02,480.077 2369.38,480.077 2371.74,480.077 2374.09,480.077 2376.45,468.141 \n",
       "  2378.81,468.141 2381.17,456.205 2383.52,456.205 2385.88,456.205 2388.24,456.205 2390.59,456.205 2392.95,444.269 2395.31,444.269 2397.67,468.141 2400.02,468.141 \n",
       "  2402.38,468.141 2404.74,468.141 2407.09,456.205 2409.45,456.205 2411.81,444.269 2414.17,468.141 2416.52,468.141 2418.88,468.141 2421.24,468.141 2423.59,468.141 \n",
       "  2425.95,492.014 2428.31,503.95 2430.67,527.822 2433.02,515.886 2435.38,515.886 2437.74,515.886 2440.09,563.63 2442.45,551.694 2444.81,551.694 2447.17,527.822 \n",
       "  2449.52,527.822 2451.88,527.822 2454.24,527.822 2456.59,551.694 2458.95,527.822 2461.31,527.822 2463.67,551.694 2466.02,551.694 2468.38,551.694 2470.74,551.694 \n",
       "  2473.09,551.694 2475.45,551.694 2477.81,599.439 2480.17,599.439 2482.52,623.311 2484.88,623.311 2487.24,623.311 2489.59,635.247 2491.95,587.503 2494.31,563.63 \n",
       "  2496.67,539.758 2499.02,515.886 2501.38,515.886 2503.74,515.886 2506.09,503.95 2508.45,492.014 2510.81,515.886 2513.17,503.95 2515.52,503.95 2517.88,503.95 \n",
       "  2520.24,503.95 2522.59,503.95 2524.95,468.141 2527.31,456.205 2529.66,432.333 2532.02,420.397 2534.38,420.397 2536.74,420.397 2539.09,432.333 2541.45,444.269 \n",
       "  2543.81,456.205 2546.16,456.205 2548.52,456.205 2550.88,456.205 2553.24,456.205 2555.59,420.397 2557.95,432.333 2560.31,420.397 2562.66,420.397 2565.02,420.397 \n",
       "  2567.38,420.397 2569.74,420.397 2572.09,432.333 2574.45,432.333 2576.81,420.397 2579.16,408.461 2581.52,384.589 2583.88,384.589 2586.24,384.589 2588.59,372.652 \n",
       "  2590.95,372.652 2593.31,384.589 2595.66,384.589 2598.02,384.589 2600.38,384.589 2602.74,384.589 2605.09,396.525 2607.45,372.652 2609.81,384.589 2612.16,384.589 \n",
       "  2614.52,396.525 2616.88,396.525 2619.24,396.525 2621.59,384.589 2623.95,396.525 2626.31,384.589 2628.66,396.525 2631.02,456.205 2633.38,456.205 2635.74,456.205 \n",
       "  2638.09,492.014 2640.45,515.886 2642.81,515.886 2645.16,480.077 2647.52,480.077 2649.88,480.077 2652.24,480.077 2654.59,503.95 2656.95,480.077 2659.31,515.886 \n",
       "  2661.66,563.63 2664.02,527.822 2666.38,527.822 2668.74,527.822 2671.09,492.014 2673.45,503.95 2675.81,492.014 2678.16,480.077 2680.52,492.014 2682.88,492.014 \n",
       "  2685.24,492.014 2687.59,527.822 2689.95,515.886 2692.31,515.886 2694.66,480.077 2697.02,468.141 2699.38,468.141 2701.74,468.141 2704.09,468.141 2706.45,503.95 \n",
       "  2708.81,480.077 2711.16,432.333 2713.52,432.333 2715.88,432.333 2718.24,432.333 2720.59,420.397 2722.95,420.397 2725.31,396.525 2727.66,384.589 2730.02,384.589 \n",
       "  2732.38,384.589 2734.74,384.589 2737.09,396.525 2739.45,408.461 2741.81,396.525 2744.16,384.589 2746.52,396.525 2748.88,396.525 2751.23,396.525 2753.59,408.461 \n",
       "  2755.95,408.461 2758.31,408.461 2760.66,408.461 2763.02,408.461 2765.38,408.461 2767.73,408.461 2770.09,420.397 2772.45,408.461 2774.81,468.141 2777.16,503.95 \n",
       "  2779.52,456.205 2781.88,456.205 2784.23,456.205 2786.59,456.205 2788.95,480.077 2791.31,480.077 2793.66,456.205 2796.02,408.461 2798.38,408.461 2800.73,408.461 \n",
       "  2803.09,432.333 2805.45,396.525 2807.81,408.461 2810.16,408.461 2812.52,408.461 2814.88,408.461 2817.23,408.461 2819.59,432.333 2821.95,420.397 2824.31,420.397 \n",
       "  2826.66,420.397 2829.02,408.461 2831.38,408.461 2833.73,408.461 2836.09,396.525 2838.45,396.525 2840.81,396.525 2843.16,396.525 2845.52,372.652 2847.88,372.652 \n",
       "  2850.23,372.652 2852.59,360.716 2854.95,360.716 2857.31,360.716 2859.66,336.844 2862.02,336.844 2864.38,336.844 2866.73,336.844 2869.09,336.844 2871.45,336.844 \n",
       "  2873.81,324.908 2876.16,324.908 2878.52,312.972 2880.88,312.972 2883.23,312.972 2885.59,301.036 2887.95,301.036 2890.31,324.908 2892.66,324.908 2895.02,324.908 \n",
       "  2897.38,324.908 2899.73,324.908 2902.09,301.036 2904.45,289.1 2906.81,289.1 2909.16,289.1 2911.52,301.036 2913.88,301.036 2916.23,301.036 2918.59,301.036 \n",
       "  2920.95,360.716 2923.31,336.844 2925.66,336.844 2928.02,301.036 2930.38,301.036 2932.73,301.036 2935.09,312.972 2937.45,312.972 2939.81,312.972 2942.16,289.1 \n",
       "  2944.52,277.164 2946.88,277.164 2949.23,277.164 2951.59,277.164 2953.95,277.164 2956.3,277.164 2958.66,265.227 2961.02,241.355 2963.38,241.355 2965.73,241.355 \n",
       "  2968.09,253.291 2970.45,253.291 2972.8,253.291 2975.16,241.355 2977.52,229.419 2979.88,229.419 2982.23,229.419 2984.59,241.355 2986.95,253.291 2989.3,253.291 \n",
       "  2991.66,217.483 2994.02,229.419 2996.38,229.419 2998.73,229.419 3001.09,229.419 3003.45,241.355 3005.8,217.483 3008.16,205.547 3010.52,205.547 3012.88,205.547 \n",
       "  3015.23,205.547 3017.59,217.483 3019.95,193.611 3022.3,193.611 3024.66,169.738 3027.02,169.738 3029.38,169.738 3031.73,169.738 3034.09,169.738 3036.45,169.738 \n",
       "  3038.8,169.738 3041.16,181.675 3043.52,169.738 3045.88,169.738 3048.23,169.738 3050.59,241.355 3052.95,217.483 3055.3,205.547 3057.66,217.483 3060.02,229.419 \n",
       "  3062.38,229.419 3064.73,229.419 3067.09,241.355 3069.45,217.483 3071.8,169.738 3074.16,157.802 3076.52,169.738 3078.88,169.738 3081.23,169.738 3083.59,169.738 \n",
       "  3085.95,157.802 3088.3,145.866 3090.66,145.866 3093.02,157.802 3095.38,157.802 3097.73,157.802 3100.09,157.802 3102.45,169.738 3104.8,157.802 3107.16,169.738 \n",
       "  3109.52,193.611 3111.88,193.611 3114.23,193.611 3116.59,265.227 3118.95,289.1 3121.3,360.716 3123.66,444.269 3126.02,575.566 3128.38,575.566 3130.73,575.566 \n",
       "  3133.09,444.269 3135.45,408.461 3137.8,408.461 3140.16,444.269 3142.52,515.886 3144.88,515.886 3147.23,515.886 3149.59,623.311 3151.95,623.311 3154.3,671.055 \n",
       "  3156.66,850.097 3159.02,814.289 3161.37,814.289 3163.73,814.289 3166.09,969.458 3168.45,1005.27 3170.8,1100.76 3173.16,1100.76 3175.52,1100.76 3177.87,1100.76 \n",
       "  3180.23,1100.76 3182.59,1243.99 3184.95,1076.88 3187.3,945.586 3189.66,873.969 3192.02,909.778 3194.37,909.778 3196.73,909.778 3199.09,897.842 3201.45,885.905 \n",
       "  3203.8,993.33 3206.16,993.33 3208.52,1005.27 3210.87,1005.27 3213.23,1005.27 3215.59,862.033 3217.95,766.544 3220.3,778.48 3222.66,730.736 3225.02,730.736 \n",
       "  3227.37,730.736 3229.73,730.736 3232.09,766.544 3234.45,730.736 3236.8,766.544 3239.16,778.48 3241.52,706.864 3243.87,706.864 3246.23,706.864 3248.59,718.8 \n",
       "  3250.95,802.353 3253.3,766.544 3255.66,742.672 3258.02,754.608 3260.37,754.608 3262.73,754.608 3265.09,706.864 3267.45,682.991 3269.8,647.183 3272.16,671.055 \n",
       "  3274.52,718.8 3276.87,718.8 3279.23,718.8 3281.59,754.608 3283.95,718.8 3286.3,730.736 3288.66,718.8 3291.02,694.928 3293.37,694.928 3295.73,694.928 \n",
       "  3298.09,694.928 3300.45,694.928 3302.8,766.544 3305.16,766.544 3307.52,754.608 3309.87,754.608 3312.23,754.608 3314.59,659.119 3316.95,671.055 3319.3,659.119 \n",
       "  3321.66,659.119 3324.02,682.991 3326.37,682.991 3328.73,682.991 3331.09,682.991 3333.45,611.375 3335.8,563.63 3338.16,539.758 3340.52,575.566 3342.87,575.566 \n",
       "  3345.23,575.566 3347.59,575.566 3349.95,551.694 3352.3,480.077 3354.66,480.077 3357.02,384.589 3359.37,384.589 3361.73,384.589 3364.09,348.78 3366.45,372.652 \n",
       "  3368.8,372.652 3371.16,492.014 3373.52,527.822 3375.87,527.822 3378.23,527.822 3380.59,527.822 3382.94,456.205 3385.3,480.077 3387.66,503.95 3390.02,468.141 \n",
       "  3392.37,468.141 3394.73,468.141 3397.09,515.886 3399.44,492.014 3401.8,515.886 3404.16,539.758 3406.52,563.63 3408.87,563.63 3411.23,563.63 3413.59,563.63 \n",
       "  3415.94,527.822 3418.3,515.886 3420.66,503.95 3423.02,503.95 3425.37,503.95 3427.73,503.95 3430.09,492.014 3432.44,503.95 3434.8,503.95 3437.16,503.95 \n",
       "  3439.52,503.95 3441.87,503.95 3444.23,503.95 3446.59,456.205 3448.94,444.269 3451.3,408.461 3453.66,432.333 3456.02,432.333 3458.37,432.333 3460.73,432.333 \n",
       "  3463.09,444.269 3465.44,408.461 3467.8,408.461 3470.16,420.397 3472.52,456.205 3474.87,456.205 3477.23,456.205 3479.59,456.205 3481.94,456.205 3484.3,456.205 \n",
       "  3486.66,480.077 3489.02,468.141 3491.37,468.141 3493.73,468.141 3496.09,444.269 3498.44,432.333 3500.8,396.525 3503.16,372.652 3505.52,372.652 3507.87,372.652 \n",
       "  3510.23,372.652 3512.59,324.908 3514.94,289.1 3517.3,301.036 3519.66,312.972 3522.02,312.972 3524.37,312.972 3526.73,312.972 3529.09,312.972 3531.44,324.908 \n",
       "  3533.8,312.972 3536.16,336.844 3538.52,312.972 3540.87,312.972 3543.23,312.972 3545.59,277.164 3547.94,265.227 3550.3,277.164 3552.66,241.355 3555.02,229.419 \n",
       "  3557.37,229.419 3559.73,229.419 3562.09,241.355 3564.44,241.355 3566.8,181.675 3569.16,181.675 3571.52,253.291 3573.87,253.291 3576.23,253.291 3578.59,253.291 \n",
       "  3580.94,312.972 3583.3,289.1 3585.66,289.1 3588.01,324.908 3590.37,324.908 3592.73,324.908 3595.09,301.036 3597.44,289.1 3599.8,265.227 3602.16,301.036 \n",
       "  3604.51,312.972 3606.87,312.972 3609.23,312.972 3611.59,360.716 3613.94,384.589 3616.3,360.716 3618.66,408.461 3621.01,384.589 3623.37,384.589 3625.73,384.589 \n",
       "  3628.09,336.844 3630.44,348.78 3632.8,301.036 3635.16,301.036 3637.51,324.908 3639.87,324.908 3642.23,324.908 3644.59,289.1 3646.94,277.164 3649.3,265.227 \n",
       "  3651.66,265.227 3654.01,241.355 3656.37,241.355 3658.73,241.355 3661.09,205.547 3663.44,229.419 3665.8,229.419 3668.16,253.291 3670.51,217.483 3672.87,217.483 \n",
       "  3675.23,217.483 3677.59,229.419 3679.94,253.291 3682.3,265.227 3684.66,265.227 3687.01,265.227 3689.37,265.227 3691.73,265.227 3694.09,289.1 3696.44,336.844 \n",
       "  3698.8,408.461 3701.16,420.397 3703.51,456.205 3705.87,456.205 3708.23,456.205 3710.59,408.461 3712.94,348.78 3715.3,277.164 3717.66,253.291 3720.01,265.227 \n",
       "  3722.37,265.227 3724.73,265.227 3727.09,110.058 3729.44,157.802 3731.8,145.866 3734.16,169.738 3736.51,145.866 3738.87,145.866 3741.23,145.866 3743.59,98.1218 \n",
       "  3745.94,110.058 3748.3,110.058 3750.66,145.866 3753.01,157.802 3755.37,157.802 3757.73,157.802 3760.09,133.93 3762.44,86.1857 3764.8,98.1218 3767.16,98.1218 \n",
       "  3769.51,98.1218 \n",
       "  \"/>\n",
       "<polyline clip-path=\"url(#clip8002)\" style=\"stroke:#e26f46; stroke-width:4; stroke-opacity:1; fill:none\" points=\"\n",
       "  328.108,1327.3 330.466,1326.59 332.823,1325.75 335.18,1324.92 337.537,1324.08 339.894,1323.24 342.251,1322.53 344.608,1321.81 346.965,1321.1 349.323,1320.14 \n",
       "  351.68,1319.07 354.037,1317.99 356.394,1316.92 358.751,1315.84 361.108,1314.65 363.465,1313.34 365.822,1312.14 368.18,1310.83 370.537,1309.52 372.894,1308.32 \n",
       "  375.251,1307.13 377.608,1305.94 379.965,1304.74 382.322,1303.55 384.679,1302.36 387.037,1301.16 389.394,1299.61 391.751,1298.18 394.108,1296.87 396.465,1295.67 \n",
       "  398.822,1294.48 401.179,1293.4 403.536,1292.33 405.894,1291.26 408.251,1290.18 410.608,1288.99 412.965,1287.91 415.322,1286.84 417.679,1285.77 420.036,1284.69 \n",
       "  422.393,1283.62 424.751,1282.54 427.108,1281.71 429.465,1280.87 431.822,1280.04 434.179,1279.32 436.536,1278.48 438.893,1277.65 441.25,1276.93 443.608,1276.1 \n",
       "  445.965,1275.26 448.322,1274.55 450.679,1273.83 453.036,1273.11 455.393,1272.4 457.75,1271.68 460.108,1270.96 462.465,1270.01 464.822,1269.17 467.179,1268.1 \n",
       "  469.536,1267.14 471.893,1266.19 474.25,1265.12 476.607,1264.16 478.965,1263.21 481.322,1262.37 483.679,1261.65 486.036,1260.82 488.393,1259.86 490.75,1259.03 \n",
       "  493.107,1258.19 495.464,1257.36 497.822,1256.4 500.179,1255.57 502.536,1254.49 504.893,1253.66 507.25,1252.58 509.607,1251.51 511.964,1250.32 514.321,1249.12 \n",
       "  516.679,1247.93 519.036,1246.73 521.393,1245.54 523.75,1244.47 526.107,1243.27 528.464,1241.96 530.821,1240.65 533.178,1239.33 535.536,1237.9 537.893,1236.59 \n",
       "  540.25,1235.28 542.607,1233.96 544.964,1232.53 547.321,1230.98 549.678,1229.43 552.035,1227.99 554.393,1226.56 556.75,1225.13 559.107,1223.7 561.464,1222.27 \n",
       "  563.821,1220.83 566.178,1219.28 568.535,1217.85 570.892,1216.3 573.25,1214.75 575.607,1213.07 577.964,1211.52 580.321,1209.97 582.678,1208.42 585.035,1206.75 \n",
       "  587.392,1205.2 589.749,1203.64 592.107,1202.09 594.464,1200.66 596.821,1199.23 599.178,1197.8 601.535,1196.48 603.892,1194.93 606.249,1193.5 608.607,1192.19 \n",
       "  610.964,1190.75 613.321,1189.44 615.678,1188.01 618.035,1186.58 620.392,1185.14 622.749,1183.83 625.106,1182.4 627.464,1180.97 629.821,1179.53 632.178,1178.1 \n",
       "  634.535,1176.79 636.892,1175.36 639.249,1173.92 641.606,1172.49 643.963,1171.06 646.321,1169.63 648.678,1168.31 651.035,1166.88 653.392,1165.45 655.749,1164.02 \n",
       "  658.106,1162.58 660.463,1161.27 662.82,1159.84 665.178,1158.41 667.535,1156.97 669.892,1155.54 672.249,1154.11 674.606,1152.56 676.963,1151.01 679.32,1149.34 \n",
       "  681.677,1147.66 684.035,1145.99 686.392,1144.44 688.749,1142.89 691.106,1141.1 693.463,1139.43 695.82,1137.64 698.177,1135.97 700.534,1134.18 702.892,1132.51 \n",
       "  705.249,1130.95 707.606,1129.52 709.963,1128.33 712.32,1127.13 714.677,1125.94 717.034,1124.75 719.391,1123.55 721.749,1122.36 724.106,1121.17 726.463,1119.85 \n",
       "  728.82,1118.78 731.177,1117.7 733.534,1116.51 735.891,1115.44 738.248,1114.36 740.606,1113.29 742.963,1112.21 745.32,1111.14 747.677,1109.95 750.034,1108.87 \n",
       "  752.391,1107.68 754.748,1106.6 757.106,1105.53 759.463,1104.46 761.82,1103.38 764.177,1102.31 766.534,1101.11 768.891,1100.04 771.248,1098.85 773.605,1098.01 \n",
       "  775.963,1097.06 778.32,1096.22 780.677,1095.26 783.034,1094.43 785.391,1093.47 787.748,1092.76 790.105,1091.92 792.462,1091.09 794.82,1090.25 797.177,1089.42 \n",
       "  799.534,1088.58 801.891,1087.75 804.248,1086.91 806.605,1086.07 808.962,1085.12 811.319,1084.16 813.677,1083.33 816.034,1082.49 818.391,1081.54 820.748,1080.7 \n",
       "  823.105,1079.75 825.462,1078.91 827.819,1077.96 830.176,1077 832.534,1076.05 834.891,1075.09 837.248,1074.26 839.605,1073.3 841.962,1072.35 844.319,1071.51 \n",
       "  846.676,1070.68 849.033,1069.96 851.391,1069.01 853.748,1068.17 856.105,1067.33 858.462,1066.5 860.819,1065.42 863.176,1064.59 865.533,1063.51 867.89,1062.56 \n",
       "  870.248,1061.61 872.605,1060.53 874.962,1059.46 877.319,1058.38 879.676,1057.31 882.033,1056.23 884.39,1055.16 886.747,1054.2 889.105,1053.25 891.462,1052.41 \n",
       "  893.819,1051.46 896.176,1050.5 898.533,1049.55 900.89,1048.48 903.247,1047.28 905.605,1046.09 907.962,1044.89 910.319,1043.7 912.676,1042.51 915.033,1041.31 \n",
       "  917.39,1040.12 919.747,1039.05 922.104,1037.85 924.462,1036.66 926.819,1035.58 929.176,1034.63 931.533,1033.56 933.89,1032.72 936.247,1031.88 938.604,1031.05 \n",
       "  940.961,1030.21 943.319,1029.38 945.676,1028.54 948.033,1027.83 950.39,1027.23 952.747,1026.63 955.104,1026.04 957.461,1025.44 959.818,1024.84 962.176,1024.25 \n",
       "  964.533,1023.65 966.89,1023.05 969.247,1022.45 971.604,1022.1 973.961,1021.62 976.318,1021.14 978.675,1020.54 981.033,1019.95 983.39,1019.35 985.747,1018.64 \n",
       "  988.104,1018.04 990.461,1017.44 992.818,1016.84 995.175,1016.37 997.532,1015.77 999.89,1015.29 1002.25,1014.7 1004.6,1013.98 1006.96,1013.38 1009.32,1012.67 \n",
       "  1011.68,1011.95 1014.03,1011.12 1016.39,1010.28 1018.75,1009.56 1021.1,1008.61 1023.46,1007.53 1025.82,1006.58 1028.18,1005.62 1030.53,1004.55 1032.89,1003.6 \n",
       "  1035.25,1002.52 1037.6,1001.57 1039.96,1000.61 1042.32,999.657 1044.67,998.582 1047.03,997.627 1049.39,996.673 1051.75,995.598 1054.1,994.643 1056.46,993.569 \n",
       "  1058.82,992.376 1061.17,991.182 1063.53,989.988 1065.89,988.795 1068.25,987.601 1070.6,986.288 1072.96,984.975 1075.32,983.662 1077.67,982.349 1080.03,981.036 \n",
       "  1082.39,979.723 1084.75,978.291 1087.1,976.859 1089.46,975.546 1091.82,973.994 1094.17,972.442 1096.53,970.891 1098.89,969.339 1101.25,968.026 1103.6,966.713 \n",
       "  1105.96,965.4 1108.32,963.848 1110.67,962.416 1113.03,960.984 1115.39,959.551 1117.75,958 1120.1,956.567 1122.46,955.135 1124.82,953.703 1127.17,952.27 \n",
       "  1129.53,950.719 1131.89,949.286 1134.25,947.854 1136.6,946.302 1138.96,944.75 1141.32,943.318 1143.67,941.766 1146.03,940.334 1148.39,938.782 1150.75,937.469 \n",
       "  1153.1,935.918 1155.46,934.366 1157.82,932.814 1160.17,931.382 1162.53,929.83 1164.89,928.398 1167.25,926.846 1169.6,925.533 1171.96,923.982 1174.32,922.549 \n",
       "  1176.67,920.998 1179.03,919.565 1181.39,918.133 1183.75,916.701 1186.1,915.149 1188.46,913.597 1190.82,911.926 1193.17,910.016 1195.53,908.226 1197.89,906.316 \n",
       "  1200.25,904.526 1202.6,902.497 1204.96,900.706 1207.32,898.916 1209.67,897.245 1212.03,895.454 1214.39,893.664 1216.75,891.873 1219.1,890.202 1221.46,888.293 \n",
       "  1223.82,886.383 1226.17,884.473 1228.53,882.563 1230.89,880.654 1233.25,878.863 1235.6,876.834 1237.96,874.805 1240.32,872.895 1242.67,870.866 1245.03,868.837 \n",
       "  1247.39,866.927 1249.75,864.898 1252.1,862.988 1254.46,861.078 1256.82,859.169 1259.17,857.139 1261.53,855.11 1263.89,853.081 1266.24,851.052 1268.6,849.142 \n",
       "  1270.96,846.994 1273.32,844.965 1275.67,842.816 1278.03,840.548 1280.39,838.28 1282.74,836.012 1285.1,833.864 1287.46,831.477 1289.82,829.328 1292.17,827.06 \n",
       "  1294.53,824.554 1296.89,822.167 1299.24,819.66 1301.6,817.153 1303.96,814.647 1306.32,812.021 1308.67,809.276 1311.03,806.769 1313.39,804.143 1315.74,801.517 \n",
       "  1318.1,798.891 1320.46,796.265 1322.82,793.639 1325.17,790.894 1327.53,788.149 1329.89,785.403 1332.24,782.777 1334.6,780.032 1336.96,777.645 1339.32,775.138 \n",
       "  1341.67,772.632 1344.03,770.364 1346.39,767.977 1348.74,765.709 1351.1,763.799 1353.46,762.009 1355.82,760.099 1358.17,758.428 1360.53,756.995 1362.89,755.563 \n",
       "  1365.24,754.25 1367.6,752.698 1369.96,751.147 1372.32,749.237 1374.67,747.208 1377.03,744.94 1379.39,742.791 1381.74,740.762 1384.1,738.614 1386.46,736.704 \n",
       "  1388.82,734.675 1391.17,732.765 1393.53,730.736 1395.89,728.707 1398.24,726.678 1400.6,724.41 1402.96,722.142 1405.32,720.113 1407.67,718.322 1410.03,716.89 \n",
       "  1412.39,715.458 1414.74,713.906 1417.1,712.116 1419.46,710.206 1421.82,708.535 1424.17,706.744 1426.53,704.715 1428.89,702.805 1431.24,700.776 1433.6,698.866 \n",
       "  1435.96,697.076 1438.32,695.405 1440.67,693.853 1443.03,692.182 1445.39,690.631 1447.74,689.079 1450.1,687.647 1452.46,686.214 1454.82,684.663 1457.17,683.469 \n",
       "  1459.53,682.514 1461.89,681.44 1464.24,680.366 1466.6,679.291 1468.96,678.098 1471.31,677.143 1473.67,676.069 1476.03,674.875 1478.39,673.801 1480.74,672.846 \n",
       "  1483.1,672.01 1485.46,671.294 1487.81,670.339 1490.17,669.265 1492.53,668.31 1494.89,667.236 1497.24,666.4 1499.6,665.445 1501.96,664.61 1504.31,663.655 \n",
       "  1506.67,662.7 1509.03,661.626 1511.39,660.671 1513.74,659.597 1516.1,658.761 1518.46,657.806 1520.81,656.971 1523.17,656.016 1525.53,655.3 1527.89,654.464 \n",
       "  1530.24,653.748 1532.6,653.032 1534.96,652.435 1537.31,652.077 1539.67,651.48 1542.03,650.883 1544.39,650.406 1546.74,649.809 1549.1,649.332 1551.46,648.974 \n",
       "  1553.81,648.615 1556.17,648.257 1558.53,647.899 1560.89,647.422 1563.24,646.944 1565.6,646.348 1567.96,645.87 1570.31,645.154 1572.67,644.438 1575.03,643.483 \n",
       "  1577.39,642.647 1579.74,641.812 1582.1,640.857 1584.46,640.021 1586.81,639.186 1589.17,638.47 1591.53,637.634 1593.89,636.799 1596.24,636.202 1598.6,635.247 \n",
       "  1600.96,634.411 1603.31,633.576 1605.67,632.74 1608.03,632.024 1610.39,631.427 1612.74,630.831 1615.1,630.353 1617.46,630.234 1619.81,629.995 1622.17,629.876 \n",
       "  1624.53,629.637 1626.89,629.637 1629.24,629.398 1631.6,629.04 1633.96,628.682 1636.31,628.205 1638.67,627.608 1641.03,627.011 1643.39,626.414 1645.74,625.937 \n",
       "  1648.1,625.579 1650.46,625.221 1652.81,624.743 1655.17,624.385 1657.53,624.146 1659.89,624.027 1662.24,623.788 1664.6,623.669 1666.96,623.669 1669.31,623.669 \n",
       "  1671.67,623.669 1674.03,623.788 1676.39,623.788 1678.74,623.908 1681.1,624.146 1683.46,624.385 1685.81,624.624 1688.17,624.863 1690.53,625.221 1692.88,625.459 \n",
       "  1695.24,625.698 1697.6,626.056 1699.96,626.414 1702.31,626.892 1704.67,627.369 1707.03,627.847 1709.38,628.324 1711.74,628.801 1714.1,629.16 1716.46,629.518 \n",
       "  1718.81,630.114 1721.17,630.711 1723.53,631.189 1725.88,631.547 1728.24,632.144 1730.6,632.86 1732.96,633.457 1735.31,633.934 1737.67,634.411 1740.03,635.008 \n",
       "  1742.38,635.605 1744.74,636.321 1747.1,637.037 1749.46,637.754 1751.81,638.47 1754.17,639.067 1756.53,639.663 1758.88,640.26 1761.24,640.618 1763.6,641.096 \n",
       "  1765.96,641.573 1768.31,641.931 1770.67,642.289 1773.03,642.647 1775.38,642.647 1777.74,642.289 1780.1,642.17 1782.46,641.693 1784.81,640.976 1787.17,640.26 \n",
       "  1789.53,639.663 1791.88,639.305 1794.24,638.947 1796.6,638.589 1798.96,638.589 1801.31,638.708 1803.67,638.589 1806.03,638.47 1808.38,638.35 1810.74,637.992 \n",
       "  1813.1,637.754 1815.46,637.276 1817.81,636.918 1820.17,636.679 1822.53,636.441 1824.88,636.321 1827.24,636.321 1829.6,636.083 1831.96,635.486 1834.31,634.531 \n",
       "  1836.67,633.695 1839.03,632.74 1841.38,632.144 1843.74,631.547 1846.1,630.831 1848.46,630.234 1850.81,629.756 1853.17,629.398 1855.53,629.04 1857.88,628.682 \n",
       "  1860.24,628.324 1862.6,627.727 1864.96,627.13 1867.31,626.534 1869.67,625.817 1872.03,625.221 1874.38,624.385 1876.74,623.669 1879.1,622.953 1881.46,621.998 \n",
       "  1883.81,620.566 1886.17,619.014 1888.53,617.582 1890.88,616.03 1893.24,614.717 1895.6,613.285 1897.95,611.852 1900.31,610.539 1902.67,609.226 1905.03,608.033 \n",
       "  1907.38,606.6 1909.74,605.168 1912.1,603.736 1914.45,602.423 1916.81,600.99 1919.17,599.558 1921.53,598.245 1923.88,596.813 1926.24,595.5 1928.6,594.306 \n",
       "  1930.95,593.113 1933.31,592.038 1935.67,591.441 1938.03,590.964 1940.38,590.606 1942.74,590.248 1945.1,589.77 1947.45,589.174 1949.81,588.577 1952.17,587.98 \n",
       "  1954.53,587.383 1956.88,586.786 1959.24,586.19 1961.6,585.354 1963.95,584.877 1966.31,584.28 1968.67,583.802 1971.03,583.444 1973.38,583.206 1975.74,582.728 \n",
       "  1978.1,582.251 1980.45,581.773 1982.81,581.176 1985.17,580.58 1987.53,579.863 1989.88,579.147 1992.24,578.431 1994.6,577.954 1996.95,577.476 1999.31,576.641 \n",
       "  2001.67,575.925 2004.03,575.208 2006.38,574.492 2008.74,573.657 2011.1,573.06 2013.45,572.702 2015.81,572.224 2018.17,571.866 2020.53,571.508 2022.88,571.269 \n",
       "  2025.24,571.031 2027.6,570.792 2029.95,570.911 2032.31,571.031 2034.67,571.031 2037.03,571.269 2039.38,571.508 2041.74,571.628 2044.1,571.628 2046.45,571.508 \n",
       "  2048.81,571.031 2051.17,570.553 2053.53,570.076 2055.88,569.718 2058.24,569.24 2060.6,568.763 2062.95,568.524 2065.31,568.166 2067.67,568.524 2070.03,568.643 \n",
       "  2072.38,568.763 2074.74,568.882 2077.1,569.36 2079.45,569.718 2081.81,569.956 2084.17,570.076 2086.53,570.553 2088.88,570.911 2091.24,571.031 2093.6,571.508 \n",
       "  2095.95,571.866 2098.31,572.344 2100.67,573.06 2103.02,574.015 2105.38,574.731 2107.74,575.328 2110.1,576.641 2112.45,577.834 2114.81,578.789 2117.17,579.625 \n",
       "  2119.52,580.222 2121.88,580.699 2124.24,581.296 2126.6,582.012 2128.95,582.609 2131.31,583.206 2133.67,584.041 2136.02,584.638 2138.38,585.354 2140.74,586.19 \n",
       "  2143.1,586.786 2145.45,587.383 2147.81,587.98 2150.17,588.577 2152.52,589.174 2154.88,589.77 2157.24,590.367 2159.6,591.203 2161.95,591.8 2164.31,592.158 \n",
       "  2166.67,592.635 2169.02,592.754 2171.38,592.993 2173.74,593.232 2176.1,593.709 2178.45,594.306 2180.81,594.784 2183.17,595.38 2185.52,595.738 2187.88,596.097 \n",
       "  2190.24,596.455 2192.6,596.932 2194.95,597.41 2197.31,597.529 2199.67,597.887 2202.02,598.006 2204.38,598.126 2206.74,598.484 2209.1,598.603 2211.45,598.722 \n",
       "  2213.81,598.603 2216.17,598.603 2218.52,598.722 2220.88,598.961 2223.24,599.081 2225.6,599.081 2227.95,599.081 2230.31,599.2 2232.67,599.2 2235.02,599.081 \n",
       "  2237.38,599.081 2239.74,599.081 2242.1,598.961 2244.45,598.961 2246.81,598.722 2249.17,598.722 2251.52,598.603 2253.88,598.603 2256.24,598.603 2258.6,598.603 \n",
       "  2260.95,598.603 2263.31,598.603 2265.67,598.603 2268.02,598.484 2270.38,598.484 2272.74,598.364 2275.1,598.245 2277.45,598.364 2279.81,598.484 2282.17,598.603 \n",
       "  2284.52,598.961 2286.88,599.319 2289.24,599.677 2291.6,599.916 2293.95,600.155 2296.31,600.394 2298.67,600.632 2301.02,600.752 2303.38,600.871 2305.74,601.11 \n",
       "  2308.1,601.468 2310.45,601.707 2312.81,602.184 2315.17,602.661 2317.52,603.139 2319.88,603.497 2322.24,603.974 2324.59,604.571 2326.95,605.049 2329.31,605.526 \n",
       "  2331.67,605.884 2334.02,606.242 2336.38,606.72 2338.74,607.316 2341.09,607.675 2343.45,608.033 2345.81,608.271 2348.17,608.51 2350.52,608.629 2352.88,608.629 \n",
       "  2355.24,608.629 2357.59,608.629 2359.95,608.271 2362.31,607.913 2364.67,607.436 2367.02,606.958 2369.38,606.362 2371.74,606.123 2374.09,605.765 2376.45,605.287 \n",
       "  2378.81,604.691 2381.17,604.094 2383.52,603.497 2385.88,602.9 2388.24,602.184 2390.59,601.468 2392.95,600.513 2395.31,599.558 2397.67,598.603 2400.02,597.648 \n",
       "  2402.38,596.813 2404.74,595.858 2407.09,595.142 2409.45,594.425 2411.81,593.709 2414.17,593.232 2416.52,592.635 2418.88,592.038 2421.24,591.561 2423.59,591.441 \n",
       "  2425.95,591.441 2428.31,591.441 2430.67,591.561 2433.02,591.561 2435.38,591.561 2437.74,591.203 2440.09,591.203 2442.45,590.964 2444.81,590.845 2447.17,590.606 \n",
       "  2449.52,590.248 2451.88,590.009 2454.24,589.174 2456.59,588.577 2458.95,587.861 2461.31,587.025 2463.67,586.309 2466.02,585.593 2468.38,584.996 2470.74,584.399 \n",
       "  2473.09,584.28 2475.45,584.16 2477.81,584.28 2480.17,584.519 2482.52,584.877 2484.88,585.354 2487.24,585.831 2489.59,586.428 2491.95,586.07 2494.31,585.831 \n",
       "  2496.67,585.473 2499.02,584.877 2501.38,584.041 2503.74,583.206 2506.09,582.489 2508.45,581.654 2510.81,580.699 2513.17,579.625 2515.52,578.67 2517.88,577.476 \n",
       "  2520.24,576.163 2522.59,574.85 2524.95,573.06 2527.31,571.031 2529.66,568.882 2532.02,566.734 2534.38,563.988 2536.74,561.362 2539.09,558.975 2541.45,556.827 \n",
       "  2543.81,555.036 2546.16,553.127 2548.52,551.336 2550.88,549.426 2553.24,547.397 2555.59,545.368 2557.95,543.22 2560.31,541.31 2562.66,539.281 2565.02,537.251 \n",
       "  2567.38,535.342 2569.74,533.551 2572.09,532 2574.45,530.329 2576.81,528.657 2579.16,526.867 2581.52,524.957 2583.88,522.928 2586.24,521.138 2588.59,519.347 \n",
       "  2590.95,517.557 2593.31,516.125 2595.66,514.692 2598.02,513.26 2600.38,511.828 2602.74,510.157 2605.09,508.724 2607.45,507.053 2609.81,505.621 2612.16,504.308 \n",
       "  2614.52,502.995 2616.88,501.443 2619.24,500.011 2621.59,498.698 2623.95,497.504 2626.31,496.311 2628.66,495.117 2631.02,494.281 2633.38,493.565 2635.74,492.849 \n",
       "  2638.09,492.372 2640.45,492.014 2642.81,491.536 2645.16,490.701 2647.52,489.984 2649.88,489.388 2652.24,488.791 2654.59,488.552 2656.95,488.075 2659.31,487.955 \n",
       "  2661.66,488.194 2664.02,488.194 2666.38,488.194 2668.74,488.194 2671.09,488.075 2673.45,487.955 2675.81,487.717 2678.16,487.597 2680.52,487.478 2682.88,487.478 \n",
       "  2685.24,487.359 2687.59,487.478 2689.95,487.478 2692.31,487.478 2694.66,487.359 2697.02,487.12 2699.38,487 2701.74,486.642 2704.09,486.284 2706.45,485.926 \n",
       "  2708.81,485.449 2711.16,484.613 2713.52,483.897 2715.88,483.181 2718.24,482.584 2720.59,481.868 2722.95,481.152 2725.31,480.436 2727.66,479.6 2730.02,478.765 \n",
       "  2732.38,478.048 2734.74,477.332 2737.09,476.616 2739.45,476.019 2741.81,475.303 2744.16,474.468 2746.52,473.751 2748.88,472.796 2751.23,472.08 2753.59,471.245 \n",
       "  2755.95,470.409 2758.31,469.812 2760.66,469.096 2763.02,468.499 2765.38,468.022 2767.73,467.545 2770.09,467.186 2772.45,466.709 2774.81,466.709 2777.16,466.948 \n",
       "  2779.52,466.828 2781.88,466.709 2784.23,466.59 2786.59,466.232 2788.95,466.232 2791.31,466.232 2793.66,466.112 2796.02,465.635 2798.38,465.277 2800.73,464.919 \n",
       "  2803.09,464.799 2805.45,464.441 2807.81,464.202 2810.16,463.844 2812.52,463.606 2814.88,463.367 2817.23,463.128 2819.59,463.128 2821.95,462.889 2824.31,462.531 \n",
       "  2826.66,462.293 2829.02,461.935 2831.38,461.696 2833.73,461.457 2836.09,461.218 2838.45,460.741 2840.81,460.383 2843.16,460.025 2845.52,459.428 2847.88,458.951 \n",
       "  2850.23,458.234 2852.59,457.518 2854.95,456.563 2857.31,455.728 2859.66,454.654 2862.02,453.699 2864.38,452.386 2866.73,451.192 2869.09,449.998 2871.45,448.924 \n",
       "  2873.81,447.85 2876.16,446.776 2878.52,445.582 2880.88,444.15 2883.23,442.956 2885.59,441.763 2887.95,440.33 2890.31,439.137 2892.66,437.824 2895.02,436.63 \n",
       "  2897.38,435.317 2899.73,434.004 2902.09,432.452 2904.45,430.662 2906.81,428.872 2909.16,426.962 2911.52,425.171 2913.88,423.262 2916.23,421.71 2918.59,420.278 \n",
       "  2920.95,419.323 2923.31,418.248 2925.66,417.294 2928.02,416.1 2930.38,414.906 2932.73,413.951 2935.09,412.758 2937.45,411.684 2939.81,410.609 2942.16,409.416 \n",
       "  2944.52,408.222 2946.88,406.909 2949.23,405.835 2951.59,404.88 2953.95,404.044 2956.3,403.209 2958.66,402.373 2961.02,401.418 2963.38,400.344 2965.73,399.151 \n",
       "  2968.09,398.076 2970.45,396.883 2972.8,395.809 2975.16,394.615 2977.52,393.302 2979.88,392.228 2982.23,391.153 2984.59,390.199 2986.95,389.244 2989.3,388.289 \n",
       "  2991.66,387.215 2994.02,386.14 2996.38,384.947 2998.73,383.872 3001.09,382.798 3003.45,381.843 3005.8,380.888 3008.16,379.933 3010.52,378.979 3012.88,378.024 \n",
       "  3015.23,377.069 3017.59,376.114 3019.95,375.159 3022.3,374.085 3024.66,372.891 3027.02,371.698 3029.38,370.385 3031.73,369.31 3034.09,368.117 3036.45,366.923 \n",
       "  3038.8,365.61 3041.16,364.417 3043.52,363.223 3045.88,362.029 3048.23,360.716 3050.59,359.881 3052.95,358.926 3055.3,357.494 3057.66,356.181 3060.02,354.987 \n",
       "  3062.38,353.435 3064.73,351.884 3067.09,350.332 3069.45,348.9 3071.8,347.229 3074.16,345.438 3076.52,343.648 3078.88,341.857 3081.23,340.067 3083.59,338.157 \n",
       "  3085.95,335.889 3088.3,333.741 3090.66,331.712 3093.02,329.563 3095.38,327.773 3097.73,325.863 3100.09,323.953 3102.45,322.282 3104.8,320.372 3107.16,318.582 \n",
       "  3109.52,316.911 3111.88,315.12 3114.23,313.33 3116.59,311.898 3118.95,310.823 3121.3,310.227 3123.66,310.107 3126.02,310.704 3128.38,311.301 3130.73,311.659 \n",
       "  3133.09,311.54 3135.45,311.42 3137.8,311.301 3140.16,311.301 3142.52,311.778 3144.88,312.256 3147.23,312.853 3149.59,314.046 3151.95,315.478 3154.3,317.03 \n",
       "  3156.66,319.656 3159.02,322.043 3161.37,324.311 3163.73,326.579 3166.09,329.802 3168.45,333.144 3170.8,337.083 3173.16,341.022 3175.52,344.961 3177.87,348.78 \n",
       "  3180.23,352.6 3182.59,357.255 3184.95,360.955 3187.3,363.939 3189.66,366.565 3192.02,369.31 3194.37,372.056 3196.73,374.801 3199.09,377.188 3201.45,379.337 \n",
       "  3203.8,382.321 3206.16,385.305 3208.52,388.408 3210.87,391.392 3213.23,394.376 3215.59,396.405 3217.95,398.196 3220.3,400.225 3222.66,402.015 3225.02,403.806 \n",
       "  3227.37,405.477 3229.73,407.387 3232.09,409.296 3234.45,411.087 3236.8,413.116 3239.16,415.145 3241.52,416.816 3243.87,418.368 3246.23,419.919 3248.59,421.591 \n",
       "  3250.95,423.739 3253.3,425.649 3255.66,427.559 3258.02,429.468 3260.37,431.498 3262.73,433.407 3265.09,435.198 3267.45,436.749 3269.8,438.301 3272.16,439.972 \n",
       "  3274.52,441.882 3276.87,443.911 3279.23,445.821 3281.59,448.089 3283.95,450.118 3286.3,452.386 3288.66,454.534 3291.02,456.444 3293.37,458.473 3295.73,460.502 \n",
       "  3298.09,462.531 3300.45,464.561 3302.8,467.067 3305.16,469.574 3307.52,472.08 3309.87,474.587 3312.23,477.093 3314.59,479.003 3316.95,480.913 3319.3,482.703 \n",
       "  3321.66,484.613 3324.02,486.523 3326.37,488.671 3328.73,490.939 3331.09,493.088 3333.45,494.878 3335.8,496.311 3338.16,497.624 3340.52,499.175 3342.87,500.727 \n",
       "  3345.23,501.921 3347.59,503.234 3349.95,504.427 3352.3,505.382 3354.66,506.456 3357.02,506.814 3359.37,507.292 3361.73,507.65 3364.09,507.889 3366.45,508.366 \n",
       "  3368.8,508.844 3371.16,510.037 3373.52,511.469 3375.87,512.782 3378.23,514.215 3380.59,515.647 3382.94,516.721 3385.3,518.034 3387.66,519.467 3390.02,520.78 \n",
       "  3392.37,521.973 3394.73,523.167 3397.09,524.599 3399.44,525.912 3401.8,527.583 3404.16,529.254 3406.52,531.164 3408.87,532.954 3411.23,534.626 3413.59,536.416 \n",
       "  3415.94,538.087 3418.3,539.639 3420.66,541.19 3423.02,542.742 3425.37,544.294 3427.73,545.726 3430.09,547.278 3432.44,548.949 3434.8,550.62 3437.16,552.172 \n",
       "  3439.52,553.843 3441.87,555.514 3444.23,557.185 3446.59,558.617 3448.94,560.169 3451.3,561.482 3453.66,562.914 3456.02,564.466 3458.37,565.898 3460.73,567.33 \n",
       "  3463.09,568.882 3465.44,570.076 3467.8,571.508 3470.16,572.821 3472.52,574.492 3474.87,575.686 3477.23,576.999 3479.59,578.312 3481.94,579.625 3484.3,580.938 \n",
       "  3486.66,582.37 3489.02,583.683 3491.37,584.877 3493.73,586.309 3496.09,587.861 3498.44,589.412 3500.8,590.606 3503.16,591.8 3505.52,592.874 3507.87,593.948 \n",
       "  3510.23,595.142 3512.59,596.216 3514.94,596.932 3517.3,597.768 3519.66,598.603 3522.02,599.558 3524.37,600.394 3526.73,601.11 3529.09,602.065 3531.44,602.9 \n",
       "  3533.8,603.497 3536.16,604.332 3538.52,605.049 3540.87,605.287 3543.23,605.407 3545.59,604.929 3547.94,603.974 3550.3,602.303 3552.66,600.394 3555.02,598.484 \n",
       "  3557.37,597.29 3559.73,596.335 3562.09,595.38 3564.44,594.306 3566.8,592.396 3569.16,590.606 3571.52,589.054 3573.87,587.025 3576.23,584.996 3578.59,582.609 \n",
       "  3580.94,579.625 3583.3,576.76 3585.66,573.895 3588.01,571.15 3590.37,567.569 3592.73,563.75 3595.09,559.333 3597.44,554.798 3599.8,550.142 3602.16,545.726 \n",
       "  3604.51,541.31 3606.87,536.177 3609.23,531.88 3611.59,528.657 3613.94,525.912 3616.3,522.928 3618.66,520.183 3621.01,517.199 3623.37,514.334 3625.73,511.589 \n",
       "  3628.09,507.889 3630.44,504.308 3632.8,500.488 3635.16,496.549 3637.51,492.73 3639.87,489.746 3642.23,487.359 3644.59,484.613 3646.94,482.107 3649.3,479.481 \n",
       "  3651.66,476.855 3654.01,474.229 3656.37,471.245 3658.73,468.499 3661.09,465.396 3663.44,462.412 3665.8,459.667 3668.16,457.16 3670.51,454.534 3672.87,451.67 \n",
       "  3675.23,448.447 3677.59,445.463 3679.94,442.717 3682.3,439.972 3684.66,437.346 3687.01,434.601 3689.37,432.094 3691.73,429.826 3694.09,427.797 3696.44,426.007 \n",
       "  3698.8,424.216 3701.16,422.545 3703.51,421.113 3705.87,419.442 3708.23,418.01 3710.59,416.219 3712.94,414.19 3715.3,411.803 3717.66,409.416 3720.01,407.028 \n",
       "  3722.37,404.641 3724.73,402.254 3727.09,398.554 3729.44,395.212 3731.8,391.87 3734.16,388.527 3736.51,385.185 3738.87,382.321 3741.23,379.456 3743.59,376.353 \n",
       "  3745.94,373.249 3748.3,370.027 3750.66,367.042 3753.01,364.178 3755.37,361.194 3757.73,358.687 3760.09,356.3 3762.44,353.793 3764.8,351.167 3767.16,348.541 \n",
       "  3769.51,345.916 \n",
       "  \"/>\n",
       "<polyline clip-path=\"url(#clip8002)\" style=\"stroke:#3da44d; stroke-width:4; stroke-opacity:1; fill:none\" points=\"\n",
       "  328.108,1384.24 330.466,1383.88 332.823,1383.4 335.18,1383.04 337.537,1382.57 339.894,1382.21 342.251,1381.85 344.608,1381.49 346.965,1381.02 349.323,1380.54 \n",
       "  351.68,1379.94 354.037,1379.34 356.394,1378.75 358.751,1378.15 361.108,1377.43 363.465,1376.72 365.822,1376 368.18,1375.41 370.537,1374.81 372.894,1374.09 \n",
       "  375.251,1373.38 377.608,1372.78 379.965,1371.94 382.322,1371.23 384.679,1370.51 387.037,1369.8 389.394,1369.08 391.751,1368.48 394.108,1367.77 396.465,1367.05 \n",
       "  398.822,1366.45 401.179,1365.86 403.536,1365.14 405.894,1364.54 408.251,1363.83 410.608,1363.23 412.965,1362.51 415.322,1361.68 417.679,1360.84 420.036,1360.01 \n",
       "  422.393,1358.93 424.751,1357.98 427.108,1357.02 429.465,1356.07 431.822,1355.11 434.179,1354.16 436.536,1353.2 438.893,1352.13 441.25,1351.06 443.608,1349.98 \n",
       "  445.965,1348.91 448.322,1347.95 450.679,1346.76 453.036,1345.68 455.393,1344.73 457.75,1343.66 460.108,1342.58 462.465,1341.51 464.822,1340.31 467.179,1339.24 \n",
       "  469.536,1338.05 471.893,1336.97 474.25,1335.9 476.607,1334.82 478.965,1333.87 481.322,1332.79 483.679,1331.84 486.036,1330.76 488.393,1329.81 490.75,1328.74 \n",
       "  493.107,1327.66 495.464,1326.59 497.822,1325.39 500.179,1324.2 502.536,1323.01 504.893,1321.69 507.25,1320.5 509.607,1319.19 511.964,1317.87 514.321,1316.56 \n",
       "  516.679,1315.37 519.036,1314.17 521.393,1312.98 523.75,1311.79 526.107,1310.59 528.464,1309.4 530.821,1308.21 533.178,1307.01 535.536,1305.82 537.893,1304.62 \n",
       "  540.25,1303.43 542.607,1302.24 544.964,1301.04 547.321,1299.85 549.678,1298.54 552.035,1297.34 554.393,1296.27 556.75,1295.08 559.107,1294 561.464,1292.93 \n",
       "  563.821,1291.73 566.178,1290.66 568.535,1289.58 570.892,1288.51 573.25,1287.44 575.607,1286.36 577.964,1285.29 580.321,1284.21 582.678,1283.14 585.035,1282.18 \n",
       "  587.392,1281.23 589.749,1280.27 592.107,1279.32 594.464,1278.36 596.821,1277.53 599.178,1276.57 601.535,1275.62 603.892,1274.78 606.249,1273.83 608.607,1272.99 \n",
       "  610.964,1272.04 613.321,1271.2 615.678,1270.37 618.035,1269.41 620.392,1268.58 622.749,1267.74 625.106,1266.91 627.464,1266.07 629.821,1265.12 632.178,1264.28 \n",
       "  634.535,1263.44 636.892,1262.49 639.249,1261.65 641.606,1260.82 643.963,1259.98 646.321,1259.15 648.678,1258.31 651.035,1257.6 653.392,1256.76 655.749,1256.04 \n",
       "  658.106,1255.21 660.463,1254.49 662.82,1253.78 665.178,1253.06 667.535,1252.34 669.892,1251.63 672.249,1250.91 674.606,1250.08 676.963,1249.12 679.32,1248.29 \n",
       "  681.677,1247.45 684.035,1246.61 686.392,1245.66 688.749,1244.71 691.106,1243.87 693.463,1242.91 695.82,1242.08 698.177,1241.12 700.534,1240.17 702.892,1239.21 \n",
       "  705.249,1238.26 707.606,1237.3 709.963,1236.35 712.32,1235.51 714.677,1234.68 717.034,1233.72 719.391,1232.77 721.749,1231.93 724.106,1230.98 726.463,1230.02 \n",
       "  728.82,1229.07 731.177,1228.23 733.534,1227.28 735.891,1226.32 738.248,1225.37 740.606,1224.41 742.963,1223.46 745.32,1222.5 747.677,1221.55 750.034,1220.59 \n",
       "  752.391,1219.76 754.748,1218.8 757.106,1217.85 759.463,1217.01 761.82,1216.06 764.177,1215.1 766.534,1214.15 768.891,1213.19 771.248,1212.12 773.605,1211.16 \n",
       "  775.963,1210.33 778.32,1209.37 780.677,1208.42 783.034,1207.46 785.391,1206.51 787.748,1205.55 790.105,1204.48 792.462,1203.53 794.82,1202.45 797.177,1201.5 \n",
       "  799.534,1200.42 801.891,1199.35 804.248,1198.27 806.605,1197.2 808.962,1196.13 811.319,1195.17 813.677,1194.1 816.034,1193.14 818.391,1192.07 820.748,1191.11 \n",
       "  823.105,1190.04 825.462,1188.84 827.819,1187.65 830.176,1186.58 832.534,1185.62 834.891,1184.55 837.248,1183.59 839.605,1182.64 841.962,1181.56 844.319,1180.49 \n",
       "  846.676,1179.53 849.033,1178.58 851.391,1177.62 853.748,1176.67 856.105,1175.71 858.462,1174.76 860.819,1173.8 863.176,1172.97 865.533,1172.01 867.89,1171.18 \n",
       "  870.248,1170.22 872.605,1169.39 874.962,1168.55 877.319,1167.6 879.676,1166.76 882.033,1165.81 884.39,1164.97 886.747,1164.14 889.105,1163.18 891.462,1162.35 \n",
       "  893.819,1161.39 896.176,1160.44 898.533,1159.48 900.89,1158.53 903.247,1157.57 905.605,1156.5 907.962,1155.54 910.319,1154.47 912.676,1153.39 915.033,1152.32 \n",
       "  917.39,1151.25 919.747,1150.29 922.104,1149.22 924.462,1148.26 926.819,1147.19 929.176,1146.23 931.533,1145.28 933.89,1144.32 936.247,1143.25 938.604,1142.29 \n",
       "  940.961,1141.34 943.319,1140.38 945.676,1139.31 948.033,1138.47 950.39,1137.52 952.747,1136.56 955.104,1135.73 957.461,1134.65 959.818,1133.82 962.176,1132.86 \n",
       "  964.533,1131.91 966.89,1130.95 969.247,1130 971.604,1129.04 973.961,1128.09 976.318,1127.13 978.675,1126.06 981.033,1124.99 983.39,1124.03 985.747,1122.96 \n",
       "  988.104,1122 990.461,1121.05 992.818,1120.09 995.175,1119.14 997.532,1118.06 999.89,1117.11 1002.25,1116.15 1004.6,1115.08 1006.96,1114 1009.32,1112.93 \n",
       "  1011.68,1111.74 1014.03,1110.54 1016.39,1109.35 1018.75,1108.16 1021.1,1106.96 1023.46,1105.77 1025.82,1104.58 1028.18,1103.38 1030.53,1102.31 1032.89,1101.11 \n",
       "  1035.25,1099.92 1037.6,1098.73 1039.96,1097.53 1042.32,1096.34 1044.67,1095.15 1047.03,1093.95 1049.39,1092.76 1051.75,1091.68 1054.1,1090.37 1056.46,1089.18 \n",
       "  1058.82,1087.86 1061.17,1086.67 1063.53,1085.36 1065.89,1084.04 1068.25,1082.85 1070.6,1081.54 1072.96,1080.23 1075.32,1078.91 1077.67,1077.6 1080.03,1076.17 \n",
       "  1082.39,1074.85 1084.75,1073.54 1087.1,1072.11 1089.46,1070.68 1091.82,1069.24 1094.17,1067.81 1096.53,1066.38 1098.89,1064.83 1101.25,1063.4 1103.6,1061.84 \n",
       "  1105.96,1060.41 1108.32,1058.86 1110.67,1057.31 1113.03,1055.88 1115.39,1054.32 1117.75,1052.89 1120.1,1051.34 1122.46,1049.79 1124.82,1048.36 1127.17,1046.68 \n",
       "  1129.53,1045.13 1131.89,1043.46 1134.25,1041.91 1136.6,1040.24 1138.96,1038.81 1141.32,1037.26 1143.67,1035.82 1146.03,1034.51 1148.39,1033.2 1150.75,1031.88 \n",
       "  1153.1,1030.57 1155.46,1029.26 1157.82,1028.06 1160.17,1026.75 1162.53,1025.44 1164.89,1024.13 1167.25,1022.81 1169.6,1021.5 1171.96,1020.07 1174.32,1018.75 \n",
       "  1176.67,1017.56 1179.03,1016.25 1181.39,1014.93 1183.75,1013.74 1186.1,1012.43 1188.46,1011 1190.82,1009.56 1193.17,1008.13 1195.53,1006.7 1197.89,1005.15 \n",
       "  1200.25,1003.71 1202.6,1002.16 1204.96,1000.73 1207.32,999.299 1209.67,997.986 1212.03,996.553 1214.39,995.24 1216.75,993.927 1219.1,992.614 1221.46,991.182 \n",
       "  1223.82,989.869 1226.17,988.437 1228.53,987.124 1230.89,985.691 1233.25,984.378 1235.6,982.946 1237.96,981.514 1240.32,980.081 1242.67,978.768 1245.03,977.336 \n",
       "  1247.39,975.904 1249.75,974.471 1252.1,973.158 1254.46,971.726 1256.82,970.294 1259.17,968.861 1261.53,967.429 1263.89,965.997 1266.24,964.564 1268.6,963.013 \n",
       "  1270.96,961.58 1273.32,960.148 1275.67,958.596 1278.03,957.045 1280.39,955.612 1282.74,954.061 1285.1,952.509 1287.46,950.957 1289.82,949.406 1292.17,947.735 \n",
       "  1294.53,946.063 1296.89,944.392 1299.24,942.602 1301.6,940.931 1303.96,939.141 1306.32,937.35 1308.67,935.56 1311.03,933.769 1313.39,931.979 1315.74,930.188 \n",
       "  1318.1,928.279 1320.46,926.369 1322.82,924.578 1325.17,922.669 1327.53,920.878 1329.89,918.968 1332.24,917.059 1334.6,915.268 1336.96,913.478 1339.32,911.568 \n",
       "  1341.67,909.778 1344.03,907.987 1346.39,906.197 1348.74,904.526 1351.1,902.974 1353.46,901.542 1355.82,900.109 1358.17,898.677 1360.53,897.483 1362.89,896.29 \n",
       "  1365.24,895.096 1367.6,893.783 1369.96,892.59 1372.32,891.277 1374.67,889.964 1377.03,888.531 1379.39,887.099 1381.74,885.786 1384.1,884.354 1386.46,883.041 \n",
       "  1388.82,881.728 1391.17,880.534 1393.53,879.221 1395.89,877.908 1398.24,876.595 1400.6,875.163 1402.96,873.731 1405.32,872.298 1407.67,871.224 1410.03,870.15 \n",
       "  1412.39,869.195 1414.74,868.24 1417.1,867.046 1419.46,865.853 1421.82,864.779 1424.17,863.585 1426.53,862.391 1428.89,861.078 1431.24,859.765 1433.6,858.452 \n",
       "  1435.96,857.259 1438.32,855.946 1440.67,854.752 1443.03,853.678 1445.39,852.484 1447.74,851.291 1450.1,850.097 1452.46,849.023 1454.82,847.829 1457.17,846.755 \n",
       "  1459.53,845.8 1461.89,844.726 1464.24,843.771 1466.6,842.816 1468.96,841.622 1471.31,840.668 1473.67,839.593 1476.03,838.638 1478.39,837.564 1480.74,836.49 \n",
       "  1483.1,835.535 1485.46,834.58 1487.81,833.506 1490.17,832.432 1492.53,831.357 1494.89,830.283 1497.24,829.209 1499.6,828.135 1501.96,827.06 1504.31,825.986 \n",
       "  1506.67,824.793 1509.03,823.718 1511.39,822.525 1513.74,821.331 1516.1,820.137 1518.46,818.944 1520.81,817.631 1523.17,816.437 1525.53,815.244 1527.89,814.05 \n",
       "  1530.24,812.856 1532.6,811.782 1534.96,810.708 1537.31,809.753 1539.67,808.798 1542.03,807.843 1544.39,806.888 1546.74,805.933 1549.1,804.859 1551.46,804.024 \n",
       "  1553.81,803.069 1556.17,802.114 1558.53,801.159 1560.89,800.204 1563.24,799.249 1565.6,798.294 1567.96,797.339 1570.31,796.265 1572.67,795.191 1575.03,793.997 \n",
       "  1577.39,792.923 1579.74,791.729 1582.1,790.536 1584.46,789.462 1586.81,788.387 1589.17,787.194 1591.53,786.12 1593.89,784.926 1596.24,783.732 1598.6,782.539 \n",
       "  1600.96,781.345 1603.31,780.271 1605.67,779.077 1608.03,778.003 1610.39,776.929 1612.74,775.854 1615.1,774.78 1617.46,773.706 1619.81,772.751 1622.17,771.677 \n",
       "  1624.53,770.722 1626.89,769.648 1629.24,768.693 1631.6,767.499 1633.96,766.544 1636.31,765.351 1638.67,764.157 1641.03,762.963 1643.39,761.77 1645.74,760.576 \n",
       "  1648.1,759.502 1650.46,758.308 1652.81,757.115 1655.17,755.921 1657.53,754.847 1659.89,753.773 1662.24,752.698 1664.6,751.624 1666.96,750.669 1669.31,749.714 \n",
       "  1671.67,748.879 1674.03,747.924 1676.39,746.969 1678.74,746.014 1681.1,745.179 1683.46,744.343 1685.81,743.388 1688.17,742.553 1690.53,741.717 1692.88,740.882 \n",
       "  1695.24,739.927 1697.6,739.091 1699.96,738.256 1702.31,737.42 1704.67,736.585 1707.03,735.63 1709.38,734.794 1711.74,733.839 1714.1,732.884 1716.46,731.81 \n",
       "  1718.81,730.855 1721.17,729.9 1723.53,728.946 1725.88,727.871 1728.24,726.916 1730.6,725.961 1732.96,725.007 1735.31,723.932 1737.67,722.858 1740.03,721.903 \n",
       "  1742.38,720.829 1744.74,719.874 1747.1,718.8 1749.46,717.845 1751.81,716.651 1754.17,715.577 1756.53,714.503 1758.88,713.429 1761.24,712.354 1763.6,711.28 \n",
       "  1765.96,710.206 1768.31,709.251 1770.67,708.296 1773.03,707.341 1775.38,706.386 1777.74,705.312 1780.1,704.357 1782.46,703.283 1784.81,702.328 1787.17,701.254 \n",
       "  1789.53,700.299 1791.88,699.344 1794.24,698.389 1796.6,697.434 1798.96,696.36 1801.31,695.524 1803.67,694.45 1806.03,693.376 1808.38,692.302 1810.74,691.108 \n",
       "  1813.1,689.914 1815.46,688.721 1817.81,687.647 1820.17,686.453 1822.53,685.259 1824.88,684.185 1827.24,682.991 1829.6,681.798 1831.96,680.604 1834.31,679.291 \n",
       "  1836.67,678.098 1839.03,676.904 1841.38,675.83 1843.74,674.636 1846.1,673.562 1848.46,672.368 1850.81,671.175 1853.17,669.981 1855.53,668.787 1857.88,667.594 \n",
       "  1860.24,666.4 1862.6,665.207 1864.96,664.013 1867.31,662.819 1869.67,661.745 1872.03,660.552 1874.38,659.477 1876.74,658.284 1879.1,657.209 1881.46,656.135 \n",
       "  1883.81,654.942 1886.17,653.629 1888.53,652.435 1890.88,651.122 1893.24,649.928 1895.6,648.735 1897.95,647.422 1900.31,646.228 1902.67,645.035 1905.03,643.841 \n",
       "  1907.38,642.647 1909.74,641.454 1912.1,640.26 1914.45,639.067 1916.81,637.754 1919.17,636.56 1921.53,635.366 1923.88,634.292 1926.24,633.098 1928.6,632.024 \n",
       "  1930.95,630.95 1933.31,629.876 1935.67,629.04 1938.03,628.324 1940.38,627.608 1942.74,626.892 1945.1,626.056 1947.45,625.221 1949.81,624.504 1952.17,623.788 \n",
       "  1954.53,623.072 1956.88,622.356 1959.24,621.759 1961.6,621.043 1963.95,620.446 1966.31,619.969 1968.67,619.491 1971.03,619.014 1973.38,618.656 1975.74,618.178 \n",
       "  1978.1,617.701 1980.45,617.343 1982.81,616.746 1985.17,616.269 1987.53,615.672 1989.88,615.075 1992.24,614.478 1994.6,613.881 1996.95,613.285 1999.31,612.568 \n",
       "  2001.67,611.733 2004.03,611.017 2006.38,610.181 2008.74,609.465 2011.1,608.749 2013.45,608.152 2015.81,607.555 2018.17,606.958 2020.53,606.362 2022.88,605.765 \n",
       "  2025.24,605.168 2027.6,604.571 2029.95,604.213 2032.31,603.974 2034.67,603.616 2037.03,603.378 2039.38,603.139 2041.74,602.781 2044.1,602.542 2046.45,602.184 \n",
       "  2048.81,601.707 2051.17,601.348 2053.53,600.99 2055.88,600.632 2058.24,600.274 2060.6,599.797 2062.95,599.439 2065.31,598.961 2067.67,598.842 2070.03,598.603 \n",
       "  2072.38,598.364 2074.74,598.126 2077.1,598.006 2079.45,597.887 2081.81,597.887 2084.17,597.887 2086.53,597.887 2088.88,598.006 2091.24,598.006 2093.6,598.245 \n",
       "  2095.95,598.484 2098.31,598.722 2100.67,599.2 2103.02,599.558 2105.38,600.035 2107.74,600.513 2110.1,601.229 2112.45,601.945 2114.81,602.542 2117.17,603.019 \n",
       "  2119.52,603.378 2121.88,603.855 2124.24,604.213 2126.6,604.691 2128.95,605.168 2131.31,605.645 2133.67,606.123 2136.02,606.481 2138.38,607.078 2140.74,607.555 \n",
       "  2143.1,608.033 2145.45,608.391 2147.81,608.749 2150.17,609.226 2152.52,609.584 2154.88,610.181 2157.24,610.659 2159.6,611.255 2161.95,611.733 2164.31,612.21 \n",
       "  2166.67,612.688 2169.02,613.046 2171.38,613.404 2173.74,613.762 2176.1,614.12 2178.45,614.598 2180.81,615.075 2183.17,615.672 2185.52,616.03 2187.88,616.627 \n",
       "  2190.24,617.104 2192.6,617.701 2194.95,618.178 2197.31,618.536 2199.67,618.895 2202.02,619.253 2204.38,619.491 2206.74,619.73 2209.1,619.969 2211.45,619.969 \n",
       "  2213.81,619.73 2216.17,619.73 2218.52,619.611 2220.88,619.372 2223.24,619.133 2225.6,618.895 2227.95,618.775 2230.31,618.417 2232.67,618.298 2235.02,618.059 \n",
       "  2237.38,617.94 2239.74,617.82 2242.1,617.701 2244.45,617.582 2246.81,617.343 2249.17,617.104 2251.52,616.865 2253.88,616.627 2256.24,616.388 2258.6,616.149 \n",
       "  2260.95,616.03 2263.31,616.03 2265.67,615.91 2268.02,615.552 2270.38,615.075 2272.74,614.598 2275.1,614.239 2277.45,613.881 2279.81,613.643 2282.17,613.404 \n",
       "  2284.52,613.285 2286.88,613.165 2289.24,613.165 2291.6,613.046 2293.95,613.046 2296.31,612.926 2298.67,612.688 2301.02,612.449 2303.38,612.21 2305.74,611.972 \n",
       "  2308.1,611.613 2310.45,611.255 2312.81,611.017 2315.17,610.659 2317.52,610.301 2319.88,609.823 2322.24,609.226 2324.59,608.868 2326.95,608.391 2329.31,608.033 \n",
       "  2331.67,607.555 2334.02,607.078 2336.38,606.6 2338.74,606.123 2341.09,605.645 2343.45,605.049 2345.81,604.332 2348.17,603.736 2350.52,603.258 2352.88,602.661 \n",
       "  2355.24,602.065 2357.59,601.468 2359.95,600.871 2362.31,600.394 2364.67,599.916 2367.02,599.319 2369.38,598.842 2371.74,598.364 2374.09,597.887 2376.45,597.29 \n",
       "  2378.81,596.932 2381.17,596.335 2383.52,595.858 2385.88,595.261 2388.24,594.784 2390.59,594.187 2392.95,593.59 2395.31,592.874 2397.67,592.277 2400.02,591.68 \n",
       "  2402.38,591.083 2404.74,590.367 2407.09,589.77 2409.45,589.174 2411.81,588.338 2414.17,587.741 2416.52,587.025 2418.88,586.428 2421.24,585.712 2423.59,585.115 \n",
       "  2425.95,584.638 2428.31,584.16 2430.67,583.683 2433.02,583.325 2435.38,583.086 2437.74,582.728 2440.09,582.489 2442.45,582.37 2444.81,582.131 2447.17,581.773 \n",
       "  2449.52,581.415 2451.88,581.057 2454.24,580.818 2456.59,580.46 2458.95,580.222 2461.31,579.983 2463.67,579.744 2466.02,579.505 2468.38,579.267 2470.74,579.028 \n",
       "  2473.09,578.789 2475.45,578.55 2477.81,578.312 2480.17,578.192 2482.52,578.073 2484.88,577.954 2487.24,577.834 2489.59,577.834 2491.95,577.715 2494.31,577.476 \n",
       "  2496.67,577.237 2499.02,576.999 2501.38,576.879 2503.74,576.641 2506.09,576.402 2508.45,576.163 2510.81,575.925 2513.17,575.686 2515.52,575.447 2517.88,575.208 \n",
       "  2520.24,574.97 2522.59,574.612 2524.95,574.134 2527.31,573.657 2529.66,573.06 2532.02,572.463 2534.38,571.747 2536.74,571.15 2539.09,570.553 2541.45,569.837 \n",
       "  2543.81,569.24 2546.16,568.643 2548.52,567.927 2550.88,567.33 2553.24,566.734 2555.59,566.018 2557.95,565.301 2560.31,564.585 2562.66,563.869 2565.02,563.033 \n",
       "  2567.38,562.437 2569.74,561.721 2572.09,561.004 2574.45,560.408 2576.81,559.811 2579.16,559.214 2581.52,558.498 2583.88,557.901 2586.24,557.185 2588.59,556.588 \n",
       "  2590.95,555.872 2593.31,555.275 2595.66,554.678 2598.02,553.962 2600.38,553.365 2602.74,552.768 2605.09,552.172 2607.45,551.575 2609.81,550.978 2612.16,550.381 \n",
       "  2614.52,549.904 2616.88,549.546 2619.24,549.068 2621.59,548.591 2623.95,548.113 2626.31,547.517 2628.66,547.039 2631.02,546.681 2633.38,546.323 2635.74,546.084 \n",
       "  2638.09,545.845 2640.45,545.726 2642.81,545.607 2645.16,545.368 2647.52,545.129 2649.88,544.771 2652.24,544.533 2654.59,544.294 2656.95,544.055 2659.31,543.816 \n",
       "  2661.66,543.697 2664.02,543.578 2666.38,543.578 2668.74,543.458 2671.09,543.339 2673.45,543.22 2675.81,543.1 2678.16,542.981 2680.52,542.861 2682.88,542.742 \n",
       "  2685.24,542.623 2687.59,542.503 2689.95,542.503 2692.31,542.623 2694.66,542.503 2697.02,542.384 2699.38,542.265 2701.74,542.145 2704.09,542.026 2706.45,542.026 \n",
       "  2708.81,541.907 2711.16,541.668 2713.52,541.429 2715.88,541.19 2718.24,540.952 2720.59,540.713 2722.95,540.355 2725.31,540.116 2727.66,539.758 2730.02,539.4 \n",
       "  2732.38,539.161 2734.74,538.803 2737.09,538.445 2739.45,538.206 2741.81,537.968 2744.16,537.729 2746.52,537.61 2748.88,537.49 2751.23,537.371 2753.59,537.251 \n",
       "  2755.95,537.132 2758.31,537.013 2760.66,536.893 2763.02,536.774 2765.38,536.535 2767.73,536.416 2770.09,536.297 2772.45,536.177 2774.81,536.297 2777.16,536.535 \n",
       "  2779.52,536.535 2781.88,536.655 2784.23,536.655 2786.59,536.655 2788.95,536.774 2791.31,536.774 2793.66,536.774 2796.02,536.297 2798.38,535.819 2800.73,535.461 \n",
       "  2803.09,534.984 2805.45,534.506 2807.81,534.148 2810.16,533.79 2812.52,533.432 2814.88,532.954 2817.23,532.596 2819.59,532.238 2821.95,531.761 2824.31,531.403 \n",
       "  2826.66,530.925 2829.02,530.329 2831.38,529.732 2833.73,529.135 2836.09,528.419 2838.45,527.822 2840.81,527.225 2843.16,526.628 2845.52,526.032 2847.88,525.554 \n",
       "  2850.23,524.957 2852.59,524.48 2854.95,523.883 2857.31,523.286 2859.66,522.928 2862.02,522.451 2864.38,521.973 2866.73,521.496 2869.09,521.138 2871.45,520.541 \n",
       "  2873.81,519.825 2876.16,519.228 2878.52,518.392 2880.88,517.676 2883.23,516.96 2885.59,516.244 2887.95,515.408 2890.31,514.573 2892.66,513.618 2895.02,512.663 \n",
       "  2897.38,511.708 2899.73,510.753 2902.09,509.679 2904.45,508.724 2906.81,507.769 2909.16,506.934 2911.52,506.098 2913.88,505.382 2916.23,504.666 2918.59,503.95 \n",
       "  2920.95,503.472 2923.31,502.995 2925.66,502.398 2928.02,501.443 2930.38,500.608 2932.73,499.772 2935.09,498.937 2937.45,497.982 2939.81,497.027 2942.16,496.072 \n",
       "  2944.52,494.998 2946.88,493.923 2949.23,492.849 2951.59,491.775 2953.95,490.462 2956.3,489.268 2958.66,487.955 2961.02,486.404 2963.38,484.852 2965.73,483.3 \n",
       "  2968.09,481.749 2970.45,479.958 2972.8,478.168 2975.16,476.497 2977.52,474.826 2979.88,473.274 2982.23,471.722 2984.59,470.29 2986.95,468.738 2989.3,467.306 \n",
       "  2991.66,465.635 2994.02,464.083 2996.38,462.531 2998.73,461.099 3001.09,459.547 3003.45,458.115 3005.8,456.683 3008.16,455.25 3010.52,453.818 3012.88,452.386 \n",
       "  3015.23,450.953 3017.59,449.521 3019.95,448.089 3022.3,446.656 3024.66,445.224 3027.02,443.792 3029.38,442.479 3031.73,441.166 3034.09,439.853 3036.45,438.54 \n",
       "  3038.8,437.227 3041.16,435.914 3043.52,434.482 3045.88,433.288 3048.23,431.975 3050.59,430.901 3052.95,429.707 3055.3,428.394 3057.66,427.32 3060.02,426.246 \n",
       "  3062.38,425.291 3064.73,424.216 3067.09,423.262 3069.45,422.187 3071.8,421.113 3074.16,419.919 3076.52,418.845 3078.88,417.532 3081.23,416.339 3083.59,415.145 \n",
       "  3085.95,413.951 3088.3,412.758 3090.66,411.684 3093.02,410.49 3095.38,409.535 3097.73,408.461 3100.09,407.506 3102.45,406.551 3104.8,405.477 3107.16,404.522 \n",
       "  3109.52,403.567 3111.88,402.731 3114.23,401.896 3116.59,401.18 3118.95,400.583 3121.3,400.225 3123.66,399.986 3126.02,400.225 3128.38,400.344 3130.73,400.583 \n",
       "  3133.09,400.464 3135.45,400.106 3137.8,399.867 3140.16,399.509 3142.52,399.509 3144.88,399.27 3147.23,399.151 3149.59,399.27 3151.95,399.509 3154.3,399.747 \n",
       "  3156.66,400.702 3159.02,401.418 3161.37,402.135 3163.73,402.97 3166.09,404.164 3168.45,405.477 3170.8,407.028 3173.16,408.7 3175.52,410.251 3177.87,411.803 \n",
       "  3180.23,413.355 3182.59,415.384 3184.95,416.816 3187.3,417.89 3189.66,418.726 3192.02,419.8 3194.37,420.755 3196.73,421.829 3199.09,422.903 3201.45,423.978 \n",
       "  3203.8,425.291 3206.16,426.723 3208.52,428.155 3210.87,429.588 3213.23,431.02 3215.59,432.094 3217.95,432.93 3220.3,433.765 3222.66,434.362 3225.02,434.959 \n",
       "  3227.37,435.675 3229.73,436.391 3232.09,437.107 3234.45,437.824 3236.8,438.659 3239.16,439.495 3241.52,440.211 3243.87,440.927 3246.23,441.524 3248.59,442.24 \n",
       "  3250.95,443.195 3253.3,444.15 3255.66,444.866 3258.02,445.701 3260.37,446.537 3262.73,447.253 3265.09,447.969 3267.45,448.566 3269.8,449.044 3272.16,449.64 \n",
       "  3274.52,450.357 3276.87,451.073 3279.23,451.789 3281.59,452.505 3283.95,453.221 3286.3,453.937 3288.66,454.415 3291.02,454.892 3293.37,455.37 3295.73,455.967 \n",
       "  3298.09,456.444 3300.45,456.802 3302.8,457.399 3305.16,457.996 3307.52,458.592 3309.87,459.189 3312.23,459.786 3314.59,460.144 3316.95,460.502 3319.3,460.86 \n",
       "  3321.66,461.218 3324.02,461.577 3326.37,461.935 3328.73,462.293 3331.09,462.651 3333.45,462.77 3335.8,462.889 3338.16,462.651 3340.52,462.651 3342.87,462.531 \n",
       "  3345.23,462.412 3347.59,462.173 3349.95,461.935 3352.3,461.696 3354.66,461.457 3357.02,461.099 3359.37,460.741 3361.73,460.383 3364.09,459.905 3366.45,459.547 \n",
       "  3368.8,459.189 3371.16,459.07 3373.52,459.189 3375.87,459.189 3378.23,459.309 3380.59,459.428 3382.94,459.189 3385.3,459.309 3387.66,459.428 3390.02,459.547 \n",
       "  3392.37,459.667 3394.73,459.786 3397.09,460.025 3399.44,460.144 3401.8,460.383 3404.16,460.622 3406.52,460.86 3408.87,461.218 3411.23,461.457 3413.59,461.815 \n",
       "  3415.94,462.054 3418.3,462.293 3420.66,462.531 3423.02,462.77 3425.37,463.009 3427.73,463.248 3430.09,463.486 3432.44,463.606 3434.8,463.844 3437.16,464.083 \n",
       "  3439.52,464.322 3441.87,464.68 3444.23,464.919 3446.59,465.157 3448.94,465.396 3451.3,465.515 3453.66,465.635 3456.02,465.754 3458.37,465.874 3460.73,465.993 \n",
       "  3463.09,466.112 3465.44,466.232 3467.8,466.232 3470.16,466.351 3472.52,466.59 3474.87,466.709 3477.23,466.948 3479.59,467.067 3481.94,467.306 3484.3,467.425 \n",
       "  3486.66,467.664 3489.02,467.903 3491.37,467.903 3493.73,467.903 3496.09,467.903 3498.44,467.783 3500.8,467.425 3503.16,467.067 3505.52,466.709 3507.87,466.47 \n",
       "  3510.23,466.112 3512.59,465.754 3514.94,465.157 3517.3,464.68 3519.66,464.083 3522.02,463.367 3524.37,462.77 3526.73,462.173 3529.09,461.577 3531.44,461.218 \n",
       "  3533.8,460.622 3536.16,460.264 3538.52,459.786 3540.87,459.309 3543.23,458.831 3545.59,458.234 3547.94,457.518 3550.3,456.802 3552.66,456.086 3555.02,455.37 \n",
       "  3557.37,454.773 3559.73,454.057 3562.09,453.46 3564.44,452.863 3566.8,451.908 3569.16,451.192 3571.52,450.595 3573.87,450.118 3576.23,449.64 3578.59,449.163 \n",
       "  3580.94,448.924 3583.3,448.566 3585.66,448.208 3588.01,448.089 3590.37,447.85 3592.73,447.731 3595.09,447.492 3597.44,447.253 3599.8,446.776 3602.16,446.537 \n",
       "  3604.51,446.418 3606.87,446.179 3609.23,445.94 3611.59,445.821 3613.94,445.701 3616.3,445.582 3618.66,445.582 3621.01,445.582 3623.37,445.463 3625.73,445.463 \n",
       "  3628.09,445.224 3630.44,444.985 3632.8,444.747 3635.16,444.269 3637.51,443.792 3639.87,443.434 3642.23,443.076 3644.59,442.598 3646.94,442.121 3649.3,441.524 \n",
       "  3651.66,440.927 3654.01,440.33 3656.37,439.853 3658.73,439.375 3661.09,438.898 3663.44,438.301 3665.8,437.824 3668.16,437.466 3670.51,436.869 3672.87,436.391 \n",
       "  3675.23,435.914 3677.59,435.317 3679.94,434.84 3682.3,434.482 3684.66,434.004 3687.01,433.646 3689.37,433.169 3691.73,432.81 3694.09,432.452 3696.44,432.333 \n",
       "  3698.8,432.333 3701.16,432.452 3703.51,432.572 3705.87,432.81 3708.23,433.049 3710.59,433.169 3712.94,433.169 3715.3,432.93 3717.66,432.572 3720.01,432.452 \n",
       "  3722.37,432.214 3724.73,431.975 3727.09,431.378 3729.44,430.901 3731.8,430.423 3734.16,429.946 3736.51,429.468 3738.87,428.991 3741.23,428.513 3743.59,427.917 \n",
       "  3745.94,427.439 3748.3,426.962 3750.66,426.365 3753.01,426.007 3755.37,425.529 3757.73,425.052 3760.09,424.575 3762.44,423.978 3764.8,423.381 3767.16,422.903 \n",
       "  3769.51,422.307 \n",
       "  \"/>\n",
       "<path clip-path=\"url(#clip8000)\" d=\"\n",
       "M342.466 463.884 L994.627 463.884 L994.627 221.964 L342.466 221.964  Z\n",
       "  \" fill=\"#ffffff\" fill-rule=\"evenodd\" fill-opacity=\"1\"/>\n",
       "<polyline clip-path=\"url(#clip8000)\" style=\"stroke:#000000; stroke-width:4; stroke-opacity:1; fill:none\" points=\"\n",
       "  342.466,463.884 994.627,463.884 994.627,221.964 342.466,221.964 342.466,463.884 \n",
       "  \"/>\n",
       "<polyline clip-path=\"url(#clip8000)\" style=\"stroke:#009af9; stroke-width:4; stroke-opacity:1; fill:none\" points=\"\n",
       "  381.666,282.444 616.866,282.444 \n",
       "  \"/>\n",
       "<path clip-path=\"url(#clip8000)\" d=\"M 0 0 M656.066 273.798 L660.58 273.798 L668.682 295.557 L676.784 273.798 L681.298 273.798 L671.575 299.724 L665.788 299.724 L656.066 273.798 Z\" fill=\"#000000\" fill-rule=\"evenodd\" fill-opacity=\"1\" /><path clip-path=\"url(#clip8000)\" d=\"M 0 0 M697.547 286.692 Q692.385 286.692 690.395 287.872 Q688.404 289.053 688.404 291.9 Q688.404 294.169 689.886 295.511 Q691.39 296.831 693.96 296.831 Q697.501 296.831 699.631 294.331 Q701.784 291.807 701.784 287.641 L701.784 286.692 L697.547 286.692 M706.043 284.933 L706.043 299.724 L701.784 299.724 L701.784 295.789 Q700.325 298.15 698.149 299.284 Q695.973 300.395 692.825 300.395 Q688.844 300.395 686.483 298.173 Q684.145 295.928 684.145 292.178 Q684.145 287.803 687.061 285.581 Q690.001 283.358 695.811 283.358 L701.784 283.358 L701.784 282.942 Q701.784 280.002 699.839 278.405 Q697.918 276.784 694.423 276.784 Q692.2 276.784 690.094 277.317 Q687.987 277.849 686.043 278.914 L686.043 274.979 Q688.381 274.076 690.58 273.636 Q692.779 273.173 694.862 273.173 Q700.487 273.173 703.265 276.09 Q706.043 279.007 706.043 284.933 Z\" fill=\"#000000\" fill-rule=\"evenodd\" fill-opacity=\"1\" /><path clip-path=\"url(#clip8000)\" d=\"M 0 0 M710.51 263.706 L714.77 263.706 L714.77 299.724 L710.51 299.724 L710.51 263.706 Z\" fill=\"#000000\" fill-rule=\"evenodd\" fill-opacity=\"1\" /><path clip-path=\"url(#clip8000)\" d=\"M 0 0 M718.797 289.493 L718.797 273.798 L723.057 273.798 L723.057 289.331 Q723.057 293.011 724.492 294.863 Q725.927 296.692 728.797 296.692 Q732.246 296.692 734.237 294.493 Q736.251 292.294 736.251 288.497 L736.251 273.798 L740.51 273.798 L740.51 299.724 L736.251 299.724 L736.251 295.743 Q734.7 298.104 732.64 299.261 Q730.603 300.395 727.895 300.395 Q723.427 300.395 721.112 297.618 Q718.797 294.84 718.797 289.493 M729.515 273.173 L729.515 273.173 Z\" fill=\"#000000\" fill-rule=\"evenodd\" fill-opacity=\"1\" /><path clip-path=\"url(#clip8000)\" d=\"M 0 0 M767.154 285.696 L767.154 287.78 L747.57 287.78 Q747.848 292.178 750.209 294.493 Q752.593 296.784 756.83 296.784 Q759.283 296.784 761.575 296.182 Q763.89 295.581 766.158 294.377 L766.158 298.405 Q763.867 299.377 761.459 299.886 Q759.052 300.395 756.575 300.395 Q750.371 300.395 746.737 296.784 Q743.126 293.173 743.126 287.016 Q743.126 280.65 746.552 276.923 Q750.001 273.173 755.834 273.173 Q761.066 273.173 764.098 276.553 Q767.154 279.909 767.154 285.696 M762.894 284.446 Q762.848 280.951 760.927 278.868 Q759.029 276.784 755.881 276.784 Q752.316 276.784 750.163 278.798 Q748.033 280.812 747.709 284.47 L762.894 284.446 Z\" fill=\"#000000\" fill-rule=\"evenodd\" fill-opacity=\"1\" /><polyline clip-path=\"url(#clip8000)\" style=\"stroke:#e26f46; stroke-width:4; stroke-opacity:1; fill:none\" points=\"\n",
       "  381.666,342.924 616.866,342.924 \n",
       "  \"/>\n",
       "<path clip-path=\"url(#clip8000)\" d=\"M 0 0 M656.738 356.269 L664.376 356.269 L664.376 329.903 L656.066 331.57 L656.066 327.311 L664.33 325.644 L669.006 325.644 L669.006 356.269 L676.645 356.269 L676.645 360.204 L656.738 360.204 L656.738 356.269 Z\" fill=\"#000000\" fill-rule=\"evenodd\" fill-opacity=\"1\" /><path clip-path=\"url(#clip8000)\" d=\"M 0 0 M691.714 343.792 Q688.381 343.792 686.46 345.575 Q684.561 347.357 684.561 350.482 Q684.561 353.607 686.46 355.389 Q688.381 357.172 691.714 357.172 Q695.048 357.172 696.969 355.389 Q698.89 353.584 698.89 350.482 Q698.89 347.357 696.969 345.575 Q695.071 343.792 691.714 343.792 M687.038 341.801 Q684.029 341.061 682.339 339.001 Q680.673 336.94 680.673 333.977 Q680.673 329.834 683.612 327.426 Q686.575 325.019 691.714 325.019 Q696.876 325.019 699.816 327.426 Q702.756 329.834 702.756 333.977 Q702.756 336.94 701.066 339.001 Q699.399 341.061 696.413 341.801 Q699.793 342.588 701.668 344.88 Q703.566 347.172 703.566 350.482 Q703.566 355.505 700.487 358.19 Q697.432 360.875 691.714 360.875 Q685.997 360.875 682.918 358.19 Q679.862 355.505 679.862 350.482 Q679.862 347.172 681.761 344.88 Q683.659 342.588 687.038 341.801 M685.325 334.417 Q685.325 337.102 686.992 338.607 Q688.682 340.112 691.714 340.112 Q694.723 340.112 696.413 338.607 Q698.126 337.102 698.126 334.417 Q698.126 331.732 696.413 330.227 Q694.723 328.723 691.714 328.723 Q688.682 328.723 686.992 330.227 Q685.325 331.732 685.325 334.417 Z\" fill=\"#000000\" fill-rule=\"evenodd\" fill-opacity=\"1\" /><path clip-path=\"url(#clip8000)\" d=\"M 0 0 M718.635 328.723 Q715.024 328.723 713.196 332.288 Q711.39 335.829 711.39 342.959 Q711.39 350.065 713.196 353.63 Q715.024 357.172 718.635 357.172 Q722.27 357.172 724.075 353.63 Q725.904 350.065 725.904 342.959 Q725.904 335.829 724.075 332.288 Q722.27 328.723 718.635 328.723 M718.635 325.019 Q724.446 325.019 727.501 329.626 Q730.58 334.209 730.58 342.959 Q730.58 351.686 727.501 356.292 Q724.446 360.875 718.635 360.875 Q712.825 360.875 709.747 356.292 Q706.691 351.686 706.691 342.959 Q706.691 334.209 709.747 329.626 Q712.825 325.019 718.635 325.019 Z\" fill=\"#000000\" fill-rule=\"evenodd\" fill-opacity=\"1\" /><path clip-path=\"url(#clip8000)\" d=\"M 0 0 M732.895 345.32 L745.371 345.32 L745.371 349.116 L732.895 349.116 L732.895 345.32 Z\" fill=\"#000000\" fill-rule=\"evenodd\" fill-opacity=\"1\" /><path clip-path=\"url(#clip8000)\" d=\"M 0 0 M766.899 338.213 L766.899 324.186 L771.158 324.186 L771.158 360.204 L766.899 360.204 L766.899 356.315 Q765.556 358.63 763.496 359.764 Q761.459 360.875 758.589 360.875 Q753.89 360.875 750.927 357.125 Q747.987 353.375 747.987 347.264 Q747.987 341.153 750.927 337.403 Q753.89 333.653 758.589 333.653 Q761.459 333.653 763.496 334.788 Q765.556 335.899 766.899 338.213 M752.385 347.264 Q752.385 351.963 754.306 354.649 Q756.251 357.311 759.63 357.311 Q763.01 357.311 764.955 354.649 Q766.899 351.963 766.899 347.264 Q766.899 342.565 764.955 339.903 Q763.01 337.218 759.63 337.218 Q756.251 337.218 754.306 339.903 Q752.385 342.565 752.385 347.264 Z\" fill=\"#000000\" fill-rule=\"evenodd\" fill-opacity=\"1\" /><path clip-path=\"url(#clip8000)\" d=\"M 0 0 M787.408 347.172 Q782.246 347.172 780.255 348.352 Q778.265 349.533 778.265 352.38 Q778.265 354.649 779.746 355.991 Q781.251 357.311 783.82 357.311 Q787.362 357.311 789.491 354.811 Q791.644 352.287 791.644 348.121 L791.644 347.172 L787.408 347.172 M795.903 345.413 L795.903 360.204 L791.644 360.204 L791.644 356.269 Q790.186 358.63 788.01 359.764 Q785.834 360.875 782.686 360.875 Q778.704 360.875 776.343 358.653 Q774.005 356.408 774.005 352.658 Q774.005 348.283 776.922 346.061 Q779.862 343.838 785.672 343.838 L791.644 343.838 L791.644 343.422 Q791.644 340.482 789.7 338.885 Q787.778 337.264 784.283 337.264 Q782.061 337.264 779.954 337.797 Q777.848 338.329 775.904 339.394 L775.904 335.459 Q778.242 334.556 780.441 334.116 Q782.64 333.653 784.723 333.653 Q790.348 333.653 793.126 336.57 Q795.903 339.487 795.903 345.413 Z\" fill=\"#000000\" fill-rule=\"evenodd\" fill-opacity=\"1\" /><path clip-path=\"url(#clip8000)\" d=\"M 0 0 M811.158 362.611 Q809.352 367.241 807.64 368.653 Q805.927 370.065 803.056 370.065 L799.653 370.065 L799.653 366.5 L802.153 366.5 Q803.913 366.5 804.885 365.667 Q805.857 364.834 807.038 361.732 L807.802 359.787 L797.315 334.278 L801.829 334.278 L809.931 354.556 L818.033 334.278 L822.547 334.278 L811.158 362.611 Z\" fill=\"#000000\" fill-rule=\"evenodd\" fill-opacity=\"1\" /><path clip-path=\"url(#clip8000)\" d=\"M 0 0 M853.866 347.172 Q848.704 347.172 846.713 348.352 Q844.723 349.533 844.723 352.38 Q844.723 354.649 846.204 355.991 Q847.709 357.311 850.278 357.311 Q853.82 357.311 855.949 354.811 Q858.102 352.287 858.102 348.121 L858.102 347.172 L853.866 347.172 M862.361 345.413 L862.361 360.204 L858.102 360.204 L858.102 356.269 Q856.644 358.63 854.468 359.764 Q852.292 360.875 849.144 360.875 Q845.162 360.875 842.801 358.653 Q840.463 356.408 840.463 352.658 Q840.463 348.283 843.38 346.061 Q846.32 343.838 852.13 343.838 L858.102 343.838 L858.102 343.422 Q858.102 340.482 856.158 338.885 Q854.236 337.264 850.741 337.264 Q848.519 337.264 846.412 337.797 Q844.306 338.329 842.362 339.394 L842.362 335.459 Q844.699 334.556 846.899 334.116 Q849.098 333.653 851.181 333.653 Q856.806 333.653 859.584 336.57 Q862.361 339.487 862.361 345.413 Z\" fill=\"#000000\" fill-rule=\"evenodd\" fill-opacity=\"1\" /><path clip-path=\"url(#clip8000)\" d=\"M 0 0 M863.773 334.278 L868.287 334.278 L876.389 356.037 L884.491 334.278 L889.005 334.278 L879.283 360.204 L873.496 360.204 L863.773 334.278 Z\" fill=\"#000000\" fill-rule=\"evenodd\" fill-opacity=\"1\" /><path clip-path=\"url(#clip8000)\" d=\"M 0 0 M910.532 346.94 Q910.532 342.311 908.611 339.764 Q906.713 337.218 903.264 337.218 Q899.838 337.218 897.917 339.764 Q896.019 342.311 896.019 346.94 Q896.019 351.547 897.917 354.093 Q899.838 356.639 903.264 356.639 Q906.713 356.639 908.611 354.093 Q910.532 351.547 910.532 346.94 M914.792 356.987 Q914.792 363.607 911.852 366.824 Q908.912 370.065 902.847 370.065 Q900.602 370.065 898.611 369.718 Q896.621 369.394 894.746 368.699 L894.746 364.556 Q896.621 365.574 898.449 366.061 Q900.278 366.547 902.176 366.547 Q906.366 366.547 908.449 364.348 Q910.532 362.172 910.532 357.75 L910.532 355.644 Q909.213 357.936 907.153 359.07 Q905.093 360.204 902.222 360.204 Q897.454 360.204 894.537 356.57 Q891.621 352.936 891.621 346.94 Q891.621 340.922 894.537 337.288 Q897.454 333.653 902.222 333.653 Q905.093 333.653 907.153 334.788 Q909.213 335.922 910.532 338.213 L910.532 334.278 L914.792 334.278 L914.792 356.987 Z\" fill=\"#000000\" fill-rule=\"evenodd\" fill-opacity=\"1\" /><polyline clip-path=\"url(#clip8000)\" style=\"stroke:#3da44d; stroke-width:4; stroke-opacity:1; fill:none\" points=\"\n",
       "  381.666,403.404 616.866,403.404 \n",
       "  \"/>\n",
       "<path clip-path=\"url(#clip8000)\" d=\"M 0 0 M671.691 402.05 Q675.048 402.768 676.923 405.036 Q678.821 407.305 678.821 410.638 Q678.821 415.754 675.302 418.554 Q671.784 421.355 665.302 421.355 Q663.126 421.355 660.812 420.916 Q658.52 420.499 656.066 419.642 L656.066 415.129 Q658.011 416.263 660.325 416.842 Q662.64 417.42 665.163 417.42 Q669.562 417.42 671.853 415.684 Q674.168 413.948 674.168 410.638 Q674.168 407.582 672.015 405.869 Q669.886 404.133 666.066 404.133 L662.038 404.133 L662.038 400.291 L666.251 400.291 Q669.7 400.291 671.529 398.925 Q673.358 397.536 673.358 394.943 Q673.358 392.281 671.46 390.869 Q669.585 389.434 666.066 389.434 Q664.145 389.434 661.946 389.851 Q659.747 390.268 657.108 391.147 L657.108 386.981 Q659.77 386.24 662.085 385.869 Q664.423 385.499 666.483 385.499 Q671.807 385.499 674.909 387.93 Q678.011 390.337 678.011 394.457 Q678.011 397.328 676.367 399.318 Q674.724 401.286 671.691 402.05 Z\" fill=\"#000000\" fill-rule=\"evenodd\" fill-opacity=\"1\" /><path clip-path=\"url(#clip8000)\" d=\"M 0 0 M694.469 401.541 Q691.321 401.541 689.469 403.693 Q687.64 405.846 687.64 409.596 Q687.64 413.323 689.469 415.499 Q691.321 417.652 694.469 417.652 Q697.617 417.652 699.446 415.499 Q701.297 413.323 701.297 409.596 Q701.297 405.846 699.446 403.693 Q697.617 401.541 694.469 401.541 M703.751 386.888 L703.751 391.147 Q701.992 390.314 700.186 389.874 Q698.404 389.434 696.645 389.434 Q692.015 389.434 689.561 392.559 Q687.131 395.684 686.784 402.004 Q688.149 399.99 690.21 398.925 Q692.27 397.837 694.747 397.837 Q699.955 397.837 702.964 401.008 Q705.997 404.156 705.997 409.596 Q705.997 414.92 702.848 418.138 Q699.7 421.355 694.469 421.355 Q688.473 421.355 685.302 416.772 Q682.131 412.166 682.131 403.439 Q682.131 395.244 686.02 390.383 Q689.909 385.499 696.46 385.499 Q698.219 385.499 700.001 385.846 Q701.807 386.194 703.751 386.888 Z\" fill=\"#000000\" fill-rule=\"evenodd\" fill-opacity=\"1\" /><path clip-path=\"url(#clip8000)\" d=\"M 0 0 M711.112 386.124 L729.469 386.124 L729.469 390.059 L715.395 390.059 L715.395 398.531 Q716.413 398.184 717.432 398.022 Q718.45 397.837 719.469 397.837 Q725.256 397.837 728.635 401.008 Q732.015 404.18 732.015 409.596 Q732.015 415.175 728.543 418.277 Q725.07 421.355 718.751 421.355 Q716.575 421.355 714.307 420.985 Q712.061 420.615 709.654 419.874 L709.654 415.175 Q711.737 416.309 713.959 416.865 Q716.182 417.42 718.658 417.42 Q722.663 417.42 725.001 415.314 Q727.339 413.207 727.339 409.596 Q727.339 405.985 725.001 403.879 Q722.663 401.772 718.658 401.772 Q716.784 401.772 714.909 402.189 Q713.057 402.605 711.112 403.485 L711.112 386.124 Z\" fill=\"#000000\" fill-rule=\"evenodd\" fill-opacity=\"1\" /><path clip-path=\"url(#clip8000)\" d=\"M 0 0 M734.33 405.8 L746.806 405.8 L746.806 409.596 L734.33 409.596 L734.33 405.8 Z\" fill=\"#000000\" fill-rule=\"evenodd\" fill-opacity=\"1\" /><path clip-path=\"url(#clip8000)\" d=\"M 0 0 M768.334 398.693 L768.334 384.666 L772.593 384.666 L772.593 420.684 L768.334 420.684 L768.334 416.795 Q766.992 419.11 764.931 420.244 Q762.894 421.355 760.024 421.355 Q755.325 421.355 752.362 417.605 Q749.422 413.855 749.422 407.744 Q749.422 401.633 752.362 397.883 Q755.325 394.133 760.024 394.133 Q762.894 394.133 764.931 395.268 Q766.992 396.379 768.334 398.693 M753.82 407.744 Q753.82 412.443 755.742 415.129 Q757.686 417.791 761.066 417.791 Q764.445 417.791 766.39 415.129 Q768.334 412.443 768.334 407.744 Q768.334 403.045 766.39 400.383 Q764.445 397.698 761.066 397.698 Q757.686 397.698 755.742 400.383 Q753.82 403.045 753.82 407.744 Z\" fill=\"#000000\" fill-rule=\"evenodd\" fill-opacity=\"1\" /><path clip-path=\"url(#clip8000)\" d=\"M 0 0 M788.843 407.652 Q783.681 407.652 781.691 408.832 Q779.7 410.013 779.7 412.86 Q779.7 415.129 781.181 416.471 Q782.686 417.791 785.255 417.791 Q788.797 417.791 790.927 415.291 Q793.079 412.767 793.079 408.601 L793.079 407.652 L788.843 407.652 M797.339 405.893 L797.339 420.684 L793.079 420.684 L793.079 416.749 Q791.621 419.11 789.445 420.244 Q787.269 421.355 784.121 421.355 Q780.14 421.355 777.779 419.133 Q775.441 416.888 775.441 413.138 Q775.441 408.763 778.357 406.541 Q781.297 404.318 787.107 404.318 L793.079 404.318 L793.079 403.902 Q793.079 400.962 791.135 399.365 Q789.214 397.744 785.718 397.744 Q783.496 397.744 781.39 398.277 Q779.283 398.809 777.339 399.874 L777.339 395.939 Q779.677 395.036 781.876 394.596 Q784.075 394.133 786.158 394.133 Q791.783 394.133 794.561 397.05 Q797.339 399.967 797.339 405.893 Z\" fill=\"#000000\" fill-rule=\"evenodd\" fill-opacity=\"1\" /><path clip-path=\"url(#clip8000)\" d=\"M 0 0 M812.593 423.091 Q810.788 427.721 809.075 429.133 Q807.362 430.545 804.491 430.545 L801.089 430.545 L801.089 426.98 L803.589 426.98 Q805.348 426.98 806.32 426.147 Q807.292 425.314 808.473 422.212 L809.237 420.267 L798.751 394.758 L803.265 394.758 L811.366 415.036 L819.468 394.758 L823.982 394.758 L812.593 423.091 Z\" fill=\"#000000\" fill-rule=\"evenodd\" fill-opacity=\"1\" /><path clip-path=\"url(#clip8000)\" d=\"M 0 0 M855.301 407.652 Q850.139 407.652 848.149 408.832 Q846.158 410.013 846.158 412.86 Q846.158 415.129 847.639 416.471 Q849.144 417.791 851.713 417.791 Q855.255 417.791 857.385 415.291 Q859.537 412.767 859.537 408.601 L859.537 407.652 L855.301 407.652 M863.797 405.893 L863.797 420.684 L859.537 420.684 L859.537 416.749 Q858.079 419.11 855.903 420.244 Q853.727 421.355 850.579 421.355 Q846.598 421.355 844.237 419.133 Q841.899 416.888 841.899 413.138 Q841.899 408.763 844.815 406.541 Q847.755 404.318 853.565 404.318 L859.537 404.318 L859.537 403.902 Q859.537 400.962 857.593 399.365 Q855.672 397.744 852.176 397.744 Q849.954 397.744 847.848 398.277 Q845.741 398.809 843.797 399.874 L843.797 395.939 Q846.135 395.036 848.334 394.596 Q850.533 394.133 852.616 394.133 Q858.241 394.133 861.019 397.05 Q863.797 399.967 863.797 405.893 Z\" fill=\"#000000\" fill-rule=\"evenodd\" fill-opacity=\"1\" /><path clip-path=\"url(#clip8000)\" d=\"M 0 0 M865.209 394.758 L869.723 394.758 L877.824 416.517 L885.926 394.758 L890.44 394.758 L880.718 420.684 L874.931 420.684 L865.209 394.758 Z\" fill=\"#000000\" fill-rule=\"evenodd\" fill-opacity=\"1\" /><path clip-path=\"url(#clip8000)\" d=\"M 0 0 M911.968 407.42 Q911.968 402.791 910.046 400.244 Q908.148 397.698 904.699 397.698 Q901.273 397.698 899.352 400.244 Q897.454 402.791 897.454 407.42 Q897.454 412.027 899.352 414.573 Q901.273 417.119 904.699 417.119 Q908.148 417.119 910.046 414.573 Q911.968 412.027 911.968 407.42 M916.227 417.467 Q916.227 424.087 913.287 427.304 Q910.347 430.545 904.283 430.545 Q902.037 430.545 900.046 430.198 Q898.056 429.874 896.181 429.179 L896.181 425.036 Q898.056 426.054 899.884 426.541 Q901.713 427.027 903.611 427.027 Q907.801 427.027 909.884 424.828 Q911.968 422.652 911.968 418.23 L911.968 416.124 Q910.648 418.416 908.588 419.55 Q906.528 420.684 903.658 420.684 Q898.889 420.684 895.972 417.05 Q893.056 413.416 893.056 407.42 Q893.056 401.402 895.972 397.768 Q898.889 394.133 903.658 394.133 Q906.528 394.133 908.588 395.268 Q910.648 396.402 911.968 398.693 L911.968 394.758 L916.227 394.758 L916.227 417.467 Z\" fill=\"#000000\" fill-rule=\"evenodd\" fill-opacity=\"1\" /></svg>\n"
      ]
     },
     "execution_count": 10,
     "metadata": {},
     "output_type": "execute_result"
    }
   ],
   "source": [
    "using Plots\n",
    "columns = names(df)\n",
    "count = size(df)[1]\n",
    "days_back = 365*4\n",
    "rows = count-days_back:count\n",
    "dates = format_dates( df[rows,2] , \"m/d/yy\")\n",
    "\n",
    "gr()\n",
    "plot(          dates, # x-axis: dates\n",
    "               [  df[rows,3] averages180[rows] averages365[rows]    ], # y-axis\n",
    "    label    = [ \"value\" \"180-day avg\" \"365-day avg\"   \"\"  ],\n",
    "    legend   =:topleft, \n",
    "              # :right, :left, :top, :bottom, :inside, :best, :legend, :topright, :topleft, :bottomleft, :bottomright\n",
    "    xlabel   = \"time\",\n",
    "    ylabel   = \"indicators\",\n",
    "    size     = (980, 400), # width, height\n",
    "    layout = (1, 1) # number of graphs: vertically, horizontally\n",
    "    )"
   ]
  },
  {
   "cell_type": "markdown",
   "metadata": {},
   "source": [
    "### Insert averages to DataFrame"
   ]
  },
  {
   "cell_type": "code",
   "execution_count": 11,
   "metadata": {
    "ExecuteTime": {
     "end_time": "2020-11-29T13:48:45.260000-05:00",
     "start_time": "2020-11-29T18:47:39.057Z"
    }
   },
   "outputs": [
    {
     "data": {
      "text/html": [
       "<table class=\"data-frame\"><thead><tr><th></th><th>variable</th><th>mean</th><th>min</th><th>median</th><th>max</th><th>nunique</th><th>nmissing</th><th>eltype</th></tr><tr><th></th><th>Symbol</th><th>Union…</th><th>Any</th><th>Union…</th><th>Any</th><th>Union…</th><th>Nothing</th><th>DataType</th></tr></thead><tbody><p>9 rows × 8 columns</p><tr><th>1</th><td>Day</td><td>731213.0</td><td>724670</td><td>731213.0</td><td>737756</td><td></td><td></td><td>Int64</td></tr><tr><th>2</th><td>Date</td><td></td><td>1985-01-29</td><td></td><td>2020-11-27</td><td>13087</td><td></td><td>Date</td></tr><tr><th>3</th><td>Value</td><td>-47.8534</td><td>-128.0</td><td>-49.0</td><td>127.0</td><td></td><td></td><td>Float64</td></tr><tr><th>4</th><td>Original</td><td>10323.8</td><td>1251.21</td><td>10202.9</td><td>30116.5</td><td></td><td></td><td>Float64</td></tr><tr><th>5</th><td>Avg005</td><td>-47.8532</td><td>-128.0</td><td>-49.0</td><td>125.6</td><td></td><td></td><td>Float64</td></tr><tr><th>6</th><td>Avg030</td><td>-47.8465</td><td>-128.0</td><td>-48.67</td><td>118.93</td><td></td><td></td><td>Float64</td></tr><tr><th>7</th><td>Avg090</td><td>-47.807</td><td>-127.97</td><td>-48.14</td><td>115.23</td><td></td><td></td><td>Float64</td></tr><tr><th>8</th><td>Avg180</td><td>-47.7318</td><td>-127.66</td><td>-48.33</td><td>108.24</td><td></td><td></td><td>Float64</td></tr><tr><th>9</th><td>Avg365</td><td>-47.4789</td><td>-127.01</td><td>-48.37</td><td>100.78</td><td></td><td></td><td>Float64</td></tr></tbody></table>"
      ],
      "text/latex": [
       "\\begin{tabular}{r|cccccccc}\n",
       "\t& variable & mean & min & median & max & nunique & nmissing & eltype\\\\\n",
       "\t\\hline\n",
       "\t& Symbol & Union… & Any & Union… & Any & Union… & Nothing & DataType\\\\\n",
       "\t\\hline\n",
       "\t1 & Day & 731213.0 & 724670 & 731213.0 & 737756 &  &  & Int64 \\\\\n",
       "\t2 & Date &  & 1985-01-29 &  & 2020-11-27 & 13087 &  & Date \\\\\n",
       "\t3 & Value & -47.8534 & -128.0 & -49.0 & 127.0 &  &  & Float64 \\\\\n",
       "\t4 & Original & 10323.8 & 1251.21 & 10202.9 & 30116.5 &  &  & Float64 \\\\\n",
       "\t5 & Avg005 & -47.8532 & -128.0 & -49.0 & 125.6 &  &  & Float64 \\\\\n",
       "\t6 & Avg030 & -47.8465 & -128.0 & -48.67 & 118.93 &  &  & Float64 \\\\\n",
       "\t7 & Avg090 & -47.807 & -127.97 & -48.14 & 115.23 &  &  & Float64 \\\\\n",
       "\t8 & Avg180 & -47.7318 & -127.66 & -48.33 & 108.24 &  &  & Float64 \\\\\n",
       "\t9 & Avg365 & -47.4789 & -127.01 & -48.37 & 100.78 &  &  & Float64 \\\\\n",
       "\\end{tabular}\n"
      ],
      "text/plain": [
       "9×8 DataFrame. Omitted printing of 2 columns\n",
       "│ Row │ variable │ mean     │ min        │ median   │ max        │ nunique │\n",
       "│     │ \u001b[90mSymbol\u001b[39m   │ \u001b[90mUnion…\u001b[39m   │ \u001b[90mAny\u001b[39m        │ \u001b[90mUnion…\u001b[39m   │ \u001b[90mAny\u001b[39m        │ \u001b[90mUnion…\u001b[39m  │\n",
       "├─────┼──────────┼──────────┼────────────┼──────────┼────────────┼─────────┤\n",
       "│ 1   │ Day      │ 731213.0 │ 724670     │ 731213.0 │ 737756     │         │\n",
       "│ 2   │ Date     │          │ 1985-01-29 │          │ 2020-11-27 │ 13087   │\n",
       "│ 3   │ Value    │ -47.8534 │ -128.0     │ -49.0    │ 127.0      │         │\n",
       "│ 4   │ Original │ 10323.8  │ 1251.21    │ 10202.9  │ 30116.5    │         │\n",
       "│ 5   │ Avg005   │ -47.8532 │ -128.0     │ -49.0    │ 125.6      │         │\n",
       "│ 6   │ Avg030   │ -47.8465 │ -128.0     │ -48.67   │ 118.93     │         │\n",
       "│ 7   │ Avg090   │ -47.807  │ -127.97    │ -48.14   │ 115.23     │         │\n",
       "│ 8   │ Avg180   │ -47.7318 │ -127.66    │ -48.33   │ 108.24     │         │\n",
       "│ 9   │ Avg365   │ -47.4789 │ -127.01    │ -48.37   │ 100.78     │         │"
      ]
     },
     "execution_count": 11,
     "metadata": {},
     "output_type": "execute_result"
    }
   ],
   "source": [
    "insertcols!(df, 5,  :Avg005   => averages005  , makeunique=true)\n",
    "insertcols!(df, 6,  :Avg030   => averages030  , makeunique=true)\n",
    "insertcols!(df, 7,  :Avg090   => averages090  , makeunique=true)\n",
    "insertcols!(df, 8,  :Avg180   => averages180  , makeunique=true)\n",
    "insertcols!(df, 9,  :Avg365   => averages365  , makeunique=true)\n",
    "\n",
    "using Statistics\n",
    "describe(df)"
   ]
  },
  {
   "cell_type": "markdown",
   "metadata": {},
   "source": [
    "## Position on given Date\n",
    "- Indicates the date of the last major position event"
   ]
  },
  {
   "cell_type": "code",
   "execution_count": 12,
   "metadata": {
    "ExecuteTime": {
     "end_time": "2020-11-29T13:48:46.653000-05:00",
     "start_time": "2020-11-29T18:47:39.061Z"
    }
   },
   "outputs": [
    {
     "data": {
      "text/plain": [
       "3-element Array{Float64,1}:\n",
       " 109.0\n",
       " 109.0\n",
       " 109.0"
      ]
     },
     "execution_count": 12,
     "metadata": {},
     "output_type": "execute_result"
    }
   ],
   "source": [
    "position_column = position_on_date(df, last_position_change )\n",
    "position_column[1:3]"
   ]
  },
  {
   "cell_type": "markdown",
   "metadata": {},
   "source": [
    "### Position: Draw Plots"
   ]
  },
  {
   "cell_type": "code",
   "execution_count": 13,
   "metadata": {
    "ExecuteTime": {
     "end_time": "2020-11-29T13:48:47.215000-05:00",
     "start_time": "2020-11-29T18:47:39.064Z"
    }
   },
   "outputs": [
    {
     "data": {
      "image/svg+xml": [
       "<?xml version=\"1.0\" encoding=\"utf-8\"?>\n",
       "<svg xmlns=\"http://www.w3.org/2000/svg\" xmlns:xlink=\"http://www.w3.org/1999/xlink\" width=\"980\" height=\"400\" viewBox=\"0 0 3920 1600\">\n",
       "<defs>\n",
       "  <clipPath id=\"clip8400\">\n",
       "    <rect x=\"0\" y=\"0\" width=\"3920\" height=\"1600\"/>\n",
       "  </clipPath>\n",
       "</defs>\n",
       "<path clip-path=\"url(#clip8400)\" d=\"\n",
       "M0 1600 L3920 1600 L3920 0 L0 0  Z\n",
       "  \" fill=\"#ffffff\" fill-rule=\"evenodd\" fill-opacity=\"1\"/>\n",
       "<defs>\n",
       "  <clipPath id=\"clip8401\">\n",
       "    <rect x=\"784\" y=\"0\" width=\"2745\" height=\"1600\"/>\n",
       "  </clipPath>\n",
       "</defs>\n",
       "<path clip-path=\"url(#clip8400)\" d=\"\n",
       "M221.64 1455.01 L3872.76 1455.01 L3872.76 47.2441 L221.64 47.2441  Z\n",
       "  \" fill=\"#ffffff\" fill-rule=\"evenodd\" fill-opacity=\"1\"/>\n",
       "<defs>\n",
       "  <clipPath id=\"clip8402\">\n",
       "    <rect x=\"221\" y=\"47\" width=\"3652\" height=\"1409\"/>\n",
       "  </clipPath>\n",
       "</defs>\n",
       "<polyline clip-path=\"url(#clip8402)\" style=\"stroke:#000000; stroke-width:2; stroke-opacity:0.1; fill:none\" points=\"\n",
       "  324.974,1455.01 324.974,47.2441 \n",
       "  \"/>\n",
       "<polyline clip-path=\"url(#clip8402)\" style=\"stroke:#000000; stroke-width:2; stroke-opacity:0.1; fill:none\" points=\"\n",
       "  554.604,1455.01 554.604,47.2441 \n",
       "  \"/>\n",
       "<polyline clip-path=\"url(#clip8402)\" style=\"stroke:#000000; stroke-width:2; stroke-opacity:0.1; fill:none\" points=\"\n",
       "  822.505,1455.01 822.505,47.2441 \n",
       "  \"/>\n",
       "<polyline clip-path=\"url(#clip8402)\" style=\"stroke:#000000; stroke-width:2; stroke-opacity:0.1; fill:none\" points=\"\n",
       "  1052.14,1455.01 1052.14,47.2441 \n",
       "  \"/>\n",
       "<polyline clip-path=\"url(#clip8402)\" style=\"stroke:#000000; stroke-width:2; stroke-opacity:0.1; fill:none\" points=\"\n",
       "  1320.04,1455.01 1320.04,47.2441 \n",
       "  \"/>\n",
       "<polyline clip-path=\"url(#clip8402)\" style=\"stroke:#000000; stroke-width:2; stroke-opacity:0.1; fill:none\" points=\"\n",
       "  1549.67,1455.01 1549.67,47.2441 \n",
       "  \"/>\n",
       "<polyline clip-path=\"url(#clip8402)\" style=\"stroke:#000000; stroke-width:2; stroke-opacity:0.1; fill:none\" points=\"\n",
       "  1817.57,1455.01 1817.57,47.2441 \n",
       "  \"/>\n",
       "<polyline clip-path=\"url(#clip8402)\" style=\"stroke:#000000; stroke-width:2; stroke-opacity:0.1; fill:none\" points=\"\n",
       "  2047.2,1455.01 2047.2,47.2441 \n",
       "  \"/>\n",
       "<polyline clip-path=\"url(#clip8402)\" style=\"stroke:#000000; stroke-width:2; stroke-opacity:0.1; fill:none\" points=\"\n",
       "  2276.83,1455.01 2276.83,47.2441 \n",
       "  \"/>\n",
       "<polyline clip-path=\"url(#clip8402)\" style=\"stroke:#000000; stroke-width:2; stroke-opacity:0.1; fill:none\" points=\"\n",
       "  2544.73,1455.01 2544.73,47.2441 \n",
       "  \"/>\n",
       "<polyline clip-path=\"url(#clip8402)\" style=\"stroke:#000000; stroke-width:2; stroke-opacity:0.1; fill:none\" points=\"\n",
       "  2774.36,1455.01 2774.36,47.2441 \n",
       "  \"/>\n",
       "<polyline clip-path=\"url(#clip8402)\" style=\"stroke:#000000; stroke-width:2; stroke-opacity:0.1; fill:none\" points=\"\n",
       "  3042.26,1455.01 3042.26,47.2441 \n",
       "  \"/>\n",
       "<polyline clip-path=\"url(#clip8402)\" style=\"stroke:#000000; stroke-width:2; stroke-opacity:0.1; fill:none\" points=\"\n",
       "  3271.89,1455.01 3271.89,47.2441 \n",
       "  \"/>\n",
       "<polyline clip-path=\"url(#clip8402)\" style=\"stroke:#000000; stroke-width:2; stroke-opacity:0.1; fill:none\" points=\"\n",
       "  3539.79,1455.01 3539.79,47.2441 \n",
       "  \"/>\n",
       "<polyline clip-path=\"url(#clip8402)\" style=\"stroke:#000000; stroke-width:2; stroke-opacity:0.1; fill:none\" points=\"\n",
       "  3769.42,1455.01 3769.42,47.2441 \n",
       "  \"/>\n",
       "<polyline clip-path=\"url(#clip8402)\" style=\"stroke:#000000; stroke-width:2; stroke-opacity:0.1; fill:none\" points=\"\n",
       "  221.64,1234.66 3872.76,1234.66 \n",
       "  \"/>\n",
       "<polyline clip-path=\"url(#clip8402)\" style=\"stroke:#000000; stroke-width:2; stroke-opacity:0.1; fill:none\" points=\"\n",
       "  221.64,924.501 3872.76,924.501 \n",
       "  \"/>\n",
       "<polyline clip-path=\"url(#clip8402)\" style=\"stroke:#000000; stroke-width:2; stroke-opacity:0.1; fill:none\" points=\"\n",
       "  221.64,614.348 3872.76,614.348 \n",
       "  \"/>\n",
       "<polyline clip-path=\"url(#clip8402)\" style=\"stroke:#000000; stroke-width:2; stroke-opacity:0.1; fill:none\" points=\"\n",
       "  221.64,304.194 3872.76,304.194 \n",
       "  \"/>\n",
       "<polyline clip-path=\"url(#clip8400)\" style=\"stroke:#000000; stroke-width:4; stroke-opacity:1; fill:none\" points=\"\n",
       "  221.64,1455.01 3872.76,1455.01 \n",
       "  \"/>\n",
       "<polyline clip-path=\"url(#clip8400)\" style=\"stroke:#000000; stroke-width:4; stroke-opacity:1; fill:none\" points=\"\n",
       "  221.64,1455.01 221.64,47.2441 \n",
       "  \"/>\n",
       "<polyline clip-path=\"url(#clip8400)\" style=\"stroke:#000000; stroke-width:4; stroke-opacity:1; fill:none\" points=\"\n",
       "  324.974,1455.01 324.974,1438.11 \n",
       "  \"/>\n",
       "<polyline clip-path=\"url(#clip8400)\" style=\"stroke:#000000; stroke-width:4; stroke-opacity:1; fill:none\" points=\"\n",
       "  554.604,1455.01 554.604,1438.11 \n",
       "  \"/>\n",
       "<polyline clip-path=\"url(#clip8400)\" style=\"stroke:#000000; stroke-width:4; stroke-opacity:1; fill:none\" points=\"\n",
       "  822.505,1455.01 822.505,1438.11 \n",
       "  \"/>\n",
       "<polyline clip-path=\"url(#clip8400)\" style=\"stroke:#000000; stroke-width:4; stroke-opacity:1; fill:none\" points=\"\n",
       "  1052.14,1455.01 1052.14,1438.11 \n",
       "  \"/>\n",
       "<polyline clip-path=\"url(#clip8400)\" style=\"stroke:#000000; stroke-width:4; stroke-opacity:1; fill:none\" points=\"\n",
       "  1320.04,1455.01 1320.04,1438.11 \n",
       "  \"/>\n",
       "<polyline clip-path=\"url(#clip8400)\" style=\"stroke:#000000; stroke-width:4; stroke-opacity:1; fill:none\" points=\"\n",
       "  1549.67,1455.01 1549.67,1438.11 \n",
       "  \"/>\n",
       "<polyline clip-path=\"url(#clip8400)\" style=\"stroke:#000000; stroke-width:4; stroke-opacity:1; fill:none\" points=\"\n",
       "  1817.57,1455.01 1817.57,1438.11 \n",
       "  \"/>\n",
       "<polyline clip-path=\"url(#clip8400)\" style=\"stroke:#000000; stroke-width:4; stroke-opacity:1; fill:none\" points=\"\n",
       "  2047.2,1455.01 2047.2,1438.11 \n",
       "  \"/>\n",
       "<polyline clip-path=\"url(#clip8400)\" style=\"stroke:#000000; stroke-width:4; stroke-opacity:1; fill:none\" points=\"\n",
       "  2276.83,1455.01 2276.83,1438.11 \n",
       "  \"/>\n",
       "<polyline clip-path=\"url(#clip8400)\" style=\"stroke:#000000; stroke-width:4; stroke-opacity:1; fill:none\" points=\"\n",
       "  2544.73,1455.01 2544.73,1438.11 \n",
       "  \"/>\n",
       "<polyline clip-path=\"url(#clip8400)\" style=\"stroke:#000000; stroke-width:4; stroke-opacity:1; fill:none\" points=\"\n",
       "  2774.36,1455.01 2774.36,1438.11 \n",
       "  \"/>\n",
       "<polyline clip-path=\"url(#clip8400)\" style=\"stroke:#000000; stroke-width:4; stroke-opacity:1; fill:none\" points=\"\n",
       "  3042.26,1455.01 3042.26,1438.11 \n",
       "  \"/>\n",
       "<polyline clip-path=\"url(#clip8400)\" style=\"stroke:#000000; stroke-width:4; stroke-opacity:1; fill:none\" points=\"\n",
       "  3271.89,1455.01 3271.89,1438.11 \n",
       "  \"/>\n",
       "<polyline clip-path=\"url(#clip8400)\" style=\"stroke:#000000; stroke-width:4; stroke-opacity:1; fill:none\" points=\"\n",
       "  3539.79,1455.01 3539.79,1438.11 \n",
       "  \"/>\n",
       "<polyline clip-path=\"url(#clip8400)\" style=\"stroke:#000000; stroke-width:4; stroke-opacity:1; fill:none\" points=\"\n",
       "  3769.42,1455.01 3769.42,1438.11 \n",
       "  \"/>\n",
       "<polyline clip-path=\"url(#clip8400)\" style=\"stroke:#000000; stroke-width:4; stroke-opacity:1; fill:none\" points=\"\n",
       "  221.64,1234.66 265.454,1234.66 \n",
       "  \"/>\n",
       "<polyline clip-path=\"url(#clip8400)\" style=\"stroke:#000000; stroke-width:4; stroke-opacity:1; fill:none\" points=\"\n",
       "  221.64,924.501 265.454,924.501 \n",
       "  \"/>\n",
       "<polyline clip-path=\"url(#clip8400)\" style=\"stroke:#000000; stroke-width:4; stroke-opacity:1; fill:none\" points=\"\n",
       "  221.64,614.348 265.454,614.348 \n",
       "  \"/>\n",
       "<polyline clip-path=\"url(#clip8400)\" style=\"stroke:#000000; stroke-width:4; stroke-opacity:1; fill:none\" points=\"\n",
       "  221.64,304.194 265.454,304.194 \n",
       "  \"/>\n",
       "<path clip-path=\"url(#clip8400)\" d=\"M 0 0 M256.664 1499.67 Q253.33 1499.67 251.409 1501.45 Q249.511 1503.23 249.511 1506.36 Q249.511 1509.48 251.409 1511.26 Q253.33 1513.05 256.664 1513.05 Q259.997 1513.05 261.918 1511.26 Q263.84 1509.46 263.84 1506.36 Q263.84 1503.23 261.918 1501.45 Q260.02 1499.67 256.664 1499.67 M251.988 1497.68 Q248.979 1496.94 247.289 1494.88 Q245.622 1492.82 245.622 1489.85 Q245.622 1485.71 248.562 1483.3 Q251.525 1480.89 256.664 1480.89 Q261.826 1480.89 264.766 1483.3 Q267.705 1485.71 267.705 1489.85 Q267.705 1492.82 266.016 1494.88 Q264.349 1496.94 261.363 1497.68 Q264.742 1498.46 266.617 1500.75 Q268.516 1503.05 268.516 1506.36 Q268.516 1511.38 265.437 1514.06 Q262.381 1516.75 256.664 1516.75 Q250.946 1516.75 247.868 1514.06 Q244.812 1511.38 244.812 1506.36 Q244.812 1503.05 246.71 1500.75 Q248.608 1498.46 251.988 1497.68 M250.275 1490.29 Q250.275 1492.98 251.942 1494.48 Q253.631 1495.99 256.664 1495.99 Q259.673 1495.99 261.363 1494.48 Q263.076 1492.98 263.076 1490.29 Q263.076 1487.61 261.363 1486.1 Q259.673 1484.6 256.664 1484.6 Q253.631 1484.6 251.942 1486.1 Q250.275 1487.61 250.275 1490.29 Z\" fill=\"#000000\" fill-rule=\"evenodd\" fill-opacity=\"1\" /><path clip-path=\"url(#clip8400)\" d=\"M 0 0 M280.553 1481.52 L284.488 1481.52 L272.451 1520.48 L268.516 1520.48 L280.553 1481.52 Z\" fill=\"#000000\" fill-rule=\"evenodd\" fill-opacity=\"1\" /><path clip-path=\"url(#clip8400)\" d=\"M 0 0 M293.585 1512.14 L309.904 1512.14 L309.904 1516.08 L287.96 1516.08 L287.96 1512.14 Q290.622 1509.39 295.205 1504.76 Q299.812 1500.11 300.992 1498.76 Q303.238 1496.24 304.117 1494.5 Q305.02 1492.75 305.02 1491.06 Q305.02 1488.3 303.076 1486.57 Q301.154 1484.83 298.052 1484.83 Q295.853 1484.83 293.4 1485.59 Q290.969 1486.36 288.191 1487.91 L288.191 1483.19 Q291.015 1482.05 293.469 1481.47 Q295.923 1480.89 297.96 1480.89 Q303.33 1480.89 306.525 1483.58 Q309.719 1486.26 309.719 1490.75 Q309.719 1492.88 308.909 1494.81 Q308.122 1496.7 306.015 1499.3 Q305.437 1499.97 302.335 1503.19 Q299.233 1506.38 293.585 1512.14 Z\" fill=\"#000000\" fill-rule=\"evenodd\" fill-opacity=\"1\" /><path clip-path=\"url(#clip8400)\" d=\"M 0 0 M315.113 1515.36 L315.113 1511.1 Q316.872 1511.94 318.677 1512.38 Q320.483 1512.81 322.219 1512.81 Q326.849 1512.81 329.279 1509.71 Q331.733 1506.59 332.08 1500.25 Q330.737 1502.24 328.677 1503.3 Q326.617 1504.37 324.117 1504.37 Q318.932 1504.37 315.9 1501.24 Q312.89 1498.09 312.89 1492.65 Q312.89 1487.33 316.038 1484.11 Q319.187 1480.89 324.418 1480.89 Q330.413 1480.89 333.561 1485.5 Q336.733 1490.08 336.733 1498.83 Q336.733 1507 332.844 1511.89 Q328.978 1516.75 322.427 1516.75 Q320.668 1516.75 318.863 1516.4 Q317.057 1516.06 315.113 1515.36 M324.418 1500.71 Q327.566 1500.71 329.395 1498.56 Q331.247 1496.4 331.247 1492.65 Q331.247 1488.93 329.395 1486.77 Q327.566 1484.6 324.418 1484.6 Q321.27 1484.6 319.418 1486.77 Q317.589 1488.93 317.589 1492.65 Q317.589 1496.4 319.418 1498.56 Q321.27 1500.71 324.418 1500.71 Z\" fill=\"#000000\" fill-rule=\"evenodd\" fill-opacity=\"1\" /><path clip-path=\"url(#clip8400)\" d=\"M 0 0 M348.77 1481.52 L352.705 1481.52 L340.668 1520.48 L336.733 1520.48 L348.77 1481.52 Z\" fill=\"#000000\" fill-rule=\"evenodd\" fill-opacity=\"1\" /><path clip-path=\"url(#clip8400)\" d=\"M 0 0 M361.802 1512.14 L378.121 1512.14 L378.121 1516.08 L356.177 1516.08 L356.177 1512.14 Q358.839 1509.39 363.422 1504.76 Q368.029 1500.11 369.209 1498.76 Q371.455 1496.24 372.334 1494.5 Q373.237 1492.75 373.237 1491.06 Q373.237 1488.3 371.293 1486.57 Q369.371 1484.83 366.27 1484.83 Q364.071 1484.83 361.617 1485.59 Q359.186 1486.36 356.409 1487.91 L356.409 1483.19 Q359.233 1482.05 361.686 1481.47 Q364.14 1480.89 366.177 1480.89 Q371.547 1480.89 374.742 1483.58 Q377.936 1486.26 377.936 1490.75 Q377.936 1492.88 377.126 1494.81 Q376.339 1496.7 374.233 1499.3 Q373.654 1499.97 370.552 1503.19 Q367.45 1506.38 361.802 1512.14 Z\" fill=\"#000000\" fill-rule=\"evenodd\" fill-opacity=\"1\" /><path clip-path=\"url(#clip8400)\" d=\"M 0 0 M393.191 1484.6 Q389.58 1484.6 387.751 1488.16 Q385.945 1491.7 385.945 1498.83 Q385.945 1505.94 387.751 1509.5 Q389.58 1513.05 393.191 1513.05 Q396.825 1513.05 398.631 1509.5 Q400.459 1505.94 400.459 1498.83 Q400.459 1491.7 398.631 1488.16 Q396.825 1484.6 393.191 1484.6 M393.191 1480.89 Q399.001 1480.89 402.057 1485.5 Q405.135 1490.08 405.135 1498.83 Q405.135 1507.56 402.057 1512.17 Q399.001 1516.75 393.191 1516.75 Q387.381 1516.75 384.302 1512.17 Q381.246 1507.56 381.246 1498.83 Q381.246 1490.08 384.302 1485.5 Q387.381 1480.89 393.191 1480.89 Z\" fill=\"#000000\" fill-rule=\"evenodd\" fill-opacity=\"1\" /><path clip-path=\"url(#clip8400)\" d=\"M 0 0 M488.967 1515.36 L488.967 1511.1 Q490.727 1511.94 492.532 1512.38 Q494.338 1512.81 496.074 1512.81 Q500.703 1512.81 503.134 1509.71 Q505.588 1506.59 505.935 1500.25 Q504.592 1502.24 502.532 1503.3 Q500.472 1504.37 497.972 1504.37 Q492.787 1504.37 489.754 1501.24 Q486.745 1498.09 486.745 1492.65 Q486.745 1487.33 489.893 1484.11 Q493.041 1480.89 498.273 1480.89 Q504.268 1480.89 507.416 1485.5 Q510.588 1490.08 510.588 1498.83 Q510.588 1507 506.699 1511.89 Q502.833 1516.75 496.282 1516.75 Q494.523 1516.75 492.717 1516.4 Q490.912 1516.06 488.967 1515.36 M498.273 1500.71 Q501.421 1500.71 503.25 1498.56 Q505.101 1496.4 505.101 1492.65 Q505.101 1488.93 503.25 1486.77 Q501.421 1484.6 498.273 1484.6 Q495.125 1484.6 493.273 1486.77 Q491.444 1488.93 491.444 1492.65 Q491.444 1496.4 493.273 1498.56 Q495.125 1500.71 498.273 1500.71 Z\" fill=\"#000000\" fill-rule=\"evenodd\" fill-opacity=\"1\" /><path clip-path=\"url(#clip8400)\" d=\"M 0 0 M522.625 1481.52 L526.56 1481.52 L514.523 1520.48 L510.588 1520.48 L522.625 1481.52 Z\" fill=\"#000000\" fill-rule=\"evenodd\" fill-opacity=\"1\" /><path clip-path=\"url(#clip8400)\" d=\"M 0 0 M544.476 1485.59 L532.671 1504.04 L544.476 1504.04 L544.476 1485.59 M543.249 1481.52 L549.129 1481.52 L549.129 1504.04 L554.06 1504.04 L554.06 1507.93 L549.129 1507.93 L549.129 1516.08 L544.476 1516.08 L544.476 1507.93 L528.874 1507.93 L528.874 1503.42 L543.249 1481.52 Z\" fill=\"#000000\" fill-rule=\"evenodd\" fill-opacity=\"1\" /><path clip-path=\"url(#clip8400)\" d=\"M 0 0 M566.097 1481.52 L570.032 1481.52 L557.995 1520.48 L554.06 1520.48 L566.097 1481.52 Z\" fill=\"#000000\" fill-rule=\"evenodd\" fill-opacity=\"1\" /><path clip-path=\"url(#clip8400)\" d=\"M 0 0 M579.129 1512.14 L595.448 1512.14 L595.448 1516.08 L573.504 1516.08 L573.504 1512.14 Q576.166 1509.39 580.749 1504.76 Q585.356 1500.11 586.536 1498.76 Q588.782 1496.24 589.661 1494.5 Q590.564 1492.75 590.564 1491.06 Q590.564 1488.3 588.62 1486.57 Q586.698 1484.83 583.596 1484.83 Q581.397 1484.83 578.944 1485.59 Q576.513 1486.36 573.735 1487.91 L573.735 1483.19 Q576.559 1482.05 579.013 1481.47 Q581.467 1480.89 583.504 1480.89 Q588.874 1480.89 592.069 1483.58 Q595.263 1486.26 595.263 1490.75 Q595.263 1492.88 594.453 1494.81 Q593.666 1496.7 591.559 1499.3 Q590.981 1499.97 587.879 1503.19 Q584.777 1506.38 579.129 1512.14 Z\" fill=\"#000000\" fill-rule=\"evenodd\" fill-opacity=\"1\" /><path clip-path=\"url(#clip8400)\" d=\"M 0 0 M610.518 1484.6 Q606.906 1484.6 605.078 1488.16 Q603.272 1491.7 603.272 1498.83 Q603.272 1505.94 605.078 1509.5 Q606.906 1513.05 610.518 1513.05 Q614.152 1513.05 615.957 1509.5 Q617.786 1505.94 617.786 1498.83 Q617.786 1491.7 615.957 1488.16 Q614.152 1484.6 610.518 1484.6 M610.518 1480.89 Q616.328 1480.89 619.383 1485.5 Q622.462 1490.08 622.462 1498.83 Q622.462 1507.56 619.383 1512.17 Q616.328 1516.75 610.518 1516.75 Q604.707 1516.75 601.629 1512.17 Q598.573 1507.56 598.573 1498.83 Q598.573 1490.08 601.629 1485.5 Q604.707 1480.89 610.518 1480.89 Z\" fill=\"#000000\" fill-rule=\"evenodd\" fill-opacity=\"1\" /><path clip-path=\"url(#clip8400)\" d=\"M 0 0 M744.832 1515.36 L744.832 1511.1 Q746.591 1511.94 748.397 1512.38 Q750.202 1512.81 751.938 1512.81 Q756.568 1512.81 758.998 1509.71 Q761.452 1506.59 761.799 1500.25 Q760.457 1502.24 758.397 1503.3 Q756.336 1504.37 753.836 1504.37 Q748.651 1504.37 745.619 1501.24 Q742.61 1498.09 742.61 1492.65 Q742.61 1487.33 745.758 1484.11 Q748.906 1480.89 754.137 1480.89 Q760.133 1480.89 763.281 1485.5 Q766.452 1490.08 766.452 1498.83 Q766.452 1507 762.563 1511.89 Q758.698 1516.75 752.147 1516.75 Q750.387 1516.75 748.582 1516.4 Q746.776 1516.06 744.832 1515.36 M754.137 1500.71 Q757.286 1500.71 759.114 1498.56 Q760.966 1496.4 760.966 1492.65 Q760.966 1488.93 759.114 1486.77 Q757.286 1484.6 754.137 1484.6 Q750.989 1484.6 749.137 1486.77 Q747.309 1488.93 747.309 1492.65 Q747.309 1496.4 749.137 1498.56 Q750.989 1500.71 754.137 1500.71 Z\" fill=\"#000000\" fill-rule=\"evenodd\" fill-opacity=\"1\" /><path clip-path=\"url(#clip8400)\" d=\"M 0 0 M778.489 1481.52 L782.424 1481.52 L770.387 1520.48 L766.452 1520.48 L778.489 1481.52 Z\" fill=\"#000000\" fill-rule=\"evenodd\" fill-opacity=\"1\" /><path clip-path=\"url(#clip8400)\" d=\"M 0 0 M788.304 1512.14 L795.943 1512.14 L795.943 1485.78 L787.633 1487.44 L787.633 1483.19 L795.896 1481.52 L800.572 1481.52 L800.572 1512.14 L808.211 1512.14 L808.211 1516.08 L788.304 1516.08 L788.304 1512.14 Z\" fill=\"#000000\" fill-rule=\"evenodd\" fill-opacity=\"1\" /><path clip-path=\"url(#clip8400)\" d=\"M 0 0 M814.091 1512.14 L821.73 1512.14 L821.73 1485.78 L813.419 1487.44 L813.419 1483.19 L821.683 1481.52 L826.359 1481.52 L826.359 1512.14 L833.998 1512.14 L833.998 1516.08 L814.091 1516.08 L814.091 1512.14 Z\" fill=\"#000000\" fill-rule=\"evenodd\" fill-opacity=\"1\" /><path clip-path=\"url(#clip8400)\" d=\"M 0 0 M846.035 1481.52 L849.97 1481.52 L837.933 1520.48 L833.998 1520.48 L846.035 1481.52 Z\" fill=\"#000000\" fill-rule=\"evenodd\" fill-opacity=\"1\" /><path clip-path=\"url(#clip8400)\" d=\"M 0 0 M859.067 1512.14 L875.387 1512.14 L875.387 1516.08 L853.442 1516.08 L853.442 1512.14 Q856.104 1509.39 860.688 1504.76 Q865.294 1500.11 866.475 1498.76 Q868.72 1496.24 869.6 1494.5 Q870.503 1492.75 870.503 1491.06 Q870.503 1488.3 868.558 1486.57 Q866.637 1484.83 863.535 1484.83 Q861.336 1484.83 858.882 1485.59 Q856.452 1486.36 853.674 1487.91 L853.674 1483.19 Q856.498 1482.05 858.952 1481.47 Q861.405 1480.89 863.442 1480.89 Q868.813 1480.89 872.007 1483.58 Q875.202 1486.26 875.202 1490.75 Q875.202 1492.88 874.391 1494.81 Q873.604 1496.7 871.498 1499.3 Q870.919 1499.97 867.817 1503.19 Q864.716 1506.38 859.067 1512.14 Z\" fill=\"#000000\" fill-rule=\"evenodd\" fill-opacity=\"1\" /><path clip-path=\"url(#clip8400)\" d=\"M 0 0 M890.456 1484.6 Q886.845 1484.6 885.016 1488.16 Q883.211 1491.7 883.211 1498.83 Q883.211 1505.94 885.016 1509.5 Q886.845 1513.05 890.456 1513.05 Q894.09 1513.05 895.896 1509.5 Q897.725 1505.94 897.725 1498.83 Q897.725 1491.7 895.896 1488.16 Q894.09 1484.6 890.456 1484.6 M890.456 1480.89 Q896.266 1480.89 899.322 1485.5 Q902.4 1490.08 902.4 1498.83 Q902.4 1507.56 899.322 1512.17 Q896.266 1516.75 890.456 1516.75 Q884.646 1516.75 881.567 1512.17 Q878.512 1507.56 878.512 1498.83 Q878.512 1490.08 881.567 1485.5 Q884.646 1480.89 890.456 1480.89 Z\" fill=\"#000000\" fill-rule=\"evenodd\" fill-opacity=\"1\" /><path clip-path=\"url(#clip8400)\" d=\"M 0 0 M974.3 1515.36 L974.3 1511.1 Q976.059 1511.94 977.865 1512.38 Q979.67 1512.81 981.406 1512.81 Q986.036 1512.81 988.466 1509.71 Q990.92 1506.59 991.267 1500.25 Q989.925 1502.24 987.865 1503.3 Q985.804 1504.37 983.304 1504.37 Q978.119 1504.37 975.087 1501.24 Q972.078 1498.09 972.078 1492.65 Q972.078 1487.33 975.226 1484.11 Q978.374 1480.89 983.605 1480.89 Q989.601 1480.89 992.749 1485.5 Q995.92 1490.08 995.92 1498.83 Q995.92 1507 992.031 1511.89 Q988.165 1516.75 981.615 1516.75 Q979.855 1516.75 978.05 1516.4 Q976.244 1516.06 974.3 1515.36 M983.605 1500.71 Q986.753 1500.71 988.582 1498.56 Q990.434 1496.4 990.434 1492.65 Q990.434 1488.93 988.582 1486.77 Q986.753 1484.6 983.605 1484.6 Q980.457 1484.6 978.605 1486.77 Q976.777 1488.93 976.777 1492.65 Q976.777 1496.4 978.605 1498.56 Q980.457 1500.71 983.605 1500.71 Z\" fill=\"#000000\" fill-rule=\"evenodd\" fill-opacity=\"1\" /><path clip-path=\"url(#clip8400)\" d=\"M 0 0 M1007.96 1481.52 L1011.89 1481.52 L999.855 1520.48 L995.92 1520.48 L1007.96 1481.52 Z\" fill=\"#000000\" fill-rule=\"evenodd\" fill-opacity=\"1\" /><path clip-path=\"url(#clip8400)\" d=\"M 0 0 M1017.77 1512.14 L1025.41 1512.14 L1025.41 1485.78 L1017.1 1487.44 L1017.1 1483.19 L1025.36 1481.52 L1030.04 1481.52 L1030.04 1512.14 L1037.68 1512.14 L1037.68 1516.08 L1017.77 1516.08 L1017.77 1512.14 Z\" fill=\"#000000\" fill-rule=\"evenodd\" fill-opacity=\"1\" /><path clip-path=\"url(#clip8400)\" d=\"M 0 0 M1041.57 1481.52 L1063.79 1481.52 L1063.79 1483.51 L1051.24 1516.08 L1046.36 1516.08 L1058.17 1485.45 L1041.57 1485.45 L1041.57 1481.52 Z\" fill=\"#000000\" fill-rule=\"evenodd\" fill-opacity=\"1\" /><path clip-path=\"url(#clip8400)\" d=\"M 0 0 M1075.83 1481.52 L1079.76 1481.52 L1067.73 1520.48 L1063.79 1520.48 L1075.83 1481.52 Z\" fill=\"#000000\" fill-rule=\"evenodd\" fill-opacity=\"1\" /><path clip-path=\"url(#clip8400)\" d=\"M 0 0 M1088.86 1512.14 L1105.18 1512.14 L1105.18 1516.08 L1083.23 1516.08 L1083.23 1512.14 Q1085.9 1509.39 1090.48 1504.76 Q1095.09 1500.11 1096.27 1498.76 Q1098.51 1496.24 1099.39 1494.5 Q1100.29 1492.75 1100.29 1491.06 Q1100.29 1488.3 1098.35 1486.57 Q1096.43 1484.83 1093.33 1484.83 Q1091.13 1484.83 1088.67 1485.59 Q1086.24 1486.36 1083.47 1487.91 L1083.47 1483.19 Q1086.29 1482.05 1088.74 1481.47 Q1091.2 1480.89 1093.23 1480.89 Q1098.6 1480.89 1101.8 1483.58 Q1104.99 1486.26 1104.99 1490.75 Q1104.99 1492.88 1104.18 1494.81 Q1103.4 1496.7 1101.29 1499.3 Q1100.71 1499.97 1097.61 1503.19 Q1094.51 1506.38 1088.86 1512.14 Z\" fill=\"#000000\" fill-rule=\"evenodd\" fill-opacity=\"1\" /><path clip-path=\"url(#clip8400)\" d=\"M 0 0 M1120.25 1484.6 Q1116.64 1484.6 1114.81 1488.16 Q1113 1491.7 1113 1498.83 Q1113 1505.94 1114.81 1509.5 Q1116.64 1513.05 1120.25 1513.05 Q1123.88 1513.05 1125.69 1509.5 Q1127.52 1505.94 1127.52 1498.83 Q1127.52 1491.7 1125.69 1488.16 Q1123.88 1484.6 1120.25 1484.6 M1120.25 1480.89 Q1126.06 1480.89 1129.11 1485.5 Q1132.19 1490.08 1132.19 1498.83 Q1132.19 1507.56 1129.11 1512.17 Q1126.06 1516.75 1120.25 1516.75 Q1114.44 1516.75 1111.36 1512.17 Q1108.3 1507.56 1108.3 1498.83 Q1108.3 1490.08 1111.36 1485.5 Q1114.44 1480.89 1120.25 1480.89 Z\" fill=\"#000000\" fill-rule=\"evenodd\" fill-opacity=\"1\" /><path clip-path=\"url(#clip8400)\" d=\"M 0 0 M1241.69 1515.36 L1241.69 1511.1 Q1243.45 1511.94 1245.26 1512.38 Q1247.06 1512.81 1248.8 1512.81 Q1253.43 1512.81 1255.86 1509.71 Q1258.31 1506.59 1258.66 1500.25 Q1257.32 1502.24 1255.26 1503.3 Q1253.2 1504.37 1250.7 1504.37 Q1245.51 1504.37 1242.48 1501.24 Q1239.47 1498.09 1239.47 1492.65 Q1239.47 1487.33 1242.62 1484.11 Q1245.77 1480.89 1251 1480.89 Q1256.99 1480.89 1260.14 1485.5 Q1263.31 1490.08 1263.31 1498.83 Q1263.31 1507 1259.42 1511.89 Q1255.56 1516.75 1249.01 1516.75 Q1247.25 1516.75 1245.44 1516.4 Q1243.64 1516.06 1241.69 1515.36 M1251 1500.71 Q1254.15 1500.71 1255.97 1498.56 Q1257.83 1496.4 1257.83 1492.65 Q1257.83 1488.93 1255.97 1486.77 Q1254.15 1484.6 1251 1484.6 Q1247.85 1484.6 1246 1486.77 Q1244.17 1488.93 1244.17 1492.65 Q1244.17 1496.4 1246 1498.56 Q1247.85 1500.71 1251 1500.71 Z\" fill=\"#000000\" fill-rule=\"evenodd\" fill-opacity=\"1\" /><path clip-path=\"url(#clip8400)\" d=\"M 0 0 M1275.35 1481.52 L1279.28 1481.52 L1267.25 1520.48 L1263.31 1520.48 L1275.35 1481.52 Z\" fill=\"#000000\" fill-rule=\"evenodd\" fill-opacity=\"1\" /><path clip-path=\"url(#clip8400)\" d=\"M 0 0 M1288.38 1512.14 L1304.7 1512.14 L1304.7 1516.08 L1282.76 1516.08 L1282.76 1512.14 Q1285.42 1509.39 1290 1504.76 Q1294.61 1500.11 1295.79 1498.76 Q1298.03 1496.24 1298.91 1494.5 Q1299.82 1492.75 1299.82 1491.06 Q1299.82 1488.3 1297.87 1486.57 Q1295.95 1484.83 1292.85 1484.83 Q1290.65 1484.83 1288.2 1485.59 Q1285.77 1486.36 1282.99 1487.91 L1282.99 1483.19 Q1285.81 1482.05 1288.27 1481.47 Q1290.72 1480.89 1292.76 1480.89 Q1298.13 1480.89 1301.32 1483.58 Q1304.52 1486.26 1304.52 1490.75 Q1304.52 1492.88 1303.71 1494.81 Q1302.92 1496.7 1300.81 1499.3 Q1300.23 1499.97 1297.13 1503.19 Q1294.03 1506.38 1288.38 1512.14 Z\" fill=\"#000000\" fill-rule=\"evenodd\" fill-opacity=\"1\" /><path clip-path=\"url(#clip8400)\" d=\"M 0 0 M1322.62 1485.59 L1310.81 1504.04 L1322.62 1504.04 L1322.62 1485.59 M1321.39 1481.52 L1327.27 1481.52 L1327.27 1504.04 L1332.2 1504.04 L1332.2 1507.93 L1327.27 1507.93 L1327.27 1516.08 L1322.62 1516.08 L1322.62 1507.93 L1307.02 1507.93 L1307.02 1503.42 L1321.39 1481.52 Z\" fill=\"#000000\" fill-rule=\"evenodd\" fill-opacity=\"1\" /><path clip-path=\"url(#clip8400)\" d=\"M 0 0 M1344.24 1481.52 L1348.17 1481.52 L1336.14 1520.48 L1332.2 1520.48 L1344.24 1481.52 Z\" fill=\"#000000\" fill-rule=\"evenodd\" fill-opacity=\"1\" /><path clip-path=\"url(#clip8400)\" d=\"M 0 0 M1357.27 1512.14 L1373.59 1512.14 L1373.59 1516.08 L1351.65 1516.08 L1351.65 1512.14 Q1354.31 1509.39 1358.89 1504.76 Q1363.5 1500.11 1364.68 1498.76 Q1366.92 1496.24 1367.8 1494.5 Q1368.71 1492.75 1368.71 1491.06 Q1368.71 1488.3 1366.76 1486.57 Q1364.84 1484.83 1361.74 1484.83 Q1359.54 1484.83 1357.08 1485.59 Q1354.65 1486.36 1351.88 1487.91 L1351.88 1483.19 Q1354.7 1482.05 1357.15 1481.47 Q1359.61 1480.89 1361.65 1480.89 Q1367.02 1480.89 1370.21 1483.58 Q1373.4 1486.26 1373.4 1490.75 Q1373.4 1492.88 1372.59 1494.81 Q1371.81 1496.7 1369.7 1499.3 Q1369.12 1499.97 1366.02 1503.19 Q1362.92 1506.38 1357.27 1512.14 Z\" fill=\"#000000\" fill-rule=\"evenodd\" fill-opacity=\"1\" /><path clip-path=\"url(#clip8400)\" d=\"M 0 0 M1388.66 1484.6 Q1385.05 1484.6 1383.22 1488.16 Q1381.41 1491.7 1381.41 1498.83 Q1381.41 1505.94 1383.22 1509.5 Q1385.05 1513.05 1388.66 1513.05 Q1392.29 1513.05 1394.1 1509.5 Q1395.93 1505.94 1395.93 1498.83 Q1395.93 1491.7 1394.1 1488.16 Q1392.29 1484.6 1388.66 1484.6 M1388.66 1480.89 Q1394.47 1480.89 1397.52 1485.5 Q1400.6 1490.08 1400.6 1498.83 Q1400.6 1507.56 1397.52 1512.17 Q1394.47 1516.75 1388.66 1516.75 Q1382.85 1516.75 1379.77 1512.17 Q1376.71 1507.56 1376.71 1498.83 Q1376.71 1490.08 1379.77 1485.5 Q1382.85 1480.89 1388.66 1480.89 Z\" fill=\"#000000\" fill-rule=\"evenodd\" fill-opacity=\"1\" /><path clip-path=\"url(#clip8400)\" d=\"M 0 0 M1471.09 1515.36 L1471.09 1511.1 Q1472.85 1511.94 1474.66 1512.38 Q1476.46 1512.81 1478.2 1512.81 Q1482.83 1512.81 1485.26 1509.71 Q1487.71 1506.59 1488.06 1500.25 Q1486.72 1502.24 1484.66 1503.3 Q1482.6 1504.37 1480.1 1504.37 Q1474.91 1504.37 1471.88 1501.24 Q1468.87 1498.09 1468.87 1492.65 Q1468.87 1487.33 1472.02 1484.11 Q1475.16 1480.89 1480.4 1480.89 Q1486.39 1480.89 1489.54 1485.5 Q1492.71 1490.08 1492.71 1498.83 Q1492.71 1507 1488.82 1511.89 Q1484.96 1516.75 1478.41 1516.75 Q1476.65 1516.75 1474.84 1516.4 Q1473.03 1516.06 1471.09 1515.36 M1480.4 1500.71 Q1483.54 1500.71 1485.37 1498.56 Q1487.22 1496.4 1487.22 1492.65 Q1487.22 1488.93 1485.37 1486.77 Q1483.54 1484.6 1480.4 1484.6 Q1477.25 1484.6 1475.4 1486.77 Q1473.57 1488.93 1473.57 1492.65 Q1473.57 1496.4 1475.4 1498.56 Q1477.25 1500.71 1480.4 1500.71 Z\" fill=\"#000000\" fill-rule=\"evenodd\" fill-opacity=\"1\" /><path clip-path=\"url(#clip8400)\" d=\"M 0 0 M1504.75 1481.52 L1508.68 1481.52 L1496.65 1520.48 L1492.71 1520.48 L1504.75 1481.52 Z\" fill=\"#000000\" fill-rule=\"evenodd\" fill-opacity=\"1\" /><path clip-path=\"url(#clip8400)\" d=\"M 0 0 M1527.92 1497.44 Q1531.28 1498.16 1533.15 1500.43 Q1535.05 1502.7 1535.05 1506.03 Q1535.05 1511.15 1531.53 1513.95 Q1528.01 1516.75 1521.53 1516.75 Q1519.35 1516.75 1517.04 1516.31 Q1514.75 1515.89 1512.29 1515.04 L1512.29 1510.52 Q1514.24 1511.66 1516.55 1512.24 Q1518.87 1512.81 1521.39 1512.81 Q1525.79 1512.81 1528.08 1511.08 Q1530.4 1509.34 1530.4 1506.03 Q1530.4 1502.98 1528.24 1501.26 Q1526.11 1499.53 1522.29 1499.53 L1518.27 1499.53 L1518.27 1495.69 L1522.48 1495.69 Q1525.93 1495.69 1527.76 1494.32 Q1529.59 1492.93 1529.59 1490.34 Q1529.59 1487.68 1527.69 1486.26 Q1525.81 1484.83 1522.29 1484.83 Q1520.37 1484.83 1518.17 1485.25 Q1515.97 1485.66 1513.34 1486.54 L1513.34 1482.38 Q1516 1481.63 1518.31 1481.26 Q1520.65 1480.89 1522.71 1480.89 Q1528.03 1480.89 1531.14 1483.32 Q1534.24 1485.73 1534.24 1489.85 Q1534.24 1492.72 1532.59 1494.71 Q1530.95 1496.68 1527.92 1497.44 Z\" fill=\"#000000\" fill-rule=\"evenodd\" fill-opacity=\"1\" /><path clip-path=\"url(#clip8400)\" d=\"M 0 0 M1550.12 1484.6 Q1546.51 1484.6 1544.68 1488.16 Q1542.87 1491.7 1542.87 1498.83 Q1542.87 1505.94 1544.68 1509.5 Q1546.51 1513.05 1550.12 1513.05 Q1553.75 1513.05 1555.56 1509.5 Q1557.39 1505.94 1557.39 1498.83 Q1557.39 1491.7 1555.56 1488.16 Q1553.75 1484.6 1550.12 1484.6 M1550.12 1480.89 Q1555.93 1480.89 1558.98 1485.5 Q1562.06 1490.08 1562.06 1498.83 Q1562.06 1507.56 1558.98 1512.17 Q1555.93 1516.75 1550.12 1516.75 Q1544.31 1516.75 1541.23 1512.17 Q1538.17 1507.56 1538.17 1498.83 Q1538.17 1490.08 1541.23 1485.5 Q1544.31 1480.89 1550.12 1480.89 Z\" fill=\"#000000\" fill-rule=\"evenodd\" fill-opacity=\"1\" /><path clip-path=\"url(#clip8400)\" d=\"M 0 0 M1574.1 1481.52 L1578.03 1481.52 L1566 1520.48 L1562.06 1520.48 L1574.1 1481.52 Z\" fill=\"#000000\" fill-rule=\"evenodd\" fill-opacity=\"1\" /><path clip-path=\"url(#clip8400)\" d=\"M 0 0 M1587.13 1512.14 L1603.45 1512.14 L1603.45 1516.08 L1581.51 1516.08 L1581.51 1512.14 Q1584.17 1509.39 1588.75 1504.76 Q1593.36 1500.11 1594.54 1498.76 Q1596.78 1496.24 1597.66 1494.5 Q1598.57 1492.75 1598.57 1491.06 Q1598.57 1488.3 1596.62 1486.57 Q1594.7 1484.83 1591.6 1484.83 Q1589.4 1484.83 1586.95 1485.59 Q1584.52 1486.36 1581.74 1487.91 L1581.74 1483.19 Q1584.56 1482.05 1587.02 1481.47 Q1589.47 1480.89 1591.51 1480.89 Q1596.88 1480.89 1600.07 1483.58 Q1603.27 1486.26 1603.27 1490.75 Q1603.27 1492.88 1602.46 1494.81 Q1601.67 1496.7 1599.56 1499.3 Q1598.98 1499.97 1595.88 1503.19 Q1592.78 1506.38 1587.13 1512.14 Z\" fill=\"#000000\" fill-rule=\"evenodd\" fill-opacity=\"1\" /><path clip-path=\"url(#clip8400)\" d=\"M 0 0 M1618.52 1484.6 Q1614.91 1484.6 1613.08 1488.16 Q1611.27 1491.7 1611.27 1498.83 Q1611.27 1505.94 1613.08 1509.5 Q1614.91 1513.05 1618.52 1513.05 Q1622.15 1513.05 1623.96 1509.5 Q1625.79 1505.94 1625.79 1498.83 Q1625.79 1491.7 1623.96 1488.16 Q1622.15 1484.6 1618.52 1484.6 M1618.52 1480.89 Q1624.33 1480.89 1627.39 1485.5 Q1630.46 1490.08 1630.46 1498.83 Q1630.46 1507.56 1627.39 1512.17 Q1624.33 1516.75 1618.52 1516.75 Q1612.71 1516.75 1609.63 1512.17 Q1606.58 1507.56 1606.58 1498.83 Q1606.58 1490.08 1609.63 1485.5 Q1612.71 1480.89 1618.52 1480.89 Z\" fill=\"#000000\" fill-rule=\"evenodd\" fill-opacity=\"1\" /><path clip-path=\"url(#clip8400)\" d=\"M 0 0 M1739.2 1512.14 L1746.84 1512.14 L1746.84 1485.78 L1738.53 1487.44 L1738.53 1483.19 L1746.79 1481.52 L1751.47 1481.52 L1751.47 1512.14 L1759.11 1512.14 L1759.11 1516.08 L1739.2 1516.08 L1739.2 1512.14 Z\" fill=\"#000000\" fill-rule=\"evenodd\" fill-opacity=\"1\" /><path clip-path=\"url(#clip8400)\" d=\"M 0 0 M1774.18 1484.6 Q1770.57 1484.6 1768.74 1488.16 Q1766.93 1491.7 1766.93 1498.83 Q1766.93 1505.94 1768.74 1509.5 Q1770.57 1513.05 1774.18 1513.05 Q1777.81 1513.05 1779.62 1509.5 Q1781.45 1505.94 1781.45 1498.83 Q1781.45 1491.7 1779.62 1488.16 Q1777.81 1484.6 1774.18 1484.6 M1774.18 1480.89 Q1779.99 1480.89 1783.04 1485.5 Q1786.12 1490.08 1786.12 1498.83 Q1786.12 1507.56 1783.04 1512.17 Q1779.99 1516.75 1774.18 1516.75 Q1768.37 1516.75 1765.29 1512.17 Q1762.23 1507.56 1762.23 1498.83 Q1762.23 1490.08 1765.29 1485.5 Q1768.37 1480.89 1774.18 1480.89 Z\" fill=\"#000000\" fill-rule=\"evenodd\" fill-opacity=\"1\" /><path clip-path=\"url(#clip8400)\" d=\"M 0 0 M1798.16 1481.52 L1802.09 1481.52 L1790.06 1520.48 L1786.12 1520.48 L1798.16 1481.52 Z\" fill=\"#000000\" fill-rule=\"evenodd\" fill-opacity=\"1\" /><path clip-path=\"url(#clip8400)\" d=\"M 0 0 M1805.98 1481.52 L1828.2 1481.52 L1828.2 1483.51 L1815.66 1516.08 L1810.77 1516.08 L1822.58 1485.45 L1805.98 1485.45 L1805.98 1481.52 Z\" fill=\"#000000\" fill-rule=\"evenodd\" fill-opacity=\"1\" /><path clip-path=\"url(#clip8400)\" d=\"M 0 0 M1840.24 1481.52 L1844.18 1481.52 L1832.14 1520.48 L1828.2 1520.48 L1840.24 1481.52 Z\" fill=\"#000000\" fill-rule=\"evenodd\" fill-opacity=\"1\" /><path clip-path=\"url(#clip8400)\" d=\"M 0 0 M1853.27 1512.14 L1869.59 1512.14 L1869.59 1516.08 L1847.65 1516.08 L1847.65 1512.14 Q1850.31 1509.39 1854.89 1504.76 Q1859.5 1500.11 1860.68 1498.76 Q1862.93 1496.24 1863.81 1494.5 Q1864.71 1492.75 1864.71 1491.06 Q1864.71 1488.3 1862.76 1486.57 Q1860.84 1484.83 1857.74 1484.83 Q1855.54 1484.83 1853.09 1485.59 Q1850.66 1486.36 1847.88 1487.91 L1847.88 1483.19 Q1850.7 1482.05 1853.16 1481.47 Q1855.61 1480.89 1857.65 1480.89 Q1863.02 1480.89 1866.21 1483.58 Q1869.41 1486.26 1869.41 1490.75 Q1869.41 1492.88 1868.6 1494.81 Q1867.81 1496.7 1865.7 1499.3 Q1865.13 1499.97 1862.02 1503.19 Q1858.92 1506.38 1853.27 1512.14 Z\" fill=\"#000000\" fill-rule=\"evenodd\" fill-opacity=\"1\" /><path clip-path=\"url(#clip8400)\" d=\"M 0 0 M1884.66 1484.6 Q1881.05 1484.6 1879.22 1488.16 Q1877.42 1491.7 1877.42 1498.83 Q1877.42 1505.94 1879.22 1509.5 Q1881.05 1513.05 1884.66 1513.05 Q1888.3 1513.05 1890.1 1509.5 Q1891.93 1505.94 1891.93 1498.83 Q1891.93 1491.7 1890.1 1488.16 Q1888.3 1484.6 1884.66 1484.6 M1884.66 1480.89 Q1890.47 1480.89 1893.53 1485.5 Q1896.61 1490.08 1896.61 1498.83 Q1896.61 1507.56 1893.53 1512.17 Q1890.47 1516.75 1884.66 1516.75 Q1878.85 1516.75 1875.77 1512.17 Q1872.72 1507.56 1872.72 1498.83 Q1872.72 1490.08 1875.77 1485.5 Q1878.85 1480.89 1884.66 1480.89 Z\" fill=\"#000000\" fill-rule=\"evenodd\" fill-opacity=\"1\" /><path clip-path=\"url(#clip8400)\" d=\"M 0 0 M1955.81 1512.14 L1963.45 1512.14 L1963.45 1485.78 L1955.14 1487.44 L1955.14 1483.19 L1963.4 1481.52 L1968.08 1481.52 L1968.08 1512.14 L1975.72 1512.14 L1975.72 1516.08 L1955.81 1516.08 L1955.81 1512.14 Z\" fill=\"#000000\" fill-rule=\"evenodd\" fill-opacity=\"1\" /><path clip-path=\"url(#clip8400)\" d=\"M 0 0 M1990.79 1484.6 Q1987.18 1484.6 1985.35 1488.16 Q1983.54 1491.7 1983.54 1498.83 Q1983.54 1505.94 1985.35 1509.5 Q1987.18 1513.05 1990.79 1513.05 Q1994.42 1513.05 1996.23 1509.5 Q1998.05 1505.94 1998.05 1498.83 Q1998.05 1491.7 1996.23 1488.16 Q1994.42 1484.6 1990.79 1484.6 M1990.79 1480.89 Q1996.6 1480.89 1999.65 1485.5 Q2002.73 1490.08 2002.73 1498.83 Q2002.73 1507.56 1999.65 1512.17 Q1996.6 1516.75 1990.79 1516.75 Q1984.98 1516.75 1981.9 1512.17 Q1978.84 1507.56 1978.84 1498.83 Q1978.84 1490.08 1981.9 1485.5 Q1984.98 1480.89 1990.79 1480.89 Z\" fill=\"#000000\" fill-rule=\"evenodd\" fill-opacity=\"1\" /><path clip-path=\"url(#clip8400)\" d=\"M 0 0 M2014.77 1481.52 L2018.7 1481.52 L2006.67 1520.48 L2002.73 1520.48 L2014.77 1481.52 Z\" fill=\"#000000\" fill-rule=\"evenodd\" fill-opacity=\"1\" /><path clip-path=\"url(#clip8400)\" d=\"M 0 0 M2024.58 1512.14 L2032.22 1512.14 L2032.22 1485.78 L2023.91 1487.44 L2023.91 1483.19 L2032.17 1481.52 L2036.85 1481.52 L2036.85 1512.14 L2044.49 1512.14 L2044.49 1516.08 L2024.58 1516.08 L2024.58 1512.14 Z\" fill=\"#000000\" fill-rule=\"evenodd\" fill-opacity=\"1\" /><path clip-path=\"url(#clip8400)\" d=\"M 0 0 M2063.73 1497.44 Q2067.08 1498.16 2068.96 1500.43 Q2070.86 1502.7 2070.86 1506.03 Q2070.86 1511.15 2067.34 1513.95 Q2063.82 1516.75 2057.34 1516.75 Q2055.16 1516.75 2052.85 1516.31 Q2050.55 1515.89 2048.1 1515.04 L2048.1 1510.52 Q2050.05 1511.66 2052.36 1512.24 Q2054.67 1512.81 2057.2 1512.81 Q2061.6 1512.81 2063.89 1511.08 Q2066.2 1509.34 2066.2 1506.03 Q2066.2 1502.98 2064.05 1501.26 Q2061.92 1499.53 2058.1 1499.53 L2054.07 1499.53 L2054.07 1495.69 L2058.29 1495.69 Q2061.73 1495.69 2063.56 1494.32 Q2065.39 1492.93 2065.39 1490.34 Q2065.39 1487.68 2063.49 1486.26 Q2061.62 1484.83 2058.1 1484.83 Q2056.18 1484.83 2053.98 1485.25 Q2051.78 1485.66 2049.14 1486.54 L2049.14 1482.38 Q2051.8 1481.63 2054.12 1481.26 Q2056.46 1480.89 2058.52 1480.89 Q2063.84 1480.89 2066.94 1483.32 Q2070.05 1485.73 2070.05 1489.85 Q2070.05 1492.72 2068.4 1494.71 Q2066.76 1496.68 2063.73 1497.44 Z\" fill=\"#000000\" fill-rule=\"evenodd\" fill-opacity=\"1\" /><path clip-path=\"url(#clip8400)\" d=\"M 0 0 M2082.89 1481.52 L2086.83 1481.52 L2074.79 1520.48 L2070.86 1520.48 L2082.89 1481.52 Z\" fill=\"#000000\" fill-rule=\"evenodd\" fill-opacity=\"1\" /><path clip-path=\"url(#clip8400)\" d=\"M 0 0 M2095.92 1512.14 L2112.24 1512.14 L2112.24 1516.08 L2090.3 1516.08 L2090.3 1512.14 Q2092.96 1509.39 2097.54 1504.76 Q2102.15 1500.11 2103.33 1498.76 Q2105.58 1496.24 2106.46 1494.5 Q2107.36 1492.75 2107.36 1491.06 Q2107.36 1488.3 2105.42 1486.57 Q2103.49 1484.83 2100.39 1484.83 Q2098.19 1484.83 2095.74 1485.59 Q2093.31 1486.36 2090.53 1487.91 L2090.53 1483.19 Q2093.36 1482.05 2095.81 1481.47 Q2098.26 1480.89 2100.3 1480.89 Q2105.67 1480.89 2108.86 1483.58 Q2112.06 1486.26 2112.06 1490.75 Q2112.06 1492.88 2111.25 1494.81 Q2110.46 1496.7 2108.36 1499.3 Q2107.78 1499.97 2104.67 1503.19 Q2101.57 1506.38 2095.92 1512.14 Z\" fill=\"#000000\" fill-rule=\"evenodd\" fill-opacity=\"1\" /><path clip-path=\"url(#clip8400)\" d=\"M 0 0 M2127.31 1484.6 Q2123.7 1484.6 2121.87 1488.16 Q2120.07 1491.7 2120.07 1498.83 Q2120.07 1505.94 2121.87 1509.5 Q2123.7 1513.05 2127.31 1513.05 Q2130.95 1513.05 2132.75 1509.5 Q2134.58 1505.94 2134.58 1498.83 Q2134.58 1491.7 2132.75 1488.16 Q2130.95 1484.6 2127.31 1484.6 M2127.31 1480.89 Q2133.12 1480.89 2136.18 1485.5 Q2139.26 1490.08 2139.26 1498.83 Q2139.26 1507.56 2136.18 1512.17 Q2133.12 1516.75 2127.31 1516.75 Q2121.5 1516.75 2118.42 1512.17 Q2115.37 1507.56 2115.37 1498.83 Q2115.37 1490.08 2118.42 1485.5 Q2121.5 1480.89 2127.31 1480.89 Z\" fill=\"#000000\" fill-rule=\"evenodd\" fill-opacity=\"1\" /><path clip-path=\"url(#clip8400)\" d=\"M 0 0 M2185.21 1512.14 L2192.85 1512.14 L2192.85 1485.78 L2184.54 1487.44 L2184.54 1483.19 L2192.8 1481.52 L2197.48 1481.52 L2197.48 1512.14 L2205.12 1512.14 L2205.12 1516.08 L2185.21 1516.08 L2185.21 1512.14 Z\" fill=\"#000000\" fill-rule=\"evenodd\" fill-opacity=\"1\" /><path clip-path=\"url(#clip8400)\" d=\"M 0 0 M2220.18 1484.6 Q2216.57 1484.6 2214.74 1488.16 Q2212.94 1491.7 2212.94 1498.83 Q2212.94 1505.94 2214.74 1509.5 Q2216.57 1513.05 2220.18 1513.05 Q2223.82 1513.05 2225.62 1509.5 Q2227.45 1505.94 2227.45 1498.83 Q2227.45 1491.7 2225.62 1488.16 Q2223.82 1484.6 2220.18 1484.6 M2220.18 1480.89 Q2225.99 1480.89 2229.05 1485.5 Q2232.13 1490.08 2232.13 1498.83 Q2232.13 1507.56 2229.05 1512.17 Q2225.99 1516.75 2220.18 1516.75 Q2214.37 1516.75 2211.3 1512.17 Q2208.24 1507.56 2208.24 1498.83 Q2208.24 1490.08 2211.3 1485.5 Q2214.37 1480.89 2220.18 1480.89 Z\" fill=\"#000000\" fill-rule=\"evenodd\" fill-opacity=\"1\" /><path clip-path=\"url(#clip8400)\" d=\"M 0 0 M2244.17 1481.52 L2248.1 1481.52 L2236.06 1520.48 L2232.13 1520.48 L2244.17 1481.52 Z\" fill=\"#000000\" fill-rule=\"evenodd\" fill-opacity=\"1\" /><path clip-path=\"url(#clip8400)\" d=\"M 0 0 M2253.98 1512.14 L2261.62 1512.14 L2261.62 1485.78 L2253.31 1487.44 L2253.31 1483.19 L2261.57 1481.52 L2266.25 1481.52 L2266.25 1512.14 L2273.89 1512.14 L2273.89 1516.08 L2253.98 1516.08 L2253.98 1512.14 Z\" fill=\"#000000\" fill-rule=\"evenodd\" fill-opacity=\"1\" /><path clip-path=\"url(#clip8400)\" d=\"M 0 0 M2279.1 1515.36 L2279.1 1511.1 Q2280.86 1511.94 2282.66 1512.38 Q2284.47 1512.81 2286.2 1512.81 Q2290.83 1512.81 2293.26 1509.71 Q2295.72 1506.59 2296.06 1500.25 Q2294.72 1502.24 2292.66 1503.3 Q2290.6 1504.37 2288.1 1504.37 Q2282.92 1504.37 2279.88 1501.24 Q2276.87 1498.09 2276.87 1492.65 Q2276.87 1487.33 2280.02 1484.11 Q2283.17 1480.89 2288.4 1480.89 Q2294.4 1480.89 2297.55 1485.5 Q2300.72 1490.08 2300.72 1498.83 Q2300.72 1507 2296.83 1511.89 Q2292.96 1516.75 2286.41 1516.75 Q2284.65 1516.75 2282.85 1516.4 Q2281.04 1516.06 2279.1 1515.36 M2288.4 1500.71 Q2291.55 1500.71 2293.38 1498.56 Q2295.23 1496.4 2295.23 1492.65 Q2295.23 1488.93 2293.38 1486.77 Q2291.55 1484.6 2288.4 1484.6 Q2285.25 1484.6 2283.4 1486.77 Q2281.57 1488.93 2281.57 1492.65 Q2281.57 1496.4 2283.4 1498.56 Q2285.25 1500.71 2288.4 1500.71 Z\" fill=\"#000000\" fill-rule=\"evenodd\" fill-opacity=\"1\" /><path clip-path=\"url(#clip8400)\" d=\"M 0 0 M2312.75 1481.52 L2316.69 1481.52 L2304.65 1520.48 L2300.72 1520.48 L2312.75 1481.52 Z\" fill=\"#000000\" fill-rule=\"evenodd\" fill-opacity=\"1\" /><path clip-path=\"url(#clip8400)\" d=\"M 0 0 M2325.79 1512.14 L2342.11 1512.14 L2342.11 1516.08 L2320.16 1516.08 L2320.16 1512.14 Q2322.82 1509.39 2327.41 1504.76 Q2332.01 1500.11 2333.19 1498.76 Q2335.44 1496.24 2336.32 1494.5 Q2337.22 1492.75 2337.22 1491.06 Q2337.22 1488.3 2335.28 1486.57 Q2333.36 1484.83 2330.25 1484.83 Q2328.05 1484.83 2325.6 1485.59 Q2323.17 1486.36 2320.39 1487.91 L2320.39 1483.19 Q2323.22 1482.05 2325.67 1481.47 Q2328.12 1480.89 2330.16 1480.89 Q2335.53 1480.89 2338.73 1483.58 Q2341.92 1486.26 2341.92 1490.75 Q2341.92 1492.88 2341.11 1494.81 Q2340.32 1496.7 2338.22 1499.3 Q2337.64 1499.97 2334.54 1503.19 Q2331.43 1506.38 2325.79 1512.14 Z\" fill=\"#000000\" fill-rule=\"evenodd\" fill-opacity=\"1\" /><path clip-path=\"url(#clip8400)\" d=\"M 0 0 M2357.17 1484.6 Q2353.56 1484.6 2351.73 1488.16 Q2349.93 1491.7 2349.93 1498.83 Q2349.93 1505.94 2351.73 1509.5 Q2353.56 1513.05 2357.17 1513.05 Q2360.81 1513.05 2362.61 1509.5 Q2364.44 1505.94 2364.44 1498.83 Q2364.44 1491.7 2362.61 1488.16 Q2360.81 1484.6 2357.17 1484.6 M2357.17 1480.89 Q2362.98 1480.89 2366.04 1485.5 Q2369.12 1490.08 2369.12 1498.83 Q2369.12 1507.56 2366.04 1512.17 Q2362.98 1516.75 2357.17 1516.75 Q2351.36 1516.75 2348.29 1512.17 Q2345.23 1507.56 2345.23 1498.83 Q2345.23 1490.08 2348.29 1485.5 Q2351.36 1480.89 2357.17 1480.89 Z\" fill=\"#000000\" fill-rule=\"evenodd\" fill-opacity=\"1\" /><path clip-path=\"url(#clip8400)\" d=\"M 0 0 M2453.12 1512.14 L2460.76 1512.14 L2460.76 1485.78 L2452.45 1487.44 L2452.45 1483.19 L2460.71 1481.52 L2465.39 1481.52 L2465.39 1512.14 L2473.03 1512.14 L2473.03 1516.08 L2453.12 1516.08 L2453.12 1512.14 Z\" fill=\"#000000\" fill-rule=\"evenodd\" fill-opacity=\"1\" /><path clip-path=\"url(#clip8400)\" d=\"M 0 0 M2488.1 1484.6 Q2484.49 1484.6 2482.66 1488.16 Q2480.85 1491.7 2480.85 1498.83 Q2480.85 1505.94 2482.66 1509.5 Q2484.49 1513.05 2488.1 1513.05 Q2491.73 1513.05 2493.54 1509.5 Q2495.37 1505.94 2495.37 1498.83 Q2495.37 1491.7 2493.54 1488.16 Q2491.73 1484.6 2488.1 1484.6 M2488.1 1480.89 Q2493.91 1480.89 2496.96 1485.5 Q2500.04 1490.08 2500.04 1498.83 Q2500.04 1507.56 2496.96 1512.17 Q2493.91 1516.75 2488.1 1516.75 Q2482.29 1516.75 2479.21 1512.17 Q2476.15 1507.56 2476.15 1498.83 Q2476.15 1490.08 2479.21 1485.5 Q2482.29 1480.89 2488.1 1480.89 Z\" fill=\"#000000\" fill-rule=\"evenodd\" fill-opacity=\"1\" /><path clip-path=\"url(#clip8400)\" d=\"M 0 0 M2512.08 1481.52 L2516.01 1481.52 L2503.98 1520.48 L2500.04 1520.48 L2512.08 1481.52 Z\" fill=\"#000000\" fill-rule=\"evenodd\" fill-opacity=\"1\" /><path clip-path=\"url(#clip8400)\" d=\"M 0 0 M2525.11 1512.14 L2541.43 1512.14 L2541.43 1516.08 L2519.49 1516.08 L2519.49 1512.14 Q2522.15 1509.39 2526.73 1504.76 Q2531.34 1500.11 2532.52 1498.76 Q2534.76 1496.24 2535.64 1494.5 Q2536.55 1492.75 2536.55 1491.06 Q2536.55 1488.3 2534.6 1486.57 Q2532.68 1484.83 2529.58 1484.83 Q2527.38 1484.83 2524.93 1485.59 Q2522.5 1486.36 2519.72 1487.91 L2519.72 1483.19 Q2522.54 1482.05 2525 1481.47 Q2527.45 1480.89 2529.49 1480.89 Q2534.86 1480.89 2538.05 1483.58 Q2541.25 1486.26 2541.25 1490.75 Q2541.25 1492.88 2540.44 1494.81 Q2539.65 1496.7 2537.54 1499.3 Q2536.96 1499.97 2533.86 1503.19 Q2530.76 1506.38 2525.11 1512.14 Z\" fill=\"#000000\" fill-rule=\"evenodd\" fill-opacity=\"1\" /><path clip-path=\"url(#clip8400)\" d=\"M 0 0 M2557.08 1496.94 Q2553.93 1496.94 2552.08 1499.09 Q2550.25 1501.24 2550.25 1504.99 Q2550.25 1508.72 2552.08 1510.89 Q2553.93 1513.05 2557.08 1513.05 Q2560.23 1513.05 2562.06 1510.89 Q2563.91 1508.72 2563.91 1504.99 Q2563.91 1501.24 2562.06 1499.09 Q2560.23 1496.94 2557.08 1496.94 M2566.36 1482.28 L2566.36 1486.54 Q2564.6 1485.71 2562.8 1485.27 Q2561.01 1484.83 2559.25 1484.83 Q2554.63 1484.83 2552.17 1487.95 Q2549.74 1491.08 2549.39 1497.4 Q2550.76 1495.38 2552.82 1494.32 Q2554.88 1493.23 2557.36 1493.23 Q2562.57 1493.23 2565.57 1496.4 Q2568.61 1499.55 2568.61 1504.99 Q2568.61 1510.31 2565.46 1513.53 Q2562.31 1516.75 2557.08 1516.75 Q2551.08 1516.75 2547.91 1512.17 Q2544.74 1507.56 2544.74 1498.83 Q2544.74 1490.64 2548.63 1485.78 Q2552.52 1480.89 2559.07 1480.89 Q2560.83 1480.89 2562.61 1481.24 Q2564.42 1481.59 2566.36 1482.28 Z\" fill=\"#000000\" fill-rule=\"evenodd\" fill-opacity=\"1\" /><path clip-path=\"url(#clip8400)\" d=\"M 0 0 M2580.64 1481.52 L2584.58 1481.52 L2572.54 1520.48 L2568.61 1520.48 L2580.64 1481.52 Z\" fill=\"#000000\" fill-rule=\"evenodd\" fill-opacity=\"1\" /><path clip-path=\"url(#clip8400)\" d=\"M 0 0 M2593.68 1512.14 L2610 1512.14 L2610 1516.08 L2588.05 1516.08 L2588.05 1512.14 Q2590.71 1509.39 2595.3 1504.76 Q2599.9 1500.11 2601.08 1498.76 Q2603.33 1496.24 2604.21 1494.5 Q2605.11 1492.75 2605.11 1491.06 Q2605.11 1488.3 2603.17 1486.57 Q2601.25 1484.83 2598.14 1484.83 Q2595.94 1484.83 2593.49 1485.59 Q2591.06 1486.36 2588.28 1487.91 L2588.28 1483.19 Q2591.11 1482.05 2593.56 1481.47 Q2596.01 1480.89 2598.05 1480.89 Q2603.42 1480.89 2606.62 1483.58 Q2609.81 1486.26 2609.81 1490.75 Q2609.81 1492.88 2609 1494.81 Q2608.21 1496.7 2606.11 1499.3 Q2605.53 1499.97 2602.43 1503.19 Q2599.32 1506.38 2593.68 1512.14 Z\" fill=\"#000000\" fill-rule=\"evenodd\" fill-opacity=\"1\" /><path clip-path=\"url(#clip8400)\" d=\"M 0 0 M2625.06 1484.6 Q2621.45 1484.6 2619.62 1488.16 Q2617.82 1491.7 2617.82 1498.83 Q2617.82 1505.94 2619.62 1509.5 Q2621.45 1513.05 2625.06 1513.05 Q2628.7 1513.05 2630.5 1509.5 Q2632.33 1505.94 2632.33 1498.83 Q2632.33 1491.7 2630.5 1488.16 Q2628.7 1484.6 2625.06 1484.6 M2625.06 1480.89 Q2630.87 1480.89 2633.93 1485.5 Q2637.01 1490.08 2637.01 1498.83 Q2637.01 1507.56 2633.93 1512.17 Q2630.87 1516.75 2625.06 1516.75 Q2619.25 1516.75 2616.18 1512.17 Q2613.12 1507.56 2613.12 1498.83 Q2613.12 1490.08 2616.18 1485.5 Q2619.25 1480.89 2625.06 1480.89 Z\" fill=\"#000000\" fill-rule=\"evenodd\" fill-opacity=\"1\" /><path clip-path=\"url(#clip8400)\" d=\"M 0 0 M2696.77 1512.14 L2704.41 1512.14 L2704.41 1485.78 L2696.1 1487.44 L2696.1 1483.19 L2704.36 1481.52 L2709.04 1481.52 L2709.04 1512.14 L2716.67 1512.14 L2716.67 1516.08 L2696.77 1516.08 L2696.77 1512.14 Z\" fill=\"#000000\" fill-rule=\"evenodd\" fill-opacity=\"1\" /><path clip-path=\"url(#clip8400)\" d=\"M 0 0 M2722.55 1512.14 L2730.19 1512.14 L2730.19 1485.78 L2721.88 1487.44 L2721.88 1483.19 L2730.15 1481.52 L2734.82 1481.52 L2734.82 1512.14 L2742.46 1512.14 L2742.46 1516.08 L2722.55 1516.08 L2722.55 1512.14 Z\" fill=\"#000000\" fill-rule=\"evenodd\" fill-opacity=\"1\" /><path clip-path=\"url(#clip8400)\" d=\"M 0 0 M2754.5 1481.52 L2758.43 1481.52 L2746.4 1520.48 L2742.46 1520.48 L2754.5 1481.52 Z\" fill=\"#000000\" fill-rule=\"evenodd\" fill-opacity=\"1\" /><path clip-path=\"url(#clip8400)\" d=\"M 0 0 M2764.31 1512.14 L2771.95 1512.14 L2771.95 1485.78 L2763.64 1487.44 L2763.64 1483.19 L2771.91 1481.52 L2776.58 1481.52 L2776.58 1512.14 L2784.22 1512.14 L2784.22 1516.08 L2764.31 1516.08 L2764.31 1512.14 Z\" fill=\"#000000\" fill-rule=\"evenodd\" fill-opacity=\"1\" /><path clip-path=\"url(#clip8400)\" d=\"M 0 0 M2796.26 1481.52 L2800.19 1481.52 L2788.16 1520.48 L2784.22 1520.48 L2796.26 1481.52 Z\" fill=\"#000000\" fill-rule=\"evenodd\" fill-opacity=\"1\" /><path clip-path=\"url(#clip8400)\" d=\"M 0 0 M2809.29 1512.14 L2825.61 1512.14 L2825.61 1516.08 L2803.66 1516.08 L2803.66 1512.14 Q2806.33 1509.39 2810.91 1504.76 Q2815.52 1500.11 2816.7 1498.76 Q2818.94 1496.24 2819.82 1494.5 Q2820.72 1492.75 2820.72 1491.06 Q2820.72 1488.3 2818.78 1486.57 Q2816.86 1484.83 2813.76 1484.83 Q2811.56 1484.83 2809.1 1485.59 Q2806.67 1486.36 2803.9 1487.91 L2803.9 1483.19 Q2806.72 1482.05 2809.17 1481.47 Q2811.63 1480.89 2813.66 1480.89 Q2819.04 1480.89 2822.23 1483.58 Q2825.42 1486.26 2825.42 1490.75 Q2825.42 1492.88 2824.61 1494.81 Q2823.83 1496.7 2821.72 1499.3 Q2821.14 1499.97 2818.04 1503.19 Q2814.94 1506.38 2809.29 1512.14 Z\" fill=\"#000000\" fill-rule=\"evenodd\" fill-opacity=\"1\" /><path clip-path=\"url(#clip8400)\" d=\"M 0 0 M2840.68 1484.6 Q2837.07 1484.6 2835.24 1488.16 Q2833.43 1491.7 2833.43 1498.83 Q2833.43 1505.94 2835.24 1509.5 Q2837.07 1513.05 2840.68 1513.05 Q2844.31 1513.05 2846.12 1509.5 Q2847.95 1505.94 2847.95 1498.83 Q2847.95 1491.7 2846.12 1488.16 Q2844.31 1484.6 2840.68 1484.6 M2840.68 1480.89 Q2846.49 1480.89 2849.54 1485.5 Q2852.62 1490.08 2852.62 1498.83 Q2852.62 1507.56 2849.54 1512.17 Q2846.49 1516.75 2840.68 1516.75 Q2834.87 1516.75 2831.79 1512.17 Q2828.73 1507.56 2828.73 1498.83 Q2828.73 1490.08 2831.79 1485.5 Q2834.87 1480.89 2840.68 1480.89 Z\" fill=\"#000000\" fill-rule=\"evenodd\" fill-opacity=\"1\" /><path clip-path=\"url(#clip8400)\" d=\"M 0 0 M2964.1 1512.14 L2971.74 1512.14 L2971.74 1485.78 L2963.43 1487.44 L2963.43 1483.19 L2971.69 1481.52 L2976.37 1481.52 L2976.37 1512.14 L2984.01 1512.14 L2984.01 1516.08 L2964.1 1516.08 L2964.1 1512.14 Z\" fill=\"#000000\" fill-rule=\"evenodd\" fill-opacity=\"1\" /><path clip-path=\"url(#clip8400)\" d=\"M 0 0 M2989.89 1512.14 L2997.53 1512.14 L2997.53 1485.78 L2989.22 1487.44 L2989.22 1483.19 L2997.48 1481.52 L3002.16 1481.52 L3002.16 1512.14 L3009.8 1512.14 L3009.8 1516.08 L2989.89 1516.08 L2989.89 1512.14 Z\" fill=\"#000000\" fill-rule=\"evenodd\" fill-opacity=\"1\" /><path clip-path=\"url(#clip8400)\" d=\"M 0 0 M3021.83 1481.52 L3025.77 1481.52 L3013.73 1520.48 L3009.8 1520.48 L3021.83 1481.52 Z\" fill=\"#000000\" fill-rule=\"evenodd\" fill-opacity=\"1\" /><path clip-path=\"url(#clip8400)\" d=\"M 0 0 M3040.84 1499.67 Q3037.5 1499.67 3035.58 1501.45 Q3033.68 1503.23 3033.68 1506.36 Q3033.68 1509.48 3035.58 1511.26 Q3037.5 1513.05 3040.84 1513.05 Q3044.17 1513.05 3046.09 1511.26 Q3048.01 1509.46 3048.01 1506.36 Q3048.01 1503.23 3046.09 1501.45 Q3044.19 1499.67 3040.84 1499.67 M3036.16 1497.68 Q3033.15 1496.94 3031.46 1494.88 Q3029.8 1492.82 3029.8 1489.85 Q3029.8 1485.71 3032.74 1483.3 Q3035.7 1480.89 3040.84 1480.89 Q3046 1480.89 3048.94 1483.3 Q3051.88 1485.71 3051.88 1489.85 Q3051.88 1492.82 3050.19 1494.88 Q3048.52 1496.94 3045.54 1497.68 Q3048.92 1498.46 3050.79 1500.75 Q3052.69 1503.05 3052.69 1506.36 Q3052.69 1511.38 3049.61 1514.06 Q3046.55 1516.75 3040.84 1516.75 Q3035.12 1516.75 3032.04 1514.06 Q3028.99 1511.38 3028.99 1506.36 Q3028.99 1503.05 3030.88 1500.75 Q3032.78 1498.46 3036.16 1497.68 M3034.45 1490.29 Q3034.45 1492.98 3036.12 1494.48 Q3037.81 1495.99 3040.84 1495.99 Q3043.85 1495.99 3045.54 1494.48 Q3047.25 1492.98 3047.25 1490.29 Q3047.25 1487.61 3045.54 1486.1 Q3043.85 1484.6 3040.84 1484.6 Q3037.81 1484.6 3036.12 1486.1 Q3034.45 1487.61 3034.45 1490.29 Z\" fill=\"#000000\" fill-rule=\"evenodd\" fill-opacity=\"1\" /><path clip-path=\"url(#clip8400)\" d=\"M 0 0 M3064.73 1481.52 L3068.66 1481.52 L3056.62 1520.48 L3052.69 1520.48 L3064.73 1481.52 Z\" fill=\"#000000\" fill-rule=\"evenodd\" fill-opacity=\"1\" /><path clip-path=\"url(#clip8400)\" d=\"M 0 0 M3077.76 1512.14 L3094.08 1512.14 L3094.08 1516.08 L3072.13 1516.08 L3072.13 1512.14 Q3074.8 1509.39 3079.38 1504.76 Q3083.99 1500.11 3085.17 1498.76 Q3087.41 1496.24 3088.29 1494.5 Q3089.19 1492.75 3089.19 1491.06 Q3089.19 1488.3 3087.25 1486.57 Q3085.33 1484.83 3082.23 1484.83 Q3080.03 1484.83 3077.57 1485.59 Q3075.14 1486.36 3072.37 1487.91 L3072.37 1483.19 Q3075.19 1482.05 3077.64 1481.47 Q3080.1 1480.89 3082.13 1480.89 Q3087.5 1480.89 3090.7 1483.58 Q3093.89 1486.26 3093.89 1490.75 Q3093.89 1492.88 3093.08 1494.81 Q3092.3 1496.7 3090.19 1499.3 Q3089.61 1499.97 3086.51 1503.19 Q3083.41 1506.38 3077.76 1512.14 Z\" fill=\"#000000\" fill-rule=\"evenodd\" fill-opacity=\"1\" /><path clip-path=\"url(#clip8400)\" d=\"M 0 0 M3109.15 1484.6 Q3105.54 1484.6 3103.71 1488.16 Q3101.9 1491.7 3101.9 1498.83 Q3101.9 1505.94 3103.71 1509.5 Q3105.54 1513.05 3109.15 1513.05 Q3112.78 1513.05 3114.59 1509.5 Q3116.42 1505.94 3116.42 1498.83 Q3116.42 1491.7 3114.59 1488.16 Q3112.78 1484.6 3109.15 1484.6 M3109.15 1480.89 Q3114.96 1480.89 3118.01 1485.5 Q3121.09 1490.08 3121.09 1498.83 Q3121.09 1507.56 3118.01 1512.17 Q3114.96 1516.75 3109.15 1516.75 Q3103.34 1516.75 3100.26 1512.17 Q3097.2 1507.56 3097.2 1498.83 Q3097.2 1490.08 3100.26 1485.5 Q3103.34 1480.89 3109.15 1480.89 Z\" fill=\"#000000\" fill-rule=\"evenodd\" fill-opacity=\"1\" /><path clip-path=\"url(#clip8400)\" d=\"M 0 0 M3180.55 1512.14 L3188.19 1512.14 L3188.19 1485.78 L3179.88 1487.44 L3179.88 1483.19 L3188.14 1481.52 L3192.82 1481.52 L3192.82 1512.14 L3200.46 1512.14 L3200.46 1516.08 L3180.55 1516.08 L3180.55 1512.14 Z\" fill=\"#000000\" fill-rule=\"evenodd\" fill-opacity=\"1\" /><path clip-path=\"url(#clip8400)\" d=\"M 0 0 M3206.34 1512.14 L3213.97 1512.14 L3213.97 1485.78 L3205.66 1487.44 L3205.66 1483.19 L3213.93 1481.52 L3218.6 1481.52 L3218.6 1512.14 L3226.24 1512.14 L3226.24 1516.08 L3206.34 1516.08 L3206.34 1512.14 Z\" fill=\"#000000\" fill-rule=\"evenodd\" fill-opacity=\"1\" /><path clip-path=\"url(#clip8400)\" d=\"M 0 0 M3238.28 1481.52 L3242.22 1481.52 L3230.18 1520.48 L3226.24 1520.48 L3238.28 1481.52 Z\" fill=\"#000000\" fill-rule=\"evenodd\" fill-opacity=\"1\" /><path clip-path=\"url(#clip8400)\" d=\"M 0 0 M3248.09 1512.14 L3255.73 1512.14 L3255.73 1485.78 L3247.42 1487.44 L3247.42 1483.19 L3255.69 1481.52 L3260.36 1481.52 L3260.36 1512.14 L3268 1512.14 L3268 1516.08 L3248.09 1516.08 L3248.09 1512.14 Z\" fill=\"#000000\" fill-rule=\"evenodd\" fill-opacity=\"1\" /><path clip-path=\"url(#clip8400)\" d=\"M 0 0 M3285.92 1485.59 L3274.11 1504.04 L3285.92 1504.04 L3285.92 1485.59 M3284.69 1481.52 L3290.57 1481.52 L3290.57 1504.04 L3295.5 1504.04 L3295.5 1507.93 L3290.57 1507.93 L3290.57 1516.08 L3285.92 1516.08 L3285.92 1507.93 L3270.32 1507.93 L3270.32 1503.42 L3284.69 1481.52 Z\" fill=\"#000000\" fill-rule=\"evenodd\" fill-opacity=\"1\" /><path clip-path=\"url(#clip8400)\" d=\"M 0 0 M3307.54 1481.52 L3311.47 1481.52 L3299.44 1520.48 L3295.5 1520.48 L3307.54 1481.52 Z\" fill=\"#000000\" fill-rule=\"evenodd\" fill-opacity=\"1\" /><path clip-path=\"url(#clip8400)\" d=\"M 0 0 M3320.57 1512.14 L3336.89 1512.14 L3336.89 1516.08 L3314.95 1516.08 L3314.95 1512.14 Q3317.61 1509.39 3322.19 1504.76 Q3326.8 1500.11 3327.98 1498.76 Q3330.22 1496.24 3331.1 1494.5 Q3332.01 1492.75 3332.01 1491.06 Q3332.01 1488.3 3330.06 1486.57 Q3328.14 1484.83 3325.04 1484.83 Q3322.84 1484.83 3320.39 1485.59 Q3317.96 1486.36 3315.18 1487.91 L3315.18 1483.19 Q3318 1482.05 3320.46 1481.47 Q3322.91 1480.89 3324.95 1480.89 Q3330.32 1480.89 3333.51 1483.58 Q3336.71 1486.26 3336.71 1490.75 Q3336.71 1492.88 3335.9 1494.81 Q3335.11 1496.7 3333 1499.3 Q3332.42 1499.97 3329.32 1503.19 Q3326.22 1506.38 3320.57 1512.14 Z\" fill=\"#000000\" fill-rule=\"evenodd\" fill-opacity=\"1\" /><path clip-path=\"url(#clip8400)\" d=\"M 0 0 M3351.96 1484.6 Q3348.35 1484.6 3346.52 1488.16 Q3344.71 1491.7 3344.71 1498.83 Q3344.71 1505.94 3346.52 1509.5 Q3348.35 1513.05 3351.96 1513.05 Q3355.59 1513.05 3357.4 1509.5 Q3359.23 1505.94 3359.23 1498.83 Q3359.23 1491.7 3357.4 1488.16 Q3355.59 1484.6 3351.96 1484.6 M3351.96 1480.89 Q3357.77 1480.89 3360.83 1485.5 Q3363.9 1490.08 3363.9 1498.83 Q3363.9 1507.56 3360.83 1512.17 Q3357.77 1516.75 3351.96 1516.75 Q3346.15 1516.75 3343.07 1512.17 Q3340.02 1507.56 3340.02 1498.83 Q3340.02 1490.08 3343.07 1485.5 Q3346.15 1480.89 3351.96 1480.89 Z\" fill=\"#000000\" fill-rule=\"evenodd\" fill-opacity=\"1\" /><path clip-path=\"url(#clip8400)\" d=\"M 0 0 M3449.49 1512.14 L3457.13 1512.14 L3457.13 1485.78 L3448.82 1487.44 L3448.82 1483.19 L3457.08 1481.52 L3461.76 1481.52 L3461.76 1512.14 L3469.4 1512.14 L3469.4 1516.08 L3449.49 1516.08 L3449.49 1512.14 Z\" fill=\"#000000\" fill-rule=\"evenodd\" fill-opacity=\"1\" /><path clip-path=\"url(#clip8400)\" d=\"M 0 0 M3475.28 1512.14 L3482.92 1512.14 L3482.92 1485.78 L3474.61 1487.44 L3474.61 1483.19 L3482.87 1481.52 L3487.55 1481.52 L3487.55 1512.14 L3495.19 1512.14 L3495.19 1516.08 L3475.28 1516.08 L3475.28 1512.14 Z\" fill=\"#000000\" fill-rule=\"evenodd\" fill-opacity=\"1\" /><path clip-path=\"url(#clip8400)\" d=\"M 0 0 M3507.22 1481.52 L3511.16 1481.52 L3499.12 1520.48 L3495.19 1520.48 L3507.22 1481.52 Z\" fill=\"#000000\" fill-rule=\"evenodd\" fill-opacity=\"1\" /><path clip-path=\"url(#clip8400)\" d=\"M 0 0 M3520.26 1512.14 L3536.57 1512.14 L3536.57 1516.08 L3514.63 1516.08 L3514.63 1512.14 Q3517.29 1509.39 3521.88 1504.76 Q3526.48 1500.11 3527.66 1498.76 Q3529.91 1496.24 3530.79 1494.5 Q3531.69 1492.75 3531.69 1491.06 Q3531.69 1488.3 3529.75 1486.57 Q3527.82 1484.83 3524.72 1484.83 Q3522.52 1484.83 3520.07 1485.59 Q3517.64 1486.36 3514.86 1487.91 L3514.86 1483.19 Q3517.69 1482.05 3520.14 1481.47 Q3522.59 1480.89 3524.63 1480.89 Q3530 1480.89 3533.2 1483.58 Q3536.39 1486.26 3536.39 1490.75 Q3536.39 1492.88 3535.58 1494.81 Q3534.79 1496.7 3532.69 1499.3 Q3532.11 1499.97 3529.01 1503.19 Q3525.9 1506.38 3520.26 1512.14 Z\" fill=\"#000000\" fill-rule=\"evenodd\" fill-opacity=\"1\" /><path clip-path=\"url(#clip8400)\" d=\"M 0 0 M3542.45 1512.14 L3550.09 1512.14 L3550.09 1485.78 L3541.78 1487.44 L3541.78 1483.19 L3550.05 1481.52 L3554.72 1481.52 L3554.72 1512.14 L3562.36 1512.14 L3562.36 1516.08 L3542.45 1516.08 L3542.45 1512.14 Z\" fill=\"#000000\" fill-rule=\"evenodd\" fill-opacity=\"1\" /><path clip-path=\"url(#clip8400)\" d=\"M 0 0 M3574.4 1481.52 L3578.33 1481.52 L3566.3 1520.48 L3562.36 1520.48 L3574.4 1481.52 Z\" fill=\"#000000\" fill-rule=\"evenodd\" fill-opacity=\"1\" /><path clip-path=\"url(#clip8400)\" d=\"M 0 0 M3587.43 1512.14 L3603.75 1512.14 L3603.75 1516.08 L3581.81 1516.08 L3581.81 1512.14 Q3584.47 1509.39 3589.05 1504.76 Q3593.66 1500.11 3594.84 1498.76 Q3597.08 1496.24 3597.96 1494.5 Q3598.87 1492.75 3598.87 1491.06 Q3598.87 1488.3 3596.92 1486.57 Q3595 1484.83 3591.9 1484.83 Q3589.7 1484.83 3587.25 1485.59 Q3584.82 1486.36 3582.04 1487.91 L3582.04 1483.19 Q3584.86 1482.05 3587.32 1481.47 Q3589.77 1480.89 3591.81 1480.89 Q3597.18 1480.89 3600.37 1483.58 Q3603.57 1486.26 3603.57 1490.75 Q3603.57 1492.88 3602.76 1494.81 Q3601.97 1496.7 3599.86 1499.3 Q3599.28 1499.97 3596.18 1503.19 Q3593.08 1506.38 3587.43 1512.14 Z\" fill=\"#000000\" fill-rule=\"evenodd\" fill-opacity=\"1\" /><path clip-path=\"url(#clip8400)\" d=\"M 0 0 M3618.82 1484.6 Q3615.21 1484.6 3613.38 1488.16 Q3611.57 1491.7 3611.57 1498.83 Q3611.57 1505.94 3613.38 1509.5 Q3615.21 1513.05 3618.82 1513.05 Q3622.45 1513.05 3624.26 1509.5 Q3626.09 1505.94 3626.09 1498.83 Q3626.09 1491.7 3624.26 1488.16 Q3622.45 1484.6 3618.82 1484.6 M3618.82 1480.89 Q3624.63 1480.89 3627.69 1485.5 Q3630.76 1490.08 3630.76 1498.83 Q3630.76 1507.56 3627.69 1512.17 Q3624.63 1516.75 3618.82 1516.75 Q3613.01 1516.75 3609.93 1512.17 Q3606.88 1507.56 3606.88 1498.83 Q3606.88 1490.08 3609.93 1485.5 Q3613.01 1480.89 3618.82 1480.89 Z\" fill=\"#000000\" fill-rule=\"evenodd\" fill-opacity=\"1\" /><path clip-path=\"url(#clip8400)\" d=\"M 0 0 M3678.96 1512.14 L3686.6 1512.14 L3686.6 1485.78 L3678.29 1487.44 L3678.29 1483.19 L3686.55 1481.52 L3691.23 1481.52 L3691.23 1512.14 L3698.87 1512.14 L3698.87 1516.08 L3678.96 1516.08 L3678.96 1512.14 Z\" fill=\"#000000\" fill-rule=\"evenodd\" fill-opacity=\"1\" /><path clip-path=\"url(#clip8400)\" d=\"M 0 0 M3704.75 1512.14 L3712.39 1512.14 L3712.39 1485.78 L3704.08 1487.44 L3704.08 1483.19 L3712.34 1481.52 L3717.02 1481.52 L3717.02 1512.14 L3724.65 1512.14 L3724.65 1516.08 L3704.75 1516.08 L3704.75 1512.14 Z\" fill=\"#000000\" fill-rule=\"evenodd\" fill-opacity=\"1\" /><path clip-path=\"url(#clip8400)\" d=\"M 0 0 M3736.69 1481.52 L3740.63 1481.52 L3728.59 1520.48 L3724.65 1520.48 L3736.69 1481.52 Z\" fill=\"#000000\" fill-rule=\"evenodd\" fill-opacity=\"1\" /><path clip-path=\"url(#clip8400)\" d=\"M 0 0 M3749.72 1512.14 L3766.04 1512.14 L3766.04 1516.08 L3744.1 1516.08 L3744.1 1512.14 Q3746.76 1509.39 3751.34 1504.76 Q3755.95 1500.11 3757.13 1498.76 Q3759.38 1496.24 3760.26 1494.5 Q3761.16 1492.75 3761.16 1491.06 Q3761.16 1488.3 3759.21 1486.57 Q3757.29 1484.83 3754.19 1484.83 Q3751.99 1484.83 3749.54 1485.59 Q3747.11 1486.36 3744.33 1487.91 L3744.33 1483.19 Q3747.15 1482.05 3749.61 1481.47 Q3752.06 1480.89 3754.1 1480.89 Q3759.47 1480.89 3762.66 1483.58 Q3765.86 1486.26 3765.86 1490.75 Q3765.86 1492.88 3765.05 1494.81 Q3764.26 1496.7 3762.15 1499.3 Q3761.58 1499.97 3758.47 1503.19 Q3755.37 1506.38 3749.72 1512.14 Z\" fill=\"#000000\" fill-rule=\"evenodd\" fill-opacity=\"1\" /><path clip-path=\"url(#clip8400)\" d=\"M 0 0 M3769.93 1481.52 L3792.15 1481.52 L3792.15 1483.51 L3779.61 1516.08 L3774.72 1516.08 L3786.53 1485.45 L3769.93 1485.45 L3769.93 1481.52 Z\" fill=\"#000000\" fill-rule=\"evenodd\" fill-opacity=\"1\" /><path clip-path=\"url(#clip8400)\" d=\"M 0 0 M3804.19 1481.52 L3808.13 1481.52 L3796.09 1520.48 L3792.15 1520.48 L3804.19 1481.52 Z\" fill=\"#000000\" fill-rule=\"evenodd\" fill-opacity=\"1\" /><path clip-path=\"url(#clip8400)\" d=\"M 0 0 M3817.22 1512.14 L3833.54 1512.14 L3833.54 1516.08 L3811.6 1516.08 L3811.6 1512.14 Q3814.26 1509.39 3818.84 1504.76 Q3823.45 1500.11 3824.63 1498.76 Q3826.88 1496.24 3827.76 1494.5 Q3828.66 1492.75 3828.66 1491.06 Q3828.66 1488.3 3826.71 1486.57 Q3824.79 1484.83 3821.69 1484.83 Q3819.49 1484.83 3817.04 1485.59 Q3814.61 1486.36 3811.83 1487.91 L3811.83 1483.19 Q3814.65 1482.05 3817.11 1481.47 Q3819.56 1480.89 3821.6 1480.89 Q3826.97 1480.89 3830.16 1483.58 Q3833.36 1486.26 3833.36 1490.75 Q3833.36 1492.88 3832.55 1494.81 Q3831.76 1496.7 3829.65 1499.3 Q3829.07 1499.97 3825.97 1503.19 Q3822.87 1506.38 3817.22 1512.14 Z\" fill=\"#000000\" fill-rule=\"evenodd\" fill-opacity=\"1\" /><path clip-path=\"url(#clip8400)\" d=\"M 0 0 M3848.61 1484.6 Q3845 1484.6 3843.17 1488.16 Q3841.37 1491.7 3841.37 1498.83 Q3841.37 1505.94 3843.17 1509.5 Q3845 1513.05 3848.61 1513.05 Q3852.25 1513.05 3854.05 1509.5 Q3855.88 1505.94 3855.88 1498.83 Q3855.88 1491.7 3854.05 1488.16 Q3852.25 1484.6 3848.61 1484.6 M3848.61 1480.89 Q3854.42 1480.89 3857.48 1485.5 Q3860.56 1490.08 3860.56 1498.83 Q3860.56 1507.56 3857.48 1512.17 Q3854.42 1516.75 3848.61 1516.75 Q3842.8 1516.75 3839.72 1512.17 Q3836.67 1507.56 3836.67 1498.83 Q3836.67 1490.08 3839.72 1485.5 Q3842.8 1480.89 3848.61 1480.89 Z\" fill=\"#000000\" fill-rule=\"evenodd\" fill-opacity=\"1\" /><path clip-path=\"url(#clip8400)\" d=\"M 0 0 M133.806 1251.22 L133.806 1246.96 Q135.565 1247.79 137.371 1248.23 Q139.176 1248.67 140.913 1248.67 Q145.542 1248.67 147.973 1245.57 Q150.426 1242.44 150.774 1236.1 Q149.431 1238.09 147.371 1239.16 Q145.311 1240.22 142.811 1240.22 Q137.626 1240.22 134.593 1237.1 Q131.584 1233.95 131.584 1228.51 Q131.584 1223.19 134.732 1219.97 Q137.88 1216.75 143.112 1216.75 Q149.107 1216.75 152.255 1221.36 Q155.426 1225.94 155.426 1234.69 Q155.426 1242.86 151.538 1247.75 Q147.672 1252.61 141.121 1252.61 Q139.362 1252.61 137.556 1252.26 Q135.751 1251.91 133.806 1251.22 M143.112 1236.56 Q146.26 1236.56 148.088 1234.41 Q149.94 1232.26 149.94 1228.51 Q149.94 1224.78 148.088 1222.63 Q146.26 1220.45 143.112 1220.45 Q139.963 1220.45 138.112 1222.63 Q136.283 1224.78 136.283 1228.51 Q136.283 1232.26 138.112 1234.41 Q139.963 1236.56 143.112 1236.56 Z\" fill=\"#000000\" fill-rule=\"evenodd\" fill-opacity=\"1\" /><path clip-path=\"url(#clip8400)\" d=\"M 0 0 M170.496 1220.45 Q166.885 1220.45 165.056 1224.02 Q163.25 1227.56 163.25 1234.69 Q163.25 1241.8 165.056 1245.36 Q166.885 1248.9 170.496 1248.9 Q174.13 1248.9 175.936 1245.36 Q177.764 1241.8 177.764 1234.69 Q177.764 1227.56 175.936 1224.02 Q174.13 1220.45 170.496 1220.45 M170.496 1216.75 Q176.306 1216.75 179.361 1221.36 Q182.44 1225.94 182.44 1234.69 Q182.44 1243.42 179.361 1248.02 Q176.306 1252.61 170.496 1252.61 Q164.686 1252.61 161.607 1248.02 Q158.551 1243.42 158.551 1234.69 Q158.551 1225.94 161.607 1221.36 Q164.686 1216.75 170.496 1216.75 Z\" fill=\"#000000\" fill-rule=\"evenodd\" fill-opacity=\"1\" /><path clip-path=\"url(#clip8400)\" d=\"M 0 0 M108.505 937.846 L116.144 937.846 L116.144 911.481 L107.834 913.147 L107.834 908.888 L116.098 907.221 L120.774 907.221 L120.774 937.846 L128.413 937.846 L128.413 941.781 L108.505 941.781 L108.505 937.846 Z\" fill=\"#000000\" fill-rule=\"evenodd\" fill-opacity=\"1\" /><path clip-path=\"url(#clip8400)\" d=\"M 0 0 M143.482 910.3 Q139.871 910.3 138.042 913.865 Q136.237 917.406 136.237 924.536 Q136.237 931.643 138.042 935.207 Q139.871 938.749 143.482 938.749 Q147.116 938.749 148.922 935.207 Q150.75 931.643 150.75 924.536 Q150.75 917.406 148.922 913.865 Q147.116 910.3 143.482 910.3 M143.482 906.596 Q149.292 906.596 152.348 911.203 Q155.426 915.786 155.426 924.536 Q155.426 933.263 152.348 937.869 Q149.292 942.453 143.482 942.453 Q137.672 942.453 134.593 937.869 Q131.538 933.263 131.538 924.536 Q131.538 915.786 134.593 911.203 Q137.672 906.596 143.482 906.596 Z\" fill=\"#000000\" fill-rule=\"evenodd\" fill-opacity=\"1\" /><path clip-path=\"url(#clip8400)\" d=\"M 0 0 M170.496 910.3 Q166.885 910.3 165.056 913.865 Q163.25 917.406 163.25 924.536 Q163.25 931.643 165.056 935.207 Q166.885 938.749 170.496 938.749 Q174.13 938.749 175.936 935.207 Q177.764 931.643 177.764 924.536 Q177.764 917.406 175.936 913.865 Q174.13 910.3 170.496 910.3 M170.496 906.596 Q176.306 906.596 179.361 911.203 Q182.44 915.786 182.44 924.536 Q182.44 933.263 179.361 937.869 Q176.306 942.453 170.496 942.453 Q164.686 942.453 161.607 937.869 Q158.551 933.263 158.551 924.536 Q158.551 915.786 161.607 911.203 Q164.686 906.596 170.496 906.596 Z\" fill=\"#000000\" fill-rule=\"evenodd\" fill-opacity=\"1\" /><path clip-path=\"url(#clip8400)\" d=\"M 0 0 M109.732 627.693 L117.371 627.693 L117.371 601.327 L109.061 602.994 L109.061 598.734 L117.325 597.068 L122.001 597.068 L122.001 627.693 L129.639 627.693 L129.639 631.628 L109.732 631.628 L109.732 627.693 Z\" fill=\"#000000\" fill-rule=\"evenodd\" fill-opacity=\"1\" /><path clip-path=\"url(#clip8400)\" d=\"M 0 0 M135.519 627.693 L143.158 627.693 L143.158 601.327 L134.848 602.994 L134.848 598.734 L143.112 597.068 L147.788 597.068 L147.788 627.693 L155.426 627.693 L155.426 631.628 L135.519 631.628 L135.519 627.693 Z\" fill=\"#000000\" fill-rule=\"evenodd\" fill-opacity=\"1\" /><path clip-path=\"url(#clip8400)\" d=\"M 0 0 M170.496 600.146 Q166.885 600.146 165.056 603.711 Q163.25 607.253 163.25 614.382 Q163.25 621.489 165.056 625.054 Q166.885 628.595 170.496 628.595 Q174.13 628.595 175.936 625.054 Q177.764 621.489 177.764 614.382 Q177.764 607.253 175.936 603.711 Q174.13 600.146 170.496 600.146 M170.496 596.443 Q176.306 596.443 179.361 601.049 Q182.44 605.632 182.44 614.382 Q182.44 623.109 179.361 627.716 Q176.306 632.299 170.496 632.299 Q164.686 632.299 161.607 627.716 Q158.551 623.109 158.551 614.382 Q158.551 605.632 161.607 601.049 Q164.686 596.443 170.496 596.443 Z\" fill=\"#000000\" fill-rule=\"evenodd\" fill-opacity=\"1\" /><path clip-path=\"url(#clip8400)\" d=\"M 0 0 M110.103 317.539 L117.741 317.539 L117.741 291.173 L109.431 292.84 L109.431 288.581 L117.695 286.914 L122.371 286.914 L122.371 317.539 L130.01 317.539 L130.01 321.474 L110.103 321.474 L110.103 317.539 Z\" fill=\"#000000\" fill-rule=\"evenodd\" fill-opacity=\"1\" /><path clip-path=\"url(#clip8400)\" d=\"M 0 0 M139.107 317.539 L155.426 317.539 L155.426 321.474 L133.482 321.474 L133.482 317.539 Q136.144 314.784 140.727 310.155 Q145.334 305.502 146.514 304.159 Q148.76 301.636 149.639 299.9 Q150.542 298.141 150.542 296.451 Q150.542 293.696 148.598 291.96 Q146.676 290.224 143.575 290.224 Q141.376 290.224 138.922 290.988 Q136.491 291.752 133.714 293.303 L133.714 288.581 Q136.538 287.446 138.991 286.868 Q141.445 286.289 143.482 286.289 Q148.852 286.289 152.047 288.974 Q155.241 291.659 155.241 296.15 Q155.241 298.28 154.431 300.201 Q153.644 302.099 151.538 304.692 Q150.959 305.363 147.857 308.581 Q144.755 311.775 139.107 317.539 Z\" fill=\"#000000\" fill-rule=\"evenodd\" fill-opacity=\"1\" /><path clip-path=\"url(#clip8400)\" d=\"M 0 0 M170.496 289.993 Q166.885 289.993 165.056 293.557 Q163.25 297.099 163.25 304.229 Q163.25 311.335 165.056 314.9 Q166.885 318.442 170.496 318.442 Q174.13 318.442 175.936 314.9 Q177.764 311.335 177.764 304.229 Q177.764 297.099 175.936 293.557 Q174.13 289.993 170.496 289.993 M170.496 286.289 Q176.306 286.289 179.361 290.895 Q182.44 295.479 182.44 304.229 Q182.44 312.956 179.361 317.562 Q176.306 322.145 170.496 322.145 Q164.686 322.145 161.607 317.562 Q158.551 312.956 158.551 304.229 Q158.551 295.479 161.607 290.895 Q164.686 286.289 170.496 286.289 Z\" fill=\"#000000\" fill-rule=\"evenodd\" fill-opacity=\"1\" /><path clip-path=\"url(#clip8400)\" d=\"M 0 0 M1992.96 1557.3 L1992.96 1567.42 L2005.03 1567.42 L2005.03 1571.97 L1992.96 1571.97 L1992.96 1591.33 Q1992.96 1595.69 1994.14 1596.93 Q1995.35 1598.17 1999.01 1598.17 L2005.03 1598.17 L2005.03 1603.07 L1999.01 1603.07 Q1992.23 1603.07 1989.65 1600.56 Q1987.07 1598.01 1987.07 1591.33 L1987.07 1571.97 L1982.78 1571.97 L1982.78 1567.42 L1987.07 1567.42 L1987.07 1557.3 L1992.96 1557.3 Z\" fill=\"#000000\" fill-rule=\"evenodd\" fill-opacity=\"1\" /><path clip-path=\"url(#clip8400)\" d=\"M 0 0 M2011.17 1567.42 L2017.02 1567.42 L2017.02 1603.07 L2011.17 1603.07 L2011.17 1567.42 M2011.17 1553.55 L2017.02 1553.55 L2017.02 1560.96 L2011.17 1560.96 L2011.17 1553.55 Z\" fill=\"#000000\" fill-rule=\"evenodd\" fill-opacity=\"1\" /><path clip-path=\"url(#clip8400)\" d=\"M 0 0 M2050.92 1574.27 Q2053.12 1570.32 2056.17 1568.44 Q2059.23 1566.56 2063.37 1566.56 Q2068.94 1566.56 2071.96 1570.48 Q2074.98 1574.36 2074.98 1581.55 L2074.98 1603.07 L2069.1 1603.07 L2069.1 1581.75 Q2069.1 1576.62 2067.28 1574.14 Q2065.47 1571.66 2061.74 1571.66 Q2057.19 1571.66 2054.55 1574.68 Q2051.91 1577.7 2051.91 1582.92 L2051.91 1603.07 L2046.02 1603.07 L2046.02 1581.75 Q2046.02 1576.59 2044.21 1574.14 Q2042.39 1571.66 2038.6 1571.66 Q2034.12 1571.66 2031.47 1574.71 Q2028.83 1577.74 2028.83 1582.92 L2028.83 1603.07 L2022.94 1603.07 L2022.94 1567.42 L2028.83 1567.42 L2028.83 1572.96 Q2030.84 1569.68 2033.64 1568.12 Q2036.44 1566.56 2040.29 1566.56 Q2044.17 1566.56 2046.88 1568.54 Q2049.62 1570.51 2050.92 1574.27 Z\" fill=\"#000000\" fill-rule=\"evenodd\" fill-opacity=\"1\" /><path clip-path=\"url(#clip8400)\" d=\"M 0 0 M2111.62 1583.78 L2111.62 1586.65 L2084.69 1586.65 Q2085.07 1592.69 2088.32 1595.88 Q2091.6 1599.03 2097.42 1599.03 Q2100.8 1599.03 2103.95 1598.2 Q2107.13 1597.37 2110.25 1595.72 L2110.25 1601.26 Q2107.1 1602.59 2103.79 1603.29 Q2100.48 1603.99 2097.07 1603.99 Q2088.54 1603.99 2083.55 1599.03 Q2078.58 1594.06 2078.58 1585.6 Q2078.58 1576.84 2083.29 1571.72 Q2088.03 1566.56 2096.05 1566.56 Q2103.25 1566.56 2107.42 1571.21 Q2111.62 1575.83 2111.62 1583.78 M2105.76 1582.06 Q2105.7 1577.26 2103.06 1574.39 Q2100.45 1571.53 2096.12 1571.53 Q2091.22 1571.53 2088.26 1574.3 Q2085.33 1577.07 2084.88 1582.1 L2105.76 1582.06 Z\" fill=\"#000000\" fill-rule=\"evenodd\" fill-opacity=\"1\" /><path clip-path=\"url(#clip8400)\" d=\"M 0 0 M18.7301 887.527 L18.7301 881.67 L54.378 881.67 L54.378 887.527 L18.7301 887.527 M4.85284 887.527 L4.85284 881.67 L12.2689 881.67 L12.2689 887.527 L4.85284 887.527 Z\" fill=\"#000000\" fill-rule=\"evenodd\" fill-opacity=\"1\" /><path clip-path=\"url(#clip8400)\" d=\"M 0 0 M32.8619 845.895 L54.378 845.895 L54.378 851.751 L33.0529 851.751 Q27.9922 851.751 25.4777 853.725 Q22.9633 855.698 22.9633 859.645 Q22.9633 864.387 25.987 867.125 Q29.0107 869.862 34.2306 869.862 L54.378 869.862 L54.378 875.75 L18.7301 875.75 L18.7301 869.862 L24.2682 869.862 Q21.0536 867.761 19.4621 864.928 Q17.8707 862.064 17.8707 858.34 Q17.8707 852.197 21.6901 849.046 Q25.4777 845.895 32.8619 845.895 Z\" fill=\"#000000\" fill-rule=\"evenodd\" fill-opacity=\"1\" /><path clip-path=\"url(#clip8400)\" d=\"M 0 0 M24.1409 816.294 L4.85284 816.294 L4.85284 810.438 L54.378 810.438 L54.378 816.294 L49.0308 816.294 Q52.2137 818.14 53.7733 820.973 Q55.3011 823.774 55.3011 827.721 Q55.3011 834.182 50.1448 838.256 Q44.9886 842.298 36.5859 842.298 Q28.1832 842.298 23.0269 838.256 Q17.8707 834.182 17.8707 827.721 Q17.8707 823.774 19.4303 820.973 Q20.9581 818.14 24.1409 816.294 M36.5859 836.251 Q43.0471 836.251 46.7392 833.609 Q50.3995 830.935 50.3995 826.289 Q50.3995 821.642 46.7392 818.968 Q43.0471 816.294 36.5859 816.294 Q30.1247 816.294 26.4644 818.968 Q22.7723 821.642 22.7723 826.289 Q22.7723 830.935 26.4644 833.609 Q30.1247 836.251 36.5859 836.251 Z\" fill=\"#000000\" fill-rule=\"evenodd\" fill-opacity=\"1\" /><path clip-path=\"url(#clip8400)\" d=\"M 0 0 M18.7301 804.295 L18.7301 798.439 L54.378 798.439 L54.378 804.295 L18.7301 804.295 M4.85284 804.295 L4.85284 798.439 L12.2689 798.439 L12.2689 804.295 L4.85284 804.295 Z\" fill=\"#000000\" fill-rule=\"evenodd\" fill-opacity=\"1\" /><path clip-path=\"url(#clip8400)\" d=\"M 0 0 M20.0987 766.642 L25.5732 766.642 Q24.2046 769.124 23.5362 771.639 Q22.836 774.122 22.836 776.668 Q22.836 782.365 26.4644 785.516 Q30.061 788.667 36.5859 788.667 Q43.1107 788.667 46.7392 785.516 Q50.3358 782.365 50.3358 776.668 Q50.3358 774.122 49.6674 771.639 Q48.9672 769.124 47.5986 766.642 L53.0094 766.642 Q54.1552 769.093 54.7281 771.734 Q55.3011 774.344 55.3011 777.304 Q55.3011 785.357 50.2403 790.099 Q45.1796 794.842 36.5859 794.842 Q27.8649 794.842 22.8678 790.068 Q17.8707 785.262 17.8707 776.922 Q17.8707 774.217 18.4436 771.639 Q18.9847 769.061 20.0987 766.642 Z\" fill=\"#000000\" fill-rule=\"evenodd\" fill-opacity=\"1\" /><path clip-path=\"url(#clip8400)\" d=\"M 0 0 M36.4586 744.298 Q36.4586 751.396 38.0818 754.133 Q39.7051 756.87 43.62 756.87 Q46.7392 756.87 48.5852 754.833 Q50.3995 752.765 50.3995 749.232 Q50.3995 744.362 46.962 741.434 Q43.4927 738.474 37.7635 738.474 L36.4586 738.474 L36.4586 744.298 M34.0396 732.617 L54.378 732.617 L54.378 738.474 L48.9672 738.474 Q52.2137 740.479 53.7733 743.471 Q55.3011 746.463 55.3011 750.791 Q55.3011 756.266 52.2455 759.512 Q49.1582 762.727 44.0019 762.727 Q37.9863 762.727 34.9308 758.717 Q31.8753 754.674 31.8753 746.685 L31.8753 738.474 L31.3023 738.474 Q27.2601 738.474 25.064 741.147 Q22.836 743.789 22.836 748.595 Q22.836 751.651 23.568 754.547 Q24.3001 757.443 25.7642 760.117 L20.3533 760.117 Q19.112 756.902 18.5073 753.879 Q17.8707 750.855 17.8707 747.99 Q17.8707 740.256 21.8811 736.437 Q25.8915 732.617 34.0396 732.617 Z\" fill=\"#000000\" fill-rule=\"evenodd\" fill-opacity=\"1\" /><path clip-path=\"url(#clip8400)\" d=\"M 0 0 M8.6086 720.681 L18.7301 720.681 L18.7301 708.618 L23.2816 708.618 L23.2816 720.681 L42.6333 720.681 Q46.9938 720.681 48.2351 719.504 Q49.4764 718.294 49.4764 714.634 L49.4764 708.618 L54.378 708.618 L54.378 714.634 Q54.378 721.414 51.8636 723.992 Q49.3173 726.57 42.6333 726.57 L23.2816 726.57 L23.2816 730.867 L18.7301 730.867 L18.7301 726.57 L8.6086 726.57 L8.6086 720.681 Z\" fill=\"#000000\" fill-rule=\"evenodd\" fill-opacity=\"1\" /><path clip-path=\"url(#clip8400)\" d=\"M 0 0 M22.836 688.662 Q22.836 693.373 26.5281 696.11 Q30.1883 698.847 36.5859 698.847 Q42.9834 698.847 46.6755 696.142 Q50.3358 693.404 50.3358 688.662 Q50.3358 683.983 46.6437 681.246 Q42.9516 678.509 36.5859 678.509 Q30.252 678.509 26.5599 681.246 Q22.836 683.983 22.836 688.662 M17.8707 688.662 Q17.8707 681.023 22.836 676.663 Q27.8012 672.302 36.5859 672.302 Q45.3387 672.302 50.3358 676.663 Q55.3011 681.023 55.3011 688.662 Q55.3011 696.333 50.3358 700.693 Q45.3387 705.022 36.5859 705.022 Q27.8012 705.022 22.836 700.693 Q17.8707 696.333 17.8707 688.662 Z\" fill=\"#000000\" fill-rule=\"evenodd\" fill-opacity=\"1\" /><path clip-path=\"url(#clip8400)\" d=\"M 0 0 M24.2046 645.502 Q23.6317 646.489 23.377 647.667 Q23.0906 648.813 23.0906 650.213 Q23.0906 655.178 26.3371 657.852 Q29.5518 660.494 35.5992 660.494 L54.378 660.494 L54.378 666.382 L18.7301 666.382 L18.7301 660.494 L24.2682 660.494 Q21.0217 658.648 19.4621 655.688 Q17.8707 652.728 17.8707 648.494 Q17.8707 647.89 17.9662 647.158 Q18.0299 646.425 18.189 645.534 L24.2046 645.502 Z\" fill=\"#000000\" fill-rule=\"evenodd\" fill-opacity=\"1\" /><path clip-path=\"url(#clip8400)\" d=\"M 0 0 M19.7804 616.634 L25.3186 616.634 Q24.0454 619.117 23.4089 621.79 Q22.7723 624.464 22.7723 627.328 Q22.7723 631.689 24.1091 633.885 Q25.4459 636.049 28.1195 636.049 Q30.1565 636.049 31.3342 634.49 Q32.48 632.93 33.5303 628.22 L33.9759 626.214 Q35.3127 619.976 37.7635 617.366 Q40.1825 614.724 44.543 614.724 Q49.5083 614.724 52.4047 618.671 Q55.3011 622.586 55.3011 629.461 Q55.3011 632.325 54.7281 635.445 Q54.1871 638.532 53.0731 641.969 L47.0256 641.969 Q48.7126 638.723 49.5719 635.572 Q50.3995 632.421 50.3995 629.334 Q50.3995 625.196 48.999 622.968 Q47.5667 620.74 44.9886 620.74 Q42.6015 620.74 41.3283 622.363 Q40.0552 623.955 38.8775 629.397 L38.4001 631.434 Q37.2543 636.877 34.899 639.296 Q32.5118 641.715 28.3741 641.715 Q23.3452 641.715 20.608 638.15 Q17.8707 634.585 17.8707 628.029 Q17.8707 624.782 18.3481 621.918 Q18.8256 619.053 19.7804 616.634 Z\" fill=\"#000000\" fill-rule=\"evenodd\" fill-opacity=\"1\" /><polyline clip-path=\"url(#clip8402)\" style=\"stroke:#009af9; stroke-width:4; stroke-opacity:1; fill:none\" points=\"\n",
       "  324.974,459.271 363.245,459.271 401.517,490.286 439.789,490.286 478.06,335.209 516.332,335.209 554.604,521.302 592.875,521.302 631.147,521.302 669.418,521.302 \n",
       "  707.69,676.378 745.962,614.348 784.233,614.348 822.505,707.394 860.777,707.394 899.048,707.394 937.32,645.363 975.592,614.348 1013.86,552.317 1052.14,645.363 \n",
       "  1090.41,676.378 1128.68,676.378 1166.95,676.378 1205.22,800.44 1243.49,862.471 1281.76,800.44 1320.04,924.501 1358.31,862.471 1396.58,862.471 1434.85,862.471 \n",
       "  1473.12,738.409 1511.39,769.425 1549.67,645.363 1587.94,645.363 1626.21,707.394 1664.48,707.394 1702.75,707.394 1741.02,614.348 1779.3,583.332 1817.57,552.317 \n",
       "  1855.84,552.317 1894.11,490.286 1932.38,490.286 1970.65,490.286 2008.93,397.24 2047.2,459.271 2085.47,459.271 2123.74,521.302 2162.01,428.255 2200.28,428.255 \n",
       "  2238.56,428.255 2276.83,459.271 2315.1,521.302 2353.37,552.317 2391.64,552.317 2429.91,552.317 2468.19,552.317 2506.46,552.317 2544.73,614.348 2583,738.409 \n",
       "  2621.27,924.501 2659.54,955.517 2697.82,1048.56 2736.09,1048.56 2774.36,1048.56 2812.63,924.501 2850.9,769.425 2889.17,583.332 2927.45,521.302 2965.72,552.317 \n",
       "  3003.99,552.317 3042.26,552.317 3080.53,149.117 3118.8,273.179 3157.08,242.163 3195.35,304.194 3233.62,242.163 3271.89,242.163 3310.16,242.163 3348.43,118.102 \n",
       "  3386.71,149.117 3424.98,149.117 3463.25,242.163 3501.52,273.179 3539.79,273.179 3578.06,273.179 3616.34,211.148 3654.61,87.0864 3692.88,118.102 3731.15,118.102 \n",
       "  3769.42,118.102 \n",
       "  \"/>\n",
       "<polyline clip-path=\"url(#clip8402)\" style=\"stroke:#e26f46; stroke-width:4; stroke-opacity:1; fill:none\" points=\"\n",
       "  324.974,645.363 363.245,645.363 401.517,645.363 439.789,645.363 478.06,645.363 516.332,645.363 554.604,645.363 592.875,645.363 631.147,645.363 669.418,645.363 \n",
       "  707.69,645.363 745.962,645.363 784.233,645.363 822.505,645.363 860.777,645.363 899.048,645.363 937.32,645.363 975.592,645.363 1013.86,645.363 1052.14,645.363 \n",
       "  1090.41,645.363 1128.68,645.363 1166.95,645.363 1205.22,645.363 1243.49,645.363 1281.76,645.363 1320.04,645.363 1358.31,645.363 1396.58,645.363 1434.85,645.363 \n",
       "  1473.12,645.363 1511.39,645.363 1549.67,645.363 1587.94,645.363 1626.21,645.363 1664.48,645.363 1702.75,645.363 1741.02,645.363 1779.3,645.363 1817.57,645.363 \n",
       "  1855.84,645.363 1894.11,645.363 1932.38,645.363 1970.65,645.363 2008.93,645.363 2047.2,645.363 2085.47,645.363 2123.74,645.363 2162.01,645.363 2200.28,645.363 \n",
       "  2238.56,645.363 2276.83,645.363 2315.1,645.363 2353.37,645.363 2391.64,645.363 2429.91,645.363 2468.19,645.363 2506.46,645.363 2544.73,645.363 2583,645.363 \n",
       "  2621.27,645.363 2659.54,645.363 2697.82,645.363 2736.09,645.363 2774.36,645.363 2812.63,645.363 2850.9,645.363 2889.17,645.363 2927.45,645.363 2965.72,645.363 \n",
       "  3003.99,645.363 3042.26,645.363 3080.53,645.363 3118.8,645.363 3157.08,645.363 3195.35,645.363 3233.62,645.363 3271.89,645.363 3310.16,645.363 3348.43,645.363 \n",
       "  3386.71,645.363 3424.98,645.363 3463.25,645.363 3501.52,645.363 3539.79,645.363 3578.06,645.363 3616.34,645.363 3654.61,645.363 3692.88,645.363 3731.15,645.363 \n",
       "  3769.42,645.363 \n",
       "  \"/>\n",
       "<polyline clip-path=\"url(#clip8402)\" style=\"stroke:#3da44d; stroke-width:4; stroke-opacity:1; fill:none\" points=\"\n",
       "  324.974,508.895 363.245,490.286 401.517,471.677 439.789,471.677 478.06,446.865 516.332,422.052 554.604,434.459 592.875,440.662 631.147,446.865 669.418,484.083 \n",
       "  707.69,552.317 745.962,570.926 784.233,589.535 822.505,626.754 860.777,663.972 899.048,670.175 937.32,676.378 975.592,676.378 1013.86,645.363 1052.14,632.957 \n",
       "  1090.41,626.754 1128.68,632.957 1166.95,645.363 1205.22,694.988 1243.49,738.409 1281.76,763.221 1320.04,812.846 1358.31,850.064 1396.58,862.471 1434.85,862.471 \n",
       "  1473.12,850.064 1511.39,819.049 1549.67,775.628 1587.94,732.206 1626.21,701.191 1664.48,694.988 1702.75,682.581 1741.02,676.378 1779.3,663.972 1817.57,632.957 \n",
       "  1855.84,601.942 1894.11,558.52 1932.38,533.708 1970.65,515.098 2008.93,484.083 2047.2,465.474 2085.47,459.271 2123.74,465.474 2162.01,453.068 2200.28,459.271 \n",
       "  2238.56,453.068 2276.83,453.068 2315.1,453.068 2353.37,477.88 2391.64,502.692 2429.91,527.505 2468.19,546.114 2506.46,552.317 2544.73,564.723 2583,601.942 \n",
       "  2621.27,676.378 2659.54,757.018 2697.82,856.268 2736.09,943.111 2774.36,1005.14 2812.63,1005.14 2850.9,967.923 2889.17,874.877 2927.45,769.425 2965.72,670.175 \n",
       "  3003.99,595.738 3042.26,552.317 3080.53,465.474 3118.8,415.849 3157.08,353.819 3195.35,304.194 3233.62,242.163 3271.89,260.772 3310.16,254.569 3348.43,229.757 \n",
       "  3386.71,198.742 3424.98,180.133 3463.25,180.133 3501.52,186.336 3539.79,217.351 3578.06,242.163 3616.34,254.569 3654.61,223.554 3692.88,192.539 3731.15,161.523 \n",
       "  3769.42,130.508 \n",
       "  \"/>\n",
       "<polyline clip-path=\"url(#clip8402)\" style=\"stroke:#c271d2; stroke-width:4; stroke-opacity:1; fill:none\" points=\"\n",
       "  324.974,736.238 363.245,715.768 401.517,695.918 439.789,676.378 478.06,653.737 516.332,632.026 554.604,619.62 592.875,609.075 631.147,598.84 669.418,588.605 \n",
       "  707.69,583.332 745.962,580.231 784.233,580.231 822.505,582.402 860.777,583.332 899.048,584.263 937.32,583.332 975.592,581.161 1013.86,577.129 1052.14,574.958 \n",
       "  1090.41,574.958 1128.68,573.097 1166.95,573.097 1205.22,577.129 1243.49,583.332 1281.76,590.466 1320.04,602.872 1358.31,612.177 1396.58,624.583 1434.85,638.23 \n",
       "  1473.12,647.534 1511.39,657.769 1549.67,663.042 1587.94,668.004 1626.21,680.41 1664.48,692.817 1702.75,699.02 1741.02,702.121 1779.3,704.292 1817.57,705.223 \n",
       "  1855.84,701.191 1894.11,697.159 1932.38,692.817 1970.65,685.683 2008.93,675.448 2047.2,667.074 2085.47,660.871 2123.74,657.769 2162.01,653.737 2200.28,646.293 \n",
       "  2238.56,638.23 2276.83,630.786 2315.1,625.823 2353.37,617.449 2391.64,607.214 2429.91,598.84 2468.19,586.434 2506.46,576.199 2544.73,567.825 2583,563.793 \n",
       "  2621.27,569.996 2659.54,576.199 2697.82,589.535 2736.09,602.872 2774.36,614.348 2812.63,621.481 2850.9,623.652 2889.17,622.722 2927.45,620.551 2965.72,620.551 \n",
       "  3003.99,620.551 3042.26,622.722 3080.53,611.246 3118.8,604.113 3157.08,598.84 3195.35,593.567 3233.62,586.434 3271.89,577.129 3310.16,570.926 3348.43,560.691 \n",
       "  3386.71,551.386 3424.98,540.841 3463.25,531.537 3501.52,522.232 3539.79,512.927 3578.06,503.623 3616.34,492.457 3654.61,476.95 3692.88,460.201 3731.15,439.731 \n",
       "  3769.42,412.748 \n",
       "  \"/>\n",
       "<polyline clip-path=\"url(#clip8402)\" style=\"stroke:#ac8d18; stroke-width:4; stroke-opacity:1; fill:none\" points=\"\n",
       "  324.974,980.329 363.245,970.404 401.517,961.41 439.789,954.586 478.06,945.902 516.332,940.009 554.604,936.287 592.875,932.565 631.147,929.774 669.418,926.362 \n",
       "  707.69,924.501 745.962,918.608 784.233,911.785 822.505,905.892 860.777,899.999 899.048,894.106 937.32,889.764 975.592,884.181 1013.86,877.358 1052.14,872.396 \n",
       "  1090.41,868.053 1128.68,863.401 1166.95,857.508 1205.22,853.786 1243.49,850.064 1281.76,844.792 1320.04,840.45 1358.31,835.177 1396.58,830.215 1434.85,824.942 \n",
       "  1473.12,819.359 1511.39,814.707 1549.67,808.814 1587.94,802.921 1626.21,797.648 1664.48,792.376 1702.75,787.724 1741.02,781.52 1779.3,775.007 1817.57,768.184 \n",
       "  1855.84,761.05 1894.11,753.607 1932.38,745.853 1970.65,739.65 2008.93,732.826 2047.2,727.864 2085.47,721.971 2123.74,716.698 2162.01,710.495 2200.28,704.292 \n",
       "  2238.56,697.779 2276.83,692.506 2315.1,688.164 2353.37,683.512 2391.64,678.239 2429.91,672.657 2468.19,667.074 2506.46,661.491 2544.73,656.839 2583,653.427 \n",
       "  2621.27,651.256 2659.54,649.705 2697.82,649.395 2736.09,649.085 2774.36,649.395 2812.63,648.775 2850.9,647.534 2889.17,644.743 2927.45,641.331 2965.72,638.23 \n",
       "  3003.99,635.128 3042.26,633.267 3080.53,627.994 3118.8,623.962 3157.08,619.31 3195.35,614.968 3233.62,610.316 3271.89,605.353 3310.16,600.701 3348.43,593.878 \n",
       "  3386.71,588.295 3424.98,581.471 3463.25,576.819 3501.52,572.167 3539.79,567.825 3578.06,564.413 3616.34,560.691 3654.61,555.108 3692.88,551.076 3731.15,547.044 \n",
       "  3769.42,543.322 \n",
       "  \"/>\n",
       "<polyline clip-path=\"url(#clip8402)\" style=\"stroke:#00a9ad; stroke-width:4; stroke-opacity:1; fill:none\" points=\"\n",
       "  324.974,1415.16 363.245,1412.68 401.517,1410.2 439.789,1407.41 478.06,1402.45 516.332,1397.8 554.604,1393.76 592.875,1388.49 631.147,1383.22 669.418,1377.02 \n",
       "  707.69,1369.26 745.962,1361.82 784.233,1354.37 822.505,1347.24 860.777,1337.94 899.048,1328.01 937.32,1316.54 975.592,1304.75 1013.86,1292.65 1052.14,1281.18 \n",
       "  1090.41,1269.7 1128.68,1256.37 1166.95,1245.2 1205.22,1236.83 1243.49,1229.69 1281.76,1221.94 1320.04,1214.81 1358.31,1207.05 1396.58,1199.61 1434.85,1192.47 \n",
       "  1473.12,1182.86 1511.39,1173.55 1549.67,1163.63 1587.94,1153.39 1626.21,1143.47 1664.48,1135.72 1702.75,1129.51 1741.02,1122.38 1779.3,1115.87 1817.57,1109.04 \n",
       "  1855.84,1102.22 1894.11,1095.4 1932.38,1087.64 1970.65,1080.51 2008.93,1072.44 2047.2,1064.69 2085.47,1057.56 2123.74,1051.04 2162.01,1044.22 2200.28,1036.78 \n",
       "  2238.56,1028.4 2276.83,1020.65 2315.1,1013.52 2353.37,1006.38 2391.64,999.559 2429.91,992.425 2468.19,985.912 2506.46,980.019 2544.73,974.746 2583,970.094 \n",
       "  2621.27,965.442 2659.54,961.099 2697.82,957.378 2736.09,953.035 2774.36,949.314 2812.63,944.661 2850.9,939.389 2889.17,933.186 2927.45,926.983 2965.72,920.779 \n",
       "  3003.99,914.576 3042.26,908.373 3080.53,898.759 3118.8,890.074 3157.08,881.39 3195.35,872.706 3233.62,864.021 3271.89,856.578 3310.16,849.134 3348.43,841.07 \n",
       "  3386.71,833.006 3424.98,824.632 3463.25,816.878 3501.52,809.434 3539.79,801.68 3578.06,795.167 3616.34,788.964 3654.61,782.451 3692.88,775.628 3731.15,768.804 \n",
       "  3769.42,761.981 \n",
       "  \"/>\n",
       "<path clip-path=\"url(#clip8400)\" d=\"\n",
       "M339.24 645.324 L989.966 645.324 L989.966 221.964 L339.24 221.964  Z\n",
       "  \" fill=\"#ffffff\" fill-rule=\"evenodd\" fill-opacity=\"1\"/>\n",
       "<polyline clip-path=\"url(#clip8400)\" style=\"stroke:#000000; stroke-width:4; stroke-opacity:1; fill:none\" points=\"\n",
       "  339.24,645.324 989.966,645.324 989.966,221.964 339.24,221.964 339.24,645.324 \n",
       "  \"/>\n",
       "<polyline clip-path=\"url(#clip8400)\" style=\"stroke:#009af9; stroke-width:4; stroke-opacity:1; fill:none\" points=\"\n",
       "  378.44,282.444 613.64,282.444 \n",
       "  \"/>\n",
       "<path clip-path=\"url(#clip8400)\" d=\"M 0 0 M666.034 299.724 L652.84 265.164 L657.724 265.164 L668.673 294.261 L679.646 265.164 L684.507 265.164 L671.335 299.724 L666.034 299.724 Z\" fill=\"#000000\" fill-rule=\"evenodd\" fill-opacity=\"1\" /><path clip-path=\"url(#clip8400)\" d=\"M 0 0 M697.076 286.692 Q691.914 286.692 689.923 287.872 Q687.933 289.053 687.933 291.9 Q687.933 294.169 689.414 295.511 Q690.919 296.831 693.488 296.831 Q697.03 296.831 699.159 294.331 Q701.312 291.807 701.312 287.641 L701.312 286.692 L697.076 286.692 M705.571 284.933 L705.571 299.724 L701.312 299.724 L701.312 295.789 Q699.854 298.15 697.678 299.284 Q695.502 300.395 692.354 300.395 Q688.372 300.395 686.011 298.173 Q683.673 295.928 683.673 292.178 Q683.673 287.803 686.59 285.581 Q689.53 283.358 695.34 283.358 L701.312 283.358 L701.312 282.942 Q701.312 280.002 699.368 278.405 Q697.446 276.784 693.951 276.784 Q691.729 276.784 689.622 277.317 Q687.516 277.849 685.571 278.914 L685.571 274.979 Q687.909 274.076 690.108 273.636 Q692.307 273.173 694.391 273.173 Q700.016 273.173 702.794 276.09 Q705.571 279.007 705.571 284.933 Z\" fill=\"#000000\" fill-rule=\"evenodd\" fill-opacity=\"1\" /><path clip-path=\"url(#clip8400)\" d=\"M 0 0 M710.039 263.706 L714.298 263.706 L714.298 299.724 L710.039 299.724 L710.039 263.706 Z\" fill=\"#000000\" fill-rule=\"evenodd\" fill-opacity=\"1\" /><path clip-path=\"url(#clip8400)\" d=\"M 0 0 M718.326 289.493 L718.326 273.798 L722.585 273.798 L722.585 289.331 Q722.585 293.011 724.02 294.863 Q725.455 296.692 728.326 296.692 Q731.775 296.692 733.766 294.493 Q735.779 292.294 735.779 288.497 L735.779 273.798 L740.039 273.798 L740.039 299.724 L735.779 299.724 L735.779 295.743 Q734.229 298.104 732.168 299.261 Q730.131 300.395 727.423 300.395 Q722.955 300.395 720.641 297.618 Q718.326 294.84 718.326 289.493 M729.043 273.173 L729.043 273.173 Z\" fill=\"#000000\" fill-rule=\"evenodd\" fill-opacity=\"1\" /><path clip-path=\"url(#clip8400)\" d=\"M 0 0 M766.682 285.696 L766.682 287.78 L747.099 287.78 Q747.377 292.178 749.738 294.493 Q752.122 296.784 756.358 296.784 Q758.812 296.784 761.103 296.182 Q763.418 295.581 765.687 294.377 L765.687 298.405 Q763.395 299.377 760.988 299.886 Q758.58 300.395 756.103 300.395 Q749.9 300.395 746.266 296.784 Q742.654 293.173 742.654 287.016 Q742.654 280.65 746.08 276.923 Q749.529 273.173 755.363 273.173 Q760.594 273.173 763.627 276.553 Q766.682 279.909 766.682 285.696 M762.423 284.446 Q762.377 280.951 760.455 278.868 Q758.557 276.784 755.409 276.784 Q751.844 276.784 749.691 278.798 Q747.562 280.812 747.238 284.47 L762.423 284.446 Z\" fill=\"#000000\" fill-rule=\"evenodd\" fill-opacity=\"1\" /><polyline clip-path=\"url(#clip8400)\" style=\"stroke:#e26f46; stroke-width:4; stroke-opacity:1; fill:none\" points=\"\n",
       "  378.44,342.924 613.64,342.924 \n",
       "  \"/>\n",
       "<path clip-path=\"url(#clip8400)\" d=\"M 0 0 M657.123 356.315 L657.123 370.065 L652.84 370.065 L652.84 334.278 L657.123 334.278 L657.123 338.213 Q658.465 335.899 660.502 334.788 Q662.562 333.653 665.409 333.653 Q670.132 333.653 673.071 337.403 Q676.034 341.153 676.034 347.264 Q676.034 353.375 673.071 357.125 Q670.132 360.875 665.409 360.875 Q662.562 360.875 660.502 359.764 Q658.465 358.63 657.123 356.315 M671.613 347.264 Q671.613 342.565 669.669 339.903 Q667.747 337.218 664.368 337.218 Q660.988 337.218 659.044 339.903 Q657.123 342.565 657.123 347.264 Q657.123 351.963 659.044 354.649 Q660.988 357.311 664.368 357.311 Q667.747 357.311 669.669 354.649 Q671.613 351.963 671.613 347.264 Z\" fill=\"#000000\" fill-rule=\"evenodd\" fill-opacity=\"1\" /><path clip-path=\"url(#clip8400)\" d=\"M 0 0 M690.548 337.264 Q687.122 337.264 685.132 339.95 Q683.141 342.612 683.141 347.264 Q683.141 351.917 685.108 354.602 Q687.099 357.264 690.548 357.264 Q693.951 357.264 695.942 354.579 Q697.932 351.894 697.932 347.264 Q697.932 342.658 695.942 339.973 Q693.951 337.264 690.548 337.264 M690.548 333.653 Q696.104 333.653 699.275 337.264 Q702.446 340.875 702.446 347.264 Q702.446 353.63 699.275 357.264 Q696.104 360.875 690.548 360.875 Q684.97 360.875 681.798 357.264 Q678.65 353.63 678.65 347.264 Q678.65 340.875 681.798 337.264 Q684.97 333.653 690.548 333.653 Z\" fill=\"#000000\" fill-rule=\"evenodd\" fill-opacity=\"1\" /><path clip-path=\"url(#clip8400)\" d=\"M 0 0 M723.442 335.042 L723.442 339.07 Q721.636 338.144 719.692 337.681 Q717.747 337.218 715.664 337.218 Q712.493 337.218 710.895 338.19 Q709.321 339.163 709.321 341.107 Q709.321 342.588 710.456 343.445 Q711.59 344.278 715.016 345.042 L716.474 345.366 Q721.011 346.338 722.909 348.121 Q724.83 349.88 724.83 353.051 Q724.83 356.662 721.96 358.769 Q719.113 360.875 714.113 360.875 Q712.03 360.875 709.761 360.459 Q707.516 360.065 705.016 359.255 L705.016 354.857 Q707.377 356.084 709.669 356.709 Q711.96 357.311 714.206 357.311 Q717.215 357.311 718.835 356.292 Q720.455 355.25 720.455 353.375 Q720.455 351.639 719.275 350.713 Q718.118 349.787 714.159 348.931 L712.678 348.584 Q708.719 347.75 706.96 346.038 Q705.201 344.301 705.201 341.292 Q705.201 337.635 707.794 335.644 Q710.386 333.653 715.155 333.653 Q717.516 333.653 719.599 334.001 Q721.682 334.348 723.442 335.042 Z\" fill=\"#000000\" fill-rule=\"evenodd\" fill-opacity=\"1\" /><path clip-path=\"url(#clip8400)\" d=\"M 0 0 M729.298 334.278 L733.557 334.278 L733.557 360.204 L729.298 360.204 L729.298 334.278 M729.298 324.186 L733.557 324.186 L733.557 329.579 L729.298 329.579 L729.298 324.186 Z\" fill=\"#000000\" fill-rule=\"evenodd\" fill-opacity=\"1\" /><path clip-path=\"url(#clip8400)\" d=\"M 0 0 M742.238 326.917 L742.238 334.278 L751.011 334.278 L751.011 337.588 L742.238 337.588 L742.238 351.662 Q742.238 354.834 743.094 355.737 Q743.974 356.639 746.636 356.639 L751.011 356.639 L751.011 360.204 L746.636 360.204 Q741.705 360.204 739.83 358.375 Q737.955 356.524 737.955 351.662 L737.955 337.588 L734.83 337.588 L734.83 334.278 L737.955 334.278 L737.955 326.917 L742.238 326.917 Z\" fill=\"#000000\" fill-rule=\"evenodd\" fill-opacity=\"1\" /><path clip-path=\"url(#clip8400)\" d=\"M 0 0 M755.478 334.278 L759.738 334.278 L759.738 360.204 L755.478 360.204 L755.478 334.278 M755.478 324.186 L759.738 324.186 L759.738 329.579 L755.478 329.579 L755.478 324.186 Z\" fill=\"#000000\" fill-rule=\"evenodd\" fill-opacity=\"1\" /><path clip-path=\"url(#clip8400)\" d=\"M 0 0 M774.252 337.264 Q770.826 337.264 768.835 339.95 Q766.844 342.612 766.844 347.264 Q766.844 351.917 768.812 354.602 Q770.802 357.264 774.252 357.264 Q777.654 357.264 779.645 354.579 Q781.636 351.894 781.636 347.264 Q781.636 342.658 779.645 339.973 Q777.654 337.264 774.252 337.264 M774.252 333.653 Q779.807 333.653 782.978 337.264 Q786.15 340.875 786.15 347.264 Q786.15 353.63 782.978 357.264 Q779.807 360.875 774.252 360.875 Q768.673 360.875 765.502 357.264 Q762.353 353.63 762.353 347.264 Q762.353 340.875 765.502 337.264 Q768.673 333.653 774.252 333.653 Z\" fill=\"#000000\" fill-rule=\"evenodd\" fill-opacity=\"1\" /><path clip-path=\"url(#clip8400)\" d=\"M 0 0 M812.168 344.556 L812.168 360.204 L807.909 360.204 L807.909 344.695 Q807.909 341.014 806.474 339.186 Q805.038 337.357 802.168 337.357 Q798.719 337.357 796.728 339.556 Q794.738 341.755 794.738 345.551 L794.738 360.204 L790.455 360.204 L790.455 334.278 L794.738 334.278 L794.738 338.306 Q796.265 335.968 798.325 334.811 Q800.409 333.653 803.117 333.653 Q807.585 333.653 809.876 336.431 Q812.168 339.186 812.168 344.556 Z\" fill=\"#000000\" fill-rule=\"evenodd\" fill-opacity=\"1\" /><polyline clip-path=\"url(#clip8400)\" style=\"stroke:#3da44d; stroke-width:4; stroke-opacity:1; fill:none\" points=\"\n",
       "  378.44,403.404 613.64,403.404 \n",
       "  \"/>\n",
       "<path clip-path=\"url(#clip8400)\" d=\"M 0 0 M654.298 386.124 L672.655 386.124 L672.655 390.059 L658.581 390.059 L658.581 398.531 Q659.599 398.184 660.618 398.022 Q661.636 397.837 662.655 397.837 Q668.442 397.837 671.821 401.008 Q675.201 404.18 675.201 409.596 Q675.201 415.175 671.729 418.277 Q668.257 421.355 661.937 421.355 Q659.761 421.355 657.493 420.985 Q655.248 420.615 652.84 419.874 L652.84 415.175 Q654.923 416.309 657.146 416.865 Q659.368 417.42 661.845 417.42 Q665.849 417.42 668.187 415.314 Q670.525 413.207 670.525 409.596 Q670.525 405.985 668.187 403.879 Q665.849 401.772 661.845 401.772 Q659.97 401.772 658.095 402.189 Q656.243 402.605 654.298 403.485 L654.298 386.124 Z\" fill=\"#000000\" fill-rule=\"evenodd\" fill-opacity=\"1\" /><path clip-path=\"url(#clip8400)\" d=\"M 0 0 M677.516 405.8 L689.993 405.8 L689.993 409.596 L677.516 409.596 L677.516 405.8 Z\" fill=\"#000000\" fill-rule=\"evenodd\" fill-opacity=\"1\" /><path clip-path=\"url(#clip8400)\" d=\"M 0 0 M711.52 398.693 L711.52 384.666 L715.78 384.666 L715.78 420.684 L711.52 420.684 L711.52 416.795 Q710.178 419.11 708.118 420.244 Q706.081 421.355 703.21 421.355 Q698.511 421.355 695.548 417.605 Q692.608 413.855 692.608 407.744 Q692.608 401.633 695.548 397.883 Q698.511 394.133 703.21 394.133 Q706.081 394.133 708.118 395.268 Q710.178 396.379 711.52 398.693 M697.007 407.744 Q697.007 412.443 698.928 415.129 Q700.872 417.791 704.252 417.791 Q707.631 417.791 709.576 415.129 Q711.52 412.443 711.52 407.744 Q711.52 403.045 709.576 400.383 Q707.631 397.698 704.252 397.698 Q700.872 397.698 698.928 400.383 Q697.007 403.045 697.007 407.744 Z\" fill=\"#000000\" fill-rule=\"evenodd\" fill-opacity=\"1\" /><path clip-path=\"url(#clip8400)\" d=\"M 0 0 M732.03 407.652 Q726.867 407.652 724.877 408.832 Q722.886 410.013 722.886 412.86 Q722.886 415.129 724.368 416.471 Q725.872 417.791 728.442 417.791 Q731.983 417.791 734.113 415.291 Q736.266 412.767 736.266 408.601 L736.266 407.652 L732.03 407.652 M740.525 405.893 L740.525 420.684 L736.266 420.684 L736.266 416.749 Q734.807 419.11 732.631 420.244 Q730.455 421.355 727.307 421.355 Q723.326 421.355 720.965 419.133 Q718.627 416.888 718.627 413.138 Q718.627 408.763 721.543 406.541 Q724.483 404.318 730.293 404.318 L736.266 404.318 L736.266 403.902 Q736.266 400.962 734.321 399.365 Q732.4 397.744 728.905 397.744 Q726.682 397.744 724.576 398.277 Q722.469 398.809 720.525 399.874 L720.525 395.939 Q722.863 395.036 725.062 394.596 Q727.261 394.133 729.344 394.133 Q734.969 394.133 737.747 397.05 Q740.525 399.967 740.525 405.893 Z\" fill=\"#000000\" fill-rule=\"evenodd\" fill-opacity=\"1\" /><path clip-path=\"url(#clip8400)\" d=\"M 0 0 M755.779 423.091 Q753.974 427.721 752.261 429.133 Q750.548 430.545 747.678 430.545 L744.275 430.545 L744.275 426.98 L746.775 426.98 Q748.534 426.98 749.506 426.147 Q750.478 425.314 751.659 422.212 L752.423 420.267 L741.937 394.758 L746.451 394.758 L754.553 415.036 L762.654 394.758 L767.168 394.758 L755.779 423.091 Z\" fill=\"#000000\" fill-rule=\"evenodd\" fill-opacity=\"1\" /><path clip-path=\"url(#clip8400)\" d=\"M 0 0 M798.487 407.652 Q793.325 407.652 791.335 408.832 Q789.344 410.013 789.344 412.86 Q789.344 415.129 790.825 416.471 Q792.33 417.791 794.9 417.791 Q798.441 417.791 800.571 415.291 Q802.724 412.767 802.724 408.601 L802.724 407.652 L798.487 407.652 M806.983 405.893 L806.983 420.684 L802.724 420.684 L802.724 416.749 Q801.265 419.11 799.089 420.244 Q796.913 421.355 793.765 421.355 Q789.784 421.355 787.423 419.133 Q785.085 416.888 785.085 413.138 Q785.085 408.763 788.001 406.541 Q790.941 404.318 796.751 404.318 L802.724 404.318 L802.724 403.902 Q802.724 400.962 800.779 399.365 Q798.858 397.744 795.363 397.744 Q793.14 397.744 791.034 398.277 Q788.927 398.809 786.983 399.874 L786.983 395.939 Q789.321 395.036 791.52 394.596 Q793.719 394.133 795.802 394.133 Q801.427 394.133 804.205 397.05 Q806.983 399.967 806.983 405.893 Z\" fill=\"#000000\" fill-rule=\"evenodd\" fill-opacity=\"1\" /><path clip-path=\"url(#clip8400)\" d=\"M 0 0 M808.395 394.758 L812.909 394.758 L821.011 416.517 L829.112 394.758 L833.626 394.758 L823.904 420.684 L818.117 420.684 L808.395 394.758 Z\" fill=\"#000000\" fill-rule=\"evenodd\" fill-opacity=\"1\" /><path clip-path=\"url(#clip8400)\" d=\"M 0 0 M855.154 407.42 Q855.154 402.791 853.233 400.244 Q851.334 397.698 847.885 397.698 Q844.459 397.698 842.538 400.244 Q840.64 402.791 840.64 407.42 Q840.64 412.027 842.538 414.573 Q844.459 417.119 847.885 417.119 Q851.334 417.119 853.233 414.573 Q855.154 412.027 855.154 407.42 M859.413 417.467 Q859.413 424.087 856.473 427.304 Q853.533 430.545 847.469 430.545 Q845.223 430.545 843.233 430.198 Q841.242 429.874 839.367 429.179 L839.367 425.036 Q841.242 426.054 843.071 426.541 Q844.899 427.027 846.797 427.027 Q850.987 427.027 853.071 424.828 Q855.154 422.652 855.154 418.23 L855.154 416.124 Q853.834 418.416 851.774 419.55 Q849.714 420.684 846.844 420.684 Q842.075 420.684 839.159 417.05 Q836.242 413.416 836.242 407.42 Q836.242 401.402 839.159 397.768 Q842.075 394.133 846.844 394.133 Q849.714 394.133 851.774 395.268 Q853.834 396.402 855.154 398.693 L855.154 394.758 L859.413 394.758 L859.413 417.467 Z\" fill=\"#000000\" fill-rule=\"evenodd\" fill-opacity=\"1\" /><polyline clip-path=\"url(#clip8400)\" style=\"stroke:#c271d2; stroke-width:4; stroke-opacity:1; fill:none\" points=\"\n",
       "  378.44,463.884 613.64,463.884 \n",
       "  \"/>\n",
       "<path clip-path=\"url(#clip8400)\" d=\"M 0 0 M668.465 462.53 Q671.821 463.248 673.696 465.516 Q675.595 467.785 675.595 471.118 Q675.595 476.234 672.076 479.034 Q668.558 481.835 662.076 481.835 Q659.9 481.835 657.585 481.396 Q655.294 480.979 652.84 480.122 L652.84 475.609 Q654.785 476.743 657.099 477.322 Q659.414 477.9 661.937 477.9 Q666.335 477.9 668.627 476.164 Q670.942 474.428 670.942 471.118 Q670.942 468.062 668.789 466.349 Q666.659 464.613 662.84 464.613 L658.812 464.613 L658.812 460.771 L663.025 460.771 Q666.474 460.771 668.303 459.405 Q670.132 458.016 670.132 455.423 Q670.132 452.761 668.234 451.349 Q666.359 449.914 662.84 449.914 Q660.919 449.914 658.72 450.331 Q656.521 450.748 653.882 451.627 L653.882 447.461 Q656.544 446.72 658.859 446.349 Q661.197 445.979 663.257 445.979 Q668.581 445.979 671.683 448.41 Q674.784 450.817 674.784 454.937 Q674.784 457.808 673.141 459.798 Q671.497 461.766 668.465 462.53 Z\" fill=\"#000000\" fill-rule=\"evenodd\" fill-opacity=\"1\" /><path clip-path=\"url(#clip8400)\" d=\"M 0 0 M690.664 449.683 Q687.053 449.683 685.224 453.248 Q683.419 456.789 683.419 463.919 Q683.419 471.025 685.224 474.59 Q687.053 478.132 690.664 478.132 Q694.298 478.132 696.104 474.59 Q697.932 471.025 697.932 463.919 Q697.932 456.789 696.104 453.248 Q694.298 449.683 690.664 449.683 M690.664 445.979 Q696.474 445.979 699.53 450.586 Q702.608 455.169 702.608 463.919 Q702.608 472.646 699.53 477.252 Q696.474 481.835 690.664 481.835 Q684.854 481.835 681.775 477.252 Q678.72 472.646 678.72 463.919 Q678.72 455.169 681.775 450.586 Q684.854 445.979 690.664 445.979 Z\" fill=\"#000000\" fill-rule=\"evenodd\" fill-opacity=\"1\" /><path clip-path=\"url(#clip8400)\" d=\"M 0 0 M704.923 466.28 L717.4 466.28 L717.4 470.076 L704.923 470.076 L704.923 466.28 Z\" fill=\"#000000\" fill-rule=\"evenodd\" fill-opacity=\"1\" /><path clip-path=\"url(#clip8400)\" d=\"M 0 0 M738.928 459.173 L738.928 445.146 L743.187 445.146 L743.187 481.164 L738.928 481.164 L738.928 477.275 Q737.585 479.59 735.525 480.724 Q733.488 481.835 730.617 481.835 Q725.918 481.835 722.955 478.085 Q720.016 474.335 720.016 468.224 Q720.016 462.113 722.955 458.363 Q725.918 454.613 730.617 454.613 Q733.488 454.613 735.525 455.748 Q737.585 456.859 738.928 459.173 M724.414 468.224 Q724.414 472.923 726.335 475.609 Q728.28 478.271 731.659 478.271 Q735.039 478.271 736.983 475.609 Q738.928 472.923 738.928 468.224 Q738.928 463.525 736.983 460.863 Q735.039 458.178 731.659 458.178 Q728.28 458.178 726.335 460.863 Q724.414 463.525 724.414 468.224 Z\" fill=\"#000000\" fill-rule=\"evenodd\" fill-opacity=\"1\" /><path clip-path=\"url(#clip8400)\" d=\"M 0 0 M759.437 468.132 Q754.275 468.132 752.284 469.312 Q750.293 470.493 750.293 473.34 Q750.293 475.609 751.775 476.951 Q753.279 478.271 755.849 478.271 Q759.39 478.271 761.52 475.771 Q763.673 473.247 763.673 469.081 L763.673 468.132 L759.437 468.132 M767.932 466.373 L767.932 481.164 L763.673 481.164 L763.673 477.229 Q762.215 479.59 760.039 480.724 Q757.863 481.835 754.715 481.835 Q750.733 481.835 748.372 479.613 Q746.034 477.368 746.034 473.618 Q746.034 469.243 748.951 467.021 Q751.891 464.798 757.701 464.798 L763.673 464.798 L763.673 464.382 Q763.673 461.442 761.728 459.845 Q759.807 458.224 756.312 458.224 Q754.09 458.224 751.983 458.757 Q749.877 459.289 747.932 460.354 L747.932 456.419 Q750.27 455.516 752.469 455.076 Q754.668 454.613 756.752 454.613 Q762.377 454.613 765.154 457.53 Q767.932 460.447 767.932 466.373 Z\" fill=\"#000000\" fill-rule=\"evenodd\" fill-opacity=\"1\" /><path clip-path=\"url(#clip8400)\" d=\"M 0 0 M783.187 483.571 Q781.381 488.201 779.668 489.613 Q777.955 491.025 775.085 491.025 L771.682 491.025 L771.682 487.46 L774.182 487.46 Q775.941 487.46 776.914 486.627 Q777.886 485.794 779.066 482.692 L779.83 480.747 L769.344 455.238 L773.858 455.238 L781.96 475.516 L790.062 455.238 L794.575 455.238 L783.187 483.571 Z\" fill=\"#000000\" fill-rule=\"evenodd\" fill-opacity=\"1\" /><path clip-path=\"url(#clip8400)\" d=\"M 0 0 M825.895 468.132 Q820.733 468.132 818.742 469.312 Q816.751 470.493 816.751 473.34 Q816.751 475.609 818.233 476.951 Q819.737 478.271 822.307 478.271 Q825.848 478.271 827.978 475.771 Q830.131 473.247 830.131 469.081 L830.131 468.132 L825.895 468.132 M834.39 466.373 L834.39 481.164 L830.131 481.164 L830.131 477.229 Q828.673 479.59 826.497 480.724 Q824.321 481.835 821.173 481.835 Q817.191 481.835 814.83 479.613 Q812.492 477.368 812.492 473.618 Q812.492 469.243 815.409 467.021 Q818.348 464.798 824.159 464.798 L830.131 464.798 L830.131 464.382 Q830.131 461.442 828.186 459.845 Q826.265 458.224 822.77 458.224 Q820.548 458.224 818.441 458.757 Q816.335 459.289 814.39 460.354 L814.39 456.419 Q816.728 455.516 818.927 455.076 Q821.126 454.613 823.21 454.613 Q828.835 454.613 831.612 457.53 Q834.39 460.447 834.39 466.373 Z\" fill=\"#000000\" fill-rule=\"evenodd\" fill-opacity=\"1\" /><path clip-path=\"url(#clip8400)\" d=\"M 0 0 M835.802 455.238 L840.316 455.238 L848.418 476.997 L856.52 455.238 L861.033 455.238 L851.311 481.164 L845.524 481.164 L835.802 455.238 Z\" fill=\"#000000\" fill-rule=\"evenodd\" fill-opacity=\"1\" /><path clip-path=\"url(#clip8400)\" d=\"M 0 0 M882.561 467.9 Q882.561 463.271 880.64 460.724 Q878.742 458.178 875.293 458.178 Q871.867 458.178 869.945 460.724 Q868.047 463.271 868.047 467.9 Q868.047 472.507 869.945 475.053 Q871.867 477.599 875.293 477.599 Q878.742 477.599 880.64 475.053 Q882.561 472.507 882.561 467.9 M886.82 477.947 Q886.82 484.567 883.881 487.784 Q880.941 491.025 874.876 491.025 Q872.631 491.025 870.64 490.678 Q868.649 490.354 866.774 489.659 L866.774 485.516 Q868.649 486.534 870.478 487.021 Q872.307 487.507 874.205 487.507 Q878.394 487.507 880.478 485.308 Q882.561 483.132 882.561 478.71 L882.561 476.604 Q881.242 478.896 879.181 480.03 Q877.121 481.164 874.251 481.164 Q869.482 481.164 866.566 477.53 Q863.649 473.896 863.649 467.9 Q863.649 461.882 866.566 458.248 Q869.482 454.613 874.251 454.613 Q877.121 454.613 879.181 455.748 Q881.242 456.882 882.561 459.173 L882.561 455.238 L886.82 455.238 L886.82 477.947 Z\" fill=\"#000000\" fill-rule=\"evenodd\" fill-opacity=\"1\" /><polyline clip-path=\"url(#clip8400)\" style=\"stroke:#ac8d18; stroke-width:4; stroke-opacity:1; fill:none\" points=\"\n",
       "  378.44,524.364 613.64,524.364 \n",
       "  \"/>\n",
       "<path clip-path=\"url(#clip8400)\" d=\"M 0 0 M655.062 540.927 L655.062 536.667 Q656.822 537.501 658.627 537.94 Q660.433 538.38 662.169 538.38 Q666.798 538.38 669.229 535.278 Q671.683 532.153 672.03 525.811 Q670.687 527.802 668.627 528.866 Q666.567 529.931 664.067 529.931 Q658.882 529.931 655.849 526.806 Q652.84 523.658 652.84 518.218 Q652.84 512.894 655.988 509.677 Q659.136 506.459 664.368 506.459 Q670.363 506.459 673.511 511.066 Q676.683 515.649 676.683 524.399 Q676.683 532.57 672.794 537.454 Q668.928 542.315 662.377 542.315 Q660.618 542.315 658.812 541.968 Q657.007 541.621 655.062 540.927 M664.368 526.274 Q667.516 526.274 669.345 524.121 Q671.196 521.968 671.196 518.218 Q671.196 514.491 669.345 512.339 Q667.516 510.163 664.368 510.163 Q661.22 510.163 659.368 512.339 Q657.539 514.491 657.539 518.218 Q657.539 521.968 659.368 524.121 Q661.22 526.274 664.368 526.274 Z\" fill=\"#000000\" fill-rule=\"evenodd\" fill-opacity=\"1\" /><path clip-path=\"url(#clip8400)\" d=\"M 0 0 M691.752 510.163 Q688.141 510.163 686.312 513.728 Q684.507 517.269 684.507 524.399 Q684.507 531.505 686.312 535.07 Q688.141 538.612 691.752 538.612 Q695.386 538.612 697.192 535.07 Q699.02 531.505 699.02 524.399 Q699.02 517.269 697.192 513.728 Q695.386 510.163 691.752 510.163 M691.752 506.459 Q697.562 506.459 700.618 511.066 Q703.696 515.649 703.696 524.399 Q703.696 533.126 700.618 537.732 Q697.562 542.315 691.752 542.315 Q685.942 542.315 682.863 537.732 Q679.808 533.126 679.808 524.399 Q679.808 515.649 682.863 511.066 Q685.942 506.459 691.752 506.459 Z\" fill=\"#000000\" fill-rule=\"evenodd\" fill-opacity=\"1\" /><path clip-path=\"url(#clip8400)\" d=\"M 0 0 M706.011 526.76 L718.488 526.76 L718.488 530.556 L706.011 530.556 L706.011 526.76 Z\" fill=\"#000000\" fill-rule=\"evenodd\" fill-opacity=\"1\" /><path clip-path=\"url(#clip8400)\" d=\"M 0 0 M740.016 519.653 L740.016 505.626 L744.275 505.626 L744.275 541.644 L740.016 541.644 L740.016 537.755 Q738.673 540.07 736.613 541.204 Q734.576 542.315 731.705 542.315 Q727.006 542.315 724.043 538.565 Q721.104 534.815 721.104 528.704 Q721.104 522.593 724.043 518.843 Q727.006 515.093 731.705 515.093 Q734.576 515.093 736.613 516.228 Q738.673 517.339 740.016 519.653 M725.502 528.704 Q725.502 533.403 727.423 536.089 Q729.367 538.751 732.747 538.751 Q736.127 538.751 738.071 536.089 Q740.016 533.403 740.016 528.704 Q740.016 524.005 738.071 521.343 Q736.127 518.658 732.747 518.658 Q729.367 518.658 727.423 521.343 Q725.502 524.005 725.502 528.704 Z\" fill=\"#000000\" fill-rule=\"evenodd\" fill-opacity=\"1\" /><path clip-path=\"url(#clip8400)\" d=\"M 0 0 M760.525 528.612 Q755.363 528.612 753.372 529.792 Q751.381 530.973 751.381 533.82 Q751.381 536.089 752.863 537.431 Q754.367 538.751 756.937 538.751 Q760.478 538.751 762.608 536.251 Q764.761 533.727 764.761 529.561 L764.761 528.612 L760.525 528.612 M769.02 526.853 L769.02 541.644 L764.761 541.644 L764.761 537.709 Q763.302 540.07 761.127 541.204 Q758.951 542.315 755.803 542.315 Q751.821 542.315 749.46 540.093 Q747.122 537.848 747.122 534.098 Q747.122 529.723 750.039 527.501 Q752.978 525.278 758.789 525.278 L764.761 525.278 L764.761 524.862 Q764.761 521.922 762.816 520.325 Q760.895 518.704 757.4 518.704 Q755.178 518.704 753.071 519.237 Q750.965 519.769 749.02 520.834 L749.02 516.899 Q751.358 515.996 753.557 515.556 Q755.756 515.093 757.84 515.093 Q763.465 515.093 766.242 518.01 Q769.02 520.927 769.02 526.853 Z\" fill=\"#000000\" fill-rule=\"evenodd\" fill-opacity=\"1\" /><path clip-path=\"url(#clip8400)\" d=\"M 0 0 M784.275 544.051 Q782.469 548.681 780.756 550.093 Q779.043 551.505 776.173 551.505 L772.77 551.505 L772.77 547.94 L775.27 547.94 Q777.029 547.94 778.001 547.107 Q778.974 546.274 780.154 543.172 L780.918 541.227 L770.432 515.718 L774.946 515.718 L783.048 535.996 L791.15 515.718 L795.663 515.718 L784.275 544.051 Z\" fill=\"#000000\" fill-rule=\"evenodd\" fill-opacity=\"1\" /><path clip-path=\"url(#clip8400)\" d=\"M 0 0 M826.983 528.612 Q821.821 528.612 819.83 529.792 Q817.839 530.973 817.839 533.82 Q817.839 536.089 819.321 537.431 Q820.825 538.751 823.395 538.751 Q826.936 538.751 829.066 536.251 Q831.219 533.727 831.219 529.561 L831.219 528.612 L826.983 528.612 M835.478 526.853 L835.478 541.644 L831.219 541.644 L831.219 537.709 Q829.76 540.07 827.585 541.204 Q825.409 542.315 822.261 542.315 Q818.279 542.315 815.918 540.093 Q813.58 537.848 813.58 534.098 Q813.58 529.723 816.497 527.501 Q819.436 525.278 825.247 525.278 L831.219 525.278 L831.219 524.862 Q831.219 521.922 829.274 520.325 Q827.353 518.704 823.858 518.704 Q821.636 518.704 819.529 519.237 Q817.423 519.769 815.478 520.834 L815.478 516.899 Q817.816 515.996 820.015 515.556 Q822.214 515.093 824.298 515.093 Q829.923 515.093 832.7 518.01 Q835.478 520.927 835.478 526.853 Z\" fill=\"#000000\" fill-rule=\"evenodd\" fill-opacity=\"1\" /><path clip-path=\"url(#clip8400)\" d=\"M 0 0 M836.89 515.718 L841.404 515.718 L849.506 537.477 L857.608 515.718 L862.121 515.718 L852.399 541.644 L846.612 541.644 L836.89 515.718 Z\" fill=\"#000000\" fill-rule=\"evenodd\" fill-opacity=\"1\" /><path clip-path=\"url(#clip8400)\" d=\"M 0 0 M883.649 528.38 Q883.649 523.751 881.728 521.204 Q879.83 518.658 876.381 518.658 Q872.955 518.658 871.033 521.204 Q869.135 523.751 869.135 528.38 Q869.135 532.987 871.033 535.533 Q872.955 538.079 876.381 538.079 Q879.83 538.079 881.728 535.533 Q883.649 532.987 883.649 528.38 M887.908 538.427 Q887.908 545.047 884.969 548.264 Q882.029 551.505 875.964 551.505 Q873.719 551.505 871.728 551.158 Q869.737 550.834 867.862 550.139 L867.862 545.996 Q869.737 547.014 871.566 547.501 Q873.394 547.987 875.293 547.987 Q879.482 547.987 881.566 545.788 Q883.649 543.612 883.649 539.19 L883.649 537.084 Q882.33 539.376 880.269 540.51 Q878.209 541.644 875.339 541.644 Q870.57 541.644 867.654 538.01 Q864.737 534.376 864.737 528.38 Q864.737 522.362 867.654 518.728 Q870.57 515.093 875.339 515.093 Q878.209 515.093 880.269 516.228 Q882.33 517.362 883.649 519.653 L883.649 515.718 L887.908 515.718 L887.908 538.427 Z\" fill=\"#000000\" fill-rule=\"evenodd\" fill-opacity=\"1\" /><polyline clip-path=\"url(#clip8400)\" style=\"stroke:#00a9ad; stroke-width:4; stroke-opacity:1; fill:none\" points=\"\n",
       "  378.44,584.844 613.64,584.844 \n",
       "  \"/>\n",
       "<path clip-path=\"url(#clip8400)\" d=\"M 0 0 M653.511 598.189 L661.15 598.189 L661.15 571.823 L652.84 573.49 L652.84 569.231 L661.104 567.564 L665.78 567.564 L665.78 598.189 L673.419 598.189 L673.419 602.124 L653.511 602.124 L653.511 598.189 Z\" fill=\"#000000\" fill-rule=\"evenodd\" fill-opacity=\"1\" /><path clip-path=\"url(#clip8400)\" d=\"M 0 0 M688.488 585.712 Q685.155 585.712 683.233 587.495 Q681.335 589.277 681.335 592.402 Q681.335 595.527 683.233 597.309 Q685.155 599.092 688.488 599.092 Q691.821 599.092 693.743 597.309 Q695.664 595.504 695.664 592.402 Q695.664 589.277 693.743 587.495 Q691.845 585.712 688.488 585.712 M683.812 583.721 Q680.803 582.981 679.113 580.921 Q677.446 578.86 677.446 575.897 Q677.446 571.754 680.386 569.346 Q683.349 566.939 688.488 566.939 Q693.65 566.939 696.59 569.346 Q699.53 571.754 699.53 575.897 Q699.53 578.86 697.84 580.921 Q696.173 582.981 693.187 583.721 Q696.567 584.508 698.442 586.8 Q700.34 589.092 700.34 592.402 Q700.34 597.425 697.261 600.11 Q694.206 602.795 688.488 602.795 Q682.771 602.795 679.692 600.11 Q676.636 597.425 676.636 592.402 Q676.636 589.092 678.534 586.8 Q680.433 584.508 683.812 583.721 M682.099 576.337 Q682.099 579.022 683.766 580.527 Q685.456 582.032 688.488 582.032 Q691.497 582.032 693.187 580.527 Q694.9 579.022 694.9 576.337 Q694.9 573.652 693.187 572.147 Q691.497 570.643 688.488 570.643 Q685.456 570.643 683.766 572.147 Q682.099 573.652 682.099 576.337 Z\" fill=\"#000000\" fill-rule=\"evenodd\" fill-opacity=\"1\" /><path clip-path=\"url(#clip8400)\" d=\"M 0 0 M715.409 570.643 Q711.798 570.643 709.969 574.208 Q708.164 577.749 708.164 584.879 Q708.164 591.985 709.969 595.55 Q711.798 599.092 715.409 599.092 Q719.043 599.092 720.849 595.55 Q722.678 591.985 722.678 584.879 Q722.678 577.749 720.849 574.208 Q719.043 570.643 715.409 570.643 M715.409 566.939 Q721.219 566.939 724.275 571.546 Q727.354 576.129 727.354 584.879 Q727.354 593.606 724.275 598.212 Q721.219 602.795 715.409 602.795 Q709.599 602.795 706.52 598.212 Q703.465 593.606 703.465 584.879 Q703.465 576.129 706.52 571.546 Q709.599 566.939 715.409 566.939 Z\" fill=\"#000000\" fill-rule=\"evenodd\" fill-opacity=\"1\" /><path clip-path=\"url(#clip8400)\" d=\"M 0 0 M729.668 587.24 L742.145 587.24 L742.145 591.036 L729.668 591.036 L729.668 587.24 Z\" fill=\"#000000\" fill-rule=\"evenodd\" fill-opacity=\"1\" /><path clip-path=\"url(#clip8400)\" d=\"M 0 0 M763.673 580.133 L763.673 566.106 L767.932 566.106 L767.932 602.124 L763.673 602.124 L763.673 598.235 Q762.33 600.55 760.27 601.684 Q758.233 602.795 755.363 602.795 Q750.664 602.795 747.701 599.045 Q744.761 595.295 744.761 589.184 Q744.761 583.073 747.701 579.323 Q750.664 575.573 755.363 575.573 Q758.233 575.573 760.27 576.708 Q762.33 577.819 763.673 580.133 M749.159 589.184 Q749.159 593.883 751.08 596.569 Q753.025 599.231 756.404 599.231 Q759.784 599.231 761.728 596.569 Q763.673 593.883 763.673 589.184 Q763.673 584.485 761.728 581.823 Q759.784 579.138 756.404 579.138 Q753.025 579.138 751.08 581.823 Q749.159 584.485 749.159 589.184 Z\" fill=\"#000000\" fill-rule=\"evenodd\" fill-opacity=\"1\" /><path clip-path=\"url(#clip8400)\" d=\"M 0 0 M784.182 589.092 Q779.02 589.092 777.029 590.272 Q775.039 591.453 775.039 594.3 Q775.039 596.569 776.52 597.911 Q778.025 599.231 780.594 599.231 Q784.136 599.231 786.265 596.731 Q788.418 594.207 788.418 590.041 L788.418 589.092 L784.182 589.092 M792.677 587.333 L792.677 602.124 L788.418 602.124 L788.418 598.189 Q786.96 600.55 784.784 601.684 Q782.608 602.795 779.46 602.795 Q775.478 602.795 773.117 600.573 Q770.779 598.328 770.779 594.578 Q770.779 590.203 773.696 587.981 Q776.636 585.758 782.446 585.758 L788.418 585.758 L788.418 585.342 Q788.418 582.402 786.474 580.805 Q784.552 579.184 781.057 579.184 Q778.835 579.184 776.728 579.717 Q774.622 580.249 772.677 581.314 L772.677 577.379 Q775.015 576.476 777.214 576.036 Q779.414 575.573 781.497 575.573 Q787.122 575.573 789.9 578.49 Q792.677 581.407 792.677 587.333 Z\" fill=\"#000000\" fill-rule=\"evenodd\" fill-opacity=\"1\" /><path clip-path=\"url(#clip8400)\" d=\"M 0 0 M807.932 604.531 Q806.126 609.161 804.413 610.573 Q802.7 611.985 799.83 611.985 L796.427 611.985 L796.427 608.42 L798.927 608.42 Q800.687 608.42 801.659 607.587 Q802.631 606.754 803.812 603.652 L804.575 601.707 L794.089 576.198 L798.603 576.198 L806.705 596.476 L814.807 576.198 L819.321 576.198 L807.932 604.531 Z\" fill=\"#000000\" fill-rule=\"evenodd\" fill-opacity=\"1\" /><path clip-path=\"url(#clip8400)\" d=\"M 0 0 M850.64 589.092 Q845.478 589.092 843.487 590.272 Q841.497 591.453 841.497 594.3 Q841.497 596.569 842.978 597.911 Q844.483 599.231 847.052 599.231 Q850.594 599.231 852.723 596.731 Q854.876 594.207 854.876 590.041 L854.876 589.092 L850.64 589.092 M859.135 587.333 L859.135 602.124 L854.876 602.124 L854.876 598.189 Q853.418 600.55 851.242 601.684 Q849.066 602.795 845.918 602.795 Q841.936 602.795 839.575 600.573 Q837.237 598.328 837.237 594.578 Q837.237 590.203 840.154 587.981 Q843.094 585.758 848.904 585.758 L854.876 585.758 L854.876 585.342 Q854.876 582.402 852.932 580.805 Q851.01 579.184 847.515 579.184 Q845.293 579.184 843.186 579.717 Q841.08 580.249 839.135 581.314 L839.135 577.379 Q841.473 576.476 843.672 576.036 Q845.871 575.573 847.955 575.573 Q853.58 575.573 856.358 578.49 Q859.135 581.407 859.135 587.333 Z\" fill=\"#000000\" fill-rule=\"evenodd\" fill-opacity=\"1\" /><path clip-path=\"url(#clip8400)\" d=\"M 0 0 M860.547 576.198 L865.061 576.198 L873.163 597.957 L881.265 576.198 L885.779 576.198 L876.057 602.124 L870.27 602.124 L860.547 576.198 Z\" fill=\"#000000\" fill-rule=\"evenodd\" fill-opacity=\"1\" /><path clip-path=\"url(#clip8400)\" d=\"M 0 0 M907.306 588.86 Q907.306 584.231 905.385 581.684 Q903.487 579.138 900.038 579.138 Q896.612 579.138 894.691 581.684 Q892.793 584.231 892.793 588.86 Q892.793 593.467 894.691 596.013 Q896.612 598.559 900.038 598.559 Q903.487 598.559 905.385 596.013 Q907.306 593.467 907.306 588.86 M911.566 598.907 Q911.566 605.527 908.626 608.744 Q905.686 611.985 899.621 611.985 Q897.376 611.985 895.385 611.638 Q893.394 611.314 891.519 610.619 L891.519 606.476 Q893.394 607.494 895.223 607.981 Q897.052 608.467 898.95 608.467 Q903.14 608.467 905.223 606.268 Q907.306 604.092 907.306 599.67 L907.306 597.564 Q905.987 599.856 903.927 600.99 Q901.867 602.124 898.996 602.124 Q894.228 602.124 891.311 598.49 Q888.394 594.856 888.394 588.86 Q888.394 582.842 891.311 579.208 Q894.228 575.573 898.996 575.573 Q901.867 575.573 903.927 576.708 Q905.987 577.842 907.306 580.133 L907.306 576.198 L911.566 576.198 L911.566 598.907 Z\" fill=\"#000000\" fill-rule=\"evenodd\" fill-opacity=\"1\" /></svg>\n"
      ]
     },
     "execution_count": 13,
     "metadata": {},
     "output_type": "execute_result"
    }
   ],
   "source": [
    "using Plots\n",
    "count = size(df)[1]\n",
    "days_back = 90\n",
    "rows = count-days_back:count\n",
    "dates = format_dates( df[rows,2] , \"m/d/yy\")\n",
    "\n",
    "gr()\n",
    "plot(   dates, # x-axis: dates\n",
    "        [  df[rows,3] position_column[rows] averages005[rows] averages030[rows] averages090[rows] averages180[rows] \n",
    "        ], # y-axis\n",
    "    label    = \n",
    "        [ columns[3] \"position\" \"5-day avg\" \"30-day avg\" \"90-day avg\" \"180-day avg\"  \"\"  ],\n",
    "    legend   =:topleft, \n",
    "              # :right, :left, :top, :bottom, :inside, :best, :legend, :topright, :topleft, :bottomleft, :bottomright\n",
    "    xlabel   = \"time\",\n",
    "    ylabel   = \"indicators\",\n",
    "    size     = (980, 400), # width, height\n",
    "    layout = (1, 1) # number of graphs: vertically, horizontally\n",
    "    )"
   ]
  },
  {
   "cell_type": "markdown",
   "metadata": {},
   "source": [
    "[back to top](#Table-of-Contents)\n",
    "<hr/>\n",
    "\n",
    "## Save DataFrame to CSV file"
   ]
  },
  {
   "cell_type": "markdown",
   "metadata": {},
   "source": [
    "### Save: Describe before saving"
   ]
  },
  {
   "cell_type": "code",
   "execution_count": 14,
   "metadata": {
    "ExecuteTime": {
     "end_time": "2020-11-29T13:48:47.229000-05:00",
     "start_time": "2020-11-29T18:47:39.068Z"
    }
   },
   "outputs": [
    {
     "data": {
      "text/html": [
       "<table class=\"data-frame\"><thead><tr><th></th><th>variable</th><th>mean</th><th>min</th><th>median</th><th>max</th><th>nunique</th><th>nmissing</th><th>eltype</th></tr><tr><th></th><th>Symbol</th><th>Union…</th><th>Any</th><th>Union…</th><th>Any</th><th>Union…</th><th>Nothing</th><th>DataType</th></tr></thead><tbody><p>9 rows × 8 columns</p><tr><th>1</th><td>Day</td><td>731213.0</td><td>724670</td><td>731213.0</td><td>737756</td><td></td><td></td><td>Int64</td></tr><tr><th>2</th><td>Date</td><td></td><td>1985-01-29</td><td></td><td>2020-11-27</td><td>13087</td><td></td><td>Date</td></tr><tr><th>3</th><td>Value</td><td>-47.8534</td><td>-128.0</td><td>-49.0</td><td>127.0</td><td></td><td></td><td>Float64</td></tr><tr><th>4</th><td>Original</td><td>10323.8</td><td>1251.21</td><td>10202.9</td><td>30116.5</td><td></td><td></td><td>Float64</td></tr><tr><th>5</th><td>Avg005</td><td>-47.8532</td><td>-128.0</td><td>-49.0</td><td>125.6</td><td></td><td></td><td>Float64</td></tr><tr><th>6</th><td>Avg030</td><td>-47.8465</td><td>-128.0</td><td>-48.67</td><td>118.93</td><td></td><td></td><td>Float64</td></tr><tr><th>7</th><td>Avg090</td><td>-47.807</td><td>-127.97</td><td>-48.14</td><td>115.23</td><td></td><td></td><td>Float64</td></tr><tr><th>8</th><td>Avg180</td><td>-47.7318</td><td>-127.66</td><td>-48.33</td><td>108.24</td><td></td><td></td><td>Float64</td></tr><tr><th>9</th><td>Avg365</td><td>-47.4789</td><td>-127.01</td><td>-48.37</td><td>100.78</td><td></td><td></td><td>Float64</td></tr></tbody></table>"
      ],
      "text/latex": [
       "\\begin{tabular}{r|cccccccc}\n",
       "\t& variable & mean & min & median & max & nunique & nmissing & eltype\\\\\n",
       "\t\\hline\n",
       "\t& Symbol & Union… & Any & Union… & Any & Union… & Nothing & DataType\\\\\n",
       "\t\\hline\n",
       "\t1 & Day & 731213.0 & 724670 & 731213.0 & 737756 &  &  & Int64 \\\\\n",
       "\t2 & Date &  & 1985-01-29 &  & 2020-11-27 & 13087 &  & Date \\\\\n",
       "\t3 & Value & -47.8534 & -128.0 & -49.0 & 127.0 &  &  & Float64 \\\\\n",
       "\t4 & Original & 10323.8 & 1251.21 & 10202.9 & 30116.5 &  &  & Float64 \\\\\n",
       "\t5 & Avg005 & -47.8532 & -128.0 & -49.0 & 125.6 &  &  & Float64 \\\\\n",
       "\t6 & Avg030 & -47.8465 & -128.0 & -48.67 & 118.93 &  &  & Float64 \\\\\n",
       "\t7 & Avg090 & -47.807 & -127.97 & -48.14 & 115.23 &  &  & Float64 \\\\\n",
       "\t8 & Avg180 & -47.7318 & -127.66 & -48.33 & 108.24 &  &  & Float64 \\\\\n",
       "\t9 & Avg365 & -47.4789 & -127.01 & -48.37 & 100.78 &  &  & Float64 \\\\\n",
       "\\end{tabular}\n"
      ],
      "text/plain": [
       "9×8 DataFrame. Omitted printing of 2 columns\n",
       "│ Row │ variable │ mean     │ min        │ median   │ max        │ nunique │\n",
       "│     │ \u001b[90mSymbol\u001b[39m   │ \u001b[90mUnion…\u001b[39m   │ \u001b[90mAny\u001b[39m        │ \u001b[90mUnion…\u001b[39m   │ \u001b[90mAny\u001b[39m        │ \u001b[90mUnion…\u001b[39m  │\n",
       "├─────┼──────────┼──────────┼────────────┼──────────┼────────────┼─────────┤\n",
       "│ 1   │ Day      │ 731213.0 │ 724670     │ 731213.0 │ 737756     │         │\n",
       "│ 2   │ Date     │          │ 1985-01-29 │          │ 2020-11-27 │ 13087   │\n",
       "│ 3   │ Value    │ -47.8534 │ -128.0     │ -49.0    │ 127.0      │         │\n",
       "│ 4   │ Original │ 10323.8  │ 1251.21    │ 10202.9  │ 30116.5    │         │\n",
       "│ 5   │ Avg005   │ -47.8532 │ -128.0     │ -49.0    │ 125.6      │         │\n",
       "│ 6   │ Avg030   │ -47.8465 │ -128.0     │ -48.67   │ 118.93     │         │\n",
       "│ 7   │ Avg090   │ -47.807  │ -127.97    │ -48.14   │ 115.23     │         │\n",
       "│ 8   │ Avg180   │ -47.7318 │ -127.66    │ -48.33   │ 108.24     │         │\n",
       "│ 9   │ Avg365   │ -47.4789 │ -127.01    │ -48.37   │ 100.78     │         │"
      ]
     },
     "execution_count": 14,
     "metadata": {},
     "output_type": "execute_result"
    }
   ],
   "source": [
    "using Statistics\n",
    "describe(df)"
   ]
  },
  {
   "cell_type": "markdown",
   "metadata": {},
   "source": [
    "### Write as CSV file"
   ]
  },
  {
   "cell_type": "code",
   "execution_count": 17,
   "metadata": {
    "ExecuteTime": {
     "end_time": "2020-11-29T13:57:33.005000-05:00",
     "start_time": "2020-11-29T18:57:32.894Z"
    }
   },
   "outputs": [],
   "source": [
    "save_dataset(df, dataset_file_name, \"../Data/processed/\" );"
   ]
  },
  {
   "cell_type": "code",
   "execution_count": null,
   "metadata": {},
   "outputs": [],
   "source": []
  }
 ],
 "metadata": {
  "kernelspec": {
   "display_name": "Julia 1.4.2",
   "language": "julia",
   "name": "julia-1.4"
  },
  "language_info": {
   "file_extension": ".jl",
   "mimetype": "application/julia",
   "name": "julia",
   "version": "1.4.2"
  },
  "toc": {
   "base_numbering": 1,
   "nav_menu": {},
   "number_sections": true,
   "sideBar": true,
   "skip_h1_title": true,
   "title_cell": "Table of Contents",
   "title_sidebar": "Contents",
   "toc_cell": true,
   "toc_position": {
    "height": "calc(100% - 180px)",
    "left": "10px",
    "top": "150px",
    "width": "271px"
   },
   "toc_section_display": true,
   "toc_window_display": true
  },
  "varInspector": {
   "cols": {
    "lenName": 16,
    "lenType": 16,
    "lenVar": 40
   },
   "kernels_config": {
    "python": {
     "delete_cmd_postfix": "",
     "delete_cmd_prefix": "del ",
     "library": "var_list.py",
     "varRefreshCmd": "print(var_dic_list())"
    },
    "r": {
     "delete_cmd_postfix": ") ",
     "delete_cmd_prefix": "rm(",
     "library": "var_list.r",
     "varRefreshCmd": "cat(var_dic_list()) "
    }
   },
   "types_to_exclude": [
    "module",
    "function",
    "builtin_function_or_method",
    "instance",
    "_Feature"
   ],
   "window_display": false
  }
 },
 "nbformat": 4,
 "nbformat_minor": 4
}
