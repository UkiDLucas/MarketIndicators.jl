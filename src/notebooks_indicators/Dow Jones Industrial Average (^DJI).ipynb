{
 "cells": [
  {
   "cell_type": "markdown",
   "metadata": {},
   "source": [
    "# Dow Jones Industrial Average (^DJI)\n",
    "\n",
    "\n",
    "Source\n",
    "- [Yahoo finance ^DJIA](https://finance.yahoo.com/quote/%5EDJI/history?period1=475804800&period2=1601251200&interval=1d&filter=history&frequency=1d)"
   ]
  },
  {
   "cell_type": "markdown",
   "metadata": {
    "toc": true
   },
   "source": [
    "<h1>Table of Contents<span class=\"tocSkip\"></span></h1>\n",
    "<div class=\"toc\"><ul class=\"toc-item\"><li><span><a href=\"#Set-Up\" data-toc-modified-id=\"Set-Up-1\"><span class=\"toc-item-num\">1&nbsp;&nbsp;</span>Set Up</a></span></li><li><span><a href=\"#Read-Data\" data-toc-modified-id=\"Read-Data-2\"><span class=\"toc-item-num\">2&nbsp;&nbsp;</span>Read Data</a></span><ul class=\"toc-item\"><li><span><a href=\"#Sample-the-data\" data-toc-modified-id=\"Sample-the-data-2.1\"><span class=\"toc-item-num\">2.1&nbsp;&nbsp;</span>Sample the data</a></span></li></ul></li><li><span><a href=\"#Rata-Die\" data-toc-modified-id=\"Rata-Die-3\"><span class=\"toc-item-num\">3&nbsp;&nbsp;</span>Rata Die</a></span><ul class=\"toc-item\"><li><span><a href=\"#Draw-Plots\" data-toc-modified-id=\"Draw-Plots-3.1\"><span class=\"toc-item-num\">3.1&nbsp;&nbsp;</span>Draw Plots</a></span></li><li><span><a href=\"#set-the-original-value-column\" data-toc-modified-id=\"set-the-original-value-column-3.2\"><span class=\"toc-item-num\">3.2&nbsp;&nbsp;</span>set the original value column</a></span></li></ul></li><li><span><a href=\"#Extract-right-columns\" data-toc-modified-id=\"Extract-right-columns-4\"><span class=\"toc-item-num\">4&nbsp;&nbsp;</span>Extract right columns</a></span></li><li><span><a href=\"#Quantize-the-values\" data-toc-modified-id=\"Quantize-the-values-5\"><span class=\"toc-item-num\">5&nbsp;&nbsp;</span>Quantize the values</a></span></li><li><span><a href=\"#Fill-in-Empty-Dates\" data-toc-modified-id=\"Fill-in-Empty-Dates-6\"><span class=\"toc-item-num\">6&nbsp;&nbsp;</span>Fill in Empty Dates</a></span><ul class=\"toc-item\"><li><span><a href=\"#Fill:-Sort\" data-toc-modified-id=\"Fill:-Sort-6.1\"><span class=\"toc-item-num\">6.1&nbsp;&nbsp;</span>Fill: Sort</a></span></li><li><span><a href=\"#Fill:-Draw-Plots\" data-toc-modified-id=\"Fill:-Draw-Plots-6.2\"><span class=\"toc-item-num\">6.2&nbsp;&nbsp;</span>Fill: Draw Plots</a></span></li></ul></li><li><span><a href=\"#Averages\" data-toc-modified-id=\"Averages-7\"><span class=\"toc-item-num\">7&nbsp;&nbsp;</span>Averages</a></span><ul class=\"toc-item\"><li><span><a href=\"#Averages:-Draw-Plots\" data-toc-modified-id=\"Averages:-Draw-Plots-7.1\"><span class=\"toc-item-num\">7.1&nbsp;&nbsp;</span>Averages: Draw Plots</a></span></li><li><span><a href=\"#Insert-averages-to-DataFrame\" data-toc-modified-id=\"Insert-averages-to-DataFrame-7.2\"><span class=\"toc-item-num\">7.2&nbsp;&nbsp;</span>Insert averages to DataFrame</a></span></li></ul></li><li><span><a href=\"#Position-on-given-Date\" data-toc-modified-id=\"Position-on-given-Date-8\"><span class=\"toc-item-num\">8&nbsp;&nbsp;</span>Position on given Date</a></span><ul class=\"toc-item\"><li><span><a href=\"#Position:-Draw-Plots\" data-toc-modified-id=\"Position:-Draw-Plots-8.1\"><span class=\"toc-item-num\">8.1&nbsp;&nbsp;</span>Position: Draw Plots</a></span></li></ul></li><li><span><a href=\"#Save-DataFrame-to-CSV-file\" data-toc-modified-id=\"Save-DataFrame-to-CSV-file-9\"><span class=\"toc-item-num\">9&nbsp;&nbsp;</span>Save DataFrame to CSV file</a></span><ul class=\"toc-item\"><li><span><a href=\"#Save:-Describe-before-saving\" data-toc-modified-id=\"Save:-Describe-before-saving-9.1\"><span class=\"toc-item-num\">9.1&nbsp;&nbsp;</span>Save: Describe before saving</a></span></li><li><span><a href=\"#Write-as-CSV-file\" data-toc-modified-id=\"Write-as-CSV-file-9.2\"><span class=\"toc-item-num\">9.2&nbsp;&nbsp;</span>Write as CSV file</a></span></li></ul></li></ul></div>"
   ]
  },
  {
   "cell_type": "markdown",
   "metadata": {},
   "source": [
    "## Set Up"
   ]
  },
  {
   "cell_type": "code",
   "execution_count": 17,
   "metadata": {
    "ExecuteTime": {
     "end_time": "2020-11-30T19:45:36.434000-05:00",
     "start_time": "2020-12-01T00:45:00.367Z"
    }
   },
   "outputs": [
    {
     "name": "stdout",
     "output_type": "stream",
     "text": [
      "Run this file from the directory where this file is located.\n"
     ]
    },
    {
     "data": {
      "text/plain": [
       "\"/Users/uki/REPOS/MarketIndicators.jl/src/notebooks_indicators\""
      ]
     },
     "execution_count": 17,
     "metadata": {},
     "output_type": "execute_result"
    }
   ],
   "source": [
    "println(\"Run this file from the directory where this file is located.\")\n",
    "pwd()"
   ]
  },
  {
   "cell_type": "code",
   "execution_count": 2,
   "metadata": {
    "ExecuteTime": {
     "end_time": "2020-11-30T19:44:34.412000-05:00",
     "start_time": "2020-12-01T00:44:28.017Z"
    }
   },
   "outputs": [
    {
     "name": "stdout",
     "output_type": "stream",
     "text": [
      "\n"
     ]
    }
   ],
   "source": [
    "dataset_file_name = \"^DJI.csv\"\n",
    "path_data_original = \"../Data/original/\"\n",
    "date_original_format = \"yyyy-mm-dd\"\n",
    "original_value_column = 4\n",
    "last_position_change = \"2020-09-30\"\n",
    "\n",
    "# notebooks are in one folder higher\n",
    "#include(\"../MarketIndicators.jl\") \n",
    "include(\"../Julia/functions.jl\")"
   ]
  },
  {
   "cell_type": "markdown",
   "metadata": {},
   "source": [
    "## Read Data"
   ]
  },
  {
   "cell_type": "code",
   "execution_count": 3,
   "metadata": {
    "ExecuteTime": {
     "end_time": "2020-11-30T19:44:49.325000-05:00",
     "start_time": "2020-12-01T00:44:28.023Z"
    }
   },
   "outputs": [
    {
     "name": "stdout",
     "output_type": "stream",
     "text": [
      "../Data/original/^DJI.csv\n",
      "data dimentions: (9034, 7)\n"
     ]
    }
   ],
   "source": [
    "#data = available_datasets() # uncomment to see all available datasets\n",
    "\n",
    "df = fetch_dataset(dataset_file_name, date_original_format , path_data_original )\n",
    "record_count = size(df)[1]\n",
    "println(\"data dimentions: \", size(df) )\n",
    "\n",
    "#using Statistics\n",
    "#describe(df)"
   ]
  },
  {
   "cell_type": "markdown",
   "metadata": {},
   "source": [
    "### Sample the data"
   ]
  },
  {
   "cell_type": "code",
   "execution_count": 4,
   "metadata": {
    "ExecuteTime": {
     "end_time": "2020-11-30T19:44:50.580000-05:00",
     "start_time": "2020-12-01T00:44:28.027Z"
    }
   },
   "outputs": [
    {
     "name": "stdout",
     "output_type": "stream",
     "text": [
      "6×7 DataFrame\n",
      "│ Row │ Date       │ Open    │ High    │ Low     │ Close   │ Adj Close │\n",
      "│     │ \u001b[90mDate\u001b[39m       │ \u001b[90mFloat64\u001b[39m │ \u001b[90mFloat64\u001b[39m │ \u001b[90mFloat64\u001b[39m │ \u001b[90mFloat64\u001b[39m │ \u001b[90mFloat64\u001b[39m   │\n",
      "├─────┼────────────┼─────────┼─────────┼─────────┼─────────┼───────────┤\n",
      "│ 1   │ 1985-01-29 │ 1277.72 │ 1295.49 │ 1266.89 │ 1292.62 │ 1292.62   │\n",
      "│ 2   │ 1991-01-15 │ 2485.64 │ 2504.46 │ 2470.05 │ 2490.59 │ 2490.59   │\n",
      "│ 3   │ 1996-12-27 │ 6543.6  │ 6576.28 │ 6537.46 │ 6560.91 │ 6560.91   │\n",
      "│ 4   │ 2002-12-23 │ 8511.39 │ 8554.04 │ 8462.64 │ 8493.29 │ 8493.29   │\n",
      "│ 5   │ 2008-12-16 │ 8565.65 │ 8958.79 │ 8565.65 │ 8924.14 │ 8924.14   │\n",
      "│ 6   │ 2014-12-10 │ 17798.0 │ 17798.0 │ 17508.1 │ 17533.2 │ 17533.2   │\n",
      "\n",
      "│ Row │ Volume    │\n",
      "│     │ \u001b[90mInt64\u001b[39m     │\n",
      "├─────┼───────────┤\n",
      "│ 1   │ 13560000  │\n",
      "│ 2   │ 11710000  │\n",
      "│ 3   │ 20860000  │\n",
      "│ 4   │ 184910000 │\n",
      "│ 5   │ 337190000 │\n",
      "│ 6   │ 115100000 │\n",
      " Dataset dimentions: (9034, 7)\n",
      "\n",
      " variable columns:\n",
      "1 Date\n",
      "2 Open\n",
      "3 High\n",
      "4 Low\n",
      "5 Close\n",
      "6 Adj Close\n",
      "7 Volume\n",
      "\n"
     ]
    }
   ],
   "source": [
    "columns = preview_data(df) # uncomment to see the data\n",
    "println()"
   ]
  },
  {
   "cell_type": "markdown",
   "metadata": {},
   "source": [
    "## Rata Die"
   ]
  },
  {
   "cell_type": "code",
   "execution_count": 5,
   "metadata": {
    "ExecuteTime": {
     "end_time": "2020-11-30T19:44:50.798000-05:00",
     "start_time": "2020-12-01T00:44:28.031Z"
    }
   },
   "outputs": [
    {
     "name": "stdout",
     "output_type": "stream",
     "text": [
      "\n"
     ]
    }
   ],
   "source": [
    "col_ind = 1\n",
    "insertcols!(df, col_ind, :Rata_Die => zeros(Int64, record_count); makeunique = true )\n",
    "\n",
    "update_rata_die!(df, 1, 2)\n",
    "#first(df, 6)\n",
    "\n",
    "#columns = preview_data(df, 3)\n",
    "println()"
   ]
  },
  {
   "cell_type": "markdown",
   "metadata": {},
   "source": [
    "### Draw Plots"
   ]
  },
  {
   "cell_type": "raw",
   "metadata": {},
   "source": [
    "using Plots\n",
    "\n",
    "record_count = size(df)[1]\n",
    "rows = 1:record_count\n",
    "dates = format_dates( df[rows,2] , \"m/d/yy\")\n",
    "\n",
    "gr()\n",
    "plot(          dates, # x-axis: dates\n",
    "               [  df[rows,4]    ], # y-axis\n",
    "    label    = [  columns[4]   \"\" ]  ,\n",
    "    legend   =:topleft, \n",
    "              # :right, :left, :top, :bottom, :inside, :best, :legend, :topright, :topleft, :bottomleft, :bottomright\n",
    "    xlabel   = \"time\",\n",
    "    ylabel   = \"indicators\",\n",
    "    size     = (980, 400), # width, height\n",
    "    layout = (1, 1) # number of graphs: vertically, horizontally\n",
    "    )"
   ]
  },
  {
   "cell_type": "markdown",
   "metadata": {},
   "source": [
    "### set the original value column\n",
    "- go back to the top \"Setup\" section and choose which column should be the \"Orignal value\"\n",
    "- re-run the notebook"
   ]
  },
  {
   "cell_type": "markdown",
   "metadata": {},
   "source": [
    "## Extract right columns"
   ]
  },
  {
   "cell_type": "code",
   "execution_count": 6,
   "metadata": {
    "ExecuteTime": {
     "end_time": "2020-11-30T19:44:50.955000-05:00",
     "start_time": "2020-12-01T00:44:28.070Z"
    }
   },
   "outputs": [
    {
     "name": "stdout",
     "output_type": "stream",
     "text": [
      "6×4 DataFrame\n",
      "│ Row │ Day    │ Date       │ Value   │ Original │\n",
      "│     │ \u001b[90mInt64\u001b[39m  │ \u001b[90mDate\u001b[39m       │ \u001b[90mFloat64\u001b[39m │ \u001b[90mFloat64\u001b[39m  │\n",
      "├─────┼────────┼────────────┼─────────┼──────────┤\n",
      "│ 1   │ 724670 │ 1985-01-29 │ 1295.49 │ 1295.49  │\n",
      "│ 2   │ 726847 │ 1991-01-15 │ 2504.46 │ 2504.46  │\n",
      "│ 3   │ 729020 │ 1996-12-27 │ 6576.28 │ 6576.28  │\n",
      "│ 4   │ 731207 │ 2002-12-23 │ 8554.04 │ 8554.04  │\n",
      "│ 5   │ 733392 │ 2008-12-16 │ 8958.79 │ 8958.79  │\n",
      "│ 6   │ 735577 │ 2014-12-10 │ 17798.0 │ 17798.0  │\n",
      " Dataset dimentions: (9034, 4)\n",
      "\n",
      " variable columns:\n",
      "1 Day\n",
      "2 Date\n",
      "3 Value\n",
      "4 Original\n",
      "\n"
     ]
    }
   ],
   "source": [
    "using DataFrames\n",
    "df = DataFrame( Day      = df[:,1],                     # 1 \n",
    "                Date     = df[:,2],                     # 2 \n",
    "                Value    = df[:,original_value_column], # 3 \n",
    "                Original = df[:,original_value_column]  # 4 \n",
    "               )\n",
    "\n",
    "columns = preview_data(df)\n",
    "println()"
   ]
  },
  {
   "cell_type": "markdown",
   "metadata": {},
   "source": [
    "## Quantize the values\n",
    "\n",
    "- Quantization is a process of noramalizing the data\n",
    "- I have decided to normalize the data for Int8 as I might try use Google Coral NPU\n",
    "- minimum = -128.0\n",
    "- maximum = 127.0"
   ]
  },
  {
   "cell_type": "code",
   "execution_count": 7,
   "metadata": {
    "ExecuteTime": {
     "end_time": "2020-11-30T19:44:51.162000-05:00",
     "start_time": "2020-12-01T00:44:28.074Z"
    }
   },
   "outputs": [
    {
     "name": "stdout",
     "output_type": "stream",
     "text": [
      "bias for 0 value: -0.04334650841850143\n",
      "Normalization was performend using formula y=(((x-min)/(max-min))*255)-128 \n",
      "minimum = 1251.209961\n",
      "maximum = 30116.509766\n",
      "Save these values for later to run model preditions\n",
      "6×4 DataFrame\n",
      "│ Row │ Day    │ Date       │ Value   │ Original │\n",
      "│     │ \u001b[90mInt64\u001b[39m  │ \u001b[90mDate\u001b[39m       │ \u001b[90mFloat64\u001b[39m │ \u001b[90mFloat64\u001b[39m  │\n",
      "├─────┼────────┼────────────┼─────────┼──────────┤\n",
      "│ 1   │ 724670 │ 1985-01-29 │ -128.0  │ 1295.49  │\n",
      "│ 2   │ 726847 │ 1991-01-15 │ -117.0  │ 2504.46  │\n",
      "│ 3   │ 729020 │ 1996-12-27 │ -81.0   │ 6576.28  │\n",
      "│ 4   │ 731207 │ 2002-12-23 │ -63.0   │ 8554.04  │\n",
      "│ 5   │ 733392 │ 2008-12-16 │ -60.0   │ 8958.79  │\n",
      "│ 6   │ 735577 │ 2014-12-10 │ 18.0    │ 17798.0  │\n",
      " Dataset dimentions: (9034, 4)\n",
      "\n",
      " variable columns:\n",
      "1 Day\n",
      "2 Date\n",
      "3 Value\n",
      "4 Original\n",
      "\n"
     ]
    }
   ],
   "source": [
    "data_original = df[:, 4] # keep original for display comparison later\n",
    "\n",
    "quantize_column!(df, 3)\n",
    "\n",
    "columns = preview_data(df)\n",
    "println()"
   ]
  },
  {
   "cell_type": "raw",
   "metadata": {},
   "source": [
    "using Plots\n",
    "\n",
    "count = size(df)[1]\n",
    "rows = 1:count\n",
    "dates = format_dates( df[rows,2] , \"m/d/yy\")\n",
    "\n",
    "gr()\n",
    "plot(          dates, # x-axis: dates\n",
    "               [  df[rows,3]    ], # y-axis\n",
    "    label    = [  columns[3] \"\"   ]  ,\n",
    "    legend   =:topleft, \n",
    "              # :right, :left, :top, :bottom, :inside, :best, :legend, :topright, :topleft, :bottomleft, :bottomright\n",
    "    xlabel   = \"time\",\n",
    "    ylabel   = \"indicators\",\n",
    "    size     = (980, 400), # width, height\n",
    "    layout = (1, 1) # number of graphs: vertically, horizontally\n",
    "    )"
   ]
  },
  {
   "cell_type": "markdown",
   "metadata": {},
   "source": [
    "## Fill in Empty Dates"
   ]
  },
  {
   "cell_type": "code",
   "execution_count": 8,
   "metadata": {
    "ExecuteTime": {
     "end_time": "2020-11-30T19:44:53.790000-05:00",
     "start_time": "2020-12-01T00:44:28.098Z"
    }
   },
   "outputs": [
    {
     "data": {
      "text/html": [
       "<table class=\"data-frame\"><thead><tr><th></th><th>Day</th><th>Date</th><th>Value</th><th>Original</th></tr><tr><th></th><th>Int64</th><th>Date</th><th>Float64</th><th>Float64</th></tr></thead><tbody><p>13,090 rows × 4 columns</p><tr><th>1</th><td>724670</td><td>1985-01-29</td><td>-128.0</td><td>1295.49</td></tr><tr><th>2</th><td>724671</td><td>1985-01-30</td><td>-128.0</td><td>1305.1</td></tr><tr><th>3</th><td>724672</td><td>1985-01-31</td><td>-128.0</td><td>1293.4</td></tr><tr><th>4</th><td>724673</td><td>1985-02-01</td><td>-128.0</td><td>1286.11</td></tr><tr><th>5</th><td>724676</td><td>1985-02-04</td><td>-128.0</td><td>1294.94</td></tr><tr><th>6</th><td>724677</td><td>1985-02-05</td><td>-128.0</td><td>1301.13</td></tr><tr><th>7</th><td>724678</td><td>1985-02-06</td><td>-128.0</td><td>1294.5</td></tr><tr><th>8</th><td>724679</td><td>1985-02-07</td><td>-128.0</td><td>1297.04</td></tr><tr><th>9</th><td>724680</td><td>1985-02-08</td><td>-128.0</td><td>1297.15</td></tr><tr><th>10</th><td>724683</td><td>1985-02-11</td><td>-128.0</td><td>1291.74</td></tr><tr><th>11</th><td>724684</td><td>1985-02-12</td><td>-128.0</td><td>1283.13</td></tr><tr><th>12</th><td>724685</td><td>1985-02-13</td><td>-128.0</td><td>1304.66</td></tr><tr><th>13</th><td>724686</td><td>1985-02-14</td><td>-128.0</td><td>1307.53</td></tr><tr><th>14</th><td>724687</td><td>1985-02-15</td><td>-128.0</td><td>1296.27</td></tr><tr><th>15</th><td>724691</td><td>1985-02-19</td><td>-128.0</td><td>1287.43</td></tr><tr><th>16</th><td>724692</td><td>1985-02-20</td><td>-128.0</td><td>1292.51</td></tr><tr><th>17</th><td>724693</td><td>1985-02-21</td><td>-128.0</td><td>1287.1</td></tr><tr><th>18</th><td>724694</td><td>1985-02-22</td><td>-128.0</td><td>1286.55</td></tr><tr><th>19</th><td>724697</td><td>1985-02-25</td><td>-128.0</td><td>1283.13</td></tr><tr><th>20</th><td>724698</td><td>1985-02-26</td><td>-128.0</td><td>1293.18</td></tr><tr><th>21</th><td>724699</td><td>1985-02-27</td><td>-128.0</td><td>1295.27</td></tr><tr><th>22</th><td>724700</td><td>1985-02-28</td><td>-128.0</td><td>1288.32</td></tr><tr><th>23</th><td>724701</td><td>1985-03-01</td><td>-127.0</td><td>1309.96</td></tr><tr><th>24</th><td>724704</td><td>1985-03-04</td><td>-128.0</td><td>1304.55</td></tr><tr><th>25</th><td>724705</td><td>1985-03-05</td><td>-128.0</td><td>1300.02</td></tr><tr><th>26</th><td>724706</td><td>1985-03-06</td><td>-128.0</td><td>1296.93</td></tr><tr><th>27</th><td>724707</td><td>1985-03-07</td><td>-128.0</td><td>1283.24</td></tr><tr><th>28</th><td>724708</td><td>1985-03-08</td><td>-128.0</td><td>1280.81</td></tr><tr><th>29</th><td>724711</td><td>1985-03-11</td><td>-128.0</td><td>1277.05</td></tr><tr><th>30</th><td>724712</td><td>1985-03-12</td><td>-128.0</td><td>1279.48</td></tr><tr><th>&vellip;</th><td>&vellip;</td><td>&vellip;</td><td>&vellip;</td><td>&vellip;</td></tr></tbody></table>"
      ],
      "text/latex": [
       "\\begin{tabular}{r|cccc}\n",
       "\t& Day & Date & Value & Original\\\\\n",
       "\t\\hline\n",
       "\t& Int64 & Date & Float64 & Float64\\\\\n",
       "\t\\hline\n",
       "\t1 & 724670 & 1985-01-29 & -128.0 & 1295.49 \\\\\n",
       "\t2 & 724671 & 1985-01-30 & -128.0 & 1305.1 \\\\\n",
       "\t3 & 724672 & 1985-01-31 & -128.0 & 1293.4 \\\\\n",
       "\t4 & 724673 & 1985-02-01 & -128.0 & 1286.11 \\\\\n",
       "\t5 & 724676 & 1985-02-04 & -128.0 & 1294.94 \\\\\n",
       "\t6 & 724677 & 1985-02-05 & -128.0 & 1301.13 \\\\\n",
       "\t7 & 724678 & 1985-02-06 & -128.0 & 1294.5 \\\\\n",
       "\t8 & 724679 & 1985-02-07 & -128.0 & 1297.04 \\\\\n",
       "\t9 & 724680 & 1985-02-08 & -128.0 & 1297.15 \\\\\n",
       "\t10 & 724683 & 1985-02-11 & -128.0 & 1291.74 \\\\\n",
       "\t11 & 724684 & 1985-02-12 & -128.0 & 1283.13 \\\\\n",
       "\t12 & 724685 & 1985-02-13 & -128.0 & 1304.66 \\\\\n",
       "\t13 & 724686 & 1985-02-14 & -128.0 & 1307.53 \\\\\n",
       "\t14 & 724687 & 1985-02-15 & -128.0 & 1296.27 \\\\\n",
       "\t15 & 724691 & 1985-02-19 & -128.0 & 1287.43 \\\\\n",
       "\t16 & 724692 & 1985-02-20 & -128.0 & 1292.51 \\\\\n",
       "\t17 & 724693 & 1985-02-21 & -128.0 & 1287.1 \\\\\n",
       "\t18 & 724694 & 1985-02-22 & -128.0 & 1286.55 \\\\\n",
       "\t19 & 724697 & 1985-02-25 & -128.0 & 1283.13 \\\\\n",
       "\t20 & 724698 & 1985-02-26 & -128.0 & 1293.18 \\\\\n",
       "\t21 & 724699 & 1985-02-27 & -128.0 & 1295.27 \\\\\n",
       "\t22 & 724700 & 1985-02-28 & -128.0 & 1288.32 \\\\\n",
       "\t23 & 724701 & 1985-03-01 & -127.0 & 1309.96 \\\\\n",
       "\t24 & 724704 & 1985-03-04 & -128.0 & 1304.55 \\\\\n",
       "\t25 & 724705 & 1985-03-05 & -128.0 & 1300.02 \\\\\n",
       "\t26 & 724706 & 1985-03-06 & -128.0 & 1296.93 \\\\\n",
       "\t27 & 724707 & 1985-03-07 & -128.0 & 1283.24 \\\\\n",
       "\t28 & 724708 & 1985-03-08 & -128.0 & 1280.81 \\\\\n",
       "\t29 & 724711 & 1985-03-11 & -128.0 & 1277.05 \\\\\n",
       "\t30 & 724712 & 1985-03-12 & -128.0 & 1279.48 \\\\\n",
       "\t$\\dots$ & $\\dots$ & $\\dots$ & $\\dots$ & $\\dots$ \\\\\n",
       "\\end{tabular}\n"
      ],
      "text/plain": [
       "13090×4 DataFrame\n",
       "│ Row   │ Day    │ Date       │ Value   │ Original │\n",
       "│       │ \u001b[90mInt64\u001b[39m  │ \u001b[90mDate\u001b[39m       │ \u001b[90mFloat64\u001b[39m │ \u001b[90mFloat64\u001b[39m  │\n",
       "├───────┼────────┼────────────┼─────────┼──────────┤\n",
       "│ 1     │ 724670 │ 1985-01-29 │ -128.0  │ 1295.49  │\n",
       "│ 2     │ 724671 │ 1985-01-30 │ -128.0  │ 1305.1   │\n",
       "│ 3     │ 724672 │ 1985-01-31 │ -128.0  │ 1293.4   │\n",
       "│ 4     │ 724673 │ 1985-02-01 │ -128.0  │ 1286.11  │\n",
       "│ 5     │ 724676 │ 1985-02-04 │ -128.0  │ 1294.94  │\n",
       "│ 6     │ 724677 │ 1985-02-05 │ -128.0  │ 1301.13  │\n",
       "│ 7     │ 724678 │ 1985-02-06 │ -128.0  │ 1294.5   │\n",
       "│ 8     │ 724679 │ 1985-02-07 │ -128.0  │ 1297.04  │\n",
       "│ 9     │ 724680 │ 1985-02-08 │ -128.0  │ 1297.15  │\n",
       "│ 10    │ 724683 │ 1985-02-11 │ -128.0  │ 1291.74  │\n",
       "⋮\n",
       "│ 13080 │ 737729 │ 2020-10-31 │ 96.0    │ 26639.2  │\n",
       "│ 13081 │ 737730 │ 2020-11-01 │ 96.0    │ 26639.2  │\n",
       "│ 13082 │ 737736 │ 2020-11-07 │ 112.0   │ 28432.0  │\n",
       "│ 13083 │ 737737 │ 2020-11-08 │ 112.0   │ 28432.0  │\n",
       "│ 13084 │ 737743 │ 2020-11-14 │ 122.0   │ 29559.2  │\n",
       "│ 13085 │ 737744 │ 2020-11-15 │ 122.0   │ 29559.2  │\n",
       "│ 13086 │ 737750 │ 2020-11-21 │ 121.0   │ 29469.9  │\n",
       "│ 13087 │ 737751 │ 2020-11-22 │ 121.0   │ 29469.9  │\n",
       "│ 13088 │ 737755 │ 2020-11-26 │ 126.0   │ 30058.9  │\n",
       "│ 13089 │ 737757 │ 2020-11-28 │ 126.0   │ 30015.1  │\n",
       "│ 13090 │ 737758 │ 2020-11-29 │ 126.0   │ 30015.1  │"
      ]
     },
     "execution_count": 8,
     "metadata": {},
     "output_type": "execute_result"
    }
   ],
   "source": [
    "populate_missing_dates!(df)"
   ]
  },
  {
   "cell_type": "markdown",
   "metadata": {},
   "source": [
    "### Fill: Sort"
   ]
  },
  {
   "cell_type": "code",
   "execution_count": 9,
   "metadata": {
    "ExecuteTime": {
     "end_time": "2020-11-30T19:44:54.350000-05:00",
     "start_time": "2020-12-01T00:44:28.101Z"
    }
   },
   "outputs": [
    {
     "name": "stdout",
     "output_type": "stream",
     "text": [
      "\n"
     ]
    }
   ],
   "source": [
    "df = sort(df, [:Day]);\n",
    "count = size(df)[1]\n",
    "first(df, 6)\n",
    "# columns = preview_data(df)\n",
    "println()"
   ]
  },
  {
   "cell_type": "markdown",
   "metadata": {},
   "source": [
    "### Fill: Draw Plots\n",
    "- if the indicator is updated only preiodically (bi-weekly, monthly, quarterly) the the graph will appear blocky"
   ]
  },
  {
   "cell_type": "raw",
   "metadata": {},
   "source": [
    "using Plots\n",
    "count = size(df)[1]\n",
    "rows = 1:count\n",
    "dates = format_dates( df[rows,2] , \"m/d/yy\")\n",
    "\n",
    "gr()\n",
    "plot(          dates, # x-axis: dates\n",
    "               [  df[rows,3]    ], # y-axis\n",
    "    label    = [ columns[3]    \"\"  ],\n",
    "    legend   =:topleft, \n",
    "              # :right, :left, :top, :bottom, :inside, :best, :legend, :topright, :topleft, :bottomleft, :bottomright\n",
    "    xlabel   = \"time\",\n",
    "    ylabel   = \"indicators\",\n",
    "    size     = (980, 400), # width, height\n",
    "    layout = (1, 1) # number of graphs: vertically, horizontally\n",
    "    )"
   ]
  },
  {
   "cell_type": "markdown",
   "metadata": {},
   "source": [
    "## Averages"
   ]
  },
  {
   "cell_type": "code",
   "execution_count": 10,
   "metadata": {
    "ExecuteTime": {
     "end_time": "2020-11-30T19:44:54.469000-05:00",
     "start_time": "2020-12-01T00:44:28.123Z"
    }
   },
   "outputs": [
    {
     "name": "stdout",
     "output_type": "stream",
     "text": [
      "\n"
     ]
    }
   ],
   "source": [
    "column_to_average = 3\n",
    "averages005 = calculate_average(df, 5,   column_to_average )\n",
    "averages030 = calculate_average(df, 30,  column_to_average )\n",
    "averages090 = calculate_average(df, 90,  column_to_average )\n",
    "averages180 = calculate_average(df, 180, column_to_average )\n",
    "averages365 = calculate_average(df, 365, column_to_average )\n",
    "println()"
   ]
  },
  {
   "cell_type": "markdown",
   "metadata": {},
   "source": [
    "### Averages: Draw Plots"
   ]
  },
  {
   "cell_type": "code",
   "execution_count": 11,
   "metadata": {
    "ExecuteTime": {
     "end_time": "2020-11-30T19:45:27.580000-05:00",
     "start_time": "2020-12-01T00:44:28.127Z"
    }
   },
   "outputs": [
    {
     "data": {
      "image/svg+xml": [
       "<?xml version=\"1.0\" encoding=\"utf-8\"?>\n",
       "<svg xmlns=\"http://www.w3.org/2000/svg\" xmlns:xlink=\"http://www.w3.org/1999/xlink\" width=\"980\" height=\"400\" viewBox=\"0 0 3920 1600\">\n",
       "<defs>\n",
       "  <clipPath id=\"clip9600\">\n",
       "    <rect x=\"0\" y=\"0\" width=\"3920\" height=\"1600\"/>\n",
       "  </clipPath>\n",
       "</defs>\n",
       "<path clip-path=\"url(#clip9600)\" d=\"\n",
       "M0 1600 L3920 1600 L3920 0 L0 0  Z\n",
       "  \" fill=\"#ffffff\" fill-rule=\"evenodd\" fill-opacity=\"1\"/>\n",
       "<defs>\n",
       "  <clipPath id=\"clip9601\">\n",
       "    <rect x=\"784\" y=\"0\" width=\"2745\" height=\"1600\"/>\n",
       "  </clipPath>\n",
       "</defs>\n",
       "<path clip-path=\"url(#clip9600)\" d=\"\n",
       "M224.866 1423.18 L3872.76 1423.18 L3872.76 47.2441 L224.866 47.2441  Z\n",
       "  \" fill=\"#ffffff\" fill-rule=\"evenodd\" fill-opacity=\"1\"/>\n",
       "<defs>\n",
       "  <clipPath id=\"clip9602\">\n",
       "    <rect x=\"224\" y=\"47\" width=\"3649\" height=\"1377\"/>\n",
       "  </clipPath>\n",
       "</defs>\n",
       "<polyline clip-path=\"url(#clip9602)\" style=\"stroke:#000000; stroke-width:2; stroke-opacity:0.1; fill:none\" points=\"\n",
       "  328.108,1423.18 328.108,47.2441 \n",
       "  \"/>\n",
       "<polyline clip-path=\"url(#clip9602)\" style=\"stroke:#000000; stroke-width:2; stroke-opacity:0.1; fill:none\" points=\"\n",
       "  573.25,1423.18 573.25,47.2441 \n",
       "  \"/>\n",
       "<polyline clip-path=\"url(#clip9602)\" style=\"stroke:#000000; stroke-width:2; stroke-opacity:0.1; fill:none\" points=\"\n",
       "  820.748,1423.18 820.748,47.2441 \n",
       "  \"/>\n",
       "<polyline clip-path=\"url(#clip9602)\" style=\"stroke:#000000; stroke-width:2; stroke-opacity:0.1; fill:none\" points=\"\n",
       "  1065.89,1423.18 1065.89,47.2441 \n",
       "  \"/>\n",
       "<polyline clip-path=\"url(#clip9602)\" style=\"stroke:#000000; stroke-width:2; stroke-opacity:0.1; fill:none\" points=\"\n",
       "  1311.03,1423.18 1311.03,47.2441 \n",
       "  \"/>\n",
       "<polyline clip-path=\"url(#clip9602)\" style=\"stroke:#000000; stroke-width:2; stroke-opacity:0.1; fill:none\" points=\"\n",
       "  1556.17,1423.18 1556.17,47.2441 \n",
       "  \"/>\n",
       "<polyline clip-path=\"url(#clip9602)\" style=\"stroke:#000000; stroke-width:2; stroke-opacity:0.1; fill:none\" points=\"\n",
       "  1803.67,1423.18 1803.67,47.2441 \n",
       "  \"/>\n",
       "<polyline clip-path=\"url(#clip9602)\" style=\"stroke:#000000; stroke-width:2; stroke-opacity:0.1; fill:none\" points=\"\n",
       "  2048.81,1423.18 2048.81,47.2441 \n",
       "  \"/>\n",
       "<polyline clip-path=\"url(#clip9602)\" style=\"stroke:#000000; stroke-width:2; stroke-opacity:0.1; fill:none\" points=\"\n",
       "  2293.95,1423.18 2293.95,47.2441 \n",
       "  \"/>\n",
       "<polyline clip-path=\"url(#clip9602)\" style=\"stroke:#000000; stroke-width:2; stroke-opacity:0.1; fill:none\" points=\"\n",
       "  2541.45,1423.18 2541.45,47.2441 \n",
       "  \"/>\n",
       "<polyline clip-path=\"url(#clip9602)\" style=\"stroke:#000000; stroke-width:2; stroke-opacity:0.1; fill:none\" points=\"\n",
       "  2786.59,1423.18 2786.59,47.2441 \n",
       "  \"/>\n",
       "<polyline clip-path=\"url(#clip9602)\" style=\"stroke:#000000; stroke-width:2; stroke-opacity:0.1; fill:none\" points=\"\n",
       "  3031.73,1423.18 3031.73,47.2441 \n",
       "  \"/>\n",
       "<polyline clip-path=\"url(#clip9602)\" style=\"stroke:#000000; stroke-width:2; stroke-opacity:0.1; fill:none\" points=\"\n",
       "  3276.87,1423.18 3276.87,47.2441 \n",
       "  \"/>\n",
       "<polyline clip-path=\"url(#clip9602)\" style=\"stroke:#000000; stroke-width:2; stroke-opacity:0.1; fill:none\" points=\"\n",
       "  3524.37,1423.18 3524.37,47.2441 \n",
       "  \"/>\n",
       "<polyline clip-path=\"url(#clip9602)\" style=\"stroke:#000000; stroke-width:2; stroke-opacity:0.1; fill:none\" points=\"\n",
       "  3769.51,1423.18 3769.51,47.2441 \n",
       "  \"/>\n",
       "<polyline clip-path=\"url(#clip9602)\" style=\"stroke:#000000; stroke-width:2; stroke-opacity:0.1; fill:none\" points=\"\n",
       "  224.866,1304.79 3872.76,1304.79 \n",
       "  \"/>\n",
       "<polyline clip-path=\"url(#clip9602)\" style=\"stroke:#000000; stroke-width:2; stroke-opacity:0.1; fill:none\" points=\"\n",
       "  224.866,1006.11 3872.76,1006.11 \n",
       "  \"/>\n",
       "<polyline clip-path=\"url(#clip9602)\" style=\"stroke:#000000; stroke-width:2; stroke-opacity:0.1; fill:none\" points=\"\n",
       "  224.866,707.435 3872.76,707.435 \n",
       "  \"/>\n",
       "<polyline clip-path=\"url(#clip9602)\" style=\"stroke:#000000; stroke-width:2; stroke-opacity:0.1; fill:none\" points=\"\n",
       "  224.866,408.757 3872.76,408.757 \n",
       "  \"/>\n",
       "<polyline clip-path=\"url(#clip9602)\" style=\"stroke:#000000; stroke-width:2; stroke-opacity:0.1; fill:none\" points=\"\n",
       "  224.866,110.08 3872.76,110.08 \n",
       "  \"/>\n",
       "<polyline clip-path=\"url(#clip9600)\" style=\"stroke:#000000; stroke-width:4; stroke-opacity:1; fill:none\" points=\"\n",
       "  224.866,1423.18 3872.76,1423.18 \n",
       "  \"/>\n",
       "<polyline clip-path=\"url(#clip9600)\" style=\"stroke:#000000; stroke-width:4; stroke-opacity:1; fill:none\" points=\"\n",
       "  224.866,1423.18 224.866,47.2441 \n",
       "  \"/>\n",
       "<polyline clip-path=\"url(#clip9600)\" style=\"stroke:#000000; stroke-width:4; stroke-opacity:1; fill:none\" points=\"\n",
       "  328.108,1423.18 328.108,1406.67 \n",
       "  \"/>\n",
       "<polyline clip-path=\"url(#clip9600)\" style=\"stroke:#000000; stroke-width:4; stroke-opacity:1; fill:none\" points=\"\n",
       "  573.25,1423.18 573.25,1406.67 \n",
       "  \"/>\n",
       "<polyline clip-path=\"url(#clip9600)\" style=\"stroke:#000000; stroke-width:4; stroke-opacity:1; fill:none\" points=\"\n",
       "  820.748,1423.18 820.748,1406.67 \n",
       "  \"/>\n",
       "<polyline clip-path=\"url(#clip9600)\" style=\"stroke:#000000; stroke-width:4; stroke-opacity:1; fill:none\" points=\"\n",
       "  1065.89,1423.18 1065.89,1406.67 \n",
       "  \"/>\n",
       "<polyline clip-path=\"url(#clip9600)\" style=\"stroke:#000000; stroke-width:4; stroke-opacity:1; fill:none\" points=\"\n",
       "  1311.03,1423.18 1311.03,1406.67 \n",
       "  \"/>\n",
       "<polyline clip-path=\"url(#clip9600)\" style=\"stroke:#000000; stroke-width:4; stroke-opacity:1; fill:none\" points=\"\n",
       "  1556.17,1423.18 1556.17,1406.67 \n",
       "  \"/>\n",
       "<polyline clip-path=\"url(#clip9600)\" style=\"stroke:#000000; stroke-width:4; stroke-opacity:1; fill:none\" points=\"\n",
       "  1803.67,1423.18 1803.67,1406.67 \n",
       "  \"/>\n",
       "<polyline clip-path=\"url(#clip9600)\" style=\"stroke:#000000; stroke-width:4; stroke-opacity:1; fill:none\" points=\"\n",
       "  2048.81,1423.18 2048.81,1406.67 \n",
       "  \"/>\n",
       "<polyline clip-path=\"url(#clip9600)\" style=\"stroke:#000000; stroke-width:4; stroke-opacity:1; fill:none\" points=\"\n",
       "  2293.95,1423.18 2293.95,1406.67 \n",
       "  \"/>\n",
       "<polyline clip-path=\"url(#clip9600)\" style=\"stroke:#000000; stroke-width:4; stroke-opacity:1; fill:none\" points=\"\n",
       "  2541.45,1423.18 2541.45,1406.67 \n",
       "  \"/>\n",
       "<polyline clip-path=\"url(#clip9600)\" style=\"stroke:#000000; stroke-width:4; stroke-opacity:1; fill:none\" points=\"\n",
       "  2786.59,1423.18 2786.59,1406.67 \n",
       "  \"/>\n",
       "<polyline clip-path=\"url(#clip9600)\" style=\"stroke:#000000; stroke-width:4; stroke-opacity:1; fill:none\" points=\"\n",
       "  3031.73,1423.18 3031.73,1406.67 \n",
       "  \"/>\n",
       "<polyline clip-path=\"url(#clip9600)\" style=\"stroke:#000000; stroke-width:4; stroke-opacity:1; fill:none\" points=\"\n",
       "  3276.87,1423.18 3276.87,1406.67 \n",
       "  \"/>\n",
       "<polyline clip-path=\"url(#clip9600)\" style=\"stroke:#000000; stroke-width:4; stroke-opacity:1; fill:none\" points=\"\n",
       "  3524.37,1423.18 3524.37,1406.67 \n",
       "  \"/>\n",
       "<polyline clip-path=\"url(#clip9600)\" style=\"stroke:#000000; stroke-width:4; stroke-opacity:1; fill:none\" points=\"\n",
       "  3769.51,1423.18 3769.51,1406.67 \n",
       "  \"/>\n",
       "<polyline clip-path=\"url(#clip9600)\" style=\"stroke:#000000; stroke-width:4; stroke-opacity:1; fill:none\" points=\"\n",
       "  224.866,1304.79 268.641,1304.79 \n",
       "  \"/>\n",
       "<polyline clip-path=\"url(#clip9600)\" style=\"stroke:#000000; stroke-width:4; stroke-opacity:1; fill:none\" points=\"\n",
       "  224.866,1006.11 268.641,1006.11 \n",
       "  \"/>\n",
       "<polyline clip-path=\"url(#clip9600)\" style=\"stroke:#000000; stroke-width:4; stroke-opacity:1; fill:none\" points=\"\n",
       "  224.866,707.435 268.641,707.435 \n",
       "  \"/>\n",
       "<polyline clip-path=\"url(#clip9600)\" style=\"stroke:#000000; stroke-width:4; stroke-opacity:1; fill:none\" points=\"\n",
       "  224.866,408.757 268.641,408.757 \n",
       "  \"/>\n",
       "<polyline clip-path=\"url(#clip9600)\" style=\"stroke:#000000; stroke-width:4; stroke-opacity:1; fill:none\" points=\"\n",
       "  224.866,110.08 268.641,110.08 \n",
       "  \"/>\n",
       "<path clip-path=\"url(#clip9600)\" d=\"M 0 0 M250.435 1480.32 L258.074 1480.32 L258.074 1453.95 L249.764 1455.62 L249.764 1451.36 L258.028 1449.69 L262.704 1449.69 L262.704 1480.32 L270.343 1480.32 L270.343 1484.25 L250.435 1484.25 L250.435 1480.32 Z\" fill=\"#000000\" fill-rule=\"evenodd\" fill-opacity=\"1\" /><path clip-path=\"url(#clip9600)\" d=\"M 0 0 M279.44 1480.32 L295.759 1480.32 L295.759 1484.25 L273.815 1484.25 L273.815 1480.32 Q276.477 1477.56 281.06 1472.93 Q285.666 1468.28 286.847 1466.94 Q289.092 1464.41 289.972 1462.68 Q290.875 1460.92 290.875 1459.23 Q290.875 1456.47 288.93 1454.74 Q287.009 1453 283.907 1453 Q281.708 1453 279.254 1453.77 Q276.824 1454.53 274.046 1456.08 L274.046 1451.36 Q276.87 1450.22 279.324 1449.65 Q281.778 1449.07 283.815 1449.07 Q289.185 1449.07 292.379 1451.75 Q295.574 1454.44 295.574 1458.93 Q295.574 1461.06 294.764 1462.98 Q293.977 1464.88 291.87 1467.47 Q291.291 1468.14 288.19 1471.36 Q285.088 1474.55 279.44 1480.32 Z\" fill=\"#000000\" fill-rule=\"evenodd\" fill-opacity=\"1\" /><path clip-path=\"url(#clip9600)\" d=\"M 0 0 M307.796 1449.69 L311.731 1449.69 L299.694 1488.65 L295.759 1488.65 L307.796 1449.69 Z\" fill=\"#000000\" fill-rule=\"evenodd\" fill-opacity=\"1\" /><path clip-path=\"url(#clip9600)\" d=\"M 0 0 M317.611 1480.32 L325.25 1480.32 L325.25 1453.95 L316.939 1455.62 L316.939 1451.36 L325.203 1449.69 L329.879 1449.69 L329.879 1480.32 L337.518 1480.32 L337.518 1484.25 L317.611 1484.25 L317.611 1480.32 Z\" fill=\"#000000\" fill-rule=\"evenodd\" fill-opacity=\"1\" /><path clip-path=\"url(#clip9600)\" d=\"M 0 0 M349.555 1449.69 L353.49 1449.69 L341.453 1488.65 L337.518 1488.65 L349.555 1449.69 Z\" fill=\"#000000\" fill-rule=\"evenodd\" fill-opacity=\"1\" /><path clip-path=\"url(#clip9600)\" d=\"M 0 0 M359.37 1480.32 L367.009 1480.32 L367.009 1453.95 L358.699 1455.62 L358.699 1451.36 L366.962 1449.69 L371.638 1449.69 L371.638 1480.32 L379.277 1480.32 L379.277 1484.25 L359.37 1484.25 L359.37 1480.32 Z\" fill=\"#000000\" fill-rule=\"evenodd\" fill-opacity=\"1\" /><path clip-path=\"url(#clip9600)\" d=\"M 0 0 M394.925 1465.11 Q391.777 1465.11 389.925 1467.26 Q388.097 1469.41 388.097 1473.16 Q388.097 1476.89 389.925 1479.07 Q391.777 1481.22 394.925 1481.22 Q398.073 1481.22 399.902 1479.07 Q401.754 1476.89 401.754 1473.16 Q401.754 1469.41 399.902 1467.26 Q398.073 1465.11 394.925 1465.11 M404.208 1450.46 L404.208 1454.71 Q402.448 1453.88 400.643 1453.44 Q398.86 1453 397.101 1453 Q392.471 1453 390.018 1456.13 Q387.587 1459.25 387.24 1465.57 Q388.606 1463.56 390.666 1462.49 Q392.726 1461.4 395.203 1461.4 Q400.411 1461.4 403.42 1464.58 Q406.453 1467.72 406.453 1473.16 Q406.453 1478.49 403.305 1481.71 Q400.157 1484.92 394.925 1484.92 Q388.93 1484.92 385.759 1480.34 Q382.587 1475.73 382.587 1467.01 Q382.587 1458.81 386.476 1453.95 Q390.365 1449.07 396.916 1449.07 Q398.675 1449.07 400.458 1449.41 Q402.263 1449.76 404.208 1450.46 Z\" fill=\"#000000\" fill-rule=\"evenodd\" fill-opacity=\"1\" /><path clip-path=\"url(#clip9600)\" d=\"M 0 0 M509.674 1465.62 Q513.03 1466.34 514.905 1468.6 Q516.803 1470.87 516.803 1474.21 Q516.803 1479.32 513.285 1482.12 Q509.766 1484.92 503.285 1484.92 Q501.109 1484.92 498.794 1484.48 Q496.502 1484.07 494.049 1483.21 L494.049 1478.7 Q495.993 1479.83 498.308 1480.41 Q500.623 1480.99 503.146 1480.99 Q507.544 1480.99 509.836 1479.25 Q512.15 1477.52 512.15 1474.21 Q512.15 1471.15 509.998 1469.44 Q507.868 1467.7 504.049 1467.7 L500.021 1467.7 L500.021 1463.86 L504.234 1463.86 Q507.683 1463.86 509.512 1462.49 Q511.34 1461.1 511.34 1458.51 Q511.34 1455.85 509.442 1454.44 Q507.567 1453 504.049 1453 Q502.127 1453 499.928 1453.42 Q497.729 1453.84 495.09 1454.71 L495.09 1450.55 Q497.752 1449.81 500.067 1449.44 Q502.405 1449.07 504.465 1449.07 Q509.789 1449.07 512.891 1451.5 Q515.993 1453.9 515.993 1458.03 Q515.993 1460.9 514.349 1462.89 Q512.706 1464.85 509.674 1465.62 Z\" fill=\"#000000\" fill-rule=\"evenodd\" fill-opacity=\"1\" /><path clip-path=\"url(#clip9600)\" d=\"M 0 0 M528.84 1449.69 L532.775 1449.69 L520.738 1488.65 L516.803 1488.65 L528.84 1449.69 Z\" fill=\"#000000\" fill-rule=\"evenodd\" fill-opacity=\"1\" /><path clip-path=\"url(#clip9600)\" d=\"M 0 0 M538.655 1480.32 L546.294 1480.32 L546.294 1453.95 L537.984 1455.62 L537.984 1451.36 L546.247 1449.69 L550.923 1449.69 L550.923 1480.32 L558.562 1480.32 L558.562 1484.25 L538.655 1484.25 L538.655 1480.32 Z\" fill=\"#000000\" fill-rule=\"evenodd\" fill-opacity=\"1\" /><path clip-path=\"url(#clip9600)\" d=\"M 0 0 M563.678 1449.69 L582.034 1449.69 L582.034 1453.63 L567.96 1453.63 L567.96 1462.1 Q568.979 1461.75 569.997 1461.59 Q571.016 1461.4 572.034 1461.4 Q577.821 1461.4 581.201 1464.58 Q584.581 1467.75 584.581 1473.16 Q584.581 1478.74 581.108 1481.84 Q577.636 1484.92 571.317 1484.92 Q569.141 1484.92 566.872 1484.55 Q564.627 1484.18 562.22 1483.44 L562.22 1478.74 Q564.303 1479.88 566.525 1480.43 Q568.747 1480.99 571.224 1480.99 Q575.229 1480.99 577.567 1478.88 Q579.905 1476.78 579.905 1473.16 Q579.905 1469.55 577.567 1467.45 Q575.229 1465.34 571.224 1465.34 Q569.349 1465.34 567.474 1465.76 Q565.622 1466.17 563.678 1467.05 L563.678 1449.69 Z\" fill=\"#000000\" fill-rule=\"evenodd\" fill-opacity=\"1\" /><path clip-path=\"url(#clip9600)\" d=\"M 0 0 M596.618 1449.69 L600.553 1449.69 L588.516 1488.65 L584.581 1488.65 L596.618 1449.69 Z\" fill=\"#000000\" fill-rule=\"evenodd\" fill-opacity=\"1\" /><path clip-path=\"url(#clip9600)\" d=\"M 0 0 M606.432 1480.32 L614.071 1480.32 L614.071 1453.95 L605.761 1455.62 L605.761 1451.36 L614.025 1449.69 L618.701 1449.69 L618.701 1480.32 L626.34 1480.32 L626.34 1484.25 L606.432 1484.25 L606.432 1480.32 Z\" fill=\"#000000\" fill-rule=\"evenodd\" fill-opacity=\"1\" /><path clip-path=\"url(#clip9600)\" d=\"M 0 0 M630.228 1449.69 L652.451 1449.69 L652.451 1451.68 L639.904 1484.25 L635.02 1484.25 L646.826 1453.63 L630.228 1453.63 L630.228 1449.69 Z\" fill=\"#000000\" fill-rule=\"evenodd\" fill-opacity=\"1\" /><path clip-path=\"url(#clip9600)\" d=\"M 0 0 M753.063 1465.11 Q749.915 1465.11 748.063 1467.26 Q746.234 1469.41 746.234 1473.16 Q746.234 1476.89 748.063 1479.07 Q749.915 1481.22 753.063 1481.22 Q756.211 1481.22 758.04 1479.07 Q759.892 1476.89 759.892 1473.16 Q759.892 1469.41 758.04 1467.26 Q756.211 1465.11 753.063 1465.11 M762.345 1450.46 L762.345 1454.71 Q760.586 1453.88 758.781 1453.44 Q756.998 1453 755.239 1453 Q750.609 1453 748.156 1456.13 Q745.725 1459.25 745.378 1465.57 Q746.744 1463.56 748.804 1462.49 Q750.864 1461.4 753.341 1461.4 Q758.549 1461.4 761.558 1464.58 Q764.591 1467.72 764.591 1473.16 Q764.591 1478.49 761.443 1481.71 Q758.295 1484.92 753.063 1484.92 Q747.068 1484.92 743.896 1480.34 Q740.725 1475.73 740.725 1467.01 Q740.725 1458.81 744.614 1453.95 Q748.503 1449.07 755.054 1449.07 Q756.813 1449.07 758.595 1449.41 Q760.401 1449.76 762.345 1450.46 Z\" fill=\"#000000\" fill-rule=\"evenodd\" fill-opacity=\"1\" /><path clip-path=\"url(#clip9600)\" d=\"M 0 0 M776.628 1449.69 L780.563 1449.69 L768.526 1488.65 L764.591 1488.65 L776.628 1449.69 Z\" fill=\"#000000\" fill-rule=\"evenodd\" fill-opacity=\"1\" /><path clip-path=\"url(#clip9600)\" d=\"M 0 0 M789.66 1480.32 L805.979 1480.32 L805.979 1484.25 L784.035 1484.25 L784.035 1480.32 Q786.697 1477.56 791.28 1472.93 Q795.887 1468.28 797.068 1466.94 Q799.313 1464.41 800.192 1462.68 Q801.095 1460.92 801.095 1459.23 Q801.095 1456.47 799.151 1454.74 Q797.23 1453 794.128 1453 Q791.929 1453 789.475 1453.77 Q787.044 1454.53 784.267 1456.08 L784.267 1451.36 Q787.091 1450.22 789.544 1449.65 Q791.998 1449.07 794.035 1449.07 Q799.405 1449.07 802.6 1451.75 Q805.794 1454.44 805.794 1458.93 Q805.794 1461.06 804.984 1462.98 Q804.197 1464.88 802.091 1467.47 Q801.512 1468.14 798.41 1471.36 Q795.308 1474.55 789.66 1480.32 Z\" fill=\"#000000\" fill-rule=\"evenodd\" fill-opacity=\"1\" /><path clip-path=\"url(#clip9600)\" d=\"M 0 0 M821.049 1467.84 Q817.716 1467.84 815.794 1469.62 Q813.896 1471.4 813.896 1474.53 Q813.896 1477.65 815.794 1479.44 Q817.716 1481.22 821.049 1481.22 Q824.382 1481.22 826.303 1479.44 Q828.225 1477.63 828.225 1474.53 Q828.225 1471.4 826.303 1469.62 Q824.405 1467.84 821.049 1467.84 M816.373 1465.85 Q813.364 1465.11 811.674 1463.05 Q810.007 1460.99 810.007 1458.03 Q810.007 1453.88 812.947 1451.47 Q815.91 1449.07 821.049 1449.07 Q826.211 1449.07 829.151 1451.47 Q832.09 1453.88 832.09 1458.03 Q832.09 1460.99 830.401 1463.05 Q828.734 1465.11 825.748 1465.85 Q829.128 1466.64 831.003 1468.93 Q832.901 1471.22 832.901 1474.53 Q832.901 1479.55 829.822 1482.24 Q826.766 1484.92 821.049 1484.92 Q815.331 1484.92 812.253 1482.24 Q809.197 1479.55 809.197 1474.53 Q809.197 1471.22 811.095 1468.93 Q812.993 1466.64 816.373 1465.85 M814.66 1458.46 Q814.66 1461.15 816.327 1462.65 Q818.016 1464.16 821.049 1464.16 Q824.058 1464.16 825.748 1462.65 Q827.461 1461.15 827.461 1458.46 Q827.461 1455.78 825.748 1454.28 Q824.058 1452.77 821.049 1452.77 Q818.016 1452.77 816.327 1454.28 Q814.66 1455.78 814.66 1458.46 Z\" fill=\"#000000\" fill-rule=\"evenodd\" fill-opacity=\"1\" /><path clip-path=\"url(#clip9600)\" d=\"M 0 0 M844.938 1449.69 L848.873 1449.69 L836.836 1488.65 L832.901 1488.65 L844.938 1449.69 Z\" fill=\"#000000\" fill-rule=\"evenodd\" fill-opacity=\"1\" /><path clip-path=\"url(#clip9600)\" d=\"M 0 0 M854.752 1480.32 L862.391 1480.32 L862.391 1453.95 L854.081 1455.62 L854.081 1451.36 L862.345 1449.69 L867.021 1449.69 L867.021 1480.32 L874.66 1480.32 L874.66 1484.25 L854.752 1484.25 L854.752 1480.32 Z\" fill=\"#000000\" fill-rule=\"evenodd\" fill-opacity=\"1\" /><path clip-path=\"url(#clip9600)\" d=\"M 0 0 M878.549 1449.69 L900.771 1449.69 L900.771 1451.68 L888.224 1484.25 L883.34 1484.25 L895.146 1453.63 L878.549 1453.63 L878.549 1449.69 Z\" fill=\"#000000\" fill-rule=\"evenodd\" fill-opacity=\"1\" /><path clip-path=\"url(#clip9600)\" d=\"M 0 0 M974.443 1480.32 L982.082 1480.32 L982.082 1453.95 L973.772 1455.62 L973.772 1451.36 L982.035 1449.69 L986.711 1449.69 L986.711 1480.32 L994.35 1480.32 L994.35 1484.25 L974.443 1484.25 L974.443 1480.32 Z\" fill=\"#000000\" fill-rule=\"evenodd\" fill-opacity=\"1\" /><path clip-path=\"url(#clip9600)\" d=\"M 0 0 M1009.42 1452.77 Q1005.81 1452.77 1003.98 1456.34 Q1002.17 1459.88 1002.17 1467.01 Q1002.17 1474.11 1003.98 1477.68 Q1005.81 1481.22 1009.42 1481.22 Q1013.05 1481.22 1014.86 1477.68 Q1016.69 1474.11 1016.69 1467.01 Q1016.69 1459.88 1014.86 1456.34 Q1013.05 1452.77 1009.42 1452.77 M1009.42 1449.07 Q1015.23 1449.07 1018.29 1453.67 Q1021.36 1458.26 1021.36 1467.01 Q1021.36 1475.73 1018.29 1480.34 Q1015.23 1484.92 1009.42 1484.92 Q1003.61 1484.92 1000.53 1480.34 Q997.475 1475.73 997.475 1467.01 Q997.475 1458.26 1000.53 1453.67 Q1003.61 1449.07 1009.42 1449.07 Z\" fill=\"#000000\" fill-rule=\"evenodd\" fill-opacity=\"1\" /><path clip-path=\"url(#clip9600)\" d=\"M 0 0 M1033.4 1449.69 L1037.34 1449.69 L1025.3 1488.65 L1021.36 1488.65 L1033.4 1449.69 Z\" fill=\"#000000\" fill-rule=\"evenodd\" fill-opacity=\"1\" /><path clip-path=\"url(#clip9600)\" d=\"M 0 0 M1043.22 1480.32 L1050.85 1480.32 L1050.85 1453.95 L1042.54 1455.62 L1042.54 1451.36 L1050.81 1449.69 L1055.48 1449.69 L1055.48 1480.32 L1063.12 1480.32 L1063.12 1484.25 L1043.22 1484.25 L1043.22 1480.32 Z\" fill=\"#000000\" fill-rule=\"evenodd\" fill-opacity=\"1\" /><path clip-path=\"url(#clip9600)\" d=\"M 0 0 M1078.19 1452.77 Q1074.58 1452.77 1072.75 1456.34 Q1070.95 1459.88 1070.95 1467.01 Q1070.95 1474.11 1072.75 1477.68 Q1074.58 1481.22 1078.19 1481.22 Q1081.83 1481.22 1083.63 1477.68 Q1085.46 1474.11 1085.46 1467.01 Q1085.46 1459.88 1083.63 1456.34 Q1081.83 1452.77 1078.19 1452.77 M1078.19 1449.07 Q1084 1449.07 1087.06 1453.67 Q1090.14 1458.26 1090.14 1467.01 Q1090.14 1475.73 1087.06 1480.34 Q1084 1484.92 1078.19 1484.92 Q1072.38 1484.92 1069.3 1480.34 Q1066.25 1475.73 1066.25 1467.01 Q1066.25 1458.26 1069.3 1453.67 Q1072.38 1449.07 1078.19 1449.07 Z\" fill=\"#000000\" fill-rule=\"evenodd\" fill-opacity=\"1\" /><path clip-path=\"url(#clip9600)\" d=\"M 0 0 M1102.17 1449.69 L1106.11 1449.69 L1094.07 1488.65 L1090.14 1488.65 L1102.17 1449.69 Z\" fill=\"#000000\" fill-rule=\"evenodd\" fill-opacity=\"1\" /><path clip-path=\"url(#clip9600)\" d=\"M 0 0 M1111.99 1480.32 L1119.63 1480.32 L1119.63 1453.95 L1111.32 1455.62 L1111.32 1451.36 L1119.58 1449.69 L1124.26 1449.69 L1124.26 1480.32 L1131.9 1480.32 L1131.9 1484.25 L1111.99 1484.25 L1111.99 1480.32 Z\" fill=\"#000000\" fill-rule=\"evenodd\" fill-opacity=\"1\" /><path clip-path=\"url(#clip9600)\" d=\"M 0 0 M1135.78 1449.69 L1158.01 1449.69 L1158.01 1451.68 L1145.46 1484.25 L1140.58 1484.25 L1152.38 1453.63 L1135.78 1453.63 L1135.78 1449.69 Z\" fill=\"#000000\" fill-rule=\"evenodd\" fill-opacity=\"1\" /><path clip-path=\"url(#clip9600)\" d=\"M 0 0 M1233.67 1480.32 L1241.31 1480.32 L1241.31 1453.95 L1233 1455.62 L1233 1451.36 L1241.26 1449.69 L1245.94 1449.69 L1245.94 1480.32 L1253.58 1480.32 L1253.58 1484.25 L1233.67 1484.25 L1233.67 1480.32 Z\" fill=\"#000000\" fill-rule=\"evenodd\" fill-opacity=\"1\" /><path clip-path=\"url(#clip9600)\" d=\"M 0 0 M1265.61 1449.69 L1269.55 1449.69 L1257.51 1488.65 L1253.58 1488.65 L1265.61 1449.69 Z\" fill=\"#000000\" fill-rule=\"evenodd\" fill-opacity=\"1\" /><path clip-path=\"url(#clip9600)\" d=\"M 0 0 M1278.65 1480.32 L1294.97 1480.32 L1294.97 1484.25 L1273.02 1484.25 L1273.02 1480.32 Q1275.68 1477.56 1280.27 1472.93 Q1284.87 1468.28 1286.05 1466.94 Q1288.3 1464.41 1289.18 1462.68 Q1290.08 1460.92 1290.08 1459.23 Q1290.08 1456.47 1288.14 1454.74 Q1286.22 1453 1283.11 1453 Q1280.91 1453 1278.46 1453.77 Q1276.03 1454.53 1273.25 1456.08 L1273.25 1451.36 Q1276.08 1450.22 1278.53 1449.65 Q1280.98 1449.07 1283.02 1449.07 Q1288.39 1449.07 1291.59 1451.75 Q1294.78 1454.44 1294.78 1458.93 Q1294.78 1461.06 1293.97 1462.98 Q1293.18 1464.88 1291.08 1467.47 Q1290.5 1468.14 1287.4 1471.36 Q1284.29 1474.55 1278.65 1480.32 Z\" fill=\"#000000\" fill-rule=\"evenodd\" fill-opacity=\"1\" /><path clip-path=\"url(#clip9600)\" d=\"M 0 0 M1304.06 1480.32 L1320.38 1480.32 L1320.38 1484.25 L1298.44 1484.25 L1298.44 1480.32 Q1301.1 1477.56 1305.68 1472.93 Q1310.29 1468.28 1311.47 1466.94 Q1313.72 1464.41 1314.6 1462.68 Q1315.5 1460.92 1315.5 1459.23 Q1315.5 1456.47 1313.55 1454.74 Q1311.63 1453 1308.53 1453 Q1306.33 1453 1303.88 1453.77 Q1301.45 1454.53 1298.67 1456.08 L1298.67 1451.36 Q1301.49 1450.22 1303.95 1449.65 Q1306.4 1449.07 1308.44 1449.07 Q1313.81 1449.07 1317 1451.75 Q1320.2 1454.44 1320.2 1458.93 Q1320.2 1461.06 1319.39 1462.98 Q1318.6 1464.88 1316.49 1467.47 Q1315.91 1468.14 1312.81 1471.36 Q1309.71 1474.55 1304.06 1480.32 Z\" fill=\"#000000\" fill-rule=\"evenodd\" fill-opacity=\"1\" /><path clip-path=\"url(#clip9600)\" d=\"M 0 0 M1332.42 1449.69 L1336.35 1449.69 L1324.32 1488.65 L1320.38 1488.65 L1332.42 1449.69 Z\" fill=\"#000000\" fill-rule=\"evenodd\" fill-opacity=\"1\" /><path clip-path=\"url(#clip9600)\" d=\"M 0 0 M1342.23 1480.32 L1349.87 1480.32 L1349.87 1453.95 L1341.56 1455.62 L1341.56 1451.36 L1349.83 1449.69 L1354.5 1449.69 L1354.5 1480.32 L1362.14 1480.32 L1362.14 1484.25 L1342.23 1484.25 L1342.23 1480.32 Z\" fill=\"#000000\" fill-rule=\"evenodd\" fill-opacity=\"1\" /><path clip-path=\"url(#clip9600)\" d=\"M 0 0 M1377.21 1467.84 Q1373.88 1467.84 1371.96 1469.62 Q1370.06 1471.4 1370.06 1474.53 Q1370.06 1477.65 1371.96 1479.44 Q1373.88 1481.22 1377.21 1481.22 Q1380.54 1481.22 1382.47 1479.44 Q1384.39 1477.63 1384.39 1474.53 Q1384.39 1471.4 1382.47 1469.62 Q1380.57 1467.84 1377.21 1467.84 M1372.53 1465.85 Q1369.53 1465.11 1367.84 1463.05 Q1366.17 1460.99 1366.17 1458.03 Q1366.17 1453.88 1369.11 1451.47 Q1372.07 1449.07 1377.21 1449.07 Q1382.37 1449.07 1385.31 1451.47 Q1388.25 1453.88 1388.25 1458.03 Q1388.25 1460.99 1386.56 1463.05 Q1384.9 1465.11 1381.91 1465.85 Q1385.29 1466.64 1387.16 1468.93 Q1389.06 1471.22 1389.06 1474.53 Q1389.06 1479.55 1385.98 1482.24 Q1382.93 1484.92 1377.21 1484.92 Q1371.49 1484.92 1368.41 1482.24 Q1365.36 1479.55 1365.36 1474.53 Q1365.36 1471.22 1367.26 1468.93 Q1369.16 1466.64 1372.53 1465.85 M1370.82 1458.46 Q1370.82 1461.15 1372.49 1462.65 Q1374.18 1464.16 1377.21 1464.16 Q1380.22 1464.16 1381.91 1462.65 Q1383.62 1461.15 1383.62 1458.46 Q1383.62 1455.78 1381.91 1454.28 Q1380.22 1452.77 1377.21 1452.77 Q1374.18 1452.77 1372.49 1454.28 Q1370.82 1455.78 1370.82 1458.46 Z\" fill=\"#000000\" fill-rule=\"evenodd\" fill-opacity=\"1\" /><path clip-path=\"url(#clip9600)\" d=\"M 0 0 M1490.54 1449.69 L1508.89 1449.69 L1508.89 1453.63 L1494.82 1453.63 L1494.82 1462.1 Q1495.84 1461.75 1496.85 1461.59 Q1497.87 1461.4 1498.89 1461.4 Q1504.68 1461.4 1508.06 1464.58 Q1511.44 1467.75 1511.44 1473.16 Q1511.44 1478.74 1507.97 1481.84 Q1504.49 1484.92 1498.17 1484.92 Q1496 1484.92 1493.73 1484.55 Q1491.48 1484.18 1489.08 1483.44 L1489.08 1478.74 Q1491.16 1479.88 1493.38 1480.43 Q1495.6 1480.99 1498.08 1480.99 Q1502.09 1480.99 1504.42 1478.88 Q1506.76 1476.78 1506.76 1473.16 Q1506.76 1469.55 1504.42 1467.45 Q1502.09 1465.34 1498.08 1465.34 Q1496.21 1465.34 1494.33 1465.76 Q1492.48 1466.17 1490.54 1467.05 L1490.54 1449.69 Z\" fill=\"#000000\" fill-rule=\"evenodd\" fill-opacity=\"1\" /><path clip-path=\"url(#clip9600)\" d=\"M 0 0 M1523.47 1449.69 L1527.41 1449.69 L1515.37 1488.65 L1511.44 1488.65 L1523.47 1449.69 Z\" fill=\"#000000\" fill-rule=\"evenodd\" fill-opacity=\"1\" /><path clip-path=\"url(#clip9600)\" d=\"M 0 0 M1543.06 1465.11 Q1539.91 1465.11 1538.06 1467.26 Q1536.23 1469.41 1536.23 1473.16 Q1536.23 1476.89 1538.06 1479.07 Q1539.91 1481.22 1543.06 1481.22 Q1546.21 1481.22 1548.04 1479.07 Q1549.89 1476.89 1549.89 1473.16 Q1549.89 1469.41 1548.04 1467.26 Q1546.21 1465.11 1543.06 1465.11 M1552.34 1450.46 L1552.34 1454.71 Q1550.58 1453.88 1548.78 1453.44 Q1546.99 1453 1545.23 1453 Q1540.6 1453 1538.15 1456.13 Q1535.72 1459.25 1535.37 1465.57 Q1536.74 1463.56 1538.8 1462.49 Q1540.86 1461.4 1543.34 1461.4 Q1548.54 1461.4 1551.55 1464.58 Q1554.59 1467.72 1554.59 1473.16 Q1554.59 1478.49 1551.44 1481.71 Q1548.29 1484.92 1543.06 1484.92 Q1537.06 1484.92 1533.89 1480.34 Q1530.72 1475.73 1530.72 1467.01 Q1530.72 1458.81 1534.61 1453.95 Q1538.5 1449.07 1545.05 1449.07 Q1546.81 1449.07 1548.59 1449.41 Q1550.4 1449.76 1552.34 1450.46 Z\" fill=\"#000000\" fill-rule=\"evenodd\" fill-opacity=\"1\" /><path clip-path=\"url(#clip9600)\" d=\"M 0 0 M1566.62 1449.69 L1570.56 1449.69 L1558.52 1488.65 L1554.59 1488.65 L1566.62 1449.69 Z\" fill=\"#000000\" fill-rule=\"evenodd\" fill-opacity=\"1\" /><path clip-path=\"url(#clip9600)\" d=\"M 0 0 M1576.44 1480.32 L1584.08 1480.32 L1584.08 1453.95 L1575.77 1455.62 L1575.77 1451.36 L1584.03 1449.69 L1588.71 1449.69 L1588.71 1480.32 L1596.34 1480.32 L1596.34 1484.25 L1576.44 1484.25 L1576.44 1480.32 Z\" fill=\"#000000\" fill-rule=\"evenodd\" fill-opacity=\"1\" /><path clip-path=\"url(#clip9600)\" d=\"M 0 0 M1611.41 1467.84 Q1608.08 1467.84 1606.16 1469.62 Q1604.26 1471.4 1604.26 1474.53 Q1604.26 1477.65 1606.16 1479.44 Q1608.08 1481.22 1611.41 1481.22 Q1614.75 1481.22 1616.67 1479.44 Q1618.59 1477.63 1618.59 1474.53 Q1618.59 1471.4 1616.67 1469.62 Q1614.77 1467.84 1611.41 1467.84 M1606.74 1465.85 Q1603.73 1465.11 1602.04 1463.05 Q1600.37 1460.99 1600.37 1458.03 Q1600.37 1453.88 1603.31 1451.47 Q1606.28 1449.07 1611.41 1449.07 Q1616.58 1449.07 1619.52 1451.47 Q1622.46 1453.88 1622.46 1458.03 Q1622.46 1460.99 1620.77 1463.05 Q1619.1 1465.11 1616.11 1465.85 Q1619.49 1466.64 1621.37 1468.93 Q1623.27 1471.22 1623.27 1474.53 Q1623.27 1479.55 1620.19 1482.24 Q1617.13 1484.92 1611.41 1484.92 Q1605.7 1484.92 1602.62 1482.24 Q1599.56 1479.55 1599.56 1474.53 Q1599.56 1471.22 1601.46 1468.93 Q1603.36 1466.64 1606.74 1465.85 M1605.03 1458.46 Q1605.03 1461.15 1606.69 1462.65 Q1608.38 1464.16 1611.41 1464.16 Q1614.42 1464.16 1616.11 1462.65 Q1617.83 1461.15 1617.83 1458.46 Q1617.83 1455.78 1616.11 1454.28 Q1614.42 1452.77 1611.41 1452.77 Q1608.38 1452.77 1606.69 1454.28 Q1605.03 1455.78 1605.03 1458.46 Z\" fill=\"#000000\" fill-rule=\"evenodd\" fill-opacity=\"1\" /><path clip-path=\"url(#clip9600)\" d=\"M 0 0 M1735.04 1467.84 Q1731.7 1467.84 1729.78 1469.62 Q1727.88 1471.4 1727.88 1474.53 Q1727.88 1477.65 1729.78 1479.44 Q1731.7 1481.22 1735.04 1481.22 Q1738.37 1481.22 1740.29 1479.44 Q1742.21 1477.63 1742.21 1474.53 Q1742.21 1471.4 1740.29 1469.62 Q1738.39 1467.84 1735.04 1467.84 M1730.36 1465.85 Q1727.35 1465.11 1725.66 1463.05 Q1723.99 1460.99 1723.99 1458.03 Q1723.99 1453.88 1726.93 1451.47 Q1729.9 1449.07 1735.04 1449.07 Q1740.2 1449.07 1743.14 1451.47 Q1746.08 1453.88 1746.08 1458.03 Q1746.08 1460.99 1744.39 1463.05 Q1742.72 1465.11 1739.74 1465.85 Q1743.11 1466.64 1744.99 1468.93 Q1746.89 1471.22 1746.89 1474.53 Q1746.89 1479.55 1743.81 1482.24 Q1740.75 1484.92 1735.04 1484.92 Q1729.32 1484.92 1726.24 1482.24 Q1723.18 1479.55 1723.18 1474.53 Q1723.18 1471.22 1725.08 1468.93 Q1726.98 1466.64 1730.36 1465.85 M1728.65 1458.46 Q1728.65 1461.15 1730.31 1462.65 Q1732 1464.16 1735.04 1464.16 Q1738.05 1464.16 1739.74 1462.65 Q1741.45 1461.15 1741.45 1458.46 Q1741.45 1455.78 1739.74 1454.28 Q1738.05 1452.77 1735.04 1452.77 Q1732 1452.77 1730.31 1454.28 Q1728.65 1455.78 1728.65 1458.46 Z\" fill=\"#000000\" fill-rule=\"evenodd\" fill-opacity=\"1\" /><path clip-path=\"url(#clip9600)\" d=\"M 0 0 M1758.92 1449.69 L1762.86 1449.69 L1750.82 1488.65 L1746.89 1488.65 L1758.92 1449.69 Z\" fill=\"#000000\" fill-rule=\"evenodd\" fill-opacity=\"1\" /><path clip-path=\"url(#clip9600)\" d=\"M 0 0 M1768.74 1480.32 L1776.38 1480.32 L1776.38 1453.95 L1768.07 1455.62 L1768.07 1451.36 L1776.33 1449.69 L1781.01 1449.69 L1781.01 1480.32 L1788.65 1480.32 L1788.65 1484.25 L1768.74 1484.25 L1768.74 1480.32 Z\" fill=\"#000000\" fill-rule=\"evenodd\" fill-opacity=\"1\" /><path clip-path=\"url(#clip9600)\" d=\"M 0 0 M1793.86 1483.53 L1793.86 1479.28 Q1795.61 1480.11 1797.42 1480.55 Q1799.23 1480.99 1800.96 1480.99 Q1805.59 1480.99 1808.02 1477.89 Q1810.48 1474.76 1810.82 1468.42 Q1809.48 1470.41 1807.42 1471.47 Q1805.36 1472.54 1802.86 1472.54 Q1797.67 1472.54 1794.64 1469.41 Q1791.63 1466.27 1791.63 1460.83 Q1791.63 1455.5 1794.78 1452.28 Q1797.93 1449.07 1803.16 1449.07 Q1809.16 1449.07 1812.3 1453.67 Q1815.48 1458.26 1815.48 1467.01 Q1815.48 1475.18 1811.59 1480.06 Q1807.72 1484.92 1801.17 1484.92 Q1799.41 1484.92 1797.61 1484.58 Q1795.8 1484.23 1793.86 1483.53 M1803.16 1468.88 Q1806.31 1468.88 1808.14 1466.73 Q1809.99 1464.58 1809.99 1460.83 Q1809.99 1457.1 1808.14 1454.95 Q1806.31 1452.77 1803.16 1452.77 Q1800.01 1452.77 1798.16 1454.95 Q1796.33 1457.1 1796.33 1460.83 Q1796.33 1464.58 1798.16 1466.73 Q1800.01 1468.88 1803.16 1468.88 Z\" fill=\"#000000\" fill-rule=\"evenodd\" fill-opacity=\"1\" /><path clip-path=\"url(#clip9600)\" d=\"M 0 0 M1827.51 1449.69 L1831.45 1449.69 L1819.41 1488.65 L1815.48 1488.65 L1827.51 1449.69 Z\" fill=\"#000000\" fill-rule=\"evenodd\" fill-opacity=\"1\" /><path clip-path=\"url(#clip9600)\" d=\"M 0 0 M1837.33 1480.32 L1844.97 1480.32 L1844.97 1453.95 L1836.66 1455.62 L1836.66 1451.36 L1844.92 1449.69 L1849.6 1449.69 L1849.6 1480.32 L1857.23 1480.32 L1857.23 1484.25 L1837.33 1484.25 L1837.33 1480.32 Z\" fill=\"#000000\" fill-rule=\"evenodd\" fill-opacity=\"1\" /><path clip-path=\"url(#clip9600)\" d=\"M 0 0 M1872.3 1467.84 Q1868.97 1467.84 1867.05 1469.62 Q1865.15 1471.4 1865.15 1474.53 Q1865.15 1477.65 1867.05 1479.44 Q1868.97 1481.22 1872.3 1481.22 Q1875.64 1481.22 1877.56 1479.44 Q1879.48 1477.63 1879.48 1474.53 Q1879.48 1471.4 1877.56 1469.62 Q1875.66 1467.84 1872.3 1467.84 M1867.63 1465.85 Q1864.62 1465.11 1862.93 1463.05 Q1861.26 1460.99 1861.26 1458.03 Q1861.26 1453.88 1864.2 1451.47 Q1867.16 1449.07 1872.3 1449.07 Q1877.47 1449.07 1880.41 1451.47 Q1883.35 1453.88 1883.35 1458.03 Q1883.35 1460.99 1881.66 1463.05 Q1879.99 1465.11 1877 1465.85 Q1880.38 1466.64 1882.26 1468.93 Q1884.16 1471.22 1884.16 1474.53 Q1884.16 1479.55 1881.08 1482.24 Q1878.02 1484.92 1872.3 1484.92 Q1866.59 1484.92 1863.51 1482.24 Q1860.45 1479.55 1860.45 1474.53 Q1860.45 1471.22 1862.35 1468.93 Q1864.25 1466.64 1867.63 1465.85 M1865.91 1458.46 Q1865.91 1461.15 1867.58 1462.65 Q1869.27 1464.16 1872.3 1464.16 Q1875.31 1464.16 1877 1462.65 Q1878.72 1461.15 1878.72 1458.46 Q1878.72 1455.78 1877 1454.28 Q1875.31 1452.77 1872.3 1452.77 Q1869.27 1452.77 1867.58 1454.28 Q1865.91 1455.78 1865.91 1458.46 Z\" fill=\"#000000\" fill-rule=\"evenodd\" fill-opacity=\"1\" /><path clip-path=\"url(#clip9600)\" d=\"M 0 0 M1971.27 1480.32 L1978.9 1480.32 L1978.9 1453.95 L1970.59 1455.62 L1970.59 1451.36 L1978.86 1449.69 L1983.53 1449.69 L1983.53 1480.32 L1991.17 1480.32 L1991.17 1484.25 L1971.27 1484.25 L1971.27 1480.32 Z\" fill=\"#000000\" fill-rule=\"evenodd\" fill-opacity=\"1\" /><path clip-path=\"url(#clip9600)\" d=\"M 0 0 M2000.27 1480.32 L2016.59 1480.32 L2016.59 1484.25 L1994.64 1484.25 L1994.64 1480.32 Q1997.31 1477.56 2001.89 1472.93 Q2006.5 1468.28 2007.68 1466.94 Q2009.92 1464.41 2010.8 1462.68 Q2011.7 1460.92 2011.7 1459.23 Q2011.7 1456.47 2009.76 1454.74 Q2007.84 1453 2004.74 1453 Q2002.54 1453 2000.08 1453.77 Q1997.65 1454.53 1994.88 1456.08 L1994.88 1451.36 Q1997.7 1450.22 2000.15 1449.65 Q2002.61 1449.07 2004.64 1449.07 Q2010.01 1449.07 2013.21 1451.75 Q2016.4 1454.44 2016.4 1458.93 Q2016.4 1461.06 2015.59 1462.98 Q2014.81 1464.88 2012.7 1467.47 Q2012.12 1468.14 2009.02 1471.36 Q2005.92 1474.55 2000.27 1480.32 Z\" fill=\"#000000\" fill-rule=\"evenodd\" fill-opacity=\"1\" /><path clip-path=\"url(#clip9600)\" d=\"M 0 0 M2028.63 1449.69 L2032.56 1449.69 L2020.52 1488.65 L2016.59 1488.65 L2028.63 1449.69 Z\" fill=\"#000000\" fill-rule=\"evenodd\" fill-opacity=\"1\" /><path clip-path=\"url(#clip9600)\" d=\"M 0 0 M2038.44 1480.32 L2046.08 1480.32 L2046.08 1453.95 L2037.77 1455.62 L2037.77 1451.36 L2046.03 1449.69 L2050.71 1449.69 L2050.71 1480.32 L2058.35 1480.32 L2058.35 1484.25 L2038.44 1484.25 L2038.44 1480.32 Z\" fill=\"#000000\" fill-rule=\"evenodd\" fill-opacity=\"1\" /><path clip-path=\"url(#clip9600)\" d=\"M 0 0 M2070.39 1449.69 L2074.32 1449.69 L2062.28 1488.65 L2058.35 1488.65 L2070.39 1449.69 Z\" fill=\"#000000\" fill-rule=\"evenodd\" fill-opacity=\"1\" /><path clip-path=\"url(#clip9600)\" d=\"M 0 0 M2080.2 1480.32 L2087.84 1480.32 L2087.84 1453.95 L2079.53 1455.62 L2079.53 1451.36 L2087.79 1449.69 L2092.47 1449.69 L2092.47 1480.32 L2100.11 1480.32 L2100.11 1484.25 L2080.2 1484.25 L2080.2 1480.32 Z\" fill=\"#000000\" fill-rule=\"evenodd\" fill-opacity=\"1\" /><path clip-path=\"url(#clip9600)\" d=\"M 0 0 M2115.18 1467.84 Q2111.84 1467.84 2109.92 1469.62 Q2108.02 1471.4 2108.02 1474.53 Q2108.02 1477.65 2109.92 1479.44 Q2111.84 1481.22 2115.18 1481.22 Q2118.51 1481.22 2120.43 1479.44 Q2122.35 1477.63 2122.35 1474.53 Q2122.35 1471.4 2120.43 1469.62 Q2118.53 1467.84 2115.18 1467.84 M2110.5 1465.85 Q2107.49 1465.11 2105.8 1463.05 Q2104.13 1460.99 2104.13 1458.03 Q2104.13 1453.88 2107.07 1451.47 Q2110.04 1449.07 2115.18 1449.07 Q2120.34 1449.07 2123.28 1451.47 Q2126.22 1453.88 2126.22 1458.03 Q2126.22 1460.99 2124.53 1463.05 Q2122.86 1465.11 2119.88 1465.85 Q2123.26 1466.64 2125.13 1468.93 Q2127.03 1471.22 2127.03 1474.53 Q2127.03 1479.55 2123.95 1482.24 Q2120.89 1484.92 2115.18 1484.92 Q2109.46 1484.92 2106.38 1482.24 Q2103.32 1479.55 2103.32 1474.53 Q2103.32 1471.22 2105.22 1468.93 Q2107.12 1466.64 2110.5 1465.85 M2108.79 1458.46 Q2108.79 1461.15 2110.45 1462.65 Q2112.14 1464.16 2115.18 1464.16 Q2118.19 1464.16 2119.88 1462.65 Q2121.59 1461.15 2121.59 1458.46 Q2121.59 1455.78 2119.88 1454.28 Q2118.19 1452.77 2115.18 1452.77 Q2112.14 1452.77 2110.45 1454.28 Q2108.79 1455.78 2108.79 1458.46 Z\" fill=\"#000000\" fill-rule=\"evenodd\" fill-opacity=\"1\" /><path clip-path=\"url(#clip9600)\" d=\"M 0 0 M2230.02 1465.62 Q2233.37 1466.34 2235.25 1468.6 Q2237.15 1470.87 2237.15 1474.21 Q2237.15 1479.32 2233.63 1482.12 Q2230.11 1484.92 2223.63 1484.92 Q2221.45 1484.92 2219.14 1484.48 Q2216.85 1484.07 2214.39 1483.21 L2214.39 1478.7 Q2216.34 1479.83 2218.65 1480.41 Q2220.97 1480.99 2223.49 1480.99 Q2227.89 1480.99 2230.18 1479.25 Q2232.49 1477.52 2232.49 1474.21 Q2232.49 1471.15 2230.34 1469.44 Q2228.21 1467.7 2224.39 1467.7 L2220.36 1467.7 L2220.36 1463.86 L2224.58 1463.86 Q2228.03 1463.86 2229.86 1462.49 Q2231.68 1461.1 2231.68 1458.51 Q2231.68 1455.85 2229.79 1454.44 Q2227.91 1453 2224.39 1453 Q2222.47 1453 2220.27 1453.42 Q2218.07 1453.84 2215.43 1454.71 L2215.43 1450.55 Q2218.1 1449.81 2220.41 1449.44 Q2222.75 1449.07 2224.81 1449.07 Q2230.13 1449.07 2233.24 1451.5 Q2236.34 1453.9 2236.34 1458.03 Q2236.34 1460.9 2234.69 1462.89 Q2233.05 1464.85 2230.02 1465.62 Z\" fill=\"#000000\" fill-rule=\"evenodd\" fill-opacity=\"1\" /><path clip-path=\"url(#clip9600)\" d=\"M 0 0 M2249.18 1449.69 L2253.12 1449.69 L2241.08 1488.65 L2237.15 1488.65 L2249.18 1449.69 Z\" fill=\"#000000\" fill-rule=\"evenodd\" fill-opacity=\"1\" /><path clip-path=\"url(#clip9600)\" d=\"M 0 0 M2259 1480.32 L2266.64 1480.32 L2266.64 1453.95 L2258.33 1455.62 L2258.33 1451.36 L2266.59 1449.69 L2271.27 1449.69 L2271.27 1480.32 L2278.91 1480.32 L2278.91 1484.25 L2259 1484.25 L2259 1480.32 Z\" fill=\"#000000\" fill-rule=\"evenodd\" fill-opacity=\"1\" /><path clip-path=\"url(#clip9600)\" d=\"M 0 0 M2284.02 1449.69 L2302.38 1449.69 L2302.38 1453.63 L2288.3 1453.63 L2288.3 1462.1 Q2289.32 1461.75 2290.34 1461.59 Q2291.36 1461.4 2292.38 1461.4 Q2298.17 1461.4 2301.54 1464.58 Q2304.92 1467.75 2304.92 1473.16 Q2304.92 1478.74 2301.45 1481.84 Q2297.98 1484.92 2291.66 1484.92 Q2289.48 1484.92 2287.22 1484.55 Q2284.97 1484.18 2282.56 1483.44 L2282.56 1478.74 Q2284.65 1479.88 2286.87 1480.43 Q2289.09 1480.99 2291.57 1480.99 Q2295.57 1480.99 2297.91 1478.88 Q2300.25 1476.78 2300.25 1473.16 Q2300.25 1469.55 2297.91 1467.45 Q2295.57 1465.34 2291.57 1465.34 Q2289.69 1465.34 2287.82 1465.76 Q2285.97 1466.17 2284.02 1467.05 L2284.02 1449.69 Z\" fill=\"#000000\" fill-rule=\"evenodd\" fill-opacity=\"1\" /><path clip-path=\"url(#clip9600)\" d=\"M 0 0 M2316.96 1449.69 L2320.9 1449.69 L2308.86 1488.65 L2304.92 1488.65 L2316.96 1449.69 Z\" fill=\"#000000\" fill-rule=\"evenodd\" fill-opacity=\"1\" /><path clip-path=\"url(#clip9600)\" d=\"M 0 0 M2326.78 1480.32 L2334.42 1480.32 L2334.42 1453.95 L2326.1 1455.62 L2326.1 1451.36 L2334.37 1449.69 L2339.04 1449.69 L2339.04 1480.32 L2346.68 1480.32 L2346.68 1484.25 L2326.78 1484.25 L2326.78 1480.32 Z\" fill=\"#000000\" fill-rule=\"evenodd\" fill-opacity=\"1\" /><path clip-path=\"url(#clip9600)\" d=\"M 0 0 M2351.89 1483.53 L2351.89 1479.28 Q2353.65 1480.11 2355.46 1480.55 Q2357.26 1480.99 2359 1480.99 Q2363.63 1480.99 2366.06 1477.89 Q2368.51 1474.76 2368.86 1468.42 Q2367.52 1470.41 2365.46 1471.47 Q2363.4 1472.54 2360.9 1472.54 Q2355.71 1472.54 2352.68 1469.41 Q2349.67 1466.27 2349.67 1460.83 Q2349.67 1455.5 2352.82 1452.28 Q2355.97 1449.07 2361.2 1449.07 Q2367.19 1449.07 2370.34 1453.67 Q2373.51 1458.26 2373.51 1467.01 Q2373.51 1475.18 2369.62 1480.06 Q2365.76 1484.92 2359.21 1484.92 Q2357.45 1484.92 2355.64 1484.58 Q2353.84 1484.23 2351.89 1483.53 M2361.2 1468.88 Q2364.35 1468.88 2366.17 1466.73 Q2368.03 1464.58 2368.03 1460.83 Q2368.03 1457.1 2366.17 1454.95 Q2364.35 1452.77 2361.2 1452.77 Q2358.05 1452.77 2356.2 1454.95 Q2354.37 1457.1 2354.37 1460.83 Q2354.37 1464.58 2356.2 1466.73 Q2358.05 1468.88 2361.2 1468.88 Z\" fill=\"#000000\" fill-rule=\"evenodd\" fill-opacity=\"1\" /><path clip-path=\"url(#clip9600)\" d=\"M 0 0 M2473.41 1465.11 Q2470.26 1465.11 2468.41 1467.26 Q2466.58 1469.41 2466.58 1473.16 Q2466.58 1476.89 2468.41 1479.07 Q2470.26 1481.22 2473.41 1481.22 Q2476.56 1481.22 2478.38 1479.07 Q2480.24 1476.89 2480.24 1473.16 Q2480.24 1469.41 2478.38 1467.26 Q2476.56 1465.11 2473.41 1465.11 M2482.69 1450.46 L2482.69 1454.71 Q2480.93 1453.88 2479.12 1453.44 Q2477.34 1453 2475.58 1453 Q2470.95 1453 2468.5 1456.13 Q2466.07 1459.25 2465.72 1465.57 Q2467.09 1463.56 2469.15 1462.49 Q2471.21 1461.4 2473.68 1461.4 Q2478.89 1461.4 2481.9 1464.58 Q2484.93 1467.72 2484.93 1473.16 Q2484.93 1478.49 2481.79 1481.71 Q2478.64 1484.92 2473.41 1484.92 Q2467.41 1484.92 2464.24 1480.34 Q2461.07 1475.73 2461.07 1467.01 Q2461.07 1458.81 2464.96 1453.95 Q2468.85 1449.07 2475.4 1449.07 Q2477.16 1449.07 2478.94 1449.41 Q2480.74 1449.76 2482.69 1450.46 Z\" fill=\"#000000\" fill-rule=\"evenodd\" fill-opacity=\"1\" /><path clip-path=\"url(#clip9600)\" d=\"M 0 0 M2496.97 1449.69 L2500.91 1449.69 L2488.87 1488.65 L2484.93 1488.65 L2496.97 1449.69 Z\" fill=\"#000000\" fill-rule=\"evenodd\" fill-opacity=\"1\" /><path clip-path=\"url(#clip9600)\" d=\"M 0 0 M2510 1480.32 L2526.32 1480.32 L2526.32 1484.25 L2504.38 1484.25 L2504.38 1480.32 Q2507.04 1477.56 2511.62 1472.93 Q2516.23 1468.28 2517.41 1466.94 Q2519.66 1464.41 2520.54 1462.68 Q2521.44 1460.92 2521.44 1459.23 Q2521.44 1456.47 2519.49 1454.74 Q2517.57 1453 2514.47 1453 Q2512.27 1453 2509.82 1453.77 Q2507.39 1454.53 2504.61 1456.08 L2504.61 1451.36 Q2507.43 1450.22 2509.89 1449.65 Q2512.34 1449.07 2514.38 1449.07 Q2519.75 1449.07 2522.94 1451.75 Q2526.14 1454.44 2526.14 1458.93 Q2526.14 1461.06 2525.33 1462.98 Q2524.54 1464.88 2522.43 1467.47 Q2521.86 1468.14 2518.75 1471.36 Q2515.65 1474.55 2510 1480.32 Z\" fill=\"#000000\" fill-rule=\"evenodd\" fill-opacity=\"1\" /><path clip-path=\"url(#clip9600)\" d=\"M 0 0 M2541.39 1467.84 Q2538.06 1467.84 2536.14 1469.62 Q2534.24 1471.4 2534.24 1474.53 Q2534.24 1477.65 2536.14 1479.44 Q2538.06 1481.22 2541.39 1481.22 Q2544.73 1481.22 2546.65 1479.44 Q2548.57 1477.63 2548.57 1474.53 Q2548.57 1471.4 2546.65 1469.62 Q2544.75 1467.84 2541.39 1467.84 M2536.72 1465.85 Q2533.71 1465.11 2532.02 1463.05 Q2530.35 1460.99 2530.35 1458.03 Q2530.35 1453.88 2533.29 1451.47 Q2536.25 1449.07 2541.39 1449.07 Q2546.55 1449.07 2549.49 1451.47 Q2552.43 1453.88 2552.43 1458.03 Q2552.43 1460.99 2550.74 1463.05 Q2549.08 1465.11 2546.09 1465.85 Q2549.47 1466.64 2551.35 1468.93 Q2553.24 1471.22 2553.24 1474.53 Q2553.24 1479.55 2550.17 1482.24 Q2547.11 1484.92 2541.39 1484.92 Q2535.68 1484.92 2532.6 1482.24 Q2529.54 1479.55 2529.54 1474.53 Q2529.54 1471.22 2531.44 1468.93 Q2533.34 1466.64 2536.72 1465.85 M2535 1458.46 Q2535 1461.15 2536.67 1462.65 Q2538.36 1464.16 2541.39 1464.16 Q2544.4 1464.16 2546.09 1462.65 Q2547.8 1461.15 2547.8 1458.46 Q2547.8 1455.78 2546.09 1454.28 Q2544.4 1452.77 2541.39 1452.77 Q2538.36 1452.77 2536.67 1454.28 Q2535 1455.78 2535 1458.46 Z\" fill=\"#000000\" fill-rule=\"evenodd\" fill-opacity=\"1\" /><path clip-path=\"url(#clip9600)\" d=\"M 0 0 M2565.28 1449.69 L2569.22 1449.69 L2557.18 1488.65 L2553.24 1488.65 L2565.28 1449.69 Z\" fill=\"#000000\" fill-rule=\"evenodd\" fill-opacity=\"1\" /><path clip-path=\"url(#clip9600)\" d=\"M 0 0 M2575.1 1480.32 L2582.74 1480.32 L2582.74 1453.95 L2574.42 1455.62 L2574.42 1451.36 L2582.69 1449.69 L2587.36 1449.69 L2587.36 1480.32 L2595 1480.32 L2595 1484.25 L2575.1 1484.25 L2575.1 1480.32 Z\" fill=\"#000000\" fill-rule=\"evenodd\" fill-opacity=\"1\" /><path clip-path=\"url(#clip9600)\" d=\"M 0 0 M2600.21 1483.53 L2600.21 1479.28 Q2601.97 1480.11 2603.78 1480.55 Q2605.58 1480.99 2607.32 1480.99 Q2611.95 1480.99 2614.38 1477.89 Q2616.83 1474.76 2617.18 1468.42 Q2615.84 1470.41 2613.78 1471.47 Q2611.72 1472.54 2609.22 1472.54 Q2604.03 1472.54 2601 1469.41 Q2597.99 1466.27 2597.99 1460.83 Q2597.99 1455.5 2601.14 1452.28 Q2604.29 1449.07 2609.52 1449.07 Q2615.51 1449.07 2618.66 1453.67 Q2621.83 1458.26 2621.83 1467.01 Q2621.83 1475.18 2617.94 1480.06 Q2614.08 1484.92 2607.53 1484.92 Q2605.77 1484.92 2603.96 1484.58 Q2602.16 1484.23 2600.21 1483.53 M2609.52 1468.88 Q2612.67 1468.88 2614.49 1466.73 Q2616.35 1464.58 2616.35 1460.83 Q2616.35 1457.1 2614.49 1454.95 Q2612.67 1452.77 2609.52 1452.77 Q2606.37 1452.77 2604.52 1454.95 Q2602.69 1457.1 2602.69 1460.83 Q2602.69 1464.58 2604.52 1466.73 Q2606.37 1468.88 2609.52 1468.88 Z\" fill=\"#000000\" fill-rule=\"evenodd\" fill-opacity=\"1\" /><path clip-path=\"url(#clip9600)\" d=\"M 0 0 M2694.79 1480.32 L2702.43 1480.32 L2702.43 1453.95 L2694.12 1455.62 L2694.12 1451.36 L2702.38 1449.69 L2707.06 1449.69 L2707.06 1480.32 L2714.69 1480.32 L2714.69 1484.25 L2694.79 1484.25 L2694.79 1480.32 Z\" fill=\"#000000\" fill-rule=\"evenodd\" fill-opacity=\"1\" /><path clip-path=\"url(#clip9600)\" d=\"M 0 0 M2729.76 1452.77 Q2726.15 1452.77 2724.32 1456.34 Q2722.52 1459.88 2722.52 1467.01 Q2722.52 1474.11 2724.32 1477.68 Q2726.15 1481.22 2729.76 1481.22 Q2733.4 1481.22 2735.2 1477.68 Q2737.03 1474.11 2737.03 1467.01 Q2737.03 1459.88 2735.2 1456.34 Q2733.4 1452.77 2729.76 1452.77 M2729.76 1449.07 Q2735.57 1449.07 2738.63 1453.67 Q2741.71 1458.26 2741.71 1467.01 Q2741.71 1475.73 2738.63 1480.34 Q2735.57 1484.92 2729.76 1484.92 Q2723.95 1484.92 2720.87 1480.34 Q2717.82 1475.73 2717.82 1467.01 Q2717.82 1458.26 2720.87 1453.67 Q2723.95 1449.07 2729.76 1449.07 Z\" fill=\"#000000\" fill-rule=\"evenodd\" fill-opacity=\"1\" /><path clip-path=\"url(#clip9600)\" d=\"M 0 0 M2753.74 1449.69 L2757.68 1449.69 L2745.64 1488.65 L2741.71 1488.65 L2753.74 1449.69 Z\" fill=\"#000000\" fill-rule=\"evenodd\" fill-opacity=\"1\" /><path clip-path=\"url(#clip9600)\" d=\"M 0 0 M2763.56 1480.32 L2771.2 1480.32 L2771.2 1453.95 L2762.89 1455.62 L2762.89 1451.36 L2771.15 1449.69 L2775.83 1449.69 L2775.83 1480.32 L2783.47 1480.32 L2783.47 1484.25 L2763.56 1484.25 L2763.56 1480.32 Z\" fill=\"#000000\" fill-rule=\"evenodd\" fill-opacity=\"1\" /><path clip-path=\"url(#clip9600)\" d=\"M 0 0 M2798.54 1452.77 Q2794.93 1452.77 2793.1 1456.34 Q2791.29 1459.88 2791.29 1467.01 Q2791.29 1474.11 2793.1 1477.68 Q2794.93 1481.22 2798.54 1481.22 Q2802.17 1481.22 2803.98 1477.68 Q2805.8 1474.11 2805.8 1467.01 Q2805.8 1459.88 2803.98 1456.34 Q2802.17 1452.77 2798.54 1452.77 M2798.54 1449.07 Q2804.35 1449.07 2807.4 1453.67 Q2810.48 1458.26 2810.48 1467.01 Q2810.48 1475.73 2807.4 1480.34 Q2804.35 1484.92 2798.54 1484.92 Q2792.73 1484.92 2789.65 1480.34 Q2786.59 1475.73 2786.59 1467.01 Q2786.59 1458.26 2789.65 1453.67 Q2792.73 1449.07 2798.54 1449.07 Z\" fill=\"#000000\" fill-rule=\"evenodd\" fill-opacity=\"1\" /><path clip-path=\"url(#clip9600)\" d=\"M 0 0 M2822.52 1449.69 L2826.45 1449.69 L2814.42 1488.65 L2810.48 1488.65 L2822.52 1449.69 Z\" fill=\"#000000\" fill-rule=\"evenodd\" fill-opacity=\"1\" /><path clip-path=\"url(#clip9600)\" d=\"M 0 0 M2832.33 1480.32 L2839.97 1480.32 L2839.97 1453.95 L2831.66 1455.62 L2831.66 1451.36 L2839.92 1449.69 L2844.6 1449.69 L2844.6 1480.32 L2852.24 1480.32 L2852.24 1484.25 L2832.33 1484.25 L2832.33 1480.32 Z\" fill=\"#000000\" fill-rule=\"evenodd\" fill-opacity=\"1\" /><path clip-path=\"url(#clip9600)\" d=\"M 0 0 M2857.45 1483.53 L2857.45 1479.28 Q2859.21 1480.11 2861.01 1480.55 Q2862.82 1480.99 2864.55 1480.99 Q2869.18 1480.99 2871.61 1477.89 Q2874.07 1474.76 2874.42 1468.42 Q2873.07 1470.41 2871.01 1471.47 Q2868.95 1472.54 2866.45 1472.54 Q2861.27 1472.54 2858.23 1469.41 Q2855.23 1466.27 2855.23 1460.83 Q2855.23 1455.5 2858.37 1452.28 Q2861.52 1449.07 2866.75 1449.07 Q2872.75 1449.07 2875.9 1453.67 Q2879.07 1458.26 2879.07 1467.01 Q2879.07 1475.18 2875.18 1480.06 Q2871.31 1484.92 2864.76 1484.92 Q2863 1484.92 2861.2 1484.58 Q2859.39 1484.23 2857.45 1483.53 M2866.75 1468.88 Q2869.9 1468.88 2871.73 1466.73 Q2873.58 1464.58 2873.58 1460.83 Q2873.58 1457.1 2871.73 1454.95 Q2869.9 1452.77 2866.75 1452.77 Q2863.61 1452.77 2861.75 1454.95 Q2859.92 1457.1 2859.92 1460.83 Q2859.92 1464.58 2861.75 1466.73 Q2863.61 1468.88 2866.75 1468.88 Z\" fill=\"#000000\" fill-rule=\"evenodd\" fill-opacity=\"1\" /><path clip-path=\"url(#clip9600)\" d=\"M 0 0 M2954.51 1480.32 L2962.15 1480.32 L2962.15 1453.95 L2953.84 1455.62 L2953.84 1451.36 L2962.1 1449.69 L2966.78 1449.69 L2966.78 1480.32 L2974.42 1480.32 L2974.42 1484.25 L2954.51 1484.25 L2954.51 1480.32 Z\" fill=\"#000000\" fill-rule=\"evenodd\" fill-opacity=\"1\" /><path clip-path=\"url(#clip9600)\" d=\"M 0 0 M2986.46 1449.69 L2990.39 1449.69 L2978.35 1488.65 L2974.42 1488.65 L2986.46 1449.69 Z\" fill=\"#000000\" fill-rule=\"evenodd\" fill-opacity=\"1\" /><path clip-path=\"url(#clip9600)\" d=\"M 0 0 M2999.49 1480.32 L3015.81 1480.32 L3015.81 1484.25 L2993.86 1484.25 L2993.86 1480.32 Q2996.52 1477.56 3001.11 1472.93 Q3005.71 1468.28 3006.9 1466.94 Q3009.14 1464.41 3010.02 1462.68 Q3010.92 1460.92 3010.92 1459.23 Q3010.92 1456.47 3008.98 1454.74 Q3007.06 1453 3003.96 1453 Q3001.76 1453 2999.3 1453.77 Q2996.87 1454.53 2994.09 1456.08 L2994.09 1451.36 Q2996.92 1450.22 2999.37 1449.65 Q3001.83 1449.07 3003.86 1449.07 Q3009.23 1449.07 3012.43 1451.75 Q3015.62 1454.44 3015.62 1458.93 Q3015.62 1461.06 3014.81 1462.98 Q3014.02 1464.88 3011.92 1467.47 Q3011.34 1468.14 3008.24 1471.36 Q3005.14 1474.55 2999.49 1480.32 Z\" fill=\"#000000\" fill-rule=\"evenodd\" fill-opacity=\"1\" /><path clip-path=\"url(#clip9600)\" d=\"M 0 0 M3024.9 1480.32 L3041.22 1480.32 L3041.22 1484.25 L3019.28 1484.25 L3019.28 1480.32 Q3021.94 1477.56 3026.52 1472.93 Q3031.13 1468.28 3032.31 1466.94 Q3034.56 1464.41 3035.44 1462.68 Q3036.34 1460.92 3036.34 1459.23 Q3036.34 1456.47 3034.4 1454.74 Q3032.47 1453 3029.37 1453 Q3027.17 1453 3024.72 1453.77 Q3022.29 1454.53 3019.51 1456.08 L3019.51 1451.36 Q3022.33 1450.22 3024.79 1449.65 Q3027.24 1449.07 3029.28 1449.07 Q3034.65 1449.07 3037.84 1451.75 Q3041.04 1454.44 3041.04 1458.93 Q3041.04 1461.06 3040.23 1462.98 Q3039.44 1464.88 3037.33 1467.47 Q3036.76 1468.14 3033.65 1471.36 Q3030.55 1474.55 3024.9 1480.32 Z\" fill=\"#000000\" fill-rule=\"evenodd\" fill-opacity=\"1\" /><path clip-path=\"url(#clip9600)\" d=\"M 0 0 M3053.26 1449.69 L3057.2 1449.69 L3045.16 1488.65 L3041.22 1488.65 L3053.26 1449.69 Z\" fill=\"#000000\" fill-rule=\"evenodd\" fill-opacity=\"1\" /><path clip-path=\"url(#clip9600)\" d=\"M 0 0 M3066.29 1480.32 L3082.61 1480.32 L3082.61 1484.25 L3060.67 1484.25 L3060.67 1480.32 Q3063.33 1477.56 3067.91 1472.93 Q3072.52 1468.28 3073.7 1466.94 Q3075.95 1464.41 3076.83 1462.68 Q3077.73 1460.92 3077.73 1459.23 Q3077.73 1456.47 3075.78 1454.74 Q3073.86 1453 3070.76 1453 Q3068.56 1453 3066.11 1453.77 Q3063.68 1454.53 3060.9 1456.08 L3060.9 1451.36 Q3063.72 1450.22 3066.18 1449.65 Q3068.63 1449.07 3070.67 1449.07 Q3076.04 1449.07 3079.23 1451.75 Q3082.43 1454.44 3082.43 1458.93 Q3082.43 1461.06 3081.62 1462.98 Q3080.83 1464.88 3078.72 1467.47 Q3078.14 1468.14 3075.04 1471.36 Q3071.94 1474.55 3066.29 1480.32 Z\" fill=\"#000000\" fill-rule=\"evenodd\" fill-opacity=\"1\" /><path clip-path=\"url(#clip9600)\" d=\"M 0 0 M3097.68 1452.77 Q3094.07 1452.77 3092.24 1456.34 Q3090.44 1459.88 3090.44 1467.01 Q3090.44 1474.11 3092.24 1477.68 Q3094.07 1481.22 3097.68 1481.22 Q3101.32 1481.22 3103.12 1477.68 Q3104.95 1474.11 3104.95 1467.01 Q3104.95 1459.88 3103.12 1456.34 Q3101.32 1452.77 3097.68 1452.77 M3097.68 1449.07 Q3103.49 1449.07 3106.55 1453.67 Q3109.63 1458.26 3109.63 1467.01 Q3109.63 1475.73 3106.55 1480.34 Q3103.49 1484.92 3097.68 1484.92 Q3091.87 1484.92 3088.79 1480.34 Q3085.74 1475.73 3085.74 1467.01 Q3085.74 1458.26 3088.79 1453.67 Q3091.87 1449.07 3097.68 1449.07 Z\" fill=\"#000000\" fill-rule=\"evenodd\" fill-opacity=\"1\" /><path clip-path=\"url(#clip9600)\" d=\"M 0 0 M3211.96 1449.69 L3230.31 1449.69 L3230.31 1453.63 L3216.24 1453.63 L3216.24 1462.1 Q3217.26 1461.75 3218.27 1461.59 Q3219.29 1461.4 3220.31 1461.4 Q3226.1 1461.4 3229.48 1464.58 Q3232.86 1467.75 3232.86 1473.16 Q3232.86 1478.74 3229.39 1481.84 Q3225.91 1484.92 3219.59 1484.92 Q3217.42 1484.92 3215.15 1484.55 Q3212.9 1484.18 3210.5 1483.44 L3210.5 1478.74 Q3212.58 1479.88 3214.8 1480.43 Q3217.02 1480.99 3219.5 1480.99 Q3223.51 1480.99 3225.84 1478.88 Q3228.18 1476.78 3228.18 1473.16 Q3228.18 1469.55 3225.84 1467.45 Q3223.51 1465.34 3219.5 1465.34 Q3217.63 1465.34 3215.75 1465.76 Q3213.9 1466.17 3211.96 1467.05 L3211.96 1449.69 Z\" fill=\"#000000\" fill-rule=\"evenodd\" fill-opacity=\"1\" /><path clip-path=\"url(#clip9600)\" d=\"M 0 0 M3244.9 1449.69 L3248.83 1449.69 L3236.79 1488.65 L3232.86 1488.65 L3244.9 1449.69 Z\" fill=\"#000000\" fill-rule=\"evenodd\" fill-opacity=\"1\" /><path clip-path=\"url(#clip9600)\" d=\"M 0 0 M3253.95 1449.69 L3272.3 1449.69 L3272.3 1453.63 L3258.23 1453.63 L3258.23 1462.1 Q3259.25 1461.75 3260.27 1461.59 Q3261.28 1461.4 3262.3 1461.4 Q3268.09 1461.4 3271.47 1464.58 Q3274.85 1467.75 3274.85 1473.16 Q3274.85 1478.74 3271.38 1481.84 Q3267.9 1484.92 3261.58 1484.92 Q3259.41 1484.92 3257.14 1484.55 Q3254.9 1484.18 3252.49 1483.44 L3252.49 1478.74 Q3254.57 1479.88 3256.79 1480.43 Q3259.02 1480.99 3261.49 1480.99 Q3265.5 1480.99 3267.83 1478.88 Q3270.17 1476.78 3270.17 1473.16 Q3270.17 1469.55 3267.83 1467.45 Q3265.5 1465.34 3261.49 1465.34 Q3259.62 1465.34 3257.74 1465.76 Q3255.89 1466.17 3253.95 1467.05 L3253.95 1449.69 Z\" fill=\"#000000\" fill-rule=\"evenodd\" fill-opacity=\"1\" /><path clip-path=\"url(#clip9600)\" d=\"M 0 0 M3286.89 1449.69 L3290.82 1449.69 L3278.78 1488.65 L3274.85 1488.65 L3286.89 1449.69 Z\" fill=\"#000000\" fill-rule=\"evenodd\" fill-opacity=\"1\" /><path clip-path=\"url(#clip9600)\" d=\"M 0 0 M3299.92 1480.32 L3316.24 1480.32 L3316.24 1484.25 L3294.29 1484.25 L3294.29 1480.32 Q3296.96 1477.56 3301.54 1472.93 Q3306.14 1468.28 3307.33 1466.94 Q3309.57 1464.41 3310.45 1462.68 Q3311.35 1460.92 3311.35 1459.23 Q3311.35 1456.47 3309.41 1454.74 Q3307.49 1453 3304.39 1453 Q3302.19 1453 3299.73 1453.77 Q3297.3 1454.53 3294.52 1456.08 L3294.52 1451.36 Q3297.35 1450.22 3299.8 1449.65 Q3302.26 1449.07 3304.29 1449.07 Q3309.66 1449.07 3312.86 1451.75 Q3316.05 1454.44 3316.05 1458.93 Q3316.05 1461.06 3315.24 1462.98 Q3314.46 1464.88 3312.35 1467.47 Q3311.77 1468.14 3308.67 1471.36 Q3305.57 1474.55 3299.92 1480.32 Z\" fill=\"#000000\" fill-rule=\"evenodd\" fill-opacity=\"1\" /><path clip-path=\"url(#clip9600)\" d=\"M 0 0 M3331.31 1452.77 Q3327.7 1452.77 3325.87 1456.34 Q3324.06 1459.88 3324.06 1467.01 Q3324.06 1474.11 3325.87 1477.68 Q3327.7 1481.22 3331.31 1481.22 Q3334.94 1481.22 3336.75 1477.68 Q3338.58 1474.11 3338.58 1467.01 Q3338.58 1459.88 3336.75 1456.34 Q3334.94 1452.77 3331.31 1452.77 M3331.31 1449.07 Q3337.12 1449.07 3340.17 1453.67 Q3343.25 1458.26 3343.25 1467.01 Q3343.25 1475.73 3340.17 1480.34 Q3337.12 1484.92 3331.31 1484.92 Q3325.5 1484.92 3322.42 1480.34 Q3319.36 1475.73 3319.36 1467.01 Q3319.36 1458.26 3322.42 1453.67 Q3325.5 1449.07 3331.31 1449.07 Z\" fill=\"#000000\" fill-rule=\"evenodd\" fill-opacity=\"1\" /><path clip-path=\"url(#clip9600)\" d=\"M 0 0 M3455.83 1467.84 Q3452.5 1467.84 3450.58 1469.62 Q3448.68 1471.4 3448.68 1474.53 Q3448.68 1477.65 3450.58 1479.44 Q3452.5 1481.22 3455.83 1481.22 Q3459.16 1481.22 3461.09 1479.44 Q3463.01 1477.63 3463.01 1474.53 Q3463.01 1471.4 3461.09 1469.62 Q3459.19 1467.84 3455.83 1467.84 M3451.16 1465.85 Q3448.15 1465.11 3446.46 1463.05 Q3444.79 1460.99 3444.79 1458.03 Q3444.79 1453.88 3447.73 1451.47 Q3450.69 1449.07 3455.83 1449.07 Q3460.99 1449.07 3463.93 1451.47 Q3466.87 1453.88 3466.87 1458.03 Q3466.87 1460.99 3465.18 1463.05 Q3463.52 1465.11 3460.53 1465.85 Q3463.91 1466.64 3465.78 1468.93 Q3467.68 1471.22 3467.68 1474.53 Q3467.68 1479.55 3464.6 1482.24 Q3461.55 1484.92 3455.83 1484.92 Q3450.11 1484.92 3447.03 1482.24 Q3443.98 1479.55 3443.98 1474.53 Q3443.98 1471.22 3445.88 1468.93 Q3447.78 1466.64 3451.16 1465.85 M3449.44 1458.46 Q3449.44 1461.15 3451.11 1462.65 Q3452.8 1464.16 3455.83 1464.16 Q3458.84 1464.16 3460.53 1462.65 Q3462.24 1461.15 3462.24 1458.46 Q3462.24 1455.78 3460.53 1454.28 Q3458.84 1452.77 3455.83 1452.77 Q3452.8 1452.77 3451.11 1454.28 Q3449.44 1455.78 3449.44 1458.46 Z\" fill=\"#000000\" fill-rule=\"evenodd\" fill-opacity=\"1\" /><path clip-path=\"url(#clip9600)\" d=\"M 0 0 M3479.72 1449.69 L3483.66 1449.69 L3471.62 1488.65 L3467.68 1488.65 L3479.72 1449.69 Z\" fill=\"#000000\" fill-rule=\"evenodd\" fill-opacity=\"1\" /><path clip-path=\"url(#clip9600)\" d=\"M 0 0 M3489.53 1480.32 L3497.17 1480.32 L3497.17 1453.95 L3488.86 1455.62 L3488.86 1451.36 L3497.13 1449.69 L3501.8 1449.69 L3501.8 1480.32 L3509.44 1480.32 L3509.44 1484.25 L3489.53 1484.25 L3489.53 1480.32 Z\" fill=\"#000000\" fill-rule=\"evenodd\" fill-opacity=\"1\" /><path clip-path=\"url(#clip9600)\" d=\"M 0 0 M3524.51 1467.84 Q3521.18 1467.84 3519.26 1469.62 Q3517.36 1471.4 3517.36 1474.53 Q3517.36 1477.65 3519.26 1479.44 Q3521.18 1481.22 3524.51 1481.22 Q3527.84 1481.22 3529.77 1479.44 Q3531.69 1477.63 3531.69 1474.53 Q3531.69 1471.4 3529.77 1469.62 Q3527.87 1467.84 3524.51 1467.84 M3519.84 1465.85 Q3516.83 1465.11 3515.14 1463.05 Q3513.47 1460.99 3513.47 1458.03 Q3513.47 1453.88 3516.41 1451.47 Q3519.37 1449.07 3524.51 1449.07 Q3529.67 1449.07 3532.61 1451.47 Q3535.55 1453.88 3535.55 1458.03 Q3535.55 1460.99 3533.86 1463.05 Q3532.2 1465.11 3529.21 1465.85 Q3532.59 1466.64 3534.47 1468.93 Q3536.36 1471.22 3536.36 1474.53 Q3536.36 1479.55 3533.28 1482.24 Q3530.23 1484.92 3524.51 1484.92 Q3518.79 1484.92 3515.72 1482.24 Q3512.66 1479.55 3512.66 1474.53 Q3512.66 1471.22 3514.56 1468.93 Q3516.46 1466.64 3519.84 1465.85 M3518.12 1458.46 Q3518.12 1461.15 3519.79 1462.65 Q3521.48 1464.16 3524.51 1464.16 Q3527.52 1464.16 3529.21 1462.65 Q3530.92 1461.15 3530.92 1458.46 Q3530.92 1455.78 3529.21 1454.28 Q3527.52 1452.77 3524.51 1452.77 Q3521.48 1452.77 3519.79 1454.28 Q3518.12 1455.78 3518.12 1458.46 Z\" fill=\"#000000\" fill-rule=\"evenodd\" fill-opacity=\"1\" /><path clip-path=\"url(#clip9600)\" d=\"M 0 0 M3548.4 1449.69 L3552.34 1449.69 L3540.3 1488.65 L3536.36 1488.65 L3548.4 1449.69 Z\" fill=\"#000000\" fill-rule=\"evenodd\" fill-opacity=\"1\" /><path clip-path=\"url(#clip9600)\" d=\"M 0 0 M3561.43 1480.32 L3577.75 1480.32 L3577.75 1484.25 L3555.81 1484.25 L3555.81 1480.32 Q3558.47 1477.56 3563.05 1472.93 Q3567.66 1468.28 3568.84 1466.94 Q3571.09 1464.41 3571.96 1462.68 Q3572.87 1460.92 3572.87 1459.23 Q3572.87 1456.47 3570.92 1454.74 Q3569 1453 3565.9 1453 Q3563.7 1453 3561.25 1453.77 Q3558.82 1454.53 3556.04 1456.08 L3556.04 1451.36 Q3558.86 1450.22 3561.32 1449.65 Q3563.77 1449.07 3565.81 1449.07 Q3571.18 1449.07 3574.37 1451.75 Q3577.57 1454.44 3577.57 1458.93 Q3577.57 1461.06 3576.76 1462.98 Q3575.97 1464.88 3573.86 1467.47 Q3573.28 1468.14 3570.18 1471.36 Q3567.08 1474.55 3561.43 1480.32 Z\" fill=\"#000000\" fill-rule=\"evenodd\" fill-opacity=\"1\" /><path clip-path=\"url(#clip9600)\" d=\"M 0 0 M3592.82 1452.77 Q3589.21 1452.77 3587.38 1456.34 Q3585.58 1459.88 3585.58 1467.01 Q3585.58 1474.11 3587.38 1477.68 Q3589.21 1481.22 3592.82 1481.22 Q3596.46 1481.22 3598.26 1477.68 Q3600.09 1474.11 3600.09 1467.01 Q3600.09 1459.88 3598.26 1456.34 Q3596.46 1452.77 3592.82 1452.77 M3592.82 1449.07 Q3598.63 1449.07 3601.69 1453.67 Q3604.77 1458.26 3604.77 1467.01 Q3604.77 1475.73 3601.69 1480.34 Q3598.63 1484.92 3592.82 1484.92 Q3587.01 1484.92 3583.93 1480.34 Q3580.88 1475.73 3580.88 1467.01 Q3580.88 1458.26 3583.93 1453.67 Q3587.01 1449.07 3592.82 1449.07 Z\" fill=\"#000000\" fill-rule=\"evenodd\" fill-opacity=\"1\" /><path clip-path=\"url(#clip9600)\" d=\"M 0 0 M3678.13 1480.32 L3685.76 1480.32 L3685.76 1453.95 L3677.45 1455.62 L3677.45 1451.36 L3685.72 1449.69 L3690.39 1449.69 L3690.39 1480.32 L3698.03 1480.32 L3698.03 1484.25 L3678.13 1484.25 L3678.13 1480.32 Z\" fill=\"#000000\" fill-rule=\"evenodd\" fill-opacity=\"1\" /><path clip-path=\"url(#clip9600)\" d=\"M 0 0 M3703.91 1480.32 L3711.55 1480.32 L3711.55 1453.95 L3703.24 1455.62 L3703.24 1451.36 L3711.5 1449.69 L3716.18 1449.69 L3716.18 1480.32 L3723.82 1480.32 L3723.82 1484.25 L3703.91 1484.25 L3703.91 1480.32 Z\" fill=\"#000000\" fill-rule=\"evenodd\" fill-opacity=\"1\" /><path clip-path=\"url(#clip9600)\" d=\"M 0 0 M3735.86 1449.69 L3739.79 1449.69 L3727.75 1488.65 L3723.82 1488.65 L3735.86 1449.69 Z\" fill=\"#000000\" fill-rule=\"evenodd\" fill-opacity=\"1\" /><path clip-path=\"url(#clip9600)\" d=\"M 0 0 M3759.03 1465.62 Q3762.38 1466.34 3764.26 1468.6 Q3766.16 1470.87 3766.16 1474.21 Q3766.16 1479.32 3762.64 1482.12 Q3759.12 1484.92 3752.64 1484.92 Q3750.46 1484.92 3748.15 1484.48 Q3745.86 1484.07 3743.4 1483.21 L3743.4 1478.7 Q3745.35 1479.83 3747.66 1480.41 Q3749.98 1480.99 3752.5 1480.99 Q3756.9 1480.99 3759.19 1479.25 Q3761.5 1477.52 3761.5 1474.21 Q3761.5 1471.15 3759.35 1469.44 Q3757.22 1467.7 3753.4 1467.7 L3749.37 1467.7 L3749.37 1463.86 L3753.59 1463.86 Q3757.04 1463.86 3758.87 1462.49 Q3760.69 1461.1 3760.69 1458.51 Q3760.69 1455.85 3758.8 1454.44 Q3756.92 1453 3753.4 1453 Q3751.48 1453 3749.28 1453.42 Q3747.08 1453.84 3744.44 1454.71 L3744.44 1450.55 Q3747.11 1449.81 3749.42 1449.44 Q3751.76 1449.07 3753.82 1449.07 Q3759.14 1449.07 3762.25 1451.5 Q3765.35 1453.9 3765.35 1458.03 Q3765.35 1460.9 3763.7 1462.89 Q3762.06 1464.85 3759.03 1465.62 Z\" fill=\"#000000\" fill-rule=\"evenodd\" fill-opacity=\"1\" /><path clip-path=\"url(#clip9600)\" d=\"M 0 0 M3781.23 1452.77 Q3777.62 1452.77 3775.79 1456.34 Q3773.98 1459.88 3773.98 1467.01 Q3773.98 1474.11 3775.79 1477.68 Q3777.62 1481.22 3781.23 1481.22 Q3784.86 1481.22 3786.67 1477.68 Q3788.5 1474.11 3788.5 1467.01 Q3788.5 1459.88 3786.67 1456.34 Q3784.86 1452.77 3781.23 1452.77 M3781.23 1449.07 Q3787.04 1449.07 3790.09 1453.67 Q3793.17 1458.26 3793.17 1467.01 Q3793.17 1475.73 3790.09 1480.34 Q3787.04 1484.92 3781.23 1484.92 Q3775.42 1484.92 3772.34 1480.34 Q3769.28 1475.73 3769.28 1467.01 Q3769.28 1458.26 3772.34 1453.67 Q3775.42 1449.07 3781.23 1449.07 Z\" fill=\"#000000\" fill-rule=\"evenodd\" fill-opacity=\"1\" /><path clip-path=\"url(#clip9600)\" d=\"M 0 0 M3805.21 1449.69 L3809.14 1449.69 L3797.11 1488.65 L3793.17 1488.65 L3805.21 1449.69 Z\" fill=\"#000000\" fill-rule=\"evenodd\" fill-opacity=\"1\" /><path clip-path=\"url(#clip9600)\" d=\"M 0 0 M3818.24 1480.32 L3834.56 1480.32 L3834.56 1484.25 L3812.62 1484.25 L3812.62 1480.32 Q3815.28 1477.56 3819.86 1472.93 Q3824.47 1468.28 3825.65 1466.94 Q3827.89 1464.41 3828.77 1462.68 Q3829.68 1460.92 3829.68 1459.23 Q3829.68 1456.47 3827.73 1454.74 Q3825.81 1453 3822.71 1453 Q3820.51 1453 3818.06 1453.77 Q3815.62 1454.53 3812.85 1456.08 L3812.85 1451.36 Q3815.67 1450.22 3818.12 1449.65 Q3820.58 1449.07 3822.62 1449.07 Q3827.99 1449.07 3831.18 1451.75 Q3834.37 1454.44 3834.37 1458.93 Q3834.37 1461.06 3833.56 1462.98 Q3832.78 1464.88 3830.67 1467.47 Q3830.09 1468.14 3826.99 1471.36 Q3823.89 1474.55 3818.24 1480.32 Z\" fill=\"#000000\" fill-rule=\"evenodd\" fill-opacity=\"1\" /><path clip-path=\"url(#clip9600)\" d=\"M 0 0 M3849.63 1452.77 Q3846.02 1452.77 3844.19 1456.34 Q3842.38 1459.88 3842.38 1467.01 Q3842.38 1474.11 3844.19 1477.68 Q3846.02 1481.22 3849.63 1481.22 Q3853.26 1481.22 3855.07 1477.68 Q3856.9 1474.11 3856.9 1467.01 Q3856.9 1459.88 3855.07 1456.34 Q3853.26 1452.77 3849.63 1452.77 M3849.63 1449.07 Q3855.44 1449.07 3858.49 1453.67 Q3861.57 1458.26 3861.57 1467.01 Q3861.57 1475.73 3858.49 1480.34 Q3855.44 1484.92 3849.63 1484.92 Q3843.82 1484.92 3840.74 1480.34 Q3837.68 1475.73 3837.68 1467.01 Q3837.68 1458.26 3840.74 1453.67 Q3843.82 1449.07 3849.63 1449.07 Z\" fill=\"#000000\" fill-rule=\"evenodd\" fill-opacity=\"1\" /><path clip-path=\"url(#clip9600)\" d=\"M 0 0 M143.329 1318.13 L159.648 1318.13 L159.648 1322.07 L137.704 1322.07 L137.704 1318.13 Q140.366 1315.38 144.949 1310.75 Q149.555 1306.1 150.736 1304.76 Q152.981 1302.23 153.861 1300.5 Q154.764 1298.74 154.764 1297.05 Q154.764 1294.29 152.819 1292.56 Q150.898 1290.82 147.796 1290.82 Q145.597 1290.82 143.143 1291.58 Q140.713 1292.35 137.935 1293.9 L137.935 1289.18 Q140.759 1288.04 143.213 1287.46 Q145.666 1286.89 147.703 1286.89 Q153.074 1286.89 156.268 1289.57 Q159.463 1292.26 159.463 1296.75 Q159.463 1298.88 158.652 1300.8 Q157.865 1302.7 155.759 1305.29 Q155.18 1305.96 152.078 1309.18 Q148.977 1312.37 143.329 1318.13 Z\" fill=\"#000000\" fill-rule=\"evenodd\" fill-opacity=\"1\" /><path clip-path=\"url(#clip9600)\" d=\"M 0 0 M164.764 1287.51 L183.12 1287.51 L183.12 1291.45 L169.046 1291.45 L169.046 1299.92 Q170.064 1299.57 171.083 1299.41 Q172.101 1299.22 173.12 1299.22 Q178.907 1299.22 182.287 1302.39 Q185.666 1305.57 185.666 1310.98 Q185.666 1316.56 182.194 1319.66 Q178.722 1322.74 172.402 1322.74 Q170.227 1322.74 167.958 1322.37 Q165.713 1322 163.305 1321.26 L163.305 1316.56 Q165.389 1317.7 167.611 1318.25 Q169.833 1318.81 172.31 1318.81 Q176.314 1318.81 178.652 1316.7 Q180.99 1314.59 180.99 1310.98 Q180.99 1307.37 178.652 1305.26 Q176.314 1303.16 172.31 1303.16 Q170.435 1303.16 168.56 1303.57 Q166.708 1303.99 164.764 1304.87 L164.764 1287.51 Z\" fill=\"#000000\" fill-rule=\"evenodd\" fill-opacity=\"1\" /><path clip-path=\"url(#clip9600)\" d=\"M 0 0 M137.75 988.832 L156.106 988.832 L156.106 992.768 L142.032 992.768 L142.032 1001.24 Q143.051 1000.89 144.069 1000.73 Q145.088 1000.55 146.106 1000.55 Q151.893 1000.55 155.273 1003.72 Q158.652 1006.89 158.652 1012.3 Q158.652 1017.88 155.18 1020.99 Q151.708 1024.06 145.389 1024.06 Q143.213 1024.06 140.944 1023.69 Q138.699 1023.32 136.292 1022.58 L136.292 1017.88 Q138.375 1019.02 140.597 1019.57 Q142.819 1020.13 145.296 1020.13 Q149.301 1020.13 151.639 1018.02 Q153.977 1015.92 153.977 1012.3 Q153.977 1008.69 151.639 1006.59 Q149.301 1004.48 145.296 1004.48 Q143.421 1004.48 141.546 1004.9 Q139.694 1005.31 137.75 1006.19 L137.75 988.832 Z\" fill=\"#000000\" fill-rule=\"evenodd\" fill-opacity=\"1\" /><path clip-path=\"url(#clip9600)\" d=\"M 0 0 M173.722 991.911 Q170.111 991.911 168.282 995.476 Q166.477 999.018 166.477 1006.15 Q166.477 1013.25 168.282 1016.82 Q170.111 1020.36 173.722 1020.36 Q177.356 1020.36 179.162 1016.82 Q180.99 1013.25 180.99 1006.15 Q180.99 999.018 179.162 995.476 Q177.356 991.911 173.722 991.911 M173.722 988.208 Q179.532 988.208 182.588 992.814 Q185.666 997.397 185.666 1006.15 Q185.666 1014.87 182.588 1019.48 Q179.532 1024.06 173.722 1024.06 Q167.912 1024.06 164.833 1019.48 Q161.777 1014.87 161.777 1006.15 Q161.777 997.397 164.833 992.814 Q167.912 988.208 173.722 988.208 Z\" fill=\"#000000\" fill-rule=\"evenodd\" fill-opacity=\"1\" /><path clip-path=\"url(#clip9600)\" d=\"M 0 0 M137.426 690.155 L159.648 690.155 L159.648 692.146 L147.102 724.715 L142.217 724.715 L154.023 694.09 L137.426 694.09 L137.426 690.155 Z\" fill=\"#000000\" fill-rule=\"evenodd\" fill-opacity=\"1\" /><path clip-path=\"url(#clip9600)\" d=\"M 0 0 M164.764 690.155 L183.12 690.155 L183.12 694.09 L169.046 694.09 L169.046 702.562 Q170.064 702.215 171.083 702.053 Q172.101 701.868 173.12 701.868 Q178.907 701.868 182.287 705.039 Q185.666 708.21 185.666 713.627 Q185.666 719.206 182.194 722.308 Q178.722 725.386 172.402 725.386 Q170.227 725.386 167.958 725.016 Q165.713 724.646 163.305 723.905 L163.305 719.206 Q165.389 720.34 167.611 720.896 Q169.833 721.451 172.31 721.451 Q176.314 721.451 178.652 719.345 Q180.99 717.238 180.99 713.627 Q180.99 710.016 178.652 707.909 Q176.314 705.803 172.31 705.803 Q170.435 705.803 168.56 706.22 Q166.708 706.636 164.764 707.516 L164.764 690.155 Z\" fill=\"#000000\" fill-rule=\"evenodd\" fill-opacity=\"1\" /><path clip-path=\"url(#clip9600)\" d=\"M 0 0 M111.731 422.102 L119.37 422.102 L119.37 395.737 L111.06 397.403 L111.06 393.144 L119.324 391.477 L124 391.477 L124 422.102 L131.639 422.102 L131.639 426.037 L111.731 426.037 L111.731 422.102 Z\" fill=\"#000000\" fill-rule=\"evenodd\" fill-opacity=\"1\" /><path clip-path=\"url(#clip9600)\" d=\"M 0 0 M146.708 394.556 Q143.097 394.556 141.268 398.121 Q139.463 401.663 139.463 408.792 Q139.463 415.899 141.268 419.463 Q143.097 423.005 146.708 423.005 Q150.342 423.005 152.148 419.463 Q153.977 415.899 153.977 408.792 Q153.977 401.663 152.148 398.121 Q150.342 394.556 146.708 394.556 M146.708 390.852 Q152.518 390.852 155.574 395.459 Q158.652 400.042 158.652 408.792 Q158.652 417.519 155.574 422.125 Q152.518 426.709 146.708 426.709 Q140.898 426.709 137.819 422.125 Q134.764 417.519 134.764 408.792 Q134.764 400.042 137.819 395.459 Q140.898 390.852 146.708 390.852 Z\" fill=\"#000000\" fill-rule=\"evenodd\" fill-opacity=\"1\" /><path clip-path=\"url(#clip9600)\" d=\"M 0 0 M173.722 394.556 Q170.111 394.556 168.282 398.121 Q166.477 401.663 166.477 408.792 Q166.477 415.899 168.282 419.463 Q170.111 423.005 173.722 423.005 Q177.356 423.005 179.162 419.463 Q180.99 415.899 180.99 408.792 Q180.99 401.663 179.162 398.121 Q177.356 394.556 173.722 394.556 M173.722 390.852 Q179.532 390.852 182.588 395.459 Q185.666 400.042 185.666 408.792 Q185.666 417.519 182.588 422.125 Q179.532 426.709 173.722 426.709 Q167.912 426.709 164.833 422.125 Q161.777 417.519 161.777 408.792 Q161.777 400.042 164.833 395.459 Q167.912 390.852 173.722 390.852 Z\" fill=\"#000000\" fill-rule=\"evenodd\" fill-opacity=\"1\" /><path clip-path=\"url(#clip9600)\" d=\"M 0 0 M114.324 123.425 L121.963 123.425 L121.963 97.0591 L113.653 98.7258 L113.653 94.4665 L121.917 92.7999 L126.592 92.7999 L126.592 123.425 L134.231 123.425 L134.231 127.36 L114.324 127.36 L114.324 123.425 Z\" fill=\"#000000\" fill-rule=\"evenodd\" fill-opacity=\"1\" /><path clip-path=\"url(#clip9600)\" d=\"M 0 0 M143.329 123.425 L159.648 123.425 L159.648 127.36 L137.704 127.36 L137.704 123.425 Q140.366 120.67 144.949 116.04 Q149.555 111.388 150.736 110.045 Q152.981 107.522 153.861 105.786 Q154.764 104.027 154.764 102.337 Q154.764 99.5822 152.819 97.8461 Q150.898 96.11 147.796 96.11 Q145.597 96.11 143.143 96.8739 Q140.713 97.6378 137.935 99.1887 L137.935 94.4665 Q140.759 93.3323 143.213 92.7536 Q145.666 92.1749 147.703 92.1749 Q153.074 92.1749 156.268 94.86 Q159.463 97.5452 159.463 102.036 Q159.463 104.166 158.652 106.087 Q157.865 107.985 155.759 110.578 Q155.18 111.249 152.078 114.466 Q148.977 117.661 143.329 123.425 Z\" fill=\"#000000\" fill-rule=\"evenodd\" fill-opacity=\"1\" /><path clip-path=\"url(#clip9600)\" d=\"M 0 0 M164.764 92.7999 L183.12 92.7999 L183.12 96.735 L169.046 96.735 L169.046 105.207 Q170.064 104.86 171.083 104.698 Q172.101 104.513 173.12 104.513 Q178.907 104.513 182.287 107.684 Q185.666 110.855 185.666 116.272 Q185.666 121.851 182.194 124.952 Q178.722 128.031 172.402 128.031 Q170.227 128.031 167.958 127.661 Q165.713 127.29 163.305 126.55 L163.305 121.851 Q165.389 122.985 167.611 123.54 Q169.833 124.096 172.31 124.096 Q176.314 124.096 178.652 121.99 Q180.99 119.883 180.99 116.272 Q180.99 112.661 178.652 110.554 Q176.314 108.448 172.31 108.448 Q170.435 108.448 168.56 108.865 Q166.708 109.281 164.764 110.161 L164.764 92.7999 Z\" fill=\"#000000\" fill-rule=\"evenodd\" fill-opacity=\"1\" /><path clip-path=\"url(#clip9600)\" d=\"M 0 0 M1994.58 1525.47 L1994.58 1535.6 L2006.64 1535.6 L2006.64 1540.15 L1994.58 1540.15 L1994.58 1559.5 Q1994.58 1563.86 1995.75 1565.1 Q1996.96 1566.34 2000.62 1566.34 L2006.64 1566.34 L2006.64 1571.24 L2000.62 1571.24 Q1993.84 1571.24 1991.27 1568.73 Q1988.69 1566.18 1988.69 1559.5 L1988.69 1540.15 L1984.39 1540.15 L1984.39 1535.6 L1988.69 1535.6 L1988.69 1525.47 L1994.58 1525.47 Z\" fill=\"#000000\" fill-rule=\"evenodd\" fill-opacity=\"1\" /><path clip-path=\"url(#clip9600)\" d=\"M 0 0 M2012.78 1535.6 L2018.64 1535.6 L2018.64 1571.24 L2012.78 1571.24 L2012.78 1535.6 M2012.78 1521.72 L2018.64 1521.72 L2018.64 1529.13 L2012.78 1529.13 L2012.78 1521.72 Z\" fill=\"#000000\" fill-rule=\"evenodd\" fill-opacity=\"1\" /><path clip-path=\"url(#clip9600)\" d=\"M 0 0 M2052.54 1542.44 Q2054.73 1538.49 2057.79 1536.61 Q2060.84 1534.74 2064.98 1534.74 Q2070.55 1534.74 2073.57 1538.65 Q2076.6 1542.53 2076.6 1549.73 L2076.6 1571.24 L2070.71 1571.24 L2070.71 1549.92 Q2070.71 1544.79 2068.89 1542.31 Q2067.08 1539.83 2063.36 1539.83 Q2058.81 1539.83 2056.16 1542.85 Q2053.52 1545.88 2053.52 1551.1 L2053.52 1571.24 L2047.63 1571.24 L2047.63 1549.92 Q2047.63 1544.76 2045.82 1542.31 Q2044 1539.83 2040.22 1539.83 Q2035.73 1539.83 2033.09 1542.88 Q2030.45 1545.91 2030.45 1551.1 L2030.45 1571.24 L2024.56 1571.24 L2024.56 1535.6 L2030.45 1535.6 L2030.45 1541.13 Q2032.45 1537.86 2035.25 1536.3 Q2038.05 1534.74 2041.9 1534.74 Q2045.79 1534.74 2048.49 1536.71 Q2051.23 1538.68 2052.54 1542.44 Z\" fill=\"#000000\" fill-rule=\"evenodd\" fill-opacity=\"1\" /><path clip-path=\"url(#clip9600)\" d=\"M 0 0 M2113.23 1551.96 L2113.23 1554.82 L2086.31 1554.82 Q2086.69 1560.87 2089.93 1564.05 Q2093.21 1567.2 2099.04 1567.2 Q2102.41 1567.2 2105.56 1566.37 Q2108.74 1565.55 2111.86 1563.89 L2111.86 1569.43 Q2108.71 1570.77 2105.4 1571.47 Q2102.09 1572.17 2098.69 1572.17 Q2090.16 1572.17 2085.16 1567.2 Q2080.19 1562.24 2080.19 1553.77 Q2080.19 1545.02 2084.9 1539.89 Q2089.65 1534.74 2097.67 1534.74 Q2104.86 1534.74 2109.03 1539.38 Q2113.23 1544 2113.23 1551.96 M2107.38 1550.24 Q2107.31 1545.43 2104.67 1542.57 Q2102.06 1539.7 2097.73 1539.7 Q2092.83 1539.7 2089.87 1542.47 Q2086.94 1545.24 2086.5 1550.27 L2107.38 1550.24 Z\" fill=\"#000000\" fill-rule=\"evenodd\" fill-opacity=\"1\" /><path clip-path=\"url(#clip9600)\" d=\"M 0 0 M21.9562 871.613 L21.9562 865.757 L57.6042 865.757 L57.6042 871.613 L21.9562 871.613 M8.07896 871.613 L8.07896 865.757 L15.495 865.757 L15.495 871.613 L8.07896 871.613 Z\" fill=\"#000000\" fill-rule=\"evenodd\" fill-opacity=\"1\" /><path clip-path=\"url(#clip9600)\" d=\"M 0 0 M36.0881 829.981 L57.6042 829.981 L57.6042 835.838 L36.279 835.838 Q31.2183 835.838 28.7038 837.811 Q26.1894 839.785 26.1894 843.731 Q26.1894 848.474 29.2131 851.211 Q32.2368 853.948 37.4567 853.948 L57.6042 853.948 L57.6042 859.837 L21.9562 859.837 L21.9562 853.948 L27.4944 853.948 Q24.2797 851.848 22.6883 849.015 Q21.0968 846.15 21.0968 842.426 Q21.0968 836.283 24.9163 833.132 Q28.7038 829.981 36.0881 829.981 Z\" fill=\"#000000\" fill-rule=\"evenodd\" fill-opacity=\"1\" /><path clip-path=\"url(#clip9600)\" d=\"M 0 0 M27.3671 800.381 L8.07896 800.381 L8.07896 794.524 L57.6042 794.524 L57.6042 800.381 L52.257 800.381 Q55.4398 802.227 56.9994 805.06 Q58.5272 807.861 58.5272 811.807 Q58.5272 818.269 53.371 822.343 Q48.2147 826.385 39.812 826.385 Q31.4093 826.385 26.2531 822.343 Q21.0968 818.269 21.0968 811.807 Q21.0968 807.861 22.6564 805.06 Q24.1842 802.227 27.3671 800.381 M39.812 820.337 Q46.2732 820.337 49.9653 817.696 Q53.6256 815.022 53.6256 810.375 Q53.6256 805.728 49.9653 803.054 Q46.2732 800.381 39.812 800.381 Q33.3508 800.381 29.6905 803.054 Q25.9984 805.728 25.9984 810.375 Q25.9984 815.022 29.6905 817.696 Q33.3508 820.337 39.812 820.337 Z\" fill=\"#000000\" fill-rule=\"evenodd\" fill-opacity=\"1\" /><path clip-path=\"url(#clip9600)\" d=\"M 0 0 M21.9562 788.382 L21.9562 782.525 L57.6042 782.525 L57.6042 788.382 L21.9562 788.382 M8.07896 788.382 L8.07896 782.525 L15.495 782.525 L15.495 788.382 L8.07896 788.382 Z\" fill=\"#000000\" fill-rule=\"evenodd\" fill-opacity=\"1\" /><path clip-path=\"url(#clip9600)\" d=\"M 0 0 M23.3248 750.728 L28.7993 750.728 Q27.4307 753.211 26.7623 755.725 Q26.0621 758.208 26.0621 760.754 Q26.0621 766.452 29.6905 769.603 Q33.2872 772.754 39.812 772.754 Q46.3369 772.754 49.9653 769.603 Q53.5619 766.452 53.5619 760.754 Q53.5619 758.208 52.8935 755.725 Q52.1933 753.211 50.8247 750.728 L56.2355 750.728 Q57.3814 753.179 57.9543 755.821 Q58.5272 758.431 58.5272 761.391 Q58.5272 769.444 53.4664 774.186 Q48.4057 778.928 39.812 778.928 Q31.091 778.928 26.0939 774.154 Q21.0968 769.348 21.0968 761.009 Q21.0968 758.304 21.6697 755.725 Q22.2108 753.147 23.3248 750.728 Z\" fill=\"#000000\" fill-rule=\"evenodd\" fill-opacity=\"1\" /><path clip-path=\"url(#clip9600)\" d=\"M 0 0 M39.6847 728.385 Q39.6847 735.483 41.3079 738.22 Q42.9312 740.957 46.8461 740.957 Q49.9653 740.957 51.8114 738.92 Q53.6256 736.851 53.6256 733.318 Q53.6256 728.448 50.1881 725.52 Q46.7188 722.56 40.9897 722.56 L39.6847 722.56 L39.6847 728.385 M37.2657 716.704 L57.6042 716.704 L57.6042 722.56 L52.1933 722.56 Q55.4398 724.565 56.9994 727.557 Q58.5272 730.549 58.5272 734.878 Q58.5272 740.352 55.4716 743.599 Q52.3843 746.813 47.2281 746.813 Q41.2125 746.813 38.1569 742.803 Q35.1014 738.761 35.1014 730.772 L35.1014 722.56 L34.5285 722.56 Q30.4862 722.56 28.2901 725.234 Q26.0621 727.875 26.0621 732.682 Q26.0621 735.737 26.7941 738.634 Q27.5262 741.53 28.9903 744.204 L23.5795 744.204 Q22.3381 740.989 21.7334 737.965 Q21.0968 734.941 21.0968 732.077 Q21.0968 724.343 25.1072 720.523 Q29.1176 716.704 37.2657 716.704 Z\" fill=\"#000000\" fill-rule=\"evenodd\" fill-opacity=\"1\" /><path clip-path=\"url(#clip9600)\" d=\"M 0 0 M11.8347 704.768 L21.9562 704.768 L21.9562 692.705 L26.5077 692.705 L26.5077 704.768 L45.8594 704.768 Q50.2199 704.768 51.4613 703.59 Q52.7026 702.381 52.7026 698.721 L52.7026 692.705 L57.6042 692.705 L57.6042 698.721 Q57.6042 705.5 55.0897 708.078 Q52.5434 710.656 45.8594 710.656 L26.5077 710.656 L26.5077 714.953 L21.9562 714.953 L21.9562 710.656 L11.8347 710.656 L11.8347 704.768 Z\" fill=\"#000000\" fill-rule=\"evenodd\" fill-opacity=\"1\" /><path clip-path=\"url(#clip9600)\" d=\"M 0 0 M26.0621 672.748 Q26.0621 677.459 29.7542 680.196 Q33.4145 682.934 39.812 682.934 Q46.2095 682.934 49.9017 680.228 Q53.5619 677.491 53.5619 672.748 Q53.5619 668.07 49.8698 665.332 Q46.1777 662.595 39.812 662.595 Q33.4781 662.595 29.786 665.332 Q26.0621 668.07 26.0621 672.748 M21.0968 672.748 Q21.0968 665.11 26.0621 660.749 Q31.0273 656.389 39.812 656.389 Q48.5649 656.389 53.5619 660.749 Q58.5272 665.11 58.5272 672.748 Q58.5272 680.419 53.5619 684.78 Q48.5649 689.108 39.812 689.108 Q31.0273 689.108 26.0621 684.78 Q21.0968 680.419 21.0968 672.748 Z\" fill=\"#000000\" fill-rule=\"evenodd\" fill-opacity=\"1\" /><path clip-path=\"url(#clip9600)\" d=\"M 0 0 M27.4307 629.589 Q26.8578 630.576 26.6032 631.753 Q26.3167 632.899 26.3167 634.3 Q26.3167 639.265 29.5632 641.938 Q32.7779 644.58 38.8253 644.58 L57.6042 644.58 L57.6042 650.468 L21.9562 650.468 L21.9562 644.58 L27.4944 644.58 Q24.2479 642.734 22.6883 639.774 Q21.0968 636.814 21.0968 632.581 Q21.0968 631.976 21.1923 631.244 Q21.256 630.512 21.4151 629.621 L27.4307 629.589 Z\" fill=\"#000000\" fill-rule=\"evenodd\" fill-opacity=\"1\" /><path clip-path=\"url(#clip9600)\" d=\"M 0 0 M23.0065 600.721 L28.5447 600.721 Q27.2716 603.203 26.635 605.877 Q25.9984 608.55 25.9984 611.415 Q25.9984 615.775 27.3352 617.972 Q28.672 620.136 31.3456 620.136 Q33.3826 620.136 34.5603 618.576 Q35.7061 617.017 36.7565 612.306 L37.2021 610.301 Q38.5389 604.062 40.9897 601.453 Q43.4086 598.811 47.7691 598.811 Q52.7344 598.811 55.6308 602.758 Q58.5272 606.672 58.5272 613.547 Q58.5272 616.412 57.9543 619.531 Q57.4132 622.619 56.2992 626.056 L50.2518 626.056 Q51.9387 622.81 52.798 619.658 Q53.6256 616.507 53.6256 613.42 Q53.6256 609.282 52.2251 607.054 Q50.7929 604.826 48.2147 604.826 Q45.8276 604.826 44.5545 606.45 Q43.2813 608.041 42.1037 613.484 L41.6262 615.521 Q40.4804 620.963 38.1251 623.382 Q35.738 625.801 31.6002 625.801 Q26.5713 625.801 23.8341 622.237 Q21.0968 618.672 21.0968 612.115 Q21.0968 608.869 21.5743 606.004 Q22.0517 603.139 23.0065 600.721 Z\" fill=\"#000000\" fill-rule=\"evenodd\" fill-opacity=\"1\" /><polyline clip-path=\"url(#clip9602)\" style=\"stroke:#009af9; stroke-width:4; stroke-opacity:1; fill:none\" points=\"\n",
       "  328.108,1233.11 330.466,1233.11 332.823,1233.11 335.18,1233.11 337.537,1233.11 339.894,1233.11 342.251,1197.27 344.608,1185.32 346.965,1185.32 349.323,1185.32 \n",
       "  351.68,1185.32 354.037,1173.37 356.394,1161.42 358.751,1161.42 361.108,1161.42 363.465,1161.42 365.822,1161.42 368.18,1161.42 370.537,1161.42 372.894,1149.48 \n",
       "  375.251,1149.48 377.608,1161.42 379.965,1161.42 382.322,1161.42 384.679,1161.42 387.037,1161.42 389.394,1161.42 391.751,1161.42 394.108,1161.42 396.465,1173.37 \n",
       "  398.822,1173.37 401.179,1173.37 403.536,1173.37 405.894,1161.42 408.251,1161.42 410.608,1161.42 412.965,1149.48 415.322,1149.48 417.679,1149.48 420.036,1161.42 \n",
       "  422.393,1161.42 424.751,1161.42 427.108,1161.42 429.465,1161.42 431.822,1161.42 434.179,1161.42 436.536,1161.42 438.893,1161.42 441.25,1173.37 443.608,1173.37 \n",
       "  445.965,1173.37 448.322,1173.37 450.679,1173.37 453.036,1173.37 455.393,1161.42 457.75,1149.48 460.108,1137.53 462.465,1137.53 464.822,1137.53 467.179,1137.53 \n",
       "  469.536,1149.48 471.893,1161.42 474.25,1161.42 476.607,1161.42 478.965,1149.48 481.322,1149.48 483.679,1149.48 486.036,1149.48 488.393,1137.53 490.75,1149.48 \n",
       "  493.107,1137.53 495.464,1125.58 497.822,1125.58 500.179,1125.58 502.536,1101.69 504.893,1101.69 507.25,1089.74 509.607,1089.74 511.964,1089.74 514.321,1089.74 \n",
       "  516.679,1089.74 519.036,1089.74 521.393,1077.8 523.75,1065.85 526.107,1065.85 528.464,1065.85 530.821,1065.85 533.178,1065.85 535.536,1065.85 537.893,1065.85 \n",
       "  540.25,1030.01 542.607,1030.01 544.964,1041.95 547.321,1041.95 549.678,1041.95 552.035,1053.9 554.393,1053.9 556.75,1053.9 559.107,1053.9 561.464,1053.9 \n",
       "  563.821,1053.9 566.178,1053.9 568.535,1053.9 570.892,1065.85 573.25,1053.9 575.607,1053.9 577.964,1053.9 580.321,1053.9 582.678,1053.9 585.035,1053.9 \n",
       "  587.392,1053.9 589.749,1077.8 592.107,1077.8 594.464,1077.8 596.821,1077.8 599.178,1077.8 601.535,1089.74 603.892,1077.8 606.249,1077.8 608.607,1077.8 \n",
       "  610.964,1077.8 613.321,1077.8 615.678,1077.8 618.035,1077.8 620.392,1077.8 622.749,1065.85 625.106,1077.8 627.464,1077.8 629.821,1077.8 632.178,1077.8 \n",
       "  634.535,1077.8 636.892,1089.74 639.249,1089.74 641.606,1089.74 643.963,1089.74 646.321,1089.74 648.678,1089.74 651.035,1089.74 653.392,1089.74 655.749,1101.69 \n",
       "  658.106,1089.74 660.463,1089.74 662.82,1089.74 665.178,1089.74 667.535,1065.85 669.892,1041.95 672.249,1041.95 674.606,1041.95 676.963,1053.9 679.32,1053.9 \n",
       "  681.677,1053.9 684.035,1053.9 686.392,1053.9 688.749,1053.9 691.106,1053.9 693.463,1041.95 695.82,1041.95 698.177,1041.95 700.534,1041.95 702.892,1041.95 \n",
       "  705.249,1053.9 707.606,1053.9 709.963,1053.9 712.32,1053.9 714.677,1053.9 717.034,1053.9 719.391,1041.95 721.749,1065.85 724.106,1077.8 726.463,1065.85 \n",
       "  728.82,1065.85 731.177,1065.85 733.534,1053.9 735.891,1053.9 738.248,1041.95 740.606,1041.95 742.963,1041.95 745.32,1041.95 747.677,1041.95 750.034,1041.95 \n",
       "  752.391,1041.95 754.748,1041.95 757.106,1030.01 759.463,1030.01 761.82,1030.01 764.177,1030.01 766.534,1030.01 768.891,1030.01 771.248,1030.01 773.605,1018.06 \n",
       "  775.963,1018.06 778.32,1018.06 780.677,1018.06 783.034,1018.06 785.391,1018.06 787.748,1006.11 790.105,1006.11 792.462,1006.11 794.82,1006.11 797.177,1006.11 \n",
       "  799.534,994.165 801.891,994.165 804.248,994.165 806.605,1006.11 808.962,1006.11 811.319,1006.11 813.677,1006.11 816.034,994.165 818.391,1006.11 820.748,994.165 \n",
       "  823.105,994.165 825.462,1006.11 827.819,1006.11 830.176,1006.11 832.534,994.165 834.891,994.165 837.248,994.165 839.605,1006.11 841.962,1006.11 844.319,1006.11 \n",
       "  846.676,1006.11 849.033,1006.11 851.391,1006.11 853.748,982.218 856.105,994.165 858.462,982.218 860.819,982.218 863.176,982.218 865.533,982.218 867.89,982.218 \n",
       "  870.248,982.218 872.605,982.218 874.962,982.218 877.319,982.218 879.676,982.218 882.033,982.218 884.39,982.218 886.747,970.271 889.105,958.324 891.462,958.324 \n",
       "  893.819,958.324 896.176,958.324 898.533,946.377 900.89,946.377 903.247,934.43 905.605,934.43 907.962,934.43 910.319,934.43 912.676,934.43 915.033,934.43 \n",
       "  917.39,922.483 919.747,934.43 922.104,946.377 924.462,946.377 926.819,946.377 929.176,946.377 931.533,946.377 933.89,934.43 936.247,934.43 938.604,946.377 \n",
       "  940.961,970.271 943.319,970.271 945.676,970.271 948.033,970.271 950.39,946.377 952.747,958.324 955.104,958.324 957.461,958.324 959.818,958.324 962.176,958.324 \n",
       "  964.533,958.324 966.89,958.324 969.247,946.377 971.604,946.377 973.961,934.43 976.318,934.43 978.675,934.43 981.033,934.43 983.39,946.377 985.747,958.324 \n",
       "  988.104,958.324 990.461,958.324 992.818,958.324 995.175,958.324 997.532,934.43 999.89,934.43 1002.25,922.483 1004.6,922.483 1006.96,910.536 1009.32,910.536 \n",
       "  1011.68,910.536 1014.03,910.536 1016.39,898.589 1018.75,898.589 1021.1,898.589 1023.46,898.589 1025.82,898.589 1028.18,898.589 1030.53,910.536 1032.89,898.589 \n",
       "  1035.25,898.589 1037.6,898.589 1039.96,898.589 1042.32,898.589 1044.67,898.589 1047.03,886.641 1049.39,874.694 1051.75,874.694 1054.1,862.747 1056.46,862.747 \n",
       "  1058.82,862.747 1061.17,862.747 1063.53,862.747 1065.89,850.8 1068.25,850.8 1070.6,850.8 1072.96,850.8 1075.32,850.8 1077.67,850.8 1080.03,838.853 \n",
       "  1082.39,838.853 1084.75,814.959 1087.1,814.959 1089.46,803.012 1091.82,803.012 1094.17,803.012 1096.53,803.012 1098.89,791.065 1101.25,791.065 1103.6,791.065 \n",
       "  1105.96,791.065 1108.32,791.065 1110.67,791.065 1113.03,791.065 1115.39,791.065 1117.75,779.118 1120.1,779.118 1122.46,779.118 1124.82,779.118 1127.17,779.118 \n",
       "  1129.53,779.118 1131.89,779.118 1134.25,779.118 1136.6,779.118 1138.96,791.065 1141.32,791.065 1143.67,791.065 1146.03,791.065 1148.39,791.065 1150.75,803.012 \n",
       "  1153.1,791.065 1155.46,791.065 1157.82,791.065 1160.17,791.065 1162.53,791.065 1164.89,767.17 1167.25,779.118 1169.6,779.118 1171.96,779.118 1174.32,779.118 \n",
       "  1176.67,779.118 1179.03,767.17 1181.39,743.276 1183.75,731.329 1186.1,695.488 1188.46,695.488 1190.82,695.488 1193.17,695.488 1195.53,671.594 1197.89,695.488 \n",
       "  1200.25,707.435 1202.6,707.435 1204.96,695.488 1207.32,695.488 1209.67,695.488 1212.03,695.488 1214.39,671.594 1216.75,659.647 1219.1,659.647 1221.46,659.647 \n",
       "  1223.82,659.647 1226.17,659.647 1228.53,635.752 1230.89,647.699 1233.25,647.699 1235.6,647.699 1237.96,647.699 1240.32,647.699 1242.67,647.699 1245.03,647.699 \n",
       "  1247.39,647.699 1249.75,647.699 1252.1,647.699 1254.46,635.752 1256.82,635.752 1259.17,635.752 1261.53,635.752 1263.89,635.752 1266.24,635.752 1268.6,611.858 \n",
       "  1270.96,599.911 1273.32,599.911 1275.67,599.911 1278.03,587.964 1280.39,576.017 1282.74,587.964 1285.1,564.07 1287.46,540.176 1289.82,540.176 1292.17,540.176 \n",
       "  1294.53,540.176 1296.89,516.281 1299.24,504.334 1301.6,504.334 1303.96,516.281 1306.32,516.281 1308.67,516.281 1311.03,492.387 1313.39,492.387 1315.74,480.44 \n",
       "  1318.1,468.493 1320.46,456.546 1322.82,456.546 1325.17,456.546 1327.53,456.546 1329.89,492.387 1332.24,480.44 1334.6,492.387 1336.96,516.281 1339.32,516.281 \n",
       "  1341.67,516.281 1344.03,576.017 1346.39,635.752 1348.74,599.911 1351.1,635.752 1353.46,695.488 1355.82,695.488 1358.17,695.488 1360.53,647.699 1362.89,659.647 \n",
       "  1365.24,635.752 1367.6,599.911 1369.96,576.017 1372.32,576.017 1374.67,576.017 1377.03,576.017 1379.39,611.858 1381.74,599.911 1384.1,611.858 1386.46,587.964 \n",
       "  1388.82,587.964 1391.17,587.964 1393.53,552.123 1395.89,540.176 1398.24,564.07 1400.6,611.858 1402.96,671.594 1405.32,671.594 1407.67,671.594 1410.03,635.752 \n",
       "  1412.39,623.805 1414.74,647.699 1417.1,635.752 1419.46,587.964 1421.82,587.964 1424.17,587.964 1426.53,576.017 1428.89,587.964 1431.24,611.858 1433.6,623.805 \n",
       "  1435.96,623.805 1438.32,623.805 1440.67,623.805 1443.03,635.752 1445.39,647.699 1447.74,623.805 1450.1,671.594 1452.46,719.382 1454.82,719.382 1457.17,719.382 \n",
       "  1459.53,707.435 1461.89,683.541 1464.24,719.382 1466.6,695.488 1468.96,695.488 1471.31,695.488 1473.67,695.488 1476.03,719.382 1478.39,731.329 1480.74,695.488 \n",
       "  1483.1,671.594 1485.46,683.541 1487.81,683.541 1490.17,683.541 1492.53,695.488 1494.89,683.541 1497.24,695.488 1499.6,671.594 1501.96,659.647 1504.31,659.647 \n",
       "  1506.67,659.647 1509.03,659.647 1511.39,635.752 1513.74,647.699 1516.1,647.699 1518.46,659.647 1520.81,659.647 1523.17,659.647 1525.53,671.594 1527.89,671.594 \n",
       "  1530.24,719.382 1532.6,683.541 1534.96,695.488 1537.31,695.488 1539.67,695.488 1542.03,683.541 1544.39,719.382 1546.74,707.435 1549.1,731.329 1551.46,695.488 \n",
       "  1553.81,695.488 1556.17,695.488 1558.53,683.541 1560.89,683.541 1563.24,671.594 1565.6,647.699 1567.96,635.752 1570.31,635.752 1572.67,635.752 1575.03,623.805 \n",
       "  1577.39,647.699 1579.74,647.699 1582.1,647.699 1584.46,647.699 1586.81,647.699 1589.17,647.699 1591.53,611.858 1593.89,623.805 1596.24,635.752 1598.6,635.752 \n",
       "  1600.96,647.699 1603.31,647.699 1605.67,647.699 1608.03,647.699 1610.39,659.647 1612.74,659.647 1615.1,671.594 1617.46,659.647 1619.81,659.647 1622.17,659.647 \n",
       "  1624.53,635.752 1626.89,647.699 1629.24,611.858 1631.6,587.964 1633.96,587.964 1636.31,587.964 1638.67,587.964 1641.03,587.964 1643.39,587.964 1645.74,587.964 \n",
       "  1648.1,587.964 1650.46,611.858 1652.81,611.858 1655.17,611.858 1657.53,623.805 1659.89,647.699 1662.24,647.699 1664.6,659.647 1666.96,659.647 1669.31,659.647 \n",
       "  1671.67,659.647 1674.03,683.541 1676.39,695.488 1678.74,671.594 1681.1,695.488 1683.46,683.541 1685.81,683.541 1688.17,683.541 1690.53,695.488 1692.88,683.541 \n",
       "  1695.24,683.541 1697.6,695.488 1699.96,671.594 1702.31,671.594 1704.67,671.594 1707.03,647.699 1709.38,635.752 1711.74,647.699 1714.1,635.752 1716.46,623.805 \n",
       "  1718.81,623.805 1721.17,623.805 1723.53,623.805 1725.88,611.858 1728.24,599.911 1730.6,611.858 1732.96,611.858 1735.31,611.858 1737.67,611.858 1740.03,611.858 \n",
       "  1742.38,599.911 1744.74,576.017 1747.1,564.07 1749.46,564.07 1751.81,564.07 1754.17,564.07 1756.53,576.017 1758.88,576.017 1761.24,576.017 1763.6,587.964 \n",
       "  1765.96,576.017 1768.31,576.017 1770.67,576.017 1773.03,564.07 1775.38,552.123 1777.74,564.07 1780.1,564.07 1782.46,587.964 1784.81,587.964 1787.17,587.964 \n",
       "  1789.53,587.964 1791.88,587.964 1794.24,599.911 1796.6,564.07 1798.96,552.123 1801.31,552.123 1803.67,552.123 1806.03,540.176 1808.38,528.228 1810.74,540.176 \n",
       "  1813.1,540.176 1815.46,540.176 1817.81,540.176 1820.17,540.176 1822.53,516.281 1824.88,504.334 1827.24,504.334 1829.6,504.334 1831.96,516.281 1834.31,516.281 \n",
       "  1836.67,516.281 1839.03,516.281 1841.38,528.228 1843.74,516.281 1846.1,516.281 1848.46,516.281 1850.81,516.281 1853.17,516.281 1855.53,516.281 1857.88,516.281 \n",
       "  1860.24,504.334 1862.6,504.334 1864.96,504.334 1867.31,504.334 1869.67,504.334 1872.03,504.334 1874.38,492.387 1876.74,468.493 1879.1,444.599 1881.46,444.599 \n",
       "  1883.81,444.599 1886.17,444.599 1888.53,444.599 1890.88,456.546 1893.24,456.546 1895.6,456.546 1897.95,468.493 1900.31,468.493 1902.67,468.493 1905.03,444.599 \n",
       "  1907.38,432.652 1909.74,420.705 1912.1,432.652 1914.45,444.599 1916.81,444.599 1919.17,444.599 1921.53,468.493 1923.88,468.493 1926.24,468.493 1928.6,552.123 \n",
       "  1930.95,576.017 1933.31,576.017 1935.67,576.017 1938.03,576.017 1940.38,540.176 1942.74,540.176 1945.1,552.123 1947.45,564.07 1949.81,564.07 1952.17,564.07 \n",
       "  1954.53,564.07 1956.88,587.964 1959.24,587.964 1961.6,611.858 1963.95,635.752 1966.31,635.752 1968.67,635.752 1971.03,623.805 1973.38,635.752 1975.74,587.964 \n",
       "  1978.1,587.964 1980.45,564.07 1982.81,564.07 1985.17,564.07 1987.53,576.017 1989.88,552.123 1992.24,504.334 1994.6,492.387 1996.95,504.334 1999.31,504.334 \n",
       "  2001.67,504.334 2004.03,528.228 2006.38,576.017 2008.74,576.017 2011.1,587.964 2013.45,576.017 2015.81,576.017 2018.17,576.017 2020.53,587.964 2022.88,659.647 \n",
       "  2025.24,659.647 2027.6,659.647 2029.95,683.541 2032.31,683.541 2034.67,683.541 2037.03,659.647 2039.38,647.699 2041.74,587.964 2044.1,576.017 2046.45,564.07 \n",
       "  2048.81,564.07 2051.17,564.07 2053.53,528.228 2055.88,540.176 2058.24,540.176 2060.6,635.752 2062.95,611.858 2065.31,611.858 2067.67,611.858 2070.03,683.541 \n",
       "  2072.38,647.699 2074.74,647.699 2077.1,647.699 2079.45,683.541 2081.81,683.541 2084.17,683.541 2086.53,719.382 2088.88,743.276 2091.24,731.329 2093.6,803.012 \n",
       "  2095.95,814.959 2098.31,814.959 2100.67,814.959 2103.02,910.536 2105.38,910.536 2107.74,850.8 2110.1,826.906 2112.45,791.065 2114.81,791.065 2117.17,791.065 \n",
       "  2119.52,803.012 2121.88,803.012 2124.24,791.065 2126.6,814.959 2128.95,779.118 2131.31,779.118 2133.67,779.118 2136.02,767.17 2138.38,743.276 2140.74,719.382 \n",
       "  2143.1,731.329 2145.45,731.329 2147.81,731.329 2150.17,731.329 2152.52,731.329 2154.88,719.382 2157.24,695.488 2159.6,683.541 2161.95,647.699 2164.31,647.699 \n",
       "  2166.67,647.699 2169.02,647.699 2171.38,671.594 2173.74,659.647 2176.1,671.594 2178.45,635.752 2180.81,635.752 2183.17,635.752 2185.52,671.594 2187.88,659.647 \n",
       "  2190.24,611.858 2192.6,623.805 2194.95,599.911 2197.31,599.911 2199.67,599.911 2202.02,599.911 2204.38,576.017 2206.74,576.017 2209.1,587.964 2211.45,611.858 \n",
       "  2213.81,611.858 2216.17,611.858 2218.52,599.911 2220.88,576.017 2223.24,564.07 2225.6,564.07 2227.95,528.228 2230.31,528.228 2232.67,528.228 2235.02,528.228 \n",
       "  2237.38,528.228 2239.74,516.281 2242.1,528.228 2244.45,516.281 2246.81,516.281 2249.17,516.281 2251.52,492.387 2253.88,504.334 2256.24,516.281 2258.6,516.281 \n",
       "  2260.95,504.334 2263.31,504.334 2265.67,504.334 2268.02,504.334 2270.38,528.228 2272.74,540.176 2275.1,552.123 2277.45,576.017 2279.81,576.017 2282.17,576.017 \n",
       "  2284.52,552.123 2286.88,552.123 2289.24,540.176 2291.6,552.123 2293.95,528.228 2296.31,528.228 2298.67,528.228 2301.02,528.228 2303.38,504.334 2305.74,528.228 \n",
       "  2308.1,516.281 2310.45,528.228 2312.81,528.228 2315.17,528.228 2317.52,564.07 2319.88,540.176 2322.24,552.123 2324.59,552.123 2326.95,528.228 2329.31,528.228 \n",
       "  2331.67,528.228 2334.02,492.387 2336.38,492.387 2338.74,492.387 2341.09,480.44 2343.45,468.493 2345.81,468.493 2348.17,468.493 2350.52,480.44 2352.88,492.387 \n",
       "  2355.24,504.334 2357.59,492.387 2359.95,480.44 2362.31,480.44 2364.67,480.44 2367.02,480.44 2369.38,468.493 2371.74,468.493 2374.09,456.546 2376.45,456.546 \n",
       "  2378.81,456.546 2381.17,456.546 2383.52,456.546 2385.88,444.599 2388.24,444.599 2390.59,468.493 2392.95,468.493 2395.31,468.493 2397.67,468.493 2400.02,456.546 \n",
       "  2402.38,456.546 2404.74,444.599 2407.09,468.493 2409.45,468.493 2411.81,468.493 2414.17,468.493 2416.52,468.493 2418.88,492.387 2421.24,504.334 2423.59,528.228 \n",
       "  2425.95,516.281 2428.31,516.281 2430.67,516.281 2433.02,564.07 2435.38,552.123 2437.74,552.123 2440.09,528.228 2442.45,528.228 2444.81,528.228 2447.17,528.228 \n",
       "  2449.52,552.123 2451.88,528.228 2454.24,528.228 2456.59,552.123 2458.95,552.123 2461.31,552.123 2463.67,552.123 2466.02,552.123 2468.38,552.123 2470.74,599.911 \n",
       "  2473.09,599.911 2475.45,623.805 2477.81,623.805 2480.17,623.805 2482.52,635.752 2484.88,587.964 2487.24,564.07 2489.59,540.176 2491.95,516.281 2494.31,516.281 \n",
       "  2496.67,516.281 2499.02,504.334 2501.38,492.387 2503.74,516.281 2506.09,504.334 2508.45,504.334 2510.81,504.334 2513.17,504.334 2515.52,504.334 2517.88,468.493 \n",
       "  2520.24,456.546 2522.59,432.652 2524.95,420.705 2527.31,420.705 2529.66,420.705 2532.02,432.652 2534.38,444.599 2536.74,456.546 2539.09,456.546 2541.45,456.546 \n",
       "  2543.81,456.546 2546.16,456.546 2548.52,420.705 2550.88,432.652 2553.24,420.705 2555.59,420.705 2557.95,420.705 2560.31,420.705 2562.66,420.705 2565.02,432.652 \n",
       "  2567.38,432.652 2569.74,420.705 2572.09,408.757 2574.45,384.863 2576.81,384.863 2579.16,384.863 2581.52,372.916 2583.88,372.916 2586.24,384.863 2588.59,384.863 \n",
       "  2590.95,384.863 2593.31,384.863 2595.66,384.863 2598.02,396.81 2600.38,372.916 2602.74,384.863 2605.09,384.863 2607.45,396.81 2609.81,396.81 2612.16,396.81 \n",
       "  2614.52,384.863 2616.88,396.81 2619.24,384.863 2621.59,396.81 2623.95,456.546 2626.31,456.546 2628.66,456.546 2631.02,492.387 2633.38,516.281 2635.74,516.281 \n",
       "  2638.09,480.44 2640.45,480.44 2642.81,480.44 2645.16,480.44 2647.52,504.334 2649.88,480.44 2652.24,516.281 2654.59,564.07 2656.95,528.228 2659.31,528.228 \n",
       "  2661.66,528.228 2664.02,492.387 2666.38,504.334 2668.74,492.387 2671.09,480.44 2673.45,492.387 2675.81,492.387 2678.16,492.387 2680.52,528.228 2682.88,516.281 \n",
       "  2685.24,516.281 2687.59,480.44 2689.95,468.493 2692.31,468.493 2694.66,468.493 2697.02,468.493 2699.38,504.334 2701.74,480.44 2704.09,432.652 2706.45,432.652 \n",
       "  2708.81,432.652 2711.16,432.652 2713.52,420.705 2715.88,420.705 2718.24,396.81 2720.59,384.863 2722.95,384.863 2725.31,384.863 2727.66,384.863 2730.02,396.81 \n",
       "  2732.38,408.757 2734.74,396.81 2737.09,384.863 2739.45,396.81 2741.81,396.81 2744.16,396.81 2746.52,408.757 2748.88,408.757 2751.23,408.757 2753.59,408.757 \n",
       "  2755.95,408.757 2758.31,408.757 2760.66,408.757 2763.02,420.705 2765.38,408.757 2767.73,468.493 2770.09,504.334 2772.45,456.546 2774.81,456.546 2777.16,456.546 \n",
       "  2779.52,456.546 2781.88,480.44 2784.23,480.44 2786.59,456.546 2788.95,408.757 2791.31,408.757 2793.66,408.757 2796.02,432.652 2798.38,396.81 2800.73,408.757 \n",
       "  2803.09,408.757 2805.45,408.757 2807.81,408.757 2810.16,408.757 2812.52,432.652 2814.88,420.705 2817.23,420.705 2819.59,420.705 2821.95,408.757 2824.31,408.757 \n",
       "  2826.66,408.757 2829.02,396.81 2831.38,396.81 2833.73,396.81 2836.09,396.81 2838.45,372.916 2840.81,372.916 2843.16,372.916 2845.52,360.969 2847.88,360.969 \n",
       "  2850.23,360.969 2852.59,337.075 2854.95,337.075 2857.31,337.075 2859.66,337.075 2862.02,337.075 2864.38,337.075 2866.73,325.128 2869.09,325.128 2871.45,313.181 \n",
       "  2873.81,313.181 2876.16,313.181 2878.52,301.234 2880.88,301.234 2883.23,325.128 2885.59,325.128 2887.95,325.128 2890.31,325.128 2892.66,325.128 2895.02,301.234 \n",
       "  2897.38,289.286 2899.73,289.286 2902.09,289.286 2904.45,301.234 2906.81,301.234 2909.16,301.234 2911.52,301.234 2913.88,360.969 2916.23,337.075 2918.59,337.075 \n",
       "  2920.95,301.234 2923.31,301.234 2925.66,301.234 2928.02,313.181 2930.38,313.181 2932.73,313.181 2935.09,289.286 2937.45,277.339 2939.81,277.339 2942.16,277.339 \n",
       "  2944.52,277.339 2946.88,277.339 2949.23,277.339 2951.59,265.392 2953.95,241.498 2956.3,241.498 2958.66,241.498 2961.02,253.445 2963.38,253.445 2965.73,253.445 \n",
       "  2968.09,241.498 2970.45,229.551 2972.8,229.551 2975.16,229.551 2977.52,241.498 2979.88,253.445 2982.23,253.445 2984.59,217.604 2986.95,229.551 2989.3,229.551 \n",
       "  2991.66,229.551 2994.02,229.551 2996.38,241.498 2998.73,217.604 3001.09,205.657 3003.45,205.657 3005.8,205.657 3008.16,205.657 3010.52,217.604 3012.88,193.71 \n",
       "  3015.23,193.71 3017.59,169.815 3019.95,169.815 3022.3,169.815 3024.66,169.815 3027.02,169.815 3029.38,169.815 3031.73,169.815 3034.09,181.762 3036.45,169.815 \n",
       "  3038.8,169.815 3041.16,169.815 3043.52,241.498 3045.88,217.604 3048.23,205.657 3050.59,217.604 3052.95,229.551 3055.3,229.551 3057.66,229.551 3060.02,241.498 \n",
       "  3062.38,217.604 3064.73,169.815 3067.09,157.868 3069.45,169.815 3071.8,169.815 3074.16,169.815 3076.52,169.815 3078.88,157.868 3081.23,145.921 3083.59,145.921 \n",
       "  3085.95,157.868 3088.3,157.868 3090.66,157.868 3093.02,157.868 3095.38,169.815 3097.73,157.868 3100.09,169.815 3102.45,193.71 3104.8,193.71 3107.16,193.71 \n",
       "  3109.52,265.392 3111.88,289.286 3114.23,360.969 3116.59,444.599 3118.95,576.017 3121.3,576.017 3123.66,576.017 3126.02,444.599 3128.38,408.757 3130.73,408.757 \n",
       "  3133.09,444.599 3135.45,516.281 3137.8,516.281 3140.16,516.281 3142.52,623.805 3144.88,623.805 3147.23,671.594 3149.59,850.8 3151.95,814.959 3154.3,814.959 \n",
       "  3156.66,814.959 3159.02,970.271 3161.37,1006.11 3163.73,1101.69 3166.09,1101.69 3168.45,1101.69 3170.8,1101.69 3173.16,1101.69 3175.52,1245.05 3177.87,1077.8 \n",
       "  3180.23,946.377 3182.59,874.694 3184.95,910.536 3187.3,910.536 3189.66,910.536 3192.02,898.589 3194.37,886.641 3196.73,994.165 3199.09,994.165 3201.45,1006.11 \n",
       "  3203.8,1006.11 3206.16,1006.11 3208.52,862.747 3210.87,767.17 3213.23,779.118 3215.59,731.329 3217.95,731.329 3220.3,731.329 3222.66,731.329 3225.02,767.17 \n",
       "  3227.37,731.329 3229.73,767.17 3232.09,779.118 3234.45,707.435 3236.8,707.435 3239.16,707.435 3241.52,719.382 3243.87,803.012 3246.23,767.17 3248.59,743.276 \n",
       "  3250.95,755.223 3253.3,755.223 3255.66,755.223 3258.02,707.435 3260.37,683.541 3262.73,647.699 3265.09,671.594 3267.45,719.382 3269.8,719.382 3272.16,719.382 \n",
       "  3274.52,755.223 3276.87,719.382 3279.23,731.329 3281.59,719.382 3283.95,695.488 3286.3,695.488 3288.66,695.488 3291.02,695.488 3293.37,695.488 3295.73,767.17 \n",
       "  3298.09,767.17 3300.45,755.223 3302.8,755.223 3305.16,755.223 3307.52,659.647 3309.87,671.594 3312.23,659.647 3314.59,659.647 3316.95,683.541 3319.3,683.541 \n",
       "  3321.66,683.541 3324.02,683.541 3326.37,611.858 3328.73,564.07 3331.09,540.176 3333.45,576.017 3335.8,576.017 3338.16,576.017 3340.52,576.017 3342.87,552.123 \n",
       "  3345.23,480.44 3347.59,480.44 3349.95,384.863 3352.3,384.863 3354.66,384.863 3357.02,349.022 3359.37,372.916 3361.73,372.916 3364.09,492.387 3366.45,528.228 \n",
       "  3368.8,528.228 3371.16,528.228 3373.52,528.228 3375.87,456.546 3378.23,480.44 3380.59,504.334 3382.94,468.493 3385.3,468.493 3387.66,468.493 3390.02,516.281 \n",
       "  3392.37,492.387 3394.73,516.281 3397.09,540.176 3399.44,564.07 3401.8,564.07 3404.16,564.07 3406.52,564.07 3408.87,528.228 3411.23,516.281 3413.59,504.334 \n",
       "  3415.94,504.334 3418.3,504.334 3420.66,504.334 3423.02,492.387 3425.37,504.334 3427.73,504.334 3430.09,504.334 3432.44,504.334 3434.8,504.334 3437.16,504.334 \n",
       "  3439.52,456.546 3441.87,444.599 3444.23,408.757 3446.59,432.652 3448.94,432.652 3451.3,432.652 3453.66,432.652 3456.02,444.599 3458.37,408.757 3460.73,408.757 \n",
       "  3463.09,420.705 3465.44,456.546 3467.8,456.546 3470.16,456.546 3472.52,456.546 3474.87,456.546 3477.23,456.546 3479.59,480.44 3481.94,468.493 3484.3,468.493 \n",
       "  3486.66,468.493 3489.02,444.599 3491.37,432.652 3493.73,396.81 3496.09,372.916 3498.44,372.916 3500.8,372.916 3503.16,372.916 3505.52,325.128 3507.87,289.286 \n",
       "  3510.23,301.234 3512.59,313.181 3514.94,313.181 3517.3,313.181 3519.66,313.181 3522.02,313.181 3524.37,325.128 3526.73,313.181 3529.09,337.075 3531.44,313.181 \n",
       "  3533.8,313.181 3536.16,313.181 3538.52,277.339 3540.87,265.392 3543.23,277.339 3545.59,241.498 3547.94,229.551 3550.3,229.551 3552.66,229.551 3555.02,241.498 \n",
       "  3557.37,241.498 3559.73,181.762 3562.09,181.762 3564.44,253.445 3566.8,253.445 3569.16,253.445 3571.52,253.445 3573.87,313.181 3576.23,289.286 3578.59,289.286 \n",
       "  3580.94,325.128 3583.3,325.128 3585.66,325.128 3588.01,301.234 3590.37,289.286 3592.73,265.392 3595.09,301.234 3597.44,313.181 3599.8,313.181 3602.16,313.181 \n",
       "  3604.51,360.969 3606.87,384.863 3609.23,360.969 3611.59,408.757 3613.94,384.863 3616.3,384.863 3618.66,384.863 3621.01,337.075 3623.37,349.022 3625.73,301.234 \n",
       "  3628.09,301.234 3630.44,325.128 3632.8,325.128 3635.16,325.128 3637.51,289.286 3639.87,277.339 3642.23,265.392 3644.59,265.392 3646.94,241.498 3649.3,241.498 \n",
       "  3651.66,241.498 3654.01,205.657 3656.37,229.551 3658.73,229.551 3661.09,253.445 3663.44,217.604 3665.8,217.604 3668.16,217.604 3670.51,229.551 3672.87,253.445 \n",
       "  3675.23,265.392 3677.59,265.392 3679.94,265.392 3682.3,265.392 3684.66,265.392 3687.01,289.286 3689.37,337.075 3691.73,408.757 3694.09,420.705 3696.44,456.546 \n",
       "  3698.8,456.546 3701.16,456.546 3703.51,408.757 3705.87,349.022 3708.23,277.339 3710.59,253.445 3712.94,265.392 3715.3,265.392 3717.66,265.392 3720.01,110.08 \n",
       "  3722.37,157.868 3724.73,145.921 3727.09,169.815 3729.44,145.921 3731.8,145.921 3734.16,145.921 3736.51,98.1328 3738.87,110.08 3741.23,110.08 3743.59,145.921 \n",
       "  3745.94,157.868 3748.3,157.868 3750.66,157.868 3753.01,133.974 3755.37,86.1857 3757.73,98.1328 3760.09,98.1328 3762.44,98.1328 3764.8,98.1328 3767.16,98.1328 \n",
       "  3769.51,110.08 \n",
       "  \"/>\n",
       "<polyline clip-path=\"url(#clip9602)\" style=\"stroke:#e26f46; stroke-width:4; stroke-opacity:1; fill:none\" points=\"\n",
       "  328.108,1326.06 330.466,1325.22 332.823,1324.38 335.18,1323.67 337.537,1322.95 339.894,1322.23 342.251,1321.28 344.608,1320.2 346.965,1319.13 349.323,1318.05 \n",
       "  351.68,1316.98 354.037,1315.78 356.394,1314.47 358.751,1313.27 361.108,1311.96 363.465,1310.64 365.822,1309.45 368.18,1308.25 370.537,1307.06 372.894,1305.87 \n",
       "  375.251,1304.67 377.608,1303.48 379.965,1302.28 382.322,1300.73 384.679,1299.29 387.037,1297.98 389.394,1296.79 391.751,1295.59 394.108,1294.52 396.465,1293.44 \n",
       "  398.822,1292.37 401.179,1291.29 403.536,1290.1 405.894,1289.02 408.251,1287.94 410.608,1286.87 412.965,1285.79 415.322,1284.72 417.679,1283.64 420.036,1282.81 \n",
       "  422.393,1281.97 424.751,1281.13 427.108,1280.42 429.465,1279.58 431.822,1278.75 434.179,1278.03 436.536,1277.19 438.893,1276.36 441.25,1275.64 443.608,1274.92 \n",
       "  445.965,1274.21 448.322,1273.49 450.679,1272.77 453.036,1272.05 455.393,1271.1 457.75,1270.26 460.108,1269.19 462.465,1268.23 464.822,1267.28 467.179,1266.2 \n",
       "  469.536,1265.25 471.893,1264.29 474.25,1263.45 476.607,1262.74 478.965,1261.9 481.322,1260.94 483.679,1260.11 486.036,1259.27 488.393,1258.44 490.75,1257.48 \n",
       "  493.107,1256.64 495.464,1255.57 497.822,1254.73 500.179,1253.66 502.536,1252.58 504.893,1251.39 507.25,1250.19 509.607,1249 511.964,1247.8 514.321,1246.61 \n",
       "  516.679,1245.53 519.036,1244.34 521.393,1243.02 523.75,1241.71 526.107,1240.4 528.464,1238.96 530.821,1237.65 533.178,1236.33 535.536,1235.02 537.893,1233.59 \n",
       "  540.25,1232.03 542.607,1230.48 544.964,1229.05 547.321,1227.61 549.678,1226.18 552.035,1224.74 554.393,1223.31 556.75,1221.88 559.107,1220.32 561.464,1218.89 \n",
       "  563.821,1217.34 566.178,1215.78 568.535,1214.11 570.892,1212.56 573.25,1211.01 575.607,1209.45 577.964,1207.78 580.321,1206.23 582.678,1204.67 585.035,1203.12 \n",
       "  587.392,1201.69 589.749,1200.25 592.107,1198.82 594.464,1197.51 596.821,1195.95 599.178,1194.52 601.535,1193.2 603.892,1191.77 606.249,1190.46 608.607,1189.02 \n",
       "  610.964,1187.59 613.321,1186.16 615.678,1184.84 618.035,1183.41 620.392,1181.97 622.749,1180.54 625.106,1179.11 627.464,1177.79 629.821,1176.36 632.178,1174.93 \n",
       "  634.535,1173.49 636.892,1172.06 639.249,1170.62 641.606,1169.31 643.963,1167.88 646.321,1166.44 648.678,1165.01 651.035,1163.58 653.392,1162.26 655.749,1160.83 \n",
       "  658.106,1159.39 660.463,1157.96 662.82,1156.53 665.178,1155.09 667.535,1153.54 669.892,1151.99 672.249,1150.31 674.606,1148.64 676.963,1146.97 679.32,1145.42 \n",
       "  681.677,1143.86 684.035,1142.07 686.392,1140.4 688.749,1138.61 691.106,1136.93 693.463,1135.14 695.82,1133.47 698.177,1131.92 700.534,1130.48 702.892,1129.29 \n",
       "  705.249,1128.09 707.606,1126.9 709.963,1125.7 712.32,1124.51 714.677,1123.31 717.034,1122.12 719.391,1120.8 721.749,1119.73 724.106,1118.65 726.463,1117.46 \n",
       "  728.82,1116.38 731.177,1115.31 733.534,1114.23 735.891,1113.16 738.248,1112.08 740.606,1110.89 742.963,1109.81 745.32,1108.62 747.677,1107.54 750.034,1106.47 \n",
       "  752.391,1105.39 754.748,1104.32 757.106,1103.24 759.463,1102.05 761.82,1100.97 764.177,1099.78 766.534,1098.94 768.891,1097.99 771.248,1097.15 773.605,1096.19 \n",
       "  775.963,1095.36 778.32,1094.4 780.677,1093.68 783.034,1092.85 785.391,1092.01 787.748,1091.18 790.105,1090.34 792.462,1089.5 794.82,1088.67 797.177,1087.83 \n",
       "  799.534,1086.99 801.891,1086.04 804.248,1085.08 806.605,1084.25 808.962,1083.41 811.319,1082.45 813.677,1081.62 816.034,1080.66 818.391,1079.83 820.748,1078.87 \n",
       "  823.105,1077.91 825.462,1076.96 827.819,1076 830.176,1075.17 832.534,1074.21 834.891,1073.26 837.248,1072.42 839.605,1071.58 841.962,1070.87 844.319,1069.91 \n",
       "  846.676,1069.07 849.033,1068.24 851.391,1067.4 853.748,1066.33 856.105,1065.49 858.462,1064.41 860.819,1063.46 863.176,1062.5 865.533,1061.43 867.89,1060.35 \n",
       "  870.248,1059.28 872.605,1058.2 874.962,1057.13 877.319,1056.05 879.676,1055.1 882.033,1054.14 884.39,1053.3 886.747,1052.35 889.105,1051.39 891.462,1050.44 \n",
       "  893.819,1049.36 896.176,1048.17 898.533,1046.97 900.89,1045.78 903.247,1044.58 905.605,1043.39 907.962,1042.19 910.319,1041 912.676,1039.92 915.033,1038.73 \n",
       "  917.39,1037.53 919.747,1036.46 922.104,1035.5 924.462,1034.43 926.819,1033.59 929.176,1032.75 931.533,1031.92 933.89,1031.08 936.247,1030.25 938.604,1029.41 \n",
       "  940.961,1028.69 943.319,1028.1 945.676,1027.5 948.033,1026.9 950.39,1026.3 952.747,1025.71 955.104,1025.11 957.461,1024.51 959.818,1023.91 962.176,1023.32 \n",
       "  964.533,1022.96 966.89,1022.48 969.247,1022 971.604,1021.4 973.961,1020.81 976.318,1020.21 978.675,1019.49 981.033,1018.9 983.39,1018.3 985.747,1017.7 \n",
       "  988.104,1017.22 990.461,1016.63 992.818,1016.15 995.175,1015.55 997.532,1014.83 999.89,1014.24 1002.25,1013.52 1004.6,1012.8 1006.96,1011.97 1009.32,1011.13 \n",
       "  1011.68,1010.41 1014.03,1009.46 1016.39,1008.38 1018.75,1007.43 1021.1,1006.47 1023.46,1005.4 1025.82,1004.44 1028.18,1003.36 1030.53,1002.41 1032.89,1001.45 \n",
       "  1035.25,1000.5 1037.6,999.422 1039.96,998.466 1042.32,997.511 1044.67,996.435 1047.03,995.48 1049.39,994.404 1051.75,993.21 1054.1,992.015 1056.46,990.82 \n",
       "  1058.82,989.625 1061.17,988.431 1063.53,987.117 1065.89,985.802 1068.25,984.488 1070.6,983.174 1072.96,981.86 1075.32,980.546 1077.67,979.112 1080.03,977.678 \n",
       "  1082.39,976.364 1084.75,974.811 1087.1,973.258 1089.46,971.705 1091.82,970.152 1094.17,968.838 1096.53,967.523 1098.89,966.209 1101.25,964.656 1103.6,963.222 \n",
       "  1105.96,961.789 1108.32,960.355 1110.67,958.802 1113.03,957.368 1115.39,955.935 1117.75,954.501 1120.1,953.067 1122.46,951.514 1124.82,950.081 1127.17,948.647 \n",
       "  1129.53,947.094 1131.89,945.541 1134.25,944.107 1136.6,942.554 1138.96,941.12 1141.32,939.567 1143.67,938.253 1146.03,936.7 1148.39,935.147 1150.75,933.594 \n",
       "  1153.1,932.16 1155.46,930.607 1157.82,929.173 1160.17,927.62 1162.53,926.306 1164.89,924.753 1167.25,923.319 1169.6,921.766 1171.96,920.332 1174.32,918.899 \n",
       "  1176.67,917.465 1179.03,915.912 1181.39,914.359 1183.75,912.686 1186.1,910.775 1188.46,908.983 1190.82,907.071 1193.17,905.279 1195.53,903.248 1197.89,901.456 \n",
       "  1200.25,899.664 1202.6,897.991 1204.96,896.199 1207.32,894.407 1209.67,892.615 1212.03,890.942 1214.39,889.031 1216.75,887.119 1219.1,885.208 1221.46,883.296 \n",
       "  1223.82,881.385 1226.17,879.593 1228.53,877.562 1230.89,875.531 1233.25,873.619 1235.6,871.588 1237.96,869.557 1240.32,867.646 1242.67,865.615 1245.03,863.703 \n",
       "  1247.39,861.792 1249.75,859.88 1252.1,857.849 1254.46,855.818 1256.82,853.787 1259.17,851.756 1261.53,849.844 1263.89,847.694 1266.24,845.663 1268.6,843.512 \n",
       "  1270.96,841.242 1273.32,838.973 1275.67,836.703 1278.03,834.552 1280.39,832.163 1282.74,830.012 1285.1,827.742 1287.46,825.233 1289.82,822.844 1292.17,820.335 \n",
       "  1294.53,817.826 1296.89,815.317 1299.24,812.689 1301.6,809.941 1303.96,807.432 1306.32,804.804 1308.67,802.175 1311.03,799.547 1313.39,796.919 1315.74,794.29 \n",
       "  1318.1,791.543 1320.46,788.795 1322.82,786.047 1325.17,783.419 1327.53,780.671 1329.89,778.281 1332.24,775.772 1334.6,773.263 1336.96,770.994 1339.32,768.604 \n",
       "  1341.67,766.334 1344.03,764.423 1346.39,762.631 1348.74,760.719 1351.1,759.046 1353.46,757.613 1355.82,756.179 1358.17,754.865 1360.53,753.312 1362.89,751.759 \n",
       "  1365.24,749.847 1367.6,747.816 1369.96,745.546 1372.32,743.396 1374.67,741.365 1377.03,739.214 1379.39,737.303 1381.74,735.272 1384.1,733.36 1386.46,731.329 \n",
       "  1388.82,729.298 1391.17,727.267 1393.53,724.997 1395.89,722.727 1398.24,720.696 1400.6,718.904 1402.96,717.471 1405.32,716.037 1407.67,714.484 1410.03,712.692 \n",
       "  1412.39,710.78 1414.74,709.108 1417.1,707.315 1419.46,705.284 1421.82,703.373 1424.17,701.342 1426.53,699.43 1428.89,697.638 1431.24,695.966 1433.6,694.413 \n",
       "  1435.96,692.74 1438.32,691.187 1440.67,689.634 1443.03,688.2 1445.39,686.766 1447.74,685.213 1450.1,684.019 1452.46,683.063 1454.82,681.988 1457.17,680.912 \n",
       "  1459.53,679.837 1461.89,678.642 1464.24,677.687 1466.6,676.611 1468.96,675.417 1471.31,674.341 1473.67,673.386 1476.03,672.549 1478.39,671.833 1480.74,670.877 \n",
       "  1483.1,669.802 1485.46,668.846 1487.81,667.771 1490.17,666.934 1492.53,665.979 1494.89,665.142 1497.24,664.186 1499.6,663.231 1501.96,662.155 1504.31,661.2 \n",
       "  1506.67,660.124 1509.03,659.288 1511.39,658.332 1513.74,657.496 1516.1,656.54 1518.46,655.823 1520.81,654.987 1523.17,654.27 1525.53,653.554 1527.89,652.956 \n",
       "  1530.24,652.598 1532.6,652 1534.96,651.403 1537.31,650.925 1539.67,650.328 1542.03,649.85 1544.39,649.492 1546.74,649.133 1549.1,648.775 1551.46,648.416 \n",
       "  1553.81,647.938 1556.17,647.461 1558.53,646.863 1560.89,646.385 1563.24,645.668 1565.6,644.952 1567.96,643.996 1570.31,643.16 1572.67,642.323 1575.03,641.367 \n",
       "  1577.39,640.531 1579.74,639.695 1582.1,638.978 1584.46,638.142 1586.81,637.305 1589.17,636.708 1591.53,635.752 1593.89,634.916 1596.24,634.08 1598.6,633.243 \n",
       "  1600.96,632.527 1603.31,631.929 1605.67,631.332 1608.03,630.854 1610.39,630.735 1612.74,630.496 1615.1,630.376 1617.46,630.137 1619.81,630.137 1622.17,629.898 \n",
       "  1624.53,629.54 1626.89,629.181 1629.24,628.704 1631.6,628.106 1633.96,627.509 1636.31,626.911 1638.67,626.434 1641.03,626.075 1643.39,625.717 1645.74,625.239 \n",
       "  1648.1,624.88 1650.46,624.642 1652.81,624.522 1655.17,624.283 1657.53,624.164 1659.89,624.164 1662.24,624.164 1664.6,624.164 1666.96,624.283 1669.31,624.283 \n",
       "  1671.67,624.403 1674.03,624.642 1676.39,624.88 1678.74,625.119 1681.1,625.358 1683.46,625.717 1685.81,625.956 1688.17,626.195 1690.53,626.553 1692.88,626.911 \n",
       "  1695.24,627.389 1697.6,627.867 1699.96,628.345 1702.31,628.823 1704.67,629.301 1707.03,629.659 1709.38,630.018 1711.74,630.615 1714.1,631.212 1716.46,631.69 \n",
       "  1718.81,632.049 1721.17,632.646 1723.53,633.363 1725.88,633.96 1728.24,634.438 1730.6,634.916 1732.96,635.513 1735.31,636.111 1737.67,636.828 1740.03,637.544 \n",
       "  1742.38,638.261 1744.74,638.978 1747.1,639.575 1749.46,640.173 1751.81,640.77 1754.17,641.129 1756.53,641.606 1758.88,642.084 1761.24,642.443 1763.6,642.801 \n",
       "  1765.96,643.16 1768.31,643.16 1770.67,642.801 1773.03,642.682 1775.38,642.204 1777.74,641.487 1780.1,640.77 1782.46,640.173 1784.81,639.814 1787.17,639.456 \n",
       "  1789.53,639.098 1791.88,639.098 1794.24,639.217 1796.6,639.098 1798.96,638.978 1801.31,638.859 1803.67,638.5 1806.03,638.261 1808.38,637.783 1810.74,637.425 \n",
       "  1813.1,637.186 1815.46,636.947 1817.81,636.828 1820.17,636.828 1822.53,636.589 1824.88,635.991 1827.24,635.036 1829.6,634.199 1831.96,633.243 1834.31,632.646 \n",
       "  1836.67,632.049 1839.03,631.332 1841.38,630.735 1843.74,630.257 1846.1,629.898 1848.46,629.54 1850.81,629.181 1853.17,628.823 1855.53,628.226 1857.88,627.628 \n",
       "  1860.24,627.031 1862.6,626.314 1864.96,625.717 1867.31,624.88 1869.67,624.164 1872.03,623.447 1874.38,622.491 1876.74,621.057 1879.1,619.504 1881.46,618.071 \n",
       "  1883.81,616.518 1886.17,615.203 1888.53,613.77 1890.88,612.336 1893.24,611.022 1895.6,609.708 1897.95,608.513 1900.31,607.079 1902.67,605.646 1905.03,604.212 \n",
       "  1907.38,602.898 1909.74,601.464 1912.1,600.031 1914.45,598.716 1916.81,597.283 1919.17,595.968 1921.53,594.774 1923.88,593.579 1926.24,592.504 1928.6,591.906 \n",
       "  1930.95,591.429 1933.31,591.07 1935.67,590.712 1938.03,590.234 1940.38,589.637 1942.74,589.039 1945.1,588.442 1947.45,587.844 1949.81,587.247 1952.17,586.65 \n",
       "  1954.53,585.813 1956.88,585.336 1959.24,584.738 1961.6,584.26 1963.95,583.902 1966.31,583.663 1968.67,583.185 1971.03,582.707 1973.38,582.229 1975.74,581.632 \n",
       "  1978.1,581.035 1980.45,580.318 1982.81,579.601 1985.17,578.884 1987.53,578.406 1989.88,577.928 1992.24,577.092 1994.6,576.375 1996.95,575.658 1999.31,574.942 \n",
       "  2001.67,574.105 2004.03,573.508 2006.38,573.15 2008.74,572.672 2011.1,572.313 2013.45,571.955 2015.81,571.716 2018.17,571.477 2020.53,571.238 2022.88,571.357 \n",
       "  2025.24,571.477 2027.6,571.477 2029.95,571.716 2032.31,571.955 2034.67,572.074 2037.03,572.074 2039.38,571.955 2041.74,571.477 2044.1,570.999 2046.45,570.521 \n",
       "  2048.81,570.163 2051.17,569.685 2053.53,569.207 2055.88,568.968 2058.24,568.61 2060.6,568.968 2062.95,569.088 2065.31,569.207 2067.67,569.326 2070.03,569.804 \n",
       "  2072.38,570.163 2074.74,570.402 2077.1,570.521 2079.45,570.999 2081.81,571.357 2084.17,571.477 2086.53,571.955 2088.88,572.313 2091.24,572.791 2093.6,573.508 \n",
       "  2095.95,574.464 2098.31,575.181 2100.67,575.778 2103.02,577.092 2105.38,578.287 2107.74,579.243 2110.1,580.079 2112.45,580.676 2114.81,581.154 2117.17,581.751 \n",
       "  2119.52,582.468 2121.88,583.066 2124.24,583.663 2126.6,584.499 2128.95,585.097 2131.31,585.813 2133.67,586.65 2136.02,587.247 2138.38,587.844 2140.74,588.442 \n",
       "  2143.1,589.039 2145.45,589.637 2147.81,590.234 2150.17,590.831 2152.52,591.668 2154.88,592.265 2157.24,592.623 2159.6,593.101 2161.95,593.221 2164.31,593.46 \n",
       "  2166.67,593.699 2169.02,594.176 2171.38,594.774 2173.74,595.252 2176.1,595.849 2178.45,596.207 2180.81,596.566 2183.17,596.924 2185.52,597.402 2187.88,597.88 \n",
       "  2190.24,598 2192.6,598.358 2194.95,598.477 2197.31,598.597 2199.67,598.955 2202.02,599.075 2204.38,599.194 2206.74,599.075 2209.1,599.075 2211.45,599.194 \n",
       "  2213.81,599.433 2216.17,599.553 2218.52,599.553 2220.88,599.553 2223.24,599.672 2225.6,599.672 2227.95,599.553 2230.31,599.553 2232.67,599.553 2235.02,599.433 \n",
       "  2237.38,599.433 2239.74,599.194 2242.1,599.194 2244.45,599.075 2246.81,599.075 2249.17,599.075 2251.52,599.075 2253.88,599.075 2256.24,599.075 2258.6,599.075 \n",
       "  2260.95,598.955 2263.31,598.955 2265.67,598.836 2268.02,598.716 2270.38,598.836 2272.74,598.955 2275.1,599.075 2277.45,599.433 2279.81,599.792 2282.17,600.15 \n",
       "  2284.52,600.389 2286.88,600.628 2289.24,600.867 2291.6,601.106 2293.95,601.225 2296.31,601.345 2298.67,601.584 2301.02,601.942 2303.38,602.181 2305.74,602.659 \n",
       "  2308.1,603.137 2310.45,603.615 2312.81,603.973 2315.17,604.451 2317.52,605.048 2319.88,605.526 2322.24,606.004 2324.59,606.362 2326.95,606.721 2329.31,607.199 \n",
       "  2331.67,607.796 2334.02,608.155 2336.38,608.513 2338.74,608.752 2341.09,608.991 2343.45,609.11 2345.81,609.11 2348.17,609.11 2350.52,609.11 2352.88,608.752 \n",
       "  2355.24,608.393 2357.59,607.916 2359.95,607.438 2362.31,606.84 2364.67,606.601 2367.02,606.243 2369.38,605.765 2371.74,605.168 2374.09,604.57 2376.45,603.973 \n",
       "  2378.81,603.376 2381.17,602.659 2383.52,601.942 2385.88,600.986 2388.24,600.031 2390.59,599.075 2392.95,598.119 2395.31,597.283 2397.67,596.327 2400.02,595.61 \n",
       "  2402.38,594.893 2404.74,594.176 2407.09,593.699 2409.45,593.101 2411.81,592.504 2414.17,592.026 2416.52,591.906 2418.88,591.906 2421.24,591.906 2423.59,592.026 \n",
       "  2425.95,592.026 2428.31,592.026 2430.67,591.668 2433.02,591.668 2435.38,591.429 2437.74,591.309 2440.09,591.07 2442.45,590.712 2444.81,590.473 2447.17,589.637 \n",
       "  2449.52,589.039 2451.88,588.322 2454.24,587.486 2456.59,586.769 2458.95,586.052 2461.31,585.455 2463.67,584.858 2466.02,584.738 2468.38,584.619 2470.74,584.738 \n",
       "  2473.09,584.977 2475.45,585.336 2477.81,585.813 2480.17,586.291 2482.52,586.889 2484.88,586.53 2487.24,586.291 2489.59,585.933 2491.95,585.336 2494.31,584.499 \n",
       "  2496.67,583.663 2499.02,582.946 2501.38,582.11 2503.74,581.154 2506.09,580.079 2508.45,579.123 2510.81,577.928 2513.17,576.614 2515.52,575.3 2517.88,573.508 \n",
       "  2520.24,571.477 2522.59,569.326 2524.95,567.176 2527.31,564.428 2529.66,561.8 2532.02,559.41 2534.38,557.26 2536.74,555.468 2539.09,553.556 2541.45,551.764 \n",
       "  2543.81,549.853 2546.16,547.822 2548.52,545.791 2550.88,543.64 2553.24,541.729 2555.59,539.698 2557.95,537.667 2560.31,535.755 2562.66,533.963 2565.02,532.41 \n",
       "  2567.38,530.737 2569.74,529.065 2572.09,527.273 2574.45,525.361 2576.81,523.33 2579.16,521.538 2581.52,519.746 2583.88,517.954 2586.24,516.52 2588.59,515.087 \n",
       "  2590.95,513.653 2593.31,512.219 2595.66,510.547 2598.02,509.113 2600.38,507.44 2602.74,506.007 2605.09,504.693 2607.45,503.378 2609.81,501.825 2612.16,500.392 \n",
       "  2614.52,499.078 2616.88,497.883 2619.24,496.688 2621.59,495.493 2623.95,494.657 2626.31,493.94 2628.66,493.223 2631.02,492.746 2633.38,492.387 2635.74,491.909 \n",
       "  2638.09,491.073 2640.45,490.356 2642.81,489.759 2645.16,489.161 2647.52,488.922 2649.88,488.445 2652.24,488.325 2654.59,488.564 2656.95,488.564 2659.31,488.564 \n",
       "  2661.66,488.564 2664.02,488.445 2666.38,488.325 2668.74,488.086 2671.09,487.967 2673.45,487.847 2675.81,487.847 2678.16,487.728 2680.52,487.847 2682.88,487.847 \n",
       "  2685.24,487.847 2687.59,487.728 2689.95,487.489 2692.31,487.369 2694.66,487.011 2697.02,486.653 2699.38,486.294 2701.74,485.816 2704.09,484.98 2706.45,484.263 \n",
       "  2708.81,483.546 2711.16,482.949 2713.52,482.232 2715.88,481.515 2718.24,480.798 2720.59,479.962 2722.95,479.126 2725.31,478.409 2727.66,477.692 2730.02,476.975 \n",
       "  2732.38,476.378 2734.74,475.661 2737.09,474.825 2739.45,474.108 2741.81,473.152 2744.16,472.435 2746.52,471.599 2748.88,470.763 2751.23,470.166 2753.59,469.449 \n",
       "  2755.95,468.851 2758.31,468.373 2760.66,467.896 2763.02,467.537 2765.38,467.059 2767.73,467.059 2770.09,467.298 2772.45,467.179 2774.81,467.059 2777.16,466.94 \n",
       "  2779.52,466.581 2781.88,466.581 2784.23,466.581 2786.59,466.462 2788.95,465.984 2791.31,465.626 2793.66,465.267 2796.02,465.148 2798.38,464.789 2800.73,464.55 \n",
       "  2803.09,464.192 2805.45,463.953 2807.81,463.714 2810.16,463.475 2812.52,463.475 2814.88,463.236 2817.23,462.878 2819.59,462.639 2821.95,462.28 2824.31,462.041 \n",
       "  2826.66,461.803 2829.02,461.564 2831.38,461.086 2833.73,460.727 2836.09,460.369 2838.45,459.772 2840.81,459.294 2843.16,458.577 2845.52,457.86 2847.88,456.904 \n",
       "  2850.23,456.068 2852.59,454.993 2854.95,454.037 2857.31,452.723 2859.66,451.528 2862.02,450.333 2864.38,449.258 2866.73,448.183 2869.09,447.108 2871.45,445.913 \n",
       "  2873.81,444.479 2876.16,443.285 2878.52,442.09 2880.88,440.656 2883.23,439.461 2885.59,438.147 2887.95,436.953 2890.31,435.638 2892.66,434.324 2895.02,432.771 \n",
       "  2897.38,430.979 2899.73,429.187 2902.09,427.275 2904.45,425.483 2906.81,423.572 2909.16,422.019 2911.52,420.585 2913.88,419.629 2916.23,418.554 2918.59,417.598 \n",
       "  2920.95,416.404 2923.31,415.209 2925.66,414.253 2928.02,413.058 2930.38,411.983 2932.73,410.908 2935.09,409.713 2937.45,408.518 2939.81,407.204 2942.16,406.129 \n",
       "  2944.52,405.173 2946.88,404.337 2949.23,403.501 2951.59,402.664 2953.95,401.709 2956.3,400.633 2958.66,399.439 2961.02,398.363 2963.38,397.169 2965.73,396.093 \n",
       "  2968.09,394.899 2970.45,393.585 2972.8,392.509 2975.16,391.434 2977.52,390.478 2979.88,389.523 2982.23,388.567 2984.59,387.492 2986.95,386.416 2989.3,385.222 \n",
       "  2991.66,384.146 2994.02,383.071 2996.38,382.115 2998.73,381.16 3001.09,380.204 3003.45,379.248 3005.8,378.292 3008.16,377.337 3010.52,376.381 3012.88,375.425 \n",
       "  3015.23,374.35 3017.59,373.155 3019.95,371.96 3022.3,370.646 3024.66,369.571 3027.02,368.376 3029.38,367.182 3031.73,365.867 3034.09,364.673 3036.45,363.478 \n",
       "  3038.8,362.283 3041.16,360.969 3043.52,360.133 3045.88,359.177 3048.23,357.743 3050.59,356.429 3052.95,355.234 3055.3,353.681 3057.66,352.128 3060.02,350.575 \n",
       "  3062.38,349.141 3064.73,347.469 3067.09,345.677 3069.45,343.885 3071.8,342.093 3074.16,340.301 3076.52,338.389 3078.88,336.119 3081.23,333.969 3083.59,331.938 \n",
       "  3085.95,329.787 3088.3,327.995 3090.66,326.083 3093.02,324.172 3095.38,322.499 3097.73,320.588 3100.09,318.796 3102.45,317.123 3104.8,315.331 3107.16,313.539 \n",
       "  3109.52,312.105 3111.88,311.03 3114.23,310.433 3116.59,310.313 3118.95,310.911 3121.3,311.508 3123.66,311.866 3126.02,311.747 3128.38,311.627 3130.73,311.508 \n",
       "  3133.09,311.508 3135.45,311.986 3137.8,312.464 3140.16,313.061 3142.52,314.256 3144.88,315.689 3147.23,317.243 3149.59,319.871 3151.95,322.26 3154.3,324.53 \n",
       "  3156.66,326.8 3159.02,330.026 3161.37,333.371 3163.73,337.314 3166.09,341.256 3168.45,345.199 3170.8,349.022 3173.16,352.845 3175.52,357.504 3177.87,361.208 \n",
       "  3180.23,364.195 3182.59,366.823 3184.95,369.571 3187.3,372.319 3189.66,375.067 3192.02,377.456 3194.37,379.606 3196.73,382.593 3199.09,385.58 3201.45,388.686 \n",
       "  3203.8,391.673 3206.16,394.66 3208.52,396.691 3210.87,398.483 3213.23,400.514 3215.59,402.306 3217.95,404.098 3220.3,405.771 3222.66,407.682 3225.02,409.594 \n",
       "  3227.37,411.386 3229.73,413.417 3232.09,415.448 3234.45,417.12 3236.8,418.674 3239.16,420.227 3241.52,421.899 3243.87,424.05 3246.23,425.961 3248.59,427.873 \n",
       "  3250.95,429.784 3253.3,431.815 3255.66,433.727 3258.02,435.519 3260.37,437.072 3262.73,438.625 3265.09,440.298 3267.45,442.209 3269.8,444.24 3272.16,446.152 \n",
       "  3274.52,448.422 3276.87,450.453 3279.23,452.723 3281.59,454.873 3283.95,456.785 3286.3,458.816 3288.66,460.847 3291.02,462.878 3293.37,464.909 3295.73,467.418 \n",
       "  3298.09,469.927 3300.45,472.435 3302.8,474.944 3305.16,477.453 3307.52,479.365 3309.87,481.276 3312.23,483.068 3314.59,484.98 3316.95,486.891 3319.3,489.042 \n",
       "  3321.66,491.312 3324.02,493.462 3326.37,495.254 3328.73,496.688 3331.09,498.002 3333.45,499.555 3335.8,501.109 3338.16,502.303 3340.52,503.617 3342.87,504.812 \n",
       "  3345.23,505.768 3347.59,506.843 3349.95,507.202 3352.3,507.679 3354.66,508.038 3357.02,508.277 3359.37,508.755 3361.73,509.233 3364.09,510.427 3366.45,511.861 \n",
       "  3368.8,513.175 3371.16,514.609 3373.52,516.042 3375.87,517.118 3378.23,518.432 3380.59,519.865 3382.94,521.18 3385.3,522.374 3387.66,523.569 3390.02,525.003 \n",
       "  3392.37,526.317 3394.73,527.989 3397.09,529.662 3399.44,531.574 3401.8,533.366 3404.16,535.038 3406.52,536.83 3408.87,538.503 3411.23,540.056 3413.59,541.609 \n",
       "  3415.94,543.162 3418.3,544.715 3420.66,546.149 3423.02,547.702 3425.37,549.375 3427.73,551.047 3430.09,552.601 3432.44,554.273 3434.8,555.946 3437.16,557.618 \n",
       "  3439.52,559.052 3441.87,560.605 3444.23,561.919 3446.59,563.353 3448.94,564.906 3451.3,566.34 3453.66,567.773 3456.02,569.326 3458.37,570.521 3460.73,571.955 \n",
       "  3463.09,573.269 3465.44,574.942 3467.8,576.136 3470.16,577.45 3472.52,578.765 3474.87,580.079 3477.23,581.393 3479.59,582.827 3481.94,584.141 3484.3,585.336 \n",
       "  3486.66,586.769 3489.02,588.322 3491.37,589.875 3493.73,591.07 3496.09,592.265 3498.44,593.34 3500.8,594.415 3503.16,595.61 3505.52,596.685 3507.87,597.402 \n",
       "  3510.23,598.238 3512.59,599.075 3514.94,600.031 3517.3,600.867 3519.66,601.584 3522.02,602.539 3524.37,603.376 3526.73,603.973 3529.09,604.809 3531.44,605.526 \n",
       "  3533.8,605.765 3536.16,605.885 3538.52,605.407 3540.87,604.451 3543.23,602.778 3545.59,600.867 3547.94,598.955 3550.3,597.761 3552.66,596.805 3555.02,595.849 \n",
       "  3557.37,594.774 3559.73,592.862 3562.09,591.07 3564.44,589.517 3566.8,587.486 3569.16,585.455 3571.52,583.066 3573.87,580.079 3576.23,577.212 3578.59,574.344 \n",
       "  3580.94,571.596 3583.3,568.012 3585.66,564.189 3588.01,559.769 3590.37,555.229 3592.73,550.57 3595.09,546.149 3597.44,541.729 3599.8,536.591 3602.16,532.29 \n",
       "  3604.51,529.065 3606.87,526.317 3609.23,523.33 3611.59,520.582 3613.94,517.596 3616.3,514.728 3618.66,511.98 3621.01,508.277 3623.37,504.693 3625.73,500.87 \n",
       "  3628.09,496.927 3630.44,493.104 3632.8,490.117 3635.16,487.728 3637.51,484.98 3639.87,482.471 3642.23,479.843 3644.59,477.214 3646.94,474.586 3649.3,471.599 \n",
       "  3651.66,468.851 3654.01,465.745 3656.37,462.758 3658.73,460.01 3661.09,457.502 3663.44,454.873 3665.8,452.006 3668.16,448.78 3670.51,445.793 3672.87,443.046 \n",
       "  3675.23,440.298 3677.59,437.669 3679.94,434.922 3682.3,432.413 3684.66,430.143 3687.01,428.112 3689.37,426.32 3691.73,424.528 3694.09,422.855 3696.44,421.421 \n",
       "  3698.8,419.749 3701.16,418.315 3703.51,416.523 3705.87,414.492 3708.23,412.103 3710.59,409.713 3712.94,407.324 3715.3,404.934 3717.66,402.545 3720.01,398.841 \n",
       "  3722.37,395.496 3724.73,392.151 3727.09,388.806 3729.44,385.461 3731.8,382.593 3734.16,379.726 3736.51,376.62 3738.87,373.513 3741.23,370.288 3743.59,367.301 \n",
       "  3745.94,364.434 3748.3,361.447 3750.66,358.938 3753.01,356.549 3755.37,354.04 3757.73,351.411 3760.09,348.783 3762.44,346.155 3764.8,343.407 3767.16,340.898 \n",
       "  3769.51,338.867 \n",
       "  \"/>\n",
       "<polyline clip-path=\"url(#clip9602)\" style=\"stroke:#3da44d; stroke-width:4; stroke-opacity:1; fill:none\" points=\"\n",
       "  328.108,1384.24 330.466,1383.76 332.823,1383.4 335.18,1383.04 337.537,1382.69 339.894,1382.21 342.251,1381.73 344.608,1381.13 346.965,1380.53 349.323,1379.94 \n",
       "  351.68,1379.34 354.037,1378.62 356.394,1377.91 358.751,1377.19 361.108,1376.59 363.465,1375.99 365.822,1375.28 368.18,1374.56 370.537,1373.96 372.894,1373.13 \n",
       "  375.251,1372.41 377.608,1371.69 379.965,1370.98 382.322,1370.26 384.679,1369.66 387.037,1368.95 389.394,1368.23 391.751,1367.63 394.108,1367.03 396.465,1366.32 \n",
       "  398.822,1365.72 401.179,1365 403.536,1364.41 405.894,1363.69 408.251,1362.85 410.608,1362.02 412.965,1361.18 415.322,1360.11 417.679,1359.15 420.036,1358.19 \n",
       "  422.393,1357.24 424.751,1356.28 427.108,1355.33 429.465,1354.37 431.822,1353.3 434.179,1352.22 436.536,1351.14 438.893,1350.07 441.25,1349.11 443.608,1347.92 \n",
       "  445.965,1346.84 448.322,1345.89 450.679,1344.81 453.036,1343.74 455.393,1342.66 457.75,1341.47 460.108,1340.39 462.465,1339.2 464.822,1338.12 467.179,1337.05 \n",
       "  469.536,1335.97 471.893,1335.02 474.25,1333.94 476.607,1332.99 478.965,1331.91 481.322,1330.95 483.679,1329.88 486.036,1328.8 488.393,1327.73 490.75,1326.53 \n",
       "  493.107,1325.34 495.464,1324.14 497.822,1322.83 500.179,1321.64 502.536,1320.32 504.893,1319.01 507.25,1317.69 509.607,1316.5 511.964,1315.3 514.321,1314.11 \n",
       "  516.679,1312.91 519.036,1311.72 521.393,1310.52 523.75,1309.33 526.107,1308.14 528.464,1306.94 530.821,1305.75 533.178,1304.55 535.536,1303.36 537.893,1302.16 \n",
       "  540.25,1300.97 542.607,1299.65 544.964,1298.46 547.321,1297.38 549.678,1296.19 552.035,1295.11 554.393,1294.04 556.75,1292.84 559.107,1291.77 561.464,1290.69 \n",
       "  563.821,1289.62 566.178,1288.54 568.535,1287.47 570.892,1286.39 573.25,1285.32 575.607,1284.24 577.964,1283.29 580.321,1282.33 582.678,1281.37 585.035,1280.42 \n",
       "  587.392,1279.46 589.749,1278.63 592.107,1277.67 594.464,1276.71 596.821,1275.88 599.178,1274.92 601.535,1274.09 603.892,1273.13 606.249,1272.29 608.607,1271.46 \n",
       "  610.964,1270.5 613.321,1269.67 615.678,1268.83 618.035,1267.99 620.392,1267.16 622.749,1266.2 625.106,1265.36 627.464,1264.53 629.821,1263.57 632.178,1262.74 \n",
       "  634.535,1261.9 636.892,1261.06 639.249,1260.23 641.606,1259.39 643.963,1258.67 646.321,1257.84 648.678,1257.12 651.035,1256.28 653.392,1255.57 655.749,1254.85 \n",
       "  658.106,1254.13 660.463,1253.42 662.82,1252.7 665.178,1251.98 667.535,1251.15 669.892,1250.19 672.249,1249.36 674.606,1248.52 676.963,1247.68 679.32,1246.73 \n",
       "  681.677,1245.77 684.035,1244.94 686.392,1243.98 688.749,1243.14 691.106,1242.19 693.463,1241.23 695.82,1240.28 698.177,1239.32 700.534,1238.36 702.892,1237.41 \n",
       "  705.249,1236.57 707.606,1235.74 709.963,1234.78 712.32,1233.82 714.677,1232.99 717.034,1232.03 719.391,1231.08 721.749,1230.12 724.106,1229.28 726.463,1228.33 \n",
       "  728.82,1227.37 731.177,1226.42 733.534,1225.46 735.891,1224.51 738.248,1223.55 740.606,1222.59 742.963,1221.64 745.32,1220.8 747.677,1219.85 750.034,1218.89 \n",
       "  752.391,1218.05 754.748,1217.1 757.106,1216.14 759.463,1215.19 761.82,1214.23 764.177,1213.16 766.534,1212.2 768.891,1211.36 771.248,1210.41 773.605,1209.45 \n",
       "  775.963,1208.5 778.32,1207.54 780.677,1206.58 783.034,1205.51 785.391,1204.55 787.748,1203.48 790.105,1202.52 792.462,1201.45 794.82,1200.37 797.177,1199.3 \n",
       "  799.534,1198.22 801.891,1197.15 804.248,1196.19 806.605,1195.12 808.962,1194.16 811.319,1193.08 813.677,1192.13 816.034,1191.05 818.391,1189.86 820.748,1188.66 \n",
       "  823.105,1187.59 825.462,1186.63 827.819,1185.56 830.176,1184.6 832.534,1183.65 834.891,1182.57 837.248,1181.5 839.605,1180.54 841.962,1179.58 844.319,1178.63 \n",
       "  846.676,1177.67 849.033,1176.72 851.391,1175.76 853.748,1174.81 856.105,1173.97 858.462,1173.01 860.819,1172.18 863.176,1171.22 865.533,1170.39 867.89,1169.55 \n",
       "  870.248,1168.59 872.605,1167.76 874.962,1166.8 877.319,1165.96 879.676,1165.13 882.033,1164.17 884.39,1163.34 886.747,1162.38 889.105,1161.42 891.462,1160.47 \n",
       "  893.819,1159.51 896.176,1158.56 898.533,1157.48 900.89,1156.53 903.247,1155.45 905.605,1154.38 907.962,1153.3 910.319,1152.23 912.676,1151.27 915.033,1150.19 \n",
       "  917.39,1149.24 919.747,1148.16 922.104,1147.21 924.462,1146.25 926.819,1145.3 929.176,1144.22 931.533,1143.27 933.89,1142.31 936.247,1141.35 938.604,1140.28 \n",
       "  940.961,1139.44 943.319,1138.49 945.676,1137.53 948.033,1136.69 950.39,1135.62 952.747,1134.78 955.104,1133.83 957.461,1132.87 959.818,1131.92 962.176,1130.96 \n",
       "  964.533,1130 966.89,1129.05 969.247,1128.09 971.604,1127.02 973.961,1125.94 976.318,1124.99 978.675,1123.91 981.033,1122.96 983.39,1122 985.747,1121.04 \n",
       "  988.104,1120.09 990.461,1119.01 992.818,1118.06 995.175,1117.1 997.532,1116.03 999.89,1114.95 1002.25,1113.88 1004.6,1112.68 1006.96,1111.49 1009.32,1110.29 \n",
       "  1011.68,1109.1 1014.03,1107.9 1016.39,1106.71 1018.75,1105.51 1021.1,1104.32 1023.46,1103.24 1025.82,1102.05 1028.18,1100.85 1030.53,1099.66 1032.89,1098.46 \n",
       "  1035.25,1097.27 1037.6,1096.07 1039.96,1094.88 1042.32,1093.68 1044.67,1092.61 1047.03,1091.3 1049.39,1090.1 1051.75,1088.79 1054.1,1087.59 1056.46,1086.28 \n",
       "  1058.82,1084.96 1061.17,1083.77 1063.53,1082.45 1065.89,1081.14 1068.25,1079.83 1070.6,1078.51 1072.96,1077.08 1075.32,1075.76 1077.67,1074.45 1080.03,1073.02 \n",
       "  1082.39,1071.58 1084.75,1070.15 1087.1,1068.72 1089.46,1067.28 1091.82,1065.73 1094.17,1064.29 1096.53,1062.74 1098.89,1061.31 1101.25,1059.75 1103.6,1058.2 \n",
       "  1105.96,1056.77 1108.32,1055.22 1110.67,1053.78 1113.03,1052.23 1115.39,1050.68 1117.75,1049.24 1120.1,1047.57 1122.46,1046.02 1124.82,1044.34 1127.17,1042.79 \n",
       "  1129.53,1041.12 1131.89,1039.68 1134.25,1038.13 1136.6,1036.7 1138.96,1035.38 1141.32,1034.07 1143.67,1032.75 1146.03,1031.44 1148.39,1030.13 1150.75,1028.93 \n",
       "  1153.1,1027.62 1155.46,1026.3 1157.82,1024.99 1160.17,1023.67 1162.53,1022.36 1164.89,1020.93 1167.25,1019.61 1169.6,1018.42 1171.96,1017.1 1174.32,1015.79 \n",
       "  1176.67,1014.59 1179.03,1013.28 1181.39,1011.85 1183.75,1010.41 1186.1,1008.98 1188.46,1007.55 1190.82,1005.99 1193.17,1004.56 1195.53,1003.01 1197.89,1001.57 \n",
       "  1200.25,1000.14 1202.6,998.825 1204.96,997.391 1207.32,996.077 1209.67,994.763 1212.03,993.449 1214.39,992.015 1216.75,990.701 1219.1,989.267 1221.46,987.953 \n",
       "  1223.82,986.519 1226.17,985.205 1228.53,983.771 1230.89,982.338 1233.25,980.904 1235.6,979.59 1237.96,978.156 1240.32,976.723 1242.67,975.289 1245.03,973.975 \n",
       "  1247.39,972.541 1249.75,971.107 1252.1,969.674 1254.46,968.24 1256.82,966.807 1259.17,965.373 1261.53,963.82 1263.89,962.386 1266.24,960.952 1268.6,959.399 \n",
       "  1270.96,957.846 1273.32,956.413 1275.67,954.859 1278.03,953.306 1280.39,951.753 1282.74,950.2 1285.1,948.527 1287.46,946.855 1289.82,945.182 1292.17,943.39 \n",
       "  1294.53,941.718 1296.89,939.926 1299.24,938.133 1301.6,936.341 1303.96,934.549 1306.32,932.757 1308.67,930.965 1311.03,929.054 1313.39,927.142 1315.74,925.35 \n",
       "  1318.1,923.439 1320.46,921.646 1322.82,919.735 1325.17,917.823 1327.53,916.031 1329.89,914.239 1332.24,912.328 1334.6,910.536 1336.96,908.744 1339.32,906.952 \n",
       "  1341.67,905.279 1344.03,903.726 1346.39,902.292 1348.74,900.859 1351.1,899.425 1353.46,898.23 1355.82,897.035 1358.17,895.841 1360.53,894.527 1362.89,893.332 \n",
       "  1365.24,892.018 1367.6,890.703 1369.96,889.27 1372.32,887.836 1374.67,886.522 1377.03,885.088 1379.39,883.774 1381.74,882.46 1384.1,881.265 1386.46,879.951 \n",
       "  1388.82,878.637 1391.17,877.323 1393.53,875.889 1395.89,874.455 1398.24,873.022 1400.6,871.947 1402.96,870.871 1405.32,869.916 1407.67,868.96 1410.03,867.765 \n",
       "  1412.39,866.57 1414.74,865.495 1417.1,864.3 1419.46,863.106 1421.82,861.792 1424.17,860.477 1426.53,859.163 1428.89,857.968 1431.24,856.654 1433.6,855.46 \n",
       "  1435.96,854.384 1438.32,853.19 1440.67,851.995 1443.03,850.8 1445.39,849.725 1447.74,848.53 1450.1,847.455 1452.46,846.499 1454.82,845.424 1457.17,844.468 \n",
       "  1459.53,843.512 1461.89,842.318 1464.24,841.362 1466.6,840.287 1468.96,839.331 1471.31,838.256 1473.67,837.18 1476.03,836.225 1478.39,835.269 1480.74,834.194 \n",
       "  1483.1,833.118 1485.46,832.043 1487.81,830.968 1490.17,829.893 1492.53,828.818 1494.89,827.742 1497.24,826.667 1499.6,825.472 1501.96,824.397 1504.31,823.202 \n",
       "  1506.67,822.008 1509.03,820.813 1511.39,819.618 1513.74,818.304 1516.1,817.109 1518.46,815.915 1520.81,814.72 1523.17,813.525 1525.53,812.45 1527.89,811.375 \n",
       "  1530.24,810.419 1532.6,809.463 1534.96,808.507 1537.31,807.552 1539.67,806.596 1542.03,805.521 1544.39,804.684 1546.74,803.729 1549.1,802.773 1551.46,801.817 \n",
       "  1553.81,800.861 1556.17,799.906 1558.53,798.95 1560.89,797.994 1563.24,796.919 1565.6,795.844 1567.96,794.649 1570.31,793.574 1572.67,792.379 1575.03,791.184 \n",
       "  1577.39,790.109 1579.74,789.034 1582.1,787.839 1584.46,786.764 1586.81,785.569 1589.17,784.374 1591.53,783.18 1593.89,781.985 1596.24,780.91 1598.6,779.715 \n",
       "  1600.96,778.64 1603.31,777.564 1605.67,776.489 1608.03,775.414 1610.39,774.339 1612.74,773.383 1615.1,772.308 1617.46,771.352 1619.81,770.277 1622.17,769.321 \n",
       "  1624.53,768.126 1626.89,767.17 1629.24,765.976 1631.6,764.781 1633.96,763.586 1636.31,762.392 1638.67,761.197 1641.03,760.122 1643.39,758.927 1645.74,757.732 \n",
       "  1648.1,756.538 1650.46,755.462 1652.81,754.387 1655.17,753.312 1657.53,752.237 1659.89,751.281 1662.24,750.325 1664.6,749.489 1666.96,748.533 1669.31,747.577 \n",
       "  1671.67,746.621 1674.03,745.785 1676.39,744.949 1678.74,743.993 1681.1,743.157 1683.46,742.32 1685.81,741.484 1688.17,740.528 1690.53,739.692 1692.88,738.856 \n",
       "  1695.24,738.02 1697.6,737.183 1699.96,736.227 1702.31,735.391 1704.67,734.435 1707.03,733.48 1709.38,732.404 1711.74,731.449 1714.1,730.493 1716.46,729.537 \n",
       "  1718.81,728.462 1721.17,727.506 1723.53,726.55 1725.88,725.595 1728.24,724.519 1730.6,723.444 1732.96,722.488 1735.31,721.413 1737.67,720.457 1740.03,719.382 \n",
       "  1742.38,718.426 1744.74,717.232 1747.1,716.156 1749.46,715.081 1751.81,714.006 1754.17,712.931 1756.53,711.855 1758.88,710.78 1761.24,709.824 1763.6,708.869 \n",
       "  1765.96,707.913 1768.31,706.957 1770.67,705.882 1773.03,704.926 1775.38,703.851 1777.74,702.895 1780.1,701.82 1782.46,700.864 1784.81,699.908 1787.17,698.953 \n",
       "  1789.53,697.997 1791.88,696.922 1794.24,696.085 1796.6,695.01 1798.96,693.935 1801.31,692.859 1803.67,691.665 1806.03,690.47 1808.38,689.275 1810.74,688.2 \n",
       "  1813.1,687.005 1815.46,685.811 1817.81,684.735 1820.17,683.541 1822.53,682.346 1824.88,681.151 1827.24,679.837 1829.6,678.642 1831.96,677.448 1834.31,676.372 \n",
       "  1836.67,675.178 1839.03,674.103 1841.38,672.908 1843.74,671.713 1846.1,670.518 1848.46,669.324 1850.81,668.129 1853.17,666.934 1855.53,665.74 1857.88,664.545 \n",
       "  1860.24,663.35 1862.6,662.275 1864.96,661.08 1867.31,660.005 1869.67,658.81 1872.03,657.735 1874.38,656.66 1876.74,655.465 1879.1,654.151 1881.46,652.956 \n",
       "  1883.81,651.642 1886.17,650.447 1888.53,649.253 1890.88,647.938 1893.24,646.744 1895.6,645.549 1897.95,644.354 1900.31,643.16 1902.67,641.965 1905.03,640.77 \n",
       "  1907.38,639.575 1909.74,638.261 1912.1,637.067 1914.45,635.872 1916.81,634.797 1919.17,633.602 1921.53,632.527 1923.88,631.451 1926.24,630.376 1928.6,629.54 \n",
       "  1930.95,628.823 1933.31,628.106 1935.67,627.389 1938.03,626.553 1940.38,625.717 1942.74,625 1945.1,624.283 1947.45,623.566 1949.81,622.849 1952.17,622.252 \n",
       "  1954.53,621.535 1956.88,620.938 1959.24,620.46 1961.6,619.982 1963.95,619.504 1966.31,619.146 1968.67,618.668 1971.03,618.19 1973.38,617.832 1975.74,617.234 \n",
       "  1978.1,616.756 1980.45,616.159 1982.81,615.562 1985.17,614.964 1987.53,614.367 1989.88,613.77 1992.24,613.053 1994.6,612.217 1996.95,611.5 1999.31,610.663 \n",
       "  2001.67,609.947 2004.03,609.23 2006.38,608.632 2008.74,608.035 2011.1,607.438 2013.45,606.84 2015.81,606.243 2018.17,605.646 2020.53,605.048 2022.88,604.69 \n",
       "  2025.24,604.451 2027.6,604.093 2029.95,603.854 2032.31,603.615 2034.67,603.256 2037.03,603.017 2039.38,602.659 2041.74,602.181 2044.1,601.823 2046.45,601.464 \n",
       "  2048.81,601.106 2051.17,600.747 2053.53,600.269 2055.88,599.911 2058.24,599.433 2060.6,599.314 2062.95,599.075 2065.31,598.836 2067.67,598.597 2070.03,598.477 \n",
       "  2072.38,598.358 2074.74,598.358 2077.1,598.358 2079.45,598.358 2081.81,598.477 2084.17,598.477 2086.53,598.716 2088.88,598.955 2091.24,599.194 2093.6,599.672 \n",
       "  2095.95,600.031 2098.31,600.508 2100.67,600.986 2103.02,601.703 2105.38,602.42 2107.74,603.017 2110.1,603.495 2112.45,603.854 2114.81,604.331 2117.17,604.69 \n",
       "  2119.52,605.168 2121.88,605.646 2124.24,606.124 2126.6,606.601 2128.95,606.96 2131.31,607.557 2133.67,608.035 2136.02,608.513 2138.38,608.871 2140.74,609.23 \n",
       "  2143.1,609.708 2145.45,610.066 2147.81,610.663 2150.17,611.141 2152.52,611.739 2154.88,612.217 2157.24,612.694 2159.6,613.172 2161.95,613.531 2164.31,613.889 \n",
       "  2166.67,614.248 2169.02,614.606 2171.38,615.084 2173.74,615.562 2176.1,616.159 2178.45,616.518 2180.81,617.115 2183.17,617.593 2185.52,618.19 2187.88,618.668 \n",
       "  2190.24,619.026 2192.6,619.385 2194.95,619.743 2197.31,619.982 2199.67,620.221 2202.02,620.46 2204.38,620.46 2206.74,620.221 2209.1,620.221 2211.45,620.102 \n",
       "  2213.81,619.863 2216.17,619.624 2218.52,619.385 2220.88,619.265 2223.24,618.907 2225.6,618.787 2227.95,618.549 2230.31,618.429 2232.67,618.31 2235.02,618.19 \n",
       "  2237.38,618.071 2239.74,617.832 2242.1,617.593 2244.45,617.354 2246.81,617.115 2249.17,616.876 2251.52,616.637 2253.88,616.518 2256.24,616.518 2258.6,616.398 \n",
       "  2260.95,616.04 2263.31,615.562 2265.67,615.084 2268.02,614.725 2270.38,614.367 2272.74,614.128 2275.1,613.889 2277.45,613.77 2279.81,613.65 2282.17,613.65 \n",
       "  2284.52,613.531 2286.88,613.531 2289.24,613.411 2291.6,613.172 2293.95,612.933 2296.31,612.694 2298.67,612.455 2301.02,612.097 2303.38,611.739 2305.74,611.5 \n",
       "  2308.1,611.141 2310.45,610.783 2312.81,610.305 2315.17,609.708 2317.52,609.349 2319.88,608.871 2322.24,608.513 2324.59,608.035 2326.95,607.557 2329.31,607.079 \n",
       "  2331.67,606.601 2334.02,606.124 2336.38,605.526 2338.74,604.809 2341.09,604.212 2343.45,603.734 2345.81,603.137 2348.17,602.539 2350.52,601.942 2352.88,601.345 \n",
       "  2355.24,600.867 2357.59,600.389 2359.95,599.792 2362.31,599.314 2364.67,598.836 2367.02,598.358 2369.38,597.761 2371.74,597.402 2374.09,596.805 2376.45,596.327 \n",
       "  2378.81,595.73 2381.17,595.252 2383.52,594.654 2385.88,594.057 2388.24,593.34 2390.59,592.743 2392.95,592.145 2395.31,591.548 2397.67,590.831 2400.02,590.234 \n",
       "  2402.38,589.637 2404.74,588.8 2407.09,588.203 2409.45,587.486 2411.81,586.889 2414.17,586.172 2416.52,585.575 2418.88,585.097 2421.24,584.619 2423.59,584.141 \n",
       "  2425.95,583.782 2428.31,583.544 2430.67,583.185 2433.02,582.946 2435.38,582.827 2437.74,582.588 2440.09,582.229 2442.45,581.871 2444.81,581.513 2447.17,581.274 \n",
       "  2449.52,580.915 2451.88,580.676 2454.24,580.437 2456.59,580.198 2458.95,579.959 2461.31,579.72 2463.67,579.481 2466.02,579.243 2468.38,579.004 2470.74,578.765 \n",
       "  2473.09,578.645 2475.45,578.526 2477.81,578.406 2480.17,578.287 2482.52,578.287 2484.88,578.167 2487.24,577.928 2489.59,577.689 2491.95,577.45 2494.31,577.331 \n",
       "  2496.67,577.092 2499.02,576.853 2501.38,576.614 2503.74,576.375 2506.09,576.136 2508.45,575.897 2510.81,575.658 2513.17,575.419 2515.52,575.061 2517.88,574.583 \n",
       "  2520.24,574.105 2522.59,573.508 2524.95,572.911 2527.31,572.194 2529.66,571.596 2532.02,570.999 2534.38,570.282 2536.74,569.685 2539.09,569.088 2541.45,568.371 \n",
       "  2543.81,567.773 2546.16,567.176 2548.52,566.459 2550.88,565.742 2553.24,565.026 2555.59,564.309 2557.95,563.472 2560.31,562.875 2562.66,562.158 2565.02,561.441 \n",
       "  2567.38,560.844 2569.74,560.247 2572.09,559.649 2574.45,558.932 2576.81,558.335 2579.16,557.618 2581.52,557.021 2583.88,556.304 2586.24,555.707 2588.59,555.109 \n",
       "  2590.95,554.393 2593.31,553.795 2595.66,553.198 2598.02,552.601 2600.38,552.003 2602.74,551.406 2605.09,550.808 2607.45,550.331 2609.81,549.972 2612.16,549.494 \n",
       "  2614.52,549.016 2616.88,548.539 2619.24,547.941 2621.59,547.463 2623.95,547.105 2626.31,546.746 2628.66,546.507 2631.02,546.269 2633.38,546.149 2635.74,546.03 \n",
       "  2638.09,545.791 2640.45,545.552 2642.81,545.193 2645.16,544.954 2647.52,544.715 2649.88,544.476 2652.24,544.238 2654.59,544.118 2656.95,543.999 2659.31,543.999 \n",
       "  2661.66,543.879 2664.02,543.76 2666.38,543.64 2668.74,543.521 2671.09,543.401 2673.45,543.282 2675.81,543.162 2678.16,543.043 2680.52,542.923 2682.88,542.923 \n",
       "  2685.24,543.043 2687.59,542.923 2689.95,542.804 2692.31,542.684 2694.66,542.565 2697.02,542.445 2699.38,542.445 2701.74,542.326 2704.09,542.087 2706.45,541.848 \n",
       "  2708.81,541.609 2711.16,541.37 2713.52,541.131 2715.88,540.773 2718.24,540.534 2720.59,540.176 2722.95,539.817 2725.31,539.578 2727.66,539.22 2730.02,538.861 \n",
       "  2732.38,538.622 2734.74,538.383 2737.09,538.145 2739.45,538.025 2741.81,537.906 2744.16,537.786 2746.52,537.667 2748.88,537.547 2751.23,537.428 2753.59,537.308 \n",
       "  2755.95,537.189 2758.31,536.95 2760.66,536.83 2763.02,536.711 2765.38,536.591 2767.73,536.711 2770.09,536.95 2772.45,536.95 2774.81,537.069 2777.16,537.069 \n",
       "  2779.52,537.069 2781.88,537.189 2784.23,537.189 2786.59,537.189 2788.95,536.711 2791.31,536.233 2793.66,535.875 2796.02,535.397 2798.38,534.919 2800.73,534.56 \n",
       "  2803.09,534.202 2805.45,533.844 2807.81,533.366 2810.16,533.007 2812.52,532.649 2814.88,532.171 2817.23,531.813 2819.59,531.335 2821.95,530.737 2824.31,530.14 \n",
       "  2826.66,529.543 2829.02,528.826 2831.38,528.228 2833.73,527.631 2836.09,527.034 2838.45,526.436 2840.81,525.958 2843.16,525.361 2845.52,524.883 2847.88,524.286 \n",
       "  2850.23,523.689 2852.59,523.33 2854.95,522.852 2857.31,522.374 2859.66,521.896 2862.02,521.538 2864.38,520.941 2866.73,520.224 2869.09,519.627 2871.45,518.79 \n",
       "  2873.81,518.073 2876.16,517.357 2878.52,516.64 2880.88,515.803 2883.23,514.967 2885.59,514.011 2887.95,513.056 2890.31,512.1 2892.66,511.144 2895.02,510.069 \n",
       "  2897.38,509.113 2899.73,508.157 2902.09,507.321 2904.45,506.485 2906.81,505.768 2909.16,505.051 2911.52,504.334 2913.88,503.856 2916.23,503.378 2918.59,502.781 \n",
       "  2920.95,501.825 2923.31,500.989 2925.66,500.153 2928.02,499.316 2930.38,498.361 2932.73,497.405 2935.09,496.449 2937.45,495.374 2939.81,494.299 2942.16,493.223 \n",
       "  2944.52,492.148 2946.88,490.834 2949.23,489.639 2951.59,488.325 2953.95,486.772 2956.3,485.219 2958.66,483.666 2961.02,482.113 2963.38,480.321 2965.73,478.528 \n",
       "  2968.09,476.856 2970.45,475.183 2972.8,473.63 2975.16,472.077 2977.52,470.643 2979.88,469.09 2982.23,467.657 2984.59,465.984 2986.95,464.431 2989.3,462.878 \n",
       "  2991.66,461.444 2994.02,459.891 2996.38,458.457 2998.73,457.024 3001.09,455.59 3003.45,454.156 3005.8,452.723 3008.16,451.289 3010.52,449.855 3012.88,448.422 \n",
       "  3015.23,446.988 3017.59,445.554 3019.95,444.121 3022.3,442.807 3024.66,441.492 3027.02,440.178 3029.38,438.864 3031.73,437.55 3034.09,436.236 3036.45,434.802 \n",
       "  3038.8,433.607 3041.16,432.293 3043.52,431.218 3045.88,430.023 3048.23,428.709 3050.59,427.634 3052.95,426.559 3055.3,425.603 3057.66,424.528 3060.02,423.572 \n",
       "  3062.38,422.497 3064.73,421.421 3067.09,420.227 3069.45,419.151 3071.8,417.837 3074.16,416.643 3076.52,415.448 3078.88,414.253 3081.23,413.058 3083.59,411.983 \n",
       "  3085.95,410.788 3088.3,409.833 3090.66,408.757 3093.02,407.802 3095.38,406.846 3097.73,405.771 3100.09,404.815 3102.45,403.859 3104.8,403.023 3107.16,402.187 \n",
       "  3109.52,401.47 3111.88,400.872 3114.23,400.514 3116.59,400.275 3118.95,400.514 3121.3,400.633 3123.66,400.872 3126.02,400.753 3128.38,400.394 3130.73,400.156 \n",
       "  3133.09,399.797 3135.45,399.797 3137.8,399.558 3140.16,399.439 3142.52,399.558 3144.88,399.797 3147.23,400.036 3149.59,400.992 3151.95,401.709 3154.3,402.425 \n",
       "  3156.66,403.262 3159.02,404.456 3161.37,405.771 3163.73,407.324 3166.09,408.996 3168.45,410.549 3170.8,412.103 3173.16,413.656 3175.52,415.687 3177.87,417.12 \n",
       "  3180.23,418.196 3182.59,419.032 3184.95,420.107 3187.3,421.063 3189.66,422.138 3192.02,423.213 3194.37,424.289 3196.73,425.603 3199.09,427.036 3201.45,428.47 \n",
       "  3203.8,429.904 3206.16,431.337 3208.52,432.413 3210.87,433.249 3213.23,434.085 3215.59,434.683 3217.95,435.28 3220.3,435.997 3222.66,436.714 3225.02,437.43 \n",
       "  3227.37,438.147 3229.73,438.984 3232.09,439.82 3234.45,440.537 3236.8,441.254 3239.16,441.851 3241.52,442.568 3243.87,443.523 3246.23,444.479 3248.59,445.196 \n",
       "  3250.95,446.032 3253.3,446.869 3255.66,447.585 3258.02,448.302 3260.37,448.9 3262.73,449.378 3265.09,449.975 3267.45,450.692 3269.8,451.409 3272.16,452.125 \n",
       "  3274.52,452.842 3276.87,453.559 3279.23,454.276 3281.59,454.754 3283.95,455.232 3286.3,455.71 3288.66,456.307 3291.02,456.785 3293.37,457.143 3295.73,457.741 \n",
       "  3298.09,458.338 3300.45,458.935 3302.8,459.533 3305.16,460.13 3307.52,460.488 3309.87,460.847 3312.23,461.205 3314.59,461.564 3316.95,461.922 3319.3,462.28 \n",
       "  3321.66,462.639 3324.02,462.997 3326.37,463.117 3328.73,463.236 3331.09,462.997 3333.45,462.997 3335.8,462.878 3338.16,462.758 3340.52,462.519 3342.87,462.28 \n",
       "  3345.23,462.041 3347.59,461.803 3349.95,461.444 3352.3,461.086 3354.66,460.727 3357.02,460.249 3359.37,459.891 3361.73,459.533 3364.09,459.413 3366.45,459.533 \n",
       "  3368.8,459.533 3371.16,459.652 3373.52,459.772 3375.87,459.533 3378.23,459.652 3380.59,459.772 3382.94,459.891 3385.3,460.01 3387.66,460.13 3390.02,460.369 \n",
       "  3392.37,460.488 3394.73,460.727 3397.09,460.966 3399.44,461.205 3401.8,461.564 3404.16,461.803 3406.52,462.161 3408.87,462.4 3411.23,462.639 3413.59,462.878 \n",
       "  3415.94,463.117 3418.3,463.356 3420.66,463.595 3423.02,463.834 3425.37,463.953 3427.73,464.192 3430.09,464.431 3432.44,464.67 3434.8,465.028 3437.16,465.267 \n",
       "  3439.52,465.506 3441.87,465.745 3444.23,465.865 3446.59,465.984 3448.94,466.104 3451.3,466.223 3453.66,466.342 3456.02,466.462 3458.37,466.581 3460.73,466.581 \n",
       "  3463.09,466.701 3465.44,466.94 3467.8,467.059 3470.16,467.298 3472.52,467.418 3474.87,467.657 3477.23,467.776 3479.59,468.015 3481.94,468.254 3484.3,468.254 \n",
       "  3486.66,468.254 3489.02,468.254 3491.37,468.135 3493.73,467.776 3496.09,467.418 3498.44,467.059 3500.8,466.82 3503.16,466.462 3505.52,466.104 3507.87,465.506 \n",
       "  3510.23,465.028 3512.59,464.431 3514.94,463.714 3517.3,463.117 3519.66,462.519 3522.02,461.922 3524.37,461.564 3526.73,460.966 3529.09,460.608 3531.44,460.13 \n",
       "  3533.8,459.652 3536.16,459.174 3538.52,458.577 3540.87,457.86 3543.23,457.143 3545.59,456.426 3547.94,455.71 3550.3,455.112 3552.66,454.395 3555.02,453.798 \n",
       "  3557.37,453.201 3559.73,452.245 3562.09,451.528 3564.44,450.931 3566.8,450.453 3569.16,449.975 3571.52,449.497 3573.87,449.258 3576.23,448.9 3578.59,448.541 \n",
       "  3580.94,448.422 3583.3,448.183 3585.66,448.063 3588.01,447.824 3590.37,447.585 3592.73,447.108 3595.09,446.869 3597.44,446.749 3599.8,446.51 3602.16,446.271 \n",
       "  3604.51,446.152 3606.87,446.032 3609.23,445.913 3611.59,445.913 3613.94,445.913 3616.3,445.793 3618.66,445.793 3621.01,445.554 3623.37,445.316 3625.73,445.077 \n",
       "  3628.09,444.599 3630.44,444.121 3632.8,443.762 3635.16,443.404 3637.51,442.926 3639.87,442.448 3642.23,441.851 3644.59,441.254 3646.94,440.656 3649.3,440.178 \n",
       "  3651.66,439.7 3654.01,439.223 3656.37,438.625 3658.73,438.147 3661.09,437.789 3663.44,437.192 3665.8,436.714 3668.16,436.236 3670.51,435.638 3672.87,435.161 \n",
       "  3675.23,434.802 3677.59,434.324 3679.94,433.966 3682.3,433.488 3684.66,433.13 3687.01,432.771 3689.37,432.652 3691.73,432.652 3694.09,432.771 3696.44,432.891 \n",
       "  3698.8,433.13 3701.16,433.368 3703.51,433.488 3705.87,433.488 3708.23,433.249 3710.59,432.891 3712.94,432.771 3715.3,432.532 3717.66,432.293 3720.01,431.696 \n",
       "  3722.37,431.218 3724.73,430.74 3727.09,430.262 3729.44,429.784 3731.8,429.306 3734.16,428.829 3736.51,428.231 3738.87,427.753 3741.23,427.275 3743.59,426.678 \n",
       "  3745.94,426.32 3748.3,425.842 3750.66,425.364 3753.01,424.886 3755.37,424.289 3757.73,423.691 3760.09,423.213 3762.44,422.616 3764.8,422.138 3767.16,421.541 \n",
       "  3769.51,421.063 \n",
       "  \"/>\n",
       "<path clip-path=\"url(#clip9600)\" d=\"\n",
       "M342.466 463.884 L994.627 463.884 L994.627 221.964 L342.466 221.964  Z\n",
       "  \" fill=\"#ffffff\" fill-rule=\"evenodd\" fill-opacity=\"1\"/>\n",
       "<polyline clip-path=\"url(#clip9600)\" style=\"stroke:#000000; stroke-width:4; stroke-opacity:1; fill:none\" points=\"\n",
       "  342.466,463.884 994.627,463.884 994.627,221.964 342.466,221.964 342.466,463.884 \n",
       "  \"/>\n",
       "<polyline clip-path=\"url(#clip9600)\" style=\"stroke:#009af9; stroke-width:4; stroke-opacity:1; fill:none\" points=\"\n",
       "  381.666,282.444 616.866,282.444 \n",
       "  \"/>\n",
       "<path clip-path=\"url(#clip9600)\" d=\"M 0 0 M656.066 273.798 L660.58 273.798 L668.682 295.557 L676.784 273.798 L681.298 273.798 L671.575 299.724 L665.788 299.724 L656.066 273.798 Z\" fill=\"#000000\" fill-rule=\"evenodd\" fill-opacity=\"1\" /><path clip-path=\"url(#clip9600)\" d=\"M 0 0 M697.547 286.692 Q692.385 286.692 690.395 287.872 Q688.404 289.053 688.404 291.9 Q688.404 294.169 689.886 295.511 Q691.39 296.831 693.96 296.831 Q697.501 296.831 699.631 294.331 Q701.784 291.807 701.784 287.641 L701.784 286.692 L697.547 286.692 M706.043 284.933 L706.043 299.724 L701.784 299.724 L701.784 295.789 Q700.325 298.15 698.149 299.284 Q695.973 300.395 692.825 300.395 Q688.844 300.395 686.483 298.173 Q684.145 295.928 684.145 292.178 Q684.145 287.803 687.061 285.581 Q690.001 283.358 695.811 283.358 L701.784 283.358 L701.784 282.942 Q701.784 280.002 699.839 278.405 Q697.918 276.784 694.423 276.784 Q692.2 276.784 690.094 277.317 Q687.987 277.849 686.043 278.914 L686.043 274.979 Q688.381 274.076 690.58 273.636 Q692.779 273.173 694.862 273.173 Q700.487 273.173 703.265 276.09 Q706.043 279.007 706.043 284.933 Z\" fill=\"#000000\" fill-rule=\"evenodd\" fill-opacity=\"1\" /><path clip-path=\"url(#clip9600)\" d=\"M 0 0 M710.51 263.706 L714.77 263.706 L714.77 299.724 L710.51 299.724 L710.51 263.706 Z\" fill=\"#000000\" fill-rule=\"evenodd\" fill-opacity=\"1\" /><path clip-path=\"url(#clip9600)\" d=\"M 0 0 M718.797 289.493 L718.797 273.798 L723.057 273.798 L723.057 289.331 Q723.057 293.011 724.492 294.863 Q725.927 296.692 728.797 296.692 Q732.246 296.692 734.237 294.493 Q736.251 292.294 736.251 288.497 L736.251 273.798 L740.51 273.798 L740.51 299.724 L736.251 299.724 L736.251 295.743 Q734.7 298.104 732.64 299.261 Q730.603 300.395 727.895 300.395 Q723.427 300.395 721.112 297.618 Q718.797 294.84 718.797 289.493 M729.515 273.173 L729.515 273.173 Z\" fill=\"#000000\" fill-rule=\"evenodd\" fill-opacity=\"1\" /><path clip-path=\"url(#clip9600)\" d=\"M 0 0 M767.154 285.696 L767.154 287.78 L747.57 287.78 Q747.848 292.178 750.209 294.493 Q752.593 296.784 756.83 296.784 Q759.283 296.784 761.575 296.182 Q763.89 295.581 766.158 294.377 L766.158 298.405 Q763.867 299.377 761.459 299.886 Q759.052 300.395 756.575 300.395 Q750.371 300.395 746.737 296.784 Q743.126 293.173 743.126 287.016 Q743.126 280.65 746.552 276.923 Q750.001 273.173 755.834 273.173 Q761.066 273.173 764.098 276.553 Q767.154 279.909 767.154 285.696 M762.894 284.446 Q762.848 280.951 760.927 278.868 Q759.029 276.784 755.881 276.784 Q752.316 276.784 750.163 278.798 Q748.033 280.812 747.709 284.47 L762.894 284.446 Z\" fill=\"#000000\" fill-rule=\"evenodd\" fill-opacity=\"1\" /><polyline clip-path=\"url(#clip9600)\" style=\"stroke:#e26f46; stroke-width:4; stroke-opacity:1; fill:none\" points=\"\n",
       "  381.666,342.924 616.866,342.924 \n",
       "  \"/>\n",
       "<path clip-path=\"url(#clip9600)\" d=\"M 0 0 M656.738 356.269 L664.376 356.269 L664.376 329.903 L656.066 331.57 L656.066 327.311 L664.33 325.644 L669.006 325.644 L669.006 356.269 L676.645 356.269 L676.645 360.204 L656.738 360.204 L656.738 356.269 Z\" fill=\"#000000\" fill-rule=\"evenodd\" fill-opacity=\"1\" /><path clip-path=\"url(#clip9600)\" d=\"M 0 0 M691.714 343.792 Q688.381 343.792 686.46 345.575 Q684.561 347.357 684.561 350.482 Q684.561 353.607 686.46 355.389 Q688.381 357.172 691.714 357.172 Q695.048 357.172 696.969 355.389 Q698.89 353.584 698.89 350.482 Q698.89 347.357 696.969 345.575 Q695.071 343.792 691.714 343.792 M687.038 341.801 Q684.029 341.061 682.339 339.001 Q680.673 336.94 680.673 333.977 Q680.673 329.834 683.612 327.426 Q686.575 325.019 691.714 325.019 Q696.876 325.019 699.816 327.426 Q702.756 329.834 702.756 333.977 Q702.756 336.94 701.066 339.001 Q699.399 341.061 696.413 341.801 Q699.793 342.588 701.668 344.88 Q703.566 347.172 703.566 350.482 Q703.566 355.505 700.487 358.19 Q697.432 360.875 691.714 360.875 Q685.997 360.875 682.918 358.19 Q679.862 355.505 679.862 350.482 Q679.862 347.172 681.761 344.88 Q683.659 342.588 687.038 341.801 M685.325 334.417 Q685.325 337.102 686.992 338.607 Q688.682 340.112 691.714 340.112 Q694.723 340.112 696.413 338.607 Q698.126 337.102 698.126 334.417 Q698.126 331.732 696.413 330.227 Q694.723 328.723 691.714 328.723 Q688.682 328.723 686.992 330.227 Q685.325 331.732 685.325 334.417 Z\" fill=\"#000000\" fill-rule=\"evenodd\" fill-opacity=\"1\" /><path clip-path=\"url(#clip9600)\" d=\"M 0 0 M718.635 328.723 Q715.024 328.723 713.196 332.288 Q711.39 335.829 711.39 342.959 Q711.39 350.065 713.196 353.63 Q715.024 357.172 718.635 357.172 Q722.27 357.172 724.075 353.63 Q725.904 350.065 725.904 342.959 Q725.904 335.829 724.075 332.288 Q722.27 328.723 718.635 328.723 M718.635 325.019 Q724.446 325.019 727.501 329.626 Q730.58 334.209 730.58 342.959 Q730.58 351.686 727.501 356.292 Q724.446 360.875 718.635 360.875 Q712.825 360.875 709.747 356.292 Q706.691 351.686 706.691 342.959 Q706.691 334.209 709.747 329.626 Q712.825 325.019 718.635 325.019 Z\" fill=\"#000000\" fill-rule=\"evenodd\" fill-opacity=\"1\" /><path clip-path=\"url(#clip9600)\" d=\"M 0 0 M732.895 345.32 L745.371 345.32 L745.371 349.116 L732.895 349.116 L732.895 345.32 Z\" fill=\"#000000\" fill-rule=\"evenodd\" fill-opacity=\"1\" /><path clip-path=\"url(#clip9600)\" d=\"M 0 0 M766.899 338.213 L766.899 324.186 L771.158 324.186 L771.158 360.204 L766.899 360.204 L766.899 356.315 Q765.556 358.63 763.496 359.764 Q761.459 360.875 758.589 360.875 Q753.89 360.875 750.927 357.125 Q747.987 353.375 747.987 347.264 Q747.987 341.153 750.927 337.403 Q753.89 333.653 758.589 333.653 Q761.459 333.653 763.496 334.788 Q765.556 335.899 766.899 338.213 M752.385 347.264 Q752.385 351.963 754.306 354.649 Q756.251 357.311 759.63 357.311 Q763.01 357.311 764.955 354.649 Q766.899 351.963 766.899 347.264 Q766.899 342.565 764.955 339.903 Q763.01 337.218 759.63 337.218 Q756.251 337.218 754.306 339.903 Q752.385 342.565 752.385 347.264 Z\" fill=\"#000000\" fill-rule=\"evenodd\" fill-opacity=\"1\" /><path clip-path=\"url(#clip9600)\" d=\"M 0 0 M787.408 347.172 Q782.246 347.172 780.255 348.352 Q778.265 349.533 778.265 352.38 Q778.265 354.649 779.746 355.991 Q781.251 357.311 783.82 357.311 Q787.362 357.311 789.491 354.811 Q791.644 352.287 791.644 348.121 L791.644 347.172 L787.408 347.172 M795.903 345.413 L795.903 360.204 L791.644 360.204 L791.644 356.269 Q790.186 358.63 788.01 359.764 Q785.834 360.875 782.686 360.875 Q778.704 360.875 776.343 358.653 Q774.005 356.408 774.005 352.658 Q774.005 348.283 776.922 346.061 Q779.862 343.838 785.672 343.838 L791.644 343.838 L791.644 343.422 Q791.644 340.482 789.7 338.885 Q787.778 337.264 784.283 337.264 Q782.061 337.264 779.954 337.797 Q777.848 338.329 775.904 339.394 L775.904 335.459 Q778.242 334.556 780.441 334.116 Q782.64 333.653 784.723 333.653 Q790.348 333.653 793.126 336.57 Q795.903 339.487 795.903 345.413 Z\" fill=\"#000000\" fill-rule=\"evenodd\" fill-opacity=\"1\" /><path clip-path=\"url(#clip9600)\" d=\"M 0 0 M811.158 362.611 Q809.352 367.241 807.64 368.653 Q805.927 370.065 803.056 370.065 L799.653 370.065 L799.653 366.5 L802.153 366.5 Q803.913 366.5 804.885 365.667 Q805.857 364.834 807.038 361.732 L807.802 359.787 L797.315 334.278 L801.829 334.278 L809.931 354.556 L818.033 334.278 L822.547 334.278 L811.158 362.611 Z\" fill=\"#000000\" fill-rule=\"evenodd\" fill-opacity=\"1\" /><path clip-path=\"url(#clip9600)\" d=\"M 0 0 M853.866 347.172 Q848.704 347.172 846.713 348.352 Q844.723 349.533 844.723 352.38 Q844.723 354.649 846.204 355.991 Q847.709 357.311 850.278 357.311 Q853.82 357.311 855.949 354.811 Q858.102 352.287 858.102 348.121 L858.102 347.172 L853.866 347.172 M862.361 345.413 L862.361 360.204 L858.102 360.204 L858.102 356.269 Q856.644 358.63 854.468 359.764 Q852.292 360.875 849.144 360.875 Q845.162 360.875 842.801 358.653 Q840.463 356.408 840.463 352.658 Q840.463 348.283 843.38 346.061 Q846.32 343.838 852.13 343.838 L858.102 343.838 L858.102 343.422 Q858.102 340.482 856.158 338.885 Q854.236 337.264 850.741 337.264 Q848.519 337.264 846.412 337.797 Q844.306 338.329 842.362 339.394 L842.362 335.459 Q844.699 334.556 846.899 334.116 Q849.098 333.653 851.181 333.653 Q856.806 333.653 859.584 336.57 Q862.361 339.487 862.361 345.413 Z\" fill=\"#000000\" fill-rule=\"evenodd\" fill-opacity=\"1\" /><path clip-path=\"url(#clip9600)\" d=\"M 0 0 M863.773 334.278 L868.287 334.278 L876.389 356.037 L884.491 334.278 L889.005 334.278 L879.283 360.204 L873.496 360.204 L863.773 334.278 Z\" fill=\"#000000\" fill-rule=\"evenodd\" fill-opacity=\"1\" /><path clip-path=\"url(#clip9600)\" d=\"M 0 0 M910.532 346.94 Q910.532 342.311 908.611 339.764 Q906.713 337.218 903.264 337.218 Q899.838 337.218 897.917 339.764 Q896.019 342.311 896.019 346.94 Q896.019 351.547 897.917 354.093 Q899.838 356.639 903.264 356.639 Q906.713 356.639 908.611 354.093 Q910.532 351.547 910.532 346.94 M914.792 356.987 Q914.792 363.607 911.852 366.824 Q908.912 370.065 902.847 370.065 Q900.602 370.065 898.611 369.718 Q896.621 369.394 894.746 368.699 L894.746 364.556 Q896.621 365.574 898.449 366.061 Q900.278 366.547 902.176 366.547 Q906.366 366.547 908.449 364.348 Q910.532 362.172 910.532 357.75 L910.532 355.644 Q909.213 357.936 907.153 359.07 Q905.093 360.204 902.222 360.204 Q897.454 360.204 894.537 356.57 Q891.621 352.936 891.621 346.94 Q891.621 340.922 894.537 337.288 Q897.454 333.653 902.222 333.653 Q905.093 333.653 907.153 334.788 Q909.213 335.922 910.532 338.213 L910.532 334.278 L914.792 334.278 L914.792 356.987 Z\" fill=\"#000000\" fill-rule=\"evenodd\" fill-opacity=\"1\" /><polyline clip-path=\"url(#clip9600)\" style=\"stroke:#3da44d; stroke-width:4; stroke-opacity:1; fill:none\" points=\"\n",
       "  381.666,403.404 616.866,403.404 \n",
       "  \"/>\n",
       "<path clip-path=\"url(#clip9600)\" d=\"M 0 0 M671.691 402.05 Q675.048 402.768 676.923 405.036 Q678.821 407.305 678.821 410.638 Q678.821 415.754 675.302 418.554 Q671.784 421.355 665.302 421.355 Q663.126 421.355 660.812 420.916 Q658.52 420.499 656.066 419.642 L656.066 415.129 Q658.011 416.263 660.325 416.842 Q662.64 417.42 665.163 417.42 Q669.562 417.42 671.853 415.684 Q674.168 413.948 674.168 410.638 Q674.168 407.582 672.015 405.869 Q669.886 404.133 666.066 404.133 L662.038 404.133 L662.038 400.291 L666.251 400.291 Q669.7 400.291 671.529 398.925 Q673.358 397.536 673.358 394.943 Q673.358 392.281 671.46 390.869 Q669.585 389.434 666.066 389.434 Q664.145 389.434 661.946 389.851 Q659.747 390.268 657.108 391.147 L657.108 386.981 Q659.77 386.24 662.085 385.869 Q664.423 385.499 666.483 385.499 Q671.807 385.499 674.909 387.93 Q678.011 390.337 678.011 394.457 Q678.011 397.328 676.367 399.318 Q674.724 401.286 671.691 402.05 Z\" fill=\"#000000\" fill-rule=\"evenodd\" fill-opacity=\"1\" /><path clip-path=\"url(#clip9600)\" d=\"M 0 0 M694.469 401.541 Q691.321 401.541 689.469 403.693 Q687.64 405.846 687.64 409.596 Q687.64 413.323 689.469 415.499 Q691.321 417.652 694.469 417.652 Q697.617 417.652 699.446 415.499 Q701.297 413.323 701.297 409.596 Q701.297 405.846 699.446 403.693 Q697.617 401.541 694.469 401.541 M703.751 386.888 L703.751 391.147 Q701.992 390.314 700.186 389.874 Q698.404 389.434 696.645 389.434 Q692.015 389.434 689.561 392.559 Q687.131 395.684 686.784 402.004 Q688.149 399.99 690.21 398.925 Q692.27 397.837 694.747 397.837 Q699.955 397.837 702.964 401.008 Q705.997 404.156 705.997 409.596 Q705.997 414.92 702.848 418.138 Q699.7 421.355 694.469 421.355 Q688.473 421.355 685.302 416.772 Q682.131 412.166 682.131 403.439 Q682.131 395.244 686.02 390.383 Q689.909 385.499 696.46 385.499 Q698.219 385.499 700.001 385.846 Q701.807 386.194 703.751 386.888 Z\" fill=\"#000000\" fill-rule=\"evenodd\" fill-opacity=\"1\" /><path clip-path=\"url(#clip9600)\" d=\"M 0 0 M711.112 386.124 L729.469 386.124 L729.469 390.059 L715.395 390.059 L715.395 398.531 Q716.413 398.184 717.432 398.022 Q718.45 397.837 719.469 397.837 Q725.256 397.837 728.635 401.008 Q732.015 404.18 732.015 409.596 Q732.015 415.175 728.543 418.277 Q725.07 421.355 718.751 421.355 Q716.575 421.355 714.307 420.985 Q712.061 420.615 709.654 419.874 L709.654 415.175 Q711.737 416.309 713.959 416.865 Q716.182 417.42 718.658 417.42 Q722.663 417.42 725.001 415.314 Q727.339 413.207 727.339 409.596 Q727.339 405.985 725.001 403.879 Q722.663 401.772 718.658 401.772 Q716.784 401.772 714.909 402.189 Q713.057 402.605 711.112 403.485 L711.112 386.124 Z\" fill=\"#000000\" fill-rule=\"evenodd\" fill-opacity=\"1\" /><path clip-path=\"url(#clip9600)\" d=\"M 0 0 M734.33 405.8 L746.806 405.8 L746.806 409.596 L734.33 409.596 L734.33 405.8 Z\" fill=\"#000000\" fill-rule=\"evenodd\" fill-opacity=\"1\" /><path clip-path=\"url(#clip9600)\" d=\"M 0 0 M768.334 398.693 L768.334 384.666 L772.593 384.666 L772.593 420.684 L768.334 420.684 L768.334 416.795 Q766.992 419.11 764.931 420.244 Q762.894 421.355 760.024 421.355 Q755.325 421.355 752.362 417.605 Q749.422 413.855 749.422 407.744 Q749.422 401.633 752.362 397.883 Q755.325 394.133 760.024 394.133 Q762.894 394.133 764.931 395.268 Q766.992 396.379 768.334 398.693 M753.82 407.744 Q753.82 412.443 755.742 415.129 Q757.686 417.791 761.066 417.791 Q764.445 417.791 766.39 415.129 Q768.334 412.443 768.334 407.744 Q768.334 403.045 766.39 400.383 Q764.445 397.698 761.066 397.698 Q757.686 397.698 755.742 400.383 Q753.82 403.045 753.82 407.744 Z\" fill=\"#000000\" fill-rule=\"evenodd\" fill-opacity=\"1\" /><path clip-path=\"url(#clip9600)\" d=\"M 0 0 M788.843 407.652 Q783.681 407.652 781.691 408.832 Q779.7 410.013 779.7 412.86 Q779.7 415.129 781.181 416.471 Q782.686 417.791 785.255 417.791 Q788.797 417.791 790.927 415.291 Q793.079 412.767 793.079 408.601 L793.079 407.652 L788.843 407.652 M797.339 405.893 L797.339 420.684 L793.079 420.684 L793.079 416.749 Q791.621 419.11 789.445 420.244 Q787.269 421.355 784.121 421.355 Q780.14 421.355 777.779 419.133 Q775.441 416.888 775.441 413.138 Q775.441 408.763 778.357 406.541 Q781.297 404.318 787.107 404.318 L793.079 404.318 L793.079 403.902 Q793.079 400.962 791.135 399.365 Q789.214 397.744 785.718 397.744 Q783.496 397.744 781.39 398.277 Q779.283 398.809 777.339 399.874 L777.339 395.939 Q779.677 395.036 781.876 394.596 Q784.075 394.133 786.158 394.133 Q791.783 394.133 794.561 397.05 Q797.339 399.967 797.339 405.893 Z\" fill=\"#000000\" fill-rule=\"evenodd\" fill-opacity=\"1\" /><path clip-path=\"url(#clip9600)\" d=\"M 0 0 M812.593 423.091 Q810.788 427.721 809.075 429.133 Q807.362 430.545 804.491 430.545 L801.089 430.545 L801.089 426.98 L803.589 426.98 Q805.348 426.98 806.32 426.147 Q807.292 425.314 808.473 422.212 L809.237 420.267 L798.751 394.758 L803.265 394.758 L811.366 415.036 L819.468 394.758 L823.982 394.758 L812.593 423.091 Z\" fill=\"#000000\" fill-rule=\"evenodd\" fill-opacity=\"1\" /><path clip-path=\"url(#clip9600)\" d=\"M 0 0 M855.301 407.652 Q850.139 407.652 848.149 408.832 Q846.158 410.013 846.158 412.86 Q846.158 415.129 847.639 416.471 Q849.144 417.791 851.713 417.791 Q855.255 417.791 857.385 415.291 Q859.537 412.767 859.537 408.601 L859.537 407.652 L855.301 407.652 M863.797 405.893 L863.797 420.684 L859.537 420.684 L859.537 416.749 Q858.079 419.11 855.903 420.244 Q853.727 421.355 850.579 421.355 Q846.598 421.355 844.237 419.133 Q841.899 416.888 841.899 413.138 Q841.899 408.763 844.815 406.541 Q847.755 404.318 853.565 404.318 L859.537 404.318 L859.537 403.902 Q859.537 400.962 857.593 399.365 Q855.672 397.744 852.176 397.744 Q849.954 397.744 847.848 398.277 Q845.741 398.809 843.797 399.874 L843.797 395.939 Q846.135 395.036 848.334 394.596 Q850.533 394.133 852.616 394.133 Q858.241 394.133 861.019 397.05 Q863.797 399.967 863.797 405.893 Z\" fill=\"#000000\" fill-rule=\"evenodd\" fill-opacity=\"1\" /><path clip-path=\"url(#clip9600)\" d=\"M 0 0 M865.209 394.758 L869.723 394.758 L877.824 416.517 L885.926 394.758 L890.44 394.758 L880.718 420.684 L874.931 420.684 L865.209 394.758 Z\" fill=\"#000000\" fill-rule=\"evenodd\" fill-opacity=\"1\" /><path clip-path=\"url(#clip9600)\" d=\"M 0 0 M911.968 407.42 Q911.968 402.791 910.046 400.244 Q908.148 397.698 904.699 397.698 Q901.273 397.698 899.352 400.244 Q897.454 402.791 897.454 407.42 Q897.454 412.027 899.352 414.573 Q901.273 417.119 904.699 417.119 Q908.148 417.119 910.046 414.573 Q911.968 412.027 911.968 407.42 M916.227 417.467 Q916.227 424.087 913.287 427.304 Q910.347 430.545 904.283 430.545 Q902.037 430.545 900.046 430.198 Q898.056 429.874 896.181 429.179 L896.181 425.036 Q898.056 426.054 899.884 426.541 Q901.713 427.027 903.611 427.027 Q907.801 427.027 909.884 424.828 Q911.968 422.652 911.968 418.23 L911.968 416.124 Q910.648 418.416 908.588 419.55 Q906.528 420.684 903.658 420.684 Q898.889 420.684 895.972 417.05 Q893.056 413.416 893.056 407.42 Q893.056 401.402 895.972 397.768 Q898.889 394.133 903.658 394.133 Q906.528 394.133 908.588 395.268 Q910.648 396.402 911.968 398.693 L911.968 394.758 L916.227 394.758 L916.227 417.467 Z\" fill=\"#000000\" fill-rule=\"evenodd\" fill-opacity=\"1\" /></svg>\n"
      ]
     },
     "execution_count": 11,
     "metadata": {},
     "output_type": "execute_result"
    }
   ],
   "source": [
    "using Plots\n",
    "columns = names(df)\n",
    "count = size(df)[1]\n",
    "days_back = 365*4\n",
    "rows = count-days_back:count\n",
    "dates = format_dates( df[rows,2] , \"m/d/yy\")\n",
    "\n",
    "gr()\n",
    "plot(          dates, # x-axis: dates\n",
    "               [  df[rows,3] averages180[rows] averages365[rows]    ], # y-axis\n",
    "    label    = [ \"value\" \"180-day avg\" \"365-day avg\"   \"\"  ],\n",
    "    legend   =:topleft, \n",
    "              # :right, :left, :top, :bottom, :inside, :best, :legend, :topright, :topleft, :bottomleft, :bottomright\n",
    "    xlabel   = \"time\",\n",
    "    ylabel   = \"indicators\",\n",
    "    size     = (980, 400), # width, height\n",
    "    layout = (1, 1) # number of graphs: vertically, horizontally\n",
    "    )"
   ]
  },
  {
   "cell_type": "markdown",
   "metadata": {},
   "source": [
    "### Insert averages to DataFrame"
   ]
  },
  {
   "cell_type": "code",
   "execution_count": 12,
   "metadata": {
    "ExecuteTime": {
     "end_time": "2020-11-30T19:45:33.140000-05:00",
     "start_time": "2020-12-01T00:44:28.130Z"
    }
   },
   "outputs": [
    {
     "data": {
      "text/html": [
       "<table class=\"data-frame\"><thead><tr><th></th><th>variable</th><th>mean</th><th>min</th><th>median</th><th>max</th><th>nunique</th><th>nmissing</th><th>eltype</th></tr><tr><th></th><th>Symbol</th><th>Union…</th><th>Any</th><th>Union…</th><th>Any</th><th>Union…</th><th>Nothing</th><th>DataType</th></tr></thead><tbody><p>9 rows × 8 columns</p><tr><th>1</th><td>Day</td><td>731214.0</td><td>724670</td><td>731214.0</td><td>737759</td><td></td><td></td><td>Int64</td></tr><tr><th>2</th><td>Date</td><td></td><td>1985-01-29</td><td></td><td>2020-11-30</td><td>13090</td><td></td><td>Date</td></tr><tr><th>3</th><td>Value</td><td>-47.8137</td><td>-128.0</td><td>-49.0</td><td>127.0</td><td></td><td></td><td>Float64</td></tr><tr><th>4</th><td>Original</td><td>10328.3</td><td>1251.21</td><td>10202.9</td><td>30116.5</td><td></td><td></td><td>Float64</td></tr><tr><th>5</th><td>Avg005</td><td>-47.8133</td><td>-128.0</td><td>-49.0</td><td>126.2</td><td></td><td></td><td>Float64</td></tr><tr><th>6</th><td>Avg030</td><td>-47.8084</td><td>-128.0</td><td>-48.65</td><td>119.37</td><td></td><td></td><td>Float64</td></tr><tr><th>7</th><td>Avg090</td><td>-47.7703</td><td>-127.97</td><td>-48.135</td><td>115.23</td><td></td><td></td><td>Float64</td></tr><tr><th>8</th><td>Avg180</td><td>-47.6966</td><td>-127.66</td><td>-48.325</td><td>108.24</td><td></td><td></td><td>Float64</td></tr><tr><th>9</th><td>Avg365</td><td>-47.4453</td><td>-127.01</td><td>-48.36</td><td>100.78</td><td></td><td></td><td>Float64</td></tr></tbody></table>"
      ],
      "text/latex": [
       "\\begin{tabular}{r|cccccccc}\n",
       "\t& variable & mean & min & median & max & nunique & nmissing & eltype\\\\\n",
       "\t\\hline\n",
       "\t& Symbol & Union… & Any & Union… & Any & Union… & Nothing & DataType\\\\\n",
       "\t\\hline\n",
       "\t1 & Day & 731214.0 & 724670 & 731214.0 & 737759 &  &  & Int64 \\\\\n",
       "\t2 & Date &  & 1985-01-29 &  & 2020-11-30 & 13090 &  & Date \\\\\n",
       "\t3 & Value & -47.8137 & -128.0 & -49.0 & 127.0 &  &  & Float64 \\\\\n",
       "\t4 & Original & 10328.3 & 1251.21 & 10202.9 & 30116.5 &  &  & Float64 \\\\\n",
       "\t5 & Avg005 & -47.8133 & -128.0 & -49.0 & 126.2 &  &  & Float64 \\\\\n",
       "\t6 & Avg030 & -47.8084 & -128.0 & -48.65 & 119.37 &  &  & Float64 \\\\\n",
       "\t7 & Avg090 & -47.7703 & -127.97 & -48.135 & 115.23 &  &  & Float64 \\\\\n",
       "\t8 & Avg180 & -47.6966 & -127.66 & -48.325 & 108.24 &  &  & Float64 \\\\\n",
       "\t9 & Avg365 & -47.4453 & -127.01 & -48.36 & 100.78 &  &  & Float64 \\\\\n",
       "\\end{tabular}\n"
      ],
      "text/plain": [
       "9×8 DataFrame. Omitted printing of 2 columns\n",
       "│ Row │ variable │ mean     │ min        │ median   │ max        │ nunique │\n",
       "│     │ \u001b[90mSymbol\u001b[39m   │ \u001b[90mUnion…\u001b[39m   │ \u001b[90mAny\u001b[39m        │ \u001b[90mUnion…\u001b[39m   │ \u001b[90mAny\u001b[39m        │ \u001b[90mUnion…\u001b[39m  │\n",
       "├─────┼──────────┼──────────┼────────────┼──────────┼────────────┼─────────┤\n",
       "│ 1   │ Day      │ 731214.0 │ 724670     │ 731214.0 │ 737759     │         │\n",
       "│ 2   │ Date     │          │ 1985-01-29 │          │ 2020-11-30 │ 13090   │\n",
       "│ 3   │ Value    │ -47.8137 │ -128.0     │ -49.0    │ 127.0      │         │\n",
       "│ 4   │ Original │ 10328.3  │ 1251.21    │ 10202.9  │ 30116.5    │         │\n",
       "│ 5   │ Avg005   │ -47.8133 │ -128.0     │ -49.0    │ 126.2      │         │\n",
       "│ 6   │ Avg030   │ -47.8084 │ -128.0     │ -48.65   │ 119.37     │         │\n",
       "│ 7   │ Avg090   │ -47.7703 │ -127.97    │ -48.135  │ 115.23     │         │\n",
       "│ 8   │ Avg180   │ -47.6966 │ -127.66    │ -48.325  │ 108.24     │         │\n",
       "│ 9   │ Avg365   │ -47.4453 │ -127.01    │ -48.36   │ 100.78     │         │"
      ]
     },
     "execution_count": 12,
     "metadata": {},
     "output_type": "execute_result"
    }
   ],
   "source": [
    "insertcols!(df, 5,  :Avg005   => averages005  , makeunique=true)\n",
    "insertcols!(df, 6,  :Avg030   => averages030  , makeunique=true)\n",
    "insertcols!(df, 7,  :Avg090   => averages090  , makeunique=true)\n",
    "insertcols!(df, 8,  :Avg180   => averages180  , makeunique=true)\n",
    "insertcols!(df, 9,  :Avg365   => averages365  , makeunique=true)\n",
    "\n",
    "using Statistics\n",
    "describe(df)"
   ]
  },
  {
   "cell_type": "markdown",
   "metadata": {},
   "source": [
    "## Position on given Date\n",
    "- Indicates the date of the last major position event"
   ]
  },
  {
   "cell_type": "code",
   "execution_count": 13,
   "metadata": {
    "ExecuteTime": {
     "end_time": "2020-11-30T19:45:34.433000-05:00",
     "start_time": "2020-12-01T00:44:28.133Z"
    }
   },
   "outputs": [
    {
     "data": {
      "text/plain": [
       "3-element Array{Float64,1}:\n",
       " 109.0\n",
       " 109.0\n",
       " 109.0"
      ]
     },
     "execution_count": 13,
     "metadata": {},
     "output_type": "execute_result"
    }
   ],
   "source": [
    "position_column = position_on_date(df, last_position_change )\n",
    "position_column[1:3]"
   ]
  },
  {
   "cell_type": "markdown",
   "metadata": {},
   "source": [
    "### Position: Draw Plots"
   ]
  },
  {
   "cell_type": "code",
   "execution_count": 14,
   "metadata": {
    "ExecuteTime": {
     "end_time": "2020-11-30T19:45:34.993000-05:00",
     "start_time": "2020-12-01T00:44:28.138Z"
    }
   },
   "outputs": [
    {
     "data": {
      "image/svg+xml": [
       "<?xml version=\"1.0\" encoding=\"utf-8\"?>\n",
       "<svg xmlns=\"http://www.w3.org/2000/svg\" xmlns:xlink=\"http://www.w3.org/1999/xlink\" width=\"980\" height=\"400\" viewBox=\"0 0 3920 1600\">\n",
       "<defs>\n",
       "  <clipPath id=\"clip0000\">\n",
       "    <rect x=\"0\" y=\"0\" width=\"3920\" height=\"1600\"/>\n",
       "  </clipPath>\n",
       "</defs>\n",
       "<path clip-path=\"url(#clip0000)\" d=\"\n",
       "M0 1600 L3920 1600 L3920 0 L0 0  Z\n",
       "  \" fill=\"#ffffff\" fill-rule=\"evenodd\" fill-opacity=\"1\"/>\n",
       "<defs>\n",
       "  <clipPath id=\"clip0001\">\n",
       "    <rect x=\"784\" y=\"0\" width=\"2745\" height=\"1600\"/>\n",
       "  </clipPath>\n",
       "</defs>\n",
       "<path clip-path=\"url(#clip0000)\" d=\"\n",
       "M221.64 1455.01 L3872.76 1455.01 L3872.76 47.2441 L221.64 47.2441  Z\n",
       "  \" fill=\"#ffffff\" fill-rule=\"evenodd\" fill-opacity=\"1\"/>\n",
       "<defs>\n",
       "  <clipPath id=\"clip0002\">\n",
       "    <rect x=\"221\" y=\"47\" width=\"3652\" height=\"1409\"/>\n",
       "  </clipPath>\n",
       "</defs>\n",
       "<polyline clip-path=\"url(#clip0002)\" style=\"stroke:#000000; stroke-width:2; stroke-opacity:0.1; fill:none\" points=\"\n",
       "  324.974,1455.01 324.974,47.2441 \n",
       "  \"/>\n",
       "<polyline clip-path=\"url(#clip0002)\" style=\"stroke:#000000; stroke-width:2; stroke-opacity:0.1; fill:none\" points=\"\n",
       "  554.604,1455.01 554.604,47.2441 \n",
       "  \"/>\n",
       "<polyline clip-path=\"url(#clip0002)\" style=\"stroke:#000000; stroke-width:2; stroke-opacity:0.1; fill:none\" points=\"\n",
       "  822.505,1455.01 822.505,47.2441 \n",
       "  \"/>\n",
       "<polyline clip-path=\"url(#clip0002)\" style=\"stroke:#000000; stroke-width:2; stroke-opacity:0.1; fill:none\" points=\"\n",
       "  1052.14,1455.01 1052.14,47.2441 \n",
       "  \"/>\n",
       "<polyline clip-path=\"url(#clip0002)\" style=\"stroke:#000000; stroke-width:2; stroke-opacity:0.1; fill:none\" points=\"\n",
       "  1320.04,1455.01 1320.04,47.2441 \n",
       "  \"/>\n",
       "<polyline clip-path=\"url(#clip0002)\" style=\"stroke:#000000; stroke-width:2; stroke-opacity:0.1; fill:none\" points=\"\n",
       "  1549.67,1455.01 1549.67,47.2441 \n",
       "  \"/>\n",
       "<polyline clip-path=\"url(#clip0002)\" style=\"stroke:#000000; stroke-width:2; stroke-opacity:0.1; fill:none\" points=\"\n",
       "  1817.57,1455.01 1817.57,47.2441 \n",
       "  \"/>\n",
       "<polyline clip-path=\"url(#clip0002)\" style=\"stroke:#000000; stroke-width:2; stroke-opacity:0.1; fill:none\" points=\"\n",
       "  2047.2,1455.01 2047.2,47.2441 \n",
       "  \"/>\n",
       "<polyline clip-path=\"url(#clip0002)\" style=\"stroke:#000000; stroke-width:2; stroke-opacity:0.1; fill:none\" points=\"\n",
       "  2276.83,1455.01 2276.83,47.2441 \n",
       "  \"/>\n",
       "<polyline clip-path=\"url(#clip0002)\" style=\"stroke:#000000; stroke-width:2; stroke-opacity:0.1; fill:none\" points=\"\n",
       "  2544.73,1455.01 2544.73,47.2441 \n",
       "  \"/>\n",
       "<polyline clip-path=\"url(#clip0002)\" style=\"stroke:#000000; stroke-width:2; stroke-opacity:0.1; fill:none\" points=\"\n",
       "  2774.36,1455.01 2774.36,47.2441 \n",
       "  \"/>\n",
       "<polyline clip-path=\"url(#clip0002)\" style=\"stroke:#000000; stroke-width:2; stroke-opacity:0.1; fill:none\" points=\"\n",
       "  3042.26,1455.01 3042.26,47.2441 \n",
       "  \"/>\n",
       "<polyline clip-path=\"url(#clip0002)\" style=\"stroke:#000000; stroke-width:2; stroke-opacity:0.1; fill:none\" points=\"\n",
       "  3271.89,1455.01 3271.89,47.2441 \n",
       "  \"/>\n",
       "<polyline clip-path=\"url(#clip0002)\" style=\"stroke:#000000; stroke-width:2; stroke-opacity:0.1; fill:none\" points=\"\n",
       "  3539.79,1455.01 3539.79,47.2441 \n",
       "  \"/>\n",
       "<polyline clip-path=\"url(#clip0002)\" style=\"stroke:#000000; stroke-width:2; stroke-opacity:0.1; fill:none\" points=\"\n",
       "  3769.42,1455.01 3769.42,47.2441 \n",
       "  \"/>\n",
       "<polyline clip-path=\"url(#clip0002)\" style=\"stroke:#000000; stroke-width:2; stroke-opacity:0.1; fill:none\" points=\"\n",
       "  221.64,1241.39 3872.76,1241.39 \n",
       "  \"/>\n",
       "<polyline clip-path=\"url(#clip0002)\" style=\"stroke:#000000; stroke-width:2; stroke-opacity:0.1; fill:none\" points=\"\n",
       "  221.64,929.419 3872.76,929.419 \n",
       "  \"/>\n",
       "<polyline clip-path=\"url(#clip0002)\" style=\"stroke:#000000; stroke-width:2; stroke-opacity:0.1; fill:none\" points=\"\n",
       "  221.64,617.444 3872.76,617.444 \n",
       "  \"/>\n",
       "<polyline clip-path=\"url(#clip0002)\" style=\"stroke:#000000; stroke-width:2; stroke-opacity:0.1; fill:none\" points=\"\n",
       "  221.64,305.469 3872.76,305.469 \n",
       "  \"/>\n",
       "<polyline clip-path=\"url(#clip0000)\" style=\"stroke:#000000; stroke-width:4; stroke-opacity:1; fill:none\" points=\"\n",
       "  221.64,1455.01 3872.76,1455.01 \n",
       "  \"/>\n",
       "<polyline clip-path=\"url(#clip0000)\" style=\"stroke:#000000; stroke-width:4; stroke-opacity:1; fill:none\" points=\"\n",
       "  221.64,1455.01 221.64,47.2441 \n",
       "  \"/>\n",
       "<polyline clip-path=\"url(#clip0000)\" style=\"stroke:#000000; stroke-width:4; stroke-opacity:1; fill:none\" points=\"\n",
       "  324.974,1455.01 324.974,1438.11 \n",
       "  \"/>\n",
       "<polyline clip-path=\"url(#clip0000)\" style=\"stroke:#000000; stroke-width:4; stroke-opacity:1; fill:none\" points=\"\n",
       "  554.604,1455.01 554.604,1438.11 \n",
       "  \"/>\n",
       "<polyline clip-path=\"url(#clip0000)\" style=\"stroke:#000000; stroke-width:4; stroke-opacity:1; fill:none\" points=\"\n",
       "  822.505,1455.01 822.505,1438.11 \n",
       "  \"/>\n",
       "<polyline clip-path=\"url(#clip0000)\" style=\"stroke:#000000; stroke-width:4; stroke-opacity:1; fill:none\" points=\"\n",
       "  1052.14,1455.01 1052.14,1438.11 \n",
       "  \"/>\n",
       "<polyline clip-path=\"url(#clip0000)\" style=\"stroke:#000000; stroke-width:4; stroke-opacity:1; fill:none\" points=\"\n",
       "  1320.04,1455.01 1320.04,1438.11 \n",
       "  \"/>\n",
       "<polyline clip-path=\"url(#clip0000)\" style=\"stroke:#000000; stroke-width:4; stroke-opacity:1; fill:none\" points=\"\n",
       "  1549.67,1455.01 1549.67,1438.11 \n",
       "  \"/>\n",
       "<polyline clip-path=\"url(#clip0000)\" style=\"stroke:#000000; stroke-width:4; stroke-opacity:1; fill:none\" points=\"\n",
       "  1817.57,1455.01 1817.57,1438.11 \n",
       "  \"/>\n",
       "<polyline clip-path=\"url(#clip0000)\" style=\"stroke:#000000; stroke-width:4; stroke-opacity:1; fill:none\" points=\"\n",
       "  2047.2,1455.01 2047.2,1438.11 \n",
       "  \"/>\n",
       "<polyline clip-path=\"url(#clip0000)\" style=\"stroke:#000000; stroke-width:4; stroke-opacity:1; fill:none\" points=\"\n",
       "  2276.83,1455.01 2276.83,1438.11 \n",
       "  \"/>\n",
       "<polyline clip-path=\"url(#clip0000)\" style=\"stroke:#000000; stroke-width:4; stroke-opacity:1; fill:none\" points=\"\n",
       "  2544.73,1455.01 2544.73,1438.11 \n",
       "  \"/>\n",
       "<polyline clip-path=\"url(#clip0000)\" style=\"stroke:#000000; stroke-width:4; stroke-opacity:1; fill:none\" points=\"\n",
       "  2774.36,1455.01 2774.36,1438.11 \n",
       "  \"/>\n",
       "<polyline clip-path=\"url(#clip0000)\" style=\"stroke:#000000; stroke-width:4; stroke-opacity:1; fill:none\" points=\"\n",
       "  3042.26,1455.01 3042.26,1438.11 \n",
       "  \"/>\n",
       "<polyline clip-path=\"url(#clip0000)\" style=\"stroke:#000000; stroke-width:4; stroke-opacity:1; fill:none\" points=\"\n",
       "  3271.89,1455.01 3271.89,1438.11 \n",
       "  \"/>\n",
       "<polyline clip-path=\"url(#clip0000)\" style=\"stroke:#000000; stroke-width:4; stroke-opacity:1; fill:none\" points=\"\n",
       "  3539.79,1455.01 3539.79,1438.11 \n",
       "  \"/>\n",
       "<polyline clip-path=\"url(#clip0000)\" style=\"stroke:#000000; stroke-width:4; stroke-opacity:1; fill:none\" points=\"\n",
       "  3769.42,1455.01 3769.42,1438.11 \n",
       "  \"/>\n",
       "<polyline clip-path=\"url(#clip0000)\" style=\"stroke:#000000; stroke-width:4; stroke-opacity:1; fill:none\" points=\"\n",
       "  221.64,1241.39 265.454,1241.39 \n",
       "  \"/>\n",
       "<polyline clip-path=\"url(#clip0000)\" style=\"stroke:#000000; stroke-width:4; stroke-opacity:1; fill:none\" points=\"\n",
       "  221.64,929.419 265.454,929.419 \n",
       "  \"/>\n",
       "<polyline clip-path=\"url(#clip0000)\" style=\"stroke:#000000; stroke-width:4; stroke-opacity:1; fill:none\" points=\"\n",
       "  221.64,617.444 265.454,617.444 \n",
       "  \"/>\n",
       "<polyline clip-path=\"url(#clip0000)\" style=\"stroke:#000000; stroke-width:4; stroke-opacity:1; fill:none\" points=\"\n",
       "  221.64,305.469 265.454,305.469 \n",
       "  \"/>\n",
       "<path clip-path=\"url(#clip0000)\" d=\"M 0 0 M260.194 1515.36 L260.194 1511.1 Q261.953 1511.94 263.759 1512.38 Q265.564 1512.81 267.3 1512.81 Q271.93 1512.81 274.36 1509.71 Q276.814 1506.59 277.161 1500.25 Q275.819 1502.24 273.759 1503.3 Q271.698 1504.37 269.198 1504.37 Q264.013 1504.37 260.981 1501.24 Q257.972 1498.09 257.972 1492.65 Q257.972 1487.33 261.12 1484.11 Q264.268 1480.89 269.499 1480.89 Q275.495 1480.89 278.643 1485.5 Q281.814 1490.08 281.814 1498.83 Q281.814 1507 277.925 1511.89 Q274.06 1516.75 267.509 1516.75 Q265.749 1516.75 263.944 1516.4 Q262.138 1516.06 260.194 1515.36 M269.499 1500.71 Q272.647 1500.71 274.476 1498.56 Q276.328 1496.4 276.328 1492.65 Q276.328 1488.93 274.476 1486.77 Q272.647 1484.6 269.499 1484.6 Q266.351 1484.6 264.499 1486.77 Q262.671 1488.93 262.671 1492.65 Q262.671 1496.4 264.499 1498.56 Q266.351 1500.71 269.499 1500.71 Z\" fill=\"#000000\" fill-rule=\"evenodd\" fill-opacity=\"1\" /><path clip-path=\"url(#clip0000)\" d=\"M 0 0 M293.851 1481.52 L297.786 1481.52 L285.749 1520.48 L281.814 1520.48 L293.851 1481.52 Z\" fill=\"#000000\" fill-rule=\"evenodd\" fill-opacity=\"1\" /><path clip-path=\"url(#clip0000)\" d=\"M 0 0 M303.666 1512.14 L311.305 1512.14 L311.305 1485.78 L302.995 1487.44 L302.995 1483.19 L311.258 1481.52 L315.934 1481.52 L315.934 1512.14 L323.573 1512.14 L323.573 1516.08 L303.666 1516.08 L303.666 1512.14 Z\" fill=\"#000000\" fill-rule=\"evenodd\" fill-opacity=\"1\" /><path clip-path=\"url(#clip0000)\" d=\"M 0 0 M335.61 1481.52 L339.545 1481.52 L327.508 1520.48 L323.573 1520.48 L335.61 1481.52 Z\" fill=\"#000000\" fill-rule=\"evenodd\" fill-opacity=\"1\" /><path clip-path=\"url(#clip0000)\" d=\"M 0 0 M348.642 1512.14 L364.962 1512.14 L364.962 1516.08 L343.017 1516.08 L343.017 1512.14 Q345.679 1509.39 350.263 1504.76 Q354.869 1500.11 356.05 1498.76 Q358.295 1496.24 359.175 1494.5 Q360.078 1492.75 360.078 1491.06 Q360.078 1488.3 358.133 1486.57 Q356.212 1484.83 353.11 1484.83 Q350.911 1484.83 348.457 1485.59 Q346.027 1486.36 343.249 1487.91 L343.249 1483.19 Q346.073 1482.05 348.527 1481.47 Q350.98 1480.89 353.017 1480.89 Q358.388 1480.89 361.582 1483.58 Q364.777 1486.26 364.777 1490.75 Q364.777 1492.88 363.966 1494.81 Q363.179 1496.7 361.073 1499.3 Q360.494 1499.97 357.392 1503.19 Q354.291 1506.38 348.642 1512.14 Z\" fill=\"#000000\" fill-rule=\"evenodd\" fill-opacity=\"1\" /><path clip-path=\"url(#clip0000)\" d=\"M 0 0 M380.031 1484.6 Q376.42 1484.6 374.591 1488.16 Q372.786 1491.7 372.786 1498.83 Q372.786 1505.94 374.591 1509.5 Q376.42 1513.05 380.031 1513.05 Q383.665 1513.05 385.471 1509.5 Q387.3 1505.94 387.3 1498.83 Q387.3 1491.7 385.471 1488.16 Q383.665 1484.6 380.031 1484.6 M380.031 1480.89 Q385.841 1480.89 388.897 1485.5 Q391.976 1490.08 391.976 1498.83 Q391.976 1507.56 388.897 1512.17 Q385.841 1516.75 380.031 1516.75 Q374.221 1516.75 371.142 1512.17 Q368.087 1507.56 368.087 1498.83 Q368.087 1490.08 371.142 1485.5 Q374.221 1480.89 380.031 1480.89 Z\" fill=\"#000000\" fill-rule=\"evenodd\" fill-opacity=\"1\" /><path clip-path=\"url(#clip0000)\" d=\"M 0 0 M489.662 1515.36 L489.662 1511.1 Q491.421 1511.94 493.227 1512.38 Q495.032 1512.81 496.768 1512.81 Q501.398 1512.81 503.828 1509.71 Q506.282 1506.59 506.629 1500.25 Q505.287 1502.24 503.226 1503.3 Q501.166 1504.37 498.666 1504.37 Q493.481 1504.37 490.449 1501.24 Q487.44 1498.09 487.44 1492.65 Q487.44 1487.33 490.588 1484.11 Q493.736 1480.89 498.967 1480.89 Q504.963 1480.89 508.111 1485.5 Q511.282 1490.08 511.282 1498.83 Q511.282 1507 507.393 1511.89 Q503.527 1516.75 496.977 1516.75 Q495.217 1516.75 493.412 1516.4 Q491.606 1516.06 489.662 1515.36 M498.967 1500.71 Q502.115 1500.71 503.944 1498.56 Q505.796 1496.4 505.796 1492.65 Q505.796 1488.93 503.944 1486.77 Q502.115 1484.6 498.967 1484.6 Q495.819 1484.6 493.967 1486.77 Q492.139 1488.93 492.139 1492.65 Q492.139 1496.4 493.967 1498.56 Q495.819 1500.71 498.967 1500.71 Z\" fill=\"#000000\" fill-rule=\"evenodd\" fill-opacity=\"1\" /><path clip-path=\"url(#clip0000)\" d=\"M 0 0 M523.319 1481.52 L527.254 1481.52 L515.217 1520.48 L511.282 1520.48 L523.319 1481.52 Z\" fill=\"#000000\" fill-rule=\"evenodd\" fill-opacity=\"1\" /><path clip-path=\"url(#clip0000)\" d=\"M 0 0 M531.143 1481.52 L553.365 1481.52 L553.365 1483.51 L540.819 1516.08 L535.935 1516.08 L547.74 1485.45 L531.143 1485.45 L531.143 1481.52 Z\" fill=\"#000000\" fill-rule=\"evenodd\" fill-opacity=\"1\" /><path clip-path=\"url(#clip0000)\" d=\"M 0 0 M565.402 1481.52 L569.337 1481.52 L557.3 1520.48 L553.365 1520.48 L565.402 1481.52 Z\" fill=\"#000000\" fill-rule=\"evenodd\" fill-opacity=\"1\" /><path clip-path=\"url(#clip0000)\" d=\"M 0 0 M578.434 1512.14 L594.754 1512.14 L594.754 1516.08 L572.809 1516.08 L572.809 1512.14 Q575.471 1509.39 580.055 1504.76 Q584.661 1500.11 585.842 1498.76 Q588.087 1496.24 588.967 1494.5 Q589.87 1492.75 589.87 1491.06 Q589.87 1488.3 587.925 1486.57 Q586.004 1484.83 582.902 1484.83 Q580.703 1484.83 578.249 1485.59 Q575.819 1486.36 573.041 1487.91 L573.041 1483.19 Q575.865 1482.05 578.319 1481.47 Q580.772 1480.89 582.809 1480.89 Q588.18 1480.89 591.374 1483.58 Q594.569 1486.26 594.569 1490.75 Q594.569 1492.88 593.758 1494.81 Q592.971 1496.7 590.865 1499.3 Q590.286 1499.97 587.184 1503.19 Q584.083 1506.38 578.434 1512.14 Z\" fill=\"#000000\" fill-rule=\"evenodd\" fill-opacity=\"1\" /><path clip-path=\"url(#clip0000)\" d=\"M 0 0 M609.823 1484.6 Q606.212 1484.6 604.383 1488.16 Q602.578 1491.7 602.578 1498.83 Q602.578 1505.94 604.383 1509.5 Q606.212 1513.05 609.823 1513.05 Q613.457 1513.05 615.263 1509.5 Q617.092 1505.94 617.092 1498.83 Q617.092 1491.7 615.263 1488.16 Q613.457 1484.6 609.823 1484.6 M609.823 1480.89 Q615.633 1480.89 618.689 1485.5 Q621.767 1490.08 621.767 1498.83 Q621.767 1507.56 618.689 1512.17 Q615.633 1516.75 609.823 1516.75 Q604.013 1516.75 600.934 1512.17 Q597.879 1507.56 597.879 1498.83 Q597.879 1490.08 600.934 1485.5 Q604.013 1480.89 609.823 1480.89 Z\" fill=\"#000000\" fill-rule=\"evenodd\" fill-opacity=\"1\" /><path clip-path=\"url(#clip0000)\" d=\"M 0 0 M743.975 1515.36 L743.975 1511.1 Q745.735 1511.94 747.54 1512.38 Q749.346 1512.81 751.082 1512.81 Q755.711 1512.81 758.142 1509.71 Q760.596 1506.59 760.943 1500.25 Q759.6 1502.24 757.54 1503.3 Q755.48 1504.37 752.98 1504.37 Q747.795 1504.37 744.762 1501.24 Q741.753 1498.09 741.753 1492.65 Q741.753 1487.33 744.901 1484.11 Q748.049 1480.89 753.281 1480.89 Q759.276 1480.89 762.424 1485.5 Q765.596 1490.08 765.596 1498.83 Q765.596 1507 761.707 1511.89 Q757.841 1516.75 751.29 1516.75 Q749.531 1516.75 747.725 1516.4 Q745.92 1516.06 743.975 1515.36 M753.281 1500.71 Q756.429 1500.71 758.258 1498.56 Q760.11 1496.4 760.11 1492.65 Q760.11 1488.93 758.258 1486.77 Q756.429 1484.6 753.281 1484.6 Q750.133 1484.6 748.281 1486.77 Q746.452 1488.93 746.452 1492.65 Q746.452 1496.4 748.281 1498.56 Q750.133 1500.71 753.281 1500.71 Z\" fill=\"#000000\" fill-rule=\"evenodd\" fill-opacity=\"1\" /><path clip-path=\"url(#clip0000)\" d=\"M 0 0 M777.633 1481.52 L781.568 1481.52 L769.531 1520.48 L765.596 1520.48 L777.633 1481.52 Z\" fill=\"#000000\" fill-rule=\"evenodd\" fill-opacity=\"1\" /><path clip-path=\"url(#clip0000)\" d=\"M 0 0 M787.447 1512.14 L795.086 1512.14 L795.086 1485.78 L786.776 1487.44 L786.776 1483.19 L795.04 1481.52 L799.716 1481.52 L799.716 1512.14 L807.355 1512.14 L807.355 1516.08 L787.447 1516.08 L787.447 1512.14 Z\" fill=\"#000000\" fill-rule=\"evenodd\" fill-opacity=\"1\" /><path clip-path=\"url(#clip0000)\" d=\"M 0 0 M825.271 1485.59 L813.466 1504.04 L825.271 1504.04 L825.271 1485.59 M824.044 1481.52 L829.924 1481.52 L829.924 1504.04 L834.855 1504.04 L834.855 1507.93 L829.924 1507.93 L829.924 1516.08 L825.271 1516.08 L825.271 1507.93 L809.67 1507.93 L809.67 1503.42 L824.044 1481.52 Z\" fill=\"#000000\" fill-rule=\"evenodd\" fill-opacity=\"1\" /><path clip-path=\"url(#clip0000)\" d=\"M 0 0 M846.892 1481.52 L850.827 1481.52 L838.79 1520.48 L834.855 1520.48 L846.892 1481.52 Z\" fill=\"#000000\" fill-rule=\"evenodd\" fill-opacity=\"1\" /><path clip-path=\"url(#clip0000)\" d=\"M 0 0 M859.924 1512.14 L876.243 1512.14 L876.243 1516.08 L854.299 1516.08 L854.299 1512.14 Q856.961 1509.39 861.544 1504.76 Q866.151 1500.11 867.331 1498.76 Q869.577 1496.24 870.456 1494.5 Q871.359 1492.75 871.359 1491.06 Q871.359 1488.3 869.415 1486.57 Q867.493 1484.83 864.391 1484.83 Q862.192 1484.83 859.739 1485.59 Q857.308 1486.36 854.53 1487.91 L854.53 1483.19 Q857.354 1482.05 859.808 1481.47 Q862.262 1480.89 864.299 1480.89 Q869.669 1480.89 872.864 1483.58 Q876.058 1486.26 876.058 1490.75 Q876.058 1492.88 875.248 1494.81 Q874.461 1496.7 872.354 1499.3 Q871.776 1499.97 868.674 1503.19 Q865.572 1506.38 859.924 1512.14 Z\" fill=\"#000000\" fill-rule=\"evenodd\" fill-opacity=\"1\" /><path clip-path=\"url(#clip0000)\" d=\"M 0 0 M891.313 1484.6 Q887.701 1484.6 885.873 1488.16 Q884.067 1491.7 884.067 1498.83 Q884.067 1505.94 885.873 1509.5 Q887.701 1513.05 891.313 1513.05 Q894.947 1513.05 896.752 1509.5 Q898.581 1505.94 898.581 1498.83 Q898.581 1491.7 896.752 1488.16 Q894.947 1484.6 891.313 1484.6 M891.313 1480.89 Q897.123 1480.89 900.178 1485.5 Q903.257 1490.08 903.257 1498.83 Q903.257 1507.56 900.178 1512.17 Q897.123 1516.75 891.313 1516.75 Q885.502 1516.75 882.424 1512.17 Q879.368 1507.56 879.368 1498.83 Q879.368 1490.08 882.424 1485.5 Q885.502 1480.89 891.313 1480.89 Z\" fill=\"#000000\" fill-rule=\"evenodd\" fill-opacity=\"1\" /><path clip-path=\"url(#clip0000)\" d=\"M 0 0 M974.034 1515.36 L974.034 1511.1 Q975.793 1511.94 977.598 1512.38 Q979.404 1512.81 981.14 1512.81 Q985.77 1512.81 988.2 1509.71 Q990.654 1506.59 991.001 1500.25 Q989.658 1502.24 987.598 1503.3 Q985.538 1504.37 983.038 1504.37 Q977.853 1504.37 974.821 1501.24 Q971.811 1498.09 971.811 1492.65 Q971.811 1487.33 974.959 1484.11 Q978.108 1480.89 983.339 1480.89 Q989.334 1480.89 992.483 1485.5 Q995.654 1490.08 995.654 1498.83 Q995.654 1507 991.765 1511.89 Q987.899 1516.75 981.348 1516.75 Q979.589 1516.75 977.784 1516.4 Q975.978 1516.06 974.034 1515.36 M983.339 1500.71 Q986.487 1500.71 988.316 1498.56 Q990.168 1496.4 990.168 1492.65 Q990.168 1488.93 988.316 1486.77 Q986.487 1484.6 983.339 1484.6 Q980.191 1484.6 978.339 1486.77 Q976.51 1488.93 976.51 1492.65 Q976.51 1496.4 978.339 1498.56 Q980.191 1500.71 983.339 1500.71 Z\" fill=\"#000000\" fill-rule=\"evenodd\" fill-opacity=\"1\" /><path clip-path=\"url(#clip0000)\" d=\"M 0 0 M1007.69 1481.52 L1011.63 1481.52 L999.589 1520.48 L995.654 1520.48 L1007.69 1481.52 Z\" fill=\"#000000\" fill-rule=\"evenodd\" fill-opacity=\"1\" /><path clip-path=\"url(#clip0000)\" d=\"M 0 0 M1020.72 1512.14 L1037.04 1512.14 L1037.04 1516.08 L1015.1 1516.08 L1015.1 1512.14 Q1017.76 1509.39 1022.34 1504.76 Q1026.95 1500.11 1028.13 1498.76 Q1030.38 1496.24 1031.26 1494.5 Q1032.16 1492.75 1032.16 1491.06 Q1032.16 1488.3 1030.21 1486.57 Q1028.29 1484.83 1025.19 1484.83 Q1022.99 1484.83 1020.54 1485.59 Q1018.11 1486.36 1015.33 1487.91 L1015.33 1483.19 Q1018.15 1482.05 1020.61 1481.47 Q1023.06 1480.89 1025.1 1480.89 Q1030.47 1480.89 1033.66 1483.58 Q1036.86 1486.26 1036.86 1490.75 Q1036.86 1492.88 1036.05 1494.81 Q1035.26 1496.7 1033.15 1499.3 Q1032.57 1499.97 1029.47 1503.19 Q1026.37 1506.38 1020.72 1512.14 Z\" fill=\"#000000\" fill-rule=\"evenodd\" fill-opacity=\"1\" /><path clip-path=\"url(#clip0000)\" d=\"M 0 0 M1052.11 1484.6 Q1048.5 1484.6 1046.67 1488.16 Q1044.87 1491.7 1044.87 1498.83 Q1044.87 1505.94 1046.67 1509.5 Q1048.5 1513.05 1052.11 1513.05 Q1055.75 1513.05 1057.55 1509.5 Q1059.38 1505.94 1059.38 1498.83 Q1059.38 1491.7 1057.55 1488.16 Q1055.75 1484.6 1052.11 1484.6 M1052.11 1480.89 Q1057.92 1480.89 1060.98 1485.5 Q1064.06 1490.08 1064.06 1498.83 Q1064.06 1507.56 1060.98 1512.17 Q1057.92 1516.75 1052.11 1516.75 Q1046.3 1516.75 1043.22 1512.17 Q1040.17 1507.56 1040.17 1498.83 Q1040.17 1490.08 1043.22 1485.5 Q1046.3 1480.89 1052.11 1480.89 Z\" fill=\"#000000\" fill-rule=\"evenodd\" fill-opacity=\"1\" /><path clip-path=\"url(#clip0000)\" d=\"M 0 0 M1076.09 1481.52 L1080.03 1481.52 L1067.99 1520.48 L1064.06 1520.48 L1076.09 1481.52 Z\" fill=\"#000000\" fill-rule=\"evenodd\" fill-opacity=\"1\" /><path clip-path=\"url(#clip0000)\" d=\"M 0 0 M1089.13 1512.14 L1105.44 1512.14 L1105.44 1516.08 L1083.5 1516.08 L1083.5 1512.14 Q1086.16 1509.39 1090.75 1504.76 Q1095.35 1500.11 1096.53 1498.76 Q1098.78 1496.24 1099.66 1494.5 Q1100.56 1492.75 1100.56 1491.06 Q1100.56 1488.3 1098.62 1486.57 Q1096.69 1484.83 1093.59 1484.83 Q1091.39 1484.83 1088.94 1485.59 Q1086.51 1486.36 1083.73 1487.91 L1083.73 1483.19 Q1086.56 1482.05 1089.01 1481.47 Q1091.46 1480.89 1093.5 1480.89 Q1098.87 1480.89 1102.07 1483.58 Q1105.26 1486.26 1105.26 1490.75 Q1105.26 1492.88 1104.45 1494.81 Q1103.66 1496.7 1101.56 1499.3 Q1100.98 1499.97 1097.88 1503.19 Q1094.77 1506.38 1089.13 1512.14 Z\" fill=\"#000000\" fill-rule=\"evenodd\" fill-opacity=\"1\" /><path clip-path=\"url(#clip0000)\" d=\"M 0 0 M1120.51 1484.6 Q1116.9 1484.6 1115.07 1488.16 Q1113.27 1491.7 1113.27 1498.83 Q1113.27 1505.94 1115.07 1509.5 Q1116.9 1513.05 1120.51 1513.05 Q1124.15 1513.05 1125.95 1509.5 Q1127.78 1505.94 1127.78 1498.83 Q1127.78 1491.7 1125.95 1488.16 Q1124.15 1484.6 1120.51 1484.6 M1120.51 1480.89 Q1126.32 1480.89 1129.38 1485.5 Q1132.46 1490.08 1132.46 1498.83 Q1132.46 1507.56 1129.38 1512.17 Q1126.32 1516.75 1120.51 1516.75 Q1114.7 1516.75 1111.63 1512.17 Q1108.57 1507.56 1108.57 1498.83 Q1108.57 1490.08 1111.63 1485.5 Q1114.7 1480.89 1120.51 1480.89 Z\" fill=\"#000000\" fill-rule=\"evenodd\" fill-opacity=\"1\" /><path clip-path=\"url(#clip0000)\" d=\"M 0 0 M1242.39 1515.36 L1242.39 1511.1 Q1244.15 1511.94 1245.95 1512.38 Q1247.76 1512.81 1249.49 1512.81 Q1254.12 1512.81 1256.55 1509.71 Q1259.01 1506.59 1259.35 1500.25 Q1258.01 1502.24 1255.95 1503.3 Q1253.89 1504.37 1251.39 1504.37 Q1246.21 1504.37 1243.17 1501.24 Q1240.16 1498.09 1240.16 1492.65 Q1240.16 1487.33 1243.31 1484.11 Q1246.46 1480.89 1251.69 1480.89 Q1257.69 1480.89 1260.84 1485.5 Q1264.01 1490.08 1264.01 1498.83 Q1264.01 1507 1260.12 1511.89 Q1256.25 1516.75 1249.7 1516.75 Q1247.94 1516.75 1246.14 1516.4 Q1244.33 1516.06 1242.39 1515.36 M1251.69 1500.71 Q1254.84 1500.71 1256.67 1498.56 Q1258.52 1496.4 1258.52 1492.65 Q1258.52 1488.93 1256.67 1486.77 Q1254.84 1484.6 1251.69 1484.6 Q1248.54 1484.6 1246.69 1486.77 Q1244.86 1488.93 1244.86 1492.65 Q1244.86 1496.4 1246.69 1498.56 Q1248.54 1500.71 1251.69 1500.71 Z\" fill=\"#000000\" fill-rule=\"evenodd\" fill-opacity=\"1\" /><path clip-path=\"url(#clip0000)\" d=\"M 0 0 M1276.04 1481.52 L1279.98 1481.52 L1267.94 1520.48 L1264.01 1520.48 L1276.04 1481.52 Z\" fill=\"#000000\" fill-rule=\"evenodd\" fill-opacity=\"1\" /><path clip-path=\"url(#clip0000)\" d=\"M 0 0 M1289.08 1512.14 L1305.4 1512.14 L1305.4 1516.08 L1283.45 1516.08 L1283.45 1512.14 Q1286.11 1509.39 1290.7 1504.76 Q1295.3 1500.11 1296.48 1498.76 Q1298.73 1496.24 1299.61 1494.5 Q1300.51 1492.75 1300.51 1491.06 Q1300.51 1488.3 1298.57 1486.57 Q1296.65 1484.83 1293.54 1484.83 Q1291.34 1484.83 1288.89 1485.59 Q1286.46 1486.36 1283.68 1487.91 L1283.68 1483.19 Q1286.51 1482.05 1288.96 1481.47 Q1291.41 1480.89 1293.45 1480.89 Q1298.82 1480.89 1302.02 1483.58 Q1305.21 1486.26 1305.21 1490.75 Q1305.21 1492.88 1304.4 1494.81 Q1303.61 1496.7 1301.51 1499.3 Q1300.93 1499.97 1297.83 1503.19 Q1294.72 1506.38 1289.08 1512.14 Z\" fill=\"#000000\" fill-rule=\"evenodd\" fill-opacity=\"1\" /><path clip-path=\"url(#clip0000)\" d=\"M 0 0 M1309.28 1481.52 L1331.51 1481.52 L1331.51 1483.51 L1318.96 1516.08 L1314.08 1516.08 L1325.88 1485.45 L1309.28 1485.45 L1309.28 1481.52 Z\" fill=\"#000000\" fill-rule=\"evenodd\" fill-opacity=\"1\" /><path clip-path=\"url(#clip0000)\" d=\"M 0 0 M1343.54 1481.52 L1347.48 1481.52 L1335.44 1520.48 L1331.51 1520.48 L1343.54 1481.52 Z\" fill=\"#000000\" fill-rule=\"evenodd\" fill-opacity=\"1\" /><path clip-path=\"url(#clip0000)\" d=\"M 0 0 M1356.58 1512.14 L1372.9 1512.14 L1372.9 1516.08 L1350.95 1516.08 L1350.95 1512.14 Q1353.61 1509.39 1358.2 1504.76 Q1362.8 1500.11 1363.98 1498.76 Q1366.23 1496.24 1367.11 1494.5 Q1368.01 1492.75 1368.01 1491.06 Q1368.01 1488.3 1366.07 1486.57 Q1364.15 1484.83 1361.04 1484.83 Q1358.84 1484.83 1356.39 1485.59 Q1353.96 1486.36 1351.18 1487.91 L1351.18 1483.19 Q1354.01 1482.05 1356.46 1481.47 Q1358.91 1480.89 1360.95 1480.89 Q1366.32 1480.89 1369.52 1483.58 Q1372.71 1486.26 1372.71 1490.75 Q1372.71 1492.88 1371.9 1494.81 Q1371.11 1496.7 1369.01 1499.3 Q1368.43 1499.97 1365.33 1503.19 Q1362.22 1506.38 1356.58 1512.14 Z\" fill=\"#000000\" fill-rule=\"evenodd\" fill-opacity=\"1\" /><path clip-path=\"url(#clip0000)\" d=\"M 0 0 M1387.96 1484.6 Q1384.35 1484.6 1382.52 1488.16 Q1380.72 1491.7 1380.72 1498.83 Q1380.72 1505.94 1382.52 1509.5 Q1384.35 1513.05 1387.96 1513.05 Q1391.6 1513.05 1393.4 1509.5 Q1395.23 1505.94 1395.23 1498.83 Q1395.23 1491.7 1393.4 1488.16 Q1391.6 1484.6 1387.96 1484.6 M1387.96 1480.89 Q1393.77 1480.89 1396.83 1485.5 Q1399.91 1490.08 1399.91 1498.83 Q1399.91 1507.56 1396.83 1512.17 Q1393.77 1516.75 1387.96 1516.75 Q1382.15 1516.75 1379.08 1512.17 Q1376.02 1507.56 1376.02 1498.83 Q1376.02 1490.08 1379.08 1485.5 Q1382.15 1480.89 1387.96 1480.89 Z\" fill=\"#000000\" fill-rule=\"evenodd\" fill-opacity=\"1\" /><path clip-path=\"url(#clip0000)\" d=\"M 0 0 M1471.17 1512.14 L1478.81 1512.14 L1478.81 1485.78 L1470.5 1487.44 L1470.5 1483.19 L1478.76 1481.52 L1483.44 1481.52 L1483.44 1512.14 L1491.08 1512.14 L1491.08 1516.08 L1471.17 1516.08 L1471.17 1512.14 Z\" fill=\"#000000\" fill-rule=\"evenodd\" fill-opacity=\"1\" /><path clip-path=\"url(#clip0000)\" d=\"M 0 0 M1506.15 1484.6 Q1502.54 1484.6 1500.71 1488.16 Q1498.9 1491.7 1498.9 1498.83 Q1498.9 1505.94 1500.71 1509.5 Q1502.54 1513.05 1506.15 1513.05 Q1509.78 1513.05 1511.59 1509.5 Q1513.42 1505.94 1513.42 1498.83 Q1513.42 1491.7 1511.59 1488.16 Q1509.78 1484.6 1506.15 1484.6 M1506.15 1480.89 Q1511.96 1480.89 1515.01 1485.5 Q1518.09 1490.08 1518.09 1498.83 Q1518.09 1507.56 1515.01 1512.17 Q1511.96 1516.75 1506.15 1516.75 Q1500.34 1516.75 1497.26 1512.17 Q1494.2 1507.56 1494.2 1498.83 Q1494.2 1490.08 1497.26 1485.5 Q1500.34 1480.89 1506.15 1480.89 Z\" fill=\"#000000\" fill-rule=\"evenodd\" fill-opacity=\"1\" /><path clip-path=\"url(#clip0000)\" d=\"M 0 0 M1530.13 1481.52 L1534.06 1481.52 L1522.03 1520.48 L1518.09 1520.48 L1530.13 1481.52 Z\" fill=\"#000000\" fill-rule=\"evenodd\" fill-opacity=\"1\" /><path clip-path=\"url(#clip0000)\" d=\"M 0 0 M1553.3 1497.44 Q1556.66 1498.16 1558.53 1500.43 Q1560.43 1502.7 1560.43 1506.03 Q1560.43 1511.15 1556.91 1513.95 Q1553.39 1516.75 1546.91 1516.75 Q1544.74 1516.75 1542.42 1516.31 Q1540.13 1515.89 1537.68 1515.04 L1537.68 1510.52 Q1539.62 1511.66 1541.94 1512.24 Q1544.25 1512.81 1546.77 1512.81 Q1551.17 1512.81 1553.46 1511.08 Q1555.78 1509.34 1555.78 1506.03 Q1555.78 1502.98 1553.62 1501.26 Q1551.5 1499.53 1547.68 1499.53 L1543.65 1499.53 L1543.65 1495.69 L1547.86 1495.69 Q1551.31 1495.69 1553.14 1494.32 Q1554.97 1492.93 1554.97 1490.34 Q1554.97 1487.68 1553.07 1486.26 Q1551.19 1484.83 1547.68 1484.83 Q1545.75 1484.83 1543.56 1485.25 Q1541.36 1485.66 1538.72 1486.54 L1538.72 1482.38 Q1541.38 1481.63 1543.69 1481.26 Q1546.03 1480.89 1548.09 1480.89 Q1553.42 1480.89 1556.52 1483.32 Q1559.62 1485.73 1559.62 1489.85 Q1559.62 1492.72 1557.98 1494.71 Q1556.33 1496.68 1553.3 1497.44 Z\" fill=\"#000000\" fill-rule=\"evenodd\" fill-opacity=\"1\" /><path clip-path=\"url(#clip0000)\" d=\"M 0 0 M1572.47 1481.52 L1576.4 1481.52 L1564.37 1520.48 L1560.43 1520.48 L1572.47 1481.52 Z\" fill=\"#000000\" fill-rule=\"evenodd\" fill-opacity=\"1\" /><path clip-path=\"url(#clip0000)\" d=\"M 0 0 M1585.5 1512.14 L1601.82 1512.14 L1601.82 1516.08 L1579.87 1516.08 L1579.87 1512.14 Q1582.54 1509.39 1587.12 1504.76 Q1591.73 1500.11 1592.91 1498.76 Q1595.15 1496.24 1596.03 1494.5 Q1596.93 1492.75 1596.93 1491.06 Q1596.93 1488.3 1594.99 1486.57 Q1593.07 1484.83 1589.97 1484.83 Q1587.77 1484.83 1585.31 1485.59 Q1582.88 1486.36 1580.11 1487.91 L1580.11 1483.19 Q1582.93 1482.05 1585.38 1481.47 Q1587.84 1480.89 1589.87 1480.89 Q1595.24 1480.89 1598.44 1483.58 Q1601.63 1486.26 1601.63 1490.75 Q1601.63 1492.88 1600.82 1494.81 Q1600.04 1496.7 1597.93 1499.3 Q1597.35 1499.97 1594.25 1503.19 Q1591.15 1506.38 1585.5 1512.14 Z\" fill=\"#000000\" fill-rule=\"evenodd\" fill-opacity=\"1\" /><path clip-path=\"url(#clip0000)\" d=\"M 0 0 M1616.89 1484.6 Q1613.28 1484.6 1611.45 1488.16 Q1609.64 1491.7 1609.64 1498.83 Q1609.64 1505.94 1611.45 1509.5 Q1613.28 1513.05 1616.89 1513.05 Q1620.52 1513.05 1622.33 1509.5 Q1624.16 1505.94 1624.16 1498.83 Q1624.16 1491.7 1622.33 1488.16 Q1620.52 1484.6 1616.89 1484.6 M1616.89 1480.89 Q1622.7 1480.89 1625.75 1485.5 Q1628.83 1490.08 1628.83 1498.83 Q1628.83 1507.56 1625.75 1512.17 Q1622.7 1516.75 1616.89 1516.75 Q1611.08 1516.75 1608 1512.17 Q1604.94 1507.56 1604.94 1498.83 Q1604.94 1490.08 1608 1485.5 Q1611.08 1480.89 1616.89 1480.89 Z\" fill=\"#000000\" fill-rule=\"evenodd\" fill-opacity=\"1\" /><path clip-path=\"url(#clip0000)\" d=\"M 0 0 M1725.86 1512.14 L1733.49 1512.14 L1733.49 1485.78 L1725.18 1487.44 L1725.18 1483.19 L1733.45 1481.52 L1738.12 1481.52 L1738.12 1512.14 L1745.76 1512.14 L1745.76 1516.08 L1725.86 1516.08 L1725.86 1512.14 Z\" fill=\"#000000\" fill-rule=\"evenodd\" fill-opacity=\"1\" /><path clip-path=\"url(#clip0000)\" d=\"M 0 0 M1760.83 1484.6 Q1757.22 1484.6 1755.39 1488.16 Q1753.59 1491.7 1753.59 1498.83 Q1753.59 1505.94 1755.39 1509.5 Q1757.22 1513.05 1760.83 1513.05 Q1764.47 1513.05 1766.27 1509.5 Q1768.1 1505.94 1768.1 1498.83 Q1768.1 1491.7 1766.27 1488.16 Q1764.47 1484.6 1760.83 1484.6 M1760.83 1480.89 Q1766.64 1480.89 1769.7 1485.5 Q1772.78 1490.08 1772.78 1498.83 Q1772.78 1507.56 1769.7 1512.17 Q1766.64 1516.75 1760.83 1516.75 Q1755.02 1516.75 1751.94 1512.17 Q1748.89 1507.56 1748.89 1498.83 Q1748.89 1490.08 1751.94 1485.5 Q1755.02 1480.89 1760.83 1480.89 Z\" fill=\"#000000\" fill-rule=\"evenodd\" fill-opacity=\"1\" /><path clip-path=\"url(#clip0000)\" d=\"M 0 0 M1784.81 1481.52 L1788.75 1481.52 L1776.71 1520.48 L1772.78 1520.48 L1784.81 1481.52 Z\" fill=\"#000000\" fill-rule=\"evenodd\" fill-opacity=\"1\" /><path clip-path=\"url(#clip0000)\" d=\"M 0 0 M1794.63 1512.14 L1802.27 1512.14 L1802.27 1485.78 L1793.96 1487.44 L1793.96 1483.19 L1802.22 1481.52 L1806.9 1481.52 L1806.9 1512.14 L1814.54 1512.14 L1814.54 1516.08 L1794.63 1516.08 L1794.63 1512.14 Z\" fill=\"#000000\" fill-rule=\"evenodd\" fill-opacity=\"1\" /><path clip-path=\"url(#clip0000)\" d=\"M 0 0 M1829.61 1484.6 Q1825.99 1484.6 1824.17 1488.16 Q1822.36 1491.7 1822.36 1498.83 Q1822.36 1505.94 1824.17 1509.5 Q1825.99 1513.05 1829.61 1513.05 Q1833.24 1513.05 1835.04 1509.5 Q1836.87 1505.94 1836.87 1498.83 Q1836.87 1491.7 1835.04 1488.16 Q1833.24 1484.6 1829.61 1484.6 M1829.61 1480.89 Q1835.42 1480.89 1838.47 1485.5 Q1841.55 1490.08 1841.55 1498.83 Q1841.55 1507.56 1838.47 1512.17 Q1835.42 1516.75 1829.61 1516.75 Q1823.79 1516.75 1820.72 1512.17 Q1817.66 1507.56 1817.66 1498.83 Q1817.66 1490.08 1820.72 1485.5 Q1823.79 1480.89 1829.61 1480.89 Z\" fill=\"#000000\" fill-rule=\"evenodd\" fill-opacity=\"1\" /><path clip-path=\"url(#clip0000)\" d=\"M 0 0 M1853.59 1481.52 L1857.52 1481.52 L1845.48 1520.48 L1841.55 1520.48 L1853.59 1481.52 Z\" fill=\"#000000\" fill-rule=\"evenodd\" fill-opacity=\"1\" /><path clip-path=\"url(#clip0000)\" d=\"M 0 0 M1866.62 1512.14 L1882.94 1512.14 L1882.94 1516.08 L1860.99 1516.08 L1860.99 1512.14 Q1863.66 1509.39 1868.24 1504.76 Q1872.85 1500.11 1874.03 1498.76 Q1876.27 1496.24 1877.15 1494.5 Q1878.05 1492.75 1878.05 1491.06 Q1878.05 1488.3 1876.11 1486.57 Q1874.19 1484.83 1871.09 1484.83 Q1868.89 1484.83 1866.43 1485.59 Q1864 1486.36 1861.23 1487.91 L1861.23 1483.19 Q1864.05 1482.05 1866.5 1481.47 Q1868.96 1480.89 1870.99 1480.89 Q1876.36 1480.89 1879.56 1483.58 Q1882.75 1486.26 1882.75 1490.75 Q1882.75 1492.88 1881.94 1494.81 Q1881.16 1496.7 1879.05 1499.3 Q1878.47 1499.97 1875.37 1503.19 Q1872.27 1506.38 1866.62 1512.14 Z\" fill=\"#000000\" fill-rule=\"evenodd\" fill-opacity=\"1\" /><path clip-path=\"url(#clip0000)\" d=\"M 0 0 M1898.01 1484.6 Q1894.4 1484.6 1892.57 1488.16 Q1890.76 1491.7 1890.76 1498.83 Q1890.76 1505.94 1892.57 1509.5 Q1894.4 1513.05 1898.01 1513.05 Q1901.64 1513.05 1903.45 1509.5 Q1905.28 1505.94 1905.28 1498.83 Q1905.28 1491.7 1903.45 1488.16 Q1901.64 1484.6 1898.01 1484.6 M1898.01 1480.89 Q1903.82 1480.89 1906.87 1485.5 Q1909.95 1490.08 1909.95 1498.83 Q1909.95 1507.56 1906.87 1512.17 Q1903.82 1516.75 1898.01 1516.75 Q1892.2 1516.75 1889.12 1512.17 Q1886.06 1507.56 1886.06 1498.83 Q1886.06 1490.08 1889.12 1485.5 Q1892.2 1480.89 1898.01 1480.89 Z\" fill=\"#000000\" fill-rule=\"evenodd\" fill-opacity=\"1\" /><path clip-path=\"url(#clip0000)\" d=\"M 0 0 M1955.4 1512.14 L1963.04 1512.14 L1963.04 1485.78 L1954.73 1487.44 L1954.73 1483.19 L1963 1481.52 L1967.67 1481.52 L1967.67 1512.14 L1975.31 1512.14 L1975.31 1516.08 L1955.4 1516.08 L1955.4 1512.14 Z\" fill=\"#000000\" fill-rule=\"evenodd\" fill-opacity=\"1\" /><path clip-path=\"url(#clip0000)\" d=\"M 0 0 M1990.38 1484.6 Q1986.77 1484.6 1984.94 1488.16 Q1983.14 1491.7 1983.14 1498.83 Q1983.14 1505.94 1984.94 1509.5 Q1986.77 1513.05 1990.38 1513.05 Q1994.02 1513.05 1995.82 1509.5 Q1997.65 1505.94 1997.65 1498.83 Q1997.65 1491.7 1995.82 1488.16 Q1994.02 1484.6 1990.38 1484.6 M1990.38 1480.89 Q1996.19 1480.89 1999.25 1485.5 Q2002.33 1490.08 2002.33 1498.83 Q2002.33 1507.56 1999.25 1512.17 Q1996.19 1516.75 1990.38 1516.75 Q1984.57 1516.75 1981.49 1512.17 Q1978.44 1507.56 1978.44 1498.83 Q1978.44 1490.08 1981.49 1485.5 Q1984.57 1480.89 1990.38 1480.89 Z\" fill=\"#000000\" fill-rule=\"evenodd\" fill-opacity=\"1\" /><path clip-path=\"url(#clip0000)\" d=\"M 0 0 M2014.36 1481.52 L2018.3 1481.52 L2006.26 1520.48 L2002.33 1520.48 L2014.36 1481.52 Z\" fill=\"#000000\" fill-rule=\"evenodd\" fill-opacity=\"1\" /><path clip-path=\"url(#clip0000)\" d=\"M 0 0 M2024.18 1512.14 L2031.82 1512.14 L2031.82 1485.78 L2023.51 1487.44 L2023.51 1483.19 L2031.77 1481.52 L2036.45 1481.52 L2036.45 1512.14 L2044.08 1512.14 L2044.08 1516.08 L2024.18 1516.08 L2024.18 1512.14 Z\" fill=\"#000000\" fill-rule=\"evenodd\" fill-opacity=\"1\" /><path clip-path=\"url(#clip0000)\" d=\"M 0 0 M2059.73 1496.94 Q2056.58 1496.94 2054.73 1499.09 Q2052.9 1501.24 2052.9 1504.99 Q2052.9 1508.72 2054.73 1510.89 Q2056.58 1513.05 2059.73 1513.05 Q2062.88 1513.05 2064.71 1510.89 Q2066.56 1508.72 2066.56 1504.99 Q2066.56 1501.24 2064.71 1499.09 Q2062.88 1496.94 2059.73 1496.94 M2069.02 1482.28 L2069.02 1486.54 Q2067.26 1485.71 2065.45 1485.27 Q2063.67 1484.83 2061.91 1484.83 Q2057.28 1484.83 2054.83 1487.95 Q2052.39 1491.08 2052.05 1497.4 Q2053.41 1495.38 2055.47 1494.32 Q2057.53 1493.23 2060.01 1493.23 Q2065.22 1493.23 2068.23 1496.4 Q2071.26 1499.55 2071.26 1504.99 Q2071.26 1510.31 2068.11 1513.53 Q2064.96 1516.75 2059.73 1516.75 Q2053.74 1516.75 2050.57 1512.17 Q2047.39 1507.56 2047.39 1498.83 Q2047.39 1490.64 2051.28 1485.78 Q2055.17 1480.89 2061.72 1480.89 Q2063.48 1480.89 2065.27 1481.24 Q2067.07 1481.59 2069.02 1482.28 Z\" fill=\"#000000\" fill-rule=\"evenodd\" fill-opacity=\"1\" /><path clip-path=\"url(#clip0000)\" d=\"M 0 0 M2083.3 1481.52 L2087.23 1481.52 L2075.2 1520.48 L2071.26 1520.48 L2083.3 1481.52 Z\" fill=\"#000000\" fill-rule=\"evenodd\" fill-opacity=\"1\" /><path clip-path=\"url(#clip0000)\" d=\"M 0 0 M2096.33 1512.14 L2112.65 1512.14 L2112.65 1516.08 L2090.7 1516.08 L2090.7 1512.14 Q2093.37 1509.39 2097.95 1504.76 Q2102.56 1500.11 2103.74 1498.76 Q2105.98 1496.24 2106.86 1494.5 Q2107.76 1492.75 2107.76 1491.06 Q2107.76 1488.3 2105.82 1486.57 Q2103.9 1484.83 2100.8 1484.83 Q2098.6 1484.83 2096.14 1485.59 Q2093.71 1486.36 2090.94 1487.91 L2090.94 1483.19 Q2093.76 1482.05 2096.21 1481.47 Q2098.67 1480.89 2100.7 1480.89 Q2106.08 1480.89 2109.27 1483.58 Q2112.46 1486.26 2112.46 1490.75 Q2112.46 1492.88 2111.65 1494.81 Q2110.87 1496.7 2108.76 1499.3 Q2108.18 1499.97 2105.08 1503.19 Q2101.98 1506.38 2096.33 1512.14 Z\" fill=\"#000000\" fill-rule=\"evenodd\" fill-opacity=\"1\" /><path clip-path=\"url(#clip0000)\" d=\"M 0 0 M2127.72 1484.6 Q2124.11 1484.6 2122.28 1488.16 Q2120.47 1491.7 2120.47 1498.83 Q2120.47 1505.94 2122.28 1509.5 Q2124.11 1513.05 2127.72 1513.05 Q2131.35 1513.05 2133.16 1509.5 Q2134.99 1505.94 2134.99 1498.83 Q2134.99 1491.7 2133.16 1488.16 Q2131.35 1484.6 2127.72 1484.6 M2127.72 1480.89 Q2133.53 1480.89 2136.58 1485.5 Q2139.66 1490.08 2139.66 1498.83 Q2139.66 1507.56 2136.58 1512.17 Q2133.53 1516.75 2127.72 1516.75 Q2121.91 1516.75 2118.83 1512.17 Q2115.77 1507.56 2115.77 1498.83 Q2115.77 1490.08 2118.83 1485.5 Q2121.91 1480.89 2127.72 1480.89 Z\" fill=\"#000000\" fill-rule=\"evenodd\" fill-opacity=\"1\" /><path clip-path=\"url(#clip0000)\" d=\"M 0 0 M2186.1 1512.14 L2193.74 1512.14 L2193.74 1485.78 L2185.43 1487.44 L2185.43 1483.19 L2193.69 1481.52 L2198.37 1481.52 L2198.37 1512.14 L2206.01 1512.14 L2206.01 1516.08 L2186.1 1516.08 L2186.1 1512.14 Z\" fill=\"#000000\" fill-rule=\"evenodd\" fill-opacity=\"1\" /><path clip-path=\"url(#clip0000)\" d=\"M 0 0 M2221.08 1484.6 Q2217.46 1484.6 2215.64 1488.16 Q2213.83 1491.7 2213.83 1498.83 Q2213.83 1505.94 2215.64 1509.5 Q2217.46 1513.05 2221.08 1513.05 Q2224.71 1513.05 2226.52 1509.5 Q2228.34 1505.94 2228.34 1498.83 Q2228.34 1491.7 2226.52 1488.16 Q2224.71 1484.6 2221.08 1484.6 M2221.08 1480.89 Q2226.89 1480.89 2229.94 1485.5 Q2233.02 1490.08 2233.02 1498.83 Q2233.02 1507.56 2229.94 1512.17 Q2226.89 1516.75 2221.08 1516.75 Q2215.27 1516.75 2212.19 1512.17 Q2209.13 1507.56 2209.13 1498.83 Q2209.13 1490.08 2212.19 1485.5 Q2215.27 1480.89 2221.08 1480.89 Z\" fill=\"#000000\" fill-rule=\"evenodd\" fill-opacity=\"1\" /><path clip-path=\"url(#clip0000)\" d=\"M 0 0 M2245.06 1481.52 L2248.99 1481.52 L2236.96 1520.48 L2233.02 1520.48 L2245.06 1481.52 Z\" fill=\"#000000\" fill-rule=\"evenodd\" fill-opacity=\"1\" /><path clip-path=\"url(#clip0000)\" d=\"M 0 0 M2258.09 1512.14 L2274.41 1512.14 L2274.41 1516.08 L2252.46 1516.08 L2252.46 1512.14 Q2255.13 1509.39 2259.71 1504.76 Q2264.32 1500.11 2265.5 1498.76 Q2267.74 1496.24 2268.62 1494.5 Q2269.52 1492.75 2269.52 1491.06 Q2269.52 1488.3 2267.58 1486.57 Q2265.66 1484.83 2262.56 1484.83 Q2260.36 1484.83 2257.9 1485.59 Q2255.47 1486.36 2252.7 1487.91 L2252.7 1483.19 Q2255.52 1482.05 2257.97 1481.47 Q2260.43 1480.89 2262.46 1480.89 Q2267.83 1480.89 2271.03 1483.58 Q2274.22 1486.26 2274.22 1490.75 Q2274.22 1492.88 2273.41 1494.81 Q2272.63 1496.7 2270.52 1499.3 Q2269.94 1499.97 2266.84 1503.19 Q2263.74 1506.38 2258.09 1512.14 Z\" fill=\"#000000\" fill-rule=\"evenodd\" fill-opacity=\"1\" /><path clip-path=\"url(#clip0000)\" d=\"M 0 0 M2283.51 1512.14 L2299.83 1512.14 L2299.83 1516.08 L2277.88 1516.08 L2277.88 1512.14 Q2280.54 1509.39 2285.13 1504.76 Q2289.73 1500.11 2290.91 1498.76 Q2293.16 1496.24 2294.04 1494.5 Q2294.94 1492.75 2294.94 1491.06 Q2294.94 1488.3 2293 1486.57 Q2291.08 1484.83 2287.97 1484.83 Q2285.77 1484.83 2283.32 1485.59 Q2280.89 1486.36 2278.11 1487.91 L2278.11 1483.19 Q2280.94 1482.05 2283.39 1481.47 Q2285.84 1480.89 2287.88 1480.89 Q2293.25 1480.89 2296.45 1483.58 Q2299.64 1486.26 2299.64 1490.75 Q2299.64 1492.88 2298.83 1494.81 Q2298.04 1496.7 2295.94 1499.3 Q2295.36 1499.97 2292.26 1503.19 Q2289.15 1506.38 2283.51 1512.14 Z\" fill=\"#000000\" fill-rule=\"evenodd\" fill-opacity=\"1\" /><path clip-path=\"url(#clip0000)\" d=\"M 0 0 M2311.86 1481.52 L2315.8 1481.52 L2303.76 1520.48 L2299.83 1520.48 L2311.86 1481.52 Z\" fill=\"#000000\" fill-rule=\"evenodd\" fill-opacity=\"1\" /><path clip-path=\"url(#clip0000)\" d=\"M 0 0 M2324.89 1512.14 L2341.21 1512.14 L2341.21 1516.08 L2319.27 1516.08 L2319.27 1512.14 Q2321.93 1509.39 2326.52 1504.76 Q2331.12 1500.11 2332.3 1498.76 Q2334.55 1496.24 2335.43 1494.5 Q2336.33 1492.75 2336.33 1491.06 Q2336.33 1488.3 2334.39 1486.57 Q2332.46 1484.83 2329.36 1484.83 Q2327.16 1484.83 2324.71 1485.59 Q2322.28 1486.36 2319.5 1487.91 L2319.5 1483.19 Q2322.33 1482.05 2324.78 1481.47 Q2327.23 1480.89 2329.27 1480.89 Q2334.64 1480.89 2337.83 1483.58 Q2341.03 1486.26 2341.03 1490.75 Q2341.03 1492.88 2340.22 1494.81 Q2339.43 1496.7 2337.33 1499.3 Q2336.75 1499.97 2333.64 1503.19 Q2330.54 1506.38 2324.89 1512.14 Z\" fill=\"#000000\" fill-rule=\"evenodd\" fill-opacity=\"1\" /><path clip-path=\"url(#clip0000)\" d=\"M 0 0 M2356.28 1484.6 Q2352.67 1484.6 2350.84 1488.16 Q2349.04 1491.7 2349.04 1498.83 Q2349.04 1505.94 2350.84 1509.5 Q2352.67 1513.05 2356.28 1513.05 Q2359.92 1513.05 2361.72 1509.5 Q2363.55 1505.94 2363.55 1498.83 Q2363.55 1491.7 2361.72 1488.16 Q2359.92 1484.6 2356.28 1484.6 M2356.28 1480.89 Q2362.09 1480.89 2365.15 1485.5 Q2368.23 1490.08 2368.23 1498.83 Q2368.23 1507.56 2365.15 1512.17 Q2362.09 1516.75 2356.28 1516.75 Q2350.47 1516.75 2347.39 1512.17 Q2344.34 1507.56 2344.34 1498.83 Q2344.34 1490.08 2347.39 1485.5 Q2350.47 1480.89 2356.28 1480.89 Z\" fill=\"#000000\" fill-rule=\"evenodd\" fill-opacity=\"1\" /><path clip-path=\"url(#clip0000)\" d=\"M 0 0 M2453.29 1512.14 L2460.93 1512.14 L2460.93 1485.78 L2452.62 1487.44 L2452.62 1483.19 L2460.89 1481.52 L2465.56 1481.52 L2465.56 1512.14 L2473.2 1512.14 L2473.2 1516.08 L2453.29 1516.08 L2453.29 1512.14 Z\" fill=\"#000000\" fill-rule=\"evenodd\" fill-opacity=\"1\" /><path clip-path=\"url(#clip0000)\" d=\"M 0 0 M2488.27 1484.6 Q2484.66 1484.6 2482.83 1488.16 Q2481.03 1491.7 2481.03 1498.83 Q2481.03 1505.94 2482.83 1509.5 Q2484.66 1513.05 2488.27 1513.05 Q2491.91 1513.05 2493.71 1509.5 Q2495.54 1505.94 2495.54 1498.83 Q2495.54 1491.7 2493.71 1488.16 Q2491.91 1484.6 2488.27 1484.6 M2488.27 1480.89 Q2494.08 1480.89 2497.14 1485.5 Q2500.22 1490.08 2500.22 1498.83 Q2500.22 1507.56 2497.14 1512.17 Q2494.08 1516.75 2488.27 1516.75 Q2482.46 1516.75 2479.38 1512.17 Q2476.33 1507.56 2476.33 1498.83 Q2476.33 1490.08 2479.38 1485.5 Q2482.46 1480.89 2488.27 1480.89 Z\" fill=\"#000000\" fill-rule=\"evenodd\" fill-opacity=\"1\" /><path clip-path=\"url(#clip0000)\" d=\"M 0 0 M2512.25 1481.52 L2516.19 1481.52 L2504.15 1520.48 L2500.22 1520.48 L2512.25 1481.52 Z\" fill=\"#000000\" fill-rule=\"evenodd\" fill-opacity=\"1\" /><path clip-path=\"url(#clip0000)\" d=\"M 0 0 M2525.29 1512.14 L2541.6 1512.14 L2541.6 1516.08 L2519.66 1516.08 L2519.66 1512.14 Q2522.32 1509.39 2526.91 1504.76 Q2531.51 1500.11 2532.69 1498.76 Q2534.94 1496.24 2535.82 1494.5 Q2536.72 1492.75 2536.72 1491.06 Q2536.72 1488.3 2534.78 1486.57 Q2532.85 1484.83 2529.75 1484.83 Q2527.55 1484.83 2525.1 1485.59 Q2522.67 1486.36 2519.89 1487.91 L2519.89 1483.19 Q2522.72 1482.05 2525.17 1481.47 Q2527.62 1480.89 2529.66 1480.89 Q2535.03 1480.89 2538.22 1483.58 Q2541.42 1486.26 2541.42 1490.75 Q2541.42 1492.88 2540.61 1494.81 Q2539.82 1496.7 2537.72 1499.3 Q2537.14 1499.97 2534.04 1503.19 Q2530.93 1506.38 2525.29 1512.14 Z\" fill=\"#000000\" fill-rule=\"evenodd\" fill-opacity=\"1\" /><path clip-path=\"url(#clip0000)\" d=\"M 0 0 M2546.81 1515.36 L2546.81 1511.1 Q2548.57 1511.94 2550.38 1512.38 Q2552.18 1512.81 2553.92 1512.81 Q2558.55 1512.81 2560.98 1509.71 Q2563.43 1506.59 2563.78 1500.25 Q2562.44 1502.24 2560.38 1503.3 Q2558.32 1504.37 2555.82 1504.37 Q2550.63 1504.37 2547.6 1501.24 Q2544.59 1498.09 2544.59 1492.65 Q2544.59 1487.33 2547.74 1484.11 Q2550.89 1480.89 2556.12 1480.89 Q2562.11 1480.89 2565.26 1485.5 Q2568.43 1490.08 2568.43 1498.83 Q2568.43 1507 2564.54 1511.89 Q2560.68 1516.75 2554.13 1516.75 Q2552.37 1516.75 2550.56 1516.4 Q2548.76 1516.06 2546.81 1515.36 M2556.12 1500.71 Q2559.27 1500.71 2561.1 1498.56 Q2562.95 1496.4 2562.95 1492.65 Q2562.95 1488.93 2561.1 1486.77 Q2559.27 1484.6 2556.12 1484.6 Q2552.97 1484.6 2551.12 1486.77 Q2549.29 1488.93 2549.29 1492.65 Q2549.29 1496.4 2551.12 1498.56 Q2552.97 1500.71 2556.12 1500.71 Z\" fill=\"#000000\" fill-rule=\"evenodd\" fill-opacity=\"1\" /><path clip-path=\"url(#clip0000)\" d=\"M 0 0 M2580.47 1481.52 L2584.41 1481.52 L2572.37 1520.48 L2568.43 1520.48 L2580.47 1481.52 Z\" fill=\"#000000\" fill-rule=\"evenodd\" fill-opacity=\"1\" /><path clip-path=\"url(#clip0000)\" d=\"M 0 0 M2593.5 1512.14 L2609.82 1512.14 L2609.82 1516.08 L2587.88 1516.08 L2587.88 1512.14 Q2590.54 1509.39 2595.12 1504.76 Q2599.73 1500.11 2600.91 1498.76 Q2603.16 1496.24 2604.03 1494.5 Q2604.94 1492.75 2604.94 1491.06 Q2604.94 1488.3 2602.99 1486.57 Q2601.07 1484.83 2597.97 1484.83 Q2595.77 1484.83 2593.32 1485.59 Q2590.89 1486.36 2588.11 1487.91 L2588.11 1483.19 Q2590.93 1482.05 2593.39 1481.47 Q2595.84 1480.89 2597.88 1480.89 Q2603.25 1480.89 2606.44 1483.58 Q2609.64 1486.26 2609.64 1490.75 Q2609.64 1492.88 2608.83 1494.81 Q2608.04 1496.7 2605.93 1499.3 Q2605.35 1499.97 2602.25 1503.19 Q2599.15 1506.38 2593.5 1512.14 Z\" fill=\"#000000\" fill-rule=\"evenodd\" fill-opacity=\"1\" /><path clip-path=\"url(#clip0000)\" d=\"M 0 0 M2624.89 1484.6 Q2621.28 1484.6 2619.45 1488.16 Q2617.65 1491.7 2617.65 1498.83 Q2617.65 1505.94 2619.45 1509.5 Q2621.28 1513.05 2624.89 1513.05 Q2628.53 1513.05 2630.33 1509.5 Q2632.16 1505.94 2632.16 1498.83 Q2632.16 1491.7 2630.33 1488.16 Q2628.53 1484.6 2624.89 1484.6 M2624.89 1480.89 Q2630.7 1480.89 2633.76 1485.5 Q2636.84 1490.08 2636.84 1498.83 Q2636.84 1507.56 2633.76 1512.17 Q2630.7 1516.75 2624.89 1516.75 Q2619.08 1516.75 2616 1512.17 Q2612.95 1507.56 2612.95 1498.83 Q2612.95 1490.08 2616 1485.5 Q2619.08 1480.89 2624.89 1480.89 Z\" fill=\"#000000\" fill-rule=\"evenodd\" fill-opacity=\"1\" /><path clip-path=\"url(#clip0000)\" d=\"M 0 0 M2695.91 1512.14 L2703.55 1512.14 L2703.55 1485.78 L2695.24 1487.44 L2695.24 1483.19 L2703.5 1481.52 L2708.18 1481.52 L2708.18 1512.14 L2715.82 1512.14 L2715.82 1516.08 L2695.91 1516.08 L2695.91 1512.14 Z\" fill=\"#000000\" fill-rule=\"evenodd\" fill-opacity=\"1\" /><path clip-path=\"url(#clip0000)\" d=\"M 0 0 M2721.7 1512.14 L2729.34 1512.14 L2729.34 1485.78 L2721.03 1487.44 L2721.03 1483.19 L2729.29 1481.52 L2733.97 1481.52 L2733.97 1512.14 L2741.6 1512.14 L2741.6 1516.08 L2721.7 1516.08 L2721.7 1512.14 Z\" fill=\"#000000\" fill-rule=\"evenodd\" fill-opacity=\"1\" /><path clip-path=\"url(#clip0000)\" d=\"M 0 0 M2753.64 1481.52 L2757.58 1481.52 L2745.54 1520.48 L2741.6 1520.48 L2753.64 1481.52 Z\" fill=\"#000000\" fill-rule=\"evenodd\" fill-opacity=\"1\" /><path clip-path=\"url(#clip0000)\" d=\"M 0 0 M2775.49 1485.59 L2763.69 1504.04 L2775.49 1504.04 L2775.49 1485.59 M2774.27 1481.52 L2780.15 1481.52 L2780.15 1504.04 L2785.08 1504.04 L2785.08 1507.93 L2780.15 1507.93 L2780.15 1516.08 L2775.49 1516.08 L2775.49 1507.93 L2759.89 1507.93 L2759.89 1503.42 L2774.27 1481.52 Z\" fill=\"#000000\" fill-rule=\"evenodd\" fill-opacity=\"1\" /><path clip-path=\"url(#clip0000)\" d=\"M 0 0 M2797.11 1481.52 L2801.05 1481.52 L2789.01 1520.48 L2785.08 1520.48 L2797.11 1481.52 Z\" fill=\"#000000\" fill-rule=\"evenodd\" fill-opacity=\"1\" /><path clip-path=\"url(#clip0000)\" d=\"M 0 0 M2810.15 1512.14 L2826.47 1512.14 L2826.47 1516.08 L2804.52 1516.08 L2804.52 1512.14 Q2807.18 1509.39 2811.77 1504.76 Q2816.37 1500.11 2817.55 1498.76 Q2819.8 1496.24 2820.68 1494.5 Q2821.58 1492.75 2821.58 1491.06 Q2821.58 1488.3 2819.64 1486.57 Q2817.72 1484.83 2814.61 1484.83 Q2812.41 1484.83 2809.96 1485.59 Q2807.53 1486.36 2804.75 1487.91 L2804.75 1483.19 Q2807.58 1482.05 2810.03 1481.47 Q2812.48 1480.89 2814.52 1480.89 Q2819.89 1480.89 2823.09 1483.58 Q2826.28 1486.26 2826.28 1490.75 Q2826.28 1492.88 2825.47 1494.81 Q2824.68 1496.7 2822.58 1499.3 Q2822 1499.97 2818.9 1503.19 Q2815.79 1506.38 2810.15 1512.14 Z\" fill=\"#000000\" fill-rule=\"evenodd\" fill-opacity=\"1\" /><path clip-path=\"url(#clip0000)\" d=\"M 0 0 M2841.54 1484.6 Q2837.92 1484.6 2836.1 1488.16 Q2834.29 1491.7 2834.29 1498.83 Q2834.29 1505.94 2836.1 1509.5 Q2837.92 1513.05 2841.54 1513.05 Q2845.17 1513.05 2846.97 1509.5 Q2848.8 1505.94 2848.8 1498.83 Q2848.8 1491.7 2846.97 1488.16 Q2845.17 1484.6 2841.54 1484.6 M2841.54 1480.89 Q2847.35 1480.89 2850.4 1485.5 Q2853.48 1490.08 2853.48 1498.83 Q2853.48 1507.56 2850.4 1512.17 Q2847.35 1516.75 2841.54 1516.75 Q2835.72 1516.75 2832.65 1512.17 Q2829.59 1507.56 2829.59 1498.83 Q2829.59 1490.08 2832.65 1485.5 Q2835.72 1480.89 2841.54 1480.89 Z\" fill=\"#000000\" fill-rule=\"evenodd\" fill-opacity=\"1\" /><path clip-path=\"url(#clip0000)\" d=\"M 0 0 M2951.78 1512.14 L2959.41 1512.14 L2959.41 1485.78 L2951.1 1487.44 L2951.1 1483.19 L2959.37 1481.52 L2964.04 1481.52 L2964.04 1512.14 L2971.68 1512.14 L2971.68 1516.08 L2951.78 1516.08 L2951.78 1512.14 Z\" fill=\"#000000\" fill-rule=\"evenodd\" fill-opacity=\"1\" /><path clip-path=\"url(#clip0000)\" d=\"M 0 0 M2977.56 1512.14 L2985.2 1512.14 L2985.2 1485.78 L2976.89 1487.44 L2976.89 1483.19 L2985.15 1481.52 L2989.83 1481.52 L2989.83 1512.14 L2997.47 1512.14 L2997.47 1516.08 L2977.56 1516.08 L2977.56 1512.14 Z\" fill=\"#000000\" fill-rule=\"evenodd\" fill-opacity=\"1\" /><path clip-path=\"url(#clip0000)\" d=\"M 0 0 M3009.51 1481.52 L3013.44 1481.52 L3001.4 1520.48 L2997.47 1520.48 L3009.51 1481.52 Z\" fill=\"#000000\" fill-rule=\"evenodd\" fill-opacity=\"1\" /><path clip-path=\"url(#clip0000)\" d=\"M 0 0 M3019.32 1512.14 L3026.96 1512.14 L3026.96 1485.78 L3018.65 1487.44 L3018.65 1483.19 L3026.91 1481.52 L3031.59 1481.52 L3031.59 1512.14 L3039.23 1512.14 L3039.23 1516.08 L3019.32 1516.08 L3019.32 1512.14 Z\" fill=\"#000000\" fill-rule=\"evenodd\" fill-opacity=\"1\" /><path clip-path=\"url(#clip0000)\" d=\"M 0 0 M3045.11 1512.14 L3052.75 1512.14 L3052.75 1485.78 L3044.44 1487.44 L3044.44 1483.19 L3052.7 1481.52 L3057.38 1481.52 L3057.38 1512.14 L3065.02 1512.14 L3065.02 1516.08 L3045.11 1516.08 L3045.11 1512.14 Z\" fill=\"#000000\" fill-rule=\"evenodd\" fill-opacity=\"1\" /><path clip-path=\"url(#clip0000)\" d=\"M 0 0 M3077.05 1481.52 L3080.99 1481.52 L3068.95 1520.48 L3065.02 1520.48 L3077.05 1481.52 Z\" fill=\"#000000\" fill-rule=\"evenodd\" fill-opacity=\"1\" /><path clip-path=\"url(#clip0000)\" d=\"M 0 0 M3090.08 1512.14 L3106.4 1512.14 L3106.4 1516.08 L3084.46 1516.08 L3084.46 1512.14 Q3087.12 1509.39 3091.71 1504.76 Q3096.31 1500.11 3097.49 1498.76 Q3099.74 1496.24 3100.62 1494.5 Q3101.52 1492.75 3101.52 1491.06 Q3101.52 1488.3 3099.58 1486.57 Q3097.65 1484.83 3094.55 1484.83 Q3092.35 1484.83 3089.9 1485.59 Q3087.47 1486.36 3084.69 1487.91 L3084.69 1483.19 Q3087.52 1482.05 3089.97 1481.47 Q3092.42 1480.89 3094.46 1480.89 Q3099.83 1480.89 3103.02 1483.58 Q3106.22 1486.26 3106.22 1490.75 Q3106.22 1492.88 3105.41 1494.81 Q3104.62 1496.7 3102.52 1499.3 Q3101.94 1499.97 3098.83 1503.19 Q3095.73 1506.38 3090.08 1512.14 Z\" fill=\"#000000\" fill-rule=\"evenodd\" fill-opacity=\"1\" /><path clip-path=\"url(#clip0000)\" d=\"M 0 0 M3121.47 1484.6 Q3117.86 1484.6 3116.03 1488.16 Q3114.23 1491.7 3114.23 1498.83 Q3114.23 1505.94 3116.03 1509.5 Q3117.86 1513.05 3121.47 1513.05 Q3125.11 1513.05 3126.91 1509.5 Q3128.74 1505.94 3128.74 1498.83 Q3128.74 1491.7 3126.91 1488.16 Q3125.11 1484.6 3121.47 1484.6 M3121.47 1480.89 Q3127.28 1480.89 3130.34 1485.5 Q3133.42 1490.08 3133.42 1498.83 Q3133.42 1507.56 3130.34 1512.17 Q3127.28 1516.75 3121.47 1516.75 Q3115.66 1516.75 3112.58 1512.17 Q3109.53 1507.56 3109.53 1498.83 Q3109.53 1490.08 3112.58 1485.5 Q3115.66 1480.89 3121.47 1480.89 Z\" fill=\"#000000\" fill-rule=\"evenodd\" fill-opacity=\"1\" /><path clip-path=\"url(#clip0000)\" d=\"M 0 0 M3181.24 1512.14 L3188.88 1512.14 L3188.88 1485.78 L3180.57 1487.44 L3180.57 1483.19 L3188.84 1481.52 L3193.51 1481.52 L3193.51 1512.14 L3201.15 1512.14 L3201.15 1516.08 L3181.24 1516.08 L3181.24 1512.14 Z\" fill=\"#000000\" fill-rule=\"evenodd\" fill-opacity=\"1\" /><path clip-path=\"url(#clip0000)\" d=\"M 0 0 M3207.03 1512.14 L3214.67 1512.14 L3214.67 1485.78 L3206.36 1487.44 L3206.36 1483.19 L3214.62 1481.52 L3219.3 1481.52 L3219.3 1512.14 L3226.94 1512.14 L3226.94 1516.08 L3207.03 1516.08 L3207.03 1512.14 Z\" fill=\"#000000\" fill-rule=\"evenodd\" fill-opacity=\"1\" /><path clip-path=\"url(#clip0000)\" d=\"M 0 0 M3238.97 1481.52 L3242.91 1481.52 L3230.87 1520.48 L3226.94 1520.48 L3238.97 1481.52 Z\" fill=\"#000000\" fill-rule=\"evenodd\" fill-opacity=\"1\" /><path clip-path=\"url(#clip0000)\" d=\"M 0 0 M3248.79 1512.14 L3256.43 1512.14 L3256.43 1485.78 L3248.12 1487.44 L3248.12 1483.19 L3256.38 1481.52 L3261.06 1481.52 L3261.06 1512.14 L3268.7 1512.14 L3268.7 1516.08 L3248.79 1516.08 L3248.79 1512.14 Z\" fill=\"#000000\" fill-rule=\"evenodd\" fill-opacity=\"1\" /><path clip-path=\"url(#clip0000)\" d=\"M 0 0 M3272.59 1481.52 L3294.81 1481.52 L3294.81 1483.51 L3282.26 1516.08 L3277.38 1516.08 L3289.18 1485.45 L3272.59 1485.45 L3272.59 1481.52 Z\" fill=\"#000000\" fill-rule=\"evenodd\" fill-opacity=\"1\" /><path clip-path=\"url(#clip0000)\" d=\"M 0 0 M3306.84 1481.52 L3310.78 1481.52 L3298.74 1520.48 L3294.81 1520.48 L3306.84 1481.52 Z\" fill=\"#000000\" fill-rule=\"evenodd\" fill-opacity=\"1\" /><path clip-path=\"url(#clip0000)\" d=\"M 0 0 M3319.88 1512.14 L3336.2 1512.14 L3336.2 1516.08 L3314.25 1516.08 L3314.25 1512.14 Q3316.91 1509.39 3321.5 1504.76 Q3326.1 1500.11 3327.28 1498.76 Q3329.53 1496.24 3330.41 1494.5 Q3331.31 1492.75 3331.31 1491.06 Q3331.31 1488.3 3329.37 1486.57 Q3327.45 1484.83 3324.34 1484.83 Q3322.15 1484.83 3319.69 1485.59 Q3317.26 1486.36 3314.48 1487.91 L3314.48 1483.19 Q3317.31 1482.05 3319.76 1481.47 Q3322.21 1480.89 3324.25 1480.89 Q3329.62 1480.89 3332.82 1483.58 Q3336.01 1486.26 3336.01 1490.75 Q3336.01 1492.88 3335.2 1494.81 Q3334.41 1496.7 3332.31 1499.3 Q3331.73 1499.97 3328.63 1503.19 Q3325.52 1506.38 3319.88 1512.14 Z\" fill=\"#000000\" fill-rule=\"evenodd\" fill-opacity=\"1\" /><path clip-path=\"url(#clip0000)\" d=\"M 0 0 M3351.27 1484.6 Q3347.65 1484.6 3345.83 1488.16 Q3344.02 1491.7 3344.02 1498.83 Q3344.02 1505.94 3345.83 1509.5 Q3347.65 1513.05 3351.27 1513.05 Q3354.9 1513.05 3356.71 1509.5 Q3358.53 1505.94 3358.53 1498.83 Q3358.53 1491.7 3356.71 1488.16 Q3354.9 1484.6 3351.27 1484.6 M3351.27 1480.89 Q3357.08 1480.89 3360.13 1485.5 Q3363.21 1490.08 3363.21 1498.83 Q3363.21 1507.56 3360.13 1512.17 Q3357.08 1516.75 3351.27 1516.75 Q3345.46 1516.75 3342.38 1512.17 Q3339.32 1507.56 3339.32 1498.83 Q3339.32 1490.08 3342.38 1485.5 Q3345.46 1480.89 3351.27 1480.89 Z\" fill=\"#000000\" fill-rule=\"evenodd\" fill-opacity=\"1\" /><path clip-path=\"url(#clip0000)\" d=\"M 0 0 M3448.64 1512.14 L3456.27 1512.14 L3456.27 1485.78 L3447.96 1487.44 L3447.96 1483.19 L3456.23 1481.52 L3460.9 1481.52 L3460.9 1512.14 L3468.54 1512.14 L3468.54 1516.08 L3448.64 1516.08 L3448.64 1512.14 Z\" fill=\"#000000\" fill-rule=\"evenodd\" fill-opacity=\"1\" /><path clip-path=\"url(#clip0000)\" d=\"M 0 0 M3474.42 1512.14 L3482.06 1512.14 L3482.06 1485.78 L3473.75 1487.44 L3473.75 1483.19 L3482.02 1481.52 L3486.69 1481.52 L3486.69 1512.14 L3494.33 1512.14 L3494.33 1516.08 L3474.42 1516.08 L3474.42 1512.14 Z\" fill=\"#000000\" fill-rule=\"evenodd\" fill-opacity=\"1\" /><path clip-path=\"url(#clip0000)\" d=\"M 0 0 M3506.37 1481.52 L3510.3 1481.52 L3498.26 1520.48 L3494.33 1520.48 L3506.37 1481.52 Z\" fill=\"#000000\" fill-rule=\"evenodd\" fill-opacity=\"1\" /><path clip-path=\"url(#clip0000)\" d=\"M 0 0 M3519.4 1512.14 L3535.72 1512.14 L3535.72 1516.08 L3513.77 1516.08 L3513.77 1512.14 Q3516.44 1509.39 3521.02 1504.76 Q3525.63 1500.11 3526.81 1498.76 Q3529.05 1496.24 3529.93 1494.5 Q3530.83 1492.75 3530.83 1491.06 Q3530.83 1488.3 3528.89 1486.57 Q3526.97 1484.83 3523.87 1484.83 Q3521.67 1484.83 3519.21 1485.59 Q3516.78 1486.36 3514.01 1487.91 L3514.01 1483.19 Q3516.83 1482.05 3519.28 1481.47 Q3521.74 1480.89 3523.77 1480.89 Q3529.14 1480.89 3532.34 1483.58 Q3535.53 1486.26 3535.53 1490.75 Q3535.53 1492.88 3534.72 1494.81 Q3533.94 1496.7 3531.83 1499.3 Q3531.25 1499.97 3528.15 1503.19 Q3525.05 1506.38 3519.4 1512.14 Z\" fill=\"#000000\" fill-rule=\"evenodd\" fill-opacity=\"1\" /><path clip-path=\"url(#clip0000)\" d=\"M 0 0 M3553.64 1485.59 L3541.83 1504.04 L3553.64 1504.04 L3553.64 1485.59 M3552.41 1481.52 L3558.29 1481.52 L3558.29 1504.04 L3563.22 1504.04 L3563.22 1507.93 L3558.29 1507.93 L3558.29 1516.08 L3553.64 1516.08 L3553.64 1507.93 L3538.03 1507.93 L3538.03 1503.42 L3552.41 1481.52 Z\" fill=\"#000000\" fill-rule=\"evenodd\" fill-opacity=\"1\" /><path clip-path=\"url(#clip0000)\" d=\"M 0 0 M3575.26 1481.52 L3579.19 1481.52 L3567.15 1520.48 L3563.22 1520.48 L3575.26 1481.52 Z\" fill=\"#000000\" fill-rule=\"evenodd\" fill-opacity=\"1\" /><path clip-path=\"url(#clip0000)\" d=\"M 0 0 M3588.29 1512.14 L3604.61 1512.14 L3604.61 1516.08 L3582.66 1516.08 L3582.66 1512.14 Q3585.32 1509.39 3589.91 1504.76 Q3594.51 1500.11 3595.69 1498.76 Q3597.94 1496.24 3598.82 1494.5 Q3599.72 1492.75 3599.72 1491.06 Q3599.72 1488.3 3597.78 1486.57 Q3595.86 1484.83 3592.76 1484.83 Q3590.56 1484.83 3588.1 1485.59 Q3585.67 1486.36 3582.89 1487.91 L3582.89 1483.19 Q3585.72 1482.05 3588.17 1481.47 Q3590.63 1480.89 3592.66 1480.89 Q3598.03 1480.89 3601.23 1483.58 Q3604.42 1486.26 3604.42 1490.75 Q3604.42 1492.88 3603.61 1494.81 Q3602.82 1496.7 3600.72 1499.3 Q3600.14 1499.97 3597.04 1503.19 Q3593.94 1506.38 3588.29 1512.14 Z\" fill=\"#000000\" fill-rule=\"evenodd\" fill-opacity=\"1\" /><path clip-path=\"url(#clip0000)\" d=\"M 0 0 M3619.68 1484.6 Q3616.07 1484.6 3614.24 1488.16 Q3612.43 1491.7 3612.43 1498.83 Q3612.43 1505.94 3614.24 1509.5 Q3616.07 1513.05 3619.68 1513.05 Q3623.31 1513.05 3625.12 1509.5 Q3626.94 1505.94 3626.94 1498.83 Q3626.94 1491.7 3625.12 1488.16 Q3623.31 1484.6 3619.68 1484.6 M3619.68 1480.89 Q3625.49 1480.89 3628.54 1485.5 Q3631.62 1490.08 3631.62 1498.83 Q3631.62 1507.56 3628.54 1512.17 Q3625.49 1516.75 3619.68 1516.75 Q3613.87 1516.75 3610.79 1512.17 Q3607.73 1507.56 3607.73 1498.83 Q3607.73 1490.08 3610.79 1485.5 Q3613.87 1480.89 3619.68 1480.89 Z\" fill=\"#000000\" fill-rule=\"evenodd\" fill-opacity=\"1\" /><path clip-path=\"url(#clip0000)\" d=\"M 0 0 M3678.03 1512.14 L3685.67 1512.14 L3685.67 1485.78 L3677.36 1487.44 L3677.36 1483.19 L3685.63 1481.52 L3690.3 1481.52 L3690.3 1512.14 L3697.94 1512.14 L3697.94 1516.08 L3678.03 1516.08 L3678.03 1512.14 Z\" fill=\"#000000\" fill-rule=\"evenodd\" fill-opacity=\"1\" /><path clip-path=\"url(#clip0000)\" d=\"M 0 0 M3703.82 1512.14 L3711.46 1512.14 L3711.46 1485.78 L3703.15 1487.44 L3703.15 1483.19 L3711.41 1481.52 L3716.09 1481.52 L3716.09 1512.14 L3723.73 1512.14 L3723.73 1516.08 L3703.82 1516.08 L3703.82 1512.14 Z\" fill=\"#000000\" fill-rule=\"evenodd\" fill-opacity=\"1\" /><path clip-path=\"url(#clip0000)\" d=\"M 0 0 M3735.77 1481.52 L3739.7 1481.52 L3727.66 1520.48 L3723.73 1520.48 L3735.77 1481.52 Z\" fill=\"#000000\" fill-rule=\"evenodd\" fill-opacity=\"1\" /><path clip-path=\"url(#clip0000)\" d=\"M 0 0 M3758.94 1497.44 Q3762.29 1498.16 3764.17 1500.43 Q3766.07 1502.7 3766.07 1506.03 Q3766.07 1511.15 3762.55 1513.95 Q3759.03 1516.75 3752.55 1516.75 Q3750.37 1516.75 3748.06 1516.31 Q3745.77 1515.89 3743.31 1515.04 L3743.31 1510.52 Q3745.26 1511.66 3747.57 1512.24 Q3749.89 1512.81 3752.41 1512.81 Q3756.81 1512.81 3759.1 1511.08 Q3761.41 1509.34 3761.41 1506.03 Q3761.41 1502.98 3759.26 1501.26 Q3757.13 1499.53 3753.31 1499.53 L3749.28 1499.53 L3749.28 1495.69 L3753.5 1495.69 Q3756.95 1495.69 3758.77 1494.32 Q3760.6 1492.93 3760.6 1490.34 Q3760.6 1487.68 3758.7 1486.26 Q3756.83 1484.83 3753.31 1484.83 Q3751.39 1484.83 3749.19 1485.25 Q3746.99 1485.66 3744.35 1486.54 L3744.35 1482.38 Q3747.02 1481.63 3749.33 1481.26 Q3751.67 1480.89 3753.73 1480.89 Q3759.05 1480.89 3762.15 1483.32 Q3765.26 1485.73 3765.26 1489.85 Q3765.26 1492.72 3763.61 1494.71 Q3761.97 1496.68 3758.94 1497.44 Z\" fill=\"#000000\" fill-rule=\"evenodd\" fill-opacity=\"1\" /><path clip-path=\"url(#clip0000)\" d=\"M 0 0 M3781.14 1484.6 Q3777.52 1484.6 3775.7 1488.16 Q3773.89 1491.7 3773.89 1498.83 Q3773.89 1505.94 3775.7 1509.5 Q3777.52 1513.05 3781.14 1513.05 Q3784.77 1513.05 3786.58 1509.5 Q3788.4 1505.94 3788.4 1498.83 Q3788.4 1491.7 3786.58 1488.16 Q3784.77 1484.6 3781.14 1484.6 M3781.14 1480.89 Q3786.95 1480.89 3790 1485.5 Q3793.08 1490.08 3793.08 1498.83 Q3793.08 1507.56 3790 1512.17 Q3786.95 1516.75 3781.14 1516.75 Q3775.33 1516.75 3772.25 1512.17 Q3769.19 1507.56 3769.19 1498.83 Q3769.19 1490.08 3772.25 1485.5 Q3775.33 1480.89 3781.14 1480.89 Z\" fill=\"#000000\" fill-rule=\"evenodd\" fill-opacity=\"1\" /><path clip-path=\"url(#clip0000)\" d=\"M 0 0 M3805.12 1481.52 L3809.05 1481.52 L3797.01 1520.48 L3793.08 1520.48 L3805.12 1481.52 Z\" fill=\"#000000\" fill-rule=\"evenodd\" fill-opacity=\"1\" /><path clip-path=\"url(#clip0000)\" d=\"M 0 0 M3818.15 1512.14 L3834.47 1512.14 L3834.47 1516.08 L3812.52 1516.08 L3812.52 1512.14 Q3815.19 1509.39 3819.77 1504.76 Q3824.38 1500.11 3825.56 1498.76 Q3827.8 1496.24 3828.68 1494.5 Q3829.58 1492.75 3829.58 1491.06 Q3829.58 1488.3 3827.64 1486.57 Q3825.72 1484.83 3822.62 1484.83 Q3820.42 1484.83 3817.96 1485.59 Q3815.53 1486.36 3812.76 1487.91 L3812.76 1483.19 Q3815.58 1482.05 3818.03 1481.47 Q3820.49 1480.89 3822.52 1480.89 Q3827.89 1480.89 3831.09 1483.58 Q3834.28 1486.26 3834.28 1490.75 Q3834.28 1492.88 3833.47 1494.81 Q3832.69 1496.7 3830.58 1499.3 Q3830 1499.97 3826.9 1503.19 Q3823.8 1506.38 3818.15 1512.14 Z\" fill=\"#000000\" fill-rule=\"evenodd\" fill-opacity=\"1\" /><path clip-path=\"url(#clip0000)\" d=\"M 0 0 M3849.54 1484.6 Q3845.93 1484.6 3844.1 1488.16 Q3842.29 1491.7 3842.29 1498.83 Q3842.29 1505.94 3844.1 1509.5 Q3845.93 1513.05 3849.54 1513.05 Q3853.17 1513.05 3854.98 1509.5 Q3856.81 1505.94 3856.81 1498.83 Q3856.81 1491.7 3854.98 1488.16 Q3853.17 1484.6 3849.54 1484.6 M3849.54 1480.89 Q3855.35 1480.89 3858.4 1485.5 Q3861.48 1490.08 3861.48 1498.83 Q3861.48 1507.56 3858.4 1512.17 Q3855.35 1516.75 3849.54 1516.75 Q3843.73 1516.75 3840.65 1512.17 Q3837.59 1507.56 3837.59 1498.83 Q3837.59 1490.08 3840.65 1485.5 Q3843.73 1480.89 3849.54 1480.89 Z\" fill=\"#000000\" fill-rule=\"evenodd\" fill-opacity=\"1\" /><path clip-path=\"url(#clip0000)\" d=\"M 0 0 M133.806 1257.96 L133.806 1253.7 Q135.565 1254.53 137.371 1254.97 Q139.176 1255.41 140.913 1255.41 Q145.542 1255.41 147.973 1252.31 Q150.426 1249.18 150.774 1242.84 Q149.431 1244.83 147.371 1245.9 Q145.311 1246.96 142.811 1246.96 Q137.626 1246.96 134.593 1243.84 Q131.584 1240.69 131.584 1235.25 Q131.584 1229.92 134.732 1226.71 Q137.88 1223.49 143.112 1223.49 Q149.107 1223.49 152.255 1228.1 Q155.426 1232.68 155.426 1241.43 Q155.426 1249.6 151.538 1254.48 Q147.672 1259.35 141.121 1259.35 Q139.362 1259.35 137.556 1259 Q135.751 1258.65 133.806 1257.96 M143.112 1243.3 Q146.26 1243.3 148.088 1241.15 Q149.94 1239 149.94 1235.25 Q149.94 1231.52 148.088 1229.37 Q146.26 1227.19 143.112 1227.19 Q139.963 1227.19 138.112 1229.37 Q136.283 1231.52 136.283 1235.25 Q136.283 1239 138.112 1241.15 Q139.963 1243.3 143.112 1243.3 Z\" fill=\"#000000\" fill-rule=\"evenodd\" fill-opacity=\"1\" /><path clip-path=\"url(#clip0000)\" d=\"M 0 0 M170.496 1227.19 Q166.885 1227.19 165.056 1230.76 Q163.25 1234.3 163.25 1241.43 Q163.25 1248.54 165.056 1252.1 Q166.885 1255.64 170.496 1255.64 Q174.13 1255.64 175.936 1252.1 Q177.764 1248.54 177.764 1241.43 Q177.764 1234.3 175.936 1230.76 Q174.13 1227.19 170.496 1227.19 M170.496 1223.49 Q176.306 1223.49 179.361 1228.1 Q182.44 1232.68 182.44 1241.43 Q182.44 1250.16 179.361 1254.76 Q176.306 1259.35 170.496 1259.35 Q164.686 1259.35 161.607 1254.76 Q158.551 1250.16 158.551 1241.43 Q158.551 1232.68 161.607 1228.1 Q164.686 1223.49 170.496 1223.49 Z\" fill=\"#000000\" fill-rule=\"evenodd\" fill-opacity=\"1\" /><path clip-path=\"url(#clip0000)\" d=\"M 0 0 M108.505 942.764 L116.144 942.764 L116.144 916.398 L107.834 918.065 L107.834 913.806 L116.098 912.139 L120.774 912.139 L120.774 942.764 L128.413 942.764 L128.413 946.699 L108.505 946.699 L108.505 942.764 Z\" fill=\"#000000\" fill-rule=\"evenodd\" fill-opacity=\"1\" /><path clip-path=\"url(#clip0000)\" d=\"M 0 0 M143.482 915.218 Q139.871 915.218 138.042 918.783 Q136.237 922.324 136.237 929.454 Q136.237 936.56 138.042 940.125 Q139.871 943.667 143.482 943.667 Q147.116 943.667 148.922 940.125 Q150.75 936.56 150.75 929.454 Q150.75 922.324 148.922 918.783 Q147.116 915.218 143.482 915.218 M143.482 911.514 Q149.292 911.514 152.348 916.121 Q155.426 920.704 155.426 929.454 Q155.426 938.181 152.348 942.787 Q149.292 947.371 143.482 947.371 Q137.672 947.371 134.593 942.787 Q131.538 938.181 131.538 929.454 Q131.538 920.704 134.593 916.121 Q137.672 911.514 143.482 911.514 Z\" fill=\"#000000\" fill-rule=\"evenodd\" fill-opacity=\"1\" /><path clip-path=\"url(#clip0000)\" d=\"M 0 0 M170.496 915.218 Q166.885 915.218 165.056 918.783 Q163.25 922.324 163.25 929.454 Q163.25 936.56 165.056 940.125 Q166.885 943.667 170.496 943.667 Q174.13 943.667 175.936 940.125 Q177.764 936.56 177.764 929.454 Q177.764 922.324 175.936 918.783 Q174.13 915.218 170.496 915.218 M170.496 911.514 Q176.306 911.514 179.361 916.121 Q182.44 920.704 182.44 929.454 Q182.44 938.181 179.361 942.787 Q176.306 947.371 170.496 947.371 Q164.686 947.371 161.607 942.787 Q158.551 938.181 158.551 929.454 Q158.551 920.704 161.607 916.121 Q164.686 911.514 170.496 911.514 Z\" fill=\"#000000\" fill-rule=\"evenodd\" fill-opacity=\"1\" /><path clip-path=\"url(#clip0000)\" d=\"M 0 0 M109.732 630.789 L117.371 630.789 L117.371 604.423 L109.061 606.09 L109.061 601.831 L117.325 600.164 L122.001 600.164 L122.001 630.789 L129.639 630.789 L129.639 634.724 L109.732 634.724 L109.732 630.789 Z\" fill=\"#000000\" fill-rule=\"evenodd\" fill-opacity=\"1\" /><path clip-path=\"url(#clip0000)\" d=\"M 0 0 M135.519 630.789 L143.158 630.789 L143.158 604.423 L134.848 606.09 L134.848 601.831 L143.112 600.164 L147.788 600.164 L147.788 630.789 L155.426 630.789 L155.426 634.724 L135.519 634.724 L135.519 630.789 Z\" fill=\"#000000\" fill-rule=\"evenodd\" fill-opacity=\"1\" /><path clip-path=\"url(#clip0000)\" d=\"M 0 0 M170.496 603.243 Q166.885 603.243 165.056 606.808 Q163.25 610.349 163.25 617.479 Q163.25 624.585 165.056 628.15 Q166.885 631.692 170.496 631.692 Q174.13 631.692 175.936 628.15 Q177.764 624.585 177.764 617.479 Q177.764 610.349 175.936 606.808 Q174.13 603.243 170.496 603.243 M170.496 599.539 Q176.306 599.539 179.361 604.146 Q182.44 608.729 182.44 617.479 Q182.44 626.206 179.361 630.812 Q176.306 635.395 170.496 635.395 Q164.686 635.395 161.607 630.812 Q158.551 626.206 158.551 617.479 Q158.551 608.729 161.607 604.146 Q164.686 599.539 170.496 599.539 Z\" fill=\"#000000\" fill-rule=\"evenodd\" fill-opacity=\"1\" /><path clip-path=\"url(#clip0000)\" d=\"M 0 0 M110.103 318.814 L117.741 318.814 L117.741 292.448 L109.431 294.115 L109.431 289.856 L117.695 288.189 L122.371 288.189 L122.371 318.814 L130.01 318.814 L130.01 322.749 L110.103 322.749 L110.103 318.814 Z\" fill=\"#000000\" fill-rule=\"evenodd\" fill-opacity=\"1\" /><path clip-path=\"url(#clip0000)\" d=\"M 0 0 M139.107 318.814 L155.426 318.814 L155.426 322.749 L133.482 322.749 L133.482 318.814 Q136.144 316.059 140.727 311.43 Q145.334 306.777 146.514 305.434 Q148.76 302.911 149.639 301.175 Q150.542 299.416 150.542 297.726 Q150.542 294.971 148.598 293.235 Q146.676 291.499 143.575 291.499 Q141.376 291.499 138.922 292.263 Q136.491 293.027 133.714 294.578 L133.714 289.856 Q136.538 288.721 138.991 288.143 Q141.445 287.564 143.482 287.564 Q148.852 287.564 152.047 290.249 Q155.241 292.934 155.241 297.425 Q155.241 299.555 154.431 301.476 Q153.644 303.374 151.538 305.967 Q150.959 306.638 147.857 309.856 Q144.755 313.05 139.107 318.814 Z\" fill=\"#000000\" fill-rule=\"evenodd\" fill-opacity=\"1\" /><path clip-path=\"url(#clip0000)\" d=\"M 0 0 M170.496 291.268 Q166.885 291.268 165.056 294.832 Q163.25 298.374 163.25 305.504 Q163.25 312.61 165.056 316.175 Q166.885 319.717 170.496 319.717 Q174.13 319.717 175.936 316.175 Q177.764 312.61 177.764 305.504 Q177.764 298.374 175.936 294.832 Q174.13 291.268 170.496 291.268 M170.496 287.564 Q176.306 287.564 179.361 292.17 Q182.44 296.754 182.44 305.504 Q182.44 314.231 179.361 318.837 Q176.306 323.42 170.496 323.42 Q164.686 323.42 161.607 318.837 Q158.551 314.231 158.551 305.504 Q158.551 296.754 161.607 292.17 Q164.686 287.564 170.496 287.564 Z\" fill=\"#000000\" fill-rule=\"evenodd\" fill-opacity=\"1\" /><path clip-path=\"url(#clip0000)\" d=\"M 0 0 M1992.96 1557.3 L1992.96 1567.42 L2005.03 1567.42 L2005.03 1571.97 L1992.96 1571.97 L1992.96 1591.33 Q1992.96 1595.69 1994.14 1596.93 Q1995.35 1598.17 1999.01 1598.17 L2005.03 1598.17 L2005.03 1603.07 L1999.01 1603.07 Q1992.23 1603.07 1989.65 1600.56 Q1987.07 1598.01 1987.07 1591.33 L1987.07 1571.97 L1982.78 1571.97 L1982.78 1567.42 L1987.07 1567.42 L1987.07 1557.3 L1992.96 1557.3 Z\" fill=\"#000000\" fill-rule=\"evenodd\" fill-opacity=\"1\" /><path clip-path=\"url(#clip0000)\" d=\"M 0 0 M2011.17 1567.42 L2017.02 1567.42 L2017.02 1603.07 L2011.17 1603.07 L2011.17 1567.42 M2011.17 1553.55 L2017.02 1553.55 L2017.02 1560.96 L2011.17 1560.96 L2011.17 1553.55 Z\" fill=\"#000000\" fill-rule=\"evenodd\" fill-opacity=\"1\" /><path clip-path=\"url(#clip0000)\" d=\"M 0 0 M2050.92 1574.27 Q2053.12 1570.32 2056.17 1568.44 Q2059.23 1566.56 2063.37 1566.56 Q2068.94 1566.56 2071.96 1570.48 Q2074.98 1574.36 2074.98 1581.55 L2074.98 1603.07 L2069.1 1603.07 L2069.1 1581.75 Q2069.1 1576.62 2067.28 1574.14 Q2065.47 1571.66 2061.74 1571.66 Q2057.19 1571.66 2054.55 1574.68 Q2051.91 1577.7 2051.91 1582.92 L2051.91 1603.07 L2046.02 1603.07 L2046.02 1581.75 Q2046.02 1576.59 2044.21 1574.14 Q2042.39 1571.66 2038.6 1571.66 Q2034.12 1571.66 2031.47 1574.71 Q2028.83 1577.74 2028.83 1582.92 L2028.83 1603.07 L2022.94 1603.07 L2022.94 1567.42 L2028.83 1567.42 L2028.83 1572.96 Q2030.84 1569.68 2033.64 1568.12 Q2036.44 1566.56 2040.29 1566.56 Q2044.17 1566.56 2046.88 1568.54 Q2049.62 1570.51 2050.92 1574.27 Z\" fill=\"#000000\" fill-rule=\"evenodd\" fill-opacity=\"1\" /><path clip-path=\"url(#clip0000)\" d=\"M 0 0 M2111.62 1583.78 L2111.62 1586.65 L2084.69 1586.65 Q2085.07 1592.69 2088.32 1595.88 Q2091.6 1599.03 2097.42 1599.03 Q2100.8 1599.03 2103.95 1598.2 Q2107.13 1597.37 2110.25 1595.72 L2110.25 1601.26 Q2107.1 1602.59 2103.79 1603.29 Q2100.48 1603.99 2097.07 1603.99 Q2088.54 1603.99 2083.55 1599.03 Q2078.58 1594.06 2078.58 1585.6 Q2078.58 1576.84 2083.29 1571.72 Q2088.03 1566.56 2096.05 1566.56 Q2103.25 1566.56 2107.42 1571.21 Q2111.62 1575.83 2111.62 1583.78 M2105.76 1582.06 Q2105.7 1577.26 2103.06 1574.39 Q2100.45 1571.53 2096.12 1571.53 Q2091.22 1571.53 2088.26 1574.3 Q2085.33 1577.07 2084.88 1582.1 L2105.76 1582.06 Z\" fill=\"#000000\" fill-rule=\"evenodd\" fill-opacity=\"1\" /><path clip-path=\"url(#clip0000)\" d=\"M 0 0 M18.7301 887.527 L18.7301 881.67 L54.378 881.67 L54.378 887.527 L18.7301 887.527 M4.85284 887.527 L4.85284 881.67 L12.2689 881.67 L12.2689 887.527 L4.85284 887.527 Z\" fill=\"#000000\" fill-rule=\"evenodd\" fill-opacity=\"1\" /><path clip-path=\"url(#clip0000)\" d=\"M 0 0 M32.8619 845.895 L54.378 845.895 L54.378 851.751 L33.0529 851.751 Q27.9922 851.751 25.4777 853.725 Q22.9633 855.698 22.9633 859.645 Q22.9633 864.387 25.987 867.125 Q29.0107 869.862 34.2306 869.862 L54.378 869.862 L54.378 875.75 L18.7301 875.75 L18.7301 869.862 L24.2682 869.862 Q21.0536 867.761 19.4621 864.928 Q17.8707 862.064 17.8707 858.34 Q17.8707 852.197 21.6901 849.046 Q25.4777 845.895 32.8619 845.895 Z\" fill=\"#000000\" fill-rule=\"evenodd\" fill-opacity=\"1\" /><path clip-path=\"url(#clip0000)\" d=\"M 0 0 M24.1409 816.294 L4.85284 816.294 L4.85284 810.438 L54.378 810.438 L54.378 816.294 L49.0308 816.294 Q52.2137 818.14 53.7733 820.973 Q55.3011 823.774 55.3011 827.721 Q55.3011 834.182 50.1448 838.256 Q44.9886 842.298 36.5859 842.298 Q28.1832 842.298 23.0269 838.256 Q17.8707 834.182 17.8707 827.721 Q17.8707 823.774 19.4303 820.973 Q20.9581 818.14 24.1409 816.294 M36.5859 836.251 Q43.0471 836.251 46.7392 833.609 Q50.3995 830.935 50.3995 826.289 Q50.3995 821.642 46.7392 818.968 Q43.0471 816.294 36.5859 816.294 Q30.1247 816.294 26.4644 818.968 Q22.7723 821.642 22.7723 826.289 Q22.7723 830.935 26.4644 833.609 Q30.1247 836.251 36.5859 836.251 Z\" fill=\"#000000\" fill-rule=\"evenodd\" fill-opacity=\"1\" /><path clip-path=\"url(#clip0000)\" d=\"M 0 0 M18.7301 804.295 L18.7301 798.439 L54.378 798.439 L54.378 804.295 L18.7301 804.295 M4.85284 804.295 L4.85284 798.439 L12.2689 798.439 L12.2689 804.295 L4.85284 804.295 Z\" fill=\"#000000\" fill-rule=\"evenodd\" fill-opacity=\"1\" /><path clip-path=\"url(#clip0000)\" d=\"M 0 0 M20.0987 766.642 L25.5732 766.642 Q24.2046 769.124 23.5362 771.639 Q22.836 774.122 22.836 776.668 Q22.836 782.365 26.4644 785.516 Q30.061 788.667 36.5859 788.667 Q43.1107 788.667 46.7392 785.516 Q50.3358 782.365 50.3358 776.668 Q50.3358 774.122 49.6674 771.639 Q48.9672 769.124 47.5986 766.642 L53.0094 766.642 Q54.1552 769.093 54.7281 771.734 Q55.3011 774.344 55.3011 777.304 Q55.3011 785.357 50.2403 790.099 Q45.1796 794.842 36.5859 794.842 Q27.8649 794.842 22.8678 790.068 Q17.8707 785.262 17.8707 776.922 Q17.8707 774.217 18.4436 771.639 Q18.9847 769.061 20.0987 766.642 Z\" fill=\"#000000\" fill-rule=\"evenodd\" fill-opacity=\"1\" /><path clip-path=\"url(#clip0000)\" d=\"M 0 0 M36.4586 744.298 Q36.4586 751.396 38.0818 754.133 Q39.7051 756.87 43.62 756.87 Q46.7392 756.87 48.5852 754.833 Q50.3995 752.765 50.3995 749.232 Q50.3995 744.362 46.962 741.434 Q43.4927 738.474 37.7635 738.474 L36.4586 738.474 L36.4586 744.298 M34.0396 732.617 L54.378 732.617 L54.378 738.474 L48.9672 738.474 Q52.2137 740.479 53.7733 743.471 Q55.3011 746.463 55.3011 750.791 Q55.3011 756.266 52.2455 759.512 Q49.1582 762.727 44.0019 762.727 Q37.9863 762.727 34.9308 758.717 Q31.8753 754.674 31.8753 746.685 L31.8753 738.474 L31.3023 738.474 Q27.2601 738.474 25.064 741.147 Q22.836 743.789 22.836 748.595 Q22.836 751.651 23.568 754.547 Q24.3001 757.443 25.7642 760.117 L20.3533 760.117 Q19.112 756.902 18.5073 753.879 Q17.8707 750.855 17.8707 747.99 Q17.8707 740.256 21.8811 736.437 Q25.8915 732.617 34.0396 732.617 Z\" fill=\"#000000\" fill-rule=\"evenodd\" fill-opacity=\"1\" /><path clip-path=\"url(#clip0000)\" d=\"M 0 0 M8.6086 720.681 L18.7301 720.681 L18.7301 708.618 L23.2816 708.618 L23.2816 720.681 L42.6333 720.681 Q46.9938 720.681 48.2351 719.504 Q49.4764 718.294 49.4764 714.634 L49.4764 708.618 L54.378 708.618 L54.378 714.634 Q54.378 721.414 51.8636 723.992 Q49.3173 726.57 42.6333 726.57 L23.2816 726.57 L23.2816 730.867 L18.7301 730.867 L18.7301 726.57 L8.6086 726.57 L8.6086 720.681 Z\" fill=\"#000000\" fill-rule=\"evenodd\" fill-opacity=\"1\" /><path clip-path=\"url(#clip0000)\" d=\"M 0 0 M22.836 688.662 Q22.836 693.373 26.5281 696.11 Q30.1883 698.847 36.5859 698.847 Q42.9834 698.847 46.6755 696.142 Q50.3358 693.404 50.3358 688.662 Q50.3358 683.983 46.6437 681.246 Q42.9516 678.509 36.5859 678.509 Q30.252 678.509 26.5599 681.246 Q22.836 683.983 22.836 688.662 M17.8707 688.662 Q17.8707 681.023 22.836 676.663 Q27.8012 672.302 36.5859 672.302 Q45.3387 672.302 50.3358 676.663 Q55.3011 681.023 55.3011 688.662 Q55.3011 696.333 50.3358 700.693 Q45.3387 705.022 36.5859 705.022 Q27.8012 705.022 22.836 700.693 Q17.8707 696.333 17.8707 688.662 Z\" fill=\"#000000\" fill-rule=\"evenodd\" fill-opacity=\"1\" /><path clip-path=\"url(#clip0000)\" d=\"M 0 0 M24.2046 645.502 Q23.6317 646.489 23.377 647.667 Q23.0906 648.813 23.0906 650.213 Q23.0906 655.178 26.3371 657.852 Q29.5518 660.494 35.5992 660.494 L54.378 660.494 L54.378 666.382 L18.7301 666.382 L18.7301 660.494 L24.2682 660.494 Q21.0217 658.648 19.4621 655.688 Q17.8707 652.728 17.8707 648.494 Q17.8707 647.89 17.9662 647.158 Q18.0299 646.425 18.189 645.534 L24.2046 645.502 Z\" fill=\"#000000\" fill-rule=\"evenodd\" fill-opacity=\"1\" /><path clip-path=\"url(#clip0000)\" d=\"M 0 0 M19.7804 616.634 L25.3186 616.634 Q24.0454 619.117 23.4089 621.79 Q22.7723 624.464 22.7723 627.328 Q22.7723 631.689 24.1091 633.885 Q25.4459 636.049 28.1195 636.049 Q30.1565 636.049 31.3342 634.49 Q32.48 632.93 33.5303 628.22 L33.9759 626.214 Q35.3127 619.976 37.7635 617.366 Q40.1825 614.724 44.543 614.724 Q49.5083 614.724 52.4047 618.671 Q55.3011 622.586 55.3011 629.461 Q55.3011 632.325 54.7281 635.445 Q54.1871 638.532 53.0731 641.969 L47.0256 641.969 Q48.7126 638.723 49.5719 635.572 Q50.3995 632.421 50.3995 629.334 Q50.3995 625.196 48.999 622.968 Q47.5667 620.74 44.9886 620.74 Q42.6015 620.74 41.3283 622.363 Q40.0552 623.955 38.8775 629.397 L38.4001 631.434 Q37.2543 636.877 34.899 639.296 Q32.5118 641.715 28.3741 641.715 Q23.3452 641.715 20.608 638.15 Q17.8707 634.585 17.8707 628.029 Q17.8707 624.782 18.3481 621.918 Q18.8256 619.053 19.7804 616.634 Z\" fill=\"#000000\" fill-rule=\"evenodd\" fill-opacity=\"1\" /><polyline clip-path=\"url(#clip0002)\" style=\"stroke:#009af9; stroke-width:4; stroke-opacity:1; fill:none\" points=\"\n",
       "  324.974,492.654 363.245,336.667 401.517,336.667 439.789,523.852 478.06,523.852 516.332,523.852 554.604,523.852 592.875,679.839 631.147,617.444 669.418,617.444 \n",
       "  707.69,711.037 745.962,711.037 784.233,711.037 822.505,648.642 860.777,617.444 899.048,555.049 937.32,648.642 975.592,679.839 1013.86,679.839 1052.14,679.839 \n",
       "  1090.41,804.629 1128.68,867.024 1166.95,804.629 1205.22,929.419 1243.49,867.024 1281.76,867.024 1320.04,867.024 1358.31,742.234 1396.58,773.432 1434.85,648.642 \n",
       "  1473.12,648.642 1511.39,711.037 1549.67,711.037 1587.94,711.037 1626.21,617.444 1664.48,586.247 1702.75,555.049 1741.02,555.049 1779.3,492.654 1817.57,492.654 \n",
       "  1855.84,492.654 1894.11,399.062 1932.38,461.457 1970.65,461.457 2008.93,523.852 2047.2,430.259 2085.47,430.259 2123.74,430.259 2162.01,461.457 2200.28,523.852 \n",
       "  2238.56,555.049 2276.83,555.049 2315.1,555.049 2353.37,555.049 2391.64,555.049 2429.91,617.444 2468.19,742.234 2506.46,929.419 2544.73,960.617 2583,1054.21 \n",
       "  2621.27,1054.21 2659.54,1054.21 2697.82,929.419 2736.09,773.432 2774.36,586.247 2812.63,523.852 2850.9,555.049 2889.17,555.049 2927.45,555.049 2965.72,149.481 \n",
       "  3003.99,274.271 3042.26,243.074 3080.53,305.469 3118.8,243.074 3157.08,243.074 3195.35,243.074 3233.62,118.284 3271.89,149.481 3310.16,149.481 3348.43,243.074 \n",
       "  3386.71,274.271 3424.98,274.271 3463.25,274.271 3501.52,211.876 3539.79,87.0864 3578.06,118.284 3616.34,118.284 3654.61,118.284 3692.88,118.284 3731.15,118.284 \n",
       "  3769.42,149.481 \n",
       "  \"/>\n",
       "<polyline clip-path=\"url(#clip0002)\" style=\"stroke:#e26f46; stroke-width:4; stroke-opacity:1; fill:none\" points=\"\n",
       "  324.974,648.642 363.245,648.642 401.517,648.642 439.789,648.642 478.06,648.642 516.332,648.642 554.604,648.642 592.875,648.642 631.147,648.642 669.418,648.642 \n",
       "  707.69,648.642 745.962,648.642 784.233,648.642 822.505,648.642 860.777,648.642 899.048,648.642 937.32,648.642 975.592,648.642 1013.86,648.642 1052.14,648.642 \n",
       "  1090.41,648.642 1128.68,648.642 1166.95,648.642 1205.22,648.642 1243.49,648.642 1281.76,648.642 1320.04,648.642 1358.31,648.642 1396.58,648.642 1434.85,648.642 \n",
       "  1473.12,648.642 1511.39,648.642 1549.67,648.642 1587.94,648.642 1626.21,648.642 1664.48,648.642 1702.75,648.642 1741.02,648.642 1779.3,648.642 1817.57,648.642 \n",
       "  1855.84,648.642 1894.11,648.642 1932.38,648.642 1970.65,648.642 2008.93,648.642 2047.2,648.642 2085.47,648.642 2123.74,648.642 2162.01,648.642 2200.28,648.642 \n",
       "  2238.56,648.642 2276.83,648.642 2315.1,648.642 2353.37,648.642 2391.64,648.642 2429.91,648.642 2468.19,648.642 2506.46,648.642 2544.73,648.642 2583,648.642 \n",
       "  2621.27,648.642 2659.54,648.642 2697.82,648.642 2736.09,648.642 2774.36,648.642 2812.63,648.642 2850.9,648.642 2889.17,648.642 2927.45,648.642 2965.72,648.642 \n",
       "  3003.99,648.642 3042.26,648.642 3080.53,648.642 3118.8,648.642 3157.08,648.642 3195.35,648.642 3233.62,648.642 3271.89,648.642 3310.16,648.642 3348.43,648.642 \n",
       "  3386.71,648.642 3424.98,648.642 3463.25,648.642 3501.52,648.642 3539.79,648.642 3578.06,648.642 3616.34,648.642 3654.61,648.642 3692.88,648.642 3731.15,648.642 \n",
       "  3769.42,648.642 \n",
       "  \"/>\n",
       "<polyline clip-path=\"url(#clip0002)\" style=\"stroke:#3da44d; stroke-width:4; stroke-opacity:1; fill:none\" points=\"\n",
       "  324.974,473.936 363.245,448.978 401.517,424.02 439.789,436.499 478.06,442.738 516.332,448.978 554.604,486.415 592.875,555.049 631.147,573.768 669.418,592.486 \n",
       "  707.69,629.923 745.962,667.36 784.233,673.6 822.505,679.839 860.777,679.839 899.048,648.642 937.32,636.163 975.592,629.923 1013.86,636.163 1052.14,648.642 \n",
       "  1090.41,698.558 1128.68,742.234 1166.95,767.192 1205.22,817.108 1243.49,854.545 1281.76,867.024 1320.04,867.024 1358.31,854.545 1396.58,823.348 1434.85,779.671 \n",
       "  1473.12,735.995 1511.39,704.797 1549.67,698.558 1587.94,686.079 1626.21,679.839 1664.48,667.36 1702.75,636.163 1741.02,604.965 1779.3,561.289 1817.57,536.331 \n",
       "  1855.84,517.612 1894.11,486.415 1932.38,467.696 1970.65,461.457 2008.93,467.696 2047.2,455.217 2085.47,461.457 2123.74,455.217 2162.01,455.217 2200.28,455.217 \n",
       "  2238.56,480.175 2276.83,505.133 2315.1,530.091 2353.37,548.81 2391.64,555.049 2429.91,567.528 2468.19,604.965 2506.46,679.839 2544.73,760.953 2583,860.785 \n",
       "  2621.27,948.138 2659.54,1010.53 2697.82,1010.53 2736.09,973.096 2774.36,879.503 2812.63,773.432 2850.9,673.6 2889.17,598.726 2927.45,555.049 2965.72,467.696 \n",
       "  3003.99,417.78 3042.26,355.385 3080.53,305.469 3118.8,243.074 3157.08,261.792 3195.35,255.553 3233.62,230.595 3271.89,199.397 3310.16,180.679 3348.43,180.679 \n",
       "  3386.71,186.918 3424.98,218.116 3463.25,243.074 3501.52,255.553 3539.79,224.355 3578.06,193.158 3616.34,161.96 3654.61,130.763 3692.88,112.044 3731.15,118.284 \n",
       "  3769.42,124.523 \n",
       "  \"/>\n",
       "<polyline clip-path=\"url(#clip0002)\" style=\"stroke:#c271d2; stroke-width:4; stroke-opacity:1; fill:none\" points=\"\n",
       "  324.974,679.839 363.245,657.065 401.517,635.227 439.789,622.748 478.06,612.141 516.332,601.845 554.604,591.55 592.875,586.247 631.147,583.127 669.418,583.127 \n",
       "  707.69,585.311 745.962,586.247 784.233,587.183 822.505,586.247 860.777,584.063 899.048,580.007 937.32,577.823 975.592,577.823 1013.86,575.951 1052.14,575.951 \n",
       "  1090.41,580.007 1128.68,586.247 1166.95,593.422 1205.22,605.901 1243.49,615.26 1281.76,627.739 1320.04,641.466 1358.31,650.825 1396.58,661.121 1434.85,666.424 \n",
       "  1473.12,671.416 1511.39,683.895 1549.67,696.374 1587.94,702.613 1626.21,705.733 1664.48,707.917 1702.75,708.853 1741.02,704.797 1779.3,700.741 1817.57,696.374 \n",
       "  1855.84,689.198 1894.11,678.903 1932.38,670.48 1970.65,664.24 2008.93,661.121 2047.2,657.065 2085.47,649.578 2123.74,641.466 2162.01,633.979 2200.28,628.987 \n",
       "  2238.56,620.564 2276.83,610.269 2315.1,601.845 2353.37,589.366 2391.64,579.071 2429.91,570.648 2468.19,566.592 2506.46,572.832 2544.73,579.071 2583,592.486 \n",
       "  2621.27,605.901 2659.54,617.444 2697.82,624.62 2736.09,626.803 2774.36,625.867 2812.63,623.684 2850.9,623.684 2889.17,623.684 2927.45,625.867 2965.72,614.324 \n",
       "  3003.99,607.149 3042.26,601.845 3080.53,596.542 3118.8,589.366 3157.08,580.007 3195.35,573.768 3233.62,563.472 3271.89,554.113 3310.16,543.506 3348.43,534.147 \n",
       "  3386.71,524.788 3424.98,515.428 3463.25,506.069 3501.52,494.838 3539.79,479.239 3578.06,462.392 3616.34,441.802 3654.61,414.66 3692.88,386.583 3731.15,355.385 \n",
       "  3769.42,325.123 \n",
       "  \"/>\n",
       "<polyline clip-path=\"url(#clip0002)\" style=\"stroke:#ac8d18; stroke-width:4; stroke-opacity:1; fill:none\" points=\"\n",
       "  324.974,959.681 363.245,950.945 401.517,945.018 439.789,941.274 478.06,937.531 516.332,934.723 554.604,931.291 592.875,929.419 631.147,923.492 669.418,916.628 \n",
       "  707.69,910.701 745.962,904.773 784.233,898.846 822.505,894.478 860.777,888.862 899.048,881.999 937.32,877.007 975.592,872.64 1013.86,867.96 1052.14,862.033 \n",
       "  1090.41,858.289 1128.68,854.545 1166.95,849.242 1205.22,844.874 1243.49,839.57 1281.76,834.579 1320.04,829.275 1358.31,823.66 1396.58,818.98 1434.85,813.052 \n",
       "  1473.12,807.125 1511.39,801.821 1549.67,796.518 1587.94,791.838 1626.21,785.599 1664.48,779.047 1702.75,772.184 1741.02,765.008 1779.3,757.521 1817.57,749.722 \n",
       "  1855.84,743.482 1894.11,736.619 1932.38,731.627 1970.65,725.699 2008.93,720.396 2047.2,714.156 2085.47,707.917 2123.74,701.365 2162.01,696.062 2200.28,691.694 \n",
       "  2238.56,687.015 2276.83,681.711 2315.1,676.095 2353.37,670.48 2391.64,664.864 2429.91,660.185 2468.19,656.753 2506.46,654.569 2544.73,653.009 2583,652.697 \n",
       "  2621.27,652.385 2659.54,652.697 2697.82,652.073 2736.09,650.825 2774.36,648.018 2812.63,644.586 2850.9,641.466 2889.17,638.346 2927.45,636.475 2965.72,631.171 \n",
       "  3003.99,627.115 3042.26,622.436 3080.53,618.068 3118.8,613.388 3157.08,608.397 3195.35,603.717 3233.62,596.854 3271.89,591.238 3310.16,584.375 3348.43,579.695 \n",
       "  3386.71,575.015 3424.98,570.648 3463.25,567.216 3501.52,563.472 3539.79,557.857 3578.06,553.801 3616.34,549.746 3654.61,546.002 3692.88,542.258 3731.15,538.202 \n",
       "  3769.42,534.147 \n",
       "  \"/>\n",
       "<polyline clip-path=\"url(#clip0002)\" style=\"stroke:#00a9ad; stroke-width:4; stroke-opacity:1; fill:none\" points=\"\n",
       "  324.974,1415.16 363.245,1410.17 401.517,1405.49 439.789,1401.44 478.06,1396.13 516.332,1390.83 554.604,1384.59 592.875,1376.79 631.147,1369.3 669.418,1361.82 \n",
       "  707.69,1354.64 745.962,1345.28 784.233,1335.3 822.505,1323.76 860.777,1311.9 899.048,1299.73 937.32,1288.19 975.592,1276.65 1013.86,1263.23 1052.14,1252 \n",
       "  1090.41,1243.58 1128.68,1236.4 1166.95,1228.6 1205.22,1221.43 1243.49,1213.63 1281.76,1206.14 1320.04,1198.97 1358.31,1189.29 1396.58,1179.94 1434.85,1169.95 \n",
       "  1473.12,1159.66 1511.39,1149.67 1549.67,1141.87 1587.94,1135.63 1626.21,1128.46 1664.48,1121.91 1702.75,1115.04 1741.02,1108.18 1779.3,1101.32 1817.57,1093.52 \n",
       "  1855.84,1086.34 1894.11,1078.23 1932.38,1070.43 1970.65,1063.26 2008.93,1056.71 2047.2,1049.84 2085.47,1042.35 2123.74,1033.93 2162.01,1026.13 2200.28,1018.96 \n",
       "  2238.56,1011.78 2276.83,1004.92 2315.1,997.742 2353.37,991.19 2391.64,985.263 2429.91,979.959 2468.19,975.28 2506.46,970.6 2544.73,966.232 2583,962.489 \n",
       "  2621.27,958.121 2659.54,954.377 2697.82,949.698 2736.09,944.394 2774.36,938.155 2812.63,931.915 2850.9,925.676 2889.17,919.436 2927.45,913.197 2965.72,903.525 \n",
       "  3003.99,894.79 3042.26,886.055 3080.53,877.319 3118.8,868.584 3157.08,861.097 3195.35,853.609 3233.62,845.498 3271.89,837.387 3310.16,828.963 3348.43,821.164 \n",
       "  3386.71,813.676 3424.98,805.877 3463.25,799.326 3501.52,793.086 3539.79,786.535 3578.06,779.671 3616.34,772.808 3654.61,765.944 3692.88,758.769 3731.15,752.217 \n",
       "  3769.42,746.914 \n",
       "  \"/>\n",
       "<path clip-path=\"url(#clip0000)\" d=\"\n",
       "M339.24 645.324 L989.966 645.324 L989.966 221.964 L339.24 221.964  Z\n",
       "  \" fill=\"#ffffff\" fill-rule=\"evenodd\" fill-opacity=\"1\"/>\n",
       "<polyline clip-path=\"url(#clip0000)\" style=\"stroke:#000000; stroke-width:4; stroke-opacity:1; fill:none\" points=\"\n",
       "  339.24,645.324 989.966,645.324 989.966,221.964 339.24,221.964 339.24,645.324 \n",
       "  \"/>\n",
       "<polyline clip-path=\"url(#clip0000)\" style=\"stroke:#009af9; stroke-width:4; stroke-opacity:1; fill:none\" points=\"\n",
       "  378.44,282.444 613.64,282.444 \n",
       "  \"/>\n",
       "<path clip-path=\"url(#clip0000)\" d=\"M 0 0 M666.034 299.724 L652.84 265.164 L657.724 265.164 L668.673 294.261 L679.646 265.164 L684.507 265.164 L671.335 299.724 L666.034 299.724 Z\" fill=\"#000000\" fill-rule=\"evenodd\" fill-opacity=\"1\" /><path clip-path=\"url(#clip0000)\" d=\"M 0 0 M697.076 286.692 Q691.914 286.692 689.923 287.872 Q687.933 289.053 687.933 291.9 Q687.933 294.169 689.414 295.511 Q690.919 296.831 693.488 296.831 Q697.03 296.831 699.159 294.331 Q701.312 291.807 701.312 287.641 L701.312 286.692 L697.076 286.692 M705.571 284.933 L705.571 299.724 L701.312 299.724 L701.312 295.789 Q699.854 298.15 697.678 299.284 Q695.502 300.395 692.354 300.395 Q688.372 300.395 686.011 298.173 Q683.673 295.928 683.673 292.178 Q683.673 287.803 686.59 285.581 Q689.53 283.358 695.34 283.358 L701.312 283.358 L701.312 282.942 Q701.312 280.002 699.368 278.405 Q697.446 276.784 693.951 276.784 Q691.729 276.784 689.622 277.317 Q687.516 277.849 685.571 278.914 L685.571 274.979 Q687.909 274.076 690.108 273.636 Q692.307 273.173 694.391 273.173 Q700.016 273.173 702.794 276.09 Q705.571 279.007 705.571 284.933 Z\" fill=\"#000000\" fill-rule=\"evenodd\" fill-opacity=\"1\" /><path clip-path=\"url(#clip0000)\" d=\"M 0 0 M710.039 263.706 L714.298 263.706 L714.298 299.724 L710.039 299.724 L710.039 263.706 Z\" fill=\"#000000\" fill-rule=\"evenodd\" fill-opacity=\"1\" /><path clip-path=\"url(#clip0000)\" d=\"M 0 0 M718.326 289.493 L718.326 273.798 L722.585 273.798 L722.585 289.331 Q722.585 293.011 724.02 294.863 Q725.455 296.692 728.326 296.692 Q731.775 296.692 733.766 294.493 Q735.779 292.294 735.779 288.497 L735.779 273.798 L740.039 273.798 L740.039 299.724 L735.779 299.724 L735.779 295.743 Q734.229 298.104 732.168 299.261 Q730.131 300.395 727.423 300.395 Q722.955 300.395 720.641 297.618 Q718.326 294.84 718.326 289.493 M729.043 273.173 L729.043 273.173 Z\" fill=\"#000000\" fill-rule=\"evenodd\" fill-opacity=\"1\" /><path clip-path=\"url(#clip0000)\" d=\"M 0 0 M766.682 285.696 L766.682 287.78 L747.099 287.78 Q747.377 292.178 749.738 294.493 Q752.122 296.784 756.358 296.784 Q758.812 296.784 761.103 296.182 Q763.418 295.581 765.687 294.377 L765.687 298.405 Q763.395 299.377 760.988 299.886 Q758.58 300.395 756.103 300.395 Q749.9 300.395 746.266 296.784 Q742.654 293.173 742.654 287.016 Q742.654 280.65 746.08 276.923 Q749.529 273.173 755.363 273.173 Q760.594 273.173 763.627 276.553 Q766.682 279.909 766.682 285.696 M762.423 284.446 Q762.377 280.951 760.455 278.868 Q758.557 276.784 755.409 276.784 Q751.844 276.784 749.691 278.798 Q747.562 280.812 747.238 284.47 L762.423 284.446 Z\" fill=\"#000000\" fill-rule=\"evenodd\" fill-opacity=\"1\" /><polyline clip-path=\"url(#clip0000)\" style=\"stroke:#e26f46; stroke-width:4; stroke-opacity:1; fill:none\" points=\"\n",
       "  378.44,342.924 613.64,342.924 \n",
       "  \"/>\n",
       "<path clip-path=\"url(#clip0000)\" d=\"M 0 0 M657.123 356.315 L657.123 370.065 L652.84 370.065 L652.84 334.278 L657.123 334.278 L657.123 338.213 Q658.465 335.899 660.502 334.788 Q662.562 333.653 665.409 333.653 Q670.132 333.653 673.071 337.403 Q676.034 341.153 676.034 347.264 Q676.034 353.375 673.071 357.125 Q670.132 360.875 665.409 360.875 Q662.562 360.875 660.502 359.764 Q658.465 358.63 657.123 356.315 M671.613 347.264 Q671.613 342.565 669.669 339.903 Q667.747 337.218 664.368 337.218 Q660.988 337.218 659.044 339.903 Q657.123 342.565 657.123 347.264 Q657.123 351.963 659.044 354.649 Q660.988 357.311 664.368 357.311 Q667.747 357.311 669.669 354.649 Q671.613 351.963 671.613 347.264 Z\" fill=\"#000000\" fill-rule=\"evenodd\" fill-opacity=\"1\" /><path clip-path=\"url(#clip0000)\" d=\"M 0 0 M690.548 337.264 Q687.122 337.264 685.132 339.95 Q683.141 342.612 683.141 347.264 Q683.141 351.917 685.108 354.602 Q687.099 357.264 690.548 357.264 Q693.951 357.264 695.942 354.579 Q697.932 351.894 697.932 347.264 Q697.932 342.658 695.942 339.973 Q693.951 337.264 690.548 337.264 M690.548 333.653 Q696.104 333.653 699.275 337.264 Q702.446 340.875 702.446 347.264 Q702.446 353.63 699.275 357.264 Q696.104 360.875 690.548 360.875 Q684.97 360.875 681.798 357.264 Q678.65 353.63 678.65 347.264 Q678.65 340.875 681.798 337.264 Q684.97 333.653 690.548 333.653 Z\" fill=\"#000000\" fill-rule=\"evenodd\" fill-opacity=\"1\" /><path clip-path=\"url(#clip0000)\" d=\"M 0 0 M723.442 335.042 L723.442 339.07 Q721.636 338.144 719.692 337.681 Q717.747 337.218 715.664 337.218 Q712.493 337.218 710.895 338.19 Q709.321 339.163 709.321 341.107 Q709.321 342.588 710.456 343.445 Q711.59 344.278 715.016 345.042 L716.474 345.366 Q721.011 346.338 722.909 348.121 Q724.83 349.88 724.83 353.051 Q724.83 356.662 721.96 358.769 Q719.113 360.875 714.113 360.875 Q712.03 360.875 709.761 360.459 Q707.516 360.065 705.016 359.255 L705.016 354.857 Q707.377 356.084 709.669 356.709 Q711.96 357.311 714.206 357.311 Q717.215 357.311 718.835 356.292 Q720.455 355.25 720.455 353.375 Q720.455 351.639 719.275 350.713 Q718.118 349.787 714.159 348.931 L712.678 348.584 Q708.719 347.75 706.96 346.038 Q705.201 344.301 705.201 341.292 Q705.201 337.635 707.794 335.644 Q710.386 333.653 715.155 333.653 Q717.516 333.653 719.599 334.001 Q721.682 334.348 723.442 335.042 Z\" fill=\"#000000\" fill-rule=\"evenodd\" fill-opacity=\"1\" /><path clip-path=\"url(#clip0000)\" d=\"M 0 0 M729.298 334.278 L733.557 334.278 L733.557 360.204 L729.298 360.204 L729.298 334.278 M729.298 324.186 L733.557 324.186 L733.557 329.579 L729.298 329.579 L729.298 324.186 Z\" fill=\"#000000\" fill-rule=\"evenodd\" fill-opacity=\"1\" /><path clip-path=\"url(#clip0000)\" d=\"M 0 0 M742.238 326.917 L742.238 334.278 L751.011 334.278 L751.011 337.588 L742.238 337.588 L742.238 351.662 Q742.238 354.834 743.094 355.737 Q743.974 356.639 746.636 356.639 L751.011 356.639 L751.011 360.204 L746.636 360.204 Q741.705 360.204 739.83 358.375 Q737.955 356.524 737.955 351.662 L737.955 337.588 L734.83 337.588 L734.83 334.278 L737.955 334.278 L737.955 326.917 L742.238 326.917 Z\" fill=\"#000000\" fill-rule=\"evenodd\" fill-opacity=\"1\" /><path clip-path=\"url(#clip0000)\" d=\"M 0 0 M755.478 334.278 L759.738 334.278 L759.738 360.204 L755.478 360.204 L755.478 334.278 M755.478 324.186 L759.738 324.186 L759.738 329.579 L755.478 329.579 L755.478 324.186 Z\" fill=\"#000000\" fill-rule=\"evenodd\" fill-opacity=\"1\" /><path clip-path=\"url(#clip0000)\" d=\"M 0 0 M774.252 337.264 Q770.826 337.264 768.835 339.95 Q766.844 342.612 766.844 347.264 Q766.844 351.917 768.812 354.602 Q770.802 357.264 774.252 357.264 Q777.654 357.264 779.645 354.579 Q781.636 351.894 781.636 347.264 Q781.636 342.658 779.645 339.973 Q777.654 337.264 774.252 337.264 M774.252 333.653 Q779.807 333.653 782.978 337.264 Q786.15 340.875 786.15 347.264 Q786.15 353.63 782.978 357.264 Q779.807 360.875 774.252 360.875 Q768.673 360.875 765.502 357.264 Q762.353 353.63 762.353 347.264 Q762.353 340.875 765.502 337.264 Q768.673 333.653 774.252 333.653 Z\" fill=\"#000000\" fill-rule=\"evenodd\" fill-opacity=\"1\" /><path clip-path=\"url(#clip0000)\" d=\"M 0 0 M812.168 344.556 L812.168 360.204 L807.909 360.204 L807.909 344.695 Q807.909 341.014 806.474 339.186 Q805.038 337.357 802.168 337.357 Q798.719 337.357 796.728 339.556 Q794.738 341.755 794.738 345.551 L794.738 360.204 L790.455 360.204 L790.455 334.278 L794.738 334.278 L794.738 338.306 Q796.265 335.968 798.325 334.811 Q800.409 333.653 803.117 333.653 Q807.585 333.653 809.876 336.431 Q812.168 339.186 812.168 344.556 Z\" fill=\"#000000\" fill-rule=\"evenodd\" fill-opacity=\"1\" /><polyline clip-path=\"url(#clip0000)\" style=\"stroke:#3da44d; stroke-width:4; stroke-opacity:1; fill:none\" points=\"\n",
       "  378.44,403.404 613.64,403.404 \n",
       "  \"/>\n",
       "<path clip-path=\"url(#clip0000)\" d=\"M 0 0 M654.298 386.124 L672.655 386.124 L672.655 390.059 L658.581 390.059 L658.581 398.531 Q659.599 398.184 660.618 398.022 Q661.636 397.837 662.655 397.837 Q668.442 397.837 671.821 401.008 Q675.201 404.18 675.201 409.596 Q675.201 415.175 671.729 418.277 Q668.257 421.355 661.937 421.355 Q659.761 421.355 657.493 420.985 Q655.248 420.615 652.84 419.874 L652.84 415.175 Q654.923 416.309 657.146 416.865 Q659.368 417.42 661.845 417.42 Q665.849 417.42 668.187 415.314 Q670.525 413.207 670.525 409.596 Q670.525 405.985 668.187 403.879 Q665.849 401.772 661.845 401.772 Q659.97 401.772 658.095 402.189 Q656.243 402.605 654.298 403.485 L654.298 386.124 Z\" fill=\"#000000\" fill-rule=\"evenodd\" fill-opacity=\"1\" /><path clip-path=\"url(#clip0000)\" d=\"M 0 0 M677.516 405.8 L689.993 405.8 L689.993 409.596 L677.516 409.596 L677.516 405.8 Z\" fill=\"#000000\" fill-rule=\"evenodd\" fill-opacity=\"1\" /><path clip-path=\"url(#clip0000)\" d=\"M 0 0 M711.52 398.693 L711.52 384.666 L715.78 384.666 L715.78 420.684 L711.52 420.684 L711.52 416.795 Q710.178 419.11 708.118 420.244 Q706.081 421.355 703.21 421.355 Q698.511 421.355 695.548 417.605 Q692.608 413.855 692.608 407.744 Q692.608 401.633 695.548 397.883 Q698.511 394.133 703.21 394.133 Q706.081 394.133 708.118 395.268 Q710.178 396.379 711.52 398.693 M697.007 407.744 Q697.007 412.443 698.928 415.129 Q700.872 417.791 704.252 417.791 Q707.631 417.791 709.576 415.129 Q711.52 412.443 711.52 407.744 Q711.52 403.045 709.576 400.383 Q707.631 397.698 704.252 397.698 Q700.872 397.698 698.928 400.383 Q697.007 403.045 697.007 407.744 Z\" fill=\"#000000\" fill-rule=\"evenodd\" fill-opacity=\"1\" /><path clip-path=\"url(#clip0000)\" d=\"M 0 0 M732.03 407.652 Q726.867 407.652 724.877 408.832 Q722.886 410.013 722.886 412.86 Q722.886 415.129 724.368 416.471 Q725.872 417.791 728.442 417.791 Q731.983 417.791 734.113 415.291 Q736.266 412.767 736.266 408.601 L736.266 407.652 L732.03 407.652 M740.525 405.893 L740.525 420.684 L736.266 420.684 L736.266 416.749 Q734.807 419.11 732.631 420.244 Q730.455 421.355 727.307 421.355 Q723.326 421.355 720.965 419.133 Q718.627 416.888 718.627 413.138 Q718.627 408.763 721.543 406.541 Q724.483 404.318 730.293 404.318 L736.266 404.318 L736.266 403.902 Q736.266 400.962 734.321 399.365 Q732.4 397.744 728.905 397.744 Q726.682 397.744 724.576 398.277 Q722.469 398.809 720.525 399.874 L720.525 395.939 Q722.863 395.036 725.062 394.596 Q727.261 394.133 729.344 394.133 Q734.969 394.133 737.747 397.05 Q740.525 399.967 740.525 405.893 Z\" fill=\"#000000\" fill-rule=\"evenodd\" fill-opacity=\"1\" /><path clip-path=\"url(#clip0000)\" d=\"M 0 0 M755.779 423.091 Q753.974 427.721 752.261 429.133 Q750.548 430.545 747.678 430.545 L744.275 430.545 L744.275 426.98 L746.775 426.98 Q748.534 426.98 749.506 426.147 Q750.478 425.314 751.659 422.212 L752.423 420.267 L741.937 394.758 L746.451 394.758 L754.553 415.036 L762.654 394.758 L767.168 394.758 L755.779 423.091 Z\" fill=\"#000000\" fill-rule=\"evenodd\" fill-opacity=\"1\" /><path clip-path=\"url(#clip0000)\" d=\"M 0 0 M798.487 407.652 Q793.325 407.652 791.335 408.832 Q789.344 410.013 789.344 412.86 Q789.344 415.129 790.825 416.471 Q792.33 417.791 794.9 417.791 Q798.441 417.791 800.571 415.291 Q802.724 412.767 802.724 408.601 L802.724 407.652 L798.487 407.652 M806.983 405.893 L806.983 420.684 L802.724 420.684 L802.724 416.749 Q801.265 419.11 799.089 420.244 Q796.913 421.355 793.765 421.355 Q789.784 421.355 787.423 419.133 Q785.085 416.888 785.085 413.138 Q785.085 408.763 788.001 406.541 Q790.941 404.318 796.751 404.318 L802.724 404.318 L802.724 403.902 Q802.724 400.962 800.779 399.365 Q798.858 397.744 795.363 397.744 Q793.14 397.744 791.034 398.277 Q788.927 398.809 786.983 399.874 L786.983 395.939 Q789.321 395.036 791.52 394.596 Q793.719 394.133 795.802 394.133 Q801.427 394.133 804.205 397.05 Q806.983 399.967 806.983 405.893 Z\" fill=\"#000000\" fill-rule=\"evenodd\" fill-opacity=\"1\" /><path clip-path=\"url(#clip0000)\" d=\"M 0 0 M808.395 394.758 L812.909 394.758 L821.011 416.517 L829.112 394.758 L833.626 394.758 L823.904 420.684 L818.117 420.684 L808.395 394.758 Z\" fill=\"#000000\" fill-rule=\"evenodd\" fill-opacity=\"1\" /><path clip-path=\"url(#clip0000)\" d=\"M 0 0 M855.154 407.42 Q855.154 402.791 853.233 400.244 Q851.334 397.698 847.885 397.698 Q844.459 397.698 842.538 400.244 Q840.64 402.791 840.64 407.42 Q840.64 412.027 842.538 414.573 Q844.459 417.119 847.885 417.119 Q851.334 417.119 853.233 414.573 Q855.154 412.027 855.154 407.42 M859.413 417.467 Q859.413 424.087 856.473 427.304 Q853.533 430.545 847.469 430.545 Q845.223 430.545 843.233 430.198 Q841.242 429.874 839.367 429.179 L839.367 425.036 Q841.242 426.054 843.071 426.541 Q844.899 427.027 846.797 427.027 Q850.987 427.027 853.071 424.828 Q855.154 422.652 855.154 418.23 L855.154 416.124 Q853.834 418.416 851.774 419.55 Q849.714 420.684 846.844 420.684 Q842.075 420.684 839.159 417.05 Q836.242 413.416 836.242 407.42 Q836.242 401.402 839.159 397.768 Q842.075 394.133 846.844 394.133 Q849.714 394.133 851.774 395.268 Q853.834 396.402 855.154 398.693 L855.154 394.758 L859.413 394.758 L859.413 417.467 Z\" fill=\"#000000\" fill-rule=\"evenodd\" fill-opacity=\"1\" /><polyline clip-path=\"url(#clip0000)\" style=\"stroke:#c271d2; stroke-width:4; stroke-opacity:1; fill:none\" points=\"\n",
       "  378.44,463.884 613.64,463.884 \n",
       "  \"/>\n",
       "<path clip-path=\"url(#clip0000)\" d=\"M 0 0 M668.465 462.53 Q671.821 463.248 673.696 465.516 Q675.595 467.785 675.595 471.118 Q675.595 476.234 672.076 479.034 Q668.558 481.835 662.076 481.835 Q659.9 481.835 657.585 481.396 Q655.294 480.979 652.84 480.122 L652.84 475.609 Q654.785 476.743 657.099 477.322 Q659.414 477.9 661.937 477.9 Q666.335 477.9 668.627 476.164 Q670.942 474.428 670.942 471.118 Q670.942 468.062 668.789 466.349 Q666.659 464.613 662.84 464.613 L658.812 464.613 L658.812 460.771 L663.025 460.771 Q666.474 460.771 668.303 459.405 Q670.132 458.016 670.132 455.423 Q670.132 452.761 668.234 451.349 Q666.359 449.914 662.84 449.914 Q660.919 449.914 658.72 450.331 Q656.521 450.748 653.882 451.627 L653.882 447.461 Q656.544 446.72 658.859 446.349 Q661.197 445.979 663.257 445.979 Q668.581 445.979 671.683 448.41 Q674.784 450.817 674.784 454.937 Q674.784 457.808 673.141 459.798 Q671.497 461.766 668.465 462.53 Z\" fill=\"#000000\" fill-rule=\"evenodd\" fill-opacity=\"1\" /><path clip-path=\"url(#clip0000)\" d=\"M 0 0 M690.664 449.683 Q687.053 449.683 685.224 453.248 Q683.419 456.789 683.419 463.919 Q683.419 471.025 685.224 474.59 Q687.053 478.132 690.664 478.132 Q694.298 478.132 696.104 474.59 Q697.932 471.025 697.932 463.919 Q697.932 456.789 696.104 453.248 Q694.298 449.683 690.664 449.683 M690.664 445.979 Q696.474 445.979 699.53 450.586 Q702.608 455.169 702.608 463.919 Q702.608 472.646 699.53 477.252 Q696.474 481.835 690.664 481.835 Q684.854 481.835 681.775 477.252 Q678.72 472.646 678.72 463.919 Q678.72 455.169 681.775 450.586 Q684.854 445.979 690.664 445.979 Z\" fill=\"#000000\" fill-rule=\"evenodd\" fill-opacity=\"1\" /><path clip-path=\"url(#clip0000)\" d=\"M 0 0 M704.923 466.28 L717.4 466.28 L717.4 470.076 L704.923 470.076 L704.923 466.28 Z\" fill=\"#000000\" fill-rule=\"evenodd\" fill-opacity=\"1\" /><path clip-path=\"url(#clip0000)\" d=\"M 0 0 M738.928 459.173 L738.928 445.146 L743.187 445.146 L743.187 481.164 L738.928 481.164 L738.928 477.275 Q737.585 479.59 735.525 480.724 Q733.488 481.835 730.617 481.835 Q725.918 481.835 722.955 478.085 Q720.016 474.335 720.016 468.224 Q720.016 462.113 722.955 458.363 Q725.918 454.613 730.617 454.613 Q733.488 454.613 735.525 455.748 Q737.585 456.859 738.928 459.173 M724.414 468.224 Q724.414 472.923 726.335 475.609 Q728.28 478.271 731.659 478.271 Q735.039 478.271 736.983 475.609 Q738.928 472.923 738.928 468.224 Q738.928 463.525 736.983 460.863 Q735.039 458.178 731.659 458.178 Q728.28 458.178 726.335 460.863 Q724.414 463.525 724.414 468.224 Z\" fill=\"#000000\" fill-rule=\"evenodd\" fill-opacity=\"1\" /><path clip-path=\"url(#clip0000)\" d=\"M 0 0 M759.437 468.132 Q754.275 468.132 752.284 469.312 Q750.293 470.493 750.293 473.34 Q750.293 475.609 751.775 476.951 Q753.279 478.271 755.849 478.271 Q759.39 478.271 761.52 475.771 Q763.673 473.247 763.673 469.081 L763.673 468.132 L759.437 468.132 M767.932 466.373 L767.932 481.164 L763.673 481.164 L763.673 477.229 Q762.215 479.59 760.039 480.724 Q757.863 481.835 754.715 481.835 Q750.733 481.835 748.372 479.613 Q746.034 477.368 746.034 473.618 Q746.034 469.243 748.951 467.021 Q751.891 464.798 757.701 464.798 L763.673 464.798 L763.673 464.382 Q763.673 461.442 761.728 459.845 Q759.807 458.224 756.312 458.224 Q754.09 458.224 751.983 458.757 Q749.877 459.289 747.932 460.354 L747.932 456.419 Q750.27 455.516 752.469 455.076 Q754.668 454.613 756.752 454.613 Q762.377 454.613 765.154 457.53 Q767.932 460.447 767.932 466.373 Z\" fill=\"#000000\" fill-rule=\"evenodd\" fill-opacity=\"1\" /><path clip-path=\"url(#clip0000)\" d=\"M 0 0 M783.187 483.571 Q781.381 488.201 779.668 489.613 Q777.955 491.025 775.085 491.025 L771.682 491.025 L771.682 487.46 L774.182 487.46 Q775.941 487.46 776.914 486.627 Q777.886 485.794 779.066 482.692 L779.83 480.747 L769.344 455.238 L773.858 455.238 L781.96 475.516 L790.062 455.238 L794.575 455.238 L783.187 483.571 Z\" fill=\"#000000\" fill-rule=\"evenodd\" fill-opacity=\"1\" /><path clip-path=\"url(#clip0000)\" d=\"M 0 0 M825.895 468.132 Q820.733 468.132 818.742 469.312 Q816.751 470.493 816.751 473.34 Q816.751 475.609 818.233 476.951 Q819.737 478.271 822.307 478.271 Q825.848 478.271 827.978 475.771 Q830.131 473.247 830.131 469.081 L830.131 468.132 L825.895 468.132 M834.39 466.373 L834.39 481.164 L830.131 481.164 L830.131 477.229 Q828.673 479.59 826.497 480.724 Q824.321 481.835 821.173 481.835 Q817.191 481.835 814.83 479.613 Q812.492 477.368 812.492 473.618 Q812.492 469.243 815.409 467.021 Q818.348 464.798 824.159 464.798 L830.131 464.798 L830.131 464.382 Q830.131 461.442 828.186 459.845 Q826.265 458.224 822.77 458.224 Q820.548 458.224 818.441 458.757 Q816.335 459.289 814.39 460.354 L814.39 456.419 Q816.728 455.516 818.927 455.076 Q821.126 454.613 823.21 454.613 Q828.835 454.613 831.612 457.53 Q834.39 460.447 834.39 466.373 Z\" fill=\"#000000\" fill-rule=\"evenodd\" fill-opacity=\"1\" /><path clip-path=\"url(#clip0000)\" d=\"M 0 0 M835.802 455.238 L840.316 455.238 L848.418 476.997 L856.52 455.238 L861.033 455.238 L851.311 481.164 L845.524 481.164 L835.802 455.238 Z\" fill=\"#000000\" fill-rule=\"evenodd\" fill-opacity=\"1\" /><path clip-path=\"url(#clip0000)\" d=\"M 0 0 M882.561 467.9 Q882.561 463.271 880.64 460.724 Q878.742 458.178 875.293 458.178 Q871.867 458.178 869.945 460.724 Q868.047 463.271 868.047 467.9 Q868.047 472.507 869.945 475.053 Q871.867 477.599 875.293 477.599 Q878.742 477.599 880.64 475.053 Q882.561 472.507 882.561 467.9 M886.82 477.947 Q886.82 484.567 883.881 487.784 Q880.941 491.025 874.876 491.025 Q872.631 491.025 870.64 490.678 Q868.649 490.354 866.774 489.659 L866.774 485.516 Q868.649 486.534 870.478 487.021 Q872.307 487.507 874.205 487.507 Q878.394 487.507 880.478 485.308 Q882.561 483.132 882.561 478.71 L882.561 476.604 Q881.242 478.896 879.181 480.03 Q877.121 481.164 874.251 481.164 Q869.482 481.164 866.566 477.53 Q863.649 473.896 863.649 467.9 Q863.649 461.882 866.566 458.248 Q869.482 454.613 874.251 454.613 Q877.121 454.613 879.181 455.748 Q881.242 456.882 882.561 459.173 L882.561 455.238 L886.82 455.238 L886.82 477.947 Z\" fill=\"#000000\" fill-rule=\"evenodd\" fill-opacity=\"1\" /><polyline clip-path=\"url(#clip0000)\" style=\"stroke:#ac8d18; stroke-width:4; stroke-opacity:1; fill:none\" points=\"\n",
       "  378.44,524.364 613.64,524.364 \n",
       "  \"/>\n",
       "<path clip-path=\"url(#clip0000)\" d=\"M 0 0 M655.062 540.927 L655.062 536.667 Q656.822 537.501 658.627 537.94 Q660.433 538.38 662.169 538.38 Q666.798 538.38 669.229 535.278 Q671.683 532.153 672.03 525.811 Q670.687 527.802 668.627 528.866 Q666.567 529.931 664.067 529.931 Q658.882 529.931 655.849 526.806 Q652.84 523.658 652.84 518.218 Q652.84 512.894 655.988 509.677 Q659.136 506.459 664.368 506.459 Q670.363 506.459 673.511 511.066 Q676.683 515.649 676.683 524.399 Q676.683 532.57 672.794 537.454 Q668.928 542.315 662.377 542.315 Q660.618 542.315 658.812 541.968 Q657.007 541.621 655.062 540.927 M664.368 526.274 Q667.516 526.274 669.345 524.121 Q671.196 521.968 671.196 518.218 Q671.196 514.491 669.345 512.339 Q667.516 510.163 664.368 510.163 Q661.22 510.163 659.368 512.339 Q657.539 514.491 657.539 518.218 Q657.539 521.968 659.368 524.121 Q661.22 526.274 664.368 526.274 Z\" fill=\"#000000\" fill-rule=\"evenodd\" fill-opacity=\"1\" /><path clip-path=\"url(#clip0000)\" d=\"M 0 0 M691.752 510.163 Q688.141 510.163 686.312 513.728 Q684.507 517.269 684.507 524.399 Q684.507 531.505 686.312 535.07 Q688.141 538.612 691.752 538.612 Q695.386 538.612 697.192 535.07 Q699.02 531.505 699.02 524.399 Q699.02 517.269 697.192 513.728 Q695.386 510.163 691.752 510.163 M691.752 506.459 Q697.562 506.459 700.618 511.066 Q703.696 515.649 703.696 524.399 Q703.696 533.126 700.618 537.732 Q697.562 542.315 691.752 542.315 Q685.942 542.315 682.863 537.732 Q679.808 533.126 679.808 524.399 Q679.808 515.649 682.863 511.066 Q685.942 506.459 691.752 506.459 Z\" fill=\"#000000\" fill-rule=\"evenodd\" fill-opacity=\"1\" /><path clip-path=\"url(#clip0000)\" d=\"M 0 0 M706.011 526.76 L718.488 526.76 L718.488 530.556 L706.011 530.556 L706.011 526.76 Z\" fill=\"#000000\" fill-rule=\"evenodd\" fill-opacity=\"1\" /><path clip-path=\"url(#clip0000)\" d=\"M 0 0 M740.016 519.653 L740.016 505.626 L744.275 505.626 L744.275 541.644 L740.016 541.644 L740.016 537.755 Q738.673 540.07 736.613 541.204 Q734.576 542.315 731.705 542.315 Q727.006 542.315 724.043 538.565 Q721.104 534.815 721.104 528.704 Q721.104 522.593 724.043 518.843 Q727.006 515.093 731.705 515.093 Q734.576 515.093 736.613 516.228 Q738.673 517.339 740.016 519.653 M725.502 528.704 Q725.502 533.403 727.423 536.089 Q729.367 538.751 732.747 538.751 Q736.127 538.751 738.071 536.089 Q740.016 533.403 740.016 528.704 Q740.016 524.005 738.071 521.343 Q736.127 518.658 732.747 518.658 Q729.367 518.658 727.423 521.343 Q725.502 524.005 725.502 528.704 Z\" fill=\"#000000\" fill-rule=\"evenodd\" fill-opacity=\"1\" /><path clip-path=\"url(#clip0000)\" d=\"M 0 0 M760.525 528.612 Q755.363 528.612 753.372 529.792 Q751.381 530.973 751.381 533.82 Q751.381 536.089 752.863 537.431 Q754.367 538.751 756.937 538.751 Q760.478 538.751 762.608 536.251 Q764.761 533.727 764.761 529.561 L764.761 528.612 L760.525 528.612 M769.02 526.853 L769.02 541.644 L764.761 541.644 L764.761 537.709 Q763.302 540.07 761.127 541.204 Q758.951 542.315 755.803 542.315 Q751.821 542.315 749.46 540.093 Q747.122 537.848 747.122 534.098 Q747.122 529.723 750.039 527.501 Q752.978 525.278 758.789 525.278 L764.761 525.278 L764.761 524.862 Q764.761 521.922 762.816 520.325 Q760.895 518.704 757.4 518.704 Q755.178 518.704 753.071 519.237 Q750.965 519.769 749.02 520.834 L749.02 516.899 Q751.358 515.996 753.557 515.556 Q755.756 515.093 757.84 515.093 Q763.465 515.093 766.242 518.01 Q769.02 520.927 769.02 526.853 Z\" fill=\"#000000\" fill-rule=\"evenodd\" fill-opacity=\"1\" /><path clip-path=\"url(#clip0000)\" d=\"M 0 0 M784.275 544.051 Q782.469 548.681 780.756 550.093 Q779.043 551.505 776.173 551.505 L772.77 551.505 L772.77 547.94 L775.27 547.94 Q777.029 547.94 778.001 547.107 Q778.974 546.274 780.154 543.172 L780.918 541.227 L770.432 515.718 L774.946 515.718 L783.048 535.996 L791.15 515.718 L795.663 515.718 L784.275 544.051 Z\" fill=\"#000000\" fill-rule=\"evenodd\" fill-opacity=\"1\" /><path clip-path=\"url(#clip0000)\" d=\"M 0 0 M826.983 528.612 Q821.821 528.612 819.83 529.792 Q817.839 530.973 817.839 533.82 Q817.839 536.089 819.321 537.431 Q820.825 538.751 823.395 538.751 Q826.936 538.751 829.066 536.251 Q831.219 533.727 831.219 529.561 L831.219 528.612 L826.983 528.612 M835.478 526.853 L835.478 541.644 L831.219 541.644 L831.219 537.709 Q829.76 540.07 827.585 541.204 Q825.409 542.315 822.261 542.315 Q818.279 542.315 815.918 540.093 Q813.58 537.848 813.58 534.098 Q813.58 529.723 816.497 527.501 Q819.436 525.278 825.247 525.278 L831.219 525.278 L831.219 524.862 Q831.219 521.922 829.274 520.325 Q827.353 518.704 823.858 518.704 Q821.636 518.704 819.529 519.237 Q817.423 519.769 815.478 520.834 L815.478 516.899 Q817.816 515.996 820.015 515.556 Q822.214 515.093 824.298 515.093 Q829.923 515.093 832.7 518.01 Q835.478 520.927 835.478 526.853 Z\" fill=\"#000000\" fill-rule=\"evenodd\" fill-opacity=\"1\" /><path clip-path=\"url(#clip0000)\" d=\"M 0 0 M836.89 515.718 L841.404 515.718 L849.506 537.477 L857.608 515.718 L862.121 515.718 L852.399 541.644 L846.612 541.644 L836.89 515.718 Z\" fill=\"#000000\" fill-rule=\"evenodd\" fill-opacity=\"1\" /><path clip-path=\"url(#clip0000)\" d=\"M 0 0 M883.649 528.38 Q883.649 523.751 881.728 521.204 Q879.83 518.658 876.381 518.658 Q872.955 518.658 871.033 521.204 Q869.135 523.751 869.135 528.38 Q869.135 532.987 871.033 535.533 Q872.955 538.079 876.381 538.079 Q879.83 538.079 881.728 535.533 Q883.649 532.987 883.649 528.38 M887.908 538.427 Q887.908 545.047 884.969 548.264 Q882.029 551.505 875.964 551.505 Q873.719 551.505 871.728 551.158 Q869.737 550.834 867.862 550.139 L867.862 545.996 Q869.737 547.014 871.566 547.501 Q873.394 547.987 875.293 547.987 Q879.482 547.987 881.566 545.788 Q883.649 543.612 883.649 539.19 L883.649 537.084 Q882.33 539.376 880.269 540.51 Q878.209 541.644 875.339 541.644 Q870.57 541.644 867.654 538.01 Q864.737 534.376 864.737 528.38 Q864.737 522.362 867.654 518.728 Q870.57 515.093 875.339 515.093 Q878.209 515.093 880.269 516.228 Q882.33 517.362 883.649 519.653 L883.649 515.718 L887.908 515.718 L887.908 538.427 Z\" fill=\"#000000\" fill-rule=\"evenodd\" fill-opacity=\"1\" /><polyline clip-path=\"url(#clip0000)\" style=\"stroke:#00a9ad; stroke-width:4; stroke-opacity:1; fill:none\" points=\"\n",
       "  378.44,584.844 613.64,584.844 \n",
       "  \"/>\n",
       "<path clip-path=\"url(#clip0000)\" d=\"M 0 0 M653.511 598.189 L661.15 598.189 L661.15 571.823 L652.84 573.49 L652.84 569.231 L661.104 567.564 L665.78 567.564 L665.78 598.189 L673.419 598.189 L673.419 602.124 L653.511 602.124 L653.511 598.189 Z\" fill=\"#000000\" fill-rule=\"evenodd\" fill-opacity=\"1\" /><path clip-path=\"url(#clip0000)\" d=\"M 0 0 M688.488 585.712 Q685.155 585.712 683.233 587.495 Q681.335 589.277 681.335 592.402 Q681.335 595.527 683.233 597.309 Q685.155 599.092 688.488 599.092 Q691.821 599.092 693.743 597.309 Q695.664 595.504 695.664 592.402 Q695.664 589.277 693.743 587.495 Q691.845 585.712 688.488 585.712 M683.812 583.721 Q680.803 582.981 679.113 580.921 Q677.446 578.86 677.446 575.897 Q677.446 571.754 680.386 569.346 Q683.349 566.939 688.488 566.939 Q693.65 566.939 696.59 569.346 Q699.53 571.754 699.53 575.897 Q699.53 578.86 697.84 580.921 Q696.173 582.981 693.187 583.721 Q696.567 584.508 698.442 586.8 Q700.34 589.092 700.34 592.402 Q700.34 597.425 697.261 600.11 Q694.206 602.795 688.488 602.795 Q682.771 602.795 679.692 600.11 Q676.636 597.425 676.636 592.402 Q676.636 589.092 678.534 586.8 Q680.433 584.508 683.812 583.721 M682.099 576.337 Q682.099 579.022 683.766 580.527 Q685.456 582.032 688.488 582.032 Q691.497 582.032 693.187 580.527 Q694.9 579.022 694.9 576.337 Q694.9 573.652 693.187 572.147 Q691.497 570.643 688.488 570.643 Q685.456 570.643 683.766 572.147 Q682.099 573.652 682.099 576.337 Z\" fill=\"#000000\" fill-rule=\"evenodd\" fill-opacity=\"1\" /><path clip-path=\"url(#clip0000)\" d=\"M 0 0 M715.409 570.643 Q711.798 570.643 709.969 574.208 Q708.164 577.749 708.164 584.879 Q708.164 591.985 709.969 595.55 Q711.798 599.092 715.409 599.092 Q719.043 599.092 720.849 595.55 Q722.678 591.985 722.678 584.879 Q722.678 577.749 720.849 574.208 Q719.043 570.643 715.409 570.643 M715.409 566.939 Q721.219 566.939 724.275 571.546 Q727.354 576.129 727.354 584.879 Q727.354 593.606 724.275 598.212 Q721.219 602.795 715.409 602.795 Q709.599 602.795 706.52 598.212 Q703.465 593.606 703.465 584.879 Q703.465 576.129 706.52 571.546 Q709.599 566.939 715.409 566.939 Z\" fill=\"#000000\" fill-rule=\"evenodd\" fill-opacity=\"1\" /><path clip-path=\"url(#clip0000)\" d=\"M 0 0 M729.668 587.24 L742.145 587.24 L742.145 591.036 L729.668 591.036 L729.668 587.24 Z\" fill=\"#000000\" fill-rule=\"evenodd\" fill-opacity=\"1\" /><path clip-path=\"url(#clip0000)\" d=\"M 0 0 M763.673 580.133 L763.673 566.106 L767.932 566.106 L767.932 602.124 L763.673 602.124 L763.673 598.235 Q762.33 600.55 760.27 601.684 Q758.233 602.795 755.363 602.795 Q750.664 602.795 747.701 599.045 Q744.761 595.295 744.761 589.184 Q744.761 583.073 747.701 579.323 Q750.664 575.573 755.363 575.573 Q758.233 575.573 760.27 576.708 Q762.33 577.819 763.673 580.133 M749.159 589.184 Q749.159 593.883 751.08 596.569 Q753.025 599.231 756.404 599.231 Q759.784 599.231 761.728 596.569 Q763.673 593.883 763.673 589.184 Q763.673 584.485 761.728 581.823 Q759.784 579.138 756.404 579.138 Q753.025 579.138 751.08 581.823 Q749.159 584.485 749.159 589.184 Z\" fill=\"#000000\" fill-rule=\"evenodd\" fill-opacity=\"1\" /><path clip-path=\"url(#clip0000)\" d=\"M 0 0 M784.182 589.092 Q779.02 589.092 777.029 590.272 Q775.039 591.453 775.039 594.3 Q775.039 596.569 776.52 597.911 Q778.025 599.231 780.594 599.231 Q784.136 599.231 786.265 596.731 Q788.418 594.207 788.418 590.041 L788.418 589.092 L784.182 589.092 M792.677 587.333 L792.677 602.124 L788.418 602.124 L788.418 598.189 Q786.96 600.55 784.784 601.684 Q782.608 602.795 779.46 602.795 Q775.478 602.795 773.117 600.573 Q770.779 598.328 770.779 594.578 Q770.779 590.203 773.696 587.981 Q776.636 585.758 782.446 585.758 L788.418 585.758 L788.418 585.342 Q788.418 582.402 786.474 580.805 Q784.552 579.184 781.057 579.184 Q778.835 579.184 776.728 579.717 Q774.622 580.249 772.677 581.314 L772.677 577.379 Q775.015 576.476 777.214 576.036 Q779.414 575.573 781.497 575.573 Q787.122 575.573 789.9 578.49 Q792.677 581.407 792.677 587.333 Z\" fill=\"#000000\" fill-rule=\"evenodd\" fill-opacity=\"1\" /><path clip-path=\"url(#clip0000)\" d=\"M 0 0 M807.932 604.531 Q806.126 609.161 804.413 610.573 Q802.7 611.985 799.83 611.985 L796.427 611.985 L796.427 608.42 L798.927 608.42 Q800.687 608.42 801.659 607.587 Q802.631 606.754 803.812 603.652 L804.575 601.707 L794.089 576.198 L798.603 576.198 L806.705 596.476 L814.807 576.198 L819.321 576.198 L807.932 604.531 Z\" fill=\"#000000\" fill-rule=\"evenodd\" fill-opacity=\"1\" /><path clip-path=\"url(#clip0000)\" d=\"M 0 0 M850.64 589.092 Q845.478 589.092 843.487 590.272 Q841.497 591.453 841.497 594.3 Q841.497 596.569 842.978 597.911 Q844.483 599.231 847.052 599.231 Q850.594 599.231 852.723 596.731 Q854.876 594.207 854.876 590.041 L854.876 589.092 L850.64 589.092 M859.135 587.333 L859.135 602.124 L854.876 602.124 L854.876 598.189 Q853.418 600.55 851.242 601.684 Q849.066 602.795 845.918 602.795 Q841.936 602.795 839.575 600.573 Q837.237 598.328 837.237 594.578 Q837.237 590.203 840.154 587.981 Q843.094 585.758 848.904 585.758 L854.876 585.758 L854.876 585.342 Q854.876 582.402 852.932 580.805 Q851.01 579.184 847.515 579.184 Q845.293 579.184 843.186 579.717 Q841.08 580.249 839.135 581.314 L839.135 577.379 Q841.473 576.476 843.672 576.036 Q845.871 575.573 847.955 575.573 Q853.58 575.573 856.358 578.49 Q859.135 581.407 859.135 587.333 Z\" fill=\"#000000\" fill-rule=\"evenodd\" fill-opacity=\"1\" /><path clip-path=\"url(#clip0000)\" d=\"M 0 0 M860.547 576.198 L865.061 576.198 L873.163 597.957 L881.265 576.198 L885.779 576.198 L876.057 602.124 L870.27 602.124 L860.547 576.198 Z\" fill=\"#000000\" fill-rule=\"evenodd\" fill-opacity=\"1\" /><path clip-path=\"url(#clip0000)\" d=\"M 0 0 M907.306 588.86 Q907.306 584.231 905.385 581.684 Q903.487 579.138 900.038 579.138 Q896.612 579.138 894.691 581.684 Q892.793 584.231 892.793 588.86 Q892.793 593.467 894.691 596.013 Q896.612 598.559 900.038 598.559 Q903.487 598.559 905.385 596.013 Q907.306 593.467 907.306 588.86 M911.566 598.907 Q911.566 605.527 908.626 608.744 Q905.686 611.985 899.621 611.985 Q897.376 611.985 895.385 611.638 Q893.394 611.314 891.519 610.619 L891.519 606.476 Q893.394 607.494 895.223 607.981 Q897.052 608.467 898.95 608.467 Q903.14 608.467 905.223 606.268 Q907.306 604.092 907.306 599.67 L907.306 597.564 Q905.987 599.856 903.927 600.99 Q901.867 602.124 898.996 602.124 Q894.228 602.124 891.311 598.49 Q888.394 594.856 888.394 588.86 Q888.394 582.842 891.311 579.208 Q894.228 575.573 898.996 575.573 Q901.867 575.573 903.927 576.708 Q905.987 577.842 907.306 580.133 L907.306 576.198 L911.566 576.198 L911.566 598.907 Z\" fill=\"#000000\" fill-rule=\"evenodd\" fill-opacity=\"1\" /></svg>\n"
      ]
     },
     "execution_count": 14,
     "metadata": {},
     "output_type": "execute_result"
    }
   ],
   "source": [
    "using Plots\n",
    "count = size(df)[1]\n",
    "days_back = 90\n",
    "rows = count-days_back:count\n",
    "dates = format_dates( df[rows,2] , \"m/d/yy\")\n",
    "\n",
    "gr()\n",
    "plot(   dates, # x-axis: dates\n",
    "        [  df[rows,3] position_column[rows] averages005[rows] averages030[rows] averages090[rows] averages180[rows] \n",
    "        ], # y-axis\n",
    "    label    = \n",
    "        [ columns[3] \"position\" \"5-day avg\" \"30-day avg\" \"90-day avg\" \"180-day avg\"  \"\"  ],\n",
    "    legend   =:topleft, \n",
    "              # :right, :left, :top, :bottom, :inside, :best, :legend, :topright, :topleft, :bottomleft, :bottomright\n",
    "    xlabel   = \"time\",\n",
    "    ylabel   = \"indicators\",\n",
    "    size     = (980, 400), # width, height\n",
    "    layout = (1, 1) # number of graphs: vertically, horizontally\n",
    "    )"
   ]
  },
  {
   "cell_type": "markdown",
   "metadata": {},
   "source": [
    "[back to top](#Table-of-Contents)\n",
    "<hr/>\n",
    "\n",
    "## Save DataFrame to CSV file"
   ]
  },
  {
   "cell_type": "markdown",
   "metadata": {},
   "source": [
    "### Save: Describe before saving"
   ]
  },
  {
   "cell_type": "code",
   "execution_count": 15,
   "metadata": {
    "ExecuteTime": {
     "end_time": "2020-11-30T19:45:35.009000-05:00",
     "start_time": "2020-12-01T00:44:28.142Z"
    }
   },
   "outputs": [
    {
     "data": {
      "text/html": [
       "<table class=\"data-frame\"><thead><tr><th></th><th>variable</th><th>mean</th><th>min</th><th>median</th><th>max</th><th>nunique</th><th>nmissing</th><th>eltype</th></tr><tr><th></th><th>Symbol</th><th>Union…</th><th>Any</th><th>Union…</th><th>Any</th><th>Union…</th><th>Nothing</th><th>DataType</th></tr></thead><tbody><p>9 rows × 8 columns</p><tr><th>1</th><td>Day</td><td>731214.0</td><td>724670</td><td>731214.0</td><td>737759</td><td></td><td></td><td>Int64</td></tr><tr><th>2</th><td>Date</td><td></td><td>1985-01-29</td><td></td><td>2020-11-30</td><td>13090</td><td></td><td>Date</td></tr><tr><th>3</th><td>Value</td><td>-47.8137</td><td>-128.0</td><td>-49.0</td><td>127.0</td><td></td><td></td><td>Float64</td></tr><tr><th>4</th><td>Original</td><td>10328.3</td><td>1251.21</td><td>10202.9</td><td>30116.5</td><td></td><td></td><td>Float64</td></tr><tr><th>5</th><td>Avg005</td><td>-47.8133</td><td>-128.0</td><td>-49.0</td><td>126.2</td><td></td><td></td><td>Float64</td></tr><tr><th>6</th><td>Avg030</td><td>-47.8084</td><td>-128.0</td><td>-48.65</td><td>119.37</td><td></td><td></td><td>Float64</td></tr><tr><th>7</th><td>Avg090</td><td>-47.7703</td><td>-127.97</td><td>-48.135</td><td>115.23</td><td></td><td></td><td>Float64</td></tr><tr><th>8</th><td>Avg180</td><td>-47.6966</td><td>-127.66</td><td>-48.325</td><td>108.24</td><td></td><td></td><td>Float64</td></tr><tr><th>9</th><td>Avg365</td><td>-47.4453</td><td>-127.01</td><td>-48.36</td><td>100.78</td><td></td><td></td><td>Float64</td></tr></tbody></table>"
      ],
      "text/latex": [
       "\\begin{tabular}{r|cccccccc}\n",
       "\t& variable & mean & min & median & max & nunique & nmissing & eltype\\\\\n",
       "\t\\hline\n",
       "\t& Symbol & Union… & Any & Union… & Any & Union… & Nothing & DataType\\\\\n",
       "\t\\hline\n",
       "\t1 & Day & 731214.0 & 724670 & 731214.0 & 737759 &  &  & Int64 \\\\\n",
       "\t2 & Date &  & 1985-01-29 &  & 2020-11-30 & 13090 &  & Date \\\\\n",
       "\t3 & Value & -47.8137 & -128.0 & -49.0 & 127.0 &  &  & Float64 \\\\\n",
       "\t4 & Original & 10328.3 & 1251.21 & 10202.9 & 30116.5 &  &  & Float64 \\\\\n",
       "\t5 & Avg005 & -47.8133 & -128.0 & -49.0 & 126.2 &  &  & Float64 \\\\\n",
       "\t6 & Avg030 & -47.8084 & -128.0 & -48.65 & 119.37 &  &  & Float64 \\\\\n",
       "\t7 & Avg090 & -47.7703 & -127.97 & -48.135 & 115.23 &  &  & Float64 \\\\\n",
       "\t8 & Avg180 & -47.6966 & -127.66 & -48.325 & 108.24 &  &  & Float64 \\\\\n",
       "\t9 & Avg365 & -47.4453 & -127.01 & -48.36 & 100.78 &  &  & Float64 \\\\\n",
       "\\end{tabular}\n"
      ],
      "text/plain": [
       "9×8 DataFrame. Omitted printing of 2 columns\n",
       "│ Row │ variable │ mean     │ min        │ median   │ max        │ nunique │\n",
       "│     │ \u001b[90mSymbol\u001b[39m   │ \u001b[90mUnion…\u001b[39m   │ \u001b[90mAny\u001b[39m        │ \u001b[90mUnion…\u001b[39m   │ \u001b[90mAny\u001b[39m        │ \u001b[90mUnion…\u001b[39m  │\n",
       "├─────┼──────────┼──────────┼────────────┼──────────┼────────────┼─────────┤\n",
       "│ 1   │ Day      │ 731214.0 │ 724670     │ 731214.0 │ 737759     │         │\n",
       "│ 2   │ Date     │          │ 1985-01-29 │          │ 2020-11-30 │ 13090   │\n",
       "│ 3   │ Value    │ -47.8137 │ -128.0     │ -49.0    │ 127.0      │         │\n",
       "│ 4   │ Original │ 10328.3  │ 1251.21    │ 10202.9  │ 30116.5    │         │\n",
       "│ 5   │ Avg005   │ -47.8133 │ -128.0     │ -49.0    │ 126.2      │         │\n",
       "│ 6   │ Avg030   │ -47.8084 │ -128.0     │ -48.65   │ 119.37     │         │\n",
       "│ 7   │ Avg090   │ -47.7703 │ -127.97    │ -48.135  │ 115.23     │         │\n",
       "│ 8   │ Avg180   │ -47.6966 │ -127.66    │ -48.325  │ 108.24     │         │\n",
       "│ 9   │ Avg365   │ -47.4453 │ -127.01    │ -48.36   │ 100.78     │         │"
      ]
     },
     "execution_count": 15,
     "metadata": {},
     "output_type": "execute_result"
    }
   ],
   "source": [
    "using Statistics\n",
    "describe(df)"
   ]
  },
  {
   "cell_type": "markdown",
   "metadata": {},
   "source": [
    "### Write as CSV file"
   ]
  },
  {
   "cell_type": "code",
   "execution_count": 16,
   "metadata": {
    "ExecuteTime": {
     "end_time": "2020-11-30T19:45:36.389000-05:00",
     "start_time": "2020-12-01T00:44:28.145Z"
    }
   },
   "outputs": [],
   "source": [
    "save_dataset(df, dataset_file_name, \"../Data/processed/\" );"
   ]
  },
  {
   "cell_type": "code",
   "execution_count": null,
   "metadata": {},
   "outputs": [],
   "source": []
  }
 ],
 "metadata": {
  "kernelspec": {
   "display_name": "Julia 1.4.2",
   "language": "julia",
   "name": "julia-1.4"
  },
  "language_info": {
   "file_extension": ".jl",
   "mimetype": "application/julia",
   "name": "julia",
   "version": "1.4.2"
  },
  "toc": {
   "base_numbering": 1,
   "nav_menu": {},
   "number_sections": true,
   "sideBar": true,
   "skip_h1_title": true,
   "title_cell": "Table of Contents",
   "title_sidebar": "Contents",
   "toc_cell": true,
   "toc_position": {
    "height": "calc(100% - 180px)",
    "left": "10px",
    "top": "150px",
    "width": "271px"
   },
   "toc_section_display": true,
   "toc_window_display": true
  },
  "varInspector": {
   "cols": {
    "lenName": 16,
    "lenType": 16,
    "lenVar": 40
   },
   "kernels_config": {
    "python": {
     "delete_cmd_postfix": "",
     "delete_cmd_prefix": "del ",
     "library": "var_list.py",
     "varRefreshCmd": "print(var_dic_list())"
    },
    "r": {
     "delete_cmd_postfix": ") ",
     "delete_cmd_prefix": "rm(",
     "library": "var_list.r",
     "varRefreshCmd": "cat(var_dic_list()) "
    }
   },
   "types_to_exclude": [
    "module",
    "function",
    "builtin_function_or_method",
    "instance",
    "_Feature"
   ],
   "window_display": false
  }
 },
 "nbformat": 4,
 "nbformat_minor": 4
}
