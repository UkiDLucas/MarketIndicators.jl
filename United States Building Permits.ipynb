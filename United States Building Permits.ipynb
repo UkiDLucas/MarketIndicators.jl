{
 "cells": [
  {
   "cell_type": "markdown",
   "metadata": {},
   "source": [
    "# United States Building Permits\n",
    "\n",
    "Building Permits show the absolute number of permits for the construction of new residential buildings issued by the government or other regulatory authority in the given month. The US Census Bureau collects this data by sending requests to regulatory authorities. The monthly survey sampling covers 9000 permit issuing offices across the country. The indicator data is seasonally adjusted.\n",
    "\n",
    "Data on the number of building permits is used by government agencies to develop an index of leading economic indicators. The Fed Council uses the indicator in the analysis of economic conditions both at the national and regional levels. The Department of Housing and Urban Development uses data when preparing housing programs. Banks use statistics in order to assess the demand for mortgage loans in the short and medium term.\n",
    "\n",
    "Economists analyze this indicator along with housing starts. An increase in the number of issued permits indicates an improved economy sentiment and an increase in construction investments. However, if the number of new home constructions is less than building permits, this may indicate unfavorable economic conditions, due to which projects are postponed.\n",
    "\n",
    "The growth in the number of building permits can have a positive effect on dollar quotes.\n",
    "\n",
    "source:\n",
    "- https://www.mql5.com/en/economic-calendar/united-states/building-permits"
   ]
  },
  {
   "cell_type": "code",
   "execution_count": null,
   "metadata": {},
   "outputs": [],
   "source": []
  }
 ],
 "metadata": {
  "kernelspec": {
   "display_name": "Julia 1.5.0",
   "language": "julia",
   "name": "julia-1.5"
  },
  "language_info": {
   "file_extension": ".jl",
   "mimetype": "application/julia",
   "name": "julia",
   "version": "1.5.0"
  },
  "toc": {
   "base_numbering": 1,
   "nav_menu": {},
   "number_sections": true,
   "sideBar": true,
   "skip_h1_title": false,
   "title_cell": "Table of Contents",
   "title_sidebar": "Contents",
   "toc_cell": false,
   "toc_position": {},
   "toc_section_display": true,
   "toc_window_display": false
  }
 },
 "nbformat": 4,
 "nbformat_minor": 4
}
