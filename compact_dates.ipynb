{
 "cells": [
  {
   "cell_type": "markdown",
   "metadata": {
    "toc": true
   },
   "source": [
    "<h1>Table of Contents<span class=\"tocSkip\"></span></h1>\n",
    "<div class=\"toc\"><ul class=\"toc-item\"><li><span><a href=\"#Compact-Date-(e.g.-Feb'73)\" data-toc-modified-id=\"Compact-Date-(e.g.-Feb'73)-1\">Compact Date (e.g. Feb'73)</a></span></li></ul></div>"
   ]
  },
  {
   "cell_type": "markdown",
   "metadata": {},
   "source": [
    "# Compact Date (e.g. Feb'73)\n",
    "\n",
    "- This function should be applied ONLY to a datadest that does not go more granually than ONE MONTH.\n",
    "- Since multiple rows share one year, using just year makes for a choppy graph.\n",
    "- Since days of the month are missing and are are not evenly spaced, it is bad idea to use them.\n",
    "- Since we have all the months they make for acceptable values on the x-axis.\n",
    "- In the future, I might create more granual scale."
   ]
  },
  {
   "cell_type": "raw",
   "metadata": {},
   "source": [
    "include(\"available_datasets.jl\"); \n",
    "dataset_file_name = available_datasets()[5,2]\n",
    "\n",
    "include(\"fetch_dataset.jl\"); \n",
    "df = fetch_dataset(dataset_file_name)\n",
    "df[1]"
   ]
  },
  {
   "cell_type": "code",
   "execution_count": 53,
   "metadata": {},
   "outputs": [
    {
     "name": "stdout",
     "output_type": "stream",
     "text": [
      "usage: \n",
      "                dates = compact_dates( df[1] )\n",
      "        \n"
     ]
    }
   ],
   "source": [
    "using Dates\n",
    "\n",
    "function compact_dates(dates) # df[:,1]  # Array of e.g. \"1948-03-31\"\n",
    "    columns = length(dates)\n",
    "    periods = Array{String, 1}(undef, columns) # define array to hold x-axis values\n",
    "\n",
    "\n",
    "    for i in 1:length(dates)\n",
    "        periods[i] = string( Dates.format(Date(dates[i]), \"u'yy\")  ) # e.g. Mar'48\n",
    "    end\n",
    "\n",
    "    return periods\n",
    "end\n",
    "\n",
    "println(\"usage: \n",
    "                dates = compact_dates( df[1] )\n",
    "        \")"
   ]
  },
  {
   "cell_type": "raw",
   "metadata": {},
   "source": [
    "dates = compact_dates( df[1] )"
   ]
  },
  {
   "cell_type": "code",
   "execution_count": null,
   "metadata": {},
   "outputs": [],
   "source": []
  }
 ],
 "metadata": {
  "kernelspec": {
   "display_name": "Julia 1.5.0",
   "language": "julia",
   "name": "julia-1.5"
  },
  "language_info": {
   "file_extension": ".jl",
   "mimetype": "application/julia",
   "name": "julia",
   "version": "1.5.0"
  },
  "toc": {
   "base_numbering": 1,
   "nav_menu": {},
   "number_sections": false,
   "sideBar": true,
   "skip_h1_title": false,
   "title_cell": "Table of Contents",
   "title_sidebar": "Contents",
   "toc_cell": true,
   "toc_position": {},
   "toc_section_display": true,
   "toc_window_display": true
  }
 },
 "nbformat": 4,
 "nbformat_minor": 4
}
