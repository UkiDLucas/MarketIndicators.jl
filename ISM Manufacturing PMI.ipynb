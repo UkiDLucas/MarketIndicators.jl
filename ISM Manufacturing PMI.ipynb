{
 "cells": [
  {
   "cell_type": "markdown",
   "metadata": {},
   "source": [
    "# ISM Manufacturing PMI\n",
    "\n",
    "ISM Manufacturing PMI reflects business conditions in the US manufacturing sector in the specified month. The Institute of Supply Management (ISM) is a not-for-profit supply management organization in the United States, which has over 40,000 members.\n",
    "\n",
    "The index is calculated based on a survey of representatives of several hundred companies from 18 US industries. Unlike Markit, ISM considers not only private companies but is based on the common NAICS (North American Industrial Classification System) list. Respondents describe the following aspects of their economic activity:\n",
    "\n",
    "- New orders received from clients\n",
    "- Output (speed and level)\n",
    "- Suppliers' delivery times (whether delivery performance is faster or slower)\n",
    "- Company's inventories\n",
    "- Customers' stocks (an approximate estimate of stocks stored by company's clients)\n",
    "- Prices, whether the company is paying for products and services more or less\n",
    "- Backlog of orders (increasing or decreasing)\n",
    "- New export orders, i.e. the number of orders received for further export\n",
    "- Imports — amount of imported materials\n",
    "- Employment in the company\n",
    "\n",
    "The questionnaire features relative estimates: whether the situation is better, worse or has not changed. Responses are estimated taking into account weights of respondent companies.\n",
    "\n",
    "The values are seasonally adjusted. The resulting manufacturing PMI is a composite of five diffuse indices with different weights (New orders, Output, Employment, Supplies and Inventories).\n",
    "\n",
    "Readings above 50 point to improvements in the industry situation. Index below 50 is an indication of contraction in economic conditions of production. The further the value moves from the mark of 50, the greater the rate of situation change.\n",
    "\n",
    "Manufacturing PMI is **one of the most important indicators of economic health**. Although the manufacturing sector is not a very important component of national GDP, it is still an early **indicator of a coming recession or growth**. **Purchasing managers are among the first to know** when the market conditions change, since they work in the short term and can evaluate a trend towards changing economic conditions. The index is released earlier than GDP and reports from the Bureau of Labor Statistics, therefore it is a leading indicator.\n",
    "\n",
    "Manufacturing PMI growth is usually seen as positive for the US dollar.\n",
    "                \n",
    "## Source\n",
    "- https://www.mql5.com/en/economic-calendar/united-states/ism-manufacturing-pmi"
   ]
  },
  {
   "cell_type": "markdown",
   "metadata": {
    "toc": true
   },
   "source": [
    "<h1>Table of Contents<span class=\"tocSkip\"></span></h1>\n",
    "<div class=\"toc\"><ul class=\"toc-item\"><li><span><a href=\"#ISM-Manufacturing-PMI\" data-toc-modified-id=\"ISM-Manufacturing-PMI-1\">ISM Manufacturing PMI</a></span><ul class=\"toc-item\"><li><span><a href=\"#Source\" data-toc-modified-id=\"Source-1.1\">Source</a></span></li></ul></li><li><span><a href=\"#Set-Up\" data-toc-modified-id=\"Set-Up-2\">Set Up</a></span></li><li><span><a href=\"#Read-Data\" data-toc-modified-id=\"Read-Data-3\">Read Data</a></span><ul class=\"toc-item\"><li><span><a href=\"#Sample-the-data\" data-toc-modified-id=\"Sample-the-data-3.1\">Sample the data</a></span></li></ul></li><li><span><a href=\"#Format-Dates\" data-toc-modified-id=\"Format-Dates-4\">Format Dates</a></span></li><li><span><a href=\"#Rata-Die\" data-toc-modified-id=\"Rata-Die-5\">Rata Die</a></span><ul class=\"toc-item\"><li><span><a href=\"#Number-the-columns\" data-toc-modified-id=\"Number-the-columns-5.1\">Number the columns</a></span></li></ul></li><li><span><a href=\"#Extract-only-the-desired-data\" data-toc-modified-id=\"Extract-only-the-desired-data-6\">Extract only the desired data</a></span></li><li><span><a href=\"#Calculate-Averages\" data-toc-modified-id=\"Calculate-Averages-7\">Calculate Averages</a></span></li></ul></div>"
   ]
  },
  {
   "cell_type": "markdown",
   "metadata": {},
   "source": [
    "# Set Up"
   ]
  },
  {
   "cell_type": "code",
   "execution_count": 1,
   "metadata": {},
   "outputs": [
    {
     "name": "stdout",
     "output_type": "stream",
     "text": [
      "\n"
     ]
    }
   ],
   "source": [
    "date_format = \"yyyy.mm.dd\" # 2007.04.05\n",
    "show_help = false\n",
    "include(\"MarketIndicators.jl\") "
   ]
  },
  {
   "cell_type": "markdown",
   "metadata": {},
   "source": [
    "# Read Data"
   ]
  },
  {
   "cell_type": "code",
   "execution_count": 2,
   "metadata": {},
   "outputs": [],
   "source": [
    "#datasets = available_datasets()"
   ]
  },
  {
   "cell_type": "code",
   "execution_count": 3,
   "metadata": {},
   "outputs": [
    {
     "name": "stdout",
     "output_type": "stream",
     "text": [
      "dataset_file_name: united-states.ism-manufacturing-pmi.csv\n",
      "data dimentions: (163, 4)\n",
      "record_count: 163\n"
     ]
    }
   ],
   "source": [
    "dataset_file_name = available_datasets()[10,2] # [row, column]\n",
    "println(\"dataset_file_name: \", dataset_file_name)\n",
    "df = fetch_dataset(dataset_file_name, date_format)\n",
    "println(\"data dimentions: \", size(df) )\n",
    "record_count = size(df)[1]\n",
    "println(\"record_count: \", record_count )"
   ]
  },
  {
   "cell_type": "markdown",
   "metadata": {},
   "source": [
    "## Sample the data"
   ]
  },
  {
   "cell_type": "code",
   "execution_count": 4,
   "metadata": {
    "scrolled": false
   },
   "outputs": [
    {
     "name": "stdout",
     "output_type": "stream",
     "text": [
      "12×4 DataFrame\n",
      "│ Row │ Date       │ ActualValue │ ForecastValue │ PreviousValue │\n",
      "│     │ \u001b[90mDate\u001b[39m       │ \u001b[90mFloat64\u001b[39m     │ \u001b[90mFloat64?\u001b[39m      │ \u001b[90mFloat64?\u001b[39m      │\n",
      "├─────┼────────────┼─────────────┼───────────────┼───────────────┤\n",
      "│ 1   │ 2020-09-01 │ 56.0        │ 53.4          │ 54.2          │\n",
      "│ 2   │ 2019-07-01 │ 51.7        │ 52.4          │ 52.1          │\n",
      "│ 3   │ 2018-05-01 │ 57.3        │ 58.5          │ 59.3          │\n",
      "│ 4   │ 2017-03-01 │ 57.7        │ \u001b[90mmissing\u001b[39m       │ 56.0          │\n",
      "│ 5   │ 2016-01-04 │ 48.2        │ \u001b[90mmissing\u001b[39m       │ 48.6          │\n",
      "│ 6   │ 2014-11-03 │ 59.0        │ \u001b[90mmissing\u001b[39m       │ 56.6          │\n",
      "│ 7   │ 2013-09-03 │ 55.7        │ \u001b[90mmissing\u001b[39m       │ 55.4          │\n",
      "│ 8   │ 2012-07-02 │ 50.2        │ \u001b[90mmissing\u001b[39m       │ 53.5          │\n",
      "│ 9   │ 2011-05-02 │ 60.4        │ \u001b[90mmissing\u001b[39m       │ 61.2          │\n",
      "│ 10  │ 2010-03-01 │ 56.5        │ \u001b[90mmissing\u001b[39m       │ 58.4          │\n",
      "│ 11  │ 2009-01-02 │ 32.4        │ \u001b[90mmissing\u001b[39m       │ 36.2          │\n",
      "│ 12  │ 2007-11-01 │ 50.9        │ \u001b[90mmissing\u001b[39m       │ 52.0          │"
     ]
    },
    {
     "ename": "LoadError",
     "evalue": "UndefVarError: df1 not defined",
     "output_type": "error",
     "traceback": [
      "UndefVarError: df1 not defined",
      "",
      "Stacktrace:",
      " [1] preview_data(::DataFrame) at R:\\MarketIndicators.jl\\MarketIndicators.jl:112",
      " [2] top-level scope at In[4]:1",
      " [3] include_string(::Function, ::Module, ::String, ::String) at .\\loading.jl:1091"
     ]
    }
   ],
   "source": [
    "preview_data(df)"
   ]
  },
  {
   "cell_type": "markdown",
   "metadata": {},
   "source": [
    "# Format Dates"
   ]
  },
  {
   "cell_type": "code",
   "execution_count": 5,
   "metadata": {},
   "outputs": [
    {
     "data": {
      "text/plain": [
       "5-element Array{String,1}:\n",
       " \"20/901\"\n",
       " \"20/803\"\n",
       " \"20/701\"\n",
       " \"20/601\"\n",
       " \"20/501\""
      ]
     },
     "execution_count": 5,
     "metadata": {},
     "output_type": "execute_result"
    }
   ],
   "source": [
    "dates = format_dates( df[:,1] , \"yy/mdd\")\n",
    "dates[1:5]"
   ]
  },
  {
   "cell_type": "markdown",
   "metadata": {},
   "source": [
    "# Rata Die"
   ]
  },
  {
   "cell_type": "code",
   "execution_count": 6,
   "metadata": {
    "scrolled": true
   },
   "outputs": [
    {
     "name": "stdout",
     "output_type": "stream",
     "text": [
      "12×5 DataFrame\n",
      "│ Row │ Rata_Die │ Date       │ ActualValue │ ForecastValue │ PreviousValue │\n",
      "│     │ \u001b[90mInt64\u001b[39m    │ \u001b[90mDate\u001b[39m       │ \u001b[90mFloat64\u001b[39m     │ \u001b[90mFloat64?\u001b[39m      │ \u001b[90mFloat64?\u001b[39m      │\n",
      "├─────┼──────────┼────────────┼─────────────┼───────────────┼───────────────┤\n",
      "│ 1   │ 44073    │ 2020-09-01 │ 56.0        │ 53.4          │ 54.2          │\n",
      "│ 2   │ 43645    │ 2019-07-01 │ 51.7        │ 52.4          │ 52.1          │\n",
      "│ 3   │ 43219    │ 2018-05-01 │ 57.3        │ 58.5          │ 59.3          │\n",
      "│ 4   │ 42793    │ 2017-03-01 │ 57.7        │ \u001b[90mmissing\u001b[39m       │ 56.0          │\n",
      "│ 5   │ 42371    │ 2016-01-04 │ 48.2        │ \u001b[90mmissing\u001b[39m       │ 48.6          │\n",
      "│ 6   │ 41944    │ 2014-11-03 │ 59.0        │ \u001b[90mmissing\u001b[39m       │ 56.6          │\n",
      "│ 7   │ 41518    │ 2013-09-03 │ 55.7        │ \u001b[90mmissing\u001b[39m       │ 55.4          │\n",
      "│ 8   │ 41090    │ 2012-07-02 │ 50.2        │ \u001b[90mmissing\u001b[39m       │ 53.5          │\n",
      "│ 9   │ 40663    │ 2011-05-02 │ 60.4        │ \u001b[90mmissing\u001b[39m       │ 61.2          │\n",
      "│ 10  │ 40236    │ 2010-03-01 │ 56.5        │ \u001b[90mmissing\u001b[39m       │ 58.4          │\n",
      "│ 11  │ 39813    │ 2009-01-02 │ 32.4        │ \u001b[90mmissing\u001b[39m       │ 36.2          │\n",
      "│ 12  │ 39385    │ 2007-11-01 │ 50.9        │ \u001b[90mmissing\u001b[39m       │ 52.0          │"
     ]
    },
    {
     "ename": "LoadError",
     "evalue": "UndefVarError: df1 not defined",
     "output_type": "error",
     "traceback": [
      "UndefVarError: df1 not defined",
      "",
      "Stacktrace:",
      " [1] preview_data(::DataFrame) at R:\\MarketIndicators.jl\\MarketIndicators.jl:112",
      " [2] top-level scope at In[6]:3",
      " [3] include_string(::Function, ::Module, ::String, ::String) at .\\loading.jl:1091"
     ]
    }
   ],
   "source": [
    "insert!(df, 1, zeros(Int64, record_count), :Rata_Die)\n",
    "update_rata_die!(df, 1, 2) # Rata_Die column, Date column\n",
    "preview_data(df)"
   ]
  },
  {
   "cell_type": "code",
   "execution_count": null,
   "metadata": {},
   "outputs": [],
   "source": []
  },
  {
   "cell_type": "markdown",
   "metadata": {},
   "source": [
    "## Number the columns"
   ]
  },
  {
   "cell_type": "code",
   "execution_count": 7,
   "metadata": {},
   "outputs": [
    {
     "name": "stdout",
     "output_type": "stream",
     "text": [
      "1 Rata_Die\n",
      "2 Date\n",
      "3 ActualValue\n",
      "4 ForecastValue\n",
      "5 PreviousValue\n"
     ]
    }
   ],
   "source": [
    "# sample the values in the columns\n",
    "columns = names(df)\n",
    "for i in 1:length(columns)\n",
    "    println(i, \" \", columns[i])\n",
    "end"
   ]
  },
  {
   "cell_type": "markdown",
   "metadata": {},
   "source": [
    "# Extract only the desired data"
   ]
  },
  {
   "cell_type": "code",
   "execution_count": 8,
   "metadata": {},
   "outputs": [
    {
     "name": "stdout",
     "output_type": "stream",
     "text": [
      "12×3 DataFrame\n",
      "│ Row │ Day   │ Date       │ Actual  │\n",
      "│     │ \u001b[90mInt64\u001b[39m │ \u001b[90mDate\u001b[39m       │ \u001b[90mFloat64\u001b[39m │\n",
      "├─────┼───────┼────────────┼─────────┤\n",
      "│ 1   │ 44073 │ 2020-09-01 │ 56.0    │\n",
      "│ 2   │ 43645 │ 2019-07-01 │ 51.7    │\n",
      "│ 3   │ 43219 │ 2018-05-01 │ 57.3    │\n",
      "│ 4   │ 42793 │ 2017-03-01 │ 57.7    │\n",
      "│ 5   │ 42371 │ 2016-01-04 │ 48.2    │\n",
      "│ 6   │ 41944 │ 2014-11-03 │ 59.0    │\n",
      "│ 7   │ 41518 │ 2013-09-03 │ 55.7    │\n",
      "│ 8   │ 41090 │ 2012-07-02 │ 50.2    │\n",
      "│ 9   │ 40663 │ 2011-05-02 │ 60.4    │\n",
      "│ 10  │ 40236 │ 2010-03-01 │ 56.5    │\n",
      "│ 11  │ 39813 │ 2009-01-02 │ 32.4    │\n",
      "│ 12  │ 39385 │ 2007-11-01 │ 50.9    │\n",
      " Dataset dimentions: (163, 3)\n",
      "\n",
      " Column numbering:\n",
      "1 Day\n",
      "2 Date\n",
      "3 Actual\n",
      "\n",
      " Dataset dimentions: (163, 3)\n",
      "\n",
      " Column numbering:\n",
      "1 Day\n",
      "2 Date\n",
      "3 Actual\n"
     ]
    }
   ],
   "source": [
    "using DataFrames\n",
    "df1 = DataFrame( Day = df[:,1], \n",
    "                Date = df[:,2],\n",
    "                Actual = df[:,3]\n",
    "               )\n",
    "\n",
    "preview_data( df1)\n",
    "\n",
    "println(\"\\n Dataset dimentions: \", size(df1) )\n",
    "println(\"\\n Column numbering:\")\n",
    "columns = names(df1)\n",
    "for i in 1:length(columns)\n",
    "    println(i, \" \", columns[i])\n",
    "end"
   ]
  },
  {
   "cell_type": "markdown",
   "metadata": {},
   "source": [
    "# Calculate Averages"
   ]
  },
  {
   "cell_type": "code",
   "execution_count": 9,
   "metadata": {},
   "outputs": [
    {
     "name": "stdout",
     "output_type": "stream",
     "text": [
      "12×4 DataFrame\n",
      "│ Row │ Day   │ Date       │ Actual  │ Mean    │\n",
      "│     │ \u001b[90mInt64\u001b[39m │ \u001b[90mDate\u001b[39m       │ \u001b[90mFloat64\u001b[39m │ \u001b[90mFloat64\u001b[39m │\n",
      "├─────┼───────┼────────────┼─────────┼─────────┤\n",
      "│ 1   │ 44073 │ 2020-09-01 │ 56.0    │ 52.8    │\n",
      "│ 2   │ 43645 │ 2019-07-01 │ 51.7    │ 52.8    │\n",
      "│ 3   │ 43219 │ 2018-05-01 │ 57.3    │ 52.8    │\n",
      "│ 4   │ 42793 │ 2017-03-01 │ 57.7    │ 52.8    │\n",
      "│ 5   │ 42371 │ 2016-01-04 │ 48.2    │ 52.8    │\n",
      "│ 6   │ 41944 │ 2014-11-03 │ 59.0    │ 52.8    │\n",
      "│ 7   │ 41518 │ 2013-09-03 │ 55.7    │ 52.8    │\n",
      "│ 8   │ 41090 │ 2012-07-02 │ 50.2    │ 52.8    │\n",
      "│ 9   │ 40663 │ 2011-05-02 │ 60.4    │ 52.8    │\n",
      "│ 10  │ 40236 │ 2010-03-01 │ 56.5    │ 52.8    │\n",
      "│ 11  │ 39813 │ 2009-01-02 │ 32.4    │ 52.8    │\n",
      "│ 12  │ 39385 │ 2007-11-01 │ 50.9    │ 52.8    │\n",
      " Dataset dimentions: (163, 4)\n",
      "\n",
      " Column numbering:\n",
      "1 Day\n",
      "2 Date\n",
      "3 Actual\n",
      "4 Mean\n"
     ]
    },
    {
     "data": {
      "text/plain": [
       "4-element Array{String,1}:\n",
       " \"Day\"\n",
       " \"Date\"\n",
       " \"Actual\"\n",
       " \"Mean\""
      ]
     },
     "execution_count": 9,
     "metadata": {},
     "output_type": "execute_result"
    }
   ],
   "source": [
    "add_overal_mean!(df1)\n",
    "columns= preview_data( df1)"
   ]
  },
  {
   "cell_type": "code",
   "execution_count": 14,
   "metadata": {},
   "outputs": [
    {
     "data": {
      "image/svg+xml": [
       "<?xml version=\"1.0\" encoding=\"utf-8\"?>\n",
       "<svg xmlns=\"http://www.w3.org/2000/svg\" xmlns:xlink=\"http://www.w3.org/1999/xlink\" width=\"980\" height=\"400\" viewBox=\"0 0 3920 1600\">\n",
       "<defs>\n",
       "  <clipPath id=\"clip3800\">\n",
       "    <rect x=\"0\" y=\"0\" width=\"3920\" height=\"1600\"/>\n",
       "  </clipPath>\n",
       "</defs>\n",
       "<path clip-path=\"url(#clip3800)\" d=\"\n",
       "M0 1600 L3920 1600 L3920 0 L0 0  Z\n",
       "  \" fill=\"#ffffff\" fill-rule=\"evenodd\" fill-opacity=\"1\"/>\n",
       "<defs>\n",
       "  <clipPath id=\"clip3801\">\n",
       "    <rect x=\"784\" y=\"0\" width=\"2745\" height=\"1600\"/>\n",
       "  </clipPath>\n",
       "</defs>\n",
       "<path clip-path=\"url(#clip3800)\" d=\"\n",
       "M199.233 1455.01 L3872.76 1455.01 L3872.76 47.2441 L199.233 47.2441  Z\n",
       "  \" fill=\"#ffffff\" fill-rule=\"evenodd\" fill-opacity=\"1\"/>\n",
       "<defs>\n",
       "  <clipPath id=\"clip3802\">\n",
       "    <rect x=\"199\" y=\"47\" width=\"3675\" height=\"1409\"/>\n",
       "  </clipPath>\n",
       "</defs>\n",
       "<polyline clip-path=\"url(#clip3802)\" style=\"stroke:#000000; stroke-width:2; stroke-opacity:0.1; fill:none\" points=\"\n",
       "  303.2,1455.01 303.2,47.2441 \n",
       "  \"/>\n",
       "<polyline clip-path=\"url(#clip3802)\" style=\"stroke:#000000; stroke-width:2; stroke-opacity:0.1; fill:none\" points=\"\n",
       "  559.911,1455.01 559.911,47.2441 \n",
       "  \"/>\n",
       "<polyline clip-path=\"url(#clip3802)\" style=\"stroke:#000000; stroke-width:2; stroke-opacity:0.1; fill:none\" points=\"\n",
       "  795.228,1455.01 795.228,47.2441 \n",
       "  \"/>\n",
       "<polyline clip-path=\"url(#clip3802)\" style=\"stroke:#000000; stroke-width:2; stroke-opacity:0.1; fill:none\" points=\"\n",
       "  1051.94,1455.01 1051.94,47.2441 \n",
       "  \"/>\n",
       "<polyline clip-path=\"url(#clip3802)\" style=\"stroke:#000000; stroke-width:2; stroke-opacity:0.1; fill:none\" points=\"\n",
       "  1287.26,1455.01 1287.26,47.2441 \n",
       "  \"/>\n",
       "<polyline clip-path=\"url(#clip3802)\" style=\"stroke:#000000; stroke-width:2; stroke-opacity:0.1; fill:none\" points=\"\n",
       "  1543.97,1455.01 1543.97,47.2441 \n",
       "  \"/>\n",
       "<polyline clip-path=\"url(#clip3802)\" style=\"stroke:#000000; stroke-width:2; stroke-opacity:0.1; fill:none\" points=\"\n",
       "  1779.28,1455.01 1779.28,47.2441 \n",
       "  \"/>\n",
       "<polyline clip-path=\"url(#clip3802)\" style=\"stroke:#000000; stroke-width:2; stroke-opacity:0.1; fill:none\" points=\"\n",
       "  2035.99,1455.01 2035.99,47.2441 \n",
       "  \"/>\n",
       "<polyline clip-path=\"url(#clip3802)\" style=\"stroke:#000000; stroke-width:2; stroke-opacity:0.1; fill:none\" points=\"\n",
       "  2292.7,1455.01 2292.7,47.2441 \n",
       "  \"/>\n",
       "<polyline clip-path=\"url(#clip3802)\" style=\"stroke:#000000; stroke-width:2; stroke-opacity:0.1; fill:none\" points=\"\n",
       "  2528.02,1455.01 2528.02,47.2441 \n",
       "  \"/>\n",
       "<polyline clip-path=\"url(#clip3802)\" style=\"stroke:#000000; stroke-width:2; stroke-opacity:0.1; fill:none\" points=\"\n",
       "  2784.73,1455.01 2784.73,47.2441 \n",
       "  \"/>\n",
       "<polyline clip-path=\"url(#clip3802)\" style=\"stroke:#000000; stroke-width:2; stroke-opacity:0.1; fill:none\" points=\"\n",
       "  3020.05,1455.01 3020.05,47.2441 \n",
       "  \"/>\n",
       "<polyline clip-path=\"url(#clip3802)\" style=\"stroke:#000000; stroke-width:2; stroke-opacity:0.1; fill:none\" points=\"\n",
       "  3276.76,1455.01 3276.76,47.2441 \n",
       "  \"/>\n",
       "<polyline clip-path=\"url(#clip3802)\" style=\"stroke:#000000; stroke-width:2; stroke-opacity:0.1; fill:none\" points=\"\n",
       "  3512.08,1455.01 3512.08,47.2441 \n",
       "  \"/>\n",
       "<polyline clip-path=\"url(#clip3802)\" style=\"stroke:#000000; stroke-width:2; stroke-opacity:0.1; fill:none\" points=\"\n",
       "  3768.79,1455.01 3768.79,47.2441 \n",
       "  \"/>\n",
       "<polyline clip-path=\"url(#clip3802)\" style=\"stroke:#000000; stroke-width:2; stroke-opacity:0.1; fill:none\" points=\"\n",
       "  199.233,1296.1 3872.76,1296.1 \n",
       "  \"/>\n",
       "<polyline clip-path=\"url(#clip3802)\" style=\"stroke:#000000; stroke-width:2; stroke-opacity:0.1; fill:none\" points=\"\n",
       "  199.233,1067.12 3872.76,1067.12 \n",
       "  \"/>\n",
       "<polyline clip-path=\"url(#clip3802)\" style=\"stroke:#000000; stroke-width:2; stroke-opacity:0.1; fill:none\" points=\"\n",
       "  199.233,838.137 3872.76,838.137 \n",
       "  \"/>\n",
       "<polyline clip-path=\"url(#clip3802)\" style=\"stroke:#000000; stroke-width:2; stroke-opacity:0.1; fill:none\" points=\"\n",
       "  199.233,609.158 3872.76,609.158 \n",
       "  \"/>\n",
       "<polyline clip-path=\"url(#clip3802)\" style=\"stroke:#000000; stroke-width:2; stroke-opacity:0.1; fill:none\" points=\"\n",
       "  199.233,380.18 3872.76,380.18 \n",
       "  \"/>\n",
       "<polyline clip-path=\"url(#clip3802)\" style=\"stroke:#000000; stroke-width:2; stroke-opacity:0.1; fill:none\" points=\"\n",
       "  199.233,151.201 3872.76,151.201 \n",
       "  \"/>\n",
       "<polyline clip-path=\"url(#clip3800)\" style=\"stroke:#000000; stroke-width:4; stroke-opacity:1; fill:none\" points=\"\n",
       "  199.233,1455.01 3872.76,1455.01 \n",
       "  \"/>\n",
       "<polyline clip-path=\"url(#clip3800)\" style=\"stroke:#000000; stroke-width:4; stroke-opacity:1; fill:none\" points=\"\n",
       "  199.233,1455.01 199.233,47.2441 \n",
       "  \"/>\n",
       "<polyline clip-path=\"url(#clip3800)\" style=\"stroke:#000000; stroke-width:4; stroke-opacity:1; fill:none\" points=\"\n",
       "  303.2,1455.01 303.2,1438.11 \n",
       "  \"/>\n",
       "<polyline clip-path=\"url(#clip3800)\" style=\"stroke:#000000; stroke-width:4; stroke-opacity:1; fill:none\" points=\"\n",
       "  559.911,1455.01 559.911,1438.11 \n",
       "  \"/>\n",
       "<polyline clip-path=\"url(#clip3800)\" style=\"stroke:#000000; stroke-width:4; stroke-opacity:1; fill:none\" points=\"\n",
       "  795.228,1455.01 795.228,1438.11 \n",
       "  \"/>\n",
       "<polyline clip-path=\"url(#clip3800)\" style=\"stroke:#000000; stroke-width:4; stroke-opacity:1; fill:none\" points=\"\n",
       "  1051.94,1455.01 1051.94,1438.11 \n",
       "  \"/>\n",
       "<polyline clip-path=\"url(#clip3800)\" style=\"stroke:#000000; stroke-width:4; stroke-opacity:1; fill:none\" points=\"\n",
       "  1287.26,1455.01 1287.26,1438.11 \n",
       "  \"/>\n",
       "<polyline clip-path=\"url(#clip3800)\" style=\"stroke:#000000; stroke-width:4; stroke-opacity:1; fill:none\" points=\"\n",
       "  1543.97,1455.01 1543.97,1438.11 \n",
       "  \"/>\n",
       "<polyline clip-path=\"url(#clip3800)\" style=\"stroke:#000000; stroke-width:4; stroke-opacity:1; fill:none\" points=\"\n",
       "  1779.28,1455.01 1779.28,1438.11 \n",
       "  \"/>\n",
       "<polyline clip-path=\"url(#clip3800)\" style=\"stroke:#000000; stroke-width:4; stroke-opacity:1; fill:none\" points=\"\n",
       "  2035.99,1455.01 2035.99,1438.11 \n",
       "  \"/>\n",
       "<polyline clip-path=\"url(#clip3800)\" style=\"stroke:#000000; stroke-width:4; stroke-opacity:1; fill:none\" points=\"\n",
       "  2292.7,1455.01 2292.7,1438.11 \n",
       "  \"/>\n",
       "<polyline clip-path=\"url(#clip3800)\" style=\"stroke:#000000; stroke-width:4; stroke-opacity:1; fill:none\" points=\"\n",
       "  2528.02,1455.01 2528.02,1438.11 \n",
       "  \"/>\n",
       "<polyline clip-path=\"url(#clip3800)\" style=\"stroke:#000000; stroke-width:4; stroke-opacity:1; fill:none\" points=\"\n",
       "  2784.73,1455.01 2784.73,1438.11 \n",
       "  \"/>\n",
       "<polyline clip-path=\"url(#clip3800)\" style=\"stroke:#000000; stroke-width:4; stroke-opacity:1; fill:none\" points=\"\n",
       "  3020.05,1455.01 3020.05,1438.11 \n",
       "  \"/>\n",
       "<polyline clip-path=\"url(#clip3800)\" style=\"stroke:#000000; stroke-width:4; stroke-opacity:1; fill:none\" points=\"\n",
       "  3276.76,1455.01 3276.76,1438.11 \n",
       "  \"/>\n",
       "<polyline clip-path=\"url(#clip3800)\" style=\"stroke:#000000; stroke-width:4; stroke-opacity:1; fill:none\" points=\"\n",
       "  3512.08,1455.01 3512.08,1438.11 \n",
       "  \"/>\n",
       "<polyline clip-path=\"url(#clip3800)\" style=\"stroke:#000000; stroke-width:4; stroke-opacity:1; fill:none\" points=\"\n",
       "  3768.79,1455.01 3768.79,1438.11 \n",
       "  \"/>\n",
       "<polyline clip-path=\"url(#clip3800)\" style=\"stroke:#000000; stroke-width:4; stroke-opacity:1; fill:none\" points=\"\n",
       "  199.233,1296.1 243.315,1296.1 \n",
       "  \"/>\n",
       "<polyline clip-path=\"url(#clip3800)\" style=\"stroke:#000000; stroke-width:4; stroke-opacity:1; fill:none\" points=\"\n",
       "  199.233,1067.12 243.315,1067.12 \n",
       "  \"/>\n",
       "<polyline clip-path=\"url(#clip3800)\" style=\"stroke:#000000; stroke-width:4; stroke-opacity:1; fill:none\" points=\"\n",
       "  199.233,838.137 243.315,838.137 \n",
       "  \"/>\n",
       "<polyline clip-path=\"url(#clip3800)\" style=\"stroke:#000000; stroke-width:4; stroke-opacity:1; fill:none\" points=\"\n",
       "  199.233,609.158 243.315,609.158 \n",
       "  \"/>\n",
       "<polyline clip-path=\"url(#clip3800)\" style=\"stroke:#000000; stroke-width:4; stroke-opacity:1; fill:none\" points=\"\n",
       "  199.233,380.18 243.315,380.18 \n",
       "  \"/>\n",
       "<polyline clip-path=\"url(#clip3800)\" style=\"stroke:#000000; stroke-width:4; stroke-opacity:1; fill:none\" points=\"\n",
       "  199.233,151.201 243.315,151.201 \n",
       "  \"/>\n",
       "<path clip-path=\"url(#clip3800)\" d=\"M 0 0 M236.546 1512.14 L252.865 1512.14 L252.865 1516.08 L230.921 1516.08 L230.921 1512.14 Q233.583 1509.39 238.166 1504.76 Q242.773 1500.11 243.953 1498.76 Q246.198 1496.24 247.078 1494.5 Q247.981 1492.75 247.981 1491.06 Q247.981 1488.3 246.036 1486.57 Q244.115 1484.83 241.013 1484.83 Q238.814 1484.83 236.361 1485.59 Q233.93 1486.36 231.152 1487.91 L231.152 1483.19 Q233.976 1482.05 236.43 1481.47 Q238.884 1480.89 240.921 1480.89 Q246.291 1480.89 249.485 1483.58 Q252.68 1486.26 252.68 1490.75 Q252.68 1492.88 251.87 1494.81 Q251.083 1496.7 248.976 1499.3 Q248.398 1499.97 245.296 1503.19 Q242.194 1506.38 236.546 1512.14 Z\" fill=\"#000000\" fill-rule=\"evenodd\" fill-opacity=\"1\" /><path clip-path=\"url(#clip3800)\" d=\"M 0 0 M267.934 1484.6 Q264.323 1484.6 262.495 1488.16 Q260.689 1491.7 260.689 1498.83 Q260.689 1505.94 262.495 1509.5 Q264.323 1513.05 267.934 1513.05 Q271.569 1513.05 273.374 1509.5 Q275.203 1505.94 275.203 1498.83 Q275.203 1491.7 273.374 1488.16 Q271.569 1484.6 267.934 1484.6 M267.934 1480.89 Q273.745 1480.89 276.8 1485.5 Q279.879 1490.08 279.879 1498.83 Q279.879 1507.56 276.8 1512.17 Q273.745 1516.75 267.934 1516.75 Q262.124 1516.75 259.046 1512.17 Q255.99 1507.56 255.99 1498.83 Q255.99 1490.08 259.046 1485.5 Q262.124 1480.89 267.934 1480.89 Z\" fill=\"#000000\" fill-rule=\"evenodd\" fill-opacity=\"1\" /><path clip-path=\"url(#clip3800)\" d=\"M 0 0 M291.916 1481.52 L295.851 1481.52 L283.814 1520.48 L279.879 1520.48 L291.916 1481.52 Z\" fill=\"#000000\" fill-rule=\"evenodd\" fill-opacity=\"1\" /><path clip-path=\"url(#clip3800)\" d=\"M 0 0 M301.059 1515.36 L301.059 1511.1 Q302.819 1511.94 304.624 1512.38 Q306.43 1512.81 308.166 1512.81 Q312.795 1512.81 315.226 1509.71 Q317.68 1506.59 318.027 1500.25 Q316.684 1502.24 314.624 1503.3 Q312.564 1504.37 310.064 1504.37 Q304.879 1504.37 301.846 1501.24 Q298.837 1498.09 298.837 1492.65 Q298.837 1487.33 301.985 1484.11 Q305.133 1480.89 310.365 1480.89 Q316.36 1480.89 319.508 1485.5 Q322.68 1490.08 322.68 1498.83 Q322.68 1507 318.791 1511.89 Q314.925 1516.75 308.374 1516.75 Q306.615 1516.75 304.809 1516.4 Q303.004 1516.06 301.059 1515.36 M310.365 1500.71 Q313.513 1500.71 315.342 1498.56 Q317.193 1496.4 317.193 1492.65 Q317.193 1488.93 315.342 1486.77 Q313.513 1484.6 310.365 1484.6 Q307.217 1484.6 305.365 1486.77 Q303.536 1488.93 303.536 1492.65 Q303.536 1496.4 305.365 1498.56 Q307.217 1500.71 310.365 1500.71 Z\" fill=\"#000000\" fill-rule=\"evenodd\" fill-opacity=\"1\" /><path clip-path=\"url(#clip3800)\" d=\"M 0 0 M337.749 1484.6 Q334.138 1484.6 332.309 1488.16 Q330.504 1491.7 330.504 1498.83 Q330.504 1505.94 332.309 1509.5 Q334.138 1513.05 337.749 1513.05 Q341.383 1513.05 343.189 1509.5 Q345.017 1505.94 345.017 1498.83 Q345.017 1491.7 343.189 1488.16 Q341.383 1484.6 337.749 1484.6 M337.749 1480.89 Q343.559 1480.89 346.615 1485.5 Q349.693 1490.08 349.693 1498.83 Q349.693 1507.56 346.615 1512.17 Q343.559 1516.75 337.749 1516.75 Q331.939 1516.75 328.86 1512.17 Q325.805 1507.56 325.805 1498.83 Q325.805 1490.08 328.86 1485.5 Q331.939 1480.89 337.749 1480.89 Z\" fill=\"#000000\" fill-rule=\"evenodd\" fill-opacity=\"1\" /><path clip-path=\"url(#clip3800)\" d=\"M 0 0 M355.573 1512.14 L363.212 1512.14 L363.212 1485.78 L354.902 1487.44 L354.902 1483.19 L363.165 1481.52 L367.841 1481.52 L367.841 1512.14 L375.48 1512.14 L375.48 1516.08 L355.573 1516.08 L355.573 1512.14 Z\" fill=\"#000000\" fill-rule=\"evenodd\" fill-opacity=\"1\" /><path clip-path=\"url(#clip3800)\" d=\"M 0 0 M488.788 1512.14 L496.427 1512.14 L496.427 1485.78 L488.117 1487.44 L488.117 1483.19 L496.381 1481.52 L501.057 1481.52 L501.057 1512.14 L508.696 1512.14 L508.696 1516.08 L488.788 1516.08 L488.788 1512.14 Z\" fill=\"#000000\" fill-rule=\"evenodd\" fill-opacity=\"1\" /><path clip-path=\"url(#clip3800)\" d=\"M 0 0 M513.904 1515.36 L513.904 1511.1 Q515.663 1511.94 517.469 1512.38 Q519.274 1512.81 521.01 1512.81 Q525.64 1512.81 528.071 1509.71 Q530.524 1506.59 530.871 1500.25 Q529.529 1502.24 527.469 1503.3 Q525.409 1504.37 522.909 1504.37 Q517.723 1504.37 514.691 1501.24 Q511.682 1498.09 511.682 1492.65 Q511.682 1487.33 514.83 1484.11 Q517.978 1480.89 523.209 1480.89 Q529.205 1480.89 532.353 1485.5 Q535.524 1490.08 535.524 1498.83 Q535.524 1507 531.635 1511.89 Q527.77 1516.75 521.219 1516.75 Q519.459 1516.75 517.654 1516.4 Q515.848 1516.06 513.904 1515.36 M523.209 1500.71 Q526.358 1500.71 528.186 1498.56 Q530.038 1496.4 530.038 1492.65 Q530.038 1488.93 528.186 1486.77 Q526.358 1484.6 523.209 1484.6 Q520.061 1484.6 518.21 1486.77 Q516.381 1488.93 516.381 1492.65 Q516.381 1496.4 518.21 1498.56 Q520.061 1500.71 523.209 1500.71 Z\" fill=\"#000000\" fill-rule=\"evenodd\" fill-opacity=\"1\" /><path clip-path=\"url(#clip3800)\" d=\"M 0 0 M547.561 1481.52 L551.496 1481.52 L539.459 1520.48 L535.524 1520.48 L547.561 1481.52 Z\" fill=\"#000000\" fill-rule=\"evenodd\" fill-opacity=\"1\" /><path clip-path=\"url(#clip3800)\" d=\"M 0 0 M556.705 1515.36 L556.705 1511.1 Q558.464 1511.94 560.269 1512.38 Q562.075 1512.81 563.811 1512.81 Q568.441 1512.81 570.871 1509.71 Q573.325 1506.59 573.672 1500.25 Q572.33 1502.24 570.269 1503.3 Q568.209 1504.37 565.709 1504.37 Q560.524 1504.37 557.492 1501.24 Q554.482 1498.09 554.482 1492.65 Q554.482 1487.33 557.631 1484.11 Q560.779 1480.89 566.01 1480.89 Q572.006 1480.89 575.154 1485.5 Q578.325 1490.08 578.325 1498.83 Q578.325 1507 574.436 1511.89 Q570.57 1516.75 564.019 1516.75 Q562.26 1516.75 560.455 1516.4 Q558.649 1516.06 556.705 1515.36 M566.01 1500.71 Q569.158 1500.71 570.987 1498.56 Q572.839 1496.4 572.839 1492.65 Q572.839 1488.93 570.987 1486.77 Q569.158 1484.6 566.01 1484.6 Q562.862 1484.6 561.01 1486.77 Q559.182 1488.93 559.182 1492.65 Q559.182 1496.4 561.01 1498.56 Q562.862 1500.71 566.01 1500.71 Z\" fill=\"#000000\" fill-rule=\"evenodd\" fill-opacity=\"1\" /><path clip-path=\"url(#clip3800)\" d=\"M 0 0 M593.394 1484.6 Q589.783 1484.6 587.955 1488.16 Q586.149 1491.7 586.149 1498.83 Q586.149 1505.94 587.955 1509.5 Q589.783 1513.05 593.394 1513.05 Q597.029 1513.05 598.834 1509.5 Q600.663 1505.94 600.663 1498.83 Q600.663 1491.7 598.834 1488.16 Q597.029 1484.6 593.394 1484.6 M593.394 1480.89 Q599.204 1480.89 602.26 1485.5 Q605.339 1490.08 605.339 1498.83 Q605.339 1507.56 602.26 1512.17 Q599.204 1516.75 593.394 1516.75 Q587.584 1516.75 584.505 1512.17 Q581.45 1507.56 581.45 1498.83 Q581.45 1490.08 584.505 1485.5 Q587.584 1480.89 593.394 1480.89 Z\" fill=\"#000000\" fill-rule=\"evenodd\" fill-opacity=\"1\" /><path clip-path=\"url(#clip3800)\" d=\"M 0 0 M624.575 1497.44 Q627.931 1498.16 629.806 1500.43 Q631.704 1502.7 631.704 1506.03 Q631.704 1511.15 628.186 1513.95 Q624.667 1516.75 618.186 1516.75 Q616.01 1516.75 613.695 1516.31 Q611.403 1515.89 608.95 1515.04 L608.95 1510.52 Q610.894 1511.66 613.209 1512.24 Q615.524 1512.81 618.047 1512.81 Q622.445 1512.81 624.737 1511.08 Q627.052 1509.34 627.052 1506.03 Q627.052 1502.98 624.899 1501.26 Q622.769 1499.53 618.95 1499.53 L614.922 1499.53 L614.922 1495.69 L619.135 1495.69 Q622.584 1495.69 624.413 1494.32 Q626.241 1492.93 626.241 1490.34 Q626.241 1487.68 624.343 1486.26 Q622.468 1484.83 618.95 1484.83 Q617.028 1484.83 614.829 1485.25 Q612.63 1485.66 609.991 1486.54 L609.991 1482.38 Q612.653 1481.63 614.968 1481.26 Q617.306 1480.89 619.366 1480.89 Q624.69 1480.89 627.792 1483.32 Q630.894 1485.73 630.894 1489.85 Q630.894 1492.72 629.251 1494.71 Q627.607 1496.68 624.575 1497.44 Z\" fill=\"#000000\" fill-rule=\"evenodd\" fill-opacity=\"1\" /><path clip-path=\"url(#clip3800)\" d=\"M 0 0 M711.363 1512.14 L719.002 1512.14 L719.002 1485.78 L710.692 1487.44 L710.692 1483.19 L718.956 1481.52 L723.632 1481.52 L723.632 1512.14 L731.27 1512.14 L731.27 1516.08 L711.363 1516.08 L711.363 1512.14 Z\" fill=\"#000000\" fill-rule=\"evenodd\" fill-opacity=\"1\" /><path clip-path=\"url(#clip3800)\" d=\"M 0 0 M746.34 1499.67 Q743.006 1499.67 741.085 1501.45 Q739.187 1503.23 739.187 1506.36 Q739.187 1509.48 741.085 1511.26 Q743.006 1513.05 746.34 1513.05 Q749.673 1513.05 751.594 1511.26 Q753.516 1509.46 753.516 1506.36 Q753.516 1503.23 751.594 1501.45 Q749.696 1499.67 746.34 1499.67 M741.664 1497.68 Q738.655 1496.94 736.965 1494.88 Q735.298 1492.82 735.298 1489.85 Q735.298 1485.71 738.238 1483.3 Q741.201 1480.89 746.34 1480.89 Q751.502 1480.89 754.442 1483.3 Q757.381 1485.71 757.381 1489.85 Q757.381 1492.82 755.692 1494.88 Q754.025 1496.94 751.039 1497.68 Q754.418 1498.46 756.293 1500.75 Q758.192 1503.05 758.192 1506.36 Q758.192 1511.38 755.113 1514.06 Q752.057 1516.75 746.34 1516.75 Q740.622 1516.75 737.543 1514.06 Q734.488 1511.38 734.488 1506.36 Q734.488 1503.05 736.386 1500.75 Q738.284 1498.46 741.664 1497.68 M739.951 1490.29 Q739.951 1492.98 741.618 1494.48 Q743.307 1495.99 746.34 1495.99 Q749.349 1495.99 751.039 1494.48 Q752.752 1492.98 752.752 1490.29 Q752.752 1487.61 751.039 1486.1 Q749.349 1484.6 746.34 1484.6 Q743.307 1484.6 741.618 1486.1 Q739.951 1487.61 739.951 1490.29 Z\" fill=\"#000000\" fill-rule=\"evenodd\" fill-opacity=\"1\" /><path clip-path=\"url(#clip3800)\" d=\"M 0 0 M770.228 1481.52 L774.164 1481.52 L762.127 1520.48 L758.192 1520.48 L770.228 1481.52 Z\" fill=\"#000000\" fill-rule=\"evenodd\" fill-opacity=\"1\" /><path clip-path=\"url(#clip3800)\" d=\"M 0 0 M780.043 1512.14 L787.682 1512.14 L787.682 1485.78 L779.372 1487.44 L779.372 1483.19 L787.636 1481.52 L792.312 1481.52 L792.312 1512.14 L799.951 1512.14 L799.951 1516.08 L780.043 1516.08 L780.043 1512.14 Z\" fill=\"#000000\" fill-rule=\"evenodd\" fill-opacity=\"1\" /><path clip-path=\"url(#clip3800)\" d=\"M 0 0 M815.02 1484.6 Q811.409 1484.6 809.58 1488.16 Q807.775 1491.7 807.775 1498.83 Q807.775 1505.94 809.58 1509.5 Q811.409 1513.05 815.02 1513.05 Q818.654 1513.05 820.46 1509.5 Q822.288 1505.94 822.288 1498.83 Q822.288 1491.7 820.46 1488.16 Q818.654 1484.6 815.02 1484.6 M815.02 1480.89 Q820.83 1480.89 823.886 1485.5 Q826.964 1490.08 826.964 1498.83 Q826.964 1507.56 823.886 1512.17 Q820.83 1516.75 815.02 1516.75 Q809.21 1516.75 806.131 1512.17 Q803.076 1507.56 803.076 1498.83 Q803.076 1490.08 806.131 1485.5 Q809.21 1480.89 815.02 1480.89 Z\" fill=\"#000000\" fill-rule=\"evenodd\" fill-opacity=\"1\" /><path clip-path=\"url(#clip3800)\" d=\"M 0 0 M842.034 1484.6 Q838.423 1484.6 836.594 1488.16 Q834.788 1491.7 834.788 1498.83 Q834.788 1505.94 836.594 1509.5 Q838.423 1513.05 842.034 1513.05 Q845.668 1513.05 847.473 1509.5 Q849.302 1505.94 849.302 1498.83 Q849.302 1491.7 847.473 1488.16 Q845.668 1484.6 842.034 1484.6 M842.034 1480.89 Q847.844 1480.89 850.899 1485.5 Q853.978 1490.08 853.978 1498.83 Q853.978 1507.56 850.899 1512.17 Q847.844 1516.75 842.034 1516.75 Q836.224 1516.75 833.145 1512.17 Q830.089 1507.56 830.089 1498.83 Q830.089 1490.08 833.145 1485.5 Q836.224 1480.89 842.034 1480.89 Z\" fill=\"#000000\" fill-rule=\"evenodd\" fill-opacity=\"1\" /><path clip-path=\"url(#clip3800)\" d=\"M 0 0 M859.858 1512.14 L867.496 1512.14 L867.496 1485.78 L859.186 1487.44 L859.186 1483.19 L867.45 1481.52 L872.126 1481.52 L872.126 1512.14 L879.765 1512.14 L879.765 1516.08 L859.858 1516.08 L859.858 1512.14 Z\" fill=\"#000000\" fill-rule=\"evenodd\" fill-opacity=\"1\" /><path clip-path=\"url(#clip3800)\" d=\"M 0 0 M968.664 1512.14 L976.302 1512.14 L976.302 1485.78 L967.992 1487.44 L967.992 1483.19 L976.256 1481.52 L980.932 1481.52 L980.932 1512.14 L988.571 1512.14 L988.571 1516.08 L968.664 1516.08 L968.664 1512.14 Z\" fill=\"#000000\" fill-rule=\"evenodd\" fill-opacity=\"1\" /><path clip-path=\"url(#clip3800)\" d=\"M 0 0 M992.46 1481.52 L1014.68 1481.52 L1014.68 1483.51 L1002.14 1516.08 L997.251 1516.08 L1009.06 1485.45 L992.46 1485.45 L992.46 1481.52 Z\" fill=\"#000000\" fill-rule=\"evenodd\" fill-opacity=\"1\" /><path clip-path=\"url(#clip3800)\" d=\"M 0 0 M1026.72 1481.52 L1030.65 1481.52 L1018.62 1520.48 L1014.68 1520.48 L1026.72 1481.52 Z\" fill=\"#000000\" fill-rule=\"evenodd\" fill-opacity=\"1\" /><path clip-path=\"url(#clip3800)\" d=\"M 0 0 M1036.53 1512.14 L1044.17 1512.14 L1044.17 1485.78 L1035.86 1487.44 L1035.86 1483.19 L1044.13 1481.52 L1048.8 1481.52 L1048.8 1512.14 L1056.44 1512.14 L1056.44 1516.08 L1036.53 1516.08 L1036.53 1512.14 Z\" fill=\"#000000\" fill-rule=\"evenodd\" fill-opacity=\"1\" /><path clip-path=\"url(#clip3800)\" d=\"M 0 0 M1071.51 1484.6 Q1067.9 1484.6 1066.07 1488.16 Q1064.26 1491.7 1064.26 1498.83 Q1064.26 1505.94 1066.07 1509.5 Q1067.9 1513.05 1071.51 1513.05 Q1075.14 1513.05 1076.95 1509.5 Q1078.78 1505.94 1078.78 1498.83 Q1078.78 1491.7 1076.95 1488.16 Q1075.14 1484.6 1071.51 1484.6 M1071.51 1480.89 Q1077.32 1480.89 1080.38 1485.5 Q1083.45 1490.08 1083.45 1498.83 Q1083.45 1507.56 1080.38 1512.17 Q1077.32 1516.75 1071.51 1516.75 Q1065.7 1516.75 1062.62 1512.17 Q1059.57 1507.56 1059.57 1498.83 Q1059.57 1490.08 1062.62 1485.5 Q1065.7 1480.89 1071.51 1480.89 Z\" fill=\"#000000\" fill-rule=\"evenodd\" fill-opacity=\"1\" /><path clip-path=\"url(#clip3800)\" d=\"M 0 0 M1098.52 1484.6 Q1094.91 1484.6 1093.08 1488.16 Q1091.28 1491.7 1091.28 1498.83 Q1091.28 1505.94 1093.08 1509.5 Q1094.91 1513.05 1098.52 1513.05 Q1102.16 1513.05 1103.96 1509.5 Q1105.79 1505.94 1105.79 1498.83 Q1105.79 1491.7 1103.96 1488.16 Q1102.16 1484.6 1098.52 1484.6 M1098.52 1480.89 Q1104.33 1480.89 1107.39 1485.5 Q1110.47 1490.08 1110.47 1498.83 Q1110.47 1507.56 1107.39 1512.17 Q1104.33 1516.75 1098.52 1516.75 Q1092.71 1516.75 1089.64 1512.17 Q1086.58 1507.56 1086.58 1498.83 Q1086.58 1490.08 1089.64 1485.5 Q1092.71 1480.89 1098.52 1480.89 Z\" fill=\"#000000\" fill-rule=\"evenodd\" fill-opacity=\"1\" /><path clip-path=\"url(#clip3800)\" d=\"M 0 0 M1119.57 1512.14 L1135.88 1512.14 L1135.88 1516.08 L1113.94 1516.08 L1113.94 1512.14 Q1116.6 1509.39 1121.19 1504.76 Q1125.79 1500.11 1126.97 1498.76 Q1129.22 1496.24 1130.1 1494.5 Q1131 1492.75 1131 1491.06 Q1131 1488.3 1129.06 1486.57 Q1127.13 1484.83 1124.03 1484.83 Q1121.83 1484.83 1119.38 1485.59 Q1116.95 1486.36 1114.17 1487.91 L1114.17 1483.19 Q1117 1482.05 1119.45 1481.47 Q1121.9 1480.89 1123.94 1480.89 Q1129.31 1480.89 1132.51 1483.58 Q1135.7 1486.26 1135.7 1490.75 Q1135.7 1492.88 1134.89 1494.81 Q1134.1 1496.7 1132 1499.3 Q1131.42 1499.97 1128.32 1503.19 Q1125.21 1506.38 1119.57 1512.14 Z\" fill=\"#000000\" fill-rule=\"evenodd\" fill-opacity=\"1\" /><path clip-path=\"url(#clip3800)\" d=\"M 0 0 M1203.88 1512.14 L1211.52 1512.14 L1211.52 1485.78 L1203.21 1487.44 L1203.21 1483.19 L1211.47 1481.52 L1216.15 1481.52 L1216.15 1512.14 L1223.78 1512.14 L1223.78 1516.08 L1203.88 1516.08 L1203.88 1512.14 Z\" fill=\"#000000\" fill-rule=\"evenodd\" fill-opacity=\"1\" /><path clip-path=\"url(#clip3800)\" d=\"M 0 0 M1239.43 1496.94 Q1236.28 1496.94 1234.43 1499.09 Q1232.6 1501.24 1232.6 1504.99 Q1232.6 1508.72 1234.43 1510.89 Q1236.28 1513.05 1239.43 1513.05 Q1242.58 1513.05 1244.41 1510.89 Q1246.26 1508.72 1246.26 1504.99 Q1246.26 1501.24 1244.41 1499.09 Q1242.58 1496.94 1239.43 1496.94 M1248.71 1482.28 L1248.71 1486.54 Q1246.96 1485.71 1245.15 1485.27 Q1243.37 1484.83 1241.61 1484.83 Q1236.98 1484.83 1234.53 1487.95 Q1232.09 1491.08 1231.75 1497.4 Q1233.11 1495.38 1235.17 1494.32 Q1237.23 1493.23 1239.71 1493.23 Q1244.92 1493.23 1247.93 1496.4 Q1250.96 1499.55 1250.96 1504.99 Q1250.96 1510.31 1247.81 1513.53 Q1244.66 1516.75 1239.43 1516.75 Q1233.44 1516.75 1230.27 1512.17 Q1227.09 1507.56 1227.09 1498.83 Q1227.09 1490.64 1230.98 1485.78 Q1234.87 1480.89 1241.42 1480.89 Q1243.18 1480.89 1244.96 1481.24 Q1246.77 1481.59 1248.71 1482.28 Z\" fill=\"#000000\" fill-rule=\"evenodd\" fill-opacity=\"1\" /><path clip-path=\"url(#clip3800)\" d=\"M 0 0 M1263 1481.52 L1266.93 1481.52 L1254.9 1520.48 L1250.96 1520.48 L1263 1481.52 Z\" fill=\"#000000\" fill-rule=\"evenodd\" fill-opacity=\"1\" /><path clip-path=\"url(#clip3800)\" d=\"M 0 0 M1272.81 1512.14 L1280.45 1512.14 L1280.45 1485.78 L1272.14 1487.44 L1272.14 1483.19 L1280.4 1481.52 L1285.08 1481.52 L1285.08 1512.14 L1292.72 1512.14 L1292.72 1516.08 L1272.81 1516.08 L1272.81 1512.14 Z\" fill=\"#000000\" fill-rule=\"evenodd\" fill-opacity=\"1\" /><path clip-path=\"url(#clip3800)\" d=\"M 0 0 M1298.6 1512.14 L1306.24 1512.14 L1306.24 1485.78 L1297.93 1487.44 L1297.93 1483.19 L1306.19 1481.52 L1310.87 1481.52 L1310.87 1512.14 L1318.51 1512.14 L1318.51 1516.08 L1298.6 1516.08 L1298.6 1512.14 Z\" fill=\"#000000\" fill-rule=\"evenodd\" fill-opacity=\"1\" /><path clip-path=\"url(#clip3800)\" d=\"M 0 0 M1333.58 1484.6 Q1329.96 1484.6 1328.14 1488.16 Q1326.33 1491.7 1326.33 1498.83 Q1326.33 1505.94 1328.14 1509.5 Q1329.96 1513.05 1333.58 1513.05 Q1337.21 1513.05 1339.02 1509.5 Q1340.84 1505.94 1340.84 1498.83 Q1340.84 1491.7 1339.02 1488.16 Q1337.21 1484.6 1333.58 1484.6 M1333.58 1480.89 Q1339.39 1480.89 1342.44 1485.5 Q1345.52 1490.08 1345.52 1498.83 Q1345.52 1507.56 1342.44 1512.17 Q1339.39 1516.75 1333.58 1516.75 Q1327.77 1516.75 1324.69 1512.17 Q1321.63 1507.56 1321.63 1498.83 Q1321.63 1490.08 1324.69 1485.5 Q1327.77 1480.89 1333.58 1480.89 Z\" fill=\"#000000\" fill-rule=\"evenodd\" fill-opacity=\"1\" /><path clip-path=\"url(#clip3800)\" d=\"M 0 0 M1351.4 1512.14 L1359.04 1512.14 L1359.04 1485.78 L1350.73 1487.44 L1350.73 1483.19 L1358.99 1481.52 L1363.67 1481.52 L1363.67 1512.14 L1371.31 1512.14 L1371.31 1516.08 L1351.4 1516.08 L1351.4 1512.14 Z\" fill=\"#000000\" fill-rule=\"evenodd\" fill-opacity=\"1\" /><path clip-path=\"url(#clip3800)\" d=\"M 0 0 M1461.35 1512.14 L1468.99 1512.14 L1468.99 1485.78 L1460.68 1487.44 L1460.68 1483.19 L1468.94 1481.52 L1473.62 1481.52 L1473.62 1512.14 L1481.26 1512.14 L1481.26 1516.08 L1461.35 1516.08 L1461.35 1512.14 Z\" fill=\"#000000\" fill-rule=\"evenodd\" fill-opacity=\"1\" /><path clip-path=\"url(#clip3800)\" d=\"M 0 0 M1486.37 1481.52 L1504.73 1481.52 L1504.73 1485.45 L1490.66 1485.45 L1490.66 1493.93 Q1491.68 1493.58 1492.69 1493.42 Q1493.71 1493.23 1494.73 1493.23 Q1500.52 1493.23 1503.9 1496.4 Q1507.28 1499.57 1507.28 1504.99 Q1507.28 1510.57 1503.8 1513.67 Q1500.33 1516.75 1494.01 1516.75 Q1491.84 1516.75 1489.57 1516.38 Q1487.32 1516.01 1484.92 1515.27 L1484.92 1510.57 Q1487 1511.7 1489.22 1512.26 Q1491.44 1512.81 1493.92 1512.81 Q1497.93 1512.81 1500.26 1510.71 Q1502.6 1508.6 1502.6 1504.99 Q1502.6 1501.38 1500.26 1499.27 Q1497.93 1497.17 1493.92 1497.17 Q1492.05 1497.17 1490.17 1497.58 Q1488.32 1498 1486.37 1498.88 L1486.37 1481.52 Z\" fill=\"#000000\" fill-rule=\"evenodd\" fill-opacity=\"1\" /><path clip-path=\"url(#clip3800)\" d=\"M 0 0 M1519.31 1481.52 L1523.25 1481.52 L1511.21 1520.48 L1507.28 1520.48 L1519.31 1481.52 Z\" fill=\"#000000\" fill-rule=\"evenodd\" fill-opacity=\"1\" /><path clip-path=\"url(#clip3800)\" d=\"M 0 0 M1529.13 1512.14 L1536.77 1512.14 L1536.77 1485.78 L1528.46 1487.44 L1528.46 1483.19 L1536.72 1481.52 L1541.4 1481.52 L1541.4 1512.14 L1549.04 1512.14 L1549.04 1516.08 L1529.13 1516.08 L1529.13 1512.14 Z\" fill=\"#000000\" fill-rule=\"evenodd\" fill-opacity=\"1\" /><path clip-path=\"url(#clip3800)\" d=\"M 0 0 M1554.92 1512.14 L1562.55 1512.14 L1562.55 1485.78 L1554.24 1487.44 L1554.24 1483.19 L1562.51 1481.52 L1567.18 1481.52 L1567.18 1512.14 L1574.82 1512.14 L1574.82 1516.08 L1554.92 1516.08 L1554.92 1512.14 Z\" fill=\"#000000\" fill-rule=\"evenodd\" fill-opacity=\"1\" /><path clip-path=\"url(#clip3800)\" d=\"M 0 0 M1589.89 1484.6 Q1586.28 1484.6 1584.45 1488.16 Q1582.65 1491.7 1582.65 1498.83 Q1582.65 1505.94 1584.45 1509.5 Q1586.28 1513.05 1589.89 1513.05 Q1593.53 1513.05 1595.33 1509.5 Q1597.16 1505.94 1597.16 1498.83 Q1597.16 1491.7 1595.33 1488.16 Q1593.53 1484.6 1589.89 1484.6 M1589.89 1480.89 Q1595.7 1480.89 1598.76 1485.5 Q1601.84 1490.08 1601.84 1498.83 Q1601.84 1507.56 1598.76 1512.17 Q1595.7 1516.75 1589.89 1516.75 Q1584.08 1516.75 1581 1512.17 Q1577.95 1507.56 1577.95 1498.83 Q1577.95 1490.08 1581 1485.5 Q1584.08 1480.89 1589.89 1480.89 Z\" fill=\"#000000\" fill-rule=\"evenodd\" fill-opacity=\"1\" /><path clip-path=\"url(#clip3800)\" d=\"M 0 0 M1610.93 1512.14 L1627.25 1512.14 L1627.25 1516.08 L1605.31 1516.08 L1605.31 1512.14 Q1607.97 1509.39 1612.55 1504.76 Q1617.16 1500.11 1618.34 1498.76 Q1620.59 1496.24 1621.47 1494.5 Q1622.37 1492.75 1622.37 1491.06 Q1622.37 1488.3 1620.42 1486.57 Q1618.5 1484.83 1615.4 1484.83 Q1613.2 1484.83 1610.75 1485.59 Q1608.32 1486.36 1605.54 1487.91 L1605.54 1483.19 Q1608.36 1482.05 1610.82 1481.47 Q1613.27 1480.89 1615.31 1480.89 Q1620.68 1480.89 1623.87 1483.58 Q1627.07 1486.26 1627.07 1490.75 Q1627.07 1492.88 1626.26 1494.81 Q1625.47 1496.7 1623.36 1499.3 Q1622.79 1499.97 1619.68 1503.19 Q1616.58 1506.38 1610.93 1512.14 Z\" fill=\"#000000\" fill-rule=\"evenodd\" fill-opacity=\"1\" /><path clip-path=\"url(#clip3800)\" d=\"M 0 0 M1695.93 1512.14 L1703.57 1512.14 L1703.57 1485.78 L1695.26 1487.44 L1695.26 1483.19 L1703.52 1481.52 L1708.2 1481.52 L1708.2 1512.14 L1715.84 1512.14 L1715.84 1516.08 L1695.93 1516.08 L1695.93 1512.14 Z\" fill=\"#000000\" fill-rule=\"evenodd\" fill-opacity=\"1\" /><path clip-path=\"url(#clip3800)\" d=\"M 0 0 M1733.75 1485.59 L1721.95 1504.04 L1733.75 1504.04 L1733.75 1485.59 M1732.53 1481.52 L1738.4 1481.52 L1738.4 1504.04 L1743.34 1504.04 L1743.34 1507.93 L1738.4 1507.93 L1738.4 1516.08 L1733.75 1516.08 L1733.75 1507.93 L1718.15 1507.93 L1718.15 1503.42 L1732.53 1481.52 Z\" fill=\"#000000\" fill-rule=\"evenodd\" fill-opacity=\"1\" /><path clip-path=\"url(#clip3800)\" d=\"M 0 0 M1755.37 1481.52 L1759.31 1481.52 L1747.27 1520.48 L1743.34 1520.48 L1755.37 1481.52 Z\" fill=\"#000000\" fill-rule=\"evenodd\" fill-opacity=\"1\" /><path clip-path=\"url(#clip3800)\" d=\"M 0 0 M1765.19 1512.14 L1772.83 1512.14 L1772.83 1485.78 L1764.52 1487.44 L1764.52 1483.19 L1772.78 1481.52 L1777.46 1481.52 L1777.46 1512.14 L1785.09 1512.14 L1785.09 1516.08 L1765.19 1516.08 L1765.19 1512.14 Z\" fill=\"#000000\" fill-rule=\"evenodd\" fill-opacity=\"1\" /><path clip-path=\"url(#clip3800)\" d=\"M 0 0 M1794.19 1512.14 L1810.51 1512.14 L1810.51 1516.08 L1788.57 1516.08 L1788.57 1512.14 Q1791.23 1509.39 1795.81 1504.76 Q1800.42 1500.11 1801.6 1498.76 Q1803.84 1496.24 1804.72 1494.5 Q1805.63 1492.75 1805.63 1491.06 Q1805.63 1488.3 1803.68 1486.57 Q1801.76 1484.83 1798.66 1484.83 Q1796.46 1484.83 1794.01 1485.59 Q1791.58 1486.36 1788.8 1487.91 L1788.8 1483.19 Q1791.62 1482.05 1794.08 1481.47 Q1796.53 1480.89 1798.57 1480.89 Q1803.94 1480.89 1807.13 1483.58 Q1810.33 1486.26 1810.33 1490.75 Q1810.33 1492.88 1809.52 1494.81 Q1808.73 1496.7 1806.62 1499.3 Q1806.04 1499.97 1802.94 1503.19 Q1799.84 1506.38 1794.19 1512.14 Z\" fill=\"#000000\" fill-rule=\"evenodd\" fill-opacity=\"1\" /><path clip-path=\"url(#clip3800)\" d=\"M 0 0 M1825.58 1484.6 Q1821.97 1484.6 1820.14 1488.16 Q1818.33 1491.7 1818.33 1498.83 Q1818.33 1505.94 1820.14 1509.5 Q1821.97 1513.05 1825.58 1513.05 Q1829.21 1513.05 1831.02 1509.5 Q1832.85 1505.94 1832.85 1498.83 Q1832.85 1491.7 1831.02 1488.16 Q1829.21 1484.6 1825.58 1484.6 M1825.58 1480.89 Q1831.39 1480.89 1834.45 1485.5 Q1837.52 1490.08 1837.52 1498.83 Q1837.52 1507.56 1834.45 1512.17 Q1831.39 1516.75 1825.58 1516.75 Q1819.77 1516.75 1816.69 1512.17 Q1813.64 1507.56 1813.64 1498.83 Q1813.64 1490.08 1816.69 1485.5 Q1819.77 1480.89 1825.58 1480.89 Z\" fill=\"#000000\" fill-rule=\"evenodd\" fill-opacity=\"1\" /><path clip-path=\"url(#clip3800)\" d=\"M 0 0 M1843.4 1512.14 L1851.04 1512.14 L1851.04 1485.78 L1842.73 1487.44 L1842.73 1483.19 L1851 1481.52 L1855.67 1481.52 L1855.67 1512.14 L1863.31 1512.14 L1863.31 1516.08 L1843.4 1516.08 L1843.4 1512.14 Z\" fill=\"#000000\" fill-rule=\"evenodd\" fill-opacity=\"1\" /><path clip-path=\"url(#clip3800)\" d=\"M 0 0 M1953.39 1512.14 L1961.03 1512.14 L1961.03 1485.78 L1952.72 1487.44 L1952.72 1483.19 L1960.98 1481.52 L1965.66 1481.52 L1965.66 1512.14 L1973.3 1512.14 L1973.3 1516.08 L1953.39 1516.08 L1953.39 1512.14 Z\" fill=\"#000000\" fill-rule=\"evenodd\" fill-opacity=\"1\" /><path clip-path=\"url(#clip3800)\" d=\"M 0 0 M1992.53 1497.44 Q1995.89 1498.16 1997.77 1500.43 Q1999.66 1502.7 1999.66 1506.03 Q1999.66 1511.15 1996.15 1513.95 Q1992.63 1516.75 1986.15 1516.75 Q1983.97 1516.75 1981.65 1516.31 Q1979.36 1515.89 1976.91 1515.04 L1976.91 1510.52 Q1978.85 1511.66 1981.17 1512.24 Q1983.48 1512.81 1986.01 1512.81 Q1990.4 1512.81 1992.7 1511.08 Q1995.01 1509.34 1995.01 1506.03 Q1995.01 1502.98 1992.86 1501.26 Q1990.73 1499.53 1986.91 1499.53 L1982.88 1499.53 L1982.88 1495.69 L1987.09 1495.69 Q1990.54 1495.69 1992.37 1494.32 Q1994.2 1492.93 1994.2 1490.34 Q1994.2 1487.68 1992.3 1486.26 Q1990.43 1484.83 1986.91 1484.83 Q1984.99 1484.83 1982.79 1485.25 Q1980.59 1485.66 1977.95 1486.54 L1977.95 1482.38 Q1980.61 1481.63 1982.93 1481.26 Q1985.27 1480.89 1987.33 1480.89 Q1992.65 1480.89 1995.75 1483.32 Q1998.85 1485.73 1998.85 1489.85 Q1998.85 1492.72 1997.21 1494.71 Q1995.57 1496.68 1992.53 1497.44 Z\" fill=\"#000000\" fill-rule=\"evenodd\" fill-opacity=\"1\" /><path clip-path=\"url(#clip3800)\" d=\"M 0 0 M2011.7 1481.52 L2015.64 1481.52 L2003.6 1520.48 L1999.66 1520.48 L2011.7 1481.52 Z\" fill=\"#000000\" fill-rule=\"evenodd\" fill-opacity=\"1\" /><path clip-path=\"url(#clip3800)\" d=\"M 0 0 M2021.52 1512.14 L2029.15 1512.14 L2029.15 1485.78 L2020.84 1487.44 L2020.84 1483.19 L2029.11 1481.52 L2033.78 1481.52 L2033.78 1512.14 L2041.42 1512.14 L2041.42 1516.08 L2021.52 1516.08 L2021.52 1512.14 Z\" fill=\"#000000\" fill-rule=\"evenodd\" fill-opacity=\"1\" /><path clip-path=\"url(#clip3800)\" d=\"M 0 0 M2050.52 1512.14 L2066.84 1512.14 L2066.84 1516.08 L2044.89 1516.08 L2044.89 1512.14 Q2047.56 1509.39 2052.14 1504.76 Q2056.75 1500.11 2057.93 1498.76 Q2060.17 1496.24 2061.05 1494.5 Q2061.95 1492.75 2061.95 1491.06 Q2061.95 1488.3 2060.01 1486.57 Q2058.09 1484.83 2054.99 1484.83 Q2052.79 1484.83 2050.33 1485.59 Q2047.9 1486.36 2045.13 1487.91 L2045.13 1483.19 Q2047.95 1482.05 2050.4 1481.47 Q2052.86 1480.89 2054.89 1480.89 Q2060.27 1480.89 2063.46 1483.58 Q2066.65 1486.26 2066.65 1490.75 Q2066.65 1492.88 2065.84 1494.81 Q2065.06 1496.7 2062.95 1499.3 Q2062.37 1499.97 2059.27 1503.19 Q2056.17 1506.38 2050.52 1512.14 Z\" fill=\"#000000\" fill-rule=\"evenodd\" fill-opacity=\"1\" /><path clip-path=\"url(#clip3800)\" d=\"M 0 0 M2081.91 1484.6 Q2078.3 1484.6 2076.47 1488.16 Q2074.66 1491.7 2074.66 1498.83 Q2074.66 1505.94 2076.47 1509.5 Q2078.3 1513.05 2081.91 1513.05 Q2085.54 1513.05 2087.35 1509.5 Q2089.18 1505.94 2089.18 1498.83 Q2089.18 1491.7 2087.35 1488.16 Q2085.54 1484.6 2081.91 1484.6 M2081.91 1480.89 Q2087.72 1480.89 2090.77 1485.5 Q2093.85 1490.08 2093.85 1498.83 Q2093.85 1507.56 2090.77 1512.17 Q2087.72 1516.75 2081.91 1516.75 Q2076.1 1516.75 2073.02 1512.17 Q2069.96 1507.56 2069.96 1498.83 Q2069.96 1490.08 2073.02 1485.5 Q2076.1 1480.89 2081.91 1480.89 Z\" fill=\"#000000\" fill-rule=\"evenodd\" fill-opacity=\"1\" /><path clip-path=\"url(#clip3800)\" d=\"M 0 0 M2102.95 1512.14 L2119.27 1512.14 L2119.27 1516.08 L2097.33 1516.08 L2097.33 1512.14 Q2099.99 1509.39 2104.57 1504.76 Q2109.18 1500.11 2110.36 1498.76 Q2112.6 1496.24 2113.48 1494.5 Q2114.39 1492.75 2114.39 1491.06 Q2114.39 1488.3 2112.44 1486.57 Q2110.52 1484.83 2107.42 1484.83 Q2105.22 1484.83 2102.76 1485.59 Q2100.33 1486.36 2097.56 1487.91 L2097.56 1483.19 Q2100.38 1482.05 2102.83 1481.47 Q2105.29 1480.89 2107.33 1480.89 Q2112.7 1480.89 2115.89 1483.58 Q2119.08 1486.26 2119.08 1490.75 Q2119.08 1492.88 2118.27 1494.81 Q2117.49 1496.7 2115.38 1499.3 Q2114.8 1499.97 2111.7 1503.19 Q2108.6 1506.38 2102.95 1512.14 Z\" fill=\"#000000\" fill-rule=\"evenodd\" fill-opacity=\"1\" /><path clip-path=\"url(#clip3800)\" d=\"M 0 0 M2210.1 1512.14 L2217.74 1512.14 L2217.74 1485.78 L2209.43 1487.44 L2209.43 1483.19 L2217.69 1481.52 L2222.37 1481.52 L2222.37 1512.14 L2230.01 1512.14 L2230.01 1516.08 L2210.1 1516.08 L2210.1 1512.14 Z\" fill=\"#000000\" fill-rule=\"evenodd\" fill-opacity=\"1\" /><path clip-path=\"url(#clip3800)\" d=\"M 0 0 M2239.11 1512.14 L2255.42 1512.14 L2255.42 1516.08 L2233.48 1516.08 L2233.48 1512.14 Q2236.14 1509.39 2240.73 1504.76 Q2245.33 1500.11 2246.51 1498.76 Q2248.76 1496.24 2249.64 1494.5 Q2250.54 1492.75 2250.54 1491.06 Q2250.54 1488.3 2248.6 1486.57 Q2246.67 1484.83 2243.57 1484.83 Q2241.37 1484.83 2238.92 1485.59 Q2236.49 1486.36 2233.71 1487.91 L2233.71 1483.19 Q2236.54 1482.05 2238.99 1481.47 Q2241.44 1480.89 2243.48 1480.89 Q2248.85 1480.89 2252.05 1483.58 Q2255.24 1486.26 2255.24 1490.75 Q2255.24 1492.88 2254.43 1494.81 Q2253.64 1496.7 2251.54 1499.3 Q2250.96 1499.97 2247.86 1503.19 Q2244.75 1506.38 2239.11 1512.14 Z\" fill=\"#000000\" fill-rule=\"evenodd\" fill-opacity=\"1\" /><path clip-path=\"url(#clip3800)\" d=\"M 0 0 M2267.46 1481.52 L2271.4 1481.52 L2259.36 1520.48 L2255.42 1520.48 L2267.46 1481.52 Z\" fill=\"#000000\" fill-rule=\"evenodd\" fill-opacity=\"1\" /><path clip-path=\"url(#clip3800)\" d=\"M 0 0 M2277.28 1512.14 L2284.92 1512.14 L2284.92 1485.78 L2276.61 1487.44 L2276.61 1483.19 L2284.87 1481.52 L2289.54 1481.52 L2289.54 1512.14 L2297.18 1512.14 L2297.18 1516.08 L2277.28 1516.08 L2277.28 1512.14 Z\" fill=\"#000000\" fill-rule=\"evenodd\" fill-opacity=\"1\" /><path clip-path=\"url(#clip3800)\" d=\"M 0 0 M2306.28 1512.14 L2322.6 1512.14 L2322.6 1516.08 L2300.66 1516.08 L2300.66 1512.14 Q2303.32 1509.39 2307.9 1504.76 Q2312.51 1500.11 2313.69 1498.76 Q2315.93 1496.24 2316.81 1494.5 Q2317.72 1492.75 2317.72 1491.06 Q2317.72 1488.3 2315.77 1486.57 Q2313.85 1484.83 2310.75 1484.83 Q2308.55 1484.83 2306.1 1485.59 Q2303.67 1486.36 2300.89 1487.91 L2300.89 1483.19 Q2303.71 1482.05 2306.17 1481.47 Q2308.62 1480.89 2310.66 1480.89 Q2316.03 1480.89 2319.22 1483.58 Q2322.42 1486.26 2322.42 1490.75 Q2322.42 1492.88 2321.6 1494.81 Q2320.82 1496.7 2318.71 1499.3 Q2318.13 1499.97 2315.03 1503.19 Q2311.93 1506.38 2306.28 1512.14 Z\" fill=\"#000000\" fill-rule=\"evenodd\" fill-opacity=\"1\" /><path clip-path=\"url(#clip3800)\" d=\"M 0 0 M2337.67 1484.6 Q2334.06 1484.6 2332.23 1488.16 Q2330.42 1491.7 2330.42 1498.83 Q2330.42 1505.94 2332.23 1509.5 Q2334.06 1513.05 2337.67 1513.05 Q2341.3 1513.05 2343.11 1509.5 Q2344.94 1505.94 2344.94 1498.83 Q2344.94 1491.7 2343.11 1488.16 Q2341.3 1484.6 2337.67 1484.6 M2337.67 1480.89 Q2343.48 1480.89 2346.54 1485.5 Q2349.61 1490.08 2349.61 1498.83 Q2349.61 1507.56 2346.54 1512.17 Q2343.48 1516.75 2337.67 1516.75 Q2331.86 1516.75 2328.78 1512.17 Q2325.73 1507.56 2325.73 1498.83 Q2325.73 1490.08 2328.78 1485.5 Q2331.86 1480.89 2337.67 1480.89 Z\" fill=\"#000000\" fill-rule=\"evenodd\" fill-opacity=\"1\" /><path clip-path=\"url(#clip3800)\" d=\"M 0 0 M2368.85 1497.44 Q2372.21 1498.16 2374.08 1500.43 Q2375.98 1502.7 2375.98 1506.03 Q2375.98 1511.15 2372.46 1513.95 Q2368.94 1516.75 2362.46 1516.75 Q2360.29 1516.75 2357.97 1516.31 Q2355.68 1515.89 2353.23 1515.04 L2353.23 1510.52 Q2355.17 1511.66 2357.48 1512.24 Q2359.8 1512.81 2362.32 1512.81 Q2366.72 1512.81 2369.01 1511.08 Q2371.33 1509.34 2371.33 1506.03 Q2371.33 1502.98 2369.17 1501.26 Q2367.04 1499.53 2363.23 1499.53 L2359.2 1499.53 L2359.2 1495.69 L2363.41 1495.69 Q2366.86 1495.69 2368.69 1494.32 Q2370.52 1492.93 2370.52 1490.34 Q2370.52 1487.68 2368.62 1486.26 Q2366.74 1484.83 2363.23 1484.83 Q2361.3 1484.83 2359.1 1485.25 Q2356.91 1485.66 2354.27 1486.54 L2354.27 1482.38 Q2356.93 1481.63 2359.24 1481.26 Q2361.58 1480.89 2363.64 1480.89 Q2368.97 1480.89 2372.07 1483.32 Q2375.17 1485.73 2375.17 1489.85 Q2375.17 1492.72 2373.53 1494.71 Q2371.88 1496.68 2368.85 1497.44 Z\" fill=\"#000000\" fill-rule=\"evenodd\" fill-opacity=\"1\" /><path clip-path=\"url(#clip3800)\" d=\"M 0 0 M2458.13 1512.14 L2465.77 1512.14 L2465.77 1485.78 L2457.46 1487.44 L2457.46 1483.19 L2465.72 1481.52 L2470.4 1481.52 L2470.4 1512.14 L2478.03 1512.14 L2478.03 1516.08 L2458.13 1516.08 L2458.13 1512.14 Z\" fill=\"#000000\" fill-rule=\"evenodd\" fill-opacity=\"1\" /><path clip-path=\"url(#clip3800)\" d=\"M 0 0 M2487.13 1512.14 L2503.45 1512.14 L2503.45 1516.08 L2481.51 1516.08 L2481.51 1512.14 Q2484.17 1509.39 2488.75 1504.76 Q2493.36 1500.11 2494.54 1498.76 Q2496.78 1496.24 2497.66 1494.5 Q2498.57 1492.75 2498.57 1491.06 Q2498.57 1488.3 2496.62 1486.57 Q2494.7 1484.83 2491.6 1484.83 Q2489.4 1484.83 2486.95 1485.59 Q2484.52 1486.36 2481.74 1487.91 L2481.74 1483.19 Q2484.56 1482.05 2487.02 1481.47 Q2489.47 1480.89 2491.51 1480.89 Q2496.88 1480.89 2500.07 1483.58 Q2503.27 1486.26 2503.27 1490.75 Q2503.27 1492.88 2502.46 1494.81 Q2501.67 1496.7 2499.56 1499.3 Q2498.98 1499.97 2495.88 1503.19 Q2492.78 1506.38 2487.13 1512.14 Z\" fill=\"#000000\" fill-rule=\"evenodd\" fill-opacity=\"1\" /><path clip-path=\"url(#clip3800)\" d=\"M 0 0 M2515.49 1481.52 L2519.42 1481.52 L2507.39 1520.48 L2503.45 1520.48 L2515.49 1481.52 Z\" fill=\"#000000\" fill-rule=\"evenodd\" fill-opacity=\"1\" /><path clip-path=\"url(#clip3800)\" d=\"M 0 0 M2525.3 1512.14 L2532.94 1512.14 L2532.94 1485.78 L2524.63 1487.44 L2524.63 1483.19 L2532.89 1481.52 L2537.57 1481.52 L2537.57 1512.14 L2545.21 1512.14 L2545.21 1516.08 L2525.3 1516.08 L2525.3 1512.14 Z\" fill=\"#000000\" fill-rule=\"evenodd\" fill-opacity=\"1\" /><path clip-path=\"url(#clip3800)\" d=\"M 0 0 M2560.28 1484.6 Q2556.67 1484.6 2554.84 1488.16 Q2553.03 1491.7 2553.03 1498.83 Q2553.03 1505.94 2554.84 1509.5 Q2556.67 1513.05 2560.28 1513.05 Q2563.91 1513.05 2565.72 1509.5 Q2567.55 1505.94 2567.55 1498.83 Q2567.55 1491.7 2565.72 1488.16 Q2563.91 1484.6 2560.28 1484.6 M2560.28 1480.89 Q2566.09 1480.89 2569.14 1485.5 Q2572.22 1490.08 2572.22 1498.83 Q2572.22 1507.56 2569.14 1512.17 Q2566.09 1516.75 2560.28 1516.75 Q2554.47 1516.75 2551.39 1512.17 Q2548.33 1507.56 2548.33 1498.83 Q2548.33 1490.08 2551.39 1485.5 Q2554.47 1480.89 2560.28 1480.89 Z\" fill=\"#000000\" fill-rule=\"evenodd\" fill-opacity=\"1\" /><path clip-path=\"url(#clip3800)\" d=\"M 0 0 M2591.46 1497.44 Q2594.82 1498.16 2596.69 1500.43 Q2598.59 1502.7 2598.59 1506.03 Q2598.59 1511.15 2595.07 1513.95 Q2591.55 1516.75 2585.07 1516.75 Q2582.89 1516.75 2580.58 1516.31 Q2578.29 1515.89 2575.83 1515.04 L2575.83 1510.52 Q2577.78 1511.66 2580.09 1512.24 Q2582.41 1512.81 2584.93 1512.81 Q2589.33 1512.81 2591.62 1511.08 Q2593.94 1509.34 2593.94 1506.03 Q2593.94 1502.98 2591.78 1501.26 Q2589.65 1499.53 2585.83 1499.53 L2581.81 1499.53 L2581.81 1495.69 L2586.02 1495.69 Q2589.47 1495.69 2591.3 1494.32 Q2593.13 1492.93 2593.13 1490.34 Q2593.13 1487.68 2591.23 1486.26 Q2589.35 1484.83 2585.83 1484.83 Q2583.91 1484.83 2581.71 1485.25 Q2579.52 1485.66 2576.88 1486.54 L2576.88 1482.38 Q2579.54 1481.63 2581.85 1481.26 Q2584.19 1480.89 2586.25 1480.89 Q2591.58 1480.89 2594.68 1483.32 Q2597.78 1485.73 2597.78 1489.85 Q2597.78 1492.72 2596.14 1494.71 Q2594.49 1496.68 2591.46 1497.44 Z\" fill=\"#000000\" fill-rule=\"evenodd\" fill-opacity=\"1\" /><path clip-path=\"url(#clip3800)\" d=\"M 0 0 M2714.65 1512.14 L2722.29 1512.14 L2722.29 1485.78 L2713.98 1487.44 L2713.98 1483.19 L2722.24 1481.52 L2726.92 1481.52 L2726.92 1512.14 L2734.56 1512.14 L2734.56 1516.08 L2714.65 1516.08 L2714.65 1512.14 Z\" fill=\"#000000\" fill-rule=\"evenodd\" fill-opacity=\"1\" /><path clip-path=\"url(#clip3800)\" d=\"M 0 0 M2740.44 1512.14 L2748.08 1512.14 L2748.08 1485.78 L2739.77 1487.44 L2739.77 1483.19 L2748.03 1481.52 L2752.71 1481.52 L2752.71 1512.14 L2760.35 1512.14 L2760.35 1516.08 L2740.44 1516.08 L2740.44 1512.14 Z\" fill=\"#000000\" fill-rule=\"evenodd\" fill-opacity=\"1\" /><path clip-path=\"url(#clip3800)\" d=\"M 0 0 M2772.38 1481.52 L2776.32 1481.52 L2764.28 1520.48 L2760.35 1520.48 L2772.38 1481.52 Z\" fill=\"#000000\" fill-rule=\"evenodd\" fill-opacity=\"1\" /><path clip-path=\"url(#clip3800)\" d=\"M 0 0 M2782.2 1512.14 L2789.84 1512.14 L2789.84 1485.78 L2781.53 1487.44 L2781.53 1483.19 L2789.79 1481.52 L2794.47 1481.52 L2794.47 1512.14 L2802.11 1512.14 L2802.11 1516.08 L2782.2 1516.08 L2782.2 1512.14 Z\" fill=\"#000000\" fill-rule=\"evenodd\" fill-opacity=\"1\" /><path clip-path=\"url(#clip3800)\" d=\"M 0 0 M2817.17 1484.6 Q2813.56 1484.6 2811.73 1488.16 Q2809.93 1491.7 2809.93 1498.83 Q2809.93 1505.94 2811.73 1509.5 Q2813.56 1513.05 2817.17 1513.05 Q2820.81 1513.05 2822.61 1509.5 Q2824.44 1505.94 2824.44 1498.83 Q2824.44 1491.7 2822.61 1488.16 Q2820.81 1484.6 2817.17 1484.6 M2817.17 1480.89 Q2822.98 1480.89 2826.04 1485.5 Q2829.12 1490.08 2829.12 1498.83 Q2829.12 1507.56 2826.04 1512.17 Q2822.98 1516.75 2817.17 1516.75 Q2811.36 1516.75 2808.29 1512.17 Q2805.23 1507.56 2805.23 1498.83 Q2805.23 1490.08 2808.29 1485.5 Q2811.36 1480.89 2817.17 1480.89 Z\" fill=\"#000000\" fill-rule=\"evenodd\" fill-opacity=\"1\" /><path clip-path=\"url(#clip3800)\" d=\"M 0 0 M2848.35 1497.44 Q2851.71 1498.16 2853.59 1500.43 Q2855.48 1502.7 2855.48 1506.03 Q2855.48 1511.15 2851.97 1513.95 Q2848.45 1516.75 2841.97 1516.75 Q2839.79 1516.75 2837.48 1516.31 Q2835.18 1515.89 2832.73 1515.04 L2832.73 1510.52 Q2834.67 1511.66 2836.99 1512.24 Q2839.3 1512.81 2841.83 1512.81 Q2846.23 1512.81 2848.52 1511.08 Q2850.83 1509.34 2850.83 1506.03 Q2850.83 1502.98 2848.68 1501.26 Q2846.55 1499.53 2842.73 1499.53 L2838.7 1499.53 L2838.7 1495.69 L2842.92 1495.69 Q2846.36 1495.69 2848.19 1494.32 Q2850.02 1492.93 2850.02 1490.34 Q2850.02 1487.68 2848.12 1486.26 Q2846.25 1484.83 2842.73 1484.83 Q2840.81 1484.83 2838.61 1485.25 Q2836.41 1485.66 2833.77 1486.54 L2833.77 1482.38 Q2836.43 1481.63 2838.75 1481.26 Q2841.09 1480.89 2843.15 1480.89 Q2848.47 1480.89 2851.57 1483.32 Q2854.67 1485.73 2854.67 1489.85 Q2854.67 1492.72 2853.03 1494.71 Q2851.39 1496.68 2848.35 1497.44 Z\" fill=\"#000000\" fill-rule=\"evenodd\" fill-opacity=\"1\" /><path clip-path=\"url(#clip3800)\" d=\"M 0 0 M2949.83 1512.14 L2957.47 1512.14 L2957.47 1485.78 L2949.16 1487.44 L2949.16 1483.19 L2957.42 1481.52 L2962.1 1481.52 L2962.1 1512.14 L2969.74 1512.14 L2969.74 1516.08 L2949.83 1516.08 L2949.83 1512.14 Z\" fill=\"#000000\" fill-rule=\"evenodd\" fill-opacity=\"1\" /><path clip-path=\"url(#clip3800)\" d=\"M 0 0 M2984.81 1484.6 Q2981.2 1484.6 2979.37 1488.16 Q2977.56 1491.7 2977.56 1498.83 Q2977.56 1505.94 2979.37 1509.5 Q2981.2 1513.05 2984.81 1513.05 Q2988.44 1513.05 2990.25 1509.5 Q2992.08 1505.94 2992.08 1498.83 Q2992.08 1491.7 2990.25 1488.16 Q2988.44 1484.6 2984.81 1484.6 M2984.81 1480.89 Q2990.62 1480.89 2993.67 1485.5 Q2996.75 1490.08 2996.75 1498.83 Q2996.75 1507.56 2993.67 1512.17 Q2990.62 1516.75 2984.81 1516.75 Q2979 1516.75 2975.92 1512.17 Q2972.86 1507.56 2972.86 1498.83 Q2972.86 1490.08 2975.92 1485.5 Q2979 1480.89 2984.81 1480.89 Z\" fill=\"#000000\" fill-rule=\"evenodd\" fill-opacity=\"1\" /><path clip-path=\"url(#clip3800)\" d=\"M 0 0 M3008.79 1481.52 L3012.72 1481.52 L3000.69 1520.48 L2996.75 1520.48 L3008.79 1481.52 Z\" fill=\"#000000\" fill-rule=\"evenodd\" fill-opacity=\"1\" /><path clip-path=\"url(#clip3800)\" d=\"M 0 0 M3021.82 1512.14 L3038.14 1512.14 L3038.14 1516.08 L3016.2 1516.08 L3016.2 1512.14 Q3018.86 1509.39 3023.44 1504.76 Q3028.05 1500.11 3029.23 1498.76 Q3031.47 1496.24 3032.35 1494.5 Q3033.26 1492.75 3033.26 1491.06 Q3033.26 1488.3 3031.31 1486.57 Q3029.39 1484.83 3026.29 1484.83 Q3024.09 1484.83 3021.64 1485.59 Q3019.21 1486.36 3016.43 1487.91 L3016.43 1483.19 Q3019.25 1482.05 3021.71 1481.47 Q3024.16 1480.89 3026.2 1480.89 Q3031.57 1480.89 3034.76 1483.58 Q3037.96 1486.26 3037.96 1490.75 Q3037.96 1492.88 3037.14 1494.81 Q3036.36 1496.7 3034.25 1499.3 Q3033.67 1499.97 3030.57 1503.19 Q3027.47 1506.38 3021.82 1512.14 Z\" fill=\"#000000\" fill-rule=\"evenodd\" fill-opacity=\"1\" /><path clip-path=\"url(#clip3800)\" d=\"M 0 0 M3053.21 1484.6 Q3049.6 1484.6 3047.77 1488.16 Q3045.96 1491.7 3045.96 1498.83 Q3045.96 1505.94 3047.77 1509.5 Q3049.6 1513.05 3053.21 1513.05 Q3056.84 1513.05 3058.65 1509.5 Q3060.48 1505.94 3060.48 1498.83 Q3060.48 1491.7 3058.65 1488.16 Q3056.84 1484.6 3053.21 1484.6 M3053.21 1480.89 Q3059.02 1480.89 3062.08 1485.5 Q3065.15 1490.08 3065.15 1498.83 Q3065.15 1507.56 3062.08 1512.17 Q3059.02 1516.75 3053.21 1516.75 Q3047.4 1516.75 3044.32 1512.17 Q3041.27 1507.56 3041.27 1498.83 Q3041.27 1490.08 3044.32 1485.5 Q3047.4 1480.89 3053.21 1480.89 Z\" fill=\"#000000\" fill-rule=\"evenodd\" fill-opacity=\"1\" /><path clip-path=\"url(#clip3800)\" d=\"M 0 0 M3071.03 1512.14 L3078.67 1512.14 L3078.67 1485.78 L3070.36 1487.44 L3070.36 1483.19 L3078.63 1481.52 L3083.3 1481.52 L3083.3 1512.14 L3090.94 1512.14 L3090.94 1516.08 L3071.03 1516.08 L3071.03 1512.14 Z\" fill=\"#000000\" fill-rule=\"evenodd\" fill-opacity=\"1\" /><path clip-path=\"url(#clip3800)\" d=\"M 0 0 M3216.44 1484.6 Q3212.83 1484.6 3211 1488.16 Q3209.19 1491.7 3209.19 1498.83 Q3209.19 1505.94 3211 1509.5 Q3212.83 1513.05 3216.44 1513.05 Q3220.07 1513.05 3221.88 1509.5 Q3223.71 1505.94 3223.71 1498.83 Q3223.71 1491.7 3221.88 1488.16 Q3220.07 1484.6 3216.44 1484.6 M3216.44 1480.89 Q3222.25 1480.89 3225.3 1485.5 Q3228.38 1490.08 3228.38 1498.83 Q3228.38 1507.56 3225.3 1512.17 Q3222.25 1516.75 3216.44 1516.75 Q3210.63 1516.75 3207.55 1512.17 Q3204.49 1507.56 3204.49 1498.83 Q3204.49 1490.08 3207.55 1485.5 Q3210.63 1480.89 3216.44 1480.89 Z\" fill=\"#000000\" fill-rule=\"evenodd\" fill-opacity=\"1\" /><path clip-path=\"url(#clip3800)\" d=\"M 0 0 M3233.59 1515.36 L3233.59 1511.1 Q3235.35 1511.94 3237.15 1512.38 Q3238.96 1512.81 3240.7 1512.81 Q3245.33 1512.81 3247.76 1509.71 Q3250.21 1506.59 3250.56 1500.25 Q3249.21 1502.24 3247.15 1503.3 Q3245.09 1504.37 3242.59 1504.37 Q3237.41 1504.37 3234.38 1501.24 Q3231.37 1498.09 3231.37 1492.65 Q3231.37 1487.33 3234.52 1484.11 Q3237.66 1480.89 3242.89 1480.89 Q3248.89 1480.89 3252.04 1485.5 Q3255.21 1490.08 3255.21 1498.83 Q3255.21 1507 3251.32 1511.89 Q3247.45 1516.75 3240.9 1516.75 Q3239.14 1516.75 3237.34 1516.4 Q3235.53 1516.06 3233.59 1515.36 M3242.89 1500.71 Q3246.04 1500.71 3247.87 1498.56 Q3249.72 1496.4 3249.72 1492.65 Q3249.72 1488.93 3247.87 1486.77 Q3246.04 1484.6 3242.89 1484.6 Q3239.75 1484.6 3237.89 1486.77 Q3236.07 1488.93 3236.07 1492.65 Q3236.07 1496.4 3237.89 1498.56 Q3239.75 1500.71 3242.89 1500.71 Z\" fill=\"#000000\" fill-rule=\"evenodd\" fill-opacity=\"1\" /><path clip-path=\"url(#clip3800)\" d=\"M 0 0 M3267.25 1481.52 L3271.18 1481.52 L3259.14 1520.48 L3255.21 1520.48 L3267.25 1481.52 Z\" fill=\"#000000\" fill-rule=\"evenodd\" fill-opacity=\"1\" /><path clip-path=\"url(#clip3800)\" d=\"M 0 0 M3280.28 1512.14 L3296.6 1512.14 L3296.6 1516.08 L3274.65 1516.08 L3274.65 1512.14 Q3277.32 1509.39 3281.9 1504.76 Q3286.51 1500.11 3287.69 1498.76 Q3289.93 1496.24 3290.81 1494.5 Q3291.71 1492.75 3291.71 1491.06 Q3291.71 1488.3 3289.77 1486.57 Q3287.85 1484.83 3284.75 1484.83 Q3282.55 1484.83 3280.09 1485.59 Q3277.66 1486.36 3274.89 1487.91 L3274.89 1483.19 Q3277.71 1482.05 3280.16 1481.47 Q3282.62 1480.89 3284.65 1480.89 Q3290.02 1480.89 3293.22 1483.58 Q3296.41 1486.26 3296.41 1490.75 Q3296.41 1492.88 3295.6 1494.81 Q3294.82 1496.7 3292.71 1499.3 Q3292.13 1499.97 3289.03 1503.19 Q3285.93 1506.38 3280.28 1512.14 Z\" fill=\"#000000\" fill-rule=\"evenodd\" fill-opacity=\"1\" /><path clip-path=\"url(#clip3800)\" d=\"M 0 0 M3311.67 1484.6 Q3308.06 1484.6 3306.23 1488.16 Q3304.42 1491.7 3304.42 1498.83 Q3304.42 1505.94 3306.23 1509.5 Q3308.06 1513.05 3311.67 1513.05 Q3315.3 1513.05 3317.11 1509.5 Q3318.94 1505.94 3318.94 1498.83 Q3318.94 1491.7 3317.11 1488.16 Q3315.3 1484.6 3311.67 1484.6 M3311.67 1480.89 Q3317.48 1480.89 3320.53 1485.5 Q3323.61 1490.08 3323.61 1498.83 Q3323.61 1507.56 3320.53 1512.17 Q3317.48 1516.75 3311.67 1516.75 Q3305.86 1516.75 3302.78 1512.17 Q3299.72 1507.56 3299.72 1498.83 Q3299.72 1490.08 3302.78 1485.5 Q3305.86 1480.89 3311.67 1480.89 Z\" fill=\"#000000\" fill-rule=\"evenodd\" fill-opacity=\"1\" /><path clip-path=\"url(#clip3800)\" d=\"M 0 0 M3332.71 1512.14 L3349.03 1512.14 L3349.03 1516.08 L3327.08 1516.08 L3327.08 1512.14 Q3329.75 1509.39 3334.33 1504.76 Q3338.94 1500.11 3340.12 1498.76 Q3342.36 1496.24 3343.24 1494.5 Q3344.14 1492.75 3344.14 1491.06 Q3344.14 1488.3 3342.2 1486.57 Q3340.28 1484.83 3337.18 1484.83 Q3334.98 1484.83 3332.52 1485.59 Q3330.09 1486.36 3327.32 1487.91 L3327.32 1483.19 Q3330.14 1482.05 3332.59 1481.47 Q3335.05 1480.89 3337.08 1480.89 Q3342.45 1480.89 3345.65 1483.58 Q3348.84 1486.26 3348.84 1490.75 Q3348.84 1492.88 3348.03 1494.81 Q3347.25 1496.7 3345.14 1499.3 Q3344.56 1499.97 3341.46 1503.19 Q3338.36 1506.38 3332.71 1512.14 Z\" fill=\"#000000\" fill-rule=\"evenodd\" fill-opacity=\"1\" /><path clip-path=\"url(#clip3800)\" d=\"M 0 0 M3450.76 1484.6 Q3447.15 1484.6 3445.32 1488.16 Q3443.51 1491.7 3443.51 1498.83 Q3443.51 1505.94 3445.32 1509.5 Q3447.15 1513.05 3450.76 1513.05 Q3454.39 1513.05 3456.2 1509.5 Q3458.03 1505.94 3458.03 1498.83 Q3458.03 1491.7 3456.2 1488.16 Q3454.39 1484.6 3450.76 1484.6 M3450.76 1480.89 Q3456.57 1480.89 3459.62 1485.5 Q3462.7 1490.08 3462.7 1498.83 Q3462.7 1507.56 3459.62 1512.17 Q3456.57 1516.75 3450.76 1516.75 Q3444.95 1516.75 3441.87 1512.17 Q3438.81 1507.56 3438.81 1498.83 Q3438.81 1490.08 3441.87 1485.5 Q3444.95 1480.89 3450.76 1480.89 Z\" fill=\"#000000\" fill-rule=\"evenodd\" fill-opacity=\"1\" /><path clip-path=\"url(#clip3800)\" d=\"M 0 0 M3477.77 1499.67 Q3474.44 1499.67 3472.52 1501.45 Q3470.62 1503.23 3470.62 1506.36 Q3470.62 1509.48 3472.52 1511.26 Q3474.44 1513.05 3477.77 1513.05 Q3481.11 1513.05 3483.03 1511.26 Q3484.95 1509.46 3484.95 1506.36 Q3484.95 1503.23 3483.03 1501.45 Q3481.13 1499.67 3477.77 1499.67 M3473.1 1497.68 Q3470.09 1496.94 3468.4 1494.88 Q3466.73 1492.82 3466.73 1489.85 Q3466.73 1485.71 3469.67 1483.3 Q3472.63 1480.89 3477.77 1480.89 Q3482.93 1480.89 3485.87 1483.3 Q3488.81 1485.71 3488.81 1489.85 Q3488.81 1492.82 3487.12 1494.88 Q3485.46 1496.94 3482.47 1497.68 Q3485.85 1498.46 3487.73 1500.75 Q3489.62 1503.05 3489.62 1506.36 Q3489.62 1511.38 3486.55 1514.06 Q3483.49 1516.75 3477.77 1516.75 Q3472.06 1516.75 3468.98 1514.06 Q3465.92 1511.38 3465.92 1506.36 Q3465.92 1503.05 3467.82 1500.75 Q3469.72 1498.46 3473.1 1497.68 M3471.38 1490.29 Q3471.38 1492.98 3473.05 1494.48 Q3474.74 1495.99 3477.77 1495.99 Q3480.78 1495.99 3482.47 1494.48 Q3484.18 1492.98 3484.18 1490.29 Q3484.18 1487.61 3482.47 1486.1 Q3480.78 1484.6 3477.77 1484.6 Q3474.74 1484.6 3473.05 1486.1 Q3471.38 1487.61 3471.38 1490.29 Z\" fill=\"#000000\" fill-rule=\"evenodd\" fill-opacity=\"1\" /><path clip-path=\"url(#clip3800)\" d=\"M 0 0 M3501.66 1481.52 L3505.6 1481.52 L3493.56 1520.48 L3489.62 1520.48 L3501.66 1481.52 Z\" fill=\"#000000\" fill-rule=\"evenodd\" fill-opacity=\"1\" /><path clip-path=\"url(#clip3800)\" d=\"M 0 0 M3524.83 1497.44 Q3528.19 1498.16 3530.06 1500.43 Q3531.96 1502.7 3531.96 1506.03 Q3531.96 1511.15 3528.44 1513.95 Q3524.93 1516.75 3518.44 1516.75 Q3516.27 1516.75 3513.95 1516.31 Q3511.66 1515.89 3509.21 1515.04 L3509.21 1510.52 Q3511.15 1511.66 3513.47 1512.24 Q3515.78 1512.81 3518.3 1512.81 Q3522.7 1512.81 3524.99 1511.08 Q3527.31 1509.34 3527.31 1506.03 Q3527.31 1502.98 3525.16 1501.26 Q3523.03 1499.53 3519.21 1499.53 L3515.18 1499.53 L3515.18 1495.69 L3519.39 1495.69 Q3522.84 1495.69 3524.67 1494.32 Q3526.5 1492.93 3526.5 1490.34 Q3526.5 1487.68 3524.6 1486.26 Q3522.73 1484.83 3519.21 1484.83 Q3517.29 1484.83 3515.09 1485.25 Q3512.89 1485.66 3510.25 1486.54 L3510.25 1482.38 Q3512.91 1481.63 3515.23 1481.26 Q3517.56 1480.89 3519.62 1480.89 Q3524.95 1480.89 3528.05 1483.32 Q3531.15 1485.73 3531.15 1489.85 Q3531.15 1492.72 3529.51 1494.71 Q3527.87 1496.68 3524.83 1497.44 Z\" fill=\"#000000\" fill-rule=\"evenodd\" fill-opacity=\"1\" /><path clip-path=\"url(#clip3800)\" d=\"M 0 0 M3547.03 1484.6 Q3543.42 1484.6 3541.59 1488.16 Q3539.79 1491.7 3539.79 1498.83 Q3539.79 1505.94 3541.59 1509.5 Q3543.42 1513.05 3547.03 1513.05 Q3550.67 1513.05 3552.47 1509.5 Q3554.3 1505.94 3554.3 1498.83 Q3554.3 1491.7 3552.47 1488.16 Q3550.67 1484.6 3547.03 1484.6 M3547.03 1480.89 Q3552.84 1480.89 3555.9 1485.5 Q3558.98 1490.08 3558.98 1498.83 Q3558.98 1507.56 3555.9 1512.17 Q3552.84 1516.75 3547.03 1516.75 Q3541.22 1516.75 3538.14 1512.17 Q3535.09 1507.56 3535.09 1498.83 Q3535.09 1490.08 3538.14 1485.5 Q3541.22 1480.89 3547.03 1480.89 Z\" fill=\"#000000\" fill-rule=\"evenodd\" fill-opacity=\"1\" /><path clip-path=\"url(#clip3800)\" d=\"M 0 0 M3578.21 1497.44 Q3581.57 1498.16 3583.44 1500.43 Q3585.34 1502.7 3585.34 1506.03 Q3585.34 1511.15 3581.82 1513.95 Q3578.3 1516.75 3571.82 1516.75 Q3569.65 1516.75 3567.33 1516.31 Q3565.04 1515.89 3562.59 1515.04 L3562.59 1510.52 Q3564.53 1511.66 3566.85 1512.24 Q3569.16 1512.81 3571.68 1512.81 Q3576.08 1512.81 3578.37 1511.08 Q3580.69 1509.34 3580.69 1506.03 Q3580.69 1502.98 3578.54 1501.26 Q3576.41 1499.53 3572.59 1499.53 L3568.56 1499.53 L3568.56 1495.69 L3572.77 1495.69 Q3576.22 1495.69 3578.05 1494.32 Q3579.88 1492.93 3579.88 1490.34 Q3579.88 1487.68 3577.98 1486.26 Q3576.11 1484.83 3572.59 1484.83 Q3570.67 1484.83 3568.47 1485.25 Q3566.27 1485.66 3563.63 1486.54 L3563.63 1482.38 Q3566.29 1481.63 3568.61 1481.26 Q3570.94 1480.89 3573 1480.89 Q3578.33 1480.89 3581.43 1483.32 Q3584.53 1485.73 3584.53 1489.85 Q3584.53 1492.72 3582.89 1494.71 Q3581.24 1496.68 3578.21 1497.44 Z\" fill=\"#000000\" fill-rule=\"evenodd\" fill-opacity=\"1\" /><path clip-path=\"url(#clip3800)\" d=\"M 0 0 M3708.16 1484.6 Q3704.55 1484.6 3702.72 1488.16 Q3700.92 1491.7 3700.92 1498.83 Q3700.92 1505.94 3702.72 1509.5 Q3704.55 1513.05 3708.16 1513.05 Q3711.8 1513.05 3713.6 1509.5 Q3715.43 1505.94 3715.43 1498.83 Q3715.43 1491.7 3713.6 1488.16 Q3711.8 1484.6 3708.16 1484.6 M3708.16 1480.89 Q3713.97 1480.89 3717.03 1485.5 Q3720.11 1490.08 3720.11 1498.83 Q3720.11 1507.56 3717.03 1512.17 Q3713.97 1516.75 3708.16 1516.75 Q3702.35 1516.75 3699.27 1512.17 Q3696.22 1507.56 3696.22 1498.83 Q3696.22 1490.08 3699.27 1485.5 Q3702.35 1480.89 3708.16 1480.89 Z\" fill=\"#000000\" fill-rule=\"evenodd\" fill-opacity=\"1\" /><path clip-path=\"url(#clip3800)\" d=\"M 0 0 M3724 1481.52 L3746.22 1481.52 L3746.22 1483.51 L3733.67 1516.08 L3728.79 1516.08 L3740.59 1485.45 L3724 1485.45 L3724 1481.52 Z\" fill=\"#000000\" fill-rule=\"evenodd\" fill-opacity=\"1\" /><path clip-path=\"url(#clip3800)\" d=\"M 0 0 M3758.26 1481.52 L3762.19 1481.52 L3750.15 1520.48 L3746.22 1520.48 L3758.26 1481.52 Z\" fill=\"#000000\" fill-rule=\"evenodd\" fill-opacity=\"1\" /><path clip-path=\"url(#clip3800)\" d=\"M 0 0 M3781.43 1497.44 Q3784.78 1498.16 3786.66 1500.43 Q3788.56 1502.7 3788.56 1506.03 Q3788.56 1511.15 3785.04 1513.95 Q3781.52 1516.75 3775.04 1516.75 Q3772.86 1516.75 3770.55 1516.31 Q3768.26 1515.89 3765.8 1515.04 L3765.8 1510.52 Q3767.75 1511.66 3770.06 1512.24 Q3772.38 1512.81 3774.9 1512.81 Q3779.3 1512.81 3781.59 1511.08 Q3783.9 1509.34 3783.9 1506.03 Q3783.9 1502.98 3781.75 1501.26 Q3779.62 1499.53 3775.8 1499.53 L3771.77 1499.53 L3771.77 1495.69 L3775.99 1495.69 Q3779.44 1495.69 3781.27 1494.32 Q3783.09 1492.93 3783.09 1490.34 Q3783.09 1487.68 3781.2 1486.26 Q3779.32 1484.83 3775.8 1484.83 Q3773.88 1484.83 3771.68 1485.25 Q3769.48 1485.66 3766.84 1486.54 L3766.84 1482.38 Q3769.51 1481.63 3771.82 1481.26 Q3774.16 1480.89 3776.22 1480.89 Q3781.54 1480.89 3784.64 1483.32 Q3787.75 1485.73 3787.75 1489.85 Q3787.75 1492.72 3786.1 1494.71 Q3784.46 1496.68 3781.43 1497.44 Z\" fill=\"#000000\" fill-rule=\"evenodd\" fill-opacity=\"1\" /><path clip-path=\"url(#clip3800)\" d=\"M 0 0 M3803.63 1484.6 Q3800.01 1484.6 3798.19 1488.16 Q3796.38 1491.7 3796.38 1498.83 Q3796.38 1505.94 3798.19 1509.5 Q3800.01 1513.05 3803.63 1513.05 Q3807.26 1513.05 3809.07 1509.5 Q3810.89 1505.94 3810.89 1498.83 Q3810.89 1491.7 3809.07 1488.16 Q3807.26 1484.6 3803.63 1484.6 M3803.63 1480.89 Q3809.44 1480.89 3812.49 1485.5 Q3815.57 1490.08 3815.57 1498.83 Q3815.57 1507.56 3812.49 1512.17 Q3809.44 1516.75 3803.63 1516.75 Q3797.82 1516.75 3794.74 1512.17 Q3791.68 1507.56 3791.68 1498.83 Q3791.68 1490.08 3794.74 1485.5 Q3797.82 1480.89 3803.63 1480.89 Z\" fill=\"#000000\" fill-rule=\"evenodd\" fill-opacity=\"1\" /><path clip-path=\"url(#clip3800)\" d=\"M 0 0 M3821.45 1512.14 L3829.09 1512.14 L3829.09 1485.78 L3820.78 1487.44 L3820.78 1483.19 L3829.04 1481.52 L3833.72 1481.52 L3833.72 1512.14 L3841.36 1512.14 L3841.36 1516.08 L3821.45 1516.08 L3821.45 1512.14 Z\" fill=\"#000000\" fill-rule=\"evenodd\" fill-opacity=\"1\" /><path clip-path=\"url(#clip3800)\" d=\"M 0 0 M126.885 1294.74 Q130.241 1295.46 132.116 1297.73 Q134.014 1300 134.014 1303.33 Q134.014 1308.44 130.496 1311.25 Q126.977 1314.05 120.496 1314.05 Q118.32 1314.05 116.005 1313.61 Q113.714 1313.19 111.26 1312.33 L111.26 1307.82 Q113.204 1308.95 115.519 1309.53 Q117.834 1310.11 120.357 1310.11 Q124.755 1310.11 127.047 1308.38 Q129.362 1306.64 129.362 1303.33 Q129.362 1300.27 127.209 1298.56 Q125.079 1296.82 121.26 1296.82 L117.232 1296.82 L117.232 1292.98 L121.445 1292.98 Q124.894 1292.98 126.723 1291.62 Q128.552 1290.23 128.552 1287.63 Q128.552 1284.97 126.653 1283.56 Q124.778 1282.13 121.26 1282.13 Q119.339 1282.13 117.14 1282.54 Q114.94 1282.96 112.302 1283.84 L112.302 1279.67 Q114.964 1278.93 117.278 1278.56 Q119.616 1278.19 121.677 1278.19 Q127.001 1278.19 130.102 1280.62 Q133.204 1283.03 133.204 1287.15 Q133.204 1290.02 131.561 1292.01 Q129.917 1293.98 126.885 1294.74 Z\" fill=\"#000000\" fill-rule=\"evenodd\" fill-opacity=\"1\" /><path clip-path=\"url(#clip3800)\" d=\"M 0 0 M139.13 1278.82 L157.487 1278.82 L157.487 1282.75 L143.413 1282.75 L143.413 1291.22 Q144.431 1290.88 145.45 1290.71 Q146.468 1290.53 147.487 1290.53 Q153.274 1290.53 156.653 1293.7 Q160.033 1296.87 160.033 1302.29 Q160.033 1307.87 156.561 1310.97 Q153.088 1314.05 146.769 1314.05 Q144.593 1314.05 142.325 1313.68 Q140.079 1313.31 137.672 1312.57 L137.672 1307.87 Q139.755 1309 141.977 1309.56 Q144.2 1310.11 146.676 1310.11 Q150.681 1310.11 153.019 1308.01 Q155.357 1305.9 155.357 1302.29 Q155.357 1298.68 153.019 1296.57 Q150.681 1294.46 146.676 1294.46 Q144.801 1294.46 142.926 1294.88 Q141.075 1295.3 139.13 1296.18 L139.13 1278.82 Z\" fill=\"#000000\" fill-rule=\"evenodd\" fill-opacity=\"1\" /><path clip-path=\"url(#clip3800)\" d=\"M 0 0 M123.436 1053.91 L111.63 1072.36 L123.436 1072.36 L123.436 1053.91 M122.209 1049.84 L128.089 1049.84 L128.089 1072.36 L133.019 1072.36 L133.019 1076.25 L128.089 1076.25 L128.089 1084.4 L123.436 1084.4 L123.436 1076.25 L107.834 1076.25 L107.834 1071.73 L122.209 1049.84 Z\" fill=\"#000000\" fill-rule=\"evenodd\" fill-opacity=\"1\" /><path clip-path=\"url(#clip3800)\" d=\"M 0 0 M148.088 1052.92 Q144.477 1052.92 142.649 1056.48 Q140.843 1060.02 140.843 1067.15 Q140.843 1074.26 142.649 1077.82 Q144.477 1081.36 148.088 1081.36 Q151.723 1081.36 153.528 1077.82 Q155.357 1074.26 155.357 1067.15 Q155.357 1060.02 153.528 1056.48 Q151.723 1052.92 148.088 1052.92 M148.088 1049.21 Q153.899 1049.21 156.954 1053.82 Q160.033 1058.4 160.033 1067.15 Q160.033 1075.88 156.954 1080.48 Q153.899 1085.07 148.088 1085.07 Q142.278 1085.07 139.2 1080.48 Q136.144 1075.88 136.144 1067.15 Q136.144 1058.4 139.2 1053.82 Q142.278 1049.21 148.088 1049.21 Z\" fill=\"#000000\" fill-rule=\"evenodd\" fill-opacity=\"1\" /><path clip-path=\"url(#clip3800)\" d=\"M 0 0 M124.431 824.931 L112.626 843.38 L124.431 843.38 L124.431 824.931 M123.204 820.857 L129.084 820.857 L129.084 843.38 L134.014 843.38 L134.014 847.269 L129.084 847.269 L129.084 855.417 L124.431 855.417 L124.431 847.269 L108.829 847.269 L108.829 842.755 L123.204 820.857 Z\" fill=\"#000000\" fill-rule=\"evenodd\" fill-opacity=\"1\" /><path clip-path=\"url(#clip3800)\" d=\"M 0 0 M139.13 820.857 L157.487 820.857 L157.487 824.793 L143.413 824.793 L143.413 833.265 Q144.431 832.918 145.45 832.756 Q146.468 832.57 147.487 832.57 Q153.274 832.57 156.653 835.742 Q160.033 838.913 160.033 844.33 Q160.033 849.908 156.561 853.01 Q153.088 856.089 146.769 856.089 Q144.593 856.089 142.325 855.718 Q140.079 855.348 137.672 854.607 L137.672 849.908 Q139.755 851.042 141.977 851.598 Q144.2 852.154 146.676 852.154 Q150.681 852.154 153.019 850.047 Q155.357 847.941 155.357 844.33 Q155.357 840.718 153.019 838.612 Q150.681 836.506 146.676 836.506 Q144.801 836.506 142.926 836.922 Q141.075 837.339 139.13 838.218 L139.13 820.857 Z\" fill=\"#000000\" fill-rule=\"evenodd\" fill-opacity=\"1\" /><path clip-path=\"url(#clip3800)\" d=\"M 0 0 M112.116 591.878 L130.473 591.878 L130.473 595.814 L116.399 595.814 L116.399 604.286 Q117.417 603.939 118.436 603.777 Q119.454 603.591 120.473 603.591 Q126.26 603.591 129.639 606.763 Q133.019 609.934 133.019 615.351 Q133.019 620.929 129.547 624.031 Q126.075 627.11 119.755 627.11 Q117.579 627.11 115.311 626.739 Q113.065 626.369 110.658 625.628 L110.658 620.929 Q112.741 622.064 114.964 622.619 Q117.186 623.175 119.663 623.175 Q123.667 623.175 126.005 621.068 Q128.343 618.962 128.343 615.351 Q128.343 611.739 126.005 609.633 Q123.667 607.527 119.663 607.527 Q117.788 607.527 115.913 607.943 Q114.061 608.36 112.116 609.239 L112.116 591.878 Z\" fill=\"#000000\" fill-rule=\"evenodd\" fill-opacity=\"1\" /><path clip-path=\"url(#clip3800)\" d=\"M 0 0 M148.088 594.957 Q144.477 594.957 142.649 598.522 Q140.843 602.064 140.843 609.193 Q140.843 616.3 142.649 619.864 Q144.477 623.406 148.088 623.406 Q151.723 623.406 153.528 619.864 Q155.357 616.3 155.357 609.193 Q155.357 602.064 153.528 598.522 Q151.723 594.957 148.088 594.957 M148.088 591.253 Q153.899 591.253 156.954 595.86 Q160.033 600.443 160.033 609.193 Q160.033 617.92 156.954 622.526 Q153.899 627.11 148.088 627.11 Q142.278 627.11 139.2 622.526 Q136.144 617.92 136.144 609.193 Q136.144 600.443 139.2 595.86 Q142.278 591.253 148.088 591.253 Z\" fill=\"#000000\" fill-rule=\"evenodd\" fill-opacity=\"1\" /><path clip-path=\"url(#clip3800)\" d=\"M 0 0 M113.112 362.9 L131.468 362.9 L131.468 366.835 L117.394 366.835 L117.394 375.307 Q118.413 374.96 119.431 374.798 Q120.45 374.612 121.468 374.612 Q127.255 374.612 130.635 377.784 Q134.014 380.955 134.014 386.372 Q134.014 391.95 130.542 395.052 Q127.07 398.131 120.751 398.131 Q118.575 398.131 116.306 397.76 Q114.061 397.39 111.653 396.649 L111.653 391.95 Q113.737 393.085 115.959 393.64 Q118.181 394.196 120.658 394.196 Q124.663 394.196 127.001 392.089 Q129.339 389.983 129.339 386.372 Q129.339 382.761 127.001 380.654 Q124.663 378.548 120.658 378.548 Q118.783 378.548 116.908 378.964 Q115.056 379.381 113.112 380.261 L113.112 362.9 Z\" fill=\"#000000\" fill-rule=\"evenodd\" fill-opacity=\"1\" /><path clip-path=\"url(#clip3800)\" d=\"M 0 0 M139.13 362.9 L157.487 362.9 L157.487 366.835 L143.413 366.835 L143.413 375.307 Q144.431 374.96 145.45 374.798 Q146.468 374.612 147.487 374.612 Q153.274 374.612 156.653 377.784 Q160.033 380.955 160.033 386.372 Q160.033 391.95 156.561 395.052 Q153.088 398.131 146.769 398.131 Q144.593 398.131 142.325 397.76 Q140.079 397.39 137.672 396.649 L137.672 391.95 Q139.755 393.085 141.977 393.64 Q144.2 394.196 146.676 394.196 Q150.681 394.196 153.019 392.089 Q155.357 389.983 155.357 386.372 Q155.357 382.761 153.019 380.654 Q150.681 378.548 146.676 378.548 Q144.801 378.548 142.926 378.964 Q141.075 379.381 139.13 380.261 L139.13 362.9 Z\" fill=\"#000000\" fill-rule=\"evenodd\" fill-opacity=\"1\" /><path clip-path=\"url(#clip3800)\" d=\"M 0 0 M121.491 149.337 Q118.343 149.337 116.491 151.49 Q114.663 153.643 114.663 157.393 Q114.663 161.119 116.491 163.295 Q118.343 165.448 121.491 165.448 Q124.64 165.448 126.468 163.295 Q128.32 161.119 128.32 157.393 Q128.32 153.643 126.468 151.49 Q124.64 149.337 121.491 149.337 M130.774 134.684 L130.774 138.944 Q129.014 138.11 127.209 137.671 Q125.427 137.231 123.667 137.231 Q119.038 137.231 116.584 140.356 Q114.153 143.481 113.806 149.8 Q115.172 147.786 117.232 146.721 Q119.292 145.633 121.769 145.633 Q126.977 145.633 129.987 148.805 Q133.019 151.953 133.019 157.393 Q133.019 162.717 129.871 165.934 Q126.723 169.152 121.491 169.152 Q115.496 169.152 112.325 164.569 Q109.153 159.962 109.153 151.235 Q109.153 143.041 113.042 138.18 Q116.931 133.296 123.482 133.296 Q125.241 133.296 127.024 133.643 Q128.829 133.99 130.774 134.684 Z\" fill=\"#000000\" fill-rule=\"evenodd\" fill-opacity=\"1\" /><path clip-path=\"url(#clip3800)\" d=\"M 0 0 M148.088 136.999 Q144.477 136.999 142.649 140.564 Q140.843 144.106 140.843 151.235 Q140.843 158.342 142.649 161.907 Q144.477 165.448 148.088 165.448 Q151.723 165.448 153.528 161.907 Q155.357 158.342 155.357 151.235 Q155.357 144.106 153.528 140.564 Q151.723 136.999 148.088 136.999 M148.088 133.296 Q153.899 133.296 156.954 137.902 Q160.033 142.485 160.033 151.235 Q160.033 159.962 156.954 164.569 Q153.899 169.152 148.088 169.152 Q142.278 169.152 139.2 164.569 Q136.144 159.962 136.144 151.235 Q136.144 142.485 139.2 137.902 Q142.278 133.296 148.088 133.296 Z\" fill=\"#000000\" fill-rule=\"evenodd\" fill-opacity=\"1\" /><path clip-path=\"url(#clip3800)\" d=\"M 0 0 M1981.76 1557.3 L1981.76 1567.42 L1993.82 1567.42 L1993.82 1571.97 L1981.76 1571.97 L1981.76 1591.33 Q1981.76 1595.69 1982.94 1596.93 Q1984.15 1598.17 1987.81 1598.17 L1993.82 1598.17 L1993.82 1603.07 L1987.81 1603.07 Q1981.03 1603.07 1978.45 1600.56 Q1975.87 1598.01 1975.87 1591.33 L1975.87 1571.97 L1971.57 1571.97 L1971.57 1567.42 L1975.87 1567.42 L1975.87 1557.3 L1981.76 1557.3 Z\" fill=\"#000000\" fill-rule=\"evenodd\" fill-opacity=\"1\" /><path clip-path=\"url(#clip3800)\" d=\"M 0 0 M1999.96 1567.42 L2005.82 1567.42 L2005.82 1603.07 L1999.96 1603.07 L1999.96 1567.42 M1999.96 1553.55 L2005.82 1553.55 L2005.82 1560.96 L1999.96 1560.96 L1999.96 1553.55 Z\" fill=\"#000000\" fill-rule=\"evenodd\" fill-opacity=\"1\" /><path clip-path=\"url(#clip3800)\" d=\"M 0 0 M2039.72 1574.27 Q2041.91 1570.32 2044.97 1568.44 Q2048.03 1566.56 2052.16 1566.56 Q2057.73 1566.56 2060.76 1570.48 Q2063.78 1574.36 2063.78 1581.55 L2063.78 1603.07 L2057.89 1603.07 L2057.89 1581.75 Q2057.89 1576.62 2056.08 1574.14 Q2054.26 1571.66 2050.54 1571.66 Q2045.99 1571.66 2043.35 1574.68 Q2040.7 1577.7 2040.7 1582.92 L2040.7 1603.07 L2034.82 1603.07 L2034.82 1581.75 Q2034.82 1576.59 2033 1574.14 Q2031.19 1571.66 2027.4 1571.66 Q2022.91 1571.66 2020.27 1574.71 Q2017.63 1577.74 2017.63 1582.92 L2017.63 1603.07 L2011.74 1603.07 L2011.74 1567.42 L2017.63 1567.42 L2017.63 1572.96 Q2019.63 1569.68 2022.44 1568.12 Q2025.24 1566.56 2029.09 1566.56 Q2032.97 1566.56 2035.68 1568.54 Q2038.41 1570.51 2039.72 1574.27 Z\" fill=\"#000000\" fill-rule=\"evenodd\" fill-opacity=\"1\" /><path clip-path=\"url(#clip3800)\" d=\"M 0 0 M2100.42 1583.78 L2100.42 1586.65 L2073.49 1586.65 Q2073.87 1592.69 2077.12 1595.88 Q2080.4 1599.03 2086.22 1599.03 Q2089.59 1599.03 2092.74 1598.2 Q2095.93 1597.37 2099.05 1595.72 L2099.05 1601.26 Q2095.9 1602.59 2092.59 1603.29 Q2089.28 1603.99 2085.87 1603.99 Q2077.34 1603.99 2072.34 1599.03 Q2067.38 1594.06 2067.38 1585.6 Q2067.38 1576.84 2072.09 1571.72 Q2076.83 1566.56 2084.85 1566.56 Q2092.04 1566.56 2096.21 1571.21 Q2100.42 1575.83 2100.42 1583.78 M2094.56 1582.06 Q2094.5 1577.26 2091.85 1574.39 Q2089.24 1571.53 2084.91 1571.53 Q2080.01 1571.53 2077.05 1574.3 Q2074.12 1577.07 2073.68 1582.1 L2094.56 1582.06 Z\" fill=\"#000000\" fill-rule=\"evenodd\" fill-opacity=\"1\" /><path clip-path=\"url(#clip3800)\" d=\"M 0 0 M18.7301 887.527 L18.7301 881.67 L54.378 881.67 L54.378 887.527 L18.7301 887.527 M4.85284 887.527 L4.85284 881.67 L12.2689 881.67 L12.2689 887.527 L4.85284 887.527 Z\" fill=\"#000000\" fill-rule=\"evenodd\" fill-opacity=\"1\" /><path clip-path=\"url(#clip3800)\" d=\"M 0 0 M32.8619 845.895 L54.378 845.895 L54.378 851.751 L33.0529 851.751 Q27.9922 851.751 25.4777 853.725 Q22.9633 855.698 22.9633 859.645 Q22.9633 864.387 25.987 867.125 Q29.0107 869.862 34.2306 869.862 L54.378 869.862 L54.378 875.75 L18.7301 875.75 L18.7301 869.862 L24.2682 869.862 Q21.0536 867.761 19.4621 864.928 Q17.8707 862.064 17.8707 858.34 Q17.8707 852.197 21.6901 849.046 Q25.4777 845.895 32.8619 845.895 Z\" fill=\"#000000\" fill-rule=\"evenodd\" fill-opacity=\"1\" /><path clip-path=\"url(#clip3800)\" d=\"M 0 0 M24.1409 816.294 L4.85284 816.294 L4.85284 810.438 L54.378 810.438 L54.378 816.294 L49.0308 816.294 Q52.2137 818.14 53.7733 820.973 Q55.3011 823.774 55.3011 827.721 Q55.3011 834.182 50.1448 838.256 Q44.9886 842.298 36.5859 842.298 Q28.1832 842.298 23.0269 838.256 Q17.8707 834.182 17.8707 827.721 Q17.8707 823.774 19.4303 820.973 Q20.9581 818.14 24.1409 816.294 M36.5859 836.251 Q43.0471 836.251 46.7392 833.609 Q50.3995 830.935 50.3995 826.289 Q50.3995 821.642 46.7392 818.968 Q43.0471 816.294 36.5859 816.294 Q30.1247 816.294 26.4644 818.968 Q22.7723 821.642 22.7723 826.289 Q22.7723 830.935 26.4644 833.609 Q30.1247 836.251 36.5859 836.251 Z\" fill=\"#000000\" fill-rule=\"evenodd\" fill-opacity=\"1\" /><path clip-path=\"url(#clip3800)\" d=\"M 0 0 M18.7301 804.295 L18.7301 798.439 L54.378 798.439 L54.378 804.295 L18.7301 804.295 M4.85284 804.295 L4.85284 798.439 L12.2689 798.439 L12.2689 804.295 L4.85284 804.295 Z\" fill=\"#000000\" fill-rule=\"evenodd\" fill-opacity=\"1\" /><path clip-path=\"url(#clip3800)\" d=\"M 0 0 M20.0987 766.642 L25.5732 766.642 Q24.2046 769.124 23.5362 771.639 Q22.836 774.122 22.836 776.668 Q22.836 782.365 26.4644 785.516 Q30.061 788.667 36.5859 788.667 Q43.1107 788.667 46.7392 785.516 Q50.3358 782.365 50.3358 776.668 Q50.3358 774.122 49.6674 771.639 Q48.9672 769.124 47.5986 766.642 L53.0094 766.642 Q54.1552 769.093 54.7281 771.734 Q55.3011 774.344 55.3011 777.304 Q55.3011 785.357 50.2403 790.099 Q45.1796 794.842 36.5859 794.842 Q27.8649 794.842 22.8678 790.068 Q17.8707 785.262 17.8707 776.922 Q17.8707 774.217 18.4436 771.639 Q18.9847 769.061 20.0987 766.642 Z\" fill=\"#000000\" fill-rule=\"evenodd\" fill-opacity=\"1\" /><path clip-path=\"url(#clip3800)\" d=\"M 0 0 M36.4586 744.298 Q36.4586 751.396 38.0818 754.133 Q39.7051 756.87 43.62 756.87 Q46.7392 756.87 48.5852 754.833 Q50.3995 752.765 50.3995 749.232 Q50.3995 744.362 46.962 741.434 Q43.4927 738.474 37.7635 738.474 L36.4586 738.474 L36.4586 744.298 M34.0396 732.617 L54.378 732.617 L54.378 738.474 L48.9672 738.474 Q52.2137 740.479 53.7733 743.471 Q55.3011 746.463 55.3011 750.791 Q55.3011 756.266 52.2455 759.512 Q49.1582 762.727 44.0019 762.727 Q37.9863 762.727 34.9308 758.717 Q31.8753 754.674 31.8753 746.685 L31.8753 738.474 L31.3023 738.474 Q27.2601 738.474 25.064 741.147 Q22.836 743.789 22.836 748.595 Q22.836 751.651 23.568 754.547 Q24.3001 757.443 25.7642 760.117 L20.3533 760.117 Q19.112 756.902 18.5073 753.879 Q17.8707 750.855 17.8707 747.99 Q17.8707 740.256 21.8811 736.437 Q25.8915 732.617 34.0396 732.617 Z\" fill=\"#000000\" fill-rule=\"evenodd\" fill-opacity=\"1\" /><path clip-path=\"url(#clip3800)\" d=\"M 0 0 M8.6086 720.681 L18.7301 720.681 L18.7301 708.618 L23.2816 708.618 L23.2816 720.681 L42.6333 720.681 Q46.9938 720.681 48.2351 719.504 Q49.4764 718.294 49.4764 714.634 L49.4764 708.618 L54.378 708.618 L54.378 714.634 Q54.378 721.414 51.8636 723.992 Q49.3173 726.57 42.6333 726.57 L23.2816 726.57 L23.2816 730.867 L18.7301 730.867 L18.7301 726.57 L8.6086 726.57 L8.6086 720.681 Z\" fill=\"#000000\" fill-rule=\"evenodd\" fill-opacity=\"1\" /><path clip-path=\"url(#clip3800)\" d=\"M 0 0 M22.836 688.662 Q22.836 693.373 26.5281 696.11 Q30.1883 698.847 36.5859 698.847 Q42.9834 698.847 46.6755 696.142 Q50.3358 693.404 50.3358 688.662 Q50.3358 683.983 46.6437 681.246 Q42.9516 678.509 36.5859 678.509 Q30.252 678.509 26.5599 681.246 Q22.836 683.983 22.836 688.662 M17.8707 688.662 Q17.8707 681.023 22.836 676.663 Q27.8012 672.302 36.5859 672.302 Q45.3387 672.302 50.3358 676.663 Q55.3011 681.023 55.3011 688.662 Q55.3011 696.333 50.3358 700.693 Q45.3387 705.022 36.5859 705.022 Q27.8012 705.022 22.836 700.693 Q17.8707 696.333 17.8707 688.662 Z\" fill=\"#000000\" fill-rule=\"evenodd\" fill-opacity=\"1\" /><path clip-path=\"url(#clip3800)\" d=\"M 0 0 M24.2046 645.502 Q23.6317 646.489 23.377 647.667 Q23.0906 648.813 23.0906 650.213 Q23.0906 655.178 26.3371 657.852 Q29.5518 660.494 35.5992 660.494 L54.378 660.494 L54.378 666.382 L18.7301 666.382 L18.7301 660.494 L24.2682 660.494 Q21.0217 658.648 19.4621 655.688 Q17.8707 652.728 17.8707 648.494 Q17.8707 647.89 17.9662 647.158 Q18.0299 646.425 18.189 645.534 L24.2046 645.502 Z\" fill=\"#000000\" fill-rule=\"evenodd\" fill-opacity=\"1\" /><path clip-path=\"url(#clip3800)\" d=\"M 0 0 M19.7804 616.634 L25.3186 616.634 Q24.0454 619.117 23.4089 621.79 Q22.7723 624.464 22.7723 627.328 Q22.7723 631.689 24.1091 633.885 Q25.4459 636.049 28.1195 636.049 Q30.1565 636.049 31.3342 634.49 Q32.48 632.93 33.5303 628.22 L33.9759 626.214 Q35.3127 619.976 37.7635 617.366 Q40.1825 614.724 44.543 614.724 Q49.5083 614.724 52.4047 618.671 Q55.3011 622.586 55.3011 629.461 Q55.3011 632.325 54.7281 635.445 Q54.1871 638.532 53.0731 641.969 L47.0256 641.969 Q48.7126 638.723 49.5719 635.572 Q50.3995 632.421 50.3995 629.334 Q50.3995 625.196 48.999 622.968 Q47.5667 620.74 44.9886 620.74 Q42.6015 620.74 41.3283 622.363 Q40.0552 623.955 38.8775 629.397 L38.4001 631.434 Q37.2543 636.877 34.899 639.296 Q32.5118 641.715 28.3741 641.715 Q23.3452 641.715 20.608 638.15 Q17.8707 634.585 17.8707 628.029 Q17.8707 624.782 18.3481 621.918 Q18.8256 619.053 19.7804 616.634 Z\" fill=\"#000000\" fill-rule=\"evenodd\" fill-opacity=\"1\" /><polyline clip-path=\"url(#clip3802)\" style=\"stroke:#009af9; stroke-width:4; stroke-opacity:1; fill:none\" points=\"\n",
       "  303.2,334.384 324.593,416.816 345.985,490.089 367.378,925.149 388.771,998.423 410.163,650.375 431.556,604.579 452.948,567.942 474.341,737.387 495.733,696.17 \n",
       "  517.126,687.011 538.518,709.909 559.911,650.375 581.303,554.204 602.696,531.306 624.088,512.987 645.481,480.93 666.873,366.441 688.266,416.816 709.658,306.906 \n",
       "  731.051,421.396 752.443,183.258 773.836,256.531 795.228,160.36 816.621,91.666 838.013,238.213 859.406,142.041 880.798,210.735 902.191,274.849 923.583,183.258 \n",
       "  944.976,114.564 966.369,192.417 987.761,164.939 1009.15,233.633 1030.55,210.735 1051.94,114.564 1073.33,206.155 1094.72,320.645 1116.12,251.951 1137.51,384.759 \n",
       "  1158.9,389.339 1180.29,279.429 1201.69,256.531 1223.08,334.384 1244.47,393.918 1265.86,462.612 1287.26,522.146 1308.65,540.465 1330.04,636.636 1351.43,490.089 \n",
       "  1372.83,462.612 1394.22,549.624 1415.61,572.522 1437,526.726 1458.4,632.056 1479.79,691.591 1501.18,691.591 1522.57,673.273 1543.97,604.579 1565.36,599.999 \n",
       "  1586.75,558.783 1608.14,485.51 1629.54,448.873 1650.93,480.93 1672.32,540.465 1693.71,540.465 1715.11,476.351 1736.5,448.873 1757.89,357.282 1779.28,210.735 \n",
       "  1800.68,196.996 1822.07,306.906 1843.46,196.996 1864.85,284.008 1886.25,366.441 1907.64,361.861 1929.03,384.759 1950.42,439.714 1971.82,462.612 1993.21,549.624 \n",
       "  2014.6,288.588 2035.99,274.849 2057.39,316.065 2078.78,325.225 2100.17,348.122 2121.56,361.861 2142.96,567.942 2164.35,654.954 2185.74,577.101 2207.13,549.624 \n",
       "  2228.53,416.816 2249.92,467.192 2271.31,599.999 2292.7,613.738 2314.1,531.306 2335.49,535.885 2356.88,577.101 2378.27,586.261 2399.67,599.999 2421.06,494.669 \n",
       "  2442.45,421.396 2463.84,458.032 2485.24,522.146 2506.63,421.396 2528.02,467.192 2549.41,508.408 2570.81,526.726 2592.2,494.669 2613.59,494.669 2634.98,545.044 \n",
       "  2656.38,366.441 2677.77,448.873 2699.16,132.882 2720.55,96.2456 2741.95,87.0864 2763.34,114.564 2784.73,219.894 2806.12,306.906 2827.52,293.168 2848.91,407.657 \n",
       "  2870.3,320.645 2891.7,357.282 2913.09,325.225 2934.48,164.939 2955.87,132.882 2977.27,169.519 2998.66,311.486 3020.05,224.474 3041.44,384.759 3062.84,444.294 \n",
       "  3084.23,348.122 3105.62,490.089 3127.01,476.351 3148.41,659.534 3169.8,847.297 3191.19,938.888 3212.58,1062.54 3233.98,1236.56 3255.37,1259.46 3276.76,1268.62 \n",
       "  3298.15,1415.16 3319.55,1241.14 3340.94,1117.49 3362.33,906.831 3383.72,613.738 3405.12,609.158 3426.51,599.999 3447.9,627.477 3469.29,673.273 3490.69,673.273 \n",
       "  3512.08,687.011 3533.47,577.101 3554.86,682.432 3576.26,572.522 3597.65,567.942 3619.04,517.567 3640.43,476.351 3661.83,435.134 3683.22,334.384 3704.61,380.18 \n",
       "  3726,393.918 3747.4,567.942 3768.79,503.828 \n",
       "  \"/>\n",
       "<polyline clip-path=\"url(#clip3802)\" style=\"stroke:#e26f46; stroke-width:4; stroke-opacity:1; fill:none\" points=\"\n",
       "  303.2,480.93 324.593,480.93 345.985,480.93 367.378,480.93 388.771,480.93 410.163,480.93 431.556,480.93 452.948,480.93 474.341,480.93 495.733,480.93 \n",
       "  517.126,480.93 538.518,480.93 559.911,480.93 581.303,480.93 602.696,480.93 624.088,480.93 645.481,480.93 666.873,480.93 688.266,480.93 709.658,480.93 \n",
       "  731.051,480.93 752.443,480.93 773.836,480.93 795.228,480.93 816.621,480.93 838.013,480.93 859.406,480.93 880.798,480.93 902.191,480.93 923.583,480.93 \n",
       "  944.976,480.93 966.369,480.93 987.761,480.93 1009.15,480.93 1030.55,480.93 1051.94,480.93 1073.33,480.93 1094.72,480.93 1116.12,480.93 1137.51,480.93 \n",
       "  1158.9,480.93 1180.29,480.93 1201.69,480.93 1223.08,480.93 1244.47,480.93 1265.86,480.93 1287.26,480.93 1308.65,480.93 1330.04,480.93 1351.43,480.93 \n",
       "  1372.83,480.93 1394.22,480.93 1415.61,480.93 1437,480.93 1458.4,480.93 1479.79,480.93 1501.18,480.93 1522.57,480.93 1543.97,480.93 1565.36,480.93 \n",
       "  1586.75,480.93 1608.14,480.93 1629.54,480.93 1650.93,480.93 1672.32,480.93 1693.71,480.93 1715.11,480.93 1736.5,480.93 1757.89,480.93 1779.28,480.93 \n",
       "  1800.68,480.93 1822.07,480.93 1843.46,480.93 1864.85,480.93 1886.25,480.93 1907.64,480.93 1929.03,480.93 1950.42,480.93 1971.82,480.93 1993.21,480.93 \n",
       "  2014.6,480.93 2035.99,480.93 2057.39,480.93 2078.78,480.93 2100.17,480.93 2121.56,480.93 2142.96,480.93 2164.35,480.93 2185.74,480.93 2207.13,480.93 \n",
       "  2228.53,480.93 2249.92,480.93 2271.31,480.93 2292.7,480.93 2314.1,480.93 2335.49,480.93 2356.88,480.93 2378.27,480.93 2399.67,480.93 2421.06,480.93 \n",
       "  2442.45,480.93 2463.84,480.93 2485.24,480.93 2506.63,480.93 2528.02,480.93 2549.41,480.93 2570.81,480.93 2592.2,480.93 2613.59,480.93 2634.98,480.93 \n",
       "  2656.38,480.93 2677.77,480.93 2699.16,480.93 2720.55,480.93 2741.95,480.93 2763.34,480.93 2784.73,480.93 2806.12,480.93 2827.52,480.93 2848.91,480.93 \n",
       "  2870.3,480.93 2891.7,480.93 2913.09,480.93 2934.48,480.93 2955.87,480.93 2977.27,480.93 2998.66,480.93 3020.05,480.93 3041.44,480.93 3062.84,480.93 \n",
       "  3084.23,480.93 3105.62,480.93 3127.01,480.93 3148.41,480.93 3169.8,480.93 3191.19,480.93 3212.58,480.93 3233.98,480.93 3255.37,480.93 3276.76,480.93 \n",
       "  3298.15,480.93 3319.55,480.93 3340.94,480.93 3362.33,480.93 3383.72,480.93 3405.12,480.93 3426.51,480.93 3447.9,480.93 3469.29,480.93 3490.69,480.93 \n",
       "  3512.08,480.93 3533.47,480.93 3554.86,480.93 3576.26,480.93 3597.65,480.93 3619.04,480.93 3640.43,480.93 3661.83,480.93 3683.22,480.93 3704.61,480.93 \n",
       "  3726,480.93 3747.4,480.93 3768.79,480.93 \n",
       "  \"/>\n",
       "<path clip-path=\"url(#clip3800)\" d=\"\n",
       "M1573.76 1219.81 L2178.16 1219.81 L2178.16 1038.37 L1573.76 1038.37  Z\n",
       "  \" fill=\"#ffffff\" fill-rule=\"evenodd\" fill-opacity=\"1\"/>\n",
       "<polyline clip-path=\"url(#clip3800)\" style=\"stroke:#000000; stroke-width:4; stroke-opacity:1; fill:none\" points=\"\n",
       "  1573.76,1219.81 2178.16,1219.81 2178.16,1038.37 1573.76,1038.37 1573.76,1219.81 \n",
       "  \"/>\n",
       "<polyline clip-path=\"url(#clip3800)\" style=\"stroke:#009af9; stroke-width:4; stroke-opacity:1; fill:none\" points=\"\n",
       "  1612.96,1098.85 1848.16,1098.85 \n",
       "  \"/>\n",
       "<path clip-path=\"url(#clip3800)\" d=\"M 0 0 M1903.19 1086.17 L1896.85 1103.37 L1909.56 1103.37 L1903.19 1086.17 M1900.55 1081.57 L1905.85 1081.57 L1919.02 1116.13 L1914.16 1116.13 L1911.02 1107.26 L1895.44 1107.26 L1892.29 1116.13 L1887.36 1116.13 L1900.55 1081.57 Z\" fill=\"#000000\" fill-rule=\"evenodd\" fill-opacity=\"1\" /><path clip-path=\"url(#clip3800)\" d=\"M 0 0 M1941.32 1091.2 L1941.32 1095.18 Q1939.51 1094.18 1937.68 1093.7 Q1935.88 1093.19 1934.02 1093.19 Q1929.88 1093.19 1927.59 1095.83 Q1925.3 1098.44 1925.3 1103.19 Q1925.3 1107.93 1927.59 1110.57 Q1929.88 1113.19 1934.02 1113.19 Q1935.88 1113.19 1937.68 1112.7 Q1939.51 1112.19 1941.32 1111.2 L1941.32 1115.13 Q1939.53 1115.96 1937.61 1116.38 Q1935.71 1116.8 1933.56 1116.8 Q1927.71 1116.8 1924.26 1113.12 Q1920.81 1109.44 1920.81 1103.19 Q1920.81 1096.84 1924.28 1093.21 Q1927.77 1089.58 1933.84 1089.58 Q1935.81 1089.58 1937.68 1089.99 Q1939.56 1090.39 1941.32 1091.2 Z\" fill=\"#000000\" fill-rule=\"evenodd\" fill-opacity=\"1\" /><path clip-path=\"url(#clip3800)\" d=\"M 0 0 M1950 1082.84 L1950 1090.2 L1958.77 1090.2 L1958.77 1093.51 L1950 1093.51 L1950 1107.59 Q1950 1110.76 1950.85 1111.66 Q1951.73 1112.56 1954.4 1112.56 L1958.77 1112.56 L1958.77 1116.13 L1954.4 1116.13 Q1949.46 1116.13 1947.59 1114.3 Q1945.71 1112.45 1945.71 1107.59 L1945.71 1093.51 L1942.59 1093.51 L1942.59 1090.2 L1945.71 1090.2 L1945.71 1082.84 L1950 1082.84 Z\" fill=\"#000000\" fill-rule=\"evenodd\" fill-opacity=\"1\" /><path clip-path=\"url(#clip3800)\" d=\"M 0 0 M1962.8 1105.9 L1962.8 1090.2 L1967.06 1090.2 L1967.06 1105.73 Q1967.06 1109.41 1968.49 1111.27 Q1969.93 1113.09 1972.8 1113.09 Q1976.25 1113.09 1978.24 1110.9 Q1980.25 1108.7 1980.25 1104.9 L1980.25 1090.2 L1984.51 1090.2 L1984.51 1116.13 L1980.25 1116.13 L1980.25 1112.15 Q1978.7 1114.51 1976.64 1115.66 Q1974.6 1116.8 1971.89 1116.8 Q1967.43 1116.8 1965.11 1114.02 Q1962.8 1111.24 1962.8 1105.9 M1973.52 1089.58 L1973.52 1089.58 Z\" fill=\"#000000\" fill-rule=\"evenodd\" fill-opacity=\"1\" /><path clip-path=\"url(#clip3800)\" d=\"M 0 0 M2000.76 1103.09 Q1995.6 1103.09 1993.61 1104.27 Q1991.62 1105.46 1991.62 1108.3 Q1991.62 1110.57 1993.1 1111.91 Q1994.6 1113.23 1997.17 1113.23 Q2000.71 1113.23 2002.84 1110.73 Q2005 1108.21 2005 1104.04 L2005 1103.09 L2000.76 1103.09 M2009.26 1101.34 L2009.26 1116.13 L2005 1116.13 L2005 1112.19 Q2003.54 1114.55 2001.36 1115.69 Q1999.19 1116.8 1996.04 1116.8 Q1992.06 1116.8 1989.7 1114.58 Q1987.36 1112.33 1987.36 1108.58 Q1987.36 1104.21 1990.27 1101.98 Q1993.21 1099.76 1999.02 1099.76 L2005 1099.76 L2005 1099.34 Q2005 1096.4 2003.05 1094.81 Q2001.13 1093.19 1997.64 1093.19 Q1995.41 1093.19 1993.31 1093.72 Q1991.2 1094.25 1989.26 1095.32 L1989.26 1091.38 Q1991.59 1090.48 1993.79 1090.04 Q1995.99 1089.58 1998.08 1089.58 Q2003.7 1089.58 2006.48 1092.49 Q2009.26 1095.41 2009.26 1101.34 Z\" fill=\"#000000\" fill-rule=\"evenodd\" fill-opacity=\"1\" /><path clip-path=\"url(#clip3800)\" d=\"M 0 0 M2013.72 1080.11 L2017.98 1080.11 L2017.98 1116.13 L2013.72 1116.13 L2013.72 1080.11 Z\" fill=\"#000000\" fill-rule=\"evenodd\" fill-opacity=\"1\" /><polyline clip-path=\"url(#clip3800)\" style=\"stroke:#e26f46; stroke-width:4; stroke-opacity:1; fill:none\" points=\"\n",
       "  1612.96,1159.33 1848.16,1159.33 \n",
       "  \"/>\n",
       "<path clip-path=\"url(#clip3800)\" d=\"M 0 0 M1887.36 1142.05 L1894.33 1142.05 L1903.15 1165.57 L1912.01 1142.05 L1918.98 1142.05 L1918.98 1176.61 L1914.42 1176.61 L1914.42 1146.26 L1905.51 1169.96 L1900.81 1169.96 L1891.9 1146.26 L1891.9 1176.61 L1887.36 1176.61 L1887.36 1142.05 Z\" fill=\"#000000\" fill-rule=\"evenodd\" fill-opacity=\"1\" /><path clip-path=\"url(#clip3800)\" d=\"M 0 0 M1945.62 1162.58 L1945.62 1164.66 L1926.04 1164.66 Q1926.32 1169.06 1928.68 1171.38 Q1931.06 1173.67 1935.3 1173.67 Q1937.75 1173.67 1940.04 1173.07 Q1942.36 1172.46 1944.63 1171.26 L1944.63 1175.29 Q1942.33 1176.26 1939.93 1176.77 Q1937.52 1177.28 1935.04 1177.28 Q1928.84 1177.28 1925.21 1173.67 Q1921.59 1170.06 1921.59 1163.9 Q1921.59 1157.53 1925.02 1153.81 Q1928.47 1150.06 1934.3 1150.06 Q1939.53 1150.06 1942.57 1153.44 Q1945.62 1156.79 1945.62 1162.58 M1941.36 1161.33 Q1941.32 1157.83 1939.4 1155.75 Q1937.5 1153.67 1934.35 1153.67 Q1930.78 1153.67 1928.63 1155.68 Q1926.5 1157.69 1926.18 1161.35 L1941.36 1161.33 Z\" fill=\"#000000\" fill-rule=\"evenodd\" fill-opacity=\"1\" /><path clip-path=\"url(#clip3800)\" d=\"M 0 0 M1961.87 1163.57 Q1956.71 1163.57 1954.72 1164.75 Q1952.73 1165.94 1952.73 1168.78 Q1952.73 1171.05 1954.21 1172.39 Q1955.71 1173.71 1958.28 1173.71 Q1961.83 1173.71 1963.96 1171.21 Q1966.11 1168.69 1966.11 1164.52 L1966.11 1163.57 L1961.87 1163.57 M1970.37 1161.82 L1970.37 1176.61 L1966.11 1176.61 L1966.11 1172.67 Q1964.65 1175.03 1962.47 1176.17 Q1960.3 1177.28 1957.15 1177.28 Q1953.17 1177.28 1950.81 1175.06 Q1948.47 1172.81 1948.47 1169.06 Q1948.47 1164.69 1951.39 1162.46 Q1954.33 1160.24 1960.14 1160.24 L1966.11 1160.24 L1966.11 1159.82 Q1966.11 1156.88 1964.16 1155.29 Q1962.24 1153.67 1958.75 1153.67 Q1956.52 1153.67 1954.42 1154.2 Q1952.31 1154.73 1950.37 1155.8 L1950.37 1151.86 Q1952.71 1150.96 1954.9 1150.52 Q1957.1 1150.06 1959.19 1150.06 Q1964.81 1150.06 1967.59 1152.97 Q1970.37 1155.89 1970.37 1161.82 Z\" fill=\"#000000\" fill-rule=\"evenodd\" fill-opacity=\"1\" /><path clip-path=\"url(#clip3800)\" d=\"M 0 0 M1996.39 1160.96 L1996.39 1176.61 L1992.13 1176.61 L1992.13 1161.1 Q1992.13 1157.42 1990.69 1155.59 Q1989.26 1153.76 1986.39 1153.76 Q1982.94 1153.76 1980.95 1155.96 Q1978.96 1158.16 1978.96 1161.95 L1978.96 1176.61 L1974.67 1176.61 L1974.67 1150.68 L1978.96 1150.68 L1978.96 1154.71 Q1980.48 1152.37 1982.54 1151.21 Q1984.63 1150.06 1987.33 1150.06 Q1991.8 1150.06 1994.09 1152.83 Q1996.39 1155.59 1996.39 1160.96 Z\" fill=\"#000000\" fill-rule=\"evenodd\" fill-opacity=\"1\" /><path clip-path=\"url(#clip3800)\" d=\"M 0 0 M2016.57 1142.05 L2034.93 1142.05 L2034.93 1145.98 L2020.85 1145.98 L2020.85 1154.45 Q2021.87 1154.11 2022.89 1153.94 Q2023.91 1153.76 2024.93 1153.76 Q2030.71 1153.76 2034.09 1156.93 Q2037.47 1160.1 2037.47 1165.52 Q2037.47 1171.1 2034 1174.2 Q2030.53 1177.28 2024.21 1177.28 Q2022.03 1177.28 2019.77 1176.91 Q2017.52 1176.54 2015.11 1175.8 L2015.11 1171.1 Q2017.2 1172.23 2019.42 1172.79 Q2021.64 1173.34 2024.12 1173.34 Q2028.12 1173.34 2030.46 1171.24 Q2032.8 1169.13 2032.8 1165.52 Q2032.8 1161.91 2030.46 1159.8 Q2028.12 1157.69 2024.12 1157.69 Q2022.24 1157.69 2020.37 1158.11 Q2018.52 1158.53 2016.57 1159.41 L2016.57 1142.05 Z\" fill=\"#000000\" fill-rule=\"evenodd\" fill-opacity=\"1\" /><path clip-path=\"url(#clip3800)\" d=\"M 0 0 M2046.57 1172.67 L2062.89 1172.67 L2062.89 1176.61 L2040.95 1176.61 L2040.95 1172.67 Q2043.61 1169.92 2048.19 1165.29 Q2052.8 1160.63 2053.98 1159.29 Q2056.22 1156.77 2057.1 1155.03 Q2058.01 1153.27 2058.01 1151.58 Q2058.01 1148.83 2056.06 1147.09 Q2054.14 1145.36 2051.04 1145.36 Q2048.84 1145.36 2046.39 1146.12 Q2043.95 1146.88 2041.18 1148.44 L2041.18 1143.71 Q2044 1142.58 2046.45 1142 Q2048.91 1141.42 2050.95 1141.42 Q2056.32 1141.42 2059.51 1144.11 Q2062.7 1146.79 2062.7 1151.28 Q2062.7 1153.41 2061.89 1155.33 Q2061.11 1157.23 2059 1159.82 Q2058.42 1160.5 2055.32 1163.71 Q2052.22 1166.91 2046.57 1172.67 Z\" fill=\"#000000\" fill-rule=\"evenodd\" fill-opacity=\"1\" /><path clip-path=\"url(#clip3800)\" d=\"M 0 0 M2067.96 1170.73 L2072.84 1170.73 L2072.84 1176.61 L2067.96 1176.61 L2067.96 1170.73 Z\" fill=\"#000000\" fill-rule=\"evenodd\" fill-opacity=\"1\" /><path clip-path=\"url(#clip3800)\" d=\"M 0 0 M2087.91 1160.19 Q2084.58 1160.19 2082.66 1161.98 Q2080.76 1163.76 2080.76 1166.88 Q2080.76 1170.01 2082.66 1171.79 Q2084.58 1173.57 2087.91 1173.57 Q2091.25 1173.57 2093.17 1171.79 Q2095.09 1169.99 2095.09 1166.88 Q2095.09 1163.76 2093.17 1161.98 Q2091.27 1160.19 2087.91 1160.19 M2083.24 1158.2 Q2080.23 1157.46 2078.54 1155.4 Q2076.87 1153.34 2076.87 1150.38 Q2076.87 1146.24 2079.81 1143.83 Q2082.77 1141.42 2087.91 1141.42 Q2093.07 1141.42 2096.01 1143.83 Q2098.95 1146.24 2098.95 1150.38 Q2098.95 1153.34 2097.26 1155.4 Q2095.6 1157.46 2092.61 1158.2 Q2095.99 1158.99 2097.87 1161.28 Q2099.76 1163.57 2099.76 1166.88 Q2099.76 1171.91 2096.69 1174.59 Q2093.63 1177.28 2087.91 1177.28 Q2082.2 1177.28 2079.12 1174.59 Q2076.06 1171.91 2076.06 1166.88 Q2076.06 1163.57 2077.96 1161.28 Q2079.86 1158.99 2083.24 1158.2 M2081.52 1150.82 Q2081.52 1153.51 2083.19 1155.01 Q2084.88 1156.51 2087.91 1156.51 Q2090.92 1156.51 2092.61 1155.01 Q2094.32 1153.51 2094.32 1150.82 Q2094.32 1148.13 2092.61 1146.63 Q2090.92 1145.13 2087.91 1145.13 Q2084.88 1145.13 2083.19 1146.63 Q2081.52 1148.13 2081.52 1150.82 Z\" fill=\"#000000\" fill-rule=\"evenodd\" fill-opacity=\"1\" /></svg>\n"
      ]
     },
     "execution_count": 14,
     "metadata": {},
     "output_type": "execute_result"
    }
   ],
   "source": [
    "using Plots\n",
    "\n",
    "# show range\n",
    "rows = 1:record_count\n",
    "\n",
    "gr()\n",
    "plot(          dates[rows], # x-axis: dates\n",
    "               [  df1[rows,3] df1[rows,4]   ], # y-axis\n",
    "    label    = [  columns[3]  string(columns[4], \" \", df1[1,4])   ]  ,\n",
    "    legend   =:bottom, \n",
    "              # :right, :left, :top, :bottom, :inside, :best, :legend, :topright, :topleft, :bottomleft, :bottomright\n",
    "    xlabel   = \"time\",\n",
    "    ylabel   = \"indicators\",\n",
    "    size     = (980, 400), # width, height\n",
    "    layout = (1, 1) # number of graphs: vertically, horizontally\n",
    "    )"
   ]
  },
  {
   "cell_type": "code",
   "execution_count": null,
   "metadata": {},
   "outputs": [],
   "source": []
  }
 ],
 "metadata": {
  "kernelspec": {
   "display_name": "Julia 1.5.0",
   "language": "julia",
   "name": "julia-1.5"
  },
  "language_info": {
   "file_extension": ".jl",
   "mimetype": "application/julia",
   "name": "julia",
   "version": "1.5.0"
  },
  "toc": {
   "base_numbering": 1,
   "nav_menu": {},
   "number_sections": false,
   "sideBar": true,
   "skip_h1_title": false,
   "title_cell": "Table of Contents",
   "title_sidebar": "Contents",
   "toc_cell": true,
   "toc_position": {},
   "toc_section_display": true,
   "toc_window_display": true
  }
 },
 "nbformat": 4,
 "nbformat_minor": 4
}
