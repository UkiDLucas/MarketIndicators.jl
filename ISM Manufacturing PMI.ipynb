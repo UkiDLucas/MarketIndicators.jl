{
 "cells": [
  {
   "cell_type": "markdown",
   "metadata": {},
   "source": [
    "# ISM Manufacturing PMI\n",
    "\n",
    "ISM Manufacturing PMI reflects business conditions in the US manufacturing sector in the specified month. The Institute of Supply Management (ISM) is a not-for-profit supply management organization in the United States, which has over 40,000 members.\n",
    "\n",
    "The index is calculated based on a survey of representatives of several hundred companies from 18 US industries. Unlike Markit, ISM considers not only private companies but is based on the common NAICS (North American Industrial Classification System) list. Respondents describe the following aspects of their economic activity:\n",
    "\n",
    "New orders received from clients\n",
    "Output (speed and level)\n",
    "Suppliers' delivery times (whether delivery performance is faster or slower)\n",
    "Company's inventories\n",
    "Customers' stocks (an approximate estimate of stocks stored by company's clients)\n",
    "Prices, whether the company is paying for products and services more or less\n",
    "Backlog of orders (increasing or decreasing)\n",
    "New export orders, i.e. the number of orders received for further export\n",
    "Imports — amount of imported materials\n",
    "Employment in the company\n",
    "The questionnaire features relative estimates: whether the situation is better, worse or has not changed. Responses are estimated taking into account weights of respondent companies.\n",
    "\n",
    "The values are seasonally adjusted. The resulting manufacturing PMI is a composite of five diffuse indices with different weights (New orders, Output, Employment, Supplies and Inventories).\n",
    "\n",
    "Readings above 50 point to improvements in the industry situation. Index below 50 is an indication of contraction in economic conditions of production. The further the value moves from the mark of 50, the greater the rate of situation change.\n",
    "\n",
    "Manufacturing PMI is one of the most important indicators of economic health. Although the manufacturing sector is not a very important component of national GDP, it is still an early indicator of a coming recession or growth. Purchasing managers are among the first to know when the market conditions change, since they work in the short term and can evaluate a trend towards changing economic conditions. The index is released earlier than GDP and reports from the Bureau of Labor Statistics, therefore it is a leading indicator.\n",
    "\n",
    "Manufacturing PMI growth is usually seen as positive for the US dollar.\n",
    "                \n",
    "## Source\n",
    "- https://www.mql5.com/en/economic-calendar/united-states/ism-manufacturing-pmi"
   ]
  },
  {
   "cell_type": "markdown",
   "metadata": {
    "toc": true
   },
   "source": [
    "<h1>Table of Contents<span class=\"tocSkip\"></span></h1>\n",
    "<div class=\"toc\"><ul class=\"toc-item\"><li><span><a href=\"#ISM-Manufacturing-PMI\" data-toc-modified-id=\"ISM-Manufacturing-PMI-1\">ISM Manufacturing PMI</a></span><ul class=\"toc-item\"><li><span><a href=\"#Source\" data-toc-modified-id=\"Source-1.1\">Source</a></span></li></ul></li><li><span><a href=\"#Set-Up\" data-toc-modified-id=\"Set-Up-2\">Set Up</a></span></li><li><span><a href=\"#Read-Data\" data-toc-modified-id=\"Read-Data-3\">Read Data</a></span><ul class=\"toc-item\"><li><span><a href=\"#Sample-the-data\" data-toc-modified-id=\"Sample-the-data-3.1\">Sample the data</a></span></li></ul></li><li><span><a href=\"#Format-Dates\" data-toc-modified-id=\"Format-Dates-4\">Format Dates</a></span></li></ul></div>"
   ]
  },
  {
   "cell_type": "markdown",
   "metadata": {},
   "source": [
    "# Set Up"
   ]
  },
  {
   "cell_type": "code",
   "execution_count": 1,
   "metadata": {},
   "outputs": [
    {
     "name": "stdout",
     "output_type": "stream",
     "text": [
      "\n"
     ]
    }
   ],
   "source": [
    "date_format = \"yyyy.mm.dd\" # 2007.04.05\n",
    "show_help = false\n",
    "include(\"MarketIndicators.jl\") "
   ]
  },
  {
   "cell_type": "markdown",
   "metadata": {},
   "source": [
    "# Read Data"
   ]
  },
  {
   "cell_type": "code",
   "execution_count": 2,
   "metadata": {},
   "outputs": [],
   "source": [
    "#datasets = available_datasets()"
   ]
  },
  {
   "cell_type": "code",
   "execution_count": 3,
   "metadata": {},
   "outputs": [
    {
     "name": "stdout",
     "output_type": "stream",
     "text": [
      "dataset_file_name: united-states.ism-manufacturing-pmi.csv\n",
      "data dimentions: # Read Data(163, 4)\n"
     ]
    },
    {
     "data": {
      "text/plain": [
       "163"
      ]
     },
     "execution_count": 3,
     "metadata": {},
     "output_type": "execute_result"
    }
   ],
   "source": [
    "dataset_file_name = available_datasets()[10,2] # [row, column]\n",
    "println(\"dataset_file_name: \", dataset_file_name)\n",
    "df = fetch_dataset(dataset_file_name, date_format)\n",
    "println(\"data dimentions: # Read Data\", size(df) )\n",
    "count = size(df)[1]"
   ]
  },
  {
   "cell_type": "markdown",
   "metadata": {},
   "source": [
    "## Sample the data"
   ]
  },
  {
   "cell_type": "code",
   "execution_count": 4,
   "metadata": {
    "scrolled": false
   },
   "outputs": [
    {
     "name": "stdout",
     "output_type": "stream",
     "text": [
      "21×4 DataFrame\n",
      "│ Row │ Date       │ ActualValue │ ForecastValue │ PreviousValue │\n",
      "│     │ \u001b[90mDate\u001b[39m       │ \u001b[90mFloat64\u001b[39m     │ \u001b[90mFloat64?\u001b[39m      │ \u001b[90mFloat64?\u001b[39m      │\n",
      "├─────┼────────────┼─────────────┼───────────────┼───────────────┤\n",
      "│ 1   │ 2020-09-01 │ 56.0        │ 53.4          │ 54.2          │\n",
      "│ 2   │ 2020-01-03 │ 47.2        │ 48.3          │ 48.1          │\n",
      "│ 3   │ 2019-05-01 │ 52.8        │ 54.8          │ 55.3          │\n",
      "│ 4   │ 2018-09-04 │ 61.3        │ 60.0          │ 58.1          │\n",
      "│ 5   │ 2018-01-03 │ 59.7        │ 56.1          │ 58.2          │\n",
      "│ 6   │ 2017-05-01 │ 54.8        │ \u001b[90mmissing\u001b[39m       │ 57.2          │\n",
      "│ 7   │ 2016-09-01 │ 49.4        │ \u001b[90mmissing\u001b[39m       │ 52.6          │\n",
      "│ 8   │ 2016-01-04 │ 48.2        │ \u001b[90mmissing\u001b[39m       │ 48.6          │\n",
      "│ 9   │ 2015-05-01 │ 51.5        │ \u001b[90mmissing\u001b[39m       │ 51.5          │\n",
      "│ 10  │ 2014-09-02 │ 59.0        │ \u001b[90mmissing\u001b[39m       │ 57.1          │\n",
      "│ 11  │ 2014-01-02 │ 57.0        │ \u001b[90mmissing\u001b[39m       │ 57.3          │\n",
      "│ 12  │ 2013-05-01 │ 50.7        │ \u001b[90mmissing\u001b[39m       │ 51.3          │\n",
      "│ 13  │ 2012-09-04 │ 50.7        │ \u001b[90mmissing\u001b[39m       │ 49.8          │\n",
      "│ 14  │ 2012-01-03 │ 53.1        │ \u001b[90mmissing\u001b[39m       │ 52.2          │\n",
      "│ 15  │ 2011-05-02 │ 60.4        │ \u001b[90mmissing\u001b[39m       │ 61.2          │\n",
      "│ 16  │ 2010-09-01 │ 56.3        │ \u001b[90mmissing\u001b[39m       │ 55.5          │\n",
      "│ 17  │ 2010-01-04 │ 54.9        │ \u001b[90mmissing\u001b[39m       │ 53.6          │\n",
      "│ 18  │ 2009-05-01 │ 40.1        │ \u001b[90mmissing\u001b[39m       │ 36.3          │\n",
      "│ 19  │ 2008-09-02 │ 49.9        │ \u001b[90mmissing\u001b[39m       │ 50.0          │\n",
      "│ 20  │ 2008-01-02 │ 48.4        │ \u001b[90mmissing\u001b[39m       │ 50.8          │\n",
      "│ 21  │ 2007-05-01 │ 54.7        │ \u001b[90mmissing\u001b[39m       │ 50.9          │"
     ]
    }
   ],
   "source": [
    "preview_data(df)"
   ]
  },
  {
   "cell_type": "code",
   "execution_count": null,
   "metadata": {},
   "outputs": [],
   "source": []
  },
  {
   "cell_type": "markdown",
   "metadata": {},
   "source": [
    "# Format Dates"
   ]
  },
  {
   "cell_type": "code",
   "execution_count": 5,
   "metadata": {},
   "outputs": [
    {
     "data": {
      "text/plain": [
       "5-element Array{String,1}:\n",
       " \"20/901\"\n",
       " \"20/803\"\n",
       " \"20/701\"\n",
       " \"20/601\"\n",
       " \"20/501\""
      ]
     },
     "execution_count": 5,
     "metadata": {},
     "output_type": "execute_result"
    }
   ],
   "source": [
    "dates = format_dates( df[:,1] , \"yy/mdd\")\n",
    "dates[1:5]"
   ]
  },
  {
   "cell_type": "code",
   "execution_count": null,
   "metadata": {},
   "outputs": [],
   "source": []
  }
 ],
 "metadata": {
  "kernelspec": {
   "display_name": "Julia 1.5.0",
   "language": "julia",
   "name": "julia-1.5"
  },
  "language_info": {
   "file_extension": ".jl",
   "mimetype": "application/julia",
   "name": "julia",
   "version": "1.5.0"
  },
  "toc": {
   "base_numbering": 1,
   "nav_menu": {},
   "number_sections": false,
   "sideBar": true,
   "skip_h1_title": false,
   "title_cell": "Table of Contents",
   "title_sidebar": "Contents",
   "toc_cell": true,
   "toc_position": {},
   "toc_section_display": true,
   "toc_window_display": true
  }
 },
 "nbformat": 4,
 "nbformat_minor": 4
}
