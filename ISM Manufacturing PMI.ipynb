{
 "cells": [
  {
   "cell_type": "markdown",
   "metadata": {},
   "source": [
    "# ISM Manufacturing PMI\n",
    "\n",
    "ISM Manufacturing PMI reflects business conditions in the US manufacturing sector in the specified month. The Institute of Supply Management (ISM) is a not-for-profit supply management organization in the United States, which has over 40,000 members.\n",
    "\n",
    "The index is calculated based on a survey of representatives of several hundred companies from 18 US industries. Unlike Markit, ISM considers not only private companies but is based on the common NAICS (North American Industrial Classification System) list. Respondents describe the following aspects of their economic activity:\n",
    "\n",
    "New orders received from clients\n",
    "Output (speed and level)\n",
    "Suppliers' delivery times (whether delivery performance is faster or slower)\n",
    "Company's inventories\n",
    "Customers' stocks (an approximate estimate of stocks stored by company's clients)\n",
    "Prices, whether the company is paying for products and services more or less\n",
    "Backlog of orders (increasing or decreasing)\n",
    "New export orders, i.e. the number of orders received for further export\n",
    "Imports — amount of imported materials\n",
    "Employment in the company\n",
    "The questionnaire features relative estimates: whether the situation is better, worse or has not changed. Responses are estimated taking into account weights of respondent companies.\n",
    "\n",
    "The values are seasonally adjusted. The resulting manufacturing PMI is a composite of five diffuse indices with different weights (New orders, Output, Employment, Supplies and Inventories).\n",
    "\n",
    "Readings above 50 point to improvements in the industry situation. Index below 50 is an indication of contraction in economic conditions of production. The further the value moves from the mark of 50, the greater the rate of situation change.\n",
    "\n",
    "Manufacturing PMI is one of the most important indicators of economic health. Although the manufacturing sector is not a very important component of national GDP, it is still an early indicator of a coming recession or growth. Purchasing managers are among the first to know when the market conditions change, since they work in the short term and can evaluate a trend towards changing economic conditions. The index is released earlier than GDP and reports from the Bureau of Labor Statistics, therefore it is a leading indicator.\n",
    "\n",
    "Manufacturing PMI growth is usually seen as positive for the US dollar.\n",
    "                \n",
    "## Source\n",
    "- https://www.mql5.com/en/economic-calendar/united-states/ism-manufacturing-pmi"
   ]
  },
  {
   "cell_type": "code",
   "execution_count": null,
   "metadata": {},
   "outputs": [],
   "source": []
  }
 ],
 "metadata": {
  "kernelspec": {
   "display_name": "Julia 1.4.2",
   "language": "julia",
   "name": "julia-1.4"
  },
  "language_info": {
   "file_extension": ".jl",
   "mimetype": "application/julia",
   "name": "julia",
   "version": "1.4.2"
  }
 },
 "nbformat": 4,
 "nbformat_minor": 4
}
