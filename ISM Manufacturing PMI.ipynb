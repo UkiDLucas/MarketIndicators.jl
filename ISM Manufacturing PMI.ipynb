{
 "cells": [
  {
   "cell_type": "markdown",
   "metadata": {},
   "source": [
    "# ISM Manufacturing PMI\n",
    "\n",
    "ISM Manufacturing PMI reflects business conditions in the US manufacturing sector in the specified month. The Institute of Supply Management (ISM) is a not-for-profit supply management organization in the United States, which has over 40,000 members.\n",
    "\n",
    "The index is calculated based on a survey of representatives of several hundred companies from 18 US industries. Unlike Markit, ISM considers not only private companies but is based on the common NAICS (North American Industrial Classification System) list. Respondents describe the following aspects of their economic activity:\n",
    "\n",
    "- New orders received from clients\n",
    "- Output (speed and level)\n",
    "- Suppliers' delivery times (whether delivery performance is faster or slower)\n",
    "- Company's inventories\n",
    "- Customers' stocks (an approximate estimate of stocks stored by company's clients)\n",
    "- Prices, whether the company is paying for products and services more or less\n",
    "- Backlog of orders (increasing or decreasing)\n",
    "- New export orders, i.e. the number of orders received for further export\n",
    "- Imports — amount of imported materials\n",
    "- Employment in the company\n",
    "\n",
    "The questionnaire features relative estimates: whether the situation is better, worse or has not changed. Responses are estimated taking into account weights of respondent companies.\n",
    "\n",
    "The values are seasonally adjusted. The resulting manufacturing PMI is a composite of five diffuse indices with different weights (New orders, Output, Employment, Supplies and Inventories).\n",
    "\n",
    "Readings above 50 point to improvements in the industry situation. Index below 50 is an indication of contraction in economic conditions of production. The further the value moves from the mark of 50, the greater the rate of situation change.\n",
    "\n",
    "Manufacturing PMI is **one of the most important indicators of economic health**. Although the manufacturing sector is not a very important component of national GDP, it is still an early **indicator of a coming recession or growth**. **Purchasing managers are among the first to know** when the market conditions change, since they work in the short term and can evaluate a trend towards changing economic conditions. The index is released earlier than GDP and reports from the Bureau of Labor Statistics, therefore it is a leading indicator.\n",
    "\n",
    "Manufacturing PMI growth is usually seen as positive for the US dollar.\n",
    "                \n",
    "## Source\n",
    "- https://www.mql5.com/en/economic-calendar/united-states/ism-manufacturing-pmi"
   ]
  },
  {
   "cell_type": "markdown",
   "metadata": {
    "toc": true
   },
   "source": [
    "<h1>Table of Contents<span class=\"tocSkip\"></span></h1>\n",
    "<div class=\"toc\"><ul class=\"toc-item\"><li><span><a href=\"#ISM-Manufacturing-PMI\" data-toc-modified-id=\"ISM-Manufacturing-PMI-1\">ISM Manufacturing PMI</a></span><ul class=\"toc-item\"><li><span><a href=\"#Source\" data-toc-modified-id=\"Source-1.1\">Source</a></span></li></ul></li><li><span><a href=\"#Set-Up\" data-toc-modified-id=\"Set-Up-2\">Set Up</a></span></li><li><span><a href=\"#Read-Data\" data-toc-modified-id=\"Read-Data-3\">Read Data</a></span><ul class=\"toc-item\"><li><span><a href=\"#Sample-the-data\" data-toc-modified-id=\"Sample-the-data-3.1\">Sample the data</a></span></li></ul></li><li><span><a href=\"#Rata-Die\" data-toc-modified-id=\"Rata-Die-4\">Rata Die</a></span></li><li><span><a href=\"#Draw-Plots\" data-toc-modified-id=\"Draw-Plots-5\">Draw Plots</a></span></li><li><span><a href=\"#Extract-only-the-desired-data\" data-toc-modified-id=\"Extract-only-the-desired-data-6\">Extract only the desired data</a></span></li><li><span><a href=\"#Quantize-(normalize)-the-data\" data-toc-modified-id=\"Quantize-(normalize)-the-data-7\">Quantize (normalize) the data</a></span></li><li><span><a href=\"#Fill-Empty-Dates\" data-toc-modified-id=\"Fill-Empty-Dates-8\">Fill Empty Dates</a></span></li><li><span><a href=\"#Averages\" data-toc-modified-id=\"Averages-9\">Averages</a></span></li><li><span><a href=\"#Position-on-given-Date\" data-toc-modified-id=\"Position-on-given-Date-10\">Position on given Date</a></span></li><li><span><a href=\"#Save-DataFrame-to-CSV-file\" data-toc-modified-id=\"Save-DataFrame-to-CSV-file-11\">Save DataFrame to CSV file</a></span></li></ul></div>"
   ]
  },
  {
   "cell_type": "markdown",
   "metadata": {},
   "source": [
    "# Set Up"
   ]
  },
  {
   "cell_type": "code",
   "execution_count": 1,
   "metadata": {},
   "outputs": [
    {
     "name": "stdout",
     "output_type": "stream",
     "text": [
      "\n",
      "\n"
     ]
    }
   ],
   "source": [
    "show_help = false\n",
    "include(\"MarketIndicators.jl\") \n",
    "println()"
   ]
  },
  {
   "cell_type": "markdown",
   "metadata": {},
   "source": [
    "# Read Data"
   ]
  },
  {
   "cell_type": "code",
   "execution_count": 2,
   "metadata": {},
   "outputs": [],
   "source": [
    "#data = available_datasets() # uncomment to see all available datasets"
   ]
  },
  {
   "cell_type": "code",
   "execution_count": 3,
   "metadata": {},
   "outputs": [
    {
     "name": "stdout",
     "output_type": "stream",
     "text": [
      "data dimentions: (164, 4)\n"
     ]
    },
    {
     "data": {
      "text/html": [
       "<table class=\"data-frame\"><thead><tr><th></th><th>variable</th><th>mean</th><th>min</th><th>median</th><th>max</th><th>nunique</th><th>nmissing</th><th>eltype</th></tr><tr><th></th><th>Symbol</th><th>Union…</th><th>Any</th><th>Union…</th><th>Any</th><th>Union…</th><th>Union…</th><th>Type</th></tr></thead><tbody><p>4 rows × 8 columns</p><tr><th>1</th><td>Date</td><td></td><td>2007-03-01</td><td></td><td>2020-10-01</td><td>164</td><td></td><td>Date</td></tr><tr><th>2</th><td>ActualValue</td><td>52.8652</td><td>32.4</td><td>53.1</td><td>61.4</td><td></td><td></td><td>Float64</td></tr><tr><th>3</th><td>ForecastValue</td><td>54.539</td><td>47.5</td><td>54.1</td><td>62.7</td><td></td><td>123</td><td>Union{Missing, Float64}</td></tr><tr><th>4</th><td>PreviousValue</td><td>52.8589</td><td>32.4</td><td>53.2</td><td>61.4</td><td></td><td>1</td><td>Union{Missing, Float64}</td></tr></tbody></table>"
      ],
      "text/latex": [
       "\\begin{tabular}{r|cccccccc}\n",
       "\t& variable & mean & min & median & max & nunique & nmissing & eltype\\\\\n",
       "\t\\hline\n",
       "\t& Symbol & Union… & Any & Union… & Any & Union… & Union… & Type\\\\\n",
       "\t\\hline\n",
       "\t1 & Date &  & 2007-03-01 &  & 2020-10-01 & 164 &  & Date \\\\\n",
       "\t2 & ActualValue & 52.8652 & 32.4 & 53.1 & 61.4 &  &  & Float64 \\\\\n",
       "\t3 & ForecastValue & 54.539 & 47.5 & 54.1 & 62.7 &  & 123 & Union\\{Missing, Float64\\} \\\\\n",
       "\t4 & PreviousValue & 52.8589 & 32.4 & 53.2 & 61.4 &  & 1 & Union\\{Missing, Float64\\} \\\\\n",
       "\\end{tabular}\n"
      ],
      "text/plain": [
       "4×8 DataFrame. Omitted printing of 2 columns\n",
       "│ Row │ variable      │ mean    │ min        │ median │ max        │ nunique │\n",
       "│     │ \u001b[90mSymbol\u001b[39m        │ \u001b[90mUnion…\u001b[39m  │ \u001b[90mAny\u001b[39m        │ \u001b[90mUnion…\u001b[39m │ \u001b[90mAny\u001b[39m        │ \u001b[90mUnion…\u001b[39m  │\n",
       "├─────┼───────────────┼─────────┼────────────┼────────┼────────────┼─────────┤\n",
       "│ 1   │ Date          │         │ 2007-03-01 │        │ 2020-10-01 │ 164     │\n",
       "│ 2   │ ActualValue   │ 52.8652 │ 32.4       │ 53.1   │ 61.4       │         │\n",
       "│ 3   │ ForecastValue │ 54.539  │ 47.5       │ 54.1   │ 62.7       │         │\n",
       "│ 4   │ PreviousValue │ 52.8589 │ 32.4       │ 53.2   │ 61.4       │         │"
      ]
     },
     "execution_count": 3,
     "metadata": {},
     "output_type": "execute_result"
    }
   ],
   "source": [
    "#data = available_datasets() # uncomment to see all available datasets\n",
    "\n",
    "dataset_file_name = \"united-states.ism-manufacturing-pmi.csv\"\n",
    "df = fetch_dataset(dataset_file_name, \"yyyy.mm.dd\") #2019.10.01\n",
    "record_count = size(df)[1]\n",
    "println(\"data dimentions: \", size(df) )\n",
    "\n",
    "using Statistics\n",
    "describe(df)"
   ]
  },
  {
   "cell_type": "markdown",
   "metadata": {},
   "source": [
    "## Sample the data"
   ]
  },
  {
   "cell_type": "code",
   "execution_count": 4,
   "metadata": {},
   "outputs": [
    {
     "name": "stdout",
     "output_type": "stream",
     "text": [
      "12×4 DataFrame\n",
      "│ Row │ Date       │ ActualValue │ ForecastValue │ PreviousValue │\n",
      "│     │ \u001b[90mDate\u001b[39m       │ \u001b[90mFloat64\u001b[39m     │ \u001b[90mFloat64?\u001b[39m      │ \u001b[90mFloat64?\u001b[39m      │\n",
      "├─────┼────────────┼─────────────┼───────────────┼───────────────┤\n",
      "│ 1   │ 2007-03-01 │ 52.3        │ \u001b[90mmissing\u001b[39m       │ \u001b[90mmissing\u001b[39m       │\n",
      "│ 2   │ 2008-05-01 │ 48.6        │ \u001b[90mmissing\u001b[39m       │ 48.6          │\n",
      "│ 3   │ 2009-07-01 │ 44.8        │ \u001b[90mmissing\u001b[39m       │ 42.8          │\n",
      "│ 4   │ 2010-09-01 │ 56.3        │ \u001b[90mmissing\u001b[39m       │ 55.5          │\n",
      "│ 5   │ 2011-11-01 │ 51.8        │ \u001b[90mmissing\u001b[39m       │ 52.5          │\n",
      "│ 6   │ 2013-01-02 │ 50.2        │ \u001b[90mmissing\u001b[39m       │ 49.5          │\n",
      "│ 7   │ 2014-03-03 │ 53.2        │ \u001b[90mmissing\u001b[39m       │ 51.3          │\n",
      "│ 8   │ 2015-05-01 │ 51.5        │ \u001b[90mmissing\u001b[39m       │ 51.5          │\n",
      "│ 9   │ 2016-07-01 │ 53.2        │ \u001b[90mmissing\u001b[39m       │ 51.3          │\n",
      "│ 10  │ 2017-09-01 │ 58.8        │ 57.4          │ 56.3          │\n",
      "│ 11  │ 2018-11-01 │ 57.7        │ 60.6          │ 59.8          │\n",
      "│ 12  │ 2020-01-03 │ 47.2        │ 48.3          │ 48.1          │\n",
      " Dataset dimentions: (164, 4)\n",
      "\n",
      " Column numbering:\n",
      "1 Date\n",
      "2 ActualValue\n",
      "3 ForecastValue\n",
      "4 PreviousValue\n",
      "\n"
     ]
    }
   ],
   "source": [
    "columns = preview_data(df) # uncomment to see the data\n",
    "println()"
   ]
  },
  {
   "cell_type": "markdown",
   "metadata": {},
   "source": [
    "# Rata Die"
   ]
  },
  {
   "cell_type": "code",
   "execution_count": 5,
   "metadata": {},
   "outputs": [
    {
     "name": "stdout",
     "output_type": "stream",
     "text": [
      "12×5 DataFrame\n",
      "│ Row │ Rata_Die │ Date       │ ActualValue │ ForecastValue │ PreviousValue │\n",
      "│     │ \u001b[90mInt64\u001b[39m    │ \u001b[90mDate\u001b[39m       │ \u001b[90mFloat64\u001b[39m     │ \u001b[90mFloat64?\u001b[39m      │ \u001b[90mFloat64?\u001b[39m      │\n",
      "├─────┼──────────┼────────────┼─────────────┼───────────────┼───────────────┤\n",
      "│ 1   │ 732736   │ 2007-03-01 │ 52.3        │ \u001b[90mmissing\u001b[39m       │ \u001b[90mmissing\u001b[39m       │\n",
      "│ 2   │ 733163   │ 2008-05-01 │ 48.6        │ \u001b[90mmissing\u001b[39m       │ 48.6          │\n",
      "│ 3   │ 733589   │ 2009-07-01 │ 44.8        │ \u001b[90mmissing\u001b[39m       │ 42.8          │\n",
      "│ 4   │ 734016   │ 2010-09-01 │ 56.3        │ \u001b[90mmissing\u001b[39m       │ 55.5          │\n",
      "│ 5   │ 734442   │ 2011-11-01 │ 51.8        │ \u001b[90mmissing\u001b[39m       │ 52.5          │\n",
      "│ 6   │ 734870   │ 2013-01-02 │ 50.2        │ \u001b[90mmissing\u001b[39m       │ 49.5          │\n",
      "│ 7   │ 735295   │ 2014-03-03 │ 53.2        │ \u001b[90mmissing\u001b[39m       │ 51.3          │\n",
      "│ 8   │ 735719   │ 2015-05-01 │ 51.5        │ \u001b[90mmissing\u001b[39m       │ 51.5          │\n",
      "│ 9   │ 736146   │ 2016-07-01 │ 53.2        │ \u001b[90mmissing\u001b[39m       │ 51.3          │\n",
      "│ 10  │ 736573   │ 2017-09-01 │ 58.8        │ 57.4          │ 56.3          │\n",
      "│ 11  │ 736999   │ 2018-11-01 │ 57.7        │ 60.6          │ 59.8          │\n",
      "│ 12  │ 737427   │ 2020-01-03 │ 47.2        │ 48.3          │ 48.1          │\n",
      " Dataset dimentions: (164, 5)\n",
      "\n",
      " Column numbering:\n",
      "1 Rata_Die\n",
      "2 Date\n",
      "3 ActualValue\n",
      "4 ForecastValue\n",
      "5 PreviousValue\n",
      "\n"
     ]
    }
   ],
   "source": [
    "insert!(df, 1, zeros(Int64, record_count), :Rata_Die)\n",
    "update_rata_die!(df, 1, 2)\n",
    "\n",
    "columns = preview_data(df)\n",
    "println()"
   ]
  },
  {
   "cell_type": "markdown",
   "metadata": {},
   "source": [
    "# Draw Plots"
   ]
  },
  {
   "cell_type": "code",
   "execution_count": null,
   "metadata": {},
   "outputs": [],
   "source": [
    "using Plots\n",
    "\n",
    "record_count = size(df)[1]\n",
    "rows = 1:record_count\n",
    "dates = format_dates( df[rows,2] , \"m/d/yy\")\n",
    "\n",
    "gr()\n",
    "plot(          dates, # x-axis: dates\n",
    "               [  df[rows,3]    ], # y-axis\n",
    "    label    = [  columns[3]   \"\" ]  ,\n",
    "    legend   =:topleft, \n",
    "              # :right, :left, :top, :bottom, :inside, :best, :legend, :topright, :topleft, :bottomleft, :bottomright\n",
    "    xlabel   = \"time\",\n",
    "    ylabel   = \"indicators\",\n",
    "    size     = (980, 400), # width, height\n",
    "    layout = (1, 1) # number of graphs: vertically, horizontally\n",
    "    )"
   ]
  },
  {
   "cell_type": "markdown",
   "metadata": {},
   "source": [
    "# Extract only the desired data"
   ]
  },
  {
   "cell_type": "code",
   "execution_count": null,
   "metadata": {},
   "outputs": [],
   "source": [
    "using DataFrames\n",
    "df = DataFrame( Day = df[:,1], \n",
    "                Date = df[:,2],\n",
    "                High = df[:,3]\n",
    "               )\n",
    "\n",
    "columns = preview_data(df)\n",
    "println()"
   ]
  },
  {
   "cell_type": "markdown",
   "metadata": {},
   "source": [
    "# Quantize (normalize) the data"
   ]
  },
  {
   "cell_type": "code",
   "execution_count": null,
   "metadata": {},
   "outputs": [],
   "source": [
    "data_original = df[:,3] # keep original for display comparison later\n",
    "\n",
    "quantize_column!(df, 3)\n",
    "\n",
    "columns = preview_data(df)\n",
    "println()"
   ]
  },
  {
   "cell_type": "code",
   "execution_count": null,
   "metadata": {},
   "outputs": [],
   "source": [
    "using Plots\n",
    "\n",
    "count = size(df)[1]\n",
    "rows = 1:count\n",
    "dates = format_dates( df[rows,2] , \"m/d/yy\")\n",
    "\n",
    "gr()\n",
    "plot(          dates, # x-axis: dates\n",
    "               [  df[rows,3]    ], # y-axis\n",
    "    label    = [  columns[3] \"\"   ]  ,\n",
    "    legend   =:topleft, \n",
    "              # :right, :left, :top, :bottom, :inside, :best, :legend, :topright, :topleft, :bottomleft, :bottomright\n",
    "    xlabel   = \"time\",\n",
    "    ylabel   = \"indicators\",\n",
    "    size     = (980, 400), # width, height\n",
    "    layout = (1, 1) # number of graphs: vertically, horizontally\n",
    "    )"
   ]
  },
  {
   "cell_type": "markdown",
   "metadata": {},
   "source": [
    "# Fill Empty Dates"
   ]
  },
  {
   "cell_type": "code",
   "execution_count": null,
   "metadata": {},
   "outputs": [],
   "source": [
    "for i in 1:count-1\n",
    "    day_this = df[i,1]\n",
    "    day_next = df[i+1,1]\n",
    "    \n",
    "    value = df[i,3] # assuming that the last known value is still valid\n",
    "    \n",
    "    # loop thru all days you need to insert\n",
    "    # if there is no gap, nothing will happen\n",
    "    for day in day_this+1:day_next-1\n",
    "        date_string = Dates.format(rata2datetime(day), \"yyyy-mm-dd\")\n",
    "        push!(df, [ day date_string value ])\n",
    "    end\n",
    "    \n",
    "end\n",
    "\n",
    "sort!(df, [:Day]);\n",
    "count = size(df)[1]\n",
    "columns = preview_data(df)\n",
    "println()"
   ]
  },
  {
   "cell_type": "code",
   "execution_count": null,
   "metadata": {},
   "outputs": [],
   "source": [
    "using Plots\n",
    "count = size(df)[1]\n",
    "rows = 1:count\n",
    "dates = format_dates( df[rows,2] , \"m/d/yy\")\n",
    "\n",
    "gr()\n",
    "plot(          dates, # x-axis: dates\n",
    "               [  df[rows,3]    ], # y-axis\n",
    "    label    = [ columns[3]    \"\"  ],\n",
    "    legend   =:topleft, \n",
    "              # :right, :left, :top, :bottom, :inside, :best, :legend, :topright, :topleft, :bottomleft, :bottomright\n",
    "    xlabel   = \"time\",\n",
    "    ylabel   = \"indicators\",\n",
    "    size     = (980, 400), # width, height\n",
    "    layout = (1, 1) # number of graphs: vertically, horizontally\n",
    "    )"
   ]
  },
  {
   "cell_type": "markdown",
   "metadata": {},
   "source": [
    "# Averages"
   ]
  },
  {
   "cell_type": "code",
   "execution_count": null,
   "metadata": {},
   "outputs": [],
   "source": [
    "averages005 = calculate_average(df, 5, 3)\n",
    "averages030 = calculate_average(df, 30, 3)\n",
    "averages090 = calculate_average(df, 90, 3)\n",
    "averages180 = calculate_average(df, 180, 3)\n",
    "averages365 = calculate_average(df, 365, 3)\n",
    "println()"
   ]
  },
  {
   "cell_type": "code",
   "execution_count": null,
   "metadata": {},
   "outputs": [],
   "source": [
    "using Plots\n",
    "count = size(df)[1]\n",
    "rows = 1:count\n",
    "dates = format_dates( df[rows,2] , \"m/d/yy\")\n",
    "\n",
    "gr()\n",
    "plot!(          dates, # x-axis: dates\n",
    "               [  averages180    ], # y-axis\n",
    "    label    = [ \"180-day avg\"    \"\"  ],\n",
    "    legend   =:topleft, \n",
    "              # :right, :left, :top, :bottom, :inside, :best, :legend, :topright, :topleft, :bottomleft, :bottomright\n",
    "    xlabel   = \"time\",\n",
    "    ylabel   = \"indicators\",\n",
    "    size     = (980, 400), # width, height\n",
    "    layout = (1, 1) # number of graphs: vertically, horizontally\n",
    "    )"
   ]
  },
  {
   "cell_type": "code",
   "execution_count": null,
   "metadata": {},
   "outputs": [],
   "source": [
    "insertcols!(df, 4,  :Avg005 => averages005, makeunique=true)\n",
    "insertcols!(df, 5,  :Avg030 => averages030, makeunique=true)\n",
    "insertcols!(df, 6,  :Avg090 => averages090, makeunique=true)\n",
    "insertcols!(df, 7,  :Avg180 => averages180, makeunique=true)\n",
    "insertcols!(df, 8,  :Avg365 => averages365, makeunique=true)\n",
    "describe(df)"
   ]
  },
  {
   "cell_type": "markdown",
   "metadata": {},
   "source": [
    "# Position on given Date"
   ]
  },
  {
   "cell_type": "code",
   "execution_count": null,
   "metadata": {},
   "outputs": [],
   "source": [
    "position = position_on_date(df, \"2020-09-30\")\n",
    "position[1:3]"
   ]
  },
  {
   "cell_type": "code",
   "execution_count": null,
   "metadata": {},
   "outputs": [],
   "source": [
    "using Plots\n",
    "count = size(df)[1]\n",
    "rows = count-30:count\n",
    "dates = format_dates( df[rows,2] , \"m/d/yy\")\n",
    "\n",
    "gr()\n",
    "plot(      dates, # x-axis: dates\n",
    "        [  df[rows,3] position[rows] averages005[rows] averages030[rows] averages090[rows] averages180[rows] averages365[rows] ], # y-axis\n",
    "    label    = \n",
    "        [ columns[3] \"position\" \"5-day avg\" \"30-day avg\" \"90-day avg\" \"180-day avg\" \"365-day avg\" \"\"  ],\n",
    "    legend   =:topleft, \n",
    "              # :right, :left, :top, :bottom, :inside, :best, :legend, :topright, :topleft, :bottomleft, :bottomright\n",
    "    xlabel   = \"time\",\n",
    "    ylabel   = \"indicators\",\n",
    "    size     = (980, 400), # width, height\n",
    "    layout = (1, 1) # number of graphs: vertically, horizontally\n",
    "    )"
   ]
  },
  {
   "cell_type": "markdown",
   "metadata": {},
   "source": [
    "[back to top](#Table-of-Contents)\n",
    "<hr/>\n",
    "\n",
    "# Save DataFrame to CSV file"
   ]
  },
  {
   "cell_type": "code",
   "execution_count": null,
   "metadata": {},
   "outputs": [],
   "source": [
    "save_dataset(df, dataset_file_name);"
   ]
  },
  {
   "cell_type": "code",
   "execution_count": null,
   "metadata": {},
   "outputs": [],
   "source": []
  }
 ],
 "metadata": {
  "kernelspec": {
   "display_name": "Julia 1.5.0",
   "language": "julia",
   "name": "julia-1.5"
  },
  "language_info": {
   "file_extension": ".jl",
   "mimetype": "application/julia",
   "name": "julia",
   "version": "1.5.0"
  },
  "toc": {
   "base_numbering": 1,
   "nav_menu": {},
   "number_sections": false,
   "sideBar": true,
   "skip_h1_title": false,
   "title_cell": "Table of Contents",
   "title_sidebar": "Contents",
   "toc_cell": true,
   "toc_position": {},
   "toc_section_display": true,
   "toc_window_display": true
  }
 },
 "nbformat": 4,
 "nbformat_minor": 4
}
