{
 "cells": [
  {
   "cell_type": "markdown",
   "metadata": {},
   "source": [
    "# ISM Manufacturing PMI\n",
    "\n",
    "ISM Manufacturing PMI reflects business conditions in the US manufacturing sector in the specified month. The Institute of Supply Management (ISM) is a not-for-profit supply management organization in the United States, which has over 40,000 members.\n",
    "\n",
    "The index is calculated based on a survey of representatives of several hundred companies from 18 US industries. Unlike Markit, ISM considers not only private companies but is based on the common NAICS (North American Industrial Classification System) list. Respondents describe the following aspects of their economic activity:\n",
    "\n",
    "- New orders received from clients\n",
    "- Output (speed and level)\n",
    "- Suppliers' delivery times (whether delivery performance is faster or slower)\n",
    "- Company's inventories\n",
    "- Customers' stocks (an approximate estimate of stocks stored by company's clients)\n",
    "- Prices, whether the company is paying for products and services more or less\n",
    "- Backlog of orders (increasing or decreasing)\n",
    "- New export orders, i.e. the number of orders received for further export\n",
    "- Imports — amount of imported materials\n",
    "- Employment in the company\n",
    "\n",
    "The questionnaire features relative estimates: whether the situation is better, worse or has not changed. Responses are estimated taking into account weights of respondent companies.\n",
    "\n",
    "The values are seasonally adjusted. The resulting manufacturing PMI is a composite of five diffuse indices with different weights (New orders, Output, Employment, Supplies and Inventories).\n",
    "\n",
    "Readings above 50 point to improvements in the industry situation. Index below 50 is an indication of contraction in economic conditions of production. The further the value moves from the mark of 50, the greater the rate of situation change.\n",
    "\n",
    "Manufacturing PMI is **one of the most important indicators of economic health**. Although the manufacturing sector is not a very important component of national GDP, it is still an early **indicator of a coming recession or growth**. **Purchasing managers are among the first to know** when the market conditions change, since they work in the short term and can evaluate a trend towards changing economic conditions. The index is released earlier than GDP and reports from the Bureau of Labor Statistics, therefore it is a leading indicator.\n",
    "\n",
    "Manufacturing PMI growth is usually seen as positive for the US dollar.\n",
    "                \n",
    "## Source\n",
    "- https://www.mql5.com/en/economic-calendar/united-states/ism-manufacturing-pmi"
   ]
  },
  {
   "cell_type": "markdown",
   "metadata": {
    "toc": true
   },
   "source": [
    "<h1>Table of Contents<span class=\"tocSkip\"></span></h1>\n",
    "<div class=\"toc\"><ul class=\"toc-item\"><li><span><a href=\"#ISM-Manufacturing-PMI\" data-toc-modified-id=\"ISM-Manufacturing-PMI-1\">ISM Manufacturing PMI</a></span><ul class=\"toc-item\"><li><span><a href=\"#Source\" data-toc-modified-id=\"Source-1.1\">Source</a></span></li></ul></li><li><span><a href=\"#Set-Up\" data-toc-modified-id=\"Set-Up-2\">Set Up</a></span></li><li><span><a href=\"#Read-Data\" data-toc-modified-id=\"Read-Data-3\">Read Data</a></span><ul class=\"toc-item\"><li><span><a href=\"#Sample-the-data\" data-toc-modified-id=\"Sample-the-data-3.1\">Sample the data</a></span></li></ul></li><li><span><a href=\"#Format-Dates\" data-toc-modified-id=\"Format-Dates-4\">Format Dates</a></span></li><li><span><a href=\"#Rata-Die\" data-toc-modified-id=\"Rata-Die-5\">Rata Die</a></span><ul class=\"toc-item\"><li><span><a href=\"#Number-the-columns\" data-toc-modified-id=\"Number-the-columns-5.1\">Number the columns</a></span></li></ul></li><li><span><a href=\"#Extract-only-the-desired-data\" data-toc-modified-id=\"Extract-only-the-desired-data-6\">Extract only the desired data</a></span></li><li><span><a href=\"#Calculate-Averages\" data-toc-modified-id=\"Calculate-Averages-7\">Calculate Averages</a></span></li></ul></div>"
   ]
  },
  {
   "cell_type": "markdown",
   "metadata": {},
   "source": [
    "# Set Up"
   ]
  },
  {
   "cell_type": "code",
   "execution_count": 1,
   "metadata": {},
   "outputs": [
    {
     "name": "stdout",
     "output_type": "stream",
     "text": [
      "\n"
     ]
    }
   ],
   "source": [
    "date_format = \"yyyy.mm.dd\" # 2007.04.05\n",
    "show_help = false\n",
    "include(\"MarketIndicators.jl\") "
   ]
  },
  {
   "cell_type": "markdown",
   "metadata": {},
   "source": [
    "# Read Data"
   ]
  },
  {
   "cell_type": "code",
   "execution_count": 2,
   "metadata": {},
   "outputs": [],
   "source": [
    "#datasets = available_datasets()"
   ]
  },
  {
   "cell_type": "code",
   "execution_count": 3,
   "metadata": {},
   "outputs": [
    {
     "name": "stdout",
     "output_type": "stream",
     "text": [
      "dataset_file_name: united-states.ism-manufacturing-pmi.csv\n",
      "data dimentions: (163, 4)\n",
      "record_count: 163\n"
     ]
    }
   ],
   "source": [
    "dataset_file_name = available_datasets()[10,2] # [row, column]\n",
    "println(\"dataset_file_name: \", dataset_file_name)\n",
    "df = fetch_dataset(dataset_file_name, date_format)\n",
    "println(\"data dimentions: \", size(df) )\n",
    "record_count = size(df)[1]\n",
    "println(\"record_count: \", record_count )"
   ]
  },
  {
   "cell_type": "markdown",
   "metadata": {},
   "source": [
    "## Sample the data"
   ]
  },
  {
   "cell_type": "code",
   "execution_count": 4,
   "metadata": {
    "scrolled": false
   },
   "outputs": [
    {
     "name": "stdout",
     "output_type": "stream",
     "text": [
      "12×4 DataFrame\n",
      "│ Row │ Date       │ ActualValue │ ForecastValue │ PreviousValue │\n",
      "│     │ \u001b[90mDate\u001b[39m       │ \u001b[90mFloat64\u001b[39m     │ \u001b[90mFloat64?\u001b[39m      │ \u001b[90mFloat64?\u001b[39m      │\n",
      "├─────┼────────────┼─────────────┼───────────────┼───────────────┤\n",
      "│ 1   │ 2020-09-01 │ 56.0        │ 53.4          │ 54.2          │\n",
      "│ 2   │ 2019-07-01 │ 51.7        │ 52.4          │ 52.1          │\n",
      "│ 3   │ 2018-05-01 │ 57.3        │ 58.5          │ 59.3          │\n",
      "│ 4   │ 2017-03-01 │ 57.7        │ \u001b[90mmissing\u001b[39m       │ 56.0          │\n",
      "│ 5   │ 2016-01-04 │ 48.2        │ \u001b[90mmissing\u001b[39m       │ 48.6          │\n",
      "│ 6   │ 2014-11-03 │ 59.0        │ \u001b[90mmissing\u001b[39m       │ 56.6          │\n",
      "│ 7   │ 2013-09-03 │ 55.7        │ \u001b[90mmissing\u001b[39m       │ 55.4          │\n",
      "│ 8   │ 2012-07-02 │ 50.2        │ \u001b[90mmissing\u001b[39m       │ 53.5          │\n",
      "│ 9   │ 2011-05-02 │ 60.4        │ \u001b[90mmissing\u001b[39m       │ 61.2          │\n",
      "│ 10  │ 2010-03-01 │ 56.5        │ \u001b[90mmissing\u001b[39m       │ 58.4          │\n",
      "│ 11  │ 2009-01-02 │ 32.4        │ \u001b[90mmissing\u001b[39m       │ 36.2          │\n",
      "│ 12  │ 2007-11-01 │ 50.9        │ \u001b[90mmissing\u001b[39m       │ 52.0          │"
     ]
    },
    {
     "ename": "LoadError",
     "evalue": "UndefVarError: df1 not defined",
     "output_type": "error",
     "traceback": [
      "UndefVarError: df1 not defined",
      "",
      "Stacktrace:",
      " [1] preview_data(::DataFrame) at R:\\MarketIndicators.jl\\MarketIndicators.jl:112",
      " [2] top-level scope at In[4]:1",
      " [3] include_string(::Function, ::Module, ::String, ::String) at .\\loading.jl:1091"
     ]
    }
   ],
   "source": [
    "preview_data(df)"
   ]
  },
  {
   "cell_type": "markdown",
   "metadata": {},
   "source": [
    "# Format Dates"
   ]
  },
  {
   "cell_type": "code",
   "execution_count": 5,
   "metadata": {},
   "outputs": [
    {
     "data": {
      "text/plain": [
       "5-element Array{String,1}:\n",
       " \"20/901\"\n",
       " \"20/803\"\n",
       " \"20/701\"\n",
       " \"20/601\"\n",
       " \"20/501\""
      ]
     },
     "execution_count": 5,
     "metadata": {},
     "output_type": "execute_result"
    }
   ],
   "source": [
    "dates = format_dates( df[:,1] , \"yy/mdd\")\n",
    "dates[1:5]"
   ]
  },
  {
   "cell_type": "markdown",
   "metadata": {},
   "source": [
    "# Rata Die"
   ]
  },
  {
   "cell_type": "code",
   "execution_count": 6,
   "metadata": {
    "scrolled": true
   },
   "outputs": [
    {
     "name": "stdout",
     "output_type": "stream",
     "text": [
      "12×5 DataFrame\n",
      "│ Row │ Rata_Die │ Date       │ ActualValue │ ForecastValue │ PreviousValue │\n",
      "│     │ \u001b[90mInt64\u001b[39m    │ \u001b[90mDate\u001b[39m       │ \u001b[90mFloat64\u001b[39m     │ \u001b[90mFloat64?\u001b[39m      │ \u001b[90mFloat64?\u001b[39m      │\n",
      "├─────┼──────────┼────────────┼─────────────┼───────────────┼───────────────┤\n",
      "│ 1   │ 44073    │ 2020-09-01 │ 56.0        │ 53.4          │ 54.2          │\n",
      "│ 2   │ 43645    │ 2019-07-01 │ 51.7        │ 52.4          │ 52.1          │\n",
      "│ 3   │ 43219    │ 2018-05-01 │ 57.3        │ 58.5          │ 59.3          │\n",
      "│ 4   │ 42793    │ 2017-03-01 │ 57.7        │ \u001b[90mmissing\u001b[39m       │ 56.0          │\n",
      "│ 5   │ 42371    │ 2016-01-04 │ 48.2        │ \u001b[90mmissing\u001b[39m       │ 48.6          │\n",
      "│ 6   │ 41944    │ 2014-11-03 │ 59.0        │ \u001b[90mmissing\u001b[39m       │ 56.6          │\n",
      "│ 7   │ 41518    │ 2013-09-03 │ 55.7        │ \u001b[90mmissing\u001b[39m       │ 55.4          │\n",
      "│ 8   │ 41090    │ 2012-07-02 │ 50.2        │ \u001b[90mmissing\u001b[39m       │ 53.5          │\n",
      "│ 9   │ 40663    │ 2011-05-02 │ 60.4        │ \u001b[90mmissing\u001b[39m       │ 61.2          │\n",
      "│ 10  │ 40236    │ 2010-03-01 │ 56.5        │ \u001b[90mmissing\u001b[39m       │ 58.4          │\n",
      "│ 11  │ 39813    │ 2009-01-02 │ 32.4        │ \u001b[90mmissing\u001b[39m       │ 36.2          │\n",
      "│ 12  │ 39385    │ 2007-11-01 │ 50.9        │ \u001b[90mmissing\u001b[39m       │ 52.0          │"
     ]
    },
    {
     "ename": "LoadError",
     "evalue": "UndefVarError: df1 not defined",
     "output_type": "error",
     "traceback": [
      "UndefVarError: df1 not defined",
      "",
      "Stacktrace:",
      " [1] preview_data(::DataFrame) at R:\\MarketIndicators.jl\\MarketIndicators.jl:112",
      " [2] top-level scope at In[6]:3",
      " [3] include_string(::Function, ::Module, ::String, ::String) at .\\loading.jl:1091"
     ]
    }
   ],
   "source": [
    "insert!(df, 1, zeros(Int64, record_count), :Rata_Die)\n",
    "update_rata_die!(df, 1, 2) # Rata_Die column, Date column\n",
    "preview_data(df)"
   ]
  },
  {
   "cell_type": "code",
   "execution_count": null,
   "metadata": {},
   "outputs": [],
   "source": []
  },
  {
   "cell_type": "markdown",
   "metadata": {},
   "source": [
    "## Number the columns"
   ]
  },
  {
   "cell_type": "code",
   "execution_count": 7,
   "metadata": {},
   "outputs": [
    {
     "name": "stdout",
     "output_type": "stream",
     "text": [
      "1 Rata_Die\n",
      "2 Date\n",
      "3 ActualValue\n",
      "4 ForecastValue\n",
      "5 PreviousValue\n"
     ]
    }
   ],
   "source": [
    "# sample the values in the columns\n",
    "columns = names(df)\n",
    "for i in 1:length(columns)\n",
    "    println(i, \" \", columns[i])\n",
    "end"
   ]
  },
  {
   "cell_type": "markdown",
   "metadata": {},
   "source": [
    "# Extract only the desired data"
   ]
  },
  {
   "cell_type": "code",
   "execution_count": 8,
   "metadata": {},
   "outputs": [
    {
     "name": "stdout",
     "output_type": "stream",
     "text": [
      "12×3 DataFrame\n",
      "│ Row │ Day   │ Date       │ Actual  │\n",
      "│     │ \u001b[90mInt64\u001b[39m │ \u001b[90mDate\u001b[39m       │ \u001b[90mFloat64\u001b[39m │\n",
      "├─────┼───────┼────────────┼─────────┤\n",
      "│ 1   │ 44073 │ 2020-09-01 │ 56.0    │\n",
      "│ 2   │ 43645 │ 2019-07-01 │ 51.7    │\n",
      "│ 3   │ 43219 │ 2018-05-01 │ 57.3    │\n",
      "│ 4   │ 42793 │ 2017-03-01 │ 57.7    │\n",
      "│ 5   │ 42371 │ 2016-01-04 │ 48.2    │\n",
      "│ 6   │ 41944 │ 2014-11-03 │ 59.0    │\n",
      "│ 7   │ 41518 │ 2013-09-03 │ 55.7    │\n",
      "│ 8   │ 41090 │ 2012-07-02 │ 50.2    │\n",
      "│ 9   │ 40663 │ 2011-05-02 │ 60.4    │\n",
      "│ 10  │ 40236 │ 2010-03-01 │ 56.5    │\n",
      "│ 11  │ 39813 │ 2009-01-02 │ 32.4    │\n",
      "│ 12  │ 39385 │ 2007-11-01 │ 50.9    │\n",
      " Dataset dimentions: (163, 3)\n",
      "\n",
      " Column numbering:\n",
      "1 Day\n",
      "2 Date\n",
      "3 Actual\n",
      "\n",
      " Dataset dimentions: (163, 3)\n",
      "\n",
      " Column numbering:\n",
      "1 Day\n",
      "2 Date\n",
      "3 Actual\n"
     ]
    }
   ],
   "source": [
    "using DataFrames\n",
    "df1 = DataFrame( Day = df[:,1], \n",
    "                Date = df[:,2],\n",
    "                Actual = df[:,3]\n",
    "               )\n",
    "\n",
    "preview_data( df1)\n",
    "\n",
    "println(\"\\n Dataset dimentions: \", size(df1) )\n",
    "println(\"\\n Column numbering:\")\n",
    "columns = names(df1)\n",
    "for i in 1:length(columns)\n",
    "    println(i, \" \", columns[i])\n",
    "end"
   ]
  },
  {
   "cell_type": "markdown",
   "metadata": {},
   "source": [
    "# Calculate Averages"
   ]
  },
  {
   "cell_type": "code",
   "execution_count": 9,
   "metadata": {},
   "outputs": [
    {
     "name": "stdout",
     "output_type": "stream",
     "text": [
      "12×4 DataFrame\n",
      "│ Row │ Day   │ Date       │ Actual  │ Mean    │\n",
      "│     │ \u001b[90mInt64\u001b[39m │ \u001b[90mDate\u001b[39m       │ \u001b[90mFloat64\u001b[39m │ \u001b[90mFloat64\u001b[39m │\n",
      "├─────┼───────┼────────────┼─────────┼─────────┤\n",
      "│ 1   │ 44073 │ 2020-09-01 │ 56.0    │ 52.8    │\n",
      "│ 2   │ 43645 │ 2019-07-01 │ 51.7    │ 52.8    │\n",
      "│ 3   │ 43219 │ 2018-05-01 │ 57.3    │ 52.8    │\n",
      "│ 4   │ 42793 │ 2017-03-01 │ 57.7    │ 52.8    │\n",
      "│ 5   │ 42371 │ 2016-01-04 │ 48.2    │ 52.8    │\n",
      "│ 6   │ 41944 │ 2014-11-03 │ 59.0    │ 52.8    │\n",
      "│ 7   │ 41518 │ 2013-09-03 │ 55.7    │ 52.8    │\n",
      "│ 8   │ 41090 │ 2012-07-02 │ 50.2    │ 52.8    │\n",
      "│ 9   │ 40663 │ 2011-05-02 │ 60.4    │ 52.8    │\n",
      "│ 10  │ 40236 │ 2010-03-01 │ 56.5    │ 52.8    │\n",
      "│ 11  │ 39813 │ 2009-01-02 │ 32.4    │ 52.8    │\n",
      "│ 12  │ 39385 │ 2007-11-01 │ 50.9    │ 52.8    │\n",
      " Dataset dimentions: (163, 4)\n",
      "\n",
      " Column numbering:\n",
      "1 Day\n",
      "2 Date\n",
      "3 Actual\n",
      "4 Mean\n"
     ]
    },
    {
     "data": {
      "text/plain": [
       "4-element Array{String,1}:\n",
       " \"Day\"\n",
       " \"Date\"\n",
       " \"Actual\"\n",
       " \"Mean\""
      ]
     },
     "execution_count": 9,
     "metadata": {},
     "output_type": "execute_result"
    }
   ],
   "source": [
    "add_overal_mean!(df1)\n",
    "columns= preview_data( df1)"
   ]
  },
  {
   "cell_type": "code",
   "execution_count": 20,
   "metadata": {},
   "outputs": [
    {
     "data": {
      "image/svg+xml": [
       "<?xml version=\"1.0\" encoding=\"utf-8\"?>\n",
       "<svg xmlns=\"http://www.w3.org/2000/svg\" xmlns:xlink=\"http://www.w3.org/1999/xlink\" width=\"980\" height=\"400\" viewBox=\"0 0 3920 1600\">\n",
       "<defs>\n",
       "  <clipPath id=\"clip6200\">\n",
       "    <rect x=\"0\" y=\"0\" width=\"3920\" height=\"1600\"/>\n",
       "  </clipPath>\n",
       "</defs>\n",
       "<path clip-path=\"url(#clip6200)\" d=\"\n",
       "M0 1600 L3920 1600 L3920 0 L0 0  Z\n",
       "  \" fill=\"#ffffff\" fill-rule=\"evenodd\" fill-opacity=\"1\"/>\n",
       "<defs>\n",
       "  <clipPath id=\"clip6201\">\n",
       "    <rect x=\"784\" y=\"0\" width=\"2745\" height=\"1600\"/>\n",
       "  </clipPath>\n",
       "</defs>\n",
       "<path clip-path=\"url(#clip6200)\" d=\"\n",
       "M199.14 1455.01 L3872.76 1455.01 L3872.76 47.2441 L199.14 47.2441  Z\n",
       "  \" fill=\"#ffffff\" fill-rule=\"evenodd\" fill-opacity=\"1\"/>\n",
       "<defs>\n",
       "  <clipPath id=\"clip6202\">\n",
       "    <rect x=\"199\" y=\"47\" width=\"3675\" height=\"1409\"/>\n",
       "  </clipPath>\n",
       "</defs>\n",
       "<polyline clip-path=\"url(#clip6202)\" style=\"stroke:#000000; stroke-width:2; stroke-opacity:0.1; fill:none\" points=\"\n",
       "  303.11,1455.01 303.11,47.2441 \n",
       "  \"/>\n",
       "<polyline clip-path=\"url(#clip6202)\" style=\"stroke:#000000; stroke-width:2; stroke-opacity:0.1; fill:none\" points=\"\n",
       "  618.172,1455.01 618.172,47.2441 \n",
       "  \"/>\n",
       "<polyline clip-path=\"url(#clip6202)\" style=\"stroke:#000000; stroke-width:2; stroke-opacity:0.1; fill:none\" points=\"\n",
       "  933.233,1455.01 933.233,47.2441 \n",
       "  \"/>\n",
       "<polyline clip-path=\"url(#clip6202)\" style=\"stroke:#000000; stroke-width:2; stroke-opacity:0.1; fill:none\" points=\"\n",
       "  1248.29,1455.01 1248.29,47.2441 \n",
       "  \"/>\n",
       "<polyline clip-path=\"url(#clip6202)\" style=\"stroke:#000000; stroke-width:2; stroke-opacity:0.1; fill:none\" points=\"\n",
       "  1563.36,1455.01 1563.36,47.2441 \n",
       "  \"/>\n",
       "<polyline clip-path=\"url(#clip6202)\" style=\"stroke:#000000; stroke-width:2; stroke-opacity:0.1; fill:none\" points=\"\n",
       "  1878.42,1455.01 1878.42,47.2441 \n",
       "  \"/>\n",
       "<polyline clip-path=\"url(#clip6202)\" style=\"stroke:#000000; stroke-width:2; stroke-opacity:0.1; fill:none\" points=\"\n",
       "  2193.48,1455.01 2193.48,47.2441 \n",
       "  \"/>\n",
       "<polyline clip-path=\"url(#clip6202)\" style=\"stroke:#000000; stroke-width:2; stroke-opacity:0.1; fill:none\" points=\"\n",
       "  2508.54,1455.01 2508.54,47.2441 \n",
       "  \"/>\n",
       "<polyline clip-path=\"url(#clip6202)\" style=\"stroke:#000000; stroke-width:2; stroke-opacity:0.1; fill:none\" points=\"\n",
       "  2823.6,1455.01 2823.6,47.2441 \n",
       "  \"/>\n",
       "<polyline clip-path=\"url(#clip6202)\" style=\"stroke:#000000; stroke-width:2; stroke-opacity:0.1; fill:none\" points=\"\n",
       "  3138.66,1455.01 3138.66,47.2441 \n",
       "  \"/>\n",
       "<polyline clip-path=\"url(#clip6202)\" style=\"stroke:#000000; stroke-width:2; stroke-opacity:0.1; fill:none\" points=\"\n",
       "  3453.72,1455.01 3453.72,47.2441 \n",
       "  \"/>\n",
       "<polyline clip-path=\"url(#clip6202)\" style=\"stroke:#000000; stroke-width:2; stroke-opacity:0.1; fill:none\" points=\"\n",
       "  3768.79,1455.01 3768.79,47.2441 \n",
       "  \"/>\n",
       "<polyline clip-path=\"url(#clip6202)\" style=\"stroke:#000000; stroke-width:2; stroke-opacity:0.1; fill:none\" points=\"\n",
       "  199.14,1369.37 3872.76,1369.37 \n",
       "  \"/>\n",
       "<polyline clip-path=\"url(#clip6202)\" style=\"stroke:#000000; stroke-width:2; stroke-opacity:0.1; fill:none\" points=\"\n",
       "  199.14,1094.59 3872.76,1094.59 \n",
       "  \"/>\n",
       "<polyline clip-path=\"url(#clip6202)\" style=\"stroke:#000000; stroke-width:2; stroke-opacity:0.1; fill:none\" points=\"\n",
       "  199.14,819.819 3872.76,819.819 \n",
       "  \"/>\n",
       "<polyline clip-path=\"url(#clip6202)\" style=\"stroke:#000000; stroke-width:2; stroke-opacity:0.1; fill:none\" points=\"\n",
       "  199.14,545.044 3872.76,545.044 \n",
       "  \"/>\n",
       "<polyline clip-path=\"url(#clip6202)\" style=\"stroke:#000000; stroke-width:2; stroke-opacity:0.1; fill:none\" points=\"\n",
       "  199.14,270.27 3872.76,270.27 \n",
       "  \"/>\n",
       "<polyline clip-path=\"url(#clip6200)\" style=\"stroke:#000000; stroke-width:4; stroke-opacity:1; fill:none\" points=\"\n",
       "  199.14,1455.01 3872.76,1455.01 \n",
       "  \"/>\n",
       "<polyline clip-path=\"url(#clip6200)\" style=\"stroke:#000000; stroke-width:4; stroke-opacity:1; fill:none\" points=\"\n",
       "  199.14,1455.01 199.14,47.2441 \n",
       "  \"/>\n",
       "<polyline clip-path=\"url(#clip6200)\" style=\"stroke:#000000; stroke-width:4; stroke-opacity:1; fill:none\" points=\"\n",
       "  303.11,1455.01 303.11,1438.11 \n",
       "  \"/>\n",
       "<polyline clip-path=\"url(#clip6200)\" style=\"stroke:#000000; stroke-width:4; stroke-opacity:1; fill:none\" points=\"\n",
       "  618.172,1455.01 618.172,1438.11 \n",
       "  \"/>\n",
       "<polyline clip-path=\"url(#clip6200)\" style=\"stroke:#000000; stroke-width:4; stroke-opacity:1; fill:none\" points=\"\n",
       "  933.233,1455.01 933.233,1438.11 \n",
       "  \"/>\n",
       "<polyline clip-path=\"url(#clip6200)\" style=\"stroke:#000000; stroke-width:4; stroke-opacity:1; fill:none\" points=\"\n",
       "  1248.29,1455.01 1248.29,1438.11 \n",
       "  \"/>\n",
       "<polyline clip-path=\"url(#clip6200)\" style=\"stroke:#000000; stroke-width:4; stroke-opacity:1; fill:none\" points=\"\n",
       "  1563.36,1455.01 1563.36,1438.11 \n",
       "  \"/>\n",
       "<polyline clip-path=\"url(#clip6200)\" style=\"stroke:#000000; stroke-width:4; stroke-opacity:1; fill:none\" points=\"\n",
       "  1878.42,1455.01 1878.42,1438.11 \n",
       "  \"/>\n",
       "<polyline clip-path=\"url(#clip6200)\" style=\"stroke:#000000; stroke-width:4; stroke-opacity:1; fill:none\" points=\"\n",
       "  2193.48,1455.01 2193.48,1438.11 \n",
       "  \"/>\n",
       "<polyline clip-path=\"url(#clip6200)\" style=\"stroke:#000000; stroke-width:4; stroke-opacity:1; fill:none\" points=\"\n",
       "  2508.54,1455.01 2508.54,1438.11 \n",
       "  \"/>\n",
       "<polyline clip-path=\"url(#clip6200)\" style=\"stroke:#000000; stroke-width:4; stroke-opacity:1; fill:none\" points=\"\n",
       "  2823.6,1455.01 2823.6,1438.11 \n",
       "  \"/>\n",
       "<polyline clip-path=\"url(#clip6200)\" style=\"stroke:#000000; stroke-width:4; stroke-opacity:1; fill:none\" points=\"\n",
       "  3138.66,1455.01 3138.66,1438.11 \n",
       "  \"/>\n",
       "<polyline clip-path=\"url(#clip6200)\" style=\"stroke:#000000; stroke-width:4; stroke-opacity:1; fill:none\" points=\"\n",
       "  3453.72,1455.01 3453.72,1438.11 \n",
       "  \"/>\n",
       "<polyline clip-path=\"url(#clip6200)\" style=\"stroke:#000000; stroke-width:4; stroke-opacity:1; fill:none\" points=\"\n",
       "  3768.79,1455.01 3768.79,1438.11 \n",
       "  \"/>\n",
       "<polyline clip-path=\"url(#clip6200)\" style=\"stroke:#000000; stroke-width:4; stroke-opacity:1; fill:none\" points=\"\n",
       "  199.14,1369.37 243.224,1369.37 \n",
       "  \"/>\n",
       "<polyline clip-path=\"url(#clip6200)\" style=\"stroke:#000000; stroke-width:4; stroke-opacity:1; fill:none\" points=\"\n",
       "  199.14,1094.59 243.224,1094.59 \n",
       "  \"/>\n",
       "<polyline clip-path=\"url(#clip6200)\" style=\"stroke:#000000; stroke-width:4; stroke-opacity:1; fill:none\" points=\"\n",
       "  199.14,819.819 243.224,819.819 \n",
       "  \"/>\n",
       "<polyline clip-path=\"url(#clip6200)\" style=\"stroke:#000000; stroke-width:4; stroke-opacity:1; fill:none\" points=\"\n",
       "  199.14,545.044 243.224,545.044 \n",
       "  \"/>\n",
       "<polyline clip-path=\"url(#clip6200)\" style=\"stroke:#000000; stroke-width:4; stroke-opacity:1; fill:none\" points=\"\n",
       "  199.14,270.27 243.224,270.27 \n",
       "  \"/>\n",
       "<path clip-path=\"url(#clip6200)\" d=\"M 0 0 M236.456 1512.14 L252.775 1512.14 L252.775 1516.08 L230.831 1516.08 L230.831 1512.14 Q233.493 1509.39 238.076 1504.76 Q242.683 1500.11 243.863 1498.76 Q246.108 1496.24 246.988 1494.5 Q247.891 1492.75 247.891 1491.06 Q247.891 1488.3 245.946 1486.57 Q244.025 1484.83 240.923 1484.83 Q238.724 1484.83 236.271 1485.59 Q233.84 1486.36 231.062 1487.91 L231.062 1483.19 Q233.886 1482.05 236.34 1481.47 Q238.794 1480.89 240.831 1480.89 Q246.201 1480.89 249.396 1483.58 Q252.59 1486.26 252.59 1490.75 Q252.59 1492.88 251.78 1494.81 Q250.993 1496.7 248.886 1499.3 Q248.308 1499.97 245.206 1503.19 Q242.104 1506.38 236.456 1512.14 Z\" fill=\"#000000\" fill-rule=\"evenodd\" fill-opacity=\"1\" /><path clip-path=\"url(#clip6200)\" d=\"M 0 0 M267.844 1484.6 Q264.233 1484.6 262.405 1488.16 Q260.599 1491.7 260.599 1498.83 Q260.599 1505.94 262.405 1509.5 Q264.233 1513.05 267.844 1513.05 Q271.479 1513.05 273.284 1509.5 Q275.113 1505.94 275.113 1498.83 Q275.113 1491.7 273.284 1488.16 Q271.479 1484.6 267.844 1484.6 M267.844 1480.89 Q273.655 1480.89 276.71 1485.5 Q279.789 1490.08 279.789 1498.83 Q279.789 1507.56 276.71 1512.17 Q273.655 1516.75 267.844 1516.75 Q262.034 1516.75 258.956 1512.17 Q255.9 1507.56 255.9 1498.83 Q255.9 1490.08 258.956 1485.5 Q262.034 1480.89 267.844 1480.89 Z\" fill=\"#000000\" fill-rule=\"evenodd\" fill-opacity=\"1\" /><path clip-path=\"url(#clip6200)\" d=\"M 0 0 M291.826 1481.52 L295.761 1481.52 L283.724 1520.48 L279.789 1520.48 L291.826 1481.52 Z\" fill=\"#000000\" fill-rule=\"evenodd\" fill-opacity=\"1\" /><path clip-path=\"url(#clip6200)\" d=\"M 0 0 M300.969 1515.36 L300.969 1511.1 Q302.729 1511.94 304.534 1512.38 Q306.34 1512.81 308.076 1512.81 Q312.705 1512.81 315.136 1509.71 Q317.59 1506.59 317.937 1500.25 Q316.594 1502.24 314.534 1503.3 Q312.474 1504.37 309.974 1504.37 Q304.789 1504.37 301.756 1501.24 Q298.747 1498.09 298.747 1492.65 Q298.747 1487.33 301.895 1484.11 Q305.043 1480.89 310.275 1480.89 Q316.27 1480.89 319.418 1485.5 Q322.59 1490.08 322.59 1498.83 Q322.59 1507 318.701 1511.89 Q314.835 1516.75 308.284 1516.75 Q306.525 1516.75 304.719 1516.4 Q302.914 1516.06 300.969 1515.36 M310.275 1500.71 Q313.423 1500.71 315.252 1498.56 Q317.103 1496.4 317.103 1492.65 Q317.103 1488.93 315.252 1486.77 Q313.423 1484.6 310.275 1484.6 Q307.127 1484.6 305.275 1486.77 Q303.446 1488.93 303.446 1492.65 Q303.446 1496.4 305.275 1498.56 Q307.127 1500.71 310.275 1500.71 Z\" fill=\"#000000\" fill-rule=\"evenodd\" fill-opacity=\"1\" /><path clip-path=\"url(#clip6200)\" d=\"M 0 0 M337.659 1484.6 Q334.048 1484.6 332.219 1488.16 Q330.414 1491.7 330.414 1498.83 Q330.414 1505.94 332.219 1509.5 Q334.048 1513.05 337.659 1513.05 Q341.293 1513.05 343.099 1509.5 Q344.927 1505.94 344.927 1498.83 Q344.927 1491.7 343.099 1488.16 Q341.293 1484.6 337.659 1484.6 M337.659 1480.89 Q343.469 1480.89 346.525 1485.5 Q349.603 1490.08 349.603 1498.83 Q349.603 1507.56 346.525 1512.17 Q343.469 1516.75 337.659 1516.75 Q331.849 1516.75 328.77 1512.17 Q325.715 1507.56 325.715 1498.83 Q325.715 1490.08 328.77 1485.5 Q331.849 1480.89 337.659 1480.89 Z\" fill=\"#000000\" fill-rule=\"evenodd\" fill-opacity=\"1\" /><path clip-path=\"url(#clip6200)\" d=\"M 0 0 M355.483 1512.14 L363.122 1512.14 L363.122 1485.78 L354.812 1487.44 L354.812 1483.19 L363.075 1481.52 L367.751 1481.52 L367.751 1512.14 L375.39 1512.14 L375.39 1516.08 L355.483 1516.08 L355.483 1512.14 Z\" fill=\"#000000\" fill-rule=\"evenodd\" fill-opacity=\"1\" /><path clip-path=\"url(#clip6200)\" d=\"M 0 0 M551.181 1512.14 L567.501 1512.14 L567.501 1516.08 L545.557 1516.08 L545.557 1512.14 Q548.219 1509.39 552.802 1504.76 Q557.408 1500.11 558.589 1498.76 Q560.834 1496.24 561.714 1494.5 Q562.617 1492.75 562.617 1491.06 Q562.617 1488.3 560.672 1486.57 Q558.751 1484.83 555.649 1484.83 Q553.45 1484.83 550.996 1485.59 Q548.566 1486.36 545.788 1487.91 L545.788 1483.19 Q548.612 1482.05 551.066 1481.47 Q553.519 1480.89 555.556 1480.89 Q560.927 1480.89 564.121 1483.58 Q567.316 1486.26 567.316 1490.75 Q567.316 1492.88 566.505 1494.81 Q565.718 1496.7 563.612 1499.3 Q563.033 1499.97 559.931 1503.19 Q556.83 1506.38 551.181 1512.14 Z\" fill=\"#000000\" fill-rule=\"evenodd\" fill-opacity=\"1\" /><path clip-path=\"url(#clip6200)\" d=\"M 0 0 M582.57 1484.6 Q578.959 1484.6 577.13 1488.16 Q575.325 1491.7 575.325 1498.83 Q575.325 1505.94 577.13 1509.5 Q578.959 1513.05 582.57 1513.05 Q586.204 1513.05 588.01 1509.5 Q589.839 1505.94 589.839 1498.83 Q589.839 1491.7 588.01 1488.16 Q586.204 1484.6 582.57 1484.6 M582.57 1480.89 Q588.38 1480.89 591.436 1485.5 Q594.515 1490.08 594.515 1498.83 Q594.515 1507.56 591.436 1512.17 Q588.38 1516.75 582.57 1516.75 Q576.76 1516.75 573.681 1512.17 Q570.626 1507.56 570.626 1498.83 Q570.626 1490.08 573.681 1485.5 Q576.76 1480.89 582.57 1480.89 Z\" fill=\"#000000\" fill-rule=\"evenodd\" fill-opacity=\"1\" /><path clip-path=\"url(#clip6200)\" d=\"M 0 0 M606.552 1481.52 L610.487 1481.52 L598.45 1520.48 L594.515 1520.48 L606.552 1481.52 Z\" fill=\"#000000\" fill-rule=\"evenodd\" fill-opacity=\"1\" /><path clip-path=\"url(#clip6200)\" d=\"M 0 0 M625.556 1499.67 Q622.223 1499.67 620.301 1501.45 Q618.403 1503.23 618.403 1506.36 Q618.403 1509.48 620.301 1511.26 Q622.223 1513.05 625.556 1513.05 Q628.889 1513.05 630.811 1511.26 Q632.732 1509.46 632.732 1506.36 Q632.732 1503.23 630.811 1501.45 Q628.913 1499.67 625.556 1499.67 M620.88 1497.68 Q617.871 1496.94 616.181 1494.88 Q614.514 1492.82 614.514 1489.85 Q614.514 1485.71 617.454 1483.3 Q620.417 1480.89 625.556 1480.89 Q630.718 1480.89 633.658 1483.3 Q636.598 1485.71 636.598 1489.85 Q636.598 1492.82 634.908 1494.88 Q633.241 1496.94 630.255 1497.68 Q633.635 1498.46 635.51 1500.75 Q637.408 1503.05 637.408 1506.36 Q637.408 1511.38 634.329 1514.06 Q631.274 1516.75 625.556 1516.75 Q619.839 1516.75 616.76 1514.06 Q613.704 1511.38 613.704 1506.36 Q613.704 1503.05 615.602 1500.75 Q617.501 1498.46 620.88 1497.68 M619.167 1490.29 Q619.167 1492.98 620.834 1494.48 Q622.524 1495.99 625.556 1495.99 Q628.565 1495.99 630.255 1494.48 Q631.968 1492.98 631.968 1490.29 Q631.968 1487.61 630.255 1486.1 Q628.565 1484.6 625.556 1484.6 Q622.524 1484.6 620.834 1486.1 Q619.167 1487.61 619.167 1490.29 Z\" fill=\"#000000\" fill-rule=\"evenodd\" fill-opacity=\"1\" /><path clip-path=\"url(#clip6200)\" d=\"M 0 0 M652.477 1484.6 Q648.866 1484.6 647.037 1488.16 Q645.232 1491.7 645.232 1498.83 Q645.232 1505.94 647.037 1509.5 Q648.866 1513.05 652.477 1513.05 Q656.111 1513.05 657.917 1509.5 Q659.746 1505.94 659.746 1498.83 Q659.746 1491.7 657.917 1488.16 Q656.111 1484.6 652.477 1484.6 M652.477 1480.89 Q658.287 1480.89 661.343 1485.5 Q664.422 1490.08 664.422 1498.83 Q664.422 1507.56 661.343 1512.17 Q658.287 1516.75 652.477 1516.75 Q646.667 1516.75 643.588 1512.17 Q640.533 1507.56 640.533 1498.83 Q640.533 1490.08 643.588 1485.5 Q646.667 1480.89 652.477 1480.89 Z\" fill=\"#000000\" fill-rule=\"evenodd\" fill-opacity=\"1\" /><path clip-path=\"url(#clip6200)\" d=\"M 0 0 M683.658 1497.44 Q687.014 1498.16 688.889 1500.43 Q690.787 1502.7 690.787 1506.03 Q690.787 1511.15 687.269 1513.95 Q683.75 1516.75 677.269 1516.75 Q675.093 1516.75 672.778 1516.31 Q670.486 1515.89 668.033 1515.04 L668.033 1510.52 Q669.977 1511.66 672.292 1512.24 Q674.607 1512.81 677.13 1512.81 Q681.528 1512.81 683.82 1511.08 Q686.134 1509.34 686.134 1506.03 Q686.134 1502.98 683.982 1501.26 Q681.852 1499.53 678.033 1499.53 L674.005 1499.53 L674.005 1495.69 L678.218 1495.69 Q681.667 1495.69 683.496 1494.32 Q685.324 1492.93 685.324 1490.34 Q685.324 1487.68 683.426 1486.26 Q681.551 1484.83 678.033 1484.83 Q676.111 1484.83 673.912 1485.25 Q671.713 1485.66 669.074 1486.54 L669.074 1482.38 Q671.736 1481.63 674.051 1481.26 Q676.389 1480.89 678.449 1480.89 Q683.773 1480.89 686.875 1483.32 Q689.977 1485.73 689.977 1489.85 Q689.977 1492.72 688.334 1494.71 Q686.69 1496.68 683.658 1497.44 Z\" fill=\"#000000\" fill-rule=\"evenodd\" fill-opacity=\"1\" /><path clip-path=\"url(#clip6200)\" d=\"M 0 0 M866.937 1512.14 L883.257 1512.14 L883.257 1516.08 L861.312 1516.08 L861.312 1512.14 Q863.974 1509.39 868.558 1504.76 Q873.164 1500.11 874.345 1498.76 Q876.59 1496.24 877.47 1494.5 Q878.372 1492.75 878.372 1491.06 Q878.372 1488.3 876.428 1486.57 Q874.507 1484.83 871.405 1484.83 Q869.206 1484.83 866.752 1485.59 Q864.322 1486.36 861.544 1487.91 L861.544 1483.19 Q864.368 1482.05 866.822 1481.47 Q869.275 1480.89 871.312 1480.89 Q876.683 1480.89 879.877 1483.58 Q883.071 1486.26 883.071 1490.75 Q883.071 1492.88 882.261 1494.81 Q881.474 1496.7 879.368 1499.3 Q878.789 1499.97 875.687 1503.19 Q872.585 1506.38 866.937 1512.14 Z\" fill=\"#000000\" fill-rule=\"evenodd\" fill-opacity=\"1\" /><path clip-path=\"url(#clip6200)\" d=\"M 0 0 M898.326 1484.6 Q894.715 1484.6 892.886 1488.16 Q891.081 1491.7 891.081 1498.83 Q891.081 1505.94 892.886 1509.5 Q894.715 1513.05 898.326 1513.05 Q901.96 1513.05 903.766 1509.5 Q905.595 1505.94 905.595 1498.83 Q905.595 1491.7 903.766 1488.16 Q901.96 1484.6 898.326 1484.6 M898.326 1480.89 Q904.136 1480.89 907.192 1485.5 Q910.27 1490.08 910.27 1498.83 Q910.27 1507.56 907.192 1512.17 Q904.136 1516.75 898.326 1516.75 Q892.516 1516.75 889.437 1512.17 Q886.382 1507.56 886.382 1498.83 Q886.382 1490.08 889.437 1485.5 Q892.516 1480.89 898.326 1480.89 Z\" fill=\"#000000\" fill-rule=\"evenodd\" fill-opacity=\"1\" /><path clip-path=\"url(#clip6200)\" d=\"M 0 0 M922.307 1481.52 L926.243 1481.52 L914.206 1520.48 L910.27 1520.48 L922.307 1481.52 Z\" fill=\"#000000\" fill-rule=\"evenodd\" fill-opacity=\"1\" /><path clip-path=\"url(#clip6200)\" d=\"M 0 0 M930.131 1481.52 L952.354 1481.52 L952.354 1483.51 L939.807 1516.08 L934.923 1516.08 L946.729 1485.45 L930.131 1485.45 L930.131 1481.52 Z\" fill=\"#000000\" fill-rule=\"evenodd\" fill-opacity=\"1\" /><path clip-path=\"url(#clip6200)\" d=\"M 0 0 M967.423 1484.6 Q963.812 1484.6 961.983 1488.16 Q960.178 1491.7 960.178 1498.83 Q960.178 1505.94 961.983 1509.5 Q963.812 1513.05 967.423 1513.05 Q971.057 1513.05 972.863 1509.5 Q974.691 1505.94 974.691 1498.83 Q974.691 1491.7 972.863 1488.16 Q971.057 1484.6 967.423 1484.6 M967.423 1480.89 Q973.233 1480.89 976.289 1485.5 Q979.367 1490.08 979.367 1498.83 Q979.367 1507.56 976.289 1512.17 Q973.233 1516.75 967.423 1516.75 Q961.613 1516.75 958.534 1512.17 Q955.478 1507.56 955.478 1498.83 Q955.478 1490.08 958.534 1485.5 Q961.613 1480.89 967.423 1480.89 Z\" fill=\"#000000\" fill-rule=\"evenodd\" fill-opacity=\"1\" /><path clip-path=\"url(#clip6200)\" d=\"M 0 0 M985.247 1512.14 L992.886 1512.14 L992.886 1485.78 L984.576 1487.44 L984.576 1483.19 L992.839 1481.52 L997.515 1481.52 L997.515 1512.14 L1005.15 1512.14 L1005.15 1516.08 L985.247 1516.08 L985.247 1512.14 Z\" fill=\"#000000\" fill-rule=\"evenodd\" fill-opacity=\"1\" /><path clip-path=\"url(#clip6200)\" d=\"M 0 0 M1181.47 1512.14 L1197.79 1512.14 L1197.79 1516.08 L1175.84 1516.08 L1175.84 1512.14 Q1178.5 1509.39 1183.09 1504.76 Q1187.69 1500.11 1188.87 1498.76 Q1191.12 1496.24 1192 1494.5 Q1192.9 1492.75 1192.9 1491.06 Q1192.9 1488.3 1190.96 1486.57 Q1189.04 1484.83 1185.93 1484.83 Q1183.73 1484.83 1181.28 1485.59 Q1178.85 1486.36 1176.07 1487.91 L1176.07 1483.19 Q1178.9 1482.05 1181.35 1481.47 Q1183.8 1480.89 1185.84 1480.89 Q1191.21 1480.89 1194.41 1483.58 Q1197.6 1486.26 1197.6 1490.75 Q1197.6 1492.88 1196.79 1494.81 Q1196 1496.7 1193.9 1499.3 Q1193.32 1499.97 1190.22 1503.19 Q1187.11 1506.38 1181.47 1512.14 Z\" fill=\"#000000\" fill-rule=\"evenodd\" fill-opacity=\"1\" /><path clip-path=\"url(#clip6200)\" d=\"M 0 0 M1212.86 1484.6 Q1209.24 1484.6 1207.42 1488.16 Q1205.61 1491.7 1205.61 1498.83 Q1205.61 1505.94 1207.42 1509.5 Q1209.24 1513.05 1212.86 1513.05 Q1216.49 1513.05 1218.29 1509.5 Q1220.12 1505.94 1220.12 1498.83 Q1220.12 1491.7 1218.29 1488.16 Q1216.49 1484.6 1212.86 1484.6 M1212.86 1480.89 Q1218.67 1480.89 1221.72 1485.5 Q1224.8 1490.08 1224.8 1498.83 Q1224.8 1507.56 1221.72 1512.17 Q1218.67 1516.75 1212.86 1516.75 Q1207.04 1516.75 1203.97 1512.17 Q1200.91 1507.56 1200.91 1498.83 Q1200.91 1490.08 1203.97 1485.5 Q1207.04 1480.89 1212.86 1480.89 Z\" fill=\"#000000\" fill-rule=\"evenodd\" fill-opacity=\"1\" /><path clip-path=\"url(#clip6200)\" d=\"M 0 0 M1236.84 1481.52 L1240.77 1481.52 L1228.73 1520.48 L1224.8 1520.48 L1236.84 1481.52 Z\" fill=\"#000000\" fill-rule=\"evenodd\" fill-opacity=\"1\" /><path clip-path=\"url(#clip6200)\" d=\"M 0 0 M1256.42 1496.94 Q1253.27 1496.94 1251.42 1499.09 Q1249.59 1501.24 1249.59 1504.99 Q1249.59 1508.72 1251.42 1510.89 Q1253.27 1513.05 1256.42 1513.05 Q1259.57 1513.05 1261.4 1510.89 Q1263.25 1508.72 1263.25 1504.99 Q1263.25 1501.24 1261.4 1499.09 Q1259.57 1496.94 1256.42 1496.94 M1265.7 1482.28 L1265.7 1486.54 Q1263.94 1485.71 1262.14 1485.27 Q1260.35 1484.83 1258.6 1484.83 Q1253.97 1484.83 1251.51 1487.95 Q1249.08 1491.08 1248.73 1497.4 Q1250.1 1495.38 1252.16 1494.32 Q1254.22 1493.23 1256.7 1493.23 Q1261.91 1493.23 1264.91 1496.4 Q1267.95 1499.55 1267.95 1504.99 Q1267.95 1510.31 1264.8 1513.53 Q1261.65 1516.75 1256.42 1516.75 Q1250.42 1516.75 1247.25 1512.17 Q1244.08 1507.56 1244.08 1498.83 Q1244.08 1490.64 1247.97 1485.78 Q1251.86 1480.89 1258.41 1480.89 Q1260.17 1480.89 1261.95 1481.24 Q1263.76 1481.59 1265.7 1482.28 Z\" fill=\"#000000\" fill-rule=\"evenodd\" fill-opacity=\"1\" /><path clip-path=\"url(#clip6200)\" d=\"M 0 0 M1283.02 1484.6 Q1279.41 1484.6 1277.58 1488.16 Q1275.77 1491.7 1275.77 1498.83 Q1275.77 1505.94 1277.58 1509.5 Q1279.41 1513.05 1283.02 1513.05 Q1286.65 1513.05 1288.46 1509.5 Q1290.29 1505.94 1290.29 1498.83 Q1290.29 1491.7 1288.46 1488.16 Q1286.65 1484.6 1283.02 1484.6 M1283.02 1480.89 Q1288.83 1480.89 1291.88 1485.5 Q1294.96 1490.08 1294.96 1498.83 Q1294.96 1507.56 1291.88 1512.17 Q1288.83 1516.75 1283.02 1516.75 Q1277.21 1516.75 1274.13 1512.17 Q1271.07 1507.56 1271.07 1498.83 Q1271.07 1490.08 1274.13 1485.5 Q1277.21 1480.89 1283.02 1480.89 Z\" fill=\"#000000\" fill-rule=\"evenodd\" fill-opacity=\"1\" /><path clip-path=\"url(#clip6200)\" d=\"M 0 0 M1300.84 1512.14 L1308.48 1512.14 L1308.48 1485.78 L1300.17 1487.44 L1300.17 1483.19 L1308.43 1481.52 L1313.11 1481.52 L1313.11 1512.14 L1320.75 1512.14 L1320.75 1516.08 L1300.84 1516.08 L1300.84 1512.14 Z\" fill=\"#000000\" fill-rule=\"evenodd\" fill-opacity=\"1\" /><path clip-path=\"url(#clip6200)\" d=\"M 0 0 M1497.11 1512.14 L1513.43 1512.14 L1513.43 1516.08 L1491.48 1516.08 L1491.48 1512.14 Q1494.14 1509.39 1498.73 1504.76 Q1503.33 1500.11 1504.51 1498.76 Q1506.76 1496.24 1507.64 1494.5 Q1508.54 1492.75 1508.54 1491.06 Q1508.54 1488.3 1506.6 1486.57 Q1504.68 1484.83 1501.57 1484.83 Q1499.37 1484.83 1496.92 1485.59 Q1494.49 1486.36 1491.71 1487.91 L1491.71 1483.19 Q1494.54 1482.05 1496.99 1481.47 Q1499.44 1480.89 1501.48 1480.89 Q1506.85 1480.89 1510.05 1483.58 Q1513.24 1486.26 1513.24 1490.75 Q1513.24 1492.88 1512.43 1494.81 Q1511.64 1496.7 1509.54 1499.3 Q1508.96 1499.97 1505.86 1503.19 Q1502.75 1506.38 1497.11 1512.14 Z\" fill=\"#000000\" fill-rule=\"evenodd\" fill-opacity=\"1\" /><path clip-path=\"url(#clip6200)\" d=\"M 0 0 M1528.5 1484.6 Q1524.88 1484.6 1523.06 1488.16 Q1521.25 1491.7 1521.25 1498.83 Q1521.25 1505.94 1523.06 1509.5 Q1524.88 1513.05 1528.5 1513.05 Q1532.13 1513.05 1533.93 1509.5 Q1535.76 1505.94 1535.76 1498.83 Q1535.76 1491.7 1533.93 1488.16 Q1532.13 1484.6 1528.5 1484.6 M1528.5 1480.89 Q1534.31 1480.89 1537.36 1485.5 Q1540.44 1490.08 1540.44 1498.83 Q1540.44 1507.56 1537.36 1512.17 Q1534.31 1516.75 1528.5 1516.75 Q1522.68 1516.75 1519.61 1512.17 Q1516.55 1507.56 1516.55 1498.83 Q1516.55 1490.08 1519.61 1485.5 Q1522.68 1480.89 1528.5 1480.89 Z\" fill=\"#000000\" fill-rule=\"evenodd\" fill-opacity=\"1\" /><path clip-path=\"url(#clip6200)\" d=\"M 0 0 M1552.48 1481.52 L1556.41 1481.52 L1544.37 1520.48 L1540.44 1520.48 L1552.48 1481.52 Z\" fill=\"#000000\" fill-rule=\"evenodd\" fill-opacity=\"1\" /><path clip-path=\"url(#clip6200)\" d=\"M 0 0 M1561.53 1481.52 L1579.88 1481.52 L1579.88 1485.45 L1565.81 1485.45 L1565.81 1493.93 Q1566.83 1493.58 1567.85 1493.42 Q1568.87 1493.23 1569.88 1493.23 Q1575.67 1493.23 1579.05 1496.4 Q1582.43 1499.57 1582.43 1504.99 Q1582.43 1510.57 1578.96 1513.67 Q1575.49 1516.75 1569.17 1516.75 Q1566.99 1516.75 1564.72 1516.38 Q1562.48 1516.01 1560.07 1515.27 L1560.07 1510.57 Q1562.15 1511.7 1564.37 1512.26 Q1566.6 1512.81 1569.07 1512.81 Q1573.08 1512.81 1575.42 1510.71 Q1577.75 1508.6 1577.75 1504.99 Q1577.75 1501.38 1575.42 1499.27 Q1573.08 1497.17 1569.07 1497.17 Q1567.2 1497.17 1565.32 1497.58 Q1563.47 1498 1561.53 1498.88 L1561.53 1481.52 Z\" fill=\"#000000\" fill-rule=\"evenodd\" fill-opacity=\"1\" /><path clip-path=\"url(#clip6200)\" d=\"M 0 0 M1597.5 1484.6 Q1593.89 1484.6 1592.06 1488.16 Q1590.25 1491.7 1590.25 1498.83 Q1590.25 1505.94 1592.06 1509.5 Q1593.89 1513.05 1597.5 1513.05 Q1601.13 1513.05 1602.94 1509.5 Q1604.77 1505.94 1604.77 1498.83 Q1604.77 1491.7 1602.94 1488.16 Q1601.13 1484.6 1597.5 1484.6 M1597.5 1480.89 Q1603.31 1480.89 1606.37 1485.5 Q1609.44 1490.08 1609.44 1498.83 Q1609.44 1507.56 1606.37 1512.17 Q1603.31 1516.75 1597.5 1516.75 Q1591.69 1516.75 1588.61 1512.17 Q1585.55 1507.56 1585.55 1498.83 Q1585.55 1490.08 1588.61 1485.5 Q1591.69 1480.89 1597.5 1480.89 Z\" fill=\"#000000\" fill-rule=\"evenodd\" fill-opacity=\"1\" /><path clip-path=\"url(#clip6200)\" d=\"M 0 0 M1615.32 1512.14 L1622.96 1512.14 L1622.96 1485.78 L1614.65 1487.44 L1614.65 1483.19 L1622.92 1481.52 L1627.59 1481.52 L1627.59 1512.14 L1635.23 1512.14 L1635.23 1516.08 L1615.32 1516.08 L1615.32 1512.14 Z\" fill=\"#000000\" fill-rule=\"evenodd\" fill-opacity=\"1\" /><path clip-path=\"url(#clip6200)\" d=\"M 0 0 M1811.43 1512.14 L1827.75 1512.14 L1827.75 1516.08 L1805.8 1516.08 L1805.8 1512.14 Q1808.46 1509.39 1813.05 1504.76 Q1817.65 1500.11 1818.83 1498.76 Q1821.08 1496.24 1821.96 1494.5 Q1822.86 1492.75 1822.86 1491.06 Q1822.86 1488.3 1820.92 1486.57 Q1819 1484.83 1815.89 1484.83 Q1813.7 1484.83 1811.24 1485.59 Q1808.81 1486.36 1806.03 1487.91 L1806.03 1483.19 Q1808.86 1482.05 1811.31 1481.47 Q1813.76 1480.89 1815.8 1480.89 Q1821.17 1480.89 1824.37 1483.58 Q1827.56 1486.26 1827.56 1490.75 Q1827.56 1492.88 1826.75 1494.81 Q1825.96 1496.7 1823.86 1499.3 Q1823.28 1499.97 1820.18 1503.19 Q1817.08 1506.38 1811.43 1512.14 Z\" fill=\"#000000\" fill-rule=\"evenodd\" fill-opacity=\"1\" /><path clip-path=\"url(#clip6200)\" d=\"M 0 0 M1842.82 1484.6 Q1839.2 1484.6 1837.38 1488.16 Q1835.57 1491.7 1835.57 1498.83 Q1835.57 1505.94 1837.38 1509.5 Q1839.2 1513.05 1842.82 1513.05 Q1846.45 1513.05 1848.26 1509.5 Q1850.08 1505.94 1850.08 1498.83 Q1850.08 1491.7 1848.26 1488.16 Q1846.45 1484.6 1842.82 1484.6 M1842.82 1480.89 Q1848.63 1480.89 1851.68 1485.5 Q1854.76 1490.08 1854.76 1498.83 Q1854.76 1507.56 1851.68 1512.17 Q1848.63 1516.75 1842.82 1516.75 Q1837.01 1516.75 1833.93 1512.17 Q1830.87 1507.56 1830.87 1498.83 Q1830.87 1490.08 1833.93 1485.5 Q1837.01 1480.89 1842.82 1480.89 Z\" fill=\"#000000\" fill-rule=\"evenodd\" fill-opacity=\"1\" /><path clip-path=\"url(#clip6200)\" d=\"M 0 0 M1866.8 1481.52 L1870.73 1481.52 L1858.7 1520.48 L1854.76 1520.48 L1866.8 1481.52 Z\" fill=\"#000000\" fill-rule=\"evenodd\" fill-opacity=\"1\" /><path clip-path=\"url(#clip6200)\" d=\"M 0 0 M1888.65 1485.59 L1876.84 1504.04 L1888.65 1504.04 L1888.65 1485.59 M1887.42 1481.52 L1893.3 1481.52 L1893.3 1504.04 L1898.23 1504.04 L1898.23 1507.93 L1893.3 1507.93 L1893.3 1516.08 L1888.65 1516.08 L1888.65 1507.93 L1873.05 1507.93 L1873.05 1503.42 L1887.42 1481.52 Z\" fill=\"#000000\" fill-rule=\"evenodd\" fill-opacity=\"1\" /><path clip-path=\"url(#clip6200)\" d=\"M 0 0 M1913.3 1484.6 Q1909.69 1484.6 1907.86 1488.16 Q1906.06 1491.7 1906.06 1498.83 Q1906.06 1505.94 1907.86 1509.5 Q1909.69 1513.05 1913.3 1513.05 Q1916.94 1513.05 1918.74 1509.5 Q1920.57 1505.94 1920.57 1498.83 Q1920.57 1491.7 1918.74 1488.16 Q1916.94 1484.6 1913.3 1484.6 M1913.3 1480.89 Q1919.11 1480.89 1922.17 1485.5 Q1925.25 1490.08 1925.25 1498.83 Q1925.25 1507.56 1922.17 1512.17 Q1919.11 1516.75 1913.3 1516.75 Q1907.49 1516.75 1904.41 1512.17 Q1901.36 1507.56 1901.36 1498.83 Q1901.36 1490.08 1904.41 1485.5 Q1907.49 1480.89 1913.3 1480.89 Z\" fill=\"#000000\" fill-rule=\"evenodd\" fill-opacity=\"1\" /><path clip-path=\"url(#clip6200)\" d=\"M 0 0 M1931.13 1512.14 L1938.76 1512.14 L1938.76 1485.78 L1930.45 1487.44 L1930.45 1483.19 L1938.72 1481.52 L1943.39 1481.52 L1943.39 1512.14 L1951.03 1512.14 L1951.03 1516.08 L1931.13 1516.08 L1931.13 1512.14 Z\" fill=\"#000000\" fill-rule=\"evenodd\" fill-opacity=\"1\" /><path clip-path=\"url(#clip6200)\" d=\"M 0 0 M2127.24 1512.14 L2143.56 1512.14 L2143.56 1516.08 L2121.62 1516.08 L2121.62 1512.14 Q2124.28 1509.39 2128.86 1504.76 Q2133.47 1500.11 2134.65 1498.76 Q2136.89 1496.24 2137.77 1494.5 Q2138.68 1492.75 2138.68 1491.06 Q2138.68 1488.3 2136.73 1486.57 Q2134.81 1484.83 2131.71 1484.83 Q2129.51 1484.83 2127.06 1485.59 Q2124.62 1486.36 2121.85 1487.91 L2121.85 1483.19 Q2124.67 1482.05 2127.12 1481.47 Q2129.58 1480.89 2131.62 1480.89 Q2136.99 1480.89 2140.18 1483.58 Q2143.37 1486.26 2143.37 1490.75 Q2143.37 1492.88 2142.56 1494.81 Q2141.78 1496.7 2139.67 1499.3 Q2139.09 1499.97 2135.99 1503.19 Q2132.89 1506.38 2127.24 1512.14 Z\" fill=\"#000000\" fill-rule=\"evenodd\" fill-opacity=\"1\" /><path clip-path=\"url(#clip6200)\" d=\"M 0 0 M2158.63 1484.6 Q2155.02 1484.6 2153.19 1488.16 Q2151.38 1491.7 2151.38 1498.83 Q2151.38 1505.94 2153.19 1509.5 Q2155.02 1513.05 2158.63 1513.05 Q2162.26 1513.05 2164.07 1509.5 Q2165.9 1505.94 2165.9 1498.83 Q2165.9 1491.7 2164.07 1488.16 Q2162.26 1484.6 2158.63 1484.6 M2158.63 1480.89 Q2164.44 1480.89 2167.5 1485.5 Q2170.57 1490.08 2170.57 1498.83 Q2170.57 1507.56 2167.5 1512.17 Q2164.44 1516.75 2158.63 1516.75 Q2152.82 1516.75 2149.74 1512.17 Q2146.69 1507.56 2146.69 1498.83 Q2146.69 1490.08 2149.74 1485.5 Q2152.82 1480.89 2158.63 1480.89 Z\" fill=\"#000000\" fill-rule=\"evenodd\" fill-opacity=\"1\" /><path clip-path=\"url(#clip6200)\" d=\"M 0 0 M2182.61 1481.52 L2186.55 1481.52 L2174.51 1520.48 L2170.57 1520.48 L2182.61 1481.52 Z\" fill=\"#000000\" fill-rule=\"evenodd\" fill-opacity=\"1\" /><path clip-path=\"url(#clip6200)\" d=\"M 0 0 M2205.78 1497.44 Q2209.14 1498.16 2211.01 1500.43 Q2212.91 1502.7 2212.91 1506.03 Q2212.91 1511.15 2209.39 1513.95 Q2205.87 1516.75 2199.39 1516.75 Q2197.22 1516.75 2194.9 1516.31 Q2192.61 1515.89 2190.16 1515.04 L2190.16 1510.52 Q2192.1 1511.66 2194.42 1512.24 Q2196.73 1512.81 2199.25 1512.81 Q2203.65 1512.81 2205.94 1511.08 Q2208.26 1509.34 2208.26 1506.03 Q2208.26 1502.98 2206.11 1501.26 Q2203.98 1499.53 2200.16 1499.53 L2196.13 1499.53 L2196.13 1495.69 L2200.34 1495.69 Q2203.79 1495.69 2205.62 1494.32 Q2207.45 1492.93 2207.45 1490.34 Q2207.45 1487.68 2205.55 1486.26 Q2203.68 1484.83 2200.16 1484.83 Q2198.24 1484.83 2196.04 1485.25 Q2193.84 1485.66 2191.2 1486.54 L2191.2 1482.38 Q2193.86 1481.63 2196.18 1481.26 Q2198.51 1480.89 2200.57 1480.89 Q2205.9 1480.89 2209 1483.32 Q2212.1 1485.73 2212.1 1489.85 Q2212.1 1492.72 2210.46 1494.71 Q2208.81 1496.68 2205.78 1497.44 Z\" fill=\"#000000\" fill-rule=\"evenodd\" fill-opacity=\"1\" /><path clip-path=\"url(#clip6200)\" d=\"M 0 0 M2227.98 1484.6 Q2224.37 1484.6 2222.54 1488.16 Q2220.74 1491.7 2220.74 1498.83 Q2220.74 1505.94 2222.54 1509.5 Q2224.37 1513.05 2227.98 1513.05 Q2231.62 1513.05 2233.42 1509.5 Q2235.25 1505.94 2235.25 1498.83 Q2235.25 1491.7 2233.42 1488.16 Q2231.62 1484.6 2227.98 1484.6 M2227.98 1480.89 Q2233.79 1480.89 2236.85 1485.5 Q2239.93 1490.08 2239.93 1498.83 Q2239.93 1507.56 2236.85 1512.17 Q2233.79 1516.75 2227.98 1516.75 Q2222.17 1516.75 2219.09 1512.17 Q2216.04 1507.56 2216.04 1498.83 Q2216.04 1490.08 2219.09 1485.5 Q2222.17 1480.89 2227.98 1480.89 Z\" fill=\"#000000\" fill-rule=\"evenodd\" fill-opacity=\"1\" /><path clip-path=\"url(#clip6200)\" d=\"M 0 0 M2249.02 1512.14 L2265.34 1512.14 L2265.34 1516.08 L2243.4 1516.08 L2243.4 1512.14 Q2246.06 1509.39 2250.64 1504.76 Q2255.25 1500.11 2256.43 1498.76 Q2258.68 1496.24 2259.55 1494.5 Q2260.46 1492.75 2260.46 1491.06 Q2260.46 1488.3 2258.51 1486.57 Q2256.59 1484.83 2253.49 1484.83 Q2251.29 1484.83 2248.84 1485.59 Q2246.41 1486.36 2243.63 1487.91 L2243.63 1483.19 Q2246.45 1482.05 2248.91 1481.47 Q2251.36 1480.89 2253.4 1480.89 Q2258.77 1480.89 2261.96 1483.58 Q2265.16 1486.26 2265.16 1490.75 Q2265.16 1492.88 2264.35 1494.81 Q2263.56 1496.7 2261.45 1499.3 Q2260.87 1499.97 2257.77 1503.19 Q2254.67 1506.38 2249.02 1512.14 Z\" fill=\"#000000\" fill-rule=\"evenodd\" fill-opacity=\"1\" /><path clip-path=\"url(#clip6200)\" d=\"M 0 0 M2442.3 1512.14 L2458.62 1512.14 L2458.62 1516.08 L2436.68 1516.08 L2436.68 1512.14 Q2439.34 1509.39 2443.92 1504.76 Q2448.53 1500.11 2449.71 1498.76 Q2451.95 1496.24 2452.83 1494.5 Q2453.74 1492.75 2453.74 1491.06 Q2453.74 1488.3 2451.79 1486.57 Q2449.87 1484.83 2446.77 1484.83 Q2444.57 1484.83 2442.12 1485.59 Q2439.69 1486.36 2436.91 1487.91 L2436.91 1483.19 Q2439.73 1482.05 2442.19 1481.47 Q2444.64 1480.89 2446.68 1480.89 Q2452.05 1480.89 2455.24 1483.58 Q2458.44 1486.26 2458.44 1490.75 Q2458.44 1492.88 2457.63 1494.81 Q2456.84 1496.7 2454.73 1499.3 Q2454.15 1499.97 2451.05 1503.19 Q2447.95 1506.38 2442.3 1512.14 Z\" fill=\"#000000\" fill-rule=\"evenodd\" fill-opacity=\"1\" /><path clip-path=\"url(#clip6200)\" d=\"M 0 0 M2473.69 1484.6 Q2470.08 1484.6 2468.25 1488.16 Q2466.45 1491.7 2466.45 1498.83 Q2466.45 1505.94 2468.25 1509.5 Q2470.08 1513.05 2473.69 1513.05 Q2477.33 1513.05 2479.13 1509.5 Q2480.96 1505.94 2480.96 1498.83 Q2480.96 1491.7 2479.13 1488.16 Q2477.33 1484.6 2473.69 1484.6 M2473.69 1480.89 Q2479.5 1480.89 2482.56 1485.5 Q2485.64 1490.08 2485.64 1498.83 Q2485.64 1507.56 2482.56 1512.17 Q2479.5 1516.75 2473.69 1516.75 Q2467.88 1516.75 2464.8 1512.17 Q2461.75 1507.56 2461.75 1498.83 Q2461.75 1490.08 2464.8 1485.5 Q2467.88 1480.89 2473.69 1480.89 Z\" fill=\"#000000\" fill-rule=\"evenodd\" fill-opacity=\"1\" /><path clip-path=\"url(#clip6200)\" d=\"M 0 0 M2497.67 1481.52 L2501.61 1481.52 L2489.57 1520.48 L2485.64 1520.48 L2497.67 1481.52 Z\" fill=\"#000000\" fill-rule=\"evenodd\" fill-opacity=\"1\" /><path clip-path=\"url(#clip6200)\" d=\"M 0 0 M2510.7 1512.14 L2527.02 1512.14 L2527.02 1516.08 L2505.08 1516.08 L2505.08 1512.14 Q2507.74 1509.39 2512.32 1504.76 Q2516.93 1500.11 2518.11 1498.76 Q2520.36 1496.24 2521.24 1494.5 Q2522.14 1492.75 2522.14 1491.06 Q2522.14 1488.3 2520.2 1486.57 Q2518.27 1484.83 2515.17 1484.83 Q2512.97 1484.83 2510.52 1485.59 Q2508.09 1486.36 2505.31 1487.91 L2505.31 1483.19 Q2508.14 1482.05 2510.59 1481.47 Q2513.04 1480.89 2515.08 1480.89 Q2520.45 1480.89 2523.64 1483.58 Q2526.84 1486.26 2526.84 1490.75 Q2526.84 1492.88 2526.03 1494.81 Q2525.24 1496.7 2523.13 1499.3 Q2522.56 1499.97 2519.45 1503.19 Q2516.35 1506.38 2510.7 1512.14 Z\" fill=\"#000000\" fill-rule=\"evenodd\" fill-opacity=\"1\" /><path clip-path=\"url(#clip6200)\" d=\"M 0 0 M2542.09 1484.6 Q2538.48 1484.6 2536.65 1488.16 Q2534.85 1491.7 2534.85 1498.83 Q2534.85 1505.94 2536.65 1509.5 Q2538.48 1513.05 2542.09 1513.05 Q2545.73 1513.05 2547.53 1509.5 Q2549.36 1505.94 2549.36 1498.83 Q2549.36 1491.7 2547.53 1488.16 Q2545.73 1484.6 2542.09 1484.6 M2542.09 1480.89 Q2547.9 1480.89 2550.96 1485.5 Q2554.04 1490.08 2554.04 1498.83 Q2554.04 1507.56 2550.96 1512.17 Q2547.9 1516.75 2542.09 1516.75 Q2536.28 1516.75 2533.2 1512.17 Q2530.15 1507.56 2530.15 1498.83 Q2530.15 1490.08 2533.2 1485.5 Q2536.28 1480.89 2542.09 1480.89 Z\" fill=\"#000000\" fill-rule=\"evenodd\" fill-opacity=\"1\" /><path clip-path=\"url(#clip6200)\" d=\"M 0 0 M2573.27 1497.44 Q2576.63 1498.16 2578.51 1500.43 Q2580.4 1502.7 2580.4 1506.03 Q2580.4 1511.15 2576.88 1513.95 Q2573.37 1516.75 2566.88 1516.75 Q2564.71 1516.75 2562.39 1516.31 Q2560.1 1515.89 2557.65 1515.04 L2557.65 1510.52 Q2559.59 1511.66 2561.91 1512.24 Q2564.22 1512.81 2566.75 1512.81 Q2571.14 1512.81 2573.44 1511.08 Q2575.75 1509.34 2575.75 1506.03 Q2575.75 1502.98 2573.6 1501.26 Q2571.47 1499.53 2567.65 1499.53 L2563.62 1499.53 L2563.62 1495.69 L2567.83 1495.69 Q2571.28 1495.69 2573.11 1494.32 Q2574.94 1492.93 2574.94 1490.34 Q2574.94 1487.68 2573.04 1486.26 Q2571.17 1484.83 2567.65 1484.83 Q2565.73 1484.83 2563.53 1485.25 Q2561.33 1485.66 2558.69 1486.54 L2558.69 1482.38 Q2561.35 1481.63 2563.67 1481.26 Q2566.01 1480.89 2568.07 1480.89 Q2573.39 1480.89 2576.49 1483.32 Q2579.59 1485.73 2579.59 1489.85 Q2579.59 1492.72 2577.95 1494.71 Q2576.31 1496.68 2573.27 1497.44 Z\" fill=\"#000000\" fill-rule=\"evenodd\" fill-opacity=\"1\" /><path clip-path=\"url(#clip6200)\" d=\"M 0 0 M2757.18 1512.14 L2773.5 1512.14 L2773.5 1516.08 L2751.55 1516.08 L2751.55 1512.14 Q2754.22 1509.39 2758.8 1504.76 Q2763.41 1500.11 2764.59 1498.76 Q2766.83 1496.24 2767.71 1494.5 Q2768.61 1492.75 2768.61 1491.06 Q2768.61 1488.3 2766.67 1486.57 Q2764.75 1484.83 2761.65 1484.83 Q2759.45 1484.83 2756.99 1485.59 Q2754.56 1486.36 2751.78 1487.91 L2751.78 1483.19 Q2754.61 1482.05 2757.06 1481.47 Q2759.52 1480.89 2761.55 1480.89 Q2766.92 1480.89 2770.12 1483.58 Q2773.31 1486.26 2773.31 1490.75 Q2773.31 1492.88 2772.5 1494.81 Q2771.72 1496.7 2769.61 1499.3 Q2769.03 1499.97 2765.93 1503.19 Q2762.83 1506.38 2757.18 1512.14 Z\" fill=\"#000000\" fill-rule=\"evenodd\" fill-opacity=\"1\" /><path clip-path=\"url(#clip6200)\" d=\"M 0 0 M2788.57 1484.6 Q2784.96 1484.6 2783.13 1488.16 Q2781.32 1491.7 2781.32 1498.83 Q2781.32 1505.94 2783.13 1509.5 Q2784.96 1513.05 2788.57 1513.05 Q2792.2 1513.05 2794.01 1509.5 Q2795.84 1505.94 2795.84 1498.83 Q2795.84 1491.7 2794.01 1488.16 Q2792.2 1484.6 2788.57 1484.6 M2788.57 1480.89 Q2794.38 1480.89 2797.43 1485.5 Q2800.51 1490.08 2800.51 1498.83 Q2800.51 1507.56 2797.43 1512.17 Q2794.38 1516.75 2788.57 1516.75 Q2782.76 1516.75 2779.68 1512.17 Q2776.62 1507.56 2776.62 1498.83 Q2776.62 1490.08 2779.68 1485.5 Q2782.76 1480.89 2788.57 1480.89 Z\" fill=\"#000000\" fill-rule=\"evenodd\" fill-opacity=\"1\" /><path clip-path=\"url(#clip6200)\" d=\"M 0 0 M2812.55 1481.52 L2816.48 1481.52 L2804.45 1520.48 L2800.51 1520.48 L2812.55 1481.52 Z\" fill=\"#000000\" fill-rule=\"evenodd\" fill-opacity=\"1\" /><path clip-path=\"url(#clip6200)\" d=\"M 0 0 M2822.36 1512.14 L2830 1512.14 L2830 1485.78 L2821.69 1487.44 L2821.69 1483.19 L2829.96 1481.52 L2834.63 1481.52 L2834.63 1512.14 L2842.27 1512.14 L2842.27 1516.08 L2822.36 1516.08 L2822.36 1512.14 Z\" fill=\"#000000\" fill-rule=\"evenodd\" fill-opacity=\"1\" /><path clip-path=\"url(#clip6200)\" d=\"M 0 0 M2857.34 1484.6 Q2853.73 1484.6 2851.9 1488.16 Q2850.09 1491.7 2850.09 1498.83 Q2850.09 1505.94 2851.9 1509.5 Q2853.73 1513.05 2857.34 1513.05 Q2860.97 1513.05 2862.78 1509.5 Q2864.61 1505.94 2864.61 1498.83 Q2864.61 1491.7 2862.78 1488.16 Q2860.97 1484.6 2857.34 1484.6 M2857.34 1480.89 Q2863.15 1480.89 2866.21 1485.5 Q2869.28 1490.08 2869.28 1498.83 Q2869.28 1507.56 2866.21 1512.17 Q2863.15 1516.75 2857.34 1516.75 Q2851.53 1516.75 2848.45 1512.17 Q2845.4 1507.56 2845.4 1498.83 Q2845.4 1490.08 2848.45 1485.5 Q2851.53 1480.89 2857.34 1480.89 Z\" fill=\"#000000\" fill-rule=\"evenodd\" fill-opacity=\"1\" /><path clip-path=\"url(#clip6200)\" d=\"M 0 0 M2888.52 1497.44 Q2891.88 1498.16 2893.75 1500.43 Q2895.65 1502.7 2895.65 1506.03 Q2895.65 1511.15 2892.13 1513.95 Q2888.61 1516.75 2882.13 1516.75 Q2879.96 1516.75 2877.64 1516.31 Q2875.35 1515.89 2872.9 1515.04 L2872.9 1510.52 Q2874.84 1511.66 2877.15 1512.24 Q2879.47 1512.81 2881.99 1512.81 Q2886.39 1512.81 2888.68 1511.08 Q2891 1509.34 2891 1506.03 Q2891 1502.98 2888.84 1501.26 Q2886.71 1499.53 2882.9 1499.53 L2878.87 1499.53 L2878.87 1495.69 L2883.08 1495.69 Q2886.53 1495.69 2888.36 1494.32 Q2890.19 1492.93 2890.19 1490.34 Q2890.19 1487.68 2888.29 1486.26 Q2886.41 1484.83 2882.9 1484.83 Q2880.97 1484.83 2878.77 1485.25 Q2876.58 1485.66 2873.94 1486.54 L2873.94 1482.38 Q2876.6 1481.63 2878.91 1481.26 Q2881.25 1480.89 2883.31 1480.89 Q2888.64 1480.89 2891.74 1483.32 Q2894.84 1485.73 2894.84 1489.85 Q2894.84 1492.72 2893.2 1494.71 Q2891.55 1496.68 2888.52 1497.44 Z\" fill=\"#000000\" fill-rule=\"evenodd\" fill-opacity=\"1\" /><path clip-path=\"url(#clip6200)\" d=\"M 0 0 M3055.83 1512.14 L3063.47 1512.14 L3063.47 1485.78 L3055.16 1487.44 L3055.16 1483.19 L3063.42 1481.52 L3068.1 1481.52 L3068.1 1512.14 L3075.73 1512.14 L3075.73 1516.08 L3055.83 1516.08 L3055.83 1512.14 Z\" fill=\"#000000\" fill-rule=\"evenodd\" fill-opacity=\"1\" /><path clip-path=\"url(#clip6200)\" d=\"M 0 0 M3080.94 1515.36 L3080.94 1511.1 Q3082.7 1511.94 3084.51 1512.38 Q3086.31 1512.81 3088.05 1512.81 Q3092.68 1512.81 3095.11 1509.71 Q3097.56 1506.59 3097.91 1500.25 Q3096.57 1502.24 3094.51 1503.3 Q3092.45 1504.37 3089.95 1504.37 Q3084.76 1504.37 3081.73 1501.24 Q3078.72 1498.09 3078.72 1492.65 Q3078.72 1487.33 3081.87 1484.11 Q3085.02 1480.89 3090.25 1480.89 Q3096.24 1480.89 3099.39 1485.5 Q3102.56 1490.08 3102.56 1498.83 Q3102.56 1507 3098.67 1511.89 Q3094.81 1516.75 3088.26 1516.75 Q3086.5 1516.75 3084.69 1516.4 Q3082.89 1516.06 3080.94 1515.36 M3090.25 1500.71 Q3093.4 1500.71 3095.23 1498.56 Q3097.08 1496.4 3097.08 1492.65 Q3097.08 1488.93 3095.23 1486.77 Q3093.4 1484.6 3090.25 1484.6 Q3087.1 1484.6 3085.25 1486.77 Q3083.42 1488.93 3083.42 1492.65 Q3083.42 1496.4 3085.25 1498.56 Q3087.1 1500.71 3090.25 1500.71 Z\" fill=\"#000000\" fill-rule=\"evenodd\" fill-opacity=\"1\" /><path clip-path=\"url(#clip6200)\" d=\"M 0 0 M3114.6 1481.52 L3118.54 1481.52 L3106.5 1520.48 L3102.56 1520.48 L3114.6 1481.52 Z\" fill=\"#000000\" fill-rule=\"evenodd\" fill-opacity=\"1\" /><path clip-path=\"url(#clip6200)\" d=\"M 0 0 M3124.42 1512.14 L3132.05 1512.14 L3132.05 1485.78 L3123.74 1487.44 L3123.74 1483.19 L3132.01 1481.52 L3136.68 1481.52 L3136.68 1512.14 L3144.32 1512.14 L3144.32 1516.08 L3124.42 1516.08 L3124.42 1512.14 Z\" fill=\"#000000\" fill-rule=\"evenodd\" fill-opacity=\"1\" /><path clip-path=\"url(#clip6200)\" d=\"M 0 0 M3153.42 1512.14 L3169.74 1512.14 L3169.74 1516.08 L3147.79 1516.08 L3147.79 1512.14 Q3150.46 1509.39 3155.04 1504.76 Q3159.65 1500.11 3160.83 1498.76 Q3163.07 1496.24 3163.95 1494.5 Q3164.85 1492.75 3164.85 1491.06 Q3164.85 1488.3 3162.91 1486.57 Q3160.99 1484.83 3157.89 1484.83 Q3155.69 1484.83 3153.23 1485.59 Q3150.8 1486.36 3148.03 1487.91 L3148.03 1483.19 Q3150.85 1482.05 3153.3 1481.47 Q3155.76 1480.89 3157.79 1480.89 Q3163.17 1480.89 3166.36 1483.58 Q3169.55 1486.26 3169.55 1490.75 Q3169.55 1492.88 3168.74 1494.81 Q3167.96 1496.7 3165.85 1499.3 Q3165.27 1499.97 3162.17 1503.19 Q3159.07 1506.38 3153.42 1512.14 Z\" fill=\"#000000\" fill-rule=\"evenodd\" fill-opacity=\"1\" /><path clip-path=\"url(#clip6200)\" d=\"M 0 0 M3184.81 1484.6 Q3181.2 1484.6 3179.37 1488.16 Q3177.56 1491.7 3177.56 1498.83 Q3177.56 1505.94 3179.37 1509.5 Q3181.2 1513.05 3184.81 1513.05 Q3188.44 1513.05 3190.25 1509.5 Q3192.08 1505.94 3192.08 1498.83 Q3192.08 1491.7 3190.25 1488.16 Q3188.44 1484.6 3184.81 1484.6 M3184.81 1480.89 Q3190.62 1480.89 3193.67 1485.5 Q3196.75 1490.08 3196.75 1498.83 Q3196.75 1507.56 3193.67 1512.17 Q3190.62 1516.75 3184.81 1516.75 Q3179 1516.75 3175.92 1512.17 Q3172.86 1507.56 3172.86 1498.83 Q3172.86 1490.08 3175.92 1485.5 Q3179 1480.89 3184.81 1480.89 Z\" fill=\"#000000\" fill-rule=\"evenodd\" fill-opacity=\"1\" /><path clip-path=\"url(#clip6200)\" d=\"M 0 0 M3205.85 1512.14 L3222.17 1512.14 L3222.17 1516.08 L3200.23 1516.08 L3200.23 1512.14 Q3202.89 1509.39 3207.47 1504.76 Q3212.08 1500.11 3213.26 1498.76 Q3215.5 1496.24 3216.38 1494.5 Q3217.29 1492.75 3217.29 1491.06 Q3217.29 1488.3 3215.34 1486.57 Q3213.42 1484.83 3210.32 1484.83 Q3208.12 1484.83 3205.66 1485.59 Q3203.23 1486.36 3200.46 1487.91 L3200.46 1483.19 Q3203.28 1482.05 3205.73 1481.47 Q3208.19 1480.89 3210.23 1480.89 Q3215.6 1480.89 3218.79 1483.58 Q3221.98 1486.26 3221.98 1490.75 Q3221.98 1492.88 3221.17 1494.81 Q3220.39 1496.7 3218.28 1499.3 Q3217.7 1499.97 3214.6 1503.19 Q3211.5 1506.38 3205.85 1512.14 Z\" fill=\"#000000\" fill-rule=\"evenodd\" fill-opacity=\"1\" /><path clip-path=\"url(#clip6200)\" d=\"M 0 0 M3370.52 1512.14 L3378.16 1512.14 L3378.16 1485.78 L3369.85 1487.44 L3369.85 1483.19 L3378.11 1481.52 L3382.79 1481.52 L3382.79 1512.14 L3390.43 1512.14 L3390.43 1516.08 L3370.52 1516.08 L3370.52 1512.14 Z\" fill=\"#000000\" fill-rule=\"evenodd\" fill-opacity=\"1\" /><path clip-path=\"url(#clip6200)\" d=\"M 0 0 M3395.63 1515.36 L3395.63 1511.1 Q3397.39 1511.94 3399.2 1512.38 Q3401 1512.81 3402.74 1512.81 Q3407.37 1512.81 3409.8 1509.71 Q3412.25 1506.59 3412.6 1500.25 Q3411.26 1502.24 3409.2 1503.3 Q3407.14 1504.37 3404.64 1504.37 Q3399.45 1504.37 3396.42 1501.24 Q3393.41 1498.09 3393.41 1492.65 Q3393.41 1487.33 3396.56 1484.11 Q3399.71 1480.89 3404.94 1480.89 Q3410.94 1480.89 3414.08 1485.5 Q3417.25 1490.08 3417.25 1498.83 Q3417.25 1507 3413.37 1511.89 Q3409.5 1516.75 3402.95 1516.75 Q3401.19 1516.75 3399.38 1516.4 Q3397.58 1516.06 3395.63 1515.36 M3404.94 1500.71 Q3408.09 1500.71 3409.92 1498.56 Q3411.77 1496.4 3411.77 1492.65 Q3411.77 1488.93 3409.92 1486.77 Q3408.09 1484.6 3404.94 1484.6 Q3401.79 1484.6 3399.94 1486.77 Q3398.11 1488.93 3398.11 1492.65 Q3398.11 1496.4 3399.94 1498.56 Q3401.79 1500.71 3404.94 1500.71 Z\" fill=\"#000000\" fill-rule=\"evenodd\" fill-opacity=\"1\" /><path clip-path=\"url(#clip6200)\" d=\"M 0 0 M3429.29 1481.52 L3433.23 1481.52 L3421.19 1520.48 L3417.25 1520.48 L3429.29 1481.52 Z\" fill=\"#000000\" fill-rule=\"evenodd\" fill-opacity=\"1\" /><path clip-path=\"url(#clip6200)\" d=\"M 0 0 M3439.11 1512.14 L3446.75 1512.14 L3446.75 1485.78 L3438.44 1487.44 L3438.44 1483.19 L3446.7 1481.52 L3451.37 1481.52 L3451.37 1512.14 L3459.01 1512.14 L3459.01 1516.08 L3439.11 1516.08 L3439.11 1512.14 Z\" fill=\"#000000\" fill-rule=\"evenodd\" fill-opacity=\"1\" /><path clip-path=\"url(#clip6200)\" d=\"M 0 0 M3464.89 1512.14 L3472.53 1512.14 L3472.53 1485.78 L3464.22 1487.44 L3464.22 1483.19 L3472.49 1481.52 L3477.16 1481.52 L3477.16 1512.14 L3484.8 1512.14 L3484.8 1516.08 L3464.89 1516.08 L3464.89 1512.14 Z\" fill=\"#000000\" fill-rule=\"evenodd\" fill-opacity=\"1\" /><path clip-path=\"url(#clip6200)\" d=\"M 0 0 M3499.87 1484.6 Q3496.26 1484.6 3494.43 1488.16 Q3492.62 1491.7 3492.62 1498.83 Q3492.62 1505.94 3494.43 1509.5 Q3496.26 1513.05 3499.87 1513.05 Q3503.5 1513.05 3505.31 1509.5 Q3507.14 1505.94 3507.14 1498.83 Q3507.14 1491.7 3505.31 1488.16 Q3503.5 1484.6 3499.87 1484.6 M3499.87 1480.89 Q3505.68 1480.89 3508.74 1485.5 Q3511.81 1490.08 3511.81 1498.83 Q3511.81 1507.56 3508.74 1512.17 Q3505.68 1516.75 3499.87 1516.75 Q3494.06 1516.75 3490.98 1512.17 Q3487.93 1507.56 3487.93 1498.83 Q3487.93 1490.08 3490.98 1485.5 Q3494.06 1480.89 3499.87 1480.89 Z\" fill=\"#000000\" fill-rule=\"evenodd\" fill-opacity=\"1\" /><path clip-path=\"url(#clip6200)\" d=\"M 0 0 M3517.69 1512.14 L3525.33 1512.14 L3525.33 1485.78 L3517.02 1487.44 L3517.02 1483.19 L3525.29 1481.52 L3529.96 1481.52 L3529.96 1512.14 L3537.6 1512.14 L3537.6 1516.08 L3517.69 1516.08 L3517.69 1512.14 Z\" fill=\"#000000\" fill-rule=\"evenodd\" fill-opacity=\"1\" /><path clip-path=\"url(#clip6200)\" d=\"M 0 0 M3684.97 1512.14 L3692.61 1512.14 L3692.61 1485.78 L3684.3 1487.44 L3684.3 1483.19 L3692.56 1481.52 L3697.24 1481.52 L3697.24 1512.14 L3704.87 1512.14 L3704.87 1516.08 L3684.97 1516.08 L3684.97 1512.14 Z\" fill=\"#000000\" fill-rule=\"evenodd\" fill-opacity=\"1\" /><path clip-path=\"url(#clip6200)\" d=\"M 0 0 M3710.08 1515.36 L3710.08 1511.1 Q3711.84 1511.94 3713.65 1512.38 Q3715.45 1512.81 3717.19 1512.81 Q3721.82 1512.81 3724.25 1509.71 Q3726.7 1506.59 3727.05 1500.25 Q3725.71 1502.24 3723.65 1503.3 Q3721.59 1504.37 3719.09 1504.37 Q3713.9 1504.37 3710.87 1501.24 Q3707.86 1498.09 3707.86 1492.65 Q3707.86 1487.33 3711.01 1484.11 Q3714.16 1480.89 3719.39 1480.89 Q3725.38 1480.89 3728.53 1485.5 Q3731.7 1490.08 3731.7 1498.83 Q3731.7 1507 3727.81 1511.89 Q3723.95 1516.75 3717.4 1516.75 Q3715.64 1516.75 3713.83 1516.4 Q3712.03 1516.06 3710.08 1515.36 M3719.39 1500.71 Q3722.54 1500.71 3724.36 1498.56 Q3726.22 1496.4 3726.22 1492.65 Q3726.22 1488.93 3724.36 1486.77 Q3722.54 1484.6 3719.39 1484.6 Q3716.24 1484.6 3714.39 1486.77 Q3712.56 1488.93 3712.56 1492.65 Q3712.56 1496.4 3714.39 1498.56 Q3716.24 1500.71 3719.39 1500.71 Z\" fill=\"#000000\" fill-rule=\"evenodd\" fill-opacity=\"1\" /><path clip-path=\"url(#clip6200)\" d=\"M 0 0 M3743.74 1481.52 L3747.67 1481.52 L3735.64 1520.48 L3731.7 1520.48 L3743.74 1481.52 Z\" fill=\"#000000\" fill-rule=\"evenodd\" fill-opacity=\"1\" /><path clip-path=\"url(#clip6200)\" d=\"M 0 0 M3753.55 1512.14 L3761.19 1512.14 L3761.19 1485.78 L3752.88 1487.44 L3752.88 1483.19 L3761.15 1481.52 L3765.82 1481.52 L3765.82 1512.14 L3773.46 1512.14 L3773.46 1516.08 L3753.55 1516.08 L3753.55 1512.14 Z\" fill=\"#000000\" fill-rule=\"evenodd\" fill-opacity=\"1\" /><path clip-path=\"url(#clip6200)\" d=\"M 0 0 M3788.53 1484.6 Q3784.92 1484.6 3783.09 1488.16 Q3781.29 1491.7 3781.29 1498.83 Q3781.29 1505.94 3783.09 1509.5 Q3784.92 1513.05 3788.53 1513.05 Q3792.17 1513.05 3793.97 1509.5 Q3795.8 1505.94 3795.8 1498.83 Q3795.8 1491.7 3793.97 1488.16 Q3792.17 1484.6 3788.53 1484.6 M3788.53 1480.89 Q3794.34 1480.89 3797.4 1485.5 Q3800.48 1490.08 3800.48 1498.83 Q3800.48 1507.56 3797.4 1512.17 Q3794.34 1516.75 3788.53 1516.75 Q3782.72 1516.75 3779.64 1512.17 Q3776.59 1507.56 3776.59 1498.83 Q3776.59 1490.08 3779.64 1485.5 Q3782.72 1480.89 3788.53 1480.89 Z\" fill=\"#000000\" fill-rule=\"evenodd\" fill-opacity=\"1\" /><path clip-path=\"url(#clip6200)\" d=\"M 0 0 M3815.54 1484.6 Q3811.93 1484.6 3810.1 1488.16 Q3808.3 1491.7 3808.3 1498.83 Q3808.3 1505.94 3810.1 1509.5 Q3811.93 1513.05 3815.54 1513.05 Q3819.18 1513.05 3820.98 1509.5 Q3822.81 1505.94 3822.81 1498.83 Q3822.81 1491.7 3820.98 1488.16 Q3819.18 1484.6 3815.54 1484.6 M3815.54 1480.89 Q3821.35 1480.89 3824.41 1485.5 Q3827.49 1490.08 3827.49 1498.83 Q3827.49 1507.56 3824.41 1512.17 Q3821.35 1516.75 3815.54 1516.75 Q3809.73 1516.75 3806.66 1512.17 Q3803.6 1507.56 3803.6 1498.83 Q3803.6 1490.08 3806.66 1485.5 Q3809.73 1480.89 3815.54 1480.89 Z\" fill=\"#000000\" fill-rule=\"evenodd\" fill-opacity=\"1\" /><path clip-path=\"url(#clip6200)\" d=\"M 0 0 M3833.37 1512.14 L3841.01 1512.14 L3841.01 1485.78 L3832.7 1487.44 L3832.7 1483.19 L3840.96 1481.52 L3845.64 1481.52 L3845.64 1512.14 L3853.28 1512.14 L3853.28 1516.08 L3833.37 1516.08 L3833.37 1512.14 Z\" fill=\"#000000\" fill-rule=\"evenodd\" fill-opacity=\"1\" /><path clip-path=\"url(#clip6200)\" d=\"M 0 0 M124.94 1356.16 L113.135 1374.61 L124.94 1374.61 L124.94 1356.16 M123.714 1352.09 L129.593 1352.09 L129.593 1374.61 L134.524 1374.61 L134.524 1378.5 L129.593 1378.5 L129.593 1386.65 L124.94 1386.65 L124.94 1378.5 L109.339 1378.5 L109.339 1373.99 L123.714 1352.09 Z\" fill=\"#000000\" fill-rule=\"evenodd\" fill-opacity=\"1\" /><path clip-path=\"url(#clip6200)\" d=\"M 0 0 M143.621 1382.71 L159.94 1382.71 L159.94 1386.65 L137.996 1386.65 L137.996 1382.71 Q140.658 1379.96 145.241 1375.33 Q149.848 1370.68 151.028 1369.33 Q153.274 1366.81 154.153 1365.07 Q155.056 1363.32 155.056 1361.63 Q155.056 1358.87 153.112 1357.13 Q151.19 1355.4 148.088 1355.4 Q145.889 1355.4 143.436 1356.16 Q141.005 1356.93 138.227 1358.48 L138.227 1353.76 Q141.051 1352.62 143.505 1352.04 Q145.959 1351.46 147.996 1351.46 Q153.366 1351.46 156.561 1354.15 Q159.755 1356.83 159.755 1361.32 Q159.755 1363.45 158.945 1365.38 Q158.158 1367.27 156.051 1369.87 Q155.473 1370.54 152.371 1373.76 Q149.269 1376.95 143.621 1382.71 Z\" fill=\"#000000\" fill-rule=\"evenodd\" fill-opacity=\"1\" /><path clip-path=\"url(#clip6200)\" d=\"M 0 0 M124.339 1081.39 L112.533 1099.84 L124.339 1099.84 L124.339 1081.39 M123.112 1077.31 L128.991 1077.31 L128.991 1099.84 L133.922 1099.84 L133.922 1103.73 L128.991 1103.73 L128.991 1111.87 L124.339 1111.87 L124.339 1103.73 L108.737 1103.73 L108.737 1099.21 L123.112 1077.31 Z\" fill=\"#000000\" fill-rule=\"evenodd\" fill-opacity=\"1\" /><path clip-path=\"url(#clip6200)\" d=\"M 0 0 M139.038 1077.31 L157.394 1077.31 L157.394 1081.25 L143.32 1081.25 L143.32 1089.72 Q144.338 1089.37 145.357 1089.21 Q146.375 1089.03 147.394 1089.03 Q153.181 1089.03 156.561 1092.2 Q159.94 1095.37 159.94 1100.79 Q159.94 1106.36 156.468 1109.47 Q152.996 1112.55 146.676 1112.55 Q144.501 1112.55 142.232 1112.17 Q139.987 1111.8 137.579 1111.06 L137.579 1106.36 Q139.663 1107.5 141.885 1108.05 Q144.107 1108.61 146.584 1108.61 Q150.588 1108.61 152.926 1106.5 Q155.264 1104.4 155.264 1100.79 Q155.264 1097.17 152.926 1095.07 Q150.588 1092.96 146.584 1092.96 Q144.709 1092.96 142.834 1093.38 Q140.982 1093.8 139.038 1094.67 L139.038 1077.31 Z\" fill=\"#000000\" fill-rule=\"evenodd\" fill-opacity=\"1\" /><path clip-path=\"url(#clip6200)\" d=\"M 0 0 M123.436 806.613 L111.63 825.062 L123.436 825.062 L123.436 806.613 M122.209 802.539 L128.089 802.539 L128.089 825.062 L133.019 825.062 L133.019 828.951 L128.089 828.951 L128.089 837.099 L123.436 837.099 L123.436 828.951 L107.834 828.951 L107.834 824.437 L122.209 802.539 Z\" fill=\"#000000\" fill-rule=\"evenodd\" fill-opacity=\"1\" /><path clip-path=\"url(#clip6200)\" d=\"M 0 0 M148.088 820.687 Q144.755 820.687 142.834 822.47 Q140.936 824.252 140.936 827.377 Q140.936 830.502 142.834 832.284 Q144.755 834.067 148.088 834.067 Q151.422 834.067 153.343 832.284 Q155.264 830.479 155.264 827.377 Q155.264 824.252 153.343 822.47 Q151.445 820.687 148.088 820.687 M143.413 818.696 Q140.403 817.956 138.713 815.896 Q137.047 813.835 137.047 810.872 Q137.047 806.729 139.987 804.322 Q142.95 801.914 148.088 801.914 Q153.25 801.914 156.19 804.322 Q159.13 806.729 159.13 810.872 Q159.13 813.835 157.44 815.896 Q155.774 817.956 152.787 818.696 Q156.167 819.483 158.042 821.775 Q159.94 824.067 159.94 827.377 Q159.94 832.4 156.862 835.085 Q153.806 837.77 148.088 837.77 Q142.371 837.77 139.292 835.085 Q136.237 832.4 136.237 827.377 Q136.237 824.067 138.135 821.775 Q140.033 819.483 143.413 818.696 M141.7 811.312 Q141.7 813.997 143.366 815.502 Q145.056 817.007 148.088 817.007 Q151.098 817.007 152.787 815.502 Q154.5 813.997 154.5 811.312 Q154.5 808.627 152.787 807.122 Q151.098 805.618 148.088 805.618 Q145.056 805.618 143.366 807.122 Q141.7 808.627 141.7 811.312 Z\" fill=\"#000000\" fill-rule=\"evenodd\" fill-opacity=\"1\" /><path clip-path=\"url(#clip6200)\" d=\"M 0 0 M113.251 527.764 L131.607 527.764 L131.607 531.7 L117.533 531.7 L117.533 540.172 Q118.552 539.824 119.57 539.662 Q120.589 539.477 121.607 539.477 Q127.394 539.477 130.774 542.649 Q134.153 545.82 134.153 551.236 Q134.153 556.815 130.681 559.917 Q127.209 562.996 120.89 562.996 Q118.714 562.996 116.445 562.625 Q114.2 562.255 111.792 561.514 L111.792 556.815 Q113.876 557.949 116.098 558.505 Q118.32 559.06 120.797 559.06 Q124.802 559.06 127.139 556.954 Q129.477 554.848 129.477 551.236 Q129.477 547.625 127.139 545.519 Q124.802 543.412 120.797 543.412 Q118.922 543.412 117.047 543.829 Q115.195 544.246 113.251 545.125 L113.251 527.764 Z\" fill=\"#000000\" fill-rule=\"evenodd\" fill-opacity=\"1\" /><path clip-path=\"url(#clip6200)\" d=\"M 0 0 M140.033 558.389 L147.672 558.389 L147.672 532.024 L139.362 533.69 L139.362 529.431 L147.625 527.764 L152.301 527.764 L152.301 558.389 L159.94 558.389 L159.94 562.324 L140.033 562.324 L140.033 558.389 Z\" fill=\"#000000\" fill-rule=\"evenodd\" fill-opacity=\"1\" /><path clip-path=\"url(#clip6200)\" d=\"M 0 0 M111.538 252.99 L129.894 252.99 L129.894 256.925 L115.82 256.925 L115.82 265.397 Q116.839 265.05 117.857 264.888 Q118.876 264.703 119.894 264.703 Q125.681 264.703 129.061 267.874 Q132.44 271.045 132.44 276.462 Q132.44 282.04 128.968 285.142 Q125.496 288.221 119.177 288.221 Q117.001 288.221 114.732 287.851 Q112.487 287.48 110.079 286.739 L110.079 282.04 Q112.163 283.175 114.385 283.73 Q116.607 284.286 119.084 284.286 Q123.089 284.286 125.427 282.179 Q127.764 280.073 127.764 276.462 Q127.764 272.851 125.427 270.744 Q123.089 268.638 119.084 268.638 Q117.209 268.638 115.334 269.054 Q113.482 269.471 111.538 270.351 L111.538 252.99 Z\" fill=\"#000000\" fill-rule=\"evenodd\" fill-opacity=\"1\" /><path clip-path=\"url(#clip6200)\" d=\"M 0 0 M150.357 257.064 L138.551 275.513 L150.357 275.513 L150.357 257.064 M149.13 252.99 L155.01 252.99 L155.01 275.513 L159.94 275.513 L159.94 279.402 L155.01 279.402 L155.01 287.55 L150.357 287.55 L150.357 279.402 L134.755 279.402 L134.755 274.888 L149.13 252.99 Z\" fill=\"#000000\" fill-rule=\"evenodd\" fill-opacity=\"1\" /><path clip-path=\"url(#clip6200)\" d=\"M 0 0 M1981.71 1557.3 L1981.71 1567.42 L1993.78 1567.42 L1993.78 1571.97 L1981.71 1571.97 L1981.71 1591.33 Q1981.71 1595.69 1982.89 1596.93 Q1984.1 1598.17 1987.76 1598.17 L1993.78 1598.17 L1993.78 1603.07 L1987.76 1603.07 Q1980.98 1603.07 1978.4 1600.56 Q1975.82 1598.01 1975.82 1591.33 L1975.82 1571.97 L1971.53 1571.97 L1971.53 1567.42 L1975.82 1567.42 L1975.82 1557.3 L1981.71 1557.3 Z\" fill=\"#000000\" fill-rule=\"evenodd\" fill-opacity=\"1\" /><path clip-path=\"url(#clip6200)\" d=\"M 0 0 M1999.92 1567.42 L2005.77 1567.42 L2005.77 1603.07 L1999.92 1603.07 L1999.92 1567.42 M1999.92 1553.55 L2005.77 1553.55 L2005.77 1560.96 L1999.92 1560.96 L1999.92 1553.55 Z\" fill=\"#000000\" fill-rule=\"evenodd\" fill-opacity=\"1\" /><path clip-path=\"url(#clip6200)\" d=\"M 0 0 M2039.67 1574.27 Q2041.87 1570.32 2044.92 1568.44 Q2047.98 1566.56 2052.12 1566.56 Q2057.69 1566.56 2060.71 1570.48 Q2063.73 1574.36 2063.73 1581.55 L2063.73 1603.07 L2057.85 1603.07 L2057.85 1581.75 Q2057.85 1576.62 2056.03 1574.14 Q2054.22 1571.66 2050.49 1571.66 Q2045.94 1571.66 2043.3 1574.68 Q2040.66 1577.7 2040.66 1582.92 L2040.66 1603.07 L2034.77 1603.07 L2034.77 1581.75 Q2034.77 1576.59 2032.96 1574.14 Q2031.14 1571.66 2027.35 1571.66 Q2022.87 1571.66 2020.22 1574.71 Q2017.58 1577.74 2017.58 1582.92 L2017.58 1603.07 L2011.69 1603.07 L2011.69 1567.42 L2017.58 1567.42 L2017.58 1572.96 Q2019.59 1569.68 2022.39 1568.12 Q2025.19 1566.56 2029.04 1566.56 Q2032.92 1566.56 2035.63 1568.54 Q2038.37 1570.51 2039.67 1574.27 Z\" fill=\"#000000\" fill-rule=\"evenodd\" fill-opacity=\"1\" /><path clip-path=\"url(#clip6200)\" d=\"M 0 0 M2100.37 1583.78 L2100.37 1586.65 L2073.44 1586.65 Q2073.82 1592.69 2077.07 1595.88 Q2080.35 1599.03 2086.17 1599.03 Q2089.55 1599.03 2092.7 1598.2 Q2095.88 1597.37 2099 1595.72 L2099 1601.26 Q2095.85 1602.59 2092.54 1603.29 Q2089.23 1603.99 2085.82 1603.99 Q2077.29 1603.99 2072.3 1599.03 Q2067.33 1594.06 2067.33 1585.6 Q2067.33 1576.84 2072.04 1571.72 Q2076.78 1566.56 2084.8 1566.56 Q2092 1566.56 2096.17 1571.21 Q2100.37 1575.83 2100.37 1583.78 M2094.51 1582.06 Q2094.45 1577.26 2091.81 1574.39 Q2089.2 1571.53 2084.87 1571.53 Q2079.97 1571.53 2077.01 1574.3 Q2074.08 1577.07 2073.63 1582.1 L2094.51 1582.06 Z\" fill=\"#000000\" fill-rule=\"evenodd\" fill-opacity=\"1\" /><path clip-path=\"url(#clip6200)\" d=\"M 0 0 M18.7301 887.527 L18.7301 881.67 L54.378 881.67 L54.378 887.527 L18.7301 887.527 M4.85284 887.527 L4.85284 881.67 L12.2689 881.67 L12.2689 887.527 L4.85284 887.527 Z\" fill=\"#000000\" fill-rule=\"evenodd\" fill-opacity=\"1\" /><path clip-path=\"url(#clip6200)\" d=\"M 0 0 M32.8619 845.895 L54.378 845.895 L54.378 851.751 L33.0529 851.751 Q27.9922 851.751 25.4777 853.725 Q22.9633 855.698 22.9633 859.645 Q22.9633 864.387 25.987 867.125 Q29.0107 869.862 34.2306 869.862 L54.378 869.862 L54.378 875.75 L18.7301 875.75 L18.7301 869.862 L24.2682 869.862 Q21.0536 867.761 19.4621 864.928 Q17.8707 862.064 17.8707 858.34 Q17.8707 852.197 21.6901 849.046 Q25.4777 845.895 32.8619 845.895 Z\" fill=\"#000000\" fill-rule=\"evenodd\" fill-opacity=\"1\" /><path clip-path=\"url(#clip6200)\" d=\"M 0 0 M24.1409 816.294 L4.85284 816.294 L4.85284 810.438 L54.378 810.438 L54.378 816.294 L49.0308 816.294 Q52.2137 818.14 53.7733 820.973 Q55.3011 823.774 55.3011 827.721 Q55.3011 834.182 50.1448 838.256 Q44.9886 842.298 36.5859 842.298 Q28.1832 842.298 23.0269 838.256 Q17.8707 834.182 17.8707 827.721 Q17.8707 823.774 19.4303 820.973 Q20.9581 818.14 24.1409 816.294 M36.5859 836.251 Q43.0471 836.251 46.7392 833.609 Q50.3995 830.935 50.3995 826.289 Q50.3995 821.642 46.7392 818.968 Q43.0471 816.294 36.5859 816.294 Q30.1247 816.294 26.4644 818.968 Q22.7723 821.642 22.7723 826.289 Q22.7723 830.935 26.4644 833.609 Q30.1247 836.251 36.5859 836.251 Z\" fill=\"#000000\" fill-rule=\"evenodd\" fill-opacity=\"1\" /><path clip-path=\"url(#clip6200)\" d=\"M 0 0 M18.7301 804.295 L18.7301 798.439 L54.378 798.439 L54.378 804.295 L18.7301 804.295 M4.85284 804.295 L4.85284 798.439 L12.2689 798.439 L12.2689 804.295 L4.85284 804.295 Z\" fill=\"#000000\" fill-rule=\"evenodd\" fill-opacity=\"1\" /><path clip-path=\"url(#clip6200)\" d=\"M 0 0 M20.0987 766.642 L25.5732 766.642 Q24.2046 769.124 23.5362 771.639 Q22.836 774.122 22.836 776.668 Q22.836 782.365 26.4644 785.516 Q30.061 788.667 36.5859 788.667 Q43.1107 788.667 46.7392 785.516 Q50.3358 782.365 50.3358 776.668 Q50.3358 774.122 49.6674 771.639 Q48.9672 769.124 47.5986 766.642 L53.0094 766.642 Q54.1552 769.093 54.7281 771.734 Q55.3011 774.344 55.3011 777.304 Q55.3011 785.357 50.2403 790.099 Q45.1796 794.842 36.5859 794.842 Q27.8649 794.842 22.8678 790.068 Q17.8707 785.262 17.8707 776.922 Q17.8707 774.217 18.4436 771.639 Q18.9847 769.061 20.0987 766.642 Z\" fill=\"#000000\" fill-rule=\"evenodd\" fill-opacity=\"1\" /><path clip-path=\"url(#clip6200)\" d=\"M 0 0 M36.4586 744.298 Q36.4586 751.396 38.0818 754.133 Q39.7051 756.87 43.62 756.87 Q46.7392 756.87 48.5852 754.833 Q50.3995 752.765 50.3995 749.232 Q50.3995 744.362 46.962 741.434 Q43.4927 738.474 37.7635 738.474 L36.4586 738.474 L36.4586 744.298 M34.0396 732.617 L54.378 732.617 L54.378 738.474 L48.9672 738.474 Q52.2137 740.479 53.7733 743.471 Q55.3011 746.463 55.3011 750.791 Q55.3011 756.266 52.2455 759.512 Q49.1582 762.727 44.0019 762.727 Q37.9863 762.727 34.9308 758.717 Q31.8753 754.674 31.8753 746.685 L31.8753 738.474 L31.3023 738.474 Q27.2601 738.474 25.064 741.147 Q22.836 743.789 22.836 748.595 Q22.836 751.651 23.568 754.547 Q24.3001 757.443 25.7642 760.117 L20.3533 760.117 Q19.112 756.902 18.5073 753.879 Q17.8707 750.855 17.8707 747.99 Q17.8707 740.256 21.8811 736.437 Q25.8915 732.617 34.0396 732.617 Z\" fill=\"#000000\" fill-rule=\"evenodd\" fill-opacity=\"1\" /><path clip-path=\"url(#clip6200)\" d=\"M 0 0 M8.6086 720.681 L18.7301 720.681 L18.7301 708.618 L23.2816 708.618 L23.2816 720.681 L42.6333 720.681 Q46.9938 720.681 48.2351 719.504 Q49.4764 718.294 49.4764 714.634 L49.4764 708.618 L54.378 708.618 L54.378 714.634 Q54.378 721.414 51.8636 723.992 Q49.3173 726.57 42.6333 726.57 L23.2816 726.57 L23.2816 730.867 L18.7301 730.867 L18.7301 726.57 L8.6086 726.57 L8.6086 720.681 Z\" fill=\"#000000\" fill-rule=\"evenodd\" fill-opacity=\"1\" /><path clip-path=\"url(#clip6200)\" d=\"M 0 0 M22.836 688.662 Q22.836 693.373 26.5281 696.11 Q30.1883 698.847 36.5859 698.847 Q42.9834 698.847 46.6755 696.142 Q50.3358 693.404 50.3358 688.662 Q50.3358 683.983 46.6437 681.246 Q42.9516 678.509 36.5859 678.509 Q30.252 678.509 26.5599 681.246 Q22.836 683.983 22.836 688.662 M17.8707 688.662 Q17.8707 681.023 22.836 676.663 Q27.8012 672.302 36.5859 672.302 Q45.3387 672.302 50.3358 676.663 Q55.3011 681.023 55.3011 688.662 Q55.3011 696.333 50.3358 700.693 Q45.3387 705.022 36.5859 705.022 Q27.8012 705.022 22.836 700.693 Q17.8707 696.333 17.8707 688.662 Z\" fill=\"#000000\" fill-rule=\"evenodd\" fill-opacity=\"1\" /><path clip-path=\"url(#clip6200)\" d=\"M 0 0 M24.2046 645.502 Q23.6317 646.489 23.377 647.667 Q23.0906 648.813 23.0906 650.213 Q23.0906 655.178 26.3371 657.852 Q29.5518 660.494 35.5992 660.494 L54.378 660.494 L54.378 666.382 L18.7301 666.382 L18.7301 660.494 L24.2682 660.494 Q21.0217 658.648 19.4621 655.688 Q17.8707 652.728 17.8707 648.494 Q17.8707 647.89 17.9662 647.158 Q18.0299 646.425 18.189 645.534 L24.2046 645.502 Z\" fill=\"#000000\" fill-rule=\"evenodd\" fill-opacity=\"1\" /><path clip-path=\"url(#clip6200)\" d=\"M 0 0 M19.7804 616.634 L25.3186 616.634 Q24.0454 619.117 23.4089 621.79 Q22.7723 624.464 22.7723 627.328 Q22.7723 631.689 24.1091 633.885 Q25.4459 636.049 28.1195 636.049 Q30.1565 636.049 31.3342 634.49 Q32.48 632.93 33.5303 628.22 L33.9759 626.214 Q35.3127 619.976 37.7635 617.366 Q40.1825 614.724 44.543 614.724 Q49.5083 614.724 52.4047 618.671 Q55.3011 622.586 55.3011 629.461 Q55.3011 632.325 54.7281 635.445 Q54.1871 638.532 53.0731 641.969 L47.0256 641.969 Q48.7126 638.723 49.5719 635.572 Q50.3995 632.421 50.3995 629.334 Q50.3995 625.196 48.999 622.968 Q47.5667 620.74 44.9886 620.74 Q42.6015 620.74 41.3283 622.363 Q40.0552 623.955 38.8775 629.397 L38.4001 631.434 Q37.2543 636.877 34.899 639.296 Q32.5118 641.715 28.3741 641.715 Q23.3452 641.715 20.608 638.15 Q17.8707 634.585 17.8707 628.029 Q17.8707 624.782 18.3481 621.918 Q18.8256 619.053 19.7804 616.634 Z\" fill=\"#000000\" fill-rule=\"evenodd\" fill-opacity=\"1\" /><polyline clip-path=\"url(#clip6202)\" style=\"stroke:#009af9; stroke-width:4; stroke-opacity:1; fill:none\" points=\"\n",
       "  303.11,87.0864 618.172,251.951 933.233,398.498 1248.29,1268.62 1563.36,1415.16 1878.42,719.068 2193.48,627.477 2508.54,554.204 2823.6,893.092 3138.66,810.66 \n",
       "  3453.72,792.342 3768.79,838.137 \n",
       "  \"/>\n",
       "<polyline clip-path=\"url(#clip6202)\" style=\"stroke:#e26f46; stroke-width:4; stroke-opacity:1; fill:none\" points=\"\n",
       "  303.11,380.18 618.172,380.18 933.233,380.18 1248.29,380.18 1563.36,380.18 1878.42,380.18 2193.48,380.18 2508.54,380.18 2823.6,380.18 3138.66,380.18 \n",
       "  3453.72,380.18 3768.79,380.18 \n",
       "  \"/>\n",
       "<path clip-path=\"url(#clip6200)\" d=\"\n",
       "M1363.33 1219.81 L2388.68 1219.81 L2388.68 1038.37 L1363.33 1038.37  Z\n",
       "  \" fill=\"#ffffff\" fill-rule=\"evenodd\" fill-opacity=\"1\"/>\n",
       "<polyline clip-path=\"url(#clip6200)\" style=\"stroke:#000000; stroke-width:4; stroke-opacity:1; fill:none\" points=\"\n",
       "  1363.33,1219.81 2388.68,1219.81 2388.68,1038.37 1363.33,1038.37 1363.33,1219.81 \n",
       "  \"/>\n",
       "<polyline clip-path=\"url(#clip6200)\" style=\"stroke:#009af9; stroke-width:4; stroke-opacity:1; fill:none\" points=\"\n",
       "  1402.53,1098.85 1637.73,1098.85 \n",
       "  \"/>\n",
       "<path clip-path=\"url(#clip6200)\" d=\"M 0 0 M1692.76 1086.17 L1686.42 1103.37 L1699.13 1103.37 L1692.76 1086.17 M1690.13 1081.57 L1695.43 1081.57 L1708.6 1116.13 L1703.74 1116.13 L1700.59 1107.26 L1685.01 1107.26 L1681.86 1116.13 L1676.93 1116.13 L1690.13 1081.57 Z\" fill=\"#000000\" fill-rule=\"evenodd\" fill-opacity=\"1\" /><path clip-path=\"url(#clip6200)\" d=\"M 0 0 M1730.89 1091.2 L1730.89 1095.18 Q1729.08 1094.18 1727.26 1093.7 Q1725.45 1093.19 1723.6 1093.19 Q1719.45 1093.19 1717.16 1095.83 Q1714.87 1098.44 1714.87 1103.19 Q1714.87 1107.93 1717.16 1110.57 Q1719.45 1113.19 1723.6 1113.19 Q1725.45 1113.19 1727.26 1112.7 Q1729.08 1112.19 1730.89 1111.2 L1730.89 1115.13 Q1729.11 1115.96 1727.19 1116.38 Q1725.29 1116.8 1723.13 1116.8 Q1717.28 1116.8 1713.83 1113.12 Q1710.38 1109.44 1710.38 1103.19 Q1710.38 1096.84 1713.85 1093.21 Q1717.35 1089.58 1723.41 1089.58 Q1725.38 1089.58 1727.26 1089.99 Q1729.13 1090.39 1730.89 1091.2 Z\" fill=\"#000000\" fill-rule=\"evenodd\" fill-opacity=\"1\" /><path clip-path=\"url(#clip6200)\" d=\"M 0 0 M1739.57 1082.84 L1739.57 1090.2 L1748.34 1090.2 L1748.34 1093.51 L1739.57 1093.51 L1739.57 1107.59 Q1739.57 1110.76 1740.43 1111.66 Q1741.31 1112.56 1743.97 1112.56 L1748.34 1112.56 L1748.34 1116.13 L1743.97 1116.13 Q1739.04 1116.13 1737.16 1114.3 Q1735.29 1112.45 1735.29 1107.59 L1735.29 1093.51 L1732.16 1093.51 L1732.16 1090.2 L1735.29 1090.2 L1735.29 1082.84 L1739.57 1082.84 Z\" fill=\"#000000\" fill-rule=\"evenodd\" fill-opacity=\"1\" /><path clip-path=\"url(#clip6200)\" d=\"M 0 0 M1752.37 1105.9 L1752.37 1090.2 L1756.63 1090.2 L1756.63 1105.73 Q1756.63 1109.41 1758.07 1111.27 Q1759.5 1113.09 1762.37 1113.09 Q1765.82 1113.09 1767.81 1110.9 Q1769.82 1108.7 1769.82 1104.9 L1769.82 1090.2 L1774.08 1090.2 L1774.08 1116.13 L1769.82 1116.13 L1769.82 1112.15 Q1768.27 1114.51 1766.21 1115.66 Q1764.18 1116.8 1761.47 1116.8 Q1757 1116.8 1754.69 1114.02 Q1752.37 1111.24 1752.37 1105.9 M1763.09 1089.58 L1763.09 1089.58 Z\" fill=\"#000000\" fill-rule=\"evenodd\" fill-opacity=\"1\" /><path clip-path=\"url(#clip6200)\" d=\"M 0 0 M1790.33 1103.09 Q1785.17 1103.09 1783.18 1104.27 Q1781.19 1105.46 1781.19 1108.3 Q1781.19 1110.57 1782.67 1111.91 Q1784.18 1113.23 1786.75 1113.23 Q1790.29 1113.23 1792.42 1110.73 Q1794.57 1108.21 1794.57 1104.04 L1794.57 1103.09 L1790.33 1103.09 M1798.83 1101.34 L1798.83 1116.13 L1794.57 1116.13 L1794.57 1112.19 Q1793.11 1114.55 1790.94 1115.69 Q1788.76 1116.8 1785.61 1116.8 Q1781.63 1116.8 1779.27 1114.58 Q1776.93 1112.33 1776.93 1108.58 Q1776.93 1104.21 1779.85 1101.98 Q1782.79 1099.76 1788.6 1099.76 L1794.57 1099.76 L1794.57 1099.34 Q1794.57 1096.4 1792.63 1094.81 Q1790.7 1093.19 1787.21 1093.19 Q1784.99 1093.19 1782.88 1093.72 Q1780.77 1094.25 1778.83 1095.32 L1778.83 1091.38 Q1781.17 1090.48 1783.37 1090.04 Q1785.56 1089.58 1787.65 1089.58 Q1793.27 1089.58 1796.05 1092.49 Q1798.83 1095.41 1798.83 1101.34 Z\" fill=\"#000000\" fill-rule=\"evenodd\" fill-opacity=\"1\" /><path clip-path=\"url(#clip6200)\" d=\"M 0 0 M1803.3 1080.11 L1807.56 1080.11 L1807.56 1116.13 L1803.3 1116.13 L1803.3 1080.11 Z\" fill=\"#000000\" fill-rule=\"evenodd\" fill-opacity=\"1\" /><path clip-path=\"url(#clip6200)\" d=\"M 0 0 M1813.11 1110.25 L1818 1110.25 L1818 1116.13 L1813.11 1116.13 L1813.11 1110.25 M1813.11 1091.61 L1818 1091.61 L1818 1097.49 L1813.11 1097.49 L1813.11 1091.61 Z\" fill=\"#000000\" fill-rule=\"evenodd\" fill-opacity=\"1\" /><path clip-path=\"url(#clip6200)\" d=\"M 0 0 M1837.72 1081.57 L1842.39 1081.57 L1842.39 1116.13 L1837.72 1116.13 L1837.72 1081.57 Z\" fill=\"#000000\" fill-rule=\"evenodd\" fill-opacity=\"1\" /><path clip-path=\"url(#clip6200)\" d=\"M 0 0 M1867.76 1082.7 L1867.76 1087.26 Q1865.1 1085.99 1862.74 1085.36 Q1860.38 1084.74 1858.18 1084.74 Q1854.36 1084.74 1852.28 1086.22 Q1850.22 1087.7 1850.22 1090.43 Q1850.22 1092.72 1851.58 1093.9 Q1852.97 1095.06 1856.81 1095.78 L1859.64 1096.36 Q1864.87 1097.35 1867.35 1099.88 Q1869.85 1102.38 1869.85 1106.59 Q1869.85 1111.61 1866.47 1114.21 Q1863.11 1116.8 1856.61 1116.8 Q1854.15 1116.8 1851.37 1116.24 Q1848.62 1115.69 1845.66 1114.6 L1845.66 1109.78 Q1848.5 1111.38 1851.24 1112.19 Q1853.97 1113 1856.61 1113 Q1860.61 1113 1862.79 1111.43 Q1864.96 1109.85 1864.96 1106.94 Q1864.96 1104.39 1863.39 1102.96 Q1861.84 1101.52 1858.27 1100.8 L1855.43 1100.25 Q1850.19 1099.21 1847.86 1096.98 Q1845.52 1094.76 1845.52 1090.8 Q1845.52 1086.22 1848.74 1083.58 Q1851.98 1080.94 1857.65 1080.94 Q1860.08 1080.94 1862.6 1081.38 Q1865.12 1081.82 1867.76 1082.7 Z\" fill=\"#000000\" fill-rule=\"evenodd\" fill-opacity=\"1\" /><path clip-path=\"url(#clip6200)\" d=\"M 0 0 M1874.5 1081.57 L1881.47 1081.57 L1890.29 1105.09 L1899.15 1081.57 L1906.12 1081.57 L1906.12 1116.13 L1901.56 1116.13 L1901.56 1085.78 L1892.65 1109.48 L1887.95 1109.48 L1879.04 1085.78 L1879.04 1116.13 L1874.5 1116.13 L1874.5 1081.57 Z\" fill=\"#000000\" fill-rule=\"evenodd\" fill-opacity=\"1\" /><path clip-path=\"url(#clip6200)\" d=\"M 0 0 M1925.84 1081.57 L1932.81 1081.57 L1941.63 1105.09 L1950.49 1081.57 L1957.46 1081.57 L1957.46 1116.13 L1952.9 1116.13 L1952.9 1085.78 L1943.99 1109.48 L1939.29 1109.48 L1930.38 1085.78 L1930.38 1116.13 L1925.84 1116.13 L1925.84 1081.57 Z\" fill=\"#000000\" fill-rule=\"evenodd\" fill-opacity=\"1\" /><path clip-path=\"url(#clip6200)\" d=\"M 0 0 M1973.71 1103.09 Q1968.55 1103.09 1966.56 1104.27 Q1964.57 1105.46 1964.57 1108.3 Q1964.57 1110.57 1966.05 1111.91 Q1967.55 1113.23 1970.12 1113.23 Q1973.67 1113.23 1975.8 1110.73 Q1977.95 1108.21 1977.95 1104.04 L1977.95 1103.09 L1973.71 1103.09 M1982.21 1101.34 L1982.21 1116.13 L1977.95 1116.13 L1977.95 1112.19 Q1976.49 1114.55 1974.31 1115.69 Q1972.14 1116.8 1968.99 1116.8 Q1965.01 1116.8 1962.65 1114.58 Q1960.31 1112.33 1960.31 1108.58 Q1960.31 1104.21 1963.23 1101.98 Q1966.17 1099.76 1971.98 1099.76 L1977.95 1099.76 L1977.95 1099.34 Q1977.95 1096.4 1976 1094.81 Q1974.08 1093.19 1970.59 1093.19 Q1968.36 1093.19 1966.26 1093.72 Q1964.15 1094.25 1962.21 1095.32 L1962.21 1091.38 Q1964.55 1090.48 1966.74 1090.04 Q1968.94 1089.58 1971.03 1089.58 Q1976.65 1089.58 1979.43 1092.49 Q1982.21 1095.41 1982.21 1101.34 Z\" fill=\"#000000\" fill-rule=\"evenodd\" fill-opacity=\"1\" /><path clip-path=\"url(#clip6200)\" d=\"M 0 0 M2008.23 1100.48 L2008.23 1116.13 L2003.97 1116.13 L2003.97 1100.62 Q2003.97 1096.94 2002.53 1095.11 Q2001.1 1093.28 1998.23 1093.28 Q1994.78 1093.28 1992.79 1095.48 Q1990.8 1097.68 1990.8 1101.47 L1990.8 1116.13 L1986.51 1116.13 L1986.51 1090.2 L1990.8 1090.2 L1990.8 1094.23 Q1992.32 1091.89 1994.38 1090.73 Q1996.47 1089.58 1999.17 1089.58 Q2003.64 1089.58 2005.93 1092.35 Q2008.23 1095.11 2008.23 1100.48 Z\" fill=\"#000000\" fill-rule=\"evenodd\" fill-opacity=\"1\" /><path clip-path=\"url(#clip6200)\" d=\"M 0 0 M2012.25 1105.9 L2012.25 1090.2 L2016.51 1090.2 L2016.51 1105.73 Q2016.51 1109.41 2017.95 1111.27 Q2019.38 1113.09 2022.25 1113.09 Q2025.7 1113.09 2027.69 1110.9 Q2029.71 1108.7 2029.71 1104.9 L2029.71 1090.2 L2033.97 1090.2 L2033.97 1116.13 L2029.71 1116.13 L2029.71 1112.15 Q2028.16 1114.51 2026.1 1115.66 Q2024.06 1116.8 2021.35 1116.8 Q2016.88 1116.8 2014.57 1114.02 Q2012.25 1111.24 2012.25 1105.9 M2022.97 1089.58 L2022.97 1089.58 Z\" fill=\"#000000\" fill-rule=\"evenodd\" fill-opacity=\"1\" /><path clip-path=\"url(#clip6200)\" d=\"M 0 0 M2051.56 1080.11 L2051.56 1083.65 L2047.48 1083.65 Q2045.19 1083.65 2044.29 1084.58 Q2043.41 1085.5 2043.41 1087.91 L2043.41 1090.2 L2050.42 1090.2 L2050.42 1093.51 L2043.41 1093.51 L2043.41 1116.13 L2039.13 1116.13 L2039.13 1093.51 L2035.05 1093.51 L2035.05 1090.2 L2039.13 1090.2 L2039.13 1088.4 Q2039.13 1084.07 2041.14 1082.1 Q2043.16 1080.11 2047.53 1080.11 L2051.56 1080.11 Z\" fill=\"#000000\" fill-rule=\"evenodd\" fill-opacity=\"1\" /><path clip-path=\"url(#clip6200)\" d=\"M 0 0 M2067.81 1103.09 Q2062.65 1103.09 2060.66 1104.27 Q2058.67 1105.46 2058.67 1108.3 Q2058.67 1110.57 2060.15 1111.91 Q2061.65 1113.23 2064.22 1113.23 Q2067.76 1113.23 2069.89 1110.73 Q2072.04 1108.21 2072.04 1104.04 L2072.04 1103.09 L2067.81 1103.09 M2076.3 1101.34 L2076.3 1116.13 L2072.04 1116.13 L2072.04 1112.19 Q2070.59 1114.55 2068.41 1115.69 Q2066.23 1116.8 2063.09 1116.8 Q2059.11 1116.8 2056.74 1114.58 Q2054.41 1112.33 2054.41 1108.58 Q2054.41 1104.21 2057.32 1101.98 Q2060.26 1099.76 2066.07 1099.76 L2072.04 1099.76 L2072.04 1099.34 Q2072.04 1096.4 2070.1 1094.81 Q2068.18 1093.19 2064.68 1093.19 Q2062.46 1093.19 2060.36 1093.72 Q2058.25 1094.25 2056.3 1095.32 L2056.3 1091.38 Q2058.64 1090.48 2060.84 1090.04 Q2063.04 1089.58 2065.12 1089.58 Q2070.75 1089.58 2073.53 1092.49 Q2076.3 1095.41 2076.3 1101.34 Z\" fill=\"#000000\" fill-rule=\"evenodd\" fill-opacity=\"1\" /><path clip-path=\"url(#clip6200)\" d=\"M 0 0 M2099.43 1091.2 L2099.43 1095.18 Q2097.62 1094.18 2095.79 1093.7 Q2093.99 1093.19 2092.14 1093.19 Q2087.99 1093.19 2085.7 1095.83 Q2083.41 1098.44 2083.41 1103.19 Q2083.41 1107.93 2085.7 1110.57 Q2087.99 1113.19 2092.14 1113.19 Q2093.99 1113.19 2095.79 1112.7 Q2097.62 1112.19 2099.43 1111.2 L2099.43 1115.13 Q2097.65 1115.96 2095.73 1116.38 Q2093.83 1116.8 2091.67 1116.8 Q2085.82 1116.8 2082.37 1113.12 Q2078.92 1109.44 2078.92 1103.19 Q2078.92 1096.84 2082.39 1093.21 Q2085.89 1089.58 2091.95 1089.58 Q2093.92 1089.58 2095.79 1089.99 Q2097.67 1090.39 2099.43 1091.2 Z\" fill=\"#000000\" fill-rule=\"evenodd\" fill-opacity=\"1\" /><path clip-path=\"url(#clip6200)\" d=\"M 0 0 M2108.11 1082.84 L2108.11 1090.2 L2116.88 1090.2 L2116.88 1093.51 L2108.11 1093.51 L2108.11 1107.59 Q2108.11 1110.76 2108.97 1111.66 Q2109.85 1112.56 2112.51 1112.56 L2116.88 1112.56 L2116.88 1116.13 L2112.51 1116.13 Q2107.58 1116.13 2105.7 1114.3 Q2103.83 1112.45 2103.83 1107.59 L2103.83 1093.51 L2100.7 1093.51 L2100.7 1090.2 L2103.83 1090.2 L2103.83 1082.84 L2108.11 1082.84 Z\" fill=\"#000000\" fill-rule=\"evenodd\" fill-opacity=\"1\" /><path clip-path=\"url(#clip6200)\" d=\"M 0 0 M2120.91 1105.9 L2120.91 1090.2 L2125.17 1090.2 L2125.17 1105.73 Q2125.17 1109.41 2126.6 1111.27 Q2128.04 1113.09 2130.91 1113.09 Q2134.36 1113.09 2136.35 1110.9 Q2138.36 1108.7 2138.36 1104.9 L2138.36 1090.2 L2142.62 1090.2 L2142.62 1116.13 L2138.36 1116.13 L2138.36 1112.15 Q2136.81 1114.51 2134.75 1115.66 Q2132.72 1116.8 2130.01 1116.8 Q2125.54 1116.8 2123.23 1114.02 Q2120.91 1111.24 2120.91 1105.9 M2131.63 1089.58 L2131.63 1089.58 Z\" fill=\"#000000\" fill-rule=\"evenodd\" fill-opacity=\"1\" /><path clip-path=\"url(#clip6200)\" d=\"M 0 0 M2162.11 1094.18 Q2161.4 1093.77 2160.54 1093.58 Q2159.71 1093.37 2158.69 1093.37 Q2155.08 1093.37 2153.13 1095.73 Q2151.21 1098.07 2151.21 1102.47 L2151.21 1116.13 L2146.93 1116.13 L2146.93 1090.2 L2151.21 1090.2 L2151.21 1094.23 Q2152.55 1091.87 2154.71 1090.73 Q2156.86 1089.58 2159.94 1089.58 Q2160.38 1089.58 2160.91 1089.65 Q2161.44 1089.69 2162.09 1089.81 L2162.11 1094.18 Z\" fill=\"#000000\" fill-rule=\"evenodd\" fill-opacity=\"1\" /><path clip-path=\"url(#clip6200)\" d=\"M 0 0 M2166.58 1090.2 L2170.84 1090.2 L2170.84 1116.13 L2166.58 1116.13 L2166.58 1090.2 M2166.58 1080.11 L2170.84 1080.11 L2170.84 1085.5 L2166.58 1085.5 L2166.58 1080.11 Z\" fill=\"#000000\" fill-rule=\"evenodd\" fill-opacity=\"1\" /><path clip-path=\"url(#clip6200)\" d=\"M 0 0 M2196.86 1100.48 L2196.86 1116.13 L2192.6 1116.13 L2192.6 1100.62 Q2192.6 1096.94 2191.16 1095.11 Q2189.73 1093.28 2186.86 1093.28 Q2183.41 1093.28 2181.42 1095.48 Q2179.43 1097.68 2179.43 1101.47 L2179.43 1116.13 L2175.15 1116.13 L2175.15 1090.2 L2179.43 1090.2 L2179.43 1094.23 Q2180.96 1091.89 2183.02 1090.73 Q2185.1 1089.58 2187.81 1089.58 Q2192.28 1089.58 2194.57 1092.35 Q2196.86 1095.11 2196.86 1100.48 Z\" fill=\"#000000\" fill-rule=\"evenodd\" fill-opacity=\"1\" /><path clip-path=\"url(#clip6200)\" d=\"M 0 0 M2218.39 1102.86 Q2218.39 1098.23 2216.47 1095.69 Q2214.57 1093.14 2211.12 1093.14 Q2207.69 1093.14 2205.77 1095.69 Q2203.87 1098.23 2203.87 1102.86 Q2203.87 1107.47 2205.77 1110.02 Q2207.69 1112.56 2211.12 1112.56 Q2214.57 1112.56 2216.47 1110.02 Q2218.39 1107.47 2218.39 1102.86 M2222.65 1112.91 Q2222.65 1119.53 2219.71 1122.75 Q2216.77 1125.99 2210.7 1125.99 Q2208.46 1125.99 2206.47 1125.64 Q2204.47 1125.32 2202.6 1124.62 L2202.6 1120.48 Q2204.47 1121.5 2206.3 1121.98 Q2208.13 1122.47 2210.03 1122.47 Q2214.22 1122.47 2216.3 1120.27 Q2218.39 1118.09 2218.39 1113.67 L2218.39 1111.57 Q2217.07 1113.86 2215.01 1114.99 Q2212.95 1116.13 2210.08 1116.13 Q2205.31 1116.13 2202.39 1112.49 Q2199.47 1108.86 2199.47 1102.86 Q2199.47 1096.84 2202.39 1093.21 Q2205.31 1089.58 2210.08 1089.58 Q2212.95 1089.58 2215.01 1090.71 Q2217.07 1091.84 2218.39 1094.14 L2218.39 1090.2 L2222.65 1090.2 L2222.65 1112.91 Z\" fill=\"#000000\" fill-rule=\"evenodd\" fill-opacity=\"1\" /><path clip-path=\"url(#clip6200)\" d=\"M 0 0 M2247.04 1085.41 L2247.04 1098.4 L2252.92 1098.4 Q2256.19 1098.4 2257.97 1096.71 Q2259.75 1095.02 2259.75 1091.89 Q2259.75 1088.79 2257.97 1087.1 Q2256.19 1085.41 2252.92 1085.41 L2247.04 1085.41 M2242.37 1081.57 L2252.92 1081.57 Q2258.73 1081.57 2261.7 1084.21 Q2264.68 1086.82 2264.68 1091.89 Q2264.68 1097.01 2261.7 1099.62 Q2258.73 1102.24 2252.92 1102.24 L2247.04 1102.24 L2247.04 1116.13 L2242.37 1116.13 L2242.37 1081.57 Z\" fill=\"#000000\" fill-rule=\"evenodd\" fill-opacity=\"1\" /><path clip-path=\"url(#clip6200)\" d=\"M 0 0 M2269.34 1081.57 L2276.3 1081.57 L2285.12 1105.09 L2293.99 1081.57 L2300.96 1081.57 L2300.96 1116.13 L2296.4 1116.13 L2296.4 1085.78 L2287.48 1109.48 L2282.78 1109.48 L2273.87 1085.78 L2273.87 1116.13 L2269.34 1116.13 L2269.34 1081.57 Z\" fill=\"#000000\" fill-rule=\"evenodd\" fill-opacity=\"1\" /><path clip-path=\"url(#clip6200)\" d=\"M 0 0 M2305.61 1081.57 L2310.28 1081.57 L2310.28 1116.13 L2305.61 1116.13 L2305.61 1081.57 Z\" fill=\"#000000\" fill-rule=\"evenodd\" fill-opacity=\"1\" /><polyline clip-path=\"url(#clip6200)\" style=\"stroke:#e26f46; stroke-width:4; stroke-opacity:1; fill:none\" points=\"\n",
       "  1402.53,1159.33 1637.73,1159.33 \n",
       "  \"/>\n",
       "<path clip-path=\"url(#clip6200)\" d=\"M 0 0 M1676.93 1142.05 L1683.9 1142.05 L1692.72 1165.57 L1701.58 1142.05 L1708.55 1142.05 L1708.55 1176.61 L1703.99 1176.61 L1703.99 1146.26 L1695.08 1169.96 L1690.38 1169.96 L1681.47 1146.26 L1681.47 1176.61 L1676.93 1176.61 L1676.93 1142.05 Z\" fill=\"#000000\" fill-rule=\"evenodd\" fill-opacity=\"1\" /><path clip-path=\"url(#clip6200)\" d=\"M 0 0 M1735.19 1162.58 L1735.19 1164.66 L1715.61 1164.66 Q1715.89 1169.06 1718.25 1171.38 Q1720.63 1173.67 1724.87 1173.67 Q1727.32 1173.67 1729.62 1173.07 Q1731.93 1172.46 1734.2 1171.26 L1734.2 1175.29 Q1731.91 1176.26 1729.5 1176.77 Q1727.09 1177.28 1724.62 1177.28 Q1718.41 1177.28 1714.78 1173.67 Q1711.17 1170.06 1711.17 1163.9 Q1711.17 1157.53 1714.59 1153.81 Q1718.04 1150.06 1723.88 1150.06 Q1729.11 1150.06 1732.14 1153.44 Q1735.19 1156.79 1735.19 1162.58 M1730.94 1161.33 Q1730.89 1157.83 1728.97 1155.75 Q1727.07 1153.67 1723.92 1153.67 Q1720.36 1153.67 1718.2 1155.68 Q1716.07 1157.69 1715.75 1161.35 L1730.94 1161.33 Z\" fill=\"#000000\" fill-rule=\"evenodd\" fill-opacity=\"1\" /><path clip-path=\"url(#clip6200)\" d=\"M 0 0 M1751.44 1163.57 Q1746.28 1163.57 1744.29 1164.75 Q1742.3 1165.94 1742.3 1168.78 Q1742.3 1171.05 1743.78 1172.39 Q1745.29 1173.71 1747.86 1173.71 Q1751.4 1173.71 1753.53 1171.21 Q1755.68 1168.69 1755.68 1164.52 L1755.68 1163.57 L1751.44 1163.57 M1759.94 1161.82 L1759.94 1176.61 L1755.68 1176.61 L1755.68 1172.67 Q1754.22 1175.03 1752.05 1176.17 Q1749.87 1177.28 1746.72 1177.28 Q1742.74 1177.28 1740.38 1175.06 Q1738.04 1172.81 1738.04 1169.06 Q1738.04 1164.69 1740.96 1162.46 Q1743.9 1160.24 1749.71 1160.24 L1755.68 1160.24 L1755.68 1159.82 Q1755.68 1156.88 1753.74 1155.29 Q1751.82 1153.67 1748.32 1153.67 Q1746.1 1153.67 1743.99 1154.2 Q1741.88 1154.73 1739.94 1155.8 L1739.94 1151.86 Q1742.28 1150.96 1744.48 1150.52 Q1746.68 1150.06 1748.76 1150.06 Q1754.38 1150.06 1757.16 1152.97 Q1759.94 1155.89 1759.94 1161.82 Z\" fill=\"#000000\" fill-rule=\"evenodd\" fill-opacity=\"1\" /><path clip-path=\"url(#clip6200)\" d=\"M 0 0 M1785.96 1160.96 L1785.96 1176.61 L1781.7 1176.61 L1781.7 1161.1 Q1781.7 1157.42 1780.26 1155.59 Q1778.83 1153.76 1775.96 1153.76 Q1772.51 1153.76 1770.52 1155.96 Q1768.53 1158.16 1768.53 1161.95 L1768.53 1176.61 L1764.25 1176.61 L1764.25 1150.68 L1768.53 1150.68 L1768.53 1154.71 Q1770.06 1152.37 1772.12 1151.21 Q1774.2 1150.06 1776.91 1150.06 Q1781.38 1150.06 1783.67 1152.83 Q1785.96 1155.59 1785.96 1160.96 Z\" fill=\"#000000\" fill-rule=\"evenodd\" fill-opacity=\"1\" /><path clip-path=\"url(#clip6200)\" d=\"M 0 0 M1791.51 1170.73 L1796.4 1170.73 L1796.4 1176.61 L1791.51 1176.61 L1791.51 1170.73 M1791.51 1152.09 L1796.4 1152.09 L1796.4 1157.97 L1791.51 1157.97 L1791.51 1152.09 Z\" fill=\"#000000\" fill-rule=\"evenodd\" fill-opacity=\"1\" /><path clip-path=\"url(#clip6200)\" d=\"M 0 0 M1816.58 1142.05 L1834.94 1142.05 L1834.94 1145.98 L1820.87 1145.98 L1820.87 1154.45 Q1821.88 1154.11 1822.9 1153.94 Q1823.92 1153.76 1824.94 1153.76 Q1830.73 1153.76 1834.11 1156.93 Q1837.49 1160.1 1837.49 1165.52 Q1837.49 1171.1 1834.01 1174.2 Q1830.54 1177.28 1824.22 1177.28 Q1822.05 1177.28 1819.78 1176.91 Q1817.53 1176.54 1815.12 1175.8 L1815.12 1171.1 Q1817.21 1172.23 1819.43 1172.79 Q1821.65 1173.34 1824.13 1173.34 Q1828.13 1173.34 1830.47 1171.24 Q1832.81 1169.13 1832.81 1165.52 Q1832.81 1161.91 1830.47 1159.8 Q1828.13 1157.69 1824.13 1157.69 Q1822.25 1157.69 1820.38 1158.11 Q1818.53 1158.53 1816.58 1159.41 L1816.58 1142.05 Z\" fill=\"#000000\" fill-rule=\"evenodd\" fill-opacity=\"1\" /><path clip-path=\"url(#clip6200)\" d=\"M 0 0 M1846.58 1172.67 L1862.9 1172.67 L1862.9 1176.61 L1840.96 1176.61 L1840.96 1172.67 Q1843.62 1169.92 1848.2 1165.29 Q1852.81 1160.63 1853.99 1159.29 Q1856.24 1156.77 1857.12 1155.03 Q1858.02 1153.27 1858.02 1151.58 Q1858.02 1148.83 1856.07 1147.09 Q1854.15 1145.36 1851.05 1145.36 Q1848.85 1145.36 1846.4 1146.12 Q1843.97 1146.88 1841.19 1148.44 L1841.19 1143.71 Q1844.01 1142.58 1846.47 1142 Q1848.92 1141.42 1850.96 1141.42 Q1856.33 1141.42 1859.52 1144.11 Q1862.72 1146.79 1862.72 1151.28 Q1862.72 1153.41 1861.91 1155.33 Q1861.12 1157.23 1859.01 1159.82 Q1858.43 1160.5 1855.33 1163.71 Q1852.23 1166.91 1846.58 1172.67 Z\" fill=\"#000000\" fill-rule=\"evenodd\" fill-opacity=\"1\" /><path clip-path=\"url(#clip6200)\" d=\"M 0 0 M1867.97 1170.73 L1872.86 1170.73 L1872.86 1176.61 L1867.97 1176.61 L1867.97 1170.73 Z\" fill=\"#000000\" fill-rule=\"evenodd\" fill-opacity=\"1\" /><path clip-path=\"url(#clip6200)\" d=\"M 0 0 M1887.93 1160.19 Q1884.59 1160.19 1882.67 1161.98 Q1880.77 1163.76 1880.77 1166.88 Q1880.77 1170.01 1882.67 1171.79 Q1884.59 1173.57 1887.93 1173.57 Q1891.26 1173.57 1893.18 1171.79 Q1895.1 1169.99 1895.1 1166.88 Q1895.1 1163.76 1893.18 1161.98 Q1891.28 1160.19 1887.93 1160.19 M1883.25 1158.2 Q1880.24 1157.46 1878.55 1155.4 Q1876.88 1153.34 1876.88 1150.38 Q1876.88 1146.24 1879.82 1143.83 Q1882.79 1141.42 1887.93 1141.42 Q1893.09 1141.42 1896.03 1143.83 Q1898.97 1146.24 1898.97 1150.38 Q1898.97 1153.34 1897.28 1155.4 Q1895.61 1157.46 1892.62 1158.2 Q1896 1158.99 1897.88 1161.28 Q1899.78 1163.57 1899.78 1166.88 Q1899.78 1171.91 1896.7 1174.59 Q1893.64 1177.28 1887.93 1177.28 Q1882.21 1177.28 1879.13 1174.59 Q1876.07 1171.91 1876.07 1166.88 Q1876.07 1163.57 1877.97 1161.28 Q1879.87 1158.99 1883.25 1158.2 M1881.54 1150.82 Q1881.54 1153.51 1883.2 1155.01 Q1884.89 1156.51 1887.93 1156.51 Q1890.93 1156.51 1892.62 1155.01 Q1894.34 1153.51 1894.34 1150.82 Q1894.34 1148.13 1892.62 1146.63 Q1890.93 1145.13 1887.93 1145.13 Q1884.89 1145.13 1883.2 1146.63 Q1881.54 1148.13 1881.54 1150.82 Z\" fill=\"#000000\" fill-rule=\"evenodd\" fill-opacity=\"1\" /></svg>\n"
      ]
     },
     "execution_count": 20,
     "metadata": {},
     "output_type": "execute_result"
    }
   ],
   "source": [
    "using Plots\n",
    "\n",
    "# show range\n",
    "rows = 1:12 # 1:record_count\n",
    "\n",
    "gr()\n",
    "plot(          dates[rows], # x-axis: dates\n",
    "               [  df1[rows,3] df1[rows,4]   ], # y-axis\n",
    "    label    = [  string(columns[3], \": ISM Manufacturing PMI\")  string(columns[4], \": \", df1[1,4])   ]  ,\n",
    "    legend   =:bottom, \n",
    "              # :right, :left, :top, :bottom, :inside, :best, :legend, :topright, :topleft, :bottomleft, :bottomright\n",
    "    xlabel   = \"time\",\n",
    "    ylabel   = \"indicators\",\n",
    "    size     = (980, 400), # width, height\n",
    "    layout = (1, 1) # number of graphs: vertically, horizontally\n",
    "    )"
   ]
  },
  {
   "cell_type": "code",
   "execution_count": null,
   "metadata": {},
   "outputs": [],
   "source": []
  }
 ],
 "metadata": {
  "kernelspec": {
   "display_name": "Julia 1.5.0",
   "language": "julia",
   "name": "julia-1.5"
  },
  "language_info": {
   "file_extension": ".jl",
   "mimetype": "application/julia",
   "name": "julia",
   "version": "1.5.0"
  },
  "toc": {
   "base_numbering": 1,
   "nav_menu": {},
   "number_sections": false,
   "sideBar": true,
   "skip_h1_title": false,
   "title_cell": "Table of Contents",
   "title_sidebar": "Contents",
   "toc_cell": true,
   "toc_position": {},
   "toc_section_display": true,
   "toc_window_display": true
  }
 },
 "nbformat": 4,
 "nbformat_minor": 4
}
