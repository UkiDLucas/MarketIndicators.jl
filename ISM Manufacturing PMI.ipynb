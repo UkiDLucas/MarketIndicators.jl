{
 "cells": [
  {
   "cell_type": "markdown",
   "metadata": {},
   "source": [
    "# ISM Manufacturing PMI\n",
    "\n",
    "ISM Manufacturing PMI reflects business conditions in the US manufacturing sector in the specified month. The Institute of Supply Management (ISM) is a not-for-profit supply management organization in the United States, which has over 40,000 members.\n",
    "\n",
    "The index is calculated based on a survey of representatives of several hundred companies from 18 US industries. Unlike Markit, ISM considers not only private companies but is based on the common NAICS (North American Industrial Classification System) list. Respondents describe the following aspects of their economic activity:\n",
    "\n",
    "- New orders received from clients\n",
    "- Output (speed and level)\n",
    "- Suppliers' delivery times (whether delivery performance is faster or slower)\n",
    "- Company's inventories\n",
    "- Customers' stocks (an approximate estimate of stocks stored by company's clients)\n",
    "- Prices, whether the company is paying for products and services more or less\n",
    "- Backlog of orders (increasing or decreasing)\n",
    "- New export orders, i.e. the number of orders received for further export\n",
    "- Imports — amount of imported materials\n",
    "- Employment in the company\n",
    "\n",
    "The questionnaire features relative estimates: whether the situation is better, worse or has not changed. Responses are estimated taking into account weights of respondent companies.\n",
    "\n",
    "The values are seasonally adjusted. The resulting manufacturing PMI is a composite of five diffuse indices with different weights (New orders, Output, Employment, Supplies and Inventories).\n",
    "\n",
    "Readings above 50 point to improvements in the industry situation. Index below 50 is an indication of contraction in economic conditions of production. The further the value moves from the mark of 50, the greater the rate of situation change.\n",
    "\n",
    "Manufacturing PMI is **one of the most important indicators of economic health**. Although the manufacturing sector is not a very important component of national GDP, it is still an early **indicator of a coming recession or growth**. **Purchasing managers are among the first to know** when the market conditions change, since they work in the short term and can evaluate a trend towards changing economic conditions. The index is released earlier than GDP and reports from the Bureau of Labor Statistics, therefore it is a leading indicator.\n",
    "\n",
    "Manufacturing PMI growth is usually seen as positive for the US dollar.\n",
    "                \n",
    "## Source\n",
    "- https://www.mql5.com/en/economic-calendar/united-states/ism-manufacturing-pmi"
   ]
  },
  {
   "cell_type": "markdown",
   "metadata": {
    "toc": true
   },
   "source": [
    "<h1>Table of Contents<span class=\"tocSkip\"></span></h1>\n",
    "<div class=\"toc\"><ul class=\"toc-item\"><li><span><a href=\"#ISM-Manufacturing-PMI\" data-toc-modified-id=\"ISM-Manufacturing-PMI-1\">ISM Manufacturing PMI</a></span><ul class=\"toc-item\"><li><span><a href=\"#Source\" data-toc-modified-id=\"Source-1.1\">Source</a></span></li></ul></li><li><span><a href=\"#Set-Up\" data-toc-modified-id=\"Set-Up-2\">Set Up</a></span></li><li><span><a href=\"#Read-Data\" data-toc-modified-id=\"Read-Data-3\">Read Data</a></span><ul class=\"toc-item\"><li><span><a href=\"#Sample-the-data\" data-toc-modified-id=\"Sample-the-data-3.1\">Sample the data</a></span></li></ul></li><li><span><a href=\"#Transform-Data\" data-toc-modified-id=\"Transform-Data-4\">Transform Data</a></span><ul class=\"toc-item\"><li><span><a href=\"#Sort-By-Date\" data-toc-modified-id=\"Sort-By-Date-4.1\">Sort By Date</a></span></li><li><span><a href=\"#Format-Dates\" data-toc-modified-id=\"Format-Dates-4.2\">Format Dates</a></span></li><li><span><a href=\"#Rata-Die\" data-toc-modified-id=\"Rata-Die-4.3\">Rata Die</a></span></li><li><span><a href=\"#Number-the-columns\" data-toc-modified-id=\"Number-the-columns-4.4\">Number the columns</a></span></li></ul></li><li><span><a href=\"#Extract-Desired-DataFrame\" data-toc-modified-id=\"Extract-Desired-DataFrame-5\">Extract Desired DataFrame</a></span><ul class=\"toc-item\"><li><span><a href=\"#Calculate-Averages\" data-toc-modified-id=\"Calculate-Averages-5.1\">Calculate Averages</a></span></li></ul></li><li><span><a href=\"#TODO\" data-toc-modified-id=\"TODO-6\">TODO</a></span></li></ul></div>"
   ]
  },
  {
   "cell_type": "markdown",
   "metadata": {},
   "source": [
    "# Set Up"
   ]
  },
  {
   "cell_type": "code",
   "execution_count": 1,
   "metadata": {},
   "outputs": [
    {
     "name": "stdout",
     "output_type": "stream",
     "text": [
      "\n"
     ]
    }
   ],
   "source": [
    "date_format = \"yyyy.mm.dd\" # 2007.04.05\n",
    "show_help = false\n",
    "include(\"MarketIndicators.jl\") "
   ]
  },
  {
   "cell_type": "markdown",
   "metadata": {},
   "source": [
    "# Read Data"
   ]
  },
  {
   "cell_type": "code",
   "execution_count": 2,
   "metadata": {},
   "outputs": [],
   "source": [
    "#datasets = available_datasets()"
   ]
  },
  {
   "cell_type": "code",
   "execution_count": 13,
   "metadata": {},
   "outputs": [
    {
     "name": "stdout",
     "output_type": "stream",
     "text": [
      "dataset_file_name: united-states.ism-manufacturing-pmi.csv\n",
      "record_count: 163\n",
      "12×4 DataFrame\n",
      "│ Row │ Date       │ ActualValue │ ForecastValue │ PreviousValue │\n",
      "│     │ \u001b[90mDate\u001b[39m       │ \u001b[90mFloat64\u001b[39m     │ \u001b[90mFloat64?\u001b[39m      │ \u001b[90mFloat64?\u001b[39m      │\n",
      "├─────┼────────────┼─────────────┼───────────────┼───────────────┤\n",
      "│ 1   │ 2007-03-01 │ 52.3        │ \u001b[90mmissing\u001b[39m       │ \u001b[90mmissing\u001b[39m       │\n",
      "│ 2   │ 2008-05-01 │ 48.6        │ \u001b[90mmissing\u001b[39m       │ 48.6          │\n",
      "│ 3   │ 2009-07-01 │ 44.8        │ \u001b[90mmissing\u001b[39m       │ 42.8          │\n",
      "│ 4   │ 2010-09-01 │ 56.3        │ \u001b[90mmissing\u001b[39m       │ 55.5          │\n",
      "│ 5   │ 2011-11-01 │ 51.8        │ \u001b[90mmissing\u001b[39m       │ 52.5          │\n",
      "│ 6   │ 2013-01-02 │ 50.2        │ \u001b[90mmissing\u001b[39m       │ 49.5          │\n",
      "│ 7   │ 2014-03-03 │ 53.2        │ \u001b[90mmissing\u001b[39m       │ 51.3          │\n",
      "│ 8   │ 2015-05-01 │ 51.5        │ \u001b[90mmissing\u001b[39m       │ 51.5          │\n",
      "│ 9   │ 2016-07-01 │ 53.2        │ \u001b[90mmissing\u001b[39m       │ 51.3          │\n",
      "│ 10  │ 2017-09-01 │ 58.8        │ 57.4          │ 56.3          │\n",
      "│ 11  │ 2018-11-01 │ 57.7        │ 60.6          │ 59.8          │\n",
      "│ 12  │ 2020-01-03 │ 47.2        │ 48.3          │ 48.1          │\n",
      " Dataset dimentions: (163, 4)\n",
      "\n",
      " Column numbering:\n",
      "1 Date\n",
      "2 ActualValue\n",
      "3 ForecastValue\n",
      "4 PreviousValue\n"
     ]
    },
    {
     "data": {
      "text/plain": [
       "4-element Array{String,1}:\n",
       " \"Date\"\n",
       " \"ActualValue\"\n",
       " \"ForecastValue\"\n",
       " \"PreviousValue\""
      ]
     },
     "execution_count": 13,
     "metadata": {},
     "output_type": "execute_result"
    }
   ],
   "source": [
    "dataset_file_name = available_datasets()[10,2] # [row, column]\n",
    "println(\"dataset_file_name: \", dataset_file_name)\n",
    "df = fetch_dataset(dataset_file_name, date_format)\n",
    "record_count = size(df)[1]\n",
    "println(\"record_count: \", record_count )\n",
    "preview_data(df)"
   ]
  },
  {
   "cell_type": "markdown",
   "metadata": {},
   "source": [
    "## Sample the data"
   ]
  },
  {
   "cell_type": "code",
   "execution_count": 4,
   "metadata": {
    "scrolled": false
   },
   "outputs": [
    {
     "name": "stdout",
     "output_type": "stream",
     "text": [
      "12×4 DataFrame\n",
      "│ Row │ Date       │ ActualValue │ ForecastValue │ PreviousValue │\n",
      "│     │ \u001b[90mDate\u001b[39m       │ \u001b[90mFloat64\u001b[39m     │ \u001b[90mFloat64?\u001b[39m      │ \u001b[90mFloat64?\u001b[39m      │\n",
      "├─────┼────────────┼─────────────┼───────────────┼───────────────┤\n",
      "│ 1   │ 2007-03-01 │ 52.3        │ \u001b[90mmissing\u001b[39m       │ \u001b[90mmissing\u001b[39m       │\n",
      "│ 2   │ 2008-05-01 │ 48.6        │ \u001b[90mmissing\u001b[39m       │ 48.6          │\n",
      "│ 3   │ 2009-07-01 │ 44.8        │ \u001b[90mmissing\u001b[39m       │ 42.8          │\n",
      "│ 4   │ 2010-09-01 │ 56.3        │ \u001b[90mmissing\u001b[39m       │ 55.5          │\n",
      "│ 5   │ 2011-11-01 │ 51.8        │ \u001b[90mmissing\u001b[39m       │ 52.5          │\n",
      "│ 6   │ 2013-01-02 │ 50.2        │ \u001b[90mmissing\u001b[39m       │ 49.5          │\n",
      "│ 7   │ 2014-03-03 │ 53.2        │ \u001b[90mmissing\u001b[39m       │ 51.3          │\n",
      "│ 8   │ 2015-05-01 │ 51.5        │ \u001b[90mmissing\u001b[39m       │ 51.5          │\n",
      "│ 9   │ 2016-07-01 │ 53.2        │ \u001b[90mmissing\u001b[39m       │ 51.3          │\n",
      "│ 10  │ 2017-09-01 │ 58.8        │ 57.4          │ 56.3          │\n",
      "│ 11  │ 2018-11-01 │ 57.7        │ 60.6          │ 59.8          │\n",
      "│ 12  │ 2020-01-03 │ 47.2        │ 48.3          │ 48.1          │\n",
      " Dataset dimentions: (163, 4)\n",
      "\n",
      " Column numbering:\n",
      "1 Date\n",
      "2 ActualValue\n",
      "3 ForecastValue\n",
      "4 PreviousValue\n"
     ]
    },
    {
     "data": {
      "text/plain": [
       "4-element Array{String,1}:\n",
       " \"Date\"\n",
       " \"ActualValue\"\n",
       " \"ForecastValue\"\n",
       " \"PreviousValue\""
      ]
     },
     "execution_count": 4,
     "metadata": {},
     "output_type": "execute_result"
    }
   ],
   "source": []
  },
  {
   "cell_type": "markdown",
   "metadata": {},
   "source": [
    "# Transform Data"
   ]
  },
  {
   "cell_type": "markdown",
   "metadata": {},
   "source": [
    "## Sort By Date\n",
    "- oldest first\n",
    "- newest last"
   ]
  },
  {
   "cell_type": "code",
   "execution_count": 5,
   "metadata": {},
   "outputs": [],
   "source": [
    "# now included in fetch_dataset()\n",
    "# sort!(df, [:Date]);"
   ]
  },
  {
   "cell_type": "markdown",
   "metadata": {},
   "source": [
    "## Format Dates"
   ]
  },
  {
   "cell_type": "code",
   "execution_count": 6,
   "metadata": {},
   "outputs": [
    {
     "data": {
      "text/plain": [
       "5-element Array{String,1}:\n",
       " \"07/301\"\n",
       " \"07/402\"\n",
       " \"07/501\"\n",
       " \"07/601\"\n",
       " \"07/702\""
      ]
     },
     "execution_count": 6,
     "metadata": {},
     "output_type": "execute_result"
    }
   ],
   "source": [
    "dates = format_dates( df[:,1] , \"yy/mdd\")\n",
    "dates[1:5]"
   ]
  },
  {
   "cell_type": "markdown",
   "metadata": {},
   "source": [
    "## Rata Die"
   ]
  },
  {
   "cell_type": "code",
   "execution_count": 7,
   "metadata": {
    "scrolled": false
   },
   "outputs": [
    {
     "name": "stdout",
     "output_type": "stream",
     "text": [
      "12×5 DataFrame\n",
      "│ Row │ Rata_Die │ Date       │ ActualValue │ ForecastValue │ PreviousValue │\n",
      "│     │ \u001b[90mInt64\u001b[39m    │ \u001b[90mDate\u001b[39m       │ \u001b[90mFloat64\u001b[39m     │ \u001b[90mFloat64?\u001b[39m      │ \u001b[90mFloat64?\u001b[39m      │\n",
      "├─────┼──────────┼────────────┼─────────────┼───────────────┼───────────────┤\n",
      "│ 1   │ 39140    │ 2007-03-01 │ 52.3        │ \u001b[90mmissing\u001b[39m       │ \u001b[90mmissing\u001b[39m       │\n",
      "│ 2   │ 39567    │ 2008-05-01 │ 48.6        │ \u001b[90mmissing\u001b[39m       │ 48.6          │\n",
      "│ 3   │ 39993    │ 2009-07-01 │ 44.8        │ \u001b[90mmissing\u001b[39m       │ 42.8          │\n",
      "│ 4   │ 40420    │ 2010-09-01 │ 56.3        │ \u001b[90mmissing\u001b[39m       │ 55.5          │\n",
      "│ 5   │ 40846    │ 2011-11-01 │ 51.8        │ \u001b[90mmissing\u001b[39m       │ 52.5          │\n",
      "│ 6   │ 41274    │ 2013-01-02 │ 50.2        │ \u001b[90mmissing\u001b[39m       │ 49.5          │\n",
      "│ 7   │ 41699    │ 2014-03-03 │ 53.2        │ \u001b[90mmissing\u001b[39m       │ 51.3          │\n",
      "│ 8   │ 42123    │ 2015-05-01 │ 51.5        │ \u001b[90mmissing\u001b[39m       │ 51.5          │\n",
      "│ 9   │ 42550    │ 2016-07-01 │ 53.2        │ \u001b[90mmissing\u001b[39m       │ 51.3          │\n",
      "│ 10  │ 42977    │ 2017-09-01 │ 58.8        │ 57.4          │ 56.3          │\n",
      "│ 11  │ 43403    │ 2018-11-01 │ 57.7        │ 60.6          │ 59.8          │\n",
      "│ 12  │ 43831    │ 2020-01-03 │ 47.2        │ 48.3          │ 48.1          │\n",
      " Dataset dimentions: (163, 5)\n",
      "\n",
      " Column numbering:\n",
      "1 Rata_Die\n",
      "2 Date\n",
      "3 ActualValue\n",
      "4 ForecastValue\n",
      "5 PreviousValue\n",
      "\n"
     ]
    }
   ],
   "source": [
    "insert!(df, 1, zeros(Int64, record_count), :Rata_Die)\n",
    "update_rata_die!(df, 1, 2) # Rata_Die column, Date column\n",
    "columns = preview_data(df)\n",
    "println()"
   ]
  },
  {
   "cell_type": "markdown",
   "metadata": {},
   "source": [
    "## Number the columns"
   ]
  },
  {
   "cell_type": "code",
   "execution_count": 8,
   "metadata": {},
   "outputs": [
    {
     "name": "stdout",
     "output_type": "stream",
     "text": [
      "1 Rata_Die\n",
      "2 Date\n",
      "3 ActualValue\n",
      "4 ForecastValue\n",
      "5 PreviousValue\n"
     ]
    }
   ],
   "source": [
    "# sample the values in the columns\n",
    "columns = names(df)\n",
    "for i in 1:length(columns)\n",
    "    println(i, \" \", columns[i])\n",
    "end"
   ]
  },
  {
   "cell_type": "markdown",
   "metadata": {},
   "source": [
    "# Extract Desired DataFrame"
   ]
  },
  {
   "cell_type": "code",
   "execution_count": 9,
   "metadata": {},
   "outputs": [
    {
     "name": "stdout",
     "output_type": "stream",
     "text": [
      "12×3 DataFrame\n",
      "│ Row │ Day   │ Date       │ Actual  │\n",
      "│     │ \u001b[90mInt64\u001b[39m │ \u001b[90mDate\u001b[39m       │ \u001b[90mFloat64\u001b[39m │\n",
      "├─────┼───────┼────────────┼─────────┤\n",
      "│ 1   │ 39140 │ 2007-03-01 │ 52.3    │\n",
      "│ 2   │ 39567 │ 2008-05-01 │ 48.6    │\n",
      "│ 3   │ 39993 │ 2009-07-01 │ 44.8    │\n",
      "│ 4   │ 40420 │ 2010-09-01 │ 56.3    │\n",
      "│ 5   │ 40846 │ 2011-11-01 │ 51.8    │\n",
      "│ 6   │ 41274 │ 2013-01-02 │ 50.2    │\n",
      "│ 7   │ 41699 │ 2014-03-03 │ 53.2    │\n",
      "│ 8   │ 42123 │ 2015-05-01 │ 51.5    │\n",
      "│ 9   │ 42550 │ 2016-07-01 │ 53.2    │\n",
      "│ 10  │ 42977 │ 2017-09-01 │ 58.8    │\n",
      "│ 11  │ 43403 │ 2018-11-01 │ 57.7    │\n",
      "│ 12  │ 43831 │ 2020-01-03 │ 47.2    │\n",
      " Dataset dimentions: (163, 3)\n",
      "\n",
      " Column numbering:\n",
      "1 Day\n",
      "2 Date\n",
      "3 Actual\n",
      "\n",
      " Dataset dimentions: (163, 3)\n",
      "\n",
      " Column numbering:\n",
      "1 Day\n",
      "2 Date\n",
      "3 Actual\n"
     ]
    }
   ],
   "source": [
    "using DataFrames\n",
    "df1 = DataFrame( Day = df[:,1], \n",
    "                Date = df[:,2],\n",
    "                Actual = df[:,3]\n",
    "               )\n",
    "\n",
    "preview_data( df1)\n",
    "\n",
    "println(\"\\n Dataset dimentions: \", size(df1) )\n",
    "println(\"\\n Column numbering:\")\n",
    "columns = names(df1)\n",
    "for i in 1:length(columns)\n",
    "    println(i, \" \", columns[i])\n",
    "end"
   ]
  },
  {
   "cell_type": "markdown",
   "metadata": {},
   "source": [
    "## Calculate Averages"
   ]
  },
  {
   "cell_type": "code",
   "execution_count": 10,
   "metadata": {},
   "outputs": [
    {
     "name": "stdout",
     "output_type": "stream",
     "text": [
      "12×4 DataFrame\n",
      "│ Row │ Day   │ Date       │ Actual  │ Mean    │\n",
      "│     │ \u001b[90mInt64\u001b[39m │ \u001b[90mDate\u001b[39m       │ \u001b[90mFloat64\u001b[39m │ \u001b[90mFloat64\u001b[39m │\n",
      "├─────┼───────┼────────────┼─────────┼─────────┤\n",
      "│ 1   │ 39140 │ 2007-03-01 │ 52.3    │ 52.8    │\n",
      "│ 2   │ 39567 │ 2008-05-01 │ 48.6    │ 52.8    │\n",
      "│ 3   │ 39993 │ 2009-07-01 │ 44.8    │ 52.8    │\n",
      "│ 4   │ 40420 │ 2010-09-01 │ 56.3    │ 52.8    │\n",
      "│ 5   │ 40846 │ 2011-11-01 │ 51.8    │ 52.8    │\n",
      "│ 6   │ 41274 │ 2013-01-02 │ 50.2    │ 52.8    │\n",
      "│ 7   │ 41699 │ 2014-03-03 │ 53.2    │ 52.8    │\n",
      "│ 8   │ 42123 │ 2015-05-01 │ 51.5    │ 52.8    │\n",
      "│ 9   │ 42550 │ 2016-07-01 │ 53.2    │ 52.8    │\n",
      "│ 10  │ 42977 │ 2017-09-01 │ 58.8    │ 52.8    │\n",
      "│ 11  │ 43403 │ 2018-11-01 │ 57.7    │ 52.8    │\n",
      "│ 12  │ 43831 │ 2020-01-03 │ 47.2    │ 52.8    │\n",
      " Dataset dimentions: (163, 4)\n",
      "\n",
      " Column numbering:\n",
      "1 Day\n",
      "2 Date\n",
      "3 Actual\n",
      "4 Mean\n"
     ]
    },
    {
     "data": {
      "text/plain": [
       "4-element Array{String,1}:\n",
       " \"Day\"\n",
       " \"Date\"\n",
       " \"Actual\"\n",
       " \"Mean\""
      ]
     },
     "execution_count": 10,
     "metadata": {},
     "output_type": "execute_result"
    }
   ],
   "source": [
    "add_overal_mean!(df1)\n",
    "columns= preview_data( df1)"
   ]
  },
  {
   "cell_type": "code",
   "execution_count": 11,
   "metadata": {},
   "outputs": [
    {
     "data": {
      "image/svg+xml": [
       "<?xml version=\"1.0\" encoding=\"utf-8\"?>\n",
       "<svg xmlns=\"http://www.w3.org/2000/svg\" xmlns:xlink=\"http://www.w3.org/1999/xlink\" width=\"980\" height=\"400\" viewBox=\"0 0 3920 1600\">\n",
       "<defs>\n",
       "  <clipPath id=\"clip7900\">\n",
       "    <rect x=\"0\" y=\"0\" width=\"3920\" height=\"1600\"/>\n",
       "  </clipPath>\n",
       "</defs>\n",
       "<path clip-path=\"url(#clip7900)\" d=\"\n",
       "M0 1600 L3920 1600 L3920 0 L0 0  Z\n",
       "  \" fill=\"#ffffff\" fill-rule=\"evenodd\" fill-opacity=\"1\"/>\n",
       "<defs>\n",
       "  <clipPath id=\"clip7901\">\n",
       "    <rect x=\"784\" y=\"0\" width=\"2745\" height=\"1600\"/>\n",
       "  </clipPath>\n",
       "</defs>\n",
       "<path clip-path=\"url(#clip7900)\" d=\"\n",
       "M202.459 1423.18 L3872.76 1423.18 L3872.76 47.2441 L202.459 47.2441  Z\n",
       "  \" fill=\"#ffffff\" fill-rule=\"evenodd\" fill-opacity=\"1\"/>\n",
       "<defs>\n",
       "  <clipPath id=\"clip7902\">\n",
       "    <rect x=\"202\" y=\"47\" width=\"3671\" height=\"1377\"/>\n",
       "  </clipPath>\n",
       "</defs>\n",
       "<polyline clip-path=\"url(#clip7902)\" style=\"stroke:#000000; stroke-width:2; stroke-opacity:0.1; fill:none\" points=\"\n",
       "  306.335,1423.18 306.335,47.2441 \n",
       "  \"/>\n",
       "<polyline clip-path=\"url(#clip7902)\" style=\"stroke:#000000; stroke-width:2; stroke-opacity:0.1; fill:none\" points=\"\n",
       "  562.82,1423.18 562.82,47.2441 \n",
       "  \"/>\n",
       "<polyline clip-path=\"url(#clip7902)\" style=\"stroke:#000000; stroke-width:2; stroke-opacity:0.1; fill:none\" points=\"\n",
       "  797.931,1423.18 797.931,47.2441 \n",
       "  \"/>\n",
       "<polyline clip-path=\"url(#clip7902)\" style=\"stroke:#000000; stroke-width:2; stroke-opacity:0.1; fill:none\" points=\"\n",
       "  1054.42,1423.18 1054.42,47.2441 \n",
       "  \"/>\n",
       "<polyline clip-path=\"url(#clip7902)\" style=\"stroke:#000000; stroke-width:2; stroke-opacity:0.1; fill:none\" points=\"\n",
       "  1289.53,1423.18 1289.53,47.2441 \n",
       "  \"/>\n",
       "<polyline clip-path=\"url(#clip7902)\" style=\"stroke:#000000; stroke-width:2; stroke-opacity:0.1; fill:none\" points=\"\n",
       "  1546.01,1423.18 1546.01,47.2441 \n",
       "  \"/>\n",
       "<polyline clip-path=\"url(#clip7902)\" style=\"stroke:#000000; stroke-width:2; stroke-opacity:0.1; fill:none\" points=\"\n",
       "  1781.12,1423.18 1781.12,47.2441 \n",
       "  \"/>\n",
       "<polyline clip-path=\"url(#clip7902)\" style=\"stroke:#000000; stroke-width:2; stroke-opacity:0.1; fill:none\" points=\"\n",
       "  2037.61,1423.18 2037.61,47.2441 \n",
       "  \"/>\n",
       "<polyline clip-path=\"url(#clip7902)\" style=\"stroke:#000000; stroke-width:2; stroke-opacity:0.1; fill:none\" points=\"\n",
       "  2294.09,1423.18 2294.09,47.2441 \n",
       "  \"/>\n",
       "<polyline clip-path=\"url(#clip7902)\" style=\"stroke:#000000; stroke-width:2; stroke-opacity:0.1; fill:none\" points=\"\n",
       "  2529.2,1423.18 2529.2,47.2441 \n",
       "  \"/>\n",
       "<polyline clip-path=\"url(#clip7902)\" style=\"stroke:#000000; stroke-width:2; stroke-opacity:0.1; fill:none\" points=\"\n",
       "  2785.69,1423.18 2785.69,47.2441 \n",
       "  \"/>\n",
       "<polyline clip-path=\"url(#clip7902)\" style=\"stroke:#000000; stroke-width:2; stroke-opacity:0.1; fill:none\" points=\"\n",
       "  3020.8,1423.18 3020.8,47.2441 \n",
       "  \"/>\n",
       "<polyline clip-path=\"url(#clip7902)\" style=\"stroke:#000000; stroke-width:2; stroke-opacity:0.1; fill:none\" points=\"\n",
       "  3277.28,1423.18 3277.28,47.2441 \n",
       "  \"/>\n",
       "<polyline clip-path=\"url(#clip7902)\" style=\"stroke:#000000; stroke-width:2; stroke-opacity:0.1; fill:none\" points=\"\n",
       "  3512.39,1423.18 3512.39,47.2441 \n",
       "  \"/>\n",
       "<polyline clip-path=\"url(#clip7902)\" style=\"stroke:#000000; stroke-width:2; stroke-opacity:0.1; fill:none\" points=\"\n",
       "  3768.88,1423.18 3768.88,47.2441 \n",
       "  \"/>\n",
       "<polyline clip-path=\"url(#clip7902)\" style=\"stroke:#000000; stroke-width:2; stroke-opacity:0.1; fill:none\" points=\"\n",
       "  202.459,1267.86 3872.76,1267.86 \n",
       "  \"/>\n",
       "<polyline clip-path=\"url(#clip7902)\" style=\"stroke:#000000; stroke-width:2; stroke-opacity:0.1; fill:none\" points=\"\n",
       "  202.459,1044.06 3872.76,1044.06 \n",
       "  \"/>\n",
       "<polyline clip-path=\"url(#clip7902)\" style=\"stroke:#000000; stroke-width:2; stroke-opacity:0.1; fill:none\" points=\"\n",
       "  202.459,820.257 3872.76,820.257 \n",
       "  \"/>\n",
       "<polyline clip-path=\"url(#clip7902)\" style=\"stroke:#000000; stroke-width:2; stroke-opacity:0.1; fill:none\" points=\"\n",
       "  202.459,596.455 3872.76,596.455 \n",
       "  \"/>\n",
       "<polyline clip-path=\"url(#clip7902)\" style=\"stroke:#000000; stroke-width:2; stroke-opacity:0.1; fill:none\" points=\"\n",
       "  202.459,372.652 3872.76,372.652 \n",
       "  \"/>\n",
       "<polyline clip-path=\"url(#clip7902)\" style=\"stroke:#000000; stroke-width:2; stroke-opacity:0.1; fill:none\" points=\"\n",
       "  202.459,148.85 3872.76,148.85 \n",
       "  \"/>\n",
       "<polyline clip-path=\"url(#clip7900)\" style=\"stroke:#000000; stroke-width:4; stroke-opacity:1; fill:none\" points=\"\n",
       "  202.459,1423.18 3872.76,1423.18 \n",
       "  \"/>\n",
       "<polyline clip-path=\"url(#clip7900)\" style=\"stroke:#000000; stroke-width:4; stroke-opacity:1; fill:none\" points=\"\n",
       "  202.459,1423.18 202.459,47.2441 \n",
       "  \"/>\n",
       "<polyline clip-path=\"url(#clip7900)\" style=\"stroke:#000000; stroke-width:4; stroke-opacity:1; fill:none\" points=\"\n",
       "  306.335,1423.18 306.335,1406.67 \n",
       "  \"/>\n",
       "<polyline clip-path=\"url(#clip7900)\" style=\"stroke:#000000; stroke-width:4; stroke-opacity:1; fill:none\" points=\"\n",
       "  562.82,1423.18 562.82,1406.67 \n",
       "  \"/>\n",
       "<polyline clip-path=\"url(#clip7900)\" style=\"stroke:#000000; stroke-width:4; stroke-opacity:1; fill:none\" points=\"\n",
       "  797.931,1423.18 797.931,1406.67 \n",
       "  \"/>\n",
       "<polyline clip-path=\"url(#clip7900)\" style=\"stroke:#000000; stroke-width:4; stroke-opacity:1; fill:none\" points=\"\n",
       "  1054.42,1423.18 1054.42,1406.67 \n",
       "  \"/>\n",
       "<polyline clip-path=\"url(#clip7900)\" style=\"stroke:#000000; stroke-width:4; stroke-opacity:1; fill:none\" points=\"\n",
       "  1289.53,1423.18 1289.53,1406.67 \n",
       "  \"/>\n",
       "<polyline clip-path=\"url(#clip7900)\" style=\"stroke:#000000; stroke-width:4; stroke-opacity:1; fill:none\" points=\"\n",
       "  1546.01,1423.18 1546.01,1406.67 \n",
       "  \"/>\n",
       "<polyline clip-path=\"url(#clip7900)\" style=\"stroke:#000000; stroke-width:4; stroke-opacity:1; fill:none\" points=\"\n",
       "  1781.12,1423.18 1781.12,1406.67 \n",
       "  \"/>\n",
       "<polyline clip-path=\"url(#clip7900)\" style=\"stroke:#000000; stroke-width:4; stroke-opacity:1; fill:none\" points=\"\n",
       "  2037.61,1423.18 2037.61,1406.67 \n",
       "  \"/>\n",
       "<polyline clip-path=\"url(#clip7900)\" style=\"stroke:#000000; stroke-width:4; stroke-opacity:1; fill:none\" points=\"\n",
       "  2294.09,1423.18 2294.09,1406.67 \n",
       "  \"/>\n",
       "<polyline clip-path=\"url(#clip7900)\" style=\"stroke:#000000; stroke-width:4; stroke-opacity:1; fill:none\" points=\"\n",
       "  2529.2,1423.18 2529.2,1406.67 \n",
       "  \"/>\n",
       "<polyline clip-path=\"url(#clip7900)\" style=\"stroke:#000000; stroke-width:4; stroke-opacity:1; fill:none\" points=\"\n",
       "  2785.69,1423.18 2785.69,1406.67 \n",
       "  \"/>\n",
       "<polyline clip-path=\"url(#clip7900)\" style=\"stroke:#000000; stroke-width:4; stroke-opacity:1; fill:none\" points=\"\n",
       "  3020.8,1423.18 3020.8,1406.67 \n",
       "  \"/>\n",
       "<polyline clip-path=\"url(#clip7900)\" style=\"stroke:#000000; stroke-width:4; stroke-opacity:1; fill:none\" points=\"\n",
       "  3277.28,1423.18 3277.28,1406.67 \n",
       "  \"/>\n",
       "<polyline clip-path=\"url(#clip7900)\" style=\"stroke:#000000; stroke-width:4; stroke-opacity:1; fill:none\" points=\"\n",
       "  3512.39,1423.18 3512.39,1406.67 \n",
       "  \"/>\n",
       "<polyline clip-path=\"url(#clip7900)\" style=\"stroke:#000000; stroke-width:4; stroke-opacity:1; fill:none\" points=\"\n",
       "  3768.88,1423.18 3768.88,1406.67 \n",
       "  \"/>\n",
       "<polyline clip-path=\"url(#clip7900)\" style=\"stroke:#000000; stroke-width:4; stroke-opacity:1; fill:none\" points=\"\n",
       "  202.459,1267.86 246.503,1267.86 \n",
       "  \"/>\n",
       "<polyline clip-path=\"url(#clip7900)\" style=\"stroke:#000000; stroke-width:4; stroke-opacity:1; fill:none\" points=\"\n",
       "  202.459,1044.06 246.503,1044.06 \n",
       "  \"/>\n",
       "<polyline clip-path=\"url(#clip7900)\" style=\"stroke:#000000; stroke-width:4; stroke-opacity:1; fill:none\" points=\"\n",
       "  202.459,820.257 246.503,820.257 \n",
       "  \"/>\n",
       "<polyline clip-path=\"url(#clip7900)\" style=\"stroke:#000000; stroke-width:4; stroke-opacity:1; fill:none\" points=\"\n",
       "  202.459,596.455 246.503,596.455 \n",
       "  \"/>\n",
       "<polyline clip-path=\"url(#clip7900)\" style=\"stroke:#000000; stroke-width:4; stroke-opacity:1; fill:none\" points=\"\n",
       "  202.459,372.652 246.503,372.652 \n",
       "  \"/>\n",
       "<polyline clip-path=\"url(#clip7900)\" style=\"stroke:#000000; stroke-width:4; stroke-opacity:1; fill:none\" points=\"\n",
       "  202.459,148.85 246.503,148.85 \n",
       "  \"/>\n",
       "<path clip-path=\"url(#clip7900)\" d=\"M 0 0 M245.711 1452.77 Q242.1 1452.77 240.271 1456.34 Q238.465 1459.88 238.465 1467.01 Q238.465 1474.11 240.271 1477.68 Q242.1 1481.22 245.711 1481.22 Q249.345 1481.22 251.15 1477.68 Q252.979 1474.11 252.979 1467.01 Q252.979 1459.88 251.15 1456.34 Q249.345 1452.77 245.711 1452.77 M245.711 1449.07 Q251.521 1449.07 254.576 1453.67 Q257.655 1458.26 257.655 1467.01 Q257.655 1475.73 254.576 1480.34 Q251.521 1484.92 245.711 1484.92 Q239.9 1484.92 236.822 1480.34 Q233.766 1475.73 233.766 1467.01 Q233.766 1458.26 236.822 1453.67 Q239.9 1449.07 245.711 1449.07 Z\" fill=\"#000000\" fill-rule=\"evenodd\" fill-opacity=\"1\" /><path clip-path=\"url(#clip7900)\" d=\"M 0 0 M261.544 1449.69 L283.766 1449.69 L283.766 1451.68 L271.22 1484.25 L266.335 1484.25 L278.141 1453.63 L261.544 1453.63 L261.544 1449.69 Z\" fill=\"#000000\" fill-rule=\"evenodd\" fill-opacity=\"1\" /><path clip-path=\"url(#clip7900)\" d=\"M 0 0 M295.803 1449.69 L299.738 1449.69 L287.701 1488.65 L283.766 1488.65 L295.803 1449.69 Z\" fill=\"#000000\" fill-rule=\"evenodd\" fill-opacity=\"1\" /><path clip-path=\"url(#clip7900)\" d=\"M 0 0 M318.974 1465.62 Q322.331 1466.34 324.206 1468.6 Q326.104 1470.87 326.104 1474.21 Q326.104 1479.32 322.585 1482.12 Q319.067 1484.92 312.585 1484.92 Q310.409 1484.92 308.095 1484.48 Q305.803 1484.07 303.349 1483.21 L303.349 1478.7 Q305.294 1479.83 307.608 1480.41 Q309.923 1480.99 312.446 1480.99 Q316.844 1480.99 319.136 1479.25 Q321.451 1477.52 321.451 1474.21 Q321.451 1471.15 319.298 1469.44 Q317.169 1467.7 313.349 1467.7 L309.321 1467.7 L309.321 1463.86 L313.534 1463.86 Q316.983 1463.86 318.812 1462.49 Q320.641 1461.1 320.641 1458.51 Q320.641 1455.85 318.743 1454.44 Q316.868 1453 313.349 1453 Q311.428 1453 309.229 1453.42 Q307.03 1453.84 304.391 1454.71 L304.391 1450.55 Q307.053 1449.81 309.368 1449.44 Q311.706 1449.07 313.766 1449.07 Q319.09 1449.07 322.192 1451.5 Q325.294 1453.9 325.294 1458.03 Q325.294 1460.9 323.65 1462.89 Q322.006 1464.85 318.974 1465.62 Z\" fill=\"#000000\" fill-rule=\"evenodd\" fill-opacity=\"1\" /><path clip-path=\"url(#clip7900)\" d=\"M 0 0 M341.173 1452.77 Q337.562 1452.77 335.733 1456.34 Q333.928 1459.88 333.928 1467.01 Q333.928 1474.11 335.733 1477.68 Q337.562 1481.22 341.173 1481.22 Q344.807 1481.22 346.613 1477.68 Q348.442 1474.11 348.442 1467.01 Q348.442 1459.88 346.613 1456.34 Q344.807 1452.77 341.173 1452.77 M341.173 1449.07 Q346.983 1449.07 350.039 1453.67 Q353.117 1458.26 353.117 1467.01 Q353.117 1475.73 350.039 1480.34 Q346.983 1484.92 341.173 1484.92 Q335.363 1484.92 332.284 1480.34 Q329.229 1475.73 329.229 1467.01 Q329.229 1458.26 332.284 1453.67 Q335.363 1449.07 341.173 1449.07 Z\" fill=\"#000000\" fill-rule=\"evenodd\" fill-opacity=\"1\" /><path clip-path=\"url(#clip7900)\" d=\"M 0 0 M358.997 1480.32 L366.636 1480.32 L366.636 1453.95 L358.326 1455.62 L358.326 1451.36 L366.59 1449.69 L371.265 1449.69 L371.265 1480.32 L378.904 1480.32 L378.904 1484.25 L358.997 1484.25 L358.997 1480.32 Z\" fill=\"#000000\" fill-rule=\"evenodd\" fill-opacity=\"1\" /><path clip-path=\"url(#clip7900)\" d=\"M 0 0 M501.501 1452.77 Q497.89 1452.77 496.061 1456.34 Q494.256 1459.88 494.256 1467.01 Q494.256 1474.11 496.061 1477.68 Q497.89 1481.22 501.501 1481.22 Q505.135 1481.22 506.941 1477.68 Q508.769 1474.11 508.769 1467.01 Q508.769 1459.88 506.941 1456.34 Q505.135 1452.77 501.501 1452.77 M501.501 1449.07 Q507.311 1449.07 510.367 1453.67 Q513.445 1458.26 513.445 1467.01 Q513.445 1475.73 510.367 1480.34 Q507.311 1484.92 501.501 1484.92 Q495.691 1484.92 492.612 1480.34 Q489.557 1475.73 489.557 1467.01 Q489.557 1458.26 492.612 1453.67 Q495.691 1449.07 501.501 1449.07 Z\" fill=\"#000000\" fill-rule=\"evenodd\" fill-opacity=\"1\" /><path clip-path=\"url(#clip7900)\" d=\"M 0 0 M528.515 1467.84 Q525.181 1467.84 523.26 1469.62 Q521.362 1471.4 521.362 1474.53 Q521.362 1477.65 523.26 1479.44 Q525.181 1481.22 528.515 1481.22 Q531.848 1481.22 533.769 1479.44 Q535.691 1477.63 535.691 1474.53 Q535.691 1471.4 533.769 1469.62 Q531.871 1467.84 528.515 1467.84 M523.839 1465.85 Q520.83 1465.11 519.14 1463.05 Q517.473 1460.99 517.473 1458.03 Q517.473 1453.88 520.413 1451.47 Q523.376 1449.07 528.515 1449.07 Q533.677 1449.07 536.616 1451.47 Q539.556 1453.88 539.556 1458.03 Q539.556 1460.99 537.866 1463.05 Q536.2 1465.11 533.214 1465.85 Q536.593 1466.64 538.468 1468.93 Q540.366 1471.22 540.366 1474.53 Q540.366 1479.55 537.288 1482.24 Q534.232 1484.92 528.515 1484.92 Q522.797 1484.92 519.718 1482.24 Q516.663 1479.55 516.663 1474.53 Q516.663 1471.22 518.561 1468.93 Q520.459 1466.64 523.839 1465.85 M522.126 1458.46 Q522.126 1461.15 523.792 1462.65 Q525.482 1464.16 528.515 1464.16 Q531.524 1464.16 533.214 1462.65 Q534.927 1461.15 534.927 1458.46 Q534.927 1455.78 533.214 1454.28 Q531.524 1452.77 528.515 1452.77 Q525.482 1452.77 523.792 1454.28 Q522.126 1455.78 522.126 1458.46 Z\" fill=\"#000000\" fill-rule=\"evenodd\" fill-opacity=\"1\" /><path clip-path=\"url(#clip7900)\" d=\"M 0 0 M552.403 1449.69 L556.339 1449.69 L544.302 1488.65 L540.366 1488.65 L552.403 1449.69 Z\" fill=\"#000000\" fill-rule=\"evenodd\" fill-opacity=\"1\" /><path clip-path=\"url(#clip7900)\" d=\"M 0 0 M575.575 1465.62 Q578.931 1466.34 580.806 1468.6 Q582.704 1470.87 582.704 1474.21 Q582.704 1479.32 579.186 1482.12 Q575.667 1484.92 569.186 1484.92 Q567.01 1484.92 564.695 1484.48 Q562.403 1484.07 559.95 1483.21 L559.95 1478.7 Q561.894 1479.83 564.209 1480.41 Q566.524 1480.99 569.047 1480.99 Q573.445 1480.99 575.737 1479.25 Q578.051 1477.52 578.051 1474.21 Q578.051 1471.15 575.899 1469.44 Q573.769 1467.7 569.95 1467.7 L565.922 1467.7 L565.922 1463.86 L570.135 1463.86 Q573.584 1463.86 575.413 1462.49 Q577.241 1461.1 577.241 1458.51 Q577.241 1455.85 575.343 1454.44 Q573.468 1453 569.95 1453 Q568.028 1453 565.829 1453.42 Q563.63 1453.84 560.991 1454.71 L560.991 1450.55 Q563.653 1449.81 565.968 1449.44 Q568.306 1449.07 570.366 1449.07 Q575.69 1449.07 578.792 1451.5 Q581.894 1453.9 581.894 1458.03 Q581.894 1460.9 580.251 1462.89 Q578.607 1464.85 575.575 1465.62 Z\" fill=\"#000000\" fill-rule=\"evenodd\" fill-opacity=\"1\" /><path clip-path=\"url(#clip7900)\" d=\"M 0 0 M597.774 1452.77 Q594.162 1452.77 592.334 1456.34 Q590.528 1459.88 590.528 1467.01 Q590.528 1474.11 592.334 1477.68 Q594.162 1481.22 597.774 1481.22 Q601.408 1481.22 603.213 1477.68 Q605.042 1474.11 605.042 1467.01 Q605.042 1459.88 603.213 1456.34 Q601.408 1452.77 597.774 1452.77 M597.774 1449.07 Q603.584 1449.07 606.639 1453.67 Q609.718 1458.26 609.718 1467.01 Q609.718 1475.73 606.639 1480.34 Q603.584 1484.92 597.774 1484.92 Q591.963 1484.92 588.885 1480.34 Q585.829 1475.73 585.829 1467.01 Q585.829 1458.26 588.885 1453.67 Q591.963 1449.07 597.774 1449.07 Z\" fill=\"#000000\" fill-rule=\"evenodd\" fill-opacity=\"1\" /><path clip-path=\"url(#clip7900)\" d=\"M 0 0 M628.954 1465.62 Q632.31 1466.34 634.185 1468.6 Q636.084 1470.87 636.084 1474.21 Q636.084 1479.32 632.565 1482.12 Q629.047 1484.92 622.565 1484.92 Q620.389 1484.92 618.074 1484.48 Q615.783 1484.07 613.329 1483.21 L613.329 1478.7 Q615.273 1479.83 617.588 1480.41 Q619.903 1480.99 622.426 1480.99 Q626.824 1480.99 629.116 1479.25 Q631.431 1477.52 631.431 1474.21 Q631.431 1471.15 629.278 1469.44 Q627.148 1467.7 623.329 1467.7 L619.301 1467.7 L619.301 1463.86 L623.514 1463.86 Q626.963 1463.86 628.792 1462.49 Q630.621 1461.1 630.621 1458.51 Q630.621 1455.85 628.722 1454.44 Q626.847 1453 623.329 1453 Q621.408 1453 619.209 1453.42 Q617.01 1453.84 614.371 1454.71 L614.371 1450.55 Q617.033 1449.81 619.348 1449.44 Q621.685 1449.07 623.746 1449.07 Q629.07 1449.07 632.172 1451.5 Q635.273 1453.9 635.273 1458.03 Q635.273 1460.9 633.63 1462.89 Q631.986 1464.85 628.954 1465.62 Z\" fill=\"#000000\" fill-rule=\"evenodd\" fill-opacity=\"1\" /><path clip-path=\"url(#clip7900)\" d=\"M 0 0 M737.607 1452.77 Q733.996 1452.77 732.168 1456.34 Q730.362 1459.88 730.362 1467.01 Q730.362 1474.11 732.168 1477.68 Q733.996 1481.22 737.607 1481.22 Q741.242 1481.22 743.047 1477.68 Q744.876 1474.11 744.876 1467.01 Q744.876 1459.88 743.047 1456.34 Q741.242 1452.77 737.607 1452.77 M737.607 1449.07 Q743.417 1449.07 746.473 1453.67 Q749.552 1458.26 749.552 1467.01 Q749.552 1475.73 746.473 1480.34 Q743.417 1484.92 737.607 1484.92 Q731.797 1484.92 728.718 1480.34 Q725.663 1475.73 725.663 1467.01 Q725.663 1458.26 728.718 1453.67 Q731.797 1449.07 737.607 1449.07 Z\" fill=\"#000000\" fill-rule=\"evenodd\" fill-opacity=\"1\" /><path clip-path=\"url(#clip7900)\" d=\"M 0 0 M754.76 1483.53 L754.76 1479.28 Q756.519 1480.11 758.325 1480.55 Q760.13 1480.99 761.866 1480.99 Q766.496 1480.99 768.927 1477.89 Q771.38 1474.76 771.728 1468.42 Q770.385 1470.41 768.325 1471.47 Q766.265 1472.54 763.765 1472.54 Q758.579 1472.54 755.547 1469.41 Q752.538 1466.27 752.538 1460.83 Q752.538 1455.5 755.686 1452.28 Q758.834 1449.07 764.066 1449.07 Q770.061 1449.07 773.209 1453.67 Q776.38 1458.26 776.38 1467.01 Q776.38 1475.18 772.491 1480.06 Q768.626 1484.92 762.075 1484.92 Q760.316 1484.92 758.51 1484.58 Q756.704 1484.23 754.76 1483.53 M764.066 1468.88 Q767.214 1468.88 769.042 1466.73 Q770.894 1464.58 770.894 1460.83 Q770.894 1457.1 769.042 1454.95 Q767.214 1452.77 764.066 1452.77 Q760.917 1452.77 759.066 1454.95 Q757.237 1457.1 757.237 1460.83 Q757.237 1464.58 759.066 1466.73 Q760.917 1468.88 764.066 1468.88 Z\" fill=\"#000000\" fill-rule=\"evenodd\" fill-opacity=\"1\" /><path clip-path=\"url(#clip7900)\" d=\"M 0 0 M788.417 1449.69 L792.352 1449.69 L780.315 1488.65 L776.38 1488.65 L788.417 1449.69 Z\" fill=\"#000000\" fill-rule=\"evenodd\" fill-opacity=\"1\" /><path clip-path=\"url(#clip7900)\" d=\"M 0 0 M801.45 1480.32 L817.769 1480.32 L817.769 1484.25 L795.825 1484.25 L795.825 1480.32 Q798.487 1477.56 803.07 1472.93 Q807.676 1468.28 808.857 1466.94 Q811.102 1464.41 811.982 1462.68 Q812.885 1460.92 812.885 1459.23 Q812.885 1456.47 810.94 1454.74 Q809.019 1453 805.917 1453 Q803.718 1453 801.264 1453.77 Q798.834 1454.53 796.056 1456.08 L796.056 1451.36 Q798.88 1450.22 801.334 1449.65 Q803.788 1449.07 805.825 1449.07 Q811.195 1449.07 814.389 1451.75 Q817.584 1454.44 817.584 1458.93 Q817.584 1461.06 816.774 1462.98 Q815.987 1464.88 813.88 1467.47 Q813.301 1468.14 810.2 1471.36 Q807.098 1474.55 801.45 1480.32 Z\" fill=\"#000000\" fill-rule=\"evenodd\" fill-opacity=\"1\" /><path clip-path=\"url(#clip7900)\" d=\"M 0 0 M832.838 1452.77 Q829.227 1452.77 827.399 1456.34 Q825.593 1459.88 825.593 1467.01 Q825.593 1474.11 827.399 1477.68 Q829.227 1481.22 832.838 1481.22 Q836.473 1481.22 838.278 1477.68 Q840.107 1474.11 840.107 1467.01 Q840.107 1459.88 838.278 1456.34 Q836.473 1452.77 832.838 1452.77 M832.838 1449.07 Q838.648 1449.07 841.704 1453.67 Q844.783 1458.26 844.783 1467.01 Q844.783 1475.73 841.704 1480.34 Q838.648 1484.92 832.838 1484.92 Q827.028 1484.92 823.949 1480.34 Q820.894 1475.73 820.894 1467.01 Q820.894 1458.26 823.949 1453.67 Q827.028 1449.07 832.838 1449.07 Z\" fill=\"#000000\" fill-rule=\"evenodd\" fill-opacity=\"1\" /><path clip-path=\"url(#clip7900)\" d=\"M 0 0 M853.88 1480.32 L870.199 1480.32 L870.199 1484.25 L848.255 1484.25 L848.255 1480.32 Q850.917 1477.56 855.5 1472.93 Q860.107 1468.28 861.287 1466.94 Q863.533 1464.41 864.412 1462.68 Q865.315 1460.92 865.315 1459.23 Q865.315 1456.47 863.371 1454.74 Q861.449 1453 858.347 1453 Q856.148 1453 853.695 1453.77 Q851.264 1454.53 848.486 1456.08 L848.486 1451.36 Q851.31 1450.22 853.764 1449.65 Q856.218 1449.07 858.255 1449.07 Q863.625 1449.07 866.82 1451.75 Q870.014 1454.44 870.014 1458.93 Q870.014 1461.06 869.204 1462.98 Q868.417 1464.88 866.31 1467.47 Q865.732 1468.14 862.63 1471.36 Q859.528 1474.55 853.88 1480.32 Z\" fill=\"#000000\" fill-rule=\"evenodd\" fill-opacity=\"1\" /><path clip-path=\"url(#clip7900)\" d=\"M 0 0 M984.196 1480.32 L991.835 1480.32 L991.835 1453.95 L983.525 1455.62 L983.525 1451.36 L991.789 1449.69 L996.465 1449.69 L996.465 1480.32 L1004.1 1480.32 L1004.1 1484.25 L984.196 1484.25 L984.196 1480.32 Z\" fill=\"#000000\" fill-rule=\"evenodd\" fill-opacity=\"1\" /><path clip-path=\"url(#clip7900)\" d=\"M 0 0 M1019.17 1452.77 Q1015.56 1452.77 1013.73 1456.34 Q1011.93 1459.88 1011.93 1467.01 Q1011.93 1474.11 1013.73 1477.68 Q1015.56 1481.22 1019.17 1481.22 Q1022.81 1481.22 1024.61 1477.68 Q1026.44 1474.11 1026.44 1467.01 Q1026.44 1459.88 1024.61 1456.34 Q1022.81 1452.77 1019.17 1452.77 M1019.17 1449.07 Q1024.98 1449.07 1028.04 1453.67 Q1031.12 1458.26 1031.12 1467.01 Q1031.12 1475.73 1028.04 1480.34 Q1024.98 1484.92 1019.17 1484.92 Q1013.36 1484.92 1010.28 1480.34 Q1007.23 1475.73 1007.23 1467.01 Q1007.23 1458.26 1010.28 1453.67 Q1013.36 1449.07 1019.17 1449.07 Z\" fill=\"#000000\" fill-rule=\"evenodd\" fill-opacity=\"1\" /><path clip-path=\"url(#clip7900)\" d=\"M 0 0 M1043.15 1449.69 L1047.09 1449.69 L1035.05 1488.65 L1031.12 1488.65 L1043.15 1449.69 Z\" fill=\"#000000\" fill-rule=\"evenodd\" fill-opacity=\"1\" /><path clip-path=\"url(#clip7900)\" d=\"M 0 0 M1056.19 1480.32 L1072.51 1480.32 L1072.51 1484.25 L1050.56 1484.25 L1050.56 1480.32 Q1053.22 1477.56 1057.81 1472.93 Q1062.41 1468.28 1063.59 1466.94 Q1065.84 1464.41 1066.72 1462.68 Q1067.62 1460.92 1067.62 1459.23 Q1067.62 1456.47 1065.68 1454.74 Q1063.76 1453 1060.65 1453 Q1058.46 1453 1056 1453.77 Q1053.57 1454.53 1050.79 1456.08 L1050.79 1451.36 Q1053.62 1450.22 1056.07 1449.65 Q1058.52 1449.07 1060.56 1449.07 Q1065.93 1449.07 1069.13 1451.75 Q1072.32 1454.44 1072.32 1458.93 Q1072.32 1461.06 1071.51 1462.98 Q1070.72 1464.88 1068.62 1467.47 Q1068.04 1468.14 1064.94 1471.36 Q1061.83 1474.55 1056.19 1480.32 Z\" fill=\"#000000\" fill-rule=\"evenodd\" fill-opacity=\"1\" /><path clip-path=\"url(#clip7900)\" d=\"M 0 0 M1087.58 1452.77 Q1083.96 1452.77 1082.14 1456.34 Q1080.33 1459.88 1080.33 1467.01 Q1080.33 1474.11 1082.14 1477.68 Q1083.96 1481.22 1087.58 1481.22 Q1091.21 1481.22 1093.02 1477.68 Q1094.84 1474.11 1094.84 1467.01 Q1094.84 1459.88 1093.02 1456.34 Q1091.21 1452.77 1087.58 1452.77 M1087.58 1449.07 Q1093.39 1449.07 1096.44 1453.67 Q1099.52 1458.26 1099.52 1467.01 Q1099.52 1475.73 1096.44 1480.34 Q1093.39 1484.92 1087.58 1484.92 Q1081.77 1484.92 1078.69 1480.34 Q1075.63 1475.73 1075.63 1467.01 Q1075.63 1458.26 1078.69 1453.67 Q1081.77 1449.07 1087.58 1449.07 Z\" fill=\"#000000\" fill-rule=\"evenodd\" fill-opacity=\"1\" /><path clip-path=\"url(#clip7900)\" d=\"M 0 0 M1105.4 1480.32 L1113.04 1480.32 L1113.04 1453.95 L1104.73 1455.62 L1104.73 1451.36 L1112.99 1449.69 L1117.67 1449.69 L1117.67 1480.32 L1125.31 1480.32 L1125.31 1484.25 L1105.4 1484.25 L1105.4 1480.32 Z\" fill=\"#000000\" fill-rule=\"evenodd\" fill-opacity=\"1\" /><path clip-path=\"url(#clip7900)\" d=\"M 0 0 M1219.45 1480.32 L1227.09 1480.32 L1227.09 1453.95 L1218.77 1455.62 L1218.77 1451.36 L1227.04 1449.69 L1231.71 1449.69 L1231.71 1480.32 L1239.35 1480.32 L1239.35 1484.25 L1219.45 1484.25 L1219.45 1480.32 Z\" fill=\"#000000\" fill-rule=\"evenodd\" fill-opacity=\"1\" /><path clip-path=\"url(#clip7900)\" d=\"M 0 0 M1245.23 1480.32 L1252.87 1480.32 L1252.87 1453.95 L1244.56 1455.62 L1244.56 1451.36 L1252.83 1449.69 L1257.5 1449.69 L1257.5 1480.32 L1265.14 1480.32 L1265.14 1484.25 L1245.23 1484.25 L1245.23 1480.32 Z\" fill=\"#000000\" fill-rule=\"evenodd\" fill-opacity=\"1\" /><path clip-path=\"url(#clip7900)\" d=\"M 0 0 M1277.18 1449.69 L1281.11 1449.69 L1269.08 1488.65 L1265.14 1488.65 L1277.18 1449.69 Z\" fill=\"#000000\" fill-rule=\"evenodd\" fill-opacity=\"1\" /><path clip-path=\"url(#clip7900)\" d=\"M 0 0 M1286.99 1480.32 L1294.63 1480.32 L1294.63 1453.95 L1286.32 1455.62 L1286.32 1451.36 L1294.58 1449.69 L1299.26 1449.69 L1299.26 1480.32 L1306.9 1480.32 L1306.9 1484.25 L1286.99 1484.25 L1286.99 1480.32 Z\" fill=\"#000000\" fill-rule=\"evenodd\" fill-opacity=\"1\" /><path clip-path=\"url(#clip7900)\" d=\"M 0 0 M1321.97 1452.77 Q1318.36 1452.77 1316.53 1456.34 Q1314.72 1459.88 1314.72 1467.01 Q1314.72 1474.11 1316.53 1477.68 Q1318.36 1481.22 1321.97 1481.22 Q1325.6 1481.22 1327.41 1477.68 Q1329.24 1474.11 1329.24 1467.01 Q1329.24 1459.88 1327.41 1456.34 Q1325.6 1452.77 1321.97 1452.77 M1321.97 1449.07 Q1327.78 1449.07 1330.83 1453.67 Q1333.91 1458.26 1333.91 1467.01 Q1333.91 1475.73 1330.83 1480.34 Q1327.78 1484.92 1321.97 1484.92 Q1316.16 1484.92 1313.08 1480.34 Q1310.02 1475.73 1310.02 1467.01 Q1310.02 1458.26 1313.08 1453.67 Q1316.16 1449.07 1321.97 1449.07 Z\" fill=\"#000000\" fill-rule=\"evenodd\" fill-opacity=\"1\" /><path clip-path=\"url(#clip7900)\" d=\"M 0 0 M1353.15 1465.62 Q1356.51 1466.34 1358.38 1468.6 Q1360.28 1470.87 1360.28 1474.21 Q1360.28 1479.32 1356.76 1482.12 Q1353.24 1484.92 1346.76 1484.92 Q1344.58 1484.92 1342.27 1484.48 Q1339.98 1484.07 1337.52 1483.21 L1337.52 1478.7 Q1339.47 1479.83 1341.78 1480.41 Q1344.1 1480.99 1346.62 1480.99 Q1351.02 1480.99 1353.31 1479.25 Q1355.63 1477.52 1355.63 1474.21 Q1355.63 1471.15 1353.47 1469.44 Q1351.34 1467.7 1347.52 1467.7 L1343.5 1467.7 L1343.5 1463.86 L1347.71 1463.86 Q1351.16 1463.86 1352.99 1462.49 Q1354.82 1461.1 1354.82 1458.51 Q1354.82 1455.85 1352.92 1454.44 Q1351.04 1453 1347.52 1453 Q1345.6 1453 1343.4 1453.42 Q1341.2 1453.84 1338.57 1454.71 L1338.57 1450.55 Q1341.23 1449.81 1343.54 1449.44 Q1345.88 1449.07 1347.94 1449.07 Q1353.26 1449.07 1356.37 1451.5 Q1359.47 1453.9 1359.47 1458.03 Q1359.47 1460.9 1357.83 1462.89 Q1356.18 1464.85 1353.15 1465.62 Z\" fill=\"#000000\" fill-rule=\"evenodd\" fill-opacity=\"1\" /><path clip-path=\"url(#clip7900)\" d=\"M 0 0 M1476.12 1480.32 L1483.76 1480.32 L1483.76 1453.95 L1475.44 1455.62 L1475.44 1451.36 L1483.71 1449.69 L1488.38 1449.69 L1488.38 1480.32 L1496.02 1480.32 L1496.02 1484.25 L1476.12 1484.25 L1476.12 1480.32 Z\" fill=\"#000000\" fill-rule=\"evenodd\" fill-opacity=\"1\" /><path clip-path=\"url(#clip7900)\" d=\"M 0 0 M1505.12 1480.32 L1521.44 1480.32 L1521.44 1484.25 L1499.5 1484.25 L1499.5 1480.32 Q1502.16 1477.56 1506.74 1472.93 Q1511.35 1468.28 1512.53 1466.94 Q1514.77 1464.41 1515.65 1462.68 Q1516.56 1460.92 1516.56 1459.23 Q1516.56 1456.47 1514.61 1454.74 Q1512.69 1453 1509.59 1453 Q1507.39 1453 1504.94 1453.77 Q1502.5 1454.53 1499.73 1456.08 L1499.73 1451.36 Q1502.55 1450.22 1505 1449.65 Q1507.46 1449.07 1509.5 1449.07 Q1514.87 1449.07 1518.06 1451.75 Q1521.25 1454.44 1521.25 1458.93 Q1521.25 1461.06 1520.44 1462.98 Q1519.66 1464.88 1517.55 1467.47 Q1516.97 1468.14 1513.87 1471.36 Q1510.77 1474.55 1505.12 1480.32 Z\" fill=\"#000000\" fill-rule=\"evenodd\" fill-opacity=\"1\" /><path clip-path=\"url(#clip7900)\" d=\"M 0 0 M1533.48 1449.69 L1537.41 1449.69 L1525.38 1488.65 L1521.44 1488.65 L1533.48 1449.69 Z\" fill=\"#000000\" fill-rule=\"evenodd\" fill-opacity=\"1\" /><path clip-path=\"url(#clip7900)\" d=\"M 0 0 M1543.29 1480.32 L1550.93 1480.32 L1550.93 1453.95 L1542.62 1455.62 L1542.62 1451.36 L1550.88 1449.69 L1555.56 1449.69 L1555.56 1480.32 L1563.2 1480.32 L1563.2 1484.25 L1543.29 1484.25 L1543.29 1480.32 Z\" fill=\"#000000\" fill-rule=\"evenodd\" fill-opacity=\"1\" /><path clip-path=\"url(#clip7900)\" d=\"M 0 0 M1578.27 1452.77 Q1574.66 1452.77 1572.83 1456.34 Q1571.02 1459.88 1571.02 1467.01 Q1571.02 1474.11 1572.83 1477.68 Q1574.66 1481.22 1578.27 1481.22 Q1581.9 1481.22 1583.71 1477.68 Q1585.54 1474.11 1585.54 1467.01 Q1585.54 1459.88 1583.71 1456.34 Q1581.9 1452.77 1578.27 1452.77 M1578.27 1449.07 Q1584.08 1449.07 1587.13 1453.67 Q1590.21 1458.26 1590.21 1467.01 Q1590.21 1475.73 1587.13 1480.34 Q1584.08 1484.92 1578.27 1484.92 Q1572.46 1484.92 1569.38 1480.34 Q1566.32 1475.73 1566.32 1467.01 Q1566.32 1458.26 1569.38 1453.67 Q1572.46 1449.07 1578.27 1449.07 Z\" fill=\"#000000\" fill-rule=\"evenodd\" fill-opacity=\"1\" /><path clip-path=\"url(#clip7900)\" d=\"M 0 0 M1609.45 1465.62 Q1612.81 1466.34 1614.68 1468.6 Q1616.58 1470.87 1616.58 1474.21 Q1616.58 1479.32 1613.06 1482.12 Q1609.54 1484.92 1603.06 1484.92 Q1600.88 1484.92 1598.57 1484.48 Q1596.28 1484.07 1593.82 1483.21 L1593.82 1478.7 Q1595.77 1479.83 1598.08 1480.41 Q1600.4 1480.99 1602.92 1480.99 Q1607.32 1480.99 1609.61 1479.25 Q1611.93 1477.52 1611.93 1474.21 Q1611.93 1471.15 1609.77 1469.44 Q1607.64 1467.7 1603.82 1467.7 L1599.8 1467.7 L1599.8 1463.86 L1604.01 1463.86 Q1607.46 1463.86 1609.29 1462.49 Q1611.12 1461.1 1611.12 1458.51 Q1611.12 1455.85 1609.22 1454.44 Q1607.34 1453 1603.82 1453 Q1601.9 1453 1599.7 1453.42 Q1597.5 1453.84 1594.87 1454.71 L1594.87 1450.55 Q1597.53 1449.81 1599.84 1449.44 Q1602.18 1449.07 1604.24 1449.07 Q1609.56 1449.07 1612.67 1451.5 Q1615.77 1453.9 1615.77 1458.03 Q1615.77 1460.9 1614.12 1462.89 Q1612.48 1464.85 1609.45 1465.62 Z\" fill=\"#000000\" fill-rule=\"evenodd\" fill-opacity=\"1\" /><path clip-path=\"url(#clip7900)\" d=\"M 0 0 M1698.52 1480.32 L1706.16 1480.32 L1706.16 1453.95 L1697.85 1455.62 L1697.85 1451.36 L1706.11 1449.69 L1710.79 1449.69 L1710.79 1480.32 L1718.43 1480.32 L1718.43 1484.25 L1698.52 1484.25 L1698.52 1480.32 Z\" fill=\"#000000\" fill-rule=\"evenodd\" fill-opacity=\"1\" /><path clip-path=\"url(#clip7900)\" d=\"M 0 0 M1727.52 1480.32 L1743.84 1480.32 L1743.84 1484.25 L1721.9 1484.25 L1721.9 1480.32 Q1724.56 1477.56 1729.14 1472.93 Q1733.75 1468.28 1734.93 1466.94 Q1737.18 1464.41 1738.06 1462.68 Q1738.96 1460.92 1738.96 1459.23 Q1738.96 1456.47 1737.01 1454.74 Q1735.09 1453 1731.99 1453 Q1729.79 1453 1727.34 1453.77 Q1724.91 1454.53 1722.13 1456.08 L1722.13 1451.36 Q1724.95 1450.22 1727.41 1449.65 Q1729.86 1449.07 1731.9 1449.07 Q1737.27 1449.07 1740.46 1451.75 Q1743.66 1454.44 1743.66 1458.93 Q1743.66 1461.06 1742.85 1462.98 Q1742.06 1464.88 1739.95 1467.47 Q1739.38 1468.14 1736.27 1471.36 Q1733.17 1474.55 1727.52 1480.32 Z\" fill=\"#000000\" fill-rule=\"evenodd\" fill-opacity=\"1\" /><path clip-path=\"url(#clip7900)\" d=\"M 0 0 M1755.88 1449.69 L1759.81 1449.69 L1747.78 1488.65 L1743.84 1488.65 L1755.88 1449.69 Z\" fill=\"#000000\" fill-rule=\"evenodd\" fill-opacity=\"1\" /><path clip-path=\"url(#clip7900)\" d=\"M 0 0 M1765.69 1480.32 L1773.33 1480.32 L1773.33 1453.95 L1765.02 1455.62 L1765.02 1451.36 L1773.29 1449.69 L1777.96 1449.69 L1777.96 1480.32 L1785.6 1480.32 L1785.6 1484.25 L1765.69 1484.25 L1765.69 1480.32 Z\" fill=\"#000000\" fill-rule=\"evenodd\" fill-opacity=\"1\" /><path clip-path=\"url(#clip7900)\" d=\"M 0 0 M1794.7 1480.32 L1811.02 1480.32 L1811.02 1484.25 L1789.07 1484.25 L1789.07 1480.32 Q1791.74 1477.56 1796.32 1472.93 Q1800.93 1468.28 1802.11 1466.94 Q1804.35 1464.41 1805.23 1462.68 Q1806.13 1460.92 1806.13 1459.23 Q1806.13 1456.47 1804.19 1454.74 Q1802.27 1453 1799.17 1453 Q1796.97 1453 1794.51 1453.77 Q1792.08 1454.53 1789.31 1456.08 L1789.31 1451.36 Q1792.13 1450.22 1794.58 1449.65 Q1797.04 1449.07 1799.07 1449.07 Q1804.44 1449.07 1807.64 1451.75 Q1810.83 1454.44 1810.83 1458.93 Q1810.83 1461.06 1810.02 1462.98 Q1809.24 1464.88 1807.13 1467.47 Q1806.55 1468.14 1803.45 1471.36 Q1800.35 1474.55 1794.7 1480.32 Z\" fill=\"#000000\" fill-rule=\"evenodd\" fill-opacity=\"1\" /><path clip-path=\"url(#clip7900)\" d=\"M 0 0 M1826.09 1452.77 Q1822.48 1452.77 1820.65 1456.34 Q1818.84 1459.88 1818.84 1467.01 Q1818.84 1474.11 1820.65 1477.68 Q1822.48 1481.22 1826.09 1481.22 Q1829.72 1481.22 1831.53 1477.68 Q1833.36 1474.11 1833.36 1467.01 Q1833.36 1459.88 1831.53 1456.34 Q1829.72 1452.77 1826.09 1452.77 M1826.09 1449.07 Q1831.9 1449.07 1834.95 1453.67 Q1838.03 1458.26 1838.03 1467.01 Q1838.03 1475.73 1834.95 1480.34 Q1831.9 1484.92 1826.09 1484.92 Q1820.28 1484.92 1817.2 1480.34 Q1814.14 1475.73 1814.14 1467.01 Q1814.14 1458.26 1817.2 1453.67 Q1820.28 1449.07 1826.09 1449.07 Z\" fill=\"#000000\" fill-rule=\"evenodd\" fill-opacity=\"1\" /><path clip-path=\"url(#clip7900)\" d=\"M 0 0 M1857.27 1465.62 Q1860.62 1466.34 1862.5 1468.6 Q1864.4 1470.87 1864.4 1474.21 Q1864.4 1479.32 1860.88 1482.12 Q1857.36 1484.92 1850.88 1484.92 Q1848.7 1484.92 1846.39 1484.48 Q1844.1 1484.07 1841.64 1483.21 L1841.64 1478.7 Q1843.59 1479.83 1845.9 1480.41 Q1848.22 1480.99 1850.74 1480.99 Q1855.14 1480.99 1857.43 1479.25 Q1859.74 1477.52 1859.74 1474.21 Q1859.74 1471.15 1857.59 1469.44 Q1855.46 1467.7 1851.64 1467.7 L1847.62 1467.7 L1847.62 1463.86 L1851.83 1463.86 Q1855.28 1463.86 1857.11 1462.49 Q1858.93 1461.1 1858.93 1458.51 Q1858.93 1455.85 1857.04 1454.44 Q1855.16 1453 1851.64 1453 Q1849.72 1453 1847.52 1453.42 Q1845.32 1453.84 1842.68 1454.71 L1842.68 1450.55 Q1845.35 1449.81 1847.66 1449.44 Q1850 1449.07 1852.06 1449.07 Q1857.38 1449.07 1860.49 1451.5 Q1863.59 1453.9 1863.59 1458.03 Q1863.59 1460.9 1861.94 1462.89 Q1860.3 1464.85 1857.27 1465.62 Z\" fill=\"#000000\" fill-rule=\"evenodd\" fill-opacity=\"1\" /><path clip-path=\"url(#clip7900)\" d=\"M 0 0 M1955 1480.32 L1962.64 1480.32 L1962.64 1453.95 L1954.33 1455.62 L1954.33 1451.36 L1962.6 1449.69 L1967.27 1449.69 L1967.27 1480.32 L1974.91 1480.32 L1974.91 1484.25 L1955 1484.25 L1955 1480.32 Z\" fill=\"#000000\" fill-rule=\"evenodd\" fill-opacity=\"1\" /><path clip-path=\"url(#clip7900)\" d=\"M 0 0 M1994.15 1465.62 Q1997.5 1466.34 1999.38 1468.6 Q2001.28 1470.87 2001.28 1474.21 Q2001.28 1479.32 1997.76 1482.12 Q1994.24 1484.92 1987.76 1484.92 Q1985.58 1484.92 1983.27 1484.48 Q1980.98 1484.07 1978.52 1483.21 L1978.52 1478.7 Q1980.47 1479.83 1982.78 1480.41 Q1985.1 1480.99 1987.62 1480.99 Q1992.02 1480.99 1994.31 1479.25 Q1996.62 1477.52 1996.62 1474.21 Q1996.62 1471.15 1994.47 1469.44 Q1992.34 1467.7 1988.52 1467.7 L1984.49 1467.7 L1984.49 1463.86 L1988.71 1463.86 Q1992.16 1463.86 1993.98 1462.49 Q1995.81 1461.1 1995.81 1458.51 Q1995.81 1455.85 1993.92 1454.44 Q1992.04 1453 1988.52 1453 Q1986.6 1453 1984.4 1453.42 Q1982.2 1453.84 1979.56 1454.71 L1979.56 1450.55 Q1982.23 1449.81 1984.54 1449.44 Q1986.88 1449.07 1988.94 1449.07 Q1994.26 1449.07 1997.36 1451.5 Q2000.47 1453.9 2000.47 1458.03 Q2000.47 1460.9 1998.82 1462.89 Q1997.18 1464.85 1994.15 1465.62 Z\" fill=\"#000000\" fill-rule=\"evenodd\" fill-opacity=\"1\" /><path clip-path=\"url(#clip7900)\" d=\"M 0 0 M2013.31 1449.69 L2017.25 1449.69 L2005.21 1488.65 L2001.28 1488.65 L2013.31 1449.69 Z\" fill=\"#000000\" fill-rule=\"evenodd\" fill-opacity=\"1\" /><path clip-path=\"url(#clip7900)\" d=\"M 0 0 M2023.13 1480.32 L2030.77 1480.32 L2030.77 1453.95 L2022.46 1455.62 L2022.46 1451.36 L2030.72 1449.69 L2035.4 1449.69 L2035.4 1480.32 L2043.04 1480.32 L2043.04 1484.25 L2023.13 1484.25 L2023.13 1480.32 Z\" fill=\"#000000\" fill-rule=\"evenodd\" fill-opacity=\"1\" /><path clip-path=\"url(#clip7900)\" d=\"M 0 0 M2052.13 1480.32 L2068.45 1480.32 L2068.45 1484.25 L2046.51 1484.25 L2046.51 1480.32 Q2049.17 1477.56 2053.75 1472.93 Q2058.36 1468.28 2059.54 1466.94 Q2061.79 1464.41 2062.67 1462.68 Q2063.57 1460.92 2063.57 1459.23 Q2063.57 1456.47 2061.62 1454.74 Q2059.7 1453 2056.6 1453 Q2054.4 1453 2051.95 1453.77 Q2049.52 1454.53 2046.74 1456.08 L2046.74 1451.36 Q2049.56 1450.22 2052.02 1449.65 Q2054.47 1449.07 2056.51 1449.07 Q2061.88 1449.07 2065.07 1451.75 Q2068.27 1454.44 2068.27 1458.93 Q2068.27 1461.06 2067.46 1462.98 Q2066.67 1464.88 2064.56 1467.47 Q2063.98 1468.14 2060.88 1471.36 Q2057.78 1474.55 2052.13 1480.32 Z\" fill=\"#000000\" fill-rule=\"evenodd\" fill-opacity=\"1\" /><path clip-path=\"url(#clip7900)\" d=\"M 0 0 M2083.52 1452.77 Q2079.91 1452.77 2078.08 1456.34 Q2076.28 1459.88 2076.28 1467.01 Q2076.28 1474.11 2078.08 1477.68 Q2079.91 1481.22 2083.52 1481.22 Q2087.16 1481.22 2088.96 1477.68 Q2090.79 1474.11 2090.79 1467.01 Q2090.79 1459.88 2088.96 1456.34 Q2087.16 1452.77 2083.52 1452.77 M2083.52 1449.07 Q2089.33 1449.07 2092.39 1453.67 Q2095.47 1458.26 2095.47 1467.01 Q2095.47 1475.73 2092.39 1480.34 Q2089.33 1484.92 2083.52 1484.92 Q2077.71 1484.92 2074.63 1480.34 Q2071.58 1475.73 2071.58 1467.01 Q2071.58 1458.26 2074.63 1453.67 Q2077.71 1449.07 2083.52 1449.07 Z\" fill=\"#000000\" fill-rule=\"evenodd\" fill-opacity=\"1\" /><path clip-path=\"url(#clip7900)\" d=\"M 0 0 M2104.56 1480.32 L2120.88 1480.32 L2120.88 1484.25 L2098.94 1484.25 L2098.94 1480.32 Q2101.6 1477.56 2106.18 1472.93 Q2110.79 1468.28 2111.97 1466.94 Q2114.22 1464.41 2115.1 1462.68 Q2116 1460.92 2116 1459.23 Q2116 1456.47 2114.05 1454.74 Q2112.13 1453 2109.03 1453 Q2106.83 1453 2104.38 1453.77 Q2101.95 1454.53 2099.17 1456.08 L2099.17 1451.36 Q2101.99 1450.22 2104.45 1449.65 Q2106.9 1449.07 2108.94 1449.07 Q2114.31 1449.07 2117.5 1451.75 Q2120.7 1454.44 2120.7 1458.93 Q2120.7 1461.06 2119.89 1462.98 Q2119.1 1464.88 2116.99 1467.47 Q2116.41 1468.14 2113.31 1471.36 Q2110.21 1474.55 2104.56 1480.32 Z\" fill=\"#000000\" fill-rule=\"evenodd\" fill-opacity=\"1\" /><path clip-path=\"url(#clip7900)\" d=\"M 0 0 M2210.74 1480.32 L2218.38 1480.32 L2218.38 1453.95 L2210.06 1455.62 L2210.06 1451.36 L2218.33 1449.69 L2223 1449.69 L2223 1480.32 L2230.64 1480.32 L2230.64 1484.25 L2210.74 1484.25 L2210.74 1480.32 Z\" fill=\"#000000\" fill-rule=\"evenodd\" fill-opacity=\"1\" /><path clip-path=\"url(#clip7900)\" d=\"M 0 0 M2248.56 1453.77 L2236.75 1472.21 L2248.56 1472.21 L2248.56 1453.77 M2247.33 1449.69 L2253.21 1449.69 L2253.21 1472.21 L2258.14 1472.21 L2258.14 1476.1 L2253.21 1476.1 L2253.21 1484.25 L2248.56 1484.25 L2248.56 1476.1 L2232.96 1476.1 L2232.96 1471.59 L2247.33 1449.69 Z\" fill=\"#000000\" fill-rule=\"evenodd\" fill-opacity=\"1\" /><path clip-path=\"url(#clip7900)\" d=\"M 0 0 M2270.18 1449.69 L2274.12 1449.69 L2262.08 1488.65 L2258.14 1488.65 L2270.18 1449.69 Z\" fill=\"#000000\" fill-rule=\"evenodd\" fill-opacity=\"1\" /><path clip-path=\"url(#clip7900)\" d=\"M 0 0 M2280 1480.32 L2287.63 1480.32 L2287.63 1453.95 L2279.32 1455.62 L2279.32 1451.36 L2287.59 1449.69 L2292.26 1449.69 L2292.26 1480.32 L2299.9 1480.32 L2299.9 1484.25 L2280 1484.25 L2280 1480.32 Z\" fill=\"#000000\" fill-rule=\"evenodd\" fill-opacity=\"1\" /><path clip-path=\"url(#clip7900)\" d=\"M 0 0 M2309 1480.32 L2325.32 1480.32 L2325.32 1484.25 L2303.37 1484.25 L2303.37 1480.32 Q2306.04 1477.56 2310.62 1472.93 Q2315.23 1468.28 2316.41 1466.94 Q2318.65 1464.41 2319.53 1462.68 Q2320.43 1460.92 2320.43 1459.23 Q2320.43 1456.47 2318.49 1454.74 Q2316.57 1453 2313.47 1453 Q2311.27 1453 2308.81 1453.77 Q2306.38 1454.53 2303.61 1456.08 L2303.61 1451.36 Q2306.43 1450.22 2308.88 1449.65 Q2311.34 1449.07 2313.37 1449.07 Q2318.74 1449.07 2321.94 1451.75 Q2325.13 1454.44 2325.13 1458.93 Q2325.13 1461.06 2324.32 1462.98 Q2323.54 1464.88 2321.43 1467.47 Q2320.85 1468.14 2317.75 1471.36 Q2314.65 1474.55 2309 1480.32 Z\" fill=\"#000000\" fill-rule=\"evenodd\" fill-opacity=\"1\" /><path clip-path=\"url(#clip7900)\" d=\"M 0 0 M2340.39 1452.77 Q2336.78 1452.77 2334.95 1456.34 Q2333.14 1459.88 2333.14 1467.01 Q2333.14 1474.11 2334.95 1477.68 Q2336.78 1481.22 2340.39 1481.22 Q2344.02 1481.22 2345.83 1477.68 Q2347.66 1474.11 2347.66 1467.01 Q2347.66 1459.88 2345.83 1456.34 Q2344.02 1452.77 2340.39 1452.77 M2340.39 1449.07 Q2346.2 1449.07 2349.25 1453.67 Q2352.33 1458.26 2352.33 1467.01 Q2352.33 1475.73 2349.25 1480.34 Q2346.2 1484.92 2340.39 1484.92 Q2334.58 1484.92 2331.5 1480.34 Q2328.44 1475.73 2328.44 1467.01 Q2328.44 1458.26 2331.5 1453.67 Q2334.58 1449.07 2340.39 1449.07 Z\" fill=\"#000000\" fill-rule=\"evenodd\" fill-opacity=\"1\" /><path clip-path=\"url(#clip7900)\" d=\"M 0 0 M2358.21 1480.32 L2365.85 1480.32 L2365.85 1453.95 L2357.54 1455.62 L2357.54 1451.36 L2365.8 1449.69 L2370.48 1449.69 L2370.48 1480.32 L2378.12 1480.32 L2378.12 1484.25 L2358.21 1484.25 L2358.21 1480.32 Z\" fill=\"#000000\" fill-rule=\"evenodd\" fill-opacity=\"1\" /><path clip-path=\"url(#clip7900)\" d=\"M 0 0 M2446.59 1480.32 L2454.23 1480.32 L2454.23 1453.95 L2445.92 1455.62 L2445.92 1451.36 L2454.18 1449.69 L2458.86 1449.69 L2458.86 1480.32 L2466.5 1480.32 L2466.5 1484.25 L2446.59 1484.25 L2446.59 1480.32 Z\" fill=\"#000000\" fill-rule=\"evenodd\" fill-opacity=\"1\" /><path clip-path=\"url(#clip7900)\" d=\"M 0 0 M2471.61 1449.69 L2489.97 1449.69 L2489.97 1453.63 L2475.89 1453.63 L2475.89 1462.1 Q2476.91 1461.75 2477.93 1461.59 Q2478.95 1461.4 2479.97 1461.4 Q2485.75 1461.4 2489.13 1464.58 Q2492.51 1467.75 2492.51 1473.16 Q2492.51 1478.74 2489.04 1481.84 Q2485.57 1484.92 2479.25 1484.92 Q2477.07 1484.92 2474.81 1484.55 Q2472.56 1484.18 2470.15 1483.44 L2470.15 1478.74 Q2472.24 1479.88 2474.46 1480.43 Q2476.68 1480.99 2479.16 1480.99 Q2483.16 1480.99 2485.5 1478.88 Q2487.84 1476.78 2487.84 1473.16 Q2487.84 1469.55 2485.5 1467.45 Q2483.16 1465.34 2479.16 1465.34 Q2477.28 1465.34 2475.41 1465.76 Q2473.56 1466.17 2471.61 1467.05 L2471.61 1449.69 Z\" fill=\"#000000\" fill-rule=\"evenodd\" fill-opacity=\"1\" /><path clip-path=\"url(#clip7900)\" d=\"M 0 0 M2504.55 1449.69 L2508.49 1449.69 L2496.45 1488.65 L2492.51 1488.65 L2504.55 1449.69 Z\" fill=\"#000000\" fill-rule=\"evenodd\" fill-opacity=\"1\" /><path clip-path=\"url(#clip7900)\" d=\"M 0 0 M2514.37 1480.32 L2522 1480.32 L2522 1453.95 L2513.69 1455.62 L2513.69 1451.36 L2521.96 1449.69 L2526.63 1449.69 L2526.63 1480.32 L2534.27 1480.32 L2534.27 1484.25 L2514.37 1484.25 L2514.37 1480.32 Z\" fill=\"#000000\" fill-rule=\"evenodd\" fill-opacity=\"1\" /><path clip-path=\"url(#clip7900)\" d=\"M 0 0 M2540.15 1480.32 L2547.79 1480.32 L2547.79 1453.95 L2539.48 1455.62 L2539.48 1451.36 L2547.74 1449.69 L2552.42 1449.69 L2552.42 1480.32 L2560.06 1480.32 L2560.06 1484.25 L2540.15 1484.25 L2540.15 1480.32 Z\" fill=\"#000000\" fill-rule=\"evenodd\" fill-opacity=\"1\" /><path clip-path=\"url(#clip7900)\" d=\"M 0 0 M2575.13 1452.77 Q2571.52 1452.77 2569.69 1456.34 Q2567.88 1459.88 2567.88 1467.01 Q2567.88 1474.11 2569.69 1477.68 Q2571.52 1481.22 2575.13 1481.22 Q2578.76 1481.22 2580.57 1477.68 Q2582.4 1474.11 2582.4 1467.01 Q2582.4 1459.88 2580.57 1456.34 Q2578.76 1452.77 2575.13 1452.77 M2575.13 1449.07 Q2580.94 1449.07 2583.99 1453.67 Q2587.07 1458.26 2587.07 1467.01 Q2587.07 1475.73 2583.99 1480.34 Q2580.94 1484.92 2575.13 1484.92 Q2569.32 1484.92 2566.24 1480.34 Q2563.18 1475.73 2563.18 1467.01 Q2563.18 1458.26 2566.24 1453.67 Q2569.32 1449.07 2575.13 1449.07 Z\" fill=\"#000000\" fill-rule=\"evenodd\" fill-opacity=\"1\" /><path clip-path=\"url(#clip7900)\" d=\"M 0 0 M2596.17 1480.32 L2612.49 1480.32 L2612.49 1484.25 L2590.55 1484.25 L2590.55 1480.32 Q2593.21 1477.56 2597.79 1472.93 Q2602.4 1468.28 2603.58 1466.94 Q2605.82 1464.41 2606.7 1462.68 Q2607.61 1460.92 2607.61 1459.23 Q2607.61 1456.47 2605.66 1454.74 Q2603.74 1453 2600.64 1453 Q2598.44 1453 2595.99 1453.77 Q2593.55 1454.53 2590.78 1456.08 L2590.78 1451.36 Q2593.6 1450.22 2596.05 1449.65 Q2598.51 1449.07 2600.55 1449.07 Q2605.92 1449.07 2609.11 1451.75 Q2612.3 1454.44 2612.3 1458.93 Q2612.3 1461.06 2611.49 1462.98 Q2610.71 1464.88 2608.6 1467.47 Q2608.02 1468.14 2604.92 1471.36 Q2601.82 1474.55 2596.17 1480.32 Z\" fill=\"#000000\" fill-rule=\"evenodd\" fill-opacity=\"1\" /><path clip-path=\"url(#clip7900)\" d=\"M 0 0 M2702.31 1480.32 L2709.95 1480.32 L2709.95 1453.95 L2701.64 1455.62 L2701.64 1451.36 L2709.9 1449.69 L2714.58 1449.69 L2714.58 1480.32 L2722.22 1480.32 L2722.22 1484.25 L2702.31 1484.25 L2702.31 1480.32 Z\" fill=\"#000000\" fill-rule=\"evenodd\" fill-opacity=\"1\" /><path clip-path=\"url(#clip7900)\" d=\"M 0 0 M2737.86 1465.11 Q2734.72 1465.11 2732.86 1467.26 Q2731.04 1469.41 2731.04 1473.16 Q2731.04 1476.89 2732.86 1479.07 Q2734.72 1481.22 2737.86 1481.22 Q2741.01 1481.22 2742.84 1479.07 Q2744.69 1476.89 2744.69 1473.16 Q2744.69 1469.41 2742.84 1467.26 Q2741.01 1465.11 2737.86 1465.11 M2747.15 1450.46 L2747.15 1454.71 Q2745.39 1453.88 2743.58 1453.44 Q2741.8 1453 2740.04 1453 Q2735.41 1453 2732.96 1456.13 Q2730.53 1459.25 2730.18 1465.57 Q2731.54 1463.56 2733.6 1462.49 Q2735.67 1461.4 2738.14 1461.4 Q2743.35 1461.4 2746.36 1464.58 Q2749.39 1467.72 2749.39 1473.16 Q2749.39 1478.49 2746.24 1481.71 Q2743.1 1484.92 2737.86 1484.92 Q2731.87 1484.92 2728.7 1480.34 Q2725.53 1475.73 2725.53 1467.01 Q2725.53 1458.81 2729.42 1453.95 Q2733.3 1449.07 2739.85 1449.07 Q2741.61 1449.07 2743.4 1449.41 Q2745.2 1449.76 2747.15 1450.46 Z\" fill=\"#000000\" fill-rule=\"evenodd\" fill-opacity=\"1\" /><path clip-path=\"url(#clip7900)\" d=\"M 0 0 M2761.43 1449.69 L2765.36 1449.69 L2753.33 1488.65 L2749.39 1488.65 L2761.43 1449.69 Z\" fill=\"#000000\" fill-rule=\"evenodd\" fill-opacity=\"1\" /><path clip-path=\"url(#clip7900)\" d=\"M 0 0 M2771.24 1480.32 L2778.88 1480.32 L2778.88 1453.95 L2770.57 1455.62 L2770.57 1451.36 L2778.84 1449.69 L2783.51 1449.69 L2783.51 1480.32 L2791.15 1480.32 L2791.15 1484.25 L2771.24 1484.25 L2771.24 1480.32 Z\" fill=\"#000000\" fill-rule=\"evenodd\" fill-opacity=\"1\" /><path clip-path=\"url(#clip7900)\" d=\"M 0 0 M2797.03 1480.32 L2804.67 1480.32 L2804.67 1453.95 L2796.36 1455.62 L2796.36 1451.36 L2804.62 1449.69 L2809.3 1449.69 L2809.3 1480.32 L2816.94 1480.32 L2816.94 1484.25 L2797.03 1484.25 L2797.03 1480.32 Z\" fill=\"#000000\" fill-rule=\"evenodd\" fill-opacity=\"1\" /><path clip-path=\"url(#clip7900)\" d=\"M 0 0 M2832.01 1452.77 Q2828.4 1452.77 2826.57 1456.34 Q2824.76 1459.88 2824.76 1467.01 Q2824.76 1474.11 2826.57 1477.68 Q2828.4 1481.22 2832.01 1481.22 Q2835.64 1481.22 2837.45 1477.68 Q2839.28 1474.11 2839.28 1467.01 Q2839.28 1459.88 2837.45 1456.34 Q2835.64 1452.77 2832.01 1452.77 M2832.01 1449.07 Q2837.82 1449.07 2840.87 1453.67 Q2843.95 1458.26 2843.95 1467.01 Q2843.95 1475.73 2840.87 1480.34 Q2837.82 1484.92 2832.01 1484.92 Q2826.2 1484.92 2823.12 1480.34 Q2820.06 1475.73 2820.06 1467.01 Q2820.06 1458.26 2823.12 1453.67 Q2826.2 1449.07 2832.01 1449.07 Z\" fill=\"#000000\" fill-rule=\"evenodd\" fill-opacity=\"1\" /><path clip-path=\"url(#clip7900)\" d=\"M 0 0 M2849.83 1480.32 L2857.47 1480.32 L2857.47 1453.95 L2849.16 1455.62 L2849.16 1451.36 L2857.42 1449.69 L2862.1 1449.69 L2862.1 1480.32 L2869.74 1480.32 L2869.74 1484.25 L2849.83 1484.25 L2849.83 1480.32 Z\" fill=\"#000000\" fill-rule=\"evenodd\" fill-opacity=\"1\" /><path clip-path=\"url(#clip7900)\" d=\"M 0 0 M2937.52 1480.32 L2945.16 1480.32 L2945.16 1453.95 L2936.85 1455.62 L2936.85 1451.36 L2945.12 1449.69 L2949.79 1449.69 L2949.79 1480.32 L2957.43 1480.32 L2957.43 1484.25 L2937.52 1484.25 L2937.52 1480.32 Z\" fill=\"#000000\" fill-rule=\"evenodd\" fill-opacity=\"1\" /><path clip-path=\"url(#clip7900)\" d=\"M 0 0 M2961.32 1449.69 L2983.54 1449.69 L2983.54 1451.68 L2971 1484.25 L2966.11 1484.25 L2977.92 1453.63 L2961.32 1453.63 L2961.32 1449.69 Z\" fill=\"#000000\" fill-rule=\"evenodd\" fill-opacity=\"1\" /><path clip-path=\"url(#clip7900)\" d=\"M 0 0 M2995.58 1449.69 L2999.51 1449.69 L2987.48 1488.65 L2983.54 1488.65 L2995.58 1449.69 Z\" fill=\"#000000\" fill-rule=\"evenodd\" fill-opacity=\"1\" /><path clip-path=\"url(#clip7900)\" d=\"M 0 0 M3005.39 1480.32 L3013.03 1480.32 L3013.03 1453.95 L3004.72 1455.62 L3004.72 1451.36 L3012.99 1449.69 L3017.66 1449.69 L3017.66 1480.32 L3025.3 1480.32 L3025.3 1484.25 L3005.39 1484.25 L3005.39 1480.32 Z\" fill=\"#000000\" fill-rule=\"evenodd\" fill-opacity=\"1\" /><path clip-path=\"url(#clip7900)\" d=\"M 0 0 M3040.37 1452.77 Q3036.76 1452.77 3034.93 1456.34 Q3033.13 1459.88 3033.13 1467.01 Q3033.13 1474.11 3034.93 1477.68 Q3036.76 1481.22 3040.37 1481.22 Q3044 1481.22 3045.81 1477.68 Q3047.64 1474.11 3047.64 1467.01 Q3047.64 1459.88 3045.81 1456.34 Q3044 1452.77 3040.37 1452.77 M3040.37 1449.07 Q3046.18 1449.07 3049.24 1453.67 Q3052.32 1458.26 3052.32 1467.01 Q3052.32 1475.73 3049.24 1480.34 Q3046.18 1484.92 3040.37 1484.92 Q3034.56 1484.92 3031.48 1480.34 Q3028.43 1475.73 3028.43 1467.01 Q3028.43 1458.26 3031.48 1453.67 Q3034.56 1449.07 3040.37 1449.07 Z\" fill=\"#000000\" fill-rule=\"evenodd\" fill-opacity=\"1\" /><path clip-path=\"url(#clip7900)\" d=\"M 0 0 M3067.38 1452.77 Q3063.77 1452.77 3061.94 1456.34 Q3060.14 1459.88 3060.14 1467.01 Q3060.14 1474.11 3061.94 1477.68 Q3063.77 1481.22 3067.38 1481.22 Q3071.02 1481.22 3072.82 1477.68 Q3074.65 1474.11 3074.65 1467.01 Q3074.65 1459.88 3072.82 1456.34 Q3071.02 1452.77 3067.38 1452.77 M3067.38 1449.07 Q3073.19 1449.07 3076.25 1453.67 Q3079.33 1458.26 3079.33 1467.01 Q3079.33 1475.73 3076.25 1480.34 Q3073.19 1484.92 3067.38 1484.92 Q3061.57 1484.92 3058.5 1480.34 Q3055.44 1475.73 3055.44 1467.01 Q3055.44 1458.26 3058.5 1453.67 Q3061.57 1449.07 3067.38 1449.07 Z\" fill=\"#000000\" fill-rule=\"evenodd\" fill-opacity=\"1\" /><path clip-path=\"url(#clip7900)\" d=\"M 0 0 M3088.43 1480.32 L3104.75 1480.32 L3104.75 1484.25 L3082.8 1484.25 L3082.8 1480.32 Q3085.46 1477.56 3090.05 1472.93 Q3094.65 1468.28 3095.83 1466.94 Q3098.08 1464.41 3098.96 1462.68 Q3099.86 1460.92 3099.86 1459.23 Q3099.86 1456.47 3097.92 1454.74 Q3096 1453 3092.89 1453 Q3090.69 1453 3088.24 1453.77 Q3085.81 1454.53 3083.03 1456.08 L3083.03 1451.36 Q3085.86 1450.22 3088.31 1449.65 Q3090.76 1449.07 3092.8 1449.07 Q3098.17 1449.07 3101.37 1451.75 Q3104.56 1454.44 3104.56 1458.93 Q3104.56 1461.06 3103.75 1462.98 Q3102.96 1464.88 3100.86 1467.47 Q3100.28 1468.14 3097.18 1471.36 Q3094.07 1474.55 3088.43 1480.32 Z\" fill=\"#000000\" fill-rule=\"evenodd\" fill-opacity=\"1\" /><path clip-path=\"url(#clip7900)\" d=\"M 0 0 M3193.42 1480.32 L3201.06 1480.32 L3201.06 1453.95 L3192.75 1455.62 L3192.75 1451.36 L3201.01 1449.69 L3205.69 1449.69 L3205.69 1480.32 L3213.33 1480.32 L3213.33 1484.25 L3193.42 1484.25 L3193.42 1480.32 Z\" fill=\"#000000\" fill-rule=\"evenodd\" fill-opacity=\"1\" /><path clip-path=\"url(#clip7900)\" d=\"M 0 0 M3228.4 1467.84 Q3225.06 1467.84 3223.14 1469.62 Q3221.24 1471.4 3221.24 1474.53 Q3221.24 1477.65 3223.14 1479.44 Q3225.06 1481.22 3228.4 1481.22 Q3231.73 1481.22 3233.65 1479.44 Q3235.57 1477.63 3235.57 1474.53 Q3235.57 1471.4 3233.65 1469.62 Q3231.75 1467.84 3228.4 1467.84 M3223.72 1465.85 Q3220.71 1465.11 3219.02 1463.05 Q3217.35 1460.99 3217.35 1458.03 Q3217.35 1453.88 3220.29 1451.47 Q3223.26 1449.07 3228.4 1449.07 Q3233.56 1449.07 3236.5 1451.47 Q3239.44 1453.88 3239.44 1458.03 Q3239.44 1460.99 3237.75 1463.05 Q3236.08 1465.11 3233.09 1465.85 Q3236.47 1466.64 3238.35 1468.93 Q3240.25 1471.22 3240.25 1474.53 Q3240.25 1479.55 3237.17 1482.24 Q3234.11 1484.92 3228.4 1484.92 Q3222.68 1484.92 3219.6 1482.24 Q3216.54 1479.55 3216.54 1474.53 Q3216.54 1471.22 3218.44 1468.93 Q3220.34 1466.64 3223.72 1465.85 M3222.01 1458.46 Q3222.01 1461.15 3223.67 1462.65 Q3225.36 1464.16 3228.4 1464.16 Q3231.4 1464.16 3233.09 1462.65 Q3234.81 1461.15 3234.81 1458.46 Q3234.81 1455.78 3233.09 1454.28 Q3231.4 1452.77 3228.4 1452.77 Q3225.36 1452.77 3223.67 1454.28 Q3222.01 1455.78 3222.01 1458.46 Z\" fill=\"#000000\" fill-rule=\"evenodd\" fill-opacity=\"1\" /><path clip-path=\"url(#clip7900)\" d=\"M 0 0 M3252.28 1449.69 L3256.22 1449.69 L3244.18 1488.65 L3240.25 1488.65 L3252.28 1449.69 Z\" fill=\"#000000\" fill-rule=\"evenodd\" fill-opacity=\"1\" /><path clip-path=\"url(#clip7900)\" d=\"M 0 0 M3262.1 1480.32 L3269.74 1480.32 L3269.74 1453.95 L3261.43 1455.62 L3261.43 1451.36 L3269.69 1449.69 L3274.37 1449.69 L3274.37 1480.32 L3282.01 1480.32 L3282.01 1484.25 L3262.1 1484.25 L3262.1 1480.32 Z\" fill=\"#000000\" fill-rule=\"evenodd\" fill-opacity=\"1\" /><path clip-path=\"url(#clip7900)\" d=\"M 0 0 M3297.08 1452.77 Q3293.46 1452.77 3291.64 1456.34 Q3289.83 1459.88 3289.83 1467.01 Q3289.83 1474.11 3291.64 1477.68 Q3293.46 1481.22 3297.08 1481.22 Q3300.71 1481.22 3302.52 1477.68 Q3304.34 1474.11 3304.34 1467.01 Q3304.34 1459.88 3302.52 1456.34 Q3300.71 1452.77 3297.08 1452.77 M3297.08 1449.07 Q3302.89 1449.07 3305.94 1453.67 Q3309.02 1458.26 3309.02 1467.01 Q3309.02 1475.73 3305.94 1480.34 Q3302.89 1484.92 3297.08 1484.92 Q3291.27 1484.92 3288.19 1480.34 Q3285.13 1475.73 3285.13 1467.01 Q3285.13 1458.26 3288.19 1453.67 Q3291.27 1449.07 3297.08 1449.07 Z\" fill=\"#000000\" fill-rule=\"evenodd\" fill-opacity=\"1\" /><path clip-path=\"url(#clip7900)\" d=\"M 0 0 M3324.09 1452.77 Q3320.48 1452.77 3318.65 1456.34 Q3316.84 1459.88 3316.84 1467.01 Q3316.84 1474.11 3318.65 1477.68 Q3320.48 1481.22 3324.09 1481.22 Q3327.72 1481.22 3329.53 1477.68 Q3331.36 1474.11 3331.36 1467.01 Q3331.36 1459.88 3329.53 1456.34 Q3327.72 1452.77 3324.09 1452.77 M3324.09 1449.07 Q3329.9 1449.07 3332.95 1453.67 Q3336.03 1458.26 3336.03 1467.01 Q3336.03 1475.73 3332.95 1480.34 Q3329.9 1484.92 3324.09 1484.92 Q3318.28 1484.92 3315.2 1480.34 Q3312.14 1475.73 3312.14 1467.01 Q3312.14 1458.26 3315.2 1453.67 Q3318.28 1449.07 3324.09 1449.07 Z\" fill=\"#000000\" fill-rule=\"evenodd\" fill-opacity=\"1\" /><path clip-path=\"url(#clip7900)\" d=\"M 0 0 M3341.91 1480.32 L3349.55 1480.32 L3349.55 1453.95 L3341.24 1455.62 L3341.24 1451.36 L3349.51 1449.69 L3354.18 1449.69 L3354.18 1480.32 L3361.82 1480.32 L3361.82 1484.25 L3341.91 1484.25 L3341.91 1480.32 Z\" fill=\"#000000\" fill-rule=\"evenodd\" fill-opacity=\"1\" /><path clip-path=\"url(#clip7900)\" d=\"M 0 0 M3441.27 1480.32 L3448.91 1480.32 L3448.91 1453.95 L3440.6 1455.62 L3440.6 1451.36 L3448.87 1449.69 L3453.54 1449.69 L3453.54 1480.32 L3461.18 1480.32 L3461.18 1484.25 L3441.27 1484.25 L3441.27 1480.32 Z\" fill=\"#000000\" fill-rule=\"evenodd\" fill-opacity=\"1\" /><path clip-path=\"url(#clip7900)\" d=\"M 0 0 M3466.39 1483.53 L3466.39 1479.28 Q3468.15 1480.11 3469.95 1480.55 Q3471.76 1480.99 3473.49 1480.99 Q3478.12 1480.99 3480.55 1477.89 Q3483.01 1474.76 3483.36 1468.42 Q3482.01 1470.41 3479.95 1471.47 Q3477.89 1472.54 3475.39 1472.54 Q3470.21 1472.54 3467.18 1469.41 Q3464.17 1466.27 3464.17 1460.83 Q3464.17 1455.5 3467.31 1452.28 Q3470.46 1449.07 3475.69 1449.07 Q3481.69 1449.07 3484.84 1453.67 Q3488.01 1458.26 3488.01 1467.01 Q3488.01 1475.18 3484.12 1480.06 Q3480.25 1484.92 3473.7 1484.92 Q3471.94 1484.92 3470.14 1484.58 Q3468.33 1484.23 3466.39 1483.53 M3475.69 1468.88 Q3478.84 1468.88 3480.67 1466.73 Q3482.52 1464.58 3482.52 1460.83 Q3482.52 1457.1 3480.67 1454.95 Q3478.84 1452.77 3475.69 1452.77 Q3472.55 1452.77 3470.69 1454.95 Q3468.86 1457.1 3468.86 1460.83 Q3468.86 1464.58 3470.69 1466.73 Q3472.55 1468.88 3475.69 1468.88 Z\" fill=\"#000000\" fill-rule=\"evenodd\" fill-opacity=\"1\" /><path clip-path=\"url(#clip7900)\" d=\"M 0 0 M3500.05 1449.69 L3503.98 1449.69 L3491.94 1488.65 L3488.01 1488.65 L3500.05 1449.69 Z\" fill=\"#000000\" fill-rule=\"evenodd\" fill-opacity=\"1\" /><path clip-path=\"url(#clip7900)\" d=\"M 0 0 M3509.19 1483.53 L3509.19 1479.28 Q3510.95 1480.11 3512.75 1480.55 Q3514.56 1480.99 3516.3 1480.99 Q3520.92 1480.99 3523.36 1477.89 Q3525.81 1474.76 3526.16 1468.42 Q3524.81 1470.41 3522.75 1471.47 Q3520.69 1472.54 3518.19 1472.54 Q3513.01 1472.54 3509.98 1469.41 Q3506.97 1466.27 3506.97 1460.83 Q3506.97 1455.5 3510.11 1452.28 Q3513.26 1449.07 3518.49 1449.07 Q3524.49 1449.07 3527.64 1453.67 Q3530.81 1458.26 3530.81 1467.01 Q3530.81 1475.18 3526.92 1480.06 Q3523.05 1484.92 3516.5 1484.92 Q3514.74 1484.92 3512.94 1484.58 Q3511.13 1484.23 3509.19 1483.53 M3518.49 1468.88 Q3521.64 1468.88 3523.47 1466.73 Q3525.32 1464.58 3525.32 1460.83 Q3525.32 1457.1 3523.47 1454.95 Q3521.64 1452.77 3518.49 1452.77 Q3515.35 1452.77 3513.49 1454.95 Q3511.67 1457.1 3511.67 1460.83 Q3511.67 1464.58 3513.49 1466.73 Q3515.35 1468.88 3518.49 1468.88 Z\" fill=\"#000000\" fill-rule=\"evenodd\" fill-opacity=\"1\" /><path clip-path=\"url(#clip7900)\" d=\"M 0 0 M3545.88 1452.77 Q3542.27 1452.77 3540.44 1456.34 Q3538.63 1459.88 3538.63 1467.01 Q3538.63 1474.11 3540.44 1477.68 Q3542.27 1481.22 3545.88 1481.22 Q3549.51 1481.22 3551.32 1477.68 Q3553.15 1474.11 3553.15 1467.01 Q3553.15 1459.88 3551.32 1456.34 Q3549.51 1452.77 3545.88 1452.77 M3545.88 1449.07 Q3551.69 1449.07 3554.74 1453.67 Q3557.82 1458.26 3557.82 1467.01 Q3557.82 1475.73 3554.74 1480.34 Q3551.69 1484.92 3545.88 1484.92 Q3540.07 1484.92 3536.99 1480.34 Q3533.93 1475.73 3533.93 1467.01 Q3533.93 1458.26 3536.99 1453.67 Q3540.07 1449.07 3545.88 1449.07 Z\" fill=\"#000000\" fill-rule=\"evenodd\" fill-opacity=\"1\" /><path clip-path=\"url(#clip7900)\" d=\"M 0 0 M3577.06 1465.62 Q3580.42 1466.34 3582.29 1468.6 Q3584.19 1470.87 3584.19 1474.21 Q3584.19 1479.32 3580.67 1482.12 Q3577.15 1484.92 3570.67 1484.92 Q3568.49 1484.92 3566.18 1484.48 Q3563.89 1484.07 3561.43 1483.21 L3561.43 1478.7 Q3563.38 1479.83 3565.69 1480.41 Q3568.01 1480.99 3570.53 1480.99 Q3574.93 1480.99 3577.22 1479.25 Q3579.54 1477.52 3579.54 1474.21 Q3579.54 1471.15 3577.38 1469.44 Q3575.25 1467.7 3571.43 1467.7 L3567.41 1467.7 L3567.41 1463.86 L3571.62 1463.86 Q3575.07 1463.86 3576.9 1462.49 Q3578.73 1461.1 3578.73 1458.51 Q3578.73 1455.85 3576.83 1454.44 Q3574.95 1453 3571.43 1453 Q3569.51 1453 3567.31 1453.42 Q3565.11 1453.84 3562.48 1454.71 L3562.48 1450.55 Q3565.14 1449.81 3567.45 1449.44 Q3569.79 1449.07 3571.85 1449.07 Q3577.17 1449.07 3580.28 1451.5 Q3583.38 1453.9 3583.38 1458.03 Q3583.38 1460.9 3581.73 1462.89 Q3580.09 1464.85 3577.06 1465.62 Z\" fill=\"#000000\" fill-rule=\"evenodd\" fill-opacity=\"1\" /><path clip-path=\"url(#clip7900)\" d=\"M 0 0 M3702.22 1480.32 L3718.54 1480.32 L3718.54 1484.25 L3696.6 1484.25 L3696.6 1480.32 Q3699.26 1477.56 3703.85 1472.93 Q3708.45 1468.28 3709.63 1466.94 Q3711.88 1464.41 3712.76 1462.68 Q3713.66 1460.92 3713.66 1459.23 Q3713.66 1456.47 3711.72 1454.74 Q3709.79 1453 3706.69 1453 Q3704.49 1453 3702.04 1453.77 Q3699.61 1454.53 3696.83 1456.08 L3696.83 1451.36 Q3699.66 1450.22 3702.11 1449.65 Q3704.56 1449.07 3706.6 1449.07 Q3711.97 1449.07 3715.16 1451.75 Q3718.36 1454.44 3718.36 1458.93 Q3718.36 1461.06 3717.55 1462.98 Q3716.76 1464.88 3714.66 1467.47 Q3714.08 1468.14 3710.97 1471.36 Q3707.87 1474.55 3702.22 1480.32 Z\" fill=\"#000000\" fill-rule=\"evenodd\" fill-opacity=\"1\" /><path clip-path=\"url(#clip7900)\" d=\"M 0 0 M3733.61 1452.77 Q3730 1452.77 3728.17 1456.34 Q3726.37 1459.88 3726.37 1467.01 Q3726.37 1474.11 3728.17 1477.68 Q3730 1481.22 3733.61 1481.22 Q3737.25 1481.22 3739.05 1477.68 Q3740.88 1474.11 3740.88 1467.01 Q3740.88 1459.88 3739.05 1456.34 Q3737.25 1452.77 3733.61 1452.77 M3733.61 1449.07 Q3739.42 1449.07 3742.48 1453.67 Q3745.56 1458.26 3745.56 1467.01 Q3745.56 1475.73 3742.48 1480.34 Q3739.42 1484.92 3733.61 1484.92 Q3727.8 1484.92 3724.72 1480.34 Q3721.67 1475.73 3721.67 1467.01 Q3721.67 1458.26 3724.72 1453.67 Q3727.8 1449.07 3733.61 1449.07 Z\" fill=\"#000000\" fill-rule=\"evenodd\" fill-opacity=\"1\" /><path clip-path=\"url(#clip7900)\" d=\"M 0 0 M3757.59 1449.69 L3761.53 1449.69 L3749.49 1488.65 L3745.56 1488.65 L3757.59 1449.69 Z\" fill=\"#000000\" fill-rule=\"evenodd\" fill-opacity=\"1\" /><path clip-path=\"url(#clip7900)\" d=\"M 0 0 M3766.74 1483.53 L3766.74 1479.28 Q3768.5 1480.11 3770.3 1480.55 Q3772.11 1480.99 3773.84 1480.99 Q3778.47 1480.99 3780.9 1477.89 Q3783.36 1474.76 3783.71 1468.42 Q3782.36 1470.41 3780.3 1471.47 Q3778.24 1472.54 3775.74 1472.54 Q3770.56 1472.54 3767.53 1469.41 Q3764.52 1466.27 3764.52 1460.83 Q3764.52 1455.5 3767.66 1452.28 Q3770.81 1449.07 3776.04 1449.07 Q3782.04 1449.07 3785.19 1453.67 Q3788.36 1458.26 3788.36 1467.01 Q3788.36 1475.18 3784.47 1480.06 Q3780.6 1484.92 3774.05 1484.92 Q3772.29 1484.92 3770.49 1484.58 Q3768.68 1484.23 3766.74 1483.53 M3776.04 1468.88 Q3779.19 1468.88 3781.02 1466.73 Q3782.87 1464.58 3782.87 1460.83 Q3782.87 1457.1 3781.02 1454.95 Q3779.19 1452.77 3776.04 1452.77 Q3772.9 1452.77 3771.04 1454.95 Q3769.22 1457.1 3769.22 1460.83 Q3769.22 1464.58 3771.04 1466.73 Q3772.9 1468.88 3776.04 1468.88 Z\" fill=\"#000000\" fill-rule=\"evenodd\" fill-opacity=\"1\" /><path clip-path=\"url(#clip7900)\" d=\"M 0 0 M3803.43 1452.77 Q3799.82 1452.77 3797.99 1456.34 Q3796.18 1459.88 3796.18 1467.01 Q3796.18 1474.11 3797.99 1477.68 Q3799.82 1481.22 3803.43 1481.22 Q3807.06 1481.22 3808.87 1477.68 Q3810.7 1474.11 3810.7 1467.01 Q3810.7 1459.88 3808.87 1456.34 Q3807.06 1452.77 3803.43 1452.77 M3803.43 1449.07 Q3809.24 1449.07 3812.29 1453.67 Q3815.37 1458.26 3815.37 1467.01 Q3815.37 1475.73 3812.29 1480.34 Q3809.24 1484.92 3803.43 1484.92 Q3797.62 1484.92 3794.54 1480.34 Q3791.48 1475.73 3791.48 1467.01 Q3791.48 1458.26 3794.54 1453.67 Q3797.62 1449.07 3803.43 1449.07 Z\" fill=\"#000000\" fill-rule=\"evenodd\" fill-opacity=\"1\" /><path clip-path=\"url(#clip7900)\" d=\"M 0 0 M3821.25 1480.32 L3828.89 1480.32 L3828.89 1453.95 L3820.58 1455.62 L3820.58 1451.36 L3828.84 1449.69 L3833.52 1449.69 L3833.52 1480.32 L3841.16 1480.32 L3841.16 1484.25 L3821.25 1484.25 L3821.25 1480.32 Z\" fill=\"#000000\" fill-rule=\"evenodd\" fill-opacity=\"1\" /><path clip-path=\"url(#clip7900)\" d=\"M 0 0 M130.111 1266.51 Q133.467 1267.22 135.342 1269.49 Q137.241 1271.76 137.241 1275.09 Q137.241 1280.21 133.722 1283.01 Q130.204 1285.81 123.722 1285.81 Q121.546 1285.81 119.231 1285.37 Q116.94 1284.96 114.486 1284.1 L114.486 1279.59 Q116.43 1280.72 118.745 1281.3 Q121.06 1281.88 123.583 1281.88 Q127.981 1281.88 130.273 1280.14 Q132.588 1278.41 132.588 1275.09 Q132.588 1272.04 130.435 1270.33 Q128.305 1268.59 124.486 1268.59 L120.458 1268.59 L120.458 1264.75 L124.671 1264.75 Q128.12 1264.75 129.949 1263.38 Q131.778 1261.99 131.778 1259.4 Q131.778 1256.74 129.88 1255.33 Q128.005 1253.89 124.486 1253.89 Q122.565 1253.89 120.366 1254.31 Q118.167 1254.72 115.528 1255.6 L115.528 1251.44 Q118.19 1250.7 120.505 1250.33 Q122.843 1249.96 124.903 1249.96 Q130.227 1249.96 133.329 1252.39 Q136.43 1254.79 136.43 1258.91 Q136.43 1261.78 134.787 1263.78 Q133.143 1265.74 130.111 1266.51 Z\" fill=\"#000000\" fill-rule=\"evenodd\" fill-opacity=\"1\" /><path clip-path=\"url(#clip7900)\" d=\"M 0 0 M142.356 1250.58 L160.713 1250.58 L160.713 1254.52 L146.639 1254.52 L146.639 1262.99 Q147.657 1262.64 148.676 1262.48 Q149.694 1262.29 150.713 1262.29 Q156.5 1262.29 159.879 1265.47 Q163.259 1268.64 163.259 1274.05 Q163.259 1279.63 159.787 1282.73 Q156.315 1285.81 149.995 1285.81 Q147.819 1285.81 145.551 1285.44 Q143.305 1285.07 140.898 1284.33 L140.898 1279.63 Q142.981 1280.77 145.203 1281.32 Q147.426 1281.88 149.903 1281.88 Q153.907 1281.88 156.245 1279.77 Q158.583 1277.66 158.583 1274.05 Q158.583 1270.44 156.245 1268.34 Q153.907 1266.23 149.903 1266.23 Q148.028 1266.23 146.153 1266.65 Q144.301 1267.06 142.356 1267.94 L142.356 1250.58 Z\" fill=\"#000000\" fill-rule=\"evenodd\" fill-opacity=\"1\" /><path clip-path=\"url(#clip7900)\" d=\"M 0 0 M126.662 1030.85 L114.856 1049.3 L126.662 1049.3 L126.662 1030.85 M125.435 1026.78 L131.315 1026.78 L131.315 1049.3 L136.245 1049.3 L136.245 1053.19 L131.315 1053.19 L131.315 1061.34 L126.662 1061.34 L126.662 1053.19 L111.06 1053.19 L111.06 1048.68 L125.435 1026.78 Z\" fill=\"#000000\" fill-rule=\"evenodd\" fill-opacity=\"1\" /><path clip-path=\"url(#clip7900)\" d=\"M 0 0 M151.315 1029.86 Q147.703 1029.86 145.875 1033.42 Q144.069 1036.96 144.069 1044.09 Q144.069 1051.2 145.875 1054.76 Q147.703 1058.31 151.315 1058.31 Q154.949 1058.31 156.754 1054.76 Q158.583 1051.2 158.583 1044.09 Q158.583 1036.96 156.754 1033.42 Q154.949 1029.86 151.315 1029.86 M151.315 1026.15 Q157.125 1026.15 160.18 1030.76 Q163.259 1035.34 163.259 1044.09 Q163.259 1052.82 160.18 1057.43 Q157.125 1062.01 151.315 1062.01 Q145.504 1062.01 142.426 1057.43 Q139.37 1052.82 139.37 1044.09 Q139.37 1035.34 142.426 1030.76 Q145.504 1026.15 151.315 1026.15 Z\" fill=\"#000000\" fill-rule=\"evenodd\" fill-opacity=\"1\" /><path clip-path=\"url(#clip7900)\" d=\"M 0 0 M127.657 807.051 L115.852 825.5 L127.657 825.5 L127.657 807.051 M126.43 802.977 L132.31 802.977 L132.31 825.5 L137.241 825.5 L137.241 829.389 L132.31 829.389 L132.31 837.537 L127.657 837.537 L127.657 829.389 L112.056 829.389 L112.056 824.875 L126.43 802.977 Z\" fill=\"#000000\" fill-rule=\"evenodd\" fill-opacity=\"1\" /><path clip-path=\"url(#clip7900)\" d=\"M 0 0 M142.356 802.977 L160.713 802.977 L160.713 806.912 L146.639 806.912 L146.639 815.384 Q147.657 815.037 148.676 814.875 Q149.694 814.69 150.713 814.69 Q156.5 814.69 159.879 817.861 Q163.259 821.032 163.259 826.449 Q163.259 832.028 159.787 835.129 Q156.315 838.208 149.995 838.208 Q147.819 838.208 145.551 837.838 Q143.305 837.467 140.898 836.727 L140.898 832.028 Q142.981 833.162 145.203 833.717 Q147.426 834.273 149.903 834.273 Q153.907 834.273 156.245 832.166 Q158.583 830.06 158.583 826.449 Q158.583 822.838 156.245 820.731 Q153.907 818.625 149.903 818.625 Q148.028 818.625 146.153 819.042 Q144.301 819.458 142.356 820.338 L142.356 802.977 Z\" fill=\"#000000\" fill-rule=\"evenodd\" fill-opacity=\"1\" /><path clip-path=\"url(#clip7900)\" d=\"M 0 0 M115.343 579.175 L133.699 579.175 L133.699 583.11 L119.625 583.11 L119.625 591.582 Q120.643 591.235 121.662 591.073 Q122.68 590.888 123.699 590.888 Q129.486 590.888 132.866 594.059 Q136.245 597.23 136.245 602.647 Q136.245 608.225 132.773 611.327 Q129.301 614.406 122.981 614.406 Q120.805 614.406 118.537 614.036 Q116.292 613.665 113.884 612.924 L113.884 608.225 Q115.968 609.36 118.19 609.915 Q120.412 610.471 122.889 610.471 Q126.893 610.471 129.231 608.364 Q131.569 606.258 131.569 602.647 Q131.569 599.036 129.231 596.929 Q126.893 594.823 122.889 594.823 Q121.014 594.823 119.139 595.239 Q117.287 595.656 115.343 596.536 L115.343 579.175 Z\" fill=\"#000000\" fill-rule=\"evenodd\" fill-opacity=\"1\" /><path clip-path=\"url(#clip7900)\" d=\"M 0 0 M151.315 582.253 Q147.703 582.253 145.875 585.818 Q144.069 589.36 144.069 596.489 Q144.069 603.596 145.875 607.161 Q147.703 610.702 151.315 610.702 Q154.949 610.702 156.754 607.161 Q158.583 603.596 158.583 596.489 Q158.583 589.36 156.754 585.818 Q154.949 582.253 151.315 582.253 M151.315 578.55 Q157.125 578.55 160.18 583.156 Q163.259 587.739 163.259 596.489 Q163.259 605.216 160.18 609.823 Q157.125 614.406 151.315 614.406 Q145.504 614.406 142.426 609.823 Q139.37 605.216 139.37 596.489 Q139.37 587.739 142.426 583.156 Q145.504 578.55 151.315 578.55 Z\" fill=\"#000000\" fill-rule=\"evenodd\" fill-opacity=\"1\" /><path clip-path=\"url(#clip7900)\" d=\"M 0 0 M116.338 355.372 L134.694 355.372 L134.694 359.308 L120.62 359.308 L120.62 367.78 Q121.639 367.433 122.657 367.271 Q123.676 367.085 124.694 367.085 Q130.481 367.085 133.861 370.257 Q137.241 373.428 137.241 378.845 Q137.241 384.423 133.768 387.525 Q130.296 390.604 123.977 390.604 Q121.801 390.604 119.532 390.233 Q117.287 389.863 114.88 389.122 L114.88 384.423 Q116.963 385.557 119.185 386.113 Q121.407 386.669 123.884 386.669 Q127.889 386.669 130.227 384.562 Q132.565 382.456 132.565 378.845 Q132.565 375.233 130.227 373.127 Q127.889 371.021 123.884 371.021 Q122.009 371.021 120.134 371.437 Q118.282 371.854 116.338 372.733 L116.338 355.372 Z\" fill=\"#000000\" fill-rule=\"evenodd\" fill-opacity=\"1\" /><path clip-path=\"url(#clip7900)\" d=\"M 0 0 M142.356 355.372 L160.713 355.372 L160.713 359.308 L146.639 359.308 L146.639 367.78 Q147.657 367.433 148.676 367.271 Q149.694 367.085 150.713 367.085 Q156.5 367.085 159.879 370.257 Q163.259 373.428 163.259 378.845 Q163.259 384.423 159.787 387.525 Q156.315 390.604 149.995 390.604 Q147.819 390.604 145.551 390.233 Q143.305 389.863 140.898 389.122 L140.898 384.423 Q142.981 385.557 145.203 386.113 Q147.426 386.669 149.903 386.669 Q153.907 386.669 156.245 384.562 Q158.583 382.456 158.583 378.845 Q158.583 375.233 156.245 373.127 Q153.907 371.021 149.903 371.021 Q148.028 371.021 146.153 371.437 Q144.301 371.854 142.356 372.733 L142.356 355.372 Z\" fill=\"#000000\" fill-rule=\"evenodd\" fill-opacity=\"1\" /><path clip-path=\"url(#clip7900)\" d=\"M 0 0 M124.717 146.987 Q121.569 146.987 119.718 149.14 Q117.889 151.292 117.889 155.042 Q117.889 158.769 119.718 160.945 Q121.569 163.098 124.717 163.098 Q127.866 163.098 129.694 160.945 Q131.546 158.769 131.546 155.042 Q131.546 151.292 129.694 149.14 Q127.866 146.987 124.717 146.987 M134 132.334 L134 136.593 Q132.241 135.76 130.435 135.32 Q128.653 134.88 126.893 134.88 Q122.264 134.88 119.81 138.005 Q117.38 141.13 117.032 147.45 Q118.398 145.436 120.458 144.371 Q122.518 143.283 124.995 143.283 Q130.204 143.283 133.213 146.454 Q136.245 149.603 136.245 155.042 Q136.245 160.366 133.097 163.584 Q129.949 166.802 124.717 166.802 Q118.722 166.802 115.551 162.218 Q112.38 157.612 112.38 148.885 Q112.38 140.691 116.268 135.83 Q120.157 130.945 126.708 130.945 Q128.467 130.945 130.25 131.293 Q132.055 131.64 134 132.334 Z\" fill=\"#000000\" fill-rule=\"evenodd\" fill-opacity=\"1\" /><path clip-path=\"url(#clip7900)\" d=\"M 0 0 M151.315 134.649 Q147.703 134.649 145.875 138.214 Q144.069 141.755 144.069 148.885 Q144.069 155.991 145.875 159.556 Q147.703 163.098 151.315 163.098 Q154.949 163.098 156.754 159.556 Q158.583 155.991 158.583 148.885 Q158.583 141.755 156.754 138.214 Q154.949 134.649 151.315 134.649 M151.315 130.945 Q157.125 130.945 160.18 135.552 Q163.259 140.135 163.259 148.885 Q163.259 157.612 160.18 162.218 Q157.125 166.802 151.315 166.802 Q145.504 166.802 142.426 162.218 Q139.37 157.612 139.37 148.885 Q139.37 140.135 142.426 135.552 Q145.504 130.945 151.315 130.945 Z\" fill=\"#000000\" fill-rule=\"evenodd\" fill-opacity=\"1\" /><path clip-path=\"url(#clip7900)\" d=\"M 0 0 M1983.37 1525.47 L1983.37 1535.6 L1995.43 1535.6 L1995.43 1540.15 L1983.37 1540.15 L1983.37 1559.5 Q1983.37 1563.86 1984.55 1565.1 Q1985.76 1566.34 1989.42 1566.34 L1995.43 1566.34 L1995.43 1571.24 L1989.42 1571.24 Q1982.64 1571.24 1980.06 1568.73 Q1977.48 1566.18 1977.48 1559.5 L1977.48 1540.15 L1973.19 1540.15 L1973.19 1535.6 L1977.48 1535.6 L1977.48 1525.47 L1983.37 1525.47 Z\" fill=\"#000000\" fill-rule=\"evenodd\" fill-opacity=\"1\" /><path clip-path=\"url(#clip7900)\" d=\"M 0 0 M2001.58 1535.6 L2007.43 1535.6 L2007.43 1571.24 L2001.58 1571.24 L2001.58 1535.6 M2001.58 1521.72 L2007.43 1521.72 L2007.43 1529.13 L2001.58 1529.13 L2001.58 1521.72 Z\" fill=\"#000000\" fill-rule=\"evenodd\" fill-opacity=\"1\" /><path clip-path=\"url(#clip7900)\" d=\"M 0 0 M2041.33 1542.44 Q2043.53 1538.49 2046.58 1536.61 Q2049.64 1534.74 2053.78 1534.74 Q2059.35 1534.74 2062.37 1538.65 Q2065.39 1542.53 2065.39 1549.73 L2065.39 1571.24 L2059.51 1571.24 L2059.51 1549.92 Q2059.51 1544.79 2057.69 1542.31 Q2055.88 1539.83 2052.15 1539.83 Q2047.6 1539.83 2044.96 1542.85 Q2042.32 1545.88 2042.32 1551.1 L2042.32 1571.24 L2036.43 1571.24 L2036.43 1549.92 Q2036.43 1544.76 2034.62 1542.31 Q2032.8 1539.83 2029.01 1539.83 Q2024.53 1539.83 2021.88 1542.88 Q2019.24 1545.91 2019.24 1551.1 L2019.24 1571.24 L2013.35 1571.24 L2013.35 1535.6 L2019.24 1535.6 L2019.24 1541.13 Q2021.25 1537.86 2024.05 1536.3 Q2026.85 1534.74 2030.7 1534.74 Q2034.58 1534.74 2037.29 1536.71 Q2040.03 1538.68 2041.33 1542.44 Z\" fill=\"#000000\" fill-rule=\"evenodd\" fill-opacity=\"1\" /><path clip-path=\"url(#clip7900)\" d=\"M 0 0 M2102.03 1551.96 L2102.03 1554.82 L2075.1 1554.82 Q2075.48 1560.87 2078.73 1564.05 Q2082.01 1567.2 2087.83 1567.2 Q2091.21 1567.2 2094.36 1566.37 Q2097.54 1565.55 2100.66 1563.89 L2100.66 1569.43 Q2097.51 1570.77 2094.2 1571.47 Q2090.89 1572.17 2087.48 1572.17 Q2078.95 1572.17 2073.96 1567.2 Q2068.99 1562.24 2068.99 1553.77 Q2068.99 1545.02 2073.7 1539.89 Q2078.44 1534.74 2086.46 1534.74 Q2093.66 1534.74 2097.83 1539.38 Q2102.03 1544 2102.03 1551.96 M2096.17 1550.24 Q2096.11 1545.43 2093.47 1542.57 Q2090.86 1539.7 2086.53 1539.7 Q2081.63 1539.7 2078.67 1542.47 Q2075.74 1545.24 2075.29 1550.27 L2096.17 1550.24 Z\" fill=\"#000000\" fill-rule=\"evenodd\" fill-opacity=\"1\" /><path clip-path=\"url(#clip7900)\" d=\"M 0 0 M21.9562 871.613 L21.9562 865.757 L57.6042 865.757 L57.6042 871.613 L21.9562 871.613 M8.07896 871.613 L8.07896 865.757 L15.495 865.757 L15.495 871.613 L8.07896 871.613 Z\" fill=\"#000000\" fill-rule=\"evenodd\" fill-opacity=\"1\" /><path clip-path=\"url(#clip7900)\" d=\"M 0 0 M36.0881 829.981 L57.6042 829.981 L57.6042 835.838 L36.279 835.838 Q31.2183 835.838 28.7038 837.811 Q26.1894 839.785 26.1894 843.731 Q26.1894 848.474 29.2131 851.211 Q32.2368 853.948 37.4567 853.948 L57.6042 853.948 L57.6042 859.837 L21.9562 859.837 L21.9562 853.948 L27.4944 853.948 Q24.2797 851.848 22.6883 849.015 Q21.0968 846.15 21.0968 842.426 Q21.0968 836.283 24.9163 833.132 Q28.7038 829.981 36.0881 829.981 Z\" fill=\"#000000\" fill-rule=\"evenodd\" fill-opacity=\"1\" /><path clip-path=\"url(#clip7900)\" d=\"M 0 0 M27.3671 800.381 L8.07896 800.381 L8.07896 794.524 L57.6042 794.524 L57.6042 800.381 L52.257 800.381 Q55.4398 802.227 56.9994 805.06 Q58.5272 807.861 58.5272 811.807 Q58.5272 818.269 53.371 822.343 Q48.2147 826.385 39.812 826.385 Q31.4093 826.385 26.2531 822.343 Q21.0968 818.269 21.0968 811.807 Q21.0968 807.861 22.6564 805.06 Q24.1842 802.227 27.3671 800.381 M39.812 820.337 Q46.2732 820.337 49.9653 817.696 Q53.6256 815.022 53.6256 810.375 Q53.6256 805.728 49.9653 803.054 Q46.2732 800.381 39.812 800.381 Q33.3508 800.381 29.6905 803.054 Q25.9984 805.728 25.9984 810.375 Q25.9984 815.022 29.6905 817.696 Q33.3508 820.337 39.812 820.337 Z\" fill=\"#000000\" fill-rule=\"evenodd\" fill-opacity=\"1\" /><path clip-path=\"url(#clip7900)\" d=\"M 0 0 M21.9562 788.382 L21.9562 782.525 L57.6042 782.525 L57.6042 788.382 L21.9562 788.382 M8.07896 788.382 L8.07896 782.525 L15.495 782.525 L15.495 788.382 L8.07896 788.382 Z\" fill=\"#000000\" fill-rule=\"evenodd\" fill-opacity=\"1\" /><path clip-path=\"url(#clip7900)\" d=\"M 0 0 M23.3248 750.728 L28.7993 750.728 Q27.4307 753.211 26.7623 755.725 Q26.0621 758.208 26.0621 760.754 Q26.0621 766.452 29.6905 769.603 Q33.2872 772.754 39.812 772.754 Q46.3369 772.754 49.9653 769.603 Q53.5619 766.452 53.5619 760.754 Q53.5619 758.208 52.8935 755.725 Q52.1933 753.211 50.8247 750.728 L56.2355 750.728 Q57.3814 753.179 57.9543 755.821 Q58.5272 758.431 58.5272 761.391 Q58.5272 769.444 53.4664 774.186 Q48.4057 778.928 39.812 778.928 Q31.091 778.928 26.0939 774.154 Q21.0968 769.348 21.0968 761.009 Q21.0968 758.304 21.6697 755.725 Q22.2108 753.147 23.3248 750.728 Z\" fill=\"#000000\" fill-rule=\"evenodd\" fill-opacity=\"1\" /><path clip-path=\"url(#clip7900)\" d=\"M 0 0 M39.6847 728.385 Q39.6847 735.483 41.3079 738.22 Q42.9312 740.957 46.8461 740.957 Q49.9653 740.957 51.8114 738.92 Q53.6256 736.851 53.6256 733.318 Q53.6256 728.448 50.1881 725.52 Q46.7188 722.56 40.9897 722.56 L39.6847 722.56 L39.6847 728.385 M37.2657 716.704 L57.6042 716.704 L57.6042 722.56 L52.1933 722.56 Q55.4398 724.565 56.9994 727.557 Q58.5272 730.549 58.5272 734.878 Q58.5272 740.352 55.4716 743.599 Q52.3843 746.813 47.2281 746.813 Q41.2125 746.813 38.1569 742.803 Q35.1014 738.761 35.1014 730.772 L35.1014 722.56 L34.5285 722.56 Q30.4862 722.56 28.2901 725.234 Q26.0621 727.875 26.0621 732.682 Q26.0621 735.737 26.7941 738.634 Q27.5262 741.53 28.9903 744.204 L23.5795 744.204 Q22.3381 740.989 21.7334 737.965 Q21.0968 734.941 21.0968 732.077 Q21.0968 724.343 25.1072 720.523 Q29.1176 716.704 37.2657 716.704 Z\" fill=\"#000000\" fill-rule=\"evenodd\" fill-opacity=\"1\" /><path clip-path=\"url(#clip7900)\" d=\"M 0 0 M11.8347 704.768 L21.9562 704.768 L21.9562 692.705 L26.5077 692.705 L26.5077 704.768 L45.8594 704.768 Q50.2199 704.768 51.4613 703.59 Q52.7026 702.381 52.7026 698.721 L52.7026 692.705 L57.6042 692.705 L57.6042 698.721 Q57.6042 705.5 55.0897 708.078 Q52.5434 710.656 45.8594 710.656 L26.5077 710.656 L26.5077 714.953 L21.9562 714.953 L21.9562 710.656 L11.8347 710.656 L11.8347 704.768 Z\" fill=\"#000000\" fill-rule=\"evenodd\" fill-opacity=\"1\" /><path clip-path=\"url(#clip7900)\" d=\"M 0 0 M26.0621 672.748 Q26.0621 677.459 29.7542 680.196 Q33.4145 682.934 39.812 682.934 Q46.2095 682.934 49.9017 680.228 Q53.5619 677.491 53.5619 672.748 Q53.5619 668.07 49.8698 665.332 Q46.1777 662.595 39.812 662.595 Q33.4781 662.595 29.786 665.332 Q26.0621 668.07 26.0621 672.748 M21.0968 672.748 Q21.0968 665.11 26.0621 660.749 Q31.0273 656.389 39.812 656.389 Q48.5649 656.389 53.5619 660.749 Q58.5272 665.11 58.5272 672.748 Q58.5272 680.419 53.5619 684.78 Q48.5649 689.108 39.812 689.108 Q31.0273 689.108 26.0621 684.78 Q21.0968 680.419 21.0968 672.748 Z\" fill=\"#000000\" fill-rule=\"evenodd\" fill-opacity=\"1\" /><path clip-path=\"url(#clip7900)\" d=\"M 0 0 M27.4307 629.589 Q26.8578 630.576 26.6032 631.753 Q26.3167 632.899 26.3167 634.3 Q26.3167 639.265 29.5632 641.938 Q32.7779 644.58 38.8253 644.58 L57.6042 644.58 L57.6042 650.468 L21.9562 650.468 L21.9562 644.58 L27.4944 644.58 Q24.2479 642.734 22.6883 639.774 Q21.0968 636.814 21.0968 632.581 Q21.0968 631.976 21.1923 631.244 Q21.256 630.512 21.4151 629.621 L27.4307 629.589 Z\" fill=\"#000000\" fill-rule=\"evenodd\" fill-opacity=\"1\" /><path clip-path=\"url(#clip7900)\" d=\"M 0 0 M23.0065 600.721 L28.5447 600.721 Q27.2716 603.203 26.635 605.877 Q25.9984 608.55 25.9984 611.415 Q25.9984 615.775 27.3352 617.972 Q28.672 620.136 31.3456 620.136 Q33.3826 620.136 34.5603 618.576 Q35.7061 617.017 36.7565 612.306 L37.2021 610.301 Q38.5389 604.062 40.9897 601.453 Q43.4086 598.811 47.7691 598.811 Q52.7344 598.811 55.6308 602.758 Q58.5272 606.672 58.5272 613.547 Q58.5272 616.412 57.9543 619.531 Q57.4132 622.619 56.2992 626.056 L50.2518 626.056 Q51.9387 622.81 52.798 619.658 Q53.6256 616.507 53.6256 613.42 Q53.6256 609.282 52.2251 607.054 Q50.7929 604.826 48.2147 604.826 Q45.8276 604.826 44.5545 606.45 Q43.2813 608.041 42.1037 613.484 L41.6262 615.521 Q40.4804 620.963 38.1251 623.382 Q35.738 625.801 31.6002 625.801 Q26.5713 625.801 23.8341 622.237 Q21.0968 618.672 21.0968 612.115 Q21.0968 608.869 21.5743 606.004 Q22.0517 603.139 23.0065 600.721 Z\" fill=\"#000000\" fill-rule=\"evenodd\" fill-opacity=\"1\" /><polyline clip-path=\"url(#clip7902)\" style=\"stroke:#009af9; stroke-width:4; stroke-opacity:1; fill:none\" points=\"\n",
       "  306.335,493.506 327.709,556.17 349.083,386.081 370.456,372.652 391.83,327.892 413.204,426.365 434.578,466.649 455.951,506.934 477.325,556.17 498.699,560.646 \n",
       "  520.073,668.071 541.446,565.122 562.82,672.547 584.194,659.119 605.568,659.119 626.941,614.359 648.315,587.503 669.689,596.455 691.062,600.931 712.436,887.397 \n",
       "  733.81,1093.3 755.184,1214.15 776.557,1384.24 797.931,1241 819.305,1232.05 840.679,1209.67 862.052,1039.58 883.426,918.73 904.8,829.209 926.173,645.691 \n",
       "  947.547,466.649 968.921,480.077 990.295,341.32 1011.67,435.317 1033.04,377.128 1054.42,220.467 1075.79,305.512 1097.16,166.754 1118.54,130.946 1139.91,162.278 \n",
       "  1161.28,318.94 1182.66,350.272 1204.03,314.464 1225.41,399.509 1246.78,287.608 1268.15,301.036 1289.53,215.991 1310.9,113.042 1332.27,86.1857 1353.65,95.1378 \n",
       "  1375.02,130.946 1396.4,439.793 1417.77,359.224 1439.14,533.79 1460.52,484.554 1481.89,484.554 1503.26,515.886 1524.64,497.982 1546.01,457.697 1567.39,412.937 \n",
       "  1588.76,511.41 1610.13,448.745 1631.51,412.937 1652.88,484.554 1674.25,587.503 1695.63,574.074 1717,565.122 1738.38,524.838 1759.75,520.362 1781.12,600.931 \n",
       "  1802.5,587.503 1823.87,457.697 1845.24,408.461 1866.62,538.266 1887.99,565.122 1909.37,641.215 1930.74,556.17 1952.11,354.748 1973.49,341.32 1994.86,318.94 \n",
       "  2016.23,309.988 2037.61,269.703 2058.98,283.132 2080.35,538.266 2101.73,453.221 2123.1,430.841 2144.48,377.128 2165.85,354.748 2187.22,359.224 2208.6,278.656 \n",
       "  2229.97,193.611 2251.34,301.036 2272.72,193.611 2294.09,207.039 2315.47,350.272 2336.84,439.793 2358.21,466.649 2379.59,529.314 2400.96,529.314 2422.33,471.125 \n",
       "  2443.71,439.793 2465.08,475.601 2486.46,547.218 2507.83,587.503 2529.2,591.979 2550.58,659.119 2571.95,677.023 2593.32,677.023 2614.7,618.835 2636.07,515.886 \n",
       "  2657.45,560.646 2678.82,538.266 2700.19,453.221 2721.57,480.077 2742.94,623.311 2764.31,529.314 2785.69,511.41 2807.06,453.221 2828.44,386.081 2849.81,327.892 \n",
       "  2871.18,251.799 2892.56,274.179 2913.93,381.605 2935.3,377.128 2956.68,247.323 2978.05,314.464 2999.43,202.563 3020.8,113.042 3042.17,207.039 3063.55,229.419 \n",
       "  3084.92,162.278 3106.29,189.135 3127.67,113.042 3149.04,180.183 3170.42,269.703 3191.79,207.039 3213.16,139.898 3234.54,233.895 3255.91,90.6617 3277.28,157.802 \n",
       "  3298.66,251.799 3320.03,180.183 3341.4,412.937 3362.78,301.036 3384.15,408.461 3405.53,359.224 3426.9,471.125 3448.27,502.458 3469.65,520.362 3491.02,542.742 \n",
       "  3512.39,636.739 3533.77,694.928 3555.14,672.547 3576.52,681.499 3597.89,721.784 3619.26,556.17 3640.64,591.979 3662.01,636.739 3683.38,976.918 3704.76,905.302 \n",
       "  3726.13,480.077 3747.51,408.461 3768.88,327.892 \n",
       "  \"/>\n",
       "<polyline clip-path=\"url(#clip7902)\" style=\"stroke:#e26f46; stroke-width:4; stroke-opacity:1; fill:none\" points=\"\n",
       "  306.335,471.125 327.709,471.125 349.083,471.125 370.456,471.125 391.83,471.125 413.204,471.125 434.578,471.125 455.951,471.125 477.325,471.125 498.699,471.125 \n",
       "  520.073,471.125 541.446,471.125 562.82,471.125 584.194,471.125 605.568,471.125 626.941,471.125 648.315,471.125 669.689,471.125 691.062,471.125 712.436,471.125 \n",
       "  733.81,471.125 755.184,471.125 776.557,471.125 797.931,471.125 819.305,471.125 840.679,471.125 862.052,471.125 883.426,471.125 904.8,471.125 926.173,471.125 \n",
       "  947.547,471.125 968.921,471.125 990.295,471.125 1011.67,471.125 1033.04,471.125 1054.42,471.125 1075.79,471.125 1097.16,471.125 1118.54,471.125 1139.91,471.125 \n",
       "  1161.28,471.125 1182.66,471.125 1204.03,471.125 1225.41,471.125 1246.78,471.125 1268.15,471.125 1289.53,471.125 1310.9,471.125 1332.27,471.125 1353.65,471.125 \n",
       "  1375.02,471.125 1396.4,471.125 1417.77,471.125 1439.14,471.125 1460.52,471.125 1481.89,471.125 1503.26,471.125 1524.64,471.125 1546.01,471.125 1567.39,471.125 \n",
       "  1588.76,471.125 1610.13,471.125 1631.51,471.125 1652.88,471.125 1674.25,471.125 1695.63,471.125 1717,471.125 1738.38,471.125 1759.75,471.125 1781.12,471.125 \n",
       "  1802.5,471.125 1823.87,471.125 1845.24,471.125 1866.62,471.125 1887.99,471.125 1909.37,471.125 1930.74,471.125 1952.11,471.125 1973.49,471.125 1994.86,471.125 \n",
       "  2016.23,471.125 2037.61,471.125 2058.98,471.125 2080.35,471.125 2101.73,471.125 2123.1,471.125 2144.48,471.125 2165.85,471.125 2187.22,471.125 2208.6,471.125 \n",
       "  2229.97,471.125 2251.34,471.125 2272.72,471.125 2294.09,471.125 2315.47,471.125 2336.84,471.125 2358.21,471.125 2379.59,471.125 2400.96,471.125 2422.33,471.125 \n",
       "  2443.71,471.125 2465.08,471.125 2486.46,471.125 2507.83,471.125 2529.2,471.125 2550.58,471.125 2571.95,471.125 2593.32,471.125 2614.7,471.125 2636.07,471.125 \n",
       "  2657.45,471.125 2678.82,471.125 2700.19,471.125 2721.57,471.125 2742.94,471.125 2764.31,471.125 2785.69,471.125 2807.06,471.125 2828.44,471.125 2849.81,471.125 \n",
       "  2871.18,471.125 2892.56,471.125 2913.93,471.125 2935.3,471.125 2956.68,471.125 2978.05,471.125 2999.43,471.125 3020.8,471.125 3042.17,471.125 3063.55,471.125 \n",
       "  3084.92,471.125 3106.29,471.125 3127.67,471.125 3149.04,471.125 3170.42,471.125 3191.79,471.125 3213.16,471.125 3234.54,471.125 3255.91,471.125 3277.28,471.125 \n",
       "  3298.66,471.125 3320.03,471.125 3341.4,471.125 3362.78,471.125 3384.15,471.125 3405.53,471.125 3426.9,471.125 3448.27,471.125 3469.65,471.125 3491.02,471.125 \n",
       "  3512.39,471.125 3533.77,471.125 3555.14,471.125 3576.52,471.125 3597.89,471.125 3619.26,471.125 3640.64,471.125 3662.01,471.125 3683.38,471.125 3704.76,471.125 \n",
       "  3726.13,471.125 3747.51,471.125 3768.88,471.125 \n",
       "  \"/>\n",
       "<path clip-path=\"url(#clip7900)\" d=\"\n",
       "M1361.67 1187.98 L2387.03 1187.98 L2387.03 1006.54 L1361.67 1006.54  Z\n",
       "  \" fill=\"#ffffff\" fill-rule=\"evenodd\" fill-opacity=\"1\"/>\n",
       "<polyline clip-path=\"url(#clip7900)\" style=\"stroke:#000000; stroke-width:4; stroke-opacity:1; fill:none\" points=\"\n",
       "  1361.67,1187.98 2387.03,1187.98 2387.03,1006.54 1361.67,1006.54 1361.67,1187.98 \n",
       "  \"/>\n",
       "<polyline clip-path=\"url(#clip7900)\" style=\"stroke:#009af9; stroke-width:4; stroke-opacity:1; fill:none\" points=\"\n",
       "  1400.87,1067.02 1636.07,1067.02 \n",
       "  \"/>\n",
       "<path clip-path=\"url(#clip7900)\" d=\"M 0 0 M1691.11 1054.35 L1684.76 1071.55 L1697.47 1071.55 L1691.11 1054.35 M1688.47 1049.74 L1693.77 1049.74 L1706.94 1084.3 L1702.08 1084.3 L1698.93 1075.43 L1683.35 1075.43 L1680.2 1084.3 L1675.27 1084.3 L1688.47 1049.74 Z\" fill=\"#000000\" fill-rule=\"evenodd\" fill-opacity=\"1\" /><path clip-path=\"url(#clip7900)\" d=\"M 0 0 M1729.23 1059.37 L1729.23 1063.35 Q1727.42 1062.36 1725.6 1061.87 Q1723.79 1061.36 1721.94 1061.36 Q1717.79 1061.36 1715.5 1064 Q1713.21 1066.61 1713.21 1071.36 Q1713.21 1076.11 1715.5 1078.74 Q1717.79 1081.36 1721.94 1081.36 Q1723.79 1081.36 1725.6 1080.87 Q1727.42 1080.36 1729.23 1079.37 L1729.23 1083.3 Q1727.45 1084.14 1725.53 1084.55 Q1723.63 1084.97 1721.48 1084.97 Q1715.62 1084.97 1712.17 1081.29 Q1708.72 1077.61 1708.72 1071.36 Q1708.72 1065.02 1712.19 1061.38 Q1715.69 1057.75 1721.75 1057.75 Q1723.72 1057.75 1725.6 1058.17 Q1727.47 1058.56 1729.23 1059.37 Z\" fill=\"#000000\" fill-rule=\"evenodd\" fill-opacity=\"1\" /><path clip-path=\"url(#clip7900)\" d=\"M 0 0 M1737.91 1051.01 L1737.91 1058.37 L1746.68 1058.37 L1746.68 1061.68 L1737.91 1061.68 L1737.91 1075.76 Q1737.91 1078.93 1738.77 1079.83 Q1739.65 1080.74 1742.31 1080.74 L1746.68 1080.74 L1746.68 1084.3 L1742.31 1084.3 Q1737.38 1084.3 1735.5 1082.47 Q1733.63 1080.62 1733.63 1075.76 L1733.63 1061.68 L1730.5 1061.68 L1730.5 1058.37 L1733.63 1058.37 L1733.63 1051.01 L1737.91 1051.01 Z\" fill=\"#000000\" fill-rule=\"evenodd\" fill-opacity=\"1\" /><path clip-path=\"url(#clip7900)\" d=\"M 0 0 M1750.71 1074.07 L1750.71 1058.37 L1754.97 1058.37 L1754.97 1073.91 Q1754.97 1077.59 1756.41 1079.44 Q1757.84 1081.27 1760.71 1081.27 Q1764.16 1081.27 1766.15 1079.07 Q1768.16 1076.87 1768.16 1073.07 L1768.16 1058.37 L1772.42 1058.37 L1772.42 1084.3 L1768.16 1084.3 L1768.16 1080.32 Q1766.61 1082.68 1764.55 1083.84 Q1762.52 1084.97 1759.81 1084.97 Q1755.34 1084.97 1753.03 1082.19 Q1750.71 1079.42 1750.71 1074.07 M1761.43 1057.75 L1761.43 1057.75 Z\" fill=\"#000000\" fill-rule=\"evenodd\" fill-opacity=\"1\" /><path clip-path=\"url(#clip7900)\" d=\"M 0 0 M1788.67 1071.27 Q1783.51 1071.27 1781.52 1072.45 Q1779.53 1073.63 1779.53 1076.48 Q1779.53 1078.74 1781.01 1080.09 Q1782.52 1081.41 1785.09 1081.41 Q1788.63 1081.41 1790.76 1078.91 Q1792.91 1076.38 1792.91 1072.22 L1792.91 1071.27 L1788.67 1071.27 M1797.17 1069.51 L1797.17 1084.3 L1792.91 1084.3 L1792.91 1080.36 Q1791.45 1082.73 1789.28 1083.86 Q1787.1 1084.97 1783.95 1084.97 Q1779.97 1084.97 1777.61 1082.75 Q1775.27 1080.5 1775.27 1076.75 Q1775.27 1072.38 1778.19 1070.16 Q1781.13 1067.93 1786.94 1067.93 L1792.91 1067.93 L1792.91 1067.52 Q1792.91 1064.58 1790.97 1062.98 Q1789.04 1061.36 1785.55 1061.36 Q1783.33 1061.36 1781.22 1061.89 Q1779.11 1062.42 1777.17 1063.49 L1777.17 1059.55 Q1779.51 1058.65 1781.71 1058.21 Q1783.91 1057.75 1785.99 1057.75 Q1791.61 1057.75 1794.39 1060.67 Q1797.17 1063.58 1797.17 1069.51 Z\" fill=\"#000000\" fill-rule=\"evenodd\" fill-opacity=\"1\" /><path clip-path=\"url(#clip7900)\" d=\"M 0 0 M1801.64 1048.28 L1805.9 1048.28 L1805.9 1084.3 L1801.64 1084.3 L1801.64 1048.28 Z\" fill=\"#000000\" fill-rule=\"evenodd\" fill-opacity=\"1\" /><path clip-path=\"url(#clip7900)\" d=\"M 0 0 M1811.45 1078.42 L1816.34 1078.42 L1816.34 1084.3 L1811.45 1084.3 L1811.45 1078.42 M1811.45 1059.79 L1816.34 1059.79 L1816.34 1065.67 L1811.45 1065.67 L1811.45 1059.79 Z\" fill=\"#000000\" fill-rule=\"evenodd\" fill-opacity=\"1\" /><path clip-path=\"url(#clip7900)\" d=\"M 0 0 M1836.06 1049.74 L1840.73 1049.74 L1840.73 1084.3 L1836.06 1084.3 L1836.06 1049.74 Z\" fill=\"#000000\" fill-rule=\"evenodd\" fill-opacity=\"1\" /><path clip-path=\"url(#clip7900)\" d=\"M 0 0 M1866.1 1050.87 L1866.1 1055.43 Q1863.44 1054.16 1861.08 1053.54 Q1858.72 1052.91 1856.52 1052.91 Q1852.7 1052.91 1850.62 1054.39 Q1848.56 1055.87 1848.56 1058.61 Q1848.56 1060.9 1849.92 1062.08 Q1851.31 1063.24 1855.16 1063.95 L1857.98 1064.53 Q1863.21 1065.53 1865.69 1068.05 Q1868.19 1070.55 1868.19 1074.76 Q1868.19 1079.79 1864.81 1082.38 Q1861.45 1084.97 1854.95 1084.97 Q1852.49 1084.97 1849.72 1084.42 Q1846.96 1083.86 1844 1082.77 L1844 1077.96 Q1846.85 1079.55 1849.58 1080.36 Q1852.31 1081.17 1854.95 1081.17 Q1858.95 1081.17 1861.13 1079.6 Q1863.3 1078.03 1863.3 1075.11 Q1863.3 1072.56 1861.73 1071.13 Q1860.18 1069.69 1856.61 1068.98 L1853.77 1068.42 Q1848.53 1067.38 1846.2 1065.16 Q1843.86 1062.93 1843.86 1058.98 Q1843.86 1054.39 1847.08 1051.75 Q1850.32 1049.11 1855.99 1049.11 Q1858.42 1049.11 1860.94 1049.55 Q1863.47 1049.99 1866.1 1050.87 Z\" fill=\"#000000\" fill-rule=\"evenodd\" fill-opacity=\"1\" /><path clip-path=\"url(#clip7900)\" d=\"M 0 0 M1872.84 1049.74 L1879.81 1049.74 L1888.63 1073.26 L1897.49 1049.74 L1904.46 1049.74 L1904.46 1084.3 L1899.9 1084.3 L1899.9 1053.95 L1890.99 1077.66 L1886.29 1077.66 L1877.38 1053.95 L1877.38 1084.3 L1872.84 1084.3 L1872.84 1049.74 Z\" fill=\"#000000\" fill-rule=\"evenodd\" fill-opacity=\"1\" /><path clip-path=\"url(#clip7900)\" d=\"M 0 0 M1924.18 1049.74 L1931.15 1049.74 L1939.97 1073.26 L1948.84 1049.74 L1955.8 1049.74 L1955.8 1084.3 L1951.24 1084.3 L1951.24 1053.95 L1942.33 1077.66 L1937.63 1077.66 L1928.72 1053.95 L1928.72 1084.3 L1924.18 1084.3 L1924.18 1049.74 Z\" fill=\"#000000\" fill-rule=\"evenodd\" fill-opacity=\"1\" /><path clip-path=\"url(#clip7900)\" d=\"M 0 0 M1972.05 1071.27 Q1966.89 1071.27 1964.9 1072.45 Q1962.91 1073.63 1962.91 1076.48 Q1962.91 1078.74 1964.39 1080.09 Q1965.9 1081.41 1968.46 1081.41 Q1972.01 1081.41 1974.14 1078.91 Q1976.29 1076.38 1976.29 1072.22 L1976.29 1071.27 L1972.05 1071.27 M1980.55 1069.51 L1980.55 1084.3 L1976.29 1084.3 L1976.29 1080.36 Q1974.83 1082.73 1972.65 1083.86 Q1970.48 1084.97 1967.33 1084.97 Q1963.35 1084.97 1960.99 1082.75 Q1958.65 1080.5 1958.65 1076.75 Q1958.65 1072.38 1961.57 1070.16 Q1964.51 1067.93 1970.32 1067.93 L1976.29 1067.93 L1976.29 1067.52 Q1976.29 1064.58 1974.34 1062.98 Q1972.42 1061.36 1968.93 1061.36 Q1966.71 1061.36 1964.6 1061.89 Q1962.49 1062.42 1960.55 1063.49 L1960.55 1059.55 Q1962.89 1058.65 1965.09 1058.21 Q1967.28 1057.75 1969.37 1057.75 Q1974.99 1057.75 1977.77 1060.67 Q1980.55 1063.58 1980.55 1069.51 Z\" fill=\"#000000\" fill-rule=\"evenodd\" fill-opacity=\"1\" /><path clip-path=\"url(#clip7900)\" d=\"M 0 0 M2006.57 1068.65 L2006.57 1084.3 L2002.31 1084.3 L2002.31 1068.79 Q2002.31 1065.11 2000.87 1063.28 Q1999.44 1061.45 1996.57 1061.45 Q1993.12 1061.45 1991.13 1063.65 Q1989.14 1065.85 1989.14 1069.65 L1989.14 1084.3 L1984.85 1084.3 L1984.85 1058.37 L1989.14 1058.37 L1989.14 1062.4 Q1990.66 1060.06 1992.72 1058.91 Q1994.81 1057.75 1997.52 1057.75 Q2001.98 1057.75 2004.27 1060.53 Q2006.57 1063.28 2006.57 1068.65 Z\" fill=\"#000000\" fill-rule=\"evenodd\" fill-opacity=\"1\" /><path clip-path=\"url(#clip7900)\" d=\"M 0 0 M2010.59 1074.07 L2010.59 1058.37 L2014.85 1058.37 L2014.85 1073.91 Q2014.85 1077.59 2016.29 1079.44 Q2017.72 1081.27 2020.59 1081.27 Q2024.04 1081.27 2026.03 1079.07 Q2028.05 1076.87 2028.05 1073.07 L2028.05 1058.37 L2032.31 1058.37 L2032.31 1084.3 L2028.05 1084.3 L2028.05 1080.32 Q2026.5 1082.68 2024.44 1083.84 Q2022.4 1084.97 2019.69 1084.97 Q2015.22 1084.97 2012.91 1082.19 Q2010.59 1079.42 2010.59 1074.07 M2021.31 1057.75 L2021.31 1057.75 Z\" fill=\"#000000\" fill-rule=\"evenodd\" fill-opacity=\"1\" /><path clip-path=\"url(#clip7900)\" d=\"M 0 0 M2049.9 1048.28 L2049.9 1051.82 L2045.83 1051.82 Q2043.53 1051.82 2042.63 1052.75 Q2041.75 1053.68 2041.75 1056.08 L2041.75 1058.37 L2048.77 1058.37 L2048.77 1061.68 L2041.75 1061.68 L2041.75 1084.3 L2037.47 1084.3 L2037.47 1061.68 L2033.4 1061.68 L2033.4 1058.37 L2037.47 1058.37 L2037.47 1056.57 Q2037.47 1052.24 2039.48 1050.27 Q2041.5 1048.28 2045.87 1048.28 L2049.9 1048.28 Z\" fill=\"#000000\" fill-rule=\"evenodd\" fill-opacity=\"1\" /><path clip-path=\"url(#clip7900)\" d=\"M 0 0 M2066.15 1071.27 Q2060.99 1071.27 2059 1072.45 Q2057.01 1073.63 2057.01 1076.48 Q2057.01 1078.74 2058.49 1080.09 Q2059.99 1081.41 2062.56 1081.41 Q2066.1 1081.41 2068.23 1078.91 Q2070.39 1076.38 2070.39 1072.22 L2070.39 1071.27 L2066.15 1071.27 M2074.64 1069.51 L2074.64 1084.3 L2070.39 1084.3 L2070.39 1080.36 Q2068.93 1082.73 2066.75 1083.86 Q2064.58 1084.97 2061.43 1084.97 Q2057.45 1084.97 2055.08 1082.75 Q2052.75 1080.5 2052.75 1076.75 Q2052.75 1072.38 2055.66 1070.16 Q2058.6 1067.93 2064.41 1067.93 L2070.39 1067.93 L2070.39 1067.52 Q2070.39 1064.58 2068.44 1062.98 Q2066.52 1061.36 2063.02 1061.36 Q2060.8 1061.36 2058.7 1061.89 Q2056.59 1062.42 2054.64 1063.49 L2054.64 1059.55 Q2056.98 1058.65 2059.18 1058.21 Q2061.38 1057.75 2063.46 1057.75 Q2069.09 1057.75 2071.87 1060.67 Q2074.64 1063.58 2074.64 1069.51 Z\" fill=\"#000000\" fill-rule=\"evenodd\" fill-opacity=\"1\" /><path clip-path=\"url(#clip7900)\" d=\"M 0 0 M2097.77 1059.37 L2097.77 1063.35 Q2095.96 1062.36 2094.14 1061.87 Q2092.33 1061.36 2090.48 1061.36 Q2086.33 1061.36 2084.04 1064 Q2081.75 1066.61 2081.75 1071.36 Q2081.75 1076.11 2084.04 1078.74 Q2086.33 1081.36 2090.48 1081.36 Q2092.33 1081.36 2094.14 1080.87 Q2095.96 1080.36 2097.77 1079.37 L2097.77 1083.3 Q2095.99 1084.14 2094.07 1084.55 Q2092.17 1084.97 2090.02 1084.97 Q2084.16 1084.97 2080.71 1081.29 Q2077.26 1077.61 2077.26 1071.36 Q2077.26 1065.02 2080.73 1061.38 Q2084.23 1057.75 2090.29 1057.75 Q2092.26 1057.75 2094.14 1058.17 Q2096.01 1058.56 2097.77 1059.37 Z\" fill=\"#000000\" fill-rule=\"evenodd\" fill-opacity=\"1\" /><path clip-path=\"url(#clip7900)\" d=\"M 0 0 M2106.45 1051.01 L2106.45 1058.37 L2115.22 1058.37 L2115.22 1061.68 L2106.45 1061.68 L2106.45 1075.76 Q2106.45 1078.93 2107.31 1079.83 Q2108.19 1080.74 2110.85 1080.74 L2115.22 1080.74 L2115.22 1084.3 L2110.85 1084.3 Q2105.92 1084.3 2104.04 1082.47 Q2102.17 1080.62 2102.17 1075.76 L2102.17 1061.68 L2099.04 1061.68 L2099.04 1058.37 L2102.17 1058.37 L2102.17 1051.01 L2106.45 1051.01 Z\" fill=\"#000000\" fill-rule=\"evenodd\" fill-opacity=\"1\" /><path clip-path=\"url(#clip7900)\" d=\"M 0 0 M2119.25 1074.07 L2119.25 1058.37 L2123.51 1058.37 L2123.51 1073.91 Q2123.51 1077.59 2124.95 1079.44 Q2126.38 1081.27 2129.25 1081.27 Q2132.7 1081.27 2134.69 1079.07 Q2136.7 1076.87 2136.7 1073.07 L2136.7 1058.37 L2140.96 1058.37 L2140.96 1084.3 L2136.7 1084.3 L2136.7 1080.32 Q2135.15 1082.68 2133.09 1083.84 Q2131.06 1084.97 2128.35 1084.97 Q2123.88 1084.97 2121.57 1082.19 Q2119.25 1079.42 2119.25 1074.07 M2129.97 1057.75 L2129.97 1057.75 Z\" fill=\"#000000\" fill-rule=\"evenodd\" fill-opacity=\"1\" /><path clip-path=\"url(#clip7900)\" d=\"M 0 0 M2160.45 1062.36 Q2159.74 1061.94 2158.88 1061.75 Q2158.05 1061.55 2157.03 1061.55 Q2153.42 1061.55 2151.47 1063.91 Q2149.55 1066.24 2149.55 1070.64 L2149.55 1084.3 L2145.27 1084.3 L2145.27 1058.37 L2149.55 1058.37 L2149.55 1062.4 Q2150.89 1060.04 2153.05 1058.91 Q2155.2 1057.75 2158.28 1057.75 Q2158.72 1057.75 2159.25 1057.82 Q2159.78 1057.86 2160.43 1057.98 L2160.45 1062.36 Z\" fill=\"#000000\" fill-rule=\"evenodd\" fill-opacity=\"1\" /><path clip-path=\"url(#clip7900)\" d=\"M 0 0 M2164.92 1058.37 L2169.18 1058.37 L2169.18 1084.3 L2164.92 1084.3 L2164.92 1058.37 M2164.92 1048.28 L2169.18 1048.28 L2169.18 1053.68 L2164.92 1053.68 L2164.92 1048.28 Z\" fill=\"#000000\" fill-rule=\"evenodd\" fill-opacity=\"1\" /><path clip-path=\"url(#clip7900)\" d=\"M 0 0 M2195.2 1068.65 L2195.2 1084.3 L2190.94 1084.3 L2190.94 1068.79 Q2190.94 1065.11 2189.51 1063.28 Q2188.07 1061.45 2185.2 1061.45 Q2181.75 1061.45 2179.76 1063.65 Q2177.77 1065.85 2177.77 1069.65 L2177.77 1084.3 L2173.49 1084.3 L2173.49 1058.37 L2177.77 1058.37 L2177.77 1062.4 Q2179.3 1060.06 2181.36 1058.91 Q2183.44 1057.75 2186.15 1057.75 Q2190.62 1057.75 2192.91 1060.53 Q2195.2 1063.28 2195.2 1068.65 Z\" fill=\"#000000\" fill-rule=\"evenodd\" fill-opacity=\"1\" /><path clip-path=\"url(#clip7900)\" d=\"M 0 0 M2216.73 1071.04 Q2216.73 1066.41 2214.81 1063.86 Q2212.91 1061.31 2209.46 1061.31 Q2206.03 1061.31 2204.11 1063.86 Q2202.21 1066.41 2202.21 1071.04 Q2202.21 1075.64 2204.11 1078.19 Q2206.03 1080.74 2209.46 1080.74 Q2212.91 1080.74 2214.81 1078.19 Q2216.73 1075.64 2216.73 1071.04 M2220.99 1081.08 Q2220.99 1087.7 2218.05 1090.92 Q2215.11 1094.16 2209.04 1094.16 Q2206.8 1094.16 2204.81 1093.81 Q2202.82 1093.49 2200.94 1092.8 L2200.94 1088.65 Q2202.82 1089.67 2204.64 1090.16 Q2206.47 1090.64 2208.37 1090.64 Q2212.56 1090.64 2214.64 1088.44 Q2216.73 1086.27 2216.73 1081.85 L2216.73 1079.74 Q2215.41 1082.03 2213.35 1083.17 Q2211.29 1084.3 2208.42 1084.3 Q2203.65 1084.3 2200.73 1080.67 Q2197.82 1077.03 2197.82 1071.04 Q2197.82 1065.02 2200.73 1061.38 Q2203.65 1057.75 2208.42 1057.75 Q2211.29 1057.75 2213.35 1058.88 Q2215.41 1060.02 2216.73 1062.31 L2216.73 1058.37 L2220.99 1058.37 L2220.99 1081.08 Z\" fill=\"#000000\" fill-rule=\"evenodd\" fill-opacity=\"1\" /><path clip-path=\"url(#clip7900)\" d=\"M 0 0 M2245.38 1053.58 L2245.38 1066.57 L2251.26 1066.57 Q2254.53 1066.57 2256.31 1064.88 Q2258.09 1063.19 2258.09 1060.06 Q2258.09 1056.96 2256.31 1055.27 Q2254.53 1053.58 2251.26 1053.58 L2245.38 1053.58 M2240.71 1049.74 L2251.26 1049.74 Q2257.07 1049.74 2260.04 1052.38 Q2263.02 1054.99 2263.02 1060.06 Q2263.02 1065.18 2260.04 1067.8 Q2257.07 1070.41 2251.26 1070.41 L2245.38 1070.41 L2245.38 1084.3 L2240.71 1084.3 L2240.71 1049.74 Z\" fill=\"#000000\" fill-rule=\"evenodd\" fill-opacity=\"1\" /><path clip-path=\"url(#clip7900)\" d=\"M 0 0 M2267.68 1049.74 L2274.64 1049.74 L2283.46 1073.26 L2292.33 1049.74 L2299.3 1049.74 L2299.3 1084.3 L2294.74 1084.3 L2294.74 1053.95 L2285.82 1077.66 L2281.13 1077.66 L2272.21 1053.95 L2272.21 1084.3 L2267.68 1084.3 L2267.68 1049.74 Z\" fill=\"#000000\" fill-rule=\"evenodd\" fill-opacity=\"1\" /><path clip-path=\"url(#clip7900)\" d=\"M 0 0 M2303.95 1049.74 L2308.63 1049.74 L2308.63 1084.3 L2303.95 1084.3 L2303.95 1049.74 Z\" fill=\"#000000\" fill-rule=\"evenodd\" fill-opacity=\"1\" /><polyline clip-path=\"url(#clip7900)\" style=\"stroke:#e26f46; stroke-width:4; stroke-opacity:1; fill:none\" points=\"\n",
       "  1400.87,1127.5 1636.07,1127.5 \n",
       "  \"/>\n",
       "<path clip-path=\"url(#clip7900)\" d=\"M 0 0 M1675.27 1110.22 L1682.24 1110.22 L1691.06 1133.74 L1699.92 1110.22 L1706.89 1110.22 L1706.89 1144.78 L1702.33 1144.78 L1702.33 1114.43 L1693.42 1138.14 L1688.72 1138.14 L1679.81 1114.43 L1679.81 1144.78 L1675.27 1144.78 L1675.27 1110.22 Z\" fill=\"#000000\" fill-rule=\"evenodd\" fill-opacity=\"1\" /><path clip-path=\"url(#clip7900)\" d=\"M 0 0 M1733.54 1130.75 L1733.54 1132.84 L1713.95 1132.84 Q1714.23 1137.23 1716.59 1139.55 Q1718.98 1141.84 1723.21 1141.84 Q1725.67 1141.84 1727.96 1141.24 Q1730.27 1140.64 1732.54 1139.43 L1732.54 1143.46 Q1730.25 1144.43 1727.84 1144.94 Q1725.43 1145.45 1722.96 1145.45 Q1716.75 1145.45 1713.12 1141.84 Q1709.51 1138.23 1709.51 1132.07 Q1709.51 1125.71 1712.93 1121.98 Q1716.38 1118.23 1722.22 1118.23 Q1727.45 1118.23 1730.48 1121.61 Q1733.54 1124.97 1733.54 1130.75 M1729.28 1129.5 Q1729.23 1126.01 1727.31 1123.92 Q1725.41 1121.84 1722.26 1121.84 Q1718.7 1121.84 1716.54 1123.85 Q1714.42 1125.87 1714.09 1129.53 L1729.28 1129.5 Z\" fill=\"#000000\" fill-rule=\"evenodd\" fill-opacity=\"1\" /><path clip-path=\"url(#clip7900)\" d=\"M 0 0 M1749.79 1131.75 Q1744.62 1131.75 1742.63 1132.93 Q1740.64 1134.11 1740.64 1136.96 Q1740.64 1139.22 1742.12 1140.57 Q1743.63 1141.89 1746.2 1141.89 Q1749.74 1141.89 1751.87 1139.39 Q1754.02 1136.86 1754.02 1132.7 L1754.02 1131.75 L1749.79 1131.75 M1758.28 1129.99 L1758.28 1144.78 L1754.02 1144.78 L1754.02 1140.84 Q1752.56 1143.21 1750.39 1144.34 Q1748.21 1145.45 1745.06 1145.45 Q1741.08 1145.45 1738.72 1143.23 Q1736.38 1140.98 1736.38 1137.23 Q1736.38 1132.86 1739.3 1130.64 Q1742.24 1128.41 1748.05 1128.41 L1754.02 1128.41 L1754.02 1128 Q1754.02 1125.06 1752.08 1123.46 Q1750.16 1121.84 1746.66 1121.84 Q1744.44 1121.84 1742.33 1122.37 Q1740.23 1122.9 1738.28 1123.97 L1738.28 1120.03 Q1740.62 1119.13 1742.82 1118.69 Q1745.02 1118.23 1747.1 1118.23 Q1752.73 1118.23 1755.5 1121.15 Q1758.28 1124.06 1758.28 1129.99 Z\" fill=\"#000000\" fill-rule=\"evenodd\" fill-opacity=\"1\" /><path clip-path=\"url(#clip7900)\" d=\"M 0 0 M1784.3 1129.13 L1784.3 1144.78 L1780.04 1144.78 L1780.04 1129.27 Q1780.04 1125.59 1778.6 1123.76 Q1777.17 1121.93 1774.3 1121.93 Q1770.85 1121.93 1768.86 1124.13 Q1766.87 1126.33 1766.87 1130.13 L1766.87 1144.78 L1762.59 1144.78 L1762.59 1118.85 L1766.87 1118.85 L1766.87 1122.88 Q1768.4 1120.54 1770.46 1119.39 Q1772.54 1118.23 1775.25 1118.23 Q1779.72 1118.23 1782.01 1121.01 Q1784.3 1123.76 1784.3 1129.13 Z\" fill=\"#000000\" fill-rule=\"evenodd\" fill-opacity=\"1\" /><path clip-path=\"url(#clip7900)\" d=\"M 0 0 M1789.85 1138.9 L1794.74 1138.9 L1794.74 1144.78 L1789.85 1144.78 L1789.85 1138.9 M1789.85 1120.27 L1794.74 1120.27 L1794.74 1126.15 L1789.85 1126.15 L1789.85 1120.27 Z\" fill=\"#000000\" fill-rule=\"evenodd\" fill-opacity=\"1\" /><path clip-path=\"url(#clip7900)\" d=\"M 0 0 M1814.92 1110.22 L1833.28 1110.22 L1833.28 1114.16 L1819.21 1114.16 L1819.21 1122.63 Q1820.22 1122.28 1821.24 1122.12 Q1822.26 1121.93 1823.28 1121.93 Q1829.07 1121.93 1832.45 1125.1 Q1835.83 1128.28 1835.83 1133.69 Q1835.83 1139.27 1832.35 1142.37 Q1828.88 1145.45 1822.56 1145.45 Q1820.39 1145.45 1818.12 1145.08 Q1815.87 1144.71 1813.47 1143.97 L1813.47 1139.27 Q1815.55 1140.4 1817.77 1140.96 Q1819.99 1141.52 1822.47 1141.52 Q1826.47 1141.52 1828.81 1139.41 Q1831.15 1137.3 1831.15 1133.69 Q1831.15 1130.08 1828.81 1127.97 Q1826.47 1125.87 1822.47 1125.87 Q1820.6 1125.87 1818.72 1126.28 Q1816.87 1126.7 1814.92 1127.58 L1814.92 1110.22 Z\" fill=\"#000000\" fill-rule=\"evenodd\" fill-opacity=\"1\" /><path clip-path=\"url(#clip7900)\" d=\"M 0 0 M1844.92 1140.84 L1861.24 1140.84 L1861.24 1144.78 L1839.3 1144.78 L1839.3 1140.84 Q1841.96 1138.09 1846.54 1133.46 Q1851.15 1128.81 1852.33 1127.47 Q1854.58 1124.94 1855.46 1123.21 Q1856.36 1121.45 1856.36 1119.76 Q1856.36 1117 1854.41 1115.27 Q1852.49 1113.53 1849.39 1113.53 Q1847.19 1113.53 1844.74 1114.29 Q1842.31 1115.06 1839.53 1116.61 L1839.53 1111.89 Q1842.35 1110.75 1844.81 1110.17 Q1847.26 1109.59 1849.3 1109.59 Q1854.67 1109.59 1857.86 1112.28 Q1861.06 1114.97 1861.06 1119.46 Q1861.06 1121.59 1860.25 1123.51 Q1859.46 1125.4 1857.35 1128 Q1856.78 1128.67 1853.67 1131.89 Q1850.57 1135.08 1844.92 1140.84 Z\" fill=\"#000000\" fill-rule=\"evenodd\" fill-opacity=\"1\" /><path clip-path=\"url(#clip7900)\" d=\"M 0 0 M1866.31 1138.9 L1871.2 1138.9 L1871.2 1144.78 L1866.31 1144.78 L1866.31 1138.9 Z\" fill=\"#000000\" fill-rule=\"evenodd\" fill-opacity=\"1\" /><path clip-path=\"url(#clip7900)\" d=\"M 0 0 M1886.27 1128.37 Q1882.93 1128.37 1881.01 1130.15 Q1879.11 1131.93 1879.11 1135.06 Q1879.11 1138.18 1881.01 1139.97 Q1882.93 1141.75 1886.27 1141.75 Q1889.6 1141.75 1891.52 1139.97 Q1893.44 1138.16 1893.44 1135.06 Q1893.44 1131.93 1891.52 1130.15 Q1889.62 1128.37 1886.27 1128.37 M1881.59 1126.38 Q1878.58 1125.64 1876.89 1123.58 Q1875.22 1121.52 1875.22 1118.55 Q1875.22 1114.41 1878.16 1112 Q1881.13 1109.59 1886.27 1109.59 Q1891.43 1109.59 1894.37 1112 Q1897.31 1114.41 1897.31 1118.55 Q1897.31 1121.52 1895.62 1123.58 Q1893.95 1125.64 1890.97 1126.38 Q1894.34 1127.16 1896.22 1129.46 Q1898.12 1131.75 1898.12 1135.06 Q1898.12 1140.08 1895.04 1142.77 Q1891.98 1145.45 1886.27 1145.45 Q1880.55 1145.45 1877.47 1142.77 Q1874.41 1140.08 1874.41 1135.06 Q1874.41 1131.75 1876.31 1129.46 Q1878.21 1127.16 1881.59 1126.38 M1879.88 1118.99 Q1879.88 1121.68 1881.54 1123.18 Q1883.23 1124.69 1886.27 1124.69 Q1889.28 1124.69 1890.97 1123.18 Q1892.68 1121.68 1892.68 1118.99 Q1892.68 1116.31 1890.97 1114.8 Q1889.28 1113.3 1886.27 1113.3 Q1883.23 1113.3 1881.54 1114.8 Q1879.88 1116.31 1879.88 1118.99 Z\" fill=\"#000000\" fill-rule=\"evenodd\" fill-opacity=\"1\" /></svg>\n"
      ]
     },
     "execution_count": 11,
     "metadata": {},
     "output_type": "execute_result"
    }
   ],
   "source": [
    "using Plots\n",
    "\n",
    "# show range\n",
    "rows = 1:record_count\n",
    "\n",
    "gr()\n",
    "plot(          dates[rows], # x-axis: dates\n",
    "               [  df1[rows,3] df1[rows,4]   ], # y-axis\n",
    "    label    = [  string(columns[3], \": ISM Manufacturing PMI\")  string(columns[4], \": \", df1[1,4])   ]  ,\n",
    "    legend   =:bottom, \n",
    "              # :right, :left, :top, :bottom, :inside, :best, :legend, :topright, :topleft, :bottomleft, :bottomright\n",
    "    xlabel   = \"time\",\n",
    "    ylabel   = \"indicators\",\n",
    "    size     = (980, 400), # width, height\n",
    "    layout = (1, 1) # number of graphs: vertically, horizontally\n",
    "    )"
   ]
  },
  {
   "cell_type": "markdown",
   "metadata": {},
   "source": [
    "# TODO\n",
    "- DONE: reverse the dataset chronologically\n",
    "- Done: Clean up TOC\n",
    "- Qunatize data\n",
    "- Save dataset\n",
    "- Create How to do averages"
   ]
  },
  {
   "cell_type": "code",
   "execution_count": null,
   "metadata": {},
   "outputs": [],
   "source": []
  }
 ],
 "metadata": {
  "kernelspec": {
   "display_name": "Julia 1.5.0",
   "language": "julia",
   "name": "julia-1.5"
  },
  "language_info": {
   "file_extension": ".jl",
   "mimetype": "application/julia",
   "name": "julia",
   "version": "1.5.0"
  },
  "toc": {
   "base_numbering": 1,
   "nav_menu": {},
   "number_sections": false,
   "sideBar": true,
   "skip_h1_title": false,
   "title_cell": "Table of Contents",
   "title_sidebar": "Contents",
   "toc_cell": true,
   "toc_position": {},
   "toc_section_display": true,
   "toc_window_display": true
  }
 },
 "nbformat": 4,
 "nbformat_minor": 4
}
