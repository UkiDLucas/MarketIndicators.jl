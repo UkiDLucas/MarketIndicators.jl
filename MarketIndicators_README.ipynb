{
 "cells": [
  {
   "cell_type": "markdown",
   "metadata": {},
   "source": [
    "# MarketIndicators.jl\n",
    "\n",
    "*by [Uki D. Lucas](https://www.linkedin.com/in/ukidlucas/)*\n",
    "\n",
    "This project was started in August 2020 on [GitHub](https://github.com/UkiDLucas/MarketIndicators.jl)"
   ]
  },
  {
   "cell_type": "markdown",
   "metadata": {
    "toc": true
   },
   "source": [
    "<h1>Table of Contents<span class=\"tocSkip\"></span></h1>\n",
    "<div class=\"toc\"><ul class=\"toc-item\"><li><span><a href=\"#Overview\" data-toc-modified-id=\"Overview-1\"><span class=\"toc-item-num\">1&nbsp;&nbsp;</span>Overview</a></span><ul class=\"toc-item\"><li><span><a href=\"#What-are-Market-Indicators?\" data-toc-modified-id=\"What-are-Market-Indicators?-1.1\"><span class=\"toc-item-num\">1.1&nbsp;&nbsp;</span>What are Market Indicators?</a></span></li><li><span><a href=\"#Project-Objectives\" data-toc-modified-id=\"Project-Objectives-1.2\"><span class=\"toc-item-num\">1.2&nbsp;&nbsp;</span>Project Objectives</a></span></li><li><span><a href=\"#Why-using-Machine-Learning-and-not-spreadsheets?\" data-toc-modified-id=\"Why-using-Machine-Learning-and-not-spreadsheets?-1.3\"><span class=\"toc-item-num\">1.3&nbsp;&nbsp;</span>Why using Machine Learning and not spreadsheets?</a></span></li><li><span><a href=\"#Machine-Learning-approach\" data-toc-modified-id=\"Machine-Learning-approach-1.4\"><span class=\"toc-item-num\">1.4&nbsp;&nbsp;</span>Machine Learning approach</a></span></li><li><span><a href=\"#Why-Julia?\" data-toc-modified-id=\"Why-Julia?-1.5\"><span class=\"toc-item-num\">1.5&nbsp;&nbsp;</span>Why Julia?</a></span></li></ul></li><li><span><a href=\"#Data-acquisition\" data-toc-modified-id=\"Data-acquisition-2\"><span class=\"toc-item-num\">2&nbsp;&nbsp;</span>Data acquisition</a></span><ul class=\"toc-item\"><li><span><a href=\"#Learn-about-market-indicators\" data-toc-modified-id=\"Learn-about-market-indicators-2.1\"><span class=\"toc-item-num\">2.1&nbsp;&nbsp;</span>Learn about market indicators</a></span></li><li><span><a href=\"#Download-from-Yahoo-Finance\" data-toc-modified-id=\"Download-from-Yahoo-Finance-2.2\"><span class=\"toc-item-num\">2.2&nbsp;&nbsp;</span>Download from Yahoo Finance</a></span></li><li><span><a href=\"#Download-from-mql5.com\" data-toc-modified-id=\"Download-from-mql5.com-2.3\"><span class=\"toc-item-num\">2.3&nbsp;&nbsp;</span>Download from mql5.com</a></span></li></ul></li><li><span><a href=\"#Data-pre-processing\" data-toc-modified-id=\"Data-pre-processing-3\"><span class=\"toc-item-num\">3&nbsp;&nbsp;</span>Data pre-processing</a></span></li><li><span><a href=\"#Date-formatting\" data-toc-modified-id=\"Date-formatting-4\"><span class=\"toc-item-num\">4&nbsp;&nbsp;</span>Date formatting</a></span><ul class=\"toc-item\"><li><span><a href=\"#Explanation-of-terms\" data-toc-modified-id=\"Explanation-of-terms-4.1\"><span class=\"toc-item-num\">4.1&nbsp;&nbsp;</span>Explanation of terms</a></span></li><li><span><a href=\"#the-&quot;y-m-d&quot;-date-format\" data-toc-modified-id=\"the-&quot;y-m-d&quot;-date-format-4.2\"><span class=\"toc-item-num\">4.2&nbsp;&nbsp;</span>the \"y-m-d\" date format</a></span></li><li><span><a href=\"#the-&quot;y.m.d&quot;-date-format\" data-toc-modified-id=\"the-&quot;y.m.d&quot;-date-format-4.3\"><span class=\"toc-item-num\">4.3&nbsp;&nbsp;</span>the \"y.m.d\" date format</a></span></li><li><span><a href=\"#the-&quot;u-d,-y&quot;-date-format\" data-toc-modified-id=\"the-&quot;u-d,-y&quot;-date-format-4.4\"><span class=\"toc-item-num\">4.4&nbsp;&nbsp;</span>the \"u d, y\" date format</a></span></li></ul></li><li><span><a href=\"#Rata-Die-(days-since)\" data-toc-modified-id=\"Rata-Die-(days-since)-5\"><span class=\"toc-item-num\">5&nbsp;&nbsp;</span>Rata Die (days since)</a></span></li><li><span><a href=\"#Populate-missing-indicators-with-previously-known-values\" data-toc-modified-id=\"Populate-missing-indicators-with-previously-known-values-6\"><span class=\"toc-item-num\">6&nbsp;&nbsp;</span>Populate missing indicators with previously known values</a></span><ul class=\"toc-item\"><li><span><a href=\"#Pseudo-Code\" data-toc-modified-id=\"Pseudo-Code-6.1\"><span class=\"toc-item-num\">6.1&nbsp;&nbsp;</span>Pseudo Code</a></span></li><li><span><a href=\"#Code-Example\" data-toc-modified-id=\"Code-Example-6.2\"><span class=\"toc-item-num\">6.2&nbsp;&nbsp;</span>Code Example</a></span></li></ul></li><li><span><a href=\"#Normalize-the-data\" data-toc-modified-id=\"Normalize-the-data-7\"><span class=\"toc-item-num\">7&nbsp;&nbsp;</span>Normalize the data</a></span></li></ul></div>"
   ]
  },
  {
   "cell_type": "markdown",
   "metadata": {},
   "source": [
    "<hr />\n",
    "\n",
    "## Overview\n",
    "\n",
    "### What are Market Indicators?\n",
    "\n",
    "Market Indicators are **collections of data points** specific to a particular segment of the market, for example:\n",
    "- \"S&P 500\" index show how major 500 stocks as a whole are performing\n",
    "- \"ISM Manufacturing\" index shows how well the manufacturing industry is doing\n",
    "- \"GDP\" index (Gross Domestic Product) shows how the country is doing\n",
    "- etc., etc., etc.\n",
    "\n",
    "There are hundreds, if not thousands, of such indicators."
   ]
  },
  {
   "cell_type": "markdown",
   "metadata": {},
   "source": [
    "### Project Objectives\n",
    "\n",
    "- The primary goal of the project is to **gather and analyze** various market indicators.\n",
    "- The secondary goal is to predict market trends 30 to 90 days ahead. \n",
    "- The tertiary goal is to predict a particular stock price based on the market indicators.\n",
    "- Additionally, the goal will be to maintain a stock portfolio including diversification using \"hedge fund\" principles.\n",
    "- Finally, it is my goal to produce a usable code and document the process."
   ]
  },
  {
   "cell_type": "markdown",
   "metadata": {},
   "source": [
    "### Why using Machine Learning and not spreadsheets?\n",
    "\n",
    "The spreadsheets (i.e. Microsoft Excel, Apple Numbers, Google Sheets) and their graphing capability are the bread and butter of market analysis. They are great when comparing only a few indicators.\n",
    "\n",
    "### Machine Learning approach\n",
    "\n",
    "The overwhelming advantage of machine learning, or Artificial Intelligence (AI), is apparent when that we try to find subtle **patterns in thousands of indicators**. The human brain (using spreadsheets) fails to grasp the wealth of the information presented. \n",
    "\n",
    "The machine learning, on the other hand can easily detect the patterns in massive datasets and derive a conclusion."
   ]
  },
  {
   "cell_type": "markdown",
   "metadata": {},
   "source": [
    "### Why Julia?\n",
    "\n",
    "- Julia is young, fast, elegant, multitasking and does the math extremely well, of course we are talking about [Julia programming language](https://docs.julialang.org/en/v1/)\n",
    "- unlike C,C++, it is a pleasure to write and read Julia\n",
    "- it is designed for scientific computing and machine learning\n",
    "- similarly to C, it is extremely fast\n",
    "- similar to Python, it is very easy to learn\n",
    "- it is designed for parallelism\n",
    "- it is designed for distributed computing"
   ]
  },
  {
   "cell_type": "markdown",
   "metadata": {},
   "source": [
    "<hr />\n",
    "\n",
    "## Data acquisition\n",
    "\n",
    "### Learn about market indicators\n",
    "- [indicators that move the market](https://www.investopedia.com/articles/fundamental-analysis/10/indicators-that-move-the-market.asp)\n",
    "\n",
    "In this project, I started with a couple of dozen common market indicators and plan to expand to as many as I can find and use.\n",
    "\n",
    "I have written a Julia [notebook](https://github.com/UkiDLucas/MarketIndicators.jl/blob/master/content/02%20Fetch%20Web%20Data.ipynb) that automatically fetched the data from the web and saves it locally as Comma Separated Value (.csv) spreadsheets."
   ]
  },
  {
   "cell_type": "markdown",
   "metadata": {},
   "source": [
    "### Download from Yahoo Finance\n",
    "\n",
    "- [Yahoo Finance > Historical Data > Max](https://finance.yahoo.com/quote/%5EDJI/history?p=%5EDJI)\n",
    "- [Apple AAPL - finance.yahoo.com](\"https://finance.yahoo.com/quote/AAPL/history?p=AAPL\")\n",
    "\n",
    "The Yahoo Finance website is a great source of current and historical data for stocks and market indexes. "
   ]
  },
  {
   "cell_type": "markdown",
   "metadata": {},
   "source": [
    "### Download from mql5.com\n",
    "\n",
    "-[mql5.com](https://www.mql5.com/en/economic-calendar/united-states)\n",
    "\n",
    "This website is a great source for dozens of market indicators."
   ]
  },
  {
   "cell_type": "markdown",
   "metadata": {},
   "source": [
    "[back to top](#Table-of-Contents)\n",
    "\n",
    "<hr />\n",
    "\n",
    "## Data pre-processing\n",
    "\n",
    "Since the data comes from the different sources, before the analysis, I have to check that it is formatted properly, if it has missing values, if the values are usable.\n",
    "\n",
    "In fact, I work in a multi-national corporation that does not enforce common notation standards and I see a gamut of notations, some of which have very different meanings.\n",
    "\n",
    "Some examples:\n",
    "\n",
    "- 1 234 in USA are 2 separate numbers\n",
    "- 1 234 is one thousand two hundred thirty four coming from Germany\n",
    "- 1'234 is also sometimes seen in Europe for the above\n",
    "- 1.234 in USA is a single decimal number one and two hundred thirty four thousands\n",
    "- 1,234 is the same as above in Europe\n",
    "- \\$1.0 is one US buck\n",
    "- 1,0$ is also one dollar, but I do not see many Americans recognizing it. \n",
    "- 2/12/12 is December 2, 2012, in Europe, but I would never advise anyone writing it this way.\n",
    "- 12/2/12 is December 2, 2002, in USA, but I would never advise anyone writing it this way.\n",
    "- 2012-12-01 is probably the most clear, logical and sortable way of writing the same date\n",
    "- 1M is one million, but I see it being used for meters.\n",
    "- 1m is one meter, but I see it being used for millions.\n",
    "- 1s measures time (seconds)\n",
    "- 1S measures electrical conductance (siemens)\n",
    "\n",
    "\n",
    "The list could be long, very long.\n",
    "\n",
    "The [**International System of Units**](https://en.wikipedia.org/wiki/International_System_of_Units) solves some of the above, but not all."
   ]
  },
  {
   "cell_type": "markdown",
   "metadata": {},
   "source": [
    "## Date formatting\n",
    "\n",
    "The dates, coming in the spreadsheets, especially these that are entered by hand, have a maddening array of possible formats.  \n",
    "\n",
    "The task of getting all the dates to the same format is crucial as the market is all about dates.\n",
    "\n",
    "Since I am using Julia language, I will be using [Dates module](https://docs.julialang.org/en/v1/stdlib/Dates/) terminology. \n",
    "\n",
    "```Julia \n",
    "    using Dates\n",
    "    original_format = \"d/m/y\"\n",
    "    Dates.Date(\"1/12/2021\", original_format) \n",
    "    # results in \"2021-12-01\"\n",
    "```\n",
    "\n",
    "### Explanation of terms\n",
    "\n",
    "- **u**: 3 letter abbreviation of the month in English\n",
    "- **d**: 1 or 2 digit day of the month\n",
    "- **m**: 2 digit month\n",
    "- **y**: 2 or 4 digit year, **note \"50\" results in \"0050\" and not \"1950\", or \"2050\"**\n",
    "\n",
    "In the last one if the year is written as \"yy\" **a manual or programmatic fix may be needed**."
   ]
  },
  {
   "cell_type": "markdown",
   "metadata": {
    "ExecuteTime": {
     "end_time": "2020-11-25T09:46:33.883000-05:00",
     "start_time": "2020-11-25T14:46:32.046Z"
    }
   },
   "source": [
    "\n",
    "\n",
    "### the \"y-m-d\" date format\n",
    "\n",
    "The date format **I like** is \"1950-05-31\", or (yyyy-mm-dd) as it is **less error prone, logical, and easily sortable**. This also happens to be a default of Julia.\n",
    "\n",
    "This format is also used by **Yahoo Finance** export.\n",
    "\n",
    "```Julia \n",
    "    using Dates\n",
    "    Dates.Date(\"1950-05-31\", \"y-m-d\")\n",
    "    # result: 1950-05-31\n",
    "```"
   ]
  },
  {
   "cell_type": "markdown",
   "metadata": {
    "ExecuteTime": {
     "end_time": "2020-11-25T09:52:12.422000-05:00",
     "start_time": "2020-11-25T14:52:12.169Z"
    }
   },
   "source": [
    "### the \"y.m.d\" date format\n",
    "\n",
    "This format is used by [MQL5.com economic calendar](https://www.mql5.com/en/economic-calendar), a primary source of indicator data.\n",
    "\n",
    "```Julia \n",
    "    Dates.Date(\"1950.5.31\", \"y.m.d\") \n",
    "    # result: 1950-05-31\n",
    "```"
   ]
  },
  {
   "cell_type": "markdown",
   "metadata": {},
   "source": [
    "### the \"u d, y\" date format\n",
    "\n",
    "As an example, the standard in USA is \"Aug 31, 1950\" (u d, y) \n",
    "\n",
    "```Julia \n",
    "    Dates.Date(\"May 31, 1950\", \"u d, y\") \n",
    "    # result: 1950-05-31\n",
    "```"
   ]
  },
  {
   "cell_type": "markdown",
   "metadata": {},
   "source": [
    "<hr />\n",
    "\n",
    "## Rata Die (days since)\n",
    "\n",
    "Using dates is useful, but the market indicators are not updated on daily basis, most come out bi-weekly, monthly or event quarterly, inevitably, we will have some days that are \"missing\" in our datasets.\n",
    "\n",
    "Counting and comparing dates is a messy business, it is better to assign an absolute Integer number to each day. \n",
    "\n",
    "We will use [Rata Die](https://en.wikipedia.org/wiki/Rata_Die), or the \"days since\" some fixed date in our data. "
   ]
  },
  {
   "cell_type": "markdown",
   "metadata": {},
   "source": [
    "<hr />\n",
    "\n",
    "## Populate missing indicators with previously known values\n",
    "\n",
    "### Pseudo Code\n",
    "\n",
    "- get value for the first row\n",
    "- for each row starting at row 2\n",
    "    - get the current value\n",
    "        - if that value is missing\n",
    "            - set it to the previous value if you have it\n",
    "        - if you have current row value\n",
    "            - set the previous to be equal to current"
   ]
  },
  {
   "cell_type": "markdown",
   "metadata": {},
   "source": [
    "### Code Example\n",
    "\n",
    "Note: The actual code may diverge from the example below, hence \"Read the source, Luke\".\n",
    "\n",
    "```Julia \n",
    "column = 6 # choose column to populate\n",
    "previous_value = df[1, column]\n",
    "rows = size(df)[1] # number of rows in the dataframe\n",
    "\n",
    "for row in 2:rows # start with second row\n",
    "    \n",
    "    value = df[row, column] # get value for the current row\n",
    "    \n",
    "    if ismissing(value) # need to do something\n",
    "        if ismissing(previous_value)\n",
    "            # nothing to populate with, go to the next row\n",
    "            continue\n",
    "        else # we have a previous value\n",
    "            df[row, column] = previous_value\n",
    "        end\n",
    "    else # we have a pre-existing indicator\n",
    "        previous_value = value\n",
    "    end\n",
    "end\n",
    "```"
   ]
  },
  {
   "cell_type": "markdown",
   "metadata": {},
   "source": [
    "<hr />\n",
    "\n",
    "## Normalize the data"
   ]
  },
  {
   "cell_type": "markdown",
   "metadata": {},
   "source": [
    "Let's say we have two market indicators, one ranges from -1 to 1 and another from 0 to 100. Obviously it is not easy to compare them to see how they influence each other. \n",
    "\n",
    "![title](images/not_normalized.png)\n"
   ]
  },
  {
   "cell_type": "markdown",
   "metadata": {},
   "source": [
    "Normalization is nothing else than \"scaling\" the data to be able to compare apples-to-apples.\n",
    "\n",
    "![title](images/normalized.png)"
   ]
  }
 ],
 "metadata": {
  "kernelspec": {
   "display_name": "Julia 1.4.2",
   "language": "julia",
   "name": "julia-1.4"
  },
  "language_info": {
   "file_extension": ".jl",
   "mimetype": "application/julia",
   "name": "julia",
   "version": "1.4.2"
  },
  "toc": {
   "base_numbering": 1,
   "nav_menu": {},
   "number_sections": true,
   "sideBar": true,
   "skip_h1_title": true,
   "title_cell": "Table of Contents",
   "title_sidebar": "Contents",
   "toc_cell": true,
   "toc_position": {},
   "toc_section_display": true,
   "toc_window_display": true
  },
  "varInspector": {
   "cols": {
    "lenName": 16,
    "lenType": 16,
    "lenVar": 40
   },
   "kernels_config": {
    "python": {
     "delete_cmd_postfix": "",
     "delete_cmd_prefix": "del ",
     "library": "var_list.py",
     "varRefreshCmd": "print(var_dic_list())"
    },
    "r": {
     "delete_cmd_postfix": ") ",
     "delete_cmd_prefix": "rm(",
     "library": "var_list.r",
     "varRefreshCmd": "cat(var_dic_list()) "
    }
   },
   "types_to_exclude": [
    "module",
    "function",
    "builtin_function_or_method",
    "instance",
    "_Feature"
   ],
   "window_display": false
  }
 },
 "nbformat": 4,
 "nbformat_minor": 4
}
