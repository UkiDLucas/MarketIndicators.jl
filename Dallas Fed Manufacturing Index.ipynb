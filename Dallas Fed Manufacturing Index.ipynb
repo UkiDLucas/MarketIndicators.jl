{
 "cells": [
  {
   "cell_type": "markdown",
   "metadata": {},
   "source": [
    "# Dallas Fed Manufacturing Index\n",
    "\n",
    "\n",
    "\n",
    "Dallas Fed Manufacturing Index is released every month. It reflects overall business conditions and activity in the Texas' manufacturing sector.\n",
    "\n",
    "The index is calculated based on a survey of more than 100 large manufacturing companies in the region. Company's managers are polled to assess changes in working conditions for a number of parameters, such as production, new orders, prices in the current month and forecasts for the next six months. Also, they characterize the overall business activity. The survey participants are asked to provide relative estimates: whether figures have increased, decreased or remain unchanged.\n",
    "\n",
    "Separate indices are calculated for each of the values based on reports. The index is calculated as a difference between the percentage of respondents reporting a decrease and the percentage of those reporting growth. So, if the index value is positive, this means that most of the companies have reported an improvement in the business environment. The index values are seasonally adjusted.\n",
    "\n",
    "Texas makes a significant contribution to the national economy, since it is second only to California in terms of industrial production, and the leading region in terms of exports. 9.5% of the total US production is located here. Thus, Dallas Fed Manufacturing Index may serve as a leading indicator of the entire US economy health. Its key values closely correlate with national ones.\n",
    "\n",
    "The growth in production activity is a favorable factor for economic growth. Therefore, an increase in the Dallas Fed Manufacturing Index may affect dollar quotes positively.\n",
    "\n",
    "## source\n",
    "\n",
    "- https://www.mql5.com/en/economic-calendar/united-states/dallas-fed-manufacturing-business-index"
   ]
  },
  {
   "cell_type": "code",
   "execution_count": null,
   "metadata": {},
   "outputs": [],
   "source": []
  }
 ],
 "metadata": {
  "kernelspec": {
   "display_name": "Julia 1.5.0",
   "language": "julia",
   "name": "julia-1.5"
  },
  "language_info": {
   "file_extension": ".jl",
   "mimetype": "application/julia",
   "name": "julia",
   "version": "1.5.0"
  },
  "toc": {
   "base_numbering": 1,
   "nav_menu": {},
   "number_sections": true,
   "sideBar": true,
   "skip_h1_title": false,
   "title_cell": "Table of Contents",
   "title_sidebar": "Contents",
   "toc_cell": false,
   "toc_position": {},
   "toc_section_display": true,
   "toc_window_display": false
  }
 },
 "nbformat": 4,
 "nbformat_minor": 4
}
