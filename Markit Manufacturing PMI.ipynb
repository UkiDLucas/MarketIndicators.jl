{
 "cells": [
  {
   "cell_type": "markdown",
   "metadata": {},
   "source": [
    "# Markit Manufacturing PMI\n",
    "\n",
    "Markit Manufacturing PMI is an indicator of changes in business conditions in the US manufacturing sector in the specified month. The indicator is based on monthly surveys of purchasing managers working in private companies of the manufacturing sector.\n",
    "\n",
    "Often purchasing managers can track changes in market conditions prior to other company employees, because purchases precede company's production activities. Purchasing managers are among the first to notice such changes. The sample for the survey are chosen so as to cover the maximum possible number of large companies across the country.\n",
    "\n",
    "Unlike the PMI published by ISM, Markit PMI only includes information from private companies. Purchasing managers fill in questionnaire, in which they characterize the main parameters of their work:\n",
    "\n",
    "Output\n",
    "New orders\n",
    "Backlogs\n",
    "Price paid (for materials, services and goods purchased in the production process)\n",
    "Prices received\n",
    "Suppliers' delivery times\n",
    "Inventories\n",
    "Employment\n",
    "Future output\n",
    "Respondents are asked to provide a relative estimate, showing whether the above parameters have improved, deteriorated or have not changed. Individual subindexes are calculated based on these answers. These subindexes characterize inflation, employment and other key indicators of economic activity. The index is seasonally adjusted. Individual weights are given to polled companies. Readings above 50 indicate that most of respondents positively characterize current business conditions. Readings below 50 mean worsening of business conditions.\n",
    "\n",
    "PMI is one of the most popular indexes closely watched by analysts. It provides operational information covering the entire manufacturing sector. It is interpreted as a leading indicator of production and inflation. Manufacturing PMI growth is an indication of favorable market conditions and can be seen as positive for the US dollar.\n",
    "\n",
    "## Source\n",
    "\n",
    "- https://www.mql5.com/en/economic-calendar/united-states/markit-manufacturing-pmi"
   ]
  },
  {
   "cell_type": "code",
   "execution_count": null,
   "metadata": {},
   "outputs": [],
   "source": []
  }
 ],
 "metadata": {
  "kernelspec": {
   "display_name": "Julia 1.4.2",
   "language": "julia",
   "name": "julia-1.4"
  },
  "language_info": {
   "file_extension": ".jl",
   "mimetype": "application/julia",
   "name": "julia",
   "version": "1.4.2"
  }
 },
 "nbformat": 4,
 "nbformat_minor": 4
}
