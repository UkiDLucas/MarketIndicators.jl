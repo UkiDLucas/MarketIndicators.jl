{
 "cells": [
  {
   "cell_type": "markdown",
   "metadata": {
    "toc": true
   },
   "source": [
    "<h1>Table of Contents<span class=\"tocSkip\"></span></h1>\n",
    "<div class=\"toc\"><ul class=\"toc-item\"><li><span><a href=\"#Initial-Jobless-Claims\" data-toc-modified-id=\"Initial-Jobless-Claims-1\"><span class=\"toc-item-num\">1&nbsp;&nbsp;</span>Initial Jobless Claims</a></span><ul class=\"toc-item\"><li><span><a href=\"#Source\" data-toc-modified-id=\"Source-1.1\"><span class=\"toc-item-num\">1.1&nbsp;&nbsp;</span>Source</a></span></li><li><span><a href=\"#Stretch-to-a-full-browser-width\" data-toc-modified-id=\"Stretch-to-a-full-browser-width-1.2\"><span class=\"toc-item-num\">1.2&nbsp;&nbsp;</span>Stretch to a full browser width</a></span></li></ul></li><li><span><a href=\"#Visualize-the-Data\" data-toc-modified-id=\"Visualize-the-Data-2\"><span class=\"toc-item-num\">2&nbsp;&nbsp;</span>Visualize the Data</a></span><ul class=\"toc-item\"><li><span><a href=\"#Print-original-data-as-is\" data-toc-modified-id=\"Print-original-data-as-is-2.1\"><span class=\"toc-item-num\">2.1&nbsp;&nbsp;</span>Print original data as is</a></span></li><li><span><a href=\"#Plot-before-2020.03.19\" data-toc-modified-id=\"Plot-before-2020.03.19-2.2\"><span class=\"toc-item-num\">2.2&nbsp;&nbsp;</span>Plot before 2020.03.19</a></span></li><li><span><a href=\"#Plot-after-2020.03.19\" data-toc-modified-id=\"Plot-after-2020.03.19-2.3\"><span class=\"toc-item-num\">2.3&nbsp;&nbsp;</span>Plot after 2020.03.19</a></span></li></ul></li></ul></div>"
   ]
  },
  {
   "cell_type": "markdown",
   "metadata": {},
   "source": [
    "# Initial Jobless Claims\n",
    "\n",
    "Initial Jobless Claims show the number of people filing to receive unemployment insurance benefits for the first time over the past week. In other words, the indicator reflects how many people lost their jobs during the given period.\n",
    "\n",
    "The indicator is used to assess the state of the labor market and general US economy health. Since the weekly flow of data show high volatility, four-week average values are often monitored instead. High volatility can stem from different factors. For example, there can be less claims due to a reduced working week (during holidays or vacations).\n",
    "\n",
    "The systematic growth of the indicator points to a weakening of the labor market and to an increase in unemployment. Initial jobless claims typically rise before the economy enters the recession. Conversely, they may decline before the economy starts to recover. Therefore, it is considered a strong leading indicator of the US economy health.\n",
    "\n",
    "In addition, the Fed takes into account the state of the labor market in its interest rate decision. So, the growth of jobless claims registered for several weeks in a row can have a negative effect on US dollar quotes.\n",
    "\n",
    "## Source\n",
    "- [https://www.mql5.com/en/economic-calendar/united-states/initial-jobless-claims](https://www.mql5.com/en/economic-calendar/united-states/initial-jobless-claims)"
   ]
  },
  {
   "cell_type": "markdown",
   "metadata": {},
   "source": [
    "## Stretch to a full browser width"
   ]
  },
  {
   "cell_type": "code",
   "execution_count": 12,
   "metadata": {},
   "outputs": [
    {
     "data": {
      "text/html": [
       "<style>.container { width:100% !important; }</style>"
      ]
     },
     "metadata": {},
     "output_type": "display_data"
    }
   ],
   "source": [
    "display(\"text/html\", \"<style>.container { width:100% !important; }</style>\")"
   ]
  },
  {
   "cell_type": "code",
   "execution_count": 2,
   "metadata": {},
   "outputs": [
    {
     "name": "stdout",
     "output_type": "stream",
     "text": [
      "function: df = fetch_data(file_path, date_format=\"yyyy-mm-dd\" )\n",
      "function: df = shift_dates_by_days!(df, shift_days=-1, date_column=1)\n",
      "function: rata_die = days_since_day_one(df, row, date_column) \n",
      "function: df = update_rata_die!(df, days_column=1, date_column=2)\n",
      "function: df = insert_rata_die_column!(df)\n"
     ]
    }
   ],
   "source": [
    "include(\"MarketIndicators.jl\")"
   ]
  },
  {
   "cell_type": "code",
   "execution_count": 3,
   "metadata": {},
   "outputs": [
    {
     "name": "stderr",
     "output_type": "stream",
     "text": [
      "┌ Error: Download failed: curl: (22) The requested URL returned error: 404 Not Found\n",
      "└ @ Base download.jl:43\n"
     ]
    },
    {
     "ename": "LoadError",
     "evalue": "failed process: Process(`'C:\\WINDOWS\\System32\\curl.exe' -s -S -g -L -f -o data/united-states.initial-jobless-claims.csv https://raw.githubusercontent.com/UkiDLucas/MarketIndicators.jl/master/data/united-states.initial-jobless-claims.csv`, ProcessExited(22)) [22]\n",
     "output_type": "error",
     "traceback": [
      "failed process: Process(`'C:\\WINDOWS\\System32\\curl.exe' -s -S -g -L -f -o data/united-states.initial-jobless-claims.csv https://raw.githubusercontent.com/UkiDLucas/MarketIndicators.jl/master/data/united-states.initial-jobless-claims.csv`, ProcessExited(22)) [22]\n",
      "",
      "Stacktrace:",
      " [1] pipeline_error at .\\process.jl:525 [inlined]",
      " [2] download_curl(::String, ::String, ::String) at .\\download.jl:44",
      " [3] download at .\\download.jl:62 [inlined]",
      " [4] fetch_data(::String, ::String) at R:\\MarketIndicators.jl\\MarketIndicators.jl:22",
      " [5] top-level scope at In[3]:1",
      " [6] include_string(::Function, ::Module, ::String, ::String) at .\\loading.jl:1091"
     ]
    }
   ],
   "source": [
    "df1 = fetch_data(file_initial_jobless_claims, \"yyyy-mm-dd\" )"
   ]
  },
  {
   "cell_type": "markdown",
   "metadata": {},
   "source": [
    "# Visualize the Data"
   ]
  },
  {
   "cell_type": "markdown",
   "metadata": {},
   "source": [
    "## Print original data as is\n",
    "\n",
    "- ActualValue before 2020.03.19 loose meaning "
   ]
  },
  {
   "cell_type": "code",
   "execution_count": 4,
   "metadata": {},
   "outputs": [
    {
     "ename": "LoadError",
     "evalue": "UndefVarError: df2 not defined",
     "output_type": "error",
     "traceback": [
      "UndefVarError: df2 not defined",
      "",
      "Stacktrace:",
      " [1] top-level scope at In[4]:3",
      " [2] include_string(::Function, ::Module, ::String, ::String) at .\\loading.jl:1091"
     ]
    }
   ],
   "source": [
    "using Plots\n",
    "gr()\n",
    "plot(df2[:,1], \n",
    "    [df2[:,2]  df2[:,3] df2[:,4]  ], \n",
    "    label    = [\"actual\" \"forcast\" \"previous\"],\n",
    "    legend    =:topleft, # :right, :left, :top, :bottom, :inside, :best, :legend, :topright, :topleft, :bottomleft, :bottomright\n",
    "    xlabel   = \"time\",\n",
    "    ylabel   = \"indicators\",\n",
    "    size     = (1400, 600), # width, height\n",
    "    layout = (3, 1)\n",
    "    )"
   ]
  },
  {
   "cell_type": "code",
   "execution_count": 5,
   "metadata": {},
   "outputs": [
    {
     "ename": "LoadError",
     "evalue": "UndefVarError: df2 not defined",
     "output_type": "error",
     "traceback": [
      "UndefVarError: df2 not defined",
      "",
      "Stacktrace:",
      " [1] top-level scope at In[5]:1",
      " [2] include_string(::Function, ::Module, ::String, ::String) at .\\loading.jl:1091"
     ]
    }
   ],
   "source": [
    "histogram( \n",
    "    df2[:,2], # data\n",
    "    label    = [\"actual\"],\n",
    "    nbins = 100)      # number of bars"
   ]
  },
  {
   "cell_type": "markdown",
   "metadata": {},
   "source": [
    "## Plot before 2020.03.19\n",
    "\n",
    "- the **ForecastValue** is total garbage\n",
    "- the **PreviousValue** looks like shift, but it is not meaningful\n",
    "- we will use only **ActualValue** however I need to figure out how to normalize it\n",
    "    - from the histogram it looks that a jump in numbers (being very dangerous), is an outlyer (a black swan event)"
   ]
  },
  {
   "cell_type": "code",
   "execution_count": 6,
   "metadata": {},
   "outputs": [
    {
     "ename": "LoadError",
     "evalue": "UndefVarError: df2 not defined",
     "output_type": "error",
     "traceback": [
      "UndefVarError: df2 not defined",
      "",
      "Stacktrace:",
      " [1] top-level scope at In[6]:3",
      " [2] include_string(::Function, ::Module, ::String, ::String) at .\\loading.jl:1091"
     ]
    }
   ],
   "source": [
    "using Plots\n",
    "gr()\n",
    "plot(df2[1:end-24,1], \n",
    "    [df2[1:end-24,2] df2[1:end-24,3] df2[1:end-24,4] ], \n",
    "    label    = [\"actual\" \"forcast\" \"previous\"],\n",
    "    legend    =:topleft, # :right, :left, :top, :bottom, :inside, :best, :legend, :topright, :topleft, :bottomleft, :bottomright\n",
    "    xlabel   = \"time\",\n",
    "    ylabel   = \"indicators\",\n",
    "    size     = (1400, 600), # width, height\n",
    "    layout = (1, 1)\n",
    "    )"
   ]
  },
  {
   "cell_type": "markdown",
   "metadata": {},
   "source": [
    "## Plot after 2020.03.19\n",
    "\n",
    "- **ForecastValue** is total garbage\n",
    "- **PreviousValue** looks like shift, but it is not meaningful"
   ]
  },
  {
   "cell_type": "code",
   "execution_count": 7,
   "metadata": {},
   "outputs": [
    {
     "ename": "LoadError",
     "evalue": "UndefVarError: df2 not defined",
     "output_type": "error",
     "traceback": [
      "UndefVarError: df2 not defined",
      "",
      "Stacktrace:",
      " [1] top-level scope at In[7]:2",
      " [2] include_string(::Function, ::Module, ::String, ::String) at .\\loading.jl:1091"
     ]
    }
   ],
   "source": [
    "using Plots\n",
    "println(\"job loses started on \", df2[end-24,1])\n",
    "gr()\n",
    "plot(df2[end-24:end,1], \n",
    "    [df2[end-24:end,2], df2[end-24:end,3] , df2[end-24:end,4] ], \n",
    "    label    = [\"actual\" \"forcast\" \"previous\"],\n",
    "    legend    =:topleft, # :right, :left, :top, :bottom, :inside, :best, :legend, :topright, :topleft, :bottomleft, :bottomright\n",
    "    xlabel   = \"time\",\n",
    "    ylabel   = \"indicators\",\n",
    "    size     = (1400, 600), # width, height\n",
    "    layout = (1, 1)\n",
    "    )"
   ]
  },
  {
   "cell_type": "code",
   "execution_count": 8,
   "metadata": {},
   "outputs": [
    {
     "ename": "LoadError",
     "evalue": "UndefVarError: df2 not defined",
     "output_type": "error",
     "traceback": [
      "UndefVarError: df2 not defined",
      "",
      "Stacktrace:",
      " [1] top-level scope at In[8]:1",
      " [2] include_string(::Function, ::Module, ::String, ::String) at .\\loading.jl:1091"
     ]
    }
   ],
   "source": [
    "histogram( \n",
    "    df2[end-24:end,2], # data\n",
    "    label    = [\"actual\"],\n",
    "    nbins = 30)      # number of bars"
   ]
  },
  {
   "cell_type": "code",
   "execution_count": 9,
   "metadata": {},
   "outputs": [
    {
     "ename": "LoadError",
     "evalue": "UndefVarError: df2 not defined",
     "output_type": "error",
     "traceback": [
      "UndefVarError: df2 not defined",
      "",
      "Stacktrace:",
      " [1] top-level scope at In[9]:1",
      " [2] include_string(::Function, ::Module, ::String, ::String) at .\\loading.jl:1091"
     ]
    }
   ],
   "source": [
    "histogram( \n",
    "    df2[1:end-24,2], # data\n",
    "    label    = [\"actual\"],\n",
    "    nbins = 30)      # number of bars\n"
   ]
  },
  {
   "cell_type": "code",
   "execution_count": 10,
   "metadata": {},
   "outputs": [
    {
     "ename": "LoadError",
     "evalue": "UndefVarError: df1 not defined",
     "output_type": "error",
     "traceback": [
      "UndefVarError: df1 not defined",
      "",
      "Stacktrace:",
      " [1] top-level scope at In[10]:3",
      " [2] include_string(::Function, ::Module, ::String, ::String) at .\\loading.jl:1091"
     ]
    }
   ],
   "source": [
    "using DataFrames, CSV\n",
    "#sort!(df1, [:Date]);\n",
    "df2 = sort(df1, (order(:Date, rev=false)));\n",
    "first(df2,3)"
   ]
  },
  {
   "cell_type": "code",
   "execution_count": 11,
   "metadata": {},
   "outputs": [
    {
     "ename": "LoadError",
     "evalue": "UndefVarError: df2 not defined",
     "output_type": "error",
     "traceback": [
      "UndefVarError: df2 not defined",
      "",
      "Stacktrace:",
      " [1] top-level scope at In[11]:1",
      " [2] include_string(::Function, ::Module, ::String, ::String) at .\\loading.jl:1091"
     ]
    }
   ],
   "source": [
    "last(df2,5)"
   ]
  },
  {
   "cell_type": "code",
   "execution_count": null,
   "metadata": {},
   "outputs": [],
   "source": []
  }
 ],
 "metadata": {
  "kernelspec": {
   "display_name": "Julia 1.5.0",
   "language": "julia",
   "name": "julia-1.5"
  },
  "language_info": {
   "file_extension": ".jl",
   "mimetype": "application/julia",
   "name": "julia",
   "version": "1.5.0"
  },
  "toc": {
   "base_numbering": 1,
   "nav_menu": {},
   "number_sections": true,
   "sideBar": true,
   "skip_h1_title": false,
   "title_cell": "Table of Contents",
   "title_sidebar": "Contents",
   "toc_cell": true,
   "toc_position": {
    "height": "calc(100% - 180px)",
    "left": "10px",
    "top": "150px",
    "width": "257px"
   },
   "toc_section_display": true,
   "toc_window_display": true
  }
 },
 "nbformat": 4,
 "nbformat_minor": 4
}
