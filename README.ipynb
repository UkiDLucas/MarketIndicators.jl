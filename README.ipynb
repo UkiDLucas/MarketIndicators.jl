{
 "cells": [
  {
   "cell_type": "markdown",
   "metadata": {},
   "source": [
    "# MarketIndicators.jl\n",
    "\n",
    "*by [Uki D. Lucas](https://www.linkedin.com/in/ukidlucas/)*\n",
    "\n",
    "This project was started in August 2020 on [GitHub](https://github.com/UkiDLucas/MarketIndicators.jl)"
   ]
  },
  {
   "cell_type": "markdown",
   "metadata": {},
   "source": [
    "<hr />\n",
    "\n",
    "## Overview\n",
    "\n",
    "I have asked myself a question: \n",
    "\n",
    "***Can we create an AI model to predict macro-economic trends?***\n",
    "\n",
    "Spoiler alert: Yes. Maybe.\n",
    "\n",
    "\n",
    "Please **read the story** on [UkiDLucas.medium.com](https://medium.com/datadriveninvestor/market-indicators-a-machine-learning-project-with-julia-language-be1a452213f8) before proceeding. Make sure you \"star\", \"clap\", \"like\", and share it.\n",
    "\n",
    "<a href=\"https://github.com/UkiDLucas/MarketIndicators.jl\"><img src=\"src/images/GitHub_Sponsor_Watch_Star.png\" /></a>\n",
    "\n",
    "\n",
    "The [preditions](#Predictions) and [technical explanation](#Technical-Explanation) follow below."
   ]
  },
  {
   "cell_type": "markdown",
   "metadata": {},
   "source": [
    "## Disclaimer\n",
    "\n",
    "I am not a professional economist, nor financial advisor, nor do I have ANY formal training in these subjects.\n",
    "Any market predictions shown here are the outcome of automatic machine learning without any expert human supervision.\n",
    "\n",
    "This **project is purely for your entertainment only**. "
   ]
  },
  {
   "cell_type": "markdown",
   "metadata": {
    "toc": true
   },
   "source": [
    "<h1>Table of Contents<span class=\"tocSkip\"></span></h1>\n",
    "<div class=\"toc\"><ul class=\"toc-item\"><li><span><a href=\"#Overview\" data-toc-modified-id=\"Overview-1\"><span class=\"toc-item-num\">1&nbsp;&nbsp;</span>Overview</a></span></li><li><span><a href=\"#Disclaimer\" data-toc-modified-id=\"Disclaimer-2\"><span class=\"toc-item-num\">2&nbsp;&nbsp;</span>Disclaimer</a></span></li><li><span><a href=\"#Predictions\" data-toc-modified-id=\"Predictions-3\"><span class=\"toc-item-num\">3&nbsp;&nbsp;</span>Predictions</a></span><ul class=\"toc-item\"><li><span><a href=\"#VIX-index\" data-toc-modified-id=\"VIX-index-3.1\"><span class=\"toc-item-num\">3.1&nbsp;&nbsp;</span>VIX index</a></span></li><li><span><a href=\"#AAPL\" data-toc-modified-id=\"AAPL-3.2\"><span class=\"toc-item-num\">3.2&nbsp;&nbsp;</span>AAPL</a></span></li><li><span><a href=\"#NIO\" data-toc-modified-id=\"NIO-3.3\"><span class=\"toc-item-num\">3.3&nbsp;&nbsp;</span>NIO</a></span></li><li><span><a href=\"#NVDA\" data-toc-modified-id=\"NVDA-3.4\"><span class=\"toc-item-num\">3.4&nbsp;&nbsp;</span>NVDA</a></span></li></ul></li><li><span><a href=\"#Technical-Explanation\" data-toc-modified-id=\"Technical-Explanation-4\"><span class=\"toc-item-num\">4&nbsp;&nbsp;</span>Technical Explanation</a></span><ul class=\"toc-item\"><li><span><a href=\"#Why-Julia?\" data-toc-modified-id=\"Why-Julia?-4.1\"><span class=\"toc-item-num\">4.1&nbsp;&nbsp;</span>Why Julia?</a></span></li><li><span><a href=\"#Read-the-source,-Luke\" data-toc-modified-id=\"Read-the-source,-Luke-4.2\"><span class=\"toc-item-num\">4.2&nbsp;&nbsp;</span>Read the source, Luke</a></span></li></ul></li><li><span><a href=\"#Running-the-Julia-code\" data-toc-modified-id=\"Running-the-Julia-code-5\"><span class=\"toc-item-num\">5&nbsp;&nbsp;</span>Running the Julia code</a></span><ul class=\"toc-item\"><li><span><a href=\"#Julia-in-terminal-on-MacOS\" data-toc-modified-id=\"Julia-in-terminal-on-MacOS-5.1\"><span class=\"toc-item-num\">5.1&nbsp;&nbsp;</span>Julia in terminal on MacOS</a></span></li></ul></li><li><span><a href=\"#Data-acquisition\" data-toc-modified-id=\"Data-acquisition-6\"><span class=\"toc-item-num\">6&nbsp;&nbsp;</span>Data acquisition</a></span><ul class=\"toc-item\"><li><span><a href=\"#Downloading-from-the-Terminal\" data-toc-modified-id=\"Downloading-from-the-Terminal-6.1\"><span class=\"toc-item-num\">6.1&nbsp;&nbsp;</span>Downloading from the Terminal</a></span></li><li><span><a href=\"#Learn-about-market-indicators\" data-toc-modified-id=\"Learn-about-market-indicators-6.2\"><span class=\"toc-item-num\">6.2&nbsp;&nbsp;</span>Learn about market indicators</a></span></li><li><span><a href=\"#Download-stock-and-index-data-from-Yahoo-Finance\" data-toc-modified-id=\"Download-stock-and-index-data-from-Yahoo-Finance-6.3\"><span class=\"toc-item-num\">6.3&nbsp;&nbsp;</span>Download stock and index data from Yahoo Finance</a></span></li><li><span><a href=\"#Download-market-indicator-data-from-mql5.com\" data-toc-modified-id=\"Download-market-indicator-data-from-mql5.com-6.4\"><span class=\"toc-item-num\">6.4&nbsp;&nbsp;</span>Download market indicator data from mql5.com</a></span></li><li><span><a href=\"#Save-Downloaded-data-to-CSV-files\" data-toc-modified-id=\"Save-Downloaded-data-to-CSV-files-6.5\"><span class=\"toc-item-num\">6.5&nbsp;&nbsp;</span>Save Downloaded data to CSV files</a></span><ul class=\"toc-item\"><li><span><a href=\"#Examples-of-files\" data-toc-modified-id=\"Examples-of-files-6.5.1\"><span class=\"toc-item-num\">6.5.1&nbsp;&nbsp;</span>Examples of files</a></span></li><li><span><a href=\"#Loop-that-saves-the-data\" data-toc-modified-id=\"Loop-that-saves-the-data-6.5.2\"><span class=\"toc-item-num\">6.5.2&nbsp;&nbsp;</span>Loop that saves the data</a></span></li></ul></li></ul></li><li><span><a href=\"#Data-pre-processing\" data-toc-modified-id=\"Data-pre-processing-7\"><span class=\"toc-item-num\">7&nbsp;&nbsp;</span>Data pre-processing</a></span><ul class=\"toc-item\"><li><span><a href=\"#Reading-Data-from-CSV\" data-toc-modified-id=\"Reading-Data-from-CSV-7.1\"><span class=\"toc-item-num\">7.1&nbsp;&nbsp;</span>Reading Data from CSV</a></span></li><li><span><a href=\"#Date-formatting\" data-toc-modified-id=\"Date-formatting-7.2\"><span class=\"toc-item-num\">7.2&nbsp;&nbsp;</span>Date formatting</a></span><ul class=\"toc-item\"><li><span><a href=\"#Explanation-of-terms\" data-toc-modified-id=\"Explanation-of-terms-7.2.1\"><span class=\"toc-item-num\">7.2.1&nbsp;&nbsp;</span>Explanation of terms</a></span></li><li><span><a href=\"#the-&quot;y-m-d&quot;-date-format\" data-toc-modified-id=\"the-&quot;y-m-d&quot;-date-format-7.2.2\"><span class=\"toc-item-num\">7.2.2&nbsp;&nbsp;</span>the \"y-m-d\" date format</a></span></li><li><span><a href=\"#the-&quot;y.m.d&quot;-date-format\" data-toc-modified-id=\"the-&quot;y.m.d&quot;-date-format-7.2.3\"><span class=\"toc-item-num\">7.2.3&nbsp;&nbsp;</span>the \"y.m.d\" date format</a></span></li><li><span><a href=\"#the-&quot;u-d,-y&quot;-date-format\" data-toc-modified-id=\"the-&quot;u-d,-y&quot;-date-format-7.2.4\"><span class=\"toc-item-num\">7.2.4&nbsp;&nbsp;</span>the \"u d, y\" date format</a></span></li></ul></li><li><span><a href=\"#Rata-Die-(days-since)\" data-toc-modified-id=\"Rata-Die-(days-since)-7.3\"><span class=\"toc-item-num\">7.3&nbsp;&nbsp;</span>Rata Die (days since)</a></span></li><li><span><a href=\"#Populate-missing-indicators\" data-toc-modified-id=\"Populate-missing-indicators-7.4\"><span class=\"toc-item-num\">7.4&nbsp;&nbsp;</span>Populate missing indicators</a></span><ul class=\"toc-item\"><li><span><a href=\"#Pseudo-Code\" data-toc-modified-id=\"Pseudo-Code-7.4.1\"><span class=\"toc-item-num\">7.4.1&nbsp;&nbsp;</span>Pseudo Code</a></span></li><li><span><a href=\"#Code-Example\" data-toc-modified-id=\"Code-Example-7.4.2\"><span class=\"toc-item-num\">7.4.2&nbsp;&nbsp;</span>Code Example</a></span></li></ul></li><li><span><a href=\"#Normalize-the-data\" data-toc-modified-id=\"Normalize-the-data-7.5\"><span class=\"toc-item-num\">7.5&nbsp;&nbsp;</span>Normalize the data</a></span><ul class=\"toc-item\"><li><span><a href=\"#Code-Sample\" data-toc-modified-id=\"Code-Sample-7.5.1\"><span class=\"toc-item-num\">7.5.1&nbsp;&nbsp;</span>Code Sample</a></span></li><li><span><a href=\"#Plotting-the-data\" data-toc-modified-id=\"Plotting-the-data-7.5.2\"><span class=\"toc-item-num\">7.5.2&nbsp;&nbsp;</span>Plotting the data</a></span></li></ul></li><li><span><a href=\"#Calculating-averages\" data-toc-modified-id=\"Calculating-averages-7.6\"><span class=\"toc-item-num\">7.6&nbsp;&nbsp;</span>Calculating averages</a></span></li><li><span><a href=\"#Save-DataFrame-as-CSV\" data-toc-modified-id=\"Save-DataFrame-as-CSV-7.7\"><span class=\"toc-item-num\">7.7&nbsp;&nbsp;</span>Save DataFrame as CSV</a></span></li></ul></li><li><span><a href=\"#Combine-all-the-CVS-into-one-uber.cvs\" data-toc-modified-id=\"Combine-all-the-CVS-into-one-uber.cvs-8\"><span class=\"toc-item-num\">8&nbsp;&nbsp;</span>Combine all the CVS into one uber.cvs</a></span></li><li><span><a href=\"#Train-the-model\" data-toc-modified-id=\"Train-the-model-9\"><span class=\"toc-item-num\">9&nbsp;&nbsp;</span>Train the model</a></span><ul class=\"toc-item\"><li><span><a href=\"#What-is-TuriCreate?\" data-toc-modified-id=\"What-is-TuriCreate?-9.1\"><span class=\"toc-item-num\">9.1&nbsp;&nbsp;</span>What is TuriCreate?</a></span></li><li><span><a href=\"#Instal-TuriCreate\" data-toc-modified-id=\"Instal-TuriCreate-9.2\"><span class=\"toc-item-num\">9.2&nbsp;&nbsp;</span>Instal TuriCreate</a></span><ul class=\"toc-item\"><li><span><a href=\"#Using-Julia-PyCall-to-invoke-Python\" data-toc-modified-id=\"Using-Julia-PyCall-to-invoke-Python-9.2.1\"><span class=\"toc-item-num\">9.2.1&nbsp;&nbsp;</span>Using Julia PyCall to invoke Python</a></span></li></ul></li><li><span><a href=\"#Read-uber.csv-as-SFrame\" data-toc-modified-id=\"Read-uber.csv-as-SFrame-9.3\"><span class=\"toc-item-num\">9.3&nbsp;&nbsp;</span>Read uber.csv as SFrame</a></span></li><li><span><a href=\"#Split-training-and-testing-data\" data-toc-modified-id=\"Split-training-and-testing-data-9.4\"><span class=\"toc-item-num\">9.4&nbsp;&nbsp;</span>Split training and testing data</a></span></li><li><span><a href=\"#Train-the-ML-model\" data-toc-modified-id=\"Train-the-ML-model-9.5\"><span class=\"toc-item-num\">9.5&nbsp;&nbsp;</span>Train the ML model</a></span></li><li><span><a href=\"#Make-predictions\" data-toc-modified-id=\"Make-predictions-9.6\"><span class=\"toc-item-num\">9.6&nbsp;&nbsp;</span>Make predictions</a></span></li></ul></li><li><span><a href=\"#Evaluate-Predictions\" data-toc-modified-id=\"Evaluate-Predictions-10\"><span class=\"toc-item-num\">10&nbsp;&nbsp;</span>Evaluate Predictions</a></span></li><li><span><a href=\"#Conclusion\" data-toc-modified-id=\"Conclusion-11\"><span class=\"toc-item-num\">11&nbsp;&nbsp;</span>Conclusion</a></span></li></ul></div>"
   ]
  },
  {
   "cell_type": "markdown",
   "metadata": {
    "ExecuteTime": {
     "end_time": "2020-12-09T09:02:59.321000-05:00",
     "start_time": "2020-12-09T14:02:56.912Z"
    }
   },
   "source": [
    "## Predictions\n",
    "\n",
    "Please read the disclaimer above."
   ]
  },
  {
   "cell_type": "markdown",
   "metadata": {},
   "source": [
    "### VIX index\n",
    "\n",
    "<img src=\"predictions_VIX.png\" />"
   ]
  },
  {
   "cell_type": "markdown",
   "metadata": {},
   "source": [
    "\n",
    "### AAPL\n",
    "\n",
    "<img src=\"predictions_AAPL.png\" />"
   ]
  },
  {
   "cell_type": "markdown",
   "metadata": {},
   "source": [
    "\n",
    "### NIO\n",
    "\n",
    "<img src=\"predictions_NIO.png\" />"
   ]
  },
  {
   "cell_type": "markdown",
   "metadata": {},
   "source": [
    "### NVDA\n",
    "\n",
    "<img src=\"predictions_NVDA.png\" />"
   ]
  },
  {
   "cell_type": "markdown",
   "metadata": {},
   "source": [
    "## Technical Explanation\n",
    "\n",
    "Long story short, I take a lot of features (i.e. indicators) and run machine model to predict a trend, or stock price for next few days.\n",
    "<img src=\"indicators.png\" />\n",
    "\n",
    "\n",
    "\n",
    "\n",
    "\n",
    "### Why Julia?\n",
    "\n",
    "- Julia is young, fast, elegant, multitasking, and does the math extremely well, of course we are talking about [Julia programming language](https://docs.julialang.org/en/v1/)\n",
    "- unlike C/C++, it is a pleasure to read and write Julia\n",
    "- it is designed for scientific computing and machine learning\n",
    "- similarly to C, it is extremely fast\n",
    "- similar to Python, it is very easy to learn\n",
    "- it is designed for parallelism\n",
    "- it is designed for distributed computing"
   ]
  },
  {
   "cell_type": "markdown",
   "metadata": {},
   "source": [
    "### Read the source, Luke\n",
    "\n",
    "In this notebook, I am including only the snippets of the code with represent a small and outdated portion of the actual code.\n",
    "\n",
    "The repository code will diverge from the examples below, hence \"Read the source, Luke\", look at the actual code."
   ]
  },
  {
   "cell_type": "markdown",
   "metadata": {},
   "source": [
    "## Running the Julia code\n",
    "\n",
    "I wrote all of the initial code in [Jupyter Lab](https://jupyter.org/) notebooks because it is easy to experiment with and easy to document. I absolutely love Jupyter notebooks for both Julia and Python. The page you are reading is also written in the JupyterLab notebook.\n",
    "\n",
    "However, notebooks are slow to execute as each cell (i.e. paragraph) has to start, run and remember it's own state. \n",
    "The difference can be between a few milliseconds for the terminal vs a few seconds in the notebook, it is a 1,000-fold difference!\n",
    "\n",
    "Hence, once I am happy with the code, I use the JupyterLab's \"File > Download as.. > Julia (.jl)\" option.\n",
    "As the project progresses I expect to slowly migrate from notebooks to .jl files, currently, I use a free [Microsoft VS Code](https://code.visualstudio.com/Download) editor. \n",
    "\n",
    "You have two options:\n",
    "- run the the notebooks to analyze the the code and my documentation\n",
    "- run the Julia files for speed of the execution and future automation"
   ]
  },
  {
   "cell_type": "markdown",
   "metadata": {},
   "source": [
    "### Julia in terminal on MacOS\n",
    "\n",
    "```bash\n",
    "# run once to create julia alias (symbolic link) on your system\n",
    "$ echo \"alias julia='/Applications/Julia-1.5.app/Contents/Resources/julia/bin/julia' \" >> ~/.bash_profile\n",
    "$ source ~/.bash_profile\n",
    "# run a particular file\n",
    "$ julia Update_Julia_packages.jl\n",
    "\n",
    "Updating Julia packages.. this will take a few minutes!\n",
    "```"
   ]
  },
  {
   "cell_type": "markdown",
   "metadata": {},
   "source": [
    "<hr />\n",
    "\n",
    "## Data acquisition\n",
    "\n",
    "### Downloading from the Terminal\n",
    "\n",
    "The [current code](https://github.com/UkiDLucas/MarketIndicators.jl/blob/master/src/Fetch_Web_Data.jl) fetches the indicators from the Web then goes to sleep for 4 hours.\n",
    "\n",
    "```bash\n",
    "$ julia Fetch_Web_Data.jl \n",
    "\n",
    "```"
   ]
  },
  {
   "cell_type": "markdown",
   "metadata": {},
   "source": [
    "### Learn about market indicators\n",
    "\n",
    "In this project, I started with a couple of dozen common market indicators and plan to expand to as many as I can find.\n",
    "\n",
    "- [indicators that move the market](https://www.investopedia.com/articles/fundamental-analysis/10/indicators-that-move-the-market.asp)\n",
    "\n",
    "I have written a Julia [notebook](https://github.com/UkiDLucas/MarketIndicators.jl/blob/master/content/02%20Fetch%20Web%20Data.ipynb) that automatically fetched the data from the web and saves it locally as Comma Separated Value (.csv) spreadsheets."
   ]
  },
  {
   "cell_type": "markdown",
   "metadata": {},
   "source": [
    "### Download stock and index data from Yahoo Finance\n",
    "\n",
    "- [Yahoo Finance > Historical Data > Max](https://finance.yahoo.com/quote/%5EDJI/history?p=%5EDJI)\n",
    "- [Apple AAPL - finance.yahoo.com](\"https://finance.yahoo.com/quote/AAPL/history?p=AAPL\")\n",
    "\n",
    "The Yahoo Finance website is a great source of current and historical data for stocks and market indexes. "
   ]
  },
  {
   "cell_type": "markdown",
   "metadata": {},
   "source": [
    "### Download market indicator data from mql5.com\n",
    "\n",
    "- [mql5.com economic calendar](https://www.mql5.com/en/economic-calendar/united-states)\n",
    "\n",
    "This website is a great source for dozens of market indicators."
   ]
  },
  {
   "cell_type": "markdown",
   "metadata": {},
   "source": [
    "### Save Downloaded data to CSV files\n",
    "\n",
    "\n",
    "\n",
    "#### Examples of files \n",
    "\n",
    "\n",
    "- \t[ADP Nonfarm Employment Change](https://query1.finance.yahoo.com/v7/finance/download/NVDA?period1=916963200&period2=1602028800&interval=1d&events=history)\n",
    "-\t[Alibaba Group Holding Limited (BABA)](https://query1.finance.yahoo.com/v7/finance/download/BABA?period1=1411084800&period2=1602633600&interval=1d&events=history&includeAdjustedClose=true)\n",
    "-\t[American Funds EuroPacific Growth Fund Class R-6 (RERGX)](https://query1.finance.yahoo.com/v7/finance/download/RERGX?period1=1241136000&period2=1602028800&interval=1d&events=history)\n",
    "-\t[Apple Inc. (AAPL)](https://query1.finance.yahoo.com/v7/finance/download/AAPL?period1=345427200&period2=1602028800&interval=1d&events=history)\n",
    "-   [Bitcoin USD (BTC-USD)](https://query1.finance.yahoo.com/v7/finance/download/BTC-USD?period1=1410825600&period2=1602633600&interval=1d&events=history&includeAdjustedClose=true)\n",
    "-\t[CBOE Volatility Index (^VIX)](https://query1.finance.yahoo.com/v7/finance/download/%5EVIX?period1=631238400&period2=1602028800&interval=1d&events=history)\n",
    "-\t[Daily total sunspot number (http://www.sidc.be/)](http://www.sidc.be/silso/INFO/sndtotcsv.php)\n",
    "-\t[Dow Jones Industrial Average (^DJI)](https://query1.finance.yahoo.com/v7/finance/download/%5EDJI?period1=475804800&period2=1602028800&interval=1d&events=history&includeAdjustedClose=true)\n",
    "-\t[Federal Reserve Bank (Fed) of Dallas Manufacturing Index](https://www.mql5.com/en/economic-calendar/united-states/dallas-fed-manufacturing-business-index/export)\n",
    "-\t[Federal Reserve System (Fed) Industrial Production m/m](https://www.mql5.com/en/economic-calendar/united-states/industrial-production-mm/export)\n",
    "-\t[Federal Reserve System (Fed) Industrial Production m/m](https://www.mql5.com/en/economic-calendar/united-states/industrial-production-mm/export)\n",
    "-   [Gold Dec 20 (GC=F)](https://query1.finance.yahoo.com/v7/finance/download/GC=F?period1=967593600&period2=1602028800&interval=1d&events=history)\n",
    "-\t[ISM Manufacturing Employment](https://www.mql5.com/en/economic-calendar/united-states/ism-manufacturing-employment/export)\n",
    "-\t[ISM United States Manufacturing Purchasing Managers Index (PMI)](https://www.mql5.com/en/economic-calendar/united-states/ism-manufacturing-pmi/export)\n",
    "-\t[Neuberger Berman Mid Cap Growth Fund Class R6 (NRMGX)](https://query1.finance.yahoo.com/v7/finance/download/NRMGX?period1=1363305600&period2=1602028800&interval=1d&events=history)\n",
    "-\t[NIO Limited (NIO)](https://query1.finance.yahoo.com/v7/finance/download/NIO?period1=1536710400&period2=1602633600&interval=1d&events=history&includeAdjustedClose=true)\n",
    "-\t[NVIDIA Corporation (NVDA)](https://query1.finance.yahoo.com/v7/finance/download/NVDA?period1=916963200&period2=1602028800&interval=1d&events=history)\n",
    "-\t[S&P 500 (^GSPC)](https://query1.finance.yahoo.com/v7/finance/download/%5EGSPC?period1=-1325635200&period2=1602028800&interval=1d&events=history)\n",
    "-\t[T. Rowe Price Institutional Large Cap Core Growth Fund (TPLGX)](https://query1.finance.yahoo.com/v7/finance/download/TPLGX?period1=1568730349&period2=1602028800&interval=1d&events=history)\n",
    "-\t[Tesla, Inc. (TSLA)](https://query1.finance.yahoo.com/v7/finance/download/TSLA?period1=1277769600&period2=1602028800&interval=1d&events=history)\n",
    "-\t[The Home Depot, Inc. (HD)](https://query1.finance.yahoo.com/v7/finance/download/HD?period1=369964800&period2=1602028800&interval=1d&events=history)\n",
    "-\t[Treasury Yield 10 Years (^TNX)](https://query1.finance.yahoo.com/v7/finance/download/%5ETNX?period1=-252374400&period2=1602028800&interval=1d&events=history)\n",
    "-\t[United States Building Permits](https://www.mql5.com/en/economic-calendar/united-states/building-permits/export)\n",
    "-\t[United States Gross Domestic Product (GDP) q/q](\thttps://www.mql5.com/en/economic-calendar/united-states/gross-domestic-product-qq/export)\n",
    "-\t[United States Housing Starts m/m](https://www.mql5.com/en/economic-calendar/united-states/housing-starts-mm/export)\n",
    "-\t[United States Initial Jobless Claims](https://www.mql5.com/en/economic-calendar/united-states/initial-jobless-claims/export)\n",
    "-\t[United States Pending Home Sales m/m](https://www.mql5.com/en/economic-calendar/united-states/pending-home-sales-mm/export)\n",
    "-\t[United States Unemployment Rate](https://www.mql5.com/en/economic-calendar/united-states/unemployment-rate/export)\n",
    "-\t[Vanguard Institutional Index Fund Institutional Shares (VINIX)](https://query1.finance.yahoo.com/v7/finance/download/VINIX?period1=649382400&period2=1602028800&interval=1d&events=history)\n",
    "-\t[Vanguard Total Bond Market Index Fund Admiral Shares (VBTLX)](https://query1.finance.yahoo.com/v7/finance/download/VBTLX?period1=1005523200&period2=1602028800&interval=1d&events=history)"
   ]
  },
  {
   "cell_type": "markdown",
   "metadata": {},
   "source": [
    "#### Loop that saves the data\n",
    "\n",
    "```Julia\n",
    "\n",
    "row_count = size(df)[1]\n",
    "\n",
    "while true\n",
    "    println(\"============== \", Dates.DateTime(Dates.now() ), \" ==============\")\n",
    "    \n",
    "    for row in 1:row_count\n",
    "        indicatior_name  = df[row, 1]\n",
    "        file_name        = df[row, 2]\n",
    "        url              = df[row, 3]\n",
    "        if !isnothing(findfirst(\"finance.yahoo.com\", url))\n",
    "            url = update_yahoo_finance(url)\n",
    "        end\n",
    "        download( url , string(original_data_directory * file_name ) )\n",
    "        println( \"- downloaded: \", indicatior_name, \" \n",
    "            -- \", file_name, \"\n",
    "            -- \", url ) \n",
    "        r_array = (rand(1)*9).+1  # 1.0.. to 9.9.. seconds\n",
    "        r = r_array[1]\n",
    "        sleep(r)            # to prevent being blocked\n",
    "    end\n",
    "    \n",
    "    nap_time = 60*60*4 # seconds * minutes * hours\n",
    "    println(\"going to sleep for \", nap_time/(60*60), \" hours\" )\n",
    "    sleep(nap_time) \n",
    "end\n",
    "\n",
    "```"
   ]
  },
  {
   "cell_type": "markdown",
   "metadata": {},
   "source": [
    "[back to top](#Table-of-Contents)\n",
    "\n",
    "<hr />\n",
    "\n",
    "## Data pre-processing\n",
    "\n",
    "Since the data comes from the different sources, before the analysis, I have to check that it is formatted properly, if it has missing values, if the values are usable.\n",
    "\n",
    "In fact, I work in a multi-national corporation that does not enforce common notation standards and I see a gamut of notations, some of which have very different meanings.\n",
    "\n",
    "Some examples:\n",
    "\n",
    "- 1 234 in USA are 2 separate numbers\n",
    "- 1 234 is one thousand two hundred thirty four coming from Germany\n",
    "- 1'234 is also sometimes seen in Europe for the above\n",
    "- 1.234 in USA is a single decimal number one and two hundred thirty four thousands\n",
    "- 1,234 is the same as above in Europe\n",
    "- \\$1.0 is one US buck\n",
    "- 1,0$ is also one dollar, but I do not see many Americans recognizing it. \n",
    "- 2/12/12 is December 2, 2012, in Europe, but I would never advise anyone writing it this way.\n",
    "- 12/2/12 is December 2, 2002, in USA, but I would never advise anyone writing it this way.\n",
    "- 2012-12-01 is probably the most clear, logical and sortable way of writing the same date\n",
    "- 1M is one million, but I see it being used for meters.\n",
    "- 1m is one meter, but I see it being used for millions.\n",
    "- 1s measures time (seconds)\n",
    "- 1S measures electrical conductance (siemens)\n",
    "\n",
    "\n",
    "The list could be long, very long.\n",
    "\n",
    "The [**International System of Units**](https://en.wikipedia.org/wiki/International_System_of_Units) solves some of the above, but not all."
   ]
  },
  {
   "cell_type": "markdown",
   "metadata": {},
   "source": [
    "### Reading Data from CSV\n",
    "\n",
    "As mentioned previously, I already saved many \"original\" Web data files locally as Comma Delimited Files (CSV).\n",
    "\n",
    "Now, I read each file, convert to a Julia [DataFrame](https://github.com/JuliaData/DataFrames.jl) and pre-process them individually.\n",
    "\n",
    "Please note that the function takes 3 parameters, all of them are optional. I usually provide only first 2 as the DATA directory is fixed.\n",
    "\n",
    "```Julia\n",
    "\n",
    "using DataFrames, CSV\n",
    "function fetch_dataset( \n",
    "        file_name=\"TPLGX.csv\", \n",
    "        date_format=\"yyyy.mm.dd\", \n",
    "        dir=\"DATA\\\\original\\\\\"\n",
    "    )\n",
    "\n",
    "    file_path = dir * file_name\n",
    "    println(file_path)\n",
    "\n",
    "    df = CSV.read(file_path, dateformat=date_format)\n",
    "    df = sort(df, [:Date]);\n",
    "    return df # DataFrame\n",
    "end\n",
    "```"
   ]
  },
  {
   "cell_type": "markdown",
   "metadata": {},
   "source": [
    "### Date formatting\n",
    "\n",
    "The dates, coming in the spreadsheets, especially these that are entered by hand, have a maddening array of possible formats.  \n",
    "\n",
    "The task of getting all the dates to the same format is crucial as the market is all about dates.\n",
    "\n",
    "Since I am using Julia language, I will be using [Dates module](https://docs.julialang.org/en/v1/stdlib/Dates/) terminology. \n",
    "\n",
    "```Julia \n",
    "    using Dates\n",
    "    original_format = \"d/m/y\"\n",
    "    Dates.Date(\"1/12/2021\", original_format) \n",
    "    # results in \"2021-12-01\"\n",
    "```\n",
    "\n",
    "#### Explanation of terms\n",
    "\n",
    "- **u**: 3 letter abbreviation of the month in English\n",
    "- **d**: 1 or 2 digit day of the month\n",
    "- **m**: 2 digit month\n",
    "- **y**: 2 or 4 digit year, **note \"50\" results in \"0050\" and not \"1950\", or \"2050\"**\n",
    "\n",
    "In the last one if the year is written as \"yy\" **a manual or programmatic fix may be needed**."
   ]
  },
  {
   "cell_type": "markdown",
   "metadata": {
    "ExecuteTime": {
     "end_time": "2020-11-25T09:46:33.883000-05:00",
     "start_time": "2020-11-25T14:46:32.046Z"
    }
   },
   "source": [
    "\n",
    "\n",
    "#### the \"y-m-d\" date format\n",
    "\n",
    "The date format **I like** is \"1950-05-31\", or (yyyy-mm-dd) as it is **less error prone, logical, and easily sortable**. This also happens to be a default of Julia.\n",
    "\n",
    "This format is also used by **Yahoo Finance** export.\n",
    "\n",
    "```Julia \n",
    "    using Dates\n",
    "    Dates.Date(\"1950-05-31\", \"y-m-d\")\n",
    "    # result: 1950-05-31\n",
    "```"
   ]
  },
  {
   "cell_type": "markdown",
   "metadata": {
    "ExecuteTime": {
     "end_time": "2020-11-25T09:52:12.422000-05:00",
     "start_time": "2020-11-25T14:52:12.169Z"
    }
   },
   "source": [
    "#### the \"y.m.d\" date format\n",
    "\n",
    "This format is used by [MQL5.com economic calendar](https://www.mql5.com/en/economic-calendar), a primary source of indicator data.\n",
    "\n",
    "```Julia \n",
    "    Dates.Date(\"1950.5.31\", \"y.m.d\") \n",
    "    # result: 1950-05-31\n",
    "```"
   ]
  },
  {
   "cell_type": "markdown",
   "metadata": {},
   "source": [
    "#### the \"u d, y\" date format\n",
    "\n",
    "As an example, the standard in USA is \"Aug 31, 1950\" (u d, y) \n",
    "\n",
    "```Julia \n",
    "    Dates.Date(\"May 31, 1950\", \"u d, y\") \n",
    "    # result: 1950-05-31\n",
    "```"
   ]
  },
  {
   "cell_type": "markdown",
   "metadata": {},
   "source": [
    "[back to top](#Table-of-Contents)\n",
    "\n",
    "<hr />\n",
    "\n",
    "### Rata Die (days since)\n",
    "\n",
    "Using dates is useful, but the market indicators are not updated on daily basis, most come out bi-weekly, monthly or event quarterly, inevitably, we will have some days that are \"missing\" in our datasets.\n",
    "\n",
    "Counting and comparing dates is a messy business, it is better to assign an absolute Integer number to each day. \n",
    "\n",
    "We will use [Rata Die](https://en.wikipedia.org/wiki/Rata_Die), or the \"days since\" some fixed date in our data. \n",
    "\n",
    "```Julia\n",
    "\n",
    "    col_ind = 1\n",
    "    insertcols!(df, col_ind, :Rata_Die => zeros(Int64, record_count); makeunique = true )\n",
    "\n",
    "\n",
    "\n",
    "    function update_rata_die!(df, days_column=1, date_column=2)\n",
    "        rows = size(df)[1] # first part of the returned tupple\n",
    "\n",
    "        for row = 1:rows\n",
    "            df[row, days_column] = Dates.datetime2rata( Date(df[row, date_column]) ) \n",
    "        end\n",
    "        return df\n",
    "    end\n",
    "```"
   ]
  },
  {
   "cell_type": "markdown",
   "metadata": {},
   "source": [
    "[back to top](#Table-of-Contents)\n",
    "\n",
    "<hr />\n",
    "\n",
    "### Populate missing indicators\n",
    "\n",
    "Populate missing indicators with previously known values\n",
    "\n",
    "#### Pseudo Code\n",
    "\n",
    "- get value for the first row\n",
    "- for each row starting at row 2\n",
    "    - get the current value\n",
    "        - if that value is missing\n",
    "            - set it to the previous value if you have it\n",
    "        - if you have current row value\n",
    "            - set the previous to be equal to current"
   ]
  },
  {
   "cell_type": "markdown",
   "metadata": {},
   "source": [
    "#### Code Example\n",
    "\n",
    "```Julia \n",
    "column = 6 # choose column to populate\n",
    "previous_value = df[1, column]\n",
    "rows = size(df)[1] # number of rows in the dataframe\n",
    "\n",
    "for row in 2:rows # start with second row\n",
    "    \n",
    "    value = df[row, column] # get value for the current row\n",
    "    \n",
    "    if ismissing(value) # need to do something\n",
    "        if ismissing(previous_value)\n",
    "            # nothing to populate with, go to the next row\n",
    "            continue\n",
    "        else # we have a previous value\n",
    "            df[row, column] = previous_value\n",
    "        end\n",
    "    else # we have a pre-existing indicator\n",
    "        previous_value = value\n",
    "    end\n",
    "end\n",
    "```\n",
    "[Read the source, Luke!](#Read-the-source,-Luke)"
   ]
  },
  {
   "cell_type": "markdown",
   "metadata": {},
   "source": [
    "[back to top](#Table-of-Contents)\n",
    "\n",
    "<hr />\n",
    "\n",
    "### Normalize the data\n",
    "\n",
    "This is also called \"quantizing\" the data.\n",
    "\n",
    "I have chosen to quantize the data to the Int8 size, which are the values from -128 to 127.\n",
    "\n",
    "This decision was made because of the Neural Network hardware I plan to run.\n",
    "\n",
    "It is possible that -128 to 127 range does not provide sufficient resolution and it is a subject to change."
   ]
  },
  {
   "cell_type": "markdown",
   "metadata": {},
   "source": [
    "#### Code Sample\n",
    "\n",
    "```Julia\n",
    "function quantize_column!(df::DataFrame, column_number::Int64)\n",
    "    original = df[:, column_number] # Array{Float64,1}\n",
    " \n",
    "    min = minimum(original)\n",
    "    max = maximum(original)\n",
    "    #population_mean = mean(original)\n",
    "    #standard_deviation = std(original)\n",
    "    \n",
    "    bias = (0 - min)/(max-min)\n",
    "    println(\"bias for 0 value: \", bias)\n",
    "    \n",
    "    items = length(original)\n",
    "    \n",
    "    for i in 1:items\n",
    "        #value = (original[i] - population_mean) / standard_deviation\n",
    "        value = (original[i] -min)/(max-min)   # normalization formula to range 0.0 to 1.0\n",
    "        #value = value + bias\n",
    "        value = value * 255                    # 0.0 to 255\n",
    "        value = value - 128                    # -128 to 127\n",
    "        value = round(value, digits=0)         # 0.00 \n",
    "        #value = convert(Int64, value)         # if DataFrame column is of type Float64, it will not save Int64\n",
    "        df[i, column_number] = value\n",
    "    end\n",
    "    println(\"Normalization was performend using formula y=(((x-min)/(max-min))*255)-128 \") #TODO extract method\n",
    "    println(\"minimum = $min\")\n",
    "    println(\"maximum = $max\")\n",
    "    println(\"Save these values for later to run model preditions\")\n",
    "    return (min, max)\n",
    "end\n",
    "\n",
    "```\n",
    "[Read the source, Luke!](#Read-the-source,-Luke)"
   ]
  },
  {
   "cell_type": "markdown",
   "metadata": {},
   "source": [
    "#### Plotting the data"
   ]
  },
  {
   "cell_type": "markdown",
   "metadata": {
    "ExecuteTime": {
     "end_time": "2020-11-25T17:59:15.368000-05:00",
     "start_time": "2020-11-25T22:59:13.040Z"
    }
   },
   "source": [
    "```Julia\n",
    "using Plots\n",
    "\n",
    "count = size(df)[1]\n",
    "rows = 1:count\n",
    "dates = format_dates( df[rows,2] , \"m/d/yy\")\n",
    "\n",
    "gr()\n",
    "plot(          dates, # x-axis: dates\n",
    "               [  df[rows,original_value_column]    ], # y-axis\n",
    "    label    = [  columns[original_value_column] \"\"   ]  ,\n",
    "    legend   =:topleft, \n",
    "              # :right, :left, :top, :bottom, :inside, :best, :legend, :topright, :topleft, :bottomleft, :bottomright\n",
    "    xlabel   = \"time\",\n",
    "    ylabel   = \"indicators\",\n",
    "    size     = (980, 400), # width, height\n",
    "    layout = (1, 1) # number of graphs: vertically, horizontally\n",
    "    )\n",
    "\n",
    "```\n",
    "[Read the source, Luke!](#Read-the-source,-Luke)"
   ]
  },
  {
   "cell_type": "markdown",
   "metadata": {},
   "source": [
    "Let's say we have two market indicators, one ranges from -1 to 1 and another from 0 to 100. Obviously it is not easy to compare them to see how they influence each other. \n",
    "\n",
    "![title](src/images/not_normalized.png)\n"
   ]
  },
  {
   "cell_type": "markdown",
   "metadata": {},
   "source": [
    "Normalization is nothing else than \"scaling\" the data to be able to compare apples-to-apples.\n",
    "\n",
    "![title](src/images/normalized.png)"
   ]
  },
  {
   "cell_type": "markdown",
   "metadata": {
    "ExecuteTime": {
     "end_time": "2020-11-25T18:01:37.209000-05:00",
     "start_time": "2020-11-25T23:01:37.079Z"
    }
   },
   "source": [
    "### Calculating averages\n",
    "\n",
    "The daily values, without a historical perspective are rather useless, hence every prediction should be based to the history."
   ]
  },
  {
   "cell_type": "markdown",
   "metadata": {},
   "source": [
    "```Julia\n",
    "\n",
    "using DataFrames, Statistics\n",
    "\n",
    "function calculate_average(df::DataFrame, average_days=90, column_to_average=3)\n",
    "    record_count = size(df)[1]\n",
    "    averages = zeros(Float64, record_count) # empty array\n",
    "    \n",
    "    for i in average_days:record_count\n",
    "        day_this = df[i,1] # rata die \n",
    "        previous_interval_values = df[i-average_days+1:i, column_to_average]\n",
    "        avg = round( mean(previous_interval_values) , digits=2) \n",
    "        averages[i] = avg\n",
    "    end\n",
    "    return averages\n",
    "end\n",
    "\n",
    "```"
   ]
  },
  {
   "cell_type": "markdown",
   "metadata": {},
   "source": [
    "```Julia\n",
    "column_to_average = 3\n",
    "averages005 = calculate_average(df, 5,   column_to_average )\n",
    "averages030 = calculate_average(df, 30,  column_to_average )\n",
    "averages090 = calculate_average(df, 90,  column_to_average )\n",
    "averages180 = calculate_average(df, 180, column_to_average )\n",
    "averages365 = calculate_average(df, 365, column_to_average )\n",
    "\n",
    "```"
   ]
  },
  {
   "cell_type": "markdown",
   "metadata": {},
   "source": [
    "### Save DataFrame as CSV"
   ]
  },
  {
   "cell_type": "markdown",
   "metadata": {},
   "source": [
    "```Julia\n",
    "save_dataset(df, dataset_file_name );\n",
    "```"
   ]
  },
  {
   "cell_type": "markdown",
   "metadata": {},
   "source": [
    "[back to top](#Table-of-Contents)\n",
    "\n",
    "<hr />\n",
    "\n",
    "## Combine all the CVS into one uber.cvs\n",
    "\n",
    "In this step we will take all the CSV files and combine into a single spreadsheet that we will use as the input to the machine learning model."
   ]
  },
  {
   "cell_type": "markdown",
   "metadata": {},
   "source": [
    "[back to top](#Table-of-Contents)\n",
    "\n",
    "<hr />\n",
    "\n",
    "## Train the model\n",
    "\n",
    "I have tried a several options for Neural Network frameworks, here I will show the easiest one using TuriCreate.\n",
    "\n",
    "### What is TuriCreate?\n",
    "\n",
    "[TuriCreate](https://github.com/apple/turicreate) is an open-source machine learning framework for MacOS, Windows or Linux. I am using it because is very simple and takes advantage of the MacOS Radeon GPU."
   ]
  },
  {
   "cell_type": "markdown",
   "metadata": {},
   "source": [
    "### Instal TuriCreate\n",
    "\n",
    "I install TuriCreate in conda env with Python 3.6 \n",
    "\n",
    "```bash\n",
    "conda create -n turi python=3.6 -y\n",
    "conda activate turi\n",
    "\n",
    "pip install turicreate\n",
    "\n",
    "or\n",
    "\n",
    "conda install -c derickl turicreate\n",
    "```\n",
    "\n",
    "I like to save my environment to a YML file and then re-create it as needed:\n",
    "\n",
    "```bash\n",
    "\n",
    "conda env export > environment_turi.yml\n",
    "\n",
    "conda env create -f environment_turi.yml\n",
    "\n",
    "conda activate turi\n",
    "\n",
    "```\n",
    "\n",
    "Then, I create a Jupyter notebook kernel using that environment:\n",
    "\n",
    "```bash\n",
    "python -m ipykernel install --user --name turi --display-name \"Python 2.7 (turi)\"\n",
    "```"
   ]
  },
  {
   "cell_type": "markdown",
   "metadata": {},
   "source": [
    "#### Using Julia PyCall to invoke Python\n",
    "\n",
    "This may look strange that I am presenting a Python ML network in Julia, and I do have Julia wrapper around it, but the code in Julia and in Python looks almost the same.\n",
    "\n",
    "```Julia\n",
    "\n",
    "# This is Julia\n",
    "\n",
    "using PyCall\n",
    "tc = pyimport(\"turicreate\")\n",
    "\n",
    "data_path=\"./DATA/processed/uber.csv\"\n",
    "data = tc.SFrame(data_path)\n",
    "\n",
    "train_data, test_data = data.random_split(0.8)\n",
    "\n",
    "model = tc.regression.create( \n",
    "    train_data, \n",
    "    target = column_to_predict, \n",
    "    features = [ ...\n",
    "```\n",
    "As you can see calling Python from Julia works all the same.\n",
    "\n",
    "I will continue with original Python description ..."
   ]
  },
  {
   "cell_type": "markdown",
   "metadata": {},
   "source": [
    "### Read uber.csv as SFrame\n",
    "\n",
    "```Python\n",
    "# This is Python\n",
    "\n",
    "data =  tc.SFrame(data_path)\n",
    "```\n",
    "\n",
    "### Split training and testing data\n",
    "\n",
    "```Python\n",
    "train_data, test_data = data.random_split(0.8)\n",
    "```"
   ]
  },
  {
   "cell_type": "markdown",
   "metadata": {},
   "source": [
    "### Train the ML model\n",
    "\n",
    "```Python\n",
    "model = tc.regression.create(\n",
    "    train_data, \n",
    "    target = column_to_predict,\n",
    "    features = [\n",
    "         'DJIA_Avg005'\n",
    "        ,'DJIA_Avg030'\n",
    "        ,'DJIA_Avg090'\n",
    "        ,'DJIA_Avg180'\n",
    "        ,'DJIA_Avg365'\n",
    "        \n",
    "        ,'ISM_MFC_EMP_Avg090'\n",
    "        ,'ISM_MFC_EMP_Avg180'\n",
    "        ,'ISM_MFC_EMP_Avg365'\n",
    "        \n",
    "        ,'HOUSE_SRT_MM_Value'\n",
    "        ,'HOUSE_SRT_MM_Avg090'\n",
    "        ,'HOUSE_SRT_MM_Avg180'\n",
    "        ,'HOUSE_SRT_MM_Avg365'\n",
    "        \n",
    "        ,'MFC_MPI_Value'\n",
    "        ,'MFC_MPI_Avg090'\n",
    "        ,'MFC_MPI_Avg180'\n",
    "        ,'MFC_MPI_Avg365'\n",
    "    ],\n",
    "    validation_set='auto', \n",
    "    verbose=True\n",
    ")\n",
    "```"
   ]
  },
  {
   "cell_type": "markdown",
   "metadata": {},
   "source": [
    "### Make predictions\n",
    "\n",
    "```Python\n",
    "predictions = model.predict(test_data)\n",
    "```"
   ]
  },
  {
   "cell_type": "markdown",
   "metadata": {},
   "source": [
    "[back to top](#Table-of-Contents)\n",
    "\n",
    "<hr />\n",
    "\n",
    "## Evaluate Predictions\n",
    "\n",
    "```Python\n",
    "results = model.evaluate( test_data )\n",
    "```\n",
    "\n",
    "Depending on what I am trying to predict, **I am getting results ranging from bad to dismal**, however sometimes all the planets align and I actually get good results:\n",
    "\n",
    "- predicted  -127.43 , but actual value was  -127.0  difference is  0.43\n",
    "- predicted  -121.17 , but actual value was  -121.0  difference is  0.17\n",
    "- predicted  -119.97 , but actual value was  -120.0  **difference is  -0.03**\n",
    "- predicted  -114.18 , but actual value was  -115.0  difference is  -0.82\n",
    "- predicted  -112.17 , but actual value was  -112.0  difference is  0.17\n",
    "- predicted  -109.18 , but actual value was  -110.0  difference is  -0.82\n",
    "- predicted  -103.78 , but actual value was  -103.0  difference is  0.78\n",
    "- predicted  -98.98 , but actual value was  -99.0  difference is  -0.02\n",
    "- predicted  -84.58 , but actual value was  -85.0  difference is  -0.42\n",
    "- predicted  -56.58 , but actual value was  -57.0  difference is  -0.42\n",
    "- predicted  -42.03 , but actual value was  -42.0  difference is  0.03\n",
    "- predicted  -41.35 , but actual value was  -42.0  difference is  -0.65\n",
    "- predicted  -48.62 , but actual value was  -50.0  difference is  -1.38\n",
    "- predicted  -49.98 , but actual value was  -50.0  difference is  -0.02\n",
    "- predicted  -43.8 , but actual value was  -43.0  difference is  0.8\n",
    "- predicted  -27.99 , but actual value was  -28.0  difference is  -0.01\n",
    "- predicted  -25.77 , but actual value was  -26.0  difference is  -0.23\n",
    "- predicted  -54.76 , but actual value was  -55.0  difference is  -0.24\n",
    "- predicted  -34.98 , but actual value was  -35.0  difference is  -0.02\n",
    "- predicted  -21.99 , but actual value was  -22.0  difference is  -0.01\n",
    "- predicted  -2.63 , but actual value was  -2.0  difference is  0.63\n",
    "- predicted  19.88 , but actual value was  20.0  difference is  0.12\n",
    "- predicted  21.18 , but actual value was  22.0  difference is  0.82\n",
    "- predicted  57.58 , but actual value was  58.0  difference is  0.42\n",
    "- predicted  95.22 , but actual value was  97.0  difference is  1.78\n",
    "- predicted  120.25 , but actual value was  118.0  difference is  -2.25\n"
   ]
  },
  {
   "cell_type": "markdown",
   "metadata": {},
   "source": [
    "[back to top](#Table-of-Contents)\n",
    "\n",
    "<hr />\n",
    "\n",
    "## Conclusion\n",
    "\n",
    "There is a small chance that this document can keep up with the code changes, however its real purpose was to get you interested in the project, maybe get in touch with me, and review and use the code.\n",
    "\n",
    "I am also hoping that you will get interested in Julia language.\n",
    "\n",
    "I fully realize that this is only a beginning of this project. Once it grows to hundreds of the input datasets and thousands of the input parameters, I truly believe it will provide accurate predictions for some of the macro-economic behaviors.\n",
    "\n",
    "Respectfully,\n",
    "\n",
    "[Uki D. Lucas](https://www.linkedin.com/in/ukidlucas/)"
   ]
  },
  {
   "cell_type": "code",
   "execution_count": null,
   "metadata": {},
   "outputs": [],
   "source": []
  }
 ],
 "metadata": {
  "kernelspec": {
   "display_name": "Julia 1.4.2",
   "language": "julia",
   "name": "julia-1.4"
  },
  "language_info": {
   "file_extension": ".jl",
   "mimetype": "application/julia",
   "name": "julia",
   "version": "1.4.2"
  },
  "toc": {
   "base_numbering": 1,
   "nav_menu": {},
   "number_sections": true,
   "sideBar": true,
   "skip_h1_title": true,
   "title_cell": "Table of Contents",
   "title_sidebar": "Contents",
   "toc_cell": true,
   "toc_position": {},
   "toc_section_display": true,
   "toc_window_display": true
  },
  "varInspector": {
   "cols": {
    "lenName": 16,
    "lenType": 16,
    "lenVar": 40
   },
   "kernels_config": {
    "python": {
     "delete_cmd_postfix": "",
     "delete_cmd_prefix": "del ",
     "library": "var_list.py",
     "varRefreshCmd": "print(var_dic_list())"
    },
    "r": {
     "delete_cmd_postfix": ") ",
     "delete_cmd_prefix": "rm(",
     "library": "var_list.r",
     "varRefreshCmd": "cat(var_dic_list()) "
    }
   },
   "types_to_exclude": [
    "module",
    "function",
    "builtin_function_or_method",
    "instance",
    "_Feature"
   ],
   "window_display": false
  }
 },
 "nbformat": 4,
 "nbformat_minor": 4
}
