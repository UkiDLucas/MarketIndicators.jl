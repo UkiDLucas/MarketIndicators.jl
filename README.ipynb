{
 "cells": [
  {
   "cell_type": "markdown",
   "metadata": {},
   "source": [
    "# MarketIndicators.jl\n",
    "\n",
    "*by [Uki D. Lucas](https://www.linkedin.com/in/ukidlucas/)*\n",
    "\n",
    "This project was started in August 2020 on [GitHub](https://github.com/UkiDLucas/MarketIndicators.jl)"
   ]
  },
  {
   "cell_type": "markdown",
   "metadata": {},
   "source": [
    "#### TOC\n",
    "\n",
    "- [Overview](#Overview)\n",
    "    - [What are Market Indicators?](#What-are-Market-Indicators?)\n",
    "    - [Project Objectives](#Project-Objectives)\n",
    "    - [Why using programming, not spreadsheets?](#Why-using-programming,-not-spreadsheets?)\n",
    "        - [Machine Learning](#AI)\n",
    "    - [Why Julia?](#Why-Julia?)\n",
    "- [Data Aquisition](#Data-Aquisition)\n",
    "- [Data Pre-processing](#Data-Pre-processing)\n",
    "    - [Common date formatting](#Common-date-formatting)"
   ]
  },
  {
   "cell_type": "markdown",
   "metadata": {},
   "source": [
    "# Overview\n",
    "\n",
    "## What are Market Indicators?\n",
    "\n",
    "Market Indicators are numeric values assigned to particular aspect of the market performance, for example:\n",
    "- \"S&P 500\" index show how major stocks as a whole are performing\n",
    "- \"ISM Manufacturing\" index shows how well the manufacturing industry is doing\n",
    "- \"GDP\" index (Gross Domestic Product) shows how the country is doing\n",
    "- etc., etc., etc.\n",
    "\n",
    "There are hundreds, if not thousands, of such indicators."
   ]
  },
  {
   "cell_type": "markdown",
   "metadata": {},
   "source": [
    "## Project Objectives\n",
    "\n",
    "1. The primary goal of the project is to gather and analyze various market indicators.\n",
    "2. The secondary goal is to predict market trends 30 to 90 days ahead. \n",
    "3. The tertiary goal is to predict a particular stock price based on the market indicators.\n",
    "4. Additionally, the goal will be to maintain a stock portfolio including diversification using \"hedge fund\" principles.\n",
    "5. Finally, it is my goal to document the process."
   ]
  },
  {
   "cell_type": "markdown",
   "metadata": {},
   "source": [
    "## Why using programming, not spreadsheets?\n",
    "\n",
    "The spredsheets (i.e. Microsoft Excel, Apple Numbers, Google Sheets) and their graphing capability are the bread and butter of market analysis. They are great when comparing a few indicators.\n",
    "\n",
    "### AI\n",
    "The advantage of machine learning, or Artificial Intelligence (AI), is when that we have thousands of possible indicators, the human brain fails to grasp the wealth of the information presented. \n",
    "\n",
    "The machine learning, on the other hand can easily detect the patterns in thousands of datapoints and derive a conclussion."
   ]
  },
  {
   "cell_type": "markdown",
   "metadata": {},
   "source": [
    "## Why Julia?\n",
    "\n",
    "- Julia is young and sexy (we are talking about [Julia programming language](https://docs.julialang.org/en/v1/) here)\n",
    "- it is a pleasure to write and read (unlike C,C++)\n",
    "- it is designed for scientific computing and machine learning\n",
    "- it is extremely fast (similarly to C)\n",
    "- it is very easy (similary to Python)\n",
    "- it is designed for parallelism\n",
    "- it is designed for distributed computing"
   ]
  },
  {
   "cell_type": "markdown",
   "metadata": {},
   "source": [
    "# Data Aquisition\n",
    "\n",
    "## Learn about market indicators\n",
    "- [indicators that move the market](https://www.investopedia.com/articles/fundamental-analysis/10/indicators-that-move-the-market.asp)"
   ]
  },
  {
   "cell_type": "markdown",
   "metadata": {},
   "source": [
    "# Data Pre-processing"
   ]
  },
  {
   "cell_type": "markdown",
   "metadata": {},
   "source": [
    "## Common date formatting\n",
    "\n",
    "The dates in the spreadsheets, especially these that are entered by hand, have a maddening array of possible formats.\n",
    "\n",
    "The task of getting all the dates to the same format is crucial and it is best done with the spreadsheet, not code.\n",
    "\n",
    "The date format I chose is \"Aug 31, 1950\" (u d, y) as this is a standard in USA and is good input to Julia's [Date](https://docs.julialang.org/en/v1/stdlib/Dates/) parser:\n",
    "\n",
    "The \"u d, y\" stands for:\n",
    "- u: 3 letter abbreviation of the month in English\n",
    "- d: 1 or 2 digit day of the month\n",
    "- y: 4 digit year\n",
    "- m: 2 digit month (option for you)"
   ]
  },
  {
   "cell_type": "markdown",
   "metadata": {},
   "source": [
    "## Rata Die (days since)\n",
    "\n",
    "Using dates is useful, but the market indicators are not availble on daily basis, most come out bi-weekly, mothly or quarterly, we will have some days that are \"missing\" in our datasets.\n",
    "\n",
    "We will assign \"[Rata Die](https://en.wikipedia.org/wiki/Rata_Die)\", or the \"days since the first day\" in our data. \n",
    "\n",
    "I am using the first day of available data and not some other major date, such as start of the New York Stock Exchange in 1800s as the numbers would be huge and there would be no useful data anyway."
   ]
  },
  {
   "cell_type": "code",
   "execution_count": null,
   "metadata": {},
   "outputs": [],
   "source": []
  }
 ],
 "metadata": {
  "kernelspec": {
   "display_name": "Julia 1.4.2",
   "language": "julia",
   "name": "julia-1.4"
  },
  "language_info": {
   "file_extension": ".jl",
   "mimetype": "application/julia",
   "name": "julia",
   "version": "1.4.2"
  }
 },
 "nbformat": 4,
 "nbformat_minor": 4
}
