{
 "cells": [
  {
   "cell_type": "markdown",
   "metadata": {},
   "source": [
    "# MarketIndicators.jl\n",
    "\n",
    "*by [Uki D. Lucas](https://www.linkedin.com/in/ukidlucas/)*\n",
    "\n",
    "This project was started in August 2020 on [GitHub](https://github.com/UkiDLucas/MarketIndicators.jl)"
   ]
  },
  {
   "cell_type": "markdown",
   "metadata": {},
   "source": [
    "#### TOC\n",
    "\n",
    "- [Overview](#Overview)\n",
    "    - [What are Market Indicators?](#What-are-Market-Indicators?)\n",
    "    - [Project Objectives](#Project-Objectives)\n",
    "    - [Why using programming, not spreadsheets?](#Why-using-programming,-not-spreadsheets?)\n",
    "        - [Machine Learning and Artificial Intelligence (AI)](#AI)\n",
    "    - [Why Julia programming language?](#Why-Julia-programming-language?)\n",
    "- [Data Aquisition](#Data-Aquisition)\n",
    "- [Data Pre-processing](#Data-Pre-processing)\n",
    "    - [Common date formatting](#Common-date-formatting)"
   ]
  },
  {
   "cell_type": "markdown",
   "metadata": {},
   "source": [
    "# Overview\n",
    "\n",
    "## What are Market Indicators?\n",
    "\n",
    "Market Indicators are numeric values assigned to particular aspect of the market performance, for example:\n",
    "- \"S&P 500\" index show how major stocks as a whole are performing\n",
    "- \"ISM Manufacturing\" index shows how well the manufacturing industry is doing\n",
    "- \"GDP\" index (Gross Domestic Product) shows how the country is doing\n",
    "- etc., etc., etc.\n",
    "\n",
    "There are hundreds, if not thousands, of such indicators."
   ]
  },
  {
   "cell_type": "markdown",
   "metadata": {},
   "source": [
    "## Project Objectives\n",
    "\n",
    "1. The primary goal of the project is to gather and analyze various market indicators.\n",
    "2. The secondary goal is to predict market trends 30 to 90 days ahead. \n",
    "3. The tertiary goal is to predict a particular stock price based on the market indicators.\n",
    "4. Additionally, the goal will be to maintain a stock portfolio including diversification using \"hedge fund\" principles.\n",
    "5. Finally, it is my goal to document the process."
   ]
  },
  {
   "cell_type": "markdown",
   "metadata": {},
   "source": [
    "## Why using programming, not spreadsheets?\n",
    "\n",
    "The spredsheets (i.e. Microsoft Excel, Apple Numbers, Google Sheets) and their graphing capability are the bread and butter of market analysis. They are great when comparing a few indicators.\n",
    "\n",
    "### AI\n",
    "The advantage of machine learning, or Artificial Intelligence (AI), is when that we have thousands of possible indicators, the human brain fails to grasp the wealth of the information presented. \n",
    "\n",
    "The machine learning, on the other hand can easily detect the patterns in thousands of datapoints and derive a conclussion."
   ]
  },
  {
   "cell_type": "markdown",
   "metadata": {},
   "source": [
    "\n",
    "\n",
    "## Why Julia programming language?"
   ]
  },
  {
   "cell_type": "markdown",
   "metadata": {},
   "source": [
    "# Data Aquisition\n",
    "\n",
    "## Learn about market indicators\n",
    "- [indicators that move the market](https://www.investopedia.com/articles/fundamental-analysis/10/indicators-that-move-the-market.asp)"
   ]
  },
  {
   "cell_type": "markdown",
   "metadata": {},
   "source": [
    "# Data Pre-processing"
   ]
  },
  {
   "cell_type": "markdown",
   "metadata": {},
   "source": [
    "## Common date formatting\n",
    "\n",
    "The dates in the spreadsheets, especially these that are entered by hand, have a maddening array of possible formats.\n",
    "\n",
    "The task of getting all the dates to the same format is crucial and it is best done with the spreadsheet, not code.\n",
    "\n",
    "The date format I chose is \"Aug 31, 1950\" (u d, y) as this is a standard in USA and is good input to Julia DateTime parser:\n",
    "\n",
    "The \"u d, y\" stands for:\n",
    "- u: 3 letter abbreviation of the month in English\n",
    "- d: 1 or 2 digit day of the month\n",
    "- y: 4 digit year"
   ]
  },
  {
   "cell_type": "code",
   "execution_count": null,
   "metadata": {},
   "outputs": [],
   "source": []
  }
 ],
 "metadata": {
  "kernelspec": {
   "display_name": "Julia 1.4.2",
   "language": "julia",
   "name": "julia-1.4"
  },
  "language_info": {
   "file_extension": ".jl",
   "mimetype": "application/julia",
   "name": "julia",
   "version": "1.4.2"
  }
 },
 "nbformat": 4,
 "nbformat_minor": 4
}
