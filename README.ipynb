{
 "cells": [
  {
   "cell_type": "markdown",
   "metadata": {},
   "source": [
    "# MarketIndicators.jl"
   ]
  },
  {
   "cell_type": "markdown",
   "metadata": {},
   "source": [
    "#### TOC\n",
    "\n",
    "- [Overview](#Overview)\n",
    "    - [What are Market Indicators?](#What-are-Market-Indicators?)\n",
    "    - [Project Objectives](#Project-Objectives)\n",
    "    - [Why using programming, not spreadsheets?](#Why-using-programming,-not-spreadsheets?)\n",
    "    - [Why Julia programming language?](#Why-Julia-programming-language?)\n",
    "- [Data Aquisition](#Data-Aquisition)\n",
    "- [Data Pre-processing](#Data-Pre-processing)"
   ]
  },
  {
   "cell_type": "markdown",
   "metadata": {},
   "source": [
    "# Overview\n",
    "\n",
    "## What are Market Indicators?\n",
    "\n",
    "Market Indicators are numeric values assigned to particular aspect of the market performance, for example:\n",
    "- \"S&P 500\" index show how major stocks as a whole are performing\n",
    "- \"ISM Manufacturing\" index shows how well the manufacturing industry is doing\n",
    "- \"GDP\" index (Gross Domestic Product) shows how the country is doing\n",
    "- etc\n",
    "\n",
    "There are hundreds if not thousands of such indicators."
   ]
  },
  {
   "cell_type": "markdown",
   "metadata": {},
   "source": [
    "## Project Objectives\n",
    "\n",
    "1. The primary goal of the project is to gather and analyze various market indicators\n",
    "2. The secondary goal is to predict market trends 30 to 90 days ahead. \n",
    "3. The tertiary goal is to predict particula stock prices based on the market indicators\n",
    "4. Additionally, the goal will be to maintain a stock portfolio including diversification using \"hedge fund\" principles\n",
    "\n"
   ]
  },
  {
   "cell_type": "markdown",
   "metadata": {},
   "source": [
    "## Why using programming, not spreadsheets?\n"
   ]
  },
  {
   "cell_type": "markdown",
   "metadata": {},
   "source": [
    "\n",
    "\n",
    "## Why Julia programming language?"
   ]
  },
  {
   "cell_type": "markdown",
   "metadata": {},
   "source": [
    "# Data Aquisition"
   ]
  },
  {
   "cell_type": "markdown",
   "metadata": {},
   "source": [
    "# Data Pre-processing"
   ]
  },
  {
   "cell_type": "code",
   "execution_count": null,
   "metadata": {},
   "outputs": [],
   "source": []
  }
 ],
 "metadata": {
  "kernelspec": {
   "display_name": "Julia 1.4.2",
   "language": "julia",
   "name": "julia-1.4"
  },
  "language_info": {
   "file_extension": ".jl",
   "mimetype": "application/julia",
   "name": "julia",
   "version": "1.4.2"
  }
 },
 "nbformat": 4,
 "nbformat_minor": 4
}
