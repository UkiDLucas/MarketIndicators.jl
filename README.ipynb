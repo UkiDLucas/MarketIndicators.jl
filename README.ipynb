{
 "cells": [
  {
   "cell_type": "markdown",
   "metadata": {},
   "source": [
    "# Market Indicators machine learning with Julia.\n",
    "\n",
    "*by [Uki D. Lucas](https://www.linkedin.com/in/ukidlucas/)*"
   ]
  },
  {
   "cell_type": "markdown",
   "metadata": {},
   "source": [
    "## Motivation\n",
    "\n",
    "This project was started in August, 2020, on [GitHub](https://github.com/UkiDLucas/MarketIndicators.jl).\n",
    "\n",
    "I have been asking myself a question: ***Can I create an AI model to predict macro-economic trends?***\n",
    "\n",
    "Spoiler alert: Yes, I can.\n",
    "\n",
    "\n",
    "\n",
    "\n",
    "\n",
    "\n",
    "I have separated content in 3 parts because of potentially different audience and usage:\n",
    "- 1. the [**background story**](https://medium.com/datadriveninvestor/market-indicators-a-machine-learning-project-with-julia-language-be1a452213f8) on [UkiDLucas.medium.com](https://ukidlucas.medium.com/)  for access to a wider audience, \n",
    "- 2. the [**actual predictions**](#Predictions) to be viewed frequently,\n",
    "- 3. the [**technical explanation**](https://github.com/UkiDLucas/MarketIndicators.jl/blob/master/Technical.ipynb) for these people more inclined.\n",
    "\n",
    "\n",
    "\n",
    "If you like the content, make sure you \"star\", \"clap\", \"like\", and share it with your friends.\n",
    "\n",
    "<a href=\"https://github.com/UkiDLucas/MarketIndicators.jl\"><img src=\"src/images/GitHub_Sponsor_Watch_Star.png\" /></a>"
   ]
  },
  {
   "cell_type": "markdown",
   "metadata": {},
   "source": [
    "## Disclaimer\n",
    "\n",
    "I am neither a professional economist, nor a financial advisor, nor do I have ANY formal training in these subjects.\n",
    "Any market predictions shown here are the outcome of automatic machine learning without any expert human supervision, hence **the prediction could be wrong and misleading**."
   ]
  },
  {
   "cell_type": "markdown",
   "metadata": {
    "toc": true
   },
   "source": [
    "<h1>Table of Contents<span class=\"tocSkip\"></span></h1>\n",
    "<div class=\"toc\"><ul class=\"toc-item\"><li><span><a href=\"#Motivation\" data-toc-modified-id=\"Motivation-1\">Motivation</a></span></li><li><span><a href=\"#Disclaimer\" data-toc-modified-id=\"Disclaimer-2\">Disclaimer</a></span></li><li><span><a href=\"#Predictions\" data-toc-modified-id=\"Predictions-3\">Predictions</a></span><ul class=\"toc-item\"><li><span><a href=\"#AAPL\" data-toc-modified-id=\"AAPL-3.1\">AAPL</a></span></li><li><span><a href=\"#BABA\" data-toc-modified-id=\"BABA-3.2\">BABA</a></span></li><li><span><a href=\"#CRSP\" data-toc-modified-id=\"CRSP-3.3\">CRSP</a></span></li><li><span><a href=\"#DJIA\" data-toc-modified-id=\"DJIA-3.4\">DJIA</a></span></li><li><span><a href=\"#NVDA\" data-toc-modified-id=\"NVDA-3.5\">NVDA</a></span></li><li><span><a href=\"#TPLGX\" data-toc-modified-id=\"TPLGX-3.6\">TPLGX</a></span></li><li><span><a href=\"#TSLA\" data-toc-modified-id=\"TSLA-3.7\">TSLA</a></span></li><li><span><a href=\"#VIX-index\" data-toc-modified-id=\"VIX-index-3.8\">VIX index</a></span></li></ul></li><li><span><a href=\"#Feedback\" data-toc-modified-id=\"Feedback-4\">Feedback</a></span></li></ul></div>"
   ]
  },
  {
   "cell_type": "markdown",
   "metadata": {
    "ExecuteTime": {
     "end_time": "2020-12-09T09:02:59.321000-05:00",
     "start_time": "2020-12-09T14:02:56.912Z"
    }
   },
   "source": [
    "## Predictions\n",
    "\n",
    "Please read the [disclaimer](#Disclaimer) above."
   ]
  },
  {
   "cell_type": "markdown",
   "metadata": {},
   "source": [
    "\n",
    "### AAPL\n",
    "\n",
    "<img src=\"src/images/predictions_AAPL.png\" />"
   ]
  },
  {
   "cell_type": "markdown",
   "metadata": {
    "ExecuteTime": {
     "end_time": "2020-12-14T17:21:14.872000-05:00",
     "start_time": "2020-12-14T22:21:13.139Z"
    }
   },
   "source": [
    "### BABA\n",
    "\n",
    "<img src=\"src/images/predictions_BABA.png\" />"
   ]
  },
  {
   "cell_type": "markdown",
   "metadata": {},
   "source": [
    "### CRSP\n",
    "\n",
    "<img src=\"src/images/predictions_CRSP.png\" />"
   ]
  },
  {
   "cell_type": "markdown",
   "metadata": {},
   "source": [
    "### DJIA\n",
    "\n",
    "<img src=\"src/images/predictions_DJIA.png\" />"
   ]
  },
  {
   "cell_type": "markdown",
   "metadata": {},
   "source": [
    "### NVDA\n",
    "\n",
    "<img src=\"src/images/predictions_NVDA.png\" />"
   ]
  },
  {
   "cell_type": "markdown",
   "metadata": {},
   "source": [
    "### TPLGX\n",
    "\n",
    "<img src=\"src/images/predictions_TPLGX.png\" />"
   ]
  },
  {
   "cell_type": "markdown",
   "metadata": {},
   "source": [
    "### TSLA\n",
    "\n",
    "<img src=\"src/images/predictions_TSLA.png\" />"
   ]
  },
  {
   "cell_type": "markdown",
   "metadata": {},
   "source": [
    "### VIX index\n",
    "\n",
    "<img src=\"src/images/predictions_VIX.png\" />"
   ]
  },
  {
   "cell_type": "markdown",
   "metadata": {},
   "source": [
    "## Feedback\n",
    "\n",
    "- If you have a question to the author, contact [Uki D. Lucas](https://www.linkedin.com/in/ukidlucas/)  on LinkedIn.\n",
    "- If you want to post a comment, please use [Discussions](https://github.com/UkiDLucas/MarketIndicators.jl/discussions).\n",
    "- If you want to report bug, or submit a change request, use [Issue tracker](https://github.com/UkiDLucas/MarketIndicators.jl/issues)."
   ]
  },
  {
   "cell_type": "code",
   "execution_count": null,
   "metadata": {},
   "outputs": [],
   "source": []
  }
 ],
 "metadata": {
  "kernelspec": {
   "display_name": "Julia 1.4.2",
   "language": "julia",
   "name": "julia-1.4"
  },
  "language_info": {
   "file_extension": ".jl",
   "mimetype": "application/julia",
   "name": "julia",
   "version": "1.4.2"
  },
  "toc": {
   "base_numbering": 1,
   "nav_menu": {},
   "number_sections": false,
   "sideBar": true,
   "skip_h1_title": true,
   "title_cell": "Table of Contents",
   "title_sidebar": "Contents",
   "toc_cell": true,
   "toc_position": {},
   "toc_section_display": true,
   "toc_window_display": true
  },
  "varInspector": {
   "cols": {
    "lenName": 16,
    "lenType": 16,
    "lenVar": 40
   },
   "kernels_config": {
    "python": {
     "delete_cmd_postfix": "",
     "delete_cmd_prefix": "del ",
     "library": "var_list.py",
     "varRefreshCmd": "print(var_dic_list())"
    },
    "r": {
     "delete_cmd_postfix": ") ",
     "delete_cmd_prefix": "rm(",
     "library": "var_list.r",
     "varRefreshCmd": "cat(var_dic_list()) "
    }
   },
   "types_to_exclude": [
    "module",
    "function",
    "builtin_function_or_method",
    "instance",
    "_Feature"
   ],
   "window_display": false
  }
 },
 "nbformat": 4,
 "nbformat_minor": 4
}
