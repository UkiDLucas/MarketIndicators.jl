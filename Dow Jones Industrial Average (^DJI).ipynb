{
 "cells": [
  {
   "cell_type": "markdown",
   "metadata": {},
   "source": [
    "# Dow Jones Industrial Average (^DJI)\n",
    "\n",
    "Source\n",
    "- https://query1.finance.yahoo.com/v7/finance/download/%5EDJI?period1=475804800&period2=1600128000&interval=1d&events=history"
   ]
  },
  {
   "cell_type": "markdown",
   "metadata": {
    "toc": true
   },
   "source": [
    "<h1>Table of Contents<span class=\"tocSkip\"></span></h1>\n",
    "<div class=\"toc\"><ul class=\"toc-item\"><li><span><a href=\"#Dow-Jones-Industrial-Average-(^DJI)\" data-toc-modified-id=\"Dow-Jones-Industrial-Average-(^DJI)-1\">Dow Jones Industrial Average (^DJI)</a></span></li><li><span><a href=\"#Set-Up\" data-toc-modified-id=\"Set-Up-2\">Set Up</a></span></li><li><span><a href=\"#Read-Data\" data-toc-modified-id=\"Read-Data-3\">Read Data</a></span><ul class=\"toc-item\"><li><span><a href=\"#Describe-Data\" data-toc-modified-id=\"Describe-Data-3.1\">Describe Data</a></span></li><li><span><a href=\"#Sample-the-data\" data-toc-modified-id=\"Sample-the-data-3.2\">Sample the data</a></span></li><li><span><a href=\"#Number-the-columns\" data-toc-modified-id=\"Number-the-columns-3.3\">Number the columns</a></span></li></ul></li><li><span><a href=\"#Format-Dates\" data-toc-modified-id=\"Format-Dates-4\">Format Dates</a></span></li><li><span><a href=\"#Draw-Plots\" data-toc-modified-id=\"Draw-Plots-5\">Draw Plots</a></span></li></ul></div>"
   ]
  },
  {
   "cell_type": "markdown",
   "metadata": {},
   "source": [
    "# Set Up"
   ]
  },
  {
   "cell_type": "code",
   "execution_count": 46,
   "metadata": {},
   "outputs": [
    {
     "name": "stdout",
     "output_type": "stream",
     "text": [
      "\n"
     ]
    }
   ],
   "source": [
    "date_format = \"yyyy_mm_dd\" # 2007.04.05\n",
    "show_help = false\n",
    "include(\"MarketIndicators.jl\") "
   ]
  },
  {
   "cell_type": "markdown",
   "metadata": {},
   "source": [
    "# Read Data"
   ]
  },
  {
   "cell_type": "code",
   "execution_count": 43,
   "metadata": {},
   "outputs": [
    {
     "name": "stdout",
     "output_type": "stream",
     "text": [
      "\n",
      "        usage:\n",
      "              # returns a DataFrame with all available data sets (name, file_path)\n",
      "              df = available_datasets() \n",
      "    \n",
      "\n",
      "        usage: \n",
      "              # 5th dataset: DJIA, \n",
      "              # 2nd column: file-name\n",
      "              dataset_file_name = available_datasets()[5,2] \n",
      "    \n",
      "\n",
      "        usage: \n",
      "              df = fetch_dataset(\n",
      "                                 dataset_file_name, \n",
      "                                 date_format=\"u/dd/yy\", # format the saved dates are in\n",
      "                                 dir=\"/mnt/data/indicators/original/\" ) # location of your data directory\n",
      "    \n",
      "usage: \n",
      "                    dates = compact_dates( df[1] )\n",
      "            \n",
      "usage: \n",
      "                   dates = condense_dates( df[1] ) # ::Array{String,1}\n",
      "                   dates = condense_dates( df[1], \"mm/dd/yyy\" ) # ::Array{String,1}\n",
      "        \n",
      "usage: \n",
      "                   file_path = save_dataset(\n",
      "                                df::DataFrame,\n",
      "                                file_name=\"my_file_name.csv\", \n",
      "                                dir=\"/mnt/data/indicators/derived/\" ) # location of your data directory\n",
      "    \n",
      "usage:\n",
      "                   function: df = fetch_data(file_path, date_format=\"yyyy-mm-dd\" )\n",
      "        \n",
      "usage:\n",
      "                   function: df = shift_dates_by_days!(df, shift_days=-1, date_column=1)\n",
      "           \n",
      "usage:\n",
      "                   function: rata_die = days_since_day_one(df, row, date_column) \n",
      "    \n",
      "usage:\n",
      "                   function: df = update_rata_die!(df, days_column=1, date_column=2)\n",
      "            \n",
      "usage:\n",
      "                   function: df = insert_rata_die_column!(df)\n",
      "          \n"
     ]
    },
    {
     "data": {
      "text/plain": [
       "(254, 7)"
      ]
     },
     "execution_count": 43,
     "metadata": {},
     "output_type": "execute_result"
    }
   ],
   "source": [
    "#data = available_datasets()\n",
    "dataset_file_name = available_datasets()[14,2] # row 5, column 5 = ^DJI.csv\n",
    "df = fetch_dataset(dataset_file_name, date_format)\n",
    "\n",
    "size(df)"
   ]
  },
  {
   "cell_type": "markdown",
   "metadata": {},
   "source": [
    "## Describe Data"
   ]
  },
  {
   "cell_type": "code",
   "execution_count": 25,
   "metadata": {},
   "outputs": [
    {
     "data": {
      "text/html": [
       "<table class=\"data-frame\"><thead><tr><th></th><th>variable</th><th>mean</th><th>min</th><th>median</th><th>max</th><th>nunique</th><th>nmissing</th><th>eltype</th></tr><tr><th></th><th>Symbol</th><th>Union…</th><th>Any</th><th>Union…</th><th>Any</th><th>Union…</th><th>Nothing</th><th>DataType</th></tr></thead><tbody><p>7 rows × 8 columns</p><tr><th>1</th><td>Date</td><td></td><td>2019-09-17</td><td></td><td>2020-09-17</td><td>254</td><td></td><td>String</td></tr><tr><th>2</th><td>Open</td><td>50.2519</td><td>37.11</td><td>49.17</td><td>65.53</td><td></td><td></td><td>Float64</td></tr><tr><th>3</th><td>High</td><td>50.2519</td><td>37.11</td><td>49.17</td><td>65.53</td><td></td><td></td><td>Float64</td></tr><tr><th>4</th><td>Low</td><td>50.2519</td><td>37.11</td><td>49.17</td><td>65.53</td><td></td><td></td><td>Float64</td></tr><tr><th>5</th><td>Close</td><td>50.2519</td><td>37.11</td><td>49.17</td><td>65.53</td><td></td><td></td><td>Float64</td></tr><tr><th>6</th><td>Adj Close</td><td>50.1811</td><td>37.11</td><td>49.17</td><td>65.53</td><td></td><td></td><td>Float64</td></tr><tr><th>7</th><td>Volume</td><td>0.0</td><td>0</td><td>0.0</td><td>0</td><td></td><td></td><td>Int64</td></tr></tbody></table>"
      ],
      "text/latex": [
       "\\begin{tabular}{r|cccccccc}\n",
       "\t& variable & mean & min & median & max & nunique & nmissing & eltype\\\\\n",
       "\t\\hline\n",
       "\t& Symbol & Union… & Any & Union… & Any & Union… & Nothing & DataType\\\\\n",
       "\t\\hline\n",
       "\t1 & Date &  & 2019-09-17 &  & 2020-09-17 & 254 &  & String \\\\\n",
       "\t2 & Open & 50.2519 & 37.11 & 49.17 & 65.53 &  &  & Float64 \\\\\n",
       "\t3 & High & 50.2519 & 37.11 & 49.17 & 65.53 &  &  & Float64 \\\\\n",
       "\t4 & Low & 50.2519 & 37.11 & 49.17 & 65.53 &  &  & Float64 \\\\\n",
       "\t5 & Close & 50.2519 & 37.11 & 49.17 & 65.53 &  &  & Float64 \\\\\n",
       "\t6 & Adj Close & 50.1811 & 37.11 & 49.17 & 65.53 &  &  & Float64 \\\\\n",
       "\t7 & Volume & 0.0 & 0 & 0.0 & 0 &  &  & Int64 \\\\\n",
       "\\end{tabular}\n"
      ],
      "text/plain": [
       "7×8 DataFrame. Omitted printing of 2 columns\n",
       "│ Row │ variable  │ mean    │ min        │ median │ max        │ nunique │\n",
       "│     │ \u001b[90mSymbol\u001b[39m    │ \u001b[90mUnion…\u001b[39m  │ \u001b[90mAny\u001b[39m        │ \u001b[90mUnion…\u001b[39m │ \u001b[90mAny\u001b[39m        │ \u001b[90mUnion…\u001b[39m  │\n",
       "├─────┼───────────┼─────────┼────────────┼────────┼────────────┼─────────┤\n",
       "│ 1   │ Date      │         │ 2019-09-17 │        │ 2020-09-17 │ 254     │\n",
       "│ 2   │ Open      │ 50.2519 │ 37.11      │ 49.17  │ 65.53      │         │\n",
       "│ 3   │ High      │ 50.2519 │ 37.11      │ 49.17  │ 65.53      │         │\n",
       "│ 4   │ Low       │ 50.2519 │ 37.11      │ 49.17  │ 65.53      │         │\n",
       "│ 5   │ Close     │ 50.2519 │ 37.11      │ 49.17  │ 65.53      │         │\n",
       "│ 6   │ Adj Close │ 50.1811 │ 37.11      │ 49.17  │ 65.53      │         │\n",
       "│ 7   │ Volume    │ 0.0     │ 0          │ 0.0    │ 0          │         │"
      ]
     },
     "execution_count": 25,
     "metadata": {},
     "output_type": "execute_result"
    }
   ],
   "source": [
    "using Statistics\n",
    "describe(df)"
   ]
  },
  {
   "cell_type": "markdown",
   "metadata": {},
   "source": [
    "## Sample the data"
   ]
  },
  {
   "cell_type": "code",
   "execution_count": 31,
   "metadata": {},
   "outputs": [
    {
     "name": "stdout",
     "output_type": "stream",
     "text": [
      "6×7 DataFrame\n",
      "│ Row │ Date       │ Open    │ High    │ Low     │ Close   │ Adj Close │\n",
      "│     │ \u001b[90mString\u001b[39m     │ \u001b[90mFloat64\u001b[39m │ \u001b[90mFloat64\u001b[39m │ \u001b[90mFloat64\u001b[39m │ \u001b[90mFloat64\u001b[39m │ \u001b[90mFloat64\u001b[39m   │\n",
      "├─────┼────────────┼─────────┼─────────┼─────────┼─────────┼───────────┤\n",
      "│ 1   │ 2020-07-08 │ 57.09   │ 57.09   │ 57.09   │ 57.09   │ 57.09     │\n",
      "│ 2   │ 2020-07-09 │ 57.32   │ 57.32   │ 57.32   │ 57.32   │ 57.32     │\n",
      "│ 3   │ 2020-07-10 │ 57.51   │ 57.51   │ 57.51   │ 57.51   │ 57.51     │\n",
      "│ 4   │ 2020-07-13 │ 56.11   │ 56.11   │ 56.11   │ 56.11   │ 56.11     │\n",
      "│ 5   │ 2020-07-14 │ 56.56   │ 56.56   │ 56.56   │ 56.56   │ 56.56     │\n",
      "│ 6   │ 2020-07-15 │ 56.81   │ 56.81   │ 56.81   │ 56.81   │ 56.81     │\n",
      "\n",
      "│ Row │ Volume │\n",
      "│     │ \u001b[90mInt64\u001b[39m  │\n",
      "├─────┼────────┤\n",
      "│ 1   │ 0      │\n",
      "│ 2   │ 0      │\n",
      "│ 3   │ 0      │\n",
      "│ 4   │ 0      │\n",
      "│ 5   │ 0      │\n",
      "│ 6   │ 0      │"
     ]
    }
   ],
   "source": [
    "show(df[end-50:end-45, # row to row\n",
    "        [1,2,3,4,5,6,7]] # column to column\n",
    "    , allcols=true) # do NOT limit number of columns if more than 6"
   ]
  },
  {
   "cell_type": "markdown",
   "metadata": {},
   "source": [
    "## Number the columns"
   ]
  },
  {
   "cell_type": "code",
   "execution_count": 27,
   "metadata": {},
   "outputs": [
    {
     "name": "stdout",
     "output_type": "stream",
     "text": [
      "1 Date\n",
      "2 Open\n",
      "3 High\n",
      "4 Low\n",
      "5 Close\n",
      "6 Adj Close\n",
      "7 Volume\n"
     ]
    }
   ],
   "source": [
    "# sample the values in the columns\n",
    "columns = names(df)\n",
    "for i in 1:length(columns)\n",
    "    println(i, \" \", columns[i])\n",
    "end"
   ]
  },
  {
   "cell_type": "markdown",
   "metadata": {},
   "source": [
    "# Format Dates"
   ]
  },
  {
   "cell_type": "code",
   "execution_count": 47,
   "metadata": {},
   "outputs": [
    {
     "data": {
      "text/plain": [
       "5-element Array{String,1}:\n",
       " \"19/917\"\n",
       " \"19/918\"\n",
       " \"19/919\"\n",
       " \"19/920\"\n",
       " \"19/923\""
      ]
     },
     "execution_count": 47,
     "metadata": {},
     "output_type": "execute_result"
    }
   ],
   "source": [
    "date_format=\"yy/mdd\"\n",
    "dates = format_dates(df[:,1], date_format) # default is \"yy/mdd\"\n",
    "dates[1:5]"
   ]
  },
  {
   "cell_type": "markdown",
   "metadata": {},
   "source": [
    "# Draw Plots"
   ]
  },
  {
   "cell_type": "code",
   "execution_count": 48,
   "metadata": {},
   "outputs": [
    {
     "data": {
      "image/svg+xml": [
       "<?xml version=\"1.0\" encoding=\"utf-8\"?>\n",
       "<svg xmlns=\"http://www.w3.org/2000/svg\" xmlns:xlink=\"http://www.w3.org/1999/xlink\" width=\"980\" height=\"600\" viewBox=\"0 0 3920 2400\">\n",
       "<defs>\n",
       "  <clipPath id=\"clip5300\">\n",
       "    <rect x=\"0\" y=\"0\" width=\"3920\" height=\"2400\"/>\n",
       "  </clipPath>\n",
       "</defs>\n",
       "<path clip-path=\"url(#clip5300)\" d=\"\n",
       "M0 2400 L3920 2400 L3920 0 L0 0  Z\n",
       "  \" fill=\"#ffffff\" fill-rule=\"evenodd\" fill-opacity=\"1\"/>\n",
       "<defs>\n",
       "  <clipPath id=\"clip5301\">\n",
       "    <rect x=\"784\" y=\"0\" width=\"2745\" height=\"2400\"/>\n",
       "  </clipPath>\n",
       "</defs>\n",
       "<path clip-path=\"url(#clip5300)\" d=\"\n",
       "M213.78 2221.88 L3872.76 2221.88 L3872.76 47.2441 L213.78 47.2441  Z\n",
       "  \" fill=\"#ffffff\" fill-rule=\"evenodd\" fill-opacity=\"1\"/>\n",
       "<defs>\n",
       "  <clipPath id=\"clip5302\">\n",
       "    <rect x=\"213\" y=\"47\" width=\"3660\" height=\"2176\"/>\n",
       "  </clipPath>\n",
       "</defs>\n",
       "<polyline clip-path=\"url(#clip5302)\" style=\"stroke:#000000; stroke-width:2; stroke-opacity:0.1; fill:none\" points=\"\n",
       "  317.336,2221.88 317.336,47.2441 \n",
       "  \"/>\n",
       "<polyline clip-path=\"url(#clip5302)\" style=\"stroke:#000000; stroke-width:2; stroke-opacity:0.1; fill:none\" points=\"\n",
       "  562.923,2221.88 562.923,47.2441 \n",
       "  \"/>\n",
       "<polyline clip-path=\"url(#clip5302)\" style=\"stroke:#000000; stroke-width:2; stroke-opacity:0.1; fill:none\" points=\"\n",
       "  808.51,2221.88 808.51,47.2441 \n",
       "  \"/>\n",
       "<polyline clip-path=\"url(#clip5302)\" style=\"stroke:#000000; stroke-width:2; stroke-opacity:0.1; fill:none\" points=\"\n",
       "  1054.1,2221.88 1054.1,47.2441 \n",
       "  \"/>\n",
       "<polyline clip-path=\"url(#clip5302)\" style=\"stroke:#000000; stroke-width:2; stroke-opacity:0.1; fill:none\" points=\"\n",
       "  1299.68,2221.88 1299.68,47.2441 \n",
       "  \"/>\n",
       "<polyline clip-path=\"url(#clip5302)\" style=\"stroke:#000000; stroke-width:2; stroke-opacity:0.1; fill:none\" points=\"\n",
       "  1545.27,2221.88 1545.27,47.2441 \n",
       "  \"/>\n",
       "<polyline clip-path=\"url(#clip5302)\" style=\"stroke:#000000; stroke-width:2; stroke-opacity:0.1; fill:none\" points=\"\n",
       "  1790.86,2221.88 1790.86,47.2441 \n",
       "  \"/>\n",
       "<polyline clip-path=\"url(#clip5302)\" style=\"stroke:#000000; stroke-width:2; stroke-opacity:0.1; fill:none\" points=\"\n",
       "  2050.09,2221.88 2050.09,47.2441 \n",
       "  \"/>\n",
       "<polyline clip-path=\"url(#clip5302)\" style=\"stroke:#000000; stroke-width:2; stroke-opacity:0.1; fill:none\" points=\"\n",
       "  2295.68,2221.88 2295.68,47.2441 \n",
       "  \"/>\n",
       "<polyline clip-path=\"url(#clip5302)\" style=\"stroke:#000000; stroke-width:2; stroke-opacity:0.1; fill:none\" points=\"\n",
       "  2541.26,2221.88 2541.26,47.2441 \n",
       "  \"/>\n",
       "<polyline clip-path=\"url(#clip5302)\" style=\"stroke:#000000; stroke-width:2; stroke-opacity:0.1; fill:none\" points=\"\n",
       "  2786.85,2221.88 2786.85,47.2441 \n",
       "  \"/>\n",
       "<polyline clip-path=\"url(#clip5302)\" style=\"stroke:#000000; stroke-width:2; stroke-opacity:0.1; fill:none\" points=\"\n",
       "  3032.44,2221.88 3032.44,47.2441 \n",
       "  \"/>\n",
       "<polyline clip-path=\"url(#clip5302)\" style=\"stroke:#000000; stroke-width:2; stroke-opacity:0.1; fill:none\" points=\"\n",
       "  3278.03,2221.88 3278.03,47.2441 \n",
       "  \"/>\n",
       "<polyline clip-path=\"url(#clip5302)\" style=\"stroke:#000000; stroke-width:2; stroke-opacity:0.1; fill:none\" points=\"\n",
       "  3523.61,2221.88 3523.61,47.2441 \n",
       "  \"/>\n",
       "<polyline clip-path=\"url(#clip5302)\" style=\"stroke:#000000; stroke-width:2; stroke-opacity:0.1; fill:none\" points=\"\n",
       "  3769.2,2221.88 3769.2,47.2441 \n",
       "  \"/>\n",
       "<polyline clip-path=\"url(#clip5302)\" style=\"stroke:#000000; stroke-width:2; stroke-opacity:0.1; fill:none\" points=\"\n",
       "  213.78,1951.71 3872.76,1951.71 \n",
       "  \"/>\n",
       "<polyline clip-path=\"url(#clip5302)\" style=\"stroke:#000000; stroke-width:2; stroke-opacity:0.1; fill:none\" points=\"\n",
       "  213.78,1590.78 3872.76,1590.78 \n",
       "  \"/>\n",
       "<polyline clip-path=\"url(#clip5302)\" style=\"stroke:#000000; stroke-width:2; stroke-opacity:0.1; fill:none\" points=\"\n",
       "  213.78,1229.85 3872.76,1229.85 \n",
       "  \"/>\n",
       "<polyline clip-path=\"url(#clip5302)\" style=\"stroke:#000000; stroke-width:2; stroke-opacity:0.1; fill:none\" points=\"\n",
       "  213.78,868.915 3872.76,868.915 \n",
       "  \"/>\n",
       "<polyline clip-path=\"url(#clip5302)\" style=\"stroke:#000000; stroke-width:2; stroke-opacity:0.1; fill:none\" points=\"\n",
       "  213.78,507.982 3872.76,507.982 \n",
       "  \"/>\n",
       "<polyline clip-path=\"url(#clip5302)\" style=\"stroke:#000000; stroke-width:2; stroke-opacity:0.1; fill:none\" points=\"\n",
       "  213.78,147.049 3872.76,147.049 \n",
       "  \"/>\n",
       "<polyline clip-path=\"url(#clip5300)\" style=\"stroke:#000000; stroke-width:4; stroke-opacity:1; fill:none\" points=\"\n",
       "  213.78,2221.88 3872.76,2221.88 \n",
       "  \"/>\n",
       "<polyline clip-path=\"url(#clip5300)\" style=\"stroke:#000000; stroke-width:4; stroke-opacity:1; fill:none\" points=\"\n",
       "  213.78,2221.88 213.78,47.2441 \n",
       "  \"/>\n",
       "<polyline clip-path=\"url(#clip5300)\" style=\"stroke:#000000; stroke-width:4; stroke-opacity:1; fill:none\" points=\"\n",
       "  317.336,2221.88 317.336,2195.78 \n",
       "  \"/>\n",
       "<polyline clip-path=\"url(#clip5300)\" style=\"stroke:#000000; stroke-width:4; stroke-opacity:1; fill:none\" points=\"\n",
       "  562.923,2221.88 562.923,2195.78 \n",
       "  \"/>\n",
       "<polyline clip-path=\"url(#clip5300)\" style=\"stroke:#000000; stroke-width:4; stroke-opacity:1; fill:none\" points=\"\n",
       "  808.51,2221.88 808.51,2195.78 \n",
       "  \"/>\n",
       "<polyline clip-path=\"url(#clip5300)\" style=\"stroke:#000000; stroke-width:4; stroke-opacity:1; fill:none\" points=\"\n",
       "  1054.1,2221.88 1054.1,2195.78 \n",
       "  \"/>\n",
       "<polyline clip-path=\"url(#clip5300)\" style=\"stroke:#000000; stroke-width:4; stroke-opacity:1; fill:none\" points=\"\n",
       "  1299.68,2221.88 1299.68,2195.78 \n",
       "  \"/>\n",
       "<polyline clip-path=\"url(#clip5300)\" style=\"stroke:#000000; stroke-width:4; stroke-opacity:1; fill:none\" points=\"\n",
       "  1545.27,2221.88 1545.27,2195.78 \n",
       "  \"/>\n",
       "<polyline clip-path=\"url(#clip5300)\" style=\"stroke:#000000; stroke-width:4; stroke-opacity:1; fill:none\" points=\"\n",
       "  1790.86,2221.88 1790.86,2195.78 \n",
       "  \"/>\n",
       "<polyline clip-path=\"url(#clip5300)\" style=\"stroke:#000000; stroke-width:4; stroke-opacity:1; fill:none\" points=\"\n",
       "  2050.09,2221.88 2050.09,2195.78 \n",
       "  \"/>\n",
       "<polyline clip-path=\"url(#clip5300)\" style=\"stroke:#000000; stroke-width:4; stroke-opacity:1; fill:none\" points=\"\n",
       "  2295.68,2221.88 2295.68,2195.78 \n",
       "  \"/>\n",
       "<polyline clip-path=\"url(#clip5300)\" style=\"stroke:#000000; stroke-width:4; stroke-opacity:1; fill:none\" points=\"\n",
       "  2541.26,2221.88 2541.26,2195.78 \n",
       "  \"/>\n",
       "<polyline clip-path=\"url(#clip5300)\" style=\"stroke:#000000; stroke-width:4; stroke-opacity:1; fill:none\" points=\"\n",
       "  2786.85,2221.88 2786.85,2195.78 \n",
       "  \"/>\n",
       "<polyline clip-path=\"url(#clip5300)\" style=\"stroke:#000000; stroke-width:4; stroke-opacity:1; fill:none\" points=\"\n",
       "  3032.44,2221.88 3032.44,2195.78 \n",
       "  \"/>\n",
       "<polyline clip-path=\"url(#clip5300)\" style=\"stroke:#000000; stroke-width:4; stroke-opacity:1; fill:none\" points=\"\n",
       "  3278.03,2221.88 3278.03,2195.78 \n",
       "  \"/>\n",
       "<polyline clip-path=\"url(#clip5300)\" style=\"stroke:#000000; stroke-width:4; stroke-opacity:1; fill:none\" points=\"\n",
       "  3523.61,2221.88 3523.61,2195.78 \n",
       "  \"/>\n",
       "<polyline clip-path=\"url(#clip5300)\" style=\"stroke:#000000; stroke-width:4; stroke-opacity:1; fill:none\" points=\"\n",
       "  3769.2,2221.88 3769.2,2195.78 \n",
       "  \"/>\n",
       "<polyline clip-path=\"url(#clip5300)\" style=\"stroke:#000000; stroke-width:4; stroke-opacity:1; fill:none\" points=\"\n",
       "  213.78,1951.71 257.687,1951.71 \n",
       "  \"/>\n",
       "<polyline clip-path=\"url(#clip5300)\" style=\"stroke:#000000; stroke-width:4; stroke-opacity:1; fill:none\" points=\"\n",
       "  213.78,1590.78 257.687,1590.78 \n",
       "  \"/>\n",
       "<polyline clip-path=\"url(#clip5300)\" style=\"stroke:#000000; stroke-width:4; stroke-opacity:1; fill:none\" points=\"\n",
       "  213.78,1229.85 257.687,1229.85 \n",
       "  \"/>\n",
       "<polyline clip-path=\"url(#clip5300)\" style=\"stroke:#000000; stroke-width:4; stroke-opacity:1; fill:none\" points=\"\n",
       "  213.78,868.915 257.687,868.915 \n",
       "  \"/>\n",
       "<polyline clip-path=\"url(#clip5300)\" style=\"stroke:#000000; stroke-width:4; stroke-opacity:1; fill:none\" points=\"\n",
       "  213.78,507.982 257.687,507.982 \n",
       "  \"/>\n",
       "<polyline clip-path=\"url(#clip5300)\" style=\"stroke:#000000; stroke-width:4; stroke-opacity:1; fill:none\" points=\"\n",
       "  213.78,147.049 257.687,147.049 \n",
       "  \"/>\n",
       "<path clip-path=\"url(#clip5300)\" d=\"M 0 0 M246.954 2279.02 L254.593 2279.02 L254.593 2252.65 L246.283 2254.32 L246.283 2250.06 L254.547 2248.39 L259.223 2248.39 L259.223 2279.02 L266.861 2279.02 L266.861 2282.95 L246.954 2282.95 L246.954 2279.02 Z\" fill=\"#000000\" fill-rule=\"evenodd\" fill-opacity=\"1\" /><path clip-path=\"url(#clip5300)\" d=\"M 0 0 M272.07 2282.23 L272.07 2277.98 Q273.829 2278.81 275.635 2279.25 Q277.44 2279.69 279.176 2279.69 Q283.806 2279.69 286.236 2276.59 Q288.69 2273.46 289.037 2267.12 Q287.695 2269.11 285.634 2270.17 Q283.574 2271.24 281.074 2271.24 Q275.889 2271.24 272.857 2268.11 Q269.848 2264.97 269.848 2259.53 Q269.848 2254.2 272.996 2250.98 Q276.144 2247.77 281.375 2247.77 Q287.371 2247.77 290.519 2252.37 Q293.69 2256.96 293.69 2265.71 Q293.69 2273.88 289.801 2278.76 Q285.935 2283.62 279.385 2283.62 Q277.625 2283.62 275.82 2283.28 Q274.014 2282.93 272.07 2282.23 M281.375 2267.58 Q284.523 2267.58 286.352 2265.43 Q288.204 2263.28 288.204 2259.53 Q288.204 2255.8 286.352 2253.65 Q284.523 2251.47 281.375 2251.47 Q278.227 2251.47 276.375 2253.65 Q274.547 2255.8 274.547 2259.53 Q274.547 2263.28 276.375 2265.43 Q278.227 2267.58 281.375 2267.58 Z\" fill=\"#000000\" fill-rule=\"evenodd\" fill-opacity=\"1\" /><path clip-path=\"url(#clip5300)\" d=\"M 0 0 M305.727 2248.39 L309.662 2248.39 L297.625 2287.35 L293.69 2287.35 L305.727 2248.39 Z\" fill=\"#000000\" fill-rule=\"evenodd\" fill-opacity=\"1\" /><path clip-path=\"url(#clip5300)\" d=\"M 0 0 M314.87 2282.23 L314.87 2277.98 Q316.63 2278.81 318.435 2279.25 Q320.241 2279.69 321.977 2279.69 Q326.606 2279.69 329.037 2276.59 Q331.491 2273.46 331.838 2267.12 Q330.495 2269.11 328.435 2270.17 Q326.375 2271.24 323.875 2271.24 Q318.69 2271.24 315.657 2268.11 Q312.648 2264.97 312.648 2259.53 Q312.648 2254.2 315.796 2250.98 Q318.944 2247.77 324.176 2247.77 Q330.171 2247.77 333.319 2252.37 Q336.491 2256.96 336.491 2265.71 Q336.491 2273.88 332.602 2278.76 Q328.736 2283.62 322.185 2283.62 Q320.426 2283.62 318.62 2283.28 Q316.815 2282.93 314.87 2282.23 M324.176 2267.58 Q327.324 2267.58 329.153 2265.43 Q331.005 2263.28 331.005 2259.53 Q331.005 2255.8 329.153 2253.65 Q327.324 2251.47 324.176 2251.47 Q321.028 2251.47 319.176 2253.65 Q317.347 2255.8 317.347 2259.53 Q317.347 2263.28 319.176 2265.43 Q321.028 2267.58 324.176 2267.58 Z\" fill=\"#000000\" fill-rule=\"evenodd\" fill-opacity=\"1\" /><path clip-path=\"url(#clip5300)\" d=\"M 0 0 M342.37 2279.02 L350.009 2279.02 L350.009 2252.65 L341.699 2254.32 L341.699 2250.06 L349.963 2248.39 L354.639 2248.39 L354.639 2279.02 L362.278 2279.02 L362.278 2282.95 L342.37 2282.95 L342.37 2279.02 Z\" fill=\"#000000\" fill-rule=\"evenodd\" fill-opacity=\"1\" /><path clip-path=\"url(#clip5300)\" d=\"M 0 0 M366.166 2248.39 L388.389 2248.39 L388.389 2250.38 L375.842 2282.95 L370.958 2282.95 L382.764 2252.33 L366.166 2252.33 L366.166 2248.39 Z\" fill=\"#000000\" fill-rule=\"evenodd\" fill-opacity=\"1\" /><path clip-path=\"url(#clip5300)\" d=\"M 0 0 M479.717 2279.02 L487.356 2279.02 L487.356 2252.65 L479.046 2254.32 L479.046 2250.06 L487.31 2248.39 L491.986 2248.39 L491.986 2279.02 L499.625 2279.02 L499.625 2282.95 L479.717 2282.95 L479.717 2279.02 Z\" fill=\"#000000\" fill-rule=\"evenodd\" fill-opacity=\"1\" /><path clip-path=\"url(#clip5300)\" d=\"M 0 0 M504.833 2282.23 L504.833 2277.98 Q506.592 2278.81 508.398 2279.25 Q510.203 2279.69 511.939 2279.69 Q516.569 2279.69 519 2276.59 Q521.453 2273.46 521.8 2267.12 Q520.458 2269.11 518.398 2270.17 Q516.337 2271.24 513.837 2271.24 Q508.652 2271.24 505.62 2268.11 Q502.611 2264.97 502.611 2259.53 Q502.611 2254.2 505.759 2250.98 Q508.907 2247.77 514.138 2247.77 Q520.134 2247.77 523.282 2252.37 Q526.453 2256.96 526.453 2265.71 Q526.453 2273.88 522.564 2278.76 Q518.699 2283.62 512.148 2283.62 Q510.388 2283.62 508.583 2283.28 Q506.777 2282.93 504.833 2282.23 M514.138 2267.58 Q517.287 2267.58 519.115 2265.43 Q520.967 2263.28 520.967 2259.53 Q520.967 2255.8 519.115 2253.65 Q517.287 2251.47 514.138 2251.47 Q510.99 2251.47 509.138 2253.65 Q507.31 2255.8 507.31 2259.53 Q507.31 2263.28 509.138 2265.43 Q510.99 2267.58 514.138 2267.58 Z\" fill=\"#000000\" fill-rule=\"evenodd\" fill-opacity=\"1\" /><path clip-path=\"url(#clip5300)\" d=\"M 0 0 M538.49 2248.39 L542.425 2248.39 L530.388 2287.35 L526.453 2287.35 L538.49 2248.39 Z\" fill=\"#000000\" fill-rule=\"evenodd\" fill-opacity=\"1\" /><path clip-path=\"url(#clip5300)\" d=\"M 0 0 M548.305 2279.02 L555.944 2279.02 L555.944 2252.65 L547.634 2254.32 L547.634 2250.06 L555.897 2248.39 L560.573 2248.39 L560.573 2279.02 L568.212 2279.02 L568.212 2282.95 L548.305 2282.95 L548.305 2279.02 Z\" fill=\"#000000\" fill-rule=\"evenodd\" fill-opacity=\"1\" /><path clip-path=\"url(#clip5300)\" d=\"M 0 0 M583.282 2251.47 Q579.67 2251.47 577.842 2255.04 Q576.036 2258.58 576.036 2265.71 Q576.036 2272.81 577.842 2276.38 Q579.67 2279.92 583.282 2279.92 Q586.916 2279.92 588.721 2276.38 Q590.55 2272.81 590.55 2265.71 Q590.55 2258.58 588.721 2255.04 Q586.916 2251.47 583.282 2251.47 M583.282 2247.77 Q589.092 2247.77 592.147 2252.37 Q595.226 2256.96 595.226 2265.71 Q595.226 2274.43 592.147 2279.04 Q589.092 2283.62 583.282 2283.62 Q577.471 2283.62 574.393 2279.04 Q571.337 2274.43 571.337 2265.71 Q571.337 2256.96 574.393 2252.37 Q577.471 2247.77 583.282 2247.77 Z\" fill=\"#000000\" fill-rule=\"evenodd\" fill-opacity=\"1\" /><path clip-path=\"url(#clip5300)\" d=\"M 0 0 M601.106 2279.02 L608.744 2279.02 L608.744 2252.65 L600.434 2254.32 L600.434 2250.06 L608.698 2248.39 L613.374 2248.39 L613.374 2279.02 L621.013 2279.02 L621.013 2282.95 L601.106 2282.95 L601.106 2279.02 Z\" fill=\"#000000\" fill-rule=\"evenodd\" fill-opacity=\"1\" /><path clip-path=\"url(#clip5300)\" d=\"M 0 0 M626.892 2279.02 L634.531 2279.02 L634.531 2252.65 L626.221 2254.32 L626.221 2250.06 L634.485 2248.39 L639.161 2248.39 L639.161 2279.02 L646.8 2279.02 L646.8 2282.95 L626.892 2282.95 L626.892 2279.02 Z\" fill=\"#000000\" fill-rule=\"evenodd\" fill-opacity=\"1\" /><path clip-path=\"url(#clip5300)\" d=\"M 0 0 M724.61 2279.02 L732.249 2279.02 L732.249 2252.65 L723.939 2254.32 L723.939 2250.06 L732.203 2248.39 L736.879 2248.39 L736.879 2279.02 L744.517 2279.02 L744.517 2282.95 L724.61 2282.95 L724.61 2279.02 Z\" fill=\"#000000\" fill-rule=\"evenodd\" fill-opacity=\"1\" /><path clip-path=\"url(#clip5300)\" d=\"M 0 0 M749.726 2282.23 L749.726 2277.98 Q751.485 2278.81 753.29 2279.25 Q755.096 2279.69 756.832 2279.69 Q761.462 2279.69 763.892 2276.59 Q766.346 2273.46 766.693 2267.12 Q765.351 2269.11 763.29 2270.17 Q761.23 2271.24 758.73 2271.24 Q753.545 2271.24 750.513 2268.11 Q747.503 2264.97 747.503 2259.53 Q747.503 2254.2 750.652 2250.98 Q753.8 2247.77 759.031 2247.77 Q765.026 2247.77 768.175 2252.37 Q771.346 2256.96 771.346 2265.71 Q771.346 2273.88 767.457 2278.76 Q763.591 2283.62 757.04 2283.62 Q755.281 2283.62 753.476 2283.28 Q751.67 2282.93 749.726 2282.23 M759.031 2267.58 Q762.179 2267.58 764.008 2265.43 Q765.86 2263.28 765.86 2259.53 Q765.86 2255.8 764.008 2253.65 Q762.179 2251.47 759.031 2251.47 Q755.883 2251.47 754.031 2253.65 Q752.202 2255.8 752.202 2259.53 Q752.202 2263.28 754.031 2265.43 Q755.883 2267.58 759.031 2267.58 Z\" fill=\"#000000\" fill-rule=\"evenodd\" fill-opacity=\"1\" /><path clip-path=\"url(#clip5300)\" d=\"M 0 0 M783.383 2248.39 L787.318 2248.39 L775.281 2287.35 L771.346 2287.35 L783.383 2248.39 Z\" fill=\"#000000\" fill-rule=\"evenodd\" fill-opacity=\"1\" /><path clip-path=\"url(#clip5300)\" d=\"M 0 0 M793.198 2279.02 L800.836 2279.02 L800.836 2252.65 L792.526 2254.32 L792.526 2250.06 L800.79 2248.39 L805.466 2248.39 L805.466 2279.02 L813.105 2279.02 L813.105 2282.95 L793.198 2282.95 L793.198 2279.02 Z\" fill=\"#000000\" fill-rule=\"evenodd\" fill-opacity=\"1\" /><path clip-path=\"url(#clip5300)\" d=\"M 0 0 M818.985 2279.02 L826.623 2279.02 L826.623 2252.65 L818.313 2254.32 L818.313 2250.06 L826.577 2248.39 L831.253 2248.39 L831.253 2279.02 L838.892 2279.02 L838.892 2282.95 L818.985 2282.95 L818.985 2279.02 Z\" fill=\"#000000\" fill-rule=\"evenodd\" fill-opacity=\"1\" /><path clip-path=\"url(#clip5300)\" d=\"M 0 0 M853.961 2251.47 Q850.35 2251.47 848.521 2255.04 Q846.716 2258.58 846.716 2265.71 Q846.716 2272.81 848.521 2276.38 Q850.35 2279.92 853.961 2279.92 Q857.595 2279.92 859.401 2276.38 Q861.23 2272.81 861.23 2265.71 Q861.23 2258.58 859.401 2255.04 Q857.595 2251.47 853.961 2251.47 M853.961 2247.77 Q859.771 2247.77 862.827 2252.37 Q865.906 2256.96 865.906 2265.71 Q865.906 2274.43 862.827 2279.04 Q859.771 2283.62 853.961 2283.62 Q848.151 2283.62 845.072 2279.04 Q842.017 2274.43 842.017 2265.71 Q842.017 2256.96 845.072 2252.37 Q848.151 2247.77 853.961 2247.77 Z\" fill=\"#000000\" fill-rule=\"evenodd\" fill-opacity=\"1\" /><path clip-path=\"url(#clip5300)\" d=\"M 0 0 M881.554 2263.81 Q878.406 2263.81 876.554 2265.96 Q874.725 2268.11 874.725 2271.86 Q874.725 2275.59 876.554 2277.77 Q878.406 2279.92 881.554 2279.92 Q884.702 2279.92 886.53 2277.77 Q888.382 2275.59 888.382 2271.86 Q888.382 2268.11 886.53 2265.96 Q884.702 2263.81 881.554 2263.81 M890.836 2249.16 L890.836 2253.42 Q889.077 2252.58 887.271 2252.14 Q885.489 2251.7 883.73 2251.7 Q879.1 2251.7 876.646 2254.83 Q874.216 2257.95 873.869 2264.27 Q875.234 2262.26 877.294 2261.19 Q879.355 2260.11 881.831 2260.11 Q887.04 2260.11 890.049 2263.28 Q893.081 2266.42 893.081 2271.86 Q893.081 2277.19 889.933 2280.41 Q886.785 2283.62 881.554 2283.62 Q875.558 2283.62 872.387 2279.04 Q869.216 2274.43 869.216 2265.71 Q869.216 2257.51 873.105 2252.65 Q876.993 2247.77 883.544 2247.77 Q885.304 2247.77 887.086 2248.11 Q888.892 2248.46 890.836 2249.16 Z\" fill=\"#000000\" fill-rule=\"evenodd\" fill-opacity=\"1\" /><path clip-path=\"url(#clip5300)\" d=\"M 0 0 M970.788 2279.02 L978.426 2279.02 L978.426 2252.65 L970.116 2254.32 L970.116 2250.06 L978.38 2248.39 L983.056 2248.39 L983.056 2279.02 L990.695 2279.02 L990.695 2282.95 L970.788 2282.95 L970.788 2279.02 Z\" fill=\"#000000\" fill-rule=\"evenodd\" fill-opacity=\"1\" /><path clip-path=\"url(#clip5300)\" d=\"M 0 0 M995.903 2282.23 L995.903 2277.98 Q997.662 2278.81 999.468 2279.25 Q1001.27 2279.69 1003.01 2279.69 Q1007.64 2279.69 1010.07 2276.59 Q1012.52 2273.46 1012.87 2267.12 Q1011.53 2269.11 1009.47 2270.17 Q1007.41 2271.24 1004.91 2271.24 Q999.723 2271.24 996.69 2268.11 Q993.681 2264.97 993.681 2259.53 Q993.681 2254.2 996.829 2250.98 Q999.977 2247.77 1005.21 2247.77 Q1011.2 2247.77 1014.35 2252.37 Q1017.52 2256.96 1017.52 2265.71 Q1017.52 2273.88 1013.63 2278.76 Q1009.77 2283.62 1003.22 2283.62 Q1001.46 2283.62 999.653 2283.28 Q997.848 2282.93 995.903 2282.23 M1005.21 2267.58 Q1008.36 2267.58 1010.19 2265.43 Q1012.04 2263.28 1012.04 2259.53 Q1012.04 2255.8 1010.19 2253.65 Q1008.36 2251.47 1005.21 2251.47 Q1002.06 2251.47 1000.21 2253.65 Q998.38 2255.8 998.38 2259.53 Q998.38 2263.28 1000.21 2265.43 Q1002.06 2267.58 1005.21 2267.58 Z\" fill=\"#000000\" fill-rule=\"evenodd\" fill-opacity=\"1\" /><path clip-path=\"url(#clip5300)\" d=\"M 0 0 M1029.56 2248.39 L1033.5 2248.39 L1021.46 2287.35 L1017.52 2287.35 L1029.56 2248.39 Z\" fill=\"#000000\" fill-rule=\"evenodd\" fill-opacity=\"1\" /><path clip-path=\"url(#clip5300)\" d=\"M 0 0 M1039.38 2279.02 L1047.01 2279.02 L1047.01 2252.65 L1038.7 2254.32 L1038.7 2250.06 L1046.97 2248.39 L1051.64 2248.39 L1051.64 2279.02 L1059.28 2279.02 L1059.28 2282.95 L1039.38 2282.95 L1039.38 2279.02 Z\" fill=\"#000000\" fill-rule=\"evenodd\" fill-opacity=\"1\" /><path clip-path=\"url(#clip5300)\" d=\"M 0 0 M1068.38 2279.02 L1084.7 2279.02 L1084.7 2282.95 L1062.75 2282.95 L1062.75 2279.02 Q1065.42 2276.26 1070 2271.63 Q1074.61 2266.98 1075.79 2265.64 Q1078.03 2263.11 1078.91 2261.38 Q1079.81 2259.62 1079.81 2257.93 Q1079.81 2255.17 1077.87 2253.44 Q1075.95 2251.7 1072.85 2251.7 Q1070.65 2251.7 1068.19 2252.47 Q1065.76 2253.23 1062.99 2254.78 L1062.99 2250.06 Q1065.81 2248.92 1068.26 2248.35 Q1070.72 2247.77 1072.75 2247.77 Q1078.12 2247.77 1081.32 2250.45 Q1084.51 2253.14 1084.51 2257.63 Q1084.51 2259.76 1083.7 2261.68 Q1082.92 2263.58 1080.81 2266.17 Q1080.23 2266.84 1077.13 2270.06 Q1074.03 2273.25 1068.38 2279.02 Z\" fill=\"#000000\" fill-rule=\"evenodd\" fill-opacity=\"1\" /><path clip-path=\"url(#clip5300)\" d=\"M 0 0 M1099.77 2251.47 Q1096.16 2251.47 1094.33 2255.04 Q1092.52 2258.58 1092.52 2265.71 Q1092.52 2272.81 1094.33 2276.38 Q1096.16 2279.92 1099.77 2279.92 Q1103.4 2279.92 1105.21 2276.38 Q1107.04 2272.81 1107.04 2265.71 Q1107.04 2258.58 1105.21 2255.04 Q1103.4 2251.47 1099.77 2251.47 M1099.77 2247.77 Q1105.58 2247.77 1108.63 2252.37 Q1111.71 2256.96 1111.71 2265.71 Q1111.71 2274.43 1108.63 2279.04 Q1105.58 2283.62 1099.77 2283.62 Q1093.96 2283.62 1090.88 2279.04 Q1087.82 2274.43 1087.82 2265.71 Q1087.82 2256.96 1090.88 2252.37 Q1093.96 2247.77 1099.77 2247.77 Z\" fill=\"#000000\" fill-rule=\"evenodd\" fill-opacity=\"1\" /><path clip-path=\"url(#clip5300)\" d=\"M 0 0 M1130.95 2264.32 Q1134.31 2265.04 1136.18 2267.3 Q1138.08 2269.57 1138.08 2272.91 Q1138.08 2278.02 1134.56 2280.82 Q1131.04 2283.62 1124.56 2283.62 Q1122.38 2283.62 1120.07 2283.18 Q1117.78 2282.77 1115.32 2281.91 L1115.32 2277.4 Q1117.27 2278.53 1119.58 2279.11 Q1121.9 2279.69 1124.42 2279.69 Q1128.82 2279.69 1131.11 2277.95 Q1133.43 2276.22 1133.43 2272.91 Q1133.43 2269.85 1131.27 2268.14 Q1129.14 2266.4 1125.32 2266.4 L1121.3 2266.4 L1121.3 2262.56 L1125.51 2262.56 Q1128.96 2262.56 1130.79 2261.19 Q1132.62 2259.8 1132.62 2257.21 Q1132.62 2254.55 1130.72 2253.14 Q1128.84 2251.7 1125.32 2251.7 Q1123.4 2251.7 1121.2 2252.12 Q1119 2252.54 1116.37 2253.42 L1116.37 2249.25 Q1119.03 2248.51 1121.34 2248.14 Q1123.68 2247.77 1125.74 2247.77 Q1131.06 2247.77 1134.17 2250.2 Q1137.27 2252.61 1137.27 2256.73 Q1137.27 2259.6 1135.62 2261.59 Q1133.98 2263.55 1130.95 2264.32 Z\" fill=\"#000000\" fill-rule=\"evenodd\" fill-opacity=\"1\" /><path clip-path=\"url(#clip5300)\" d=\"M 0 0 M1216.37 2279.02 L1224.01 2279.02 L1224.01 2252.65 L1215.7 2254.32 L1215.7 2250.06 L1223.97 2248.39 L1228.64 2248.39 L1228.64 2279.02 L1236.28 2279.02 L1236.28 2282.95 L1216.37 2282.95 L1216.37 2279.02 Z\" fill=\"#000000\" fill-rule=\"evenodd\" fill-opacity=\"1\" /><path clip-path=\"url(#clip5300)\" d=\"M 0 0 M1241.49 2282.23 L1241.49 2277.98 Q1243.25 2278.81 1245.06 2279.25 Q1246.86 2279.69 1248.6 2279.69 Q1253.23 2279.69 1255.66 2276.59 Q1258.11 2273.46 1258.46 2267.12 Q1257.12 2269.11 1255.06 2270.17 Q1252.99 2271.24 1250.49 2271.24 Q1245.31 2271.24 1242.28 2268.11 Q1239.27 2264.97 1239.27 2259.53 Q1239.27 2254.2 1242.42 2250.98 Q1245.56 2247.77 1250.8 2247.77 Q1256.79 2247.77 1259.94 2252.37 Q1263.11 2256.96 1263.11 2265.71 Q1263.11 2273.88 1259.22 2278.76 Q1255.36 2283.62 1248.81 2283.62 Q1247.05 2283.62 1245.24 2283.28 Q1243.43 2282.93 1241.49 2282.23 M1250.8 2267.58 Q1253.94 2267.58 1255.77 2265.43 Q1257.62 2263.28 1257.62 2259.53 Q1257.62 2255.8 1255.77 2253.65 Q1253.94 2251.47 1250.8 2251.47 Q1247.65 2251.47 1245.8 2253.65 Q1243.97 2255.8 1243.97 2259.53 Q1243.97 2263.28 1245.8 2265.43 Q1247.65 2267.58 1250.8 2267.58 Z\" fill=\"#000000\" fill-rule=\"evenodd\" fill-opacity=\"1\" /><path clip-path=\"url(#clip5300)\" d=\"M 0 0 M1275.15 2248.39 L1279.08 2248.39 L1267.05 2287.35 L1263.11 2287.35 L1275.15 2248.39 Z\" fill=\"#000000\" fill-rule=\"evenodd\" fill-opacity=\"1\" /><path clip-path=\"url(#clip5300)\" d=\"M 0 0 M1284.96 2279.02 L1292.6 2279.02 L1292.6 2252.65 L1284.29 2254.32 L1284.29 2250.06 L1292.55 2248.39 L1297.23 2248.39 L1297.23 2279.02 L1304.87 2279.02 L1304.87 2282.95 L1284.96 2282.95 L1284.96 2279.02 Z\" fill=\"#000000\" fill-rule=\"evenodd\" fill-opacity=\"1\" /><path clip-path=\"url(#clip5300)\" d=\"M 0 0 M1313.97 2279.02 L1330.29 2279.02 L1330.29 2282.95 L1308.34 2282.95 L1308.34 2279.02 Q1311 2276.26 1315.59 2271.63 Q1320.19 2266.98 1321.37 2265.64 Q1323.62 2263.11 1324.5 2261.38 Q1325.4 2259.62 1325.4 2257.93 Q1325.4 2255.17 1323.46 2253.44 Q1321.54 2251.7 1318.43 2251.7 Q1316.24 2251.7 1313.78 2252.47 Q1311.35 2253.23 1308.57 2254.78 L1308.57 2250.06 Q1311.4 2248.92 1313.85 2248.35 Q1316.3 2247.77 1318.34 2247.77 Q1323.71 2247.77 1326.91 2250.45 Q1330.1 2253.14 1330.1 2257.63 Q1330.1 2259.76 1329.29 2261.68 Q1328.5 2263.58 1326.4 2266.17 Q1325.82 2266.84 1322.72 2270.06 Q1319.61 2273.25 1313.97 2279.02 Z\" fill=\"#000000\" fill-rule=\"evenodd\" fill-opacity=\"1\" /><path clip-path=\"url(#clip5300)\" d=\"M 0 0 M1349.52 2264.32 Q1352.88 2265.04 1354.75 2267.3 Q1356.65 2269.57 1356.65 2272.91 Q1356.65 2278.02 1353.13 2280.82 Q1349.61 2283.62 1343.13 2283.62 Q1340.96 2283.62 1338.64 2283.18 Q1336.35 2282.77 1333.9 2281.91 L1333.9 2277.4 Q1335.84 2278.53 1338.16 2279.11 Q1340.47 2279.69 1342.99 2279.69 Q1347.39 2279.69 1349.68 2277.95 Q1352 2276.22 1352 2272.91 Q1352 2269.85 1349.85 2268.14 Q1347.72 2266.4 1343.9 2266.4 L1339.87 2266.4 L1339.87 2262.56 L1344.08 2262.56 Q1347.53 2262.56 1349.36 2261.19 Q1351.19 2259.8 1351.19 2257.21 Q1351.19 2254.55 1349.29 2253.14 Q1347.42 2251.7 1343.9 2251.7 Q1341.98 2251.7 1339.78 2252.12 Q1337.58 2252.54 1334.94 2253.42 L1334.94 2249.25 Q1337.6 2248.51 1339.92 2248.14 Q1342.25 2247.77 1344.31 2247.77 Q1349.64 2247.77 1352.74 2250.2 Q1355.84 2252.61 1355.84 2256.73 Q1355.84 2259.6 1354.2 2261.59 Q1352.55 2263.55 1349.52 2264.32 Z\" fill=\"#000000\" fill-rule=\"evenodd\" fill-opacity=\"1\" /><path clip-path=\"url(#clip5300)\" d=\"M 0 0 M1371.72 2251.47 Q1368.11 2251.47 1366.28 2255.04 Q1364.48 2258.58 1364.48 2265.71 Q1364.48 2272.81 1366.28 2276.38 Q1368.11 2279.92 1371.72 2279.92 Q1375.36 2279.92 1377.16 2276.38 Q1378.99 2272.81 1378.99 2265.71 Q1378.99 2258.58 1377.16 2255.04 Q1375.36 2251.47 1371.72 2251.47 M1371.72 2247.77 Q1377.53 2247.77 1380.59 2252.37 Q1383.67 2256.96 1383.67 2265.71 Q1383.67 2274.43 1380.59 2279.04 Q1377.53 2283.62 1371.72 2283.62 Q1365.91 2283.62 1362.83 2279.04 Q1359.78 2274.43 1359.78 2265.71 Q1359.78 2256.96 1362.83 2252.37 Q1365.91 2247.77 1371.72 2247.77 Z\" fill=\"#000000\" fill-rule=\"evenodd\" fill-opacity=\"1\" /><path clip-path=\"url(#clip5300)\" d=\"M 0 0 M1479.77 2279.02 L1496.09 2279.02 L1496.09 2282.95 L1474.15 2282.95 L1474.15 2279.02 Q1476.81 2276.26 1481.39 2271.63 Q1486 2266.98 1487.18 2265.64 Q1489.43 2263.11 1490.31 2261.38 Q1491.21 2259.62 1491.21 2257.93 Q1491.21 2255.17 1489.26 2253.44 Q1487.34 2251.7 1484.24 2251.7 Q1482.04 2251.7 1479.59 2252.47 Q1477.16 2253.23 1474.38 2254.78 L1474.38 2250.06 Q1477.2 2248.92 1479.66 2248.35 Q1482.11 2247.77 1484.15 2247.77 Q1489.52 2247.77 1492.71 2250.45 Q1495.91 2253.14 1495.91 2257.63 Q1495.91 2259.76 1495.1 2261.68 Q1494.31 2263.58 1492.2 2266.17 Q1491.63 2266.84 1488.52 2270.06 Q1485.42 2273.25 1479.77 2279.02 Z\" fill=\"#000000\" fill-rule=\"evenodd\" fill-opacity=\"1\" /><path clip-path=\"url(#clip5300)\" d=\"M 0 0 M1511.16 2251.47 Q1507.55 2251.47 1505.72 2255.04 Q1503.92 2258.58 1503.92 2265.71 Q1503.92 2272.81 1505.72 2276.38 Q1507.55 2279.92 1511.16 2279.92 Q1514.8 2279.92 1516.6 2276.38 Q1518.43 2272.81 1518.43 2265.71 Q1518.43 2258.58 1516.6 2255.04 Q1514.8 2251.47 1511.16 2251.47 M1511.16 2247.77 Q1516.97 2247.77 1520.03 2252.37 Q1523.11 2256.96 1523.11 2265.71 Q1523.11 2274.43 1520.03 2279.04 Q1516.97 2283.62 1511.16 2283.62 Q1505.35 2283.62 1502.27 2279.04 Q1499.22 2274.43 1499.22 2265.71 Q1499.22 2256.96 1502.27 2252.37 Q1505.35 2247.77 1511.16 2247.77 Z\" fill=\"#000000\" fill-rule=\"evenodd\" fill-opacity=\"1\" /><path clip-path=\"url(#clip5300)\" d=\"M 0 0 M1535.14 2248.39 L1539.08 2248.39 L1527.04 2287.35 L1523.11 2287.35 L1535.14 2248.39 Z\" fill=\"#000000\" fill-rule=\"evenodd\" fill-opacity=\"1\" /><path clip-path=\"url(#clip5300)\" d=\"M 0 0 M1544.96 2279.02 L1552.6 2279.02 L1552.6 2252.65 L1544.29 2254.32 L1544.29 2250.06 L1552.55 2248.39 L1557.23 2248.39 L1557.23 2279.02 L1564.87 2279.02 L1564.87 2282.95 L1544.96 2282.95 L1544.96 2279.02 Z\" fill=\"#000000\" fill-rule=\"evenodd\" fill-opacity=\"1\" /><path clip-path=\"url(#clip5300)\" d=\"M 0 0 M1573.96 2279.02 L1590.28 2279.02 L1590.28 2282.95 L1568.34 2282.95 L1568.34 2279.02 Q1571 2276.26 1575.58 2271.63 Q1580.19 2266.98 1581.37 2265.64 Q1583.62 2263.11 1584.5 2261.38 Q1585.4 2259.62 1585.4 2257.93 Q1585.4 2255.17 1583.45 2253.44 Q1581.53 2251.7 1578.43 2251.7 Q1576.23 2251.7 1573.78 2252.47 Q1571.35 2253.23 1568.57 2254.78 L1568.57 2250.06 Q1571.39 2248.92 1573.85 2248.35 Q1576.3 2247.77 1578.34 2247.77 Q1583.71 2247.77 1586.9 2250.45 Q1590.1 2253.14 1590.1 2257.63 Q1590.1 2259.76 1589.29 2261.68 Q1588.5 2263.58 1586.39 2266.17 Q1585.82 2266.84 1582.71 2270.06 Q1579.61 2273.25 1573.96 2279.02 Z\" fill=\"#000000\" fill-rule=\"evenodd\" fill-opacity=\"1\" /><path clip-path=\"url(#clip5300)\" d=\"M 0 0 M1594.17 2248.39 L1616.39 2248.39 L1616.39 2250.38 L1603.85 2282.95 L1598.96 2282.95 L1610.77 2252.33 L1594.17 2252.33 L1594.17 2248.39 Z\" fill=\"#000000\" fill-rule=\"evenodd\" fill-opacity=\"1\" /><path clip-path=\"url(#clip5300)\" d=\"M 0 0 M1725.71 2279.02 L1742.03 2279.02 L1742.03 2282.95 L1720.08 2282.95 L1720.08 2279.02 Q1722.75 2276.26 1727.33 2271.63 Q1731.94 2266.98 1733.12 2265.64 Q1735.36 2263.11 1736.24 2261.38 Q1737.14 2259.62 1737.14 2257.93 Q1737.14 2255.17 1735.2 2253.44 Q1733.28 2251.7 1730.18 2251.7 Q1727.98 2251.7 1725.52 2252.47 Q1723.09 2253.23 1720.32 2254.78 L1720.32 2250.06 Q1723.14 2248.92 1725.59 2248.35 Q1728.05 2247.77 1730.08 2247.77 Q1735.45 2247.77 1738.65 2250.45 Q1741.84 2253.14 1741.84 2257.63 Q1741.84 2259.76 1741.03 2261.68 Q1740.25 2263.58 1738.14 2266.17 Q1737.56 2266.84 1734.46 2270.06 Q1731.36 2273.25 1725.71 2279.02 Z\" fill=\"#000000\" fill-rule=\"evenodd\" fill-opacity=\"1\" /><path clip-path=\"url(#clip5300)\" d=\"M 0 0 M1757.1 2251.47 Q1753.49 2251.47 1751.66 2255.04 Q1749.85 2258.58 1749.85 2265.71 Q1749.85 2272.81 1751.66 2276.38 Q1753.49 2279.92 1757.1 2279.92 Q1760.73 2279.92 1762.54 2276.38 Q1764.37 2272.81 1764.37 2265.71 Q1764.37 2258.58 1762.54 2255.04 Q1760.73 2251.47 1757.1 2251.47 M1757.1 2247.77 Q1762.91 2247.77 1765.96 2252.37 Q1769.04 2256.96 1769.04 2265.71 Q1769.04 2274.43 1765.96 2279.04 Q1762.91 2283.62 1757.1 2283.62 Q1751.29 2283.62 1748.21 2279.04 Q1745.15 2274.43 1745.15 2265.71 Q1745.15 2256.96 1748.21 2252.37 Q1751.29 2247.77 1757.1 2247.77 Z\" fill=\"#000000\" fill-rule=\"evenodd\" fill-opacity=\"1\" /><path clip-path=\"url(#clip5300)\" d=\"M 0 0 M1781.08 2248.39 L1785.01 2248.39 L1772.98 2287.35 L1769.04 2287.35 L1781.08 2248.39 Z\" fill=\"#000000\" fill-rule=\"evenodd\" fill-opacity=\"1\" /><path clip-path=\"url(#clip5300)\" d=\"M 0 0 M1794.11 2279.02 L1810.43 2279.02 L1810.43 2282.95 L1788.49 2282.95 L1788.49 2279.02 Q1791.15 2276.26 1795.73 2271.63 Q1800.34 2266.98 1801.52 2265.64 Q1803.76 2263.11 1804.64 2261.38 Q1805.55 2259.62 1805.55 2257.93 Q1805.55 2255.17 1803.6 2253.44 Q1801.68 2251.7 1798.58 2251.7 Q1796.38 2251.7 1793.93 2252.47 Q1791.5 2253.23 1788.72 2254.78 L1788.72 2250.06 Q1791.54 2248.92 1794 2248.35 Q1796.45 2247.77 1798.49 2247.77 Q1803.86 2247.77 1807.05 2250.45 Q1810.25 2253.14 1810.25 2257.63 Q1810.25 2259.76 1809.44 2261.68 Q1808.65 2263.58 1806.54 2266.17 Q1805.96 2266.84 1802.86 2270.06 Q1799.76 2273.25 1794.11 2279.02 Z\" fill=\"#000000\" fill-rule=\"evenodd\" fill-opacity=\"1\" /><path clip-path=\"url(#clip5300)\" d=\"M 0 0 M1819.53 2279.02 L1835.85 2279.02 L1835.85 2282.95 L1813.9 2282.95 L1813.9 2279.02 Q1816.56 2276.26 1821.15 2271.63 Q1825.75 2266.98 1826.93 2265.64 Q1829.18 2263.11 1830.06 2261.38 Q1830.96 2259.62 1830.96 2257.93 Q1830.96 2255.17 1829.02 2253.44 Q1827.1 2251.7 1824 2251.7 Q1821.8 2251.7 1819.34 2252.47 Q1816.91 2253.23 1814.13 2254.78 L1814.13 2250.06 Q1816.96 2248.92 1819.41 2248.35 Q1821.87 2247.77 1823.9 2247.77 Q1829.27 2247.77 1832.47 2250.45 Q1835.66 2253.14 1835.66 2257.63 Q1835.66 2259.76 1834.85 2261.68 Q1834.06 2263.58 1831.96 2266.17 Q1831.38 2266.84 1828.28 2270.06 Q1825.18 2273.25 1819.53 2279.02 Z\" fill=\"#000000\" fill-rule=\"evenodd\" fill-opacity=\"1\" /><path clip-path=\"url(#clip5300)\" d=\"M 0 0 M1841.73 2279.02 L1849.37 2279.02 L1849.37 2252.65 L1841.06 2254.32 L1841.06 2250.06 L1849.32 2248.39 L1854 2248.39 L1854 2279.02 L1861.63 2279.02 L1861.63 2282.95 L1841.73 2282.95 L1841.73 2279.02 Z\" fill=\"#000000\" fill-rule=\"evenodd\" fill-opacity=\"1\" /><path clip-path=\"url(#clip5300)\" d=\"M 0 0 M1983.76 2279.02 L2000.08 2279.02 L2000.08 2282.95 L1978.13 2282.95 L1978.13 2279.02 Q1980.8 2276.26 1985.38 2271.63 Q1989.99 2266.98 1991.17 2265.64 Q1993.41 2263.11 1994.29 2261.38 Q1995.19 2259.62 1995.19 2257.93 Q1995.19 2255.17 1993.25 2253.44 Q1991.33 2251.7 1988.23 2251.7 Q1986.03 2251.7 1983.57 2252.47 Q1981.14 2253.23 1978.37 2254.78 L1978.37 2250.06 Q1981.19 2248.92 1983.64 2248.35 Q1986.1 2247.77 1988.13 2247.77 Q1993.5 2247.77 1996.7 2250.45 Q1999.89 2253.14 1999.89 2257.63 Q1999.89 2259.76 1999.08 2261.68 Q1998.3 2263.58 1996.19 2266.17 Q1995.61 2266.84 1992.51 2270.06 Q1989.41 2273.25 1983.76 2279.02 Z\" fill=\"#000000\" fill-rule=\"evenodd\" fill-opacity=\"1\" /><path clip-path=\"url(#clip5300)\" d=\"M 0 0 M2015.15 2251.47 Q2011.54 2251.47 2009.71 2255.04 Q2007.9 2258.58 2007.9 2265.71 Q2007.9 2272.81 2009.71 2276.38 Q2011.54 2279.92 2015.15 2279.92 Q2018.78 2279.92 2020.59 2276.38 Q2022.42 2272.81 2022.42 2265.71 Q2022.42 2258.58 2020.59 2255.04 Q2018.78 2251.47 2015.15 2251.47 M2015.15 2247.77 Q2020.96 2247.77 2024.01 2252.37 Q2027.09 2256.96 2027.09 2265.71 Q2027.09 2274.43 2024.01 2279.04 Q2020.96 2283.62 2015.15 2283.62 Q2009.34 2283.62 2006.26 2279.04 Q2003.2 2274.43 2003.2 2265.71 Q2003.2 2256.96 2006.26 2252.37 Q2009.34 2247.77 2015.15 2247.77 Z\" fill=\"#000000\" fill-rule=\"evenodd\" fill-opacity=\"1\" /><path clip-path=\"url(#clip5300)\" d=\"M 0 0 M2039.13 2248.39 L2043.06 2248.39 L2031.03 2287.35 L2027.09 2287.35 L2039.13 2248.39 Z\" fill=\"#000000\" fill-rule=\"evenodd\" fill-opacity=\"1\" /><path clip-path=\"url(#clip5300)\" d=\"M 0 0 M2062.3 2264.32 Q2065.66 2265.04 2067.53 2267.3 Q2069.43 2269.57 2069.43 2272.91 Q2069.43 2278.02 2065.91 2280.82 Q2062.39 2283.62 2055.91 2283.62 Q2053.74 2283.62 2051.42 2283.18 Q2049.13 2282.77 2046.68 2281.91 L2046.68 2277.4 Q2048.62 2278.53 2050.93 2279.11 Q2053.25 2279.69 2055.77 2279.69 Q2060.17 2279.69 2062.46 2277.95 Q2064.78 2276.22 2064.78 2272.91 Q2064.78 2269.85 2062.62 2268.14 Q2060.49 2266.4 2056.68 2266.4 L2052.65 2266.4 L2052.65 2262.56 L2056.86 2262.56 Q2060.31 2262.56 2062.14 2261.19 Q2063.97 2259.8 2063.97 2257.21 Q2063.97 2254.55 2062.07 2253.14 Q2060.19 2251.7 2056.68 2251.7 Q2054.75 2251.7 2052.55 2252.12 Q2050.36 2252.54 2047.72 2253.42 L2047.72 2249.25 Q2050.38 2248.51 2052.69 2248.14 Q2055.03 2247.77 2057.09 2247.77 Q2062.42 2247.77 2065.52 2250.2 Q2068.62 2252.61 2068.62 2256.73 Q2068.62 2259.6 2066.98 2261.59 Q2065.33 2263.55 2062.3 2264.32 Z\" fill=\"#000000\" fill-rule=\"evenodd\" fill-opacity=\"1\" /><path clip-path=\"url(#clip5300)\" d=\"M 0 0 M2075.31 2279.02 L2082.95 2279.02 L2082.95 2252.65 L2074.64 2254.32 L2074.64 2250.06 L2082.9 2248.39 L2087.58 2248.39 L2087.58 2279.02 L2095.22 2279.02 L2095.22 2282.95 L2075.31 2282.95 L2075.31 2279.02 Z\" fill=\"#000000\" fill-rule=\"evenodd\" fill-opacity=\"1\" /><path clip-path=\"url(#clip5300)\" d=\"M 0 0 M2100.43 2282.23 L2100.43 2277.98 Q2102.18 2278.81 2103.99 2279.25 Q2105.8 2279.69 2107.53 2279.69 Q2112.16 2279.69 2114.59 2276.59 Q2117.05 2273.46 2117.39 2267.12 Q2116.05 2269.11 2113.99 2270.17 Q2111.93 2271.24 2109.43 2271.24 Q2104.24 2271.24 2101.21 2268.11 Q2098.2 2264.97 2098.2 2259.53 Q2098.2 2254.2 2101.35 2250.98 Q2104.5 2247.77 2109.73 2247.77 Q2115.73 2247.77 2118.87 2252.37 Q2122.05 2256.96 2122.05 2265.71 Q2122.05 2273.88 2118.16 2278.76 Q2114.29 2283.62 2107.74 2283.62 Q2105.98 2283.62 2104.18 2283.28 Q2102.37 2282.93 2100.43 2282.23 M2109.73 2267.58 Q2112.88 2267.58 2114.71 2265.43 Q2116.56 2263.28 2116.56 2259.53 Q2116.56 2255.8 2114.71 2253.65 Q2112.88 2251.47 2109.73 2251.47 Q2106.58 2251.47 2104.73 2253.65 Q2102.9 2255.8 2102.9 2259.53 Q2102.9 2263.28 2104.73 2265.43 Q2106.58 2267.58 2109.73 2267.58 Z\" fill=\"#000000\" fill-rule=\"evenodd\" fill-opacity=\"1\" /><path clip-path=\"url(#clip5300)\" d=\"M 0 0 M2229.18 2279.02 L2245.5 2279.02 L2245.5 2282.95 L2223.56 2282.95 L2223.56 2279.02 Q2226.22 2276.26 2230.8 2271.63 Q2235.41 2266.98 2236.59 2265.64 Q2238.84 2263.11 2239.72 2261.38 Q2240.62 2259.62 2240.62 2257.93 Q2240.62 2255.17 2238.67 2253.44 Q2236.75 2251.7 2233.65 2251.7 Q2231.45 2251.7 2229 2252.47 Q2226.57 2253.23 2223.79 2254.78 L2223.79 2250.06 Q2226.61 2248.92 2229.07 2248.35 Q2231.52 2247.77 2233.56 2247.77 Q2238.93 2247.77 2242.12 2250.45 Q2245.32 2253.14 2245.32 2257.63 Q2245.32 2259.76 2244.51 2261.68 Q2243.72 2263.58 2241.61 2266.17 Q2241.04 2266.84 2237.93 2270.06 Q2234.83 2273.25 2229.18 2279.02 Z\" fill=\"#000000\" fill-rule=\"evenodd\" fill-opacity=\"1\" /><path clip-path=\"url(#clip5300)\" d=\"M 0 0 M2260.57 2251.47 Q2256.96 2251.47 2255.13 2255.04 Q2253.33 2258.58 2253.33 2265.71 Q2253.33 2272.81 2255.13 2276.38 Q2256.96 2279.92 2260.57 2279.92 Q2264.21 2279.92 2266.01 2276.38 Q2267.84 2272.81 2267.84 2265.71 Q2267.84 2258.58 2266.01 2255.04 Q2264.21 2251.47 2260.57 2251.47 M2260.57 2247.77 Q2266.38 2247.77 2269.44 2252.37 Q2272.52 2256.96 2272.52 2265.71 Q2272.52 2274.43 2269.44 2279.04 Q2266.38 2283.62 2260.57 2283.62 Q2254.76 2283.62 2251.68 2279.04 Q2248.63 2274.43 2248.63 2265.71 Q2248.63 2256.96 2251.68 2252.37 Q2254.76 2247.77 2260.57 2247.77 Z\" fill=\"#000000\" fill-rule=\"evenodd\" fill-opacity=\"1\" /><path clip-path=\"url(#clip5300)\" d=\"M 0 0 M2284.55 2248.39 L2288.49 2248.39 L2276.45 2287.35 L2272.52 2287.35 L2284.55 2248.39 Z\" fill=\"#000000\" fill-rule=\"evenodd\" fill-opacity=\"1\" /><path clip-path=\"url(#clip5300)\" d=\"M 0 0 M2306.41 2252.47 L2294.6 2270.92 L2306.41 2270.92 L2306.41 2252.47 M2305.18 2248.39 L2311.06 2248.39 L2311.06 2270.92 L2315.99 2270.92 L2315.99 2274.8 L2311.06 2274.8 L2311.06 2282.95 L2306.41 2282.95 L2306.41 2274.8 L2290.8 2274.8 L2290.8 2270.29 L2305.18 2248.39 Z\" fill=\"#000000\" fill-rule=\"evenodd\" fill-opacity=\"1\" /><path clip-path=\"url(#clip5300)\" d=\"M 0 0 M2321.87 2279.02 L2329.51 2279.02 L2329.51 2252.65 L2321.2 2254.32 L2321.2 2250.06 L2329.46 2248.39 L2334.14 2248.39 L2334.14 2279.02 L2341.78 2279.02 L2341.78 2282.95 L2321.87 2282.95 L2321.87 2279.02 Z\" fill=\"#000000\" fill-rule=\"evenodd\" fill-opacity=\"1\" /><path clip-path=\"url(#clip5300)\" d=\"M 0 0 M2346.89 2248.39 L2365.25 2248.39 L2365.25 2252.33 L2351.17 2252.33 L2351.17 2260.8 Q2352.19 2260.45 2353.21 2260.29 Q2354.23 2260.11 2355.25 2260.11 Q2361.04 2260.11 2364.41 2263.28 Q2367.79 2266.45 2367.79 2271.86 Q2367.79 2277.44 2364.32 2280.54 Q2360.85 2283.62 2354.53 2283.62 Q2352.35 2283.62 2350.09 2283.25 Q2347.84 2282.88 2345.43 2282.14 L2345.43 2277.44 Q2347.52 2278.58 2349.74 2279.13 Q2351.96 2279.69 2354.44 2279.69 Q2358.44 2279.69 2360.78 2277.58 Q2363.12 2275.48 2363.12 2271.86 Q2363.12 2268.25 2360.78 2266.15 Q2358.44 2264.04 2354.44 2264.04 Q2352.56 2264.04 2350.69 2264.46 Q2348.84 2264.87 2346.89 2265.75 L2346.89 2248.39 Z\" fill=\"#000000\" fill-rule=\"evenodd\" fill-opacity=\"1\" /><path clip-path=\"url(#clip5300)\" d=\"M 0 0 M2475.63 2279.02 L2491.95 2279.02 L2491.95 2282.95 L2470 2282.95 L2470 2279.02 Q2472.66 2276.26 2477.25 2271.63 Q2481.85 2266.98 2483.04 2265.64 Q2485.28 2263.11 2486.16 2261.38 Q2487.06 2259.62 2487.06 2257.93 Q2487.06 2255.17 2485.12 2253.44 Q2483.2 2251.7 2480.1 2251.7 Q2477.9 2251.7 2475.44 2252.47 Q2473.01 2253.23 2470.23 2254.78 L2470.23 2250.06 Q2473.06 2248.92 2475.51 2248.35 Q2477.97 2247.77 2480 2247.77 Q2485.37 2247.77 2488.57 2250.45 Q2491.76 2253.14 2491.76 2257.63 Q2491.76 2259.76 2490.95 2261.68 Q2490.16 2263.58 2488.06 2266.17 Q2487.48 2266.84 2484.38 2270.06 Q2481.28 2273.25 2475.63 2279.02 Z\" fill=\"#000000\" fill-rule=\"evenodd\" fill-opacity=\"1\" /><path clip-path=\"url(#clip5300)\" d=\"M 0 0 M2507.02 2251.47 Q2503.41 2251.47 2501.58 2255.04 Q2499.77 2258.58 2499.77 2265.71 Q2499.77 2272.81 2501.58 2276.38 Q2503.41 2279.92 2507.02 2279.92 Q2510.65 2279.92 2512.46 2276.38 Q2514.29 2272.81 2514.29 2265.71 Q2514.29 2258.58 2512.46 2255.04 Q2510.65 2251.47 2507.02 2251.47 M2507.02 2247.77 Q2512.83 2247.77 2515.88 2252.37 Q2518.96 2256.96 2518.96 2265.71 Q2518.96 2274.43 2515.88 2279.04 Q2512.83 2283.62 2507.02 2283.62 Q2501.21 2283.62 2498.13 2279.04 Q2495.07 2274.43 2495.07 2265.71 Q2495.07 2256.96 2498.13 2252.37 Q2501.21 2247.77 2507.02 2247.77 Z\" fill=\"#000000\" fill-rule=\"evenodd\" fill-opacity=\"1\" /><path clip-path=\"url(#clip5300)\" d=\"M 0 0 M2531 2248.39 L2534.93 2248.39 L2522.9 2287.35 L2518.96 2287.35 L2531 2248.39 Z\" fill=\"#000000\" fill-rule=\"evenodd\" fill-opacity=\"1\" /><path clip-path=\"url(#clip5300)\" d=\"M 0 0 M2540.05 2248.39 L2558.41 2248.39 L2558.41 2252.33 L2544.33 2252.33 L2544.33 2260.8 Q2545.35 2260.45 2546.37 2260.29 Q2547.39 2260.11 2548.41 2260.11 Q2554.19 2260.11 2557.57 2263.28 Q2560.95 2266.45 2560.95 2271.86 Q2560.95 2277.44 2557.48 2280.54 Q2554.01 2283.62 2547.69 2283.62 Q2545.51 2283.62 2543.24 2283.25 Q2541 2282.88 2538.59 2282.14 L2538.59 2277.44 Q2540.67 2278.58 2542.9 2279.13 Q2545.12 2279.69 2547.6 2279.69 Q2551.6 2279.69 2553.94 2277.58 Q2556.28 2275.48 2556.28 2271.86 Q2556.28 2268.25 2553.94 2266.15 Q2551.6 2264.04 2547.6 2264.04 Q2545.72 2264.04 2543.85 2264.46 Q2541.99 2264.87 2540.05 2265.75 L2540.05 2248.39 Z\" fill=\"#000000\" fill-rule=\"evenodd\" fill-opacity=\"1\" /><path clip-path=\"url(#clip5300)\" d=\"M 0 0 M2566.83 2279.02 L2574.47 2279.02 L2574.47 2252.65 L2566.16 2254.32 L2566.16 2250.06 L2574.42 2248.39 L2579.1 2248.39 L2579.1 2279.02 L2586.74 2279.02 L2586.74 2282.95 L2566.83 2282.95 L2566.83 2279.02 Z\" fill=\"#000000\" fill-rule=\"evenodd\" fill-opacity=\"1\" /><path clip-path=\"url(#clip5300)\" d=\"M 0 0 M2592.62 2279.02 L2600.26 2279.02 L2600.26 2252.65 L2591.95 2254.32 L2591.95 2250.06 L2600.21 2248.39 L2604.89 2248.39 L2604.89 2279.02 L2612.53 2279.02 L2612.53 2282.95 L2592.62 2282.95 L2592.62 2279.02 Z\" fill=\"#000000\" fill-rule=\"evenodd\" fill-opacity=\"1\" /><path clip-path=\"url(#clip5300)\" d=\"M 0 0 M2719.91 2279.02 L2736.23 2279.02 L2736.23 2282.95 L2714.28 2282.95 L2714.28 2279.02 Q2716.94 2276.26 2721.53 2271.63 Q2726.13 2266.98 2727.31 2265.64 Q2729.56 2263.11 2730.44 2261.38 Q2731.34 2259.62 2731.34 2257.93 Q2731.34 2255.17 2729.4 2253.44 Q2727.48 2251.7 2724.37 2251.7 Q2722.18 2251.7 2719.72 2252.47 Q2717.29 2253.23 2714.51 2254.78 L2714.51 2250.06 Q2717.34 2248.92 2719.79 2248.35 Q2722.25 2247.77 2724.28 2247.77 Q2729.65 2247.77 2732.85 2250.45 Q2736.04 2253.14 2736.04 2257.63 Q2736.04 2259.76 2735.23 2261.68 Q2734.44 2263.58 2732.34 2266.17 Q2731.76 2266.84 2728.66 2270.06 Q2725.56 2273.25 2719.91 2279.02 Z\" fill=\"#000000\" fill-rule=\"evenodd\" fill-opacity=\"1\" /><path clip-path=\"url(#clip5300)\" d=\"M 0 0 M2751.3 2251.47 Q2747.68 2251.47 2745.86 2255.04 Q2744.05 2258.58 2744.05 2265.71 Q2744.05 2272.81 2745.86 2276.38 Q2747.68 2279.92 2751.3 2279.92 Q2754.93 2279.92 2756.74 2276.38 Q2758.56 2272.81 2758.56 2265.71 Q2758.56 2258.58 2756.74 2255.04 Q2754.93 2251.47 2751.3 2251.47 M2751.3 2247.77 Q2757.11 2247.77 2760.16 2252.37 Q2763.24 2256.96 2763.24 2265.71 Q2763.24 2274.43 2760.16 2279.04 Q2757.11 2283.62 2751.3 2283.62 Q2745.49 2283.62 2742.41 2279.04 Q2739.35 2274.43 2739.35 2265.71 Q2739.35 2256.96 2742.41 2252.37 Q2745.49 2247.77 2751.3 2247.77 Z\" fill=\"#000000\" fill-rule=\"evenodd\" fill-opacity=\"1\" /><path clip-path=\"url(#clip5300)\" d=\"M 0 0 M2775.28 2248.39 L2779.21 2248.39 L2767.18 2287.35 L2763.24 2287.35 L2775.28 2248.39 Z\" fill=\"#000000\" fill-rule=\"evenodd\" fill-opacity=\"1\" /><path clip-path=\"url(#clip5300)\" d=\"M 0 0 M2794.86 2263.81 Q2791.71 2263.81 2789.86 2265.96 Q2788.03 2268.11 2788.03 2271.86 Q2788.03 2275.59 2789.86 2277.77 Q2791.71 2279.92 2794.86 2279.92 Q2798.01 2279.92 2799.84 2277.77 Q2801.69 2275.59 2801.69 2271.86 Q2801.69 2268.11 2799.84 2265.96 Q2798.01 2263.81 2794.86 2263.81 M2804.14 2249.16 L2804.14 2253.42 Q2802.38 2252.58 2800.58 2252.14 Q2798.8 2251.7 2797.04 2251.7 Q2792.41 2251.7 2789.95 2254.83 Q2787.52 2257.95 2787.18 2264.27 Q2788.54 2262.26 2790.6 2261.19 Q2792.66 2260.11 2795.14 2260.11 Q2800.35 2260.11 2803.36 2263.28 Q2806.39 2266.42 2806.39 2271.86 Q2806.39 2277.19 2803.24 2280.41 Q2800.09 2283.62 2794.86 2283.62 Q2788.87 2283.62 2785.69 2279.04 Q2782.52 2274.43 2782.52 2265.71 Q2782.52 2257.51 2786.41 2252.65 Q2790.3 2247.77 2796.85 2247.77 Q2798.61 2247.77 2800.39 2248.11 Q2802.2 2248.46 2804.14 2249.16 Z\" fill=\"#000000\" fill-rule=\"evenodd\" fill-opacity=\"1\" /><path clip-path=\"url(#clip5300)\" d=\"M 0 0 M2821.46 2251.47 Q2817.85 2251.47 2816.02 2255.04 Q2814.21 2258.58 2814.21 2265.71 Q2814.21 2272.81 2816.02 2276.38 Q2817.85 2279.92 2821.46 2279.92 Q2825.09 2279.92 2826.9 2276.38 Q2828.73 2272.81 2828.73 2265.71 Q2828.73 2258.58 2826.9 2255.04 Q2825.09 2251.47 2821.46 2251.47 M2821.46 2247.77 Q2827.27 2247.77 2830.32 2252.37 Q2833.4 2256.96 2833.4 2265.71 Q2833.4 2274.43 2830.32 2279.04 Q2827.27 2283.62 2821.46 2283.62 Q2815.65 2283.62 2812.57 2279.04 Q2809.51 2274.43 2809.51 2265.71 Q2809.51 2256.96 2812.57 2252.37 Q2815.65 2247.77 2821.46 2247.77 Z\" fill=\"#000000\" fill-rule=\"evenodd\" fill-opacity=\"1\" /><path clip-path=\"url(#clip5300)\" d=\"M 0 0 M2838.52 2248.39 L2856.87 2248.39 L2856.87 2252.33 L2842.8 2252.33 L2842.8 2260.8 Q2843.82 2260.45 2844.84 2260.29 Q2845.86 2260.11 2846.87 2260.11 Q2852.66 2260.11 2856.04 2263.28 Q2859.42 2266.45 2859.42 2271.86 Q2859.42 2277.44 2855.95 2280.54 Q2852.48 2283.62 2846.16 2283.62 Q2843.98 2283.62 2841.71 2283.25 Q2839.47 2282.88 2837.06 2282.14 L2837.06 2277.44 Q2839.14 2278.58 2841.36 2279.13 Q2843.59 2279.69 2846.06 2279.69 Q2850.07 2279.69 2852.41 2277.58 Q2854.74 2275.48 2854.74 2271.86 Q2854.74 2268.25 2852.41 2266.15 Q2850.07 2264.04 2846.06 2264.04 Q2844.19 2264.04 2842.31 2264.46 Q2840.46 2264.87 2838.52 2265.75 L2838.52 2248.39 Z\" fill=\"#000000\" fill-rule=\"evenodd\" fill-opacity=\"1\" /><path clip-path=\"url(#clip5300)\" d=\"M 0 0 M2966.14 2279.02 L2982.46 2279.02 L2982.46 2282.95 L2960.52 2282.95 L2960.52 2279.02 Q2963.18 2276.26 2967.76 2271.63 Q2972.37 2266.98 2973.55 2265.64 Q2975.8 2263.11 2976.67 2261.38 Q2977.58 2259.62 2977.58 2257.93 Q2977.58 2255.17 2975.63 2253.44 Q2973.71 2251.7 2970.61 2251.7 Q2968.41 2251.7 2965.96 2252.47 Q2963.53 2253.23 2960.75 2254.78 L2960.75 2250.06 Q2963.57 2248.92 2966.03 2248.35 Q2968.48 2247.77 2970.52 2247.77 Q2975.89 2247.77 2979.08 2250.45 Q2982.28 2253.14 2982.28 2257.63 Q2982.28 2259.76 2981.47 2261.68 Q2980.68 2263.58 2978.57 2266.17 Q2977.99 2266.84 2974.89 2270.06 Q2971.79 2273.25 2966.14 2279.02 Z\" fill=\"#000000\" fill-rule=\"evenodd\" fill-opacity=\"1\" /><path clip-path=\"url(#clip5300)\" d=\"M 0 0 M2997.53 2251.47 Q2993.92 2251.47 2992.09 2255.04 Q2990.29 2258.58 2990.29 2265.71 Q2990.29 2272.81 2992.09 2276.38 Q2993.92 2279.92 2997.53 2279.92 Q3001.17 2279.92 3002.97 2276.38 Q3004.8 2272.81 3004.8 2265.71 Q3004.8 2258.58 3002.97 2255.04 Q3001.17 2251.47 2997.53 2251.47 M2997.53 2247.77 Q3003.34 2247.77 3006.4 2252.37 Q3009.48 2256.96 3009.48 2265.71 Q3009.48 2274.43 3006.4 2279.04 Q3003.34 2283.62 2997.53 2283.62 Q2991.72 2283.62 2988.64 2279.04 Q2985.59 2274.43 2985.59 2265.71 Q2985.59 2256.96 2988.64 2252.37 Q2991.72 2247.77 2997.53 2247.77 Z\" fill=\"#000000\" fill-rule=\"evenodd\" fill-opacity=\"1\" /><path clip-path=\"url(#clip5300)\" d=\"M 0 0 M3021.51 2248.39 L3025.45 2248.39 L3013.41 2287.35 L3009.48 2287.35 L3021.51 2248.39 Z\" fill=\"#000000\" fill-rule=\"evenodd\" fill-opacity=\"1\" /><path clip-path=\"url(#clip5300)\" d=\"M 0 0 M3029.34 2248.39 L3051.56 2248.39 L3051.56 2250.38 L3039.01 2282.95 L3034.13 2282.95 L3045.93 2252.33 L3029.34 2252.33 L3029.34 2248.39 Z\" fill=\"#000000\" fill-rule=\"evenodd\" fill-opacity=\"1\" /><path clip-path=\"url(#clip5300)\" d=\"M 0 0 M3066.63 2251.47 Q3063.02 2251.47 3061.19 2255.04 Q3059.38 2258.58 3059.38 2265.71 Q3059.38 2272.81 3061.19 2276.38 Q3063.02 2279.92 3066.63 2279.92 Q3070.26 2279.92 3072.07 2276.38 Q3073.9 2272.81 3073.9 2265.71 Q3073.9 2258.58 3072.07 2255.04 Q3070.26 2251.47 3066.63 2251.47 M3066.63 2247.77 Q3072.44 2247.77 3075.49 2252.37 Q3078.57 2256.96 3078.57 2265.71 Q3078.57 2274.43 3075.49 2279.04 Q3072.44 2283.62 3066.63 2283.62 Q3060.82 2283.62 3057.74 2279.04 Q3054.68 2274.43 3054.68 2265.71 Q3054.68 2256.96 3057.74 2252.37 Q3060.82 2247.77 3066.63 2247.77 Z\" fill=\"#000000\" fill-rule=\"evenodd\" fill-opacity=\"1\" /><path clip-path=\"url(#clip5300)\" d=\"M 0 0 M3084.45 2279.02 L3092.09 2279.02 L3092.09 2252.65 L3083.78 2254.32 L3083.78 2250.06 L3092.04 2248.39 L3096.72 2248.39 L3096.72 2279.02 L3104.36 2279.02 L3104.36 2282.95 L3084.45 2282.95 L3084.45 2279.02 Z\" fill=\"#000000\" fill-rule=\"evenodd\" fill-opacity=\"1\" /><path clip-path=\"url(#clip5300)\" d=\"M 0 0 M3211.96 2279.02 L3228.28 2279.02 L3228.28 2282.95 L3206.34 2282.95 L3206.34 2279.02 Q3209 2276.26 3213.58 2271.63 Q3218.19 2266.98 3219.37 2265.64 Q3221.61 2263.11 3222.49 2261.38 Q3223.4 2259.62 3223.4 2257.93 Q3223.4 2255.17 3221.45 2253.44 Q3219.53 2251.7 3216.43 2251.7 Q3214.23 2251.7 3211.78 2252.47 Q3209.35 2253.23 3206.57 2254.78 L3206.57 2250.06 Q3209.39 2248.92 3211.85 2248.35 Q3214.3 2247.77 3216.34 2247.77 Q3221.71 2247.77 3224.9 2250.45 Q3228.1 2253.14 3228.1 2257.63 Q3228.1 2259.76 3227.29 2261.68 Q3226.5 2263.58 3224.39 2266.17 Q3223.81 2266.84 3220.71 2270.06 Q3217.61 2273.25 3211.96 2279.02 Z\" fill=\"#000000\" fill-rule=\"evenodd\" fill-opacity=\"1\" /><path clip-path=\"url(#clip5300)\" d=\"M 0 0 M3243.35 2251.47 Q3239.74 2251.47 3237.91 2255.04 Q3236.1 2258.58 3236.1 2265.71 Q3236.1 2272.81 3237.91 2276.38 Q3239.74 2279.92 3243.35 2279.92 Q3246.98 2279.92 3248.79 2276.38 Q3250.62 2272.81 3250.62 2265.71 Q3250.62 2258.58 3248.79 2255.04 Q3246.98 2251.47 3243.35 2251.47 M3243.35 2247.77 Q3249.16 2247.77 3252.22 2252.37 Q3255.29 2256.96 3255.29 2265.71 Q3255.29 2274.43 3252.22 2279.04 Q3249.16 2283.62 3243.35 2283.62 Q3237.54 2283.62 3234.46 2279.04 Q3231.41 2274.43 3231.41 2265.71 Q3231.41 2256.96 3234.46 2252.37 Q3237.54 2247.77 3243.35 2247.77 Z\" fill=\"#000000\" fill-rule=\"evenodd\" fill-opacity=\"1\" /><path clip-path=\"url(#clip5300)\" d=\"M 0 0 M3267.33 2248.39 L3271.27 2248.39 L3259.23 2287.35 L3255.29 2287.35 L3267.33 2248.39 Z\" fill=\"#000000\" fill-rule=\"evenodd\" fill-opacity=\"1\" /><path clip-path=\"url(#clip5300)\" d=\"M 0 0 M3275.16 2248.39 L3297.38 2248.39 L3297.38 2250.38 L3284.83 2282.95 L3279.95 2282.95 L3291.75 2252.33 L3275.16 2252.33 L3275.16 2248.39 Z\" fill=\"#000000\" fill-rule=\"evenodd\" fill-opacity=\"1\" /><path clip-path=\"url(#clip5300)\" d=\"M 0 0 M3306.47 2279.02 L3322.79 2279.02 L3322.79 2282.95 L3300.85 2282.95 L3300.85 2279.02 Q3303.51 2276.26 3308.09 2271.63 Q3312.7 2266.98 3313.88 2265.64 Q3316.13 2263.11 3317.01 2261.38 Q3317.91 2259.62 3317.91 2257.93 Q3317.91 2255.17 3315.97 2253.44 Q3314.04 2251.7 3310.94 2251.7 Q3308.74 2251.7 3306.29 2252.47 Q3303.86 2253.23 3301.08 2254.78 L3301.08 2250.06 Q3303.91 2248.92 3306.36 2248.35 Q3308.81 2247.77 3310.85 2247.77 Q3316.22 2247.77 3319.41 2250.45 Q3322.61 2253.14 3322.61 2257.63 Q3322.61 2259.76 3321.8 2261.68 Q3321.01 2263.58 3318.91 2266.17 Q3318.33 2266.84 3315.22 2270.06 Q3312.12 2273.25 3306.47 2279.02 Z\" fill=\"#000000\" fill-rule=\"evenodd\" fill-opacity=\"1\" /><path clip-path=\"url(#clip5300)\" d=\"M 0 0 M3337.86 2266.54 Q3334.53 2266.54 3332.61 2268.32 Q3330.71 2270.11 3330.71 2273.23 Q3330.71 2276.36 3332.61 2278.14 Q3334.53 2279.92 3337.86 2279.92 Q3341.2 2279.92 3343.12 2278.14 Q3345.04 2276.33 3345.04 2273.23 Q3345.04 2270.11 3343.12 2268.32 Q3341.22 2266.54 3337.86 2266.54 M3333.19 2264.55 Q3330.18 2263.81 3328.49 2261.75 Q3326.82 2259.69 3326.82 2256.73 Q3326.82 2252.58 3329.76 2250.17 Q3332.72 2247.77 3337.86 2247.77 Q3343.03 2247.77 3345.97 2250.17 Q3348.9 2252.58 3348.9 2256.73 Q3348.9 2259.69 3347.22 2261.75 Q3345.55 2263.81 3342.56 2264.55 Q3345.94 2265.34 3347.82 2267.63 Q3349.72 2269.92 3349.72 2273.23 Q3349.72 2278.25 3346.64 2280.94 Q3343.58 2283.62 3337.86 2283.62 Q3332.15 2283.62 3329.07 2280.94 Q3326.01 2278.25 3326.01 2273.23 Q3326.01 2269.92 3327.91 2267.63 Q3329.81 2265.34 3333.19 2264.55 M3331.47 2257.17 Q3331.47 2259.85 3333.14 2261.36 Q3334.83 2262.86 3337.86 2262.86 Q3340.87 2262.86 3342.56 2261.36 Q3344.28 2259.85 3344.28 2257.17 Q3344.28 2254.48 3342.56 2252.98 Q3340.87 2251.47 3337.86 2251.47 Q3334.83 2251.47 3333.14 2252.98 Q3331.47 2254.48 3331.47 2257.17 Z\" fill=\"#000000\" fill-rule=\"evenodd\" fill-opacity=\"1\" /><path clip-path=\"url(#clip5300)\" d=\"M 0 0 M3457.71 2279.02 L3474.03 2279.02 L3474.03 2282.95 L3452.09 2282.95 L3452.09 2279.02 Q3454.75 2276.26 3459.33 2271.63 Q3463.94 2266.98 3465.12 2265.64 Q3467.36 2263.11 3468.24 2261.38 Q3469.15 2259.62 3469.15 2257.93 Q3469.15 2255.17 3467.2 2253.44 Q3465.28 2251.7 3462.18 2251.7 Q3459.98 2251.7 3457.53 2252.47 Q3455.09 2253.23 3452.32 2254.78 L3452.32 2250.06 Q3455.14 2248.92 3457.59 2248.35 Q3460.05 2247.77 3462.09 2247.77 Q3467.46 2247.77 3470.65 2250.45 Q3473.84 2253.14 3473.84 2257.63 Q3473.84 2259.76 3473.03 2261.68 Q3472.25 2263.58 3470.14 2266.17 Q3469.56 2266.84 3466.46 2270.06 Q3463.36 2273.25 3457.71 2279.02 Z\" fill=\"#000000\" fill-rule=\"evenodd\" fill-opacity=\"1\" /><path clip-path=\"url(#clip5300)\" d=\"M 0 0 M3489.1 2251.47 Q3485.49 2251.47 3483.66 2255.04 Q3481.85 2258.58 3481.85 2265.71 Q3481.85 2272.81 3483.66 2276.38 Q3485.49 2279.92 3489.1 2279.92 Q3492.73 2279.92 3494.54 2276.38 Q3496.37 2272.81 3496.37 2265.71 Q3496.37 2258.58 3494.54 2255.04 Q3492.73 2251.47 3489.1 2251.47 M3489.1 2247.77 Q3494.91 2247.77 3497.96 2252.37 Q3501.04 2256.96 3501.04 2265.71 Q3501.04 2274.43 3497.96 2279.04 Q3494.91 2283.62 3489.1 2283.62 Q3483.29 2283.62 3480.21 2279.04 Q3477.15 2274.43 3477.15 2265.71 Q3477.15 2256.96 3480.21 2252.37 Q3483.29 2247.77 3489.1 2247.77 Z\" fill=\"#000000\" fill-rule=\"evenodd\" fill-opacity=\"1\" /><path clip-path=\"url(#clip5300)\" d=\"M 0 0 M3513.08 2248.39 L3517.02 2248.39 L3504.98 2287.35 L3501.04 2287.35 L3513.08 2248.39 Z\" fill=\"#000000\" fill-rule=\"evenodd\" fill-opacity=\"1\" /><path clip-path=\"url(#clip5300)\" d=\"M 0 0 M3532.08 2266.54 Q3528.75 2266.54 3526.83 2268.32 Q3524.93 2270.11 3524.93 2273.23 Q3524.93 2276.36 3526.83 2278.14 Q3528.75 2279.92 3532.08 2279.92 Q3535.42 2279.92 3537.34 2278.14 Q3539.26 2276.33 3539.26 2273.23 Q3539.26 2270.11 3537.34 2268.32 Q3535.44 2266.54 3532.08 2266.54 M3527.41 2264.55 Q3524.4 2263.81 3522.71 2261.75 Q3521.04 2259.69 3521.04 2256.73 Q3521.04 2252.58 3523.98 2250.17 Q3526.95 2247.77 3532.08 2247.77 Q3537.25 2247.77 3540.19 2250.17 Q3543.13 2252.58 3543.13 2256.73 Q3543.13 2259.69 3541.44 2261.75 Q3539.77 2263.81 3536.78 2264.55 Q3540.16 2265.34 3542.04 2267.63 Q3543.94 2269.92 3543.94 2273.23 Q3543.94 2278.25 3540.86 2280.94 Q3537.8 2283.62 3532.08 2283.62 Q3526.37 2283.62 3523.29 2280.94 Q3520.23 2278.25 3520.23 2273.23 Q3520.23 2269.92 3522.13 2267.63 Q3524.03 2265.34 3527.41 2264.55 M3525.7 2257.17 Q3525.7 2259.85 3527.36 2261.36 Q3529.05 2262.86 3532.08 2262.86 Q3535.09 2262.86 3536.78 2261.36 Q3538.5 2259.85 3538.5 2257.17 Q3538.5 2254.48 3536.78 2252.98 Q3535.09 2251.47 3532.08 2251.47 Q3529.05 2251.47 3527.36 2252.98 Q3525.7 2254.48 3525.7 2257.17 Z\" fill=\"#000000\" fill-rule=\"evenodd\" fill-opacity=\"1\" /><path clip-path=\"url(#clip5300)\" d=\"M 0 0 M3553.03 2279.02 L3569.35 2279.02 L3569.35 2282.95 L3547.41 2282.95 L3547.41 2279.02 Q3550.07 2276.26 3554.65 2271.63 Q3559.26 2266.98 3560.44 2265.64 Q3562.69 2263.11 3563.57 2261.38 Q3564.47 2259.62 3564.47 2257.93 Q3564.47 2255.17 3562.52 2253.44 Q3560.6 2251.7 3557.5 2251.7 Q3555.3 2251.7 3552.85 2252.47 Q3550.42 2253.23 3547.64 2254.78 L3547.64 2250.06 Q3550.46 2248.92 3552.92 2248.35 Q3555.37 2247.77 3557.41 2247.77 Q3562.78 2247.77 3565.97 2250.45 Q3569.17 2253.14 3569.17 2257.63 Q3569.17 2259.76 3568.36 2261.68 Q3567.57 2263.58 3565.46 2266.17 Q3564.89 2266.84 3561.78 2270.06 Q3558.68 2273.25 3553.03 2279.02 Z\" fill=\"#000000\" fill-rule=\"evenodd\" fill-opacity=\"1\" /><path clip-path=\"url(#clip5300)\" d=\"M 0 0 M3575.23 2279.02 L3582.87 2279.02 L3582.87 2252.65 L3574.56 2254.32 L3574.56 2250.06 L3582.83 2248.39 L3587.5 2248.39 L3587.5 2279.02 L3595.14 2279.02 L3595.14 2282.95 L3575.23 2282.95 L3575.23 2279.02 Z\" fill=\"#000000\" fill-rule=\"evenodd\" fill-opacity=\"1\" /><path clip-path=\"url(#clip5300)\" d=\"M 0 0 M3703 2279.02 L3719.32 2279.02 L3719.32 2282.95 L3697.37 2282.95 L3697.37 2279.02 Q3700.03 2276.26 3704.62 2271.63 Q3709.22 2266.98 3710.4 2265.64 Q3712.65 2263.11 3713.53 2261.38 Q3714.43 2259.62 3714.43 2257.93 Q3714.43 2255.17 3712.49 2253.44 Q3710.57 2251.7 3707.46 2251.7 Q3705.27 2251.7 3702.81 2252.47 Q3700.38 2253.23 3697.6 2254.78 L3697.6 2250.06 Q3700.43 2248.92 3702.88 2248.35 Q3705.33 2247.77 3707.37 2247.77 Q3712.74 2247.77 3715.94 2250.45 Q3719.13 2253.14 3719.13 2257.63 Q3719.13 2259.76 3718.32 2261.68 Q3717.53 2263.58 3715.43 2266.17 Q3714.85 2266.84 3711.75 2270.06 Q3708.64 2273.25 3703 2279.02 Z\" fill=\"#000000\" fill-rule=\"evenodd\" fill-opacity=\"1\" /><path clip-path=\"url(#clip5300)\" d=\"M 0 0 M3734.39 2251.47 Q3730.77 2251.47 3728.95 2255.04 Q3727.14 2258.58 3727.14 2265.71 Q3727.14 2272.81 3728.95 2276.38 Q3730.77 2279.92 3734.39 2279.92 Q3738.02 2279.92 3739.83 2276.38 Q3741.65 2272.81 3741.65 2265.71 Q3741.65 2258.58 3739.83 2255.04 Q3738.02 2251.47 3734.39 2251.47 M3734.39 2247.77 Q3740.2 2247.77 3743.25 2252.37 Q3746.33 2256.96 3746.33 2265.71 Q3746.33 2274.43 3743.25 2279.04 Q3740.2 2283.62 3734.39 2283.62 Q3728.58 2283.62 3725.5 2279.04 Q3722.44 2274.43 3722.44 2265.71 Q3722.44 2256.96 3725.5 2252.37 Q3728.58 2247.77 3734.39 2247.77 Z\" fill=\"#000000\" fill-rule=\"evenodd\" fill-opacity=\"1\" /><path clip-path=\"url(#clip5300)\" d=\"M 0 0 M3758.37 2248.39 L3762.3 2248.39 L3750.26 2287.35 L3746.33 2287.35 L3758.37 2248.39 Z\" fill=\"#000000\" fill-rule=\"evenodd\" fill-opacity=\"1\" /><path clip-path=\"url(#clip5300)\" d=\"M 0 0 M3767.51 2282.23 L3767.51 2277.98 Q3769.27 2278.81 3771.07 2279.25 Q3772.88 2279.69 3774.62 2279.69 Q3779.25 2279.69 3781.68 2276.59 Q3784.13 2273.46 3784.48 2267.12 Q3783.14 2269.11 3781.07 2270.17 Q3779.01 2271.24 3776.51 2271.24 Q3771.33 2271.24 3768.3 2268.11 Q3765.29 2264.97 3765.29 2259.53 Q3765.29 2254.2 3768.44 2250.98 Q3771.58 2247.77 3776.82 2247.77 Q3782.81 2247.77 3785.96 2252.37 Q3789.13 2256.96 3789.13 2265.71 Q3789.13 2273.88 3785.24 2278.76 Q3781.38 2283.62 3774.82 2283.62 Q3773.07 2283.62 3771.26 2283.28 Q3769.45 2282.93 3767.51 2282.23 M3776.82 2267.58 Q3779.96 2267.58 3781.79 2265.43 Q3783.64 2263.28 3783.64 2259.53 Q3783.64 2255.8 3781.79 2253.65 Q3779.96 2251.47 3776.82 2251.47 Q3773.67 2251.47 3771.82 2253.65 Q3769.99 2255.8 3769.99 2259.53 Q3769.99 2263.28 3771.82 2265.43 Q3773.67 2267.58 3776.82 2267.58 Z\" fill=\"#000000\" fill-rule=\"evenodd\" fill-opacity=\"1\" /><path clip-path=\"url(#clip5300)\" d=\"M 0 0 M3795.01 2279.02 L3802.65 2279.02 L3802.65 2252.65 L3794.34 2254.32 L3794.34 2250.06 L3802.6 2248.39 L3807.28 2248.39 L3807.28 2279.02 L3814.92 2279.02 L3814.92 2282.95 L3795.01 2282.95 L3795.01 2279.02 Z\" fill=\"#000000\" fill-rule=\"evenodd\" fill-opacity=\"1\" /><path clip-path=\"url(#clip5300)\" d=\"M 0 0 M3818.81 2248.39 L3841.03 2248.39 L3841.03 2250.38 L3828.48 2282.95 L3823.6 2282.95 L3835.4 2252.33 L3818.81 2252.33 L3818.81 2248.39 Z\" fill=\"#000000\" fill-rule=\"evenodd\" fill-opacity=\"1\" /><path clip-path=\"url(#clip5300)\" d=\"M 0 0 M137.983 1938.51 L126.177 1956.96 L137.983 1956.96 L137.983 1938.51 M136.756 1934.43 L142.635 1934.43 L142.635 1956.96 L147.566 1956.96 L147.566 1960.85 L142.635 1960.85 L142.635 1968.99 L137.983 1968.99 L137.983 1960.85 L122.381 1960.85 L122.381 1956.33 L136.756 1934.43 Z\" fill=\"#000000\" fill-rule=\"evenodd\" fill-opacity=\"1\" /><path clip-path=\"url(#clip5300)\" d=\"M 0 0 M162.635 1937.51 Q159.024 1937.51 157.196 1941.08 Q155.39 1944.62 155.39 1951.75 Q155.39 1958.86 157.196 1962.42 Q159.024 1965.96 162.635 1965.96 Q166.27 1965.96 168.075 1962.42 Q169.904 1958.86 169.904 1951.75 Q169.904 1944.62 168.075 1941.08 Q166.27 1937.51 162.635 1937.51 M162.635 1933.81 Q168.446 1933.81 171.501 1938.42 Q174.58 1943 174.58 1951.75 Q174.58 1960.48 171.501 1965.08 Q168.446 1969.67 162.635 1969.67 Q156.825 1969.67 153.747 1965.08 Q150.691 1960.48 150.691 1951.75 Q150.691 1943 153.747 1938.42 Q156.825 1933.81 162.635 1933.81 Z\" fill=\"#000000\" fill-rule=\"evenodd\" fill-opacity=\"1\" /><path clip-path=\"url(#clip5300)\" d=\"M 0 0 M138.978 1577.58 L127.173 1596.02 L138.978 1596.02 L138.978 1577.58 M137.751 1573.5 L143.631 1573.5 L143.631 1596.02 L148.561 1596.02 L148.561 1599.91 L143.631 1599.91 L143.631 1608.06 L138.978 1608.06 L138.978 1599.91 L123.376 1599.91 L123.376 1595.4 L137.751 1573.5 Z\" fill=\"#000000\" fill-rule=\"evenodd\" fill-opacity=\"1\" /><path clip-path=\"url(#clip5300)\" d=\"M 0 0 M153.677 1573.5 L172.033 1573.5 L172.033 1577.44 L157.959 1577.44 L157.959 1585.91 Q158.978 1585.56 159.997 1585.4 Q161.015 1585.21 162.034 1585.21 Q167.821 1585.21 171.2 1588.39 Q174.58 1591.56 174.58 1596.97 Q174.58 1602.55 171.108 1605.65 Q167.635 1608.73 161.316 1608.73 Q159.14 1608.73 156.872 1608.36 Q154.626 1607.99 152.219 1607.25 L152.219 1602.55 Q154.302 1603.69 156.524 1604.24 Q158.747 1604.8 161.223 1604.8 Q165.228 1604.8 167.566 1602.69 Q169.904 1600.58 169.904 1596.97 Q169.904 1593.36 167.566 1591.26 Q165.228 1589.15 161.223 1589.15 Q159.348 1589.15 157.473 1589.57 Q155.622 1589.98 153.677 1590.86 L153.677 1573.5 Z\" fill=\"#000000\" fill-rule=\"evenodd\" fill-opacity=\"1\" /><path clip-path=\"url(#clip5300)\" d=\"M 0 0 M126.663 1212.57 L145.02 1212.57 L145.02 1216.5 L130.946 1216.5 L130.946 1224.98 Q131.964 1224.63 132.983 1224.47 Q134.001 1224.28 135.02 1224.28 Q140.807 1224.28 144.186 1227.45 Q147.566 1230.62 147.566 1236.04 Q147.566 1241.62 144.094 1244.72 Q140.622 1247.8 134.302 1247.8 Q132.126 1247.8 129.858 1247.43 Q127.612 1247.06 125.205 1246.32 L125.205 1241.62 Q127.288 1242.75 129.511 1243.31 Q131.733 1243.86 134.21 1243.86 Q138.214 1243.86 140.552 1241.76 Q142.89 1239.65 142.89 1236.04 Q142.89 1232.43 140.552 1230.32 Q138.214 1228.22 134.21 1228.22 Q132.335 1228.22 130.46 1228.63 Q128.608 1229.05 126.663 1229.93 L126.663 1212.57 Z\" fill=\"#000000\" fill-rule=\"evenodd\" fill-opacity=\"1\" /><path clip-path=\"url(#clip5300)\" d=\"M 0 0 M162.635 1215.65 Q159.024 1215.65 157.196 1219.21 Q155.39 1222.75 155.39 1229.88 Q155.39 1236.99 157.196 1240.55 Q159.024 1244.1 162.635 1244.1 Q166.27 1244.1 168.075 1240.55 Q169.904 1236.99 169.904 1229.88 Q169.904 1222.75 168.075 1219.21 Q166.27 1215.65 162.635 1215.65 M162.635 1211.94 Q168.446 1211.94 171.501 1216.55 Q174.58 1221.13 174.58 1229.88 Q174.58 1238.61 171.501 1243.22 Q168.446 1247.8 162.635 1247.8 Q156.825 1247.8 153.747 1243.22 Q150.691 1238.61 150.691 1229.88 Q150.691 1221.13 153.747 1216.55 Q156.825 1211.94 162.635 1211.94 Z\" fill=\"#000000\" fill-rule=\"evenodd\" fill-opacity=\"1\" /><path clip-path=\"url(#clip5300)\" d=\"M 0 0 M127.659 851.635 L146.015 851.635 L146.015 855.571 L131.941 855.571 L131.941 864.043 Q132.96 863.696 133.978 863.534 Q134.997 863.348 136.015 863.348 Q141.802 863.348 145.182 866.52 Q148.561 869.691 148.561 875.108 Q148.561 880.686 145.089 883.788 Q141.617 886.867 135.298 886.867 Q133.122 886.867 130.853 886.496 Q128.608 886.126 126.2 885.385 L126.2 880.686 Q128.284 881.82 130.506 882.376 Q132.728 882.932 135.205 882.932 Q139.21 882.932 141.548 880.825 Q143.885 878.719 143.885 875.108 Q143.885 871.496 141.548 869.39 Q139.21 867.283 135.205 867.283 Q133.33 867.283 131.455 867.7 Q129.603 868.117 127.659 868.996 L127.659 851.635 Z\" fill=\"#000000\" fill-rule=\"evenodd\" fill-opacity=\"1\" /><path clip-path=\"url(#clip5300)\" d=\"M 0 0 M153.677 851.635 L172.033 851.635 L172.033 855.571 L157.959 855.571 L157.959 864.043 Q158.978 863.696 159.997 863.534 Q161.015 863.348 162.034 863.348 Q167.821 863.348 171.2 866.52 Q174.58 869.691 174.58 875.108 Q174.58 880.686 171.108 883.788 Q167.635 886.867 161.316 886.867 Q159.14 886.867 156.872 886.496 Q154.626 886.126 152.219 885.385 L152.219 880.686 Q154.302 881.82 156.524 882.376 Q158.747 882.932 161.223 882.932 Q165.228 882.932 167.566 880.825 Q169.904 878.719 169.904 875.108 Q169.904 871.496 167.566 869.39 Q165.228 867.283 161.223 867.283 Q159.348 867.283 157.473 867.7 Q155.622 868.117 153.677 868.996 L153.677 851.635 Z\" fill=\"#000000\" fill-rule=\"evenodd\" fill-opacity=\"1\" /><path clip-path=\"url(#clip5300)\" d=\"M 0 0 M136.038 506.119 Q132.89 506.119 131.038 508.272 Q129.21 510.424 129.21 514.174 Q129.21 517.901 131.038 520.077 Q132.89 522.23 136.038 522.23 Q139.186 522.23 141.015 520.077 Q142.867 517.901 142.867 514.174 Q142.867 510.424 141.015 508.272 Q139.186 506.119 136.038 506.119 M145.321 491.466 L145.321 495.725 Q143.561 494.892 141.756 494.452 Q139.973 494.012 138.214 494.012 Q133.585 494.012 131.131 497.137 Q128.7 500.262 128.353 506.582 Q129.719 504.568 131.779 503.503 Q133.839 502.415 136.316 502.415 Q141.524 502.415 144.534 505.587 Q147.566 508.735 147.566 514.174 Q147.566 519.498 144.418 522.716 Q141.27 525.934 136.038 525.934 Q130.043 525.934 126.872 521.35 Q123.7 516.744 123.7 508.017 Q123.7 499.823 127.589 494.962 Q131.478 490.077 138.029 490.077 Q139.788 490.077 141.571 490.425 Q143.376 490.772 145.321 491.466 Z\" fill=\"#000000\" fill-rule=\"evenodd\" fill-opacity=\"1\" /><path clip-path=\"url(#clip5300)\" d=\"M 0 0 M162.635 493.781 Q159.024 493.781 157.196 497.346 Q155.39 500.887 155.39 508.017 Q155.39 515.123 157.196 518.688 Q159.024 522.23 162.635 522.23 Q166.27 522.23 168.075 518.688 Q169.904 515.123 169.904 508.017 Q169.904 500.887 168.075 497.346 Q166.27 493.781 162.635 493.781 M162.635 490.077 Q168.446 490.077 171.501 494.684 Q174.58 499.267 174.58 508.017 Q174.58 516.744 171.501 521.35 Q168.446 525.934 162.635 525.934 Q156.825 525.934 153.747 521.35 Q150.691 516.744 150.691 508.017 Q150.691 499.267 153.747 494.684 Q156.825 490.077 162.635 490.077 Z\" fill=\"#000000\" fill-rule=\"evenodd\" fill-opacity=\"1\" /><path clip-path=\"url(#clip5300)\" d=\"M 0 0 M137.034 145.186 Q133.886 145.186 132.034 147.339 Q130.205 149.491 130.205 153.241 Q130.205 156.968 132.034 159.144 Q133.886 161.297 137.034 161.297 Q140.182 161.297 142.01 159.144 Q143.862 156.968 143.862 153.241 Q143.862 149.491 142.01 147.339 Q140.182 145.186 137.034 145.186 M146.316 130.533 L146.316 134.792 Q144.557 133.959 142.751 133.519 Q140.969 133.079 139.21 133.079 Q134.58 133.079 132.126 136.204 Q129.696 139.329 129.349 145.649 Q130.714 143.635 132.774 142.57 Q134.835 141.482 137.311 141.482 Q142.52 141.482 145.529 144.653 Q148.561 147.802 148.561 153.241 Q148.561 158.565 145.413 161.783 Q142.265 165.001 137.034 165.001 Q131.038 165.001 127.867 160.417 Q124.696 155.811 124.696 147.084 Q124.696 138.89 128.585 134.028 Q132.474 129.144 139.024 129.144 Q140.784 129.144 142.566 129.491 Q144.372 129.839 146.316 130.533 Z\" fill=\"#000000\" fill-rule=\"evenodd\" fill-opacity=\"1\" /><path clip-path=\"url(#clip5300)\" d=\"M 0 0 M153.677 129.769 L172.033 129.769 L172.033 133.704 L157.959 133.704 L157.959 142.177 Q158.978 141.829 159.997 141.667 Q161.015 141.482 162.034 141.482 Q167.821 141.482 171.2 144.653 Q174.58 147.825 174.58 153.241 Q174.58 158.82 171.108 161.922 Q167.635 165.001 161.316 165.001 Q159.14 165.001 156.872 164.63 Q154.626 164.26 152.219 163.519 L152.219 158.82 Q154.302 159.954 156.524 160.51 Q158.747 161.065 161.223 161.065 Q165.228 161.065 167.566 158.959 Q169.904 156.852 169.904 153.241 Q169.904 149.63 167.566 147.524 Q165.228 145.417 161.223 145.417 Q159.348 145.417 157.473 145.834 Q155.622 146.251 153.677 147.13 L153.677 129.769 Z\" fill=\"#000000\" fill-rule=\"evenodd\" fill-opacity=\"1\" /><path clip-path=\"url(#clip5300)\" d=\"M 0 0 M1989.03 2324.17 L1989.03 2334.3 L2001.1 2334.3 L2001.1 2338.85 L1989.03 2338.85 L1989.03 2358.2 Q1989.03 2362.56 1990.21 2363.8 Q1991.42 2365.04 1995.08 2365.04 L2001.1 2365.04 L2001.1 2369.94 L1995.08 2369.94 Q1988.3 2369.94 1985.72 2367.43 Q1983.14 2364.88 1983.14 2358.2 L1983.14 2338.85 L1978.85 2338.85 L1978.85 2334.3 L1983.14 2334.3 L1983.14 2324.17 L1989.03 2324.17 Z\" fill=\"#000000\" fill-rule=\"evenodd\" fill-opacity=\"1\" /><path clip-path=\"url(#clip5300)\" d=\"M 0 0 M2007.24 2334.3 L2013.09 2334.3 L2013.09 2369.94 L2007.24 2369.94 L2007.24 2334.3 M2007.24 2320.42 L2013.09 2320.42 L2013.09 2327.84 L2007.24 2327.84 L2007.24 2320.42 Z\" fill=\"#000000\" fill-rule=\"evenodd\" fill-opacity=\"1\" /><path clip-path=\"url(#clip5300)\" d=\"M 0 0 M2046.99 2341.14 Q2049.19 2337.19 2052.24 2335.31 Q2055.3 2333.44 2059.44 2333.44 Q2065.01 2333.44 2068.03 2337.35 Q2071.05 2341.23 2071.05 2348.43 L2071.05 2369.94 L2065.17 2369.94 L2065.17 2348.62 Q2065.17 2343.49 2063.35 2341.01 Q2061.54 2338.53 2057.81 2338.53 Q2053.26 2338.53 2050.62 2341.55 Q2047.98 2344.58 2047.98 2349.8 L2047.98 2369.94 L2042.09 2369.94 L2042.09 2348.62 Q2042.09 2343.46 2040.28 2341.01 Q2038.46 2338.53 2034.67 2338.53 Q2030.19 2338.53 2027.54 2341.59 Q2024.9 2344.61 2024.9 2349.8 L2024.9 2369.94 L2019.01 2369.94 L2019.01 2334.3 L2024.9 2334.3 L2024.9 2339.83 Q2026.91 2336.56 2029.71 2335 Q2032.51 2333.44 2036.36 2333.44 Q2040.24 2333.44 2042.95 2335.41 Q2045.69 2337.38 2046.99 2341.14 Z\" fill=\"#000000\" fill-rule=\"evenodd\" fill-opacity=\"1\" /><path clip-path=\"url(#clip5300)\" d=\"M 0 0 M2107.69 2350.66 L2107.69 2353.52 L2080.76 2353.52 Q2081.14 2359.57 2084.39 2362.75 Q2087.67 2365.9 2093.49 2365.9 Q2096.87 2365.9 2100.02 2365.07 Q2103.2 2364.25 2106.32 2362.59 L2106.32 2368.13 Q2103.17 2369.47 2099.86 2370.17 Q2096.55 2370.87 2093.14 2370.87 Q2084.61 2370.87 2079.62 2365.9 Q2074.65 2360.94 2074.65 2352.47 Q2074.65 2343.72 2079.36 2338.59 Q2084.1 2333.44 2092.12 2333.44 Q2099.32 2333.44 2103.49 2338.08 Q2107.69 2342.7 2107.69 2350.66 M2101.83 2348.94 Q2101.77 2344.13 2099.13 2341.27 Q2096.52 2338.4 2092.19 2338.4 Q2087.29 2338.4 2084.33 2341.17 Q2081.4 2343.94 2080.95 2348.97 L2101.83 2348.94 Z\" fill=\"#000000\" fill-rule=\"evenodd\" fill-opacity=\"1\" /><path clip-path=\"url(#clip5300)\" d=\"M 0 0 M33.277 1270.96 L33.277 1265.11 L68.925 1265.11 L68.925 1270.96 L33.277 1270.96 M19.3998 1270.96 L19.3998 1265.11 L26.8158 1265.11 L26.8158 1270.96 L19.3998 1270.96 Z\" fill=\"#000000\" fill-rule=\"evenodd\" fill-opacity=\"1\" /><path clip-path=\"url(#clip5300)\" d=\"M 0 0 M47.4089 1229.33 L68.925 1229.33 L68.925 1235.19 L47.5999 1235.19 Q42.5391 1235.19 40.0247 1237.16 Q37.5102 1239.13 37.5102 1243.08 Q37.5102 1247.82 40.5339 1250.56 Q43.5576 1253.3 48.7775 1253.3 L68.925 1253.3 L68.925 1259.19 L33.277 1259.19 L33.277 1253.3 L38.8152 1253.3 Q35.6005 1251.2 34.0091 1248.37 Q32.4176 1245.5 32.4176 1241.78 Q32.4176 1235.63 36.2371 1232.48 Q40.0247 1229.33 47.4089 1229.33 Z\" fill=\"#000000\" fill-rule=\"evenodd\" fill-opacity=\"1\" /><path clip-path=\"url(#clip5300)\" d=\"M 0 0 M38.6879 1199.73 L19.3998 1199.73 L19.3998 1193.87 L68.925 1193.87 L68.925 1199.73 L63.5778 1199.73 Q66.7606 1201.58 68.3202 1204.41 Q69.848 1207.21 69.848 1211.16 Q69.848 1217.62 64.6918 1221.69 Q59.5356 1225.74 51.1328 1225.74 Q42.7301 1225.74 37.5739 1221.69 Q32.4176 1217.62 32.4176 1211.16 Q32.4176 1207.21 33.9772 1204.41 Q35.505 1201.58 38.6879 1199.73 M51.1328 1219.69 Q57.594 1219.69 61.2861 1217.05 Q64.9464 1214.37 64.9464 1209.73 Q64.9464 1205.08 61.2861 1202.4 Q57.594 1199.73 51.1328 1199.73 Q44.6716 1199.73 41.0114 1202.4 Q37.3192 1205.08 37.3192 1209.73 Q37.3192 1214.37 41.0114 1217.05 Q44.6716 1219.69 51.1328 1219.69 Z\" fill=\"#000000\" fill-rule=\"evenodd\" fill-opacity=\"1\" /><path clip-path=\"url(#clip5300)\" d=\"M 0 0 M33.277 1187.73 L33.277 1181.88 L68.925 1181.88 L68.925 1187.73 L33.277 1187.73 M19.3998 1187.73 L19.3998 1181.88 L26.8158 1181.88 L26.8158 1187.73 L19.3998 1187.73 Z\" fill=\"#000000\" fill-rule=\"evenodd\" fill-opacity=\"1\" /><path clip-path=\"url(#clip5300)\" d=\"M 0 0 M34.6456 1150.08 L40.1202 1150.08 Q38.7515 1152.56 38.0831 1155.08 Q37.3829 1157.56 37.3829 1160.1 Q37.3829 1165.8 41.0114 1168.95 Q44.608 1172.1 51.1328 1172.1 Q57.6577 1172.1 61.2861 1168.95 Q64.8828 1165.8 64.8828 1160.1 Q64.8828 1157.56 64.2144 1155.08 Q63.5141 1152.56 62.1455 1150.08 L67.5563 1150.08 Q68.7022 1152.53 69.2751 1155.17 Q69.848 1157.78 69.848 1160.74 Q69.848 1168.79 64.7873 1173.54 Q59.7265 1178.28 51.1328 1178.28 Q42.4118 1178.28 37.4147 1173.5 Q32.4176 1168.7 32.4176 1160.36 Q32.4176 1157.65 32.9906 1155.08 Q33.5316 1152.5 34.6456 1150.08 Z\" fill=\"#000000\" fill-rule=\"evenodd\" fill-opacity=\"1\" /><path clip-path=\"url(#clip5300)\" d=\"M 0 0 M51.0055 1127.73 Q51.0055 1134.83 52.6288 1137.57 Q54.252 1140.31 58.1669 1140.31 Q61.2861 1140.31 63.1322 1138.27 Q64.9464 1136.2 64.9464 1132.67 Q64.9464 1127.8 61.5089 1124.87 Q58.0396 1121.91 52.3105 1121.91 L51.0055 1121.91 L51.0055 1127.73 M48.5865 1116.05 L68.925 1116.05 L68.925 1121.91 L63.5141 1121.91 Q66.7606 1123.92 68.3202 1126.91 Q69.848 1129.9 69.848 1134.23 Q69.848 1139.7 66.7925 1142.95 Q63.7051 1146.16 58.5489 1146.16 Q52.5333 1146.16 49.4777 1142.15 Q46.4222 1138.11 46.4222 1130.12 L46.4222 1121.91 L45.8493 1121.91 Q41.8071 1121.91 39.6109 1124.58 Q37.3829 1127.23 37.3829 1132.03 Q37.3829 1135.09 38.115 1137.98 Q38.847 1140.88 40.3111 1143.55 L34.9003 1143.55 Q33.659 1140.34 33.0542 1137.32 Q32.4176 1134.29 32.4176 1131.43 Q32.4176 1123.69 36.428 1119.87 Q40.4384 1116.05 48.5865 1116.05 Z\" fill=\"#000000\" fill-rule=\"evenodd\" fill-opacity=\"1\" /><path clip-path=\"url(#clip5300)\" d=\"M 0 0 M23.1555 1104.12 L33.277 1104.12 L33.277 1092.06 L37.8285 1092.06 L37.8285 1104.12 L57.1802 1104.12 Q61.5408 1104.12 62.7821 1102.94 Q64.0234 1101.73 64.0234 1098.07 L64.0234 1092.06 L68.925 1092.06 L68.925 1098.07 Q68.925 1104.85 66.4105 1107.43 Q63.8642 1110.01 57.1802 1110.01 L37.8285 1110.01 L37.8285 1114.3 L33.277 1114.3 L33.277 1110.01 L23.1555 1110.01 L23.1555 1104.12 Z\" fill=\"#000000\" fill-rule=\"evenodd\" fill-opacity=\"1\" /><path clip-path=\"url(#clip5300)\" d=\"M 0 0 M37.3829 1072.1 Q37.3829 1076.81 41.075 1079.55 Q44.7353 1082.28 51.1328 1082.28 Q57.5304 1082.28 61.2225 1079.58 Q64.8828 1076.84 64.8828 1072.1 Q64.8828 1067.42 61.1906 1064.68 Q57.4985 1061.95 51.1328 1061.95 Q44.7989 1061.95 41.1068 1064.68 Q37.3829 1067.42 37.3829 1072.1 M32.4176 1072.1 Q32.4176 1064.46 37.3829 1060.1 Q42.3481 1055.74 51.1328 1055.74 Q59.8857 1055.74 64.8828 1060.1 Q69.848 1064.46 69.848 1072.1 Q69.848 1079.77 64.8828 1084.13 Q59.8857 1088.46 51.1328 1088.46 Q42.3481 1088.46 37.3829 1084.13 Q32.4176 1079.77 32.4176 1072.1 Z\" fill=\"#000000\" fill-rule=\"evenodd\" fill-opacity=\"1\" /><path clip-path=\"url(#clip5300)\" d=\"M 0 0 M38.7515 1028.94 Q38.1786 1029.93 37.924 1031.1 Q37.6375 1032.25 37.6375 1033.65 Q37.6375 1038.62 40.884 1041.29 Q44.0987 1043.93 50.1461 1043.93 L68.925 1043.93 L68.925 1049.82 L33.277 1049.82 L33.277 1043.93 L38.8152 1043.93 Q35.5687 1042.08 34.0091 1039.12 Q32.4176 1036.16 32.4176 1031.93 Q32.4176 1031.33 32.5131 1030.59 Q32.5768 1029.86 32.7359 1028.97 L38.7515 1028.94 Z\" fill=\"#000000\" fill-rule=\"evenodd\" fill-opacity=\"1\" /><path clip-path=\"url(#clip5300)\" d=\"M 0 0 M34.3274 1000.07 L39.8655 1000.07 Q38.5924 1002.55 37.9558 1005.23 Q37.3192 1007.9 37.3192 1010.77 Q37.3192 1015.13 38.656 1017.32 Q39.9928 1019.49 42.6664 1019.49 Q44.7035 1019.49 45.8811 1017.93 Q47.0269 1016.37 48.0773 1011.66 L48.5229 1009.65 Q49.8597 1003.41 52.3105 1000.8 Q54.7294 998.161 59.09 998.161 Q64.0552 998.161 66.9516 1002.11 Q69.848 1006.02 69.848 1012.9 Q69.848 1015.76 69.2751 1018.88 Q68.734 1021.97 67.62 1025.41 L61.5726 1025.41 Q63.2595 1022.16 64.1189 1019.01 Q64.9464 1015.86 64.9464 1012.77 Q64.9464 1008.63 63.546 1006.4 Q62.1137 1004.18 59.5356 1004.18 Q57.1484 1004.18 55.8753 1005.8 Q54.6021 1007.39 53.4245 1012.83 L52.9471 1014.87 Q51.8012 1020.31 49.4459 1022.73 Q47.0588 1025.15 42.9211 1025.15 Q37.8922 1025.15 35.1549 1021.59 Q32.4176 1018.02 32.4176 1011.47 Q32.4176 1008.22 32.8951 1005.35 Q33.3725 1002.49 34.3274 1000.07 Z\" fill=\"#000000\" fill-rule=\"evenodd\" fill-opacity=\"1\" /><polyline clip-path=\"url(#clip5302)\" style=\"stroke:#009af9; stroke-width:4; stroke-opacity:1; fill:none\" points=\"\n",
       "  317.336,1518.59 330.979,1522.2 344.623,1511.38 358.267,1536.64 371.911,1548.91 385.554,1592.23 399.198,1566.96 412.842,1582.12 426.486,1626.87 440.129,1605.94 \n",
       "  453.773,1643.48 467.417,1694.01 481.06,1656.47 494.704,1613.16 508.348,1628.32 521.992,1683.9 535.635,1647.09 549.279,1632.65 562.923,1595.83 576.567,1600.17 \n",
       "  590.21,1553.97 603.854,1568.4 617.498,1563.35 631.142,1606.66 644.785,1589.34 658.429,1633.37 672.073,1621.82 685.716,1585.73 699.36,1579.23 713.004,1549.64 \n",
       "  726.648,1553.24 740.291,1530.87 753.935,1543.86 767.579,1516.43 781.223,1512.1 794.866,1525.81 808.51,1527.26 822.154,1516.43 835.798,1507.77 849.441,1508.49 \n",
       "  863.085,1494.77 876.729,1500.55 890.372,1487.55 904.016,1455.07 917.66,1449.3 931.304,1429.81 944.947,1438.47 958.591,1446.41 972.235,1438.47 985.879,1396.6 \n",
       "  999.522,1387.22 1013.17,1366.28 1026.81,1380 1040.45,1423.31 1054.1,1439.19 1067.74,1436.3 1081.38,1431.25 1095.03,1403.1 1108.67,1421.14 1122.32,1429.81 \n",
       "  1135.96,1411.76 1149.6,1396.6 1163.25,1386.49 1176.89,1359.78 1190.53,1357.62 1204.18,1369.17 1217.82,1346.07 1231.47,1329.47 1245.11,1323.69 1258.75,1327.3 \n",
       "  1272.4,1296.98 1286.04,1294.82 1299.68,1327.3 1313.33,1325.13 1326.97,1264.5 1340.62,1291.21 1354.26,1261.61 1367.9,1261.61 1381.55,1234.9 1395.19,1205.31 \n",
       "  1408.83,1207.47 1422.48,1177.87 1436.12,1197.36 1449.77,1184.37 1463.41,1149.72 1477.05,1132.4 1490.7,1143.22 1504.34,1141.06 1517.98,1136.73 1531.63,1177.15 \n",
       "  1545.27,1248.62 1558.92,1198.09 1572.56,1189.42 1586.2,1185.81 1599.85,1239.23 1613.49,1188.7 1627.13,1114.35 1640.78,1108.57 1654.42,1097.75 1668.07,1113.63 \n",
       "  1681.71,1067.43 1695.35,1065.98 1709,1026.28 1722.64,1026.28 1736.28,1007.51 1749.93,997.408 1763.57,972.864 1777.22,1007.51 1790.86,1076.09 1804.5,1225.52 \n",
       "  1818.15,1329.47 1831.79,1325.86 1845.43,1466.62 1859.08,1457.96 1872.72,1320.8 1886.36,1430.53 1900.01,1288.32 1913.65,1405.26 1927.3,1469.51 1940.94,1692.56 \n",
       "  1954.58,1520.76 1968.23,1674.52 1981.87,1958.93 1995.51,1713.5 2009.16,2093.92 2022.8,1952.44 2036.45,2078.76 2050.09,2031.12 2063.73,2116.3 2077.38,2160.33 \n",
       "  2091.02,1919.23 2104.66,1902.63 2118.31,1745.98 2131.95,1865.81 2145.6,1761.14 2159.24,1784.96 2172.88,1925.73 2186.53,1888.19 2200.17,1943.05 2213.81,1714.22 \n",
       "  2227.46,1725.05 2241.1,1630.48 2254.75,1616.77 2268.39,1608.11 2282.03,1489 2295.68,1521.48 2309.32,1467.34 2322.96,1416.09 2336.61,1454.35 2350.25,1573.46 \n",
       "  2363.9,1475.28 2377.54,1478.17 2391.18,1435.58 2404.83,1405.26 2418.47,1462.29 2432.11,1338.85 2445.76,1328.02 2459.4,1433.41 2473.05,1398.77 2486.69,1346.07 \n",
       "  2500.33,1340.29 2513.98,1285.43 2527.62,1250.78 2541.26,1216.13 2554.91,1288.32 2568.55,1336.68 2582.2,1295.54 2595.84,1255.84 2609.48,1182.93 2623.13,1185.09 \n",
       "  2636.77,1122.29 2650.41,1157.66 2664.06,1152.61 2677.7,1151.89 2691.35,1139.62 2704.99,1137.45 2718.63,1089.81 2732.28,1068.87 2745.92,1040.72 2759.56,1024.84 \n",
       "  2773.21,1073.2 2786.85,997.408 2800.49,978.639 2814.14,960.592 2827.78,926.665 2841.43,1126.62 2855.07,1092.69 2868.71,1058.04 2882.36,988.023 2896,973.586 \n",
       "  2909.64,959.87 2923.29,972.142 2936.93,915.115 2950.58,880.465 2964.22,979.361 2977.86,939.658 2991.51,1042.89 3005.15,1011.12 3018.79,937.493 3032.44,867.472 \n",
       "  3046.08,846.537 3059.73,758.47 3073.37,798.173 3087.01,718.045 3100.66,701.442 3114.3,687.727 3127.94,788.788 3141.59,756.304 3155.23,738.258 3168.88,772.907 \n",
       "  3182.52,755.582 3196.16,639.362 3209.81,671.846 3223.45,662.462 3237.09,745.476 3250.74,767.132 3264.38,720.211 3278.03,759.914 3291.67,686.283 3305.31,682.674 \n",
       "  3318.96,636.474 3332.6,598.937 3346.24,593.163 3359.89,552.016 3373.53,514.479 3387.18,567.175 3400.82,606.878 3414.46,665.349 3428.11,587.387 3441.75,575.116 \n",
       "  3455.39,586.666 3469.04,549.851 3482.68,511.592 3496.33,531.804 3509.97,483.439 3523.61,469.723 3537.26,439.405 3550.9,383.099 3564.54,263.27 3578.19,286.369 \n",
       "  3591.83,248.832 3605.48,245.945 3619.12,164.374 3632.76,108.79 3646.41,323.907 3660.05,416.305 3673.69,571.507 3687.34,468.28 3700.98,555.625 3714.63,584.5 \n",
       "  3728.27,531.082 3741.91,482.717 3755.56,536.135 3769.2,588.831 \n",
       "  \"/>\n",
       "<polyline clip-path=\"url(#clip5302)\" style=\"stroke:#e26f46; stroke-width:4; stroke-opacity:1; fill:none\" points=\"\n",
       "  317.336,1518.59 330.979,1522.2 344.623,1511.38 358.267,1536.64 371.911,1548.91 385.554,1592.23 399.198,1566.96 412.842,1582.12 426.486,1626.87 440.129,1605.94 \n",
       "  453.773,1643.48 467.417,1694.01 481.06,1656.47 494.704,1613.16 508.348,1628.32 521.992,1683.9 535.635,1647.09 549.279,1632.65 562.923,1595.83 576.567,1600.17 \n",
       "  590.21,1553.97 603.854,1568.4 617.498,1563.35 631.142,1606.66 644.785,1589.34 658.429,1633.37 672.073,1621.82 685.716,1585.73 699.36,1579.23 713.004,1549.64 \n",
       "  726.648,1553.24 740.291,1530.87 753.935,1543.86 767.579,1516.43 781.223,1512.1 794.866,1525.81 808.51,1527.26 822.154,1516.43 835.798,1507.77 849.441,1508.49 \n",
       "  863.085,1494.77 876.729,1500.55 890.372,1487.55 904.016,1455.07 917.66,1449.3 931.304,1429.81 944.947,1438.47 958.591,1446.41 972.235,1438.47 985.879,1396.6 \n",
       "  999.522,1387.22 1013.17,1366.28 1026.81,1380 1040.45,1423.31 1054.1,1439.19 1067.74,1436.3 1081.38,1431.25 1095.03,1403.1 1108.67,1421.14 1122.32,1429.81 \n",
       "  1135.96,1411.76 1149.6,1396.6 1163.25,1386.49 1176.89,1359.78 1190.53,1357.62 1204.18,1369.17 1217.82,1346.07 1231.47,1329.47 1245.11,1323.69 1258.75,1327.3 \n",
       "  1272.4,1296.98 1286.04,1294.82 1299.68,1327.3 1313.33,1325.13 1326.97,1264.5 1340.62,1291.21 1354.26,1261.61 1367.9,1261.61 1381.55,1234.9 1395.19,1205.31 \n",
       "  1408.83,1207.47 1422.48,1177.87 1436.12,1197.36 1449.77,1184.37 1463.41,1149.72 1477.05,1132.4 1490.7,1143.22 1504.34,1141.06 1517.98,1136.73 1531.63,1177.15 \n",
       "  1545.27,1248.62 1558.92,1198.09 1572.56,1189.42 1586.2,1185.81 1599.85,1239.23 1613.49,1188.7 1627.13,1114.35 1640.78,1108.57 1654.42,1097.75 1668.07,1113.63 \n",
       "  1681.71,1067.43 1695.35,1065.98 1709,1026.28 1722.64,1026.28 1736.28,1007.51 1749.93,997.408 1763.57,972.864 1777.22,1007.51 1790.86,1076.09 1804.5,1225.52 \n",
       "  1818.15,1329.47 1831.79,1325.86 1845.43,1466.62 1859.08,1457.96 1872.72,1320.8 1886.36,1430.53 1900.01,1288.32 1913.65,1405.26 1927.3,1469.51 1940.94,1692.56 \n",
       "  1954.58,1520.76 1968.23,1674.52 1981.87,1958.93 1995.51,1713.5 2009.16,2093.92 2022.8,1952.44 2036.45,2078.76 2050.09,2031.12 2063.73,2116.3 2077.38,2160.33 \n",
       "  2091.02,1919.23 2104.66,1902.63 2118.31,1745.98 2131.95,1865.81 2145.6,1761.14 2159.24,1784.96 2172.88,1925.73 2186.53,1888.19 2200.17,1943.05 2213.81,1714.22 \n",
       "  2227.46,1725.05 2241.1,1630.48 2254.75,1616.77 2268.39,1608.11 2282.03,1489 2295.68,1521.48 2309.32,1467.34 2322.96,1416.09 2336.61,1454.35 2350.25,1573.46 \n",
       "  2363.9,1475.28 2377.54,1478.17 2391.18,1435.58 2404.83,1405.26 2418.47,1462.29 2432.11,1338.85 2445.76,1328.02 2459.4,1433.41 2473.05,1398.77 2486.69,1346.07 \n",
       "  2500.33,1340.29 2513.98,1285.43 2527.62,1250.78 2541.26,1216.13 2554.91,1288.32 2568.55,1336.68 2582.2,1295.54 2595.84,1255.84 2609.48,1182.93 2623.13,1185.09 \n",
       "  2636.77,1122.29 2650.41,1157.66 2664.06,1152.61 2677.7,1151.89 2691.35,1139.62 2704.99,1137.45 2718.63,1089.81 2732.28,1068.87 2745.92,1040.72 2759.56,1024.84 \n",
       "  2773.21,1073.2 2786.85,997.408 2800.49,978.639 2814.14,960.592 2827.78,926.665 2841.43,1126.62 2855.07,1092.69 2868.71,1058.04 2882.36,988.023 2896,973.586 \n",
       "  2909.64,959.87 2923.29,972.142 2936.93,915.115 2950.58,880.465 2964.22,979.361 2977.86,939.658 2991.51,1042.89 3005.15,1011.12 3018.79,937.493 3032.44,867.472 \n",
       "  3046.08,846.537 3059.73,758.47 3073.37,798.173 3087.01,718.045 3100.66,701.442 3114.3,687.727 3127.94,788.788 3141.59,756.304 3155.23,738.258 3168.88,772.907 \n",
       "  3182.52,755.582 3196.16,639.362 3209.81,671.846 3223.45,662.462 3237.09,745.476 3250.74,767.132 3264.38,720.211 3278.03,759.914 3291.67,686.283 3305.31,682.674 \n",
       "  3318.96,636.474 3332.6,598.937 3346.24,593.163 3359.89,552.016 3373.53,514.479 3387.18,567.175 3400.82,606.878 3414.46,665.349 3428.11,587.387 3441.75,575.116 \n",
       "  3455.39,586.666 3469.04,549.851 3482.68,511.592 3496.33,531.804 3509.97,483.439 3523.61,469.723 3537.26,439.405 3550.9,383.099 3564.54,263.27 3578.19,286.369 \n",
       "  3591.83,248.832 3605.48,245.945 3619.12,164.374 3632.76,108.79 3646.41,323.907 3660.05,416.305 3673.69,571.507 3687.34,468.28 3700.98,555.625 3714.63,584.5 \n",
       "  3728.27,531.082 3741.91,482.717 3755.56,536.135 3769.2,588.831 \n",
       "  \"/>\n",
       "<polyline clip-path=\"url(#clip5302)\" style=\"stroke:#3da44d; stroke-width:4; stroke-opacity:1; fill:none\" points=\"\n",
       "  317.336,1518.59 330.979,1522.2 344.623,1511.38 358.267,1536.64 371.911,1548.91 385.554,1592.23 399.198,1566.96 412.842,1582.12 426.486,1626.87 440.129,1605.94 \n",
       "  453.773,1643.48 467.417,1694.01 481.06,1656.47 494.704,1613.16 508.348,1628.32 521.992,1683.9 535.635,1647.09 549.279,1632.65 562.923,1595.83 576.567,1600.17 \n",
       "  590.21,1553.97 603.854,1568.4 617.498,1563.35 631.142,1606.66 644.785,1589.34 658.429,1633.37 672.073,1621.82 685.716,1585.73 699.36,1579.23 713.004,1549.64 \n",
       "  726.648,1553.24 740.291,1530.87 753.935,1543.86 767.579,1516.43 781.223,1512.1 794.866,1525.81 808.51,1527.26 822.154,1516.43 835.798,1507.77 849.441,1508.49 \n",
       "  863.085,1494.77 876.729,1500.55 890.372,1487.55 904.016,1455.07 917.66,1449.3 931.304,1429.81 944.947,1438.47 958.591,1446.41 972.235,1438.47 985.879,1396.6 \n",
       "  999.522,1387.22 1013.17,1366.28 1026.81,1380 1040.45,1423.31 1054.1,1439.19 1067.74,1436.3 1081.38,1431.25 1095.03,1403.1 1108.67,1421.14 1122.32,1429.81 \n",
       "  1135.96,1411.76 1149.6,1396.6 1163.25,1386.49 1176.89,1359.78 1190.53,1357.62 1204.18,1369.17 1217.82,1346.07 1231.47,1329.47 1245.11,1323.69 1258.75,1327.3 \n",
       "  1272.4,1296.98 1286.04,1294.82 1299.68,1327.3 1313.33,1325.13 1326.97,1264.5 1340.62,1291.21 1354.26,1261.61 1367.9,1261.61 1381.55,1234.9 1395.19,1205.31 \n",
       "  1408.83,1207.47 1422.48,1177.87 1436.12,1197.36 1449.77,1184.37 1463.41,1149.72 1477.05,1132.4 1490.7,1143.22 1504.34,1141.06 1517.98,1136.73 1531.63,1177.15 \n",
       "  1545.27,1248.62 1558.92,1198.09 1572.56,1189.42 1586.2,1185.81 1599.85,1239.23 1613.49,1188.7 1627.13,1114.35 1640.78,1108.57 1654.42,1097.75 1668.07,1113.63 \n",
       "  1681.71,1067.43 1695.35,1065.98 1709,1026.28 1722.64,1026.28 1736.28,1007.51 1749.93,997.408 1763.57,972.864 1777.22,1007.51 1790.86,1076.09 1804.5,1225.52 \n",
       "  1818.15,1329.47 1831.79,1325.86 1845.43,1466.62 1859.08,1457.96 1872.72,1320.8 1886.36,1430.53 1900.01,1288.32 1913.65,1405.26 1927.3,1469.51 1940.94,1692.56 \n",
       "  1954.58,1520.76 1968.23,1674.52 1981.87,1958.93 1995.51,1713.5 2009.16,2093.92 2022.8,1952.44 2036.45,2078.76 2050.09,2031.12 2063.73,2116.3 2077.38,2160.33 \n",
       "  2091.02,1919.23 2104.66,1902.63 2118.31,1745.98 2131.95,1865.81 2145.6,1761.14 2159.24,1784.96 2172.88,1925.73 2186.53,1888.19 2200.17,1943.05 2213.81,1714.22 \n",
       "  2227.46,1725.05 2241.1,1630.48 2254.75,1616.77 2268.39,1608.11 2282.03,1489 2295.68,1521.48 2309.32,1467.34 2322.96,1416.09 2336.61,1454.35 2350.25,1573.46 \n",
       "  2363.9,1475.28 2377.54,1478.17 2391.18,1435.58 2404.83,1405.26 2418.47,1462.29 2432.11,1338.85 2445.76,1328.02 2459.4,1433.41 2473.05,1398.77 2486.69,1346.07 \n",
       "  2500.33,1340.29 2513.98,1285.43 2527.62,1250.78 2541.26,1216.13 2554.91,1288.32 2568.55,1336.68 2582.2,1295.54 2595.84,1255.84 2609.48,1182.93 2623.13,1185.09 \n",
       "  2636.77,1122.29 2650.41,1157.66 2664.06,1152.61 2677.7,1151.89 2691.35,1139.62 2704.99,1137.45 2718.63,1089.81 2732.28,1068.87 2745.92,1040.72 2759.56,1024.84 \n",
       "  2773.21,1073.2 2786.85,997.408 2800.49,978.639 2814.14,960.592 2827.78,926.665 2841.43,1126.62 2855.07,1092.69 2868.71,1058.04 2882.36,988.023 2896,973.586 \n",
       "  2909.64,959.87 2923.29,972.142 2936.93,915.115 2950.58,880.465 2964.22,979.361 2977.86,939.658 2991.51,1042.89 3005.15,1011.12 3018.79,937.493 3032.44,867.472 \n",
       "  3046.08,846.537 3059.73,758.47 3073.37,798.173 3087.01,718.045 3100.66,701.442 3114.3,687.727 3127.94,788.788 3141.59,756.304 3155.23,738.258 3168.88,772.907 \n",
       "  3182.52,755.582 3196.16,639.362 3209.81,671.846 3223.45,662.462 3237.09,745.476 3250.74,767.132 3264.38,720.211 3278.03,759.914 3291.67,686.283 3305.31,682.674 \n",
       "  3318.96,636.474 3332.6,598.937 3346.24,593.163 3359.89,552.016 3373.53,514.479 3387.18,567.175 3400.82,606.878 3414.46,665.349 3428.11,587.387 3441.75,575.116 \n",
       "  3455.39,586.666 3469.04,549.851 3482.68,511.592 3496.33,531.804 3509.97,483.439 3523.61,469.723 3537.26,439.405 3550.9,383.099 3564.54,263.27 3578.19,286.369 \n",
       "  3591.83,248.832 3605.48,245.945 3619.12,164.374 3632.76,108.79 3646.41,323.907 3660.05,416.305 3673.69,571.507 3687.34,468.28 3700.98,555.625 3714.63,584.5 \n",
       "  3728.27,531.082 3741.91,482.717 3755.56,536.135 3769.2,588.831 \n",
       "  \"/>\n",
       "<polyline clip-path=\"url(#clip5302)\" style=\"stroke:#c271d2; stroke-width:4; stroke-opacity:1; fill:none\" points=\"\n",
       "  317.336,1518.59 330.979,1522.2 344.623,1511.38 358.267,1536.64 371.911,1548.91 385.554,1592.23 399.198,1566.96 412.842,1582.12 426.486,1626.87 440.129,1605.94 \n",
       "  453.773,1643.48 467.417,1694.01 481.06,1656.47 494.704,1613.16 508.348,1628.32 521.992,1683.9 535.635,1647.09 549.279,1632.65 562.923,1595.83 576.567,1600.17 \n",
       "  590.21,1553.97 603.854,1568.4 617.498,1563.35 631.142,1606.66 644.785,1589.34 658.429,1633.37 672.073,1621.82 685.716,1585.73 699.36,1579.23 713.004,1549.64 \n",
       "  726.648,1553.24 740.291,1530.87 753.935,1543.86 767.579,1516.43 781.223,1512.1 794.866,1525.81 808.51,1527.26 822.154,1516.43 835.798,1507.77 849.441,1508.49 \n",
       "  863.085,1494.77 876.729,1500.55 890.372,1487.55 904.016,1455.07 917.66,1449.3 931.304,1429.81 944.947,1438.47 958.591,1446.41 972.235,1438.47 985.879,1396.6 \n",
       "  999.522,1387.22 1013.17,1366.28 1026.81,1380 1040.45,1423.31 1054.1,1439.19 1067.74,1436.3 1081.38,1431.25 1095.03,1403.1 1108.67,1421.14 1122.32,1429.81 \n",
       "  1135.96,1411.76 1149.6,1396.6 1163.25,1386.49 1176.89,1359.78 1190.53,1357.62 1204.18,1369.17 1217.82,1346.07 1231.47,1329.47 1245.11,1323.69 1258.75,1327.3 \n",
       "  1272.4,1296.98 1286.04,1294.82 1299.68,1327.3 1313.33,1325.13 1326.97,1264.5 1340.62,1291.21 1354.26,1261.61 1367.9,1261.61 1381.55,1234.9 1395.19,1205.31 \n",
       "  1408.83,1207.47 1422.48,1177.87 1436.12,1197.36 1449.77,1184.37 1463.41,1149.72 1477.05,1132.4 1490.7,1143.22 1504.34,1141.06 1517.98,1136.73 1531.63,1177.15 \n",
       "  1545.27,1248.62 1558.92,1198.09 1572.56,1189.42 1586.2,1185.81 1599.85,1239.23 1613.49,1188.7 1627.13,1114.35 1640.78,1108.57 1654.42,1097.75 1668.07,1113.63 \n",
       "  1681.71,1067.43 1695.35,1065.98 1709,1026.28 1722.64,1026.28 1736.28,1007.51 1749.93,997.408 1763.57,972.864 1777.22,1007.51 1790.86,1076.09 1804.5,1225.52 \n",
       "  1818.15,1329.47 1831.79,1325.86 1845.43,1466.62 1859.08,1457.96 1872.72,1320.8 1886.36,1430.53 1900.01,1288.32 1913.65,1405.26 1927.3,1469.51 1940.94,1692.56 \n",
       "  1954.58,1520.76 1968.23,1674.52 1981.87,1958.93 1995.51,1713.5 2009.16,2093.92 2022.8,1952.44 2036.45,2078.76 2050.09,2031.12 2063.73,2116.3 2077.38,2160.33 \n",
       "  2091.02,1919.23 2104.66,1902.63 2118.31,1745.98 2131.95,1865.81 2145.6,1761.14 2159.24,1784.96 2172.88,1925.73 2186.53,1888.19 2200.17,1943.05 2213.81,1714.22 \n",
       "  2227.46,1725.05 2241.1,1630.48 2254.75,1616.77 2268.39,1608.11 2282.03,1489 2295.68,1521.48 2309.32,1467.34 2322.96,1416.09 2336.61,1454.35 2350.25,1573.46 \n",
       "  2363.9,1475.28 2377.54,1478.17 2391.18,1435.58 2404.83,1405.26 2418.47,1462.29 2432.11,1338.85 2445.76,1328.02 2459.4,1433.41 2473.05,1398.77 2486.69,1346.07 \n",
       "  2500.33,1340.29 2513.98,1285.43 2527.62,1250.78 2541.26,1216.13 2554.91,1288.32 2568.55,1336.68 2582.2,1295.54 2595.84,1255.84 2609.48,1182.93 2623.13,1185.09 \n",
       "  2636.77,1122.29 2650.41,1157.66 2664.06,1152.61 2677.7,1151.89 2691.35,1139.62 2704.99,1137.45 2718.63,1089.81 2732.28,1068.87 2745.92,1040.72 2759.56,1024.84 \n",
       "  2773.21,1073.2 2786.85,997.408 2800.49,978.639 2814.14,960.592 2827.78,926.665 2841.43,1126.62 2855.07,1092.69 2868.71,1058.04 2882.36,988.023 2896,973.586 \n",
       "  2909.64,959.87 2923.29,972.142 2936.93,915.115 2950.58,880.465 2964.22,979.361 2977.86,939.658 2991.51,1042.89 3005.15,1011.12 3018.79,937.493 3032.44,867.472 \n",
       "  3046.08,846.537 3059.73,758.47 3073.37,798.173 3087.01,718.045 3100.66,701.442 3114.3,687.727 3127.94,788.788 3141.59,756.304 3155.23,738.258 3168.88,772.907 \n",
       "  3182.52,755.582 3196.16,639.362 3209.81,671.846 3223.45,662.462 3237.09,745.476 3250.74,767.132 3264.38,720.211 3278.03,759.914 3291.67,686.283 3305.31,682.674 \n",
       "  3318.96,636.474 3332.6,598.937 3346.24,593.163 3359.89,552.016 3373.53,514.479 3387.18,567.175 3400.82,606.878 3414.46,665.349 3428.11,587.387 3441.75,575.116 \n",
       "  3455.39,586.666 3469.04,549.851 3482.68,511.592 3496.33,531.804 3509.97,483.439 3523.61,469.723 3537.26,439.405 3550.9,383.099 3564.54,263.27 3578.19,286.369 \n",
       "  3591.83,248.832 3605.48,245.945 3619.12,164.374 3632.76,108.79 3646.41,323.907 3660.05,416.305 3673.69,571.507 3687.34,468.28 3700.98,555.625 3714.63,584.5 \n",
       "  3728.27,531.082 3741.91,482.717 3755.56,536.135 3769.2,588.831 \n",
       "  \"/>\n",
       "<polyline clip-path=\"url(#clip5302)\" style=\"stroke:#ac8d18; stroke-width:4; stroke-opacity:1; fill:none\" points=\"\n",
       "  317.336,1538.56 330.979,1542.15 344.623,1531.39 358.267,1556.5 371.911,1568.7 385.554,1611.75 399.198,1586.64 412.842,1601.7 426.486,1646.19 440.129,1625.38 \n",
       "  453.773,1662.69 467.417,1712.92 481.06,1675.61 494.704,1632.56 508.348,1647.63 521.992,1702.87 535.635,1666.28 549.279,1651.93 562.923,1615.34 576.567,1619.64 \n",
       "  590.21,1573.72 603.854,1588.07 617.498,1583.05 631.142,1626.1 644.785,1608.88 658.429,1652.65 672.073,1641.17 685.716,1605.29 699.36,1598.83 713.004,1569.41 \n",
       "  726.648,1573 740.291,1550.76 753.935,1563.67 767.579,1536.41 781.223,1532.1 794.866,1545.74 808.51,1547.17 822.154,1536.41 835.798,1527.8 849.441,1528.52 \n",
       "  863.085,1514.88 876.729,1520.62 890.372,1507.71 904.016,1475.42 917.66,1469.68 931.304,1450.31 944.947,1458.92 958.591,1466.81 972.235,1458.92 985.879,1417.3 \n",
       "  999.522,1407.97 1013.17,1387.16 1026.81,1400.8 1040.45,1443.85 1054.1,1459.63 1067.74,1456.76 1081.38,1451.74 1095.03,1423.76 1108.67,1441.7 1122.32,1450.31 \n",
       "  1135.96,1432.37 1149.6,1417.3 1163.25,1407.25 1176.89,1380.71 1190.53,1378.55 1204.18,1369.17 1217.82,1346.07 1231.47,1329.47 1245.11,1323.69 1258.75,1327.3 \n",
       "  1272.4,1296.98 1286.04,1294.82 1299.68,1327.3 1313.33,1325.13 1326.97,1264.5 1340.62,1291.21 1354.26,1261.61 1367.9,1261.61 1381.55,1234.9 1395.19,1205.31 \n",
       "  1408.83,1207.47 1422.48,1177.87 1436.12,1197.36 1449.77,1184.37 1463.41,1149.72 1477.05,1132.4 1490.7,1143.22 1504.34,1141.06 1517.98,1136.73 1531.63,1177.15 \n",
       "  1545.27,1248.62 1558.92,1198.09 1572.56,1189.42 1586.2,1185.81 1599.85,1239.23 1613.49,1188.7 1627.13,1114.35 1640.78,1108.57 1654.42,1097.75 1668.07,1113.63 \n",
       "  1681.71,1067.43 1695.35,1065.98 1709,1026.28 1722.64,1026.28 1736.28,1007.51 1749.93,997.408 1763.57,972.864 1777.22,1007.51 1790.86,1076.09 1804.5,1225.52 \n",
       "  1818.15,1329.47 1831.79,1325.86 1845.43,1466.62 1859.08,1457.96 1872.72,1320.8 1886.36,1430.53 1900.01,1288.32 1913.65,1405.26 1927.3,1469.51 1940.94,1692.56 \n",
       "  1954.58,1520.76 1968.23,1674.52 1981.87,1958.93 1995.51,1713.5 2009.16,2093.92 2022.8,1952.44 2036.45,2078.76 2050.09,2031.12 2063.73,2116.3 2077.38,2160.33 \n",
       "  2091.02,1919.23 2104.66,1902.63 2118.31,1745.98 2131.95,1865.81 2145.6,1761.14 2159.24,1784.96 2172.88,1925.73 2186.53,1888.19 2200.17,1943.05 2213.81,1714.22 \n",
       "  2227.46,1725.05 2241.1,1630.48 2254.75,1616.77 2268.39,1608.11 2282.03,1489 2295.68,1521.48 2309.32,1467.34 2322.96,1416.09 2336.61,1454.35 2350.25,1573.46 \n",
       "  2363.9,1475.28 2377.54,1478.17 2391.18,1435.58 2404.83,1405.26 2418.47,1462.29 2432.11,1338.85 2445.76,1328.02 2459.4,1433.41 2473.05,1398.77 2486.69,1346.07 \n",
       "  2500.33,1340.29 2513.98,1285.43 2527.62,1250.78 2541.26,1216.13 2554.91,1288.32 2568.55,1336.68 2582.2,1295.54 2595.84,1255.84 2609.48,1182.93 2623.13,1185.09 \n",
       "  2636.77,1122.29 2650.41,1157.66 2664.06,1152.61 2677.7,1151.89 2691.35,1139.62 2704.99,1137.45 2718.63,1089.81 2732.28,1068.87 2745.92,1040.72 2759.56,1024.84 \n",
       "  2773.21,1073.2 2786.85,997.408 2800.49,978.639 2814.14,960.592 2827.78,926.665 2841.43,1126.62 2855.07,1092.69 2868.71,1058.04 2882.36,988.023 2896,973.586 \n",
       "  2909.64,959.87 2923.29,972.142 2936.93,915.115 2950.58,880.465 2964.22,979.361 2977.86,939.658 2991.51,1042.89 3005.15,1011.12 3018.79,937.493 3032.44,867.472 \n",
       "  3046.08,846.537 3059.73,758.47 3073.37,798.173 3087.01,718.045 3100.66,701.442 3114.3,687.727 3127.94,788.788 3141.59,756.304 3155.23,738.258 3168.88,772.907 \n",
       "  3182.52,755.582 3196.16,639.362 3209.81,671.846 3223.45,662.462 3237.09,745.476 3250.74,767.132 3264.38,720.211 3278.03,759.914 3291.67,686.283 3305.31,682.674 \n",
       "  3318.96,636.474 3332.6,598.937 3346.24,593.163 3359.89,552.016 3373.53,514.479 3387.18,567.175 3400.82,606.878 3414.46,665.349 3428.11,587.387 3441.75,575.116 \n",
       "  3455.39,586.666 3469.04,549.851 3482.68,511.592 3496.33,531.804 3509.97,483.439 3523.61,469.723 3537.26,439.405 3550.9,383.099 3564.54,263.27 3578.19,286.369 \n",
       "  3591.83,248.832 3605.48,245.945 3619.12,164.374 3632.76,108.79 3646.41,323.907 3660.05,416.305 3673.69,571.507 3687.34,468.28 3700.98,555.625 3714.63,584.5 \n",
       "  3728.27,531.082 3741.91,482.717 3755.56,536.135 3769.2,588.831 \n",
       "  \"/>\n",
       "<path clip-path=\"url(#clip5300)\" d=\"\n",
       "M331.38 584.844 L918.494 584.844 L918.494 221.964 L331.38 221.964  Z\n",
       "  \" fill=\"#ffffff\" fill-rule=\"evenodd\" fill-opacity=\"1\"/>\n",
       "<polyline clip-path=\"url(#clip5300)\" style=\"stroke:#000000; stroke-width:4; stroke-opacity:1; fill:none\" points=\"\n",
       "  331.38,584.844 918.494,584.844 918.494,221.964 331.38,221.964 331.38,584.844 \n",
       "  \"/>\n",
       "<polyline clip-path=\"url(#clip5300)\" style=\"stroke:#009af9; stroke-width:4; stroke-opacity:1; fill:none\" points=\"\n",
       "  370.58,282.444 605.78,282.444 \n",
       "  \"/>\n",
       "<path clip-path=\"url(#clip5300)\" d=\"M 0 0 M660.998 268.335 Q655.906 268.335 652.896 272.132 Q649.91 275.928 649.91 282.479 Q649.91 289.007 652.896 292.803 Q655.906 296.599 660.998 296.599 Q666.091 296.599 669.054 292.803 Q672.04 289.007 672.04 282.479 Q672.04 275.928 669.054 272.132 Q666.091 268.335 660.998 268.335 M660.998 264.539 Q668.267 264.539 672.619 269.423 Q676.97 274.284 676.97 282.479 Q676.97 290.65 672.619 295.534 Q668.267 300.395 660.998 300.395 Q653.707 300.395 649.332 295.534 Q644.98 290.673 644.98 282.479 Q644.98 274.284 649.332 269.423 Q653.707 264.539 660.998 264.539 Z\" fill=\"#000000\" fill-rule=\"evenodd\" fill-opacity=\"1\" /><path clip-path=\"url(#clip5300)\" d=\"M 0 0 M685.558 295.835 L685.558 309.585 L681.276 309.585 L681.276 273.798 L685.558 273.798 L685.558 277.733 Q686.901 275.419 688.938 274.308 Q690.998 273.173 693.845 273.173 Q698.567 273.173 701.507 276.923 Q704.47 280.673 704.47 286.784 Q704.47 292.895 701.507 296.645 Q698.567 300.395 693.845 300.395 Q690.998 300.395 688.938 299.284 Q686.901 298.15 685.558 295.835 M700.049 286.784 Q700.049 282.085 698.104 279.423 Q696.183 276.738 692.804 276.738 Q689.424 276.738 687.48 279.423 Q685.558 282.085 685.558 286.784 Q685.558 291.483 687.48 294.169 Q689.424 296.831 692.804 296.831 Q696.183 296.831 698.104 294.169 Q700.049 291.483 700.049 286.784 Z\" fill=\"#000000\" fill-rule=\"evenodd\" fill-opacity=\"1\" /><path clip-path=\"url(#clip5300)\" d=\"M 0 0 M731.114 285.696 L731.114 287.78 L711.53 287.78 Q711.808 292.178 714.169 294.493 Q716.553 296.784 720.79 296.784 Q723.243 296.784 725.535 296.182 Q727.85 295.581 730.118 294.377 L730.118 298.405 Q727.827 299.377 725.419 299.886 Q723.012 300.395 720.535 300.395 Q714.331 300.395 710.697 296.784 Q707.086 293.173 707.086 287.016 Q707.086 280.65 710.512 276.923 Q713.961 273.173 719.794 273.173 Q725.026 273.173 728.058 276.553 Q731.114 279.909 731.114 285.696 M726.854 284.446 Q726.808 280.951 724.887 278.868 Q722.989 276.784 719.84 276.784 Q716.276 276.784 714.123 278.798 Q711.993 280.812 711.669 284.47 L726.854 284.446 Z\" fill=\"#000000\" fill-rule=\"evenodd\" fill-opacity=\"1\" /><path clip-path=\"url(#clip5300)\" d=\"M 0 0 M757.132 284.076 L757.132 299.724 L752.873 299.724 L752.873 284.215 Q752.873 280.534 751.438 278.706 Q750.002 276.877 747.132 276.877 Q743.683 276.877 741.692 279.076 Q739.701 281.275 739.701 285.071 L739.701 299.724 L735.419 299.724 L735.419 273.798 L739.701 273.798 L739.701 277.826 Q741.229 275.488 743.289 274.331 Q745.373 273.173 748.081 273.173 Q752.549 273.173 754.84 275.951 Q757.132 278.706 757.132 284.076 Z\" fill=\"#000000\" fill-rule=\"evenodd\" fill-opacity=\"1\" /><polyline clip-path=\"url(#clip5300)\" style=\"stroke:#e26f46; stroke-width:4; stroke-opacity:1; fill:none\" points=\"\n",
       "  370.58,342.924 605.78,342.924 \n",
       "  \"/>\n",
       "<path clip-path=\"url(#clip5300)\" d=\"M 0 0 M644.98 325.644 L649.656 325.644 L649.656 339.811 L666.646 339.811 L666.646 325.644 L671.322 325.644 L671.322 360.204 L666.646 360.204 L666.646 343.746 L649.656 343.746 L649.656 360.204 L644.98 360.204 L644.98 325.644 Z\" fill=\"#000000\" fill-rule=\"evenodd\" fill-opacity=\"1\" /><path clip-path=\"url(#clip5300)\" d=\"M 0 0 M675.79 334.278 L680.049 334.278 L680.049 360.204 L675.79 360.204 L675.79 334.278 M675.79 324.186 L680.049 324.186 L680.049 329.579 L675.79 329.579 L675.79 324.186 Z\" fill=\"#000000\" fill-rule=\"evenodd\" fill-opacity=\"1\" /><path clip-path=\"url(#clip5300)\" d=\"M 0 0 M701.577 346.94 Q701.577 342.311 699.655 339.764 Q697.757 337.218 694.308 337.218 Q690.882 337.218 688.961 339.764 Q687.063 342.311 687.063 346.94 Q687.063 351.547 688.961 354.093 Q690.882 356.639 694.308 356.639 Q697.757 356.639 699.655 354.093 Q701.577 351.547 701.577 346.94 M705.836 356.987 Q705.836 363.607 702.896 366.824 Q699.956 370.065 693.892 370.065 Q691.646 370.065 689.655 369.718 Q687.665 369.394 685.79 368.699 L685.79 364.556 Q687.665 365.574 689.493 366.061 Q691.322 366.547 693.22 366.547 Q697.41 366.547 699.493 364.348 Q701.577 362.172 701.577 357.75 L701.577 355.644 Q700.257 357.936 698.197 359.07 Q696.137 360.204 693.267 360.204 Q688.498 360.204 685.581 356.57 Q682.665 352.936 682.665 346.94 Q682.665 340.922 685.581 337.288 Q688.498 333.653 693.267 333.653 Q696.137 333.653 698.197 334.788 Q700.257 335.922 701.577 338.213 L701.577 334.278 L705.836 334.278 L705.836 356.987 Z\" fill=\"#000000\" fill-rule=\"evenodd\" fill-opacity=\"1\" /><path clip-path=\"url(#clip5300)\" d=\"M 0 0 M731.854 344.556 L731.854 360.204 L727.595 360.204 L727.595 344.695 Q727.595 341.014 726.16 339.186 Q724.725 337.357 721.854 337.357 Q718.405 337.357 716.415 339.556 Q714.424 341.755 714.424 345.551 L714.424 360.204 L710.141 360.204 L710.141 324.186 L714.424 324.186 L714.424 338.306 Q715.952 335.968 718.012 334.811 Q720.095 333.653 722.803 333.653 Q727.271 333.653 729.563 336.431 Q731.854 339.186 731.854 344.556 Z\" fill=\"#000000\" fill-rule=\"evenodd\" fill-opacity=\"1\" /><polyline clip-path=\"url(#clip5300)\" style=\"stroke:#3da44d; stroke-width:4; stroke-opacity:1; fill:none\" points=\"\n",
       "  370.58,403.404 605.78,403.404 \n",
       "  \"/>\n",
       "<path clip-path=\"url(#clip5300)\" d=\"M 0 0 M644.98 386.124 L649.656 386.124 L649.656 416.749 L666.484 416.749 L666.484 420.684 L644.98 420.684 L644.98 386.124 Z\" fill=\"#000000\" fill-rule=\"evenodd\" fill-opacity=\"1\" /><path clip-path=\"url(#clip5300)\" d=\"M 0 0 M680.165 397.744 Q676.739 397.744 674.748 400.43 Q672.757 403.092 672.757 407.744 Q672.757 412.397 674.725 415.082 Q676.716 417.744 680.165 417.744 Q683.568 417.744 685.558 415.059 Q687.549 412.374 687.549 407.744 Q687.549 403.138 685.558 400.453 Q683.568 397.744 680.165 397.744 M680.165 394.133 Q685.72 394.133 688.892 397.744 Q692.063 401.355 692.063 407.744 Q692.063 414.11 688.892 417.744 Q685.72 421.355 680.165 421.355 Q674.586 421.355 671.415 417.744 Q668.267 414.11 668.267 407.744 Q668.267 401.355 671.415 397.744 Q674.586 394.133 680.165 394.133 Z\" fill=\"#000000\" fill-rule=\"evenodd\" fill-opacity=\"1\" /><path clip-path=\"url(#clip5300)\" d=\"M 0 0 M694.054 394.758 L698.313 394.758 L703.637 414.99 L708.938 394.758 L713.961 394.758 L719.285 414.99 L724.586 394.758 L728.845 394.758 L722.063 420.684 L717.04 420.684 L711.461 399.434 L705.859 420.684 L700.836 420.684 L694.054 394.758 Z\" fill=\"#000000\" fill-rule=\"evenodd\" fill-opacity=\"1\" /><polyline clip-path=\"url(#clip5300)\" style=\"stroke:#c271d2; stroke-width:4; stroke-opacity:1; fill:none\" points=\"\n",
       "  370.58,463.884 605.78,463.884 \n",
       "  \"/>\n",
       "<path clip-path=\"url(#clip5300)\" d=\"M 0 0 M672.85 449.266 L672.85 454.197 Q670.489 451.998 667.804 450.91 Q665.142 449.822 662.132 449.822 Q656.207 449.822 653.058 453.456 Q649.91 457.067 649.91 463.919 Q649.91 470.747 653.058 474.382 Q656.207 477.993 662.132 477.993 Q665.142 477.993 667.804 476.905 Q670.489 475.817 672.85 473.618 L672.85 478.502 Q670.396 480.169 667.642 481.002 Q664.91 481.835 661.855 481.835 Q654.007 481.835 649.494 477.044 Q644.98 472.229 644.98 463.919 Q644.98 455.586 649.494 450.794 Q654.007 445.979 661.855 445.979 Q664.957 445.979 667.688 446.812 Q670.443 447.623 672.85 449.266 Z\" fill=\"#000000\" fill-rule=\"evenodd\" fill-opacity=\"1\" /><path clip-path=\"url(#clip5300)\" d=\"M 0 0 M677.318 445.146 L681.577 445.146 L681.577 481.164 L677.318 481.164 L677.318 445.146 Z\" fill=\"#000000\" fill-rule=\"evenodd\" fill-opacity=\"1\" /><path clip-path=\"url(#clip5300)\" d=\"M 0 0 M696.091 458.224 Q692.665 458.224 690.674 460.91 Q688.683 463.572 688.683 468.224 Q688.683 472.877 690.651 475.562 Q692.642 478.224 696.091 478.224 Q699.493 478.224 701.484 475.539 Q703.475 472.854 703.475 468.224 Q703.475 463.618 701.484 460.933 Q699.493 458.224 696.091 458.224 M696.091 454.613 Q701.646 454.613 704.817 458.224 Q707.989 461.835 707.989 468.224 Q707.989 474.59 704.817 478.224 Q701.646 481.835 696.091 481.835 Q690.512 481.835 687.341 478.224 Q684.193 474.59 684.193 468.224 Q684.193 461.835 687.341 458.224 Q690.512 454.613 696.091 454.613 Z\" fill=\"#000000\" fill-rule=\"evenodd\" fill-opacity=\"1\" /><path clip-path=\"url(#clip5300)\" d=\"M 0 0 M728.984 456.002 L728.984 460.03 Q727.178 459.104 725.234 458.641 Q723.29 458.178 721.206 458.178 Q718.035 458.178 716.438 459.15 Q714.864 460.123 714.864 462.067 Q714.864 463.548 715.998 464.405 Q717.132 465.238 720.558 466.002 L722.016 466.326 Q726.553 467.298 728.452 469.081 Q730.373 470.84 730.373 474.011 Q730.373 477.622 727.502 479.729 Q724.655 481.835 719.655 481.835 Q717.572 481.835 715.303 481.419 Q713.058 481.025 710.558 480.215 L710.558 475.817 Q712.919 477.044 715.211 477.669 Q717.503 478.271 719.748 478.271 Q722.757 478.271 724.377 477.252 Q725.998 476.21 725.998 474.335 Q725.998 472.599 724.817 471.673 Q723.66 470.747 719.702 469.891 L718.22 469.544 Q714.262 468.71 712.503 466.998 Q710.743 465.261 710.743 462.252 Q710.743 458.595 713.336 456.604 Q715.928 454.613 720.697 454.613 Q723.058 454.613 725.141 454.961 Q727.225 455.308 728.984 456.002 Z\" fill=\"#000000\" fill-rule=\"evenodd\" fill-opacity=\"1\" /><path clip-path=\"url(#clip5300)\" d=\"M 0 0 M757.016 467.136 L757.016 469.22 L737.433 469.22 Q737.711 473.618 740.072 475.933 Q742.456 478.224 746.692 478.224 Q749.146 478.224 751.438 477.622 Q753.752 477.021 756.021 475.817 L756.021 479.845 Q753.729 480.817 751.322 481.326 Q748.914 481.835 746.438 481.835 Q740.234 481.835 736.6 478.224 Q732.989 474.613 732.989 468.456 Q732.989 462.09 736.414 458.363 Q739.864 454.613 745.697 454.613 Q750.928 454.613 753.961 457.993 Q757.016 461.349 757.016 467.136 M752.757 465.886 Q752.711 462.391 750.789 460.308 Q748.891 458.224 745.743 458.224 Q742.178 458.224 740.026 460.238 Q737.896 462.252 737.572 465.91 L752.757 465.886 Z\" fill=\"#000000\" fill-rule=\"evenodd\" fill-opacity=\"1\" /><polyline clip-path=\"url(#clip5300)\" style=\"stroke:#ac8d18; stroke-width:4; stroke-opacity:1; fill:none\" points=\"\n",
       "  370.58,524.364 605.78,524.364 \n",
       "  \"/>\n",
       "<path clip-path=\"url(#clip5300)\" d=\"M 0 0 M660.813 511.691 L654.47 528.89 L667.179 528.89 L660.813 511.691 M658.174 507.084 L663.475 507.084 L676.646 541.644 L671.785 541.644 L668.637 532.778 L653.058 532.778 L649.91 541.644 L644.98 541.644 L658.174 507.084 Z\" fill=\"#000000\" fill-rule=\"evenodd\" fill-opacity=\"1\" /><path clip-path=\"url(#clip5300)\" d=\"M 0 0 M697.341 519.653 L697.341 505.626 L701.6 505.626 L701.6 541.644 L697.341 541.644 L697.341 537.755 Q695.998 540.07 693.938 541.204 Q691.901 542.315 689.03 542.315 Q684.331 542.315 681.368 538.565 Q678.429 534.815 678.429 528.704 Q678.429 522.593 681.368 518.843 Q684.331 515.093 689.03 515.093 Q691.901 515.093 693.938 516.228 Q695.998 517.339 697.341 519.653 M682.827 528.704 Q682.827 533.403 684.748 536.089 Q686.693 538.751 690.072 538.751 Q693.452 538.751 695.396 536.089 Q697.341 533.403 697.341 528.704 Q697.341 524.005 695.396 521.343 Q693.452 518.658 690.072 518.658 Q686.693 518.658 684.748 521.343 Q682.827 524.005 682.827 528.704 Z\" fill=\"#000000\" fill-rule=\"evenodd\" fill-opacity=\"1\" /><path clip-path=\"url(#clip5300)\" d=\"M 0 0 M706.067 515.718 L710.327 515.718 L710.327 542.107 Q710.327 547.061 708.429 549.283 Q706.554 551.505 702.364 551.505 L700.743 551.505 L700.743 547.894 L701.878 547.894 Q704.308 547.894 705.188 546.76 Q706.067 545.649 706.067 542.107 L706.067 515.718 M706.067 505.626 L710.327 505.626 L710.327 511.019 L706.067 511.019 L706.067 505.626 Z\" fill=\"#000000\" fill-rule=\"evenodd\" fill-opacity=\"1\" /><path clip-path=\"url(#clip5300)\" d=\"M 0 0 M755.928 509.746 L755.928 514.677 Q753.567 512.478 750.882 511.39 Q748.22 510.302 745.211 510.302 Q739.285 510.302 736.137 513.936 Q732.989 517.547 732.989 524.399 Q732.989 531.227 736.137 534.862 Q739.285 538.473 745.211 538.473 Q748.22 538.473 750.882 537.385 Q753.567 536.297 755.928 534.098 L755.928 538.982 Q753.475 540.649 750.72 541.482 Q747.988 542.315 744.933 542.315 Q737.086 542.315 732.572 537.524 Q728.058 532.709 728.058 524.399 Q728.058 516.066 732.572 511.274 Q737.086 506.459 744.933 506.459 Q748.035 506.459 750.766 507.292 Q753.521 508.103 755.928 509.746 Z\" fill=\"#000000\" fill-rule=\"evenodd\" fill-opacity=\"1\" /><path clip-path=\"url(#clip5300)\" d=\"M 0 0 M760.396 505.626 L764.655 505.626 L764.655 541.644 L760.396 541.644 L760.396 505.626 Z\" fill=\"#000000\" fill-rule=\"evenodd\" fill-opacity=\"1\" /><path clip-path=\"url(#clip5300)\" d=\"M 0 0 M779.169 518.704 Q775.743 518.704 773.752 521.39 Q771.761 524.052 771.761 528.704 Q771.761 533.357 773.729 536.042 Q775.72 538.704 779.169 538.704 Q782.572 538.704 784.562 536.019 Q786.553 533.334 786.553 528.704 Q786.553 524.098 784.562 521.413 Q782.572 518.704 779.169 518.704 M779.169 515.093 Q784.724 515.093 787.896 518.704 Q791.067 522.315 791.067 528.704 Q791.067 535.07 787.896 538.704 Q784.724 542.315 779.169 542.315 Q773.59 542.315 770.419 538.704 Q767.271 535.07 767.271 528.704 Q767.271 522.315 770.419 518.704 Q773.59 515.093 779.169 515.093 Z\" fill=\"#000000\" fill-rule=\"evenodd\" fill-opacity=\"1\" /><path clip-path=\"url(#clip5300)\" d=\"M 0 0 M812.062 516.482 L812.062 520.51 Q810.257 519.584 808.312 519.121 Q806.368 518.658 804.284 518.658 Q801.113 518.658 799.516 519.63 Q797.942 520.603 797.942 522.547 Q797.942 524.028 799.076 524.885 Q800.21 525.718 803.636 526.482 L805.095 526.806 Q809.632 527.778 811.53 529.561 Q813.451 531.32 813.451 534.491 Q813.451 538.102 810.581 540.209 Q807.734 542.315 802.734 542.315 Q800.65 542.315 798.382 541.899 Q796.136 541.505 793.636 540.695 L793.636 536.297 Q795.997 537.524 798.289 538.149 Q800.581 538.751 802.826 538.751 Q805.835 538.751 807.456 537.732 Q809.076 536.69 809.076 534.815 Q809.076 533.079 807.896 532.153 Q806.738 531.227 802.78 530.371 L801.298 530.024 Q797.34 529.19 795.581 527.478 Q793.822 525.741 793.822 522.732 Q793.822 519.075 796.414 517.084 Q799.007 515.093 803.775 515.093 Q806.136 515.093 808.22 515.441 Q810.303 515.788 812.062 516.482 Z\" fill=\"#000000\" fill-rule=\"evenodd\" fill-opacity=\"1\" /><path clip-path=\"url(#clip5300)\" d=\"M 0 0 M840.094 527.616 L840.094 529.7 L820.511 529.7 Q820.789 534.098 823.15 536.413 Q825.534 538.704 829.77 538.704 Q832.224 538.704 834.516 538.102 Q836.831 537.501 839.099 536.297 L839.099 540.325 Q836.807 541.297 834.4 541.806 Q831.993 542.315 829.516 542.315 Q823.312 542.315 819.678 538.704 Q816.067 535.093 816.067 528.936 Q816.067 522.57 819.493 518.843 Q822.942 515.093 828.775 515.093 Q834.007 515.093 837.039 518.473 Q840.094 521.829 840.094 527.616 M835.835 526.366 Q835.789 522.871 833.868 520.788 Q831.97 518.704 828.821 518.704 Q825.257 518.704 823.104 520.718 Q820.974 522.732 820.65 526.39 L835.835 526.366 Z\" fill=\"#000000\" fill-rule=\"evenodd\" fill-opacity=\"1\" /></svg>\n"
      ]
     },
     "execution_count": 48,
     "metadata": {},
     "output_type": "execute_result"
    }
   ],
   "source": [
    "using Plots\n",
    "\n",
    "rows = 1:size(df)[1]\n",
    "gr()\n",
    "plot(          dates, # x-axis: dates\n",
    "               [ df[rows,2] df[rows,3] df[rows,4] df[rows,5] df[rows,6]   ], # y-axis\n",
    "    label    = [ columns[2] columns[3] columns[4] columns[5] columns[6]]  ,\n",
    "    legend   =:topleft, \n",
    "              # :right, :left, :top, :bottom, :inside, :best, :legend, :topright, :topleft, :bottomleft, :bottomright\n",
    "    xlabel   = \"time\",\n",
    "    ylabel   = \"indicators\",\n",
    "    size     = (980, 600), # width, height\n",
    "    layout = (1, 1) # number of graphs: vertically, horizontally\n",
    "    )"
   ]
  },
  {
   "cell_type": "code",
   "execution_count": null,
   "metadata": {},
   "outputs": [],
   "source": []
  }
 ],
 "metadata": {
  "kernelspec": {
   "display_name": "Julia 1.5.0",
   "language": "julia",
   "name": "julia-1.5"
  },
  "language_info": {
   "file_extension": ".jl",
   "mimetype": "application/julia",
   "name": "julia",
   "version": "1.5.0"
  },
  "toc": {
   "base_numbering": 1,
   "nav_menu": {},
   "number_sections": false,
   "sideBar": true,
   "skip_h1_title": false,
   "title_cell": "Table of Contents",
   "title_sidebar": "Contents",
   "toc_cell": true,
   "toc_position": {},
   "toc_section_display": true,
   "toc_window_display": true
  }
 },
 "nbformat": 4,
 "nbformat_minor": 4
}
