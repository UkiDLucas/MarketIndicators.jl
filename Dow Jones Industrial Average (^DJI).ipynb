{
 "cells": [
  {
   "cell_type": "markdown",
   "metadata": {},
   "source": [
    "# Dow Jones Industrial Average (^DJI)\n",
    "\n",
    "Source\n",
    "- [Yahoo finance ^DJIA](https://finance.yahoo.com/quote/%5EDJI/history?period1=475804800&period2=1601251200&interval=1d&filter=history&frequency=1d)"
   ]
  },
  {
   "cell_type": "markdown",
   "metadata": {
    "toc": true
   },
   "source": [
    "<h1>Table of Contents<span class=\"tocSkip\"></span></h1>\n",
    "<div class=\"toc\"><ul class=\"toc-item\"><li><span><a href=\"#Dow-Jones-Industrial-Average-(^DJI)\" data-toc-modified-id=\"Dow-Jones-Industrial-Average-(^DJI)-1\">Dow Jones Industrial Average (^DJI)</a></span></li><li><span><a href=\"#Set-Up\" data-toc-modified-id=\"Set-Up-2\">Set Up</a></span></li><li><span><a href=\"#Read-Data\" data-toc-modified-id=\"Read-Data-3\">Read Data</a></span><ul class=\"toc-item\"><li><span><a href=\"#Describe-Data\" data-toc-modified-id=\"Describe-Data-3.1\">Describe Data</a></span></li><li><span><a href=\"#Sample-the-data\" data-toc-modified-id=\"Sample-the-data-3.2\">Sample the data</a></span></li><li><span><a href=\"#Number-the-columns\" data-toc-modified-id=\"Number-the-columns-3.3\">Number the columns</a></span></li></ul></li><li><span><a href=\"#Format-Dates\" data-toc-modified-id=\"Format-Dates-4\">Format Dates</a></span></li><li><span><a href=\"#Rata-Die\" data-toc-modified-id=\"Rata-Die-5\">Rata Die</a></span></li><li><span><a href=\"#Extract-only-the-desired-data\" data-toc-modified-id=\"Extract-only-the-desired-data-6\">Extract only the desired data</a></span></li><li><span><a href=\"#Draw-Plots\" data-toc-modified-id=\"Draw-Plots-7\">Draw Plots</a></span></li><li><span><a href=\"#Save-DataFrame-to-CSV-file\" data-toc-modified-id=\"Save-DataFrame-to-CSV-file-8\">Save DataFrame to CSV file</a></span></li></ul></div>"
   ]
  },
  {
   "cell_type": "markdown",
   "metadata": {},
   "source": [
    "# Set Up"
   ]
  },
  {
   "cell_type": "code",
   "execution_count": 1,
   "metadata": {},
   "outputs": [
    {
     "name": "stdout",
     "output_type": "stream",
     "text": [
      "\n"
     ]
    }
   ],
   "source": [
    "date_format = \"yyyy_mm_dd\" # 2007.04.05\n",
    "show_help = false\n",
    "include(\"MarketIndicators.jl\") "
   ]
  },
  {
   "cell_type": "markdown",
   "metadata": {},
   "source": [
    "# Read Data"
   ]
  },
  {
   "cell_type": "code",
   "execution_count": 2,
   "metadata": {},
   "outputs": [
    {
     "name": "stdout",
     "output_type": "stream",
     "text": [
      "dataset_file_name: ^DJI.csv\n",
      "data dimentions: # Read Data(8989, 7)\n"
     ]
    },
    {
     "data": {
      "text/plain": [
       "8989"
      ]
     },
     "execution_count": 2,
     "metadata": {},
     "output_type": "execute_result"
    }
   ],
   "source": [
    "#data = available_datasets()\n",
    "dataset_file_name = available_datasets()[5,2] # [row, column]\n",
    "println(\"dataset_file_name: \", dataset_file_name)\n",
    "df = fetch_dataset(dataset_file_name, date_format)\n",
    "println(\"data dimentions: # Read Data\", size(df) )\n",
    "count = size(df)[1]"
   ]
  },
  {
   "cell_type": "markdown",
   "metadata": {},
   "source": [
    "## Describe Data"
   ]
  },
  {
   "cell_type": "code",
   "execution_count": 3,
   "metadata": {},
   "outputs": [
    {
     "data": {
      "text/html": [
       "<table class=\"data-frame\"><thead><tr><th></th><th>variable</th><th>mean</th><th>min</th><th>median</th><th>max</th><th>nunique</th><th>nmissing</th><th>eltype</th></tr><tr><th></th><th>Symbol</th><th>Union…</th><th>Any</th><th>Union…</th><th>Any</th><th>Union…</th><th>Nothing</th><th>DataType</th></tr></thead><tbody><p>7 rows × 8 columns</p><tr><th>1</th><td>Date</td><td></td><td>1985-01-29</td><td></td><td>2020-09-25</td><td>8989</td><td></td><td>String</td></tr><tr><th>2</th><td>Open</td><td>10163.8</td><td>1243.71</td><td>10094.4</td><td>29440.5</td><td></td><td></td><td>Float64</td></tr><tr><th>3</th><td>High</td><td>10226.4</td><td>1251.21</td><td>10163.4</td><td>29568.6</td><td></td><td></td><td>Float64</td></tr><tr><th>4</th><td>Low</td><td>10098.9</td><td>1235.53</td><td>10020.9</td><td>29406.8</td><td></td><td></td><td>Float64</td></tr><tr><th>5</th><td>Close</td><td>10166.3</td><td>1242.05</td><td>10094.1</td><td>29551.4</td><td></td><td></td><td>Float64</td></tr><tr><th>6</th><td>Adj Close</td><td>10166.3</td><td>1242.05</td><td>10094.1</td><td>29551.4</td><td></td><td></td><td>Float64</td></tr><tr><th>7</th><td>Volume</td><td>1.45358e8</td><td>2530000</td><td>1.1142e8</td><td>2190810000</td><td></td><td></td><td>Int64</td></tr></tbody></table>"
      ],
      "text/latex": [
       "\\begin{tabular}{r|cccccccc}\n",
       "\t& variable & mean & min & median & max & nunique & nmissing & eltype\\\\\n",
       "\t\\hline\n",
       "\t& Symbol & Union… & Any & Union… & Any & Union… & Nothing & DataType\\\\\n",
       "\t\\hline\n",
       "\t1 & Date &  & 1985-01-29 &  & 2020-09-25 & 8989 &  & String \\\\\n",
       "\t2 & Open & 10163.8 & 1243.71 & 10094.4 & 29440.5 &  &  & Float64 \\\\\n",
       "\t3 & High & 10226.4 & 1251.21 & 10163.4 & 29568.6 &  &  & Float64 \\\\\n",
       "\t4 & Low & 10098.9 & 1235.53 & 10020.9 & 29406.8 &  &  & Float64 \\\\\n",
       "\t5 & Close & 10166.3 & 1242.05 & 10094.1 & 29551.4 &  &  & Float64 \\\\\n",
       "\t6 & Adj Close & 10166.3 & 1242.05 & 10094.1 & 29551.4 &  &  & Float64 \\\\\n",
       "\t7 & Volume & 1.45358e8 & 2530000 & 1.1142e8 & 2190810000 &  &  & Int64 \\\\\n",
       "\\end{tabular}\n"
      ],
      "text/plain": [
       "7×8 DataFrame. Omitted printing of 2 columns\n",
       "│ Row │ variable  │ mean      │ min        │ median   │ max        │ nunique │\n",
       "│     │ \u001b[90mSymbol\u001b[39m    │ \u001b[90mUnion…\u001b[39m    │ \u001b[90mAny\u001b[39m        │ \u001b[90mUnion…\u001b[39m   │ \u001b[90mAny\u001b[39m        │ \u001b[90mUnion…\u001b[39m  │\n",
       "├─────┼───────────┼───────────┼────────────┼──────────┼────────────┼─────────┤\n",
       "│ 1   │ Date      │           │ 1985-01-29 │          │ 2020-09-25 │ 8989    │\n",
       "│ 2   │ Open      │ 10163.8   │ 1243.71    │ 10094.4  │ 29440.5    │         │\n",
       "│ 3   │ High      │ 10226.4   │ 1251.21    │ 10163.4  │ 29568.6    │         │\n",
       "│ 4   │ Low       │ 10098.9   │ 1235.53    │ 10020.9  │ 29406.8    │         │\n",
       "│ 5   │ Close     │ 10166.3   │ 1242.05    │ 10094.1  │ 29551.4    │         │\n",
       "│ 6   │ Adj Close │ 10166.3   │ 1242.05    │ 10094.1  │ 29551.4    │         │\n",
       "│ 7   │ Volume    │ 1.45358e8 │ 2530000    │ 1.1142e8 │ 2190810000 │         │"
      ]
     },
     "execution_count": 3,
     "metadata": {},
     "output_type": "execute_result"
    }
   ],
   "source": [
    "using Statistics\n",
    "describe(df)"
   ]
  },
  {
   "cell_type": "markdown",
   "metadata": {},
   "source": [
    "## Sample the data"
   ]
  },
  {
   "cell_type": "code",
   "execution_count": 4,
   "metadata": {
    "scrolled": true
   },
   "outputs": [
    {
     "name": "stdout",
     "output_type": "stream",
     "text": [
      "21×7 DataFrame\n",
      "│ Row │ Date       │ Open    │ High    │ Low     │ Close   │ Adj Close │\n",
      "│     │ \u001b[90mString\u001b[39m     │ \u001b[90mFloat64\u001b[39m │ \u001b[90mFloat64\u001b[39m │ \u001b[90mFloat64\u001b[39m │ \u001b[90mFloat64\u001b[39m │ \u001b[90mFloat64\u001b[39m   │\n",
      "├─────┼────────────┼─────────┼─────────┼─────────┼─────────┼───────────┤\n",
      "│ 1   │ 1985-01-29 │ 1277.72 │ 1295.49 │ 1266.89 │ 1292.62 │ 1292.62   │\n",
      "│ 2   │ 1986-11-07 │ 1885.69 │ 1899.47 │ 1870.78 │ 1886.53 │ 1886.53   │\n",
      "│ 3   │ 1988-08-18 │ 2029.69 │ 2046.59 │ 2014.22 │ 2027.03 │ 2027.03   │\n",
      "│ 4   │ 1990-05-30 │ 2882.35 │ 2908.21 │ 2853.89 │ 2878.56 │ 2878.56   │\n",
      "│ 5   │ 1992-03-09 │ 3221.6  │ 3227.19 │ 3211.31 │ 3215.1  │ 3215.1    │\n",
      "│ 6   │ 1993-12-15 │ 3742.6  │ 3743.75 │ 3716.92 │ 3716.92 │ 3716.92   │\n",
      "│ 7   │ 1995-09-26 │ 4770.3  │ 4798.11 │ 4755.12 │ 4765.6  │ 4765.6    │\n",
      "│ 8   │ 1997-07-07 │ 7896.5  │ 7951.45 │ 7828.18 │ 7858.5  │ 7858.5    │\n",
      "│ 9   │ 1999-04-19 │ 10493.9 │ 10765.7 │ 10404.9 │ 10440.5 │ 10440.5   │\n",
      "│ 10  │ 2001-01-26 │ 10727.1 │ 10742.9 │ 10625.0 │ 10660.0 │ 10660.0   │\n",
      "│ 11  │ 2002-11-12 │ 8356.73 │ 8504.67 │ 8356.73 │ 8386.0  │ 8386.0    │\n",
      "│ 12  │ 2004-08-26 │ 10181.1 │ 10193.5 │ 10155.9 │ 10173.4 │ 10173.4   │\n",
      "│ 13  │ 2006-06-08 │ 10929.7 │ 10964.7 │ 10757.5 │ 10938.8 │ 10938.8   │\n",
      "│ 14  │ 2008-03-24 │ 12362.0 │ 12622.1 │ 12362.0 │ 12548.6 │ 12548.6   │\n",
      "│ 15  │ 2009-12-31 │ 10548.5 │ 10555.0 │ 10423.1 │ 10428.0 │ 10428.0   │\n",
      "│ 16  │ 2011-10-12 │ 11417.4 │ 11625.3 │ 11417.3 │ 11518.8 │ 11518.8   │\n",
      "│ 17  │ 2013-07-29 │ 15557.1 │ 15557.1 │ 15482.3 │ 15522.0 │ 15522.0   │\n",
      "│ 18  │ 2015-05-11 │ 18187.8 │ 18199.9 │ 18089.1 │ 18105.2 │ 18105.2   │\n",
      "│ 19  │ 2017-02-21 │ 20663.4 │ 20757.6 │ 20663.4 │ 20743.0 │ 20743.0   │\n",
      "│ 20  │ 2018-11-30 │ 25307.1 │ 25549.7 │ 25251.0 │ 25538.5 │ 25538.5   │\n",
      "│ 21  │ 2020-09-15 │ 28139.8 │ 28231.1 │ 27931.4 │ 27995.6 │ 27995.6   │\n",
      "\n",
      "│ Row │ Volume    │\n",
      "│     │ \u001b[90mInt64\u001b[39m     │\n",
      "├─────┼───────────┤\n",
      "│ 1   │ 13560000  │\n",
      "│ 2   │ 16640000  │\n",
      "│ 3   │ 14070000  │\n",
      "│ 4   │ 25180000  │\n",
      "│ 5   │ 16530000  │\n",
      "│ 6   │ 34310000  │\n",
      "│ 7   │ 35490000  │\n",
      "│ 8   │ 53230000  │\n",
      "│ 9   │ 145000000 │\n",
      "│ 10  │ 232990000 │\n",
      "│ 11  │ 275330000 │\n",
      "│ 12  │ 131960000 │\n",
      "│ 13  │ 442150000 │\n",
      "│ 14  │ 264320000 │\n",
      "│ 15  │ 137940000 │\n",
      "│ 16  │ 188130000 │\n",
      "│ 17  │ 87240000  │\n",
      "│ 18  │ 86050000  │\n",
      "│ 19  │ 336880000 │\n",
      "│ 20  │ 482250000 │\n",
      "│ 21  │ 414520000 │"
     ]
    }
   ],
   "source": [
    "preview_data(df)"
   ]
  },
  {
   "cell_type": "markdown",
   "metadata": {},
   "source": [
    "## Number the columns"
   ]
  },
  {
   "cell_type": "code",
   "execution_count": 5,
   "metadata": {},
   "outputs": [
    {
     "name": "stdout",
     "output_type": "stream",
     "text": [
      "1 Date\n",
      "2 Open\n",
      "3 High\n",
      "4 Low\n",
      "5 Close\n",
      "6 Adj Close\n",
      "7 Volume\n"
     ]
    }
   ],
   "source": [
    "# sample the values in the columns\n",
    "columns = names(df)\n",
    "for i in 1:length(columns)\n",
    "    println(i, \" \", columns[i])\n",
    "end"
   ]
  },
  {
   "cell_type": "markdown",
   "metadata": {},
   "source": [
    "# Format Dates"
   ]
  },
  {
   "cell_type": "code",
   "execution_count": 6,
   "metadata": {},
   "outputs": [
    {
     "data": {
      "text/plain": [
       "5-element Array{String,1}:\n",
       " \"85/129\"\n",
       " \"85/130\"\n",
       " \"85/131\"\n",
       " \"85/201\"\n",
       " \"85/204\""
      ]
     },
     "execution_count": 6,
     "metadata": {},
     "output_type": "execute_result"
    }
   ],
   "source": [
    "dates = format_dates( df[:,1] , \"yy/mdd\")\n",
    "dates[1:5]"
   ]
  },
  {
   "cell_type": "markdown",
   "metadata": {},
   "source": [
    "# Rata Die"
   ]
  },
  {
   "cell_type": "code",
   "execution_count": 7,
   "metadata": {
    "scrolled": true
   },
   "outputs": [
    {
     "data": {
      "text/html": [
       "<table class=\"data-frame\"><thead><tr><th></th><th>Rata_Die</th><th>Date</th><th>Open</th><th>High</th><th>Low</th><th>Close</th><th>Adj Close</th><th>Volume</th></tr><tr><th></th><th>Int64</th><th>String</th><th>Float64</th><th>Float64</th><th>Float64</th><th>Float64</th><th>Float64</th><th>Int64</th></tr></thead><tbody><p>6 rows × 8 columns</p><tr><th>1</th><td>31074</td><td>1985-01-29</td><td>1277.72</td><td>1295.49</td><td>1266.89</td><td>1292.62</td><td>1292.62</td><td>13560000</td></tr><tr><th>2</th><td>31075</td><td>1985-01-30</td><td>1297.37</td><td>1305.1</td><td>1278.93</td><td>1287.88</td><td>1287.88</td><td>16820000</td></tr><tr><th>3</th><td>31076</td><td>1985-01-31</td><td>1283.24</td><td>1293.4</td><td>1272.64</td><td>1286.77</td><td>1286.77</td><td>14070000</td></tr><tr><th>4</th><td>31077</td><td>1985-02-01</td><td>1276.94</td><td>1286.11</td><td>1269.77</td><td>1277.72</td><td>1277.72</td><td>10980000</td></tr><tr><th>5</th><td>31080</td><td>1985-02-04</td><td>1272.08</td><td>1294.94</td><td>1268.99</td><td>1290.08</td><td>1290.08</td><td>11630000</td></tr><tr><th>6</th><td>31081</td><td>1985-02-05</td><td>1294.06</td><td>1301.13</td><td>1278.6</td><td>1285.23</td><td>1285.23</td><td>13800000</td></tr></tbody></table>"
      ],
      "text/latex": [
       "\\begin{tabular}{r|cccccccc}\n",
       "\t& Rata\\_Die & Date & Open & High & Low & Close & Adj Close & Volume\\\\\n",
       "\t\\hline\n",
       "\t& Int64 & String & Float64 & Float64 & Float64 & Float64 & Float64 & Int64\\\\\n",
       "\t\\hline\n",
       "\t1 & 31074 & 1985-01-29 & 1277.72 & 1295.49 & 1266.89 & 1292.62 & 1292.62 & 13560000 \\\\\n",
       "\t2 & 31075 & 1985-01-30 & 1297.37 & 1305.1 & 1278.93 & 1287.88 & 1287.88 & 16820000 \\\\\n",
       "\t3 & 31076 & 1985-01-31 & 1283.24 & 1293.4 & 1272.64 & 1286.77 & 1286.77 & 14070000 \\\\\n",
       "\t4 & 31077 & 1985-02-01 & 1276.94 & 1286.11 & 1269.77 & 1277.72 & 1277.72 & 10980000 \\\\\n",
       "\t5 & 31080 & 1985-02-04 & 1272.08 & 1294.94 & 1268.99 & 1290.08 & 1290.08 & 11630000 \\\\\n",
       "\t6 & 31081 & 1985-02-05 & 1294.06 & 1301.13 & 1278.6 & 1285.23 & 1285.23 & 13800000 \\\\\n",
       "\\end{tabular}\n"
      ],
      "text/plain": [
       "6×8 DataFrame. Omitted printing of 2 columns\n",
       "│ Row │ Rata_Die │ Date       │ Open    │ High    │ Low     │ Close   │\n",
       "│     │ \u001b[90mInt64\u001b[39m    │ \u001b[90mString\u001b[39m     │ \u001b[90mFloat64\u001b[39m │ \u001b[90mFloat64\u001b[39m │ \u001b[90mFloat64\u001b[39m │ \u001b[90mFloat64\u001b[39m │\n",
       "├─────┼──────────┼────────────┼─────────┼─────────┼─────────┼─────────┤\n",
       "│ 1   │ 31074    │ 1985-01-29 │ 1277.72 │ 1295.49 │ 1266.89 │ 1292.62 │\n",
       "│ 2   │ 31075    │ 1985-01-30 │ 1297.37 │ 1305.1  │ 1278.93 │ 1287.88 │\n",
       "│ 3   │ 31076    │ 1985-01-31 │ 1283.24 │ 1293.4  │ 1272.64 │ 1286.77 │\n",
       "│ 4   │ 31077    │ 1985-02-01 │ 1276.94 │ 1286.11 │ 1269.77 │ 1277.72 │\n",
       "│ 5   │ 31080    │ 1985-02-04 │ 1272.08 │ 1294.94 │ 1268.99 │ 1290.08 │\n",
       "│ 6   │ 31081    │ 1985-02-05 │ 1294.06 │ 1301.13 │ 1278.6  │ 1285.23 │"
      ]
     },
     "execution_count": 7,
     "metadata": {},
     "output_type": "execute_result"
    }
   ],
   "source": [
    "insert!(df, 1, zeros(Int64, 8989), :Rata_Die)\n",
    "update_rata_die!(df, 1, 2)\n",
    "first(df, 6)"
   ]
  },
  {
   "cell_type": "code",
   "execution_count": 8,
   "metadata": {},
   "outputs": [
    {
     "name": "stdout",
     "output_type": "stream",
     "text": [
      "1 Rata_Die\n",
      "2 Date\n",
      "3 Open\n",
      "4 High\n",
      "5 Low\n",
      "6 Close\n",
      "7 Adj Close\n",
      "8 Volume\n"
     ]
    }
   ],
   "source": [
    "# sample the values in the columns\n",
    "columns = names(df)\n",
    "for i in 1:length(columns)\n",
    "    println(i, \" \", columns[i])\n",
    "end"
   ]
  },
  {
   "cell_type": "markdown",
   "metadata": {},
   "source": [
    "# Draw Plots"
   ]
  },
  {
   "cell_type": "code",
   "execution_count": 9,
   "metadata": {},
   "outputs": [
    {
     "data": {
      "image/svg+xml": [
       "<?xml version=\"1.0\" encoding=\"utf-8\"?>\n",
       "<svg xmlns=\"http://www.w3.org/2000/svg\" xmlns:xlink=\"http://www.w3.org/1999/xlink\" width=\"980\" height=\"400\" viewBox=\"0 0 3920 1600\">\n",
       "<defs>\n",
       "  <clipPath id=\"clip8600\">\n",
       "    <rect x=\"0\" y=\"0\" width=\"3920\" height=\"1600\"/>\n",
       "  </clipPath>\n",
       "</defs>\n",
       "<path clip-path=\"url(#clip8600)\" d=\"\n",
       "M0 1600 L3920 1600 L3920 0 L0 0  Z\n",
       "  \" fill=\"#ffffff\" fill-rule=\"evenodd\" fill-opacity=\"1\"/>\n",
       "<defs>\n",
       "  <clipPath id=\"clip8601\">\n",
       "    <rect x=\"784\" y=\"0\" width=\"2745\" height=\"1600\"/>\n",
       "  </clipPath>\n",
       "</defs>\n",
       "<path clip-path=\"url(#clip8600)\" d=\"\n",
       "M280.746 1423.18 L3872.76 1423.18 L3872.76 47.2441 L280.746 47.2441  Z\n",
       "  \" fill=\"#ffffff\" fill-rule=\"evenodd\" fill-opacity=\"1\"/>\n",
       "<defs>\n",
       "  <clipPath id=\"clip8602\">\n",
       "    <rect x=\"280\" y=\"47\" width=\"3593\" height=\"1377\"/>\n",
       "  </clipPath>\n",
       "</defs>\n",
       "<polyline clip-path=\"url(#clip8602)\" style=\"stroke:#000000; stroke-width:2; stroke-opacity:0.1; fill:none\" points=\"\n",
       "  382.406,1423.18 382.406,47.2441 \n",
       "  \"/>\n",
       "<polyline clip-path=\"url(#clip8602)\" style=\"stroke:#000000; stroke-width:2; stroke-opacity:0.1; fill:none\" points=\"\n",
       "  627.145,1423.18 627.145,47.2441 \n",
       "  \"/>\n",
       "<polyline clip-path=\"url(#clip8602)\" style=\"stroke:#000000; stroke-width:2; stroke-opacity:0.1; fill:none\" points=\"\n",
       "  871.884,1423.18 871.884,47.2441 \n",
       "  \"/>\n",
       "<polyline clip-path=\"url(#clip8602)\" style=\"stroke:#000000; stroke-width:2; stroke-opacity:0.1; fill:none\" points=\"\n",
       "  1116.62,1423.18 1116.62,47.2441 \n",
       "  \"/>\n",
       "<polyline clip-path=\"url(#clip8602)\" style=\"stroke:#000000; stroke-width:2; stroke-opacity:0.1; fill:none\" points=\"\n",
       "  1342.53,1423.18 1342.53,47.2441 \n",
       "  \"/>\n",
       "<polyline clip-path=\"url(#clip8602)\" style=\"stroke:#000000; stroke-width:2; stroke-opacity:0.1; fill:none\" points=\"\n",
       "  1587.27,1423.18 1587.27,47.2441 \n",
       "  \"/>\n",
       "<polyline clip-path=\"url(#clip8602)\" style=\"stroke:#000000; stroke-width:2; stroke-opacity:0.1; fill:none\" points=\"\n",
       "  1832.01,1423.18 1832.01,47.2441 \n",
       "  \"/>\n",
       "<polyline clip-path=\"url(#clip8602)\" style=\"stroke:#000000; stroke-width:2; stroke-opacity:0.1; fill:none\" points=\"\n",
       "  2076.75,1423.18 2076.75,47.2441 \n",
       "  \"/>\n",
       "<polyline clip-path=\"url(#clip8602)\" style=\"stroke:#000000; stroke-width:2; stroke-opacity:0.1; fill:none\" points=\"\n",
       "  2321.49,1423.18 2321.49,47.2441 \n",
       "  \"/>\n",
       "<polyline clip-path=\"url(#clip8602)\" style=\"stroke:#000000; stroke-width:2; stroke-opacity:0.1; fill:none\" points=\"\n",
       "  2566.23,1423.18 2566.23,47.2441 \n",
       "  \"/>\n",
       "<polyline clip-path=\"url(#clip8602)\" style=\"stroke:#000000; stroke-width:2; stroke-opacity:0.1; fill:none\" points=\"\n",
       "  2810.97,1423.18 2810.97,47.2441 \n",
       "  \"/>\n",
       "<polyline clip-path=\"url(#clip8602)\" style=\"stroke:#000000; stroke-width:2; stroke-opacity:0.1; fill:none\" points=\"\n",
       "  3036.88,1423.18 3036.88,47.2441 \n",
       "  \"/>\n",
       "<polyline clip-path=\"url(#clip8602)\" style=\"stroke:#000000; stroke-width:2; stroke-opacity:0.1; fill:none\" points=\"\n",
       "  3281.62,1423.18 3281.62,47.2441 \n",
       "  \"/>\n",
       "<polyline clip-path=\"url(#clip8602)\" style=\"stroke:#000000; stroke-width:2; stroke-opacity:0.1; fill:none\" points=\"\n",
       "  3526.36,1423.18 3526.36,47.2441 \n",
       "  \"/>\n",
       "<polyline clip-path=\"url(#clip8602)\" style=\"stroke:#000000; stroke-width:2; stroke-opacity:0.1; fill:none\" points=\"\n",
       "  3771.1,1423.18 3771.1,47.2441 \n",
       "  \"/>\n",
       "<polyline clip-path=\"url(#clip8602)\" style=\"stroke:#000000; stroke-width:2; stroke-opacity:0.1; fill:none\" points=\"\n",
       "  280.746,1275.03 3872.76,1275.03 \n",
       "  \"/>\n",
       "<polyline clip-path=\"url(#clip8602)\" style=\"stroke:#000000; stroke-width:2; stroke-opacity:0.1; fill:none\" points=\"\n",
       "  280.746,1026.54 3872.76,1026.54 \n",
       "  \"/>\n",
       "<polyline clip-path=\"url(#clip8602)\" style=\"stroke:#000000; stroke-width:2; stroke-opacity:0.1; fill:none\" points=\"\n",
       "  280.746,778.05 3872.76,778.05 \n",
       "  \"/>\n",
       "<polyline clip-path=\"url(#clip8602)\" style=\"stroke:#000000; stroke-width:2; stroke-opacity:0.1; fill:none\" points=\"\n",
       "  280.746,529.561 3872.76,529.561 \n",
       "  \"/>\n",
       "<polyline clip-path=\"url(#clip8602)\" style=\"stroke:#000000; stroke-width:2; stroke-opacity:0.1; fill:none\" points=\"\n",
       "  280.746,281.072 3872.76,281.072 \n",
       "  \"/>\n",
       "<polyline clip-path=\"url(#clip8600)\" style=\"stroke:#000000; stroke-width:4; stroke-opacity:1; fill:none\" points=\"\n",
       "  280.746,1423.18 3872.76,1423.18 \n",
       "  \"/>\n",
       "<polyline clip-path=\"url(#clip8600)\" style=\"stroke:#000000; stroke-width:4; stroke-opacity:1; fill:none\" points=\"\n",
       "  280.746,1423.18 280.746,47.2441 \n",
       "  \"/>\n",
       "<polyline clip-path=\"url(#clip8600)\" style=\"stroke:#000000; stroke-width:4; stroke-opacity:1; fill:none\" points=\"\n",
       "  382.406,1423.18 382.406,1406.67 \n",
       "  \"/>\n",
       "<polyline clip-path=\"url(#clip8600)\" style=\"stroke:#000000; stroke-width:4; stroke-opacity:1; fill:none\" points=\"\n",
       "  627.145,1423.18 627.145,1406.67 \n",
       "  \"/>\n",
       "<polyline clip-path=\"url(#clip8600)\" style=\"stroke:#000000; stroke-width:4; stroke-opacity:1; fill:none\" points=\"\n",
       "  871.884,1423.18 871.884,1406.67 \n",
       "  \"/>\n",
       "<polyline clip-path=\"url(#clip8600)\" style=\"stroke:#000000; stroke-width:4; stroke-opacity:1; fill:none\" points=\"\n",
       "  1116.62,1423.18 1116.62,1406.67 \n",
       "  \"/>\n",
       "<polyline clip-path=\"url(#clip8600)\" style=\"stroke:#000000; stroke-width:4; stroke-opacity:1; fill:none\" points=\"\n",
       "  1342.53,1423.18 1342.53,1406.67 \n",
       "  \"/>\n",
       "<polyline clip-path=\"url(#clip8600)\" style=\"stroke:#000000; stroke-width:4; stroke-opacity:1; fill:none\" points=\"\n",
       "  1587.27,1423.18 1587.27,1406.67 \n",
       "  \"/>\n",
       "<polyline clip-path=\"url(#clip8600)\" style=\"stroke:#000000; stroke-width:4; stroke-opacity:1; fill:none\" points=\"\n",
       "  1832.01,1423.18 1832.01,1406.67 \n",
       "  \"/>\n",
       "<polyline clip-path=\"url(#clip8600)\" style=\"stroke:#000000; stroke-width:4; stroke-opacity:1; fill:none\" points=\"\n",
       "  2076.75,1423.18 2076.75,1406.67 \n",
       "  \"/>\n",
       "<polyline clip-path=\"url(#clip8600)\" style=\"stroke:#000000; stroke-width:4; stroke-opacity:1; fill:none\" points=\"\n",
       "  2321.49,1423.18 2321.49,1406.67 \n",
       "  \"/>\n",
       "<polyline clip-path=\"url(#clip8600)\" style=\"stroke:#000000; stroke-width:4; stroke-opacity:1; fill:none\" points=\"\n",
       "  2566.23,1423.18 2566.23,1406.67 \n",
       "  \"/>\n",
       "<polyline clip-path=\"url(#clip8600)\" style=\"stroke:#000000; stroke-width:4; stroke-opacity:1; fill:none\" points=\"\n",
       "  2810.97,1423.18 2810.97,1406.67 \n",
       "  \"/>\n",
       "<polyline clip-path=\"url(#clip8600)\" style=\"stroke:#000000; stroke-width:4; stroke-opacity:1; fill:none\" points=\"\n",
       "  3036.88,1423.18 3036.88,1406.67 \n",
       "  \"/>\n",
       "<polyline clip-path=\"url(#clip8600)\" style=\"stroke:#000000; stroke-width:4; stroke-opacity:1; fill:none\" points=\"\n",
       "  3281.62,1423.18 3281.62,1406.67 \n",
       "  \"/>\n",
       "<polyline clip-path=\"url(#clip8600)\" style=\"stroke:#000000; stroke-width:4; stroke-opacity:1; fill:none\" points=\"\n",
       "  3526.36,1423.18 3526.36,1406.67 \n",
       "  \"/>\n",
       "<polyline clip-path=\"url(#clip8600)\" style=\"stroke:#000000; stroke-width:4; stroke-opacity:1; fill:none\" points=\"\n",
       "  3771.1,1423.18 3771.1,1406.67 \n",
       "  \"/>\n",
       "<polyline clip-path=\"url(#clip8600)\" style=\"stroke:#000000; stroke-width:4; stroke-opacity:1; fill:none\" points=\"\n",
       "  280.746,1275.03 323.85,1275.03 \n",
       "  \"/>\n",
       "<polyline clip-path=\"url(#clip8600)\" style=\"stroke:#000000; stroke-width:4; stroke-opacity:1; fill:none\" points=\"\n",
       "  280.746,1026.54 323.85,1026.54 \n",
       "  \"/>\n",
       "<polyline clip-path=\"url(#clip8600)\" style=\"stroke:#000000; stroke-width:4; stroke-opacity:1; fill:none\" points=\"\n",
       "  280.746,778.05 323.85,778.05 \n",
       "  \"/>\n",
       "<polyline clip-path=\"url(#clip8600)\" style=\"stroke:#000000; stroke-width:4; stroke-opacity:1; fill:none\" points=\"\n",
       "  280.746,529.561 323.85,529.561 \n",
       "  \"/>\n",
       "<polyline clip-path=\"url(#clip8600)\" style=\"stroke:#000000; stroke-width:4; stroke-opacity:1; fill:none\" points=\"\n",
       "  280.746,281.072 323.85,281.072 \n",
       "  \"/>\n",
       "<path clip-path=\"url(#clip8600)\" d=\"M 0 0 M315.752 1480.32 L332.071 1480.32 L332.071 1484.25 L310.127 1484.25 L310.127 1480.32 Q312.789 1477.56 317.372 1472.93 Q321.978 1468.28 323.159 1466.94 Q325.404 1464.41 326.284 1462.68 Q327.187 1460.92 327.187 1459.23 Q327.187 1456.47 325.242 1454.74 Q323.321 1453 320.219 1453 Q318.02 1453 315.566 1453.77 Q313.136 1454.53 310.358 1456.08 L310.358 1451.36 Q313.182 1450.22 315.636 1449.65 Q318.089 1449.07 320.126 1449.07 Q325.497 1449.07 328.691 1451.75 Q331.886 1454.44 331.886 1458.93 Q331.886 1461.06 331.075 1462.98 Q330.288 1464.88 328.182 1467.47 Q327.603 1468.14 324.501 1471.36 Q321.4 1474.55 315.752 1480.32 Z\" fill=\"#000000\" fill-rule=\"evenodd\" fill-opacity=\"1\" /><path clip-path=\"url(#clip8600)\" d=\"M 0 0 M347.14 1452.77 Q343.529 1452.77 341.7 1456.34 Q339.895 1459.88 339.895 1467.01 Q339.895 1474.11 341.7 1477.68 Q343.529 1481.22 347.14 1481.22 Q350.774 1481.22 352.58 1477.68 Q354.409 1474.11 354.409 1467.01 Q354.409 1459.88 352.58 1456.34 Q350.774 1452.77 347.14 1452.77 M347.14 1449.07 Q352.95 1449.07 356.006 1453.67 Q359.085 1458.26 359.085 1467.01 Q359.085 1475.73 356.006 1480.34 Q352.95 1484.92 347.14 1484.92 Q341.33 1484.92 338.251 1480.34 Q335.196 1475.73 335.196 1467.01 Q335.196 1458.26 338.251 1453.67 Q341.33 1449.07 347.14 1449.07 Z\" fill=\"#000000\" fill-rule=\"evenodd\" fill-opacity=\"1\" /><path clip-path=\"url(#clip8600)\" d=\"M 0 0 M371.122 1449.69 L375.057 1449.69 L363.02 1488.65 L359.085 1488.65 L371.122 1449.69 Z\" fill=\"#000000\" fill-rule=\"evenodd\" fill-opacity=\"1\" /><path clip-path=\"url(#clip8600)\" d=\"M 0 0 M380.936 1480.32 L388.575 1480.32 L388.575 1453.95 L380.265 1455.62 L380.265 1451.36 L388.529 1449.69 L393.205 1449.69 L393.205 1480.32 L400.844 1480.32 L400.844 1484.25 L380.936 1484.25 L380.936 1480.32 Z\" fill=\"#000000\" fill-rule=\"evenodd\" fill-opacity=\"1\" /><path clip-path=\"url(#clip8600)\" d=\"M 0 0 M415.913 1452.77 Q412.302 1452.77 410.473 1456.34 Q408.668 1459.88 408.668 1467.01 Q408.668 1474.11 410.473 1477.68 Q412.302 1481.22 415.913 1481.22 Q419.547 1481.22 421.353 1477.68 Q423.181 1474.11 423.181 1467.01 Q423.181 1459.88 421.353 1456.34 Q419.547 1452.77 415.913 1452.77 M415.913 1449.07 Q421.723 1449.07 424.779 1453.67 Q427.857 1458.26 427.857 1467.01 Q427.857 1475.73 424.779 1480.34 Q421.723 1484.92 415.913 1484.92 Q410.103 1484.92 407.024 1480.34 Q403.969 1475.73 403.969 1467.01 Q403.969 1458.26 407.024 1453.67 Q410.103 1449.07 415.913 1449.07 Z\" fill=\"#000000\" fill-rule=\"evenodd\" fill-opacity=\"1\" /><path clip-path=\"url(#clip8600)\" d=\"M 0 0 M433.066 1483.53 L433.066 1479.28 Q434.825 1480.11 436.63 1480.55 Q438.436 1480.99 440.172 1480.99 Q444.802 1480.99 447.232 1477.89 Q449.686 1474.76 450.033 1468.42 Q448.691 1470.41 446.63 1471.47 Q444.57 1472.54 442.07 1472.54 Q436.885 1472.54 433.853 1469.41 Q430.843 1466.27 430.843 1460.83 Q430.843 1455.5 433.992 1452.28 Q437.14 1449.07 442.371 1449.07 Q448.367 1449.07 451.515 1453.67 Q454.686 1458.26 454.686 1467.01 Q454.686 1475.18 450.797 1480.06 Q446.931 1484.92 440.38 1484.92 Q438.621 1484.92 436.816 1484.58 Q435.01 1484.23 433.066 1483.53 M442.371 1468.88 Q445.519 1468.88 447.348 1466.73 Q449.2 1464.58 449.2 1460.83 Q449.2 1457.1 447.348 1454.95 Q445.519 1452.77 442.371 1452.77 Q439.223 1452.77 437.371 1454.95 Q435.543 1457.1 435.543 1460.83 Q435.543 1464.58 437.371 1466.73 Q439.223 1468.88 442.371 1468.88 Z\" fill=\"#000000\" fill-rule=\"evenodd\" fill-opacity=\"1\" /><path clip-path=\"url(#clip8600)\" d=\"M 0 0 M561.289 1480.32 L577.608 1480.32 L577.608 1484.25 L555.664 1484.25 L555.664 1480.32 Q558.326 1477.56 562.909 1472.93 Q567.516 1468.28 568.696 1466.94 Q570.941 1464.41 571.821 1462.68 Q572.724 1460.92 572.724 1459.23 Q572.724 1456.47 570.779 1454.74 Q568.858 1453 565.756 1453 Q563.557 1453 561.104 1453.77 Q558.673 1454.53 555.895 1456.08 L555.895 1451.36 Q558.719 1450.22 561.173 1449.65 Q563.627 1449.07 565.664 1449.07 Q571.034 1449.07 574.229 1451.75 Q577.423 1454.44 577.423 1458.93 Q577.423 1461.06 576.613 1462.98 Q575.826 1464.88 573.719 1467.47 Q573.141 1468.14 570.039 1471.36 Q566.937 1474.55 561.289 1480.32 Z\" fill=\"#000000\" fill-rule=\"evenodd\" fill-opacity=\"1\" /><path clip-path=\"url(#clip8600)\" d=\"M 0 0 M592.677 1452.77 Q589.066 1452.77 587.238 1456.34 Q585.432 1459.88 585.432 1467.01 Q585.432 1474.11 587.238 1477.68 Q589.066 1481.22 592.677 1481.22 Q596.312 1481.22 598.117 1477.68 Q599.946 1474.11 599.946 1467.01 Q599.946 1459.88 598.117 1456.34 Q596.312 1452.77 592.677 1452.77 M592.677 1449.07 Q598.488 1449.07 601.543 1453.67 Q604.622 1458.26 604.622 1467.01 Q604.622 1475.73 601.543 1480.34 Q598.488 1484.92 592.677 1484.92 Q586.867 1484.92 583.789 1480.34 Q580.733 1475.73 580.733 1467.01 Q580.733 1458.26 583.789 1453.67 Q586.867 1449.07 592.677 1449.07 Z\" fill=\"#000000\" fill-rule=\"evenodd\" fill-opacity=\"1\" /><path clip-path=\"url(#clip8600)\" d=\"M 0 0 M616.659 1449.69 L620.594 1449.69 L608.557 1488.65 L604.622 1488.65 L616.659 1449.69 Z\" fill=\"#000000\" fill-rule=\"evenodd\" fill-opacity=\"1\" /><path clip-path=\"url(#clip8600)\" d=\"M 0 0 M626.474 1480.32 L634.112 1480.32 L634.112 1453.95 L625.802 1455.62 L625.802 1451.36 L634.066 1449.69 L638.742 1449.69 L638.742 1480.32 L646.381 1480.32 L646.381 1484.25 L626.474 1484.25 L626.474 1480.32 Z\" fill=\"#000000\" fill-rule=\"evenodd\" fill-opacity=\"1\" /><path clip-path=\"url(#clip8600)\" d=\"M 0 0 M655.478 1480.32 L671.797 1480.32 L671.797 1484.25 L649.853 1484.25 L649.853 1480.32 Q652.515 1477.56 657.098 1472.93 Q661.705 1468.28 662.885 1466.94 Q665.131 1464.41 666.01 1462.68 Q666.913 1460.92 666.913 1459.23 Q666.913 1456.47 664.969 1454.74 Q663.047 1453 659.946 1453 Q657.747 1453 655.293 1453.77 Q652.862 1454.53 650.085 1456.08 L650.085 1451.36 Q652.909 1450.22 655.362 1449.65 Q657.816 1449.07 659.853 1449.07 Q665.223 1449.07 668.418 1451.75 Q671.612 1454.44 671.612 1458.93 Q671.612 1461.06 670.802 1462.98 Q670.015 1464.88 667.909 1467.47 Q667.33 1468.14 664.228 1471.36 Q661.126 1474.55 655.478 1480.32 Z\" fill=\"#000000\" fill-rule=\"evenodd\" fill-opacity=\"1\" /><path clip-path=\"url(#clip8600)\" d=\"M 0 0 M677.006 1483.53 L677.006 1479.28 Q678.765 1480.11 680.571 1480.55 Q682.376 1480.99 684.112 1480.99 Q688.742 1480.99 691.172 1477.89 Q693.626 1474.76 693.973 1468.42 Q692.631 1470.41 690.57 1471.47 Q688.51 1472.54 686.01 1472.54 Q680.825 1472.54 677.793 1469.41 Q674.784 1466.27 674.784 1460.83 Q674.784 1455.5 677.932 1452.28 Q681.08 1449.07 686.311 1449.07 Q692.307 1449.07 695.455 1453.67 Q698.626 1458.26 698.626 1467.01 Q698.626 1475.18 694.737 1480.06 Q690.871 1484.92 684.321 1484.92 Q682.561 1484.92 680.756 1484.58 Q678.95 1484.23 677.006 1483.53 M686.311 1468.88 Q689.459 1468.88 691.288 1466.73 Q693.14 1464.58 693.14 1460.83 Q693.14 1457.1 691.288 1454.95 Q689.459 1452.77 686.311 1452.77 Q683.163 1452.77 681.311 1454.95 Q679.483 1457.1 679.483 1460.83 Q679.483 1464.58 681.311 1466.73 Q683.163 1468.88 686.311 1468.88 Z\" fill=\"#000000\" fill-rule=\"evenodd\" fill-opacity=\"1\" /><path clip-path=\"url(#clip8600)\" d=\"M 0 0 M805.981 1480.32 L822.3 1480.32 L822.3 1484.25 L800.356 1484.25 L800.356 1480.32 Q803.018 1477.56 807.601 1472.93 Q812.208 1468.28 813.388 1466.94 Q815.634 1464.41 816.513 1462.68 Q817.416 1460.92 817.416 1459.23 Q817.416 1456.47 815.472 1454.74 Q813.551 1453 810.449 1453 Q808.25 1453 805.796 1453.77 Q803.365 1454.53 800.588 1456.08 L800.588 1451.36 Q803.412 1450.22 805.865 1449.65 Q808.319 1449.07 810.356 1449.07 Q815.726 1449.07 818.921 1451.75 Q822.115 1454.44 822.115 1458.93 Q822.115 1461.06 821.305 1462.98 Q820.518 1464.88 818.412 1467.47 Q817.833 1468.14 814.731 1471.36 Q811.629 1474.55 805.981 1480.32 Z\" fill=\"#000000\" fill-rule=\"evenodd\" fill-opacity=\"1\" /><path clip-path=\"url(#clip8600)\" d=\"M 0 0 M837.37 1452.77 Q833.759 1452.77 831.93 1456.34 Q830.125 1459.88 830.125 1467.01 Q830.125 1474.11 831.93 1477.68 Q833.759 1481.22 837.37 1481.22 Q841.004 1481.22 842.81 1477.68 Q844.638 1474.11 844.638 1467.01 Q844.638 1459.88 842.81 1456.34 Q841.004 1452.77 837.37 1452.77 M837.37 1449.07 Q843.18 1449.07 846.236 1453.67 Q849.314 1458.26 849.314 1467.01 Q849.314 1475.73 846.236 1480.34 Q843.18 1484.92 837.37 1484.92 Q831.56 1484.92 828.481 1480.34 Q825.425 1475.73 825.425 1467.01 Q825.425 1458.26 828.481 1453.67 Q831.56 1449.07 837.37 1449.07 Z\" fill=\"#000000\" fill-rule=\"evenodd\" fill-opacity=\"1\" /><path clip-path=\"url(#clip8600)\" d=\"M 0 0 M861.351 1449.69 L865.286 1449.69 L853.249 1488.65 L849.314 1488.65 L861.351 1449.69 Z\" fill=\"#000000\" fill-rule=\"evenodd\" fill-opacity=\"1\" /><path clip-path=\"url(#clip8600)\" d=\"M 0 0 M874.384 1480.32 L890.703 1480.32 L890.703 1484.25 L868.759 1484.25 L868.759 1480.32 Q871.421 1477.56 876.004 1472.93 Q880.61 1468.28 881.791 1466.94 Q884.036 1464.41 884.916 1462.68 Q885.819 1460.92 885.819 1459.23 Q885.819 1456.47 883.874 1454.74 Q881.953 1453 878.851 1453 Q876.652 1453 874.198 1453.77 Q871.768 1454.53 868.99 1456.08 L868.99 1451.36 Q871.814 1450.22 874.268 1449.65 Q876.721 1449.07 878.759 1449.07 Q884.129 1449.07 887.323 1451.75 Q890.518 1454.44 890.518 1458.93 Q890.518 1461.06 889.708 1462.98 Q888.92 1464.88 886.814 1467.47 Q886.235 1468.14 883.133 1471.36 Q880.032 1474.55 874.384 1480.32 Z\" fill=\"#000000\" fill-rule=\"evenodd\" fill-opacity=\"1\" /><path clip-path=\"url(#clip8600)\" d=\"M 0 0 M896.582 1480.32 L904.221 1480.32 L904.221 1453.95 L895.911 1455.62 L895.911 1451.36 L904.175 1449.69 L908.851 1449.69 L908.851 1480.32 L916.49 1480.32 L916.49 1484.25 L896.582 1484.25 L896.582 1480.32 Z\" fill=\"#000000\" fill-rule=\"evenodd\" fill-opacity=\"1\" /><path clip-path=\"url(#clip8600)\" d=\"M 0 0 M931.559 1467.84 Q928.226 1467.84 926.305 1469.62 Q924.406 1471.4 924.406 1474.53 Q924.406 1477.65 926.305 1479.44 Q928.226 1481.22 931.559 1481.22 Q934.892 1481.22 936.814 1479.44 Q938.735 1477.63 938.735 1474.53 Q938.735 1471.4 936.814 1469.62 Q934.916 1467.84 931.559 1467.84 M926.883 1465.85 Q923.874 1465.11 922.184 1463.05 Q920.518 1460.99 920.518 1458.03 Q920.518 1453.88 923.457 1451.47 Q926.42 1449.07 931.559 1449.07 Q936.721 1449.07 939.661 1451.47 Q942.601 1453.88 942.601 1458.03 Q942.601 1460.99 940.911 1463.05 Q939.244 1465.11 936.258 1465.85 Q939.638 1466.64 941.513 1468.93 Q943.411 1471.22 943.411 1474.53 Q943.411 1479.55 940.332 1482.24 Q937.277 1484.92 931.559 1484.92 Q925.842 1484.92 922.763 1482.24 Q919.707 1479.55 919.707 1474.53 Q919.707 1471.22 921.605 1468.93 Q923.504 1466.64 926.883 1465.85 M925.17 1458.46 Q925.17 1461.15 926.837 1462.65 Q928.527 1464.16 931.559 1464.16 Q934.568 1464.16 936.258 1462.65 Q937.971 1461.15 937.971 1458.46 Q937.971 1455.78 936.258 1454.28 Q934.568 1452.77 931.559 1452.77 Q928.527 1452.77 926.837 1454.28 Q925.17 1455.78 925.17 1458.46 Z\" fill=\"#000000\" fill-rule=\"evenodd\" fill-opacity=\"1\" /><path clip-path=\"url(#clip8600)\" d=\"M 0 0 M1049.5 1480.32 L1065.82 1480.32 L1065.82 1484.25 L1043.88 1484.25 L1043.88 1480.32 Q1046.54 1477.56 1051.12 1472.93 Q1055.73 1468.28 1056.91 1466.94 Q1059.16 1464.41 1060.04 1462.68 Q1060.94 1460.92 1060.94 1459.23 Q1060.94 1456.47 1059 1454.74 Q1057.07 1453 1053.97 1453 Q1051.77 1453 1049.32 1453.77 Q1046.89 1454.53 1044.11 1456.08 L1044.11 1451.36 Q1046.94 1450.22 1049.39 1449.65 Q1051.84 1449.07 1053.88 1449.07 Q1059.25 1449.07 1062.44 1451.75 Q1065.64 1454.44 1065.64 1458.93 Q1065.64 1461.06 1064.83 1462.98 Q1064.04 1464.88 1061.93 1467.47 Q1061.36 1468.14 1058.25 1471.36 Q1055.15 1474.55 1049.5 1480.32 Z\" fill=\"#000000\" fill-rule=\"evenodd\" fill-opacity=\"1\" /><path clip-path=\"url(#clip8600)\" d=\"M 0 0 M1080.89 1452.77 Q1077.28 1452.77 1075.45 1456.34 Q1073.65 1459.88 1073.65 1467.01 Q1073.65 1474.11 1075.45 1477.68 Q1077.28 1481.22 1080.89 1481.22 Q1084.53 1481.22 1086.33 1477.68 Q1088.16 1474.11 1088.16 1467.01 Q1088.16 1459.88 1086.33 1456.34 Q1084.53 1452.77 1080.89 1452.77 M1080.89 1449.07 Q1086.7 1449.07 1089.76 1453.67 Q1092.84 1458.26 1092.84 1467.01 Q1092.84 1475.73 1089.76 1480.34 Q1086.7 1484.92 1080.89 1484.92 Q1075.08 1484.92 1072 1480.34 Q1068.95 1475.73 1068.95 1467.01 Q1068.95 1458.26 1072 1453.67 Q1075.08 1449.07 1080.89 1449.07 Z\" fill=\"#000000\" fill-rule=\"evenodd\" fill-opacity=\"1\" /><path clip-path=\"url(#clip8600)\" d=\"M 0 0 M1104.87 1449.69 L1108.81 1449.69 L1096.77 1488.65 L1092.84 1488.65 L1104.87 1449.69 Z\" fill=\"#000000\" fill-rule=\"evenodd\" fill-opacity=\"1\" /><path clip-path=\"url(#clip8600)\" d=\"M 0 0 M1128.05 1465.62 Q1131.4 1466.34 1133.28 1468.6 Q1135.18 1470.87 1135.18 1474.21 Q1135.18 1479.32 1131.66 1482.12 Q1128.14 1484.92 1121.66 1484.92 Q1119.48 1484.92 1117.17 1484.48 Q1114.87 1484.07 1112.42 1483.21 L1112.42 1478.7 Q1114.37 1479.83 1116.68 1480.41 Q1118.99 1480.99 1121.52 1480.99 Q1125.92 1480.99 1128.21 1479.25 Q1130.52 1477.52 1130.52 1474.21 Q1130.52 1471.15 1128.37 1469.44 Q1126.24 1467.7 1122.42 1467.7 L1118.39 1467.7 L1118.39 1463.86 L1122.61 1463.86 Q1126.06 1463.86 1127.88 1462.49 Q1129.71 1461.1 1129.71 1458.51 Q1129.71 1455.85 1127.81 1454.44 Q1125.94 1453 1122.42 1453 Q1120.5 1453 1118.3 1453.42 Q1116.1 1453.84 1113.46 1454.71 L1113.46 1450.55 Q1116.12 1449.81 1118.44 1449.44 Q1120.78 1449.07 1122.84 1449.07 Q1128.16 1449.07 1131.26 1451.5 Q1134.37 1453.9 1134.37 1458.03 Q1134.37 1460.9 1132.72 1462.89 Q1131.08 1464.85 1128.05 1465.62 Z\" fill=\"#000000\" fill-rule=\"evenodd\" fill-opacity=\"1\" /><path clip-path=\"url(#clip8600)\" d=\"M 0 0 M1150.24 1452.77 Q1146.63 1452.77 1144.8 1456.34 Q1143 1459.88 1143 1467.01 Q1143 1474.11 1144.8 1477.68 Q1146.63 1481.22 1150.24 1481.22 Q1153.88 1481.22 1155.68 1477.68 Q1157.51 1474.11 1157.51 1467.01 Q1157.51 1459.88 1155.68 1456.34 Q1153.88 1452.77 1150.24 1452.77 M1150.24 1449.07 Q1156.05 1449.07 1159.11 1453.67 Q1162.19 1458.26 1162.19 1467.01 Q1162.19 1475.73 1159.11 1480.34 Q1156.05 1484.92 1150.24 1484.92 Q1144.43 1484.92 1141.36 1480.34 Q1138.3 1475.73 1138.3 1467.01 Q1138.3 1458.26 1141.36 1453.67 Q1144.43 1449.07 1150.24 1449.07 Z\" fill=\"#000000\" fill-rule=\"evenodd\" fill-opacity=\"1\" /><path clip-path=\"url(#clip8600)\" d=\"M 0 0 M1177.84 1465.11 Q1174.69 1465.11 1172.84 1467.26 Q1171.01 1469.41 1171.01 1473.16 Q1171.01 1476.89 1172.84 1479.07 Q1174.69 1481.22 1177.84 1481.22 Q1180.99 1481.22 1182.81 1479.07 Q1184.67 1476.89 1184.67 1473.16 Q1184.67 1469.41 1182.81 1467.26 Q1180.99 1465.11 1177.84 1465.11 M1187.12 1450.46 L1187.12 1454.71 Q1185.36 1453.88 1183.55 1453.44 Q1181.77 1453 1180.01 1453 Q1175.38 1453 1172.93 1456.13 Q1170.5 1459.25 1170.15 1465.57 Q1171.52 1463.56 1173.58 1462.49 Q1175.64 1461.4 1178.11 1461.4 Q1183.32 1461.4 1186.33 1464.58 Q1189.36 1467.72 1189.36 1473.16 Q1189.36 1478.49 1186.22 1481.71 Q1183.07 1484.92 1177.84 1484.92 Q1171.84 1484.92 1168.67 1480.34 Q1165.5 1475.73 1165.5 1467.01 Q1165.5 1458.81 1169.39 1453.95 Q1173.28 1449.07 1179.83 1449.07 Q1181.59 1449.07 1183.37 1449.41 Q1185.18 1449.76 1187.12 1450.46 Z\" fill=\"#000000\" fill-rule=\"evenodd\" fill-opacity=\"1\" /><path clip-path=\"url(#clip8600)\" d=\"M 0 0 M1276.05 1480.32 L1292.37 1480.32 L1292.37 1484.25 L1270.43 1484.25 L1270.43 1480.32 Q1273.09 1477.56 1277.67 1472.93 Q1282.28 1468.28 1283.46 1466.94 Q1285.71 1464.41 1286.59 1462.68 Q1287.49 1460.92 1287.49 1459.23 Q1287.49 1456.47 1285.54 1454.74 Q1283.62 1453 1280.52 1453 Q1278.32 1453 1275.87 1453.77 Q1273.44 1454.53 1270.66 1456.08 L1270.66 1451.36 Q1273.48 1450.22 1275.94 1449.65 Q1278.39 1449.07 1280.43 1449.07 Q1285.8 1449.07 1288.99 1451.75 Q1292.19 1454.44 1292.19 1458.93 Q1292.19 1461.06 1291.38 1462.98 Q1290.59 1464.88 1288.48 1467.47 Q1287.91 1468.14 1284.8 1471.36 Q1281.7 1474.55 1276.05 1480.32 Z\" fill=\"#000000\" fill-rule=\"evenodd\" fill-opacity=\"1\" /><path clip-path=\"url(#clip8600)\" d=\"M 0 0 M1307.44 1452.77 Q1303.83 1452.77 1302 1456.34 Q1300.2 1459.88 1300.2 1467.01 Q1300.2 1474.11 1302 1477.68 Q1303.83 1481.22 1307.44 1481.22 Q1311.08 1481.22 1312.88 1477.68 Q1314.71 1474.11 1314.71 1467.01 Q1314.71 1459.88 1312.88 1456.34 Q1311.08 1452.77 1307.44 1452.77 M1307.44 1449.07 Q1313.25 1449.07 1316.31 1453.67 Q1319.39 1458.26 1319.39 1467.01 Q1319.39 1475.73 1316.31 1480.34 Q1313.25 1484.92 1307.44 1484.92 Q1301.63 1484.92 1298.55 1480.34 Q1295.5 1475.73 1295.5 1467.01 Q1295.5 1458.26 1298.55 1453.67 Q1301.63 1449.07 1307.44 1449.07 Z\" fill=\"#000000\" fill-rule=\"evenodd\" fill-opacity=\"1\" /><path clip-path=\"url(#clip8600)\" d=\"M 0 0 M1331.42 1449.69 L1335.36 1449.69 L1323.32 1488.65 L1319.39 1488.65 L1331.42 1449.69 Z\" fill=\"#000000\" fill-rule=\"evenodd\" fill-opacity=\"1\" /><path clip-path=\"url(#clip8600)\" d=\"M 0 0 M1354.59 1465.62 Q1357.95 1466.34 1359.83 1468.6 Q1361.72 1470.87 1361.72 1474.21 Q1361.72 1479.32 1358.21 1482.12 Q1354.69 1484.92 1348.21 1484.92 Q1346.03 1484.92 1343.72 1484.48 Q1341.42 1484.07 1338.97 1483.21 L1338.97 1478.7 Q1340.91 1479.83 1343.23 1480.41 Q1345.54 1480.99 1348.07 1480.99 Q1352.47 1480.99 1354.76 1479.25 Q1357.07 1477.52 1357.07 1474.21 Q1357.07 1471.15 1354.92 1469.44 Q1352.79 1467.7 1348.97 1467.7 L1344.94 1467.7 L1344.94 1463.86 L1349.16 1463.86 Q1352.6 1463.86 1354.43 1462.49 Q1356.26 1461.1 1356.26 1458.51 Q1356.26 1455.85 1354.36 1454.44 Q1352.49 1453 1348.97 1453 Q1347.05 1453 1344.85 1453.42 Q1342.65 1453.84 1340.01 1454.71 L1340.01 1450.55 Q1342.67 1449.81 1344.99 1449.44 Q1347.33 1449.07 1349.39 1449.07 Q1354.71 1449.07 1357.81 1451.5 Q1360.91 1453.9 1360.91 1458.03 Q1360.91 1460.9 1359.27 1462.89 Q1357.63 1464.85 1354.59 1465.62 Z\" fill=\"#000000\" fill-rule=\"evenodd\" fill-opacity=\"1\" /><path clip-path=\"url(#clip8600)\" d=\"M 0 0 M1370.82 1480.32 L1387.14 1480.32 L1387.14 1484.25 L1365.2 1484.25 L1365.2 1480.32 Q1367.86 1477.56 1372.44 1472.93 Q1377.05 1468.28 1378.23 1466.94 Q1380.47 1464.41 1381.35 1462.68 Q1382.26 1460.92 1382.26 1459.23 Q1382.26 1456.47 1380.31 1454.74 Q1378.39 1453 1375.29 1453 Q1373.09 1453 1370.64 1453.77 Q1368.21 1454.53 1365.43 1456.08 L1365.43 1451.36 Q1368.25 1450.22 1370.71 1449.65 Q1373.16 1449.07 1375.2 1449.07 Q1380.57 1449.07 1383.76 1451.75 Q1386.96 1454.44 1386.96 1458.93 Q1386.96 1461.06 1386.15 1462.98 Q1385.36 1464.88 1383.25 1467.47 Q1382.67 1468.14 1379.57 1471.36 Q1376.47 1474.55 1370.82 1480.32 Z\" fill=\"#000000\" fill-rule=\"evenodd\" fill-opacity=\"1\" /><path clip-path=\"url(#clip8600)\" d=\"M 0 0 M1405.06 1453.77 L1393.25 1472.21 L1405.06 1472.21 L1405.06 1453.77 M1403.83 1449.69 L1409.71 1449.69 L1409.71 1472.21 L1414.64 1472.21 L1414.64 1476.1 L1409.71 1476.1 L1409.71 1484.25 L1405.06 1484.25 L1405.06 1476.1 L1389.46 1476.1 L1389.46 1471.59 L1403.83 1449.69 Z\" fill=\"#000000\" fill-rule=\"evenodd\" fill-opacity=\"1\" /><path clip-path=\"url(#clip8600)\" d=\"M 0 0 M1520.61 1480.32 L1536.93 1480.32 L1536.93 1484.25 L1514.98 1484.25 L1514.98 1480.32 Q1517.64 1477.56 1522.23 1472.93 Q1526.83 1468.28 1528.01 1466.94 Q1530.26 1464.41 1531.14 1462.68 Q1532.04 1460.92 1532.04 1459.23 Q1532.04 1456.47 1530.1 1454.74 Q1528.18 1453 1525.07 1453 Q1522.88 1453 1520.42 1453.77 Q1517.99 1454.53 1515.21 1456.08 L1515.21 1451.36 Q1518.04 1450.22 1520.49 1449.65 Q1522.95 1449.07 1524.98 1449.07 Q1530.35 1449.07 1533.55 1451.75 Q1536.74 1454.44 1536.74 1458.93 Q1536.74 1461.06 1535.93 1462.98 Q1535.14 1464.88 1533.04 1467.47 Q1532.46 1468.14 1529.36 1471.36 Q1526.26 1474.55 1520.61 1480.32 Z\" fill=\"#000000\" fill-rule=\"evenodd\" fill-opacity=\"1\" /><path clip-path=\"url(#clip8600)\" d=\"M 0 0 M1552 1452.77 Q1548.38 1452.77 1546.56 1456.34 Q1544.75 1459.88 1544.75 1467.01 Q1544.75 1474.11 1546.56 1477.68 Q1548.38 1481.22 1552 1481.22 Q1555.63 1481.22 1557.44 1477.68 Q1559.26 1474.11 1559.26 1467.01 Q1559.26 1459.88 1557.44 1456.34 Q1555.63 1452.77 1552 1452.77 M1552 1449.07 Q1557.81 1449.07 1560.86 1453.67 Q1563.94 1458.26 1563.94 1467.01 Q1563.94 1475.73 1560.86 1480.34 Q1557.81 1484.92 1552 1484.92 Q1546.19 1484.92 1543.11 1480.34 Q1540.05 1475.73 1540.05 1467.01 Q1540.05 1458.26 1543.11 1453.67 Q1546.19 1449.07 1552 1449.07 Z\" fill=\"#000000\" fill-rule=\"evenodd\" fill-opacity=\"1\" /><path clip-path=\"url(#clip8600)\" d=\"M 0 0 M1575.98 1449.69 L1579.91 1449.69 L1567.88 1488.65 L1563.94 1488.65 L1575.98 1449.69 Z\" fill=\"#000000\" fill-rule=\"evenodd\" fill-opacity=\"1\" /><path clip-path=\"url(#clip8600)\" d=\"M 0 0 M1597.83 1453.77 L1586.02 1472.21 L1597.83 1472.21 L1597.83 1453.77 M1596.6 1449.69 L1602.48 1449.69 L1602.48 1472.21 L1607.41 1472.21 L1607.41 1476.1 L1602.48 1476.1 L1602.48 1484.25 L1597.83 1484.25 L1597.83 1476.1 L1582.23 1476.1 L1582.23 1471.59 L1596.6 1449.69 Z\" fill=\"#000000\" fill-rule=\"evenodd\" fill-opacity=\"1\" /><path clip-path=\"url(#clip8600)\" d=\"M 0 0 M1613.29 1480.32 L1620.93 1480.32 L1620.93 1453.95 L1612.62 1455.62 L1612.62 1451.36 L1620.88 1449.69 L1625.56 1449.69 L1625.56 1480.32 L1633.2 1480.32 L1633.2 1484.25 L1613.29 1484.25 L1613.29 1480.32 Z\" fill=\"#000000\" fill-rule=\"evenodd\" fill-opacity=\"1\" /><path clip-path=\"url(#clip8600)\" d=\"M 0 0 M1652.44 1465.62 Q1655.79 1466.34 1657.67 1468.6 Q1659.56 1470.87 1659.56 1474.21 Q1659.56 1479.32 1656.05 1482.12 Q1652.53 1484.92 1646.05 1484.92 Q1643.87 1484.92 1641.56 1484.48 Q1639.26 1484.07 1636.81 1483.21 L1636.81 1478.7 Q1638.75 1479.83 1641.07 1480.41 Q1643.38 1480.99 1645.91 1480.99 Q1650.31 1480.99 1652.6 1479.25 Q1654.91 1477.52 1654.91 1474.21 Q1654.91 1471.15 1652.76 1469.44 Q1650.63 1467.7 1646.81 1467.7 L1642.78 1467.7 L1642.78 1463.86 L1647 1463.86 Q1650.44 1463.86 1652.27 1462.49 Q1654.1 1461.1 1654.1 1458.51 Q1654.1 1455.85 1652.2 1454.44 Q1650.33 1453 1646.81 1453 Q1644.89 1453 1642.69 1453.42 Q1640.49 1453.84 1637.85 1454.71 L1637.85 1450.55 Q1640.51 1449.81 1642.83 1449.44 Q1645.17 1449.07 1647.23 1449.07 Q1652.55 1449.07 1655.65 1451.5 Q1658.75 1453.9 1658.75 1458.03 Q1658.75 1460.9 1657.11 1462.89 Q1655.47 1464.85 1652.44 1465.62 Z\" fill=\"#000000\" fill-rule=\"evenodd\" fill-opacity=\"1\" /><path clip-path=\"url(#clip8600)\" d=\"M 0 0 M1764.73 1480.32 L1781.05 1480.32 L1781.05 1484.25 L1759.11 1484.25 L1759.11 1480.32 Q1761.77 1477.56 1766.35 1472.93 Q1770.96 1468.28 1772.14 1466.94 Q1774.39 1464.41 1775.26 1462.68 Q1776.17 1460.92 1776.17 1459.23 Q1776.17 1456.47 1774.22 1454.74 Q1772.3 1453 1769.2 1453 Q1767 1453 1764.55 1453.77 Q1762.12 1454.53 1759.34 1456.08 L1759.34 1451.36 Q1762.16 1450.22 1764.62 1449.65 Q1767.07 1449.07 1769.11 1449.07 Q1774.48 1449.07 1777.67 1451.75 Q1780.87 1454.44 1780.87 1458.93 Q1780.87 1461.06 1780.06 1462.98 Q1779.27 1464.88 1777.16 1467.47 Q1776.58 1468.14 1773.48 1471.36 Q1770.38 1474.55 1764.73 1480.32 Z\" fill=\"#000000\" fill-rule=\"evenodd\" fill-opacity=\"1\" /><path clip-path=\"url(#clip8600)\" d=\"M 0 0 M1796.12 1452.77 Q1792.51 1452.77 1790.68 1456.34 Q1788.88 1459.88 1788.88 1467.01 Q1788.88 1474.11 1790.68 1477.68 Q1792.51 1481.22 1796.12 1481.22 Q1799.76 1481.22 1801.56 1477.68 Q1803.39 1474.11 1803.39 1467.01 Q1803.39 1459.88 1801.56 1456.34 Q1799.76 1452.77 1796.12 1452.77 M1796.12 1449.07 Q1801.93 1449.07 1804.99 1453.67 Q1808.07 1458.26 1808.07 1467.01 Q1808.07 1475.73 1804.99 1480.34 Q1801.93 1484.92 1796.12 1484.92 Q1790.31 1484.92 1787.23 1480.34 Q1784.18 1475.73 1784.18 1467.01 Q1784.18 1458.26 1787.23 1453.67 Q1790.31 1449.07 1796.12 1449.07 Z\" fill=\"#000000\" fill-rule=\"evenodd\" fill-opacity=\"1\" /><path clip-path=\"url(#clip8600)\" d=\"M 0 0 M1820.1 1449.69 L1824.04 1449.69 L1812 1488.65 L1808.07 1488.65 L1820.1 1449.69 Z\" fill=\"#000000\" fill-rule=\"evenodd\" fill-opacity=\"1\" /><path clip-path=\"url(#clip8600)\" d=\"M 0 0 M1841.95 1453.77 L1830.15 1472.21 L1841.95 1472.21 L1841.95 1453.77 M1840.73 1449.69 L1846.61 1449.69 L1846.61 1472.21 L1851.54 1472.21 L1851.54 1476.1 L1846.61 1476.1 L1846.61 1484.25 L1841.95 1484.25 L1841.95 1476.1 L1826.35 1476.1 L1826.35 1471.59 L1840.73 1449.69 Z\" fill=\"#000000\" fill-rule=\"evenodd\" fill-opacity=\"1\" /><path clip-path=\"url(#clip8600)\" d=\"M 0 0 M1870.77 1465.62 Q1874.13 1466.34 1876 1468.6 Q1877.9 1470.87 1877.9 1474.21 Q1877.9 1479.32 1874.38 1482.12 Q1870.87 1484.92 1864.38 1484.92 Q1862.21 1484.92 1859.89 1484.48 Q1857.6 1484.07 1855.15 1483.21 L1855.15 1478.7 Q1857.09 1479.83 1859.41 1480.41 Q1861.72 1480.99 1864.25 1480.99 Q1868.64 1480.99 1870.94 1479.25 Q1873.25 1477.52 1873.25 1474.21 Q1873.25 1471.15 1871.1 1469.44 Q1868.97 1467.7 1865.15 1467.7 L1861.12 1467.7 L1861.12 1463.86 L1865.33 1463.86 Q1868.78 1463.86 1870.61 1462.49 Q1872.44 1461.1 1872.44 1458.51 Q1872.44 1455.85 1870.54 1454.44 Q1868.67 1453 1865.15 1453 Q1863.23 1453 1861.03 1453.42 Q1858.83 1453.84 1856.19 1454.71 L1856.19 1450.55 Q1858.85 1449.81 1861.17 1449.44 Q1863.5 1449.07 1865.57 1449.07 Q1870.89 1449.07 1873.99 1451.5 Q1877.09 1453.9 1877.09 1458.03 Q1877.09 1460.9 1875.45 1462.89 Q1873.81 1464.85 1870.77 1465.62 Z\" fill=\"#000000\" fill-rule=\"evenodd\" fill-opacity=\"1\" /><path clip-path=\"url(#clip8600)\" d=\"M 0 0 M1892.97 1452.77 Q1889.36 1452.77 1887.53 1456.34 Q1885.73 1459.88 1885.73 1467.01 Q1885.73 1474.11 1887.53 1477.68 Q1889.36 1481.22 1892.97 1481.22 Q1896.61 1481.22 1898.41 1477.68 Q1900.24 1474.11 1900.24 1467.01 Q1900.24 1459.88 1898.41 1456.34 Q1896.61 1452.77 1892.97 1452.77 M1892.97 1449.07 Q1898.78 1449.07 1901.84 1453.67 Q1904.92 1458.26 1904.92 1467.01 Q1904.92 1475.73 1901.84 1480.34 Q1898.78 1484.92 1892.97 1484.92 Q1887.16 1484.92 1884.08 1480.34 Q1881.03 1475.73 1881.03 1467.01 Q1881.03 1458.26 1884.08 1453.67 Q1887.16 1449.07 1892.97 1449.07 Z\" fill=\"#000000\" fill-rule=\"evenodd\" fill-opacity=\"1\" /><path clip-path=\"url(#clip8600)\" d=\"M 0 0 M2010.59 1480.32 L2026.91 1480.32 L2026.91 1484.25 L2004.97 1484.25 L2004.97 1480.32 Q2007.63 1477.56 2012.21 1472.93 Q2016.82 1468.28 2018 1466.94 Q2020.25 1464.41 2021.13 1462.68 Q2022.03 1460.92 2022.03 1459.23 Q2022.03 1456.47 2020.08 1454.74 Q2018.16 1453 2015.06 1453 Q2012.86 1453 2010.41 1453.77 Q2007.98 1454.53 2005.2 1456.08 L2005.2 1451.36 Q2008.02 1450.22 2010.48 1449.65 Q2012.93 1449.07 2014.97 1449.07 Q2020.34 1449.07 2023.53 1451.75 Q2026.73 1454.44 2026.73 1458.93 Q2026.73 1461.06 2025.92 1462.98 Q2025.13 1464.88 2023.02 1467.47 Q2022.45 1468.14 2019.34 1471.36 Q2016.24 1474.55 2010.59 1480.32 Z\" fill=\"#000000\" fill-rule=\"evenodd\" fill-opacity=\"1\" /><path clip-path=\"url(#clip8600)\" d=\"M 0 0 M2041.98 1452.77 Q2038.37 1452.77 2036.54 1456.34 Q2034.74 1459.88 2034.74 1467.01 Q2034.74 1474.11 2036.54 1477.68 Q2038.37 1481.22 2041.98 1481.22 Q2045.62 1481.22 2047.42 1477.68 Q2049.25 1474.11 2049.25 1467.01 Q2049.25 1459.88 2047.42 1456.34 Q2045.62 1452.77 2041.98 1452.77 M2041.98 1449.07 Q2047.79 1449.07 2050.85 1453.67 Q2053.93 1458.26 2053.93 1467.01 Q2053.93 1475.73 2050.85 1480.34 Q2047.79 1484.92 2041.98 1484.92 Q2036.17 1484.92 2033.09 1480.34 Q2030.04 1475.73 2030.04 1467.01 Q2030.04 1458.26 2033.09 1453.67 Q2036.17 1449.07 2041.98 1449.07 Z\" fill=\"#000000\" fill-rule=\"evenodd\" fill-opacity=\"1\" /><path clip-path=\"url(#clip8600)\" d=\"M 0 0 M2065.96 1449.69 L2069.9 1449.69 L2057.86 1488.65 L2053.93 1488.65 L2065.96 1449.69 Z\" fill=\"#000000\" fill-rule=\"evenodd\" fill-opacity=\"1\" /><path clip-path=\"url(#clip8600)\" d=\"M 0 0 M2075.01 1449.69 L2093.37 1449.69 L2093.37 1453.63 L2079.3 1453.63 L2079.3 1462.1 Q2080.32 1461.75 2081.33 1461.59 Q2082.35 1461.4 2083.37 1461.4 Q2089.16 1461.4 2092.54 1464.58 Q2095.92 1467.75 2095.92 1473.16 Q2095.92 1478.74 2092.45 1481.84 Q2088.97 1484.92 2082.65 1484.92 Q2080.48 1484.92 2078.21 1484.55 Q2075.96 1484.18 2073.56 1483.44 L2073.56 1478.74 Q2075.64 1479.88 2077.86 1480.43 Q2080.08 1480.99 2082.56 1480.99 Q2086.57 1480.99 2088.9 1478.88 Q2091.24 1476.78 2091.24 1473.16 Q2091.24 1469.55 2088.9 1467.45 Q2086.57 1465.34 2082.56 1465.34 Q2080.69 1465.34 2078.81 1465.76 Q2076.96 1466.17 2075.01 1467.05 L2075.01 1449.69 Z\" fill=\"#000000\" fill-rule=\"evenodd\" fill-opacity=\"1\" /><path clip-path=\"url(#clip8600)\" d=\"M 0 0 M2101.8 1480.32 L2109.44 1480.32 L2109.44 1453.95 L2101.13 1455.62 L2101.13 1451.36 L2109.39 1449.69 L2114.07 1449.69 L2114.07 1480.32 L2121.7 1480.32 L2121.7 1484.25 L2101.8 1484.25 L2101.8 1480.32 Z\" fill=\"#000000\" fill-rule=\"evenodd\" fill-opacity=\"1\" /><path clip-path=\"url(#clip8600)\" d=\"M 0 0 M2126.91 1483.53 L2126.91 1479.28 Q2128.67 1480.11 2130.48 1480.55 Q2132.28 1480.99 2134.02 1480.99 Q2138.65 1480.99 2141.08 1477.89 Q2143.53 1474.76 2143.88 1468.42 Q2142.54 1470.41 2140.48 1471.47 Q2138.42 1472.54 2135.92 1472.54 Q2130.73 1472.54 2127.7 1469.41 Q2124.69 1466.27 2124.69 1460.83 Q2124.69 1455.5 2127.84 1452.28 Q2130.99 1449.07 2136.22 1449.07 Q2142.21 1449.07 2145.36 1453.67 Q2148.53 1458.26 2148.53 1467.01 Q2148.53 1475.18 2144.64 1480.06 Q2140.78 1484.92 2134.23 1484.92 Q2132.47 1484.92 2130.66 1484.58 Q2128.86 1484.23 2126.91 1483.53 M2136.22 1468.88 Q2139.37 1468.88 2141.19 1466.73 Q2143.05 1464.58 2143.05 1460.83 Q2143.05 1457.1 2141.19 1454.95 Q2139.37 1452.77 2136.22 1452.77 Q2133.07 1452.77 2131.22 1454.95 Q2129.39 1457.1 2129.39 1460.83 Q2129.39 1464.58 2131.22 1466.73 Q2133.07 1468.88 2136.22 1468.88 Z\" fill=\"#000000\" fill-rule=\"evenodd\" fill-opacity=\"1\" /><path clip-path=\"url(#clip8600)\" d=\"M 0 0 M2254.09 1480.32 L2270.41 1480.32 L2270.41 1484.25 L2248.47 1484.25 L2248.47 1480.32 Q2251.13 1477.56 2255.71 1472.93 Q2260.32 1468.28 2261.5 1466.94 Q2263.75 1464.41 2264.63 1462.68 Q2265.53 1460.92 2265.53 1459.23 Q2265.53 1456.47 2263.58 1454.74 Q2261.66 1453 2258.56 1453 Q2256.36 1453 2253.91 1453.77 Q2251.48 1454.53 2248.7 1456.08 L2248.7 1451.36 Q2251.52 1450.22 2253.98 1449.65 Q2256.43 1449.07 2258.47 1449.07 Q2263.84 1449.07 2267.03 1451.75 Q2270.23 1454.44 2270.23 1458.93 Q2270.23 1461.06 2269.42 1462.98 Q2268.63 1464.88 2266.52 1467.47 Q2265.95 1468.14 2262.84 1471.36 Q2259.74 1474.55 2254.09 1480.32 Z\" fill=\"#000000\" fill-rule=\"evenodd\" fill-opacity=\"1\" /><path clip-path=\"url(#clip8600)\" d=\"M 0 0 M2285.48 1452.77 Q2281.87 1452.77 2280.04 1456.34 Q2278.24 1459.88 2278.24 1467.01 Q2278.24 1474.11 2280.04 1477.68 Q2281.87 1481.22 2285.48 1481.22 Q2289.12 1481.22 2290.92 1477.68 Q2292.75 1474.11 2292.75 1467.01 Q2292.75 1459.88 2290.92 1456.34 Q2289.12 1452.77 2285.48 1452.77 M2285.48 1449.07 Q2291.29 1449.07 2294.35 1453.67 Q2297.43 1458.26 2297.43 1467.01 Q2297.43 1475.73 2294.35 1480.34 Q2291.29 1484.92 2285.48 1484.92 Q2279.67 1484.92 2276.59 1480.34 Q2273.54 1475.73 2273.54 1467.01 Q2273.54 1458.26 2276.59 1453.67 Q2279.67 1449.07 2285.48 1449.07 Z\" fill=\"#000000\" fill-rule=\"evenodd\" fill-opacity=\"1\" /><path clip-path=\"url(#clip8600)\" d=\"M 0 0 M2309.46 1449.69 L2313.4 1449.69 L2301.36 1488.65 L2297.43 1488.65 L2309.46 1449.69 Z\" fill=\"#000000\" fill-rule=\"evenodd\" fill-opacity=\"1\" /><path clip-path=\"url(#clip8600)\" d=\"M 0 0 M2329.05 1465.11 Q2325.9 1465.11 2324.05 1467.26 Q2322.22 1469.41 2322.22 1473.16 Q2322.22 1476.89 2324.05 1479.07 Q2325.9 1481.22 2329.05 1481.22 Q2332.2 1481.22 2334.02 1479.07 Q2335.88 1476.89 2335.88 1473.16 Q2335.88 1469.41 2334.02 1467.26 Q2332.2 1465.11 2329.05 1465.11 M2338.33 1450.46 L2338.33 1454.71 Q2336.57 1453.88 2334.76 1453.44 Q2332.98 1453 2331.22 1453 Q2326.59 1453 2324.14 1456.13 Q2321.71 1459.25 2321.36 1465.57 Q2322.73 1463.56 2324.79 1462.49 Q2326.85 1461.4 2329.32 1461.4 Q2334.53 1461.4 2337.54 1464.58 Q2340.57 1467.72 2340.57 1473.16 Q2340.57 1478.49 2337.43 1481.71 Q2334.28 1484.92 2329.05 1484.92 Q2323.05 1484.92 2319.88 1480.34 Q2316.71 1475.73 2316.71 1467.01 Q2316.71 1458.81 2320.6 1453.95 Q2324.49 1449.07 2331.04 1449.07 Q2332.8 1449.07 2334.58 1449.41 Q2336.39 1449.76 2338.33 1450.46 Z\" fill=\"#000000\" fill-rule=\"evenodd\" fill-opacity=\"1\" /><path clip-path=\"url(#clip8600)\" d=\"M 0 0 M2355.64 1452.77 Q2352.03 1452.77 2350.2 1456.34 Q2348.4 1459.88 2348.4 1467.01 Q2348.4 1474.11 2350.2 1477.68 Q2352.03 1481.22 2355.64 1481.22 Q2359.28 1481.22 2361.08 1477.68 Q2362.91 1474.11 2362.91 1467.01 Q2362.91 1459.88 2361.08 1456.34 Q2359.28 1452.77 2355.64 1452.77 M2355.64 1449.07 Q2361.45 1449.07 2364.51 1453.67 Q2367.59 1458.26 2367.59 1467.01 Q2367.59 1475.73 2364.51 1480.34 Q2361.45 1484.92 2355.64 1484.92 Q2349.83 1484.92 2346.76 1480.34 Q2343.7 1475.73 2343.7 1467.01 Q2343.7 1458.26 2346.76 1453.67 Q2349.83 1449.07 2355.64 1449.07 Z\" fill=\"#000000\" fill-rule=\"evenodd\" fill-opacity=\"1\" /><path clip-path=\"url(#clip8600)\" d=\"M 0 0 M2382.66 1467.84 Q2379.32 1467.84 2377.4 1469.62 Q2375.51 1471.4 2375.51 1474.53 Q2375.51 1477.65 2377.4 1479.44 Q2379.32 1481.22 2382.66 1481.22 Q2385.99 1481.22 2387.91 1479.44 Q2389.83 1477.63 2389.83 1474.53 Q2389.83 1471.4 2387.91 1469.62 Q2386.01 1467.84 2382.66 1467.84 M2377.98 1465.85 Q2374.97 1465.11 2373.28 1463.05 Q2371.62 1460.99 2371.62 1458.03 Q2371.62 1453.88 2374.56 1451.47 Q2377.52 1449.07 2382.66 1449.07 Q2387.82 1449.07 2390.76 1451.47 Q2393.7 1453.88 2393.7 1458.03 Q2393.7 1460.99 2392.01 1463.05 Q2390.34 1465.11 2387.36 1465.85 Q2390.74 1466.64 2392.61 1468.93 Q2394.51 1471.22 2394.51 1474.53 Q2394.51 1479.55 2391.43 1482.24 Q2388.38 1484.92 2382.66 1484.92 Q2376.94 1484.92 2373.86 1482.24 Q2370.81 1479.55 2370.81 1474.53 Q2370.81 1471.22 2372.7 1468.93 Q2374.6 1466.64 2377.98 1465.85 M2376.27 1458.46 Q2376.27 1461.15 2377.94 1462.65 Q2379.63 1464.16 2382.66 1464.16 Q2385.67 1464.16 2387.36 1462.65 Q2389.07 1461.15 2389.07 1458.46 Q2389.07 1455.78 2387.36 1454.28 Q2385.67 1452.77 2382.66 1452.77 Q2379.63 1452.77 2377.94 1454.28 Q2376.27 1455.78 2376.27 1458.46 Z\" fill=\"#000000\" fill-rule=\"evenodd\" fill-opacity=\"1\" /><path clip-path=\"url(#clip8600)\" d=\"M 0 0 M2500.08 1480.32 L2516.4 1480.32 L2516.4 1484.25 L2494.46 1484.25 L2494.46 1480.32 Q2497.12 1477.56 2501.7 1472.93 Q2506.31 1468.28 2507.49 1466.94 Q2509.74 1464.41 2510.61 1462.68 Q2511.52 1460.92 2511.52 1459.23 Q2511.52 1456.47 2509.57 1454.74 Q2507.65 1453 2504.55 1453 Q2502.35 1453 2499.9 1453.77 Q2497.47 1454.53 2494.69 1456.08 L2494.69 1451.36 Q2497.51 1450.22 2499.97 1449.65 Q2502.42 1449.07 2504.46 1449.07 Q2509.83 1449.07 2513.02 1451.75 Q2516.22 1454.44 2516.22 1458.93 Q2516.22 1461.06 2515.41 1462.98 Q2514.62 1464.88 2512.51 1467.47 Q2511.93 1468.14 2508.83 1471.36 Q2505.73 1474.55 2500.08 1480.32 Z\" fill=\"#000000\" fill-rule=\"evenodd\" fill-opacity=\"1\" /><path clip-path=\"url(#clip8600)\" d=\"M 0 0 M2531.47 1452.77 Q2527.86 1452.77 2526.03 1456.34 Q2524.23 1459.88 2524.23 1467.01 Q2524.23 1474.11 2526.03 1477.68 Q2527.86 1481.22 2531.47 1481.22 Q2535.11 1481.22 2536.91 1477.68 Q2538.74 1474.11 2538.74 1467.01 Q2538.74 1459.88 2536.91 1456.34 Q2535.11 1452.77 2531.47 1452.77 M2531.47 1449.07 Q2537.28 1449.07 2540.34 1453.67 Q2543.42 1458.26 2543.42 1467.01 Q2543.42 1475.73 2540.34 1480.34 Q2537.28 1484.92 2531.47 1484.92 Q2525.66 1484.92 2522.58 1480.34 Q2519.53 1475.73 2519.53 1467.01 Q2519.53 1458.26 2522.58 1453.67 Q2525.66 1449.07 2531.47 1449.07 Z\" fill=\"#000000\" fill-rule=\"evenodd\" fill-opacity=\"1\" /><path clip-path=\"url(#clip8600)\" d=\"M 0 0 M2555.45 1449.69 L2559.39 1449.69 L2547.35 1488.65 L2543.42 1488.65 L2555.45 1449.69 Z\" fill=\"#000000\" fill-rule=\"evenodd\" fill-opacity=\"1\" /><path clip-path=\"url(#clip8600)\" d=\"M 0 0 M2575.04 1465.11 Q2571.89 1465.11 2570.04 1467.26 Q2568.21 1469.41 2568.21 1473.16 Q2568.21 1476.89 2570.04 1479.07 Q2571.89 1481.22 2575.04 1481.22 Q2578.18 1481.22 2580.01 1479.07 Q2581.86 1476.89 2581.86 1473.16 Q2581.86 1469.41 2580.01 1467.26 Q2578.18 1465.11 2575.04 1465.11 M2584.32 1450.46 L2584.32 1454.71 Q2582.56 1453.88 2580.75 1453.44 Q2578.97 1453 2577.21 1453 Q2572.58 1453 2570.13 1456.13 Q2567.7 1459.25 2567.35 1465.57 Q2568.72 1463.56 2570.78 1462.49 Q2572.84 1461.4 2575.31 1461.4 Q2580.52 1461.4 2583.53 1464.58 Q2586.56 1467.72 2586.56 1473.16 Q2586.56 1478.49 2583.42 1481.71 Q2580.27 1484.92 2575.04 1484.92 Q2569.04 1484.92 2565.87 1480.34 Q2562.7 1475.73 2562.7 1467.01 Q2562.7 1458.81 2566.59 1453.95 Q2570.48 1449.07 2577.03 1449.07 Q2578.79 1449.07 2580.57 1449.41 Q2582.37 1449.76 2584.32 1450.46 Z\" fill=\"#000000\" fill-rule=\"evenodd\" fill-opacity=\"1\" /><path clip-path=\"url(#clip8600)\" d=\"M 0 0 M2595.66 1480.32 L2611.98 1480.32 L2611.98 1484.25 L2590.04 1484.25 L2590.04 1480.32 Q2592.7 1477.56 2597.28 1472.93 Q2601.89 1468.28 2603.07 1466.94 Q2605.31 1464.41 2606.19 1462.68 Q2607.1 1460.92 2607.1 1459.23 Q2607.1 1456.47 2605.15 1454.74 Q2603.23 1453 2600.13 1453 Q2597.93 1453 2595.48 1453.77 Q2593.05 1454.53 2590.27 1456.08 L2590.27 1451.36 Q2593.09 1450.22 2595.55 1449.65 Q2598 1449.07 2600.04 1449.07 Q2605.41 1449.07 2608.6 1451.75 Q2611.79 1454.44 2611.79 1458.93 Q2611.79 1461.06 2610.98 1462.98 Q2610.2 1464.88 2608.09 1467.47 Q2607.51 1468.14 2604.41 1471.36 Q2601.31 1474.55 2595.66 1480.32 Z\" fill=\"#000000\" fill-rule=\"evenodd\" fill-opacity=\"1\" /><path clip-path=\"url(#clip8600)\" d=\"M 0 0 M2617.1 1449.69 L2635.45 1449.69 L2635.45 1453.63 L2621.38 1453.63 L2621.38 1462.1 Q2622.4 1461.75 2623.42 1461.59 Q2624.43 1461.4 2625.45 1461.4 Q2631.24 1461.4 2634.62 1464.58 Q2638 1467.75 2638 1473.16 Q2638 1478.74 2634.53 1481.84 Q2631.05 1484.92 2624.73 1484.92 Q2622.56 1484.92 2620.29 1484.55 Q2618.04 1484.18 2615.64 1483.44 L2615.64 1478.74 Q2617.72 1479.88 2619.94 1480.43 Q2622.17 1480.99 2624.64 1480.99 Q2628.65 1480.99 2630.98 1478.88 Q2633.32 1476.78 2633.32 1473.16 Q2633.32 1469.55 2630.98 1467.45 Q2628.65 1465.34 2624.64 1465.34 Q2622.77 1465.34 2620.89 1465.76 Q2619.04 1466.17 2617.1 1467.05 L2617.1 1449.69 Z\" fill=\"#000000\" fill-rule=\"evenodd\" fill-opacity=\"1\" /><path clip-path=\"url(#clip8600)\" d=\"M 0 0 M2745.17 1480.32 L2761.49 1480.32 L2761.49 1484.25 L2739.54 1484.25 L2739.54 1480.32 Q2742.21 1477.56 2746.79 1472.93 Q2751.4 1468.28 2752.58 1466.94 Q2754.82 1464.41 2755.7 1462.68 Q2756.6 1460.92 2756.6 1459.23 Q2756.6 1456.47 2754.66 1454.74 Q2752.74 1453 2749.64 1453 Q2747.44 1453 2744.98 1453.77 Q2742.55 1454.53 2739.77 1456.08 L2739.77 1451.36 Q2742.6 1450.22 2745.05 1449.65 Q2747.51 1449.07 2749.54 1449.07 Q2754.91 1449.07 2758.11 1451.75 Q2761.3 1454.44 2761.3 1458.93 Q2761.3 1461.06 2760.49 1462.98 Q2759.71 1464.88 2757.6 1467.47 Q2757.02 1468.14 2753.92 1471.36 Q2750.82 1474.55 2745.17 1480.32 Z\" fill=\"#000000\" fill-rule=\"evenodd\" fill-opacity=\"1\" /><path clip-path=\"url(#clip8600)\" d=\"M 0 0 M2776.56 1452.77 Q2772.95 1452.77 2771.12 1456.34 Q2769.31 1459.88 2769.31 1467.01 Q2769.31 1474.11 2771.12 1477.68 Q2772.95 1481.22 2776.56 1481.22 Q2780.19 1481.22 2782 1477.68 Q2783.83 1474.11 2783.83 1467.01 Q2783.83 1459.88 2782 1456.34 Q2780.19 1452.77 2776.56 1452.77 M2776.56 1449.07 Q2782.37 1449.07 2785.42 1453.67 Q2788.5 1458.26 2788.5 1467.01 Q2788.5 1475.73 2785.42 1480.34 Q2782.37 1484.92 2776.56 1484.92 Q2770.75 1484.92 2767.67 1480.34 Q2764.61 1475.73 2764.61 1467.01 Q2764.61 1458.26 2767.67 1453.67 Q2770.75 1449.07 2776.56 1449.07 Z\" fill=\"#000000\" fill-rule=\"evenodd\" fill-opacity=\"1\" /><path clip-path=\"url(#clip8600)\" d=\"M 0 0 M2800.54 1449.69 L2804.47 1449.69 L2792.44 1488.65 L2788.5 1488.65 L2800.54 1449.69 Z\" fill=\"#000000\" fill-rule=\"evenodd\" fill-opacity=\"1\" /><path clip-path=\"url(#clip8600)\" d=\"M 0 0 M2808.36 1449.69 L2830.58 1449.69 L2830.58 1451.68 L2818.04 1484.25 L2813.15 1484.25 L2824.96 1453.63 L2808.36 1453.63 L2808.36 1449.69 Z\" fill=\"#000000\" fill-rule=\"evenodd\" fill-opacity=\"1\" /><path clip-path=\"url(#clip8600)\" d=\"M 0 0 M2836.46 1480.32 L2844.1 1480.32 L2844.1 1453.95 L2835.79 1455.62 L2835.79 1451.36 L2844.06 1449.69 L2848.73 1449.69 L2848.73 1480.32 L2856.37 1480.32 L2856.37 1484.25 L2836.46 1484.25 L2836.46 1480.32 Z\" fill=\"#000000\" fill-rule=\"evenodd\" fill-opacity=\"1\" /><path clip-path=\"url(#clip8600)\" d=\"M 0 0 M2861.49 1449.69 L2879.84 1449.69 L2879.84 1453.63 L2865.77 1453.63 L2865.77 1462.1 Q2866.79 1461.75 2867.81 1461.59 Q2868.83 1461.4 2869.84 1461.4 Q2875.63 1461.4 2879.01 1464.58 Q2882.39 1467.75 2882.39 1473.16 Q2882.39 1478.74 2878.92 1481.84 Q2875.45 1484.92 2869.13 1484.92 Q2866.95 1484.92 2864.68 1484.55 Q2862.44 1484.18 2860.03 1483.44 L2860.03 1478.74 Q2862.11 1479.88 2864.33 1480.43 Q2866.56 1480.99 2869.03 1480.99 Q2873.04 1480.99 2875.38 1478.88 Q2877.71 1476.78 2877.71 1473.16 Q2877.71 1469.55 2875.38 1467.45 Q2873.04 1465.34 2869.03 1465.34 Q2867.16 1465.34 2865.28 1465.76 Q2863.43 1466.17 2861.49 1467.05 L2861.49 1449.69 Z\" fill=\"#000000\" fill-rule=\"evenodd\" fill-opacity=\"1\" /><path clip-path=\"url(#clip8600)\" d=\"M 0 0 M2970.91 1480.32 L2987.23 1480.32 L2987.23 1484.25 L2965.28 1484.25 L2965.28 1480.32 Q2967.94 1477.56 2972.53 1472.93 Q2977.13 1468.28 2978.31 1466.94 Q2980.56 1464.41 2981.44 1462.68 Q2982.34 1460.92 2982.34 1459.23 Q2982.34 1456.47 2980.4 1454.74 Q2978.48 1453 2975.37 1453 Q2973.18 1453 2970.72 1453.77 Q2968.29 1454.53 2965.51 1456.08 L2965.51 1451.36 Q2968.34 1450.22 2970.79 1449.65 Q2973.25 1449.07 2975.28 1449.07 Q2980.65 1449.07 2983.85 1451.75 Q2987.04 1454.44 2987.04 1458.93 Q2987.04 1461.06 2986.23 1462.98 Q2985.44 1464.88 2983.34 1467.47 Q2982.76 1468.14 2979.66 1471.36 Q2976.56 1474.55 2970.91 1480.32 Z\" fill=\"#000000\" fill-rule=\"evenodd\" fill-opacity=\"1\" /><path clip-path=\"url(#clip8600)\" d=\"M 0 0 M3002.3 1452.77 Q2998.69 1452.77 2996.86 1456.34 Q2995.05 1459.88 2995.05 1467.01 Q2995.05 1474.11 2996.86 1477.68 Q2998.69 1481.22 3002.3 1481.22 Q3005.93 1481.22 3007.74 1477.68 Q3009.56 1474.11 3009.56 1467.01 Q3009.56 1459.88 3007.74 1456.34 Q3005.93 1452.77 3002.3 1452.77 M3002.3 1449.07 Q3008.11 1449.07 3011.16 1453.67 Q3014.24 1458.26 3014.24 1467.01 Q3014.24 1475.73 3011.16 1480.34 Q3008.11 1484.92 3002.3 1484.92 Q2996.49 1484.92 2993.41 1480.34 Q2990.35 1475.73 2990.35 1467.01 Q2990.35 1458.26 2993.41 1453.67 Q2996.49 1449.07 3002.3 1449.07 Z\" fill=\"#000000\" fill-rule=\"evenodd\" fill-opacity=\"1\" /><path clip-path=\"url(#clip8600)\" d=\"M 0 0 M3026.28 1449.69 L3030.21 1449.69 L3018.18 1488.65 L3014.24 1488.65 L3026.28 1449.69 Z\" fill=\"#000000\" fill-rule=\"evenodd\" fill-opacity=\"1\" /><path clip-path=\"url(#clip8600)\" d=\"M 0 0 M3034.1 1449.69 L3056.32 1449.69 L3056.32 1451.68 L3043.78 1484.25 L3038.89 1484.25 L3050.7 1453.63 L3034.1 1453.63 L3034.1 1449.69 Z\" fill=\"#000000\" fill-rule=\"evenodd\" fill-opacity=\"1\" /><path clip-path=\"url(#clip8600)\" d=\"M 0 0 M3075.56 1465.62 Q3078.92 1466.34 3080.79 1468.6 Q3082.69 1470.87 3082.69 1474.21 Q3082.69 1479.32 3079.17 1482.12 Q3075.65 1484.92 3069.17 1484.92 Q3066.99 1484.92 3064.68 1484.48 Q3062.39 1484.07 3059.93 1483.21 L3059.93 1478.7 Q3061.88 1479.83 3064.19 1480.41 Q3066.51 1480.99 3069.03 1480.99 Q3073.43 1480.99 3075.72 1479.25 Q3078.04 1477.52 3078.04 1474.21 Q3078.04 1471.15 3075.88 1469.44 Q3073.75 1467.7 3069.93 1467.7 L3065.91 1467.7 L3065.91 1463.86 L3070.12 1463.86 Q3073.57 1463.86 3075.4 1462.49 Q3077.23 1461.1 3077.23 1458.51 Q3077.23 1455.85 3075.33 1454.44 Q3073.45 1453 3069.93 1453 Q3068.01 1453 3065.81 1453.42 Q3063.62 1453.84 3060.98 1454.71 L3060.98 1450.55 Q3063.64 1449.81 3065.95 1449.44 Q3068.29 1449.07 3070.35 1449.07 Q3075.68 1449.07 3078.78 1451.5 Q3081.88 1453.9 3081.88 1458.03 Q3081.88 1460.9 3080.24 1462.89 Q3078.59 1464.85 3075.56 1465.62 Z\" fill=\"#000000\" fill-rule=\"evenodd\" fill-opacity=\"1\" /><path clip-path=\"url(#clip8600)\" d=\"M 0 0 M3088.57 1480.32 L3096.21 1480.32 L3096.21 1453.95 L3087.9 1455.62 L3087.9 1451.36 L3096.16 1449.69 L3100.84 1449.69 L3100.84 1480.32 L3108.48 1480.32 L3108.48 1484.25 L3088.57 1484.25 L3088.57 1480.32 Z\" fill=\"#000000\" fill-rule=\"evenodd\" fill-opacity=\"1\" /><path clip-path=\"url(#clip8600)\" d=\"M 0 0 M3215.01 1480.32 L3231.33 1480.32 L3231.33 1484.25 L3209.38 1484.25 L3209.38 1480.32 Q3212.05 1477.56 3216.63 1472.93 Q3221.24 1468.28 3222.42 1466.94 Q3224.66 1464.41 3225.54 1462.68 Q3226.44 1460.92 3226.44 1459.23 Q3226.44 1456.47 3224.5 1454.74 Q3222.58 1453 3219.48 1453 Q3217.28 1453 3214.82 1453.77 Q3212.39 1454.53 3209.62 1456.08 L3209.62 1451.36 Q3212.44 1450.22 3214.89 1449.65 Q3217.35 1449.07 3219.38 1449.07 Q3224.75 1449.07 3227.95 1451.75 Q3231.14 1454.44 3231.14 1458.93 Q3231.14 1461.06 3230.33 1462.98 Q3229.55 1464.88 3227.44 1467.47 Q3226.86 1468.14 3223.76 1471.36 Q3220.66 1474.55 3215.01 1480.32 Z\" fill=\"#000000\" fill-rule=\"evenodd\" fill-opacity=\"1\" /><path clip-path=\"url(#clip8600)\" d=\"M 0 0 M3246.4 1452.77 Q3242.79 1452.77 3240.96 1456.34 Q3239.15 1459.88 3239.15 1467.01 Q3239.15 1474.11 3240.96 1477.68 Q3242.79 1481.22 3246.4 1481.22 Q3250.03 1481.22 3251.84 1477.68 Q3253.67 1474.11 3253.67 1467.01 Q3253.67 1459.88 3251.84 1456.34 Q3250.03 1452.77 3246.4 1452.77 M3246.4 1449.07 Q3252.21 1449.07 3255.26 1453.67 Q3258.34 1458.26 3258.34 1467.01 Q3258.34 1475.73 3255.26 1480.34 Q3252.21 1484.92 3246.4 1484.92 Q3240.59 1484.92 3237.51 1480.34 Q3234.45 1475.73 3234.45 1467.01 Q3234.45 1458.26 3237.51 1453.67 Q3240.59 1449.07 3246.4 1449.07 Z\" fill=\"#000000\" fill-rule=\"evenodd\" fill-opacity=\"1\" /><path clip-path=\"url(#clip8600)\" d=\"M 0 0 M3270.38 1449.69 L3274.31 1449.69 L3262.28 1488.65 L3258.34 1488.65 L3270.38 1449.69 Z\" fill=\"#000000\" fill-rule=\"evenodd\" fill-opacity=\"1\" /><path clip-path=\"url(#clip8600)\" d=\"M 0 0 M3289.38 1467.84 Q3286.05 1467.84 3284.13 1469.62 Q3282.23 1471.4 3282.23 1474.53 Q3282.23 1477.65 3284.13 1479.44 Q3286.05 1481.22 3289.38 1481.22 Q3292.72 1481.22 3294.64 1479.44 Q3296.56 1477.63 3296.56 1474.53 Q3296.56 1471.4 3294.64 1469.62 Q3292.74 1467.84 3289.38 1467.84 M3284.71 1465.85 Q3281.7 1465.11 3280.01 1463.05 Q3278.34 1460.99 3278.34 1458.03 Q3278.34 1453.88 3281.28 1451.47 Q3284.25 1449.07 3289.38 1449.07 Q3294.55 1449.07 3297.49 1451.47 Q3300.43 1453.88 3300.43 1458.03 Q3300.43 1460.99 3298.74 1463.05 Q3297.07 1465.11 3294.08 1465.85 Q3297.46 1466.64 3299.34 1468.93 Q3301.24 1471.22 3301.24 1474.53 Q3301.24 1479.55 3298.16 1482.24 Q3295.1 1484.92 3289.38 1484.92 Q3283.67 1484.92 3280.59 1482.24 Q3277.53 1479.55 3277.53 1474.53 Q3277.53 1471.22 3279.43 1468.93 Q3281.33 1466.64 3284.71 1465.85 M3283 1458.46 Q3283 1461.15 3284.66 1462.65 Q3286.35 1464.16 3289.38 1464.16 Q3292.39 1464.16 3294.08 1462.65 Q3295.8 1461.15 3295.8 1458.46 Q3295.8 1455.78 3294.08 1454.28 Q3292.39 1452.77 3289.38 1452.77 Q3286.35 1452.77 3284.66 1454.28 Q3283 1455.78 3283 1458.46 Z\" fill=\"#000000\" fill-rule=\"evenodd\" fill-opacity=\"1\" /><path clip-path=\"url(#clip8600)\" d=\"M 0 0 M3307.12 1480.32 L3314.75 1480.32 L3314.75 1453.95 L3306.44 1455.62 L3306.44 1451.36 L3314.71 1449.69 L3319.38 1449.69 L3319.38 1480.32 L3327.02 1480.32 L3327.02 1484.25 L3307.12 1484.25 L3307.12 1480.32 Z\" fill=\"#000000\" fill-rule=\"evenodd\" fill-opacity=\"1\" /><path clip-path=\"url(#clip8600)\" d=\"M 0 0 M3332.23 1483.53 L3332.23 1479.28 Q3333.99 1480.11 3335.8 1480.55 Q3337.6 1480.99 3339.34 1480.99 Q3343.97 1480.99 3346.4 1477.89 Q3348.85 1474.76 3349.2 1468.42 Q3347.86 1470.41 3345.8 1471.47 Q3343.74 1472.54 3341.24 1472.54 Q3336.05 1472.54 3333.02 1469.41 Q3330.01 1466.27 3330.01 1460.83 Q3330.01 1455.5 3333.16 1452.28 Q3336.31 1449.07 3341.54 1449.07 Q3347.53 1449.07 3350.68 1453.67 Q3353.85 1458.26 3353.85 1467.01 Q3353.85 1475.18 3349.96 1480.06 Q3346.1 1484.92 3339.55 1484.92 Q3337.79 1484.92 3335.98 1484.58 Q3334.18 1484.23 3332.23 1483.53 M3341.54 1468.88 Q3344.68 1468.88 3346.51 1466.73 Q3348.37 1464.58 3348.37 1460.83 Q3348.37 1457.1 3346.51 1454.95 Q3344.68 1452.77 3341.54 1452.77 Q3338.39 1452.77 3336.54 1454.95 Q3334.71 1457.1 3334.71 1460.83 Q3334.71 1464.58 3336.54 1466.73 Q3338.39 1468.88 3341.54 1468.88 Z\" fill=\"#000000\" fill-rule=\"evenodd\" fill-opacity=\"1\" /><path clip-path=\"url(#clip8600)\" d=\"M 0 0 M3459.13 1480.32 L3475.45 1480.32 L3475.45 1484.25 L3453.51 1484.25 L3453.51 1480.32 Q3456.17 1477.56 3460.76 1472.93 Q3465.36 1468.28 3466.54 1466.94 Q3468.79 1464.41 3469.67 1462.68 Q3470.57 1460.92 3470.57 1459.23 Q3470.57 1456.47 3468.63 1454.74 Q3466.7 1453 3463.6 1453 Q3461.4 1453 3458.95 1453.77 Q3456.52 1454.53 3453.74 1456.08 L3453.74 1451.36 Q3456.57 1450.22 3459.02 1449.65 Q3461.47 1449.07 3463.51 1449.07 Q3468.88 1449.07 3472.07 1451.75 Q3475.27 1454.44 3475.27 1458.93 Q3475.27 1461.06 3474.46 1462.98 Q3473.67 1464.88 3471.57 1467.47 Q3470.99 1468.14 3467.88 1471.36 Q3464.78 1474.55 3459.13 1480.32 Z\" fill=\"#000000\" fill-rule=\"evenodd\" fill-opacity=\"1\" /><path clip-path=\"url(#clip8600)\" d=\"M 0 0 M3490.52 1452.77 Q3486.91 1452.77 3485.08 1456.34 Q3483.28 1459.88 3483.28 1467.01 Q3483.28 1474.11 3485.08 1477.68 Q3486.91 1481.22 3490.52 1481.22 Q3494.16 1481.22 3495.96 1477.68 Q3497.79 1474.11 3497.79 1467.01 Q3497.79 1459.88 3495.96 1456.34 Q3494.16 1452.77 3490.52 1452.77 M3490.52 1449.07 Q3496.33 1449.07 3499.39 1453.67 Q3502.47 1458.26 3502.47 1467.01 Q3502.47 1475.73 3499.39 1480.34 Q3496.33 1484.92 3490.52 1484.92 Q3484.71 1484.92 3481.63 1480.34 Q3478.58 1475.73 3478.58 1467.01 Q3478.58 1458.26 3481.63 1453.67 Q3484.71 1449.07 3490.52 1449.07 Z\" fill=\"#000000\" fill-rule=\"evenodd\" fill-opacity=\"1\" /><path clip-path=\"url(#clip8600)\" d=\"M 0 0 M3514.5 1449.69 L3518.44 1449.69 L3506.4 1488.65 L3502.47 1488.65 L3514.5 1449.69 Z\" fill=\"#000000\" fill-rule=\"evenodd\" fill-opacity=\"1\" /><path clip-path=\"url(#clip8600)\" d=\"M 0 0 M3523.65 1483.53 L3523.65 1479.28 Q3525.41 1480.11 3527.21 1480.55 Q3529.02 1480.99 3530.75 1480.99 Q3535.38 1480.99 3537.81 1477.89 Q3540.27 1474.76 3540.62 1468.42 Q3539.27 1470.41 3537.21 1471.47 Q3535.15 1472.54 3532.65 1472.54 Q3527.47 1472.54 3524.44 1469.41 Q3521.43 1466.27 3521.43 1460.83 Q3521.43 1455.5 3524.57 1452.28 Q3527.72 1449.07 3532.95 1449.07 Q3538.95 1449.07 3542.1 1453.67 Q3545.27 1458.26 3545.27 1467.01 Q3545.27 1475.18 3541.38 1480.06 Q3537.51 1484.92 3530.96 1484.92 Q3529.2 1484.92 3527.4 1484.58 Q3525.59 1484.23 3523.65 1483.53 M3532.95 1468.88 Q3536.1 1468.88 3537.93 1466.73 Q3539.78 1464.58 3539.78 1460.83 Q3539.78 1457.1 3537.93 1454.95 Q3536.1 1452.77 3532.95 1452.77 Q3529.81 1452.77 3527.95 1454.95 Q3526.13 1457.1 3526.13 1460.83 Q3526.13 1464.58 3527.95 1466.73 Q3529.81 1468.88 3532.95 1468.88 Z\" fill=\"#000000\" fill-rule=\"evenodd\" fill-opacity=\"1\" /><path clip-path=\"url(#clip8600)\" d=\"M 0 0 M3560.34 1452.77 Q3556.73 1452.77 3554.9 1456.34 Q3553.09 1459.88 3553.09 1467.01 Q3553.09 1474.11 3554.9 1477.68 Q3556.73 1481.22 3560.34 1481.22 Q3563.97 1481.22 3565.78 1477.68 Q3567.61 1474.11 3567.61 1467.01 Q3567.61 1459.88 3565.78 1456.34 Q3563.97 1452.77 3560.34 1452.77 M3560.34 1449.07 Q3566.15 1449.07 3569.2 1453.67 Q3572.28 1458.26 3572.28 1467.01 Q3572.28 1475.73 3569.2 1480.34 Q3566.15 1484.92 3560.34 1484.92 Q3554.53 1484.92 3551.45 1480.34 Q3548.39 1475.73 3548.39 1467.01 Q3548.39 1458.26 3551.45 1453.67 Q3554.53 1449.07 3560.34 1449.07 Z\" fill=\"#000000\" fill-rule=\"evenodd\" fill-opacity=\"1\" /><path clip-path=\"url(#clip8600)\" d=\"M 0 0 M3587.35 1467.84 Q3584.02 1467.84 3582.1 1469.62 Q3580.2 1471.4 3580.2 1474.53 Q3580.2 1477.65 3582.1 1479.44 Q3584.02 1481.22 3587.35 1481.22 Q3590.68 1481.22 3592.61 1479.44 Q3594.53 1477.63 3594.53 1474.53 Q3594.53 1471.4 3592.61 1469.62 Q3590.71 1467.84 3587.35 1467.84 M3582.68 1465.85 Q3579.67 1465.11 3577.98 1463.05 Q3576.31 1460.99 3576.31 1458.03 Q3576.31 1453.88 3579.25 1451.47 Q3582.21 1449.07 3587.35 1449.07 Q3592.51 1449.07 3595.45 1451.47 Q3598.39 1453.88 3598.39 1458.03 Q3598.39 1460.99 3596.7 1463.05 Q3595.04 1465.11 3592.05 1465.85 Q3595.43 1466.64 3597.31 1468.93 Q3599.2 1471.22 3599.2 1474.53 Q3599.2 1479.55 3596.12 1482.24 Q3593.07 1484.92 3587.35 1484.92 Q3581.63 1484.92 3578.56 1482.24 Q3575.5 1479.55 3575.5 1474.53 Q3575.5 1471.22 3577.4 1468.93 Q3579.3 1466.64 3582.68 1465.85 M3580.96 1458.46 Q3580.96 1461.15 3582.63 1462.65 Q3584.32 1464.16 3587.35 1464.16 Q3590.36 1464.16 3592.05 1462.65 Q3593.76 1461.15 3593.76 1458.46 Q3593.76 1455.78 3592.05 1454.28 Q3590.36 1452.77 3587.35 1452.77 Q3584.32 1452.77 3582.63 1454.28 Q3580.96 1455.78 3580.96 1458.46 Z\" fill=\"#000000\" fill-rule=\"evenodd\" fill-opacity=\"1\" /><path clip-path=\"url(#clip8600)\" d=\"M 0 0 M3705.12 1480.32 L3721.44 1480.32 L3721.44 1484.25 L3699.5 1484.25 L3699.5 1480.32 Q3702.16 1477.56 3706.74 1472.93 Q3711.35 1468.28 3712.53 1466.94 Q3714.78 1464.41 3715.66 1462.68 Q3716.56 1460.92 3716.56 1459.23 Q3716.56 1456.47 3714.61 1454.74 Q3712.69 1453 3709.59 1453 Q3707.39 1453 3704.94 1453.77 Q3702.51 1454.53 3699.73 1456.08 L3699.73 1451.36 Q3702.55 1450.22 3705.01 1449.65 Q3707.46 1449.07 3709.5 1449.07 Q3714.87 1449.07 3718.06 1451.75 Q3721.26 1454.44 3721.26 1458.93 Q3721.26 1461.06 3720.45 1462.98 Q3719.66 1464.88 3717.55 1467.47 Q3716.98 1468.14 3713.87 1471.36 Q3710.77 1474.55 3705.12 1480.32 Z\" fill=\"#000000\" fill-rule=\"evenodd\" fill-opacity=\"1\" /><path clip-path=\"url(#clip8600)\" d=\"M 0 0 M3736.51 1452.77 Q3732.9 1452.77 3731.07 1456.34 Q3729.27 1459.88 3729.27 1467.01 Q3729.27 1474.11 3731.07 1477.68 Q3732.9 1481.22 3736.51 1481.22 Q3740.15 1481.22 3741.95 1477.68 Q3743.78 1474.11 3743.78 1467.01 Q3743.78 1459.88 3741.95 1456.34 Q3740.15 1452.77 3736.51 1452.77 M3736.51 1449.07 Q3742.32 1449.07 3745.38 1453.67 Q3748.46 1458.26 3748.46 1467.01 Q3748.46 1475.73 3745.38 1480.34 Q3742.32 1484.92 3736.51 1484.92 Q3730.7 1484.92 3727.62 1480.34 Q3724.57 1475.73 3724.57 1467.01 Q3724.57 1458.26 3727.62 1453.67 Q3730.7 1449.07 3736.51 1449.07 Z\" fill=\"#000000\" fill-rule=\"evenodd\" fill-opacity=\"1\" /><path clip-path=\"url(#clip8600)\" d=\"M 0 0 M3760.49 1449.69 L3764.43 1449.69 L3752.39 1488.65 L3748.46 1488.65 L3760.49 1449.69 Z\" fill=\"#000000\" fill-rule=\"evenodd\" fill-opacity=\"1\" /><path clip-path=\"url(#clip8600)\" d=\"M 0 0 M3769.64 1483.53 L3769.64 1479.28 Q3771.4 1480.11 3773.2 1480.55 Q3775.01 1480.99 3776.74 1480.99 Q3781.37 1480.99 3783.8 1477.89 Q3786.26 1474.76 3786.6 1468.42 Q3785.26 1470.41 3783.2 1471.47 Q3781.14 1472.54 3778.64 1472.54 Q3773.46 1472.54 3770.42 1469.41 Q3767.41 1466.27 3767.41 1460.83 Q3767.41 1455.5 3770.56 1452.28 Q3773.71 1449.07 3778.94 1449.07 Q3784.94 1449.07 3788.09 1453.67 Q3791.26 1458.26 3791.26 1467.01 Q3791.26 1475.18 3787.37 1480.06 Q3783.5 1484.92 3776.95 1484.92 Q3775.19 1484.92 3773.39 1484.58 Q3771.58 1484.23 3769.64 1483.53 M3778.94 1468.88 Q3782.09 1468.88 3783.92 1466.73 Q3785.77 1464.58 3785.77 1460.83 Q3785.77 1457.1 3783.92 1454.95 Q3782.09 1452.77 3778.94 1452.77 Q3775.79 1452.77 3773.94 1454.95 Q3772.11 1457.1 3772.11 1460.83 Q3772.11 1464.58 3773.94 1466.73 Q3775.79 1468.88 3778.94 1468.88 Z\" fill=\"#000000\" fill-rule=\"evenodd\" fill-opacity=\"1\" /><path clip-path=\"url(#clip8600)\" d=\"M 0 0 M3800.35 1480.32 L3816.67 1480.32 L3816.67 1484.25 L3794.73 1484.25 L3794.73 1480.32 Q3797.39 1477.56 3801.97 1472.93 Q3806.58 1468.28 3807.76 1466.94 Q3810.01 1464.41 3810.89 1462.68 Q3811.79 1460.92 3811.79 1459.23 Q3811.79 1456.47 3809.85 1454.74 Q3807.92 1453 3804.82 1453 Q3802.62 1453 3800.17 1453.77 Q3797.74 1454.53 3794.96 1456.08 L3794.96 1451.36 Q3797.78 1450.22 3800.24 1449.65 Q3802.69 1449.07 3804.73 1449.07 Q3810.1 1449.07 3813.29 1451.75 Q3816.49 1454.44 3816.49 1458.93 Q3816.49 1461.06 3815.68 1462.98 Q3814.89 1464.88 3812.78 1467.47 Q3812.21 1468.14 3809.1 1471.36 Q3806 1474.55 3800.35 1480.32 Z\" fill=\"#000000\" fill-rule=\"evenodd\" fill-opacity=\"1\" /><path clip-path=\"url(#clip8600)\" d=\"M 0 0 M3821.79 1449.69 L3840.15 1449.69 L3840.15 1453.63 L3826.07 1453.63 L3826.07 1462.1 Q3827.09 1461.75 3828.11 1461.59 Q3829.13 1461.4 3830.15 1461.4 Q3835.93 1461.4 3839.31 1464.58 Q3842.69 1467.75 3842.69 1473.16 Q3842.69 1478.74 3839.22 1481.84 Q3835.75 1484.92 3829.43 1484.92 Q3827.25 1484.92 3824.98 1484.55 Q3822.74 1484.18 3820.33 1483.44 L3820.33 1478.74 Q3822.41 1479.88 3824.64 1480.43 Q3826.86 1480.99 3829.34 1480.99 Q3833.34 1480.99 3835.68 1478.88 Q3838.02 1476.78 3838.02 1473.16 Q3838.02 1469.55 3835.68 1467.45 Q3833.34 1465.34 3829.34 1465.34 Q3827.46 1465.34 3825.59 1465.76 Q3823.73 1466.17 3821.79 1467.05 L3821.79 1449.69 Z\" fill=\"#000000\" fill-rule=\"evenodd\" fill-opacity=\"1\" /><path clip-path=\"url(#clip8600)\" d=\"M 0 0 M117.171 1288.37 L133.491 1288.37 L133.491 1292.31 L111.546 1292.31 L111.546 1288.37 Q114.208 1285.62 118.792 1280.99 Q123.398 1276.34 124.579 1274.99 Q126.824 1272.47 127.704 1270.73 Q128.606 1268.98 128.606 1267.29 Q128.606 1264.53 126.662 1262.79 Q124.741 1261.06 121.639 1261.06 Q119.44 1261.06 116.986 1261.82 Q114.556 1262.59 111.778 1264.14 L111.778 1259.42 Q114.602 1258.28 117.055 1257.7 Q119.509 1257.12 121.546 1257.12 Q126.917 1257.12 130.111 1259.81 Q133.305 1262.49 133.305 1266.98 Q133.305 1269.11 132.495 1271.04 Q131.708 1272.93 129.602 1275.53 Q129.023 1276.2 125.921 1279.42 Q122.819 1282.61 117.171 1288.37 Z\" fill=\"#000000\" fill-rule=\"evenodd\" fill-opacity=\"1\" /><path clip-path=\"url(#clip8600)\" d=\"M 0 0 M148.56 1260.83 Q144.949 1260.83 143.12 1264.39 Q141.315 1267.93 141.315 1275.06 Q141.315 1282.17 143.12 1285.73 Q144.949 1289.28 148.56 1289.28 Q152.194 1289.28 154 1285.73 Q155.828 1282.17 155.828 1275.06 Q155.828 1267.93 154 1264.39 Q152.194 1260.83 148.56 1260.83 M148.56 1257.12 Q154.37 1257.12 157.426 1261.73 Q160.504 1266.31 160.504 1275.06 Q160.504 1283.79 157.426 1288.4 Q154.37 1292.98 148.56 1292.98 Q142.75 1292.98 139.671 1288.4 Q136.616 1283.79 136.616 1275.06 Q136.616 1266.31 139.671 1261.73 Q142.75 1257.12 148.56 1257.12 Z\" fill=\"#000000\" fill-rule=\"evenodd\" fill-opacity=\"1\" /><path clip-path=\"url(#clip8600)\" d=\"M 0 0 M175.574 1260.83 Q171.963 1260.83 170.134 1264.39 Q168.328 1267.93 168.328 1275.06 Q168.328 1282.17 170.134 1285.73 Q171.963 1289.28 175.574 1289.28 Q179.208 1289.28 181.013 1285.73 Q182.842 1282.17 182.842 1275.06 Q182.842 1267.93 181.013 1264.39 Q179.208 1260.83 175.574 1260.83 M175.574 1257.12 Q181.384 1257.12 184.439 1261.73 Q187.518 1266.31 187.518 1275.06 Q187.518 1283.79 184.439 1288.4 Q181.384 1292.98 175.574 1292.98 Q169.764 1292.98 166.685 1288.4 Q163.629 1283.79 163.629 1275.06 Q163.629 1266.31 166.685 1261.73 Q169.764 1257.12 175.574 1257.12 Z\" fill=\"#000000\" fill-rule=\"evenodd\" fill-opacity=\"1\" /><path clip-path=\"url(#clip8600)\" d=\"M 0 0 M202.587 1260.83 Q198.976 1260.83 197.148 1264.39 Q195.342 1267.93 195.342 1275.06 Q195.342 1282.17 197.148 1285.73 Q198.976 1289.28 202.587 1289.28 Q206.222 1289.28 208.027 1285.73 Q209.856 1282.17 209.856 1275.06 Q209.856 1267.93 208.027 1264.39 Q206.222 1260.83 202.587 1260.83 M202.587 1257.12 Q208.398 1257.12 211.453 1261.73 Q214.532 1266.31 214.532 1275.06 Q214.532 1283.79 211.453 1288.4 Q208.398 1292.98 202.587 1292.98 Q196.777 1292.98 193.699 1288.4 Q190.643 1283.79 190.643 1275.06 Q190.643 1266.31 193.699 1261.73 Q196.777 1257.12 202.587 1257.12 Z\" fill=\"#000000\" fill-rule=\"evenodd\" fill-opacity=\"1\" /><path clip-path=\"url(#clip8600)\" d=\"M 0 0 M229.601 1260.83 Q225.99 1260.83 224.161 1264.39 Q222.356 1267.93 222.356 1275.06 Q222.356 1282.17 224.161 1285.73 Q225.99 1289.28 229.601 1289.28 Q233.235 1289.28 235.041 1285.73 Q236.87 1282.17 236.87 1275.06 Q236.87 1267.93 235.041 1264.39 Q233.235 1260.83 229.601 1260.83 M229.601 1257.12 Q235.411 1257.12 238.467 1261.73 Q241.546 1266.31 241.546 1275.06 Q241.546 1283.79 238.467 1288.4 Q235.411 1292.98 229.601 1292.98 Q223.791 1292.98 220.712 1288.4 Q217.657 1283.79 217.657 1275.06 Q217.657 1266.31 220.712 1261.73 Q223.791 1257.12 229.601 1257.12 Z\" fill=\"#000000\" fill-rule=\"evenodd\" fill-opacity=\"1\" /><path clip-path=\"url(#clip8600)\" d=\"M 0 0 M118.768 1039.88 L135.088 1039.88 L135.088 1043.82 L113.143 1043.82 L113.143 1039.88 Q115.806 1037.13 120.389 1032.5 Q124.995 1027.85 126.176 1026.5 Q128.421 1023.98 129.301 1022.25 Q130.204 1020.49 130.204 1018.8 Q130.204 1016.04 128.259 1014.31 Q126.338 1012.57 123.236 1012.57 Q121.037 1012.57 118.583 1013.33 Q116.153 1014.1 113.375 1015.65 L113.375 1010.93 Q116.199 1009.79 118.653 1009.21 Q121.106 1008.63 123.143 1008.63 Q128.514 1008.63 131.708 1011.32 Q134.903 1014 134.903 1018.5 Q134.903 1020.63 134.092 1022.55 Q133.305 1024.44 131.199 1027.04 Q130.62 1027.71 127.518 1030.93 Q124.417 1034.12 118.768 1039.88 Z\" fill=\"#000000\" fill-rule=\"evenodd\" fill-opacity=\"1\" /><path clip-path=\"url(#clip8600)\" d=\"M 0 0 M144.185 1039.88 L160.504 1039.88 L160.504 1043.82 L138.56 1043.82 L138.56 1039.88 Q141.222 1037.13 145.805 1032.5 Q150.412 1027.85 151.592 1026.5 Q153.838 1023.98 154.717 1022.25 Q155.62 1020.49 155.62 1018.8 Q155.62 1016.04 153.676 1014.31 Q151.754 1012.57 148.653 1012.57 Q146.453 1012.57 144 1013.33 Q141.569 1014.1 138.791 1015.65 L138.791 1010.93 Q141.616 1009.79 144.069 1009.21 Q146.523 1008.63 148.56 1008.63 Q153.93 1008.63 157.125 1011.32 Q160.319 1014 160.319 1018.5 Q160.319 1020.63 159.509 1022.55 Q158.722 1024.44 156.615 1027.04 Q156.037 1027.71 152.935 1030.93 Q149.833 1034.12 144.185 1039.88 Z\" fill=\"#000000\" fill-rule=\"evenodd\" fill-opacity=\"1\" /><path clip-path=\"url(#clip8600)\" d=\"M 0 0 M175.574 1012.34 Q171.963 1012.34 170.134 1015.9 Q168.328 1019.44 168.328 1026.57 Q168.328 1033.68 170.134 1037.25 Q171.963 1040.79 175.574 1040.79 Q179.208 1040.79 181.013 1037.25 Q182.842 1033.68 182.842 1026.57 Q182.842 1019.44 181.013 1015.9 Q179.208 1012.34 175.574 1012.34 M175.574 1008.63 Q181.384 1008.63 184.439 1013.24 Q187.518 1017.82 187.518 1026.57 Q187.518 1035.3 184.439 1039.91 Q181.384 1044.49 175.574 1044.49 Q169.764 1044.49 166.685 1039.91 Q163.629 1035.3 163.629 1026.57 Q163.629 1017.82 166.685 1013.24 Q169.764 1008.63 175.574 1008.63 Z\" fill=\"#000000\" fill-rule=\"evenodd\" fill-opacity=\"1\" /><path clip-path=\"url(#clip8600)\" d=\"M 0 0 M202.587 1012.34 Q198.976 1012.34 197.148 1015.9 Q195.342 1019.44 195.342 1026.57 Q195.342 1033.68 197.148 1037.25 Q198.976 1040.79 202.587 1040.79 Q206.222 1040.79 208.027 1037.25 Q209.856 1033.68 209.856 1026.57 Q209.856 1019.44 208.027 1015.9 Q206.222 1012.34 202.587 1012.34 M202.587 1008.63 Q208.398 1008.63 211.453 1013.24 Q214.532 1017.82 214.532 1026.57 Q214.532 1035.3 211.453 1039.91 Q208.398 1044.49 202.587 1044.49 Q196.777 1044.49 193.699 1039.91 Q190.643 1035.3 190.643 1026.57 Q190.643 1017.82 193.699 1013.24 Q196.777 1008.63 202.587 1008.63 Z\" fill=\"#000000\" fill-rule=\"evenodd\" fill-opacity=\"1\" /><path clip-path=\"url(#clip8600)\" d=\"M 0 0 M229.601 1012.34 Q225.99 1012.34 224.161 1015.9 Q222.356 1019.44 222.356 1026.57 Q222.356 1033.68 224.161 1037.25 Q225.99 1040.79 229.601 1040.79 Q233.235 1040.79 235.041 1037.25 Q236.87 1033.68 236.87 1026.57 Q236.87 1019.44 235.041 1015.9 Q233.235 1012.34 229.601 1012.34 M229.601 1008.63 Q235.411 1008.63 238.467 1013.24 Q241.546 1017.82 241.546 1026.57 Q241.546 1035.3 238.467 1039.91 Q235.411 1044.49 229.601 1044.49 Q223.791 1044.49 220.712 1039.91 Q217.657 1035.3 217.657 1026.57 Q217.657 1017.82 220.712 1013.24 Q223.791 1008.63 229.601 1008.63 Z\" fill=\"#000000\" fill-rule=\"evenodd\" fill-opacity=\"1\" /><path clip-path=\"url(#clip8600)\" d=\"M 0 0 M116.685 791.395 L133.004 791.395 L133.004 795.33 L111.06 795.33 L111.06 791.395 Q113.722 788.64 118.305 784.011 Q122.912 779.358 124.092 778.016 Q126.338 775.492 127.217 773.756 Q128.12 771.997 128.12 770.307 Q128.12 767.553 126.176 765.817 Q124.255 764.08 121.153 764.08 Q118.954 764.08 116.5 764.844 Q114.069 765.608 111.292 767.159 L111.292 762.437 Q114.116 761.303 116.569 760.724 Q119.023 760.145 121.06 760.145 Q126.43 760.145 129.625 762.83 Q132.819 765.516 132.819 770.006 Q132.819 772.136 132.009 774.057 Q131.222 775.955 129.116 778.548 Q128.537 779.219 125.435 782.437 Q122.333 785.631 116.685 791.395 Z\" fill=\"#000000\" fill-rule=\"evenodd\" fill-opacity=\"1\" /><path clip-path=\"url(#clip8600)\" d=\"M 0 0 M150.921 764.844 L139.116 783.293 L150.921 783.293 L150.921 764.844 M149.694 760.77 L155.574 760.77 L155.574 783.293 L160.504 783.293 L160.504 787.182 L155.574 787.182 L155.574 795.33 L150.921 795.33 L150.921 787.182 L135.319 787.182 L135.319 782.668 L149.694 760.77 Z\" fill=\"#000000\" fill-rule=\"evenodd\" fill-opacity=\"1\" /><path clip-path=\"url(#clip8600)\" d=\"M 0 0 M175.574 763.849 Q171.963 763.849 170.134 767.414 Q168.328 770.955 168.328 778.085 Q168.328 785.191 170.134 788.756 Q171.963 792.298 175.574 792.298 Q179.208 792.298 181.013 788.756 Q182.842 785.191 182.842 778.085 Q182.842 770.955 181.013 767.414 Q179.208 763.849 175.574 763.849 M175.574 760.145 Q181.384 760.145 184.439 764.752 Q187.518 769.335 187.518 778.085 Q187.518 786.812 184.439 791.418 Q181.384 796.002 175.574 796.002 Q169.764 796.002 166.685 791.418 Q163.629 786.812 163.629 778.085 Q163.629 769.335 166.685 764.752 Q169.764 760.145 175.574 760.145 Z\" fill=\"#000000\" fill-rule=\"evenodd\" fill-opacity=\"1\" /><path clip-path=\"url(#clip8600)\" d=\"M 0 0 M202.587 763.849 Q198.976 763.849 197.148 767.414 Q195.342 770.955 195.342 778.085 Q195.342 785.191 197.148 788.756 Q198.976 792.298 202.587 792.298 Q206.222 792.298 208.027 788.756 Q209.856 785.191 209.856 778.085 Q209.856 770.955 208.027 767.414 Q206.222 763.849 202.587 763.849 M202.587 760.145 Q208.398 760.145 211.453 764.752 Q214.532 769.335 214.532 778.085 Q214.532 786.812 211.453 791.418 Q208.398 796.002 202.587 796.002 Q196.777 796.002 193.699 791.418 Q190.643 786.812 190.643 778.085 Q190.643 769.335 193.699 764.752 Q196.777 760.145 202.587 760.145 Z\" fill=\"#000000\" fill-rule=\"evenodd\" fill-opacity=\"1\" /><path clip-path=\"url(#clip8600)\" d=\"M 0 0 M229.601 763.849 Q225.99 763.849 224.161 767.414 Q222.356 770.955 222.356 778.085 Q222.356 785.191 224.161 788.756 Q225.99 792.298 229.601 792.298 Q233.235 792.298 235.041 788.756 Q236.87 785.191 236.87 778.085 Q236.87 770.955 235.041 767.414 Q233.235 763.849 229.601 763.849 M229.601 760.145 Q235.411 760.145 238.467 764.752 Q241.546 769.335 241.546 778.085 Q241.546 786.812 238.467 791.418 Q235.411 796.002 229.601 796.002 Q223.791 796.002 220.712 791.418 Q217.657 786.812 217.657 778.085 Q217.657 769.335 220.712 764.752 Q223.791 760.145 229.601 760.145 Z\" fill=\"#000000\" fill-rule=\"evenodd\" fill-opacity=\"1\" /><path clip-path=\"url(#clip8600)\" d=\"M 0 0 M117.009 542.906 L133.329 542.906 L133.329 546.841 L111.384 546.841 L111.384 542.906 Q114.046 540.151 118.63 535.522 Q123.236 530.869 124.417 529.526 Q126.662 527.003 127.542 525.267 Q128.444 523.508 128.444 521.818 Q128.444 519.064 126.5 517.327 Q124.579 515.591 121.477 515.591 Q119.278 515.591 116.824 516.355 Q114.393 517.119 111.616 518.67 L111.616 513.948 Q114.44 512.814 116.893 512.235 Q119.347 511.656 121.384 511.656 Q126.755 511.656 129.949 514.341 Q133.143 517.026 133.143 521.517 Q133.143 523.647 132.333 525.568 Q131.546 527.466 129.44 530.059 Q128.861 530.73 125.759 533.948 Q122.657 537.142 117.009 542.906 Z\" fill=\"#000000\" fill-rule=\"evenodd\" fill-opacity=\"1\" /><path clip-path=\"url(#clip8600)\" d=\"M 0 0 M148.977 527.698 Q145.828 527.698 143.977 529.85 Q142.148 532.003 142.148 535.753 Q142.148 539.48 143.977 541.656 Q145.828 543.809 148.977 543.809 Q152.125 543.809 153.953 541.656 Q155.805 539.48 155.805 535.753 Q155.805 532.003 153.953 529.85 Q152.125 527.698 148.977 527.698 M158.259 513.045 L158.259 517.304 Q156.5 516.471 154.694 516.031 Q152.912 515.591 151.153 515.591 Q146.523 515.591 144.069 518.716 Q141.639 521.841 141.291 528.161 Q142.657 526.147 144.717 525.082 Q146.778 523.994 149.254 523.994 Q154.463 523.994 157.472 527.165 Q160.504 530.313 160.504 535.753 Q160.504 541.077 157.356 544.295 Q154.208 547.512 148.977 547.512 Q142.981 547.512 139.81 542.929 Q136.639 538.323 136.639 529.596 Q136.639 521.401 140.528 516.54 Q144.416 511.656 150.967 511.656 Q152.727 511.656 154.509 512.003 Q156.315 512.351 158.259 513.045 Z\" fill=\"#000000\" fill-rule=\"evenodd\" fill-opacity=\"1\" /><path clip-path=\"url(#clip8600)\" d=\"M 0 0 M175.574 515.36 Q171.963 515.36 170.134 518.925 Q168.328 522.466 168.328 529.596 Q168.328 536.702 170.134 540.267 Q171.963 543.809 175.574 543.809 Q179.208 543.809 181.013 540.267 Q182.842 536.702 182.842 529.596 Q182.842 522.466 181.013 518.925 Q179.208 515.36 175.574 515.36 M175.574 511.656 Q181.384 511.656 184.439 516.263 Q187.518 520.846 187.518 529.596 Q187.518 538.323 184.439 542.929 Q181.384 547.512 175.574 547.512 Q169.764 547.512 166.685 542.929 Q163.629 538.323 163.629 529.596 Q163.629 520.846 166.685 516.263 Q169.764 511.656 175.574 511.656 Z\" fill=\"#000000\" fill-rule=\"evenodd\" fill-opacity=\"1\" /><path clip-path=\"url(#clip8600)\" d=\"M 0 0 M202.587 515.36 Q198.976 515.36 197.148 518.925 Q195.342 522.466 195.342 529.596 Q195.342 536.702 197.148 540.267 Q198.976 543.809 202.587 543.809 Q206.222 543.809 208.027 540.267 Q209.856 536.702 209.856 529.596 Q209.856 522.466 208.027 518.925 Q206.222 515.36 202.587 515.36 M202.587 511.656 Q208.398 511.656 211.453 516.263 Q214.532 520.846 214.532 529.596 Q214.532 538.323 211.453 542.929 Q208.398 547.512 202.587 547.512 Q196.777 547.512 193.699 542.929 Q190.643 538.323 190.643 529.596 Q190.643 520.846 193.699 516.263 Q196.777 511.656 202.587 511.656 Z\" fill=\"#000000\" fill-rule=\"evenodd\" fill-opacity=\"1\" /><path clip-path=\"url(#clip8600)\" d=\"M 0 0 M229.601 515.36 Q225.99 515.36 224.161 518.925 Q222.356 522.466 222.356 529.596 Q222.356 536.702 224.161 540.267 Q225.99 543.809 229.601 543.809 Q233.235 543.809 235.041 540.267 Q236.87 536.702 236.87 529.596 Q236.87 522.466 235.041 518.925 Q233.235 515.36 229.601 515.36 M229.601 511.656 Q235.411 511.656 238.467 516.263 Q241.546 520.846 241.546 529.596 Q241.546 538.323 238.467 542.929 Q235.411 547.512 229.601 547.512 Q223.791 547.512 220.712 542.929 Q217.657 538.323 217.657 529.596 Q217.657 520.846 220.712 516.263 Q223.791 511.656 229.601 511.656 Z\" fill=\"#000000\" fill-rule=\"evenodd\" fill-opacity=\"1\" /><path clip-path=\"url(#clip8600)\" d=\"M 0 0 M117.264 294.417 L133.583 294.417 L133.583 298.352 L111.639 298.352 L111.639 294.417 Q114.301 291.662 118.884 287.033 Q123.491 282.38 124.671 281.037 Q126.917 278.514 127.796 276.778 Q128.699 275.019 128.699 273.329 Q128.699 270.574 126.755 268.838 Q124.833 267.102 121.731 267.102 Q119.532 267.102 117.079 267.866 Q114.648 268.63 111.87 270.181 L111.87 265.459 Q114.694 264.324 117.148 263.746 Q119.602 263.167 121.639 263.167 Q127.009 263.167 130.204 265.852 Q133.398 268.537 133.398 273.028 Q133.398 275.158 132.588 277.079 Q131.801 278.977 129.694 281.57 Q129.116 282.241 126.014 285.459 Q122.912 288.653 117.264 294.417 Z\" fill=\"#000000\" fill-rule=\"evenodd\" fill-opacity=\"1\" /><path clip-path=\"url(#clip8600)\" d=\"M 0 0 M148.653 281.94 Q145.319 281.94 143.398 283.722 Q141.5 285.505 141.5 288.63 Q141.5 291.755 143.398 293.537 Q145.319 295.32 148.653 295.32 Q151.986 295.32 153.907 293.537 Q155.828 291.732 155.828 288.63 Q155.828 285.505 153.907 283.722 Q152.009 281.94 148.653 281.94 M143.977 279.949 Q140.967 279.209 139.278 277.148 Q137.611 275.088 137.611 272.125 Q137.611 267.982 140.551 265.574 Q143.514 263.167 148.653 263.167 Q153.815 263.167 156.754 265.574 Q159.694 267.982 159.694 272.125 Q159.694 275.088 158.004 277.148 Q156.338 279.209 153.352 279.949 Q156.731 280.736 158.606 283.028 Q160.504 285.32 160.504 288.63 Q160.504 293.653 157.426 296.338 Q154.37 299.023 148.653 299.023 Q142.935 299.023 139.856 296.338 Q136.801 293.653 136.801 288.63 Q136.801 285.32 138.699 283.028 Q140.597 280.736 143.977 279.949 M142.264 272.565 Q142.264 275.25 143.93 276.755 Q145.62 278.26 148.653 278.26 Q151.662 278.26 153.352 276.755 Q155.065 275.25 155.065 272.565 Q155.065 269.88 153.352 268.375 Q151.662 266.871 148.653 266.871 Q145.62 266.871 143.93 268.375 Q142.264 269.88 142.264 272.565 Z\" fill=\"#000000\" fill-rule=\"evenodd\" fill-opacity=\"1\" /><path clip-path=\"url(#clip8600)\" d=\"M 0 0 M175.574 266.871 Q171.963 266.871 170.134 270.435 Q168.328 273.977 168.328 281.107 Q168.328 288.213 170.134 291.778 Q171.963 295.32 175.574 295.32 Q179.208 295.32 181.013 291.778 Q182.842 288.213 182.842 281.107 Q182.842 273.977 181.013 270.435 Q179.208 266.871 175.574 266.871 M175.574 263.167 Q181.384 263.167 184.439 267.773 Q187.518 272.357 187.518 281.107 Q187.518 289.834 184.439 294.44 Q181.384 299.023 175.574 299.023 Q169.764 299.023 166.685 294.44 Q163.629 289.834 163.629 281.107 Q163.629 272.357 166.685 267.773 Q169.764 263.167 175.574 263.167 Z\" fill=\"#000000\" fill-rule=\"evenodd\" fill-opacity=\"1\" /><path clip-path=\"url(#clip8600)\" d=\"M 0 0 M202.587 266.871 Q198.976 266.871 197.148 270.435 Q195.342 273.977 195.342 281.107 Q195.342 288.213 197.148 291.778 Q198.976 295.32 202.587 295.32 Q206.222 295.32 208.027 291.778 Q209.856 288.213 209.856 281.107 Q209.856 273.977 208.027 270.435 Q206.222 266.871 202.587 266.871 M202.587 263.167 Q208.398 263.167 211.453 267.773 Q214.532 272.357 214.532 281.107 Q214.532 289.834 211.453 294.44 Q208.398 299.023 202.587 299.023 Q196.777 299.023 193.699 294.44 Q190.643 289.834 190.643 281.107 Q190.643 272.357 193.699 267.773 Q196.777 263.167 202.587 263.167 Z\" fill=\"#000000\" fill-rule=\"evenodd\" fill-opacity=\"1\" /><path clip-path=\"url(#clip8600)\" d=\"M 0 0 M229.601 266.871 Q225.99 266.871 224.161 270.435 Q222.356 273.977 222.356 281.107 Q222.356 288.213 224.161 291.778 Q225.99 295.32 229.601 295.32 Q233.235 295.32 235.041 291.778 Q236.87 288.213 236.87 281.107 Q236.87 273.977 235.041 270.435 Q233.235 266.871 229.601 266.871 M229.601 263.167 Q235.411 263.167 238.467 267.773 Q241.546 272.357 241.546 281.107 Q241.546 289.834 238.467 294.44 Q235.411 299.023 229.601 299.023 Q223.791 299.023 220.712 294.44 Q217.657 289.834 217.657 281.107 Q217.657 272.357 220.712 267.773 Q223.791 263.167 229.601 263.167 Z\" fill=\"#000000\" fill-rule=\"evenodd\" fill-opacity=\"1\" /><path clip-path=\"url(#clip8600)\" d=\"M 0 0 M2022.51 1525.47 L2022.51 1535.6 L2034.58 1535.6 L2034.58 1540.15 L2022.51 1540.15 L2022.51 1559.5 Q2022.51 1563.86 2023.69 1565.1 Q2024.9 1566.34 2028.56 1566.34 L2034.58 1566.34 L2034.58 1571.24 L2028.56 1571.24 Q2021.78 1571.24 2019.2 1568.73 Q2016.63 1566.18 2016.63 1559.5 L2016.63 1540.15 L2012.33 1540.15 L2012.33 1535.6 L2016.63 1535.6 L2016.63 1525.47 L2022.51 1525.47 Z\" fill=\"#000000\" fill-rule=\"evenodd\" fill-opacity=\"1\" /><path clip-path=\"url(#clip8600)\" d=\"M 0 0 M2040.72 1535.6 L2046.58 1535.6 L2046.58 1571.24 L2040.72 1571.24 L2040.72 1535.6 M2040.72 1521.72 L2046.58 1521.72 L2046.58 1529.13 L2040.72 1529.13 L2040.72 1521.72 Z\" fill=\"#000000\" fill-rule=\"evenodd\" fill-opacity=\"1\" /><path clip-path=\"url(#clip8600)\" d=\"M 0 0 M2080.47 1542.44 Q2082.67 1538.49 2085.73 1536.61 Q2088.78 1534.74 2092.92 1534.74 Q2098.49 1534.74 2101.51 1538.65 Q2104.54 1542.53 2104.54 1549.73 L2104.54 1571.24 L2098.65 1571.24 L2098.65 1549.92 Q2098.65 1544.79 2096.83 1542.31 Q2095.02 1539.83 2091.3 1539.83 Q2086.74 1539.83 2084.1 1542.85 Q2081.46 1545.88 2081.46 1551.1 L2081.46 1571.24 L2075.57 1571.24 L2075.57 1549.92 Q2075.57 1544.76 2073.76 1542.31 Q2071.94 1539.83 2068.16 1539.83 Q2063.67 1539.83 2061.03 1542.88 Q2058.39 1545.91 2058.39 1551.1 L2058.39 1571.24 L2052.5 1571.24 L2052.5 1535.6 L2058.39 1535.6 L2058.39 1541.13 Q2060.39 1537.86 2063.19 1536.3 Q2065.99 1534.74 2069.84 1534.74 Q2073.73 1534.74 2076.43 1536.71 Q2079.17 1538.68 2080.47 1542.44 Z\" fill=\"#000000\" fill-rule=\"evenodd\" fill-opacity=\"1\" /><path clip-path=\"url(#clip8600)\" d=\"M 0 0 M2141.17 1551.96 L2141.17 1554.82 L2114.24 1554.82 Q2114.63 1560.87 2117.87 1564.05 Q2121.15 1567.2 2126.98 1567.2 Q2130.35 1567.2 2133.5 1566.37 Q2136.68 1565.55 2139.8 1563.89 L2139.8 1569.43 Q2136.65 1570.77 2133.34 1571.47 Q2130.03 1572.17 2126.63 1572.17 Q2118.1 1572.17 2113.1 1567.2 Q2108.13 1562.24 2108.13 1553.77 Q2108.13 1545.02 2112.84 1539.89 Q2117.59 1534.74 2125.61 1534.74 Q2132.8 1534.74 2136.97 1539.38 Q2141.17 1544 2141.17 1551.96 M2135.32 1550.24 Q2135.25 1545.43 2132.61 1542.57 Q2130 1539.7 2125.67 1539.7 Q2120.77 1539.7 2117.81 1542.47 Q2114.88 1545.24 2114.44 1550.27 L2135.32 1550.24 Z\" fill=\"#000000\" fill-rule=\"evenodd\" fill-opacity=\"1\" /><path clip-path=\"url(#clip8600)\" d=\"M 0 0 M21.9562 871.613 L21.9562 865.757 L57.6042 865.757 L57.6042 871.613 L21.9562 871.613 M8.07896 871.613 L8.07896 865.757 L15.495 865.757 L15.495 871.613 L8.07896 871.613 Z\" fill=\"#000000\" fill-rule=\"evenodd\" fill-opacity=\"1\" /><path clip-path=\"url(#clip8600)\" d=\"M 0 0 M36.0881 829.981 L57.6042 829.981 L57.6042 835.838 L36.279 835.838 Q31.2183 835.838 28.7038 837.811 Q26.1894 839.785 26.1894 843.731 Q26.1894 848.474 29.2131 851.211 Q32.2368 853.948 37.4567 853.948 L57.6042 853.948 L57.6042 859.837 L21.9562 859.837 L21.9562 853.948 L27.4944 853.948 Q24.2797 851.848 22.6883 849.015 Q21.0968 846.15 21.0968 842.426 Q21.0968 836.283 24.9163 833.132 Q28.7038 829.981 36.0881 829.981 Z\" fill=\"#000000\" fill-rule=\"evenodd\" fill-opacity=\"1\" /><path clip-path=\"url(#clip8600)\" d=\"M 0 0 M27.3671 800.381 L8.07896 800.381 L8.07896 794.524 L57.6042 794.524 L57.6042 800.381 L52.257 800.381 Q55.4398 802.227 56.9994 805.06 Q58.5272 807.861 58.5272 811.807 Q58.5272 818.269 53.371 822.343 Q48.2147 826.385 39.812 826.385 Q31.4093 826.385 26.2531 822.343 Q21.0968 818.269 21.0968 811.807 Q21.0968 807.861 22.6564 805.06 Q24.1842 802.227 27.3671 800.381 M39.812 820.337 Q46.2732 820.337 49.9653 817.696 Q53.6256 815.022 53.6256 810.375 Q53.6256 805.728 49.9653 803.054 Q46.2732 800.381 39.812 800.381 Q33.3508 800.381 29.6905 803.054 Q25.9984 805.728 25.9984 810.375 Q25.9984 815.022 29.6905 817.696 Q33.3508 820.337 39.812 820.337 Z\" fill=\"#000000\" fill-rule=\"evenodd\" fill-opacity=\"1\" /><path clip-path=\"url(#clip8600)\" d=\"M 0 0 M21.9562 788.382 L21.9562 782.525 L57.6042 782.525 L57.6042 788.382 L21.9562 788.382 M8.07896 788.382 L8.07896 782.525 L15.495 782.525 L15.495 788.382 L8.07896 788.382 Z\" fill=\"#000000\" fill-rule=\"evenodd\" fill-opacity=\"1\" /><path clip-path=\"url(#clip8600)\" d=\"M 0 0 M23.3248 750.728 L28.7993 750.728 Q27.4307 753.211 26.7623 755.725 Q26.0621 758.208 26.0621 760.754 Q26.0621 766.452 29.6905 769.603 Q33.2872 772.754 39.812 772.754 Q46.3369 772.754 49.9653 769.603 Q53.5619 766.452 53.5619 760.754 Q53.5619 758.208 52.8935 755.725 Q52.1933 753.211 50.8247 750.728 L56.2355 750.728 Q57.3814 753.179 57.9543 755.821 Q58.5272 758.431 58.5272 761.391 Q58.5272 769.444 53.4664 774.186 Q48.4057 778.928 39.812 778.928 Q31.091 778.928 26.0939 774.154 Q21.0968 769.348 21.0968 761.009 Q21.0968 758.304 21.6697 755.725 Q22.2108 753.147 23.3248 750.728 Z\" fill=\"#000000\" fill-rule=\"evenodd\" fill-opacity=\"1\" /><path clip-path=\"url(#clip8600)\" d=\"M 0 0 M39.6847 728.385 Q39.6847 735.483 41.3079 738.22 Q42.9312 740.957 46.8461 740.957 Q49.9653 740.957 51.8114 738.92 Q53.6256 736.851 53.6256 733.318 Q53.6256 728.448 50.1881 725.52 Q46.7188 722.56 40.9897 722.56 L39.6847 722.56 L39.6847 728.385 M37.2657 716.704 L57.6042 716.704 L57.6042 722.56 L52.1933 722.56 Q55.4398 724.565 56.9994 727.557 Q58.5272 730.549 58.5272 734.878 Q58.5272 740.352 55.4716 743.599 Q52.3843 746.813 47.2281 746.813 Q41.2125 746.813 38.1569 742.803 Q35.1014 738.761 35.1014 730.772 L35.1014 722.56 L34.5285 722.56 Q30.4862 722.56 28.2901 725.234 Q26.0621 727.875 26.0621 732.682 Q26.0621 735.737 26.7941 738.634 Q27.5262 741.53 28.9903 744.204 L23.5795 744.204 Q22.3381 740.989 21.7334 737.965 Q21.0968 734.941 21.0968 732.077 Q21.0968 724.343 25.1072 720.523 Q29.1176 716.704 37.2657 716.704 Z\" fill=\"#000000\" fill-rule=\"evenodd\" fill-opacity=\"1\" /><path clip-path=\"url(#clip8600)\" d=\"M 0 0 M11.8347 704.768 L21.9562 704.768 L21.9562 692.705 L26.5077 692.705 L26.5077 704.768 L45.8594 704.768 Q50.2199 704.768 51.4613 703.59 Q52.7026 702.381 52.7026 698.721 L52.7026 692.705 L57.6042 692.705 L57.6042 698.721 Q57.6042 705.5 55.0897 708.078 Q52.5434 710.656 45.8594 710.656 L26.5077 710.656 L26.5077 714.953 L21.9562 714.953 L21.9562 710.656 L11.8347 710.656 L11.8347 704.768 Z\" fill=\"#000000\" fill-rule=\"evenodd\" fill-opacity=\"1\" /><path clip-path=\"url(#clip8600)\" d=\"M 0 0 M26.0621 672.748 Q26.0621 677.459 29.7542 680.196 Q33.4145 682.934 39.812 682.934 Q46.2095 682.934 49.9017 680.228 Q53.5619 677.491 53.5619 672.748 Q53.5619 668.07 49.8698 665.332 Q46.1777 662.595 39.812 662.595 Q33.4781 662.595 29.786 665.332 Q26.0621 668.07 26.0621 672.748 M21.0968 672.748 Q21.0968 665.11 26.0621 660.749 Q31.0273 656.389 39.812 656.389 Q48.5649 656.389 53.5619 660.749 Q58.5272 665.11 58.5272 672.748 Q58.5272 680.419 53.5619 684.78 Q48.5649 689.108 39.812 689.108 Q31.0273 689.108 26.0621 684.78 Q21.0968 680.419 21.0968 672.748 Z\" fill=\"#000000\" fill-rule=\"evenodd\" fill-opacity=\"1\" /><path clip-path=\"url(#clip8600)\" d=\"M 0 0 M27.4307 629.589 Q26.8578 630.576 26.6032 631.753 Q26.3167 632.899 26.3167 634.3 Q26.3167 639.265 29.5632 641.938 Q32.7779 644.58 38.8253 644.58 L57.6042 644.58 L57.6042 650.468 L21.9562 650.468 L21.9562 644.58 L27.4944 644.58 Q24.2479 642.734 22.6883 639.774 Q21.0968 636.814 21.0968 632.581 Q21.0968 631.976 21.1923 631.244 Q21.256 630.512 21.4151 629.621 L27.4307 629.589 Z\" fill=\"#000000\" fill-rule=\"evenodd\" fill-opacity=\"1\" /><path clip-path=\"url(#clip8600)\" d=\"M 0 0 M23.0065 600.721 L28.5447 600.721 Q27.2716 603.203 26.635 605.877 Q25.9984 608.55 25.9984 611.415 Q25.9984 615.775 27.3352 617.972 Q28.672 620.136 31.3456 620.136 Q33.3826 620.136 34.5603 618.576 Q35.7061 617.017 36.7565 612.306 L37.2021 610.301 Q38.5389 604.062 40.9897 601.453 Q43.4086 598.811 47.7691 598.811 Q52.7344 598.811 55.6308 602.758 Q58.5272 606.672 58.5272 613.547 Q58.5272 616.412 57.9543 619.531 Q57.4132 622.619 56.2992 626.056 L50.2518 626.056 Q51.9387 622.81 52.798 619.658 Q53.6256 616.507 53.6256 613.42 Q53.6256 609.282 52.2251 607.054 Q50.7929 604.826 48.2147 604.826 Q45.8276 604.826 44.5545 606.45 Q43.2813 608.041 42.1037 613.484 L41.6262 615.521 Q40.4804 620.963 38.1251 623.382 Q35.738 625.801 31.6002 625.801 Q26.5713 625.801 23.8341 622.237 Q21.0968 618.672 21.0968 612.115 Q21.0968 608.869 21.5743 606.004 Q22.0517 603.139 23.0065 600.721 Z\" fill=\"#000000\" fill-rule=\"evenodd\" fill-opacity=\"1\" /><polyline clip-path=\"url(#clip8602)\" style=\"stroke:#009af9; stroke-width:4; stroke-opacity:1; fill:none\" points=\"\n",
       "  382.406,158.317 401.232,155.701 420.058,168.021 438.884,150.098 457.71,140.975 476.536,119.514 495.363,110.407 514.189,114.434 533.015,117.044 551.841,133.162 \n",
       "  570.667,120.947 589.493,197.606 608.319,178.79 627.145,163.755 645.971,171.773 664.797,180.056 683.623,202.749 702.449,168.645 721.275,118.449 740.101,106.129 \n",
       "  758.927,121.179 777.753,122.279 796.579,105.217 815.405,86.1857 834.231,90.3069 853.057,99.2974 871.884,115.807 890.71,106 909.536,111.05 928.362,138.622 \n",
       "  947.188,231.01 966.014,262.535 984.84,337.879 1003.67,433.233 1022.49,592.399 1041.32,441.823 1060.14,394.807 1078.97,392.601 1097.8,446.079 1116.62,530.259 \n",
       "  1135.45,654.755 1154.27,651.198 1173.1,702.928 1191.93,922.429 1210.75,878.718 1229.58,1055.33 1248.4,1103.65 1267.23,1214.23 1286.06,1220.03 1304.88,1209.02 \n",
       "  1323.71,1384.24 1342.53,1183.37 1361.36,1024.06 1380.19,952.606 1399.01,985.841 1417.84,979.564 1436.67,966.856 1455.49,1090.25 1474.32,1091.42 1493.14,1095.15 \n",
       "  1511.97,929.2 1530.8,825.606 1549.62,838.508 1568.45,776.933 1587.27,815.457 1606.1,773.008 1624.93,821.571 1643.75,827.987 1662.58,745.223 1681.4,764.546 \n",
       "  1700.23,856.914 1719.06,826.121 1737.88,792.294 1756.71,799.669 1775.53,752.251 1794.36,714.407 1813.19,683.032 1832.01,705.296 1850.84,763.044 1869.66,806.681 \n",
       "  1888.49,756.963 1907.32,771.268 1926.14,766.294 1944.97,734.577 1963.79,732.551 1982.62,730.578 2001.45,814.218 2020.27,823.914 2039.1,811.586 2057.92,690.018 \n",
       "  2076.75,703.566 2095.58,697.356 2114.4,688.785 2133.23,718.209 2152.05,631.886 2170.88,585.277 2189.71,559.53 2208.53,593.82 2227.36,590.586 2246.19,561.476 \n",
       "  2265.01,487.598 2283.84,481.839 2302.66,363.285 2321.49,333.229 2340.32,349.733 2359.14,361.182 2377.97,493.023 2396.79,533.841 2415.62,543.032 2434.45,453.644 \n",
       "  2453.27,479.855 2472.1,510.403 2490.92,473.472 2509.75,522.13 2528.58,490.428 2547.4,530.436 2566.23,558.186 2585.05,574.079 2603.88,579.116 2622.71,541.317 \n",
       "  2641.53,527.162 2660.36,504.164 2679.18,492.595 2698.01,507.827 2716.84,515.958 2735.66,516.729 2754.49,516.973 2773.31,450.158 2792.14,443.768 2810.97,396.454 \n",
       "  2829.79,420.33 2848.62,429.118 2867.44,434.512 2886.27,402.163 2905.1,400.938 2923.92,408.566 2942.75,451.821 2961.58,451.851 2980.4,460.377 2999.23,454.71 \n",
       "  3018.05,482.978 3036.88,474.891 3055.71,441.688 3074.53,426.1 3093.36,377.775 3112.18,356.352 3131.01,348.631 3149.84,305.441 3168.66,261.829 3187.49,275.619 \n",
       "  3206.31,282.799 3225.14,283.829 3243.97,281.096 3262.79,294.6 3281.62,290.959 3300.44,308.224 3319.27,286.106 3338.1,241.942 3356.92,231.282 3375.75,237.114 \n",
       "  3394.57,202.274 3413.4,189.957 3432.23,201.101 3451.05,199.163 3469.88,136.59 3488.7,132.059 3507.53,214.011 3526.36,290.362 3545.18,255.451 3564.01,259.357 \n",
       "  3582.83,302.34 3601.66,270.379 3620.49,252.364 3639.31,235.751 3658.14,274.016 3676.96,287.696 3695.79,345.094 3714.62,363.932 3733.44,347.61 3752.27,393.532 \n",
       "  3771.1,375.586 \n",
       "  \"/>\n",
       "<path clip-path=\"url(#clip8600)\" d=\"\n",
       "M398.346 342.924 L940.599 342.924 L940.599 221.964 L398.346 221.964  Z\n",
       "  \" fill=\"#ffffff\" fill-rule=\"evenodd\" fill-opacity=\"1\"/>\n",
       "<polyline clip-path=\"url(#clip8600)\" style=\"stroke:#000000; stroke-width:4; stroke-opacity:1; fill:none\" points=\"\n",
       "  398.346,342.924 940.599,342.924 940.599,221.964 398.346,221.964 398.346,342.924 \n",
       "  \"/>\n",
       "<polyline clip-path=\"url(#clip8600)\" style=\"stroke:#009af9; stroke-width:4; stroke-opacity:1; fill:none\" points=\"\n",
       "  437.546,282.444 672.746,282.444 \n",
       "  \"/>\n",
       "<path clip-path=\"url(#clip8600)\" d=\"M 0 0 M711.946 263.706 L721.76 263.706 L721.76 267.016 L716.205 267.016 L716.205 302.664 L721.76 302.664 L721.76 305.974 L711.946 305.974 L711.946 263.706 Z\" fill=\"#000000\" fill-rule=\"evenodd\" fill-opacity=\"1\" /><path clip-path=\"url(#clip8600)\" d=\"M 0 0 M730.256 265.164 L730.256 278.011 L726.32 278.011 L726.32 265.164 L730.256 265.164 M739.006 265.164 L739.006 278.011 L735.07 278.011 L735.07 265.164 L739.006 265.164 Z\" fill=\"#000000\" fill-rule=\"evenodd\" fill-opacity=\"1\" /><path clip-path=\"url(#clip8600)\" d=\"M 0 0 M743.658 265.164 L748.334 265.164 L748.334 279.331 L765.325 279.331 L765.325 265.164 L770.001 265.164 L770.001 299.724 L765.325 299.724 L765.325 283.266 L748.334 283.266 L748.334 299.724 L743.658 299.724 L743.658 265.164 Z\" fill=\"#000000\" fill-rule=\"evenodd\" fill-opacity=\"1\" /><path clip-path=\"url(#clip8600)\" d=\"M 0 0 M774.468 273.798 L778.728 273.798 L778.728 299.724 L774.468 299.724 L774.468 273.798 M774.468 263.706 L778.728 263.706 L778.728 269.099 L774.468 269.099 L774.468 263.706 Z\" fill=\"#000000\" fill-rule=\"evenodd\" fill-opacity=\"1\" /><path clip-path=\"url(#clip8600)\" d=\"M 0 0 M800.255 286.46 Q800.255 281.831 798.334 279.284 Q796.436 276.738 792.987 276.738 Q789.561 276.738 787.64 279.284 Q785.741 281.831 785.741 286.46 Q785.741 291.067 787.64 293.613 Q789.561 296.159 792.987 296.159 Q796.436 296.159 798.334 293.613 Q800.255 291.067 800.255 286.46 M804.515 296.507 Q804.515 303.127 801.575 306.344 Q798.635 309.585 792.57 309.585 Q790.325 309.585 788.334 309.238 Q786.343 308.914 784.468 308.219 L784.468 304.076 Q786.343 305.094 788.172 305.581 Q790.001 306.067 791.899 306.067 Q796.089 306.067 798.172 303.868 Q800.255 301.692 800.255 297.27 L800.255 295.164 Q798.936 297.456 796.876 298.59 Q794.815 299.724 791.945 299.724 Q787.177 299.724 784.26 296.09 Q781.343 292.456 781.343 286.46 Q781.343 280.442 784.26 276.808 Q787.177 273.173 791.945 273.173 Q794.815 273.173 796.876 274.308 Q798.936 275.442 800.255 277.733 L800.255 273.798 L804.515 273.798 L804.515 296.507 Z\" fill=\"#000000\" fill-rule=\"evenodd\" fill-opacity=\"1\" /><path clip-path=\"url(#clip8600)\" d=\"M 0 0 M830.533 284.076 L830.533 299.724 L826.274 299.724 L826.274 284.215 Q826.274 280.534 824.838 278.706 Q823.403 276.877 820.533 276.877 Q817.084 276.877 815.093 279.076 Q813.102 281.275 813.102 285.071 L813.102 299.724 L808.82 299.724 L808.82 263.706 L813.102 263.706 L813.102 277.826 Q814.63 275.488 816.69 274.331 Q818.774 273.173 821.482 273.173 Q825.95 273.173 828.241 275.951 Q830.533 278.706 830.533 284.076 Z\" fill=\"#000000\" fill-rule=\"evenodd\" fill-opacity=\"1\" /><path clip-path=\"url(#clip8600)\" d=\"M 0 0 M839.028 265.164 L839.028 278.011 L835.093 278.011 L835.093 265.164 L839.028 265.164 M847.778 265.164 L847.778 278.011 L843.843 278.011 L843.843 265.164 L847.778 265.164 Z\" fill=\"#000000\" fill-rule=\"evenodd\" fill-opacity=\"1\" /><path clip-path=\"url(#clip8600)\" d=\"M 0 0 M862.199 263.706 L862.199 305.974 L852.385 305.974 L852.385 302.664 L857.917 302.664 L857.917 267.016 L852.385 267.016 L852.385 263.706 L862.199 263.706 Z\" fill=\"#000000\" fill-rule=\"evenodd\" fill-opacity=\"1\" /></svg>\n"
      ]
     },
     "execution_count": 9,
     "metadata": {},
     "output_type": "execute_result"
    }
   ],
   "source": [
    "using Plots\n",
    "\n",
    "rows = count-180:count\n",
    "gr()\n",
    "plot(          dates[rows], # x-axis: dates\n",
    "               [  df[rows,4]    ], # y-axis\n",
    "    label    = [  columns[4]    ]  ,\n",
    "    legend   =:topleft, \n",
    "              # :right, :left, :top, :bottom, :inside, :best, :legend, :topright, :topleft, :bottomleft, :bottomright\n",
    "    xlabel   = \"time\",\n",
    "    ylabel   = \"indicators\",\n",
    "    size     = (980, 400), # width, height\n",
    "    layout = (1, 1) # number of graphs: vertically, horizontally\n",
    "    )"
   ]
  },
  {
   "cell_type": "markdown",
   "metadata": {},
   "source": [
    "# Extract only the desired data"
   ]
  },
  {
   "cell_type": "code",
   "execution_count": 10,
   "metadata": {},
   "outputs": [
    {
     "data": {
      "text/html": [
       "<table class=\"data-frame\"><thead><tr><th></th><th>Day</th><th>Date</th><th>High</th><th>Low</th></tr><tr><th></th><th>Int64</th><th>String</th><th>Float64</th><th>Float64</th></tr></thead><tbody><p>6 rows × 4 columns</p><tr><th>1</th><td>31074</td><td>1985-01-29</td><td>1295.49</td><td>1266.89</td></tr><tr><th>2</th><td>31075</td><td>1985-01-30</td><td>1305.1</td><td>1278.93</td></tr><tr><th>3</th><td>31076</td><td>1985-01-31</td><td>1293.4</td><td>1272.64</td></tr><tr><th>4</th><td>31077</td><td>1985-02-01</td><td>1286.11</td><td>1269.77</td></tr><tr><th>5</th><td>31080</td><td>1985-02-04</td><td>1294.94</td><td>1268.99</td></tr><tr><th>6</th><td>31081</td><td>1985-02-05</td><td>1301.13</td><td>1278.6</td></tr></tbody></table>"
      ],
      "text/latex": [
       "\\begin{tabular}{r|cccc}\n",
       "\t& Day & Date & High & Low\\\\\n",
       "\t\\hline\n",
       "\t& Int64 & String & Float64 & Float64\\\\\n",
       "\t\\hline\n",
       "\t1 & 31074 & 1985-01-29 & 1295.49 & 1266.89 \\\\\n",
       "\t2 & 31075 & 1985-01-30 & 1305.1 & 1278.93 \\\\\n",
       "\t3 & 31076 & 1985-01-31 & 1293.4 & 1272.64 \\\\\n",
       "\t4 & 31077 & 1985-02-01 & 1286.11 & 1269.77 \\\\\n",
       "\t5 & 31080 & 1985-02-04 & 1294.94 & 1268.99 \\\\\n",
       "\t6 & 31081 & 1985-02-05 & 1301.13 & 1278.6 \\\\\n",
       "\\end{tabular}\n"
      ],
      "text/plain": [
       "6×4 DataFrame\n",
       "│ Row │ Day   │ Date       │ High    │ Low     │\n",
       "│     │ \u001b[90mInt64\u001b[39m │ \u001b[90mString\u001b[39m     │ \u001b[90mFloat64\u001b[39m │ \u001b[90mFloat64\u001b[39m │\n",
       "├─────┼───────┼────────────┼─────────┼─────────┤\n",
       "│ 1   │ 31074 │ 1985-01-29 │ 1295.49 │ 1266.89 │\n",
       "│ 2   │ 31075 │ 1985-01-30 │ 1305.1  │ 1278.93 │\n",
       "│ 3   │ 31076 │ 1985-01-31 │ 1293.4  │ 1272.64 │\n",
       "│ 4   │ 31077 │ 1985-02-01 │ 1286.11 │ 1269.77 │\n",
       "│ 5   │ 31080 │ 1985-02-04 │ 1294.94 │ 1268.99 │\n",
       "│ 6   │ 31081 │ 1985-02-05 │ 1301.13 │ 1278.6  │"
      ]
     },
     "execution_count": 10,
     "metadata": {},
     "output_type": "execute_result"
    }
   ],
   "source": [
    "using DataFrames\n",
    "df1 = DataFrame( Day = df[:,1], \n",
    "                Date = df[:,2],\n",
    "                High = df[:,4],\n",
    "                Low  = df[:,5]\n",
    "               )\n",
    "\n",
    "first( df1, 6)"
   ]
  },
  {
   "cell_type": "markdown",
   "metadata": {},
   "source": [
    "[back to top](#Table-of-Contents)\n",
    "<hr/>\n",
    "\n",
    "# Save DataFrame to CSV file"
   ]
  },
  {
   "cell_type": "code",
   "execution_count": 11,
   "metadata": {},
   "outputs": [],
   "source": [
    "save_dataset(df1, dataset_file_name);"
   ]
  },
  {
   "cell_type": "code",
   "execution_count": null,
   "metadata": {},
   "outputs": [],
   "source": []
  }
 ],
 "metadata": {
  "kernelspec": {
   "display_name": "Julia 1.5.0",
   "language": "julia",
   "name": "julia-1.5"
  },
  "language_info": {
   "file_extension": ".jl",
   "mimetype": "application/julia",
   "name": "julia",
   "version": "1.5.0"
  },
  "toc": {
   "base_numbering": 1,
   "nav_menu": {},
   "number_sections": false,
   "sideBar": true,
   "skip_h1_title": false,
   "title_cell": "Table of Contents",
   "title_sidebar": "Contents",
   "toc_cell": true,
   "toc_position": {
    "height": "calc(100% - 180px)",
    "left": "10px",
    "top": "150px",
    "width": "165px"
   },
   "toc_section_display": true,
   "toc_window_display": true
  }
 },
 "nbformat": 4,
 "nbformat_minor": 4
}
