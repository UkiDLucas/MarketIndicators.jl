{
 "cells": [
  {
   "cell_type": "markdown",
   "metadata": {},
   "source": [
    "# Federal Reserve System (Fed) Industrial Production m/m\n",
    "\n",
    "Fed Industrial Production m/m reflects a change in the real volume of US production in the given month compared to the previous month. The index is calculated relative to the base period having a benchmark level of 100% (currently, it is the year of 2012).\n",
    "\n",
    "The indicator calculation reflects industries included in the North American Industry Classification System (NAICS). NAICS includes manufacturing, utilities, mining, energy, books and periodical publishing, etc. The general index is made up of 299 separate data series (by NAICS codes). Weights are given to all individual subindexes.\n",
    "\n",
    "The indicator is calculated based on two types of source data: production volume expressed in physical units and data on the inclusion of materials in the production process. Physical production data is received from trade associations and government agencies. If this data is not available, production volume is calculated based on hours worked by employees in different industries (this data is collected monthly by the Bureau of Labor Statistics).\n",
    "\n",
    "The Fed uses this index for evaluating inflation and the country's manufacturing sector. The indicator value can help forecast current-period GDP.\n",
    "\n",
    "A higher than expected reading indicates growth in production activity and can have a positive effect on dollar quotes.\n",
    "    \n",
    "    Source:\n",
    "    \n",
    "    - https://www.mql5.com/en/economic-calendar/united-states/industrial-production-mm"
   ]
  },
  {
   "cell_type": "code",
   "execution_count": null,
   "metadata": {},
   "outputs": [],
   "source": []
  }
 ],
 "metadata": {
  "kernelspec": {
   "display_name": "Julia 1.5.0",
   "language": "julia",
   "name": "julia-1.5"
  },
  "language_info": {
   "file_extension": ".jl",
   "mimetype": "application/julia",
   "name": "julia",
   "version": "1.5.0"
  },
  "toc": {
   "base_numbering": 1,
   "nav_menu": {},
   "number_sections": true,
   "sideBar": true,
   "skip_h1_title": false,
   "title_cell": "Table of Contents",
   "title_sidebar": "Contents",
   "toc_cell": false,
   "toc_position": {},
   "toc_section_display": true,
   "toc_window_display": false
  }
 },
 "nbformat": 4,
 "nbformat_minor": 4
}
