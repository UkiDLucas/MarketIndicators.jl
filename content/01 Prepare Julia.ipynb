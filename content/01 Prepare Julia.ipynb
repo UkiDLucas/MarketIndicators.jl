{
 "cells": [
  {
   "cell_type": "markdown",
   "metadata": {
    "toc": true
   },
   "source": [
    "<h1>Table of Contents<span class=\"tocSkip\"></span></h1>\n",
    "<div class=\"toc\"><ul class=\"toc-item\"><li><span><a href=\"#Last-update-date\" data-toc-modified-id=\"Last-update-date-1\">Last update date</a></span></li><li><span><a href=\"#Show-Environment-Data\" data-toc-modified-id=\"Show-Environment-Data-2\">Show Environment Data</a></span></li><li><span><a href=\"#Update-Currently-Installed-Packages\" data-toc-modified-id=\"Update-Currently-Installed-Packages-3\">Update Currently Installed Packages</a></span></li><li><span><a href=\"#Read-and-install-packages-from-a-text-file\" data-toc-modified-id=\"Read-and-install-packages-from-a-text-file-4\">Read and install packages from a text file</a></span></li><li><span><a href=\"#Show-all-currently-installed-Packages\" data-toc-modified-id=\"Show-all-currently-installed-Packages-5\">Show all currently installed Packages</a></span></li></ul></div>"
   ]
  },
  {
   "cell_type": "markdown",
   "metadata": {},
   "source": [
    "# Last update date"
   ]
  },
  {
   "cell_type": "code",
   "execution_count": null,
   "metadata": {},
   "outputs": [],
   "source": [
    "include(\"MarketIndicators.jl\")\n",
    "updated()"
   ]
  },
  {
   "cell_type": "markdown",
   "metadata": {},
   "source": [
    "# Show Environment Data "
   ]
  },
  {
   "cell_type": "code",
   "execution_count": null,
   "metadata": {},
   "outputs": [],
   "source": [
    "versioninfo(verbose=true)"
   ]
  },
  {
   "cell_type": "markdown",
   "metadata": {},
   "source": [
    "# Update Currently Installed Packages\n",
    "\n",
    "This is take a while!"
   ]
  },
  {
   "cell_type": "code",
   "execution_count": null,
   "metadata": {},
   "outputs": [],
   "source": [
    "import Pkg\n",
    "using Pkg \n",
    "Pkg.resolve()\n",
    "Pkg.update()"
   ]
  },
  {
   "cell_type": "markdown",
   "metadata": {},
   "source": [
    "# Read and install packages from a text file\n",
    "\n",
    "This will take a long time!"
   ]
  },
  {
   "cell_type": "code",
   "execution_count": null,
   "metadata": {},
   "outputs": [],
   "source": [
    "packages = readlines(\"Julia_packages.txt\", keep=true) \n",
    "for i in 1:length(packages)\n",
    "    line = packages[i] # take next line, for example: \"[5789e2e9] FileIO v1.4.3\"\n",
    "    line = line[14:end] # cut off the first 14 characters, i.e. the package [id]\n",
    "    last_space = findlast(\" \", line)[1]  # find last space, take the first dimention\n",
    "    cut2 = last_space - 1 # one character before the last space\n",
    "    package = line[1:cut2]\n",
    "    println(\"# Pkg.add(\\\"\", package,\"\\\") \")\n",
    "    println(\"# using \", package )\n",
    "    println(\" \" )\n",
    "    Pkg.add( package )\n",
    "end"
   ]
  },
  {
   "cell_type": "markdown",
   "metadata": {},
   "source": [
    "# Show all currently installed Packages"
   ]
  },
  {
   "cell_type": "code",
   "execution_count": 2,
   "metadata": {
    "ExecuteTime": {
     "end_time": "2020-11-29T09:59:16.195000-05:00",
     "start_time": "2020-11-29T14:59:15.069Z"
    }
   },
   "outputs": [
    {
     "name": "stdout",
     "output_type": "stream",
     "text": [
      "\u001b[32m\u001b[1mStatus\u001b[22m\u001b[39m `~/.julia/environments/v1.4/Project.toml`\n",
      " \u001b[90m [c52e3926]\u001b[39m\u001b[37m Atom v0.11.3\u001b[39m\n",
      " \u001b[90m [6e4b80f9]\u001b[39m\u001b[37m BenchmarkTools v0.5.0\u001b[39m\n",
      " \u001b[90m [9e28174c]\u001b[39m\u001b[37m BinDeps v1.0.1\u001b[39m\n",
      " \u001b[90m [336ed68f]\u001b[39m\u001b[37m CSV v0.6.1\u001b[39m\n",
      " \u001b[90m [052768ef]\u001b[39m\u001b[37m CUDA v0.1.0\u001b[39m\n",
      " \u001b[90m [3895d2a7]\u001b[39m\u001b[37m CUDAapi v4.0.0\u001b[39m\n",
      " \u001b[90m [49dc2e85]\u001b[39m\u001b[37m Calculus v0.5.1\u001b[39m\n",
      " \u001b[90m [944b1d66]\u001b[39m\u001b[37m CodecZlib v0.6.0\u001b[39m\n",
      " \u001b[90m [19ecbf4d]\u001b[39m\u001b[37m Codecs v0.5.0\u001b[39m\n",
      " \u001b[90m [3da002f7]\u001b[39m\u001b[37m ColorTypes v0.8.1\u001b[39m\n",
      " \u001b[90m [5ae59095]\u001b[39m\u001b[37m Colors v0.9.6\u001b[39m\n",
      " \u001b[90m [861a8166]\u001b[39m\u001b[37m Combinatorics v1.0.2\u001b[39m\n",
      " \u001b[90m [34da2185]\u001b[39m\u001b[37m Compat v2.2.1\u001b[39m\n",
      " \u001b[90m [a81c6b42]\u001b[39m\u001b[37m Compose v0.9.1\u001b[39m\n",
      " \u001b[90m [8f4d0f93]\u001b[39m\u001b[37m Conda v1.5.0\u001b[39m\n",
      " \u001b[90m [d38c429a]\u001b[39m\u001b[37m Contour v0.5.5\u001b[39m\n",
      " \u001b[90m [0fe7c1db]\u001b[39m\u001b[37m DataArrays v0.7.0\u001b[39m\n",
      " \u001b[90m [a93c6f00]\u001b[39m\u001b[37m DataFrames v0.20.2\u001b[39m\n",
      " \u001b[90m [864edb3b]\u001b[39m\u001b[37m DataStructures v0.17.20\u001b[39m\n",
      " \u001b[90m [b4f34e82]\u001b[39m\u001b[37m Distances v0.8.2\u001b[39m\n",
      " \u001b[90m [31c24e10]\u001b[39m\u001b[37m Distributions v0.23.8\u001b[39m\n",
      " \u001b[90m [5789e2e9]\u001b[39m\u001b[37m FileIO v1.4.4\u001b[39m\n",
      " \u001b[90m [53c48c17]\u001b[39m\u001b[37m FixedPointNumbers v0.6.1\u001b[39m\n",
      " \u001b[90m [587475ba]\u001b[39m\u001b[37m Flux v0.8.3\u001b[39m\n",
      " \u001b[90m [59287772]\u001b[39m\u001b[37m Formatting v0.4.1\u001b[39m\n",
      " \u001b[90m [f6369f11]\u001b[39m\u001b[37m ForwardDiff v0.10.12\u001b[39m\n",
      " \u001b[90m [38e38edf]\u001b[39m\u001b[37m GLM v1.3.11\u001b[39m\n",
      " \u001b[90m [28b8d3ca]\u001b[39m\u001b[37m GR v0.48.0\u001b[39m\n",
      " \u001b[90m [92fee26a]\u001b[39m\u001b[37m GZip v0.5.1\u001b[39m\n",
      " \u001b[90m [5c1252a2]\u001b[39m\u001b[37m GeometryBasics v0.3.3\u001b[39m\n",
      " \u001b[90m [a1b4810d]\u001b[39m\u001b[37m Hexagons v0.2.0\u001b[39m\n",
      " \u001b[90m [09f84164]\u001b[39m\u001b[37m HypothesisTests v0.10.1\u001b[39m\n",
      " \u001b[90m [7073ff75]\u001b[39m\u001b[37m IJulia v1.22.0\u001b[39m\n",
      " \u001b[90m [682c06a0]\u001b[39m\u001b[37m JSON v0.21.1\u001b[39m\n",
      " \u001b[90m [e5e0dc1b]\u001b[39m\u001b[37m Juno v0.7.2\u001b[39m\n",
      " \u001b[90m [5ab0869b]\u001b[39m\u001b[37m KernelDensity v0.5.1\u001b[39m\n",
      " \u001b[90m [1902f260]\u001b[39m\u001b[37m Knet v1.3.7\u001b[39m\n",
      " \u001b[90m [38d8eb38]\u001b[39m\u001b[37m Lathe v0.0.9\u001b[39m\n",
      " \u001b[90m [4345ca2d]\u001b[39m\u001b[37m Loess v0.5.2\u001b[39m\n",
      " \u001b[90m [442fdcdd]\u001b[39m\u001b[37m Measures v0.3.1\u001b[39m\n",
      " \u001b[90m [dbeba491]\u001b[39m\u001b[37m Metalhead v0.4.0\u001b[39m\n",
      " \u001b[90m [6f286f6a]\u001b[39m\u001b[37m MultivariateStats v0.7.0\u001b[39m\n",
      " \u001b[90m [77ba4419]\u001b[39m\u001b[37m NaNMath v0.3.4\u001b[39m\n",
      " \u001b[90m [6fe1bfb0]\u001b[39m\u001b[37m OffsetArrays v1.3.1\u001b[39m\n",
      " \u001b[90m [429524aa]\u001b[39m\u001b[37m Optim v0.20.1\u001b[39m\n",
      " \u001b[90m [90014a1f]\u001b[39m\u001b[37m PDMats v0.10.1\u001b[39m\n",
      " \u001b[90m [8314cec4]\u001b[39m\u001b[37m PGFPlotsX v1.2.10\u001b[39m\n",
      " \u001b[90m [d96e819e]\u001b[39m\u001b[37m Parameters v0.12.1\u001b[39m\n",
      " \u001b[90m [91a5bcdd]\u001b[39m\u001b[37m Plots v1.0.14\u001b[39m\n",
      " \u001b[90m [f27b6e38]\u001b[39m\u001b[37m Polynomials v1.1.11\u001b[39m\n",
      " \u001b[90m [27ebfcd6]\u001b[39m\u001b[37m Primes v0.5.0\u001b[39m\n",
      " \u001b[90m [438e738f]\u001b[39m\u001b[37m PyCall v1.92.1\u001b[39m\n",
      " \u001b[90m [d330b81b]\u001b[39m\u001b[37m PyPlot v2.9.0\u001b[39m\n",
      " \u001b[90m [dca85d43]\u001b[39m\u001b[37m QuartzImageIO v0.7.3\u001b[39m\n",
      " \u001b[90m [ce6b1742]\u001b[39m\u001b[37m RDatasets v0.6.10\u001b[39m\n",
      " \u001b[90m [189a3867]\u001b[39m\u001b[37m Reexport v0.2.0\u001b[39m\n",
      " \u001b[90m [79098fc4]\u001b[39m\u001b[37m Rmath v0.6.1\u001b[39m\n",
      " \u001b[90m [f2b01f46]\u001b[39m\u001b[37m Roots v1.0.5\u001b[39m\n",
      " \u001b[90m [992d4aef]\u001b[39m\u001b[37m Showoff v0.3.2\u001b[39m\n",
      " \u001b[90m [a2af1166]\u001b[39m\u001b[37m SortingAlgorithms v0.3.1\u001b[39m\n",
      " \u001b[90m [90137ffa]\u001b[39m\u001b[37m StaticArrays v0.12.5\u001b[39m\n",
      " \u001b[90m [2913bbd2]\u001b[39m\u001b[37m StatsBase v0.32.2\u001b[39m\n",
      " \u001b[90m [4c63d2b9]\u001b[39m\u001b[37m StatsFuns v0.9.5\u001b[39m\n",
      " \u001b[90m [f3b207a7]\u001b[39m\u001b[37m StatsPlots v0.14.15\u001b[39m\n",
      " \u001b[90m [1d978283]\u001b[39m\u001b[37m TensorFlow v0.11.0\u001b[39m\n",
      " \u001b[90m [a2db99b7]\u001b[39m\u001b[37m TextAnalysis v0.6.0\u001b[39m\n",
      " \u001b[90m [b1dd1ac2]\u001b[39m\u001b[37m TinySegmenter v1.0.0\u001b[39m\n",
      " \u001b[90m [30578b45]\u001b[39m\u001b[37m URIParser v0.4.1\u001b[39m\n",
      " \u001b[90m [b8865327]\u001b[39m\u001b[37m UnicodePlots v1.3.0\u001b[39m\n",
      " \u001b[90m [796a5d58]\u001b[39m\u001b[37m WordTokenizers v0.5.6\u001b[39m\n",
      " \u001b[90m [ade2ca70]\u001b[39m\u001b[37m Dates \u001b[39m\n",
      " \u001b[90m [8bb1440f]\u001b[39m\u001b[37m DelimitedFiles \u001b[39m\n",
      " \u001b[90m [ea8e919c]\u001b[39m\u001b[37m SHA \u001b[39m\n",
      " \u001b[90m [10745b16]\u001b[39m\u001b[37m Statistics \u001b[39m\n"
     ]
    }
   ],
   "source": [
    "import Pkg\n",
    "using Pkg \n",
    "Pkg.status()"
   ]
  },
  {
   "cell_type": "code",
   "execution_count": null,
   "metadata": {},
   "outputs": [],
   "source": []
  }
 ],
 "metadata": {
  "kernelspec": {
   "display_name": "Julia 1.4.2",
   "language": "julia",
   "name": "julia-1.4"
  },
  "language_info": {
   "file_extension": ".jl",
   "mimetype": "application/julia",
   "name": "julia",
   "version": "1.4.2"
  },
  "toc": {
   "base_numbering": 1,
   "nav_menu": {},
   "number_sections": false,
   "sideBar": true,
   "skip_h1_title": false,
   "title_cell": "Table of Contents",
   "title_sidebar": "Contents",
   "toc_cell": true,
   "toc_position": {},
   "toc_section_display": true,
   "toc_window_display": true
  },
  "varInspector": {
   "cols": {
    "lenName": 16,
    "lenType": 16,
    "lenVar": 40
   },
   "kernels_config": {
    "python": {
     "delete_cmd_postfix": "",
     "delete_cmd_prefix": "del ",
     "library": "var_list.py",
     "varRefreshCmd": "print(var_dic_list())"
    },
    "r": {
     "delete_cmd_postfix": ") ",
     "delete_cmd_prefix": "rm(",
     "library": "var_list.r",
     "varRefreshCmd": "cat(var_dic_list()) "
    }
   },
   "types_to_exclude": [
    "module",
    "function",
    "builtin_function_or_method",
    "instance",
    "_Feature"
   ],
   "window_display": false
  }
 },
 "nbformat": 4,
 "nbformat_minor": 4
}
