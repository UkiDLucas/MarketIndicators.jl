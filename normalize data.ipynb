{
 "cells": [
  {
   "cell_type": "markdown",
   "metadata": {},
   "source": [
    "# Normalize Data"
   ]
  },
  {
   "cell_type": "markdown",
   "metadata": {},
   "source": [
    "#### TOC\n",
    "- [Read DataFrame from the CSV file](#Read-DataFrame-from-the-CSV-file)"
   ]
  },
  {
   "cell_type": "code",
   "execution_count": 1,
   "metadata": {},
   "outputs": [],
   "source": [
    "using DataFrames, CSV"
   ]
  },
  {
   "cell_type": "markdown",
   "metadata": {},
   "source": [
    "# Read DataFrame from the CSV file"
   ]
  },
  {
   "cell_type": "code",
   "execution_count": 2,
   "metadata": {},
   "outputs": [
    {
     "name": "stderr",
     "output_type": "stream",
     "text": [
      "┌ Warning: `CSV.read(input; kw...)` is deprecated in favor of `using DataFrames; CSV.read(input, DataFrame; kw...)\n",
      "│   caller = read(::String) at CSV.jl:40\n",
      "└ @ CSV /Users/uki/.julia/packages/CSV/MKemC/src/CSV.jl:40\n"
     ]
    },
    {
     "data": {
      "text/html": [
       "<table class=\"data-frame\"><thead><tr><th></th><th>Day</th><th>Date</th><th>ISM Manufacturing</th><th>GDP q/q</th><th>S&amp;P500</th><th>S&amp;P500 y/y</th><th>S&amp;P500 m/m</th></tr><tr><th></th><th>Int64</th><th>Date…</th><th>Float64</th><th>Float64</th><th>Float64?</th><th>String?</th><th>String?</th></tr></thead><tbody><p>20 rows × 11 columns (omitted printing of 4 columns)</p><tr><th>1</th><td>25963</td><td>2019-05-01</td><td>51.6</td><td>0.031</td><td>2941.76</td><td>8.22%</td><td>6.89%</td></tr><tr><th>2</th><td>25993</td><td>2019-05-31</td><td>51.6</td><td>0.031</td><td>2941.76</td><td>8.22%</td><td><em>missing</em></td></tr><tr><th>3</th><td>26023</td><td>2019-06-30</td><td>51.6</td><td>0.02</td><td>2941.76</td><td>8.22%</td><td><em>missing</em></td></tr><tr><th>4</th><td>26024</td><td>2019-07-01</td><td>51.3</td><td>0.02</td><td>2980.38</td><td>5.83%</td><td>1.31%</td></tr><tr><th>5</th><td>26054</td><td>2019-07-31</td><td>51.3</td><td>0.02</td><td>2980.38</td><td>5.83%</td><td><em>missing</em></td></tr><tr><th>6</th><td>26055</td><td>2019-08-01</td><td>48.8</td><td>0.02</td><td>2926.46</td><td>0.86%</td><td>-1.81%</td></tr><tr><th>7</th><td>26085</td><td>2019-08-31</td><td>48.8</td><td>0.02</td><td>2926.46</td><td>0.86%</td><td><em>missing</em></td></tr><tr><th>8</th><td>26086</td><td>2019-09-01</td><td>48.2</td><td>0.02</td><td>2976.74</td><td>2.15%</td><td>1.72%</td></tr><tr><th>9</th><td>26115</td><td>2019-09-30</td><td>48.2</td><td>0.021</td><td>2976.74</td><td>2.15%</td><td><em>missing</em></td></tr><tr><th>10</th><td>26116</td><td>2019-10-01</td><td>48.5</td><td>0.021</td><td>3037.56</td><td>12.02%</td><td>2.04%</td></tr><tr><th>11</th><td>26146</td><td>2019-10-31</td><td>48.5</td><td>0.021</td><td>3037.56</td><td>12.02%</td><td><em>missing</em></td></tr><tr><th>12</th><td>26147</td><td>2019-11-01</td><td>48.1</td><td>0.021</td><td>3140.98</td><td>13.80%</td><td>3.40%</td></tr><tr><th>13</th><td>26176</td><td>2019-11-30</td><td>48.1</td><td>0.021</td><td>3140.98</td><td>13.80%</td><td><em>missing</em></td></tr><tr><th>14</th><td>26177</td><td>2019-12-01</td><td>47.8</td><td>0.021</td><td>3230.78</td><td>28.88%</td><td>2.86%</td></tr><tr><th>15</th><td>26207</td><td>2019-12-31</td><td>47.8</td><td>0.021</td><td>3230.78</td><td>28.88%</td><td><em>missing</em></td></tr><tr><th>16</th><td>26208</td><td>2020-01-01</td><td>50.9</td><td>0.021</td><td>3225.52</td><td>19.28%</td><td>-0.16%</td></tr><tr><th>17</th><td>26238</td><td>2020-01-31</td><td>50.9</td><td>0.021</td><td>3225.52</td><td>19.28%</td><td><em>missing</em></td></tr><tr><th>18</th><td>26239</td><td>2020-02-01</td><td>50.1</td><td>0.021</td><td>2954.22</td><td>6.10%</td><td>-8.41%</td></tr><tr><th>19</th><td>26267</td><td>2020-02-29</td><td>50.1</td><td>0.021</td><td>2954.22</td><td>6.10%</td><td><em>missing</em></td></tr><tr><th>20</th><td>26298</td><td>2020-03-31</td><td>49.1</td><td>0.021</td><td>2954.22</td><td>6.10%</td><td>1.0</td></tr></tbody></table>"
      ],
      "text/latex": [
       "\\begin{tabular}{r|cccccccc}\n",
       "\t& Day & Date & ISM Manufacturing & GDP q/q & S\\&P500 & S\\&P500 y/y & S\\&P500 m/m & \\\\\n",
       "\t\\hline\n",
       "\t& Int64 & Date… & Float64 & Float64 & Float64? & String? & String? & \\\\\n",
       "\t\\hline\n",
       "\t1 & 25963 & 2019-05-01 & 51.6 & 0.031 & 2941.76 & 8.22\\% & 6.89\\% & $\\dots$ \\\\\n",
       "\t2 & 25993 & 2019-05-31 & 51.6 & 0.031 & 2941.76 & 8.22\\% & \\emph{missing} & $\\dots$ \\\\\n",
       "\t3 & 26023 & 2019-06-30 & 51.6 & 0.02 & 2941.76 & 8.22\\% & \\emph{missing} & $\\dots$ \\\\\n",
       "\t4 & 26024 & 2019-07-01 & 51.3 & 0.02 & 2980.38 & 5.83\\% & 1.31\\% & $\\dots$ \\\\\n",
       "\t5 & 26054 & 2019-07-31 & 51.3 & 0.02 & 2980.38 & 5.83\\% & \\emph{missing} & $\\dots$ \\\\\n",
       "\t6 & 26055 & 2019-08-01 & 48.8 & 0.02 & 2926.46 & 0.86\\% & -1.81\\% & $\\dots$ \\\\\n",
       "\t7 & 26085 & 2019-08-31 & 48.8 & 0.02 & 2926.46 & 0.86\\% & \\emph{missing} & $\\dots$ \\\\\n",
       "\t8 & 26086 & 2019-09-01 & 48.2 & 0.02 & 2976.74 & 2.15\\% & 1.72\\% & $\\dots$ \\\\\n",
       "\t9 & 26115 & 2019-09-30 & 48.2 & 0.021 & 2976.74 & 2.15\\% & \\emph{missing} & $\\dots$ \\\\\n",
       "\t10 & 26116 & 2019-10-01 & 48.5 & 0.021 & 3037.56 & 12.02\\% & 2.04\\% & $\\dots$ \\\\\n",
       "\t11 & 26146 & 2019-10-31 & 48.5 & 0.021 & 3037.56 & 12.02\\% & \\emph{missing} & $\\dots$ \\\\\n",
       "\t12 & 26147 & 2019-11-01 & 48.1 & 0.021 & 3140.98 & 13.80\\% & 3.40\\% & $\\dots$ \\\\\n",
       "\t13 & 26176 & 2019-11-30 & 48.1 & 0.021 & 3140.98 & 13.80\\% & \\emph{missing} & $\\dots$ \\\\\n",
       "\t14 & 26177 & 2019-12-01 & 47.8 & 0.021 & 3230.78 & 28.88\\% & 2.86\\% & $\\dots$ \\\\\n",
       "\t15 & 26207 & 2019-12-31 & 47.8 & 0.021 & 3230.78 & 28.88\\% & \\emph{missing} & $\\dots$ \\\\\n",
       "\t16 & 26208 & 2020-01-01 & 50.9 & 0.021 & 3225.52 & 19.28\\% & -0.16\\% & $\\dots$ \\\\\n",
       "\t17 & 26238 & 2020-01-31 & 50.9 & 0.021 & 3225.52 & 19.28\\% & \\emph{missing} & $\\dots$ \\\\\n",
       "\t18 & 26239 & 2020-02-01 & 50.1 & 0.021 & 2954.22 & 6.10\\% & -8.41\\% & $\\dots$ \\\\\n",
       "\t19 & 26267 & 2020-02-29 & 50.1 & 0.021 & 2954.22 & 6.10\\% & \\emph{missing} & $\\dots$ \\\\\n",
       "\t20 & 26298 & 2020-03-31 & 49.1 & 0.021 & 2954.22 & 6.10\\% & 1.0 & $\\dots$ \\\\\n",
       "\\end{tabular}\n"
      ],
      "text/plain": [
       "20×11 DataFrame. Omitted printing of 6 columns\n",
       "│ Row │ Day   │ Date       │ ISM Manufacturing │ GDP q/q │ S&P500   │\n",
       "│     │ \u001b[90mInt64\u001b[39m │ \u001b[90mDates.Date\u001b[39m │ \u001b[90mFloat64\u001b[39m           │ \u001b[90mFloat64\u001b[39m │ \u001b[90mFloat64?\u001b[39m │\n",
       "├─────┼───────┼────────────┼───────────────────┼─────────┼──────────┤\n",
       "│ 1   │ 25963 │ 2019-05-01 │ 51.6              │ 0.031   │ 2941.76  │\n",
       "│ 2   │ 25993 │ 2019-05-31 │ 51.6              │ 0.031   │ 2941.76  │\n",
       "│ 3   │ 26023 │ 2019-06-30 │ 51.6              │ 0.02    │ 2941.76  │\n",
       "│ 4   │ 26024 │ 2019-07-01 │ 51.3              │ 0.02    │ 2980.38  │\n",
       "│ 5   │ 26054 │ 2019-07-31 │ 51.3              │ 0.02    │ 2980.38  │\n",
       "│ 6   │ 26055 │ 2019-08-01 │ 48.8              │ 0.02    │ 2926.46  │\n",
       "│ 7   │ 26085 │ 2019-08-31 │ 48.8              │ 0.02    │ 2926.46  │\n",
       "│ 8   │ 26086 │ 2019-09-01 │ 48.2              │ 0.02    │ 2976.74  │\n",
       "│ 9   │ 26115 │ 2019-09-30 │ 48.2              │ 0.021   │ 2976.74  │\n",
       "│ 10  │ 26116 │ 2019-10-01 │ 48.5              │ 0.021   │ 3037.56  │\n",
       "│ 11  │ 26146 │ 2019-10-31 │ 48.5              │ 0.021   │ 3037.56  │\n",
       "│ 12  │ 26147 │ 2019-11-01 │ 48.1              │ 0.021   │ 3140.98  │\n",
       "│ 13  │ 26176 │ 2019-11-30 │ 48.1              │ 0.021   │ 3140.98  │\n",
       "│ 14  │ 26177 │ 2019-12-01 │ 47.8              │ 0.021   │ 3230.78  │\n",
       "│ 15  │ 26207 │ 2019-12-31 │ 47.8              │ 0.021   │ 3230.78  │\n",
       "│ 16  │ 26208 │ 2020-01-01 │ 50.9              │ 0.021   │ 3225.52  │\n",
       "│ 17  │ 26238 │ 2020-01-31 │ 50.9              │ 0.021   │ 3225.52  │\n",
       "│ 18  │ 26239 │ 2020-02-01 │ 50.1              │ 0.021   │ 2954.22  │\n",
       "│ 19  │ 26267 │ 2020-02-29 │ 50.1              │ 0.021   │ 2954.22  │\n",
       "│ 20  │ 26298 │ 2020-03-31 │ 49.1              │ 0.021   │ 2954.22  │"
      ]
     },
     "execution_count": 2,
     "metadata": {},
     "output_type": "execute_result"
    }
   ],
   "source": [
    "df = CSV.read(\"market_indicators.csv\")\n",
    "last(df, 20)"
   ]
  },
  {
   "cell_type": "markdown",
   "metadata": {},
   "source": [
    "## Column Numbers"
   ]
  },
  {
   "cell_type": "code",
   "execution_count": null,
   "metadata": {},
   "outputs": [],
   "source": [
    "column_rata_die = 1\n",
    "column_date = 2\n",
    "column_ISMM = 3\n",
    "column_GPD_qq = 4\n",
    "column_SP500 = 5\n",
    "column_SP_yy = 6"
   ]
  },
  {
   "cell_type": "code",
   "execution_count": null,
   "metadata": {},
   "outputs": [],
   "source": [
    "a = df[:, column_GPD_qq]\n",
    "a[1]"
   ]
  },
  {
   "cell_type": "markdown",
   "metadata": {},
   "source": [
    "# Function to normalize the data\n",
    "\n",
    "- takes a column (an array) of data as an input\n",
    "- calculates minimum value of the column\n",
    "- calculates maximum value of the column\n",
    "- for each row it calculates:\n",
    "\n",
    "$$ normalized_i = \\frac{(value_i - min)}{(max - min)} $$"
   ]
  },
  {
   "cell_type": "code",
   "execution_count": null,
   "metadata": {},
   "outputs": [],
   "source": [
    "gdp = df[:, column_GPD_qq]\n",
    "items = length(gdp)"
   ]
  },
  {
   "cell_type": "code",
   "execution_count": null,
   "metadata": {},
   "outputs": [],
   "source": [
    "original_column = 4\n",
    "\n",
    "function normalize(df, original_column)\n",
    "    original = df[:, original_column]\n",
    "    items = length(original)\n",
    "    normalized = zeros(Float64, items, 1) # type, rows, columns -- items×1 Array{Float64,2}\n",
    "    \n",
    "    min = minimum(original)\n",
    "    max = maximum(original)   \n",
    "\n",
    "    for i in 1:items\n",
    "        value = (original[i] - min) / (max - min) # normalization formula 0.0 to 1.0\n",
    "        value = value * 200                    # 0.0 to 200\n",
    "        value = value - 100                    # -100 to 100\n",
    "        normalized[i] = round(value, digits=2) #0.00\n",
    "    end\n",
    "    \n",
    "    return normalized\n",
    "end\n",
    "\n",
    "\n",
    "gdp_normalized = normalize(gdp, original_column)"
   ]
  },
  {
   "cell_type": "code",
   "execution_count": null,
   "metadata": {},
   "outputs": [],
   "source": []
  },
  {
   "cell_type": "code",
   "execution_count": null,
   "metadata": {},
   "outputs": [],
   "source": []
  },
  {
   "cell_type": "markdown",
   "metadata": {},
   "source": [
    "- https://docs.juliaplots.org/latest/layouts/"
   ]
  },
  {
   "cell_type": "code",
   "execution_count": null,
   "metadata": {},
   "outputs": [],
   "source": [
    "using Plots\n",
    "gr()\n",
    "plot(df[:,2], \n",
    "    [df[:,4]  gdp_normalized  ], \n",
    "    label    = [\"IMS\" \"IMS normalized\"  \"GDP\" \"GDP normalized\"],\n",
    "    xlabel   = \"time\",\n",
    "    ylabel   = \"indicators\",\n",
    "    size     = (1450, 600), # width, height\n",
    "    layout = (2, 1)\n",
    "    )"
   ]
  },
  {
   "cell_type": "code",
   "execution_count": null,
   "metadata": {},
   "outputs": [],
   "source": [
    "using Plots\n",
    "gr()\n",
    "plot(df[:,2], \n",
    "    [ ims_normalized  gdp_normalized  ], \n",
    "    label    = [  \"IMS normalized\" \"GDP normalized\"],\n",
    "    xlabel   = \"time\",\n",
    "    ylabel   = \"indicators\",\n",
    "    size     = (1450, 600), # width, height\n",
    "    #, layout = (2, 1)\n",
    "    )"
   ]
  },
  {
   "cell_type": "code",
   "execution_count": null,
   "metadata": {},
   "outputs": [],
   "source": []
  }
 ],
 "metadata": {
  "kernelspec": {
   "display_name": "Julia 1.4.2",
   "language": "julia",
   "name": "julia-1.4"
  },
  "language_info": {
   "file_extension": ".jl",
   "mimetype": "application/julia",
   "name": "julia",
   "version": "1.4.2"
  }
 },
 "nbformat": 4,
 "nbformat_minor": 4
}
