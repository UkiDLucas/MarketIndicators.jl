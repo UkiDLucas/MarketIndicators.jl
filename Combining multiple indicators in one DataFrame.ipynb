{
 "cells": [
  {
   "cell_type": "markdown",
   "metadata": {
    "toc": true
   },
   "source": [
    "<h1>Table of Contents<span class=\"tocSkip\"></span></h1>\n",
    "<div class=\"toc\"><ul class=\"toc-item\"><li><span><a href=\"#Set-Up\" data-toc-modified-id=\"Set-Up-1\">Set Up</a></span></li><li><span><a href=\"#Fetch-Data\" data-toc-modified-id=\"Fetch-Data-2\">Fetch Data</a></span><ul class=\"toc-item\"><li><span><a href=\"#Preview-Content\" data-toc-modified-id=\"Preview-Content-2.1\">Preview Content</a></span></li></ul></li><li><span><a href=\"#Rename-Columns-and-Merge-into-Single-DataFrame\" data-toc-modified-id=\"Rename-Columns-and-Merge-into-Single-DataFrame-3\">Rename Columns and Merge into Single DataFrame</a></span></li></ul></div>"
   ]
  },
  {
   "cell_type": "markdown",
   "metadata": {},
   "source": [
    "# Set Up"
   ]
  },
  {
   "cell_type": "code",
   "execution_count": 2,
   "metadata": {},
   "outputs": [
    {
     "name": "stdout",
     "output_type": "stream",
     "text": [
      "\n",
      "\n"
     ]
    }
   ],
   "source": [
    "show_help = false\n",
    "include(\"MarketIndicators.jl\") \n",
    "\n",
    "dir=\"D:\\\\Drive\\\\market_indicators_data\\\\derived\\\\\"\n",
    "\n",
    "file1 = \"united-states.ism-manufacturing-pmi.csv\"\n",
    "file2 = \"^DJI.csv\"\n",
    "file3 = \"TPLGX.csv\"\n",
    "println()"
   ]
  },
  {
   "cell_type": "markdown",
   "metadata": {},
   "source": [
    "# Fetch Data"
   ]
  },
  {
   "cell_type": "code",
   "execution_count": 4,
   "metadata": {},
   "outputs": [
    {
     "name": "stdout",
     "output_type": "stream",
     "text": [
      "\n"
     ]
    }
   ],
   "source": [
    "df1 = fetch_dataset( file1 , \"yyyy-mm-dd\", dir )\n",
    "df2 = fetch_dataset( file2 , \"yyyy-mm-dd\", dir )\n",
    "df3 = fetch_dataset( file3 , \"yyyy-mm-dd\", dir )\n",
    "\n",
    "println()"
   ]
  },
  {
   "cell_type": "markdown",
   "metadata": {},
   "source": [
    "## Preview Content"
   ]
  },
  {
   "cell_type": "code",
   "execution_count": 5,
   "metadata": {},
   "outputs": [
    {
     "data": {
      "text/html": [
       "<table class=\"data-frame\"><thead><tr><th></th><th>variable</th><th>mean</th><th>min</th><th>median</th><th>max</th><th>nunique</th><th>nmissing</th><th>eltype</th></tr><tr><th></th><th>Symbol</th><th>Union…</th><th>Any</th><th>Union…</th><th>Any</th><th>Union…</th><th>Nothing</th><th>DataType</th></tr></thead><tbody><p>8 rows × 8 columns</p><tr><th>1</th><td>Day</td><td>735218.0</td><td>732736</td><td>735218.0</td><td>737699</td><td></td><td></td><td>Int64</td></tr><tr><th>2</th><td>Date</td><td></td><td>2007-03-01</td><td></td><td>2020-10-01</td><td>4964</td><td></td><td>Date</td></tr><tr><th>3</th><td>Price</td><td>51.7921</td><td>-128.0</td><td>54.0</td><td>127.0</td><td></td><td></td><td>Float64</td></tr><tr><th>4</th><td>Avg005</td><td>51.7419</td><td>-128.0</td><td>54.0</td><td>127.0</td><td></td><td></td><td>Float64</td></tr><tr><th>5</th><td>Avg030</td><td>51.4223</td><td>-128.0</td><td>53.2</td><td>127.0</td><td></td><td></td><td>Float64</td></tr><tr><th>6</th><td>Avg090</td><td>50.744</td><td>-108.92</td><td>52.42</td><td>124.76</td><td></td><td></td><td>Float64</td></tr><tr><th>7</th><td>Avg180</td><td>50.0308</td><td>-97.87</td><td>50.435</td><td>113.12</td><td></td><td></td><td>Float64</td></tr><tr><th>8</th><td>Avg365</td><td>48.8337</td><td>-57.18</td><td>51.295</td><td>108.68</td><td></td><td></td><td>Float64</td></tr></tbody></table>"
      ],
      "text/latex": [
       "\\begin{tabular}{r|cccccccc}\n",
       "\t& variable & mean & min & median & max & nunique & nmissing & eltype\\\\\n",
       "\t\\hline\n",
       "\t& Symbol & Union… & Any & Union… & Any & Union… & Nothing & DataType\\\\\n",
       "\t\\hline\n",
       "\t1 & Day & 735218.0 & 732736 & 735218.0 & 737699 &  &  & Int64 \\\\\n",
       "\t2 & Date &  & 2007-03-01 &  & 2020-10-01 & 4964 &  & Date \\\\\n",
       "\t3 & Price & 51.7921 & -128.0 & 54.0 & 127.0 &  &  & Float64 \\\\\n",
       "\t4 & Avg005 & 51.7419 & -128.0 & 54.0 & 127.0 &  &  & Float64 \\\\\n",
       "\t5 & Avg030 & 51.4223 & -128.0 & 53.2 & 127.0 &  &  & Float64 \\\\\n",
       "\t6 & Avg090 & 50.744 & -108.92 & 52.42 & 124.76 &  &  & Float64 \\\\\n",
       "\t7 & Avg180 & 50.0308 & -97.87 & 50.435 & 113.12 &  &  & Float64 \\\\\n",
       "\t8 & Avg365 & 48.8337 & -57.18 & 51.295 & 108.68 &  &  & Float64 \\\\\n",
       "\\end{tabular}\n"
      ],
      "text/plain": [
       "8×8 DataFrame. Omitted printing of 2 columns\n",
       "│ Row │ variable │ mean     │ min        │ median   │ max        │ nunique │\n",
       "│     │ \u001b[90mSymbol\u001b[39m   │ \u001b[90mUnion…\u001b[39m   │ \u001b[90mAny\u001b[39m        │ \u001b[90mUnion…\u001b[39m   │ \u001b[90mAny\u001b[39m        │ \u001b[90mUnion…\u001b[39m  │\n",
       "├─────┼──────────┼──────────┼────────────┼──────────┼────────────┼─────────┤\n",
       "│ 1   │ Day      │ 735218.0 │ 732736     │ 735218.0 │ 737699     │         │\n",
       "│ 2   │ Date     │          │ 2007-03-01 │          │ 2020-10-01 │ 4964    │\n",
       "│ 3   │ Price    │ 51.7921  │ -128.0     │ 54.0     │ 127.0      │         │\n",
       "│ 4   │ Avg005   │ 51.7419  │ -128.0     │ 54.0     │ 127.0      │         │\n",
       "│ 5   │ Avg030   │ 51.4223  │ -128.0     │ 53.2     │ 127.0      │         │\n",
       "│ 6   │ Avg090   │ 50.744   │ -108.92    │ 52.42    │ 124.76     │         │\n",
       "│ 7   │ Avg180   │ 50.0308  │ -97.87     │ 50.435   │ 113.12     │         │\n",
       "│ 8   │ Avg365   │ 48.8337  │ -57.18     │ 51.295   │ 108.68     │         │"
      ]
     },
     "execution_count": 5,
     "metadata": {},
     "output_type": "execute_result"
    }
   ],
   "source": [
    "using Statistics\n",
    "describe(df1)"
   ]
  },
  {
   "cell_type": "code",
   "execution_count": 6,
   "metadata": {},
   "outputs": [
    {
     "data": {
      "text/html": [
       "<table class=\"data-frame\"><thead><tr><th></th><th>variable</th><th>mean</th><th>min</th><th>median</th><th>max</th><th>nunique</th><th>nmissing</th><th>eltype</th></tr><tr><th></th><th>Symbol</th><th>Union…</th><th>Any</th><th>Union…</th><th>Any</th><th>Union…</th><th>Nothing</th><th>DataType</th></tr></thead><tbody><p>8 rows × 8 columns</p><tr><th>1</th><td>Day</td><td>731199.0</td><td>724670</td><td>731199.0</td><td>737728</td><td></td><td></td><td>Int64</td></tr><tr><th>2</th><td>Date</td><td></td><td>1985-01-29</td><td></td><td>2020-10-30</td><td>13059</td><td></td><td>Date</td></tr><tr><th>3</th><td>High</td><td>-46.6619</td><td>-128.0</td><td>-47.0</td><td>127.0</td><td></td><td></td><td>Float64</td></tr><tr><th>4</th><td>Avg005</td><td>-46.6581</td><td>-128.0</td><td>-47.4</td><td>126.4</td><td></td><td></td><td>Float64</td></tr><tr><th>5</th><td>Avg030</td><td>-46.647</td><td>-128.0</td><td>-47.17</td><td>123.63</td><td></td><td></td><td>Float64</td></tr><tr><th>6</th><td>Avg090</td><td>-46.615</td><td>-127.97</td><td>-46.68</td><td>119.87</td><td></td><td></td><td>Float64</td></tr><tr><th>7</th><td>Avg180</td><td>-46.537</td><td>-127.64</td><td>-46.79</td><td>112.75</td><td></td><td></td><td>Float64</td></tr><tr><th>8</th><td>Avg365</td><td>-46.3056</td><td>-126.98</td><td>-46.85</td><td>105.19</td><td></td><td></td><td>Float64</td></tr></tbody></table>"
      ],
      "text/latex": [
       "\\begin{tabular}{r|cccccccc}\n",
       "\t& variable & mean & min & median & max & nunique & nmissing & eltype\\\\\n",
       "\t\\hline\n",
       "\t& Symbol & Union… & Any & Union… & Any & Union… & Nothing & DataType\\\\\n",
       "\t\\hline\n",
       "\t1 & Day & 731199.0 & 724670 & 731199.0 & 737728 &  &  & Int64 \\\\\n",
       "\t2 & Date &  & 1985-01-29 &  & 2020-10-30 & 13059 &  & Date \\\\\n",
       "\t3 & High & -46.6619 & -128.0 & -47.0 & 127.0 &  &  & Float64 \\\\\n",
       "\t4 & Avg005 & -46.6581 & -128.0 & -47.4 & 126.4 &  &  & Float64 \\\\\n",
       "\t5 & Avg030 & -46.647 & -128.0 & -47.17 & 123.63 &  &  & Float64 \\\\\n",
       "\t6 & Avg090 & -46.615 & -127.97 & -46.68 & 119.87 &  &  & Float64 \\\\\n",
       "\t7 & Avg180 & -46.537 & -127.64 & -46.79 & 112.75 &  &  & Float64 \\\\\n",
       "\t8 & Avg365 & -46.3056 & -126.98 & -46.85 & 105.19 &  &  & Float64 \\\\\n",
       "\\end{tabular}\n"
      ],
      "text/plain": [
       "8×8 DataFrame. Omitted printing of 2 columns\n",
       "│ Row │ variable │ mean     │ min        │ median   │ max        │ nunique │\n",
       "│     │ \u001b[90mSymbol\u001b[39m   │ \u001b[90mUnion…\u001b[39m   │ \u001b[90mAny\u001b[39m        │ \u001b[90mUnion…\u001b[39m   │ \u001b[90mAny\u001b[39m        │ \u001b[90mUnion…\u001b[39m  │\n",
       "├─────┼──────────┼──────────┼────────────┼──────────┼────────────┼─────────┤\n",
       "│ 1   │ Day      │ 731199.0 │ 724670     │ 731199.0 │ 737728     │         │\n",
       "│ 2   │ Date     │          │ 1985-01-29 │          │ 2020-10-30 │ 13059   │\n",
       "│ 3   │ High     │ -46.6619 │ -128.0     │ -47.0    │ 127.0      │         │\n",
       "│ 4   │ Avg005   │ -46.6581 │ -128.0     │ -47.4    │ 126.4      │         │\n",
       "│ 5   │ Avg030   │ -46.647  │ -128.0     │ -47.17   │ 123.63     │         │\n",
       "│ 6   │ Avg090   │ -46.615  │ -127.97    │ -46.68   │ 119.87     │         │\n",
       "│ 7   │ Avg180   │ -46.537  │ -127.64    │ -46.79   │ 112.75     │         │\n",
       "│ 8   │ Avg365   │ -46.3056 │ -126.98    │ -46.85   │ 105.19     │         │"
      ]
     },
     "execution_count": 6,
     "metadata": {},
     "output_type": "execute_result"
    }
   ],
   "source": [
    "using Statistics\n",
    "describe(df2)"
   ]
  },
  {
   "cell_type": "code",
   "execution_count": 7,
   "metadata": {},
   "outputs": [
    {
     "data": {
      "text/html": [
       "<table class=\"data-frame\"><thead><tr><th></th><th>variable</th><th>mean</th><th>min</th><th>median</th><th>max</th><th>nunique</th><th>nmissing</th><th>eltype</th></tr><tr><th></th><th>Symbol</th><th>Union…</th><th>Any</th><th>Union…</th><th>Any</th><th>Union…</th><th>Nothing</th><th>DataType</th></tr></thead><tbody><p>3 rows × 8 columns</p><tr><th>1</th><td>Day</td><td>737524.0</td><td>737319</td><td>737524.0</td><td>737728</td><td></td><td></td><td>Int64</td></tr><tr><th>2</th><td>Date</td><td></td><td>2019-09-17</td><td></td><td>2020-10-30</td><td>410</td><td></td><td>Date</td></tr><tr><th>3</th><td>High</td><td>0.112195</td><td>-128.0</td><td>-9.5</td><td>127.0</td><td></td><td></td><td>Float64</td></tr></tbody></table>"
      ],
      "text/latex": [
       "\\begin{tabular}{r|cccccccc}\n",
       "\t& variable & mean & min & median & max & nunique & nmissing & eltype\\\\\n",
       "\t\\hline\n",
       "\t& Symbol & Union… & Any & Union… & Any & Union… & Nothing & DataType\\\\\n",
       "\t\\hline\n",
       "\t1 & Day & 737524.0 & 737319 & 737524.0 & 737728 &  &  & Int64 \\\\\n",
       "\t2 & Date &  & 2019-09-17 &  & 2020-10-30 & 410 &  & Date \\\\\n",
       "\t3 & High & 0.112195 & -128.0 & -9.5 & 127.0 &  &  & Float64 \\\\\n",
       "\\end{tabular}\n"
      ],
      "text/plain": [
       "3×8 DataFrame. Omitted printing of 2 columns\n",
       "│ Row │ variable │ mean     │ min        │ median   │ max        │ nunique │\n",
       "│     │ \u001b[90mSymbol\u001b[39m   │ \u001b[90mUnion…\u001b[39m   │ \u001b[90mAny\u001b[39m        │ \u001b[90mUnion…\u001b[39m   │ \u001b[90mAny\u001b[39m        │ \u001b[90mUnion…\u001b[39m  │\n",
       "├─────┼──────────┼──────────┼────────────┼──────────┼────────────┼─────────┤\n",
       "│ 1   │ Day      │ 737524.0 │ 737319     │ 737524.0 │ 737728     │         │\n",
       "│ 2   │ Date     │          │ 2019-09-17 │          │ 2020-10-30 │ 410     │\n",
       "│ 3   │ High     │ 0.112195 │ -128.0     │ -9.5     │ 127.0      │         │"
      ]
     },
     "execution_count": 7,
     "metadata": {},
     "output_type": "execute_result"
    }
   ],
   "source": [
    "using Statistics\n",
    "describe(df3)"
   ]
  },
  {
   "cell_type": "markdown",
   "metadata": {},
   "source": [
    "# Rename Columns and Merge into Single DataFrame"
   ]
  },
  {
   "cell_type": "code",
   "execution_count": null,
   "metadata": {},
   "outputs": [],
   "source": []
  }
 ],
 "metadata": {
  "kernelspec": {
   "display_name": "Julia 1.5.0",
   "language": "julia",
   "name": "julia-1.5"
  },
  "language_info": {
   "file_extension": ".jl",
   "mimetype": "application/julia",
   "name": "julia",
   "version": "1.5.0"
  },
  "toc": {
   "base_numbering": 1,
   "nav_menu": {},
   "number_sections": false,
   "sideBar": true,
   "skip_h1_title": false,
   "title_cell": "Table of Contents",
   "title_sidebar": "Contents",
   "toc_cell": true,
   "toc_position": {},
   "toc_section_display": true,
   "toc_window_display": true
  }
 },
 "nbformat": 4,
 "nbformat_minor": 4
}
