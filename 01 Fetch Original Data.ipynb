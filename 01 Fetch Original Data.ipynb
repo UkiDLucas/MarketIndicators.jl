{
 "cells": [
  {
   "cell_type": "markdown",
   "metadata": {},
   "source": [
    "# Fetch Original Data"
   ]
  },
  {
   "cell_type": "code",
   "execution_count": 6,
   "metadata": {},
   "outputs": [
    {
     "name": "stdout",
     "output_type": "stream",
     "text": [
      "function: df = fetch_data(file_path, date_format=\"yyyy-mm-dd\" )\n",
      "function: df = shift_dates_by_days!(df, shift_days=-1, date_column=1)\n",
      "function: rata_die = days_since_day_one(df, row, date_column) \n",
      "function: df = update_rata_die!(df, days_column=1, date_column=2)\n",
      "function: df = insert_rata_die_column!(df)\n"
     ]
    }
   ],
   "source": [
    "include(\"MarketIndicators.jl\")"
   ]
  },
  {
   "cell_type": "code",
   "execution_count": 10,
   "metadata": {},
   "outputs": [
    {
     "data": {
      "text/html": [
       "<table class=\"data-frame\"><thead><tr><th></th><th>Indicator Name</th><th>Market</th><th>Source</th></tr><tr><th></th><th>String</th><th>String</th><th>String</th></tr></thead><tbody><p>2 rows × 5 columns (omitted printing of 2 columns)</p><tr><th>1</th><td>Federal Reserve System (Fed) Industrial Production m/m</td><td>USA</td><td>Board of Governors of Federal Reserve System</td></tr><tr><th>2</th><td>Nvidia</td><td>USA</td><td>Yahoo Finance</td></tr></tbody></table>"
      ],
      "text/latex": [
       "\\begin{tabular}{r|cccc}\n",
       "\t& Indicator Name & Market & Source & \\\\\n",
       "\t\\hline\n",
       "\t& String & String & String & \\\\\n",
       "\t\\hline\n",
       "\t1 & Federal Reserve System (Fed) Industrial Production m/m & USA & Board of Governors of Federal Reserve System & $\\dots$ \\\\\n",
       "\t2 & Nvidia & USA & Yahoo Finance & $\\dots$ \\\\\n",
       "\\end{tabular}\n"
      ],
      "text/plain": [
       "2×5 DataFrame. Omitted printing of 3 columns\n",
       "│ Row │ Indicator Name                                         │ Market │\n",
       "│     │ \u001b[90mString\u001b[39m                                                 │ \u001b[90mString\u001b[39m │\n",
       "├─────┼────────────────────────────────────────────────────────┼────────┤\n",
       "│ 1   │ Federal Reserve System (Fed) Industrial Production m/m │ USA    │\n",
       "│ 2   │ Nvidia                                                 │ USA    │"
      ]
     },
     "execution_count": 10,
     "metadata": {},
     "output_type": "execute_result"
    }
   ],
   "source": [
    "using CSV, DataFrames\n",
    "file_path = \"data_original/_DataSets.csv\"\n",
    "date_format=\"yyyy-mm-dd\"\n",
    "df = return CSV.read( file_path, dateformat=\"$date_format\" )"
   ]
  },
  {
   "cell_type": "code",
   "execution_count": 11,
   "metadata": {},
   "outputs": [
    {
     "ename": "LoadError",
     "evalue": "UndefVarError: df not defined",
     "output_type": "error",
     "traceback": [
      "UndefVarError: df not defined",
      "",
      "Stacktrace:",
      " [1] top-level scope",
      " [2] include_string(::Function, ::Module, ::String, ::String) at .\\loading.jl:1091"
     ]
    }
   ],
   "source": [
    "df"
   ]
  },
  {
   "cell_type": "code",
   "execution_count": null,
   "metadata": {},
   "outputs": [],
   "source": []
  }
 ],
 "metadata": {
  "kernelspec": {
   "display_name": "Julia 1.5.0",
   "language": "julia",
   "name": "julia-1.5"
  },
  "language_info": {
   "file_extension": ".jl",
   "mimetype": "application/julia",
   "name": "julia",
   "version": "1.5.0"
  },
  "toc": {
   "base_numbering": 1,
   "nav_menu": {},
   "number_sections": true,
   "sideBar": true,
   "skip_h1_title": false,
   "title_cell": "Table of Contents",
   "title_sidebar": "Contents",
   "toc_cell": false,
   "toc_position": {},
   "toc_section_display": true,
   "toc_window_display": false
  }
 },
 "nbformat": 4,
 "nbformat_minor": 4
}
