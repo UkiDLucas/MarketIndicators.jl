{
 "cells": [
  {
   "cell_type": "markdown",
   "metadata": {},
   "source": [
    "# Fetch Web Data"
   ]
  },
  {
   "cell_type": "code",
   "execution_count": 6,
   "metadata": {},
   "outputs": [
    {
     "name": "stdout",
     "output_type": "stream",
     "text": [
      "function: df = fetch_data(file_path, date_format=\"yyyy-mm-dd\" )\n",
      "function: df = shift_dates_by_days!(df, shift_days=-1, date_column=1)\n",
      "function: rata_die = days_since_day_one(df, row, date_column) \n",
      "function: df = update_rata_die!(df, days_column=1, date_column=2)\n",
      "function: df = insert_rata_die_column!(df)\n"
     ]
    }
   ],
   "source": [
    "include(\"MarketIndicators.jl\")"
   ]
  },
  {
   "cell_type": "code",
   "execution_count": 70,
   "metadata": {},
   "outputs": [
    {
     "data": {
      "text/html": [
       "<table class=\"data-frame\"><thead><tr><th></th><th>file_path</th><th>Last Updated</th></tr><tr><th></th><th>String</th><th>String</th></tr></thead><tbody><p>5 rows × 2 columns</p><tr><th>1</th><td>united-states.industrial-production-mm.csv</td><td>2020-09-14</td></tr><tr><th>2</th><td>NVDA.csv</td><td>2020-09-15</td></tr><tr><th>3</th><td>united-states.dallas-fed-manufacturing-business-index.csv</td><td>2020-09-14</td></tr><tr><th>4</th><td>^DJI.csv</td><td>2020-09-14</td></tr><tr><th>5</th><td>NVDA.csv</td><td>2020-09-14</td></tr></tbody></table>"
      ],
      "text/latex": [
       "\\begin{tabular}{r|cc}\n",
       "\t& file\\_path & Last Updated\\\\\n",
       "\t\\hline\n",
       "\t& String & String\\\\\n",
       "\t\\hline\n",
       "\t1 & united-states.industrial-production-mm.csv & 2020-09-14 \\\\\n",
       "\t2 & NVDA.csv & 2020-09-15 \\\\\n",
       "\t3 & united-states.dallas-fed-manufacturing-business-index.csv & 2020-09-14 \\\\\n",
       "\t4 & \\^DJI.csv & 2020-09-14 \\\\\n",
       "\t5 & NVDA.csv & 2020-09-14 \\\\\n",
       "\\end{tabular}\n"
      ],
      "text/plain": [
       "5×2 DataFrame. Omitted printing of 1 columns\n",
       "│ Row │ file_path                                                 │\n",
       "│     │ \u001b[90mString\u001b[39m                                                    │\n",
       "├─────┼───────────────────────────────────────────────────────────┤\n",
       "│ 1   │ united-states.industrial-production-mm.csv                │\n",
       "│ 2   │ NVDA.csv                                                  │\n",
       "│ 3   │ united-states.dallas-fed-manufacturing-business-index.csv │\n",
       "│ 4   │ ^DJI.csv                                                  │\n",
       "│ 5   │ NVDA.csv                                                  │"
      ]
     },
     "execution_count": 70,
     "metadata": {},
     "output_type": "execute_result"
    }
   ],
   "source": [
    "using CSV, DataFrames\n",
    "file_path = \"_DataSets.csv\"\n",
    "date_format=\"mm/dd/yyyy\"\n",
    "df = CSV.read( file_path, dateformat=\"$date_format\" )\n",
    "df[:, [2,3] ]"
   ]
  },
  {
   "cell_type": "code",
   "execution_count": 71,
   "metadata": {},
   "outputs": [
    {
     "data": {
      "text/plain": [
       "4-element Array{String,1}:\n",
       " \"Indicator Name\"\n",
       " \"file_path\"\n",
       " \"Last Updated\"\n",
       " \"URL\""
      ]
     },
     "execution_count": 71,
     "metadata": {},
     "output_type": "execute_result"
    }
   ],
   "source": [
    "names(df)"
   ]
  },
  {
   "cell_type": "markdown",
   "metadata": {},
   "source": [
    "# Download all from the Web"
   ]
  },
  {
   "cell_type": "code",
   "execution_count": 75,
   "metadata": {},
   "outputs": [
    {
     "name": "stdout",
     "output_type": "stream",
     "text": [
      "============== 2020-09-15T22:12:18.071 ==============\n",
      "Federal Reserve System (Fed) Industrial Production m/m\n",
      "\n",
      "ADP Nonfarm Employment Change\n",
      "\n",
      "Federal Reserve Bank (Fed) of Dallas Manufacturing Index\n",
      "\n",
      "Dow Jones Industrial Average (^DJI)\n",
      "\n",
      "NVIDIA Corporation (NVDA)\n",
      "\n",
      "============== 2020-09-16T02:12:20.611 ==============\n",
      "Federal Reserve System (Fed) Industrial Production m/m\n",
      "\n",
      "ADP Nonfarm Employment Change\n",
      "\n",
      "Federal Reserve Bank (Fed) of Dallas Manufacturing Index\n",
      "\n",
      "Dow Jones Industrial Average (^DJI)\n",
      "\n",
      "NVIDIA Corporation (NVDA)\n",
      "\n",
      "============== 2020-09-16T06:12:24.395 ==============\n",
      "Federal Reserve System (Fed) Industrial Production m/m\n",
      "\n",
      "ADP Nonfarm Employment Change\n",
      "\n",
      "Federal Reserve Bank (Fed) of Dallas Manufacturing Index\n",
      "\n",
      "Dow Jones Industrial Average (^DJI)\n",
      "\n",
      "NVIDIA Corporation (NVDA)\n",
      "\n",
      "============== 2020-09-16T10:12:27.762 ==============\n",
      "Federal Reserve System (Fed) Industrial Production m/m\n",
      "\n",
      "ADP Nonfarm Employment Change\n",
      "\n",
      "Federal Reserve Bank (Fed) of Dallas Manufacturing Index\n",
      "\n",
      "Dow Jones Industrial Average (^DJI)\n",
      "\n",
      "NVIDIA Corporation (NVDA)\n",
      "\n"
     ]
    },
    {
     "ename": "LoadError",
     "evalue": "InterruptException:",
     "output_type": "error",
     "traceback": [
      "InterruptException:",
      "",
      "Stacktrace:",
      " [1] try_yieldto(::typeof(Base.ensure_rescheduled)) at .\\task.jl:656",
      " [2] wait at .\\task.jl:713 [inlined]",
      " [3] wait(::Base.GenericCondition{Base.Threads.SpinLock}) at .\\condition.jl:106",
      " [4] _trywait(::Timer) at .\\asyncevent.jl:110",
      " [5] wait at .\\asyncevent.jl:128 [inlined]",
      " [6] sleep(::Int64) at .\\asyncevent.jl:213",
      " [7] top-level scope at In[75]:21",
      " [8] include_string(::Function, ::Module, ::String, ::String) at .\\loading.jl:1091"
     ]
    }
   ],
   "source": [
    "rows = size(df)[1]\n",
    "\n",
    "while true\n",
    "    println(\"============== \", Dates.DateTime(Dates.now() ), \" ==============\")\n",
    "    \n",
    "    for row in 1:rows\n",
    "        indicatior_name  = df[row, 1]\n",
    "        file_path        = df[row, 2]\n",
    "        last_updated     = df[row, 3]\n",
    "        url              = df[row, 4]\n",
    "        println( indicatior_name ) #, \"\\n file_path: \", file_path, \"\\n last_updated: \", last_updated, \"\\n url: \", url)\n",
    "        println()\n",
    "        download( url , string(\"data_original/\", file_path ) )\n",
    "        df[2,3] = string(\"\", Dates.Date(Dates.now()))\n",
    "    end\n",
    "\n",
    "    using CSV\n",
    "    file_path = \"_DataSets.csv\"\n",
    "    CSV.write(file_path, df)\n",
    "    \n",
    "    sleep(60*60*4) # seconds * minutes * hours\n",
    "end"
   ]
  },
  {
   "cell_type": "code",
   "execution_count": null,
   "metadata": {},
   "outputs": [],
   "source": []
  }
 ],
 "metadata": {
  "kernelspec": {
   "display_name": "Julia 1.5.0",
   "language": "julia",
   "name": "julia-1.5"
  },
  "language_info": {
   "file_extension": ".jl",
   "mimetype": "application/julia",
   "name": "julia",
   "version": "1.5.0"
  },
  "toc": {
   "base_numbering": 1,
   "nav_menu": {},
   "number_sections": true,
   "sideBar": true,
   "skip_h1_title": false,
   "title_cell": "Table of Contents",
   "title_sidebar": "Contents",
   "toc_cell": false,
   "toc_position": {},
   "toc_section_display": true,
   "toc_window_display": true
  }
 },
 "nbformat": 4,
 "nbformat_minor": 4
}
