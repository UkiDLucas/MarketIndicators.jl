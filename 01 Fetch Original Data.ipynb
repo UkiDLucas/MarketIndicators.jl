{
 "cells": [
  {
   "cell_type": "markdown",
   "metadata": {},
   "source": [
    "# Fetch Original Data"
   ]
  },
  {
   "cell_type": "code",
   "execution_count": 6,
   "metadata": {},
   "outputs": [
    {
     "name": "stdout",
     "output_type": "stream",
     "text": [
      "function: df = fetch_data(file_path, date_format=\"yyyy-mm-dd\" )\n",
      "function: df = shift_dates_by_days!(df, shift_days=-1, date_column=1)\n",
      "function: rata_die = days_since_day_one(df, row, date_column) \n",
      "function: df = update_rata_die!(df, days_column=1, date_column=2)\n",
      "function: df = insert_rata_die_column!(df)\n"
     ]
    }
   ],
   "source": [
    "include(\"MarketIndicators.jl\")"
   ]
  },
  {
   "cell_type": "code",
   "execution_count": 65,
   "metadata": {},
   "outputs": [
    {
     "data": {
      "text/html": [
       "<table class=\"data-frame\"><thead><tr><th></th><th>file_path</th><th>Last Updated</th></tr><tr><th></th><th>String</th><th>String</th></tr></thead><tbody><p>5 rows × 2 columns</p><tr><th>1</th><td>united-states.industrial-production-mm.csv</td><td>2020-09-14</td></tr><tr><th>2</th><td>NVDA.csv</td><td>2020-09-15</td></tr><tr><th>3</th><td>united-states.dallas-fed-manufacturing-business-index.csv</td><td>2020-09-14</td></tr><tr><th>4</th><td>^DJI.csv</td><td>2020-09-14</td></tr><tr><th>5</th><td>NVDA.csv</td><td>2020-09-14</td></tr></tbody></table>"
      ],
      "text/latex": [
       "\\begin{tabular}{r|cc}\n",
       "\t& file\\_path & Last Updated\\\\\n",
       "\t\\hline\n",
       "\t& String & String\\\\\n",
       "\t\\hline\n",
       "\t1 & united-states.industrial-production-mm.csv & 2020-09-14 \\\\\n",
       "\t2 & NVDA.csv & 2020-09-15 \\\\\n",
       "\t3 & united-states.dallas-fed-manufacturing-business-index.csv & 2020-09-14 \\\\\n",
       "\t4 & \\^DJI.csv & 2020-09-14 \\\\\n",
       "\t5 & NVDA.csv & 2020-09-14 \\\\\n",
       "\\end{tabular}\n"
      ],
      "text/plain": [
       "5×2 DataFrame. Omitted printing of 1 columns\n",
       "│ Row │ file_path                                                 │\n",
       "│     │ \u001b[90mString\u001b[39m                                                    │\n",
       "├─────┼───────────────────────────────────────────────────────────┤\n",
       "│ 1   │ united-states.industrial-production-mm.csv                │\n",
       "│ 2   │ NVDA.csv                                                  │\n",
       "│ 3   │ united-states.dallas-fed-manufacturing-business-index.csv │\n",
       "│ 4   │ ^DJI.csv                                                  │\n",
       "│ 5   │ NVDA.csv                                                  │"
      ]
     },
     "execution_count": 65,
     "metadata": {},
     "output_type": "execute_result"
    }
   ],
   "source": [
    "using CSV, DataFrames\n",
    "file_path = \"_DataSets.csv\"\n",
    "date_format=\"mm/dd/yyyy\"\n",
    "df = CSV.read( file_path, dateformat=\"$date_format\" )\n",
    "df[:, [2,3] ]"
   ]
  },
  {
   "cell_type": "code",
   "execution_count": 66,
   "metadata": {},
   "outputs": [
    {
     "data": {
      "text/plain": [
       "4-element Array{String,1}:\n",
       " \"Indicator Name\"\n",
       " \"file_path\"\n",
       " \"Last Updated\"\n",
       " \"URL\""
      ]
     },
     "execution_count": 66,
     "metadata": {},
     "output_type": "execute_result"
    }
   ],
   "source": [
    "names(df)"
   ]
  },
  {
   "cell_type": "markdown",
   "metadata": {},
   "source": [
    "# Download all from the Web"
   ]
  },
  {
   "cell_type": "code",
   "execution_count": 61,
   "metadata": {},
   "outputs": [
    {
     "name": "stdout",
     "output_type": "stream",
     "text": [
      "indicatior_name: Federal Reserve System (Fed) Industrial Production m/m\n",
      " file_path: united-states.industrial-production-mm.csv\n",
      " last_updated: 2020-09-14\n",
      " url: https://www.mql5.com/en/economic-calendar/united-states/industrial-production-mm/export\n",
      "\n",
      "indicatior_name: ADP Nonfarm Employment Change\n",
      " file_path: united-states.industrial-production-mm.csv\n",
      " last_updated: 2020-09-15\n",
      " url: https://www.mql5.com/en/economic-calendar/united-states/industrial-production-mm/export\n",
      "\n",
      "indicatior_name: Federal Reserve Bank (Fed) of Dallas Manufacturing Index\n",
      " file_path: united-states.dallas-fed-manufacturing-business-index.csv\n",
      " last_updated: 2020-09-14\n",
      " url: https://www.mql5.com/en/economic-calendar/united-states/dallas-fed-manufacturing-business-index/export\n",
      "\n",
      "indicatior_name: Dow Jones Industrial Average (^DJI)\n",
      " file_path: ^DJI.csv\n",
      " last_updated: 2020-09-14\n",
      " url: https://query1.finance.yahoo.com/v7/finance/download/%5EDJI?period1=475804800&period2=1600128000&interval=1d&events=history\n",
      "\n",
      "indicatior_name: NVIDIA Corporation (NVDA)\n",
      " file_path: NVDA.csv\n",
      " last_updated: 2020-09-14\n",
      " url: https://query1.finance.yahoo.com/v7/finance/download/NVDA?period1=916963200&period2=1600128000&interval=1d&events=history\n",
      "\n"
     ]
    },
    {
     "data": {
      "text/plain": [
       "\"_DataSets.csv\""
      ]
     },
     "execution_count": 61,
     "metadata": {},
     "output_type": "execute_result"
    }
   ],
   "source": [
    "rows = size(df)[1]\n",
    "\n",
    "for row in 1:rows\n",
    "    indicatior_name  = df[row, 1]\n",
    "    file_path        = df[row, 2]\n",
    "    last_updated     = df[row, 3]\n",
    "    url              = df[row, 4]\n",
    "    println(\"indicatior_name: \", indicatior_name, \"\\n file_path: \", file_path, \"\\n last_updated: \", last_updated, \"\\n url: \", url)\n",
    "    println()\n",
    "    download( url , string(\"data_original/\", file_path ) )\n",
    "    #df[2,2] = file_path\n",
    "    df[2,3] = Dates.Date(Dates.now())\n",
    "    #df[2,4] = url\n",
    "end\n",
    "\n",
    "using CSV\n",
    "file_path = \"_DataSets.csv\"\n",
    "CSV.write(file_path, df)"
   ]
  },
  {
   "cell_type": "code",
   "execution_count": null,
   "metadata": {},
   "outputs": [],
   "source": []
  }
 ],
 "metadata": {
  "kernelspec": {
   "display_name": "Julia 1.5.0",
   "language": "julia",
   "name": "julia-1.5"
  },
  "language_info": {
   "file_extension": ".jl",
   "mimetype": "application/julia",
   "name": "julia",
   "version": "1.5.0"
  },
  "toc": {
   "base_numbering": 1,
   "nav_menu": {},
   "number_sections": true,
   "sideBar": true,
   "skip_h1_title": false,
   "title_cell": "Table of Contents",
   "title_sidebar": "Contents",
   "toc_cell": false,
   "toc_position": {},
   "toc_section_display": true,
   "toc_window_display": true
  }
 },
 "nbformat": 4,
 "nbformat_minor": 4
}
