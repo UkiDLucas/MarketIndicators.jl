{
 "cells": [
  {
   "cell_type": "markdown",
   "metadata": {},
   "source": [
    "# Table of Contents\n",
    "- [Read CVS from File](#Read-CVS-from-File)\n",
    "- [Get column and row count](#Get-column-and-row-count)\n",
    "- [Normalize Data](#Normalize-Data)\n",
    "    - [Convert Dates](#Convert-Dates)\n",
    "- [Save to CSV](#Save-to-CSV)\n",
    "- [Convert CVS to Data Frames](#Convert-CVS-to-Data-Frames)\n",
    "- [Write DataFrame to CSV file](#Write-DataFrame-to-CSV-file)\n",
    "- [Read DataFrame from CSV file](#Read-DataFrame-from-CSV-file)"
   ]
  },
  {
   "cell_type": "markdown",
   "metadata": {},
   "source": [
    "# Read CVS from File"
   ]
  },
  {
   "cell_type": "code",
   "execution_count": 1,
   "metadata": {},
   "outputs": [],
   "source": [
    "#import Pkg\n",
    "#Pkg.add(\"Lathe\")"
   ]
  },
  {
   "cell_type": "code",
   "execution_count": 3,
   "metadata": {},
   "outputs": [
    {
     "data": {
      "text/plain": [
       "864×4 Array{Any,2}:\n",
       " 0  \"1-Jan-1948\"   51.7   0.062\n",
       " 0  \"1-Feb-1948\"   50.2   0.062\n",
       " 0  \"1-Mar-1948\"   43.3   0.062\n",
       " 0  \"1-Apr-1948\"   45.4   0.068\n",
       " 0  \"1-May-1948\"   49.5   0.068\n",
       " 0  \"1-Jun-1948\"   53.0   0.068\n",
       " 0  \"1-Jul-1948\"   48.4   0.023\n",
       " 0  \"1-Aug-1948\"   45.1   0.023\n",
       " 0  \"1-Sep-1948\"   42.1   0.023\n",
       " 0  \"1-Oct-1948\"   47.2   0.004\n",
       " 0  \"1-Nov-1948\"   42.4   0.004\n",
       " 0  \"1-Dec-1948\"   35.0   0.004\n",
       " 0  \"1-Jan-1949\"   32.9  -0.054\n",
       " ⋮                       \n",
       " 0  \"19-Jan-2020\"  56.6   0.031\n",
       " 0  \"19-Feb-2020\"  54.2   0.031\n",
       " 0  \"19-Mar-2020\"  55.3   0.031\n",
       " 0  \"19-Apr-2020\"  52.8   0.02\n",
       " 0  \"19-May-2020\"  52.1   0.02\n",
       " 0  \"19-Jun-2020\"  51.7   0.02\n",
       " 0  \"19-Jul-2020\"  51.2   0.021\n",
       " 0  \"19-Aug-2020\"  48.8   0.021\n",
       " 0  \"19-Sep-2020\"  48.2   0.021\n",
       " 0  \"19-Oct-2020\"  48.5   0.021\n",
       " 0  \"19-Nov-2020\"  48.1   0.021\n",
       " 0  \"19-Dec-2020\"  47.8   0.021"
      ]
     },
     "execution_count": 3,
     "metadata": {},
     "output_type": "execute_result"
    }
   ],
   "source": [
    "using DelimitedFiles\n",
    "array_data = readdlm(\"ISM_vs_GDP_001.csv\", ',') # comma delimeted"
   ]
  },
  {
   "cell_type": "code",
   "execution_count": 4,
   "metadata": {},
   "outputs": [
    {
     "data": {
      "text/plain": [
       "4"
      ]
     },
     "execution_count": 4,
     "metadata": {},
     "output_type": "execute_result"
    }
   ],
   "source": [
    "column_days = 1\n",
    "column_dates = 2\n",
    "column_ISM = 3\n",
    "column_GDP = 4"
   ]
  },
  {
   "cell_type": "code",
   "execution_count": 2,
   "metadata": {},
   "outputs": [],
   "source": [
    "#rename!(df, :x1 => :Day)\n",
    "#rename!(df, :x2 => :Date)\n",
    "#rename!(df, :x3 => :IMS)\n",
    "#rename!(df, :x4 => :GDP)"
   ]
  },
  {
   "cell_type": "markdown",
   "metadata": {},
   "source": [
    "[back to top](#Table-of-Contents)\n",
    "<hr/>\n",
    "\n",
    "# Get column and row count"
   ]
  },
  {
   "cell_type": "code",
   "execution_count": 5,
   "metadata": {},
   "outputs": [
    {
     "data": {
      "text/plain": [
       "(864, 4)"
      ]
     },
     "execution_count": 5,
     "metadata": {},
     "output_type": "execute_result"
    }
   ],
   "source": [
    "rows, columns = size(array_data)"
   ]
  },
  {
   "cell_type": "markdown",
   "metadata": {},
   "source": [
    "[back to top](#Table-of-Contents)\n",
    "<hr/>\n",
    "\n",
    "# Normalize Data"
   ]
  },
  {
   "cell_type": "code",
   "execution_count": 6,
   "metadata": {},
   "outputs": [
    {
     "data": {
      "text/plain": [
       "9×4 Array{Any,2}:\n",
       " 0  \"1-Jan-1948\"  51.7  0.062\n",
       " 0  \"1-Feb-1948\"  50.2  0.062\n",
       " 0  \"1-Mar-1948\"  43.3  0.062\n",
       " 0  \"1-Apr-1948\"  45.4  0.068\n",
       " 0  \"1-May-1948\"  49.5  0.068\n",
       " 0  \"1-Jun-1948\"  53.0  0.068\n",
       " 0  \"1-Jul-1948\"  48.4  0.023\n",
       " 0  \"1-Aug-1948\"  45.1  0.023\n",
       " 0  \"1-Sep-1948\"  42.1  0.023"
      ]
     },
     "execution_count": 6,
     "metadata": {},
     "output_type": "execute_result"
    }
   ],
   "source": [
    "array_data[1:9, :]"
   ]
  },
  {
   "cell_type": "code",
   "execution_count": null,
   "metadata": {},
   "outputs": [],
   "source": []
  },
  {
   "cell_type": "markdown",
   "metadata": {},
   "source": [
    "[back to top](#Table-of-Contents)\n",
    "<hr/>\n",
    "\n",
    "\n",
    "## Convert Dates\n",
    "\n",
    "- d - one or two digit day\n",
    "- u - 3-letter abbreviation of the month\n",
    "- y - 4-digit year"
   ]
  },
  {
   "cell_type": "code",
   "execution_count": 7,
   "metadata": {},
   "outputs": [
    {
     "data": {
      "text/plain": [
       "1948-01-01T00:00:00"
      ]
     },
     "execution_count": 7,
     "metadata": {},
     "output_type": "execute_result"
    }
   ],
   "source": [
    "using Dates\n",
    "date_format = \"d-u-y\"\n",
    "# TEST sample\n",
    "Dates.DateTime(array_data[1,column_dates], date_format) # shows the desired format of the date time. 2015-11-25T00:00:00"
   ]
  },
  {
   "cell_type": "markdown",
   "metadata": {},
   "source": [
    "# Read DataFrame for Excel spreadsheet"
   ]
  },
  {
   "cell_type": "code",
   "execution_count": null,
   "metadata": {},
   "outputs": [],
   "source": [
    "FileIO,ExcelFiles\n",
    "df = readxl(DataFrame, “Filename.xlsx”, “Sheet1!A1:C4”) | From an Excel file"
   ]
  },
  {
   "cell_type": "markdown",
   "metadata": {},
   "source": [
    "[back to top](#Table-of-Contents)\n",
    "<hr/>\n",
    "\n",
    "# Save to CSV"
   ]
  },
  {
   "cell_type": "code",
   "execution_count": 11,
   "metadata": {},
   "outputs": [
    {
     "data": {
      "text/plain": [
       "864×4 Array{Any,2}:\n",
       "     0  \"1-Jan-1948\"   51.7   0.062\n",
       "    31  \"1-Feb-1948\"   50.2   0.062\n",
       "    60  \"1-Mar-1948\"   43.3   0.062\n",
       "    91  \"1-Apr-1948\"   45.4   0.068\n",
       "   121  \"1-May-1948\"   49.5   0.068\n",
       "   152  \"1-Jun-1948\"   53.0   0.068\n",
       "   182  \"1-Jul-1948\"   48.4   0.023\n",
       "   213  \"1-Aug-1948\"   45.1   0.023\n",
       "   244  \"1-Sep-1948\"   42.1   0.023\n",
       "   274  \"1-Oct-1948\"   47.2   0.004\n",
       "   305  \"1-Nov-1948\"   42.4   0.004\n",
       "   335  \"1-Dec-1948\"   35.0   0.004\n",
       "   366  \"1-Jan-1949\"   32.9  -0.054\n",
       "     ⋮                       \n",
       " 26316  \"19-Jan-2020\"  56.6   0.031\n",
       " 26347  \"19-Feb-2020\"  54.2   0.031\n",
       " 26376  \"19-Mar-2020\"  55.3   0.031\n",
       " 26407  \"19-Apr-2020\"  52.8   0.02\n",
       " 26437  \"19-May-2020\"  52.1   0.02\n",
       " 26468  \"19-Jun-2020\"  51.7   0.02\n",
       " 26498  \"19-Jul-2020\"  51.2   0.021\n",
       " 26529  \"19-Aug-2020\"  48.8   0.021\n",
       " 26560  \"19-Sep-2020\"  48.2   0.021\n",
       " 26590  \"19-Oct-2020\"  48.5   0.021\n",
       " 26621  \"19-Nov-2020\"  48.1   0.021\n",
       " 26651  \"19-Dec-2020\"  47.8   0.021"
      ]
     },
     "execution_count": 11,
     "metadata": {},
     "output_type": "execute_result"
    }
   ],
   "source": [
    "file_name = \"ISM_vs_GDP_002.csv\"\n",
    "\n",
    "open(file_name, \"w\") do io\n",
    "    writedlm(io, array_data, ',')\n",
    "end;\n",
    "array_data = readdlm(file_name, ',') # comma delimeted"
   ]
  },
  {
   "cell_type": "markdown",
   "metadata": {},
   "source": [
    "[back to top](#Table-of-Contents)\n",
    "<hr/>\n",
    "\n",
    "# Convert CVS to Data Frames"
   ]
  },
  {
   "cell_type": "code",
   "execution_count": 12,
   "metadata": {},
   "outputs": [
    {
     "data": {
      "text/html": [
       "<table class=\"data-frame\"><thead><tr><th></th><th>Day</th><th>Date</th><th>ISM</th><th>GDP</th></tr><tr><th></th><th>Any</th><th>Any</th><th>Any</th><th>Any</th></tr></thead><tbody><p>864 rows × 4 columns</p><tr><th>1</th><td>0</td><td>1-Jan-1948</td><td>51.7</td><td>0.062</td></tr><tr><th>2</th><td>31</td><td>1-Feb-1948</td><td>50.2</td><td>0.062</td></tr><tr><th>3</th><td>60</td><td>1-Mar-1948</td><td>43.3</td><td>0.062</td></tr><tr><th>4</th><td>91</td><td>1-Apr-1948</td><td>45.4</td><td>0.068</td></tr><tr><th>5</th><td>121</td><td>1-May-1948</td><td>49.5</td><td>0.068</td></tr><tr><th>6</th><td>152</td><td>1-Jun-1948</td><td>53.0</td><td>0.068</td></tr><tr><th>7</th><td>182</td><td>1-Jul-1948</td><td>48.4</td><td>0.023</td></tr><tr><th>8</th><td>213</td><td>1-Aug-1948</td><td>45.1</td><td>0.023</td></tr><tr><th>9</th><td>244</td><td>1-Sep-1948</td><td>42.1</td><td>0.023</td></tr><tr><th>10</th><td>274</td><td>1-Oct-1948</td><td>47.2</td><td>0.004</td></tr><tr><th>11</th><td>305</td><td>1-Nov-1948</td><td>42.4</td><td>0.004</td></tr><tr><th>12</th><td>335</td><td>1-Dec-1948</td><td>35.0</td><td>0.004</td></tr><tr><th>13</th><td>366</td><td>1-Jan-1949</td><td>32.9</td><td>-0.054</td></tr><tr><th>14</th><td>397</td><td>1-Feb-1949</td><td>31.3</td><td>-0.054</td></tr><tr><th>15</th><td>425</td><td>1-Mar-1949</td><td>34.5</td><td>-0.054</td></tr><tr><th>16</th><td>456</td><td>1-Apr-1949</td><td>35.5</td><td>-0.014</td></tr><tr><th>17</th><td>486</td><td>1-May-1949</td><td>32.6</td><td>-0.014</td></tr><tr><th>18</th><td>517</td><td>1-Jun-1949</td><td>31.6</td><td>-0.014</td></tr><tr><th>19</th><td>547</td><td>1-Jul-1949</td><td>39.0</td><td>0.042</td></tr><tr><th>20</th><td>578</td><td>1-Aug-1949</td><td>47.0</td><td>0.042</td></tr><tr><th>21</th><td>609</td><td>1-Sep-1949</td><td>52.3</td><td>0.042</td></tr><tr><th>22</th><td>639</td><td>1-Oct-1949</td><td>51.0</td><td>-0.033</td></tr><tr><th>23</th><td>670</td><td>1-Nov-1949</td><td>51.0</td><td>-0.033</td></tr><tr><th>24</th><td>700</td><td>1-Dec-1949</td><td>57.3</td><td>-0.033</td></tr><tr><th>25</th><td>731</td><td>1-Jan-1950</td><td>59.1</td><td>0.167</td></tr><tr><th>26</th><td>762</td><td>1-Feb-1950</td><td>60.5</td><td>0.167</td></tr><tr><th>27</th><td>790</td><td>1-Mar-1950</td><td>62.1</td><td>0.167</td></tr><tr><th>28</th><td>821</td><td>1-Apr-1950</td><td>68.1</td><td>0.128</td></tr><tr><th>29</th><td>851</td><td>1-May-1950</td><td>74.7</td><td>0.128</td></tr><tr><th>30</th><td>882</td><td>1-Jun-1950</td><td>76.6</td><td>0.128</td></tr><tr><th>&vellip;</th><td>&vellip;</td><td>&vellip;</td><td>&vellip;</td><td>&vellip;</td></tr></tbody></table>"
      ],
      "text/latex": [
       "\\begin{tabular}{r|cccc}\n",
       "\t& Day & Date & ISM & GDP\\\\\n",
       "\t\\hline\n",
       "\t& Any & Any & Any & Any\\\\\n",
       "\t\\hline\n",
       "\t1 & 0 & 1-Jan-1948 & 51.7 & 0.062 \\\\\n",
       "\t2 & 31 & 1-Feb-1948 & 50.2 & 0.062 \\\\\n",
       "\t3 & 60 & 1-Mar-1948 & 43.3 & 0.062 \\\\\n",
       "\t4 & 91 & 1-Apr-1948 & 45.4 & 0.068 \\\\\n",
       "\t5 & 121 & 1-May-1948 & 49.5 & 0.068 \\\\\n",
       "\t6 & 152 & 1-Jun-1948 & 53.0 & 0.068 \\\\\n",
       "\t7 & 182 & 1-Jul-1948 & 48.4 & 0.023 \\\\\n",
       "\t8 & 213 & 1-Aug-1948 & 45.1 & 0.023 \\\\\n",
       "\t9 & 244 & 1-Sep-1948 & 42.1 & 0.023 \\\\\n",
       "\t10 & 274 & 1-Oct-1948 & 47.2 & 0.004 \\\\\n",
       "\t11 & 305 & 1-Nov-1948 & 42.4 & 0.004 \\\\\n",
       "\t12 & 335 & 1-Dec-1948 & 35.0 & 0.004 \\\\\n",
       "\t13 & 366 & 1-Jan-1949 & 32.9 & -0.054 \\\\\n",
       "\t14 & 397 & 1-Feb-1949 & 31.3 & -0.054 \\\\\n",
       "\t15 & 425 & 1-Mar-1949 & 34.5 & -0.054 \\\\\n",
       "\t16 & 456 & 1-Apr-1949 & 35.5 & -0.014 \\\\\n",
       "\t17 & 486 & 1-May-1949 & 32.6 & -0.014 \\\\\n",
       "\t18 & 517 & 1-Jun-1949 & 31.6 & -0.014 \\\\\n",
       "\t19 & 547 & 1-Jul-1949 & 39.0 & 0.042 \\\\\n",
       "\t20 & 578 & 1-Aug-1949 & 47.0 & 0.042 \\\\\n",
       "\t21 & 609 & 1-Sep-1949 & 52.3 & 0.042 \\\\\n",
       "\t22 & 639 & 1-Oct-1949 & 51.0 & -0.033 \\\\\n",
       "\t23 & 670 & 1-Nov-1949 & 51.0 & -0.033 \\\\\n",
       "\t24 & 700 & 1-Dec-1949 & 57.3 & -0.033 \\\\\n",
       "\t25 & 731 & 1-Jan-1950 & 59.1 & 0.167 \\\\\n",
       "\t26 & 762 & 1-Feb-1950 & 60.5 & 0.167 \\\\\n",
       "\t27 & 790 & 1-Mar-1950 & 62.1 & 0.167 \\\\\n",
       "\t28 & 821 & 1-Apr-1950 & 68.1 & 0.128 \\\\\n",
       "\t29 & 851 & 1-May-1950 & 74.7 & 0.128 \\\\\n",
       "\t30 & 882 & 1-Jun-1950 & 76.6 & 0.128 \\\\\n",
       "\t$\\dots$ & $\\dots$ & $\\dots$ & $\\dots$ & $\\dots$ \\\\\n",
       "\\end{tabular}\n"
      ],
      "text/plain": [
       "864×4 DataFrame\n",
       "│ Row │ Day   │ Date        │ ISM  │ GDP   │\n",
       "│     │ \u001b[90mAny\u001b[39m   │ \u001b[90mAny\u001b[39m         │ \u001b[90mAny\u001b[39m  │ \u001b[90mAny\u001b[39m   │\n",
       "├─────┼───────┼─────────────┼──────┼───────┤\n",
       "│ 1   │ 0     │ 1-Jan-1948  │ 51.7 │ 0.062 │\n",
       "│ 2   │ 31    │ 1-Feb-1948  │ 50.2 │ 0.062 │\n",
       "│ 3   │ 60    │ 1-Mar-1948  │ 43.3 │ 0.062 │\n",
       "│ 4   │ 91    │ 1-Apr-1948  │ 45.4 │ 0.068 │\n",
       "│ 5   │ 121   │ 1-May-1948  │ 49.5 │ 0.068 │\n",
       "│ 6   │ 152   │ 1-Jun-1948  │ 53.0 │ 0.068 │\n",
       "│ 7   │ 182   │ 1-Jul-1948  │ 48.4 │ 0.023 │\n",
       "│ 8   │ 213   │ 1-Aug-1948  │ 45.1 │ 0.023 │\n",
       "│ 9   │ 244   │ 1-Sep-1948  │ 42.1 │ 0.023 │\n",
       "│ 10  │ 274   │ 1-Oct-1948  │ 47.2 │ 0.004 │\n",
       "⋮\n",
       "│ 854 │ 26347 │ 19-Feb-2020 │ 54.2 │ 0.031 │\n",
       "│ 855 │ 26376 │ 19-Mar-2020 │ 55.3 │ 0.031 │\n",
       "│ 856 │ 26407 │ 19-Apr-2020 │ 52.8 │ 0.02  │\n",
       "│ 857 │ 26437 │ 19-May-2020 │ 52.1 │ 0.02  │\n",
       "│ 858 │ 26468 │ 19-Jun-2020 │ 51.7 │ 0.02  │\n",
       "│ 859 │ 26498 │ 19-Jul-2020 │ 51.2 │ 0.021 │\n",
       "│ 860 │ 26529 │ 19-Aug-2020 │ 48.8 │ 0.021 │\n",
       "│ 861 │ 26560 │ 19-Sep-2020 │ 48.2 │ 0.021 │\n",
       "│ 862 │ 26590 │ 19-Oct-2020 │ 48.5 │ 0.021 │\n",
       "│ 863 │ 26621 │ 19-Nov-2020 │ 48.1 │ 0.021 │\n",
       "│ 864 │ 26651 │ 19-Dec-2020 │ 47.8 │ 0.021 │"
      ]
     },
     "execution_count": 12,
     "metadata": {},
     "output_type": "execute_result"
    }
   ],
   "source": [
    "using CSV\n",
    "using DataFrames\n",
    "data_frame = DataFrame(array_data)\n",
    "df = DataFrame(\n",
    "    Day = array_data[:,column_days],\n",
    "    Date = array_data[:,column_dates],\n",
    "    ISM = array_data[:,column_ISM],\n",
    "    GDP = array_data[:,column_GDP]\n",
    ")"
   ]
  },
  {
   "cell_type": "markdown",
   "metadata": {},
   "source": [
    "[back to top](#Table-of-Contents)\n",
    "<hr/>\n",
    "\n",
    "# Save DataFrame to CSV file"
   ]
  },
  {
   "cell_type": "code",
   "execution_count": 13,
   "metadata": {},
   "outputs": [
    {
     "data": {
      "text/plain": [
       "\"ISM_vs_GDP_003.csv\""
      ]
     },
     "execution_count": 13,
     "metadata": {},
     "output_type": "execute_result"
    }
   ],
   "source": [
    "CSV.write(\"ISM_vs_GDP_003.csv\", data_frame, delim=',', header=true)"
   ]
  },
  {
   "cell_type": "markdown",
   "metadata": {},
   "source": [
    "[back to top](#Table-of-Contents)\n",
    "<hr/>\n",
    "\n",
    "# Read DataFrame from CSV file"
   ]
  },
  {
   "cell_type": "code",
   "execution_count": 22,
   "metadata": {},
   "outputs": [
    {
     "data": {
      "text/html": [
       "<table class=\"data-frame\"><thead><tr><th></th><th>x1</th><th>x2</th><th>x3</th><th>x4</th></tr><tr><th></th><th>Int64</th><th>String</th><th>Float64</th><th>Float64</th></tr></thead><tbody><p>864 rows × 4 columns</p><tr><th>1</th><td>0</td><td>1-Jan-1948</td><td>51.7</td><td>0.062</td></tr><tr><th>2</th><td>31</td><td>1-Feb-1948</td><td>50.2</td><td>0.062</td></tr><tr><th>3</th><td>60</td><td>1-Mar-1948</td><td>43.3</td><td>0.062</td></tr><tr><th>4</th><td>91</td><td>1-Apr-1948</td><td>45.4</td><td>0.068</td></tr><tr><th>5</th><td>121</td><td>1-May-1948</td><td>49.5</td><td>0.068</td></tr><tr><th>6</th><td>152</td><td>1-Jun-1948</td><td>53.0</td><td>0.068</td></tr><tr><th>7</th><td>182</td><td>1-Jul-1948</td><td>48.4</td><td>0.023</td></tr><tr><th>8</th><td>213</td><td>1-Aug-1948</td><td>45.1</td><td>0.023</td></tr><tr><th>9</th><td>244</td><td>1-Sep-1948</td><td>42.1</td><td>0.023</td></tr><tr><th>10</th><td>274</td><td>1-Oct-1948</td><td>47.2</td><td>0.004</td></tr><tr><th>11</th><td>305</td><td>1-Nov-1948</td><td>42.4</td><td>0.004</td></tr><tr><th>12</th><td>335</td><td>1-Dec-1948</td><td>35.0</td><td>0.004</td></tr><tr><th>13</th><td>366</td><td>1-Jan-1949</td><td>32.9</td><td>-0.054</td></tr><tr><th>14</th><td>397</td><td>1-Feb-1949</td><td>31.3</td><td>-0.054</td></tr><tr><th>15</th><td>425</td><td>1-Mar-1949</td><td>34.5</td><td>-0.054</td></tr><tr><th>16</th><td>456</td><td>1-Apr-1949</td><td>35.5</td><td>-0.014</td></tr><tr><th>17</th><td>486</td><td>1-May-1949</td><td>32.6</td><td>-0.014</td></tr><tr><th>18</th><td>517</td><td>1-Jun-1949</td><td>31.6</td><td>-0.014</td></tr><tr><th>19</th><td>547</td><td>1-Jul-1949</td><td>39.0</td><td>0.042</td></tr><tr><th>20</th><td>578</td><td>1-Aug-1949</td><td>47.0</td><td>0.042</td></tr><tr><th>21</th><td>609</td><td>1-Sep-1949</td><td>52.3</td><td>0.042</td></tr><tr><th>22</th><td>639</td><td>1-Oct-1949</td><td>51.0</td><td>-0.033</td></tr><tr><th>23</th><td>670</td><td>1-Nov-1949</td><td>51.0</td><td>-0.033</td></tr><tr><th>24</th><td>700</td><td>1-Dec-1949</td><td>57.3</td><td>-0.033</td></tr><tr><th>25</th><td>731</td><td>1-Jan-1950</td><td>59.1</td><td>0.167</td></tr><tr><th>26</th><td>762</td><td>1-Feb-1950</td><td>60.5</td><td>0.167</td></tr><tr><th>27</th><td>790</td><td>1-Mar-1950</td><td>62.1</td><td>0.167</td></tr><tr><th>28</th><td>821</td><td>1-Apr-1950</td><td>68.1</td><td>0.128</td></tr><tr><th>29</th><td>851</td><td>1-May-1950</td><td>74.7</td><td>0.128</td></tr><tr><th>30</th><td>882</td><td>1-Jun-1950</td><td>76.6</td><td>0.128</td></tr><tr><th>&vellip;</th><td>&vellip;</td><td>&vellip;</td><td>&vellip;</td><td>&vellip;</td></tr></tbody></table>"
      ],
      "text/latex": [
       "\\begin{tabular}{r|cccc}\n",
       "\t& x1 & x2 & x3 & x4\\\\\n",
       "\t\\hline\n",
       "\t& Int64 & String & Float64 & Float64\\\\\n",
       "\t\\hline\n",
       "\t1 & 0 & 1-Jan-1948 & 51.7 & 0.062 \\\\\n",
       "\t2 & 31 & 1-Feb-1948 & 50.2 & 0.062 \\\\\n",
       "\t3 & 60 & 1-Mar-1948 & 43.3 & 0.062 \\\\\n",
       "\t4 & 91 & 1-Apr-1948 & 45.4 & 0.068 \\\\\n",
       "\t5 & 121 & 1-May-1948 & 49.5 & 0.068 \\\\\n",
       "\t6 & 152 & 1-Jun-1948 & 53.0 & 0.068 \\\\\n",
       "\t7 & 182 & 1-Jul-1948 & 48.4 & 0.023 \\\\\n",
       "\t8 & 213 & 1-Aug-1948 & 45.1 & 0.023 \\\\\n",
       "\t9 & 244 & 1-Sep-1948 & 42.1 & 0.023 \\\\\n",
       "\t10 & 274 & 1-Oct-1948 & 47.2 & 0.004 \\\\\n",
       "\t11 & 305 & 1-Nov-1948 & 42.4 & 0.004 \\\\\n",
       "\t12 & 335 & 1-Dec-1948 & 35.0 & 0.004 \\\\\n",
       "\t13 & 366 & 1-Jan-1949 & 32.9 & -0.054 \\\\\n",
       "\t14 & 397 & 1-Feb-1949 & 31.3 & -0.054 \\\\\n",
       "\t15 & 425 & 1-Mar-1949 & 34.5 & -0.054 \\\\\n",
       "\t16 & 456 & 1-Apr-1949 & 35.5 & -0.014 \\\\\n",
       "\t17 & 486 & 1-May-1949 & 32.6 & -0.014 \\\\\n",
       "\t18 & 517 & 1-Jun-1949 & 31.6 & -0.014 \\\\\n",
       "\t19 & 547 & 1-Jul-1949 & 39.0 & 0.042 \\\\\n",
       "\t20 & 578 & 1-Aug-1949 & 47.0 & 0.042 \\\\\n",
       "\t21 & 609 & 1-Sep-1949 & 52.3 & 0.042 \\\\\n",
       "\t22 & 639 & 1-Oct-1949 & 51.0 & -0.033 \\\\\n",
       "\t23 & 670 & 1-Nov-1949 & 51.0 & -0.033 \\\\\n",
       "\t24 & 700 & 1-Dec-1949 & 57.3 & -0.033 \\\\\n",
       "\t25 & 731 & 1-Jan-1950 & 59.1 & 0.167 \\\\\n",
       "\t26 & 762 & 1-Feb-1950 & 60.5 & 0.167 \\\\\n",
       "\t27 & 790 & 1-Mar-1950 & 62.1 & 0.167 \\\\\n",
       "\t28 & 821 & 1-Apr-1950 & 68.1 & 0.128 \\\\\n",
       "\t29 & 851 & 1-May-1950 & 74.7 & 0.128 \\\\\n",
       "\t30 & 882 & 1-Jun-1950 & 76.6 & 0.128 \\\\\n",
       "\t$\\dots$ & $\\dots$ & $\\dots$ & $\\dots$ & $\\dots$ \\\\\n",
       "\\end{tabular}\n"
      ],
      "text/plain": [
       "864×4 DataFrame\n",
       "│ Row │ x1    │ x2          │ x3      │ x4      │\n",
       "│     │ \u001b[90mInt64\u001b[39m │ \u001b[90mString\u001b[39m      │ \u001b[90mFloat64\u001b[39m │ \u001b[90mFloat64\u001b[39m │\n",
       "├─────┼───────┼─────────────┼─────────┼─────────┤\n",
       "│ 1   │ 0     │ 1-Jan-1948  │ 51.7    │ 0.062   │\n",
       "│ 2   │ 31    │ 1-Feb-1948  │ 50.2    │ 0.062   │\n",
       "│ 3   │ 60    │ 1-Mar-1948  │ 43.3    │ 0.062   │\n",
       "│ 4   │ 91    │ 1-Apr-1948  │ 45.4    │ 0.068   │\n",
       "│ 5   │ 121   │ 1-May-1948  │ 49.5    │ 0.068   │\n",
       "│ 6   │ 152   │ 1-Jun-1948  │ 53.0    │ 0.068   │\n",
       "│ 7   │ 182   │ 1-Jul-1948  │ 48.4    │ 0.023   │\n",
       "│ 8   │ 213   │ 1-Aug-1948  │ 45.1    │ 0.023   │\n",
       "│ 9   │ 244   │ 1-Sep-1948  │ 42.1    │ 0.023   │\n",
       "│ 10  │ 274   │ 1-Oct-1948  │ 47.2    │ 0.004   │\n",
       "⋮\n",
       "│ 854 │ 26347 │ 19-Feb-2020 │ 54.2    │ 0.031   │\n",
       "│ 855 │ 26376 │ 19-Mar-2020 │ 55.3    │ 0.031   │\n",
       "│ 856 │ 26407 │ 19-Apr-2020 │ 52.8    │ 0.02    │\n",
       "│ 857 │ 26437 │ 19-May-2020 │ 52.1    │ 0.02    │\n",
       "│ 858 │ 26468 │ 19-Jun-2020 │ 51.7    │ 0.02    │\n",
       "│ 859 │ 26498 │ 19-Jul-2020 │ 51.2    │ 0.021   │\n",
       "│ 860 │ 26529 │ 19-Aug-2020 │ 48.8    │ 0.021   │\n",
       "│ 861 │ 26560 │ 19-Sep-2020 │ 48.2    │ 0.021   │\n",
       "│ 862 │ 26590 │ 19-Oct-2020 │ 48.5    │ 0.021   │\n",
       "│ 863 │ 26621 │ 19-Nov-2020 │ 48.1    │ 0.021   │\n",
       "│ 864 │ 26651 │ 19-Dec-2020 │ 47.8    │ 0.021   │"
      ]
     },
     "execution_count": 22,
     "metadata": {},
     "output_type": "execute_result"
    }
   ],
   "source": [
    "using DataFrames\n",
    "df = CSV.read(\"ISM_vs_GDP_003.csv\")"
   ]
  },
  {
   "cell_type": "markdown",
   "metadata": {},
   "source": [
    "# Rename DataFrame Headers"
   ]
  },
  {
   "cell_type": "code",
   "execution_count": 23,
   "metadata": {},
   "outputs": [
    {
     "data": {
      "text/html": [
       "<table class=\"data-frame\"><thead><tr><th></th><th>Day</th><th>Date</th><th>IMS</th><th>GDP</th></tr><tr><th></th><th>Int64</th><th>String</th><th>Float64</th><th>Float64</th></tr></thead><tbody><p>864 rows × 4 columns</p><tr><th>1</th><td>0</td><td>1-Jan-1948</td><td>51.7</td><td>0.062</td></tr><tr><th>2</th><td>31</td><td>1-Feb-1948</td><td>50.2</td><td>0.062</td></tr><tr><th>3</th><td>60</td><td>1-Mar-1948</td><td>43.3</td><td>0.062</td></tr><tr><th>4</th><td>91</td><td>1-Apr-1948</td><td>45.4</td><td>0.068</td></tr><tr><th>5</th><td>121</td><td>1-May-1948</td><td>49.5</td><td>0.068</td></tr><tr><th>6</th><td>152</td><td>1-Jun-1948</td><td>53.0</td><td>0.068</td></tr><tr><th>7</th><td>182</td><td>1-Jul-1948</td><td>48.4</td><td>0.023</td></tr><tr><th>8</th><td>213</td><td>1-Aug-1948</td><td>45.1</td><td>0.023</td></tr><tr><th>9</th><td>244</td><td>1-Sep-1948</td><td>42.1</td><td>0.023</td></tr><tr><th>10</th><td>274</td><td>1-Oct-1948</td><td>47.2</td><td>0.004</td></tr><tr><th>11</th><td>305</td><td>1-Nov-1948</td><td>42.4</td><td>0.004</td></tr><tr><th>12</th><td>335</td><td>1-Dec-1948</td><td>35.0</td><td>0.004</td></tr><tr><th>13</th><td>366</td><td>1-Jan-1949</td><td>32.9</td><td>-0.054</td></tr><tr><th>14</th><td>397</td><td>1-Feb-1949</td><td>31.3</td><td>-0.054</td></tr><tr><th>15</th><td>425</td><td>1-Mar-1949</td><td>34.5</td><td>-0.054</td></tr><tr><th>16</th><td>456</td><td>1-Apr-1949</td><td>35.5</td><td>-0.014</td></tr><tr><th>17</th><td>486</td><td>1-May-1949</td><td>32.6</td><td>-0.014</td></tr><tr><th>18</th><td>517</td><td>1-Jun-1949</td><td>31.6</td><td>-0.014</td></tr><tr><th>19</th><td>547</td><td>1-Jul-1949</td><td>39.0</td><td>0.042</td></tr><tr><th>20</th><td>578</td><td>1-Aug-1949</td><td>47.0</td><td>0.042</td></tr><tr><th>21</th><td>609</td><td>1-Sep-1949</td><td>52.3</td><td>0.042</td></tr><tr><th>22</th><td>639</td><td>1-Oct-1949</td><td>51.0</td><td>-0.033</td></tr><tr><th>23</th><td>670</td><td>1-Nov-1949</td><td>51.0</td><td>-0.033</td></tr><tr><th>24</th><td>700</td><td>1-Dec-1949</td><td>57.3</td><td>-0.033</td></tr><tr><th>25</th><td>731</td><td>1-Jan-1950</td><td>59.1</td><td>0.167</td></tr><tr><th>26</th><td>762</td><td>1-Feb-1950</td><td>60.5</td><td>0.167</td></tr><tr><th>27</th><td>790</td><td>1-Mar-1950</td><td>62.1</td><td>0.167</td></tr><tr><th>28</th><td>821</td><td>1-Apr-1950</td><td>68.1</td><td>0.128</td></tr><tr><th>29</th><td>851</td><td>1-May-1950</td><td>74.7</td><td>0.128</td></tr><tr><th>30</th><td>882</td><td>1-Jun-1950</td><td>76.6</td><td>0.128</td></tr><tr><th>&vellip;</th><td>&vellip;</td><td>&vellip;</td><td>&vellip;</td><td>&vellip;</td></tr></tbody></table>"
      ],
      "text/latex": [
       "\\begin{tabular}{r|cccc}\n",
       "\t& Day & Date & IMS & GDP\\\\\n",
       "\t\\hline\n",
       "\t& Int64 & String & Float64 & Float64\\\\\n",
       "\t\\hline\n",
       "\t1 & 0 & 1-Jan-1948 & 51.7 & 0.062 \\\\\n",
       "\t2 & 31 & 1-Feb-1948 & 50.2 & 0.062 \\\\\n",
       "\t3 & 60 & 1-Mar-1948 & 43.3 & 0.062 \\\\\n",
       "\t4 & 91 & 1-Apr-1948 & 45.4 & 0.068 \\\\\n",
       "\t5 & 121 & 1-May-1948 & 49.5 & 0.068 \\\\\n",
       "\t6 & 152 & 1-Jun-1948 & 53.0 & 0.068 \\\\\n",
       "\t7 & 182 & 1-Jul-1948 & 48.4 & 0.023 \\\\\n",
       "\t8 & 213 & 1-Aug-1948 & 45.1 & 0.023 \\\\\n",
       "\t9 & 244 & 1-Sep-1948 & 42.1 & 0.023 \\\\\n",
       "\t10 & 274 & 1-Oct-1948 & 47.2 & 0.004 \\\\\n",
       "\t11 & 305 & 1-Nov-1948 & 42.4 & 0.004 \\\\\n",
       "\t12 & 335 & 1-Dec-1948 & 35.0 & 0.004 \\\\\n",
       "\t13 & 366 & 1-Jan-1949 & 32.9 & -0.054 \\\\\n",
       "\t14 & 397 & 1-Feb-1949 & 31.3 & -0.054 \\\\\n",
       "\t15 & 425 & 1-Mar-1949 & 34.5 & -0.054 \\\\\n",
       "\t16 & 456 & 1-Apr-1949 & 35.5 & -0.014 \\\\\n",
       "\t17 & 486 & 1-May-1949 & 32.6 & -0.014 \\\\\n",
       "\t18 & 517 & 1-Jun-1949 & 31.6 & -0.014 \\\\\n",
       "\t19 & 547 & 1-Jul-1949 & 39.0 & 0.042 \\\\\n",
       "\t20 & 578 & 1-Aug-1949 & 47.0 & 0.042 \\\\\n",
       "\t21 & 609 & 1-Sep-1949 & 52.3 & 0.042 \\\\\n",
       "\t22 & 639 & 1-Oct-1949 & 51.0 & -0.033 \\\\\n",
       "\t23 & 670 & 1-Nov-1949 & 51.0 & -0.033 \\\\\n",
       "\t24 & 700 & 1-Dec-1949 & 57.3 & -0.033 \\\\\n",
       "\t25 & 731 & 1-Jan-1950 & 59.1 & 0.167 \\\\\n",
       "\t26 & 762 & 1-Feb-1950 & 60.5 & 0.167 \\\\\n",
       "\t27 & 790 & 1-Mar-1950 & 62.1 & 0.167 \\\\\n",
       "\t28 & 821 & 1-Apr-1950 & 68.1 & 0.128 \\\\\n",
       "\t29 & 851 & 1-May-1950 & 74.7 & 0.128 \\\\\n",
       "\t30 & 882 & 1-Jun-1950 & 76.6 & 0.128 \\\\\n",
       "\t$\\dots$ & $\\dots$ & $\\dots$ & $\\dots$ & $\\dots$ \\\\\n",
       "\\end{tabular}\n"
      ],
      "text/plain": [
       "864×4 DataFrame\n",
       "│ Row │ Day   │ Date        │ IMS     │ GDP     │\n",
       "│     │ \u001b[90mInt64\u001b[39m │ \u001b[90mString\u001b[39m      │ \u001b[90mFloat64\u001b[39m │ \u001b[90mFloat64\u001b[39m │\n",
       "├─────┼───────┼─────────────┼─────────┼─────────┤\n",
       "│ 1   │ 0     │ 1-Jan-1948  │ 51.7    │ 0.062   │\n",
       "│ 2   │ 31    │ 1-Feb-1948  │ 50.2    │ 0.062   │\n",
       "│ 3   │ 60    │ 1-Mar-1948  │ 43.3    │ 0.062   │\n",
       "│ 4   │ 91    │ 1-Apr-1948  │ 45.4    │ 0.068   │\n",
       "│ 5   │ 121   │ 1-May-1948  │ 49.5    │ 0.068   │\n",
       "│ 6   │ 152   │ 1-Jun-1948  │ 53.0    │ 0.068   │\n",
       "│ 7   │ 182   │ 1-Jul-1948  │ 48.4    │ 0.023   │\n",
       "│ 8   │ 213   │ 1-Aug-1948  │ 45.1    │ 0.023   │\n",
       "│ 9   │ 244   │ 1-Sep-1948  │ 42.1    │ 0.023   │\n",
       "│ 10  │ 274   │ 1-Oct-1948  │ 47.2    │ 0.004   │\n",
       "⋮\n",
       "│ 854 │ 26347 │ 19-Feb-2020 │ 54.2    │ 0.031   │\n",
       "│ 855 │ 26376 │ 19-Mar-2020 │ 55.3    │ 0.031   │\n",
       "│ 856 │ 26407 │ 19-Apr-2020 │ 52.8    │ 0.02    │\n",
       "│ 857 │ 26437 │ 19-May-2020 │ 52.1    │ 0.02    │\n",
       "│ 858 │ 26468 │ 19-Jun-2020 │ 51.7    │ 0.02    │\n",
       "│ 859 │ 26498 │ 19-Jul-2020 │ 51.2    │ 0.021   │\n",
       "│ 860 │ 26529 │ 19-Aug-2020 │ 48.8    │ 0.021   │\n",
       "│ 861 │ 26560 │ 19-Sep-2020 │ 48.2    │ 0.021   │\n",
       "│ 862 │ 26590 │ 19-Oct-2020 │ 48.5    │ 0.021   │\n",
       "│ 863 │ 26621 │ 19-Nov-2020 │ 48.1    │ 0.021   │\n",
       "│ 864 │ 26651 │ 19-Dec-2020 │ 47.8    │ 0.021   │"
      ]
     },
     "execution_count": 23,
     "metadata": {},
     "output_type": "execute_result"
    }
   ],
   "source": [
    "rename!(df, :x1 => :Day)\n",
    "rename!(df, :x2 => :Date)\n",
    "rename!(df, :x3 => :IMS)\n",
    "rename!(df, :x4 => :GDP)"
   ]
  },
  {
   "cell_type": "code",
   "execution_count": null,
   "metadata": {},
   "outputs": [],
   "source": []
  }
 ],
 "metadata": {
  "kernelspec": {
   "display_name": "Julia 1.4.2",
   "language": "julia",
   "name": "julia-1.4"
  },
  "language_info": {
   "file_extension": ".jl",
   "mimetype": "application/julia",
   "name": "julia",
   "version": "1.4.2"
  }
 },
 "nbformat": 4,
 "nbformat_minor": 4
}
