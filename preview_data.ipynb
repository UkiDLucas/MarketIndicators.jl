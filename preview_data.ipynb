{
 "cells": [
  {
   "cell_type": "markdown",
   "metadata": {},
   "source": [
    "# preview_data"
   ]
  },
  {
   "cell_type": "code",
   "execution_count": 8,
   "metadata": {},
   "outputs": [
    {
     "data": {
      "text/plain": [
       "preview_data (generic function with 1 method)"
      ]
     },
     "execution_count": 8,
     "metadata": {},
     "output_type": "execute_result"
    }
   ],
   "source": [
    "function preview_data(df)\n",
    "    println(\"\n",
    "    Usage:\n",
    "          preview_data(df)\n",
    "          preview_data(df[1:2,1:3])\n",
    "    \")\n",
    "    \n",
    "    all_rows = size(df)[1]\n",
    "    show_rows = 20\n",
    "    \n",
    "    if all_rows < show_rows\n",
    "        show_rows = all_rows\n",
    "    end\n",
    "    \n",
    "    interval = convert(Int64, round(all_rows/show_rows, digits=0))\n",
    "    rows = collect(1:interval:all_rows)\n",
    "    show(df[ rows, :], allcols=true) # do NOT limit number of columns if more than 6\n",
    "end"
   ]
  },
  {
   "cell_type": "code",
   "execution_count": null,
   "metadata": {},
   "outputs": [],
   "source": []
  }
 ],
 "metadata": {
  "kernelspec": {
   "display_name": "Julia 1.5.0",
   "language": "julia",
   "name": "julia-1.5"
  },
  "language_info": {
   "file_extension": ".jl",
   "mimetype": "application/julia",
   "name": "julia",
   "version": "1.5.0"
  },
  "toc": {
   "base_numbering": 1,
   "nav_menu": {},
   "number_sections": true,
   "sideBar": true,
   "skip_h1_title": false,
   "title_cell": "Table of Contents",
   "title_sidebar": "Contents",
   "toc_cell": false,
   "toc_position": {},
   "toc_section_display": true,
   "toc_window_display": false
  }
 },
 "nbformat": 4,
 "nbformat_minor": 4
}
