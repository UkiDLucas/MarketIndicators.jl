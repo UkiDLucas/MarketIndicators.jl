{
 "cells": [
  {
   "cell_type": "markdown",
   "metadata": {},
   "source": [
    "# Days Since"
   ]
  },
  {
   "cell_type": "markdown",
   "metadata": {},
   "source": [
    "## Table of Contents\n",
    "- [Prepare DataFrame](#Prepare-DataFrame)\n",
    "    - [Read the CSV data from the file into the DataFrame](#Read-the-CSV-data-from-the-file-into-the-DataFrame)\n",
    "    - [Define given date format](#Define-given-date-format)\n",
    "    - [Count number of rows in the DataSet](#Count-number-of-rows-in-the-DataSet)\n",
    "- [Determine day one](#Determine-day-one)\n",
    "- [Function to provide \"rata die\"](#Function-to-provide-rata-die)\n",
    "- [Iterate thru each row and update \"rata die\"](#Iterate-thru-each-row-and-update-rata-die)\n",
    "- [Save DataFrame to CSV file](#Save-DataFrame-to-CSV-file)"
   ]
  },
  {
   "cell_type": "markdown",
   "metadata": {},
   "source": [
    "# Prepare DataFrame\n",
    "\n",
    "## Read the CSV data from the file into the DataFrame"
   ]
  },
  {
   "cell_type": "code",
   "execution_count": 1,
   "metadata": {},
   "outputs": [
    {
     "name": "stderr",
     "output_type": "stream",
     "text": [
      "┌ Warning: `CSV.read(input; kw...)` is deprecated in favor of `using DataFrames; CSV.read(input, DataFrame; kw...)\n",
      "│   caller = read(::String) at CSV.jl:40\n",
      "└ @ CSV /Users/uki/.julia/packages/CSV/MKemC/src/CSV.jl:40\n"
     ]
    },
    {
     "data": {
      "text/plain": [
       "DataFrame"
      ]
     },
     "execution_count": 1,
     "metadata": {},
     "output_type": "execute_result"
    }
   ],
   "source": [
    "using DataFrames, CSV, Dates\n",
    "df = CSV.read(\"market_indicators.csv\")\n",
    "typeof(df)"
   ]
  },
  {
   "cell_type": "code",
   "execution_count": 2,
   "metadata": {},
   "outputs": [
    {
     "data": {
      "text/html": [
       "<table class=\"data-frame\"><thead><tr><th></th><th>Day</th><th>Date</th><th>ISM Manufacturing</th><th>GDP Growth q/q % (Annualised)</th><th>S&amp;P 500</th><th>S&amp;P 500 y/y</th></tr><tr><th></th><th>Int64</th><th>Date</th><th>Float64?</th><th>Float64?</th><th>Float64?</th><th>String?</th></tr></thead><tbody><p>6 rows × 7 columns (omitted printing of 1 columns)</p><tr><th>1</th><td>0</td><td>1948-03-31</td><td>43.3</td><td>0.062</td><td><em>missing</em></td><td><em>missing</em></td></tr><tr><th>2</th><td>30</td><td>1948-04-30</td><td>45.4</td><td>0.062</td><td><em>missing</em></td><td><em>missing</em></td></tr><tr><th>3</th><td>61</td><td>1948-05-31</td><td>49.5</td><td>0.062</td><td><em>missing</em></td><td><em>missing</em></td></tr><tr><th>4</th><td>91</td><td>1948-06-30</td><td>53.0</td><td>0.068</td><td><em>missing</em></td><td><em>missing</em></td></tr><tr><th>5</th><td>122</td><td>1948-07-31</td><td>48.4</td><td>0.068</td><td><em>missing</em></td><td><em>missing</em></td></tr><tr><th>6</th><td>153</td><td>1948-08-31</td><td>45.1</td><td>0.068</td><td><em>missing</em></td><td><em>missing</em></td></tr></tbody></table>"
      ],
      "text/latex": [
       "\\begin{tabular}{r|ccccccc}\n",
       "\t& Day & Date & ISM Manufacturing & GDP Growth q/q \\% (Annualised) & S\\&P 500 & S\\&P 500 y/y & \\\\\n",
       "\t\\hline\n",
       "\t& Int64 & Date & Float64? & Float64? & Float64? & String? & \\\\\n",
       "\t\\hline\n",
       "\t1 & 0 & 1948-03-31 & 43.3 & 0.062 & \\emph{missing} & \\emph{missing} & $\\dots$ \\\\\n",
       "\t2 & 30 & 1948-04-30 & 45.4 & 0.062 & \\emph{missing} & \\emph{missing} & $\\dots$ \\\\\n",
       "\t3 & 61 & 1948-05-31 & 49.5 & 0.062 & \\emph{missing} & \\emph{missing} & $\\dots$ \\\\\n",
       "\t4 & 91 & 1948-06-30 & 53.0 & 0.068 & \\emph{missing} & \\emph{missing} & $\\dots$ \\\\\n",
       "\t5 & 122 & 1948-07-31 & 48.4 & 0.068 & \\emph{missing} & \\emph{missing} & $\\dots$ \\\\\n",
       "\t6 & 153 & 1948-08-31 & 45.1 & 0.068 & \\emph{missing} & \\emph{missing} & $\\dots$ \\\\\n",
       "\\end{tabular}\n"
      ],
      "text/plain": [
       "6×7 DataFrame. Omitted printing of 3 columns\n",
       "│ Row │ Day   │ Date       │ ISM Manufacturing │ GDP Growth q/q % (Annualised) │\n",
       "│     │ \u001b[90mInt64\u001b[39m │ \u001b[90mDate\u001b[39m       │ \u001b[90mFloat64?\u001b[39m          │ \u001b[90mUnion{Missing, Float64}\u001b[39m       │\n",
       "├─────┼───────┼────────────┼───────────────────┼───────────────────────────────┤\n",
       "│ 1   │ 0     │ 1948-03-31 │ 43.3              │ 0.062                         │\n",
       "│ 2   │ 30    │ 1948-04-30 │ 45.4              │ 0.062                         │\n",
       "│ 3   │ 61    │ 1948-05-31 │ 49.5              │ 0.062                         │\n",
       "│ 4   │ 91    │ 1948-06-30 │ 53.0              │ 0.068                         │\n",
       "│ 5   │ 122   │ 1948-07-31 │ 48.4              │ 0.068                         │\n",
       "│ 6   │ 153   │ 1948-08-31 │ 45.1              │ 0.068                         │"
      ]
     },
     "execution_count": 2,
     "metadata": {},
     "output_type": "execute_result"
    }
   ],
   "source": [
    "first(df,6)"
   ]
  },
  {
   "cell_type": "code",
   "execution_count": 3,
   "metadata": {},
   "outputs": [
    {
     "data": {
      "text/html": [
       "<table class=\"data-frame\"><thead><tr><th></th><th>Day</th><th>Date</th><th>ISM Manufacturing</th><th>GDP Growth q/q % (Annualised)</th><th>S&amp;P 500</th><th>S&amp;P 500 y/y</th></tr><tr><th></th><th>Int64</th><th>Date</th><th>Float64?</th><th>Float64?</th><th>Float64?</th><th>String?</th></tr></thead><tbody><p>6 rows × 7 columns (omitted printing of 1 columns)</p><tr><th>1</th><td>26207</td><td>2019-12-31</td><td><em>missing</em></td><td>0.021</td><td><em>missing</em></td><td><em>missing</em></td></tr><tr><th>2</th><td>26208</td><td>2020-01-01</td><td>50.9</td><td><em>missing</em></td><td>3225.52</td><td>19.28%</td></tr><tr><th>3</th><td>26238</td><td>2020-01-31</td><td><em>missing</em></td><td><em>missing</em></td><td><em>missing</em></td><td><em>missing</em></td></tr><tr><th>4</th><td>26239</td><td>2020-02-01</td><td>50.1</td><td><em>missing</em></td><td>2954.22</td><td>6.10%</td></tr><tr><th>5</th><td>26267</td><td>2020-02-29</td><td>50.1</td><td><em>missing</em></td><td><em>missing</em></td><td><em>missing</em></td></tr><tr><th>6</th><td>26298</td><td>2020-03-31</td><td>49.1</td><td><em>missing</em></td><td><em>missing</em></td><td><em>missing</em></td></tr></tbody></table>"
      ],
      "text/latex": [
       "\\begin{tabular}{r|ccccccc}\n",
       "\t& Day & Date & ISM Manufacturing & GDP Growth q/q \\% (Annualised) & S\\&P 500 & S\\&P 500 y/y & \\\\\n",
       "\t\\hline\n",
       "\t& Int64 & Date & Float64? & Float64? & Float64? & String? & \\\\\n",
       "\t\\hline\n",
       "\t1 & 26207 & 2019-12-31 & \\emph{missing} & 0.021 & \\emph{missing} & \\emph{missing} & $\\dots$ \\\\\n",
       "\t2 & 26208 & 2020-01-01 & 50.9 & \\emph{missing} & 3225.52 & 19.28\\% & $\\dots$ \\\\\n",
       "\t3 & 26238 & 2020-01-31 & \\emph{missing} & \\emph{missing} & \\emph{missing} & \\emph{missing} & $\\dots$ \\\\\n",
       "\t4 & 26239 & 2020-02-01 & 50.1 & \\emph{missing} & 2954.22 & 6.10\\% & $\\dots$ \\\\\n",
       "\t5 & 26267 & 2020-02-29 & 50.1 & \\emph{missing} & \\emph{missing} & \\emph{missing} & $\\dots$ \\\\\n",
       "\t6 & 26298 & 2020-03-31 & 49.1 & \\emph{missing} & \\emph{missing} & \\emph{missing} & $\\dots$ \\\\\n",
       "\\end{tabular}\n"
      ],
      "text/plain": [
       "6×7 DataFrame. Omitted printing of 3 columns\n",
       "│ Row │ Day   │ Date       │ ISM Manufacturing │ GDP Growth q/q % (Annualised) │\n",
       "│     │ \u001b[90mInt64\u001b[39m │ \u001b[90mDate\u001b[39m       │ \u001b[90mFloat64?\u001b[39m          │ \u001b[90mUnion{Missing, Float64}\u001b[39m       │\n",
       "├─────┼───────┼────────────┼───────────────────┼───────────────────────────────┤\n",
       "│ 1   │ 26207 │ 2019-12-31 │ \u001b[90mmissing\u001b[39m           │ 0.021                         │\n",
       "│ 2   │ 26208 │ 2020-01-01 │ 50.9              │ \u001b[90mmissing\u001b[39m                       │\n",
       "│ 3   │ 26238 │ 2020-01-31 │ \u001b[90mmissing\u001b[39m           │ \u001b[90mmissing\u001b[39m                       │\n",
       "│ 4   │ 26239 │ 2020-02-01 │ 50.1              │ \u001b[90mmissing\u001b[39m                       │\n",
       "│ 5   │ 26267 │ 2020-02-29 │ 50.1              │ \u001b[90mmissing\u001b[39m                       │\n",
       "│ 6   │ 26298 │ 2020-03-31 │ 49.1              │ \u001b[90mmissing\u001b[39m                       │"
      ]
     },
     "execution_count": 3,
     "metadata": {},
     "output_type": "execute_result"
    }
   ],
   "source": [
    "last(df,6)"
   ]
  },
  {
   "cell_type": "code",
   "execution_count": 4,
   "metadata": {},
   "outputs": [
    {
     "data": {
      "text/plain": [
       "2"
      ]
     },
     "execution_count": 4,
     "metadata": {},
     "output_type": "execute_result"
    }
   ],
   "source": [
    "date_column = 2"
   ]
  },
  {
   "cell_type": "markdown",
   "metadata": {},
   "source": [
    "## Count number of rows in the DataSet"
   ]
  },
  {
   "cell_type": "code",
   "execution_count": 5,
   "metadata": {},
   "outputs": [
    {
     "data": {
      "text/plain": [
       "1623"
      ]
     },
     "execution_count": 5,
     "metadata": {},
     "output_type": "execute_result"
    }
   ],
   "source": [
    "rows = size(df)[1]"
   ]
  },
  {
   "cell_type": "markdown",
   "metadata": {},
   "source": [
    "# Define given date format"
   ]
  },
  {
   "cell_type": "code",
   "execution_count": 6,
   "metadata": {},
   "outputs": [
    {
     "data": {
      "text/plain": [
       "1950-05-01"
      ]
     },
     "execution_count": 6,
     "metadata": {},
     "output_type": "execute_result"
    }
   ],
   "source": [
    "value = df[1, date_column] # row 1, column 2\n",
    "date_format = \"yy-mm-dd\" # e.g. \"1950-05-01\"\n",
    "Dates.Date(\"1950-05-01\", date_format) # == \"1950-05-01\""
   ]
  },
  {
   "cell_type": "markdown",
   "metadata": {},
   "source": [
    "# Determine day one"
   ]
  },
  {
   "cell_type": "code",
   "execution_count": 7,
   "metadata": {},
   "outputs": [
    {
     "data": {
      "text/plain": [
       "711217"
      ]
     },
     "execution_count": 7,
     "metadata": {},
     "output_type": "execute_result"
    }
   ],
   "source": [
    "day_one = Dates.datetime2rata(value) # typeof(day_one) = Int64"
   ]
  },
  {
   "cell_type": "markdown",
   "metadata": {},
   "source": [
    "# Function to provide rata die\n",
    "\n",
    "- https://en.wikipedia.org/wiki/Rata_Die"
   ]
  },
  {
   "cell_type": "code",
   "execution_count": 8,
   "metadata": {},
   "outputs": [
    {
     "data": {
      "text/plain": [
       "Date"
      ]
     },
     "execution_count": 8,
     "metadata": {},
     "output_type": "execute_result"
    }
   ],
   "source": [
    "value = \"1948-04-30\"\n",
    "#date = Dates.Date(value, date_format) # no need\n",
    "date = df[2,2] # second row, date\n",
    "typeof(date) # Julia auto-conversion of \"1948-04-30\" to Date"
   ]
  },
  {
   "cell_type": "code",
   "execution_count": 9,
   "metadata": {},
   "outputs": [
    {
     "data": {
      "text/plain": [
       "711247"
      ]
     },
     "execution_count": 9,
     "metadata": {},
     "output_type": "execute_result"
    }
   ],
   "source": [
    "rata_die = Dates.datetime2rata(date) # typeof(rate_die) = Int64"
   ]
  },
  {
   "cell_type": "code",
   "execution_count": 10,
   "metadata": {},
   "outputs": [
    {
     "data": {
      "text/plain": [
       "30"
      ]
     },
     "execution_count": 10,
     "metadata": {},
     "output_type": "execute_result"
    }
   ],
   "source": [
    "rata_die - day_one"
   ]
  },
  {
   "cell_type": "code",
   "execution_count": 11,
   "metadata": {},
   "outputs": [
    {
     "data": {
      "text/plain": [
       "30"
      ]
     },
     "execution_count": 11,
     "metadata": {},
     "output_type": "execute_result"
    }
   ],
   "source": [
    "function days_since_day_one(df, row, date_column) \n",
    "    date = df[row, date_column] # type Date\n",
    "    #date = Dates.Date(value, date_format) # no need\n",
    "    rata_die = Dates.datetime2rata(date) \n",
    "    rata_die = rata_die - day_one\n",
    "    return rata_die\n",
    "end\n",
    "\n",
    "# TEST the function\n",
    "days_since_day_one(df, 2, date_column) "
   ]
  },
  {
   "cell_type": "markdown",
   "metadata": {},
   "source": [
    "# Iterate thru each row and update rata die"
   ]
  },
  {
   "cell_type": "code",
   "execution_count": 12,
   "metadata": {},
   "outputs": [],
   "source": [
    "column_days = 1\n",
    "rows = size(df)[1] # first part of the returned tupple\n",
    "\n",
    "for row = 1:rows\n",
    "    days = days_since_day_one(df, row, date_column)\n",
    "    # println(days)\n",
    "    df[row, column_days] = days\n",
    "end"
   ]
  },
  {
   "cell_type": "code",
   "execution_count": 13,
   "metadata": {},
   "outputs": [
    {
     "data": {
      "text/html": [
       "<table class=\"data-frame\"><thead><tr><th></th><th>Day</th><th>Date</th><th>ISM Manufacturing</th><th>GDP Growth q/q % (Annualised)</th><th>S&amp;P 500</th><th>S&amp;P 500 y/y</th></tr><tr><th></th><th>Int64</th><th>Date</th><th>Float64?</th><th>Float64?</th><th>Float64?</th><th>String?</th></tr></thead><tbody><p>6 rows × 7 columns (omitted printing of 1 columns)</p><tr><th>1</th><td>0</td><td>1948-03-31</td><td>43.3</td><td>0.062</td><td><em>missing</em></td><td><em>missing</em></td></tr><tr><th>2</th><td>30</td><td>1948-04-30</td><td>45.4</td><td>0.062</td><td><em>missing</em></td><td><em>missing</em></td></tr><tr><th>3</th><td>61</td><td>1948-05-31</td><td>49.5</td><td>0.062</td><td><em>missing</em></td><td><em>missing</em></td></tr><tr><th>4</th><td>91</td><td>1948-06-30</td><td>53.0</td><td>0.068</td><td><em>missing</em></td><td><em>missing</em></td></tr><tr><th>5</th><td>122</td><td>1948-07-31</td><td>48.4</td><td>0.068</td><td><em>missing</em></td><td><em>missing</em></td></tr><tr><th>6</th><td>153</td><td>1948-08-31</td><td>45.1</td><td>0.068</td><td><em>missing</em></td><td><em>missing</em></td></tr></tbody></table>"
      ],
      "text/latex": [
       "\\begin{tabular}{r|ccccccc}\n",
       "\t& Day & Date & ISM Manufacturing & GDP Growth q/q \\% (Annualised) & S\\&P 500 & S\\&P 500 y/y & \\\\\n",
       "\t\\hline\n",
       "\t& Int64 & Date & Float64? & Float64? & Float64? & String? & \\\\\n",
       "\t\\hline\n",
       "\t1 & 0 & 1948-03-31 & 43.3 & 0.062 & \\emph{missing} & \\emph{missing} & $\\dots$ \\\\\n",
       "\t2 & 30 & 1948-04-30 & 45.4 & 0.062 & \\emph{missing} & \\emph{missing} & $\\dots$ \\\\\n",
       "\t3 & 61 & 1948-05-31 & 49.5 & 0.062 & \\emph{missing} & \\emph{missing} & $\\dots$ \\\\\n",
       "\t4 & 91 & 1948-06-30 & 53.0 & 0.068 & \\emph{missing} & \\emph{missing} & $\\dots$ \\\\\n",
       "\t5 & 122 & 1948-07-31 & 48.4 & 0.068 & \\emph{missing} & \\emph{missing} & $\\dots$ \\\\\n",
       "\t6 & 153 & 1948-08-31 & 45.1 & 0.068 & \\emph{missing} & \\emph{missing} & $\\dots$ \\\\\n",
       "\\end{tabular}\n"
      ],
      "text/plain": [
       "6×7 DataFrame. Omitted printing of 3 columns\n",
       "│ Row │ Day   │ Date       │ ISM Manufacturing │ GDP Growth q/q % (Annualised) │\n",
       "│     │ \u001b[90mInt64\u001b[39m │ \u001b[90mDate\u001b[39m       │ \u001b[90mFloat64?\u001b[39m          │ \u001b[90mUnion{Missing, Float64}\u001b[39m       │\n",
       "├─────┼───────┼────────────┼───────────────────┼───────────────────────────────┤\n",
       "│ 1   │ 0     │ 1948-03-31 │ 43.3              │ 0.062                         │\n",
       "│ 2   │ 30    │ 1948-04-30 │ 45.4              │ 0.062                         │\n",
       "│ 3   │ 61    │ 1948-05-31 │ 49.5              │ 0.062                         │\n",
       "│ 4   │ 91    │ 1948-06-30 │ 53.0              │ 0.068                         │\n",
       "│ 5   │ 122   │ 1948-07-31 │ 48.4              │ 0.068                         │\n",
       "│ 6   │ 153   │ 1948-08-31 │ 45.1              │ 0.068                         │"
      ]
     },
     "execution_count": 13,
     "metadata": {},
     "output_type": "execute_result"
    }
   ],
   "source": [
    "first(df,6)"
   ]
  },
  {
   "cell_type": "code",
   "execution_count": 14,
   "metadata": {},
   "outputs": [
    {
     "data": {
      "text/html": [
       "<table class=\"data-frame\"><thead><tr><th></th><th>Day</th><th>Date</th><th>ISM Manufacturing</th><th>GDP Growth q/q % (Annualised)</th><th>S&amp;P 500</th><th>S&amp;P 500 y/y</th></tr><tr><th></th><th>Int64</th><th>Date</th><th>Float64?</th><th>Float64?</th><th>Float64?</th><th>String?</th></tr></thead><tbody><p>20 rows × 7 columns (omitted printing of 1 columns)</p><tr><th>1</th><td>25963</td><td>2019-05-01</td><td>51.6</td><td><em>missing</em></td><td>2941.76</td><td>8.22%</td></tr><tr><th>2</th><td>25993</td><td>2019-05-31</td><td><em>missing</em></td><td><em>missing</em></td><td><em>missing</em></td><td><em>missing</em></td></tr><tr><th>3</th><td>26023</td><td>2019-06-30</td><td><em>missing</em></td><td>0.02</td><td><em>missing</em></td><td><em>missing</em></td></tr><tr><th>4</th><td>26024</td><td>2019-07-01</td><td>51.3</td><td><em>missing</em></td><td>2980.38</td><td>5.83%</td></tr><tr><th>5</th><td>26054</td><td>2019-07-31</td><td><em>missing</em></td><td><em>missing</em></td><td><em>missing</em></td><td><em>missing</em></td></tr><tr><th>6</th><td>26055</td><td>2019-08-01</td><td>48.8</td><td><em>missing</em></td><td>2926.46</td><td>0.86%</td></tr><tr><th>7</th><td>26085</td><td>2019-08-31</td><td><em>missing</em></td><td><em>missing</em></td><td><em>missing</em></td><td><em>missing</em></td></tr><tr><th>8</th><td>26086</td><td>2019-09-01</td><td>48.2</td><td><em>missing</em></td><td>2976.74</td><td>2.15%</td></tr><tr><th>9</th><td>26115</td><td>2019-09-30</td><td><em>missing</em></td><td>0.021</td><td><em>missing</em></td><td><em>missing</em></td></tr><tr><th>10</th><td>26116</td><td>2019-10-01</td><td>48.5</td><td><em>missing</em></td><td>3037.56</td><td>12.02%</td></tr><tr><th>11</th><td>26146</td><td>2019-10-31</td><td><em>missing</em></td><td><em>missing</em></td><td><em>missing</em></td><td><em>missing</em></td></tr><tr><th>12</th><td>26147</td><td>2019-11-01</td><td>48.1</td><td><em>missing</em></td><td>3140.98</td><td>13.80%</td></tr><tr><th>13</th><td>26176</td><td>2019-11-30</td><td><em>missing</em></td><td><em>missing</em></td><td><em>missing</em></td><td><em>missing</em></td></tr><tr><th>14</th><td>26177</td><td>2019-12-01</td><td>47.8</td><td><em>missing</em></td><td>3230.78</td><td>28.88%</td></tr><tr><th>15</th><td>26207</td><td>2019-12-31</td><td><em>missing</em></td><td>0.021</td><td><em>missing</em></td><td><em>missing</em></td></tr><tr><th>16</th><td>26208</td><td>2020-01-01</td><td>50.9</td><td><em>missing</em></td><td>3225.52</td><td>19.28%</td></tr><tr><th>17</th><td>26238</td><td>2020-01-31</td><td><em>missing</em></td><td><em>missing</em></td><td><em>missing</em></td><td><em>missing</em></td></tr><tr><th>18</th><td>26239</td><td>2020-02-01</td><td>50.1</td><td><em>missing</em></td><td>2954.22</td><td>6.10%</td></tr><tr><th>19</th><td>26267</td><td>2020-02-29</td><td>50.1</td><td><em>missing</em></td><td><em>missing</em></td><td><em>missing</em></td></tr><tr><th>20</th><td>26298</td><td>2020-03-31</td><td>49.1</td><td><em>missing</em></td><td><em>missing</em></td><td><em>missing</em></td></tr></tbody></table>"
      ],
      "text/latex": [
       "\\begin{tabular}{r|ccccccc}\n",
       "\t& Day & Date & ISM Manufacturing & GDP Growth q/q \\% (Annualised) & S\\&P 500 & S\\&P 500 y/y & \\\\\n",
       "\t\\hline\n",
       "\t& Int64 & Date & Float64? & Float64? & Float64? & String? & \\\\\n",
       "\t\\hline\n",
       "\t1 & 25963 & 2019-05-01 & 51.6 & \\emph{missing} & 2941.76 & 8.22\\% & $\\dots$ \\\\\n",
       "\t2 & 25993 & 2019-05-31 & \\emph{missing} & \\emph{missing} & \\emph{missing} & \\emph{missing} & $\\dots$ \\\\\n",
       "\t3 & 26023 & 2019-06-30 & \\emph{missing} & 0.02 & \\emph{missing} & \\emph{missing} & $\\dots$ \\\\\n",
       "\t4 & 26024 & 2019-07-01 & 51.3 & \\emph{missing} & 2980.38 & 5.83\\% & $\\dots$ \\\\\n",
       "\t5 & 26054 & 2019-07-31 & \\emph{missing} & \\emph{missing} & \\emph{missing} & \\emph{missing} & $\\dots$ \\\\\n",
       "\t6 & 26055 & 2019-08-01 & 48.8 & \\emph{missing} & 2926.46 & 0.86\\% & $\\dots$ \\\\\n",
       "\t7 & 26085 & 2019-08-31 & \\emph{missing} & \\emph{missing} & \\emph{missing} & \\emph{missing} & $\\dots$ \\\\\n",
       "\t8 & 26086 & 2019-09-01 & 48.2 & \\emph{missing} & 2976.74 & 2.15\\% & $\\dots$ \\\\\n",
       "\t9 & 26115 & 2019-09-30 & \\emph{missing} & 0.021 & \\emph{missing} & \\emph{missing} & $\\dots$ \\\\\n",
       "\t10 & 26116 & 2019-10-01 & 48.5 & \\emph{missing} & 3037.56 & 12.02\\% & $\\dots$ \\\\\n",
       "\t11 & 26146 & 2019-10-31 & \\emph{missing} & \\emph{missing} & \\emph{missing} & \\emph{missing} & $\\dots$ \\\\\n",
       "\t12 & 26147 & 2019-11-01 & 48.1 & \\emph{missing} & 3140.98 & 13.80\\% & $\\dots$ \\\\\n",
       "\t13 & 26176 & 2019-11-30 & \\emph{missing} & \\emph{missing} & \\emph{missing} & \\emph{missing} & $\\dots$ \\\\\n",
       "\t14 & 26177 & 2019-12-01 & 47.8 & \\emph{missing} & 3230.78 & 28.88\\% & $\\dots$ \\\\\n",
       "\t15 & 26207 & 2019-12-31 & \\emph{missing} & 0.021 & \\emph{missing} & \\emph{missing} & $\\dots$ \\\\\n",
       "\t16 & 26208 & 2020-01-01 & 50.9 & \\emph{missing} & 3225.52 & 19.28\\% & $\\dots$ \\\\\n",
       "\t17 & 26238 & 2020-01-31 & \\emph{missing} & \\emph{missing} & \\emph{missing} & \\emph{missing} & $\\dots$ \\\\\n",
       "\t18 & 26239 & 2020-02-01 & 50.1 & \\emph{missing} & 2954.22 & 6.10\\% & $\\dots$ \\\\\n",
       "\t19 & 26267 & 2020-02-29 & 50.1 & \\emph{missing} & \\emph{missing} & \\emph{missing} & $\\dots$ \\\\\n",
       "\t20 & 26298 & 2020-03-31 & 49.1 & \\emph{missing} & \\emph{missing} & \\emph{missing} & $\\dots$ \\\\\n",
       "\\end{tabular}\n"
      ],
      "text/plain": [
       "20×7 DataFrame. Omitted printing of 3 columns\n",
       "│ Row │ Day   │ Date       │ ISM Manufacturing │ GDP Growth q/q % (Annualised) │\n",
       "│     │ \u001b[90mInt64\u001b[39m │ \u001b[90mDate\u001b[39m       │ \u001b[90mFloat64?\u001b[39m          │ \u001b[90mUnion{Missing, Float64}\u001b[39m       │\n",
       "├─────┼───────┼────────────┼───────────────────┼───────────────────────────────┤\n",
       "│ 1   │ 25963 │ 2019-05-01 │ 51.6              │ \u001b[90mmissing\u001b[39m                       │\n",
       "│ 2   │ 25993 │ 2019-05-31 │ \u001b[90mmissing\u001b[39m           │ \u001b[90mmissing\u001b[39m                       │\n",
       "│ 3   │ 26023 │ 2019-06-30 │ \u001b[90mmissing\u001b[39m           │ 0.02                          │\n",
       "│ 4   │ 26024 │ 2019-07-01 │ 51.3              │ \u001b[90mmissing\u001b[39m                       │\n",
       "│ 5   │ 26054 │ 2019-07-31 │ \u001b[90mmissing\u001b[39m           │ \u001b[90mmissing\u001b[39m                       │\n",
       "│ 6   │ 26055 │ 2019-08-01 │ 48.8              │ \u001b[90mmissing\u001b[39m                       │\n",
       "│ 7   │ 26085 │ 2019-08-31 │ \u001b[90mmissing\u001b[39m           │ \u001b[90mmissing\u001b[39m                       │\n",
       "│ 8   │ 26086 │ 2019-09-01 │ 48.2              │ \u001b[90mmissing\u001b[39m                       │\n",
       "│ 9   │ 26115 │ 2019-09-30 │ \u001b[90mmissing\u001b[39m           │ 0.021                         │\n",
       "│ 10  │ 26116 │ 2019-10-01 │ 48.5              │ \u001b[90mmissing\u001b[39m                       │\n",
       "│ 11  │ 26146 │ 2019-10-31 │ \u001b[90mmissing\u001b[39m           │ \u001b[90mmissing\u001b[39m                       │\n",
       "│ 12  │ 26147 │ 2019-11-01 │ 48.1              │ \u001b[90mmissing\u001b[39m                       │\n",
       "│ 13  │ 26176 │ 2019-11-30 │ \u001b[90mmissing\u001b[39m           │ \u001b[90mmissing\u001b[39m                       │\n",
       "│ 14  │ 26177 │ 2019-12-01 │ 47.8              │ \u001b[90mmissing\u001b[39m                       │\n",
       "│ 15  │ 26207 │ 2019-12-31 │ \u001b[90mmissing\u001b[39m           │ 0.021                         │\n",
       "│ 16  │ 26208 │ 2020-01-01 │ 50.9              │ \u001b[90mmissing\u001b[39m                       │\n",
       "│ 17  │ 26238 │ 2020-01-31 │ \u001b[90mmissing\u001b[39m           │ \u001b[90mmissing\u001b[39m                       │\n",
       "│ 18  │ 26239 │ 2020-02-01 │ 50.1              │ \u001b[90mmissing\u001b[39m                       │\n",
       "│ 19  │ 26267 │ 2020-02-29 │ 50.1              │ \u001b[90mmissing\u001b[39m                       │\n",
       "│ 20  │ 26298 │ 2020-03-31 │ 49.1              │ \u001b[90mmissing\u001b[39m                       │"
      ]
     },
     "execution_count": 14,
     "metadata": {},
     "output_type": "execute_result"
    }
   ],
   "source": [
    "last(df,20)"
   ]
  },
  {
   "cell_type": "markdown",
   "metadata": {},
   "source": [
    "[back to top](#Table-of-Contents)\n",
    "<hr/>\n",
    "\n",
    "# Save DataFrame to CSV file"
   ]
  },
  {
   "cell_type": "code",
   "execution_count": 15,
   "metadata": {},
   "outputs": [
    {
     "data": {
      "text/plain": [
       "\"market_indicators.csv\""
      ]
     },
     "execution_count": 15,
     "metadata": {},
     "output_type": "execute_result"
    }
   ],
   "source": [
    "CSV.write(\"market_indicators.csv\", df, delim=',', header=true)"
   ]
  },
  {
   "cell_type": "code",
   "execution_count": null,
   "metadata": {},
   "outputs": [],
   "source": []
  }
 ],
 "metadata": {
  "kernelspec": {
   "display_name": "Julia 1.5.0",
   "language": "julia",
   "name": "julia-1.5"
  },
  "language_info": {
   "file_extension": ".jl",
   "mimetype": "application/julia",
   "name": "julia",
   "version": "1.5.0"
  },
  "toc": {
   "base_numbering": 1,
   "nav_menu": {},
   "number_sections": true,
   "sideBar": true,
   "skip_h1_title": false,
   "title_cell": "Table of Contents",
   "title_sidebar": "Contents",
   "toc_cell": false,
   "toc_position": {},
   "toc_section_display": true,
   "toc_window_display": false
  }
 },
 "nbformat": 4,
 "nbformat_minor": 4
}
