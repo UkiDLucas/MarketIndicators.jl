{
 "cells": [
  {
   "cell_type": "markdown",
   "metadata": {},
   "source": [
    "# Fetch Dataset"
   ]
  },
  {
   "cell_type": "code",
   "execution_count": 12,
   "metadata": {},
   "outputs": [
    {
     "name": "stdout",
     "output_type": "stream",
     "text": [
      "\n",
      "        usage: include(\"available_datasets.jl\") \n",
      "        dataset_file_name = available_datasets()[5,2] # row 5, column 2 = DJIA\n",
      "        df = fetch_dataset(dataset_file_name)\n",
      "    \n"
     ]
    }
   ],
   "source": [
    "using CSV, DataFrames\n",
    "\n",
    "function fetch_dataset(file_name=\"TPLGX\", date_format=\"yyyy.mm.dd\", dir=\"D:\\\\Drive\\\\market_indicators\\\\original\\\\\")\n",
    "\n",
    "    df = CSV.read(dir * file_name, dateformat=date_format)\n",
    "    return df\n",
    "end\n",
    "\n",
    "println(\"\n",
    "        usage: include(\\\"available_datasets.jl\\\") \n",
    "        dataset_file_name = available_datasets()[5,2] # row 5, column 2 = DJIA\n",
    "        df = fetch_dataset(dataset_file_name)\n",
    "    \")"
   ]
  },
  {
   "cell_type": "code",
   "execution_count": null,
   "metadata": {},
   "outputs": [],
   "source": []
  }
 ],
 "metadata": {
  "kernelspec": {
   "display_name": "Julia 1.5.0",
   "language": "julia",
   "name": "julia-1.5"
  },
  "language_info": {
   "file_extension": ".jl",
   "mimetype": "application/julia",
   "name": "julia",
   "version": "1.5.0"
  },
  "toc": {
   "base_numbering": 1,
   "nav_menu": {},
   "number_sections": false,
   "sideBar": true,
   "skip_h1_title": false,
   "title_cell": "Table of Contents",
   "title_sidebar": "Contents",
   "toc_cell": false,
   "toc_position": {},
   "toc_section_display": true,
   "toc_window_display": true
  }
 },
 "nbformat": 4,
 "nbformat_minor": 4
}
