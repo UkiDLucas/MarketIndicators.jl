{
 "cells": [
  {
   "cell_type": "markdown",
   "metadata": {},
   "source": [
    "# T. Rowe Price Institutional Large Cap Core Growth Fund (TPLGX)"
   ]
  },
  {
   "cell_type": "markdown",
   "metadata": {
    "toc": true
   },
   "source": [
    "<h1>Table of Contents<span class=\"tocSkip\"></span></h1>\n",
    "<div class=\"toc\"><ul class=\"toc-item\"><li><span><a href=\"#T.-Rowe-Price-Institutional-Large-Cap-Core-Growth-Fund-(TPLGX)\" data-toc-modified-id=\"T.-Rowe-Price-Institutional-Large-Cap-Core-Growth-Fund-(TPLGX)-1\">T. Rowe Price Institutional Large Cap Core Growth Fund (TPLGX)</a></span></li><li><span><a href=\"#Set-Parameters\" data-toc-modified-id=\"Set-Parameters-2\">Set Parameters</a></span></li><li><span><a href=\"#Libraries-Used\" data-toc-modified-id=\"Libraries-Used-3\">Libraries Used</a></span></li><li><span><a href=\"#Read-Data\" data-toc-modified-id=\"Read-Data-4\">Read Data</a></span></li></ul></div>"
   ]
  },
  {
   "cell_type": "markdown",
   "metadata": {},
   "source": [
    "# Set Parameters"
   ]
  },
  {
   "cell_type": "code",
   "execution_count": 16,
   "metadata": {},
   "outputs": [
    {
     "data": {
      "text/plain": [
       "\"TPLGX.csv\""
      ]
     },
     "execution_count": 16,
     "metadata": {},
     "output_type": "execute_result"
    }
   ],
   "source": [
    "# Directory where I store original data (copied form the Web, etc.)\n",
    "original_data_directory = \"D:\\\\Drive\\\\market_indicators\\\\original\\\\\"\n",
    "\n",
    "# Directory where we will save data we create\n",
    "derived_data_directory = \"D:\\\\Drive\\\\market_indicators\\\\original\\\\\"\n",
    "\n",
    "# The file we analyze in this notebook\n",
    "file_name = \"TPLGX.csv\""
   ]
  },
  {
   "cell_type": "markdown",
   "metadata": {},
   "source": [
    "# Libraries Used"
   ]
  },
  {
   "cell_type": "code",
   "execution_count": 17,
   "metadata": {},
   "outputs": [],
   "source": [
    "using DataFrames, CSV, Dates, Plots"
   ]
  },
  {
   "cell_type": "markdown",
   "metadata": {},
   "source": [
    "# Read Data"
   ]
  },
  {
   "cell_type": "code",
   "execution_count": 19,
   "metadata": {},
   "outputs": [
    {
     "data": {
      "text/plain": [
       "7-element Array{String,1}:\n",
       " \"Date\"\n",
       " \"Open\"\n",
       " \"High\"\n",
       " \"Low\"\n",
       " \"Close\"\n",
       " \"Adj Close\"\n",
       " \"Volume\""
      ]
     },
     "execution_count": 19,
     "metadata": {},
     "output_type": "execute_result"
    }
   ],
   "source": [
    "df = CSV.read(original_data_directory*file_name)\n",
    "names(df)"
   ]
  },
  {
   "cell_type": "code",
   "execution_count": 22,
   "metadata": {},
   "outputs": [
    {
     "name": "stdout",
     "output_type": "stream",
     "text": [
      "6×4 DataFrame\n",
      "│ Row │ Date       │ High      │ Low       │ Adj Close │\n",
      "│     │ \u001b[90mDate\u001b[39m       │ \u001b[90mString\u001b[39m    │ \u001b[90mString\u001b[39m    │ \u001b[90mString\u001b[39m    │\n",
      "├─────┼────────────┼───────────┼───────────┼───────────┤\n",
      "│ 1   │ 2020-09-10 │ 59.340000 │ 59.340000 │ 59.340000 │\n",
      "│ 2   │ 2020-09-11 │ 58.939999 │ 58.939999 │ 58.939999 │\n",
      "│ 3   │ 2020-09-14 │ 59.680000 │ 59.680000 │ 59.680000 │\n",
      "│ 4   │ 2020-09-15 │ 60.349998 │ 60.349998 │ 60.349998 │\n",
      "│ 5   │ 2020-09-16 │ 59.610001 │ 59.610001 │ 59.610001 │\n",
      "│ 6   │ 2020-09-17 │ null      │ null      │ null      │"
     ]
    }
   ],
   "source": [
    "\n",
    "original_date   = 1  #\n",
    "original_actual   = 2  #\n",
    "original_previous_value = 4  #\n",
    "\n",
    "# Show the values of the column with the original data\n",
    "show(df[end-5:end, # row to row\n",
    "        [1, 3,4,6]] # column to column\n",
    "    , allcols=true) # do NOT limit number of columns if more than 6"
   ]
  },
  {
   "cell_type": "code",
   "execution_count": null,
   "metadata": {},
   "outputs": [],
   "source": []
  }
 ],
 "metadata": {
  "kernelspec": {
   "display_name": "Julia 1.5.0",
   "language": "julia",
   "name": "julia-1.5"
  },
  "language_info": {
   "file_extension": ".jl",
   "mimetype": "application/julia",
   "name": "julia",
   "version": "1.5.0"
  },
  "toc": {
   "base_numbering": 1,
   "nav_menu": {},
   "number_sections": false,
   "sideBar": true,
   "skip_h1_title": false,
   "title_cell": "Table of Contents",
   "title_sidebar": "Contents",
   "toc_cell": true,
   "toc_position": {},
   "toc_section_display": true,
   "toc_window_display": true
  }
 },
 "nbformat": 4,
 "nbformat_minor": 4
}
