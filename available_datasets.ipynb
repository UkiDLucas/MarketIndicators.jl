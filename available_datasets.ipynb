{
 "cells": [
  {
   "cell_type": "markdown",
   "metadata": {},
   "source": [
    "# Available Datasets\n"
   ]
  },
  {
   "cell_type": "code",
   "execution_count": 11,
   "metadata": {},
   "outputs": [
    {
     "name": "stdout",
     "output_type": "stream",
     "text": [
      "usage: df = available_datasets() # returns a DataFrame with all available data sets (name, file_path)\n",
      "usage: dataset_file_name = available_datasets()[5,2] # 5th dataset: DJIA, 2nd column: file-name\n"
     ]
    }
   ],
   "source": [
    "using CSV, DataFrames\n",
    "\n",
    "function available_datasets()\n",
    "    file_name=\"_DataSets.csv\"\n",
    "    date_format=\"yyyy-mm-dd\"\n",
    "    df = CSV.read( file_name, dateformat=date_format)\n",
    "\n",
    "    return df[:,[1,2]]\n",
    "end\n",
    "\n",
    "println(\"usage: df = available_datasets() # returns a DataFrame with all available data sets (name, file_path)\")\n",
    "println(\"usage: dataset_file_name = available_datasets()[5,2] # 5th dataset: DJIA, 2nd column: file-name\")"
   ]
  },
  {
   "cell_type": "code",
   "execution_count": null,
   "metadata": {},
   "outputs": [],
   "source": []
  }
 ],
 "metadata": {
  "kernelspec": {
   "display_name": "Julia 1.5.0",
   "language": "julia",
   "name": "julia-1.5"
  },
  "language_info": {
   "file_extension": ".jl",
   "mimetype": "application/julia",
   "name": "julia",
   "version": "1.5.0"
  },
  "toc": {
   "base_numbering": 1,
   "nav_menu": {},
   "number_sections": false,
   "sideBar": true,
   "skip_h1_title": false,
   "title_cell": "Table of Contents",
   "title_sidebar": "Contents",
   "toc_cell": false,
   "toc_position": {},
   "toc_section_display": true,
   "toc_window_display": true
  }
 },
 "nbformat": 4,
 "nbformat_minor": 4
}
