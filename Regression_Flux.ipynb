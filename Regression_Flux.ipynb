{
 "cells": [
  {
   "cell_type": "markdown",
   "metadata": {},
   "source": [
    "# Market prediction using Flux.jl"
   ]
  },
  {
   "cell_type": "markdown",
   "metadata": {
    "toc": true
   },
   "source": [
    "<h1>Table of Contents<span class=\"tocSkip\"></span></h1>\n",
    "<div class=\"toc\"><ul class=\"toc-item\"><li><span><a href=\"#Market-prediction-using-Flux.jl\" data-toc-modified-id=\"Market-prediction-using-Flux.jl-1\"><span class=\"toc-item-num\">1&nbsp;&nbsp;</span>Market prediction using Flux.jl</a></span><ul class=\"toc-item\"><li><span><a href=\"#Libraries-used-in-this-notebook\" data-toc-modified-id=\"Libraries-used-in-this-notebook-1.1\"><span class=\"toc-item-num\">1.1&nbsp;&nbsp;</span>Libraries used in this notebook</a></span></li></ul></li><li><span><a href=\"#Define-Hyperparameters\" data-toc-modified-id=\"Define-Hyperparameters-2\"><span class=\"toc-item-num\">2&nbsp;&nbsp;</span>Define Hyperparameters</a></span></li><li><span><a href=\"#Load--Data\" data-toc-modified-id=\"Load--Data-3\"><span class=\"toc-item-num\">3&nbsp;&nbsp;</span>Load  Data</a></span><ul class=\"toc-item\"><li><span><a href=\"#ISM-Manufacturing-Employment\" data-toc-modified-id=\"ISM-Manufacturing-Employment-3.1\"><span class=\"toc-item-num\">3.1&nbsp;&nbsp;</span>ISM Manufacturing Employment</a></span></li><li><span><a href=\"#Markit---Manufacturing-PMI\" data-toc-modified-id=\"Markit---Manufacturing-PMI-3.2\"><span class=\"toc-item-num\">3.2&nbsp;&nbsp;</span>Markit - Manufacturing PMI</a></span></li></ul></li><li><span><a href=\"#Visualize-the-Data\" data-toc-modified-id=\"Visualize-the-Data-4\"><span class=\"toc-item-num\">4&nbsp;&nbsp;</span>Visualize the Data</a></span><ul class=\"toc-item\"><li><span><a href=\"#Prepare-x-axist-data-(time-periods)\" data-toc-modified-id=\"Prepare-x-axist-data-(time-periods)-4.1\"><span class=\"toc-item-num\">4.1&nbsp;&nbsp;</span>Prepare x-axist data (time periods)</a></span></li><li><span><a href=\"#Plotting-Data\" data-toc-modified-id=\"Plotting-Data-4.2\"><span class=\"toc-item-num\">4.2&nbsp;&nbsp;</span>Plotting Data</a></span></li></ul></li><li><span><a href=\"#Extract-Data\" data-toc-modified-id=\"Extract-Data-5\"><span class=\"toc-item-num\">5&nbsp;&nbsp;</span>Extract Data</a></span><ul class=\"toc-item\"><li><span><a href=\"#Extract-Independent-Variables-(i.e.-features)\" data-toc-modified-id=\"Extract-Independent-Variables-(i.e.-features)-5.1\"><span class=\"toc-item-num\">5.1&nbsp;&nbsp;</span>Extract Independent Variables (i.e. features)</a></span></li><li><span><a href=\"#Extract-Dependent-Variable-(i.e.-price)\" data-toc-modified-id=\"Extract-Dependent-Variable-(i.e.-price)-5.2\"><span class=\"toc-item-num\">5.2&nbsp;&nbsp;</span>Extract Dependent Variable (i.e. price)</a></span></li></ul></li><li><span><a href=\"#Normalize-the-data\" data-toc-modified-id=\"Normalize-the-data-6\"><span class=\"toc-item-num\">6&nbsp;&nbsp;</span>Normalize the data</a></span><ul class=\"toc-item\"><li><span><a href=\"#Show-mean()-values\" data-toc-modified-id=\"Show-mean()-values-6.1\"><span class=\"toc-item-num\">6.1&nbsp;&nbsp;</span>Show mean() values</a></span></li><li><span><a href=\"#Show-std()-values\" data-toc-modified-id=\"Show-std()-values-6.2\"><span class=\"toc-item-num\">6.2&nbsp;&nbsp;</span>Show std() values</a></span></li><li><span><a href=\"#Normalize-the-independent-variables\" data-toc-modified-id=\"Normalize-the-independent-variables-6.3\"><span class=\"toc-item-num\">6.3&nbsp;&nbsp;</span>Normalize the independent variables</a></span></li></ul></li><li><span><a href=\"#Mean-Squared-Error-(MSE)\" data-toc-modified-id=\"Mean-Squared-Error-(MSE)-7\"><span class=\"toc-item-num\">7&nbsp;&nbsp;</span>Mean Squared Error (MSE)</a></span></li></ul></div>"
   ]
  },
  {
   "cell_type": "markdown",
   "metadata": {},
   "source": [
    "## Libraries used in this notebook\n",
    "\n",
    "Uncomment the lines below if you are missing given libraries, or you want to update to the newest version.\n",
    "\n",
    "**Warning:** the updates and required pre-compiling will take a lot of time time."
   ]
  },
  {
   "cell_type": "code",
   "execution_count": 1,
   "metadata": {},
   "outputs": [],
   "source": [
    "# import Pkg; Pkg.add(\"Flux\")\n",
    "using Flux\n",
    "\n",
    "# import Pkg; Pkg.add(\"DelimitedFiles\")\n",
    "using DelimitedFiles\n",
    "\n",
    "# import Pkg; Pkg.add(\"Statistics\")\n",
    "using Statistics\n",
    "\n",
    "# import Pkg; Pkg.add(\"Flux\")\n",
    "using Flux.Optimise: update!\n",
    "\n",
    "# import Pkg; Pkg.add(\"Parameters\")\n",
    "#using Parameters #: @with_kw\n",
    "\n",
    "# import Pkg; Pkg.add(\"Plots\")\n",
    "using Plots\n",
    "\n",
    "# import Pkg; Pkg.add(\"DataFrames\")\n",
    "using DataFrames\n",
    "\n",
    "# import Pkg; Pkg.add(\"CSV\")\n",
    "using CSV\n",
    "\n",
    "# import Pkg; Pkg.add(\"Dates\")\n",
    "using Dates"
   ]
  },
  {
   "cell_type": "code",
   "execution_count": 12,
   "metadata": {},
   "outputs": [
    {
     "name": "stdout",
     "output_type": "stream",
     "text": [
      "Functions available:\n",
      "df = fetch_data(file_path, date_format=\"yyyy-mm-dd\" )\n"
     ]
    },
    {
     "name": "stderr",
     "output_type": "stream",
     "text": [
      "┌ Warning: `CSV.read(input; kw...)` is deprecated in favor of `using DataFrames; CSV.read(input, DataFrame; kw...)\n",
      "│   caller = ip:0x0\n",
      "└ @ Core :-1\n"
     ]
    },
    {
     "data": {
      "text/html": [
       "<table class=\"data-frame\"><thead><tr><th></th><th>Date</th><th>ActualValue</th><th>ForecastValue</th><th>PreviousValue</th></tr><tr><th></th><th>Date</th><th>Float64</th><th>Float64?</th><th>Float64?</th></tr></thead><tbody><p>82 rows × 4 columns</p><tr><th>1</th><td>2020-08-03</td><td>44.3</td><td>34.4</td><td>42.1</td></tr><tr><th>2</th><td>2020-07-01</td><td>42.1</td><td>38.1</td><td>32.1</td></tr><tr><th>3</th><td>2020-06-01</td><td>32.1</td><td>34.1</td><td>27.5</td></tr><tr><th>4</th><td>2020-05-01</td><td>27.5</td><td>44.8</td><td>43.8</td></tr><tr><th>5</th><td>2020-04-01</td><td>43.8</td><td>45.4</td><td>46.9</td></tr><tr><th>6</th><td>2020-03-02</td><td>46.9</td><td>43.9</td><td>46.6</td></tr><tr><th>7</th><td>2020-02-03</td><td>46.6</td><td>43.3</td><td>45.2</td></tr><tr><th>8</th><td>2020-01-03</td><td>45.1</td><td>53.5</td><td>46.6</td></tr><tr><th>9</th><td>2019-12-02</td><td>46.6</td><td>54.3</td><td>47.7</td></tr><tr><th>10</th><td>2019-11-01</td><td>47.7</td><td>54.7</td><td>46.3</td></tr><tr><th>11</th><td>2019-10-01</td><td>46.3</td><td>55.3</td><td>47.4</td></tr><tr><th>12</th><td>2019-09-03</td><td>47.4</td><td>56.0</td><td>51.7</td></tr><tr><th>13</th><td>2019-08-01</td><td>51.7</td><td>53.7</td><td>54.5</td></tr><tr><th>14</th><td>2019-07-01</td><td>54.5</td><td>54.1</td><td>53.7</td></tr><tr><th>15</th><td>2019-06-03</td><td>53.7</td><td>52.8</td><td>52.4</td></tr><tr><th>16</th><td>2019-05-01</td><td>52.4</td><td>56.7</td><td>57.5</td></tr><tr><th>17</th><td>2019-04-01</td><td>57.5</td><td>57.3</td><td>52.3</td></tr><tr><th>18</th><td>2019-03-01</td><td>52.3</td><td>57.8</td><td>55.5</td></tr><tr><th>19</th><td>2019-02-01</td><td>55.5</td><td>57.5</td><td>56.0</td></tr><tr><th>20</th><td>2019-01-03</td><td>56.2</td><td>58.1</td><td>58.4</td></tr><tr><th>21</th><td>2018-12-03</td><td>58.4</td><td>57.2</td><td>56.8</td></tr><tr><th>22</th><td>2018-11-01</td><td>56.8</td><td>56.9</td><td>58.8</td></tr><tr><th>23</th><td>2018-10-01</td><td>58.8</td><td>56.9</td><td>58.5</td></tr><tr><th>24</th><td>2018-09-04</td><td>58.5</td><td>56.3</td><td>56.5</td></tr><tr><th>25</th><td>2018-08-01</td><td>56.5</td><td>56.2</td><td>56.0</td></tr><tr><th>26</th><td>2018-07-02</td><td>56.0</td><td>55.3</td><td>56.3</td></tr><tr><th>27</th><td>2018-06-01</td><td>56.3</td><td>55.8</td><td>54.2</td></tr><tr><th>28</th><td>2018-05-01</td><td>54.2</td><td>58.6</td><td>57.3</td></tr><tr><th>29</th><td>2018-04-02</td><td>57.3</td><td>57.2</td><td>59.7</td></tr><tr><th>30</th><td>2018-03-01</td><td>59.7</td><td>55.9</td><td>54.2</td></tr><tr><th>&vellip;</th><td>&vellip;</td><td>&vellip;</td><td>&vellip;</td><td>&vellip;</td></tr></tbody></table>"
      ],
      "text/latex": [
       "\\begin{tabular}{r|cccc}\n",
       "\t& Date & ActualValue & ForecastValue & PreviousValue\\\\\n",
       "\t\\hline\n",
       "\t& Date & Float64 & Float64? & Float64?\\\\\n",
       "\t\\hline\n",
       "\t1 & 2020-08-03 & 44.3 & 34.4 & 42.1 \\\\\n",
       "\t2 & 2020-07-01 & 42.1 & 38.1 & 32.1 \\\\\n",
       "\t3 & 2020-06-01 & 32.1 & 34.1 & 27.5 \\\\\n",
       "\t4 & 2020-05-01 & 27.5 & 44.8 & 43.8 \\\\\n",
       "\t5 & 2020-04-01 & 43.8 & 45.4 & 46.9 \\\\\n",
       "\t6 & 2020-03-02 & 46.9 & 43.9 & 46.6 \\\\\n",
       "\t7 & 2020-02-03 & 46.6 & 43.3 & 45.2 \\\\\n",
       "\t8 & 2020-01-03 & 45.1 & 53.5 & 46.6 \\\\\n",
       "\t9 & 2019-12-02 & 46.6 & 54.3 & 47.7 \\\\\n",
       "\t10 & 2019-11-01 & 47.7 & 54.7 & 46.3 \\\\\n",
       "\t11 & 2019-10-01 & 46.3 & 55.3 & 47.4 \\\\\n",
       "\t12 & 2019-09-03 & 47.4 & 56.0 & 51.7 \\\\\n",
       "\t13 & 2019-08-01 & 51.7 & 53.7 & 54.5 \\\\\n",
       "\t14 & 2019-07-01 & 54.5 & 54.1 & 53.7 \\\\\n",
       "\t15 & 2019-06-03 & 53.7 & 52.8 & 52.4 \\\\\n",
       "\t16 & 2019-05-01 & 52.4 & 56.7 & 57.5 \\\\\n",
       "\t17 & 2019-04-01 & 57.5 & 57.3 & 52.3 \\\\\n",
       "\t18 & 2019-03-01 & 52.3 & 57.8 & 55.5 \\\\\n",
       "\t19 & 2019-02-01 & 55.5 & 57.5 & 56.0 \\\\\n",
       "\t20 & 2019-01-03 & 56.2 & 58.1 & 58.4 \\\\\n",
       "\t21 & 2018-12-03 & 58.4 & 57.2 & 56.8 \\\\\n",
       "\t22 & 2018-11-01 & 56.8 & 56.9 & 58.8 \\\\\n",
       "\t23 & 2018-10-01 & 58.8 & 56.9 & 58.5 \\\\\n",
       "\t24 & 2018-09-04 & 58.5 & 56.3 & 56.5 \\\\\n",
       "\t25 & 2018-08-01 & 56.5 & 56.2 & 56.0 \\\\\n",
       "\t26 & 2018-07-02 & 56.0 & 55.3 & 56.3 \\\\\n",
       "\t27 & 2018-06-01 & 56.3 & 55.8 & 54.2 \\\\\n",
       "\t28 & 2018-05-01 & 54.2 & 58.6 & 57.3 \\\\\n",
       "\t29 & 2018-04-02 & 57.3 & 57.2 & 59.7 \\\\\n",
       "\t30 & 2018-03-01 & 59.7 & 55.9 & 54.2 \\\\\n",
       "\t$\\dots$ & $\\dots$ & $\\dots$ & $\\dots$ & $\\dots$ \\\\\n",
       "\\end{tabular}\n"
      ],
      "text/plain": [
       "82×4 DataFrame\n",
       "│ Row │ Date       │ ActualValue │ ForecastValue │ PreviousValue │\n",
       "│     │ \u001b[90mDate\u001b[39m       │ \u001b[90mFloat64\u001b[39m     │ \u001b[90mFloat64?\u001b[39m      │ \u001b[90mFloat64?\u001b[39m      │\n",
       "├─────┼────────────┼─────────────┼───────────────┼───────────────┤\n",
       "│ 1   │ 2020-08-03 │ 44.3        │ 34.4          │ 42.1          │\n",
       "│ 2   │ 2020-07-01 │ 42.1        │ 38.1          │ 32.1          │\n",
       "│ 3   │ 2020-06-01 │ 32.1        │ 34.1          │ 27.5          │\n",
       "│ 4   │ 2020-05-01 │ 27.5        │ 44.8          │ 43.8          │\n",
       "│ 5   │ 2020-04-01 │ 43.8        │ 45.4          │ 46.9          │\n",
       "│ 6   │ 2020-03-02 │ 46.9        │ 43.9          │ 46.6          │\n",
       "│ 7   │ 2020-02-03 │ 46.6        │ 43.3          │ 45.2          │\n",
       "│ 8   │ 2020-01-03 │ 45.1        │ 53.5          │ 46.6          │\n",
       "│ 9   │ 2019-12-02 │ 46.6        │ 54.3          │ 47.7          │\n",
       "│ 10  │ 2019-11-01 │ 47.7        │ 54.7          │ 46.3          │\n",
       "⋮\n",
       "│ 72  │ 2014-09-02 │ 58.1        │ \u001b[90mmissing\u001b[39m       │ 58.2          │\n",
       "│ 73  │ 2014-08-01 │ 58.2        │ \u001b[90mmissing\u001b[39m       │ 52.8          │\n",
       "│ 74  │ 2014-07-01 │ 52.8        │ \u001b[90mmissing\u001b[39m       │ 52.8          │\n",
       "│ 75  │ 2014-06-02 │ 52.8        │ \u001b[90mmissing\u001b[39m       │ 54.7          │\n",
       "│ 76  │ 2014-05-01 │ 54.7        │ \u001b[90mmissing\u001b[39m       │ 51.1          │\n",
       "│ 77  │ 2014-04-01 │ 51.1        │ \u001b[90mmissing\u001b[39m       │ 52.3          │\n",
       "│ 78  │ 2014-03-03 │ 52.3        │ \u001b[90mmissing\u001b[39m       │ 52.3          │\n",
       "│ 79  │ 2014-02-03 │ 52.3        │ \u001b[90mmissing\u001b[39m       │ 56.9          │\n",
       "│ 80  │ 2014-01-02 │ 56.9        │ \u001b[90mmissing\u001b[39m       │ 56.5          │\n",
       "│ 81  │ 2013-12-02 │ 56.5        │ \u001b[90mmissing\u001b[39m       │ 53.2          │\n",
       "│ 82  │ 2013-11-01 │ 53.2        │ \u001b[90mmissing\u001b[39m       │ \u001b[90mmissing\u001b[39m       │"
      ]
     },
     "execution_count": 12,
     "metadata": {},
     "output_type": "execute_result"
    }
   ],
   "source": [
    "# include function that are used in this project\n",
    "include(\"MarketIndicators.jl\")"
   ]
  },
  {
   "cell_type": "code",
   "execution_count": 2,
   "metadata": {},
   "outputs": [
    {
     "name": "stdout",
     "output_type": "stream",
     "text": [
      "Last update: Sep. 3, 2020 07:09\n"
     ]
    }
   ],
   "source": [
    " println( \"Last update: \", Dates.format(Dates.now(), \"u. d, yyyy HH:mm\"))"
   ]
  },
  {
   "cell_type": "markdown",
   "metadata": {},
   "source": [
    "# Define Hyperparameters"
   ]
  },
  {
   "cell_type": "code",
   "execution_count": 6,
   "metadata": {},
   "outputs": [
    {
     "data": {
      "text/plain": [
       "\"data/united-states.markit-manufacturing-pmi.csv\""
      ]
     },
     "execution_count": 6,
     "metadata": {},
     "output_type": "execute_result"
    }
   ],
   "source": [
    "learning_rate = 0.1       # learning rate\n",
    "split_ratio = 0.1         # train/test split ratio 0.1 => 90/10\n",
    "\n",
    "file_ISM_Mfc_Emp = \"data/united-states.ism-manufacturing-employment.csv\"\n",
    "file_Markkit_Mfc_PMI = \"data/united-states.markit-manufacturing-pmi.csv\""
   ]
  },
  {
   "cell_type": "markdown",
   "metadata": {},
   "source": [
    "# Load  Data\n"
   ]
  },
  {
   "cell_type": "markdown",
   "metadata": {},
   "source": [
    "## ISM Manufacturing Employment"
   ]
  },
  {
   "cell_type": "code",
   "execution_count": 13,
   "metadata": {},
   "outputs": [
    {
     "data": {
      "text/html": [
       "<table class=\"data-frame\"><thead><tr><th></th><th>Date</th><th>ActualValue</th><th>ForecastValue</th><th>PreviousValue</th></tr><tr><th></th><th>Date</th><th>Float64</th><th>Float64?</th><th>Float64?</th></tr></thead><tbody><p>82 rows × 4 columns</p><tr><th>1</th><td>2020-08-03</td><td>44.3</td><td>34.4</td><td>42.1</td></tr><tr><th>2</th><td>2020-07-01</td><td>42.1</td><td>38.1</td><td>32.1</td></tr><tr><th>3</th><td>2020-06-01</td><td>32.1</td><td>34.1</td><td>27.5</td></tr><tr><th>4</th><td>2020-05-01</td><td>27.5</td><td>44.8</td><td>43.8</td></tr><tr><th>5</th><td>2020-04-01</td><td>43.8</td><td>45.4</td><td>46.9</td></tr><tr><th>6</th><td>2020-03-02</td><td>46.9</td><td>43.9</td><td>46.6</td></tr><tr><th>7</th><td>2020-02-03</td><td>46.6</td><td>43.3</td><td>45.2</td></tr><tr><th>8</th><td>2020-01-03</td><td>45.1</td><td>53.5</td><td>46.6</td></tr><tr><th>9</th><td>2019-12-02</td><td>46.6</td><td>54.3</td><td>47.7</td></tr><tr><th>10</th><td>2019-11-01</td><td>47.7</td><td>54.7</td><td>46.3</td></tr><tr><th>11</th><td>2019-10-01</td><td>46.3</td><td>55.3</td><td>47.4</td></tr><tr><th>12</th><td>2019-09-03</td><td>47.4</td><td>56.0</td><td>51.7</td></tr><tr><th>13</th><td>2019-08-01</td><td>51.7</td><td>53.7</td><td>54.5</td></tr><tr><th>14</th><td>2019-07-01</td><td>54.5</td><td>54.1</td><td>53.7</td></tr><tr><th>15</th><td>2019-06-03</td><td>53.7</td><td>52.8</td><td>52.4</td></tr><tr><th>16</th><td>2019-05-01</td><td>52.4</td><td>56.7</td><td>57.5</td></tr><tr><th>17</th><td>2019-04-01</td><td>57.5</td><td>57.3</td><td>52.3</td></tr><tr><th>18</th><td>2019-03-01</td><td>52.3</td><td>57.8</td><td>55.5</td></tr><tr><th>19</th><td>2019-02-01</td><td>55.5</td><td>57.5</td><td>56.0</td></tr><tr><th>20</th><td>2019-01-03</td><td>56.2</td><td>58.1</td><td>58.4</td></tr><tr><th>21</th><td>2018-12-03</td><td>58.4</td><td>57.2</td><td>56.8</td></tr><tr><th>22</th><td>2018-11-01</td><td>56.8</td><td>56.9</td><td>58.8</td></tr><tr><th>23</th><td>2018-10-01</td><td>58.8</td><td>56.9</td><td>58.5</td></tr><tr><th>24</th><td>2018-09-04</td><td>58.5</td><td>56.3</td><td>56.5</td></tr><tr><th>25</th><td>2018-08-01</td><td>56.5</td><td>56.2</td><td>56.0</td></tr><tr><th>26</th><td>2018-07-02</td><td>56.0</td><td>55.3</td><td>56.3</td></tr><tr><th>27</th><td>2018-06-01</td><td>56.3</td><td>55.8</td><td>54.2</td></tr><tr><th>28</th><td>2018-05-01</td><td>54.2</td><td>58.6</td><td>57.3</td></tr><tr><th>29</th><td>2018-04-02</td><td>57.3</td><td>57.2</td><td>59.7</td></tr><tr><th>30</th><td>2018-03-01</td><td>59.7</td><td>55.9</td><td>54.2</td></tr><tr><th>&vellip;</th><td>&vellip;</td><td>&vellip;</td><td>&vellip;</td><td>&vellip;</td></tr></tbody></table>"
      ],
      "text/latex": [
       "\\begin{tabular}{r|cccc}\n",
       "\t& Date & ActualValue & ForecastValue & PreviousValue\\\\\n",
       "\t\\hline\n",
       "\t& Date & Float64 & Float64? & Float64?\\\\\n",
       "\t\\hline\n",
       "\t1 & 2020-08-03 & 44.3 & 34.4 & 42.1 \\\\\n",
       "\t2 & 2020-07-01 & 42.1 & 38.1 & 32.1 \\\\\n",
       "\t3 & 2020-06-01 & 32.1 & 34.1 & 27.5 \\\\\n",
       "\t4 & 2020-05-01 & 27.5 & 44.8 & 43.8 \\\\\n",
       "\t5 & 2020-04-01 & 43.8 & 45.4 & 46.9 \\\\\n",
       "\t6 & 2020-03-02 & 46.9 & 43.9 & 46.6 \\\\\n",
       "\t7 & 2020-02-03 & 46.6 & 43.3 & 45.2 \\\\\n",
       "\t8 & 2020-01-03 & 45.1 & 53.5 & 46.6 \\\\\n",
       "\t9 & 2019-12-02 & 46.6 & 54.3 & 47.7 \\\\\n",
       "\t10 & 2019-11-01 & 47.7 & 54.7 & 46.3 \\\\\n",
       "\t11 & 2019-10-01 & 46.3 & 55.3 & 47.4 \\\\\n",
       "\t12 & 2019-09-03 & 47.4 & 56.0 & 51.7 \\\\\n",
       "\t13 & 2019-08-01 & 51.7 & 53.7 & 54.5 \\\\\n",
       "\t14 & 2019-07-01 & 54.5 & 54.1 & 53.7 \\\\\n",
       "\t15 & 2019-06-03 & 53.7 & 52.8 & 52.4 \\\\\n",
       "\t16 & 2019-05-01 & 52.4 & 56.7 & 57.5 \\\\\n",
       "\t17 & 2019-04-01 & 57.5 & 57.3 & 52.3 \\\\\n",
       "\t18 & 2019-03-01 & 52.3 & 57.8 & 55.5 \\\\\n",
       "\t19 & 2019-02-01 & 55.5 & 57.5 & 56.0 \\\\\n",
       "\t20 & 2019-01-03 & 56.2 & 58.1 & 58.4 \\\\\n",
       "\t21 & 2018-12-03 & 58.4 & 57.2 & 56.8 \\\\\n",
       "\t22 & 2018-11-01 & 56.8 & 56.9 & 58.8 \\\\\n",
       "\t23 & 2018-10-01 & 58.8 & 56.9 & 58.5 \\\\\n",
       "\t24 & 2018-09-04 & 58.5 & 56.3 & 56.5 \\\\\n",
       "\t25 & 2018-08-01 & 56.5 & 56.2 & 56.0 \\\\\n",
       "\t26 & 2018-07-02 & 56.0 & 55.3 & 56.3 \\\\\n",
       "\t27 & 2018-06-01 & 56.3 & 55.8 & 54.2 \\\\\n",
       "\t28 & 2018-05-01 & 54.2 & 58.6 & 57.3 \\\\\n",
       "\t29 & 2018-04-02 & 57.3 & 57.2 & 59.7 \\\\\n",
       "\t30 & 2018-03-01 & 59.7 & 55.9 & 54.2 \\\\\n",
       "\t$\\dots$ & $\\dots$ & $\\dots$ & $\\dots$ & $\\dots$ \\\\\n",
       "\\end{tabular}\n"
      ],
      "text/plain": [
       "82×4 DataFrame\n",
       "│ Row │ Date       │ ActualValue │ ForecastValue │ PreviousValue │\n",
       "│     │ \u001b[90mDate\u001b[39m       │ \u001b[90mFloat64\u001b[39m     │ \u001b[90mFloat64?\u001b[39m      │ \u001b[90mFloat64?\u001b[39m      │\n",
       "├─────┼────────────┼─────────────┼───────────────┼───────────────┤\n",
       "│ 1   │ 2020-08-03 │ 44.3        │ 34.4          │ 42.1          │\n",
       "│ 2   │ 2020-07-01 │ 42.1        │ 38.1          │ 32.1          │\n",
       "│ 3   │ 2020-06-01 │ 32.1        │ 34.1          │ 27.5          │\n",
       "│ 4   │ 2020-05-01 │ 27.5        │ 44.8          │ 43.8          │\n",
       "│ 5   │ 2020-04-01 │ 43.8        │ 45.4          │ 46.9          │\n",
       "│ 6   │ 2020-03-02 │ 46.9        │ 43.9          │ 46.6          │\n",
       "│ 7   │ 2020-02-03 │ 46.6        │ 43.3          │ 45.2          │\n",
       "│ 8   │ 2020-01-03 │ 45.1        │ 53.5          │ 46.6          │\n",
       "│ 9   │ 2019-12-02 │ 46.6        │ 54.3          │ 47.7          │\n",
       "│ 10  │ 2019-11-01 │ 47.7        │ 54.7          │ 46.3          │\n",
       "⋮\n",
       "│ 72  │ 2014-09-02 │ 58.1        │ \u001b[90mmissing\u001b[39m       │ 58.2          │\n",
       "│ 73  │ 2014-08-01 │ 58.2        │ \u001b[90mmissing\u001b[39m       │ 52.8          │\n",
       "│ 74  │ 2014-07-01 │ 52.8        │ \u001b[90mmissing\u001b[39m       │ 52.8          │\n",
       "│ 75  │ 2014-06-02 │ 52.8        │ \u001b[90mmissing\u001b[39m       │ 54.7          │\n",
       "│ 76  │ 2014-05-01 │ 54.7        │ \u001b[90mmissing\u001b[39m       │ 51.1          │\n",
       "│ 77  │ 2014-04-01 │ 51.1        │ \u001b[90mmissing\u001b[39m       │ 52.3          │\n",
       "│ 78  │ 2014-03-03 │ 52.3        │ \u001b[90mmissing\u001b[39m       │ 52.3          │\n",
       "│ 79  │ 2014-02-03 │ 52.3        │ \u001b[90mmissing\u001b[39m       │ 56.9          │\n",
       "│ 80  │ 2014-01-02 │ 56.9        │ \u001b[90mmissing\u001b[39m       │ 56.5          │\n",
       "│ 81  │ 2013-12-02 │ 56.5        │ \u001b[90mmissing\u001b[39m       │ 53.2          │\n",
       "│ 82  │ 2013-11-01 │ 53.2        │ \u001b[90mmissing\u001b[39m       │ \u001b[90mmissing\u001b[39m       │"
      ]
     },
     "execution_count": 13,
     "metadata": {},
     "output_type": "execute_result"
    }
   ],
   "source": [
    "df_ISM_Mfc_Emp = fetch_data(file_ISM_Mfc_Emp, \"yyyy.mm.dd\")"
   ]
  },
  {
   "cell_type": "markdown",
   "metadata": {},
   "source": [
    "## Markit - Manufacturing PMI"
   ]
  },
  {
   "cell_type": "code",
   "execution_count": 15,
   "metadata": {},
   "outputs": [
    {
     "data": {
      "text/html": [
       "<table class=\"data-frame\"><thead><tr><th></th><th>Date</th><th>ActualValue</th><th>ForecastValue</th><th>PreviousValue</th></tr><tr><th></th><th>Date</th><th>Float64</th><th>Float64?</th><th>Float64?</th></tr></thead><tbody><p>200 rows × 4 columns</p><tr><th>1</th><td>2020-08-21</td><td>53.6</td><td>51.1</td><td>50.9</td></tr><tr><th>2</th><td>2020-08-03</td><td>50.9</td><td>51.3</td><td>51.3</td></tr><tr><th>3</th><td>2020-07-24</td><td>51.3</td><td>49.7</td><td>49.8</td></tr><tr><th>4</th><td>2020-07-01</td><td>49.8</td><td>49.6</td><td>49.6</td></tr><tr><th>5</th><td>2020-06-23</td><td>49.6</td><td>42.3</td><td>39.8</td></tr><tr><th>6</th><td>2020-06-01</td><td>39.8</td><td>39.8</td><td>39.8</td></tr><tr><th>7</th><td>2020-05-21</td><td>39.8</td><td>37.9</td><td>36.1</td></tr><tr><th>8</th><td>2020-05-01</td><td>36.1</td><td>36.9</td><td>36.9</td></tr><tr><th>9</th><td>2020-04-23</td><td>36.9</td><td>47.5</td><td>48.5</td></tr><tr><th>10</th><td>2020-04-01</td><td>48.5</td><td>49.2</td><td>49.2</td></tr><tr><th>11</th><td>2020-03-24</td><td>49.2</td><td>50.5</td><td>50.7</td></tr><tr><th>12</th><td>2020-03-02</td><td>50.7</td><td>50.8</td><td>50.8</td></tr><tr><th>13</th><td>2020-02-21</td><td>50.8</td><td>50.9</td><td>51.9</td></tr><tr><th>14</th><td>2020-02-03</td><td>51.9</td><td>51.7</td><td>51.7</td></tr><tr><th>15</th><td>2020-01-24</td><td>51.7</td><td>52.3</td><td>52.4</td></tr><tr><th>16</th><td>2020-01-02</td><td>52.4</td><td>52.5</td><td>52.5</td></tr><tr><th>17</th><td>2019-12-16</td><td>52.5</td><td>52.4</td><td>52.6</td></tr><tr><th>18</th><td>2019-12-02</td><td>52.6</td><td>52.2</td><td>52.2</td></tr><tr><th>19</th><td>2019-11-22</td><td>52.2</td><td>51.4</td><td>51.3</td></tr><tr><th>20</th><td>2019-11-01</td><td>51.3</td><td>51.5</td><td>51.5</td></tr><tr><th>21</th><td>2019-10-24</td><td>51.5</td><td>51.0</td><td>51.1</td></tr><tr><th>22</th><td>2019-10-01</td><td>51.1</td><td>51.0</td><td>51.0</td></tr><tr><th>23</th><td>2019-09-23</td><td>51.0</td><td>50.4</td><td>50.3</td></tr><tr><th>24</th><td>2019-09-03</td><td>50.3</td><td>49.9</td><td>49.9</td></tr><tr><th>25</th><td>2019-08-22</td><td>49.9</td><td>50.2</td><td>50.4</td></tr><tr><th>26</th><td>2019-08-01</td><td>50.4</td><td>50.0</td><td>50.0</td></tr><tr><th>27</th><td>2019-07-24</td><td>50.0</td><td>50.3</td><td>50.6</td></tr><tr><th>28</th><td>2019-07-01</td><td>50.6</td><td>50.1</td><td>50.1</td></tr><tr><th>29</th><td>2019-06-21</td><td>50.1</td><td>51.0</td><td>50.5</td></tr><tr><th>30</th><td>2019-06-03</td><td>50.5</td><td>50.6</td><td>50.6</td></tr><tr><th>&vellip;</th><td>&vellip;</td><td>&vellip;</td><td>&vellip;</td><td>&vellip;</td></tr></tbody></table>"
      ],
      "text/latex": [
       "\\begin{tabular}{r|cccc}\n",
       "\t& Date & ActualValue & ForecastValue & PreviousValue\\\\\n",
       "\t\\hline\n",
       "\t& Date & Float64 & Float64? & Float64?\\\\\n",
       "\t\\hline\n",
       "\t1 & 2020-08-21 & 53.6 & 51.1 & 50.9 \\\\\n",
       "\t2 & 2020-08-03 & 50.9 & 51.3 & 51.3 \\\\\n",
       "\t3 & 2020-07-24 & 51.3 & 49.7 & 49.8 \\\\\n",
       "\t4 & 2020-07-01 & 49.8 & 49.6 & 49.6 \\\\\n",
       "\t5 & 2020-06-23 & 49.6 & 42.3 & 39.8 \\\\\n",
       "\t6 & 2020-06-01 & 39.8 & 39.8 & 39.8 \\\\\n",
       "\t7 & 2020-05-21 & 39.8 & 37.9 & 36.1 \\\\\n",
       "\t8 & 2020-05-01 & 36.1 & 36.9 & 36.9 \\\\\n",
       "\t9 & 2020-04-23 & 36.9 & 47.5 & 48.5 \\\\\n",
       "\t10 & 2020-04-01 & 48.5 & 49.2 & 49.2 \\\\\n",
       "\t11 & 2020-03-24 & 49.2 & 50.5 & 50.7 \\\\\n",
       "\t12 & 2020-03-02 & 50.7 & 50.8 & 50.8 \\\\\n",
       "\t13 & 2020-02-21 & 50.8 & 50.9 & 51.9 \\\\\n",
       "\t14 & 2020-02-03 & 51.9 & 51.7 & 51.7 \\\\\n",
       "\t15 & 2020-01-24 & 51.7 & 52.3 & 52.4 \\\\\n",
       "\t16 & 2020-01-02 & 52.4 & 52.5 & 52.5 \\\\\n",
       "\t17 & 2019-12-16 & 52.5 & 52.4 & 52.6 \\\\\n",
       "\t18 & 2019-12-02 & 52.6 & 52.2 & 52.2 \\\\\n",
       "\t19 & 2019-11-22 & 52.2 & 51.4 & 51.3 \\\\\n",
       "\t20 & 2019-11-01 & 51.3 & 51.5 & 51.5 \\\\\n",
       "\t21 & 2019-10-24 & 51.5 & 51.0 & 51.1 \\\\\n",
       "\t22 & 2019-10-01 & 51.1 & 51.0 & 51.0 \\\\\n",
       "\t23 & 2019-09-23 & 51.0 & 50.4 & 50.3 \\\\\n",
       "\t24 & 2019-09-03 & 50.3 & 49.9 & 49.9 \\\\\n",
       "\t25 & 2019-08-22 & 49.9 & 50.2 & 50.4 \\\\\n",
       "\t26 & 2019-08-01 & 50.4 & 50.0 & 50.0 \\\\\n",
       "\t27 & 2019-07-24 & 50.0 & 50.3 & 50.6 \\\\\n",
       "\t28 & 2019-07-01 & 50.6 & 50.1 & 50.1 \\\\\n",
       "\t29 & 2019-06-21 & 50.1 & 51.0 & 50.5 \\\\\n",
       "\t30 & 2019-06-03 & 50.5 & 50.6 & 50.6 \\\\\n",
       "\t$\\dots$ & $\\dots$ & $\\dots$ & $\\dots$ & $\\dots$ \\\\\n",
       "\\end{tabular}\n"
      ],
      "text/plain": [
       "200×4 DataFrame\n",
       "│ Row │ Date       │ ActualValue │ ForecastValue │ PreviousValue │\n",
       "│     │ \u001b[90mDate\u001b[39m       │ \u001b[90mFloat64\u001b[39m     │ \u001b[90mFloat64?\u001b[39m      │ \u001b[90mFloat64?\u001b[39m      │\n",
       "├─────┼────────────┼─────────────┼───────────────┼───────────────┤\n",
       "│ 1   │ 2020-08-21 │ 53.6        │ 51.1          │ 50.9          │\n",
       "│ 2   │ 2020-08-03 │ 50.9        │ 51.3          │ 51.3          │\n",
       "│ 3   │ 2020-07-24 │ 51.3        │ 49.7          │ 49.8          │\n",
       "│ 4   │ 2020-07-01 │ 49.8        │ 49.6          │ 49.6          │\n",
       "│ 5   │ 2020-06-23 │ 49.6        │ 42.3          │ 39.8          │\n",
       "│ 6   │ 2020-06-01 │ 39.8        │ 39.8          │ 39.8          │\n",
       "│ 7   │ 2020-05-21 │ 39.8        │ 37.9          │ 36.1          │\n",
       "│ 8   │ 2020-05-01 │ 36.1        │ 36.9          │ 36.9          │\n",
       "│ 9   │ 2020-04-23 │ 36.9        │ 47.5          │ 48.5          │\n",
       "│ 10  │ 2020-04-01 │ 48.5        │ 49.2          │ 49.2          │\n",
       "⋮\n",
       "│ 190 │ 2012-10-01 │ 51.1        │ \u001b[90mmissing\u001b[39m       │ 51.5          │\n",
       "│ 191 │ 2012-09-20 │ 51.5        │ \u001b[90mmissing\u001b[39m       │ 51.5          │\n",
       "│ 192 │ 2012-09-04 │ 51.5        │ \u001b[90mmissing\u001b[39m       │ 51.9          │\n",
       "│ 193 │ 2012-08-23 │ 51.9        │ \u001b[90mmissing\u001b[39m       │ 51.4          │\n",
       "│ 194 │ 2012-08-01 │ 51.4        │ \u001b[90mmissing\u001b[39m       │ 51.8          │\n",
       "│ 195 │ 2012-07-24 │ 51.8        │ \u001b[90mmissing\u001b[39m       │ 52.5          │\n",
       "│ 196 │ 2012-07-02 │ 52.5        │ \u001b[90mmissing\u001b[39m       │ 52.9          │\n",
       "│ 197 │ 2012-06-21 │ 52.9        │ \u001b[90mmissing\u001b[39m       │ 54.0          │\n",
       "│ 198 │ 2012-06-01 │ 54.0        │ \u001b[90mmissing\u001b[39m       │ 53.9          │\n",
       "│ 199 │ 2012-05-24 │ 53.9        │ \u001b[90mmissing\u001b[39m       │ 56.0          │\n",
       "│ 200 │ 2012-04-25 │ 56.0        │ \u001b[90mmissing\u001b[39m       │ \u001b[90mmissing\u001b[39m       │"
      ]
     },
     "execution_count": 15,
     "metadata": {},
     "output_type": "execute_result"
    }
   ],
   "source": [
    "df_Markkit_Mfc_PMI = fetch_data(file_Markkit_Mfc_PMI, \"yyyy.mm.dd\")"
   ]
  },
  {
   "cell_type": "markdown",
   "metadata": {},
   "source": [
    "# Visualize the Data\n",
    "\n",
    "Visualization of the data is important to identify:\n",
    "- possible correlations (patterns)\n",
    "- missing data (e.g. before certain date)\n",
    "- wrong types of data (text vs. numbers, etc.)"
   ]
  },
  {
   "cell_type": "markdown",
   "metadata": {},
   "source": [
    "## Prepare x-axist data (time periods)"
   ]
  },
  {
   "cell_type": "code",
   "execution_count": 19,
   "metadata": {},
   "outputs": [
    {
     "data": {
      "text/plain": [
       "200-element Array{Float64,1}:\n",
       " 53.6\n",
       " 50.9\n",
       " 51.3\n",
       " 49.8\n",
       " 49.6\n",
       " 39.8\n",
       " 39.8\n",
       " 36.1\n",
       " 36.9\n",
       " 48.5\n",
       " 49.2\n",
       " 50.7\n",
       " 50.8\n",
       "  ⋮\n",
       " 51.3\n",
       " 51.1\n",
       " 51.5\n",
       " 51.5\n",
       " 51.9\n",
       " 51.4\n",
       " 51.8\n",
       " 52.5\n",
       " 52.9\n",
       " 54.0\n",
       " 53.9\n",
       " 56.0"
      ]
     },
     "execution_count": 19,
     "metadata": {},
     "output_type": "execute_result"
    }
   ],
   "source": [
    "periods = df_Markkit_Mfc_PMI[:,2][:,1]"
   ]
  },
  {
   "cell_type": "markdown",
   "metadata": {},
   "source": [
    "## Plotting Data"
   ]
  },
  {
   "cell_type": "code",
   "execution_count": 20,
   "metadata": {},
   "outputs": [
    {
     "data": {
      "image/svg+xml": [
       "<?xml version=\"1.0\" encoding=\"utf-8\"?>\n",
       "<svg xmlns=\"http://www.w3.org/2000/svg\" xmlns:xlink=\"http://www.w3.org/1999/xlink\" width=\"1750\" height=\"600\" viewBox=\"0 0 7000 2400\">\n",
       "<defs>\n",
       "  <clipPath id=\"clip3300\">\n",
       "    <rect x=\"0\" y=\"0\" width=\"7000\" height=\"2400\"/>\n",
       "  </clipPath>\n",
       "</defs>\n",
       "<path clip-path=\"url(#clip3300)\" d=\"\n",
       "M0 2400 L7000 2400 L7000 0 L0 0  Z\n",
       "  \" fill=\"#ffffff\" fill-rule=\"evenodd\" fill-opacity=\"1\"/>\n",
       "<defs>\n",
       "  <clipPath id=\"clip3301\">\n",
       "    <rect x=\"1400\" y=\"0\" width=\"4901\" height=\"2400\"/>\n",
       "  </clipPath>\n",
       "</defs>\n",
       "<path clip-path=\"url(#clip3300)\" d=\"\n",
       "M202.459 1023.18 L6952.76 1023.18 L6952.76 47.2441 L202.459 47.2441  Z\n",
       "  \" fill=\"#ffffff\" fill-rule=\"evenodd\" fill-opacity=\"1\"/>\n",
       "<defs>\n",
       "  <clipPath id=\"clip3302\">\n",
       "    <rect x=\"202\" y=\"47\" width=\"6751\" height=\"977\"/>\n",
       "  </clipPath>\n",
       "</defs>\n",
       "<polyline clip-path=\"url(#clip3302)\" style=\"stroke:#000000; stroke-width:2; stroke-opacity:0.1; fill:none\" points=\"\n",
       "  1527.57,1023.18 1527.57,47.2441 \n",
       "  \"/>\n",
       "<polyline clip-path=\"url(#clip3302)\" style=\"stroke:#000000; stroke-width:2; stroke-opacity:0.1; fill:none\" points=\"\n",
       "  2981.5,1023.18 2981.5,47.2441 \n",
       "  \"/>\n",
       "<polyline clip-path=\"url(#clip3302)\" style=\"stroke:#000000; stroke-width:2; stroke-opacity:0.1; fill:none\" points=\"\n",
       "  4435.42,1023.18 4435.42,47.2441 \n",
       "  \"/>\n",
       "<polyline clip-path=\"url(#clip3302)\" style=\"stroke:#000000; stroke-width:2; stroke-opacity:0.1; fill:none\" points=\"\n",
       "  5889.35,1023.18 5889.35,47.2441 \n",
       "  \"/>\n",
       "<polyline clip-path=\"url(#clip3302)\" style=\"stroke:#000000; stroke-width:2; stroke-opacity:0.1; fill:none\" points=\"\n",
       "  202.459,831.6 6952.76,831.6 \n",
       "  \"/>\n",
       "<polyline clip-path=\"url(#clip3302)\" style=\"stroke:#000000; stroke-width:2; stroke-opacity:0.1; fill:none\" points=\"\n",
       "  202.459,621.396 6952.76,621.396 \n",
       "  \"/>\n",
       "<polyline clip-path=\"url(#clip3302)\" style=\"stroke:#000000; stroke-width:2; stroke-opacity:0.1; fill:none\" points=\"\n",
       "  202.459,411.192 6952.76,411.192 \n",
       "  \"/>\n",
       "<polyline clip-path=\"url(#clip3302)\" style=\"stroke:#000000; stroke-width:2; stroke-opacity:0.1; fill:none\" points=\"\n",
       "  202.459,200.987 6952.76,200.987 \n",
       "  \"/>\n",
       "<polyline clip-path=\"url(#clip3300)\" style=\"stroke:#000000; stroke-width:4; stroke-opacity:1; fill:none\" points=\"\n",
       "  202.459,1023.18 6952.76,1023.18 \n",
       "  \"/>\n",
       "<polyline clip-path=\"url(#clip3300)\" style=\"stroke:#000000; stroke-width:4; stroke-opacity:1; fill:none\" points=\"\n",
       "  202.459,1023.18 202.459,47.2441 \n",
       "  \"/>\n",
       "<polyline clip-path=\"url(#clip3300)\" style=\"stroke:#000000; stroke-width:4; stroke-opacity:1; fill:none\" points=\"\n",
       "  1527.57,1023.18 1527.57,1011.47 \n",
       "  \"/>\n",
       "<polyline clip-path=\"url(#clip3300)\" style=\"stroke:#000000; stroke-width:4; stroke-opacity:1; fill:none\" points=\"\n",
       "  2981.5,1023.18 2981.5,1011.47 \n",
       "  \"/>\n",
       "<polyline clip-path=\"url(#clip3300)\" style=\"stroke:#000000; stroke-width:4; stroke-opacity:1; fill:none\" points=\"\n",
       "  4435.42,1023.18 4435.42,1011.47 \n",
       "  \"/>\n",
       "<polyline clip-path=\"url(#clip3300)\" style=\"stroke:#000000; stroke-width:4; stroke-opacity:1; fill:none\" points=\"\n",
       "  5889.35,1023.18 5889.35,1011.47 \n",
       "  \"/>\n",
       "<polyline clip-path=\"url(#clip3300)\" style=\"stroke:#000000; stroke-width:4; stroke-opacity:1; fill:none\" points=\"\n",
       "  202.459,831.6 283.463,831.6 \n",
       "  \"/>\n",
       "<polyline clip-path=\"url(#clip3300)\" style=\"stroke:#000000; stroke-width:4; stroke-opacity:1; fill:none\" points=\"\n",
       "  202.459,621.396 283.463,621.396 \n",
       "  \"/>\n",
       "<polyline clip-path=\"url(#clip3300)\" style=\"stroke:#000000; stroke-width:4; stroke-opacity:1; fill:none\" points=\"\n",
       "  202.459,411.192 283.463,411.192 \n",
       "  \"/>\n",
       "<polyline clip-path=\"url(#clip3300)\" style=\"stroke:#000000; stroke-width:4; stroke-opacity:1; fill:none\" points=\"\n",
       "  202.459,200.987 283.463,200.987 \n",
       "  \"/>\n",
       "<path clip-path=\"url(#clip3300)\" d=\"M 0 0 M1517.07 1069.17 L1505.27 1087.61 L1517.07 1087.61 L1517.07 1069.17 M1515.84 1065.09 L1521.72 1065.09 L1521.72 1087.61 L1526.65 1087.61 L1526.65 1091.5 L1521.72 1091.5 L1521.72 1099.65 L1517.07 1099.65 L1517.07 1091.5 L1501.47 1091.5 L1501.47 1086.99 L1515.84 1065.09 Z\" fill=\"#000000\" fill-rule=\"evenodd\" fill-opacity=\"1\" /><path clip-path=\"url(#clip3300)\" d=\"M 0 0 M1541.72 1068.17 Q1538.11 1068.17 1536.28 1071.74 Q1534.48 1075.28 1534.48 1082.41 Q1534.48 1089.51 1536.28 1093.08 Q1538.11 1096.62 1541.72 1096.62 Q1545.36 1096.62 1547.16 1093.08 Q1548.99 1089.51 1548.99 1082.41 Q1548.99 1075.28 1547.16 1071.74 Q1545.36 1068.17 1541.72 1068.17 M1541.72 1064.47 Q1547.53 1064.47 1550.59 1069.07 Q1553.67 1073.66 1553.67 1082.41 Q1553.67 1091.13 1550.59 1095.74 Q1547.53 1100.32 1541.72 1100.32 Q1535.91 1100.32 1532.84 1095.74 Q1529.78 1091.13 1529.78 1082.41 Q1529.78 1073.66 1532.84 1069.07 Q1535.91 1064.47 1541.72 1064.47 Z\" fill=\"#000000\" fill-rule=\"evenodd\" fill-opacity=\"1\" /><path clip-path=\"url(#clip3300)\" d=\"M 0 0 M2971.5 1069.17 L2959.69 1087.61 L2971.5 1087.61 L2971.5 1069.17 M2970.27 1065.09 L2976.15 1065.09 L2976.15 1087.61 L2981.08 1087.61 L2981.08 1091.5 L2976.15 1091.5 L2976.15 1099.65 L2971.5 1099.65 L2971.5 1091.5 L2955.9 1091.5 L2955.9 1086.99 L2970.27 1065.09 Z\" fill=\"#000000\" fill-rule=\"evenodd\" fill-opacity=\"1\" /><path clip-path=\"url(#clip3300)\" d=\"M 0 0 M2986.2 1065.09 L3004.55 1065.09 L3004.55 1069.03 L2990.48 1069.03 L2990.48 1077.5 Q2991.5 1077.15 2992.52 1076.99 Q2993.53 1076.8 2994.55 1076.8 Q3000.34 1076.8 3003.72 1079.98 Q3007.1 1083.15 3007.1 1088.56 Q3007.1 1094.14 3003.63 1097.24 Q3000.15 1100.32 2993.83 1100.32 Q2991.66 1100.32 2989.39 1099.95 Q2987.15 1099.58 2984.74 1098.84 L2984.74 1094.14 Q2986.82 1095.28 2989.04 1095.83 Q2991.27 1096.39 2993.74 1096.39 Q2997.75 1096.39 3000.08 1094.28 Q3002.42 1092.18 3002.42 1088.56 Q3002.42 1084.95 3000.08 1082.85 Q2997.75 1080.74 2993.74 1080.74 Q2991.87 1080.74 2989.99 1081.16 Q2988.14 1081.57 2986.2 1082.45 L2986.2 1065.09 Z\" fill=\"#000000\" fill-rule=\"evenodd\" fill-opacity=\"1\" /><path clip-path=\"url(#clip3300)\" d=\"M 0 0 M4412.2 1065.09 L4430.55 1065.09 L4430.55 1069.03 L4416.48 1069.03 L4416.48 1077.5 Q4417.5 1077.15 4418.52 1076.99 Q4419.53 1076.8 4420.55 1076.8 Q4426.34 1076.8 4429.72 1079.98 Q4433.1 1083.15 4433.1 1088.56 Q4433.1 1094.14 4429.63 1097.24 Q4426.15 1100.32 4419.83 1100.32 Q4417.66 1100.32 4415.39 1099.95 Q4413.14 1099.58 4410.74 1098.84 L4410.74 1094.14 Q4412.82 1095.28 4415.04 1095.83 Q4417.27 1096.39 4419.74 1096.39 Q4423.75 1096.39 4426.08 1094.28 Q4428.42 1092.18 4428.42 1088.56 Q4428.42 1084.95 4426.08 1082.85 Q4423.75 1080.74 4419.74 1080.74 Q4417.87 1080.74 4415.99 1081.16 Q4414.14 1081.57 4412.2 1082.45 L4412.2 1065.09 Z\" fill=\"#000000\" fill-rule=\"evenodd\" fill-opacity=\"1\" /><path clip-path=\"url(#clip3300)\" d=\"M 0 0 M4448.17 1068.17 Q4444.56 1068.17 4442.73 1071.74 Q4440.92 1075.28 4440.92 1082.41 Q4440.92 1089.51 4442.73 1093.08 Q4444.56 1096.62 4448.17 1096.62 Q4451.8 1096.62 4453.61 1093.08 Q4455.44 1089.51 4455.44 1082.41 Q4455.44 1075.28 4453.61 1071.74 Q4451.8 1068.17 4448.17 1068.17 M4448.17 1064.47 Q4453.98 1064.47 4457.03 1069.07 Q4460.11 1073.66 4460.11 1082.41 Q4460.11 1091.13 4457.03 1095.74 Q4453.98 1100.32 4448.17 1100.32 Q4442.36 1100.32 4439.28 1095.74 Q4436.22 1091.13 4436.22 1082.41 Q4436.22 1073.66 4439.28 1069.07 Q4442.36 1064.47 4448.17 1064.47 Z\" fill=\"#000000\" fill-rule=\"evenodd\" fill-opacity=\"1\" /><path clip-path=\"url(#clip3300)\" d=\"M 0 0 M5866.62 1065.09 L5884.98 1065.09 L5884.98 1069.03 L5870.9 1069.03 L5870.9 1077.5 Q5871.92 1077.15 5872.94 1076.99 Q5873.96 1076.8 5874.98 1076.8 Q5880.77 1076.8 5884.14 1079.98 Q5887.52 1083.15 5887.52 1088.56 Q5887.52 1094.14 5884.05 1097.24 Q5880.58 1100.32 5874.26 1100.32 Q5872.08 1100.32 5869.82 1099.95 Q5867.57 1099.58 5865.16 1098.84 L5865.16 1094.14 Q5867.25 1095.28 5869.47 1095.83 Q5871.69 1096.39 5874.17 1096.39 Q5878.17 1096.39 5880.51 1094.28 Q5882.85 1092.18 5882.85 1088.56 Q5882.85 1084.95 5880.51 1082.85 Q5878.17 1080.74 5874.17 1080.74 Q5872.29 1080.74 5870.42 1081.16 Q5868.57 1081.57 5866.62 1082.45 L5866.62 1065.09 Z\" fill=\"#000000\" fill-rule=\"evenodd\" fill-opacity=\"1\" /><path clip-path=\"url(#clip3300)\" d=\"M 0 0 M5892.64 1065.09 L5911 1065.09 L5911 1069.03 L5896.92 1069.03 L5896.92 1077.5 Q5897.94 1077.15 5898.96 1076.99 Q5899.98 1076.8 5901 1076.8 Q5906.78 1076.8 5910.16 1079.98 Q5913.54 1083.15 5913.54 1088.56 Q5913.54 1094.14 5910.07 1097.24 Q5906.6 1100.32 5900.28 1100.32 Q5898.1 1100.32 5895.83 1099.95 Q5893.59 1099.58 5891.18 1098.84 L5891.18 1094.14 Q5893.26 1095.28 5895.49 1095.83 Q5897.71 1096.39 5900.19 1096.39 Q5904.19 1096.39 5906.53 1094.28 Q5908.87 1092.18 5908.87 1088.56 Q5908.87 1084.95 5906.53 1082.85 Q5904.19 1080.74 5900.19 1080.74 Q5898.31 1080.74 5896.44 1081.16 Q5894.58 1081.57 5892.64 1082.45 L5892.64 1065.09 Z\" fill=\"#000000\" fill-rule=\"evenodd\" fill-opacity=\"1\" /><path clip-path=\"url(#clip3300)\" d=\"M 0 0 M95.8619 818.394 L84.0564 836.843 L95.8619 836.843 L95.8619 818.394 M94.6351 814.32 L100.515 814.32 L100.515 836.843 L105.445 836.843 L105.445 840.732 L100.515 840.732 L100.515 848.88 L95.8619 848.88 L95.8619 840.732 L80.2602 840.732 L80.2602 836.218 L94.6351 814.32 Z\" fill=\"#000000\" fill-rule=\"evenodd\" fill-opacity=\"1\" /><path clip-path=\"url(#clip3300)\" d=\"M 0 0 M120.515 817.398 Q116.903 817.398 115.075 820.963 Q113.269 824.505 113.269 831.635 Q113.269 838.741 115.075 842.306 Q116.903 845.847 120.515 845.847 Q124.149 845.847 125.954 842.306 Q127.783 838.741 127.783 831.635 Q127.783 824.505 125.954 820.963 Q124.149 817.398 120.515 817.398 M120.515 813.695 Q126.325 813.695 129.38 818.301 Q132.459 822.885 132.459 831.635 Q132.459 840.361 129.38 844.968 Q126.325 849.551 120.515 849.551 Q114.704 849.551 111.626 844.968 Q108.57 840.361 108.57 831.635 Q108.57 822.885 111.626 818.301 Q114.704 813.695 120.515 813.695 Z\" fill=\"#000000\" fill-rule=\"evenodd\" fill-opacity=\"1\" /><path clip-path=\"url(#clip3300)\" d=\"M 0 0 M96.8573 608.19 L85.0518 626.639 L96.8573 626.639 L96.8573 608.19 M95.6304 604.116 L101.51 604.116 L101.51 626.639 L106.441 626.639 L106.441 630.528 L101.51 630.528 L101.51 638.676 L96.8573 638.676 L96.8573 630.528 L81.2555 630.528 L81.2555 626.014 L95.6304 604.116 Z\" fill=\"#000000\" fill-rule=\"evenodd\" fill-opacity=\"1\" /><path clip-path=\"url(#clip3300)\" d=\"M 0 0 M111.556 604.116 L129.913 604.116 L129.913 608.051 L115.839 608.051 L115.839 616.523 Q116.857 616.176 117.876 616.014 Q118.894 615.829 119.913 615.829 Q125.7 615.829 129.079 619 Q132.459 622.171 132.459 627.588 Q132.459 633.166 128.987 636.268 Q125.515 639.347 119.195 639.347 Q117.019 639.347 114.751 638.977 Q112.505 638.606 110.098 637.865 L110.098 633.166 Q112.181 634.301 114.403 634.856 Q116.626 635.412 119.103 635.412 Q123.107 635.412 125.445 633.305 Q127.783 631.199 127.783 627.588 Q127.783 623.977 125.445 621.87 Q123.107 619.764 119.103 619.764 Q117.228 619.764 115.353 620.18 Q113.501 620.597 111.556 621.477 L111.556 604.116 Z\" fill=\"#000000\" fill-rule=\"evenodd\" fill-opacity=\"1\" /><path clip-path=\"url(#clip3300)\" d=\"M 0 0 M84.5425 393.912 L102.899 393.912 L102.899 397.847 L88.8249 397.847 L88.8249 406.319 Q89.8434 405.972 90.862 405.81 Q91.8805 405.624 92.899 405.624 Q98.686 405.624 102.066 408.796 Q105.445 411.967 105.445 417.384 Q105.445 422.962 101.973 426.064 Q98.5008 429.143 92.1814 429.143 Q90.0055 429.143 87.737 428.772 Q85.4916 428.402 83.0842 427.661 L83.0842 422.962 Q85.1675 424.097 87.3897 424.652 Q89.612 425.208 92.0888 425.208 Q96.0934 425.208 98.4314 423.101 Q100.769 420.995 100.769 417.384 Q100.769 413.773 98.4314 411.666 Q96.0934 409.56 92.0888 409.56 Q90.2138 409.56 88.3388 409.976 Q86.487 410.393 84.5425 411.273 L84.5425 393.912 Z\" fill=\"#000000\" fill-rule=\"evenodd\" fill-opacity=\"1\" /><path clip-path=\"url(#clip3300)\" d=\"M 0 0 M120.515 396.99 Q116.903 396.99 115.075 400.555 Q113.269 404.097 113.269 411.226 Q113.269 418.333 115.075 421.897 Q116.903 425.439 120.515 425.439 Q124.149 425.439 125.954 421.897 Q127.783 418.333 127.783 411.226 Q127.783 404.097 125.954 400.555 Q124.149 396.99 120.515 396.99 M120.515 393.287 Q126.325 393.287 129.38 397.893 Q132.459 402.476 132.459 411.226 Q132.459 419.953 129.38 424.56 Q126.325 429.143 120.515 429.143 Q114.704 429.143 111.626 424.56 Q108.57 419.953 108.57 411.226 Q108.57 402.476 111.626 397.893 Q114.704 393.287 120.515 393.287 Z\" fill=\"#000000\" fill-rule=\"evenodd\" fill-opacity=\"1\" /><path clip-path=\"url(#clip3300)\" d=\"M 0 0 M85.5379 183.707 L103.894 183.707 L103.894 187.643 L89.8203 187.643 L89.8203 196.115 Q90.8388 195.768 91.8573 195.605 Q92.8758 195.42 93.8943 195.42 Q99.6813 195.42 103.061 198.592 Q106.441 201.763 106.441 207.179 Q106.441 212.758 102.968 215.86 Q99.4962 218.939 93.1768 218.939 Q91.0008 218.939 88.7323 218.568 Q86.487 218.198 84.0796 217.457 L84.0796 212.758 Q86.1629 213.892 88.3851 214.448 Q90.6073 215.004 93.0842 215.004 Q97.0888 215.004 99.4267 212.897 Q101.765 210.791 101.765 207.179 Q101.765 203.568 99.4267 201.462 Q97.0888 199.355 93.0842 199.355 Q91.2092 199.355 89.3342 199.772 Q87.4823 200.189 85.5379 201.068 L85.5379 183.707 Z\" fill=\"#000000\" fill-rule=\"evenodd\" fill-opacity=\"1\" /><path clip-path=\"url(#clip3300)\" d=\"M 0 0 M111.556 183.707 L129.913 183.707 L129.913 187.643 L115.839 187.643 L115.839 196.115 Q116.857 195.768 117.876 195.605 Q118.894 195.42 119.913 195.42 Q125.7 195.42 129.079 198.592 Q132.459 201.763 132.459 207.179 Q132.459 212.758 128.987 215.86 Q125.515 218.939 119.195 218.939 Q117.019 218.939 114.751 218.568 Q112.505 218.198 110.098 217.457 L110.098 212.758 Q112.181 213.892 114.403 214.448 Q116.626 215.004 119.103 215.004 Q123.107 215.004 125.445 212.897 Q127.783 210.791 127.783 207.179 Q127.783 203.568 125.445 201.462 Q123.107 199.355 119.103 199.355 Q117.228 199.355 115.353 199.772 Q113.501 200.189 111.556 201.068 L111.556 183.707 Z\" fill=\"#000000\" fill-rule=\"evenodd\" fill-opacity=\"1\" /><path clip-path=\"url(#clip3300)\" d=\"M 0 0 M3523.37 1156.27 L3523.37 1166.4 L3535.43 1166.4 L3535.43 1170.95 L3523.37 1170.95 L3523.37 1190.3 Q3523.37 1194.66 3524.55 1195.9 Q3525.76 1197.14 3529.42 1197.14 L3535.43 1197.14 L3535.43 1202.04 L3529.42 1202.04 Q3522.64 1202.04 3520.06 1199.53 Q3517.48 1196.98 3517.48 1190.3 L3517.48 1170.95 L3513.19 1170.95 L3513.19 1166.4 L3517.48 1166.4 L3517.48 1156.27 L3523.37 1156.27 Z\" fill=\"#000000\" fill-rule=\"evenodd\" fill-opacity=\"1\" /><path clip-path=\"url(#clip3300)\" d=\"M 0 0 M3541.58 1166.4 L3547.43 1166.4 L3547.43 1202.04 L3541.58 1202.04 L3541.58 1166.4 M3541.58 1152.52 L3547.43 1152.52 L3547.43 1159.93 L3541.58 1159.93 L3541.58 1152.52 Z\" fill=\"#000000\" fill-rule=\"evenodd\" fill-opacity=\"1\" /><path clip-path=\"url(#clip3300)\" d=\"M 0 0 M3581.33 1173.24 Q3583.53 1169.29 3586.58 1167.41 Q3589.64 1165.54 3593.78 1165.54 Q3599.35 1165.54 3602.37 1169.45 Q3605.39 1173.33 3605.39 1180.53 L3605.39 1202.04 L3599.51 1202.04 L3599.51 1180.72 Q3599.51 1175.59 3597.69 1173.11 Q3595.88 1170.63 3592.15 1170.63 Q3587.6 1170.63 3584.96 1173.65 Q3582.32 1176.68 3582.32 1181.9 L3582.32 1202.04 L3576.43 1202.04 L3576.43 1180.72 Q3576.43 1175.56 3574.62 1173.11 Q3572.8 1170.63 3569.01 1170.63 Q3564.53 1170.63 3561.88 1173.68 Q3559.24 1176.71 3559.24 1181.9 L3559.24 1202.04 L3553.35 1202.04 L3553.35 1166.4 L3559.24 1166.4 L3559.24 1171.93 Q3561.25 1168.66 3564.05 1167.1 Q3566.85 1165.54 3570.7 1165.54 Q3574.58 1165.54 3577.29 1167.51 Q3580.03 1169.48 3581.33 1173.24 Z\" fill=\"#000000\" fill-rule=\"evenodd\" fill-opacity=\"1\" /><path clip-path=\"url(#clip3300)\" d=\"M 0 0 M3642.03 1182.76 L3642.03 1185.62 L3615.1 1185.62 Q3615.48 1191.67 3618.73 1194.85 Q3622.01 1198 3627.83 1198 Q3631.21 1198 3634.36 1197.17 Q3637.54 1196.35 3640.66 1194.69 L3640.66 1200.23 Q3637.51 1201.57 3634.2 1202.27 Q3630.89 1202.97 3627.48 1202.97 Q3618.95 1202.97 3613.96 1198 Q3608.99 1193.04 3608.99 1184.57 Q3608.99 1175.82 3613.7 1170.69 Q3618.44 1165.54 3626.46 1165.54 Q3633.66 1165.54 3637.83 1170.18 Q3642.03 1174.8 3642.03 1182.76 M3636.17 1181.04 Q3636.11 1176.23 3633.47 1173.37 Q3630.86 1170.5 3626.53 1170.5 Q3621.63 1170.5 3618.67 1173.27 Q3615.74 1176.04 3615.29 1181.07 L3636.17 1181.04 Z\" fill=\"#000000\" fill-rule=\"evenodd\" fill-opacity=\"1\" /><path clip-path=\"url(#clip3300)\" d=\"M 0 0 M-39.6438 671.613 L-39.6438 665.757 L-3.99584 665.757 L-3.99584 671.613 L-39.6438 671.613 M-53.521 671.613 L-53.521 665.757 L-46.105 665.757 L-46.105 671.613 L-53.521 671.613 Z\" fill=\"#000000\" fill-rule=\"evenodd\" fill-opacity=\"1\" /><path clip-path=\"url(#clip3300)\" d=\"M 0 0 M-25.5119 629.981 L-3.99584 629.981 L-3.99584 635.838 L-25.321 635.838 Q-30.3817 635.838 -32.8962 637.811 Q-35.4106 639.785 -35.4106 643.731 Q-35.4106 648.474 -32.3869 651.211 Q-29.3632 653.948 -24.1433 653.948 L-3.99584 653.948 L-3.99584 659.837 L-39.6438 659.837 L-39.6438 653.948 L-34.1056 653.948 Q-37.3203 651.848 -38.9117 649.015 Q-40.5032 646.15 -40.5032 642.426 Q-40.5032 636.283 -36.6837 633.132 Q-32.8962 629.981 -25.5119 629.981 Z\" fill=\"#000000\" fill-rule=\"evenodd\" fill-opacity=\"1\" /><path clip-path=\"url(#clip3300)\" d=\"M 0 0 M-34.2329 600.381 L-53.521 600.381 L-53.521 594.524 L-3.99584 594.524 L-3.99584 600.381 L-9.34304 600.381 Q-6.16018 602.227 -4.60058 605.06 Q-3.07282 607.861 -3.07282 611.807 Q-3.07282 618.269 -8.22904 622.343 Q-13.3853 626.385 -21.788 626.385 Q-30.1907 626.385 -35.3469 622.343 Q-40.5032 618.269 -40.5032 611.807 Q-40.5032 607.861 -38.9436 605.06 Q-37.4158 602.227 -34.2329 600.381 M-21.788 620.337 Q-15.3268 620.337 -11.6347 617.696 Q-7.97441 615.022 -7.97441 610.375 Q-7.97441 605.728 -11.6347 603.054 Q-15.3268 600.381 -21.788 600.381 Q-28.2492 600.381 -31.9095 603.054 Q-35.6016 605.728 -35.6016 610.375 Q-35.6016 615.022 -31.9095 617.696 Q-28.2492 620.337 -21.788 620.337 Z\" fill=\"#000000\" fill-rule=\"evenodd\" fill-opacity=\"1\" /><path clip-path=\"url(#clip3300)\" d=\"M 0 0 M-39.6438 588.382 L-39.6438 582.525 L-3.99584 582.525 L-3.99584 588.382 L-39.6438 588.382 M-53.521 588.382 L-53.521 582.525 L-46.105 582.525 L-46.105 588.382 L-53.521 588.382 Z\" fill=\"#000000\" fill-rule=\"evenodd\" fill-opacity=\"1\" /><path clip-path=\"url(#clip3300)\" d=\"M 0 0 M-38.2752 550.728 L-32.8007 550.728 Q-34.1693 553.211 -34.8377 555.725 Q-35.5379 558.208 -35.5379 560.754 Q-35.5379 566.452 -31.9095 569.603 Q-28.3128 572.754 -21.788 572.754 Q-15.2631 572.754 -11.6347 569.603 Q-8.03807 566.452 -8.03807 560.754 Q-8.03807 558.208 -8.70647 555.725 Q-9.40669 553.211 -10.7753 550.728 L-5.36447 550.728 Q-4.21864 553.179 -3.64573 555.821 Q-3.07282 558.431 -3.07282 561.391 Q-3.07282 569.444 -8.13355 574.186 Q-13.1943 578.928 -21.788 578.928 Q-30.509 578.928 -35.5061 574.154 Q-40.5032 569.348 -40.5032 561.009 Q-40.5032 558.304 -39.9303 555.725 Q-39.3892 553.147 -38.2752 550.728 Z\" fill=\"#000000\" fill-rule=\"evenodd\" fill-opacity=\"1\" /><path clip-path=\"url(#clip3300)\" d=\"M 0 0 M-21.9153 528.385 Q-21.9153 535.483 -20.2921 538.22 Q-18.6688 540.957 -14.7539 540.957 Q-11.6347 540.957 -9.78864 538.92 Q-7.97441 536.851 -7.97441 533.318 Q-7.97441 528.448 -11.4119 525.52 Q-14.8812 522.56 -20.6103 522.56 L-21.9153 522.56 L-21.9153 528.385 M-24.3343 516.704 L-3.99584 516.704 L-3.99584 522.56 L-9.40669 522.56 Q-6.16018 524.565 -4.60058 527.557 Q-3.07282 530.549 -3.07282 534.878 Q-3.07282 540.352 -6.12835 543.599 Q-9.21572 546.813 -14.3719 546.813 Q-20.3875 546.813 -23.4431 542.803 Q-26.4986 538.761 -26.4986 530.772 L-26.4986 522.56 L-27.0715 522.56 Q-31.1138 522.56 -33.3099 525.234 Q-35.5379 527.875 -35.5379 532.682 Q-35.5379 535.737 -34.8059 538.634 Q-34.0738 541.53 -32.6097 544.204 L-38.0205 544.204 Q-39.2619 540.989 -39.8666 537.965 Q-40.5032 534.941 -40.5032 532.077 Q-40.5032 524.343 -36.4928 520.523 Q-32.4824 516.704 -24.3343 516.704 Z\" fill=\"#000000\" fill-rule=\"evenodd\" fill-opacity=\"1\" /><path clip-path=\"url(#clip3300)\" d=\"M 0 0 M-49.7653 504.768 L-39.6438 504.768 L-39.6438 492.705 L-35.0923 492.705 L-35.0923 504.768 L-15.7406 504.768 Q-11.3801 504.768 -10.1387 503.59 Q-8.89744 502.381 -8.89744 498.721 L-8.89744 492.705 L-3.99584 492.705 L-3.99584 498.721 Q-3.99584 505.5 -6.5103 508.078 Q-9.05658 510.656 -15.7406 510.656 L-35.0923 510.656 L-35.0923 514.953 L-39.6438 514.953 L-39.6438 510.656 L-49.7653 510.656 L-49.7653 504.768 Z\" fill=\"#000000\" fill-rule=\"evenodd\" fill-opacity=\"1\" /><path clip-path=\"url(#clip3300)\" d=\"M 0 0 M-35.5379 472.748 Q-35.5379 477.459 -31.8458 480.196 Q-28.1855 482.934 -21.788 482.934 Q-15.3905 482.934 -11.6983 480.228 Q-8.03807 477.491 -8.03807 472.748 Q-8.03807 468.07 -11.7302 465.332 Q-15.4223 462.595 -21.788 462.595 Q-28.1219 462.595 -31.814 465.332 Q-35.5379 468.07 -35.5379 472.748 M-40.5032 472.748 Q-40.5032 465.11 -35.5379 460.749 Q-30.5727 456.389 -21.788 456.389 Q-13.0351 456.389 -8.03807 460.749 Q-3.07282 465.11 -3.07282 472.748 Q-3.07282 480.419 -8.03807 484.78 Q-13.0351 489.108 -21.788 489.108 Q-30.5727 489.108 -35.5379 484.78 Q-40.5032 480.419 -40.5032 472.748 Z\" fill=\"#000000\" fill-rule=\"evenodd\" fill-opacity=\"1\" /><path clip-path=\"url(#clip3300)\" d=\"M 0 0 M-34.1693 429.589 Q-34.7422 430.576 -34.9968 431.753 Q-35.2833 432.899 -35.2833 434.3 Q-35.2833 439.265 -32.0368 441.938 Q-28.8221 444.58 -22.7747 444.58 L-3.99584 444.58 L-3.99584 450.468 L-39.6438 450.468 L-39.6438 444.58 L-34.1056 444.58 Q-37.3521 442.734 -38.9117 439.774 Q-40.5032 436.814 -40.5032 432.581 Q-40.5032 431.976 -40.4077 431.244 Q-40.344 430.512 -40.1849 429.621 L-34.1693 429.589 Z\" fill=\"#000000\" fill-rule=\"evenodd\" fill-opacity=\"1\" /><path clip-path=\"url(#clip3300)\" d=\"M 0 0 M-38.5935 400.721 L-33.0553 400.721 Q-34.3284 403.203 -34.965 405.877 Q-35.6016 408.55 -35.6016 411.415 Q-35.6016 415.775 -34.2648 417.972 Q-32.928 420.136 -30.2544 420.136 Q-28.2174 420.136 -27.0397 418.576 Q-25.8939 417.017 -24.8435 412.306 L-24.3979 410.301 Q-23.0611 404.062 -20.6103 401.453 Q-18.1914 398.811 -13.8309 398.811 Q-8.86561 398.811 -5.96921 402.758 Q-3.07282 406.672 -3.07282 413.547 Q-3.07282 416.412 -3.64573 419.531 Q-4.18681 422.619 -5.30081 426.056 L-11.3482 426.056 Q-9.66132 422.81 -8.80195 419.658 Q-7.97441 416.507 -7.97441 413.42 Q-7.97441 409.282 -9.37486 407.054 Q-10.8071 404.826 -13.3853 404.826 Q-15.7724 404.826 -17.0455 406.45 Q-18.3187 408.041 -19.4963 413.484 L-19.9738 415.521 Q-21.1196 420.963 -23.4749 423.382 Q-25.862 425.801 -29.9998 425.801 Q-35.0287 425.801 -37.7659 422.237 Q-40.5032 418.672 -40.5032 412.115 Q-40.5032 408.869 -40.0257 406.004 Q-39.5483 403.139 -38.5935 400.721 Z\" fill=\"#000000\" fill-rule=\"evenodd\" fill-opacity=\"1\" /><polyline clip-path=\"url(#clip3302)\" style=\"stroke:#009af9; stroke-width:4; stroke-opacity:1; fill:none\" points=\"\n",
       "  5482.25,259.845 4697.13,373.355 4813.45,356.538 4377.27,419.6 4319.11,428.008 1469.41,840.008 393.505,995.559 626.134,961.926 3999.25,474.253 \n",
       "  4202.8,444.824 4638.97,381.763 4668.05,377.559 4987.92,331.314 4929.76,339.722 5133.31,310.294 5162.39,306.089 5191.47,301.885 5075.15,318.702 4813.45,356.538 \n",
       "  4871.6,348.13 4755.29,364.947 4726.21,369.151 4522.66,398.579 4406.35,415.396 4551.74,394.375 4435.42,411.192 4609.9,385.967 4464.5,406.987 4580.82,390.171 \n",
       "  4609.9,385.967 5191.47,301.885 5133.31,310.294 5162.39,306.089 5307.78,285.069 5511.33,255.64 5860.27,205.191 5540.41,251.436 \n",
       "  5569.49,247.232 5976.59,188.375 6005.67,184.171 6092.9,171.559 6151.06,163.151 6063.82,175.763 5802.12,213.6 5743.96,222.008 5976.59,188.375 \n",
       "  6034.75,179.967 6005.67,184.171 5773.04,217.804 6296.45,142.13 6354.61,133.722 6325.53,137.926 6063.82,175.763 6092.9,171.559 5976.59,188.375 \n",
       "  6151.06,163.151 6034.75,179.967 5918.43,196.783 5889.35,200.987 5569.49,247.232 5540.41,251.436 5773.04,217.804 5743.96,222.008 5336.86,280.865 \n",
       "  5307.78,285.069 5249.62,293.477 5162.39,306.089 5395.02,272.457 5365.94,276.661 5017,327.11 5046.07,322.906 5220.55,297.681 5162.39,306.089 5249.62,293.477 \n",
       "  5395.02,272.457 5424.1,268.253 5656.72,234.62 5685.8,230.416 5889.35,200.987 5918.43,196.783 5685.8,230.416 5656.72,234.62 5627.65,238.824 \n",
       "  5569.49,247.232 5424.1,268.253 5365.94,276.661 4871.6,348.13 4842.52,352.334 5017,327.11 5046.07,322.906 5278.7,289.273 4813.45,356.538 \n",
       "  4842.52,352.334 4638.97,381.763 4580.82,390.171 4668.05,377.559 4871.6,348.13 4842.52,352.334 4813.45,356.538 4726.21,369.151 5133.31,310.294 \n",
       "  5220.55,297.681 4784.37,360.743 4813.45,356.538 5249.62,293.477 5191.47,301.885 5627.65,238.824 5598.57,243.028 5336.86,280.865 5307.78,285.069 \n",
       "  5278.7,289.273 5540.41,251.436 5482.25,259.845 5424.1,268.253 5598.57,243.028 5540.41,251.436 5627.65,238.824 5656.72,234.62 6092.9,171.559 \n",
       "  5976.59,188.375 5918.43,196.783 5685.8,230.416 5569.49,247.232 5511.33,255.64 5569.49,247.232 5511.33,255.64 5831.2,209.396 5802.12,213.6 6151.06,163.151 \n",
       "  6238.3,150.538 6616.32,95.8853 6732.63,79.069 6761.71,74.8649 6121.98,167.355 6267.37,146.334 6558.16,104.293 6616.32,95.8853 \n",
       "  6238.3,150.538 6005.67,184.171 6034.75,179.967 6500,112.702 6383.69,129.518 5511.33,255.64 5889.35,200.987 \n",
       "  5714.88,226.212 5802.12,213.6 5685.8,230.416 4958.84,335.518 4755.29,364.947 5249.62,293.477 5336.86,280.865 5569.49,247.232 5511.33,255.64 \n",
       "  5365.94,276.661 4987.92,331.314 5075.15,318.702 5104.23,314.498 4987.92,331.314 5046.07,322.906 5017,327.11 5773.04,217.804 5860.27,205.191 5685.8,230.416 \n",
       "  5947.51,192.579 6121.98,167.355 6209.22,154.742 5598.57,243.028 5656.72,234.62 5249.62,293.477 5133.31,310.294 4726.21,369.151 4813.45,356.538 4755.29,364.947 \n",
       "  4871.6,348.13 4987.92,331.314 4842.52,352.334 4958.84,335.518 5162.39,306.089 5278.7,289.273 5598.57,243.028 5569.49,247.232 6180.14,158.947 \n",
       "  \n",
       "  \"/>\n",
       "<path clip-path=\"url(#clip3300)\" d=\"\n",
       "M412.459 527.724 L1258.48 527.724 L1258.48 406.764 L412.459 406.764  Z\n",
       "  \" fill=\"#ffffff\" fill-rule=\"evenodd\" fill-opacity=\"1\"/>\n",
       "<polyline clip-path=\"url(#clip3300)\" style=\"stroke:#000000; stroke-width:4; stroke-opacity:1; fill:none\" points=\"\n",
       "  412.459,527.724 1258.48,527.724 1258.48,406.764 412.459,406.764 412.459,527.724 \n",
       "  \"/>\n",
       "<polyline clip-path=\"url(#clip3300)\" style=\"stroke:#009af9; stroke-width:4; stroke-opacity:1; fill:none\" points=\"\n",
       "  482.459,467.244 902.459,467.244 \n",
       "  \"/>\n",
       "<path clip-path=\"url(#clip3300)\" d=\"M 0 0 M984.357 461.584 Q980.931 461.584 978.94 464.27 Q976.95 466.932 976.95 471.584 Q976.95 476.237 978.917 478.922 Q980.908 481.584 984.357 481.584 Q987.76 481.584 989.751 478.899 Q991.741 476.214 991.741 471.584 Q991.741 466.978 989.751 464.293 Q987.76 461.584 984.357 461.584 M984.357 457.973 Q989.913 457.973 993.084 461.584 Q996.255 465.195 996.255 471.584 Q996.255 477.95 993.084 481.584 Q989.913 485.195 984.357 485.195 Q978.778 485.195 975.607 481.584 Q972.459 477.95 972.459 471.584 Q972.459 465.195 975.607 461.584 Q978.778 457.973 984.357 457.973 Z\" fill=\"#000000\" fill-rule=\"evenodd\" fill-opacity=\"1\" /><path clip-path=\"url(#clip3300)\" d=\"M 0 0 M1015.75 462.58 Q1015.03 462.163 1014.17 461.978 Q1013.34 461.77 1012.32 461.77 Q1008.71 461.77 1006.76 464.131 Q1004.84 466.469 1004.84 470.867 L1004.84 484.524 L1000.56 484.524 L1000.56 458.598 L1004.84 458.598 L1004.84 462.626 Q1006.19 460.265 1008.34 459.131 Q1010.49 457.973 1013.57 457.973 Q1014.01 457.973 1014.54 458.043 Q1015.07 458.089 1015.72 458.205 L1015.75 462.58 Z\" fill=\"#000000\" fill-rule=\"evenodd\" fill-opacity=\"1\" /><path clip-path=\"url(#clip3300)\" d=\"M 0 0 M1020.21 458.598 L1024.47 458.598 L1024.47 484.524 L1020.21 484.524 L1020.21 458.598 M1020.21 448.506 L1024.47 448.506 L1024.47 453.899 L1020.21 453.899 L1020.21 448.506 Z\" fill=\"#000000\" fill-rule=\"evenodd\" fill-opacity=\"1\" /><path clip-path=\"url(#clip3300)\" d=\"M 0 0 M1046 471.26 Q1046 466.631 1044.08 464.084 Q1042.18 461.538 1038.73 461.538 Q1035.31 461.538 1033.38 464.084 Q1031.49 466.631 1031.49 471.26 Q1031.49 475.867 1033.38 478.413 Q1035.31 480.959 1038.73 480.959 Q1042.18 480.959 1044.08 478.413 Q1046 475.867 1046 471.26 M1050.26 481.307 Q1050.26 487.927 1047.32 491.144 Q1044.38 494.385 1038.32 494.385 Q1036.07 494.385 1034.08 494.038 Q1032.09 493.714 1030.21 493.019 L1030.21 488.876 Q1032.09 489.894 1033.92 490.381 Q1035.75 490.867 1037.64 490.867 Q1041.83 490.867 1043.92 488.668 Q1046 486.492 1046 482.07 L1046 479.964 Q1044.68 482.256 1042.62 483.39 Q1040.56 484.524 1037.69 484.524 Q1032.92 484.524 1030 480.89 Q1027.09 477.256 1027.09 471.26 Q1027.09 465.242 1030 461.608 Q1032.92 457.973 1037.69 457.973 Q1040.56 457.973 1042.62 459.108 Q1044.68 460.242 1046 462.533 L1046 458.598 L1050.26 458.598 L1050.26 481.307 Z\" fill=\"#000000\" fill-rule=\"evenodd\" fill-opacity=\"1\" /><path clip-path=\"url(#clip3300)\" d=\"M 0 0 M1054.73 458.598 L1058.99 458.598 L1058.99 484.524 L1054.73 484.524 L1054.73 458.598 M1054.73 448.506 L1058.99 448.506 L1058.99 453.899 L1054.73 453.899 L1054.73 448.506 Z\" fill=\"#000000\" fill-rule=\"evenodd\" fill-opacity=\"1\" /><path clip-path=\"url(#clip3300)\" d=\"M 0 0 M1085 468.876 L1085 484.524 L1080.75 484.524 L1080.75 469.015 Q1080.75 465.334 1079.31 463.506 Q1077.88 461.677 1075 461.677 Q1071.56 461.677 1069.56 463.876 Q1067.57 466.075 1067.57 469.871 L1067.57 484.524 L1063.29 484.524 L1063.29 458.598 L1067.57 458.598 L1067.57 462.626 Q1069.1 460.288 1071.16 459.131 Q1073.25 457.973 1075.95 457.973 Q1080.42 457.973 1082.71 460.751 Q1085 463.506 1085 468.876 Z\" fill=\"#000000\" fill-rule=\"evenodd\" fill-opacity=\"1\" /><path clip-path=\"url(#clip3300)\" d=\"M 0 0 M1101.25 471.492 Q1096.09 471.492 1094.1 472.672 Q1092.11 473.853 1092.11 476.7 Q1092.11 478.969 1093.59 480.311 Q1095.1 481.631 1097.67 481.631 Q1101.21 481.631 1103.34 479.131 Q1105.49 476.607 1105.49 472.441 L1105.49 471.492 L1101.25 471.492 M1109.75 469.733 L1109.75 484.524 L1105.49 484.524 L1105.49 480.589 Q1104.03 482.95 1101.86 484.084 Q1099.68 485.195 1096.53 485.195 Q1092.55 485.195 1090.19 482.973 Q1087.85 480.728 1087.85 476.978 Q1087.85 472.603 1090.77 470.381 Q1093.71 468.158 1099.52 468.158 L1105.49 468.158 L1105.49 467.742 Q1105.49 464.802 1103.55 463.205 Q1101.62 461.584 1098.13 461.584 Q1095.91 461.584 1093.8 462.117 Q1091.69 462.649 1089.75 463.714 L1089.75 459.779 Q1092.09 458.876 1094.29 458.436 Q1096.49 457.973 1098.57 457.973 Q1104.19 457.973 1106.97 460.89 Q1109.75 463.807 1109.75 469.733 Z\" fill=\"#000000\" fill-rule=\"evenodd\" fill-opacity=\"1\" /><path clip-path=\"url(#clip3300)\" d=\"M 0 0 M1114.22 448.506 L1118.48 448.506 L1118.48 484.524 L1114.22 484.524 L1114.22 448.506 Z\" fill=\"#000000\" fill-rule=\"evenodd\" fill-opacity=\"1\" /><path clip-path=\"url(#clip3300)\" d=\"\n",
       "M202.459 2223.18 L6952.76 2223.18 L6952.76 1247.24 L202.459 1247.24  Z\n",
       "  \" fill=\"#ffffff\" fill-rule=\"evenodd\" fill-opacity=\"1\"/>\n",
       "<defs>\n",
       "  <clipPath id=\"clip3303\">\n",
       "    <rect x=\"202\" y=\"1247\" width=\"6751\" height=\"977\"/>\n",
       "  </clipPath>\n",
       "</defs>\n",
       "<polyline clip-path=\"url(#clip3303)\" style=\"stroke:#000000; stroke-width:2; stroke-opacity:0.1; fill:none\" points=\"\n",
       "  1527.57,2223.18 1527.57,1247.24 \n",
       "  \"/>\n",
       "<polyline clip-path=\"url(#clip3303)\" style=\"stroke:#000000; stroke-width:2; stroke-opacity:0.1; fill:none\" points=\"\n",
       "  2981.5,2223.18 2981.5,1247.24 \n",
       "  \"/>\n",
       "<polyline clip-path=\"url(#clip3303)\" style=\"stroke:#000000; stroke-width:2; stroke-opacity:0.1; fill:none\" points=\"\n",
       "  4435.42,2223.18 4435.42,1247.24 \n",
       "  \"/>\n",
       "<polyline clip-path=\"url(#clip3303)\" style=\"stroke:#000000; stroke-width:2; stroke-opacity:0.1; fill:none\" points=\"\n",
       "  5889.35,2223.18 5889.35,1247.24 \n",
       "  \"/>\n",
       "<polyline clip-path=\"url(#clip3303)\" style=\"stroke:#000000; stroke-width:2; stroke-opacity:0.1; fill:none\" points=\"\n",
       "  202.459,2049.19 6952.76,2049.19 \n",
       "  \"/>\n",
       "<polyline clip-path=\"url(#clip3303)\" style=\"stroke:#000000; stroke-width:2; stroke-opacity:0.1; fill:none\" points=\"\n",
       "  202.459,1813.12 6952.76,1813.12 \n",
       "  \"/>\n",
       "<polyline clip-path=\"url(#clip3303)\" style=\"stroke:#000000; stroke-width:2; stroke-opacity:0.1; fill:none\" points=\"\n",
       "  202.459,1577.04 6952.76,1577.04 \n",
       "  \"/>\n",
       "<polyline clip-path=\"url(#clip3303)\" style=\"stroke:#000000; stroke-width:2; stroke-opacity:0.1; fill:none\" points=\"\n",
       "  202.459,1340.97 6952.76,1340.97 \n",
       "  \"/>\n",
       "<polyline clip-path=\"url(#clip3300)\" style=\"stroke:#000000; stroke-width:4; stroke-opacity:1; fill:none\" points=\"\n",
       "  202.459,2223.18 6952.76,2223.18 \n",
       "  \"/>\n",
       "<polyline clip-path=\"url(#clip3300)\" style=\"stroke:#000000; stroke-width:4; stroke-opacity:1; fill:none\" points=\"\n",
       "  202.459,2223.18 202.459,1247.24 \n",
       "  \"/>\n",
       "<polyline clip-path=\"url(#clip3300)\" style=\"stroke:#000000; stroke-width:4; stroke-opacity:1; fill:none\" points=\"\n",
       "  1527.57,2223.18 1527.57,2211.47 \n",
       "  \"/>\n",
       "<polyline clip-path=\"url(#clip3300)\" style=\"stroke:#000000; stroke-width:4; stroke-opacity:1; fill:none\" points=\"\n",
       "  2981.5,2223.18 2981.5,2211.47 \n",
       "  \"/>\n",
       "<polyline clip-path=\"url(#clip3300)\" style=\"stroke:#000000; stroke-width:4; stroke-opacity:1; fill:none\" points=\"\n",
       "  4435.42,2223.18 4435.42,2211.47 \n",
       "  \"/>\n",
       "<polyline clip-path=\"url(#clip3300)\" style=\"stroke:#000000; stroke-width:4; stroke-opacity:1; fill:none\" points=\"\n",
       "  5889.35,2223.18 5889.35,2211.47 \n",
       "  \"/>\n",
       "<polyline clip-path=\"url(#clip3300)\" style=\"stroke:#000000; stroke-width:4; stroke-opacity:1; fill:none\" points=\"\n",
       "  202.459,2049.19 283.463,2049.19 \n",
       "  \"/>\n",
       "<polyline clip-path=\"url(#clip3300)\" style=\"stroke:#000000; stroke-width:4; stroke-opacity:1; fill:none\" points=\"\n",
       "  202.459,1813.12 283.463,1813.12 \n",
       "  \"/>\n",
       "<polyline clip-path=\"url(#clip3300)\" style=\"stroke:#000000; stroke-width:4; stroke-opacity:1; fill:none\" points=\"\n",
       "  202.459,1577.04 283.463,1577.04 \n",
       "  \"/>\n",
       "<polyline clip-path=\"url(#clip3300)\" style=\"stroke:#000000; stroke-width:4; stroke-opacity:1; fill:none\" points=\"\n",
       "  202.459,1340.97 283.463,1340.97 \n",
       "  \"/>\n",
       "<path clip-path=\"url(#clip3300)\" d=\"M 0 0 M1517.07 2269.17 L1505.27 2287.61 L1517.07 2287.61 L1517.07 2269.17 M1515.84 2265.09 L1521.72 2265.09 L1521.72 2287.61 L1526.65 2287.61 L1526.65 2291.5 L1521.72 2291.5 L1521.72 2299.65 L1517.07 2299.65 L1517.07 2291.5 L1501.47 2291.5 L1501.47 2286.99 L1515.84 2265.09 Z\" fill=\"#000000\" fill-rule=\"evenodd\" fill-opacity=\"1\" /><path clip-path=\"url(#clip3300)\" d=\"M 0 0 M1541.72 2268.17 Q1538.11 2268.17 1536.28 2271.74 Q1534.48 2275.28 1534.48 2282.41 Q1534.48 2289.51 1536.28 2293.08 Q1538.11 2296.62 1541.72 2296.62 Q1545.36 2296.62 1547.16 2293.08 Q1548.99 2289.51 1548.99 2282.41 Q1548.99 2275.28 1547.16 2271.74 Q1545.36 2268.17 1541.72 2268.17 M1541.72 2264.47 Q1547.53 2264.47 1550.59 2269.07 Q1553.67 2273.66 1553.67 2282.41 Q1553.67 2291.13 1550.59 2295.74 Q1547.53 2300.32 1541.72 2300.32 Q1535.91 2300.32 1532.84 2295.74 Q1529.78 2291.13 1529.78 2282.41 Q1529.78 2273.66 1532.84 2269.07 Q1535.91 2264.47 1541.72 2264.47 Z\" fill=\"#000000\" fill-rule=\"evenodd\" fill-opacity=\"1\" /><path clip-path=\"url(#clip3300)\" d=\"M 0 0 M2971.5 2269.17 L2959.69 2287.61 L2971.5 2287.61 L2971.5 2269.17 M2970.27 2265.09 L2976.15 2265.09 L2976.15 2287.61 L2981.08 2287.61 L2981.08 2291.5 L2976.15 2291.5 L2976.15 2299.65 L2971.5 2299.65 L2971.5 2291.5 L2955.9 2291.5 L2955.9 2286.99 L2970.27 2265.09 Z\" fill=\"#000000\" fill-rule=\"evenodd\" fill-opacity=\"1\" /><path clip-path=\"url(#clip3300)\" d=\"M 0 0 M2986.2 2265.09 L3004.55 2265.09 L3004.55 2269.03 L2990.48 2269.03 L2990.48 2277.5 Q2991.5 2277.15 2992.52 2276.99 Q2993.53 2276.8 2994.55 2276.8 Q3000.34 2276.8 3003.72 2279.98 Q3007.1 2283.15 3007.1 2288.56 Q3007.1 2294.14 3003.63 2297.24 Q3000.15 2300.32 2993.83 2300.32 Q2991.66 2300.32 2989.39 2299.95 Q2987.15 2299.58 2984.74 2298.84 L2984.74 2294.14 Q2986.82 2295.28 2989.04 2295.83 Q2991.27 2296.39 2993.74 2296.39 Q2997.75 2296.39 3000.08 2294.28 Q3002.42 2292.18 3002.42 2288.56 Q3002.42 2284.95 3000.08 2282.85 Q2997.75 2280.74 2993.74 2280.74 Q2991.87 2280.74 2989.99 2281.16 Q2988.14 2281.57 2986.2 2282.45 L2986.2 2265.09 Z\" fill=\"#000000\" fill-rule=\"evenodd\" fill-opacity=\"1\" /><path clip-path=\"url(#clip3300)\" d=\"M 0 0 M4412.2 2265.09 L4430.55 2265.09 L4430.55 2269.03 L4416.48 2269.03 L4416.48 2277.5 Q4417.5 2277.15 4418.52 2276.99 Q4419.53 2276.8 4420.55 2276.8 Q4426.34 2276.8 4429.72 2279.98 Q4433.1 2283.15 4433.1 2288.56 Q4433.1 2294.14 4429.63 2297.24 Q4426.15 2300.32 4419.83 2300.32 Q4417.66 2300.32 4415.39 2299.95 Q4413.14 2299.58 4410.74 2298.84 L4410.74 2294.14 Q4412.82 2295.28 4415.04 2295.83 Q4417.27 2296.39 4419.74 2296.39 Q4423.75 2296.39 4426.08 2294.28 Q4428.42 2292.18 4428.42 2288.56 Q4428.42 2284.95 4426.08 2282.85 Q4423.75 2280.74 4419.74 2280.74 Q4417.87 2280.74 4415.99 2281.16 Q4414.14 2281.57 4412.2 2282.45 L4412.2 2265.09 Z\" fill=\"#000000\" fill-rule=\"evenodd\" fill-opacity=\"1\" /><path clip-path=\"url(#clip3300)\" d=\"M 0 0 M4448.17 2268.17 Q4444.56 2268.17 4442.73 2271.74 Q4440.92 2275.28 4440.92 2282.41 Q4440.92 2289.51 4442.73 2293.08 Q4444.56 2296.62 4448.17 2296.62 Q4451.8 2296.62 4453.61 2293.08 Q4455.44 2289.51 4455.44 2282.41 Q4455.44 2275.28 4453.61 2271.74 Q4451.8 2268.17 4448.17 2268.17 M4448.17 2264.47 Q4453.98 2264.47 4457.03 2269.07 Q4460.11 2273.66 4460.11 2282.41 Q4460.11 2291.13 4457.03 2295.74 Q4453.98 2300.32 4448.17 2300.32 Q4442.36 2300.32 4439.28 2295.74 Q4436.22 2291.13 4436.22 2282.41 Q4436.22 2273.66 4439.28 2269.07 Q4442.36 2264.47 4448.17 2264.47 Z\" fill=\"#000000\" fill-rule=\"evenodd\" fill-opacity=\"1\" /><path clip-path=\"url(#clip3300)\" d=\"M 0 0 M5866.62 2265.09 L5884.98 2265.09 L5884.98 2269.03 L5870.9 2269.03 L5870.9 2277.5 Q5871.92 2277.15 5872.94 2276.99 Q5873.96 2276.8 5874.98 2276.8 Q5880.77 2276.8 5884.14 2279.98 Q5887.52 2283.15 5887.52 2288.56 Q5887.52 2294.14 5884.05 2297.24 Q5880.58 2300.32 5874.26 2300.32 Q5872.08 2300.32 5869.82 2299.95 Q5867.57 2299.58 5865.16 2298.84 L5865.16 2294.14 Q5867.25 2295.28 5869.47 2295.83 Q5871.69 2296.39 5874.17 2296.39 Q5878.17 2296.39 5880.51 2294.28 Q5882.85 2292.18 5882.85 2288.56 Q5882.85 2284.95 5880.51 2282.85 Q5878.17 2280.74 5874.17 2280.74 Q5872.29 2280.74 5870.42 2281.16 Q5868.57 2281.57 5866.62 2282.45 L5866.62 2265.09 Z\" fill=\"#000000\" fill-rule=\"evenodd\" fill-opacity=\"1\" /><path clip-path=\"url(#clip3300)\" d=\"M 0 0 M5892.64 2265.09 L5911 2265.09 L5911 2269.03 L5896.92 2269.03 L5896.92 2277.5 Q5897.94 2277.15 5898.96 2276.99 Q5899.98 2276.8 5901 2276.8 Q5906.78 2276.8 5910.16 2279.98 Q5913.54 2283.15 5913.54 2288.56 Q5913.54 2294.14 5910.07 2297.24 Q5906.6 2300.32 5900.28 2300.32 Q5898.1 2300.32 5895.83 2299.95 Q5893.59 2299.58 5891.18 2298.84 L5891.18 2294.14 Q5893.26 2295.28 5895.49 2295.83 Q5897.71 2296.39 5900.19 2296.39 Q5904.19 2296.39 5906.53 2294.28 Q5908.87 2292.18 5908.87 2288.56 Q5908.87 2284.95 5906.53 2282.85 Q5904.19 2280.74 5900.19 2280.74 Q5898.31 2280.74 5896.44 2281.16 Q5894.58 2281.57 5892.64 2282.45 L5892.64 2265.09 Z\" fill=\"#000000\" fill-rule=\"evenodd\" fill-opacity=\"1\" /><path clip-path=\"url(#clip3300)\" d=\"M 0 0 M95.8619 2035.99 L84.0564 2054.44 L95.8619 2054.44 L95.8619 2035.99 M94.6351 2031.91 L100.515 2031.91 L100.515 2054.44 L105.445 2054.44 L105.445 2058.32 L100.515 2058.32 L100.515 2066.47 L95.8619 2066.47 L95.8619 2058.32 L80.2602 2058.32 L80.2602 2053.81 L94.6351 2031.91 Z\" fill=\"#000000\" fill-rule=\"evenodd\" fill-opacity=\"1\" /><path clip-path=\"url(#clip3300)\" d=\"M 0 0 M120.515 2034.99 Q116.903 2034.99 115.075 2038.56 Q113.269 2042.1 113.269 2049.23 Q113.269 2056.33 115.075 2059.9 Q116.903 2063.44 120.515 2063.44 Q124.149 2063.44 125.954 2059.9 Q127.783 2056.33 127.783 2049.23 Q127.783 2042.1 125.954 2038.56 Q124.149 2034.99 120.515 2034.99 M120.515 2031.29 Q126.325 2031.29 129.38 2035.89 Q132.459 2040.48 132.459 2049.23 Q132.459 2057.95 129.38 2062.56 Q126.325 2067.14 120.515 2067.14 Q114.704 2067.14 111.626 2062.56 Q108.57 2057.95 108.57 2049.23 Q108.57 2040.48 111.626 2035.89 Q114.704 2031.29 120.515 2031.29 Z\" fill=\"#000000\" fill-rule=\"evenodd\" fill-opacity=\"1\" /><path clip-path=\"url(#clip3300)\" d=\"M 0 0 M96.8573 1799.91 L85.0518 1818.36 L96.8573 1818.36 L96.8573 1799.91 M95.6304 1795.84 L101.51 1795.84 L101.51 1818.36 L106.441 1818.36 L106.441 1822.25 L101.51 1822.25 L101.51 1830.4 L96.8573 1830.4 L96.8573 1822.25 L81.2555 1822.25 L81.2555 1817.73 L95.6304 1795.84 Z\" fill=\"#000000\" fill-rule=\"evenodd\" fill-opacity=\"1\" /><path clip-path=\"url(#clip3300)\" d=\"M 0 0 M111.556 1795.84 L129.913 1795.84 L129.913 1799.77 L115.839 1799.77 L115.839 1808.24 Q116.857 1807.9 117.876 1807.73 Q118.894 1807.55 119.913 1807.55 Q125.7 1807.55 129.079 1810.72 Q132.459 1813.89 132.459 1819.31 Q132.459 1824.89 128.987 1827.99 Q125.515 1831.07 119.195 1831.07 Q117.019 1831.07 114.751 1830.7 Q112.505 1830.33 110.098 1829.59 L110.098 1824.89 Q112.181 1826.02 114.403 1826.58 Q116.626 1827.13 119.103 1827.13 Q123.107 1827.13 125.445 1825.03 Q127.783 1822.92 127.783 1819.31 Q127.783 1815.7 125.445 1813.59 Q123.107 1811.48 119.103 1811.48 Q117.228 1811.48 115.353 1811.9 Q113.501 1812.32 111.556 1813.2 L111.556 1795.84 Z\" fill=\"#000000\" fill-rule=\"evenodd\" fill-opacity=\"1\" /><path clip-path=\"url(#clip3300)\" d=\"M 0 0 M84.5425 1559.76 L102.899 1559.76 L102.899 1563.7 L88.8249 1563.7 L88.8249 1572.17 Q89.8434 1571.82 90.862 1571.66 Q91.8805 1571.47 92.899 1571.47 Q98.686 1571.47 102.066 1574.65 Q105.445 1577.82 105.445 1583.23 Q105.445 1588.81 101.973 1591.91 Q98.5008 1594.99 92.1814 1594.99 Q90.0055 1594.99 87.737 1594.62 Q85.4916 1594.25 83.0842 1593.51 L83.0842 1588.81 Q85.1675 1589.95 87.3897 1590.5 Q89.612 1591.06 92.0888 1591.06 Q96.0934 1591.06 98.4314 1588.95 Q100.769 1586.84 100.769 1583.23 Q100.769 1579.62 98.4314 1577.52 Q96.0934 1575.41 92.0888 1575.41 Q90.2138 1575.41 88.3388 1575.83 Q86.487 1576.24 84.5425 1577.12 L84.5425 1559.76 Z\" fill=\"#000000\" fill-rule=\"evenodd\" fill-opacity=\"1\" /><path clip-path=\"url(#clip3300)\" d=\"M 0 0 M120.515 1562.84 Q116.903 1562.84 115.075 1566.4 Q113.269 1569.95 113.269 1577.08 Q113.269 1584.18 115.075 1587.75 Q116.903 1591.29 120.515 1591.29 Q124.149 1591.29 125.954 1587.75 Q127.783 1584.18 127.783 1577.08 Q127.783 1569.95 125.954 1566.4 Q124.149 1562.84 120.515 1562.84 M120.515 1559.14 Q126.325 1559.14 129.38 1563.74 Q132.459 1568.33 132.459 1577.08 Q132.459 1585.8 129.38 1590.41 Q126.325 1594.99 120.515 1594.99 Q114.704 1594.99 111.626 1590.41 Q108.57 1585.8 108.57 1577.08 Q108.57 1568.33 111.626 1563.74 Q114.704 1559.14 120.515 1559.14 Z\" fill=\"#000000\" fill-rule=\"evenodd\" fill-opacity=\"1\" /><path clip-path=\"url(#clip3300)\" d=\"M 0 0 M85.5379 1323.69 L103.894 1323.69 L103.894 1327.62 L89.8203 1327.62 L89.8203 1336.09 Q90.8388 1335.75 91.8573 1335.58 Q92.8758 1335.4 93.8943 1335.4 Q99.6813 1335.4 103.061 1338.57 Q106.441 1341.74 106.441 1347.16 Q106.441 1352.74 102.968 1355.84 Q99.4962 1358.92 93.1768 1358.92 Q91.0008 1358.92 88.7323 1358.55 Q86.487 1358.18 84.0796 1357.44 L84.0796 1352.74 Q86.1629 1353.87 88.3851 1354.43 Q90.6073 1354.98 93.0842 1354.98 Q97.0888 1354.98 99.4267 1352.88 Q101.765 1350.77 101.765 1347.16 Q101.765 1343.55 99.4267 1341.44 Q97.0888 1339.33 93.0842 1339.33 Q91.2092 1339.33 89.3342 1339.75 Q87.4823 1340.17 85.5379 1341.05 L85.5379 1323.69 Z\" fill=\"#000000\" fill-rule=\"evenodd\" fill-opacity=\"1\" /><path clip-path=\"url(#clip3300)\" d=\"M 0 0 M111.556 1323.69 L129.913 1323.69 L129.913 1327.62 L115.839 1327.62 L115.839 1336.09 Q116.857 1335.75 117.876 1335.58 Q118.894 1335.4 119.913 1335.4 Q125.7 1335.4 129.079 1338.57 Q132.459 1341.74 132.459 1347.16 Q132.459 1352.74 128.987 1355.84 Q125.515 1358.92 119.195 1358.92 Q117.019 1358.92 114.751 1358.55 Q112.505 1358.18 110.098 1357.44 L110.098 1352.74 Q112.181 1353.87 114.403 1354.43 Q116.626 1354.98 119.103 1354.98 Q123.107 1354.98 125.445 1352.88 Q127.783 1350.77 127.783 1347.16 Q127.783 1343.55 125.445 1341.44 Q123.107 1339.33 119.103 1339.33 Q117.228 1339.33 115.353 1339.75 Q113.501 1340.17 111.556 1341.05 L111.556 1323.69 Z\" fill=\"#000000\" fill-rule=\"evenodd\" fill-opacity=\"1\" /><path clip-path=\"url(#clip3300)\" d=\"M 0 0 M3523.37 2356.27 L3523.37 2366.4 L3535.43 2366.4 L3535.43 2370.95 L3523.37 2370.95 L3523.37 2390.3 Q3523.37 2394.66 3524.55 2395.9 Q3525.76 2397.14 3529.42 2397.14 L3535.43 2397.14 L3535.43 2402.04 L3529.42 2402.04 Q3522.64 2402.04 3520.06 2399.53 Q3517.48 2396.98 3517.48 2390.3 L3517.48 2370.95 L3513.19 2370.95 L3513.19 2366.4 L3517.48 2366.4 L3517.48 2356.27 L3523.37 2356.27 Z\" fill=\"#000000\" fill-rule=\"evenodd\" fill-opacity=\"1\" /><path clip-path=\"url(#clip3300)\" d=\"M 0 0 M3541.58 2366.4 L3547.43 2366.4 L3547.43 2402.04 L3541.58 2402.04 L3541.58 2366.4 M3541.58 2352.52 L3547.43 2352.52 L3547.43 2359.93 L3541.58 2359.93 L3541.58 2352.52 Z\" fill=\"#000000\" fill-rule=\"evenodd\" fill-opacity=\"1\" /><path clip-path=\"url(#clip3300)\" d=\"M 0 0 M3581.33 2373.24 Q3583.53 2369.29 3586.58 2367.41 Q3589.64 2365.54 3593.78 2365.54 Q3599.35 2365.54 3602.37 2369.45 Q3605.39 2373.33 3605.39 2380.53 L3605.39 2402.04 L3599.51 2402.04 L3599.51 2380.72 Q3599.51 2375.59 3597.69 2373.11 Q3595.88 2370.63 3592.15 2370.63 Q3587.6 2370.63 3584.96 2373.65 Q3582.32 2376.68 3582.32 2381.9 L3582.32 2402.04 L3576.43 2402.04 L3576.43 2380.72 Q3576.43 2375.56 3574.62 2373.11 Q3572.8 2370.63 3569.01 2370.63 Q3564.53 2370.63 3561.88 2373.68 Q3559.24 2376.71 3559.24 2381.9 L3559.24 2402.04 L3553.35 2402.04 L3553.35 2366.4 L3559.24 2366.4 L3559.24 2371.93 Q3561.25 2368.66 3564.05 2367.1 Q3566.85 2365.54 3570.7 2365.54 Q3574.58 2365.54 3577.29 2367.51 Q3580.03 2369.48 3581.33 2373.24 Z\" fill=\"#000000\" fill-rule=\"evenodd\" fill-opacity=\"1\" /><path clip-path=\"url(#clip3300)\" d=\"M 0 0 M3642.03 2382.76 L3642.03 2385.62 L3615.1 2385.62 Q3615.48 2391.67 3618.73 2394.85 Q3622.01 2398 3627.83 2398 Q3631.21 2398 3634.36 2397.17 Q3637.54 2396.35 3640.66 2394.69 L3640.66 2400.23 Q3637.51 2401.57 3634.2 2402.27 Q3630.89 2402.97 3627.48 2402.97 Q3618.95 2402.97 3613.96 2398 Q3608.99 2393.04 3608.99 2384.57 Q3608.99 2375.82 3613.7 2370.69 Q3618.44 2365.54 3626.46 2365.54 Q3633.66 2365.54 3637.83 2370.18 Q3642.03 2374.8 3642.03 2382.76 M3636.17 2381.04 Q3636.11 2376.23 3633.47 2373.37 Q3630.86 2370.5 3626.53 2370.5 Q3621.63 2370.5 3618.67 2373.27 Q3615.74 2376.04 3615.29 2381.07 L3636.17 2381.04 Z\" fill=\"#000000\" fill-rule=\"evenodd\" fill-opacity=\"1\" /><path clip-path=\"url(#clip3300)\" d=\"M 0 0 M-39.6438 1871.61 L-39.6438 1865.76 L-3.99584 1865.76 L-3.99584 1871.61 L-39.6438 1871.61 M-53.521 1871.61 L-53.521 1865.76 L-46.105 1865.76 L-46.105 1871.61 L-53.521 1871.61 Z\" fill=\"#000000\" fill-rule=\"evenodd\" fill-opacity=\"1\" /><path clip-path=\"url(#clip3300)\" d=\"M 0 0 M-25.5119 1829.98 L-3.99584 1829.98 L-3.99584 1835.84 L-25.321 1835.84 Q-30.3817 1835.84 -32.8962 1837.81 Q-35.4106 1839.78 -35.4106 1843.73 Q-35.4106 1848.47 -32.3869 1851.21 Q-29.3632 1853.95 -24.1433 1853.95 L-3.99584 1853.95 L-3.99584 1859.84 L-39.6438 1859.84 L-39.6438 1853.95 L-34.1056 1853.95 Q-37.3203 1851.85 -38.9117 1849.01 Q-40.5032 1846.15 -40.5032 1842.43 Q-40.5032 1836.28 -36.6837 1833.13 Q-32.8962 1829.98 -25.5119 1829.98 Z\" fill=\"#000000\" fill-rule=\"evenodd\" fill-opacity=\"1\" /><path clip-path=\"url(#clip3300)\" d=\"M 0 0 M-34.2329 1800.38 L-53.521 1800.38 L-53.521 1794.52 L-3.99584 1794.52 L-3.99584 1800.38 L-9.34304 1800.38 Q-6.16018 1802.23 -4.60058 1805.06 Q-3.07282 1807.86 -3.07282 1811.81 Q-3.07282 1818.27 -8.22904 1822.34 Q-13.3853 1826.38 -21.788 1826.38 Q-30.1907 1826.38 -35.3469 1822.34 Q-40.5032 1818.27 -40.5032 1811.81 Q-40.5032 1807.86 -38.9436 1805.06 Q-37.4158 1802.23 -34.2329 1800.38 M-21.788 1820.34 Q-15.3268 1820.34 -11.6347 1817.7 Q-7.97441 1815.02 -7.97441 1810.38 Q-7.97441 1805.73 -11.6347 1803.05 Q-15.3268 1800.38 -21.788 1800.38 Q-28.2492 1800.38 -31.9095 1803.05 Q-35.6016 1805.73 -35.6016 1810.38 Q-35.6016 1815.02 -31.9095 1817.7 Q-28.2492 1820.34 -21.788 1820.34 Z\" fill=\"#000000\" fill-rule=\"evenodd\" fill-opacity=\"1\" /><path clip-path=\"url(#clip3300)\" d=\"M 0 0 M-39.6438 1788.38 L-39.6438 1782.53 L-3.99584 1782.53 L-3.99584 1788.38 L-39.6438 1788.38 M-53.521 1788.38 L-53.521 1782.53 L-46.105 1782.53 L-46.105 1788.38 L-53.521 1788.38 Z\" fill=\"#000000\" fill-rule=\"evenodd\" fill-opacity=\"1\" /><path clip-path=\"url(#clip3300)\" d=\"M 0 0 M-38.2752 1750.73 L-32.8007 1750.73 Q-34.1693 1753.21 -34.8377 1755.73 Q-35.5379 1758.21 -35.5379 1760.75 Q-35.5379 1766.45 -31.9095 1769.6 Q-28.3128 1772.75 -21.788 1772.75 Q-15.2631 1772.75 -11.6347 1769.6 Q-8.03807 1766.45 -8.03807 1760.75 Q-8.03807 1758.21 -8.70647 1755.73 Q-9.40669 1753.21 -10.7753 1750.73 L-5.36447 1750.73 Q-4.21864 1753.18 -3.64573 1755.82 Q-3.07282 1758.43 -3.07282 1761.39 Q-3.07282 1769.44 -8.13355 1774.19 Q-13.1943 1778.93 -21.788 1778.93 Q-30.509 1778.93 -35.5061 1774.15 Q-40.5032 1769.35 -40.5032 1761.01 Q-40.5032 1758.3 -39.9303 1755.73 Q-39.3892 1753.15 -38.2752 1750.73 Z\" fill=\"#000000\" fill-rule=\"evenodd\" fill-opacity=\"1\" /><path clip-path=\"url(#clip3300)\" d=\"M 0 0 M-21.9153 1728.38 Q-21.9153 1735.48 -20.2921 1738.22 Q-18.6688 1740.96 -14.7539 1740.96 Q-11.6347 1740.96 -9.78864 1738.92 Q-7.97441 1736.85 -7.97441 1733.32 Q-7.97441 1728.45 -11.4119 1725.52 Q-14.8812 1722.56 -20.6103 1722.56 L-21.9153 1722.56 L-21.9153 1728.38 M-24.3343 1716.7 L-3.99584 1716.7 L-3.99584 1722.56 L-9.40669 1722.56 Q-6.16018 1724.57 -4.60058 1727.56 Q-3.07282 1730.55 -3.07282 1734.88 Q-3.07282 1740.35 -6.12835 1743.6 Q-9.21572 1746.81 -14.3719 1746.81 Q-20.3875 1746.81 -23.4431 1742.8 Q-26.4986 1738.76 -26.4986 1730.77 L-26.4986 1722.56 L-27.0715 1722.56 Q-31.1138 1722.56 -33.3099 1725.23 Q-35.5379 1727.88 -35.5379 1732.68 Q-35.5379 1735.74 -34.8059 1738.63 Q-34.0738 1741.53 -32.6097 1744.2 L-38.0205 1744.2 Q-39.2619 1740.99 -39.8666 1737.97 Q-40.5032 1734.94 -40.5032 1732.08 Q-40.5032 1724.34 -36.4928 1720.52 Q-32.4824 1716.7 -24.3343 1716.7 Z\" fill=\"#000000\" fill-rule=\"evenodd\" fill-opacity=\"1\" /><path clip-path=\"url(#clip3300)\" d=\"M 0 0 M-49.7653 1704.77 L-39.6438 1704.77 L-39.6438 1692.7 L-35.0923 1692.7 L-35.0923 1704.77 L-15.7406 1704.77 Q-11.3801 1704.77 -10.1387 1703.59 Q-8.89744 1702.38 -8.89744 1698.72 L-8.89744 1692.7 L-3.99584 1692.7 L-3.99584 1698.72 Q-3.99584 1705.5 -6.5103 1708.08 Q-9.05658 1710.66 -15.7406 1710.66 L-35.0923 1710.66 L-35.0923 1714.95 L-39.6438 1714.95 L-39.6438 1710.66 L-49.7653 1710.66 L-49.7653 1704.77 Z\" fill=\"#000000\" fill-rule=\"evenodd\" fill-opacity=\"1\" /><path clip-path=\"url(#clip3300)\" d=\"M 0 0 M-35.5379 1672.75 Q-35.5379 1677.46 -31.8458 1680.2 Q-28.1855 1682.93 -21.788 1682.93 Q-15.3905 1682.93 -11.6983 1680.23 Q-8.03807 1677.49 -8.03807 1672.75 Q-8.03807 1668.07 -11.7302 1665.33 Q-15.4223 1662.6 -21.788 1662.6 Q-28.1219 1662.6 -31.814 1665.33 Q-35.5379 1668.07 -35.5379 1672.75 M-40.5032 1672.75 Q-40.5032 1665.11 -35.5379 1660.75 Q-30.5727 1656.39 -21.788 1656.39 Q-13.0351 1656.39 -8.03807 1660.75 Q-3.07282 1665.11 -3.07282 1672.75 Q-3.07282 1680.42 -8.03807 1684.78 Q-13.0351 1689.11 -21.788 1689.11 Q-30.5727 1689.11 -35.5379 1684.78 Q-40.5032 1680.42 -40.5032 1672.75 Z\" fill=\"#000000\" fill-rule=\"evenodd\" fill-opacity=\"1\" /><path clip-path=\"url(#clip3300)\" d=\"M 0 0 M-34.1693 1629.59 Q-34.7422 1630.58 -34.9968 1631.75 Q-35.2833 1632.9 -35.2833 1634.3 Q-35.2833 1639.26 -32.0368 1641.94 Q-28.8221 1644.58 -22.7747 1644.58 L-3.99584 1644.58 L-3.99584 1650.47 L-39.6438 1650.47 L-39.6438 1644.58 L-34.1056 1644.58 Q-37.3521 1642.73 -38.9117 1639.77 Q-40.5032 1636.81 -40.5032 1632.58 Q-40.5032 1631.98 -40.4077 1631.24 Q-40.344 1630.51 -40.1849 1629.62 L-34.1693 1629.59 Z\" fill=\"#000000\" fill-rule=\"evenodd\" fill-opacity=\"1\" /><path clip-path=\"url(#clip3300)\" d=\"M 0 0 M-38.5935 1600.72 L-33.0553 1600.72 Q-34.3284 1603.2 -34.965 1605.88 Q-35.6016 1608.55 -35.6016 1611.41 Q-35.6016 1615.78 -34.2648 1617.97 Q-32.928 1620.14 -30.2544 1620.14 Q-28.2174 1620.14 -27.0397 1618.58 Q-25.8939 1617.02 -24.8435 1612.31 L-24.3979 1610.3 Q-23.0611 1604.06 -20.6103 1601.45 Q-18.1914 1598.81 -13.8309 1598.81 Q-8.86561 1598.81 -5.96921 1602.76 Q-3.07282 1606.67 -3.07282 1613.55 Q-3.07282 1616.41 -3.64573 1619.53 Q-4.18681 1622.62 -5.30081 1626.06 L-11.3482 1626.06 Q-9.66132 1622.81 -8.80195 1619.66 Q-7.97441 1616.51 -7.97441 1613.42 Q-7.97441 1609.28 -9.37486 1607.05 Q-10.8071 1604.83 -13.3853 1604.83 Q-15.7724 1604.83 -17.0455 1606.45 Q-18.3187 1608.04 -19.4963 1613.48 L-19.9738 1615.52 Q-21.1196 1620.96 -23.4749 1623.38 Q-25.862 1625.8 -29.9998 1625.8 Q-35.0287 1625.8 -37.7659 1622.24 Q-40.5032 1618.67 -40.5032 1612.12 Q-40.5032 1608.87 -40.0257 1606 Q-39.5483 1603.14 -38.5935 1600.72 Z\" fill=\"#000000\" fill-rule=\"evenodd\" fill-opacity=\"1\" /><polyline clip-path=\"url(#clip3303)\" style=\"stroke:#009af9; stroke-width:4; stroke-opacity:1; fill:none\" points=\"\n",
       "  5482.25,1525.1 4697.13,1515.66 4813.45,1591.21 4377.27,1595.93 4319.11,1940.6 1469.41,2058.64 1469.41,2148.34 393.505,2195.56 626.134,1695.08 3999.25,1614.81 \n",
       "  4202.8,1553.43 4638.97,1539.27 4668.05,1534.55 4987.92,1496.78 4929.76,1468.45 5133.31,1459 5162.39,1463.73 5191.47,1473.17 5075.15,1510.94 4813.45,1506.22 \n",
       "  4871.6,1529.83 4755.29,1529.83 4726.21,1558.16 4522.66,1581.76 4406.35,1567.6 4551.74,1577.04 4435.42,1562.88 4609.9,1572.32 4464.5,1529.83 4580.82,1548.71 \n",
       "  4609.9,1440.12 5191.47,1463.73 5133.31,1444.84 5133.31,1459 5162.39,1411.79 5307.78,1402.35 5511.33,1388.18 5860.27,1345.69 5860.27,1378.74 5540.41,1336.24 \n",
       "  5569.49,1298.47 5976.59,1293.75 6005.67,1284.31 6092.9,1289.03 6151.06,1284.31 6063.82,1322.08 6063.82,1378.74 5802.12,1374.02 5743.96,1326.8 5976.59,1312.64 \n",
       "  6034.75,1331.52 6005.67,1340.97 5773.04,1284.31 6296.45,1284.31 6354.61,1274.86 6325.53,1279.59 6063.82,1312.64 6092.9,1322.08 5976.59,1293.75 \n",
       "  6151.06,1340.97 6034.75,1345.69 6034.75,1303.19 5918.43,1289.03 5889.35,1416.51 5569.49,1425.95 5540.41,1355.13 5773.04,1359.85 5743.96,1435.4 5336.86,1440.12 \n",
       "  5307.78,1454.28 5249.62,1440.12 5162.39,1425.95 5395.02,1454.28 5365.94,1482.61 5017,1463.73 5046.07,1454.28 5220.55,1454.28 5162.39,1444.84 \n",
       "  \"/>\n",
       "<path clip-path=\"url(#clip3300)\" d=\"\n",
       "M412.459 1727.72 L1338.87 1727.72 L1338.87 1606.76 L412.459 1606.76  Z\n",
       "  \" fill=\"#ffffff\" fill-rule=\"evenodd\" fill-opacity=\"1\"/>\n",
       "<polyline clip-path=\"url(#clip3300)\" style=\"stroke:#000000; stroke-width:4; stroke-opacity:1; fill:none\" points=\"\n",
       "  412.459,1727.72 1338.87,1727.72 1338.87,1606.76 412.459,1606.76 412.459,1727.72 \n",
       "  \"/>\n",
       "<polyline clip-path=\"url(#clip3300)\" style=\"stroke:#009af9; stroke-width:4; stroke-opacity:1; fill:none\" points=\"\n",
       "  482.459,1667.24 902.459,1667.24 \n",
       "  \"/>\n",
       "<path clip-path=\"url(#clip3300)\" d=\"M 0 0 M994.172 1668.88 L994.172 1684.52 L989.913 1684.52 L989.913 1669.01 Q989.913 1665.33 988.477 1663.51 Q987.042 1661.68 984.172 1661.68 Q980.723 1661.68 978.732 1663.88 Q976.741 1666.08 976.741 1669.87 L976.741 1684.52 L972.459 1684.52 L972.459 1658.6 L976.741 1658.6 L976.741 1662.63 Q978.269 1660.29 980.329 1659.13 Q982.413 1657.97 985.121 1657.97 Q989.588 1657.97 991.88 1660.75 Q994.172 1663.51 994.172 1668.88 Z\" fill=\"#000000\" fill-rule=\"evenodd\" fill-opacity=\"1\" /><path clip-path=\"url(#clip3300)\" d=\"M 0 0 M1008.69 1661.58 Q1005.26 1661.58 1003.27 1664.27 Q1001.28 1666.93 1001.28 1671.58 Q1001.28 1676.24 1003.25 1678.92 Q1005.24 1681.58 1008.69 1681.58 Q1012.09 1681.58 1014.08 1678.9 Q1016.07 1676.21 1016.07 1671.58 Q1016.07 1666.98 1014.08 1664.29 Q1012.09 1661.58 1008.69 1661.58 M1008.69 1657.97 Q1014.24 1657.97 1017.41 1661.58 Q1020.58 1665.2 1020.58 1671.58 Q1020.58 1677.95 1017.41 1681.58 Q1014.24 1685.2 1008.69 1685.2 Q1003.11 1685.2 999.936 1681.58 Q996.788 1677.95 996.788 1671.58 Q996.788 1665.2 999.936 1661.58 Q1003.11 1657.97 1008.69 1657.97 Z\" fill=\"#000000\" fill-rule=\"evenodd\" fill-opacity=\"1\" /><path clip-path=\"url(#clip3300)\" d=\"M 0 0 M1040.07 1662.58 Q1039.36 1662.16 1038.5 1661.98 Q1037.67 1661.77 1036.65 1661.77 Q1033.04 1661.77 1031.09 1664.13 Q1029.17 1666.47 1029.17 1670.87 L1029.17 1684.52 L1024.89 1684.52 L1024.89 1658.6 L1029.17 1658.6 L1029.17 1662.63 Q1030.51 1660.26 1032.67 1659.13 Q1034.82 1657.97 1037.9 1657.97 Q1038.34 1657.97 1038.87 1658.04 Q1039.4 1658.09 1040.05 1658.2 L1040.07 1662.58 Z\" fill=\"#000000\" fill-rule=\"evenodd\" fill-opacity=\"1\" /><path clip-path=\"url(#clip3300)\" d=\"M 0 0 M1063.89 1663.58 Q1065.49 1660.7 1067.71 1659.34 Q1069.94 1657.97 1072.94 1657.97 Q1077 1657.97 1079.19 1660.82 Q1081.39 1663.64 1081.39 1668.88 L1081.39 1684.52 L1077.11 1684.52 L1077.11 1669.01 Q1077.11 1665.29 1075.79 1663.48 Q1074.47 1661.68 1071.76 1661.68 Q1068.45 1661.68 1066.53 1663.88 Q1064.61 1666.08 1064.61 1669.87 L1064.61 1684.52 L1060.33 1684.52 L1060.33 1669.01 Q1060.33 1665.26 1059.01 1663.48 Q1057.69 1661.68 1054.94 1661.68 Q1051.67 1661.68 1049.75 1663.9 Q1047.83 1666.1 1047.83 1669.87 L1047.83 1684.52 L1043.55 1684.52 L1043.55 1658.6 L1047.83 1658.6 L1047.83 1662.63 Q1049.29 1660.24 1051.32 1659.11 Q1053.36 1657.97 1056.16 1657.97 Q1058.99 1657.97 1060.95 1659.41 Q1062.94 1660.84 1063.89 1663.58 Z\" fill=\"#000000\" fill-rule=\"evenodd\" fill-opacity=\"1\" /><path clip-path=\"url(#clip3300)\" d=\"M 0 0 M1097.64 1671.49 Q1092.48 1671.49 1090.49 1672.67 Q1088.5 1673.85 1088.5 1676.7 Q1088.5 1678.97 1089.98 1680.31 Q1091.49 1681.63 1094.06 1681.63 Q1097.6 1681.63 1099.73 1679.13 Q1101.88 1676.61 1101.88 1672.44 L1101.88 1671.49 L1097.64 1671.49 M1106.14 1669.73 L1106.14 1684.52 L1101.88 1684.52 L1101.88 1680.59 Q1100.42 1682.95 1098.25 1684.08 Q1096.07 1685.2 1092.92 1685.2 Q1088.94 1685.2 1086.58 1682.97 Q1084.24 1680.73 1084.24 1676.98 Q1084.24 1672.6 1087.16 1670.38 Q1090.1 1668.16 1095.91 1668.16 L1101.88 1668.16 L1101.88 1667.74 Q1101.88 1664.8 1099.94 1663.2 Q1098.01 1661.58 1094.52 1661.58 Q1092.3 1661.58 1090.19 1662.12 Q1088.08 1662.65 1086.14 1663.71 L1086.14 1659.78 Q1088.48 1658.88 1090.68 1658.44 Q1092.87 1657.97 1094.96 1657.97 Q1100.58 1657.97 1103.36 1660.89 Q1106.14 1663.81 1106.14 1669.73 Z\" fill=\"#000000\" fill-rule=\"evenodd\" fill-opacity=\"1\" /><path clip-path=\"url(#clip3300)\" d=\"M 0 0 M1110.61 1648.51 L1114.87 1648.51 L1114.87 1684.52 L1110.61 1684.52 L1110.61 1648.51 Z\" fill=\"#000000\" fill-rule=\"evenodd\" fill-opacity=\"1\" /><path clip-path=\"url(#clip3300)\" d=\"M 0 0 M1119.33 1658.6 L1123.59 1658.6 L1123.59 1684.52 L1119.33 1684.52 L1119.33 1658.6 M1119.33 1648.51 L1123.59 1648.51 L1123.59 1653.9 L1119.33 1653.9 L1119.33 1648.51 Z\" fill=\"#000000\" fill-rule=\"evenodd\" fill-opacity=\"1\" /><path clip-path=\"url(#clip3300)\" d=\"M 0 0 M1126.21 1658.6 L1146.44 1658.6 L1146.44 1662.49 L1130.42 1681.12 L1146.44 1681.12 L1146.44 1684.52 L1125.63 1684.52 L1125.63 1680.64 L1141.65 1662 L1126.21 1662 L1126.21 1658.6 Z\" fill=\"#000000\" fill-rule=\"evenodd\" fill-opacity=\"1\" /><path clip-path=\"url(#clip3300)\" d=\"M 0 0 M1173.08 1670.5 L1173.08 1672.58 L1153.5 1672.58 Q1153.78 1676.98 1156.14 1679.29 Q1158.52 1681.58 1162.76 1681.58 Q1165.21 1681.58 1167.5 1680.98 Q1169.82 1680.38 1172.09 1679.18 L1172.09 1683.2 Q1169.8 1684.18 1167.39 1684.69 Q1164.98 1685.2 1162.5 1685.2 Q1156.3 1685.2 1152.67 1681.58 Q1149.06 1677.97 1149.06 1671.82 Q1149.06 1665.45 1152.48 1661.72 Q1155.93 1657.97 1161.76 1657.97 Q1166.99 1657.97 1170.03 1661.35 Q1173.08 1664.71 1173.08 1670.5 M1168.82 1669.25 Q1168.78 1665.75 1166.86 1663.67 Q1164.96 1661.58 1161.81 1661.58 Q1158.24 1661.58 1156.09 1663.6 Q1153.96 1665.61 1153.64 1669.27 L1168.82 1669.25 Z\" fill=\"#000000\" fill-rule=\"evenodd\" fill-opacity=\"1\" /><path clip-path=\"url(#clip3300)\" d=\"M 0 0 M1194.61 1662.53 L1194.61 1648.51 L1198.87 1648.51 L1198.87 1684.52 L1194.61 1684.52 L1194.61 1680.64 Q1193.27 1682.95 1191.21 1684.08 Q1189.17 1685.2 1186.3 1685.2 Q1181.6 1685.2 1178.64 1681.45 Q1175.7 1677.7 1175.7 1671.58 Q1175.7 1665.47 1178.64 1661.72 Q1181.6 1657.97 1186.3 1657.97 Q1189.17 1657.97 1191.21 1659.11 Q1193.27 1660.22 1194.61 1662.53 M1180.1 1671.58 Q1180.1 1676.28 1182.02 1678.97 Q1183.96 1681.63 1187.34 1681.63 Q1190.72 1681.63 1192.67 1678.97 Q1194.61 1676.28 1194.61 1671.58 Q1194.61 1666.89 1192.67 1664.22 Q1190.72 1661.54 1187.34 1661.54 Q1183.96 1661.54 1182.02 1664.22 Q1180.1 1666.89 1180.1 1671.58 Z\" fill=\"#000000\" fill-rule=\"evenodd\" fill-opacity=\"1\" /></svg>\n"
      ]
     },
     "execution_count": 20,
     "metadata": {},
     "output_type": "execute_result"
    }
   ],
   "source": [
    "gr()\n",
    "plot(periods, \n",
    "    [df_Markkit_Mfc_PMI[:,2]  df_Markkit_Mfc_PMI[:,3]  ], \n",
    "    label    = [\"original\" \"normalized\"],\n",
    "    legend    =:topleft, # :right, :left, :top, :bottom, :inside, :best, :legend, :topright, :topleft, :bottomleft, :bottomright\n",
    "    xlabel   = \"time\",\n",
    "    ylabel   = \"indicators\",\n",
    "    size     = (1750, 600), # width, height\n",
    "    layout = (2, 1)\n",
    "    )"
   ]
  },
  {
   "cell_type": "markdown",
   "metadata": {},
   "source": [
    "# Extract Data"
   ]
  },
  {
   "cell_type": "code",
   "execution_count": null,
   "metadata": {},
   "outputs": [],
   "source": [
    "# rotate the matrix (switch columns to rows) - does not work on DataFrame)\n",
    "# data = data' "
   ]
  },
  {
   "cell_type": "markdown",
   "metadata": {},
   "source": [
    "## Extract Independent Variables (i.e. features)"
   ]
  },
  {
   "cell_type": "code",
   "execution_count": null,
   "metadata": {},
   "outputs": [],
   "source": [
    "x = rawdata[1:13,:]     # independent variables: all rows before last"
   ]
  },
  {
   "cell_type": "markdown",
   "metadata": {},
   "source": [
    "## Extract Dependent Variable (i.e. price)"
   ]
  },
  {
   "cell_type": "code",
   "execution_count": null,
   "metadata": {},
   "outputs": [],
   "source": [
    "y = rawdata[14:14,:]          # Dependent Variable (price) last ROW"
   ]
  },
  {
   "cell_type": "markdown",
   "metadata": {},
   "source": [
    "# Normalize the data"
   ]
  },
  {
   "cell_type": "markdown",
   "metadata": {},
   "source": [
    "## Show mean() values \n",
    "\n",
    "Calculate mean values for each feature in the 2-dimentional matrix."
   ]
  },
  {
   "cell_type": "code",
   "execution_count": null,
   "metadata": {},
   "outputs": [],
   "source": [
    "mean(x, dims = 2)"
   ]
  },
  {
   "cell_type": "markdown",
   "metadata": {},
   "source": [
    "## Show std() values \n",
    "\n",
    "Calculate sample standard deviation (STD).\n",
    "\n",
    "- https://docs.julialang.org/en/v1/stdlib/Statistics/"
   ]
  },
  {
   "cell_type": "code",
   "execution_count": null,
   "metadata": {},
   "outputs": [],
   "source": [
    "std(x, dims = 2) "
   ]
  },
  {
   "cell_type": "markdown",
   "metadata": {},
   "source": [
    "## Normalize the independent variables"
   ]
  },
  {
   "cell_type": "code",
   "execution_count": null,
   "metadata": {},
   "outputs": [],
   "source": [
    "x = (x .- mean(x, dims = 2)) ./ std(x, dims = 2) # math on 13× Arrays"
   ]
  },
  {
   "cell_type": "code",
   "execution_count": null,
   "metadata": {},
   "outputs": [],
   "source": [
    "records = size(x,2) # number of columns"
   ]
  },
  {
   "cell_type": "code",
   "execution_count": null,
   "metadata": {},
   "outputs": [],
   "source": [
    "args = Hyperparams()"
   ]
  },
  {
   "cell_type": "code",
   "execution_count": null,
   "metadata": {},
   "outputs": [],
   "source": [
    "split_ratio = args.split_ratio\n",
    "\n",
    "split_index = floor(Int, records * split_ratio)"
   ]
  },
  {
   "cell_type": "code",
   "execution_count": null,
   "metadata": {},
   "outputs": [],
   "source": [
    "x_train = x[:,1:split_index]           # training features\n",
    "y_train = y[:,1:split_index]           # training results\n",
    "x_test = x[:,split_index+1:records]  # testing features\n",
    "y_test = y[:,split_index+1:records]  # testing results"
   ]
  },
  {
   "cell_type": "code",
   "execution_count": null,
   "metadata": {},
   "outputs": [],
   "source": [
    "train_data = (x_train, y_train) # tuples\n",
    "test_data = (x_test, y_test)\n",
    "size(test_data[1])"
   ]
  },
  {
   "cell_type": "code",
   "execution_count": null,
   "metadata": {},
   "outputs": [],
   "source": [
    "function get_processed_data(args) # expects struct Hyperparams\n",
    "\n",
    "    isfile(\"housing.data\") ||\n",
    "        download(\n",
    "            \"https://raw.githubusercontent.com/MikeInnes/notebooks/master/housing.data\",\n",
    "            \"housing.data\")\n",
    "\n",
    "    rawdata = readdlm(\"housing.data\")'\n",
    "\n",
    "    # The last feature is our target -- the price of the house.\n",
    "    split_ratio = args.split_ratio # For the train/test split\n",
    "\n",
    "    x = rawdata[1:13,:]\n",
    "    y = rawdata[14:14,:]\n",
    "\n",
    "    # Normalise the data\n",
    "    x = (x .- mean(x, dims = 2)) ./ std(x, dims = 2)\n",
    "\n",
    "    # Split into train and test sets\n",
    "    split_index = floor(Int,size(x,2)*split_ratio)\n",
    "    x_train = x[:,1:split_index]\n",
    "    y_train = y[:,1:split_index]\n",
    "    x_test = x[:,split_index+1:size(x,2)]\n",
    "    y_test = y[:,split_index+1:size(x,2)]\n",
    "\n",
    "    train_data = (x_train, y_train)\n",
    "    test_data = (x_test, y_test)\n",
    "\n",
    "    return train_data,test_data\n",
    "end"
   ]
  },
  {
   "cell_type": "code",
   "execution_count": null,
   "metadata": {},
   "outputs": [],
   "source": [
    "# Struct to define model\n",
    "mutable struct model\n",
    "    W::AbstractArray\n",
    "    b::AbstractVector\n",
    "end"
   ]
  },
  {
   "cell_type": "code",
   "execution_count": null,
   "metadata": {},
   "outputs": [],
   "source": [
    "# Function to predict output from given parameters\n",
    "\n",
    "predict(x, m) = m.W*x .+ m.b"
   ]
  },
  {
   "cell_type": "markdown",
   "metadata": {},
   "source": [
    "# Mean Squared Error (MSE)\n",
    "\n",
    "<center><span style=\"font-size:x-large;\" >$ MSE = \\sum \\limits _{i=1} ^{n} {   \\frac{(ŷ_i - y)^2}{n} }$</span></center>"
   ]
  },
  {
   "cell_type": "code",
   "execution_count": null,
   "metadata": {},
   "outputs": [],
   "source": [
    "n = size(y, 2) # e.g. 505 columns\n",
    "\n",
    "# Mean Squared Error\n",
    "meansquarederror(ŷ, y) = sum((ŷ .- y).^2)/n"
   ]
  },
  {
   "cell_type": "code",
   "execution_count": null,
   "metadata": {},
   "outputs": [],
   "source": [
    "function train(; kws...)\n",
    "    # Initialize the Hyperparamters\n",
    "    args = Hyperparams(; kws...)\n",
    "    \n",
    "    # Load the data\n",
    "    (x_train,y_train),(x_test,y_test) = get_processed_data(args)\n",
    "    \n",
    "    test_data = (x_test,y_test)\n",
    "    \n",
    "    # The model\n",
    "    m = model((randn(1,13)),[0.])\n",
    "    \n",
    "    loss(x, y) = meansquarederror(predict(x, m), y)\n",
    "\n",
    "    ## Training\n",
    "    η = args.learning_rate\n",
    "    θ = params([m.W, m.b])\n",
    "\n",
    "    for i = 1:1000\n",
    "      g = gradient(() -> loss(x_train, y_train), θ)\n",
    "      for x in θ\n",
    "        update!(x, -g[x]*η)\n",
    "      end\n",
    "      if i%100==0\n",
    "          @show loss(x_train, y_train)\n",
    "        end\n",
    "    end\n",
    "    \n",
    "    # Predict the RMSE on the test set\n",
    "    err = meansquarederror(predict(x_test, m),y_test)\n",
    "    println(\"error: \", err)\n",
    "    return m , test_data# model\n",
    "end"
   ]
  },
  {
   "cell_type": "code",
   "execution_count": null,
   "metadata": {},
   "outputs": [],
   "source": [
    "cd(@__DIR__)\n",
    "resulting_model, test_data = train()\n",
    "resulting_model.W"
   ]
  },
  {
   "cell_type": "code",
   "execution_count": null,
   "metadata": {},
   "outputs": [],
   "source": [
    "resulting_model.b"
   ]
  },
  {
   "cell_type": "code",
   "execution_count": null,
   "metadata": {},
   "outputs": [],
   "source": [
    "function test(model, test)\n",
    "    # Testing model performance on test data \n",
    "    X_test, y_test = test\n",
    "    #accuracy_score = accuracy(X_test, y_test, model)\n",
    "\n",
    "    #println(\"\\nAccuracy: $accuracy_score\")\n",
    "\n",
    "    # Sanity check.\n",
    "    #@assert accuracy_score > 0.8\n",
    "\n",
    "    # To avoid confusion, here is the definition of a Confusion Matrix: https://en.wikipedia.org/wiki/Confusion_matrix\n",
    "    println(\"\\nConfusion Matrix:\\n\")\n",
    "    #display(confusion_matrix(X_test, y_test, model))\n",
    "end"
   ]
  },
  {
   "cell_type": "code",
   "execution_count": null,
   "metadata": {},
   "outputs": [],
   "source": [
    "test(model, test_data)\n",
    "features = test_data[1]"
   ]
  },
  {
   "cell_type": "code",
   "execution_count": null,
   "metadata": {},
   "outputs": [],
   "source": [
    "one_record = features[:,1]"
   ]
  },
  {
   "cell_type": "code",
   "execution_count": null,
   "metadata": {},
   "outputs": [],
   "source": [
    "results = test_data[1][1,:]"
   ]
  },
  {
   "cell_type": "code",
   "execution_count": null,
   "metadata": {},
   "outputs": [],
   "source": [
    "records = size(results)[1]"
   ]
  },
  {
   "cell_type": "code",
   "execution_count": null,
   "metadata": {},
   "outputs": [],
   "source": [
    "get_price(data, model) = model.W * data .+ model.b"
   ]
  },
  {
   "cell_type": "code",
   "execution_count": null,
   "metadata": {},
   "outputs": [],
   "source": [
    "get_price(one_record, resulting_model)"
   ]
  },
  {
   "cell_type": "code",
   "execution_count": null,
   "metadata": {},
   "outputs": [],
   "source": [
    "for i in 1:records # 455\n",
    "    record = features[:,i] # 13-element Array{Float64,1}:\n",
    "    result = get_price(record, resulting_model)\n",
    "    println(i, \" \", result, \" =? \", results[1])\n",
    "end"
   ]
  },
  {
   "cell_type": "code",
   "execution_count": null,
   "metadata": {},
   "outputs": [],
   "source": []
  },
  {
   "cell_type": "code",
   "execution_count": null,
   "metadata": {},
   "outputs": [],
   "source": []
  }
 ],
 "metadata": {
  "kernelspec": {
   "display_name": "Julia 1.4.2",
   "language": "julia",
   "name": "julia-1.4"
  },
  "language_info": {
   "file_extension": ".jl",
   "mimetype": "application/julia",
   "name": "julia",
   "version": "1.4.2"
  },
  "toc": {
   "base_numbering": 1,
   "nav_menu": {},
   "number_sections": true,
   "sideBar": true,
   "skip_h1_title": false,
   "title_cell": "Table of Contents",
   "title_sidebar": "Contents",
   "toc_cell": true,
   "toc_position": {},
   "toc_section_display": true,
   "toc_window_display": true
  }
 },
 "nbformat": 4,
 "nbformat_minor": 4
}
