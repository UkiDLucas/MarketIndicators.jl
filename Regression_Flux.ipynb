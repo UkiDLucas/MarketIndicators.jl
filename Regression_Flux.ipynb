{
 "cells": [
  {
   "cell_type": "markdown",
   "metadata": {},
   "source": [
    "# Market prediction using Flux.jl"
   ]
  },
  {
   "cell_type": "markdown",
   "metadata": {
    "toc": true
   },
   "source": [
    "<h1>Table of Contents<span class=\"tocSkip\"></span></h1>\n",
    "<div class=\"toc\"><ul class=\"toc-item\"><li><span><a href=\"#Market-prediction-using-Flux.jl\" data-toc-modified-id=\"Market-prediction-using-Flux.jl-1\"><span class=\"toc-item-num\">1&nbsp;&nbsp;</span>Market prediction using Flux.jl</a></span><ul class=\"toc-item\"><li><span><a href=\"#Libraries-used-in-this-notebook\" data-toc-modified-id=\"Libraries-used-in-this-notebook-1.1\"><span class=\"toc-item-num\">1.1&nbsp;&nbsp;</span>Libraries used in this notebook</a></span></li></ul></li><li><span><a href=\"#Define-Hyperparameters\" data-toc-modified-id=\"Define-Hyperparameters-2\"><span class=\"toc-item-num\">2&nbsp;&nbsp;</span>Define Hyperparameters</a></span></li><li><span><a href=\"#Load--Data\" data-toc-modified-id=\"Load--Data-3\"><span class=\"toc-item-num\">3&nbsp;&nbsp;</span>Load  Data</a></span><ul class=\"toc-item\"><li><span><a href=\"#ISM-Manufacturing-Employment\" data-toc-modified-id=\"ISM-Manufacturing-Employment-3.1\"><span class=\"toc-item-num\">3.1&nbsp;&nbsp;</span>ISM Manufacturing Employment</a></span></li><li><span><a href=\"#Markit---Manufacturing-PMI\" data-toc-modified-id=\"Markit---Manufacturing-PMI-3.2\"><span class=\"toc-item-num\">3.2&nbsp;&nbsp;</span>Markit - Manufacturing PMI</a></span></li></ul></li><li><span><a href=\"#Visualize-the-Data\" data-toc-modified-id=\"Visualize-the-Data-4\"><span class=\"toc-item-num\">4&nbsp;&nbsp;</span>Visualize the Data</a></span><ul class=\"toc-item\"><li><span><a href=\"#Plotting-Data\" data-toc-modified-id=\"Plotting-Data-4.1\"><span class=\"toc-item-num\">4.1&nbsp;&nbsp;</span>Plotting Data</a></span></li></ul></li><li><span><a href=\"#Extract-Data\" data-toc-modified-id=\"Extract-Data-5\"><span class=\"toc-item-num\">5&nbsp;&nbsp;</span>Extract Data</a></span><ul class=\"toc-item\"><li><span><a href=\"#Extract-Independent-Variables-(i.e.-features)\" data-toc-modified-id=\"Extract-Independent-Variables-(i.e.-features)-5.1\"><span class=\"toc-item-num\">5.1&nbsp;&nbsp;</span>Extract Independent Variables (i.e. features)</a></span></li><li><span><a href=\"#Extract-Dependent-Variable-(i.e.-price)\" data-toc-modified-id=\"Extract-Dependent-Variable-(i.e.-price)-5.2\"><span class=\"toc-item-num\">5.2&nbsp;&nbsp;</span>Extract Dependent Variable (i.e. price)</a></span></li></ul></li><li><span><a href=\"#Normalize-the-data\" data-toc-modified-id=\"Normalize-the-data-6\"><span class=\"toc-item-num\">6&nbsp;&nbsp;</span>Normalize the data</a></span><ul class=\"toc-item\"><li><span><a href=\"#Show-mean()-values\" data-toc-modified-id=\"Show-mean()-values-6.1\"><span class=\"toc-item-num\">6.1&nbsp;&nbsp;</span>Show mean() values</a></span></li><li><span><a href=\"#Show-std()-values\" data-toc-modified-id=\"Show-std()-values-6.2\"><span class=\"toc-item-num\">6.2&nbsp;&nbsp;</span>Show std() values</a></span></li><li><span><a href=\"#Normalize-the-independent-variables\" data-toc-modified-id=\"Normalize-the-independent-variables-6.3\"><span class=\"toc-item-num\">6.3&nbsp;&nbsp;</span>Normalize the independent variables</a></span></li></ul></li><li><span><a href=\"#Mean-Squared-Error-(MSE)\" data-toc-modified-id=\"Mean-Squared-Error-(MSE)-7\"><span class=\"toc-item-num\">7&nbsp;&nbsp;</span>Mean Squared Error (MSE)</a></span></li></ul></div>"
   ]
  },
  {
   "cell_type": "markdown",
   "metadata": {},
   "source": [
    "## Libraries used in this notebook\n",
    "\n",
    "Uncomment the lines below if you are missing given libraries, or you want to update to the newest version.\n",
    "\n",
    "**Warning:** the updates and required pre-compiling will take a lot of time time."
   ]
  },
  {
   "cell_type": "code",
   "execution_count": 1,
   "metadata": {},
   "outputs": [],
   "source": [
    "# import Pkg; Pkg.add(\"Flux\")\n",
    "using Flux\n",
    "\n",
    "# import Pkg; Pkg.add(\"DelimitedFiles\")\n",
    "using DelimitedFiles\n",
    "\n",
    "# import Pkg; Pkg.add(\"Statistics\")\n",
    "using Statistics\n",
    "\n",
    "# import Pkg; Pkg.add(\"Flux\")\n",
    "using Flux.Optimise: update!\n",
    "\n",
    "# import Pkg; Pkg.add(\"Parameters\")\n",
    "#using Parameters #: @with_kw\n",
    "\n",
    "# import Pkg; Pkg.add(\"Plots\")\n",
    "using Plots\n",
    "\n",
    "# import Pkg; Pkg.add(\"DataFrames\")\n",
    "using DataFrames\n",
    "\n",
    "# import Pkg; Pkg.add(\"CSV\")\n",
    "using CSV\n",
    "\n",
    "# import Pkg; Pkg.add(\"Dates\")\n",
    "using Dates"
   ]
  },
  {
   "cell_type": "code",
   "execution_count": 12,
   "metadata": {},
   "outputs": [
    {
     "name": "stdout",
     "output_type": "stream",
     "text": [
      "Functions available:\n",
      "df = fetch_data(file_path, date_format=\"yyyy-mm-dd\" )\n"
     ]
    },
    {
     "name": "stderr",
     "output_type": "stream",
     "text": [
      "┌ Warning: `CSV.read(input; kw...)` is deprecated in favor of `using DataFrames; CSV.read(input, DataFrame; kw...)\n",
      "│   caller = ip:0x0\n",
      "└ @ Core :-1\n"
     ]
    },
    {
     "data": {
      "text/html": [
       "<table class=\"data-frame\"><thead><tr><th></th><th>Date</th><th>ActualValue</th><th>ForecastValue</th><th>PreviousValue</th></tr><tr><th></th><th>Date</th><th>Float64</th><th>Float64?</th><th>Float64?</th></tr></thead><tbody><p>82 rows × 4 columns</p><tr><th>1</th><td>2020-08-03</td><td>44.3</td><td>34.4</td><td>42.1</td></tr><tr><th>2</th><td>2020-07-01</td><td>42.1</td><td>38.1</td><td>32.1</td></tr><tr><th>3</th><td>2020-06-01</td><td>32.1</td><td>34.1</td><td>27.5</td></tr><tr><th>4</th><td>2020-05-01</td><td>27.5</td><td>44.8</td><td>43.8</td></tr><tr><th>5</th><td>2020-04-01</td><td>43.8</td><td>45.4</td><td>46.9</td></tr><tr><th>6</th><td>2020-03-02</td><td>46.9</td><td>43.9</td><td>46.6</td></tr><tr><th>7</th><td>2020-02-03</td><td>46.6</td><td>43.3</td><td>45.2</td></tr><tr><th>8</th><td>2020-01-03</td><td>45.1</td><td>53.5</td><td>46.6</td></tr><tr><th>9</th><td>2019-12-02</td><td>46.6</td><td>54.3</td><td>47.7</td></tr><tr><th>10</th><td>2019-11-01</td><td>47.7</td><td>54.7</td><td>46.3</td></tr><tr><th>11</th><td>2019-10-01</td><td>46.3</td><td>55.3</td><td>47.4</td></tr><tr><th>12</th><td>2019-09-03</td><td>47.4</td><td>56.0</td><td>51.7</td></tr><tr><th>13</th><td>2019-08-01</td><td>51.7</td><td>53.7</td><td>54.5</td></tr><tr><th>14</th><td>2019-07-01</td><td>54.5</td><td>54.1</td><td>53.7</td></tr><tr><th>15</th><td>2019-06-03</td><td>53.7</td><td>52.8</td><td>52.4</td></tr><tr><th>16</th><td>2019-05-01</td><td>52.4</td><td>56.7</td><td>57.5</td></tr><tr><th>17</th><td>2019-04-01</td><td>57.5</td><td>57.3</td><td>52.3</td></tr><tr><th>18</th><td>2019-03-01</td><td>52.3</td><td>57.8</td><td>55.5</td></tr><tr><th>19</th><td>2019-02-01</td><td>55.5</td><td>57.5</td><td>56.0</td></tr><tr><th>20</th><td>2019-01-03</td><td>56.2</td><td>58.1</td><td>58.4</td></tr><tr><th>21</th><td>2018-12-03</td><td>58.4</td><td>57.2</td><td>56.8</td></tr><tr><th>22</th><td>2018-11-01</td><td>56.8</td><td>56.9</td><td>58.8</td></tr><tr><th>23</th><td>2018-10-01</td><td>58.8</td><td>56.9</td><td>58.5</td></tr><tr><th>24</th><td>2018-09-04</td><td>58.5</td><td>56.3</td><td>56.5</td></tr><tr><th>25</th><td>2018-08-01</td><td>56.5</td><td>56.2</td><td>56.0</td></tr><tr><th>26</th><td>2018-07-02</td><td>56.0</td><td>55.3</td><td>56.3</td></tr><tr><th>27</th><td>2018-06-01</td><td>56.3</td><td>55.8</td><td>54.2</td></tr><tr><th>28</th><td>2018-05-01</td><td>54.2</td><td>58.6</td><td>57.3</td></tr><tr><th>29</th><td>2018-04-02</td><td>57.3</td><td>57.2</td><td>59.7</td></tr><tr><th>30</th><td>2018-03-01</td><td>59.7</td><td>55.9</td><td>54.2</td></tr><tr><th>&vellip;</th><td>&vellip;</td><td>&vellip;</td><td>&vellip;</td><td>&vellip;</td></tr></tbody></table>"
      ],
      "text/latex": [
       "\\begin{tabular}{r|cccc}\n",
       "\t& Date & ActualValue & ForecastValue & PreviousValue\\\\\n",
       "\t\\hline\n",
       "\t& Date & Float64 & Float64? & Float64?\\\\\n",
       "\t\\hline\n",
       "\t1 & 2020-08-03 & 44.3 & 34.4 & 42.1 \\\\\n",
       "\t2 & 2020-07-01 & 42.1 & 38.1 & 32.1 \\\\\n",
       "\t3 & 2020-06-01 & 32.1 & 34.1 & 27.5 \\\\\n",
       "\t4 & 2020-05-01 & 27.5 & 44.8 & 43.8 \\\\\n",
       "\t5 & 2020-04-01 & 43.8 & 45.4 & 46.9 \\\\\n",
       "\t6 & 2020-03-02 & 46.9 & 43.9 & 46.6 \\\\\n",
       "\t7 & 2020-02-03 & 46.6 & 43.3 & 45.2 \\\\\n",
       "\t8 & 2020-01-03 & 45.1 & 53.5 & 46.6 \\\\\n",
       "\t9 & 2019-12-02 & 46.6 & 54.3 & 47.7 \\\\\n",
       "\t10 & 2019-11-01 & 47.7 & 54.7 & 46.3 \\\\\n",
       "\t11 & 2019-10-01 & 46.3 & 55.3 & 47.4 \\\\\n",
       "\t12 & 2019-09-03 & 47.4 & 56.0 & 51.7 \\\\\n",
       "\t13 & 2019-08-01 & 51.7 & 53.7 & 54.5 \\\\\n",
       "\t14 & 2019-07-01 & 54.5 & 54.1 & 53.7 \\\\\n",
       "\t15 & 2019-06-03 & 53.7 & 52.8 & 52.4 \\\\\n",
       "\t16 & 2019-05-01 & 52.4 & 56.7 & 57.5 \\\\\n",
       "\t17 & 2019-04-01 & 57.5 & 57.3 & 52.3 \\\\\n",
       "\t18 & 2019-03-01 & 52.3 & 57.8 & 55.5 \\\\\n",
       "\t19 & 2019-02-01 & 55.5 & 57.5 & 56.0 \\\\\n",
       "\t20 & 2019-01-03 & 56.2 & 58.1 & 58.4 \\\\\n",
       "\t21 & 2018-12-03 & 58.4 & 57.2 & 56.8 \\\\\n",
       "\t22 & 2018-11-01 & 56.8 & 56.9 & 58.8 \\\\\n",
       "\t23 & 2018-10-01 & 58.8 & 56.9 & 58.5 \\\\\n",
       "\t24 & 2018-09-04 & 58.5 & 56.3 & 56.5 \\\\\n",
       "\t25 & 2018-08-01 & 56.5 & 56.2 & 56.0 \\\\\n",
       "\t26 & 2018-07-02 & 56.0 & 55.3 & 56.3 \\\\\n",
       "\t27 & 2018-06-01 & 56.3 & 55.8 & 54.2 \\\\\n",
       "\t28 & 2018-05-01 & 54.2 & 58.6 & 57.3 \\\\\n",
       "\t29 & 2018-04-02 & 57.3 & 57.2 & 59.7 \\\\\n",
       "\t30 & 2018-03-01 & 59.7 & 55.9 & 54.2 \\\\\n",
       "\t$\\dots$ & $\\dots$ & $\\dots$ & $\\dots$ & $\\dots$ \\\\\n",
       "\\end{tabular}\n"
      ],
      "text/plain": [
       "82×4 DataFrame\n",
       "│ Row │ Date       │ ActualValue │ ForecastValue │ PreviousValue │\n",
       "│     │ \u001b[90mDate\u001b[39m       │ \u001b[90mFloat64\u001b[39m     │ \u001b[90mFloat64?\u001b[39m      │ \u001b[90mFloat64?\u001b[39m      │\n",
       "├─────┼────────────┼─────────────┼───────────────┼───────────────┤\n",
       "│ 1   │ 2020-08-03 │ 44.3        │ 34.4          │ 42.1          │\n",
       "│ 2   │ 2020-07-01 │ 42.1        │ 38.1          │ 32.1          │\n",
       "│ 3   │ 2020-06-01 │ 32.1        │ 34.1          │ 27.5          │\n",
       "│ 4   │ 2020-05-01 │ 27.5        │ 44.8          │ 43.8          │\n",
       "│ 5   │ 2020-04-01 │ 43.8        │ 45.4          │ 46.9          │\n",
       "│ 6   │ 2020-03-02 │ 46.9        │ 43.9          │ 46.6          │\n",
       "│ 7   │ 2020-02-03 │ 46.6        │ 43.3          │ 45.2          │\n",
       "│ 8   │ 2020-01-03 │ 45.1        │ 53.5          │ 46.6          │\n",
       "│ 9   │ 2019-12-02 │ 46.6        │ 54.3          │ 47.7          │\n",
       "│ 10  │ 2019-11-01 │ 47.7        │ 54.7          │ 46.3          │\n",
       "⋮\n",
       "│ 72  │ 2014-09-02 │ 58.1        │ \u001b[90mmissing\u001b[39m       │ 58.2          │\n",
       "│ 73  │ 2014-08-01 │ 58.2        │ \u001b[90mmissing\u001b[39m       │ 52.8          │\n",
       "│ 74  │ 2014-07-01 │ 52.8        │ \u001b[90mmissing\u001b[39m       │ 52.8          │\n",
       "│ 75  │ 2014-06-02 │ 52.8        │ \u001b[90mmissing\u001b[39m       │ 54.7          │\n",
       "│ 76  │ 2014-05-01 │ 54.7        │ \u001b[90mmissing\u001b[39m       │ 51.1          │\n",
       "│ 77  │ 2014-04-01 │ 51.1        │ \u001b[90mmissing\u001b[39m       │ 52.3          │\n",
       "│ 78  │ 2014-03-03 │ 52.3        │ \u001b[90mmissing\u001b[39m       │ 52.3          │\n",
       "│ 79  │ 2014-02-03 │ 52.3        │ \u001b[90mmissing\u001b[39m       │ 56.9          │\n",
       "│ 80  │ 2014-01-02 │ 56.9        │ \u001b[90mmissing\u001b[39m       │ 56.5          │\n",
       "│ 81  │ 2013-12-02 │ 56.5        │ \u001b[90mmissing\u001b[39m       │ 53.2          │\n",
       "│ 82  │ 2013-11-01 │ 53.2        │ \u001b[90mmissing\u001b[39m       │ \u001b[90mmissing\u001b[39m       │"
      ]
     },
     "execution_count": 12,
     "metadata": {},
     "output_type": "execute_result"
    }
   ],
   "source": [
    "# include function that are used in this project\n",
    "include(\"MarketIndicators.jl\")"
   ]
  },
  {
   "cell_type": "code",
   "execution_count": 2,
   "metadata": {},
   "outputs": [
    {
     "name": "stdout",
     "output_type": "stream",
     "text": [
      "Last update: Sep. 3, 2020 07:09\n"
     ]
    }
   ],
   "source": [
    " println( \"Last update: \", Dates.format(Dates.now(), \"u. d, yyyy HH:mm\"))"
   ]
  },
  {
   "cell_type": "markdown",
   "metadata": {},
   "source": [
    "# Define Hyperparameters"
   ]
  },
  {
   "cell_type": "code",
   "execution_count": 6,
   "metadata": {},
   "outputs": [
    {
     "data": {
      "text/plain": [
       "\"data/united-states.markit-manufacturing-pmi.csv\""
      ]
     },
     "execution_count": 6,
     "metadata": {},
     "output_type": "execute_result"
    }
   ],
   "source": [
    "learning_rate = 0.1       # learning rate\n",
    "split_ratio = 0.1         # train/test split ratio 0.1 => 90/10\n",
    "\n",
    "file_ISM_Mfc_Emp = \"data/united-states.ism-manufacturing-employment.csv\"\n",
    "file_Markkit_Mfc_PMI = \"data/united-states.markit-manufacturing-pmi.csv\""
   ]
  },
  {
   "cell_type": "markdown",
   "metadata": {},
   "source": [
    "# Load  Data\n"
   ]
  },
  {
   "cell_type": "markdown",
   "metadata": {},
   "source": [
    "## ISM Manufacturing Employment"
   ]
  },
  {
   "cell_type": "code",
   "execution_count": 13,
   "metadata": {},
   "outputs": [
    {
     "data": {
      "text/html": [
       "<table class=\"data-frame\"><thead><tr><th></th><th>Date</th><th>ActualValue</th><th>ForecastValue</th><th>PreviousValue</th></tr><tr><th></th><th>Date</th><th>Float64</th><th>Float64?</th><th>Float64?</th></tr></thead><tbody><p>82 rows × 4 columns</p><tr><th>1</th><td>2020-08-03</td><td>44.3</td><td>34.4</td><td>42.1</td></tr><tr><th>2</th><td>2020-07-01</td><td>42.1</td><td>38.1</td><td>32.1</td></tr><tr><th>3</th><td>2020-06-01</td><td>32.1</td><td>34.1</td><td>27.5</td></tr><tr><th>4</th><td>2020-05-01</td><td>27.5</td><td>44.8</td><td>43.8</td></tr><tr><th>5</th><td>2020-04-01</td><td>43.8</td><td>45.4</td><td>46.9</td></tr><tr><th>6</th><td>2020-03-02</td><td>46.9</td><td>43.9</td><td>46.6</td></tr><tr><th>7</th><td>2020-02-03</td><td>46.6</td><td>43.3</td><td>45.2</td></tr><tr><th>8</th><td>2020-01-03</td><td>45.1</td><td>53.5</td><td>46.6</td></tr><tr><th>9</th><td>2019-12-02</td><td>46.6</td><td>54.3</td><td>47.7</td></tr><tr><th>10</th><td>2019-11-01</td><td>47.7</td><td>54.7</td><td>46.3</td></tr><tr><th>11</th><td>2019-10-01</td><td>46.3</td><td>55.3</td><td>47.4</td></tr><tr><th>12</th><td>2019-09-03</td><td>47.4</td><td>56.0</td><td>51.7</td></tr><tr><th>13</th><td>2019-08-01</td><td>51.7</td><td>53.7</td><td>54.5</td></tr><tr><th>14</th><td>2019-07-01</td><td>54.5</td><td>54.1</td><td>53.7</td></tr><tr><th>15</th><td>2019-06-03</td><td>53.7</td><td>52.8</td><td>52.4</td></tr><tr><th>16</th><td>2019-05-01</td><td>52.4</td><td>56.7</td><td>57.5</td></tr><tr><th>17</th><td>2019-04-01</td><td>57.5</td><td>57.3</td><td>52.3</td></tr><tr><th>18</th><td>2019-03-01</td><td>52.3</td><td>57.8</td><td>55.5</td></tr><tr><th>19</th><td>2019-02-01</td><td>55.5</td><td>57.5</td><td>56.0</td></tr><tr><th>20</th><td>2019-01-03</td><td>56.2</td><td>58.1</td><td>58.4</td></tr><tr><th>21</th><td>2018-12-03</td><td>58.4</td><td>57.2</td><td>56.8</td></tr><tr><th>22</th><td>2018-11-01</td><td>56.8</td><td>56.9</td><td>58.8</td></tr><tr><th>23</th><td>2018-10-01</td><td>58.8</td><td>56.9</td><td>58.5</td></tr><tr><th>24</th><td>2018-09-04</td><td>58.5</td><td>56.3</td><td>56.5</td></tr><tr><th>25</th><td>2018-08-01</td><td>56.5</td><td>56.2</td><td>56.0</td></tr><tr><th>26</th><td>2018-07-02</td><td>56.0</td><td>55.3</td><td>56.3</td></tr><tr><th>27</th><td>2018-06-01</td><td>56.3</td><td>55.8</td><td>54.2</td></tr><tr><th>28</th><td>2018-05-01</td><td>54.2</td><td>58.6</td><td>57.3</td></tr><tr><th>29</th><td>2018-04-02</td><td>57.3</td><td>57.2</td><td>59.7</td></tr><tr><th>30</th><td>2018-03-01</td><td>59.7</td><td>55.9</td><td>54.2</td></tr><tr><th>&vellip;</th><td>&vellip;</td><td>&vellip;</td><td>&vellip;</td><td>&vellip;</td></tr></tbody></table>"
      ],
      "text/latex": [
       "\\begin{tabular}{r|cccc}\n",
       "\t& Date & ActualValue & ForecastValue & PreviousValue\\\\\n",
       "\t\\hline\n",
       "\t& Date & Float64 & Float64? & Float64?\\\\\n",
       "\t\\hline\n",
       "\t1 & 2020-08-03 & 44.3 & 34.4 & 42.1 \\\\\n",
       "\t2 & 2020-07-01 & 42.1 & 38.1 & 32.1 \\\\\n",
       "\t3 & 2020-06-01 & 32.1 & 34.1 & 27.5 \\\\\n",
       "\t4 & 2020-05-01 & 27.5 & 44.8 & 43.8 \\\\\n",
       "\t5 & 2020-04-01 & 43.8 & 45.4 & 46.9 \\\\\n",
       "\t6 & 2020-03-02 & 46.9 & 43.9 & 46.6 \\\\\n",
       "\t7 & 2020-02-03 & 46.6 & 43.3 & 45.2 \\\\\n",
       "\t8 & 2020-01-03 & 45.1 & 53.5 & 46.6 \\\\\n",
       "\t9 & 2019-12-02 & 46.6 & 54.3 & 47.7 \\\\\n",
       "\t10 & 2019-11-01 & 47.7 & 54.7 & 46.3 \\\\\n",
       "\t11 & 2019-10-01 & 46.3 & 55.3 & 47.4 \\\\\n",
       "\t12 & 2019-09-03 & 47.4 & 56.0 & 51.7 \\\\\n",
       "\t13 & 2019-08-01 & 51.7 & 53.7 & 54.5 \\\\\n",
       "\t14 & 2019-07-01 & 54.5 & 54.1 & 53.7 \\\\\n",
       "\t15 & 2019-06-03 & 53.7 & 52.8 & 52.4 \\\\\n",
       "\t16 & 2019-05-01 & 52.4 & 56.7 & 57.5 \\\\\n",
       "\t17 & 2019-04-01 & 57.5 & 57.3 & 52.3 \\\\\n",
       "\t18 & 2019-03-01 & 52.3 & 57.8 & 55.5 \\\\\n",
       "\t19 & 2019-02-01 & 55.5 & 57.5 & 56.0 \\\\\n",
       "\t20 & 2019-01-03 & 56.2 & 58.1 & 58.4 \\\\\n",
       "\t21 & 2018-12-03 & 58.4 & 57.2 & 56.8 \\\\\n",
       "\t22 & 2018-11-01 & 56.8 & 56.9 & 58.8 \\\\\n",
       "\t23 & 2018-10-01 & 58.8 & 56.9 & 58.5 \\\\\n",
       "\t24 & 2018-09-04 & 58.5 & 56.3 & 56.5 \\\\\n",
       "\t25 & 2018-08-01 & 56.5 & 56.2 & 56.0 \\\\\n",
       "\t26 & 2018-07-02 & 56.0 & 55.3 & 56.3 \\\\\n",
       "\t27 & 2018-06-01 & 56.3 & 55.8 & 54.2 \\\\\n",
       "\t28 & 2018-05-01 & 54.2 & 58.6 & 57.3 \\\\\n",
       "\t29 & 2018-04-02 & 57.3 & 57.2 & 59.7 \\\\\n",
       "\t30 & 2018-03-01 & 59.7 & 55.9 & 54.2 \\\\\n",
       "\t$\\dots$ & $\\dots$ & $\\dots$ & $\\dots$ & $\\dots$ \\\\\n",
       "\\end{tabular}\n"
      ],
      "text/plain": [
       "82×4 DataFrame\n",
       "│ Row │ Date       │ ActualValue │ ForecastValue │ PreviousValue │\n",
       "│     │ \u001b[90mDate\u001b[39m       │ \u001b[90mFloat64\u001b[39m     │ \u001b[90mFloat64?\u001b[39m      │ \u001b[90mFloat64?\u001b[39m      │\n",
       "├─────┼────────────┼─────────────┼───────────────┼───────────────┤\n",
       "│ 1   │ 2020-08-03 │ 44.3        │ 34.4          │ 42.1          │\n",
       "│ 2   │ 2020-07-01 │ 42.1        │ 38.1          │ 32.1          │\n",
       "│ 3   │ 2020-06-01 │ 32.1        │ 34.1          │ 27.5          │\n",
       "│ 4   │ 2020-05-01 │ 27.5        │ 44.8          │ 43.8          │\n",
       "│ 5   │ 2020-04-01 │ 43.8        │ 45.4          │ 46.9          │\n",
       "│ 6   │ 2020-03-02 │ 46.9        │ 43.9          │ 46.6          │\n",
       "│ 7   │ 2020-02-03 │ 46.6        │ 43.3          │ 45.2          │\n",
       "│ 8   │ 2020-01-03 │ 45.1        │ 53.5          │ 46.6          │\n",
       "│ 9   │ 2019-12-02 │ 46.6        │ 54.3          │ 47.7          │\n",
       "│ 10  │ 2019-11-01 │ 47.7        │ 54.7          │ 46.3          │\n",
       "⋮\n",
       "│ 72  │ 2014-09-02 │ 58.1        │ \u001b[90mmissing\u001b[39m       │ 58.2          │\n",
       "│ 73  │ 2014-08-01 │ 58.2        │ \u001b[90mmissing\u001b[39m       │ 52.8          │\n",
       "│ 74  │ 2014-07-01 │ 52.8        │ \u001b[90mmissing\u001b[39m       │ 52.8          │\n",
       "│ 75  │ 2014-06-02 │ 52.8        │ \u001b[90mmissing\u001b[39m       │ 54.7          │\n",
       "│ 76  │ 2014-05-01 │ 54.7        │ \u001b[90mmissing\u001b[39m       │ 51.1          │\n",
       "│ 77  │ 2014-04-01 │ 51.1        │ \u001b[90mmissing\u001b[39m       │ 52.3          │\n",
       "│ 78  │ 2014-03-03 │ 52.3        │ \u001b[90mmissing\u001b[39m       │ 52.3          │\n",
       "│ 79  │ 2014-02-03 │ 52.3        │ \u001b[90mmissing\u001b[39m       │ 56.9          │\n",
       "│ 80  │ 2014-01-02 │ 56.9        │ \u001b[90mmissing\u001b[39m       │ 56.5          │\n",
       "│ 81  │ 2013-12-02 │ 56.5        │ \u001b[90mmissing\u001b[39m       │ 53.2          │\n",
       "│ 82  │ 2013-11-01 │ 53.2        │ \u001b[90mmissing\u001b[39m       │ \u001b[90mmissing\u001b[39m       │"
      ]
     },
     "execution_count": 13,
     "metadata": {},
     "output_type": "execute_result"
    }
   ],
   "source": [
    "df_ISM_Mfc_Emp = fetch_data(file_ISM_Mfc_Emp, \"yyyy.mm.dd\")"
   ]
  },
  {
   "cell_type": "markdown",
   "metadata": {},
   "source": [
    "## Markit - Manufacturing PMI"
   ]
  },
  {
   "cell_type": "code",
   "execution_count": 15,
   "metadata": {},
   "outputs": [
    {
     "data": {
      "text/html": [
       "<table class=\"data-frame\"><thead><tr><th></th><th>Date</th><th>ActualValue</th><th>ForecastValue</th><th>PreviousValue</th></tr><tr><th></th><th>Date</th><th>Float64</th><th>Float64?</th><th>Float64?</th></tr></thead><tbody><p>200 rows × 4 columns</p><tr><th>1</th><td>2020-08-21</td><td>53.6</td><td>51.1</td><td>50.9</td></tr><tr><th>2</th><td>2020-08-03</td><td>50.9</td><td>51.3</td><td>51.3</td></tr><tr><th>3</th><td>2020-07-24</td><td>51.3</td><td>49.7</td><td>49.8</td></tr><tr><th>4</th><td>2020-07-01</td><td>49.8</td><td>49.6</td><td>49.6</td></tr><tr><th>5</th><td>2020-06-23</td><td>49.6</td><td>42.3</td><td>39.8</td></tr><tr><th>6</th><td>2020-06-01</td><td>39.8</td><td>39.8</td><td>39.8</td></tr><tr><th>7</th><td>2020-05-21</td><td>39.8</td><td>37.9</td><td>36.1</td></tr><tr><th>8</th><td>2020-05-01</td><td>36.1</td><td>36.9</td><td>36.9</td></tr><tr><th>9</th><td>2020-04-23</td><td>36.9</td><td>47.5</td><td>48.5</td></tr><tr><th>10</th><td>2020-04-01</td><td>48.5</td><td>49.2</td><td>49.2</td></tr><tr><th>11</th><td>2020-03-24</td><td>49.2</td><td>50.5</td><td>50.7</td></tr><tr><th>12</th><td>2020-03-02</td><td>50.7</td><td>50.8</td><td>50.8</td></tr><tr><th>13</th><td>2020-02-21</td><td>50.8</td><td>50.9</td><td>51.9</td></tr><tr><th>14</th><td>2020-02-03</td><td>51.9</td><td>51.7</td><td>51.7</td></tr><tr><th>15</th><td>2020-01-24</td><td>51.7</td><td>52.3</td><td>52.4</td></tr><tr><th>16</th><td>2020-01-02</td><td>52.4</td><td>52.5</td><td>52.5</td></tr><tr><th>17</th><td>2019-12-16</td><td>52.5</td><td>52.4</td><td>52.6</td></tr><tr><th>18</th><td>2019-12-02</td><td>52.6</td><td>52.2</td><td>52.2</td></tr><tr><th>19</th><td>2019-11-22</td><td>52.2</td><td>51.4</td><td>51.3</td></tr><tr><th>20</th><td>2019-11-01</td><td>51.3</td><td>51.5</td><td>51.5</td></tr><tr><th>21</th><td>2019-10-24</td><td>51.5</td><td>51.0</td><td>51.1</td></tr><tr><th>22</th><td>2019-10-01</td><td>51.1</td><td>51.0</td><td>51.0</td></tr><tr><th>23</th><td>2019-09-23</td><td>51.0</td><td>50.4</td><td>50.3</td></tr><tr><th>24</th><td>2019-09-03</td><td>50.3</td><td>49.9</td><td>49.9</td></tr><tr><th>25</th><td>2019-08-22</td><td>49.9</td><td>50.2</td><td>50.4</td></tr><tr><th>26</th><td>2019-08-01</td><td>50.4</td><td>50.0</td><td>50.0</td></tr><tr><th>27</th><td>2019-07-24</td><td>50.0</td><td>50.3</td><td>50.6</td></tr><tr><th>28</th><td>2019-07-01</td><td>50.6</td><td>50.1</td><td>50.1</td></tr><tr><th>29</th><td>2019-06-21</td><td>50.1</td><td>51.0</td><td>50.5</td></tr><tr><th>30</th><td>2019-06-03</td><td>50.5</td><td>50.6</td><td>50.6</td></tr><tr><th>&vellip;</th><td>&vellip;</td><td>&vellip;</td><td>&vellip;</td><td>&vellip;</td></tr></tbody></table>"
      ],
      "text/latex": [
       "\\begin{tabular}{r|cccc}\n",
       "\t& Date & ActualValue & ForecastValue & PreviousValue\\\\\n",
       "\t\\hline\n",
       "\t& Date & Float64 & Float64? & Float64?\\\\\n",
       "\t\\hline\n",
       "\t1 & 2020-08-21 & 53.6 & 51.1 & 50.9 \\\\\n",
       "\t2 & 2020-08-03 & 50.9 & 51.3 & 51.3 \\\\\n",
       "\t3 & 2020-07-24 & 51.3 & 49.7 & 49.8 \\\\\n",
       "\t4 & 2020-07-01 & 49.8 & 49.6 & 49.6 \\\\\n",
       "\t5 & 2020-06-23 & 49.6 & 42.3 & 39.8 \\\\\n",
       "\t6 & 2020-06-01 & 39.8 & 39.8 & 39.8 \\\\\n",
       "\t7 & 2020-05-21 & 39.8 & 37.9 & 36.1 \\\\\n",
       "\t8 & 2020-05-01 & 36.1 & 36.9 & 36.9 \\\\\n",
       "\t9 & 2020-04-23 & 36.9 & 47.5 & 48.5 \\\\\n",
       "\t10 & 2020-04-01 & 48.5 & 49.2 & 49.2 \\\\\n",
       "\t11 & 2020-03-24 & 49.2 & 50.5 & 50.7 \\\\\n",
       "\t12 & 2020-03-02 & 50.7 & 50.8 & 50.8 \\\\\n",
       "\t13 & 2020-02-21 & 50.8 & 50.9 & 51.9 \\\\\n",
       "\t14 & 2020-02-03 & 51.9 & 51.7 & 51.7 \\\\\n",
       "\t15 & 2020-01-24 & 51.7 & 52.3 & 52.4 \\\\\n",
       "\t16 & 2020-01-02 & 52.4 & 52.5 & 52.5 \\\\\n",
       "\t17 & 2019-12-16 & 52.5 & 52.4 & 52.6 \\\\\n",
       "\t18 & 2019-12-02 & 52.6 & 52.2 & 52.2 \\\\\n",
       "\t19 & 2019-11-22 & 52.2 & 51.4 & 51.3 \\\\\n",
       "\t20 & 2019-11-01 & 51.3 & 51.5 & 51.5 \\\\\n",
       "\t21 & 2019-10-24 & 51.5 & 51.0 & 51.1 \\\\\n",
       "\t22 & 2019-10-01 & 51.1 & 51.0 & 51.0 \\\\\n",
       "\t23 & 2019-09-23 & 51.0 & 50.4 & 50.3 \\\\\n",
       "\t24 & 2019-09-03 & 50.3 & 49.9 & 49.9 \\\\\n",
       "\t25 & 2019-08-22 & 49.9 & 50.2 & 50.4 \\\\\n",
       "\t26 & 2019-08-01 & 50.4 & 50.0 & 50.0 \\\\\n",
       "\t27 & 2019-07-24 & 50.0 & 50.3 & 50.6 \\\\\n",
       "\t28 & 2019-07-01 & 50.6 & 50.1 & 50.1 \\\\\n",
       "\t29 & 2019-06-21 & 50.1 & 51.0 & 50.5 \\\\\n",
       "\t30 & 2019-06-03 & 50.5 & 50.6 & 50.6 \\\\\n",
       "\t$\\dots$ & $\\dots$ & $\\dots$ & $\\dots$ & $\\dots$ \\\\\n",
       "\\end{tabular}\n"
      ],
      "text/plain": [
       "200×4 DataFrame\n",
       "│ Row │ Date       │ ActualValue │ ForecastValue │ PreviousValue │\n",
       "│     │ \u001b[90mDate\u001b[39m       │ \u001b[90mFloat64\u001b[39m     │ \u001b[90mFloat64?\u001b[39m      │ \u001b[90mFloat64?\u001b[39m      │\n",
       "├─────┼────────────┼─────────────┼───────────────┼───────────────┤\n",
       "│ 1   │ 2020-08-21 │ 53.6        │ 51.1          │ 50.9          │\n",
       "│ 2   │ 2020-08-03 │ 50.9        │ 51.3          │ 51.3          │\n",
       "│ 3   │ 2020-07-24 │ 51.3        │ 49.7          │ 49.8          │\n",
       "│ 4   │ 2020-07-01 │ 49.8        │ 49.6          │ 49.6          │\n",
       "│ 5   │ 2020-06-23 │ 49.6        │ 42.3          │ 39.8          │\n",
       "│ 6   │ 2020-06-01 │ 39.8        │ 39.8          │ 39.8          │\n",
       "│ 7   │ 2020-05-21 │ 39.8        │ 37.9          │ 36.1          │\n",
       "│ 8   │ 2020-05-01 │ 36.1        │ 36.9          │ 36.9          │\n",
       "│ 9   │ 2020-04-23 │ 36.9        │ 47.5          │ 48.5          │\n",
       "│ 10  │ 2020-04-01 │ 48.5        │ 49.2          │ 49.2          │\n",
       "⋮\n",
       "│ 190 │ 2012-10-01 │ 51.1        │ \u001b[90mmissing\u001b[39m       │ 51.5          │\n",
       "│ 191 │ 2012-09-20 │ 51.5        │ \u001b[90mmissing\u001b[39m       │ 51.5          │\n",
       "│ 192 │ 2012-09-04 │ 51.5        │ \u001b[90mmissing\u001b[39m       │ 51.9          │\n",
       "│ 193 │ 2012-08-23 │ 51.9        │ \u001b[90mmissing\u001b[39m       │ 51.4          │\n",
       "│ 194 │ 2012-08-01 │ 51.4        │ \u001b[90mmissing\u001b[39m       │ 51.8          │\n",
       "│ 195 │ 2012-07-24 │ 51.8        │ \u001b[90mmissing\u001b[39m       │ 52.5          │\n",
       "│ 196 │ 2012-07-02 │ 52.5        │ \u001b[90mmissing\u001b[39m       │ 52.9          │\n",
       "│ 197 │ 2012-06-21 │ 52.9        │ \u001b[90mmissing\u001b[39m       │ 54.0          │\n",
       "│ 198 │ 2012-06-01 │ 54.0        │ \u001b[90mmissing\u001b[39m       │ 53.9          │\n",
       "│ 199 │ 2012-05-24 │ 53.9        │ \u001b[90mmissing\u001b[39m       │ 56.0          │\n",
       "│ 200 │ 2012-04-25 │ 56.0        │ \u001b[90mmissing\u001b[39m       │ \u001b[90mmissing\u001b[39m       │"
      ]
     },
     "execution_count": 15,
     "metadata": {},
     "output_type": "execute_result"
    }
   ],
   "source": [
    "df_Markkit_Mfc_PMI = fetch_data(file_Markkit_Mfc_PMI, \"yyyy.mm.dd\")"
   ]
  },
  {
   "cell_type": "markdown",
   "metadata": {},
   "source": [
    "# Visualize the Data\n",
    "\n",
    "Visualization of the data is important to identify:\n",
    "- possible correlations (patterns)\n",
    "- missing data (e.g. before certain date)\n",
    "- wrong types of data (text vs. numbers, etc.)"
   ]
  },
  {
   "cell_type": "markdown",
   "metadata": {},
   "source": [
    "## Plotting Data"
   ]
  },
  {
   "cell_type": "code",
   "execution_count": 59,
   "metadata": {},
   "outputs": [
    {
     "name": "stdout",
     "output_type": "stream",
     "text": [
      "2020-08-21 to 2012-04-25\n"
     ]
    },
    {
     "data": {
      "image/svg+xml": [
       "<?xml version=\"1.0\" encoding=\"utf-8\"?>\n",
       "<svg xmlns=\"http://www.w3.org/2000/svg\" xmlns:xlink=\"http://www.w3.org/1999/xlink\" width=\"1750\" height=\"600\" viewBox=\"0 0 7000 2400\">\n",
       "<defs>\n",
       "  <clipPath id=\"clip3500\">\n",
       "    <rect x=\"0\" y=\"0\" width=\"7000\" height=\"2400\"/>\n",
       "  </clipPath>\n",
       "</defs>\n",
       "<path clip-path=\"url(#clip3500)\" d=\"\n",
       "M0 2400 L7000 2400 L7000 0 L0 0  Z\n",
       "  \" fill=\"#ffffff\" fill-rule=\"evenodd\" fill-opacity=\"1\"/>\n",
       "<defs>\n",
       "  <clipPath id=\"clip3501\">\n",
       "    <rect x=\"1400\" y=\"0\" width=\"4901\" height=\"2400\"/>\n",
       "  </clipPath>\n",
       "</defs>\n",
       "<path clip-path=\"url(#clip3500)\" d=\"\n",
       "M225.378 2255.05 L6952.76 2255.05 L6952.76 47.2441 L225.378 47.2441  Z\n",
       "  \" fill=\"#ffffff\" fill-rule=\"evenodd\" fill-opacity=\"1\"/>\n",
       "<defs>\n",
       "  <clipPath id=\"clip3502\">\n",
       "    <rect x=\"225\" y=\"47\" width=\"6728\" height=\"2209\"/>\n",
       "  </clipPath>\n",
       "</defs>\n",
       "<polyline clip-path=\"url(#clip3502)\" style=\"stroke:#000000; stroke-width:2; stroke-opacity:0.1; fill:none\" points=\"\n",
       "  939.786,2255.05 939.786,47.2441 \n",
       "  \"/>\n",
       "<polyline clip-path=\"url(#clip3502)\" style=\"stroke:#000000; stroke-width:2; stroke-opacity:0.1; fill:none\" points=\"\n",
       "  2463.8,2255.05 2463.8,47.2441 \n",
       "  \"/>\n",
       "<polyline clip-path=\"url(#clip3502)\" style=\"stroke:#000000; stroke-width:2; stroke-opacity:0.1; fill:none\" points=\"\n",
       "  3989.9,2255.05 3989.9,47.2441 \n",
       "  \"/>\n",
       "<polyline clip-path=\"url(#clip3502)\" style=\"stroke:#000000; stroke-width:2; stroke-opacity:0.1; fill:none\" points=\"\n",
       "  5513.92,2255.05 5513.92,47.2441 \n",
       "  \"/>\n",
       "<polyline clip-path=\"url(#clip3502)\" style=\"stroke:#000000; stroke-width:2; stroke-opacity:0.1; fill:none\" points=\"\n",
       "  225.378,1821.65 6952.76,1821.65 \n",
       "  \"/>\n",
       "<polyline clip-path=\"url(#clip3502)\" style=\"stroke:#000000; stroke-width:2; stroke-opacity:0.1; fill:none\" points=\"\n",
       "  225.378,1346.11 6952.76,1346.11 \n",
       "  \"/>\n",
       "<polyline clip-path=\"url(#clip3502)\" style=\"stroke:#000000; stroke-width:2; stroke-opacity:0.1; fill:none\" points=\"\n",
       "  225.378,870.581 6952.76,870.581 \n",
       "  \"/>\n",
       "<polyline clip-path=\"url(#clip3502)\" style=\"stroke:#000000; stroke-width:2; stroke-opacity:0.1; fill:none\" points=\"\n",
       "  225.378,395.049 6952.76,395.049 \n",
       "  \"/>\n",
       "<polyline clip-path=\"url(#clip3500)\" style=\"stroke:#000000; stroke-width:4; stroke-opacity:1; fill:none\" points=\"\n",
       "  225.378,2255.05 6952.76,2255.05 \n",
       "  \"/>\n",
       "<polyline clip-path=\"url(#clip3500)\" style=\"stroke:#000000; stroke-width:4; stroke-opacity:1; fill:none\" points=\"\n",
       "  225.378,2255.05 225.378,47.2441 \n",
       "  \"/>\n",
       "<polyline clip-path=\"url(#clip3500)\" style=\"stroke:#000000; stroke-width:4; stroke-opacity:1; fill:none\" points=\"\n",
       "  939.786,2255.05 939.786,2228.55 \n",
       "  \"/>\n",
       "<polyline clip-path=\"url(#clip3500)\" style=\"stroke:#000000; stroke-width:4; stroke-opacity:1; fill:none\" points=\"\n",
       "  2463.8,2255.05 2463.8,2228.55 \n",
       "  \"/>\n",
       "<polyline clip-path=\"url(#clip3500)\" style=\"stroke:#000000; stroke-width:4; stroke-opacity:1; fill:none\" points=\"\n",
       "  3989.9,2255.05 3989.9,2228.55 \n",
       "  \"/>\n",
       "<polyline clip-path=\"url(#clip3500)\" style=\"stroke:#000000; stroke-width:4; stroke-opacity:1; fill:none\" points=\"\n",
       "  5513.92,2255.05 5513.92,2228.55 \n",
       "  \"/>\n",
       "<polyline clip-path=\"url(#clip3500)\" style=\"stroke:#000000; stroke-width:4; stroke-opacity:1; fill:none\" points=\"\n",
       "  225.378,1821.65 306.106,1821.65 \n",
       "  \"/>\n",
       "<polyline clip-path=\"url(#clip3500)\" style=\"stroke:#000000; stroke-width:4; stroke-opacity:1; fill:none\" points=\"\n",
       "  225.378,1346.11 306.106,1346.11 \n",
       "  \"/>\n",
       "<polyline clip-path=\"url(#clip3500)\" style=\"stroke:#000000; stroke-width:4; stroke-opacity:1; fill:none\" points=\"\n",
       "  225.378,870.581 306.106,870.581 \n",
       "  \"/>\n",
       "<polyline clip-path=\"url(#clip3500)\" style=\"stroke:#000000; stroke-width:4; stroke-opacity:1; fill:none\" points=\"\n",
       "  225.378,395.049 306.106,395.049 \n",
       "  \"/>\n",
       "<path clip-path=\"url(#clip3500)\" d=\"M 0 0 M827.263 2327.58 L843.583 2327.58 L843.583 2331.52 L821.638 2331.52 L821.638 2327.58 Q824.3 2324.83 828.884 2320.2 Q833.49 2315.55 834.671 2314.2 Q836.916 2311.68 837.796 2309.95 Q838.699 2308.19 838.699 2306.5 Q838.699 2303.74 836.754 2302.01 Q834.833 2300.27 831.731 2300.27 Q829.532 2300.27 827.078 2301.03 Q824.648 2301.8 821.87 2303.35 L821.87 2298.63 Q824.694 2297.49 827.148 2296.91 Q829.601 2296.33 831.638 2296.33 Q837.009 2296.33 840.203 2299.02 Q843.398 2301.7 843.398 2306.2 Q843.398 2308.32 842.587 2310.25 Q841.8 2312.14 839.694 2314.74 Q839.115 2315.41 836.013 2318.63 Q832.912 2321.82 827.263 2327.58 Z\" fill=\"#000000\" fill-rule=\"evenodd\" fill-opacity=\"1\" /><path clip-path=\"url(#clip3500)\" d=\"M 0 0 M858.652 2300.04 Q855.041 2300.04 853.212 2303.6 Q851.407 2307.14 851.407 2314.27 Q851.407 2321.38 853.212 2324.95 Q855.041 2328.49 858.652 2328.49 Q862.286 2328.49 864.092 2324.95 Q865.921 2321.38 865.921 2314.27 Q865.921 2307.14 864.092 2303.6 Q862.286 2300.04 858.652 2300.04 M858.652 2296.33 Q864.462 2296.33 867.518 2300.94 Q870.597 2305.52 870.597 2314.27 Q870.597 2323 867.518 2327.61 Q864.462 2332.19 858.652 2332.19 Q852.842 2332.19 849.763 2327.61 Q846.708 2323 846.708 2314.27 Q846.708 2305.52 849.763 2300.94 Q852.842 2296.33 858.652 2296.33 Z\" fill=\"#000000\" fill-rule=\"evenodd\" fill-opacity=\"1\" /><path clip-path=\"url(#clip3500)\" d=\"M 0 0 M876.476 2327.58 L884.115 2327.58 L884.115 2301.22 L875.805 2302.89 L875.805 2298.63 L884.069 2296.96 L888.745 2296.96 L888.745 2327.58 L896.383 2327.58 L896.383 2331.52 L876.476 2331.52 L876.476 2327.58 Z\" fill=\"#000000\" fill-rule=\"evenodd\" fill-opacity=\"1\" /><path clip-path=\"url(#clip3500)\" d=\"M 0 0 M915.619 2312.89 Q918.976 2313.6 920.851 2315.87 Q922.749 2318.14 922.749 2321.47 Q922.749 2326.59 919.231 2329.39 Q915.712 2332.19 909.231 2332.19 Q907.055 2332.19 904.74 2331.75 Q902.448 2331.33 899.994 2330.48 L899.994 2325.96 Q901.939 2327.1 904.254 2327.68 Q906.569 2328.26 909.092 2328.26 Q913.49 2328.26 915.781 2326.52 Q918.096 2324.78 918.096 2321.47 Q918.096 2318.42 915.943 2316.7 Q913.814 2314.97 909.994 2314.97 L905.967 2314.97 L905.967 2311.13 L910.18 2311.13 Q913.629 2311.13 915.457 2309.76 Q917.286 2308.37 917.286 2305.78 Q917.286 2303.12 915.388 2301.7 Q913.513 2300.27 909.994 2300.27 Q908.073 2300.27 905.874 2300.69 Q903.675 2301.1 901.036 2301.98 L901.036 2297.82 Q903.698 2297.08 906.013 2296.7 Q908.351 2296.33 910.411 2296.33 Q915.735 2296.33 918.837 2298.76 Q921.939 2301.17 921.939 2305.29 Q921.939 2308.16 920.295 2310.15 Q918.652 2312.12 915.619 2312.89 Z\" fill=\"#000000\" fill-rule=\"evenodd\" fill-opacity=\"1\" /><path clip-path=\"url(#clip3500)\" d=\"M 0 0 M925.064 2316.64 L937.541 2316.64 L937.541 2320.43 L925.064 2320.43 L925.064 2316.64 Z\" fill=\"#000000\" fill-rule=\"evenodd\" fill-opacity=\"1\" /><path clip-path=\"url(#clip3500)\" d=\"M 0 0 M952.61 2300.04 Q948.999 2300.04 947.17 2303.6 Q945.365 2307.14 945.365 2314.27 Q945.365 2321.38 947.17 2324.95 Q948.999 2328.49 952.61 2328.49 Q956.244 2328.49 958.05 2324.95 Q959.878 2321.38 959.878 2314.27 Q959.878 2307.14 958.05 2303.6 Q956.244 2300.04 952.61 2300.04 M952.61 2296.33 Q958.42 2296.33 961.476 2300.94 Q964.554 2305.52 964.554 2314.27 Q964.554 2323 961.476 2327.61 Q958.42 2332.19 952.61 2332.19 Q946.8 2332.19 943.721 2327.61 Q940.666 2323 940.666 2314.27 Q940.666 2305.52 943.721 2300.94 Q946.8 2296.33 952.61 2296.33 Z\" fill=\"#000000\" fill-rule=\"evenodd\" fill-opacity=\"1\" /><path clip-path=\"url(#clip3500)\" d=\"M 0 0 M970.434 2327.58 L978.073 2327.58 L978.073 2301.22 L969.763 2302.89 L969.763 2298.63 L978.026 2296.96 L982.702 2296.96 L982.702 2327.58 L990.341 2327.58 L990.341 2331.52 L970.434 2331.52 L970.434 2327.58 Z\" fill=\"#000000\" fill-rule=\"evenodd\" fill-opacity=\"1\" /><path clip-path=\"url(#clip3500)\" d=\"M 0 0 M992.656 2316.64 L1005.13 2316.64 L1005.13 2320.43 L992.656 2320.43 L992.656 2316.64 Z\" fill=\"#000000\" fill-rule=\"evenodd\" fill-opacity=\"1\" /><path clip-path=\"url(#clip3500)\" d=\"M 0 0 M1020.2 2300.04 Q1016.59 2300.04 1014.76 2303.6 Q1012.96 2307.14 1012.96 2314.27 Q1012.96 2321.38 1014.76 2324.95 Q1016.59 2328.49 1020.2 2328.49 Q1023.84 2328.49 1025.64 2324.95 Q1027.47 2321.38 1027.47 2314.27 Q1027.47 2307.14 1025.64 2303.6 Q1023.84 2300.04 1020.2 2300.04 M1020.2 2296.33 Q1026.01 2296.33 1029.07 2300.94 Q1032.15 2305.52 1032.15 2314.27 Q1032.15 2323 1029.07 2327.61 Q1026.01 2332.19 1020.2 2332.19 Q1014.39 2332.19 1011.31 2327.61 Q1008.26 2323 1008.26 2314.27 Q1008.26 2305.52 1011.31 2300.94 Q1014.39 2296.33 1020.2 2296.33 Z\" fill=\"#000000\" fill-rule=\"evenodd\" fill-opacity=\"1\" /><path clip-path=\"url(#clip3500)\" d=\"M 0 0 M1038.03 2327.58 L1045.67 2327.58 L1045.67 2301.22 L1037.35 2302.89 L1037.35 2298.63 L1045.62 2296.96 L1050.29 2296.96 L1050.29 2327.58 L1057.93 2327.58 L1057.93 2331.52 L1038.03 2331.52 L1038.03 2327.58 Z\" fill=\"#000000\" fill-rule=\"evenodd\" fill-opacity=\"1\" /><path clip-path=\"url(#clip3500)\" d=\"M 0 0 M2351.45 2327.58 L2367.77 2327.58 L2367.77 2331.52 L2345.83 2331.52 L2345.83 2327.58 Q2348.49 2324.83 2353.07 2320.2 Q2357.68 2315.55 2358.86 2314.2 Q2361.1 2311.68 2361.98 2309.95 Q2362.89 2308.19 2362.89 2306.5 Q2362.89 2303.74 2360.94 2302.01 Q2359.02 2300.27 2355.92 2300.27 Q2353.72 2300.27 2351.27 2301.03 Q2348.84 2301.8 2346.06 2303.35 L2346.06 2298.63 Q2348.88 2297.49 2351.34 2296.91 Q2353.79 2296.33 2355.83 2296.33 Q2361.2 2296.33 2364.39 2299.02 Q2367.59 2301.7 2367.59 2306.2 Q2367.59 2308.32 2366.78 2310.25 Q2365.99 2312.14 2363.88 2314.74 Q2363.3 2315.41 2360.2 2318.63 Q2357.1 2321.82 2351.45 2327.58 Z\" fill=\"#000000\" fill-rule=\"evenodd\" fill-opacity=\"1\" /><path clip-path=\"url(#clip3500)\" d=\"M 0 0 M2382.84 2300.04 Q2379.23 2300.04 2377.4 2303.6 Q2375.6 2307.14 2375.6 2314.27 Q2375.6 2321.38 2377.4 2324.95 Q2379.23 2328.49 2382.84 2328.49 Q2386.47 2328.49 2388.28 2324.95 Q2390.11 2321.38 2390.11 2314.27 Q2390.11 2307.14 2388.28 2303.6 Q2386.47 2300.04 2382.84 2300.04 M2382.84 2296.33 Q2388.65 2296.33 2391.71 2300.94 Q2394.79 2305.52 2394.79 2314.27 Q2394.79 2323 2391.71 2327.61 Q2388.65 2332.19 2382.84 2332.19 Q2377.03 2332.19 2373.95 2327.61 Q2370.9 2323 2370.9 2314.27 Q2370.9 2305.52 2373.95 2300.94 Q2377.03 2296.33 2382.84 2296.33 Z\" fill=\"#000000\" fill-rule=\"evenodd\" fill-opacity=\"1\" /><path clip-path=\"url(#clip3500)\" d=\"M 0 0 M2400.66 2327.58 L2408.3 2327.58 L2408.3 2301.22 L2399.99 2302.89 L2399.99 2298.63 L2408.26 2296.96 L2412.93 2296.96 L2412.93 2327.58 L2420.57 2327.58 L2420.57 2331.52 L2400.66 2331.52 L2400.66 2327.58 Z\" fill=\"#000000\" fill-rule=\"evenodd\" fill-opacity=\"1\" /><path clip-path=\"url(#clip3500)\" d=\"M 0 0 M2425.69 2296.96 L2444.04 2296.96 L2444.04 2300.89 L2429.97 2300.89 L2429.97 2309.37 Q2430.99 2309.02 2432.01 2308.86 Q2433.03 2308.67 2434.04 2308.67 Q2439.83 2308.67 2443.21 2311.84 Q2446.59 2315.01 2446.59 2320.43 Q2446.59 2326.01 2443.12 2329.11 Q2439.65 2332.19 2433.33 2332.19 Q2431.15 2332.19 2428.88 2331.82 Q2426.64 2331.45 2424.23 2330.71 L2424.23 2326.01 Q2426.31 2327.14 2428.53 2327.7 Q2430.76 2328.26 2433.23 2328.26 Q2437.24 2328.26 2439.58 2326.15 Q2441.91 2324.04 2441.91 2320.43 Q2441.91 2316.82 2439.58 2314.71 Q2437.24 2312.61 2433.23 2312.61 Q2431.36 2312.61 2429.48 2313.02 Q2427.63 2313.44 2425.69 2314.32 L2425.69 2296.96 Z\" fill=\"#000000\" fill-rule=\"evenodd\" fill-opacity=\"1\" /><path clip-path=\"url(#clip3500)\" d=\"M 0 0 M2448.91 2316.64 L2461.38 2316.64 L2461.38 2320.43 L2448.91 2320.43 L2448.91 2316.64 Z\" fill=\"#000000\" fill-rule=\"evenodd\" fill-opacity=\"1\" /><path clip-path=\"url(#clip3500)\" d=\"M 0 0 M2476.45 2300.04 Q2472.84 2300.04 2471.01 2303.6 Q2469.21 2307.14 2469.21 2314.27 Q2469.21 2321.38 2471.01 2324.95 Q2472.84 2328.49 2476.45 2328.49 Q2480.09 2328.49 2481.89 2324.95 Q2483.72 2321.38 2483.72 2314.27 Q2483.72 2307.14 2481.89 2303.6 Q2480.09 2300.04 2476.45 2300.04 M2476.45 2296.33 Q2482.26 2296.33 2485.32 2300.94 Q2488.4 2305.52 2488.4 2314.27 Q2488.4 2323 2485.32 2327.61 Q2482.26 2332.19 2476.45 2332.19 Q2470.64 2332.19 2467.56 2327.61 Q2464.51 2323 2464.51 2314.27 Q2464.51 2305.52 2467.56 2300.94 Q2470.64 2296.33 2476.45 2296.33 Z\" fill=\"#000000\" fill-rule=\"evenodd\" fill-opacity=\"1\" /><path clip-path=\"url(#clip3500)\" d=\"M 0 0 M2494.28 2327.58 L2501.91 2327.58 L2501.91 2301.22 L2493.6 2302.89 L2493.6 2298.63 L2501.87 2296.96 L2506.54 2296.96 L2506.54 2327.58 L2514.18 2327.58 L2514.18 2331.52 L2494.28 2331.52 L2494.28 2327.58 Z\" fill=\"#000000\" fill-rule=\"evenodd\" fill-opacity=\"1\" /><path clip-path=\"url(#clip3500)\" d=\"M 0 0 M2516.5 2316.64 L2528.97 2316.64 L2528.97 2320.43 L2516.5 2320.43 L2516.5 2316.64 Z\" fill=\"#000000\" fill-rule=\"evenodd\" fill-opacity=\"1\" /><path clip-path=\"url(#clip3500)\" d=\"M 0 0 M2544.04 2300.04 Q2540.43 2300.04 2538.6 2303.6 Q2536.8 2307.14 2536.8 2314.27 Q2536.8 2321.38 2538.6 2324.95 Q2540.43 2328.49 2544.04 2328.49 Q2547.68 2328.49 2549.48 2324.95 Q2551.31 2321.38 2551.31 2314.27 Q2551.31 2307.14 2549.48 2303.6 Q2547.68 2300.04 2544.04 2300.04 M2544.04 2296.33 Q2549.85 2296.33 2552.91 2300.94 Q2555.99 2305.52 2555.99 2314.27 Q2555.99 2323 2552.91 2327.61 Q2549.85 2332.19 2544.04 2332.19 Q2538.23 2332.19 2535.15 2327.61 Q2532.1 2323 2532.1 2314.27 Q2532.1 2305.52 2535.15 2300.94 Q2538.23 2296.33 2544.04 2296.33 Z\" fill=\"#000000\" fill-rule=\"evenodd\" fill-opacity=\"1\" /><path clip-path=\"url(#clip3500)\" d=\"M 0 0 M2561.87 2327.58 L2569.51 2327.58 L2569.51 2301.22 L2561.2 2302.89 L2561.2 2298.63 L2569.46 2296.96 L2574.14 2296.96 L2574.14 2327.58 L2581.77 2327.58 L2581.77 2331.52 L2561.87 2331.52 L2561.87 2327.58 Z\" fill=\"#000000\" fill-rule=\"evenodd\" fill-opacity=\"1\" /><path clip-path=\"url(#clip3500)\" d=\"M 0 0 M3877.51 2327.58 L3893.83 2327.58 L3893.83 2331.52 L3871.88 2331.52 L3871.88 2327.58 Q3874.55 2324.83 3879.13 2320.2 Q3883.74 2315.55 3884.92 2314.2 Q3887.16 2311.68 3888.04 2309.95 Q3888.94 2308.19 3888.94 2306.5 Q3888.94 2303.74 3887 2302.01 Q3885.08 2300.27 3881.98 2300.27 Q3879.78 2300.27 3877.32 2301.03 Q3874.89 2301.8 3872.11 2303.35 L3872.11 2298.63 Q3874.94 2297.49 3877.39 2296.91 Q3879.85 2296.33 3881.88 2296.33 Q3887.25 2296.33 3890.45 2299.02 Q3893.64 2301.7 3893.64 2306.2 Q3893.64 2308.32 3892.83 2310.25 Q3892.05 2312.14 3889.94 2314.74 Q3889.36 2315.41 3886.26 2318.63 Q3883.16 2321.82 3877.51 2327.58 Z\" fill=\"#000000\" fill-rule=\"evenodd\" fill-opacity=\"1\" /><path clip-path=\"url(#clip3500)\" d=\"M 0 0 M3908.9 2300.04 Q3905.29 2300.04 3903.46 2303.6 Q3901.65 2307.14 3901.65 2314.27 Q3901.65 2321.38 3903.46 2324.95 Q3905.29 2328.49 3908.9 2328.49 Q3912.53 2328.49 3914.34 2324.95 Q3916.17 2321.38 3916.17 2314.27 Q3916.17 2307.14 3914.34 2303.6 Q3912.53 2300.04 3908.9 2300.04 M3908.9 2296.33 Q3914.71 2296.33 3917.76 2300.94 Q3920.84 2305.52 3920.84 2314.27 Q3920.84 2323 3917.76 2327.61 Q3914.71 2332.19 3908.9 2332.19 Q3903.09 2332.19 3900.01 2327.61 Q3896.95 2323 3896.95 2314.27 Q3896.95 2305.52 3900.01 2300.94 Q3903.09 2296.33 3908.9 2296.33 Z\" fill=\"#000000\" fill-rule=\"evenodd\" fill-opacity=\"1\" /><path clip-path=\"url(#clip3500)\" d=\"M 0 0 M3926.72 2327.58 L3934.36 2327.58 L3934.36 2301.22 L3926.05 2302.89 L3926.05 2298.63 L3934.31 2296.96 L3938.99 2296.96 L3938.99 2327.58 L3946.63 2327.58 L3946.63 2331.52 L3926.72 2331.52 L3926.72 2327.58 Z\" fill=\"#000000\" fill-rule=\"evenodd\" fill-opacity=\"1\" /><path clip-path=\"url(#clip3500)\" d=\"M 0 0 M3950.52 2296.96 L3972.74 2296.96 L3972.74 2298.95 L3960.19 2331.52 L3955.31 2331.52 L3967.11 2300.89 L3950.52 2300.89 L3950.52 2296.96 Z\" fill=\"#000000\" fill-rule=\"evenodd\" fill-opacity=\"1\" /><path clip-path=\"url(#clip3500)\" d=\"M 0 0 M3975.05 2316.64 L3987.53 2316.64 L3987.53 2320.43 L3975.05 2320.43 L3975.05 2316.64 Z\" fill=\"#000000\" fill-rule=\"evenodd\" fill-opacity=\"1\" /><path clip-path=\"url(#clip3500)\" d=\"M 0 0 M4002.6 2300.04 Q3998.99 2300.04 3997.16 2303.6 Q3995.36 2307.14 3995.36 2314.27 Q3995.36 2321.38 3997.16 2324.95 Q3998.99 2328.49 4002.6 2328.49 Q4006.23 2328.49 4008.04 2324.95 Q4009.87 2321.38 4009.87 2314.27 Q4009.87 2307.14 4008.04 2303.6 Q4006.23 2300.04 4002.6 2300.04 M4002.6 2296.33 Q4008.41 2296.33 4011.47 2300.94 Q4014.54 2305.52 4014.54 2314.27 Q4014.54 2323 4011.47 2327.61 Q4008.41 2332.19 4002.6 2332.19 Q3996.79 2332.19 3993.71 2327.61 Q3990.66 2323 3990.66 2314.27 Q3990.66 2305.52 3993.71 2300.94 Q3996.79 2296.33 4002.6 2296.33 Z\" fill=\"#000000\" fill-rule=\"evenodd\" fill-opacity=\"1\" /><path clip-path=\"url(#clip3500)\" d=\"M 0 0 M4020.42 2327.58 L4028.06 2327.58 L4028.06 2301.22 L4019.75 2302.89 L4019.75 2298.63 L4028.02 2296.96 L4032.69 2296.96 L4032.69 2327.58 L4040.33 2327.58 L4040.33 2331.52 L4020.42 2331.52 L4020.42 2327.58 Z\" fill=\"#000000\" fill-rule=\"evenodd\" fill-opacity=\"1\" /><path clip-path=\"url(#clip3500)\" d=\"M 0 0 M4042.65 2316.64 L4055.12 2316.64 L4055.12 2320.43 L4042.65 2320.43 L4042.65 2316.64 Z\" fill=\"#000000\" fill-rule=\"evenodd\" fill-opacity=\"1\" /><path clip-path=\"url(#clip3500)\" d=\"M 0 0 M4070.19 2300.04 Q4066.58 2300.04 4064.75 2303.6 Q4062.95 2307.14 4062.95 2314.27 Q4062.95 2321.38 4064.75 2324.95 Q4066.58 2328.49 4070.19 2328.49 Q4073.83 2328.49 4075.63 2324.95 Q4077.46 2321.38 4077.46 2314.27 Q4077.46 2307.14 4075.63 2303.6 Q4073.83 2300.04 4070.19 2300.04 M4070.19 2296.33 Q4076 2296.33 4079.06 2300.94 Q4082.14 2305.52 4082.14 2314.27 Q4082.14 2323 4079.06 2327.61 Q4076 2332.19 4070.19 2332.19 Q4064.38 2332.19 4061.3 2327.61 Q4058.25 2323 4058.25 2314.27 Q4058.25 2305.52 4061.3 2300.94 Q4064.38 2296.33 4070.19 2296.33 Z\" fill=\"#000000\" fill-rule=\"evenodd\" fill-opacity=\"1\" /><path clip-path=\"url(#clip3500)\" d=\"M 0 0 M4088.02 2327.58 L4095.66 2327.58 L4095.66 2301.22 L4087.35 2302.89 L4087.35 2298.63 L4095.61 2296.96 L4100.29 2296.96 L4100.29 2327.58 L4107.92 2327.58 L4107.92 2331.52 L4088.02 2331.52 L4088.02 2327.58 Z\" fill=\"#000000\" fill-rule=\"evenodd\" fill-opacity=\"1\" /><path clip-path=\"url(#clip3500)\" d=\"M 0 0 M5401.16 2327.58 L5417.48 2327.58 L5417.48 2331.52 L5395.54 2331.52 L5395.54 2327.58 Q5398.2 2324.83 5402.79 2320.2 Q5407.39 2315.55 5408.57 2314.2 Q5410.82 2311.68 5411.7 2309.95 Q5412.6 2308.19 5412.6 2306.5 Q5412.6 2303.74 5410.66 2302.01 Q5408.73 2300.27 5405.63 2300.27 Q5403.43 2300.27 5400.98 2301.03 Q5398.55 2301.8 5395.77 2303.35 L5395.77 2298.63 Q5398.6 2297.49 5401.05 2296.91 Q5403.5 2296.33 5405.54 2296.33 Q5410.91 2296.33 5414.1 2299.02 Q5417.3 2301.7 5417.3 2306.2 Q5417.3 2308.32 5416.49 2310.25 Q5415.7 2312.14 5413.6 2314.74 Q5413.02 2315.41 5409.91 2318.63 Q5406.81 2321.82 5401.16 2327.58 Z\" fill=\"#000000\" fill-rule=\"evenodd\" fill-opacity=\"1\" /><path clip-path=\"url(#clip3500)\" d=\"M 0 0 M5432.55 2300.04 Q5428.94 2300.04 5427.11 2303.6 Q5425.31 2307.14 5425.31 2314.27 Q5425.31 2321.38 5427.11 2324.95 Q5428.94 2328.49 5432.55 2328.49 Q5436.19 2328.49 5437.99 2324.95 Q5439.82 2321.38 5439.82 2314.27 Q5439.82 2307.14 5437.99 2303.6 Q5436.19 2300.04 5432.55 2300.04 M5432.55 2296.33 Q5438.36 2296.33 5441.42 2300.94 Q5444.5 2305.52 5444.5 2314.27 Q5444.5 2323 5441.42 2327.61 Q5438.36 2332.19 5432.55 2332.19 Q5426.74 2332.19 5423.66 2327.61 Q5420.61 2323 5420.61 2314.27 Q5420.61 2305.52 5423.66 2300.94 Q5426.74 2296.33 5432.55 2296.33 Z\" fill=\"#000000\" fill-rule=\"evenodd\" fill-opacity=\"1\" /><path clip-path=\"url(#clip3500)\" d=\"M 0 0 M5450.38 2327.58 L5458.02 2327.58 L5458.02 2301.22 L5449.71 2302.89 L5449.71 2298.63 L5457.97 2296.96 L5462.65 2296.96 L5462.65 2327.58 L5470.28 2327.58 L5470.28 2331.52 L5450.38 2331.52 L5450.38 2327.58 Z\" fill=\"#000000\" fill-rule=\"evenodd\" fill-opacity=\"1\" /><path clip-path=\"url(#clip3500)\" d=\"M 0 0 M5475.49 2330.8 L5475.49 2326.54 Q5477.25 2327.38 5479.06 2327.82 Q5480.86 2328.26 5482.6 2328.26 Q5487.23 2328.26 5489.66 2325.15 Q5492.11 2322.03 5492.46 2315.69 Q5491.12 2317.68 5489.06 2318.74 Q5487 2319.81 5484.5 2319.81 Q5479.31 2319.81 5476.28 2316.68 Q5473.27 2313.53 5473.27 2308.09 Q5473.27 2302.77 5476.42 2299.55 Q5479.57 2296.33 5484.8 2296.33 Q5490.79 2296.33 5493.94 2300.94 Q5497.11 2305.52 5497.11 2314.27 Q5497.11 2322.45 5493.22 2327.33 Q5489.36 2332.19 5482.81 2332.19 Q5481.05 2332.19 5479.24 2331.84 Q5477.44 2331.5 5475.49 2330.8 M5484.8 2316.15 Q5487.95 2316.15 5489.78 2314 Q5491.63 2311.84 5491.63 2308.09 Q5491.63 2304.37 5489.78 2302.21 Q5487.95 2300.04 5484.8 2300.04 Q5481.65 2300.04 5479.8 2302.21 Q5477.97 2304.37 5477.97 2308.09 Q5477.97 2311.84 5479.8 2314 Q5481.65 2316.15 5484.8 2316.15 Z\" fill=\"#000000\" fill-rule=\"evenodd\" fill-opacity=\"1\" /><path clip-path=\"url(#clip3500)\" d=\"M 0 0 M5499.43 2316.64 L5511.9 2316.64 L5511.9 2320.43 L5499.43 2320.43 L5499.43 2316.64 Z\" fill=\"#000000\" fill-rule=\"evenodd\" fill-opacity=\"1\" /><path clip-path=\"url(#clip3500)\" d=\"M 0 0 M5526.97 2300.04 Q5523.36 2300.04 5521.53 2303.6 Q5519.73 2307.14 5519.73 2314.27 Q5519.73 2321.38 5521.53 2324.95 Q5523.36 2328.49 5526.97 2328.49 Q5530.61 2328.49 5532.41 2324.95 Q5534.24 2321.38 5534.24 2314.27 Q5534.24 2307.14 5532.41 2303.6 Q5530.61 2300.04 5526.97 2300.04 M5526.97 2296.33 Q5532.78 2296.33 5535.84 2300.94 Q5538.92 2305.52 5538.92 2314.27 Q5538.92 2323 5535.84 2327.61 Q5532.78 2332.19 5526.97 2332.19 Q5521.16 2332.19 5518.09 2327.61 Q5515.03 2323 5515.03 2314.27 Q5515.03 2305.52 5518.09 2300.94 Q5521.16 2296.33 5526.97 2296.33 Z\" fill=\"#000000\" fill-rule=\"evenodd\" fill-opacity=\"1\" /><path clip-path=\"url(#clip3500)\" d=\"M 0 0 M5544.8 2327.58 L5552.44 2327.58 L5552.44 2301.22 L5544.13 2302.89 L5544.13 2298.63 L5552.39 2296.96 L5557.07 2296.96 L5557.07 2327.58 L5564.71 2327.58 L5564.71 2331.52 L5544.8 2331.52 L5544.8 2327.58 Z\" fill=\"#000000\" fill-rule=\"evenodd\" fill-opacity=\"1\" /><path clip-path=\"url(#clip3500)\" d=\"M 0 0 M5567.02 2316.64 L5579.5 2316.64 L5579.5 2320.43 L5567.02 2320.43 L5567.02 2316.64 Z\" fill=\"#000000\" fill-rule=\"evenodd\" fill-opacity=\"1\" /><path clip-path=\"url(#clip3500)\" d=\"M 0 0 M5594.57 2300.04 Q5590.96 2300.04 5589.13 2303.6 Q5587.32 2307.14 5587.32 2314.27 Q5587.32 2321.38 5589.13 2324.95 Q5590.96 2328.49 5594.57 2328.49 Q5598.2 2328.49 5600.01 2324.95 Q5601.83 2321.38 5601.83 2314.27 Q5601.83 2307.14 5600.01 2303.6 Q5598.2 2300.04 5594.57 2300.04 M5594.57 2296.33 Q5600.38 2296.33 5603.43 2300.94 Q5606.51 2305.52 5606.51 2314.27 Q5606.51 2323 5603.43 2327.61 Q5600.38 2332.19 5594.57 2332.19 Q5588.76 2332.19 5585.68 2327.61 Q5582.62 2323 5582.62 2314.27 Q5582.62 2305.52 5585.68 2300.94 Q5588.76 2296.33 5594.57 2296.33 Z\" fill=\"#000000\" fill-rule=\"evenodd\" fill-opacity=\"1\" /><path clip-path=\"url(#clip3500)\" d=\"M 0 0 M5612.39 2327.58 L5620.03 2327.58 L5620.03 2301.22 L5611.72 2302.89 L5611.72 2298.63 L5619.98 2296.96 L5624.66 2296.96 L5624.66 2327.58 L5632.3 2327.58 L5632.3 2331.52 L5612.39 2331.52 L5612.39 2327.58 Z\" fill=\"#000000\" fill-rule=\"evenodd\" fill-opacity=\"1\" /><path clip-path=\"url(#clip3500)\" d=\"M 0 0 M118.781 1808.44 L106.975 1826.89 L118.781 1826.89 L118.781 1808.44 M117.554 1804.37 L123.434 1804.37 L123.434 1826.89 L128.364 1826.89 L128.364 1830.78 L123.434 1830.78 L123.434 1838.93 L118.781 1838.93 L118.781 1830.78 L103.179 1830.78 L103.179 1826.26 L117.554 1804.37 Z\" fill=\"#000000\" fill-rule=\"evenodd\" fill-opacity=\"1\" /><path clip-path=\"url(#clip3500)\" d=\"M 0 0 M143.433 1807.45 Q139.822 1807.45 137.994 1811.01 Q136.188 1814.55 136.188 1821.68 Q136.188 1828.79 137.994 1832.35 Q139.822 1835.89 143.433 1835.89 Q147.068 1835.89 148.873 1832.35 Q150.702 1828.79 150.702 1821.68 Q150.702 1814.55 148.873 1811.01 Q147.068 1807.45 143.433 1807.45 M143.433 1803.74 Q149.244 1803.74 152.299 1808.35 Q155.378 1812.93 155.378 1821.68 Q155.378 1830.41 152.299 1835.01 Q149.244 1839.6 143.433 1839.6 Q137.623 1839.6 134.545 1835.01 Q131.489 1830.41 131.489 1821.68 Q131.489 1812.93 134.545 1808.35 Q137.623 1803.74 143.433 1803.74 Z\" fill=\"#000000\" fill-rule=\"evenodd\" fill-opacity=\"1\" /><path clip-path=\"url(#clip3500)\" d=\"M 0 0 M119.776 1332.91 L107.971 1351.36 L119.776 1351.36 L119.776 1332.91 M118.549 1328.83 L124.429 1328.83 L124.429 1351.36 L129.359 1351.36 L129.359 1355.25 L124.429 1355.25 L124.429 1363.39 L119.776 1363.39 L119.776 1355.25 L104.174 1355.25 L104.174 1350.73 L118.549 1328.83 Z\" fill=\"#000000\" fill-rule=\"evenodd\" fill-opacity=\"1\" /><path clip-path=\"url(#clip3500)\" d=\"M 0 0 M134.475 1328.83 L152.832 1328.83 L152.832 1332.77 L138.758 1332.77 L138.758 1341.24 Q139.776 1340.89 140.795 1340.73 Q141.813 1340.55 142.832 1340.55 Q148.619 1340.55 151.998 1343.72 Q155.378 1346.89 155.378 1352.31 Q155.378 1357.88 151.906 1360.99 Q148.433 1364.07 142.114 1364.07 Q139.938 1364.07 137.67 1363.7 Q135.424 1363.32 133.017 1362.58 L133.017 1357.88 Q135.1 1359.02 137.322 1359.57 Q139.545 1360.13 142.021 1360.13 Q146.026 1360.13 148.364 1358.02 Q150.702 1355.92 150.702 1352.31 Q150.702 1348.7 148.364 1346.59 Q146.026 1344.48 142.021 1344.48 Q140.146 1344.48 138.271 1344.9 Q136.42 1345.32 134.475 1346.2 L134.475 1328.83 Z\" fill=\"#000000\" fill-rule=\"evenodd\" fill-opacity=\"1\" /><path clip-path=\"url(#clip3500)\" d=\"M 0 0 M107.461 853.301 L125.818 853.301 L125.818 857.237 L111.744 857.237 L111.744 865.709 Q112.762 865.362 113.781 865.199 Q114.799 865.014 115.818 865.014 Q121.605 865.014 124.984 868.186 Q128.364 871.357 128.364 876.773 Q128.364 882.352 124.892 885.454 Q121.42 888.533 115.1 888.533 Q112.924 888.533 110.656 888.162 Q108.41 887.792 106.003 887.051 L106.003 882.352 Q108.086 883.486 110.309 884.042 Q112.531 884.598 115.008 884.598 Q119.012 884.598 121.35 882.491 Q123.688 880.385 123.688 876.773 Q123.688 873.162 121.35 871.056 Q119.012 868.949 115.008 868.949 Q113.133 868.949 111.258 869.366 Q109.406 869.783 107.461 870.662 L107.461 853.301 Z\" fill=\"#000000\" fill-rule=\"evenodd\" fill-opacity=\"1\" /><path clip-path=\"url(#clip3500)\" d=\"M 0 0 M143.433 856.38 Q139.822 856.38 137.994 859.945 Q136.188 863.487 136.188 870.616 Q136.188 877.723 137.994 881.287 Q139.822 884.829 143.433 884.829 Q147.068 884.829 148.873 881.287 Q150.702 877.723 150.702 870.616 Q150.702 863.487 148.873 859.945 Q147.068 856.38 143.433 856.38 M143.433 852.676 Q149.244 852.676 152.299 857.283 Q155.378 861.866 155.378 870.616 Q155.378 879.343 152.299 883.949 Q149.244 888.533 143.433 888.533 Q137.623 888.533 134.545 883.949 Q131.489 879.343 131.489 870.616 Q131.489 861.866 134.545 857.283 Q137.623 852.676 143.433 852.676 Z\" fill=\"#000000\" fill-rule=\"evenodd\" fill-opacity=\"1\" /><path clip-path=\"url(#clip3500)\" d=\"M 0 0 M108.457 377.769 L126.813 377.769 L126.813 381.704 L112.739 381.704 L112.739 390.176 Q113.758 389.829 114.776 389.667 Q115.795 389.482 116.813 389.482 Q122.6 389.482 125.98 392.653 Q129.359 395.824 129.359 401.241 Q129.359 406.819 125.887 409.921 Q122.415 413 116.096 413 Q113.92 413 111.651 412.63 Q109.406 412.259 106.998 411.519 L106.998 406.819 Q109.082 407.954 111.304 408.509 Q113.526 409.065 116.003 409.065 Q120.008 409.065 122.346 406.958 Q124.684 404.852 124.684 401.241 Q124.684 397.63 122.346 395.523 Q120.008 393.417 116.003 393.417 Q114.128 393.417 112.253 393.833 Q110.401 394.25 108.457 395.13 L108.457 377.769 Z\" fill=\"#000000\" fill-rule=\"evenodd\" fill-opacity=\"1\" /><path clip-path=\"url(#clip3500)\" d=\"M 0 0 M134.475 377.769 L152.832 377.769 L152.832 381.704 L138.758 381.704 L138.758 390.176 Q139.776 389.829 140.795 389.667 Q141.813 389.482 142.832 389.482 Q148.619 389.482 151.998 392.653 Q155.378 395.824 155.378 401.241 Q155.378 406.819 151.906 409.921 Q148.433 413 142.114 413 Q139.938 413 137.67 412.63 Q135.424 412.259 133.017 411.519 L133.017 406.819 Q135.1 407.954 137.322 408.509 Q139.545 409.065 142.021 409.065 Q146.026 409.065 148.364 406.958 Q150.702 404.852 150.702 401.241 Q150.702 397.63 148.364 395.523 Q146.026 393.417 142.021 393.417 Q140.146 393.417 138.271 393.833 Q136.42 394.25 134.475 395.13 L134.475 377.769 Z\" fill=\"#000000\" fill-rule=\"evenodd\" fill-opacity=\"1\" /><path clip-path=\"url(#clip3500)\" d=\"M 0 0 M3534.83 2388.14 L3534.83 2398.26 L3546.89 2398.26 L3546.89 2402.81 L3534.83 2402.81 L3534.83 2422.17 Q3534.83 2426.53 3536.01 2427.77 Q3537.22 2429.01 3540.88 2429.01 L3546.89 2429.01 L3546.89 2433.91 L3540.88 2433.91 Q3534.1 2433.91 3531.52 2431.4 Q3528.94 2428.85 3528.94 2422.17 L3528.94 2402.81 L3524.65 2402.81 L3524.65 2398.26 L3528.94 2398.26 L3528.94 2388.14 L3534.83 2388.14 Z\" fill=\"#000000\" fill-rule=\"evenodd\" fill-opacity=\"1\" /><path clip-path=\"url(#clip3500)\" d=\"M 0 0 M3553.04 2398.26 L3558.89 2398.26 L3558.89 2433.91 L3553.04 2433.91 L3553.04 2398.26 M3553.04 2384.39 L3558.89 2384.39 L3558.89 2391.8 L3553.04 2391.8 L3553.04 2384.39 Z\" fill=\"#000000\" fill-rule=\"evenodd\" fill-opacity=\"1\" /><path clip-path=\"url(#clip3500)\" d=\"M 0 0 M3592.79 2405.11 Q3594.99 2401.16 3598.04 2399.28 Q3601.1 2397.4 3605.24 2397.4 Q3610.81 2397.4 3613.83 2401.32 Q3616.85 2405.2 3616.85 2412.4 L3616.85 2433.91 L3610.96 2433.91 L3610.96 2412.59 Q3610.96 2407.46 3609.15 2404.98 Q3607.34 2402.5 3603.61 2402.5 Q3599.06 2402.5 3596.42 2405.52 Q3593.78 2408.54 3593.78 2413.76 L3593.78 2433.91 L3587.89 2433.91 L3587.89 2412.59 Q3587.89 2407.43 3586.07 2404.98 Q3584.26 2402.5 3580.47 2402.5 Q3575.99 2402.5 3573.34 2405.55 Q3570.7 2408.58 3570.7 2413.76 L3570.7 2433.91 L3564.81 2433.91 L3564.81 2398.26 L3570.7 2398.26 L3570.7 2403.8 Q3572.71 2400.52 3575.51 2398.96 Q3578.31 2397.4 3582.16 2397.4 Q3586.04 2397.4 3588.75 2399.38 Q3591.49 2401.35 3592.79 2405.11 Z\" fill=\"#000000\" fill-rule=\"evenodd\" fill-opacity=\"1\" /><path clip-path=\"url(#clip3500)\" d=\"M 0 0 M3653.49 2414.62 L3653.49 2417.49 L3626.56 2417.49 Q3626.94 2423.54 3630.19 2426.72 Q3633.47 2429.87 3639.29 2429.87 Q3642.67 2429.87 3645.82 2429.04 Q3649 2428.21 3652.12 2426.56 L3652.12 2432.1 Q3648.97 2433.43 3645.66 2434.13 Q3642.35 2434.83 3638.94 2434.83 Q3630.41 2434.83 3625.42 2429.87 Q3620.45 2424.9 3620.45 2416.44 Q3620.45 2407.68 3625.16 2402.56 Q3629.9 2397.4 3637.92 2397.4 Q3645.12 2397.4 3649.29 2402.05 Q3653.49 2406.67 3653.49 2414.62 M3647.63 2412.9 Q3647.57 2408.1 3644.93 2405.23 Q3642.32 2402.37 3637.99 2402.37 Q3633.09 2402.37 3630.13 2405.14 Q3627.2 2407.91 3626.75 2412.94 L3647.63 2412.9 Z\" fill=\"#000000\" fill-rule=\"evenodd\" fill-opacity=\"1\" /><path clip-path=\"url(#clip3500)\" d=\"M 0 0 M-16.7249 1287.55 L-16.7249 1281.69 L18.923 1281.69 L18.923 1287.55 L-16.7249 1287.55 M-30.6022 1287.55 L-30.6022 1281.69 L-23.1861 1281.69 L-23.1861 1287.55 L-30.6022 1287.55 Z\" fill=\"#000000\" fill-rule=\"evenodd\" fill-opacity=\"1\" /><path clip-path=\"url(#clip3500)\" d=\"M 0 0 M-2.59307 1245.92 L18.923 1245.92 L18.923 1251.77 L-2.4021 1251.77 Q-7.46284 1251.77 -9.97729 1253.74 Q-12.4917 1255.72 -12.4917 1259.67 Q-12.4917 1264.41 -9.46804 1267.14 Q-6.44433 1269.88 -1.22445 1269.88 L18.923 1269.88 L18.923 1275.77 L-16.7249 1275.77 L-16.7249 1269.88 L-11.1868 1269.88 Q-14.4015 1267.78 -15.9929 1264.95 Q-17.5843 1262.08 -17.5843 1258.36 Q-17.5843 1252.22 -13.7649 1249.07 Q-9.97729 1245.92 -2.59307 1245.92 Z\" fill=\"#000000\" fill-rule=\"evenodd\" fill-opacity=\"1\" /><path clip-path=\"url(#clip3500)\" d=\"M 0 0 M-11.3141 1216.31 L-30.6022 1216.31 L-30.6022 1210.46 L18.923 1210.46 L18.923 1216.31 L13.5758 1216.31 Q16.7587 1218.16 18.3183 1220.99 Q19.846 1223.79 19.846 1227.74 Q19.846 1234.2 14.6898 1238.28 Q9.5336 1242.32 1.13086 1242.32 Q-7.27187 1242.32 -12.4281 1238.28 Q-17.5843 1234.2 -17.5843 1227.74 Q-17.5843 1223.79 -16.0247 1220.99 Q-14.4969 1218.16 -11.3141 1216.31 M1.13086 1236.27 Q7.59206 1236.27 11.2842 1233.63 Q14.9444 1230.96 14.9444 1226.31 Q14.9444 1221.66 11.2842 1218.99 Q7.59206 1216.31 1.13086 1216.31 Q-5.33033 1216.31 -8.99061 1218.99 Q-12.6827 1221.66 -12.6827 1226.31 Q-12.6827 1230.96 -8.99061 1233.63 Q-5.33033 1236.27 1.13086 1236.27 Z\" fill=\"#000000\" fill-rule=\"evenodd\" fill-opacity=\"1\" /><path clip-path=\"url(#clip3500)\" d=\"M 0 0 M-16.7249 1204.32 L-16.7249 1198.46 L18.923 1198.46 L18.923 1204.32 L-16.7249 1204.32 M-30.6022 1204.32 L-30.6022 1198.46 L-23.1861 1198.46 L-23.1861 1204.32 L-30.6022 1204.32 Z\" fill=\"#000000\" fill-rule=\"evenodd\" fill-opacity=\"1\" /><path clip-path=\"url(#clip3500)\" d=\"M 0 0 M-15.3563 1166.66 L-9.88181 1166.66 Q-11.2504 1169.14 -11.9188 1171.66 Q-12.6191 1174.14 -12.6191 1176.69 Q-12.6191 1182.39 -8.99061 1185.54 Q-5.39398 1188.69 1.13086 1188.69 Q7.65571 1188.69 11.2842 1185.54 Q14.8808 1182.39 14.8808 1176.69 Q14.8808 1174.14 14.2124 1171.66 Q13.5122 1169.14 12.1435 1166.66 L17.5544 1166.66 Q18.7002 1169.11 19.2731 1171.75 Q19.846 1174.36 19.846 1177.32 Q19.846 1185.38 14.7853 1190.12 Q9.72457 1194.86 1.13086 1194.86 Q-7.59015 1194.86 -12.5872 1190.09 Q-17.5843 1185.28 -17.5843 1176.94 Q-17.5843 1174.24 -17.0114 1171.66 Q-16.4703 1169.08 -15.3563 1166.66 Z\" fill=\"#000000\" fill-rule=\"evenodd\" fill-opacity=\"1\" /><path clip-path=\"url(#clip3500)\" d=\"M 0 0 M1.00355 1144.32 Q1.00355 1151.42 2.62681 1154.15 Q4.25006 1156.89 8.16497 1156.89 Q11.2842 1156.89 13.1302 1154.85 Q14.9444 1152.78 14.9444 1149.25 Q14.9444 1144.38 11.507 1141.45 Q8.03766 1138.49 2.30852 1138.49 L1.00355 1138.49 L1.00355 1144.32 M-1.41542 1132.64 L18.923 1132.64 L18.923 1138.49 L13.5122 1138.49 Q16.7587 1140.5 18.3183 1143.49 Q19.846 1146.48 19.846 1150.81 Q19.846 1156.29 16.7905 1159.53 Q13.7031 1162.75 8.54691 1162.75 Q2.53132 1162.75 -0.524219 1158.74 Q-3.57976 1154.69 -3.57976 1146.71 L-3.57976 1138.49 L-4.15267 1138.49 Q-8.1949 1138.49 -10.3911 1141.17 Q-12.6191 1143.81 -12.6191 1148.62 Q-12.6191 1151.67 -11.887 1154.57 Q-11.1549 1157.46 -9.69084 1160.14 L-15.1017 1160.14 Q-16.343 1156.92 -16.9477 1153.9 Q-17.5843 1150.88 -17.5843 1148.01 Q-17.5843 1140.28 -13.5739 1136.46 Q-9.56352 1132.64 -1.41542 1132.64 Z\" fill=\"#000000\" fill-rule=\"evenodd\" fill-opacity=\"1\" /><path clip-path=\"url(#clip3500)\" d=\"M 0 0 M-26.8464 1120.7 L-16.7249 1120.7 L-16.7249 1108.64 L-12.1735 1108.64 L-12.1735 1120.7 L7.17829 1120.7 Q11.5388 1120.7 12.7801 1119.52 Q14.0214 1118.31 14.0214 1114.65 L14.0214 1108.64 L18.923 1108.64 L18.923 1114.65 Q18.923 1121.43 16.4086 1124.01 Q13.8623 1126.59 7.17829 1126.59 L-12.1735 1126.59 L-12.1735 1130.89 L-16.7249 1130.89 L-16.7249 1126.59 L-26.8464 1126.59 L-26.8464 1120.7 Z\" fill=\"#000000\" fill-rule=\"evenodd\" fill-opacity=\"1\" /><path clip-path=\"url(#clip3500)\" d=\"M 0 0 M-12.6191 1088.68 Q-12.6191 1093.39 -8.92695 1096.13 Q-5.26667 1098.87 1.13086 1098.87 Q7.5284 1098.87 11.2205 1096.16 Q14.8808 1093.42 14.8808 1088.68 Q14.8808 1084 11.1887 1081.27 Q7.49657 1078.53 1.13086 1078.53 Q-5.20301 1078.53 -8.89512 1081.27 Q-12.6191 1084 -12.6191 1088.68 M-17.5843 1088.68 Q-17.5843 1081.04 -12.6191 1076.68 Q-7.65381 1072.32 1.13086 1072.32 Q9.88371 1072.32 14.8808 1076.68 Q19.846 1081.04 19.846 1088.68 Q19.846 1096.35 14.8808 1100.71 Q9.88371 1105.04 1.13086 1105.04 Q-7.65381 1105.04 -12.6191 1100.71 Q-17.5843 1096.35 -17.5843 1088.68 Z\" fill=\"#000000\" fill-rule=\"evenodd\" fill-opacity=\"1\" /><path clip-path=\"url(#clip3500)\" d=\"M 0 0 M-11.2504 1045.52 Q-11.8233 1046.51 -12.078 1047.69 Q-12.3644 1048.83 -12.3644 1050.23 Q-12.3644 1055.2 -9.11792 1057.87 Q-5.90324 1060.51 0.14418 1060.51 L18.923 1060.51 L18.923 1066.4 L-16.7249 1066.4 L-16.7249 1060.51 L-11.1868 1060.51 Q-14.4333 1058.67 -15.9929 1055.71 Q-17.5843 1052.75 -17.5843 1048.51 Q-17.5843 1047.91 -17.4888 1047.18 Q-17.4252 1046.45 -17.266 1045.55 L-11.2504 1045.52 Z\" fill=\"#000000\" fill-rule=\"evenodd\" fill-opacity=\"1\" /><path clip-path=\"url(#clip3500)\" d=\"M 0 0 M-15.6746 1016.65 L-10.1364 1016.65 Q-11.4096 1019.14 -12.0461 1021.81 Q-12.6827 1024.48 -12.6827 1027.35 Q-12.6827 1031.71 -11.3459 1033.91 Q-10.0091 1036.07 -7.33553 1036.07 Q-5.2985 1036.07 -4.12084 1034.51 Q-2.97502 1032.95 -1.92467 1028.24 L-1.47908 1026.23 Q-0.142277 1020 2.30852 1017.39 Q4.72749 1014.74 9.088 1014.74 Q14.0532 1014.74 16.9496 1018.69 Q19.846 1022.61 19.846 1029.48 Q19.846 1032.35 19.2731 1035.46 Q18.732 1038.55 17.618 1041.99 L11.5706 1041.99 Q13.2575 1038.74 14.1169 1035.59 Q14.9444 1032.44 14.9444 1029.35 Q14.9444 1025.22 13.544 1022.99 Q12.1117 1020.76 9.5336 1020.76 Q7.14646 1020.76 5.87332 1022.38 Q4.60017 1023.97 3.42252 1029.42 L2.94509 1031.45 Q1.79926 1036.9 -0.556048 1039.32 Q-2.94319 1041.74 -7.0809 1041.74 Q-12.1098 1041.74 -14.8471 1038.17 Q-17.5843 1034.61 -17.5843 1028.05 Q-17.5843 1024.8 -17.1069 1021.94 Q-16.6295 1019.07 -15.6746 1016.65 Z\" fill=\"#000000\" fill-rule=\"evenodd\" fill-opacity=\"1\" /><polyline clip-path=\"url(#clip3502)\" style=\"stroke:#009af9; stroke-width:4; stroke-opacity:1; fill:none\" points=\"\n",
       "  6762.36,528.198 6724.78,784.986 6703.9,746.943 6655.89,889.603 6639.18,908.624 6593.26,1840.67 6570.29,1840.67 6528.54,2192.56 6511.84,2116.48 6465.91,1013.24 \n",
       "  6449.2,946.667 6403.28,804.007 6382.4,794.496 6344.82,689.879 6323.94,708.9 6278.01,642.326 6242.52,632.815 6213.3,623.304 6192.42,661.347 6148.58,746.943 \n",
       "  6131.88,727.922 6083.86,765.964 6067.16,775.475 6025.4,842.049 6000.35,880.092 5956.51,832.539 5939.81,870.581 5891.79,813.517 5870.91,861.071 5833.34,823.028 \n",
       "  5810.37,813.517 5764.44,623.304 5737.3,642.326 5701.81,642.326 5680.93,632.815 5637.09,585.262 5620.39,518.687 5578.64,404.559 5561.94,404.559 5516.01,509.177 \n",
       "  5476.34,499.666 5453.38,366.517 5432.5,357.006 5386.57,328.474 5369.87,309.453 5321.85,337.985 5300.97,337.985 5265.48,423.581 5240.43,442.602 5194.5,366.517 \n",
       "  5177.8,347.495 5131.87,357.006 5110.99,433.091 5067.15,261.9 5048.36,242.878 5002.43,252.389 4985.73,252.389 4941.89,337.985 4918.93,328.474 4875.09,366.517 \n",
       "  4858.38,309.453 4816.63,347.495 4799.93,347.495 4754,385.538 4714.33,395.049 4687.19,499.666 4672.58,509.177 4624.56,433.091 4607.86,442.602 4561.93,575.751 \n",
       "  4541.05,585.262 4497.21,604.283 4478.42,632.815 4432.49,556.73 4415.79,566.24 4371.95,680.368 4351.07,670.858 4305.15,613.794 4286.36,632.815 4240.43,604.283 \n",
       "  4219.55,604.283 4181.97,556.73 4161.09,547.219 4113.08,471.134 4096.38,461.623 4054.62,395.049 4037.92,385.538 3994.08,461.623 3954.41,471.134 3925.19,480.645 \n",
       "  3908.48,499.666 3862.55,547.219 3845.85,566.24 3802.01,727.922 3781.13,737.432 3735.21,680.368 3716.42,670.858 3670.49,594.772 3649.61,594.772 3605.77,746.943 \n",
       "  3589.07,737.432 3543.14,804.007 3524.35,823.028 3480.51,794.496 3459.63,794.496 3415.79,727.922 3394.91,737.432 3351.07,746.943 3334.37,775.475 3290.53,642.326 \n",
       "  3269.65,613.794 3232.07,756.454 3192.41,746.943 3161.09,604.283 3144.39,623.304 3100.55,480.645 3079.67,490.155 3033.74,575.751 3017.04,585.262 2971.11,585.262 \n",
       "  2948.15,594.772 2910.57,509.177 2889.69,509.177 2841.67,528.198 2824.97,547.219 2779.04,490.155 2756.08,509.177 2714.32,480.645 2697.62,471.134 2651.69,328.474 \n",
       "  2634.99,366.517 2589.06,385.538 2568.19,461.623 2530.61,499.666 2509.73,518.687 2465.89,499.666 2430.4,518.687 2399.08,414.07 2376.12,423.581 2340.63,309.453 \n",
       "  2317.66,280.921 2271.73,157.282 2255.03,119.24 2211.19,119.24 2186.14,109.729 2144.38,318.963 2127.68,271.41 2079.67,176.304 2062.96,157.282 2019.12,157.282 \n",
       "  1996.16,280.921 1952.32,357.006 1935.61,357.006 1889.69,347.495 1872.98,347.495 1829.14,195.325 1806.18,233.368 1770.69,518.687 1747.72,518.687 1703.88,395.049 \n",
       "  1668.39,452.113 1639.16,423.581 1616.2,461.623 1574.44,699.39 1557.74,765.964 1509.73,604.283 1493.02,604.283 1451.27,575.751 1426.22,499.666 1382.38,518.687 \n",
       "  1365.68,566.24 1317.66,689.879 1294.69,661.347 1259.2,651.836 1236.24,689.879 1190.31,670.858 1173.61,680.368 1127.68,433.091 1104.71,404.559 1062.96,461.623 \n",
       "  1046.26,376.027 1004.5,318.963 987.803,290.432 941.874,490.155 902.207,471.134 879.243,604.283 854.191,642.326 812.437,775.475 795.735,746.943 747.718,765.964 \n",
       "  724.754,727.922 691.351,727.922 666.298,689.879 620.369,737.432 603.668,699.39 557.738,632.815 534.774,594.772 493.02,490.155 476.318,499.666 415.775,299.942 \n",
       "  \n",
       "  \"/>\n",
       "<polyline clip-path=\"url(#clip3502)\" style=\"stroke:#e26f46; stroke-width:4; stroke-opacity:1; fill:none\" points=\"\n",
       "  6762.36,765.964 6724.78,746.943 6703.9,899.113 6655.89,908.624 6639.18,1602.9 6593.26,1840.67 6570.29,2021.37 6528.54,2116.48 6511.84,1108.35 6465.91,946.667 \n",
       "  6449.2,823.028 6403.28,794.496 6382.4,784.986 6344.82,708.9 6323.94,651.836 6278.01,632.815 6242.52,642.326 6213.3,661.347 6192.42,737.432 6148.58,727.922 \n",
       "  6131.88,775.475 6083.86,775.475 6067.16,832.539 6025.4,880.092 6000.35,851.56 5956.51,870.581 5939.81,842.049 5891.79,861.071 5870.91,775.475 5833.34,813.517 \n",
       "  5810.37,594.772 5764.44,642.326 5737.3,604.283 5701.81,632.815 5680.93,537.709 5637.09,518.687 5620.39,490.155 5578.64,404.559 5561.94,471.134 5516.01,385.538 \n",
       "  5476.34,309.453 5453.38,299.942 5432.5,280.921 5386.57,290.432 5369.87,280.921 5321.85,357.006 5300.97,471.134 5265.48,461.623 5240.43,366.517 5194.5,337.985 \n",
       "  5177.8,376.027 5131.87,395.049 5110.99,280.921 5067.15,280.921 5048.36,261.9 5002.43,271.41 4985.73,271.41 4941.89,337.985 4918.93,357.006 4875.09,299.942 \n",
       "  4858.38,395.049 4816.63,404.559 4799.93,318.963 4754,290.432 4714.33,547.219 4687.19,566.24 4672.58,423.581 4624.56,433.091 4607.86,585.262 4561.93,594.772 \n",
       "  4541.05,623.304 4497.21,594.772 4478.42,566.24 4432.49,623.304 4415.79,680.368 4371.95,642.326 4351.07,623.304 4305.15,623.304 4286.36,604.283 \n",
       "  \"/>\n",
       "<polyline clip-path=\"url(#clip3502)\" style=\"stroke:#3da44d; stroke-width:4; stroke-opacity:1; fill:none\" points=\"\n",
       "  6762.36,784.986 6724.78,746.943 6703.9,889.603 6655.89,908.624 6639.18,1840.67 6593.26,1840.67 6570.29,2192.56 6528.54,2116.48 6511.84,1013.24 6465.91,946.667 \n",
       "  6449.2,804.007 6403.28,794.496 6382.4,689.879 6344.82,708.9 6323.94,642.326 6278.01,632.815 6242.52,623.304 6213.3,661.347 6192.42,746.943 6148.58,727.922 \n",
       "  6131.88,765.964 6083.86,775.475 6067.16,842.049 6025.4,880.092 6000.35,832.539 5956.51,870.581 5939.81,813.517 5891.79,861.071 5870.91,823.028 5833.34,813.517 \n",
       "  5810.37,623.304 5764.44,642.326 5737.3,642.326 5701.81,632.815 5680.93,585.262 5637.09,518.687 5620.39,404.559 5578.64,404.559 5561.94,509.177 5516.01,499.666 \n",
       "  5476.34,366.517 5453.38,357.006 5432.5,328.474 5386.57,309.453 5369.87,337.985 5321.85,337.985 5300.97,423.581 5265.48,442.602 5240.43,366.517 5194.5,347.495 \n",
       "  5177.8,357.006 5131.87,433.091 5110.99,261.9 5067.15,242.878 5048.36,252.389 5002.43,252.389 4985.73,337.985 4941.89,328.474 4918.93,366.517 4875.09,309.453 \n",
       "  4858.38,347.495 4816.63,347.495 4799.93,385.538 4754,395.049 4714.33,499.666 4687.19,509.177 4672.58,433.091 4624.56,442.602 4607.86,575.751 4561.93,585.262 \n",
       "  4541.05,604.283 4497.21,632.815 4478.42,556.73 4432.49,566.24 4415.79,680.368 4371.95,670.858 4351.07,613.794 4305.15,632.815 4286.36,604.283 4240.43,604.283 \n",
       "  4219.55,556.73 4181.97,547.219 4161.09,471.134 4113.08,461.623 4096.38,395.049 4054.62,385.538 4037.92,461.623 3994.08,471.134 3954.41,480.645 3925.19,499.666 \n",
       "  3908.48,547.219 3862.55,566.24 3845.85,727.922 3802.01,737.432 3781.13,680.368 3735.21,670.858 3716.42,594.772 3670.49,594.772 3649.61,746.943 3605.77,737.432 \n",
       "  3589.07,804.007 3543.14,823.028 3524.35,794.496 3480.51,794.496 3459.63,727.922 3415.79,737.432 3394.91,746.943 3351.07,775.475 3334.37,642.326 3290.53,613.794 \n",
       "  3269.65,756.454 3232.07,746.943 3192.41,604.283 3161.09,623.304 3144.39,480.645 3100.55,490.155 3079.67,575.751 3033.74,585.262 3017.04,585.262 2971.11,594.772 \n",
       "  2948.15,509.177 2910.57,509.177 2889.69,528.198 2841.67,547.219 2824.97,490.155 2779.04,509.177 2756.08,480.645 2714.32,471.134 2697.62,328.474 2651.69,366.517 \n",
       "  2634.99,385.538 2589.06,461.623 2568.19,499.666 2530.61,518.687 2509.73,499.666 2465.89,518.687 2430.4,414.07 2399.08,423.581 2376.12,309.453 2340.63,280.921 \n",
       "  2317.66,157.282 2271.73,119.24 2255.03,119.24 2211.19,109.729 2186.14,318.963 2144.38,271.41 2127.68,176.304 2079.67,261.9 2062.96,157.282 2019.12,280.921 \n",
       "  1996.16,357.006 1952.32,357.006 1935.61,347.495 1889.69,347.495 1872.98,195.325 1829.14,233.368 1806.18,518.687 1770.69,518.687 1747.72,395.049 1703.88,452.113 \n",
       "  1668.39,423.581 1639.16,461.623 1616.2,699.39 1574.44,765.964 1557.74,604.283 1509.73,604.283 1493.02,575.751 1451.27,499.666 1426.22,518.687 1382.38,566.24 \n",
       "  1365.68,689.879 1317.66,661.347 1294.69,651.836 1259.2,689.879 1236.24,670.858 1190.31,680.368 1173.61,433.091 1127.68,404.559 1104.71,461.623 1062.96,376.027 \n",
       "  1046.26,318.963 1004.5,290.432 987.803,490.155 941.874,471.134 902.207,604.283 879.243,642.326 854.191,775.475 812.437,746.943 795.735,765.964 747.718,727.922 \n",
       "  724.754,727.922 691.351,689.879 666.298,737.432 620.369,699.39 603.668,632.815 557.738,594.772 534.774,490.155 493.02,499.666 476.318,299.942 \n",
       "  \"/>\n",
       "<path clip-path=\"url(#clip3500)\" d=\"\n",
       "M435.378 648.684 L1313.57 648.684 L1313.57 406.764 L435.378 406.764  Z\n",
       "  \" fill=\"#ffffff\" fill-rule=\"evenodd\" fill-opacity=\"1\"/>\n",
       "<polyline clip-path=\"url(#clip3500)\" style=\"stroke:#000000; stroke-width:4; stroke-opacity:1; fill:none\" points=\"\n",
       "  435.378,648.684 1313.57,648.684 1313.57,406.764 435.378,406.764 435.378,648.684 \n",
       "  \"/>\n",
       "<polyline clip-path=\"url(#clip3500)\" style=\"stroke:#009af9; stroke-width:4; stroke-opacity:1; fill:none\" points=\"\n",
       "  505.378,467.244 925.378,467.244 \n",
       "  \"/>\n",
       "<path clip-path=\"url(#clip3500)\" d=\"M 0 0 M1008.78 471.492 Q1003.62 471.492 1001.63 472.672 Q999.637 473.853 999.637 476.7 Q999.637 478.969 1001.12 480.311 Q1002.62 481.631 1005.19 481.631 Q1008.73 481.631 1010.86 479.131 Q1013.02 476.607 1013.02 472.441 L1013.02 471.492 L1008.78 471.492 M1017.28 469.733 L1017.28 484.524 L1013.02 484.524 L1013.02 480.589 Q1011.56 482.95 1009.38 484.084 Q1007.21 485.195 1004.06 485.195 Q1000.08 485.195 997.716 482.973 Q995.378 480.728 995.378 476.978 Q995.378 472.603 998.294 470.381 Q1001.23 468.158 1007.04 468.158 L1013.02 468.158 L1013.02 467.742 Q1013.02 464.802 1011.07 463.205 Q1009.15 461.584 1005.66 461.584 Q1003.43 461.584 1001.33 462.117 Q999.22 462.649 997.276 463.714 L997.276 459.779 Q999.614 458.876 1001.81 458.436 Q1004.01 457.973 1006.1 457.973 Q1011.72 457.973 1014.5 460.89 Q1017.28 463.807 1017.28 469.733 Z\" fill=\"#000000\" fill-rule=\"evenodd\" fill-opacity=\"1\" /><path clip-path=\"url(#clip3500)\" d=\"M 0 0 M1040.4 459.594 L1040.4 463.575 Q1038.6 462.58 1036.77 462.094 Q1034.96 461.584 1033.11 461.584 Q1028.97 461.584 1026.67 464.223 Q1024.38 466.839 1024.38 471.584 Q1024.38 476.33 1026.67 478.969 Q1028.97 481.584 1033.11 481.584 Q1034.96 481.584 1036.77 481.098 Q1038.6 480.589 1040.4 479.594 L1040.4 483.529 Q1038.62 484.362 1036.7 484.779 Q1034.8 485.195 1032.65 485.195 Q1026.79 485.195 1023.34 481.515 Q1019.89 477.834 1019.89 471.584 Q1019.89 465.242 1023.36 461.608 Q1026.86 457.973 1032.92 457.973 Q1034.89 457.973 1036.77 458.39 Q1038.64 458.783 1040.4 459.594 Z\" fill=\"#000000\" fill-rule=\"evenodd\" fill-opacity=\"1\" /><path clip-path=\"url(#clip3500)\" d=\"M 0 0 M1049.08 451.237 L1049.08 458.598 L1057.85 458.598 L1057.85 461.908 L1049.08 461.908 L1049.08 475.982 Q1049.08 479.154 1049.94 480.057 Q1050.82 480.959 1053.48 480.959 L1057.85 480.959 L1057.85 484.524 L1053.48 484.524 Q1048.55 484.524 1046.67 482.695 Q1044.8 480.844 1044.8 475.982 L1044.8 461.908 L1041.67 461.908 L1041.67 458.598 L1044.8 458.598 L1044.8 451.237 L1049.08 451.237 Z\" fill=\"#000000\" fill-rule=\"evenodd\" fill-opacity=\"1\" /><path clip-path=\"url(#clip3500)\" d=\"M 0 0 M1061.88 474.293 L1061.88 458.598 L1066.14 458.598 L1066.14 474.131 Q1066.14 477.811 1067.58 479.663 Q1069.01 481.492 1071.88 481.492 Q1075.33 481.492 1077.32 479.293 Q1079.34 477.094 1079.34 473.297 L1079.34 458.598 L1083.59 458.598 L1083.59 484.524 L1079.34 484.524 L1079.34 480.543 Q1077.78 482.904 1075.72 484.061 Q1073.69 485.195 1070.98 485.195 Q1066.51 485.195 1064.2 482.418 Q1061.88 479.64 1061.88 474.293 M1072.6 457.973 L1072.6 457.973 Z\" fill=\"#000000\" fill-rule=\"evenodd\" fill-opacity=\"1\" /><path clip-path=\"url(#clip3500)\" d=\"M 0 0 M1099.84 471.492 Q1094.68 471.492 1092.69 472.672 Q1090.7 473.853 1090.7 476.7 Q1090.7 478.969 1092.18 480.311 Q1093.69 481.631 1096.26 481.631 Q1099.8 481.631 1101.93 479.131 Q1104.08 476.607 1104.08 472.441 L1104.08 471.492 L1099.84 471.492 M1108.34 469.733 L1108.34 484.524 L1104.08 484.524 L1104.08 480.589 Q1102.62 482.95 1100.45 484.084 Q1098.27 485.195 1095.12 485.195 Q1091.14 485.195 1088.78 482.973 Q1086.44 480.728 1086.44 476.978 Q1086.44 472.603 1089.36 470.381 Q1092.3 468.158 1098.11 468.158 L1104.08 468.158 L1104.08 467.742 Q1104.08 464.802 1102.14 463.205 Q1100.22 461.584 1096.72 461.584 Q1094.5 461.584 1092.39 462.117 Q1090.28 462.649 1088.34 463.714 L1088.34 459.779 Q1090.68 458.876 1092.88 458.436 Q1095.08 457.973 1097.16 457.973 Q1102.78 457.973 1105.56 460.89 Q1108.34 463.807 1108.34 469.733 Z\" fill=\"#000000\" fill-rule=\"evenodd\" fill-opacity=\"1\" /><path clip-path=\"url(#clip3500)\" d=\"M 0 0 M1112.81 448.506 L1117.07 448.506 L1117.07 484.524 L1112.81 484.524 L1112.81 448.506 Z\" fill=\"#000000\" fill-rule=\"evenodd\" fill-opacity=\"1\" /><path clip-path=\"url(#clip3500)\" d=\"M 0 0 M1138.06 459.362 L1138.06 463.39 Q1136.26 462.464 1134.31 462.001 Q1132.37 461.538 1130.28 461.538 Q1127.11 461.538 1125.52 462.51 Q1123.94 463.483 1123.94 465.427 Q1123.94 466.908 1125.08 467.765 Q1126.21 468.598 1129.64 469.362 L1131.09 469.686 Q1135.63 470.658 1137.53 472.441 Q1139.45 474.2 1139.45 477.371 Q1139.45 480.982 1136.58 483.089 Q1133.73 485.195 1128.73 485.195 Q1126.65 485.195 1124.38 484.779 Q1122.14 484.385 1119.64 483.575 L1119.64 479.177 Q1122 480.404 1124.29 481.029 Q1126.58 481.631 1128.83 481.631 Q1131.84 481.631 1133.46 480.612 Q1135.08 479.57 1135.08 477.695 Q1135.08 475.959 1133.9 475.033 Q1132.74 474.107 1128.78 473.251 L1127.3 472.904 Q1123.34 472.07 1121.58 470.358 Q1119.82 468.621 1119.82 465.612 Q1119.82 461.955 1122.41 459.964 Q1125.01 457.973 1129.78 457.973 Q1132.14 457.973 1134.22 458.321 Q1136.3 458.668 1138.06 459.362 Z\" fill=\"#000000\" fill-rule=\"evenodd\" fill-opacity=\"1\" /><polyline clip-path=\"url(#clip3500)\" style=\"stroke:#e26f46; stroke-width:4; stroke-opacity:1; fill:none\" points=\"\n",
       "  505.378,527.724 925.378,527.724 \n",
       "  \"/>\n",
       "<path clip-path=\"url(#clip3500)\" d=\"M 0 0 M1011.88 508.986 L1011.88 512.527 L1007.81 512.527 Q1005.52 512.527 1004.61 513.453 Q1003.73 514.379 1003.73 516.787 L1003.73 519.078 L1010.75 519.078 L1010.75 522.388 L1003.73 522.388 L1003.73 545.004 L999.452 545.004 L999.452 522.388 L995.378 522.388 L995.378 519.078 L999.452 519.078 L999.452 517.273 Q999.452 512.944 1001.47 510.976 Q1003.48 508.986 1007.85 508.986 L1011.88 508.986 Z\" fill=\"#000000\" fill-rule=\"evenodd\" fill-opacity=\"1\" /><path clip-path=\"url(#clip3500)\" d=\"M 0 0 M1026.4 522.064 Q1022.97 522.064 1020.98 524.75 Q1018.99 527.412 1018.99 532.064 Q1018.99 536.717 1020.96 539.402 Q1022.95 542.064 1026.4 542.064 Q1029.8 542.064 1031.79 539.379 Q1033.78 536.694 1033.78 532.064 Q1033.78 527.458 1031.79 524.773 Q1029.8 522.064 1026.4 522.064 M1026.4 518.453 Q1031.95 518.453 1035.12 522.064 Q1038.29 525.675 1038.29 532.064 Q1038.29 538.43 1035.12 542.064 Q1031.95 545.675 1026.4 545.675 Q1020.82 545.675 1017.65 542.064 Q1014.5 538.43 1014.5 532.064 Q1014.5 525.675 1017.65 522.064 Q1020.82 518.453 1026.4 518.453 Z\" fill=\"#000000\" fill-rule=\"evenodd\" fill-opacity=\"1\" /><path clip-path=\"url(#clip3500)\" d=\"M 0 0 M1057.78 523.06 Q1057.07 522.643 1056.21 522.458 Q1055.38 522.25 1054.36 522.25 Q1050.75 522.25 1048.8 524.611 Q1046.88 526.949 1046.88 531.347 L1046.88 545.004 L1042.6 545.004 L1042.6 519.078 L1046.88 519.078 L1046.88 523.106 Q1048.22 520.745 1050.38 519.611 Q1052.53 518.453 1055.61 518.453 Q1056.05 518.453 1056.58 518.523 Q1057.11 518.569 1057.76 518.685 L1057.78 523.06 Z\" fill=\"#000000\" fill-rule=\"evenodd\" fill-opacity=\"1\" /><path clip-path=\"url(#clip3500)\" d=\"M 0 0 M1079.87 520.074 L1079.87 524.055 Q1078.06 523.06 1076.23 522.574 Q1074.43 522.064 1072.58 522.064 Q1068.43 522.064 1066.14 524.703 Q1063.85 527.319 1063.85 532.064 Q1063.85 536.81 1066.14 539.449 Q1068.43 542.064 1072.58 542.064 Q1074.43 542.064 1076.23 541.578 Q1078.06 541.069 1079.87 540.074 L1079.87 544.009 Q1078.09 544.842 1076.16 545.259 Q1074.27 545.675 1072.11 545.675 Q1066.26 545.675 1062.81 541.995 Q1059.36 538.314 1059.36 532.064 Q1059.36 525.722 1062.83 522.088 Q1066.33 518.453 1072.39 518.453 Q1074.36 518.453 1076.23 518.87 Q1078.11 519.263 1079.87 520.074 Z\" fill=\"#000000\" fill-rule=\"evenodd\" fill-opacity=\"1\" /><path clip-path=\"url(#clip3500)\" d=\"M 0 0 M1096.12 531.972 Q1090.96 531.972 1088.97 533.152 Q1086.97 534.333 1086.97 537.18 Q1086.97 539.449 1088.46 540.791 Q1089.96 542.111 1092.53 542.111 Q1096.07 542.111 1098.2 539.611 Q1100.35 537.087 1100.35 532.921 L1100.35 531.972 L1096.12 531.972 M1104.61 530.213 L1104.61 545.004 L1100.35 545.004 L1100.35 541.069 Q1098.9 543.43 1096.72 544.564 Q1094.54 545.675 1091.4 545.675 Q1087.41 545.675 1085.05 543.453 Q1082.72 541.208 1082.72 537.458 Q1082.72 533.083 1085.63 530.861 Q1088.57 528.638 1094.38 528.638 L1100.35 528.638 L1100.35 528.222 Q1100.35 525.282 1098.41 523.685 Q1096.49 522.064 1092.99 522.064 Q1090.77 522.064 1088.66 522.597 Q1086.56 523.129 1084.61 524.194 L1084.61 520.259 Q1086.95 519.356 1089.15 518.916 Q1091.35 518.453 1093.43 518.453 Q1099.06 518.453 1101.84 521.37 Q1104.61 524.287 1104.61 530.213 Z\" fill=\"#000000\" fill-rule=\"evenodd\" fill-opacity=\"1\" /><path clip-path=\"url(#clip3500)\" d=\"M 0 0 M1125.61 519.842 L1125.61 523.87 Q1123.8 522.944 1121.86 522.481 Q1119.91 522.018 1117.83 522.018 Q1114.66 522.018 1113.06 522.99 Q1111.49 523.963 1111.49 525.907 Q1111.49 527.388 1112.62 528.245 Q1113.76 529.078 1117.18 529.842 L1118.64 530.166 Q1123.18 531.138 1125.08 532.921 Q1127 534.68 1127 537.851 Q1127 541.462 1124.13 543.569 Q1121.28 545.675 1116.28 545.675 Q1114.2 545.675 1111.93 545.259 Q1109.68 544.865 1107.18 544.055 L1107.18 539.657 Q1109.54 540.884 1111.84 541.509 Q1114.13 542.111 1116.37 542.111 Q1119.38 542.111 1121 541.092 Q1122.62 540.05 1122.62 538.175 Q1122.62 536.439 1121.44 535.513 Q1120.28 534.587 1116.33 533.731 L1114.84 533.384 Q1110.89 532.55 1109.13 530.838 Q1107.37 529.101 1107.37 526.092 Q1107.37 522.435 1109.96 520.444 Q1112.55 518.453 1117.32 518.453 Q1119.68 518.453 1121.77 518.801 Q1123.85 519.148 1125.61 519.842 Z\" fill=\"#000000\" fill-rule=\"evenodd\" fill-opacity=\"1\" /><path clip-path=\"url(#clip3500)\" d=\"M 0 0 M1135.68 511.717 L1135.68 519.078 L1144.45 519.078 L1144.45 522.388 L1135.68 522.388 L1135.68 536.462 Q1135.68 539.634 1136.53 540.537 Q1137.41 541.439 1140.08 541.439 L1144.45 541.439 L1144.45 545.004 L1140.08 545.004 Q1135.15 545.004 1133.27 543.175 Q1131.4 541.324 1131.4 536.462 L1131.4 522.388 L1128.27 522.388 L1128.27 519.078 L1131.4 519.078 L1131.4 511.717 L1135.68 511.717 Z\" fill=\"#000000\" fill-rule=\"evenodd\" fill-opacity=\"1\" /><polyline clip-path=\"url(#clip3500)\" style=\"stroke:#3da44d; stroke-width:4; stroke-opacity:1; fill:none\" points=\"\n",
       "  505.378,588.204 925.378,588.204 \n",
       "  \"/>\n",
       "<path clip-path=\"url(#clip3500)\" d=\"M 0 0 M999.66 601.595 L999.66 615.345 L995.378 615.345 L995.378 579.558 L999.66 579.558 L999.66 583.493 Q1001 581.179 1003.04 580.068 Q1005.1 578.933 1007.95 578.933 Q1012.67 578.933 1015.61 582.683 Q1018.57 586.433 1018.57 592.544 Q1018.57 598.655 1015.61 602.405 Q1012.67 606.155 1007.95 606.155 Q1005.1 606.155 1003.04 605.044 Q1001 603.91 999.66 601.595 M1014.15 592.544 Q1014.15 587.845 1012.21 585.183 Q1010.29 582.498 1006.91 582.498 Q1003.53 582.498 1001.58 585.183 Q999.66 587.845 999.66 592.544 Q999.66 597.243 1001.58 599.929 Q1003.53 602.591 1006.91 602.591 Q1010.29 602.591 1012.21 599.929 Q1014.15 597.243 1014.15 592.544 Z\" fill=\"#000000\" fill-rule=\"evenodd\" fill-opacity=\"1\" /><path clip-path=\"url(#clip3500)\" d=\"M 0 0 M1038.06 583.54 Q1037.35 583.123 1036.49 582.938 Q1035.66 582.73 1034.64 582.73 Q1031.03 582.73 1029.08 585.091 Q1027.16 587.429 1027.16 591.827 L1027.16 605.484 L1022.88 605.484 L1022.88 579.558 L1027.16 579.558 L1027.16 583.586 Q1028.5 581.225 1030.66 580.091 Q1032.81 578.933 1035.89 578.933 Q1036.33 578.933 1036.86 579.003 Q1037.39 579.049 1038.04 579.165 L1038.06 583.54 Z\" fill=\"#000000\" fill-rule=\"evenodd\" fill-opacity=\"1\" /><path clip-path=\"url(#clip3500)\" d=\"M 0 0 M1063.66 591.456 L1063.66 593.54 L1044.08 593.54 Q1044.36 597.938 1046.72 600.253 Q1049.1 602.544 1053.34 602.544 Q1055.79 602.544 1058.09 601.942 Q1060.4 601.341 1062.67 600.137 L1062.67 604.165 Q1060.38 605.137 1057.97 605.646 Q1055.56 606.155 1053.09 606.155 Q1046.88 606.155 1043.25 602.544 Q1039.64 598.933 1039.64 592.776 Q1039.64 586.41 1043.06 582.683 Q1046.51 578.933 1052.35 578.933 Q1057.58 578.933 1060.61 582.313 Q1063.66 585.669 1063.66 591.456 M1059.41 590.206 Q1059.36 586.711 1057.44 584.628 Q1055.54 582.544 1052.39 582.544 Q1048.83 582.544 1046.67 584.558 Q1044.54 586.572 1044.22 590.23 L1059.41 590.206 Z\" fill=\"#000000\" fill-rule=\"evenodd\" fill-opacity=\"1\" /><path clip-path=\"url(#clip3500)\" d=\"M 0 0 M1065.08 579.558 L1069.59 579.558 L1077.69 601.317 L1085.79 579.558 L1090.31 579.558 L1080.59 605.484 L1074.8 605.484 L1065.08 579.558 Z\" fill=\"#000000\" fill-rule=\"evenodd\" fill-opacity=\"1\" /><path clip-path=\"url(#clip3500)\" d=\"M 0 0 M1094.78 579.558 L1099.03 579.558 L1099.03 605.484 L1094.78 605.484 L1094.78 579.558 M1094.78 569.466 L1099.03 569.466 L1099.03 574.859 L1094.78 574.859 L1094.78 569.466 Z\" fill=\"#000000\" fill-rule=\"evenodd\" fill-opacity=\"1\" /><path clip-path=\"url(#clip3500)\" d=\"M 0 0 M1113.55 582.544 Q1110.12 582.544 1108.13 585.23 Q1106.14 587.892 1106.14 592.544 Q1106.14 597.197 1108.11 599.882 Q1110.1 602.544 1113.55 602.544 Q1116.95 602.544 1118.94 599.859 Q1120.93 597.174 1120.93 592.544 Q1120.93 587.938 1118.94 585.253 Q1116.95 582.544 1113.55 582.544 M1113.55 578.933 Q1119.1 578.933 1122.28 582.544 Q1125.45 586.155 1125.45 592.544 Q1125.45 598.91 1122.28 602.544 Q1119.1 606.155 1113.55 606.155 Q1107.97 606.155 1104.8 602.544 Q1101.65 598.91 1101.65 592.544 Q1101.65 586.155 1104.8 582.544 Q1107.97 578.933 1113.55 578.933 Z\" fill=\"#000000\" fill-rule=\"evenodd\" fill-opacity=\"1\" /><path clip-path=\"url(#clip3500)\" d=\"M 0 0 M1129.47 595.253 L1129.47 579.558 L1133.73 579.558 L1133.73 595.091 Q1133.73 598.771 1135.17 600.623 Q1136.6 602.452 1139.47 602.452 Q1142.92 602.452 1144.91 600.253 Q1146.93 598.054 1146.93 594.257 L1146.93 579.558 L1151.19 579.558 L1151.19 605.484 L1146.93 605.484 L1146.93 601.503 Q1145.38 603.864 1143.32 605.021 Q1141.28 606.155 1138.57 606.155 Q1134.1 606.155 1131.79 603.378 Q1129.47 600.6 1129.47 595.253 M1140.19 578.933 L1140.19 578.933 Z\" fill=\"#000000\" fill-rule=\"evenodd\" fill-opacity=\"1\" /><path clip-path=\"url(#clip3500)\" d=\"M 0 0 M1172.18 580.322 L1172.18 584.35 Q1170.38 583.424 1168.43 582.961 Q1166.49 582.498 1164.4 582.498 Q1161.23 582.498 1159.64 583.47 Q1158.06 584.443 1158.06 586.387 Q1158.06 587.868 1159.2 588.725 Q1160.33 589.558 1163.76 590.322 L1165.21 590.646 Q1169.75 591.618 1171.65 593.401 Q1173.57 595.16 1173.57 598.331 Q1173.57 601.942 1170.7 604.049 Q1167.85 606.155 1162.85 606.155 Q1160.77 606.155 1158.5 605.739 Q1156.26 605.345 1153.76 604.535 L1153.76 600.137 Q1156.12 601.364 1158.41 601.989 Q1160.7 602.591 1162.95 602.591 Q1165.96 602.591 1167.58 601.572 Q1169.2 600.53 1169.2 598.655 Q1169.2 596.919 1168.02 595.993 Q1166.86 595.067 1162.9 594.211 L1161.42 593.864 Q1157.46 593.03 1155.7 591.318 Q1153.94 589.581 1153.94 586.572 Q1153.94 582.915 1156.53 580.924 Q1159.13 578.933 1163.9 578.933 Q1166.26 578.933 1168.34 579.281 Q1170.42 579.628 1172.18 580.322 Z\" fill=\"#000000\" fill-rule=\"evenodd\" fill-opacity=\"1\" /></svg>\n"
      ]
     },
     "execution_count": 59,
     "metadata": {},
     "output_type": "execute_result"
    }
   ],
   "source": [
    "df = df_Markkit_Mfc_PMI\n",
    "periods = df[:,1] # all rows, first column\n",
    "println(periods[begin], \" to \", periods[end])\n",
    "gr()\n",
    "plot(periods, \n",
    "    [df[:,2]  df[:,3] df[:,4] ], \n",
    "    label    = [\"actuals\" \"forcast\" \"previous\"],\n",
    "    legend    =:topleft, # :right, :left, :top, :bottom, :inside, :best, :legend, :topright, :topleft, :bottomleft, :bottomright\n",
    "    xlabel   = \"time\",\n",
    "    ylabel   = \"indicators\",\n",
    "    size     = (1750, 600), # width, height\n",
    "    layout = (1, 1) # number of seperate plots VERTICALLY, HORIZONTALLY\n",
    "    )"
   ]
  },
  {
   "cell_type": "code",
   "execution_count": 60,
   "metadata": {},
   "outputs": [
    {
     "name": "stdout",
     "output_type": "stream",
     "text": [
      "2020-08-03 to 2013-11-01\n"
     ]
    },
    {
     "data": {
      "image/svg+xml": [
       "<?xml version=\"1.0\" encoding=\"utf-8\"?>\n",
       "<svg xmlns=\"http://www.w3.org/2000/svg\" xmlns:xlink=\"http://www.w3.org/1999/xlink\" width=\"1750\" height=\"600\" viewBox=\"0 0 7000 2400\">\n",
       "<defs>\n",
       "  <clipPath id=\"clip3900\">\n",
       "    <rect x=\"0\" y=\"0\" width=\"7000\" height=\"2400\"/>\n",
       "  </clipPath>\n",
       "</defs>\n",
       "<path clip-path=\"url(#clip3900)\" d=\"\n",
       "M0 2400 L7000 2400 L7000 0 L0 0  Z\n",
       "  \" fill=\"#ffffff\" fill-rule=\"evenodd\" fill-opacity=\"1\"/>\n",
       "<defs>\n",
       "  <clipPath id=\"clip3901\">\n",
       "    <rect x=\"1400\" y=\"0\" width=\"4901\" height=\"2400\"/>\n",
       "  </clipPath>\n",
       "</defs>\n",
       "<path clip-path=\"url(#clip3900)\" d=\"\n",
       "M225.378 2255.05 L6952.76 2255.05 L6952.76 47.2441 L225.378 47.2441  Z\n",
       "  \" fill=\"#ffffff\" fill-rule=\"evenodd\" fill-opacity=\"1\"/>\n",
       "<defs>\n",
       "  <clipPath id=\"clip3902\">\n",
       "    <rect x=\"225\" y=\"47\" width=\"6728\" height=\"2209\"/>\n",
       "  </clipPath>\n",
       "</defs>\n",
       "<polyline clip-path=\"url(#clip3902)\" style=\"stroke:#000000; stroke-width:2; stroke-opacity:0.1; fill:none\" points=\"\n",
       "  572.703,2255.05 572.703,47.2441 \n",
       "  \"/>\n",
       "<polyline clip-path=\"url(#clip3902)\" style=\"stroke:#000000; stroke-width:2; stroke-opacity:0.1; fill:none\" points=\"\n",
       "  2450.7,2255.05 2450.7,47.2441 \n",
       "  \"/>\n",
       "<polyline clip-path=\"url(#clip3902)\" style=\"stroke:#000000; stroke-width:2; stroke-opacity:0.1; fill:none\" points=\"\n",
       "  4331.26,2255.05 4331.26,47.2441 \n",
       "  \"/>\n",
       "<polyline clip-path=\"url(#clip3902)\" style=\"stroke:#000000; stroke-width:2; stroke-opacity:0.1; fill:none\" points=\"\n",
       "  6209.25,2255.05 6209.25,47.2441 \n",
       "  \"/>\n",
       "<polyline clip-path=\"url(#clip3902)\" style=\"stroke:#000000; stroke-width:2; stroke-opacity:0.1; fill:none\" points=\"\n",
       "  225.378,2047.92 6952.76,2047.92 \n",
       "  \"/>\n",
       "<polyline clip-path=\"url(#clip3902)\" style=\"stroke:#000000; stroke-width:2; stroke-opacity:0.1; fill:none\" points=\"\n",
       "  225.378,1469.36 6952.76,1469.36 \n",
       "  \"/>\n",
       "<polyline clip-path=\"url(#clip3902)\" style=\"stroke:#000000; stroke-width:2; stroke-opacity:0.1; fill:none\" points=\"\n",
       "  225.378,890.792 6952.76,890.792 \n",
       "  \"/>\n",
       "<polyline clip-path=\"url(#clip3902)\" style=\"stroke:#000000; stroke-width:2; stroke-opacity:0.1; fill:none\" points=\"\n",
       "  225.378,312.227 6952.76,312.227 \n",
       "  \"/>\n",
       "<polyline clip-path=\"url(#clip3900)\" style=\"stroke:#000000; stroke-width:4; stroke-opacity:1; fill:none\" points=\"\n",
       "  225.378,2255.05 6952.76,2255.05 \n",
       "  \"/>\n",
       "<polyline clip-path=\"url(#clip3900)\" style=\"stroke:#000000; stroke-width:4; stroke-opacity:1; fill:none\" points=\"\n",
       "  225.378,2255.05 225.378,47.2441 \n",
       "  \"/>\n",
       "<polyline clip-path=\"url(#clip3900)\" style=\"stroke:#000000; stroke-width:4; stroke-opacity:1; fill:none\" points=\"\n",
       "  572.703,2255.05 572.703,2228.55 \n",
       "  \"/>\n",
       "<polyline clip-path=\"url(#clip3900)\" style=\"stroke:#000000; stroke-width:4; stroke-opacity:1; fill:none\" points=\"\n",
       "  2450.7,2255.05 2450.7,2228.55 \n",
       "  \"/>\n",
       "<polyline clip-path=\"url(#clip3900)\" style=\"stroke:#000000; stroke-width:4; stroke-opacity:1; fill:none\" points=\"\n",
       "  4331.26,2255.05 4331.26,2228.55 \n",
       "  \"/>\n",
       "<polyline clip-path=\"url(#clip3900)\" style=\"stroke:#000000; stroke-width:4; stroke-opacity:1; fill:none\" points=\"\n",
       "  6209.25,2255.05 6209.25,2228.55 \n",
       "  \"/>\n",
       "<polyline clip-path=\"url(#clip3900)\" style=\"stroke:#000000; stroke-width:4; stroke-opacity:1; fill:none\" points=\"\n",
       "  225.378,2047.92 306.106,2047.92 \n",
       "  \"/>\n",
       "<polyline clip-path=\"url(#clip3900)\" style=\"stroke:#000000; stroke-width:4; stroke-opacity:1; fill:none\" points=\"\n",
       "  225.378,1469.36 306.106,1469.36 \n",
       "  \"/>\n",
       "<polyline clip-path=\"url(#clip3900)\" style=\"stroke:#000000; stroke-width:4; stroke-opacity:1; fill:none\" points=\"\n",
       "  225.378,890.792 306.106,890.792 \n",
       "  \"/>\n",
       "<polyline clip-path=\"url(#clip3900)\" style=\"stroke:#000000; stroke-width:4; stroke-opacity:1; fill:none\" points=\"\n",
       "  225.378,312.227 306.106,312.227 \n",
       "  \"/>\n",
       "<path clip-path=\"url(#clip3900)\" d=\"M 0 0 M459.614 2327.58 L475.933 2327.58 L475.933 2331.52 L453.989 2331.52 L453.989 2327.58 Q456.651 2324.83 461.234 2320.2 Q465.841 2315.55 467.021 2314.2 Q469.266 2311.68 470.146 2309.95 Q471.049 2308.19 471.049 2306.5 Q471.049 2303.74 469.104 2302.01 Q467.183 2300.27 464.081 2300.27 Q461.882 2300.27 459.429 2301.03 Q456.998 2301.8 454.22 2303.35 L454.22 2298.63 Q457.044 2297.49 459.498 2296.91 Q461.952 2296.33 463.989 2296.33 Q469.359 2296.33 472.553 2299.02 Q475.748 2301.7 475.748 2306.2 Q475.748 2308.32 474.938 2310.25 Q474.151 2312.14 472.044 2314.74 Q471.465 2315.41 468.364 2318.63 Q465.262 2321.82 459.614 2327.58 Z\" fill=\"#000000\" fill-rule=\"evenodd\" fill-opacity=\"1\" /><path clip-path=\"url(#clip3900)\" d=\"M 0 0 M491.002 2300.04 Q487.391 2300.04 485.563 2303.6 Q483.757 2307.14 483.757 2314.27 Q483.757 2321.38 485.563 2324.95 Q487.391 2328.49 491.002 2328.49 Q494.637 2328.49 496.442 2324.95 Q498.271 2321.38 498.271 2314.27 Q498.271 2307.14 496.442 2303.6 Q494.637 2300.04 491.002 2300.04 M491.002 2296.33 Q496.813 2296.33 499.868 2300.94 Q502.947 2305.52 502.947 2314.27 Q502.947 2323 499.868 2327.61 Q496.813 2332.19 491.002 2332.19 Q485.192 2332.19 482.114 2327.61 Q479.058 2323 479.058 2314.27 Q479.058 2305.52 482.114 2300.94 Q485.192 2296.33 491.002 2296.33 Z\" fill=\"#000000\" fill-rule=\"evenodd\" fill-opacity=\"1\" /><path clip-path=\"url(#clip3900)\" d=\"M 0 0 M508.826 2327.58 L516.465 2327.58 L516.465 2301.22 L508.155 2302.89 L508.155 2298.63 L516.419 2296.96 L521.095 2296.96 L521.095 2327.58 L528.734 2327.58 L528.734 2331.52 L508.826 2331.52 L508.826 2327.58 Z\" fill=\"#000000\" fill-rule=\"evenodd\" fill-opacity=\"1\" /><path clip-path=\"url(#clip3900)\" d=\"M 0 0 M546.65 2301.03 L534.845 2319.48 L546.65 2319.48 L546.65 2301.03 M545.423 2296.96 L551.303 2296.96 L551.303 2319.48 L556.234 2319.48 L556.234 2323.37 L551.303 2323.37 L551.303 2331.52 L546.65 2331.52 L546.65 2323.37 L531.049 2323.37 L531.049 2318.86 L545.423 2296.96 Z\" fill=\"#000000\" fill-rule=\"evenodd\" fill-opacity=\"1\" /><path clip-path=\"url(#clip3900)\" d=\"M 0 0 M558.548 2316.64 L571.025 2316.64 L571.025 2320.43 L558.548 2320.43 L558.548 2316.64 Z\" fill=\"#000000\" fill-rule=\"evenodd\" fill-opacity=\"1\" /><path clip-path=\"url(#clip3900)\" d=\"M 0 0 M586.095 2300.04 Q582.483 2300.04 580.655 2303.6 Q578.849 2307.14 578.849 2314.27 Q578.849 2321.38 580.655 2324.95 Q582.483 2328.49 586.095 2328.49 Q589.729 2328.49 591.534 2324.95 Q593.363 2321.38 593.363 2314.27 Q593.363 2307.14 591.534 2303.6 Q589.729 2300.04 586.095 2300.04 M586.095 2296.33 Q591.905 2296.33 594.96 2300.94 Q598.039 2305.52 598.039 2314.27 Q598.039 2323 594.96 2327.61 Q591.905 2332.19 586.095 2332.19 Q580.284 2332.19 577.206 2327.61 Q574.15 2323 574.15 2314.27 Q574.15 2305.52 577.206 2300.94 Q580.284 2296.33 586.095 2296.33 Z\" fill=\"#000000\" fill-rule=\"evenodd\" fill-opacity=\"1\" /><path clip-path=\"url(#clip3900)\" d=\"M 0 0 M603.918 2327.58 L611.557 2327.58 L611.557 2301.22 L603.247 2302.89 L603.247 2298.63 L611.511 2296.96 L616.187 2296.96 L616.187 2327.58 L623.826 2327.58 L623.826 2331.52 L603.918 2331.52 L603.918 2327.58 Z\" fill=\"#000000\" fill-rule=\"evenodd\" fill-opacity=\"1\" /><path clip-path=\"url(#clip3900)\" d=\"M 0 0 M626.141 2316.64 L638.617 2316.64 L638.617 2320.43 L626.141 2320.43 L626.141 2316.64 Z\" fill=\"#000000\" fill-rule=\"evenodd\" fill-opacity=\"1\" /><path clip-path=\"url(#clip3900)\" d=\"M 0 0 M653.687 2300.04 Q650.076 2300.04 648.247 2303.6 Q646.441 2307.14 646.441 2314.27 Q646.441 2321.38 648.247 2324.95 Q650.076 2328.49 653.687 2328.49 Q657.321 2328.49 659.127 2324.95 Q660.955 2321.38 660.955 2314.27 Q660.955 2307.14 659.127 2303.6 Q657.321 2300.04 653.687 2300.04 M653.687 2296.33 Q659.497 2296.33 662.552 2300.94 Q665.631 2305.52 665.631 2314.27 Q665.631 2323 662.552 2327.61 Q659.497 2332.19 653.687 2332.19 Q647.877 2332.19 644.798 2327.61 Q641.742 2323 641.742 2314.27 Q641.742 2305.52 644.798 2300.94 Q647.877 2296.33 653.687 2296.33 Z\" fill=\"#000000\" fill-rule=\"evenodd\" fill-opacity=\"1\" /><path clip-path=\"url(#clip3900)\" d=\"M 0 0 M671.511 2327.58 L679.15 2327.58 L679.15 2301.22 L670.839 2302.89 L670.839 2298.63 L679.103 2296.96 L683.779 2296.96 L683.779 2327.58 L691.418 2327.58 L691.418 2331.52 L671.511 2331.52 L671.511 2327.58 Z\" fill=\"#000000\" fill-rule=\"evenodd\" fill-opacity=\"1\" /><path clip-path=\"url(#clip3900)\" d=\"M 0 0 M2337.77 2327.58 L2354.09 2327.58 L2354.09 2331.52 L2332.14 2331.52 L2332.14 2327.58 Q2334.8 2324.83 2339.39 2320.2 Q2343.99 2315.55 2345.17 2314.2 Q2347.42 2311.68 2348.3 2309.95 Q2349.2 2308.19 2349.2 2306.5 Q2349.2 2303.74 2347.26 2302.01 Q2345.34 2300.27 2342.24 2300.27 Q2340.04 2300.27 2337.58 2301.03 Q2335.15 2301.8 2332.37 2303.35 L2332.37 2298.63 Q2335.2 2297.49 2337.65 2296.91 Q2340.11 2296.33 2342.14 2296.33 Q2347.51 2296.33 2350.71 2299.02 Q2353.9 2301.7 2353.9 2306.2 Q2353.9 2308.32 2353.09 2310.25 Q2352.3 2312.14 2350.2 2314.74 Q2349.62 2315.41 2346.52 2318.63 Q2343.42 2321.82 2337.77 2327.58 Z\" fill=\"#000000\" fill-rule=\"evenodd\" fill-opacity=\"1\" /><path clip-path=\"url(#clip3900)\" d=\"M 0 0 M2369.16 2300.04 Q2365.55 2300.04 2363.72 2303.6 Q2361.91 2307.14 2361.91 2314.27 Q2361.91 2321.38 2363.72 2324.95 Q2365.55 2328.49 2369.16 2328.49 Q2372.79 2328.49 2374.6 2324.95 Q2376.42 2321.38 2376.42 2314.27 Q2376.42 2307.14 2374.6 2303.6 Q2372.79 2300.04 2369.16 2300.04 M2369.16 2296.33 Q2374.97 2296.33 2378.02 2300.94 Q2381.1 2305.52 2381.1 2314.27 Q2381.1 2323 2378.02 2327.61 Q2374.97 2332.19 2369.16 2332.19 Q2363.35 2332.19 2360.27 2327.61 Q2357.21 2323 2357.21 2314.27 Q2357.21 2305.52 2360.27 2300.94 Q2363.35 2296.33 2369.16 2296.33 Z\" fill=\"#000000\" fill-rule=\"evenodd\" fill-opacity=\"1\" /><path clip-path=\"url(#clip3900)\" d=\"M 0 0 M2386.98 2327.58 L2394.62 2327.58 L2394.62 2301.22 L2386.31 2302.89 L2386.31 2298.63 L2394.57 2296.96 L2399.25 2296.96 L2399.25 2327.58 L2406.89 2327.58 L2406.89 2331.52 L2386.98 2331.52 L2386.98 2327.58 Z\" fill=\"#000000\" fill-rule=\"evenodd\" fill-opacity=\"1\" /><path clip-path=\"url(#clip3900)\" d=\"M 0 0 M2422.54 2312.38 Q2419.39 2312.38 2417.54 2314.53 Q2415.71 2316.68 2415.71 2320.43 Q2415.71 2324.16 2417.54 2326.33 Q2419.39 2328.49 2422.54 2328.49 Q2425.68 2328.49 2427.51 2326.33 Q2429.36 2324.16 2429.36 2320.43 Q2429.36 2316.68 2427.51 2314.53 Q2425.68 2312.38 2422.54 2312.38 M2431.82 2297.72 L2431.82 2301.98 Q2430.06 2301.15 2428.25 2300.71 Q2426.47 2300.27 2424.71 2300.27 Q2420.08 2300.27 2417.63 2303.39 Q2415.2 2306.52 2414.85 2312.84 Q2416.22 2310.82 2418.28 2309.76 Q2420.34 2308.67 2422.81 2308.67 Q2428.02 2308.67 2431.03 2311.84 Q2434.06 2314.99 2434.06 2320.43 Q2434.06 2325.76 2430.92 2328.97 Q2427.77 2332.19 2422.54 2332.19 Q2416.54 2332.19 2413.37 2327.61 Q2410.2 2323 2410.2 2314.27 Q2410.2 2306.08 2414.09 2301.22 Q2417.98 2296.33 2424.53 2296.33 Q2426.29 2296.33 2428.07 2296.68 Q2429.87 2297.03 2431.82 2297.72 Z\" fill=\"#000000\" fill-rule=\"evenodd\" fill-opacity=\"1\" /><path clip-path=\"url(#clip3900)\" d=\"M 0 0 M2436.38 2316.64 L2448.85 2316.64 L2448.85 2320.43 L2436.38 2320.43 L2436.38 2316.64 Z\" fill=\"#000000\" fill-rule=\"evenodd\" fill-opacity=\"1\" /><path clip-path=\"url(#clip3900)\" d=\"M 0 0 M2463.92 2300.04 Q2460.31 2300.04 2458.48 2303.6 Q2456.68 2307.14 2456.68 2314.27 Q2456.68 2321.38 2458.48 2324.95 Q2460.31 2328.49 2463.92 2328.49 Q2467.56 2328.49 2469.36 2324.95 Q2471.19 2321.38 2471.19 2314.27 Q2471.19 2307.14 2469.36 2303.6 Q2467.56 2300.04 2463.92 2300.04 M2463.92 2296.33 Q2469.73 2296.33 2472.79 2300.94 Q2475.87 2305.52 2475.87 2314.27 Q2475.87 2323 2472.79 2327.61 Q2469.73 2332.19 2463.92 2332.19 Q2458.11 2332.19 2455.04 2327.61 Q2451.98 2323 2451.98 2314.27 Q2451.98 2305.52 2455.04 2300.94 Q2458.11 2296.33 2463.92 2296.33 Z\" fill=\"#000000\" fill-rule=\"evenodd\" fill-opacity=\"1\" /><path clip-path=\"url(#clip3900)\" d=\"M 0 0 M2481.75 2327.58 L2489.39 2327.58 L2489.39 2301.22 L2481.08 2302.89 L2481.08 2298.63 L2489.34 2296.96 L2494.02 2296.96 L2494.02 2327.58 L2501.66 2327.58 L2501.66 2331.52 L2481.75 2331.52 L2481.75 2327.58 Z\" fill=\"#000000\" fill-rule=\"evenodd\" fill-opacity=\"1\" /><path clip-path=\"url(#clip3900)\" d=\"M 0 0 M2503.97 2316.64 L2516.45 2316.64 L2516.45 2320.43 L2503.97 2320.43 L2503.97 2316.64 Z\" fill=\"#000000\" fill-rule=\"evenodd\" fill-opacity=\"1\" /><path clip-path=\"url(#clip3900)\" d=\"M 0 0 M2531.52 2300.04 Q2527.91 2300.04 2526.08 2303.6 Q2524.27 2307.14 2524.27 2314.27 Q2524.27 2321.38 2526.08 2324.95 Q2527.91 2328.49 2531.52 2328.49 Q2535.15 2328.49 2536.96 2324.95 Q2538.78 2321.38 2538.78 2314.27 Q2538.78 2307.14 2536.96 2303.6 Q2535.15 2300.04 2531.52 2300.04 M2531.52 2296.33 Q2537.33 2296.33 2540.38 2300.94 Q2543.46 2305.52 2543.46 2314.27 Q2543.46 2323 2540.38 2327.61 Q2537.33 2332.19 2531.52 2332.19 Q2525.71 2332.19 2522.63 2327.61 Q2519.57 2323 2519.57 2314.27 Q2519.57 2305.52 2522.63 2300.94 Q2525.71 2296.33 2531.52 2296.33 Z\" fill=\"#000000\" fill-rule=\"evenodd\" fill-opacity=\"1\" /><path clip-path=\"url(#clip3900)\" d=\"M 0 0 M2549.34 2327.58 L2556.98 2327.58 L2556.98 2301.22 L2548.67 2302.89 L2548.67 2298.63 L2556.93 2296.96 L2561.61 2296.96 L2561.61 2327.58 L2569.25 2327.58 L2569.25 2331.52 L2549.34 2331.52 L2549.34 2327.58 Z\" fill=\"#000000\" fill-rule=\"evenodd\" fill-opacity=\"1\" /><path clip-path=\"url(#clip3900)\" d=\"M 0 0 M4218.46 2327.58 L4234.78 2327.58 L4234.78 2331.52 L4212.83 2331.52 L4212.83 2327.58 Q4215.5 2324.83 4220.08 2320.2 Q4224.69 2315.55 4225.87 2314.2 Q4228.11 2311.68 4228.99 2309.95 Q4229.89 2308.19 4229.89 2306.5 Q4229.89 2303.74 4227.95 2302.01 Q4226.03 2300.27 4222.93 2300.27 Q4220.73 2300.27 4218.27 2301.03 Q4215.84 2301.8 4213.07 2303.35 L4213.07 2298.63 Q4215.89 2297.49 4218.34 2296.91 Q4220.8 2296.33 4222.83 2296.33 Q4228.2 2296.33 4231.4 2299.02 Q4234.59 2301.7 4234.59 2306.2 Q4234.59 2308.32 4233.78 2310.25 Q4233 2312.14 4230.89 2314.74 Q4230.31 2315.41 4227.21 2318.63 Q4224.11 2321.82 4218.46 2327.58 Z\" fill=\"#000000\" fill-rule=\"evenodd\" fill-opacity=\"1\" /><path clip-path=\"url(#clip3900)\" d=\"M 0 0 M4249.85 2300.04 Q4246.24 2300.04 4244.41 2303.6 Q4242.6 2307.14 4242.6 2314.27 Q4242.6 2321.38 4244.41 2324.95 Q4246.24 2328.49 4249.85 2328.49 Q4253.48 2328.49 4255.29 2324.95 Q4257.12 2321.38 4257.12 2314.27 Q4257.12 2307.14 4255.29 2303.6 Q4253.48 2300.04 4249.85 2300.04 M4249.85 2296.33 Q4255.66 2296.33 4258.71 2300.94 Q4261.79 2305.52 4261.79 2314.27 Q4261.79 2323 4258.71 2327.61 Q4255.66 2332.19 4249.85 2332.19 Q4244.04 2332.19 4240.96 2327.61 Q4237.9 2323 4237.9 2314.27 Q4237.9 2305.52 4240.96 2300.94 Q4244.04 2296.33 4249.85 2296.33 Z\" fill=\"#000000\" fill-rule=\"evenodd\" fill-opacity=\"1\" /><path clip-path=\"url(#clip3900)\" d=\"M 0 0 M4267.67 2327.58 L4275.31 2327.58 L4275.31 2301.22 L4267 2302.89 L4267 2298.63 L4275.26 2296.96 L4279.94 2296.96 L4279.94 2327.58 L4287.58 2327.58 L4287.58 2331.52 L4267.67 2331.52 L4267.67 2327.58 Z\" fill=\"#000000\" fill-rule=\"evenodd\" fill-opacity=\"1\" /><path clip-path=\"url(#clip3900)\" d=\"M 0 0 M4302.65 2315.11 Q4299.32 2315.11 4297.39 2316.89 Q4295.5 2318.67 4295.5 2321.8 Q4295.5 2324.92 4297.39 2326.7 Q4299.32 2328.49 4302.65 2328.49 Q4305.98 2328.49 4307.9 2326.7 Q4309.82 2324.9 4309.82 2321.8 Q4309.82 2318.67 4307.9 2316.89 Q4306 2315.11 4302.65 2315.11 M4297.97 2313.12 Q4294.96 2312.38 4293.27 2310.32 Q4291.61 2308.26 4291.61 2305.29 Q4291.61 2301.15 4294.55 2298.74 Q4297.51 2296.33 4302.65 2296.33 Q4307.81 2296.33 4310.75 2298.74 Q4313.69 2301.15 4313.69 2305.29 Q4313.69 2308.26 4312 2310.32 Q4310.33 2312.38 4307.35 2313.12 Q4310.73 2313.9 4312.6 2316.2 Q4314.5 2318.49 4314.5 2321.8 Q4314.5 2326.82 4311.42 2329.51 Q4308.37 2332.19 4302.65 2332.19 Q4296.93 2332.19 4293.85 2329.51 Q4290.8 2326.82 4290.8 2321.8 Q4290.8 2318.49 4292.69 2316.2 Q4294.59 2313.9 4297.97 2313.12 M4296.26 2305.73 Q4296.26 2308.42 4297.93 2309.92 Q4299.62 2311.43 4302.65 2311.43 Q4305.66 2311.43 4307.35 2309.92 Q4309.06 2308.42 4309.06 2305.73 Q4309.06 2303.05 4307.35 2301.54 Q4305.66 2300.04 4302.65 2300.04 Q4299.62 2300.04 4297.93 2301.54 Q4296.26 2303.05 4296.26 2305.73 Z\" fill=\"#000000\" fill-rule=\"evenodd\" fill-opacity=\"1\" /><path clip-path=\"url(#clip3900)\" d=\"M 0 0 M4316.82 2316.64 L4329.29 2316.64 L4329.29 2320.43 L4316.82 2320.43 L4316.82 2316.64 Z\" fill=\"#000000\" fill-rule=\"evenodd\" fill-opacity=\"1\" /><path clip-path=\"url(#clip3900)\" d=\"M 0 0 M4344.36 2300.04 Q4340.75 2300.04 4338.92 2303.6 Q4337.12 2307.14 4337.12 2314.27 Q4337.12 2321.38 4338.92 2324.95 Q4340.75 2328.49 4344.36 2328.49 Q4348 2328.49 4349.8 2324.95 Q4351.63 2321.38 4351.63 2314.27 Q4351.63 2307.14 4349.8 2303.6 Q4348 2300.04 4344.36 2300.04 M4344.36 2296.33 Q4350.17 2296.33 4353.23 2300.94 Q4356.31 2305.52 4356.31 2314.27 Q4356.31 2323 4353.23 2327.61 Q4350.17 2332.19 4344.36 2332.19 Q4338.55 2332.19 4335.47 2327.61 Q4332.42 2323 4332.42 2314.27 Q4332.42 2305.52 4335.47 2300.94 Q4338.55 2296.33 4344.36 2296.33 Z\" fill=\"#000000\" fill-rule=\"evenodd\" fill-opacity=\"1\" /><path clip-path=\"url(#clip3900)\" d=\"M 0 0 M4362.19 2327.58 L4369.82 2327.58 L4369.82 2301.22 L4361.51 2302.89 L4361.51 2298.63 L4369.78 2296.96 L4374.45 2296.96 L4374.45 2327.58 L4382.09 2327.58 L4382.09 2331.52 L4362.19 2331.52 L4362.19 2327.58 Z\" fill=\"#000000\" fill-rule=\"evenodd\" fill-opacity=\"1\" /><path clip-path=\"url(#clip3900)\" d=\"M 0 0 M4384.41 2316.64 L4396.88 2316.64 L4396.88 2320.43 L4384.41 2320.43 L4384.41 2316.64 Z\" fill=\"#000000\" fill-rule=\"evenodd\" fill-opacity=\"1\" /><path clip-path=\"url(#clip3900)\" d=\"M 0 0 M4411.95 2300.04 Q4408.34 2300.04 4406.51 2303.6 Q4404.71 2307.14 4404.71 2314.27 Q4404.71 2321.38 4406.51 2324.95 Q4408.34 2328.49 4411.95 2328.49 Q4415.59 2328.49 4417.39 2324.95 Q4419.22 2321.38 4419.22 2314.27 Q4419.22 2307.14 4417.39 2303.6 Q4415.59 2300.04 4411.95 2300.04 M4411.95 2296.33 Q4417.76 2296.33 4420.82 2300.94 Q4423.9 2305.52 4423.9 2314.27 Q4423.9 2323 4420.82 2327.61 Q4417.76 2332.19 4411.95 2332.19 Q4406.14 2332.19 4403.06 2327.61 Q4400.01 2323 4400.01 2314.27 Q4400.01 2305.52 4403.06 2300.94 Q4406.14 2296.33 4411.95 2296.33 Z\" fill=\"#000000\" fill-rule=\"evenodd\" fill-opacity=\"1\" /><path clip-path=\"url(#clip3900)\" d=\"M 0 0 M4429.78 2327.58 L4437.42 2327.58 L4437.42 2301.22 L4429.11 2302.89 L4429.11 2298.63 L4437.37 2296.96 L4442.05 2296.96 L4442.05 2327.58 L4449.68 2327.58 L4449.68 2331.52 L4429.78 2331.52 L4429.78 2327.58 Z\" fill=\"#000000\" fill-rule=\"evenodd\" fill-opacity=\"1\" /><path clip-path=\"url(#clip3900)\" d=\"M 0 0 M6096.59 2327.58 L6112.91 2327.58 L6112.91 2331.52 L6090.96 2331.52 L6090.96 2327.58 Q6093.63 2324.83 6098.21 2320.2 Q6102.82 2315.55 6104 2314.2 Q6106.24 2311.68 6107.12 2309.95 Q6108.02 2308.19 6108.02 2306.5 Q6108.02 2303.74 6106.08 2302.01 Q6104.16 2300.27 6101.06 2300.27 Q6098.86 2300.27 6096.4 2301.03 Q6093.97 2301.8 6091.2 2303.35 L6091.2 2298.63 Q6094.02 2297.49 6096.47 2296.91 Q6098.93 2296.33 6100.96 2296.33 Q6106.34 2296.33 6109.53 2299.02 Q6112.72 2301.7 6112.72 2306.2 Q6112.72 2308.32 6111.91 2310.25 Q6111.13 2312.14 6109.02 2314.74 Q6108.44 2315.41 6105.34 2318.63 Q6102.24 2321.82 6096.59 2327.58 Z\" fill=\"#000000\" fill-rule=\"evenodd\" fill-opacity=\"1\" /><path clip-path=\"url(#clip3900)\" d=\"M 0 0 M6127.98 2300.04 Q6124.37 2300.04 6122.54 2303.6 Q6120.73 2307.14 6120.73 2314.27 Q6120.73 2321.38 6122.54 2324.95 Q6124.37 2328.49 6127.98 2328.49 Q6131.61 2328.49 6133.42 2324.95 Q6135.25 2321.38 6135.25 2314.27 Q6135.25 2307.14 6133.42 2303.6 Q6131.61 2300.04 6127.98 2300.04 M6127.98 2296.33 Q6133.79 2296.33 6136.84 2300.94 Q6139.92 2305.52 6139.92 2314.27 Q6139.92 2323 6136.84 2327.61 Q6133.79 2332.19 6127.98 2332.19 Q6122.17 2332.19 6119.09 2327.61 Q6116.03 2323 6116.03 2314.27 Q6116.03 2305.52 6119.09 2300.94 Q6122.17 2296.33 6127.98 2296.33 Z\" fill=\"#000000\" fill-rule=\"evenodd\" fill-opacity=\"1\" /><path clip-path=\"url(#clip3900)\" d=\"M 0 0 M6149.02 2327.58 L6165.34 2327.58 L6165.34 2331.52 L6143.4 2331.52 L6143.4 2327.58 Q6146.06 2324.83 6150.64 2320.2 Q6155.25 2315.55 6156.43 2314.2 Q6158.67 2311.68 6159.55 2309.95 Q6160.46 2308.19 6160.46 2306.5 Q6160.46 2303.74 6158.51 2302.01 Q6156.59 2300.27 6153.49 2300.27 Q6151.29 2300.27 6148.83 2301.03 Q6146.4 2301.8 6143.63 2303.35 L6143.63 2298.63 Q6146.45 2297.49 6148.9 2296.91 Q6151.36 2296.33 6153.4 2296.33 Q6158.77 2296.33 6161.96 2299.02 Q6165.15 2301.7 6165.15 2306.2 Q6165.15 2308.32 6164.34 2310.25 Q6163.56 2312.14 6161.45 2314.74 Q6160.87 2315.41 6157.77 2318.63 Q6154.67 2321.82 6149.02 2327.58 Z\" fill=\"#000000\" fill-rule=\"evenodd\" fill-opacity=\"1\" /><path clip-path=\"url(#clip3900)\" d=\"M 0 0 M6180.41 2300.04 Q6176.8 2300.04 6174.97 2303.6 Q6173.16 2307.14 6173.16 2314.27 Q6173.16 2321.38 6174.97 2324.95 Q6176.8 2328.49 6180.41 2328.49 Q6184.04 2328.49 6185.85 2324.95 Q6187.68 2321.38 6187.68 2314.27 Q6187.68 2307.14 6185.85 2303.6 Q6184.04 2300.04 6180.41 2300.04 M6180.41 2296.33 Q6186.22 2296.33 6189.27 2300.94 Q6192.35 2305.52 6192.35 2314.27 Q6192.35 2323 6189.27 2327.61 Q6186.22 2332.19 6180.41 2332.19 Q6174.6 2332.19 6171.52 2327.61 Q6168.46 2323 6168.46 2314.27 Q6168.46 2305.52 6171.52 2300.94 Q6174.6 2296.33 6180.41 2296.33 Z\" fill=\"#000000\" fill-rule=\"evenodd\" fill-opacity=\"1\" /><path clip-path=\"url(#clip3900)\" d=\"M 0 0 M6194.67 2316.64 L6207.14 2316.64 L6207.14 2320.43 L6194.67 2320.43 L6194.67 2316.64 Z\" fill=\"#000000\" fill-rule=\"evenodd\" fill-opacity=\"1\" /><path clip-path=\"url(#clip3900)\" d=\"M 0 0 M6222.21 2300.04 Q6218.6 2300.04 6216.77 2303.6 Q6214.97 2307.14 6214.97 2314.27 Q6214.97 2321.38 6216.77 2324.95 Q6218.6 2328.49 6222.21 2328.49 Q6225.85 2328.49 6227.65 2324.95 Q6229.48 2321.38 6229.48 2314.27 Q6229.48 2307.14 6227.65 2303.6 Q6225.85 2300.04 6222.21 2300.04 M6222.21 2296.33 Q6228.02 2296.33 6231.08 2300.94 Q6234.16 2305.52 6234.16 2314.27 Q6234.16 2323 6231.08 2327.61 Q6228.02 2332.19 6222.21 2332.19 Q6216.4 2332.19 6213.33 2327.61 Q6210.27 2323 6210.27 2314.27 Q6210.27 2305.52 6213.33 2300.94 Q6216.4 2296.33 6222.21 2296.33 Z\" fill=\"#000000\" fill-rule=\"evenodd\" fill-opacity=\"1\" /><path clip-path=\"url(#clip3900)\" d=\"M 0 0 M6240.04 2327.58 L6247.68 2327.58 L6247.68 2301.22 L6239.37 2302.89 L6239.37 2298.63 L6247.63 2296.96 L6252.31 2296.96 L6252.31 2327.58 L6259.95 2327.58 L6259.95 2331.52 L6240.04 2331.52 L6240.04 2327.58 Z\" fill=\"#000000\" fill-rule=\"evenodd\" fill-opacity=\"1\" /><path clip-path=\"url(#clip3900)\" d=\"M 0 0 M6262.26 2316.64 L6274.74 2316.64 L6274.74 2320.43 L6262.26 2320.43 L6262.26 2316.64 Z\" fill=\"#000000\" fill-rule=\"evenodd\" fill-opacity=\"1\" /><path clip-path=\"url(#clip3900)\" d=\"M 0 0 M6289.81 2300.04 Q6286.2 2300.04 6284.37 2303.6 Q6282.56 2307.14 6282.56 2314.27 Q6282.56 2321.38 6284.37 2324.95 Q6286.2 2328.49 6289.81 2328.49 Q6293.44 2328.49 6295.25 2324.95 Q6297.07 2321.38 6297.07 2314.27 Q6297.07 2307.14 6295.25 2303.6 Q6293.44 2300.04 6289.81 2300.04 M6289.81 2296.33 Q6295.62 2296.33 6298.67 2300.94 Q6301.75 2305.52 6301.75 2314.27 Q6301.75 2323 6298.67 2327.61 Q6295.62 2332.19 6289.81 2332.19 Q6284 2332.19 6280.92 2327.61 Q6277.86 2323 6277.86 2314.27 Q6277.86 2305.52 6280.92 2300.94 Q6284 2296.33 6289.81 2296.33 Z\" fill=\"#000000\" fill-rule=\"evenodd\" fill-opacity=\"1\" /><path clip-path=\"url(#clip3900)\" d=\"M 0 0 M6307.63 2327.58 L6315.27 2327.58 L6315.27 2301.22 L6306.96 2302.89 L6306.96 2298.63 L6315.22 2296.96 L6319.9 2296.96 L6319.9 2327.58 L6327.54 2327.58 L6327.54 2331.52 L6307.63 2331.52 L6307.63 2327.58 Z\" fill=\"#000000\" fill-rule=\"evenodd\" fill-opacity=\"1\" /><path clip-path=\"url(#clip3900)\" d=\"M 0 0 M121.234 2046.57 Q124.591 2047.28 126.466 2049.55 Q128.364 2051.82 128.364 2055.15 Q128.364 2060.27 124.846 2063.07 Q121.327 2065.87 114.846 2065.87 Q112.67 2065.87 110.355 2065.43 Q108.063 2065.02 105.61 2064.16 L105.61 2059.65 Q107.554 2060.78 109.869 2061.36 Q112.184 2061.94 114.707 2061.94 Q119.105 2061.94 121.397 2060.2 Q123.711 2058.47 123.711 2055.15 Q123.711 2052.1 121.559 2050.39 Q119.429 2048.65 115.61 2048.65 L111.582 2048.65 L111.582 2044.81 L115.795 2044.81 Q119.244 2044.81 121.072 2043.44 Q122.901 2042.05 122.901 2039.46 Q122.901 2036.8 121.003 2035.39 Q119.128 2033.95 115.61 2033.95 Q113.688 2033.95 111.489 2034.37 Q109.29 2034.78 106.651 2035.66 L106.651 2031.5 Q109.313 2030.76 111.628 2030.39 Q113.966 2030.02 116.026 2030.02 Q121.35 2030.02 124.452 2032.45 Q127.554 2034.85 127.554 2038.97 Q127.554 2041.84 125.91 2043.84 Q124.267 2045.8 121.234 2046.57 Z\" fill=\"#000000\" fill-rule=\"evenodd\" fill-opacity=\"1\" /><path clip-path=\"url(#clip3900)\" d=\"M 0 0 M143.433 2033.72 Q139.822 2033.72 137.994 2037.28 Q136.188 2040.83 136.188 2047.96 Q136.188 2055.06 137.994 2058.63 Q139.822 2062.17 143.433 2062.17 Q147.068 2062.17 148.873 2058.63 Q150.702 2055.06 150.702 2047.96 Q150.702 2040.83 148.873 2037.28 Q147.068 2033.72 143.433 2033.72 M143.433 2030.02 Q149.244 2030.02 152.299 2034.62 Q155.378 2039.21 155.378 2047.96 Q155.378 2056.68 152.299 2061.29 Q149.244 2065.87 143.433 2065.87 Q137.623 2065.87 134.545 2061.29 Q131.489 2056.68 131.489 2047.96 Q131.489 2039.21 134.545 2034.62 Q137.623 2030.02 143.433 2030.02 Z\" fill=\"#000000\" fill-rule=\"evenodd\" fill-opacity=\"1\" /><path clip-path=\"url(#clip3900)\" d=\"M 0 0 M118.781 1456.15 L106.975 1474.6 L118.781 1474.6 L118.781 1456.15 M117.554 1452.08 L123.434 1452.08 L123.434 1474.6 L128.364 1474.6 L128.364 1478.49 L123.434 1478.49 L123.434 1486.64 L118.781 1486.64 L118.781 1478.49 L103.179 1478.49 L103.179 1473.97 L117.554 1452.08 Z\" fill=\"#000000\" fill-rule=\"evenodd\" fill-opacity=\"1\" /><path clip-path=\"url(#clip3900)\" d=\"M 0 0 M143.433 1455.15 Q139.822 1455.15 137.994 1458.72 Q136.188 1462.26 136.188 1469.39 Q136.188 1476.5 137.994 1480.06 Q139.822 1483.6 143.433 1483.6 Q147.068 1483.6 148.873 1480.06 Q150.702 1476.5 150.702 1469.39 Q150.702 1462.26 148.873 1458.72 Q147.068 1455.15 143.433 1455.15 M143.433 1451.45 Q149.244 1451.45 152.299 1456.06 Q155.378 1460.64 155.378 1469.39 Q155.378 1478.12 152.299 1482.72 Q149.244 1487.31 143.433 1487.31 Q137.623 1487.31 134.545 1482.72 Q131.489 1478.12 131.489 1469.39 Q131.489 1460.64 134.545 1456.06 Q137.623 1451.45 143.433 1451.45 Z\" fill=\"#000000\" fill-rule=\"evenodd\" fill-opacity=\"1\" /><path clip-path=\"url(#clip3900)\" d=\"M 0 0 M107.461 873.512 L125.818 873.512 L125.818 877.447 L111.744 877.447 L111.744 885.919 Q112.762 885.572 113.781 885.41 Q114.799 885.224 115.818 885.224 Q121.605 885.224 124.984 888.396 Q128.364 891.567 128.364 896.984 Q128.364 902.562 124.892 905.664 Q121.42 908.743 115.1 908.743 Q112.924 908.743 110.656 908.372 Q108.41 908.002 106.003 907.261 L106.003 902.562 Q108.086 903.697 110.309 904.252 Q112.531 904.808 115.008 904.808 Q119.012 904.808 121.35 902.701 Q123.688 900.595 123.688 896.984 Q123.688 893.373 121.35 891.266 Q119.012 889.16 115.008 889.16 Q113.133 889.16 111.258 889.576 Q109.406 889.993 107.461 890.873 L107.461 873.512 Z\" fill=\"#000000\" fill-rule=\"evenodd\" fill-opacity=\"1\" /><path clip-path=\"url(#clip3900)\" d=\"M 0 0 M143.433 876.59 Q139.822 876.59 137.994 880.155 Q136.188 883.697 136.188 890.826 Q136.188 897.933 137.994 901.497 Q139.822 905.039 143.433 905.039 Q147.068 905.039 148.873 901.497 Q150.702 897.933 150.702 890.826 Q150.702 883.697 148.873 880.155 Q147.068 876.59 143.433 876.59 M143.433 872.887 Q149.244 872.887 152.299 877.493 Q155.378 882.076 155.378 890.826 Q155.378 899.553 152.299 904.16 Q149.244 908.743 143.433 908.743 Q137.623 908.743 134.545 904.16 Q131.489 899.553 131.489 890.826 Q131.489 882.076 134.545 877.493 Q137.623 872.887 143.433 872.887 Z\" fill=\"#000000\" fill-rule=\"evenodd\" fill-opacity=\"1\" /><path clip-path=\"url(#clip3900)\" d=\"M 0 0 M116.836 310.363 Q113.688 310.363 111.836 312.516 Q110.008 314.669 110.008 318.419 Q110.008 322.146 111.836 324.322 Q113.688 326.474 116.836 326.474 Q119.984 326.474 121.813 324.322 Q123.665 322.146 123.665 318.419 Q123.665 314.669 121.813 312.516 Q119.984 310.363 116.836 310.363 M126.119 295.711 L126.119 299.97 Q124.359 299.137 122.554 298.697 Q120.772 298.257 119.012 298.257 Q114.383 298.257 111.929 301.382 Q109.498 304.507 109.151 310.826 Q110.517 308.812 112.577 307.748 Q114.637 306.66 117.114 306.66 Q122.322 306.66 125.332 309.831 Q128.364 312.979 128.364 318.419 Q128.364 323.743 125.216 326.96 Q122.068 330.178 116.836 330.178 Q110.841 330.178 107.67 325.595 Q104.498 320.988 104.498 312.261 Q104.498 304.067 108.387 299.206 Q112.276 294.322 118.827 294.322 Q120.586 294.322 122.369 294.669 Q124.174 295.016 126.119 295.711 Z\" fill=\"#000000\" fill-rule=\"evenodd\" fill-opacity=\"1\" /><path clip-path=\"url(#clip3900)\" d=\"M 0 0 M143.433 298.025 Q139.822 298.025 137.994 301.59 Q136.188 305.132 136.188 312.261 Q136.188 319.368 137.994 322.933 Q139.822 326.474 143.433 326.474 Q147.068 326.474 148.873 322.933 Q150.702 319.368 150.702 312.261 Q150.702 305.132 148.873 301.59 Q147.068 298.025 143.433 298.025 M143.433 294.322 Q149.244 294.322 152.299 298.928 Q155.378 303.512 155.378 312.261 Q155.378 320.988 152.299 325.595 Q149.244 330.178 143.433 330.178 Q137.623 330.178 134.545 325.595 Q131.489 320.988 131.489 312.261 Q131.489 303.512 134.545 298.928 Q137.623 294.322 143.433 294.322 Z\" fill=\"#000000\" fill-rule=\"evenodd\" fill-opacity=\"1\" /><path clip-path=\"url(#clip3900)\" d=\"M 0 0 M3534.83 2388.14 L3534.83 2398.26 L3546.89 2398.26 L3546.89 2402.81 L3534.83 2402.81 L3534.83 2422.17 Q3534.83 2426.53 3536.01 2427.77 Q3537.22 2429.01 3540.88 2429.01 L3546.89 2429.01 L3546.89 2433.91 L3540.88 2433.91 Q3534.1 2433.91 3531.52 2431.4 Q3528.94 2428.85 3528.94 2422.17 L3528.94 2402.81 L3524.65 2402.81 L3524.65 2398.26 L3528.94 2398.26 L3528.94 2388.14 L3534.83 2388.14 Z\" fill=\"#000000\" fill-rule=\"evenodd\" fill-opacity=\"1\" /><path clip-path=\"url(#clip3900)\" d=\"M 0 0 M3553.04 2398.26 L3558.89 2398.26 L3558.89 2433.91 L3553.04 2433.91 L3553.04 2398.26 M3553.04 2384.39 L3558.89 2384.39 L3558.89 2391.8 L3553.04 2391.8 L3553.04 2384.39 Z\" fill=\"#000000\" fill-rule=\"evenodd\" fill-opacity=\"1\" /><path clip-path=\"url(#clip3900)\" d=\"M 0 0 M3592.79 2405.11 Q3594.99 2401.16 3598.04 2399.28 Q3601.1 2397.4 3605.24 2397.4 Q3610.81 2397.4 3613.83 2401.32 Q3616.85 2405.2 3616.85 2412.4 L3616.85 2433.91 L3610.96 2433.91 L3610.96 2412.59 Q3610.96 2407.46 3609.15 2404.98 Q3607.34 2402.5 3603.61 2402.5 Q3599.06 2402.5 3596.42 2405.52 Q3593.78 2408.54 3593.78 2413.76 L3593.78 2433.91 L3587.89 2433.91 L3587.89 2412.59 Q3587.89 2407.43 3586.07 2404.98 Q3584.26 2402.5 3580.47 2402.5 Q3575.99 2402.5 3573.34 2405.55 Q3570.7 2408.58 3570.7 2413.76 L3570.7 2433.91 L3564.81 2433.91 L3564.81 2398.26 L3570.7 2398.26 L3570.7 2403.8 Q3572.71 2400.52 3575.51 2398.96 Q3578.31 2397.4 3582.16 2397.4 Q3586.04 2397.4 3588.75 2399.38 Q3591.49 2401.35 3592.79 2405.11 Z\" fill=\"#000000\" fill-rule=\"evenodd\" fill-opacity=\"1\" /><path clip-path=\"url(#clip3900)\" d=\"M 0 0 M3653.49 2414.62 L3653.49 2417.49 L3626.56 2417.49 Q3626.94 2423.54 3630.19 2426.72 Q3633.47 2429.87 3639.29 2429.87 Q3642.67 2429.87 3645.82 2429.04 Q3649 2428.21 3652.12 2426.56 L3652.12 2432.1 Q3648.97 2433.43 3645.66 2434.13 Q3642.35 2434.83 3638.94 2434.83 Q3630.41 2434.83 3625.42 2429.87 Q3620.45 2424.9 3620.45 2416.44 Q3620.45 2407.68 3625.16 2402.56 Q3629.9 2397.4 3637.92 2397.4 Q3645.12 2397.4 3649.29 2402.05 Q3653.49 2406.67 3653.49 2414.62 M3647.63 2412.9 Q3647.57 2408.1 3644.93 2405.23 Q3642.32 2402.37 3637.99 2402.37 Q3633.09 2402.37 3630.13 2405.14 Q3627.2 2407.91 3626.75 2412.94 L3647.63 2412.9 Z\" fill=\"#000000\" fill-rule=\"evenodd\" fill-opacity=\"1\" /><path clip-path=\"url(#clip3900)\" d=\"M 0 0 M-16.7249 1287.55 L-16.7249 1281.69 L18.923 1281.69 L18.923 1287.55 L-16.7249 1287.55 M-30.6022 1287.55 L-30.6022 1281.69 L-23.1861 1281.69 L-23.1861 1287.55 L-30.6022 1287.55 Z\" fill=\"#000000\" fill-rule=\"evenodd\" fill-opacity=\"1\" /><path clip-path=\"url(#clip3900)\" d=\"M 0 0 M-2.59307 1245.92 L18.923 1245.92 L18.923 1251.77 L-2.4021 1251.77 Q-7.46284 1251.77 -9.97729 1253.74 Q-12.4917 1255.72 -12.4917 1259.67 Q-12.4917 1264.41 -9.46804 1267.14 Q-6.44433 1269.88 -1.22445 1269.88 L18.923 1269.88 L18.923 1275.77 L-16.7249 1275.77 L-16.7249 1269.88 L-11.1868 1269.88 Q-14.4015 1267.78 -15.9929 1264.95 Q-17.5843 1262.08 -17.5843 1258.36 Q-17.5843 1252.22 -13.7649 1249.07 Q-9.97729 1245.92 -2.59307 1245.92 Z\" fill=\"#000000\" fill-rule=\"evenodd\" fill-opacity=\"1\" /><path clip-path=\"url(#clip3900)\" d=\"M 0 0 M-11.3141 1216.31 L-30.6022 1216.31 L-30.6022 1210.46 L18.923 1210.46 L18.923 1216.31 L13.5758 1216.31 Q16.7587 1218.16 18.3183 1220.99 Q19.846 1223.79 19.846 1227.74 Q19.846 1234.2 14.6898 1238.28 Q9.5336 1242.32 1.13086 1242.32 Q-7.27187 1242.32 -12.4281 1238.28 Q-17.5843 1234.2 -17.5843 1227.74 Q-17.5843 1223.79 -16.0247 1220.99 Q-14.4969 1218.16 -11.3141 1216.31 M1.13086 1236.27 Q7.59206 1236.27 11.2842 1233.63 Q14.9444 1230.96 14.9444 1226.31 Q14.9444 1221.66 11.2842 1218.99 Q7.59206 1216.31 1.13086 1216.31 Q-5.33033 1216.31 -8.99061 1218.99 Q-12.6827 1221.66 -12.6827 1226.31 Q-12.6827 1230.96 -8.99061 1233.63 Q-5.33033 1236.27 1.13086 1236.27 Z\" fill=\"#000000\" fill-rule=\"evenodd\" fill-opacity=\"1\" /><path clip-path=\"url(#clip3900)\" d=\"M 0 0 M-16.7249 1204.32 L-16.7249 1198.46 L18.923 1198.46 L18.923 1204.32 L-16.7249 1204.32 M-30.6022 1204.32 L-30.6022 1198.46 L-23.1861 1198.46 L-23.1861 1204.32 L-30.6022 1204.32 Z\" fill=\"#000000\" fill-rule=\"evenodd\" fill-opacity=\"1\" /><path clip-path=\"url(#clip3900)\" d=\"M 0 0 M-15.3563 1166.66 L-9.88181 1166.66 Q-11.2504 1169.14 -11.9188 1171.66 Q-12.6191 1174.14 -12.6191 1176.69 Q-12.6191 1182.39 -8.99061 1185.54 Q-5.39398 1188.69 1.13086 1188.69 Q7.65571 1188.69 11.2842 1185.54 Q14.8808 1182.39 14.8808 1176.69 Q14.8808 1174.14 14.2124 1171.66 Q13.5122 1169.14 12.1435 1166.66 L17.5544 1166.66 Q18.7002 1169.11 19.2731 1171.75 Q19.846 1174.36 19.846 1177.32 Q19.846 1185.38 14.7853 1190.12 Q9.72457 1194.86 1.13086 1194.86 Q-7.59015 1194.86 -12.5872 1190.09 Q-17.5843 1185.28 -17.5843 1176.94 Q-17.5843 1174.24 -17.0114 1171.66 Q-16.4703 1169.08 -15.3563 1166.66 Z\" fill=\"#000000\" fill-rule=\"evenodd\" fill-opacity=\"1\" /><path clip-path=\"url(#clip3900)\" d=\"M 0 0 M1.00355 1144.32 Q1.00355 1151.42 2.62681 1154.15 Q4.25006 1156.89 8.16497 1156.89 Q11.2842 1156.89 13.1302 1154.85 Q14.9444 1152.78 14.9444 1149.25 Q14.9444 1144.38 11.507 1141.45 Q8.03766 1138.49 2.30852 1138.49 L1.00355 1138.49 L1.00355 1144.32 M-1.41542 1132.64 L18.923 1132.64 L18.923 1138.49 L13.5122 1138.49 Q16.7587 1140.5 18.3183 1143.49 Q19.846 1146.48 19.846 1150.81 Q19.846 1156.29 16.7905 1159.53 Q13.7031 1162.75 8.54691 1162.75 Q2.53132 1162.75 -0.524219 1158.74 Q-3.57976 1154.69 -3.57976 1146.71 L-3.57976 1138.49 L-4.15267 1138.49 Q-8.1949 1138.49 -10.3911 1141.17 Q-12.6191 1143.81 -12.6191 1148.62 Q-12.6191 1151.67 -11.887 1154.57 Q-11.1549 1157.46 -9.69084 1160.14 L-15.1017 1160.14 Q-16.343 1156.92 -16.9477 1153.9 Q-17.5843 1150.88 -17.5843 1148.01 Q-17.5843 1140.28 -13.5739 1136.46 Q-9.56352 1132.64 -1.41542 1132.64 Z\" fill=\"#000000\" fill-rule=\"evenodd\" fill-opacity=\"1\" /><path clip-path=\"url(#clip3900)\" d=\"M 0 0 M-26.8464 1120.7 L-16.7249 1120.7 L-16.7249 1108.64 L-12.1735 1108.64 L-12.1735 1120.7 L7.17829 1120.7 Q11.5388 1120.7 12.7801 1119.52 Q14.0214 1118.31 14.0214 1114.65 L14.0214 1108.64 L18.923 1108.64 L18.923 1114.65 Q18.923 1121.43 16.4086 1124.01 Q13.8623 1126.59 7.17829 1126.59 L-12.1735 1126.59 L-12.1735 1130.89 L-16.7249 1130.89 L-16.7249 1126.59 L-26.8464 1126.59 L-26.8464 1120.7 Z\" fill=\"#000000\" fill-rule=\"evenodd\" fill-opacity=\"1\" /><path clip-path=\"url(#clip3900)\" d=\"M 0 0 M-12.6191 1088.68 Q-12.6191 1093.39 -8.92695 1096.13 Q-5.26667 1098.87 1.13086 1098.87 Q7.5284 1098.87 11.2205 1096.16 Q14.8808 1093.42 14.8808 1088.68 Q14.8808 1084 11.1887 1081.27 Q7.49657 1078.53 1.13086 1078.53 Q-5.20301 1078.53 -8.89512 1081.27 Q-12.6191 1084 -12.6191 1088.68 M-17.5843 1088.68 Q-17.5843 1081.04 -12.6191 1076.68 Q-7.65381 1072.32 1.13086 1072.32 Q9.88371 1072.32 14.8808 1076.68 Q19.846 1081.04 19.846 1088.68 Q19.846 1096.35 14.8808 1100.71 Q9.88371 1105.04 1.13086 1105.04 Q-7.65381 1105.04 -12.6191 1100.71 Q-17.5843 1096.35 -17.5843 1088.68 Z\" fill=\"#000000\" fill-rule=\"evenodd\" fill-opacity=\"1\" /><path clip-path=\"url(#clip3900)\" d=\"M 0 0 M-11.2504 1045.52 Q-11.8233 1046.51 -12.078 1047.69 Q-12.3644 1048.83 -12.3644 1050.23 Q-12.3644 1055.2 -9.11792 1057.87 Q-5.90324 1060.51 0.14418 1060.51 L18.923 1060.51 L18.923 1066.4 L-16.7249 1066.4 L-16.7249 1060.51 L-11.1868 1060.51 Q-14.4333 1058.67 -15.9929 1055.71 Q-17.5843 1052.75 -17.5843 1048.51 Q-17.5843 1047.91 -17.4888 1047.18 Q-17.4252 1046.45 -17.266 1045.55 L-11.2504 1045.52 Z\" fill=\"#000000\" fill-rule=\"evenodd\" fill-opacity=\"1\" /><path clip-path=\"url(#clip3900)\" d=\"M 0 0 M-15.6746 1016.65 L-10.1364 1016.65 Q-11.4096 1019.14 -12.0461 1021.81 Q-12.6827 1024.48 -12.6827 1027.35 Q-12.6827 1031.71 -11.3459 1033.91 Q-10.0091 1036.07 -7.33553 1036.07 Q-5.2985 1036.07 -4.12084 1034.51 Q-2.97502 1032.95 -1.92467 1028.24 L-1.47908 1026.23 Q-0.142277 1020 2.30852 1017.39 Q4.72749 1014.74 9.088 1014.74 Q14.0532 1014.74 16.9496 1018.69 Q19.846 1022.61 19.846 1029.48 Q19.846 1032.35 19.2731 1035.46 Q18.732 1038.55 17.618 1041.99 L11.5706 1041.99 Q13.2575 1038.74 14.1169 1035.59 Q14.9444 1032.44 14.9444 1029.35 Q14.9444 1025.22 13.544 1022.99 Q12.1117 1020.76 9.5336 1020.76 Q7.14646 1020.76 5.87332 1022.38 Q4.60017 1023.97 3.42252 1029.42 L2.94509 1031.45 Q1.79926 1036.9 -0.556048 1039.32 Q-2.94319 1041.74 -7.0809 1041.74 Q-12.1098 1041.74 -14.8471 1038.17 Q-17.5843 1034.61 -17.5843 1028.05 Q-17.5843 1024.8 -17.1069 1021.94 Q-16.6295 1019.07 -15.6746 1016.65 Z\" fill=\"#000000\" fill-rule=\"evenodd\" fill-opacity=\"1\" /><polyline clip-path=\"url(#clip3902)\" style=\"stroke:#009af9; stroke-width:4; stroke-opacity:1; fill:none\" points=\"\n",
       "  6762.36,1220.57 6677.46,1347.86 6600.29,1926.42 6520.53,2192.56 6443.36,1249.5 6366.18,1070.15 6294.15,1087.5 6214.4,1174.29 6132.07,1087.5 6052.32,1023.86 \n",
       "  5972.57,1104.86 5900.54,1041.22 5815.64,792.436 5735.89,630.437 5663.86,676.723 5578.97,751.936 5501.79,456.868 5422.04,757.722 5350.01,572.581 5275.4,532.081 \n",
       "  5195.65,404.797 5113.33,497.367 5033.58,381.655 4964.12,399.011 4876.65,514.724 4799.47,543.653 4719.72,526.296 4639.97,647.794 4565.37,468.439 4483.04,329.584 \n",
       "  4411.01,647.794 4336.4,485.796 4251.51,329.584 4174.33,323.798 4097.15,294.87 4017.4,318.012 3937.65,589.938 3863.05,474.225 3780.72,688.294 3700.97,775.079 \n",
       "  3628.94,375.869 3544.05,647.794 3472.01,537.867 3397.41,711.436 3312.51,757.722 3235.34,723.008 3160.73,908.148 3078.41,989.148 2998.66,925.505 2918.91,867.649 \n",
       "  2841.73,937.077 2764.55,937.077 2684.8,1000.72 2605.05,977.576 2530.45,1128 2458.41,1000.72 2370.94,815.578 2296.34,1029.65 2214.02,861.863 2136.84,821.364 \n",
       "  2062.23,734.579 1977.34,572.581 1900.16,792.436 1820.41,989.148 1743.23,890.792 1666.05,809.792 1594.02,653.58 1514.27,497.367 1431.95,607.295 1359.92,572.581 \n",
       "  1275.02,624.652 1200.42,422.154 1118.09,416.368 1038.34,728.793 963.737,728.793 881.414,618.866 804.237,827.149 729.631,757.722 657.599,757.722 575.276,491.582 \n",
       "  495.526,514.724 415.775,705.651 \n",
       "  \"/>\n",
       "<polyline clip-path=\"url(#clip3902)\" style=\"stroke:#e26f46; stroke-width:4; stroke-opacity:1; fill:none\" points=\"\n",
       "  6762.36,1793.35 6677.46,1579.28 6600.29,1810.71 6520.53,1191.65 6443.36,1156.93 6366.18,1243.72 6294.15,1278.43 6214.4,688.294 6132.07,642.009 6052.32,618.866 \n",
       "  5972.57,584.152 5900.54,543.653 5815.64,676.723 5735.89,653.58 5663.86,728.793 5578.97,503.153 5501.79,468.439 5422.04,439.511 5350.01,456.868 5275.4,422.154 \n",
       "  5195.65,474.225 5113.33,491.582 5033.58,491.582 4964.12,526.296 4876.65,532.081 4799.47,584.152 4719.72,555.224 4639.97,393.226 4565.37,474.225 4483.04,549.438 \n",
       "  4411.01,329.584 4336.4,231.228 4251.51,109.729 4174.33,399.011 4097.15,555.224 4017.4,618.866 \n",
       "  \"/>\n",
       "<polyline clip-path=\"url(#clip3902)\" style=\"stroke:#3da44d; stroke-width:4; stroke-opacity:1; fill:none\" points=\"\n",
       "  6762.36,1347.86 6677.46,1926.42 6600.29,2192.56 6520.53,1249.5 6443.36,1070.15 6366.18,1087.5 6294.15,1168.5 6214.4,1087.5 6132.07,1023.86 6052.32,1104.86 \n",
       "  5972.57,1041.22 5900.54,792.436 5815.64,630.437 5735.89,676.723 5663.86,751.936 5578.97,456.868 5501.79,757.722 5422.04,572.581 5350.01,543.653 5275.4,404.797 \n",
       "  5195.65,497.367 5113.33,381.655 5033.58,399.011 4964.12,514.724 4876.65,543.653 4799.47,526.296 4719.72,647.794 4639.97,468.439 4565.37,329.584 4483.04,647.794 \n",
       "  4411.01,422.154 4336.4,329.584 4251.51,323.798 4174.33,294.87 4097.15,318.012 4017.4,589.938 3937.65,474.225 3863.05,688.294 3780.72,775.079 3700.97,375.869 \n",
       "  3628.94,647.794 3544.05,537.867 3472.01,711.436 3397.41,757.722 3312.51,723.008 3235.34,908.148 3160.73,989.148 3078.41,925.505 2998.66,867.649 2918.91,937.077 \n",
       "  2841.73,937.077 2764.55,1000.72 2684.8,977.576 2605.05,1128 2530.45,1000.72 2458.41,815.578 2370.94,1029.65 2296.34,861.863 2214.02,821.364 2136.84,734.579 \n",
       "  2062.23,572.581 1977.34,792.436 1900.16,989.148 1820.41,890.792 1743.23,809.792 1666.05,653.58 1594.02,497.367 1514.27,607.295 1431.95,572.581 1359.92,624.652 \n",
       "  1275.02,422.154 1200.42,416.368 1118.09,728.793 1038.34,728.793 963.737,618.866 881.414,827.149 804.237,757.722 729.631,757.722 657.599,491.582 575.276,514.724 \n",
       "  495.526,705.651 \n",
       "  \"/>\n",
       "<path clip-path=\"url(#clip3900)\" d=\"\n",
       "M435.378 648.684 L1313.57 648.684 L1313.57 406.764 L435.378 406.764  Z\n",
       "  \" fill=\"#ffffff\" fill-rule=\"evenodd\" fill-opacity=\"1\"/>\n",
       "<polyline clip-path=\"url(#clip3900)\" style=\"stroke:#000000; stroke-width:4; stroke-opacity:1; fill:none\" points=\"\n",
       "  435.378,648.684 1313.57,648.684 1313.57,406.764 435.378,406.764 435.378,648.684 \n",
       "  \"/>\n",
       "<polyline clip-path=\"url(#clip3900)\" style=\"stroke:#009af9; stroke-width:4; stroke-opacity:1; fill:none\" points=\"\n",
       "  505.378,467.244 925.378,467.244 \n",
       "  \"/>\n",
       "<path clip-path=\"url(#clip3900)\" d=\"M 0 0 M1008.78 471.492 Q1003.62 471.492 1001.63 472.672 Q999.637 473.853 999.637 476.7 Q999.637 478.969 1001.12 480.311 Q1002.62 481.631 1005.19 481.631 Q1008.73 481.631 1010.86 479.131 Q1013.02 476.607 1013.02 472.441 L1013.02 471.492 L1008.78 471.492 M1017.28 469.733 L1017.28 484.524 L1013.02 484.524 L1013.02 480.589 Q1011.56 482.95 1009.38 484.084 Q1007.21 485.195 1004.06 485.195 Q1000.08 485.195 997.716 482.973 Q995.378 480.728 995.378 476.978 Q995.378 472.603 998.294 470.381 Q1001.23 468.158 1007.04 468.158 L1013.02 468.158 L1013.02 467.742 Q1013.02 464.802 1011.07 463.205 Q1009.15 461.584 1005.66 461.584 Q1003.43 461.584 1001.33 462.117 Q999.22 462.649 997.276 463.714 L997.276 459.779 Q999.614 458.876 1001.81 458.436 Q1004.01 457.973 1006.1 457.973 Q1011.72 457.973 1014.5 460.89 Q1017.28 463.807 1017.28 469.733 Z\" fill=\"#000000\" fill-rule=\"evenodd\" fill-opacity=\"1\" /><path clip-path=\"url(#clip3900)\" d=\"M 0 0 M1040.4 459.594 L1040.4 463.575 Q1038.6 462.58 1036.77 462.094 Q1034.96 461.584 1033.11 461.584 Q1028.97 461.584 1026.67 464.223 Q1024.38 466.839 1024.38 471.584 Q1024.38 476.33 1026.67 478.969 Q1028.97 481.584 1033.11 481.584 Q1034.96 481.584 1036.77 481.098 Q1038.6 480.589 1040.4 479.594 L1040.4 483.529 Q1038.62 484.362 1036.7 484.779 Q1034.8 485.195 1032.65 485.195 Q1026.79 485.195 1023.34 481.515 Q1019.89 477.834 1019.89 471.584 Q1019.89 465.242 1023.36 461.608 Q1026.86 457.973 1032.92 457.973 Q1034.89 457.973 1036.77 458.39 Q1038.64 458.783 1040.4 459.594 Z\" fill=\"#000000\" fill-rule=\"evenodd\" fill-opacity=\"1\" /><path clip-path=\"url(#clip3900)\" d=\"M 0 0 M1049.08 451.237 L1049.08 458.598 L1057.85 458.598 L1057.85 461.908 L1049.08 461.908 L1049.08 475.982 Q1049.08 479.154 1049.94 480.057 Q1050.82 480.959 1053.48 480.959 L1057.85 480.959 L1057.85 484.524 L1053.48 484.524 Q1048.55 484.524 1046.67 482.695 Q1044.8 480.844 1044.8 475.982 L1044.8 461.908 L1041.67 461.908 L1041.67 458.598 L1044.8 458.598 L1044.8 451.237 L1049.08 451.237 Z\" fill=\"#000000\" fill-rule=\"evenodd\" fill-opacity=\"1\" /><path clip-path=\"url(#clip3900)\" d=\"M 0 0 M1061.88 474.293 L1061.88 458.598 L1066.14 458.598 L1066.14 474.131 Q1066.14 477.811 1067.58 479.663 Q1069.01 481.492 1071.88 481.492 Q1075.33 481.492 1077.32 479.293 Q1079.34 477.094 1079.34 473.297 L1079.34 458.598 L1083.59 458.598 L1083.59 484.524 L1079.34 484.524 L1079.34 480.543 Q1077.78 482.904 1075.72 484.061 Q1073.69 485.195 1070.98 485.195 Q1066.51 485.195 1064.2 482.418 Q1061.88 479.64 1061.88 474.293 M1072.6 457.973 L1072.6 457.973 Z\" fill=\"#000000\" fill-rule=\"evenodd\" fill-opacity=\"1\" /><path clip-path=\"url(#clip3900)\" d=\"M 0 0 M1099.84 471.492 Q1094.68 471.492 1092.69 472.672 Q1090.7 473.853 1090.7 476.7 Q1090.7 478.969 1092.18 480.311 Q1093.69 481.631 1096.26 481.631 Q1099.8 481.631 1101.93 479.131 Q1104.08 476.607 1104.08 472.441 L1104.08 471.492 L1099.84 471.492 M1108.34 469.733 L1108.34 484.524 L1104.08 484.524 L1104.08 480.589 Q1102.62 482.95 1100.45 484.084 Q1098.27 485.195 1095.12 485.195 Q1091.14 485.195 1088.78 482.973 Q1086.44 480.728 1086.44 476.978 Q1086.44 472.603 1089.36 470.381 Q1092.3 468.158 1098.11 468.158 L1104.08 468.158 L1104.08 467.742 Q1104.08 464.802 1102.14 463.205 Q1100.22 461.584 1096.72 461.584 Q1094.5 461.584 1092.39 462.117 Q1090.28 462.649 1088.34 463.714 L1088.34 459.779 Q1090.68 458.876 1092.88 458.436 Q1095.08 457.973 1097.16 457.973 Q1102.78 457.973 1105.56 460.89 Q1108.34 463.807 1108.34 469.733 Z\" fill=\"#000000\" fill-rule=\"evenodd\" fill-opacity=\"1\" /><path clip-path=\"url(#clip3900)\" d=\"M 0 0 M1112.81 448.506 L1117.07 448.506 L1117.07 484.524 L1112.81 484.524 L1112.81 448.506 Z\" fill=\"#000000\" fill-rule=\"evenodd\" fill-opacity=\"1\" /><path clip-path=\"url(#clip3900)\" d=\"M 0 0 M1138.06 459.362 L1138.06 463.39 Q1136.26 462.464 1134.31 462.001 Q1132.37 461.538 1130.28 461.538 Q1127.11 461.538 1125.52 462.51 Q1123.94 463.483 1123.94 465.427 Q1123.94 466.908 1125.08 467.765 Q1126.21 468.598 1129.64 469.362 L1131.09 469.686 Q1135.63 470.658 1137.53 472.441 Q1139.45 474.2 1139.45 477.371 Q1139.45 480.982 1136.58 483.089 Q1133.73 485.195 1128.73 485.195 Q1126.65 485.195 1124.38 484.779 Q1122.14 484.385 1119.64 483.575 L1119.64 479.177 Q1122 480.404 1124.29 481.029 Q1126.58 481.631 1128.83 481.631 Q1131.84 481.631 1133.46 480.612 Q1135.08 479.57 1135.08 477.695 Q1135.08 475.959 1133.9 475.033 Q1132.74 474.107 1128.78 473.251 L1127.3 472.904 Q1123.34 472.07 1121.58 470.358 Q1119.82 468.621 1119.82 465.612 Q1119.82 461.955 1122.41 459.964 Q1125.01 457.973 1129.78 457.973 Q1132.14 457.973 1134.22 458.321 Q1136.3 458.668 1138.06 459.362 Z\" fill=\"#000000\" fill-rule=\"evenodd\" fill-opacity=\"1\" /><polyline clip-path=\"url(#clip3900)\" style=\"stroke:#e26f46; stroke-width:4; stroke-opacity:1; fill:none\" points=\"\n",
       "  505.378,527.724 925.378,527.724 \n",
       "  \"/>\n",
       "<path clip-path=\"url(#clip3900)\" d=\"M 0 0 M1011.88 508.986 L1011.88 512.527 L1007.81 512.527 Q1005.52 512.527 1004.61 513.453 Q1003.73 514.379 1003.73 516.787 L1003.73 519.078 L1010.75 519.078 L1010.75 522.388 L1003.73 522.388 L1003.73 545.004 L999.452 545.004 L999.452 522.388 L995.378 522.388 L995.378 519.078 L999.452 519.078 L999.452 517.273 Q999.452 512.944 1001.47 510.976 Q1003.48 508.986 1007.85 508.986 L1011.88 508.986 Z\" fill=\"#000000\" fill-rule=\"evenodd\" fill-opacity=\"1\" /><path clip-path=\"url(#clip3900)\" d=\"M 0 0 M1026.4 522.064 Q1022.97 522.064 1020.98 524.75 Q1018.99 527.412 1018.99 532.064 Q1018.99 536.717 1020.96 539.402 Q1022.95 542.064 1026.4 542.064 Q1029.8 542.064 1031.79 539.379 Q1033.78 536.694 1033.78 532.064 Q1033.78 527.458 1031.79 524.773 Q1029.8 522.064 1026.4 522.064 M1026.4 518.453 Q1031.95 518.453 1035.12 522.064 Q1038.29 525.675 1038.29 532.064 Q1038.29 538.43 1035.12 542.064 Q1031.95 545.675 1026.4 545.675 Q1020.82 545.675 1017.65 542.064 Q1014.5 538.43 1014.5 532.064 Q1014.5 525.675 1017.65 522.064 Q1020.82 518.453 1026.4 518.453 Z\" fill=\"#000000\" fill-rule=\"evenodd\" fill-opacity=\"1\" /><path clip-path=\"url(#clip3900)\" d=\"M 0 0 M1057.78 523.06 Q1057.07 522.643 1056.21 522.458 Q1055.38 522.25 1054.36 522.25 Q1050.75 522.25 1048.8 524.611 Q1046.88 526.949 1046.88 531.347 L1046.88 545.004 L1042.6 545.004 L1042.6 519.078 L1046.88 519.078 L1046.88 523.106 Q1048.22 520.745 1050.38 519.611 Q1052.53 518.453 1055.61 518.453 Q1056.05 518.453 1056.58 518.523 Q1057.11 518.569 1057.76 518.685 L1057.78 523.06 Z\" fill=\"#000000\" fill-rule=\"evenodd\" fill-opacity=\"1\" /><path clip-path=\"url(#clip3900)\" d=\"M 0 0 M1079.87 520.074 L1079.87 524.055 Q1078.06 523.06 1076.23 522.574 Q1074.43 522.064 1072.58 522.064 Q1068.43 522.064 1066.14 524.703 Q1063.85 527.319 1063.85 532.064 Q1063.85 536.81 1066.14 539.449 Q1068.43 542.064 1072.58 542.064 Q1074.43 542.064 1076.23 541.578 Q1078.06 541.069 1079.87 540.074 L1079.87 544.009 Q1078.09 544.842 1076.16 545.259 Q1074.27 545.675 1072.11 545.675 Q1066.26 545.675 1062.81 541.995 Q1059.36 538.314 1059.36 532.064 Q1059.36 525.722 1062.83 522.088 Q1066.33 518.453 1072.39 518.453 Q1074.36 518.453 1076.23 518.87 Q1078.11 519.263 1079.87 520.074 Z\" fill=\"#000000\" fill-rule=\"evenodd\" fill-opacity=\"1\" /><path clip-path=\"url(#clip3900)\" d=\"M 0 0 M1096.12 531.972 Q1090.96 531.972 1088.97 533.152 Q1086.97 534.333 1086.97 537.18 Q1086.97 539.449 1088.46 540.791 Q1089.96 542.111 1092.53 542.111 Q1096.07 542.111 1098.2 539.611 Q1100.35 537.087 1100.35 532.921 L1100.35 531.972 L1096.12 531.972 M1104.61 530.213 L1104.61 545.004 L1100.35 545.004 L1100.35 541.069 Q1098.9 543.43 1096.72 544.564 Q1094.54 545.675 1091.4 545.675 Q1087.41 545.675 1085.05 543.453 Q1082.72 541.208 1082.72 537.458 Q1082.72 533.083 1085.63 530.861 Q1088.57 528.638 1094.38 528.638 L1100.35 528.638 L1100.35 528.222 Q1100.35 525.282 1098.41 523.685 Q1096.49 522.064 1092.99 522.064 Q1090.77 522.064 1088.66 522.597 Q1086.56 523.129 1084.61 524.194 L1084.61 520.259 Q1086.95 519.356 1089.15 518.916 Q1091.35 518.453 1093.43 518.453 Q1099.06 518.453 1101.84 521.37 Q1104.61 524.287 1104.61 530.213 Z\" fill=\"#000000\" fill-rule=\"evenodd\" fill-opacity=\"1\" /><path clip-path=\"url(#clip3900)\" d=\"M 0 0 M1125.61 519.842 L1125.61 523.87 Q1123.8 522.944 1121.86 522.481 Q1119.91 522.018 1117.83 522.018 Q1114.66 522.018 1113.06 522.99 Q1111.49 523.963 1111.49 525.907 Q1111.49 527.388 1112.62 528.245 Q1113.76 529.078 1117.18 529.842 L1118.64 530.166 Q1123.18 531.138 1125.08 532.921 Q1127 534.68 1127 537.851 Q1127 541.462 1124.13 543.569 Q1121.28 545.675 1116.28 545.675 Q1114.2 545.675 1111.93 545.259 Q1109.68 544.865 1107.18 544.055 L1107.18 539.657 Q1109.54 540.884 1111.84 541.509 Q1114.13 542.111 1116.37 542.111 Q1119.38 542.111 1121 541.092 Q1122.62 540.05 1122.62 538.175 Q1122.62 536.439 1121.44 535.513 Q1120.28 534.587 1116.33 533.731 L1114.84 533.384 Q1110.89 532.55 1109.13 530.838 Q1107.37 529.101 1107.37 526.092 Q1107.37 522.435 1109.96 520.444 Q1112.55 518.453 1117.32 518.453 Q1119.68 518.453 1121.77 518.801 Q1123.85 519.148 1125.61 519.842 Z\" fill=\"#000000\" fill-rule=\"evenodd\" fill-opacity=\"1\" /><path clip-path=\"url(#clip3900)\" d=\"M 0 0 M1135.68 511.717 L1135.68 519.078 L1144.45 519.078 L1144.45 522.388 L1135.68 522.388 L1135.68 536.462 Q1135.68 539.634 1136.53 540.537 Q1137.41 541.439 1140.08 541.439 L1144.45 541.439 L1144.45 545.004 L1140.08 545.004 Q1135.15 545.004 1133.27 543.175 Q1131.4 541.324 1131.4 536.462 L1131.4 522.388 L1128.27 522.388 L1128.27 519.078 L1131.4 519.078 L1131.4 511.717 L1135.68 511.717 Z\" fill=\"#000000\" fill-rule=\"evenodd\" fill-opacity=\"1\" /><polyline clip-path=\"url(#clip3900)\" style=\"stroke:#3da44d; stroke-width:4; stroke-opacity:1; fill:none\" points=\"\n",
       "  505.378,588.204 925.378,588.204 \n",
       "  \"/>\n",
       "<path clip-path=\"url(#clip3900)\" d=\"M 0 0 M999.66 601.595 L999.66 615.345 L995.378 615.345 L995.378 579.558 L999.66 579.558 L999.66 583.493 Q1001 581.179 1003.04 580.068 Q1005.1 578.933 1007.95 578.933 Q1012.67 578.933 1015.61 582.683 Q1018.57 586.433 1018.57 592.544 Q1018.57 598.655 1015.61 602.405 Q1012.67 606.155 1007.95 606.155 Q1005.1 606.155 1003.04 605.044 Q1001 603.91 999.66 601.595 M1014.15 592.544 Q1014.15 587.845 1012.21 585.183 Q1010.29 582.498 1006.91 582.498 Q1003.53 582.498 1001.58 585.183 Q999.66 587.845 999.66 592.544 Q999.66 597.243 1001.58 599.929 Q1003.53 602.591 1006.91 602.591 Q1010.29 602.591 1012.21 599.929 Q1014.15 597.243 1014.15 592.544 Z\" fill=\"#000000\" fill-rule=\"evenodd\" fill-opacity=\"1\" /><path clip-path=\"url(#clip3900)\" d=\"M 0 0 M1038.06 583.54 Q1037.35 583.123 1036.49 582.938 Q1035.66 582.73 1034.64 582.73 Q1031.03 582.73 1029.08 585.091 Q1027.16 587.429 1027.16 591.827 L1027.16 605.484 L1022.88 605.484 L1022.88 579.558 L1027.16 579.558 L1027.16 583.586 Q1028.5 581.225 1030.66 580.091 Q1032.81 578.933 1035.89 578.933 Q1036.33 578.933 1036.86 579.003 Q1037.39 579.049 1038.04 579.165 L1038.06 583.54 Z\" fill=\"#000000\" fill-rule=\"evenodd\" fill-opacity=\"1\" /><path clip-path=\"url(#clip3900)\" d=\"M 0 0 M1063.66 591.456 L1063.66 593.54 L1044.08 593.54 Q1044.36 597.938 1046.72 600.253 Q1049.1 602.544 1053.34 602.544 Q1055.79 602.544 1058.09 601.942 Q1060.4 601.341 1062.67 600.137 L1062.67 604.165 Q1060.38 605.137 1057.97 605.646 Q1055.56 606.155 1053.09 606.155 Q1046.88 606.155 1043.25 602.544 Q1039.64 598.933 1039.64 592.776 Q1039.64 586.41 1043.06 582.683 Q1046.51 578.933 1052.35 578.933 Q1057.58 578.933 1060.61 582.313 Q1063.66 585.669 1063.66 591.456 M1059.41 590.206 Q1059.36 586.711 1057.44 584.628 Q1055.54 582.544 1052.39 582.544 Q1048.83 582.544 1046.67 584.558 Q1044.54 586.572 1044.22 590.23 L1059.41 590.206 Z\" fill=\"#000000\" fill-rule=\"evenodd\" fill-opacity=\"1\" /><path clip-path=\"url(#clip3900)\" d=\"M 0 0 M1065.08 579.558 L1069.59 579.558 L1077.69 601.317 L1085.79 579.558 L1090.31 579.558 L1080.59 605.484 L1074.8 605.484 L1065.08 579.558 Z\" fill=\"#000000\" fill-rule=\"evenodd\" fill-opacity=\"1\" /><path clip-path=\"url(#clip3900)\" d=\"M 0 0 M1094.78 579.558 L1099.03 579.558 L1099.03 605.484 L1094.78 605.484 L1094.78 579.558 M1094.78 569.466 L1099.03 569.466 L1099.03 574.859 L1094.78 574.859 L1094.78 569.466 Z\" fill=\"#000000\" fill-rule=\"evenodd\" fill-opacity=\"1\" /><path clip-path=\"url(#clip3900)\" d=\"M 0 0 M1113.55 582.544 Q1110.12 582.544 1108.13 585.23 Q1106.14 587.892 1106.14 592.544 Q1106.14 597.197 1108.11 599.882 Q1110.1 602.544 1113.55 602.544 Q1116.95 602.544 1118.94 599.859 Q1120.93 597.174 1120.93 592.544 Q1120.93 587.938 1118.94 585.253 Q1116.95 582.544 1113.55 582.544 M1113.55 578.933 Q1119.1 578.933 1122.28 582.544 Q1125.45 586.155 1125.45 592.544 Q1125.45 598.91 1122.28 602.544 Q1119.1 606.155 1113.55 606.155 Q1107.97 606.155 1104.8 602.544 Q1101.65 598.91 1101.65 592.544 Q1101.65 586.155 1104.8 582.544 Q1107.97 578.933 1113.55 578.933 Z\" fill=\"#000000\" fill-rule=\"evenodd\" fill-opacity=\"1\" /><path clip-path=\"url(#clip3900)\" d=\"M 0 0 M1129.47 595.253 L1129.47 579.558 L1133.73 579.558 L1133.73 595.091 Q1133.73 598.771 1135.17 600.623 Q1136.6 602.452 1139.47 602.452 Q1142.92 602.452 1144.91 600.253 Q1146.93 598.054 1146.93 594.257 L1146.93 579.558 L1151.19 579.558 L1151.19 605.484 L1146.93 605.484 L1146.93 601.503 Q1145.38 603.864 1143.32 605.021 Q1141.28 606.155 1138.57 606.155 Q1134.1 606.155 1131.79 603.378 Q1129.47 600.6 1129.47 595.253 M1140.19 578.933 L1140.19 578.933 Z\" fill=\"#000000\" fill-rule=\"evenodd\" fill-opacity=\"1\" /><path clip-path=\"url(#clip3900)\" d=\"M 0 0 M1172.18 580.322 L1172.18 584.35 Q1170.38 583.424 1168.43 582.961 Q1166.49 582.498 1164.4 582.498 Q1161.23 582.498 1159.64 583.47 Q1158.06 584.443 1158.06 586.387 Q1158.06 587.868 1159.2 588.725 Q1160.33 589.558 1163.76 590.322 L1165.21 590.646 Q1169.75 591.618 1171.65 593.401 Q1173.57 595.16 1173.57 598.331 Q1173.57 601.942 1170.7 604.049 Q1167.85 606.155 1162.85 606.155 Q1160.77 606.155 1158.5 605.739 Q1156.26 605.345 1153.76 604.535 L1153.76 600.137 Q1156.12 601.364 1158.41 601.989 Q1160.7 602.591 1162.95 602.591 Q1165.96 602.591 1167.58 601.572 Q1169.2 600.53 1169.2 598.655 Q1169.2 596.919 1168.02 595.993 Q1166.86 595.067 1162.9 594.211 L1161.42 593.864 Q1157.46 593.03 1155.7 591.318 Q1153.94 589.581 1153.94 586.572 Q1153.94 582.915 1156.53 580.924 Q1159.13 578.933 1163.9 578.933 Q1166.26 578.933 1168.34 579.281 Q1170.42 579.628 1172.18 580.322 Z\" fill=\"#000000\" fill-rule=\"evenodd\" fill-opacity=\"1\" /></svg>\n"
      ]
     },
     "execution_count": 60,
     "metadata": {},
     "output_type": "execute_result"
    }
   ],
   "source": [
    "df = df_ISM_Mfc_Emp\n",
    "periods = df[:,1] # all rows, first column\n",
    "println(periods[begin], \" to \", periods[end])\n",
    "gr()\n",
    "plot(periods, \n",
    "    [df[:,2]  df[:,3] df[:,4] ], \n",
    "    label    = [\"actuals\" \"forcast\" \"previous\"],\n",
    "    legend    =:topleft, # :right, :left, :top, :bottom, :inside, :best, :legend, :topright, :topleft, :bottomleft, :bottomright\n",
    "    xlabel   = \"time\",\n",
    "    ylabel   = \"indicators\",\n",
    "    size     = (1750, 600), # width, height\n",
    "    layout = (1, 1) # number of seperate plots VERTICALLY, HORIZONTALLY\n",
    "    )"
   ]
  },
  {
   "cell_type": "code",
   "execution_count": 43,
   "metadata": {},
   "outputs": [
    {
     "data": {
      "text/plain": [
       "(82, 4)"
      ]
     },
     "execution_count": 43,
     "metadata": {},
     "output_type": "execute_result"
    }
   ],
   "source": [
    "df1 = df_ISM_Mfc_Emp\n",
    "size(df1)"
   ]
  },
  {
   "cell_type": "code",
   "execution_count": 50,
   "metadata": {},
   "outputs": [
    {
     "data": {
      "text/plain": [
       "(82, 4)"
      ]
     },
     "execution_count": 50,
     "metadata": {},
     "output_type": "execute_result"
    }
   ],
   "source": [
    "df2 = df_Markkit_Mfc_PMI[end-81:end,:]\n",
    "size(df2)"
   ]
  },
  {
   "cell_type": "code",
   "execution_count": 58,
   "metadata": {},
   "outputs": [
    {
     "name": "stdout",
     "output_type": "stream",
     "text": [
      "2015-09-23 to 2012-04-25\n"
     ]
    },
    {
     "data": {
      "image/svg+xml": [
       "<?xml version=\"1.0\" encoding=\"utf-8\"?>\n",
       "<svg xmlns=\"http://www.w3.org/2000/svg\" xmlns:xlink=\"http://www.w3.org/1999/xlink\" width=\"1750\" height=\"600\" viewBox=\"0 0 7000 2400\">\n",
       "<defs>\n",
       "  <clipPath id=\"clip3100\">\n",
       "    <rect x=\"0\" y=\"0\" width=\"7000\" height=\"2400\"/>\n",
       "  </clipPath>\n",
       "</defs>\n",
       "<path clip-path=\"url(#clip3100)\" d=\"\n",
       "M0 2400 L7000 2400 L7000 0 L0 0  Z\n",
       "  \" fill=\"#ffffff\" fill-rule=\"evenodd\" fill-opacity=\"1\"/>\n",
       "<defs>\n",
       "  <clipPath id=\"clip3101\">\n",
       "    <rect x=\"1400\" y=\"0\" width=\"4901\" height=\"2400\"/>\n",
       "  </clipPath>\n",
       "</defs>\n",
       "<path clip-path=\"url(#clip3100)\" d=\"\n",
       "M222.859 2252.49 L6952.76 2252.49 L6952.76 95.9812 L222.859 95.9812  Z\n",
       "  \" fill=\"#ffffff\" fill-rule=\"evenodd\" fill-opacity=\"1\"/>\n",
       "<defs>\n",
       "  <clipPath id=\"clip3102\">\n",
       "    <rect x=\"222\" y=\"95\" width=\"6731\" height=\"2158\"/>\n",
       "  </clipPath>\n",
       "</defs>\n",
       "<polyline clip-path=\"url(#clip3102)\" style=\"stroke:#000000; stroke-width:2; stroke-opacity:0.1; fill:none\" points=\"\n",
       "  1692.29,2252.49 1692.29,95.9812 \n",
       "  \"/>\n",
       "<polyline clip-path=\"url(#clip3102)\" style=\"stroke:#000000; stroke-width:2; stroke-opacity:0.1; fill:none\" points=\"\n",
       "  3552.14,2252.49 3552.14,95.9812 \n",
       "  \"/>\n",
       "<polyline clip-path=\"url(#clip3102)\" style=\"stroke:#000000; stroke-width:2; stroke-opacity:0.1; fill:none\" points=\"\n",
       "  5411.99,2252.49 5411.99,95.9812 \n",
       "  \"/>\n",
       "<polyline clip-path=\"url(#clip3102)\" style=\"stroke:#000000; stroke-width:2; stroke-opacity:0.1; fill:none\" points=\"\n",
       "  222.859,2036.39 6952.76,2036.39 \n",
       "  \"/>\n",
       "<polyline clip-path=\"url(#clip3102)\" style=\"stroke:#000000; stroke-width:2; stroke-opacity:0.1; fill:none\" points=\"\n",
       "  222.859,1416.14 6952.76,1416.14 \n",
       "  \"/>\n",
       "<polyline clip-path=\"url(#clip3102)\" style=\"stroke:#000000; stroke-width:2; stroke-opacity:0.1; fill:none\" points=\"\n",
       "  222.859,795.879 6952.76,795.879 \n",
       "  \"/>\n",
       "<polyline clip-path=\"url(#clip3102)\" style=\"stroke:#000000; stroke-width:2; stroke-opacity:0.1; fill:none\" points=\"\n",
       "  222.859,175.622 6952.76,175.622 \n",
       "  \"/>\n",
       "<polyline clip-path=\"url(#clip3100)\" style=\"stroke:#000000; stroke-width:4; stroke-opacity:1; fill:none\" points=\"\n",
       "  222.859,2252.49 6952.76,2252.49 \n",
       "  \"/>\n",
       "<polyline clip-path=\"url(#clip3100)\" style=\"stroke:#000000; stroke-width:4; stroke-opacity:1; fill:none\" points=\"\n",
       "  222.859,2252.49 222.859,95.9812 \n",
       "  \"/>\n",
       "<polyline clip-path=\"url(#clip3100)\" style=\"stroke:#000000; stroke-width:4; stroke-opacity:1; fill:none\" points=\"\n",
       "  1692.29,2252.49 1692.29,2226.61 \n",
       "  \"/>\n",
       "<polyline clip-path=\"url(#clip3100)\" style=\"stroke:#000000; stroke-width:4; stroke-opacity:1; fill:none\" points=\"\n",
       "  3552.14,2252.49 3552.14,2226.61 \n",
       "  \"/>\n",
       "<polyline clip-path=\"url(#clip3100)\" style=\"stroke:#000000; stroke-width:4; stroke-opacity:1; fill:none\" points=\"\n",
       "  5411.99,2252.49 5411.99,2226.61 \n",
       "  \"/>\n",
       "<polyline clip-path=\"url(#clip3100)\" style=\"stroke:#000000; stroke-width:4; stroke-opacity:1; fill:none\" points=\"\n",
       "  222.859,2036.39 303.618,2036.39 \n",
       "  \"/>\n",
       "<polyline clip-path=\"url(#clip3100)\" style=\"stroke:#000000; stroke-width:4; stroke-opacity:1; fill:none\" points=\"\n",
       "  222.859,1416.14 303.618,1416.14 \n",
       "  \"/>\n",
       "<polyline clip-path=\"url(#clip3100)\" style=\"stroke:#000000; stroke-width:4; stroke-opacity:1; fill:none\" points=\"\n",
       "  222.859,795.879 303.618,795.879 \n",
       "  \"/>\n",
       "<polyline clip-path=\"url(#clip3100)\" style=\"stroke:#000000; stroke-width:4; stroke-opacity:1; fill:none\" points=\"\n",
       "  222.859,175.622 303.618,175.622 \n",
       "  \"/>\n",
       "<path clip-path=\"url(#clip3100)\" d=\"M 0 0 M1579.77 2325.03 L1596.09 2325.03 L1596.09 2328.96 L1574.14 2328.96 L1574.14 2325.03 Q1576.81 2322.27 1581.39 2317.64 Q1586 2312.99 1587.18 2311.65 Q1589.42 2309.12 1590.3 2307.39 Q1591.2 2305.63 1591.2 2303.94 Q1591.2 2301.18 1589.26 2299.45 Q1587.34 2297.71 1584.24 2297.71 Q1582.04 2297.71 1579.58 2298.47 Q1577.15 2299.24 1574.38 2300.79 L1574.38 2296.07 Q1577.2 2294.93 1579.65 2294.35 Q1582.11 2293.78 1584.14 2293.78 Q1589.51 2293.78 1592.71 2296.46 Q1595.9 2299.15 1595.9 2303.64 Q1595.9 2305.77 1595.09 2307.69 Q1594.31 2309.59 1592.2 2312.18 Q1591.62 2312.85 1588.52 2316.07 Q1585.42 2319.26 1579.77 2325.03 Z\" fill=\"#000000\" fill-rule=\"evenodd\" fill-opacity=\"1\" /><path clip-path=\"url(#clip3100)\" d=\"M 0 0 M1611.16 2297.48 Q1607.55 2297.48 1605.72 2301.04 Q1603.91 2304.59 1603.91 2311.72 Q1603.91 2318.82 1605.72 2322.39 Q1607.55 2325.93 1611.16 2325.93 Q1614.79 2325.93 1616.6 2322.39 Q1618.43 2318.82 1618.43 2311.72 Q1618.43 2304.59 1616.6 2301.04 Q1614.79 2297.48 1611.16 2297.48 M1611.16 2293.78 Q1616.97 2293.78 1620.02 2298.38 Q1623.1 2302.97 1623.1 2311.72 Q1623.1 2320.44 1620.02 2325.05 Q1616.97 2329.63 1611.16 2329.63 Q1605.35 2329.63 1602.27 2325.05 Q1599.21 2320.44 1599.21 2311.72 Q1599.21 2302.97 1602.27 2298.38 Q1605.35 2293.78 1611.16 2293.78 Z\" fill=\"#000000\" fill-rule=\"evenodd\" fill-opacity=\"1\" /><path clip-path=\"url(#clip3100)\" d=\"M 0 0 M1628.98 2325.03 L1636.62 2325.03 L1636.62 2298.66 L1628.31 2300.33 L1628.31 2296.07 L1636.57 2294.4 L1641.25 2294.4 L1641.25 2325.03 L1648.89 2325.03 L1648.89 2328.96 L1628.98 2328.96 L1628.98 2325.03 Z\" fill=\"#000000\" fill-rule=\"evenodd\" fill-opacity=\"1\" /><path clip-path=\"url(#clip3100)\" d=\"M 0 0 M1668.12 2310.33 Q1671.48 2311.04 1673.36 2313.31 Q1675.25 2315.58 1675.25 2318.91 Q1675.25 2324.03 1671.74 2326.83 Q1668.22 2329.63 1661.74 2329.63 Q1659.56 2329.63 1657.25 2329.19 Q1654.95 2328.78 1652.5 2327.92 L1652.5 2323.41 Q1654.44 2324.54 1656.76 2325.12 Q1659.07 2325.7 1661.6 2325.7 Q1666 2325.7 1668.29 2323.96 Q1670.6 2322.22 1670.6 2318.91 Q1670.6 2315.86 1668.45 2314.15 Q1666.32 2312.41 1662.5 2312.41 L1658.47 2312.41 L1658.47 2308.57 L1662.69 2308.57 Q1666.13 2308.57 1667.96 2307.2 Q1669.79 2305.81 1669.79 2303.22 Q1669.79 2300.56 1667.89 2299.15 Q1666.02 2297.71 1662.5 2297.71 Q1660.58 2297.71 1658.38 2298.13 Q1656.18 2298.54 1653.54 2299.42 L1653.54 2295.26 Q1656.2 2294.52 1658.52 2294.15 Q1660.86 2293.78 1662.92 2293.78 Q1668.24 2293.78 1671.34 2296.21 Q1674.44 2298.61 1674.44 2302.73 Q1674.44 2305.6 1672.8 2307.6 Q1671.16 2309.56 1668.12 2310.33 Z\" fill=\"#000000\" fill-rule=\"evenodd\" fill-opacity=\"1\" /><path clip-path=\"url(#clip3100)\" d=\"M 0 0 M1677.57 2314.08 L1690.05 2314.08 L1690.05 2317.87 L1677.57 2317.87 L1677.57 2314.08 Z\" fill=\"#000000\" fill-rule=\"evenodd\" fill-opacity=\"1\" /><path clip-path=\"url(#clip3100)\" d=\"M 0 0 M1705.12 2297.48 Q1701.5 2297.48 1699.68 2301.04 Q1697.87 2304.59 1697.87 2311.72 Q1697.87 2318.82 1699.68 2322.39 Q1701.5 2325.93 1705.12 2325.93 Q1708.75 2325.93 1710.56 2322.39 Q1712.38 2318.82 1712.38 2311.72 Q1712.38 2304.59 1710.56 2301.04 Q1708.75 2297.48 1705.12 2297.48 M1705.12 2293.78 Q1710.93 2293.78 1713.98 2298.38 Q1717.06 2302.97 1717.06 2311.72 Q1717.06 2320.44 1713.98 2325.05 Q1710.93 2329.63 1705.12 2329.63 Q1699.31 2329.63 1696.23 2325.05 Q1693.17 2320.44 1693.17 2311.72 Q1693.17 2302.97 1696.23 2298.38 Q1699.31 2293.78 1705.12 2293.78 Z\" fill=\"#000000\" fill-rule=\"evenodd\" fill-opacity=\"1\" /><path clip-path=\"url(#clip3100)\" d=\"M 0 0 M1722.94 2325.03 L1730.58 2325.03 L1730.58 2298.66 L1722.27 2300.33 L1722.27 2296.07 L1730.53 2294.4 L1735.21 2294.4 L1735.21 2325.03 L1742.85 2325.03 L1742.85 2328.96 L1722.94 2328.96 L1722.94 2325.03 Z\" fill=\"#000000\" fill-rule=\"evenodd\" fill-opacity=\"1\" /><path clip-path=\"url(#clip3100)\" d=\"M 0 0 M1745.16 2314.08 L1757.64 2314.08 L1757.64 2317.87 L1745.16 2317.87 L1745.16 2314.08 Z\" fill=\"#000000\" fill-rule=\"evenodd\" fill-opacity=\"1\" /><path clip-path=\"url(#clip3100)\" d=\"M 0 0 M1772.71 2297.48 Q1769.1 2297.48 1767.27 2301.04 Q1765.46 2304.59 1765.46 2311.72 Q1765.46 2318.82 1767.27 2322.39 Q1769.1 2325.93 1772.71 2325.93 Q1776.34 2325.93 1778.15 2322.39 Q1779.98 2318.82 1779.98 2311.72 Q1779.98 2304.59 1778.15 2301.04 Q1776.34 2297.48 1772.71 2297.48 M1772.71 2293.78 Q1778.52 2293.78 1781.57 2298.38 Q1784.65 2302.97 1784.65 2311.72 Q1784.65 2320.44 1781.57 2325.05 Q1778.52 2329.63 1772.71 2329.63 Q1766.9 2329.63 1763.82 2325.05 Q1760.76 2320.44 1760.76 2311.72 Q1760.76 2302.97 1763.82 2298.38 Q1766.9 2293.78 1772.71 2293.78 Z\" fill=\"#000000\" fill-rule=\"evenodd\" fill-opacity=\"1\" /><path clip-path=\"url(#clip3100)\" d=\"M 0 0 M1790.53 2325.03 L1798.17 2325.03 L1798.17 2298.66 L1789.86 2300.33 L1789.86 2296.07 L1798.12 2294.4 L1802.8 2294.4 L1802.8 2325.03 L1810.44 2325.03 L1810.44 2328.96 L1790.53 2328.96 L1790.53 2325.03 Z\" fill=\"#000000\" fill-rule=\"evenodd\" fill-opacity=\"1\" /><path clip-path=\"url(#clip3100)\" d=\"M 0 0 M3439.05 2325.03 L3455.37 2325.03 L3455.37 2328.96 L3433.42 2328.96 L3433.42 2325.03 Q3436.09 2322.27 3440.67 2317.64 Q3445.28 2312.99 3446.46 2311.65 Q3448.7 2309.12 3449.58 2307.39 Q3450.48 2305.63 3450.48 2303.94 Q3450.48 2301.18 3448.54 2299.45 Q3446.62 2297.71 3443.52 2297.71 Q3441.32 2297.71 3438.86 2298.47 Q3436.43 2299.24 3433.66 2300.79 L3433.66 2296.07 Q3436.48 2294.93 3438.93 2294.35 Q3441.39 2293.78 3443.42 2293.78 Q3448.79 2293.78 3451.99 2296.46 Q3455.18 2299.15 3455.18 2303.64 Q3455.18 2305.77 3454.37 2307.69 Q3453.59 2309.59 3451.48 2312.18 Q3450.9 2312.85 3447.8 2316.07 Q3444.7 2319.26 3439.05 2325.03 Z\" fill=\"#000000\" fill-rule=\"evenodd\" fill-opacity=\"1\" /><path clip-path=\"url(#clip3100)\" d=\"M 0 0 M3470.44 2297.48 Q3466.83 2297.48 3465 2301.04 Q3463.19 2304.59 3463.19 2311.72 Q3463.19 2318.82 3465 2322.39 Q3466.83 2325.93 3470.44 2325.93 Q3474.07 2325.93 3475.88 2322.39 Q3477.71 2318.82 3477.71 2311.72 Q3477.71 2304.59 3475.88 2301.04 Q3474.07 2297.48 3470.44 2297.48 M3470.44 2293.78 Q3476.25 2293.78 3479.3 2298.38 Q3482.38 2302.97 3482.38 2311.72 Q3482.38 2320.44 3479.3 2325.05 Q3476.25 2329.63 3470.44 2329.63 Q3464.63 2329.63 3461.55 2325.05 Q3458.49 2320.44 3458.49 2311.72 Q3458.49 2302.97 3461.55 2298.38 Q3464.63 2293.78 3470.44 2293.78 Z\" fill=\"#000000\" fill-rule=\"evenodd\" fill-opacity=\"1\" /><path clip-path=\"url(#clip3100)\" d=\"M 0 0 M3488.26 2325.03 L3495.9 2325.03 L3495.9 2298.66 L3487.59 2300.33 L3487.59 2296.07 L3495.85 2294.4 L3500.53 2294.4 L3500.53 2325.03 L3508.17 2325.03 L3508.17 2328.96 L3488.26 2328.96 L3488.26 2325.03 Z\" fill=\"#000000\" fill-rule=\"evenodd\" fill-opacity=\"1\" /><path clip-path=\"url(#clip3100)\" d=\"M 0 0 M3526.09 2298.47 L3514.28 2316.92 L3526.09 2316.92 L3526.09 2298.47 M3524.86 2294.4 L3530.74 2294.4 L3530.74 2316.92 L3535.67 2316.92 L3535.67 2320.81 L3530.74 2320.81 L3530.74 2328.96 L3526.09 2328.96 L3526.09 2320.81 L3510.48 2320.81 L3510.48 2316.3 L3524.86 2294.4 Z\" fill=\"#000000\" fill-rule=\"evenodd\" fill-opacity=\"1\" /><path clip-path=\"url(#clip3100)\" d=\"M 0 0 M3537.98 2314.08 L3550.46 2314.08 L3550.46 2317.87 L3537.98 2317.87 L3537.98 2314.08 Z\" fill=\"#000000\" fill-rule=\"evenodd\" fill-opacity=\"1\" /><path clip-path=\"url(#clip3100)\" d=\"M 0 0 M3565.53 2297.48 Q3561.92 2297.48 3560.09 2301.04 Q3558.28 2304.59 3558.28 2311.72 Q3558.28 2318.82 3560.09 2322.39 Q3561.92 2325.93 3565.53 2325.93 Q3569.16 2325.93 3570.97 2322.39 Q3572.8 2318.82 3572.8 2311.72 Q3572.8 2304.59 3570.97 2301.04 Q3569.16 2297.48 3565.53 2297.48 M3565.53 2293.78 Q3571.34 2293.78 3574.4 2298.38 Q3577.47 2302.97 3577.47 2311.72 Q3577.47 2320.44 3574.4 2325.05 Q3571.34 2329.63 3565.53 2329.63 Q3559.72 2329.63 3556.64 2325.05 Q3553.59 2320.44 3553.59 2311.72 Q3553.59 2302.97 3556.64 2298.38 Q3559.72 2293.78 3565.53 2293.78 Z\" fill=\"#000000\" fill-rule=\"evenodd\" fill-opacity=\"1\" /><path clip-path=\"url(#clip3100)\" d=\"M 0 0 M3583.35 2325.03 L3590.99 2325.03 L3590.99 2298.66 L3582.68 2300.33 L3582.68 2296.07 L3590.95 2294.4 L3595.62 2294.4 L3595.62 2325.03 L3603.26 2325.03 L3603.26 2328.96 L3583.35 2328.96 L3583.35 2325.03 Z\" fill=\"#000000\" fill-rule=\"evenodd\" fill-opacity=\"1\" /><path clip-path=\"url(#clip3100)\" d=\"M 0 0 M3605.58 2314.08 L3618.05 2314.08 L3618.05 2317.87 L3605.58 2317.87 L3605.58 2314.08 Z\" fill=\"#000000\" fill-rule=\"evenodd\" fill-opacity=\"1\" /><path clip-path=\"url(#clip3100)\" d=\"M 0 0 M3633.12 2297.48 Q3629.51 2297.48 3627.68 2301.04 Q3625.88 2304.59 3625.88 2311.72 Q3625.88 2318.82 3627.68 2322.39 Q3629.51 2325.93 3633.12 2325.93 Q3636.76 2325.93 3638.56 2322.39 Q3640.39 2318.82 3640.39 2311.72 Q3640.39 2304.59 3638.56 2301.04 Q3636.76 2297.48 3633.12 2297.48 M3633.12 2293.78 Q3638.93 2293.78 3641.99 2298.38 Q3645.07 2302.97 3645.07 2311.72 Q3645.07 2320.44 3641.99 2325.05 Q3638.93 2329.63 3633.12 2329.63 Q3627.31 2329.63 3624.23 2325.05 Q3621.18 2320.44 3621.18 2311.72 Q3621.18 2302.97 3624.23 2298.38 Q3627.31 2293.78 3633.12 2293.78 Z\" fill=\"#000000\" fill-rule=\"evenodd\" fill-opacity=\"1\" /><path clip-path=\"url(#clip3100)\" d=\"M 0 0 M3650.95 2325.03 L3658.59 2325.03 L3658.59 2298.66 L3650.28 2300.33 L3650.28 2296.07 L3658.54 2294.4 L3663.21 2294.4 L3663.21 2325.03 L3670.85 2325.03 L3670.85 2328.96 L3650.95 2328.96 L3650.95 2325.03 Z\" fill=\"#000000\" fill-rule=\"evenodd\" fill-opacity=\"1\" /><path clip-path=\"url(#clip3100)\" d=\"M 0 0 M5299.64 2325.03 L5315.96 2325.03 L5315.96 2328.96 L5294.01 2328.96 L5294.01 2325.03 Q5296.67 2322.27 5301.26 2317.64 Q5305.86 2312.99 5307.05 2311.65 Q5309.29 2309.12 5310.17 2307.39 Q5311.07 2305.63 5311.07 2303.94 Q5311.07 2301.18 5309.13 2299.45 Q5307.21 2297.71 5304.11 2297.71 Q5301.91 2297.71 5299.45 2298.47 Q5297.02 2299.24 5294.24 2300.79 L5294.24 2296.07 Q5297.07 2294.93 5299.52 2294.35 Q5301.98 2293.78 5304.01 2293.78 Q5309.38 2293.78 5312.58 2296.46 Q5315.77 2299.15 5315.77 2303.64 Q5315.77 2305.77 5314.96 2307.69 Q5314.17 2309.59 5312.07 2312.18 Q5311.49 2312.85 5308.39 2316.07 Q5305.29 2319.26 5299.64 2325.03 Z\" fill=\"#000000\" fill-rule=\"evenodd\" fill-opacity=\"1\" /><path clip-path=\"url(#clip3100)\" d=\"M 0 0 M5331.03 2297.48 Q5327.42 2297.48 5325.59 2301.04 Q5323.78 2304.59 5323.78 2311.72 Q5323.78 2318.82 5325.59 2322.39 Q5327.42 2325.93 5331.03 2325.93 Q5334.66 2325.93 5336.47 2322.39 Q5338.3 2318.82 5338.3 2311.72 Q5338.3 2304.59 5336.47 2301.04 Q5334.66 2297.48 5331.03 2297.48 M5331.03 2293.78 Q5336.84 2293.78 5339.89 2298.38 Q5342.97 2302.97 5342.97 2311.72 Q5342.97 2320.44 5339.89 2325.05 Q5336.84 2329.63 5331.03 2329.63 Q5325.22 2329.63 5322.14 2325.05 Q5319.08 2320.44 5319.08 2311.72 Q5319.08 2302.97 5322.14 2298.38 Q5325.22 2293.78 5331.03 2293.78 Z\" fill=\"#000000\" fill-rule=\"evenodd\" fill-opacity=\"1\" /><path clip-path=\"url(#clip3100)\" d=\"M 0 0 M5348.85 2325.03 L5356.49 2325.03 L5356.49 2298.66 L5348.18 2300.33 L5348.18 2296.07 L5356.44 2294.4 L5361.12 2294.4 L5361.12 2325.03 L5368.76 2325.03 L5368.76 2328.96 L5348.85 2328.96 L5348.85 2325.03 Z\" fill=\"#000000\" fill-rule=\"evenodd\" fill-opacity=\"1\" /><path clip-path=\"url(#clip3100)\" d=\"M 0 0 M5373.87 2294.4 L5392.23 2294.4 L5392.23 2298.34 L5378.16 2298.34 L5378.16 2306.81 Q5379.17 2306.46 5380.19 2306.3 Q5381.21 2306.11 5382.23 2306.11 Q5388.02 2306.11 5391.4 2309.29 Q5394.78 2312.46 5394.78 2317.87 Q5394.78 2323.45 5391.3 2326.55 Q5387.83 2329.63 5381.51 2329.63 Q5379.34 2329.63 5377.07 2329.26 Q5374.82 2328.89 5372.42 2328.15 L5372.42 2323.45 Q5374.5 2324.59 5376.72 2325.14 Q5378.94 2325.7 5381.42 2325.7 Q5385.42 2325.7 5387.76 2323.59 Q5390.1 2321.48 5390.1 2317.87 Q5390.1 2314.26 5387.76 2312.16 Q5385.42 2310.05 5381.42 2310.05 Q5379.54 2310.05 5377.67 2310.47 Q5375.82 2310.88 5373.87 2311.76 L5373.87 2294.4 Z\" fill=\"#000000\" fill-rule=\"evenodd\" fill-opacity=\"1\" /><path clip-path=\"url(#clip3100)\" d=\"M 0 0 M5397.09 2314.08 L5409.57 2314.08 L5409.57 2317.87 L5397.09 2317.87 L5397.09 2314.08 Z\" fill=\"#000000\" fill-rule=\"evenodd\" fill-opacity=\"1\" /><path clip-path=\"url(#clip3100)\" d=\"M 0 0 M5424.64 2297.48 Q5421.03 2297.48 5419.2 2301.04 Q5417.39 2304.59 5417.39 2311.72 Q5417.39 2318.82 5419.2 2322.39 Q5421.03 2325.93 5424.64 2325.93 Q5428.27 2325.93 5430.08 2322.39 Q5431.91 2318.82 5431.91 2311.72 Q5431.91 2304.59 5430.08 2301.04 Q5428.27 2297.48 5424.64 2297.48 M5424.64 2293.78 Q5430.45 2293.78 5433.5 2298.38 Q5436.58 2302.97 5436.58 2311.72 Q5436.58 2320.44 5433.5 2325.05 Q5430.45 2329.63 5424.64 2329.63 Q5418.83 2329.63 5415.75 2325.05 Q5412.69 2320.44 5412.69 2311.72 Q5412.69 2302.97 5415.75 2298.38 Q5418.83 2293.78 5424.64 2293.78 Z\" fill=\"#000000\" fill-rule=\"evenodd\" fill-opacity=\"1\" /><path clip-path=\"url(#clip3100)\" d=\"M 0 0 M5442.46 2325.03 L5450.1 2325.03 L5450.1 2298.66 L5441.79 2300.33 L5441.79 2296.07 L5450.05 2294.4 L5454.73 2294.4 L5454.73 2325.03 L5462.37 2325.03 L5462.37 2328.96 L5442.46 2328.96 L5442.46 2325.03 Z\" fill=\"#000000\" fill-rule=\"evenodd\" fill-opacity=\"1\" /><path clip-path=\"url(#clip3100)\" d=\"M 0 0 M5464.68 2314.08 L5477.16 2314.08 L5477.16 2317.87 L5464.68 2317.87 L5464.68 2314.08 Z\" fill=\"#000000\" fill-rule=\"evenodd\" fill-opacity=\"1\" /><path clip-path=\"url(#clip3100)\" d=\"M 0 0 M5492.23 2297.48 Q5488.62 2297.48 5486.79 2301.04 Q5484.98 2304.59 5484.98 2311.72 Q5484.98 2318.82 5486.79 2322.39 Q5488.62 2325.93 5492.23 2325.93 Q5495.86 2325.93 5497.67 2322.39 Q5499.5 2318.82 5499.5 2311.72 Q5499.5 2304.59 5497.67 2301.04 Q5495.86 2297.48 5492.23 2297.48 M5492.23 2293.78 Q5498.04 2293.78 5501.1 2298.38 Q5504.17 2302.97 5504.17 2311.72 Q5504.17 2320.44 5501.1 2325.05 Q5498.04 2329.63 5492.23 2329.63 Q5486.42 2329.63 5483.34 2325.05 Q5480.29 2320.44 5480.29 2311.72 Q5480.29 2302.97 5483.34 2298.38 Q5486.42 2293.78 5492.23 2293.78 Z\" fill=\"#000000\" fill-rule=\"evenodd\" fill-opacity=\"1\" /><path clip-path=\"url(#clip3100)\" d=\"M 0 0 M5510.05 2325.03 L5517.69 2325.03 L5517.69 2298.66 L5509.38 2300.33 L5509.38 2296.07 L5517.65 2294.4 L5522.32 2294.4 L5522.32 2325.03 L5529.96 2325.03 L5529.96 2328.96 L5510.05 2328.96 L5510.05 2325.03 Z\" fill=\"#000000\" fill-rule=\"evenodd\" fill-opacity=\"1\" /><path clip-path=\"url(#clip3100)\" d=\"M 0 0 M118.716 2035.04 Q122.072 2035.76 123.947 2038.02 Q125.845 2040.29 125.845 2043.63 Q125.845 2048.74 122.327 2051.54 Q118.808 2054.34 112.327 2054.34 Q110.151 2054.34 107.836 2053.9 Q105.544 2053.49 103.091 2052.63 L103.091 2048.12 Q105.035 2049.25 107.35 2049.83 Q109.665 2050.41 112.188 2050.41 Q116.586 2050.41 118.878 2048.67 Q121.192 2046.94 121.192 2043.63 Q121.192 2040.57 119.04 2038.86 Q116.91 2037.12 113.091 2037.12 L109.063 2037.12 L109.063 2033.28 L113.276 2033.28 Q116.725 2033.28 118.554 2031.91 Q120.382 2030.52 120.382 2027.93 Q120.382 2025.27 118.484 2023.86 Q116.609 2022.42 113.091 2022.42 Q111.169 2022.42 108.97 2022.84 Q106.771 2023.26 104.132 2024.13 L104.132 2019.97 Q106.794 2019.23 109.109 2018.86 Q111.447 2018.49 113.507 2018.49 Q118.831 2018.49 121.933 2020.92 Q125.035 2023.32 125.035 2027.44 Q125.035 2030.32 123.392 2032.31 Q121.748 2034.27 118.716 2035.04 Z\" fill=\"#000000\" fill-rule=\"evenodd\" fill-opacity=\"1\" /><path clip-path=\"url(#clip3100)\" d=\"M 0 0 M140.915 2022.19 Q137.303 2022.19 135.475 2025.76 Q133.669 2029.3 133.669 2036.43 Q133.669 2043.53 135.475 2047.1 Q137.303 2050.64 140.915 2050.64 Q144.549 2050.64 146.354 2047.1 Q148.183 2043.53 148.183 2036.43 Q148.183 2029.3 146.354 2025.76 Q144.549 2022.19 140.915 2022.19 M140.915 2018.49 Q146.725 2018.49 149.78 2023.09 Q152.859 2027.68 152.859 2036.43 Q152.859 2045.15 149.78 2049.76 Q146.725 2054.34 140.915 2054.34 Q135.104 2054.34 132.026 2049.76 Q128.97 2045.15 128.97 2036.43 Q128.97 2027.68 132.026 2023.09 Q135.104 2018.49 140.915 2018.49 Z\" fill=\"#000000\" fill-rule=\"evenodd\" fill-opacity=\"1\" /><path clip-path=\"url(#clip3100)\" d=\"M 0 0 M116.262 1402.93 L104.456 1421.38 L116.262 1421.38 L116.262 1402.93 M115.035 1398.86 L120.915 1398.86 L120.915 1421.38 L125.845 1421.38 L125.845 1425.27 L120.915 1425.27 L120.915 1433.42 L116.262 1433.42 L116.262 1425.27 L100.66 1425.27 L100.66 1420.75 L115.035 1398.86 Z\" fill=\"#000000\" fill-rule=\"evenodd\" fill-opacity=\"1\" /><path clip-path=\"url(#clip3100)\" d=\"M 0 0 M140.915 1401.93 Q137.303 1401.93 135.475 1405.5 Q133.669 1409.04 133.669 1416.17 Q133.669 1423.28 135.475 1426.84 Q137.303 1430.38 140.915 1430.38 Q144.549 1430.38 146.354 1426.84 Q148.183 1423.28 148.183 1416.17 Q148.183 1409.04 146.354 1405.5 Q144.549 1401.93 140.915 1401.93 M140.915 1398.23 Q146.725 1398.23 149.78 1402.84 Q152.859 1407.42 152.859 1416.17 Q152.859 1424.9 149.78 1429.5 Q146.725 1434.09 140.915 1434.09 Q135.104 1434.09 132.026 1429.5 Q128.97 1424.9 128.97 1416.17 Q128.97 1407.42 132.026 1402.84 Q135.104 1398.23 140.915 1398.23 Z\" fill=\"#000000\" fill-rule=\"evenodd\" fill-opacity=\"1\" /><path clip-path=\"url(#clip3100)\" d=\"M 0 0 M104.943 778.599 L123.299 778.599 L123.299 782.534 L109.225 782.534 L109.225 791.006 Q110.243 790.659 111.262 790.497 Q112.28 790.312 113.299 790.312 Q119.086 790.312 122.466 793.483 Q125.845 796.654 125.845 802.071 Q125.845 807.649 122.373 810.751 Q118.901 813.83 112.581 813.83 Q110.405 813.83 108.137 813.46 Q105.892 813.089 103.484 812.348 L103.484 807.649 Q105.568 808.784 107.79 809.339 Q110.012 809.895 112.489 809.895 Q116.493 809.895 118.831 807.788 Q121.169 805.682 121.169 802.071 Q121.169 798.46 118.831 796.353 Q116.493 794.247 112.489 794.247 Q110.614 794.247 108.739 794.663 Q106.887 795.08 104.943 795.96 L104.943 778.599 Z\" fill=\"#000000\" fill-rule=\"evenodd\" fill-opacity=\"1\" /><path clip-path=\"url(#clip3100)\" d=\"M 0 0 M140.915 781.677 Q137.303 781.677 135.475 785.242 Q133.669 788.784 133.669 795.913 Q133.669 803.02 135.475 806.585 Q137.303 810.126 140.915 810.126 Q144.549 810.126 146.354 806.585 Q148.183 803.02 148.183 795.913 Q148.183 788.784 146.354 785.242 Q144.549 781.677 140.915 781.677 M140.915 777.974 Q146.725 777.974 149.78 782.58 Q152.859 787.163 152.859 795.913 Q152.859 804.64 149.78 809.247 Q146.725 813.83 140.915 813.83 Q135.104 813.83 132.026 809.247 Q128.97 804.64 128.97 795.913 Q128.97 787.163 132.026 782.58 Q135.104 777.974 140.915 777.974 Z\" fill=\"#000000\" fill-rule=\"evenodd\" fill-opacity=\"1\" /><path clip-path=\"url(#clip3100)\" d=\"M 0 0 M114.317 173.759 Q111.169 173.759 109.318 175.911 Q107.489 178.064 107.489 181.814 Q107.489 185.541 109.318 187.717 Q111.169 189.87 114.317 189.87 Q117.466 189.87 119.294 187.717 Q121.146 185.541 121.146 181.814 Q121.146 178.064 119.294 175.911 Q117.466 173.759 114.317 173.759 M123.6 159.106 L123.6 163.365 Q121.841 162.532 120.035 162.092 Q118.253 161.652 116.493 161.652 Q111.864 161.652 109.41 164.777 Q106.98 167.902 106.632 174.222 Q107.998 172.208 110.058 171.143 Q112.118 170.055 114.595 170.055 Q119.804 170.055 122.813 173.226 Q125.845 176.374 125.845 181.814 Q125.845 187.138 122.697 190.356 Q119.549 193.573 114.317 193.573 Q108.322 193.573 105.151 188.99 Q101.98 184.384 101.98 175.657 Q101.98 167.462 105.868 162.601 Q109.757 157.717 116.308 157.717 Q118.067 157.717 119.85 158.064 Q121.655 158.412 123.6 159.106 Z\" fill=\"#000000\" fill-rule=\"evenodd\" fill-opacity=\"1\" /><path clip-path=\"url(#clip3100)\" d=\"M 0 0 M140.915 161.421 Q137.303 161.421 135.475 164.986 Q133.669 168.527 133.669 175.657 Q133.669 182.763 135.475 186.328 Q137.303 189.87 140.915 189.87 Q144.549 189.87 146.354 186.328 Q148.183 182.763 148.183 175.657 Q148.183 168.527 146.354 164.986 Q144.549 161.421 140.915 161.421 M140.915 157.717 Q146.725 157.717 149.78 162.324 Q152.859 166.907 152.859 175.657 Q152.859 184.384 149.78 188.99 Q146.725 193.573 140.915 193.573 Q135.104 193.573 132.026 188.99 Q128.97 184.384 128.97 175.657 Q128.97 166.907 132.026 162.324 Q135.104 157.717 140.915 157.717 Z\" fill=\"#000000\" fill-rule=\"evenodd\" fill-opacity=\"1\" /><path clip-path=\"url(#clip3100)\" d=\"M 0 0 M3250.99 12.096 L3259.18 12.096 L3259.18 72.576 L3250.99 72.576 L3250.99 12.096 Z\" fill=\"#000000\" fill-rule=\"evenodd\" fill-opacity=\"1\" /><path clip-path=\"url(#clip3100)\" d=\"M 0 0 M3303.58 14.0809 L3303.58 22.0612 Q3298.92 19.8332 3294.79 18.7395 Q3290.65 17.6457 3286.8 17.6457 Q3280.12 17.6457 3276.48 20.2383 Q3272.87 22.8309 3272.87 27.611 Q3272.87 31.6214 3275.26 33.6873 Q3277.69 35.7128 3284.41 36.9686 L3289.36 37.9813 Q3298.51 39.7232 3302.85 44.1387 Q3307.22 48.5136 3307.22 55.8863 Q3307.22 64.6767 3301.31 69.2137 Q3295.43 73.7508 3284.05 73.7508 Q3279.76 73.7508 3274.9 72.7785 Q3270.07 71.8063 3264.89 69.9024 L3264.89 61.4765 Q3269.87 64.2716 3274.65 65.6895 Q3279.43 67.1073 3284.05 67.1073 Q3291.06 67.1073 3294.87 64.3527 Q3298.67 61.598 3298.67 56.4939 Q3298.67 52.0379 3295.92 49.5264 Q3293.21 47.0148 3286.97 45.759 L3281.98 44.7868 Q3272.83 42.9639 3268.74 39.075 Q3264.65 35.1862 3264.65 28.2591 Q3264.65 20.2383 3270.28 15.6203 Q3275.95 11.0023 3285.87 11.0023 Q3290.13 11.0023 3294.54 11.7719 Q3298.96 12.5416 3303.58 14.0809 Z\" fill=\"#000000\" fill-rule=\"evenodd\" fill-opacity=\"1\" /><path clip-path=\"url(#clip3100)\" d=\"M 0 0 M3315.36 12.096 L3327.56 12.096 L3342.99 53.2532 L3358.51 12.096 L3370.7 12.096 L3370.7 72.576 L3362.72 72.576 L3362.72 19.4686 L3347.12 60.9499 L3338.9 60.9499 L3323.3 19.4686 L3323.3 72.576 L3315.36 72.576 L3315.36 12.096 Z\" fill=\"#000000\" fill-rule=\"evenodd\" fill-opacity=\"1\" /><path clip-path=\"url(#clip3100)\" d=\"M 0 0 M3405.21 12.096 L3417.41 12.096 L3432.84 53.2532 L3448.36 12.096 L3460.55 12.096 L3460.55 72.576 L3452.57 72.576 L3452.57 19.4686 L3436.97 60.9499 L3428.75 60.9499 L3413.15 19.4686 L3413.15 72.576 L3405.21 72.576 L3405.21 12.096 Z\" fill=\"#000000\" fill-rule=\"evenodd\" fill-opacity=\"1\" /><path clip-path=\"url(#clip3100)\" d=\"M 0 0 M3488.99 49.7694 Q3479.95 49.7694 3476.47 51.8354 Q3472.98 53.9013 3472.98 58.8839 Q3472.98 62.8538 3475.58 65.2034 Q3478.21 67.5124 3482.71 67.5124 Q3488.9 67.5124 3492.63 63.1374 Q3496.4 58.7219 3496.4 51.4303 L3496.4 49.7694 L3488.99 49.7694 M3503.85 46.6907 L3503.85 72.576 L3496.4 72.576 L3496.4 65.6895 Q3493.85 69.8214 3490.04 71.8063 Q3486.23 73.7508 3480.72 73.7508 Q3473.75 73.7508 3469.62 69.8619 Q3465.53 65.9325 3465.53 59.3701 Q3465.53 51.7138 3470.64 47.825 Q3475.78 43.9361 3485.95 43.9361 L3496.4 43.9361 L3496.4 43.2069 Q3496.4 38.0623 3493 35.2672 Q3489.63 32.4315 3483.52 32.4315 Q3479.63 32.4315 3475.94 33.3632 Q3472.26 34.295 3468.85 36.1584 L3468.85 29.2718 Q3472.94 27.692 3476.79 26.9223 Q3480.64 26.1121 3484.29 26.1121 Q3494.13 26.1121 3498.99 31.2163 Q3503.85 36.3204 3503.85 46.6907 Z\" fill=\"#000000\" fill-rule=\"evenodd\" fill-opacity=\"1\" /><path clip-path=\"url(#clip3100)\" d=\"M 0 0 M3549.38 45.1919 L3549.38 72.576 L3541.93 72.576 L3541.93 45.4349 Q3541.93 38.994 3539.42 35.7938 Q3536.91 32.5936 3531.88 32.5936 Q3525.85 32.5936 3522.37 36.4419 Q3518.88 40.2903 3518.88 46.9338 L3518.88 72.576 L3511.39 72.576 L3511.39 27.2059 L3518.88 27.2059 L3518.88 34.2544 Q3521.55 30.163 3525.16 28.1376 Q3528.81 26.1121 3533.55 26.1121 Q3541.36 26.1121 3545.37 30.9732 Q3549.38 35.7938 3549.38 45.1919 Z\" fill=\"#000000\" fill-rule=\"evenodd\" fill-opacity=\"1\" /><path clip-path=\"url(#clip3100)\" d=\"M 0 0 M3556.43 54.671 L3556.43 27.2059 L3563.89 27.2059 L3563.89 54.3874 Q3563.89 60.8284 3566.4 64.0691 Q3568.91 67.2693 3573.93 67.2693 Q3579.97 67.2693 3583.45 63.421 Q3586.98 59.5726 3586.98 52.9291 L3586.98 27.2059 L3594.43 27.2059 L3594.43 72.576 L3586.98 72.576 L3586.98 65.6084 Q3584.26 69.7404 3580.66 71.7658 Q3577.09 73.7508 3572.35 73.7508 Q3564.53 73.7508 3560.48 68.8897 Q3556.43 64.0286 3556.43 54.671 M3575.19 26.1121 L3575.19 26.1121 Z\" fill=\"#000000\" fill-rule=\"evenodd\" fill-opacity=\"1\" /><path clip-path=\"url(#clip3100)\" d=\"M 0 0 M3625.22 9.54393 L3625.22 15.7418 L3618.09 15.7418 Q3614.08 15.7418 3612.5 17.3622 Q3610.96 18.9825 3610.96 23.1955 L3610.96 27.2059 L3623.23 27.2059 L3623.23 32.9987 L3610.96 32.9987 L3610.96 72.576 L3603.46 72.576 L3603.46 32.9987 L3596.33 32.9987 L3596.33 27.2059 L3603.46 27.2059 L3603.46 24.0462 Q3603.46 16.471 3606.99 13.0277 Q3610.51 9.54393 3618.17 9.54393 L3625.22 9.54393 Z\" fill=\"#000000\" fill-rule=\"evenodd\" fill-opacity=\"1\" /><path clip-path=\"url(#clip3100)\" d=\"M 0 0 M3653.65 49.7694 Q3644.62 49.7694 3641.14 51.8354 Q3637.65 53.9013 3637.65 58.8839 Q3637.65 62.8538 3640.25 65.2034 Q3642.88 67.5124 3647.38 67.5124 Q3653.57 67.5124 3657.3 63.1374 Q3661.07 58.7219 3661.07 51.4303 L3661.07 49.7694 L3653.65 49.7694 M3668.52 46.6907 L3668.52 72.576 L3661.07 72.576 L3661.07 65.6895 Q3658.52 69.8214 3654.71 71.8063 Q3650.9 73.7508 3645.39 73.7508 Q3638.42 73.7508 3634.29 69.8619 Q3630.2 65.9325 3630.2 59.3701 Q3630.2 51.7138 3635.3 47.825 Q3640.45 43.9361 3650.62 43.9361 L3661.07 43.9361 L3661.07 43.2069 Q3661.07 38.0623 3657.67 35.2672 Q3654.3 32.4315 3648.19 32.4315 Q3644.3 32.4315 3640.61 33.3632 Q3636.92 34.295 3633.52 36.1584 L3633.52 29.2718 Q3637.61 27.692 3641.46 26.9223 Q3645.31 26.1121 3648.96 26.1121 Q3658.8 26.1121 3663.66 31.2163 Q3668.52 36.3204 3668.52 46.6907 Z\" fill=\"#000000\" fill-rule=\"evenodd\" fill-opacity=\"1\" /><path clip-path=\"url(#clip3100)\" d=\"M 0 0 M3708.99 28.9478 L3708.99 35.9153 Q3705.83 34.1734 3702.63 33.3227 Q3699.47 32.4315 3696.23 32.4315 Q3688.98 32.4315 3684.97 37.0496 Q3680.96 41.6271 3680.96 49.9314 Q3680.96 58.2358 3684.97 62.8538 Q3688.98 67.4314 3696.23 67.4314 Q3699.47 67.4314 3702.63 66.5807 Q3705.83 65.6895 3708.99 63.9476 L3708.99 70.8341 Q3705.87 72.2924 3702.51 73.0216 Q3699.19 73.7508 3695.42 73.7508 Q3685.17 73.7508 3679.14 67.3098 Q3673.1 60.8689 3673.1 49.9314 Q3673.1 38.832 3679.18 32.472 Q3685.29 26.1121 3695.91 26.1121 Q3699.35 26.1121 3702.63 26.8413 Q3705.91 27.5299 3708.99 28.9478 Z\" fill=\"#000000\" fill-rule=\"evenodd\" fill-opacity=\"1\" /><path clip-path=\"url(#clip3100)\" d=\"M 0 0 M3724.18 14.324 L3724.18 27.2059 L3739.53 27.2059 L3739.53 32.9987 L3724.18 32.9987 L3724.18 57.6282 Q3724.18 63.1779 3725.68 64.7578 Q3727.22 66.3376 3731.88 66.3376 L3739.53 66.3376 L3739.53 72.576 L3731.88 72.576 Q3723.25 72.576 3719.97 69.3758 Q3716.69 66.1351 3716.69 57.6282 L3716.69 32.9987 L3711.22 32.9987 L3711.22 27.2059 L3716.69 27.2059 L3716.69 14.324 L3724.18 14.324 Z\" fill=\"#000000\" fill-rule=\"evenodd\" fill-opacity=\"1\" /><path clip-path=\"url(#clip3100)\" d=\"M 0 0 M3746.58 54.671 L3746.58 27.2059 L3754.04 27.2059 L3754.04 54.3874 Q3754.04 60.8284 3756.55 64.0691 Q3759.06 67.2693 3764.08 67.2693 Q3770.12 67.2693 3773.6 63.421 Q3777.13 59.5726 3777.13 52.9291 L3777.13 27.2059 L3784.58 27.2059 L3784.58 72.576 L3777.13 72.576 L3777.13 65.6084 Q3774.41 69.7404 3770.81 71.7658 Q3767.24 73.7508 3762.5 73.7508 Q3754.68 73.7508 3750.63 68.8897 Q3746.58 64.0286 3746.58 54.671 M3765.34 26.1121 L3765.34 26.1121 Z\" fill=\"#000000\" fill-rule=\"evenodd\" fill-opacity=\"1\" /><path clip-path=\"url(#clip3100)\" d=\"M 0 0 M3818.69 34.1734 Q3817.43 33.4443 3815.93 33.1202 Q3814.48 32.7556 3812.69 32.7556 Q3806.37 32.7556 3802.97 36.8875 Q3799.61 40.9789 3799.61 48.6757 L3799.61 72.576 L3792.11 72.576 L3792.11 27.2059 L3799.61 27.2059 L3799.61 34.2544 Q3801.96 30.1225 3805.73 28.1376 Q3809.49 26.1121 3814.88 26.1121 Q3815.65 26.1121 3816.58 26.2337 Q3817.51 26.3147 3818.65 26.5172 L3818.69 34.1734 Z\" fill=\"#000000\" fill-rule=\"evenodd\" fill-opacity=\"1\" /><path clip-path=\"url(#clip3100)\" d=\"M 0 0 M3826.51 27.2059 L3833.96 27.2059 L3833.96 72.576 L3826.51 72.576 L3826.51 27.2059 M3826.51 9.54393 L3833.96 9.54393 L3833.96 18.9825 L3826.51 18.9825 L3826.51 9.54393 Z\" fill=\"#000000\" fill-rule=\"evenodd\" fill-opacity=\"1\" /><path clip-path=\"url(#clip3100)\" d=\"M 0 0 M3879.49 45.1919 L3879.49 72.576 L3872.04 72.576 L3872.04 45.4349 Q3872.04 38.994 3869.53 35.7938 Q3867.02 32.5936 3861.99 32.5936 Q3855.96 32.5936 3852.47 36.4419 Q3848.99 40.2903 3848.99 46.9338 L3848.99 72.576 L3841.5 72.576 L3841.5 27.2059 L3848.99 27.2059 L3848.99 34.2544 Q3851.66 30.163 3855.27 28.1376 Q3858.91 26.1121 3863.65 26.1121 Q3871.47 26.1121 3875.48 30.9732 Q3879.49 35.7938 3879.49 45.1919 Z\" fill=\"#000000\" fill-rule=\"evenodd\" fill-opacity=\"1\" /><path clip-path=\"url(#clip3100)\" d=\"M 0 0 M3917.17 49.3643 Q3917.17 41.2625 3913.8 36.8065 Q3910.48 32.3505 3904.45 32.3505 Q3898.45 32.3505 3895.09 36.8065 Q3891.77 41.2625 3891.77 49.3643 Q3891.77 57.4256 3895.09 61.8816 Q3898.45 66.3376 3904.45 66.3376 Q3910.48 66.3376 3913.8 61.8816 Q3917.17 57.4256 3917.17 49.3643 M3924.62 66.9452 Q3924.62 78.5308 3919.48 84.1616 Q3914.33 89.8329 3903.72 89.8329 Q3899.79 89.8329 3896.3 89.2252 Q3892.82 88.6581 3889.54 87.4428 L3889.54 80.1917 Q3892.82 81.9741 3896.02 82.8248 Q3899.22 83.6755 3902.54 83.6755 Q3909.87 83.6755 3913.52 79.8271 Q3917.17 76.0193 3917.17 68.282 L3917.17 64.5957 Q3914.86 68.6061 3911.25 70.5911 Q3907.65 72.576 3902.62 72.576 Q3894.28 72.576 3889.17 66.2161 Q3884.07 59.8562 3884.07 49.3643 Q3884.07 38.832 3889.17 32.472 Q3894.28 26.1121 3902.62 26.1121 Q3907.65 26.1121 3911.25 28.0971 Q3914.86 30.082 3917.17 34.0924 L3917.17 27.2059 L3924.62 27.2059 L3924.62 66.9452 Z\" fill=\"#000000\" fill-rule=\"evenodd\" fill-opacity=\"1\" /><path clip-path=\"url(#clip3100)\" d=\"M 0 0 M3533.57 2385.58 L3533.57 2395.7 L3545.63 2395.7 L3545.63 2400.26 L3533.57 2400.26 L3533.57 2419.61 Q3533.57 2423.97 3534.75 2425.21 Q3535.96 2426.45 3539.62 2426.45 L3545.63 2426.45 L3545.63 2431.35 L3539.62 2431.35 Q3532.84 2431.35 3530.26 2428.84 Q3527.68 2426.29 3527.68 2419.61 L3527.68 2400.26 L3523.39 2400.26 L3523.39 2395.7 L3527.68 2395.7 L3527.68 2385.58 L3533.57 2385.58 Z\" fill=\"#000000\" fill-rule=\"evenodd\" fill-opacity=\"1\" /><path clip-path=\"url(#clip3100)\" d=\"M 0 0 M3551.78 2395.7 L3557.63 2395.7 L3557.63 2431.35 L3551.78 2431.35 L3551.78 2395.7 M3551.78 2381.83 L3557.63 2381.83 L3557.63 2389.24 L3551.78 2389.24 L3551.78 2381.83 Z\" fill=\"#000000\" fill-rule=\"evenodd\" fill-opacity=\"1\" /><path clip-path=\"url(#clip3100)\" d=\"M 0 0 M3591.53 2402.55 Q3593.73 2398.6 3596.78 2396.72 Q3599.84 2394.85 3603.98 2394.85 Q3609.55 2394.85 3612.57 2398.76 Q3615.59 2402.64 3615.59 2409.84 L3615.59 2431.35 L3609.71 2431.35 L3609.71 2410.03 Q3609.71 2404.9 3607.89 2402.42 Q3606.08 2399.94 3602.35 2399.94 Q3597.8 2399.94 3595.16 2402.96 Q3592.52 2405.99 3592.52 2411.21 L3592.52 2431.35 L3586.63 2431.35 L3586.63 2410.03 Q3586.63 2404.87 3584.82 2402.42 Q3583 2399.94 3579.21 2399.94 Q3574.73 2399.94 3572.08 2402.99 Q3569.44 2406.02 3569.44 2411.21 L3569.44 2431.35 L3563.55 2431.35 L3563.55 2395.7 L3569.44 2395.7 L3569.44 2401.24 Q3571.45 2397.96 3574.25 2396.41 Q3577.05 2394.85 3580.9 2394.85 Q3584.78 2394.85 3587.49 2396.82 Q3590.23 2398.79 3591.53 2402.55 Z\" fill=\"#000000\" fill-rule=\"evenodd\" fill-opacity=\"1\" /><path clip-path=\"url(#clip3100)\" d=\"M 0 0 M3652.23 2412.06 L3652.23 2414.93 L3625.3 2414.93 Q3625.68 2420.98 3628.93 2424.16 Q3632.21 2427.31 3638.03 2427.31 Q3641.41 2427.31 3644.56 2426.48 Q3647.74 2425.66 3650.86 2424 L3650.86 2429.54 Q3647.71 2430.88 3644.4 2431.58 Q3641.09 2432.28 3637.68 2432.28 Q3629.15 2432.28 3624.16 2427.31 Q3619.19 2422.35 3619.19 2413.88 Q3619.19 2405.13 3623.9 2400 Q3628.64 2394.85 3636.66 2394.85 Q3643.86 2394.85 3648.03 2399.49 Q3652.23 2404.11 3652.23 2412.06 M3646.37 2410.35 Q3646.31 2405.54 3643.67 2402.68 Q3641.06 2399.81 3636.73 2399.81 Q3631.83 2399.81 3628.87 2402.58 Q3625.94 2405.35 3625.49 2410.38 L3646.37 2410.35 Z\" fill=\"#000000\" fill-rule=\"evenodd\" fill-opacity=\"1\" /><path clip-path=\"url(#clip3100)\" d=\"M 0 0 M-19.2438 1310.64 L-19.2438 1304.78 L16.4042 1304.78 L16.4042 1310.64 L-19.2438 1310.64 M-33.121 1310.64 L-33.121 1304.78 L-25.705 1304.78 L-25.705 1310.64 L-33.121 1310.64 Z\" fill=\"#000000\" fill-rule=\"evenodd\" fill-opacity=\"1\" /><path clip-path=\"url(#clip3100)\" d=\"M 0 0 M-5.11193 1269 L16.4042 1269 L16.4042 1274.86 L-4.92096 1274.86 Q-9.9817 1274.86 -12.4962 1276.83 Q-15.0106 1278.81 -15.0106 1282.75 Q-15.0106 1287.5 -11.9869 1290.23 Q-8.96318 1292.97 -3.7433 1292.97 L16.4042 1292.97 L16.4042 1298.86 L-19.2438 1298.86 L-19.2438 1292.97 L-13.7056 1292.97 Q-16.9203 1290.87 -18.5117 1288.04 Q-20.1032 1285.17 -20.1032 1281.45 Q-20.1032 1275.31 -16.2837 1272.16 Q-12.4962 1269 -5.11193 1269 Z\" fill=\"#000000\" fill-rule=\"evenodd\" fill-opacity=\"1\" /><path clip-path=\"url(#clip3100)\" d=\"M 0 0 M-13.8329 1239.4 L-33.121 1239.4 L-33.121 1233.55 L16.4042 1233.55 L16.4042 1239.4 L11.057 1239.4 Q14.2398 1241.25 15.7994 1244.08 Q17.3272 1246.88 17.3272 1250.83 Q17.3272 1257.29 12.171 1261.37 Q7.01474 1265.41 -1.38799 1265.41 Q-9.79073 1265.41 -14.9469 1261.37 Q-20.1032 1257.29 -20.1032 1250.83 Q-20.1032 1246.88 -18.5436 1244.08 Q-17.0158 1241.25 -13.8329 1239.4 M-1.38799 1259.36 Q5.0732 1259.36 8.76531 1256.72 Q12.4256 1254.05 12.4256 1249.4 Q12.4256 1244.75 8.76531 1242.08 Q5.0732 1239.4 -1.38799 1239.4 Q-7.84918 1239.4 -11.5095 1242.08 Q-15.2016 1244.75 -15.2016 1249.4 Q-15.2016 1254.05 -11.5095 1256.72 Q-7.84918 1259.36 -1.38799 1259.36 Z\" fill=\"#000000\" fill-rule=\"evenodd\" fill-opacity=\"1\" /><path clip-path=\"url(#clip3100)\" d=\"M 0 0 M-19.2438 1227.4 L-19.2438 1221.55 L16.4042 1221.55 L16.4042 1227.4 L-19.2438 1227.4 M-33.121 1227.4 L-33.121 1221.55 L-25.705 1221.55 L-25.705 1227.4 L-33.121 1227.4 Z\" fill=\"#000000\" fill-rule=\"evenodd\" fill-opacity=\"1\" /><path clip-path=\"url(#clip3100)\" d=\"M 0 0 M-17.8752 1189.75 L-12.4007 1189.75 Q-13.7693 1192.23 -14.4377 1194.75 Q-15.1379 1197.23 -15.1379 1199.78 Q-15.1379 1205.47 -11.5095 1208.63 Q-7.91284 1211.78 -1.38799 1211.78 Q5.13686 1211.78 8.76531 1208.63 Q12.3619 1205.47 12.3619 1199.78 Q12.3619 1197.23 11.6935 1194.75 Q10.9933 1192.23 9.62468 1189.75 L15.0355 1189.75 Q16.1814 1192.2 16.7543 1194.84 Q17.3272 1197.45 17.3272 1200.41 Q17.3272 1208.47 12.2664 1213.21 Q7.20571 1217.95 -1.38799 1217.95 Q-10.109 1217.95 -15.1061 1213.18 Q-20.1032 1208.37 -20.1032 1200.03 Q-20.1032 1197.33 -19.5303 1194.75 Q-18.9892 1192.17 -17.8752 1189.75 Z\" fill=\"#000000\" fill-rule=\"evenodd\" fill-opacity=\"1\" /><path clip-path=\"url(#clip3100)\" d=\"M 0 0 M-1.51531 1167.41 Q-1.51531 1174.51 0.107949 1177.24 Q1.7312 1179.98 5.64611 1179.98 Q8.76531 1179.98 10.6114 1177.94 Q12.4256 1175.87 12.4256 1172.34 Q12.4256 1167.47 8.98811 1164.54 Q5.5188 1161.58 -0.210337 1161.58 L-1.51531 1161.58 L-1.51531 1167.41 M-3.93428 1155.73 L16.4042 1155.73 L16.4042 1161.58 L10.9933 1161.58 Q14.2398 1163.59 15.7994 1166.58 Q17.3272 1169.57 17.3272 1173.9 Q17.3272 1179.38 14.2716 1182.62 Q11.1843 1185.84 6.02806 1185.84 Q0.0124629 1185.84 -3.04308 1181.83 Q-6.09862 1177.78 -6.09862 1169.79 L-6.09862 1161.58 L-6.67153 1161.58 Q-10.7138 1161.58 -12.9099 1164.26 Q-15.1379 1166.9 -15.1379 1171.7 Q-15.1379 1174.76 -14.4059 1177.66 Q-13.6738 1180.55 -12.2097 1183.23 L-17.6205 1183.23 Q-18.8619 1180.01 -19.4666 1176.99 Q-20.1032 1173.96 -20.1032 1171.1 Q-20.1032 1163.37 -16.0928 1159.55 Q-12.0824 1155.73 -3.93428 1155.73 Z\" fill=\"#000000\" fill-rule=\"evenodd\" fill-opacity=\"1\" /><path clip-path=\"url(#clip3100)\" d=\"M 0 0 M-29.3653 1143.79 L-19.2438 1143.79 L-19.2438 1131.73 L-14.6923 1131.73 L-14.6923 1143.79 L4.65943 1143.79 Q9.01994 1143.79 10.2613 1142.61 Q11.5026 1141.4 11.5026 1137.74 L11.5026 1131.73 L16.4042 1131.73 L16.4042 1137.74 Q16.4042 1144.52 13.8897 1147.1 Q11.3434 1149.68 4.65943 1149.68 L-14.6923 1149.68 L-14.6923 1153.98 L-19.2438 1153.98 L-19.2438 1149.68 L-29.3653 1149.68 L-29.3653 1143.79 Z\" fill=\"#000000\" fill-rule=\"evenodd\" fill-opacity=\"1\" /><path clip-path=\"url(#clip3100)\" d=\"M 0 0 M-15.1379 1111.77 Q-15.1379 1116.48 -11.4458 1119.22 Q-7.78553 1121.96 -1.38799 1121.96 Q5.00954 1121.96 8.70165 1119.25 Q12.3619 1116.51 12.3619 1111.77 Q12.3619 1107.09 8.66982 1104.36 Q4.97771 1101.62 -1.38799 1101.62 Q-7.72187 1101.62 -11.414 1104.36 Q-15.1379 1107.09 -15.1379 1111.77 M-20.1032 1111.77 Q-20.1032 1104.13 -15.1379 1099.77 Q-10.1727 1095.41 -1.38799 1095.41 Q7.36485 1095.41 12.3619 1099.77 Q17.3272 1104.13 17.3272 1111.77 Q17.3272 1119.44 12.3619 1123.8 Q7.36485 1128.13 -1.38799 1128.13 Q-10.1727 1128.13 -15.1379 1123.8 Q-20.1032 1119.44 -20.1032 1111.77 Z\" fill=\"#000000\" fill-rule=\"evenodd\" fill-opacity=\"1\" /><path clip-path=\"url(#clip3100)\" d=\"M 0 0 M-13.7693 1068.61 Q-14.3422 1069.6 -14.5968 1070.78 Q-14.8833 1071.92 -14.8833 1073.32 Q-14.8833 1078.29 -11.6368 1080.96 Q-8.4221 1083.6 -2.37468 1083.6 L16.4042 1083.6 L16.4042 1089.49 L-19.2438 1089.49 L-19.2438 1083.6 L-13.7056 1083.6 Q-16.9521 1081.76 -18.5117 1078.8 Q-20.1032 1075.84 -20.1032 1071.6 Q-20.1032 1071 -20.0077 1070.27 Q-19.944 1069.54 -19.7849 1068.64 L-13.7693 1068.61 Z\" fill=\"#000000\" fill-rule=\"evenodd\" fill-opacity=\"1\" /><path clip-path=\"url(#clip3100)\" d=\"M 0 0 M-18.1935 1039.74 L-12.6553 1039.74 Q-13.9284 1042.23 -14.565 1044.9 Q-15.2016 1047.57 -15.2016 1050.44 Q-15.2016 1054.8 -13.8648 1056.99 Q-12.528 1059.16 -9.85438 1059.16 Q-7.81736 1059.16 -6.6397 1057.6 Q-5.49387 1056.04 -4.44353 1051.33 L-3.99793 1049.32 Q-2.66113 1043.09 -0.210337 1040.48 Q2.20863 1037.83 6.56914 1037.83 Q11.5344 1037.83 14.4308 1041.78 Q17.3272 1045.7 17.3272 1052.57 Q17.3272 1055.44 16.7543 1058.55 Q16.2132 1061.64 15.0992 1065.08 L9.05177 1065.08 Q10.7387 1061.83 11.598 1058.68 Q12.4256 1055.53 12.4256 1052.44 Q12.4256 1048.31 11.0251 1046.08 Q9.59285 1043.85 7.01474 1043.85 Q4.6276 1043.85 3.35446 1045.47 Q2.08132 1047.06 0.903662 1052.51 L0.426234 1054.54 Q-0.719593 1059.99 -3.0749 1062.41 Q-5.46204 1064.82 -9.59975 1064.82 Q-14.6287 1064.82 -17.3659 1061.26 Q-20.1032 1057.69 -20.1032 1051.14 Q-20.1032 1047.89 -19.6257 1045.03 Q-19.1483 1042.16 -18.1935 1039.74 Z\" fill=\"#000000\" fill-rule=\"evenodd\" fill-opacity=\"1\" /><polyline clip-path=\"url(#clip3102)\" style=\"stroke:#009af9; stroke-width:4; stroke-opacity:1; fill:none\" points=\"\n",
       "  6762.29,1149.42 6650.19,1285.88 6594.14,1906.14 6502.42,2191.46 6451.46,1180.44 6334.27,988.158 6293.5,1006.77 6181.4,1099.8 6125.35,1006.77 6023.44,938.538 \n",
       "  5982.68,1025.37 5870.58,957.145 5829.82,690.435 5717.72,516.763 5666.76,566.384 5575.04,647.017 5524.09,330.686 5417.08,653.22 5330.46,454.738 5254.03,411.32 \n",
       "  5197.98,274.863 5111.35,374.104 5055.3,250.053 4943.2,268.661 4902.44,392.712 4795.43,423.725 4734.29,405.117 4632.38,535.371 4591.62,343.091 4474.42,194.23 \n",
       "  4433.66,535.371 4326.65,361.699 4270.6,194.23 4163.6,188.027 4122.83,157.014 4010.73,181.825 3969.97,473.345 3862.96,349.294 3806.91,578.789 3720.29,671.827 \n",
       "  3664.24,243.85 3557.23,535.371 3470.61,417.522 3399.27,603.599 3343.22,653.22 3241.32,616.004 3200.55,814.486 3083.36,901.322 3042.59,833.094 2940.68,771.068 \n",
       "  2879.54,845.499 2772.53,845.499 2731.77,913.727 2614.57,888.917 2558.52,1050.18 2471.9,913.727 2415.85,715.245 2303.75,944.74 2262.98,764.866 2150.88,721.448 \n",
       "  2094.83,628.409 1992.92,454.738 1952.16,690.435 1850.25,901.322 1809.49,795.879 1697.39,709.043 1600.57,541.573 1544.52,374.104 1483.38,491.953 1381.47,454.738 \n",
       "  1340.7,510.561 1223.51,293.471 1167.46,287.268 1085.93,622.207 1024.78,622.207 912.684,504.358 871.92,727.65 759.82,653.22 703.77,653.22 601.86,367.902 \n",
       "  561.096,392.712 413.328,597.397 \n",
       "  \"/>\n",
       "<polyline clip-path=\"url(#clip3102)\" style=\"stroke:#e26f46; stroke-width:4; stroke-opacity:1; fill:none\" points=\"\n",
       "  6762.29,609.802 6650.19,609.802 6594.14,616.004 6502.42,560.181 6451.46,560.181 6334.27,572.586 6293.5,584.991 6181.4,547.776 6125.35,560.181 6023.44,541.573 \n",
       "  5982.68,535.371 5870.58,442.332 5829.82,467.143 5717.72,479.548 5666.76,529.168 5575.04,553.979 5524.09,566.384 5417.08,553.979 5330.46,566.384 5254.03,498.156 \n",
       "  5197.98,504.358 5111.35,429.927 5055.3,411.32 4943.2,330.686 4902.44,305.876 4795.43,305.876 4734.29,299.673 4632.38,436.13 4591.62,405.117 4474.42,343.091 \n",
       "  4433.66,330.686 4326.65,330.686 4270.6,411.32 4163.6,460.94 4122.83,460.94 4010.73,454.738 3969.97,454.738 3862.96,355.497 3806.91,380.307 3720.29,566.384 \n",
       "  3664.24,566.384 3557.23,485.75 3470.61,522.966 3399.27,504.358 3343.22,529.168 3241.32,684.232 3200.55,727.65 3083.36,622.207 3042.59,622.207 2940.68,603.599 \n",
       "  2879.54,553.979 2772.53,566.384 2731.77,597.397 2614.57,678.03 2558.52,659.422 2471.9,653.22 2415.85,678.03 2303.75,665.625 2262.98,671.827 2150.88,510.561 \n",
       "  2094.83,491.953 1992.92,529.168 1952.16,473.345 1850.25,436.13 1809.49,417.522 1697.39,547.776 1600.57,535.371 1544.52,622.207 1483.38,647.017 1381.47,733.853 \n",
       "  1340.7,715.245 1223.51,727.65 1167.46,702.84 1085.93,702.84 1024.78,678.03 912.684,709.043 871.92,684.232 759.82,640.815 703.77,616.004 601.86,547.776 \n",
       "  561.096,553.979 413.328,423.725 \n",
       "  \"/>\n",
       "<path clip-path=\"url(#clip3100)\" d=\"\n",
       "M432.859 1832.49 L1591.7 1832.49 L1591.7 1651.05 L432.859 1651.05  Z\n",
       "  \" fill=\"#ffffff\" fill-rule=\"evenodd\" fill-opacity=\"1\"/>\n",
       "<polyline clip-path=\"url(#clip3100)\" style=\"stroke:#000000; stroke-width:4; stroke-opacity:1; fill:none\" points=\"\n",
       "  432.859,1832.49 1591.7,1832.49 1591.7,1651.05 432.859,1651.05 432.859,1832.49 \n",
       "  \"/>\n",
       "<polyline clip-path=\"url(#clip3100)\" style=\"stroke:#009af9; stroke-width:4; stroke-opacity:1; fill:none\" points=\"\n",
       "  502.859,1711.53 922.859,1711.53 \n",
       "  \"/>\n",
       "<path clip-path=\"url(#clip3100)\" d=\"M 0 0 M1016.89 1714.78 L1016.89 1716.86 L997.303 1716.86 Q997.581 1721.26 999.942 1723.58 Q1002.33 1725.87 1006.56 1725.87 Q1009.02 1725.87 1011.31 1725.27 Q1013.62 1724.67 1015.89 1723.46 L1015.89 1727.49 Q1013.6 1728.46 1011.19 1728.97 Q1008.78 1729.48 1006.31 1729.48 Q1000.1 1729.48 996.47 1725.87 Q992.859 1722.26 992.859 1716.1 Q992.859 1709.73 996.285 1706.01 Q999.734 1702.26 1005.57 1702.26 Q1010.8 1702.26 1013.83 1705.64 Q1016.89 1708.99 1016.89 1714.78 M1012.63 1713.53 Q1012.58 1710.04 1010.66 1707.95 Q1008.76 1705.87 1005.61 1705.87 Q1002.05 1705.87 999.896 1707.88 Q997.766 1709.9 997.442 1713.55 L1012.63 1713.53 Z\" fill=\"#000000\" fill-rule=\"evenodd\" fill-opacity=\"1\" /><path clip-path=\"url(#clip3100)\" d=\"M 0 0 M1041.54 1707.86 Q1043.14 1704.99 1045.36 1703.62 Q1047.58 1702.26 1050.59 1702.26 Q1054.64 1702.26 1056.84 1705.11 Q1059.04 1707.93 1059.04 1713.16 L1059.04 1728.81 L1054.76 1728.81 L1054.76 1713.3 Q1054.76 1709.57 1053.44 1707.77 Q1052.12 1705.96 1049.41 1705.96 Q1046.1 1705.96 1044.18 1708.16 Q1042.26 1710.36 1042.26 1714.16 L1042.26 1728.81 L1037.97 1728.81 L1037.97 1713.3 Q1037.97 1709.55 1036.66 1707.77 Q1035.34 1705.96 1032.58 1705.96 Q1029.32 1705.96 1027.4 1708.18 Q1025.47 1710.38 1025.47 1714.16 L1025.47 1728.81 L1021.19 1728.81 L1021.19 1702.88 L1025.47 1702.88 L1025.47 1706.91 Q1026.93 1704.53 1028.97 1703.39 Q1031.01 1702.26 1033.81 1702.26 Q1036.63 1702.26 1038.6 1703.69 Q1040.59 1705.13 1041.54 1707.86 Z\" fill=\"#000000\" fill-rule=\"evenodd\" fill-opacity=\"1\" /><path clip-path=\"url(#clip3100)\" d=\"M 0 0 M1067.63 1724.92 L1067.63 1738.67 L1063.34 1738.67 L1063.34 1702.88 L1067.63 1702.88 L1067.63 1706.82 Q1068.97 1704.5 1071.01 1703.39 Q1073.07 1702.26 1075.91 1702.26 Q1080.64 1702.26 1083.58 1706.01 Q1086.54 1709.76 1086.54 1715.87 Q1086.54 1721.98 1083.58 1725.73 Q1080.64 1729.48 1075.91 1729.48 Q1073.07 1729.48 1071.01 1728.37 Q1068.97 1727.23 1067.63 1724.92 M1082.12 1715.87 Q1082.12 1711.17 1080.17 1708.51 Q1078.25 1705.82 1074.87 1705.82 Q1071.49 1705.82 1069.55 1708.51 Q1067.63 1711.17 1067.63 1715.87 Q1067.63 1720.57 1069.55 1723.25 Q1071.49 1725.92 1074.87 1725.92 Q1078.25 1725.92 1080.17 1723.25 Q1082.12 1720.57 1082.12 1715.87 Z\" fill=\"#000000\" fill-rule=\"evenodd\" fill-opacity=\"1\" /><path clip-path=\"url(#clip3100)\" d=\"M 0 0 M1091.01 1692.79 L1095.27 1692.79 L1095.27 1728.81 L1091.01 1728.81 L1091.01 1692.79 Z\" fill=\"#000000\" fill-rule=\"evenodd\" fill-opacity=\"1\" /><path clip-path=\"url(#clip3100)\" d=\"M 0 0 M1109.78 1705.87 Q1106.35 1705.87 1104.36 1708.55 Q1102.37 1711.22 1102.37 1715.87 Q1102.37 1720.52 1104.34 1723.21 Q1106.33 1725.87 1109.78 1725.87 Q1113.18 1725.87 1115.17 1723.18 Q1117.16 1720.5 1117.16 1715.87 Q1117.16 1711.26 1115.17 1708.58 Q1113.18 1705.87 1109.78 1705.87 M1109.78 1702.26 Q1115.34 1702.26 1118.51 1705.87 Q1121.68 1709.48 1121.68 1715.87 Q1121.68 1722.23 1118.51 1725.87 Q1115.34 1729.48 1109.78 1729.48 Q1104.2 1729.48 1101.03 1725.87 Q1097.88 1722.23 1097.88 1715.87 Q1097.88 1709.48 1101.03 1705.87 Q1104.2 1702.26 1109.78 1702.26 Z\" fill=\"#000000\" fill-rule=\"evenodd\" fill-opacity=\"1\" /><path clip-path=\"url(#clip3100)\" d=\"M 0 0 M1136.93 1731.22 Q1135.13 1735.85 1133.41 1737.26 Q1131.7 1738.67 1128.83 1738.67 L1125.43 1738.67 L1125.43 1735.11 L1127.93 1735.11 Q1129.69 1735.11 1130.66 1734.27 Q1131.63 1733.44 1132.81 1730.34 L1133.58 1728.39 L1123.09 1702.88 L1127.6 1702.88 L1135.71 1723.16 L1143.81 1702.88 L1148.32 1702.88 L1136.93 1731.22 Z\" fill=\"#000000\" fill-rule=\"evenodd\" fill-opacity=\"1\" /><path clip-path=\"url(#clip3100)\" d=\"M 0 0 M1172.97 1707.86 Q1174.57 1704.99 1176.79 1703.62 Q1179.02 1702.26 1182.02 1702.26 Q1186.08 1702.26 1188.27 1705.11 Q1190.47 1707.93 1190.47 1713.16 L1190.47 1728.81 L1186.19 1728.81 L1186.19 1713.3 Q1186.19 1709.57 1184.87 1707.77 Q1183.55 1705.96 1180.84 1705.96 Q1177.53 1705.96 1175.61 1708.16 Q1173.69 1710.36 1173.69 1714.16 L1173.69 1728.81 L1169.41 1728.81 L1169.41 1713.3 Q1169.41 1709.55 1168.09 1707.77 Q1166.77 1705.96 1164.02 1705.96 Q1160.75 1705.96 1158.83 1708.18 Q1156.91 1710.38 1156.91 1714.16 L1156.91 1728.81 L1152.63 1728.81 L1152.63 1702.88 L1156.91 1702.88 L1156.91 1706.91 Q1158.37 1704.53 1160.4 1703.39 Q1162.44 1702.26 1165.24 1702.26 Q1168.07 1702.26 1170.03 1703.69 Q1172.02 1705.13 1172.97 1707.86 Z\" fill=\"#000000\" fill-rule=\"evenodd\" fill-opacity=\"1\" /><path clip-path=\"url(#clip3100)\" d=\"M 0 0 M1217.12 1714.78 L1217.12 1716.86 L1197.53 1716.86 Q1197.81 1721.26 1200.17 1723.58 Q1202.56 1725.87 1206.79 1725.87 Q1209.25 1725.87 1211.54 1725.27 Q1213.85 1724.67 1216.12 1723.46 L1216.12 1727.49 Q1213.83 1728.46 1211.42 1728.97 Q1209.02 1729.48 1206.54 1729.48 Q1200.33 1729.48 1196.7 1725.87 Q1193.09 1722.26 1193.09 1716.1 Q1193.09 1709.73 1196.52 1706.01 Q1199.96 1702.26 1205.8 1702.26 Q1211.03 1702.26 1214.06 1705.64 Q1217.12 1708.99 1217.12 1714.78 M1212.86 1713.53 Q1212.81 1710.04 1210.89 1707.95 Q1208.99 1705.87 1205.84 1705.87 Q1202.28 1705.87 1200.13 1707.88 Q1198 1709.9 1197.67 1713.55 L1212.86 1713.53 Z\" fill=\"#000000\" fill-rule=\"evenodd\" fill-opacity=\"1\" /><path clip-path=\"url(#clip3100)\" d=\"M 0 0 M1243.14 1713.16 L1243.14 1728.81 L1238.88 1728.81 L1238.88 1713.3 Q1238.88 1709.62 1237.44 1707.79 Q1236.01 1705.96 1233.14 1705.96 Q1229.69 1705.96 1227.7 1708.16 Q1225.7 1710.36 1225.7 1714.16 L1225.7 1728.81 L1221.42 1728.81 L1221.42 1702.88 L1225.7 1702.88 L1225.7 1706.91 Q1227.23 1704.57 1229.29 1703.42 Q1231.38 1702.26 1234.08 1702.26 Q1238.55 1702.26 1240.84 1705.04 Q1243.14 1707.79 1243.14 1713.16 Z\" fill=\"#000000\" fill-rule=\"evenodd\" fill-opacity=\"1\" /><path clip-path=\"url(#clip3100)\" d=\"M 0 0 M1251.82 1695.52 L1251.82 1702.88 L1260.59 1702.88 L1260.59 1706.19 L1251.82 1706.19 L1251.82 1720.27 Q1251.82 1723.44 1252.67 1724.34 Q1253.55 1725.24 1256.21 1725.24 L1260.59 1725.24 L1260.59 1728.81 L1256.21 1728.81 Q1251.28 1728.81 1249.41 1726.98 Q1247.53 1725.13 1247.53 1720.27 L1247.53 1706.19 L1244.41 1706.19 L1244.41 1702.88 L1247.53 1702.88 L1247.53 1695.52 L1251.82 1695.52 Z\" fill=\"#000000\" fill-rule=\"evenodd\" fill-opacity=\"1\" /><path clip-path=\"url(#clip3100)\" d=\"M 0 0 M1290.36 1692.84 Q1287.26 1698.16 1285.75 1703.37 Q1284.25 1708.58 1284.25 1713.92 Q1284.25 1719.27 1285.75 1724.53 Q1287.28 1729.76 1290.36 1735.06 L1286.65 1735.06 Q1283.18 1729.62 1281.45 1724.36 Q1279.73 1719.11 1279.73 1713.92 Q1279.73 1708.76 1281.45 1703.53 Q1283.16 1698.3 1286.65 1692.84 L1290.36 1692.84 Z\" fill=\"#000000\" fill-rule=\"evenodd\" fill-opacity=\"1\" /><path clip-path=\"url(#clip3100)\" d=\"M 0 0 M1306.61 1715.78 Q1301.45 1715.78 1299.45 1716.96 Q1297.46 1718.14 1297.46 1720.98 Q1297.46 1723.25 1298.95 1724.6 Q1300.45 1725.92 1303.02 1725.92 Q1306.56 1725.92 1308.69 1723.42 Q1310.84 1720.89 1310.84 1716.73 L1310.84 1715.78 L1306.61 1715.78 M1315.1 1714.02 L1315.1 1728.81 L1310.84 1728.81 L1310.84 1724.87 Q1309.39 1727.23 1307.21 1728.37 Q1305.03 1729.48 1301.89 1729.48 Q1297.9 1729.48 1295.54 1727.26 Q1293.2 1725.01 1293.2 1721.26 Q1293.2 1716.89 1296.12 1714.67 Q1299.06 1712.44 1304.87 1712.44 L1310.84 1712.44 L1310.84 1712.03 Q1310.84 1709.09 1308.9 1707.49 Q1306.98 1705.87 1303.48 1705.87 Q1301.26 1705.87 1299.15 1706.4 Q1297.05 1706.93 1295.1 1708 L1295.1 1704.06 Q1297.44 1703.16 1299.64 1702.72 Q1301.84 1702.26 1303.92 1702.26 Q1309.55 1702.26 1312.32 1705.17 Q1315.1 1708.09 1315.1 1714.02 Z\" fill=\"#000000\" fill-rule=\"evenodd\" fill-opacity=\"1\" /><path clip-path=\"url(#clip3100)\" d=\"M 0 0 M1338.23 1703.88 L1338.23 1707.86 Q1336.42 1706.86 1334.59 1706.38 Q1332.79 1705.87 1330.94 1705.87 Q1326.79 1705.87 1324.5 1708.51 Q1322.21 1711.12 1322.21 1715.87 Q1322.21 1720.61 1324.5 1723.25 Q1326.79 1725.87 1330.94 1725.87 Q1332.79 1725.87 1334.59 1725.38 Q1336.42 1724.87 1338.23 1723.88 L1338.23 1727.81 Q1336.45 1728.65 1334.52 1729.06 Q1332.63 1729.48 1330.47 1729.48 Q1324.62 1729.48 1321.17 1725.8 Q1317.72 1722.12 1317.72 1715.87 Q1317.72 1709.53 1321.19 1705.89 Q1324.69 1702.26 1330.75 1702.26 Q1332.72 1702.26 1334.59 1702.67 Q1336.47 1703.07 1338.23 1703.88 Z\" fill=\"#000000\" fill-rule=\"evenodd\" fill-opacity=\"1\" /><path clip-path=\"url(#clip3100)\" d=\"M 0 0 M1346.91 1695.52 L1346.91 1702.88 L1355.68 1702.88 L1355.68 1706.19 L1346.91 1706.19 L1346.91 1720.27 Q1346.91 1723.44 1347.76 1724.34 Q1348.64 1725.24 1351.31 1725.24 L1355.68 1725.24 L1355.68 1728.81 L1351.31 1728.81 Q1346.38 1728.81 1344.5 1726.98 Q1342.63 1725.13 1342.63 1720.27 L1342.63 1706.19 L1339.5 1706.19 L1339.5 1702.88 L1342.63 1702.88 L1342.63 1695.52 L1346.91 1695.52 Z\" fill=\"#000000\" fill-rule=\"evenodd\" fill-opacity=\"1\" /><path clip-path=\"url(#clip3100)\" d=\"M 0 0 M1359.71 1718.58 L1359.71 1702.88 L1363.97 1702.88 L1363.97 1718.42 Q1363.97 1722.1 1365.4 1723.95 Q1366.84 1725.78 1369.71 1725.78 Q1373.16 1725.78 1375.15 1723.58 Q1377.16 1721.38 1377.16 1717.58 L1377.16 1702.88 L1381.42 1702.88 L1381.42 1728.81 L1377.16 1728.81 L1377.16 1724.83 Q1375.61 1727.19 1373.55 1728.35 Q1371.51 1729.48 1368.81 1729.48 Q1364.34 1729.48 1362.02 1726.7 Q1359.71 1723.92 1359.71 1718.58 M1370.43 1702.26 L1370.43 1702.26 Z\" fill=\"#000000\" fill-rule=\"evenodd\" fill-opacity=\"1\" /><path clip-path=\"url(#clip3100)\" d=\"M 0 0 M1397.67 1715.78 Q1392.51 1715.78 1390.52 1716.96 Q1388.53 1718.14 1388.53 1720.98 Q1388.53 1723.25 1390.01 1724.6 Q1391.51 1725.92 1394.08 1725.92 Q1397.63 1725.92 1399.75 1723.42 Q1401.91 1720.89 1401.91 1716.73 L1401.91 1715.78 L1397.67 1715.78 M1406.17 1714.02 L1406.17 1728.81 L1401.91 1728.81 L1401.91 1724.87 Q1400.45 1727.23 1398.27 1728.37 Q1396.1 1729.48 1392.95 1729.48 Q1388.97 1729.48 1386.61 1727.26 Q1384.27 1725.01 1384.27 1721.26 Q1384.27 1716.89 1387.19 1714.67 Q1390.13 1712.44 1395.94 1712.44 L1401.91 1712.44 L1401.91 1712.03 Q1401.91 1709.09 1399.96 1707.49 Q1398.04 1705.87 1394.55 1705.87 Q1392.32 1705.87 1390.22 1706.4 Q1388.11 1706.93 1386.17 1708 L1386.17 1704.06 Q1388.5 1703.16 1390.7 1702.72 Q1392.9 1702.26 1394.99 1702.26 Q1400.61 1702.26 1403.39 1705.17 Q1406.17 1708.09 1406.17 1714.02 Z\" fill=\"#000000\" fill-rule=\"evenodd\" fill-opacity=\"1\" /><path clip-path=\"url(#clip3100)\" d=\"M 0 0 M1410.63 1692.79 L1414.89 1692.79 L1414.89 1728.81 L1410.63 1728.81 L1410.63 1692.79 Z\" fill=\"#000000\" fill-rule=\"evenodd\" fill-opacity=\"1\" /><path clip-path=\"url(#clip3100)\" d=\"M 0 0 M1435.89 1703.65 L1435.89 1707.67 Q1434.08 1706.75 1432.14 1706.29 Q1430.19 1705.82 1428.11 1705.82 Q1424.94 1705.82 1423.34 1706.8 Q1421.77 1707.77 1421.77 1709.71 Q1421.77 1711.19 1422.9 1712.05 Q1424.04 1712.88 1427.46 1713.65 L1428.92 1713.97 Q1433.46 1714.94 1435.36 1716.73 Q1437.28 1718.48 1437.28 1721.66 Q1437.28 1725.27 1434.41 1727.37 Q1431.56 1729.48 1426.56 1729.48 Q1424.48 1729.48 1422.21 1729.06 Q1419.96 1728.67 1417.46 1727.86 L1417.46 1723.46 Q1419.82 1724.69 1422.12 1725.31 Q1424.41 1725.92 1426.65 1725.92 Q1429.66 1725.92 1431.28 1724.9 Q1432.9 1723.86 1432.9 1721.98 Q1432.9 1720.24 1431.72 1719.32 Q1430.56 1718.39 1426.61 1717.54 L1425.13 1717.19 Q1421.17 1716.36 1419.41 1714.64 Q1417.65 1712.91 1417.65 1709.9 Q1417.65 1706.24 1420.24 1704.25 Q1422.83 1702.26 1427.6 1702.26 Q1429.96 1702.26 1432.05 1702.61 Q1434.13 1702.95 1435.89 1703.65 Z\" fill=\"#000000\" fill-rule=\"evenodd\" fill-opacity=\"1\" /><path clip-path=\"url(#clip3100)\" d=\"M 0 0 M1441.07 1692.84 L1444.78 1692.84 Q1448.25 1698.3 1449.96 1703.53 Q1451.7 1708.76 1451.7 1713.92 Q1451.7 1719.11 1449.96 1724.36 Q1448.25 1729.62 1444.78 1735.06 L1441.07 1735.06 Q1444.15 1729.76 1445.66 1724.53 Q1447.19 1719.27 1447.19 1713.92 Q1447.19 1708.58 1445.66 1703.37 Q1444.15 1698.16 1441.07 1692.84 Z\" fill=\"#000000\" fill-rule=\"evenodd\" fill-opacity=\"1\" /><polyline clip-path=\"url(#clip3100)\" style=\"stroke:#e26f46; stroke-width:4; stroke-opacity:1; fill:none\" points=\"\n",
       "  502.859,1772.01 922.859,1772.01 \n",
       "  \"/>\n",
       "<path clip-path=\"url(#clip3100)\" d=\"M 0 0 M997.535 1758.57 L997.535 1771.56 L1003.41 1771.56 Q1006.68 1771.56 1008.46 1769.87 Q1010.24 1768.18 1010.24 1765.05 Q1010.24 1761.95 1008.46 1760.26 Q1006.68 1758.57 1003.41 1758.57 L997.535 1758.57 M992.859 1754.73 L1003.41 1754.73 Q1009.22 1754.73 1012.19 1757.37 Q1015.17 1759.98 1015.17 1765.05 Q1015.17 1770.17 1012.19 1772.78 Q1009.22 1775.4 1003.41 1775.4 L997.535 1775.4 L997.535 1789.29 L992.859 1789.29 L992.859 1754.73 Z\" fill=\"#000000\" fill-rule=\"evenodd\" fill-opacity=\"1\" /><path clip-path=\"url(#clip3100)\" d=\"M 0 0 M1019.83 1754.73 L1026.79 1754.73 L1035.61 1778.25 L1044.48 1754.73 L1051.45 1754.73 L1051.45 1789.29 L1046.89 1789.29 L1046.89 1758.94 L1037.97 1782.65 L1033.28 1782.65 L1024.36 1758.94 L1024.36 1789.29 L1019.83 1789.29 L1019.83 1754.73 Z\" fill=\"#000000\" fill-rule=\"evenodd\" fill-opacity=\"1\" /><path clip-path=\"url(#clip3100)\" d=\"M 0 0 M1056.1 1754.73 L1060.78 1754.73 L1060.78 1789.29 L1056.1 1789.29 L1056.1 1754.73 Z\" fill=\"#000000\" fill-rule=\"evenodd\" fill-opacity=\"1\" /><path clip-path=\"url(#clip3100)\" d=\"M 0 0 M1090.54 1753.32 Q1087.44 1758.64 1085.94 1763.85 Q1084.43 1769.06 1084.43 1774.4 Q1084.43 1779.75 1085.94 1785.01 Q1087.46 1790.24 1090.54 1795.54 L1086.84 1795.54 Q1083.37 1790.1 1081.63 1784.84 Q1079.92 1779.59 1079.92 1774.4 Q1079.92 1769.24 1081.63 1764.01 Q1083.34 1758.78 1086.84 1753.32 L1090.54 1753.32 Z\" fill=\"#000000\" fill-rule=\"evenodd\" fill-opacity=\"1\" /><path clip-path=\"url(#clip3100)\" d=\"M 0 0 M1106.79 1776.26 Q1101.63 1776.26 1099.64 1777.44 Q1097.65 1778.62 1097.65 1781.46 Q1097.65 1783.73 1099.13 1785.08 Q1100.64 1786.4 1103.21 1786.4 Q1106.75 1786.4 1108.88 1783.9 Q1111.03 1781.37 1111.03 1777.21 L1111.03 1776.26 L1106.79 1776.26 M1115.29 1774.5 L1115.29 1789.29 L1111.03 1789.29 L1111.03 1785.35 Q1109.57 1787.71 1107.4 1788.85 Q1105.22 1789.96 1102.07 1789.96 Q1098.09 1789.96 1095.73 1787.74 Q1093.39 1785.49 1093.39 1781.74 Q1093.39 1777.37 1096.31 1775.15 Q1099.25 1772.92 1105.06 1772.92 L1111.03 1772.92 L1111.03 1772.51 Q1111.03 1769.57 1109.09 1767.97 Q1107.16 1766.35 1103.67 1766.35 Q1101.45 1766.35 1099.34 1766.88 Q1097.23 1767.41 1095.29 1768.48 L1095.29 1764.54 Q1097.63 1763.64 1099.83 1763.2 Q1102.03 1762.74 1104.11 1762.74 Q1109.73 1762.74 1112.51 1765.65 Q1115.29 1768.57 1115.29 1774.5 Z\" fill=\"#000000\" fill-rule=\"evenodd\" fill-opacity=\"1\" /><path clip-path=\"url(#clip3100)\" d=\"M 0 0 M1138.41 1764.36 L1138.41 1768.34 Q1136.61 1767.34 1134.78 1766.86 Q1132.97 1766.35 1131.12 1766.35 Q1126.98 1766.35 1124.69 1768.99 Q1122.4 1771.6 1122.4 1776.35 Q1122.4 1781.09 1124.69 1783.73 Q1126.98 1786.35 1131.12 1786.35 Q1132.97 1786.35 1134.78 1785.86 Q1136.61 1785.35 1138.41 1784.36 L1138.41 1788.29 Q1136.63 1789.13 1134.71 1789.54 Q1132.81 1789.96 1130.66 1789.96 Q1124.8 1789.96 1121.35 1786.28 Q1117.9 1782.6 1117.9 1776.35 Q1117.9 1770.01 1121.38 1766.37 Q1124.87 1762.74 1130.94 1762.74 Q1132.9 1762.74 1134.78 1763.15 Q1136.65 1763.55 1138.41 1764.36 Z\" fill=\"#000000\" fill-rule=\"evenodd\" fill-opacity=\"1\" /><path clip-path=\"url(#clip3100)\" d=\"M 0 0 M1147.09 1756 L1147.09 1763.36 L1155.87 1763.36 L1155.87 1766.67 L1147.09 1766.67 L1147.09 1780.75 Q1147.09 1783.92 1147.95 1784.82 Q1148.83 1785.72 1151.49 1785.72 L1155.87 1785.72 L1155.87 1789.29 L1151.49 1789.29 Q1146.56 1789.29 1144.69 1787.46 Q1142.81 1785.61 1142.81 1780.75 L1142.81 1766.67 L1139.69 1766.67 L1139.69 1763.36 L1142.81 1763.36 L1142.81 1756 L1147.09 1756 Z\" fill=\"#000000\" fill-rule=\"evenodd\" fill-opacity=\"1\" /><path clip-path=\"url(#clip3100)\" d=\"M 0 0 M1159.9 1779.06 L1159.9 1763.36 L1164.15 1763.36 L1164.15 1778.9 Q1164.15 1782.58 1165.59 1784.43 Q1167.02 1786.26 1169.9 1786.26 Q1173.34 1786.26 1175.33 1784.06 Q1177.35 1781.86 1177.35 1778.06 L1177.35 1763.36 L1181.61 1763.36 L1181.61 1789.29 L1177.35 1789.29 L1177.35 1785.31 Q1175.8 1787.67 1173.74 1788.83 Q1171.7 1789.96 1168.99 1789.96 Q1164.52 1789.96 1162.21 1787.18 Q1159.9 1784.4 1159.9 1779.06 M1170.61 1762.74 L1170.61 1762.74 Z\" fill=\"#000000\" fill-rule=\"evenodd\" fill-opacity=\"1\" /><path clip-path=\"url(#clip3100)\" d=\"M 0 0 M1197.86 1776.26 Q1192.7 1776.26 1190.71 1777.44 Q1188.71 1778.62 1188.71 1781.46 Q1188.71 1783.73 1190.2 1785.08 Q1191.7 1786.4 1194.27 1786.4 Q1197.81 1786.4 1199.94 1783.9 Q1202.09 1781.37 1202.09 1777.21 L1202.09 1776.26 L1197.86 1776.26 M1206.35 1774.5 L1206.35 1789.29 L1202.09 1789.29 L1202.09 1785.35 Q1200.64 1787.71 1198.46 1788.85 Q1196.28 1789.96 1193.14 1789.96 Q1189.15 1789.96 1186.79 1787.74 Q1184.46 1785.49 1184.46 1781.74 Q1184.46 1777.37 1187.37 1775.15 Q1190.31 1772.92 1196.12 1772.92 L1202.09 1772.92 L1202.09 1772.51 Q1202.09 1769.57 1200.15 1767.97 Q1198.23 1766.35 1194.73 1766.35 Q1192.51 1766.35 1190.4 1766.88 Q1188.3 1767.41 1186.35 1768.48 L1186.35 1764.54 Q1188.69 1763.64 1190.89 1763.2 Q1193.09 1762.74 1195.17 1762.74 Q1200.8 1762.74 1203.58 1765.65 Q1206.35 1768.57 1206.35 1774.5 Z\" fill=\"#000000\" fill-rule=\"evenodd\" fill-opacity=\"1\" /><path clip-path=\"url(#clip3100)\" d=\"M 0 0 M1210.82 1753.27 L1215.08 1753.27 L1215.08 1789.29 L1210.82 1789.29 L1210.82 1753.27 Z\" fill=\"#000000\" fill-rule=\"evenodd\" fill-opacity=\"1\" /><path clip-path=\"url(#clip3100)\" d=\"M 0 0 M1236.08 1764.13 L1236.08 1768.15 Q1234.27 1767.23 1232.33 1766.77 Q1230.38 1766.3 1228.3 1766.3 Q1225.13 1766.3 1223.53 1767.28 Q1221.95 1768.25 1221.95 1770.19 Q1221.95 1771.67 1223.09 1772.53 Q1224.22 1773.36 1227.65 1774.13 L1229.11 1774.45 Q1233.64 1775.42 1235.54 1777.21 Q1237.46 1778.96 1237.46 1782.14 Q1237.46 1785.75 1234.59 1787.85 Q1231.75 1789.96 1226.75 1789.96 Q1224.66 1789.96 1222.39 1789.54 Q1220.15 1789.15 1217.65 1788.34 L1217.65 1783.94 Q1220.01 1785.17 1222.3 1785.79 Q1224.59 1786.4 1226.84 1786.4 Q1229.85 1786.4 1231.47 1785.38 Q1233.09 1784.34 1233.09 1782.46 Q1233.09 1780.72 1231.91 1779.8 Q1230.75 1778.87 1226.79 1778.02 L1225.31 1777.67 Q1221.35 1776.84 1219.59 1775.12 Q1217.83 1773.39 1217.83 1770.38 Q1217.83 1766.72 1220.43 1764.73 Q1223.02 1762.74 1227.79 1762.74 Q1230.15 1762.74 1232.23 1763.09 Q1234.32 1763.43 1236.08 1764.13 Z\" fill=\"#000000\" fill-rule=\"evenodd\" fill-opacity=\"1\" /><path clip-path=\"url(#clip3100)\" d=\"M 0 0 M1241.26 1753.32 L1244.96 1753.32 Q1248.44 1758.78 1250.15 1764.01 Q1251.89 1769.24 1251.89 1774.4 Q1251.89 1779.59 1250.15 1784.84 Q1248.44 1790.1 1244.96 1795.54 L1241.26 1795.54 Q1244.34 1790.24 1245.84 1785.01 Q1247.37 1779.75 1247.37 1774.4 Q1247.37 1769.06 1245.84 1763.85 Q1244.34 1758.64 1241.26 1753.32 Z\" fill=\"#000000\" fill-rule=\"evenodd\" fill-opacity=\"1\" /></svg>\n"
      ]
     },
     "execution_count": 58,
     "metadata": {},
     "output_type": "execute_result"
    }
   ],
   "source": [
    "periods = df2[:,1] # all rows, first column\n",
    "println(periods[begin], \" to \", periods[end])\n",
    "gr()\n",
    "plot(periods, \n",
    "    title=\"ISM Manufacturing\",\n",
    "    [df1[:,2]  df2[:,2]], \n",
    "    label    = [\"employment (actuals)\" \"PMI (actuals)\"],\n",
    "    legend    =:bottomleft, # :right, :left, :top, :bottom, :inside, :best, :legend, :topright, :topleft, :bottomleft, :bottomright\n",
    "    xlabel   = \"time\",\n",
    "    ylabel   = \"indicators\",\n",
    "    size     = (1750, 600), # width, height\n",
    "    layout = (1, 1) # number of seperate plots VERTICALLY, HORIZONTALLY\n",
    "    )"
   ]
  },
  {
   "cell_type": "markdown",
   "metadata": {},
   "source": [
    "# Extract Data"
   ]
  },
  {
   "cell_type": "code",
   "execution_count": null,
   "metadata": {},
   "outputs": [],
   "source": [
    "# rotate the matrix (switch columns to rows) - does not work on DataFrame)\n",
    "# data = data' "
   ]
  },
  {
   "cell_type": "markdown",
   "metadata": {},
   "source": [
    "## Extract Independent Variables (i.e. features)"
   ]
  },
  {
   "cell_type": "code",
   "execution_count": null,
   "metadata": {},
   "outputs": [],
   "source": [
    "x = rawdata[1:13,:]     # independent variables: all rows before last"
   ]
  },
  {
   "cell_type": "markdown",
   "metadata": {},
   "source": [
    "## Extract Dependent Variable (i.e. price)"
   ]
  },
  {
   "cell_type": "code",
   "execution_count": null,
   "metadata": {},
   "outputs": [],
   "source": [
    "y = rawdata[14:14,:]          # Dependent Variable (price) last ROW"
   ]
  },
  {
   "cell_type": "markdown",
   "metadata": {},
   "source": [
    "# Normalize the data"
   ]
  },
  {
   "cell_type": "markdown",
   "metadata": {},
   "source": [
    "## Show mean() values \n",
    "\n",
    "Calculate mean values for each feature in the 2-dimentional matrix."
   ]
  },
  {
   "cell_type": "code",
   "execution_count": null,
   "metadata": {},
   "outputs": [],
   "source": [
    "mean(x, dims = 2)"
   ]
  },
  {
   "cell_type": "markdown",
   "metadata": {},
   "source": [
    "## Show std() values \n",
    "\n",
    "Calculate sample standard deviation (STD).\n",
    "\n",
    "- https://docs.julialang.org/en/v1/stdlib/Statistics/"
   ]
  },
  {
   "cell_type": "code",
   "execution_count": null,
   "metadata": {},
   "outputs": [],
   "source": [
    "std(x, dims = 2) "
   ]
  },
  {
   "cell_type": "markdown",
   "metadata": {},
   "source": [
    "## Normalize the independent variables"
   ]
  },
  {
   "cell_type": "code",
   "execution_count": null,
   "metadata": {},
   "outputs": [],
   "source": [
    "x = (x .- mean(x, dims = 2)) ./ std(x, dims = 2) # math on 13× Arrays"
   ]
  },
  {
   "cell_type": "code",
   "execution_count": null,
   "metadata": {},
   "outputs": [],
   "source": [
    "records = size(x,2) # number of columns"
   ]
  },
  {
   "cell_type": "code",
   "execution_count": null,
   "metadata": {},
   "outputs": [],
   "source": [
    "args = Hyperparams()"
   ]
  },
  {
   "cell_type": "code",
   "execution_count": null,
   "metadata": {},
   "outputs": [],
   "source": [
    "split_ratio = args.split_ratio\n",
    "\n",
    "split_index = floor(Int, records * split_ratio)"
   ]
  },
  {
   "cell_type": "code",
   "execution_count": null,
   "metadata": {},
   "outputs": [],
   "source": [
    "x_train = x[:,1:split_index]           # training features\n",
    "y_train = y[:,1:split_index]           # training results\n",
    "x_test = x[:,split_index+1:records]  # testing features\n",
    "y_test = y[:,split_index+1:records]  # testing results"
   ]
  },
  {
   "cell_type": "code",
   "execution_count": null,
   "metadata": {},
   "outputs": [],
   "source": [
    "train_data = (x_train, y_train) # tuples\n",
    "test_data = (x_test, y_test)\n",
    "size(test_data[1])"
   ]
  },
  {
   "cell_type": "code",
   "execution_count": null,
   "metadata": {},
   "outputs": [],
   "source": [
    "function get_processed_data(args) # expects struct Hyperparams\n",
    "\n",
    "    isfile(\"housing.data\") ||\n",
    "        download(\n",
    "            \"https://raw.githubusercontent.com/MikeInnes/notebooks/master/housing.data\",\n",
    "            \"housing.data\")\n",
    "\n",
    "    rawdata = readdlm(\"housing.data\")'\n",
    "\n",
    "    # The last feature is our target -- the price of the house.\n",
    "    split_ratio = args.split_ratio # For the train/test split\n",
    "\n",
    "    x = rawdata[1:13,:]\n",
    "    y = rawdata[14:14,:]\n",
    "\n",
    "    # Normalise the data\n",
    "    x = (x .- mean(x, dims = 2)) ./ std(x, dims = 2)\n",
    "\n",
    "    # Split into train and test sets\n",
    "    split_index = floor(Int,size(x,2)*split_ratio)\n",
    "    x_train = x[:,1:split_index]\n",
    "    y_train = y[:,1:split_index]\n",
    "    x_test = x[:,split_index+1:size(x,2)]\n",
    "    y_test = y[:,split_index+1:size(x,2)]\n",
    "\n",
    "    train_data = (x_train, y_train)\n",
    "    test_data = (x_test, y_test)\n",
    "\n",
    "    return train_data,test_data\n",
    "end"
   ]
  },
  {
   "cell_type": "code",
   "execution_count": null,
   "metadata": {},
   "outputs": [],
   "source": [
    "# Struct to define model\n",
    "mutable struct model\n",
    "    W::AbstractArray\n",
    "    b::AbstractVector\n",
    "end"
   ]
  },
  {
   "cell_type": "code",
   "execution_count": null,
   "metadata": {},
   "outputs": [],
   "source": [
    "# Function to predict output from given parameters\n",
    "\n",
    "predict(x, m) = m.W*x .+ m.b"
   ]
  },
  {
   "cell_type": "markdown",
   "metadata": {},
   "source": [
    "# Mean Squared Error (MSE)\n",
    "\n",
    "<center><span style=\"font-size:x-large;\" >$ MSE = \\sum \\limits _{i=1} ^{n} {   \\frac{(ŷ_i - y)^2}{n} }$</span></center>"
   ]
  },
  {
   "cell_type": "code",
   "execution_count": null,
   "metadata": {},
   "outputs": [],
   "source": [
    "n = size(y, 2) # e.g. 505 columns\n",
    "\n",
    "# Mean Squared Error\n",
    "meansquarederror(ŷ, y) = sum((ŷ .- y).^2)/n"
   ]
  },
  {
   "cell_type": "code",
   "execution_count": null,
   "metadata": {},
   "outputs": [],
   "source": [
    "function train(; kws...)\n",
    "    # Initialize the Hyperparamters\n",
    "    args = Hyperparams(; kws...)\n",
    "    \n",
    "    # Load the data\n",
    "    (x_train,y_train),(x_test,y_test) = get_processed_data(args)\n",
    "    \n",
    "    test_data = (x_test,y_test)\n",
    "    \n",
    "    # The model\n",
    "    m = model((randn(1,13)),[0.])\n",
    "    \n",
    "    loss(x, y) = meansquarederror(predict(x, m), y)\n",
    "\n",
    "    ## Training\n",
    "    η = args.learning_rate\n",
    "    θ = params([m.W, m.b])\n",
    "\n",
    "    for i = 1:1000\n",
    "      g = gradient(() -> loss(x_train, y_train), θ)\n",
    "      for x in θ\n",
    "        update!(x, -g[x]*η)\n",
    "      end\n",
    "      if i%100==0\n",
    "          @show loss(x_train, y_train)\n",
    "        end\n",
    "    end\n",
    "    \n",
    "    # Predict the RMSE on the test set\n",
    "    err = meansquarederror(predict(x_test, m),y_test)\n",
    "    println(\"error: \", err)\n",
    "    return m , test_data# model\n",
    "end"
   ]
  },
  {
   "cell_type": "code",
   "execution_count": null,
   "metadata": {},
   "outputs": [],
   "source": [
    "cd(@__DIR__)\n",
    "resulting_model, test_data = train()\n",
    "resulting_model.W"
   ]
  },
  {
   "cell_type": "code",
   "execution_count": null,
   "metadata": {},
   "outputs": [],
   "source": [
    "resulting_model.b"
   ]
  },
  {
   "cell_type": "code",
   "execution_count": null,
   "metadata": {},
   "outputs": [],
   "source": [
    "function test(model, test)\n",
    "    # Testing model performance on test data \n",
    "    X_test, y_test = test\n",
    "    #accuracy_score = accuracy(X_test, y_test, model)\n",
    "\n",
    "    #println(\"\\nAccuracy: $accuracy_score\")\n",
    "\n",
    "    # Sanity check.\n",
    "    #@assert accuracy_score > 0.8\n",
    "\n",
    "    # To avoid confusion, here is the definition of a Confusion Matrix: https://en.wikipedia.org/wiki/Confusion_matrix\n",
    "    println(\"\\nConfusion Matrix:\\n\")\n",
    "    #display(confusion_matrix(X_test, y_test, model))\n",
    "end"
   ]
  },
  {
   "cell_type": "code",
   "execution_count": null,
   "metadata": {},
   "outputs": [],
   "source": [
    "test(model, test_data)\n",
    "features = test_data[1]"
   ]
  },
  {
   "cell_type": "code",
   "execution_count": null,
   "metadata": {},
   "outputs": [],
   "source": [
    "one_record = features[:,1]"
   ]
  },
  {
   "cell_type": "code",
   "execution_count": null,
   "metadata": {},
   "outputs": [],
   "source": [
    "results = test_data[1][1,:]"
   ]
  },
  {
   "cell_type": "code",
   "execution_count": null,
   "metadata": {},
   "outputs": [],
   "source": [
    "records = size(results)[1]"
   ]
  },
  {
   "cell_type": "code",
   "execution_count": null,
   "metadata": {},
   "outputs": [],
   "source": [
    "get_price(data, model) = model.W * data .+ model.b"
   ]
  },
  {
   "cell_type": "code",
   "execution_count": null,
   "metadata": {},
   "outputs": [],
   "source": [
    "get_price(one_record, resulting_model)"
   ]
  },
  {
   "cell_type": "code",
   "execution_count": null,
   "metadata": {},
   "outputs": [],
   "source": [
    "for i in 1:records # 455\n",
    "    record = features[:,i] # 13-element Array{Float64,1}:\n",
    "    result = get_price(record, resulting_model)\n",
    "    println(i, \" \", result, \" =? \", results[1])\n",
    "end"
   ]
  },
  {
   "cell_type": "code",
   "execution_count": null,
   "metadata": {},
   "outputs": [],
   "source": []
  },
  {
   "cell_type": "code",
   "execution_count": null,
   "metadata": {},
   "outputs": [],
   "source": []
  }
 ],
 "metadata": {
  "kernelspec": {
   "display_name": "Julia 1.4.2",
   "language": "julia",
   "name": "julia-1.4"
  },
  "language_info": {
   "file_extension": ".jl",
   "mimetype": "application/julia",
   "name": "julia",
   "version": "1.4.2"
  },
  "toc": {
   "base_numbering": 1,
   "nav_menu": {},
   "number_sections": true,
   "sideBar": true,
   "skip_h1_title": false,
   "title_cell": "Table of Contents",
   "title_sidebar": "Contents",
   "toc_cell": true,
   "toc_position": {},
   "toc_section_display": true,
   "toc_window_display": true
  }
 },
 "nbformat": 4,
 "nbformat_minor": 4
}
