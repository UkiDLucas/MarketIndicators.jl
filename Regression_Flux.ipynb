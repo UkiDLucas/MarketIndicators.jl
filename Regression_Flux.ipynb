{
 "cells": [
  {
   "cell_type": "markdown",
   "metadata": {},
   "source": [
    "# Market prediction using Flux.jl"
   ]
  },
  {
   "cell_type": "markdown",
   "metadata": {
    "toc": true
   },
   "source": [
    "<h1>Table of Contents<span class=\"tocSkip\"></span></h1>\n",
    "<div class=\"toc\"><ul class=\"toc-item\"><li><span><a href=\"#Market-prediction-using-Flux.jl\" data-toc-modified-id=\"Market-prediction-using-Flux.jl-1\"><span class=\"toc-item-num\">1&nbsp;&nbsp;</span>Market prediction using Flux.jl</a></span><ul class=\"toc-item\"><li><span><a href=\"#Libraries-used-in-this-notebook\" data-toc-modified-id=\"Libraries-used-in-this-notebook-1.1\"><span class=\"toc-item-num\">1.1&nbsp;&nbsp;</span>Libraries used in this notebook</a></span></li></ul></li><li><span><a href=\"#Define-Hyperparameters\" data-toc-modified-id=\"Define-Hyperparameters-2\"><span class=\"toc-item-num\">2&nbsp;&nbsp;</span>Define Hyperparameters</a></span></li><li><span><a href=\"#Load--Data\" data-toc-modified-id=\"Load--Data-3\"><span class=\"toc-item-num\">3&nbsp;&nbsp;</span>Load  Data</a></span><ul class=\"toc-item\"><li><span><a href=\"#Define-Fetch-Data-function\" data-toc-modified-id=\"Define-Fetch-Data-function-3.1\"><span class=\"toc-item-num\">3.1&nbsp;&nbsp;</span>Define Fetch Data function</a></span></li><li><span><a href=\"#ISM-Manufacturing-Employment\" data-toc-modified-id=\"ISM-Manufacturing-Employment-3.2\"><span class=\"toc-item-num\">3.2&nbsp;&nbsp;</span>ISM Manufacturing Employment</a></span></li><li><span><a href=\"#Markit---Manufacturing-PMI\" data-toc-modified-id=\"Markit---Manufacturing-PMI-3.3\"><span class=\"toc-item-num\">3.3&nbsp;&nbsp;</span>Markit - Manufacturing PMI</a></span></li></ul></li><li><span><a href=\"#Extract-Data\" data-toc-modified-id=\"Extract-Data-4\"><span class=\"toc-item-num\">4&nbsp;&nbsp;</span>Extract Data</a></span><ul class=\"toc-item\"><li><span><a href=\"#Extract-Independent-Variables-(i.e.-features)\" data-toc-modified-id=\"Extract-Independent-Variables-(i.e.-features)-4.1\"><span class=\"toc-item-num\">4.1&nbsp;&nbsp;</span>Extract Independent Variables (i.e. features)</a></span></li><li><span><a href=\"#Extract-Dependent-Variable-(i.e.-price)\" data-toc-modified-id=\"Extract-Dependent-Variable-(i.e.-price)-4.2\"><span class=\"toc-item-num\">4.2&nbsp;&nbsp;</span>Extract Dependent Variable (i.e. price)</a></span></li></ul></li><li><span><a href=\"#Normalize-the-data\" data-toc-modified-id=\"Normalize-the-data-5\"><span class=\"toc-item-num\">5&nbsp;&nbsp;</span>Normalize the data</a></span><ul class=\"toc-item\"><li><span><a href=\"#Show-mean()-values\" data-toc-modified-id=\"Show-mean()-values-5.1\"><span class=\"toc-item-num\">5.1&nbsp;&nbsp;</span>Show mean() values</a></span></li><li><span><a href=\"#Show-std()-values\" data-toc-modified-id=\"Show-std()-values-5.2\"><span class=\"toc-item-num\">5.2&nbsp;&nbsp;</span>Show std() values</a></span></li><li><span><a href=\"#Normalize-the-independent-variables\" data-toc-modified-id=\"Normalize-the-independent-variables-5.3\"><span class=\"toc-item-num\">5.3&nbsp;&nbsp;</span>Normalize the independent variables</a></span></li></ul></li><li><span><a href=\"#Mean-Squared-Error-(MSE)\" data-toc-modified-id=\"Mean-Squared-Error-(MSE)-6\"><span class=\"toc-item-num\">6&nbsp;&nbsp;</span>Mean Squared Error (MSE)</a></span></li></ul></div>"
   ]
  },
  {
   "cell_type": "markdown",
   "metadata": {},
   "source": [
    "## Libraries used in this notebook\n",
    "\n",
    "Uncomment the lines below if you are missing given libraries, or you want to update to the newest version.\n",
    "Warning: the updates will take time and will require pre-compiling."
   ]
  },
  {
   "cell_type": "code",
   "execution_count": 1,
   "metadata": {},
   "outputs": [],
   "source": [
    "import Pkg; \n",
    "\n",
    "# Pkg.add(\"Flux\")\n",
    "using Flux\n",
    "\n",
    "# Pkg.add(\"DelimitedFiles\")\n",
    "using DelimitedFiles\n",
    "\n",
    "#Pkg.add(\"Statistics\")\n",
    "using Statistics\n",
    "\n",
    "# Pkg.add(\"Flux\")\n",
    "using Flux.Optimise: update!\n",
    "\n",
    "# Pkg.add(\"Parameters\")\n",
    "using Parameters #: @with_kw"
   ]
  },
  {
   "cell_type": "markdown",
   "metadata": {},
   "source": [
    "# Define Hyperparameters"
   ]
  },
  {
   "cell_type": "code",
   "execution_count": 36,
   "metadata": {},
   "outputs": [
    {
     "data": {
      "text/plain": [
       "\"data/united-states.markit-manufacturing-pmi.csv\""
      ]
     },
     "execution_count": 36,
     "metadata": {},
     "output_type": "execute_result"
    }
   ],
   "source": [
    "# Struct to define hyperparameters\n",
    "\n",
    "@with_kw mutable struct Hyperparams\n",
    "    learning_rate::Float64 = 0.1       # learning rate\n",
    "    split_ratio::Float64 = 0.1         # train/test split ratio 0.1 => 90/10\n",
    "end\n",
    "file_ISM_Mfc_Emp = \"data/united-states.ism-manufacturing-employment.csv\"\n",
    "file_Markkit_Mfc_PMI = \"data/united-states.markit-manufacturing-pmi.csv\""
   ]
  },
  {
   "cell_type": "markdown",
   "metadata": {},
   "source": [
    "# Load  Data\n",
    "\n",
    "\n",
    "\n",
    "## Define Fetch Data function\n",
    "\n",
    "In the future I expect to have large data sets that are too big for GitHub,\n",
    "so I am planning for the separate downlod location i.e. Google Drive, etc."
   ]
  },
  {
   "cell_type": "code",
   "execution_count": null,
   "metadata": {},
   "outputs": [],
   "source": [
    "function fetch_data(file_path)\n",
    "    isfile(file_path) || # does file exist locally?\n",
    "        download( string(\"https://raw.githubusercontent.com/UkiDLucas/MarketIndicators.jl/master/\", file_path), # URL\n",
    "        file_path) # save it as name\n",
    "    \n",
    "    return readdlm(file_path)\n",
    "end"
   ]
  },
  {
   "cell_type": "markdown",
   "metadata": {},
   "source": [
    "## ISM Manufacturing Employment"
   ]
  },
  {
   "cell_type": "code",
   "execution_count": 40,
   "metadata": {},
   "outputs": [
    {
     "data": {
      "text/plain": [
       "83×4 Array{Any,2}:\n",
       " \"Date\"          \"ActualValue\"    \"ForecastValue\"    \"PreviousValue\"\n",
       " \"2020.08.03\"  44.3             34.4               42.1\n",
       " \"2020.07.01\"  42.1             38.1               32.1\n",
       " \"2020.06.01\"  32.1             34.1               27.5\n",
       " \"2020.05.01\"  27.5             44.8               43.8\n",
       " \"2020.04.01\"  43.8             45.4               46.9\n",
       " \"2020.03.02\"  46.9             43.9               46.6\n",
       " \"2020.02.03\"  46.6             43.3               45.2\n",
       " \"2020.01.03\"  45.1             53.5               46.6\n",
       " \"2019.12.02\"  46.6             54.3               47.7\n",
       " \"2019.11.01\"  47.7             54.7               46.3\n",
       " \"2019.10.01\"  46.3             55.3               47.4\n",
       " \"2019.09.03\"  47.4             56.0               51.7\n",
       " ⋮                                                 \n",
       " \"2014.10.01\"  54.6             58.1                 \"\"\n",
       " \"2014.09.02\"  58.1             58.2                 \"\"\n",
       " \"2014.08.01\"  58.2             52.8                 \"\"\n",
       " \"2014.07.01\"  52.8             52.8                 \"\"\n",
       " \"2014.06.02\"  52.8             54.7                 \"\"\n",
       " \"2014.05.01\"  54.7             51.1                 \"\"\n",
       " \"2014.04.01\"  51.1             52.3                 \"\"\n",
       " \"2014.03.03\"  52.3             52.3                 \"\"\n",
       " \"2014.02.03\"  52.3             56.9                 \"\"\n",
       " \"2014.01.02\"  56.9             56.5                 \"\"\n",
       " \"2013.12.02\"  56.5             53.2                 \"\"\n",
       " \"2013.11.01\"  53.2               \"\"                 \"\""
      ]
     },
     "execution_count": 40,
     "metadata": {},
     "output_type": "execute_result"
    }
   ],
   "source": [
    "data_ISM_Mfc_Emp = fetch_data(file_ISM_Mfc_Emp)"
   ]
  },
  {
   "cell_type": "markdown",
   "metadata": {},
   "source": [
    "## Markit - Manufacturing PMI"
   ]
  },
  {
   "cell_type": "code",
   "execution_count": 38,
   "metadata": {},
   "outputs": [
    {
     "data": {
      "text/plain": [
       "201×4 Array{Any,2}:\n",
       " \"Date\"          \"ActualValue\"    \"ForecastValue\"    \"PreviousValue\"\n",
       " \"2020.08.21\"  53.6             51.1               50.9\n",
       " \"2020.08.03\"  50.9             51.3               51.3\n",
       " \"2020.07.24\"  51.3             49.7               49.8\n",
       " \"2020.07.01\"  49.8             49.6               49.6\n",
       " \"2020.06.23\"  49.6             42.3               39.8\n",
       " \"2020.06.01\"  39.8             39.8               39.8\n",
       " \"2020.05.21\"  39.8             37.9               36.1\n",
       " \"2020.05.01\"  36.1             36.9               36.9\n",
       " \"2020.04.23\"  36.9             47.5               48.5\n",
       " \"2020.04.01\"  48.5             49.2               49.2\n",
       " \"2020.03.24\"  49.2             50.5               50.7\n",
       " \"2020.03.02\"  50.7             50.8               50.8\n",
       " ⋮                                                 \n",
       " \"2012.10.24\"  51.3             51.1                 \"\"\n",
       " \"2012.10.01\"  51.1             51.5                 \"\"\n",
       " \"2012.09.20\"  51.5             51.5                 \"\"\n",
       " \"2012.09.04\"  51.5             51.9                 \"\"\n",
       " \"2012.08.23\"  51.9             51.4                 \"\"\n",
       " \"2012.08.01\"  51.4             51.8                 \"\"\n",
       " \"2012.07.24\"  51.8             52.5                 \"\"\n",
       " \"2012.07.02\"  52.5             52.9                 \"\"\n",
       " \"2012.06.21\"  52.9             54.0                 \"\"\n",
       " \"2012.06.01\"  54.0             53.9                 \"\"\n",
       " \"2012.05.24\"  53.9             56.0                 \"\"\n",
       " \"2012.04.25\"  56.0               \"\"                 \"\""
      ]
     },
     "execution_count": 38,
     "metadata": {},
     "output_type": "execute_result"
    }
   ],
   "source": [
    "fetch_data(file_Markkit_Mfc_PMI)"
   ]
  },
  {
   "cell_type": "code",
   "execution_count": 39,
   "metadata": {},
   "outputs": [],
   "source": [
    "# rotate the matrix (switch columns to rows) - does not work on DataFrame)\n",
    "# data = data' "
   ]
  },
  {
   "cell_type": "markdown",
   "metadata": {},
   "source": [
    "# Extract Data"
   ]
  },
  {
   "cell_type": "markdown",
   "metadata": {},
   "source": [
    "## Extract Independent Variables (i.e. features)"
   ]
  },
  {
   "cell_type": "code",
   "execution_count": 5,
   "metadata": {},
   "outputs": [
    {
     "ename": "BoundsError",
     "evalue": "BoundsError: attempt to access 4×83 LinearAlgebra.Adjoint{Any,Array{Any,2}} at index [1:13, Base.Slice(Base.OneTo(83))]",
     "output_type": "error",
     "traceback": [
      "BoundsError: attempt to access 4×83 LinearAlgebra.Adjoint{Any,Array{Any,2}} at index [1:13, Base.Slice(Base.OneTo(83))]",
      "",
      "Stacktrace:",
      " [1] throw_boundserror(::LinearAlgebra.Adjoint{Any,Array{Any,2}}, ::Tuple{UnitRange{Int64},Base.Slice{Base.OneTo{Int64}}}) at ./abstractarray.jl:537",
      " [2] checkbounds at ./abstractarray.jl:502 [inlined]",
      " [3] _getindex at ./multidimensional.jl:726 [inlined]",
      " [4] getindex(::LinearAlgebra.Adjoint{Any,Array{Any,2}}, ::UnitRange{Int64}, ::Function) at ./abstractarray.jl:980",
      " [5] top-level scope at In[5]:1"
     ]
    }
   ],
   "source": [
    "x = rawdata[1:13,:]     # independent variables: all rows before last"
   ]
  },
  {
   "cell_type": "markdown",
   "metadata": {},
   "source": [
    "## Extract Dependent Variable (i.e. price)"
   ]
  },
  {
   "cell_type": "code",
   "execution_count": 6,
   "metadata": {},
   "outputs": [
    {
     "ename": "BoundsError",
     "evalue": "BoundsError: attempt to access 4×83 LinearAlgebra.Adjoint{Any,Array{Any,2}} at index [14:14, Base.Slice(Base.OneTo(83))]",
     "output_type": "error",
     "traceback": [
      "BoundsError: attempt to access 4×83 LinearAlgebra.Adjoint{Any,Array{Any,2}} at index [14:14, Base.Slice(Base.OneTo(83))]",
      "",
      "Stacktrace:",
      " [1] throw_boundserror(::LinearAlgebra.Adjoint{Any,Array{Any,2}}, ::Tuple{UnitRange{Int64},Base.Slice{Base.OneTo{Int64}}}) at ./abstractarray.jl:537",
      " [2] checkbounds at ./abstractarray.jl:502 [inlined]",
      " [3] _getindex at ./multidimensional.jl:726 [inlined]",
      " [4] getindex(::LinearAlgebra.Adjoint{Any,Array{Any,2}}, ::UnitRange{Int64}, ::Function) at ./abstractarray.jl:980",
      " [5] top-level scope at In[6]:1"
     ]
    }
   ],
   "source": [
    "y = rawdata[14:14,:]          # Dependent Variable (price) last ROW"
   ]
  },
  {
   "cell_type": "markdown",
   "metadata": {},
   "source": [
    "# Normalize the data"
   ]
  },
  {
   "cell_type": "markdown",
   "metadata": {},
   "source": [
    "## Show mean() values \n",
    "\n",
    "Calculate mean values for each feature in the 2-dimentional matrix."
   ]
  },
  {
   "cell_type": "code",
   "execution_count": 7,
   "metadata": {},
   "outputs": [
    {
     "ename": "UndefVarError",
     "evalue": "UndefVarError: x not defined",
     "output_type": "error",
     "traceback": [
      "UndefVarError: x not defined",
      "",
      "Stacktrace:",
      " [1] top-level scope at In[7]:1"
     ]
    }
   ],
   "source": [
    "mean(x, dims = 2)"
   ]
  },
  {
   "cell_type": "markdown",
   "metadata": {},
   "source": [
    "## Show std() values \n",
    "\n",
    "Calculate sample standard deviation (STD).\n",
    "\n",
    "- https://docs.julialang.org/en/v1/stdlib/Statistics/"
   ]
  },
  {
   "cell_type": "code",
   "execution_count": 8,
   "metadata": {},
   "outputs": [
    {
     "ename": "UndefVarError",
     "evalue": "UndefVarError: x not defined",
     "output_type": "error",
     "traceback": [
      "UndefVarError: x not defined",
      "",
      "Stacktrace:",
      " [1] top-level scope at In[8]:1"
     ]
    }
   ],
   "source": [
    "std(x, dims = 2) "
   ]
  },
  {
   "cell_type": "markdown",
   "metadata": {},
   "source": [
    "## Normalize the independent variables"
   ]
  },
  {
   "cell_type": "code",
   "execution_count": 9,
   "metadata": {},
   "outputs": [
    {
     "ename": "UndefVarError",
     "evalue": "UndefVarError: x not defined",
     "output_type": "error",
     "traceback": [
      "UndefVarError: x not defined",
      "",
      "Stacktrace:",
      " [1] top-level scope at In[9]:1"
     ]
    }
   ],
   "source": [
    "x = (x .- mean(x, dims = 2)) ./ std(x, dims = 2) # math on 13× Arrays"
   ]
  },
  {
   "cell_type": "code",
   "execution_count": 10,
   "metadata": {},
   "outputs": [
    {
     "ename": "UndefVarError",
     "evalue": "UndefVarError: x not defined",
     "output_type": "error",
     "traceback": [
      "UndefVarError: x not defined",
      "",
      "Stacktrace:",
      " [1] top-level scope at In[10]:1"
     ]
    }
   ],
   "source": [
    "records = size(x,2) # number of columns"
   ]
  },
  {
   "cell_type": "code",
   "execution_count": 11,
   "metadata": {},
   "outputs": [
    {
     "data": {
      "text/plain": [
       "Hyperparams\n",
       "  learning_rate: Float64 0.1\n",
       "  split_ratio: Float64 0.1\n"
      ]
     },
     "execution_count": 11,
     "metadata": {},
     "output_type": "execute_result"
    }
   ],
   "source": [
    "args = Hyperparams()"
   ]
  },
  {
   "cell_type": "code",
   "execution_count": 12,
   "metadata": {},
   "outputs": [
    {
     "ename": "UndefVarError",
     "evalue": "UndefVarError: records not defined",
     "output_type": "error",
     "traceback": [
      "UndefVarError: records not defined",
      "",
      "Stacktrace:",
      " [1] top-level scope at In[12]:2"
     ]
    }
   ],
   "source": [
    "split_ratio = args.split_ratio\n",
    "\n",
    "split_index = floor(Int, records * split_ratio)"
   ]
  },
  {
   "cell_type": "code",
   "execution_count": 13,
   "metadata": {},
   "outputs": [
    {
     "ename": "UndefVarError",
     "evalue": "UndefVarError: split_index not defined",
     "output_type": "error",
     "traceback": [
      "UndefVarError: split_index not defined",
      "",
      "Stacktrace:",
      " [1] top-level scope at In[13]:1"
     ]
    }
   ],
   "source": [
    "x_train = x[:,1:split_index]           # training features\n",
    "y_train = y[:,1:split_index]           # training results\n",
    "x_test = x[:,split_index+1:records]  # testing features\n",
    "y_test = y[:,split_index+1:records]  # testing results"
   ]
  },
  {
   "cell_type": "code",
   "execution_count": 14,
   "metadata": {},
   "outputs": [
    {
     "ename": "UndefVarError",
     "evalue": "UndefVarError: x_train not defined",
     "output_type": "error",
     "traceback": [
      "UndefVarError: x_train not defined",
      "",
      "Stacktrace:",
      " [1] top-level scope at In[14]:1"
     ]
    }
   ],
   "source": [
    "train_data = (x_train, y_train) # tuples\n",
    "test_data = (x_test, y_test)\n",
    "size(test_data[1])"
   ]
  },
  {
   "cell_type": "code",
   "execution_count": 15,
   "metadata": {},
   "outputs": [
    {
     "data": {
      "text/plain": [
       "get_processed_data (generic function with 1 method)"
      ]
     },
     "execution_count": 15,
     "metadata": {},
     "output_type": "execute_result"
    }
   ],
   "source": [
    "function get_processed_data(args) # expects struct Hyperparams\n",
    "\n",
    "    isfile(\"housing.data\") ||\n",
    "        download(\n",
    "            \"https://raw.githubusercontent.com/MikeInnes/notebooks/master/housing.data\",\n",
    "            \"housing.data\")\n",
    "\n",
    "    rawdata = readdlm(\"housing.data\")'\n",
    "\n",
    "    # The last feature is our target -- the price of the house.\n",
    "    split_ratio = args.split_ratio # For the train/test split\n",
    "\n",
    "    x = rawdata[1:13,:]\n",
    "    y = rawdata[14:14,:]\n",
    "\n",
    "    # Normalise the data\n",
    "    x = (x .- mean(x, dims = 2)) ./ std(x, dims = 2)\n",
    "\n",
    "    # Split into train and test sets\n",
    "    split_index = floor(Int,size(x,2)*split_ratio)\n",
    "    x_train = x[:,1:split_index]\n",
    "    y_train = y[:,1:split_index]\n",
    "    x_test = x[:,split_index+1:size(x,2)]\n",
    "    y_test = y[:,split_index+1:size(x,2)]\n",
    "\n",
    "    train_data = (x_train, y_train)\n",
    "    test_data = (x_test, y_test)\n",
    "\n",
    "    return train_data,test_data\n",
    "end"
   ]
  },
  {
   "cell_type": "code",
   "execution_count": 16,
   "metadata": {},
   "outputs": [],
   "source": [
    "# Struct to define model\n",
    "mutable struct model\n",
    "    W::AbstractArray\n",
    "    b::AbstractVector\n",
    "end"
   ]
  },
  {
   "cell_type": "code",
   "execution_count": 17,
   "metadata": {},
   "outputs": [
    {
     "data": {
      "text/plain": [
       "predict (generic function with 1 method)"
      ]
     },
     "execution_count": 17,
     "metadata": {},
     "output_type": "execute_result"
    }
   ],
   "source": [
    "# Function to predict output from given parameters\n",
    "\n",
    "predict(x, m) = m.W*x .+ m.b"
   ]
  },
  {
   "cell_type": "markdown",
   "metadata": {},
   "source": [
    "# Mean Squared Error (MSE)\n",
    "\n",
    "<center><span style=\"font-size:x-large;\" >$ MSE = \\sum \\limits _{i=1} ^{n} {   \\frac{(ŷ_i - y)^2}{n} }$</span></center>"
   ]
  },
  {
   "cell_type": "code",
   "execution_count": 18,
   "metadata": {},
   "outputs": [
    {
     "ename": "UndefVarError",
     "evalue": "UndefVarError: y not defined",
     "output_type": "error",
     "traceback": [
      "UndefVarError: y not defined",
      "",
      "Stacktrace:",
      " [1] top-level scope at In[18]:1"
     ]
    }
   ],
   "source": [
    "n = size(y, 2) # e.g. 505 columns\n",
    "\n",
    "# Mean Squared Error\n",
    "meansquarederror(ŷ, y) = sum((ŷ .- y).^2)/n"
   ]
  },
  {
   "cell_type": "code",
   "execution_count": 19,
   "metadata": {},
   "outputs": [
    {
     "data": {
      "text/plain": [
       "train (generic function with 1 method)"
      ]
     },
     "execution_count": 19,
     "metadata": {},
     "output_type": "execute_result"
    }
   ],
   "source": [
    "function train(; kws...)\n",
    "    # Initialize the Hyperparamters\n",
    "    args = Hyperparams(; kws...)\n",
    "    \n",
    "    # Load the data\n",
    "    (x_train,y_train),(x_test,y_test) = get_processed_data(args)\n",
    "    \n",
    "    test_data = (x_test,y_test)\n",
    "    \n",
    "    # The model\n",
    "    m = model((randn(1,13)),[0.])\n",
    "    \n",
    "    loss(x, y) = meansquarederror(predict(x, m), y)\n",
    "\n",
    "    ## Training\n",
    "    η = args.learning_rate\n",
    "    θ = params([m.W, m.b])\n",
    "\n",
    "    for i = 1:1000\n",
    "      g = gradient(() -> loss(x_train, y_train), θ)\n",
    "      for x in θ\n",
    "        update!(x, -g[x]*η)\n",
    "      end\n",
    "      if i%100==0\n",
    "          @show loss(x_train, y_train)\n",
    "        end\n",
    "    end\n",
    "    \n",
    "    # Predict the RMSE on the test set\n",
    "    err = meansquarederror(predict(x_test, m),y_test)\n",
    "    println(\"error: \", err)\n",
    "    return m , test_data# model\n",
    "end"
   ]
  },
  {
   "cell_type": "code",
   "execution_count": 20,
   "metadata": {},
   "outputs": [
    {
     "ename": "UndefVarError",
     "evalue": "UndefVarError: meansquarederror not defined",
     "output_type": "error",
     "traceback": [
      "UndefVarError: meansquarederror not defined",
      "",
      "Stacktrace:",
      " [1] getindex at ./tuple.jl:24 [inlined]",
      " [2] loss at ./In[19]:13 [inlined]",
      " [3] _pullback(::Zygote.Context, ::var\"#loss#8\"{model}, ::Array{Float64,2}, ::Array{Float64,2}) at /Users/uki/.julia/packages/Zygote/seGHk/src/compiler/interface2.jl:0",
      " [4] #7 at ./In[19]:20 [inlined]",
      " [5] _pullback(::Zygote.Context, ::var\"#7#9\"{Array{Float64,2},Array{Float64,2},var\"#loss#8\"{model}}) at /Users/uki/.julia/packages/Zygote/seGHk/src/compiler/interface2.jl:0",
      " [6] pullback(::Function, ::Zygote.Params) at /Users/uki/.julia/packages/Zygote/seGHk/src/compiler/interface.jl:172",
      " [7] gradient(::Function, ::Zygote.Params) at /Users/uki/.julia/packages/Zygote/seGHk/src/compiler/interface.jl:53",
      " [8] train(; kws::Base.Iterators.Pairs{Union{},Union{},Tuple{},NamedTuple{(),Tuple{}}}) at ./In[19]:20",
      " [9] train() at ./In[19]:3",
      " [10] top-level scope at In[20]:2"
     ]
    }
   ],
   "source": [
    "cd(@__DIR__)\n",
    "resulting_model, test_data = train()\n",
    "resulting_model.W"
   ]
  },
  {
   "cell_type": "code",
   "execution_count": 21,
   "metadata": {},
   "outputs": [
    {
     "ename": "UndefVarError",
     "evalue": "UndefVarError: resulting_model not defined",
     "output_type": "error",
     "traceback": [
      "UndefVarError: resulting_model not defined",
      "",
      "Stacktrace:",
      " [1] top-level scope at In[21]:1"
     ]
    }
   ],
   "source": [
    "resulting_model.b"
   ]
  },
  {
   "cell_type": "code",
   "execution_count": 22,
   "metadata": {},
   "outputs": [
    {
     "data": {
      "text/plain": [
       "test (generic function with 1 method)"
      ]
     },
     "execution_count": 22,
     "metadata": {},
     "output_type": "execute_result"
    }
   ],
   "source": [
    "function test(model, test)\n",
    "    # Testing model performance on test data \n",
    "    X_test, y_test = test\n",
    "    #accuracy_score = accuracy(X_test, y_test, model)\n",
    "\n",
    "    #println(\"\\nAccuracy: $accuracy_score\")\n",
    "\n",
    "    # Sanity check.\n",
    "    #@assert accuracy_score > 0.8\n",
    "\n",
    "    # To avoid confusion, here is the definition of a Confusion Matrix: https://en.wikipedia.org/wiki/Confusion_matrix\n",
    "    println(\"\\nConfusion Matrix:\\n\")\n",
    "    #display(confusion_matrix(X_test, y_test, model))\n",
    "end"
   ]
  },
  {
   "cell_type": "code",
   "execution_count": 23,
   "metadata": {},
   "outputs": [
    {
     "ename": "UndefVarError",
     "evalue": "UndefVarError: test_data not defined",
     "output_type": "error",
     "traceback": [
      "UndefVarError: test_data not defined",
      "",
      "Stacktrace:",
      " [1] top-level scope at In[23]:1"
     ]
    }
   ],
   "source": [
    "test(model, test_data)\n",
    "features = test_data[1]"
   ]
  },
  {
   "cell_type": "code",
   "execution_count": 24,
   "metadata": {},
   "outputs": [
    {
     "ename": "UndefVarError",
     "evalue": "UndefVarError: features not defined",
     "output_type": "error",
     "traceback": [
      "UndefVarError: features not defined",
      "",
      "Stacktrace:",
      " [1] top-level scope at In[24]:1"
     ]
    }
   ],
   "source": [
    "one_record = features[:,1]"
   ]
  },
  {
   "cell_type": "code",
   "execution_count": 25,
   "metadata": {},
   "outputs": [
    {
     "ename": "UndefVarError",
     "evalue": "UndefVarError: test_data not defined",
     "output_type": "error",
     "traceback": [
      "UndefVarError: test_data not defined",
      "",
      "Stacktrace:",
      " [1] top-level scope at In[25]:1"
     ]
    }
   ],
   "source": [
    "results = test_data[1][1,:]"
   ]
  },
  {
   "cell_type": "code",
   "execution_count": 26,
   "metadata": {},
   "outputs": [
    {
     "ename": "UndefVarError",
     "evalue": "UndefVarError: results not defined",
     "output_type": "error",
     "traceback": [
      "UndefVarError: results not defined",
      "",
      "Stacktrace:",
      " [1] top-level scope at In[26]:1"
     ]
    }
   ],
   "source": [
    "records = size(results)[1]"
   ]
  },
  {
   "cell_type": "code",
   "execution_count": 27,
   "metadata": {},
   "outputs": [
    {
     "data": {
      "text/plain": [
       "get_price (generic function with 1 method)"
      ]
     },
     "execution_count": 27,
     "metadata": {},
     "output_type": "execute_result"
    }
   ],
   "source": [
    "get_price(data, model) = model.W * data .+ model.b"
   ]
  },
  {
   "cell_type": "code",
   "execution_count": 28,
   "metadata": {},
   "outputs": [
    {
     "ename": "UndefVarError",
     "evalue": "UndefVarError: one_record not defined",
     "output_type": "error",
     "traceback": [
      "UndefVarError: one_record not defined",
      "",
      "Stacktrace:",
      " [1] top-level scope at In[28]:1"
     ]
    }
   ],
   "source": [
    "get_price(one_record, resulting_model)"
   ]
  },
  {
   "cell_type": "code",
   "execution_count": 29,
   "metadata": {},
   "outputs": [
    {
     "ename": "UndefVarError",
     "evalue": "UndefVarError: records not defined",
     "output_type": "error",
     "traceback": [
      "UndefVarError: records not defined",
      "",
      "Stacktrace:",
      " [1] top-level scope at ./In[29]:1"
     ]
    }
   ],
   "source": [
    "for i in 1:records # 455\n",
    "    record = features[:,i] # 13-element Array{Float64,1}:\n",
    "    result = get_price(record, resulting_model)\n",
    "    println(i, \" \", result, \" =? \", results[1])\n",
    "end"
   ]
  },
  {
   "cell_type": "code",
   "execution_count": null,
   "metadata": {},
   "outputs": [],
   "source": []
  },
  {
   "cell_type": "code",
   "execution_count": null,
   "metadata": {},
   "outputs": [],
   "source": []
  }
 ],
 "metadata": {
  "kernelspec": {
   "display_name": "Julia 1.4.2",
   "language": "julia",
   "name": "julia-1.4"
  },
  "language_info": {
   "file_extension": ".jl",
   "mimetype": "application/julia",
   "name": "julia",
   "version": "1.4.2"
  },
  "toc": {
   "base_numbering": 1,
   "nav_menu": {},
   "number_sections": true,
   "sideBar": true,
   "skip_h1_title": false,
   "title_cell": "Table of Contents",
   "title_sidebar": "Contents",
   "toc_cell": true,
   "toc_position": {},
   "toc_section_display": true,
   "toc_window_display": true
  }
 },
 "nbformat": 4,
 "nbformat_minor": 4
}
