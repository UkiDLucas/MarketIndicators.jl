{
 "cells": [
  {
   "cell_type": "markdown",
   "metadata": {},
   "source": [
    "# Market prediction using Flux.jl"
   ]
  },
  {
   "cell_type": "markdown",
   "metadata": {
    "toc": true
   },
   "source": [
    "<h1>Table of Contents<span class=\"tocSkip\"></span></h1>\n",
    "<div class=\"toc\"><ul class=\"toc-item\"><li><span><a href=\"#Market-prediction-using-Flux.jl\" data-toc-modified-id=\"Market-prediction-using-Flux.jl-1\"><span class=\"toc-item-num\">1&nbsp;&nbsp;</span>Market prediction using Flux.jl</a></span><ul class=\"toc-item\"><li><span><a href=\"#Libraries-used-in-this-notebook\" data-toc-modified-id=\"Libraries-used-in-this-notebook-1.1\"><span class=\"toc-item-num\">1.1&nbsp;&nbsp;</span>Libraries used in this notebook</a></span></li></ul></li><li><span><a href=\"#Define-Hyperparameters\" data-toc-modified-id=\"Define-Hyperparameters-2\"><span class=\"toc-item-num\">2&nbsp;&nbsp;</span>Define Hyperparameters</a></span></li><li><span><a href=\"#Load--Data\" data-toc-modified-id=\"Load--Data-3\"><span class=\"toc-item-num\">3&nbsp;&nbsp;</span>Load  Data</a></span><ul class=\"toc-item\"><li><span><a href=\"#ISM-Manufacturing-Employment\" data-toc-modified-id=\"ISM-Manufacturing-Employment-3.1\"><span class=\"toc-item-num\">3.1&nbsp;&nbsp;</span>ISM Manufacturing Employment</a></span></li><li><span><a href=\"#Markit---Manufacturing-PMI\" data-toc-modified-id=\"Markit---Manufacturing-PMI-3.2\"><span class=\"toc-item-num\">3.2&nbsp;&nbsp;</span>Markit - Manufacturing PMI</a></span></li></ul></li><li><span><a href=\"#Visualize-the-Data\" data-toc-modified-id=\"Visualize-the-Data-4\"><span class=\"toc-item-num\">4&nbsp;&nbsp;</span>Visualize the Data</a></span><ul class=\"toc-item\"><li><span><a href=\"#Plotting-Data\" data-toc-modified-id=\"Plotting-Data-4.1\"><span class=\"toc-item-num\">4.1&nbsp;&nbsp;</span>Plotting Data</a></span></li></ul></li><li><span><a href=\"#Shift-Employment-by-90-days-back\" data-toc-modified-id=\"Shift-Employment-by-90-days-back-5\"><span class=\"toc-item-num\">5&nbsp;&nbsp;</span>Shift Employment by 90 days back</a></span></li><li><span><a href=\"#Extract-Data\" data-toc-modified-id=\"Extract-Data-6\"><span class=\"toc-item-num\">6&nbsp;&nbsp;</span>Extract Data</a></span><ul class=\"toc-item\"><li><span><a href=\"#Extract-Independent-Variables-(i.e.-features)\" data-toc-modified-id=\"Extract-Independent-Variables-(i.e.-features)-6.1\"><span class=\"toc-item-num\">6.1&nbsp;&nbsp;</span>Extract Independent Variables (i.e. features)</a></span></li><li><span><a href=\"#Extract-Dependent-Variable-(i.e.-price)\" data-toc-modified-id=\"Extract-Dependent-Variable-(i.e.-price)-6.2\"><span class=\"toc-item-num\">6.2&nbsp;&nbsp;</span>Extract Dependent Variable (i.e. price)</a></span></li></ul></li><li><span><a href=\"#Normalize-the-data\" data-toc-modified-id=\"Normalize-the-data-7\"><span class=\"toc-item-num\">7&nbsp;&nbsp;</span>Normalize the data</a></span><ul class=\"toc-item\"><li><span><a href=\"#Show-mean()-values\" data-toc-modified-id=\"Show-mean()-values-7.1\"><span class=\"toc-item-num\">7.1&nbsp;&nbsp;</span>Show mean() values</a></span></li><li><span><a href=\"#Show-std()-values\" data-toc-modified-id=\"Show-std()-values-7.2\"><span class=\"toc-item-num\">7.2&nbsp;&nbsp;</span>Show std() values</a></span></li><li><span><a href=\"#Normalize-the-independent-variables\" data-toc-modified-id=\"Normalize-the-independent-variables-7.3\"><span class=\"toc-item-num\">7.3&nbsp;&nbsp;</span>Normalize the independent variables</a></span></li></ul></li><li><span><a href=\"#Mean-Squared-Error-(MSE)\" data-toc-modified-id=\"Mean-Squared-Error-(MSE)-8\"><span class=\"toc-item-num\">8&nbsp;&nbsp;</span>Mean Squared Error (MSE)</a></span></li></ul></div>"
   ]
  },
  {
   "cell_type": "markdown",
   "metadata": {},
   "source": [
    "## Libraries used in this notebook\n",
    "\n",
    "Uncomment the lines below if you are missing given libraries, or you want to update to the newest version.\n",
    "\n",
    "**Warning:** the updates and required pre-compiling will take a lot of time time."
   ]
  },
  {
   "cell_type": "code",
   "execution_count": 1,
   "metadata": {},
   "outputs": [],
   "source": [
    "# import Pkg; Pkg.add(\"Flux\")\n",
    "using Flux\n",
    "\n",
    "# import Pkg; Pkg.add(\"DelimitedFiles\")\n",
    "using DelimitedFiles\n",
    "\n",
    "# import Pkg; Pkg.add(\"Statistics\")\n",
    "using Statistics\n",
    "\n",
    "# import Pkg; Pkg.add(\"Flux\")\n",
    "using Flux.Optimise: update!\n",
    "\n",
    "# import Pkg; Pkg.add(\"Parameters\")\n",
    "#using Parameters #: @with_kw\n",
    "\n",
    "# import Pkg; Pkg.add(\"Plots\")\n",
    "using Plots\n",
    "\n",
    "# import Pkg; Pkg.add(\"DataFrames\")\n",
    "using DataFrames\n",
    "\n",
    "# import Pkg; Pkg.add(\"CSV\")\n",
    "using CSV\n",
    "\n",
    "# import Pkg; Pkg.add(\"Dates\")\n",
    "using Dates"
   ]
  },
  {
   "cell_type": "code",
   "execution_count": 87,
   "metadata": {},
   "outputs": [
    {
     "name": "stdout",
     "output_type": "stream",
     "text": [
      "Functions available:\n",
      "df = fetch_data(file_path, date_format=\"yyyy-mm-dd\" )\n",
      "df = shift_dates_by_days!(df, shift_days=-1, date_column=1)\n"
     ]
    },
    {
     "data": {
      "text/plain": [
       "shift_dates_by_days! (generic function with 6 methods)"
      ]
     },
     "execution_count": 87,
     "metadata": {},
     "output_type": "execute_result"
    }
   ],
   "source": [
    "# include function that are used in this project\n",
    "include(\"MarketIndicators.jl\")"
   ]
  },
  {
   "cell_type": "code",
   "execution_count": 2,
   "metadata": {},
   "outputs": [
    {
     "name": "stdout",
     "output_type": "stream",
     "text": [
      "Last update: Sep. 3, 2020 07:09\n"
     ]
    }
   ],
   "source": [
    " println( \"Last update: \", Dates.format(Dates.now(), \"u. d, yyyy HH:mm\"))"
   ]
  },
  {
   "cell_type": "markdown",
   "metadata": {},
   "source": [
    "# Define Hyperparameters"
   ]
  },
  {
   "cell_type": "code",
   "execution_count": 6,
   "metadata": {},
   "outputs": [
    {
     "data": {
      "text/plain": [
       "\"data/united-states.markit-manufacturing-pmi.csv\""
      ]
     },
     "execution_count": 6,
     "metadata": {},
     "output_type": "execute_result"
    }
   ],
   "source": [
    "learning_rate = 0.1       # learning rate\n",
    "split_ratio = 0.1         # train/test split ratio 0.1 => 90/10\n",
    "\n",
    "file_ISM_Mfc_Emp = \"data/united-states.ism-manufacturing-employment.csv\"\n",
    "file_Markkit_Mfc_PMI = \"data/united-states.markit-manufacturing-pmi.csv\""
   ]
  },
  {
   "cell_type": "markdown",
   "metadata": {},
   "source": [
    "# Load  Data\n"
   ]
  },
  {
   "cell_type": "markdown",
   "metadata": {},
   "source": [
    "## ISM Manufacturing Employment"
   ]
  },
  {
   "cell_type": "code",
   "execution_count": 13,
   "metadata": {},
   "outputs": [
    {
     "data": {
      "text/html": [
       "<table class=\"data-frame\"><thead><tr><th></th><th>Date</th><th>ActualValue</th><th>ForecastValue</th><th>PreviousValue</th></tr><tr><th></th><th>Date</th><th>Float64</th><th>Float64?</th><th>Float64?</th></tr></thead><tbody><p>82 rows × 4 columns</p><tr><th>1</th><td>2020-08-03</td><td>44.3</td><td>34.4</td><td>42.1</td></tr><tr><th>2</th><td>2020-07-01</td><td>42.1</td><td>38.1</td><td>32.1</td></tr><tr><th>3</th><td>2020-06-01</td><td>32.1</td><td>34.1</td><td>27.5</td></tr><tr><th>4</th><td>2020-05-01</td><td>27.5</td><td>44.8</td><td>43.8</td></tr><tr><th>5</th><td>2020-04-01</td><td>43.8</td><td>45.4</td><td>46.9</td></tr><tr><th>6</th><td>2020-03-02</td><td>46.9</td><td>43.9</td><td>46.6</td></tr><tr><th>7</th><td>2020-02-03</td><td>46.6</td><td>43.3</td><td>45.2</td></tr><tr><th>8</th><td>2020-01-03</td><td>45.1</td><td>53.5</td><td>46.6</td></tr><tr><th>9</th><td>2019-12-02</td><td>46.6</td><td>54.3</td><td>47.7</td></tr><tr><th>10</th><td>2019-11-01</td><td>47.7</td><td>54.7</td><td>46.3</td></tr><tr><th>11</th><td>2019-10-01</td><td>46.3</td><td>55.3</td><td>47.4</td></tr><tr><th>12</th><td>2019-09-03</td><td>47.4</td><td>56.0</td><td>51.7</td></tr><tr><th>13</th><td>2019-08-01</td><td>51.7</td><td>53.7</td><td>54.5</td></tr><tr><th>14</th><td>2019-07-01</td><td>54.5</td><td>54.1</td><td>53.7</td></tr><tr><th>15</th><td>2019-06-03</td><td>53.7</td><td>52.8</td><td>52.4</td></tr><tr><th>16</th><td>2019-05-01</td><td>52.4</td><td>56.7</td><td>57.5</td></tr><tr><th>17</th><td>2019-04-01</td><td>57.5</td><td>57.3</td><td>52.3</td></tr><tr><th>18</th><td>2019-03-01</td><td>52.3</td><td>57.8</td><td>55.5</td></tr><tr><th>19</th><td>2019-02-01</td><td>55.5</td><td>57.5</td><td>56.0</td></tr><tr><th>20</th><td>2019-01-03</td><td>56.2</td><td>58.1</td><td>58.4</td></tr><tr><th>21</th><td>2018-12-03</td><td>58.4</td><td>57.2</td><td>56.8</td></tr><tr><th>22</th><td>2018-11-01</td><td>56.8</td><td>56.9</td><td>58.8</td></tr><tr><th>23</th><td>2018-10-01</td><td>58.8</td><td>56.9</td><td>58.5</td></tr><tr><th>24</th><td>2018-09-04</td><td>58.5</td><td>56.3</td><td>56.5</td></tr><tr><th>25</th><td>2018-08-01</td><td>56.5</td><td>56.2</td><td>56.0</td></tr><tr><th>26</th><td>2018-07-02</td><td>56.0</td><td>55.3</td><td>56.3</td></tr><tr><th>27</th><td>2018-06-01</td><td>56.3</td><td>55.8</td><td>54.2</td></tr><tr><th>28</th><td>2018-05-01</td><td>54.2</td><td>58.6</td><td>57.3</td></tr><tr><th>29</th><td>2018-04-02</td><td>57.3</td><td>57.2</td><td>59.7</td></tr><tr><th>30</th><td>2018-03-01</td><td>59.7</td><td>55.9</td><td>54.2</td></tr><tr><th>&vellip;</th><td>&vellip;</td><td>&vellip;</td><td>&vellip;</td><td>&vellip;</td></tr></tbody></table>"
      ],
      "text/latex": [
       "\\begin{tabular}{r|cccc}\n",
       "\t& Date & ActualValue & ForecastValue & PreviousValue\\\\\n",
       "\t\\hline\n",
       "\t& Date & Float64 & Float64? & Float64?\\\\\n",
       "\t\\hline\n",
       "\t1 & 2020-08-03 & 44.3 & 34.4 & 42.1 \\\\\n",
       "\t2 & 2020-07-01 & 42.1 & 38.1 & 32.1 \\\\\n",
       "\t3 & 2020-06-01 & 32.1 & 34.1 & 27.5 \\\\\n",
       "\t4 & 2020-05-01 & 27.5 & 44.8 & 43.8 \\\\\n",
       "\t5 & 2020-04-01 & 43.8 & 45.4 & 46.9 \\\\\n",
       "\t6 & 2020-03-02 & 46.9 & 43.9 & 46.6 \\\\\n",
       "\t7 & 2020-02-03 & 46.6 & 43.3 & 45.2 \\\\\n",
       "\t8 & 2020-01-03 & 45.1 & 53.5 & 46.6 \\\\\n",
       "\t9 & 2019-12-02 & 46.6 & 54.3 & 47.7 \\\\\n",
       "\t10 & 2019-11-01 & 47.7 & 54.7 & 46.3 \\\\\n",
       "\t11 & 2019-10-01 & 46.3 & 55.3 & 47.4 \\\\\n",
       "\t12 & 2019-09-03 & 47.4 & 56.0 & 51.7 \\\\\n",
       "\t13 & 2019-08-01 & 51.7 & 53.7 & 54.5 \\\\\n",
       "\t14 & 2019-07-01 & 54.5 & 54.1 & 53.7 \\\\\n",
       "\t15 & 2019-06-03 & 53.7 & 52.8 & 52.4 \\\\\n",
       "\t16 & 2019-05-01 & 52.4 & 56.7 & 57.5 \\\\\n",
       "\t17 & 2019-04-01 & 57.5 & 57.3 & 52.3 \\\\\n",
       "\t18 & 2019-03-01 & 52.3 & 57.8 & 55.5 \\\\\n",
       "\t19 & 2019-02-01 & 55.5 & 57.5 & 56.0 \\\\\n",
       "\t20 & 2019-01-03 & 56.2 & 58.1 & 58.4 \\\\\n",
       "\t21 & 2018-12-03 & 58.4 & 57.2 & 56.8 \\\\\n",
       "\t22 & 2018-11-01 & 56.8 & 56.9 & 58.8 \\\\\n",
       "\t23 & 2018-10-01 & 58.8 & 56.9 & 58.5 \\\\\n",
       "\t24 & 2018-09-04 & 58.5 & 56.3 & 56.5 \\\\\n",
       "\t25 & 2018-08-01 & 56.5 & 56.2 & 56.0 \\\\\n",
       "\t26 & 2018-07-02 & 56.0 & 55.3 & 56.3 \\\\\n",
       "\t27 & 2018-06-01 & 56.3 & 55.8 & 54.2 \\\\\n",
       "\t28 & 2018-05-01 & 54.2 & 58.6 & 57.3 \\\\\n",
       "\t29 & 2018-04-02 & 57.3 & 57.2 & 59.7 \\\\\n",
       "\t30 & 2018-03-01 & 59.7 & 55.9 & 54.2 \\\\\n",
       "\t$\\dots$ & $\\dots$ & $\\dots$ & $\\dots$ & $\\dots$ \\\\\n",
       "\\end{tabular}\n"
      ],
      "text/plain": [
       "82×4 DataFrame\n",
       "│ Row │ Date       │ ActualValue │ ForecastValue │ PreviousValue │\n",
       "│     │ \u001b[90mDate\u001b[39m       │ \u001b[90mFloat64\u001b[39m     │ \u001b[90mFloat64?\u001b[39m      │ \u001b[90mFloat64?\u001b[39m      │\n",
       "├─────┼────────────┼─────────────┼───────────────┼───────────────┤\n",
       "│ 1   │ 2020-08-03 │ 44.3        │ 34.4          │ 42.1          │\n",
       "│ 2   │ 2020-07-01 │ 42.1        │ 38.1          │ 32.1          │\n",
       "│ 3   │ 2020-06-01 │ 32.1        │ 34.1          │ 27.5          │\n",
       "│ 4   │ 2020-05-01 │ 27.5        │ 44.8          │ 43.8          │\n",
       "│ 5   │ 2020-04-01 │ 43.8        │ 45.4          │ 46.9          │\n",
       "│ 6   │ 2020-03-02 │ 46.9        │ 43.9          │ 46.6          │\n",
       "│ 7   │ 2020-02-03 │ 46.6        │ 43.3          │ 45.2          │\n",
       "│ 8   │ 2020-01-03 │ 45.1        │ 53.5          │ 46.6          │\n",
       "│ 9   │ 2019-12-02 │ 46.6        │ 54.3          │ 47.7          │\n",
       "│ 10  │ 2019-11-01 │ 47.7        │ 54.7          │ 46.3          │\n",
       "⋮\n",
       "│ 72  │ 2014-09-02 │ 58.1        │ \u001b[90mmissing\u001b[39m       │ 58.2          │\n",
       "│ 73  │ 2014-08-01 │ 58.2        │ \u001b[90mmissing\u001b[39m       │ 52.8          │\n",
       "│ 74  │ 2014-07-01 │ 52.8        │ \u001b[90mmissing\u001b[39m       │ 52.8          │\n",
       "│ 75  │ 2014-06-02 │ 52.8        │ \u001b[90mmissing\u001b[39m       │ 54.7          │\n",
       "│ 76  │ 2014-05-01 │ 54.7        │ \u001b[90mmissing\u001b[39m       │ 51.1          │\n",
       "│ 77  │ 2014-04-01 │ 51.1        │ \u001b[90mmissing\u001b[39m       │ 52.3          │\n",
       "│ 78  │ 2014-03-03 │ 52.3        │ \u001b[90mmissing\u001b[39m       │ 52.3          │\n",
       "│ 79  │ 2014-02-03 │ 52.3        │ \u001b[90mmissing\u001b[39m       │ 56.9          │\n",
       "│ 80  │ 2014-01-02 │ 56.9        │ \u001b[90mmissing\u001b[39m       │ 56.5          │\n",
       "│ 81  │ 2013-12-02 │ 56.5        │ \u001b[90mmissing\u001b[39m       │ 53.2          │\n",
       "│ 82  │ 2013-11-01 │ 53.2        │ \u001b[90mmissing\u001b[39m       │ \u001b[90mmissing\u001b[39m       │"
      ]
     },
     "execution_count": 13,
     "metadata": {},
     "output_type": "execute_result"
    }
   ],
   "source": [
    "df_ISM_Mfc_Emp = fetch_data(file_ISM_Mfc_Emp, \"yyyy.mm.dd\")"
   ]
  },
  {
   "cell_type": "markdown",
   "metadata": {},
   "source": [
    "## Markit - Manufacturing PMI"
   ]
  },
  {
   "cell_type": "code",
   "execution_count": 15,
   "metadata": {},
   "outputs": [
    {
     "data": {
      "text/html": [
       "<table class=\"data-frame\"><thead><tr><th></th><th>Date</th><th>ActualValue</th><th>ForecastValue</th><th>PreviousValue</th></tr><tr><th></th><th>Date</th><th>Float64</th><th>Float64?</th><th>Float64?</th></tr></thead><tbody><p>200 rows × 4 columns</p><tr><th>1</th><td>2020-08-21</td><td>53.6</td><td>51.1</td><td>50.9</td></tr><tr><th>2</th><td>2020-08-03</td><td>50.9</td><td>51.3</td><td>51.3</td></tr><tr><th>3</th><td>2020-07-24</td><td>51.3</td><td>49.7</td><td>49.8</td></tr><tr><th>4</th><td>2020-07-01</td><td>49.8</td><td>49.6</td><td>49.6</td></tr><tr><th>5</th><td>2020-06-23</td><td>49.6</td><td>42.3</td><td>39.8</td></tr><tr><th>6</th><td>2020-06-01</td><td>39.8</td><td>39.8</td><td>39.8</td></tr><tr><th>7</th><td>2020-05-21</td><td>39.8</td><td>37.9</td><td>36.1</td></tr><tr><th>8</th><td>2020-05-01</td><td>36.1</td><td>36.9</td><td>36.9</td></tr><tr><th>9</th><td>2020-04-23</td><td>36.9</td><td>47.5</td><td>48.5</td></tr><tr><th>10</th><td>2020-04-01</td><td>48.5</td><td>49.2</td><td>49.2</td></tr><tr><th>11</th><td>2020-03-24</td><td>49.2</td><td>50.5</td><td>50.7</td></tr><tr><th>12</th><td>2020-03-02</td><td>50.7</td><td>50.8</td><td>50.8</td></tr><tr><th>13</th><td>2020-02-21</td><td>50.8</td><td>50.9</td><td>51.9</td></tr><tr><th>14</th><td>2020-02-03</td><td>51.9</td><td>51.7</td><td>51.7</td></tr><tr><th>15</th><td>2020-01-24</td><td>51.7</td><td>52.3</td><td>52.4</td></tr><tr><th>16</th><td>2020-01-02</td><td>52.4</td><td>52.5</td><td>52.5</td></tr><tr><th>17</th><td>2019-12-16</td><td>52.5</td><td>52.4</td><td>52.6</td></tr><tr><th>18</th><td>2019-12-02</td><td>52.6</td><td>52.2</td><td>52.2</td></tr><tr><th>19</th><td>2019-11-22</td><td>52.2</td><td>51.4</td><td>51.3</td></tr><tr><th>20</th><td>2019-11-01</td><td>51.3</td><td>51.5</td><td>51.5</td></tr><tr><th>21</th><td>2019-10-24</td><td>51.5</td><td>51.0</td><td>51.1</td></tr><tr><th>22</th><td>2019-10-01</td><td>51.1</td><td>51.0</td><td>51.0</td></tr><tr><th>23</th><td>2019-09-23</td><td>51.0</td><td>50.4</td><td>50.3</td></tr><tr><th>24</th><td>2019-09-03</td><td>50.3</td><td>49.9</td><td>49.9</td></tr><tr><th>25</th><td>2019-08-22</td><td>49.9</td><td>50.2</td><td>50.4</td></tr><tr><th>26</th><td>2019-08-01</td><td>50.4</td><td>50.0</td><td>50.0</td></tr><tr><th>27</th><td>2019-07-24</td><td>50.0</td><td>50.3</td><td>50.6</td></tr><tr><th>28</th><td>2019-07-01</td><td>50.6</td><td>50.1</td><td>50.1</td></tr><tr><th>29</th><td>2019-06-21</td><td>50.1</td><td>51.0</td><td>50.5</td></tr><tr><th>30</th><td>2019-06-03</td><td>50.5</td><td>50.6</td><td>50.6</td></tr><tr><th>&vellip;</th><td>&vellip;</td><td>&vellip;</td><td>&vellip;</td><td>&vellip;</td></tr></tbody></table>"
      ],
      "text/latex": [
       "\\begin{tabular}{r|cccc}\n",
       "\t& Date & ActualValue & ForecastValue & PreviousValue\\\\\n",
       "\t\\hline\n",
       "\t& Date & Float64 & Float64? & Float64?\\\\\n",
       "\t\\hline\n",
       "\t1 & 2020-08-21 & 53.6 & 51.1 & 50.9 \\\\\n",
       "\t2 & 2020-08-03 & 50.9 & 51.3 & 51.3 \\\\\n",
       "\t3 & 2020-07-24 & 51.3 & 49.7 & 49.8 \\\\\n",
       "\t4 & 2020-07-01 & 49.8 & 49.6 & 49.6 \\\\\n",
       "\t5 & 2020-06-23 & 49.6 & 42.3 & 39.8 \\\\\n",
       "\t6 & 2020-06-01 & 39.8 & 39.8 & 39.8 \\\\\n",
       "\t7 & 2020-05-21 & 39.8 & 37.9 & 36.1 \\\\\n",
       "\t8 & 2020-05-01 & 36.1 & 36.9 & 36.9 \\\\\n",
       "\t9 & 2020-04-23 & 36.9 & 47.5 & 48.5 \\\\\n",
       "\t10 & 2020-04-01 & 48.5 & 49.2 & 49.2 \\\\\n",
       "\t11 & 2020-03-24 & 49.2 & 50.5 & 50.7 \\\\\n",
       "\t12 & 2020-03-02 & 50.7 & 50.8 & 50.8 \\\\\n",
       "\t13 & 2020-02-21 & 50.8 & 50.9 & 51.9 \\\\\n",
       "\t14 & 2020-02-03 & 51.9 & 51.7 & 51.7 \\\\\n",
       "\t15 & 2020-01-24 & 51.7 & 52.3 & 52.4 \\\\\n",
       "\t16 & 2020-01-02 & 52.4 & 52.5 & 52.5 \\\\\n",
       "\t17 & 2019-12-16 & 52.5 & 52.4 & 52.6 \\\\\n",
       "\t18 & 2019-12-02 & 52.6 & 52.2 & 52.2 \\\\\n",
       "\t19 & 2019-11-22 & 52.2 & 51.4 & 51.3 \\\\\n",
       "\t20 & 2019-11-01 & 51.3 & 51.5 & 51.5 \\\\\n",
       "\t21 & 2019-10-24 & 51.5 & 51.0 & 51.1 \\\\\n",
       "\t22 & 2019-10-01 & 51.1 & 51.0 & 51.0 \\\\\n",
       "\t23 & 2019-09-23 & 51.0 & 50.4 & 50.3 \\\\\n",
       "\t24 & 2019-09-03 & 50.3 & 49.9 & 49.9 \\\\\n",
       "\t25 & 2019-08-22 & 49.9 & 50.2 & 50.4 \\\\\n",
       "\t26 & 2019-08-01 & 50.4 & 50.0 & 50.0 \\\\\n",
       "\t27 & 2019-07-24 & 50.0 & 50.3 & 50.6 \\\\\n",
       "\t28 & 2019-07-01 & 50.6 & 50.1 & 50.1 \\\\\n",
       "\t29 & 2019-06-21 & 50.1 & 51.0 & 50.5 \\\\\n",
       "\t30 & 2019-06-03 & 50.5 & 50.6 & 50.6 \\\\\n",
       "\t$\\dots$ & $\\dots$ & $\\dots$ & $\\dots$ & $\\dots$ \\\\\n",
       "\\end{tabular}\n"
      ],
      "text/plain": [
       "200×4 DataFrame\n",
       "│ Row │ Date       │ ActualValue │ ForecastValue │ PreviousValue │\n",
       "│     │ \u001b[90mDate\u001b[39m       │ \u001b[90mFloat64\u001b[39m     │ \u001b[90mFloat64?\u001b[39m      │ \u001b[90mFloat64?\u001b[39m      │\n",
       "├─────┼────────────┼─────────────┼───────────────┼───────────────┤\n",
       "│ 1   │ 2020-08-21 │ 53.6        │ 51.1          │ 50.9          │\n",
       "│ 2   │ 2020-08-03 │ 50.9        │ 51.3          │ 51.3          │\n",
       "│ 3   │ 2020-07-24 │ 51.3        │ 49.7          │ 49.8          │\n",
       "│ 4   │ 2020-07-01 │ 49.8        │ 49.6          │ 49.6          │\n",
       "│ 5   │ 2020-06-23 │ 49.6        │ 42.3          │ 39.8          │\n",
       "│ 6   │ 2020-06-01 │ 39.8        │ 39.8          │ 39.8          │\n",
       "│ 7   │ 2020-05-21 │ 39.8        │ 37.9          │ 36.1          │\n",
       "│ 8   │ 2020-05-01 │ 36.1        │ 36.9          │ 36.9          │\n",
       "│ 9   │ 2020-04-23 │ 36.9        │ 47.5          │ 48.5          │\n",
       "│ 10  │ 2020-04-01 │ 48.5        │ 49.2          │ 49.2          │\n",
       "⋮\n",
       "│ 190 │ 2012-10-01 │ 51.1        │ \u001b[90mmissing\u001b[39m       │ 51.5          │\n",
       "│ 191 │ 2012-09-20 │ 51.5        │ \u001b[90mmissing\u001b[39m       │ 51.5          │\n",
       "│ 192 │ 2012-09-04 │ 51.5        │ \u001b[90mmissing\u001b[39m       │ 51.9          │\n",
       "│ 193 │ 2012-08-23 │ 51.9        │ \u001b[90mmissing\u001b[39m       │ 51.4          │\n",
       "│ 194 │ 2012-08-01 │ 51.4        │ \u001b[90mmissing\u001b[39m       │ 51.8          │\n",
       "│ 195 │ 2012-07-24 │ 51.8        │ \u001b[90mmissing\u001b[39m       │ 52.5          │\n",
       "│ 196 │ 2012-07-02 │ 52.5        │ \u001b[90mmissing\u001b[39m       │ 52.9          │\n",
       "│ 197 │ 2012-06-21 │ 52.9        │ \u001b[90mmissing\u001b[39m       │ 54.0          │\n",
       "│ 198 │ 2012-06-01 │ 54.0        │ \u001b[90mmissing\u001b[39m       │ 53.9          │\n",
       "│ 199 │ 2012-05-24 │ 53.9        │ \u001b[90mmissing\u001b[39m       │ 56.0          │\n",
       "│ 200 │ 2012-04-25 │ 56.0        │ \u001b[90mmissing\u001b[39m       │ \u001b[90mmissing\u001b[39m       │"
      ]
     },
     "execution_count": 15,
     "metadata": {},
     "output_type": "execute_result"
    }
   ],
   "source": [
    "df_Markkit_Mfc_PMI = fetch_data(file_Markkit_Mfc_PMI, \"yyyy.mm.dd\")"
   ]
  },
  {
   "cell_type": "markdown",
   "metadata": {},
   "source": [
    "# Visualize the Data\n",
    "\n",
    "Visualization of the data is important to identify:\n",
    "- possible correlations (patterns)\n",
    "- missing data (e.g. before certain date)\n",
    "- wrong types of data (text vs. numbers, etc.)"
   ]
  },
  {
   "cell_type": "markdown",
   "metadata": {},
   "source": [
    "## Plotting Data"
   ]
  },
  {
   "cell_type": "code",
   "execution_count": 59,
   "metadata": {},
   "outputs": [
    {
     "name": "stdout",
     "output_type": "stream",
     "text": [
      "2020-08-21 to 2012-04-25\n"
     ]
    },
    {
     "data": {
      "image/svg+xml": [
       "<?xml version=\"1.0\" encoding=\"utf-8\"?>\n",
       "<svg xmlns=\"http://www.w3.org/2000/svg\" xmlns:xlink=\"http://www.w3.org/1999/xlink\" width=\"1750\" height=\"600\" viewBox=\"0 0 7000 2400\">\n",
       "<defs>\n",
       "  <clipPath id=\"clip3500\">\n",
       "    <rect x=\"0\" y=\"0\" width=\"7000\" height=\"2400\"/>\n",
       "  </clipPath>\n",
       "</defs>\n",
       "<path clip-path=\"url(#clip3500)\" d=\"\n",
       "M0 2400 L7000 2400 L7000 0 L0 0  Z\n",
       "  \" fill=\"#ffffff\" fill-rule=\"evenodd\" fill-opacity=\"1\"/>\n",
       "<defs>\n",
       "  <clipPath id=\"clip3501\">\n",
       "    <rect x=\"1400\" y=\"0\" width=\"4901\" height=\"2400\"/>\n",
       "  </clipPath>\n",
       "</defs>\n",
       "<path clip-path=\"url(#clip3500)\" d=\"\n",
       "M225.378 2255.05 L6952.76 2255.05 L6952.76 47.2441 L225.378 47.2441  Z\n",
       "  \" fill=\"#ffffff\" fill-rule=\"evenodd\" fill-opacity=\"1\"/>\n",
       "<defs>\n",
       "  <clipPath id=\"clip3502\">\n",
       "    <rect x=\"225\" y=\"47\" width=\"6728\" height=\"2209\"/>\n",
       "  </clipPath>\n",
       "</defs>\n",
       "<polyline clip-path=\"url(#clip3502)\" style=\"stroke:#000000; stroke-width:2; stroke-opacity:0.1; fill:none\" points=\"\n",
       "  939.786,2255.05 939.786,47.2441 \n",
       "  \"/>\n",
       "<polyline clip-path=\"url(#clip3502)\" style=\"stroke:#000000; stroke-width:2; stroke-opacity:0.1; fill:none\" points=\"\n",
       "  2463.8,2255.05 2463.8,47.2441 \n",
       "  \"/>\n",
       "<polyline clip-path=\"url(#clip3502)\" style=\"stroke:#000000; stroke-width:2; stroke-opacity:0.1; fill:none\" points=\"\n",
       "  3989.9,2255.05 3989.9,47.2441 \n",
       "  \"/>\n",
       "<polyline clip-path=\"url(#clip3502)\" style=\"stroke:#000000; stroke-width:2; stroke-opacity:0.1; fill:none\" points=\"\n",
       "  5513.92,2255.05 5513.92,47.2441 \n",
       "  \"/>\n",
       "<polyline clip-path=\"url(#clip3502)\" style=\"stroke:#000000; stroke-width:2; stroke-opacity:0.1; fill:none\" points=\"\n",
       "  225.378,1821.65 6952.76,1821.65 \n",
       "  \"/>\n",
       "<polyline clip-path=\"url(#clip3502)\" style=\"stroke:#000000; stroke-width:2; stroke-opacity:0.1; fill:none\" points=\"\n",
       "  225.378,1346.11 6952.76,1346.11 \n",
       "  \"/>\n",
       "<polyline clip-path=\"url(#clip3502)\" style=\"stroke:#000000; stroke-width:2; stroke-opacity:0.1; fill:none\" points=\"\n",
       "  225.378,870.581 6952.76,870.581 \n",
       "  \"/>\n",
       "<polyline clip-path=\"url(#clip3502)\" style=\"stroke:#000000; stroke-width:2; stroke-opacity:0.1; fill:none\" points=\"\n",
       "  225.378,395.049 6952.76,395.049 \n",
       "  \"/>\n",
       "<polyline clip-path=\"url(#clip3500)\" style=\"stroke:#000000; stroke-width:4; stroke-opacity:1; fill:none\" points=\"\n",
       "  225.378,2255.05 6952.76,2255.05 \n",
       "  \"/>\n",
       "<polyline clip-path=\"url(#clip3500)\" style=\"stroke:#000000; stroke-width:4; stroke-opacity:1; fill:none\" points=\"\n",
       "  225.378,2255.05 225.378,47.2441 \n",
       "  \"/>\n",
       "<polyline clip-path=\"url(#clip3500)\" style=\"stroke:#000000; stroke-width:4; stroke-opacity:1; fill:none\" points=\"\n",
       "  939.786,2255.05 939.786,2228.55 \n",
       "  \"/>\n",
       "<polyline clip-path=\"url(#clip3500)\" style=\"stroke:#000000; stroke-width:4; stroke-opacity:1; fill:none\" points=\"\n",
       "  2463.8,2255.05 2463.8,2228.55 \n",
       "  \"/>\n",
       "<polyline clip-path=\"url(#clip3500)\" style=\"stroke:#000000; stroke-width:4; stroke-opacity:1; fill:none\" points=\"\n",
       "  3989.9,2255.05 3989.9,2228.55 \n",
       "  \"/>\n",
       "<polyline clip-path=\"url(#clip3500)\" style=\"stroke:#000000; stroke-width:4; stroke-opacity:1; fill:none\" points=\"\n",
       "  5513.92,2255.05 5513.92,2228.55 \n",
       "  \"/>\n",
       "<polyline clip-path=\"url(#clip3500)\" style=\"stroke:#000000; stroke-width:4; stroke-opacity:1; fill:none\" points=\"\n",
       "  225.378,1821.65 306.106,1821.65 \n",
       "  \"/>\n",
       "<polyline clip-path=\"url(#clip3500)\" style=\"stroke:#000000; stroke-width:4; stroke-opacity:1; fill:none\" points=\"\n",
       "  225.378,1346.11 306.106,1346.11 \n",
       "  \"/>\n",
       "<polyline clip-path=\"url(#clip3500)\" style=\"stroke:#000000; stroke-width:4; stroke-opacity:1; fill:none\" points=\"\n",
       "  225.378,870.581 306.106,870.581 \n",
       "  \"/>\n",
       "<polyline clip-path=\"url(#clip3500)\" style=\"stroke:#000000; stroke-width:4; stroke-opacity:1; fill:none\" points=\"\n",
       "  225.378,395.049 306.106,395.049 \n",
       "  \"/>\n",
       "<path clip-path=\"url(#clip3500)\" d=\"M 0 0 M827.263 2327.58 L843.583 2327.58 L843.583 2331.52 L821.638 2331.52 L821.638 2327.58 Q824.3 2324.83 828.884 2320.2 Q833.49 2315.55 834.671 2314.2 Q836.916 2311.68 837.796 2309.95 Q838.699 2308.19 838.699 2306.5 Q838.699 2303.74 836.754 2302.01 Q834.833 2300.27 831.731 2300.27 Q829.532 2300.27 827.078 2301.03 Q824.648 2301.8 821.87 2303.35 L821.87 2298.63 Q824.694 2297.49 827.148 2296.91 Q829.601 2296.33 831.638 2296.33 Q837.009 2296.33 840.203 2299.02 Q843.398 2301.7 843.398 2306.2 Q843.398 2308.32 842.587 2310.25 Q841.8 2312.14 839.694 2314.74 Q839.115 2315.41 836.013 2318.63 Q832.912 2321.82 827.263 2327.58 Z\" fill=\"#000000\" fill-rule=\"evenodd\" fill-opacity=\"1\" /><path clip-path=\"url(#clip3500)\" d=\"M 0 0 M858.652 2300.04 Q855.041 2300.04 853.212 2303.6 Q851.407 2307.14 851.407 2314.27 Q851.407 2321.38 853.212 2324.95 Q855.041 2328.49 858.652 2328.49 Q862.286 2328.49 864.092 2324.95 Q865.921 2321.38 865.921 2314.27 Q865.921 2307.14 864.092 2303.6 Q862.286 2300.04 858.652 2300.04 M858.652 2296.33 Q864.462 2296.33 867.518 2300.94 Q870.597 2305.52 870.597 2314.27 Q870.597 2323 867.518 2327.61 Q864.462 2332.19 858.652 2332.19 Q852.842 2332.19 849.763 2327.61 Q846.708 2323 846.708 2314.27 Q846.708 2305.52 849.763 2300.94 Q852.842 2296.33 858.652 2296.33 Z\" fill=\"#000000\" fill-rule=\"evenodd\" fill-opacity=\"1\" /><path clip-path=\"url(#clip3500)\" d=\"M 0 0 M876.476 2327.58 L884.115 2327.58 L884.115 2301.22 L875.805 2302.89 L875.805 2298.63 L884.069 2296.96 L888.745 2296.96 L888.745 2327.58 L896.383 2327.58 L896.383 2331.52 L876.476 2331.52 L876.476 2327.58 Z\" fill=\"#000000\" fill-rule=\"evenodd\" fill-opacity=\"1\" /><path clip-path=\"url(#clip3500)\" d=\"M 0 0 M915.619 2312.89 Q918.976 2313.6 920.851 2315.87 Q922.749 2318.14 922.749 2321.47 Q922.749 2326.59 919.231 2329.39 Q915.712 2332.19 909.231 2332.19 Q907.055 2332.19 904.74 2331.75 Q902.448 2331.33 899.994 2330.48 L899.994 2325.96 Q901.939 2327.1 904.254 2327.68 Q906.569 2328.26 909.092 2328.26 Q913.49 2328.26 915.781 2326.52 Q918.096 2324.78 918.096 2321.47 Q918.096 2318.42 915.943 2316.7 Q913.814 2314.97 909.994 2314.97 L905.967 2314.97 L905.967 2311.13 L910.18 2311.13 Q913.629 2311.13 915.457 2309.76 Q917.286 2308.37 917.286 2305.78 Q917.286 2303.12 915.388 2301.7 Q913.513 2300.27 909.994 2300.27 Q908.073 2300.27 905.874 2300.69 Q903.675 2301.1 901.036 2301.98 L901.036 2297.82 Q903.698 2297.08 906.013 2296.7 Q908.351 2296.33 910.411 2296.33 Q915.735 2296.33 918.837 2298.76 Q921.939 2301.17 921.939 2305.29 Q921.939 2308.16 920.295 2310.15 Q918.652 2312.12 915.619 2312.89 Z\" fill=\"#000000\" fill-rule=\"evenodd\" fill-opacity=\"1\" /><path clip-path=\"url(#clip3500)\" d=\"M 0 0 M925.064 2316.64 L937.541 2316.64 L937.541 2320.43 L925.064 2320.43 L925.064 2316.64 Z\" fill=\"#000000\" fill-rule=\"evenodd\" fill-opacity=\"1\" /><path clip-path=\"url(#clip3500)\" d=\"M 0 0 M952.61 2300.04 Q948.999 2300.04 947.17 2303.6 Q945.365 2307.14 945.365 2314.27 Q945.365 2321.38 947.17 2324.95 Q948.999 2328.49 952.61 2328.49 Q956.244 2328.49 958.05 2324.95 Q959.878 2321.38 959.878 2314.27 Q959.878 2307.14 958.05 2303.6 Q956.244 2300.04 952.61 2300.04 M952.61 2296.33 Q958.42 2296.33 961.476 2300.94 Q964.554 2305.52 964.554 2314.27 Q964.554 2323 961.476 2327.61 Q958.42 2332.19 952.61 2332.19 Q946.8 2332.19 943.721 2327.61 Q940.666 2323 940.666 2314.27 Q940.666 2305.52 943.721 2300.94 Q946.8 2296.33 952.61 2296.33 Z\" fill=\"#000000\" fill-rule=\"evenodd\" fill-opacity=\"1\" /><path clip-path=\"url(#clip3500)\" d=\"M 0 0 M970.434 2327.58 L978.073 2327.58 L978.073 2301.22 L969.763 2302.89 L969.763 2298.63 L978.026 2296.96 L982.702 2296.96 L982.702 2327.58 L990.341 2327.58 L990.341 2331.52 L970.434 2331.52 L970.434 2327.58 Z\" fill=\"#000000\" fill-rule=\"evenodd\" fill-opacity=\"1\" /><path clip-path=\"url(#clip3500)\" d=\"M 0 0 M992.656 2316.64 L1005.13 2316.64 L1005.13 2320.43 L992.656 2320.43 L992.656 2316.64 Z\" fill=\"#000000\" fill-rule=\"evenodd\" fill-opacity=\"1\" /><path clip-path=\"url(#clip3500)\" d=\"M 0 0 M1020.2 2300.04 Q1016.59 2300.04 1014.76 2303.6 Q1012.96 2307.14 1012.96 2314.27 Q1012.96 2321.38 1014.76 2324.95 Q1016.59 2328.49 1020.2 2328.49 Q1023.84 2328.49 1025.64 2324.95 Q1027.47 2321.38 1027.47 2314.27 Q1027.47 2307.14 1025.64 2303.6 Q1023.84 2300.04 1020.2 2300.04 M1020.2 2296.33 Q1026.01 2296.33 1029.07 2300.94 Q1032.15 2305.52 1032.15 2314.27 Q1032.15 2323 1029.07 2327.61 Q1026.01 2332.19 1020.2 2332.19 Q1014.39 2332.19 1011.31 2327.61 Q1008.26 2323 1008.26 2314.27 Q1008.26 2305.52 1011.31 2300.94 Q1014.39 2296.33 1020.2 2296.33 Z\" fill=\"#000000\" fill-rule=\"evenodd\" fill-opacity=\"1\" /><path clip-path=\"url(#clip3500)\" d=\"M 0 0 M1038.03 2327.58 L1045.67 2327.58 L1045.67 2301.22 L1037.35 2302.89 L1037.35 2298.63 L1045.62 2296.96 L1050.29 2296.96 L1050.29 2327.58 L1057.93 2327.58 L1057.93 2331.52 L1038.03 2331.52 L1038.03 2327.58 Z\" fill=\"#000000\" fill-rule=\"evenodd\" fill-opacity=\"1\" /><path clip-path=\"url(#clip3500)\" d=\"M 0 0 M2351.45 2327.58 L2367.77 2327.58 L2367.77 2331.52 L2345.83 2331.52 L2345.83 2327.58 Q2348.49 2324.83 2353.07 2320.2 Q2357.68 2315.55 2358.86 2314.2 Q2361.1 2311.68 2361.98 2309.95 Q2362.89 2308.19 2362.89 2306.5 Q2362.89 2303.74 2360.94 2302.01 Q2359.02 2300.27 2355.92 2300.27 Q2353.72 2300.27 2351.27 2301.03 Q2348.84 2301.8 2346.06 2303.35 L2346.06 2298.63 Q2348.88 2297.49 2351.34 2296.91 Q2353.79 2296.33 2355.83 2296.33 Q2361.2 2296.33 2364.39 2299.02 Q2367.59 2301.7 2367.59 2306.2 Q2367.59 2308.32 2366.78 2310.25 Q2365.99 2312.14 2363.88 2314.74 Q2363.3 2315.41 2360.2 2318.63 Q2357.1 2321.82 2351.45 2327.58 Z\" fill=\"#000000\" fill-rule=\"evenodd\" fill-opacity=\"1\" /><path clip-path=\"url(#clip3500)\" d=\"M 0 0 M2382.84 2300.04 Q2379.23 2300.04 2377.4 2303.6 Q2375.6 2307.14 2375.6 2314.27 Q2375.6 2321.38 2377.4 2324.95 Q2379.23 2328.49 2382.84 2328.49 Q2386.47 2328.49 2388.28 2324.95 Q2390.11 2321.38 2390.11 2314.27 Q2390.11 2307.14 2388.28 2303.6 Q2386.47 2300.04 2382.84 2300.04 M2382.84 2296.33 Q2388.65 2296.33 2391.71 2300.94 Q2394.79 2305.52 2394.79 2314.27 Q2394.79 2323 2391.71 2327.61 Q2388.65 2332.19 2382.84 2332.19 Q2377.03 2332.19 2373.95 2327.61 Q2370.9 2323 2370.9 2314.27 Q2370.9 2305.52 2373.95 2300.94 Q2377.03 2296.33 2382.84 2296.33 Z\" fill=\"#000000\" fill-rule=\"evenodd\" fill-opacity=\"1\" /><path clip-path=\"url(#clip3500)\" d=\"M 0 0 M2400.66 2327.58 L2408.3 2327.58 L2408.3 2301.22 L2399.99 2302.89 L2399.99 2298.63 L2408.26 2296.96 L2412.93 2296.96 L2412.93 2327.58 L2420.57 2327.58 L2420.57 2331.52 L2400.66 2331.52 L2400.66 2327.58 Z\" fill=\"#000000\" fill-rule=\"evenodd\" fill-opacity=\"1\" /><path clip-path=\"url(#clip3500)\" d=\"M 0 0 M2425.69 2296.96 L2444.04 2296.96 L2444.04 2300.89 L2429.97 2300.89 L2429.97 2309.37 Q2430.99 2309.02 2432.01 2308.86 Q2433.03 2308.67 2434.04 2308.67 Q2439.83 2308.67 2443.21 2311.84 Q2446.59 2315.01 2446.59 2320.43 Q2446.59 2326.01 2443.12 2329.11 Q2439.65 2332.19 2433.33 2332.19 Q2431.15 2332.19 2428.88 2331.82 Q2426.64 2331.45 2424.23 2330.71 L2424.23 2326.01 Q2426.31 2327.14 2428.53 2327.7 Q2430.76 2328.26 2433.23 2328.26 Q2437.24 2328.26 2439.58 2326.15 Q2441.91 2324.04 2441.91 2320.43 Q2441.91 2316.82 2439.58 2314.71 Q2437.24 2312.61 2433.23 2312.61 Q2431.36 2312.61 2429.48 2313.02 Q2427.63 2313.44 2425.69 2314.32 L2425.69 2296.96 Z\" fill=\"#000000\" fill-rule=\"evenodd\" fill-opacity=\"1\" /><path clip-path=\"url(#clip3500)\" d=\"M 0 0 M2448.91 2316.64 L2461.38 2316.64 L2461.38 2320.43 L2448.91 2320.43 L2448.91 2316.64 Z\" fill=\"#000000\" fill-rule=\"evenodd\" fill-opacity=\"1\" /><path clip-path=\"url(#clip3500)\" d=\"M 0 0 M2476.45 2300.04 Q2472.84 2300.04 2471.01 2303.6 Q2469.21 2307.14 2469.21 2314.27 Q2469.21 2321.38 2471.01 2324.95 Q2472.84 2328.49 2476.45 2328.49 Q2480.09 2328.49 2481.89 2324.95 Q2483.72 2321.38 2483.72 2314.27 Q2483.72 2307.14 2481.89 2303.6 Q2480.09 2300.04 2476.45 2300.04 M2476.45 2296.33 Q2482.26 2296.33 2485.32 2300.94 Q2488.4 2305.52 2488.4 2314.27 Q2488.4 2323 2485.32 2327.61 Q2482.26 2332.19 2476.45 2332.19 Q2470.64 2332.19 2467.56 2327.61 Q2464.51 2323 2464.51 2314.27 Q2464.51 2305.52 2467.56 2300.94 Q2470.64 2296.33 2476.45 2296.33 Z\" fill=\"#000000\" fill-rule=\"evenodd\" fill-opacity=\"1\" /><path clip-path=\"url(#clip3500)\" d=\"M 0 0 M2494.28 2327.58 L2501.91 2327.58 L2501.91 2301.22 L2493.6 2302.89 L2493.6 2298.63 L2501.87 2296.96 L2506.54 2296.96 L2506.54 2327.58 L2514.18 2327.58 L2514.18 2331.52 L2494.28 2331.52 L2494.28 2327.58 Z\" fill=\"#000000\" fill-rule=\"evenodd\" fill-opacity=\"1\" /><path clip-path=\"url(#clip3500)\" d=\"M 0 0 M2516.5 2316.64 L2528.97 2316.64 L2528.97 2320.43 L2516.5 2320.43 L2516.5 2316.64 Z\" fill=\"#000000\" fill-rule=\"evenodd\" fill-opacity=\"1\" /><path clip-path=\"url(#clip3500)\" d=\"M 0 0 M2544.04 2300.04 Q2540.43 2300.04 2538.6 2303.6 Q2536.8 2307.14 2536.8 2314.27 Q2536.8 2321.38 2538.6 2324.95 Q2540.43 2328.49 2544.04 2328.49 Q2547.68 2328.49 2549.48 2324.95 Q2551.31 2321.38 2551.31 2314.27 Q2551.31 2307.14 2549.48 2303.6 Q2547.68 2300.04 2544.04 2300.04 M2544.04 2296.33 Q2549.85 2296.33 2552.91 2300.94 Q2555.99 2305.52 2555.99 2314.27 Q2555.99 2323 2552.91 2327.61 Q2549.85 2332.19 2544.04 2332.19 Q2538.23 2332.19 2535.15 2327.61 Q2532.1 2323 2532.1 2314.27 Q2532.1 2305.52 2535.15 2300.94 Q2538.23 2296.33 2544.04 2296.33 Z\" fill=\"#000000\" fill-rule=\"evenodd\" fill-opacity=\"1\" /><path clip-path=\"url(#clip3500)\" d=\"M 0 0 M2561.87 2327.58 L2569.51 2327.58 L2569.51 2301.22 L2561.2 2302.89 L2561.2 2298.63 L2569.46 2296.96 L2574.14 2296.96 L2574.14 2327.58 L2581.77 2327.58 L2581.77 2331.52 L2561.87 2331.52 L2561.87 2327.58 Z\" fill=\"#000000\" fill-rule=\"evenodd\" fill-opacity=\"1\" /><path clip-path=\"url(#clip3500)\" d=\"M 0 0 M3877.51 2327.58 L3893.83 2327.58 L3893.83 2331.52 L3871.88 2331.52 L3871.88 2327.58 Q3874.55 2324.83 3879.13 2320.2 Q3883.74 2315.55 3884.92 2314.2 Q3887.16 2311.68 3888.04 2309.95 Q3888.94 2308.19 3888.94 2306.5 Q3888.94 2303.74 3887 2302.01 Q3885.08 2300.27 3881.98 2300.27 Q3879.78 2300.27 3877.32 2301.03 Q3874.89 2301.8 3872.11 2303.35 L3872.11 2298.63 Q3874.94 2297.49 3877.39 2296.91 Q3879.85 2296.33 3881.88 2296.33 Q3887.25 2296.33 3890.45 2299.02 Q3893.64 2301.7 3893.64 2306.2 Q3893.64 2308.32 3892.83 2310.25 Q3892.05 2312.14 3889.94 2314.74 Q3889.36 2315.41 3886.26 2318.63 Q3883.16 2321.82 3877.51 2327.58 Z\" fill=\"#000000\" fill-rule=\"evenodd\" fill-opacity=\"1\" /><path clip-path=\"url(#clip3500)\" d=\"M 0 0 M3908.9 2300.04 Q3905.29 2300.04 3903.46 2303.6 Q3901.65 2307.14 3901.65 2314.27 Q3901.65 2321.38 3903.46 2324.95 Q3905.29 2328.49 3908.9 2328.49 Q3912.53 2328.49 3914.34 2324.95 Q3916.17 2321.38 3916.17 2314.27 Q3916.17 2307.14 3914.34 2303.6 Q3912.53 2300.04 3908.9 2300.04 M3908.9 2296.33 Q3914.71 2296.33 3917.76 2300.94 Q3920.84 2305.52 3920.84 2314.27 Q3920.84 2323 3917.76 2327.61 Q3914.71 2332.19 3908.9 2332.19 Q3903.09 2332.19 3900.01 2327.61 Q3896.95 2323 3896.95 2314.27 Q3896.95 2305.52 3900.01 2300.94 Q3903.09 2296.33 3908.9 2296.33 Z\" fill=\"#000000\" fill-rule=\"evenodd\" fill-opacity=\"1\" /><path clip-path=\"url(#clip3500)\" d=\"M 0 0 M3926.72 2327.58 L3934.36 2327.58 L3934.36 2301.22 L3926.05 2302.89 L3926.05 2298.63 L3934.31 2296.96 L3938.99 2296.96 L3938.99 2327.58 L3946.63 2327.58 L3946.63 2331.52 L3926.72 2331.52 L3926.72 2327.58 Z\" fill=\"#000000\" fill-rule=\"evenodd\" fill-opacity=\"1\" /><path clip-path=\"url(#clip3500)\" d=\"M 0 0 M3950.52 2296.96 L3972.74 2296.96 L3972.74 2298.95 L3960.19 2331.52 L3955.31 2331.52 L3967.11 2300.89 L3950.52 2300.89 L3950.52 2296.96 Z\" fill=\"#000000\" fill-rule=\"evenodd\" fill-opacity=\"1\" /><path clip-path=\"url(#clip3500)\" d=\"M 0 0 M3975.05 2316.64 L3987.53 2316.64 L3987.53 2320.43 L3975.05 2320.43 L3975.05 2316.64 Z\" fill=\"#000000\" fill-rule=\"evenodd\" fill-opacity=\"1\" /><path clip-path=\"url(#clip3500)\" d=\"M 0 0 M4002.6 2300.04 Q3998.99 2300.04 3997.16 2303.6 Q3995.36 2307.14 3995.36 2314.27 Q3995.36 2321.38 3997.16 2324.95 Q3998.99 2328.49 4002.6 2328.49 Q4006.23 2328.49 4008.04 2324.95 Q4009.87 2321.38 4009.87 2314.27 Q4009.87 2307.14 4008.04 2303.6 Q4006.23 2300.04 4002.6 2300.04 M4002.6 2296.33 Q4008.41 2296.33 4011.47 2300.94 Q4014.54 2305.52 4014.54 2314.27 Q4014.54 2323 4011.47 2327.61 Q4008.41 2332.19 4002.6 2332.19 Q3996.79 2332.19 3993.71 2327.61 Q3990.66 2323 3990.66 2314.27 Q3990.66 2305.52 3993.71 2300.94 Q3996.79 2296.33 4002.6 2296.33 Z\" fill=\"#000000\" fill-rule=\"evenodd\" fill-opacity=\"1\" /><path clip-path=\"url(#clip3500)\" d=\"M 0 0 M4020.42 2327.58 L4028.06 2327.58 L4028.06 2301.22 L4019.75 2302.89 L4019.75 2298.63 L4028.02 2296.96 L4032.69 2296.96 L4032.69 2327.58 L4040.33 2327.58 L4040.33 2331.52 L4020.42 2331.52 L4020.42 2327.58 Z\" fill=\"#000000\" fill-rule=\"evenodd\" fill-opacity=\"1\" /><path clip-path=\"url(#clip3500)\" d=\"M 0 0 M4042.65 2316.64 L4055.12 2316.64 L4055.12 2320.43 L4042.65 2320.43 L4042.65 2316.64 Z\" fill=\"#000000\" fill-rule=\"evenodd\" fill-opacity=\"1\" /><path clip-path=\"url(#clip3500)\" d=\"M 0 0 M4070.19 2300.04 Q4066.58 2300.04 4064.75 2303.6 Q4062.95 2307.14 4062.95 2314.27 Q4062.95 2321.38 4064.75 2324.95 Q4066.58 2328.49 4070.19 2328.49 Q4073.83 2328.49 4075.63 2324.95 Q4077.46 2321.38 4077.46 2314.27 Q4077.46 2307.14 4075.63 2303.6 Q4073.83 2300.04 4070.19 2300.04 M4070.19 2296.33 Q4076 2296.33 4079.06 2300.94 Q4082.14 2305.52 4082.14 2314.27 Q4082.14 2323 4079.06 2327.61 Q4076 2332.19 4070.19 2332.19 Q4064.38 2332.19 4061.3 2327.61 Q4058.25 2323 4058.25 2314.27 Q4058.25 2305.52 4061.3 2300.94 Q4064.38 2296.33 4070.19 2296.33 Z\" fill=\"#000000\" fill-rule=\"evenodd\" fill-opacity=\"1\" /><path clip-path=\"url(#clip3500)\" d=\"M 0 0 M4088.02 2327.58 L4095.66 2327.58 L4095.66 2301.22 L4087.35 2302.89 L4087.35 2298.63 L4095.61 2296.96 L4100.29 2296.96 L4100.29 2327.58 L4107.92 2327.58 L4107.92 2331.52 L4088.02 2331.52 L4088.02 2327.58 Z\" fill=\"#000000\" fill-rule=\"evenodd\" fill-opacity=\"1\" /><path clip-path=\"url(#clip3500)\" d=\"M 0 0 M5401.16 2327.58 L5417.48 2327.58 L5417.48 2331.52 L5395.54 2331.52 L5395.54 2327.58 Q5398.2 2324.83 5402.79 2320.2 Q5407.39 2315.55 5408.57 2314.2 Q5410.82 2311.68 5411.7 2309.95 Q5412.6 2308.19 5412.6 2306.5 Q5412.6 2303.74 5410.66 2302.01 Q5408.73 2300.27 5405.63 2300.27 Q5403.43 2300.27 5400.98 2301.03 Q5398.55 2301.8 5395.77 2303.35 L5395.77 2298.63 Q5398.6 2297.49 5401.05 2296.91 Q5403.5 2296.33 5405.54 2296.33 Q5410.91 2296.33 5414.1 2299.02 Q5417.3 2301.7 5417.3 2306.2 Q5417.3 2308.32 5416.49 2310.25 Q5415.7 2312.14 5413.6 2314.74 Q5413.02 2315.41 5409.91 2318.63 Q5406.81 2321.82 5401.16 2327.58 Z\" fill=\"#000000\" fill-rule=\"evenodd\" fill-opacity=\"1\" /><path clip-path=\"url(#clip3500)\" d=\"M 0 0 M5432.55 2300.04 Q5428.94 2300.04 5427.11 2303.6 Q5425.31 2307.14 5425.31 2314.27 Q5425.31 2321.38 5427.11 2324.95 Q5428.94 2328.49 5432.55 2328.49 Q5436.19 2328.49 5437.99 2324.95 Q5439.82 2321.38 5439.82 2314.27 Q5439.82 2307.14 5437.99 2303.6 Q5436.19 2300.04 5432.55 2300.04 M5432.55 2296.33 Q5438.36 2296.33 5441.42 2300.94 Q5444.5 2305.52 5444.5 2314.27 Q5444.5 2323 5441.42 2327.61 Q5438.36 2332.19 5432.55 2332.19 Q5426.74 2332.19 5423.66 2327.61 Q5420.61 2323 5420.61 2314.27 Q5420.61 2305.52 5423.66 2300.94 Q5426.74 2296.33 5432.55 2296.33 Z\" fill=\"#000000\" fill-rule=\"evenodd\" fill-opacity=\"1\" /><path clip-path=\"url(#clip3500)\" d=\"M 0 0 M5450.38 2327.58 L5458.02 2327.58 L5458.02 2301.22 L5449.71 2302.89 L5449.71 2298.63 L5457.97 2296.96 L5462.65 2296.96 L5462.65 2327.58 L5470.28 2327.58 L5470.28 2331.52 L5450.38 2331.52 L5450.38 2327.58 Z\" fill=\"#000000\" fill-rule=\"evenodd\" fill-opacity=\"1\" /><path clip-path=\"url(#clip3500)\" d=\"M 0 0 M5475.49 2330.8 L5475.49 2326.54 Q5477.25 2327.38 5479.06 2327.82 Q5480.86 2328.26 5482.6 2328.26 Q5487.23 2328.26 5489.66 2325.15 Q5492.11 2322.03 5492.46 2315.69 Q5491.12 2317.68 5489.06 2318.74 Q5487 2319.81 5484.5 2319.81 Q5479.31 2319.81 5476.28 2316.68 Q5473.27 2313.53 5473.27 2308.09 Q5473.27 2302.77 5476.42 2299.55 Q5479.57 2296.33 5484.8 2296.33 Q5490.79 2296.33 5493.94 2300.94 Q5497.11 2305.52 5497.11 2314.27 Q5497.11 2322.45 5493.22 2327.33 Q5489.36 2332.19 5482.81 2332.19 Q5481.05 2332.19 5479.24 2331.84 Q5477.44 2331.5 5475.49 2330.8 M5484.8 2316.15 Q5487.95 2316.15 5489.78 2314 Q5491.63 2311.84 5491.63 2308.09 Q5491.63 2304.37 5489.78 2302.21 Q5487.95 2300.04 5484.8 2300.04 Q5481.65 2300.04 5479.8 2302.21 Q5477.97 2304.37 5477.97 2308.09 Q5477.97 2311.84 5479.8 2314 Q5481.65 2316.15 5484.8 2316.15 Z\" fill=\"#000000\" fill-rule=\"evenodd\" fill-opacity=\"1\" /><path clip-path=\"url(#clip3500)\" d=\"M 0 0 M5499.43 2316.64 L5511.9 2316.64 L5511.9 2320.43 L5499.43 2320.43 L5499.43 2316.64 Z\" fill=\"#000000\" fill-rule=\"evenodd\" fill-opacity=\"1\" /><path clip-path=\"url(#clip3500)\" d=\"M 0 0 M5526.97 2300.04 Q5523.36 2300.04 5521.53 2303.6 Q5519.73 2307.14 5519.73 2314.27 Q5519.73 2321.38 5521.53 2324.95 Q5523.36 2328.49 5526.97 2328.49 Q5530.61 2328.49 5532.41 2324.95 Q5534.24 2321.38 5534.24 2314.27 Q5534.24 2307.14 5532.41 2303.6 Q5530.61 2300.04 5526.97 2300.04 M5526.97 2296.33 Q5532.78 2296.33 5535.84 2300.94 Q5538.92 2305.52 5538.92 2314.27 Q5538.92 2323 5535.84 2327.61 Q5532.78 2332.19 5526.97 2332.19 Q5521.16 2332.19 5518.09 2327.61 Q5515.03 2323 5515.03 2314.27 Q5515.03 2305.52 5518.09 2300.94 Q5521.16 2296.33 5526.97 2296.33 Z\" fill=\"#000000\" fill-rule=\"evenodd\" fill-opacity=\"1\" /><path clip-path=\"url(#clip3500)\" d=\"M 0 0 M5544.8 2327.58 L5552.44 2327.58 L5552.44 2301.22 L5544.13 2302.89 L5544.13 2298.63 L5552.39 2296.96 L5557.07 2296.96 L5557.07 2327.58 L5564.71 2327.58 L5564.71 2331.52 L5544.8 2331.52 L5544.8 2327.58 Z\" fill=\"#000000\" fill-rule=\"evenodd\" fill-opacity=\"1\" /><path clip-path=\"url(#clip3500)\" d=\"M 0 0 M5567.02 2316.64 L5579.5 2316.64 L5579.5 2320.43 L5567.02 2320.43 L5567.02 2316.64 Z\" fill=\"#000000\" fill-rule=\"evenodd\" fill-opacity=\"1\" /><path clip-path=\"url(#clip3500)\" d=\"M 0 0 M5594.57 2300.04 Q5590.96 2300.04 5589.13 2303.6 Q5587.32 2307.14 5587.32 2314.27 Q5587.32 2321.38 5589.13 2324.95 Q5590.96 2328.49 5594.57 2328.49 Q5598.2 2328.49 5600.01 2324.95 Q5601.83 2321.38 5601.83 2314.27 Q5601.83 2307.14 5600.01 2303.6 Q5598.2 2300.04 5594.57 2300.04 M5594.57 2296.33 Q5600.38 2296.33 5603.43 2300.94 Q5606.51 2305.52 5606.51 2314.27 Q5606.51 2323 5603.43 2327.61 Q5600.38 2332.19 5594.57 2332.19 Q5588.76 2332.19 5585.68 2327.61 Q5582.62 2323 5582.62 2314.27 Q5582.62 2305.52 5585.68 2300.94 Q5588.76 2296.33 5594.57 2296.33 Z\" fill=\"#000000\" fill-rule=\"evenodd\" fill-opacity=\"1\" /><path clip-path=\"url(#clip3500)\" d=\"M 0 0 M5612.39 2327.58 L5620.03 2327.58 L5620.03 2301.22 L5611.72 2302.89 L5611.72 2298.63 L5619.98 2296.96 L5624.66 2296.96 L5624.66 2327.58 L5632.3 2327.58 L5632.3 2331.52 L5612.39 2331.52 L5612.39 2327.58 Z\" fill=\"#000000\" fill-rule=\"evenodd\" fill-opacity=\"1\" /><path clip-path=\"url(#clip3500)\" d=\"M 0 0 M118.781 1808.44 L106.975 1826.89 L118.781 1826.89 L118.781 1808.44 M117.554 1804.37 L123.434 1804.37 L123.434 1826.89 L128.364 1826.89 L128.364 1830.78 L123.434 1830.78 L123.434 1838.93 L118.781 1838.93 L118.781 1830.78 L103.179 1830.78 L103.179 1826.26 L117.554 1804.37 Z\" fill=\"#000000\" fill-rule=\"evenodd\" fill-opacity=\"1\" /><path clip-path=\"url(#clip3500)\" d=\"M 0 0 M143.433 1807.45 Q139.822 1807.45 137.994 1811.01 Q136.188 1814.55 136.188 1821.68 Q136.188 1828.79 137.994 1832.35 Q139.822 1835.89 143.433 1835.89 Q147.068 1835.89 148.873 1832.35 Q150.702 1828.79 150.702 1821.68 Q150.702 1814.55 148.873 1811.01 Q147.068 1807.45 143.433 1807.45 M143.433 1803.74 Q149.244 1803.74 152.299 1808.35 Q155.378 1812.93 155.378 1821.68 Q155.378 1830.41 152.299 1835.01 Q149.244 1839.6 143.433 1839.6 Q137.623 1839.6 134.545 1835.01 Q131.489 1830.41 131.489 1821.68 Q131.489 1812.93 134.545 1808.35 Q137.623 1803.74 143.433 1803.74 Z\" fill=\"#000000\" fill-rule=\"evenodd\" fill-opacity=\"1\" /><path clip-path=\"url(#clip3500)\" d=\"M 0 0 M119.776 1332.91 L107.971 1351.36 L119.776 1351.36 L119.776 1332.91 M118.549 1328.83 L124.429 1328.83 L124.429 1351.36 L129.359 1351.36 L129.359 1355.25 L124.429 1355.25 L124.429 1363.39 L119.776 1363.39 L119.776 1355.25 L104.174 1355.25 L104.174 1350.73 L118.549 1328.83 Z\" fill=\"#000000\" fill-rule=\"evenodd\" fill-opacity=\"1\" /><path clip-path=\"url(#clip3500)\" d=\"M 0 0 M134.475 1328.83 L152.832 1328.83 L152.832 1332.77 L138.758 1332.77 L138.758 1341.24 Q139.776 1340.89 140.795 1340.73 Q141.813 1340.55 142.832 1340.55 Q148.619 1340.55 151.998 1343.72 Q155.378 1346.89 155.378 1352.31 Q155.378 1357.88 151.906 1360.99 Q148.433 1364.07 142.114 1364.07 Q139.938 1364.07 137.67 1363.7 Q135.424 1363.32 133.017 1362.58 L133.017 1357.88 Q135.1 1359.02 137.322 1359.57 Q139.545 1360.13 142.021 1360.13 Q146.026 1360.13 148.364 1358.02 Q150.702 1355.92 150.702 1352.31 Q150.702 1348.7 148.364 1346.59 Q146.026 1344.48 142.021 1344.48 Q140.146 1344.48 138.271 1344.9 Q136.42 1345.32 134.475 1346.2 L134.475 1328.83 Z\" fill=\"#000000\" fill-rule=\"evenodd\" fill-opacity=\"1\" /><path clip-path=\"url(#clip3500)\" d=\"M 0 0 M107.461 853.301 L125.818 853.301 L125.818 857.237 L111.744 857.237 L111.744 865.709 Q112.762 865.362 113.781 865.199 Q114.799 865.014 115.818 865.014 Q121.605 865.014 124.984 868.186 Q128.364 871.357 128.364 876.773 Q128.364 882.352 124.892 885.454 Q121.42 888.533 115.1 888.533 Q112.924 888.533 110.656 888.162 Q108.41 887.792 106.003 887.051 L106.003 882.352 Q108.086 883.486 110.309 884.042 Q112.531 884.598 115.008 884.598 Q119.012 884.598 121.35 882.491 Q123.688 880.385 123.688 876.773 Q123.688 873.162 121.35 871.056 Q119.012 868.949 115.008 868.949 Q113.133 868.949 111.258 869.366 Q109.406 869.783 107.461 870.662 L107.461 853.301 Z\" fill=\"#000000\" fill-rule=\"evenodd\" fill-opacity=\"1\" /><path clip-path=\"url(#clip3500)\" d=\"M 0 0 M143.433 856.38 Q139.822 856.38 137.994 859.945 Q136.188 863.487 136.188 870.616 Q136.188 877.723 137.994 881.287 Q139.822 884.829 143.433 884.829 Q147.068 884.829 148.873 881.287 Q150.702 877.723 150.702 870.616 Q150.702 863.487 148.873 859.945 Q147.068 856.38 143.433 856.38 M143.433 852.676 Q149.244 852.676 152.299 857.283 Q155.378 861.866 155.378 870.616 Q155.378 879.343 152.299 883.949 Q149.244 888.533 143.433 888.533 Q137.623 888.533 134.545 883.949 Q131.489 879.343 131.489 870.616 Q131.489 861.866 134.545 857.283 Q137.623 852.676 143.433 852.676 Z\" fill=\"#000000\" fill-rule=\"evenodd\" fill-opacity=\"1\" /><path clip-path=\"url(#clip3500)\" d=\"M 0 0 M108.457 377.769 L126.813 377.769 L126.813 381.704 L112.739 381.704 L112.739 390.176 Q113.758 389.829 114.776 389.667 Q115.795 389.482 116.813 389.482 Q122.6 389.482 125.98 392.653 Q129.359 395.824 129.359 401.241 Q129.359 406.819 125.887 409.921 Q122.415 413 116.096 413 Q113.92 413 111.651 412.63 Q109.406 412.259 106.998 411.519 L106.998 406.819 Q109.082 407.954 111.304 408.509 Q113.526 409.065 116.003 409.065 Q120.008 409.065 122.346 406.958 Q124.684 404.852 124.684 401.241 Q124.684 397.63 122.346 395.523 Q120.008 393.417 116.003 393.417 Q114.128 393.417 112.253 393.833 Q110.401 394.25 108.457 395.13 L108.457 377.769 Z\" fill=\"#000000\" fill-rule=\"evenodd\" fill-opacity=\"1\" /><path clip-path=\"url(#clip3500)\" d=\"M 0 0 M134.475 377.769 L152.832 377.769 L152.832 381.704 L138.758 381.704 L138.758 390.176 Q139.776 389.829 140.795 389.667 Q141.813 389.482 142.832 389.482 Q148.619 389.482 151.998 392.653 Q155.378 395.824 155.378 401.241 Q155.378 406.819 151.906 409.921 Q148.433 413 142.114 413 Q139.938 413 137.67 412.63 Q135.424 412.259 133.017 411.519 L133.017 406.819 Q135.1 407.954 137.322 408.509 Q139.545 409.065 142.021 409.065 Q146.026 409.065 148.364 406.958 Q150.702 404.852 150.702 401.241 Q150.702 397.63 148.364 395.523 Q146.026 393.417 142.021 393.417 Q140.146 393.417 138.271 393.833 Q136.42 394.25 134.475 395.13 L134.475 377.769 Z\" fill=\"#000000\" fill-rule=\"evenodd\" fill-opacity=\"1\" /><path clip-path=\"url(#clip3500)\" d=\"M 0 0 M3534.83 2388.14 L3534.83 2398.26 L3546.89 2398.26 L3546.89 2402.81 L3534.83 2402.81 L3534.83 2422.17 Q3534.83 2426.53 3536.01 2427.77 Q3537.22 2429.01 3540.88 2429.01 L3546.89 2429.01 L3546.89 2433.91 L3540.88 2433.91 Q3534.1 2433.91 3531.52 2431.4 Q3528.94 2428.85 3528.94 2422.17 L3528.94 2402.81 L3524.65 2402.81 L3524.65 2398.26 L3528.94 2398.26 L3528.94 2388.14 L3534.83 2388.14 Z\" fill=\"#000000\" fill-rule=\"evenodd\" fill-opacity=\"1\" /><path clip-path=\"url(#clip3500)\" d=\"M 0 0 M3553.04 2398.26 L3558.89 2398.26 L3558.89 2433.91 L3553.04 2433.91 L3553.04 2398.26 M3553.04 2384.39 L3558.89 2384.39 L3558.89 2391.8 L3553.04 2391.8 L3553.04 2384.39 Z\" fill=\"#000000\" fill-rule=\"evenodd\" fill-opacity=\"1\" /><path clip-path=\"url(#clip3500)\" d=\"M 0 0 M3592.79 2405.11 Q3594.99 2401.16 3598.04 2399.28 Q3601.1 2397.4 3605.24 2397.4 Q3610.81 2397.4 3613.83 2401.32 Q3616.85 2405.2 3616.85 2412.4 L3616.85 2433.91 L3610.96 2433.91 L3610.96 2412.59 Q3610.96 2407.46 3609.15 2404.98 Q3607.34 2402.5 3603.61 2402.5 Q3599.06 2402.5 3596.42 2405.52 Q3593.78 2408.54 3593.78 2413.76 L3593.78 2433.91 L3587.89 2433.91 L3587.89 2412.59 Q3587.89 2407.43 3586.07 2404.98 Q3584.26 2402.5 3580.47 2402.5 Q3575.99 2402.5 3573.34 2405.55 Q3570.7 2408.58 3570.7 2413.76 L3570.7 2433.91 L3564.81 2433.91 L3564.81 2398.26 L3570.7 2398.26 L3570.7 2403.8 Q3572.71 2400.52 3575.51 2398.96 Q3578.31 2397.4 3582.16 2397.4 Q3586.04 2397.4 3588.75 2399.38 Q3591.49 2401.35 3592.79 2405.11 Z\" fill=\"#000000\" fill-rule=\"evenodd\" fill-opacity=\"1\" /><path clip-path=\"url(#clip3500)\" d=\"M 0 0 M3653.49 2414.62 L3653.49 2417.49 L3626.56 2417.49 Q3626.94 2423.54 3630.19 2426.72 Q3633.47 2429.87 3639.29 2429.87 Q3642.67 2429.87 3645.82 2429.04 Q3649 2428.21 3652.12 2426.56 L3652.12 2432.1 Q3648.97 2433.43 3645.66 2434.13 Q3642.35 2434.83 3638.94 2434.83 Q3630.41 2434.83 3625.42 2429.87 Q3620.45 2424.9 3620.45 2416.44 Q3620.45 2407.68 3625.16 2402.56 Q3629.9 2397.4 3637.92 2397.4 Q3645.12 2397.4 3649.29 2402.05 Q3653.49 2406.67 3653.49 2414.62 M3647.63 2412.9 Q3647.57 2408.1 3644.93 2405.23 Q3642.32 2402.37 3637.99 2402.37 Q3633.09 2402.37 3630.13 2405.14 Q3627.2 2407.91 3626.75 2412.94 L3647.63 2412.9 Z\" fill=\"#000000\" fill-rule=\"evenodd\" fill-opacity=\"1\" /><path clip-path=\"url(#clip3500)\" d=\"M 0 0 M-16.7249 1287.55 L-16.7249 1281.69 L18.923 1281.69 L18.923 1287.55 L-16.7249 1287.55 M-30.6022 1287.55 L-30.6022 1281.69 L-23.1861 1281.69 L-23.1861 1287.55 L-30.6022 1287.55 Z\" fill=\"#000000\" fill-rule=\"evenodd\" fill-opacity=\"1\" /><path clip-path=\"url(#clip3500)\" d=\"M 0 0 M-2.59307 1245.92 L18.923 1245.92 L18.923 1251.77 L-2.4021 1251.77 Q-7.46284 1251.77 -9.97729 1253.74 Q-12.4917 1255.72 -12.4917 1259.67 Q-12.4917 1264.41 -9.46804 1267.14 Q-6.44433 1269.88 -1.22445 1269.88 L18.923 1269.88 L18.923 1275.77 L-16.7249 1275.77 L-16.7249 1269.88 L-11.1868 1269.88 Q-14.4015 1267.78 -15.9929 1264.95 Q-17.5843 1262.08 -17.5843 1258.36 Q-17.5843 1252.22 -13.7649 1249.07 Q-9.97729 1245.92 -2.59307 1245.92 Z\" fill=\"#000000\" fill-rule=\"evenodd\" fill-opacity=\"1\" /><path clip-path=\"url(#clip3500)\" d=\"M 0 0 M-11.3141 1216.31 L-30.6022 1216.31 L-30.6022 1210.46 L18.923 1210.46 L18.923 1216.31 L13.5758 1216.31 Q16.7587 1218.16 18.3183 1220.99 Q19.846 1223.79 19.846 1227.74 Q19.846 1234.2 14.6898 1238.28 Q9.5336 1242.32 1.13086 1242.32 Q-7.27187 1242.32 -12.4281 1238.28 Q-17.5843 1234.2 -17.5843 1227.74 Q-17.5843 1223.79 -16.0247 1220.99 Q-14.4969 1218.16 -11.3141 1216.31 M1.13086 1236.27 Q7.59206 1236.27 11.2842 1233.63 Q14.9444 1230.96 14.9444 1226.31 Q14.9444 1221.66 11.2842 1218.99 Q7.59206 1216.31 1.13086 1216.31 Q-5.33033 1216.31 -8.99061 1218.99 Q-12.6827 1221.66 -12.6827 1226.31 Q-12.6827 1230.96 -8.99061 1233.63 Q-5.33033 1236.27 1.13086 1236.27 Z\" fill=\"#000000\" fill-rule=\"evenodd\" fill-opacity=\"1\" /><path clip-path=\"url(#clip3500)\" d=\"M 0 0 M-16.7249 1204.32 L-16.7249 1198.46 L18.923 1198.46 L18.923 1204.32 L-16.7249 1204.32 M-30.6022 1204.32 L-30.6022 1198.46 L-23.1861 1198.46 L-23.1861 1204.32 L-30.6022 1204.32 Z\" fill=\"#000000\" fill-rule=\"evenodd\" fill-opacity=\"1\" /><path clip-path=\"url(#clip3500)\" d=\"M 0 0 M-15.3563 1166.66 L-9.88181 1166.66 Q-11.2504 1169.14 -11.9188 1171.66 Q-12.6191 1174.14 -12.6191 1176.69 Q-12.6191 1182.39 -8.99061 1185.54 Q-5.39398 1188.69 1.13086 1188.69 Q7.65571 1188.69 11.2842 1185.54 Q14.8808 1182.39 14.8808 1176.69 Q14.8808 1174.14 14.2124 1171.66 Q13.5122 1169.14 12.1435 1166.66 L17.5544 1166.66 Q18.7002 1169.11 19.2731 1171.75 Q19.846 1174.36 19.846 1177.32 Q19.846 1185.38 14.7853 1190.12 Q9.72457 1194.86 1.13086 1194.86 Q-7.59015 1194.86 -12.5872 1190.09 Q-17.5843 1185.28 -17.5843 1176.94 Q-17.5843 1174.24 -17.0114 1171.66 Q-16.4703 1169.08 -15.3563 1166.66 Z\" fill=\"#000000\" fill-rule=\"evenodd\" fill-opacity=\"1\" /><path clip-path=\"url(#clip3500)\" d=\"M 0 0 M1.00355 1144.32 Q1.00355 1151.42 2.62681 1154.15 Q4.25006 1156.89 8.16497 1156.89 Q11.2842 1156.89 13.1302 1154.85 Q14.9444 1152.78 14.9444 1149.25 Q14.9444 1144.38 11.507 1141.45 Q8.03766 1138.49 2.30852 1138.49 L1.00355 1138.49 L1.00355 1144.32 M-1.41542 1132.64 L18.923 1132.64 L18.923 1138.49 L13.5122 1138.49 Q16.7587 1140.5 18.3183 1143.49 Q19.846 1146.48 19.846 1150.81 Q19.846 1156.29 16.7905 1159.53 Q13.7031 1162.75 8.54691 1162.75 Q2.53132 1162.75 -0.524219 1158.74 Q-3.57976 1154.69 -3.57976 1146.71 L-3.57976 1138.49 L-4.15267 1138.49 Q-8.1949 1138.49 -10.3911 1141.17 Q-12.6191 1143.81 -12.6191 1148.62 Q-12.6191 1151.67 -11.887 1154.57 Q-11.1549 1157.46 -9.69084 1160.14 L-15.1017 1160.14 Q-16.343 1156.92 -16.9477 1153.9 Q-17.5843 1150.88 -17.5843 1148.01 Q-17.5843 1140.28 -13.5739 1136.46 Q-9.56352 1132.64 -1.41542 1132.64 Z\" fill=\"#000000\" fill-rule=\"evenodd\" fill-opacity=\"1\" /><path clip-path=\"url(#clip3500)\" d=\"M 0 0 M-26.8464 1120.7 L-16.7249 1120.7 L-16.7249 1108.64 L-12.1735 1108.64 L-12.1735 1120.7 L7.17829 1120.7 Q11.5388 1120.7 12.7801 1119.52 Q14.0214 1118.31 14.0214 1114.65 L14.0214 1108.64 L18.923 1108.64 L18.923 1114.65 Q18.923 1121.43 16.4086 1124.01 Q13.8623 1126.59 7.17829 1126.59 L-12.1735 1126.59 L-12.1735 1130.89 L-16.7249 1130.89 L-16.7249 1126.59 L-26.8464 1126.59 L-26.8464 1120.7 Z\" fill=\"#000000\" fill-rule=\"evenodd\" fill-opacity=\"1\" /><path clip-path=\"url(#clip3500)\" d=\"M 0 0 M-12.6191 1088.68 Q-12.6191 1093.39 -8.92695 1096.13 Q-5.26667 1098.87 1.13086 1098.87 Q7.5284 1098.87 11.2205 1096.16 Q14.8808 1093.42 14.8808 1088.68 Q14.8808 1084 11.1887 1081.27 Q7.49657 1078.53 1.13086 1078.53 Q-5.20301 1078.53 -8.89512 1081.27 Q-12.6191 1084 -12.6191 1088.68 M-17.5843 1088.68 Q-17.5843 1081.04 -12.6191 1076.68 Q-7.65381 1072.32 1.13086 1072.32 Q9.88371 1072.32 14.8808 1076.68 Q19.846 1081.04 19.846 1088.68 Q19.846 1096.35 14.8808 1100.71 Q9.88371 1105.04 1.13086 1105.04 Q-7.65381 1105.04 -12.6191 1100.71 Q-17.5843 1096.35 -17.5843 1088.68 Z\" fill=\"#000000\" fill-rule=\"evenodd\" fill-opacity=\"1\" /><path clip-path=\"url(#clip3500)\" d=\"M 0 0 M-11.2504 1045.52 Q-11.8233 1046.51 -12.078 1047.69 Q-12.3644 1048.83 -12.3644 1050.23 Q-12.3644 1055.2 -9.11792 1057.87 Q-5.90324 1060.51 0.14418 1060.51 L18.923 1060.51 L18.923 1066.4 L-16.7249 1066.4 L-16.7249 1060.51 L-11.1868 1060.51 Q-14.4333 1058.67 -15.9929 1055.71 Q-17.5843 1052.75 -17.5843 1048.51 Q-17.5843 1047.91 -17.4888 1047.18 Q-17.4252 1046.45 -17.266 1045.55 L-11.2504 1045.52 Z\" fill=\"#000000\" fill-rule=\"evenodd\" fill-opacity=\"1\" /><path clip-path=\"url(#clip3500)\" d=\"M 0 0 M-15.6746 1016.65 L-10.1364 1016.65 Q-11.4096 1019.14 -12.0461 1021.81 Q-12.6827 1024.48 -12.6827 1027.35 Q-12.6827 1031.71 -11.3459 1033.91 Q-10.0091 1036.07 -7.33553 1036.07 Q-5.2985 1036.07 -4.12084 1034.51 Q-2.97502 1032.95 -1.92467 1028.24 L-1.47908 1026.23 Q-0.142277 1020 2.30852 1017.39 Q4.72749 1014.74 9.088 1014.74 Q14.0532 1014.74 16.9496 1018.69 Q19.846 1022.61 19.846 1029.48 Q19.846 1032.35 19.2731 1035.46 Q18.732 1038.55 17.618 1041.99 L11.5706 1041.99 Q13.2575 1038.74 14.1169 1035.59 Q14.9444 1032.44 14.9444 1029.35 Q14.9444 1025.22 13.544 1022.99 Q12.1117 1020.76 9.5336 1020.76 Q7.14646 1020.76 5.87332 1022.38 Q4.60017 1023.97 3.42252 1029.42 L2.94509 1031.45 Q1.79926 1036.9 -0.556048 1039.32 Q-2.94319 1041.74 -7.0809 1041.74 Q-12.1098 1041.74 -14.8471 1038.17 Q-17.5843 1034.61 -17.5843 1028.05 Q-17.5843 1024.8 -17.1069 1021.94 Q-16.6295 1019.07 -15.6746 1016.65 Z\" fill=\"#000000\" fill-rule=\"evenodd\" fill-opacity=\"1\" /><polyline clip-path=\"url(#clip3502)\" style=\"stroke:#009af9; stroke-width:4; stroke-opacity:1; fill:none\" points=\"\n",
       "  6762.36,528.198 6724.78,784.986 6703.9,746.943 6655.89,889.603 6639.18,908.624 6593.26,1840.67 6570.29,1840.67 6528.54,2192.56 6511.84,2116.48 6465.91,1013.24 \n",
       "  6449.2,946.667 6403.28,804.007 6382.4,794.496 6344.82,689.879 6323.94,708.9 6278.01,642.326 6242.52,632.815 6213.3,623.304 6192.42,661.347 6148.58,746.943 \n",
       "  6131.88,727.922 6083.86,765.964 6067.16,775.475 6025.4,842.049 6000.35,880.092 5956.51,832.539 5939.81,870.581 5891.79,813.517 5870.91,861.071 5833.34,823.028 \n",
       "  5810.37,813.517 5764.44,623.304 5737.3,642.326 5701.81,642.326 5680.93,632.815 5637.09,585.262 5620.39,518.687 5578.64,404.559 5561.94,404.559 5516.01,509.177 \n",
       "  5476.34,499.666 5453.38,366.517 5432.5,357.006 5386.57,328.474 5369.87,309.453 5321.85,337.985 5300.97,337.985 5265.48,423.581 5240.43,442.602 5194.5,366.517 \n",
       "  5177.8,347.495 5131.87,357.006 5110.99,433.091 5067.15,261.9 5048.36,242.878 5002.43,252.389 4985.73,252.389 4941.89,337.985 4918.93,328.474 4875.09,366.517 \n",
       "  4858.38,309.453 4816.63,347.495 4799.93,347.495 4754,385.538 4714.33,395.049 4687.19,499.666 4672.58,509.177 4624.56,433.091 4607.86,442.602 4561.93,575.751 \n",
       "  4541.05,585.262 4497.21,604.283 4478.42,632.815 4432.49,556.73 4415.79,566.24 4371.95,680.368 4351.07,670.858 4305.15,613.794 4286.36,632.815 4240.43,604.283 \n",
       "  4219.55,604.283 4181.97,556.73 4161.09,547.219 4113.08,471.134 4096.38,461.623 4054.62,395.049 4037.92,385.538 3994.08,461.623 3954.41,471.134 3925.19,480.645 \n",
       "  3908.48,499.666 3862.55,547.219 3845.85,566.24 3802.01,727.922 3781.13,737.432 3735.21,680.368 3716.42,670.858 3670.49,594.772 3649.61,594.772 3605.77,746.943 \n",
       "  3589.07,737.432 3543.14,804.007 3524.35,823.028 3480.51,794.496 3459.63,794.496 3415.79,727.922 3394.91,737.432 3351.07,746.943 3334.37,775.475 3290.53,642.326 \n",
       "  3269.65,613.794 3232.07,756.454 3192.41,746.943 3161.09,604.283 3144.39,623.304 3100.55,480.645 3079.67,490.155 3033.74,575.751 3017.04,585.262 2971.11,585.262 \n",
       "  2948.15,594.772 2910.57,509.177 2889.69,509.177 2841.67,528.198 2824.97,547.219 2779.04,490.155 2756.08,509.177 2714.32,480.645 2697.62,471.134 2651.69,328.474 \n",
       "  2634.99,366.517 2589.06,385.538 2568.19,461.623 2530.61,499.666 2509.73,518.687 2465.89,499.666 2430.4,518.687 2399.08,414.07 2376.12,423.581 2340.63,309.453 \n",
       "  2317.66,280.921 2271.73,157.282 2255.03,119.24 2211.19,119.24 2186.14,109.729 2144.38,318.963 2127.68,271.41 2079.67,176.304 2062.96,157.282 2019.12,157.282 \n",
       "  1996.16,280.921 1952.32,357.006 1935.61,357.006 1889.69,347.495 1872.98,347.495 1829.14,195.325 1806.18,233.368 1770.69,518.687 1747.72,518.687 1703.88,395.049 \n",
       "  1668.39,452.113 1639.16,423.581 1616.2,461.623 1574.44,699.39 1557.74,765.964 1509.73,604.283 1493.02,604.283 1451.27,575.751 1426.22,499.666 1382.38,518.687 \n",
       "  1365.68,566.24 1317.66,689.879 1294.69,661.347 1259.2,651.836 1236.24,689.879 1190.31,670.858 1173.61,680.368 1127.68,433.091 1104.71,404.559 1062.96,461.623 \n",
       "  1046.26,376.027 1004.5,318.963 987.803,290.432 941.874,490.155 902.207,471.134 879.243,604.283 854.191,642.326 812.437,775.475 795.735,746.943 747.718,765.964 \n",
       "  724.754,727.922 691.351,727.922 666.298,689.879 620.369,737.432 603.668,699.39 557.738,632.815 534.774,594.772 493.02,490.155 476.318,499.666 415.775,299.942 \n",
       "  \n",
       "  \"/>\n",
       "<polyline clip-path=\"url(#clip3502)\" style=\"stroke:#e26f46; stroke-width:4; stroke-opacity:1; fill:none\" points=\"\n",
       "  6762.36,765.964 6724.78,746.943 6703.9,899.113 6655.89,908.624 6639.18,1602.9 6593.26,1840.67 6570.29,2021.37 6528.54,2116.48 6511.84,1108.35 6465.91,946.667 \n",
       "  6449.2,823.028 6403.28,794.496 6382.4,784.986 6344.82,708.9 6323.94,651.836 6278.01,632.815 6242.52,642.326 6213.3,661.347 6192.42,737.432 6148.58,727.922 \n",
       "  6131.88,775.475 6083.86,775.475 6067.16,832.539 6025.4,880.092 6000.35,851.56 5956.51,870.581 5939.81,842.049 5891.79,861.071 5870.91,775.475 5833.34,813.517 \n",
       "  5810.37,594.772 5764.44,642.326 5737.3,604.283 5701.81,632.815 5680.93,537.709 5637.09,518.687 5620.39,490.155 5578.64,404.559 5561.94,471.134 5516.01,385.538 \n",
       "  5476.34,309.453 5453.38,299.942 5432.5,280.921 5386.57,290.432 5369.87,280.921 5321.85,357.006 5300.97,471.134 5265.48,461.623 5240.43,366.517 5194.5,337.985 \n",
       "  5177.8,376.027 5131.87,395.049 5110.99,280.921 5067.15,280.921 5048.36,261.9 5002.43,271.41 4985.73,271.41 4941.89,337.985 4918.93,357.006 4875.09,299.942 \n",
       "  4858.38,395.049 4816.63,404.559 4799.93,318.963 4754,290.432 4714.33,547.219 4687.19,566.24 4672.58,423.581 4624.56,433.091 4607.86,585.262 4561.93,594.772 \n",
       "  4541.05,623.304 4497.21,594.772 4478.42,566.24 4432.49,623.304 4415.79,680.368 4371.95,642.326 4351.07,623.304 4305.15,623.304 4286.36,604.283 \n",
       "  \"/>\n",
       "<polyline clip-path=\"url(#clip3502)\" style=\"stroke:#3da44d; stroke-width:4; stroke-opacity:1; fill:none\" points=\"\n",
       "  6762.36,784.986 6724.78,746.943 6703.9,889.603 6655.89,908.624 6639.18,1840.67 6593.26,1840.67 6570.29,2192.56 6528.54,2116.48 6511.84,1013.24 6465.91,946.667 \n",
       "  6449.2,804.007 6403.28,794.496 6382.4,689.879 6344.82,708.9 6323.94,642.326 6278.01,632.815 6242.52,623.304 6213.3,661.347 6192.42,746.943 6148.58,727.922 \n",
       "  6131.88,765.964 6083.86,775.475 6067.16,842.049 6025.4,880.092 6000.35,832.539 5956.51,870.581 5939.81,813.517 5891.79,861.071 5870.91,823.028 5833.34,813.517 \n",
       "  5810.37,623.304 5764.44,642.326 5737.3,642.326 5701.81,632.815 5680.93,585.262 5637.09,518.687 5620.39,404.559 5578.64,404.559 5561.94,509.177 5516.01,499.666 \n",
       "  5476.34,366.517 5453.38,357.006 5432.5,328.474 5386.57,309.453 5369.87,337.985 5321.85,337.985 5300.97,423.581 5265.48,442.602 5240.43,366.517 5194.5,347.495 \n",
       "  5177.8,357.006 5131.87,433.091 5110.99,261.9 5067.15,242.878 5048.36,252.389 5002.43,252.389 4985.73,337.985 4941.89,328.474 4918.93,366.517 4875.09,309.453 \n",
       "  4858.38,347.495 4816.63,347.495 4799.93,385.538 4754,395.049 4714.33,499.666 4687.19,509.177 4672.58,433.091 4624.56,442.602 4607.86,575.751 4561.93,585.262 \n",
       "  4541.05,604.283 4497.21,632.815 4478.42,556.73 4432.49,566.24 4415.79,680.368 4371.95,670.858 4351.07,613.794 4305.15,632.815 4286.36,604.283 4240.43,604.283 \n",
       "  4219.55,556.73 4181.97,547.219 4161.09,471.134 4113.08,461.623 4096.38,395.049 4054.62,385.538 4037.92,461.623 3994.08,471.134 3954.41,480.645 3925.19,499.666 \n",
       "  3908.48,547.219 3862.55,566.24 3845.85,727.922 3802.01,737.432 3781.13,680.368 3735.21,670.858 3716.42,594.772 3670.49,594.772 3649.61,746.943 3605.77,737.432 \n",
       "  3589.07,804.007 3543.14,823.028 3524.35,794.496 3480.51,794.496 3459.63,727.922 3415.79,737.432 3394.91,746.943 3351.07,775.475 3334.37,642.326 3290.53,613.794 \n",
       "  3269.65,756.454 3232.07,746.943 3192.41,604.283 3161.09,623.304 3144.39,480.645 3100.55,490.155 3079.67,575.751 3033.74,585.262 3017.04,585.262 2971.11,594.772 \n",
       "  2948.15,509.177 2910.57,509.177 2889.69,528.198 2841.67,547.219 2824.97,490.155 2779.04,509.177 2756.08,480.645 2714.32,471.134 2697.62,328.474 2651.69,366.517 \n",
       "  2634.99,385.538 2589.06,461.623 2568.19,499.666 2530.61,518.687 2509.73,499.666 2465.89,518.687 2430.4,414.07 2399.08,423.581 2376.12,309.453 2340.63,280.921 \n",
       "  2317.66,157.282 2271.73,119.24 2255.03,119.24 2211.19,109.729 2186.14,318.963 2144.38,271.41 2127.68,176.304 2079.67,261.9 2062.96,157.282 2019.12,280.921 \n",
       "  1996.16,357.006 1952.32,357.006 1935.61,347.495 1889.69,347.495 1872.98,195.325 1829.14,233.368 1806.18,518.687 1770.69,518.687 1747.72,395.049 1703.88,452.113 \n",
       "  1668.39,423.581 1639.16,461.623 1616.2,699.39 1574.44,765.964 1557.74,604.283 1509.73,604.283 1493.02,575.751 1451.27,499.666 1426.22,518.687 1382.38,566.24 \n",
       "  1365.68,689.879 1317.66,661.347 1294.69,651.836 1259.2,689.879 1236.24,670.858 1190.31,680.368 1173.61,433.091 1127.68,404.559 1104.71,461.623 1062.96,376.027 \n",
       "  1046.26,318.963 1004.5,290.432 987.803,490.155 941.874,471.134 902.207,604.283 879.243,642.326 854.191,775.475 812.437,746.943 795.735,765.964 747.718,727.922 \n",
       "  724.754,727.922 691.351,689.879 666.298,737.432 620.369,699.39 603.668,632.815 557.738,594.772 534.774,490.155 493.02,499.666 476.318,299.942 \n",
       "  \"/>\n",
       "<path clip-path=\"url(#clip3500)\" d=\"\n",
       "M435.378 648.684 L1313.57 648.684 L1313.57 406.764 L435.378 406.764  Z\n",
       "  \" fill=\"#ffffff\" fill-rule=\"evenodd\" fill-opacity=\"1\"/>\n",
       "<polyline clip-path=\"url(#clip3500)\" style=\"stroke:#000000; stroke-width:4; stroke-opacity:1; fill:none\" points=\"\n",
       "  435.378,648.684 1313.57,648.684 1313.57,406.764 435.378,406.764 435.378,648.684 \n",
       "  \"/>\n",
       "<polyline clip-path=\"url(#clip3500)\" style=\"stroke:#009af9; stroke-width:4; stroke-opacity:1; fill:none\" points=\"\n",
       "  505.378,467.244 925.378,467.244 \n",
       "  \"/>\n",
       "<path clip-path=\"url(#clip3500)\" d=\"M 0 0 M1008.78 471.492 Q1003.62 471.492 1001.63 472.672 Q999.637 473.853 999.637 476.7 Q999.637 478.969 1001.12 480.311 Q1002.62 481.631 1005.19 481.631 Q1008.73 481.631 1010.86 479.131 Q1013.02 476.607 1013.02 472.441 L1013.02 471.492 L1008.78 471.492 M1017.28 469.733 L1017.28 484.524 L1013.02 484.524 L1013.02 480.589 Q1011.56 482.95 1009.38 484.084 Q1007.21 485.195 1004.06 485.195 Q1000.08 485.195 997.716 482.973 Q995.378 480.728 995.378 476.978 Q995.378 472.603 998.294 470.381 Q1001.23 468.158 1007.04 468.158 L1013.02 468.158 L1013.02 467.742 Q1013.02 464.802 1011.07 463.205 Q1009.15 461.584 1005.66 461.584 Q1003.43 461.584 1001.33 462.117 Q999.22 462.649 997.276 463.714 L997.276 459.779 Q999.614 458.876 1001.81 458.436 Q1004.01 457.973 1006.1 457.973 Q1011.72 457.973 1014.5 460.89 Q1017.28 463.807 1017.28 469.733 Z\" fill=\"#000000\" fill-rule=\"evenodd\" fill-opacity=\"1\" /><path clip-path=\"url(#clip3500)\" d=\"M 0 0 M1040.4 459.594 L1040.4 463.575 Q1038.6 462.58 1036.77 462.094 Q1034.96 461.584 1033.11 461.584 Q1028.97 461.584 1026.67 464.223 Q1024.38 466.839 1024.38 471.584 Q1024.38 476.33 1026.67 478.969 Q1028.97 481.584 1033.11 481.584 Q1034.96 481.584 1036.77 481.098 Q1038.6 480.589 1040.4 479.594 L1040.4 483.529 Q1038.62 484.362 1036.7 484.779 Q1034.8 485.195 1032.65 485.195 Q1026.79 485.195 1023.34 481.515 Q1019.89 477.834 1019.89 471.584 Q1019.89 465.242 1023.36 461.608 Q1026.86 457.973 1032.92 457.973 Q1034.89 457.973 1036.77 458.39 Q1038.64 458.783 1040.4 459.594 Z\" fill=\"#000000\" fill-rule=\"evenodd\" fill-opacity=\"1\" /><path clip-path=\"url(#clip3500)\" d=\"M 0 0 M1049.08 451.237 L1049.08 458.598 L1057.85 458.598 L1057.85 461.908 L1049.08 461.908 L1049.08 475.982 Q1049.08 479.154 1049.94 480.057 Q1050.82 480.959 1053.48 480.959 L1057.85 480.959 L1057.85 484.524 L1053.48 484.524 Q1048.55 484.524 1046.67 482.695 Q1044.8 480.844 1044.8 475.982 L1044.8 461.908 L1041.67 461.908 L1041.67 458.598 L1044.8 458.598 L1044.8 451.237 L1049.08 451.237 Z\" fill=\"#000000\" fill-rule=\"evenodd\" fill-opacity=\"1\" /><path clip-path=\"url(#clip3500)\" d=\"M 0 0 M1061.88 474.293 L1061.88 458.598 L1066.14 458.598 L1066.14 474.131 Q1066.14 477.811 1067.58 479.663 Q1069.01 481.492 1071.88 481.492 Q1075.33 481.492 1077.32 479.293 Q1079.34 477.094 1079.34 473.297 L1079.34 458.598 L1083.59 458.598 L1083.59 484.524 L1079.34 484.524 L1079.34 480.543 Q1077.78 482.904 1075.72 484.061 Q1073.69 485.195 1070.98 485.195 Q1066.51 485.195 1064.2 482.418 Q1061.88 479.64 1061.88 474.293 M1072.6 457.973 L1072.6 457.973 Z\" fill=\"#000000\" fill-rule=\"evenodd\" fill-opacity=\"1\" /><path clip-path=\"url(#clip3500)\" d=\"M 0 0 M1099.84 471.492 Q1094.68 471.492 1092.69 472.672 Q1090.7 473.853 1090.7 476.7 Q1090.7 478.969 1092.18 480.311 Q1093.69 481.631 1096.26 481.631 Q1099.8 481.631 1101.93 479.131 Q1104.08 476.607 1104.08 472.441 L1104.08 471.492 L1099.84 471.492 M1108.34 469.733 L1108.34 484.524 L1104.08 484.524 L1104.08 480.589 Q1102.62 482.95 1100.45 484.084 Q1098.27 485.195 1095.12 485.195 Q1091.14 485.195 1088.78 482.973 Q1086.44 480.728 1086.44 476.978 Q1086.44 472.603 1089.36 470.381 Q1092.3 468.158 1098.11 468.158 L1104.08 468.158 L1104.08 467.742 Q1104.08 464.802 1102.14 463.205 Q1100.22 461.584 1096.72 461.584 Q1094.5 461.584 1092.39 462.117 Q1090.28 462.649 1088.34 463.714 L1088.34 459.779 Q1090.68 458.876 1092.88 458.436 Q1095.08 457.973 1097.16 457.973 Q1102.78 457.973 1105.56 460.89 Q1108.34 463.807 1108.34 469.733 Z\" fill=\"#000000\" fill-rule=\"evenodd\" fill-opacity=\"1\" /><path clip-path=\"url(#clip3500)\" d=\"M 0 0 M1112.81 448.506 L1117.07 448.506 L1117.07 484.524 L1112.81 484.524 L1112.81 448.506 Z\" fill=\"#000000\" fill-rule=\"evenodd\" fill-opacity=\"1\" /><path clip-path=\"url(#clip3500)\" d=\"M 0 0 M1138.06 459.362 L1138.06 463.39 Q1136.26 462.464 1134.31 462.001 Q1132.37 461.538 1130.28 461.538 Q1127.11 461.538 1125.52 462.51 Q1123.94 463.483 1123.94 465.427 Q1123.94 466.908 1125.08 467.765 Q1126.21 468.598 1129.64 469.362 L1131.09 469.686 Q1135.63 470.658 1137.53 472.441 Q1139.45 474.2 1139.45 477.371 Q1139.45 480.982 1136.58 483.089 Q1133.73 485.195 1128.73 485.195 Q1126.65 485.195 1124.38 484.779 Q1122.14 484.385 1119.64 483.575 L1119.64 479.177 Q1122 480.404 1124.29 481.029 Q1126.58 481.631 1128.83 481.631 Q1131.84 481.631 1133.46 480.612 Q1135.08 479.57 1135.08 477.695 Q1135.08 475.959 1133.9 475.033 Q1132.74 474.107 1128.78 473.251 L1127.3 472.904 Q1123.34 472.07 1121.58 470.358 Q1119.82 468.621 1119.82 465.612 Q1119.82 461.955 1122.41 459.964 Q1125.01 457.973 1129.78 457.973 Q1132.14 457.973 1134.22 458.321 Q1136.3 458.668 1138.06 459.362 Z\" fill=\"#000000\" fill-rule=\"evenodd\" fill-opacity=\"1\" /><polyline clip-path=\"url(#clip3500)\" style=\"stroke:#e26f46; stroke-width:4; stroke-opacity:1; fill:none\" points=\"\n",
       "  505.378,527.724 925.378,527.724 \n",
       "  \"/>\n",
       "<path clip-path=\"url(#clip3500)\" d=\"M 0 0 M1011.88 508.986 L1011.88 512.527 L1007.81 512.527 Q1005.52 512.527 1004.61 513.453 Q1003.73 514.379 1003.73 516.787 L1003.73 519.078 L1010.75 519.078 L1010.75 522.388 L1003.73 522.388 L1003.73 545.004 L999.452 545.004 L999.452 522.388 L995.378 522.388 L995.378 519.078 L999.452 519.078 L999.452 517.273 Q999.452 512.944 1001.47 510.976 Q1003.48 508.986 1007.85 508.986 L1011.88 508.986 Z\" fill=\"#000000\" fill-rule=\"evenodd\" fill-opacity=\"1\" /><path clip-path=\"url(#clip3500)\" d=\"M 0 0 M1026.4 522.064 Q1022.97 522.064 1020.98 524.75 Q1018.99 527.412 1018.99 532.064 Q1018.99 536.717 1020.96 539.402 Q1022.95 542.064 1026.4 542.064 Q1029.8 542.064 1031.79 539.379 Q1033.78 536.694 1033.78 532.064 Q1033.78 527.458 1031.79 524.773 Q1029.8 522.064 1026.4 522.064 M1026.4 518.453 Q1031.95 518.453 1035.12 522.064 Q1038.29 525.675 1038.29 532.064 Q1038.29 538.43 1035.12 542.064 Q1031.95 545.675 1026.4 545.675 Q1020.82 545.675 1017.65 542.064 Q1014.5 538.43 1014.5 532.064 Q1014.5 525.675 1017.65 522.064 Q1020.82 518.453 1026.4 518.453 Z\" fill=\"#000000\" fill-rule=\"evenodd\" fill-opacity=\"1\" /><path clip-path=\"url(#clip3500)\" d=\"M 0 0 M1057.78 523.06 Q1057.07 522.643 1056.21 522.458 Q1055.38 522.25 1054.36 522.25 Q1050.75 522.25 1048.8 524.611 Q1046.88 526.949 1046.88 531.347 L1046.88 545.004 L1042.6 545.004 L1042.6 519.078 L1046.88 519.078 L1046.88 523.106 Q1048.22 520.745 1050.38 519.611 Q1052.53 518.453 1055.61 518.453 Q1056.05 518.453 1056.58 518.523 Q1057.11 518.569 1057.76 518.685 L1057.78 523.06 Z\" fill=\"#000000\" fill-rule=\"evenodd\" fill-opacity=\"1\" /><path clip-path=\"url(#clip3500)\" d=\"M 0 0 M1079.87 520.074 L1079.87 524.055 Q1078.06 523.06 1076.23 522.574 Q1074.43 522.064 1072.58 522.064 Q1068.43 522.064 1066.14 524.703 Q1063.85 527.319 1063.85 532.064 Q1063.85 536.81 1066.14 539.449 Q1068.43 542.064 1072.58 542.064 Q1074.43 542.064 1076.23 541.578 Q1078.06 541.069 1079.87 540.074 L1079.87 544.009 Q1078.09 544.842 1076.16 545.259 Q1074.27 545.675 1072.11 545.675 Q1066.26 545.675 1062.81 541.995 Q1059.36 538.314 1059.36 532.064 Q1059.36 525.722 1062.83 522.088 Q1066.33 518.453 1072.39 518.453 Q1074.36 518.453 1076.23 518.87 Q1078.11 519.263 1079.87 520.074 Z\" fill=\"#000000\" fill-rule=\"evenodd\" fill-opacity=\"1\" /><path clip-path=\"url(#clip3500)\" d=\"M 0 0 M1096.12 531.972 Q1090.96 531.972 1088.97 533.152 Q1086.97 534.333 1086.97 537.18 Q1086.97 539.449 1088.46 540.791 Q1089.96 542.111 1092.53 542.111 Q1096.07 542.111 1098.2 539.611 Q1100.35 537.087 1100.35 532.921 L1100.35 531.972 L1096.12 531.972 M1104.61 530.213 L1104.61 545.004 L1100.35 545.004 L1100.35 541.069 Q1098.9 543.43 1096.72 544.564 Q1094.54 545.675 1091.4 545.675 Q1087.41 545.675 1085.05 543.453 Q1082.72 541.208 1082.72 537.458 Q1082.72 533.083 1085.63 530.861 Q1088.57 528.638 1094.38 528.638 L1100.35 528.638 L1100.35 528.222 Q1100.35 525.282 1098.41 523.685 Q1096.49 522.064 1092.99 522.064 Q1090.77 522.064 1088.66 522.597 Q1086.56 523.129 1084.61 524.194 L1084.61 520.259 Q1086.95 519.356 1089.15 518.916 Q1091.35 518.453 1093.43 518.453 Q1099.06 518.453 1101.84 521.37 Q1104.61 524.287 1104.61 530.213 Z\" fill=\"#000000\" fill-rule=\"evenodd\" fill-opacity=\"1\" /><path clip-path=\"url(#clip3500)\" d=\"M 0 0 M1125.61 519.842 L1125.61 523.87 Q1123.8 522.944 1121.86 522.481 Q1119.91 522.018 1117.83 522.018 Q1114.66 522.018 1113.06 522.99 Q1111.49 523.963 1111.49 525.907 Q1111.49 527.388 1112.62 528.245 Q1113.76 529.078 1117.18 529.842 L1118.64 530.166 Q1123.18 531.138 1125.08 532.921 Q1127 534.68 1127 537.851 Q1127 541.462 1124.13 543.569 Q1121.28 545.675 1116.28 545.675 Q1114.2 545.675 1111.93 545.259 Q1109.68 544.865 1107.18 544.055 L1107.18 539.657 Q1109.54 540.884 1111.84 541.509 Q1114.13 542.111 1116.37 542.111 Q1119.38 542.111 1121 541.092 Q1122.62 540.05 1122.62 538.175 Q1122.62 536.439 1121.44 535.513 Q1120.28 534.587 1116.33 533.731 L1114.84 533.384 Q1110.89 532.55 1109.13 530.838 Q1107.37 529.101 1107.37 526.092 Q1107.37 522.435 1109.96 520.444 Q1112.55 518.453 1117.32 518.453 Q1119.68 518.453 1121.77 518.801 Q1123.85 519.148 1125.61 519.842 Z\" fill=\"#000000\" fill-rule=\"evenodd\" fill-opacity=\"1\" /><path clip-path=\"url(#clip3500)\" d=\"M 0 0 M1135.68 511.717 L1135.68 519.078 L1144.45 519.078 L1144.45 522.388 L1135.68 522.388 L1135.68 536.462 Q1135.68 539.634 1136.53 540.537 Q1137.41 541.439 1140.08 541.439 L1144.45 541.439 L1144.45 545.004 L1140.08 545.004 Q1135.15 545.004 1133.27 543.175 Q1131.4 541.324 1131.4 536.462 L1131.4 522.388 L1128.27 522.388 L1128.27 519.078 L1131.4 519.078 L1131.4 511.717 L1135.68 511.717 Z\" fill=\"#000000\" fill-rule=\"evenodd\" fill-opacity=\"1\" /><polyline clip-path=\"url(#clip3500)\" style=\"stroke:#3da44d; stroke-width:4; stroke-opacity:1; fill:none\" points=\"\n",
       "  505.378,588.204 925.378,588.204 \n",
       "  \"/>\n",
       "<path clip-path=\"url(#clip3500)\" d=\"M 0 0 M999.66 601.595 L999.66 615.345 L995.378 615.345 L995.378 579.558 L999.66 579.558 L999.66 583.493 Q1001 581.179 1003.04 580.068 Q1005.1 578.933 1007.95 578.933 Q1012.67 578.933 1015.61 582.683 Q1018.57 586.433 1018.57 592.544 Q1018.57 598.655 1015.61 602.405 Q1012.67 606.155 1007.95 606.155 Q1005.1 606.155 1003.04 605.044 Q1001 603.91 999.66 601.595 M1014.15 592.544 Q1014.15 587.845 1012.21 585.183 Q1010.29 582.498 1006.91 582.498 Q1003.53 582.498 1001.58 585.183 Q999.66 587.845 999.66 592.544 Q999.66 597.243 1001.58 599.929 Q1003.53 602.591 1006.91 602.591 Q1010.29 602.591 1012.21 599.929 Q1014.15 597.243 1014.15 592.544 Z\" fill=\"#000000\" fill-rule=\"evenodd\" fill-opacity=\"1\" /><path clip-path=\"url(#clip3500)\" d=\"M 0 0 M1038.06 583.54 Q1037.35 583.123 1036.49 582.938 Q1035.66 582.73 1034.64 582.73 Q1031.03 582.73 1029.08 585.091 Q1027.16 587.429 1027.16 591.827 L1027.16 605.484 L1022.88 605.484 L1022.88 579.558 L1027.16 579.558 L1027.16 583.586 Q1028.5 581.225 1030.66 580.091 Q1032.81 578.933 1035.89 578.933 Q1036.33 578.933 1036.86 579.003 Q1037.39 579.049 1038.04 579.165 L1038.06 583.54 Z\" fill=\"#000000\" fill-rule=\"evenodd\" fill-opacity=\"1\" /><path clip-path=\"url(#clip3500)\" d=\"M 0 0 M1063.66 591.456 L1063.66 593.54 L1044.08 593.54 Q1044.36 597.938 1046.72 600.253 Q1049.1 602.544 1053.34 602.544 Q1055.79 602.544 1058.09 601.942 Q1060.4 601.341 1062.67 600.137 L1062.67 604.165 Q1060.38 605.137 1057.97 605.646 Q1055.56 606.155 1053.09 606.155 Q1046.88 606.155 1043.25 602.544 Q1039.64 598.933 1039.64 592.776 Q1039.64 586.41 1043.06 582.683 Q1046.51 578.933 1052.35 578.933 Q1057.58 578.933 1060.61 582.313 Q1063.66 585.669 1063.66 591.456 M1059.41 590.206 Q1059.36 586.711 1057.44 584.628 Q1055.54 582.544 1052.39 582.544 Q1048.83 582.544 1046.67 584.558 Q1044.54 586.572 1044.22 590.23 L1059.41 590.206 Z\" fill=\"#000000\" fill-rule=\"evenodd\" fill-opacity=\"1\" /><path clip-path=\"url(#clip3500)\" d=\"M 0 0 M1065.08 579.558 L1069.59 579.558 L1077.69 601.317 L1085.79 579.558 L1090.31 579.558 L1080.59 605.484 L1074.8 605.484 L1065.08 579.558 Z\" fill=\"#000000\" fill-rule=\"evenodd\" fill-opacity=\"1\" /><path clip-path=\"url(#clip3500)\" d=\"M 0 0 M1094.78 579.558 L1099.03 579.558 L1099.03 605.484 L1094.78 605.484 L1094.78 579.558 M1094.78 569.466 L1099.03 569.466 L1099.03 574.859 L1094.78 574.859 L1094.78 569.466 Z\" fill=\"#000000\" fill-rule=\"evenodd\" fill-opacity=\"1\" /><path clip-path=\"url(#clip3500)\" d=\"M 0 0 M1113.55 582.544 Q1110.12 582.544 1108.13 585.23 Q1106.14 587.892 1106.14 592.544 Q1106.14 597.197 1108.11 599.882 Q1110.1 602.544 1113.55 602.544 Q1116.95 602.544 1118.94 599.859 Q1120.93 597.174 1120.93 592.544 Q1120.93 587.938 1118.94 585.253 Q1116.95 582.544 1113.55 582.544 M1113.55 578.933 Q1119.1 578.933 1122.28 582.544 Q1125.45 586.155 1125.45 592.544 Q1125.45 598.91 1122.28 602.544 Q1119.1 606.155 1113.55 606.155 Q1107.97 606.155 1104.8 602.544 Q1101.65 598.91 1101.65 592.544 Q1101.65 586.155 1104.8 582.544 Q1107.97 578.933 1113.55 578.933 Z\" fill=\"#000000\" fill-rule=\"evenodd\" fill-opacity=\"1\" /><path clip-path=\"url(#clip3500)\" d=\"M 0 0 M1129.47 595.253 L1129.47 579.558 L1133.73 579.558 L1133.73 595.091 Q1133.73 598.771 1135.17 600.623 Q1136.6 602.452 1139.47 602.452 Q1142.92 602.452 1144.91 600.253 Q1146.93 598.054 1146.93 594.257 L1146.93 579.558 L1151.19 579.558 L1151.19 605.484 L1146.93 605.484 L1146.93 601.503 Q1145.38 603.864 1143.32 605.021 Q1141.28 606.155 1138.57 606.155 Q1134.1 606.155 1131.79 603.378 Q1129.47 600.6 1129.47 595.253 M1140.19 578.933 L1140.19 578.933 Z\" fill=\"#000000\" fill-rule=\"evenodd\" fill-opacity=\"1\" /><path clip-path=\"url(#clip3500)\" d=\"M 0 0 M1172.18 580.322 L1172.18 584.35 Q1170.38 583.424 1168.43 582.961 Q1166.49 582.498 1164.4 582.498 Q1161.23 582.498 1159.64 583.47 Q1158.06 584.443 1158.06 586.387 Q1158.06 587.868 1159.2 588.725 Q1160.33 589.558 1163.76 590.322 L1165.21 590.646 Q1169.75 591.618 1171.65 593.401 Q1173.57 595.16 1173.57 598.331 Q1173.57 601.942 1170.7 604.049 Q1167.85 606.155 1162.85 606.155 Q1160.77 606.155 1158.5 605.739 Q1156.26 605.345 1153.76 604.535 L1153.76 600.137 Q1156.12 601.364 1158.41 601.989 Q1160.7 602.591 1162.95 602.591 Q1165.96 602.591 1167.58 601.572 Q1169.2 600.53 1169.2 598.655 Q1169.2 596.919 1168.02 595.993 Q1166.86 595.067 1162.9 594.211 L1161.42 593.864 Q1157.46 593.03 1155.7 591.318 Q1153.94 589.581 1153.94 586.572 Q1153.94 582.915 1156.53 580.924 Q1159.13 578.933 1163.9 578.933 Q1166.26 578.933 1168.34 579.281 Q1170.42 579.628 1172.18 580.322 Z\" fill=\"#000000\" fill-rule=\"evenodd\" fill-opacity=\"1\" /></svg>\n"
      ]
     },
     "execution_count": 59,
     "metadata": {},
     "output_type": "execute_result"
    }
   ],
   "source": [
    "df = df_Markkit_Mfc_PMI\n",
    "periods = df[:,1] # all rows, first column\n",
    "println(periods[begin], \" to \", periods[end])\n",
    "gr()\n",
    "plot(periods, \n",
    "    [df[:,2]  df[:,3] df[:,4] ], \n",
    "    label    = [\"actuals\" \"forcast\" \"previous\"],\n",
    "    legend    =:topleft, # :right, :left, :top, :bottom, :inside, :best, :legend, :topright, :topleft, :bottomleft, :bottomright\n",
    "    xlabel   = \"time\",\n",
    "    ylabel   = \"indicators\",\n",
    "    size     = (1750, 600), # width, height\n",
    "    layout = (1, 1) # number of seperate plots VERTICALLY, HORIZONTALLY\n",
    "    )"
   ]
  },
  {
   "cell_type": "code",
   "execution_count": 60,
   "metadata": {},
   "outputs": [
    {
     "name": "stdout",
     "output_type": "stream",
     "text": [
      "2020-08-03 to 2013-11-01\n"
     ]
    },
    {
     "data": {
      "image/svg+xml": [
       "<?xml version=\"1.0\" encoding=\"utf-8\"?>\n",
       "<svg xmlns=\"http://www.w3.org/2000/svg\" xmlns:xlink=\"http://www.w3.org/1999/xlink\" width=\"1750\" height=\"600\" viewBox=\"0 0 7000 2400\">\n",
       "<defs>\n",
       "  <clipPath id=\"clip3900\">\n",
       "    <rect x=\"0\" y=\"0\" width=\"7000\" height=\"2400\"/>\n",
       "  </clipPath>\n",
       "</defs>\n",
       "<path clip-path=\"url(#clip3900)\" d=\"\n",
       "M0 2400 L7000 2400 L7000 0 L0 0  Z\n",
       "  \" fill=\"#ffffff\" fill-rule=\"evenodd\" fill-opacity=\"1\"/>\n",
       "<defs>\n",
       "  <clipPath id=\"clip3901\">\n",
       "    <rect x=\"1400\" y=\"0\" width=\"4901\" height=\"2400\"/>\n",
       "  </clipPath>\n",
       "</defs>\n",
       "<path clip-path=\"url(#clip3900)\" d=\"\n",
       "M225.378 2255.05 L6952.76 2255.05 L6952.76 47.2441 L225.378 47.2441  Z\n",
       "  \" fill=\"#ffffff\" fill-rule=\"evenodd\" fill-opacity=\"1\"/>\n",
       "<defs>\n",
       "  <clipPath id=\"clip3902\">\n",
       "    <rect x=\"225\" y=\"47\" width=\"6728\" height=\"2209\"/>\n",
       "  </clipPath>\n",
       "</defs>\n",
       "<polyline clip-path=\"url(#clip3902)\" style=\"stroke:#000000; stroke-width:2; stroke-opacity:0.1; fill:none\" points=\"\n",
       "  572.703,2255.05 572.703,47.2441 \n",
       "  \"/>\n",
       "<polyline clip-path=\"url(#clip3902)\" style=\"stroke:#000000; stroke-width:2; stroke-opacity:0.1; fill:none\" points=\"\n",
       "  2450.7,2255.05 2450.7,47.2441 \n",
       "  \"/>\n",
       "<polyline clip-path=\"url(#clip3902)\" style=\"stroke:#000000; stroke-width:2; stroke-opacity:0.1; fill:none\" points=\"\n",
       "  4331.26,2255.05 4331.26,47.2441 \n",
       "  \"/>\n",
       "<polyline clip-path=\"url(#clip3902)\" style=\"stroke:#000000; stroke-width:2; stroke-opacity:0.1; fill:none\" points=\"\n",
       "  6209.25,2255.05 6209.25,47.2441 \n",
       "  \"/>\n",
       "<polyline clip-path=\"url(#clip3902)\" style=\"stroke:#000000; stroke-width:2; stroke-opacity:0.1; fill:none\" points=\"\n",
       "  225.378,2047.92 6952.76,2047.92 \n",
       "  \"/>\n",
       "<polyline clip-path=\"url(#clip3902)\" style=\"stroke:#000000; stroke-width:2; stroke-opacity:0.1; fill:none\" points=\"\n",
       "  225.378,1469.36 6952.76,1469.36 \n",
       "  \"/>\n",
       "<polyline clip-path=\"url(#clip3902)\" style=\"stroke:#000000; stroke-width:2; stroke-opacity:0.1; fill:none\" points=\"\n",
       "  225.378,890.792 6952.76,890.792 \n",
       "  \"/>\n",
       "<polyline clip-path=\"url(#clip3902)\" style=\"stroke:#000000; stroke-width:2; stroke-opacity:0.1; fill:none\" points=\"\n",
       "  225.378,312.227 6952.76,312.227 \n",
       "  \"/>\n",
       "<polyline clip-path=\"url(#clip3900)\" style=\"stroke:#000000; stroke-width:4; stroke-opacity:1; fill:none\" points=\"\n",
       "  225.378,2255.05 6952.76,2255.05 \n",
       "  \"/>\n",
       "<polyline clip-path=\"url(#clip3900)\" style=\"stroke:#000000; stroke-width:4; stroke-opacity:1; fill:none\" points=\"\n",
       "  225.378,2255.05 225.378,47.2441 \n",
       "  \"/>\n",
       "<polyline clip-path=\"url(#clip3900)\" style=\"stroke:#000000; stroke-width:4; stroke-opacity:1; fill:none\" points=\"\n",
       "  572.703,2255.05 572.703,2228.55 \n",
       "  \"/>\n",
       "<polyline clip-path=\"url(#clip3900)\" style=\"stroke:#000000; stroke-width:4; stroke-opacity:1; fill:none\" points=\"\n",
       "  2450.7,2255.05 2450.7,2228.55 \n",
       "  \"/>\n",
       "<polyline clip-path=\"url(#clip3900)\" style=\"stroke:#000000; stroke-width:4; stroke-opacity:1; fill:none\" points=\"\n",
       "  4331.26,2255.05 4331.26,2228.55 \n",
       "  \"/>\n",
       "<polyline clip-path=\"url(#clip3900)\" style=\"stroke:#000000; stroke-width:4; stroke-opacity:1; fill:none\" points=\"\n",
       "  6209.25,2255.05 6209.25,2228.55 \n",
       "  \"/>\n",
       "<polyline clip-path=\"url(#clip3900)\" style=\"stroke:#000000; stroke-width:4; stroke-opacity:1; fill:none\" points=\"\n",
       "  225.378,2047.92 306.106,2047.92 \n",
       "  \"/>\n",
       "<polyline clip-path=\"url(#clip3900)\" style=\"stroke:#000000; stroke-width:4; stroke-opacity:1; fill:none\" points=\"\n",
       "  225.378,1469.36 306.106,1469.36 \n",
       "  \"/>\n",
       "<polyline clip-path=\"url(#clip3900)\" style=\"stroke:#000000; stroke-width:4; stroke-opacity:1; fill:none\" points=\"\n",
       "  225.378,890.792 306.106,890.792 \n",
       "  \"/>\n",
       "<polyline clip-path=\"url(#clip3900)\" style=\"stroke:#000000; stroke-width:4; stroke-opacity:1; fill:none\" points=\"\n",
       "  225.378,312.227 306.106,312.227 \n",
       "  \"/>\n",
       "<path clip-path=\"url(#clip3900)\" d=\"M 0 0 M459.614 2327.58 L475.933 2327.58 L475.933 2331.52 L453.989 2331.52 L453.989 2327.58 Q456.651 2324.83 461.234 2320.2 Q465.841 2315.55 467.021 2314.2 Q469.266 2311.68 470.146 2309.95 Q471.049 2308.19 471.049 2306.5 Q471.049 2303.74 469.104 2302.01 Q467.183 2300.27 464.081 2300.27 Q461.882 2300.27 459.429 2301.03 Q456.998 2301.8 454.22 2303.35 L454.22 2298.63 Q457.044 2297.49 459.498 2296.91 Q461.952 2296.33 463.989 2296.33 Q469.359 2296.33 472.553 2299.02 Q475.748 2301.7 475.748 2306.2 Q475.748 2308.32 474.938 2310.25 Q474.151 2312.14 472.044 2314.74 Q471.465 2315.41 468.364 2318.63 Q465.262 2321.82 459.614 2327.58 Z\" fill=\"#000000\" fill-rule=\"evenodd\" fill-opacity=\"1\" /><path clip-path=\"url(#clip3900)\" d=\"M 0 0 M491.002 2300.04 Q487.391 2300.04 485.563 2303.6 Q483.757 2307.14 483.757 2314.27 Q483.757 2321.38 485.563 2324.95 Q487.391 2328.49 491.002 2328.49 Q494.637 2328.49 496.442 2324.95 Q498.271 2321.38 498.271 2314.27 Q498.271 2307.14 496.442 2303.6 Q494.637 2300.04 491.002 2300.04 M491.002 2296.33 Q496.813 2296.33 499.868 2300.94 Q502.947 2305.52 502.947 2314.27 Q502.947 2323 499.868 2327.61 Q496.813 2332.19 491.002 2332.19 Q485.192 2332.19 482.114 2327.61 Q479.058 2323 479.058 2314.27 Q479.058 2305.52 482.114 2300.94 Q485.192 2296.33 491.002 2296.33 Z\" fill=\"#000000\" fill-rule=\"evenodd\" fill-opacity=\"1\" /><path clip-path=\"url(#clip3900)\" d=\"M 0 0 M508.826 2327.58 L516.465 2327.58 L516.465 2301.22 L508.155 2302.89 L508.155 2298.63 L516.419 2296.96 L521.095 2296.96 L521.095 2327.58 L528.734 2327.58 L528.734 2331.52 L508.826 2331.52 L508.826 2327.58 Z\" fill=\"#000000\" fill-rule=\"evenodd\" fill-opacity=\"1\" /><path clip-path=\"url(#clip3900)\" d=\"M 0 0 M546.65 2301.03 L534.845 2319.48 L546.65 2319.48 L546.65 2301.03 M545.423 2296.96 L551.303 2296.96 L551.303 2319.48 L556.234 2319.48 L556.234 2323.37 L551.303 2323.37 L551.303 2331.52 L546.65 2331.52 L546.65 2323.37 L531.049 2323.37 L531.049 2318.86 L545.423 2296.96 Z\" fill=\"#000000\" fill-rule=\"evenodd\" fill-opacity=\"1\" /><path clip-path=\"url(#clip3900)\" d=\"M 0 0 M558.548 2316.64 L571.025 2316.64 L571.025 2320.43 L558.548 2320.43 L558.548 2316.64 Z\" fill=\"#000000\" fill-rule=\"evenodd\" fill-opacity=\"1\" /><path clip-path=\"url(#clip3900)\" d=\"M 0 0 M586.095 2300.04 Q582.483 2300.04 580.655 2303.6 Q578.849 2307.14 578.849 2314.27 Q578.849 2321.38 580.655 2324.95 Q582.483 2328.49 586.095 2328.49 Q589.729 2328.49 591.534 2324.95 Q593.363 2321.38 593.363 2314.27 Q593.363 2307.14 591.534 2303.6 Q589.729 2300.04 586.095 2300.04 M586.095 2296.33 Q591.905 2296.33 594.96 2300.94 Q598.039 2305.52 598.039 2314.27 Q598.039 2323 594.96 2327.61 Q591.905 2332.19 586.095 2332.19 Q580.284 2332.19 577.206 2327.61 Q574.15 2323 574.15 2314.27 Q574.15 2305.52 577.206 2300.94 Q580.284 2296.33 586.095 2296.33 Z\" fill=\"#000000\" fill-rule=\"evenodd\" fill-opacity=\"1\" /><path clip-path=\"url(#clip3900)\" d=\"M 0 0 M603.918 2327.58 L611.557 2327.58 L611.557 2301.22 L603.247 2302.89 L603.247 2298.63 L611.511 2296.96 L616.187 2296.96 L616.187 2327.58 L623.826 2327.58 L623.826 2331.52 L603.918 2331.52 L603.918 2327.58 Z\" fill=\"#000000\" fill-rule=\"evenodd\" fill-opacity=\"1\" /><path clip-path=\"url(#clip3900)\" d=\"M 0 0 M626.141 2316.64 L638.617 2316.64 L638.617 2320.43 L626.141 2320.43 L626.141 2316.64 Z\" fill=\"#000000\" fill-rule=\"evenodd\" fill-opacity=\"1\" /><path clip-path=\"url(#clip3900)\" d=\"M 0 0 M653.687 2300.04 Q650.076 2300.04 648.247 2303.6 Q646.441 2307.14 646.441 2314.27 Q646.441 2321.38 648.247 2324.95 Q650.076 2328.49 653.687 2328.49 Q657.321 2328.49 659.127 2324.95 Q660.955 2321.38 660.955 2314.27 Q660.955 2307.14 659.127 2303.6 Q657.321 2300.04 653.687 2300.04 M653.687 2296.33 Q659.497 2296.33 662.552 2300.94 Q665.631 2305.52 665.631 2314.27 Q665.631 2323 662.552 2327.61 Q659.497 2332.19 653.687 2332.19 Q647.877 2332.19 644.798 2327.61 Q641.742 2323 641.742 2314.27 Q641.742 2305.52 644.798 2300.94 Q647.877 2296.33 653.687 2296.33 Z\" fill=\"#000000\" fill-rule=\"evenodd\" fill-opacity=\"1\" /><path clip-path=\"url(#clip3900)\" d=\"M 0 0 M671.511 2327.58 L679.15 2327.58 L679.15 2301.22 L670.839 2302.89 L670.839 2298.63 L679.103 2296.96 L683.779 2296.96 L683.779 2327.58 L691.418 2327.58 L691.418 2331.52 L671.511 2331.52 L671.511 2327.58 Z\" fill=\"#000000\" fill-rule=\"evenodd\" fill-opacity=\"1\" /><path clip-path=\"url(#clip3900)\" d=\"M 0 0 M2337.77 2327.58 L2354.09 2327.58 L2354.09 2331.52 L2332.14 2331.52 L2332.14 2327.58 Q2334.8 2324.83 2339.39 2320.2 Q2343.99 2315.55 2345.17 2314.2 Q2347.42 2311.68 2348.3 2309.95 Q2349.2 2308.19 2349.2 2306.5 Q2349.2 2303.74 2347.26 2302.01 Q2345.34 2300.27 2342.24 2300.27 Q2340.04 2300.27 2337.58 2301.03 Q2335.15 2301.8 2332.37 2303.35 L2332.37 2298.63 Q2335.2 2297.49 2337.65 2296.91 Q2340.11 2296.33 2342.14 2296.33 Q2347.51 2296.33 2350.71 2299.02 Q2353.9 2301.7 2353.9 2306.2 Q2353.9 2308.32 2353.09 2310.25 Q2352.3 2312.14 2350.2 2314.74 Q2349.62 2315.41 2346.52 2318.63 Q2343.42 2321.82 2337.77 2327.58 Z\" fill=\"#000000\" fill-rule=\"evenodd\" fill-opacity=\"1\" /><path clip-path=\"url(#clip3900)\" d=\"M 0 0 M2369.16 2300.04 Q2365.55 2300.04 2363.72 2303.6 Q2361.91 2307.14 2361.91 2314.27 Q2361.91 2321.38 2363.72 2324.95 Q2365.55 2328.49 2369.16 2328.49 Q2372.79 2328.49 2374.6 2324.95 Q2376.42 2321.38 2376.42 2314.27 Q2376.42 2307.14 2374.6 2303.6 Q2372.79 2300.04 2369.16 2300.04 M2369.16 2296.33 Q2374.97 2296.33 2378.02 2300.94 Q2381.1 2305.52 2381.1 2314.27 Q2381.1 2323 2378.02 2327.61 Q2374.97 2332.19 2369.16 2332.19 Q2363.35 2332.19 2360.27 2327.61 Q2357.21 2323 2357.21 2314.27 Q2357.21 2305.52 2360.27 2300.94 Q2363.35 2296.33 2369.16 2296.33 Z\" fill=\"#000000\" fill-rule=\"evenodd\" fill-opacity=\"1\" /><path clip-path=\"url(#clip3900)\" d=\"M 0 0 M2386.98 2327.58 L2394.62 2327.58 L2394.62 2301.22 L2386.31 2302.89 L2386.31 2298.63 L2394.57 2296.96 L2399.25 2296.96 L2399.25 2327.58 L2406.89 2327.58 L2406.89 2331.52 L2386.98 2331.52 L2386.98 2327.58 Z\" fill=\"#000000\" fill-rule=\"evenodd\" fill-opacity=\"1\" /><path clip-path=\"url(#clip3900)\" d=\"M 0 0 M2422.54 2312.38 Q2419.39 2312.38 2417.54 2314.53 Q2415.71 2316.68 2415.71 2320.43 Q2415.71 2324.16 2417.54 2326.33 Q2419.39 2328.49 2422.54 2328.49 Q2425.68 2328.49 2427.51 2326.33 Q2429.36 2324.16 2429.36 2320.43 Q2429.36 2316.68 2427.51 2314.53 Q2425.68 2312.38 2422.54 2312.38 M2431.82 2297.72 L2431.82 2301.98 Q2430.06 2301.15 2428.25 2300.71 Q2426.47 2300.27 2424.71 2300.27 Q2420.08 2300.27 2417.63 2303.39 Q2415.2 2306.52 2414.85 2312.84 Q2416.22 2310.82 2418.28 2309.76 Q2420.34 2308.67 2422.81 2308.67 Q2428.02 2308.67 2431.03 2311.84 Q2434.06 2314.99 2434.06 2320.43 Q2434.06 2325.76 2430.92 2328.97 Q2427.77 2332.19 2422.54 2332.19 Q2416.54 2332.19 2413.37 2327.61 Q2410.2 2323 2410.2 2314.27 Q2410.2 2306.08 2414.09 2301.22 Q2417.98 2296.33 2424.53 2296.33 Q2426.29 2296.33 2428.07 2296.68 Q2429.87 2297.03 2431.82 2297.72 Z\" fill=\"#000000\" fill-rule=\"evenodd\" fill-opacity=\"1\" /><path clip-path=\"url(#clip3900)\" d=\"M 0 0 M2436.38 2316.64 L2448.85 2316.64 L2448.85 2320.43 L2436.38 2320.43 L2436.38 2316.64 Z\" fill=\"#000000\" fill-rule=\"evenodd\" fill-opacity=\"1\" /><path clip-path=\"url(#clip3900)\" d=\"M 0 0 M2463.92 2300.04 Q2460.31 2300.04 2458.48 2303.6 Q2456.68 2307.14 2456.68 2314.27 Q2456.68 2321.38 2458.48 2324.95 Q2460.31 2328.49 2463.92 2328.49 Q2467.56 2328.49 2469.36 2324.95 Q2471.19 2321.38 2471.19 2314.27 Q2471.19 2307.14 2469.36 2303.6 Q2467.56 2300.04 2463.92 2300.04 M2463.92 2296.33 Q2469.73 2296.33 2472.79 2300.94 Q2475.87 2305.52 2475.87 2314.27 Q2475.87 2323 2472.79 2327.61 Q2469.73 2332.19 2463.92 2332.19 Q2458.11 2332.19 2455.04 2327.61 Q2451.98 2323 2451.98 2314.27 Q2451.98 2305.52 2455.04 2300.94 Q2458.11 2296.33 2463.92 2296.33 Z\" fill=\"#000000\" fill-rule=\"evenodd\" fill-opacity=\"1\" /><path clip-path=\"url(#clip3900)\" d=\"M 0 0 M2481.75 2327.58 L2489.39 2327.58 L2489.39 2301.22 L2481.08 2302.89 L2481.08 2298.63 L2489.34 2296.96 L2494.02 2296.96 L2494.02 2327.58 L2501.66 2327.58 L2501.66 2331.52 L2481.75 2331.52 L2481.75 2327.58 Z\" fill=\"#000000\" fill-rule=\"evenodd\" fill-opacity=\"1\" /><path clip-path=\"url(#clip3900)\" d=\"M 0 0 M2503.97 2316.64 L2516.45 2316.64 L2516.45 2320.43 L2503.97 2320.43 L2503.97 2316.64 Z\" fill=\"#000000\" fill-rule=\"evenodd\" fill-opacity=\"1\" /><path clip-path=\"url(#clip3900)\" d=\"M 0 0 M2531.52 2300.04 Q2527.91 2300.04 2526.08 2303.6 Q2524.27 2307.14 2524.27 2314.27 Q2524.27 2321.38 2526.08 2324.95 Q2527.91 2328.49 2531.52 2328.49 Q2535.15 2328.49 2536.96 2324.95 Q2538.78 2321.38 2538.78 2314.27 Q2538.78 2307.14 2536.96 2303.6 Q2535.15 2300.04 2531.52 2300.04 M2531.52 2296.33 Q2537.33 2296.33 2540.38 2300.94 Q2543.46 2305.52 2543.46 2314.27 Q2543.46 2323 2540.38 2327.61 Q2537.33 2332.19 2531.52 2332.19 Q2525.71 2332.19 2522.63 2327.61 Q2519.57 2323 2519.57 2314.27 Q2519.57 2305.52 2522.63 2300.94 Q2525.71 2296.33 2531.52 2296.33 Z\" fill=\"#000000\" fill-rule=\"evenodd\" fill-opacity=\"1\" /><path clip-path=\"url(#clip3900)\" d=\"M 0 0 M2549.34 2327.58 L2556.98 2327.58 L2556.98 2301.22 L2548.67 2302.89 L2548.67 2298.63 L2556.93 2296.96 L2561.61 2296.96 L2561.61 2327.58 L2569.25 2327.58 L2569.25 2331.52 L2549.34 2331.52 L2549.34 2327.58 Z\" fill=\"#000000\" fill-rule=\"evenodd\" fill-opacity=\"1\" /><path clip-path=\"url(#clip3900)\" d=\"M 0 0 M4218.46 2327.58 L4234.78 2327.58 L4234.78 2331.52 L4212.83 2331.52 L4212.83 2327.58 Q4215.5 2324.83 4220.08 2320.2 Q4224.69 2315.55 4225.87 2314.2 Q4228.11 2311.68 4228.99 2309.95 Q4229.89 2308.19 4229.89 2306.5 Q4229.89 2303.74 4227.95 2302.01 Q4226.03 2300.27 4222.93 2300.27 Q4220.73 2300.27 4218.27 2301.03 Q4215.84 2301.8 4213.07 2303.35 L4213.07 2298.63 Q4215.89 2297.49 4218.34 2296.91 Q4220.8 2296.33 4222.83 2296.33 Q4228.2 2296.33 4231.4 2299.02 Q4234.59 2301.7 4234.59 2306.2 Q4234.59 2308.32 4233.78 2310.25 Q4233 2312.14 4230.89 2314.74 Q4230.31 2315.41 4227.21 2318.63 Q4224.11 2321.82 4218.46 2327.58 Z\" fill=\"#000000\" fill-rule=\"evenodd\" fill-opacity=\"1\" /><path clip-path=\"url(#clip3900)\" d=\"M 0 0 M4249.85 2300.04 Q4246.24 2300.04 4244.41 2303.6 Q4242.6 2307.14 4242.6 2314.27 Q4242.6 2321.38 4244.41 2324.95 Q4246.24 2328.49 4249.85 2328.49 Q4253.48 2328.49 4255.29 2324.95 Q4257.12 2321.38 4257.12 2314.27 Q4257.12 2307.14 4255.29 2303.6 Q4253.48 2300.04 4249.85 2300.04 M4249.85 2296.33 Q4255.66 2296.33 4258.71 2300.94 Q4261.79 2305.52 4261.79 2314.27 Q4261.79 2323 4258.71 2327.61 Q4255.66 2332.19 4249.85 2332.19 Q4244.04 2332.19 4240.96 2327.61 Q4237.9 2323 4237.9 2314.27 Q4237.9 2305.52 4240.96 2300.94 Q4244.04 2296.33 4249.85 2296.33 Z\" fill=\"#000000\" fill-rule=\"evenodd\" fill-opacity=\"1\" /><path clip-path=\"url(#clip3900)\" d=\"M 0 0 M4267.67 2327.58 L4275.31 2327.58 L4275.31 2301.22 L4267 2302.89 L4267 2298.63 L4275.26 2296.96 L4279.94 2296.96 L4279.94 2327.58 L4287.58 2327.58 L4287.58 2331.52 L4267.67 2331.52 L4267.67 2327.58 Z\" fill=\"#000000\" fill-rule=\"evenodd\" fill-opacity=\"1\" /><path clip-path=\"url(#clip3900)\" d=\"M 0 0 M4302.65 2315.11 Q4299.32 2315.11 4297.39 2316.89 Q4295.5 2318.67 4295.5 2321.8 Q4295.5 2324.92 4297.39 2326.7 Q4299.32 2328.49 4302.65 2328.49 Q4305.98 2328.49 4307.9 2326.7 Q4309.82 2324.9 4309.82 2321.8 Q4309.82 2318.67 4307.9 2316.89 Q4306 2315.11 4302.65 2315.11 M4297.97 2313.12 Q4294.96 2312.38 4293.27 2310.32 Q4291.61 2308.26 4291.61 2305.29 Q4291.61 2301.15 4294.55 2298.74 Q4297.51 2296.33 4302.65 2296.33 Q4307.81 2296.33 4310.75 2298.74 Q4313.69 2301.15 4313.69 2305.29 Q4313.69 2308.26 4312 2310.32 Q4310.33 2312.38 4307.35 2313.12 Q4310.73 2313.9 4312.6 2316.2 Q4314.5 2318.49 4314.5 2321.8 Q4314.5 2326.82 4311.42 2329.51 Q4308.37 2332.19 4302.65 2332.19 Q4296.93 2332.19 4293.85 2329.51 Q4290.8 2326.82 4290.8 2321.8 Q4290.8 2318.49 4292.69 2316.2 Q4294.59 2313.9 4297.97 2313.12 M4296.26 2305.73 Q4296.26 2308.42 4297.93 2309.92 Q4299.62 2311.43 4302.65 2311.43 Q4305.66 2311.43 4307.35 2309.92 Q4309.06 2308.42 4309.06 2305.73 Q4309.06 2303.05 4307.35 2301.54 Q4305.66 2300.04 4302.65 2300.04 Q4299.62 2300.04 4297.93 2301.54 Q4296.26 2303.05 4296.26 2305.73 Z\" fill=\"#000000\" fill-rule=\"evenodd\" fill-opacity=\"1\" /><path clip-path=\"url(#clip3900)\" d=\"M 0 0 M4316.82 2316.64 L4329.29 2316.64 L4329.29 2320.43 L4316.82 2320.43 L4316.82 2316.64 Z\" fill=\"#000000\" fill-rule=\"evenodd\" fill-opacity=\"1\" /><path clip-path=\"url(#clip3900)\" d=\"M 0 0 M4344.36 2300.04 Q4340.75 2300.04 4338.92 2303.6 Q4337.12 2307.14 4337.12 2314.27 Q4337.12 2321.38 4338.92 2324.95 Q4340.75 2328.49 4344.36 2328.49 Q4348 2328.49 4349.8 2324.95 Q4351.63 2321.38 4351.63 2314.27 Q4351.63 2307.14 4349.8 2303.6 Q4348 2300.04 4344.36 2300.04 M4344.36 2296.33 Q4350.17 2296.33 4353.23 2300.94 Q4356.31 2305.52 4356.31 2314.27 Q4356.31 2323 4353.23 2327.61 Q4350.17 2332.19 4344.36 2332.19 Q4338.55 2332.19 4335.47 2327.61 Q4332.42 2323 4332.42 2314.27 Q4332.42 2305.52 4335.47 2300.94 Q4338.55 2296.33 4344.36 2296.33 Z\" fill=\"#000000\" fill-rule=\"evenodd\" fill-opacity=\"1\" /><path clip-path=\"url(#clip3900)\" d=\"M 0 0 M4362.19 2327.58 L4369.82 2327.58 L4369.82 2301.22 L4361.51 2302.89 L4361.51 2298.63 L4369.78 2296.96 L4374.45 2296.96 L4374.45 2327.58 L4382.09 2327.58 L4382.09 2331.52 L4362.19 2331.52 L4362.19 2327.58 Z\" fill=\"#000000\" fill-rule=\"evenodd\" fill-opacity=\"1\" /><path clip-path=\"url(#clip3900)\" d=\"M 0 0 M4384.41 2316.64 L4396.88 2316.64 L4396.88 2320.43 L4384.41 2320.43 L4384.41 2316.64 Z\" fill=\"#000000\" fill-rule=\"evenodd\" fill-opacity=\"1\" /><path clip-path=\"url(#clip3900)\" d=\"M 0 0 M4411.95 2300.04 Q4408.34 2300.04 4406.51 2303.6 Q4404.71 2307.14 4404.71 2314.27 Q4404.71 2321.38 4406.51 2324.95 Q4408.34 2328.49 4411.95 2328.49 Q4415.59 2328.49 4417.39 2324.95 Q4419.22 2321.38 4419.22 2314.27 Q4419.22 2307.14 4417.39 2303.6 Q4415.59 2300.04 4411.95 2300.04 M4411.95 2296.33 Q4417.76 2296.33 4420.82 2300.94 Q4423.9 2305.52 4423.9 2314.27 Q4423.9 2323 4420.82 2327.61 Q4417.76 2332.19 4411.95 2332.19 Q4406.14 2332.19 4403.06 2327.61 Q4400.01 2323 4400.01 2314.27 Q4400.01 2305.52 4403.06 2300.94 Q4406.14 2296.33 4411.95 2296.33 Z\" fill=\"#000000\" fill-rule=\"evenodd\" fill-opacity=\"1\" /><path clip-path=\"url(#clip3900)\" d=\"M 0 0 M4429.78 2327.58 L4437.42 2327.58 L4437.42 2301.22 L4429.11 2302.89 L4429.11 2298.63 L4437.37 2296.96 L4442.05 2296.96 L4442.05 2327.58 L4449.68 2327.58 L4449.68 2331.52 L4429.78 2331.52 L4429.78 2327.58 Z\" fill=\"#000000\" fill-rule=\"evenodd\" fill-opacity=\"1\" /><path clip-path=\"url(#clip3900)\" d=\"M 0 0 M6096.59 2327.58 L6112.91 2327.58 L6112.91 2331.52 L6090.96 2331.52 L6090.96 2327.58 Q6093.63 2324.83 6098.21 2320.2 Q6102.82 2315.55 6104 2314.2 Q6106.24 2311.68 6107.12 2309.95 Q6108.02 2308.19 6108.02 2306.5 Q6108.02 2303.74 6106.08 2302.01 Q6104.16 2300.27 6101.06 2300.27 Q6098.86 2300.27 6096.4 2301.03 Q6093.97 2301.8 6091.2 2303.35 L6091.2 2298.63 Q6094.02 2297.49 6096.47 2296.91 Q6098.93 2296.33 6100.96 2296.33 Q6106.34 2296.33 6109.53 2299.02 Q6112.72 2301.7 6112.72 2306.2 Q6112.72 2308.32 6111.91 2310.25 Q6111.13 2312.14 6109.02 2314.74 Q6108.44 2315.41 6105.34 2318.63 Q6102.24 2321.82 6096.59 2327.58 Z\" fill=\"#000000\" fill-rule=\"evenodd\" fill-opacity=\"1\" /><path clip-path=\"url(#clip3900)\" d=\"M 0 0 M6127.98 2300.04 Q6124.37 2300.04 6122.54 2303.6 Q6120.73 2307.14 6120.73 2314.27 Q6120.73 2321.38 6122.54 2324.95 Q6124.37 2328.49 6127.98 2328.49 Q6131.61 2328.49 6133.42 2324.95 Q6135.25 2321.38 6135.25 2314.27 Q6135.25 2307.14 6133.42 2303.6 Q6131.61 2300.04 6127.98 2300.04 M6127.98 2296.33 Q6133.79 2296.33 6136.84 2300.94 Q6139.92 2305.52 6139.92 2314.27 Q6139.92 2323 6136.84 2327.61 Q6133.79 2332.19 6127.98 2332.19 Q6122.17 2332.19 6119.09 2327.61 Q6116.03 2323 6116.03 2314.27 Q6116.03 2305.52 6119.09 2300.94 Q6122.17 2296.33 6127.98 2296.33 Z\" fill=\"#000000\" fill-rule=\"evenodd\" fill-opacity=\"1\" /><path clip-path=\"url(#clip3900)\" d=\"M 0 0 M6149.02 2327.58 L6165.34 2327.58 L6165.34 2331.52 L6143.4 2331.52 L6143.4 2327.58 Q6146.06 2324.83 6150.64 2320.2 Q6155.25 2315.55 6156.43 2314.2 Q6158.67 2311.68 6159.55 2309.95 Q6160.46 2308.19 6160.46 2306.5 Q6160.46 2303.74 6158.51 2302.01 Q6156.59 2300.27 6153.49 2300.27 Q6151.29 2300.27 6148.83 2301.03 Q6146.4 2301.8 6143.63 2303.35 L6143.63 2298.63 Q6146.45 2297.49 6148.9 2296.91 Q6151.36 2296.33 6153.4 2296.33 Q6158.77 2296.33 6161.96 2299.02 Q6165.15 2301.7 6165.15 2306.2 Q6165.15 2308.32 6164.34 2310.25 Q6163.56 2312.14 6161.45 2314.74 Q6160.87 2315.41 6157.77 2318.63 Q6154.67 2321.82 6149.02 2327.58 Z\" fill=\"#000000\" fill-rule=\"evenodd\" fill-opacity=\"1\" /><path clip-path=\"url(#clip3900)\" d=\"M 0 0 M6180.41 2300.04 Q6176.8 2300.04 6174.97 2303.6 Q6173.16 2307.14 6173.16 2314.27 Q6173.16 2321.38 6174.97 2324.95 Q6176.8 2328.49 6180.41 2328.49 Q6184.04 2328.49 6185.85 2324.95 Q6187.68 2321.38 6187.68 2314.27 Q6187.68 2307.14 6185.85 2303.6 Q6184.04 2300.04 6180.41 2300.04 M6180.41 2296.33 Q6186.22 2296.33 6189.27 2300.94 Q6192.35 2305.52 6192.35 2314.27 Q6192.35 2323 6189.27 2327.61 Q6186.22 2332.19 6180.41 2332.19 Q6174.6 2332.19 6171.52 2327.61 Q6168.46 2323 6168.46 2314.27 Q6168.46 2305.52 6171.52 2300.94 Q6174.6 2296.33 6180.41 2296.33 Z\" fill=\"#000000\" fill-rule=\"evenodd\" fill-opacity=\"1\" /><path clip-path=\"url(#clip3900)\" d=\"M 0 0 M6194.67 2316.64 L6207.14 2316.64 L6207.14 2320.43 L6194.67 2320.43 L6194.67 2316.64 Z\" fill=\"#000000\" fill-rule=\"evenodd\" fill-opacity=\"1\" /><path clip-path=\"url(#clip3900)\" d=\"M 0 0 M6222.21 2300.04 Q6218.6 2300.04 6216.77 2303.6 Q6214.97 2307.14 6214.97 2314.27 Q6214.97 2321.38 6216.77 2324.95 Q6218.6 2328.49 6222.21 2328.49 Q6225.85 2328.49 6227.65 2324.95 Q6229.48 2321.38 6229.48 2314.27 Q6229.48 2307.14 6227.65 2303.6 Q6225.85 2300.04 6222.21 2300.04 M6222.21 2296.33 Q6228.02 2296.33 6231.08 2300.94 Q6234.16 2305.52 6234.16 2314.27 Q6234.16 2323 6231.08 2327.61 Q6228.02 2332.19 6222.21 2332.19 Q6216.4 2332.19 6213.33 2327.61 Q6210.27 2323 6210.27 2314.27 Q6210.27 2305.52 6213.33 2300.94 Q6216.4 2296.33 6222.21 2296.33 Z\" fill=\"#000000\" fill-rule=\"evenodd\" fill-opacity=\"1\" /><path clip-path=\"url(#clip3900)\" d=\"M 0 0 M6240.04 2327.58 L6247.68 2327.58 L6247.68 2301.22 L6239.37 2302.89 L6239.37 2298.63 L6247.63 2296.96 L6252.31 2296.96 L6252.31 2327.58 L6259.95 2327.58 L6259.95 2331.52 L6240.04 2331.52 L6240.04 2327.58 Z\" fill=\"#000000\" fill-rule=\"evenodd\" fill-opacity=\"1\" /><path clip-path=\"url(#clip3900)\" d=\"M 0 0 M6262.26 2316.64 L6274.74 2316.64 L6274.74 2320.43 L6262.26 2320.43 L6262.26 2316.64 Z\" fill=\"#000000\" fill-rule=\"evenodd\" fill-opacity=\"1\" /><path clip-path=\"url(#clip3900)\" d=\"M 0 0 M6289.81 2300.04 Q6286.2 2300.04 6284.37 2303.6 Q6282.56 2307.14 6282.56 2314.27 Q6282.56 2321.38 6284.37 2324.95 Q6286.2 2328.49 6289.81 2328.49 Q6293.44 2328.49 6295.25 2324.95 Q6297.07 2321.38 6297.07 2314.27 Q6297.07 2307.14 6295.25 2303.6 Q6293.44 2300.04 6289.81 2300.04 M6289.81 2296.33 Q6295.62 2296.33 6298.67 2300.94 Q6301.75 2305.52 6301.75 2314.27 Q6301.75 2323 6298.67 2327.61 Q6295.62 2332.19 6289.81 2332.19 Q6284 2332.19 6280.92 2327.61 Q6277.86 2323 6277.86 2314.27 Q6277.86 2305.52 6280.92 2300.94 Q6284 2296.33 6289.81 2296.33 Z\" fill=\"#000000\" fill-rule=\"evenodd\" fill-opacity=\"1\" /><path clip-path=\"url(#clip3900)\" d=\"M 0 0 M6307.63 2327.58 L6315.27 2327.58 L6315.27 2301.22 L6306.96 2302.89 L6306.96 2298.63 L6315.22 2296.96 L6319.9 2296.96 L6319.9 2327.58 L6327.54 2327.58 L6327.54 2331.52 L6307.63 2331.52 L6307.63 2327.58 Z\" fill=\"#000000\" fill-rule=\"evenodd\" fill-opacity=\"1\" /><path clip-path=\"url(#clip3900)\" d=\"M 0 0 M121.234 2046.57 Q124.591 2047.28 126.466 2049.55 Q128.364 2051.82 128.364 2055.15 Q128.364 2060.27 124.846 2063.07 Q121.327 2065.87 114.846 2065.87 Q112.67 2065.87 110.355 2065.43 Q108.063 2065.02 105.61 2064.16 L105.61 2059.65 Q107.554 2060.78 109.869 2061.36 Q112.184 2061.94 114.707 2061.94 Q119.105 2061.94 121.397 2060.2 Q123.711 2058.47 123.711 2055.15 Q123.711 2052.1 121.559 2050.39 Q119.429 2048.65 115.61 2048.65 L111.582 2048.65 L111.582 2044.81 L115.795 2044.81 Q119.244 2044.81 121.072 2043.44 Q122.901 2042.05 122.901 2039.46 Q122.901 2036.8 121.003 2035.39 Q119.128 2033.95 115.61 2033.95 Q113.688 2033.95 111.489 2034.37 Q109.29 2034.78 106.651 2035.66 L106.651 2031.5 Q109.313 2030.76 111.628 2030.39 Q113.966 2030.02 116.026 2030.02 Q121.35 2030.02 124.452 2032.45 Q127.554 2034.85 127.554 2038.97 Q127.554 2041.84 125.91 2043.84 Q124.267 2045.8 121.234 2046.57 Z\" fill=\"#000000\" fill-rule=\"evenodd\" fill-opacity=\"1\" /><path clip-path=\"url(#clip3900)\" d=\"M 0 0 M143.433 2033.72 Q139.822 2033.72 137.994 2037.28 Q136.188 2040.83 136.188 2047.96 Q136.188 2055.06 137.994 2058.63 Q139.822 2062.17 143.433 2062.17 Q147.068 2062.17 148.873 2058.63 Q150.702 2055.06 150.702 2047.96 Q150.702 2040.83 148.873 2037.28 Q147.068 2033.72 143.433 2033.72 M143.433 2030.02 Q149.244 2030.02 152.299 2034.62 Q155.378 2039.21 155.378 2047.96 Q155.378 2056.68 152.299 2061.29 Q149.244 2065.87 143.433 2065.87 Q137.623 2065.87 134.545 2061.29 Q131.489 2056.68 131.489 2047.96 Q131.489 2039.21 134.545 2034.62 Q137.623 2030.02 143.433 2030.02 Z\" fill=\"#000000\" fill-rule=\"evenodd\" fill-opacity=\"1\" /><path clip-path=\"url(#clip3900)\" d=\"M 0 0 M118.781 1456.15 L106.975 1474.6 L118.781 1474.6 L118.781 1456.15 M117.554 1452.08 L123.434 1452.08 L123.434 1474.6 L128.364 1474.6 L128.364 1478.49 L123.434 1478.49 L123.434 1486.64 L118.781 1486.64 L118.781 1478.49 L103.179 1478.49 L103.179 1473.97 L117.554 1452.08 Z\" fill=\"#000000\" fill-rule=\"evenodd\" fill-opacity=\"1\" /><path clip-path=\"url(#clip3900)\" d=\"M 0 0 M143.433 1455.15 Q139.822 1455.15 137.994 1458.72 Q136.188 1462.26 136.188 1469.39 Q136.188 1476.5 137.994 1480.06 Q139.822 1483.6 143.433 1483.6 Q147.068 1483.6 148.873 1480.06 Q150.702 1476.5 150.702 1469.39 Q150.702 1462.26 148.873 1458.72 Q147.068 1455.15 143.433 1455.15 M143.433 1451.45 Q149.244 1451.45 152.299 1456.06 Q155.378 1460.64 155.378 1469.39 Q155.378 1478.12 152.299 1482.72 Q149.244 1487.31 143.433 1487.31 Q137.623 1487.31 134.545 1482.72 Q131.489 1478.12 131.489 1469.39 Q131.489 1460.64 134.545 1456.06 Q137.623 1451.45 143.433 1451.45 Z\" fill=\"#000000\" fill-rule=\"evenodd\" fill-opacity=\"1\" /><path clip-path=\"url(#clip3900)\" d=\"M 0 0 M107.461 873.512 L125.818 873.512 L125.818 877.447 L111.744 877.447 L111.744 885.919 Q112.762 885.572 113.781 885.41 Q114.799 885.224 115.818 885.224 Q121.605 885.224 124.984 888.396 Q128.364 891.567 128.364 896.984 Q128.364 902.562 124.892 905.664 Q121.42 908.743 115.1 908.743 Q112.924 908.743 110.656 908.372 Q108.41 908.002 106.003 907.261 L106.003 902.562 Q108.086 903.697 110.309 904.252 Q112.531 904.808 115.008 904.808 Q119.012 904.808 121.35 902.701 Q123.688 900.595 123.688 896.984 Q123.688 893.373 121.35 891.266 Q119.012 889.16 115.008 889.16 Q113.133 889.16 111.258 889.576 Q109.406 889.993 107.461 890.873 L107.461 873.512 Z\" fill=\"#000000\" fill-rule=\"evenodd\" fill-opacity=\"1\" /><path clip-path=\"url(#clip3900)\" d=\"M 0 0 M143.433 876.59 Q139.822 876.59 137.994 880.155 Q136.188 883.697 136.188 890.826 Q136.188 897.933 137.994 901.497 Q139.822 905.039 143.433 905.039 Q147.068 905.039 148.873 901.497 Q150.702 897.933 150.702 890.826 Q150.702 883.697 148.873 880.155 Q147.068 876.59 143.433 876.59 M143.433 872.887 Q149.244 872.887 152.299 877.493 Q155.378 882.076 155.378 890.826 Q155.378 899.553 152.299 904.16 Q149.244 908.743 143.433 908.743 Q137.623 908.743 134.545 904.16 Q131.489 899.553 131.489 890.826 Q131.489 882.076 134.545 877.493 Q137.623 872.887 143.433 872.887 Z\" fill=\"#000000\" fill-rule=\"evenodd\" fill-opacity=\"1\" /><path clip-path=\"url(#clip3900)\" d=\"M 0 0 M116.836 310.363 Q113.688 310.363 111.836 312.516 Q110.008 314.669 110.008 318.419 Q110.008 322.146 111.836 324.322 Q113.688 326.474 116.836 326.474 Q119.984 326.474 121.813 324.322 Q123.665 322.146 123.665 318.419 Q123.665 314.669 121.813 312.516 Q119.984 310.363 116.836 310.363 M126.119 295.711 L126.119 299.97 Q124.359 299.137 122.554 298.697 Q120.772 298.257 119.012 298.257 Q114.383 298.257 111.929 301.382 Q109.498 304.507 109.151 310.826 Q110.517 308.812 112.577 307.748 Q114.637 306.66 117.114 306.66 Q122.322 306.66 125.332 309.831 Q128.364 312.979 128.364 318.419 Q128.364 323.743 125.216 326.96 Q122.068 330.178 116.836 330.178 Q110.841 330.178 107.67 325.595 Q104.498 320.988 104.498 312.261 Q104.498 304.067 108.387 299.206 Q112.276 294.322 118.827 294.322 Q120.586 294.322 122.369 294.669 Q124.174 295.016 126.119 295.711 Z\" fill=\"#000000\" fill-rule=\"evenodd\" fill-opacity=\"1\" /><path clip-path=\"url(#clip3900)\" d=\"M 0 0 M143.433 298.025 Q139.822 298.025 137.994 301.59 Q136.188 305.132 136.188 312.261 Q136.188 319.368 137.994 322.933 Q139.822 326.474 143.433 326.474 Q147.068 326.474 148.873 322.933 Q150.702 319.368 150.702 312.261 Q150.702 305.132 148.873 301.59 Q147.068 298.025 143.433 298.025 M143.433 294.322 Q149.244 294.322 152.299 298.928 Q155.378 303.512 155.378 312.261 Q155.378 320.988 152.299 325.595 Q149.244 330.178 143.433 330.178 Q137.623 330.178 134.545 325.595 Q131.489 320.988 131.489 312.261 Q131.489 303.512 134.545 298.928 Q137.623 294.322 143.433 294.322 Z\" fill=\"#000000\" fill-rule=\"evenodd\" fill-opacity=\"1\" /><path clip-path=\"url(#clip3900)\" d=\"M 0 0 M3534.83 2388.14 L3534.83 2398.26 L3546.89 2398.26 L3546.89 2402.81 L3534.83 2402.81 L3534.83 2422.17 Q3534.83 2426.53 3536.01 2427.77 Q3537.22 2429.01 3540.88 2429.01 L3546.89 2429.01 L3546.89 2433.91 L3540.88 2433.91 Q3534.1 2433.91 3531.52 2431.4 Q3528.94 2428.85 3528.94 2422.17 L3528.94 2402.81 L3524.65 2402.81 L3524.65 2398.26 L3528.94 2398.26 L3528.94 2388.14 L3534.83 2388.14 Z\" fill=\"#000000\" fill-rule=\"evenodd\" fill-opacity=\"1\" /><path clip-path=\"url(#clip3900)\" d=\"M 0 0 M3553.04 2398.26 L3558.89 2398.26 L3558.89 2433.91 L3553.04 2433.91 L3553.04 2398.26 M3553.04 2384.39 L3558.89 2384.39 L3558.89 2391.8 L3553.04 2391.8 L3553.04 2384.39 Z\" fill=\"#000000\" fill-rule=\"evenodd\" fill-opacity=\"1\" /><path clip-path=\"url(#clip3900)\" d=\"M 0 0 M3592.79 2405.11 Q3594.99 2401.16 3598.04 2399.28 Q3601.1 2397.4 3605.24 2397.4 Q3610.81 2397.4 3613.83 2401.32 Q3616.85 2405.2 3616.85 2412.4 L3616.85 2433.91 L3610.96 2433.91 L3610.96 2412.59 Q3610.96 2407.46 3609.15 2404.98 Q3607.34 2402.5 3603.61 2402.5 Q3599.06 2402.5 3596.42 2405.52 Q3593.78 2408.54 3593.78 2413.76 L3593.78 2433.91 L3587.89 2433.91 L3587.89 2412.59 Q3587.89 2407.43 3586.07 2404.98 Q3584.26 2402.5 3580.47 2402.5 Q3575.99 2402.5 3573.34 2405.55 Q3570.7 2408.58 3570.7 2413.76 L3570.7 2433.91 L3564.81 2433.91 L3564.81 2398.26 L3570.7 2398.26 L3570.7 2403.8 Q3572.71 2400.52 3575.51 2398.96 Q3578.31 2397.4 3582.16 2397.4 Q3586.04 2397.4 3588.75 2399.38 Q3591.49 2401.35 3592.79 2405.11 Z\" fill=\"#000000\" fill-rule=\"evenodd\" fill-opacity=\"1\" /><path clip-path=\"url(#clip3900)\" d=\"M 0 0 M3653.49 2414.62 L3653.49 2417.49 L3626.56 2417.49 Q3626.94 2423.54 3630.19 2426.72 Q3633.47 2429.87 3639.29 2429.87 Q3642.67 2429.87 3645.82 2429.04 Q3649 2428.21 3652.12 2426.56 L3652.12 2432.1 Q3648.97 2433.43 3645.66 2434.13 Q3642.35 2434.83 3638.94 2434.83 Q3630.41 2434.83 3625.42 2429.87 Q3620.45 2424.9 3620.45 2416.44 Q3620.45 2407.68 3625.16 2402.56 Q3629.9 2397.4 3637.92 2397.4 Q3645.12 2397.4 3649.29 2402.05 Q3653.49 2406.67 3653.49 2414.62 M3647.63 2412.9 Q3647.57 2408.1 3644.93 2405.23 Q3642.32 2402.37 3637.99 2402.37 Q3633.09 2402.37 3630.13 2405.14 Q3627.2 2407.91 3626.75 2412.94 L3647.63 2412.9 Z\" fill=\"#000000\" fill-rule=\"evenodd\" fill-opacity=\"1\" /><path clip-path=\"url(#clip3900)\" d=\"M 0 0 M-16.7249 1287.55 L-16.7249 1281.69 L18.923 1281.69 L18.923 1287.55 L-16.7249 1287.55 M-30.6022 1287.55 L-30.6022 1281.69 L-23.1861 1281.69 L-23.1861 1287.55 L-30.6022 1287.55 Z\" fill=\"#000000\" fill-rule=\"evenodd\" fill-opacity=\"1\" /><path clip-path=\"url(#clip3900)\" d=\"M 0 0 M-2.59307 1245.92 L18.923 1245.92 L18.923 1251.77 L-2.4021 1251.77 Q-7.46284 1251.77 -9.97729 1253.74 Q-12.4917 1255.72 -12.4917 1259.67 Q-12.4917 1264.41 -9.46804 1267.14 Q-6.44433 1269.88 -1.22445 1269.88 L18.923 1269.88 L18.923 1275.77 L-16.7249 1275.77 L-16.7249 1269.88 L-11.1868 1269.88 Q-14.4015 1267.78 -15.9929 1264.95 Q-17.5843 1262.08 -17.5843 1258.36 Q-17.5843 1252.22 -13.7649 1249.07 Q-9.97729 1245.92 -2.59307 1245.92 Z\" fill=\"#000000\" fill-rule=\"evenodd\" fill-opacity=\"1\" /><path clip-path=\"url(#clip3900)\" d=\"M 0 0 M-11.3141 1216.31 L-30.6022 1216.31 L-30.6022 1210.46 L18.923 1210.46 L18.923 1216.31 L13.5758 1216.31 Q16.7587 1218.16 18.3183 1220.99 Q19.846 1223.79 19.846 1227.74 Q19.846 1234.2 14.6898 1238.28 Q9.5336 1242.32 1.13086 1242.32 Q-7.27187 1242.32 -12.4281 1238.28 Q-17.5843 1234.2 -17.5843 1227.74 Q-17.5843 1223.79 -16.0247 1220.99 Q-14.4969 1218.16 -11.3141 1216.31 M1.13086 1236.27 Q7.59206 1236.27 11.2842 1233.63 Q14.9444 1230.96 14.9444 1226.31 Q14.9444 1221.66 11.2842 1218.99 Q7.59206 1216.31 1.13086 1216.31 Q-5.33033 1216.31 -8.99061 1218.99 Q-12.6827 1221.66 -12.6827 1226.31 Q-12.6827 1230.96 -8.99061 1233.63 Q-5.33033 1236.27 1.13086 1236.27 Z\" fill=\"#000000\" fill-rule=\"evenodd\" fill-opacity=\"1\" /><path clip-path=\"url(#clip3900)\" d=\"M 0 0 M-16.7249 1204.32 L-16.7249 1198.46 L18.923 1198.46 L18.923 1204.32 L-16.7249 1204.32 M-30.6022 1204.32 L-30.6022 1198.46 L-23.1861 1198.46 L-23.1861 1204.32 L-30.6022 1204.32 Z\" fill=\"#000000\" fill-rule=\"evenodd\" fill-opacity=\"1\" /><path clip-path=\"url(#clip3900)\" d=\"M 0 0 M-15.3563 1166.66 L-9.88181 1166.66 Q-11.2504 1169.14 -11.9188 1171.66 Q-12.6191 1174.14 -12.6191 1176.69 Q-12.6191 1182.39 -8.99061 1185.54 Q-5.39398 1188.69 1.13086 1188.69 Q7.65571 1188.69 11.2842 1185.54 Q14.8808 1182.39 14.8808 1176.69 Q14.8808 1174.14 14.2124 1171.66 Q13.5122 1169.14 12.1435 1166.66 L17.5544 1166.66 Q18.7002 1169.11 19.2731 1171.75 Q19.846 1174.36 19.846 1177.32 Q19.846 1185.38 14.7853 1190.12 Q9.72457 1194.86 1.13086 1194.86 Q-7.59015 1194.86 -12.5872 1190.09 Q-17.5843 1185.28 -17.5843 1176.94 Q-17.5843 1174.24 -17.0114 1171.66 Q-16.4703 1169.08 -15.3563 1166.66 Z\" fill=\"#000000\" fill-rule=\"evenodd\" fill-opacity=\"1\" /><path clip-path=\"url(#clip3900)\" d=\"M 0 0 M1.00355 1144.32 Q1.00355 1151.42 2.62681 1154.15 Q4.25006 1156.89 8.16497 1156.89 Q11.2842 1156.89 13.1302 1154.85 Q14.9444 1152.78 14.9444 1149.25 Q14.9444 1144.38 11.507 1141.45 Q8.03766 1138.49 2.30852 1138.49 L1.00355 1138.49 L1.00355 1144.32 M-1.41542 1132.64 L18.923 1132.64 L18.923 1138.49 L13.5122 1138.49 Q16.7587 1140.5 18.3183 1143.49 Q19.846 1146.48 19.846 1150.81 Q19.846 1156.29 16.7905 1159.53 Q13.7031 1162.75 8.54691 1162.75 Q2.53132 1162.75 -0.524219 1158.74 Q-3.57976 1154.69 -3.57976 1146.71 L-3.57976 1138.49 L-4.15267 1138.49 Q-8.1949 1138.49 -10.3911 1141.17 Q-12.6191 1143.81 -12.6191 1148.62 Q-12.6191 1151.67 -11.887 1154.57 Q-11.1549 1157.46 -9.69084 1160.14 L-15.1017 1160.14 Q-16.343 1156.92 -16.9477 1153.9 Q-17.5843 1150.88 -17.5843 1148.01 Q-17.5843 1140.28 -13.5739 1136.46 Q-9.56352 1132.64 -1.41542 1132.64 Z\" fill=\"#000000\" fill-rule=\"evenodd\" fill-opacity=\"1\" /><path clip-path=\"url(#clip3900)\" d=\"M 0 0 M-26.8464 1120.7 L-16.7249 1120.7 L-16.7249 1108.64 L-12.1735 1108.64 L-12.1735 1120.7 L7.17829 1120.7 Q11.5388 1120.7 12.7801 1119.52 Q14.0214 1118.31 14.0214 1114.65 L14.0214 1108.64 L18.923 1108.64 L18.923 1114.65 Q18.923 1121.43 16.4086 1124.01 Q13.8623 1126.59 7.17829 1126.59 L-12.1735 1126.59 L-12.1735 1130.89 L-16.7249 1130.89 L-16.7249 1126.59 L-26.8464 1126.59 L-26.8464 1120.7 Z\" fill=\"#000000\" fill-rule=\"evenodd\" fill-opacity=\"1\" /><path clip-path=\"url(#clip3900)\" d=\"M 0 0 M-12.6191 1088.68 Q-12.6191 1093.39 -8.92695 1096.13 Q-5.26667 1098.87 1.13086 1098.87 Q7.5284 1098.87 11.2205 1096.16 Q14.8808 1093.42 14.8808 1088.68 Q14.8808 1084 11.1887 1081.27 Q7.49657 1078.53 1.13086 1078.53 Q-5.20301 1078.53 -8.89512 1081.27 Q-12.6191 1084 -12.6191 1088.68 M-17.5843 1088.68 Q-17.5843 1081.04 -12.6191 1076.68 Q-7.65381 1072.32 1.13086 1072.32 Q9.88371 1072.32 14.8808 1076.68 Q19.846 1081.04 19.846 1088.68 Q19.846 1096.35 14.8808 1100.71 Q9.88371 1105.04 1.13086 1105.04 Q-7.65381 1105.04 -12.6191 1100.71 Q-17.5843 1096.35 -17.5843 1088.68 Z\" fill=\"#000000\" fill-rule=\"evenodd\" fill-opacity=\"1\" /><path clip-path=\"url(#clip3900)\" d=\"M 0 0 M-11.2504 1045.52 Q-11.8233 1046.51 -12.078 1047.69 Q-12.3644 1048.83 -12.3644 1050.23 Q-12.3644 1055.2 -9.11792 1057.87 Q-5.90324 1060.51 0.14418 1060.51 L18.923 1060.51 L18.923 1066.4 L-16.7249 1066.4 L-16.7249 1060.51 L-11.1868 1060.51 Q-14.4333 1058.67 -15.9929 1055.71 Q-17.5843 1052.75 -17.5843 1048.51 Q-17.5843 1047.91 -17.4888 1047.18 Q-17.4252 1046.45 -17.266 1045.55 L-11.2504 1045.52 Z\" fill=\"#000000\" fill-rule=\"evenodd\" fill-opacity=\"1\" /><path clip-path=\"url(#clip3900)\" d=\"M 0 0 M-15.6746 1016.65 L-10.1364 1016.65 Q-11.4096 1019.14 -12.0461 1021.81 Q-12.6827 1024.48 -12.6827 1027.35 Q-12.6827 1031.71 -11.3459 1033.91 Q-10.0091 1036.07 -7.33553 1036.07 Q-5.2985 1036.07 -4.12084 1034.51 Q-2.97502 1032.95 -1.92467 1028.24 L-1.47908 1026.23 Q-0.142277 1020 2.30852 1017.39 Q4.72749 1014.74 9.088 1014.74 Q14.0532 1014.74 16.9496 1018.69 Q19.846 1022.61 19.846 1029.48 Q19.846 1032.35 19.2731 1035.46 Q18.732 1038.55 17.618 1041.99 L11.5706 1041.99 Q13.2575 1038.74 14.1169 1035.59 Q14.9444 1032.44 14.9444 1029.35 Q14.9444 1025.22 13.544 1022.99 Q12.1117 1020.76 9.5336 1020.76 Q7.14646 1020.76 5.87332 1022.38 Q4.60017 1023.97 3.42252 1029.42 L2.94509 1031.45 Q1.79926 1036.9 -0.556048 1039.32 Q-2.94319 1041.74 -7.0809 1041.74 Q-12.1098 1041.74 -14.8471 1038.17 Q-17.5843 1034.61 -17.5843 1028.05 Q-17.5843 1024.8 -17.1069 1021.94 Q-16.6295 1019.07 -15.6746 1016.65 Z\" fill=\"#000000\" fill-rule=\"evenodd\" fill-opacity=\"1\" /><polyline clip-path=\"url(#clip3902)\" style=\"stroke:#009af9; stroke-width:4; stroke-opacity:1; fill:none\" points=\"\n",
       "  6762.36,1220.57 6677.46,1347.86 6600.29,1926.42 6520.53,2192.56 6443.36,1249.5 6366.18,1070.15 6294.15,1087.5 6214.4,1174.29 6132.07,1087.5 6052.32,1023.86 \n",
       "  5972.57,1104.86 5900.54,1041.22 5815.64,792.436 5735.89,630.437 5663.86,676.723 5578.97,751.936 5501.79,456.868 5422.04,757.722 5350.01,572.581 5275.4,532.081 \n",
       "  5195.65,404.797 5113.33,497.367 5033.58,381.655 4964.12,399.011 4876.65,514.724 4799.47,543.653 4719.72,526.296 4639.97,647.794 4565.37,468.439 4483.04,329.584 \n",
       "  4411.01,647.794 4336.4,485.796 4251.51,329.584 4174.33,323.798 4097.15,294.87 4017.4,318.012 3937.65,589.938 3863.05,474.225 3780.72,688.294 3700.97,775.079 \n",
       "  3628.94,375.869 3544.05,647.794 3472.01,537.867 3397.41,711.436 3312.51,757.722 3235.34,723.008 3160.73,908.148 3078.41,989.148 2998.66,925.505 2918.91,867.649 \n",
       "  2841.73,937.077 2764.55,937.077 2684.8,1000.72 2605.05,977.576 2530.45,1128 2458.41,1000.72 2370.94,815.578 2296.34,1029.65 2214.02,861.863 2136.84,821.364 \n",
       "  2062.23,734.579 1977.34,572.581 1900.16,792.436 1820.41,989.148 1743.23,890.792 1666.05,809.792 1594.02,653.58 1514.27,497.367 1431.95,607.295 1359.92,572.581 \n",
       "  1275.02,624.652 1200.42,422.154 1118.09,416.368 1038.34,728.793 963.737,728.793 881.414,618.866 804.237,827.149 729.631,757.722 657.599,757.722 575.276,491.582 \n",
       "  495.526,514.724 415.775,705.651 \n",
       "  \"/>\n",
       "<polyline clip-path=\"url(#clip3902)\" style=\"stroke:#e26f46; stroke-width:4; stroke-opacity:1; fill:none\" points=\"\n",
       "  6762.36,1793.35 6677.46,1579.28 6600.29,1810.71 6520.53,1191.65 6443.36,1156.93 6366.18,1243.72 6294.15,1278.43 6214.4,688.294 6132.07,642.009 6052.32,618.866 \n",
       "  5972.57,584.152 5900.54,543.653 5815.64,676.723 5735.89,653.58 5663.86,728.793 5578.97,503.153 5501.79,468.439 5422.04,439.511 5350.01,456.868 5275.4,422.154 \n",
       "  5195.65,474.225 5113.33,491.582 5033.58,491.582 4964.12,526.296 4876.65,532.081 4799.47,584.152 4719.72,555.224 4639.97,393.226 4565.37,474.225 4483.04,549.438 \n",
       "  4411.01,329.584 4336.4,231.228 4251.51,109.729 4174.33,399.011 4097.15,555.224 4017.4,618.866 \n",
       "  \"/>\n",
       "<polyline clip-path=\"url(#clip3902)\" style=\"stroke:#3da44d; stroke-width:4; stroke-opacity:1; fill:none\" points=\"\n",
       "  6762.36,1347.86 6677.46,1926.42 6600.29,2192.56 6520.53,1249.5 6443.36,1070.15 6366.18,1087.5 6294.15,1168.5 6214.4,1087.5 6132.07,1023.86 6052.32,1104.86 \n",
       "  5972.57,1041.22 5900.54,792.436 5815.64,630.437 5735.89,676.723 5663.86,751.936 5578.97,456.868 5501.79,757.722 5422.04,572.581 5350.01,543.653 5275.4,404.797 \n",
       "  5195.65,497.367 5113.33,381.655 5033.58,399.011 4964.12,514.724 4876.65,543.653 4799.47,526.296 4719.72,647.794 4639.97,468.439 4565.37,329.584 4483.04,647.794 \n",
       "  4411.01,422.154 4336.4,329.584 4251.51,323.798 4174.33,294.87 4097.15,318.012 4017.4,589.938 3937.65,474.225 3863.05,688.294 3780.72,775.079 3700.97,375.869 \n",
       "  3628.94,647.794 3544.05,537.867 3472.01,711.436 3397.41,757.722 3312.51,723.008 3235.34,908.148 3160.73,989.148 3078.41,925.505 2998.66,867.649 2918.91,937.077 \n",
       "  2841.73,937.077 2764.55,1000.72 2684.8,977.576 2605.05,1128 2530.45,1000.72 2458.41,815.578 2370.94,1029.65 2296.34,861.863 2214.02,821.364 2136.84,734.579 \n",
       "  2062.23,572.581 1977.34,792.436 1900.16,989.148 1820.41,890.792 1743.23,809.792 1666.05,653.58 1594.02,497.367 1514.27,607.295 1431.95,572.581 1359.92,624.652 \n",
       "  1275.02,422.154 1200.42,416.368 1118.09,728.793 1038.34,728.793 963.737,618.866 881.414,827.149 804.237,757.722 729.631,757.722 657.599,491.582 575.276,514.724 \n",
       "  495.526,705.651 \n",
       "  \"/>\n",
       "<path clip-path=\"url(#clip3900)\" d=\"\n",
       "M435.378 648.684 L1313.57 648.684 L1313.57 406.764 L435.378 406.764  Z\n",
       "  \" fill=\"#ffffff\" fill-rule=\"evenodd\" fill-opacity=\"1\"/>\n",
       "<polyline clip-path=\"url(#clip3900)\" style=\"stroke:#000000; stroke-width:4; stroke-opacity:1; fill:none\" points=\"\n",
       "  435.378,648.684 1313.57,648.684 1313.57,406.764 435.378,406.764 435.378,648.684 \n",
       "  \"/>\n",
       "<polyline clip-path=\"url(#clip3900)\" style=\"stroke:#009af9; stroke-width:4; stroke-opacity:1; fill:none\" points=\"\n",
       "  505.378,467.244 925.378,467.244 \n",
       "  \"/>\n",
       "<path clip-path=\"url(#clip3900)\" d=\"M 0 0 M1008.78 471.492 Q1003.62 471.492 1001.63 472.672 Q999.637 473.853 999.637 476.7 Q999.637 478.969 1001.12 480.311 Q1002.62 481.631 1005.19 481.631 Q1008.73 481.631 1010.86 479.131 Q1013.02 476.607 1013.02 472.441 L1013.02 471.492 L1008.78 471.492 M1017.28 469.733 L1017.28 484.524 L1013.02 484.524 L1013.02 480.589 Q1011.56 482.95 1009.38 484.084 Q1007.21 485.195 1004.06 485.195 Q1000.08 485.195 997.716 482.973 Q995.378 480.728 995.378 476.978 Q995.378 472.603 998.294 470.381 Q1001.23 468.158 1007.04 468.158 L1013.02 468.158 L1013.02 467.742 Q1013.02 464.802 1011.07 463.205 Q1009.15 461.584 1005.66 461.584 Q1003.43 461.584 1001.33 462.117 Q999.22 462.649 997.276 463.714 L997.276 459.779 Q999.614 458.876 1001.81 458.436 Q1004.01 457.973 1006.1 457.973 Q1011.72 457.973 1014.5 460.89 Q1017.28 463.807 1017.28 469.733 Z\" fill=\"#000000\" fill-rule=\"evenodd\" fill-opacity=\"1\" /><path clip-path=\"url(#clip3900)\" d=\"M 0 0 M1040.4 459.594 L1040.4 463.575 Q1038.6 462.58 1036.77 462.094 Q1034.96 461.584 1033.11 461.584 Q1028.97 461.584 1026.67 464.223 Q1024.38 466.839 1024.38 471.584 Q1024.38 476.33 1026.67 478.969 Q1028.97 481.584 1033.11 481.584 Q1034.96 481.584 1036.77 481.098 Q1038.6 480.589 1040.4 479.594 L1040.4 483.529 Q1038.62 484.362 1036.7 484.779 Q1034.8 485.195 1032.65 485.195 Q1026.79 485.195 1023.34 481.515 Q1019.89 477.834 1019.89 471.584 Q1019.89 465.242 1023.36 461.608 Q1026.86 457.973 1032.92 457.973 Q1034.89 457.973 1036.77 458.39 Q1038.64 458.783 1040.4 459.594 Z\" fill=\"#000000\" fill-rule=\"evenodd\" fill-opacity=\"1\" /><path clip-path=\"url(#clip3900)\" d=\"M 0 0 M1049.08 451.237 L1049.08 458.598 L1057.85 458.598 L1057.85 461.908 L1049.08 461.908 L1049.08 475.982 Q1049.08 479.154 1049.94 480.057 Q1050.82 480.959 1053.48 480.959 L1057.85 480.959 L1057.85 484.524 L1053.48 484.524 Q1048.55 484.524 1046.67 482.695 Q1044.8 480.844 1044.8 475.982 L1044.8 461.908 L1041.67 461.908 L1041.67 458.598 L1044.8 458.598 L1044.8 451.237 L1049.08 451.237 Z\" fill=\"#000000\" fill-rule=\"evenodd\" fill-opacity=\"1\" /><path clip-path=\"url(#clip3900)\" d=\"M 0 0 M1061.88 474.293 L1061.88 458.598 L1066.14 458.598 L1066.14 474.131 Q1066.14 477.811 1067.58 479.663 Q1069.01 481.492 1071.88 481.492 Q1075.33 481.492 1077.32 479.293 Q1079.34 477.094 1079.34 473.297 L1079.34 458.598 L1083.59 458.598 L1083.59 484.524 L1079.34 484.524 L1079.34 480.543 Q1077.78 482.904 1075.72 484.061 Q1073.69 485.195 1070.98 485.195 Q1066.51 485.195 1064.2 482.418 Q1061.88 479.64 1061.88 474.293 M1072.6 457.973 L1072.6 457.973 Z\" fill=\"#000000\" fill-rule=\"evenodd\" fill-opacity=\"1\" /><path clip-path=\"url(#clip3900)\" d=\"M 0 0 M1099.84 471.492 Q1094.68 471.492 1092.69 472.672 Q1090.7 473.853 1090.7 476.7 Q1090.7 478.969 1092.18 480.311 Q1093.69 481.631 1096.26 481.631 Q1099.8 481.631 1101.93 479.131 Q1104.08 476.607 1104.08 472.441 L1104.08 471.492 L1099.84 471.492 M1108.34 469.733 L1108.34 484.524 L1104.08 484.524 L1104.08 480.589 Q1102.62 482.95 1100.45 484.084 Q1098.27 485.195 1095.12 485.195 Q1091.14 485.195 1088.78 482.973 Q1086.44 480.728 1086.44 476.978 Q1086.44 472.603 1089.36 470.381 Q1092.3 468.158 1098.11 468.158 L1104.08 468.158 L1104.08 467.742 Q1104.08 464.802 1102.14 463.205 Q1100.22 461.584 1096.72 461.584 Q1094.5 461.584 1092.39 462.117 Q1090.28 462.649 1088.34 463.714 L1088.34 459.779 Q1090.68 458.876 1092.88 458.436 Q1095.08 457.973 1097.16 457.973 Q1102.78 457.973 1105.56 460.89 Q1108.34 463.807 1108.34 469.733 Z\" fill=\"#000000\" fill-rule=\"evenodd\" fill-opacity=\"1\" /><path clip-path=\"url(#clip3900)\" d=\"M 0 0 M1112.81 448.506 L1117.07 448.506 L1117.07 484.524 L1112.81 484.524 L1112.81 448.506 Z\" fill=\"#000000\" fill-rule=\"evenodd\" fill-opacity=\"1\" /><path clip-path=\"url(#clip3900)\" d=\"M 0 0 M1138.06 459.362 L1138.06 463.39 Q1136.26 462.464 1134.31 462.001 Q1132.37 461.538 1130.28 461.538 Q1127.11 461.538 1125.52 462.51 Q1123.94 463.483 1123.94 465.427 Q1123.94 466.908 1125.08 467.765 Q1126.21 468.598 1129.64 469.362 L1131.09 469.686 Q1135.63 470.658 1137.53 472.441 Q1139.45 474.2 1139.45 477.371 Q1139.45 480.982 1136.58 483.089 Q1133.73 485.195 1128.73 485.195 Q1126.65 485.195 1124.38 484.779 Q1122.14 484.385 1119.64 483.575 L1119.64 479.177 Q1122 480.404 1124.29 481.029 Q1126.58 481.631 1128.83 481.631 Q1131.84 481.631 1133.46 480.612 Q1135.08 479.57 1135.08 477.695 Q1135.08 475.959 1133.9 475.033 Q1132.74 474.107 1128.78 473.251 L1127.3 472.904 Q1123.34 472.07 1121.58 470.358 Q1119.82 468.621 1119.82 465.612 Q1119.82 461.955 1122.41 459.964 Q1125.01 457.973 1129.78 457.973 Q1132.14 457.973 1134.22 458.321 Q1136.3 458.668 1138.06 459.362 Z\" fill=\"#000000\" fill-rule=\"evenodd\" fill-opacity=\"1\" /><polyline clip-path=\"url(#clip3900)\" style=\"stroke:#e26f46; stroke-width:4; stroke-opacity:1; fill:none\" points=\"\n",
       "  505.378,527.724 925.378,527.724 \n",
       "  \"/>\n",
       "<path clip-path=\"url(#clip3900)\" d=\"M 0 0 M1011.88 508.986 L1011.88 512.527 L1007.81 512.527 Q1005.52 512.527 1004.61 513.453 Q1003.73 514.379 1003.73 516.787 L1003.73 519.078 L1010.75 519.078 L1010.75 522.388 L1003.73 522.388 L1003.73 545.004 L999.452 545.004 L999.452 522.388 L995.378 522.388 L995.378 519.078 L999.452 519.078 L999.452 517.273 Q999.452 512.944 1001.47 510.976 Q1003.48 508.986 1007.85 508.986 L1011.88 508.986 Z\" fill=\"#000000\" fill-rule=\"evenodd\" fill-opacity=\"1\" /><path clip-path=\"url(#clip3900)\" d=\"M 0 0 M1026.4 522.064 Q1022.97 522.064 1020.98 524.75 Q1018.99 527.412 1018.99 532.064 Q1018.99 536.717 1020.96 539.402 Q1022.95 542.064 1026.4 542.064 Q1029.8 542.064 1031.79 539.379 Q1033.78 536.694 1033.78 532.064 Q1033.78 527.458 1031.79 524.773 Q1029.8 522.064 1026.4 522.064 M1026.4 518.453 Q1031.95 518.453 1035.12 522.064 Q1038.29 525.675 1038.29 532.064 Q1038.29 538.43 1035.12 542.064 Q1031.95 545.675 1026.4 545.675 Q1020.82 545.675 1017.65 542.064 Q1014.5 538.43 1014.5 532.064 Q1014.5 525.675 1017.65 522.064 Q1020.82 518.453 1026.4 518.453 Z\" fill=\"#000000\" fill-rule=\"evenodd\" fill-opacity=\"1\" /><path clip-path=\"url(#clip3900)\" d=\"M 0 0 M1057.78 523.06 Q1057.07 522.643 1056.21 522.458 Q1055.38 522.25 1054.36 522.25 Q1050.75 522.25 1048.8 524.611 Q1046.88 526.949 1046.88 531.347 L1046.88 545.004 L1042.6 545.004 L1042.6 519.078 L1046.88 519.078 L1046.88 523.106 Q1048.22 520.745 1050.38 519.611 Q1052.53 518.453 1055.61 518.453 Q1056.05 518.453 1056.58 518.523 Q1057.11 518.569 1057.76 518.685 L1057.78 523.06 Z\" fill=\"#000000\" fill-rule=\"evenodd\" fill-opacity=\"1\" /><path clip-path=\"url(#clip3900)\" d=\"M 0 0 M1079.87 520.074 L1079.87 524.055 Q1078.06 523.06 1076.23 522.574 Q1074.43 522.064 1072.58 522.064 Q1068.43 522.064 1066.14 524.703 Q1063.85 527.319 1063.85 532.064 Q1063.85 536.81 1066.14 539.449 Q1068.43 542.064 1072.58 542.064 Q1074.43 542.064 1076.23 541.578 Q1078.06 541.069 1079.87 540.074 L1079.87 544.009 Q1078.09 544.842 1076.16 545.259 Q1074.27 545.675 1072.11 545.675 Q1066.26 545.675 1062.81 541.995 Q1059.36 538.314 1059.36 532.064 Q1059.36 525.722 1062.83 522.088 Q1066.33 518.453 1072.39 518.453 Q1074.36 518.453 1076.23 518.87 Q1078.11 519.263 1079.87 520.074 Z\" fill=\"#000000\" fill-rule=\"evenodd\" fill-opacity=\"1\" /><path clip-path=\"url(#clip3900)\" d=\"M 0 0 M1096.12 531.972 Q1090.96 531.972 1088.97 533.152 Q1086.97 534.333 1086.97 537.18 Q1086.97 539.449 1088.46 540.791 Q1089.96 542.111 1092.53 542.111 Q1096.07 542.111 1098.2 539.611 Q1100.35 537.087 1100.35 532.921 L1100.35 531.972 L1096.12 531.972 M1104.61 530.213 L1104.61 545.004 L1100.35 545.004 L1100.35 541.069 Q1098.9 543.43 1096.72 544.564 Q1094.54 545.675 1091.4 545.675 Q1087.41 545.675 1085.05 543.453 Q1082.72 541.208 1082.72 537.458 Q1082.72 533.083 1085.63 530.861 Q1088.57 528.638 1094.38 528.638 L1100.35 528.638 L1100.35 528.222 Q1100.35 525.282 1098.41 523.685 Q1096.49 522.064 1092.99 522.064 Q1090.77 522.064 1088.66 522.597 Q1086.56 523.129 1084.61 524.194 L1084.61 520.259 Q1086.95 519.356 1089.15 518.916 Q1091.35 518.453 1093.43 518.453 Q1099.06 518.453 1101.84 521.37 Q1104.61 524.287 1104.61 530.213 Z\" fill=\"#000000\" fill-rule=\"evenodd\" fill-opacity=\"1\" /><path clip-path=\"url(#clip3900)\" d=\"M 0 0 M1125.61 519.842 L1125.61 523.87 Q1123.8 522.944 1121.86 522.481 Q1119.91 522.018 1117.83 522.018 Q1114.66 522.018 1113.06 522.99 Q1111.49 523.963 1111.49 525.907 Q1111.49 527.388 1112.62 528.245 Q1113.76 529.078 1117.18 529.842 L1118.64 530.166 Q1123.18 531.138 1125.08 532.921 Q1127 534.68 1127 537.851 Q1127 541.462 1124.13 543.569 Q1121.28 545.675 1116.28 545.675 Q1114.2 545.675 1111.93 545.259 Q1109.68 544.865 1107.18 544.055 L1107.18 539.657 Q1109.54 540.884 1111.84 541.509 Q1114.13 542.111 1116.37 542.111 Q1119.38 542.111 1121 541.092 Q1122.62 540.05 1122.62 538.175 Q1122.62 536.439 1121.44 535.513 Q1120.28 534.587 1116.33 533.731 L1114.84 533.384 Q1110.89 532.55 1109.13 530.838 Q1107.37 529.101 1107.37 526.092 Q1107.37 522.435 1109.96 520.444 Q1112.55 518.453 1117.32 518.453 Q1119.68 518.453 1121.77 518.801 Q1123.85 519.148 1125.61 519.842 Z\" fill=\"#000000\" fill-rule=\"evenodd\" fill-opacity=\"1\" /><path clip-path=\"url(#clip3900)\" d=\"M 0 0 M1135.68 511.717 L1135.68 519.078 L1144.45 519.078 L1144.45 522.388 L1135.68 522.388 L1135.68 536.462 Q1135.68 539.634 1136.53 540.537 Q1137.41 541.439 1140.08 541.439 L1144.45 541.439 L1144.45 545.004 L1140.08 545.004 Q1135.15 545.004 1133.27 543.175 Q1131.4 541.324 1131.4 536.462 L1131.4 522.388 L1128.27 522.388 L1128.27 519.078 L1131.4 519.078 L1131.4 511.717 L1135.68 511.717 Z\" fill=\"#000000\" fill-rule=\"evenodd\" fill-opacity=\"1\" /><polyline clip-path=\"url(#clip3900)\" style=\"stroke:#3da44d; stroke-width:4; stroke-opacity:1; fill:none\" points=\"\n",
       "  505.378,588.204 925.378,588.204 \n",
       "  \"/>\n",
       "<path clip-path=\"url(#clip3900)\" d=\"M 0 0 M999.66 601.595 L999.66 615.345 L995.378 615.345 L995.378 579.558 L999.66 579.558 L999.66 583.493 Q1001 581.179 1003.04 580.068 Q1005.1 578.933 1007.95 578.933 Q1012.67 578.933 1015.61 582.683 Q1018.57 586.433 1018.57 592.544 Q1018.57 598.655 1015.61 602.405 Q1012.67 606.155 1007.95 606.155 Q1005.1 606.155 1003.04 605.044 Q1001 603.91 999.66 601.595 M1014.15 592.544 Q1014.15 587.845 1012.21 585.183 Q1010.29 582.498 1006.91 582.498 Q1003.53 582.498 1001.58 585.183 Q999.66 587.845 999.66 592.544 Q999.66 597.243 1001.58 599.929 Q1003.53 602.591 1006.91 602.591 Q1010.29 602.591 1012.21 599.929 Q1014.15 597.243 1014.15 592.544 Z\" fill=\"#000000\" fill-rule=\"evenodd\" fill-opacity=\"1\" /><path clip-path=\"url(#clip3900)\" d=\"M 0 0 M1038.06 583.54 Q1037.35 583.123 1036.49 582.938 Q1035.66 582.73 1034.64 582.73 Q1031.03 582.73 1029.08 585.091 Q1027.16 587.429 1027.16 591.827 L1027.16 605.484 L1022.88 605.484 L1022.88 579.558 L1027.16 579.558 L1027.16 583.586 Q1028.5 581.225 1030.66 580.091 Q1032.81 578.933 1035.89 578.933 Q1036.33 578.933 1036.86 579.003 Q1037.39 579.049 1038.04 579.165 L1038.06 583.54 Z\" fill=\"#000000\" fill-rule=\"evenodd\" fill-opacity=\"1\" /><path clip-path=\"url(#clip3900)\" d=\"M 0 0 M1063.66 591.456 L1063.66 593.54 L1044.08 593.54 Q1044.36 597.938 1046.72 600.253 Q1049.1 602.544 1053.34 602.544 Q1055.79 602.544 1058.09 601.942 Q1060.4 601.341 1062.67 600.137 L1062.67 604.165 Q1060.38 605.137 1057.97 605.646 Q1055.56 606.155 1053.09 606.155 Q1046.88 606.155 1043.25 602.544 Q1039.64 598.933 1039.64 592.776 Q1039.64 586.41 1043.06 582.683 Q1046.51 578.933 1052.35 578.933 Q1057.58 578.933 1060.61 582.313 Q1063.66 585.669 1063.66 591.456 M1059.41 590.206 Q1059.36 586.711 1057.44 584.628 Q1055.54 582.544 1052.39 582.544 Q1048.83 582.544 1046.67 584.558 Q1044.54 586.572 1044.22 590.23 L1059.41 590.206 Z\" fill=\"#000000\" fill-rule=\"evenodd\" fill-opacity=\"1\" /><path clip-path=\"url(#clip3900)\" d=\"M 0 0 M1065.08 579.558 L1069.59 579.558 L1077.69 601.317 L1085.79 579.558 L1090.31 579.558 L1080.59 605.484 L1074.8 605.484 L1065.08 579.558 Z\" fill=\"#000000\" fill-rule=\"evenodd\" fill-opacity=\"1\" /><path clip-path=\"url(#clip3900)\" d=\"M 0 0 M1094.78 579.558 L1099.03 579.558 L1099.03 605.484 L1094.78 605.484 L1094.78 579.558 M1094.78 569.466 L1099.03 569.466 L1099.03 574.859 L1094.78 574.859 L1094.78 569.466 Z\" fill=\"#000000\" fill-rule=\"evenodd\" fill-opacity=\"1\" /><path clip-path=\"url(#clip3900)\" d=\"M 0 0 M1113.55 582.544 Q1110.12 582.544 1108.13 585.23 Q1106.14 587.892 1106.14 592.544 Q1106.14 597.197 1108.11 599.882 Q1110.1 602.544 1113.55 602.544 Q1116.95 602.544 1118.94 599.859 Q1120.93 597.174 1120.93 592.544 Q1120.93 587.938 1118.94 585.253 Q1116.95 582.544 1113.55 582.544 M1113.55 578.933 Q1119.1 578.933 1122.28 582.544 Q1125.45 586.155 1125.45 592.544 Q1125.45 598.91 1122.28 602.544 Q1119.1 606.155 1113.55 606.155 Q1107.97 606.155 1104.8 602.544 Q1101.65 598.91 1101.65 592.544 Q1101.65 586.155 1104.8 582.544 Q1107.97 578.933 1113.55 578.933 Z\" fill=\"#000000\" fill-rule=\"evenodd\" fill-opacity=\"1\" /><path clip-path=\"url(#clip3900)\" d=\"M 0 0 M1129.47 595.253 L1129.47 579.558 L1133.73 579.558 L1133.73 595.091 Q1133.73 598.771 1135.17 600.623 Q1136.6 602.452 1139.47 602.452 Q1142.92 602.452 1144.91 600.253 Q1146.93 598.054 1146.93 594.257 L1146.93 579.558 L1151.19 579.558 L1151.19 605.484 L1146.93 605.484 L1146.93 601.503 Q1145.38 603.864 1143.32 605.021 Q1141.28 606.155 1138.57 606.155 Q1134.1 606.155 1131.79 603.378 Q1129.47 600.6 1129.47 595.253 M1140.19 578.933 L1140.19 578.933 Z\" fill=\"#000000\" fill-rule=\"evenodd\" fill-opacity=\"1\" /><path clip-path=\"url(#clip3900)\" d=\"M 0 0 M1172.18 580.322 L1172.18 584.35 Q1170.38 583.424 1168.43 582.961 Q1166.49 582.498 1164.4 582.498 Q1161.23 582.498 1159.64 583.47 Q1158.06 584.443 1158.06 586.387 Q1158.06 587.868 1159.2 588.725 Q1160.33 589.558 1163.76 590.322 L1165.21 590.646 Q1169.75 591.618 1171.65 593.401 Q1173.57 595.16 1173.57 598.331 Q1173.57 601.942 1170.7 604.049 Q1167.85 606.155 1162.85 606.155 Q1160.77 606.155 1158.5 605.739 Q1156.26 605.345 1153.76 604.535 L1153.76 600.137 Q1156.12 601.364 1158.41 601.989 Q1160.7 602.591 1162.95 602.591 Q1165.96 602.591 1167.58 601.572 Q1169.2 600.53 1169.2 598.655 Q1169.2 596.919 1168.02 595.993 Q1166.86 595.067 1162.9 594.211 L1161.42 593.864 Q1157.46 593.03 1155.7 591.318 Q1153.94 589.581 1153.94 586.572 Q1153.94 582.915 1156.53 580.924 Q1159.13 578.933 1163.9 578.933 Q1166.26 578.933 1168.34 579.281 Q1170.42 579.628 1172.18 580.322 Z\" fill=\"#000000\" fill-rule=\"evenodd\" fill-opacity=\"1\" /></svg>\n"
      ]
     },
     "execution_count": 60,
     "metadata": {},
     "output_type": "execute_result"
    }
   ],
   "source": [
    "df = df_ISM_Mfc_Emp\n",
    "periods = df[:,1] # all rows, first column\n",
    "println(periods[begin], \" to \", periods[end])\n",
    "gr()\n",
    "plot(periods, \n",
    "    [df[:,2]  df[:,3] df[:,4] ], \n",
    "    label    = [\"actuals\" \"forcast\" \"previous\"],\n",
    "    legend    =:topleft, # :right, :left, :top, :bottom, :inside, :best, :legend, :topright, :topleft, :bottomleft, :bottomright\n",
    "    xlabel   = \"time\",\n",
    "    ylabel   = \"indicators\",\n",
    "    size     = (1750, 600), # width, height\n",
    "    layout = (1, 1) # number of seperate plots VERTICALLY, HORIZONTALLY\n",
    "    )"
   ]
  },
  {
   "cell_type": "code",
   "execution_count": 63,
   "metadata": {},
   "outputs": [
    {
     "data": {
      "text/plain": [
       "(82, 2)"
      ]
     },
     "execution_count": 63,
     "metadata": {},
     "output_type": "execute_result"
    }
   ],
   "source": [
    "df1 = df_ISM_Mfc_Emp[:,1:2] # all rows, columns: Date and Actuals\n",
    "size(df1)"
   ]
  },
  {
   "cell_type": "code",
   "execution_count": 66,
   "metadata": {},
   "outputs": [
    {
     "data": {
      "text/plain": [
       "(82, 2)"
      ]
     },
     "execution_count": 66,
     "metadata": {},
     "output_type": "execute_result"
    }
   ],
   "source": [
    "df2 = df_Markkit_Mfc_PMI[end-81:end,1:2] # last 82 rows, columns: Date and Actuals\n",
    "size(df2)"
   ]
  },
  {
   "cell_type": "code",
   "execution_count": 67,
   "metadata": {},
   "outputs": [
    {
     "name": "stdout",
     "output_type": "stream",
     "text": [
      "2015-09-23 to 2012-04-25\n"
     ]
    },
    {
     "data": {
      "image/svg+xml": [
       "<?xml version=\"1.0\" encoding=\"utf-8\"?>\n",
       "<svg xmlns=\"http://www.w3.org/2000/svg\" xmlns:xlink=\"http://www.w3.org/1999/xlink\" width=\"1750\" height=\"600\" viewBox=\"0 0 7000 2400\">\n",
       "<defs>\n",
       "  <clipPath id=\"clip5100\">\n",
       "    <rect x=\"0\" y=\"0\" width=\"7000\" height=\"2400\"/>\n",
       "  </clipPath>\n",
       "</defs>\n",
       "<path clip-path=\"url(#clip5100)\" d=\"\n",
       "M0 2400 L7000 2400 L7000 0 L0 0  Z\n",
       "  \" fill=\"#ffffff\" fill-rule=\"evenodd\" fill-opacity=\"1\"/>\n",
       "<defs>\n",
       "  <clipPath id=\"clip5101\">\n",
       "    <rect x=\"1400\" y=\"0\" width=\"4901\" height=\"2400\"/>\n",
       "  </clipPath>\n",
       "</defs>\n",
       "<path clip-path=\"url(#clip5100)\" d=\"\n",
       "M225.378 2255.05 L6952.76 2255.05 L6952.76 94.0961 L225.378 94.0961  Z\n",
       "  \" fill=\"#ffffff\" fill-rule=\"evenodd\" fill-opacity=\"1\"/>\n",
       "<defs>\n",
       "  <clipPath id=\"clip5102\">\n",
       "    <rect x=\"225\" y=\"94\" width=\"6728\" height=\"2162\"/>\n",
       "  </clipPath>\n",
       "</defs>\n",
       "<polyline clip-path=\"url(#clip5102)\" style=\"stroke:#000000; stroke-width:2; stroke-opacity:0.1; fill:none\" points=\"\n",
       "  1694.26,2255.05 1694.26,94.0961 \n",
       "  \"/>\n",
       "<polyline clip-path=\"url(#clip5102)\" style=\"stroke:#000000; stroke-width:2; stroke-opacity:0.1; fill:none\" points=\"\n",
       "  3553.41,2255.05 3553.41,94.0961 \n",
       "  \"/>\n",
       "<polyline clip-path=\"url(#clip5102)\" style=\"stroke:#000000; stroke-width:2; stroke-opacity:0.1; fill:none\" points=\"\n",
       "  5412.56,2255.05 5412.56,94.0961 \n",
       "  \"/>\n",
       "<polyline clip-path=\"url(#clip5102)\" style=\"stroke:#000000; stroke-width:2; stroke-opacity:0.1; fill:none\" points=\"\n",
       "  225.378,2038.5 6952.76,2038.5 \n",
       "  \"/>\n",
       "<polyline clip-path=\"url(#clip5102)\" style=\"stroke:#000000; stroke-width:2; stroke-opacity:0.1; fill:none\" points=\"\n",
       "  225.378,1416.97 6952.76,1416.97 \n",
       "  \"/>\n",
       "<polyline clip-path=\"url(#clip5102)\" style=\"stroke:#000000; stroke-width:2; stroke-opacity:0.1; fill:none\" points=\"\n",
       "  225.378,795.436 6952.76,795.436 \n",
       "  \"/>\n",
       "<polyline clip-path=\"url(#clip5102)\" style=\"stroke:#000000; stroke-width:2; stroke-opacity:0.1; fill:none\" points=\"\n",
       "  225.378,173.901 6952.76,173.901 \n",
       "  \"/>\n",
       "<polyline clip-path=\"url(#clip5100)\" style=\"stroke:#000000; stroke-width:4; stroke-opacity:1; fill:none\" points=\"\n",
       "  225.378,2255.05 6952.76,2255.05 \n",
       "  \"/>\n",
       "<polyline clip-path=\"url(#clip5100)\" style=\"stroke:#000000; stroke-width:4; stroke-opacity:1; fill:none\" points=\"\n",
       "  225.378,2255.05 225.378,94.0961 \n",
       "  \"/>\n",
       "<polyline clip-path=\"url(#clip5100)\" style=\"stroke:#000000; stroke-width:4; stroke-opacity:1; fill:none\" points=\"\n",
       "  1694.26,2255.05 1694.26,2229.12 \n",
       "  \"/>\n",
       "<polyline clip-path=\"url(#clip5100)\" style=\"stroke:#000000; stroke-width:4; stroke-opacity:1; fill:none\" points=\"\n",
       "  3553.41,2255.05 3553.41,2229.12 \n",
       "  \"/>\n",
       "<polyline clip-path=\"url(#clip5100)\" style=\"stroke:#000000; stroke-width:4; stroke-opacity:1; fill:none\" points=\"\n",
       "  5412.56,2255.05 5412.56,2229.12 \n",
       "  \"/>\n",
       "<polyline clip-path=\"url(#clip5100)\" style=\"stroke:#000000; stroke-width:4; stroke-opacity:1; fill:none\" points=\"\n",
       "  225.378,2038.5 306.106,2038.5 \n",
       "  \"/>\n",
       "<polyline clip-path=\"url(#clip5100)\" style=\"stroke:#000000; stroke-width:4; stroke-opacity:1; fill:none\" points=\"\n",
       "  225.378,1416.97 306.106,1416.97 \n",
       "  \"/>\n",
       "<polyline clip-path=\"url(#clip5100)\" style=\"stroke:#000000; stroke-width:4; stroke-opacity:1; fill:none\" points=\"\n",
       "  225.378,795.436 306.106,795.436 \n",
       "  \"/>\n",
       "<polyline clip-path=\"url(#clip5100)\" style=\"stroke:#000000; stroke-width:4; stroke-opacity:1; fill:none\" points=\"\n",
       "  225.378,173.901 306.106,173.901 \n",
       "  \"/>\n",
       "<path clip-path=\"url(#clip5100)\" d=\"M 0 0 M1581.74 2327.58 L1598.06 2327.58 L1598.06 2331.52 L1576.11 2331.52 L1576.11 2327.58 Q1578.77 2324.83 1583.36 2320.2 Q1587.96 2315.55 1589.15 2314.2 Q1591.39 2311.68 1592.27 2309.95 Q1593.17 2308.19 1593.17 2306.5 Q1593.17 2303.74 1591.23 2302.01 Q1589.31 2300.27 1586.21 2300.27 Q1584.01 2300.27 1581.55 2301.03 Q1579.12 2301.8 1576.34 2303.35 L1576.34 2298.63 Q1579.17 2297.49 1581.62 2296.91 Q1584.08 2296.33 1586.11 2296.33 Q1591.48 2296.33 1594.68 2299.02 Q1597.87 2301.7 1597.87 2306.2 Q1597.87 2308.32 1597.06 2310.25 Q1596.27 2312.14 1594.17 2314.74 Q1593.59 2315.41 1590.49 2318.63 Q1587.39 2321.82 1581.74 2327.58 Z\" fill=\"#000000\" fill-rule=\"evenodd\" fill-opacity=\"1\" /><path clip-path=\"url(#clip5100)\" d=\"M 0 0 M1613.13 2300.04 Q1609.52 2300.04 1607.69 2303.6 Q1605.88 2307.14 1605.88 2314.27 Q1605.88 2321.38 1607.69 2324.95 Q1609.52 2328.49 1613.13 2328.49 Q1616.76 2328.49 1618.57 2324.95 Q1620.39 2321.38 1620.39 2314.27 Q1620.39 2307.14 1618.57 2303.6 Q1616.76 2300.04 1613.13 2300.04 M1613.13 2296.33 Q1618.94 2296.33 1621.99 2300.94 Q1625.07 2305.52 1625.07 2314.27 Q1625.07 2323 1621.99 2327.61 Q1618.94 2332.19 1613.13 2332.19 Q1607.32 2332.19 1604.24 2327.61 Q1601.18 2323 1601.18 2314.27 Q1601.18 2305.52 1604.24 2300.94 Q1607.32 2296.33 1613.13 2296.33 Z\" fill=\"#000000\" fill-rule=\"evenodd\" fill-opacity=\"1\" /><path clip-path=\"url(#clip5100)\" d=\"M 0 0 M1630.95 2327.58 L1638.59 2327.58 L1638.59 2301.22 L1630.28 2302.89 L1630.28 2298.63 L1638.54 2296.96 L1643.22 2296.96 L1643.22 2327.58 L1650.86 2327.58 L1650.86 2331.52 L1630.95 2331.52 L1630.95 2327.58 Z\" fill=\"#000000\" fill-rule=\"evenodd\" fill-opacity=\"1\" /><path clip-path=\"url(#clip5100)\" d=\"M 0 0 M1670.09 2312.89 Q1673.45 2313.6 1675.33 2315.87 Q1677.22 2318.14 1677.22 2321.47 Q1677.22 2326.59 1673.7 2329.39 Q1670.19 2332.19 1663.7 2332.19 Q1661.53 2332.19 1659.21 2331.75 Q1656.92 2331.33 1654.47 2330.48 L1654.47 2325.96 Q1656.41 2327.1 1658.73 2327.68 Q1661.04 2328.26 1663.57 2328.26 Q1667.96 2328.26 1670.26 2326.52 Q1672.57 2324.78 1672.57 2321.47 Q1672.57 2318.42 1670.42 2316.7 Q1668.29 2314.97 1664.47 2314.97 L1660.44 2314.97 L1660.44 2311.13 L1664.65 2311.13 Q1668.1 2311.13 1669.93 2309.76 Q1671.76 2308.37 1671.76 2305.78 Q1671.76 2303.12 1669.86 2301.7 Q1667.99 2300.27 1664.47 2300.27 Q1662.55 2300.27 1660.35 2300.69 Q1658.15 2301.1 1655.51 2301.98 L1655.51 2297.82 Q1658.17 2297.08 1660.49 2296.7 Q1662.83 2296.33 1664.89 2296.33 Q1670.21 2296.33 1673.31 2298.76 Q1676.41 2301.17 1676.41 2305.29 Q1676.41 2308.16 1674.77 2310.15 Q1673.13 2312.12 1670.09 2312.89 Z\" fill=\"#000000\" fill-rule=\"evenodd\" fill-opacity=\"1\" /><path clip-path=\"url(#clip5100)\" d=\"M 0 0 M1679.54 2316.64 L1692.01 2316.64 L1692.01 2320.43 L1679.54 2320.43 L1679.54 2316.64 Z\" fill=\"#000000\" fill-rule=\"evenodd\" fill-opacity=\"1\" /><path clip-path=\"url(#clip5100)\" d=\"M 0 0 M1707.08 2300.04 Q1703.47 2300.04 1701.64 2303.6 Q1699.84 2307.14 1699.84 2314.27 Q1699.84 2321.38 1701.64 2324.95 Q1703.47 2328.49 1707.08 2328.49 Q1710.72 2328.49 1712.52 2324.95 Q1714.35 2321.38 1714.35 2314.27 Q1714.35 2307.14 1712.52 2303.6 Q1710.72 2300.04 1707.08 2300.04 M1707.08 2296.33 Q1712.89 2296.33 1715.95 2300.94 Q1719.03 2305.52 1719.03 2314.27 Q1719.03 2323 1715.95 2327.61 Q1712.89 2332.19 1707.08 2332.19 Q1701.27 2332.19 1698.2 2327.61 Q1695.14 2323 1695.14 2314.27 Q1695.14 2305.52 1698.2 2300.94 Q1701.27 2296.33 1707.08 2296.33 Z\" fill=\"#000000\" fill-rule=\"evenodd\" fill-opacity=\"1\" /><path clip-path=\"url(#clip5100)\" d=\"M 0 0 M1724.91 2327.58 L1732.55 2327.58 L1732.55 2301.22 L1724.24 2302.89 L1724.24 2298.63 L1732.5 2296.96 L1737.18 2296.96 L1737.18 2327.58 L1744.82 2327.58 L1744.82 2331.52 L1724.91 2331.52 L1724.91 2327.58 Z\" fill=\"#000000\" fill-rule=\"evenodd\" fill-opacity=\"1\" /><path clip-path=\"url(#clip5100)\" d=\"M 0 0 M1747.13 2316.64 L1759.61 2316.64 L1759.61 2320.43 L1747.13 2320.43 L1747.13 2316.64 Z\" fill=\"#000000\" fill-rule=\"evenodd\" fill-opacity=\"1\" /><path clip-path=\"url(#clip5100)\" d=\"M 0 0 M1774.68 2300.04 Q1771.07 2300.04 1769.24 2303.6 Q1767.43 2307.14 1767.43 2314.27 Q1767.43 2321.38 1769.24 2324.95 Q1771.07 2328.49 1774.68 2328.49 Q1778.31 2328.49 1780.12 2324.95 Q1781.95 2321.38 1781.95 2314.27 Q1781.95 2307.14 1780.12 2303.6 Q1778.31 2300.04 1774.68 2300.04 M1774.68 2296.33 Q1780.49 2296.33 1783.54 2300.94 Q1786.62 2305.52 1786.62 2314.27 Q1786.62 2323 1783.54 2327.61 Q1780.49 2332.19 1774.68 2332.19 Q1768.87 2332.19 1765.79 2327.61 Q1762.73 2323 1762.73 2314.27 Q1762.73 2305.52 1765.79 2300.94 Q1768.87 2296.33 1774.68 2296.33 Z\" fill=\"#000000\" fill-rule=\"evenodd\" fill-opacity=\"1\" /><path clip-path=\"url(#clip5100)\" d=\"M 0 0 M1792.5 2327.58 L1800.14 2327.58 L1800.14 2301.22 L1791.83 2302.89 L1791.83 2298.63 L1800.09 2296.96 L1804.77 2296.96 L1804.77 2327.58 L1812.41 2327.58 L1812.41 2331.52 L1792.5 2331.52 L1792.5 2327.58 Z\" fill=\"#000000\" fill-rule=\"evenodd\" fill-opacity=\"1\" /><path clip-path=\"url(#clip5100)\" d=\"M 0 0 M3440.32 2327.58 L3456.64 2327.58 L3456.64 2331.52 L3434.7 2331.52 L3434.7 2327.58 Q3437.36 2324.83 3441.94 2320.2 Q3446.55 2315.55 3447.73 2314.2 Q3449.97 2311.68 3450.85 2309.95 Q3451.76 2308.19 3451.76 2306.5 Q3451.76 2303.74 3449.81 2302.01 Q3447.89 2300.27 3444.79 2300.27 Q3442.59 2300.27 3440.14 2301.03 Q3437.71 2301.8 3434.93 2303.35 L3434.93 2298.63 Q3437.75 2297.49 3440.21 2296.91 Q3442.66 2296.33 3444.7 2296.33 Q3450.07 2296.33 3453.26 2299.02 Q3456.46 2301.7 3456.46 2306.2 Q3456.46 2308.32 3455.65 2310.25 Q3454.86 2312.14 3452.75 2314.74 Q3452.17 2315.41 3449.07 2318.63 Q3445.97 2321.82 3440.32 2327.58 Z\" fill=\"#000000\" fill-rule=\"evenodd\" fill-opacity=\"1\" /><path clip-path=\"url(#clip5100)\" d=\"M 0 0 M3471.71 2300.04 Q3468.1 2300.04 3466.27 2303.6 Q3464.47 2307.14 3464.47 2314.27 Q3464.47 2321.38 3466.27 2324.95 Q3468.1 2328.49 3471.71 2328.49 Q3475.35 2328.49 3477.15 2324.95 Q3478.98 2321.38 3478.98 2314.27 Q3478.98 2307.14 3477.15 2303.6 Q3475.35 2300.04 3471.71 2300.04 M3471.71 2296.33 Q3477.52 2296.33 3480.58 2300.94 Q3483.66 2305.52 3483.66 2314.27 Q3483.66 2323 3480.58 2327.61 Q3477.52 2332.19 3471.71 2332.19 Q3465.9 2332.19 3462.82 2327.61 Q3459.77 2323 3459.77 2314.27 Q3459.77 2305.52 3462.82 2300.94 Q3465.9 2296.33 3471.71 2296.33 Z\" fill=\"#000000\" fill-rule=\"evenodd\" fill-opacity=\"1\" /><path clip-path=\"url(#clip5100)\" d=\"M 0 0 M3489.53 2327.58 L3497.17 2327.58 L3497.17 2301.22 L3488.86 2302.89 L3488.86 2298.63 L3497.13 2296.96 L3501.8 2296.96 L3501.8 2327.58 L3509.44 2327.58 L3509.44 2331.52 L3489.53 2331.52 L3489.53 2327.58 Z\" fill=\"#000000\" fill-rule=\"evenodd\" fill-opacity=\"1\" /><path clip-path=\"url(#clip5100)\" d=\"M 0 0 M3527.36 2301.03 L3515.55 2319.48 L3527.36 2319.48 L3527.36 2301.03 M3526.13 2296.96 L3532.01 2296.96 L3532.01 2319.48 L3536.94 2319.48 L3536.94 2323.37 L3532.01 2323.37 L3532.01 2331.52 L3527.36 2331.52 L3527.36 2323.37 L3511.76 2323.37 L3511.76 2318.86 L3526.13 2296.96 Z\" fill=\"#000000\" fill-rule=\"evenodd\" fill-opacity=\"1\" /><path clip-path=\"url(#clip5100)\" d=\"M 0 0 M3539.26 2316.64 L3551.73 2316.64 L3551.73 2320.43 L3539.26 2320.43 L3539.26 2316.64 Z\" fill=\"#000000\" fill-rule=\"evenodd\" fill-opacity=\"1\" /><path clip-path=\"url(#clip5100)\" d=\"M 0 0 M3566.8 2300.04 Q3563.19 2300.04 3561.36 2303.6 Q3559.56 2307.14 3559.56 2314.27 Q3559.56 2321.38 3561.36 2324.95 Q3563.19 2328.49 3566.8 2328.49 Q3570.44 2328.49 3572.24 2324.95 Q3574.07 2321.38 3574.07 2314.27 Q3574.07 2307.14 3572.24 2303.6 Q3570.44 2300.04 3566.8 2300.04 M3566.8 2296.33 Q3572.61 2296.33 3575.67 2300.94 Q3578.75 2305.52 3578.75 2314.27 Q3578.75 2323 3575.67 2327.61 Q3572.61 2332.19 3566.8 2332.19 Q3560.99 2332.19 3557.91 2327.61 Q3554.86 2323 3554.86 2314.27 Q3554.86 2305.52 3557.91 2300.94 Q3560.99 2296.33 3566.8 2296.33 Z\" fill=\"#000000\" fill-rule=\"evenodd\" fill-opacity=\"1\" /><path clip-path=\"url(#clip5100)\" d=\"M 0 0 M3584.63 2327.58 L3592.27 2327.58 L3592.27 2301.22 L3583.96 2302.89 L3583.96 2298.63 L3592.22 2296.96 L3596.9 2296.96 L3596.9 2327.58 L3604.53 2327.58 L3604.53 2331.52 L3584.63 2331.52 L3584.63 2327.58 Z\" fill=\"#000000\" fill-rule=\"evenodd\" fill-opacity=\"1\" /><path clip-path=\"url(#clip5100)\" d=\"M 0 0 M3606.85 2316.64 L3619.33 2316.64 L3619.33 2320.43 L3606.85 2320.43 L3606.85 2316.64 Z\" fill=\"#000000\" fill-rule=\"evenodd\" fill-opacity=\"1\" /><path clip-path=\"url(#clip5100)\" d=\"M 0 0 M3634.4 2300.04 Q3630.78 2300.04 3628.96 2303.6 Q3627.15 2307.14 3627.15 2314.27 Q3627.15 2321.38 3628.96 2324.95 Q3630.78 2328.49 3634.4 2328.49 Q3638.03 2328.49 3639.84 2324.95 Q3641.66 2321.38 3641.66 2314.27 Q3641.66 2307.14 3639.84 2303.6 Q3638.03 2300.04 3634.4 2300.04 M3634.4 2296.33 Q3640.21 2296.33 3643.26 2300.94 Q3646.34 2305.52 3646.34 2314.27 Q3646.34 2323 3643.26 2327.61 Q3640.21 2332.19 3634.4 2332.19 Q3628.59 2332.19 3625.51 2327.61 Q3622.45 2323 3622.45 2314.27 Q3622.45 2305.52 3625.51 2300.94 Q3628.59 2296.33 3634.4 2296.33 Z\" fill=\"#000000\" fill-rule=\"evenodd\" fill-opacity=\"1\" /><path clip-path=\"url(#clip5100)\" d=\"M 0 0 M3652.22 2327.58 L3659.86 2327.58 L3659.86 2301.22 L3651.55 2302.89 L3651.55 2298.63 L3659.81 2296.96 L3664.49 2296.96 L3664.49 2327.58 L3672.13 2327.58 L3672.13 2331.52 L3652.22 2331.52 L3652.22 2327.58 Z\" fill=\"#000000\" fill-rule=\"evenodd\" fill-opacity=\"1\" /><path clip-path=\"url(#clip5100)\" d=\"M 0 0 M5300.21 2327.58 L5316.53 2327.58 L5316.53 2331.52 L5294.59 2331.52 L5294.59 2327.58 Q5297.25 2324.83 5301.83 2320.2 Q5306.44 2315.55 5307.62 2314.2 Q5309.87 2311.68 5310.75 2309.95 Q5311.65 2308.19 5311.65 2306.5 Q5311.65 2303.74 5309.71 2302.01 Q5307.78 2300.27 5304.68 2300.27 Q5302.48 2300.27 5300.03 2301.03 Q5297.6 2301.8 5294.82 2303.35 L5294.82 2298.63 Q5297.65 2297.49 5300.1 2296.91 Q5302.55 2296.33 5304.59 2296.33 Q5309.96 2296.33 5313.15 2299.02 Q5316.35 2301.7 5316.35 2306.2 Q5316.35 2308.32 5315.54 2310.25 Q5314.75 2312.14 5312.65 2314.74 Q5312.07 2315.41 5308.96 2318.63 Q5305.86 2321.82 5300.21 2327.58 Z\" fill=\"#000000\" fill-rule=\"evenodd\" fill-opacity=\"1\" /><path clip-path=\"url(#clip5100)\" d=\"M 0 0 M5331.6 2300.04 Q5327.99 2300.04 5326.16 2303.6 Q5324.36 2307.14 5324.36 2314.27 Q5324.36 2321.38 5326.16 2324.95 Q5327.99 2328.49 5331.6 2328.49 Q5335.24 2328.49 5337.04 2324.95 Q5338.87 2321.38 5338.87 2314.27 Q5338.87 2307.14 5337.04 2303.6 Q5335.24 2300.04 5331.6 2300.04 M5331.6 2296.33 Q5337.41 2296.33 5340.47 2300.94 Q5343.55 2305.52 5343.55 2314.27 Q5343.55 2323 5340.47 2327.61 Q5337.41 2332.19 5331.6 2332.19 Q5325.79 2332.19 5322.71 2327.61 Q5319.66 2323 5319.66 2314.27 Q5319.66 2305.52 5322.71 2300.94 Q5325.79 2296.33 5331.6 2296.33 Z\" fill=\"#000000\" fill-rule=\"evenodd\" fill-opacity=\"1\" /><path clip-path=\"url(#clip5100)\" d=\"M 0 0 M5349.43 2327.58 L5357.07 2327.58 L5357.07 2301.22 L5348.76 2302.89 L5348.76 2298.63 L5357.02 2296.96 L5361.7 2296.96 L5361.7 2327.58 L5369.33 2327.58 L5369.33 2331.52 L5349.43 2331.52 L5349.43 2327.58 Z\" fill=\"#000000\" fill-rule=\"evenodd\" fill-opacity=\"1\" /><path clip-path=\"url(#clip5100)\" d=\"M 0 0 M5374.45 2296.96 L5392.81 2296.96 L5392.81 2300.89 L5378.73 2300.89 L5378.73 2309.37 Q5379.75 2309.02 5380.77 2308.86 Q5381.79 2308.67 5382.81 2308.67 Q5388.59 2308.67 5391.97 2311.84 Q5395.35 2315.01 5395.35 2320.43 Q5395.35 2326.01 5391.88 2329.11 Q5388.41 2332.19 5382.09 2332.19 Q5379.91 2332.19 5377.64 2331.82 Q5375.4 2331.45 5372.99 2330.71 L5372.99 2326.01 Q5375.08 2327.14 5377.3 2327.7 Q5379.52 2328.26 5382 2328.26 Q5386 2328.26 5388.34 2326.15 Q5390.68 2324.04 5390.68 2320.43 Q5390.68 2316.82 5388.34 2314.71 Q5386 2312.61 5382 2312.61 Q5380.12 2312.61 5378.25 2313.02 Q5376.39 2313.44 5374.45 2314.32 L5374.45 2296.96 Z\" fill=\"#000000\" fill-rule=\"evenodd\" fill-opacity=\"1\" /><path clip-path=\"url(#clip5100)\" d=\"M 0 0 M5397.67 2316.64 L5410.14 2316.64 L5410.14 2320.43 L5397.67 2320.43 L5397.67 2316.64 Z\" fill=\"#000000\" fill-rule=\"evenodd\" fill-opacity=\"1\" /><path clip-path=\"url(#clip5100)\" d=\"M 0 0 M5425.21 2300.04 Q5421.6 2300.04 5419.77 2303.6 Q5417.97 2307.14 5417.97 2314.27 Q5417.97 2321.38 5419.77 2324.95 Q5421.6 2328.49 5425.21 2328.49 Q5428.85 2328.49 5430.65 2324.95 Q5432.48 2321.38 5432.48 2314.27 Q5432.48 2307.14 5430.65 2303.6 Q5428.85 2300.04 5425.21 2300.04 M5425.21 2296.33 Q5431.02 2296.33 5434.08 2300.94 Q5437.16 2305.52 5437.16 2314.27 Q5437.16 2323 5434.08 2327.61 Q5431.02 2332.19 5425.21 2332.19 Q5419.4 2332.19 5416.33 2327.61 Q5413.27 2323 5413.27 2314.27 Q5413.27 2305.52 5416.33 2300.94 Q5419.4 2296.33 5425.21 2296.33 Z\" fill=\"#000000\" fill-rule=\"evenodd\" fill-opacity=\"1\" /><path clip-path=\"url(#clip5100)\" d=\"M 0 0 M5443.04 2327.58 L5450.68 2327.58 L5450.68 2301.22 L5442.37 2302.89 L5442.37 2298.63 L5450.63 2296.96 L5455.31 2296.96 L5455.31 2327.58 L5462.95 2327.58 L5462.95 2331.52 L5443.04 2331.52 L5443.04 2327.58 Z\" fill=\"#000000\" fill-rule=\"evenodd\" fill-opacity=\"1\" /><path clip-path=\"url(#clip5100)\" d=\"M 0 0 M5465.26 2316.64 L5477.74 2316.64 L5477.74 2320.43 L5465.26 2320.43 L5465.26 2316.64 Z\" fill=\"#000000\" fill-rule=\"evenodd\" fill-opacity=\"1\" /><path clip-path=\"url(#clip5100)\" d=\"M 0 0 M5492.81 2300.04 Q5489.19 2300.04 5487.37 2303.6 Q5485.56 2307.14 5485.56 2314.27 Q5485.56 2321.38 5487.37 2324.95 Q5489.19 2328.49 5492.81 2328.49 Q5496.44 2328.49 5498.25 2324.95 Q5500.07 2321.38 5500.07 2314.27 Q5500.07 2307.14 5498.25 2303.6 Q5496.44 2300.04 5492.81 2300.04 M5492.81 2296.33 Q5498.62 2296.33 5501.67 2300.94 Q5504.75 2305.52 5504.75 2314.27 Q5504.75 2323 5501.67 2327.61 Q5498.62 2332.19 5492.81 2332.19 Q5487 2332.19 5483.92 2327.61 Q5480.86 2323 5480.86 2314.27 Q5480.86 2305.52 5483.92 2300.94 Q5487 2296.33 5492.81 2296.33 Z\" fill=\"#000000\" fill-rule=\"evenodd\" fill-opacity=\"1\" /><path clip-path=\"url(#clip5100)\" d=\"M 0 0 M5510.63 2327.58 L5518.27 2327.58 L5518.27 2301.22 L5509.96 2302.89 L5509.96 2298.63 L5518.22 2296.96 L5522.9 2296.96 L5522.9 2327.58 L5530.54 2327.58 L5530.54 2331.52 L5510.63 2331.52 L5510.63 2327.58 Z\" fill=\"#000000\" fill-rule=\"evenodd\" fill-opacity=\"1\" /><path clip-path=\"url(#clip5100)\" d=\"M 0 0 M121.234 2037.15 Q124.591 2037.87 126.466 2040.14 Q128.364 2042.41 128.364 2045.74 Q128.364 2050.85 124.846 2053.66 Q121.327 2056.46 114.846 2056.46 Q112.67 2056.46 110.355 2056.02 Q108.063 2055.6 105.61 2054.74 L105.61 2050.23 Q107.554 2051.36 109.869 2051.94 Q112.184 2052.52 114.707 2052.52 Q119.105 2052.52 121.397 2050.78 Q123.711 2049.05 123.711 2045.74 Q123.711 2042.68 121.559 2040.97 Q119.429 2039.23 115.61 2039.23 L111.582 2039.23 L111.582 2035.39 L115.795 2035.39 Q119.244 2035.39 121.072 2034.03 Q122.901 2032.64 122.901 2030.04 Q122.901 2027.38 121.003 2025.97 Q119.128 2024.53 115.61 2024.53 Q113.688 2024.53 111.489 2024.95 Q109.29 2025.37 106.651 2026.25 L106.651 2022.08 Q109.313 2021.34 111.628 2020.97 Q113.966 2020.6 116.026 2020.6 Q121.35 2020.6 124.452 2023.03 Q127.554 2025.44 127.554 2029.56 Q127.554 2032.43 125.91 2034.42 Q124.267 2036.39 121.234 2037.15 Z\" fill=\"#000000\" fill-rule=\"evenodd\" fill-opacity=\"1\" /><path clip-path=\"url(#clip5100)\" d=\"M 0 0 M143.433 2024.3 Q139.822 2024.3 137.994 2027.87 Q136.188 2031.41 136.188 2038.54 Q136.188 2045.65 137.994 2049.21 Q139.822 2052.75 143.433 2052.75 Q147.068 2052.75 148.873 2049.21 Q150.702 2045.65 150.702 2038.54 Q150.702 2031.41 148.873 2027.87 Q147.068 2024.3 143.433 2024.3 M143.433 2020.6 Q149.244 2020.6 152.299 2025.21 Q155.378 2029.79 155.378 2038.54 Q155.378 2047.27 152.299 2051.87 Q149.244 2056.46 143.433 2056.46 Q137.623 2056.46 134.545 2051.87 Q131.489 2047.27 131.489 2038.54 Q131.489 2029.79 134.545 2025.21 Q137.623 2020.6 143.433 2020.6 Z\" fill=\"#000000\" fill-rule=\"evenodd\" fill-opacity=\"1\" /><path clip-path=\"url(#clip5100)\" d=\"M 0 0 M118.781 1403.76 L106.975 1422.21 L118.781 1422.21 L118.781 1403.76 M117.554 1399.69 L123.434 1399.69 L123.434 1422.21 L128.364 1422.21 L128.364 1426.1 L123.434 1426.1 L123.434 1434.25 L118.781 1434.25 L118.781 1426.1 L103.179 1426.1 L103.179 1421.59 L117.554 1399.69 Z\" fill=\"#000000\" fill-rule=\"evenodd\" fill-opacity=\"1\" /><path clip-path=\"url(#clip5100)\" d=\"M 0 0 M143.433 1402.77 Q139.822 1402.77 137.994 1406.33 Q136.188 1409.88 136.188 1417 Q136.188 1424.11 137.994 1427.68 Q139.822 1431.22 143.433 1431.22 Q147.068 1431.22 148.873 1427.68 Q150.702 1424.11 150.702 1417 Q150.702 1409.88 148.873 1406.33 Q147.068 1402.77 143.433 1402.77 M143.433 1399.07 Q149.244 1399.07 152.299 1403.67 Q155.378 1408.25 155.378 1417 Q155.378 1425.73 152.299 1430.34 Q149.244 1434.92 143.433 1434.92 Q137.623 1434.92 134.545 1430.34 Q131.489 1425.73 131.489 1417 Q131.489 1408.25 134.545 1403.67 Q137.623 1399.07 143.433 1399.07 Z\" fill=\"#000000\" fill-rule=\"evenodd\" fill-opacity=\"1\" /><path clip-path=\"url(#clip5100)\" d=\"M 0 0 M107.461 778.156 L125.818 778.156 L125.818 782.091 L111.744 782.091 L111.744 790.563 Q112.762 790.216 113.781 790.054 Q114.799 789.869 115.818 789.869 Q121.605 789.869 124.984 793.04 Q128.364 796.211 128.364 801.628 Q128.364 807.206 124.892 810.308 Q121.42 813.387 115.1 813.387 Q112.924 813.387 110.656 813.017 Q108.41 812.646 106.003 811.905 L106.003 807.206 Q108.086 808.341 110.309 808.896 Q112.531 809.452 115.008 809.452 Q119.012 809.452 121.35 807.345 Q123.688 805.239 123.688 801.628 Q123.688 798.017 121.35 795.91 Q119.012 793.804 115.008 793.804 Q113.133 793.804 111.258 794.22 Q109.406 794.637 107.461 795.517 L107.461 778.156 Z\" fill=\"#000000\" fill-rule=\"evenodd\" fill-opacity=\"1\" /><path clip-path=\"url(#clip5100)\" d=\"M 0 0 M143.433 781.234 Q139.822 781.234 137.994 784.799 Q136.188 788.341 136.188 795.47 Q136.188 802.577 137.994 806.142 Q139.822 809.683 143.433 809.683 Q147.068 809.683 148.873 806.142 Q150.702 802.577 150.702 795.47 Q150.702 788.341 148.873 784.799 Q147.068 781.234 143.433 781.234 M143.433 777.531 Q149.244 777.531 152.299 782.137 Q155.378 786.72 155.378 795.47 Q155.378 804.197 152.299 808.804 Q149.244 813.387 143.433 813.387 Q137.623 813.387 134.545 808.804 Q131.489 804.197 131.489 795.47 Q131.489 786.72 134.545 782.137 Q137.623 777.531 143.433 777.531 Z\" fill=\"#000000\" fill-rule=\"evenodd\" fill-opacity=\"1\" /><path clip-path=\"url(#clip5100)\" d=\"M 0 0 M116.836 172.038 Q113.688 172.038 111.836 174.191 Q110.008 176.343 110.008 180.093 Q110.008 183.82 111.836 185.996 Q113.688 188.149 116.836 188.149 Q119.984 188.149 121.813 185.996 Q123.665 183.82 123.665 180.093 Q123.665 176.343 121.813 174.191 Q119.984 172.038 116.836 172.038 M126.119 157.385 L126.119 161.644 Q124.359 160.811 122.554 160.371 Q120.772 159.931 119.012 159.931 Q114.383 159.931 111.929 163.056 Q109.498 166.181 109.151 172.501 Q110.517 170.487 112.577 169.422 Q114.637 168.334 117.114 168.334 Q122.322 168.334 125.332 171.505 Q128.364 174.653 128.364 180.093 Q128.364 185.417 125.216 188.635 Q122.068 191.852 116.836 191.852 Q110.841 191.852 107.67 187.269 Q104.498 182.663 104.498 173.936 Q104.498 165.741 108.387 160.88 Q112.276 155.996 118.827 155.996 Q120.586 155.996 122.369 156.343 Q124.174 156.691 126.119 157.385 Z\" fill=\"#000000\" fill-rule=\"evenodd\" fill-opacity=\"1\" /><path clip-path=\"url(#clip5100)\" d=\"M 0 0 M143.433 159.7 Q139.822 159.7 137.994 163.265 Q136.188 166.806 136.188 173.936 Q136.188 181.042 137.994 184.607 Q139.822 188.149 143.433 188.149 Q147.068 188.149 148.873 184.607 Q150.702 181.042 150.702 173.936 Q150.702 166.806 148.873 163.265 Q147.068 159.7 143.433 159.7 M143.433 155.996 Q149.244 155.996 152.299 160.603 Q155.378 165.186 155.378 173.936 Q155.378 182.663 152.299 187.269 Q149.244 191.852 143.433 191.852 Q137.623 191.852 134.545 187.269 Q131.489 182.663 131.489 173.936 Q131.489 165.186 134.545 160.603 Q137.623 155.996 143.433 155.996 Z\" fill=\"#000000\" fill-rule=\"evenodd\" fill-opacity=\"1\" /><path clip-path=\"url(#clip5100)\" d=\"M 0 0 M3252.25 12.096 L3260.44 12.096 L3260.44 72.576 L3252.25 72.576 L3252.25 12.096 Z\" fill=\"#000000\" fill-rule=\"evenodd\" fill-opacity=\"1\" /><path clip-path=\"url(#clip5100)\" d=\"M 0 0 M3304.84 14.0809 L3304.84 22.0612 Q3300.18 19.8332 3296.04 18.7395 Q3291.91 17.6457 3288.06 17.6457 Q3281.38 17.6457 3277.73 20.2383 Q3274.13 22.8309 3274.13 27.611 Q3274.13 31.6214 3276.52 33.6873 Q3278.95 35.7128 3285.67 36.9686 L3290.62 37.9813 Q3299.77 39.7232 3304.11 44.1387 Q3308.48 48.5136 3308.48 55.8863 Q3308.48 64.6767 3302.57 69.2137 Q3296.69 73.7508 3285.31 73.7508 Q3281.02 73.7508 3276.15 72.7785 Q3271.33 71.8063 3266.15 69.9024 L3266.15 61.4765 Q3271.13 64.2716 3275.91 65.6895 Q3280.69 67.1073 3285.31 67.1073 Q3292.32 67.1073 3296.13 64.3527 Q3299.93 61.598 3299.93 56.4939 Q3299.93 52.0379 3297.18 49.5264 Q3294.46 47.0148 3288.23 45.759 L3283.24 44.7868 Q3274.09 42.9639 3270 39.075 Q3265.91 35.1862 3265.91 28.2591 Q3265.91 20.2383 3271.54 15.6203 Q3277.21 11.0023 3287.13 11.0023 Q3291.39 11.0023 3295.8 11.7719 Q3300.22 12.5416 3304.84 14.0809 Z\" fill=\"#000000\" fill-rule=\"evenodd\" fill-opacity=\"1\" /><path clip-path=\"url(#clip5100)\" d=\"M 0 0 M3316.62 12.096 L3328.82 12.096 L3344.25 53.2532 L3359.77 12.096 L3371.96 12.096 L3371.96 72.576 L3363.98 72.576 L3363.98 19.4686 L3348.38 60.9499 L3340.16 60.9499 L3324.56 19.4686 L3324.56 72.576 L3316.62 72.576 L3316.62 12.096 Z\" fill=\"#000000\" fill-rule=\"evenodd\" fill-opacity=\"1\" /><path clip-path=\"url(#clip5100)\" d=\"M 0 0 M3406.47 12.096 L3418.67 12.096 L3434.1 53.2532 L3449.61 12.096 L3461.81 12.096 L3461.81 72.576 L3453.83 72.576 L3453.83 19.4686 L3438.23 60.9499 L3430.01 60.9499 L3414.41 19.4686 L3414.41 72.576 L3406.47 72.576 L3406.47 12.096 Z\" fill=\"#000000\" fill-rule=\"evenodd\" fill-opacity=\"1\" /><path clip-path=\"url(#clip5100)\" d=\"M 0 0 M3490.25 49.7694 Q3481.21 49.7694 3477.73 51.8354 Q3474.24 53.9013 3474.24 58.8839 Q3474.24 62.8538 3476.84 65.2034 Q3479.47 67.5124 3483.97 67.5124 Q3490.16 67.5124 3493.89 63.1374 Q3497.66 58.7219 3497.66 51.4303 L3497.66 49.7694 L3490.25 49.7694 M3505.11 46.6907 L3505.11 72.576 L3497.66 72.576 L3497.66 65.6895 Q3495.11 69.8214 3491.3 71.8063 Q3487.49 73.7508 3481.98 73.7508 Q3475.01 73.7508 3470.88 69.8619 Q3466.79 65.9325 3466.79 59.3701 Q3466.79 51.7138 3471.89 47.825 Q3477.04 43.9361 3487.21 43.9361 L3497.66 43.9361 L3497.66 43.2069 Q3497.66 38.0623 3494.26 35.2672 Q3490.89 32.4315 3484.78 32.4315 Q3480.89 32.4315 3477.2 33.3632 Q3473.51 34.295 3470.11 36.1584 L3470.11 29.2718 Q3474.2 27.692 3478.05 26.9223 Q3481.9 26.1121 3485.55 26.1121 Q3495.39 26.1121 3500.25 31.2163 Q3505.11 36.3204 3505.11 46.6907 Z\" fill=\"#000000\" fill-rule=\"evenodd\" fill-opacity=\"1\" /><path clip-path=\"url(#clip5100)\" d=\"M 0 0 M3550.64 45.1919 L3550.64 72.576 L3543.19 72.576 L3543.19 45.4349 Q3543.19 38.994 3540.68 35.7938 Q3538.17 32.5936 3533.14 32.5936 Q3527.11 32.5936 3523.62 36.4419 Q3520.14 40.2903 3520.14 46.9338 L3520.14 72.576 L3512.65 72.576 L3512.65 27.2059 L3520.14 27.2059 L3520.14 34.2544 Q3522.81 30.163 3526.42 28.1376 Q3530.07 26.1121 3534.8 26.1121 Q3542.62 26.1121 3546.63 30.9732 Q3550.64 35.7938 3550.64 45.1919 Z\" fill=\"#000000\" fill-rule=\"evenodd\" fill-opacity=\"1\" /><path clip-path=\"url(#clip5100)\" d=\"M 0 0 M3557.69 54.671 L3557.69 27.2059 L3565.15 27.2059 L3565.15 54.3874 Q3565.15 60.8284 3567.66 64.0691 Q3570.17 67.2693 3575.19 67.2693 Q3581.23 67.2693 3584.71 63.421 Q3588.24 59.5726 3588.24 52.9291 L3588.24 27.2059 L3595.69 27.2059 L3595.69 72.576 L3588.24 72.576 L3588.24 65.6084 Q3585.52 69.7404 3581.92 71.7658 Q3578.35 73.7508 3573.61 73.7508 Q3565.79 73.7508 3561.74 68.8897 Q3557.69 64.0286 3557.69 54.671 M3576.45 26.1121 L3576.45 26.1121 Z\" fill=\"#000000\" fill-rule=\"evenodd\" fill-opacity=\"1\" /><path clip-path=\"url(#clip5100)\" d=\"M 0 0 M3626.48 9.54393 L3626.48 15.7418 L3619.35 15.7418 Q3615.34 15.7418 3613.76 17.3622 Q3612.22 18.9825 3612.22 23.1955 L3612.22 27.2059 L3624.49 27.2059 L3624.49 32.9987 L3612.22 32.9987 L3612.22 72.576 L3604.72 72.576 L3604.72 32.9987 L3597.59 32.9987 L3597.59 27.2059 L3604.72 27.2059 L3604.72 24.0462 Q3604.72 16.471 3608.25 13.0277 Q3611.77 9.54393 3619.43 9.54393 L3626.48 9.54393 Z\" fill=\"#000000\" fill-rule=\"evenodd\" fill-opacity=\"1\" /><path clip-path=\"url(#clip5100)\" d=\"M 0 0 M3654.91 49.7694 Q3645.88 49.7694 3642.4 51.8354 Q3638.91 53.9013 3638.91 58.8839 Q3638.91 62.8538 3641.51 65.2034 Q3644.14 67.5124 3648.64 67.5124 Q3654.83 67.5124 3658.56 63.1374 Q3662.33 58.7219 3662.33 51.4303 L3662.33 49.7694 L3654.91 49.7694 M3669.78 46.6907 L3669.78 72.576 L3662.33 72.576 L3662.33 65.6895 Q3659.78 69.8214 3655.97 71.8063 Q3652.16 73.7508 3646.65 73.7508 Q3639.68 73.7508 3635.55 69.8619 Q3631.46 65.9325 3631.46 59.3701 Q3631.46 51.7138 3636.56 47.825 Q3641.71 43.9361 3651.88 43.9361 L3662.33 43.9361 L3662.33 43.2069 Q3662.33 38.0623 3658.92 35.2672 Q3655.56 32.4315 3649.45 32.4315 Q3645.56 32.4315 3641.87 33.3632 Q3638.18 34.295 3634.78 36.1584 L3634.78 29.2718 Q3638.87 27.692 3642.72 26.9223 Q3646.57 26.1121 3650.22 26.1121 Q3660.06 26.1121 3664.92 31.2163 Q3669.78 36.3204 3669.78 46.6907 Z\" fill=\"#000000\" fill-rule=\"evenodd\" fill-opacity=\"1\" /><path clip-path=\"url(#clip5100)\" d=\"M 0 0 M3710.25 28.9478 L3710.25 35.9153 Q3707.09 34.1734 3703.89 33.3227 Q3700.73 32.4315 3697.49 32.4315 Q3690.24 32.4315 3686.23 37.0496 Q3682.22 41.6271 3682.22 49.9314 Q3682.22 58.2358 3686.23 62.8538 Q3690.24 67.4314 3697.49 67.4314 Q3700.73 67.4314 3703.89 66.5807 Q3707.09 65.6895 3710.25 63.9476 L3710.25 70.8341 Q3707.13 72.2924 3703.77 73.0216 Q3700.45 73.7508 3696.68 73.7508 Q3686.43 73.7508 3680.39 67.3098 Q3674.36 60.8689 3674.36 49.9314 Q3674.36 38.832 3680.44 32.472 Q3686.55 26.1121 3697.17 26.1121 Q3700.61 26.1121 3703.89 26.8413 Q3707.17 27.5299 3710.25 28.9478 Z\" fill=\"#000000\" fill-rule=\"evenodd\" fill-opacity=\"1\" /><path clip-path=\"url(#clip5100)\" d=\"M 0 0 M3725.44 14.324 L3725.44 27.2059 L3740.79 27.2059 L3740.79 32.9987 L3725.44 32.9987 L3725.44 57.6282 Q3725.44 63.1779 3726.94 64.7578 Q3728.48 66.3376 3733.14 66.3376 L3740.79 66.3376 L3740.79 72.576 L3733.14 72.576 Q3724.51 72.576 3721.23 69.3758 Q3717.95 66.1351 3717.95 57.6282 L3717.95 32.9987 L3712.48 32.9987 L3712.48 27.2059 L3717.95 27.2059 L3717.95 14.324 L3725.44 14.324 Z\" fill=\"#000000\" fill-rule=\"evenodd\" fill-opacity=\"1\" /><path clip-path=\"url(#clip5100)\" d=\"M 0 0 M3747.84 54.671 L3747.84 27.2059 L3755.3 27.2059 L3755.3 54.3874 Q3755.3 60.8284 3757.81 64.0691 Q3760.32 67.2693 3765.34 67.2693 Q3771.38 67.2693 3774.86 63.421 Q3778.39 59.5726 3778.39 52.9291 L3778.39 27.2059 L3785.84 27.2059 L3785.84 72.576 L3778.39 72.576 L3778.39 65.6084 Q3775.67 69.7404 3772.07 71.7658 Q3768.5 73.7508 3763.76 73.7508 Q3755.94 73.7508 3751.89 68.8897 Q3747.84 64.0286 3747.84 54.671 M3766.6 26.1121 L3766.6 26.1121 Z\" fill=\"#000000\" fill-rule=\"evenodd\" fill-opacity=\"1\" /><path clip-path=\"url(#clip5100)\" d=\"M 0 0 M3819.95 34.1734 Q3818.69 33.4443 3817.19 33.1202 Q3815.74 32.7556 3813.95 32.7556 Q3807.63 32.7556 3804.23 36.8875 Q3800.87 40.9789 3800.87 48.6757 L3800.87 72.576 L3793.37 72.576 L3793.37 27.2059 L3800.87 27.2059 L3800.87 34.2544 Q3803.22 30.1225 3806.99 28.1376 Q3810.75 26.1121 3816.14 26.1121 Q3816.91 26.1121 3817.84 26.2337 Q3818.77 26.3147 3819.91 26.5172 L3819.95 34.1734 Z\" fill=\"#000000\" fill-rule=\"evenodd\" fill-opacity=\"1\" /><path clip-path=\"url(#clip5100)\" d=\"M 0 0 M3827.77 27.2059 L3835.22 27.2059 L3835.22 72.576 L3827.77 72.576 L3827.77 27.2059 M3827.77 9.54393 L3835.22 9.54393 L3835.22 18.9825 L3827.77 18.9825 L3827.77 9.54393 Z\" fill=\"#000000\" fill-rule=\"evenodd\" fill-opacity=\"1\" /><path clip-path=\"url(#clip5100)\" d=\"M 0 0 M3880.75 45.1919 L3880.75 72.576 L3873.3 72.576 L3873.3 45.4349 Q3873.3 38.994 3870.79 35.7938 Q3868.28 32.5936 3863.25 32.5936 Q3857.22 32.5936 3853.73 36.4419 Q3850.25 40.2903 3850.25 46.9338 L3850.25 72.576 L3842.75 72.576 L3842.75 27.2059 L3850.25 27.2059 L3850.25 34.2544 Q3852.92 30.163 3856.53 28.1376 Q3860.17 26.1121 3864.91 26.1121 Q3872.73 26.1121 3876.74 30.9732 Q3880.75 35.7938 3880.75 45.1919 Z\" fill=\"#000000\" fill-rule=\"evenodd\" fill-opacity=\"1\" /><path clip-path=\"url(#clip5100)\" d=\"M 0 0 M3918.43 49.3643 Q3918.43 41.2625 3915.06 36.8065 Q3911.74 32.3505 3905.71 32.3505 Q3899.71 32.3505 3896.35 36.8065 Q3893.03 41.2625 3893.03 49.3643 Q3893.03 57.4256 3896.35 61.8816 Q3899.71 66.3376 3905.71 66.3376 Q3911.74 66.3376 3915.06 61.8816 Q3918.43 57.4256 3918.43 49.3643 M3925.88 66.9452 Q3925.88 78.5308 3920.73 84.1616 Q3915.59 89.8329 3904.98 89.8329 Q3901.05 89.8329 3897.56 89.2252 Q3894.08 88.6581 3890.8 87.4428 L3890.8 80.1917 Q3894.08 81.9741 3897.28 82.8248 Q3900.48 83.6755 3903.8 83.6755 Q3911.13 83.6755 3914.78 79.8271 Q3918.43 76.0193 3918.43 68.282 L3918.43 64.5957 Q3916.12 68.6061 3912.51 70.5911 Q3908.91 72.576 3903.88 72.576 Q3895.54 72.576 3890.43 66.2161 Q3885.33 59.8562 3885.33 49.3643 Q3885.33 38.832 3890.43 32.472 Q3895.54 26.1121 3903.88 26.1121 Q3908.91 26.1121 3912.51 28.0971 Q3916.12 30.082 3918.43 34.0924 L3918.43 27.2059 L3925.88 27.2059 L3925.88 66.9452 Z\" fill=\"#000000\" fill-rule=\"evenodd\" fill-opacity=\"1\" /><path clip-path=\"url(#clip5100)\" d=\"M 0 0 M3534.83 2388.14 L3534.83 2398.26 L3546.89 2398.26 L3546.89 2402.81 L3534.83 2402.81 L3534.83 2422.17 Q3534.83 2426.53 3536.01 2427.77 Q3537.22 2429.01 3540.88 2429.01 L3546.89 2429.01 L3546.89 2433.91 L3540.88 2433.91 Q3534.1 2433.91 3531.52 2431.4 Q3528.94 2428.85 3528.94 2422.17 L3528.94 2402.81 L3524.65 2402.81 L3524.65 2398.26 L3528.94 2398.26 L3528.94 2388.14 L3534.83 2388.14 Z\" fill=\"#000000\" fill-rule=\"evenodd\" fill-opacity=\"1\" /><path clip-path=\"url(#clip5100)\" d=\"M 0 0 M3553.04 2398.26 L3558.89 2398.26 L3558.89 2433.91 L3553.04 2433.91 L3553.04 2398.26 M3553.04 2384.39 L3558.89 2384.39 L3558.89 2391.8 L3553.04 2391.8 L3553.04 2384.39 Z\" fill=\"#000000\" fill-rule=\"evenodd\" fill-opacity=\"1\" /><path clip-path=\"url(#clip5100)\" d=\"M 0 0 M3592.79 2405.11 Q3594.99 2401.16 3598.04 2399.28 Q3601.1 2397.4 3605.24 2397.4 Q3610.81 2397.4 3613.83 2401.32 Q3616.85 2405.2 3616.85 2412.4 L3616.85 2433.91 L3610.96 2433.91 L3610.96 2412.59 Q3610.96 2407.46 3609.15 2404.98 Q3607.34 2402.5 3603.61 2402.5 Q3599.06 2402.5 3596.42 2405.52 Q3593.78 2408.54 3593.78 2413.76 L3593.78 2433.91 L3587.89 2433.91 L3587.89 2412.59 Q3587.89 2407.43 3586.07 2404.98 Q3584.26 2402.5 3580.47 2402.5 Q3575.99 2402.5 3573.34 2405.55 Q3570.7 2408.58 3570.7 2413.76 L3570.7 2433.91 L3564.81 2433.91 L3564.81 2398.26 L3570.7 2398.26 L3570.7 2403.8 Q3572.71 2400.52 3575.51 2398.96 Q3578.31 2397.4 3582.16 2397.4 Q3586.04 2397.4 3588.75 2399.38 Q3591.49 2401.35 3592.79 2405.11 Z\" fill=\"#000000\" fill-rule=\"evenodd\" fill-opacity=\"1\" /><path clip-path=\"url(#clip5100)\" d=\"M 0 0 M3653.49 2414.62 L3653.49 2417.49 L3626.56 2417.49 Q3626.94 2423.54 3630.19 2426.72 Q3633.47 2429.87 3639.29 2429.87 Q3642.67 2429.87 3645.82 2429.04 Q3649 2428.21 3652.12 2426.56 L3652.12 2432.1 Q3648.97 2433.43 3645.66 2434.13 Q3642.35 2434.83 3638.94 2434.83 Q3630.41 2434.83 3625.42 2429.87 Q3620.45 2424.9 3620.45 2416.44 Q3620.45 2407.68 3625.16 2402.56 Q3629.9 2397.4 3637.92 2397.4 Q3645.12 2397.4 3649.29 2402.05 Q3653.49 2406.67 3653.49 2414.62 M3647.63 2412.9 Q3647.57 2408.1 3644.93 2405.23 Q3642.32 2402.37 3637.99 2402.37 Q3633.09 2402.37 3630.13 2405.14 Q3627.2 2407.91 3626.75 2412.94 L3647.63 2412.9 Z\" fill=\"#000000\" fill-rule=\"evenodd\" fill-opacity=\"1\" /><path clip-path=\"url(#clip5100)\" d=\"M 0 0 M-16.7249 1310.97 L-16.7249 1305.12 L18.923 1305.12 L18.923 1310.97 L-16.7249 1310.97 M-30.6022 1310.97 L-30.6022 1305.12 L-23.1861 1305.12 L-23.1861 1310.97 L-30.6022 1310.97 Z\" fill=\"#000000\" fill-rule=\"evenodd\" fill-opacity=\"1\" /><path clip-path=\"url(#clip5100)\" d=\"M 0 0 M-2.59307 1269.34 L18.923 1269.34 L18.923 1275.2 L-2.4021 1275.2 Q-7.46284 1275.2 -9.97729 1277.17 Q-12.4917 1279.14 -12.4917 1283.09 Q-12.4917 1287.83 -9.46804 1290.57 Q-6.44433 1293.31 -1.22445 1293.31 L18.923 1293.31 L18.923 1299.2 L-16.7249 1299.2 L-16.7249 1293.31 L-11.1868 1293.31 Q-14.4015 1291.21 -15.9929 1288.37 Q-17.5843 1285.51 -17.5843 1281.79 Q-17.5843 1275.64 -13.7649 1272.49 Q-9.97729 1269.34 -2.59307 1269.34 Z\" fill=\"#000000\" fill-rule=\"evenodd\" fill-opacity=\"1\" /><path clip-path=\"url(#clip5100)\" d=\"M 0 0 M-11.3141 1239.74 L-30.6022 1239.74 L-30.6022 1233.88 L18.923 1233.88 L18.923 1239.74 L13.5758 1239.74 Q16.7587 1241.59 18.3183 1244.42 Q19.846 1247.22 19.846 1251.17 Q19.846 1257.63 14.6898 1261.7 Q9.5336 1265.74 1.13086 1265.74 Q-7.27187 1265.74 -12.4281 1261.7 Q-17.5843 1257.63 -17.5843 1251.17 Q-17.5843 1247.22 -16.0247 1244.42 Q-14.4969 1241.59 -11.3141 1239.74 M1.13086 1259.7 Q7.59206 1259.7 11.2842 1257.06 Q14.9444 1254.38 14.9444 1249.73 Q14.9444 1245.09 11.2842 1242.41 Q7.59206 1239.74 1.13086 1239.74 Q-5.33033 1239.74 -8.99061 1242.41 Q-12.6827 1245.09 -12.6827 1249.73 Q-12.6827 1254.38 -8.99061 1257.06 Q-5.33033 1259.7 1.13086 1259.7 Z\" fill=\"#000000\" fill-rule=\"evenodd\" fill-opacity=\"1\" /><path clip-path=\"url(#clip5100)\" d=\"M 0 0 M-16.7249 1227.74 L-16.7249 1221.88 L18.923 1221.88 L18.923 1227.74 L-16.7249 1227.74 M-30.6022 1227.74 L-30.6022 1221.88 L-23.1861 1221.88 L-23.1861 1227.74 L-30.6022 1227.74 Z\" fill=\"#000000\" fill-rule=\"evenodd\" fill-opacity=\"1\" /><path clip-path=\"url(#clip5100)\" d=\"M 0 0 M-15.3563 1190.09 L-9.88181 1190.09 Q-11.2504 1192.57 -11.9188 1195.09 Q-12.6191 1197.57 -12.6191 1200.11 Q-12.6191 1205.81 -8.99061 1208.96 Q-5.39398 1212.11 1.13086 1212.11 Q7.65571 1212.11 11.2842 1208.96 Q14.8808 1205.81 14.8808 1200.11 Q14.8808 1197.57 14.2124 1195.09 Q13.5122 1192.57 12.1435 1190.09 L17.5544 1190.09 Q18.7002 1192.54 19.2731 1195.18 Q19.846 1197.79 19.846 1200.75 Q19.846 1208.8 14.7853 1213.55 Q9.72457 1218.29 1.13086 1218.29 Q-7.59015 1218.29 -12.5872 1213.51 Q-17.5843 1208.71 -17.5843 1200.37 Q-17.5843 1197.66 -17.0114 1195.09 Q-16.4703 1192.51 -15.3563 1190.09 Z\" fill=\"#000000\" fill-rule=\"evenodd\" fill-opacity=\"1\" /><path clip-path=\"url(#clip5100)\" d=\"M 0 0 M1.00355 1167.74 Q1.00355 1174.84 2.62681 1177.58 Q4.25006 1180.32 8.16497 1180.32 Q11.2842 1180.32 13.1302 1178.28 Q14.9444 1176.21 14.9444 1172.68 Q14.9444 1167.81 11.507 1164.88 Q8.03766 1161.92 2.30852 1161.92 L1.00355 1161.92 L1.00355 1167.74 M-1.41542 1156.06 L18.923 1156.06 L18.923 1161.92 L13.5122 1161.92 Q16.7587 1163.93 18.3183 1166.92 Q19.846 1169.91 19.846 1174.24 Q19.846 1179.71 16.7905 1182.96 Q13.7031 1186.17 8.54691 1186.17 Q2.53132 1186.17 -0.524219 1182.16 Q-3.57976 1178.12 -3.57976 1170.13 L-3.57976 1161.92 L-4.15267 1161.92 Q-8.1949 1161.92 -10.3911 1164.59 Q-12.6191 1167.24 -12.6191 1172.04 Q-12.6191 1175.1 -11.887 1177.99 Q-11.1549 1180.89 -9.69084 1183.56 L-15.1017 1183.56 Q-16.343 1180.35 -16.9477 1177.32 Q-17.5843 1174.3 -17.5843 1171.44 Q-17.5843 1163.7 -13.5739 1159.88 Q-9.56352 1156.06 -1.41542 1156.06 Z\" fill=\"#000000\" fill-rule=\"evenodd\" fill-opacity=\"1\" /><path clip-path=\"url(#clip5100)\" d=\"M 0 0 M-26.8464 1144.13 L-16.7249 1144.13 L-16.7249 1132.06 L-12.1735 1132.06 L-12.1735 1144.13 L7.17829 1144.13 Q11.5388 1144.13 12.7801 1142.95 Q14.0214 1141.74 14.0214 1138.08 L14.0214 1132.06 L18.923 1132.06 L18.923 1138.08 Q18.923 1144.86 16.4086 1147.44 Q13.8623 1150.02 7.17829 1150.02 L-12.1735 1150.02 L-12.1735 1154.31 L-16.7249 1154.31 L-16.7249 1150.02 L-26.8464 1150.02 L-26.8464 1144.13 Z\" fill=\"#000000\" fill-rule=\"evenodd\" fill-opacity=\"1\" /><path clip-path=\"url(#clip5100)\" d=\"M 0 0 M-12.6191 1112.11 Q-12.6191 1116.82 -8.92695 1119.56 Q-5.26667 1122.29 1.13086 1122.29 Q7.5284 1122.29 11.2205 1119.59 Q14.8808 1116.85 14.8808 1112.11 Q14.8808 1107.43 11.1887 1104.69 Q7.49657 1101.95 1.13086 1101.95 Q-5.20301 1101.95 -8.89512 1104.69 Q-12.6191 1107.43 -12.6191 1112.11 M-17.5843 1112.11 Q-17.5843 1104.47 -12.6191 1100.11 Q-7.65381 1095.75 1.13086 1095.75 Q9.88371 1095.75 14.8808 1100.11 Q19.846 1104.47 19.846 1112.11 Q19.846 1119.78 14.8808 1124.14 Q9.88371 1128.47 1.13086 1128.47 Q-7.65381 1128.47 -12.6191 1124.14 Q-17.5843 1119.78 -17.5843 1112.11 Z\" fill=\"#000000\" fill-rule=\"evenodd\" fill-opacity=\"1\" /><path clip-path=\"url(#clip5100)\" d=\"M 0 0 M-11.2504 1068.95 Q-11.8233 1069.94 -12.078 1071.11 Q-12.3644 1072.26 -12.3644 1073.66 Q-12.3644 1078.62 -9.11792 1081.3 Q-5.90324 1083.94 0.14418 1083.94 L18.923 1083.94 L18.923 1089.83 L-16.7249 1089.83 L-16.7249 1083.94 L-11.1868 1083.94 Q-14.4333 1082.09 -15.9929 1079.13 Q-17.5843 1076.17 -17.5843 1071.94 Q-17.5843 1071.34 -17.4888 1070.6 Q-17.4252 1069.87 -17.266 1068.98 L-11.2504 1068.95 Z\" fill=\"#000000\" fill-rule=\"evenodd\" fill-opacity=\"1\" /><path clip-path=\"url(#clip5100)\" d=\"M 0 0 M-15.6746 1040.08 L-10.1364 1040.08 Q-11.4096 1042.56 -12.0461 1045.24 Q-12.6827 1047.91 -12.6827 1050.77 Q-12.6827 1055.14 -11.3459 1057.33 Q-10.0091 1059.5 -7.33553 1059.5 Q-5.2985 1059.5 -4.12084 1057.94 Q-2.97502 1056.38 -1.92467 1051.67 L-1.47908 1049.66 Q-0.142277 1043.42 2.30852 1040.81 Q4.72749 1038.17 9.088 1038.17 Q14.0532 1038.17 16.9496 1042.12 Q19.846 1046.03 19.846 1052.91 Q19.846 1055.77 19.2731 1058.89 Q18.732 1061.98 17.618 1065.42 L11.5706 1065.42 Q13.2575 1062.17 14.1169 1059.02 Q14.9444 1055.87 14.9444 1052.78 Q14.9444 1048.64 13.544 1046.41 Q12.1117 1044.19 9.5336 1044.19 Q7.14646 1044.19 5.87332 1045.81 Q4.60017 1047.4 3.42252 1052.84 L2.94509 1054.88 Q1.79926 1060.32 -0.556048 1062.74 Q-2.94319 1065.16 -7.0809 1065.16 Q-12.1098 1065.16 -14.8471 1061.6 Q-17.5843 1058.03 -17.5843 1051.47 Q-17.5843 1048.23 -17.1069 1045.36 Q-16.6295 1042.5 -15.6746 1040.08 Z\" fill=\"#000000\" fill-rule=\"evenodd\" fill-opacity=\"1\" /><polyline clip-path=\"url(#clip5102)\" style=\"stroke:#009af9; stroke-width:4; stroke-opacity:1; fill:none\" points=\"\n",
       "  6762.36,1149.71 6650.3,1286.45 6594.27,1907.98 6502.59,2193.89 6451.65,1180.79 6334.5,988.111 6293.75,1006.76 6181.69,1099.99 6125.66,1006.76 6023.79,938.389 \n",
       "  5983.04,1025.4 5870.98,957.035 5830.24,689.775 5718.18,515.745 5667.24,565.468 5575.56,646.267 5524.62,329.285 5417.66,652.483 5331.07,453.592 5254.66,410.084 \n",
       "  5198.63,273.347 5112.04,372.792 5056.01,248.485 4943.96,267.131 4903.21,391.438 4796.24,422.515 4735.12,403.869 4633.25,534.391 4592.5,341.715 4475.35,192.547 \n",
       "  4434.6,534.391 4327.63,360.362 4271.6,192.547 4164.64,186.332 4123.89,155.255 4011.83,180.117 3971.08,472.238 3864.12,347.931 3808.09,577.899 3721.5,671.129 \n",
       "  3665.47,242.27 3558.51,534.391 3471.91,416.3 3400.6,602.76 3344.58,652.483 3242.7,615.191 3201.96,814.082 3084.8,901.097 3044.06,832.728 2942.18,770.574 \n",
       "  2881.06,845.158 2774.1,845.158 2733.35,913.527 2616.2,888.666 2560.17,1050.26 2473.58,913.527 2417.55,714.636 2305.49,944.604 2264.74,764.359 2152.68,720.852 \n",
       "  2096.65,627.621 1994.78,453.592 1954.03,689.775 1852.16,901.097 1811.41,795.436 1699.35,708.421 1602.58,540.607 1546.55,372.792 1485.42,490.884 1383.55,453.592 \n",
       "  1342.8,509.53 1225.65,291.993 1169.62,285.777 1088.13,621.406 1027,621.406 914.945,503.314 874.196,727.067 762.138,652.483 706.109,652.483 604.237,366.577 \n",
       "  563.489,391.438 415.775,596.545 \n",
       "  \"/>\n",
       "<polyline clip-path=\"url(#clip5102)\" style=\"stroke:#e26f46; stroke-width:4; stroke-opacity:1; fill:none\" points=\"\n",
       "  6762.36,608.975 6650.3,608.975 6594.27,615.191 6502.59,559.253 6451.65,559.253 6334.5,571.683 6293.75,584.114 6181.69,546.822 6125.66,559.253 6023.79,540.607 \n",
       "  5983.04,534.391 5870.98,441.161 5830.24,466.022 5718.18,478.453 5667.24,528.176 5575.56,553.037 5524.62,565.468 5417.66,553.037 5331.07,565.468 5254.66,497.099 \n",
       "  5198.63,503.314 5112.04,428.73 5056.01,410.084 4943.96,329.285 4903.21,304.423 4796.24,304.423 4735.12,298.208 4633.25,434.946 4592.5,403.869 4475.35,341.715 \n",
       "  4434.6,329.285 4327.63,329.285 4271.6,410.084 4164.64,459.807 4123.89,459.807 4011.83,453.592 3971.08,453.592 3864.12,354.146 3808.09,379.008 3721.5,565.468 \n",
       "  3665.47,565.468 3558.51,484.668 3471.91,521.96 3400.6,503.314 3344.58,528.176 3242.7,683.559 3201.96,727.067 3084.8,621.406 3044.06,621.406 2942.18,602.76 \n",
       "  2881.06,553.037 2774.1,565.468 2733.35,596.545 2616.2,677.344 2560.17,658.698 2473.58,652.483 2417.55,677.344 2305.49,664.913 2264.74,671.129 2152.68,509.53 \n",
       "  2096.65,490.884 1994.78,528.176 1954.03,472.238 1852.16,434.946 1811.41,416.3 1699.35,546.822 1602.58,534.391 1546.55,621.406 1485.42,646.267 1383.55,733.282 \n",
       "  1342.8,714.636 1225.65,727.067 1169.62,702.205 1088.13,702.205 1027,677.344 914.945,708.421 874.196,683.559 762.138,640.052 706.109,615.191 604.237,546.822 \n",
       "  563.489,553.037 415.775,422.515 \n",
       "  \"/>\n",
       "<path clip-path=\"url(#clip5100)\" d=\"\n",
       "M435.378 1835.05 L1594.22 1835.05 L1594.22 1653.61 L435.378 1653.61  Z\n",
       "  \" fill=\"#ffffff\" fill-rule=\"evenodd\" fill-opacity=\"1\"/>\n",
       "<polyline clip-path=\"url(#clip5100)\" style=\"stroke:#000000; stroke-width:4; stroke-opacity:1; fill:none\" points=\"\n",
       "  435.378,1835.05 1594.22,1835.05 1594.22,1653.61 435.378,1653.61 435.378,1835.05 \n",
       "  \"/>\n",
       "<polyline clip-path=\"url(#clip5100)\" style=\"stroke:#009af9; stroke-width:4; stroke-opacity:1; fill:none\" points=\"\n",
       "  505.378,1714.09 925.378,1714.09 \n",
       "  \"/>\n",
       "<path clip-path=\"url(#clip5100)\" d=\"M 0 0 M1019.41 1717.34 L1019.41 1719.42 L999.822 1719.42 Q1000.1 1723.82 1002.46 1726.14 Q1004.85 1728.43 1009.08 1728.43 Q1011.54 1728.43 1013.83 1727.83 Q1016.14 1727.22 1018.41 1726.02 L1018.41 1730.05 Q1016.12 1731.02 1013.71 1731.53 Q1011.3 1732.04 1008.83 1732.04 Q1002.62 1732.04 998.989 1728.43 Q995.378 1724.82 995.378 1718.66 Q995.378 1712.29 998.804 1708.57 Q1002.25 1704.82 1008.09 1704.82 Q1013.32 1704.82 1016.35 1708.2 Q1019.41 1711.55 1019.41 1717.34 M1015.15 1716.09 Q1015.1 1712.59 1013.18 1710.51 Q1011.28 1708.43 1008.13 1708.43 Q1004.57 1708.43 1002.41 1710.44 Q1000.29 1712.46 999.961 1716.11 L1015.15 1716.09 Z\" fill=\"#000000\" fill-rule=\"evenodd\" fill-opacity=\"1\" /><path clip-path=\"url(#clip5100)\" d=\"M 0 0 M1044.06 1710.42 Q1045.66 1707.55 1047.88 1706.18 Q1050.1 1704.82 1053.11 1704.82 Q1057.16 1704.82 1059.36 1707.66 Q1061.56 1710.49 1061.56 1715.72 L1061.56 1731.37 L1057.28 1731.37 L1057.28 1715.86 Q1057.28 1712.13 1055.96 1710.33 Q1054.64 1708.52 1051.93 1708.52 Q1048.62 1708.52 1046.7 1710.72 Q1044.78 1712.92 1044.78 1716.71 L1044.78 1731.37 L1040.49 1731.37 L1040.49 1715.86 Q1040.49 1712.11 1039.17 1710.33 Q1037.85 1708.52 1035.1 1708.52 Q1031.84 1708.52 1029.91 1710.74 Q1027.99 1712.94 1027.99 1716.71 L1027.99 1731.37 L1023.71 1731.37 L1023.71 1705.44 L1027.99 1705.44 L1027.99 1709.47 Q1029.45 1707.08 1031.49 1705.95 Q1033.53 1704.82 1036.33 1704.82 Q1039.15 1704.82 1041.12 1706.25 Q1043.11 1707.69 1044.06 1710.42 Z\" fill=\"#000000\" fill-rule=\"evenodd\" fill-opacity=\"1\" /><path clip-path=\"url(#clip5100)\" d=\"M 0 0 M1070.15 1727.48 L1070.15 1741.23 L1065.86 1741.23 L1065.86 1705.44 L1070.15 1705.44 L1070.15 1709.38 Q1071.49 1707.06 1073.53 1705.95 Q1075.59 1704.82 1078.43 1704.82 Q1083.16 1704.82 1086.09 1708.57 Q1089.06 1712.32 1089.06 1718.43 Q1089.06 1724.54 1086.09 1728.29 Q1083.16 1732.04 1078.43 1732.04 Q1075.59 1732.04 1073.53 1730.93 Q1071.49 1729.79 1070.15 1727.48 M1084.64 1718.43 Q1084.64 1713.73 1082.69 1711.07 Q1080.77 1708.38 1077.39 1708.38 Q1074.01 1708.38 1072.07 1711.07 Q1070.15 1713.73 1070.15 1718.43 Q1070.15 1723.13 1072.07 1725.81 Q1074.01 1728.47 1077.39 1728.47 Q1080.77 1728.47 1082.69 1725.81 Q1084.64 1723.13 1084.64 1718.43 Z\" fill=\"#000000\" fill-rule=\"evenodd\" fill-opacity=\"1\" /><path clip-path=\"url(#clip5100)\" d=\"M 0 0 M1093.53 1695.35 L1097.78 1695.35 L1097.78 1731.37 L1093.53 1731.37 L1093.53 1695.35 Z\" fill=\"#000000\" fill-rule=\"evenodd\" fill-opacity=\"1\" /><path clip-path=\"url(#clip5100)\" d=\"M 0 0 M1112.3 1708.43 Q1108.87 1708.43 1106.88 1711.11 Q1104.89 1713.77 1104.89 1718.43 Q1104.89 1723.08 1106.86 1725.77 Q1108.85 1728.43 1112.3 1728.43 Q1115.7 1728.43 1117.69 1725.74 Q1119.68 1723.06 1119.68 1718.43 Q1119.68 1713.82 1117.69 1711.14 Q1115.7 1708.43 1112.3 1708.43 M1112.3 1704.82 Q1117.85 1704.82 1121.03 1708.43 Q1124.2 1712.04 1124.2 1718.43 Q1124.2 1724.79 1121.03 1728.43 Q1117.85 1732.04 1112.3 1732.04 Q1106.72 1732.04 1103.55 1728.43 Q1100.4 1724.79 1100.4 1718.43 Q1100.4 1712.04 1103.55 1708.43 Q1106.72 1704.82 1112.3 1704.82 Z\" fill=\"#000000\" fill-rule=\"evenodd\" fill-opacity=\"1\" /><path clip-path=\"url(#clip5100)\" d=\"M 0 0 M1139.45 1733.77 Q1137.65 1738.4 1135.93 1739.82 Q1134.22 1741.23 1131.35 1741.23 L1127.95 1741.23 L1127.95 1737.66 L1130.45 1737.66 Q1132.21 1737.66 1133.18 1736.83 Q1134.15 1736 1135.33 1732.9 L1136.09 1730.95 L1125.61 1705.44 L1130.12 1705.44 L1138.22 1725.72 L1146.33 1705.44 L1150.84 1705.44 L1139.45 1733.77 Z\" fill=\"#000000\" fill-rule=\"evenodd\" fill-opacity=\"1\" /><path clip-path=\"url(#clip5100)\" d=\"M 0 0 M1175.49 1710.42 Q1177.09 1707.55 1179.31 1706.18 Q1181.53 1704.82 1184.54 1704.82 Q1188.59 1704.82 1190.79 1707.66 Q1192.99 1710.49 1192.99 1715.72 L1192.99 1731.37 L1188.71 1731.37 L1188.71 1715.86 Q1188.71 1712.13 1187.39 1710.33 Q1186.07 1708.52 1183.36 1708.52 Q1180.05 1708.52 1178.13 1710.72 Q1176.21 1712.92 1176.21 1716.71 L1176.21 1731.37 L1171.93 1731.37 L1171.93 1715.86 Q1171.93 1712.11 1170.61 1710.33 Q1169.29 1708.52 1166.53 1708.52 Q1163.27 1708.52 1161.35 1710.74 Q1159.43 1712.94 1159.43 1716.71 L1159.43 1731.37 L1155.15 1731.37 L1155.15 1705.44 L1159.43 1705.44 L1159.43 1709.47 Q1160.89 1707.08 1162.92 1705.95 Q1164.96 1704.82 1167.76 1704.82 Q1170.59 1704.82 1172.55 1706.25 Q1174.54 1707.69 1175.49 1710.42 Z\" fill=\"#000000\" fill-rule=\"evenodd\" fill-opacity=\"1\" /><path clip-path=\"url(#clip5100)\" d=\"M 0 0 M1219.64 1717.34 L1219.64 1719.42 L1200.05 1719.42 Q1200.33 1723.82 1202.69 1726.14 Q1205.08 1728.43 1209.31 1728.43 Q1211.77 1728.43 1214.06 1727.83 Q1216.37 1727.22 1218.64 1726.02 L1218.64 1730.05 Q1216.35 1731.02 1213.94 1731.53 Q1211.53 1732.04 1209.06 1732.04 Q1202.85 1732.04 1199.22 1728.43 Q1195.61 1724.82 1195.61 1718.66 Q1195.61 1712.29 1199.03 1708.57 Q1202.48 1704.82 1208.32 1704.82 Q1213.55 1704.82 1216.58 1708.2 Q1219.64 1711.55 1219.64 1717.34 M1215.38 1716.09 Q1215.33 1712.59 1213.41 1710.51 Q1211.51 1708.43 1208.36 1708.43 Q1204.8 1708.43 1202.65 1710.44 Q1200.52 1712.46 1200.19 1716.11 L1215.38 1716.09 Z\" fill=\"#000000\" fill-rule=\"evenodd\" fill-opacity=\"1\" /><path clip-path=\"url(#clip5100)\" d=\"M 0 0 M1245.65 1715.72 L1245.65 1731.37 L1241.4 1731.37 L1241.4 1715.86 Q1241.4 1712.18 1239.96 1710.35 Q1238.52 1708.52 1235.65 1708.52 Q1232.21 1708.52 1230.21 1710.72 Q1228.22 1712.92 1228.22 1716.71 L1228.22 1731.37 L1223.94 1731.37 L1223.94 1705.44 L1228.22 1705.44 L1228.22 1709.47 Q1229.75 1707.13 1231.81 1705.97 Q1233.9 1704.82 1236.6 1704.82 Q1241.07 1704.82 1243.36 1707.59 Q1245.65 1710.35 1245.65 1715.72 Z\" fill=\"#000000\" fill-rule=\"evenodd\" fill-opacity=\"1\" /><path clip-path=\"url(#clip5100)\" d=\"M 0 0 M1254.33 1698.08 L1254.33 1705.44 L1263.11 1705.44 L1263.11 1708.75 L1254.33 1708.75 L1254.33 1722.83 Q1254.33 1726 1255.19 1726.9 Q1256.07 1727.8 1258.73 1727.8 L1263.11 1727.8 L1263.11 1731.37 L1258.73 1731.37 Q1253.8 1731.37 1251.93 1729.54 Q1250.05 1727.69 1250.05 1722.83 L1250.05 1708.75 L1246.93 1708.75 L1246.93 1705.44 L1250.05 1705.44 L1250.05 1698.08 L1254.33 1698.08 Z\" fill=\"#000000\" fill-rule=\"evenodd\" fill-opacity=\"1\" /><path clip-path=\"url(#clip5100)\" d=\"M 0 0 M1292.88 1695.4 Q1289.77 1700.72 1288.27 1705.93 Q1286.77 1711.14 1286.77 1716.48 Q1286.77 1721.83 1288.27 1727.08 Q1289.8 1732.32 1292.88 1737.62 L1289.17 1737.62 Q1285.7 1732.18 1283.96 1726.92 Q1282.25 1721.67 1282.25 1716.48 Q1282.25 1711.32 1283.96 1706.09 Q1285.68 1700.86 1289.17 1695.4 L1292.88 1695.4 Z\" fill=\"#000000\" fill-rule=\"evenodd\" fill-opacity=\"1\" /><path clip-path=\"url(#clip5100)\" d=\"M 0 0 M1309.13 1718.33 Q1303.96 1718.33 1301.97 1719.52 Q1299.98 1720.7 1299.98 1723.54 Q1299.98 1725.81 1301.46 1727.15 Q1302.97 1728.47 1305.54 1728.47 Q1309.08 1728.47 1311.21 1725.97 Q1313.36 1723.45 1313.36 1719.28 L1313.36 1718.33 L1309.13 1718.33 M1317.62 1716.58 L1317.62 1731.37 L1313.36 1731.37 L1313.36 1727.43 Q1311.9 1729.79 1309.73 1730.93 Q1307.55 1732.04 1304.4 1732.04 Q1300.42 1732.04 1298.06 1729.82 Q1295.72 1727.57 1295.72 1723.82 Q1295.72 1719.45 1298.64 1717.22 Q1301.58 1715 1307.39 1715 L1313.36 1715 L1313.36 1714.58 Q1313.36 1711.65 1311.42 1710.05 Q1309.5 1708.43 1306 1708.43 Q1303.78 1708.43 1301.67 1708.96 Q1299.57 1709.49 1297.62 1710.56 L1297.62 1706.62 Q1299.96 1705.72 1302.16 1705.28 Q1304.36 1704.82 1306.44 1704.82 Q1312.07 1704.82 1314.84 1707.73 Q1317.62 1710.65 1317.62 1716.58 Z\" fill=\"#000000\" fill-rule=\"evenodd\" fill-opacity=\"1\" /><path clip-path=\"url(#clip5100)\" d=\"M 0 0 M1340.75 1706.44 L1340.75 1710.42 Q1338.94 1709.42 1337.11 1708.94 Q1335.31 1708.43 1333.45 1708.43 Q1329.31 1708.43 1327.02 1711.07 Q1324.73 1713.68 1324.73 1718.43 Q1324.73 1723.17 1327.02 1725.81 Q1329.31 1728.43 1333.45 1728.43 Q1335.31 1728.43 1337.11 1727.94 Q1338.94 1727.43 1340.75 1726.44 L1340.75 1730.37 Q1338.96 1731.21 1337.04 1731.62 Q1335.14 1732.04 1332.99 1732.04 Q1327.14 1732.04 1323.69 1728.36 Q1320.24 1724.68 1320.24 1718.43 Q1320.24 1712.08 1323.71 1708.45 Q1327.2 1704.82 1333.27 1704.82 Q1335.24 1704.82 1337.11 1705.23 Q1338.99 1705.63 1340.75 1706.44 Z\" fill=\"#000000\" fill-rule=\"evenodd\" fill-opacity=\"1\" /><path clip-path=\"url(#clip5100)\" d=\"M 0 0 M1349.43 1698.08 L1349.43 1705.44 L1358.2 1705.44 L1358.2 1708.75 L1349.43 1708.75 L1349.43 1722.83 Q1349.43 1726 1350.28 1726.9 Q1351.16 1727.8 1353.82 1727.8 L1358.2 1727.8 L1358.2 1731.37 L1353.82 1731.37 Q1348.89 1731.37 1347.02 1729.54 Q1345.14 1727.69 1345.14 1722.83 L1345.14 1708.75 L1342.02 1708.75 L1342.02 1705.44 L1345.14 1705.44 L1345.14 1698.08 L1349.43 1698.08 Z\" fill=\"#000000\" fill-rule=\"evenodd\" fill-opacity=\"1\" /><path clip-path=\"url(#clip5100)\" d=\"M 0 0 M1362.23 1721.14 L1362.23 1705.44 L1366.49 1705.44 L1366.49 1720.97 Q1366.49 1724.65 1367.92 1726.51 Q1369.36 1728.33 1372.23 1728.33 Q1375.68 1728.33 1377.67 1726.14 Q1379.68 1723.94 1379.68 1720.14 L1379.68 1705.44 L1383.94 1705.44 L1383.94 1731.37 L1379.68 1731.37 L1379.68 1727.39 Q1378.13 1729.75 1376.07 1730.9 Q1374.03 1732.04 1371.32 1732.04 Q1366.86 1732.04 1364.54 1729.26 Q1362.23 1726.48 1362.23 1721.14 M1372.95 1704.82 L1372.95 1704.82 Z\" fill=\"#000000\" fill-rule=\"evenodd\" fill-opacity=\"1\" /><path clip-path=\"url(#clip5100)\" d=\"M 0 0 M1400.19 1718.33 Q1395.03 1718.33 1393.04 1719.52 Q1391.05 1720.7 1391.05 1723.54 Q1391.05 1725.81 1392.53 1727.15 Q1394.03 1728.47 1396.6 1728.47 Q1400.14 1728.47 1402.27 1725.97 Q1404.43 1723.45 1404.43 1719.28 L1404.43 1718.33 L1400.19 1718.33 M1408.69 1716.58 L1408.69 1731.37 L1404.43 1731.37 L1404.43 1727.43 Q1402.97 1729.79 1400.79 1730.93 Q1398.62 1732.04 1395.47 1732.04 Q1391.49 1732.04 1389.13 1729.82 Q1386.79 1727.57 1386.79 1723.82 Q1386.79 1719.45 1389.7 1717.22 Q1392.64 1715 1398.45 1715 L1404.43 1715 L1404.43 1714.58 Q1404.43 1711.65 1402.48 1710.05 Q1400.56 1708.43 1397.07 1708.43 Q1394.84 1708.43 1392.74 1708.96 Q1390.63 1709.49 1388.69 1710.56 L1388.69 1706.62 Q1391.02 1705.72 1393.22 1705.28 Q1395.42 1704.82 1397.51 1704.82 Q1403.13 1704.82 1405.91 1707.73 Q1408.69 1710.65 1408.69 1716.58 Z\" fill=\"#000000\" fill-rule=\"evenodd\" fill-opacity=\"1\" /><path clip-path=\"url(#clip5100)\" d=\"M 0 0 M1413.15 1695.35 L1417.41 1695.35 L1417.41 1731.37 L1413.15 1731.37 L1413.15 1695.35 Z\" fill=\"#000000\" fill-rule=\"evenodd\" fill-opacity=\"1\" /><path clip-path=\"url(#clip5100)\" d=\"M 0 0 M1438.41 1706.21 L1438.41 1710.23 Q1436.6 1709.31 1434.66 1708.84 Q1432.71 1708.38 1430.63 1708.38 Q1427.46 1708.38 1425.86 1709.35 Q1424.29 1710.33 1424.29 1712.27 Q1424.29 1713.75 1425.42 1714.61 Q1426.56 1715.44 1429.98 1716.21 L1431.44 1716.53 Q1435.98 1717.5 1437.88 1719.28 Q1439.8 1721.04 1439.8 1724.21 Q1439.8 1727.83 1436.93 1729.93 Q1434.08 1732.04 1429.08 1732.04 Q1427 1732.04 1424.73 1731.62 Q1422.48 1731.23 1419.98 1730.42 L1419.98 1726.02 Q1422.34 1727.25 1424.63 1727.87 Q1426.93 1728.47 1429.17 1728.47 Q1432.18 1728.47 1433.8 1727.46 Q1435.42 1726.41 1435.42 1724.54 Q1435.42 1722.8 1434.24 1721.88 Q1433.08 1720.95 1429.13 1720.09 L1427.64 1719.75 Q1423.69 1718.91 1421.93 1717.2 Q1420.17 1715.46 1420.17 1712.46 Q1420.17 1708.8 1422.76 1706.81 Q1425.35 1704.82 1430.12 1704.82 Q1432.48 1704.82 1434.57 1705.16 Q1436.65 1705.51 1438.41 1706.21 Z\" fill=\"#000000\" fill-rule=\"evenodd\" fill-opacity=\"1\" /><path clip-path=\"url(#clip5100)\" d=\"M 0 0 M1443.59 1695.4 L1447.3 1695.4 Q1450.77 1700.86 1452.48 1706.09 Q1454.22 1711.32 1454.22 1716.48 Q1454.22 1721.67 1452.48 1726.92 Q1450.77 1732.18 1447.3 1737.62 L1443.59 1737.62 Q1446.67 1732.32 1448.18 1727.08 Q1449.7 1721.83 1449.7 1716.48 Q1449.7 1711.14 1448.18 1705.93 Q1446.67 1700.72 1443.59 1695.4 Z\" fill=\"#000000\" fill-rule=\"evenodd\" fill-opacity=\"1\" /><polyline clip-path=\"url(#clip5100)\" style=\"stroke:#e26f46; stroke-width:4; stroke-opacity:1; fill:none\" points=\"\n",
       "  505.378,1774.57 925.378,1774.57 \n",
       "  \"/>\n",
       "<path clip-path=\"url(#clip5100)\" d=\"M 0 0 M1000.05 1761.13 L1000.05 1774.12 L1005.93 1774.12 Q1009.2 1774.12 1010.98 1772.43 Q1012.76 1770.74 1012.76 1767.61 Q1012.76 1764.51 1010.98 1762.82 Q1009.2 1761.13 1005.93 1761.13 L1000.05 1761.13 M995.378 1757.29 L1005.93 1757.29 Q1011.74 1757.29 1014.71 1759.93 Q1017.69 1762.54 1017.69 1767.61 Q1017.69 1772.73 1014.71 1775.34 Q1011.74 1777.96 1005.93 1777.96 L1000.05 1777.96 L1000.05 1791.85 L995.378 1791.85 L995.378 1757.29 Z\" fill=\"#000000\" fill-rule=\"evenodd\" fill-opacity=\"1\" /><path clip-path=\"url(#clip5100)\" d=\"M 0 0 M1022.35 1757.29 L1029.31 1757.29 L1038.13 1780.81 L1047 1757.29 L1053.97 1757.29 L1053.97 1791.85 L1049.41 1791.85 L1049.41 1761.5 L1040.49 1785.2 L1035.79 1785.2 L1026.88 1761.5 L1026.88 1791.85 L1022.35 1791.85 L1022.35 1757.29 Z\" fill=\"#000000\" fill-rule=\"evenodd\" fill-opacity=\"1\" /><path clip-path=\"url(#clip5100)\" d=\"M 0 0 M1058.62 1757.29 L1063.29 1757.29 L1063.29 1791.85 L1058.62 1791.85 L1058.62 1757.29 Z\" fill=\"#000000\" fill-rule=\"evenodd\" fill-opacity=\"1\" /><path clip-path=\"url(#clip5100)\" d=\"M 0 0 M1093.06 1755.88 Q1089.96 1761.2 1088.46 1766.41 Q1086.95 1771.62 1086.95 1776.96 Q1086.95 1782.31 1088.46 1787.56 Q1089.98 1792.8 1093.06 1798.1 L1089.36 1798.1 Q1085.89 1792.66 1084.15 1787.4 Q1082.44 1782.15 1082.44 1776.96 Q1082.44 1771.8 1084.15 1766.57 Q1085.86 1761.34 1089.36 1755.88 L1093.06 1755.88 Z\" fill=\"#000000\" fill-rule=\"evenodd\" fill-opacity=\"1\" /><path clip-path=\"url(#clip5100)\" d=\"M 0 0 M1109.31 1778.81 Q1104.15 1778.81 1102.16 1780 Q1100.17 1781.18 1100.17 1784.02 Q1100.17 1786.29 1101.65 1787.63 Q1103.16 1788.95 1105.72 1788.95 Q1109.27 1788.95 1111.4 1786.45 Q1113.55 1783.93 1113.55 1779.76 L1113.55 1778.81 L1109.31 1778.81 M1117.81 1777.06 L1117.81 1791.85 L1113.55 1791.85 L1113.55 1787.91 Q1112.09 1790.27 1109.91 1791.41 Q1107.74 1792.52 1104.59 1792.52 Q1100.61 1792.52 1098.25 1790.3 Q1095.91 1788.05 1095.91 1784.3 Q1095.91 1779.93 1098.83 1777.7 Q1101.77 1775.48 1107.58 1775.48 L1113.55 1775.48 L1113.55 1775.06 Q1113.55 1772.13 1111.6 1770.53 Q1109.68 1768.91 1106.19 1768.91 Q1103.97 1768.91 1101.86 1769.44 Q1099.75 1769.97 1097.81 1771.04 L1097.81 1767.1 Q1100.15 1766.2 1102.34 1765.76 Q1104.54 1765.3 1106.63 1765.3 Q1112.25 1765.3 1115.03 1768.21 Q1117.81 1771.13 1117.81 1777.06 Z\" fill=\"#000000\" fill-rule=\"evenodd\" fill-opacity=\"1\" /><path clip-path=\"url(#clip5100)\" d=\"M 0 0 M1140.93 1766.92 L1140.93 1770.9 Q1139.13 1769.9 1137.3 1769.42 Q1135.49 1768.91 1133.64 1768.91 Q1129.5 1768.91 1127.21 1771.55 Q1124.91 1774.16 1124.91 1778.91 Q1124.91 1783.65 1127.21 1786.29 Q1129.5 1788.91 1133.64 1788.91 Q1135.49 1788.91 1137.3 1788.42 Q1139.13 1787.91 1140.93 1786.92 L1140.93 1790.85 Q1139.15 1791.69 1137.23 1792.1 Q1135.33 1792.52 1133.18 1792.52 Q1127.32 1792.52 1123.87 1788.84 Q1120.42 1785.16 1120.42 1778.91 Q1120.42 1772.56 1123.9 1768.93 Q1127.39 1765.3 1133.46 1765.3 Q1135.42 1765.3 1137.3 1765.71 Q1139.17 1766.11 1140.93 1766.92 Z\" fill=\"#000000\" fill-rule=\"evenodd\" fill-opacity=\"1\" /><path clip-path=\"url(#clip5100)\" d=\"M 0 0 M1149.61 1758.56 L1149.61 1765.92 L1158.39 1765.92 L1158.39 1769.23 L1149.61 1769.23 L1149.61 1783.31 Q1149.61 1786.48 1150.47 1787.38 Q1151.35 1788.28 1154.01 1788.28 L1158.39 1788.28 L1158.39 1791.85 L1154.01 1791.85 Q1149.08 1791.85 1147.21 1790.02 Q1145.33 1788.17 1145.33 1783.31 L1145.33 1769.23 L1142.21 1769.23 L1142.21 1765.92 L1145.33 1765.92 L1145.33 1758.56 L1149.61 1758.56 Z\" fill=\"#000000\" fill-rule=\"evenodd\" fill-opacity=\"1\" /><path clip-path=\"url(#clip5100)\" d=\"M 0 0 M1162.41 1781.62 L1162.41 1765.92 L1166.67 1765.92 L1166.67 1781.45 Q1166.67 1785.13 1168.11 1786.99 Q1169.54 1788.81 1172.41 1788.81 Q1175.86 1788.81 1177.85 1786.62 Q1179.87 1784.42 1179.87 1780.62 L1179.87 1765.92 L1184.13 1765.92 L1184.13 1791.85 L1179.87 1791.85 L1179.87 1787.87 Q1178.32 1790.23 1176.26 1791.38 Q1174.22 1792.52 1171.51 1792.52 Q1167.04 1792.52 1164.73 1789.74 Q1162.41 1786.96 1162.41 1781.62 M1173.13 1765.3 L1173.13 1765.3 Z\" fill=\"#000000\" fill-rule=\"evenodd\" fill-opacity=\"1\" /><path clip-path=\"url(#clip5100)\" d=\"M 0 0 M1200.38 1778.81 Q1195.21 1778.81 1193.22 1780 Q1191.23 1781.18 1191.23 1784.02 Q1191.23 1786.29 1192.71 1787.63 Q1194.22 1788.95 1196.79 1788.95 Q1200.33 1788.95 1202.46 1786.45 Q1204.61 1783.93 1204.61 1779.76 L1204.61 1778.81 L1200.38 1778.81 M1208.87 1777.06 L1208.87 1791.85 L1204.61 1791.85 L1204.61 1787.91 Q1203.15 1790.27 1200.98 1791.41 Q1198.8 1792.52 1195.65 1792.52 Q1191.67 1792.52 1189.31 1790.3 Q1186.97 1788.05 1186.97 1784.3 Q1186.97 1779.93 1189.89 1777.7 Q1192.83 1775.48 1198.64 1775.48 L1204.61 1775.48 L1204.61 1775.06 Q1204.61 1772.13 1202.67 1770.53 Q1200.75 1768.91 1197.25 1768.91 Q1195.03 1768.91 1192.92 1769.44 Q1190.82 1769.97 1188.87 1771.04 L1188.87 1767.1 Q1191.21 1766.2 1193.41 1765.76 Q1195.61 1765.3 1197.69 1765.3 Q1203.32 1765.3 1206.09 1768.21 Q1208.87 1771.13 1208.87 1777.06 Z\" fill=\"#000000\" fill-rule=\"evenodd\" fill-opacity=\"1\" /><path clip-path=\"url(#clip5100)\" d=\"M 0 0 M1213.34 1755.83 L1217.6 1755.83 L1217.6 1791.85 L1213.34 1791.85 L1213.34 1755.83 Z\" fill=\"#000000\" fill-rule=\"evenodd\" fill-opacity=\"1\" /><path clip-path=\"url(#clip5100)\" d=\"M 0 0 M1238.59 1766.69 L1238.59 1770.71 Q1236.79 1769.79 1234.84 1769.32 Q1232.9 1768.86 1230.82 1768.86 Q1227.65 1768.86 1226.05 1769.83 Q1224.47 1770.81 1224.47 1772.75 Q1224.47 1774.23 1225.61 1775.09 Q1226.74 1775.92 1230.17 1776.69 L1231.63 1777.01 Q1236.16 1777.98 1238.06 1779.76 Q1239.98 1781.52 1239.98 1784.69 Q1239.98 1788.31 1237.11 1790.41 Q1234.27 1792.52 1229.27 1792.52 Q1227.18 1792.52 1224.91 1792.1 Q1222.67 1791.71 1220.17 1790.9 L1220.17 1786.5 Q1222.53 1787.73 1224.82 1788.35 Q1227.11 1788.95 1229.36 1788.95 Q1232.37 1788.95 1233.99 1787.94 Q1235.61 1786.89 1235.61 1785.02 Q1235.61 1783.28 1234.43 1782.36 Q1233.27 1781.43 1229.31 1780.57 L1227.83 1780.23 Q1223.87 1779.39 1222.11 1777.68 Q1220.35 1775.94 1220.35 1772.94 Q1220.35 1769.28 1222.95 1767.29 Q1225.54 1765.3 1230.31 1765.3 Q1232.67 1765.3 1234.75 1765.64 Q1236.83 1765.99 1238.59 1766.69 Z\" fill=\"#000000\" fill-rule=\"evenodd\" fill-opacity=\"1\" /><path clip-path=\"url(#clip5100)\" d=\"M 0 0 M1243.78 1755.88 L1247.48 1755.88 Q1250.96 1761.34 1252.67 1766.57 Q1254.4 1771.8 1254.4 1776.96 Q1254.4 1782.15 1252.67 1787.4 Q1250.96 1792.66 1247.48 1798.1 L1243.78 1798.1 Q1246.86 1792.8 1248.36 1787.56 Q1249.89 1782.31 1249.89 1776.96 Q1249.89 1771.62 1248.36 1766.41 Q1246.86 1761.2 1243.78 1755.88 Z\" fill=\"#000000\" fill-rule=\"evenodd\" fill-opacity=\"1\" /></svg>\n"
      ]
     },
     "execution_count": 67,
     "metadata": {},
     "output_type": "execute_result"
    }
   ],
   "source": [
    "periods = df2[:,1] # all rows, first column\n",
    "println(periods[begin], \" to \", periods[end])\n",
    "gr()\n",
    "plot(periods, \n",
    "    title=\"ISM Manufacturing\",\n",
    "    [df1[:,2]  df2[:,2]], \n",
    "    label    = [\"employment (actuals)\" \"PMI (actuals)\"],\n",
    "    legend    =:bottomleft, # :right, :left, :top, :bottom, :inside, :best, :legend, :topright, :topleft, :bottomleft, :bottomright\n",
    "    xlabel   = \"time\",\n",
    "    ylabel   = \"indicators\",\n",
    "    size     = (1750, 600), # width, height\n",
    "    layout = (1, 1) # number of seperate plots VERTICALLY, HORIZONTALLY\n",
    "    )"
   ]
  },
  {
   "cell_type": "markdown",
   "metadata": {},
   "source": [
    "# Shift Employment by 90 days back"
   ]
  },
  {
   "cell_type": "code",
   "execution_count": 89,
   "metadata": {},
   "outputs": [
    {
     "name": "stdout",
     "output_type": "stream",
     "text": [
      "original 2020-08-03 -90 shift 2020-05-05\n",
      "original 2020-07-01 -90 shift 2020-04-02\n",
      "original 2020-06-01 -90 shift 2020-03-03\n",
      "original 2020-05-01 -90 shift 2020-02-01\n",
      "original 2020-04-01 -90 shift 2020-01-02\n",
      "original 2020-03-02 -90 shift 2019-12-03\n",
      "original 2020-02-03 -90 shift 2019-11-05\n",
      "original 2020-01-03 -90 shift 2019-10-05\n",
      "original 2019-12-02 -90 shift 2019-09-03\n",
      "original 2019-11-01 -90 shift 2019-08-03\n",
      "original 2019-10-01 -90 shift 2019-07-03\n",
      "original 2019-09-03 -90 shift 2019-06-05\n",
      "original 2019-08-01 -90 shift 2019-05-03\n",
      "original 2019-07-01 -90 shift 2019-04-02\n",
      "original 2019-06-03 -90 shift 2019-03-05\n",
      "original 2019-05-01 -90 shift 2019-01-31\n",
      "original 2019-04-01 -90 shift 2019-01-01\n",
      "original 2019-03-01 -90 shift 2018-12-01\n",
      "original 2019-02-01 -90 shift 2018-11-03\n",
      "original 2019-01-03 -90 shift 2018-10-05\n",
      "original 2018-12-03 -90 shift 2018-09-04\n",
      "original 2018-11-01 -90 shift 2018-08-03\n",
      "original 2018-10-01 -90 shift 2018-07-03\n",
      "original 2018-09-04 -90 shift 2018-06-06\n",
      "original 2018-08-01 -90 shift 2018-05-03\n",
      "original 2018-07-02 -90 shift 2018-04-03\n",
      "original 2018-06-01 -90 shift 2018-03-03\n",
      "original 2018-05-01 -90 shift 2018-01-31\n",
      "original 2018-04-02 -90 shift 2018-01-02\n",
      "original 2018-03-01 -90 shift 2017-12-01\n",
      "original 2018-02-01 -90 shift 2017-11-03\n",
      "original 2018-01-03 -90 shift 2017-10-05\n",
      "original 2017-12-01 -90 shift 2017-09-02\n",
      "original 2017-11-01 -90 shift 2017-08-03\n",
      "original 2017-10-02 -90 shift 2017-07-04\n",
      "original 2017-09-01 -90 shift 2017-06-03\n",
      "original 2017-08-01 -90 shift 2017-05-03\n",
      "original 2017-07-03 -90 shift 2017-04-04\n",
      "original 2017-06-01 -90 shift 2017-03-03\n",
      "original 2017-05-01 -90 shift 2017-01-31\n",
      "original 2017-04-03 -90 shift 2017-01-03\n",
      "original 2017-03-01 -90 shift 2016-12-01\n",
      "original 2017-02-01 -90 shift 2016-11-03\n",
      "original 2017-01-03 -90 shift 2016-10-05\n",
      "original 2016-12-01 -90 shift 2016-09-02\n",
      "original 2016-11-01 -90 shift 2016-08-03\n",
      "original 2016-10-03 -90 shift 2016-07-05\n",
      "original 2016-09-01 -90 shift 2016-06-03\n",
      "original 2016-08-01 -90 shift 2016-05-03\n",
      "original 2016-07-01 -90 shift 2016-04-02\n",
      "original 2016-06-01 -90 shift 2016-03-03\n",
      "original 2016-05-02 -90 shift 2016-02-02\n",
      "original 2016-04-01 -90 shift 2016-01-02\n",
      "original 2016-03-01 -90 shift 2015-12-02\n",
      "original 2016-02-01 -90 shift 2015-11-03\n",
      "original 2016-01-04 -90 shift 2015-10-06\n",
      "original 2015-12-01 -90 shift 2015-09-02\n",
      "original 2015-11-02 -90 shift 2015-08-04\n",
      "original 2015-10-01 -90 shift 2015-07-03\n",
      "original 2015-09-01 -90 shift 2015-06-03\n",
      "original 2015-08-03 -90 shift 2015-05-05\n",
      "original 2015-07-01 -90 shift 2015-04-02\n",
      "original 2015-06-01 -90 shift 2015-03-03\n",
      "original 2015-05-01 -90 shift 2015-01-31\n",
      "original 2015-04-01 -90 shift 2015-01-01\n",
      "original 2015-03-02 -90 shift 2014-12-02\n",
      "original 2015-02-02 -90 shift 2014-11-04\n",
      "original 2015-01-02 -90 shift 2014-10-04\n",
      "original 2014-12-01 -90 shift 2014-09-02\n",
      "original 2014-11-03 -90 shift 2014-08-05\n",
      "original 2014-10-01 -90 shift 2014-07-03\n",
      "original 2014-09-02 -90 shift 2014-06-04\n",
      "original 2014-08-01 -90 shift 2014-05-03\n",
      "original 2014-07-01 -90 shift 2014-04-02\n",
      "original 2014-06-02 -90 shift 2014-03-04\n",
      "original 2014-05-01 -90 shift 2014-01-31\n",
      "original 2014-04-01 -90 shift 2014-01-01\n",
      "original 2014-03-03 -90 shift 2013-12-03\n",
      "original 2014-02-03 -90 shift 2013-11-05\n",
      "original 2014-01-02 -90 shift 2013-10-04\n",
      "original 2013-12-02 -90 shift 2013-09-03\n",
      "original 2013-11-01 -90 shift 2013-08-03\n"
     ]
    },
    {
     "data": {
      "text/html": [
       "<table class=\"data-frame\"><thead><tr><th></th><th>Date</th><th>ActualValue</th></tr><tr><th></th><th>Date</th><th>Float64</th></tr></thead><tbody><p>82 rows × 2 columns</p><tr><th>1</th><td>2020-05-05</td><td>44.3</td></tr><tr><th>2</th><td>2020-04-02</td><td>42.1</td></tr><tr><th>3</th><td>2020-03-03</td><td>32.1</td></tr><tr><th>4</th><td>2020-02-01</td><td>27.5</td></tr><tr><th>5</th><td>2020-01-02</td><td>43.8</td></tr><tr><th>6</th><td>2019-12-03</td><td>46.9</td></tr><tr><th>7</th><td>2019-11-05</td><td>46.6</td></tr><tr><th>8</th><td>2019-10-05</td><td>45.1</td></tr><tr><th>9</th><td>2019-09-03</td><td>46.6</td></tr><tr><th>10</th><td>2019-08-03</td><td>47.7</td></tr><tr><th>11</th><td>2019-07-03</td><td>46.3</td></tr><tr><th>12</th><td>2019-06-05</td><td>47.4</td></tr><tr><th>13</th><td>2019-05-03</td><td>51.7</td></tr><tr><th>14</th><td>2019-04-02</td><td>54.5</td></tr><tr><th>15</th><td>2019-03-05</td><td>53.7</td></tr><tr><th>16</th><td>2019-01-31</td><td>52.4</td></tr><tr><th>17</th><td>2019-01-01</td><td>57.5</td></tr><tr><th>18</th><td>2018-12-01</td><td>52.3</td></tr><tr><th>19</th><td>2018-11-03</td><td>55.5</td></tr><tr><th>20</th><td>2018-10-05</td><td>56.2</td></tr><tr><th>21</th><td>2018-09-04</td><td>58.4</td></tr><tr><th>22</th><td>2018-08-03</td><td>56.8</td></tr><tr><th>23</th><td>2018-07-03</td><td>58.8</td></tr><tr><th>24</th><td>2018-06-06</td><td>58.5</td></tr><tr><th>25</th><td>2018-05-03</td><td>56.5</td></tr><tr><th>26</th><td>2018-04-03</td><td>56.0</td></tr><tr><th>27</th><td>2018-03-03</td><td>56.3</td></tr><tr><th>28</th><td>2018-01-31</td><td>54.2</td></tr><tr><th>29</th><td>2018-01-02</td><td>57.3</td></tr><tr><th>30</th><td>2017-12-01</td><td>59.7</td></tr><tr><th>&vellip;</th><td>&vellip;</td><td>&vellip;</td></tr></tbody></table>"
      ],
      "text/latex": [
       "\\begin{tabular}{r|cc}\n",
       "\t& Date & ActualValue\\\\\n",
       "\t\\hline\n",
       "\t& Date & Float64\\\\\n",
       "\t\\hline\n",
       "\t1 & 2020-05-05 & 44.3 \\\\\n",
       "\t2 & 2020-04-02 & 42.1 \\\\\n",
       "\t3 & 2020-03-03 & 32.1 \\\\\n",
       "\t4 & 2020-02-01 & 27.5 \\\\\n",
       "\t5 & 2020-01-02 & 43.8 \\\\\n",
       "\t6 & 2019-12-03 & 46.9 \\\\\n",
       "\t7 & 2019-11-05 & 46.6 \\\\\n",
       "\t8 & 2019-10-05 & 45.1 \\\\\n",
       "\t9 & 2019-09-03 & 46.6 \\\\\n",
       "\t10 & 2019-08-03 & 47.7 \\\\\n",
       "\t11 & 2019-07-03 & 46.3 \\\\\n",
       "\t12 & 2019-06-05 & 47.4 \\\\\n",
       "\t13 & 2019-05-03 & 51.7 \\\\\n",
       "\t14 & 2019-04-02 & 54.5 \\\\\n",
       "\t15 & 2019-03-05 & 53.7 \\\\\n",
       "\t16 & 2019-01-31 & 52.4 \\\\\n",
       "\t17 & 2019-01-01 & 57.5 \\\\\n",
       "\t18 & 2018-12-01 & 52.3 \\\\\n",
       "\t19 & 2018-11-03 & 55.5 \\\\\n",
       "\t20 & 2018-10-05 & 56.2 \\\\\n",
       "\t21 & 2018-09-04 & 58.4 \\\\\n",
       "\t22 & 2018-08-03 & 56.8 \\\\\n",
       "\t23 & 2018-07-03 & 58.8 \\\\\n",
       "\t24 & 2018-06-06 & 58.5 \\\\\n",
       "\t25 & 2018-05-03 & 56.5 \\\\\n",
       "\t26 & 2018-04-03 & 56.0 \\\\\n",
       "\t27 & 2018-03-03 & 56.3 \\\\\n",
       "\t28 & 2018-01-31 & 54.2 \\\\\n",
       "\t29 & 2018-01-02 & 57.3 \\\\\n",
       "\t30 & 2017-12-01 & 59.7 \\\\\n",
       "\t$\\dots$ & $\\dots$ & $\\dots$ \\\\\n",
       "\\end{tabular}\n"
      ],
      "text/plain": [
       "82×2 DataFrame\n",
       "│ Row │ Date       │ ActualValue │\n",
       "│     │ \u001b[90mDate\u001b[39m       │ \u001b[90mFloat64\u001b[39m     │\n",
       "├─────┼────────────┼─────────────┤\n",
       "│ 1   │ 2020-05-05 │ 44.3        │\n",
       "│ 2   │ 2020-04-02 │ 42.1        │\n",
       "│ 3   │ 2020-03-03 │ 32.1        │\n",
       "│ 4   │ 2020-02-01 │ 27.5        │\n",
       "│ 5   │ 2020-01-02 │ 43.8        │\n",
       "│ 6   │ 2019-12-03 │ 46.9        │\n",
       "│ 7   │ 2019-11-05 │ 46.6        │\n",
       "│ 8   │ 2019-10-05 │ 45.1        │\n",
       "│ 9   │ 2019-09-03 │ 46.6        │\n",
       "│ 10  │ 2019-08-03 │ 47.7        │\n",
       "⋮\n",
       "│ 72  │ 2014-06-04 │ 58.1        │\n",
       "│ 73  │ 2014-05-03 │ 58.2        │\n",
       "│ 74  │ 2014-04-02 │ 52.8        │\n",
       "│ 75  │ 2014-03-04 │ 52.8        │\n",
       "│ 76  │ 2014-01-31 │ 54.7        │\n",
       "│ 77  │ 2014-01-01 │ 51.1        │\n",
       "│ 78  │ 2013-12-03 │ 52.3        │\n",
       "│ 79  │ 2013-11-05 │ 52.3        │\n",
       "│ 80  │ 2013-10-04 │ 56.9        │\n",
       "│ 81  │ 2013-09-03 │ 56.5        │\n",
       "│ 82  │ 2013-08-03 │ 53.2        │"
      ]
     },
     "execution_count": 89,
     "metadata": {},
     "output_type": "execute_result"
    }
   ],
   "source": [
    "df3 = df_ISM_Mfc_Emp[:,1:2] # all rows, columns: Date and Actuals\n",
    "df3 = shift_dates_by_days!(df3, -90, 1)"
   ]
  },
  {
   "cell_type": "code",
   "execution_count": 75,
   "metadata": {},
   "outputs": [
    {
     "data": {
      "text/plain": [
       "82"
      ]
     },
     "execution_count": 75,
     "metadata": {},
     "output_type": "execute_result"
    }
   ],
   "source": []
  },
  {
   "cell_type": "code",
   "execution_count": 92,
   "metadata": {},
   "outputs": [
    {
     "name": "stdout",
     "output_type": "stream",
     "text": [
      "2015-09-23 to 2012-04-25\n"
     ]
    },
    {
     "data": {
      "image/svg+xml": [
       "<?xml version=\"1.0\" encoding=\"utf-8\"?>\n",
       "<svg xmlns=\"http://www.w3.org/2000/svg\" xmlns:xlink=\"http://www.w3.org/1999/xlink\" width=\"1750\" height=\"600\" viewBox=\"0 0 7000 2400\">\n",
       "<defs>\n",
       "  <clipPath id=\"clip6700\">\n",
       "    <rect x=\"0\" y=\"0\" width=\"7000\" height=\"2400\"/>\n",
       "  </clipPath>\n",
       "</defs>\n",
       "<path clip-path=\"url(#clip6700)\" d=\"\n",
       "M0 2400 L7000 2400 L7000 0 L0 0  Z\n",
       "  \" fill=\"#ffffff\" fill-rule=\"evenodd\" fill-opacity=\"1\"/>\n",
       "<defs>\n",
       "  <clipPath id=\"clip6701\">\n",
       "    <rect x=\"1400\" y=\"0\" width=\"4901\" height=\"2400\"/>\n",
       "  </clipPath>\n",
       "</defs>\n",
       "<path clip-path=\"url(#clip6700)\" d=\"\n",
       "M225.378 2255.05 L6952.76 2255.05 L6952.76 94.0961 L225.378 94.0961  Z\n",
       "  \" fill=\"#ffffff\" fill-rule=\"evenodd\" fill-opacity=\"1\"/>\n",
       "<defs>\n",
       "  <clipPath id=\"clip6702\">\n",
       "    <rect x=\"225\" y=\"94\" width=\"6728\" height=\"2162\"/>\n",
       "  </clipPath>\n",
       "</defs>\n",
       "<polyline clip-path=\"url(#clip6702)\" style=\"stroke:#000000; stroke-width:2; stroke-opacity:0.1; fill:none\" points=\"\n",
       "  1694.26,2255.05 1694.26,94.0961 \n",
       "  \"/>\n",
       "<polyline clip-path=\"url(#clip6702)\" style=\"stroke:#000000; stroke-width:2; stroke-opacity:0.1; fill:none\" points=\"\n",
       "  3553.41,2255.05 3553.41,94.0961 \n",
       "  \"/>\n",
       "<polyline clip-path=\"url(#clip6702)\" style=\"stroke:#000000; stroke-width:2; stroke-opacity:0.1; fill:none\" points=\"\n",
       "  5412.56,2255.05 5412.56,94.0961 \n",
       "  \"/>\n",
       "<polyline clip-path=\"url(#clip6702)\" style=\"stroke:#000000; stroke-width:2; stroke-opacity:0.1; fill:none\" points=\"\n",
       "  225.378,2038.5 6952.76,2038.5 \n",
       "  \"/>\n",
       "<polyline clip-path=\"url(#clip6702)\" style=\"stroke:#000000; stroke-width:2; stroke-opacity:0.1; fill:none\" points=\"\n",
       "  225.378,1416.97 6952.76,1416.97 \n",
       "  \"/>\n",
       "<polyline clip-path=\"url(#clip6702)\" style=\"stroke:#000000; stroke-width:2; stroke-opacity:0.1; fill:none\" points=\"\n",
       "  225.378,795.436 6952.76,795.436 \n",
       "  \"/>\n",
       "<polyline clip-path=\"url(#clip6702)\" style=\"stroke:#000000; stroke-width:2; stroke-opacity:0.1; fill:none\" points=\"\n",
       "  225.378,173.901 6952.76,173.901 \n",
       "  \"/>\n",
       "<polyline clip-path=\"url(#clip6700)\" style=\"stroke:#000000; stroke-width:4; stroke-opacity:1; fill:none\" points=\"\n",
       "  225.378,2255.05 6952.76,2255.05 \n",
       "  \"/>\n",
       "<polyline clip-path=\"url(#clip6700)\" style=\"stroke:#000000; stroke-width:4; stroke-opacity:1; fill:none\" points=\"\n",
       "  225.378,2255.05 225.378,94.0961 \n",
       "  \"/>\n",
       "<polyline clip-path=\"url(#clip6700)\" style=\"stroke:#000000; stroke-width:4; stroke-opacity:1; fill:none\" points=\"\n",
       "  1694.26,2255.05 1694.26,2229.12 \n",
       "  \"/>\n",
       "<polyline clip-path=\"url(#clip6700)\" style=\"stroke:#000000; stroke-width:4; stroke-opacity:1; fill:none\" points=\"\n",
       "  3553.41,2255.05 3553.41,2229.12 \n",
       "  \"/>\n",
       "<polyline clip-path=\"url(#clip6700)\" style=\"stroke:#000000; stroke-width:4; stroke-opacity:1; fill:none\" points=\"\n",
       "  5412.56,2255.05 5412.56,2229.12 \n",
       "  \"/>\n",
       "<polyline clip-path=\"url(#clip6700)\" style=\"stroke:#000000; stroke-width:4; stroke-opacity:1; fill:none\" points=\"\n",
       "  225.378,2038.5 306.106,2038.5 \n",
       "  \"/>\n",
       "<polyline clip-path=\"url(#clip6700)\" style=\"stroke:#000000; stroke-width:4; stroke-opacity:1; fill:none\" points=\"\n",
       "  225.378,1416.97 306.106,1416.97 \n",
       "  \"/>\n",
       "<polyline clip-path=\"url(#clip6700)\" style=\"stroke:#000000; stroke-width:4; stroke-opacity:1; fill:none\" points=\"\n",
       "  225.378,795.436 306.106,795.436 \n",
       "  \"/>\n",
       "<polyline clip-path=\"url(#clip6700)\" style=\"stroke:#000000; stroke-width:4; stroke-opacity:1; fill:none\" points=\"\n",
       "  225.378,173.901 306.106,173.901 \n",
       "  \"/>\n",
       "<path clip-path=\"url(#clip6700)\" d=\"M 0 0 M1581.74 2327.58 L1598.06 2327.58 L1598.06 2331.52 L1576.11 2331.52 L1576.11 2327.58 Q1578.77 2324.83 1583.36 2320.2 Q1587.96 2315.55 1589.15 2314.2 Q1591.39 2311.68 1592.27 2309.95 Q1593.17 2308.19 1593.17 2306.5 Q1593.17 2303.74 1591.23 2302.01 Q1589.31 2300.27 1586.21 2300.27 Q1584.01 2300.27 1581.55 2301.03 Q1579.12 2301.8 1576.34 2303.35 L1576.34 2298.63 Q1579.17 2297.49 1581.62 2296.91 Q1584.08 2296.33 1586.11 2296.33 Q1591.48 2296.33 1594.68 2299.02 Q1597.87 2301.7 1597.87 2306.2 Q1597.87 2308.32 1597.06 2310.25 Q1596.27 2312.14 1594.17 2314.74 Q1593.59 2315.41 1590.49 2318.63 Q1587.39 2321.82 1581.74 2327.58 Z\" fill=\"#000000\" fill-rule=\"evenodd\" fill-opacity=\"1\" /><path clip-path=\"url(#clip6700)\" d=\"M 0 0 M1613.13 2300.04 Q1609.52 2300.04 1607.69 2303.6 Q1605.88 2307.14 1605.88 2314.27 Q1605.88 2321.38 1607.69 2324.95 Q1609.52 2328.49 1613.13 2328.49 Q1616.76 2328.49 1618.57 2324.95 Q1620.39 2321.38 1620.39 2314.27 Q1620.39 2307.14 1618.57 2303.6 Q1616.76 2300.04 1613.13 2300.04 M1613.13 2296.33 Q1618.94 2296.33 1621.99 2300.94 Q1625.07 2305.52 1625.07 2314.27 Q1625.07 2323 1621.99 2327.61 Q1618.94 2332.19 1613.13 2332.19 Q1607.32 2332.19 1604.24 2327.61 Q1601.18 2323 1601.18 2314.27 Q1601.18 2305.52 1604.24 2300.94 Q1607.32 2296.33 1613.13 2296.33 Z\" fill=\"#000000\" fill-rule=\"evenodd\" fill-opacity=\"1\" /><path clip-path=\"url(#clip6700)\" d=\"M 0 0 M1630.95 2327.58 L1638.59 2327.58 L1638.59 2301.22 L1630.28 2302.89 L1630.28 2298.63 L1638.54 2296.96 L1643.22 2296.96 L1643.22 2327.58 L1650.86 2327.58 L1650.86 2331.52 L1630.95 2331.52 L1630.95 2327.58 Z\" fill=\"#000000\" fill-rule=\"evenodd\" fill-opacity=\"1\" /><path clip-path=\"url(#clip6700)\" d=\"M 0 0 M1670.09 2312.89 Q1673.45 2313.6 1675.33 2315.87 Q1677.22 2318.14 1677.22 2321.47 Q1677.22 2326.59 1673.7 2329.39 Q1670.19 2332.19 1663.7 2332.19 Q1661.53 2332.19 1659.21 2331.75 Q1656.92 2331.33 1654.47 2330.48 L1654.47 2325.96 Q1656.41 2327.1 1658.73 2327.68 Q1661.04 2328.26 1663.57 2328.26 Q1667.96 2328.26 1670.26 2326.52 Q1672.57 2324.78 1672.57 2321.47 Q1672.57 2318.42 1670.42 2316.7 Q1668.29 2314.97 1664.47 2314.97 L1660.44 2314.97 L1660.44 2311.13 L1664.65 2311.13 Q1668.1 2311.13 1669.93 2309.76 Q1671.76 2308.37 1671.76 2305.78 Q1671.76 2303.12 1669.86 2301.7 Q1667.99 2300.27 1664.47 2300.27 Q1662.55 2300.27 1660.35 2300.69 Q1658.15 2301.1 1655.51 2301.98 L1655.51 2297.82 Q1658.17 2297.08 1660.49 2296.7 Q1662.83 2296.33 1664.89 2296.33 Q1670.21 2296.33 1673.31 2298.76 Q1676.41 2301.17 1676.41 2305.29 Q1676.41 2308.16 1674.77 2310.15 Q1673.13 2312.12 1670.09 2312.89 Z\" fill=\"#000000\" fill-rule=\"evenodd\" fill-opacity=\"1\" /><path clip-path=\"url(#clip6700)\" d=\"M 0 0 M1679.54 2316.64 L1692.01 2316.64 L1692.01 2320.43 L1679.54 2320.43 L1679.54 2316.64 Z\" fill=\"#000000\" fill-rule=\"evenodd\" fill-opacity=\"1\" /><path clip-path=\"url(#clip6700)\" d=\"M 0 0 M1707.08 2300.04 Q1703.47 2300.04 1701.64 2303.6 Q1699.84 2307.14 1699.84 2314.27 Q1699.84 2321.38 1701.64 2324.95 Q1703.47 2328.49 1707.08 2328.49 Q1710.72 2328.49 1712.52 2324.95 Q1714.35 2321.38 1714.35 2314.27 Q1714.35 2307.14 1712.52 2303.6 Q1710.72 2300.04 1707.08 2300.04 M1707.08 2296.33 Q1712.89 2296.33 1715.95 2300.94 Q1719.03 2305.52 1719.03 2314.27 Q1719.03 2323 1715.95 2327.61 Q1712.89 2332.19 1707.08 2332.19 Q1701.27 2332.19 1698.2 2327.61 Q1695.14 2323 1695.14 2314.27 Q1695.14 2305.52 1698.2 2300.94 Q1701.27 2296.33 1707.08 2296.33 Z\" fill=\"#000000\" fill-rule=\"evenodd\" fill-opacity=\"1\" /><path clip-path=\"url(#clip6700)\" d=\"M 0 0 M1724.91 2327.58 L1732.55 2327.58 L1732.55 2301.22 L1724.24 2302.89 L1724.24 2298.63 L1732.5 2296.96 L1737.18 2296.96 L1737.18 2327.58 L1744.82 2327.58 L1744.82 2331.52 L1724.91 2331.52 L1724.91 2327.58 Z\" fill=\"#000000\" fill-rule=\"evenodd\" fill-opacity=\"1\" /><path clip-path=\"url(#clip6700)\" d=\"M 0 0 M1747.13 2316.64 L1759.61 2316.64 L1759.61 2320.43 L1747.13 2320.43 L1747.13 2316.64 Z\" fill=\"#000000\" fill-rule=\"evenodd\" fill-opacity=\"1\" /><path clip-path=\"url(#clip6700)\" d=\"M 0 0 M1774.68 2300.04 Q1771.07 2300.04 1769.24 2303.6 Q1767.43 2307.14 1767.43 2314.27 Q1767.43 2321.38 1769.24 2324.95 Q1771.07 2328.49 1774.68 2328.49 Q1778.31 2328.49 1780.12 2324.95 Q1781.95 2321.38 1781.95 2314.27 Q1781.95 2307.14 1780.12 2303.6 Q1778.31 2300.04 1774.68 2300.04 M1774.68 2296.33 Q1780.49 2296.33 1783.54 2300.94 Q1786.62 2305.52 1786.62 2314.27 Q1786.62 2323 1783.54 2327.61 Q1780.49 2332.19 1774.68 2332.19 Q1768.87 2332.19 1765.79 2327.61 Q1762.73 2323 1762.73 2314.27 Q1762.73 2305.52 1765.79 2300.94 Q1768.87 2296.33 1774.68 2296.33 Z\" fill=\"#000000\" fill-rule=\"evenodd\" fill-opacity=\"1\" /><path clip-path=\"url(#clip6700)\" d=\"M 0 0 M1792.5 2327.58 L1800.14 2327.58 L1800.14 2301.22 L1791.83 2302.89 L1791.83 2298.63 L1800.09 2296.96 L1804.77 2296.96 L1804.77 2327.58 L1812.41 2327.58 L1812.41 2331.52 L1792.5 2331.52 L1792.5 2327.58 Z\" fill=\"#000000\" fill-rule=\"evenodd\" fill-opacity=\"1\" /><path clip-path=\"url(#clip6700)\" d=\"M 0 0 M3440.32 2327.58 L3456.64 2327.58 L3456.64 2331.52 L3434.7 2331.52 L3434.7 2327.58 Q3437.36 2324.83 3441.94 2320.2 Q3446.55 2315.55 3447.73 2314.2 Q3449.97 2311.68 3450.85 2309.95 Q3451.76 2308.19 3451.76 2306.5 Q3451.76 2303.74 3449.81 2302.01 Q3447.89 2300.27 3444.79 2300.27 Q3442.59 2300.27 3440.14 2301.03 Q3437.71 2301.8 3434.93 2303.35 L3434.93 2298.63 Q3437.75 2297.49 3440.21 2296.91 Q3442.66 2296.33 3444.7 2296.33 Q3450.07 2296.33 3453.26 2299.02 Q3456.46 2301.7 3456.46 2306.2 Q3456.46 2308.32 3455.65 2310.25 Q3454.86 2312.14 3452.75 2314.74 Q3452.17 2315.41 3449.07 2318.63 Q3445.97 2321.82 3440.32 2327.58 Z\" fill=\"#000000\" fill-rule=\"evenodd\" fill-opacity=\"1\" /><path clip-path=\"url(#clip6700)\" d=\"M 0 0 M3471.71 2300.04 Q3468.1 2300.04 3466.27 2303.6 Q3464.47 2307.14 3464.47 2314.27 Q3464.47 2321.38 3466.27 2324.95 Q3468.1 2328.49 3471.71 2328.49 Q3475.35 2328.49 3477.15 2324.95 Q3478.98 2321.38 3478.98 2314.27 Q3478.98 2307.14 3477.15 2303.6 Q3475.35 2300.04 3471.71 2300.04 M3471.71 2296.33 Q3477.52 2296.33 3480.58 2300.94 Q3483.66 2305.52 3483.66 2314.27 Q3483.66 2323 3480.58 2327.61 Q3477.52 2332.19 3471.71 2332.19 Q3465.9 2332.19 3462.82 2327.61 Q3459.77 2323 3459.77 2314.27 Q3459.77 2305.52 3462.82 2300.94 Q3465.9 2296.33 3471.71 2296.33 Z\" fill=\"#000000\" fill-rule=\"evenodd\" fill-opacity=\"1\" /><path clip-path=\"url(#clip6700)\" d=\"M 0 0 M3489.53 2327.58 L3497.17 2327.58 L3497.17 2301.22 L3488.86 2302.89 L3488.86 2298.63 L3497.13 2296.96 L3501.8 2296.96 L3501.8 2327.58 L3509.44 2327.58 L3509.44 2331.52 L3489.53 2331.52 L3489.53 2327.58 Z\" fill=\"#000000\" fill-rule=\"evenodd\" fill-opacity=\"1\" /><path clip-path=\"url(#clip6700)\" d=\"M 0 0 M3527.36 2301.03 L3515.55 2319.48 L3527.36 2319.48 L3527.36 2301.03 M3526.13 2296.96 L3532.01 2296.96 L3532.01 2319.48 L3536.94 2319.48 L3536.94 2323.37 L3532.01 2323.37 L3532.01 2331.52 L3527.36 2331.52 L3527.36 2323.37 L3511.76 2323.37 L3511.76 2318.86 L3526.13 2296.96 Z\" fill=\"#000000\" fill-rule=\"evenodd\" fill-opacity=\"1\" /><path clip-path=\"url(#clip6700)\" d=\"M 0 0 M3539.26 2316.64 L3551.73 2316.64 L3551.73 2320.43 L3539.26 2320.43 L3539.26 2316.64 Z\" fill=\"#000000\" fill-rule=\"evenodd\" fill-opacity=\"1\" /><path clip-path=\"url(#clip6700)\" d=\"M 0 0 M3566.8 2300.04 Q3563.19 2300.04 3561.36 2303.6 Q3559.56 2307.14 3559.56 2314.27 Q3559.56 2321.38 3561.36 2324.95 Q3563.19 2328.49 3566.8 2328.49 Q3570.44 2328.49 3572.24 2324.95 Q3574.07 2321.38 3574.07 2314.27 Q3574.07 2307.14 3572.24 2303.6 Q3570.44 2300.04 3566.8 2300.04 M3566.8 2296.33 Q3572.61 2296.33 3575.67 2300.94 Q3578.75 2305.52 3578.75 2314.27 Q3578.75 2323 3575.67 2327.61 Q3572.61 2332.19 3566.8 2332.19 Q3560.99 2332.19 3557.91 2327.61 Q3554.86 2323 3554.86 2314.27 Q3554.86 2305.52 3557.91 2300.94 Q3560.99 2296.33 3566.8 2296.33 Z\" fill=\"#000000\" fill-rule=\"evenodd\" fill-opacity=\"1\" /><path clip-path=\"url(#clip6700)\" d=\"M 0 0 M3584.63 2327.58 L3592.27 2327.58 L3592.27 2301.22 L3583.96 2302.89 L3583.96 2298.63 L3592.22 2296.96 L3596.9 2296.96 L3596.9 2327.58 L3604.53 2327.58 L3604.53 2331.52 L3584.63 2331.52 L3584.63 2327.58 Z\" fill=\"#000000\" fill-rule=\"evenodd\" fill-opacity=\"1\" /><path clip-path=\"url(#clip6700)\" d=\"M 0 0 M3606.85 2316.64 L3619.33 2316.64 L3619.33 2320.43 L3606.85 2320.43 L3606.85 2316.64 Z\" fill=\"#000000\" fill-rule=\"evenodd\" fill-opacity=\"1\" /><path clip-path=\"url(#clip6700)\" d=\"M 0 0 M3634.4 2300.04 Q3630.78 2300.04 3628.96 2303.6 Q3627.15 2307.14 3627.15 2314.27 Q3627.15 2321.38 3628.96 2324.95 Q3630.78 2328.49 3634.4 2328.49 Q3638.03 2328.49 3639.84 2324.95 Q3641.66 2321.38 3641.66 2314.27 Q3641.66 2307.14 3639.84 2303.6 Q3638.03 2300.04 3634.4 2300.04 M3634.4 2296.33 Q3640.21 2296.33 3643.26 2300.94 Q3646.34 2305.52 3646.34 2314.27 Q3646.34 2323 3643.26 2327.61 Q3640.21 2332.19 3634.4 2332.19 Q3628.59 2332.19 3625.51 2327.61 Q3622.45 2323 3622.45 2314.27 Q3622.45 2305.52 3625.51 2300.94 Q3628.59 2296.33 3634.4 2296.33 Z\" fill=\"#000000\" fill-rule=\"evenodd\" fill-opacity=\"1\" /><path clip-path=\"url(#clip6700)\" d=\"M 0 0 M3652.22 2327.58 L3659.86 2327.58 L3659.86 2301.22 L3651.55 2302.89 L3651.55 2298.63 L3659.81 2296.96 L3664.49 2296.96 L3664.49 2327.58 L3672.13 2327.58 L3672.13 2331.52 L3652.22 2331.52 L3652.22 2327.58 Z\" fill=\"#000000\" fill-rule=\"evenodd\" fill-opacity=\"1\" /><path clip-path=\"url(#clip6700)\" d=\"M 0 0 M5300.21 2327.58 L5316.53 2327.58 L5316.53 2331.52 L5294.59 2331.52 L5294.59 2327.58 Q5297.25 2324.83 5301.83 2320.2 Q5306.44 2315.55 5307.62 2314.2 Q5309.87 2311.68 5310.75 2309.95 Q5311.65 2308.19 5311.65 2306.5 Q5311.65 2303.74 5309.71 2302.01 Q5307.78 2300.27 5304.68 2300.27 Q5302.48 2300.27 5300.03 2301.03 Q5297.6 2301.8 5294.82 2303.35 L5294.82 2298.63 Q5297.65 2297.49 5300.1 2296.91 Q5302.55 2296.33 5304.59 2296.33 Q5309.96 2296.33 5313.15 2299.02 Q5316.35 2301.7 5316.35 2306.2 Q5316.35 2308.32 5315.54 2310.25 Q5314.75 2312.14 5312.65 2314.74 Q5312.07 2315.41 5308.96 2318.63 Q5305.86 2321.82 5300.21 2327.58 Z\" fill=\"#000000\" fill-rule=\"evenodd\" fill-opacity=\"1\" /><path clip-path=\"url(#clip6700)\" d=\"M 0 0 M5331.6 2300.04 Q5327.99 2300.04 5326.16 2303.6 Q5324.36 2307.14 5324.36 2314.27 Q5324.36 2321.38 5326.16 2324.95 Q5327.99 2328.49 5331.6 2328.49 Q5335.24 2328.49 5337.04 2324.95 Q5338.87 2321.38 5338.87 2314.27 Q5338.87 2307.14 5337.04 2303.6 Q5335.24 2300.04 5331.6 2300.04 M5331.6 2296.33 Q5337.41 2296.33 5340.47 2300.94 Q5343.55 2305.52 5343.55 2314.27 Q5343.55 2323 5340.47 2327.61 Q5337.41 2332.19 5331.6 2332.19 Q5325.79 2332.19 5322.71 2327.61 Q5319.66 2323 5319.66 2314.27 Q5319.66 2305.52 5322.71 2300.94 Q5325.79 2296.33 5331.6 2296.33 Z\" fill=\"#000000\" fill-rule=\"evenodd\" fill-opacity=\"1\" /><path clip-path=\"url(#clip6700)\" d=\"M 0 0 M5349.43 2327.58 L5357.07 2327.58 L5357.07 2301.22 L5348.76 2302.89 L5348.76 2298.63 L5357.02 2296.96 L5361.7 2296.96 L5361.7 2327.58 L5369.33 2327.58 L5369.33 2331.52 L5349.43 2331.52 L5349.43 2327.58 Z\" fill=\"#000000\" fill-rule=\"evenodd\" fill-opacity=\"1\" /><path clip-path=\"url(#clip6700)\" d=\"M 0 0 M5374.45 2296.96 L5392.81 2296.96 L5392.81 2300.89 L5378.73 2300.89 L5378.73 2309.37 Q5379.75 2309.02 5380.77 2308.86 Q5381.79 2308.67 5382.81 2308.67 Q5388.59 2308.67 5391.97 2311.84 Q5395.35 2315.01 5395.35 2320.43 Q5395.35 2326.01 5391.88 2329.11 Q5388.41 2332.19 5382.09 2332.19 Q5379.91 2332.19 5377.64 2331.82 Q5375.4 2331.45 5372.99 2330.71 L5372.99 2326.01 Q5375.08 2327.14 5377.3 2327.7 Q5379.52 2328.26 5382 2328.26 Q5386 2328.26 5388.34 2326.15 Q5390.68 2324.04 5390.68 2320.43 Q5390.68 2316.82 5388.34 2314.71 Q5386 2312.61 5382 2312.61 Q5380.12 2312.61 5378.25 2313.02 Q5376.39 2313.44 5374.45 2314.32 L5374.45 2296.96 Z\" fill=\"#000000\" fill-rule=\"evenodd\" fill-opacity=\"1\" /><path clip-path=\"url(#clip6700)\" d=\"M 0 0 M5397.67 2316.64 L5410.14 2316.64 L5410.14 2320.43 L5397.67 2320.43 L5397.67 2316.64 Z\" fill=\"#000000\" fill-rule=\"evenodd\" fill-opacity=\"1\" /><path clip-path=\"url(#clip6700)\" d=\"M 0 0 M5425.21 2300.04 Q5421.6 2300.04 5419.77 2303.6 Q5417.97 2307.14 5417.97 2314.27 Q5417.97 2321.38 5419.77 2324.95 Q5421.6 2328.49 5425.21 2328.49 Q5428.85 2328.49 5430.65 2324.95 Q5432.48 2321.38 5432.48 2314.27 Q5432.48 2307.14 5430.65 2303.6 Q5428.85 2300.04 5425.21 2300.04 M5425.21 2296.33 Q5431.02 2296.33 5434.08 2300.94 Q5437.16 2305.52 5437.16 2314.27 Q5437.16 2323 5434.08 2327.61 Q5431.02 2332.19 5425.21 2332.19 Q5419.4 2332.19 5416.33 2327.61 Q5413.27 2323 5413.27 2314.27 Q5413.27 2305.52 5416.33 2300.94 Q5419.4 2296.33 5425.21 2296.33 Z\" fill=\"#000000\" fill-rule=\"evenodd\" fill-opacity=\"1\" /><path clip-path=\"url(#clip6700)\" d=\"M 0 0 M5443.04 2327.58 L5450.68 2327.58 L5450.68 2301.22 L5442.37 2302.89 L5442.37 2298.63 L5450.63 2296.96 L5455.31 2296.96 L5455.31 2327.58 L5462.95 2327.58 L5462.95 2331.52 L5443.04 2331.52 L5443.04 2327.58 Z\" fill=\"#000000\" fill-rule=\"evenodd\" fill-opacity=\"1\" /><path clip-path=\"url(#clip6700)\" d=\"M 0 0 M5465.26 2316.64 L5477.74 2316.64 L5477.74 2320.43 L5465.26 2320.43 L5465.26 2316.64 Z\" fill=\"#000000\" fill-rule=\"evenodd\" fill-opacity=\"1\" /><path clip-path=\"url(#clip6700)\" d=\"M 0 0 M5492.81 2300.04 Q5489.19 2300.04 5487.37 2303.6 Q5485.56 2307.14 5485.56 2314.27 Q5485.56 2321.38 5487.37 2324.95 Q5489.19 2328.49 5492.81 2328.49 Q5496.44 2328.49 5498.25 2324.95 Q5500.07 2321.38 5500.07 2314.27 Q5500.07 2307.14 5498.25 2303.6 Q5496.44 2300.04 5492.81 2300.04 M5492.81 2296.33 Q5498.62 2296.33 5501.67 2300.94 Q5504.75 2305.52 5504.75 2314.27 Q5504.75 2323 5501.67 2327.61 Q5498.62 2332.19 5492.81 2332.19 Q5487 2332.19 5483.92 2327.61 Q5480.86 2323 5480.86 2314.27 Q5480.86 2305.52 5483.92 2300.94 Q5487 2296.33 5492.81 2296.33 Z\" fill=\"#000000\" fill-rule=\"evenodd\" fill-opacity=\"1\" /><path clip-path=\"url(#clip6700)\" d=\"M 0 0 M5510.63 2327.58 L5518.27 2327.58 L5518.27 2301.22 L5509.96 2302.89 L5509.96 2298.63 L5518.22 2296.96 L5522.9 2296.96 L5522.9 2327.58 L5530.54 2327.58 L5530.54 2331.52 L5510.63 2331.52 L5510.63 2327.58 Z\" fill=\"#000000\" fill-rule=\"evenodd\" fill-opacity=\"1\" /><path clip-path=\"url(#clip6700)\" d=\"M 0 0 M121.234 2037.15 Q124.591 2037.87 126.466 2040.14 Q128.364 2042.41 128.364 2045.74 Q128.364 2050.85 124.846 2053.66 Q121.327 2056.46 114.846 2056.46 Q112.67 2056.46 110.355 2056.02 Q108.063 2055.6 105.61 2054.74 L105.61 2050.23 Q107.554 2051.36 109.869 2051.94 Q112.184 2052.52 114.707 2052.52 Q119.105 2052.52 121.397 2050.78 Q123.711 2049.05 123.711 2045.74 Q123.711 2042.68 121.559 2040.97 Q119.429 2039.23 115.61 2039.23 L111.582 2039.23 L111.582 2035.39 L115.795 2035.39 Q119.244 2035.39 121.072 2034.03 Q122.901 2032.64 122.901 2030.04 Q122.901 2027.38 121.003 2025.97 Q119.128 2024.53 115.61 2024.53 Q113.688 2024.53 111.489 2024.95 Q109.29 2025.37 106.651 2026.25 L106.651 2022.08 Q109.313 2021.34 111.628 2020.97 Q113.966 2020.6 116.026 2020.6 Q121.35 2020.6 124.452 2023.03 Q127.554 2025.44 127.554 2029.56 Q127.554 2032.43 125.91 2034.42 Q124.267 2036.39 121.234 2037.15 Z\" fill=\"#000000\" fill-rule=\"evenodd\" fill-opacity=\"1\" /><path clip-path=\"url(#clip6700)\" d=\"M 0 0 M143.433 2024.3 Q139.822 2024.3 137.994 2027.87 Q136.188 2031.41 136.188 2038.54 Q136.188 2045.65 137.994 2049.21 Q139.822 2052.75 143.433 2052.75 Q147.068 2052.75 148.873 2049.21 Q150.702 2045.65 150.702 2038.54 Q150.702 2031.41 148.873 2027.87 Q147.068 2024.3 143.433 2024.3 M143.433 2020.6 Q149.244 2020.6 152.299 2025.21 Q155.378 2029.79 155.378 2038.54 Q155.378 2047.27 152.299 2051.87 Q149.244 2056.46 143.433 2056.46 Q137.623 2056.46 134.545 2051.87 Q131.489 2047.27 131.489 2038.54 Q131.489 2029.79 134.545 2025.21 Q137.623 2020.6 143.433 2020.6 Z\" fill=\"#000000\" fill-rule=\"evenodd\" fill-opacity=\"1\" /><path clip-path=\"url(#clip6700)\" d=\"M 0 0 M118.781 1403.76 L106.975 1422.21 L118.781 1422.21 L118.781 1403.76 M117.554 1399.69 L123.434 1399.69 L123.434 1422.21 L128.364 1422.21 L128.364 1426.1 L123.434 1426.1 L123.434 1434.25 L118.781 1434.25 L118.781 1426.1 L103.179 1426.1 L103.179 1421.59 L117.554 1399.69 Z\" fill=\"#000000\" fill-rule=\"evenodd\" fill-opacity=\"1\" /><path clip-path=\"url(#clip6700)\" d=\"M 0 0 M143.433 1402.77 Q139.822 1402.77 137.994 1406.33 Q136.188 1409.88 136.188 1417 Q136.188 1424.11 137.994 1427.68 Q139.822 1431.22 143.433 1431.22 Q147.068 1431.22 148.873 1427.68 Q150.702 1424.11 150.702 1417 Q150.702 1409.88 148.873 1406.33 Q147.068 1402.77 143.433 1402.77 M143.433 1399.07 Q149.244 1399.07 152.299 1403.67 Q155.378 1408.25 155.378 1417 Q155.378 1425.73 152.299 1430.34 Q149.244 1434.92 143.433 1434.92 Q137.623 1434.92 134.545 1430.34 Q131.489 1425.73 131.489 1417 Q131.489 1408.25 134.545 1403.67 Q137.623 1399.07 143.433 1399.07 Z\" fill=\"#000000\" fill-rule=\"evenodd\" fill-opacity=\"1\" /><path clip-path=\"url(#clip6700)\" d=\"M 0 0 M107.461 778.156 L125.818 778.156 L125.818 782.091 L111.744 782.091 L111.744 790.563 Q112.762 790.216 113.781 790.054 Q114.799 789.869 115.818 789.869 Q121.605 789.869 124.984 793.04 Q128.364 796.211 128.364 801.628 Q128.364 807.206 124.892 810.308 Q121.42 813.387 115.1 813.387 Q112.924 813.387 110.656 813.017 Q108.41 812.646 106.003 811.905 L106.003 807.206 Q108.086 808.341 110.309 808.896 Q112.531 809.452 115.008 809.452 Q119.012 809.452 121.35 807.345 Q123.688 805.239 123.688 801.628 Q123.688 798.017 121.35 795.91 Q119.012 793.804 115.008 793.804 Q113.133 793.804 111.258 794.22 Q109.406 794.637 107.461 795.517 L107.461 778.156 Z\" fill=\"#000000\" fill-rule=\"evenodd\" fill-opacity=\"1\" /><path clip-path=\"url(#clip6700)\" d=\"M 0 0 M143.433 781.234 Q139.822 781.234 137.994 784.799 Q136.188 788.341 136.188 795.47 Q136.188 802.577 137.994 806.142 Q139.822 809.683 143.433 809.683 Q147.068 809.683 148.873 806.142 Q150.702 802.577 150.702 795.47 Q150.702 788.341 148.873 784.799 Q147.068 781.234 143.433 781.234 M143.433 777.531 Q149.244 777.531 152.299 782.137 Q155.378 786.72 155.378 795.47 Q155.378 804.197 152.299 808.804 Q149.244 813.387 143.433 813.387 Q137.623 813.387 134.545 808.804 Q131.489 804.197 131.489 795.47 Q131.489 786.72 134.545 782.137 Q137.623 777.531 143.433 777.531 Z\" fill=\"#000000\" fill-rule=\"evenodd\" fill-opacity=\"1\" /><path clip-path=\"url(#clip6700)\" d=\"M 0 0 M116.836 172.038 Q113.688 172.038 111.836 174.191 Q110.008 176.343 110.008 180.093 Q110.008 183.82 111.836 185.996 Q113.688 188.149 116.836 188.149 Q119.984 188.149 121.813 185.996 Q123.665 183.82 123.665 180.093 Q123.665 176.343 121.813 174.191 Q119.984 172.038 116.836 172.038 M126.119 157.385 L126.119 161.644 Q124.359 160.811 122.554 160.371 Q120.772 159.931 119.012 159.931 Q114.383 159.931 111.929 163.056 Q109.498 166.181 109.151 172.501 Q110.517 170.487 112.577 169.422 Q114.637 168.334 117.114 168.334 Q122.322 168.334 125.332 171.505 Q128.364 174.653 128.364 180.093 Q128.364 185.417 125.216 188.635 Q122.068 191.852 116.836 191.852 Q110.841 191.852 107.67 187.269 Q104.498 182.663 104.498 173.936 Q104.498 165.741 108.387 160.88 Q112.276 155.996 118.827 155.996 Q120.586 155.996 122.369 156.343 Q124.174 156.691 126.119 157.385 Z\" fill=\"#000000\" fill-rule=\"evenodd\" fill-opacity=\"1\" /><path clip-path=\"url(#clip6700)\" d=\"M 0 0 M143.433 159.7 Q139.822 159.7 137.994 163.265 Q136.188 166.806 136.188 173.936 Q136.188 181.042 137.994 184.607 Q139.822 188.149 143.433 188.149 Q147.068 188.149 148.873 184.607 Q150.702 181.042 150.702 173.936 Q150.702 166.806 148.873 163.265 Q147.068 159.7 143.433 159.7 M143.433 155.996 Q149.244 155.996 152.299 160.603 Q155.378 165.186 155.378 173.936 Q155.378 182.663 152.299 187.269 Q149.244 191.852 143.433 191.852 Q137.623 191.852 134.545 187.269 Q131.489 182.663 131.489 173.936 Q131.489 165.186 134.545 160.603 Q137.623 155.996 143.433 155.996 Z\" fill=\"#000000\" fill-rule=\"evenodd\" fill-opacity=\"1\" /><path clip-path=\"url(#clip6700)\" d=\"M 0 0 M3252.25 12.096 L3260.44 12.096 L3260.44 72.576 L3252.25 72.576 L3252.25 12.096 Z\" fill=\"#000000\" fill-rule=\"evenodd\" fill-opacity=\"1\" /><path clip-path=\"url(#clip6700)\" d=\"M 0 0 M3304.84 14.0809 L3304.84 22.0612 Q3300.18 19.8332 3296.04 18.7395 Q3291.91 17.6457 3288.06 17.6457 Q3281.38 17.6457 3277.73 20.2383 Q3274.13 22.8309 3274.13 27.611 Q3274.13 31.6214 3276.52 33.6873 Q3278.95 35.7128 3285.67 36.9686 L3290.62 37.9813 Q3299.77 39.7232 3304.11 44.1387 Q3308.48 48.5136 3308.48 55.8863 Q3308.48 64.6767 3302.57 69.2137 Q3296.69 73.7508 3285.31 73.7508 Q3281.02 73.7508 3276.15 72.7785 Q3271.33 71.8063 3266.15 69.9024 L3266.15 61.4765 Q3271.13 64.2716 3275.91 65.6895 Q3280.69 67.1073 3285.31 67.1073 Q3292.32 67.1073 3296.13 64.3527 Q3299.93 61.598 3299.93 56.4939 Q3299.93 52.0379 3297.18 49.5264 Q3294.46 47.0148 3288.23 45.759 L3283.24 44.7868 Q3274.09 42.9639 3270 39.075 Q3265.91 35.1862 3265.91 28.2591 Q3265.91 20.2383 3271.54 15.6203 Q3277.21 11.0023 3287.13 11.0023 Q3291.39 11.0023 3295.8 11.7719 Q3300.22 12.5416 3304.84 14.0809 Z\" fill=\"#000000\" fill-rule=\"evenodd\" fill-opacity=\"1\" /><path clip-path=\"url(#clip6700)\" d=\"M 0 0 M3316.62 12.096 L3328.82 12.096 L3344.25 53.2532 L3359.77 12.096 L3371.96 12.096 L3371.96 72.576 L3363.98 72.576 L3363.98 19.4686 L3348.38 60.9499 L3340.16 60.9499 L3324.56 19.4686 L3324.56 72.576 L3316.62 72.576 L3316.62 12.096 Z\" fill=\"#000000\" fill-rule=\"evenodd\" fill-opacity=\"1\" /><path clip-path=\"url(#clip6700)\" d=\"M 0 0 M3406.47 12.096 L3418.67 12.096 L3434.1 53.2532 L3449.61 12.096 L3461.81 12.096 L3461.81 72.576 L3453.83 72.576 L3453.83 19.4686 L3438.23 60.9499 L3430.01 60.9499 L3414.41 19.4686 L3414.41 72.576 L3406.47 72.576 L3406.47 12.096 Z\" fill=\"#000000\" fill-rule=\"evenodd\" fill-opacity=\"1\" /><path clip-path=\"url(#clip6700)\" d=\"M 0 0 M3490.25 49.7694 Q3481.21 49.7694 3477.73 51.8354 Q3474.24 53.9013 3474.24 58.8839 Q3474.24 62.8538 3476.84 65.2034 Q3479.47 67.5124 3483.97 67.5124 Q3490.16 67.5124 3493.89 63.1374 Q3497.66 58.7219 3497.66 51.4303 L3497.66 49.7694 L3490.25 49.7694 M3505.11 46.6907 L3505.11 72.576 L3497.66 72.576 L3497.66 65.6895 Q3495.11 69.8214 3491.3 71.8063 Q3487.49 73.7508 3481.98 73.7508 Q3475.01 73.7508 3470.88 69.8619 Q3466.79 65.9325 3466.79 59.3701 Q3466.79 51.7138 3471.89 47.825 Q3477.04 43.9361 3487.21 43.9361 L3497.66 43.9361 L3497.66 43.2069 Q3497.66 38.0623 3494.26 35.2672 Q3490.89 32.4315 3484.78 32.4315 Q3480.89 32.4315 3477.2 33.3632 Q3473.51 34.295 3470.11 36.1584 L3470.11 29.2718 Q3474.2 27.692 3478.05 26.9223 Q3481.9 26.1121 3485.55 26.1121 Q3495.39 26.1121 3500.25 31.2163 Q3505.11 36.3204 3505.11 46.6907 Z\" fill=\"#000000\" fill-rule=\"evenodd\" fill-opacity=\"1\" /><path clip-path=\"url(#clip6700)\" d=\"M 0 0 M3550.64 45.1919 L3550.64 72.576 L3543.19 72.576 L3543.19 45.4349 Q3543.19 38.994 3540.68 35.7938 Q3538.17 32.5936 3533.14 32.5936 Q3527.11 32.5936 3523.62 36.4419 Q3520.14 40.2903 3520.14 46.9338 L3520.14 72.576 L3512.65 72.576 L3512.65 27.2059 L3520.14 27.2059 L3520.14 34.2544 Q3522.81 30.163 3526.42 28.1376 Q3530.07 26.1121 3534.8 26.1121 Q3542.62 26.1121 3546.63 30.9732 Q3550.64 35.7938 3550.64 45.1919 Z\" fill=\"#000000\" fill-rule=\"evenodd\" fill-opacity=\"1\" /><path clip-path=\"url(#clip6700)\" d=\"M 0 0 M3557.69 54.671 L3557.69 27.2059 L3565.15 27.2059 L3565.15 54.3874 Q3565.15 60.8284 3567.66 64.0691 Q3570.17 67.2693 3575.19 67.2693 Q3581.23 67.2693 3584.71 63.421 Q3588.24 59.5726 3588.24 52.9291 L3588.24 27.2059 L3595.69 27.2059 L3595.69 72.576 L3588.24 72.576 L3588.24 65.6084 Q3585.52 69.7404 3581.92 71.7658 Q3578.35 73.7508 3573.61 73.7508 Q3565.79 73.7508 3561.74 68.8897 Q3557.69 64.0286 3557.69 54.671 M3576.45 26.1121 L3576.45 26.1121 Z\" fill=\"#000000\" fill-rule=\"evenodd\" fill-opacity=\"1\" /><path clip-path=\"url(#clip6700)\" d=\"M 0 0 M3626.48 9.54393 L3626.48 15.7418 L3619.35 15.7418 Q3615.34 15.7418 3613.76 17.3622 Q3612.22 18.9825 3612.22 23.1955 L3612.22 27.2059 L3624.49 27.2059 L3624.49 32.9987 L3612.22 32.9987 L3612.22 72.576 L3604.72 72.576 L3604.72 32.9987 L3597.59 32.9987 L3597.59 27.2059 L3604.72 27.2059 L3604.72 24.0462 Q3604.72 16.471 3608.25 13.0277 Q3611.77 9.54393 3619.43 9.54393 L3626.48 9.54393 Z\" fill=\"#000000\" fill-rule=\"evenodd\" fill-opacity=\"1\" /><path clip-path=\"url(#clip6700)\" d=\"M 0 0 M3654.91 49.7694 Q3645.88 49.7694 3642.4 51.8354 Q3638.91 53.9013 3638.91 58.8839 Q3638.91 62.8538 3641.51 65.2034 Q3644.14 67.5124 3648.64 67.5124 Q3654.83 67.5124 3658.56 63.1374 Q3662.33 58.7219 3662.33 51.4303 L3662.33 49.7694 L3654.91 49.7694 M3669.78 46.6907 L3669.78 72.576 L3662.33 72.576 L3662.33 65.6895 Q3659.78 69.8214 3655.97 71.8063 Q3652.16 73.7508 3646.65 73.7508 Q3639.68 73.7508 3635.55 69.8619 Q3631.46 65.9325 3631.46 59.3701 Q3631.46 51.7138 3636.56 47.825 Q3641.71 43.9361 3651.88 43.9361 L3662.33 43.9361 L3662.33 43.2069 Q3662.33 38.0623 3658.92 35.2672 Q3655.56 32.4315 3649.45 32.4315 Q3645.56 32.4315 3641.87 33.3632 Q3638.18 34.295 3634.78 36.1584 L3634.78 29.2718 Q3638.87 27.692 3642.72 26.9223 Q3646.57 26.1121 3650.22 26.1121 Q3660.06 26.1121 3664.92 31.2163 Q3669.78 36.3204 3669.78 46.6907 Z\" fill=\"#000000\" fill-rule=\"evenodd\" fill-opacity=\"1\" /><path clip-path=\"url(#clip6700)\" d=\"M 0 0 M3710.25 28.9478 L3710.25 35.9153 Q3707.09 34.1734 3703.89 33.3227 Q3700.73 32.4315 3697.49 32.4315 Q3690.24 32.4315 3686.23 37.0496 Q3682.22 41.6271 3682.22 49.9314 Q3682.22 58.2358 3686.23 62.8538 Q3690.24 67.4314 3697.49 67.4314 Q3700.73 67.4314 3703.89 66.5807 Q3707.09 65.6895 3710.25 63.9476 L3710.25 70.8341 Q3707.13 72.2924 3703.77 73.0216 Q3700.45 73.7508 3696.68 73.7508 Q3686.43 73.7508 3680.39 67.3098 Q3674.36 60.8689 3674.36 49.9314 Q3674.36 38.832 3680.44 32.472 Q3686.55 26.1121 3697.17 26.1121 Q3700.61 26.1121 3703.89 26.8413 Q3707.17 27.5299 3710.25 28.9478 Z\" fill=\"#000000\" fill-rule=\"evenodd\" fill-opacity=\"1\" /><path clip-path=\"url(#clip6700)\" d=\"M 0 0 M3725.44 14.324 L3725.44 27.2059 L3740.79 27.2059 L3740.79 32.9987 L3725.44 32.9987 L3725.44 57.6282 Q3725.44 63.1779 3726.94 64.7578 Q3728.48 66.3376 3733.14 66.3376 L3740.79 66.3376 L3740.79 72.576 L3733.14 72.576 Q3724.51 72.576 3721.23 69.3758 Q3717.95 66.1351 3717.95 57.6282 L3717.95 32.9987 L3712.48 32.9987 L3712.48 27.2059 L3717.95 27.2059 L3717.95 14.324 L3725.44 14.324 Z\" fill=\"#000000\" fill-rule=\"evenodd\" fill-opacity=\"1\" /><path clip-path=\"url(#clip6700)\" d=\"M 0 0 M3747.84 54.671 L3747.84 27.2059 L3755.3 27.2059 L3755.3 54.3874 Q3755.3 60.8284 3757.81 64.0691 Q3760.32 67.2693 3765.34 67.2693 Q3771.38 67.2693 3774.86 63.421 Q3778.39 59.5726 3778.39 52.9291 L3778.39 27.2059 L3785.84 27.2059 L3785.84 72.576 L3778.39 72.576 L3778.39 65.6084 Q3775.67 69.7404 3772.07 71.7658 Q3768.5 73.7508 3763.76 73.7508 Q3755.94 73.7508 3751.89 68.8897 Q3747.84 64.0286 3747.84 54.671 M3766.6 26.1121 L3766.6 26.1121 Z\" fill=\"#000000\" fill-rule=\"evenodd\" fill-opacity=\"1\" /><path clip-path=\"url(#clip6700)\" d=\"M 0 0 M3819.95 34.1734 Q3818.69 33.4443 3817.19 33.1202 Q3815.74 32.7556 3813.95 32.7556 Q3807.63 32.7556 3804.23 36.8875 Q3800.87 40.9789 3800.87 48.6757 L3800.87 72.576 L3793.37 72.576 L3793.37 27.2059 L3800.87 27.2059 L3800.87 34.2544 Q3803.22 30.1225 3806.99 28.1376 Q3810.75 26.1121 3816.14 26.1121 Q3816.91 26.1121 3817.84 26.2337 Q3818.77 26.3147 3819.91 26.5172 L3819.95 34.1734 Z\" fill=\"#000000\" fill-rule=\"evenodd\" fill-opacity=\"1\" /><path clip-path=\"url(#clip6700)\" d=\"M 0 0 M3827.77 27.2059 L3835.22 27.2059 L3835.22 72.576 L3827.77 72.576 L3827.77 27.2059 M3827.77 9.54393 L3835.22 9.54393 L3835.22 18.9825 L3827.77 18.9825 L3827.77 9.54393 Z\" fill=\"#000000\" fill-rule=\"evenodd\" fill-opacity=\"1\" /><path clip-path=\"url(#clip6700)\" d=\"M 0 0 M3880.75 45.1919 L3880.75 72.576 L3873.3 72.576 L3873.3 45.4349 Q3873.3 38.994 3870.79 35.7938 Q3868.28 32.5936 3863.25 32.5936 Q3857.22 32.5936 3853.73 36.4419 Q3850.25 40.2903 3850.25 46.9338 L3850.25 72.576 L3842.75 72.576 L3842.75 27.2059 L3850.25 27.2059 L3850.25 34.2544 Q3852.92 30.163 3856.53 28.1376 Q3860.17 26.1121 3864.91 26.1121 Q3872.73 26.1121 3876.74 30.9732 Q3880.75 35.7938 3880.75 45.1919 Z\" fill=\"#000000\" fill-rule=\"evenodd\" fill-opacity=\"1\" /><path clip-path=\"url(#clip6700)\" d=\"M 0 0 M3918.43 49.3643 Q3918.43 41.2625 3915.06 36.8065 Q3911.74 32.3505 3905.71 32.3505 Q3899.71 32.3505 3896.35 36.8065 Q3893.03 41.2625 3893.03 49.3643 Q3893.03 57.4256 3896.35 61.8816 Q3899.71 66.3376 3905.71 66.3376 Q3911.74 66.3376 3915.06 61.8816 Q3918.43 57.4256 3918.43 49.3643 M3925.88 66.9452 Q3925.88 78.5308 3920.73 84.1616 Q3915.59 89.8329 3904.98 89.8329 Q3901.05 89.8329 3897.56 89.2252 Q3894.08 88.6581 3890.8 87.4428 L3890.8 80.1917 Q3894.08 81.9741 3897.28 82.8248 Q3900.48 83.6755 3903.8 83.6755 Q3911.13 83.6755 3914.78 79.8271 Q3918.43 76.0193 3918.43 68.282 L3918.43 64.5957 Q3916.12 68.6061 3912.51 70.5911 Q3908.91 72.576 3903.88 72.576 Q3895.54 72.576 3890.43 66.2161 Q3885.33 59.8562 3885.33 49.3643 Q3885.33 38.832 3890.43 32.472 Q3895.54 26.1121 3903.88 26.1121 Q3908.91 26.1121 3912.51 28.0971 Q3916.12 30.082 3918.43 34.0924 L3918.43 27.2059 L3925.88 27.2059 L3925.88 66.9452 Z\" fill=\"#000000\" fill-rule=\"evenodd\" fill-opacity=\"1\" /><path clip-path=\"url(#clip6700)\" d=\"M 0 0 M3534.83 2388.14 L3534.83 2398.26 L3546.89 2398.26 L3546.89 2402.81 L3534.83 2402.81 L3534.83 2422.17 Q3534.83 2426.53 3536.01 2427.77 Q3537.22 2429.01 3540.88 2429.01 L3546.89 2429.01 L3546.89 2433.91 L3540.88 2433.91 Q3534.1 2433.91 3531.52 2431.4 Q3528.94 2428.85 3528.94 2422.17 L3528.94 2402.81 L3524.65 2402.81 L3524.65 2398.26 L3528.94 2398.26 L3528.94 2388.14 L3534.83 2388.14 Z\" fill=\"#000000\" fill-rule=\"evenodd\" fill-opacity=\"1\" /><path clip-path=\"url(#clip6700)\" d=\"M 0 0 M3553.04 2398.26 L3558.89 2398.26 L3558.89 2433.91 L3553.04 2433.91 L3553.04 2398.26 M3553.04 2384.39 L3558.89 2384.39 L3558.89 2391.8 L3553.04 2391.8 L3553.04 2384.39 Z\" fill=\"#000000\" fill-rule=\"evenodd\" fill-opacity=\"1\" /><path clip-path=\"url(#clip6700)\" d=\"M 0 0 M3592.79 2405.11 Q3594.99 2401.16 3598.04 2399.28 Q3601.1 2397.4 3605.24 2397.4 Q3610.81 2397.4 3613.83 2401.32 Q3616.85 2405.2 3616.85 2412.4 L3616.85 2433.91 L3610.96 2433.91 L3610.96 2412.59 Q3610.96 2407.46 3609.15 2404.98 Q3607.34 2402.5 3603.61 2402.5 Q3599.06 2402.5 3596.42 2405.52 Q3593.78 2408.54 3593.78 2413.76 L3593.78 2433.91 L3587.89 2433.91 L3587.89 2412.59 Q3587.89 2407.43 3586.07 2404.98 Q3584.26 2402.5 3580.47 2402.5 Q3575.99 2402.5 3573.34 2405.55 Q3570.7 2408.58 3570.7 2413.76 L3570.7 2433.91 L3564.81 2433.91 L3564.81 2398.26 L3570.7 2398.26 L3570.7 2403.8 Q3572.71 2400.52 3575.51 2398.96 Q3578.31 2397.4 3582.16 2397.4 Q3586.04 2397.4 3588.75 2399.38 Q3591.49 2401.35 3592.79 2405.11 Z\" fill=\"#000000\" fill-rule=\"evenodd\" fill-opacity=\"1\" /><path clip-path=\"url(#clip6700)\" d=\"M 0 0 M3653.49 2414.62 L3653.49 2417.49 L3626.56 2417.49 Q3626.94 2423.54 3630.19 2426.72 Q3633.47 2429.87 3639.29 2429.87 Q3642.67 2429.87 3645.82 2429.04 Q3649 2428.21 3652.12 2426.56 L3652.12 2432.1 Q3648.97 2433.43 3645.66 2434.13 Q3642.35 2434.83 3638.94 2434.83 Q3630.41 2434.83 3625.42 2429.87 Q3620.45 2424.9 3620.45 2416.44 Q3620.45 2407.68 3625.16 2402.56 Q3629.9 2397.4 3637.92 2397.4 Q3645.12 2397.4 3649.29 2402.05 Q3653.49 2406.67 3653.49 2414.62 M3647.63 2412.9 Q3647.57 2408.1 3644.93 2405.23 Q3642.32 2402.37 3637.99 2402.37 Q3633.09 2402.37 3630.13 2405.14 Q3627.2 2407.91 3626.75 2412.94 L3647.63 2412.9 Z\" fill=\"#000000\" fill-rule=\"evenodd\" fill-opacity=\"1\" /><path clip-path=\"url(#clip6700)\" d=\"M 0 0 M-16.7249 1310.97 L-16.7249 1305.12 L18.923 1305.12 L18.923 1310.97 L-16.7249 1310.97 M-30.6022 1310.97 L-30.6022 1305.12 L-23.1861 1305.12 L-23.1861 1310.97 L-30.6022 1310.97 Z\" fill=\"#000000\" fill-rule=\"evenodd\" fill-opacity=\"1\" /><path clip-path=\"url(#clip6700)\" d=\"M 0 0 M-2.59307 1269.34 L18.923 1269.34 L18.923 1275.2 L-2.4021 1275.2 Q-7.46284 1275.2 -9.97729 1277.17 Q-12.4917 1279.14 -12.4917 1283.09 Q-12.4917 1287.83 -9.46804 1290.57 Q-6.44433 1293.31 -1.22445 1293.31 L18.923 1293.31 L18.923 1299.2 L-16.7249 1299.2 L-16.7249 1293.31 L-11.1868 1293.31 Q-14.4015 1291.21 -15.9929 1288.37 Q-17.5843 1285.51 -17.5843 1281.79 Q-17.5843 1275.64 -13.7649 1272.49 Q-9.97729 1269.34 -2.59307 1269.34 Z\" fill=\"#000000\" fill-rule=\"evenodd\" fill-opacity=\"1\" /><path clip-path=\"url(#clip6700)\" d=\"M 0 0 M-11.3141 1239.74 L-30.6022 1239.74 L-30.6022 1233.88 L18.923 1233.88 L18.923 1239.74 L13.5758 1239.74 Q16.7587 1241.59 18.3183 1244.42 Q19.846 1247.22 19.846 1251.17 Q19.846 1257.63 14.6898 1261.7 Q9.5336 1265.74 1.13086 1265.74 Q-7.27187 1265.74 -12.4281 1261.7 Q-17.5843 1257.63 -17.5843 1251.17 Q-17.5843 1247.22 -16.0247 1244.42 Q-14.4969 1241.59 -11.3141 1239.74 M1.13086 1259.7 Q7.59206 1259.7 11.2842 1257.06 Q14.9444 1254.38 14.9444 1249.73 Q14.9444 1245.09 11.2842 1242.41 Q7.59206 1239.74 1.13086 1239.74 Q-5.33033 1239.74 -8.99061 1242.41 Q-12.6827 1245.09 -12.6827 1249.73 Q-12.6827 1254.38 -8.99061 1257.06 Q-5.33033 1259.7 1.13086 1259.7 Z\" fill=\"#000000\" fill-rule=\"evenodd\" fill-opacity=\"1\" /><path clip-path=\"url(#clip6700)\" d=\"M 0 0 M-16.7249 1227.74 L-16.7249 1221.88 L18.923 1221.88 L18.923 1227.74 L-16.7249 1227.74 M-30.6022 1227.74 L-30.6022 1221.88 L-23.1861 1221.88 L-23.1861 1227.74 L-30.6022 1227.74 Z\" fill=\"#000000\" fill-rule=\"evenodd\" fill-opacity=\"1\" /><path clip-path=\"url(#clip6700)\" d=\"M 0 0 M-15.3563 1190.09 L-9.88181 1190.09 Q-11.2504 1192.57 -11.9188 1195.09 Q-12.6191 1197.57 -12.6191 1200.11 Q-12.6191 1205.81 -8.99061 1208.96 Q-5.39398 1212.11 1.13086 1212.11 Q7.65571 1212.11 11.2842 1208.96 Q14.8808 1205.81 14.8808 1200.11 Q14.8808 1197.57 14.2124 1195.09 Q13.5122 1192.57 12.1435 1190.09 L17.5544 1190.09 Q18.7002 1192.54 19.2731 1195.18 Q19.846 1197.79 19.846 1200.75 Q19.846 1208.8 14.7853 1213.55 Q9.72457 1218.29 1.13086 1218.29 Q-7.59015 1218.29 -12.5872 1213.51 Q-17.5843 1208.71 -17.5843 1200.37 Q-17.5843 1197.66 -17.0114 1195.09 Q-16.4703 1192.51 -15.3563 1190.09 Z\" fill=\"#000000\" fill-rule=\"evenodd\" fill-opacity=\"1\" /><path clip-path=\"url(#clip6700)\" d=\"M 0 0 M1.00355 1167.74 Q1.00355 1174.84 2.62681 1177.58 Q4.25006 1180.32 8.16497 1180.32 Q11.2842 1180.32 13.1302 1178.28 Q14.9444 1176.21 14.9444 1172.68 Q14.9444 1167.81 11.507 1164.88 Q8.03766 1161.92 2.30852 1161.92 L1.00355 1161.92 L1.00355 1167.74 M-1.41542 1156.06 L18.923 1156.06 L18.923 1161.92 L13.5122 1161.92 Q16.7587 1163.93 18.3183 1166.92 Q19.846 1169.91 19.846 1174.24 Q19.846 1179.71 16.7905 1182.96 Q13.7031 1186.17 8.54691 1186.17 Q2.53132 1186.17 -0.524219 1182.16 Q-3.57976 1178.12 -3.57976 1170.13 L-3.57976 1161.92 L-4.15267 1161.92 Q-8.1949 1161.92 -10.3911 1164.59 Q-12.6191 1167.24 -12.6191 1172.04 Q-12.6191 1175.1 -11.887 1177.99 Q-11.1549 1180.89 -9.69084 1183.56 L-15.1017 1183.56 Q-16.343 1180.35 -16.9477 1177.32 Q-17.5843 1174.3 -17.5843 1171.44 Q-17.5843 1163.7 -13.5739 1159.88 Q-9.56352 1156.06 -1.41542 1156.06 Z\" fill=\"#000000\" fill-rule=\"evenodd\" fill-opacity=\"1\" /><path clip-path=\"url(#clip6700)\" d=\"M 0 0 M-26.8464 1144.13 L-16.7249 1144.13 L-16.7249 1132.06 L-12.1735 1132.06 L-12.1735 1144.13 L7.17829 1144.13 Q11.5388 1144.13 12.7801 1142.95 Q14.0214 1141.74 14.0214 1138.08 L14.0214 1132.06 L18.923 1132.06 L18.923 1138.08 Q18.923 1144.86 16.4086 1147.44 Q13.8623 1150.02 7.17829 1150.02 L-12.1735 1150.02 L-12.1735 1154.31 L-16.7249 1154.31 L-16.7249 1150.02 L-26.8464 1150.02 L-26.8464 1144.13 Z\" fill=\"#000000\" fill-rule=\"evenodd\" fill-opacity=\"1\" /><path clip-path=\"url(#clip6700)\" d=\"M 0 0 M-12.6191 1112.11 Q-12.6191 1116.82 -8.92695 1119.56 Q-5.26667 1122.29 1.13086 1122.29 Q7.5284 1122.29 11.2205 1119.59 Q14.8808 1116.85 14.8808 1112.11 Q14.8808 1107.43 11.1887 1104.69 Q7.49657 1101.95 1.13086 1101.95 Q-5.20301 1101.95 -8.89512 1104.69 Q-12.6191 1107.43 -12.6191 1112.11 M-17.5843 1112.11 Q-17.5843 1104.47 -12.6191 1100.11 Q-7.65381 1095.75 1.13086 1095.75 Q9.88371 1095.75 14.8808 1100.11 Q19.846 1104.47 19.846 1112.11 Q19.846 1119.78 14.8808 1124.14 Q9.88371 1128.47 1.13086 1128.47 Q-7.65381 1128.47 -12.6191 1124.14 Q-17.5843 1119.78 -17.5843 1112.11 Z\" fill=\"#000000\" fill-rule=\"evenodd\" fill-opacity=\"1\" /><path clip-path=\"url(#clip6700)\" d=\"M 0 0 M-11.2504 1068.95 Q-11.8233 1069.94 -12.078 1071.11 Q-12.3644 1072.26 -12.3644 1073.66 Q-12.3644 1078.62 -9.11792 1081.3 Q-5.90324 1083.94 0.14418 1083.94 L18.923 1083.94 L18.923 1089.83 L-16.7249 1089.83 L-16.7249 1083.94 L-11.1868 1083.94 Q-14.4333 1082.09 -15.9929 1079.13 Q-17.5843 1076.17 -17.5843 1071.94 Q-17.5843 1071.34 -17.4888 1070.6 Q-17.4252 1069.87 -17.266 1068.98 L-11.2504 1068.95 Z\" fill=\"#000000\" fill-rule=\"evenodd\" fill-opacity=\"1\" /><path clip-path=\"url(#clip6700)\" d=\"M 0 0 M-15.6746 1040.08 L-10.1364 1040.08 Q-11.4096 1042.56 -12.0461 1045.24 Q-12.6827 1047.91 -12.6827 1050.77 Q-12.6827 1055.14 -11.3459 1057.33 Q-10.0091 1059.5 -7.33553 1059.5 Q-5.2985 1059.5 -4.12084 1057.94 Q-2.97502 1056.38 -1.92467 1051.67 L-1.47908 1049.66 Q-0.142277 1043.42 2.30852 1040.81 Q4.72749 1038.17 9.088 1038.17 Q14.0532 1038.17 16.9496 1042.12 Q19.846 1046.03 19.846 1052.91 Q19.846 1055.77 19.2731 1058.89 Q18.732 1061.98 17.618 1065.42 L11.5706 1065.42 Q13.2575 1062.17 14.1169 1059.02 Q14.9444 1055.87 14.9444 1052.78 Q14.9444 1048.64 13.544 1046.41 Q12.1117 1044.19 9.5336 1044.19 Q7.14646 1044.19 5.87332 1045.81 Q4.60017 1047.4 3.42252 1052.84 L2.94509 1054.88 Q1.79926 1060.32 -0.556048 1062.74 Q-2.94319 1065.16 -7.0809 1065.16 Q-12.1098 1065.16 -14.8471 1061.6 Q-17.5843 1058.03 -17.5843 1051.47 Q-17.5843 1048.23 -17.1069 1045.36 Q-16.6295 1042.5 -15.6746 1040.08 Z\" fill=\"#000000\" fill-rule=\"evenodd\" fill-opacity=\"1\" /><polyline clip-path=\"url(#clip6702)\" style=\"stroke:#009af9; stroke-width:4; stroke-opacity:1; fill:none\" points=\"\n",
       "  6762.36,1149.71 6650.3,1286.45 6594.27,1907.98 6502.59,2193.89 6451.65,1180.79 6334.5,988.111 6293.75,1006.76 6181.69,1099.99 6125.66,1006.76 6023.79,938.389 \n",
       "  5983.04,1025.4 5870.98,957.035 5830.24,689.775 5718.18,515.745 5667.24,565.468 5575.56,646.267 5524.62,329.285 5417.66,652.483 5331.07,453.592 5254.66,410.084 \n",
       "  5198.63,273.347 5112.04,372.792 5056.01,248.485 4943.96,267.131 4903.21,391.438 4796.24,422.515 4735.12,403.869 4633.25,534.391 4592.5,341.715 4475.35,192.547 \n",
       "  4434.6,534.391 4327.63,360.362 4271.6,192.547 4164.64,186.332 4123.89,155.255 4011.83,180.117 3971.08,472.238 3864.12,347.931 3808.09,577.899 3721.5,671.129 \n",
       "  3665.47,242.27 3558.51,534.391 3471.91,416.3 3400.6,602.76 3344.58,652.483 3242.7,615.191 3201.96,814.082 3084.8,901.097 3044.06,832.728 2942.18,770.574 \n",
       "  2881.06,845.158 2774.1,845.158 2733.35,913.527 2616.2,888.666 2560.17,1050.26 2473.58,913.527 2417.55,714.636 2305.49,944.604 2264.74,764.359 2152.68,720.852 \n",
       "  2096.65,627.621 1994.78,453.592 1954.03,689.775 1852.16,901.097 1811.41,795.436 1699.35,708.421 1602.58,540.607 1546.55,372.792 1485.42,490.884 1383.55,453.592 \n",
       "  1342.8,509.53 1225.65,291.993 1169.62,285.777 1088.13,621.406 1027,621.406 914.945,503.314 874.196,727.067 762.138,652.483 706.109,652.483 604.237,366.577 \n",
       "  563.489,391.438 415.775,596.545 \n",
       "  \"/>\n",
       "<polyline clip-path=\"url(#clip6702)\" style=\"stroke:#e26f46; stroke-width:4; stroke-opacity:1; fill:none\" points=\"\n",
       "  6762.36,608.975 6650.3,608.975 6594.27,615.191 6502.59,559.253 6451.65,559.253 6334.5,571.683 6293.75,584.114 6181.69,546.822 6125.66,559.253 6023.79,540.607 \n",
       "  5983.04,534.391 5870.98,441.161 5830.24,466.022 5718.18,478.453 5667.24,528.176 5575.56,553.037 5524.62,565.468 5417.66,553.037 5331.07,565.468 5254.66,497.099 \n",
       "  5198.63,503.314 5112.04,428.73 5056.01,410.084 4943.96,329.285 4903.21,304.423 4796.24,304.423 4735.12,298.208 4633.25,434.946 4592.5,403.869 4475.35,341.715 \n",
       "  4434.6,329.285 4327.63,329.285 4271.6,410.084 4164.64,459.807 4123.89,459.807 4011.83,453.592 3971.08,453.592 3864.12,354.146 3808.09,379.008 3721.5,565.468 \n",
       "  3665.47,565.468 3558.51,484.668 3471.91,521.96 3400.6,503.314 3344.58,528.176 3242.7,683.559 3201.96,727.067 3084.8,621.406 3044.06,621.406 2942.18,602.76 \n",
       "  2881.06,553.037 2774.1,565.468 2733.35,596.545 2616.2,677.344 2560.17,658.698 2473.58,652.483 2417.55,677.344 2305.49,664.913 2264.74,671.129 2152.68,509.53 \n",
       "  2096.65,490.884 1994.78,528.176 1954.03,472.238 1852.16,434.946 1811.41,416.3 1699.35,546.822 1602.58,534.391 1546.55,621.406 1485.42,646.267 1383.55,733.282 \n",
       "  1342.8,714.636 1225.65,727.067 1169.62,702.205 1088.13,702.205 1027,677.344 914.945,708.421 874.196,683.559 762.138,640.052 706.109,615.191 604.237,546.822 \n",
       "  563.489,553.037 415.775,422.515 \n",
       "  \"/>\n",
       "<polyline clip-path=\"url(#clip6702)\" style=\"stroke:#3da44d; stroke-width:4; stroke-opacity:1; fill:none\" points=\"\n",
       "  6762.36,1149.71 6650.3,1286.45 6594.27,1907.98 6502.59,2193.89 6451.65,1180.79 6334.5,988.111 6293.75,1006.76 6181.69,1099.99 6125.66,1006.76 6023.79,938.389 \n",
       "  5983.04,1025.4 5870.98,957.035 5830.24,689.775 5718.18,515.745 5667.24,565.468 5575.56,646.267 5524.62,329.285 5417.66,652.483 5331.07,453.592 5254.66,410.084 \n",
       "  5198.63,273.347 5112.04,372.792 5056.01,248.485 4943.96,267.131 4903.21,391.438 4796.24,422.515 4735.12,403.869 4633.25,534.391 4592.5,341.715 4475.35,192.547 \n",
       "  4434.6,534.391 4327.63,360.362 4271.6,192.547 4164.64,186.332 4123.89,155.255 4011.83,180.117 3971.08,472.238 3864.12,347.931 3808.09,577.899 3721.5,671.129 \n",
       "  3665.47,242.27 3558.51,534.391 3471.91,416.3 3400.6,602.76 3344.58,652.483 3242.7,615.191 3201.96,814.082 3084.8,901.097 3044.06,832.728 2942.18,770.574 \n",
       "  2881.06,845.158 2774.1,845.158 2733.35,913.527 2616.2,888.666 2560.17,1050.26 2473.58,913.527 2417.55,714.636 2305.49,944.604 2264.74,764.359 2152.68,720.852 \n",
       "  2096.65,627.621 1994.78,453.592 1954.03,689.775 1852.16,901.097 1811.41,795.436 1699.35,708.421 1602.58,540.607 1546.55,372.792 1485.42,490.884 1383.55,453.592 \n",
       "  1342.8,509.53 1225.65,291.993 1169.62,285.777 1088.13,621.406 1027,621.406 914.945,503.314 874.196,727.067 762.138,652.483 706.109,652.483 604.237,366.577 \n",
       "  563.489,391.438 415.775,596.545 \n",
       "  \"/>\n",
       "<path clip-path=\"url(#clip6700)\" d=\"\n",
       "M435.378 1835.05 L1486.81 1835.05 L1486.81 1593.13 L435.378 1593.13  Z\n",
       "  \" fill=\"#ffffff\" fill-rule=\"evenodd\" fill-opacity=\"1\"/>\n",
       "<polyline clip-path=\"url(#clip6700)\" style=\"stroke:#000000; stroke-width:4; stroke-opacity:1; fill:none\" points=\"\n",
       "  435.378,1835.05 1486.81,1835.05 1486.81,1593.13 435.378,1593.13 435.378,1835.05 \n",
       "  \"/>\n",
       "<polyline clip-path=\"url(#clip6700)\" style=\"stroke:#009af9; stroke-width:4; stroke-opacity:1; fill:none\" points=\"\n",
       "  505.378,1653.61 925.378,1653.61 \n",
       "  \"/>\n",
       "<path clip-path=\"url(#clip6700)\" d=\"M 0 0 M1019.41 1656.86 L1019.41 1658.94 L999.822 1658.94 Q1000.1 1663.34 1002.46 1665.66 Q1004.85 1667.95 1009.08 1667.95 Q1011.54 1667.95 1013.83 1667.35 Q1016.14 1666.74 1018.41 1665.54 L1018.41 1669.57 Q1016.12 1670.54 1013.71 1671.05 Q1011.3 1671.56 1008.83 1671.56 Q1002.62 1671.56 998.989 1667.95 Q995.378 1664.34 995.378 1658.18 Q995.378 1651.81 998.804 1648.09 Q1002.25 1644.34 1008.09 1644.34 Q1013.32 1644.34 1016.35 1647.72 Q1019.41 1651.07 1019.41 1656.86 M1015.15 1655.61 Q1015.1 1652.11 1013.18 1650.03 Q1011.28 1647.95 1008.13 1647.95 Q1004.57 1647.95 1002.41 1649.96 Q1000.29 1651.98 999.961 1655.63 L1015.15 1655.61 Z\" fill=\"#000000\" fill-rule=\"evenodd\" fill-opacity=\"1\" /><path clip-path=\"url(#clip6700)\" d=\"M 0 0 M1044.06 1649.94 Q1045.66 1647.07 1047.88 1645.7 Q1050.1 1644.34 1053.11 1644.34 Q1057.16 1644.34 1059.36 1647.18 Q1061.56 1650.01 1061.56 1655.24 L1061.56 1670.89 L1057.28 1670.89 L1057.28 1655.38 Q1057.28 1651.65 1055.96 1649.85 Q1054.64 1648.04 1051.93 1648.04 Q1048.62 1648.04 1046.7 1650.24 Q1044.78 1652.44 1044.78 1656.23 L1044.78 1670.89 L1040.49 1670.89 L1040.49 1655.38 Q1040.49 1651.63 1039.17 1649.85 Q1037.85 1648.04 1035.1 1648.04 Q1031.84 1648.04 1029.91 1650.26 Q1027.99 1652.46 1027.99 1656.23 L1027.99 1670.89 L1023.71 1670.89 L1023.71 1644.96 L1027.99 1644.96 L1027.99 1648.99 Q1029.45 1646.6 1031.49 1645.47 Q1033.53 1644.34 1036.33 1644.34 Q1039.15 1644.34 1041.12 1645.77 Q1043.11 1647.21 1044.06 1649.94 Z\" fill=\"#000000\" fill-rule=\"evenodd\" fill-opacity=\"1\" /><path clip-path=\"url(#clip6700)\" d=\"M 0 0 M1070.15 1667 L1070.15 1680.75 L1065.86 1680.75 L1065.86 1644.96 L1070.15 1644.96 L1070.15 1648.9 Q1071.49 1646.58 1073.53 1645.47 Q1075.59 1644.34 1078.43 1644.34 Q1083.16 1644.34 1086.09 1648.09 Q1089.06 1651.84 1089.06 1657.95 Q1089.06 1664.06 1086.09 1667.81 Q1083.16 1671.56 1078.43 1671.56 Q1075.59 1671.56 1073.53 1670.45 Q1071.49 1669.31 1070.15 1667 M1084.64 1657.95 Q1084.64 1653.25 1082.69 1650.59 Q1080.77 1647.9 1077.39 1647.9 Q1074.01 1647.9 1072.07 1650.59 Q1070.15 1653.25 1070.15 1657.95 Q1070.15 1662.65 1072.07 1665.33 Q1074.01 1667.99 1077.39 1667.99 Q1080.77 1667.99 1082.69 1665.33 Q1084.64 1662.65 1084.64 1657.95 Z\" fill=\"#000000\" fill-rule=\"evenodd\" fill-opacity=\"1\" /><path clip-path=\"url(#clip6700)\" d=\"M 0 0 M1093.53 1634.87 L1097.78 1634.87 L1097.78 1670.89 L1093.53 1670.89 L1093.53 1634.87 Z\" fill=\"#000000\" fill-rule=\"evenodd\" fill-opacity=\"1\" /><path clip-path=\"url(#clip6700)\" d=\"M 0 0 M1112.3 1647.95 Q1108.87 1647.95 1106.88 1650.63 Q1104.89 1653.29 1104.89 1657.95 Q1104.89 1662.6 1106.86 1665.29 Q1108.85 1667.95 1112.3 1667.95 Q1115.7 1667.95 1117.69 1665.26 Q1119.68 1662.58 1119.68 1657.95 Q1119.68 1653.34 1117.69 1650.66 Q1115.7 1647.95 1112.3 1647.95 M1112.3 1644.34 Q1117.85 1644.34 1121.03 1647.95 Q1124.2 1651.56 1124.2 1657.95 Q1124.2 1664.31 1121.03 1667.95 Q1117.85 1671.56 1112.3 1671.56 Q1106.72 1671.56 1103.55 1667.95 Q1100.4 1664.31 1100.4 1657.95 Q1100.4 1651.56 1103.55 1647.95 Q1106.72 1644.34 1112.3 1644.34 Z\" fill=\"#000000\" fill-rule=\"evenodd\" fill-opacity=\"1\" /><path clip-path=\"url(#clip6700)\" d=\"M 0 0 M1139.45 1673.29 Q1137.65 1677.92 1135.93 1679.34 Q1134.22 1680.75 1131.35 1680.75 L1127.95 1680.75 L1127.95 1677.18 L1130.45 1677.18 Q1132.21 1677.18 1133.18 1676.35 Q1134.15 1675.52 1135.33 1672.42 L1136.09 1670.47 L1125.61 1644.96 L1130.12 1644.96 L1138.22 1665.24 L1146.33 1644.96 L1150.84 1644.96 L1139.45 1673.29 Z\" fill=\"#000000\" fill-rule=\"evenodd\" fill-opacity=\"1\" /><path clip-path=\"url(#clip6700)\" d=\"M 0 0 M1175.49 1649.94 Q1177.09 1647.07 1179.31 1645.7 Q1181.53 1644.34 1184.54 1644.34 Q1188.59 1644.34 1190.79 1647.18 Q1192.99 1650.01 1192.99 1655.24 L1192.99 1670.89 L1188.71 1670.89 L1188.71 1655.38 Q1188.71 1651.65 1187.39 1649.85 Q1186.07 1648.04 1183.36 1648.04 Q1180.05 1648.04 1178.13 1650.24 Q1176.21 1652.44 1176.21 1656.23 L1176.21 1670.89 L1171.93 1670.89 L1171.93 1655.38 Q1171.93 1651.63 1170.61 1649.85 Q1169.29 1648.04 1166.53 1648.04 Q1163.27 1648.04 1161.35 1650.26 Q1159.43 1652.46 1159.43 1656.23 L1159.43 1670.89 L1155.15 1670.89 L1155.15 1644.96 L1159.43 1644.96 L1159.43 1648.99 Q1160.89 1646.6 1162.92 1645.47 Q1164.96 1644.34 1167.76 1644.34 Q1170.59 1644.34 1172.55 1645.77 Q1174.54 1647.21 1175.49 1649.94 Z\" fill=\"#000000\" fill-rule=\"evenodd\" fill-opacity=\"1\" /><path clip-path=\"url(#clip6700)\" d=\"M 0 0 M1219.64 1656.86 L1219.64 1658.94 L1200.05 1658.94 Q1200.33 1663.34 1202.69 1665.66 Q1205.08 1667.95 1209.31 1667.95 Q1211.77 1667.95 1214.06 1667.35 Q1216.37 1666.74 1218.64 1665.54 L1218.64 1669.57 Q1216.35 1670.54 1213.94 1671.05 Q1211.53 1671.56 1209.06 1671.56 Q1202.85 1671.56 1199.22 1667.95 Q1195.61 1664.34 1195.61 1658.18 Q1195.61 1651.81 1199.03 1648.09 Q1202.48 1644.34 1208.32 1644.34 Q1213.55 1644.34 1216.58 1647.72 Q1219.64 1651.07 1219.64 1656.86 M1215.38 1655.61 Q1215.33 1652.11 1213.41 1650.03 Q1211.51 1647.95 1208.36 1647.95 Q1204.8 1647.95 1202.65 1649.96 Q1200.52 1651.98 1200.19 1655.63 L1215.38 1655.61 Z\" fill=\"#000000\" fill-rule=\"evenodd\" fill-opacity=\"1\" /><path clip-path=\"url(#clip6700)\" d=\"M 0 0 M1245.65 1655.24 L1245.65 1670.89 L1241.4 1670.89 L1241.4 1655.38 Q1241.4 1651.7 1239.96 1649.87 Q1238.52 1648.04 1235.65 1648.04 Q1232.21 1648.04 1230.21 1650.24 Q1228.22 1652.44 1228.22 1656.23 L1228.22 1670.89 L1223.94 1670.89 L1223.94 1644.96 L1228.22 1644.96 L1228.22 1648.99 Q1229.75 1646.65 1231.81 1645.49 Q1233.9 1644.34 1236.6 1644.34 Q1241.07 1644.34 1243.36 1647.11 Q1245.65 1649.87 1245.65 1655.24 Z\" fill=\"#000000\" fill-rule=\"evenodd\" fill-opacity=\"1\" /><path clip-path=\"url(#clip6700)\" d=\"M 0 0 M1254.33 1637.6 L1254.33 1644.96 L1263.11 1644.96 L1263.11 1648.27 L1254.33 1648.27 L1254.33 1662.35 Q1254.33 1665.52 1255.19 1666.42 Q1256.07 1667.32 1258.73 1667.32 L1263.11 1667.32 L1263.11 1670.89 L1258.73 1670.89 Q1253.8 1670.89 1251.93 1669.06 Q1250.05 1667.21 1250.05 1662.35 L1250.05 1648.27 L1246.93 1648.27 L1246.93 1644.96 L1250.05 1644.96 L1250.05 1637.6 L1254.33 1637.6 Z\" fill=\"#000000\" fill-rule=\"evenodd\" fill-opacity=\"1\" /><polyline clip-path=\"url(#clip6700)\" style=\"stroke:#e26f46; stroke-width:4; stroke-opacity:1; fill:none\" points=\"\n",
       "  505.378,1714.09 925.378,1714.09 \n",
       "  \"/>\n",
       "<path clip-path=\"url(#clip6700)\" d=\"M 0 0 M1000.05 1700.65 L1000.05 1713.64 L1005.93 1713.64 Q1009.2 1713.64 1010.98 1711.95 Q1012.76 1710.26 1012.76 1707.13 Q1012.76 1704.03 1010.98 1702.34 Q1009.2 1700.65 1005.93 1700.65 L1000.05 1700.65 M995.378 1696.81 L1005.93 1696.81 Q1011.74 1696.81 1014.71 1699.45 Q1017.69 1702.06 1017.69 1707.13 Q1017.69 1712.25 1014.71 1714.86 Q1011.74 1717.48 1005.93 1717.48 L1000.05 1717.48 L1000.05 1731.37 L995.378 1731.37 L995.378 1696.81 Z\" fill=\"#000000\" fill-rule=\"evenodd\" fill-opacity=\"1\" /><path clip-path=\"url(#clip6700)\" d=\"M 0 0 M1022.35 1696.81 L1029.31 1696.81 L1038.13 1720.33 L1047 1696.81 L1053.97 1696.81 L1053.97 1731.37 L1049.41 1731.37 L1049.41 1701.02 L1040.49 1724.72 L1035.79 1724.72 L1026.88 1701.02 L1026.88 1731.37 L1022.35 1731.37 L1022.35 1696.81 Z\" fill=\"#000000\" fill-rule=\"evenodd\" fill-opacity=\"1\" /><path clip-path=\"url(#clip6700)\" d=\"M 0 0 M1058.62 1696.81 L1063.29 1696.81 L1063.29 1731.37 L1058.62 1731.37 L1058.62 1696.81 Z\" fill=\"#000000\" fill-rule=\"evenodd\" fill-opacity=\"1\" /><polyline clip-path=\"url(#clip6700)\" style=\"stroke:#3da44d; stroke-width:4; stroke-opacity:1; fill:none\" points=\"\n",
       "  505.378,1774.57 925.378,1774.57 \n",
       "  \"/>\n",
       "<path clip-path=\"url(#clip6700)\" d=\"M 0 0 M1019.41 1777.82 L1019.41 1779.9 L999.822 1779.9 Q1000.1 1784.3 1002.46 1786.62 Q1004.85 1788.91 1009.08 1788.91 Q1011.54 1788.91 1013.83 1788.31 Q1016.14 1787.7 1018.41 1786.5 L1018.41 1790.53 Q1016.12 1791.5 1013.71 1792.01 Q1011.3 1792.52 1008.83 1792.52 Q1002.62 1792.52 998.989 1788.91 Q995.378 1785.3 995.378 1779.14 Q995.378 1772.77 998.804 1769.05 Q1002.25 1765.3 1008.09 1765.3 Q1013.32 1765.3 1016.35 1768.68 Q1019.41 1772.03 1019.41 1777.82 M1015.15 1776.57 Q1015.1 1773.07 1013.18 1770.99 Q1011.28 1768.91 1008.13 1768.91 Q1004.57 1768.91 1002.41 1770.92 Q1000.29 1772.94 999.961 1776.59 L1015.15 1776.57 Z\" fill=\"#000000\" fill-rule=\"evenodd\" fill-opacity=\"1\" /><path clip-path=\"url(#clip6700)\" d=\"M 0 0 M1044.06 1770.9 Q1045.66 1768.03 1047.88 1766.66 Q1050.1 1765.3 1053.11 1765.3 Q1057.16 1765.3 1059.36 1768.14 Q1061.56 1770.97 1061.56 1776.2 L1061.56 1791.85 L1057.28 1791.85 L1057.28 1776.34 Q1057.28 1772.61 1055.96 1770.81 Q1054.64 1769 1051.93 1769 Q1048.62 1769 1046.7 1771.2 Q1044.78 1773.4 1044.78 1777.19 L1044.78 1791.85 L1040.49 1791.85 L1040.49 1776.34 Q1040.49 1772.59 1039.17 1770.81 Q1037.85 1769 1035.1 1769 Q1031.84 1769 1029.91 1771.22 Q1027.99 1773.42 1027.99 1777.19 L1027.99 1791.85 L1023.71 1791.85 L1023.71 1765.92 L1027.99 1765.92 L1027.99 1769.95 Q1029.45 1767.56 1031.49 1766.43 Q1033.53 1765.3 1036.33 1765.3 Q1039.15 1765.3 1041.12 1766.73 Q1043.11 1768.17 1044.06 1770.9 Z\" fill=\"#000000\" fill-rule=\"evenodd\" fill-opacity=\"1\" /><path clip-path=\"url(#clip6700)\" d=\"M 0 0 M1070.15 1787.96 L1070.15 1801.71 L1065.86 1801.71 L1065.86 1765.92 L1070.15 1765.92 L1070.15 1769.86 Q1071.49 1767.54 1073.53 1766.43 Q1075.59 1765.3 1078.43 1765.3 Q1083.16 1765.3 1086.09 1769.05 Q1089.06 1772.8 1089.06 1778.91 Q1089.06 1785.02 1086.09 1788.77 Q1083.16 1792.52 1078.43 1792.52 Q1075.59 1792.52 1073.53 1791.41 Q1071.49 1790.27 1070.15 1787.96 M1084.64 1778.91 Q1084.64 1774.21 1082.69 1771.55 Q1080.77 1768.86 1077.39 1768.86 Q1074.01 1768.86 1072.07 1771.55 Q1070.15 1774.21 1070.15 1778.91 Q1070.15 1783.61 1072.07 1786.29 Q1074.01 1788.95 1077.39 1788.95 Q1080.77 1788.95 1082.69 1786.29 Q1084.64 1783.61 1084.64 1778.91 Z\" fill=\"#000000\" fill-rule=\"evenodd\" fill-opacity=\"1\" /><path clip-path=\"url(#clip6700)\" d=\"M 0 0 M1093.53 1755.83 L1097.78 1755.83 L1097.78 1791.85 L1093.53 1791.85 L1093.53 1755.83 Z\" fill=\"#000000\" fill-rule=\"evenodd\" fill-opacity=\"1\" /><path clip-path=\"url(#clip6700)\" d=\"M 0 0 M1112.3 1768.91 Q1108.87 1768.91 1106.88 1771.59 Q1104.89 1774.25 1104.89 1778.91 Q1104.89 1783.56 1106.86 1786.25 Q1108.85 1788.91 1112.3 1788.91 Q1115.7 1788.91 1117.69 1786.22 Q1119.68 1783.54 1119.68 1778.91 Q1119.68 1774.3 1117.69 1771.62 Q1115.7 1768.91 1112.3 1768.91 M1112.3 1765.3 Q1117.85 1765.3 1121.03 1768.91 Q1124.2 1772.52 1124.2 1778.91 Q1124.2 1785.27 1121.03 1788.91 Q1117.85 1792.52 1112.3 1792.52 Q1106.72 1792.52 1103.55 1788.91 Q1100.4 1785.27 1100.4 1778.91 Q1100.4 1772.52 1103.55 1768.91 Q1106.72 1765.3 1112.3 1765.3 Z\" fill=\"#000000\" fill-rule=\"evenodd\" fill-opacity=\"1\" /><path clip-path=\"url(#clip6700)\" d=\"M 0 0 M1139.45 1794.25 Q1137.65 1798.88 1135.93 1800.3 Q1134.22 1801.71 1131.35 1801.71 L1127.95 1801.71 L1127.95 1798.14 L1130.45 1798.14 Q1132.21 1798.14 1133.18 1797.31 Q1134.15 1796.48 1135.33 1793.38 L1136.09 1791.43 L1125.61 1765.92 L1130.12 1765.92 L1138.22 1786.2 L1146.33 1765.92 L1150.84 1765.92 L1139.45 1794.25 Z\" fill=\"#000000\" fill-rule=\"evenodd\" fill-opacity=\"1\" /><path clip-path=\"url(#clip6700)\" d=\"M 0 0 M1175.49 1770.9 Q1177.09 1768.03 1179.31 1766.66 Q1181.53 1765.3 1184.54 1765.3 Q1188.59 1765.3 1190.79 1768.14 Q1192.99 1770.97 1192.99 1776.2 L1192.99 1791.85 L1188.71 1791.85 L1188.71 1776.34 Q1188.71 1772.61 1187.39 1770.81 Q1186.07 1769 1183.36 1769 Q1180.05 1769 1178.13 1771.2 Q1176.21 1773.4 1176.21 1777.19 L1176.21 1791.85 L1171.93 1791.85 L1171.93 1776.34 Q1171.93 1772.59 1170.61 1770.81 Q1169.29 1769 1166.53 1769 Q1163.27 1769 1161.35 1771.22 Q1159.43 1773.42 1159.43 1777.19 L1159.43 1791.85 L1155.15 1791.85 L1155.15 1765.92 L1159.43 1765.92 L1159.43 1769.95 Q1160.89 1767.56 1162.92 1766.43 Q1164.96 1765.3 1167.76 1765.3 Q1170.59 1765.3 1172.55 1766.73 Q1174.54 1768.17 1175.49 1770.9 Z\" fill=\"#000000\" fill-rule=\"evenodd\" fill-opacity=\"1\" /><path clip-path=\"url(#clip6700)\" d=\"M 0 0 M1219.64 1777.82 L1219.64 1779.9 L1200.05 1779.9 Q1200.33 1784.3 1202.69 1786.62 Q1205.08 1788.91 1209.31 1788.91 Q1211.77 1788.91 1214.06 1788.31 Q1216.37 1787.7 1218.64 1786.5 L1218.64 1790.53 Q1216.35 1791.5 1213.94 1792.01 Q1211.53 1792.52 1209.06 1792.52 Q1202.85 1792.52 1199.22 1788.91 Q1195.61 1785.3 1195.61 1779.14 Q1195.61 1772.77 1199.03 1769.05 Q1202.48 1765.3 1208.32 1765.3 Q1213.55 1765.3 1216.58 1768.68 Q1219.64 1772.03 1219.64 1777.82 M1215.38 1776.57 Q1215.33 1773.07 1213.41 1770.99 Q1211.51 1768.91 1208.36 1768.91 Q1204.8 1768.91 1202.65 1770.92 Q1200.52 1772.94 1200.19 1776.59 L1215.38 1776.57 Z\" fill=\"#000000\" fill-rule=\"evenodd\" fill-opacity=\"1\" /><path clip-path=\"url(#clip6700)\" d=\"M 0 0 M1245.65 1776.2 L1245.65 1791.85 L1241.4 1791.85 L1241.4 1776.34 Q1241.4 1772.66 1239.96 1770.83 Q1238.52 1769 1235.65 1769 Q1232.21 1769 1230.21 1771.2 Q1228.22 1773.4 1228.22 1777.19 L1228.22 1791.85 L1223.94 1791.85 L1223.94 1765.92 L1228.22 1765.92 L1228.22 1769.95 Q1229.75 1767.61 1231.81 1766.45 Q1233.9 1765.3 1236.6 1765.3 Q1241.07 1765.3 1243.36 1768.07 Q1245.65 1770.83 1245.65 1776.2 Z\" fill=\"#000000\" fill-rule=\"evenodd\" fill-opacity=\"1\" /><path clip-path=\"url(#clip6700)\" d=\"M 0 0 M1254.33 1758.56 L1254.33 1765.92 L1263.11 1765.92 L1263.11 1769.23 L1254.33 1769.23 L1254.33 1783.31 Q1254.33 1786.48 1255.19 1787.38 Q1256.07 1788.28 1258.73 1788.28 L1263.11 1788.28 L1263.11 1791.85 L1258.73 1791.85 Q1253.8 1791.85 1251.93 1790.02 Q1250.05 1788.17 1250.05 1783.31 L1250.05 1769.23 L1246.93 1769.23 L1246.93 1765.92 L1250.05 1765.92 L1250.05 1758.56 L1254.33 1758.56 Z\" fill=\"#000000\" fill-rule=\"evenodd\" fill-opacity=\"1\" /><path clip-path=\"url(#clip6700)\" d=\"M 0 0 M1280.49 1776.96 L1292.97 1776.96 L1292.97 1780.76 L1280.49 1780.76 L1280.49 1776.96 Z\" fill=\"#000000\" fill-rule=\"evenodd\" fill-opacity=\"1\" /><path clip-path=\"url(#clip6700)\" d=\"M 0 0 M1298.18 1791.13 L1298.18 1786.87 Q1299.94 1787.7 1301.74 1788.14 Q1303.55 1788.58 1305.28 1788.58 Q1309.91 1788.58 1312.34 1785.48 Q1314.8 1782.36 1315.14 1776.01 Q1313.8 1778 1311.74 1779.07 Q1309.68 1780.13 1307.18 1780.13 Q1302 1780.13 1298.96 1777.01 Q1295.95 1773.86 1295.95 1768.42 Q1295.95 1763.1 1299.1 1759.88 Q1302.25 1756.66 1307.48 1756.66 Q1313.48 1756.66 1316.63 1761.27 Q1319.8 1765.85 1319.8 1774.6 Q1319.8 1782.77 1315.91 1787.66 Q1312.04 1792.52 1305.49 1792.52 Q1303.73 1792.52 1301.93 1792.17 Q1300.12 1791.82 1298.18 1791.13 M1307.48 1776.48 Q1310.63 1776.48 1312.46 1774.32 Q1314.31 1772.17 1314.31 1768.42 Q1314.31 1764.69 1312.46 1762.54 Q1310.63 1760.37 1307.48 1760.37 Q1304.33 1760.37 1302.48 1762.54 Q1300.65 1764.69 1300.65 1768.42 Q1300.65 1772.17 1302.48 1774.32 Q1304.33 1776.48 1307.48 1776.48 Z\" fill=\"#000000\" fill-rule=\"evenodd\" fill-opacity=\"1\" /><path clip-path=\"url(#clip6700)\" d=\"M 0 0 M1334.87 1760.37 Q1331.26 1760.37 1329.43 1763.93 Q1327.62 1767.47 1327.62 1774.6 Q1327.62 1781.71 1329.43 1785.27 Q1331.26 1788.81 1334.87 1788.81 Q1338.5 1788.81 1340.31 1785.27 Q1342.14 1781.71 1342.14 1774.6 Q1342.14 1767.47 1340.31 1763.93 Q1338.5 1760.37 1334.87 1760.37 M1334.87 1756.66 Q1340.68 1756.66 1343.73 1761.27 Q1346.81 1765.85 1346.81 1774.6 Q1346.81 1783.33 1343.73 1787.94 Q1340.68 1792.52 1334.87 1792.52 Q1329.06 1792.52 1325.98 1787.94 Q1322.92 1783.33 1322.92 1774.6 Q1322.92 1765.85 1325.98 1761.27 Q1329.06 1756.66 1334.87 1756.66 Z\" fill=\"#000000\" fill-rule=\"evenodd\" fill-opacity=\"1\" /></svg>\n"
      ]
     },
     "execution_count": 92,
     "metadata": {},
     "output_type": "execute_result"
    }
   ],
   "source": [
    "periods = df2[:,1] # all rows, first column\n",
    "println(periods[begin], \" to \", periods[end])\n",
    "gr()\n",
    "plot(periods, \n",
    "    title=\"ISM Manufacturing\",\n",
    "    [df1[:,2]  df2[:,2] df3[:,2]], \n",
    "    label    = [\"employment\" \"PMI\" \"employment -90\"],\n",
    "    legend    =:bottomleft, # :right, :left, :top, :bottom, :inside, :best, :legend, :topright, :topleft, :bottomleft, :bottomright\n",
    "    xlabel   = \"time\",\n",
    "    ylabel   = \"indicators\",\n",
    "    size     = (1750, 600), # width, height\n",
    "    layout = (1, 1) # number of seperate plots VERTICALLY, HORIZONTALLY\n",
    "    )"
   ]
  },
  {
   "cell_type": "markdown",
   "metadata": {},
   "source": [
    "# Extract Data"
   ]
  },
  {
   "cell_type": "code",
   "execution_count": null,
   "metadata": {},
   "outputs": [],
   "source": [
    "# rotate the matrix (switch columns to rows) - does not work on DataFrame)\n",
    "# data = data' "
   ]
  },
  {
   "cell_type": "markdown",
   "metadata": {},
   "source": [
    "## Extract Independent Variables (i.e. features)"
   ]
  },
  {
   "cell_type": "code",
   "execution_count": null,
   "metadata": {},
   "outputs": [],
   "source": [
    "x = rawdata[1:13,:]     # independent variables: all rows before last"
   ]
  },
  {
   "cell_type": "markdown",
   "metadata": {},
   "source": [
    "## Extract Dependent Variable (i.e. price)"
   ]
  },
  {
   "cell_type": "code",
   "execution_count": null,
   "metadata": {},
   "outputs": [],
   "source": [
    "y = rawdata[14:14,:]          # Dependent Variable (price) last ROW"
   ]
  },
  {
   "cell_type": "markdown",
   "metadata": {},
   "source": [
    "# Normalize the data"
   ]
  },
  {
   "cell_type": "markdown",
   "metadata": {},
   "source": [
    "## Show mean() values \n",
    "\n",
    "Calculate mean values for each feature in the 2-dimentional matrix."
   ]
  },
  {
   "cell_type": "code",
   "execution_count": null,
   "metadata": {},
   "outputs": [],
   "source": [
    "mean(x, dims = 2)"
   ]
  },
  {
   "cell_type": "markdown",
   "metadata": {},
   "source": [
    "## Show std() values \n",
    "\n",
    "Calculate sample standard deviation (STD).\n",
    "\n",
    "- https://docs.julialang.org/en/v1/stdlib/Statistics/"
   ]
  },
  {
   "cell_type": "code",
   "execution_count": null,
   "metadata": {},
   "outputs": [],
   "source": [
    "std(x, dims = 2) "
   ]
  },
  {
   "cell_type": "markdown",
   "metadata": {},
   "source": [
    "## Normalize the independent variables"
   ]
  },
  {
   "cell_type": "code",
   "execution_count": null,
   "metadata": {},
   "outputs": [],
   "source": [
    "x = (x .- mean(x, dims = 2)) ./ std(x, dims = 2) # math on 13× Arrays"
   ]
  },
  {
   "cell_type": "code",
   "execution_count": null,
   "metadata": {},
   "outputs": [],
   "source": [
    "records = size(x,2) # number of columns"
   ]
  },
  {
   "cell_type": "code",
   "execution_count": null,
   "metadata": {},
   "outputs": [],
   "source": [
    "args = Hyperparams()"
   ]
  },
  {
   "cell_type": "code",
   "execution_count": null,
   "metadata": {},
   "outputs": [],
   "source": [
    "split_ratio = args.split_ratio\n",
    "\n",
    "split_index = floor(Int, records * split_ratio)"
   ]
  },
  {
   "cell_type": "code",
   "execution_count": null,
   "metadata": {},
   "outputs": [],
   "source": [
    "x_train = x[:,1:split_index]           # training features\n",
    "y_train = y[:,1:split_index]           # training results\n",
    "x_test = x[:,split_index+1:records]  # testing features\n",
    "y_test = y[:,split_index+1:records]  # testing results"
   ]
  },
  {
   "cell_type": "code",
   "execution_count": null,
   "metadata": {},
   "outputs": [],
   "source": [
    "train_data = (x_train, y_train) # tuples\n",
    "test_data = (x_test, y_test)\n",
    "size(test_data[1])"
   ]
  },
  {
   "cell_type": "code",
   "execution_count": null,
   "metadata": {},
   "outputs": [],
   "source": [
    "function get_processed_data(args) # expects struct Hyperparams\n",
    "\n",
    "    isfile(\"housing.data\") ||\n",
    "        download(\n",
    "            \"https://raw.githubusercontent.com/MikeInnes/notebooks/master/housing.data\",\n",
    "            \"housing.data\")\n",
    "\n",
    "    rawdata = readdlm(\"housing.data\")'\n",
    "\n",
    "    # The last feature is our target -- the price of the house.\n",
    "    split_ratio = args.split_ratio # For the train/test split\n",
    "\n",
    "    x = rawdata[1:13,:]\n",
    "    y = rawdata[14:14,:]\n",
    "\n",
    "    # Normalise the data\n",
    "    x = (x .- mean(x, dims = 2)) ./ std(x, dims = 2)\n",
    "\n",
    "    # Split into train and test sets\n",
    "    split_index = floor(Int,size(x,2)*split_ratio)\n",
    "    x_train = x[:,1:split_index]\n",
    "    y_train = y[:,1:split_index]\n",
    "    x_test = x[:,split_index+1:size(x,2)]\n",
    "    y_test = y[:,split_index+1:size(x,2)]\n",
    "\n",
    "    train_data = (x_train, y_train)\n",
    "    test_data = (x_test, y_test)\n",
    "\n",
    "    return train_data,test_data\n",
    "end"
   ]
  },
  {
   "cell_type": "code",
   "execution_count": null,
   "metadata": {},
   "outputs": [],
   "source": [
    "# Struct to define model\n",
    "mutable struct model\n",
    "    W::AbstractArray\n",
    "    b::AbstractVector\n",
    "end"
   ]
  },
  {
   "cell_type": "code",
   "execution_count": null,
   "metadata": {},
   "outputs": [],
   "source": [
    "# Function to predict output from given parameters\n",
    "\n",
    "predict(x, m) = m.W*x .+ m.b"
   ]
  },
  {
   "cell_type": "markdown",
   "metadata": {},
   "source": [
    "# Mean Squared Error (MSE)\n",
    "\n",
    "<center><span style=\"font-size:x-large;\" >$ MSE = \\sum \\limits _{i=1} ^{n} {   \\frac{(ŷ_i - y)^2}{n} }$</span></center>"
   ]
  },
  {
   "cell_type": "code",
   "execution_count": null,
   "metadata": {},
   "outputs": [],
   "source": [
    "n = size(y, 2) # e.g. 505 columns\n",
    "\n",
    "# Mean Squared Error\n",
    "meansquarederror(ŷ, y) = sum((ŷ .- y).^2)/n"
   ]
  },
  {
   "cell_type": "code",
   "execution_count": null,
   "metadata": {},
   "outputs": [],
   "source": [
    "function train(; kws...)\n",
    "    # Initialize the Hyperparamters\n",
    "    args = Hyperparams(; kws...)\n",
    "    \n",
    "    # Load the data\n",
    "    (x_train,y_train),(x_test,y_test) = get_processed_data(args)\n",
    "    \n",
    "    test_data = (x_test,y_test)\n",
    "    \n",
    "    # The model\n",
    "    m = model((randn(1,13)),[0.])\n",
    "    \n",
    "    loss(x, y) = meansquarederror(predict(x, m), y)\n",
    "\n",
    "    ## Training\n",
    "    η = args.learning_rate\n",
    "    θ = params([m.W, m.b])\n",
    "\n",
    "    for i = 1:1000\n",
    "      g = gradient(() -> loss(x_train, y_train), θ)\n",
    "      for x in θ\n",
    "        update!(x, -g[x]*η)\n",
    "      end\n",
    "      if i%100==0\n",
    "          @show loss(x_train, y_train)\n",
    "        end\n",
    "    end\n",
    "    \n",
    "    # Predict the RMSE on the test set\n",
    "    err = meansquarederror(predict(x_test, m),y_test)\n",
    "    println(\"error: \", err)\n",
    "    return m , test_data# model\n",
    "end"
   ]
  },
  {
   "cell_type": "code",
   "execution_count": null,
   "metadata": {},
   "outputs": [],
   "source": [
    "cd(@__DIR__)\n",
    "resulting_model, test_data = train()\n",
    "resulting_model.W"
   ]
  },
  {
   "cell_type": "code",
   "execution_count": null,
   "metadata": {},
   "outputs": [],
   "source": [
    "resulting_model.b"
   ]
  },
  {
   "cell_type": "code",
   "execution_count": null,
   "metadata": {},
   "outputs": [],
   "source": [
    "function test(model, test)\n",
    "    # Testing model performance on test data \n",
    "    X_test, y_test = test\n",
    "    #accuracy_score = accuracy(X_test, y_test, model)\n",
    "\n",
    "    #println(\"\\nAccuracy: $accuracy_score\")\n",
    "\n",
    "    # Sanity check.\n",
    "    #@assert accuracy_score > 0.8\n",
    "\n",
    "    # To avoid confusion, here is the definition of a Confusion Matrix: https://en.wikipedia.org/wiki/Confusion_matrix\n",
    "    println(\"\\nConfusion Matrix:\\n\")\n",
    "    #display(confusion_matrix(X_test, y_test, model))\n",
    "end"
   ]
  },
  {
   "cell_type": "code",
   "execution_count": null,
   "metadata": {},
   "outputs": [],
   "source": [
    "test(model, test_data)\n",
    "features = test_data[1]"
   ]
  },
  {
   "cell_type": "code",
   "execution_count": null,
   "metadata": {},
   "outputs": [],
   "source": [
    "one_record = features[:,1]"
   ]
  },
  {
   "cell_type": "code",
   "execution_count": null,
   "metadata": {},
   "outputs": [],
   "source": [
    "results = test_data[1][1,:]"
   ]
  },
  {
   "cell_type": "code",
   "execution_count": null,
   "metadata": {},
   "outputs": [],
   "source": [
    "records = size(results)[1]"
   ]
  },
  {
   "cell_type": "code",
   "execution_count": null,
   "metadata": {},
   "outputs": [],
   "source": [
    "get_price(data, model) = model.W * data .+ model.b"
   ]
  },
  {
   "cell_type": "code",
   "execution_count": null,
   "metadata": {},
   "outputs": [],
   "source": [
    "get_price(one_record, resulting_model)"
   ]
  },
  {
   "cell_type": "code",
   "execution_count": null,
   "metadata": {},
   "outputs": [],
   "source": [
    "for i in 1:records # 455\n",
    "    record = features[:,i] # 13-element Array{Float64,1}:\n",
    "    result = get_price(record, resulting_model)\n",
    "    println(i, \" \", result, \" =? \", results[1])\n",
    "end"
   ]
  },
  {
   "cell_type": "code",
   "execution_count": null,
   "metadata": {},
   "outputs": [],
   "source": []
  },
  {
   "cell_type": "code",
   "execution_count": null,
   "metadata": {},
   "outputs": [],
   "source": []
  }
 ],
 "metadata": {
  "kernelspec": {
   "display_name": "Julia 1.4.2",
   "language": "julia",
   "name": "julia-1.4"
  },
  "language_info": {
   "file_extension": ".jl",
   "mimetype": "application/julia",
   "name": "julia",
   "version": "1.4.2"
  },
  "toc": {
   "base_numbering": 1,
   "nav_menu": {},
   "number_sections": true,
   "sideBar": true,
   "skip_h1_title": false,
   "title_cell": "Table of Contents",
   "title_sidebar": "Contents",
   "toc_cell": true,
   "toc_position": {},
   "toc_section_display": true,
   "toc_window_display": true
  }
 },
 "nbformat": 4,
 "nbformat_minor": 4
}
