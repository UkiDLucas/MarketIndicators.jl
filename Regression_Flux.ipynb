{
 "cells": [
  {
   "cell_type": "markdown",
   "metadata": {},
   "source": [
    "# Market prediction using Flux.jl"
   ]
  },
  {
   "cell_type": "markdown",
   "metadata": {
    "toc": true
   },
   "source": [
    "<h1>Table of Contents<span class=\"tocSkip\"></span></h1>\n",
    "<div class=\"toc\"><ul class=\"toc-item\"><li><span><a href=\"#Market-prediction-using-Flux.jl\" data-toc-modified-id=\"Market-prediction-using-Flux.jl-1\"><span class=\"toc-item-num\">1&nbsp;&nbsp;</span>Market prediction using Flux.jl</a></span><ul class=\"toc-item\"><li><span><a href=\"#Libraries-used-in-this-notebook\" data-toc-modified-id=\"Libraries-used-in-this-notebook-1.1\"><span class=\"toc-item-num\">1.1&nbsp;&nbsp;</span>Libraries used in this notebook</a></span></li></ul></li><li><span><a href=\"#Define-Hyperparameters\" data-toc-modified-id=\"Define-Hyperparameters-2\"><span class=\"toc-item-num\">2&nbsp;&nbsp;</span>Define Hyperparameters</a></span></li><li><span><a href=\"#Load--Data\" data-toc-modified-id=\"Load--Data-3\"><span class=\"toc-item-num\">3&nbsp;&nbsp;</span>Load  Data</a></span><ul class=\"toc-item\"><li><span><a href=\"#Define-Fetch-Data-function\" data-toc-modified-id=\"Define-Fetch-Data-function-3.1\"><span class=\"toc-item-num\">3.1&nbsp;&nbsp;</span>Define Fetch Data function</a></span></li><li><span><a href=\"#ISM-Manufacturing-Employment\" data-toc-modified-id=\"ISM-Manufacturing-Employment-3.2\"><span class=\"toc-item-num\">3.2&nbsp;&nbsp;</span>ISM Manufacturing Employment</a></span></li><li><span><a href=\"#Markit---Manufacturing-PMI\" data-toc-modified-id=\"Markit---Manufacturing-PMI-3.3\"><span class=\"toc-item-num\">3.3&nbsp;&nbsp;</span>Markit - Manufacturing PMI</a></span></li></ul></li><li><span><a href=\"#Visualize-Data\" data-toc-modified-id=\"Visualize-Data-4\"><span class=\"toc-item-num\">4&nbsp;&nbsp;</span>Visualize Data</a></span><ul class=\"toc-item\"><li><span><a href=\"#Prepare-x-axist-data-(time-periods)\" data-toc-modified-id=\"Prepare-x-axist-data-(time-periods)-4.1\"><span class=\"toc-item-num\">4.1&nbsp;&nbsp;</span>Prepare x-axist data (time periods)</a></span></li><li><span><a href=\"#Plotting-Data\" data-toc-modified-id=\"Plotting-Data-4.2\"><span class=\"toc-item-num\">4.2&nbsp;&nbsp;</span>Plotting Data</a></span></li></ul></li><li><span><a href=\"#Extract-Data\" data-toc-modified-id=\"Extract-Data-5\"><span class=\"toc-item-num\">5&nbsp;&nbsp;</span>Extract Data</a></span><ul class=\"toc-item\"><li><span><a href=\"#Extract-Independent-Variables-(i.e.-features)\" data-toc-modified-id=\"Extract-Independent-Variables-(i.e.-features)-5.1\"><span class=\"toc-item-num\">5.1&nbsp;&nbsp;</span>Extract Independent Variables (i.e. features)</a></span></li><li><span><a href=\"#Extract-Dependent-Variable-(i.e.-price)\" data-toc-modified-id=\"Extract-Dependent-Variable-(i.e.-price)-5.2\"><span class=\"toc-item-num\">5.2&nbsp;&nbsp;</span>Extract Dependent Variable (i.e. price)</a></span></li></ul></li><li><span><a href=\"#Normalize-the-data\" data-toc-modified-id=\"Normalize-the-data-6\"><span class=\"toc-item-num\">6&nbsp;&nbsp;</span>Normalize the data</a></span><ul class=\"toc-item\"><li><span><a href=\"#Show-mean()-values\" data-toc-modified-id=\"Show-mean()-values-6.1\"><span class=\"toc-item-num\">6.1&nbsp;&nbsp;</span>Show mean() values</a></span></li><li><span><a href=\"#Show-std()-values\" data-toc-modified-id=\"Show-std()-values-6.2\"><span class=\"toc-item-num\">6.2&nbsp;&nbsp;</span>Show std() values</a></span></li><li><span><a href=\"#Normalize-the-independent-variables\" data-toc-modified-id=\"Normalize-the-independent-variables-6.3\"><span class=\"toc-item-num\">6.3&nbsp;&nbsp;</span>Normalize the independent variables</a></span></li></ul></li><li><span><a href=\"#Mean-Squared-Error-(MSE)\" data-toc-modified-id=\"Mean-Squared-Error-(MSE)-7\"><span class=\"toc-item-num\">7&nbsp;&nbsp;</span>Mean Squared Error (MSE)</a></span></li></ul></div>"
   ]
  },
  {
   "cell_type": "markdown",
   "metadata": {},
   "source": [
    "## Libraries used in this notebook\n",
    "\n",
    "Uncomment the lines below if you are missing given libraries, or you want to update to the newest version.\n",
    "Warning: the updates will take time and will require pre-compiling."
   ]
  },
  {
   "cell_type": "code",
   "execution_count": 1,
   "metadata": {},
   "outputs": [],
   "source": [
    "import Pkg; \n",
    "\n",
    "# Pkg.add(\"Flux\")\n",
    "using Flux\n",
    "\n",
    "# Pkg.add(\"DelimitedFiles\")\n",
    "using DelimitedFiles\n",
    "\n",
    "#Pkg.add(\"Statistics\")\n",
    "using Statistics\n",
    "\n",
    "# Pkg.add(\"Flux\")\n",
    "using Flux.Optimise: update!\n",
    "\n",
    "# Pkg.add(\"Parameters\")\n",
    "using Parameters #: @with_kw\n",
    "\n",
    "\n",
    "#Pkg.add(\"Plots\")\n",
    "using Plots\n",
    "\n",
    "#Pkg.add(\"DataFrames\")\n",
    "using DataFrames\n",
    "\n",
    "#Pkg.add(\"CSV\")\n",
    "using DataFrames, CSV, Dates, Plots\n",
    "\n",
    "#Pkg.add(\"Dates\")\n",
    "using Dates"
   ]
  },
  {
   "cell_type": "code",
   "execution_count": 2,
   "metadata": {},
   "outputs": [
    {
     "name": "stdout",
     "output_type": "stream",
     "text": [
      "Last update: Sep. 2, 2020 21:09\n"
     ]
    }
   ],
   "source": [
    " println( \"Last update: \", Dates.format(Dates.now(), \"u. d, yyyy HH:mm\"))"
   ]
  },
  {
   "cell_type": "markdown",
   "metadata": {},
   "source": [
    "# Define Hyperparameters"
   ]
  },
  {
   "cell_type": "code",
   "execution_count": 3,
   "metadata": {},
   "outputs": [
    {
     "data": {
      "text/plain": [
       "\"data/united-states.markit-manufacturing-pmi.csv\""
      ]
     },
     "execution_count": 3,
     "metadata": {},
     "output_type": "execute_result"
    }
   ],
   "source": [
    "# Struct to define hyperparameters\n",
    "\n",
    "@with_kw mutable struct Hyperparams\n",
    "    learning_rate::Float64 = 0.1       # learning rate\n",
    "    split_ratio::Float64 = 0.1         # train/test split ratio 0.1 => 90/10\n",
    "end\n",
    "file_ISM_Mfc_Emp = \"data/united-states.ism-manufacturing-employment.csv\"\n",
    "file_Markkit_Mfc_PMI = \"data/united-states.markit-manufacturing-pmi.csv\""
   ]
  },
  {
   "cell_type": "markdown",
   "metadata": {},
   "source": [
    "# Load  Data\n",
    "\n",
    "\n",
    "\n",
    "## Define Fetch Data function\n",
    "\n",
    "In the future I expect to have large data sets that are too big for the GitHub,\n",
    "so I am planning for the separate downlod location i.e. [Google Drive](https://drive.google.com/drive/folders/1_cPeoIdjw-e-1llean_2OPd3HJi9-Hvc?usp=sharing), etc."
   ]
  },
  {
   "cell_type": "code",
   "execution_count": 4,
   "metadata": {},
   "outputs": [
    {
     "data": {
      "text/plain": [
       "fetch_data (generic function with 1 method)"
      ]
     },
     "execution_count": 4,
     "metadata": {},
     "output_type": "execute_result"
    }
   ],
   "source": [
    "function fetch_data(file_path)\n",
    "    isfile(file_path) || # does file exist locally?\n",
    "        download( string(\"https://raw.githubusercontent.com/UkiDLucas/MarketIndicators.jl/master/\", file_path), # URL\n",
    "        file_path) # save it as name\n",
    "    \n",
    "    return CSV.read(file_path) # returnd DataFrame\n",
    "end"
   ]
  },
  {
   "cell_type": "markdown",
   "metadata": {},
   "source": [
    "## ISM Manufacturing Employment"
   ]
  },
  {
   "cell_type": "code",
   "execution_count": 5,
   "metadata": {},
   "outputs": [
    {
     "name": "stderr",
     "output_type": "stream",
     "text": [
      "┌ Warning: `CSV.read(input; kw...)` is deprecated in favor of `using DataFrames; CSV.read(input, DataFrame; kw...)\n",
      "│   caller = read at CSV.jl:40 [inlined]\n",
      "└ @ Core /Users/uki/.julia/packages/CSV/MKemC/src/CSV.jl:40\n"
     ]
    },
    {
     "data": {
      "text/html": [
       "<table class=\"data-frame\"><thead><tr><th></th><th>Date</th><th>ActualValue</th><th>ForecastValue</th><th>PreviousValue</th></tr><tr><th></th><th>String</th><th>Float64</th><th>Float64?</th><th>Float64?</th></tr></thead><tbody><p>82 rows × 4 columns</p><tr><th>1</th><td>2020.08.03</td><td>44.3</td><td>34.4</td><td>42.1</td></tr><tr><th>2</th><td>2020.07.01</td><td>42.1</td><td>38.1</td><td>32.1</td></tr><tr><th>3</th><td>2020.06.01</td><td>32.1</td><td>34.1</td><td>27.5</td></tr><tr><th>4</th><td>2020.05.01</td><td>27.5</td><td>44.8</td><td>43.8</td></tr><tr><th>5</th><td>2020.04.01</td><td>43.8</td><td>45.4</td><td>46.9</td></tr><tr><th>6</th><td>2020.03.02</td><td>46.9</td><td>43.9</td><td>46.6</td></tr><tr><th>7</th><td>2020.02.03</td><td>46.6</td><td>43.3</td><td>45.2</td></tr><tr><th>8</th><td>2020.01.03</td><td>45.1</td><td>53.5</td><td>46.6</td></tr><tr><th>9</th><td>2019.12.02</td><td>46.6</td><td>54.3</td><td>47.7</td></tr><tr><th>10</th><td>2019.11.01</td><td>47.7</td><td>54.7</td><td>46.3</td></tr><tr><th>11</th><td>2019.10.01</td><td>46.3</td><td>55.3</td><td>47.4</td></tr><tr><th>12</th><td>2019.09.03</td><td>47.4</td><td>56.0</td><td>51.7</td></tr><tr><th>13</th><td>2019.08.01</td><td>51.7</td><td>53.7</td><td>54.5</td></tr><tr><th>14</th><td>2019.07.01</td><td>54.5</td><td>54.1</td><td>53.7</td></tr><tr><th>15</th><td>2019.06.03</td><td>53.7</td><td>52.8</td><td>52.4</td></tr><tr><th>16</th><td>2019.05.01</td><td>52.4</td><td>56.7</td><td>57.5</td></tr><tr><th>17</th><td>2019.04.01</td><td>57.5</td><td>57.3</td><td>52.3</td></tr><tr><th>18</th><td>2019.03.01</td><td>52.3</td><td>57.8</td><td>55.5</td></tr><tr><th>19</th><td>2019.02.01</td><td>55.5</td><td>57.5</td><td>56.0</td></tr><tr><th>20</th><td>2019.01.03</td><td>56.2</td><td>58.1</td><td>58.4</td></tr><tr><th>21</th><td>2018.12.03</td><td>58.4</td><td>57.2</td><td>56.8</td></tr><tr><th>22</th><td>2018.11.01</td><td>56.8</td><td>56.9</td><td>58.8</td></tr><tr><th>23</th><td>2018.10.01</td><td>58.8</td><td>56.9</td><td>58.5</td></tr><tr><th>24</th><td>2018.09.04</td><td>58.5</td><td>56.3</td><td>56.5</td></tr><tr><th>25</th><td>2018.08.01</td><td>56.5</td><td>56.2</td><td>56.0</td></tr><tr><th>26</th><td>2018.07.02</td><td>56.0</td><td>55.3</td><td>56.3</td></tr><tr><th>27</th><td>2018.06.01</td><td>56.3</td><td>55.8</td><td>54.2</td></tr><tr><th>28</th><td>2018.05.01</td><td>54.2</td><td>58.6</td><td>57.3</td></tr><tr><th>29</th><td>2018.04.02</td><td>57.3</td><td>57.2</td><td>59.7</td></tr><tr><th>30</th><td>2018.03.01</td><td>59.7</td><td>55.9</td><td>54.2</td></tr><tr><th>&vellip;</th><td>&vellip;</td><td>&vellip;</td><td>&vellip;</td><td>&vellip;</td></tr></tbody></table>"
      ],
      "text/latex": [
       "\\begin{tabular}{r|cccc}\n",
       "\t& Date & ActualValue & ForecastValue & PreviousValue\\\\\n",
       "\t\\hline\n",
       "\t& String & Float64 & Float64? & Float64?\\\\\n",
       "\t\\hline\n",
       "\t1 & 2020.08.03 & 44.3 & 34.4 & 42.1 \\\\\n",
       "\t2 & 2020.07.01 & 42.1 & 38.1 & 32.1 \\\\\n",
       "\t3 & 2020.06.01 & 32.1 & 34.1 & 27.5 \\\\\n",
       "\t4 & 2020.05.01 & 27.5 & 44.8 & 43.8 \\\\\n",
       "\t5 & 2020.04.01 & 43.8 & 45.4 & 46.9 \\\\\n",
       "\t6 & 2020.03.02 & 46.9 & 43.9 & 46.6 \\\\\n",
       "\t7 & 2020.02.03 & 46.6 & 43.3 & 45.2 \\\\\n",
       "\t8 & 2020.01.03 & 45.1 & 53.5 & 46.6 \\\\\n",
       "\t9 & 2019.12.02 & 46.6 & 54.3 & 47.7 \\\\\n",
       "\t10 & 2019.11.01 & 47.7 & 54.7 & 46.3 \\\\\n",
       "\t11 & 2019.10.01 & 46.3 & 55.3 & 47.4 \\\\\n",
       "\t12 & 2019.09.03 & 47.4 & 56.0 & 51.7 \\\\\n",
       "\t13 & 2019.08.01 & 51.7 & 53.7 & 54.5 \\\\\n",
       "\t14 & 2019.07.01 & 54.5 & 54.1 & 53.7 \\\\\n",
       "\t15 & 2019.06.03 & 53.7 & 52.8 & 52.4 \\\\\n",
       "\t16 & 2019.05.01 & 52.4 & 56.7 & 57.5 \\\\\n",
       "\t17 & 2019.04.01 & 57.5 & 57.3 & 52.3 \\\\\n",
       "\t18 & 2019.03.01 & 52.3 & 57.8 & 55.5 \\\\\n",
       "\t19 & 2019.02.01 & 55.5 & 57.5 & 56.0 \\\\\n",
       "\t20 & 2019.01.03 & 56.2 & 58.1 & 58.4 \\\\\n",
       "\t21 & 2018.12.03 & 58.4 & 57.2 & 56.8 \\\\\n",
       "\t22 & 2018.11.01 & 56.8 & 56.9 & 58.8 \\\\\n",
       "\t23 & 2018.10.01 & 58.8 & 56.9 & 58.5 \\\\\n",
       "\t24 & 2018.09.04 & 58.5 & 56.3 & 56.5 \\\\\n",
       "\t25 & 2018.08.01 & 56.5 & 56.2 & 56.0 \\\\\n",
       "\t26 & 2018.07.02 & 56.0 & 55.3 & 56.3 \\\\\n",
       "\t27 & 2018.06.01 & 56.3 & 55.8 & 54.2 \\\\\n",
       "\t28 & 2018.05.01 & 54.2 & 58.6 & 57.3 \\\\\n",
       "\t29 & 2018.04.02 & 57.3 & 57.2 & 59.7 \\\\\n",
       "\t30 & 2018.03.01 & 59.7 & 55.9 & 54.2 \\\\\n",
       "\t$\\dots$ & $\\dots$ & $\\dots$ & $\\dots$ & $\\dots$ \\\\\n",
       "\\end{tabular}\n"
      ],
      "text/plain": [
       "82×4 DataFrame\n",
       "│ Row │ Date       │ ActualValue │ ForecastValue │ PreviousValue │\n",
       "│     │ \u001b[90mString\u001b[39m     │ \u001b[90mFloat64\u001b[39m     │ \u001b[90mFloat64?\u001b[39m      │ \u001b[90mFloat64?\u001b[39m      │\n",
       "├─────┼────────────┼─────────────┼───────────────┼───────────────┤\n",
       "│ 1   │ 2020.08.03 │ 44.3        │ 34.4          │ 42.1          │\n",
       "│ 2   │ 2020.07.01 │ 42.1        │ 38.1          │ 32.1          │\n",
       "│ 3   │ 2020.06.01 │ 32.1        │ 34.1          │ 27.5          │\n",
       "│ 4   │ 2020.05.01 │ 27.5        │ 44.8          │ 43.8          │\n",
       "│ 5   │ 2020.04.01 │ 43.8        │ 45.4          │ 46.9          │\n",
       "│ 6   │ 2020.03.02 │ 46.9        │ 43.9          │ 46.6          │\n",
       "│ 7   │ 2020.02.03 │ 46.6        │ 43.3          │ 45.2          │\n",
       "│ 8   │ 2020.01.03 │ 45.1        │ 53.5          │ 46.6          │\n",
       "│ 9   │ 2019.12.02 │ 46.6        │ 54.3          │ 47.7          │\n",
       "│ 10  │ 2019.11.01 │ 47.7        │ 54.7          │ 46.3          │\n",
       "⋮\n",
       "│ 72  │ 2014.09.02 │ 58.1        │ \u001b[90mmissing\u001b[39m       │ 58.2          │\n",
       "│ 73  │ 2014.08.01 │ 58.2        │ \u001b[90mmissing\u001b[39m       │ 52.8          │\n",
       "│ 74  │ 2014.07.01 │ 52.8        │ \u001b[90mmissing\u001b[39m       │ 52.8          │\n",
       "│ 75  │ 2014.06.02 │ 52.8        │ \u001b[90mmissing\u001b[39m       │ 54.7          │\n",
       "│ 76  │ 2014.05.01 │ 54.7        │ \u001b[90mmissing\u001b[39m       │ 51.1          │\n",
       "│ 77  │ 2014.04.01 │ 51.1        │ \u001b[90mmissing\u001b[39m       │ 52.3          │\n",
       "│ 78  │ 2014.03.03 │ 52.3        │ \u001b[90mmissing\u001b[39m       │ 52.3          │\n",
       "│ 79  │ 2014.02.03 │ 52.3        │ \u001b[90mmissing\u001b[39m       │ 56.9          │\n",
       "│ 80  │ 2014.01.02 │ 56.9        │ \u001b[90mmissing\u001b[39m       │ 56.5          │\n",
       "│ 81  │ 2013.12.02 │ 56.5        │ \u001b[90mmissing\u001b[39m       │ 53.2          │\n",
       "│ 82  │ 2013.11.01 │ 53.2        │ \u001b[90mmissing\u001b[39m       │ \u001b[90mmissing\u001b[39m       │"
      ]
     },
     "execution_count": 5,
     "metadata": {},
     "output_type": "execute_result"
    }
   ],
   "source": [
    "df_ISM_Mfc_Emp = fetch_data(file_ISM_Mfc_Emp)"
   ]
  },
  {
   "cell_type": "markdown",
   "metadata": {},
   "source": [
    "## Markit - Manufacturing PMI"
   ]
  },
  {
   "cell_type": "code",
   "execution_count": 6,
   "metadata": {},
   "outputs": [
    {
     "data": {
      "text/html": [
       "<table class=\"data-frame\"><thead><tr><th></th><th>Date</th><th>ActualValue</th><th>ForecastValue</th><th>PreviousValue</th></tr><tr><th></th><th>String</th><th>Float64</th><th>Float64?</th><th>Float64?</th></tr></thead><tbody><p>200 rows × 4 columns</p><tr><th>1</th><td>2020.08.21</td><td>53.6</td><td>51.1</td><td>50.9</td></tr><tr><th>2</th><td>2020.08.03</td><td>50.9</td><td>51.3</td><td>51.3</td></tr><tr><th>3</th><td>2020.07.24</td><td>51.3</td><td>49.7</td><td>49.8</td></tr><tr><th>4</th><td>2020.07.01</td><td>49.8</td><td>49.6</td><td>49.6</td></tr><tr><th>5</th><td>2020.06.23</td><td>49.6</td><td>42.3</td><td>39.8</td></tr><tr><th>6</th><td>2020.06.01</td><td>39.8</td><td>39.8</td><td>39.8</td></tr><tr><th>7</th><td>2020.05.21</td><td>39.8</td><td>37.9</td><td>36.1</td></tr><tr><th>8</th><td>2020.05.01</td><td>36.1</td><td>36.9</td><td>36.9</td></tr><tr><th>9</th><td>2020.04.23</td><td>36.9</td><td>47.5</td><td>48.5</td></tr><tr><th>10</th><td>2020.04.01</td><td>48.5</td><td>49.2</td><td>49.2</td></tr><tr><th>11</th><td>2020.03.24</td><td>49.2</td><td>50.5</td><td>50.7</td></tr><tr><th>12</th><td>2020.03.02</td><td>50.7</td><td>50.8</td><td>50.8</td></tr><tr><th>13</th><td>2020.02.21</td><td>50.8</td><td>50.9</td><td>51.9</td></tr><tr><th>14</th><td>2020.02.03</td><td>51.9</td><td>51.7</td><td>51.7</td></tr><tr><th>15</th><td>2020.01.24</td><td>51.7</td><td>52.3</td><td>52.4</td></tr><tr><th>16</th><td>2020.01.02</td><td>52.4</td><td>52.5</td><td>52.5</td></tr><tr><th>17</th><td>2019.12.16</td><td>52.5</td><td>52.4</td><td>52.6</td></tr><tr><th>18</th><td>2019.12.02</td><td>52.6</td><td>52.2</td><td>52.2</td></tr><tr><th>19</th><td>2019.11.22</td><td>52.2</td><td>51.4</td><td>51.3</td></tr><tr><th>20</th><td>2019.11.01</td><td>51.3</td><td>51.5</td><td>51.5</td></tr><tr><th>21</th><td>2019.10.24</td><td>51.5</td><td>51.0</td><td>51.1</td></tr><tr><th>22</th><td>2019.10.01</td><td>51.1</td><td>51.0</td><td>51.0</td></tr><tr><th>23</th><td>2019.09.23</td><td>51.0</td><td>50.4</td><td>50.3</td></tr><tr><th>24</th><td>2019.09.03</td><td>50.3</td><td>49.9</td><td>49.9</td></tr><tr><th>25</th><td>2019.08.22</td><td>49.9</td><td>50.2</td><td>50.4</td></tr><tr><th>26</th><td>2019.08.01</td><td>50.4</td><td>50.0</td><td>50.0</td></tr><tr><th>27</th><td>2019.07.24</td><td>50.0</td><td>50.3</td><td>50.6</td></tr><tr><th>28</th><td>2019.07.01</td><td>50.6</td><td>50.1</td><td>50.1</td></tr><tr><th>29</th><td>2019.06.21</td><td>50.1</td><td>51.0</td><td>50.5</td></tr><tr><th>30</th><td>2019.06.03</td><td>50.5</td><td>50.6</td><td>50.6</td></tr><tr><th>&vellip;</th><td>&vellip;</td><td>&vellip;</td><td>&vellip;</td><td>&vellip;</td></tr></tbody></table>"
      ],
      "text/latex": [
       "\\begin{tabular}{r|cccc}\n",
       "\t& Date & ActualValue & ForecastValue & PreviousValue\\\\\n",
       "\t\\hline\n",
       "\t& String & Float64 & Float64? & Float64?\\\\\n",
       "\t\\hline\n",
       "\t1 & 2020.08.21 & 53.6 & 51.1 & 50.9 \\\\\n",
       "\t2 & 2020.08.03 & 50.9 & 51.3 & 51.3 \\\\\n",
       "\t3 & 2020.07.24 & 51.3 & 49.7 & 49.8 \\\\\n",
       "\t4 & 2020.07.01 & 49.8 & 49.6 & 49.6 \\\\\n",
       "\t5 & 2020.06.23 & 49.6 & 42.3 & 39.8 \\\\\n",
       "\t6 & 2020.06.01 & 39.8 & 39.8 & 39.8 \\\\\n",
       "\t7 & 2020.05.21 & 39.8 & 37.9 & 36.1 \\\\\n",
       "\t8 & 2020.05.01 & 36.1 & 36.9 & 36.9 \\\\\n",
       "\t9 & 2020.04.23 & 36.9 & 47.5 & 48.5 \\\\\n",
       "\t10 & 2020.04.01 & 48.5 & 49.2 & 49.2 \\\\\n",
       "\t11 & 2020.03.24 & 49.2 & 50.5 & 50.7 \\\\\n",
       "\t12 & 2020.03.02 & 50.7 & 50.8 & 50.8 \\\\\n",
       "\t13 & 2020.02.21 & 50.8 & 50.9 & 51.9 \\\\\n",
       "\t14 & 2020.02.03 & 51.9 & 51.7 & 51.7 \\\\\n",
       "\t15 & 2020.01.24 & 51.7 & 52.3 & 52.4 \\\\\n",
       "\t16 & 2020.01.02 & 52.4 & 52.5 & 52.5 \\\\\n",
       "\t17 & 2019.12.16 & 52.5 & 52.4 & 52.6 \\\\\n",
       "\t18 & 2019.12.02 & 52.6 & 52.2 & 52.2 \\\\\n",
       "\t19 & 2019.11.22 & 52.2 & 51.4 & 51.3 \\\\\n",
       "\t20 & 2019.11.01 & 51.3 & 51.5 & 51.5 \\\\\n",
       "\t21 & 2019.10.24 & 51.5 & 51.0 & 51.1 \\\\\n",
       "\t22 & 2019.10.01 & 51.1 & 51.0 & 51.0 \\\\\n",
       "\t23 & 2019.09.23 & 51.0 & 50.4 & 50.3 \\\\\n",
       "\t24 & 2019.09.03 & 50.3 & 49.9 & 49.9 \\\\\n",
       "\t25 & 2019.08.22 & 49.9 & 50.2 & 50.4 \\\\\n",
       "\t26 & 2019.08.01 & 50.4 & 50.0 & 50.0 \\\\\n",
       "\t27 & 2019.07.24 & 50.0 & 50.3 & 50.6 \\\\\n",
       "\t28 & 2019.07.01 & 50.6 & 50.1 & 50.1 \\\\\n",
       "\t29 & 2019.06.21 & 50.1 & 51.0 & 50.5 \\\\\n",
       "\t30 & 2019.06.03 & 50.5 & 50.6 & 50.6 \\\\\n",
       "\t$\\dots$ & $\\dots$ & $\\dots$ & $\\dots$ & $\\dots$ \\\\\n",
       "\\end{tabular}\n"
      ],
      "text/plain": [
       "200×4 DataFrame\n",
       "│ Row │ Date       │ ActualValue │ ForecastValue │ PreviousValue │\n",
       "│     │ \u001b[90mString\u001b[39m     │ \u001b[90mFloat64\u001b[39m     │ \u001b[90mFloat64?\u001b[39m      │ \u001b[90mFloat64?\u001b[39m      │\n",
       "├─────┼────────────┼─────────────┼───────────────┼───────────────┤\n",
       "│ 1   │ 2020.08.21 │ 53.6        │ 51.1          │ 50.9          │\n",
       "│ 2   │ 2020.08.03 │ 50.9        │ 51.3          │ 51.3          │\n",
       "│ 3   │ 2020.07.24 │ 51.3        │ 49.7          │ 49.8          │\n",
       "│ 4   │ 2020.07.01 │ 49.8        │ 49.6          │ 49.6          │\n",
       "│ 5   │ 2020.06.23 │ 49.6        │ 42.3          │ 39.8          │\n",
       "│ 6   │ 2020.06.01 │ 39.8        │ 39.8          │ 39.8          │\n",
       "│ 7   │ 2020.05.21 │ 39.8        │ 37.9          │ 36.1          │\n",
       "│ 8   │ 2020.05.01 │ 36.1        │ 36.9          │ 36.9          │\n",
       "│ 9   │ 2020.04.23 │ 36.9        │ 47.5          │ 48.5          │\n",
       "│ 10  │ 2020.04.01 │ 48.5        │ 49.2          │ 49.2          │\n",
       "⋮\n",
       "│ 190 │ 2012.10.01 │ 51.1        │ \u001b[90mmissing\u001b[39m       │ 51.5          │\n",
       "│ 191 │ 2012.09.20 │ 51.5        │ \u001b[90mmissing\u001b[39m       │ 51.5          │\n",
       "│ 192 │ 2012.09.04 │ 51.5        │ \u001b[90mmissing\u001b[39m       │ 51.9          │\n",
       "│ 193 │ 2012.08.23 │ 51.9        │ \u001b[90mmissing\u001b[39m       │ 51.4          │\n",
       "│ 194 │ 2012.08.01 │ 51.4        │ \u001b[90mmissing\u001b[39m       │ 51.8          │\n",
       "│ 195 │ 2012.07.24 │ 51.8        │ \u001b[90mmissing\u001b[39m       │ 52.5          │\n",
       "│ 196 │ 2012.07.02 │ 52.5        │ \u001b[90mmissing\u001b[39m       │ 52.9          │\n",
       "│ 197 │ 2012.06.21 │ 52.9        │ \u001b[90mmissing\u001b[39m       │ 54.0          │\n",
       "│ 198 │ 2012.06.01 │ 54.0        │ \u001b[90mmissing\u001b[39m       │ 53.9          │\n",
       "│ 199 │ 2012.05.24 │ 53.9        │ \u001b[90mmissing\u001b[39m       │ 56.0          │\n",
       "│ 200 │ 2012.04.25 │ 56.0        │ \u001b[90mmissing\u001b[39m       │ \u001b[90mmissing\u001b[39m       │"
      ]
     },
     "execution_count": 6,
     "metadata": {},
     "output_type": "execute_result"
    }
   ],
   "source": [
    "df_Markkit_Mfc_PMI = fetch_data(file_Markkit_Mfc_PMI)"
   ]
  },
  {
   "cell_type": "markdown",
   "metadata": {},
   "source": [
    "# Visualize Data\n",
    "\n",
    "Visualization of the data is important to identify:\n",
    "- possible correlations (patterns)\n",
    "- missing data (e.g. before certain date)\n",
    "- wrong types of data (text vs. numbers, etc.)"
   ]
  },
  {
   "cell_type": "markdown",
   "metadata": {},
   "source": [
    "## Prepare x-axist data (time periods)"
   ]
  },
  {
   "cell_type": "code",
   "execution_count": 7,
   "metadata": {},
   "outputs": [
    {
     "ename": "UndefVarError",
     "evalue": "UndefVarError: data_Markkit_Mfc_PMI not defined",
     "output_type": "error",
     "traceback": [
      "UndefVarError: data_Markkit_Mfc_PMI not defined",
      "",
      "Stacktrace:",
      " [1] top-level scope at In[7]:1"
     ]
    }
   ],
   "source": [
    "periods = data_Markkit_Mfc_PMI[:,1]"
   ]
  },
  {
   "cell_type": "markdown",
   "metadata": {},
   "source": [
    "## Plotting Data"
   ]
  },
  {
   "cell_type": "code",
   "execution_count": 8,
   "metadata": {},
   "outputs": [
    {
     "ename": "UndefVarError",
     "evalue": "UndefVarError: data_Markkit_Mfc_PMI not defined",
     "output_type": "error",
     "traceback": [
      "UndefVarError: data_Markkit_Mfc_PMI not defined",
      "",
      "Stacktrace:",
      " [1] top-level scope at In[8]:2"
     ]
    }
   ],
   "source": [
    "gr()\n",
    "plot(periods, \n",
    "    [data_Markkit_Mfc_PMI[:,2]  data_Markkit_Mfc_PMI[:,3]  ], \n",
    "    label    = [\"original\" \"normalized\"],\n",
    "    legend    =:topleft, # :right, :left, :top, :bottom, :inside, :best, :legend, :topright, :topleft, :bottomleft, :bottomright\n",
    "    xlabel   = \"time\",\n",
    "    ylabel   = \"indicators\",\n",
    "    size     = (1750, 600), # width, height\n",
    "    layout = (2, 1)\n",
    "    )"
   ]
  },
  {
   "cell_type": "markdown",
   "metadata": {},
   "source": [
    "# Extract Data"
   ]
  },
  {
   "cell_type": "code",
   "execution_count": 9,
   "metadata": {},
   "outputs": [],
   "source": [
    "# rotate the matrix (switch columns to rows) - does not work on DataFrame)\n",
    "# data = data' "
   ]
  },
  {
   "cell_type": "markdown",
   "metadata": {},
   "source": [
    "## Extract Independent Variables (i.e. features)"
   ]
  },
  {
   "cell_type": "code",
   "execution_count": 10,
   "metadata": {},
   "outputs": [
    {
     "ename": "UndefVarError",
     "evalue": "UndefVarError: rawdata not defined",
     "output_type": "error",
     "traceback": [
      "UndefVarError: rawdata not defined",
      "",
      "Stacktrace:",
      " [1] top-level scope at In[10]:1"
     ]
    }
   ],
   "source": [
    "x = rawdata[1:13,:]     # independent variables: all rows before last"
   ]
  },
  {
   "cell_type": "markdown",
   "metadata": {},
   "source": [
    "## Extract Dependent Variable (i.e. price)"
   ]
  },
  {
   "cell_type": "code",
   "execution_count": 11,
   "metadata": {},
   "outputs": [
    {
     "ename": "UndefVarError",
     "evalue": "UndefVarError: rawdata not defined",
     "output_type": "error",
     "traceback": [
      "UndefVarError: rawdata not defined",
      "",
      "Stacktrace:",
      " [1] top-level scope at In[11]:1"
     ]
    }
   ],
   "source": [
    "y = rawdata[14:14,:]          # Dependent Variable (price) last ROW"
   ]
  },
  {
   "cell_type": "markdown",
   "metadata": {},
   "source": [
    "# Normalize the data"
   ]
  },
  {
   "cell_type": "markdown",
   "metadata": {},
   "source": [
    "## Show mean() values \n",
    "\n",
    "Calculate mean values for each feature in the 2-dimentional matrix."
   ]
  },
  {
   "cell_type": "code",
   "execution_count": 12,
   "metadata": {},
   "outputs": [
    {
     "ename": "UndefVarError",
     "evalue": "UndefVarError: x not defined",
     "output_type": "error",
     "traceback": [
      "UndefVarError: x not defined",
      "",
      "Stacktrace:",
      " [1] top-level scope at In[12]:1"
     ]
    }
   ],
   "source": [
    "mean(x, dims = 2)"
   ]
  },
  {
   "cell_type": "markdown",
   "metadata": {},
   "source": [
    "## Show std() values \n",
    "\n",
    "Calculate sample standard deviation (STD).\n",
    "\n",
    "- https://docs.julialang.org/en/v1/stdlib/Statistics/"
   ]
  },
  {
   "cell_type": "code",
   "execution_count": 13,
   "metadata": {},
   "outputs": [
    {
     "ename": "UndefVarError",
     "evalue": "UndefVarError: x not defined",
     "output_type": "error",
     "traceback": [
      "UndefVarError: x not defined",
      "",
      "Stacktrace:",
      " [1] top-level scope at In[13]:1"
     ]
    }
   ],
   "source": [
    "std(x, dims = 2) "
   ]
  },
  {
   "cell_type": "markdown",
   "metadata": {},
   "source": [
    "## Normalize the independent variables"
   ]
  },
  {
   "cell_type": "code",
   "execution_count": 14,
   "metadata": {},
   "outputs": [
    {
     "ename": "UndefVarError",
     "evalue": "UndefVarError: x not defined",
     "output_type": "error",
     "traceback": [
      "UndefVarError: x not defined",
      "",
      "Stacktrace:",
      " [1] top-level scope at In[14]:1"
     ]
    }
   ],
   "source": [
    "x = (x .- mean(x, dims = 2)) ./ std(x, dims = 2) # math on 13× Arrays"
   ]
  },
  {
   "cell_type": "code",
   "execution_count": 15,
   "metadata": {},
   "outputs": [
    {
     "ename": "UndefVarError",
     "evalue": "UndefVarError: x not defined",
     "output_type": "error",
     "traceback": [
      "UndefVarError: x not defined",
      "",
      "Stacktrace:",
      " [1] top-level scope at In[15]:1"
     ]
    }
   ],
   "source": [
    "records = size(x,2) # number of columns"
   ]
  },
  {
   "cell_type": "code",
   "execution_count": 16,
   "metadata": {},
   "outputs": [
    {
     "data": {
      "text/plain": [
       "Hyperparams\n",
       "  learning_rate: Float64 0.1\n",
       "  split_ratio: Float64 0.1\n"
      ]
     },
     "execution_count": 16,
     "metadata": {},
     "output_type": "execute_result"
    }
   ],
   "source": [
    "args = Hyperparams()"
   ]
  },
  {
   "cell_type": "code",
   "execution_count": 17,
   "metadata": {},
   "outputs": [
    {
     "ename": "UndefVarError",
     "evalue": "UndefVarError: records not defined",
     "output_type": "error",
     "traceback": [
      "UndefVarError: records not defined",
      "",
      "Stacktrace:",
      " [1] top-level scope at In[17]:2"
     ]
    }
   ],
   "source": [
    "split_ratio = args.split_ratio\n",
    "\n",
    "split_index = floor(Int, records * split_ratio)"
   ]
  },
  {
   "cell_type": "code",
   "execution_count": 18,
   "metadata": {},
   "outputs": [
    {
     "ename": "UndefVarError",
     "evalue": "UndefVarError: split_index not defined",
     "output_type": "error",
     "traceback": [
      "UndefVarError: split_index not defined",
      "",
      "Stacktrace:",
      " [1] top-level scope at In[18]:1"
     ]
    }
   ],
   "source": [
    "x_train = x[:,1:split_index]           # training features\n",
    "y_train = y[:,1:split_index]           # training results\n",
    "x_test = x[:,split_index+1:records]  # testing features\n",
    "y_test = y[:,split_index+1:records]  # testing results"
   ]
  },
  {
   "cell_type": "code",
   "execution_count": 19,
   "metadata": {},
   "outputs": [
    {
     "ename": "UndefVarError",
     "evalue": "UndefVarError: x_train not defined",
     "output_type": "error",
     "traceback": [
      "UndefVarError: x_train not defined",
      "",
      "Stacktrace:",
      " [1] top-level scope at In[19]:1"
     ]
    }
   ],
   "source": [
    "train_data = (x_train, y_train) # tuples\n",
    "test_data = (x_test, y_test)\n",
    "size(test_data[1])"
   ]
  },
  {
   "cell_type": "code",
   "execution_count": 20,
   "metadata": {},
   "outputs": [
    {
     "data": {
      "text/plain": [
       "get_processed_data (generic function with 1 method)"
      ]
     },
     "execution_count": 20,
     "metadata": {},
     "output_type": "execute_result"
    }
   ],
   "source": [
    "function get_processed_data(args) # expects struct Hyperparams\n",
    "\n",
    "    isfile(\"housing.data\") ||\n",
    "        download(\n",
    "            \"https://raw.githubusercontent.com/MikeInnes/notebooks/master/housing.data\",\n",
    "            \"housing.data\")\n",
    "\n",
    "    rawdata = readdlm(\"housing.data\")'\n",
    "\n",
    "    # The last feature is our target -- the price of the house.\n",
    "    split_ratio = args.split_ratio # For the train/test split\n",
    "\n",
    "    x = rawdata[1:13,:]\n",
    "    y = rawdata[14:14,:]\n",
    "\n",
    "    # Normalise the data\n",
    "    x = (x .- mean(x, dims = 2)) ./ std(x, dims = 2)\n",
    "\n",
    "    # Split into train and test sets\n",
    "    split_index = floor(Int,size(x,2)*split_ratio)\n",
    "    x_train = x[:,1:split_index]\n",
    "    y_train = y[:,1:split_index]\n",
    "    x_test = x[:,split_index+1:size(x,2)]\n",
    "    y_test = y[:,split_index+1:size(x,2)]\n",
    "\n",
    "    train_data = (x_train, y_train)\n",
    "    test_data = (x_test, y_test)\n",
    "\n",
    "    return train_data,test_data\n",
    "end"
   ]
  },
  {
   "cell_type": "code",
   "execution_count": 21,
   "metadata": {},
   "outputs": [],
   "source": [
    "# Struct to define model\n",
    "mutable struct model\n",
    "    W::AbstractArray\n",
    "    b::AbstractVector\n",
    "end"
   ]
  },
  {
   "cell_type": "code",
   "execution_count": 22,
   "metadata": {},
   "outputs": [
    {
     "data": {
      "text/plain": [
       "predict (generic function with 1 method)"
      ]
     },
     "execution_count": 22,
     "metadata": {},
     "output_type": "execute_result"
    }
   ],
   "source": [
    "# Function to predict output from given parameters\n",
    "\n",
    "predict(x, m) = m.W*x .+ m.b"
   ]
  },
  {
   "cell_type": "markdown",
   "metadata": {},
   "source": [
    "# Mean Squared Error (MSE)\n",
    "\n",
    "<center><span style=\"font-size:x-large;\" >$ MSE = \\sum \\limits _{i=1} ^{n} {   \\frac{(ŷ_i - y)^2}{n} }$</span></center>"
   ]
  },
  {
   "cell_type": "code",
   "execution_count": 23,
   "metadata": {},
   "outputs": [
    {
     "ename": "UndefVarError",
     "evalue": "UndefVarError: y not defined",
     "output_type": "error",
     "traceback": [
      "UndefVarError: y not defined",
      "",
      "Stacktrace:",
      " [1] top-level scope at In[23]:1"
     ]
    }
   ],
   "source": [
    "n = size(y, 2) # e.g. 505 columns\n",
    "\n",
    "# Mean Squared Error\n",
    "meansquarederror(ŷ, y) = sum((ŷ .- y).^2)/n"
   ]
  },
  {
   "cell_type": "code",
   "execution_count": 24,
   "metadata": {},
   "outputs": [
    {
     "data": {
      "text/plain": [
       "train (generic function with 1 method)"
      ]
     },
     "execution_count": 24,
     "metadata": {},
     "output_type": "execute_result"
    }
   ],
   "source": [
    "function train(; kws...)\n",
    "    # Initialize the Hyperparamters\n",
    "    args = Hyperparams(; kws...)\n",
    "    \n",
    "    # Load the data\n",
    "    (x_train,y_train),(x_test,y_test) = get_processed_data(args)\n",
    "    \n",
    "    test_data = (x_test,y_test)\n",
    "    \n",
    "    # The model\n",
    "    m = model((randn(1,13)),[0.])\n",
    "    \n",
    "    loss(x, y) = meansquarederror(predict(x, m), y)\n",
    "\n",
    "    ## Training\n",
    "    η = args.learning_rate\n",
    "    θ = params([m.W, m.b])\n",
    "\n",
    "    for i = 1:1000\n",
    "      g = gradient(() -> loss(x_train, y_train), θ)\n",
    "      for x in θ\n",
    "        update!(x, -g[x]*η)\n",
    "      end\n",
    "      if i%100==0\n",
    "          @show loss(x_train, y_train)\n",
    "        end\n",
    "    end\n",
    "    \n",
    "    # Predict the RMSE on the test set\n",
    "    err = meansquarederror(predict(x_test, m),y_test)\n",
    "    println(\"error: \", err)\n",
    "    return m , test_data# model\n",
    "end"
   ]
  },
  {
   "cell_type": "code",
   "execution_count": 25,
   "metadata": {},
   "outputs": [
    {
     "ename": "UndefVarError",
     "evalue": "UndefVarError: meansquarederror not defined",
     "output_type": "error",
     "traceback": [
      "UndefVarError: meansquarederror not defined",
      "",
      "Stacktrace:",
      " [1] getindex at ./tuple.jl:24 [inlined]",
      " [2] loss at ./In[24]:13 [inlined]",
      " [3] _pullback(::Zygote.Context, ::var\"#loss#8\"{model}, ::Array{Float64,2}, ::Array{Float64,2}) at /Users/uki/.julia/packages/Zygote/seGHk/src/compiler/interface2.jl:0",
      " [4] #7 at ./In[24]:20 [inlined]",
      " [5] _pullback(::Zygote.Context, ::var\"#7#9\"{Array{Float64,2},Array{Float64,2},var\"#loss#8\"{model}}) at /Users/uki/.julia/packages/Zygote/seGHk/src/compiler/interface2.jl:0",
      " [6] pullback(::Function, ::Zygote.Params) at /Users/uki/.julia/packages/Zygote/seGHk/src/compiler/interface.jl:172",
      " [7] gradient(::Function, ::Zygote.Params) at /Users/uki/.julia/packages/Zygote/seGHk/src/compiler/interface.jl:53",
      " [8] train(; kws::Base.Iterators.Pairs{Union{},Union{},Tuple{},NamedTuple{(),Tuple{}}}) at ./In[24]:20",
      " [9] train() at ./In[24]:3",
      " [10] top-level scope at In[25]:2"
     ]
    }
   ],
   "source": [
    "cd(@__DIR__)\n",
    "resulting_model, test_data = train()\n",
    "resulting_model.W"
   ]
  },
  {
   "cell_type": "code",
   "execution_count": 26,
   "metadata": {},
   "outputs": [
    {
     "ename": "UndefVarError",
     "evalue": "UndefVarError: resulting_model not defined",
     "output_type": "error",
     "traceback": [
      "UndefVarError: resulting_model not defined",
      "",
      "Stacktrace:",
      " [1] top-level scope at In[26]:1"
     ]
    }
   ],
   "source": [
    "resulting_model.b"
   ]
  },
  {
   "cell_type": "code",
   "execution_count": 27,
   "metadata": {},
   "outputs": [
    {
     "data": {
      "text/plain": [
       "test (generic function with 1 method)"
      ]
     },
     "execution_count": 27,
     "metadata": {},
     "output_type": "execute_result"
    }
   ],
   "source": [
    "function test(model, test)\n",
    "    # Testing model performance on test data \n",
    "    X_test, y_test = test\n",
    "    #accuracy_score = accuracy(X_test, y_test, model)\n",
    "\n",
    "    #println(\"\\nAccuracy: $accuracy_score\")\n",
    "\n",
    "    # Sanity check.\n",
    "    #@assert accuracy_score > 0.8\n",
    "\n",
    "    # To avoid confusion, here is the definition of a Confusion Matrix: https://en.wikipedia.org/wiki/Confusion_matrix\n",
    "    println(\"\\nConfusion Matrix:\\n\")\n",
    "    #display(confusion_matrix(X_test, y_test, model))\n",
    "end"
   ]
  },
  {
   "cell_type": "code",
   "execution_count": 28,
   "metadata": {},
   "outputs": [
    {
     "ename": "UndefVarError",
     "evalue": "UndefVarError: test_data not defined",
     "output_type": "error",
     "traceback": [
      "UndefVarError: test_data not defined",
      "",
      "Stacktrace:",
      " [1] top-level scope at In[28]:1"
     ]
    }
   ],
   "source": [
    "test(model, test_data)\n",
    "features = test_data[1]"
   ]
  },
  {
   "cell_type": "code",
   "execution_count": 29,
   "metadata": {},
   "outputs": [
    {
     "ename": "UndefVarError",
     "evalue": "UndefVarError: features not defined",
     "output_type": "error",
     "traceback": [
      "UndefVarError: features not defined",
      "",
      "Stacktrace:",
      " [1] top-level scope at In[29]:1"
     ]
    }
   ],
   "source": [
    "one_record = features[:,1]"
   ]
  },
  {
   "cell_type": "code",
   "execution_count": 30,
   "metadata": {},
   "outputs": [
    {
     "ename": "UndefVarError",
     "evalue": "UndefVarError: test_data not defined",
     "output_type": "error",
     "traceback": [
      "UndefVarError: test_data not defined",
      "",
      "Stacktrace:",
      " [1] top-level scope at In[30]:1"
     ]
    }
   ],
   "source": [
    "results = test_data[1][1,:]"
   ]
  },
  {
   "cell_type": "code",
   "execution_count": 31,
   "metadata": {},
   "outputs": [
    {
     "ename": "UndefVarError",
     "evalue": "UndefVarError: results not defined",
     "output_type": "error",
     "traceback": [
      "UndefVarError: results not defined",
      "",
      "Stacktrace:",
      " [1] top-level scope at In[31]:1"
     ]
    }
   ],
   "source": [
    "records = size(results)[1]"
   ]
  },
  {
   "cell_type": "code",
   "execution_count": 32,
   "metadata": {},
   "outputs": [
    {
     "data": {
      "text/plain": [
       "get_price (generic function with 1 method)"
      ]
     },
     "execution_count": 32,
     "metadata": {},
     "output_type": "execute_result"
    }
   ],
   "source": [
    "get_price(data, model) = model.W * data .+ model.b"
   ]
  },
  {
   "cell_type": "code",
   "execution_count": 33,
   "metadata": {},
   "outputs": [
    {
     "ename": "UndefVarError",
     "evalue": "UndefVarError: one_record not defined",
     "output_type": "error",
     "traceback": [
      "UndefVarError: one_record not defined",
      "",
      "Stacktrace:",
      " [1] top-level scope at In[33]:1"
     ]
    }
   ],
   "source": [
    "get_price(one_record, resulting_model)"
   ]
  },
  {
   "cell_type": "code",
   "execution_count": 34,
   "metadata": {},
   "outputs": [
    {
     "ename": "UndefVarError",
     "evalue": "UndefVarError: records not defined",
     "output_type": "error",
     "traceback": [
      "UndefVarError: records not defined",
      "",
      "Stacktrace:",
      " [1] top-level scope at ./In[34]:1"
     ]
    }
   ],
   "source": [
    "for i in 1:records # 455\n",
    "    record = features[:,i] # 13-element Array{Float64,1}:\n",
    "    result = get_price(record, resulting_model)\n",
    "    println(i, \" \", result, \" =? \", results[1])\n",
    "end"
   ]
  },
  {
   "cell_type": "code",
   "execution_count": null,
   "metadata": {},
   "outputs": [],
   "source": []
  },
  {
   "cell_type": "code",
   "execution_count": null,
   "metadata": {},
   "outputs": [],
   "source": []
  }
 ],
 "metadata": {
  "kernelspec": {
   "display_name": "Julia 1.4.2",
   "language": "julia",
   "name": "julia-1.4"
  },
  "language_info": {
   "file_extension": ".jl",
   "mimetype": "application/julia",
   "name": "julia",
   "version": "1.4.2"
  },
  "toc": {
   "base_numbering": 1,
   "nav_menu": {},
   "number_sections": true,
   "sideBar": true,
   "skip_h1_title": false,
   "title_cell": "Table of Contents",
   "title_sidebar": "Contents",
   "toc_cell": true,
   "toc_position": {},
   "toc_section_display": true,
   "toc_window_display": true
  }
 },
 "nbformat": 4,
 "nbformat_minor": 4
}
