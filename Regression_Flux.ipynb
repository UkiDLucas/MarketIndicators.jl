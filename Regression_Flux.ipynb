{
 "cells": [
  {
   "cell_type": "markdown",
   "metadata": {},
   "source": [
    "# Market prediction using Flux.jl"
   ]
  },
  {
   "cell_type": "markdown",
   "metadata": {
    "toc": true
   },
   "source": [
    "<h1>Table of Contents<span class=\"tocSkip\"></span></h1>\n",
    "<div class=\"toc\"><ul class=\"toc-item\"><li><span><a href=\"#Market-prediction-using-Flux.jl\" data-toc-modified-id=\"Market-prediction-using-Flux.jl-1\"><span class=\"toc-item-num\">1&nbsp;&nbsp;</span>Market prediction using Flux.jl</a></span><ul class=\"toc-item\"><li><span><a href=\"#Libraries-used-in-this-notebook\" data-toc-modified-id=\"Libraries-used-in-this-notebook-1.1\"><span class=\"toc-item-num\">1.1&nbsp;&nbsp;</span>Libraries used in this notebook</a></span></li></ul></li><li><span><a href=\"#Define-Hyperparameters\" data-toc-modified-id=\"Define-Hyperparameters-2\"><span class=\"toc-item-num\">2&nbsp;&nbsp;</span>Define Hyperparameters</a></span></li><li><span><a href=\"#Load--Data\" data-toc-modified-id=\"Load--Data-3\"><span class=\"toc-item-num\">3&nbsp;&nbsp;</span>Load  Data</a></span><ul class=\"toc-item\"><li><span><a href=\"#ISM-Manufacturing-Employment\" data-toc-modified-id=\"ISM-Manufacturing-Employment-3.1\"><span class=\"toc-item-num\">3.1&nbsp;&nbsp;</span>ISM Manufacturing Employment</a></span></li><li><span><a href=\"#Markit---Manufacturing-PMI\" data-toc-modified-id=\"Markit---Manufacturing-PMI-3.2\"><span class=\"toc-item-num\">3.2&nbsp;&nbsp;</span>Markit - Manufacturing PMI</a></span></li></ul></li><li><span><a href=\"#Visualize-the-Data\" data-toc-modified-id=\"Visualize-the-Data-4\"><span class=\"toc-item-num\">4&nbsp;&nbsp;</span>Visualize the Data</a></span><ul class=\"toc-item\"><li><span><a href=\"#Prepare-x-axist-data-(time-periods)\" data-toc-modified-id=\"Prepare-x-axist-data-(time-periods)-4.1\"><span class=\"toc-item-num\">4.1&nbsp;&nbsp;</span>Prepare x-axist data (time periods)</a></span></li><li><span><a href=\"#Plotting-Data\" data-toc-modified-id=\"Plotting-Data-4.2\"><span class=\"toc-item-num\">4.2&nbsp;&nbsp;</span>Plotting Data</a></span></li></ul></li><li><span><a href=\"#Extract-Data\" data-toc-modified-id=\"Extract-Data-5\"><span class=\"toc-item-num\">5&nbsp;&nbsp;</span>Extract Data</a></span><ul class=\"toc-item\"><li><span><a href=\"#Extract-Independent-Variables-(i.e.-features)\" data-toc-modified-id=\"Extract-Independent-Variables-(i.e.-features)-5.1\"><span class=\"toc-item-num\">5.1&nbsp;&nbsp;</span>Extract Independent Variables (i.e. features)</a></span></li><li><span><a href=\"#Extract-Dependent-Variable-(i.e.-price)\" data-toc-modified-id=\"Extract-Dependent-Variable-(i.e.-price)-5.2\"><span class=\"toc-item-num\">5.2&nbsp;&nbsp;</span>Extract Dependent Variable (i.e. price)</a></span></li></ul></li><li><span><a href=\"#Normalize-the-data\" data-toc-modified-id=\"Normalize-the-data-6\"><span class=\"toc-item-num\">6&nbsp;&nbsp;</span>Normalize the data</a></span><ul class=\"toc-item\"><li><span><a href=\"#Show-mean()-values\" data-toc-modified-id=\"Show-mean()-values-6.1\"><span class=\"toc-item-num\">6.1&nbsp;&nbsp;</span>Show mean() values</a></span></li><li><span><a href=\"#Show-std()-values\" data-toc-modified-id=\"Show-std()-values-6.2\"><span class=\"toc-item-num\">6.2&nbsp;&nbsp;</span>Show std() values</a></span></li><li><span><a href=\"#Normalize-the-independent-variables\" data-toc-modified-id=\"Normalize-the-independent-variables-6.3\"><span class=\"toc-item-num\">6.3&nbsp;&nbsp;</span>Normalize the independent variables</a></span></li></ul></li><li><span><a href=\"#Mean-Squared-Error-(MSE)\" data-toc-modified-id=\"Mean-Squared-Error-(MSE)-7\"><span class=\"toc-item-num\">7&nbsp;&nbsp;</span>Mean Squared Error (MSE)</a></span></li></ul></div>"
   ]
  },
  {
   "cell_type": "markdown",
   "metadata": {},
   "source": [
    "## Libraries used in this notebook\n",
    "\n",
    "Uncomment the lines below if you are missing given libraries, or you want to update to the newest version.\n",
    "\n",
    "**Warning:** the updates and required pre-compiling will take a lot of time time."
   ]
  },
  {
   "cell_type": "code",
   "execution_count": 1,
   "metadata": {},
   "outputs": [],
   "source": [
    "# import Pkg; Pkg.add(\"Flux\")\n",
    "using Flux\n",
    "\n",
    "# import Pkg; Pkg.add(\"DelimitedFiles\")\n",
    "using DelimitedFiles\n",
    "\n",
    "# import Pkg; Pkg.add(\"Statistics\")\n",
    "using Statistics\n",
    "\n",
    "# import Pkg; Pkg.add(\"Flux\")\n",
    "using Flux.Optimise: update!\n",
    "\n",
    "# import Pkg; Pkg.add(\"Parameters\")\n",
    "#using Parameters #: @with_kw\n",
    "\n",
    "# import Pkg; Pkg.add(\"Plots\")\n",
    "using Plots\n",
    "\n",
    "# import Pkg; Pkg.add(\"DataFrames\")\n",
    "using DataFrames\n",
    "\n",
    "# import Pkg; Pkg.add(\"CSV\")\n",
    "using CSV\n",
    "\n",
    "# import Pkg; Pkg.add(\"Dates\")\n",
    "using Dates"
   ]
  },
  {
   "cell_type": "code",
   "execution_count": 12,
   "metadata": {},
   "outputs": [
    {
     "name": "stdout",
     "output_type": "stream",
     "text": [
      "Functions available:\n",
      "df = fetch_data(file_path, date_format=\"yyyy-mm-dd\" )\n"
     ]
    },
    {
     "name": "stderr",
     "output_type": "stream",
     "text": [
      "┌ Warning: `CSV.read(input; kw...)` is deprecated in favor of `using DataFrames; CSV.read(input, DataFrame; kw...)\n",
      "│   caller = ip:0x0\n",
      "└ @ Core :-1\n"
     ]
    },
    {
     "data": {
      "text/html": [
       "<table class=\"data-frame\"><thead><tr><th></th><th>Date</th><th>ActualValue</th><th>ForecastValue</th><th>PreviousValue</th></tr><tr><th></th><th>Date</th><th>Float64</th><th>Float64?</th><th>Float64?</th></tr></thead><tbody><p>82 rows × 4 columns</p><tr><th>1</th><td>2020-08-03</td><td>44.3</td><td>34.4</td><td>42.1</td></tr><tr><th>2</th><td>2020-07-01</td><td>42.1</td><td>38.1</td><td>32.1</td></tr><tr><th>3</th><td>2020-06-01</td><td>32.1</td><td>34.1</td><td>27.5</td></tr><tr><th>4</th><td>2020-05-01</td><td>27.5</td><td>44.8</td><td>43.8</td></tr><tr><th>5</th><td>2020-04-01</td><td>43.8</td><td>45.4</td><td>46.9</td></tr><tr><th>6</th><td>2020-03-02</td><td>46.9</td><td>43.9</td><td>46.6</td></tr><tr><th>7</th><td>2020-02-03</td><td>46.6</td><td>43.3</td><td>45.2</td></tr><tr><th>8</th><td>2020-01-03</td><td>45.1</td><td>53.5</td><td>46.6</td></tr><tr><th>9</th><td>2019-12-02</td><td>46.6</td><td>54.3</td><td>47.7</td></tr><tr><th>10</th><td>2019-11-01</td><td>47.7</td><td>54.7</td><td>46.3</td></tr><tr><th>11</th><td>2019-10-01</td><td>46.3</td><td>55.3</td><td>47.4</td></tr><tr><th>12</th><td>2019-09-03</td><td>47.4</td><td>56.0</td><td>51.7</td></tr><tr><th>13</th><td>2019-08-01</td><td>51.7</td><td>53.7</td><td>54.5</td></tr><tr><th>14</th><td>2019-07-01</td><td>54.5</td><td>54.1</td><td>53.7</td></tr><tr><th>15</th><td>2019-06-03</td><td>53.7</td><td>52.8</td><td>52.4</td></tr><tr><th>16</th><td>2019-05-01</td><td>52.4</td><td>56.7</td><td>57.5</td></tr><tr><th>17</th><td>2019-04-01</td><td>57.5</td><td>57.3</td><td>52.3</td></tr><tr><th>18</th><td>2019-03-01</td><td>52.3</td><td>57.8</td><td>55.5</td></tr><tr><th>19</th><td>2019-02-01</td><td>55.5</td><td>57.5</td><td>56.0</td></tr><tr><th>20</th><td>2019-01-03</td><td>56.2</td><td>58.1</td><td>58.4</td></tr><tr><th>21</th><td>2018-12-03</td><td>58.4</td><td>57.2</td><td>56.8</td></tr><tr><th>22</th><td>2018-11-01</td><td>56.8</td><td>56.9</td><td>58.8</td></tr><tr><th>23</th><td>2018-10-01</td><td>58.8</td><td>56.9</td><td>58.5</td></tr><tr><th>24</th><td>2018-09-04</td><td>58.5</td><td>56.3</td><td>56.5</td></tr><tr><th>25</th><td>2018-08-01</td><td>56.5</td><td>56.2</td><td>56.0</td></tr><tr><th>26</th><td>2018-07-02</td><td>56.0</td><td>55.3</td><td>56.3</td></tr><tr><th>27</th><td>2018-06-01</td><td>56.3</td><td>55.8</td><td>54.2</td></tr><tr><th>28</th><td>2018-05-01</td><td>54.2</td><td>58.6</td><td>57.3</td></tr><tr><th>29</th><td>2018-04-02</td><td>57.3</td><td>57.2</td><td>59.7</td></tr><tr><th>30</th><td>2018-03-01</td><td>59.7</td><td>55.9</td><td>54.2</td></tr><tr><th>&vellip;</th><td>&vellip;</td><td>&vellip;</td><td>&vellip;</td><td>&vellip;</td></tr></tbody></table>"
      ],
      "text/latex": [
       "\\begin{tabular}{r|cccc}\n",
       "\t& Date & ActualValue & ForecastValue & PreviousValue\\\\\n",
       "\t\\hline\n",
       "\t& Date & Float64 & Float64? & Float64?\\\\\n",
       "\t\\hline\n",
       "\t1 & 2020-08-03 & 44.3 & 34.4 & 42.1 \\\\\n",
       "\t2 & 2020-07-01 & 42.1 & 38.1 & 32.1 \\\\\n",
       "\t3 & 2020-06-01 & 32.1 & 34.1 & 27.5 \\\\\n",
       "\t4 & 2020-05-01 & 27.5 & 44.8 & 43.8 \\\\\n",
       "\t5 & 2020-04-01 & 43.8 & 45.4 & 46.9 \\\\\n",
       "\t6 & 2020-03-02 & 46.9 & 43.9 & 46.6 \\\\\n",
       "\t7 & 2020-02-03 & 46.6 & 43.3 & 45.2 \\\\\n",
       "\t8 & 2020-01-03 & 45.1 & 53.5 & 46.6 \\\\\n",
       "\t9 & 2019-12-02 & 46.6 & 54.3 & 47.7 \\\\\n",
       "\t10 & 2019-11-01 & 47.7 & 54.7 & 46.3 \\\\\n",
       "\t11 & 2019-10-01 & 46.3 & 55.3 & 47.4 \\\\\n",
       "\t12 & 2019-09-03 & 47.4 & 56.0 & 51.7 \\\\\n",
       "\t13 & 2019-08-01 & 51.7 & 53.7 & 54.5 \\\\\n",
       "\t14 & 2019-07-01 & 54.5 & 54.1 & 53.7 \\\\\n",
       "\t15 & 2019-06-03 & 53.7 & 52.8 & 52.4 \\\\\n",
       "\t16 & 2019-05-01 & 52.4 & 56.7 & 57.5 \\\\\n",
       "\t17 & 2019-04-01 & 57.5 & 57.3 & 52.3 \\\\\n",
       "\t18 & 2019-03-01 & 52.3 & 57.8 & 55.5 \\\\\n",
       "\t19 & 2019-02-01 & 55.5 & 57.5 & 56.0 \\\\\n",
       "\t20 & 2019-01-03 & 56.2 & 58.1 & 58.4 \\\\\n",
       "\t21 & 2018-12-03 & 58.4 & 57.2 & 56.8 \\\\\n",
       "\t22 & 2018-11-01 & 56.8 & 56.9 & 58.8 \\\\\n",
       "\t23 & 2018-10-01 & 58.8 & 56.9 & 58.5 \\\\\n",
       "\t24 & 2018-09-04 & 58.5 & 56.3 & 56.5 \\\\\n",
       "\t25 & 2018-08-01 & 56.5 & 56.2 & 56.0 \\\\\n",
       "\t26 & 2018-07-02 & 56.0 & 55.3 & 56.3 \\\\\n",
       "\t27 & 2018-06-01 & 56.3 & 55.8 & 54.2 \\\\\n",
       "\t28 & 2018-05-01 & 54.2 & 58.6 & 57.3 \\\\\n",
       "\t29 & 2018-04-02 & 57.3 & 57.2 & 59.7 \\\\\n",
       "\t30 & 2018-03-01 & 59.7 & 55.9 & 54.2 \\\\\n",
       "\t$\\dots$ & $\\dots$ & $\\dots$ & $\\dots$ & $\\dots$ \\\\\n",
       "\\end{tabular}\n"
      ],
      "text/plain": [
       "82×4 DataFrame\n",
       "│ Row │ Date       │ ActualValue │ ForecastValue │ PreviousValue │\n",
       "│     │ \u001b[90mDate\u001b[39m       │ \u001b[90mFloat64\u001b[39m     │ \u001b[90mFloat64?\u001b[39m      │ \u001b[90mFloat64?\u001b[39m      │\n",
       "├─────┼────────────┼─────────────┼───────────────┼───────────────┤\n",
       "│ 1   │ 2020-08-03 │ 44.3        │ 34.4          │ 42.1          │\n",
       "│ 2   │ 2020-07-01 │ 42.1        │ 38.1          │ 32.1          │\n",
       "│ 3   │ 2020-06-01 │ 32.1        │ 34.1          │ 27.5          │\n",
       "│ 4   │ 2020-05-01 │ 27.5        │ 44.8          │ 43.8          │\n",
       "│ 5   │ 2020-04-01 │ 43.8        │ 45.4          │ 46.9          │\n",
       "│ 6   │ 2020-03-02 │ 46.9        │ 43.9          │ 46.6          │\n",
       "│ 7   │ 2020-02-03 │ 46.6        │ 43.3          │ 45.2          │\n",
       "│ 8   │ 2020-01-03 │ 45.1        │ 53.5          │ 46.6          │\n",
       "│ 9   │ 2019-12-02 │ 46.6        │ 54.3          │ 47.7          │\n",
       "│ 10  │ 2019-11-01 │ 47.7        │ 54.7          │ 46.3          │\n",
       "⋮\n",
       "│ 72  │ 2014-09-02 │ 58.1        │ \u001b[90mmissing\u001b[39m       │ 58.2          │\n",
       "│ 73  │ 2014-08-01 │ 58.2        │ \u001b[90mmissing\u001b[39m       │ 52.8          │\n",
       "│ 74  │ 2014-07-01 │ 52.8        │ \u001b[90mmissing\u001b[39m       │ 52.8          │\n",
       "│ 75  │ 2014-06-02 │ 52.8        │ \u001b[90mmissing\u001b[39m       │ 54.7          │\n",
       "│ 76  │ 2014-05-01 │ 54.7        │ \u001b[90mmissing\u001b[39m       │ 51.1          │\n",
       "│ 77  │ 2014-04-01 │ 51.1        │ \u001b[90mmissing\u001b[39m       │ 52.3          │\n",
       "│ 78  │ 2014-03-03 │ 52.3        │ \u001b[90mmissing\u001b[39m       │ 52.3          │\n",
       "│ 79  │ 2014-02-03 │ 52.3        │ \u001b[90mmissing\u001b[39m       │ 56.9          │\n",
       "│ 80  │ 2014-01-02 │ 56.9        │ \u001b[90mmissing\u001b[39m       │ 56.5          │\n",
       "│ 81  │ 2013-12-02 │ 56.5        │ \u001b[90mmissing\u001b[39m       │ 53.2          │\n",
       "│ 82  │ 2013-11-01 │ 53.2        │ \u001b[90mmissing\u001b[39m       │ \u001b[90mmissing\u001b[39m       │"
      ]
     },
     "execution_count": 12,
     "metadata": {},
     "output_type": "execute_result"
    }
   ],
   "source": [
    "# include function that are used in this project\n",
    "include(\"MarketIndicators.jl\")"
   ]
  },
  {
   "cell_type": "code",
   "execution_count": 2,
   "metadata": {},
   "outputs": [
    {
     "name": "stdout",
     "output_type": "stream",
     "text": [
      "Last update: Sep. 3, 2020 07:09\n"
     ]
    }
   ],
   "source": [
    " println( \"Last update: \", Dates.format(Dates.now(), \"u. d, yyyy HH:mm\"))"
   ]
  },
  {
   "cell_type": "markdown",
   "metadata": {},
   "source": [
    "# Define Hyperparameters"
   ]
  },
  {
   "cell_type": "code",
   "execution_count": 6,
   "metadata": {},
   "outputs": [
    {
     "data": {
      "text/plain": [
       "\"data/united-states.markit-manufacturing-pmi.csv\""
      ]
     },
     "execution_count": 6,
     "metadata": {},
     "output_type": "execute_result"
    }
   ],
   "source": [
    "learning_rate = 0.1       # learning rate\n",
    "split_ratio = 0.1         # train/test split ratio 0.1 => 90/10\n",
    "\n",
    "file_ISM_Mfc_Emp = \"data/united-states.ism-manufacturing-employment.csv\"\n",
    "file_Markkit_Mfc_PMI = \"data/united-states.markit-manufacturing-pmi.csv\""
   ]
  },
  {
   "cell_type": "markdown",
   "metadata": {},
   "source": [
    "# Load  Data\n"
   ]
  },
  {
   "cell_type": "markdown",
   "metadata": {},
   "source": [
    "## ISM Manufacturing Employment"
   ]
  },
  {
   "cell_type": "code",
   "execution_count": 13,
   "metadata": {},
   "outputs": [
    {
     "data": {
      "text/html": [
       "<table class=\"data-frame\"><thead><tr><th></th><th>Date</th><th>ActualValue</th><th>ForecastValue</th><th>PreviousValue</th></tr><tr><th></th><th>Date</th><th>Float64</th><th>Float64?</th><th>Float64?</th></tr></thead><tbody><p>82 rows × 4 columns</p><tr><th>1</th><td>2020-08-03</td><td>44.3</td><td>34.4</td><td>42.1</td></tr><tr><th>2</th><td>2020-07-01</td><td>42.1</td><td>38.1</td><td>32.1</td></tr><tr><th>3</th><td>2020-06-01</td><td>32.1</td><td>34.1</td><td>27.5</td></tr><tr><th>4</th><td>2020-05-01</td><td>27.5</td><td>44.8</td><td>43.8</td></tr><tr><th>5</th><td>2020-04-01</td><td>43.8</td><td>45.4</td><td>46.9</td></tr><tr><th>6</th><td>2020-03-02</td><td>46.9</td><td>43.9</td><td>46.6</td></tr><tr><th>7</th><td>2020-02-03</td><td>46.6</td><td>43.3</td><td>45.2</td></tr><tr><th>8</th><td>2020-01-03</td><td>45.1</td><td>53.5</td><td>46.6</td></tr><tr><th>9</th><td>2019-12-02</td><td>46.6</td><td>54.3</td><td>47.7</td></tr><tr><th>10</th><td>2019-11-01</td><td>47.7</td><td>54.7</td><td>46.3</td></tr><tr><th>11</th><td>2019-10-01</td><td>46.3</td><td>55.3</td><td>47.4</td></tr><tr><th>12</th><td>2019-09-03</td><td>47.4</td><td>56.0</td><td>51.7</td></tr><tr><th>13</th><td>2019-08-01</td><td>51.7</td><td>53.7</td><td>54.5</td></tr><tr><th>14</th><td>2019-07-01</td><td>54.5</td><td>54.1</td><td>53.7</td></tr><tr><th>15</th><td>2019-06-03</td><td>53.7</td><td>52.8</td><td>52.4</td></tr><tr><th>16</th><td>2019-05-01</td><td>52.4</td><td>56.7</td><td>57.5</td></tr><tr><th>17</th><td>2019-04-01</td><td>57.5</td><td>57.3</td><td>52.3</td></tr><tr><th>18</th><td>2019-03-01</td><td>52.3</td><td>57.8</td><td>55.5</td></tr><tr><th>19</th><td>2019-02-01</td><td>55.5</td><td>57.5</td><td>56.0</td></tr><tr><th>20</th><td>2019-01-03</td><td>56.2</td><td>58.1</td><td>58.4</td></tr><tr><th>21</th><td>2018-12-03</td><td>58.4</td><td>57.2</td><td>56.8</td></tr><tr><th>22</th><td>2018-11-01</td><td>56.8</td><td>56.9</td><td>58.8</td></tr><tr><th>23</th><td>2018-10-01</td><td>58.8</td><td>56.9</td><td>58.5</td></tr><tr><th>24</th><td>2018-09-04</td><td>58.5</td><td>56.3</td><td>56.5</td></tr><tr><th>25</th><td>2018-08-01</td><td>56.5</td><td>56.2</td><td>56.0</td></tr><tr><th>26</th><td>2018-07-02</td><td>56.0</td><td>55.3</td><td>56.3</td></tr><tr><th>27</th><td>2018-06-01</td><td>56.3</td><td>55.8</td><td>54.2</td></tr><tr><th>28</th><td>2018-05-01</td><td>54.2</td><td>58.6</td><td>57.3</td></tr><tr><th>29</th><td>2018-04-02</td><td>57.3</td><td>57.2</td><td>59.7</td></tr><tr><th>30</th><td>2018-03-01</td><td>59.7</td><td>55.9</td><td>54.2</td></tr><tr><th>&vellip;</th><td>&vellip;</td><td>&vellip;</td><td>&vellip;</td><td>&vellip;</td></tr></tbody></table>"
      ],
      "text/latex": [
       "\\begin{tabular}{r|cccc}\n",
       "\t& Date & ActualValue & ForecastValue & PreviousValue\\\\\n",
       "\t\\hline\n",
       "\t& Date & Float64 & Float64? & Float64?\\\\\n",
       "\t\\hline\n",
       "\t1 & 2020-08-03 & 44.3 & 34.4 & 42.1 \\\\\n",
       "\t2 & 2020-07-01 & 42.1 & 38.1 & 32.1 \\\\\n",
       "\t3 & 2020-06-01 & 32.1 & 34.1 & 27.5 \\\\\n",
       "\t4 & 2020-05-01 & 27.5 & 44.8 & 43.8 \\\\\n",
       "\t5 & 2020-04-01 & 43.8 & 45.4 & 46.9 \\\\\n",
       "\t6 & 2020-03-02 & 46.9 & 43.9 & 46.6 \\\\\n",
       "\t7 & 2020-02-03 & 46.6 & 43.3 & 45.2 \\\\\n",
       "\t8 & 2020-01-03 & 45.1 & 53.5 & 46.6 \\\\\n",
       "\t9 & 2019-12-02 & 46.6 & 54.3 & 47.7 \\\\\n",
       "\t10 & 2019-11-01 & 47.7 & 54.7 & 46.3 \\\\\n",
       "\t11 & 2019-10-01 & 46.3 & 55.3 & 47.4 \\\\\n",
       "\t12 & 2019-09-03 & 47.4 & 56.0 & 51.7 \\\\\n",
       "\t13 & 2019-08-01 & 51.7 & 53.7 & 54.5 \\\\\n",
       "\t14 & 2019-07-01 & 54.5 & 54.1 & 53.7 \\\\\n",
       "\t15 & 2019-06-03 & 53.7 & 52.8 & 52.4 \\\\\n",
       "\t16 & 2019-05-01 & 52.4 & 56.7 & 57.5 \\\\\n",
       "\t17 & 2019-04-01 & 57.5 & 57.3 & 52.3 \\\\\n",
       "\t18 & 2019-03-01 & 52.3 & 57.8 & 55.5 \\\\\n",
       "\t19 & 2019-02-01 & 55.5 & 57.5 & 56.0 \\\\\n",
       "\t20 & 2019-01-03 & 56.2 & 58.1 & 58.4 \\\\\n",
       "\t21 & 2018-12-03 & 58.4 & 57.2 & 56.8 \\\\\n",
       "\t22 & 2018-11-01 & 56.8 & 56.9 & 58.8 \\\\\n",
       "\t23 & 2018-10-01 & 58.8 & 56.9 & 58.5 \\\\\n",
       "\t24 & 2018-09-04 & 58.5 & 56.3 & 56.5 \\\\\n",
       "\t25 & 2018-08-01 & 56.5 & 56.2 & 56.0 \\\\\n",
       "\t26 & 2018-07-02 & 56.0 & 55.3 & 56.3 \\\\\n",
       "\t27 & 2018-06-01 & 56.3 & 55.8 & 54.2 \\\\\n",
       "\t28 & 2018-05-01 & 54.2 & 58.6 & 57.3 \\\\\n",
       "\t29 & 2018-04-02 & 57.3 & 57.2 & 59.7 \\\\\n",
       "\t30 & 2018-03-01 & 59.7 & 55.9 & 54.2 \\\\\n",
       "\t$\\dots$ & $\\dots$ & $\\dots$ & $\\dots$ & $\\dots$ \\\\\n",
       "\\end{tabular}\n"
      ],
      "text/plain": [
       "82×4 DataFrame\n",
       "│ Row │ Date       │ ActualValue │ ForecastValue │ PreviousValue │\n",
       "│     │ \u001b[90mDate\u001b[39m       │ \u001b[90mFloat64\u001b[39m     │ \u001b[90mFloat64?\u001b[39m      │ \u001b[90mFloat64?\u001b[39m      │\n",
       "├─────┼────────────┼─────────────┼───────────────┼───────────────┤\n",
       "│ 1   │ 2020-08-03 │ 44.3        │ 34.4          │ 42.1          │\n",
       "│ 2   │ 2020-07-01 │ 42.1        │ 38.1          │ 32.1          │\n",
       "│ 3   │ 2020-06-01 │ 32.1        │ 34.1          │ 27.5          │\n",
       "│ 4   │ 2020-05-01 │ 27.5        │ 44.8          │ 43.8          │\n",
       "│ 5   │ 2020-04-01 │ 43.8        │ 45.4          │ 46.9          │\n",
       "│ 6   │ 2020-03-02 │ 46.9        │ 43.9          │ 46.6          │\n",
       "│ 7   │ 2020-02-03 │ 46.6        │ 43.3          │ 45.2          │\n",
       "│ 8   │ 2020-01-03 │ 45.1        │ 53.5          │ 46.6          │\n",
       "│ 9   │ 2019-12-02 │ 46.6        │ 54.3          │ 47.7          │\n",
       "│ 10  │ 2019-11-01 │ 47.7        │ 54.7          │ 46.3          │\n",
       "⋮\n",
       "│ 72  │ 2014-09-02 │ 58.1        │ \u001b[90mmissing\u001b[39m       │ 58.2          │\n",
       "│ 73  │ 2014-08-01 │ 58.2        │ \u001b[90mmissing\u001b[39m       │ 52.8          │\n",
       "│ 74  │ 2014-07-01 │ 52.8        │ \u001b[90mmissing\u001b[39m       │ 52.8          │\n",
       "│ 75  │ 2014-06-02 │ 52.8        │ \u001b[90mmissing\u001b[39m       │ 54.7          │\n",
       "│ 76  │ 2014-05-01 │ 54.7        │ \u001b[90mmissing\u001b[39m       │ 51.1          │\n",
       "│ 77  │ 2014-04-01 │ 51.1        │ \u001b[90mmissing\u001b[39m       │ 52.3          │\n",
       "│ 78  │ 2014-03-03 │ 52.3        │ \u001b[90mmissing\u001b[39m       │ 52.3          │\n",
       "│ 79  │ 2014-02-03 │ 52.3        │ \u001b[90mmissing\u001b[39m       │ 56.9          │\n",
       "│ 80  │ 2014-01-02 │ 56.9        │ \u001b[90mmissing\u001b[39m       │ 56.5          │\n",
       "│ 81  │ 2013-12-02 │ 56.5        │ \u001b[90mmissing\u001b[39m       │ 53.2          │\n",
       "│ 82  │ 2013-11-01 │ 53.2        │ \u001b[90mmissing\u001b[39m       │ \u001b[90mmissing\u001b[39m       │"
      ]
     },
     "execution_count": 13,
     "metadata": {},
     "output_type": "execute_result"
    }
   ],
   "source": [
    "df_ISM_Mfc_Emp = fetch_data(file_ISM_Mfc_Emp, \"yyyy.mm.dd\")"
   ]
  },
  {
   "cell_type": "markdown",
   "metadata": {},
   "source": [
    "## Markit - Manufacturing PMI"
   ]
  },
  {
   "cell_type": "code",
   "execution_count": 15,
   "metadata": {},
   "outputs": [
    {
     "data": {
      "text/html": [
       "<table class=\"data-frame\"><thead><tr><th></th><th>Date</th><th>ActualValue</th><th>ForecastValue</th><th>PreviousValue</th></tr><tr><th></th><th>Date</th><th>Float64</th><th>Float64?</th><th>Float64?</th></tr></thead><tbody><p>200 rows × 4 columns</p><tr><th>1</th><td>2020-08-21</td><td>53.6</td><td>51.1</td><td>50.9</td></tr><tr><th>2</th><td>2020-08-03</td><td>50.9</td><td>51.3</td><td>51.3</td></tr><tr><th>3</th><td>2020-07-24</td><td>51.3</td><td>49.7</td><td>49.8</td></tr><tr><th>4</th><td>2020-07-01</td><td>49.8</td><td>49.6</td><td>49.6</td></tr><tr><th>5</th><td>2020-06-23</td><td>49.6</td><td>42.3</td><td>39.8</td></tr><tr><th>6</th><td>2020-06-01</td><td>39.8</td><td>39.8</td><td>39.8</td></tr><tr><th>7</th><td>2020-05-21</td><td>39.8</td><td>37.9</td><td>36.1</td></tr><tr><th>8</th><td>2020-05-01</td><td>36.1</td><td>36.9</td><td>36.9</td></tr><tr><th>9</th><td>2020-04-23</td><td>36.9</td><td>47.5</td><td>48.5</td></tr><tr><th>10</th><td>2020-04-01</td><td>48.5</td><td>49.2</td><td>49.2</td></tr><tr><th>11</th><td>2020-03-24</td><td>49.2</td><td>50.5</td><td>50.7</td></tr><tr><th>12</th><td>2020-03-02</td><td>50.7</td><td>50.8</td><td>50.8</td></tr><tr><th>13</th><td>2020-02-21</td><td>50.8</td><td>50.9</td><td>51.9</td></tr><tr><th>14</th><td>2020-02-03</td><td>51.9</td><td>51.7</td><td>51.7</td></tr><tr><th>15</th><td>2020-01-24</td><td>51.7</td><td>52.3</td><td>52.4</td></tr><tr><th>16</th><td>2020-01-02</td><td>52.4</td><td>52.5</td><td>52.5</td></tr><tr><th>17</th><td>2019-12-16</td><td>52.5</td><td>52.4</td><td>52.6</td></tr><tr><th>18</th><td>2019-12-02</td><td>52.6</td><td>52.2</td><td>52.2</td></tr><tr><th>19</th><td>2019-11-22</td><td>52.2</td><td>51.4</td><td>51.3</td></tr><tr><th>20</th><td>2019-11-01</td><td>51.3</td><td>51.5</td><td>51.5</td></tr><tr><th>21</th><td>2019-10-24</td><td>51.5</td><td>51.0</td><td>51.1</td></tr><tr><th>22</th><td>2019-10-01</td><td>51.1</td><td>51.0</td><td>51.0</td></tr><tr><th>23</th><td>2019-09-23</td><td>51.0</td><td>50.4</td><td>50.3</td></tr><tr><th>24</th><td>2019-09-03</td><td>50.3</td><td>49.9</td><td>49.9</td></tr><tr><th>25</th><td>2019-08-22</td><td>49.9</td><td>50.2</td><td>50.4</td></tr><tr><th>26</th><td>2019-08-01</td><td>50.4</td><td>50.0</td><td>50.0</td></tr><tr><th>27</th><td>2019-07-24</td><td>50.0</td><td>50.3</td><td>50.6</td></tr><tr><th>28</th><td>2019-07-01</td><td>50.6</td><td>50.1</td><td>50.1</td></tr><tr><th>29</th><td>2019-06-21</td><td>50.1</td><td>51.0</td><td>50.5</td></tr><tr><th>30</th><td>2019-06-03</td><td>50.5</td><td>50.6</td><td>50.6</td></tr><tr><th>&vellip;</th><td>&vellip;</td><td>&vellip;</td><td>&vellip;</td><td>&vellip;</td></tr></tbody></table>"
      ],
      "text/latex": [
       "\\begin{tabular}{r|cccc}\n",
       "\t& Date & ActualValue & ForecastValue & PreviousValue\\\\\n",
       "\t\\hline\n",
       "\t& Date & Float64 & Float64? & Float64?\\\\\n",
       "\t\\hline\n",
       "\t1 & 2020-08-21 & 53.6 & 51.1 & 50.9 \\\\\n",
       "\t2 & 2020-08-03 & 50.9 & 51.3 & 51.3 \\\\\n",
       "\t3 & 2020-07-24 & 51.3 & 49.7 & 49.8 \\\\\n",
       "\t4 & 2020-07-01 & 49.8 & 49.6 & 49.6 \\\\\n",
       "\t5 & 2020-06-23 & 49.6 & 42.3 & 39.8 \\\\\n",
       "\t6 & 2020-06-01 & 39.8 & 39.8 & 39.8 \\\\\n",
       "\t7 & 2020-05-21 & 39.8 & 37.9 & 36.1 \\\\\n",
       "\t8 & 2020-05-01 & 36.1 & 36.9 & 36.9 \\\\\n",
       "\t9 & 2020-04-23 & 36.9 & 47.5 & 48.5 \\\\\n",
       "\t10 & 2020-04-01 & 48.5 & 49.2 & 49.2 \\\\\n",
       "\t11 & 2020-03-24 & 49.2 & 50.5 & 50.7 \\\\\n",
       "\t12 & 2020-03-02 & 50.7 & 50.8 & 50.8 \\\\\n",
       "\t13 & 2020-02-21 & 50.8 & 50.9 & 51.9 \\\\\n",
       "\t14 & 2020-02-03 & 51.9 & 51.7 & 51.7 \\\\\n",
       "\t15 & 2020-01-24 & 51.7 & 52.3 & 52.4 \\\\\n",
       "\t16 & 2020-01-02 & 52.4 & 52.5 & 52.5 \\\\\n",
       "\t17 & 2019-12-16 & 52.5 & 52.4 & 52.6 \\\\\n",
       "\t18 & 2019-12-02 & 52.6 & 52.2 & 52.2 \\\\\n",
       "\t19 & 2019-11-22 & 52.2 & 51.4 & 51.3 \\\\\n",
       "\t20 & 2019-11-01 & 51.3 & 51.5 & 51.5 \\\\\n",
       "\t21 & 2019-10-24 & 51.5 & 51.0 & 51.1 \\\\\n",
       "\t22 & 2019-10-01 & 51.1 & 51.0 & 51.0 \\\\\n",
       "\t23 & 2019-09-23 & 51.0 & 50.4 & 50.3 \\\\\n",
       "\t24 & 2019-09-03 & 50.3 & 49.9 & 49.9 \\\\\n",
       "\t25 & 2019-08-22 & 49.9 & 50.2 & 50.4 \\\\\n",
       "\t26 & 2019-08-01 & 50.4 & 50.0 & 50.0 \\\\\n",
       "\t27 & 2019-07-24 & 50.0 & 50.3 & 50.6 \\\\\n",
       "\t28 & 2019-07-01 & 50.6 & 50.1 & 50.1 \\\\\n",
       "\t29 & 2019-06-21 & 50.1 & 51.0 & 50.5 \\\\\n",
       "\t30 & 2019-06-03 & 50.5 & 50.6 & 50.6 \\\\\n",
       "\t$\\dots$ & $\\dots$ & $\\dots$ & $\\dots$ & $\\dots$ \\\\\n",
       "\\end{tabular}\n"
      ],
      "text/plain": [
       "200×4 DataFrame\n",
       "│ Row │ Date       │ ActualValue │ ForecastValue │ PreviousValue │\n",
       "│     │ \u001b[90mDate\u001b[39m       │ \u001b[90mFloat64\u001b[39m     │ \u001b[90mFloat64?\u001b[39m      │ \u001b[90mFloat64?\u001b[39m      │\n",
       "├─────┼────────────┼─────────────┼───────────────┼───────────────┤\n",
       "│ 1   │ 2020-08-21 │ 53.6        │ 51.1          │ 50.9          │\n",
       "│ 2   │ 2020-08-03 │ 50.9        │ 51.3          │ 51.3          │\n",
       "│ 3   │ 2020-07-24 │ 51.3        │ 49.7          │ 49.8          │\n",
       "│ 4   │ 2020-07-01 │ 49.8        │ 49.6          │ 49.6          │\n",
       "│ 5   │ 2020-06-23 │ 49.6        │ 42.3          │ 39.8          │\n",
       "│ 6   │ 2020-06-01 │ 39.8        │ 39.8          │ 39.8          │\n",
       "│ 7   │ 2020-05-21 │ 39.8        │ 37.9          │ 36.1          │\n",
       "│ 8   │ 2020-05-01 │ 36.1        │ 36.9          │ 36.9          │\n",
       "│ 9   │ 2020-04-23 │ 36.9        │ 47.5          │ 48.5          │\n",
       "│ 10  │ 2020-04-01 │ 48.5        │ 49.2          │ 49.2          │\n",
       "⋮\n",
       "│ 190 │ 2012-10-01 │ 51.1        │ \u001b[90mmissing\u001b[39m       │ 51.5          │\n",
       "│ 191 │ 2012-09-20 │ 51.5        │ \u001b[90mmissing\u001b[39m       │ 51.5          │\n",
       "│ 192 │ 2012-09-04 │ 51.5        │ \u001b[90mmissing\u001b[39m       │ 51.9          │\n",
       "│ 193 │ 2012-08-23 │ 51.9        │ \u001b[90mmissing\u001b[39m       │ 51.4          │\n",
       "│ 194 │ 2012-08-01 │ 51.4        │ \u001b[90mmissing\u001b[39m       │ 51.8          │\n",
       "│ 195 │ 2012-07-24 │ 51.8        │ \u001b[90mmissing\u001b[39m       │ 52.5          │\n",
       "│ 196 │ 2012-07-02 │ 52.5        │ \u001b[90mmissing\u001b[39m       │ 52.9          │\n",
       "│ 197 │ 2012-06-21 │ 52.9        │ \u001b[90mmissing\u001b[39m       │ 54.0          │\n",
       "│ 198 │ 2012-06-01 │ 54.0        │ \u001b[90mmissing\u001b[39m       │ 53.9          │\n",
       "│ 199 │ 2012-05-24 │ 53.9        │ \u001b[90mmissing\u001b[39m       │ 56.0          │\n",
       "│ 200 │ 2012-04-25 │ 56.0        │ \u001b[90mmissing\u001b[39m       │ \u001b[90mmissing\u001b[39m       │"
      ]
     },
     "execution_count": 15,
     "metadata": {},
     "output_type": "execute_result"
    }
   ],
   "source": [
    "df_Markkit_Mfc_PMI = fetch_data(file_Markkit_Mfc_PMI, \"yyyy.mm.dd\")"
   ]
  },
  {
   "cell_type": "markdown",
   "metadata": {},
   "source": [
    "# Visualize the Data\n",
    "\n",
    "Visualization of the data is important to identify:\n",
    "- possible correlations (patterns)\n",
    "- missing data (e.g. before certain date)\n",
    "- wrong types of data (text vs. numbers, etc.)"
   ]
  },
  {
   "cell_type": "code",
   "execution_count": 39,
   "metadata": {},
   "outputs": [
    {
     "data": {
      "text/plain": [
       "82-element Array{Date,1}:\n",
       " 2020-08-03\n",
       " 2020-07-01\n",
       " 2020-06-01\n",
       " 2020-05-01\n",
       " 2020-04-01\n",
       " 2020-03-02\n",
       " 2020-02-03\n",
       " 2020-01-03\n",
       " 2019-12-02\n",
       " 2019-11-01\n",
       " 2019-10-01\n",
       " 2019-09-03\n",
       " 2019-08-01\n",
       " ⋮\n",
       " 2014-10-01\n",
       " 2014-09-02\n",
       " 2014-08-01\n",
       " 2014-07-01\n",
       " 2014-06-02\n",
       " 2014-05-01\n",
       " 2014-04-01\n",
       " 2014-03-03\n",
       " 2014-02-03\n",
       " 2014-01-02\n",
       " 2013-12-02\n",
       " 2013-11-01"
      ]
     },
     "execution_count": 39,
     "metadata": {},
     "output_type": "execute_result"
    }
   ],
   "source": [
    "df[:,1]"
   ]
  },
  {
   "cell_type": "markdown",
   "metadata": {},
   "source": [
    "## Plotting Data"
   ]
  },
  {
   "cell_type": "code",
   "execution_count": 40,
   "metadata": {},
   "outputs": [
    {
     "name": "stdout",
     "output_type": "stream",
     "text": [
      "2020-08-21 to 2012-04-25\n"
     ]
    },
    {
     "data": {
      "image/svg+xml": [
       "<?xml version=\"1.0\" encoding=\"utf-8\"?>\n",
       "<svg xmlns=\"http://www.w3.org/2000/svg\" xmlns:xlink=\"http://www.w3.org/1999/xlink\" width=\"800\" height=\"600\" viewBox=\"0 0 3200 2400\">\n",
       "<defs>\n",
       "  <clipPath id=\"clip9900\">\n",
       "    <rect x=\"0\" y=\"0\" width=\"3200\" height=\"2400\"/>\n",
       "  </clipPath>\n",
       "</defs>\n",
       "<path clip-path=\"url(#clip9900)\" d=\"\n",
       "M0 2400 L3200 2400 L3200 0 L0 0  Z\n",
       "  \" fill=\"#ffffff\" fill-rule=\"evenodd\" fill-opacity=\"1\"/>\n",
       "<defs>\n",
       "  <clipPath id=\"clip9901\">\n",
       "    <rect x=\"640\" y=\"0\" width=\"2241\" height=\"2241\"/>\n",
       "  </clipPath>\n",
       "</defs>\n",
       "<path clip-path=\"url(#clip9900)\" d=\"\n",
       "M216.399 2204.92 L3152.76 2204.92 L3152.76 47.2441 L216.399 47.2441  Z\n",
       "  \" fill=\"#ffffff\" fill-rule=\"evenodd\" fill-opacity=\"1\"/>\n",
       "<defs>\n",
       "  <clipPath id=\"clip9902\">\n",
       "    <rect x=\"216\" y=\"47\" width=\"2937\" height=\"2159\"/>\n",
       "  </clipPath>\n",
       "</defs>\n",
       "<polyline clip-path=\"url(#clip9902)\" style=\"stroke:#000000; stroke-width:2; stroke-opacity:0.1; fill:none\" points=\"\n",
       "  528.223,2204.92 528.223,47.2441 \n",
       "  \"/>\n",
       "<polyline clip-path=\"url(#clip9902)\" style=\"stroke:#000000; stroke-width:2; stroke-opacity:0.1; fill:none\" points=\"\n",
       "  1193.42,2204.92 1193.42,47.2441 \n",
       "  \"/>\n",
       "<polyline clip-path=\"url(#clip9902)\" style=\"stroke:#000000; stroke-width:2; stroke-opacity:0.1; fill:none\" points=\"\n",
       "  1859.53,2204.92 1859.53,47.2441 \n",
       "  \"/>\n",
       "<polyline clip-path=\"url(#clip9902)\" style=\"stroke:#000000; stroke-width:2; stroke-opacity:0.1; fill:none\" points=\"\n",
       "  2524.73,2204.92 2524.73,47.2441 \n",
       "  \"/>\n",
       "<polyline clip-path=\"url(#clip9902)\" style=\"stroke:#000000; stroke-width:2; stroke-opacity:0.1; fill:none\" points=\"\n",
       "  216.399,1781.36 3152.76,1781.36 \n",
       "  \"/>\n",
       "<polyline clip-path=\"url(#clip9902)\" style=\"stroke:#000000; stroke-width:2; stroke-opacity:0.1; fill:none\" points=\"\n",
       "  216.399,1316.62 3152.76,1316.62 \n",
       "  \"/>\n",
       "<polyline clip-path=\"url(#clip9902)\" style=\"stroke:#000000; stroke-width:2; stroke-opacity:0.1; fill:none\" points=\"\n",
       "  216.399,851.888 3152.76,851.888 \n",
       "  \"/>\n",
       "<polyline clip-path=\"url(#clip9902)\" style=\"stroke:#000000; stroke-width:2; stroke-opacity:0.1; fill:none\" points=\"\n",
       "  216.399,387.152 3152.76,387.152 \n",
       "  \"/>\n",
       "<polyline clip-path=\"url(#clip9900)\" style=\"stroke:#000000; stroke-width:4; stroke-opacity:1; fill:none\" points=\"\n",
       "  216.399,2204.92 3152.76,2204.92 \n",
       "  \"/>\n",
       "<polyline clip-path=\"url(#clip9900)\" style=\"stroke:#000000; stroke-width:4; stroke-opacity:1; fill:none\" points=\"\n",
       "  216.399,2204.92 216.399,47.2441 \n",
       "  \"/>\n",
       "<polyline clip-path=\"url(#clip9900)\" style=\"stroke:#000000; stroke-width:4; stroke-opacity:1; fill:none\" points=\"\n",
       "  528.223,2204.92 528.223,2179.03 \n",
       "  \"/>\n",
       "<polyline clip-path=\"url(#clip9900)\" style=\"stroke:#000000; stroke-width:4; stroke-opacity:1; fill:none\" points=\"\n",
       "  1193.42,2204.92 1193.42,2179.03 \n",
       "  \"/>\n",
       "<polyline clip-path=\"url(#clip9900)\" style=\"stroke:#000000; stroke-width:4; stroke-opacity:1; fill:none\" points=\"\n",
       "  1859.53,2204.92 1859.53,2179.03 \n",
       "  \"/>\n",
       "<polyline clip-path=\"url(#clip9900)\" style=\"stroke:#000000; stroke-width:4; stroke-opacity:1; fill:none\" points=\"\n",
       "  2524.73,2204.92 2524.73,2179.03 \n",
       "  \"/>\n",
       "<polyline clip-path=\"url(#clip9900)\" style=\"stroke:#000000; stroke-width:4; stroke-opacity:1; fill:none\" points=\"\n",
       "  216.399,1781.36 251.635,1781.36 \n",
       "  \"/>\n",
       "<polyline clip-path=\"url(#clip9900)\" style=\"stroke:#000000; stroke-width:4; stroke-opacity:1; fill:none\" points=\"\n",
       "  216.399,1316.62 251.635,1316.62 \n",
       "  \"/>\n",
       "<polyline clip-path=\"url(#clip9900)\" style=\"stroke:#000000; stroke-width:4; stroke-opacity:1; fill:none\" points=\"\n",
       "  216.399,851.888 251.635,851.888 \n",
       "  \"/>\n",
       "<polyline clip-path=\"url(#clip9900)\" style=\"stroke:#000000; stroke-width:4; stroke-opacity:1; fill:none\" points=\"\n",
       "  216.399,387.152 251.635,387.152 \n",
       "  \"/>\n",
       "<path clip-path=\"url(#clip9900)\" d=\"M 0 0 M415.7 2258.46 L432.02 2258.46 L432.02 2262.39 L410.075 2262.39 L410.075 2258.46 Q412.737 2255.7 417.321 2251.07 Q421.927 2246.42 423.108 2245.08 Q425.353 2242.55 426.233 2240.82 Q427.135 2239.06 427.135 2237.37 Q427.135 2234.61 425.191 2232.88 Q423.27 2231.14 420.168 2231.14 Q417.969 2231.14 415.515 2231.91 Q413.085 2232.67 410.307 2234.22 L410.307 2229.5 Q413.131 2228.36 415.585 2227.79 Q418.038 2227.21 420.075 2227.21 Q425.446 2227.21 428.64 2229.89 Q431.834 2232.58 431.834 2237.07 Q431.834 2239.2 431.024 2241.12 Q430.237 2243.02 428.131 2245.61 Q427.552 2246.28 424.45 2249.5 Q421.348 2252.69 415.7 2258.46 Z\" fill=\"#000000\" fill-rule=\"evenodd\" fill-opacity=\"1\" /><path clip-path=\"url(#clip9900)\" d=\"M 0 0 M447.089 2230.91 Q443.478 2230.91 441.649 2234.48 Q439.844 2238.02 439.844 2245.15 Q439.844 2252.25 441.649 2255.82 Q443.478 2259.36 447.089 2259.36 Q450.723 2259.36 452.529 2255.82 Q454.358 2252.25 454.358 2245.15 Q454.358 2238.02 452.529 2234.48 Q450.723 2230.91 447.089 2230.91 M447.089 2227.21 Q452.899 2227.21 455.955 2231.81 Q459.033 2236.4 459.033 2245.15 Q459.033 2253.87 455.955 2258.48 Q452.899 2263.06 447.089 2263.06 Q441.279 2263.06 438.2 2258.48 Q435.145 2253.87 435.145 2245.15 Q435.145 2236.4 438.2 2231.81 Q441.279 2227.21 447.089 2227.21 Z\" fill=\"#000000\" fill-rule=\"evenodd\" fill-opacity=\"1\" /><path clip-path=\"url(#clip9900)\" d=\"M 0 0 M464.913 2258.46 L472.552 2258.46 L472.552 2232.09 L464.242 2233.76 L464.242 2229.5 L472.506 2227.83 L477.181 2227.83 L477.181 2258.46 L484.82 2258.46 L484.82 2262.39 L464.913 2262.39 L464.913 2258.46 Z\" fill=\"#000000\" fill-rule=\"evenodd\" fill-opacity=\"1\" /><path clip-path=\"url(#clip9900)\" d=\"M 0 0 M504.056 2243.76 Q507.413 2244.48 509.288 2246.74 Q511.186 2249.01 511.186 2252.35 Q511.186 2257.46 507.667 2260.26 Q504.149 2263.06 497.667 2263.06 Q495.492 2263.06 493.177 2262.62 Q490.885 2262.21 488.431 2261.35 L488.431 2256.84 Q490.376 2257.97 492.691 2258.55 Q495.005 2259.13 497.529 2259.13 Q501.927 2259.13 504.218 2257.39 Q506.533 2255.66 506.533 2252.35 Q506.533 2249.29 504.38 2247.58 Q502.251 2245.84 498.431 2245.84 L494.404 2245.84 L494.404 2242 L498.617 2242 Q502.066 2242 503.894 2240.63 Q505.723 2239.24 505.723 2236.65 Q505.723 2233.99 503.825 2232.58 Q501.95 2231.14 498.431 2231.14 Q496.51 2231.14 494.311 2231.56 Q492.112 2231.98 489.473 2232.85 L489.473 2228.69 Q492.135 2227.95 494.45 2227.58 Q496.788 2227.21 498.848 2227.21 Q504.172 2227.21 507.274 2229.64 Q510.376 2232.04 510.376 2236.17 Q510.376 2239.04 508.732 2241.03 Q507.089 2242.99 504.056 2243.76 Z\" fill=\"#000000\" fill-rule=\"evenodd\" fill-opacity=\"1\" /><path clip-path=\"url(#clip9900)\" d=\"M 0 0 M513.501 2247.51 L525.977 2247.51 L525.977 2251.3 L513.501 2251.3 L513.501 2247.51 Z\" fill=\"#000000\" fill-rule=\"evenodd\" fill-opacity=\"1\" /><path clip-path=\"url(#clip9900)\" d=\"M 0 0 M541.047 2230.91 Q537.436 2230.91 535.607 2234.48 Q533.802 2238.02 533.802 2245.15 Q533.802 2252.25 535.607 2255.82 Q537.436 2259.36 541.047 2259.36 Q544.681 2259.36 546.487 2255.82 Q548.315 2252.25 548.315 2245.15 Q548.315 2238.02 546.487 2234.48 Q544.681 2230.91 541.047 2230.91 M541.047 2227.21 Q546.857 2227.21 549.913 2231.81 Q552.991 2236.4 552.991 2245.15 Q552.991 2253.87 549.913 2258.48 Q546.857 2263.06 541.047 2263.06 Q535.237 2263.06 532.158 2258.48 Q529.102 2253.87 529.102 2245.15 Q529.102 2236.4 532.158 2231.81 Q535.237 2227.21 541.047 2227.21 Z\" fill=\"#000000\" fill-rule=\"evenodd\" fill-opacity=\"1\" /><path clip-path=\"url(#clip9900)\" d=\"M 0 0 M558.871 2258.46 L566.51 2258.46 L566.51 2232.09 L558.2 2233.76 L558.2 2229.5 L566.463 2227.83 L571.139 2227.83 L571.139 2258.46 L578.778 2258.46 L578.778 2262.39 L558.871 2262.39 L558.871 2258.46 Z\" fill=\"#000000\" fill-rule=\"evenodd\" fill-opacity=\"1\" /><path clip-path=\"url(#clip9900)\" d=\"M 0 0 M581.093 2247.51 L593.57 2247.51 L593.57 2251.3 L581.093 2251.3 L581.093 2247.51 Z\" fill=\"#000000\" fill-rule=\"evenodd\" fill-opacity=\"1\" /><path clip-path=\"url(#clip9900)\" d=\"M 0 0 M608.639 2230.91 Q605.028 2230.91 603.199 2234.48 Q601.394 2238.02 601.394 2245.15 Q601.394 2252.25 603.199 2255.82 Q605.028 2259.36 608.639 2259.36 Q612.273 2259.36 614.079 2255.82 Q615.908 2252.25 615.908 2245.15 Q615.908 2238.02 614.079 2234.48 Q612.273 2230.91 608.639 2230.91 M608.639 2227.21 Q614.449 2227.21 617.505 2231.81 Q620.583 2236.4 620.583 2245.15 Q620.583 2253.87 617.505 2258.48 Q614.449 2263.06 608.639 2263.06 Q602.829 2263.06 599.75 2258.48 Q596.695 2253.87 596.695 2245.15 Q596.695 2236.4 599.75 2231.81 Q602.829 2227.21 608.639 2227.21 Z\" fill=\"#000000\" fill-rule=\"evenodd\" fill-opacity=\"1\" /><path clip-path=\"url(#clip9900)\" d=\"M 0 0 M626.463 2258.46 L634.102 2258.46 L634.102 2232.09 L625.792 2233.76 L625.792 2229.5 L634.056 2227.83 L638.732 2227.83 L638.732 2258.46 L646.37 2258.46 L646.37 2262.39 L626.463 2262.39 L626.463 2258.46 Z\" fill=\"#000000\" fill-rule=\"evenodd\" fill-opacity=\"1\" /><path clip-path=\"url(#clip9900)\" d=\"M 0 0 M1081.07 2258.46 L1097.39 2258.46 L1097.39 2262.39 L1075.45 2262.39 L1075.45 2258.46 Q1078.11 2255.7 1082.69 2251.07 Q1087.3 2246.42 1088.48 2245.08 Q1090.73 2242.55 1091.61 2240.82 Q1092.51 2239.06 1092.51 2237.37 Q1092.51 2234.61 1090.56 2232.88 Q1088.64 2231.14 1085.54 2231.14 Q1083.34 2231.14 1080.89 2231.91 Q1078.46 2232.67 1075.68 2234.22 L1075.68 2229.5 Q1078.5 2228.36 1080.96 2227.79 Q1083.41 2227.21 1085.45 2227.21 Q1090.82 2227.21 1094.01 2229.89 Q1097.21 2232.58 1097.21 2237.07 Q1097.21 2239.2 1096.4 2241.12 Q1095.61 2243.02 1093.5 2245.61 Q1092.93 2246.28 1089.82 2249.5 Q1086.72 2252.69 1081.07 2258.46 Z\" fill=\"#000000\" fill-rule=\"evenodd\" fill-opacity=\"1\" /><path clip-path=\"url(#clip9900)\" d=\"M 0 0 M1112.46 2230.91 Q1108.85 2230.91 1107.02 2234.48 Q1105.22 2238.02 1105.22 2245.15 Q1105.22 2252.25 1107.02 2255.82 Q1108.85 2259.36 1112.46 2259.36 Q1116.1 2259.36 1117.9 2255.82 Q1119.73 2252.25 1119.73 2245.15 Q1119.73 2238.02 1117.9 2234.48 Q1116.1 2230.91 1112.46 2230.91 M1112.46 2227.21 Q1118.27 2227.21 1121.33 2231.81 Q1124.41 2236.4 1124.41 2245.15 Q1124.41 2253.87 1121.33 2258.48 Q1118.27 2263.06 1112.46 2263.06 Q1106.65 2263.06 1103.57 2258.48 Q1100.52 2253.87 1100.52 2245.15 Q1100.52 2236.4 1103.57 2231.81 Q1106.65 2227.21 1112.46 2227.21 Z\" fill=\"#000000\" fill-rule=\"evenodd\" fill-opacity=\"1\" /><path clip-path=\"url(#clip9900)\" d=\"M 0 0 M1130.29 2258.46 L1137.93 2258.46 L1137.93 2232.09 L1129.62 2233.76 L1129.62 2229.5 L1137.88 2227.83 L1142.56 2227.83 L1142.56 2258.46 L1150.19 2258.46 L1150.19 2262.39 L1130.29 2262.39 L1130.29 2258.46 Z\" fill=\"#000000\" fill-rule=\"evenodd\" fill-opacity=\"1\" /><path clip-path=\"url(#clip9900)\" d=\"M 0 0 M1155.31 2227.83 L1173.67 2227.83 L1173.67 2231.77 L1159.59 2231.77 L1159.59 2240.24 Q1160.61 2239.89 1161.63 2239.73 Q1162.65 2239.54 1163.67 2239.54 Q1169.45 2239.54 1172.83 2242.72 Q1176.21 2245.89 1176.21 2251.3 Q1176.21 2256.88 1172.74 2259.98 Q1169.27 2263.06 1162.95 2263.06 Q1160.77 2263.06 1158.5 2262.69 Q1156.26 2262.32 1153.85 2261.58 L1153.85 2256.88 Q1155.93 2258.02 1158.16 2258.57 Q1160.38 2259.13 1162.86 2259.13 Q1166.86 2259.13 1169.2 2257.02 Q1171.54 2254.92 1171.54 2251.3 Q1171.54 2247.69 1169.2 2245.59 Q1166.86 2243.48 1162.86 2243.48 Q1160.98 2243.48 1159.11 2243.9 Q1157.25 2244.31 1155.31 2245.19 L1155.31 2227.83 Z\" fill=\"#000000\" fill-rule=\"evenodd\" fill-opacity=\"1\" /><path clip-path=\"url(#clip9900)\" d=\"M 0 0 M1178.53 2247.51 L1191 2247.51 L1191 2251.3 L1178.53 2251.3 L1178.53 2247.51 Z\" fill=\"#000000\" fill-rule=\"evenodd\" fill-opacity=\"1\" /><path clip-path=\"url(#clip9900)\" d=\"M 0 0 M1206.07 2230.91 Q1202.46 2230.91 1200.63 2234.48 Q1198.83 2238.02 1198.83 2245.15 Q1198.83 2252.25 1200.63 2255.82 Q1202.46 2259.36 1206.07 2259.36 Q1209.71 2259.36 1211.51 2255.82 Q1213.34 2252.25 1213.34 2245.15 Q1213.34 2238.02 1211.51 2234.48 Q1209.71 2230.91 1206.07 2230.91 M1206.07 2227.21 Q1211.88 2227.21 1214.94 2231.81 Q1218.02 2236.4 1218.02 2245.15 Q1218.02 2253.87 1214.94 2258.48 Q1211.88 2263.06 1206.07 2263.06 Q1200.26 2263.06 1197.18 2258.48 Q1194.13 2253.87 1194.13 2245.15 Q1194.13 2236.4 1197.18 2231.81 Q1200.26 2227.21 1206.07 2227.21 Z\" fill=\"#000000\" fill-rule=\"evenodd\" fill-opacity=\"1\" /><path clip-path=\"url(#clip9900)\" d=\"M 0 0 M1223.9 2258.46 L1231.54 2258.46 L1231.54 2232.09 L1223.23 2233.76 L1223.23 2229.5 L1231.49 2227.83 L1236.17 2227.83 L1236.17 2258.46 L1243.8 2258.46 L1243.8 2262.39 L1223.9 2262.39 L1223.9 2258.46 Z\" fill=\"#000000\" fill-rule=\"evenodd\" fill-opacity=\"1\" /><path clip-path=\"url(#clip9900)\" d=\"M 0 0 M1246.12 2247.51 L1258.6 2247.51 L1258.6 2251.3 L1246.12 2251.3 L1246.12 2247.51 Z\" fill=\"#000000\" fill-rule=\"evenodd\" fill-opacity=\"1\" /><path clip-path=\"url(#clip9900)\" d=\"M 0 0 M1273.67 2230.91 Q1270.05 2230.91 1268.23 2234.48 Q1266.42 2238.02 1266.42 2245.15 Q1266.42 2252.25 1268.23 2255.82 Q1270.05 2259.36 1273.67 2259.36 Q1277.3 2259.36 1279.11 2255.82 Q1280.93 2252.25 1280.93 2245.15 Q1280.93 2238.02 1279.11 2234.48 Q1277.3 2230.91 1273.67 2230.91 M1273.67 2227.21 Q1279.48 2227.21 1282.53 2231.81 Q1285.61 2236.4 1285.61 2245.15 Q1285.61 2253.87 1282.53 2258.48 Q1279.48 2263.06 1273.67 2263.06 Q1267.86 2263.06 1264.78 2258.48 Q1261.72 2253.87 1261.72 2245.15 Q1261.72 2236.4 1264.78 2231.81 Q1267.86 2227.21 1273.67 2227.21 Z\" fill=\"#000000\" fill-rule=\"evenodd\" fill-opacity=\"1\" /><path clip-path=\"url(#clip9900)\" d=\"M 0 0 M1291.49 2258.46 L1299.13 2258.46 L1299.13 2232.09 L1290.82 2233.76 L1290.82 2229.5 L1299.08 2227.83 L1303.76 2227.83 L1303.76 2258.46 L1311.4 2258.46 L1311.4 2262.39 L1291.49 2262.39 L1291.49 2258.46 Z\" fill=\"#000000\" fill-rule=\"evenodd\" fill-opacity=\"1\" /><path clip-path=\"url(#clip9900)\" d=\"M 0 0 M1747.14 2258.46 L1763.46 2258.46 L1763.46 2262.39 L1741.51 2262.39 L1741.51 2258.46 Q1744.18 2255.7 1748.76 2251.07 Q1753.37 2246.42 1754.55 2245.08 Q1756.79 2242.55 1757.67 2240.82 Q1758.57 2239.06 1758.57 2237.37 Q1758.57 2234.61 1756.63 2232.88 Q1754.71 2231.14 1751.61 2231.14 Q1749.41 2231.14 1746.95 2231.91 Q1744.52 2232.67 1741.75 2234.22 L1741.75 2229.5 Q1744.57 2228.36 1747.02 2227.79 Q1749.48 2227.21 1751.51 2227.21 Q1756.88 2227.21 1760.08 2229.89 Q1763.27 2232.58 1763.27 2237.07 Q1763.27 2239.2 1762.46 2241.12 Q1761.68 2243.02 1759.57 2245.61 Q1758.99 2246.28 1755.89 2249.5 Q1752.79 2252.69 1747.14 2258.46 Z\" fill=\"#000000\" fill-rule=\"evenodd\" fill-opacity=\"1\" /><path clip-path=\"url(#clip9900)\" d=\"M 0 0 M1778.53 2230.91 Q1774.92 2230.91 1773.09 2234.48 Q1771.28 2238.02 1771.28 2245.15 Q1771.28 2252.25 1773.09 2255.82 Q1774.92 2259.36 1778.53 2259.36 Q1782.16 2259.36 1783.97 2255.82 Q1785.8 2252.25 1785.8 2245.15 Q1785.8 2238.02 1783.97 2234.48 Q1782.16 2230.91 1778.53 2230.91 M1778.53 2227.21 Q1784.34 2227.21 1787.39 2231.81 Q1790.47 2236.4 1790.47 2245.15 Q1790.47 2253.87 1787.39 2258.48 Q1784.34 2263.06 1778.53 2263.06 Q1772.72 2263.06 1769.64 2258.48 Q1766.58 2253.87 1766.58 2245.15 Q1766.58 2236.4 1769.64 2231.81 Q1772.72 2227.21 1778.53 2227.21 Z\" fill=\"#000000\" fill-rule=\"evenodd\" fill-opacity=\"1\" /><path clip-path=\"url(#clip9900)\" d=\"M 0 0 M1796.35 2258.46 L1803.99 2258.46 L1803.99 2232.09 L1795.68 2233.76 L1795.68 2229.5 L1803.94 2227.83 L1808.62 2227.83 L1808.62 2258.46 L1816.26 2258.46 L1816.26 2262.39 L1796.35 2262.39 L1796.35 2258.46 Z\" fill=\"#000000\" fill-rule=\"evenodd\" fill-opacity=\"1\" /><path clip-path=\"url(#clip9900)\" d=\"M 0 0 M1820.15 2227.83 L1842.37 2227.83 L1842.37 2229.82 L1829.82 2262.39 L1824.94 2262.39 L1836.74 2231.77 L1820.15 2231.77 L1820.15 2227.83 Z\" fill=\"#000000\" fill-rule=\"evenodd\" fill-opacity=\"1\" /><path clip-path=\"url(#clip9900)\" d=\"M 0 0 M1844.68 2247.51 L1857.16 2247.51 L1857.16 2251.3 L1844.68 2251.3 L1844.68 2247.51 Z\" fill=\"#000000\" fill-rule=\"evenodd\" fill-opacity=\"1\" /><path clip-path=\"url(#clip9900)\" d=\"M 0 0 M1872.23 2230.91 Q1868.62 2230.91 1866.79 2234.48 Q1864.99 2238.02 1864.99 2245.15 Q1864.99 2252.25 1866.79 2255.82 Q1868.62 2259.36 1872.23 2259.36 Q1875.87 2259.36 1877.67 2255.82 Q1879.5 2252.25 1879.5 2245.15 Q1879.5 2238.02 1877.67 2234.48 Q1875.87 2230.91 1872.23 2230.91 M1872.23 2227.21 Q1878.04 2227.21 1881.1 2231.81 Q1884.18 2236.4 1884.18 2245.15 Q1884.18 2253.87 1881.1 2258.48 Q1878.04 2263.06 1872.23 2263.06 Q1866.42 2263.06 1863.34 2258.48 Q1860.29 2253.87 1860.29 2245.15 Q1860.29 2236.4 1863.34 2231.81 Q1866.42 2227.21 1872.23 2227.21 Z\" fill=\"#000000\" fill-rule=\"evenodd\" fill-opacity=\"1\" /><path clip-path=\"url(#clip9900)\" d=\"M 0 0 M1890.05 2258.46 L1897.69 2258.46 L1897.69 2232.09 L1889.38 2233.76 L1889.38 2229.5 L1897.65 2227.83 L1902.32 2227.83 L1902.32 2258.46 L1909.96 2258.46 L1909.96 2262.39 L1890.05 2262.39 L1890.05 2258.46 Z\" fill=\"#000000\" fill-rule=\"evenodd\" fill-opacity=\"1\" /><path clip-path=\"url(#clip9900)\" d=\"M 0 0 M1912.28 2247.51 L1924.75 2247.51 L1924.75 2251.3 L1912.28 2251.3 L1912.28 2247.51 Z\" fill=\"#000000\" fill-rule=\"evenodd\" fill-opacity=\"1\" /><path clip-path=\"url(#clip9900)\" d=\"M 0 0 M1939.82 2230.91 Q1936.21 2230.91 1934.38 2234.48 Q1932.58 2238.02 1932.58 2245.15 Q1932.58 2252.25 1934.38 2255.82 Q1936.21 2259.36 1939.82 2259.36 Q1943.46 2259.36 1945.26 2255.82 Q1947.09 2252.25 1947.09 2245.15 Q1947.09 2238.02 1945.26 2234.48 Q1943.46 2230.91 1939.82 2230.91 M1939.82 2227.21 Q1945.63 2227.21 1948.69 2231.81 Q1951.77 2236.4 1951.77 2245.15 Q1951.77 2253.87 1948.69 2258.48 Q1945.63 2263.06 1939.82 2263.06 Q1934.01 2263.06 1930.93 2258.48 Q1927.88 2253.87 1927.88 2245.15 Q1927.88 2236.4 1930.93 2231.81 Q1934.01 2227.21 1939.82 2227.21 Z\" fill=\"#000000\" fill-rule=\"evenodd\" fill-opacity=\"1\" /><path clip-path=\"url(#clip9900)\" d=\"M 0 0 M1957.65 2258.46 L1965.29 2258.46 L1965.29 2232.09 L1956.98 2233.76 L1956.98 2229.5 L1965.24 2227.83 L1969.92 2227.83 L1969.92 2258.46 L1977.55 2258.46 L1977.55 2262.39 L1957.65 2262.39 L1957.65 2258.46 Z\" fill=\"#000000\" fill-rule=\"evenodd\" fill-opacity=\"1\" /><path clip-path=\"url(#clip9900)\" d=\"M 0 0 M2411.98 2258.46 L2428.3 2258.46 L2428.3 2262.39 L2406.36 2262.39 L2406.36 2258.46 Q2409.02 2255.7 2413.6 2251.07 Q2418.21 2246.42 2419.39 2245.08 Q2421.63 2242.55 2422.51 2240.82 Q2423.42 2239.06 2423.42 2237.37 Q2423.42 2234.61 2421.47 2232.88 Q2419.55 2231.14 2416.45 2231.14 Q2414.25 2231.14 2411.79 2231.91 Q2409.36 2232.67 2406.59 2234.22 L2406.59 2229.5 Q2409.41 2228.36 2411.86 2227.79 Q2414.32 2227.21 2416.36 2227.21 Q2421.73 2227.21 2424.92 2229.89 Q2428.11 2232.58 2428.11 2237.07 Q2428.11 2239.2 2427.3 2241.12 Q2426.52 2243.02 2424.41 2245.61 Q2423.83 2246.28 2420.73 2249.5 Q2417.63 2252.69 2411.98 2258.46 Z\" fill=\"#000000\" fill-rule=\"evenodd\" fill-opacity=\"1\" /><path clip-path=\"url(#clip9900)\" d=\"M 0 0 M2443.37 2230.91 Q2439.76 2230.91 2437.93 2234.48 Q2436.12 2238.02 2436.12 2245.15 Q2436.12 2252.25 2437.93 2255.82 Q2439.76 2259.36 2443.37 2259.36 Q2447 2259.36 2448.81 2255.82 Q2450.64 2252.25 2450.64 2245.15 Q2450.64 2238.02 2448.81 2234.48 Q2447 2230.91 2443.37 2230.91 M2443.37 2227.21 Q2449.18 2227.21 2452.23 2231.81 Q2455.31 2236.4 2455.31 2245.15 Q2455.31 2253.87 2452.23 2258.48 Q2449.18 2263.06 2443.37 2263.06 Q2437.56 2263.06 2434.48 2258.48 Q2431.42 2253.87 2431.42 2245.15 Q2431.42 2236.4 2434.48 2231.81 Q2437.56 2227.21 2443.37 2227.21 Z\" fill=\"#000000\" fill-rule=\"evenodd\" fill-opacity=\"1\" /><path clip-path=\"url(#clip9900)\" d=\"M 0 0 M2461.19 2258.46 L2468.83 2258.46 L2468.83 2232.09 L2460.52 2233.76 L2460.52 2229.5 L2468.79 2227.83 L2473.46 2227.83 L2473.46 2258.46 L2481.1 2258.46 L2481.1 2262.39 L2461.19 2262.39 L2461.19 2258.46 Z\" fill=\"#000000\" fill-rule=\"evenodd\" fill-opacity=\"1\" /><path clip-path=\"url(#clip9900)\" d=\"M 0 0 M2486.31 2261.67 L2486.31 2257.42 Q2488.07 2258.25 2489.87 2258.69 Q2491.68 2259.13 2493.41 2259.13 Q2498.04 2259.13 2500.48 2256.03 Q2502.93 2252.9 2503.28 2246.56 Q2501.93 2248.55 2499.87 2249.61 Q2497.81 2250.68 2495.31 2250.68 Q2490.13 2250.68 2487.1 2247.55 Q2484.09 2244.41 2484.09 2238.97 Q2484.09 2233.64 2487.23 2230.42 Q2490.38 2227.21 2495.61 2227.21 Q2501.61 2227.21 2504.76 2231.81 Q2507.93 2236.4 2507.93 2245.15 Q2507.93 2253.32 2504.04 2258.2 Q2500.17 2263.06 2493.62 2263.06 Q2491.86 2263.06 2490.06 2262.72 Q2488.25 2262.37 2486.31 2261.67 M2495.61 2247.02 Q2498.76 2247.02 2500.59 2244.87 Q2502.44 2242.72 2502.44 2238.97 Q2502.44 2235.24 2500.59 2233.09 Q2498.76 2230.91 2495.61 2230.91 Q2492.47 2230.91 2490.61 2233.09 Q2488.79 2235.24 2488.79 2238.97 Q2488.79 2242.72 2490.61 2244.87 Q2492.47 2247.02 2495.61 2247.02 Z\" fill=\"#000000\" fill-rule=\"evenodd\" fill-opacity=\"1\" /><path clip-path=\"url(#clip9900)\" d=\"M 0 0 M2510.24 2247.51 L2522.72 2247.51 L2522.72 2251.3 L2510.24 2251.3 L2510.24 2247.51 Z\" fill=\"#000000\" fill-rule=\"evenodd\" fill-opacity=\"1\" /><path clip-path=\"url(#clip9900)\" d=\"M 0 0 M2537.79 2230.91 Q2534.18 2230.91 2532.35 2234.48 Q2530.54 2238.02 2530.54 2245.15 Q2530.54 2252.25 2532.35 2255.82 Q2534.18 2259.36 2537.79 2259.36 Q2541.42 2259.36 2543.23 2255.82 Q2545.06 2252.25 2545.06 2245.15 Q2545.06 2238.02 2543.23 2234.48 Q2541.42 2230.91 2537.79 2230.91 M2537.79 2227.21 Q2543.6 2227.21 2546.66 2231.81 Q2549.73 2236.4 2549.73 2245.15 Q2549.73 2253.87 2546.66 2258.48 Q2543.6 2263.06 2537.79 2263.06 Q2531.98 2263.06 2528.9 2258.48 Q2525.85 2253.87 2525.85 2245.15 Q2525.85 2236.4 2528.9 2231.81 Q2531.98 2227.21 2537.79 2227.21 Z\" fill=\"#000000\" fill-rule=\"evenodd\" fill-opacity=\"1\" /><path clip-path=\"url(#clip9900)\" d=\"M 0 0 M2555.61 2258.46 L2563.25 2258.46 L2563.25 2232.09 L2554.94 2233.76 L2554.94 2229.5 L2563.21 2227.83 L2567.88 2227.83 L2567.88 2258.46 L2575.52 2258.46 L2575.52 2262.39 L2555.61 2262.39 L2555.61 2258.46 Z\" fill=\"#000000\" fill-rule=\"evenodd\" fill-opacity=\"1\" /><path clip-path=\"url(#clip9900)\" d=\"M 0 0 M2577.84 2247.51 L2590.31 2247.51 L2590.31 2251.3 L2577.84 2251.3 L2577.84 2247.51 Z\" fill=\"#000000\" fill-rule=\"evenodd\" fill-opacity=\"1\" /><path clip-path=\"url(#clip9900)\" d=\"M 0 0 M2605.38 2230.91 Q2601.77 2230.91 2599.94 2234.48 Q2598.14 2238.02 2598.14 2245.15 Q2598.14 2252.25 2599.94 2255.82 Q2601.77 2259.36 2605.38 2259.36 Q2609.02 2259.36 2610.82 2255.82 Q2612.65 2252.25 2612.65 2245.15 Q2612.65 2238.02 2610.82 2234.48 Q2609.02 2230.91 2605.38 2230.91 M2605.38 2227.21 Q2611.19 2227.21 2614.25 2231.81 Q2617.33 2236.4 2617.33 2245.15 Q2617.33 2253.87 2614.25 2258.48 Q2611.19 2263.06 2605.38 2263.06 Q2599.57 2263.06 2596.49 2258.48 Q2593.44 2253.87 2593.44 2245.15 Q2593.44 2236.4 2596.49 2231.81 Q2599.57 2227.21 2605.38 2227.21 Z\" fill=\"#000000\" fill-rule=\"evenodd\" fill-opacity=\"1\" /><path clip-path=\"url(#clip9900)\" d=\"M 0 0 M2623.21 2258.46 L2630.84 2258.46 L2630.84 2232.09 L2622.53 2233.76 L2622.53 2229.5 L2630.8 2227.83 L2635.47 2227.83 L2635.47 2258.46 L2643.11 2258.46 L2643.11 2262.39 L2623.21 2262.39 L2623.21 2258.46 Z\" fill=\"#000000\" fill-rule=\"evenodd\" fill-opacity=\"1\" /><path clip-path=\"url(#clip9900)\" d=\"M 0 0 M147.802 1768.15 L135.996 1786.6 L147.802 1786.6 L147.802 1768.15 M146.575 1764.08 L152.455 1764.08 L152.455 1786.6 L157.385 1786.6 L157.385 1790.49 L152.455 1790.49 L152.455 1798.64 L147.802 1798.64 L147.802 1790.49 L132.2 1790.49 L132.2 1785.98 L146.575 1764.08 Z\" fill=\"#000000\" fill-rule=\"evenodd\" fill-opacity=\"1\" /><path clip-path=\"url(#clip9900)\" d=\"M 0 0 M172.455 1767.16 Q168.843 1767.16 167.015 1770.72 Q165.209 1774.26 165.209 1781.39 Q165.209 1788.5 167.015 1792.07 Q168.843 1795.61 172.455 1795.61 Q176.089 1795.61 177.894 1792.07 Q179.723 1788.5 179.723 1781.39 Q179.723 1774.26 177.894 1770.72 Q176.089 1767.16 172.455 1767.16 M172.455 1763.45 Q178.265 1763.45 181.32 1768.06 Q184.399 1772.64 184.399 1781.39 Q184.399 1790.12 181.32 1794.73 Q178.265 1799.31 172.455 1799.31 Q166.644 1799.31 163.566 1794.73 Q160.51 1790.12 160.51 1781.39 Q160.51 1772.64 163.566 1768.06 Q166.644 1763.45 172.455 1763.45 Z\" fill=\"#000000\" fill-rule=\"evenodd\" fill-opacity=\"1\" /><path clip-path=\"url(#clip9900)\" d=\"M 0 0 M148.797 1303.42 L136.992 1321.87 L148.797 1321.87 L148.797 1303.42 M147.57 1299.34 L153.45 1299.34 L153.45 1321.87 L158.381 1321.87 L158.381 1325.76 L153.45 1325.76 L153.45 1333.9 L148.797 1333.9 L148.797 1325.76 L133.196 1325.76 L133.196 1321.24 L147.57 1299.34 Z\" fill=\"#000000\" fill-rule=\"evenodd\" fill-opacity=\"1\" /><path clip-path=\"url(#clip9900)\" d=\"M 0 0 M163.496 1299.34 L181.853 1299.34 L181.853 1303.28 L167.779 1303.28 L167.779 1311.75 Q168.797 1311.4 169.816 1311.24 Q170.834 1311.06 171.853 1311.06 Q177.64 1311.06 181.019 1314.23 Q184.399 1317.4 184.399 1322.82 Q184.399 1328.39 180.927 1331.5 Q177.455 1334.57 171.135 1334.57 Q168.959 1334.57 166.691 1334.2 Q164.445 1333.83 162.038 1333.09 L162.038 1328.39 Q164.121 1329.53 166.343 1330.08 Q168.566 1330.64 171.043 1330.64 Q175.047 1330.64 177.385 1328.53 Q179.723 1326.43 179.723 1322.82 Q179.723 1319.2 177.385 1317.1 Q175.047 1314.99 171.043 1314.99 Q169.168 1314.99 167.293 1315.41 Q165.441 1315.83 163.496 1316.7 L163.496 1299.34 Z\" fill=\"#000000\" fill-rule=\"evenodd\" fill-opacity=\"1\" /><path clip-path=\"url(#clip9900)\" d=\"M 0 0 M136.483 834.608 L154.839 834.608 L154.839 838.543 L140.765 838.543 L140.765 847.015 Q141.783 846.668 142.802 846.506 Q143.82 846.321 144.839 846.321 Q150.626 846.321 154.006 849.492 Q157.385 852.663 157.385 858.08 Q157.385 863.659 153.913 866.76 Q150.441 869.839 144.121 869.839 Q141.945 869.839 139.677 869.469 Q137.432 869.098 135.024 868.358 L135.024 863.659 Q137.108 864.793 139.33 865.348 Q141.552 865.904 144.029 865.904 Q148.033 865.904 150.371 863.797 Q152.709 861.691 152.709 858.08 Q152.709 854.469 150.371 852.362 Q148.033 850.256 144.029 850.256 Q142.154 850.256 140.279 850.673 Q138.427 851.089 136.483 851.969 L136.483 834.608 Z\" fill=\"#000000\" fill-rule=\"evenodd\" fill-opacity=\"1\" /><path clip-path=\"url(#clip9900)\" d=\"M 0 0 M172.455 837.686 Q168.843 837.686 167.015 841.251 Q165.209 844.793 165.209 851.923 Q165.209 859.029 167.015 862.594 Q168.843 866.135 172.455 866.135 Q176.089 866.135 177.894 862.594 Q179.723 859.029 179.723 851.923 Q179.723 844.793 177.894 841.251 Q176.089 837.686 172.455 837.686 M172.455 833.983 Q178.265 833.983 181.32 838.589 Q184.399 843.173 184.399 851.923 Q184.399 860.649 181.32 865.256 Q178.265 869.839 172.455 869.839 Q166.644 869.839 163.566 865.256 Q160.51 860.649 160.51 851.923 Q160.51 843.173 163.566 838.589 Q166.644 833.983 172.455 833.983 Z\" fill=\"#000000\" fill-rule=\"evenodd\" fill-opacity=\"1\" /><path clip-path=\"url(#clip9900)\" d=\"M 0 0 M137.478 369.872 L155.834 369.872 L155.834 373.807 L141.76 373.807 L141.76 382.279 Q142.779 381.932 143.797 381.77 Q144.816 381.585 145.834 381.585 Q151.621 381.585 155.001 384.756 Q158.381 387.927 158.381 393.344 Q158.381 398.923 154.908 402.025 Q151.436 405.103 145.117 405.103 Q142.941 405.103 140.672 404.733 Q138.427 404.362 136.02 403.622 L136.02 398.923 Q138.103 400.057 140.325 400.612 Q142.547 401.168 145.024 401.168 Q149.029 401.168 151.367 399.062 Q153.705 396.955 153.705 393.344 Q153.705 389.733 151.367 387.626 Q149.029 385.52 145.024 385.52 Q143.149 385.52 141.274 385.937 Q139.422 386.353 137.478 387.233 L137.478 369.872 Z\" fill=\"#000000\" fill-rule=\"evenodd\" fill-opacity=\"1\" /><path clip-path=\"url(#clip9900)\" d=\"M 0 0 M163.496 369.872 L181.853 369.872 L181.853 373.807 L167.779 373.807 L167.779 382.279 Q168.797 381.932 169.816 381.77 Q170.834 381.585 171.853 381.585 Q177.64 381.585 181.019 384.756 Q184.399 387.927 184.399 393.344 Q184.399 398.923 180.927 402.025 Q177.455 405.103 171.135 405.103 Q168.959 405.103 166.691 404.733 Q164.445 404.362 162.038 403.622 L162.038 398.923 Q164.121 400.057 166.343 400.612 Q168.566 401.168 171.043 401.168 Q175.047 401.168 177.385 399.062 Q179.723 396.955 179.723 393.344 Q179.723 389.733 177.385 387.626 Q175.047 385.52 171.043 385.52 Q169.168 385.52 167.293 385.937 Q165.441 386.353 163.496 387.233 L163.496 369.872 Z\" fill=\"#000000\" fill-rule=\"evenodd\" fill-opacity=\"1\" /><path clip-path=\"url(#clip9900)\" d=\"M 0 0 M1630.34 2300.01 L1630.34 2310.14 L1642.4 2310.14 L1642.4 2314.69 L1630.34 2314.69 L1630.34 2334.04 Q1630.34 2338.4 1631.52 2339.64 Q1632.73 2340.88 1636.39 2340.88 L1642.4 2340.88 L1642.4 2345.78 L1636.39 2345.78 Q1629.61 2345.78 1627.03 2343.27 Q1624.45 2340.72 1624.45 2334.04 L1624.45 2314.69 L1620.16 2314.69 L1620.16 2310.14 L1624.45 2310.14 L1624.45 2300.01 L1630.34 2300.01 Z\" fill=\"#000000\" fill-rule=\"evenodd\" fill-opacity=\"1\" /><path clip-path=\"url(#clip9900)\" d=\"M 0 0 M1648.55 2310.14 L1654.4 2310.14 L1654.4 2345.78 L1648.55 2345.78 L1648.55 2310.14 M1648.55 2296.26 L1654.4 2296.26 L1654.4 2303.67 L1648.55 2303.67 L1648.55 2296.26 Z\" fill=\"#000000\" fill-rule=\"evenodd\" fill-opacity=\"1\" /><path clip-path=\"url(#clip9900)\" d=\"M 0 0 M1688.3 2316.98 Q1690.5 2313.03 1693.55 2311.15 Q1696.61 2309.28 1700.75 2309.28 Q1706.32 2309.28 1709.34 2313.19 Q1712.36 2317.07 1712.36 2324.27 L1712.36 2345.78 L1706.48 2345.78 L1706.48 2324.46 Q1706.48 2319.33 1704.66 2316.85 Q1702.85 2314.37 1699.12 2314.37 Q1694.57 2314.37 1691.93 2317.39 Q1689.29 2320.42 1689.29 2325.64 L1689.29 2345.78 L1683.4 2345.78 L1683.4 2324.46 Q1683.4 2319.3 1681.59 2316.85 Q1679.77 2314.37 1675.98 2314.37 Q1671.5 2314.37 1668.85 2317.42 Q1666.21 2320.45 1666.21 2325.64 L1666.21 2345.78 L1660.32 2345.78 L1660.32 2310.14 L1666.21 2310.14 L1666.21 2315.67 Q1668.22 2312.4 1671.02 2310.84 Q1673.82 2309.28 1677.67 2309.28 Q1681.55 2309.28 1684.26 2311.25 Q1687 2313.22 1688.3 2316.98 Z\" fill=\"#000000\" fill-rule=\"evenodd\" fill-opacity=\"1\" /><path clip-path=\"url(#clip9900)\" d=\"M 0 0 M1749 2326.5 L1749 2329.36 L1722.07 2329.36 Q1722.45 2335.41 1725.7 2338.59 Q1728.98 2341.74 1734.8 2341.74 Q1738.18 2341.74 1741.33 2340.91 Q1744.51 2340.09 1747.63 2338.43 L1747.63 2343.97 Q1744.48 2345.31 1741.17 2346.01 Q1737.86 2346.71 1734.45 2346.71 Q1725.92 2346.71 1720.93 2341.74 Q1715.96 2336.78 1715.96 2328.31 Q1715.96 2319.56 1720.67 2314.43 Q1725.41 2309.28 1733.43 2309.28 Q1740.63 2309.28 1744.8 2313.92 Q1749 2318.54 1749 2326.5 M1743.14 2324.78 Q1743.08 2319.97 1740.44 2317.11 Q1737.83 2314.24 1733.5 2314.24 Q1728.6 2314.24 1725.64 2317.01 Q1722.71 2319.78 1722.26 2324.81 L1743.14 2324.78 Z\" fill=\"#000000\" fill-rule=\"evenodd\" fill-opacity=\"1\" /><path clip-path=\"url(#clip9900)\" d=\"M 0 0 M50.2962 1262.48 L50.2962 1256.63 L85.9442 1256.63 L85.9442 1262.48 L50.2962 1262.48 M36.419 1262.48 L36.419 1256.63 L43.835 1256.63 L43.835 1262.48 L36.419 1262.48 Z\" fill=\"#000000\" fill-rule=\"evenodd\" fill-opacity=\"1\" /><path clip-path=\"url(#clip9900)\" d=\"M 0 0 M64.4281 1220.85 L85.9442 1220.85 L85.9442 1226.71 L64.619 1226.71 Q59.5583 1226.71 57.0438 1228.68 Q54.5294 1230.65 54.5294 1234.6 Q54.5294 1239.34 57.5531 1242.08 Q60.5768 1244.82 65.7967 1244.82 L85.9442 1244.82 L85.9442 1250.71 L50.2962 1250.71 L50.2962 1244.82 L55.8344 1244.82 Q52.6197 1242.72 51.0283 1239.88 Q49.4368 1237.02 49.4368 1233.3 Q49.4368 1227.15 53.2563 1224 Q57.0438 1220.85 64.4281 1220.85 Z\" fill=\"#000000\" fill-rule=\"evenodd\" fill-opacity=\"1\" /><path clip-path=\"url(#clip9900)\" d=\"M 0 0 M55.7071 1191.25 L36.419 1191.25 L36.419 1185.39 L85.9442 1185.39 L85.9442 1191.25 L80.597 1191.25 Q83.7798 1193.1 85.3394 1195.93 Q86.8672 1198.73 86.8672 1202.68 Q86.8672 1209.14 81.711 1213.21 Q76.5547 1217.25 68.152 1217.25 Q59.7493 1217.25 54.5931 1213.21 Q49.4368 1209.14 49.4368 1202.68 Q49.4368 1198.73 50.9964 1195.93 Q52.5242 1193.1 55.7071 1191.25 M68.152 1211.21 Q74.6132 1211.21 78.3053 1208.57 Q81.9656 1205.89 81.9656 1201.25 Q81.9656 1196.6 78.3053 1193.92 Q74.6132 1191.25 68.152 1191.25 Q61.6908 1191.25 58.0305 1193.92 Q54.3384 1196.6 54.3384 1201.25 Q54.3384 1205.89 58.0305 1208.57 Q61.6908 1211.21 68.152 1211.21 Z\" fill=\"#000000\" fill-rule=\"evenodd\" fill-opacity=\"1\" /><path clip-path=\"url(#clip9900)\" d=\"M 0 0 M50.2962 1179.25 L50.2962 1173.4 L85.9442 1173.4 L85.9442 1179.25 L50.2962 1179.25 M36.419 1179.25 L36.419 1173.4 L43.835 1173.4 L43.835 1179.25 L36.419 1179.25 Z\" fill=\"#000000\" fill-rule=\"evenodd\" fill-opacity=\"1\" /><path clip-path=\"url(#clip9900)\" d=\"M 0 0 M51.6648 1141.6 L57.1393 1141.6 Q55.7707 1144.08 55.1023 1146.6 Q54.4021 1149.08 54.4021 1151.62 Q54.4021 1157.32 58.0305 1160.47 Q61.6272 1163.62 68.152 1163.62 Q74.6769 1163.62 78.3053 1160.47 Q81.9019 1157.32 81.9019 1151.62 Q81.9019 1149.08 81.2335 1146.6 Q80.5333 1144.08 79.1647 1141.6 L84.5755 1141.6 Q85.7214 1144.05 86.2943 1146.69 Q86.8672 1149.3 86.8672 1152.26 Q86.8672 1160.31 81.8064 1165.06 Q76.7457 1169.8 68.152 1169.8 Q59.431 1169.8 54.4339 1165.02 Q49.4368 1160.22 49.4368 1151.88 Q49.4368 1149.17 50.0097 1146.6 Q50.5508 1144.02 51.6648 1141.6 Z\" fill=\"#000000\" fill-rule=\"evenodd\" fill-opacity=\"1\" /><path clip-path=\"url(#clip9900)\" d=\"M 0 0 M68.0247 1119.25 Q68.0247 1126.35 69.6479 1129.09 Q71.2712 1131.83 75.1861 1131.83 Q78.3053 1131.83 80.1514 1129.79 Q81.9656 1127.72 81.9656 1124.19 Q81.9656 1119.32 78.5281 1116.39 Q75.0588 1113.43 69.3297 1113.43 L68.0247 1113.43 L68.0247 1119.25 M65.6057 1107.57 L85.9442 1107.57 L85.9442 1113.43 L80.5333 1113.43 Q83.7798 1115.44 85.3394 1118.43 Q86.8672 1121.42 86.8672 1125.75 Q86.8672 1131.22 83.8116 1134.47 Q80.7243 1137.68 75.5681 1137.68 Q69.5525 1137.68 66.4969 1133.67 Q63.4414 1129.63 63.4414 1121.64 L63.4414 1113.43 L62.8685 1113.43 Q58.8262 1113.43 56.6301 1116.1 Q54.4021 1118.75 54.4021 1123.55 Q54.4021 1126.61 55.1341 1129.5 Q55.8662 1132.4 57.3303 1135.07 L51.9195 1135.07 Q50.6781 1131.86 50.0734 1128.84 Q49.4368 1125.81 49.4368 1122.95 Q49.4368 1115.21 53.4472 1111.39 Q57.4576 1107.57 65.6057 1107.57 Z\" fill=\"#000000\" fill-rule=\"evenodd\" fill-opacity=\"1\" /><path clip-path=\"url(#clip9900)\" d=\"M 0 0 M40.1747 1095.64 L50.2962 1095.64 L50.2962 1083.57 L54.8477 1083.57 L54.8477 1095.64 L74.1994 1095.64 Q78.5599 1095.64 79.8013 1094.46 Q81.0426 1093.25 81.0426 1089.59 L81.0426 1083.57 L85.9442 1083.57 L85.9442 1089.59 Q85.9442 1096.37 83.4297 1098.95 Q80.8834 1101.53 74.1994 1101.53 L54.8477 1101.53 L54.8477 1105.82 L50.2962 1105.82 L50.2962 1101.53 L40.1747 1101.53 L40.1747 1095.64 Z\" fill=\"#000000\" fill-rule=\"evenodd\" fill-opacity=\"1\" /><path clip-path=\"url(#clip9900)\" d=\"M 0 0 M54.4021 1063.62 Q54.4021 1068.33 58.0942 1071.07 Q61.7545 1073.8 68.152 1073.8 Q74.5495 1073.8 78.2417 1071.1 Q81.9019 1068.36 81.9019 1063.62 Q81.9019 1058.94 78.2098 1056.2 Q74.5177 1053.47 68.152 1053.47 Q61.8181 1053.47 58.126 1056.2 Q54.4021 1058.94 54.4021 1063.62 M49.4368 1063.62 Q49.4368 1055.98 54.4021 1051.62 Q59.3673 1047.26 68.152 1047.26 Q76.9049 1047.26 81.9019 1051.62 Q86.8672 1055.98 86.8672 1063.62 Q86.8672 1071.29 81.9019 1075.65 Q76.9049 1079.98 68.152 1079.98 Q59.3673 1079.98 54.4021 1075.65 Q49.4368 1071.29 49.4368 1063.62 Z\" fill=\"#000000\" fill-rule=\"evenodd\" fill-opacity=\"1\" /><path clip-path=\"url(#clip9900)\" d=\"M 0 0 M55.7707 1020.46 Q55.1978 1021.45 54.9432 1022.62 Q54.6567 1023.77 54.6567 1025.17 Q54.6567 1030.13 57.9032 1032.81 Q61.1179 1035.45 67.1653 1035.45 L85.9442 1035.45 L85.9442 1041.34 L50.2962 1041.34 L50.2962 1035.45 L55.8344 1035.45 Q52.5879 1033.6 51.0283 1030.64 Q49.4368 1027.68 49.4368 1023.45 Q49.4368 1022.85 49.5323 1022.11 Q49.596 1021.38 49.7551 1020.49 L55.7707 1020.46 Z\" fill=\"#000000\" fill-rule=\"evenodd\" fill-opacity=\"1\" /><path clip-path=\"url(#clip9900)\" d=\"M 0 0 M51.3465 991.591 L56.8847 991.591 Q55.6116 994.073 54.975 996.747 Q54.3384 999.42 54.3384 1002.28 Q54.3384 1006.65 55.6752 1008.84 Q57.012 1011.01 59.6856 1011.01 Q61.7226 1011.01 62.9003 1009.45 Q64.0461 1007.89 65.0965 1003.18 L65.5421 1001.17 Q66.8789 994.932 69.3297 992.323 Q71.7486 989.681 76.1091 989.681 Q81.0744 989.681 83.9708 993.628 Q86.8672 997.542 86.8672 1004.42 Q86.8672 1007.28 86.2943 1010.4 Q85.7532 1013.49 84.6392 1016.93 L78.5918 1016.93 Q80.2787 1013.68 81.138 1010.53 Q81.9656 1007.38 81.9656 1004.29 Q81.9656 1000.15 80.5651 997.924 Q79.1329 995.696 76.5547 995.696 Q74.1676 995.696 72.8945 997.32 Q71.6213 998.911 70.4437 1004.35 L69.9662 1006.39 Q68.8204 1011.83 66.4651 1014.25 Q64.078 1016.67 59.9402 1016.67 Q54.9113 1016.67 52.1741 1013.11 Q49.4368 1009.54 49.4368 1002.99 Q49.4368 999.739 49.9143 996.874 Q50.3917 994.009 51.3465 991.591 Z\" fill=\"#000000\" fill-rule=\"evenodd\" fill-opacity=\"1\" /><polyline clip-path=\"url(#clip9902)\" style=\"stroke:#009af9; stroke-width:4; stroke-opacity:1; fill:none\" points=\"\n",
       "  3069.65,517.278 3053.25,768.235 3044.14,731.056 3023.18,870.477 3015.89,889.067 2995.84,1799.95 2985.82,1799.95 2967.59,2143.85 2960.3,2069.5 2940.26,991.309 \n",
       "  2932.97,926.246 2912.92,786.825 2903.81,777.53 2887.4,675.288 2878.29,693.878 2858.25,628.815 2842.75,619.52 2830,610.225 2820.88,647.404 2801.75,731.056 \n",
       "  2794.46,712.467 2773.5,749.646 2766.21,758.941 2747.99,824.004 2737.05,861.183 2717.92,814.709 2710.63,851.888 2689.67,796.119 2680.56,842.593 2664.15,805.414 \n",
       "  2654.13,796.119 2634.08,610.225 2622.24,628.815 2606.75,628.815 2597.63,619.52 2578.5,573.046 2571.21,507.983 2552.98,396.447 2545.69,396.447 2525.65,498.689 \n",
       "  2508.33,489.394 2498.31,359.268 2489.2,349.973 2469.15,322.089 2461.86,303.499 2440.9,331.384 2431.79,331.384 2416.3,415.036 2405.36,433.626 2385.32,359.268 \n",
       "  2378.03,340.678 2357.98,349.973 2348.87,424.331 2329.73,257.026 2321.53,238.436 2301.48,247.731 2294.19,247.731 2275.06,331.384 2265.03,322.089 2245.9,359.268 \n",
       "  2238.61,303.499 2220.38,340.678 2213.09,340.678 2193.05,377.857 2175.73,387.152 2163.89,489.394 2157.51,498.689 2136.55,424.331 2129.26,433.626 2109.21,563.752 \n",
       "  2100.1,573.046 2080.96,591.636 2072.76,619.52 2052.72,545.162 2045.43,554.457 2026.29,665.993 2017.18,656.699 1997.13,600.93 1988.93,619.52 1968.88,591.636 \n",
       "  1959.77,591.636 1943.37,545.162 1934.26,535.867 1913.3,461.51 1906.01,452.215 1887.78,387.152 1880.49,377.857 1861.36,452.215 1844.04,461.51 1831.29,470.804 \n",
       "  1824,489.394 1803.95,535.867 1796.66,554.457 1777.52,712.467 1768.41,721.762 1748.36,665.993 1740.16,656.699 1720.12,582.341 1711,582.341 1691.87,731.056 \n",
       "  1684.58,721.762 1664.53,786.825 1656.33,805.414 1637.19,777.53 1628.08,777.53 1608.95,712.467 1599.83,721.762 1580.7,731.056 1573.41,758.941 1554.27,628.815 \n",
       "  1545.16,600.93 1528.76,740.351 1511.44,731.056 1497.77,591.636 1490.48,610.225 1471.35,470.804 1462.24,480.099 1442.19,563.752 1434.9,573.046 1414.85,573.046 \n",
       "  1404.83,582.341 1388.43,498.689 1379.31,498.689 1358.36,517.278 1351.07,535.867 1331.02,480.099 1321,498.689 1302.77,470.804 1295.48,461.51 1275.43,322.089 \n",
       "  1268.14,359.268 1248.1,377.857 1238.98,452.215 1222.58,489.394 1213.47,507.983 1194.33,489.394 1178.84,507.983 1165.17,405.741 1155.15,415.036 1139.66,303.499 \n",
       "  1129.64,275.615 1109.59,154.784 1102.3,117.605 1083.16,117.605 1072.23,108.31 1054,312.794 1046.71,266.321 1025.76,173.373 1018.47,154.784 999.33,154.784 \n",
       "  989.307,275.615 970.171,349.973 962.881,349.973 942.834,340.678 935.544,340.678 916.408,191.963 906.385,229.142 890.894,507.983 880.87,507.983 861.734,387.152 \n",
       "  846.243,442.92 833.486,415.036 823.462,452.215 805.238,684.583 797.948,749.646 776.989,591.636 769.7,591.636 751.475,563.752 740.54,489.394 721.404,507.983 \n",
       "  714.114,554.457 693.156,675.288 683.132,647.404 667.641,638.109 657.618,675.288 637.571,656.699 630.281,665.993 610.234,424.331 600.21,396.447 581.986,452.215 \n",
       "  574.696,368.562 556.471,312.794 549.181,284.91 529.134,480.099 511.821,461.51 501.797,591.636 490.862,628.815 472.638,758.941 465.348,731.056 444.389,749.646 \n",
       "  434.366,712.467 419.786,712.467 408.851,675.288 388.804,721.762 381.514,684.583 361.467,619.52 351.444,582.341 333.219,480.099 325.929,489.394 299.503,294.205 \n",
       "  \n",
       "  \"/>\n",
       "<polyline clip-path=\"url(#clip9902)\" style=\"stroke:#e26f46; stroke-width:4; stroke-opacity:1; fill:none\" points=\"\n",
       "  3069.65,749.646 3053.25,731.056 3044.14,879.772 3023.18,889.067 3015.89,1567.58 2995.84,1799.95 2985.82,1976.55 2967.59,2069.5 2960.3,1084.26 2940.26,926.246 \n",
       "  2932.97,805.414 2912.92,777.53 2903.81,768.235 2887.4,693.878 2878.29,638.109 2858.25,619.52 2842.75,628.815 2830,647.404 2820.88,721.762 2801.75,712.467 \n",
       "  2794.46,758.941 2773.5,758.941 2766.21,814.709 2747.99,861.183 2737.05,833.298 2717.92,851.888 2710.63,824.004 2689.67,842.593 2680.56,758.941 2664.15,796.119 \n",
       "  2654.13,582.341 2634.08,628.815 2622.24,591.636 2606.75,619.52 2597.63,526.573 2578.5,507.983 2571.21,480.099 2552.98,396.447 2545.69,461.51 2525.65,377.857 \n",
       "  2508.33,303.499 2498.31,294.205 2489.2,275.615 2469.15,284.91 2461.86,275.615 2440.9,349.973 2431.79,461.51 2416.3,452.215 2405.36,359.268 2385.32,331.384 \n",
       "  2378.03,368.562 2357.98,387.152 2348.87,275.615 2329.73,275.615 2321.53,257.026 2301.48,266.321 2294.19,266.321 2275.06,331.384 2265.03,349.973 2245.9,294.205 \n",
       "  2238.61,387.152 2220.38,396.447 2213.09,312.794 2193.05,284.91 2175.73,535.867 2163.89,554.457 2157.51,415.036 2136.55,424.331 2129.26,573.046 2109.21,582.341 \n",
       "  2100.1,610.225 2080.96,582.341 2072.76,554.457 2052.72,610.225 2045.43,665.993 2026.29,628.815 2017.18,610.225 1997.13,610.225 1988.93,591.636 \n",
       "  \"/>\n",
       "<polyline clip-path=\"url(#clip9902)\" style=\"stroke:#3da44d; stroke-width:4; stroke-opacity:1; fill:none\" points=\"\n",
       "  3069.65,768.235 3053.25,731.056 3044.14,870.477 3023.18,889.067 3015.89,1799.95 2995.84,1799.95 2985.82,2143.85 2967.59,2069.5 2960.3,991.309 2940.26,926.246 \n",
       "  2932.97,786.825 2912.92,777.53 2903.81,675.288 2887.4,693.878 2878.29,628.815 2858.25,619.52 2842.75,610.225 2830,647.404 2820.88,731.056 2801.75,712.467 \n",
       "  2794.46,749.646 2773.5,758.941 2766.21,824.004 2747.99,861.183 2737.05,814.709 2717.92,851.888 2710.63,796.119 2689.67,842.593 2680.56,805.414 2664.15,796.119 \n",
       "  2654.13,610.225 2634.08,628.815 2622.24,628.815 2606.75,619.52 2597.63,573.046 2578.5,507.983 2571.21,396.447 2552.98,396.447 2545.69,498.689 2525.65,489.394 \n",
       "  2508.33,359.268 2498.31,349.973 2489.2,322.089 2469.15,303.499 2461.86,331.384 2440.9,331.384 2431.79,415.036 2416.3,433.626 2405.36,359.268 2385.32,340.678 \n",
       "  2378.03,349.973 2357.98,424.331 2348.87,257.026 2329.73,238.436 2321.53,247.731 2301.48,247.731 2294.19,331.384 2275.06,322.089 2265.03,359.268 2245.9,303.499 \n",
       "  2238.61,340.678 2220.38,340.678 2213.09,377.857 2193.05,387.152 2175.73,489.394 2163.89,498.689 2157.51,424.331 2136.55,433.626 2129.26,563.752 2109.21,573.046 \n",
       "  2100.1,591.636 2080.96,619.52 2072.76,545.162 2052.72,554.457 2045.43,665.993 2026.29,656.699 2017.18,600.93 1997.13,619.52 1988.93,591.636 1968.88,591.636 \n",
       "  1959.77,545.162 1943.37,535.867 1934.26,461.51 1913.3,452.215 1906.01,387.152 1887.78,377.857 1880.49,452.215 1861.36,461.51 1844.04,470.804 1831.29,489.394 \n",
       "  1824,535.867 1803.95,554.457 1796.66,712.467 1777.52,721.762 1768.41,665.993 1748.36,656.699 1740.16,582.341 1720.12,582.341 1711,731.056 1691.87,721.762 \n",
       "  1684.58,786.825 1664.53,805.414 1656.33,777.53 1637.19,777.53 1628.08,712.467 1608.95,721.762 1599.83,731.056 1580.7,758.941 1573.41,628.815 1554.27,600.93 \n",
       "  1545.16,740.351 1528.76,731.056 1511.44,591.636 1497.77,610.225 1490.48,470.804 1471.35,480.099 1462.24,563.752 1442.19,573.046 1434.9,573.046 1414.85,582.341 \n",
       "  1404.83,498.689 1388.43,498.689 1379.31,517.278 1358.36,535.867 1351.07,480.099 1331.02,498.689 1321,470.804 1302.77,461.51 1295.48,322.089 1275.43,359.268 \n",
       "  1268.14,377.857 1248.1,452.215 1238.98,489.394 1222.58,507.983 1213.47,489.394 1194.33,507.983 1178.84,405.741 1165.17,415.036 1155.15,303.499 1139.66,275.615 \n",
       "  1129.64,154.784 1109.59,117.605 1102.3,117.605 1083.16,108.31 1072.23,312.794 1054,266.321 1046.71,173.373 1025.76,257.026 1018.47,154.784 999.33,275.615 \n",
       "  989.307,349.973 970.171,349.973 962.881,340.678 942.834,340.678 935.544,191.963 916.408,229.142 906.385,507.983 890.894,507.983 880.87,387.152 861.734,442.92 \n",
       "  846.243,415.036 833.486,452.215 823.462,684.583 805.238,749.646 797.948,591.636 776.989,591.636 769.7,563.752 751.475,489.394 740.54,507.983 721.404,554.457 \n",
       "  714.114,675.288 693.156,647.404 683.132,638.109 667.641,675.288 657.618,656.699 637.571,665.993 630.281,424.331 610.234,396.447 600.21,452.215 581.986,368.562 \n",
       "  574.696,312.794 556.471,284.91 549.181,480.099 529.134,461.51 511.821,591.636 501.797,628.815 490.862,758.941 472.638,731.056 465.348,749.646 444.389,712.467 \n",
       "  434.366,712.467 419.786,675.288 408.851,721.762 388.804,684.583 381.514,619.52 361.467,582.341 351.444,480.099 333.219,489.394 325.929,294.205 \n",
       "  \"/>\n",
       "<path clip-path=\"url(#clip9900)\" d=\"\n",
       "M312.399 420.684 L810.592 420.684 L810.592 178.764 L312.399 178.764  Z\n",
       "  \" fill=\"#ffffff\" fill-rule=\"evenodd\" fill-opacity=\"1\"/>\n",
       "<polyline clip-path=\"url(#clip9900)\" style=\"stroke:#000000; stroke-width:4; stroke-opacity:1; fill:none\" points=\"\n",
       "  312.399,420.684 810.592,420.684 810.592,178.764 312.399,178.764 312.399,420.684 \n",
       "  \"/>\n",
       "<polyline clip-path=\"url(#clip9900)\" style=\"stroke:#009af9; stroke-width:4; stroke-opacity:1; fill:none\" points=\"\n",
       "  344.399,239.244 536.399,239.244 \n",
       "  \"/>\n",
       "<path clip-path=\"url(#clip9900)\" d=\"M 0 0 M581.802 243.492 Q576.64 243.492 574.649 244.672 Q572.658 245.853 572.658 248.7 Q572.658 250.969 574.14 252.311 Q575.644 253.631 578.214 253.631 Q581.755 253.631 583.885 251.131 Q586.038 248.607 586.038 244.441 L586.038 243.492 L581.802 243.492 M590.297 241.733 L590.297 256.524 L586.038 256.524 L586.038 252.589 Q584.579 254.95 582.404 256.084 Q580.228 257.195 577.079 257.195 Q573.098 257.195 570.737 254.973 Q568.399 252.728 568.399 248.978 Q568.399 244.603 571.316 242.381 Q574.255 240.158 580.066 240.158 L586.038 240.158 L586.038 239.742 Q586.038 236.802 584.093 235.205 Q582.172 233.584 578.677 233.584 Q576.454 233.584 574.348 234.117 Q572.242 234.649 570.297 235.714 L570.297 231.779 Q572.635 230.876 574.834 230.436 Q577.033 229.973 579.116 229.973 Q584.741 229.973 587.519 232.89 Q590.297 235.807 590.297 241.733 Z\" fill=\"#000000\" fill-rule=\"evenodd\" fill-opacity=\"1\" /><path clip-path=\"url(#clip9900)\" d=\"M 0 0 M613.422 231.594 L613.422 235.575 Q611.616 234.58 609.788 234.094 Q607.982 233.584 606.13 233.584 Q601.987 233.584 599.695 236.223 Q597.403 238.839 597.403 243.584 Q597.403 248.33 599.695 250.969 Q601.987 253.584 606.13 253.584 Q607.982 253.584 609.788 253.098 Q611.616 252.589 613.422 251.594 L613.422 255.529 Q611.639 256.362 609.718 256.779 Q607.82 257.195 605.667 257.195 Q599.811 257.195 596.362 253.515 Q592.913 249.834 592.913 243.584 Q592.913 237.242 596.385 233.608 Q599.88 229.973 605.945 229.973 Q607.913 229.973 609.788 230.39 Q611.663 230.783 613.422 231.594 Z\" fill=\"#000000\" fill-rule=\"evenodd\" fill-opacity=\"1\" /><path clip-path=\"url(#clip9900)\" d=\"M 0 0 M622.102 223.237 L622.102 230.598 L630.875 230.598 L630.875 233.908 L622.102 233.908 L622.102 247.982 Q622.102 251.154 622.959 252.057 Q623.838 252.959 626.5 252.959 L630.875 252.959 L630.875 256.524 L626.5 256.524 Q621.57 256.524 619.695 254.695 Q617.82 252.844 617.82 247.982 L617.82 233.908 L614.695 233.908 L614.695 230.598 L617.82 230.598 L617.82 223.237 L622.102 223.237 Z\" fill=\"#000000\" fill-rule=\"evenodd\" fill-opacity=\"1\" /><path clip-path=\"url(#clip9900)\" d=\"M 0 0 M634.903 246.293 L634.903 230.598 L639.162 230.598 L639.162 246.131 Q639.162 249.811 640.598 251.663 Q642.033 253.492 644.903 253.492 Q648.352 253.492 650.343 251.293 Q652.357 249.094 652.357 245.297 L652.357 230.598 L656.616 230.598 L656.616 256.524 L652.357 256.524 L652.357 252.543 Q650.806 254.904 648.746 256.061 Q646.709 257.195 644 257.195 Q639.533 257.195 637.218 254.418 Q634.903 251.64 634.903 246.293 M645.621 229.973 L645.621 229.973 Z\" fill=\"#000000\" fill-rule=\"evenodd\" fill-opacity=\"1\" /><path clip-path=\"url(#clip9900)\" d=\"M 0 0 M672.866 243.492 Q667.704 243.492 665.713 244.672 Q663.723 245.853 663.723 248.7 Q663.723 250.969 665.204 252.311 Q666.709 253.631 669.278 253.631 Q672.82 253.631 674.949 251.131 Q677.102 248.607 677.102 244.441 L677.102 243.492 L672.866 243.492 M681.361 241.733 L681.361 256.524 L677.102 256.524 L677.102 252.589 Q675.644 254.95 673.468 256.084 Q671.292 257.195 668.144 257.195 Q664.162 257.195 661.801 254.973 Q659.463 252.728 659.463 248.978 Q659.463 244.603 662.38 242.381 Q665.32 240.158 671.13 240.158 L677.102 240.158 L677.102 239.742 Q677.102 236.802 675.158 235.205 Q673.236 233.584 669.741 233.584 Q667.519 233.584 665.412 234.117 Q663.306 234.649 661.361 235.714 L661.361 231.779 Q663.699 230.876 665.898 230.436 Q668.097 229.973 670.181 229.973 Q675.806 229.973 678.584 232.89 Q681.361 235.807 681.361 241.733 Z\" fill=\"#000000\" fill-rule=\"evenodd\" fill-opacity=\"1\" /><path clip-path=\"url(#clip9900)\" d=\"M 0 0 M685.829 220.506 L690.088 220.506 L690.088 256.524 L685.829 256.524 L685.829 220.506 Z\" fill=\"#000000\" fill-rule=\"evenodd\" fill-opacity=\"1\" /><path clip-path=\"url(#clip9900)\" d=\"M 0 0 M711.083 231.362 L711.083 235.39 Q709.278 234.464 707.333 234.001 Q705.389 233.538 703.306 233.538 Q700.134 233.538 698.537 234.51 Q696.963 235.483 696.963 237.427 Q696.963 238.908 698.097 239.765 Q699.232 240.598 702.657 241.362 L704.116 241.686 Q708.653 242.658 710.551 244.441 Q712.472 246.2 712.472 249.371 Q712.472 252.982 709.602 255.089 Q706.755 257.195 701.755 257.195 Q699.671 257.195 697.403 256.779 Q695.158 256.385 692.658 255.575 L692.658 251.177 Q695.019 252.404 697.31 253.029 Q699.602 253.631 701.847 253.631 Q704.857 253.631 706.477 252.612 Q708.097 251.57 708.097 249.695 Q708.097 247.959 706.917 247.033 Q705.759 246.107 701.801 245.251 L700.32 244.904 Q696.361 244.07 694.602 242.358 Q692.843 240.621 692.843 237.612 Q692.843 233.955 695.435 231.964 Q698.028 229.973 702.796 229.973 Q705.157 229.973 707.241 230.321 Q709.324 230.668 711.083 231.362 Z\" fill=\"#000000\" fill-rule=\"evenodd\" fill-opacity=\"1\" /><polyline clip-path=\"url(#clip9900)\" style=\"stroke:#e26f46; stroke-width:4; stroke-opacity:1; fill:none\" points=\"\n",
       "  344.399,299.724 536.399,299.724 \n",
       "  \"/>\n",
       "<path clip-path=\"url(#clip9900)\" d=\"M 0 0 M584.903 280.986 L584.903 284.527 L580.829 284.527 Q578.538 284.527 577.635 285.453 Q576.755 286.379 576.755 288.787 L576.755 291.078 L583.769 291.078 L583.769 294.388 L576.755 294.388 L576.755 317.004 L572.473 317.004 L572.473 294.388 L568.399 294.388 L568.399 291.078 L572.473 291.078 L572.473 289.273 Q572.473 284.944 574.487 282.976 Q576.501 280.986 580.876 280.986 L584.903 280.986 Z\" fill=\"#000000\" fill-rule=\"evenodd\" fill-opacity=\"1\" /><path clip-path=\"url(#clip9900)\" d=\"M 0 0 M599.417 294.064 Q595.991 294.064 594.001 296.75 Q592.01 299.412 592.01 304.064 Q592.01 308.717 593.978 311.402 Q595.968 314.064 599.417 314.064 Q602.82 314.064 604.811 311.379 Q606.802 308.694 606.802 304.064 Q606.802 299.458 604.811 296.773 Q602.82 294.064 599.417 294.064 M599.417 290.453 Q604.973 290.453 608.144 294.064 Q611.315 297.675 611.315 304.064 Q611.315 310.43 608.144 314.064 Q604.973 317.675 599.417 317.675 Q593.839 317.675 590.667 314.064 Q587.519 310.43 587.519 304.064 Q587.519 297.675 590.667 294.064 Q593.839 290.453 599.417 290.453 Z\" fill=\"#000000\" fill-rule=\"evenodd\" fill-opacity=\"1\" /><path clip-path=\"url(#clip9900)\" d=\"M 0 0 M630.806 295.06 Q630.088 294.643 629.232 294.458 Q628.399 294.25 627.38 294.25 Q623.769 294.25 621.825 296.611 Q619.903 298.949 619.903 303.347 L619.903 317.004 L615.621 317.004 L615.621 291.078 L619.903 291.078 L619.903 295.106 Q621.246 292.745 623.399 291.611 Q625.551 290.453 628.63 290.453 Q629.07 290.453 629.602 290.523 Q630.135 290.569 630.783 290.685 L630.806 295.06 Z\" fill=\"#000000\" fill-rule=\"evenodd\" fill-opacity=\"1\" /><path clip-path=\"url(#clip9900)\" d=\"M 0 0 M652.889 292.074 L652.889 296.055 Q651.084 295.06 649.255 294.574 Q647.449 294.064 645.598 294.064 Q641.454 294.064 639.162 296.703 Q636.871 299.319 636.871 304.064 Q636.871 308.81 639.162 311.449 Q641.454 314.064 645.598 314.064 Q647.449 314.064 649.255 313.578 Q651.084 313.069 652.889 312.074 L652.889 316.009 Q651.107 316.842 649.186 317.259 Q647.287 317.675 645.135 317.675 Q639.278 317.675 635.829 313.995 Q632.38 310.314 632.38 304.064 Q632.38 297.722 635.852 294.088 Q639.348 290.453 645.412 290.453 Q647.38 290.453 649.255 290.87 Q651.13 291.263 652.889 292.074 Z\" fill=\"#000000\" fill-rule=\"evenodd\" fill-opacity=\"1\" /><path clip-path=\"url(#clip9900)\" d=\"M 0 0 M669.139 303.972 Q663.977 303.972 661.986 305.152 Q659.996 306.333 659.996 309.18 Q659.996 311.449 661.477 312.791 Q662.982 314.111 665.551 314.111 Q669.093 314.111 671.222 311.611 Q673.375 309.087 673.375 304.921 L673.375 303.972 L669.139 303.972 M677.634 302.213 L677.634 317.004 L673.375 317.004 L673.375 313.069 Q671.917 315.43 669.741 316.564 Q667.565 317.675 664.417 317.675 Q660.435 317.675 658.074 315.453 Q655.736 313.208 655.736 309.458 Q655.736 305.083 658.653 302.861 Q661.593 300.638 667.403 300.638 L673.375 300.638 L673.375 300.222 Q673.375 297.282 671.431 295.685 Q669.51 294.064 666.014 294.064 Q663.792 294.064 661.685 294.597 Q659.579 295.129 657.635 296.194 L657.635 292.259 Q659.973 291.356 662.172 290.916 Q664.371 290.453 666.454 290.453 Q672.079 290.453 674.857 293.37 Q677.634 296.287 677.634 302.213 Z\" fill=\"#000000\" fill-rule=\"evenodd\" fill-opacity=\"1\" /><path clip-path=\"url(#clip9900)\" d=\"M 0 0 M698.63 291.842 L698.63 295.87 Q696.824 294.944 694.88 294.481 Q692.935 294.018 690.852 294.018 Q687.681 294.018 686.084 294.99 Q684.509 295.963 684.509 297.907 Q684.509 299.388 685.644 300.245 Q686.778 301.078 690.204 301.842 L691.662 302.166 Q696.199 303.138 698.097 304.921 Q700.019 306.68 700.019 309.851 Q700.019 313.462 697.148 315.569 Q694.301 317.675 689.301 317.675 Q687.218 317.675 684.949 317.259 Q682.704 316.865 680.204 316.055 L680.204 311.657 Q682.565 312.884 684.857 313.509 Q687.148 314.111 689.394 314.111 Q692.403 314.111 694.023 313.092 Q695.644 312.05 695.644 310.175 Q695.644 308.439 694.463 307.513 Q693.306 306.587 689.347 305.731 L687.866 305.384 Q683.908 304.55 682.148 302.838 Q680.389 301.101 680.389 298.092 Q680.389 294.435 682.982 292.444 Q685.574 290.453 690.343 290.453 Q692.704 290.453 694.787 290.801 Q696.87 291.148 698.63 291.842 Z\" fill=\"#000000\" fill-rule=\"evenodd\" fill-opacity=\"1\" /><path clip-path=\"url(#clip9900)\" d=\"M 0 0 M708.699 283.717 L708.699 291.078 L717.472 291.078 L717.472 294.388 L708.699 294.388 L708.699 308.462 Q708.699 311.634 709.556 312.537 Q710.435 313.439 713.097 313.439 L717.472 313.439 L717.472 317.004 L713.097 317.004 Q708.167 317.004 706.292 315.175 Q704.417 313.324 704.417 308.462 L704.417 294.388 L701.292 294.388 L701.292 291.078 L704.417 291.078 L704.417 283.717 L708.699 283.717 Z\" fill=\"#000000\" fill-rule=\"evenodd\" fill-opacity=\"1\" /><polyline clip-path=\"url(#clip9900)\" style=\"stroke:#3da44d; stroke-width:4; stroke-opacity:1; fill:none\" points=\"\n",
       "  344.399,360.204 536.399,360.204 \n",
       "  \"/>\n",
       "<path clip-path=\"url(#clip9900)\" d=\"M 0 0 M572.681 373.595 L572.681 387.345 L568.399 387.345 L568.399 351.558 L572.681 351.558 L572.681 355.493 Q574.024 353.179 576.061 352.068 Q578.121 350.933 580.968 350.933 Q585.691 350.933 588.63 354.683 Q591.593 358.433 591.593 364.544 Q591.593 370.655 588.63 374.405 Q585.691 378.155 580.968 378.155 Q578.121 378.155 576.061 377.044 Q574.024 375.91 572.681 373.595 M587.172 364.544 Q587.172 359.845 585.228 357.183 Q583.306 354.498 579.927 354.498 Q576.547 354.498 574.603 357.183 Q572.681 359.845 572.681 364.544 Q572.681 369.243 574.603 371.929 Q576.547 374.591 579.927 374.591 Q583.306 374.591 585.228 371.929 Q587.172 369.243 587.172 364.544 Z\" fill=\"#000000\" fill-rule=\"evenodd\" fill-opacity=\"1\" /><path clip-path=\"url(#clip9900)\" d=\"M 0 0 M611.084 355.54 Q610.366 355.123 609.51 354.938 Q608.677 354.73 607.658 354.73 Q604.047 354.73 602.102 357.091 Q600.181 359.429 600.181 363.827 L600.181 377.484 L595.899 377.484 L595.899 351.558 L600.181 351.558 L600.181 355.586 Q601.524 353.225 603.677 352.091 Q605.829 350.933 608.908 350.933 Q609.348 350.933 609.88 351.003 Q610.413 351.049 611.061 351.165 L611.084 355.54 Z\" fill=\"#000000\" fill-rule=\"evenodd\" fill-opacity=\"1\" /><path clip-path=\"url(#clip9900)\" d=\"M 0 0 M636.686 363.456 L636.686 365.54 L617.102 365.54 Q617.38 369.938 619.741 372.253 Q622.126 374.544 626.362 374.544 Q628.815 374.544 631.107 373.942 Q633.422 373.341 635.69 372.137 L635.69 376.165 Q633.399 377.137 630.991 377.646 Q628.584 378.155 626.107 378.155 Q619.903 378.155 616.269 374.544 Q612.658 370.933 612.658 364.776 Q612.658 358.41 616.084 354.683 Q619.533 350.933 625.366 350.933 Q630.598 350.933 633.63 354.313 Q636.686 357.669 636.686 363.456 M632.426 362.206 Q632.38 358.711 630.459 356.628 Q628.561 354.544 625.413 354.544 Q621.848 354.544 619.695 356.558 Q617.565 358.572 617.241 362.23 L632.426 362.206 Z\" fill=\"#000000\" fill-rule=\"evenodd\" fill-opacity=\"1\" /><path clip-path=\"url(#clip9900)\" d=\"M 0 0 M638.098 351.558 L642.612 351.558 L650.713 373.317 L658.815 351.558 L663.329 351.558 L653.607 377.484 L647.82 377.484 L638.098 351.558 Z\" fill=\"#000000\" fill-rule=\"evenodd\" fill-opacity=\"1\" /><path clip-path=\"url(#clip9900)\" d=\"M 0 0 M667.797 351.558 L672.056 351.558 L672.056 377.484 L667.797 377.484 L667.797 351.558 M667.797 341.466 L672.056 341.466 L672.056 346.859 L667.797 346.859 L667.797 341.466 Z\" fill=\"#000000\" fill-rule=\"evenodd\" fill-opacity=\"1\" /><path clip-path=\"url(#clip9900)\" d=\"M 0 0 M686.57 354.544 Q683.144 354.544 681.153 357.23 Q679.162 359.892 679.162 364.544 Q679.162 369.197 681.13 371.882 Q683.121 374.544 686.57 374.544 Q689.972 374.544 691.963 371.859 Q693.954 369.174 693.954 364.544 Q693.954 359.938 691.963 357.253 Q689.972 354.544 686.57 354.544 M686.57 350.933 Q692.125 350.933 695.296 354.544 Q698.468 358.155 698.468 364.544 Q698.468 370.91 695.296 374.544 Q692.125 378.155 686.57 378.155 Q680.991 378.155 677.82 374.544 Q674.672 370.91 674.672 364.544 Q674.672 358.155 677.82 354.544 Q680.991 350.933 686.57 350.933 Z\" fill=\"#000000\" fill-rule=\"evenodd\" fill-opacity=\"1\" /><path clip-path=\"url(#clip9900)\" d=\"M 0 0 M702.495 367.253 L702.495 351.558 L706.755 351.558 L706.755 367.091 Q706.755 370.771 708.19 372.623 Q709.625 374.452 712.495 374.452 Q715.944 374.452 717.935 372.253 Q719.949 370.054 719.949 366.257 L719.949 351.558 L724.208 351.558 L724.208 377.484 L719.949 377.484 L719.949 373.503 Q718.398 375.864 716.338 377.021 Q714.301 378.155 711.593 378.155 Q707.125 378.155 704.81 375.378 Q702.495 372.6 702.495 367.253 M713.213 350.933 L713.213 350.933 Z\" fill=\"#000000\" fill-rule=\"evenodd\" fill-opacity=\"1\" /><path clip-path=\"url(#clip9900)\" d=\"M 0 0 M745.204 352.322 L745.204 356.35 Q743.398 355.424 741.454 354.961 Q739.509 354.498 737.426 354.498 Q734.255 354.498 732.657 355.47 Q731.083 356.443 731.083 358.387 Q731.083 359.868 732.218 360.725 Q733.352 361.558 736.778 362.322 L738.236 362.646 Q742.773 363.618 744.671 365.401 Q746.592 367.16 746.592 370.331 Q746.592 373.942 743.722 376.049 Q740.875 378.155 735.875 378.155 Q733.792 378.155 731.523 377.739 Q729.278 377.345 726.778 376.535 L726.778 372.137 Q729.139 373.364 731.43 373.989 Q733.722 374.591 735.967 374.591 Q738.977 374.591 740.597 373.572 Q742.217 372.53 742.217 370.655 Q742.217 368.919 741.037 367.993 Q739.88 367.067 735.921 366.211 L734.44 365.864 Q730.481 365.03 728.722 363.318 Q726.963 361.581 726.963 358.572 Q726.963 354.915 729.555 352.924 Q732.148 350.933 736.917 350.933 Q739.278 350.933 741.361 351.281 Q743.444 351.628 745.204 352.322 Z\" fill=\"#000000\" fill-rule=\"evenodd\" fill-opacity=\"1\" /></svg>\n"
      ]
     },
     "execution_count": 40,
     "metadata": {},
     "output_type": "execute_result"
    }
   ],
   "source": [
    "df = df_Markkit_Mfc_PMI\n",
    "periods = df[:,1] # all rows, first column\n",
    "println(periods[begin], \" to \", periods[end])\n",
    "gr()\n",
    "plot(periods, \n",
    "    [df[:,2]  df[:,3] df[:,4] ], \n",
    "    label    = [\"actuals\" \"forcast\" \"previous\"],\n",
    "    legend    =:topleft, # :right, :left, :top, :bottom, :inside, :best, :legend, :topright, :topleft, :bottomleft, :bottomright\n",
    "    xlabel   = \"time\",\n",
    "    ylabel   = \"indicators\",\n",
    "    size     = (800, 600), # width, height\n",
    "    layout = (1, 1) # number of seperate plots VERTICALLY, HORIZONTALLY\n",
    "    )"
   ]
  },
  {
   "cell_type": "code",
   "execution_count": 41,
   "metadata": {},
   "outputs": [
    {
     "name": "stdout",
     "output_type": "stream",
     "text": [
      "2020-08-03 to 2013-11-01\n"
     ]
    },
    {
     "data": {
      "image/svg+xml": [
       "<?xml version=\"1.0\" encoding=\"utf-8\"?>\n",
       "<svg xmlns=\"http://www.w3.org/2000/svg\" xmlns:xlink=\"http://www.w3.org/1999/xlink\" width=\"800\" height=\"600\" viewBox=\"0 0 3200 2400\">\n",
       "<defs>\n",
       "  <clipPath id=\"clip0300\">\n",
       "    <rect x=\"0\" y=\"0\" width=\"3200\" height=\"2400\"/>\n",
       "  </clipPath>\n",
       "</defs>\n",
       "<path clip-path=\"url(#clip0300)\" d=\"\n",
       "M0 2400 L3200 2400 L3200 0 L0 0  Z\n",
       "  \" fill=\"#ffffff\" fill-rule=\"evenodd\" fill-opacity=\"1\"/>\n",
       "<defs>\n",
       "  <clipPath id=\"clip0301\">\n",
       "    <rect x=\"640\" y=\"0\" width=\"2241\" height=\"2241\"/>\n",
       "  </clipPath>\n",
       "</defs>\n",
       "<path clip-path=\"url(#clip0300)\" d=\"\n",
       "M216.399 2204.92 L3152.76 2204.92 L3152.76 47.2441 L216.399 47.2441  Z\n",
       "  \" fill=\"#ffffff\" fill-rule=\"evenodd\" fill-opacity=\"1\"/>\n",
       "<defs>\n",
       "  <clipPath id=\"clip0302\">\n",
       "    <rect x=\"216\" y=\"47\" width=\"2937\" height=\"2159\"/>\n",
       "  </clipPath>\n",
       "</defs>\n",
       "<polyline clip-path=\"url(#clip0302)\" style=\"stroke:#000000; stroke-width:2; stroke-opacity:0.1; fill:none\" points=\"\n",
       "  367.999,2204.92 367.999,47.2441 \n",
       "  \"/>\n",
       "<polyline clip-path=\"url(#clip0302)\" style=\"stroke:#000000; stroke-width:2; stroke-opacity:0.1; fill:none\" points=\"\n",
       "  1187.7,2204.92 1187.7,47.2441 \n",
       "  \"/>\n",
       "<polyline clip-path=\"url(#clip0302)\" style=\"stroke:#000000; stroke-width:2; stroke-opacity:0.1; fill:none\" points=\"\n",
       "  2008.53,2204.92 2008.53,47.2441 \n",
       "  \"/>\n",
       "<polyline clip-path=\"url(#clip0302)\" style=\"stroke:#000000; stroke-width:2; stroke-opacity:0.1; fill:none\" points=\"\n",
       "  2828.23,2204.92 2828.23,47.2441 \n",
       "  \"/>\n",
       "<polyline clip-path=\"url(#clip0302)\" style=\"stroke:#000000; stroke-width:2; stroke-opacity:0.1; fill:none\" points=\"\n",
       "  216.399,2002.5 3152.76,2002.5 \n",
       "  \"/>\n",
       "<polyline clip-path=\"url(#clip0302)\" style=\"stroke:#000000; stroke-width:2; stroke-opacity:0.1; fill:none\" points=\"\n",
       "  216.399,1437.07 3152.76,1437.07 \n",
       "  \"/>\n",
       "<polyline clip-path=\"url(#clip0302)\" style=\"stroke:#000000; stroke-width:2; stroke-opacity:0.1; fill:none\" points=\"\n",
       "  216.399,871.639 3152.76,871.639 \n",
       "  \"/>\n",
       "<polyline clip-path=\"url(#clip0302)\" style=\"stroke:#000000; stroke-width:2; stroke-opacity:0.1; fill:none\" points=\"\n",
       "  216.399,306.21 3152.76,306.21 \n",
       "  \"/>\n",
       "<polyline clip-path=\"url(#clip0300)\" style=\"stroke:#000000; stroke-width:4; stroke-opacity:1; fill:none\" points=\"\n",
       "  216.399,2204.92 3152.76,2204.92 \n",
       "  \"/>\n",
       "<polyline clip-path=\"url(#clip0300)\" style=\"stroke:#000000; stroke-width:4; stroke-opacity:1; fill:none\" points=\"\n",
       "  216.399,2204.92 216.399,47.2441 \n",
       "  \"/>\n",
       "<polyline clip-path=\"url(#clip0300)\" style=\"stroke:#000000; stroke-width:4; stroke-opacity:1; fill:none\" points=\"\n",
       "  367.999,2204.92 367.999,2179.03 \n",
       "  \"/>\n",
       "<polyline clip-path=\"url(#clip0300)\" style=\"stroke:#000000; stroke-width:4; stroke-opacity:1; fill:none\" points=\"\n",
       "  1187.7,2204.92 1187.7,2179.03 \n",
       "  \"/>\n",
       "<polyline clip-path=\"url(#clip0300)\" style=\"stroke:#000000; stroke-width:4; stroke-opacity:1; fill:none\" points=\"\n",
       "  2008.53,2204.92 2008.53,2179.03 \n",
       "  \"/>\n",
       "<polyline clip-path=\"url(#clip0300)\" style=\"stroke:#000000; stroke-width:4; stroke-opacity:1; fill:none\" points=\"\n",
       "  2828.23,2204.92 2828.23,2179.03 \n",
       "  \"/>\n",
       "<polyline clip-path=\"url(#clip0300)\" style=\"stroke:#000000; stroke-width:4; stroke-opacity:1; fill:none\" points=\"\n",
       "  216.399,2002.5 251.635,2002.5 \n",
       "  \"/>\n",
       "<polyline clip-path=\"url(#clip0300)\" style=\"stroke:#000000; stroke-width:4; stroke-opacity:1; fill:none\" points=\"\n",
       "  216.399,1437.07 251.635,1437.07 \n",
       "  \"/>\n",
       "<polyline clip-path=\"url(#clip0300)\" style=\"stroke:#000000; stroke-width:4; stroke-opacity:1; fill:none\" points=\"\n",
       "  216.399,871.639 251.635,871.639 \n",
       "  \"/>\n",
       "<polyline clip-path=\"url(#clip0300)\" style=\"stroke:#000000; stroke-width:4; stroke-opacity:1; fill:none\" points=\"\n",
       "  216.399,306.21 251.635,306.21 \n",
       "  \"/>\n",
       "<path clip-path=\"url(#clip0300)\" d=\"M 0 0 M254.909 2258.46 L271.229 2258.46 L271.229 2262.39 L249.285 2262.39 L249.285 2258.46 Q251.947 2255.7 256.53 2251.07 Q261.136 2246.42 262.317 2245.08 Q264.562 2242.55 265.442 2240.82 Q266.345 2239.06 266.345 2237.37 Q266.345 2234.61 264.4 2232.88 Q262.479 2231.14 259.377 2231.14 Q257.178 2231.14 254.724 2231.91 Q252.294 2232.67 249.516 2234.22 L249.516 2229.5 Q252.34 2228.36 254.794 2227.79 Q257.247 2227.21 259.284 2227.21 Q264.655 2227.21 267.849 2229.89 Q271.044 2232.58 271.044 2237.07 Q271.044 2239.2 270.233 2241.12 Q269.446 2243.02 267.34 2245.61 Q266.761 2246.28 263.659 2249.5 Q260.558 2252.69 254.909 2258.46 Z\" fill=\"#000000\" fill-rule=\"evenodd\" fill-opacity=\"1\" /><path clip-path=\"url(#clip0300)\" d=\"M 0 0 M286.298 2230.91 Q282.687 2230.91 280.858 2234.48 Q279.053 2238.02 279.053 2245.15 Q279.053 2252.25 280.858 2255.82 Q282.687 2259.36 286.298 2259.36 Q289.932 2259.36 291.738 2255.82 Q293.567 2252.25 293.567 2245.15 Q293.567 2238.02 291.738 2234.48 Q289.932 2230.91 286.298 2230.91 M286.298 2227.21 Q292.108 2227.21 295.164 2231.81 Q298.243 2236.4 298.243 2245.15 Q298.243 2253.87 295.164 2258.48 Q292.108 2263.06 286.298 2263.06 Q280.488 2263.06 277.409 2258.48 Q274.354 2253.87 274.354 2245.15 Q274.354 2236.4 277.409 2231.81 Q280.488 2227.21 286.298 2227.21 Z\" fill=\"#000000\" fill-rule=\"evenodd\" fill-opacity=\"1\" /><path clip-path=\"url(#clip0300)\" d=\"M 0 0 M304.122 2258.46 L311.761 2258.46 L311.761 2232.09 L303.451 2233.76 L303.451 2229.5 L311.715 2227.83 L316.391 2227.83 L316.391 2258.46 L324.029 2258.46 L324.029 2262.39 L304.122 2262.39 L304.122 2258.46 Z\" fill=\"#000000\" fill-rule=\"evenodd\" fill-opacity=\"1\" /><path clip-path=\"url(#clip0300)\" d=\"M 0 0 M341.946 2231.91 L330.141 2250.35 L341.946 2250.35 L341.946 2231.91 M340.719 2227.83 L346.599 2227.83 L346.599 2250.35 L351.529 2250.35 L351.529 2254.24 L346.599 2254.24 L346.599 2262.39 L341.946 2262.39 L341.946 2254.24 L326.344 2254.24 L326.344 2249.73 L340.719 2227.83 Z\" fill=\"#000000\" fill-rule=\"evenodd\" fill-opacity=\"1\" /><path clip-path=\"url(#clip0300)\" d=\"M 0 0 M353.844 2247.51 L366.321 2247.51 L366.321 2251.3 L353.844 2251.3 L353.844 2247.51 Z\" fill=\"#000000\" fill-rule=\"evenodd\" fill-opacity=\"1\" /><path clip-path=\"url(#clip0300)\" d=\"M 0 0 M381.39 2230.91 Q377.779 2230.91 375.95 2234.48 Q374.145 2238.02 374.145 2245.15 Q374.145 2252.25 375.95 2255.82 Q377.779 2259.36 381.39 2259.36 Q385.025 2259.36 386.83 2255.82 Q388.659 2252.25 388.659 2245.15 Q388.659 2238.02 386.83 2234.48 Q385.025 2230.91 381.39 2230.91 M381.39 2227.21 Q387.2 2227.21 390.256 2231.81 Q393.335 2236.4 393.335 2245.15 Q393.335 2253.87 390.256 2258.48 Q387.2 2263.06 381.39 2263.06 Q375.58 2263.06 372.501 2258.48 Q369.446 2253.87 369.446 2245.15 Q369.446 2236.4 372.501 2231.81 Q375.58 2227.21 381.39 2227.21 Z\" fill=\"#000000\" fill-rule=\"evenodd\" fill-opacity=\"1\" /><path clip-path=\"url(#clip0300)\" d=\"M 0 0 M399.214 2258.46 L406.853 2258.46 L406.853 2232.09 L398.543 2233.76 L398.543 2229.5 L406.807 2227.83 L411.483 2227.83 L411.483 2258.46 L419.122 2258.46 L419.122 2262.39 L399.214 2262.39 L399.214 2258.46 Z\" fill=\"#000000\" fill-rule=\"evenodd\" fill-opacity=\"1\" /><path clip-path=\"url(#clip0300)\" d=\"M 0 0 M421.436 2247.51 L433.913 2247.51 L433.913 2251.3 L421.436 2251.3 L421.436 2247.51 Z\" fill=\"#000000\" fill-rule=\"evenodd\" fill-opacity=\"1\" /><path clip-path=\"url(#clip0300)\" d=\"M 0 0 M448.983 2230.91 Q445.371 2230.91 443.543 2234.48 Q441.737 2238.02 441.737 2245.15 Q441.737 2252.25 443.543 2255.82 Q445.371 2259.36 448.983 2259.36 Q452.617 2259.36 454.422 2255.82 Q456.251 2252.25 456.251 2245.15 Q456.251 2238.02 454.422 2234.48 Q452.617 2230.91 448.983 2230.91 M448.983 2227.21 Q454.793 2227.21 457.848 2231.81 Q460.927 2236.4 460.927 2245.15 Q460.927 2253.87 457.848 2258.48 Q454.793 2263.06 448.983 2263.06 Q443.172 2263.06 440.094 2258.48 Q437.038 2253.87 437.038 2245.15 Q437.038 2236.4 440.094 2231.81 Q443.172 2227.21 448.983 2227.21 Z\" fill=\"#000000\" fill-rule=\"evenodd\" fill-opacity=\"1\" /><path clip-path=\"url(#clip0300)\" d=\"M 0 0 M466.806 2258.46 L474.445 2258.46 L474.445 2232.09 L466.135 2233.76 L466.135 2229.5 L474.399 2227.83 L479.075 2227.83 L479.075 2258.46 L486.714 2258.46 L486.714 2262.39 L466.806 2262.39 L466.806 2258.46 Z\" fill=\"#000000\" fill-rule=\"evenodd\" fill-opacity=\"1\" /><path clip-path=\"url(#clip0300)\" d=\"M 0 0 M1074.77 2258.46 L1091.09 2258.46 L1091.09 2262.39 L1069.15 2262.39 L1069.15 2258.46 Q1071.81 2255.7 1076.4 2251.07 Q1081 2246.42 1082.18 2245.08 Q1084.43 2242.55 1085.31 2240.82 Q1086.21 2239.06 1086.21 2237.37 Q1086.21 2234.61 1084.27 2232.88 Q1082.34 2231.14 1079.24 2231.14 Q1077.04 2231.14 1074.59 2231.91 Q1072.16 2232.67 1069.38 2234.22 L1069.38 2229.5 Q1072.21 2228.36 1074.66 2227.79 Q1077.11 2227.21 1079.15 2227.21 Q1084.52 2227.21 1087.71 2229.89 Q1090.91 2232.58 1090.91 2237.07 Q1090.91 2239.2 1090.1 2241.12 Q1089.31 2243.02 1087.21 2245.61 Q1086.63 2246.28 1083.52 2249.5 Q1080.42 2252.69 1074.77 2258.46 Z\" fill=\"#000000\" fill-rule=\"evenodd\" fill-opacity=\"1\" /><path clip-path=\"url(#clip0300)\" d=\"M 0 0 M1106.16 2230.91 Q1102.55 2230.91 1100.72 2234.48 Q1098.92 2238.02 1098.92 2245.15 Q1098.92 2252.25 1100.72 2255.82 Q1102.55 2259.36 1106.16 2259.36 Q1109.8 2259.36 1111.6 2255.82 Q1113.43 2252.25 1113.43 2245.15 Q1113.43 2238.02 1111.6 2234.48 Q1109.8 2230.91 1106.16 2230.91 M1106.16 2227.21 Q1111.97 2227.21 1115.03 2231.81 Q1118.11 2236.4 1118.11 2245.15 Q1118.11 2253.87 1115.03 2258.48 Q1111.97 2263.06 1106.16 2263.06 Q1100.35 2263.06 1097.27 2258.48 Q1094.22 2253.87 1094.22 2245.15 Q1094.22 2236.4 1097.27 2231.81 Q1100.35 2227.21 1106.16 2227.21 Z\" fill=\"#000000\" fill-rule=\"evenodd\" fill-opacity=\"1\" /><path clip-path=\"url(#clip0300)\" d=\"M 0 0 M1123.99 2258.46 L1131.63 2258.46 L1131.63 2232.09 L1123.32 2233.76 L1123.32 2229.5 L1131.58 2227.83 L1136.26 2227.83 L1136.26 2258.46 L1143.89 2258.46 L1143.89 2262.39 L1123.99 2262.39 L1123.99 2258.46 Z\" fill=\"#000000\" fill-rule=\"evenodd\" fill-opacity=\"1\" /><path clip-path=\"url(#clip0300)\" d=\"M 0 0 M1159.54 2243.25 Q1156.39 2243.25 1154.54 2245.4 Q1152.71 2247.55 1152.71 2251.3 Q1152.71 2255.03 1154.54 2257.21 Q1156.39 2259.36 1159.54 2259.36 Q1162.69 2259.36 1164.52 2257.21 Q1166.37 2255.03 1166.37 2251.3 Q1166.37 2247.55 1164.52 2245.4 Q1162.69 2243.25 1159.54 2243.25 M1168.83 2228.6 L1168.83 2232.85 Q1167.07 2232.02 1165.26 2231.58 Q1163.48 2231.14 1161.72 2231.14 Q1157.09 2231.14 1154.64 2234.27 Q1152.2 2237.39 1151.86 2243.71 Q1153.22 2241.7 1155.28 2240.63 Q1157.34 2239.54 1159.82 2239.54 Q1165.03 2239.54 1168.04 2242.72 Q1171.07 2245.86 1171.07 2251.3 Q1171.07 2256.63 1167.92 2259.85 Q1164.77 2263.06 1159.54 2263.06 Q1153.55 2263.06 1150.38 2258.48 Q1147.21 2253.87 1147.21 2245.15 Q1147.21 2236.95 1151.09 2232.09 Q1154.98 2227.21 1161.53 2227.21 Q1163.29 2227.21 1165.08 2227.55 Q1166.88 2227.9 1168.83 2228.6 Z\" fill=\"#000000\" fill-rule=\"evenodd\" fill-opacity=\"1\" /><path clip-path=\"url(#clip0300)\" d=\"M 0 0 M1173.39 2247.51 L1185.86 2247.51 L1185.86 2251.3 L1173.39 2251.3 L1173.39 2247.51 Z\" fill=\"#000000\" fill-rule=\"evenodd\" fill-opacity=\"1\" /><path clip-path=\"url(#clip0300)\" d=\"M 0 0 M1200.93 2230.91 Q1197.32 2230.91 1195.49 2234.48 Q1193.69 2238.02 1193.69 2245.15 Q1193.69 2252.25 1195.49 2255.82 Q1197.32 2259.36 1200.93 2259.36 Q1204.57 2259.36 1206.37 2255.82 Q1208.2 2252.25 1208.2 2245.15 Q1208.2 2238.02 1206.37 2234.48 Q1204.57 2230.91 1200.93 2230.91 M1200.93 2227.21 Q1206.74 2227.21 1209.8 2231.81 Q1212.88 2236.4 1212.88 2245.15 Q1212.88 2253.87 1209.8 2258.48 Q1206.74 2263.06 1200.93 2263.06 Q1195.12 2263.06 1192.04 2258.48 Q1188.99 2253.87 1188.99 2245.15 Q1188.99 2236.4 1192.04 2231.81 Q1195.12 2227.21 1200.93 2227.21 Z\" fill=\"#000000\" fill-rule=\"evenodd\" fill-opacity=\"1\" /><path clip-path=\"url(#clip0300)\" d=\"M 0 0 M1218.76 2258.46 L1226.39 2258.46 L1226.39 2232.09 L1218.08 2233.76 L1218.08 2229.5 L1226.35 2227.83 L1231.02 2227.83 L1231.02 2258.46 L1238.66 2258.46 L1238.66 2262.39 L1218.76 2262.39 L1218.76 2258.46 Z\" fill=\"#000000\" fill-rule=\"evenodd\" fill-opacity=\"1\" /><path clip-path=\"url(#clip0300)\" d=\"M 0 0 M1240.98 2247.51 L1253.45 2247.51 L1253.45 2251.3 L1240.98 2251.3 L1240.98 2247.51 Z\" fill=\"#000000\" fill-rule=\"evenodd\" fill-opacity=\"1\" /><path clip-path=\"url(#clip0300)\" d=\"M 0 0 M1268.52 2230.91 Q1264.91 2230.91 1263.08 2234.48 Q1261.28 2238.02 1261.28 2245.15 Q1261.28 2252.25 1263.08 2255.82 Q1264.91 2259.36 1268.52 2259.36 Q1272.16 2259.36 1273.96 2255.82 Q1275.79 2252.25 1275.79 2245.15 Q1275.79 2238.02 1273.96 2234.48 Q1272.16 2230.91 1268.52 2230.91 M1268.52 2227.21 Q1274.33 2227.21 1277.39 2231.81 Q1280.47 2236.4 1280.47 2245.15 Q1280.47 2253.87 1277.39 2258.48 Q1274.33 2263.06 1268.52 2263.06 Q1262.71 2263.06 1259.63 2258.48 Q1256.58 2253.87 1256.58 2245.15 Q1256.58 2236.4 1259.63 2231.81 Q1262.71 2227.21 1268.52 2227.21 Z\" fill=\"#000000\" fill-rule=\"evenodd\" fill-opacity=\"1\" /><path clip-path=\"url(#clip0300)\" d=\"M 0 0 M1286.35 2258.46 L1293.99 2258.46 L1293.99 2232.09 L1285.68 2233.76 L1285.68 2229.5 L1293.94 2227.83 L1298.62 2227.83 L1298.62 2258.46 L1306.26 2258.46 L1306.26 2262.39 L1286.35 2262.39 L1286.35 2258.46 Z\" fill=\"#000000\" fill-rule=\"evenodd\" fill-opacity=\"1\" /><path clip-path=\"url(#clip0300)\" d=\"M 0 0 M1895.73 2258.46 L1912.05 2258.46 L1912.05 2262.39 L1890.1 2262.39 L1890.1 2258.46 Q1892.77 2255.7 1897.35 2251.07 Q1901.96 2246.42 1903.14 2245.08 Q1905.38 2242.55 1906.26 2240.82 Q1907.16 2239.06 1907.16 2237.37 Q1907.16 2234.61 1905.22 2232.88 Q1903.3 2231.14 1900.2 2231.14 Q1898 2231.14 1895.54 2231.91 Q1893.11 2232.67 1890.33 2234.22 L1890.33 2229.5 Q1893.16 2228.36 1895.61 2227.79 Q1898.07 2227.21 1900.1 2227.21 Q1905.47 2227.21 1908.67 2229.89 Q1911.86 2232.58 1911.86 2237.07 Q1911.86 2239.2 1911.05 2241.12 Q1910.27 2243.02 1908.16 2245.61 Q1907.58 2246.28 1904.48 2249.5 Q1901.38 2252.69 1895.73 2258.46 Z\" fill=\"#000000\" fill-rule=\"evenodd\" fill-opacity=\"1\" /><path clip-path=\"url(#clip0300)\" d=\"M 0 0 M1927.12 2230.91 Q1923.51 2230.91 1921.68 2234.48 Q1919.87 2238.02 1919.87 2245.15 Q1919.87 2252.25 1921.68 2255.82 Q1923.51 2259.36 1927.12 2259.36 Q1930.75 2259.36 1932.56 2255.82 Q1934.39 2252.25 1934.39 2245.15 Q1934.39 2238.02 1932.56 2234.48 Q1930.75 2230.91 1927.12 2230.91 M1927.12 2227.21 Q1932.93 2227.21 1935.98 2231.81 Q1939.06 2236.4 1939.06 2245.15 Q1939.06 2253.87 1935.98 2258.48 Q1932.93 2263.06 1927.12 2263.06 Q1921.31 2263.06 1918.23 2258.48 Q1915.17 2253.87 1915.17 2245.15 Q1915.17 2236.4 1918.23 2231.81 Q1921.31 2227.21 1927.12 2227.21 Z\" fill=\"#000000\" fill-rule=\"evenodd\" fill-opacity=\"1\" /><path clip-path=\"url(#clip0300)\" d=\"M 0 0 M1944.94 2258.46 L1952.58 2258.46 L1952.58 2232.09 L1944.27 2233.76 L1944.27 2229.5 L1952.53 2227.83 L1957.21 2227.83 L1957.21 2258.46 L1964.85 2258.46 L1964.85 2262.39 L1944.94 2262.39 L1944.94 2258.46 Z\" fill=\"#000000\" fill-rule=\"evenodd\" fill-opacity=\"1\" /><path clip-path=\"url(#clip0300)\" d=\"M 0 0 M1979.92 2245.98 Q1976.58 2245.98 1974.66 2247.76 Q1972.76 2249.54 1972.76 2252.67 Q1972.76 2255.79 1974.66 2257.58 Q1976.58 2259.36 1979.92 2259.36 Q1983.25 2259.36 1985.17 2257.58 Q1987.09 2255.77 1987.09 2252.67 Q1987.09 2249.54 1985.17 2247.76 Q1983.27 2245.98 1979.92 2245.98 M1975.24 2243.99 Q1972.23 2243.25 1970.54 2241.19 Q1968.88 2239.13 1968.88 2236.17 Q1968.88 2232.02 1971.82 2229.61 Q1974.78 2227.21 1979.92 2227.21 Q1985.08 2227.21 1988.02 2229.61 Q1990.96 2232.02 1990.96 2236.17 Q1990.96 2239.13 1989.27 2241.19 Q1987.6 2243.25 1984.62 2243.99 Q1988 2244.78 1989.87 2247.07 Q1991.77 2249.36 1991.77 2252.67 Q1991.77 2257.69 1988.69 2260.38 Q1985.64 2263.06 1979.92 2263.06 Q1974.2 2263.06 1971.12 2260.38 Q1968.07 2257.69 1968.07 2252.67 Q1968.07 2249.36 1969.96 2247.07 Q1971.86 2244.78 1975.24 2243.99 M1973.53 2236.6 Q1973.53 2239.29 1975.2 2240.79 Q1976.89 2242.3 1979.92 2242.3 Q1982.93 2242.3 1984.62 2240.79 Q1986.33 2239.29 1986.33 2236.6 Q1986.33 2233.92 1984.62 2232.42 Q1982.93 2230.91 1979.92 2230.91 Q1976.89 2230.91 1975.2 2232.42 Q1973.53 2233.92 1973.53 2236.6 Z\" fill=\"#000000\" fill-rule=\"evenodd\" fill-opacity=\"1\" /><path clip-path=\"url(#clip0300)\" d=\"M 0 0 M1994.08 2247.51 L2006.56 2247.51 L2006.56 2251.3 L1994.08 2251.3 L1994.08 2247.51 Z\" fill=\"#000000\" fill-rule=\"evenodd\" fill-opacity=\"1\" /><path clip-path=\"url(#clip0300)\" d=\"M 0 0 M2021.63 2230.91 Q2018.02 2230.91 2016.19 2234.48 Q2014.39 2238.02 2014.39 2245.15 Q2014.39 2252.25 2016.19 2255.82 Q2018.02 2259.36 2021.63 2259.36 Q2025.26 2259.36 2027.07 2255.82 Q2028.9 2252.25 2028.9 2245.15 Q2028.9 2238.02 2027.07 2234.48 Q2025.26 2230.91 2021.63 2230.91 M2021.63 2227.21 Q2027.44 2227.21 2030.5 2231.81 Q2033.57 2236.4 2033.57 2245.15 Q2033.57 2253.87 2030.5 2258.48 Q2027.44 2263.06 2021.63 2263.06 Q2015.82 2263.06 2012.74 2258.48 Q2009.69 2253.87 2009.69 2245.15 Q2009.69 2236.4 2012.74 2231.81 Q2015.82 2227.21 2021.63 2227.21 Z\" fill=\"#000000\" fill-rule=\"evenodd\" fill-opacity=\"1\" /><path clip-path=\"url(#clip0300)\" d=\"M 0 0 M2039.45 2258.46 L2047.09 2258.46 L2047.09 2232.09 L2038.78 2233.76 L2038.78 2229.5 L2047.05 2227.83 L2051.72 2227.83 L2051.72 2258.46 L2059.36 2258.46 L2059.36 2262.39 L2039.45 2262.39 L2039.45 2258.46 Z\" fill=\"#000000\" fill-rule=\"evenodd\" fill-opacity=\"1\" /><path clip-path=\"url(#clip0300)\" d=\"M 0 0 M2061.68 2247.51 L2074.15 2247.51 L2074.15 2251.3 L2061.68 2251.3 L2061.68 2247.51 Z\" fill=\"#000000\" fill-rule=\"evenodd\" fill-opacity=\"1\" /><path clip-path=\"url(#clip0300)\" d=\"M 0 0 M2089.22 2230.91 Q2085.61 2230.91 2083.78 2234.48 Q2081.98 2238.02 2081.98 2245.15 Q2081.98 2252.25 2083.78 2255.82 Q2085.61 2259.36 2089.22 2259.36 Q2092.86 2259.36 2094.66 2255.82 Q2096.49 2252.25 2096.49 2245.15 Q2096.49 2238.02 2094.66 2234.48 Q2092.86 2230.91 2089.22 2230.91 M2089.22 2227.21 Q2095.03 2227.21 2098.09 2231.81 Q2101.17 2236.4 2101.17 2245.15 Q2101.17 2253.87 2098.09 2258.48 Q2095.03 2263.06 2089.22 2263.06 Q2083.41 2263.06 2080.33 2258.48 Q2077.28 2253.87 2077.28 2245.15 Q2077.28 2236.4 2080.33 2231.81 Q2083.41 2227.21 2089.22 2227.21 Z\" fill=\"#000000\" fill-rule=\"evenodd\" fill-opacity=\"1\" /><path clip-path=\"url(#clip0300)\" d=\"M 0 0 M2107.05 2258.46 L2114.69 2258.46 L2114.69 2232.09 L2106.38 2233.76 L2106.38 2229.5 L2114.64 2227.83 L2119.32 2227.83 L2119.32 2258.46 L2126.95 2258.46 L2126.95 2262.39 L2107.05 2262.39 L2107.05 2258.46 Z\" fill=\"#000000\" fill-rule=\"evenodd\" fill-opacity=\"1\" /><path clip-path=\"url(#clip0300)\" d=\"M 0 0 M2715.57 2258.46 L2731.89 2258.46 L2731.89 2262.39 L2709.95 2262.39 L2709.95 2258.46 Q2712.61 2255.7 2717.19 2251.07 Q2721.8 2246.42 2722.98 2245.08 Q2725.22 2242.55 2726.1 2240.82 Q2727.01 2239.06 2727.01 2237.37 Q2727.01 2234.61 2725.06 2232.88 Q2723.14 2231.14 2720.04 2231.14 Q2717.84 2231.14 2715.39 2231.91 Q2712.95 2232.67 2710.18 2234.22 L2710.18 2229.5 Q2713 2228.36 2715.45 2227.79 Q2717.91 2227.21 2719.95 2227.21 Q2725.32 2227.21 2728.51 2229.89 Q2731.7 2232.58 2731.7 2237.07 Q2731.7 2239.2 2730.89 2241.12 Q2730.11 2243.02 2728 2245.61 Q2727.42 2246.28 2724.32 2249.5 Q2721.22 2252.69 2715.57 2258.46 Z\" fill=\"#000000\" fill-rule=\"evenodd\" fill-opacity=\"1\" /><path clip-path=\"url(#clip0300)\" d=\"M 0 0 M2746.96 2230.91 Q2743.35 2230.91 2741.52 2234.48 Q2739.71 2238.02 2739.71 2245.15 Q2739.71 2252.25 2741.52 2255.82 Q2743.35 2259.36 2746.96 2259.36 Q2750.59 2259.36 2752.4 2255.82 Q2754.23 2252.25 2754.23 2245.15 Q2754.23 2238.02 2752.4 2234.48 Q2750.59 2230.91 2746.96 2230.91 M2746.96 2227.21 Q2752.77 2227.21 2755.82 2231.81 Q2758.9 2236.4 2758.9 2245.15 Q2758.9 2253.87 2755.82 2258.48 Q2752.77 2263.06 2746.96 2263.06 Q2741.15 2263.06 2738.07 2258.48 Q2735.01 2253.87 2735.01 2245.15 Q2735.01 2236.4 2738.07 2231.81 Q2741.15 2227.21 2746.96 2227.21 Z\" fill=\"#000000\" fill-rule=\"evenodd\" fill-opacity=\"1\" /><path clip-path=\"url(#clip0300)\" d=\"M 0 0 M2768 2258.46 L2784.32 2258.46 L2784.32 2262.39 L2762.38 2262.39 L2762.38 2258.46 Q2765.04 2255.7 2769.62 2251.07 Q2774.23 2246.42 2775.41 2245.08 Q2777.65 2242.55 2778.53 2240.82 Q2779.44 2239.06 2779.44 2237.37 Q2779.44 2234.61 2777.49 2232.88 Q2775.57 2231.14 2772.47 2231.14 Q2770.27 2231.14 2767.82 2231.91 Q2765.39 2232.67 2762.61 2234.22 L2762.61 2229.5 Q2765.43 2228.36 2767.89 2227.79 Q2770.34 2227.21 2772.38 2227.21 Q2777.75 2227.21 2780.94 2229.89 Q2784.14 2232.58 2784.14 2237.07 Q2784.14 2239.2 2783.32 2241.12 Q2782.54 2243.02 2780.43 2245.61 Q2779.85 2246.28 2776.75 2249.5 Q2773.65 2252.69 2768 2258.46 Z\" fill=\"#000000\" fill-rule=\"evenodd\" fill-opacity=\"1\" /><path clip-path=\"url(#clip0300)\" d=\"M 0 0 M2799.39 2230.91 Q2795.78 2230.91 2793.95 2234.48 Q2792.14 2238.02 2792.14 2245.15 Q2792.14 2252.25 2793.95 2255.82 Q2795.78 2259.36 2799.39 2259.36 Q2803.02 2259.36 2804.83 2255.82 Q2806.66 2252.25 2806.66 2245.15 Q2806.66 2238.02 2804.83 2234.48 Q2803.02 2230.91 2799.39 2230.91 M2799.39 2227.21 Q2805.2 2227.21 2808.26 2231.81 Q2811.33 2236.4 2811.33 2245.15 Q2811.33 2253.87 2808.26 2258.48 Q2805.2 2263.06 2799.39 2263.06 Q2793.58 2263.06 2790.5 2258.48 Q2787.45 2253.87 2787.45 2245.15 Q2787.45 2236.4 2790.5 2231.81 Q2793.58 2227.21 2799.39 2227.21 Z\" fill=\"#000000\" fill-rule=\"evenodd\" fill-opacity=\"1\" /><path clip-path=\"url(#clip0300)\" d=\"M 0 0 M2813.65 2247.51 L2826.13 2247.51 L2826.13 2251.3 L2813.65 2251.3 L2813.65 2247.51 Z\" fill=\"#000000\" fill-rule=\"evenodd\" fill-opacity=\"1\" /><path clip-path=\"url(#clip0300)\" d=\"M 0 0 M2841.19 2230.91 Q2837.58 2230.91 2835.76 2234.48 Q2833.95 2238.02 2833.95 2245.15 Q2833.95 2252.25 2835.76 2255.82 Q2837.58 2259.36 2841.19 2259.36 Q2844.83 2259.36 2846.63 2255.82 Q2848.46 2252.25 2848.46 2245.15 Q2848.46 2238.02 2846.63 2234.48 Q2844.83 2230.91 2841.19 2230.91 M2841.19 2227.21 Q2847.01 2227.21 2850.06 2231.81 Q2853.14 2236.4 2853.14 2245.15 Q2853.14 2253.87 2850.06 2258.48 Q2847.01 2263.06 2841.19 2263.06 Q2835.38 2263.06 2832.31 2258.48 Q2829.25 2253.87 2829.25 2245.15 Q2829.25 2236.4 2832.31 2231.81 Q2835.38 2227.21 2841.19 2227.21 Z\" fill=\"#000000\" fill-rule=\"evenodd\" fill-opacity=\"1\" /><path clip-path=\"url(#clip0300)\" d=\"M 0 0 M2859.02 2258.46 L2866.66 2258.46 L2866.66 2232.09 L2858.35 2233.76 L2858.35 2229.5 L2866.61 2227.83 L2871.29 2227.83 L2871.29 2258.46 L2878.93 2258.46 L2878.93 2262.39 L2859.02 2262.39 L2859.02 2258.46 Z\" fill=\"#000000\" fill-rule=\"evenodd\" fill-opacity=\"1\" /><path clip-path=\"url(#clip0300)\" d=\"M 0 0 M2881.24 2247.51 L2893.72 2247.51 L2893.72 2251.3 L2881.24 2251.3 L2881.24 2247.51 Z\" fill=\"#000000\" fill-rule=\"evenodd\" fill-opacity=\"1\" /><path clip-path=\"url(#clip0300)\" d=\"M 0 0 M2908.79 2230.91 Q2905.18 2230.91 2903.35 2234.48 Q2901.54 2238.02 2901.54 2245.15 Q2901.54 2252.25 2903.35 2255.82 Q2905.18 2259.36 2908.79 2259.36 Q2912.42 2259.36 2914.23 2255.82 Q2916.06 2252.25 2916.06 2245.15 Q2916.06 2238.02 2914.23 2234.48 Q2912.42 2230.91 2908.79 2230.91 M2908.79 2227.21 Q2914.6 2227.21 2917.65 2231.81 Q2920.73 2236.4 2920.73 2245.15 Q2920.73 2253.87 2917.65 2258.48 Q2914.6 2263.06 2908.79 2263.06 Q2902.98 2263.06 2899.9 2258.48 Q2896.84 2253.87 2896.84 2245.15 Q2896.84 2236.4 2899.9 2231.81 Q2902.98 2227.21 2908.79 2227.21 Z\" fill=\"#000000\" fill-rule=\"evenodd\" fill-opacity=\"1\" /><path clip-path=\"url(#clip0300)\" d=\"M 0 0 M2926.61 2258.46 L2934.25 2258.46 L2934.25 2232.09 L2925.94 2233.76 L2925.94 2229.5 L2934.2 2227.83 L2938.88 2227.83 L2938.88 2258.46 L2946.52 2258.46 L2946.52 2262.39 L2926.61 2262.39 L2926.61 2258.46 Z\" fill=\"#000000\" fill-rule=\"evenodd\" fill-opacity=\"1\" /><path clip-path=\"url(#clip0300)\" d=\"M 0 0 M150.256 2001.14 Q153.612 2001.86 155.487 2004.13 Q157.385 2006.4 157.385 2009.73 Q157.385 2014.85 153.867 2017.65 Q150.348 2020.45 143.867 2020.45 Q141.691 2020.45 139.376 2020.01 Q137.084 2019.59 134.631 2018.73 L134.631 2014.22 Q136.575 2015.36 138.89 2015.93 Q141.205 2016.51 143.728 2016.51 Q148.126 2016.51 150.418 2014.78 Q152.732 2013.04 152.732 2009.73 Q152.732 2006.67 150.58 2004.96 Q148.45 2003.23 144.631 2003.23 L140.603 2003.23 L140.603 1999.38 L144.816 1999.38 Q148.265 1999.38 150.094 1998.02 Q151.922 1996.63 151.922 1994.04 Q151.922 1991.37 150.024 1989.96 Q148.149 1988.53 144.631 1988.53 Q142.709 1988.53 140.51 1988.94 Q138.311 1989.36 135.672 1990.24 L135.672 1986.07 Q138.334 1985.33 140.649 1984.96 Q142.987 1984.59 145.047 1984.59 Q150.371 1984.59 153.473 1987.02 Q156.575 1989.43 156.575 1993.55 Q156.575 1996.42 154.932 1998.41 Q153.288 2000.38 150.256 2001.14 Z\" fill=\"#000000\" fill-rule=\"evenodd\" fill-opacity=\"1\" /><path clip-path=\"url(#clip0300)\" d=\"M 0 0 M172.455 1988.3 Q168.843 1988.3 167.015 1991.86 Q165.209 1995.4 165.209 2002.53 Q165.209 2009.64 167.015 2013.2 Q168.843 2016.74 172.455 2016.74 Q176.089 2016.74 177.894 2013.2 Q179.723 2009.64 179.723 2002.53 Q179.723 1995.4 177.894 1991.86 Q176.089 1988.3 172.455 1988.3 M172.455 1984.59 Q178.265 1984.59 181.32 1989.2 Q184.399 1993.78 184.399 2002.53 Q184.399 2011.26 181.32 2015.86 Q178.265 2020.45 172.455 2020.45 Q166.644 2020.45 163.566 2015.86 Q160.51 2011.26 160.51 2002.53 Q160.51 1993.78 163.566 1989.2 Q166.644 1984.59 172.455 1984.59 Z\" fill=\"#000000\" fill-rule=\"evenodd\" fill-opacity=\"1\" /><path clip-path=\"url(#clip0300)\" d=\"M 0 0 M147.802 1423.86 L135.996 1442.31 L147.802 1442.31 L147.802 1423.86 M146.575 1419.79 L152.455 1419.79 L152.455 1442.31 L157.385 1442.31 L157.385 1446.2 L152.455 1446.2 L152.455 1454.35 L147.802 1454.35 L147.802 1446.2 L132.2 1446.2 L132.2 1441.69 L146.575 1419.79 Z\" fill=\"#000000\" fill-rule=\"evenodd\" fill-opacity=\"1\" /><path clip-path=\"url(#clip0300)\" d=\"M 0 0 M172.455 1422.87 Q168.843 1422.87 167.015 1426.43 Q165.209 1429.97 165.209 1437.1 Q165.209 1444.21 167.015 1447.77 Q168.843 1451.32 172.455 1451.32 Q176.089 1451.32 177.894 1447.77 Q179.723 1444.21 179.723 1437.1 Q179.723 1429.97 177.894 1426.43 Q176.089 1422.87 172.455 1422.87 M172.455 1419.16 Q178.265 1419.16 181.32 1423.77 Q184.399 1428.35 184.399 1437.1 Q184.399 1445.83 181.32 1450.44 Q178.265 1455.02 172.455 1455.02 Q166.644 1455.02 163.566 1450.44 Q160.51 1445.83 160.51 1437.1 Q160.51 1428.35 163.566 1423.77 Q166.644 1419.16 172.455 1419.16 Z\" fill=\"#000000\" fill-rule=\"evenodd\" fill-opacity=\"1\" /><path clip-path=\"url(#clip0300)\" d=\"M 0 0 M136.483 854.359 L154.839 854.359 L154.839 858.294 L140.765 858.294 L140.765 866.766 Q141.783 866.419 142.802 866.257 Q143.82 866.072 144.839 866.072 Q150.626 866.072 154.006 869.243 Q157.385 872.415 157.385 877.831 Q157.385 883.41 153.913 886.512 Q150.441 889.59 144.121 889.59 Q141.945 889.59 139.677 889.22 Q137.432 888.85 135.024 888.109 L135.024 883.41 Q137.108 884.544 139.33 885.1 Q141.552 885.655 144.029 885.655 Q148.033 885.655 150.371 883.549 Q152.709 881.442 152.709 877.831 Q152.709 874.22 150.371 872.114 Q148.033 870.007 144.029 870.007 Q142.154 870.007 140.279 870.424 Q138.427 870.84 136.483 871.72 L136.483 854.359 Z\" fill=\"#000000\" fill-rule=\"evenodd\" fill-opacity=\"1\" /><path clip-path=\"url(#clip0300)\" d=\"M 0 0 M172.455 857.438 Q168.843 857.438 167.015 861.003 Q165.209 864.544 165.209 871.674 Q165.209 878.78 167.015 882.345 Q168.843 885.887 172.455 885.887 Q176.089 885.887 177.894 882.345 Q179.723 878.78 179.723 871.674 Q179.723 864.544 177.894 861.003 Q176.089 857.438 172.455 857.438 M172.455 853.734 Q178.265 853.734 181.32 858.341 Q184.399 862.924 184.399 871.674 Q184.399 880.401 181.32 885.007 Q178.265 889.59 172.455 889.59 Q166.644 889.59 163.566 885.007 Q160.51 880.401 160.51 871.674 Q160.51 862.924 163.566 858.341 Q166.644 853.734 172.455 853.734 Z\" fill=\"#000000\" fill-rule=\"evenodd\" fill-opacity=\"1\" /><path clip-path=\"url(#clip0300)\" d=\"M 0 0 M145.857 304.347 Q142.709 304.347 140.858 306.5 Q139.029 308.653 139.029 312.403 Q139.029 316.129 140.858 318.305 Q142.709 320.458 145.857 320.458 Q149.006 320.458 150.834 318.305 Q152.686 316.129 152.686 312.403 Q152.686 308.653 150.834 306.5 Q149.006 304.347 145.857 304.347 M155.14 289.694 L155.14 293.954 Q153.381 293.12 151.575 292.68 Q149.793 292.241 148.033 292.241 Q143.404 292.241 140.95 295.366 Q138.52 298.491 138.172 304.81 Q139.538 302.796 141.598 301.731 Q143.658 300.643 146.135 300.643 Q151.344 300.643 154.353 303.815 Q157.385 306.963 157.385 312.403 Q157.385 317.727 154.237 320.944 Q151.089 324.162 145.857 324.162 Q139.862 324.162 136.691 319.578 Q133.52 314.972 133.52 306.245 Q133.52 298.051 137.408 293.19 Q141.297 288.305 147.848 288.305 Q149.607 288.305 151.39 288.653 Q153.195 289 155.14 289.694 Z\" fill=\"#000000\" fill-rule=\"evenodd\" fill-opacity=\"1\" /><path clip-path=\"url(#clip0300)\" d=\"M 0 0 M172.455 292.009 Q168.843 292.009 167.015 295.574 Q165.209 299.116 165.209 306.245 Q165.209 313.352 167.015 316.916 Q168.843 320.458 172.455 320.458 Q176.089 320.458 177.894 316.916 Q179.723 313.352 179.723 306.245 Q179.723 299.116 177.894 295.574 Q176.089 292.009 172.455 292.009 M172.455 288.305 Q178.265 288.305 181.32 292.912 Q184.399 297.495 184.399 306.245 Q184.399 314.972 181.32 319.578 Q178.265 324.162 172.455 324.162 Q166.644 324.162 163.566 319.578 Q160.51 314.972 160.51 306.245 Q160.51 297.495 163.566 292.912 Q166.644 288.305 172.455 288.305 Z\" fill=\"#000000\" fill-rule=\"evenodd\" fill-opacity=\"1\" /><path clip-path=\"url(#clip0300)\" d=\"M 0 0 M1630.34 2300.01 L1630.34 2310.14 L1642.4 2310.14 L1642.4 2314.69 L1630.34 2314.69 L1630.34 2334.04 Q1630.34 2338.4 1631.52 2339.64 Q1632.73 2340.88 1636.39 2340.88 L1642.4 2340.88 L1642.4 2345.78 L1636.39 2345.78 Q1629.61 2345.78 1627.03 2343.27 Q1624.45 2340.72 1624.45 2334.04 L1624.45 2314.69 L1620.16 2314.69 L1620.16 2310.14 L1624.45 2310.14 L1624.45 2300.01 L1630.34 2300.01 Z\" fill=\"#000000\" fill-rule=\"evenodd\" fill-opacity=\"1\" /><path clip-path=\"url(#clip0300)\" d=\"M 0 0 M1648.55 2310.14 L1654.4 2310.14 L1654.4 2345.78 L1648.55 2345.78 L1648.55 2310.14 M1648.55 2296.26 L1654.4 2296.26 L1654.4 2303.67 L1648.55 2303.67 L1648.55 2296.26 Z\" fill=\"#000000\" fill-rule=\"evenodd\" fill-opacity=\"1\" /><path clip-path=\"url(#clip0300)\" d=\"M 0 0 M1688.3 2316.98 Q1690.5 2313.03 1693.55 2311.15 Q1696.61 2309.28 1700.75 2309.28 Q1706.32 2309.28 1709.34 2313.19 Q1712.36 2317.07 1712.36 2324.27 L1712.36 2345.78 L1706.48 2345.78 L1706.48 2324.46 Q1706.48 2319.33 1704.66 2316.85 Q1702.85 2314.37 1699.12 2314.37 Q1694.57 2314.37 1691.93 2317.39 Q1689.29 2320.42 1689.29 2325.64 L1689.29 2345.78 L1683.4 2345.78 L1683.4 2324.46 Q1683.4 2319.3 1681.59 2316.85 Q1679.77 2314.37 1675.98 2314.37 Q1671.5 2314.37 1668.85 2317.42 Q1666.21 2320.45 1666.21 2325.64 L1666.21 2345.78 L1660.32 2345.78 L1660.32 2310.14 L1666.21 2310.14 L1666.21 2315.67 Q1668.22 2312.4 1671.02 2310.84 Q1673.82 2309.28 1677.67 2309.28 Q1681.55 2309.28 1684.26 2311.25 Q1687 2313.22 1688.3 2316.98 Z\" fill=\"#000000\" fill-rule=\"evenodd\" fill-opacity=\"1\" /><path clip-path=\"url(#clip0300)\" d=\"M 0 0 M1749 2326.5 L1749 2329.36 L1722.07 2329.36 Q1722.45 2335.41 1725.7 2338.59 Q1728.98 2341.74 1734.8 2341.74 Q1738.18 2341.74 1741.33 2340.91 Q1744.51 2340.09 1747.63 2338.43 L1747.63 2343.97 Q1744.48 2345.31 1741.17 2346.01 Q1737.86 2346.71 1734.45 2346.71 Q1725.92 2346.71 1720.93 2341.74 Q1715.96 2336.78 1715.96 2328.31 Q1715.96 2319.56 1720.67 2314.43 Q1725.41 2309.28 1733.43 2309.28 Q1740.63 2309.28 1744.8 2313.92 Q1749 2318.54 1749 2326.5 M1743.14 2324.78 Q1743.08 2319.97 1740.44 2317.11 Q1737.83 2314.24 1733.5 2314.24 Q1728.6 2314.24 1725.64 2317.01 Q1722.71 2319.78 1722.26 2324.81 L1743.14 2324.78 Z\" fill=\"#000000\" fill-rule=\"evenodd\" fill-opacity=\"1\" /><path clip-path=\"url(#clip0300)\" d=\"M 0 0 M50.2962 1262.48 L50.2962 1256.63 L85.9442 1256.63 L85.9442 1262.48 L50.2962 1262.48 M36.419 1262.48 L36.419 1256.63 L43.835 1256.63 L43.835 1262.48 L36.419 1262.48 Z\" fill=\"#000000\" fill-rule=\"evenodd\" fill-opacity=\"1\" /><path clip-path=\"url(#clip0300)\" d=\"M 0 0 M64.4281 1220.85 L85.9442 1220.85 L85.9442 1226.71 L64.619 1226.71 Q59.5583 1226.71 57.0438 1228.68 Q54.5294 1230.65 54.5294 1234.6 Q54.5294 1239.34 57.5531 1242.08 Q60.5768 1244.82 65.7967 1244.82 L85.9442 1244.82 L85.9442 1250.71 L50.2962 1250.71 L50.2962 1244.82 L55.8344 1244.82 Q52.6197 1242.72 51.0283 1239.88 Q49.4368 1237.02 49.4368 1233.3 Q49.4368 1227.15 53.2563 1224 Q57.0438 1220.85 64.4281 1220.85 Z\" fill=\"#000000\" fill-rule=\"evenodd\" fill-opacity=\"1\" /><path clip-path=\"url(#clip0300)\" d=\"M 0 0 M55.7071 1191.25 L36.419 1191.25 L36.419 1185.39 L85.9442 1185.39 L85.9442 1191.25 L80.597 1191.25 Q83.7798 1193.1 85.3394 1195.93 Q86.8672 1198.73 86.8672 1202.68 Q86.8672 1209.14 81.711 1213.21 Q76.5547 1217.25 68.152 1217.25 Q59.7493 1217.25 54.5931 1213.21 Q49.4368 1209.14 49.4368 1202.68 Q49.4368 1198.73 50.9964 1195.93 Q52.5242 1193.1 55.7071 1191.25 M68.152 1211.21 Q74.6132 1211.21 78.3053 1208.57 Q81.9656 1205.89 81.9656 1201.25 Q81.9656 1196.6 78.3053 1193.92 Q74.6132 1191.25 68.152 1191.25 Q61.6908 1191.25 58.0305 1193.92 Q54.3384 1196.6 54.3384 1201.25 Q54.3384 1205.89 58.0305 1208.57 Q61.6908 1211.21 68.152 1211.21 Z\" fill=\"#000000\" fill-rule=\"evenodd\" fill-opacity=\"1\" /><path clip-path=\"url(#clip0300)\" d=\"M 0 0 M50.2962 1179.25 L50.2962 1173.4 L85.9442 1173.4 L85.9442 1179.25 L50.2962 1179.25 M36.419 1179.25 L36.419 1173.4 L43.835 1173.4 L43.835 1179.25 L36.419 1179.25 Z\" fill=\"#000000\" fill-rule=\"evenodd\" fill-opacity=\"1\" /><path clip-path=\"url(#clip0300)\" d=\"M 0 0 M51.6648 1141.6 L57.1393 1141.6 Q55.7707 1144.08 55.1023 1146.6 Q54.4021 1149.08 54.4021 1151.62 Q54.4021 1157.32 58.0305 1160.47 Q61.6272 1163.62 68.152 1163.62 Q74.6769 1163.62 78.3053 1160.47 Q81.9019 1157.32 81.9019 1151.62 Q81.9019 1149.08 81.2335 1146.6 Q80.5333 1144.08 79.1647 1141.6 L84.5755 1141.6 Q85.7214 1144.05 86.2943 1146.69 Q86.8672 1149.3 86.8672 1152.26 Q86.8672 1160.31 81.8064 1165.06 Q76.7457 1169.8 68.152 1169.8 Q59.431 1169.8 54.4339 1165.02 Q49.4368 1160.22 49.4368 1151.88 Q49.4368 1149.17 50.0097 1146.6 Q50.5508 1144.02 51.6648 1141.6 Z\" fill=\"#000000\" fill-rule=\"evenodd\" fill-opacity=\"1\" /><path clip-path=\"url(#clip0300)\" d=\"M 0 0 M68.0247 1119.25 Q68.0247 1126.35 69.6479 1129.09 Q71.2712 1131.83 75.1861 1131.83 Q78.3053 1131.83 80.1514 1129.79 Q81.9656 1127.72 81.9656 1124.19 Q81.9656 1119.32 78.5281 1116.39 Q75.0588 1113.43 69.3297 1113.43 L68.0247 1113.43 L68.0247 1119.25 M65.6057 1107.57 L85.9442 1107.57 L85.9442 1113.43 L80.5333 1113.43 Q83.7798 1115.44 85.3394 1118.43 Q86.8672 1121.42 86.8672 1125.75 Q86.8672 1131.22 83.8116 1134.47 Q80.7243 1137.68 75.5681 1137.68 Q69.5525 1137.68 66.4969 1133.67 Q63.4414 1129.63 63.4414 1121.64 L63.4414 1113.43 L62.8685 1113.43 Q58.8262 1113.43 56.6301 1116.1 Q54.4021 1118.75 54.4021 1123.55 Q54.4021 1126.61 55.1341 1129.5 Q55.8662 1132.4 57.3303 1135.07 L51.9195 1135.07 Q50.6781 1131.86 50.0734 1128.84 Q49.4368 1125.81 49.4368 1122.95 Q49.4368 1115.21 53.4472 1111.39 Q57.4576 1107.57 65.6057 1107.57 Z\" fill=\"#000000\" fill-rule=\"evenodd\" fill-opacity=\"1\" /><path clip-path=\"url(#clip0300)\" d=\"M 0 0 M40.1747 1095.64 L50.2962 1095.64 L50.2962 1083.57 L54.8477 1083.57 L54.8477 1095.64 L74.1994 1095.64 Q78.5599 1095.64 79.8013 1094.46 Q81.0426 1093.25 81.0426 1089.59 L81.0426 1083.57 L85.9442 1083.57 L85.9442 1089.59 Q85.9442 1096.37 83.4297 1098.95 Q80.8834 1101.53 74.1994 1101.53 L54.8477 1101.53 L54.8477 1105.82 L50.2962 1105.82 L50.2962 1101.53 L40.1747 1101.53 L40.1747 1095.64 Z\" fill=\"#000000\" fill-rule=\"evenodd\" fill-opacity=\"1\" /><path clip-path=\"url(#clip0300)\" d=\"M 0 0 M54.4021 1063.62 Q54.4021 1068.33 58.0942 1071.07 Q61.7545 1073.8 68.152 1073.8 Q74.5495 1073.8 78.2417 1071.1 Q81.9019 1068.36 81.9019 1063.62 Q81.9019 1058.94 78.2098 1056.2 Q74.5177 1053.47 68.152 1053.47 Q61.8181 1053.47 58.126 1056.2 Q54.4021 1058.94 54.4021 1063.62 M49.4368 1063.62 Q49.4368 1055.98 54.4021 1051.62 Q59.3673 1047.26 68.152 1047.26 Q76.9049 1047.26 81.9019 1051.62 Q86.8672 1055.98 86.8672 1063.62 Q86.8672 1071.29 81.9019 1075.65 Q76.9049 1079.98 68.152 1079.98 Q59.3673 1079.98 54.4021 1075.65 Q49.4368 1071.29 49.4368 1063.62 Z\" fill=\"#000000\" fill-rule=\"evenodd\" fill-opacity=\"1\" /><path clip-path=\"url(#clip0300)\" d=\"M 0 0 M55.7707 1020.46 Q55.1978 1021.45 54.9432 1022.62 Q54.6567 1023.77 54.6567 1025.17 Q54.6567 1030.13 57.9032 1032.81 Q61.1179 1035.45 67.1653 1035.45 L85.9442 1035.45 L85.9442 1041.34 L50.2962 1041.34 L50.2962 1035.45 L55.8344 1035.45 Q52.5879 1033.6 51.0283 1030.64 Q49.4368 1027.68 49.4368 1023.45 Q49.4368 1022.85 49.5323 1022.11 Q49.596 1021.38 49.7551 1020.49 L55.7707 1020.46 Z\" fill=\"#000000\" fill-rule=\"evenodd\" fill-opacity=\"1\" /><path clip-path=\"url(#clip0300)\" d=\"M 0 0 M51.3465 991.591 L56.8847 991.591 Q55.6116 994.073 54.975 996.747 Q54.3384 999.42 54.3384 1002.28 Q54.3384 1006.65 55.6752 1008.84 Q57.012 1011.01 59.6856 1011.01 Q61.7226 1011.01 62.9003 1009.45 Q64.0461 1007.89 65.0965 1003.18 L65.5421 1001.17 Q66.8789 994.932 69.3297 992.323 Q71.7486 989.681 76.1091 989.681 Q81.0744 989.681 83.9708 993.628 Q86.8672 997.542 86.8672 1004.42 Q86.8672 1007.28 86.2943 1010.4 Q85.7532 1013.49 84.6392 1016.93 L78.5918 1016.93 Q80.2787 1013.68 81.138 1010.53 Q81.9656 1007.38 81.9656 1004.29 Q81.9656 1000.15 80.5651 997.924 Q79.1329 995.696 76.5547 995.696 Q74.1676 995.696 72.8945 997.32 Q71.6213 998.911 70.4437 1004.35 L69.9662 1006.39 Q68.8204 1011.83 66.4651 1014.25 Q64.078 1016.67 59.9402 1016.67 Q54.9113 1016.67 52.1741 1013.11 Q49.4368 1009.54 49.4368 1002.99 Q49.4368 999.739 49.9143 996.874 Q50.3917 994.009 51.3465 991.591 Z\" fill=\"#000000\" fill-rule=\"evenodd\" fill-opacity=\"1\" /><polyline clip-path=\"url(#clip0302)\" style=\"stroke:#009af9; stroke-width:4; stroke-opacity:1; fill:none\" points=\"\n",
       "  3069.65,1193.93 3032.6,1318.33 2998.91,1883.76 2964.1,2143.85 2930.41,1222.2 2896.73,1046.92 2865.29,1063.88 2830.48,1148.7 2794.55,1063.88 2759.74,1001.69 \n",
       "  2724.93,1080.85 2693.49,1018.65 2656.43,775.516 2621.62,617.196 2590.18,662.43 2553.13,735.936 2519.44,447.568 2484.63,741.59 2453.19,560.653 2420.63,521.073 \n",
       "  2385.82,396.679 2349.88,487.148 2315.08,374.062 2284.76,391.025 2246.58,504.11 2212.89,532.382 2178.08,515.419 2143.27,634.159 2110.71,458.876 2074.78,323.173 \n",
       "  2043.34,634.159 2010.77,475.839 1973.72,323.173 1940.03,317.519 1906.35,289.248 1871.54,311.865 1836.73,577.616 1804.16,464.53 1768.23,673.739 1733.42,758.553 \n",
       "  1701.98,368.408 1664.93,634.159 1633.49,526.728 1600.92,696.356 1563.87,741.59 1530.18,707.665 1497.62,888.602 1461.69,967.762 1426.88,905.565 1392.07,849.022 \n",
       "  1358.38,916.873 1324.69,916.873 1289.88,979.071 1255.08,956.453 1222.51,1103.46 1191.07,979.071 1152.89,798.133 1120.33,1007.34 1084.4,843.368 1050.71,803.788 \n",
       "  1018.15,718.973 981.092,560.653 947.406,775.516 912.597,967.762 878.91,871.639 845.224,792.479 813.783,639.813 778.974,487.148 743.041,594.579 711.601,560.653 \n",
       "  674.546,611.542 641.982,413.642 606.05,407.988 571.241,713.319 538.677,713.319 502.745,605.888 469.058,809.442 436.495,741.59 405.054,741.59 369.122,481.493 \n",
       "  334.313,504.11 299.503,690.702 \n",
       "  \"/>\n",
       "<polyline clip-path=\"url(#clip0302)\" style=\"stroke:#e26f46; stroke-width:4; stroke-opacity:1; fill:none\" points=\"\n",
       "  3069.65,1753.71 3032.6,1544.5 2998.91,1770.67 2964.1,1165.66 2930.41,1131.74 2896.73,1216.55 2865.29,1250.48 2830.48,673.739 2794.55,628.505 2759.74,605.888 \n",
       "  2724.93,571.962 2693.49,532.382 2656.43,662.43 2621.62,639.813 2590.18,713.319 2553.13,492.802 2519.44,458.876 2484.63,430.605 2453.19,447.568 2420.63,413.642 \n",
       "  2385.82,464.53 2349.88,481.493 2315.08,481.493 2284.76,515.419 2246.58,521.073 2212.89,571.962 2178.08,543.69 2143.27,385.37 2110.71,464.53 2074.78,538.036 \n",
       "  2043.34,323.173 2010.77,227.05 1973.72,108.31 1940.03,391.025 1906.35,543.69 1871.54,605.888 \n",
       "  \"/>\n",
       "<polyline clip-path=\"url(#clip0302)\" style=\"stroke:#3da44d; stroke-width:4; stroke-opacity:1; fill:none\" points=\"\n",
       "  3069.65,1318.33 3032.6,1883.76 2998.91,2143.85 2964.1,1222.2 2930.41,1046.92 2896.73,1063.88 2865.29,1143.04 2830.48,1063.88 2794.55,1001.69 2759.74,1080.85 \n",
       "  2724.93,1018.65 2693.49,775.516 2656.43,617.196 2621.62,662.43 2590.18,735.936 2553.13,447.568 2519.44,741.59 2484.63,560.653 2453.19,532.382 2420.63,396.679 \n",
       "  2385.82,487.148 2349.88,374.062 2315.08,391.025 2284.76,504.11 2246.58,532.382 2212.89,515.419 2178.08,634.159 2143.27,458.876 2110.71,323.173 2074.78,634.159 \n",
       "  2043.34,413.642 2010.77,323.173 1973.72,317.519 1940.03,289.248 1906.35,311.865 1871.54,577.616 1836.73,464.53 1804.16,673.739 1768.23,758.553 1733.42,368.408 \n",
       "  1701.98,634.159 1664.93,526.728 1633.49,696.356 1600.92,741.59 1563.87,707.665 1530.18,888.602 1497.62,967.762 1461.69,905.565 1426.88,849.022 1392.07,916.873 \n",
       "  1358.38,916.873 1324.69,979.071 1289.88,956.453 1255.08,1103.46 1222.51,979.071 1191.07,798.133 1152.89,1007.34 1120.33,843.368 1084.4,803.788 1050.71,718.973 \n",
       "  1018.15,560.653 981.092,775.516 947.406,967.762 912.597,871.639 878.91,792.479 845.224,639.813 813.783,487.148 778.974,594.579 743.041,560.653 711.601,611.542 \n",
       "  674.546,413.642 641.982,407.988 606.05,713.319 571.241,713.319 538.677,605.888 502.745,809.442 469.058,741.59 436.495,741.59 405.054,481.493 369.122,504.11 \n",
       "  334.313,690.702 \n",
       "  \"/>\n",
       "<path clip-path=\"url(#clip0300)\" d=\"\n",
       "M312.399 420.684 L810.592 420.684 L810.592 178.764 L312.399 178.764  Z\n",
       "  \" fill=\"#ffffff\" fill-rule=\"evenodd\" fill-opacity=\"1\"/>\n",
       "<polyline clip-path=\"url(#clip0300)\" style=\"stroke:#000000; stroke-width:4; stroke-opacity:1; fill:none\" points=\"\n",
       "  312.399,420.684 810.592,420.684 810.592,178.764 312.399,178.764 312.399,420.684 \n",
       "  \"/>\n",
       "<polyline clip-path=\"url(#clip0300)\" style=\"stroke:#009af9; stroke-width:4; stroke-opacity:1; fill:none\" points=\"\n",
       "  344.399,239.244 536.399,239.244 \n",
       "  \"/>\n",
       "<path clip-path=\"url(#clip0300)\" d=\"M 0 0 M581.802 243.492 Q576.64 243.492 574.649 244.672 Q572.658 245.853 572.658 248.7 Q572.658 250.969 574.14 252.311 Q575.644 253.631 578.214 253.631 Q581.755 253.631 583.885 251.131 Q586.038 248.607 586.038 244.441 L586.038 243.492 L581.802 243.492 M590.297 241.733 L590.297 256.524 L586.038 256.524 L586.038 252.589 Q584.579 254.95 582.404 256.084 Q580.228 257.195 577.079 257.195 Q573.098 257.195 570.737 254.973 Q568.399 252.728 568.399 248.978 Q568.399 244.603 571.316 242.381 Q574.255 240.158 580.066 240.158 L586.038 240.158 L586.038 239.742 Q586.038 236.802 584.093 235.205 Q582.172 233.584 578.677 233.584 Q576.454 233.584 574.348 234.117 Q572.242 234.649 570.297 235.714 L570.297 231.779 Q572.635 230.876 574.834 230.436 Q577.033 229.973 579.116 229.973 Q584.741 229.973 587.519 232.89 Q590.297 235.807 590.297 241.733 Z\" fill=\"#000000\" fill-rule=\"evenodd\" fill-opacity=\"1\" /><path clip-path=\"url(#clip0300)\" d=\"M 0 0 M613.422 231.594 L613.422 235.575 Q611.616 234.58 609.788 234.094 Q607.982 233.584 606.13 233.584 Q601.987 233.584 599.695 236.223 Q597.403 238.839 597.403 243.584 Q597.403 248.33 599.695 250.969 Q601.987 253.584 606.13 253.584 Q607.982 253.584 609.788 253.098 Q611.616 252.589 613.422 251.594 L613.422 255.529 Q611.639 256.362 609.718 256.779 Q607.82 257.195 605.667 257.195 Q599.811 257.195 596.362 253.515 Q592.913 249.834 592.913 243.584 Q592.913 237.242 596.385 233.608 Q599.88 229.973 605.945 229.973 Q607.913 229.973 609.788 230.39 Q611.663 230.783 613.422 231.594 Z\" fill=\"#000000\" fill-rule=\"evenodd\" fill-opacity=\"1\" /><path clip-path=\"url(#clip0300)\" d=\"M 0 0 M622.102 223.237 L622.102 230.598 L630.875 230.598 L630.875 233.908 L622.102 233.908 L622.102 247.982 Q622.102 251.154 622.959 252.057 Q623.838 252.959 626.5 252.959 L630.875 252.959 L630.875 256.524 L626.5 256.524 Q621.57 256.524 619.695 254.695 Q617.82 252.844 617.82 247.982 L617.82 233.908 L614.695 233.908 L614.695 230.598 L617.82 230.598 L617.82 223.237 L622.102 223.237 Z\" fill=\"#000000\" fill-rule=\"evenodd\" fill-opacity=\"1\" /><path clip-path=\"url(#clip0300)\" d=\"M 0 0 M634.903 246.293 L634.903 230.598 L639.162 230.598 L639.162 246.131 Q639.162 249.811 640.598 251.663 Q642.033 253.492 644.903 253.492 Q648.352 253.492 650.343 251.293 Q652.357 249.094 652.357 245.297 L652.357 230.598 L656.616 230.598 L656.616 256.524 L652.357 256.524 L652.357 252.543 Q650.806 254.904 648.746 256.061 Q646.709 257.195 644 257.195 Q639.533 257.195 637.218 254.418 Q634.903 251.64 634.903 246.293 M645.621 229.973 L645.621 229.973 Z\" fill=\"#000000\" fill-rule=\"evenodd\" fill-opacity=\"1\" /><path clip-path=\"url(#clip0300)\" d=\"M 0 0 M672.866 243.492 Q667.704 243.492 665.713 244.672 Q663.723 245.853 663.723 248.7 Q663.723 250.969 665.204 252.311 Q666.709 253.631 669.278 253.631 Q672.82 253.631 674.949 251.131 Q677.102 248.607 677.102 244.441 L677.102 243.492 L672.866 243.492 M681.361 241.733 L681.361 256.524 L677.102 256.524 L677.102 252.589 Q675.644 254.95 673.468 256.084 Q671.292 257.195 668.144 257.195 Q664.162 257.195 661.801 254.973 Q659.463 252.728 659.463 248.978 Q659.463 244.603 662.38 242.381 Q665.32 240.158 671.13 240.158 L677.102 240.158 L677.102 239.742 Q677.102 236.802 675.158 235.205 Q673.236 233.584 669.741 233.584 Q667.519 233.584 665.412 234.117 Q663.306 234.649 661.361 235.714 L661.361 231.779 Q663.699 230.876 665.898 230.436 Q668.097 229.973 670.181 229.973 Q675.806 229.973 678.584 232.89 Q681.361 235.807 681.361 241.733 Z\" fill=\"#000000\" fill-rule=\"evenodd\" fill-opacity=\"1\" /><path clip-path=\"url(#clip0300)\" d=\"M 0 0 M685.829 220.506 L690.088 220.506 L690.088 256.524 L685.829 256.524 L685.829 220.506 Z\" fill=\"#000000\" fill-rule=\"evenodd\" fill-opacity=\"1\" /><path clip-path=\"url(#clip0300)\" d=\"M 0 0 M711.083 231.362 L711.083 235.39 Q709.278 234.464 707.333 234.001 Q705.389 233.538 703.306 233.538 Q700.134 233.538 698.537 234.51 Q696.963 235.483 696.963 237.427 Q696.963 238.908 698.097 239.765 Q699.232 240.598 702.657 241.362 L704.116 241.686 Q708.653 242.658 710.551 244.441 Q712.472 246.2 712.472 249.371 Q712.472 252.982 709.602 255.089 Q706.755 257.195 701.755 257.195 Q699.671 257.195 697.403 256.779 Q695.158 256.385 692.658 255.575 L692.658 251.177 Q695.019 252.404 697.31 253.029 Q699.602 253.631 701.847 253.631 Q704.857 253.631 706.477 252.612 Q708.097 251.57 708.097 249.695 Q708.097 247.959 706.917 247.033 Q705.759 246.107 701.801 245.251 L700.32 244.904 Q696.361 244.07 694.602 242.358 Q692.843 240.621 692.843 237.612 Q692.843 233.955 695.435 231.964 Q698.028 229.973 702.796 229.973 Q705.157 229.973 707.241 230.321 Q709.324 230.668 711.083 231.362 Z\" fill=\"#000000\" fill-rule=\"evenodd\" fill-opacity=\"1\" /><polyline clip-path=\"url(#clip0300)\" style=\"stroke:#e26f46; stroke-width:4; stroke-opacity:1; fill:none\" points=\"\n",
       "  344.399,299.724 536.399,299.724 \n",
       "  \"/>\n",
       "<path clip-path=\"url(#clip0300)\" d=\"M 0 0 M584.903 280.986 L584.903 284.527 L580.829 284.527 Q578.538 284.527 577.635 285.453 Q576.755 286.379 576.755 288.787 L576.755 291.078 L583.769 291.078 L583.769 294.388 L576.755 294.388 L576.755 317.004 L572.473 317.004 L572.473 294.388 L568.399 294.388 L568.399 291.078 L572.473 291.078 L572.473 289.273 Q572.473 284.944 574.487 282.976 Q576.501 280.986 580.876 280.986 L584.903 280.986 Z\" fill=\"#000000\" fill-rule=\"evenodd\" fill-opacity=\"1\" /><path clip-path=\"url(#clip0300)\" d=\"M 0 0 M599.417 294.064 Q595.991 294.064 594.001 296.75 Q592.01 299.412 592.01 304.064 Q592.01 308.717 593.978 311.402 Q595.968 314.064 599.417 314.064 Q602.82 314.064 604.811 311.379 Q606.802 308.694 606.802 304.064 Q606.802 299.458 604.811 296.773 Q602.82 294.064 599.417 294.064 M599.417 290.453 Q604.973 290.453 608.144 294.064 Q611.315 297.675 611.315 304.064 Q611.315 310.43 608.144 314.064 Q604.973 317.675 599.417 317.675 Q593.839 317.675 590.667 314.064 Q587.519 310.43 587.519 304.064 Q587.519 297.675 590.667 294.064 Q593.839 290.453 599.417 290.453 Z\" fill=\"#000000\" fill-rule=\"evenodd\" fill-opacity=\"1\" /><path clip-path=\"url(#clip0300)\" d=\"M 0 0 M630.806 295.06 Q630.088 294.643 629.232 294.458 Q628.399 294.25 627.38 294.25 Q623.769 294.25 621.825 296.611 Q619.903 298.949 619.903 303.347 L619.903 317.004 L615.621 317.004 L615.621 291.078 L619.903 291.078 L619.903 295.106 Q621.246 292.745 623.399 291.611 Q625.551 290.453 628.63 290.453 Q629.07 290.453 629.602 290.523 Q630.135 290.569 630.783 290.685 L630.806 295.06 Z\" fill=\"#000000\" fill-rule=\"evenodd\" fill-opacity=\"1\" /><path clip-path=\"url(#clip0300)\" d=\"M 0 0 M652.889 292.074 L652.889 296.055 Q651.084 295.06 649.255 294.574 Q647.449 294.064 645.598 294.064 Q641.454 294.064 639.162 296.703 Q636.871 299.319 636.871 304.064 Q636.871 308.81 639.162 311.449 Q641.454 314.064 645.598 314.064 Q647.449 314.064 649.255 313.578 Q651.084 313.069 652.889 312.074 L652.889 316.009 Q651.107 316.842 649.186 317.259 Q647.287 317.675 645.135 317.675 Q639.278 317.675 635.829 313.995 Q632.38 310.314 632.38 304.064 Q632.38 297.722 635.852 294.088 Q639.348 290.453 645.412 290.453 Q647.38 290.453 649.255 290.87 Q651.13 291.263 652.889 292.074 Z\" fill=\"#000000\" fill-rule=\"evenodd\" fill-opacity=\"1\" /><path clip-path=\"url(#clip0300)\" d=\"M 0 0 M669.139 303.972 Q663.977 303.972 661.986 305.152 Q659.996 306.333 659.996 309.18 Q659.996 311.449 661.477 312.791 Q662.982 314.111 665.551 314.111 Q669.093 314.111 671.222 311.611 Q673.375 309.087 673.375 304.921 L673.375 303.972 L669.139 303.972 M677.634 302.213 L677.634 317.004 L673.375 317.004 L673.375 313.069 Q671.917 315.43 669.741 316.564 Q667.565 317.675 664.417 317.675 Q660.435 317.675 658.074 315.453 Q655.736 313.208 655.736 309.458 Q655.736 305.083 658.653 302.861 Q661.593 300.638 667.403 300.638 L673.375 300.638 L673.375 300.222 Q673.375 297.282 671.431 295.685 Q669.51 294.064 666.014 294.064 Q663.792 294.064 661.685 294.597 Q659.579 295.129 657.635 296.194 L657.635 292.259 Q659.973 291.356 662.172 290.916 Q664.371 290.453 666.454 290.453 Q672.079 290.453 674.857 293.37 Q677.634 296.287 677.634 302.213 Z\" fill=\"#000000\" fill-rule=\"evenodd\" fill-opacity=\"1\" /><path clip-path=\"url(#clip0300)\" d=\"M 0 0 M698.63 291.842 L698.63 295.87 Q696.824 294.944 694.88 294.481 Q692.935 294.018 690.852 294.018 Q687.681 294.018 686.084 294.99 Q684.509 295.963 684.509 297.907 Q684.509 299.388 685.644 300.245 Q686.778 301.078 690.204 301.842 L691.662 302.166 Q696.199 303.138 698.097 304.921 Q700.019 306.68 700.019 309.851 Q700.019 313.462 697.148 315.569 Q694.301 317.675 689.301 317.675 Q687.218 317.675 684.949 317.259 Q682.704 316.865 680.204 316.055 L680.204 311.657 Q682.565 312.884 684.857 313.509 Q687.148 314.111 689.394 314.111 Q692.403 314.111 694.023 313.092 Q695.644 312.05 695.644 310.175 Q695.644 308.439 694.463 307.513 Q693.306 306.587 689.347 305.731 L687.866 305.384 Q683.908 304.55 682.148 302.838 Q680.389 301.101 680.389 298.092 Q680.389 294.435 682.982 292.444 Q685.574 290.453 690.343 290.453 Q692.704 290.453 694.787 290.801 Q696.87 291.148 698.63 291.842 Z\" fill=\"#000000\" fill-rule=\"evenodd\" fill-opacity=\"1\" /><path clip-path=\"url(#clip0300)\" d=\"M 0 0 M708.699 283.717 L708.699 291.078 L717.472 291.078 L717.472 294.388 L708.699 294.388 L708.699 308.462 Q708.699 311.634 709.556 312.537 Q710.435 313.439 713.097 313.439 L717.472 313.439 L717.472 317.004 L713.097 317.004 Q708.167 317.004 706.292 315.175 Q704.417 313.324 704.417 308.462 L704.417 294.388 L701.292 294.388 L701.292 291.078 L704.417 291.078 L704.417 283.717 L708.699 283.717 Z\" fill=\"#000000\" fill-rule=\"evenodd\" fill-opacity=\"1\" /><polyline clip-path=\"url(#clip0300)\" style=\"stroke:#3da44d; stroke-width:4; stroke-opacity:1; fill:none\" points=\"\n",
       "  344.399,360.204 536.399,360.204 \n",
       "  \"/>\n",
       "<path clip-path=\"url(#clip0300)\" d=\"M 0 0 M572.681 373.595 L572.681 387.345 L568.399 387.345 L568.399 351.558 L572.681 351.558 L572.681 355.493 Q574.024 353.179 576.061 352.068 Q578.121 350.933 580.968 350.933 Q585.691 350.933 588.63 354.683 Q591.593 358.433 591.593 364.544 Q591.593 370.655 588.63 374.405 Q585.691 378.155 580.968 378.155 Q578.121 378.155 576.061 377.044 Q574.024 375.91 572.681 373.595 M587.172 364.544 Q587.172 359.845 585.228 357.183 Q583.306 354.498 579.927 354.498 Q576.547 354.498 574.603 357.183 Q572.681 359.845 572.681 364.544 Q572.681 369.243 574.603 371.929 Q576.547 374.591 579.927 374.591 Q583.306 374.591 585.228 371.929 Q587.172 369.243 587.172 364.544 Z\" fill=\"#000000\" fill-rule=\"evenodd\" fill-opacity=\"1\" /><path clip-path=\"url(#clip0300)\" d=\"M 0 0 M611.084 355.54 Q610.366 355.123 609.51 354.938 Q608.677 354.73 607.658 354.73 Q604.047 354.73 602.102 357.091 Q600.181 359.429 600.181 363.827 L600.181 377.484 L595.899 377.484 L595.899 351.558 L600.181 351.558 L600.181 355.586 Q601.524 353.225 603.677 352.091 Q605.829 350.933 608.908 350.933 Q609.348 350.933 609.88 351.003 Q610.413 351.049 611.061 351.165 L611.084 355.54 Z\" fill=\"#000000\" fill-rule=\"evenodd\" fill-opacity=\"1\" /><path clip-path=\"url(#clip0300)\" d=\"M 0 0 M636.686 363.456 L636.686 365.54 L617.102 365.54 Q617.38 369.938 619.741 372.253 Q622.126 374.544 626.362 374.544 Q628.815 374.544 631.107 373.942 Q633.422 373.341 635.69 372.137 L635.69 376.165 Q633.399 377.137 630.991 377.646 Q628.584 378.155 626.107 378.155 Q619.903 378.155 616.269 374.544 Q612.658 370.933 612.658 364.776 Q612.658 358.41 616.084 354.683 Q619.533 350.933 625.366 350.933 Q630.598 350.933 633.63 354.313 Q636.686 357.669 636.686 363.456 M632.426 362.206 Q632.38 358.711 630.459 356.628 Q628.561 354.544 625.413 354.544 Q621.848 354.544 619.695 356.558 Q617.565 358.572 617.241 362.23 L632.426 362.206 Z\" fill=\"#000000\" fill-rule=\"evenodd\" fill-opacity=\"1\" /><path clip-path=\"url(#clip0300)\" d=\"M 0 0 M638.098 351.558 L642.612 351.558 L650.713 373.317 L658.815 351.558 L663.329 351.558 L653.607 377.484 L647.82 377.484 L638.098 351.558 Z\" fill=\"#000000\" fill-rule=\"evenodd\" fill-opacity=\"1\" /><path clip-path=\"url(#clip0300)\" d=\"M 0 0 M667.797 351.558 L672.056 351.558 L672.056 377.484 L667.797 377.484 L667.797 351.558 M667.797 341.466 L672.056 341.466 L672.056 346.859 L667.797 346.859 L667.797 341.466 Z\" fill=\"#000000\" fill-rule=\"evenodd\" fill-opacity=\"1\" /><path clip-path=\"url(#clip0300)\" d=\"M 0 0 M686.57 354.544 Q683.144 354.544 681.153 357.23 Q679.162 359.892 679.162 364.544 Q679.162 369.197 681.13 371.882 Q683.121 374.544 686.57 374.544 Q689.972 374.544 691.963 371.859 Q693.954 369.174 693.954 364.544 Q693.954 359.938 691.963 357.253 Q689.972 354.544 686.57 354.544 M686.57 350.933 Q692.125 350.933 695.296 354.544 Q698.468 358.155 698.468 364.544 Q698.468 370.91 695.296 374.544 Q692.125 378.155 686.57 378.155 Q680.991 378.155 677.82 374.544 Q674.672 370.91 674.672 364.544 Q674.672 358.155 677.82 354.544 Q680.991 350.933 686.57 350.933 Z\" fill=\"#000000\" fill-rule=\"evenodd\" fill-opacity=\"1\" /><path clip-path=\"url(#clip0300)\" d=\"M 0 0 M702.495 367.253 L702.495 351.558 L706.755 351.558 L706.755 367.091 Q706.755 370.771 708.19 372.623 Q709.625 374.452 712.495 374.452 Q715.944 374.452 717.935 372.253 Q719.949 370.054 719.949 366.257 L719.949 351.558 L724.208 351.558 L724.208 377.484 L719.949 377.484 L719.949 373.503 Q718.398 375.864 716.338 377.021 Q714.301 378.155 711.593 378.155 Q707.125 378.155 704.81 375.378 Q702.495 372.6 702.495 367.253 M713.213 350.933 L713.213 350.933 Z\" fill=\"#000000\" fill-rule=\"evenodd\" fill-opacity=\"1\" /><path clip-path=\"url(#clip0300)\" d=\"M 0 0 M745.204 352.322 L745.204 356.35 Q743.398 355.424 741.454 354.961 Q739.509 354.498 737.426 354.498 Q734.255 354.498 732.657 355.47 Q731.083 356.443 731.083 358.387 Q731.083 359.868 732.218 360.725 Q733.352 361.558 736.778 362.322 L738.236 362.646 Q742.773 363.618 744.671 365.401 Q746.592 367.16 746.592 370.331 Q746.592 373.942 743.722 376.049 Q740.875 378.155 735.875 378.155 Q733.792 378.155 731.523 377.739 Q729.278 377.345 726.778 376.535 L726.778 372.137 Q729.139 373.364 731.43 373.989 Q733.722 374.591 735.967 374.591 Q738.977 374.591 740.597 373.572 Q742.217 372.53 742.217 370.655 Q742.217 368.919 741.037 367.993 Q739.88 367.067 735.921 366.211 L734.44 365.864 Q730.481 365.03 728.722 363.318 Q726.963 361.581 726.963 358.572 Q726.963 354.915 729.555 352.924 Q732.148 350.933 736.917 350.933 Q739.278 350.933 741.361 351.281 Q743.444 351.628 745.204 352.322 Z\" fill=\"#000000\" fill-rule=\"evenodd\" fill-opacity=\"1\" /></svg>\n"
      ]
     },
     "execution_count": 41,
     "metadata": {},
     "output_type": "execute_result"
    }
   ],
   "source": [
    "df = df_ISM_Mfc_Emp\n",
    "periods = df[:,1] # all rows, first column\n",
    "println(periods[begin], \" to \", periods[end])\n",
    "gr()\n",
    "plot(periods, \n",
    "    [df[:,2]  df[:,3] df[:,4] ], \n",
    "    label    = [\"actuals\" \"forcast\" \"previous\"],\n",
    "    legend    =:topleft, # :right, :left, :top, :bottom, :inside, :best, :legend, :topright, :topleft, :bottomleft, :bottomright\n",
    "    xlabel   = \"time\",\n",
    "    ylabel   = \"indicators\",\n",
    "    size     = (800, 600), # width, height\n",
    "    layout = (1, 1) # number of seperate plots VERTICALLY, HORIZONTALLY\n",
    "    )"
   ]
  },
  {
   "cell_type": "markdown",
   "metadata": {},
   "source": [
    "# Extract Data"
   ]
  },
  {
   "cell_type": "code",
   "execution_count": null,
   "metadata": {},
   "outputs": [],
   "source": [
    "# rotate the matrix (switch columns to rows) - does not work on DataFrame)\n",
    "# data = data' "
   ]
  },
  {
   "cell_type": "markdown",
   "metadata": {},
   "source": [
    "## Extract Independent Variables (i.e. features)"
   ]
  },
  {
   "cell_type": "code",
   "execution_count": null,
   "metadata": {},
   "outputs": [],
   "source": [
    "x = rawdata[1:13,:]     # independent variables: all rows before last"
   ]
  },
  {
   "cell_type": "markdown",
   "metadata": {},
   "source": [
    "## Extract Dependent Variable (i.e. price)"
   ]
  },
  {
   "cell_type": "code",
   "execution_count": null,
   "metadata": {},
   "outputs": [],
   "source": [
    "y = rawdata[14:14,:]          # Dependent Variable (price) last ROW"
   ]
  },
  {
   "cell_type": "markdown",
   "metadata": {},
   "source": [
    "# Normalize the data"
   ]
  },
  {
   "cell_type": "markdown",
   "metadata": {},
   "source": [
    "## Show mean() values \n",
    "\n",
    "Calculate mean values for each feature in the 2-dimentional matrix."
   ]
  },
  {
   "cell_type": "code",
   "execution_count": null,
   "metadata": {},
   "outputs": [],
   "source": [
    "mean(x, dims = 2)"
   ]
  },
  {
   "cell_type": "markdown",
   "metadata": {},
   "source": [
    "## Show std() values \n",
    "\n",
    "Calculate sample standard deviation (STD).\n",
    "\n",
    "- https://docs.julialang.org/en/v1/stdlib/Statistics/"
   ]
  },
  {
   "cell_type": "code",
   "execution_count": null,
   "metadata": {},
   "outputs": [],
   "source": [
    "std(x, dims = 2) "
   ]
  },
  {
   "cell_type": "markdown",
   "metadata": {},
   "source": [
    "## Normalize the independent variables"
   ]
  },
  {
   "cell_type": "code",
   "execution_count": null,
   "metadata": {},
   "outputs": [],
   "source": [
    "x = (x .- mean(x, dims = 2)) ./ std(x, dims = 2) # math on 13× Arrays"
   ]
  },
  {
   "cell_type": "code",
   "execution_count": null,
   "metadata": {},
   "outputs": [],
   "source": [
    "records = size(x,2) # number of columns"
   ]
  },
  {
   "cell_type": "code",
   "execution_count": null,
   "metadata": {},
   "outputs": [],
   "source": [
    "args = Hyperparams()"
   ]
  },
  {
   "cell_type": "code",
   "execution_count": null,
   "metadata": {},
   "outputs": [],
   "source": [
    "split_ratio = args.split_ratio\n",
    "\n",
    "split_index = floor(Int, records * split_ratio)"
   ]
  },
  {
   "cell_type": "code",
   "execution_count": null,
   "metadata": {},
   "outputs": [],
   "source": [
    "x_train = x[:,1:split_index]           # training features\n",
    "y_train = y[:,1:split_index]           # training results\n",
    "x_test = x[:,split_index+1:records]  # testing features\n",
    "y_test = y[:,split_index+1:records]  # testing results"
   ]
  },
  {
   "cell_type": "code",
   "execution_count": null,
   "metadata": {},
   "outputs": [],
   "source": [
    "train_data = (x_train, y_train) # tuples\n",
    "test_data = (x_test, y_test)\n",
    "size(test_data[1])"
   ]
  },
  {
   "cell_type": "code",
   "execution_count": null,
   "metadata": {},
   "outputs": [],
   "source": [
    "function get_processed_data(args) # expects struct Hyperparams\n",
    "\n",
    "    isfile(\"housing.data\") ||\n",
    "        download(\n",
    "            \"https://raw.githubusercontent.com/MikeInnes/notebooks/master/housing.data\",\n",
    "            \"housing.data\")\n",
    "\n",
    "    rawdata = readdlm(\"housing.data\")'\n",
    "\n",
    "    # The last feature is our target -- the price of the house.\n",
    "    split_ratio = args.split_ratio # For the train/test split\n",
    "\n",
    "    x = rawdata[1:13,:]\n",
    "    y = rawdata[14:14,:]\n",
    "\n",
    "    # Normalise the data\n",
    "    x = (x .- mean(x, dims = 2)) ./ std(x, dims = 2)\n",
    "\n",
    "    # Split into train and test sets\n",
    "    split_index = floor(Int,size(x,2)*split_ratio)\n",
    "    x_train = x[:,1:split_index]\n",
    "    y_train = y[:,1:split_index]\n",
    "    x_test = x[:,split_index+1:size(x,2)]\n",
    "    y_test = y[:,split_index+1:size(x,2)]\n",
    "\n",
    "    train_data = (x_train, y_train)\n",
    "    test_data = (x_test, y_test)\n",
    "\n",
    "    return train_data,test_data\n",
    "end"
   ]
  },
  {
   "cell_type": "code",
   "execution_count": null,
   "metadata": {},
   "outputs": [],
   "source": [
    "# Struct to define model\n",
    "mutable struct model\n",
    "    W::AbstractArray\n",
    "    b::AbstractVector\n",
    "end"
   ]
  },
  {
   "cell_type": "code",
   "execution_count": null,
   "metadata": {},
   "outputs": [],
   "source": [
    "# Function to predict output from given parameters\n",
    "\n",
    "predict(x, m) = m.W*x .+ m.b"
   ]
  },
  {
   "cell_type": "markdown",
   "metadata": {},
   "source": [
    "# Mean Squared Error (MSE)\n",
    "\n",
    "<center><span style=\"font-size:x-large;\" >$ MSE = \\sum \\limits _{i=1} ^{n} {   \\frac{(ŷ_i - y)^2}{n} }$</span></center>"
   ]
  },
  {
   "cell_type": "code",
   "execution_count": null,
   "metadata": {},
   "outputs": [],
   "source": [
    "n = size(y, 2) # e.g. 505 columns\n",
    "\n",
    "# Mean Squared Error\n",
    "meansquarederror(ŷ, y) = sum((ŷ .- y).^2)/n"
   ]
  },
  {
   "cell_type": "code",
   "execution_count": null,
   "metadata": {},
   "outputs": [],
   "source": [
    "function train(; kws...)\n",
    "    # Initialize the Hyperparamters\n",
    "    args = Hyperparams(; kws...)\n",
    "    \n",
    "    # Load the data\n",
    "    (x_train,y_train),(x_test,y_test) = get_processed_data(args)\n",
    "    \n",
    "    test_data = (x_test,y_test)\n",
    "    \n",
    "    # The model\n",
    "    m = model((randn(1,13)),[0.])\n",
    "    \n",
    "    loss(x, y) = meansquarederror(predict(x, m), y)\n",
    "\n",
    "    ## Training\n",
    "    η = args.learning_rate\n",
    "    θ = params([m.W, m.b])\n",
    "\n",
    "    for i = 1:1000\n",
    "      g = gradient(() -> loss(x_train, y_train), θ)\n",
    "      for x in θ\n",
    "        update!(x, -g[x]*η)\n",
    "      end\n",
    "      if i%100==0\n",
    "          @show loss(x_train, y_train)\n",
    "        end\n",
    "    end\n",
    "    \n",
    "    # Predict the RMSE on the test set\n",
    "    err = meansquarederror(predict(x_test, m),y_test)\n",
    "    println(\"error: \", err)\n",
    "    return m , test_data# model\n",
    "end"
   ]
  },
  {
   "cell_type": "code",
   "execution_count": null,
   "metadata": {},
   "outputs": [],
   "source": [
    "cd(@__DIR__)\n",
    "resulting_model, test_data = train()\n",
    "resulting_model.W"
   ]
  },
  {
   "cell_type": "code",
   "execution_count": null,
   "metadata": {},
   "outputs": [],
   "source": [
    "resulting_model.b"
   ]
  },
  {
   "cell_type": "code",
   "execution_count": null,
   "metadata": {},
   "outputs": [],
   "source": [
    "function test(model, test)\n",
    "    # Testing model performance on test data \n",
    "    X_test, y_test = test\n",
    "    #accuracy_score = accuracy(X_test, y_test, model)\n",
    "\n",
    "    #println(\"\\nAccuracy: $accuracy_score\")\n",
    "\n",
    "    # Sanity check.\n",
    "    #@assert accuracy_score > 0.8\n",
    "\n",
    "    # To avoid confusion, here is the definition of a Confusion Matrix: https://en.wikipedia.org/wiki/Confusion_matrix\n",
    "    println(\"\\nConfusion Matrix:\\n\")\n",
    "    #display(confusion_matrix(X_test, y_test, model))\n",
    "end"
   ]
  },
  {
   "cell_type": "code",
   "execution_count": null,
   "metadata": {},
   "outputs": [],
   "source": [
    "test(model, test_data)\n",
    "features = test_data[1]"
   ]
  },
  {
   "cell_type": "code",
   "execution_count": null,
   "metadata": {},
   "outputs": [],
   "source": [
    "one_record = features[:,1]"
   ]
  },
  {
   "cell_type": "code",
   "execution_count": null,
   "metadata": {},
   "outputs": [],
   "source": [
    "results = test_data[1][1,:]"
   ]
  },
  {
   "cell_type": "code",
   "execution_count": null,
   "metadata": {},
   "outputs": [],
   "source": [
    "records = size(results)[1]"
   ]
  },
  {
   "cell_type": "code",
   "execution_count": null,
   "metadata": {},
   "outputs": [],
   "source": [
    "get_price(data, model) = model.W * data .+ model.b"
   ]
  },
  {
   "cell_type": "code",
   "execution_count": null,
   "metadata": {},
   "outputs": [],
   "source": [
    "get_price(one_record, resulting_model)"
   ]
  },
  {
   "cell_type": "code",
   "execution_count": null,
   "metadata": {},
   "outputs": [],
   "source": [
    "for i in 1:records # 455\n",
    "    record = features[:,i] # 13-element Array{Float64,1}:\n",
    "    result = get_price(record, resulting_model)\n",
    "    println(i, \" \", result, \" =? \", results[1])\n",
    "end"
   ]
  },
  {
   "cell_type": "code",
   "execution_count": null,
   "metadata": {},
   "outputs": [],
   "source": []
  },
  {
   "cell_type": "code",
   "execution_count": null,
   "metadata": {},
   "outputs": [],
   "source": []
  }
 ],
 "metadata": {
  "kernelspec": {
   "display_name": "Julia 1.4.2",
   "language": "julia",
   "name": "julia-1.4"
  },
  "language_info": {
   "file_extension": ".jl",
   "mimetype": "application/julia",
   "name": "julia",
   "version": "1.4.2"
  },
  "toc": {
   "base_numbering": 1,
   "nav_menu": {},
   "number_sections": true,
   "sideBar": true,
   "skip_h1_title": false,
   "title_cell": "Table of Contents",
   "title_sidebar": "Contents",
   "toc_cell": true,
   "toc_position": {},
   "toc_section_display": true,
   "toc_window_display": true
  }
 },
 "nbformat": 4,
 "nbformat_minor": 4
}
