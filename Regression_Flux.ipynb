{
 "cells": [
  {
   "cell_type": "markdown",
   "metadata": {},
   "source": [
    "# Market prediction using Flux.jl"
   ]
  },
  {
   "cell_type": "markdown",
   "metadata": {
    "toc": true
   },
   "source": [
    "<h1>Table of Contents<span class=\"tocSkip\"></span></h1>\n",
    "<div class=\"toc\"><ul class=\"toc-item\"><li><span><a href=\"#Market-prediction-using-Flux.jl\" data-toc-modified-id=\"Market-prediction-using-Flux.jl-1\"><span class=\"toc-item-num\">1&nbsp;&nbsp;</span>Market prediction using Flux.jl</a></span><ul class=\"toc-item\"><li><span><a href=\"#Libraries-used-in-this-notebook\" data-toc-modified-id=\"Libraries-used-in-this-notebook-1.1\"><span class=\"toc-item-num\">1.1&nbsp;&nbsp;</span>Libraries used in this notebook</a></span></li><li><span><a href=\"#Include-Market-indicators-functions\" data-toc-modified-id=\"Include-Market-indicators-functions-1.2\"><span class=\"toc-item-num\">1.2&nbsp;&nbsp;</span>Include Market indicators functions</a></span></li></ul></li><li><span><a href=\"#Define-Hyperparameters\" data-toc-modified-id=\"Define-Hyperparameters-2\"><span class=\"toc-item-num\">2&nbsp;&nbsp;</span>Define Hyperparameters</a></span></li><li><span><a href=\"#Load--Data\" data-toc-modified-id=\"Load--Data-3\"><span class=\"toc-item-num\">3&nbsp;&nbsp;</span>Load  Data</a></span><ul class=\"toc-item\"><li><span><a href=\"#ISM-Manufacturing-Employment\" data-toc-modified-id=\"ISM-Manufacturing-Employment-3.1\"><span class=\"toc-item-num\">3.1&nbsp;&nbsp;</span>ISM Manufacturing Employment</a></span></li><li><span><a href=\"#Markit---Manufacturing-PMI\" data-toc-modified-id=\"Markit---Manufacturing-PMI-3.2\"><span class=\"toc-item-num\">3.2&nbsp;&nbsp;</span>Markit - Manufacturing PMI</a></span></li></ul></li><li><span><a href=\"#Visualize-the-Data\" data-toc-modified-id=\"Visualize-the-Data-4\"><span class=\"toc-item-num\">4&nbsp;&nbsp;</span>Visualize the Data</a></span><ul class=\"toc-item\"><li><span><a href=\"#Plotting-Data\" data-toc-modified-id=\"Plotting-Data-4.1\"><span class=\"toc-item-num\">4.1&nbsp;&nbsp;</span>Plotting Data</a></span></li></ul></li><li><span><a href=\"#Shift-Employment-by-90-days-back\" data-toc-modified-id=\"Shift-Employment-by-90-days-back-5\"><span class=\"toc-item-num\">5&nbsp;&nbsp;</span>Shift Employment by 90 days back</a></span></li><li><span><a href=\"#Join-DataFrames\" data-toc-modified-id=\"Join-DataFrames-6\"><span class=\"toc-item-num\">6&nbsp;&nbsp;</span>Join DataFrames</a></span><ul class=\"toc-item\"><li><span><a href=\"#Rata-Die\" data-toc-modified-id=\"Rata-Die-6.1\"><span class=\"toc-item-num\">6.1&nbsp;&nbsp;</span>Rata Die</a></span></li></ul></li><li><span><a href=\"#Extract-Data\" data-toc-modified-id=\"Extract-Data-7\"><span class=\"toc-item-num\">7&nbsp;&nbsp;</span>Extract Data</a></span><ul class=\"toc-item\"><li><span><a href=\"#Extract-Independent-Variables-(i.e.-features)\" data-toc-modified-id=\"Extract-Independent-Variables-(i.e.-features)-7.1\"><span class=\"toc-item-num\">7.1&nbsp;&nbsp;</span>Extract Independent Variables (i.e. features)</a></span></li><li><span><a href=\"#Extract-Dependent-Variable-(i.e.-price)\" data-toc-modified-id=\"Extract-Dependent-Variable-(i.e.-price)-7.2\"><span class=\"toc-item-num\">7.2&nbsp;&nbsp;</span>Extract Dependent Variable (i.e. price)</a></span></li></ul></li><li><span><a href=\"#Normalize-the-data\" data-toc-modified-id=\"Normalize-the-data-8\"><span class=\"toc-item-num\">8&nbsp;&nbsp;</span>Normalize the data</a></span><ul class=\"toc-item\"><li><span><a href=\"#Show-mean()-values\" data-toc-modified-id=\"Show-mean()-values-8.1\"><span class=\"toc-item-num\">8.1&nbsp;&nbsp;</span>Show mean() values</a></span></li><li><span><a href=\"#Show-std()-values\" data-toc-modified-id=\"Show-std()-values-8.2\"><span class=\"toc-item-num\">8.2&nbsp;&nbsp;</span>Show std() values</a></span></li><li><span><a href=\"#Normalize-the-independent-variables\" data-toc-modified-id=\"Normalize-the-independent-variables-8.3\"><span class=\"toc-item-num\">8.3&nbsp;&nbsp;</span>Normalize the independent variables</a></span></li></ul></li><li><span><a href=\"#Mean-Squared-Error-(MSE)\" data-toc-modified-id=\"Mean-Squared-Error-(MSE)-9\"><span class=\"toc-item-num\">9&nbsp;&nbsp;</span>Mean Squared Error (MSE)</a></span></li></ul></div>"
   ]
  },
  {
   "cell_type": "markdown",
   "metadata": {},
   "source": [
    "## Libraries used in this notebook\n",
    "\n",
    "Uncomment the lines below if you are missing given libraries, or you want to update to the newest version.\n",
    "\n",
    "**Warning:** the updates and required pre-compiling will take a lot of time time."
   ]
  },
  {
   "cell_type": "code",
   "execution_count": 1,
   "metadata": {},
   "outputs": [],
   "source": [
    "# import Pkg; Pkg.add(\"Flux\")\n",
    "#using Flux\n",
    "\n",
    "# import Pkg; Pkg.add(\"DelimitedFiles\")\n",
    "#using DelimitedFiles\n",
    "\n",
    "# import Pkg; Pkg.add(\"Statistics\")\n",
    "#using Statistics\n",
    "\n",
    "# import Pkg; Pkg.add(\"Flux\")\n",
    "#using Flux.Optimise: update!\n",
    "\n",
    "# import Pkg; Pkg.add(\"Parameters\")\n",
    "#using Parameters #: @with_kw\n",
    "\n",
    "# import Pkg; Pkg.add(\"Plots\")\n",
    "using Plots\n",
    "\n",
    "# import Pkg; Pkg.add(\"DataFrames\")\n",
    "using DataFrames\n",
    "\n",
    "# import Pkg; Pkg.add(\"CSV\")\n",
    "using CSV\n",
    "\n",
    "# import Pkg; Pkg.add(\"Dates\")\n",
    "using Dates"
   ]
  },
  {
   "cell_type": "markdown",
   "metadata": {},
   "source": [
    "## Include Market indicators functions"
   ]
  },
  {
   "cell_type": "code",
   "execution_count": 75,
   "metadata": {},
   "outputs": [
    {
     "name": "stdout",
     "output_type": "stream",
     "text": [
      "Functions available:\n",
      "df = fetch_data(file_path, date_format=\"yyyy-mm-dd\" )\n",
      "df = shift_dates_by_days!(df, shift_days=-1, date_column=1)\n"
     ]
    },
    {
     "data": {
      "text/plain": [
       "insert_rata_die_column! (generic function with 1 method)"
      ]
     },
     "execution_count": 75,
     "metadata": {},
     "output_type": "execute_result"
    }
   ],
   "source": [
    "# include function that are used in this project\n",
    "include(\"MarketIndicators.jl\")"
   ]
  },
  {
   "cell_type": "code",
   "execution_count": 3,
   "metadata": {},
   "outputs": [
    {
     "name": "stdout",
     "output_type": "stream",
     "text": [
      "Last update: Sep. 3, 2020 11:09\n"
     ]
    }
   ],
   "source": [
    " println( \"Last update: \", Dates.format(Dates.now(), \"u. d, yyyy HH:mm\"))"
   ]
  },
  {
   "cell_type": "markdown",
   "metadata": {},
   "source": [
    "# Define Hyperparameters"
   ]
  },
  {
   "cell_type": "code",
   "execution_count": 4,
   "metadata": {},
   "outputs": [
    {
     "data": {
      "text/plain": [
       "\"data/united-states.markit-manufacturing-pmi.csv\""
      ]
     },
     "execution_count": 4,
     "metadata": {},
     "output_type": "execute_result"
    }
   ],
   "source": [
    "learning_rate = 0.1       # learning rate\n",
    "split_ratio = 0.1         # train/test split ratio 0.1 => 90/10\n",
    "\n",
    "file_ISM_Mfc_Emp = \"data/united-states.ism-manufacturing-employment.csv\"\n",
    "file_Markkit_Mfc_PMI = \"data/united-states.markit-manufacturing-pmi.csv\""
   ]
  },
  {
   "cell_type": "markdown",
   "metadata": {},
   "source": [
    "# Load  Data\n"
   ]
  },
  {
   "cell_type": "markdown",
   "metadata": {},
   "source": [
    "## ISM Manufacturing Employment"
   ]
  },
  {
   "cell_type": "code",
   "execution_count": 5,
   "metadata": {},
   "outputs": [
    {
     "name": "stderr",
     "output_type": "stream",
     "text": [
      "┌ Warning: `CSV.read(input; kw...)` is deprecated in favor of `using DataFrames; CSV.read(input, DataFrame; kw...)\n",
      "│   caller = ip:0x0\n",
      "└ @ Core :-1\n"
     ]
    },
    {
     "data": {
      "text/html": [
       "<table class=\"data-frame\"><thead><tr><th></th><th>Date</th><th>ActualValue</th><th>ForecastValue</th><th>PreviousValue</th></tr><tr><th></th><th>Date</th><th>Float64</th><th>Float64?</th><th>Float64?</th></tr></thead><tbody><p>82 rows × 4 columns</p><tr><th>1</th><td>2020-08-03</td><td>44.3</td><td>34.4</td><td>42.1</td></tr><tr><th>2</th><td>2020-07-01</td><td>42.1</td><td>38.1</td><td>32.1</td></tr><tr><th>3</th><td>2020-06-01</td><td>32.1</td><td>34.1</td><td>27.5</td></tr><tr><th>4</th><td>2020-05-01</td><td>27.5</td><td>44.8</td><td>43.8</td></tr><tr><th>5</th><td>2020-04-01</td><td>43.8</td><td>45.4</td><td>46.9</td></tr><tr><th>6</th><td>2020-03-02</td><td>46.9</td><td>43.9</td><td>46.6</td></tr><tr><th>7</th><td>2020-02-03</td><td>46.6</td><td>43.3</td><td>45.2</td></tr><tr><th>8</th><td>2020-01-03</td><td>45.1</td><td>53.5</td><td>46.6</td></tr><tr><th>9</th><td>2019-12-02</td><td>46.6</td><td>54.3</td><td>47.7</td></tr><tr><th>10</th><td>2019-11-01</td><td>47.7</td><td>54.7</td><td>46.3</td></tr><tr><th>11</th><td>2019-10-01</td><td>46.3</td><td>55.3</td><td>47.4</td></tr><tr><th>12</th><td>2019-09-03</td><td>47.4</td><td>56.0</td><td>51.7</td></tr><tr><th>13</th><td>2019-08-01</td><td>51.7</td><td>53.7</td><td>54.5</td></tr><tr><th>14</th><td>2019-07-01</td><td>54.5</td><td>54.1</td><td>53.7</td></tr><tr><th>15</th><td>2019-06-03</td><td>53.7</td><td>52.8</td><td>52.4</td></tr><tr><th>16</th><td>2019-05-01</td><td>52.4</td><td>56.7</td><td>57.5</td></tr><tr><th>17</th><td>2019-04-01</td><td>57.5</td><td>57.3</td><td>52.3</td></tr><tr><th>18</th><td>2019-03-01</td><td>52.3</td><td>57.8</td><td>55.5</td></tr><tr><th>19</th><td>2019-02-01</td><td>55.5</td><td>57.5</td><td>56.0</td></tr><tr><th>20</th><td>2019-01-03</td><td>56.2</td><td>58.1</td><td>58.4</td></tr><tr><th>21</th><td>2018-12-03</td><td>58.4</td><td>57.2</td><td>56.8</td></tr><tr><th>22</th><td>2018-11-01</td><td>56.8</td><td>56.9</td><td>58.8</td></tr><tr><th>23</th><td>2018-10-01</td><td>58.8</td><td>56.9</td><td>58.5</td></tr><tr><th>24</th><td>2018-09-04</td><td>58.5</td><td>56.3</td><td>56.5</td></tr><tr><th>25</th><td>2018-08-01</td><td>56.5</td><td>56.2</td><td>56.0</td></tr><tr><th>26</th><td>2018-07-02</td><td>56.0</td><td>55.3</td><td>56.3</td></tr><tr><th>27</th><td>2018-06-01</td><td>56.3</td><td>55.8</td><td>54.2</td></tr><tr><th>28</th><td>2018-05-01</td><td>54.2</td><td>58.6</td><td>57.3</td></tr><tr><th>29</th><td>2018-04-02</td><td>57.3</td><td>57.2</td><td>59.7</td></tr><tr><th>30</th><td>2018-03-01</td><td>59.7</td><td>55.9</td><td>54.2</td></tr><tr><th>&vellip;</th><td>&vellip;</td><td>&vellip;</td><td>&vellip;</td><td>&vellip;</td></tr></tbody></table>"
      ],
      "text/latex": [
       "\\begin{tabular}{r|cccc}\n",
       "\t& Date & ActualValue & ForecastValue & PreviousValue\\\\\n",
       "\t\\hline\n",
       "\t& Date & Float64 & Float64? & Float64?\\\\\n",
       "\t\\hline\n",
       "\t1 & 2020-08-03 & 44.3 & 34.4 & 42.1 \\\\\n",
       "\t2 & 2020-07-01 & 42.1 & 38.1 & 32.1 \\\\\n",
       "\t3 & 2020-06-01 & 32.1 & 34.1 & 27.5 \\\\\n",
       "\t4 & 2020-05-01 & 27.5 & 44.8 & 43.8 \\\\\n",
       "\t5 & 2020-04-01 & 43.8 & 45.4 & 46.9 \\\\\n",
       "\t6 & 2020-03-02 & 46.9 & 43.9 & 46.6 \\\\\n",
       "\t7 & 2020-02-03 & 46.6 & 43.3 & 45.2 \\\\\n",
       "\t8 & 2020-01-03 & 45.1 & 53.5 & 46.6 \\\\\n",
       "\t9 & 2019-12-02 & 46.6 & 54.3 & 47.7 \\\\\n",
       "\t10 & 2019-11-01 & 47.7 & 54.7 & 46.3 \\\\\n",
       "\t11 & 2019-10-01 & 46.3 & 55.3 & 47.4 \\\\\n",
       "\t12 & 2019-09-03 & 47.4 & 56.0 & 51.7 \\\\\n",
       "\t13 & 2019-08-01 & 51.7 & 53.7 & 54.5 \\\\\n",
       "\t14 & 2019-07-01 & 54.5 & 54.1 & 53.7 \\\\\n",
       "\t15 & 2019-06-03 & 53.7 & 52.8 & 52.4 \\\\\n",
       "\t16 & 2019-05-01 & 52.4 & 56.7 & 57.5 \\\\\n",
       "\t17 & 2019-04-01 & 57.5 & 57.3 & 52.3 \\\\\n",
       "\t18 & 2019-03-01 & 52.3 & 57.8 & 55.5 \\\\\n",
       "\t19 & 2019-02-01 & 55.5 & 57.5 & 56.0 \\\\\n",
       "\t20 & 2019-01-03 & 56.2 & 58.1 & 58.4 \\\\\n",
       "\t21 & 2018-12-03 & 58.4 & 57.2 & 56.8 \\\\\n",
       "\t22 & 2018-11-01 & 56.8 & 56.9 & 58.8 \\\\\n",
       "\t23 & 2018-10-01 & 58.8 & 56.9 & 58.5 \\\\\n",
       "\t24 & 2018-09-04 & 58.5 & 56.3 & 56.5 \\\\\n",
       "\t25 & 2018-08-01 & 56.5 & 56.2 & 56.0 \\\\\n",
       "\t26 & 2018-07-02 & 56.0 & 55.3 & 56.3 \\\\\n",
       "\t27 & 2018-06-01 & 56.3 & 55.8 & 54.2 \\\\\n",
       "\t28 & 2018-05-01 & 54.2 & 58.6 & 57.3 \\\\\n",
       "\t29 & 2018-04-02 & 57.3 & 57.2 & 59.7 \\\\\n",
       "\t30 & 2018-03-01 & 59.7 & 55.9 & 54.2 \\\\\n",
       "\t$\\dots$ & $\\dots$ & $\\dots$ & $\\dots$ & $\\dots$ \\\\\n",
       "\\end{tabular}\n"
      ],
      "text/plain": [
       "82×4 DataFrame\n",
       "│ Row │ Date       │ ActualValue │ ForecastValue │ PreviousValue │\n",
       "│     │ \u001b[90mDate\u001b[39m       │ \u001b[90mFloat64\u001b[39m     │ \u001b[90mFloat64?\u001b[39m      │ \u001b[90mFloat64?\u001b[39m      │\n",
       "├─────┼────────────┼─────────────┼───────────────┼───────────────┤\n",
       "│ 1   │ 2020-08-03 │ 44.3        │ 34.4          │ 42.1          │\n",
       "│ 2   │ 2020-07-01 │ 42.1        │ 38.1          │ 32.1          │\n",
       "│ 3   │ 2020-06-01 │ 32.1        │ 34.1          │ 27.5          │\n",
       "│ 4   │ 2020-05-01 │ 27.5        │ 44.8          │ 43.8          │\n",
       "│ 5   │ 2020-04-01 │ 43.8        │ 45.4          │ 46.9          │\n",
       "│ 6   │ 2020-03-02 │ 46.9        │ 43.9          │ 46.6          │\n",
       "│ 7   │ 2020-02-03 │ 46.6        │ 43.3          │ 45.2          │\n",
       "│ 8   │ 2020-01-03 │ 45.1        │ 53.5          │ 46.6          │\n",
       "│ 9   │ 2019-12-02 │ 46.6        │ 54.3          │ 47.7          │\n",
       "│ 10  │ 2019-11-01 │ 47.7        │ 54.7          │ 46.3          │\n",
       "⋮\n",
       "│ 72  │ 2014-09-02 │ 58.1        │ \u001b[90mmissing\u001b[39m       │ 58.2          │\n",
       "│ 73  │ 2014-08-01 │ 58.2        │ \u001b[90mmissing\u001b[39m       │ 52.8          │\n",
       "│ 74  │ 2014-07-01 │ 52.8        │ \u001b[90mmissing\u001b[39m       │ 52.8          │\n",
       "│ 75  │ 2014-06-02 │ 52.8        │ \u001b[90mmissing\u001b[39m       │ 54.7          │\n",
       "│ 76  │ 2014-05-01 │ 54.7        │ \u001b[90mmissing\u001b[39m       │ 51.1          │\n",
       "│ 77  │ 2014-04-01 │ 51.1        │ \u001b[90mmissing\u001b[39m       │ 52.3          │\n",
       "│ 78  │ 2014-03-03 │ 52.3        │ \u001b[90mmissing\u001b[39m       │ 52.3          │\n",
       "│ 79  │ 2014-02-03 │ 52.3        │ \u001b[90mmissing\u001b[39m       │ 56.9          │\n",
       "│ 80  │ 2014-01-02 │ 56.9        │ \u001b[90mmissing\u001b[39m       │ 56.5          │\n",
       "│ 81  │ 2013-12-02 │ 56.5        │ \u001b[90mmissing\u001b[39m       │ 53.2          │\n",
       "│ 82  │ 2013-11-01 │ 53.2        │ \u001b[90mmissing\u001b[39m       │ \u001b[90mmissing\u001b[39m       │"
      ]
     },
     "execution_count": 5,
     "metadata": {},
     "output_type": "execute_result"
    }
   ],
   "source": [
    "df_ISM_Mfc_Emp = fetch_data(file_ISM_Mfc_Emp, \"yyyy.mm.dd\")"
   ]
  },
  {
   "cell_type": "markdown",
   "metadata": {},
   "source": [
    "## Markit - Manufacturing PMI"
   ]
  },
  {
   "cell_type": "code",
   "execution_count": 6,
   "metadata": {},
   "outputs": [
    {
     "data": {
      "text/html": [
       "<table class=\"data-frame\"><thead><tr><th></th><th>Date</th><th>ActualValue</th><th>ForecastValue</th><th>PreviousValue</th></tr><tr><th></th><th>Date</th><th>Float64</th><th>Float64?</th><th>Float64?</th></tr></thead><tbody><p>200 rows × 4 columns</p><tr><th>1</th><td>2020-08-21</td><td>53.6</td><td>51.1</td><td>50.9</td></tr><tr><th>2</th><td>2020-08-03</td><td>50.9</td><td>51.3</td><td>51.3</td></tr><tr><th>3</th><td>2020-07-24</td><td>51.3</td><td>49.7</td><td>49.8</td></tr><tr><th>4</th><td>2020-07-01</td><td>49.8</td><td>49.6</td><td>49.6</td></tr><tr><th>5</th><td>2020-06-23</td><td>49.6</td><td>42.3</td><td>39.8</td></tr><tr><th>6</th><td>2020-06-01</td><td>39.8</td><td>39.8</td><td>39.8</td></tr><tr><th>7</th><td>2020-05-21</td><td>39.8</td><td>37.9</td><td>36.1</td></tr><tr><th>8</th><td>2020-05-01</td><td>36.1</td><td>36.9</td><td>36.9</td></tr><tr><th>9</th><td>2020-04-23</td><td>36.9</td><td>47.5</td><td>48.5</td></tr><tr><th>10</th><td>2020-04-01</td><td>48.5</td><td>49.2</td><td>49.2</td></tr><tr><th>11</th><td>2020-03-24</td><td>49.2</td><td>50.5</td><td>50.7</td></tr><tr><th>12</th><td>2020-03-02</td><td>50.7</td><td>50.8</td><td>50.8</td></tr><tr><th>13</th><td>2020-02-21</td><td>50.8</td><td>50.9</td><td>51.9</td></tr><tr><th>14</th><td>2020-02-03</td><td>51.9</td><td>51.7</td><td>51.7</td></tr><tr><th>15</th><td>2020-01-24</td><td>51.7</td><td>52.3</td><td>52.4</td></tr><tr><th>16</th><td>2020-01-02</td><td>52.4</td><td>52.5</td><td>52.5</td></tr><tr><th>17</th><td>2019-12-16</td><td>52.5</td><td>52.4</td><td>52.6</td></tr><tr><th>18</th><td>2019-12-02</td><td>52.6</td><td>52.2</td><td>52.2</td></tr><tr><th>19</th><td>2019-11-22</td><td>52.2</td><td>51.4</td><td>51.3</td></tr><tr><th>20</th><td>2019-11-01</td><td>51.3</td><td>51.5</td><td>51.5</td></tr><tr><th>21</th><td>2019-10-24</td><td>51.5</td><td>51.0</td><td>51.1</td></tr><tr><th>22</th><td>2019-10-01</td><td>51.1</td><td>51.0</td><td>51.0</td></tr><tr><th>23</th><td>2019-09-23</td><td>51.0</td><td>50.4</td><td>50.3</td></tr><tr><th>24</th><td>2019-09-03</td><td>50.3</td><td>49.9</td><td>49.9</td></tr><tr><th>25</th><td>2019-08-22</td><td>49.9</td><td>50.2</td><td>50.4</td></tr><tr><th>26</th><td>2019-08-01</td><td>50.4</td><td>50.0</td><td>50.0</td></tr><tr><th>27</th><td>2019-07-24</td><td>50.0</td><td>50.3</td><td>50.6</td></tr><tr><th>28</th><td>2019-07-01</td><td>50.6</td><td>50.1</td><td>50.1</td></tr><tr><th>29</th><td>2019-06-21</td><td>50.1</td><td>51.0</td><td>50.5</td></tr><tr><th>30</th><td>2019-06-03</td><td>50.5</td><td>50.6</td><td>50.6</td></tr><tr><th>&vellip;</th><td>&vellip;</td><td>&vellip;</td><td>&vellip;</td><td>&vellip;</td></tr></tbody></table>"
      ],
      "text/latex": [
       "\\begin{tabular}{r|cccc}\n",
       "\t& Date & ActualValue & ForecastValue & PreviousValue\\\\\n",
       "\t\\hline\n",
       "\t& Date & Float64 & Float64? & Float64?\\\\\n",
       "\t\\hline\n",
       "\t1 & 2020-08-21 & 53.6 & 51.1 & 50.9 \\\\\n",
       "\t2 & 2020-08-03 & 50.9 & 51.3 & 51.3 \\\\\n",
       "\t3 & 2020-07-24 & 51.3 & 49.7 & 49.8 \\\\\n",
       "\t4 & 2020-07-01 & 49.8 & 49.6 & 49.6 \\\\\n",
       "\t5 & 2020-06-23 & 49.6 & 42.3 & 39.8 \\\\\n",
       "\t6 & 2020-06-01 & 39.8 & 39.8 & 39.8 \\\\\n",
       "\t7 & 2020-05-21 & 39.8 & 37.9 & 36.1 \\\\\n",
       "\t8 & 2020-05-01 & 36.1 & 36.9 & 36.9 \\\\\n",
       "\t9 & 2020-04-23 & 36.9 & 47.5 & 48.5 \\\\\n",
       "\t10 & 2020-04-01 & 48.5 & 49.2 & 49.2 \\\\\n",
       "\t11 & 2020-03-24 & 49.2 & 50.5 & 50.7 \\\\\n",
       "\t12 & 2020-03-02 & 50.7 & 50.8 & 50.8 \\\\\n",
       "\t13 & 2020-02-21 & 50.8 & 50.9 & 51.9 \\\\\n",
       "\t14 & 2020-02-03 & 51.9 & 51.7 & 51.7 \\\\\n",
       "\t15 & 2020-01-24 & 51.7 & 52.3 & 52.4 \\\\\n",
       "\t16 & 2020-01-02 & 52.4 & 52.5 & 52.5 \\\\\n",
       "\t17 & 2019-12-16 & 52.5 & 52.4 & 52.6 \\\\\n",
       "\t18 & 2019-12-02 & 52.6 & 52.2 & 52.2 \\\\\n",
       "\t19 & 2019-11-22 & 52.2 & 51.4 & 51.3 \\\\\n",
       "\t20 & 2019-11-01 & 51.3 & 51.5 & 51.5 \\\\\n",
       "\t21 & 2019-10-24 & 51.5 & 51.0 & 51.1 \\\\\n",
       "\t22 & 2019-10-01 & 51.1 & 51.0 & 51.0 \\\\\n",
       "\t23 & 2019-09-23 & 51.0 & 50.4 & 50.3 \\\\\n",
       "\t24 & 2019-09-03 & 50.3 & 49.9 & 49.9 \\\\\n",
       "\t25 & 2019-08-22 & 49.9 & 50.2 & 50.4 \\\\\n",
       "\t26 & 2019-08-01 & 50.4 & 50.0 & 50.0 \\\\\n",
       "\t27 & 2019-07-24 & 50.0 & 50.3 & 50.6 \\\\\n",
       "\t28 & 2019-07-01 & 50.6 & 50.1 & 50.1 \\\\\n",
       "\t29 & 2019-06-21 & 50.1 & 51.0 & 50.5 \\\\\n",
       "\t30 & 2019-06-03 & 50.5 & 50.6 & 50.6 \\\\\n",
       "\t$\\dots$ & $\\dots$ & $\\dots$ & $\\dots$ & $\\dots$ \\\\\n",
       "\\end{tabular}\n"
      ],
      "text/plain": [
       "200×4 DataFrame\n",
       "│ Row │ Date       │ ActualValue │ ForecastValue │ PreviousValue │\n",
       "│     │ \u001b[90mDate\u001b[39m       │ \u001b[90mFloat64\u001b[39m     │ \u001b[90mFloat64?\u001b[39m      │ \u001b[90mFloat64?\u001b[39m      │\n",
       "├─────┼────────────┼─────────────┼───────────────┼───────────────┤\n",
       "│ 1   │ 2020-08-21 │ 53.6        │ 51.1          │ 50.9          │\n",
       "│ 2   │ 2020-08-03 │ 50.9        │ 51.3          │ 51.3          │\n",
       "│ 3   │ 2020-07-24 │ 51.3        │ 49.7          │ 49.8          │\n",
       "│ 4   │ 2020-07-01 │ 49.8        │ 49.6          │ 49.6          │\n",
       "│ 5   │ 2020-06-23 │ 49.6        │ 42.3          │ 39.8          │\n",
       "│ 6   │ 2020-06-01 │ 39.8        │ 39.8          │ 39.8          │\n",
       "│ 7   │ 2020-05-21 │ 39.8        │ 37.9          │ 36.1          │\n",
       "│ 8   │ 2020-05-01 │ 36.1        │ 36.9          │ 36.9          │\n",
       "│ 9   │ 2020-04-23 │ 36.9        │ 47.5          │ 48.5          │\n",
       "│ 10  │ 2020-04-01 │ 48.5        │ 49.2          │ 49.2          │\n",
       "⋮\n",
       "│ 190 │ 2012-10-01 │ 51.1        │ \u001b[90mmissing\u001b[39m       │ 51.5          │\n",
       "│ 191 │ 2012-09-20 │ 51.5        │ \u001b[90mmissing\u001b[39m       │ 51.5          │\n",
       "│ 192 │ 2012-09-04 │ 51.5        │ \u001b[90mmissing\u001b[39m       │ 51.9          │\n",
       "│ 193 │ 2012-08-23 │ 51.9        │ \u001b[90mmissing\u001b[39m       │ 51.4          │\n",
       "│ 194 │ 2012-08-01 │ 51.4        │ \u001b[90mmissing\u001b[39m       │ 51.8          │\n",
       "│ 195 │ 2012-07-24 │ 51.8        │ \u001b[90mmissing\u001b[39m       │ 52.5          │\n",
       "│ 196 │ 2012-07-02 │ 52.5        │ \u001b[90mmissing\u001b[39m       │ 52.9          │\n",
       "│ 197 │ 2012-06-21 │ 52.9        │ \u001b[90mmissing\u001b[39m       │ 54.0          │\n",
       "│ 198 │ 2012-06-01 │ 54.0        │ \u001b[90mmissing\u001b[39m       │ 53.9          │\n",
       "│ 199 │ 2012-05-24 │ 53.9        │ \u001b[90mmissing\u001b[39m       │ 56.0          │\n",
       "│ 200 │ 2012-04-25 │ 56.0        │ \u001b[90mmissing\u001b[39m       │ \u001b[90mmissing\u001b[39m       │"
      ]
     },
     "execution_count": 6,
     "metadata": {},
     "output_type": "execute_result"
    }
   ],
   "source": [
    "df_Markkit_Mfc_PMI = fetch_data(file_Markkit_Mfc_PMI, \"yyyy.mm.dd\")"
   ]
  },
  {
   "cell_type": "markdown",
   "metadata": {},
   "source": [
    "# Visualize the Data\n",
    "\n",
    "Visualization of the data is important to identify:\n",
    "- possible correlations (patterns)\n",
    "- missing data (e.g. before certain date)\n",
    "- wrong types of data (text vs. numbers, etc.)"
   ]
  },
  {
   "cell_type": "markdown",
   "metadata": {},
   "source": [
    "## Plotting Data"
   ]
  },
  {
   "cell_type": "code",
   "execution_count": 7,
   "metadata": {},
   "outputs": [
    {
     "name": "stdout",
     "output_type": "stream",
     "text": [
      "2020-08-21 to 2012-04-25\n"
     ]
    },
    {
     "data": {
      "image/svg+xml": [
       "<?xml version=\"1.0\" encoding=\"utf-8\"?>\n",
       "<svg xmlns=\"http://www.w3.org/2000/svg\" xmlns:xlink=\"http://www.w3.org/1999/xlink\" width=\"1750\" height=\"600\" viewBox=\"0 0 7000 2400\">\n",
       "<defs>\n",
       "  <clipPath id=\"clip4500\">\n",
       "    <rect x=\"0\" y=\"0\" width=\"7000\" height=\"2400\"/>\n",
       "  </clipPath>\n",
       "</defs>\n",
       "<path clip-path=\"url(#clip4500)\" d=\"\n",
       "M0 2400 L7000 2400 L7000 0 L0 0  Z\n",
       "  \" fill=\"#ffffff\" fill-rule=\"evenodd\" fill-opacity=\"1\"/>\n",
       "<defs>\n",
       "  <clipPath id=\"clip4501\">\n",
       "    <rect x=\"1400\" y=\"0\" width=\"4901\" height=\"2400\"/>\n",
       "  </clipPath>\n",
       "</defs>\n",
       "<path clip-path=\"url(#clip4500)\" d=\"\n",
       "M202.459 2223.18 L6952.76 2223.18 L6952.76 47.2441 L202.459 47.2441  Z\n",
       "  \" fill=\"#ffffff\" fill-rule=\"evenodd\" fill-opacity=\"1\"/>\n",
       "<defs>\n",
       "  <clipPath id=\"clip4502\">\n",
       "    <rect x=\"202\" y=\"47\" width=\"6751\" height=\"2177\"/>\n",
       "  </clipPath>\n",
       "</defs>\n",
       "<polyline clip-path=\"url(#clip4502)\" style=\"stroke:#000000; stroke-width:2; stroke-opacity:0.1; fill:none\" points=\"\n",
       "  919.301,2223.18 919.301,47.2441 \n",
       "  \"/>\n",
       "<polyline clip-path=\"url(#clip4502)\" style=\"stroke:#000000; stroke-width:2; stroke-opacity:0.1; fill:none\" points=\"\n",
       "  2448.51,2223.18 2448.51,47.2441 \n",
       "  \"/>\n",
       "<polyline clip-path=\"url(#clip4502)\" style=\"stroke:#000000; stroke-width:2; stroke-opacity:0.1; fill:none\" points=\"\n",
       "  3979.81,2223.18 3979.81,47.2441 \n",
       "  \"/>\n",
       "<polyline clip-path=\"url(#clip4502)\" style=\"stroke:#000000; stroke-width:2; stroke-opacity:0.1; fill:none\" points=\"\n",
       "  5509.02,2223.18 5509.02,47.2441 \n",
       "  \"/>\n",
       "<polyline clip-path=\"url(#clip4502)\" style=\"stroke:#000000; stroke-width:2; stroke-opacity:0.1; fill:none\" points=\"\n",
       "  202.459,1796.04 6952.76,1796.04 \n",
       "  \"/>\n",
       "<polyline clip-path=\"url(#clip4502)\" style=\"stroke:#000000; stroke-width:2; stroke-opacity:0.1; fill:none\" points=\"\n",
       "  202.459,1327.37 6952.76,1327.37 \n",
       "  \"/>\n",
       "<polyline clip-path=\"url(#clip4502)\" style=\"stroke:#000000; stroke-width:2; stroke-opacity:0.1; fill:none\" points=\"\n",
       "  202.459,858.697 6952.76,858.697 \n",
       "  \"/>\n",
       "<polyline clip-path=\"url(#clip4502)\" style=\"stroke:#000000; stroke-width:2; stroke-opacity:0.1; fill:none\" points=\"\n",
       "  202.459,390.028 6952.76,390.028 \n",
       "  \"/>\n",
       "<polyline clip-path=\"url(#clip4500)\" style=\"stroke:#000000; stroke-width:4; stroke-opacity:1; fill:none\" points=\"\n",
       "  202.459,2223.18 6952.76,2223.18 \n",
       "  \"/>\n",
       "<polyline clip-path=\"url(#clip4500)\" style=\"stroke:#000000; stroke-width:4; stroke-opacity:1; fill:none\" points=\"\n",
       "  202.459,2223.18 202.459,47.2441 \n",
       "  \"/>\n",
       "<polyline clip-path=\"url(#clip4500)\" style=\"stroke:#000000; stroke-width:4; stroke-opacity:1; fill:none\" points=\"\n",
       "  919.301,2223.18 919.301,2197.07 \n",
       "  \"/>\n",
       "<polyline clip-path=\"url(#clip4500)\" style=\"stroke:#000000; stroke-width:4; stroke-opacity:1; fill:none\" points=\"\n",
       "  2448.51,2223.18 2448.51,2197.07 \n",
       "  \"/>\n",
       "<polyline clip-path=\"url(#clip4500)\" style=\"stroke:#000000; stroke-width:4; stroke-opacity:1; fill:none\" points=\"\n",
       "  3979.81,2223.18 3979.81,2197.07 \n",
       "  \"/>\n",
       "<polyline clip-path=\"url(#clip4500)\" style=\"stroke:#000000; stroke-width:4; stroke-opacity:1; fill:none\" points=\"\n",
       "  5509.02,2223.18 5509.02,2197.07 \n",
       "  \"/>\n",
       "<polyline clip-path=\"url(#clip4500)\" style=\"stroke:#000000; stroke-width:4; stroke-opacity:1; fill:none\" points=\"\n",
       "  202.459,1796.04 283.463,1796.04 \n",
       "  \"/>\n",
       "<polyline clip-path=\"url(#clip4500)\" style=\"stroke:#000000; stroke-width:4; stroke-opacity:1; fill:none\" points=\"\n",
       "  202.459,1327.37 283.463,1327.37 \n",
       "  \"/>\n",
       "<polyline clip-path=\"url(#clip4500)\" style=\"stroke:#000000; stroke-width:4; stroke-opacity:1; fill:none\" points=\"\n",
       "  202.459,858.697 283.463,858.697 \n",
       "  \"/>\n",
       "<polyline clip-path=\"url(#clip4500)\" style=\"stroke:#000000; stroke-width:4; stroke-opacity:1; fill:none\" points=\"\n",
       "  202.459,390.028 283.463,390.028 \n",
       "  \"/>\n",
       "<path clip-path=\"url(#clip4500)\" d=\"M 0 0 M806.778 2295.72 L823.098 2295.72 L823.098 2299.65 L801.153 2299.65 L801.153 2295.72 Q803.815 2292.96 808.399 2288.33 Q813.005 2283.68 814.186 2282.34 Q816.431 2279.81 817.311 2278.08 Q818.214 2276.32 818.214 2274.63 Q818.214 2271.87 816.269 2270.14 Q814.348 2268.4 811.246 2268.4 Q809.047 2268.4 806.593 2269.17 Q804.163 2269.93 801.385 2271.48 L801.385 2266.76 Q804.209 2265.62 806.663 2265.05 Q809.116 2264.47 811.153 2264.47 Q816.524 2264.47 819.718 2267.15 Q822.913 2269.84 822.913 2274.33 Q822.913 2276.46 822.102 2278.38 Q821.315 2280.28 819.209 2282.87 Q818.63 2283.54 815.528 2286.76 Q812.427 2289.95 806.778 2295.72 Z\" fill=\"#000000\" fill-rule=\"evenodd\" fill-opacity=\"1\" /><path clip-path=\"url(#clip4500)\" d=\"M 0 0 M838.167 2268.17 Q834.556 2268.17 832.727 2271.74 Q830.922 2275.28 830.922 2282.41 Q830.922 2289.51 832.727 2293.08 Q834.556 2296.62 838.167 2296.62 Q841.801 2296.62 843.607 2293.08 Q845.436 2289.51 845.436 2282.41 Q845.436 2275.28 843.607 2271.74 Q841.801 2268.17 838.167 2268.17 M838.167 2264.47 Q843.977 2264.47 847.033 2269.07 Q850.111 2273.66 850.111 2282.41 Q850.111 2291.13 847.033 2295.74 Q843.977 2300.32 838.167 2300.32 Q832.357 2300.32 829.278 2295.74 Q826.223 2291.13 826.223 2282.41 Q826.223 2273.66 829.278 2269.07 Q832.357 2264.47 838.167 2264.47 Z\" fill=\"#000000\" fill-rule=\"evenodd\" fill-opacity=\"1\" /><path clip-path=\"url(#clip4500)\" d=\"M 0 0 M855.991 2295.72 L863.63 2295.72 L863.63 2269.35 L855.32 2271.02 L855.32 2266.76 L863.584 2265.09 L868.26 2265.09 L868.26 2295.72 L875.898 2295.72 L875.898 2299.65 L855.991 2299.65 L855.991 2295.72 Z\" fill=\"#000000\" fill-rule=\"evenodd\" fill-opacity=\"1\" /><path clip-path=\"url(#clip4500)\" d=\"M 0 0 M895.134 2281.02 Q898.491 2281.74 900.366 2284 Q902.264 2286.27 902.264 2289.61 Q902.264 2294.72 898.745 2297.52 Q895.227 2300.32 888.746 2300.32 Q886.57 2300.32 884.255 2299.88 Q881.963 2299.47 879.509 2298.61 L879.509 2294.1 Q881.454 2295.23 883.769 2295.81 Q886.084 2296.39 888.607 2296.39 Q893.005 2296.39 895.296 2294.65 Q897.611 2292.92 897.611 2289.61 Q897.611 2286.55 895.458 2284.84 Q893.329 2283.1 889.509 2283.1 L885.482 2283.1 L885.482 2279.26 L889.695 2279.26 Q893.144 2279.26 894.972 2277.89 Q896.801 2276.5 896.801 2273.91 Q896.801 2271.25 894.903 2269.84 Q893.028 2268.4 889.509 2268.4 Q887.588 2268.4 885.389 2268.82 Q883.19 2269.24 880.551 2270.11 L880.551 2265.95 Q883.213 2265.21 885.528 2264.84 Q887.866 2264.47 889.926 2264.47 Q895.25 2264.47 898.352 2266.9 Q901.454 2269.3 901.454 2273.43 Q901.454 2276.3 899.81 2278.29 Q898.167 2280.25 895.134 2281.02 Z\" fill=\"#000000\" fill-rule=\"evenodd\" fill-opacity=\"1\" /><path clip-path=\"url(#clip4500)\" d=\"M 0 0 M904.579 2284.77 L917.056 2284.77 L917.056 2288.56 L904.579 2288.56 L904.579 2284.77 Z\" fill=\"#000000\" fill-rule=\"evenodd\" fill-opacity=\"1\" /><path clip-path=\"url(#clip4500)\" d=\"M 0 0 M932.125 2268.17 Q928.514 2268.17 926.685 2271.74 Q924.88 2275.28 924.88 2282.41 Q924.88 2289.51 926.685 2293.08 Q928.514 2296.62 932.125 2296.62 Q935.759 2296.62 937.565 2293.08 Q939.393 2289.51 939.393 2282.41 Q939.393 2275.28 937.565 2271.74 Q935.759 2268.17 932.125 2268.17 M932.125 2264.47 Q937.935 2264.47 940.991 2269.07 Q944.069 2273.66 944.069 2282.41 Q944.069 2291.13 940.991 2295.74 Q937.935 2300.32 932.125 2300.32 Q926.315 2300.32 923.236 2295.74 Q920.181 2291.13 920.181 2282.41 Q920.181 2273.66 923.236 2269.07 Q926.315 2264.47 932.125 2264.47 Z\" fill=\"#000000\" fill-rule=\"evenodd\" fill-opacity=\"1\" /><path clip-path=\"url(#clip4500)\" d=\"M 0 0 M949.949 2295.72 L957.588 2295.72 L957.588 2269.35 L949.278 2271.02 L949.278 2266.76 L957.541 2265.09 L962.217 2265.09 L962.217 2295.72 L969.856 2295.72 L969.856 2299.65 L949.949 2299.65 L949.949 2295.72 Z\" fill=\"#000000\" fill-rule=\"evenodd\" fill-opacity=\"1\" /><path clip-path=\"url(#clip4500)\" d=\"M 0 0 M972.171 2284.77 L984.648 2284.77 L984.648 2288.56 L972.171 2288.56 L972.171 2284.77 Z\" fill=\"#000000\" fill-rule=\"evenodd\" fill-opacity=\"1\" /><path clip-path=\"url(#clip4500)\" d=\"M 0 0 M999.717 2268.17 Q996.106 2268.17 994.277 2271.74 Q992.472 2275.28 992.472 2282.41 Q992.472 2289.51 994.277 2293.08 Q996.106 2296.62 999.717 2296.62 Q1003.35 2296.62 1005.16 2293.08 Q1006.99 2289.51 1006.99 2282.41 Q1006.99 2275.28 1005.16 2271.74 Q1003.35 2268.17 999.717 2268.17 M999.717 2264.47 Q1005.53 2264.47 1008.58 2269.07 Q1011.66 2273.66 1011.66 2282.41 Q1011.66 2291.13 1008.58 2295.74 Q1005.53 2300.32 999.717 2300.32 Q993.907 2300.32 990.828 2295.74 Q987.773 2291.13 987.773 2282.41 Q987.773 2273.66 990.828 2269.07 Q993.907 2264.47 999.717 2264.47 Z\" fill=\"#000000\" fill-rule=\"evenodd\" fill-opacity=\"1\" /><path clip-path=\"url(#clip4500)\" d=\"M 0 0 M1017.54 2295.72 L1025.18 2295.72 L1025.18 2269.35 L1016.87 2271.02 L1016.87 2266.76 L1025.13 2265.09 L1029.81 2265.09 L1029.81 2295.72 L1037.45 2295.72 L1037.45 2299.65 L1017.54 2299.65 L1017.54 2295.72 Z\" fill=\"#000000\" fill-rule=\"evenodd\" fill-opacity=\"1\" /><path clip-path=\"url(#clip4500)\" d=\"M 0 0 M2336.16 2295.72 L2352.48 2295.72 L2352.48 2299.65 L2330.53 2299.65 L2330.53 2295.72 Q2333.2 2292.96 2337.78 2288.33 Q2342.39 2283.68 2343.57 2282.34 Q2345.81 2279.81 2346.69 2278.08 Q2347.59 2276.32 2347.59 2274.63 Q2347.59 2271.87 2345.65 2270.14 Q2343.73 2268.4 2340.63 2268.4 Q2338.43 2268.4 2335.97 2269.17 Q2333.54 2269.93 2330.77 2271.48 L2330.77 2266.76 Q2333.59 2265.62 2336.04 2265.05 Q2338.5 2264.47 2340.53 2264.47 Q2345.9 2264.47 2349.1 2267.15 Q2352.29 2269.84 2352.29 2274.33 Q2352.29 2276.46 2351.48 2278.38 Q2350.7 2280.28 2348.59 2282.87 Q2348.01 2283.54 2344.91 2286.76 Q2341.81 2289.95 2336.16 2295.72 Z\" fill=\"#000000\" fill-rule=\"evenodd\" fill-opacity=\"1\" /><path clip-path=\"url(#clip4500)\" d=\"M 0 0 M2367.55 2268.17 Q2363.94 2268.17 2362.11 2271.74 Q2360.3 2275.28 2360.3 2282.41 Q2360.3 2289.51 2362.11 2293.08 Q2363.94 2296.62 2367.55 2296.62 Q2371.18 2296.62 2372.99 2293.08 Q2374.82 2289.51 2374.82 2282.41 Q2374.82 2275.28 2372.99 2271.74 Q2371.18 2268.17 2367.55 2268.17 M2367.55 2264.47 Q2373.36 2264.47 2376.41 2269.07 Q2379.49 2273.66 2379.49 2282.41 Q2379.49 2291.13 2376.41 2295.74 Q2373.36 2300.32 2367.55 2300.32 Q2361.74 2300.32 2358.66 2295.74 Q2355.6 2291.13 2355.6 2282.41 Q2355.6 2273.66 2358.66 2269.07 Q2361.74 2264.47 2367.55 2264.47 Z\" fill=\"#000000\" fill-rule=\"evenodd\" fill-opacity=\"1\" /><path clip-path=\"url(#clip4500)\" d=\"M 0 0 M2385.37 2295.72 L2393.01 2295.72 L2393.01 2269.35 L2384.7 2271.02 L2384.7 2266.76 L2392.96 2265.09 L2397.64 2265.09 L2397.64 2295.72 L2405.28 2295.72 L2405.28 2299.65 L2385.37 2299.65 L2385.37 2295.72 Z\" fill=\"#000000\" fill-rule=\"evenodd\" fill-opacity=\"1\" /><path clip-path=\"url(#clip4500)\" d=\"M 0 0 M2410.39 2265.09 L2428.75 2265.09 L2428.75 2269.03 L2414.68 2269.03 L2414.68 2277.5 Q2415.7 2277.15 2416.71 2276.99 Q2417.73 2276.8 2418.75 2276.8 Q2424.54 2276.8 2427.92 2279.98 Q2431.3 2283.15 2431.3 2288.56 Q2431.3 2294.14 2427.83 2297.24 Q2424.35 2300.32 2418.03 2300.32 Q2415.86 2300.32 2413.59 2299.95 Q2411.34 2299.58 2408.94 2298.84 L2408.94 2294.14 Q2411.02 2295.28 2413.24 2295.83 Q2415.46 2296.39 2417.94 2296.39 Q2421.95 2296.39 2424.28 2294.28 Q2426.62 2292.18 2426.62 2288.56 Q2426.62 2284.95 2424.28 2282.85 Q2421.95 2280.74 2417.94 2280.74 Q2416.07 2280.74 2414.19 2281.16 Q2412.34 2281.57 2410.39 2282.45 L2410.39 2265.09 Z\" fill=\"#000000\" fill-rule=\"evenodd\" fill-opacity=\"1\" /><path clip-path=\"url(#clip4500)\" d=\"M 0 0 M2433.61 2284.77 L2446.09 2284.77 L2446.09 2288.56 L2433.61 2288.56 L2433.61 2284.77 Z\" fill=\"#000000\" fill-rule=\"evenodd\" fill-opacity=\"1\" /><path clip-path=\"url(#clip4500)\" d=\"M 0 0 M2461.16 2268.17 Q2457.55 2268.17 2455.72 2271.74 Q2453.91 2275.28 2453.91 2282.41 Q2453.91 2289.51 2455.72 2293.08 Q2457.55 2296.62 2461.16 2296.62 Q2464.79 2296.62 2466.6 2293.08 Q2468.43 2289.51 2468.43 2282.41 Q2468.43 2275.28 2466.6 2271.74 Q2464.79 2268.17 2461.16 2268.17 M2461.16 2264.47 Q2466.97 2264.47 2470.02 2269.07 Q2473.1 2273.66 2473.1 2282.41 Q2473.1 2291.13 2470.02 2295.74 Q2466.97 2300.32 2461.16 2300.32 Q2455.35 2300.32 2452.27 2295.74 Q2449.21 2291.13 2449.21 2282.41 Q2449.21 2273.66 2452.27 2269.07 Q2455.35 2264.47 2461.16 2264.47 Z\" fill=\"#000000\" fill-rule=\"evenodd\" fill-opacity=\"1\" /><path clip-path=\"url(#clip4500)\" d=\"M 0 0 M2478.98 2295.72 L2486.62 2295.72 L2486.62 2269.35 L2478.31 2271.02 L2478.31 2266.76 L2486.57 2265.09 L2491.25 2265.09 L2491.25 2295.72 L2498.89 2295.72 L2498.89 2299.65 L2478.98 2299.65 L2478.98 2295.72 Z\" fill=\"#000000\" fill-rule=\"evenodd\" fill-opacity=\"1\" /><path clip-path=\"url(#clip4500)\" d=\"M 0 0 M2501.2 2284.77 L2513.68 2284.77 L2513.68 2288.56 L2501.2 2288.56 L2501.2 2284.77 Z\" fill=\"#000000\" fill-rule=\"evenodd\" fill-opacity=\"1\" /><path clip-path=\"url(#clip4500)\" d=\"M 0 0 M2528.75 2268.17 Q2525.14 2268.17 2523.31 2271.74 Q2521.51 2275.28 2521.51 2282.41 Q2521.51 2289.51 2523.31 2293.08 Q2525.14 2296.62 2528.75 2296.62 Q2532.38 2296.62 2534.19 2293.08 Q2536.02 2289.51 2536.02 2282.41 Q2536.02 2275.28 2534.19 2271.74 Q2532.38 2268.17 2528.75 2268.17 M2528.75 2264.47 Q2534.56 2264.47 2537.62 2269.07 Q2540.69 2273.66 2540.69 2282.41 Q2540.69 2291.13 2537.62 2295.74 Q2534.56 2300.32 2528.75 2300.32 Q2522.94 2300.32 2519.86 2295.74 Q2516.81 2291.13 2516.81 2282.41 Q2516.81 2273.66 2519.86 2269.07 Q2522.94 2264.47 2528.75 2264.47 Z\" fill=\"#000000\" fill-rule=\"evenodd\" fill-opacity=\"1\" /><path clip-path=\"url(#clip4500)\" d=\"M 0 0 M2546.57 2295.72 L2554.21 2295.72 L2554.21 2269.35 L2545.9 2271.02 L2545.9 2266.76 L2554.17 2265.09 L2558.84 2265.09 L2558.84 2295.72 L2566.48 2295.72 L2566.48 2299.65 L2546.57 2299.65 L2546.57 2295.72 Z\" fill=\"#000000\" fill-rule=\"evenodd\" fill-opacity=\"1\" /><path clip-path=\"url(#clip4500)\" d=\"M 0 0 M3867.41 2295.72 L3883.73 2295.72 L3883.73 2299.65 L3861.79 2299.65 L3861.79 2295.72 Q3864.45 2292.96 3869.03 2288.33 Q3873.64 2283.68 3874.82 2282.34 Q3877.07 2279.81 3877.95 2278.08 Q3878.85 2276.32 3878.85 2274.63 Q3878.85 2271.87 3876.91 2270.14 Q3874.98 2268.4 3871.88 2268.4 Q3869.68 2268.4 3867.23 2269.17 Q3864.8 2269.93 3862.02 2271.48 L3862.02 2266.76 Q3864.85 2265.62 3867.3 2265.05 Q3869.75 2264.47 3871.79 2264.47 Q3877.16 2264.47 3880.35 2267.15 Q3883.55 2269.84 3883.55 2274.33 Q3883.55 2276.46 3882.74 2278.38 Q3881.95 2280.28 3879.85 2282.87 Q3879.27 2283.54 3876.16 2286.76 Q3873.06 2289.95 3867.41 2295.72 Z\" fill=\"#000000\" fill-rule=\"evenodd\" fill-opacity=\"1\" /><path clip-path=\"url(#clip4500)\" d=\"M 0 0 M3898.8 2268.17 Q3895.19 2268.17 3893.36 2271.74 Q3891.56 2275.28 3891.56 2282.41 Q3891.56 2289.51 3893.36 2293.08 Q3895.19 2296.62 3898.8 2296.62 Q3902.44 2296.62 3904.24 2293.08 Q3906.07 2289.51 3906.07 2282.41 Q3906.07 2275.28 3904.24 2271.74 Q3902.44 2268.17 3898.8 2268.17 M3898.8 2264.47 Q3904.61 2264.47 3907.67 2269.07 Q3910.75 2273.66 3910.75 2282.41 Q3910.75 2291.13 3907.67 2295.74 Q3904.61 2300.32 3898.8 2300.32 Q3892.99 2300.32 3889.91 2295.74 Q3886.86 2291.13 3886.86 2282.41 Q3886.86 2273.66 3889.91 2269.07 Q3892.99 2264.47 3898.8 2264.47 Z\" fill=\"#000000\" fill-rule=\"evenodd\" fill-opacity=\"1\" /><path clip-path=\"url(#clip4500)\" d=\"M 0 0 M3916.63 2295.72 L3924.27 2295.72 L3924.27 2269.35 L3915.96 2271.02 L3915.96 2266.76 L3924.22 2265.09 L3928.9 2265.09 L3928.9 2295.72 L3936.53 2295.72 L3936.53 2299.65 L3916.63 2299.65 L3916.63 2295.72 Z\" fill=\"#000000\" fill-rule=\"evenodd\" fill-opacity=\"1\" /><path clip-path=\"url(#clip4500)\" d=\"M 0 0 M3940.42 2265.09 L3962.65 2265.09 L3962.65 2267.08 L3950.1 2299.65 L3945.22 2299.65 L3957.02 2269.03 L3940.42 2269.03 L3940.42 2265.09 Z\" fill=\"#000000\" fill-rule=\"evenodd\" fill-opacity=\"1\" /><path clip-path=\"url(#clip4500)\" d=\"M 0 0 M3964.96 2284.77 L3977.44 2284.77 L3977.44 2288.56 L3964.96 2288.56 L3964.96 2284.77 Z\" fill=\"#000000\" fill-rule=\"evenodd\" fill-opacity=\"1\" /><path clip-path=\"url(#clip4500)\" d=\"M 0 0 M3992.51 2268.17 Q3988.9 2268.17 3987.07 2271.74 Q3985.26 2275.28 3985.26 2282.41 Q3985.26 2289.51 3987.07 2293.08 Q3988.9 2296.62 3992.51 2296.62 Q3996.14 2296.62 3997.95 2293.08 Q3999.77 2289.51 3999.77 2282.41 Q3999.77 2275.28 3997.95 2271.74 Q3996.14 2268.17 3992.51 2268.17 M3992.51 2264.47 Q3998.32 2264.47 4001.37 2269.07 Q4004.45 2273.66 4004.45 2282.41 Q4004.45 2291.13 4001.37 2295.74 Q3998.32 2300.32 3992.51 2300.32 Q3986.7 2300.32 3983.62 2295.74 Q3980.56 2291.13 3980.56 2282.41 Q3980.56 2273.66 3983.62 2269.07 Q3986.7 2264.47 3992.51 2264.47 Z\" fill=\"#000000\" fill-rule=\"evenodd\" fill-opacity=\"1\" /><path clip-path=\"url(#clip4500)\" d=\"M 0 0 M4010.33 2295.72 L4017.97 2295.72 L4017.97 2269.35 L4009.66 2271.02 L4009.66 2266.76 L4017.92 2265.09 L4022.6 2265.09 L4022.6 2295.72 L4030.24 2295.72 L4030.24 2299.65 L4010.33 2299.65 L4010.33 2295.72 Z\" fill=\"#000000\" fill-rule=\"evenodd\" fill-opacity=\"1\" /><path clip-path=\"url(#clip4500)\" d=\"M 0 0 M4032.55 2284.77 L4045.03 2284.77 L4045.03 2288.56 L4032.55 2288.56 L4032.55 2284.77 Z\" fill=\"#000000\" fill-rule=\"evenodd\" fill-opacity=\"1\" /><path clip-path=\"url(#clip4500)\" d=\"M 0 0 M4060.1 2268.17 Q4056.49 2268.17 4054.66 2271.74 Q4052.85 2275.28 4052.85 2282.41 Q4052.85 2289.51 4054.66 2293.08 Q4056.49 2296.62 4060.1 2296.62 Q4063.73 2296.62 4065.54 2293.08 Q4067.37 2289.51 4067.37 2282.41 Q4067.37 2275.28 4065.54 2271.74 Q4063.73 2268.17 4060.1 2268.17 M4060.1 2264.47 Q4065.91 2264.47 4068.96 2269.07 Q4072.04 2273.66 4072.04 2282.41 Q4072.04 2291.13 4068.96 2295.74 Q4065.91 2300.32 4060.1 2300.32 Q4054.29 2300.32 4051.21 2295.74 Q4048.15 2291.13 4048.15 2282.41 Q4048.15 2273.66 4051.21 2269.07 Q4054.29 2264.47 4060.1 2264.47 Z\" fill=\"#000000\" fill-rule=\"evenodd\" fill-opacity=\"1\" /><path clip-path=\"url(#clip4500)\" d=\"M 0 0 M4077.92 2295.72 L4085.56 2295.72 L4085.56 2269.35 L4077.25 2271.02 L4077.25 2266.76 L4085.52 2265.09 L4090.19 2265.09 L4090.19 2295.72 L4097.83 2295.72 L4097.83 2299.65 L4077.92 2299.65 L4077.92 2295.72 Z\" fill=\"#000000\" fill-rule=\"evenodd\" fill-opacity=\"1\" /><path clip-path=\"url(#clip4500)\" d=\"M 0 0 M5396.26 2295.72 L5412.58 2295.72 L5412.58 2299.65 L5390.64 2299.65 L5390.64 2295.72 Q5393.3 2292.96 5397.88 2288.33 Q5402.49 2283.68 5403.67 2282.34 Q5405.92 2279.81 5406.8 2278.08 Q5407.7 2276.32 5407.7 2274.63 Q5407.7 2271.87 5405.75 2270.14 Q5403.83 2268.4 5400.73 2268.4 Q5398.53 2268.4 5396.08 2269.17 Q5393.65 2269.93 5390.87 2271.48 L5390.87 2266.76 Q5393.69 2265.62 5396.15 2265.05 Q5398.6 2264.47 5400.64 2264.47 Q5406.01 2264.47 5409.2 2267.15 Q5412.4 2269.84 5412.4 2274.33 Q5412.4 2276.46 5411.59 2278.38 Q5410.8 2280.28 5408.69 2282.87 Q5408.11 2283.54 5405.01 2286.76 Q5401.91 2289.95 5396.26 2295.72 Z\" fill=\"#000000\" fill-rule=\"evenodd\" fill-opacity=\"1\" /><path clip-path=\"url(#clip4500)\" d=\"M 0 0 M5427.65 2268.17 Q5424.04 2268.17 5422.21 2271.74 Q5420.41 2275.28 5420.41 2282.41 Q5420.41 2289.51 5422.21 2293.08 Q5424.04 2296.62 5427.65 2296.62 Q5431.29 2296.62 5433.09 2293.08 Q5434.92 2289.51 5434.92 2282.41 Q5434.92 2275.28 5433.09 2271.74 Q5431.29 2268.17 5427.65 2268.17 M5427.65 2264.47 Q5433.46 2264.47 5436.52 2269.07 Q5439.6 2273.66 5439.6 2282.41 Q5439.6 2291.13 5436.52 2295.74 Q5433.46 2300.32 5427.65 2300.32 Q5421.84 2300.32 5418.76 2295.74 Q5415.71 2291.13 5415.71 2282.41 Q5415.71 2273.66 5418.76 2269.07 Q5421.84 2264.47 5427.65 2264.47 Z\" fill=\"#000000\" fill-rule=\"evenodd\" fill-opacity=\"1\" /><path clip-path=\"url(#clip4500)\" d=\"M 0 0 M5445.48 2295.72 L5453.11 2295.72 L5453.11 2269.35 L5444.8 2271.02 L5444.8 2266.76 L5453.07 2265.09 L5457.74 2265.09 L5457.74 2295.72 L5465.38 2295.72 L5465.38 2299.65 L5445.48 2299.65 L5445.48 2295.72 Z\" fill=\"#000000\" fill-rule=\"evenodd\" fill-opacity=\"1\" /><path clip-path=\"url(#clip4500)\" d=\"M 0 0 M5470.59 2298.93 L5470.59 2294.68 Q5472.35 2295.51 5474.16 2295.95 Q5475.96 2296.39 5477.7 2296.39 Q5482.33 2296.39 5484.76 2293.29 Q5487.21 2290.16 5487.56 2283.82 Q5486.22 2285.81 5484.16 2286.87 Q5482.1 2287.94 5479.6 2287.94 Q5474.41 2287.94 5471.38 2284.81 Q5468.37 2281.67 5468.37 2276.23 Q5468.37 2270.9 5471.52 2267.68 Q5474.67 2264.47 5479.9 2264.47 Q5485.89 2264.47 5489.04 2269.07 Q5492.21 2273.66 5492.21 2282.41 Q5492.21 2290.58 5488.32 2295.46 Q5484.46 2300.32 5477.91 2300.32 Q5476.15 2300.32 5474.34 2299.98 Q5472.54 2299.63 5470.59 2298.93 M5479.9 2284.28 Q5483.04 2284.28 5484.87 2282.13 Q5486.73 2279.98 5486.73 2276.23 Q5486.73 2272.5 5484.87 2270.35 Q5483.04 2268.17 5479.9 2268.17 Q5476.75 2268.17 5474.9 2270.35 Q5473.07 2272.5 5473.07 2276.23 Q5473.07 2279.98 5474.9 2282.13 Q5476.75 2284.28 5479.9 2284.28 Z\" fill=\"#000000\" fill-rule=\"evenodd\" fill-opacity=\"1\" /><path clip-path=\"url(#clip4500)\" d=\"M 0 0 M5494.53 2284.77 L5507 2284.77 L5507 2288.56 L5494.53 2288.56 L5494.53 2284.77 Z\" fill=\"#000000\" fill-rule=\"evenodd\" fill-opacity=\"1\" /><path clip-path=\"url(#clip4500)\" d=\"M 0 0 M5522.07 2268.17 Q5518.46 2268.17 5516.63 2271.74 Q5514.83 2275.28 5514.83 2282.41 Q5514.83 2289.51 5516.63 2293.08 Q5518.46 2296.62 5522.07 2296.62 Q5525.71 2296.62 5527.51 2293.08 Q5529.34 2289.51 5529.34 2282.41 Q5529.34 2275.28 5527.51 2271.74 Q5525.71 2268.17 5522.07 2268.17 M5522.07 2264.47 Q5527.88 2264.47 5530.94 2269.07 Q5534.02 2273.66 5534.02 2282.41 Q5534.02 2291.13 5530.94 2295.74 Q5527.88 2300.32 5522.07 2300.32 Q5516.26 2300.32 5513.18 2295.74 Q5510.13 2291.13 5510.13 2282.41 Q5510.13 2273.66 5513.18 2269.07 Q5516.26 2264.47 5522.07 2264.47 Z\" fill=\"#000000\" fill-rule=\"evenodd\" fill-opacity=\"1\" /><path clip-path=\"url(#clip4500)\" d=\"M 0 0 M5539.9 2295.72 L5547.54 2295.72 L5547.54 2269.35 L5539.23 2271.02 L5539.23 2266.76 L5547.49 2265.09 L5552.16 2265.09 L5552.16 2295.72 L5559.8 2295.72 L5559.8 2299.65 L5539.9 2299.65 L5539.9 2295.72 Z\" fill=\"#000000\" fill-rule=\"evenodd\" fill-opacity=\"1\" /><path clip-path=\"url(#clip4500)\" d=\"M 0 0 M5562.12 2284.77 L5574.6 2284.77 L5574.6 2288.56 L5562.12 2288.56 L5562.12 2284.77 Z\" fill=\"#000000\" fill-rule=\"evenodd\" fill-opacity=\"1\" /><path clip-path=\"url(#clip4500)\" d=\"M 0 0 M5589.66 2268.17 Q5586.05 2268.17 5584.22 2271.74 Q5582.42 2275.28 5582.42 2282.41 Q5582.42 2289.51 5584.22 2293.08 Q5586.05 2296.62 5589.66 2296.62 Q5593.3 2296.62 5595.1 2293.08 Q5596.93 2289.51 5596.93 2282.41 Q5596.93 2275.28 5595.1 2271.74 Q5593.3 2268.17 5589.66 2268.17 M5589.66 2264.47 Q5595.47 2264.47 5598.53 2269.07 Q5601.61 2273.66 5601.61 2282.41 Q5601.61 2291.13 5598.53 2295.74 Q5595.47 2300.32 5589.66 2300.32 Q5583.85 2300.32 5580.78 2295.74 Q5577.72 2291.13 5577.72 2282.41 Q5577.72 2273.66 5580.78 2269.07 Q5583.85 2264.47 5589.66 2264.47 Z\" fill=\"#000000\" fill-rule=\"evenodd\" fill-opacity=\"1\" /><path clip-path=\"url(#clip4500)\" d=\"M 0 0 M5607.49 2295.72 L5615.13 2295.72 L5615.13 2269.35 L5606.82 2271.02 L5606.82 2266.76 L5615.08 2265.09 L5619.76 2265.09 L5619.76 2295.72 L5627.4 2295.72 L5627.4 2299.65 L5607.49 2299.65 L5607.49 2295.72 Z\" fill=\"#000000\" fill-rule=\"evenodd\" fill-opacity=\"1\" /><path clip-path=\"url(#clip4500)\" d=\"M 0 0 M95.8619 1782.83 L84.0564 1801.28 L95.8619 1801.28 L95.8619 1782.83 M94.6351 1778.76 L100.515 1778.76 L100.515 1801.28 L105.445 1801.28 L105.445 1805.17 L100.515 1805.17 L100.515 1813.32 L95.8619 1813.32 L95.8619 1805.17 L80.2602 1805.17 L80.2602 1800.65 L94.6351 1778.76 Z\" fill=\"#000000\" fill-rule=\"evenodd\" fill-opacity=\"1\" /><path clip-path=\"url(#clip4500)\" d=\"M 0 0 M120.515 1781.83 Q116.903 1781.83 115.075 1785.4 Q113.269 1788.94 113.269 1796.07 Q113.269 1803.18 115.075 1806.74 Q116.903 1810.28 120.515 1810.28 Q124.149 1810.28 125.954 1806.74 Q127.783 1803.18 127.783 1796.07 Q127.783 1788.94 125.954 1785.4 Q124.149 1781.83 120.515 1781.83 M120.515 1778.13 Q126.325 1778.13 129.38 1782.74 Q132.459 1787.32 132.459 1796.07 Q132.459 1804.8 129.38 1809.4 Q126.325 1813.99 120.515 1813.99 Q114.704 1813.99 111.626 1809.4 Q108.57 1804.8 108.57 1796.07 Q108.57 1787.32 111.626 1782.74 Q114.704 1778.13 120.515 1778.13 Z\" fill=\"#000000\" fill-rule=\"evenodd\" fill-opacity=\"1\" /><path clip-path=\"url(#clip4500)\" d=\"M 0 0 M96.8573 1314.16 L85.0518 1332.61 L96.8573 1332.61 L96.8573 1314.16 M95.6304 1310.09 L101.51 1310.09 L101.51 1332.61 L106.441 1332.61 L106.441 1336.5 L101.51 1336.5 L101.51 1344.65 L96.8573 1344.65 L96.8573 1336.5 L81.2555 1336.5 L81.2555 1331.98 L95.6304 1310.09 Z\" fill=\"#000000\" fill-rule=\"evenodd\" fill-opacity=\"1\" /><path clip-path=\"url(#clip4500)\" d=\"M 0 0 M111.556 1310.09 L129.913 1310.09 L129.913 1314.02 L115.839 1314.02 L115.839 1322.49 Q116.857 1322.15 117.876 1321.98 Q118.894 1321.8 119.913 1321.8 Q125.7 1321.8 129.079 1324.97 Q132.459 1328.14 132.459 1333.56 Q132.459 1339.14 128.987 1342.24 Q125.515 1345.32 119.195 1345.32 Q117.019 1345.32 114.751 1344.95 Q112.505 1344.58 110.098 1343.84 L110.098 1339.14 Q112.181 1340.27 114.403 1340.83 Q116.626 1341.38 119.103 1341.38 Q123.107 1341.38 125.445 1339.28 Q127.783 1337.17 127.783 1333.56 Q127.783 1329.95 125.445 1327.84 Q123.107 1325.73 119.103 1325.73 Q117.228 1325.73 115.353 1326.15 Q113.501 1326.57 111.556 1327.45 L111.556 1310.09 Z\" fill=\"#000000\" fill-rule=\"evenodd\" fill-opacity=\"1\" /><path clip-path=\"url(#clip4500)\" d=\"M 0 0 M84.5425 841.417 L102.899 841.417 L102.899 845.353 L88.8249 845.353 L88.8249 853.825 Q89.8434 853.477 90.862 853.315 Q91.8805 853.13 92.899 853.13 Q98.686 853.13 102.066 856.302 Q105.445 859.473 105.445 864.889 Q105.445 870.468 101.973 873.57 Q98.5008 876.649 92.1814 876.649 Q90.0055 876.649 87.737 876.278 Q85.4916 875.908 83.0842 875.167 L83.0842 870.468 Q85.1675 871.602 87.3897 872.158 Q89.612 872.713 92.0888 872.713 Q96.0934 872.713 98.4314 870.607 Q100.769 868.501 100.769 864.889 Q100.769 861.278 98.4314 859.172 Q96.0934 857.065 92.0888 857.065 Q90.2138 857.065 88.3388 857.482 Q86.487 857.899 84.5425 858.778 L84.5425 841.417 Z\" fill=\"#000000\" fill-rule=\"evenodd\" fill-opacity=\"1\" /><path clip-path=\"url(#clip4500)\" d=\"M 0 0 M120.515 844.496 Q116.903 844.496 115.075 848.061 Q113.269 851.602 113.269 858.732 Q113.269 865.839 115.075 869.403 Q116.903 872.945 120.515 872.945 Q124.149 872.945 125.954 869.403 Q127.783 865.839 127.783 858.732 Q127.783 851.602 125.954 848.061 Q124.149 844.496 120.515 844.496 M120.515 840.792 Q126.325 840.792 129.38 845.399 Q132.459 849.982 132.459 858.732 Q132.459 867.459 129.38 872.065 Q126.325 876.649 120.515 876.649 Q114.704 876.649 111.626 872.065 Q108.57 867.459 108.57 858.732 Q108.57 849.982 111.626 845.399 Q114.704 840.792 120.515 840.792 Z\" fill=\"#000000\" fill-rule=\"evenodd\" fill-opacity=\"1\" /><path clip-path=\"url(#clip4500)\" d=\"M 0 0 M85.5379 372.748 L103.894 372.748 L103.894 376.684 L89.8203 376.684 L89.8203 385.156 Q90.8388 384.809 91.8573 384.647 Q92.8758 384.461 93.8943 384.461 Q99.6813 384.461 103.061 387.633 Q106.441 390.804 106.441 396.221 Q106.441 401.799 102.968 404.901 Q99.4962 407.98 93.1768 407.98 Q91.0008 407.98 88.7323 407.609 Q86.487 407.239 84.0796 406.498 L84.0796 401.799 Q86.1629 402.934 88.3851 403.489 Q90.6073 404.045 93.0842 404.045 Q97.0888 404.045 99.4267 401.938 Q101.765 399.832 101.765 396.221 Q101.765 392.609 99.4267 390.503 Q97.0888 388.397 93.0842 388.397 Q91.2092 388.397 89.3342 388.813 Q87.4823 389.23 85.5379 390.11 L85.5379 372.748 Z\" fill=\"#000000\" fill-rule=\"evenodd\" fill-opacity=\"1\" /><path clip-path=\"url(#clip4500)\" d=\"M 0 0 M111.556 372.748 L129.913 372.748 L129.913 376.684 L115.839 376.684 L115.839 385.156 Q116.857 384.809 117.876 384.647 Q118.894 384.461 119.913 384.461 Q125.7 384.461 129.079 387.633 Q132.459 390.804 132.459 396.221 Q132.459 401.799 128.987 404.901 Q125.515 407.98 119.195 407.98 Q117.019 407.98 114.751 407.609 Q112.505 407.239 110.098 406.498 L110.098 401.799 Q112.181 402.934 114.403 403.489 Q116.626 404.045 119.103 404.045 Q123.107 404.045 125.445 401.938 Q127.783 399.832 127.783 396.221 Q127.783 392.609 125.445 390.503 Q123.107 388.397 119.103 388.397 Q117.228 388.397 115.353 388.813 Q113.501 389.23 111.556 390.11 L111.556 372.748 Z\" fill=\"#000000\" fill-rule=\"evenodd\" fill-opacity=\"1\" /><path clip-path=\"url(#clip4500)\" d=\"M 0 0 M3523.37 2356.27 L3523.37 2366.4 L3535.43 2366.4 L3535.43 2370.95 L3523.37 2370.95 L3523.37 2390.3 Q3523.37 2394.66 3524.55 2395.9 Q3525.76 2397.14 3529.42 2397.14 L3535.43 2397.14 L3535.43 2402.04 L3529.42 2402.04 Q3522.64 2402.04 3520.06 2399.53 Q3517.48 2396.98 3517.48 2390.3 L3517.48 2370.95 L3513.19 2370.95 L3513.19 2366.4 L3517.48 2366.4 L3517.48 2356.27 L3523.37 2356.27 Z\" fill=\"#000000\" fill-rule=\"evenodd\" fill-opacity=\"1\" /><path clip-path=\"url(#clip4500)\" d=\"M 0 0 M3541.58 2366.4 L3547.43 2366.4 L3547.43 2402.04 L3541.58 2402.04 L3541.58 2366.4 M3541.58 2352.52 L3547.43 2352.52 L3547.43 2359.93 L3541.58 2359.93 L3541.58 2352.52 Z\" fill=\"#000000\" fill-rule=\"evenodd\" fill-opacity=\"1\" /><path clip-path=\"url(#clip4500)\" d=\"M 0 0 M3581.33 2373.24 Q3583.53 2369.29 3586.58 2367.41 Q3589.64 2365.54 3593.78 2365.54 Q3599.35 2365.54 3602.37 2369.45 Q3605.39 2373.33 3605.39 2380.53 L3605.39 2402.04 L3599.51 2402.04 L3599.51 2380.72 Q3599.51 2375.59 3597.69 2373.11 Q3595.88 2370.63 3592.15 2370.63 Q3587.6 2370.63 3584.96 2373.65 Q3582.32 2376.68 3582.32 2381.9 L3582.32 2402.04 L3576.43 2402.04 L3576.43 2380.72 Q3576.43 2375.56 3574.62 2373.11 Q3572.8 2370.63 3569.01 2370.63 Q3564.53 2370.63 3561.88 2373.68 Q3559.24 2376.71 3559.24 2381.9 L3559.24 2402.04 L3553.35 2402.04 L3553.35 2366.4 L3559.24 2366.4 L3559.24 2371.93 Q3561.25 2368.66 3564.05 2367.1 Q3566.85 2365.54 3570.7 2365.54 Q3574.58 2365.54 3577.29 2367.51 Q3580.03 2369.48 3581.33 2373.24 Z\" fill=\"#000000\" fill-rule=\"evenodd\" fill-opacity=\"1\" /><path clip-path=\"url(#clip4500)\" d=\"M 0 0 M3642.03 2382.76 L3642.03 2385.62 L3615.1 2385.62 Q3615.48 2391.67 3618.73 2394.85 Q3622.01 2398 3627.83 2398 Q3631.21 2398 3634.36 2397.17 Q3637.54 2396.35 3640.66 2394.69 L3640.66 2400.23 Q3637.51 2401.57 3634.2 2402.27 Q3630.89 2402.97 3627.48 2402.97 Q3618.95 2402.97 3613.96 2398 Q3608.99 2393.04 3608.99 2384.57 Q3608.99 2375.82 3613.7 2370.69 Q3618.44 2365.54 3626.46 2365.54 Q3633.66 2365.54 3637.83 2370.18 Q3642.03 2374.8 3642.03 2382.76 M3636.17 2381.04 Q3636.11 2376.23 3633.47 2373.37 Q3630.86 2370.5 3626.53 2370.5 Q3621.63 2370.5 3618.67 2373.27 Q3615.74 2376.04 3615.29 2381.07 L3636.17 2381.04 Z\" fill=\"#000000\" fill-rule=\"evenodd\" fill-opacity=\"1\" /><path clip-path=\"url(#clip4500)\" d=\"M 0 0 M-39.6438 1271.61 L-39.6438 1265.76 L-3.99584 1265.76 L-3.99584 1271.61 L-39.6438 1271.61 M-53.521 1271.61 L-53.521 1265.76 L-46.105 1265.76 L-46.105 1271.61 L-53.521 1271.61 Z\" fill=\"#000000\" fill-rule=\"evenodd\" fill-opacity=\"1\" /><path clip-path=\"url(#clip4500)\" d=\"M 0 0 M-25.5119 1229.98 L-3.99584 1229.98 L-3.99584 1235.84 L-25.321 1235.84 Q-30.3817 1235.84 -32.8962 1237.81 Q-35.4106 1239.78 -35.4106 1243.73 Q-35.4106 1248.47 -32.3869 1251.21 Q-29.3632 1253.95 -24.1433 1253.95 L-3.99584 1253.95 L-3.99584 1259.84 L-39.6438 1259.84 L-39.6438 1253.95 L-34.1056 1253.95 Q-37.3203 1251.85 -38.9117 1249.01 Q-40.5032 1246.15 -40.5032 1242.43 Q-40.5032 1236.28 -36.6837 1233.13 Q-32.8962 1229.98 -25.5119 1229.98 Z\" fill=\"#000000\" fill-rule=\"evenodd\" fill-opacity=\"1\" /><path clip-path=\"url(#clip4500)\" d=\"M 0 0 M-34.2329 1200.38 L-53.521 1200.38 L-53.521 1194.52 L-3.99584 1194.52 L-3.99584 1200.38 L-9.34304 1200.38 Q-6.16018 1202.23 -4.60058 1205.06 Q-3.07282 1207.86 -3.07282 1211.81 Q-3.07282 1218.27 -8.22904 1222.34 Q-13.3853 1226.38 -21.788 1226.38 Q-30.1907 1226.38 -35.3469 1222.34 Q-40.5032 1218.27 -40.5032 1211.81 Q-40.5032 1207.86 -38.9436 1205.06 Q-37.4158 1202.23 -34.2329 1200.38 M-21.788 1220.34 Q-15.3268 1220.34 -11.6347 1217.7 Q-7.97441 1215.02 -7.97441 1210.38 Q-7.97441 1205.73 -11.6347 1203.05 Q-15.3268 1200.38 -21.788 1200.38 Q-28.2492 1200.38 -31.9095 1203.05 Q-35.6016 1205.73 -35.6016 1210.38 Q-35.6016 1215.02 -31.9095 1217.7 Q-28.2492 1220.34 -21.788 1220.34 Z\" fill=\"#000000\" fill-rule=\"evenodd\" fill-opacity=\"1\" /><path clip-path=\"url(#clip4500)\" d=\"M 0 0 M-39.6438 1188.38 L-39.6438 1182.53 L-3.99584 1182.53 L-3.99584 1188.38 L-39.6438 1188.38 M-53.521 1188.38 L-53.521 1182.53 L-46.105 1182.53 L-46.105 1188.38 L-53.521 1188.38 Z\" fill=\"#000000\" fill-rule=\"evenodd\" fill-opacity=\"1\" /><path clip-path=\"url(#clip4500)\" d=\"M 0 0 M-38.2752 1150.73 L-32.8007 1150.73 Q-34.1693 1153.21 -34.8377 1155.73 Q-35.5379 1158.21 -35.5379 1160.75 Q-35.5379 1166.45 -31.9095 1169.6 Q-28.3128 1172.75 -21.788 1172.75 Q-15.2631 1172.75 -11.6347 1169.6 Q-8.03807 1166.45 -8.03807 1160.75 Q-8.03807 1158.21 -8.70647 1155.73 Q-9.40669 1153.21 -10.7753 1150.73 L-5.36447 1150.73 Q-4.21864 1153.18 -3.64573 1155.82 Q-3.07282 1158.43 -3.07282 1161.39 Q-3.07282 1169.44 -8.13355 1174.19 Q-13.1943 1178.93 -21.788 1178.93 Q-30.509 1178.93 -35.5061 1174.15 Q-40.5032 1169.35 -40.5032 1161.01 Q-40.5032 1158.3 -39.9303 1155.73 Q-39.3892 1153.15 -38.2752 1150.73 Z\" fill=\"#000000\" fill-rule=\"evenodd\" fill-opacity=\"1\" /><path clip-path=\"url(#clip4500)\" d=\"M 0 0 M-21.9153 1128.38 Q-21.9153 1135.48 -20.2921 1138.22 Q-18.6688 1140.96 -14.7539 1140.96 Q-11.6347 1140.96 -9.78864 1138.92 Q-7.97441 1136.85 -7.97441 1133.32 Q-7.97441 1128.45 -11.4119 1125.52 Q-14.8812 1122.56 -20.6103 1122.56 L-21.9153 1122.56 L-21.9153 1128.38 M-24.3343 1116.7 L-3.99584 1116.7 L-3.99584 1122.56 L-9.40669 1122.56 Q-6.16018 1124.57 -4.60058 1127.56 Q-3.07282 1130.55 -3.07282 1134.88 Q-3.07282 1140.35 -6.12835 1143.6 Q-9.21572 1146.81 -14.3719 1146.81 Q-20.3875 1146.81 -23.4431 1142.8 Q-26.4986 1138.76 -26.4986 1130.77 L-26.4986 1122.56 L-27.0715 1122.56 Q-31.1138 1122.56 -33.3099 1125.23 Q-35.5379 1127.88 -35.5379 1132.68 Q-35.5379 1135.74 -34.8059 1138.63 Q-34.0738 1141.53 -32.6097 1144.2 L-38.0205 1144.2 Q-39.2619 1140.99 -39.8666 1137.97 Q-40.5032 1134.94 -40.5032 1132.08 Q-40.5032 1124.34 -36.4928 1120.52 Q-32.4824 1116.7 -24.3343 1116.7 Z\" fill=\"#000000\" fill-rule=\"evenodd\" fill-opacity=\"1\" /><path clip-path=\"url(#clip4500)\" d=\"M 0 0 M-49.7653 1104.77 L-39.6438 1104.77 L-39.6438 1092.7 L-35.0923 1092.7 L-35.0923 1104.77 L-15.7406 1104.77 Q-11.3801 1104.77 -10.1387 1103.59 Q-8.89744 1102.38 -8.89744 1098.72 L-8.89744 1092.7 L-3.99584 1092.7 L-3.99584 1098.72 Q-3.99584 1105.5 -6.5103 1108.08 Q-9.05658 1110.66 -15.7406 1110.66 L-35.0923 1110.66 L-35.0923 1114.95 L-39.6438 1114.95 L-39.6438 1110.66 L-49.7653 1110.66 L-49.7653 1104.77 Z\" fill=\"#000000\" fill-rule=\"evenodd\" fill-opacity=\"1\" /><path clip-path=\"url(#clip4500)\" d=\"M 0 0 M-35.5379 1072.75 Q-35.5379 1077.46 -31.8458 1080.2 Q-28.1855 1082.93 -21.788 1082.93 Q-15.3905 1082.93 -11.6983 1080.23 Q-8.03807 1077.49 -8.03807 1072.75 Q-8.03807 1068.07 -11.7302 1065.33 Q-15.4223 1062.6 -21.788 1062.6 Q-28.1219 1062.6 -31.814 1065.33 Q-35.5379 1068.07 -35.5379 1072.75 M-40.5032 1072.75 Q-40.5032 1065.11 -35.5379 1060.75 Q-30.5727 1056.39 -21.788 1056.39 Q-13.0351 1056.39 -8.03807 1060.75 Q-3.07282 1065.11 -3.07282 1072.75 Q-3.07282 1080.42 -8.03807 1084.78 Q-13.0351 1089.11 -21.788 1089.11 Q-30.5727 1089.11 -35.5379 1084.78 Q-40.5032 1080.42 -40.5032 1072.75 Z\" fill=\"#000000\" fill-rule=\"evenodd\" fill-opacity=\"1\" /><path clip-path=\"url(#clip4500)\" d=\"M 0 0 M-34.1693 1029.59 Q-34.7422 1030.58 -34.9968 1031.75 Q-35.2833 1032.9 -35.2833 1034.3 Q-35.2833 1039.26 -32.0368 1041.94 Q-28.8221 1044.58 -22.7747 1044.58 L-3.99584 1044.58 L-3.99584 1050.47 L-39.6438 1050.47 L-39.6438 1044.58 L-34.1056 1044.58 Q-37.3521 1042.73 -38.9117 1039.77 Q-40.5032 1036.81 -40.5032 1032.58 Q-40.5032 1031.98 -40.4077 1031.24 Q-40.344 1030.51 -40.1849 1029.62 L-34.1693 1029.59 Z\" fill=\"#000000\" fill-rule=\"evenodd\" fill-opacity=\"1\" /><path clip-path=\"url(#clip4500)\" d=\"M 0 0 M-38.5935 1000.72 L-33.0553 1000.72 Q-34.3284 1003.2 -34.965 1005.88 Q-35.6016 1008.55 -35.6016 1011.41 Q-35.6016 1015.78 -34.2648 1017.97 Q-32.928 1020.14 -30.2544 1020.14 Q-28.2174 1020.14 -27.0397 1018.58 Q-25.8939 1017.02 -24.8435 1012.31 L-24.3979 1010.3 Q-23.0611 1004.06 -20.6103 1001.45 Q-18.1914 998.811 -13.8309 998.811 Q-8.86561 998.811 -5.96921 1002.76 Q-3.07282 1006.67 -3.07282 1013.55 Q-3.07282 1016.41 -3.64573 1019.53 Q-4.18681 1022.62 -5.30081 1026.06 L-11.3482 1026.06 Q-9.66132 1022.81 -8.80195 1019.66 Q-7.97441 1016.51 -7.97441 1013.42 Q-7.97441 1009.28 -9.37486 1007.05 Q-10.8071 1004.83 -13.3853 1004.83 Q-15.7724 1004.83 -17.0455 1006.45 Q-18.3187 1008.04 -19.4963 1013.48 L-19.9738 1015.52 Q-21.1196 1020.96 -23.4749 1023.38 Q-25.862 1025.8 -29.9998 1025.8 Q-35.0287 1025.8 -37.7659 1022.24 Q-40.5032 1018.67 -40.5032 1012.12 Q-40.5032 1008.87 -40.0257 1006 Q-39.5483 1003.14 -38.5935 1000.72 Z\" fill=\"#000000\" fill-rule=\"evenodd\" fill-opacity=\"1\" /><polyline clip-path=\"url(#clip4502)\" style=\"stroke:#009af9; stroke-width:4; stroke-opacity:1; fill:none\" points=\"\n",
       "  6761.71,521.256 6724,774.337 6703.06,736.843 6654.87,877.444 6638.12,896.191 6592.03,1814.78 6568.99,1814.78 6527.09,2161.6 6510.33,2086.61 6464.25,999.298 \n",
       "  6447.49,933.684 6401.4,793.084 6380.46,783.71 6342.75,680.603 6321.8,699.35 6275.72,633.736 6240.1,624.363 6210.78,614.99 6189.83,652.483 6145.84,736.843 \n",
       "  6129.08,718.097 6080.9,755.59 6064.14,764.964 6022.24,830.577 5997.11,868.071 5953.12,821.204 5936.36,858.697 5888.18,802.457 5867.23,849.324 5829.52,811.83 \n",
       "  5806.48,802.457 5760.39,614.99 5733.16,633.736 5697.55,633.736 5676.6,624.363 5632.61,577.496 5615.85,511.882 5573.96,399.402 5557.2,399.402 5511.11,502.509 \n",
       "  5471.31,493.136 5448.27,361.908 5427.32,352.535 5381.23,324.415 5364.48,305.668 5316.29,333.788 5295.35,333.788 5259.74,418.149 5234.6,436.895 5188.51,361.908 \n",
       "  5171.75,343.162 5125.67,352.535 5104.72,427.522 5060.73,258.801 5041.88,240.054 4995.79,249.428 4979.03,249.428 4935.04,333.788 4912,324.415 4868.01,361.908 \n",
       "  4851.25,305.668 4809.35,343.162 4792.59,343.162 4746.51,380.655 4706.71,390.028 4679.47,493.136 4664.81,502.509 4616.63,427.522 4599.87,436.895 4553.79,568.123 \n",
       "  4532.84,577.496 4488.85,596.243 4469.99,624.363 4423.91,549.376 4407.15,558.749 4363.16,671.23 4342.21,661.856 4296.13,605.616 4277.27,624.363 4231.19,596.243 \n",
       "  4210.24,596.243 4172.53,549.376 4151.58,540.003 4103.4,465.016 4086.64,455.642 4044.75,390.028 4027.99,380.655 3984,455.642 3944.2,465.016 3914.87,474.389 \n",
       "  3898.11,493.136 3852.03,540.003 3835.27,558.749 3791.28,718.097 3770.33,727.47 3724.24,671.23 3705.39,661.856 3659.3,586.869 3638.36,586.869 3594.37,736.843 \n",
       "  3577.61,727.47 3531.52,793.084 3512.67,811.83 3468.68,783.71 3447.73,783.71 3403.74,718.097 3382.79,727.47 3338.8,736.843 3322.04,764.964 3278.05,633.736 \n",
       "  3257.1,605.616 3219.4,746.217 3179.59,736.843 3148.17,596.243 3131.41,614.99 3087.42,474.389 3066.48,483.762 3020.39,568.123 3003.63,577.496 2957.55,577.496 \n",
       "  2934.5,586.869 2896.8,502.509 2875.85,502.509 2827.67,521.256 2810.91,540.003 2764.82,483.762 2741.78,502.509 2699.88,474.389 2683.13,465.016 2637.04,324.415 \n",
       "  2620.28,361.908 2574.2,380.655 2553.25,455.642 2515.54,493.136 2494.59,511.882 2450.6,493.136 2414.99,511.882 2383.57,408.775 2360.53,418.149 2324.91,305.668 \n",
       "  2301.87,277.548 2255.79,155.694 2239.03,118.201 2195.04,118.201 2169.9,108.827 2128,315.041 2111.24,268.175 2063.06,174.441 2046.31,155.694 2002.31,155.694 \n",
       "  1979.27,277.548 1935.28,352.535 1918.52,352.535 1872.44,343.162 1855.68,343.162 1811.69,193.188 1788.64,230.681 1753.03,511.882 1729.99,511.882 1686,390.028 \n",
       "  1650.39,446.269 1621.06,418.149 1598.02,455.642 1556.12,689.977 1539.36,755.59 1491.18,596.243 1474.42,596.243 1432.53,568.123 1407.39,493.136 1363.4,511.882 \n",
       "  1346.64,558.749 1298.46,680.603 1275.42,652.483 1239.81,643.11 1216.76,680.603 1170.68,661.856 1153.92,671.23 1107.83,427.522 1084.79,399.402 1042.89,455.642 \n",
       "  1026.14,371.282 984.24,315.041 967.481,286.921 921.396,483.762 881.594,465.016 858.552,596.243 833.414,633.736 791.518,764.964 774.759,736.843 726.579,755.59 \n",
       "  703.536,718.097 670.019,718.097 644.882,680.603 598.796,727.47 582.037,689.977 535.952,624.363 512.909,586.869 471.013,483.762 454.254,493.136 393.505,296.295 \n",
       "  \n",
       "  \"/>\n",
       "<polyline clip-path=\"url(#clip4502)\" style=\"stroke:#e26f46; stroke-width:4; stroke-opacity:1; fill:none\" points=\"\n",
       "  6761.71,755.59 6724,736.843 6703.06,886.817 6654.87,896.191 6638.12,1580.45 6592.03,1814.78 6568.99,1992.88 6527.09,2086.61 6510.33,1093.03 6464.25,933.684 \n",
       "  6447.49,811.83 6401.4,783.71 6380.46,774.337 6342.75,699.35 6321.8,643.11 6275.72,624.363 6240.1,633.736 6210.78,652.483 6189.83,727.47 6145.84,718.097 \n",
       "  6129.08,764.964 6080.9,764.964 6064.14,821.204 6022.24,868.071 5997.11,839.951 5953.12,858.697 5936.36,830.577 5888.18,849.324 5867.23,764.964 5829.52,802.457 \n",
       "  5806.48,586.869 5760.39,633.736 5733.16,596.243 5697.55,624.363 5676.6,530.629 5632.61,511.882 5615.85,483.762 5573.96,399.402 5557.2,465.016 5511.11,380.655 \n",
       "  5471.31,305.668 5448.27,296.295 5427.32,277.548 5381.23,286.921 5364.48,277.548 5316.29,352.535 5295.35,465.016 5259.74,455.642 5234.6,361.908 5188.51,333.788 \n",
       "  5171.75,371.282 5125.67,390.028 5104.72,277.548 5060.73,277.548 5041.88,258.801 4995.79,268.175 4979.03,268.175 4935.04,333.788 4912,352.535 4868.01,296.295 \n",
       "  4851.25,390.028 4809.35,399.402 4792.59,315.041 4746.51,286.921 4706.71,540.003 4679.47,558.749 4664.81,418.149 4616.63,427.522 4599.87,577.496 4553.79,586.869 \n",
       "  4532.84,614.99 4488.85,586.869 4469.99,558.749 4423.91,614.99 4407.15,671.23 4363.16,633.736 4342.21,614.99 4296.13,614.99 4277.27,596.243 \n",
       "  \"/>\n",
       "<polyline clip-path=\"url(#clip4502)\" style=\"stroke:#3da44d; stroke-width:4; stroke-opacity:1; fill:none\" points=\"\n",
       "  6761.71,774.337 6724,736.843 6703.06,877.444 6654.87,896.191 6638.12,1814.78 6592.03,1814.78 6568.99,2161.6 6527.09,2086.61 6510.33,999.298 6464.25,933.684 \n",
       "  6447.49,793.084 6401.4,783.71 6380.46,680.603 6342.75,699.35 6321.8,633.736 6275.72,624.363 6240.1,614.99 6210.78,652.483 6189.83,736.843 6145.84,718.097 \n",
       "  6129.08,755.59 6080.9,764.964 6064.14,830.577 6022.24,868.071 5997.11,821.204 5953.12,858.697 5936.36,802.457 5888.18,849.324 5867.23,811.83 5829.52,802.457 \n",
       "  5806.48,614.99 5760.39,633.736 5733.16,633.736 5697.55,624.363 5676.6,577.496 5632.61,511.882 5615.85,399.402 5573.96,399.402 5557.2,502.509 5511.11,493.136 \n",
       "  5471.31,361.908 5448.27,352.535 5427.32,324.415 5381.23,305.668 5364.48,333.788 5316.29,333.788 5295.35,418.149 5259.74,436.895 5234.6,361.908 5188.51,343.162 \n",
       "  5171.75,352.535 5125.67,427.522 5104.72,258.801 5060.73,240.054 5041.88,249.428 4995.79,249.428 4979.03,333.788 4935.04,324.415 4912,361.908 4868.01,305.668 \n",
       "  4851.25,343.162 4809.35,343.162 4792.59,380.655 4746.51,390.028 4706.71,493.136 4679.47,502.509 4664.81,427.522 4616.63,436.895 4599.87,568.123 4553.79,577.496 \n",
       "  4532.84,596.243 4488.85,624.363 4469.99,549.376 4423.91,558.749 4407.15,671.23 4363.16,661.856 4342.21,605.616 4296.13,624.363 4277.27,596.243 4231.19,596.243 \n",
       "  4210.24,549.376 4172.53,540.003 4151.58,465.016 4103.4,455.642 4086.64,390.028 4044.75,380.655 4027.99,455.642 3984,465.016 3944.2,474.389 3914.87,493.136 \n",
       "  3898.11,540.003 3852.03,558.749 3835.27,718.097 3791.28,727.47 3770.33,671.23 3724.24,661.856 3705.39,586.869 3659.3,586.869 3638.36,736.843 3594.37,727.47 \n",
       "  3577.61,793.084 3531.52,811.83 3512.67,783.71 3468.68,783.71 3447.73,718.097 3403.74,727.47 3382.79,736.843 3338.8,764.964 3322.04,633.736 3278.05,605.616 \n",
       "  3257.1,746.217 3219.4,736.843 3179.59,596.243 3148.17,614.99 3131.41,474.389 3087.42,483.762 3066.48,568.123 3020.39,577.496 3003.63,577.496 2957.55,586.869 \n",
       "  2934.5,502.509 2896.8,502.509 2875.85,521.256 2827.67,540.003 2810.91,483.762 2764.82,502.509 2741.78,474.389 2699.88,465.016 2683.13,324.415 2637.04,361.908 \n",
       "  2620.28,380.655 2574.2,455.642 2553.25,493.136 2515.54,511.882 2494.59,493.136 2450.6,511.882 2414.99,408.775 2383.57,418.149 2360.53,305.668 2324.91,277.548 \n",
       "  2301.87,155.694 2255.79,118.201 2239.03,118.201 2195.04,108.827 2169.9,315.041 2128,268.175 2111.24,174.441 2063.06,258.801 2046.31,155.694 2002.31,277.548 \n",
       "  1979.27,352.535 1935.28,352.535 1918.52,343.162 1872.44,343.162 1855.68,193.188 1811.69,230.681 1788.64,511.882 1753.03,511.882 1729.99,390.028 1686,446.269 \n",
       "  1650.39,418.149 1621.06,455.642 1598.02,689.977 1556.12,755.59 1539.36,596.243 1491.18,596.243 1474.42,568.123 1432.53,493.136 1407.39,511.882 1363.4,558.749 \n",
       "  1346.64,680.603 1298.46,652.483 1275.42,643.11 1239.81,680.603 1216.76,661.856 1170.68,671.23 1153.92,427.522 1107.83,399.402 1084.79,455.642 1042.89,371.282 \n",
       "  1026.14,315.041 984.24,286.921 967.481,483.762 921.396,465.016 881.594,596.243 858.552,633.736 833.414,764.964 791.518,736.843 774.759,755.59 726.579,718.097 \n",
       "  703.536,718.097 670.019,680.603 644.882,727.47 598.796,689.977 582.037,624.363 535.952,586.869 512.909,483.762 471.013,493.136 454.254,296.295 \n",
       "  \"/>\n",
       "<path clip-path=\"url(#clip4500)\" d=\"\n",
       "M412.459 648.684 L1290.65 648.684 L1290.65 406.764 L412.459 406.764  Z\n",
       "  \" fill=\"#ffffff\" fill-rule=\"evenodd\" fill-opacity=\"1\"/>\n",
       "<polyline clip-path=\"url(#clip4500)\" style=\"stroke:#000000; stroke-width:4; stroke-opacity:1; fill:none\" points=\"\n",
       "  412.459,648.684 1290.65,648.684 1290.65,406.764 412.459,406.764 412.459,648.684 \n",
       "  \"/>\n",
       "<polyline clip-path=\"url(#clip4500)\" style=\"stroke:#009af9; stroke-width:4; stroke-opacity:1; fill:none\" points=\"\n",
       "  482.459,467.244 902.459,467.244 \n",
       "  \"/>\n",
       "<path clip-path=\"url(#clip4500)\" d=\"M 0 0 M985.862 471.492 Q980.7 471.492 978.709 472.672 Q976.718 473.853 976.718 476.7 Q976.718 478.969 978.2 480.311 Q979.704 481.631 982.274 481.631 Q985.815 481.631 987.945 479.131 Q990.098 476.607 990.098 472.441 L990.098 471.492 L985.862 471.492 M994.357 469.733 L994.357 484.524 L990.098 484.524 L990.098 480.589 Q988.639 482.95 986.464 484.084 Q984.288 485.195 981.139 485.195 Q977.158 485.195 974.797 482.973 Q972.459 480.728 972.459 476.978 Q972.459 472.603 975.376 470.381 Q978.315 468.158 984.126 468.158 L990.098 468.158 L990.098 467.742 Q990.098 464.802 988.153 463.205 Q986.232 461.584 982.737 461.584 Q980.514 461.584 978.408 462.117 Q976.302 462.649 974.357 463.714 L974.357 459.779 Q976.695 458.876 978.894 458.436 Q981.093 457.973 983.176 457.973 Q988.801 457.973 991.579 460.89 Q994.357 463.807 994.357 469.733 Z\" fill=\"#000000\" fill-rule=\"evenodd\" fill-opacity=\"1\" /><path clip-path=\"url(#clip4500)\" d=\"M 0 0 M1017.48 459.594 L1017.48 463.575 Q1015.68 462.58 1013.85 462.094 Q1012.04 461.584 1010.19 461.584 Q1006.05 461.584 1003.76 464.223 Q1001.46 466.839 1001.46 471.584 Q1001.46 476.33 1003.76 478.969 Q1006.05 481.584 1010.19 481.584 Q1012.04 481.584 1013.85 481.098 Q1015.68 480.589 1017.48 479.594 L1017.48 483.529 Q1015.7 484.362 1013.78 484.779 Q1011.88 485.195 1009.73 485.195 Q1003.87 485.195 1000.42 481.515 Q996.973 477.834 996.973 471.584 Q996.973 465.242 1000.44 461.608 Q1003.94 457.973 1010.01 457.973 Q1011.97 457.973 1013.85 458.39 Q1015.72 458.783 1017.48 459.594 Z\" fill=\"#000000\" fill-rule=\"evenodd\" fill-opacity=\"1\" /><path clip-path=\"url(#clip4500)\" d=\"M 0 0 M1026.16 451.237 L1026.16 458.598 L1034.94 458.598 L1034.94 461.908 L1026.16 461.908 L1026.16 475.982 Q1026.16 479.154 1027.02 480.057 Q1027.9 480.959 1030.56 480.959 L1034.94 480.959 L1034.94 484.524 L1030.56 484.524 Q1025.63 484.524 1023.75 482.695 Q1021.88 480.844 1021.88 475.982 L1021.88 461.908 L1018.76 461.908 L1018.76 458.598 L1021.88 458.598 L1021.88 451.237 L1026.16 451.237 Z\" fill=\"#000000\" fill-rule=\"evenodd\" fill-opacity=\"1\" /><path clip-path=\"url(#clip4500)\" d=\"M 0 0 M1038.96 474.293 L1038.96 458.598 L1043.22 458.598 L1043.22 474.131 Q1043.22 477.811 1044.66 479.663 Q1046.09 481.492 1048.96 481.492 Q1052.41 481.492 1054.4 479.293 Q1056.42 477.094 1056.42 473.297 L1056.42 458.598 L1060.68 458.598 L1060.68 484.524 L1056.42 484.524 L1056.42 480.543 Q1054.87 482.904 1052.81 484.061 Q1050.77 485.195 1048.06 485.195 Q1043.59 485.195 1041.28 482.418 Q1038.96 479.64 1038.96 474.293 M1049.68 457.973 L1049.68 457.973 Z\" fill=\"#000000\" fill-rule=\"evenodd\" fill-opacity=\"1\" /><path clip-path=\"url(#clip4500)\" d=\"M 0 0 M1076.93 471.492 Q1071.76 471.492 1069.77 472.672 Q1067.78 473.853 1067.78 476.7 Q1067.78 478.969 1069.26 480.311 Q1070.77 481.631 1073.34 481.631 Q1076.88 481.631 1079.01 479.131 Q1081.16 476.607 1081.16 472.441 L1081.16 471.492 L1076.93 471.492 M1085.42 469.733 L1085.42 484.524 L1081.16 484.524 L1081.16 480.589 Q1079.7 482.95 1077.53 484.084 Q1075.35 485.195 1072.2 485.195 Q1068.22 485.195 1065.86 482.973 Q1063.52 480.728 1063.52 476.978 Q1063.52 472.603 1066.44 470.381 Q1069.38 468.158 1075.19 468.158 L1081.16 468.158 L1081.16 467.742 Q1081.16 464.802 1079.22 463.205 Q1077.3 461.584 1073.8 461.584 Q1071.58 461.584 1069.47 462.117 Q1067.37 462.649 1065.42 463.714 L1065.42 459.779 Q1067.76 458.876 1069.96 458.436 Q1072.16 457.973 1074.24 457.973 Q1079.87 457.973 1082.64 460.89 Q1085.42 463.807 1085.42 469.733 Z\" fill=\"#000000\" fill-rule=\"evenodd\" fill-opacity=\"1\" /><path clip-path=\"url(#clip4500)\" d=\"M 0 0 M1089.89 448.506 L1094.15 448.506 L1094.15 484.524 L1089.89 484.524 L1089.89 448.506 Z\" fill=\"#000000\" fill-rule=\"evenodd\" fill-opacity=\"1\" /><path clip-path=\"url(#clip4500)\" d=\"M 0 0 M1115.14 459.362 L1115.14 463.39 Q1113.34 462.464 1111.39 462.001 Q1109.45 461.538 1107.37 461.538 Q1104.19 461.538 1102.6 462.51 Q1101.02 463.483 1101.02 465.427 Q1101.02 466.908 1102.16 467.765 Q1103.29 468.598 1106.72 469.362 L1108.18 469.686 Q1112.71 470.658 1114.61 472.441 Q1116.53 474.2 1116.53 477.371 Q1116.53 480.982 1113.66 483.089 Q1110.81 485.195 1105.81 485.195 Q1103.73 485.195 1101.46 484.779 Q1099.22 484.385 1096.72 483.575 L1096.72 479.177 Q1099.08 480.404 1101.37 481.029 Q1103.66 481.631 1105.91 481.631 Q1108.92 481.631 1110.54 480.612 Q1112.16 479.57 1112.16 477.695 Q1112.16 475.959 1110.98 475.033 Q1109.82 474.107 1105.86 473.251 L1104.38 472.904 Q1100.42 472.07 1098.66 470.358 Q1096.9 468.621 1096.9 465.612 Q1096.9 461.955 1099.5 459.964 Q1102.09 457.973 1106.86 457.973 Q1109.22 457.973 1111.3 458.321 Q1113.38 458.668 1115.14 459.362 Z\" fill=\"#000000\" fill-rule=\"evenodd\" fill-opacity=\"1\" /><polyline clip-path=\"url(#clip4500)\" style=\"stroke:#e26f46; stroke-width:4; stroke-opacity:1; fill:none\" points=\"\n",
       "  482.459,527.724 902.459,527.724 \n",
       "  \"/>\n",
       "<path clip-path=\"url(#clip4500)\" d=\"M 0 0 M988.963 508.986 L988.963 512.527 L984.889 512.527 Q982.598 512.527 981.695 513.453 Q980.815 514.379 980.815 516.787 L980.815 519.078 L987.829 519.078 L987.829 522.388 L980.815 522.388 L980.815 545.004 L976.533 545.004 L976.533 522.388 L972.459 522.388 L972.459 519.078 L976.533 519.078 L976.533 517.273 Q976.533 512.944 978.547 510.976 Q980.561 508.986 984.936 508.986 L988.963 508.986 Z\" fill=\"#000000\" fill-rule=\"evenodd\" fill-opacity=\"1\" /><path clip-path=\"url(#clip4500)\" d=\"M 0 0 M1003.48 522.064 Q1000.05 522.064 998.061 524.75 Q996.07 527.412 996.07 532.064 Q996.07 536.717 998.038 539.402 Q1000.03 542.064 1003.48 542.064 Q1006.88 542.064 1008.87 539.379 Q1010.86 536.694 1010.86 532.064 Q1010.86 527.458 1008.87 524.773 Q1006.88 522.064 1003.48 522.064 M1003.48 518.453 Q1009.03 518.453 1012.2 522.064 Q1015.38 525.675 1015.38 532.064 Q1015.38 538.43 1012.2 542.064 Q1009.03 545.675 1003.48 545.675 Q997.899 545.675 994.727 542.064 Q991.579 538.43 991.579 532.064 Q991.579 525.675 994.727 522.064 Q997.899 518.453 1003.48 518.453 Z\" fill=\"#000000\" fill-rule=\"evenodd\" fill-opacity=\"1\" /><path clip-path=\"url(#clip4500)\" d=\"M 0 0 M1034.87 523.06 Q1034.15 522.643 1033.29 522.458 Q1032.46 522.25 1031.44 522.25 Q1027.83 522.25 1025.88 524.611 Q1023.96 526.949 1023.96 531.347 L1023.96 545.004 L1019.68 545.004 L1019.68 519.078 L1023.96 519.078 L1023.96 523.106 Q1025.31 520.745 1027.46 519.611 Q1029.61 518.453 1032.69 518.453 Q1033.13 518.453 1033.66 518.523 Q1034.19 518.569 1034.84 518.685 L1034.87 523.06 Z\" fill=\"#000000\" fill-rule=\"evenodd\" fill-opacity=\"1\" /><path clip-path=\"url(#clip4500)\" d=\"M 0 0 M1056.95 520.074 L1056.95 524.055 Q1055.14 523.06 1053.32 522.574 Q1051.51 522.064 1049.66 522.064 Q1045.51 522.064 1043.22 524.703 Q1040.93 527.319 1040.93 532.064 Q1040.93 536.81 1043.22 539.449 Q1045.51 542.064 1049.66 542.064 Q1051.51 542.064 1053.32 541.578 Q1055.14 541.069 1056.95 540.074 L1056.95 544.009 Q1055.17 544.842 1053.25 545.259 Q1051.35 545.675 1049.19 545.675 Q1043.34 545.675 1039.89 541.995 Q1036.44 538.314 1036.44 532.064 Q1036.44 525.722 1039.91 522.088 Q1043.41 518.453 1049.47 518.453 Q1051.44 518.453 1053.32 518.87 Q1055.19 519.263 1056.95 520.074 Z\" fill=\"#000000\" fill-rule=\"evenodd\" fill-opacity=\"1\" /><path clip-path=\"url(#clip4500)\" d=\"M 0 0 M1073.2 531.972 Q1068.04 531.972 1066.05 533.152 Q1064.06 534.333 1064.06 537.18 Q1064.06 539.449 1065.54 540.791 Q1067.04 542.111 1069.61 542.111 Q1073.15 542.111 1075.28 539.611 Q1077.44 537.087 1077.44 532.921 L1077.44 531.972 L1073.2 531.972 M1081.69 530.213 L1081.69 545.004 L1077.44 545.004 L1077.44 541.069 Q1075.98 543.43 1073.8 544.564 Q1071.63 545.675 1068.48 545.675 Q1064.5 545.675 1062.13 543.453 Q1059.8 541.208 1059.8 537.458 Q1059.8 533.083 1062.71 530.861 Q1065.65 528.638 1071.46 528.638 L1077.44 528.638 L1077.44 528.222 Q1077.44 525.282 1075.49 523.685 Q1073.57 522.064 1070.07 522.064 Q1067.85 522.064 1065.75 522.597 Q1063.64 523.129 1061.69 524.194 L1061.69 520.259 Q1064.03 519.356 1066.23 518.916 Q1068.43 518.453 1070.51 518.453 Q1076.14 518.453 1078.92 521.37 Q1081.69 524.287 1081.69 530.213 Z\" fill=\"#000000\" fill-rule=\"evenodd\" fill-opacity=\"1\" /><path clip-path=\"url(#clip4500)\" d=\"M 0 0 M1102.69 519.842 L1102.69 523.87 Q1100.88 522.944 1098.94 522.481 Q1097 522.018 1094.91 522.018 Q1091.74 522.018 1090.14 522.99 Q1088.57 523.963 1088.57 525.907 Q1088.57 527.388 1089.7 528.245 Q1090.84 529.078 1094.26 529.842 L1095.72 530.166 Q1100.26 531.138 1102.16 532.921 Q1104.08 534.68 1104.08 537.851 Q1104.08 541.462 1101.21 543.569 Q1098.36 545.675 1093.36 545.675 Q1091.28 545.675 1089.01 545.259 Q1086.76 544.865 1084.26 544.055 L1084.26 539.657 Q1086.63 540.884 1088.92 541.509 Q1091.21 542.111 1093.45 542.111 Q1096.46 542.111 1098.08 541.092 Q1099.7 540.05 1099.7 538.175 Q1099.7 536.439 1098.52 535.513 Q1097.37 534.587 1093.41 533.731 L1091.93 533.384 Q1087.97 532.55 1086.21 530.838 Q1084.45 529.101 1084.45 526.092 Q1084.45 522.435 1087.04 520.444 Q1089.63 518.453 1094.4 518.453 Q1096.76 518.453 1098.85 518.801 Q1100.93 519.148 1102.69 519.842 Z\" fill=\"#000000\" fill-rule=\"evenodd\" fill-opacity=\"1\" /><path clip-path=\"url(#clip4500)\" d=\"M 0 0 M1112.76 511.717 L1112.76 519.078 L1121.53 519.078 L1121.53 522.388 L1112.76 522.388 L1112.76 536.462 Q1112.76 539.634 1113.62 540.537 Q1114.5 541.439 1117.16 541.439 L1121.53 541.439 L1121.53 545.004 L1117.16 545.004 Q1112.23 545.004 1110.35 543.175 Q1108.48 541.324 1108.48 536.462 L1108.48 522.388 L1105.35 522.388 L1105.35 519.078 L1108.48 519.078 L1108.48 511.717 L1112.76 511.717 Z\" fill=\"#000000\" fill-rule=\"evenodd\" fill-opacity=\"1\" /><polyline clip-path=\"url(#clip4500)\" style=\"stroke:#3da44d; stroke-width:4; stroke-opacity:1; fill:none\" points=\"\n",
       "  482.459,588.204 902.459,588.204 \n",
       "  \"/>\n",
       "<path clip-path=\"url(#clip4500)\" d=\"M 0 0 M976.741 601.595 L976.741 615.345 L972.459 615.345 L972.459 579.558 L976.741 579.558 L976.741 583.493 Q978.084 581.179 980.121 580.068 Q982.181 578.933 985.028 578.933 Q989.751 578.933 992.69 582.683 Q995.653 586.433 995.653 592.544 Q995.653 598.655 992.69 602.405 Q989.751 606.155 985.028 606.155 Q982.181 606.155 980.121 605.044 Q978.084 603.91 976.741 601.595 M991.232 592.544 Q991.232 587.845 989.288 585.183 Q987.366 582.498 983.987 582.498 Q980.607 582.498 978.663 585.183 Q976.741 587.845 976.741 592.544 Q976.741 597.243 978.663 599.929 Q980.607 602.591 983.987 602.591 Q987.366 602.591 989.288 599.929 Q991.232 597.243 991.232 592.544 Z\" fill=\"#000000\" fill-rule=\"evenodd\" fill-opacity=\"1\" /><path clip-path=\"url(#clip4500)\" d=\"M 0 0 M1015.14 583.54 Q1014.43 583.123 1013.57 582.938 Q1012.74 582.73 1011.72 582.73 Q1008.11 582.73 1006.16 585.091 Q1004.24 587.429 1004.24 591.827 L1004.24 605.484 L999.959 605.484 L999.959 579.558 L1004.24 579.558 L1004.24 583.586 Q1005.58 581.225 1007.74 580.091 Q1009.89 578.933 1012.97 578.933 Q1013.41 578.933 1013.94 579.003 Q1014.47 579.049 1015.12 579.165 L1015.14 583.54 Z\" fill=\"#000000\" fill-rule=\"evenodd\" fill-opacity=\"1\" /><path clip-path=\"url(#clip4500)\" d=\"M 0 0 M1040.75 591.456 L1040.75 593.54 L1021.16 593.54 Q1021.44 597.938 1023.8 600.253 Q1026.19 602.544 1030.42 602.544 Q1032.88 602.544 1035.17 601.942 Q1037.48 601.341 1039.75 600.137 L1039.75 604.165 Q1037.46 605.137 1035.05 605.646 Q1032.64 606.155 1030.17 606.155 Q1023.96 606.155 1020.33 602.544 Q1016.72 598.933 1016.72 592.776 Q1016.72 586.41 1020.14 582.683 Q1023.59 578.933 1029.43 578.933 Q1034.66 578.933 1037.69 582.313 Q1040.75 585.669 1040.75 591.456 M1036.49 590.206 Q1036.44 586.711 1034.52 584.628 Q1032.62 582.544 1029.47 582.544 Q1025.91 582.544 1023.75 584.558 Q1021.63 586.572 1021.3 590.23 L1036.49 590.206 Z\" fill=\"#000000\" fill-rule=\"evenodd\" fill-opacity=\"1\" /><path clip-path=\"url(#clip4500)\" d=\"M 0 0 M1042.16 579.558 L1046.67 579.558 L1054.77 601.317 L1062.88 579.558 L1067.39 579.558 L1057.67 605.484 L1051.88 605.484 L1042.16 579.558 Z\" fill=\"#000000\" fill-rule=\"evenodd\" fill-opacity=\"1\" /><path clip-path=\"url(#clip4500)\" d=\"M 0 0 M1071.86 579.558 L1076.12 579.558 L1076.12 605.484 L1071.86 605.484 L1071.86 579.558 M1071.86 569.466 L1076.12 569.466 L1076.12 574.859 L1071.86 574.859 L1071.86 569.466 Z\" fill=\"#000000\" fill-rule=\"evenodd\" fill-opacity=\"1\" /><path clip-path=\"url(#clip4500)\" d=\"M 0 0 M1090.63 582.544 Q1087.2 582.544 1085.21 585.23 Q1083.22 587.892 1083.22 592.544 Q1083.22 597.197 1085.19 599.882 Q1087.18 602.544 1090.63 602.544 Q1094.03 602.544 1096.02 599.859 Q1098.01 597.174 1098.01 592.544 Q1098.01 587.938 1096.02 585.253 Q1094.03 582.544 1090.63 582.544 M1090.63 578.933 Q1096.19 578.933 1099.36 582.544 Q1102.53 586.155 1102.53 592.544 Q1102.53 598.91 1099.36 602.544 Q1096.19 606.155 1090.63 606.155 Q1085.05 606.155 1081.88 602.544 Q1078.73 598.91 1078.73 592.544 Q1078.73 586.155 1081.88 582.544 Q1085.05 578.933 1090.63 578.933 Z\" fill=\"#000000\" fill-rule=\"evenodd\" fill-opacity=\"1\" /><path clip-path=\"url(#clip4500)\" d=\"M 0 0 M1106.56 595.253 L1106.56 579.558 L1110.81 579.558 L1110.81 595.091 Q1110.81 598.771 1112.25 600.623 Q1113.69 602.452 1116.56 602.452 Q1120 602.452 1122 600.253 Q1124.01 598.054 1124.01 594.257 L1124.01 579.558 L1128.27 579.558 L1128.27 605.484 L1124.01 605.484 L1124.01 601.503 Q1122.46 603.864 1120.4 605.021 Q1118.36 606.155 1115.65 606.155 Q1111.19 606.155 1108.87 603.378 Q1106.56 600.6 1106.56 595.253 M1117.27 578.933 L1117.27 578.933 Z\" fill=\"#000000\" fill-rule=\"evenodd\" fill-opacity=\"1\" /><path clip-path=\"url(#clip4500)\" d=\"M 0 0 M1149.26 580.322 L1149.26 584.35 Q1147.46 583.424 1145.51 582.961 Q1143.57 582.498 1141.49 582.498 Q1138.31 582.498 1136.72 583.47 Q1135.14 584.443 1135.14 586.387 Q1135.14 587.868 1136.28 588.725 Q1137.41 589.558 1140.84 590.322 L1142.3 590.646 Q1146.83 591.618 1148.73 593.401 Q1150.65 595.16 1150.65 598.331 Q1150.65 601.942 1147.78 604.049 Q1144.93 606.155 1139.93 606.155 Q1137.85 606.155 1135.58 605.739 Q1133.34 605.345 1130.84 604.535 L1130.84 600.137 Q1133.2 601.364 1135.49 601.989 Q1137.78 602.591 1140.03 602.591 Q1143.04 602.591 1144.66 601.572 Q1146.28 600.53 1146.28 598.655 Q1146.28 596.919 1145.1 595.993 Q1143.94 595.067 1139.98 594.211 L1138.5 593.864 Q1134.54 593.03 1132.78 591.318 Q1131.02 589.581 1131.02 586.572 Q1131.02 582.915 1133.62 580.924 Q1136.21 578.933 1140.98 578.933 Q1143.34 578.933 1145.42 579.281 Q1147.5 579.628 1149.26 580.322 Z\" fill=\"#000000\" fill-rule=\"evenodd\" fill-opacity=\"1\" /></svg>\n"
      ]
     },
     "execution_count": 7,
     "metadata": {},
     "output_type": "execute_result"
    }
   ],
   "source": [
    "df = df_Markkit_Mfc_PMI\n",
    "periods = df[:,1] # all rows, first column\n",
    "println(periods[begin], \" to \", periods[end])\n",
    "gr()\n",
    "plot(periods, \n",
    "    [df[:,2]  df[:,3] df[:,4] ], \n",
    "    label    = [\"actuals\" \"forcast\" \"previous\"],\n",
    "    legend    =:topleft, # :right, :left, :top, :bottom, :inside, :best, :legend, :topright, :topleft, :bottomleft, :bottomright\n",
    "    xlabel   = \"time\",\n",
    "    ylabel   = \"indicators\",\n",
    "    size     = (1750, 600), # width, height\n",
    "    layout = (1, 1) # number of seperate plots VERTICALLY, HORIZONTALLY\n",
    "    )"
   ]
  },
  {
   "cell_type": "code",
   "execution_count": 8,
   "metadata": {},
   "outputs": [
    {
     "name": "stdout",
     "output_type": "stream",
     "text": [
      "2020-08-03 to 2013-11-01\n"
     ]
    },
    {
     "data": {
      "image/svg+xml": [
       "<?xml version=\"1.0\" encoding=\"utf-8\"?>\n",
       "<svg xmlns=\"http://www.w3.org/2000/svg\" xmlns:xlink=\"http://www.w3.org/1999/xlink\" width=\"1750\" height=\"600\" viewBox=\"0 0 7000 2400\">\n",
       "<defs>\n",
       "  <clipPath id=\"clip4900\">\n",
       "    <rect x=\"0\" y=\"0\" width=\"7000\" height=\"2400\"/>\n",
       "  </clipPath>\n",
       "</defs>\n",
       "<path clip-path=\"url(#clip4900)\" d=\"\n",
       "M0 2400 L7000 2400 L7000 0 L0 0  Z\n",
       "  \" fill=\"#ffffff\" fill-rule=\"evenodd\" fill-opacity=\"1\"/>\n",
       "<defs>\n",
       "  <clipPath id=\"clip4901\">\n",
       "    <rect x=\"1400\" y=\"0\" width=\"4901\" height=\"2400\"/>\n",
       "  </clipPath>\n",
       "</defs>\n",
       "<path clip-path=\"url(#clip4900)\" d=\"\n",
       "M225.378 2255.05 L6952.76 2255.05 L6952.76 47.2441 L225.378 47.2441  Z\n",
       "  \" fill=\"#ffffff\" fill-rule=\"evenodd\" fill-opacity=\"1\"/>\n",
       "<defs>\n",
       "  <clipPath id=\"clip4902\">\n",
       "    <rect x=\"225\" y=\"47\" width=\"6728\" height=\"2209\"/>\n",
       "  </clipPath>\n",
       "</defs>\n",
       "<polyline clip-path=\"url(#clip4902)\" style=\"stroke:#000000; stroke-width:2; stroke-opacity:0.1; fill:none\" points=\"\n",
       "  572.703,2255.05 572.703,47.2441 \n",
       "  \"/>\n",
       "<polyline clip-path=\"url(#clip4902)\" style=\"stroke:#000000; stroke-width:2; stroke-opacity:0.1; fill:none\" points=\"\n",
       "  2450.7,2255.05 2450.7,47.2441 \n",
       "  \"/>\n",
       "<polyline clip-path=\"url(#clip4902)\" style=\"stroke:#000000; stroke-width:2; stroke-opacity:0.1; fill:none\" points=\"\n",
       "  4331.26,2255.05 4331.26,47.2441 \n",
       "  \"/>\n",
       "<polyline clip-path=\"url(#clip4902)\" style=\"stroke:#000000; stroke-width:2; stroke-opacity:0.1; fill:none\" points=\"\n",
       "  6209.25,2255.05 6209.25,47.2441 \n",
       "  \"/>\n",
       "<polyline clip-path=\"url(#clip4902)\" style=\"stroke:#000000; stroke-width:2; stroke-opacity:0.1; fill:none\" points=\"\n",
       "  225.378,2047.92 6952.76,2047.92 \n",
       "  \"/>\n",
       "<polyline clip-path=\"url(#clip4902)\" style=\"stroke:#000000; stroke-width:2; stroke-opacity:0.1; fill:none\" points=\"\n",
       "  225.378,1469.36 6952.76,1469.36 \n",
       "  \"/>\n",
       "<polyline clip-path=\"url(#clip4902)\" style=\"stroke:#000000; stroke-width:2; stroke-opacity:0.1; fill:none\" points=\"\n",
       "  225.378,890.792 6952.76,890.792 \n",
       "  \"/>\n",
       "<polyline clip-path=\"url(#clip4902)\" style=\"stroke:#000000; stroke-width:2; stroke-opacity:0.1; fill:none\" points=\"\n",
       "  225.378,312.227 6952.76,312.227 \n",
       "  \"/>\n",
       "<polyline clip-path=\"url(#clip4900)\" style=\"stroke:#000000; stroke-width:4; stroke-opacity:1; fill:none\" points=\"\n",
       "  225.378,2255.05 6952.76,2255.05 \n",
       "  \"/>\n",
       "<polyline clip-path=\"url(#clip4900)\" style=\"stroke:#000000; stroke-width:4; stroke-opacity:1; fill:none\" points=\"\n",
       "  225.378,2255.05 225.378,47.2441 \n",
       "  \"/>\n",
       "<polyline clip-path=\"url(#clip4900)\" style=\"stroke:#000000; stroke-width:4; stroke-opacity:1; fill:none\" points=\"\n",
       "  572.703,2255.05 572.703,2228.55 \n",
       "  \"/>\n",
       "<polyline clip-path=\"url(#clip4900)\" style=\"stroke:#000000; stroke-width:4; stroke-opacity:1; fill:none\" points=\"\n",
       "  2450.7,2255.05 2450.7,2228.55 \n",
       "  \"/>\n",
       "<polyline clip-path=\"url(#clip4900)\" style=\"stroke:#000000; stroke-width:4; stroke-opacity:1; fill:none\" points=\"\n",
       "  4331.26,2255.05 4331.26,2228.55 \n",
       "  \"/>\n",
       "<polyline clip-path=\"url(#clip4900)\" style=\"stroke:#000000; stroke-width:4; stroke-opacity:1; fill:none\" points=\"\n",
       "  6209.25,2255.05 6209.25,2228.55 \n",
       "  \"/>\n",
       "<polyline clip-path=\"url(#clip4900)\" style=\"stroke:#000000; stroke-width:4; stroke-opacity:1; fill:none\" points=\"\n",
       "  225.378,2047.92 306.106,2047.92 \n",
       "  \"/>\n",
       "<polyline clip-path=\"url(#clip4900)\" style=\"stroke:#000000; stroke-width:4; stroke-opacity:1; fill:none\" points=\"\n",
       "  225.378,1469.36 306.106,1469.36 \n",
       "  \"/>\n",
       "<polyline clip-path=\"url(#clip4900)\" style=\"stroke:#000000; stroke-width:4; stroke-opacity:1; fill:none\" points=\"\n",
       "  225.378,890.792 306.106,890.792 \n",
       "  \"/>\n",
       "<polyline clip-path=\"url(#clip4900)\" style=\"stroke:#000000; stroke-width:4; stroke-opacity:1; fill:none\" points=\"\n",
       "  225.378,312.227 306.106,312.227 \n",
       "  \"/>\n",
       "<path clip-path=\"url(#clip4900)\" d=\"M 0 0 M459.614 2327.58 L475.933 2327.58 L475.933 2331.52 L453.989 2331.52 L453.989 2327.58 Q456.651 2324.83 461.234 2320.2 Q465.841 2315.55 467.021 2314.2 Q469.266 2311.68 470.146 2309.95 Q471.049 2308.19 471.049 2306.5 Q471.049 2303.74 469.104 2302.01 Q467.183 2300.27 464.081 2300.27 Q461.882 2300.27 459.429 2301.03 Q456.998 2301.8 454.22 2303.35 L454.22 2298.63 Q457.044 2297.49 459.498 2296.91 Q461.952 2296.33 463.989 2296.33 Q469.359 2296.33 472.553 2299.02 Q475.748 2301.7 475.748 2306.2 Q475.748 2308.32 474.938 2310.25 Q474.151 2312.14 472.044 2314.74 Q471.465 2315.41 468.364 2318.63 Q465.262 2321.82 459.614 2327.58 Z\" fill=\"#000000\" fill-rule=\"evenodd\" fill-opacity=\"1\" /><path clip-path=\"url(#clip4900)\" d=\"M 0 0 M491.002 2300.04 Q487.391 2300.04 485.563 2303.6 Q483.757 2307.14 483.757 2314.27 Q483.757 2321.38 485.563 2324.95 Q487.391 2328.49 491.002 2328.49 Q494.637 2328.49 496.442 2324.95 Q498.271 2321.38 498.271 2314.27 Q498.271 2307.14 496.442 2303.6 Q494.637 2300.04 491.002 2300.04 M491.002 2296.33 Q496.813 2296.33 499.868 2300.94 Q502.947 2305.52 502.947 2314.27 Q502.947 2323 499.868 2327.61 Q496.813 2332.19 491.002 2332.19 Q485.192 2332.19 482.114 2327.61 Q479.058 2323 479.058 2314.27 Q479.058 2305.52 482.114 2300.94 Q485.192 2296.33 491.002 2296.33 Z\" fill=\"#000000\" fill-rule=\"evenodd\" fill-opacity=\"1\" /><path clip-path=\"url(#clip4900)\" d=\"M 0 0 M508.826 2327.58 L516.465 2327.58 L516.465 2301.22 L508.155 2302.89 L508.155 2298.63 L516.419 2296.96 L521.095 2296.96 L521.095 2327.58 L528.734 2327.58 L528.734 2331.52 L508.826 2331.52 L508.826 2327.58 Z\" fill=\"#000000\" fill-rule=\"evenodd\" fill-opacity=\"1\" /><path clip-path=\"url(#clip4900)\" d=\"M 0 0 M546.65 2301.03 L534.845 2319.48 L546.65 2319.48 L546.65 2301.03 M545.423 2296.96 L551.303 2296.96 L551.303 2319.48 L556.234 2319.48 L556.234 2323.37 L551.303 2323.37 L551.303 2331.52 L546.65 2331.52 L546.65 2323.37 L531.049 2323.37 L531.049 2318.86 L545.423 2296.96 Z\" fill=\"#000000\" fill-rule=\"evenodd\" fill-opacity=\"1\" /><path clip-path=\"url(#clip4900)\" d=\"M 0 0 M558.548 2316.64 L571.025 2316.64 L571.025 2320.43 L558.548 2320.43 L558.548 2316.64 Z\" fill=\"#000000\" fill-rule=\"evenodd\" fill-opacity=\"1\" /><path clip-path=\"url(#clip4900)\" d=\"M 0 0 M586.095 2300.04 Q582.483 2300.04 580.655 2303.6 Q578.849 2307.14 578.849 2314.27 Q578.849 2321.38 580.655 2324.95 Q582.483 2328.49 586.095 2328.49 Q589.729 2328.49 591.534 2324.95 Q593.363 2321.38 593.363 2314.27 Q593.363 2307.14 591.534 2303.6 Q589.729 2300.04 586.095 2300.04 M586.095 2296.33 Q591.905 2296.33 594.96 2300.94 Q598.039 2305.52 598.039 2314.27 Q598.039 2323 594.96 2327.61 Q591.905 2332.19 586.095 2332.19 Q580.284 2332.19 577.206 2327.61 Q574.15 2323 574.15 2314.27 Q574.15 2305.52 577.206 2300.94 Q580.284 2296.33 586.095 2296.33 Z\" fill=\"#000000\" fill-rule=\"evenodd\" fill-opacity=\"1\" /><path clip-path=\"url(#clip4900)\" d=\"M 0 0 M603.918 2327.58 L611.557 2327.58 L611.557 2301.22 L603.247 2302.89 L603.247 2298.63 L611.511 2296.96 L616.187 2296.96 L616.187 2327.58 L623.826 2327.58 L623.826 2331.52 L603.918 2331.52 L603.918 2327.58 Z\" fill=\"#000000\" fill-rule=\"evenodd\" fill-opacity=\"1\" /><path clip-path=\"url(#clip4900)\" d=\"M 0 0 M626.141 2316.64 L638.617 2316.64 L638.617 2320.43 L626.141 2320.43 L626.141 2316.64 Z\" fill=\"#000000\" fill-rule=\"evenodd\" fill-opacity=\"1\" /><path clip-path=\"url(#clip4900)\" d=\"M 0 0 M653.687 2300.04 Q650.076 2300.04 648.247 2303.6 Q646.441 2307.14 646.441 2314.27 Q646.441 2321.38 648.247 2324.95 Q650.076 2328.49 653.687 2328.49 Q657.321 2328.49 659.127 2324.95 Q660.955 2321.38 660.955 2314.27 Q660.955 2307.14 659.127 2303.6 Q657.321 2300.04 653.687 2300.04 M653.687 2296.33 Q659.497 2296.33 662.552 2300.94 Q665.631 2305.52 665.631 2314.27 Q665.631 2323 662.552 2327.61 Q659.497 2332.19 653.687 2332.19 Q647.877 2332.19 644.798 2327.61 Q641.742 2323 641.742 2314.27 Q641.742 2305.52 644.798 2300.94 Q647.877 2296.33 653.687 2296.33 Z\" fill=\"#000000\" fill-rule=\"evenodd\" fill-opacity=\"1\" /><path clip-path=\"url(#clip4900)\" d=\"M 0 0 M671.511 2327.58 L679.15 2327.58 L679.15 2301.22 L670.839 2302.89 L670.839 2298.63 L679.103 2296.96 L683.779 2296.96 L683.779 2327.58 L691.418 2327.58 L691.418 2331.52 L671.511 2331.52 L671.511 2327.58 Z\" fill=\"#000000\" fill-rule=\"evenodd\" fill-opacity=\"1\" /><path clip-path=\"url(#clip4900)\" d=\"M 0 0 M2337.77 2327.58 L2354.09 2327.58 L2354.09 2331.52 L2332.14 2331.52 L2332.14 2327.58 Q2334.8 2324.83 2339.39 2320.2 Q2343.99 2315.55 2345.17 2314.2 Q2347.42 2311.68 2348.3 2309.95 Q2349.2 2308.19 2349.2 2306.5 Q2349.2 2303.74 2347.26 2302.01 Q2345.34 2300.27 2342.24 2300.27 Q2340.04 2300.27 2337.58 2301.03 Q2335.15 2301.8 2332.37 2303.35 L2332.37 2298.63 Q2335.2 2297.49 2337.65 2296.91 Q2340.11 2296.33 2342.14 2296.33 Q2347.51 2296.33 2350.71 2299.02 Q2353.9 2301.7 2353.9 2306.2 Q2353.9 2308.32 2353.09 2310.25 Q2352.3 2312.14 2350.2 2314.74 Q2349.62 2315.41 2346.52 2318.63 Q2343.42 2321.82 2337.77 2327.58 Z\" fill=\"#000000\" fill-rule=\"evenodd\" fill-opacity=\"1\" /><path clip-path=\"url(#clip4900)\" d=\"M 0 0 M2369.16 2300.04 Q2365.55 2300.04 2363.72 2303.6 Q2361.91 2307.14 2361.91 2314.27 Q2361.91 2321.38 2363.72 2324.95 Q2365.55 2328.49 2369.16 2328.49 Q2372.79 2328.49 2374.6 2324.95 Q2376.42 2321.38 2376.42 2314.27 Q2376.42 2307.14 2374.6 2303.6 Q2372.79 2300.04 2369.16 2300.04 M2369.16 2296.33 Q2374.97 2296.33 2378.02 2300.94 Q2381.1 2305.52 2381.1 2314.27 Q2381.1 2323 2378.02 2327.61 Q2374.97 2332.19 2369.16 2332.19 Q2363.35 2332.19 2360.27 2327.61 Q2357.21 2323 2357.21 2314.27 Q2357.21 2305.52 2360.27 2300.94 Q2363.35 2296.33 2369.16 2296.33 Z\" fill=\"#000000\" fill-rule=\"evenodd\" fill-opacity=\"1\" /><path clip-path=\"url(#clip4900)\" d=\"M 0 0 M2386.98 2327.58 L2394.62 2327.58 L2394.62 2301.22 L2386.31 2302.89 L2386.31 2298.63 L2394.57 2296.96 L2399.25 2296.96 L2399.25 2327.58 L2406.89 2327.58 L2406.89 2331.52 L2386.98 2331.52 L2386.98 2327.58 Z\" fill=\"#000000\" fill-rule=\"evenodd\" fill-opacity=\"1\" /><path clip-path=\"url(#clip4900)\" d=\"M 0 0 M2422.54 2312.38 Q2419.39 2312.38 2417.54 2314.53 Q2415.71 2316.68 2415.71 2320.43 Q2415.71 2324.16 2417.54 2326.33 Q2419.39 2328.49 2422.54 2328.49 Q2425.68 2328.49 2427.51 2326.33 Q2429.36 2324.16 2429.36 2320.43 Q2429.36 2316.68 2427.51 2314.53 Q2425.68 2312.38 2422.54 2312.38 M2431.82 2297.72 L2431.82 2301.98 Q2430.06 2301.15 2428.25 2300.71 Q2426.47 2300.27 2424.71 2300.27 Q2420.08 2300.27 2417.63 2303.39 Q2415.2 2306.52 2414.85 2312.84 Q2416.22 2310.82 2418.28 2309.76 Q2420.34 2308.67 2422.81 2308.67 Q2428.02 2308.67 2431.03 2311.84 Q2434.06 2314.99 2434.06 2320.43 Q2434.06 2325.76 2430.92 2328.97 Q2427.77 2332.19 2422.54 2332.19 Q2416.54 2332.19 2413.37 2327.61 Q2410.2 2323 2410.2 2314.27 Q2410.2 2306.08 2414.09 2301.22 Q2417.98 2296.33 2424.53 2296.33 Q2426.29 2296.33 2428.07 2296.68 Q2429.87 2297.03 2431.82 2297.72 Z\" fill=\"#000000\" fill-rule=\"evenodd\" fill-opacity=\"1\" /><path clip-path=\"url(#clip4900)\" d=\"M 0 0 M2436.38 2316.64 L2448.85 2316.64 L2448.85 2320.43 L2436.38 2320.43 L2436.38 2316.64 Z\" fill=\"#000000\" fill-rule=\"evenodd\" fill-opacity=\"1\" /><path clip-path=\"url(#clip4900)\" d=\"M 0 0 M2463.92 2300.04 Q2460.31 2300.04 2458.48 2303.6 Q2456.68 2307.14 2456.68 2314.27 Q2456.68 2321.38 2458.48 2324.95 Q2460.31 2328.49 2463.92 2328.49 Q2467.56 2328.49 2469.36 2324.95 Q2471.19 2321.38 2471.19 2314.27 Q2471.19 2307.14 2469.36 2303.6 Q2467.56 2300.04 2463.92 2300.04 M2463.92 2296.33 Q2469.73 2296.33 2472.79 2300.94 Q2475.87 2305.52 2475.87 2314.27 Q2475.87 2323 2472.79 2327.61 Q2469.73 2332.19 2463.92 2332.19 Q2458.11 2332.19 2455.04 2327.61 Q2451.98 2323 2451.98 2314.27 Q2451.98 2305.52 2455.04 2300.94 Q2458.11 2296.33 2463.92 2296.33 Z\" fill=\"#000000\" fill-rule=\"evenodd\" fill-opacity=\"1\" /><path clip-path=\"url(#clip4900)\" d=\"M 0 0 M2481.75 2327.58 L2489.39 2327.58 L2489.39 2301.22 L2481.08 2302.89 L2481.08 2298.63 L2489.34 2296.96 L2494.02 2296.96 L2494.02 2327.58 L2501.66 2327.58 L2501.66 2331.52 L2481.75 2331.52 L2481.75 2327.58 Z\" fill=\"#000000\" fill-rule=\"evenodd\" fill-opacity=\"1\" /><path clip-path=\"url(#clip4900)\" d=\"M 0 0 M2503.97 2316.64 L2516.45 2316.64 L2516.45 2320.43 L2503.97 2320.43 L2503.97 2316.64 Z\" fill=\"#000000\" fill-rule=\"evenodd\" fill-opacity=\"1\" /><path clip-path=\"url(#clip4900)\" d=\"M 0 0 M2531.52 2300.04 Q2527.91 2300.04 2526.08 2303.6 Q2524.27 2307.14 2524.27 2314.27 Q2524.27 2321.38 2526.08 2324.95 Q2527.91 2328.49 2531.52 2328.49 Q2535.15 2328.49 2536.96 2324.95 Q2538.78 2321.38 2538.78 2314.27 Q2538.78 2307.14 2536.96 2303.6 Q2535.15 2300.04 2531.52 2300.04 M2531.52 2296.33 Q2537.33 2296.33 2540.38 2300.94 Q2543.46 2305.52 2543.46 2314.27 Q2543.46 2323 2540.38 2327.61 Q2537.33 2332.19 2531.52 2332.19 Q2525.71 2332.19 2522.63 2327.61 Q2519.57 2323 2519.57 2314.27 Q2519.57 2305.52 2522.63 2300.94 Q2525.71 2296.33 2531.52 2296.33 Z\" fill=\"#000000\" fill-rule=\"evenodd\" fill-opacity=\"1\" /><path clip-path=\"url(#clip4900)\" d=\"M 0 0 M2549.34 2327.58 L2556.98 2327.58 L2556.98 2301.22 L2548.67 2302.89 L2548.67 2298.63 L2556.93 2296.96 L2561.61 2296.96 L2561.61 2327.58 L2569.25 2327.58 L2569.25 2331.52 L2549.34 2331.52 L2549.34 2327.58 Z\" fill=\"#000000\" fill-rule=\"evenodd\" fill-opacity=\"1\" /><path clip-path=\"url(#clip4900)\" d=\"M 0 0 M4218.46 2327.58 L4234.78 2327.58 L4234.78 2331.52 L4212.83 2331.52 L4212.83 2327.58 Q4215.5 2324.83 4220.08 2320.2 Q4224.69 2315.55 4225.87 2314.2 Q4228.11 2311.68 4228.99 2309.95 Q4229.89 2308.19 4229.89 2306.5 Q4229.89 2303.74 4227.95 2302.01 Q4226.03 2300.27 4222.93 2300.27 Q4220.73 2300.27 4218.27 2301.03 Q4215.84 2301.8 4213.07 2303.35 L4213.07 2298.63 Q4215.89 2297.49 4218.34 2296.91 Q4220.8 2296.33 4222.83 2296.33 Q4228.2 2296.33 4231.4 2299.02 Q4234.59 2301.7 4234.59 2306.2 Q4234.59 2308.32 4233.78 2310.25 Q4233 2312.14 4230.89 2314.74 Q4230.31 2315.41 4227.21 2318.63 Q4224.11 2321.82 4218.46 2327.58 Z\" fill=\"#000000\" fill-rule=\"evenodd\" fill-opacity=\"1\" /><path clip-path=\"url(#clip4900)\" d=\"M 0 0 M4249.85 2300.04 Q4246.24 2300.04 4244.41 2303.6 Q4242.6 2307.14 4242.6 2314.27 Q4242.6 2321.38 4244.41 2324.95 Q4246.24 2328.49 4249.85 2328.49 Q4253.48 2328.49 4255.29 2324.95 Q4257.12 2321.38 4257.12 2314.27 Q4257.12 2307.14 4255.29 2303.6 Q4253.48 2300.04 4249.85 2300.04 M4249.85 2296.33 Q4255.66 2296.33 4258.71 2300.94 Q4261.79 2305.52 4261.79 2314.27 Q4261.79 2323 4258.71 2327.61 Q4255.66 2332.19 4249.85 2332.19 Q4244.04 2332.19 4240.96 2327.61 Q4237.9 2323 4237.9 2314.27 Q4237.9 2305.52 4240.96 2300.94 Q4244.04 2296.33 4249.85 2296.33 Z\" fill=\"#000000\" fill-rule=\"evenodd\" fill-opacity=\"1\" /><path clip-path=\"url(#clip4900)\" d=\"M 0 0 M4267.67 2327.58 L4275.31 2327.58 L4275.31 2301.22 L4267 2302.89 L4267 2298.63 L4275.26 2296.96 L4279.94 2296.96 L4279.94 2327.58 L4287.58 2327.58 L4287.58 2331.52 L4267.67 2331.52 L4267.67 2327.58 Z\" fill=\"#000000\" fill-rule=\"evenodd\" fill-opacity=\"1\" /><path clip-path=\"url(#clip4900)\" d=\"M 0 0 M4302.65 2315.11 Q4299.32 2315.11 4297.39 2316.89 Q4295.5 2318.67 4295.5 2321.8 Q4295.5 2324.92 4297.39 2326.7 Q4299.32 2328.49 4302.65 2328.49 Q4305.98 2328.49 4307.9 2326.7 Q4309.82 2324.9 4309.82 2321.8 Q4309.82 2318.67 4307.9 2316.89 Q4306 2315.11 4302.65 2315.11 M4297.97 2313.12 Q4294.96 2312.38 4293.27 2310.32 Q4291.61 2308.26 4291.61 2305.29 Q4291.61 2301.15 4294.55 2298.74 Q4297.51 2296.33 4302.65 2296.33 Q4307.81 2296.33 4310.75 2298.74 Q4313.69 2301.15 4313.69 2305.29 Q4313.69 2308.26 4312 2310.32 Q4310.33 2312.38 4307.35 2313.12 Q4310.73 2313.9 4312.6 2316.2 Q4314.5 2318.49 4314.5 2321.8 Q4314.5 2326.82 4311.42 2329.51 Q4308.37 2332.19 4302.65 2332.19 Q4296.93 2332.19 4293.85 2329.51 Q4290.8 2326.82 4290.8 2321.8 Q4290.8 2318.49 4292.69 2316.2 Q4294.59 2313.9 4297.97 2313.12 M4296.26 2305.73 Q4296.26 2308.42 4297.93 2309.92 Q4299.62 2311.43 4302.65 2311.43 Q4305.66 2311.43 4307.35 2309.92 Q4309.06 2308.42 4309.06 2305.73 Q4309.06 2303.05 4307.35 2301.54 Q4305.66 2300.04 4302.65 2300.04 Q4299.62 2300.04 4297.93 2301.54 Q4296.26 2303.05 4296.26 2305.73 Z\" fill=\"#000000\" fill-rule=\"evenodd\" fill-opacity=\"1\" /><path clip-path=\"url(#clip4900)\" d=\"M 0 0 M4316.82 2316.64 L4329.29 2316.64 L4329.29 2320.43 L4316.82 2320.43 L4316.82 2316.64 Z\" fill=\"#000000\" fill-rule=\"evenodd\" fill-opacity=\"1\" /><path clip-path=\"url(#clip4900)\" d=\"M 0 0 M4344.36 2300.04 Q4340.75 2300.04 4338.92 2303.6 Q4337.12 2307.14 4337.12 2314.27 Q4337.12 2321.38 4338.92 2324.95 Q4340.75 2328.49 4344.36 2328.49 Q4348 2328.49 4349.8 2324.95 Q4351.63 2321.38 4351.63 2314.27 Q4351.63 2307.14 4349.8 2303.6 Q4348 2300.04 4344.36 2300.04 M4344.36 2296.33 Q4350.17 2296.33 4353.23 2300.94 Q4356.31 2305.52 4356.31 2314.27 Q4356.31 2323 4353.23 2327.61 Q4350.17 2332.19 4344.36 2332.19 Q4338.55 2332.19 4335.47 2327.61 Q4332.42 2323 4332.42 2314.27 Q4332.42 2305.52 4335.47 2300.94 Q4338.55 2296.33 4344.36 2296.33 Z\" fill=\"#000000\" fill-rule=\"evenodd\" fill-opacity=\"1\" /><path clip-path=\"url(#clip4900)\" d=\"M 0 0 M4362.19 2327.58 L4369.82 2327.58 L4369.82 2301.22 L4361.51 2302.89 L4361.51 2298.63 L4369.78 2296.96 L4374.45 2296.96 L4374.45 2327.58 L4382.09 2327.58 L4382.09 2331.52 L4362.19 2331.52 L4362.19 2327.58 Z\" fill=\"#000000\" fill-rule=\"evenodd\" fill-opacity=\"1\" /><path clip-path=\"url(#clip4900)\" d=\"M 0 0 M4384.41 2316.64 L4396.88 2316.64 L4396.88 2320.43 L4384.41 2320.43 L4384.41 2316.64 Z\" fill=\"#000000\" fill-rule=\"evenodd\" fill-opacity=\"1\" /><path clip-path=\"url(#clip4900)\" d=\"M 0 0 M4411.95 2300.04 Q4408.34 2300.04 4406.51 2303.6 Q4404.71 2307.14 4404.71 2314.27 Q4404.71 2321.38 4406.51 2324.95 Q4408.34 2328.49 4411.95 2328.49 Q4415.59 2328.49 4417.39 2324.95 Q4419.22 2321.38 4419.22 2314.27 Q4419.22 2307.14 4417.39 2303.6 Q4415.59 2300.04 4411.95 2300.04 M4411.95 2296.33 Q4417.76 2296.33 4420.82 2300.94 Q4423.9 2305.52 4423.9 2314.27 Q4423.9 2323 4420.82 2327.61 Q4417.76 2332.19 4411.95 2332.19 Q4406.14 2332.19 4403.06 2327.61 Q4400.01 2323 4400.01 2314.27 Q4400.01 2305.52 4403.06 2300.94 Q4406.14 2296.33 4411.95 2296.33 Z\" fill=\"#000000\" fill-rule=\"evenodd\" fill-opacity=\"1\" /><path clip-path=\"url(#clip4900)\" d=\"M 0 0 M4429.78 2327.58 L4437.42 2327.58 L4437.42 2301.22 L4429.11 2302.89 L4429.11 2298.63 L4437.37 2296.96 L4442.05 2296.96 L4442.05 2327.58 L4449.68 2327.58 L4449.68 2331.52 L4429.78 2331.52 L4429.78 2327.58 Z\" fill=\"#000000\" fill-rule=\"evenodd\" fill-opacity=\"1\" /><path clip-path=\"url(#clip4900)\" d=\"M 0 0 M6096.59 2327.58 L6112.91 2327.58 L6112.91 2331.52 L6090.96 2331.52 L6090.96 2327.58 Q6093.63 2324.83 6098.21 2320.2 Q6102.82 2315.55 6104 2314.2 Q6106.24 2311.68 6107.12 2309.95 Q6108.02 2308.19 6108.02 2306.5 Q6108.02 2303.74 6106.08 2302.01 Q6104.16 2300.27 6101.06 2300.27 Q6098.86 2300.27 6096.4 2301.03 Q6093.97 2301.8 6091.2 2303.35 L6091.2 2298.63 Q6094.02 2297.49 6096.47 2296.91 Q6098.93 2296.33 6100.96 2296.33 Q6106.34 2296.33 6109.53 2299.02 Q6112.72 2301.7 6112.72 2306.2 Q6112.72 2308.32 6111.91 2310.25 Q6111.13 2312.14 6109.02 2314.74 Q6108.44 2315.41 6105.34 2318.63 Q6102.24 2321.82 6096.59 2327.58 Z\" fill=\"#000000\" fill-rule=\"evenodd\" fill-opacity=\"1\" /><path clip-path=\"url(#clip4900)\" d=\"M 0 0 M6127.98 2300.04 Q6124.37 2300.04 6122.54 2303.6 Q6120.73 2307.14 6120.73 2314.27 Q6120.73 2321.38 6122.54 2324.95 Q6124.37 2328.49 6127.98 2328.49 Q6131.61 2328.49 6133.42 2324.95 Q6135.25 2321.38 6135.25 2314.27 Q6135.25 2307.14 6133.42 2303.6 Q6131.61 2300.04 6127.98 2300.04 M6127.98 2296.33 Q6133.79 2296.33 6136.84 2300.94 Q6139.92 2305.52 6139.92 2314.27 Q6139.92 2323 6136.84 2327.61 Q6133.79 2332.19 6127.98 2332.19 Q6122.17 2332.19 6119.09 2327.61 Q6116.03 2323 6116.03 2314.27 Q6116.03 2305.52 6119.09 2300.94 Q6122.17 2296.33 6127.98 2296.33 Z\" fill=\"#000000\" fill-rule=\"evenodd\" fill-opacity=\"1\" /><path clip-path=\"url(#clip4900)\" d=\"M 0 0 M6149.02 2327.58 L6165.34 2327.58 L6165.34 2331.52 L6143.4 2331.52 L6143.4 2327.58 Q6146.06 2324.83 6150.64 2320.2 Q6155.25 2315.55 6156.43 2314.2 Q6158.67 2311.68 6159.55 2309.95 Q6160.46 2308.19 6160.46 2306.5 Q6160.46 2303.74 6158.51 2302.01 Q6156.59 2300.27 6153.49 2300.27 Q6151.29 2300.27 6148.83 2301.03 Q6146.4 2301.8 6143.63 2303.35 L6143.63 2298.63 Q6146.45 2297.49 6148.9 2296.91 Q6151.36 2296.33 6153.4 2296.33 Q6158.77 2296.33 6161.96 2299.02 Q6165.15 2301.7 6165.15 2306.2 Q6165.15 2308.32 6164.34 2310.25 Q6163.56 2312.14 6161.45 2314.74 Q6160.87 2315.41 6157.77 2318.63 Q6154.67 2321.82 6149.02 2327.58 Z\" fill=\"#000000\" fill-rule=\"evenodd\" fill-opacity=\"1\" /><path clip-path=\"url(#clip4900)\" d=\"M 0 0 M6180.41 2300.04 Q6176.8 2300.04 6174.97 2303.6 Q6173.16 2307.14 6173.16 2314.27 Q6173.16 2321.38 6174.97 2324.95 Q6176.8 2328.49 6180.41 2328.49 Q6184.04 2328.49 6185.85 2324.95 Q6187.68 2321.38 6187.68 2314.27 Q6187.68 2307.14 6185.85 2303.6 Q6184.04 2300.04 6180.41 2300.04 M6180.41 2296.33 Q6186.22 2296.33 6189.27 2300.94 Q6192.35 2305.52 6192.35 2314.27 Q6192.35 2323 6189.27 2327.61 Q6186.22 2332.19 6180.41 2332.19 Q6174.6 2332.19 6171.52 2327.61 Q6168.46 2323 6168.46 2314.27 Q6168.46 2305.52 6171.52 2300.94 Q6174.6 2296.33 6180.41 2296.33 Z\" fill=\"#000000\" fill-rule=\"evenodd\" fill-opacity=\"1\" /><path clip-path=\"url(#clip4900)\" d=\"M 0 0 M6194.67 2316.64 L6207.14 2316.64 L6207.14 2320.43 L6194.67 2320.43 L6194.67 2316.64 Z\" fill=\"#000000\" fill-rule=\"evenodd\" fill-opacity=\"1\" /><path clip-path=\"url(#clip4900)\" d=\"M 0 0 M6222.21 2300.04 Q6218.6 2300.04 6216.77 2303.6 Q6214.97 2307.14 6214.97 2314.27 Q6214.97 2321.38 6216.77 2324.95 Q6218.6 2328.49 6222.21 2328.49 Q6225.85 2328.49 6227.65 2324.95 Q6229.48 2321.38 6229.48 2314.27 Q6229.48 2307.14 6227.65 2303.6 Q6225.85 2300.04 6222.21 2300.04 M6222.21 2296.33 Q6228.02 2296.33 6231.08 2300.94 Q6234.16 2305.52 6234.16 2314.27 Q6234.16 2323 6231.08 2327.61 Q6228.02 2332.19 6222.21 2332.19 Q6216.4 2332.19 6213.33 2327.61 Q6210.27 2323 6210.27 2314.27 Q6210.27 2305.52 6213.33 2300.94 Q6216.4 2296.33 6222.21 2296.33 Z\" fill=\"#000000\" fill-rule=\"evenodd\" fill-opacity=\"1\" /><path clip-path=\"url(#clip4900)\" d=\"M 0 0 M6240.04 2327.58 L6247.68 2327.58 L6247.68 2301.22 L6239.37 2302.89 L6239.37 2298.63 L6247.63 2296.96 L6252.31 2296.96 L6252.31 2327.58 L6259.95 2327.58 L6259.95 2331.52 L6240.04 2331.52 L6240.04 2327.58 Z\" fill=\"#000000\" fill-rule=\"evenodd\" fill-opacity=\"1\" /><path clip-path=\"url(#clip4900)\" d=\"M 0 0 M6262.26 2316.64 L6274.74 2316.64 L6274.74 2320.43 L6262.26 2320.43 L6262.26 2316.64 Z\" fill=\"#000000\" fill-rule=\"evenodd\" fill-opacity=\"1\" /><path clip-path=\"url(#clip4900)\" d=\"M 0 0 M6289.81 2300.04 Q6286.2 2300.04 6284.37 2303.6 Q6282.56 2307.14 6282.56 2314.27 Q6282.56 2321.38 6284.37 2324.95 Q6286.2 2328.49 6289.81 2328.49 Q6293.44 2328.49 6295.25 2324.95 Q6297.07 2321.38 6297.07 2314.27 Q6297.07 2307.14 6295.25 2303.6 Q6293.44 2300.04 6289.81 2300.04 M6289.81 2296.33 Q6295.62 2296.33 6298.67 2300.94 Q6301.75 2305.52 6301.75 2314.27 Q6301.75 2323 6298.67 2327.61 Q6295.62 2332.19 6289.81 2332.19 Q6284 2332.19 6280.92 2327.61 Q6277.86 2323 6277.86 2314.27 Q6277.86 2305.52 6280.92 2300.94 Q6284 2296.33 6289.81 2296.33 Z\" fill=\"#000000\" fill-rule=\"evenodd\" fill-opacity=\"1\" /><path clip-path=\"url(#clip4900)\" d=\"M 0 0 M6307.63 2327.58 L6315.27 2327.58 L6315.27 2301.22 L6306.96 2302.89 L6306.96 2298.63 L6315.22 2296.96 L6319.9 2296.96 L6319.9 2327.58 L6327.54 2327.58 L6327.54 2331.52 L6307.63 2331.52 L6307.63 2327.58 Z\" fill=\"#000000\" fill-rule=\"evenodd\" fill-opacity=\"1\" /><path clip-path=\"url(#clip4900)\" d=\"M 0 0 M121.234 2046.57 Q124.591 2047.28 126.466 2049.55 Q128.364 2051.82 128.364 2055.15 Q128.364 2060.27 124.846 2063.07 Q121.327 2065.87 114.846 2065.87 Q112.67 2065.87 110.355 2065.43 Q108.063 2065.02 105.61 2064.16 L105.61 2059.65 Q107.554 2060.78 109.869 2061.36 Q112.184 2061.94 114.707 2061.94 Q119.105 2061.94 121.397 2060.2 Q123.711 2058.47 123.711 2055.15 Q123.711 2052.1 121.559 2050.39 Q119.429 2048.65 115.61 2048.65 L111.582 2048.65 L111.582 2044.81 L115.795 2044.81 Q119.244 2044.81 121.072 2043.44 Q122.901 2042.05 122.901 2039.46 Q122.901 2036.8 121.003 2035.39 Q119.128 2033.95 115.61 2033.95 Q113.688 2033.95 111.489 2034.37 Q109.29 2034.78 106.651 2035.66 L106.651 2031.5 Q109.313 2030.76 111.628 2030.39 Q113.966 2030.02 116.026 2030.02 Q121.35 2030.02 124.452 2032.45 Q127.554 2034.85 127.554 2038.97 Q127.554 2041.84 125.91 2043.84 Q124.267 2045.8 121.234 2046.57 Z\" fill=\"#000000\" fill-rule=\"evenodd\" fill-opacity=\"1\" /><path clip-path=\"url(#clip4900)\" d=\"M 0 0 M143.433 2033.72 Q139.822 2033.72 137.994 2037.28 Q136.188 2040.83 136.188 2047.96 Q136.188 2055.06 137.994 2058.63 Q139.822 2062.17 143.433 2062.17 Q147.068 2062.17 148.873 2058.63 Q150.702 2055.06 150.702 2047.96 Q150.702 2040.83 148.873 2037.28 Q147.068 2033.72 143.433 2033.72 M143.433 2030.02 Q149.244 2030.02 152.299 2034.62 Q155.378 2039.21 155.378 2047.96 Q155.378 2056.68 152.299 2061.29 Q149.244 2065.87 143.433 2065.87 Q137.623 2065.87 134.545 2061.29 Q131.489 2056.68 131.489 2047.96 Q131.489 2039.21 134.545 2034.62 Q137.623 2030.02 143.433 2030.02 Z\" fill=\"#000000\" fill-rule=\"evenodd\" fill-opacity=\"1\" /><path clip-path=\"url(#clip4900)\" d=\"M 0 0 M118.781 1456.15 L106.975 1474.6 L118.781 1474.6 L118.781 1456.15 M117.554 1452.08 L123.434 1452.08 L123.434 1474.6 L128.364 1474.6 L128.364 1478.49 L123.434 1478.49 L123.434 1486.64 L118.781 1486.64 L118.781 1478.49 L103.179 1478.49 L103.179 1473.97 L117.554 1452.08 Z\" fill=\"#000000\" fill-rule=\"evenodd\" fill-opacity=\"1\" /><path clip-path=\"url(#clip4900)\" d=\"M 0 0 M143.433 1455.15 Q139.822 1455.15 137.994 1458.72 Q136.188 1462.26 136.188 1469.39 Q136.188 1476.5 137.994 1480.06 Q139.822 1483.6 143.433 1483.6 Q147.068 1483.6 148.873 1480.06 Q150.702 1476.5 150.702 1469.39 Q150.702 1462.26 148.873 1458.72 Q147.068 1455.15 143.433 1455.15 M143.433 1451.45 Q149.244 1451.45 152.299 1456.06 Q155.378 1460.64 155.378 1469.39 Q155.378 1478.12 152.299 1482.72 Q149.244 1487.31 143.433 1487.31 Q137.623 1487.31 134.545 1482.72 Q131.489 1478.12 131.489 1469.39 Q131.489 1460.64 134.545 1456.06 Q137.623 1451.45 143.433 1451.45 Z\" fill=\"#000000\" fill-rule=\"evenodd\" fill-opacity=\"1\" /><path clip-path=\"url(#clip4900)\" d=\"M 0 0 M107.461 873.512 L125.818 873.512 L125.818 877.447 L111.744 877.447 L111.744 885.919 Q112.762 885.572 113.781 885.41 Q114.799 885.224 115.818 885.224 Q121.605 885.224 124.984 888.396 Q128.364 891.567 128.364 896.984 Q128.364 902.562 124.892 905.664 Q121.42 908.743 115.1 908.743 Q112.924 908.743 110.656 908.372 Q108.41 908.002 106.003 907.261 L106.003 902.562 Q108.086 903.697 110.309 904.252 Q112.531 904.808 115.008 904.808 Q119.012 904.808 121.35 902.701 Q123.688 900.595 123.688 896.984 Q123.688 893.373 121.35 891.266 Q119.012 889.16 115.008 889.16 Q113.133 889.16 111.258 889.576 Q109.406 889.993 107.461 890.873 L107.461 873.512 Z\" fill=\"#000000\" fill-rule=\"evenodd\" fill-opacity=\"1\" /><path clip-path=\"url(#clip4900)\" d=\"M 0 0 M143.433 876.59 Q139.822 876.59 137.994 880.155 Q136.188 883.697 136.188 890.826 Q136.188 897.933 137.994 901.497 Q139.822 905.039 143.433 905.039 Q147.068 905.039 148.873 901.497 Q150.702 897.933 150.702 890.826 Q150.702 883.697 148.873 880.155 Q147.068 876.59 143.433 876.59 M143.433 872.887 Q149.244 872.887 152.299 877.493 Q155.378 882.076 155.378 890.826 Q155.378 899.553 152.299 904.16 Q149.244 908.743 143.433 908.743 Q137.623 908.743 134.545 904.16 Q131.489 899.553 131.489 890.826 Q131.489 882.076 134.545 877.493 Q137.623 872.887 143.433 872.887 Z\" fill=\"#000000\" fill-rule=\"evenodd\" fill-opacity=\"1\" /><path clip-path=\"url(#clip4900)\" d=\"M 0 0 M116.836 310.363 Q113.688 310.363 111.836 312.516 Q110.008 314.669 110.008 318.419 Q110.008 322.146 111.836 324.322 Q113.688 326.474 116.836 326.474 Q119.984 326.474 121.813 324.322 Q123.665 322.146 123.665 318.419 Q123.665 314.669 121.813 312.516 Q119.984 310.363 116.836 310.363 M126.119 295.711 L126.119 299.97 Q124.359 299.137 122.554 298.697 Q120.772 298.257 119.012 298.257 Q114.383 298.257 111.929 301.382 Q109.498 304.507 109.151 310.826 Q110.517 308.812 112.577 307.748 Q114.637 306.66 117.114 306.66 Q122.322 306.66 125.332 309.831 Q128.364 312.979 128.364 318.419 Q128.364 323.743 125.216 326.96 Q122.068 330.178 116.836 330.178 Q110.841 330.178 107.67 325.595 Q104.498 320.988 104.498 312.261 Q104.498 304.067 108.387 299.206 Q112.276 294.322 118.827 294.322 Q120.586 294.322 122.369 294.669 Q124.174 295.016 126.119 295.711 Z\" fill=\"#000000\" fill-rule=\"evenodd\" fill-opacity=\"1\" /><path clip-path=\"url(#clip4900)\" d=\"M 0 0 M143.433 298.025 Q139.822 298.025 137.994 301.59 Q136.188 305.132 136.188 312.261 Q136.188 319.368 137.994 322.933 Q139.822 326.474 143.433 326.474 Q147.068 326.474 148.873 322.933 Q150.702 319.368 150.702 312.261 Q150.702 305.132 148.873 301.59 Q147.068 298.025 143.433 298.025 M143.433 294.322 Q149.244 294.322 152.299 298.928 Q155.378 303.512 155.378 312.261 Q155.378 320.988 152.299 325.595 Q149.244 330.178 143.433 330.178 Q137.623 330.178 134.545 325.595 Q131.489 320.988 131.489 312.261 Q131.489 303.512 134.545 298.928 Q137.623 294.322 143.433 294.322 Z\" fill=\"#000000\" fill-rule=\"evenodd\" fill-opacity=\"1\" /><path clip-path=\"url(#clip4900)\" d=\"M 0 0 M3534.83 2388.14 L3534.83 2398.26 L3546.89 2398.26 L3546.89 2402.81 L3534.83 2402.81 L3534.83 2422.17 Q3534.83 2426.53 3536.01 2427.77 Q3537.22 2429.01 3540.88 2429.01 L3546.89 2429.01 L3546.89 2433.91 L3540.88 2433.91 Q3534.1 2433.91 3531.52 2431.4 Q3528.94 2428.85 3528.94 2422.17 L3528.94 2402.81 L3524.65 2402.81 L3524.65 2398.26 L3528.94 2398.26 L3528.94 2388.14 L3534.83 2388.14 Z\" fill=\"#000000\" fill-rule=\"evenodd\" fill-opacity=\"1\" /><path clip-path=\"url(#clip4900)\" d=\"M 0 0 M3553.04 2398.26 L3558.89 2398.26 L3558.89 2433.91 L3553.04 2433.91 L3553.04 2398.26 M3553.04 2384.39 L3558.89 2384.39 L3558.89 2391.8 L3553.04 2391.8 L3553.04 2384.39 Z\" fill=\"#000000\" fill-rule=\"evenodd\" fill-opacity=\"1\" /><path clip-path=\"url(#clip4900)\" d=\"M 0 0 M3592.79 2405.11 Q3594.99 2401.16 3598.04 2399.28 Q3601.1 2397.4 3605.24 2397.4 Q3610.81 2397.4 3613.83 2401.32 Q3616.85 2405.2 3616.85 2412.4 L3616.85 2433.91 L3610.96 2433.91 L3610.96 2412.59 Q3610.96 2407.46 3609.15 2404.98 Q3607.34 2402.5 3603.61 2402.5 Q3599.06 2402.5 3596.42 2405.52 Q3593.78 2408.54 3593.78 2413.76 L3593.78 2433.91 L3587.89 2433.91 L3587.89 2412.59 Q3587.89 2407.43 3586.07 2404.98 Q3584.26 2402.5 3580.47 2402.5 Q3575.99 2402.5 3573.34 2405.55 Q3570.7 2408.58 3570.7 2413.76 L3570.7 2433.91 L3564.81 2433.91 L3564.81 2398.26 L3570.7 2398.26 L3570.7 2403.8 Q3572.71 2400.52 3575.51 2398.96 Q3578.31 2397.4 3582.16 2397.4 Q3586.04 2397.4 3588.75 2399.38 Q3591.49 2401.35 3592.79 2405.11 Z\" fill=\"#000000\" fill-rule=\"evenodd\" fill-opacity=\"1\" /><path clip-path=\"url(#clip4900)\" d=\"M 0 0 M3653.49 2414.62 L3653.49 2417.49 L3626.56 2417.49 Q3626.94 2423.54 3630.19 2426.72 Q3633.47 2429.87 3639.29 2429.87 Q3642.67 2429.87 3645.82 2429.04 Q3649 2428.21 3652.12 2426.56 L3652.12 2432.1 Q3648.97 2433.43 3645.66 2434.13 Q3642.35 2434.83 3638.94 2434.83 Q3630.41 2434.83 3625.42 2429.87 Q3620.45 2424.9 3620.45 2416.44 Q3620.45 2407.68 3625.16 2402.56 Q3629.9 2397.4 3637.92 2397.4 Q3645.12 2397.4 3649.29 2402.05 Q3653.49 2406.67 3653.49 2414.62 M3647.63 2412.9 Q3647.57 2408.1 3644.93 2405.23 Q3642.32 2402.37 3637.99 2402.37 Q3633.09 2402.37 3630.13 2405.14 Q3627.2 2407.91 3626.75 2412.94 L3647.63 2412.9 Z\" fill=\"#000000\" fill-rule=\"evenodd\" fill-opacity=\"1\" /><path clip-path=\"url(#clip4900)\" d=\"M 0 0 M-16.7249 1287.55 L-16.7249 1281.69 L18.923 1281.69 L18.923 1287.55 L-16.7249 1287.55 M-30.6022 1287.55 L-30.6022 1281.69 L-23.1861 1281.69 L-23.1861 1287.55 L-30.6022 1287.55 Z\" fill=\"#000000\" fill-rule=\"evenodd\" fill-opacity=\"1\" /><path clip-path=\"url(#clip4900)\" d=\"M 0 0 M-2.59307 1245.92 L18.923 1245.92 L18.923 1251.77 L-2.4021 1251.77 Q-7.46284 1251.77 -9.97729 1253.74 Q-12.4917 1255.72 -12.4917 1259.67 Q-12.4917 1264.41 -9.46804 1267.14 Q-6.44433 1269.88 -1.22445 1269.88 L18.923 1269.88 L18.923 1275.77 L-16.7249 1275.77 L-16.7249 1269.88 L-11.1868 1269.88 Q-14.4015 1267.78 -15.9929 1264.95 Q-17.5843 1262.08 -17.5843 1258.36 Q-17.5843 1252.22 -13.7649 1249.07 Q-9.97729 1245.92 -2.59307 1245.92 Z\" fill=\"#000000\" fill-rule=\"evenodd\" fill-opacity=\"1\" /><path clip-path=\"url(#clip4900)\" d=\"M 0 0 M-11.3141 1216.31 L-30.6022 1216.31 L-30.6022 1210.46 L18.923 1210.46 L18.923 1216.31 L13.5758 1216.31 Q16.7587 1218.16 18.3183 1220.99 Q19.846 1223.79 19.846 1227.74 Q19.846 1234.2 14.6898 1238.28 Q9.5336 1242.32 1.13086 1242.32 Q-7.27187 1242.32 -12.4281 1238.28 Q-17.5843 1234.2 -17.5843 1227.74 Q-17.5843 1223.79 -16.0247 1220.99 Q-14.4969 1218.16 -11.3141 1216.31 M1.13086 1236.27 Q7.59206 1236.27 11.2842 1233.63 Q14.9444 1230.96 14.9444 1226.31 Q14.9444 1221.66 11.2842 1218.99 Q7.59206 1216.31 1.13086 1216.31 Q-5.33033 1216.31 -8.99061 1218.99 Q-12.6827 1221.66 -12.6827 1226.31 Q-12.6827 1230.96 -8.99061 1233.63 Q-5.33033 1236.27 1.13086 1236.27 Z\" fill=\"#000000\" fill-rule=\"evenodd\" fill-opacity=\"1\" /><path clip-path=\"url(#clip4900)\" d=\"M 0 0 M-16.7249 1204.32 L-16.7249 1198.46 L18.923 1198.46 L18.923 1204.32 L-16.7249 1204.32 M-30.6022 1204.32 L-30.6022 1198.46 L-23.1861 1198.46 L-23.1861 1204.32 L-30.6022 1204.32 Z\" fill=\"#000000\" fill-rule=\"evenodd\" fill-opacity=\"1\" /><path clip-path=\"url(#clip4900)\" d=\"M 0 0 M-15.3563 1166.66 L-9.88181 1166.66 Q-11.2504 1169.14 -11.9188 1171.66 Q-12.6191 1174.14 -12.6191 1176.69 Q-12.6191 1182.39 -8.99061 1185.54 Q-5.39398 1188.69 1.13086 1188.69 Q7.65571 1188.69 11.2842 1185.54 Q14.8808 1182.39 14.8808 1176.69 Q14.8808 1174.14 14.2124 1171.66 Q13.5122 1169.14 12.1435 1166.66 L17.5544 1166.66 Q18.7002 1169.11 19.2731 1171.75 Q19.846 1174.36 19.846 1177.32 Q19.846 1185.38 14.7853 1190.12 Q9.72457 1194.86 1.13086 1194.86 Q-7.59015 1194.86 -12.5872 1190.09 Q-17.5843 1185.28 -17.5843 1176.94 Q-17.5843 1174.24 -17.0114 1171.66 Q-16.4703 1169.08 -15.3563 1166.66 Z\" fill=\"#000000\" fill-rule=\"evenodd\" fill-opacity=\"1\" /><path clip-path=\"url(#clip4900)\" d=\"M 0 0 M1.00355 1144.32 Q1.00355 1151.42 2.62681 1154.15 Q4.25006 1156.89 8.16497 1156.89 Q11.2842 1156.89 13.1302 1154.85 Q14.9444 1152.78 14.9444 1149.25 Q14.9444 1144.38 11.507 1141.45 Q8.03766 1138.49 2.30852 1138.49 L1.00355 1138.49 L1.00355 1144.32 M-1.41542 1132.64 L18.923 1132.64 L18.923 1138.49 L13.5122 1138.49 Q16.7587 1140.5 18.3183 1143.49 Q19.846 1146.48 19.846 1150.81 Q19.846 1156.29 16.7905 1159.53 Q13.7031 1162.75 8.54691 1162.75 Q2.53132 1162.75 -0.524219 1158.74 Q-3.57976 1154.69 -3.57976 1146.71 L-3.57976 1138.49 L-4.15267 1138.49 Q-8.1949 1138.49 -10.3911 1141.17 Q-12.6191 1143.81 -12.6191 1148.62 Q-12.6191 1151.67 -11.887 1154.57 Q-11.1549 1157.46 -9.69084 1160.14 L-15.1017 1160.14 Q-16.343 1156.92 -16.9477 1153.9 Q-17.5843 1150.88 -17.5843 1148.01 Q-17.5843 1140.28 -13.5739 1136.46 Q-9.56352 1132.64 -1.41542 1132.64 Z\" fill=\"#000000\" fill-rule=\"evenodd\" fill-opacity=\"1\" /><path clip-path=\"url(#clip4900)\" d=\"M 0 0 M-26.8464 1120.7 L-16.7249 1120.7 L-16.7249 1108.64 L-12.1735 1108.64 L-12.1735 1120.7 L7.17829 1120.7 Q11.5388 1120.7 12.7801 1119.52 Q14.0214 1118.31 14.0214 1114.65 L14.0214 1108.64 L18.923 1108.64 L18.923 1114.65 Q18.923 1121.43 16.4086 1124.01 Q13.8623 1126.59 7.17829 1126.59 L-12.1735 1126.59 L-12.1735 1130.89 L-16.7249 1130.89 L-16.7249 1126.59 L-26.8464 1126.59 L-26.8464 1120.7 Z\" fill=\"#000000\" fill-rule=\"evenodd\" fill-opacity=\"1\" /><path clip-path=\"url(#clip4900)\" d=\"M 0 0 M-12.6191 1088.68 Q-12.6191 1093.39 -8.92695 1096.13 Q-5.26667 1098.87 1.13086 1098.87 Q7.5284 1098.87 11.2205 1096.16 Q14.8808 1093.42 14.8808 1088.68 Q14.8808 1084 11.1887 1081.27 Q7.49657 1078.53 1.13086 1078.53 Q-5.20301 1078.53 -8.89512 1081.27 Q-12.6191 1084 -12.6191 1088.68 M-17.5843 1088.68 Q-17.5843 1081.04 -12.6191 1076.68 Q-7.65381 1072.32 1.13086 1072.32 Q9.88371 1072.32 14.8808 1076.68 Q19.846 1081.04 19.846 1088.68 Q19.846 1096.35 14.8808 1100.71 Q9.88371 1105.04 1.13086 1105.04 Q-7.65381 1105.04 -12.6191 1100.71 Q-17.5843 1096.35 -17.5843 1088.68 Z\" fill=\"#000000\" fill-rule=\"evenodd\" fill-opacity=\"1\" /><path clip-path=\"url(#clip4900)\" d=\"M 0 0 M-11.2504 1045.52 Q-11.8233 1046.51 -12.078 1047.69 Q-12.3644 1048.83 -12.3644 1050.23 Q-12.3644 1055.2 -9.11792 1057.87 Q-5.90324 1060.51 0.14418 1060.51 L18.923 1060.51 L18.923 1066.4 L-16.7249 1066.4 L-16.7249 1060.51 L-11.1868 1060.51 Q-14.4333 1058.67 -15.9929 1055.71 Q-17.5843 1052.75 -17.5843 1048.51 Q-17.5843 1047.91 -17.4888 1047.18 Q-17.4252 1046.45 -17.266 1045.55 L-11.2504 1045.52 Z\" fill=\"#000000\" fill-rule=\"evenodd\" fill-opacity=\"1\" /><path clip-path=\"url(#clip4900)\" d=\"M 0 0 M-15.6746 1016.65 L-10.1364 1016.65 Q-11.4096 1019.14 -12.0461 1021.81 Q-12.6827 1024.48 -12.6827 1027.35 Q-12.6827 1031.71 -11.3459 1033.91 Q-10.0091 1036.07 -7.33553 1036.07 Q-5.2985 1036.07 -4.12084 1034.51 Q-2.97502 1032.95 -1.92467 1028.24 L-1.47908 1026.23 Q-0.142277 1020 2.30852 1017.39 Q4.72749 1014.74 9.088 1014.74 Q14.0532 1014.74 16.9496 1018.69 Q19.846 1022.61 19.846 1029.48 Q19.846 1032.35 19.2731 1035.46 Q18.732 1038.55 17.618 1041.99 L11.5706 1041.99 Q13.2575 1038.74 14.1169 1035.59 Q14.9444 1032.44 14.9444 1029.35 Q14.9444 1025.22 13.544 1022.99 Q12.1117 1020.76 9.5336 1020.76 Q7.14646 1020.76 5.87332 1022.38 Q4.60017 1023.97 3.42252 1029.42 L2.94509 1031.45 Q1.79926 1036.9 -0.556048 1039.32 Q-2.94319 1041.74 -7.0809 1041.74 Q-12.1098 1041.74 -14.8471 1038.17 Q-17.5843 1034.61 -17.5843 1028.05 Q-17.5843 1024.8 -17.1069 1021.94 Q-16.6295 1019.07 -15.6746 1016.65 Z\" fill=\"#000000\" fill-rule=\"evenodd\" fill-opacity=\"1\" /><polyline clip-path=\"url(#clip4902)\" style=\"stroke:#009af9; stroke-width:4; stroke-opacity:1; fill:none\" points=\"\n",
       "  6762.36,1220.57 6677.46,1347.86 6600.29,1926.42 6520.53,2192.56 6443.36,1249.5 6366.18,1070.15 6294.15,1087.5 6214.4,1174.29 6132.07,1087.5 6052.32,1023.86 \n",
       "  5972.57,1104.86 5900.54,1041.22 5815.64,792.436 5735.89,630.437 5663.86,676.723 5578.97,751.936 5501.79,456.868 5422.04,757.722 5350.01,572.581 5275.4,532.081 \n",
       "  5195.65,404.797 5113.33,497.367 5033.58,381.655 4964.12,399.011 4876.65,514.724 4799.47,543.653 4719.72,526.296 4639.97,647.794 4565.37,468.439 4483.04,329.584 \n",
       "  4411.01,647.794 4336.4,485.796 4251.51,329.584 4174.33,323.798 4097.15,294.87 4017.4,318.012 3937.65,589.938 3863.05,474.225 3780.72,688.294 3700.97,775.079 \n",
       "  3628.94,375.869 3544.05,647.794 3472.01,537.867 3397.41,711.436 3312.51,757.722 3235.34,723.008 3160.73,908.148 3078.41,989.148 2998.66,925.505 2918.91,867.649 \n",
       "  2841.73,937.077 2764.55,937.077 2684.8,1000.72 2605.05,977.576 2530.45,1128 2458.41,1000.72 2370.94,815.578 2296.34,1029.65 2214.02,861.863 2136.84,821.364 \n",
       "  2062.23,734.579 1977.34,572.581 1900.16,792.436 1820.41,989.148 1743.23,890.792 1666.05,809.792 1594.02,653.58 1514.27,497.367 1431.95,607.295 1359.92,572.581 \n",
       "  1275.02,624.652 1200.42,422.154 1118.09,416.368 1038.34,728.793 963.737,728.793 881.414,618.866 804.237,827.149 729.631,757.722 657.599,757.722 575.276,491.582 \n",
       "  495.526,514.724 415.775,705.651 \n",
       "  \"/>\n",
       "<polyline clip-path=\"url(#clip4902)\" style=\"stroke:#e26f46; stroke-width:4; stroke-opacity:1; fill:none\" points=\"\n",
       "  6762.36,1793.35 6677.46,1579.28 6600.29,1810.71 6520.53,1191.65 6443.36,1156.93 6366.18,1243.72 6294.15,1278.43 6214.4,688.294 6132.07,642.009 6052.32,618.866 \n",
       "  5972.57,584.152 5900.54,543.653 5815.64,676.723 5735.89,653.58 5663.86,728.793 5578.97,503.153 5501.79,468.439 5422.04,439.511 5350.01,456.868 5275.4,422.154 \n",
       "  5195.65,474.225 5113.33,491.582 5033.58,491.582 4964.12,526.296 4876.65,532.081 4799.47,584.152 4719.72,555.224 4639.97,393.226 4565.37,474.225 4483.04,549.438 \n",
       "  4411.01,329.584 4336.4,231.228 4251.51,109.729 4174.33,399.011 4097.15,555.224 4017.4,618.866 \n",
       "  \"/>\n",
       "<polyline clip-path=\"url(#clip4902)\" style=\"stroke:#3da44d; stroke-width:4; stroke-opacity:1; fill:none\" points=\"\n",
       "  6762.36,1347.86 6677.46,1926.42 6600.29,2192.56 6520.53,1249.5 6443.36,1070.15 6366.18,1087.5 6294.15,1168.5 6214.4,1087.5 6132.07,1023.86 6052.32,1104.86 \n",
       "  5972.57,1041.22 5900.54,792.436 5815.64,630.437 5735.89,676.723 5663.86,751.936 5578.97,456.868 5501.79,757.722 5422.04,572.581 5350.01,543.653 5275.4,404.797 \n",
       "  5195.65,497.367 5113.33,381.655 5033.58,399.011 4964.12,514.724 4876.65,543.653 4799.47,526.296 4719.72,647.794 4639.97,468.439 4565.37,329.584 4483.04,647.794 \n",
       "  4411.01,422.154 4336.4,329.584 4251.51,323.798 4174.33,294.87 4097.15,318.012 4017.4,589.938 3937.65,474.225 3863.05,688.294 3780.72,775.079 3700.97,375.869 \n",
       "  3628.94,647.794 3544.05,537.867 3472.01,711.436 3397.41,757.722 3312.51,723.008 3235.34,908.148 3160.73,989.148 3078.41,925.505 2998.66,867.649 2918.91,937.077 \n",
       "  2841.73,937.077 2764.55,1000.72 2684.8,977.576 2605.05,1128 2530.45,1000.72 2458.41,815.578 2370.94,1029.65 2296.34,861.863 2214.02,821.364 2136.84,734.579 \n",
       "  2062.23,572.581 1977.34,792.436 1900.16,989.148 1820.41,890.792 1743.23,809.792 1666.05,653.58 1594.02,497.367 1514.27,607.295 1431.95,572.581 1359.92,624.652 \n",
       "  1275.02,422.154 1200.42,416.368 1118.09,728.793 1038.34,728.793 963.737,618.866 881.414,827.149 804.237,757.722 729.631,757.722 657.599,491.582 575.276,514.724 \n",
       "  495.526,705.651 \n",
       "  \"/>\n",
       "<path clip-path=\"url(#clip4900)\" d=\"\n",
       "M435.378 648.684 L1313.57 648.684 L1313.57 406.764 L435.378 406.764  Z\n",
       "  \" fill=\"#ffffff\" fill-rule=\"evenodd\" fill-opacity=\"1\"/>\n",
       "<polyline clip-path=\"url(#clip4900)\" style=\"stroke:#000000; stroke-width:4; stroke-opacity:1; fill:none\" points=\"\n",
       "  435.378,648.684 1313.57,648.684 1313.57,406.764 435.378,406.764 435.378,648.684 \n",
       "  \"/>\n",
       "<polyline clip-path=\"url(#clip4900)\" style=\"stroke:#009af9; stroke-width:4; stroke-opacity:1; fill:none\" points=\"\n",
       "  505.378,467.244 925.378,467.244 \n",
       "  \"/>\n",
       "<path clip-path=\"url(#clip4900)\" d=\"M 0 0 M1008.78 471.492 Q1003.62 471.492 1001.63 472.672 Q999.637 473.853 999.637 476.7 Q999.637 478.969 1001.12 480.311 Q1002.62 481.631 1005.19 481.631 Q1008.73 481.631 1010.86 479.131 Q1013.02 476.607 1013.02 472.441 L1013.02 471.492 L1008.78 471.492 M1017.28 469.733 L1017.28 484.524 L1013.02 484.524 L1013.02 480.589 Q1011.56 482.95 1009.38 484.084 Q1007.21 485.195 1004.06 485.195 Q1000.08 485.195 997.716 482.973 Q995.378 480.728 995.378 476.978 Q995.378 472.603 998.294 470.381 Q1001.23 468.158 1007.04 468.158 L1013.02 468.158 L1013.02 467.742 Q1013.02 464.802 1011.07 463.205 Q1009.15 461.584 1005.66 461.584 Q1003.43 461.584 1001.33 462.117 Q999.22 462.649 997.276 463.714 L997.276 459.779 Q999.614 458.876 1001.81 458.436 Q1004.01 457.973 1006.1 457.973 Q1011.72 457.973 1014.5 460.89 Q1017.28 463.807 1017.28 469.733 Z\" fill=\"#000000\" fill-rule=\"evenodd\" fill-opacity=\"1\" /><path clip-path=\"url(#clip4900)\" d=\"M 0 0 M1040.4 459.594 L1040.4 463.575 Q1038.6 462.58 1036.77 462.094 Q1034.96 461.584 1033.11 461.584 Q1028.97 461.584 1026.67 464.223 Q1024.38 466.839 1024.38 471.584 Q1024.38 476.33 1026.67 478.969 Q1028.97 481.584 1033.11 481.584 Q1034.96 481.584 1036.77 481.098 Q1038.6 480.589 1040.4 479.594 L1040.4 483.529 Q1038.62 484.362 1036.7 484.779 Q1034.8 485.195 1032.65 485.195 Q1026.79 485.195 1023.34 481.515 Q1019.89 477.834 1019.89 471.584 Q1019.89 465.242 1023.36 461.608 Q1026.86 457.973 1032.92 457.973 Q1034.89 457.973 1036.77 458.39 Q1038.64 458.783 1040.4 459.594 Z\" fill=\"#000000\" fill-rule=\"evenodd\" fill-opacity=\"1\" /><path clip-path=\"url(#clip4900)\" d=\"M 0 0 M1049.08 451.237 L1049.08 458.598 L1057.85 458.598 L1057.85 461.908 L1049.08 461.908 L1049.08 475.982 Q1049.08 479.154 1049.94 480.057 Q1050.82 480.959 1053.48 480.959 L1057.85 480.959 L1057.85 484.524 L1053.48 484.524 Q1048.55 484.524 1046.67 482.695 Q1044.8 480.844 1044.8 475.982 L1044.8 461.908 L1041.67 461.908 L1041.67 458.598 L1044.8 458.598 L1044.8 451.237 L1049.08 451.237 Z\" fill=\"#000000\" fill-rule=\"evenodd\" fill-opacity=\"1\" /><path clip-path=\"url(#clip4900)\" d=\"M 0 0 M1061.88 474.293 L1061.88 458.598 L1066.14 458.598 L1066.14 474.131 Q1066.14 477.811 1067.58 479.663 Q1069.01 481.492 1071.88 481.492 Q1075.33 481.492 1077.32 479.293 Q1079.34 477.094 1079.34 473.297 L1079.34 458.598 L1083.59 458.598 L1083.59 484.524 L1079.34 484.524 L1079.34 480.543 Q1077.78 482.904 1075.72 484.061 Q1073.69 485.195 1070.98 485.195 Q1066.51 485.195 1064.2 482.418 Q1061.88 479.64 1061.88 474.293 M1072.6 457.973 L1072.6 457.973 Z\" fill=\"#000000\" fill-rule=\"evenodd\" fill-opacity=\"1\" /><path clip-path=\"url(#clip4900)\" d=\"M 0 0 M1099.84 471.492 Q1094.68 471.492 1092.69 472.672 Q1090.7 473.853 1090.7 476.7 Q1090.7 478.969 1092.18 480.311 Q1093.69 481.631 1096.26 481.631 Q1099.8 481.631 1101.93 479.131 Q1104.08 476.607 1104.08 472.441 L1104.08 471.492 L1099.84 471.492 M1108.34 469.733 L1108.34 484.524 L1104.08 484.524 L1104.08 480.589 Q1102.62 482.95 1100.45 484.084 Q1098.27 485.195 1095.12 485.195 Q1091.14 485.195 1088.78 482.973 Q1086.44 480.728 1086.44 476.978 Q1086.44 472.603 1089.36 470.381 Q1092.3 468.158 1098.11 468.158 L1104.08 468.158 L1104.08 467.742 Q1104.08 464.802 1102.14 463.205 Q1100.22 461.584 1096.72 461.584 Q1094.5 461.584 1092.39 462.117 Q1090.28 462.649 1088.34 463.714 L1088.34 459.779 Q1090.68 458.876 1092.88 458.436 Q1095.08 457.973 1097.16 457.973 Q1102.78 457.973 1105.56 460.89 Q1108.34 463.807 1108.34 469.733 Z\" fill=\"#000000\" fill-rule=\"evenodd\" fill-opacity=\"1\" /><path clip-path=\"url(#clip4900)\" d=\"M 0 0 M1112.81 448.506 L1117.07 448.506 L1117.07 484.524 L1112.81 484.524 L1112.81 448.506 Z\" fill=\"#000000\" fill-rule=\"evenodd\" fill-opacity=\"1\" /><path clip-path=\"url(#clip4900)\" d=\"M 0 0 M1138.06 459.362 L1138.06 463.39 Q1136.26 462.464 1134.31 462.001 Q1132.37 461.538 1130.28 461.538 Q1127.11 461.538 1125.52 462.51 Q1123.94 463.483 1123.94 465.427 Q1123.94 466.908 1125.08 467.765 Q1126.21 468.598 1129.64 469.362 L1131.09 469.686 Q1135.63 470.658 1137.53 472.441 Q1139.45 474.2 1139.45 477.371 Q1139.45 480.982 1136.58 483.089 Q1133.73 485.195 1128.73 485.195 Q1126.65 485.195 1124.38 484.779 Q1122.14 484.385 1119.64 483.575 L1119.64 479.177 Q1122 480.404 1124.29 481.029 Q1126.58 481.631 1128.83 481.631 Q1131.84 481.631 1133.46 480.612 Q1135.08 479.57 1135.08 477.695 Q1135.08 475.959 1133.9 475.033 Q1132.74 474.107 1128.78 473.251 L1127.3 472.904 Q1123.34 472.07 1121.58 470.358 Q1119.82 468.621 1119.82 465.612 Q1119.82 461.955 1122.41 459.964 Q1125.01 457.973 1129.78 457.973 Q1132.14 457.973 1134.22 458.321 Q1136.3 458.668 1138.06 459.362 Z\" fill=\"#000000\" fill-rule=\"evenodd\" fill-opacity=\"1\" /><polyline clip-path=\"url(#clip4900)\" style=\"stroke:#e26f46; stroke-width:4; stroke-opacity:1; fill:none\" points=\"\n",
       "  505.378,527.724 925.378,527.724 \n",
       "  \"/>\n",
       "<path clip-path=\"url(#clip4900)\" d=\"M 0 0 M1011.88 508.986 L1011.88 512.527 L1007.81 512.527 Q1005.52 512.527 1004.61 513.453 Q1003.73 514.379 1003.73 516.787 L1003.73 519.078 L1010.75 519.078 L1010.75 522.388 L1003.73 522.388 L1003.73 545.004 L999.452 545.004 L999.452 522.388 L995.378 522.388 L995.378 519.078 L999.452 519.078 L999.452 517.273 Q999.452 512.944 1001.47 510.976 Q1003.48 508.986 1007.85 508.986 L1011.88 508.986 Z\" fill=\"#000000\" fill-rule=\"evenodd\" fill-opacity=\"1\" /><path clip-path=\"url(#clip4900)\" d=\"M 0 0 M1026.4 522.064 Q1022.97 522.064 1020.98 524.75 Q1018.99 527.412 1018.99 532.064 Q1018.99 536.717 1020.96 539.402 Q1022.95 542.064 1026.4 542.064 Q1029.8 542.064 1031.79 539.379 Q1033.78 536.694 1033.78 532.064 Q1033.78 527.458 1031.79 524.773 Q1029.8 522.064 1026.4 522.064 M1026.4 518.453 Q1031.95 518.453 1035.12 522.064 Q1038.29 525.675 1038.29 532.064 Q1038.29 538.43 1035.12 542.064 Q1031.95 545.675 1026.4 545.675 Q1020.82 545.675 1017.65 542.064 Q1014.5 538.43 1014.5 532.064 Q1014.5 525.675 1017.65 522.064 Q1020.82 518.453 1026.4 518.453 Z\" fill=\"#000000\" fill-rule=\"evenodd\" fill-opacity=\"1\" /><path clip-path=\"url(#clip4900)\" d=\"M 0 0 M1057.78 523.06 Q1057.07 522.643 1056.21 522.458 Q1055.38 522.25 1054.36 522.25 Q1050.75 522.25 1048.8 524.611 Q1046.88 526.949 1046.88 531.347 L1046.88 545.004 L1042.6 545.004 L1042.6 519.078 L1046.88 519.078 L1046.88 523.106 Q1048.22 520.745 1050.38 519.611 Q1052.53 518.453 1055.61 518.453 Q1056.05 518.453 1056.58 518.523 Q1057.11 518.569 1057.76 518.685 L1057.78 523.06 Z\" fill=\"#000000\" fill-rule=\"evenodd\" fill-opacity=\"1\" /><path clip-path=\"url(#clip4900)\" d=\"M 0 0 M1079.87 520.074 L1079.87 524.055 Q1078.06 523.06 1076.23 522.574 Q1074.43 522.064 1072.58 522.064 Q1068.43 522.064 1066.14 524.703 Q1063.85 527.319 1063.85 532.064 Q1063.85 536.81 1066.14 539.449 Q1068.43 542.064 1072.58 542.064 Q1074.43 542.064 1076.23 541.578 Q1078.06 541.069 1079.87 540.074 L1079.87 544.009 Q1078.09 544.842 1076.16 545.259 Q1074.27 545.675 1072.11 545.675 Q1066.26 545.675 1062.81 541.995 Q1059.36 538.314 1059.36 532.064 Q1059.36 525.722 1062.83 522.088 Q1066.33 518.453 1072.39 518.453 Q1074.36 518.453 1076.23 518.87 Q1078.11 519.263 1079.87 520.074 Z\" fill=\"#000000\" fill-rule=\"evenodd\" fill-opacity=\"1\" /><path clip-path=\"url(#clip4900)\" d=\"M 0 0 M1096.12 531.972 Q1090.96 531.972 1088.97 533.152 Q1086.97 534.333 1086.97 537.18 Q1086.97 539.449 1088.46 540.791 Q1089.96 542.111 1092.53 542.111 Q1096.07 542.111 1098.2 539.611 Q1100.35 537.087 1100.35 532.921 L1100.35 531.972 L1096.12 531.972 M1104.61 530.213 L1104.61 545.004 L1100.35 545.004 L1100.35 541.069 Q1098.9 543.43 1096.72 544.564 Q1094.54 545.675 1091.4 545.675 Q1087.41 545.675 1085.05 543.453 Q1082.72 541.208 1082.72 537.458 Q1082.72 533.083 1085.63 530.861 Q1088.57 528.638 1094.38 528.638 L1100.35 528.638 L1100.35 528.222 Q1100.35 525.282 1098.41 523.685 Q1096.49 522.064 1092.99 522.064 Q1090.77 522.064 1088.66 522.597 Q1086.56 523.129 1084.61 524.194 L1084.61 520.259 Q1086.95 519.356 1089.15 518.916 Q1091.35 518.453 1093.43 518.453 Q1099.06 518.453 1101.84 521.37 Q1104.61 524.287 1104.61 530.213 Z\" fill=\"#000000\" fill-rule=\"evenodd\" fill-opacity=\"1\" /><path clip-path=\"url(#clip4900)\" d=\"M 0 0 M1125.61 519.842 L1125.61 523.87 Q1123.8 522.944 1121.86 522.481 Q1119.91 522.018 1117.83 522.018 Q1114.66 522.018 1113.06 522.99 Q1111.49 523.963 1111.49 525.907 Q1111.49 527.388 1112.62 528.245 Q1113.76 529.078 1117.18 529.842 L1118.64 530.166 Q1123.18 531.138 1125.08 532.921 Q1127 534.68 1127 537.851 Q1127 541.462 1124.13 543.569 Q1121.28 545.675 1116.28 545.675 Q1114.2 545.675 1111.93 545.259 Q1109.68 544.865 1107.18 544.055 L1107.18 539.657 Q1109.54 540.884 1111.84 541.509 Q1114.13 542.111 1116.37 542.111 Q1119.38 542.111 1121 541.092 Q1122.62 540.05 1122.62 538.175 Q1122.62 536.439 1121.44 535.513 Q1120.28 534.587 1116.33 533.731 L1114.84 533.384 Q1110.89 532.55 1109.13 530.838 Q1107.37 529.101 1107.37 526.092 Q1107.37 522.435 1109.96 520.444 Q1112.55 518.453 1117.32 518.453 Q1119.68 518.453 1121.77 518.801 Q1123.85 519.148 1125.61 519.842 Z\" fill=\"#000000\" fill-rule=\"evenodd\" fill-opacity=\"1\" /><path clip-path=\"url(#clip4900)\" d=\"M 0 0 M1135.68 511.717 L1135.68 519.078 L1144.45 519.078 L1144.45 522.388 L1135.68 522.388 L1135.68 536.462 Q1135.68 539.634 1136.53 540.537 Q1137.41 541.439 1140.08 541.439 L1144.45 541.439 L1144.45 545.004 L1140.08 545.004 Q1135.15 545.004 1133.27 543.175 Q1131.4 541.324 1131.4 536.462 L1131.4 522.388 L1128.27 522.388 L1128.27 519.078 L1131.4 519.078 L1131.4 511.717 L1135.68 511.717 Z\" fill=\"#000000\" fill-rule=\"evenodd\" fill-opacity=\"1\" /><polyline clip-path=\"url(#clip4900)\" style=\"stroke:#3da44d; stroke-width:4; stroke-opacity:1; fill:none\" points=\"\n",
       "  505.378,588.204 925.378,588.204 \n",
       "  \"/>\n",
       "<path clip-path=\"url(#clip4900)\" d=\"M 0 0 M999.66 601.595 L999.66 615.345 L995.378 615.345 L995.378 579.558 L999.66 579.558 L999.66 583.493 Q1001 581.179 1003.04 580.068 Q1005.1 578.933 1007.95 578.933 Q1012.67 578.933 1015.61 582.683 Q1018.57 586.433 1018.57 592.544 Q1018.57 598.655 1015.61 602.405 Q1012.67 606.155 1007.95 606.155 Q1005.1 606.155 1003.04 605.044 Q1001 603.91 999.66 601.595 M1014.15 592.544 Q1014.15 587.845 1012.21 585.183 Q1010.29 582.498 1006.91 582.498 Q1003.53 582.498 1001.58 585.183 Q999.66 587.845 999.66 592.544 Q999.66 597.243 1001.58 599.929 Q1003.53 602.591 1006.91 602.591 Q1010.29 602.591 1012.21 599.929 Q1014.15 597.243 1014.15 592.544 Z\" fill=\"#000000\" fill-rule=\"evenodd\" fill-opacity=\"1\" /><path clip-path=\"url(#clip4900)\" d=\"M 0 0 M1038.06 583.54 Q1037.35 583.123 1036.49 582.938 Q1035.66 582.73 1034.64 582.73 Q1031.03 582.73 1029.08 585.091 Q1027.16 587.429 1027.16 591.827 L1027.16 605.484 L1022.88 605.484 L1022.88 579.558 L1027.16 579.558 L1027.16 583.586 Q1028.5 581.225 1030.66 580.091 Q1032.81 578.933 1035.89 578.933 Q1036.33 578.933 1036.86 579.003 Q1037.39 579.049 1038.04 579.165 L1038.06 583.54 Z\" fill=\"#000000\" fill-rule=\"evenodd\" fill-opacity=\"1\" /><path clip-path=\"url(#clip4900)\" d=\"M 0 0 M1063.66 591.456 L1063.66 593.54 L1044.08 593.54 Q1044.36 597.938 1046.72 600.253 Q1049.1 602.544 1053.34 602.544 Q1055.79 602.544 1058.09 601.942 Q1060.4 601.341 1062.67 600.137 L1062.67 604.165 Q1060.38 605.137 1057.97 605.646 Q1055.56 606.155 1053.09 606.155 Q1046.88 606.155 1043.25 602.544 Q1039.64 598.933 1039.64 592.776 Q1039.64 586.41 1043.06 582.683 Q1046.51 578.933 1052.35 578.933 Q1057.58 578.933 1060.61 582.313 Q1063.66 585.669 1063.66 591.456 M1059.41 590.206 Q1059.36 586.711 1057.44 584.628 Q1055.54 582.544 1052.39 582.544 Q1048.83 582.544 1046.67 584.558 Q1044.54 586.572 1044.22 590.23 L1059.41 590.206 Z\" fill=\"#000000\" fill-rule=\"evenodd\" fill-opacity=\"1\" /><path clip-path=\"url(#clip4900)\" d=\"M 0 0 M1065.08 579.558 L1069.59 579.558 L1077.69 601.317 L1085.79 579.558 L1090.31 579.558 L1080.59 605.484 L1074.8 605.484 L1065.08 579.558 Z\" fill=\"#000000\" fill-rule=\"evenodd\" fill-opacity=\"1\" /><path clip-path=\"url(#clip4900)\" d=\"M 0 0 M1094.78 579.558 L1099.03 579.558 L1099.03 605.484 L1094.78 605.484 L1094.78 579.558 M1094.78 569.466 L1099.03 569.466 L1099.03 574.859 L1094.78 574.859 L1094.78 569.466 Z\" fill=\"#000000\" fill-rule=\"evenodd\" fill-opacity=\"1\" /><path clip-path=\"url(#clip4900)\" d=\"M 0 0 M1113.55 582.544 Q1110.12 582.544 1108.13 585.23 Q1106.14 587.892 1106.14 592.544 Q1106.14 597.197 1108.11 599.882 Q1110.1 602.544 1113.55 602.544 Q1116.95 602.544 1118.94 599.859 Q1120.93 597.174 1120.93 592.544 Q1120.93 587.938 1118.94 585.253 Q1116.95 582.544 1113.55 582.544 M1113.55 578.933 Q1119.1 578.933 1122.28 582.544 Q1125.45 586.155 1125.45 592.544 Q1125.45 598.91 1122.28 602.544 Q1119.1 606.155 1113.55 606.155 Q1107.97 606.155 1104.8 602.544 Q1101.65 598.91 1101.65 592.544 Q1101.65 586.155 1104.8 582.544 Q1107.97 578.933 1113.55 578.933 Z\" fill=\"#000000\" fill-rule=\"evenodd\" fill-opacity=\"1\" /><path clip-path=\"url(#clip4900)\" d=\"M 0 0 M1129.47 595.253 L1129.47 579.558 L1133.73 579.558 L1133.73 595.091 Q1133.73 598.771 1135.17 600.623 Q1136.6 602.452 1139.47 602.452 Q1142.92 602.452 1144.91 600.253 Q1146.93 598.054 1146.93 594.257 L1146.93 579.558 L1151.19 579.558 L1151.19 605.484 L1146.93 605.484 L1146.93 601.503 Q1145.38 603.864 1143.32 605.021 Q1141.28 606.155 1138.57 606.155 Q1134.1 606.155 1131.79 603.378 Q1129.47 600.6 1129.47 595.253 M1140.19 578.933 L1140.19 578.933 Z\" fill=\"#000000\" fill-rule=\"evenodd\" fill-opacity=\"1\" /><path clip-path=\"url(#clip4900)\" d=\"M 0 0 M1172.18 580.322 L1172.18 584.35 Q1170.38 583.424 1168.43 582.961 Q1166.49 582.498 1164.4 582.498 Q1161.23 582.498 1159.64 583.47 Q1158.06 584.443 1158.06 586.387 Q1158.06 587.868 1159.2 588.725 Q1160.33 589.558 1163.76 590.322 L1165.21 590.646 Q1169.75 591.618 1171.65 593.401 Q1173.57 595.16 1173.57 598.331 Q1173.57 601.942 1170.7 604.049 Q1167.85 606.155 1162.85 606.155 Q1160.77 606.155 1158.5 605.739 Q1156.26 605.345 1153.76 604.535 L1153.76 600.137 Q1156.12 601.364 1158.41 601.989 Q1160.7 602.591 1162.95 602.591 Q1165.96 602.591 1167.58 601.572 Q1169.2 600.53 1169.2 598.655 Q1169.2 596.919 1168.02 595.993 Q1166.86 595.067 1162.9 594.211 L1161.42 593.864 Q1157.46 593.03 1155.7 591.318 Q1153.94 589.581 1153.94 586.572 Q1153.94 582.915 1156.53 580.924 Q1159.13 578.933 1163.9 578.933 Q1166.26 578.933 1168.34 579.281 Q1170.42 579.628 1172.18 580.322 Z\" fill=\"#000000\" fill-rule=\"evenodd\" fill-opacity=\"1\" /></svg>\n"
      ]
     },
     "execution_count": 8,
     "metadata": {},
     "output_type": "execute_result"
    }
   ],
   "source": [
    "df = df_ISM_Mfc_Emp\n",
    "periods = df[:,1] # all rows, first column\n",
    "println(periods[begin], \" to \", periods[end])\n",
    "gr()\n",
    "plot(periods, \n",
    "    [df[:,2]  df[:,3] df[:,4] ], \n",
    "    label    = [\"actuals\" \"forcast\" \"previous\"],\n",
    "    legend    =:topleft, # :right, :left, :top, :bottom, :inside, :best, :legend, :topright, :topleft, :bottomleft, :bottomright\n",
    "    xlabel   = \"time\",\n",
    "    ylabel   = \"indicators\",\n",
    "    size     = (1750, 600), # width, height\n",
    "    layout = (1, 1) # number of seperate plots VERTICALLY, HORIZONTALLY\n",
    "    )"
   ]
  },
  {
   "cell_type": "code",
   "execution_count": 9,
   "metadata": {},
   "outputs": [
    {
     "data": {
      "text/plain": [
       "(82, 2)"
      ]
     },
     "execution_count": 9,
     "metadata": {},
     "output_type": "execute_result"
    }
   ],
   "source": [
    "df1 = df_ISM_Mfc_Emp[:,1:2] # all rows, columns: Date and Actuals\n",
    "rename!(df1, [:Date, :ISM_Mfc_Emp ], makeunique=true)\n",
    "size(df1)"
   ]
  },
  {
   "cell_type": "code",
   "execution_count": 10,
   "metadata": {},
   "outputs": [
    {
     "data": {
      "text/html": [
       "<p>DataFrameRow (2 columns)</p><table class=\"data-frame\"><thead><tr><th></th><th>Date</th><th>ISM_Mfc_Emp</th></tr><tr><th></th><th>Date</th><th>Float64</th></tr></thead><tbody><tr><th>1</th><td>2020-08-03</td><td>44.3</td></tr></tbody></table>"
      ],
      "text/latex": [
       "\\begin{tabular}{r|cc}\n",
       "\t& Date & ISM\\_Mfc\\_Emp\\\\\n",
       "\t\\hline\n",
       "\t& Date & Float64\\\\\n",
       "\t\\hline\n",
       "\t1 & 2020-08-03 & 44.3 \\\\\n",
       "\\end{tabular}\n"
      ],
      "text/plain": [
       "DataFrameRow\n",
       "│ Row │ Date       │ ISM_Mfc_Emp │\n",
       "│     │ \u001b[90mDate\u001b[39m       │ \u001b[90mFloat64\u001b[39m     │\n",
       "├─────┼────────────┼─────────────┤\n",
       "│ 1   │ 2020-08-03 │ 44.3        │"
      ]
     },
     "execution_count": 10,
     "metadata": {},
     "output_type": "execute_result"
    }
   ],
   "source": [
    "df1[1,:]"
   ]
  },
  {
   "cell_type": "code",
   "execution_count": 11,
   "metadata": {},
   "outputs": [
    {
     "data": {
      "text/plain": [
       "(82, 2)"
      ]
     },
     "execution_count": 11,
     "metadata": {},
     "output_type": "execute_result"
    }
   ],
   "source": [
    "df2 = df_Markkit_Mfc_PMI[end-81:end,1:2] # last 82 rows, columns: Date and Actuals\n",
    "rename!(df2, [:Date, :Markkit_Mfc_PMI ], makeunique=true)\n",
    "size(df2)"
   ]
  },
  {
   "cell_type": "code",
   "execution_count": 12,
   "metadata": {},
   "outputs": [
    {
     "data": {
      "text/html": [
       "<p>DataFrameRow (2 columns)</p><table class=\"data-frame\"><thead><tr><th></th><th>Date</th><th>Markkit_Mfc_PMI</th></tr><tr><th></th><th>Date</th><th>Float64</th></tr></thead><tbody><tr><th>1</th><td>2015-09-23</td><td>53.0</td></tr></tbody></table>"
      ],
      "text/latex": [
       "\\begin{tabular}{r|cc}\n",
       "\t& Date & Markkit\\_Mfc\\_PMI\\\\\n",
       "\t\\hline\n",
       "\t& Date & Float64\\\\\n",
       "\t\\hline\n",
       "\t1 & 2015-09-23 & 53.0 \\\\\n",
       "\\end{tabular}\n"
      ],
      "text/plain": [
       "DataFrameRow\n",
       "│ Row │ Date       │ Markkit_Mfc_PMI │\n",
       "│     │ \u001b[90mDate\u001b[39m       │ \u001b[90mFloat64\u001b[39m         │\n",
       "├─────┼────────────┼─────────────────┤\n",
       "│ 1   │ 2015-09-23 │ 53.0            │"
      ]
     },
     "execution_count": 12,
     "metadata": {},
     "output_type": "execute_result"
    }
   ],
   "source": [
    "df2[1,:]"
   ]
  },
  {
   "cell_type": "code",
   "execution_count": 13,
   "metadata": {},
   "outputs": [
    {
     "name": "stdout",
     "output_type": "stream",
     "text": [
      "2015-09-23 to 2012-04-25\n"
     ]
    },
    {
     "data": {
      "image/svg+xml": [
       "<?xml version=\"1.0\" encoding=\"utf-8\"?>\n",
       "<svg xmlns=\"http://www.w3.org/2000/svg\" xmlns:xlink=\"http://www.w3.org/1999/xlink\" width=\"1750\" height=\"600\" viewBox=\"0 0 7000 2400\">\n",
       "<defs>\n",
       "  <clipPath id=\"clip5300\">\n",
       "    <rect x=\"0\" y=\"0\" width=\"7000\" height=\"2400\"/>\n",
       "  </clipPath>\n",
       "</defs>\n",
       "<path clip-path=\"url(#clip5300)\" d=\"\n",
       "M0 2400 L7000 2400 L7000 0 L0 0  Z\n",
       "  \" fill=\"#ffffff\" fill-rule=\"evenodd\" fill-opacity=\"1\"/>\n",
       "<defs>\n",
       "  <clipPath id=\"clip5301\">\n",
       "    <rect x=\"1400\" y=\"0\" width=\"4901\" height=\"2400\"/>\n",
       "  </clipPath>\n",
       "</defs>\n",
       "<path clip-path=\"url(#clip5300)\" d=\"\n",
       "M225.378 2255.05 L6952.76 2255.05 L6952.76 94.0961 L225.378 94.0961  Z\n",
       "  \" fill=\"#ffffff\" fill-rule=\"evenodd\" fill-opacity=\"1\"/>\n",
       "<defs>\n",
       "  <clipPath id=\"clip5302\">\n",
       "    <rect x=\"225\" y=\"94\" width=\"6728\" height=\"2162\"/>\n",
       "  </clipPath>\n",
       "</defs>\n",
       "<polyline clip-path=\"url(#clip5302)\" style=\"stroke:#000000; stroke-width:2; stroke-opacity:0.1; fill:none\" points=\"\n",
       "  1694.26,2255.05 1694.26,94.0961 \n",
       "  \"/>\n",
       "<polyline clip-path=\"url(#clip5302)\" style=\"stroke:#000000; stroke-width:2; stroke-opacity:0.1; fill:none\" points=\"\n",
       "  3553.41,2255.05 3553.41,94.0961 \n",
       "  \"/>\n",
       "<polyline clip-path=\"url(#clip5302)\" style=\"stroke:#000000; stroke-width:2; stroke-opacity:0.1; fill:none\" points=\"\n",
       "  5412.56,2255.05 5412.56,94.0961 \n",
       "  \"/>\n",
       "<polyline clip-path=\"url(#clip5302)\" style=\"stroke:#000000; stroke-width:2; stroke-opacity:0.1; fill:none\" points=\"\n",
       "  225.378,2038.5 6952.76,2038.5 \n",
       "  \"/>\n",
       "<polyline clip-path=\"url(#clip5302)\" style=\"stroke:#000000; stroke-width:2; stroke-opacity:0.1; fill:none\" points=\"\n",
       "  225.378,1416.97 6952.76,1416.97 \n",
       "  \"/>\n",
       "<polyline clip-path=\"url(#clip5302)\" style=\"stroke:#000000; stroke-width:2; stroke-opacity:0.1; fill:none\" points=\"\n",
       "  225.378,795.436 6952.76,795.436 \n",
       "  \"/>\n",
       "<polyline clip-path=\"url(#clip5302)\" style=\"stroke:#000000; stroke-width:2; stroke-opacity:0.1; fill:none\" points=\"\n",
       "  225.378,173.901 6952.76,173.901 \n",
       "  \"/>\n",
       "<polyline clip-path=\"url(#clip5300)\" style=\"stroke:#000000; stroke-width:4; stroke-opacity:1; fill:none\" points=\"\n",
       "  225.378,2255.05 6952.76,2255.05 \n",
       "  \"/>\n",
       "<polyline clip-path=\"url(#clip5300)\" style=\"stroke:#000000; stroke-width:4; stroke-opacity:1; fill:none\" points=\"\n",
       "  225.378,2255.05 225.378,94.0961 \n",
       "  \"/>\n",
       "<polyline clip-path=\"url(#clip5300)\" style=\"stroke:#000000; stroke-width:4; stroke-opacity:1; fill:none\" points=\"\n",
       "  1694.26,2255.05 1694.26,2229.12 \n",
       "  \"/>\n",
       "<polyline clip-path=\"url(#clip5300)\" style=\"stroke:#000000; stroke-width:4; stroke-opacity:1; fill:none\" points=\"\n",
       "  3553.41,2255.05 3553.41,2229.12 \n",
       "  \"/>\n",
       "<polyline clip-path=\"url(#clip5300)\" style=\"stroke:#000000; stroke-width:4; stroke-opacity:1; fill:none\" points=\"\n",
       "  5412.56,2255.05 5412.56,2229.12 \n",
       "  \"/>\n",
       "<polyline clip-path=\"url(#clip5300)\" style=\"stroke:#000000; stroke-width:4; stroke-opacity:1; fill:none\" points=\"\n",
       "  225.378,2038.5 306.106,2038.5 \n",
       "  \"/>\n",
       "<polyline clip-path=\"url(#clip5300)\" style=\"stroke:#000000; stroke-width:4; stroke-opacity:1; fill:none\" points=\"\n",
       "  225.378,1416.97 306.106,1416.97 \n",
       "  \"/>\n",
       "<polyline clip-path=\"url(#clip5300)\" style=\"stroke:#000000; stroke-width:4; stroke-opacity:1; fill:none\" points=\"\n",
       "  225.378,795.436 306.106,795.436 \n",
       "  \"/>\n",
       "<polyline clip-path=\"url(#clip5300)\" style=\"stroke:#000000; stroke-width:4; stroke-opacity:1; fill:none\" points=\"\n",
       "  225.378,173.901 306.106,173.901 \n",
       "  \"/>\n",
       "<path clip-path=\"url(#clip5300)\" d=\"M 0 0 M1581.74 2327.58 L1598.06 2327.58 L1598.06 2331.52 L1576.11 2331.52 L1576.11 2327.58 Q1578.77 2324.83 1583.36 2320.2 Q1587.96 2315.55 1589.15 2314.2 Q1591.39 2311.68 1592.27 2309.95 Q1593.17 2308.19 1593.17 2306.5 Q1593.17 2303.74 1591.23 2302.01 Q1589.31 2300.27 1586.21 2300.27 Q1584.01 2300.27 1581.55 2301.03 Q1579.12 2301.8 1576.34 2303.35 L1576.34 2298.63 Q1579.17 2297.49 1581.62 2296.91 Q1584.08 2296.33 1586.11 2296.33 Q1591.48 2296.33 1594.68 2299.02 Q1597.87 2301.7 1597.87 2306.2 Q1597.87 2308.32 1597.06 2310.25 Q1596.27 2312.14 1594.17 2314.74 Q1593.59 2315.41 1590.49 2318.63 Q1587.39 2321.82 1581.74 2327.58 Z\" fill=\"#000000\" fill-rule=\"evenodd\" fill-opacity=\"1\" /><path clip-path=\"url(#clip5300)\" d=\"M 0 0 M1613.13 2300.04 Q1609.52 2300.04 1607.69 2303.6 Q1605.88 2307.14 1605.88 2314.27 Q1605.88 2321.38 1607.69 2324.95 Q1609.52 2328.49 1613.13 2328.49 Q1616.76 2328.49 1618.57 2324.95 Q1620.39 2321.38 1620.39 2314.27 Q1620.39 2307.14 1618.57 2303.6 Q1616.76 2300.04 1613.13 2300.04 M1613.13 2296.33 Q1618.94 2296.33 1621.99 2300.94 Q1625.07 2305.52 1625.07 2314.27 Q1625.07 2323 1621.99 2327.61 Q1618.94 2332.19 1613.13 2332.19 Q1607.32 2332.19 1604.24 2327.61 Q1601.18 2323 1601.18 2314.27 Q1601.18 2305.52 1604.24 2300.94 Q1607.32 2296.33 1613.13 2296.33 Z\" fill=\"#000000\" fill-rule=\"evenodd\" fill-opacity=\"1\" /><path clip-path=\"url(#clip5300)\" d=\"M 0 0 M1630.95 2327.58 L1638.59 2327.58 L1638.59 2301.22 L1630.28 2302.89 L1630.28 2298.63 L1638.54 2296.96 L1643.22 2296.96 L1643.22 2327.58 L1650.86 2327.58 L1650.86 2331.52 L1630.95 2331.52 L1630.95 2327.58 Z\" fill=\"#000000\" fill-rule=\"evenodd\" fill-opacity=\"1\" /><path clip-path=\"url(#clip5300)\" d=\"M 0 0 M1670.09 2312.89 Q1673.45 2313.6 1675.33 2315.87 Q1677.22 2318.14 1677.22 2321.47 Q1677.22 2326.59 1673.7 2329.39 Q1670.19 2332.19 1663.7 2332.19 Q1661.53 2332.19 1659.21 2331.75 Q1656.92 2331.33 1654.47 2330.48 L1654.47 2325.96 Q1656.41 2327.1 1658.73 2327.68 Q1661.04 2328.26 1663.57 2328.26 Q1667.96 2328.26 1670.26 2326.52 Q1672.57 2324.78 1672.57 2321.47 Q1672.57 2318.42 1670.42 2316.7 Q1668.29 2314.97 1664.47 2314.97 L1660.44 2314.97 L1660.44 2311.13 L1664.65 2311.13 Q1668.1 2311.13 1669.93 2309.76 Q1671.76 2308.37 1671.76 2305.78 Q1671.76 2303.12 1669.86 2301.7 Q1667.99 2300.27 1664.47 2300.27 Q1662.55 2300.27 1660.35 2300.69 Q1658.15 2301.1 1655.51 2301.98 L1655.51 2297.82 Q1658.17 2297.08 1660.49 2296.7 Q1662.83 2296.33 1664.89 2296.33 Q1670.21 2296.33 1673.31 2298.76 Q1676.41 2301.17 1676.41 2305.29 Q1676.41 2308.16 1674.77 2310.15 Q1673.13 2312.12 1670.09 2312.89 Z\" fill=\"#000000\" fill-rule=\"evenodd\" fill-opacity=\"1\" /><path clip-path=\"url(#clip5300)\" d=\"M 0 0 M1679.54 2316.64 L1692.01 2316.64 L1692.01 2320.43 L1679.54 2320.43 L1679.54 2316.64 Z\" fill=\"#000000\" fill-rule=\"evenodd\" fill-opacity=\"1\" /><path clip-path=\"url(#clip5300)\" d=\"M 0 0 M1707.08 2300.04 Q1703.47 2300.04 1701.64 2303.6 Q1699.84 2307.14 1699.84 2314.27 Q1699.84 2321.38 1701.64 2324.95 Q1703.47 2328.49 1707.08 2328.49 Q1710.72 2328.49 1712.52 2324.95 Q1714.35 2321.38 1714.35 2314.27 Q1714.35 2307.14 1712.52 2303.6 Q1710.72 2300.04 1707.08 2300.04 M1707.08 2296.33 Q1712.89 2296.33 1715.95 2300.94 Q1719.03 2305.52 1719.03 2314.27 Q1719.03 2323 1715.95 2327.61 Q1712.89 2332.19 1707.08 2332.19 Q1701.27 2332.19 1698.2 2327.61 Q1695.14 2323 1695.14 2314.27 Q1695.14 2305.52 1698.2 2300.94 Q1701.27 2296.33 1707.08 2296.33 Z\" fill=\"#000000\" fill-rule=\"evenodd\" fill-opacity=\"1\" /><path clip-path=\"url(#clip5300)\" d=\"M 0 0 M1724.91 2327.58 L1732.55 2327.58 L1732.55 2301.22 L1724.24 2302.89 L1724.24 2298.63 L1732.5 2296.96 L1737.18 2296.96 L1737.18 2327.58 L1744.82 2327.58 L1744.82 2331.52 L1724.91 2331.52 L1724.91 2327.58 Z\" fill=\"#000000\" fill-rule=\"evenodd\" fill-opacity=\"1\" /><path clip-path=\"url(#clip5300)\" d=\"M 0 0 M1747.13 2316.64 L1759.61 2316.64 L1759.61 2320.43 L1747.13 2320.43 L1747.13 2316.64 Z\" fill=\"#000000\" fill-rule=\"evenodd\" fill-opacity=\"1\" /><path clip-path=\"url(#clip5300)\" d=\"M 0 0 M1774.68 2300.04 Q1771.07 2300.04 1769.24 2303.6 Q1767.43 2307.14 1767.43 2314.27 Q1767.43 2321.38 1769.24 2324.95 Q1771.07 2328.49 1774.68 2328.49 Q1778.31 2328.49 1780.12 2324.95 Q1781.95 2321.38 1781.95 2314.27 Q1781.95 2307.14 1780.12 2303.6 Q1778.31 2300.04 1774.68 2300.04 M1774.68 2296.33 Q1780.49 2296.33 1783.54 2300.94 Q1786.62 2305.52 1786.62 2314.27 Q1786.62 2323 1783.54 2327.61 Q1780.49 2332.19 1774.68 2332.19 Q1768.87 2332.19 1765.79 2327.61 Q1762.73 2323 1762.73 2314.27 Q1762.73 2305.52 1765.79 2300.94 Q1768.87 2296.33 1774.68 2296.33 Z\" fill=\"#000000\" fill-rule=\"evenodd\" fill-opacity=\"1\" /><path clip-path=\"url(#clip5300)\" d=\"M 0 0 M1792.5 2327.58 L1800.14 2327.58 L1800.14 2301.22 L1791.83 2302.89 L1791.83 2298.63 L1800.09 2296.96 L1804.77 2296.96 L1804.77 2327.58 L1812.41 2327.58 L1812.41 2331.52 L1792.5 2331.52 L1792.5 2327.58 Z\" fill=\"#000000\" fill-rule=\"evenodd\" fill-opacity=\"1\" /><path clip-path=\"url(#clip5300)\" d=\"M 0 0 M3440.32 2327.58 L3456.64 2327.58 L3456.64 2331.52 L3434.7 2331.52 L3434.7 2327.58 Q3437.36 2324.83 3441.94 2320.2 Q3446.55 2315.55 3447.73 2314.2 Q3449.97 2311.68 3450.85 2309.95 Q3451.76 2308.19 3451.76 2306.5 Q3451.76 2303.74 3449.81 2302.01 Q3447.89 2300.27 3444.79 2300.27 Q3442.59 2300.27 3440.14 2301.03 Q3437.71 2301.8 3434.93 2303.35 L3434.93 2298.63 Q3437.75 2297.49 3440.21 2296.91 Q3442.66 2296.33 3444.7 2296.33 Q3450.07 2296.33 3453.26 2299.02 Q3456.46 2301.7 3456.46 2306.2 Q3456.46 2308.32 3455.65 2310.25 Q3454.86 2312.14 3452.75 2314.74 Q3452.17 2315.41 3449.07 2318.63 Q3445.97 2321.82 3440.32 2327.58 Z\" fill=\"#000000\" fill-rule=\"evenodd\" fill-opacity=\"1\" /><path clip-path=\"url(#clip5300)\" d=\"M 0 0 M3471.71 2300.04 Q3468.1 2300.04 3466.27 2303.6 Q3464.47 2307.14 3464.47 2314.27 Q3464.47 2321.38 3466.27 2324.95 Q3468.1 2328.49 3471.71 2328.49 Q3475.35 2328.49 3477.15 2324.95 Q3478.98 2321.38 3478.98 2314.27 Q3478.98 2307.14 3477.15 2303.6 Q3475.35 2300.04 3471.71 2300.04 M3471.71 2296.33 Q3477.52 2296.33 3480.58 2300.94 Q3483.66 2305.52 3483.66 2314.27 Q3483.66 2323 3480.58 2327.61 Q3477.52 2332.19 3471.71 2332.19 Q3465.9 2332.19 3462.82 2327.61 Q3459.77 2323 3459.77 2314.27 Q3459.77 2305.52 3462.82 2300.94 Q3465.9 2296.33 3471.71 2296.33 Z\" fill=\"#000000\" fill-rule=\"evenodd\" fill-opacity=\"1\" /><path clip-path=\"url(#clip5300)\" d=\"M 0 0 M3489.53 2327.58 L3497.17 2327.58 L3497.17 2301.22 L3488.86 2302.89 L3488.86 2298.63 L3497.13 2296.96 L3501.8 2296.96 L3501.8 2327.58 L3509.44 2327.58 L3509.44 2331.52 L3489.53 2331.52 L3489.53 2327.58 Z\" fill=\"#000000\" fill-rule=\"evenodd\" fill-opacity=\"1\" /><path clip-path=\"url(#clip5300)\" d=\"M 0 0 M3527.36 2301.03 L3515.55 2319.48 L3527.36 2319.48 L3527.36 2301.03 M3526.13 2296.96 L3532.01 2296.96 L3532.01 2319.48 L3536.94 2319.48 L3536.94 2323.37 L3532.01 2323.37 L3532.01 2331.52 L3527.36 2331.52 L3527.36 2323.37 L3511.76 2323.37 L3511.76 2318.86 L3526.13 2296.96 Z\" fill=\"#000000\" fill-rule=\"evenodd\" fill-opacity=\"1\" /><path clip-path=\"url(#clip5300)\" d=\"M 0 0 M3539.26 2316.64 L3551.73 2316.64 L3551.73 2320.43 L3539.26 2320.43 L3539.26 2316.64 Z\" fill=\"#000000\" fill-rule=\"evenodd\" fill-opacity=\"1\" /><path clip-path=\"url(#clip5300)\" d=\"M 0 0 M3566.8 2300.04 Q3563.19 2300.04 3561.36 2303.6 Q3559.56 2307.14 3559.56 2314.27 Q3559.56 2321.38 3561.36 2324.95 Q3563.19 2328.49 3566.8 2328.49 Q3570.44 2328.49 3572.24 2324.95 Q3574.07 2321.38 3574.07 2314.27 Q3574.07 2307.14 3572.24 2303.6 Q3570.44 2300.04 3566.8 2300.04 M3566.8 2296.33 Q3572.61 2296.33 3575.67 2300.94 Q3578.75 2305.52 3578.75 2314.27 Q3578.75 2323 3575.67 2327.61 Q3572.61 2332.19 3566.8 2332.19 Q3560.99 2332.19 3557.91 2327.61 Q3554.86 2323 3554.86 2314.27 Q3554.86 2305.52 3557.91 2300.94 Q3560.99 2296.33 3566.8 2296.33 Z\" fill=\"#000000\" fill-rule=\"evenodd\" fill-opacity=\"1\" /><path clip-path=\"url(#clip5300)\" d=\"M 0 0 M3584.63 2327.58 L3592.27 2327.58 L3592.27 2301.22 L3583.96 2302.89 L3583.96 2298.63 L3592.22 2296.96 L3596.9 2296.96 L3596.9 2327.58 L3604.53 2327.58 L3604.53 2331.52 L3584.63 2331.52 L3584.63 2327.58 Z\" fill=\"#000000\" fill-rule=\"evenodd\" fill-opacity=\"1\" /><path clip-path=\"url(#clip5300)\" d=\"M 0 0 M3606.85 2316.64 L3619.33 2316.64 L3619.33 2320.43 L3606.85 2320.43 L3606.85 2316.64 Z\" fill=\"#000000\" fill-rule=\"evenodd\" fill-opacity=\"1\" /><path clip-path=\"url(#clip5300)\" d=\"M 0 0 M3634.4 2300.04 Q3630.78 2300.04 3628.96 2303.6 Q3627.15 2307.14 3627.15 2314.27 Q3627.15 2321.38 3628.96 2324.95 Q3630.78 2328.49 3634.4 2328.49 Q3638.03 2328.49 3639.84 2324.95 Q3641.66 2321.38 3641.66 2314.27 Q3641.66 2307.14 3639.84 2303.6 Q3638.03 2300.04 3634.4 2300.04 M3634.4 2296.33 Q3640.21 2296.33 3643.26 2300.94 Q3646.34 2305.52 3646.34 2314.27 Q3646.34 2323 3643.26 2327.61 Q3640.21 2332.19 3634.4 2332.19 Q3628.59 2332.19 3625.51 2327.61 Q3622.45 2323 3622.45 2314.27 Q3622.45 2305.52 3625.51 2300.94 Q3628.59 2296.33 3634.4 2296.33 Z\" fill=\"#000000\" fill-rule=\"evenodd\" fill-opacity=\"1\" /><path clip-path=\"url(#clip5300)\" d=\"M 0 0 M3652.22 2327.58 L3659.86 2327.58 L3659.86 2301.22 L3651.55 2302.89 L3651.55 2298.63 L3659.81 2296.96 L3664.49 2296.96 L3664.49 2327.58 L3672.13 2327.58 L3672.13 2331.52 L3652.22 2331.52 L3652.22 2327.58 Z\" fill=\"#000000\" fill-rule=\"evenodd\" fill-opacity=\"1\" /><path clip-path=\"url(#clip5300)\" d=\"M 0 0 M5300.21 2327.58 L5316.53 2327.58 L5316.53 2331.52 L5294.59 2331.52 L5294.59 2327.58 Q5297.25 2324.83 5301.83 2320.2 Q5306.44 2315.55 5307.62 2314.2 Q5309.87 2311.68 5310.75 2309.95 Q5311.65 2308.19 5311.65 2306.5 Q5311.65 2303.74 5309.71 2302.01 Q5307.78 2300.27 5304.68 2300.27 Q5302.48 2300.27 5300.03 2301.03 Q5297.6 2301.8 5294.82 2303.35 L5294.82 2298.63 Q5297.65 2297.49 5300.1 2296.91 Q5302.55 2296.33 5304.59 2296.33 Q5309.96 2296.33 5313.15 2299.02 Q5316.35 2301.7 5316.35 2306.2 Q5316.35 2308.32 5315.54 2310.25 Q5314.75 2312.14 5312.65 2314.74 Q5312.07 2315.41 5308.96 2318.63 Q5305.86 2321.82 5300.21 2327.58 Z\" fill=\"#000000\" fill-rule=\"evenodd\" fill-opacity=\"1\" /><path clip-path=\"url(#clip5300)\" d=\"M 0 0 M5331.6 2300.04 Q5327.99 2300.04 5326.16 2303.6 Q5324.36 2307.14 5324.36 2314.27 Q5324.36 2321.38 5326.16 2324.95 Q5327.99 2328.49 5331.6 2328.49 Q5335.24 2328.49 5337.04 2324.95 Q5338.87 2321.38 5338.87 2314.27 Q5338.87 2307.14 5337.04 2303.6 Q5335.24 2300.04 5331.6 2300.04 M5331.6 2296.33 Q5337.41 2296.33 5340.47 2300.94 Q5343.55 2305.52 5343.55 2314.27 Q5343.55 2323 5340.47 2327.61 Q5337.41 2332.19 5331.6 2332.19 Q5325.79 2332.19 5322.71 2327.61 Q5319.66 2323 5319.66 2314.27 Q5319.66 2305.52 5322.71 2300.94 Q5325.79 2296.33 5331.6 2296.33 Z\" fill=\"#000000\" fill-rule=\"evenodd\" fill-opacity=\"1\" /><path clip-path=\"url(#clip5300)\" d=\"M 0 0 M5349.43 2327.58 L5357.07 2327.58 L5357.07 2301.22 L5348.76 2302.89 L5348.76 2298.63 L5357.02 2296.96 L5361.7 2296.96 L5361.7 2327.58 L5369.33 2327.58 L5369.33 2331.52 L5349.43 2331.52 L5349.43 2327.58 Z\" fill=\"#000000\" fill-rule=\"evenodd\" fill-opacity=\"1\" /><path clip-path=\"url(#clip5300)\" d=\"M 0 0 M5374.45 2296.96 L5392.81 2296.96 L5392.81 2300.89 L5378.73 2300.89 L5378.73 2309.37 Q5379.75 2309.02 5380.77 2308.86 Q5381.79 2308.67 5382.81 2308.67 Q5388.59 2308.67 5391.97 2311.84 Q5395.35 2315.01 5395.35 2320.43 Q5395.35 2326.01 5391.88 2329.11 Q5388.41 2332.19 5382.09 2332.19 Q5379.91 2332.19 5377.64 2331.82 Q5375.4 2331.45 5372.99 2330.71 L5372.99 2326.01 Q5375.08 2327.14 5377.3 2327.7 Q5379.52 2328.26 5382 2328.26 Q5386 2328.26 5388.34 2326.15 Q5390.68 2324.04 5390.68 2320.43 Q5390.68 2316.82 5388.34 2314.71 Q5386 2312.61 5382 2312.61 Q5380.12 2312.61 5378.25 2313.02 Q5376.39 2313.44 5374.45 2314.32 L5374.45 2296.96 Z\" fill=\"#000000\" fill-rule=\"evenodd\" fill-opacity=\"1\" /><path clip-path=\"url(#clip5300)\" d=\"M 0 0 M5397.67 2316.64 L5410.14 2316.64 L5410.14 2320.43 L5397.67 2320.43 L5397.67 2316.64 Z\" fill=\"#000000\" fill-rule=\"evenodd\" fill-opacity=\"1\" /><path clip-path=\"url(#clip5300)\" d=\"M 0 0 M5425.21 2300.04 Q5421.6 2300.04 5419.77 2303.6 Q5417.97 2307.14 5417.97 2314.27 Q5417.97 2321.38 5419.77 2324.95 Q5421.6 2328.49 5425.21 2328.49 Q5428.85 2328.49 5430.65 2324.95 Q5432.48 2321.38 5432.48 2314.27 Q5432.48 2307.14 5430.65 2303.6 Q5428.85 2300.04 5425.21 2300.04 M5425.21 2296.33 Q5431.02 2296.33 5434.08 2300.94 Q5437.16 2305.52 5437.16 2314.27 Q5437.16 2323 5434.08 2327.61 Q5431.02 2332.19 5425.21 2332.19 Q5419.4 2332.19 5416.33 2327.61 Q5413.27 2323 5413.27 2314.27 Q5413.27 2305.52 5416.33 2300.94 Q5419.4 2296.33 5425.21 2296.33 Z\" fill=\"#000000\" fill-rule=\"evenodd\" fill-opacity=\"1\" /><path clip-path=\"url(#clip5300)\" d=\"M 0 0 M5443.04 2327.58 L5450.68 2327.58 L5450.68 2301.22 L5442.37 2302.89 L5442.37 2298.63 L5450.63 2296.96 L5455.31 2296.96 L5455.31 2327.58 L5462.95 2327.58 L5462.95 2331.52 L5443.04 2331.52 L5443.04 2327.58 Z\" fill=\"#000000\" fill-rule=\"evenodd\" fill-opacity=\"1\" /><path clip-path=\"url(#clip5300)\" d=\"M 0 0 M5465.26 2316.64 L5477.74 2316.64 L5477.74 2320.43 L5465.26 2320.43 L5465.26 2316.64 Z\" fill=\"#000000\" fill-rule=\"evenodd\" fill-opacity=\"1\" /><path clip-path=\"url(#clip5300)\" d=\"M 0 0 M5492.81 2300.04 Q5489.19 2300.04 5487.37 2303.6 Q5485.56 2307.14 5485.56 2314.27 Q5485.56 2321.38 5487.37 2324.95 Q5489.19 2328.49 5492.81 2328.49 Q5496.44 2328.49 5498.25 2324.95 Q5500.07 2321.38 5500.07 2314.27 Q5500.07 2307.14 5498.25 2303.6 Q5496.44 2300.04 5492.81 2300.04 M5492.81 2296.33 Q5498.62 2296.33 5501.67 2300.94 Q5504.75 2305.52 5504.75 2314.27 Q5504.75 2323 5501.67 2327.61 Q5498.62 2332.19 5492.81 2332.19 Q5487 2332.19 5483.92 2327.61 Q5480.86 2323 5480.86 2314.27 Q5480.86 2305.52 5483.92 2300.94 Q5487 2296.33 5492.81 2296.33 Z\" fill=\"#000000\" fill-rule=\"evenodd\" fill-opacity=\"1\" /><path clip-path=\"url(#clip5300)\" d=\"M 0 0 M5510.63 2327.58 L5518.27 2327.58 L5518.27 2301.22 L5509.96 2302.89 L5509.96 2298.63 L5518.22 2296.96 L5522.9 2296.96 L5522.9 2327.58 L5530.54 2327.58 L5530.54 2331.52 L5510.63 2331.52 L5510.63 2327.58 Z\" fill=\"#000000\" fill-rule=\"evenodd\" fill-opacity=\"1\" /><path clip-path=\"url(#clip5300)\" d=\"M 0 0 M121.234 2037.15 Q124.591 2037.87 126.466 2040.14 Q128.364 2042.41 128.364 2045.74 Q128.364 2050.85 124.846 2053.66 Q121.327 2056.46 114.846 2056.46 Q112.67 2056.46 110.355 2056.02 Q108.063 2055.6 105.61 2054.74 L105.61 2050.23 Q107.554 2051.36 109.869 2051.94 Q112.184 2052.52 114.707 2052.52 Q119.105 2052.52 121.397 2050.78 Q123.711 2049.05 123.711 2045.74 Q123.711 2042.68 121.559 2040.97 Q119.429 2039.23 115.61 2039.23 L111.582 2039.23 L111.582 2035.39 L115.795 2035.39 Q119.244 2035.39 121.072 2034.03 Q122.901 2032.64 122.901 2030.04 Q122.901 2027.38 121.003 2025.97 Q119.128 2024.53 115.61 2024.53 Q113.688 2024.53 111.489 2024.95 Q109.29 2025.37 106.651 2026.25 L106.651 2022.08 Q109.313 2021.34 111.628 2020.97 Q113.966 2020.6 116.026 2020.6 Q121.35 2020.6 124.452 2023.03 Q127.554 2025.44 127.554 2029.56 Q127.554 2032.43 125.91 2034.42 Q124.267 2036.39 121.234 2037.15 Z\" fill=\"#000000\" fill-rule=\"evenodd\" fill-opacity=\"1\" /><path clip-path=\"url(#clip5300)\" d=\"M 0 0 M143.433 2024.3 Q139.822 2024.3 137.994 2027.87 Q136.188 2031.41 136.188 2038.54 Q136.188 2045.65 137.994 2049.21 Q139.822 2052.75 143.433 2052.75 Q147.068 2052.75 148.873 2049.21 Q150.702 2045.65 150.702 2038.54 Q150.702 2031.41 148.873 2027.87 Q147.068 2024.3 143.433 2024.3 M143.433 2020.6 Q149.244 2020.6 152.299 2025.21 Q155.378 2029.79 155.378 2038.54 Q155.378 2047.27 152.299 2051.87 Q149.244 2056.46 143.433 2056.46 Q137.623 2056.46 134.545 2051.87 Q131.489 2047.27 131.489 2038.54 Q131.489 2029.79 134.545 2025.21 Q137.623 2020.6 143.433 2020.6 Z\" fill=\"#000000\" fill-rule=\"evenodd\" fill-opacity=\"1\" /><path clip-path=\"url(#clip5300)\" d=\"M 0 0 M118.781 1403.76 L106.975 1422.21 L118.781 1422.21 L118.781 1403.76 M117.554 1399.69 L123.434 1399.69 L123.434 1422.21 L128.364 1422.21 L128.364 1426.1 L123.434 1426.1 L123.434 1434.25 L118.781 1434.25 L118.781 1426.1 L103.179 1426.1 L103.179 1421.59 L117.554 1399.69 Z\" fill=\"#000000\" fill-rule=\"evenodd\" fill-opacity=\"1\" /><path clip-path=\"url(#clip5300)\" d=\"M 0 0 M143.433 1402.77 Q139.822 1402.77 137.994 1406.33 Q136.188 1409.88 136.188 1417 Q136.188 1424.11 137.994 1427.68 Q139.822 1431.22 143.433 1431.22 Q147.068 1431.22 148.873 1427.68 Q150.702 1424.11 150.702 1417 Q150.702 1409.88 148.873 1406.33 Q147.068 1402.77 143.433 1402.77 M143.433 1399.07 Q149.244 1399.07 152.299 1403.67 Q155.378 1408.25 155.378 1417 Q155.378 1425.73 152.299 1430.34 Q149.244 1434.92 143.433 1434.92 Q137.623 1434.92 134.545 1430.34 Q131.489 1425.73 131.489 1417 Q131.489 1408.25 134.545 1403.67 Q137.623 1399.07 143.433 1399.07 Z\" fill=\"#000000\" fill-rule=\"evenodd\" fill-opacity=\"1\" /><path clip-path=\"url(#clip5300)\" d=\"M 0 0 M107.461 778.156 L125.818 778.156 L125.818 782.091 L111.744 782.091 L111.744 790.563 Q112.762 790.216 113.781 790.054 Q114.799 789.869 115.818 789.869 Q121.605 789.869 124.984 793.04 Q128.364 796.211 128.364 801.628 Q128.364 807.206 124.892 810.308 Q121.42 813.387 115.1 813.387 Q112.924 813.387 110.656 813.017 Q108.41 812.646 106.003 811.905 L106.003 807.206 Q108.086 808.341 110.309 808.896 Q112.531 809.452 115.008 809.452 Q119.012 809.452 121.35 807.345 Q123.688 805.239 123.688 801.628 Q123.688 798.017 121.35 795.91 Q119.012 793.804 115.008 793.804 Q113.133 793.804 111.258 794.22 Q109.406 794.637 107.461 795.517 L107.461 778.156 Z\" fill=\"#000000\" fill-rule=\"evenodd\" fill-opacity=\"1\" /><path clip-path=\"url(#clip5300)\" d=\"M 0 0 M143.433 781.234 Q139.822 781.234 137.994 784.799 Q136.188 788.341 136.188 795.47 Q136.188 802.577 137.994 806.142 Q139.822 809.683 143.433 809.683 Q147.068 809.683 148.873 806.142 Q150.702 802.577 150.702 795.47 Q150.702 788.341 148.873 784.799 Q147.068 781.234 143.433 781.234 M143.433 777.531 Q149.244 777.531 152.299 782.137 Q155.378 786.72 155.378 795.47 Q155.378 804.197 152.299 808.804 Q149.244 813.387 143.433 813.387 Q137.623 813.387 134.545 808.804 Q131.489 804.197 131.489 795.47 Q131.489 786.72 134.545 782.137 Q137.623 777.531 143.433 777.531 Z\" fill=\"#000000\" fill-rule=\"evenodd\" fill-opacity=\"1\" /><path clip-path=\"url(#clip5300)\" d=\"M 0 0 M116.836 172.038 Q113.688 172.038 111.836 174.191 Q110.008 176.343 110.008 180.093 Q110.008 183.82 111.836 185.996 Q113.688 188.149 116.836 188.149 Q119.984 188.149 121.813 185.996 Q123.665 183.82 123.665 180.093 Q123.665 176.343 121.813 174.191 Q119.984 172.038 116.836 172.038 M126.119 157.385 L126.119 161.644 Q124.359 160.811 122.554 160.371 Q120.772 159.931 119.012 159.931 Q114.383 159.931 111.929 163.056 Q109.498 166.181 109.151 172.501 Q110.517 170.487 112.577 169.422 Q114.637 168.334 117.114 168.334 Q122.322 168.334 125.332 171.505 Q128.364 174.653 128.364 180.093 Q128.364 185.417 125.216 188.635 Q122.068 191.852 116.836 191.852 Q110.841 191.852 107.67 187.269 Q104.498 182.663 104.498 173.936 Q104.498 165.741 108.387 160.88 Q112.276 155.996 118.827 155.996 Q120.586 155.996 122.369 156.343 Q124.174 156.691 126.119 157.385 Z\" fill=\"#000000\" fill-rule=\"evenodd\" fill-opacity=\"1\" /><path clip-path=\"url(#clip5300)\" d=\"M 0 0 M143.433 159.7 Q139.822 159.7 137.994 163.265 Q136.188 166.806 136.188 173.936 Q136.188 181.042 137.994 184.607 Q139.822 188.149 143.433 188.149 Q147.068 188.149 148.873 184.607 Q150.702 181.042 150.702 173.936 Q150.702 166.806 148.873 163.265 Q147.068 159.7 143.433 159.7 M143.433 155.996 Q149.244 155.996 152.299 160.603 Q155.378 165.186 155.378 173.936 Q155.378 182.663 152.299 187.269 Q149.244 191.852 143.433 191.852 Q137.623 191.852 134.545 187.269 Q131.489 182.663 131.489 173.936 Q131.489 165.186 134.545 160.603 Q137.623 155.996 143.433 155.996 Z\" fill=\"#000000\" fill-rule=\"evenodd\" fill-opacity=\"1\" /><path clip-path=\"url(#clip5300)\" d=\"M 0 0 M3252.25 12.096 L3260.44 12.096 L3260.44 72.576 L3252.25 72.576 L3252.25 12.096 Z\" fill=\"#000000\" fill-rule=\"evenodd\" fill-opacity=\"1\" /><path clip-path=\"url(#clip5300)\" d=\"M 0 0 M3304.84 14.0809 L3304.84 22.0612 Q3300.18 19.8332 3296.04 18.7395 Q3291.91 17.6457 3288.06 17.6457 Q3281.38 17.6457 3277.73 20.2383 Q3274.13 22.8309 3274.13 27.611 Q3274.13 31.6214 3276.52 33.6873 Q3278.95 35.7128 3285.67 36.9686 L3290.62 37.9813 Q3299.77 39.7232 3304.11 44.1387 Q3308.48 48.5136 3308.48 55.8863 Q3308.48 64.6767 3302.57 69.2137 Q3296.69 73.7508 3285.31 73.7508 Q3281.02 73.7508 3276.15 72.7785 Q3271.33 71.8063 3266.15 69.9024 L3266.15 61.4765 Q3271.13 64.2716 3275.91 65.6895 Q3280.69 67.1073 3285.31 67.1073 Q3292.32 67.1073 3296.13 64.3527 Q3299.93 61.598 3299.93 56.4939 Q3299.93 52.0379 3297.18 49.5264 Q3294.46 47.0148 3288.23 45.759 L3283.24 44.7868 Q3274.09 42.9639 3270 39.075 Q3265.91 35.1862 3265.91 28.2591 Q3265.91 20.2383 3271.54 15.6203 Q3277.21 11.0023 3287.13 11.0023 Q3291.39 11.0023 3295.8 11.7719 Q3300.22 12.5416 3304.84 14.0809 Z\" fill=\"#000000\" fill-rule=\"evenodd\" fill-opacity=\"1\" /><path clip-path=\"url(#clip5300)\" d=\"M 0 0 M3316.62 12.096 L3328.82 12.096 L3344.25 53.2532 L3359.77 12.096 L3371.96 12.096 L3371.96 72.576 L3363.98 72.576 L3363.98 19.4686 L3348.38 60.9499 L3340.16 60.9499 L3324.56 19.4686 L3324.56 72.576 L3316.62 72.576 L3316.62 12.096 Z\" fill=\"#000000\" fill-rule=\"evenodd\" fill-opacity=\"1\" /><path clip-path=\"url(#clip5300)\" d=\"M 0 0 M3406.47 12.096 L3418.67 12.096 L3434.1 53.2532 L3449.61 12.096 L3461.81 12.096 L3461.81 72.576 L3453.83 72.576 L3453.83 19.4686 L3438.23 60.9499 L3430.01 60.9499 L3414.41 19.4686 L3414.41 72.576 L3406.47 72.576 L3406.47 12.096 Z\" fill=\"#000000\" fill-rule=\"evenodd\" fill-opacity=\"1\" /><path clip-path=\"url(#clip5300)\" d=\"M 0 0 M3490.25 49.7694 Q3481.21 49.7694 3477.73 51.8354 Q3474.24 53.9013 3474.24 58.8839 Q3474.24 62.8538 3476.84 65.2034 Q3479.47 67.5124 3483.97 67.5124 Q3490.16 67.5124 3493.89 63.1374 Q3497.66 58.7219 3497.66 51.4303 L3497.66 49.7694 L3490.25 49.7694 M3505.11 46.6907 L3505.11 72.576 L3497.66 72.576 L3497.66 65.6895 Q3495.11 69.8214 3491.3 71.8063 Q3487.49 73.7508 3481.98 73.7508 Q3475.01 73.7508 3470.88 69.8619 Q3466.79 65.9325 3466.79 59.3701 Q3466.79 51.7138 3471.89 47.825 Q3477.04 43.9361 3487.21 43.9361 L3497.66 43.9361 L3497.66 43.2069 Q3497.66 38.0623 3494.26 35.2672 Q3490.89 32.4315 3484.78 32.4315 Q3480.89 32.4315 3477.2 33.3632 Q3473.51 34.295 3470.11 36.1584 L3470.11 29.2718 Q3474.2 27.692 3478.05 26.9223 Q3481.9 26.1121 3485.55 26.1121 Q3495.39 26.1121 3500.25 31.2163 Q3505.11 36.3204 3505.11 46.6907 Z\" fill=\"#000000\" fill-rule=\"evenodd\" fill-opacity=\"1\" /><path clip-path=\"url(#clip5300)\" d=\"M 0 0 M3550.64 45.1919 L3550.64 72.576 L3543.19 72.576 L3543.19 45.4349 Q3543.19 38.994 3540.68 35.7938 Q3538.17 32.5936 3533.14 32.5936 Q3527.11 32.5936 3523.62 36.4419 Q3520.14 40.2903 3520.14 46.9338 L3520.14 72.576 L3512.65 72.576 L3512.65 27.2059 L3520.14 27.2059 L3520.14 34.2544 Q3522.81 30.163 3526.42 28.1376 Q3530.07 26.1121 3534.8 26.1121 Q3542.62 26.1121 3546.63 30.9732 Q3550.64 35.7938 3550.64 45.1919 Z\" fill=\"#000000\" fill-rule=\"evenodd\" fill-opacity=\"1\" /><path clip-path=\"url(#clip5300)\" d=\"M 0 0 M3557.69 54.671 L3557.69 27.2059 L3565.15 27.2059 L3565.15 54.3874 Q3565.15 60.8284 3567.66 64.0691 Q3570.17 67.2693 3575.19 67.2693 Q3581.23 67.2693 3584.71 63.421 Q3588.24 59.5726 3588.24 52.9291 L3588.24 27.2059 L3595.69 27.2059 L3595.69 72.576 L3588.24 72.576 L3588.24 65.6084 Q3585.52 69.7404 3581.92 71.7658 Q3578.35 73.7508 3573.61 73.7508 Q3565.79 73.7508 3561.74 68.8897 Q3557.69 64.0286 3557.69 54.671 M3576.45 26.1121 L3576.45 26.1121 Z\" fill=\"#000000\" fill-rule=\"evenodd\" fill-opacity=\"1\" /><path clip-path=\"url(#clip5300)\" d=\"M 0 0 M3626.48 9.54393 L3626.48 15.7418 L3619.35 15.7418 Q3615.34 15.7418 3613.76 17.3622 Q3612.22 18.9825 3612.22 23.1955 L3612.22 27.2059 L3624.49 27.2059 L3624.49 32.9987 L3612.22 32.9987 L3612.22 72.576 L3604.72 72.576 L3604.72 32.9987 L3597.59 32.9987 L3597.59 27.2059 L3604.72 27.2059 L3604.72 24.0462 Q3604.72 16.471 3608.25 13.0277 Q3611.77 9.54393 3619.43 9.54393 L3626.48 9.54393 Z\" fill=\"#000000\" fill-rule=\"evenodd\" fill-opacity=\"1\" /><path clip-path=\"url(#clip5300)\" d=\"M 0 0 M3654.91 49.7694 Q3645.88 49.7694 3642.4 51.8354 Q3638.91 53.9013 3638.91 58.8839 Q3638.91 62.8538 3641.51 65.2034 Q3644.14 67.5124 3648.64 67.5124 Q3654.83 67.5124 3658.56 63.1374 Q3662.33 58.7219 3662.33 51.4303 L3662.33 49.7694 L3654.91 49.7694 M3669.78 46.6907 L3669.78 72.576 L3662.33 72.576 L3662.33 65.6895 Q3659.78 69.8214 3655.97 71.8063 Q3652.16 73.7508 3646.65 73.7508 Q3639.68 73.7508 3635.55 69.8619 Q3631.46 65.9325 3631.46 59.3701 Q3631.46 51.7138 3636.56 47.825 Q3641.71 43.9361 3651.88 43.9361 L3662.33 43.9361 L3662.33 43.2069 Q3662.33 38.0623 3658.92 35.2672 Q3655.56 32.4315 3649.45 32.4315 Q3645.56 32.4315 3641.87 33.3632 Q3638.18 34.295 3634.78 36.1584 L3634.78 29.2718 Q3638.87 27.692 3642.72 26.9223 Q3646.57 26.1121 3650.22 26.1121 Q3660.06 26.1121 3664.92 31.2163 Q3669.78 36.3204 3669.78 46.6907 Z\" fill=\"#000000\" fill-rule=\"evenodd\" fill-opacity=\"1\" /><path clip-path=\"url(#clip5300)\" d=\"M 0 0 M3710.25 28.9478 L3710.25 35.9153 Q3707.09 34.1734 3703.89 33.3227 Q3700.73 32.4315 3697.49 32.4315 Q3690.24 32.4315 3686.23 37.0496 Q3682.22 41.6271 3682.22 49.9314 Q3682.22 58.2358 3686.23 62.8538 Q3690.24 67.4314 3697.49 67.4314 Q3700.73 67.4314 3703.89 66.5807 Q3707.09 65.6895 3710.25 63.9476 L3710.25 70.8341 Q3707.13 72.2924 3703.77 73.0216 Q3700.45 73.7508 3696.68 73.7508 Q3686.43 73.7508 3680.39 67.3098 Q3674.36 60.8689 3674.36 49.9314 Q3674.36 38.832 3680.44 32.472 Q3686.55 26.1121 3697.17 26.1121 Q3700.61 26.1121 3703.89 26.8413 Q3707.17 27.5299 3710.25 28.9478 Z\" fill=\"#000000\" fill-rule=\"evenodd\" fill-opacity=\"1\" /><path clip-path=\"url(#clip5300)\" d=\"M 0 0 M3725.44 14.324 L3725.44 27.2059 L3740.79 27.2059 L3740.79 32.9987 L3725.44 32.9987 L3725.44 57.6282 Q3725.44 63.1779 3726.94 64.7578 Q3728.48 66.3376 3733.14 66.3376 L3740.79 66.3376 L3740.79 72.576 L3733.14 72.576 Q3724.51 72.576 3721.23 69.3758 Q3717.95 66.1351 3717.95 57.6282 L3717.95 32.9987 L3712.48 32.9987 L3712.48 27.2059 L3717.95 27.2059 L3717.95 14.324 L3725.44 14.324 Z\" fill=\"#000000\" fill-rule=\"evenodd\" fill-opacity=\"1\" /><path clip-path=\"url(#clip5300)\" d=\"M 0 0 M3747.84 54.671 L3747.84 27.2059 L3755.3 27.2059 L3755.3 54.3874 Q3755.3 60.8284 3757.81 64.0691 Q3760.32 67.2693 3765.34 67.2693 Q3771.38 67.2693 3774.86 63.421 Q3778.39 59.5726 3778.39 52.9291 L3778.39 27.2059 L3785.84 27.2059 L3785.84 72.576 L3778.39 72.576 L3778.39 65.6084 Q3775.67 69.7404 3772.07 71.7658 Q3768.5 73.7508 3763.76 73.7508 Q3755.94 73.7508 3751.89 68.8897 Q3747.84 64.0286 3747.84 54.671 M3766.6 26.1121 L3766.6 26.1121 Z\" fill=\"#000000\" fill-rule=\"evenodd\" fill-opacity=\"1\" /><path clip-path=\"url(#clip5300)\" d=\"M 0 0 M3819.95 34.1734 Q3818.69 33.4443 3817.19 33.1202 Q3815.74 32.7556 3813.95 32.7556 Q3807.63 32.7556 3804.23 36.8875 Q3800.87 40.9789 3800.87 48.6757 L3800.87 72.576 L3793.37 72.576 L3793.37 27.2059 L3800.87 27.2059 L3800.87 34.2544 Q3803.22 30.1225 3806.99 28.1376 Q3810.75 26.1121 3816.14 26.1121 Q3816.91 26.1121 3817.84 26.2337 Q3818.77 26.3147 3819.91 26.5172 L3819.95 34.1734 Z\" fill=\"#000000\" fill-rule=\"evenodd\" fill-opacity=\"1\" /><path clip-path=\"url(#clip5300)\" d=\"M 0 0 M3827.77 27.2059 L3835.22 27.2059 L3835.22 72.576 L3827.77 72.576 L3827.77 27.2059 M3827.77 9.54393 L3835.22 9.54393 L3835.22 18.9825 L3827.77 18.9825 L3827.77 9.54393 Z\" fill=\"#000000\" fill-rule=\"evenodd\" fill-opacity=\"1\" /><path clip-path=\"url(#clip5300)\" d=\"M 0 0 M3880.75 45.1919 L3880.75 72.576 L3873.3 72.576 L3873.3 45.4349 Q3873.3 38.994 3870.79 35.7938 Q3868.28 32.5936 3863.25 32.5936 Q3857.22 32.5936 3853.73 36.4419 Q3850.25 40.2903 3850.25 46.9338 L3850.25 72.576 L3842.75 72.576 L3842.75 27.2059 L3850.25 27.2059 L3850.25 34.2544 Q3852.92 30.163 3856.53 28.1376 Q3860.17 26.1121 3864.91 26.1121 Q3872.73 26.1121 3876.74 30.9732 Q3880.75 35.7938 3880.75 45.1919 Z\" fill=\"#000000\" fill-rule=\"evenodd\" fill-opacity=\"1\" /><path clip-path=\"url(#clip5300)\" d=\"M 0 0 M3918.43 49.3643 Q3918.43 41.2625 3915.06 36.8065 Q3911.74 32.3505 3905.71 32.3505 Q3899.71 32.3505 3896.35 36.8065 Q3893.03 41.2625 3893.03 49.3643 Q3893.03 57.4256 3896.35 61.8816 Q3899.71 66.3376 3905.71 66.3376 Q3911.74 66.3376 3915.06 61.8816 Q3918.43 57.4256 3918.43 49.3643 M3925.88 66.9452 Q3925.88 78.5308 3920.73 84.1616 Q3915.59 89.8329 3904.98 89.8329 Q3901.05 89.8329 3897.56 89.2252 Q3894.08 88.6581 3890.8 87.4428 L3890.8 80.1917 Q3894.08 81.9741 3897.28 82.8248 Q3900.48 83.6755 3903.8 83.6755 Q3911.13 83.6755 3914.78 79.8271 Q3918.43 76.0193 3918.43 68.282 L3918.43 64.5957 Q3916.12 68.6061 3912.51 70.5911 Q3908.91 72.576 3903.88 72.576 Q3895.54 72.576 3890.43 66.2161 Q3885.33 59.8562 3885.33 49.3643 Q3885.33 38.832 3890.43 32.472 Q3895.54 26.1121 3903.88 26.1121 Q3908.91 26.1121 3912.51 28.0971 Q3916.12 30.082 3918.43 34.0924 L3918.43 27.2059 L3925.88 27.2059 L3925.88 66.9452 Z\" fill=\"#000000\" fill-rule=\"evenodd\" fill-opacity=\"1\" /><path clip-path=\"url(#clip5300)\" d=\"M 0 0 M3534.83 2388.14 L3534.83 2398.26 L3546.89 2398.26 L3546.89 2402.81 L3534.83 2402.81 L3534.83 2422.17 Q3534.83 2426.53 3536.01 2427.77 Q3537.22 2429.01 3540.88 2429.01 L3546.89 2429.01 L3546.89 2433.91 L3540.88 2433.91 Q3534.1 2433.91 3531.52 2431.4 Q3528.94 2428.85 3528.94 2422.17 L3528.94 2402.81 L3524.65 2402.81 L3524.65 2398.26 L3528.94 2398.26 L3528.94 2388.14 L3534.83 2388.14 Z\" fill=\"#000000\" fill-rule=\"evenodd\" fill-opacity=\"1\" /><path clip-path=\"url(#clip5300)\" d=\"M 0 0 M3553.04 2398.26 L3558.89 2398.26 L3558.89 2433.91 L3553.04 2433.91 L3553.04 2398.26 M3553.04 2384.39 L3558.89 2384.39 L3558.89 2391.8 L3553.04 2391.8 L3553.04 2384.39 Z\" fill=\"#000000\" fill-rule=\"evenodd\" fill-opacity=\"1\" /><path clip-path=\"url(#clip5300)\" d=\"M 0 0 M3592.79 2405.11 Q3594.99 2401.16 3598.04 2399.28 Q3601.1 2397.4 3605.24 2397.4 Q3610.81 2397.4 3613.83 2401.32 Q3616.85 2405.2 3616.85 2412.4 L3616.85 2433.91 L3610.96 2433.91 L3610.96 2412.59 Q3610.96 2407.46 3609.15 2404.98 Q3607.34 2402.5 3603.61 2402.5 Q3599.06 2402.5 3596.42 2405.52 Q3593.78 2408.54 3593.78 2413.76 L3593.78 2433.91 L3587.89 2433.91 L3587.89 2412.59 Q3587.89 2407.43 3586.07 2404.98 Q3584.26 2402.5 3580.47 2402.5 Q3575.99 2402.5 3573.34 2405.55 Q3570.7 2408.58 3570.7 2413.76 L3570.7 2433.91 L3564.81 2433.91 L3564.81 2398.26 L3570.7 2398.26 L3570.7 2403.8 Q3572.71 2400.52 3575.51 2398.96 Q3578.31 2397.4 3582.16 2397.4 Q3586.04 2397.4 3588.75 2399.38 Q3591.49 2401.35 3592.79 2405.11 Z\" fill=\"#000000\" fill-rule=\"evenodd\" fill-opacity=\"1\" /><path clip-path=\"url(#clip5300)\" d=\"M 0 0 M3653.49 2414.62 L3653.49 2417.49 L3626.56 2417.49 Q3626.94 2423.54 3630.19 2426.72 Q3633.47 2429.87 3639.29 2429.87 Q3642.67 2429.87 3645.82 2429.04 Q3649 2428.21 3652.12 2426.56 L3652.12 2432.1 Q3648.97 2433.43 3645.66 2434.13 Q3642.35 2434.83 3638.94 2434.83 Q3630.41 2434.83 3625.42 2429.87 Q3620.45 2424.9 3620.45 2416.44 Q3620.45 2407.68 3625.16 2402.56 Q3629.9 2397.4 3637.92 2397.4 Q3645.12 2397.4 3649.29 2402.05 Q3653.49 2406.67 3653.49 2414.62 M3647.63 2412.9 Q3647.57 2408.1 3644.93 2405.23 Q3642.32 2402.37 3637.99 2402.37 Q3633.09 2402.37 3630.13 2405.14 Q3627.2 2407.91 3626.75 2412.94 L3647.63 2412.9 Z\" fill=\"#000000\" fill-rule=\"evenodd\" fill-opacity=\"1\" /><path clip-path=\"url(#clip5300)\" d=\"M 0 0 M-16.7249 1310.97 L-16.7249 1305.12 L18.923 1305.12 L18.923 1310.97 L-16.7249 1310.97 M-30.6022 1310.97 L-30.6022 1305.12 L-23.1861 1305.12 L-23.1861 1310.97 L-30.6022 1310.97 Z\" fill=\"#000000\" fill-rule=\"evenodd\" fill-opacity=\"1\" /><path clip-path=\"url(#clip5300)\" d=\"M 0 0 M-2.59307 1269.34 L18.923 1269.34 L18.923 1275.2 L-2.4021 1275.2 Q-7.46284 1275.2 -9.97729 1277.17 Q-12.4917 1279.14 -12.4917 1283.09 Q-12.4917 1287.83 -9.46804 1290.57 Q-6.44433 1293.31 -1.22445 1293.31 L18.923 1293.31 L18.923 1299.2 L-16.7249 1299.2 L-16.7249 1293.31 L-11.1868 1293.31 Q-14.4015 1291.21 -15.9929 1288.37 Q-17.5843 1285.51 -17.5843 1281.79 Q-17.5843 1275.64 -13.7649 1272.49 Q-9.97729 1269.34 -2.59307 1269.34 Z\" fill=\"#000000\" fill-rule=\"evenodd\" fill-opacity=\"1\" /><path clip-path=\"url(#clip5300)\" d=\"M 0 0 M-11.3141 1239.74 L-30.6022 1239.74 L-30.6022 1233.88 L18.923 1233.88 L18.923 1239.74 L13.5758 1239.74 Q16.7587 1241.59 18.3183 1244.42 Q19.846 1247.22 19.846 1251.17 Q19.846 1257.63 14.6898 1261.7 Q9.5336 1265.74 1.13086 1265.74 Q-7.27187 1265.74 -12.4281 1261.7 Q-17.5843 1257.63 -17.5843 1251.17 Q-17.5843 1247.22 -16.0247 1244.42 Q-14.4969 1241.59 -11.3141 1239.74 M1.13086 1259.7 Q7.59206 1259.7 11.2842 1257.06 Q14.9444 1254.38 14.9444 1249.73 Q14.9444 1245.09 11.2842 1242.41 Q7.59206 1239.74 1.13086 1239.74 Q-5.33033 1239.74 -8.99061 1242.41 Q-12.6827 1245.09 -12.6827 1249.73 Q-12.6827 1254.38 -8.99061 1257.06 Q-5.33033 1259.7 1.13086 1259.7 Z\" fill=\"#000000\" fill-rule=\"evenodd\" fill-opacity=\"1\" /><path clip-path=\"url(#clip5300)\" d=\"M 0 0 M-16.7249 1227.74 L-16.7249 1221.88 L18.923 1221.88 L18.923 1227.74 L-16.7249 1227.74 M-30.6022 1227.74 L-30.6022 1221.88 L-23.1861 1221.88 L-23.1861 1227.74 L-30.6022 1227.74 Z\" fill=\"#000000\" fill-rule=\"evenodd\" fill-opacity=\"1\" /><path clip-path=\"url(#clip5300)\" d=\"M 0 0 M-15.3563 1190.09 L-9.88181 1190.09 Q-11.2504 1192.57 -11.9188 1195.09 Q-12.6191 1197.57 -12.6191 1200.11 Q-12.6191 1205.81 -8.99061 1208.96 Q-5.39398 1212.11 1.13086 1212.11 Q7.65571 1212.11 11.2842 1208.96 Q14.8808 1205.81 14.8808 1200.11 Q14.8808 1197.57 14.2124 1195.09 Q13.5122 1192.57 12.1435 1190.09 L17.5544 1190.09 Q18.7002 1192.54 19.2731 1195.18 Q19.846 1197.79 19.846 1200.75 Q19.846 1208.8 14.7853 1213.55 Q9.72457 1218.29 1.13086 1218.29 Q-7.59015 1218.29 -12.5872 1213.51 Q-17.5843 1208.71 -17.5843 1200.37 Q-17.5843 1197.66 -17.0114 1195.09 Q-16.4703 1192.51 -15.3563 1190.09 Z\" fill=\"#000000\" fill-rule=\"evenodd\" fill-opacity=\"1\" /><path clip-path=\"url(#clip5300)\" d=\"M 0 0 M1.00355 1167.74 Q1.00355 1174.84 2.62681 1177.58 Q4.25006 1180.32 8.16497 1180.32 Q11.2842 1180.32 13.1302 1178.28 Q14.9444 1176.21 14.9444 1172.68 Q14.9444 1167.81 11.507 1164.88 Q8.03766 1161.92 2.30852 1161.92 L1.00355 1161.92 L1.00355 1167.74 M-1.41542 1156.06 L18.923 1156.06 L18.923 1161.92 L13.5122 1161.92 Q16.7587 1163.93 18.3183 1166.92 Q19.846 1169.91 19.846 1174.24 Q19.846 1179.71 16.7905 1182.96 Q13.7031 1186.17 8.54691 1186.17 Q2.53132 1186.17 -0.524219 1182.16 Q-3.57976 1178.12 -3.57976 1170.13 L-3.57976 1161.92 L-4.15267 1161.92 Q-8.1949 1161.92 -10.3911 1164.59 Q-12.6191 1167.24 -12.6191 1172.04 Q-12.6191 1175.1 -11.887 1177.99 Q-11.1549 1180.89 -9.69084 1183.56 L-15.1017 1183.56 Q-16.343 1180.35 -16.9477 1177.32 Q-17.5843 1174.3 -17.5843 1171.44 Q-17.5843 1163.7 -13.5739 1159.88 Q-9.56352 1156.06 -1.41542 1156.06 Z\" fill=\"#000000\" fill-rule=\"evenodd\" fill-opacity=\"1\" /><path clip-path=\"url(#clip5300)\" d=\"M 0 0 M-26.8464 1144.13 L-16.7249 1144.13 L-16.7249 1132.06 L-12.1735 1132.06 L-12.1735 1144.13 L7.17829 1144.13 Q11.5388 1144.13 12.7801 1142.95 Q14.0214 1141.74 14.0214 1138.08 L14.0214 1132.06 L18.923 1132.06 L18.923 1138.08 Q18.923 1144.86 16.4086 1147.44 Q13.8623 1150.02 7.17829 1150.02 L-12.1735 1150.02 L-12.1735 1154.31 L-16.7249 1154.31 L-16.7249 1150.02 L-26.8464 1150.02 L-26.8464 1144.13 Z\" fill=\"#000000\" fill-rule=\"evenodd\" fill-opacity=\"1\" /><path clip-path=\"url(#clip5300)\" d=\"M 0 0 M-12.6191 1112.11 Q-12.6191 1116.82 -8.92695 1119.56 Q-5.26667 1122.29 1.13086 1122.29 Q7.5284 1122.29 11.2205 1119.59 Q14.8808 1116.85 14.8808 1112.11 Q14.8808 1107.43 11.1887 1104.69 Q7.49657 1101.95 1.13086 1101.95 Q-5.20301 1101.95 -8.89512 1104.69 Q-12.6191 1107.43 -12.6191 1112.11 M-17.5843 1112.11 Q-17.5843 1104.47 -12.6191 1100.11 Q-7.65381 1095.75 1.13086 1095.75 Q9.88371 1095.75 14.8808 1100.11 Q19.846 1104.47 19.846 1112.11 Q19.846 1119.78 14.8808 1124.14 Q9.88371 1128.47 1.13086 1128.47 Q-7.65381 1128.47 -12.6191 1124.14 Q-17.5843 1119.78 -17.5843 1112.11 Z\" fill=\"#000000\" fill-rule=\"evenodd\" fill-opacity=\"1\" /><path clip-path=\"url(#clip5300)\" d=\"M 0 0 M-11.2504 1068.95 Q-11.8233 1069.94 -12.078 1071.11 Q-12.3644 1072.26 -12.3644 1073.66 Q-12.3644 1078.62 -9.11792 1081.3 Q-5.90324 1083.94 0.14418 1083.94 L18.923 1083.94 L18.923 1089.83 L-16.7249 1089.83 L-16.7249 1083.94 L-11.1868 1083.94 Q-14.4333 1082.09 -15.9929 1079.13 Q-17.5843 1076.17 -17.5843 1071.94 Q-17.5843 1071.34 -17.4888 1070.6 Q-17.4252 1069.87 -17.266 1068.98 L-11.2504 1068.95 Z\" fill=\"#000000\" fill-rule=\"evenodd\" fill-opacity=\"1\" /><path clip-path=\"url(#clip5300)\" d=\"M 0 0 M-15.6746 1040.08 L-10.1364 1040.08 Q-11.4096 1042.56 -12.0461 1045.24 Q-12.6827 1047.91 -12.6827 1050.77 Q-12.6827 1055.14 -11.3459 1057.33 Q-10.0091 1059.5 -7.33553 1059.5 Q-5.2985 1059.5 -4.12084 1057.94 Q-2.97502 1056.38 -1.92467 1051.67 L-1.47908 1049.66 Q-0.142277 1043.42 2.30852 1040.81 Q4.72749 1038.17 9.088 1038.17 Q14.0532 1038.17 16.9496 1042.12 Q19.846 1046.03 19.846 1052.91 Q19.846 1055.77 19.2731 1058.89 Q18.732 1061.98 17.618 1065.42 L11.5706 1065.42 Q13.2575 1062.17 14.1169 1059.02 Q14.9444 1055.87 14.9444 1052.78 Q14.9444 1048.64 13.544 1046.41 Q12.1117 1044.19 9.5336 1044.19 Q7.14646 1044.19 5.87332 1045.81 Q4.60017 1047.4 3.42252 1052.84 L2.94509 1054.88 Q1.79926 1060.32 -0.556048 1062.74 Q-2.94319 1065.16 -7.0809 1065.16 Q-12.1098 1065.16 -14.8471 1061.6 Q-17.5843 1058.03 -17.5843 1051.47 Q-17.5843 1048.23 -17.1069 1045.36 Q-16.6295 1042.5 -15.6746 1040.08 Z\" fill=\"#000000\" fill-rule=\"evenodd\" fill-opacity=\"1\" /><polyline clip-path=\"url(#clip5302)\" style=\"stroke:#009af9; stroke-width:4; stroke-opacity:1; fill:none\" points=\"\n",
       "  6762.36,1149.71 6650.3,1286.45 6594.27,1907.98 6502.59,2193.89 6451.65,1180.79 6334.5,988.111 6293.75,1006.76 6181.69,1099.99 6125.66,1006.76 6023.79,938.389 \n",
       "  5983.04,1025.4 5870.98,957.035 5830.24,689.775 5718.18,515.745 5667.24,565.468 5575.56,646.267 5524.62,329.285 5417.66,652.483 5331.07,453.592 5254.66,410.084 \n",
       "  5198.63,273.347 5112.04,372.792 5056.01,248.485 4943.96,267.131 4903.21,391.438 4796.24,422.515 4735.12,403.869 4633.25,534.391 4592.5,341.715 4475.35,192.547 \n",
       "  4434.6,534.391 4327.63,360.362 4271.6,192.547 4164.64,186.332 4123.89,155.255 4011.83,180.117 3971.08,472.238 3864.12,347.931 3808.09,577.899 3721.5,671.129 \n",
       "  3665.47,242.27 3558.51,534.391 3471.91,416.3 3400.6,602.76 3344.58,652.483 3242.7,615.191 3201.96,814.082 3084.8,901.097 3044.06,832.728 2942.18,770.574 \n",
       "  2881.06,845.158 2774.1,845.158 2733.35,913.527 2616.2,888.666 2560.17,1050.26 2473.58,913.527 2417.55,714.636 2305.49,944.604 2264.74,764.359 2152.68,720.852 \n",
       "  2096.65,627.621 1994.78,453.592 1954.03,689.775 1852.16,901.097 1811.41,795.436 1699.35,708.421 1602.58,540.607 1546.55,372.792 1485.42,490.884 1383.55,453.592 \n",
       "  1342.8,509.53 1225.65,291.993 1169.62,285.777 1088.13,621.406 1027,621.406 914.945,503.314 874.196,727.067 762.138,652.483 706.109,652.483 604.237,366.577 \n",
       "  563.489,391.438 415.775,596.545 \n",
       "  \"/>\n",
       "<polyline clip-path=\"url(#clip5302)\" style=\"stroke:#e26f46; stroke-width:4; stroke-opacity:1; fill:none\" points=\"\n",
       "  6762.36,608.975 6650.3,608.975 6594.27,615.191 6502.59,559.253 6451.65,559.253 6334.5,571.683 6293.75,584.114 6181.69,546.822 6125.66,559.253 6023.79,540.607 \n",
       "  5983.04,534.391 5870.98,441.161 5830.24,466.022 5718.18,478.453 5667.24,528.176 5575.56,553.037 5524.62,565.468 5417.66,553.037 5331.07,565.468 5254.66,497.099 \n",
       "  5198.63,503.314 5112.04,428.73 5056.01,410.084 4943.96,329.285 4903.21,304.423 4796.24,304.423 4735.12,298.208 4633.25,434.946 4592.5,403.869 4475.35,341.715 \n",
       "  4434.6,329.285 4327.63,329.285 4271.6,410.084 4164.64,459.807 4123.89,459.807 4011.83,453.592 3971.08,453.592 3864.12,354.146 3808.09,379.008 3721.5,565.468 \n",
       "  3665.47,565.468 3558.51,484.668 3471.91,521.96 3400.6,503.314 3344.58,528.176 3242.7,683.559 3201.96,727.067 3084.8,621.406 3044.06,621.406 2942.18,602.76 \n",
       "  2881.06,553.037 2774.1,565.468 2733.35,596.545 2616.2,677.344 2560.17,658.698 2473.58,652.483 2417.55,677.344 2305.49,664.913 2264.74,671.129 2152.68,509.53 \n",
       "  2096.65,490.884 1994.78,528.176 1954.03,472.238 1852.16,434.946 1811.41,416.3 1699.35,546.822 1602.58,534.391 1546.55,621.406 1485.42,646.267 1383.55,733.282 \n",
       "  1342.8,714.636 1225.65,727.067 1169.62,702.205 1088.13,702.205 1027,677.344 914.945,708.421 874.196,683.559 762.138,640.052 706.109,615.191 604.237,546.822 \n",
       "  563.489,553.037 415.775,422.515 \n",
       "  \"/>\n",
       "<path clip-path=\"url(#clip5300)\" d=\"\n",
       "M435.378 1835.05 L1594.22 1835.05 L1594.22 1653.61 L435.378 1653.61  Z\n",
       "  \" fill=\"#ffffff\" fill-rule=\"evenodd\" fill-opacity=\"1\"/>\n",
       "<polyline clip-path=\"url(#clip5300)\" style=\"stroke:#000000; stroke-width:4; stroke-opacity:1; fill:none\" points=\"\n",
       "  435.378,1835.05 1594.22,1835.05 1594.22,1653.61 435.378,1653.61 435.378,1835.05 \n",
       "  \"/>\n",
       "<polyline clip-path=\"url(#clip5300)\" style=\"stroke:#009af9; stroke-width:4; stroke-opacity:1; fill:none\" points=\"\n",
       "  505.378,1714.09 925.378,1714.09 \n",
       "  \"/>\n",
       "<path clip-path=\"url(#clip5300)\" d=\"M 0 0 M1019.41 1717.34 L1019.41 1719.42 L999.822 1719.42 Q1000.1 1723.82 1002.46 1726.14 Q1004.85 1728.43 1009.08 1728.43 Q1011.54 1728.43 1013.83 1727.83 Q1016.14 1727.22 1018.41 1726.02 L1018.41 1730.05 Q1016.12 1731.02 1013.71 1731.53 Q1011.3 1732.04 1008.83 1732.04 Q1002.62 1732.04 998.989 1728.43 Q995.378 1724.82 995.378 1718.66 Q995.378 1712.29 998.804 1708.57 Q1002.25 1704.82 1008.09 1704.82 Q1013.32 1704.82 1016.35 1708.2 Q1019.41 1711.55 1019.41 1717.34 M1015.15 1716.09 Q1015.1 1712.59 1013.18 1710.51 Q1011.28 1708.43 1008.13 1708.43 Q1004.57 1708.43 1002.41 1710.44 Q1000.29 1712.46 999.961 1716.11 L1015.15 1716.09 Z\" fill=\"#000000\" fill-rule=\"evenodd\" fill-opacity=\"1\" /><path clip-path=\"url(#clip5300)\" d=\"M 0 0 M1044.06 1710.42 Q1045.66 1707.55 1047.88 1706.18 Q1050.1 1704.82 1053.11 1704.82 Q1057.16 1704.82 1059.36 1707.66 Q1061.56 1710.49 1061.56 1715.72 L1061.56 1731.37 L1057.28 1731.37 L1057.28 1715.86 Q1057.28 1712.13 1055.96 1710.33 Q1054.64 1708.52 1051.93 1708.52 Q1048.62 1708.52 1046.7 1710.72 Q1044.78 1712.92 1044.78 1716.71 L1044.78 1731.37 L1040.49 1731.37 L1040.49 1715.86 Q1040.49 1712.11 1039.17 1710.33 Q1037.85 1708.52 1035.1 1708.52 Q1031.84 1708.52 1029.91 1710.74 Q1027.99 1712.94 1027.99 1716.71 L1027.99 1731.37 L1023.71 1731.37 L1023.71 1705.44 L1027.99 1705.44 L1027.99 1709.47 Q1029.45 1707.08 1031.49 1705.95 Q1033.53 1704.82 1036.33 1704.82 Q1039.15 1704.82 1041.12 1706.25 Q1043.11 1707.69 1044.06 1710.42 Z\" fill=\"#000000\" fill-rule=\"evenodd\" fill-opacity=\"1\" /><path clip-path=\"url(#clip5300)\" d=\"M 0 0 M1070.15 1727.48 L1070.15 1741.23 L1065.86 1741.23 L1065.86 1705.44 L1070.15 1705.44 L1070.15 1709.38 Q1071.49 1707.06 1073.53 1705.95 Q1075.59 1704.82 1078.43 1704.82 Q1083.16 1704.82 1086.09 1708.57 Q1089.06 1712.32 1089.06 1718.43 Q1089.06 1724.54 1086.09 1728.29 Q1083.16 1732.04 1078.43 1732.04 Q1075.59 1732.04 1073.53 1730.93 Q1071.49 1729.79 1070.15 1727.48 M1084.64 1718.43 Q1084.64 1713.73 1082.69 1711.07 Q1080.77 1708.38 1077.39 1708.38 Q1074.01 1708.38 1072.07 1711.07 Q1070.15 1713.73 1070.15 1718.43 Q1070.15 1723.13 1072.07 1725.81 Q1074.01 1728.47 1077.39 1728.47 Q1080.77 1728.47 1082.69 1725.81 Q1084.64 1723.13 1084.64 1718.43 Z\" fill=\"#000000\" fill-rule=\"evenodd\" fill-opacity=\"1\" /><path clip-path=\"url(#clip5300)\" d=\"M 0 0 M1093.53 1695.35 L1097.78 1695.35 L1097.78 1731.37 L1093.53 1731.37 L1093.53 1695.35 Z\" fill=\"#000000\" fill-rule=\"evenodd\" fill-opacity=\"1\" /><path clip-path=\"url(#clip5300)\" d=\"M 0 0 M1112.3 1708.43 Q1108.87 1708.43 1106.88 1711.11 Q1104.89 1713.77 1104.89 1718.43 Q1104.89 1723.08 1106.86 1725.77 Q1108.85 1728.43 1112.3 1728.43 Q1115.7 1728.43 1117.69 1725.74 Q1119.68 1723.06 1119.68 1718.43 Q1119.68 1713.82 1117.69 1711.14 Q1115.7 1708.43 1112.3 1708.43 M1112.3 1704.82 Q1117.85 1704.82 1121.03 1708.43 Q1124.2 1712.04 1124.2 1718.43 Q1124.2 1724.79 1121.03 1728.43 Q1117.85 1732.04 1112.3 1732.04 Q1106.72 1732.04 1103.55 1728.43 Q1100.4 1724.79 1100.4 1718.43 Q1100.4 1712.04 1103.55 1708.43 Q1106.72 1704.82 1112.3 1704.82 Z\" fill=\"#000000\" fill-rule=\"evenodd\" fill-opacity=\"1\" /><path clip-path=\"url(#clip5300)\" d=\"M 0 0 M1139.45 1733.77 Q1137.65 1738.4 1135.93 1739.82 Q1134.22 1741.23 1131.35 1741.23 L1127.95 1741.23 L1127.95 1737.66 L1130.45 1737.66 Q1132.21 1737.66 1133.18 1736.83 Q1134.15 1736 1135.33 1732.9 L1136.09 1730.95 L1125.61 1705.44 L1130.12 1705.44 L1138.22 1725.72 L1146.33 1705.44 L1150.84 1705.44 L1139.45 1733.77 Z\" fill=\"#000000\" fill-rule=\"evenodd\" fill-opacity=\"1\" /><path clip-path=\"url(#clip5300)\" d=\"M 0 0 M1175.49 1710.42 Q1177.09 1707.55 1179.31 1706.18 Q1181.53 1704.82 1184.54 1704.82 Q1188.59 1704.82 1190.79 1707.66 Q1192.99 1710.49 1192.99 1715.72 L1192.99 1731.37 L1188.71 1731.37 L1188.71 1715.86 Q1188.71 1712.13 1187.39 1710.33 Q1186.07 1708.52 1183.36 1708.52 Q1180.05 1708.52 1178.13 1710.72 Q1176.21 1712.92 1176.21 1716.71 L1176.21 1731.37 L1171.93 1731.37 L1171.93 1715.86 Q1171.93 1712.11 1170.61 1710.33 Q1169.29 1708.52 1166.53 1708.52 Q1163.27 1708.52 1161.35 1710.74 Q1159.43 1712.94 1159.43 1716.71 L1159.43 1731.37 L1155.15 1731.37 L1155.15 1705.44 L1159.43 1705.44 L1159.43 1709.47 Q1160.89 1707.08 1162.92 1705.95 Q1164.96 1704.82 1167.76 1704.82 Q1170.59 1704.82 1172.55 1706.25 Q1174.54 1707.69 1175.49 1710.42 Z\" fill=\"#000000\" fill-rule=\"evenodd\" fill-opacity=\"1\" /><path clip-path=\"url(#clip5300)\" d=\"M 0 0 M1219.64 1717.34 L1219.64 1719.42 L1200.05 1719.42 Q1200.33 1723.82 1202.69 1726.14 Q1205.08 1728.43 1209.31 1728.43 Q1211.77 1728.43 1214.06 1727.83 Q1216.37 1727.22 1218.64 1726.02 L1218.64 1730.05 Q1216.35 1731.02 1213.94 1731.53 Q1211.53 1732.04 1209.06 1732.04 Q1202.85 1732.04 1199.22 1728.43 Q1195.61 1724.82 1195.61 1718.66 Q1195.61 1712.29 1199.03 1708.57 Q1202.48 1704.82 1208.32 1704.82 Q1213.55 1704.82 1216.58 1708.2 Q1219.64 1711.55 1219.64 1717.34 M1215.38 1716.09 Q1215.33 1712.59 1213.41 1710.51 Q1211.51 1708.43 1208.36 1708.43 Q1204.8 1708.43 1202.65 1710.44 Q1200.52 1712.46 1200.19 1716.11 L1215.38 1716.09 Z\" fill=\"#000000\" fill-rule=\"evenodd\" fill-opacity=\"1\" /><path clip-path=\"url(#clip5300)\" d=\"M 0 0 M1245.65 1715.72 L1245.65 1731.37 L1241.4 1731.37 L1241.4 1715.86 Q1241.4 1712.18 1239.96 1710.35 Q1238.52 1708.52 1235.65 1708.52 Q1232.21 1708.52 1230.21 1710.72 Q1228.22 1712.92 1228.22 1716.71 L1228.22 1731.37 L1223.94 1731.37 L1223.94 1705.44 L1228.22 1705.44 L1228.22 1709.47 Q1229.75 1707.13 1231.81 1705.97 Q1233.9 1704.82 1236.6 1704.82 Q1241.07 1704.82 1243.36 1707.59 Q1245.65 1710.35 1245.65 1715.72 Z\" fill=\"#000000\" fill-rule=\"evenodd\" fill-opacity=\"1\" /><path clip-path=\"url(#clip5300)\" d=\"M 0 0 M1254.33 1698.08 L1254.33 1705.44 L1263.11 1705.44 L1263.11 1708.75 L1254.33 1708.75 L1254.33 1722.83 Q1254.33 1726 1255.19 1726.9 Q1256.07 1727.8 1258.73 1727.8 L1263.11 1727.8 L1263.11 1731.37 L1258.73 1731.37 Q1253.8 1731.37 1251.93 1729.54 Q1250.05 1727.69 1250.05 1722.83 L1250.05 1708.75 L1246.93 1708.75 L1246.93 1705.44 L1250.05 1705.44 L1250.05 1698.08 L1254.33 1698.08 Z\" fill=\"#000000\" fill-rule=\"evenodd\" fill-opacity=\"1\" /><path clip-path=\"url(#clip5300)\" d=\"M 0 0 M1292.88 1695.4 Q1289.77 1700.72 1288.27 1705.93 Q1286.77 1711.14 1286.77 1716.48 Q1286.77 1721.83 1288.27 1727.08 Q1289.8 1732.32 1292.88 1737.62 L1289.17 1737.62 Q1285.7 1732.18 1283.96 1726.92 Q1282.25 1721.67 1282.25 1716.48 Q1282.25 1711.32 1283.96 1706.09 Q1285.68 1700.86 1289.17 1695.4 L1292.88 1695.4 Z\" fill=\"#000000\" fill-rule=\"evenodd\" fill-opacity=\"1\" /><path clip-path=\"url(#clip5300)\" d=\"M 0 0 M1309.13 1718.33 Q1303.96 1718.33 1301.97 1719.52 Q1299.98 1720.7 1299.98 1723.54 Q1299.98 1725.81 1301.46 1727.15 Q1302.97 1728.47 1305.54 1728.47 Q1309.08 1728.47 1311.21 1725.97 Q1313.36 1723.45 1313.36 1719.28 L1313.36 1718.33 L1309.13 1718.33 M1317.62 1716.58 L1317.62 1731.37 L1313.36 1731.37 L1313.36 1727.43 Q1311.9 1729.79 1309.73 1730.93 Q1307.55 1732.04 1304.4 1732.04 Q1300.42 1732.04 1298.06 1729.82 Q1295.72 1727.57 1295.72 1723.82 Q1295.72 1719.45 1298.64 1717.22 Q1301.58 1715 1307.39 1715 L1313.36 1715 L1313.36 1714.58 Q1313.36 1711.65 1311.42 1710.05 Q1309.5 1708.43 1306 1708.43 Q1303.78 1708.43 1301.67 1708.96 Q1299.57 1709.49 1297.62 1710.56 L1297.62 1706.62 Q1299.96 1705.72 1302.16 1705.28 Q1304.36 1704.82 1306.44 1704.82 Q1312.07 1704.82 1314.84 1707.73 Q1317.62 1710.65 1317.62 1716.58 Z\" fill=\"#000000\" fill-rule=\"evenodd\" fill-opacity=\"1\" /><path clip-path=\"url(#clip5300)\" d=\"M 0 0 M1340.75 1706.44 L1340.75 1710.42 Q1338.94 1709.42 1337.11 1708.94 Q1335.31 1708.43 1333.45 1708.43 Q1329.31 1708.43 1327.02 1711.07 Q1324.73 1713.68 1324.73 1718.43 Q1324.73 1723.17 1327.02 1725.81 Q1329.31 1728.43 1333.45 1728.43 Q1335.31 1728.43 1337.11 1727.94 Q1338.94 1727.43 1340.75 1726.44 L1340.75 1730.37 Q1338.96 1731.21 1337.04 1731.62 Q1335.14 1732.04 1332.99 1732.04 Q1327.14 1732.04 1323.69 1728.36 Q1320.24 1724.68 1320.24 1718.43 Q1320.24 1712.08 1323.71 1708.45 Q1327.2 1704.82 1333.27 1704.82 Q1335.24 1704.82 1337.11 1705.23 Q1338.99 1705.63 1340.75 1706.44 Z\" fill=\"#000000\" fill-rule=\"evenodd\" fill-opacity=\"1\" /><path clip-path=\"url(#clip5300)\" d=\"M 0 0 M1349.43 1698.08 L1349.43 1705.44 L1358.2 1705.44 L1358.2 1708.75 L1349.43 1708.75 L1349.43 1722.83 Q1349.43 1726 1350.28 1726.9 Q1351.16 1727.8 1353.82 1727.8 L1358.2 1727.8 L1358.2 1731.37 L1353.82 1731.37 Q1348.89 1731.37 1347.02 1729.54 Q1345.14 1727.69 1345.14 1722.83 L1345.14 1708.75 L1342.02 1708.75 L1342.02 1705.44 L1345.14 1705.44 L1345.14 1698.08 L1349.43 1698.08 Z\" fill=\"#000000\" fill-rule=\"evenodd\" fill-opacity=\"1\" /><path clip-path=\"url(#clip5300)\" d=\"M 0 0 M1362.23 1721.14 L1362.23 1705.44 L1366.49 1705.44 L1366.49 1720.97 Q1366.49 1724.65 1367.92 1726.51 Q1369.36 1728.33 1372.23 1728.33 Q1375.68 1728.33 1377.67 1726.14 Q1379.68 1723.94 1379.68 1720.14 L1379.68 1705.44 L1383.94 1705.44 L1383.94 1731.37 L1379.68 1731.37 L1379.68 1727.39 Q1378.13 1729.75 1376.07 1730.9 Q1374.03 1732.04 1371.32 1732.04 Q1366.86 1732.04 1364.54 1729.26 Q1362.23 1726.48 1362.23 1721.14 M1372.95 1704.82 L1372.95 1704.82 Z\" fill=\"#000000\" fill-rule=\"evenodd\" fill-opacity=\"1\" /><path clip-path=\"url(#clip5300)\" d=\"M 0 0 M1400.19 1718.33 Q1395.03 1718.33 1393.04 1719.52 Q1391.05 1720.7 1391.05 1723.54 Q1391.05 1725.81 1392.53 1727.15 Q1394.03 1728.47 1396.6 1728.47 Q1400.14 1728.47 1402.27 1725.97 Q1404.43 1723.45 1404.43 1719.28 L1404.43 1718.33 L1400.19 1718.33 M1408.69 1716.58 L1408.69 1731.37 L1404.43 1731.37 L1404.43 1727.43 Q1402.97 1729.79 1400.79 1730.93 Q1398.62 1732.04 1395.47 1732.04 Q1391.49 1732.04 1389.13 1729.82 Q1386.79 1727.57 1386.79 1723.82 Q1386.79 1719.45 1389.7 1717.22 Q1392.64 1715 1398.45 1715 L1404.43 1715 L1404.43 1714.58 Q1404.43 1711.65 1402.48 1710.05 Q1400.56 1708.43 1397.07 1708.43 Q1394.84 1708.43 1392.74 1708.96 Q1390.63 1709.49 1388.69 1710.56 L1388.69 1706.62 Q1391.02 1705.72 1393.22 1705.28 Q1395.42 1704.82 1397.51 1704.82 Q1403.13 1704.82 1405.91 1707.73 Q1408.69 1710.65 1408.69 1716.58 Z\" fill=\"#000000\" fill-rule=\"evenodd\" fill-opacity=\"1\" /><path clip-path=\"url(#clip5300)\" d=\"M 0 0 M1413.15 1695.35 L1417.41 1695.35 L1417.41 1731.37 L1413.15 1731.37 L1413.15 1695.35 Z\" fill=\"#000000\" fill-rule=\"evenodd\" fill-opacity=\"1\" /><path clip-path=\"url(#clip5300)\" d=\"M 0 0 M1438.41 1706.21 L1438.41 1710.23 Q1436.6 1709.31 1434.66 1708.84 Q1432.71 1708.38 1430.63 1708.38 Q1427.46 1708.38 1425.86 1709.35 Q1424.29 1710.33 1424.29 1712.27 Q1424.29 1713.75 1425.42 1714.61 Q1426.56 1715.44 1429.98 1716.21 L1431.44 1716.53 Q1435.98 1717.5 1437.88 1719.28 Q1439.8 1721.04 1439.8 1724.21 Q1439.8 1727.83 1436.93 1729.93 Q1434.08 1732.04 1429.08 1732.04 Q1427 1732.04 1424.73 1731.62 Q1422.48 1731.23 1419.98 1730.42 L1419.98 1726.02 Q1422.34 1727.25 1424.63 1727.87 Q1426.93 1728.47 1429.17 1728.47 Q1432.18 1728.47 1433.8 1727.46 Q1435.42 1726.41 1435.42 1724.54 Q1435.42 1722.8 1434.24 1721.88 Q1433.08 1720.95 1429.13 1720.09 L1427.64 1719.75 Q1423.69 1718.91 1421.93 1717.2 Q1420.17 1715.46 1420.17 1712.46 Q1420.17 1708.8 1422.76 1706.81 Q1425.35 1704.82 1430.12 1704.82 Q1432.48 1704.82 1434.57 1705.16 Q1436.65 1705.51 1438.41 1706.21 Z\" fill=\"#000000\" fill-rule=\"evenodd\" fill-opacity=\"1\" /><path clip-path=\"url(#clip5300)\" d=\"M 0 0 M1443.59 1695.4 L1447.3 1695.4 Q1450.77 1700.86 1452.48 1706.09 Q1454.22 1711.32 1454.22 1716.48 Q1454.22 1721.67 1452.48 1726.92 Q1450.77 1732.18 1447.3 1737.62 L1443.59 1737.62 Q1446.67 1732.32 1448.18 1727.08 Q1449.7 1721.83 1449.7 1716.48 Q1449.7 1711.14 1448.18 1705.93 Q1446.67 1700.72 1443.59 1695.4 Z\" fill=\"#000000\" fill-rule=\"evenodd\" fill-opacity=\"1\" /><polyline clip-path=\"url(#clip5300)\" style=\"stroke:#e26f46; stroke-width:4; stroke-opacity:1; fill:none\" points=\"\n",
       "  505.378,1774.57 925.378,1774.57 \n",
       "  \"/>\n",
       "<path clip-path=\"url(#clip5300)\" d=\"M 0 0 M1000.05 1761.13 L1000.05 1774.12 L1005.93 1774.12 Q1009.2 1774.12 1010.98 1772.43 Q1012.76 1770.74 1012.76 1767.61 Q1012.76 1764.51 1010.98 1762.82 Q1009.2 1761.13 1005.93 1761.13 L1000.05 1761.13 M995.378 1757.29 L1005.93 1757.29 Q1011.74 1757.29 1014.71 1759.93 Q1017.69 1762.54 1017.69 1767.61 Q1017.69 1772.73 1014.71 1775.34 Q1011.74 1777.96 1005.93 1777.96 L1000.05 1777.96 L1000.05 1791.85 L995.378 1791.85 L995.378 1757.29 Z\" fill=\"#000000\" fill-rule=\"evenodd\" fill-opacity=\"1\" /><path clip-path=\"url(#clip5300)\" d=\"M 0 0 M1022.35 1757.29 L1029.31 1757.29 L1038.13 1780.81 L1047 1757.29 L1053.97 1757.29 L1053.97 1791.85 L1049.41 1791.85 L1049.41 1761.5 L1040.49 1785.2 L1035.79 1785.2 L1026.88 1761.5 L1026.88 1791.85 L1022.35 1791.85 L1022.35 1757.29 Z\" fill=\"#000000\" fill-rule=\"evenodd\" fill-opacity=\"1\" /><path clip-path=\"url(#clip5300)\" d=\"M 0 0 M1058.62 1757.29 L1063.29 1757.29 L1063.29 1791.85 L1058.62 1791.85 L1058.62 1757.29 Z\" fill=\"#000000\" fill-rule=\"evenodd\" fill-opacity=\"1\" /><path clip-path=\"url(#clip5300)\" d=\"M 0 0 M1093.06 1755.88 Q1089.96 1761.2 1088.46 1766.41 Q1086.95 1771.62 1086.95 1776.96 Q1086.95 1782.31 1088.46 1787.56 Q1089.98 1792.8 1093.06 1798.1 L1089.36 1798.1 Q1085.89 1792.66 1084.15 1787.4 Q1082.44 1782.15 1082.44 1776.96 Q1082.44 1771.8 1084.15 1766.57 Q1085.86 1761.34 1089.36 1755.88 L1093.06 1755.88 Z\" fill=\"#000000\" fill-rule=\"evenodd\" fill-opacity=\"1\" /><path clip-path=\"url(#clip5300)\" d=\"M 0 0 M1109.31 1778.81 Q1104.15 1778.81 1102.16 1780 Q1100.17 1781.18 1100.17 1784.02 Q1100.17 1786.29 1101.65 1787.63 Q1103.16 1788.95 1105.72 1788.95 Q1109.27 1788.95 1111.4 1786.45 Q1113.55 1783.93 1113.55 1779.76 L1113.55 1778.81 L1109.31 1778.81 M1117.81 1777.06 L1117.81 1791.85 L1113.55 1791.85 L1113.55 1787.91 Q1112.09 1790.27 1109.91 1791.41 Q1107.74 1792.52 1104.59 1792.52 Q1100.61 1792.52 1098.25 1790.3 Q1095.91 1788.05 1095.91 1784.3 Q1095.91 1779.93 1098.83 1777.7 Q1101.77 1775.48 1107.58 1775.48 L1113.55 1775.48 L1113.55 1775.06 Q1113.55 1772.13 1111.6 1770.53 Q1109.68 1768.91 1106.19 1768.91 Q1103.97 1768.91 1101.86 1769.44 Q1099.75 1769.97 1097.81 1771.04 L1097.81 1767.1 Q1100.15 1766.2 1102.34 1765.76 Q1104.54 1765.3 1106.63 1765.3 Q1112.25 1765.3 1115.03 1768.21 Q1117.81 1771.13 1117.81 1777.06 Z\" fill=\"#000000\" fill-rule=\"evenodd\" fill-opacity=\"1\" /><path clip-path=\"url(#clip5300)\" d=\"M 0 0 M1140.93 1766.92 L1140.93 1770.9 Q1139.13 1769.9 1137.3 1769.42 Q1135.49 1768.91 1133.64 1768.91 Q1129.5 1768.91 1127.21 1771.55 Q1124.91 1774.16 1124.91 1778.91 Q1124.91 1783.65 1127.21 1786.29 Q1129.5 1788.91 1133.64 1788.91 Q1135.49 1788.91 1137.3 1788.42 Q1139.13 1787.91 1140.93 1786.92 L1140.93 1790.85 Q1139.15 1791.69 1137.23 1792.1 Q1135.33 1792.52 1133.18 1792.52 Q1127.32 1792.52 1123.87 1788.84 Q1120.42 1785.16 1120.42 1778.91 Q1120.42 1772.56 1123.9 1768.93 Q1127.39 1765.3 1133.46 1765.3 Q1135.42 1765.3 1137.3 1765.71 Q1139.17 1766.11 1140.93 1766.92 Z\" fill=\"#000000\" fill-rule=\"evenodd\" fill-opacity=\"1\" /><path clip-path=\"url(#clip5300)\" d=\"M 0 0 M1149.61 1758.56 L1149.61 1765.92 L1158.39 1765.92 L1158.39 1769.23 L1149.61 1769.23 L1149.61 1783.31 Q1149.61 1786.48 1150.47 1787.38 Q1151.35 1788.28 1154.01 1788.28 L1158.39 1788.28 L1158.39 1791.85 L1154.01 1791.85 Q1149.08 1791.85 1147.21 1790.02 Q1145.33 1788.17 1145.33 1783.31 L1145.33 1769.23 L1142.21 1769.23 L1142.21 1765.92 L1145.33 1765.92 L1145.33 1758.56 L1149.61 1758.56 Z\" fill=\"#000000\" fill-rule=\"evenodd\" fill-opacity=\"1\" /><path clip-path=\"url(#clip5300)\" d=\"M 0 0 M1162.41 1781.62 L1162.41 1765.92 L1166.67 1765.92 L1166.67 1781.45 Q1166.67 1785.13 1168.11 1786.99 Q1169.54 1788.81 1172.41 1788.81 Q1175.86 1788.81 1177.85 1786.62 Q1179.87 1784.42 1179.87 1780.62 L1179.87 1765.92 L1184.13 1765.92 L1184.13 1791.85 L1179.87 1791.85 L1179.87 1787.87 Q1178.32 1790.23 1176.26 1791.38 Q1174.22 1792.52 1171.51 1792.52 Q1167.04 1792.52 1164.73 1789.74 Q1162.41 1786.96 1162.41 1781.62 M1173.13 1765.3 L1173.13 1765.3 Z\" fill=\"#000000\" fill-rule=\"evenodd\" fill-opacity=\"1\" /><path clip-path=\"url(#clip5300)\" d=\"M 0 0 M1200.38 1778.81 Q1195.21 1778.81 1193.22 1780 Q1191.23 1781.18 1191.23 1784.02 Q1191.23 1786.29 1192.71 1787.63 Q1194.22 1788.95 1196.79 1788.95 Q1200.33 1788.95 1202.46 1786.45 Q1204.61 1783.93 1204.61 1779.76 L1204.61 1778.81 L1200.38 1778.81 M1208.87 1777.06 L1208.87 1791.85 L1204.61 1791.85 L1204.61 1787.91 Q1203.15 1790.27 1200.98 1791.41 Q1198.8 1792.52 1195.65 1792.52 Q1191.67 1792.52 1189.31 1790.3 Q1186.97 1788.05 1186.97 1784.3 Q1186.97 1779.93 1189.89 1777.7 Q1192.83 1775.48 1198.64 1775.48 L1204.61 1775.48 L1204.61 1775.06 Q1204.61 1772.13 1202.67 1770.53 Q1200.75 1768.91 1197.25 1768.91 Q1195.03 1768.91 1192.92 1769.44 Q1190.82 1769.97 1188.87 1771.04 L1188.87 1767.1 Q1191.21 1766.2 1193.41 1765.76 Q1195.61 1765.3 1197.69 1765.3 Q1203.32 1765.3 1206.09 1768.21 Q1208.87 1771.13 1208.87 1777.06 Z\" fill=\"#000000\" fill-rule=\"evenodd\" fill-opacity=\"1\" /><path clip-path=\"url(#clip5300)\" d=\"M 0 0 M1213.34 1755.83 L1217.6 1755.83 L1217.6 1791.85 L1213.34 1791.85 L1213.34 1755.83 Z\" fill=\"#000000\" fill-rule=\"evenodd\" fill-opacity=\"1\" /><path clip-path=\"url(#clip5300)\" d=\"M 0 0 M1238.59 1766.69 L1238.59 1770.71 Q1236.79 1769.79 1234.84 1769.32 Q1232.9 1768.86 1230.82 1768.86 Q1227.65 1768.86 1226.05 1769.83 Q1224.47 1770.81 1224.47 1772.75 Q1224.47 1774.23 1225.61 1775.09 Q1226.74 1775.92 1230.17 1776.69 L1231.63 1777.01 Q1236.16 1777.98 1238.06 1779.76 Q1239.98 1781.52 1239.98 1784.69 Q1239.98 1788.31 1237.11 1790.41 Q1234.27 1792.52 1229.27 1792.52 Q1227.18 1792.52 1224.91 1792.1 Q1222.67 1791.71 1220.17 1790.9 L1220.17 1786.5 Q1222.53 1787.73 1224.82 1788.35 Q1227.11 1788.95 1229.36 1788.95 Q1232.37 1788.95 1233.99 1787.94 Q1235.61 1786.89 1235.61 1785.02 Q1235.61 1783.28 1234.43 1782.36 Q1233.27 1781.43 1229.31 1780.57 L1227.83 1780.23 Q1223.87 1779.39 1222.11 1777.68 Q1220.35 1775.94 1220.35 1772.94 Q1220.35 1769.28 1222.95 1767.29 Q1225.54 1765.3 1230.31 1765.3 Q1232.67 1765.3 1234.75 1765.64 Q1236.83 1765.99 1238.59 1766.69 Z\" fill=\"#000000\" fill-rule=\"evenodd\" fill-opacity=\"1\" /><path clip-path=\"url(#clip5300)\" d=\"M 0 0 M1243.78 1755.88 L1247.48 1755.88 Q1250.96 1761.34 1252.67 1766.57 Q1254.4 1771.8 1254.4 1776.96 Q1254.4 1782.15 1252.67 1787.4 Q1250.96 1792.66 1247.48 1798.1 L1243.78 1798.1 Q1246.86 1792.8 1248.36 1787.56 Q1249.89 1782.31 1249.89 1776.96 Q1249.89 1771.62 1248.36 1766.41 Q1246.86 1761.2 1243.78 1755.88 Z\" fill=\"#000000\" fill-rule=\"evenodd\" fill-opacity=\"1\" /></svg>\n"
      ]
     },
     "execution_count": 13,
     "metadata": {},
     "output_type": "execute_result"
    }
   ],
   "source": [
    "periods = df2[:,1] # all rows, first column\n",
    "println(periods[begin], \" to \", periods[end])\n",
    "gr()\n",
    "plot(periods, \n",
    "    title=\"ISM Manufacturing\",\n",
    "    [df1[:,2]  df2[:,2]], \n",
    "    label    = [\"employment (actuals)\" \"PMI (actuals)\"],\n",
    "    legend    =:bottomleft, # :right, :left, :top, :bottom, :inside, :best, :legend, :topright, :topleft, :bottomleft, :bottomright\n",
    "    xlabel   = \"time\",\n",
    "    ylabel   = \"indicators\",\n",
    "    size     = (1750, 600), # width, height\n",
    "    layout = (1, 1) # number of seperate plots VERTICALLY, HORIZONTALLY\n",
    "    )"
   ]
  },
  {
   "cell_type": "markdown",
   "metadata": {},
   "source": [
    "# Shift Employment by 90 days back"
   ]
  },
  {
   "cell_type": "code",
   "execution_count": 14,
   "metadata": {
    "scrolled": false
   },
   "outputs": [
    {
     "data": {
      "text/html": [
       "<table class=\"data-frame\"><thead><tr><th></th><th>Date</th><th>ISM_Mfc_Emp_shifted90</th></tr><tr><th></th><th>Date</th><th>Float64</th></tr></thead><tbody><p>82 rows × 2 columns</p><tr><th>1</th><td>2020-05-05</td><td>44.3</td></tr><tr><th>2</th><td>2020-04-02</td><td>42.1</td></tr><tr><th>3</th><td>2020-03-03</td><td>32.1</td></tr><tr><th>4</th><td>2020-02-01</td><td>27.5</td></tr><tr><th>5</th><td>2020-01-02</td><td>43.8</td></tr><tr><th>6</th><td>2019-12-03</td><td>46.9</td></tr><tr><th>7</th><td>2019-11-05</td><td>46.6</td></tr><tr><th>8</th><td>2019-10-05</td><td>45.1</td></tr><tr><th>9</th><td>2019-09-03</td><td>46.6</td></tr><tr><th>10</th><td>2019-08-03</td><td>47.7</td></tr><tr><th>11</th><td>2019-07-03</td><td>46.3</td></tr><tr><th>12</th><td>2019-06-05</td><td>47.4</td></tr><tr><th>13</th><td>2019-05-03</td><td>51.7</td></tr><tr><th>14</th><td>2019-04-02</td><td>54.5</td></tr><tr><th>15</th><td>2019-03-05</td><td>53.7</td></tr><tr><th>16</th><td>2019-01-31</td><td>52.4</td></tr><tr><th>17</th><td>2019-01-01</td><td>57.5</td></tr><tr><th>18</th><td>2018-12-01</td><td>52.3</td></tr><tr><th>19</th><td>2018-11-03</td><td>55.5</td></tr><tr><th>20</th><td>2018-10-05</td><td>56.2</td></tr><tr><th>21</th><td>2018-09-04</td><td>58.4</td></tr><tr><th>22</th><td>2018-08-03</td><td>56.8</td></tr><tr><th>23</th><td>2018-07-03</td><td>58.8</td></tr><tr><th>24</th><td>2018-06-06</td><td>58.5</td></tr><tr><th>25</th><td>2018-05-03</td><td>56.5</td></tr><tr><th>26</th><td>2018-04-03</td><td>56.0</td></tr><tr><th>27</th><td>2018-03-03</td><td>56.3</td></tr><tr><th>28</th><td>2018-01-31</td><td>54.2</td></tr><tr><th>29</th><td>2018-01-02</td><td>57.3</td></tr><tr><th>30</th><td>2017-12-01</td><td>59.7</td></tr><tr><th>&vellip;</th><td>&vellip;</td><td>&vellip;</td></tr></tbody></table>"
      ],
      "text/latex": [
       "\\begin{tabular}{r|cc}\n",
       "\t& Date & ISM\\_Mfc\\_Emp\\_shifted90\\\\\n",
       "\t\\hline\n",
       "\t& Date & Float64\\\\\n",
       "\t\\hline\n",
       "\t1 & 2020-05-05 & 44.3 \\\\\n",
       "\t2 & 2020-04-02 & 42.1 \\\\\n",
       "\t3 & 2020-03-03 & 32.1 \\\\\n",
       "\t4 & 2020-02-01 & 27.5 \\\\\n",
       "\t5 & 2020-01-02 & 43.8 \\\\\n",
       "\t6 & 2019-12-03 & 46.9 \\\\\n",
       "\t7 & 2019-11-05 & 46.6 \\\\\n",
       "\t8 & 2019-10-05 & 45.1 \\\\\n",
       "\t9 & 2019-09-03 & 46.6 \\\\\n",
       "\t10 & 2019-08-03 & 47.7 \\\\\n",
       "\t11 & 2019-07-03 & 46.3 \\\\\n",
       "\t12 & 2019-06-05 & 47.4 \\\\\n",
       "\t13 & 2019-05-03 & 51.7 \\\\\n",
       "\t14 & 2019-04-02 & 54.5 \\\\\n",
       "\t15 & 2019-03-05 & 53.7 \\\\\n",
       "\t16 & 2019-01-31 & 52.4 \\\\\n",
       "\t17 & 2019-01-01 & 57.5 \\\\\n",
       "\t18 & 2018-12-01 & 52.3 \\\\\n",
       "\t19 & 2018-11-03 & 55.5 \\\\\n",
       "\t20 & 2018-10-05 & 56.2 \\\\\n",
       "\t21 & 2018-09-04 & 58.4 \\\\\n",
       "\t22 & 2018-08-03 & 56.8 \\\\\n",
       "\t23 & 2018-07-03 & 58.8 \\\\\n",
       "\t24 & 2018-06-06 & 58.5 \\\\\n",
       "\t25 & 2018-05-03 & 56.5 \\\\\n",
       "\t26 & 2018-04-03 & 56.0 \\\\\n",
       "\t27 & 2018-03-03 & 56.3 \\\\\n",
       "\t28 & 2018-01-31 & 54.2 \\\\\n",
       "\t29 & 2018-01-02 & 57.3 \\\\\n",
       "\t30 & 2017-12-01 & 59.7 \\\\\n",
       "\t$\\dots$ & $\\dots$ & $\\dots$ \\\\\n",
       "\\end{tabular}\n"
      ],
      "text/plain": [
       "82×2 DataFrame\n",
       "│ Row │ Date       │ ISM_Mfc_Emp_shifted90 │\n",
       "│     │ \u001b[90mDate\u001b[39m       │ \u001b[90mFloat64\u001b[39m               │\n",
       "├─────┼────────────┼───────────────────────┤\n",
       "│ 1   │ 2020-05-05 │ 44.3                  │\n",
       "│ 2   │ 2020-04-02 │ 42.1                  │\n",
       "│ 3   │ 2020-03-03 │ 32.1                  │\n",
       "│ 4   │ 2020-02-01 │ 27.5                  │\n",
       "│ 5   │ 2020-01-02 │ 43.8                  │\n",
       "│ 6   │ 2019-12-03 │ 46.9                  │\n",
       "│ 7   │ 2019-11-05 │ 46.6                  │\n",
       "│ 8   │ 2019-10-05 │ 45.1                  │\n",
       "│ 9   │ 2019-09-03 │ 46.6                  │\n",
       "│ 10  │ 2019-08-03 │ 47.7                  │\n",
       "⋮\n",
       "│ 72  │ 2014-06-04 │ 58.1                  │\n",
       "│ 73  │ 2014-05-03 │ 58.2                  │\n",
       "│ 74  │ 2014-04-02 │ 52.8                  │\n",
       "│ 75  │ 2014-03-04 │ 52.8                  │\n",
       "│ 76  │ 2014-01-31 │ 54.7                  │\n",
       "│ 77  │ 2014-01-01 │ 51.1                  │\n",
       "│ 78  │ 2013-12-03 │ 52.3                  │\n",
       "│ 79  │ 2013-11-05 │ 52.3                  │\n",
       "│ 80  │ 2013-10-04 │ 56.9                  │\n",
       "│ 81  │ 2013-09-03 │ 56.5                  │\n",
       "│ 82  │ 2013-08-03 │ 53.2                  │"
      ]
     },
     "execution_count": 14,
     "metadata": {},
     "output_type": "execute_result"
    }
   ],
   "source": [
    "df3 = df_ISM_Mfc_Emp[:,1:2] # all rows, columns: Date and Actuals\n",
    "df3 = shift_dates_by_days!(df3, -90, 1)\n",
    "rename!(df3, [:Date, :ISM_Mfc_Emp_shifted90 ], makeunique=true)"
   ]
  },
  {
   "cell_type": "code",
   "execution_count": null,
   "metadata": {},
   "outputs": [],
   "source": []
  },
  {
   "cell_type": "markdown",
   "metadata": {},
   "source": [
    "# Join DataFrames"
   ]
  },
  {
   "cell_type": "code",
   "execution_count": 24,
   "metadata": {},
   "outputs": [
    {
     "data": {
      "text/html": [
       "<table class=\"data-frame\"><thead><tr><th></th><th>Date</th><th>ISM_Mfc_Emp</th><th>Markkit_Mfc_PMI</th><th>ISM_Mfc_Emp_shifted90</th></tr><tr><th></th><th>Date</th><th>Float64?</th><th>Float64?</th><th>Float64?</th></tr></thead><tbody><p>137 rows × 4 columns</p><tr><th>1</th><td>2014-02-20</td><td><em>missing</em></td><td>56.7</td><td><em>missing</em></td></tr><tr><th>2</th><td>2014-03-03</td><td>52.3</td><td>57.1</td><td><em>missing</em></td></tr><tr><th>3</th><td>2014-03-04</td><td><em>missing</em></td><td><em>missing</em></td><td>52.8</td></tr><tr><th>4</th><td>2014-03-24</td><td><em>missing</em></td><td>55.5</td><td><em>missing</em></td></tr><tr><th>5</th><td>2014-04-01</td><td>51.1</td><td>55.5</td><td><em>missing</em></td></tr><tr><th>6</th><td>2014-04-02</td><td><em>missing</em></td><td><em>missing</em></td><td>52.8</td></tr><tr><th>7</th><td>2014-04-23</td><td><em>missing</em></td><td>55.4</td><td><em>missing</em></td></tr><tr><th>8</th><td>2014-05-01</td><td>54.7</td><td>55.4</td><td><em>missing</em></td></tr><tr><th>9</th><td>2014-05-03</td><td><em>missing</em></td><td><em>missing</em></td><td>58.2</td></tr><tr><th>10</th><td>2014-05-22</td><td><em>missing</em></td><td>56.2</td><td><em>missing</em></td></tr><tr><th>11</th><td>2014-06-02</td><td>52.8</td><td>57.5</td><td><em>missing</em></td></tr><tr><th>12</th><td>2014-06-04</td><td><em>missing</em></td><td><em>missing</em></td><td>58.1</td></tr><tr><th>13</th><td>2014-06-23</td><td><em>missing</em></td><td>57.5</td><td><em>missing</em></td></tr><tr><th>14</th><td>2014-07-01</td><td>52.8</td><td>57.3</td><td><em>missing</em></td></tr><tr><th>15</th><td>2014-07-03</td><td><em>missing</em></td><td><em>missing</em></td><td>54.6</td></tr><tr><th>16</th><td>2014-07-24</td><td><em>missing</em></td><td>56.3</td><td><em>missing</em></td></tr><tr><th>17</th><td>2014-08-01</td><td>58.2</td><td>55.8</td><td><em>missing</em></td></tr><tr><th>18</th><td>2014-08-05</td><td><em>missing</em></td><td><em>missing</em></td><td>55.5</td></tr><tr><th>19</th><td>2014-08-21</td><td><em>missing</em></td><td>58.0</td><td><em>missing</em></td></tr><tr><th>20</th><td>2014-09-02</td><td>58.1</td><td>57.9</td><td>54.9</td></tr><tr><th>21</th><td>2014-09-23</td><td><em>missing</em></td><td>57.9</td><td><em>missing</em></td></tr><tr><th>22</th><td>2014-10-01</td><td>54.6</td><td>57.5</td><td><em>missing</em></td></tr><tr><th>23</th><td>2014-10-04</td><td><em>missing</em></td><td><em>missing</em></td><td>56.8</td></tr><tr><th>24</th><td>2014-10-23</td><td><em>missing</em></td><td>56.2</td><td><em>missing</em></td></tr><tr><th>25</th><td>2014-11-03</td><td>55.5</td><td>55.9</td><td><em>missing</em></td></tr><tr><th>26</th><td>2014-11-04</td><td><em>missing</em></td><td><em>missing</em></td><td>54.1</td></tr><tr><th>27</th><td>2014-11-20</td><td><em>missing</em></td><td>54.7</td><td><em>missing</em></td></tr><tr><th>28</th><td>2014-12-01</td><td>54.9</td><td>54.8</td><td><em>missing</em></td></tr><tr><th>29</th><td>2014-12-02</td><td><em>missing</em></td><td><em>missing</em></td><td>51.4</td></tr><tr><th>30</th><td>2014-12-16</td><td><em>missing</em></td><td>53.7</td><td><em>missing</em></td></tr><tr><th>&vellip;</th><td>&vellip;</td><td>&vellip;</td><td>&vellip;</td><td>&vellip;</td></tr></tbody></table>"
      ],
      "text/latex": [
       "\\begin{tabular}{r|cccc}\n",
       "\t& Date & ISM\\_Mfc\\_Emp & Markkit\\_Mfc\\_PMI & ISM\\_Mfc\\_Emp\\_shifted90\\\\\n",
       "\t\\hline\n",
       "\t& Date & Float64? & Float64? & Float64?\\\\\n",
       "\t\\hline\n",
       "\t1 & 2014-02-20 & \\emph{missing} & 56.7 & \\emph{missing} \\\\\n",
       "\t2 & 2014-03-03 & 52.3 & 57.1 & \\emph{missing} \\\\\n",
       "\t3 & 2014-03-04 & \\emph{missing} & \\emph{missing} & 52.8 \\\\\n",
       "\t4 & 2014-03-24 & \\emph{missing} & 55.5 & \\emph{missing} \\\\\n",
       "\t5 & 2014-04-01 & 51.1 & 55.5 & \\emph{missing} \\\\\n",
       "\t6 & 2014-04-02 & \\emph{missing} & \\emph{missing} & 52.8 \\\\\n",
       "\t7 & 2014-04-23 & \\emph{missing} & 55.4 & \\emph{missing} \\\\\n",
       "\t8 & 2014-05-01 & 54.7 & 55.4 & \\emph{missing} \\\\\n",
       "\t9 & 2014-05-03 & \\emph{missing} & \\emph{missing} & 58.2 \\\\\n",
       "\t10 & 2014-05-22 & \\emph{missing} & 56.2 & \\emph{missing} \\\\\n",
       "\t11 & 2014-06-02 & 52.8 & 57.5 & \\emph{missing} \\\\\n",
       "\t12 & 2014-06-04 & \\emph{missing} & \\emph{missing} & 58.1 \\\\\n",
       "\t13 & 2014-06-23 & \\emph{missing} & 57.5 & \\emph{missing} \\\\\n",
       "\t14 & 2014-07-01 & 52.8 & 57.3 & \\emph{missing} \\\\\n",
       "\t15 & 2014-07-03 & \\emph{missing} & \\emph{missing} & 54.6 \\\\\n",
       "\t16 & 2014-07-24 & \\emph{missing} & 56.3 & \\emph{missing} \\\\\n",
       "\t17 & 2014-08-01 & 58.2 & 55.8 & \\emph{missing} \\\\\n",
       "\t18 & 2014-08-05 & \\emph{missing} & \\emph{missing} & 55.5 \\\\\n",
       "\t19 & 2014-08-21 & \\emph{missing} & 58.0 & \\emph{missing} \\\\\n",
       "\t20 & 2014-09-02 & 58.1 & 57.9 & 54.9 \\\\\n",
       "\t21 & 2014-09-23 & \\emph{missing} & 57.9 & \\emph{missing} \\\\\n",
       "\t22 & 2014-10-01 & 54.6 & 57.5 & \\emph{missing} \\\\\n",
       "\t23 & 2014-10-04 & \\emph{missing} & \\emph{missing} & 56.8 \\\\\n",
       "\t24 & 2014-10-23 & \\emph{missing} & 56.2 & \\emph{missing} \\\\\n",
       "\t25 & 2014-11-03 & 55.5 & 55.9 & \\emph{missing} \\\\\n",
       "\t26 & 2014-11-04 & \\emph{missing} & \\emph{missing} & 54.1 \\\\\n",
       "\t27 & 2014-11-20 & \\emph{missing} & 54.7 & \\emph{missing} \\\\\n",
       "\t28 & 2014-12-01 & 54.9 & 54.8 & \\emph{missing} \\\\\n",
       "\t29 & 2014-12-02 & \\emph{missing} & \\emph{missing} & 51.4 \\\\\n",
       "\t30 & 2014-12-16 & \\emph{missing} & 53.7 & \\emph{missing} \\\\\n",
       "\t$\\dots$ & $\\dots$ & $\\dots$ & $\\dots$ & $\\dots$ \\\\\n",
       "\\end{tabular}\n"
      ],
      "text/plain": [
       "137×4 DataFrame\n",
       "│ Row │ Date       │ ISM_Mfc_Emp │ Markkit_Mfc_PMI │ ISM_Mfc_Emp_shifted90 │\n",
       "│     │ \u001b[90mDate\u001b[39m       │ \u001b[90mFloat64?\u001b[39m    │ \u001b[90mFloat64?\u001b[39m        │ \u001b[90mFloat64?\u001b[39m              │\n",
       "├─────┼────────────┼─────────────┼─────────────────┼───────────────────────┤\n",
       "│ 1   │ 2014-02-20 │ \u001b[90mmissing\u001b[39m     │ 56.7            │ \u001b[90mmissing\u001b[39m               │\n",
       "│ 2   │ 2014-03-03 │ 52.3        │ 57.1            │ \u001b[90mmissing\u001b[39m               │\n",
       "│ 3   │ 2014-03-04 │ \u001b[90mmissing\u001b[39m     │ \u001b[90mmissing\u001b[39m         │ 52.8                  │\n",
       "│ 4   │ 2014-03-24 │ \u001b[90mmissing\u001b[39m     │ 55.5            │ \u001b[90mmissing\u001b[39m               │\n",
       "│ 5   │ 2014-04-01 │ 51.1        │ 55.5            │ \u001b[90mmissing\u001b[39m               │\n",
       "│ 6   │ 2014-04-02 │ \u001b[90mmissing\u001b[39m     │ \u001b[90mmissing\u001b[39m         │ 52.8                  │\n",
       "│ 7   │ 2014-04-23 │ \u001b[90mmissing\u001b[39m     │ 55.4            │ \u001b[90mmissing\u001b[39m               │\n",
       "│ 8   │ 2014-05-01 │ 54.7        │ 55.4            │ \u001b[90mmissing\u001b[39m               │\n",
       "│ 9   │ 2014-05-03 │ \u001b[90mmissing\u001b[39m     │ \u001b[90mmissing\u001b[39m         │ 58.2                  │\n",
       "│ 10  │ 2014-05-22 │ \u001b[90mmissing\u001b[39m     │ 56.2            │ \u001b[90mmissing\u001b[39m               │\n",
       "⋮\n",
       "│ 127 │ 2018-10-05 │ \u001b[90mmissing\u001b[39m     │ \u001b[90mmissing\u001b[39m         │ 56.2                  │\n",
       "│ 128 │ 2018-11-01 │ 56.8        │ \u001b[90mmissing\u001b[39m         │ \u001b[90mmissing\u001b[39m               │\n",
       "│ 129 │ 2018-11-03 │ \u001b[90mmissing\u001b[39m     │ \u001b[90mmissing\u001b[39m         │ 55.5                  │\n",
       "│ 130 │ 2018-12-01 │ \u001b[90mmissing\u001b[39m     │ \u001b[90mmissing\u001b[39m         │ 52.3                  │\n",
       "│ 131 │ 2018-12-03 │ 58.4        │ \u001b[90mmissing\u001b[39m         │ \u001b[90mmissing\u001b[39m               │\n",
       "│ 132 │ 2019-01-01 │ \u001b[90mmissing\u001b[39m     │ \u001b[90mmissing\u001b[39m         │ 57.5                  │\n",
       "│ 133 │ 2019-01-03 │ 56.2        │ \u001b[90mmissing\u001b[39m         │ \u001b[90mmissing\u001b[39m               │\n",
       "│ 134 │ 2019-01-31 │ \u001b[90mmissing\u001b[39m     │ \u001b[90mmissing\u001b[39m         │ 52.4                  │\n",
       "│ 135 │ 2019-02-01 │ 55.5        │ \u001b[90mmissing\u001b[39m         │ \u001b[90mmissing\u001b[39m               │\n",
       "│ 136 │ 2019-03-01 │ 52.3        │ \u001b[90mmissing\u001b[39m         │ \u001b[90mmissing\u001b[39m               │\n",
       "│ 137 │ 2019-03-05 │ \u001b[90mmissing\u001b[39m     │ \u001b[90mmissing\u001b[39m         │ 53.7                  │"
      ]
     },
     "execution_count": 24,
     "metadata": {},
     "output_type": "execute_result"
    }
   ],
   "source": [
    "df4 = join(df1, df2, on=:Date,kind=:outer, makeunique=true)\n",
    "df4 = join(df4, df3, on=:Date,kind=:outer, makeunique=true)\n",
    "sort!(df4, [:Date]);\n",
    "df4[50:end-30,:]"
   ]
  },
  {
   "cell_type": "markdown",
   "metadata": {},
   "source": [
    "## Rata Die"
   ]
  },
  {
   "cell_type": "code",
   "execution_count": 78,
   "metadata": {},
   "outputs": [
    {
     "data": {
      "text/html": [
       "<table class=\"data-frame\"><thead><tr><th></th><th>Date</th><th>ISM_Mfc_Emp</th><th>Markkit_Mfc_PMI</th><th>ISM_Mfc_Emp_shifted90</th></tr><tr><th></th><th>Date</th><th>Float64?</th><th>Float64?</th><th>Float64?</th></tr></thead><tbody><p>2 rows × 4 columns</p><tr><th>1</th><td>2012-04-25</td><td><em>missing</em></td><td>56.0</td><td><em>missing</em></td></tr><tr><th>2</th><td>2012-05-24</td><td><em>missing</em></td><td>53.9</td><td><em>missing</em></td></tr></tbody></table>"
      ],
      "text/latex": [
       "\\begin{tabular}{r|cccc}\n",
       "\t& Date & ISM\\_Mfc\\_Emp & Markkit\\_Mfc\\_PMI & ISM\\_Mfc\\_Emp\\_shifted90\\\\\n",
       "\t\\hline\n",
       "\t& Date & Float64? & Float64? & Float64?\\\\\n",
       "\t\\hline\n",
       "\t1 & 2012-04-25 & \\emph{missing} & 56.0 & \\emph{missing} \\\\\n",
       "\t2 & 2012-05-24 & \\emph{missing} & 53.9 & \\emph{missing} \\\\\n",
       "\\end{tabular}\n"
      ],
      "text/plain": [
       "2×4 DataFrame\n",
       "│ Row │ Date       │ ISM_Mfc_Emp │ Markkit_Mfc_PMI │ ISM_Mfc_Emp_shifted90 │\n",
       "│     │ \u001b[90mDate\u001b[39m       │ \u001b[90mFloat64?\u001b[39m    │ \u001b[90mFloat64?\u001b[39m        │ \u001b[90mFloat64?\u001b[39m              │\n",
       "├─────┼────────────┼─────────────┼─────────────────┼───────────────────────┤\n",
       "│ 1   │ 2012-04-25 │ \u001b[90mmissing\u001b[39m     │ 56.0            │ \u001b[90mmissing\u001b[39m               │\n",
       "│ 2   │ 2012-05-24 │ \u001b[90mmissing\u001b[39m     │ 53.9            │ \u001b[90mmissing\u001b[39m               │"
      ]
     },
     "execution_count": 78,
     "metadata": {},
     "output_type": "execute_result"
    }
   ],
   "source": [
    "select!(df4, Not(:Day))\n",
    "first(df4, 2)"
   ]
  },
  {
   "cell_type": "code",
   "execution_count": 79,
   "metadata": {},
   "outputs": [
    {
     "data": {
      "text/html": [
       "<table class=\"data-frame\"><thead><tr><th></th><th>Day</th><th>Date</th><th>ISM_Mfc_Emp</th><th>Markkit_Mfc_PMI</th><th>ISM_Mfc_Emp_shifted90</th></tr><tr><th></th><th>Int64</th><th>Date</th><th>Float64?</th><th>Float64?</th><th>Float64?</th></tr></thead><tbody><p>2 rows × 5 columns</p><tr><th>1</th><td>1</td><td>2012-04-25</td><td><em>missing</em></td><td>56.0</td><td><em>missing</em></td></tr><tr><th>2</th><td>2</td><td>2012-05-24</td><td><em>missing</em></td><td>53.9</td><td><em>missing</em></td></tr></tbody></table>"
      ],
      "text/latex": [
       "\\begin{tabular}{r|ccccc}\n",
       "\t& Day & Date & ISM\\_Mfc\\_Emp & Markkit\\_Mfc\\_PMI & ISM\\_Mfc\\_Emp\\_shifted90\\\\\n",
       "\t\\hline\n",
       "\t& Int64 & Date & Float64? & Float64? & Float64?\\\\\n",
       "\t\\hline\n",
       "\t1 & 1 & 2012-04-25 & \\emph{missing} & 56.0 & \\emph{missing} \\\\\n",
       "\t2 & 2 & 2012-05-24 & \\emph{missing} & 53.9 & \\emph{missing} \\\\\n",
       "\\end{tabular}\n"
      ],
      "text/plain": [
       "2×5 DataFrame. Omitted printing of 1 columns\n",
       "│ Row │ Day   │ Date       │ ISM_Mfc_Emp │ Markkit_Mfc_PMI │\n",
       "│     │ \u001b[90mInt64\u001b[39m │ \u001b[90mDate\u001b[39m       │ \u001b[90mFloat64?\u001b[39m    │ \u001b[90mFloat64?\u001b[39m        │\n",
       "├─────┼───────┼────────────┼─────────────┼─────────────────┤\n",
       "│ 1   │ 1     │ 2012-04-25 │ \u001b[90mmissing\u001b[39m     │ 56.0            │\n",
       "│ 2   │ 2     │ 2012-05-24 │ \u001b[90mmissing\u001b[39m     │ 53.9            │"
      ]
     },
     "execution_count": 79,
     "metadata": {},
     "output_type": "execute_result"
    }
   ],
   "source": [
    "insert_rata_die_column!(df4)\n",
    "first(df4, 2)"
   ]
  },
  {
   "cell_type": "code",
   "execution_count": 82,
   "metadata": {},
   "outputs": [
    {
     "data": {
      "text/html": [
       "<table class=\"data-frame\"><thead><tr><th></th><th>Day</th><th>Date</th><th>ISM_Mfc_Emp</th><th>Markkit_Mfc_PMI</th><th>ISM_Mfc_Emp_shifted90</th></tr><tr><th></th><th>Int64</th><th>Date</th><th>Float64?</th><th>Float64?</th><th>Float64?</th></tr></thead><tbody><p>10 rows × 5 columns</p><tr><th>1</th><td>41022</td><td>2012-04-25</td><td><em>missing</em></td><td>56.0</td><td><em>missing</em></td></tr><tr><th>2</th><td>41051</td><td>2012-05-24</td><td><em>missing</em></td><td>53.9</td><td><em>missing</em></td></tr><tr><th>3</th><td>41059</td><td>2012-06-01</td><td><em>missing</em></td><td>54.0</td><td><em>missing</em></td></tr><tr><th>4</th><td>41079</td><td>2012-06-21</td><td><em>missing</em></td><td>52.9</td><td><em>missing</em></td></tr><tr><th>5</th><td>41090</td><td>2012-07-02</td><td><em>missing</em></td><td>52.5</td><td><em>missing</em></td></tr><tr><th>6</th><td>41112</td><td>2012-07-24</td><td><em>missing</em></td><td>51.8</td><td><em>missing</em></td></tr><tr><th>7</th><td>41120</td><td>2012-08-01</td><td><em>missing</em></td><td>51.4</td><td><em>missing</em></td></tr><tr><th>8</th><td>41142</td><td>2012-08-23</td><td><em>missing</em></td><td>51.9</td><td><em>missing</em></td></tr><tr><th>9</th><td>41154</td><td>2012-09-04</td><td><em>missing</em></td><td>51.5</td><td><em>missing</em></td></tr><tr><th>10</th><td>41170</td><td>2012-09-20</td><td><em>missing</em></td><td>51.5</td><td><em>missing</em></td></tr></tbody></table>"
      ],
      "text/latex": [
       "\\begin{tabular}{r|ccccc}\n",
       "\t& Day & Date & ISM\\_Mfc\\_Emp & Markkit\\_Mfc\\_PMI & ISM\\_Mfc\\_Emp\\_shifted90\\\\\n",
       "\t\\hline\n",
       "\t& Int64 & Date & Float64? & Float64? & Float64?\\\\\n",
       "\t\\hline\n",
       "\t1 & 41022 & 2012-04-25 & \\emph{missing} & 56.0 & \\emph{missing} \\\\\n",
       "\t2 & 41051 & 2012-05-24 & \\emph{missing} & 53.9 & \\emph{missing} \\\\\n",
       "\t3 & 41059 & 2012-06-01 & \\emph{missing} & 54.0 & \\emph{missing} \\\\\n",
       "\t4 & 41079 & 2012-06-21 & \\emph{missing} & 52.9 & \\emph{missing} \\\\\n",
       "\t5 & 41090 & 2012-07-02 & \\emph{missing} & 52.5 & \\emph{missing} \\\\\n",
       "\t6 & 41112 & 2012-07-24 & \\emph{missing} & 51.8 & \\emph{missing} \\\\\n",
       "\t7 & 41120 & 2012-08-01 & \\emph{missing} & 51.4 & \\emph{missing} \\\\\n",
       "\t8 & 41142 & 2012-08-23 & \\emph{missing} & 51.9 & \\emph{missing} \\\\\n",
       "\t9 & 41154 & 2012-09-04 & \\emph{missing} & 51.5 & \\emph{missing} \\\\\n",
       "\t10 & 41170 & 2012-09-20 & \\emph{missing} & 51.5 & \\emph{missing} \\\\\n",
       "\\end{tabular}\n"
      ],
      "text/plain": [
       "10×5 DataFrame. Omitted printing of 1 columns\n",
       "│ Row │ Day   │ Date       │ ISM_Mfc_Emp │ Markkit_Mfc_PMI │\n",
       "│     │ \u001b[90mInt64\u001b[39m │ \u001b[90mDate\u001b[39m       │ \u001b[90mFloat64?\u001b[39m    │ \u001b[90mFloat64?\u001b[39m        │\n",
       "├─────┼───────┼────────────┼─────────────┼─────────────────┤\n",
       "│ 1   │ 41022 │ 2012-04-25 │ \u001b[90mmissing\u001b[39m     │ 56.0            │\n",
       "│ 2   │ 41051 │ 2012-05-24 │ \u001b[90mmissing\u001b[39m     │ 53.9            │\n",
       "│ 3   │ 41059 │ 2012-06-01 │ \u001b[90mmissing\u001b[39m     │ 54.0            │\n",
       "│ 4   │ 41079 │ 2012-06-21 │ \u001b[90mmissing\u001b[39m     │ 52.9            │\n",
       "│ 5   │ 41090 │ 2012-07-02 │ \u001b[90mmissing\u001b[39m     │ 52.5            │\n",
       "│ 6   │ 41112 │ 2012-07-24 │ \u001b[90mmissing\u001b[39m     │ 51.8            │\n",
       "│ 7   │ 41120 │ 2012-08-01 │ \u001b[90mmissing\u001b[39m     │ 51.4            │\n",
       "│ 8   │ 41142 │ 2012-08-23 │ \u001b[90mmissing\u001b[39m     │ 51.9            │\n",
       "│ 9   │ 41154 │ 2012-09-04 │ \u001b[90mmissing\u001b[39m     │ 51.5            │\n",
       "│ 10  │ 41170 │ 2012-09-20 │ \u001b[90mmissing\u001b[39m     │ 51.5            │"
      ]
     },
     "execution_count": 82,
     "metadata": {},
     "output_type": "execute_result"
    }
   ],
   "source": [
    "update_rata_die!(df4)\n",
    "first(df4, 10)"
   ]
  },
  {
   "cell_type": "code",
   "execution_count": 84,
   "metadata": {},
   "outputs": [
    {
     "name": "stdout",
     "output_type": "stream",
     "text": [
      "41022 to 44044\n"
     ]
    },
    {
     "data": {
      "image/svg+xml": [
       "<?xml version=\"1.0\" encoding=\"utf-8\"?>\n",
       "<svg xmlns=\"http://www.w3.org/2000/svg\" xmlns:xlink=\"http://www.w3.org/1999/xlink\" width=\"1050\" height=\"600\" viewBox=\"0 0 4200 2400\">\n",
       "<defs>\n",
       "  <clipPath id=\"clip8100\">\n",
       "    <rect x=\"0\" y=\"0\" width=\"4200\" height=\"2400\"/>\n",
       "  </clipPath>\n",
       "</defs>\n",
       "<path clip-path=\"url(#clip8100)\" d=\"\n",
       "M0 2400 L4200 2400 L4200 0 L0 0  Z\n",
       "  \" fill=\"#ffffff\" fill-rule=\"evenodd\" fill-opacity=\"1\"/>\n",
       "<defs>\n",
       "  <clipPath id=\"clip8101\">\n",
       "    <rect x=\"840\" y=\"0\" width=\"2941\" height=\"2400\"/>\n",
       "  </clipPath>\n",
       "</defs>\n",
       "<path clip-path=\"url(#clip8100)\" d=\"\n",
       "M213.67 626.906 L4152.76 626.906 L4152.76 114.832 L213.67 114.832  Z\n",
       "  \" fill=\"#ffffff\" fill-rule=\"evenodd\" fill-opacity=\"1\"/>\n",
       "<defs>\n",
       "  <clipPath id=\"clip8102\">\n",
       "    <rect x=\"213\" y=\"114\" width=\"3940\" height=\"513\"/>\n",
       "  </clipPath>\n",
       "</defs>\n",
       "<polyline clip-path=\"url(#clip8102)\" style=\"stroke:#000000; stroke-width:2; stroke-opacity:0.1; fill:none\" points=\"\n",
       "  298.101,626.906 298.101,114.832 \n",
       "  \"/>\n",
       "<polyline clip-path=\"url(#clip8102)\" style=\"stroke:#000000; stroke-width:2; stroke-opacity:0.1; fill:none\" points=\"\n",
       "  1527.79,626.906 1527.79,114.832 \n",
       "  \"/>\n",
       "<polyline clip-path=\"url(#clip8102)\" style=\"stroke:#000000; stroke-width:2; stroke-opacity:0.1; fill:none\" points=\"\n",
       "  2757.48,626.906 2757.48,114.832 \n",
       "  \"/>\n",
       "<polyline clip-path=\"url(#clip8102)\" style=\"stroke:#000000; stroke-width:2; stroke-opacity:0.1; fill:none\" points=\"\n",
       "  3987.17,626.906 3987.17,114.832 \n",
       "  \"/>\n",
       "<polyline clip-path=\"url(#clip8102)\" style=\"stroke:#000000; stroke-width:2; stroke-opacity:0.1; fill:none\" points=\"\n",
       "  213.67,543.4 4152.76,543.4 \n",
       "  \"/>\n",
       "<polyline clip-path=\"url(#clip8102)\" style=\"stroke:#000000; stroke-width:2; stroke-opacity:0.1; fill:none\" points=\"\n",
       "  213.67,405.375 4152.76,405.375 \n",
       "  \"/>\n",
       "<polyline clip-path=\"url(#clip8102)\" style=\"stroke:#000000; stroke-width:2; stroke-opacity:0.1; fill:none\" points=\"\n",
       "  213.67,267.35 4152.76,267.35 \n",
       "  \"/>\n",
       "<polyline clip-path=\"url(#clip8102)\" style=\"stroke:#000000; stroke-width:2; stroke-opacity:0.1; fill:none\" points=\"\n",
       "  213.67,129.325 4152.76,129.325 \n",
       "  \"/>\n",
       "<polyline clip-path=\"url(#clip8100)\" style=\"stroke:#000000; stroke-width:4; stroke-opacity:1; fill:none\" points=\"\n",
       "  213.67,626.906 4152.76,626.906 \n",
       "  \"/>\n",
       "<polyline clip-path=\"url(#clip8100)\" style=\"stroke:#000000; stroke-width:4; stroke-opacity:1; fill:none\" points=\"\n",
       "  213.67,626.906 213.67,114.832 \n",
       "  \"/>\n",
       "<polyline clip-path=\"url(#clip8100)\" style=\"stroke:#000000; stroke-width:4; stroke-opacity:1; fill:none\" points=\"\n",
       "  298.101,626.906 298.101,620.761 \n",
       "  \"/>\n",
       "<polyline clip-path=\"url(#clip8100)\" style=\"stroke:#000000; stroke-width:4; stroke-opacity:1; fill:none\" points=\"\n",
       "  1527.79,626.906 1527.79,620.761 \n",
       "  \"/>\n",
       "<polyline clip-path=\"url(#clip8100)\" style=\"stroke:#000000; stroke-width:4; stroke-opacity:1; fill:none\" points=\"\n",
       "  2757.48,626.906 2757.48,620.761 \n",
       "  \"/>\n",
       "<polyline clip-path=\"url(#clip8100)\" style=\"stroke:#000000; stroke-width:4; stroke-opacity:1; fill:none\" points=\"\n",
       "  3987.17,626.906 3987.17,620.761 \n",
       "  \"/>\n",
       "<polyline clip-path=\"url(#clip8100)\" style=\"stroke:#000000; stroke-width:4; stroke-opacity:1; fill:none\" points=\"\n",
       "  213.67,543.4 260.939,543.4 \n",
       "  \"/>\n",
       "<polyline clip-path=\"url(#clip8100)\" style=\"stroke:#000000; stroke-width:4; stroke-opacity:1; fill:none\" points=\"\n",
       "  213.67,405.375 260.939,405.375 \n",
       "  \"/>\n",
       "<polyline clip-path=\"url(#clip8100)\" style=\"stroke:#000000; stroke-width:4; stroke-opacity:1; fill:none\" points=\"\n",
       "  213.67,267.35 260.939,267.35 \n",
       "  \"/>\n",
       "<polyline clip-path=\"url(#clip8100)\" style=\"stroke:#000000; stroke-width:4; stroke-opacity:1; fill:none\" points=\"\n",
       "  213.67,129.325 260.939,129.325 \n",
       "  \"/>\n",
       "<path clip-path=\"url(#clip8100)\" d=\"M 0 0 M247.696 658.892 L235.89 677.341 L247.696 677.341 L247.696 658.892 M246.469 654.818 L252.349 654.818 L252.349 677.341 L257.279 677.341 L257.279 681.229 L252.349 681.229 L252.349 689.378 L247.696 689.378 L247.696 681.229 L232.094 681.229 L232.094 676.716 L246.469 654.818 Z\" fill=\"#000000\" fill-rule=\"evenodd\" fill-opacity=\"1\" /><path clip-path=\"url(#clip8100)\" d=\"M 0 0 M263.159 685.442 L270.798 685.442 L270.798 659.077 L262.488 660.743 L262.488 656.484 L270.751 654.818 L275.427 654.818 L275.427 685.442 L283.066 685.442 L283.066 689.378 L263.159 689.378 L263.159 685.442 Z\" fill=\"#000000\" fill-rule=\"evenodd\" fill-opacity=\"1\" /><path clip-path=\"url(#clip8100)\" d=\"M 0 0 M298.136 657.896 Q294.524 657.896 292.696 661.461 Q290.89 665.003 290.89 672.132 Q290.89 679.239 292.696 682.804 Q294.524 686.345 298.136 686.345 Q301.77 686.345 303.575 682.804 Q305.404 679.239 305.404 672.132 Q305.404 665.003 303.575 661.461 Q301.77 657.896 298.136 657.896 M298.136 654.193 Q303.946 654.193 307.001 658.799 Q310.08 663.382 310.08 672.132 Q310.08 680.859 307.001 685.466 Q303.946 690.049 298.136 690.049 Q292.325 690.049 289.247 685.466 Q286.191 680.859 286.191 672.132 Q286.191 663.382 289.247 658.799 Q292.325 654.193 298.136 654.193 Z\" fill=\"#000000\" fill-rule=\"evenodd\" fill-opacity=\"1\" /><path clip-path=\"url(#clip8100)\" d=\"M 0 0 M325.149 657.896 Q321.538 657.896 319.709 661.461 Q317.904 665.003 317.904 672.132 Q317.904 679.239 319.709 682.804 Q321.538 686.345 325.149 686.345 Q328.783 686.345 330.589 682.804 Q332.418 679.239 332.418 672.132 Q332.418 665.003 330.589 661.461 Q328.783 657.896 325.149 657.896 M325.149 654.193 Q330.959 654.193 334.015 658.799 Q337.094 663.382 337.094 672.132 Q337.094 680.859 334.015 685.466 Q330.959 690.049 325.149 690.049 Q319.339 690.049 316.26 685.466 Q313.205 680.859 313.205 672.132 Q313.205 663.382 316.26 658.799 Q319.339 654.193 325.149 654.193 Z\" fill=\"#000000\" fill-rule=\"evenodd\" fill-opacity=\"1\" /><path clip-path=\"url(#clip8100)\" d=\"M 0 0 M352.163 657.896 Q348.552 657.896 346.723 661.461 Q344.918 665.003 344.918 672.132 Q344.918 679.239 346.723 682.804 Q348.552 686.345 352.163 686.345 Q355.797 686.345 357.603 682.804 Q359.431 679.239 359.431 672.132 Q359.431 665.003 357.603 661.461 Q355.797 657.896 352.163 657.896 M352.163 654.193 Q357.973 654.193 361.029 658.799 Q364.107 663.382 364.107 672.132 Q364.107 680.859 361.029 685.466 Q357.973 690.049 352.163 690.049 Q346.353 690.049 343.274 685.466 Q340.219 680.859 340.219 672.132 Q340.219 663.382 343.274 658.799 Q346.353 654.193 352.163 654.193 Z\" fill=\"#000000\" fill-rule=\"evenodd\" fill-opacity=\"1\" /><path clip-path=\"url(#clip8100)\" d=\"M 0 0 M1477.57 658.892 L1465.76 677.341 L1477.57 677.341 L1477.57 658.892 M1476.34 654.818 L1482.22 654.818 L1482.22 677.341 L1487.15 677.341 L1487.15 681.229 L1482.22 681.229 L1482.22 689.378 L1477.57 689.378 L1477.57 681.229 L1461.97 681.229 L1461.97 676.716 L1476.34 654.818 Z\" fill=\"#000000\" fill-rule=\"evenodd\" fill-opacity=\"1\" /><path clip-path=\"url(#clip8100)\" d=\"M 0 0 M1496.25 685.442 L1512.57 685.442 L1512.57 689.378 L1490.63 689.378 L1490.63 685.442 Q1493.29 682.688 1497.87 678.058 Q1502.48 673.405 1503.66 672.063 Q1505.9 669.54 1506.78 667.804 Q1507.69 666.044 1507.69 664.355 Q1507.69 661.6 1505.74 659.864 Q1503.82 658.128 1500.72 658.128 Q1498.52 658.128 1496.06 658.892 Q1493.63 659.655 1490.86 661.206 L1490.86 656.484 Q1493.68 655.35 1496.13 654.771 Q1498.59 654.193 1500.63 654.193 Q1506 654.193 1509.19 656.878 Q1512.38 659.563 1512.38 664.054 Q1512.38 666.183 1511.57 668.105 Q1510.79 670.003 1508.68 672.595 Q1508.1 673.267 1505 676.484 Q1501.9 679.679 1496.25 685.442 Z\" fill=\"#000000\" fill-rule=\"evenodd\" fill-opacity=\"1\" /><path clip-path=\"url(#clip8100)\" d=\"M 0 0 M1527.64 657.896 Q1524.03 657.896 1522.2 661.461 Q1520.39 665.003 1520.39 672.132 Q1520.39 679.239 1522.2 682.804 Q1524.03 686.345 1527.64 686.345 Q1531.27 686.345 1533.08 682.804 Q1534.91 679.239 1534.91 672.132 Q1534.91 665.003 1533.08 661.461 Q1531.27 657.896 1527.64 657.896 M1527.64 654.193 Q1533.45 654.193 1536.5 658.799 Q1539.58 663.382 1539.58 672.132 Q1539.58 680.859 1536.5 685.466 Q1533.45 690.049 1527.64 690.049 Q1521.83 690.049 1518.75 685.466 Q1515.69 680.859 1515.69 672.132 Q1515.69 663.382 1518.75 658.799 Q1521.83 654.193 1527.64 654.193 Z\" fill=\"#000000\" fill-rule=\"evenodd\" fill-opacity=\"1\" /><path clip-path=\"url(#clip8100)\" d=\"M 0 0 M1554.65 657.896 Q1551.04 657.896 1549.21 661.461 Q1547.41 665.003 1547.41 672.132 Q1547.41 679.239 1549.21 682.804 Q1551.04 686.345 1554.65 686.345 Q1558.29 686.345 1560.09 682.804 Q1561.92 679.239 1561.92 672.132 Q1561.92 665.003 1560.09 661.461 Q1558.29 657.896 1554.65 657.896 M1554.65 654.193 Q1560.46 654.193 1563.52 658.799 Q1566.6 663.382 1566.6 672.132 Q1566.6 680.859 1563.52 685.466 Q1560.46 690.049 1554.65 690.049 Q1548.84 690.049 1545.76 685.466 Q1542.71 680.859 1542.71 672.132 Q1542.71 663.382 1545.76 658.799 Q1548.84 654.193 1554.65 654.193 Z\" fill=\"#000000\" fill-rule=\"evenodd\" fill-opacity=\"1\" /><path clip-path=\"url(#clip8100)\" d=\"M 0 0 M1581.67 657.896 Q1578.06 657.896 1576.23 661.461 Q1574.42 665.003 1574.42 672.132 Q1574.42 679.239 1576.23 682.804 Q1578.06 686.345 1581.67 686.345 Q1585.3 686.345 1587.11 682.804 Q1588.93 679.239 1588.93 672.132 Q1588.93 665.003 1587.11 661.461 Q1585.3 657.896 1581.67 657.896 M1581.67 654.193 Q1587.48 654.193 1590.53 658.799 Q1593.61 663.382 1593.61 672.132 Q1593.61 680.859 1590.53 685.466 Q1587.48 690.049 1581.67 690.049 Q1575.86 690.049 1572.78 685.466 Q1569.72 680.859 1569.72 672.132 Q1569.72 663.382 1572.78 658.799 Q1575.86 654.193 1581.67 654.193 Z\" fill=\"#000000\" fill-rule=\"evenodd\" fill-opacity=\"1\" /><path clip-path=\"url(#clip8100)\" d=\"M 0 0 M2706.78 658.892 L2694.98 677.341 L2706.78 677.341 L2706.78 658.892 M2705.56 654.818 L2711.44 654.818 L2711.44 677.341 L2716.37 677.341 L2716.37 681.229 L2711.44 681.229 L2711.44 689.378 L2706.78 689.378 L2706.78 681.229 L2691.18 681.229 L2691.18 676.716 L2705.56 654.818 Z\" fill=\"#000000\" fill-rule=\"evenodd\" fill-opacity=\"1\" /><path clip-path=\"url(#clip8100)\" d=\"M 0 0 M2735.6 670.743 Q2738.96 671.461 2740.83 673.729 Q2742.73 675.998 2742.73 679.331 Q2742.73 684.447 2739.21 687.248 Q2735.7 690.049 2729.21 690.049 Q2727.04 690.049 2724.72 689.609 Q2722.43 689.192 2719.98 688.336 L2719.98 683.822 Q2721.92 684.956 2724.24 685.535 Q2726.55 686.114 2729.08 686.114 Q2733.47 686.114 2735.76 684.378 Q2738.08 682.641 2738.08 679.331 Q2738.08 676.276 2735.93 674.563 Q2733.8 672.827 2729.98 672.827 L2725.95 672.827 L2725.95 668.984 L2730.16 668.984 Q2733.61 668.984 2735.44 667.618 Q2737.27 666.23 2737.27 663.637 Q2737.27 660.975 2735.37 659.563 Q2733.5 658.128 2729.98 658.128 Q2728.06 658.128 2725.86 658.544 Q2723.66 658.961 2721.02 659.841 L2721.02 655.674 Q2723.68 654.933 2726 654.563 Q2728.33 654.193 2730.39 654.193 Q2735.72 654.193 2738.82 656.623 Q2741.92 659.03 2741.92 663.151 Q2741.92 666.021 2740.28 668.012 Q2738.64 669.98 2735.6 670.743 Z\" fill=\"#000000\" fill-rule=\"evenodd\" fill-opacity=\"1\" /><path clip-path=\"url(#clip8100)\" d=\"M 0 0 M2757.8 657.896 Q2754.19 657.896 2752.36 661.461 Q2750.56 665.003 2750.56 672.132 Q2750.56 679.239 2752.36 682.804 Q2754.19 686.345 2757.8 686.345 Q2761.44 686.345 2763.24 682.804 Q2765.07 679.239 2765.07 672.132 Q2765.07 665.003 2763.24 661.461 Q2761.44 657.896 2757.8 657.896 M2757.8 654.193 Q2763.61 654.193 2766.67 658.799 Q2769.75 663.382 2769.75 672.132 Q2769.75 680.859 2766.67 685.466 Q2763.61 690.049 2757.8 690.049 Q2751.99 690.049 2748.91 685.466 Q2745.86 680.859 2745.86 672.132 Q2745.86 663.382 2748.91 658.799 Q2751.99 654.193 2757.8 654.193 Z\" fill=\"#000000\" fill-rule=\"evenodd\" fill-opacity=\"1\" /><path clip-path=\"url(#clip8100)\" d=\"M 0 0 M2784.82 657.896 Q2781.2 657.896 2779.38 661.461 Q2777.57 665.003 2777.57 672.132 Q2777.57 679.239 2779.38 682.804 Q2781.2 686.345 2784.82 686.345 Q2788.45 686.345 2790.26 682.804 Q2792.08 679.239 2792.08 672.132 Q2792.08 665.003 2790.26 661.461 Q2788.45 657.896 2784.82 657.896 M2784.82 654.193 Q2790.63 654.193 2793.68 658.799 Q2796.76 663.382 2796.76 672.132 Q2796.76 680.859 2793.68 685.466 Q2790.63 690.049 2784.82 690.049 Q2779.01 690.049 2775.93 685.466 Q2772.87 680.859 2772.87 672.132 Q2772.87 663.382 2775.93 658.799 Q2779.01 654.193 2784.82 654.193 Z\" fill=\"#000000\" fill-rule=\"evenodd\" fill-opacity=\"1\" /><path clip-path=\"url(#clip8100)\" d=\"M 0 0 M2811.83 657.896 Q2808.22 657.896 2806.39 661.461 Q2804.58 665.003 2804.58 672.132 Q2804.58 679.239 2806.39 682.804 Q2808.22 686.345 2811.83 686.345 Q2815.46 686.345 2817.27 682.804 Q2819.1 679.239 2819.1 672.132 Q2819.1 665.003 2817.27 661.461 Q2815.46 657.896 2811.83 657.896 M2811.83 654.193 Q2817.64 654.193 2820.69 658.799 Q2823.77 663.382 2823.77 672.132 Q2823.77 680.859 2820.69 685.466 Q2817.64 690.049 2811.83 690.049 Q2806.02 690.049 2802.94 685.466 Q2799.88 680.859 2799.88 672.132 Q2799.88 663.382 2802.94 658.799 Q2806.02 654.193 2811.83 654.193 Z\" fill=\"#000000\" fill-rule=\"evenodd\" fill-opacity=\"1\" /><path clip-path=\"url(#clip8100)\" d=\"M 0 0 M3935.9 658.892 L3924.1 677.341 L3935.9 677.341 L3935.9 658.892 M3934.68 654.818 L3940.56 654.818 L3940.56 677.341 L3945.49 677.341 L3945.49 681.229 L3940.56 681.229 L3940.56 689.378 L3935.9 689.378 L3935.9 681.229 L3920.3 681.229 L3920.3 676.716 L3934.68 654.818 Z\" fill=\"#000000\" fill-rule=\"evenodd\" fill-opacity=\"1\" /><path clip-path=\"url(#clip8100)\" d=\"M 0 0 M3963.4 658.892 L3951.6 677.341 L3963.4 677.341 L3963.4 658.892 M3962.18 654.818 L3968.06 654.818 L3968.06 677.341 L3972.99 677.341 L3972.99 681.229 L3968.06 681.229 L3968.06 689.378 L3963.4 689.378 L3963.4 681.229 L3947.8 681.229 L3947.8 676.716 L3962.18 654.818 Z\" fill=\"#000000\" fill-rule=\"evenodd\" fill-opacity=\"1\" /><path clip-path=\"url(#clip8100)\" d=\"M 0 0 M3988.06 657.896 Q3984.45 657.896 3982.62 661.461 Q3980.81 665.003 3980.81 672.132 Q3980.81 679.239 3982.62 682.804 Q3984.45 686.345 3988.06 686.345 Q3991.69 686.345 3993.5 682.804 Q3995.33 679.239 3995.33 672.132 Q3995.33 665.003 3993.5 661.461 Q3991.69 657.896 3988.06 657.896 M3988.06 654.193 Q3993.87 654.193 3996.92 658.799 Q4000 663.382 4000 672.132 Q4000 680.859 3996.92 685.466 Q3993.87 690.049 3988.06 690.049 Q3982.25 690.049 3979.17 685.466 Q3976.11 680.859 3976.11 672.132 Q3976.11 663.382 3979.17 658.799 Q3982.25 654.193 3988.06 654.193 Z\" fill=\"#000000\" fill-rule=\"evenodd\" fill-opacity=\"1\" /><path clip-path=\"url(#clip8100)\" d=\"M 0 0 M4015.07 657.896 Q4011.46 657.896 4009.63 661.461 Q4007.83 665.003 4007.83 672.132 Q4007.83 679.239 4009.63 682.804 Q4011.46 686.345 4015.07 686.345 Q4018.71 686.345 4020.51 682.804 Q4022.34 679.239 4022.34 672.132 Q4022.34 665.003 4020.51 661.461 Q4018.71 657.896 4015.07 657.896 M4015.07 654.193 Q4020.88 654.193 4023.94 658.799 Q4027.02 663.382 4027.02 672.132 Q4027.02 680.859 4023.94 685.466 Q4020.88 690.049 4015.07 690.049 Q4009.26 690.049 4006.18 685.466 Q4003.13 680.859 4003.13 672.132 Q4003.13 663.382 4006.18 658.799 Q4009.26 654.193 4015.07 654.193 Z\" fill=\"#000000\" fill-rule=\"evenodd\" fill-opacity=\"1\" /><path clip-path=\"url(#clip8100)\" d=\"M 0 0 M4042.08 657.896 Q4038.47 657.896 4036.64 661.461 Q4034.84 665.003 4034.84 672.132 Q4034.84 679.239 4036.64 682.804 Q4038.47 686.345 4042.08 686.345 Q4045.72 686.345 4047.52 682.804 Q4049.35 679.239 4049.35 672.132 Q4049.35 665.003 4047.52 661.461 Q4045.72 657.896 4042.08 657.896 M4042.08 654.193 Q4047.89 654.193 4050.95 658.799 Q4054.03 663.382 4054.03 672.132 Q4054.03 680.859 4050.95 685.466 Q4047.89 690.049 4042.08 690.049 Q4036.27 690.049 4033.2 685.466 Q4030.14 680.859 4030.14 672.132 Q4030.14 663.382 4033.2 658.799 Q4036.27 654.193 4042.08 654.193 Z\" fill=\"#000000\" fill-rule=\"evenodd\" fill-opacity=\"1\" /><path clip-path=\"url(#clip8100)\" d=\"M 0 0 M125.351 526.12 L143.708 526.12 L143.708 530.055 L129.634 530.055 L129.634 538.528 Q130.652 538.18 131.671 538.018 Q132.689 537.833 133.708 537.833 Q139.495 537.833 142.874 541.005 Q146.254 544.176 146.254 549.592 Q146.254 555.171 142.782 558.273 Q139.309 561.352 132.99 561.352 Q130.814 561.352 128.546 560.981 Q126.3 560.611 123.893 559.87 L123.893 555.171 Q125.976 556.305 128.198 556.861 Q130.421 557.416 132.897 557.416 Q136.902 557.416 139.24 555.31 Q141.578 553.204 141.578 549.592 Q141.578 545.981 139.24 543.875 Q136.902 541.768 132.897 541.768 Q131.022 541.768 129.147 542.185 Q127.296 542.602 125.351 543.481 L125.351 526.12 Z\" fill=\"#000000\" fill-rule=\"evenodd\" fill-opacity=\"1\" /><path clip-path=\"url(#clip8100)\" d=\"M 0 0 M155.351 556.745 L171.67 556.745 L171.67 560.68 L149.726 560.68 L149.726 556.745 Q152.388 553.991 156.971 549.361 Q161.578 544.708 162.758 543.366 Q165.004 540.842 165.883 539.106 Q166.786 537.347 166.786 535.657 Q166.786 532.903 164.842 531.167 Q162.92 529.43 159.819 529.43 Q157.62 529.43 155.166 530.194 Q152.735 530.958 149.958 532.509 L149.958 527.787 Q152.782 526.653 155.235 526.074 Q157.689 525.495 159.726 525.495 Q165.096 525.495 168.291 528.18 Q171.485 530.866 171.485 535.356 Q171.485 537.486 170.675 539.407 Q169.888 541.305 167.782 543.898 Q167.203 544.569 164.101 547.787 Q160.999 550.981 155.351 556.745 Z\" fill=\"#000000\" fill-rule=\"evenodd\" fill-opacity=\"1\" /><path clip-path=\"url(#clip8100)\" d=\"M 0 0 M123.268 388.095 L141.624 388.095 L141.624 392.03 L127.55 392.03 L127.55 400.502 Q128.569 400.155 129.587 399.993 Q130.606 399.808 131.624 399.808 Q137.411 399.808 140.791 402.979 Q144.171 406.151 144.171 411.567 Q144.171 417.146 140.698 420.248 Q137.226 423.326 130.907 423.326 Q128.731 423.326 126.462 422.956 Q124.217 422.586 121.81 421.845 L121.81 417.146 Q123.893 418.28 126.115 418.836 Q128.337 419.391 130.814 419.391 Q134.819 419.391 137.157 417.285 Q139.495 415.178 139.495 411.567 Q139.495 407.956 137.157 405.85 Q134.819 403.743 130.814 403.743 Q128.939 403.743 127.064 404.16 Q125.212 404.577 123.268 405.456 L123.268 388.095 Z\" fill=\"#000000\" fill-rule=\"evenodd\" fill-opacity=\"1\" /><path clip-path=\"url(#clip8100)\" d=\"M 0 0 M162.087 392.169 L150.282 410.618 L162.087 410.618 L162.087 392.169 M160.86 388.095 L166.74 388.095 L166.74 410.618 L171.67 410.618 L171.67 414.507 L166.74 414.507 L166.74 422.655 L162.087 422.655 L162.087 414.507 L146.485 414.507 L146.485 409.993 L160.86 388.095 Z\" fill=\"#000000\" fill-rule=\"evenodd\" fill-opacity=\"1\" /><path clip-path=\"url(#clip8100)\" d=\"M 0 0 M123.592 250.07 L141.948 250.07 L141.948 254.005 L127.874 254.005 L127.874 262.477 Q128.893 262.13 129.911 261.968 Q130.93 261.783 131.948 261.783 Q137.735 261.783 141.115 264.954 Q144.495 268.125 144.495 273.542 Q144.495 279.121 141.022 282.223 Q137.55 285.301 131.231 285.301 Q129.055 285.301 126.786 284.931 Q124.541 284.561 122.134 283.82 L122.134 279.121 Q124.217 280.255 126.439 280.811 Q128.661 281.366 131.138 281.366 Q135.143 281.366 137.481 279.26 Q139.819 277.153 139.819 273.542 Q139.819 269.931 137.481 267.824 Q135.143 265.718 131.138 265.718 Q129.263 265.718 127.388 266.135 Q125.536 266.551 123.592 267.431 L123.592 250.07 Z\" fill=\"#000000\" fill-rule=\"evenodd\" fill-opacity=\"1\" /><path clip-path=\"url(#clip8100)\" d=\"M 0 0 M160.143 265.487 Q156.995 265.487 155.143 267.639 Q153.314 269.792 153.314 273.542 Q153.314 277.269 155.143 279.445 Q156.995 281.598 160.143 281.598 Q163.291 281.598 165.119 279.445 Q166.971 277.269 166.971 273.542 Q166.971 269.792 165.119 267.639 Q163.291 265.487 160.143 265.487 M169.425 250.834 L169.425 255.093 Q167.666 254.26 165.86 253.82 Q164.078 253.38 162.319 253.38 Q157.689 253.38 155.235 256.505 Q152.805 259.63 152.458 265.949 Q153.823 263.936 155.883 262.871 Q157.944 261.783 160.42 261.783 Q165.629 261.783 168.638 264.954 Q171.67 268.102 171.67 273.542 Q171.67 278.866 168.522 282.084 Q165.374 285.301 160.143 285.301 Q154.147 285.301 150.976 280.718 Q147.805 276.111 147.805 267.385 Q147.805 259.19 151.694 254.329 Q155.583 249.445 162.133 249.445 Q163.893 249.445 165.675 249.792 Q167.481 250.139 169.425 250.834 Z\" fill=\"#000000\" fill-rule=\"evenodd\" fill-opacity=\"1\" /><path clip-path=\"url(#clip8100)\" d=\"M 0 0 M123.847 112.045 L142.203 112.045 L142.203 115.98 L128.129 115.98 L128.129 124.452 Q129.147 124.105 130.166 123.943 Q131.184 123.758 132.203 123.758 Q137.99 123.758 141.37 126.929 Q144.749 130.1 144.749 135.517 Q144.749 141.096 141.277 144.197 Q137.805 147.276 131.485 147.276 Q129.309 147.276 127.041 146.906 Q124.796 146.535 122.388 145.795 L122.388 141.096 Q124.472 142.23 126.694 142.785 Q128.916 143.341 131.393 143.341 Q135.397 143.341 137.735 141.234 Q140.073 139.128 140.073 135.517 Q140.073 131.906 137.735 129.799 Q135.397 127.693 131.393 127.693 Q129.518 127.693 127.643 128.109 Q125.791 128.526 123.847 129.406 L123.847 112.045 Z\" fill=\"#000000\" fill-rule=\"evenodd\" fill-opacity=\"1\" /><path clip-path=\"url(#clip8100)\" d=\"M 0 0 M159.819 130.193 Q156.485 130.193 154.564 131.975 Q152.666 133.758 152.666 136.883 Q152.666 140.008 154.564 141.79 Q156.485 143.572 159.819 143.572 Q163.152 143.572 165.073 141.79 Q166.994 139.984 166.994 136.883 Q166.994 133.758 165.073 131.975 Q163.175 130.193 159.819 130.193 M155.143 128.202 Q152.133 127.461 150.444 125.401 Q148.777 123.341 148.777 120.378 Q148.777 116.235 151.717 113.827 Q154.68 111.42 159.819 111.42 Q164.981 111.42 167.92 113.827 Q170.86 116.235 170.86 120.378 Q170.86 123.341 169.17 125.401 Q167.504 127.461 164.518 128.202 Q167.897 128.989 169.772 131.281 Q171.67 133.572 171.67 136.883 Q171.67 141.906 168.592 144.591 Q165.536 147.276 159.819 147.276 Q154.101 147.276 151.022 144.591 Q147.967 141.906 147.967 136.883 Q147.967 133.572 149.865 131.281 Q151.763 128.989 155.143 128.202 M153.43 120.818 Q153.43 123.503 155.096 125.008 Q156.786 126.512 159.819 126.512 Q162.828 126.512 164.518 125.008 Q166.231 123.503 166.231 120.818 Q166.231 118.133 164.518 116.628 Q162.828 115.123 159.819 115.123 Q156.786 115.123 155.096 116.628 Q153.43 118.133 153.43 120.818 Z\" fill=\"#000000\" fill-rule=\"evenodd\" fill-opacity=\"1\" /><path clip-path=\"url(#clip8100)\" d=\"M 0 0 M1846.4 12.096 L1854.58 12.096 L1854.58 72.576 L1846.4 72.576 L1846.4 12.096 Z\" fill=\"#000000\" fill-rule=\"evenodd\" fill-opacity=\"1\" /><path clip-path=\"url(#clip8100)\" d=\"M 0 0 M1898.98 14.0809 L1898.98 22.0612 Q1894.32 19.8332 1890.19 18.7395 Q1886.06 17.6457 1882.21 17.6457 Q1875.53 17.6457 1871.88 20.2383 Q1868.28 22.8309 1868.28 27.611 Q1868.28 31.6214 1870.67 33.6873 Q1873.1 35.7128 1879.82 36.9686 L1884.76 37.9813 Q1893.92 39.7232 1898.25 44.1387 Q1902.63 48.5136 1902.63 55.8863 Q1902.63 64.6767 1896.71 69.2137 Q1890.84 73.7508 1879.46 73.7508 Q1875.16 73.7508 1870.3 72.7785 Q1865.48 71.8063 1860.3 69.9024 L1860.3 61.4765 Q1865.28 64.2716 1870.06 65.6895 Q1874.84 67.1073 1879.46 67.1073 Q1886.46 67.1073 1890.27 64.3527 Q1894.08 61.598 1894.08 56.4939 Q1894.08 52.0379 1891.33 49.5264 Q1888.61 47.0148 1882.37 45.759 L1877.39 44.7868 Q1868.24 42.9639 1864.14 39.075 Q1860.05 35.1862 1860.05 28.2591 Q1860.05 20.2383 1865.68 15.6203 Q1871.35 11.0023 1881.28 11.0023 Q1885.53 11.0023 1889.95 11.7719 Q1894.36 12.5416 1898.98 14.0809 Z\" fill=\"#000000\" fill-rule=\"evenodd\" fill-opacity=\"1\" /><path clip-path=\"url(#clip8100)\" d=\"M 0 0 M1910.77 12.096 L1922.96 12.096 L1938.4 53.2532 L1953.91 12.096 L1966.1 12.096 L1966.1 72.576 L1958.12 72.576 L1958.12 19.4686 L1942.53 60.9499 L1934.31 60.9499 L1918.71 19.4686 L1918.71 72.576 L1910.77 72.576 L1910.77 12.096 Z\" fill=\"#000000\" fill-rule=\"evenodd\" fill-opacity=\"1\" /><path clip-path=\"url(#clip8100)\" d=\"M 0 0 M2000.62 12.096 L2012.81 12.096 L2028.25 53.2532 L2043.76 12.096 L2055.95 12.096 L2055.95 72.576 L2047.97 72.576 L2047.97 19.4686 L2032.38 60.9499 L2024.15 60.9499 L2008.56 19.4686 L2008.56 72.576 L2000.62 72.576 L2000.62 12.096 Z\" fill=\"#000000\" fill-rule=\"evenodd\" fill-opacity=\"1\" /><path clip-path=\"url(#clip8100)\" d=\"M 0 0 M2084.39 49.7694 Q2075.36 49.7694 2071.87 51.8354 Q2068.39 53.9013 2068.39 58.8839 Q2068.39 62.8538 2070.98 65.2034 Q2073.62 67.5124 2078.11 67.5124 Q2084.31 67.5124 2088.04 63.1374 Q2091.8 58.7219 2091.8 51.4303 L2091.8 49.7694 L2084.39 49.7694 M2099.26 46.6907 L2099.26 72.576 L2091.8 72.576 L2091.8 65.6895 Q2089.25 69.8214 2085.44 71.8063 Q2081.64 73.7508 2076.13 73.7508 Q2069.16 73.7508 2065.03 69.8619 Q2060.94 65.9325 2060.94 59.3701 Q2060.94 51.7138 2066.04 47.825 Q2071.19 43.9361 2081.35 43.9361 L2091.8 43.9361 L2091.8 43.2069 Q2091.8 38.0623 2088.4 35.2672 Q2085.04 32.4315 2078.92 32.4315 Q2075.03 32.4315 2071.35 33.3632 Q2067.66 34.295 2064.26 36.1584 L2064.26 29.2718 Q2068.35 27.692 2072.2 26.9223 Q2076.05 26.1121 2079.69 26.1121 Q2089.54 26.1121 2094.4 31.2163 Q2099.26 36.3204 2099.26 46.6907 Z\" fill=\"#000000\" fill-rule=\"evenodd\" fill-opacity=\"1\" /><path clip-path=\"url(#clip8100)\" d=\"M 0 0 M2144.79 45.1919 L2144.79 72.576 L2137.34 72.576 L2137.34 45.4349 Q2137.34 38.994 2134.83 35.7938 Q2132.31 32.5936 2127.29 32.5936 Q2121.25 32.5936 2117.77 36.4419 Q2114.29 40.2903 2114.29 46.9338 L2114.29 72.576 L2106.79 72.576 L2106.79 27.2059 L2114.29 27.2059 L2114.29 34.2544 Q2116.96 30.163 2120.57 28.1376 Q2124.21 26.1121 2128.95 26.1121 Q2136.77 26.1121 2140.78 30.9732 Q2144.79 35.7938 2144.79 45.1919 Z\" fill=\"#000000\" fill-rule=\"evenodd\" fill-opacity=\"1\" /><path clip-path=\"url(#clip8100)\" d=\"M 0 0 M2151.84 54.671 L2151.84 27.2059 L2159.29 27.2059 L2159.29 54.3874 Q2159.29 60.8284 2161.8 64.0691 Q2164.32 67.2693 2169.34 67.2693 Q2175.37 67.2693 2178.86 63.421 Q2182.38 59.5726 2182.38 52.9291 L2182.38 27.2059 L2189.84 27.2059 L2189.84 72.576 L2182.38 72.576 L2182.38 65.6084 Q2179.67 69.7404 2176.06 71.7658 Q2172.5 73.7508 2167.76 73.7508 Q2159.94 73.7508 2155.89 68.8897 Q2151.84 64.0286 2151.84 54.671 M2170.59 26.1121 L2170.59 26.1121 Z\" fill=\"#000000\" fill-rule=\"evenodd\" fill-opacity=\"1\" /><path clip-path=\"url(#clip8100)\" d=\"M 0 0 M2220.62 9.54393 L2220.62 15.7418 L2213.49 15.7418 Q2209.48 15.7418 2207.9 17.3622 Q2206.36 18.9825 2206.36 23.1955 L2206.36 27.2059 L2218.64 27.2059 L2218.64 32.9987 L2206.36 32.9987 L2206.36 72.576 L2198.87 72.576 L2198.87 32.9987 L2191.74 32.9987 L2191.74 27.2059 L2198.87 27.2059 L2198.87 24.0462 Q2198.87 16.471 2202.39 13.0277 Q2205.92 9.54393 2213.57 9.54393 L2220.62 9.54393 Z\" fill=\"#000000\" fill-rule=\"evenodd\" fill-opacity=\"1\" /><path clip-path=\"url(#clip8100)\" d=\"M 0 0 M2249.06 49.7694 Q2240.03 49.7694 2236.54 51.8354 Q2233.06 53.9013 2233.06 58.8839 Q2233.06 62.8538 2235.65 65.2034 Q2238.29 67.5124 2242.78 67.5124 Q2248.98 67.5124 2252.71 63.1374 Q2256.47 58.7219 2256.47 51.4303 L2256.47 49.7694 L2249.06 49.7694 M2263.93 46.6907 L2263.93 72.576 L2256.47 72.576 L2256.47 65.6895 Q2253.92 69.8214 2250.11 71.8063 Q2246.31 73.7508 2240.8 73.7508 Q2233.83 73.7508 2229.7 69.8619 Q2225.61 65.9325 2225.61 59.3701 Q2225.61 51.7138 2230.71 47.825 Q2235.85 43.9361 2246.02 43.9361 L2256.47 43.9361 L2256.47 43.2069 Q2256.47 38.0623 2253.07 35.2672 Q2249.71 32.4315 2243.59 32.4315 Q2239.7 32.4315 2236.02 33.3632 Q2232.33 34.295 2228.93 36.1584 L2228.93 29.2718 Q2233.02 27.692 2236.87 26.9223 Q2240.72 26.1121 2244.36 26.1121 Q2254.21 26.1121 2259.07 31.2163 Q2263.93 36.3204 2263.93 46.6907 Z\" fill=\"#000000\" fill-rule=\"evenodd\" fill-opacity=\"1\" /><path clip-path=\"url(#clip8100)\" d=\"M 0 0 M2304.4 28.9478 L2304.4 35.9153 Q2301.24 34.1734 2298.04 33.3227 Q2294.88 32.4315 2291.64 32.4315 Q2284.38 32.4315 2280.37 37.0496 Q2276.36 41.6271 2276.36 49.9314 Q2276.36 58.2358 2280.37 62.8538 Q2284.38 67.4314 2291.64 67.4314 Q2294.88 67.4314 2298.04 66.5807 Q2301.24 65.6895 2304.4 63.9476 L2304.4 70.8341 Q2301.28 72.2924 2297.91 73.0216 Q2294.59 73.7508 2290.83 73.7508 Q2280.58 73.7508 2274.54 67.3098 Q2268.5 60.8689 2268.5 49.9314 Q2268.5 38.832 2274.58 32.472 Q2280.7 26.1121 2291.31 26.1121 Q2294.75 26.1121 2298.04 26.8413 Q2301.32 27.5299 2304.4 28.9478 Z\" fill=\"#000000\" fill-rule=\"evenodd\" fill-opacity=\"1\" /><path clip-path=\"url(#clip8100)\" d=\"M 0 0 M2319.59 14.324 L2319.59 27.2059 L2334.94 27.2059 L2334.94 32.9987 L2319.59 32.9987 L2319.59 57.6282 Q2319.59 63.1779 2321.09 64.7578 Q2322.63 66.3376 2327.28 66.3376 L2334.94 66.3376 L2334.94 72.576 L2327.28 72.576 Q2318.66 72.576 2315.37 69.3758 Q2312.09 66.1351 2312.09 57.6282 L2312.09 32.9987 L2306.62 32.9987 L2306.62 27.2059 L2312.09 27.2059 L2312.09 14.324 L2319.59 14.324 Z\" fill=\"#000000\" fill-rule=\"evenodd\" fill-opacity=\"1\" /><path clip-path=\"url(#clip8100)\" d=\"M 0 0 M2341.99 54.671 L2341.99 27.2059 L2349.44 27.2059 L2349.44 54.3874 Q2349.44 60.8284 2351.95 64.0691 Q2354.47 67.2693 2359.49 67.2693 Q2365.52 67.2693 2369.01 63.421 Q2372.53 59.5726 2372.53 52.9291 L2372.53 27.2059 L2379.99 27.2059 L2379.99 72.576 L2372.53 72.576 L2372.53 65.6084 Q2369.82 69.7404 2366.21 71.7658 Q2362.65 73.7508 2357.91 73.7508 Q2350.09 73.7508 2346.04 68.8897 Q2341.99 64.0286 2341.99 54.671 M2360.74 26.1121 L2360.74 26.1121 Z\" fill=\"#000000\" fill-rule=\"evenodd\" fill-opacity=\"1\" /><path clip-path=\"url(#clip8100)\" d=\"M 0 0 M2414.09 34.1734 Q2412.84 33.4443 2411.34 33.1202 Q2409.88 32.7556 2408.1 32.7556 Q2401.78 32.7556 2398.38 36.8875 Q2395.01 40.9789 2395.01 48.6757 L2395.01 72.576 L2387.52 72.576 L2387.52 27.2059 L2395.01 27.2059 L2395.01 34.2544 Q2397.36 30.1225 2401.13 28.1376 Q2404.9 26.1121 2410.29 26.1121 Q2411.06 26.1121 2411.99 26.2337 Q2412.92 26.3147 2414.05 26.5172 L2414.09 34.1734 Z\" fill=\"#000000\" fill-rule=\"evenodd\" fill-opacity=\"1\" /><path clip-path=\"url(#clip8100)\" d=\"M 0 0 M2421.91 27.2059 L2429.37 27.2059 L2429.37 72.576 L2421.91 72.576 L2421.91 27.2059 M2421.91 9.54393 L2429.37 9.54393 L2429.37 18.9825 L2421.91 18.9825 L2421.91 9.54393 Z\" fill=\"#000000\" fill-rule=\"evenodd\" fill-opacity=\"1\" /><path clip-path=\"url(#clip8100)\" d=\"M 0 0 M2474.9 45.1919 L2474.9 72.576 L2467.44 72.576 L2467.44 45.4349 Q2467.44 38.994 2464.93 35.7938 Q2462.42 32.5936 2457.4 32.5936 Q2451.36 32.5936 2447.88 36.4419 Q2444.4 40.2903 2444.4 46.9338 L2444.4 72.576 L2436.9 72.576 L2436.9 27.2059 L2444.4 27.2059 L2444.4 34.2544 Q2447.07 30.163 2450.67 28.1376 Q2454.32 26.1121 2459.06 26.1121 Q2466.88 26.1121 2470.89 30.9732 Q2474.9 35.7938 2474.9 45.1919 Z\" fill=\"#000000\" fill-rule=\"evenodd\" fill-opacity=\"1\" /><path clip-path=\"url(#clip8100)\" d=\"M 0 0 M2512.57 49.3643 Q2512.57 41.2625 2509.21 36.8065 Q2505.89 32.3505 2499.85 32.3505 Q2493.86 32.3505 2490.49 36.8065 Q2487.17 41.2625 2487.17 49.3643 Q2487.17 57.4256 2490.49 61.8816 Q2493.86 66.3376 2499.85 66.3376 Q2505.89 66.3376 2509.21 61.8816 Q2512.57 57.4256 2512.57 49.3643 M2520.03 66.9452 Q2520.03 78.5308 2514.88 84.1616 Q2509.74 89.8329 2499.12 89.8329 Q2495.19 89.8329 2491.71 89.2252 Q2488.23 88.6581 2484.94 87.4428 L2484.94 80.1917 Q2488.23 81.9741 2491.43 82.8248 Q2494.63 83.6755 2497.95 83.6755 Q2505.28 83.6755 2508.93 79.8271 Q2512.57 76.0193 2512.57 68.282 L2512.57 64.5957 Q2510.26 68.6061 2506.66 70.5911 Q2503.05 72.576 2498.03 72.576 Q2489.68 72.576 2484.58 66.2161 Q2479.48 59.8562 2479.48 49.3643 Q2479.48 38.832 2484.58 32.472 Q2489.68 26.1121 2498.03 26.1121 Q2503.05 26.1121 2506.66 28.0971 Q2510.26 30.082 2512.57 34.0924 L2512.57 27.2059 L2520.03 27.2059 L2520.03 66.9452 Z\" fill=\"#000000\" fill-rule=\"evenodd\" fill-opacity=\"1\" /><path clip-path=\"url(#clip8100)\" d=\"M 0 0 M2128.98 732 L2128.98 742.122 L2141.04 742.122 L2141.04 746.673 L2128.98 746.673 L2128.98 766.025 Q2128.98 770.385 2130.15 771.627 Q2131.36 772.868 2135.02 772.868 L2141.04 772.868 L2141.04 777.77 L2135.02 777.77 Q2128.25 777.77 2125.67 775.255 Q2123.09 772.709 2123.09 766.025 L2123.09 746.673 L2118.79 746.673 L2118.79 742.122 L2123.09 742.122 L2123.09 732 L2128.98 732 Z\" fill=\"#000000\" fill-rule=\"evenodd\" fill-opacity=\"1\" /><path clip-path=\"url(#clip8100)\" d=\"M 0 0 M2147.18 742.122 L2153.04 742.122 L2153.04 777.77 L2147.18 777.77 L2147.18 742.122 M2147.18 728.244 L2153.04 728.244 L2153.04 735.66 L2147.18 735.66 L2147.18 728.244 Z\" fill=\"#000000\" fill-rule=\"evenodd\" fill-opacity=\"1\" /><path clip-path=\"url(#clip8100)\" d=\"M 0 0 M2186.94 748.965 Q2189.13 745.018 2192.19 743.14 Q2195.24 741.262 2199.38 741.262 Q2204.95 741.262 2207.98 745.177 Q2211 749.06 2211 756.253 L2211 777.77 L2205.11 777.77 L2205.11 756.444 Q2205.11 751.32 2203.3 748.837 Q2201.48 746.355 2197.76 746.355 Q2193.21 746.355 2190.57 749.379 Q2187.92 752.402 2187.92 757.622 L2187.92 777.77 L2182.04 777.77 L2182.04 756.444 Q2182.04 751.288 2180.22 748.837 Q2178.41 746.355 2174.62 746.355 Q2170.13 746.355 2167.49 749.41 Q2164.85 752.434 2164.85 757.622 L2164.85 777.77 L2158.96 777.77 L2158.96 742.122 L2164.85 742.122 L2164.85 747.66 Q2166.85 744.381 2169.65 742.822 Q2172.46 741.262 2176.31 741.262 Q2180.19 741.262 2182.89 743.236 Q2185.63 745.209 2186.94 748.965 Z\" fill=\"#000000\" fill-rule=\"evenodd\" fill-opacity=\"1\" /><path clip-path=\"url(#clip8100)\" d=\"M 0 0 M2247.63 758.481 L2247.63 761.346 L2220.71 761.346 Q2221.09 767.393 2224.34 770.576 Q2227.61 773.727 2233.44 773.727 Q2236.81 773.727 2239.96 772.9 Q2243.15 772.072 2246.27 770.417 L2246.27 775.955 Q2243.11 777.292 2239.8 777.992 Q2236.49 778.693 2233.09 778.693 Q2224.56 778.693 2219.56 773.727 Q2214.6 768.762 2214.6 760.296 Q2214.6 751.543 2219.31 746.418 Q2224.05 741.262 2232.07 741.262 Q2239.26 741.262 2243.43 745.909 Q2247.63 750.524 2247.63 758.481 M2241.78 756.763 Q2241.71 751.957 2239.07 749.092 Q2236.46 746.227 2232.13 746.227 Q2227.23 746.227 2224.27 748.997 Q2221.34 751.766 2220.9 756.795 L2241.78 756.763 Z\" fill=\"#000000\" fill-rule=\"evenodd\" fill-opacity=\"1\" /><path clip-path=\"url(#clip8100)\" d=\"M 0 0 M29.9056 507.27 L29.9056 501.414 L65.5535 501.414 L65.5535 507.27 L29.9056 507.27 M16.0283 507.27 L16.0283 501.414 L23.4444 501.414 L23.4444 507.27 L16.0283 507.27 Z\" fill=\"#000000\" fill-rule=\"evenodd\" fill-opacity=\"1\" /><path clip-path=\"url(#clip8100)\" d=\"M 0 0 M44.0374 465.638 L65.5535 465.638 L65.5535 471.495 L44.2284 471.495 Q39.1677 471.495 36.6532 473.468 Q34.1388 475.441 34.1388 479.388 Q34.1388 484.131 37.1625 486.868 Q40.1862 489.605 45.4061 489.605 L65.5535 489.605 L65.5535 495.493 L29.9056 495.493 L29.9056 489.605 L35.4437 489.605 Q32.2291 487.505 30.6376 484.672 Q29.0462 481.807 29.0462 478.083 Q29.0462 471.94 32.8656 468.789 Q36.6532 465.638 44.0374 465.638 Z\" fill=\"#000000\" fill-rule=\"evenodd\" fill-opacity=\"1\" /><path clip-path=\"url(#clip8100)\" d=\"M 0 0 M35.3164 436.038 L16.0283 436.038 L16.0283 430.181 L65.5535 430.181 L65.5535 436.038 L60.2063 436.038 Q63.3892 437.884 64.9488 440.717 Q66.4766 443.517 66.4766 447.464 Q66.4766 453.925 61.3203 457.999 Q56.1641 462.042 47.7614 462.042 Q39.3587 462.042 34.2024 457.999 Q29.0462 453.925 29.0462 447.464 Q29.0462 443.517 30.6058 440.717 Q32.1336 437.884 35.3164 436.038 M47.7614 455.994 Q54.2226 455.994 57.9147 453.352 Q61.575 450.679 61.575 446.032 Q61.575 441.385 57.9147 438.711 Q54.2226 436.038 47.7614 436.038 Q41.3002 436.038 37.6399 438.711 Q33.9478 441.385 33.9478 446.032 Q33.9478 450.679 37.6399 453.352 Q41.3002 455.994 47.7614 455.994 Z\" fill=\"#000000\" fill-rule=\"evenodd\" fill-opacity=\"1\" /><path clip-path=\"url(#clip8100)\" d=\"M 0 0 M29.9056 424.038 L29.9056 418.182 L65.5535 418.182 L65.5535 424.038 L29.9056 424.038 M16.0283 424.038 L16.0283 418.182 L23.4444 418.182 L23.4444 424.038 L16.0283 424.038 Z\" fill=\"#000000\" fill-rule=\"evenodd\" fill-opacity=\"1\" /><path clip-path=\"url(#clip8100)\" d=\"M 0 0 M31.2742 386.385 L36.7487 386.385 Q35.3801 388.868 34.7117 391.382 Q34.0115 393.865 34.0115 396.411 Q34.0115 402.109 37.6399 405.26 Q41.2365 408.411 47.7614 408.411 Q54.2862 408.411 57.9147 405.26 Q61.5113 402.109 61.5113 396.411 Q61.5113 393.865 60.8429 391.382 Q60.1427 388.868 58.7741 386.385 L64.1849 386.385 Q65.3307 388.836 65.9037 391.478 Q66.4766 394.088 66.4766 397.048 Q66.4766 405.1 61.4158 409.843 Q56.3551 414.585 47.7614 414.585 Q39.0404 414.585 34.0433 409.811 Q29.0462 405.005 29.0462 396.666 Q29.0462 393.96 29.6191 391.382 Q30.1602 388.804 31.2742 386.385 Z\" fill=\"#000000\" fill-rule=\"evenodd\" fill-opacity=\"1\" /><path clip-path=\"url(#clip8100)\" d=\"M 0 0 M47.6341 364.042 Q47.6341 371.139 49.2573 373.877 Q50.8806 376.614 54.7955 376.614 Q57.9147 376.614 59.7607 374.577 Q61.575 372.508 61.575 368.975 Q61.575 364.105 58.1375 361.177 Q54.6682 358.217 48.939 358.217 L47.6341 358.217 L47.6341 364.042 M45.2151 352.361 L65.5535 352.361 L65.5535 358.217 L60.1427 358.217 Q63.3892 360.222 64.9488 363.214 Q66.4766 366.206 66.4766 370.535 Q66.4766 376.009 63.421 379.256 Q60.3337 382.47 55.1774 382.47 Q49.1618 382.47 46.1063 378.46 Q43.0508 374.418 43.0508 366.429 L43.0508 358.217 L42.4778 358.217 Q38.4356 358.217 36.2395 360.891 Q34.0115 363.532 34.0115 368.338 Q34.0115 371.394 34.7435 374.29 Q35.4756 377.187 36.9397 379.86 L31.5288 379.86 Q30.2875 376.646 29.6828 373.622 Q29.0462 370.598 29.0462 367.734 Q29.0462 359.999 33.0566 356.18 Q37.067 352.361 45.2151 352.361 Z\" fill=\"#000000\" fill-rule=\"evenodd\" fill-opacity=\"1\" /><path clip-path=\"url(#clip8100)\" d=\"M 0 0 M19.7841 340.425 L29.9056 340.425 L29.9056 328.362 L34.4571 328.362 L34.4571 340.425 L53.8088 340.425 Q58.1693 340.425 59.4106 339.247 Q60.6519 338.038 60.6519 334.377 L60.6519 328.362 L65.5535 328.362 L65.5535 334.377 Q65.5535 341.157 63.0391 343.735 Q60.4928 346.313 53.8088 346.313 L34.4571 346.313 L34.4571 350.61 L29.9056 350.61 L29.9056 346.313 L19.7841 346.313 L19.7841 340.425 Z\" fill=\"#000000\" fill-rule=\"evenodd\" fill-opacity=\"1\" /><path clip-path=\"url(#clip8100)\" d=\"M 0 0 M34.0115 308.405 Q34.0115 313.116 37.7036 315.853 Q41.3639 318.59 47.7614 318.59 Q54.1589 318.59 57.851 315.885 Q61.5113 313.148 61.5113 308.405 Q61.5113 303.727 57.8192 300.989 Q54.1271 298.252 47.7614 298.252 Q41.4275 298.252 37.7354 300.989 Q34.0115 303.727 34.0115 308.405 M29.0462 308.405 Q29.0462 300.766 34.0115 296.406 Q38.9767 292.045 47.7614 292.045 Q56.5142 292.045 61.5113 296.406 Q66.4766 300.766 66.4766 308.405 Q66.4766 316.076 61.5113 320.437 Q56.5142 324.765 47.7614 324.765 Q38.9767 324.765 34.0115 320.437 Q29.0462 316.076 29.0462 308.405 Z\" fill=\"#000000\" fill-rule=\"evenodd\" fill-opacity=\"1\" /><path clip-path=\"url(#clip8100)\" d=\"M 0 0 M35.3801 265.246 Q34.8072 266.233 34.5525 267.41 Q34.2661 268.556 34.2661 269.956 Q34.2661 274.922 37.5126 277.595 Q40.7273 280.237 46.7747 280.237 L65.5535 280.237 L65.5535 286.125 L29.9056 286.125 L29.9056 280.237 L35.4437 280.237 Q32.1972 278.391 30.6376 275.431 Q29.0462 272.471 29.0462 268.238 Q29.0462 267.633 29.1417 266.901 Q29.2054 266.169 29.3645 265.278 L35.3801 265.246 Z\" fill=\"#000000\" fill-rule=\"evenodd\" fill-opacity=\"1\" /><path clip-path=\"url(#clip8100)\" d=\"M 0 0 M30.9559 236.377 L36.4941 236.377 Q35.2209 238.86 34.5844 241.534 Q33.9478 244.207 33.9478 247.072 Q33.9478 251.432 35.2846 253.628 Q36.6214 255.793 39.295 255.793 Q41.332 255.793 42.5097 254.233 Q43.6555 252.674 44.7058 247.963 L45.1514 245.958 Q46.4882 239.719 48.939 237.109 Q51.358 234.468 55.7185 234.468 Q60.6838 234.468 63.5802 238.414 Q66.4766 242.329 66.4766 249.204 Q66.4766 252.069 65.9037 255.188 Q65.3626 258.275 64.2486 261.713 L58.2011 261.713 Q59.8881 258.466 60.7474 255.315 Q61.575 252.164 61.575 249.077 Q61.575 244.939 60.1745 242.711 Q58.7422 240.483 56.1641 240.483 Q53.777 240.483 52.5038 242.107 Q51.2307 243.698 50.053 249.141 L49.5756 251.178 Q48.4298 256.62 46.0745 259.039 Q43.6873 261.458 39.5496 261.458 Q34.5207 261.458 31.7835 257.893 Q29.0462 254.329 29.0462 247.772 Q29.0462 244.525 29.5236 241.661 Q30.0011 238.796 30.9559 236.377 Z\" fill=\"#000000\" fill-rule=\"evenodd\" fill-opacity=\"1\" /><polyline clip-path=\"url(#clip8102)\" style=\"stroke:#009af9; stroke-width:4; stroke-opacity:1; fill:none\" points=\"\n",
       "  325.154,267.35 360.815,412.276 370.652,405.375 395.246,481.289 408.773,508.894 435.826,557.203 445.663,584.808 472.717,550.302 487.473,577.907 507.148,577.907 \n",
       "  520.674,605.512 548.957,591.709 558.795,612.413 583.389,515.795 598.145,488.19 611.671,391.573 635.035,405.375 662.089,260.449 671.926,281.152 696.52,322.56 \n",
       "  706.357,384.671 730.951,343.264 744.478,363.968 771.531,543.4 781.368,536.499 808.421,550.302 821.948,522.697 842.853,529.598 856.379,550.302 884.662,460.585 \n",
       "  894.5,426.079 \n",
       "  \"/>\n",
       "<polyline clip-path=\"url(#clip8102)\" style=\"stroke:#009af9; stroke-width:4; stroke-opacity:1; fill:none\" points=\"\n",
       "  920.323,412.276 935.079,467.486 959.673,488.19 969.511,488.19 \n",
       "  \"/>\n",
       "<polyline clip-path=\"url(#clip8102)\" style=\"stroke:#009af9; stroke-width:4; stroke-opacity:1; fill:none\" points=\"\n",
       "  997.794,605.512 1007.63,557.203 \n",
       "  \"/>\n",
       "<polyline clip-path=\"url(#clip8102)\" style=\"stroke:#009af9; stroke-width:4; stroke-opacity:1; fill:none\" points=\"\n",
       "  1032.22,384.671 1045.75,357.066 \n",
       "  \"/>\n",
       "<polyline clip-path=\"url(#clip8102)\" style=\"stroke:#009af9; stroke-width:4; stroke-opacity:1; fill:none\" points=\"\n",
       "  1083.87,336.363 1109.7,426.079 \n",
       "  \"/>\n",
       "<polyline clip-path=\"url(#clip8102)\" style=\"stroke:#009af9; stroke-width:4; stroke-opacity:1; fill:none\" points=\"\n",
       "  1123.22,426.079 1144.13,219.041 1157.65,191.436 \n",
       "  \"/>\n",
       "<polyline clip-path=\"url(#clip8102)\" style=\"stroke:#009af9; stroke-width:4; stroke-opacity:1; fill:none\" points=\"\n",
       "  1183.48,301.856 1193.31,301.856 \n",
       "  \"/>\n",
       "<polyline clip-path=\"url(#clip8102)\" style=\"stroke:#009af9; stroke-width:4; stroke-opacity:1; fill:none\" points=\"\n",
       "  1220.37,308.758 1230.2,308.758 \n",
       "  \"/>\n",
       "<polyline clip-path=\"url(#clip8102)\" style=\"stroke:#009af9; stroke-width:4; stroke-opacity:1; fill:none\" points=\"\n",
       "  1256.03,253.547 1269.55,163.831 \n",
       "  \"/>\n",
       "<polyline clip-path=\"url(#clip8102)\" style=\"stroke:#009af9; stroke-width:4; stroke-opacity:1; fill:none\" points=\"\n",
       "  1295.38,163.831 1305.22,177.634 \n",
       "  \"/>\n",
       "<polyline clip-path=\"url(#clip8102)\" style=\"stroke:#009af9; stroke-width:4; stroke-opacity:1; fill:none\" points=\"\n",
       "  1333.5,246.646 1343.34,281.152 \n",
       "  \"/>\n",
       "<polyline clip-path=\"url(#clip8102)\" style=\"stroke:#009af9; stroke-width:4; stroke-opacity:1; fill:none\" points=\"\n",
       "  1367.93,129.325 1382.69,136.226 1408.51,136.226 1418.35,163.831 \n",
       "  \"/>\n",
       "<polyline clip-path=\"url(#clip8102)\" style=\"stroke:#009af9; stroke-width:4; stroke-opacity:1; fill:none\" points=\"\n",
       "  1445.4,253.547 1458.93,274.251 \n",
       "  \"/>\n",
       "<polyline clip-path=\"url(#clip8102)\" style=\"stroke:#009af9; stroke-width:4; stroke-opacity:1; fill:none\" points=\"\n",
       "  1479.83,357.066 1493.36,350.165 \n",
       "  \"/>\n",
       "<polyline clip-path=\"url(#clip8102)\" style=\"stroke:#009af9; stroke-width:4; stroke-opacity:1; fill:none\" points=\"\n",
       "  1532.71,412.276 1558.53,426.079 \n",
       "  \"/>\n",
       "<polyline clip-path=\"url(#clip8102)\" style=\"stroke:#009af9; stroke-width:4; stroke-opacity:1; fill:none\" points=\"\n",
       "  1570.83,412.276 1592.96,384.671 1605.26,329.461 \n",
       "  \"/>\n",
       "<polyline clip-path=\"url(#clip8102)\" style=\"stroke:#009af9; stroke-width:4; stroke-opacity:1; fill:none\" points=\"\n",
       "  1632.31,315.659 1642.15,288.054 \n",
       "  \"/>\n",
       "<polyline clip-path=\"url(#clip8102)\" style=\"stroke:#009af9; stroke-width:4; stroke-opacity:1; fill:none\" points=\"\n",
       "  1669.2,391.573 1679.04,398.474 \n",
       "  \"/>\n",
       "<polyline clip-path=\"url(#clip8102)\" style=\"stroke:#009af9; stroke-width:4; stroke-opacity:1; fill:none\" points=\"\n",
       "  1703.63,419.178 1717.16,405.375 \n",
       "  \"/>\n",
       "<polyline clip-path=\"url(#clip8102)\" style=\"stroke:#009af9; stroke-width:4; stroke-opacity:1; fill:none\" points=\"\n",
       "  1744.21,446.783 1754.05,432.98 \n",
       "  \"/>\n",
       "<polyline clip-path=\"url(#clip8102)\" style=\"stroke:#009af9; stroke-width:4; stroke-opacity:1; fill:none\" points=\"\n",
       "  1782.33,419.178 1794.63,419.178 \n",
       "  \"/>\n",
       "<polyline clip-path=\"url(#clip8102)\" style=\"stroke:#009af9; stroke-width:4; stroke-opacity:1; fill:none\" points=\"\n",
       "  1816.77,481.289 1830.29,474.388 \n",
       "  \"/>\n",
       "<path clip-path=\"url(#clip8100)\" d=\"\n",
       "M1624.26 374.906 L2398.82 374.906 L2398.82 253.946 L1624.26 253.946  Z\n",
       "  \" fill=\"#ffffff\" fill-rule=\"evenodd\" fill-opacity=\"1\"/>\n",
       "<polyline clip-path=\"url(#clip8100)\" style=\"stroke:#000000; stroke-width:4; stroke-opacity:1; fill:none\" points=\"\n",
       "  1624.26,374.906 2398.82,374.906 2398.82,253.946 1624.26,253.946 1624.26,374.906 \n",
       "  \"/>\n",
       "<polyline clip-path=\"url(#clip8100)\" style=\"stroke:#009af9; stroke-width:4; stroke-opacity:1; fill:none\" points=\"\n",
       "  1666.26,314.426 1918.26,314.426 \n",
       "  \"/>\n",
       "<path clip-path=\"url(#clip8100)\" d=\"M 0 0 M1960.26 297.146 L1967.23 297.146 L1976.05 320.664 L1984.92 297.146 L1991.88 297.146 L1991.88 331.706 L1987.32 331.706 L1987.32 301.358 L1978.41 325.062 L1973.71 325.062 L1964.8 301.358 L1964.8 331.706 L1960.26 331.706 L1960.26 297.146 Z\" fill=\"#000000\" fill-rule=\"evenodd\" fill-opacity=\"1\" /><path clip-path=\"url(#clip8100)\" d=\"M 0 0 M2008.13 318.673 Q2002.97 318.673 2000.98 319.854 Q1998.99 321.034 1998.99 323.882 Q1998.99 326.15 2000.47 327.493 Q2001.98 328.812 2004.55 328.812 Q2008.09 328.812 2010.22 326.312 Q2012.37 323.789 2012.37 319.622 L2012.37 318.673 L2008.13 318.673 M2016.63 316.914 L2016.63 331.706 L2012.37 331.706 L2012.37 327.77 Q2010.91 330.131 2008.74 331.266 Q2006.56 332.377 2003.41 332.377 Q1999.43 332.377 1997.07 330.155 Q1994.73 327.909 1994.73 324.159 Q1994.73 319.784 1997.65 317.562 Q2000.59 315.34 2006.4 315.34 L2012.37 315.34 L2012.37 314.923 Q2012.37 311.983 2010.43 310.386 Q2008.5 308.766 2005.01 308.766 Q2002.79 308.766 2000.68 309.298 Q1998.57 309.831 1996.63 310.895 L1996.63 306.96 Q1998.97 306.058 2001.17 305.618 Q2003.37 305.155 2005.45 305.155 Q2011.07 305.155 2013.85 308.071 Q2016.63 310.988 2016.63 316.914 Z\" fill=\"#000000\" fill-rule=\"evenodd\" fill-opacity=\"1\" /><path clip-path=\"url(#clip8100)\" d=\"M 0 0 M2036.12 309.761 Q2035.4 309.345 2034.55 309.159 Q2033.71 308.951 2032.69 308.951 Q2029.08 308.951 2027.14 311.312 Q2025.22 313.65 2025.22 318.048 L2025.22 331.706 L2020.93 331.706 L2020.93 305.78 L2025.22 305.78 L2025.22 309.808 Q2026.56 307.446 2028.71 306.312 Q2030.87 305.155 2033.94 305.155 Q2034.38 305.155 2034.92 305.224 Q2035.45 305.271 2036.1 305.386 L2036.12 309.761 Z\" fill=\"#000000\" fill-rule=\"evenodd\" fill-opacity=\"1\" /><path clip-path=\"url(#clip8100)\" d=\"M 0 0 M2040.43 295.687 L2044.71 295.687 L2044.71 316.96 L2057.42 305.78 L2062.86 305.78 L2049.11 317.909 L2063.43 331.706 L2057.88 331.706 L2044.71 319.044 L2044.71 331.706 L2040.43 331.706 L2040.43 295.687 Z\" fill=\"#000000\" fill-rule=\"evenodd\" fill-opacity=\"1\" /><path clip-path=\"url(#clip8100)\" d=\"M 0 0 M2067.74 295.687 L2072.02 295.687 L2072.02 316.96 L2084.73 305.78 L2090.17 305.78 L2076.42 317.909 L2090.75 331.706 L2085.19 331.706 L2072.02 319.044 L2072.02 331.706 L2067.74 331.706 L2067.74 295.687 Z\" fill=\"#000000\" fill-rule=\"evenodd\" fill-opacity=\"1\" /><path clip-path=\"url(#clip8100)\" d=\"M 0 0 M2095.22 305.78 L2099.48 305.78 L2099.48 331.706 L2095.22 331.706 L2095.22 305.78 M2095.22 295.687 L2099.48 295.687 L2099.48 301.081 L2095.22 301.081 L2095.22 295.687 Z\" fill=\"#000000\" fill-rule=\"evenodd\" fill-opacity=\"1\" /><path clip-path=\"url(#clip8100)\" d=\"M 0 0 M2108.16 298.419 L2108.16 305.78 L2116.93 305.78 L2116.93 309.09 L2108.16 309.09 L2108.16 323.164 Q2108.16 326.335 2109.01 327.238 Q2109.89 328.141 2112.55 328.141 L2116.93 328.141 L2116.93 331.706 L2112.55 331.706 Q2107.62 331.706 2105.75 329.877 Q2103.87 328.025 2103.87 323.164 L2103.87 309.09 L2100.75 309.09 L2100.75 305.78 L2103.87 305.78 L2103.87 298.419 L2108.16 298.419 Z\" fill=\"#000000\" fill-rule=\"evenodd\" fill-opacity=\"1\" /><path clip-path=\"url(#clip8100)\" d=\"M 0 0 M2141.1 339.576 L2141.1 342.886 L2116.47 342.886 L2116.47 339.576 L2141.1 339.576 Z\" fill=\"#000000\" fill-rule=\"evenodd\" fill-opacity=\"1\" /><path clip-path=\"url(#clip8100)\" d=\"M 0 0 M2145.75 297.146 L2152.72 297.146 L2161.54 320.664 L2170.4 297.146 L2177.37 297.146 L2177.37 331.706 L2172.81 331.706 L2172.81 301.358 L2163.9 325.062 L2159.2 325.062 L2150.29 301.358 L2150.29 331.706 L2145.75 331.706 L2145.75 297.146 Z\" fill=\"#000000\" fill-rule=\"evenodd\" fill-opacity=\"1\" /><path clip-path=\"url(#clip8100)\" d=\"M 0 0 M2194.96 295.687 L2194.96 299.229 L2190.89 299.229 Q2188.6 299.229 2187.69 300.155 Q2186.81 301.081 2186.81 303.488 L2186.81 305.78 L2193.83 305.78 L2193.83 309.09 L2186.81 309.09 L2186.81 331.706 L2182.53 331.706 L2182.53 309.09 L2178.46 309.09 L2178.46 305.78 L2182.53 305.78 L2182.53 303.974 Q2182.53 299.646 2184.54 297.678 Q2186.56 295.687 2190.93 295.687 L2194.96 295.687 Z\" fill=\"#000000\" fill-rule=\"evenodd\" fill-opacity=\"1\" /><path clip-path=\"url(#clip8100)\" d=\"M 0 0 M2218.09 306.775 L2218.09 310.757 Q2216.28 309.761 2214.45 309.275 Q2212.65 308.766 2210.79 308.766 Q2206.65 308.766 2204.36 311.405 Q2202.07 314.02 2202.07 318.766 Q2202.07 323.511 2204.36 326.15 Q2206.65 328.766 2210.79 328.766 Q2212.65 328.766 2214.45 328.28 Q2216.28 327.77 2218.09 326.775 L2218.09 330.71 Q2216.3 331.544 2214.38 331.96 Q2212.48 332.377 2210.33 332.377 Q2204.48 332.377 2201.03 328.696 Q2197.58 325.016 2197.58 318.766 Q2197.58 312.423 2201.05 308.789 Q2204.54 305.155 2210.61 305.155 Q2212.58 305.155 2214.45 305.571 Q2216.33 305.965 2218.09 306.775 Z\" fill=\"#000000\" fill-rule=\"evenodd\" fill-opacity=\"1\" /><path clip-path=\"url(#clip8100)\" d=\"M 0 0 M2242.25 339.576 L2242.25 342.886 L2217.62 342.886 L2217.62 339.576 L2242.25 339.576 Z\" fill=\"#000000\" fill-rule=\"evenodd\" fill-opacity=\"1\" /><path clip-path=\"url(#clip8100)\" d=\"M 0 0 M2251.58 300.988 L2251.58 313.974 L2257.46 313.974 Q2260.72 313.974 2262.51 312.284 Q2264.29 310.595 2264.29 307.47 Q2264.29 304.368 2262.51 302.678 Q2260.72 300.988 2257.46 300.988 L2251.58 300.988 M2246.91 297.146 L2257.46 297.146 Q2263.27 297.146 2266.23 299.784 Q2269.22 302.4 2269.22 307.47 Q2269.22 312.585 2266.23 315.201 Q2263.27 317.817 2257.46 317.817 L2251.58 317.817 L2251.58 331.706 L2246.91 331.706 L2246.91 297.146 Z\" fill=\"#000000\" fill-rule=\"evenodd\" fill-opacity=\"1\" /><path clip-path=\"url(#clip8100)\" d=\"M 0 0 M2273.87 297.146 L2280.84 297.146 L2289.66 320.664 L2298.53 297.146 L2305.49 297.146 L2305.49 331.706 L2300.93 331.706 L2300.93 301.358 L2292.02 325.062 L2287.32 325.062 L2278.41 301.358 L2278.41 331.706 L2273.87 331.706 L2273.87 297.146 Z\" fill=\"#000000\" fill-rule=\"evenodd\" fill-opacity=\"1\" /><path clip-path=\"url(#clip8100)\" d=\"M 0 0 M2310.15 297.146 L2314.82 297.146 L2314.82 331.706 L2310.15 331.706 L2310.15 297.146 Z\" fill=\"#000000\" fill-rule=\"evenodd\" fill-opacity=\"1\" /><path clip-path=\"url(#clip8100)\" d=\"\n",
       "M213.67 1426.91 L4152.76 1426.91 L4152.76 914.832 L213.67 914.832  Z\n",
       "  \" fill=\"#ffffff\" fill-rule=\"evenodd\" fill-opacity=\"1\"/>\n",
       "<defs>\n",
       "  <clipPath id=\"clip8103\">\n",
       "    <rect x=\"213\" y=\"914\" width=\"3940\" height=\"513\"/>\n",
       "  </clipPath>\n",
       "</defs>\n",
       "<polyline clip-path=\"url(#clip8103)\" style=\"stroke:#000000; stroke-width:2; stroke-opacity:0.1; fill:none\" points=\"\n",
       "  298.101,1426.91 298.101,914.832 \n",
       "  \"/>\n",
       "<polyline clip-path=\"url(#clip8103)\" style=\"stroke:#000000; stroke-width:2; stroke-opacity:0.1; fill:none\" points=\"\n",
       "  1527.79,1426.91 1527.79,914.832 \n",
       "  \"/>\n",
       "<polyline clip-path=\"url(#clip8103)\" style=\"stroke:#000000; stroke-width:2; stroke-opacity:0.1; fill:none\" points=\"\n",
       "  2757.48,1426.91 2757.48,914.832 \n",
       "  \"/>\n",
       "<polyline clip-path=\"url(#clip8103)\" style=\"stroke:#000000; stroke-width:2; stroke-opacity:0.1; fill:none\" points=\"\n",
       "  3987.17,1426.91 3987.17,914.832 \n",
       "  \"/>\n",
       "<polyline clip-path=\"url(#clip8103)\" style=\"stroke:#000000; stroke-width:2; stroke-opacity:0.1; fill:none\" points=\"\n",
       "  213.67,1375.59 4152.76,1375.59 \n",
       "  \"/>\n",
       "<polyline clip-path=\"url(#clip8103)\" style=\"stroke:#000000; stroke-width:2; stroke-opacity:0.1; fill:none\" points=\"\n",
       "  213.67,1228.31 4152.76,1228.31 \n",
       "  \"/>\n",
       "<polyline clip-path=\"url(#clip8103)\" style=\"stroke:#000000; stroke-width:2; stroke-opacity:0.1; fill:none\" points=\"\n",
       "  213.67,1081.03 4152.76,1081.03 \n",
       "  \"/>\n",
       "<polyline clip-path=\"url(#clip8103)\" style=\"stroke:#000000; stroke-width:2; stroke-opacity:0.1; fill:none\" points=\"\n",
       "  213.67,933.743 4152.76,933.743 \n",
       "  \"/>\n",
       "<polyline clip-path=\"url(#clip8100)\" style=\"stroke:#000000; stroke-width:4; stroke-opacity:1; fill:none\" points=\"\n",
       "  213.67,1426.91 4152.76,1426.91 \n",
       "  \"/>\n",
       "<polyline clip-path=\"url(#clip8100)\" style=\"stroke:#000000; stroke-width:4; stroke-opacity:1; fill:none\" points=\"\n",
       "  213.67,1426.91 213.67,914.832 \n",
       "  \"/>\n",
       "<polyline clip-path=\"url(#clip8100)\" style=\"stroke:#000000; stroke-width:4; stroke-opacity:1; fill:none\" points=\"\n",
       "  298.101,1426.91 298.101,1420.76 \n",
       "  \"/>\n",
       "<polyline clip-path=\"url(#clip8100)\" style=\"stroke:#000000; stroke-width:4; stroke-opacity:1; fill:none\" points=\"\n",
       "  1527.79,1426.91 1527.79,1420.76 \n",
       "  \"/>\n",
       "<polyline clip-path=\"url(#clip8100)\" style=\"stroke:#000000; stroke-width:4; stroke-opacity:1; fill:none\" points=\"\n",
       "  2757.48,1426.91 2757.48,1420.76 \n",
       "  \"/>\n",
       "<polyline clip-path=\"url(#clip8100)\" style=\"stroke:#000000; stroke-width:4; stroke-opacity:1; fill:none\" points=\"\n",
       "  3987.17,1426.91 3987.17,1420.76 \n",
       "  \"/>\n",
       "<polyline clip-path=\"url(#clip8100)\" style=\"stroke:#000000; stroke-width:4; stroke-opacity:1; fill:none\" points=\"\n",
       "  213.67,1375.59 260.939,1375.59 \n",
       "  \"/>\n",
       "<polyline clip-path=\"url(#clip8100)\" style=\"stroke:#000000; stroke-width:4; stroke-opacity:1; fill:none\" points=\"\n",
       "  213.67,1228.31 260.939,1228.31 \n",
       "  \"/>\n",
       "<polyline clip-path=\"url(#clip8100)\" style=\"stroke:#000000; stroke-width:4; stroke-opacity:1; fill:none\" points=\"\n",
       "  213.67,1081.03 260.939,1081.03 \n",
       "  \"/>\n",
       "<polyline clip-path=\"url(#clip8100)\" style=\"stroke:#000000; stroke-width:4; stroke-opacity:1; fill:none\" points=\"\n",
       "  213.67,933.743 260.939,933.743 \n",
       "  \"/>\n",
       "<path clip-path=\"url(#clip8100)\" d=\"M 0 0 M247.696 1458.89 L235.89 1477.34 L247.696 1477.34 L247.696 1458.89 M246.469 1454.82 L252.349 1454.82 L252.349 1477.34 L257.279 1477.34 L257.279 1481.23 L252.349 1481.23 L252.349 1489.38 L247.696 1489.38 L247.696 1481.23 L232.094 1481.23 L232.094 1476.72 L246.469 1454.82 Z\" fill=\"#000000\" fill-rule=\"evenodd\" fill-opacity=\"1\" /><path clip-path=\"url(#clip8100)\" d=\"M 0 0 M263.159 1485.44 L270.798 1485.44 L270.798 1459.08 L262.488 1460.74 L262.488 1456.48 L270.751 1454.82 L275.427 1454.82 L275.427 1485.44 L283.066 1485.44 L283.066 1489.38 L263.159 1489.38 L263.159 1485.44 Z\" fill=\"#000000\" fill-rule=\"evenodd\" fill-opacity=\"1\" /><path clip-path=\"url(#clip8100)\" d=\"M 0 0 M298.136 1457.9 Q294.524 1457.9 292.696 1461.46 Q290.89 1465 290.89 1472.13 Q290.89 1479.24 292.696 1482.8 Q294.524 1486.35 298.136 1486.35 Q301.77 1486.35 303.575 1482.8 Q305.404 1479.24 305.404 1472.13 Q305.404 1465 303.575 1461.46 Q301.77 1457.9 298.136 1457.9 M298.136 1454.19 Q303.946 1454.19 307.001 1458.8 Q310.08 1463.38 310.08 1472.13 Q310.08 1480.86 307.001 1485.47 Q303.946 1490.05 298.136 1490.05 Q292.325 1490.05 289.247 1485.47 Q286.191 1480.86 286.191 1472.13 Q286.191 1463.38 289.247 1458.8 Q292.325 1454.19 298.136 1454.19 Z\" fill=\"#000000\" fill-rule=\"evenodd\" fill-opacity=\"1\" /><path clip-path=\"url(#clip8100)\" d=\"M 0 0 M325.149 1457.9 Q321.538 1457.9 319.709 1461.46 Q317.904 1465 317.904 1472.13 Q317.904 1479.24 319.709 1482.8 Q321.538 1486.35 325.149 1486.35 Q328.783 1486.35 330.589 1482.8 Q332.418 1479.24 332.418 1472.13 Q332.418 1465 330.589 1461.46 Q328.783 1457.9 325.149 1457.9 M325.149 1454.19 Q330.959 1454.19 334.015 1458.8 Q337.094 1463.38 337.094 1472.13 Q337.094 1480.86 334.015 1485.47 Q330.959 1490.05 325.149 1490.05 Q319.339 1490.05 316.26 1485.47 Q313.205 1480.86 313.205 1472.13 Q313.205 1463.38 316.26 1458.8 Q319.339 1454.19 325.149 1454.19 Z\" fill=\"#000000\" fill-rule=\"evenodd\" fill-opacity=\"1\" /><path clip-path=\"url(#clip8100)\" d=\"M 0 0 M352.163 1457.9 Q348.552 1457.9 346.723 1461.46 Q344.918 1465 344.918 1472.13 Q344.918 1479.24 346.723 1482.8 Q348.552 1486.35 352.163 1486.35 Q355.797 1486.35 357.603 1482.8 Q359.431 1479.24 359.431 1472.13 Q359.431 1465 357.603 1461.46 Q355.797 1457.9 352.163 1457.9 M352.163 1454.19 Q357.973 1454.19 361.029 1458.8 Q364.107 1463.38 364.107 1472.13 Q364.107 1480.86 361.029 1485.47 Q357.973 1490.05 352.163 1490.05 Q346.353 1490.05 343.274 1485.47 Q340.219 1480.86 340.219 1472.13 Q340.219 1463.38 343.274 1458.8 Q346.353 1454.19 352.163 1454.19 Z\" fill=\"#000000\" fill-rule=\"evenodd\" fill-opacity=\"1\" /><path clip-path=\"url(#clip8100)\" d=\"M 0 0 M1477.57 1458.89 L1465.76 1477.34 L1477.57 1477.34 L1477.57 1458.89 M1476.34 1454.82 L1482.22 1454.82 L1482.22 1477.34 L1487.15 1477.34 L1487.15 1481.23 L1482.22 1481.23 L1482.22 1489.38 L1477.57 1489.38 L1477.57 1481.23 L1461.97 1481.23 L1461.97 1476.72 L1476.34 1454.82 Z\" fill=\"#000000\" fill-rule=\"evenodd\" fill-opacity=\"1\" /><path clip-path=\"url(#clip8100)\" d=\"M 0 0 M1496.25 1485.44 L1512.57 1485.44 L1512.57 1489.38 L1490.63 1489.38 L1490.63 1485.44 Q1493.29 1482.69 1497.87 1478.06 Q1502.48 1473.41 1503.66 1472.06 Q1505.9 1469.54 1506.78 1467.8 Q1507.69 1466.04 1507.69 1464.35 Q1507.69 1461.6 1505.74 1459.86 Q1503.82 1458.13 1500.72 1458.13 Q1498.52 1458.13 1496.06 1458.89 Q1493.63 1459.66 1490.86 1461.21 L1490.86 1456.48 Q1493.68 1455.35 1496.13 1454.77 Q1498.59 1454.19 1500.63 1454.19 Q1506 1454.19 1509.19 1456.88 Q1512.38 1459.56 1512.38 1464.05 Q1512.38 1466.18 1511.57 1468.1 Q1510.79 1470 1508.68 1472.6 Q1508.1 1473.27 1505 1476.48 Q1501.9 1479.68 1496.25 1485.44 Z\" fill=\"#000000\" fill-rule=\"evenodd\" fill-opacity=\"1\" /><path clip-path=\"url(#clip8100)\" d=\"M 0 0 M1527.64 1457.9 Q1524.03 1457.9 1522.2 1461.46 Q1520.39 1465 1520.39 1472.13 Q1520.39 1479.24 1522.2 1482.8 Q1524.03 1486.35 1527.64 1486.35 Q1531.27 1486.35 1533.08 1482.8 Q1534.91 1479.24 1534.91 1472.13 Q1534.91 1465 1533.08 1461.46 Q1531.27 1457.9 1527.64 1457.9 M1527.64 1454.19 Q1533.45 1454.19 1536.5 1458.8 Q1539.58 1463.38 1539.58 1472.13 Q1539.58 1480.86 1536.5 1485.47 Q1533.45 1490.05 1527.64 1490.05 Q1521.83 1490.05 1518.75 1485.47 Q1515.69 1480.86 1515.69 1472.13 Q1515.69 1463.38 1518.75 1458.8 Q1521.83 1454.19 1527.64 1454.19 Z\" fill=\"#000000\" fill-rule=\"evenodd\" fill-opacity=\"1\" /><path clip-path=\"url(#clip8100)\" d=\"M 0 0 M1554.65 1457.9 Q1551.04 1457.9 1549.21 1461.46 Q1547.41 1465 1547.41 1472.13 Q1547.41 1479.24 1549.21 1482.8 Q1551.04 1486.35 1554.65 1486.35 Q1558.29 1486.35 1560.09 1482.8 Q1561.92 1479.24 1561.92 1472.13 Q1561.92 1465 1560.09 1461.46 Q1558.29 1457.9 1554.65 1457.9 M1554.65 1454.19 Q1560.46 1454.19 1563.52 1458.8 Q1566.6 1463.38 1566.6 1472.13 Q1566.6 1480.86 1563.52 1485.47 Q1560.46 1490.05 1554.65 1490.05 Q1548.84 1490.05 1545.76 1485.47 Q1542.71 1480.86 1542.71 1472.13 Q1542.71 1463.38 1545.76 1458.8 Q1548.84 1454.19 1554.65 1454.19 Z\" fill=\"#000000\" fill-rule=\"evenodd\" fill-opacity=\"1\" /><path clip-path=\"url(#clip8100)\" d=\"M 0 0 M1581.67 1457.9 Q1578.06 1457.9 1576.23 1461.46 Q1574.42 1465 1574.42 1472.13 Q1574.42 1479.24 1576.23 1482.8 Q1578.06 1486.35 1581.67 1486.35 Q1585.3 1486.35 1587.11 1482.8 Q1588.93 1479.24 1588.93 1472.13 Q1588.93 1465 1587.11 1461.46 Q1585.3 1457.9 1581.67 1457.9 M1581.67 1454.19 Q1587.48 1454.19 1590.53 1458.8 Q1593.61 1463.38 1593.61 1472.13 Q1593.61 1480.86 1590.53 1485.47 Q1587.48 1490.05 1581.67 1490.05 Q1575.86 1490.05 1572.78 1485.47 Q1569.72 1480.86 1569.72 1472.13 Q1569.72 1463.38 1572.78 1458.8 Q1575.86 1454.19 1581.67 1454.19 Z\" fill=\"#000000\" fill-rule=\"evenodd\" fill-opacity=\"1\" /><path clip-path=\"url(#clip8100)\" d=\"M 0 0 M2706.78 1458.89 L2694.98 1477.34 L2706.78 1477.34 L2706.78 1458.89 M2705.56 1454.82 L2711.44 1454.82 L2711.44 1477.34 L2716.37 1477.34 L2716.37 1481.23 L2711.44 1481.23 L2711.44 1489.38 L2706.78 1489.38 L2706.78 1481.23 L2691.18 1481.23 L2691.18 1476.72 L2705.56 1454.82 Z\" fill=\"#000000\" fill-rule=\"evenodd\" fill-opacity=\"1\" /><path clip-path=\"url(#clip8100)\" d=\"M 0 0 M2735.6 1470.74 Q2738.96 1471.46 2740.83 1473.73 Q2742.73 1476 2742.73 1479.33 Q2742.73 1484.45 2739.21 1487.25 Q2735.7 1490.05 2729.21 1490.05 Q2727.04 1490.05 2724.72 1489.61 Q2722.43 1489.19 2719.98 1488.34 L2719.98 1483.82 Q2721.92 1484.96 2724.24 1485.53 Q2726.55 1486.11 2729.08 1486.11 Q2733.47 1486.11 2735.76 1484.38 Q2738.08 1482.64 2738.08 1479.33 Q2738.08 1476.28 2735.93 1474.56 Q2733.8 1472.83 2729.98 1472.83 L2725.95 1472.83 L2725.95 1468.98 L2730.16 1468.98 Q2733.61 1468.98 2735.44 1467.62 Q2737.27 1466.23 2737.27 1463.64 Q2737.27 1460.97 2735.37 1459.56 Q2733.5 1458.13 2729.98 1458.13 Q2728.06 1458.13 2725.86 1458.54 Q2723.66 1458.96 2721.02 1459.84 L2721.02 1455.67 Q2723.68 1454.93 2726 1454.56 Q2728.33 1454.19 2730.39 1454.19 Q2735.72 1454.19 2738.82 1456.62 Q2741.92 1459.03 2741.92 1463.15 Q2741.92 1466.02 2740.28 1468.01 Q2738.64 1469.98 2735.6 1470.74 Z\" fill=\"#000000\" fill-rule=\"evenodd\" fill-opacity=\"1\" /><path clip-path=\"url(#clip8100)\" d=\"M 0 0 M2757.8 1457.9 Q2754.19 1457.9 2752.36 1461.46 Q2750.56 1465 2750.56 1472.13 Q2750.56 1479.24 2752.36 1482.8 Q2754.19 1486.35 2757.8 1486.35 Q2761.44 1486.35 2763.24 1482.8 Q2765.07 1479.24 2765.07 1472.13 Q2765.07 1465 2763.24 1461.46 Q2761.44 1457.9 2757.8 1457.9 M2757.8 1454.19 Q2763.61 1454.19 2766.67 1458.8 Q2769.75 1463.38 2769.75 1472.13 Q2769.75 1480.86 2766.67 1485.47 Q2763.61 1490.05 2757.8 1490.05 Q2751.99 1490.05 2748.91 1485.47 Q2745.86 1480.86 2745.86 1472.13 Q2745.86 1463.38 2748.91 1458.8 Q2751.99 1454.19 2757.8 1454.19 Z\" fill=\"#000000\" fill-rule=\"evenodd\" fill-opacity=\"1\" /><path clip-path=\"url(#clip8100)\" d=\"M 0 0 M2784.82 1457.9 Q2781.2 1457.9 2779.38 1461.46 Q2777.57 1465 2777.57 1472.13 Q2777.57 1479.24 2779.38 1482.8 Q2781.2 1486.35 2784.82 1486.35 Q2788.45 1486.35 2790.26 1482.8 Q2792.08 1479.24 2792.08 1472.13 Q2792.08 1465 2790.26 1461.46 Q2788.45 1457.9 2784.82 1457.9 M2784.82 1454.19 Q2790.63 1454.19 2793.68 1458.8 Q2796.76 1463.38 2796.76 1472.13 Q2796.76 1480.86 2793.68 1485.47 Q2790.63 1490.05 2784.82 1490.05 Q2779.01 1490.05 2775.93 1485.47 Q2772.87 1480.86 2772.87 1472.13 Q2772.87 1463.38 2775.93 1458.8 Q2779.01 1454.19 2784.82 1454.19 Z\" fill=\"#000000\" fill-rule=\"evenodd\" fill-opacity=\"1\" /><path clip-path=\"url(#clip8100)\" d=\"M 0 0 M2811.83 1457.9 Q2808.22 1457.9 2806.39 1461.46 Q2804.58 1465 2804.58 1472.13 Q2804.58 1479.24 2806.39 1482.8 Q2808.22 1486.35 2811.83 1486.35 Q2815.46 1486.35 2817.27 1482.8 Q2819.1 1479.24 2819.1 1472.13 Q2819.1 1465 2817.27 1461.46 Q2815.46 1457.9 2811.83 1457.9 M2811.83 1454.19 Q2817.64 1454.19 2820.69 1458.8 Q2823.77 1463.38 2823.77 1472.13 Q2823.77 1480.86 2820.69 1485.47 Q2817.64 1490.05 2811.83 1490.05 Q2806.02 1490.05 2802.94 1485.47 Q2799.88 1480.86 2799.88 1472.13 Q2799.88 1463.38 2802.94 1458.8 Q2806.02 1454.19 2811.83 1454.19 Z\" fill=\"#000000\" fill-rule=\"evenodd\" fill-opacity=\"1\" /><path clip-path=\"url(#clip8100)\" d=\"M 0 0 M3935.9 1458.89 L3924.1 1477.34 L3935.9 1477.34 L3935.9 1458.89 M3934.68 1454.82 L3940.56 1454.82 L3940.56 1477.34 L3945.49 1477.34 L3945.49 1481.23 L3940.56 1481.23 L3940.56 1489.38 L3935.9 1489.38 L3935.9 1481.23 L3920.3 1481.23 L3920.3 1476.72 L3934.68 1454.82 Z\" fill=\"#000000\" fill-rule=\"evenodd\" fill-opacity=\"1\" /><path clip-path=\"url(#clip8100)\" d=\"M 0 0 M3963.4 1458.89 L3951.6 1477.34 L3963.4 1477.34 L3963.4 1458.89 M3962.18 1454.82 L3968.06 1454.82 L3968.06 1477.34 L3972.99 1477.34 L3972.99 1481.23 L3968.06 1481.23 L3968.06 1489.38 L3963.4 1489.38 L3963.4 1481.23 L3947.8 1481.23 L3947.8 1476.72 L3962.18 1454.82 Z\" fill=\"#000000\" fill-rule=\"evenodd\" fill-opacity=\"1\" /><path clip-path=\"url(#clip8100)\" d=\"M 0 0 M3988.06 1457.9 Q3984.45 1457.9 3982.62 1461.46 Q3980.81 1465 3980.81 1472.13 Q3980.81 1479.24 3982.62 1482.8 Q3984.45 1486.35 3988.06 1486.35 Q3991.69 1486.35 3993.5 1482.8 Q3995.33 1479.24 3995.33 1472.13 Q3995.33 1465 3993.5 1461.46 Q3991.69 1457.9 3988.06 1457.9 M3988.06 1454.19 Q3993.87 1454.19 3996.92 1458.8 Q4000 1463.38 4000 1472.13 Q4000 1480.86 3996.92 1485.47 Q3993.87 1490.05 3988.06 1490.05 Q3982.25 1490.05 3979.17 1485.47 Q3976.11 1480.86 3976.11 1472.13 Q3976.11 1463.38 3979.17 1458.8 Q3982.25 1454.19 3988.06 1454.19 Z\" fill=\"#000000\" fill-rule=\"evenodd\" fill-opacity=\"1\" /><path clip-path=\"url(#clip8100)\" d=\"M 0 0 M4015.07 1457.9 Q4011.46 1457.9 4009.63 1461.46 Q4007.83 1465 4007.83 1472.13 Q4007.83 1479.24 4009.63 1482.8 Q4011.46 1486.35 4015.07 1486.35 Q4018.71 1486.35 4020.51 1482.8 Q4022.34 1479.24 4022.34 1472.13 Q4022.34 1465 4020.51 1461.46 Q4018.71 1457.9 4015.07 1457.9 M4015.07 1454.19 Q4020.88 1454.19 4023.94 1458.8 Q4027.02 1463.38 4027.02 1472.13 Q4027.02 1480.86 4023.94 1485.47 Q4020.88 1490.05 4015.07 1490.05 Q4009.26 1490.05 4006.18 1485.47 Q4003.13 1480.86 4003.13 1472.13 Q4003.13 1463.38 4006.18 1458.8 Q4009.26 1454.19 4015.07 1454.19 Z\" fill=\"#000000\" fill-rule=\"evenodd\" fill-opacity=\"1\" /><path clip-path=\"url(#clip8100)\" d=\"M 0 0 M4042.08 1457.9 Q4038.47 1457.9 4036.64 1461.46 Q4034.84 1465 4034.84 1472.13 Q4034.84 1479.24 4036.64 1482.8 Q4038.47 1486.35 4042.08 1486.35 Q4045.72 1486.35 4047.52 1482.8 Q4049.35 1479.24 4049.35 1472.13 Q4049.35 1465 4047.52 1461.46 Q4045.72 1457.9 4042.08 1457.9 M4042.08 1454.19 Q4047.89 1454.19 4050.95 1458.8 Q4054.03 1463.38 4054.03 1472.13 Q4054.03 1480.86 4050.95 1485.47 Q4047.89 1490.05 4042.08 1490.05 Q4036.27 1490.05 4033.2 1485.47 Q4030.14 1480.86 4030.14 1472.13 Q4030.14 1463.38 4033.2 1458.8 Q4036.27 1454.19 4042.08 1454.19 Z\" fill=\"#000000\" fill-rule=\"evenodd\" fill-opacity=\"1\" /><path clip-path=\"url(#clip8100)\" d=\"M 0 0 M137.527 1374.24 Q140.884 1374.96 142.758 1377.22 Q144.657 1379.49 144.657 1382.83 Q144.657 1387.94 141.138 1390.74 Q137.62 1393.54 131.138 1393.54 Q128.962 1393.54 126.647 1393.1 Q124.356 1392.69 121.902 1391.83 L121.902 1387.32 Q123.847 1388.45 126.161 1389.03 Q128.476 1389.61 130.999 1389.61 Q135.397 1389.61 137.689 1387.87 Q140.004 1386.14 140.004 1382.83 Q140.004 1379.77 137.851 1378.06 Q135.721 1376.32 131.902 1376.32 L127.874 1376.32 L127.874 1372.48 L132.087 1372.48 Q135.536 1372.48 137.365 1371.11 Q139.194 1369.72 139.194 1367.13 Q139.194 1364.47 137.296 1363.06 Q135.421 1361.62 131.902 1361.62 Q129.981 1361.62 127.782 1362.04 Q125.583 1362.46 122.944 1363.34 L122.944 1359.17 Q125.606 1358.43 127.921 1358.06 Q130.259 1357.69 132.319 1357.69 Q137.643 1357.69 140.745 1360.12 Q143.846 1362.53 143.846 1366.65 Q143.846 1369.52 142.203 1371.51 Q140.559 1373.47 137.527 1374.24 Z\" fill=\"#000000\" fill-rule=\"evenodd\" fill-opacity=\"1\" /><path clip-path=\"url(#clip8100)\" d=\"M 0 0 M159.726 1361.39 Q156.115 1361.39 154.286 1364.96 Q152.481 1368.5 152.481 1375.63 Q152.481 1382.73 154.286 1386.3 Q156.115 1389.84 159.726 1389.84 Q163.36 1389.84 165.166 1386.3 Q166.994 1382.73 166.994 1375.63 Q166.994 1368.5 165.166 1364.96 Q163.36 1361.39 159.726 1361.39 M159.726 1357.69 Q165.536 1357.69 168.592 1362.29 Q171.67 1366.88 171.67 1375.63 Q171.67 1384.35 168.592 1388.96 Q165.536 1393.54 159.726 1393.54 Q153.916 1393.54 150.837 1388.96 Q147.782 1384.35 147.782 1375.63 Q147.782 1366.88 150.837 1362.29 Q153.916 1357.69 159.726 1357.69 Z\" fill=\"#000000\" fill-rule=\"evenodd\" fill-opacity=\"1\" /><path clip-path=\"url(#clip8100)\" d=\"M 0 0 M135.073 1215.1 L123.268 1233.55 L135.073 1233.55 L135.073 1215.1 M133.847 1211.03 L139.726 1211.03 L139.726 1233.55 L144.657 1233.55 L144.657 1237.44 L139.726 1237.44 L139.726 1245.59 L135.073 1245.59 L135.073 1237.44 L119.472 1237.44 L119.472 1232.93 L133.847 1211.03 Z\" fill=\"#000000\" fill-rule=\"evenodd\" fill-opacity=\"1\" /><path clip-path=\"url(#clip8100)\" d=\"M 0 0 M159.726 1214.11 Q156.115 1214.11 154.286 1217.67 Q152.481 1221.21 152.481 1228.34 Q152.481 1235.45 154.286 1239.02 Q156.115 1242.56 159.726 1242.56 Q163.36 1242.56 165.166 1239.02 Q166.994 1235.45 166.994 1228.34 Q166.994 1221.21 165.166 1217.67 Q163.36 1214.11 159.726 1214.11 M159.726 1210.4 Q165.536 1210.4 168.592 1215.01 Q171.67 1219.59 171.67 1228.34 Q171.67 1237.07 168.592 1241.68 Q165.536 1246.26 159.726 1246.26 Q153.916 1246.26 150.837 1241.68 Q147.782 1237.07 147.782 1228.34 Q147.782 1219.59 150.837 1215.01 Q153.916 1210.4 159.726 1210.4 Z\" fill=\"#000000\" fill-rule=\"evenodd\" fill-opacity=\"1\" /><path clip-path=\"url(#clip8100)\" d=\"M 0 0 M123.754 1063.75 L142.11 1063.75 L142.11 1067.68 L128.036 1067.68 L128.036 1076.15 Q129.055 1075.81 130.073 1075.64 Q131.092 1075.46 132.11 1075.46 Q137.897 1075.46 141.277 1078.63 Q144.657 1081.8 144.657 1087.22 Q144.657 1092.8 141.184 1095.9 Q137.712 1098.98 131.393 1098.98 Q129.217 1098.98 126.948 1098.61 Q124.703 1098.24 122.296 1097.5 L122.296 1092.8 Q124.379 1093.93 126.601 1094.49 Q128.823 1095.04 131.3 1095.04 Q135.305 1095.04 137.643 1092.94 Q139.981 1090.83 139.981 1087.22 Q139.981 1083.61 137.643 1081.5 Q135.305 1079.39 131.3 1079.39 Q129.425 1079.39 127.55 1079.81 Q125.698 1080.23 123.754 1081.11 L123.754 1063.75 Z\" fill=\"#000000\" fill-rule=\"evenodd\" fill-opacity=\"1\" /><path clip-path=\"url(#clip8100)\" d=\"M 0 0 M159.726 1066.82 Q156.115 1066.82 154.286 1070.39 Q152.481 1073.93 152.481 1081.06 Q152.481 1088.17 154.286 1091.73 Q156.115 1095.27 159.726 1095.27 Q163.36 1095.27 165.166 1091.73 Q166.994 1088.17 166.994 1081.06 Q166.994 1073.93 165.166 1070.39 Q163.36 1066.82 159.726 1066.82 M159.726 1063.12 Q165.536 1063.12 168.592 1067.73 Q171.67 1072.31 171.67 1081.06 Q171.67 1089.79 168.592 1094.39 Q165.536 1098.98 159.726 1098.98 Q153.916 1098.98 150.837 1094.39 Q147.782 1089.79 147.782 1081.06 Q147.782 1072.31 150.837 1067.73 Q153.916 1063.12 159.726 1063.12 Z\" fill=\"#000000\" fill-rule=\"evenodd\" fill-opacity=\"1\" /><path clip-path=\"url(#clip8100)\" d=\"M 0 0 M133.129 931.88 Q129.981 931.88 128.129 934.033 Q126.3 936.185 126.3 939.935 Q126.3 943.662 128.129 945.838 Q129.981 947.991 133.129 947.991 Q136.277 947.991 138.106 945.838 Q139.958 943.662 139.958 939.935 Q139.958 936.185 138.106 934.033 Q136.277 931.88 133.129 931.88 M142.411 917.227 L142.411 921.486 Q140.652 920.653 138.846 920.213 Q137.064 919.773 135.305 919.773 Q130.675 919.773 128.222 922.898 Q125.791 926.023 125.444 932.343 Q126.81 930.329 128.87 929.264 Q130.93 928.176 133.407 928.176 Q138.615 928.176 141.624 931.347 Q144.657 934.496 144.657 939.935 Q144.657 945.259 141.509 948.477 Q138.36 951.695 133.129 951.695 Q127.134 951.695 123.962 947.111 Q120.791 942.505 120.791 933.778 Q120.791 925.584 124.68 920.722 Q128.569 915.838 135.12 915.838 Q136.879 915.838 138.661 916.185 Q140.467 916.533 142.411 917.227 Z\" fill=\"#000000\" fill-rule=\"evenodd\" fill-opacity=\"1\" /><path clip-path=\"url(#clip8100)\" d=\"M 0 0 M159.726 919.542 Q156.115 919.542 154.286 923.107 Q152.481 926.648 152.481 933.778 Q152.481 940.884 154.286 944.449 Q156.115 947.991 159.726 947.991 Q163.36 947.991 165.166 944.449 Q166.994 940.884 166.994 933.778 Q166.994 926.648 165.166 923.107 Q163.36 919.542 159.726 919.542 M159.726 915.838 Q165.536 915.838 168.592 920.445 Q171.67 925.028 171.67 933.778 Q171.67 942.505 168.592 947.111 Q165.536 951.695 159.726 951.695 Q153.916 951.695 150.837 947.111 Q147.782 942.505 147.782 933.778 Q147.782 925.028 150.837 920.445 Q153.916 915.838 159.726 915.838 Z\" fill=\"#000000\" fill-rule=\"evenodd\" fill-opacity=\"1\" /><path clip-path=\"url(#clip8100)\" d=\"M 0 0 M1846.4 812.096 L1854.58 812.096 L1854.58 872.576 L1846.4 872.576 L1846.4 812.096 Z\" fill=\"#000000\" fill-rule=\"evenodd\" fill-opacity=\"1\" /><path clip-path=\"url(#clip8100)\" d=\"M 0 0 M1898.98 814.081 L1898.98 822.061 Q1894.32 819.833 1890.19 818.739 Q1886.06 817.646 1882.21 817.646 Q1875.53 817.646 1871.88 820.238 Q1868.28 822.831 1868.28 827.611 Q1868.28 831.621 1870.67 833.687 Q1873.1 835.713 1879.82 836.969 L1884.76 837.981 Q1893.92 839.723 1898.25 844.139 Q1902.63 848.514 1902.63 855.886 Q1902.63 864.677 1896.71 869.214 Q1890.84 873.751 1879.46 873.751 Q1875.16 873.751 1870.3 872.779 Q1865.48 871.806 1860.3 869.902 L1860.3 861.477 Q1865.28 864.272 1870.06 865.689 Q1874.84 867.107 1879.46 867.107 Q1886.46 867.107 1890.27 864.353 Q1894.08 861.598 1894.08 856.494 Q1894.08 852.038 1891.33 849.526 Q1888.61 847.015 1882.37 845.759 L1877.39 844.787 Q1868.24 842.964 1864.14 839.075 Q1860.05 835.186 1860.05 828.259 Q1860.05 820.238 1865.68 815.62 Q1871.35 811.002 1881.28 811.002 Q1885.53 811.002 1889.95 811.772 Q1894.36 812.542 1898.98 814.081 Z\" fill=\"#000000\" fill-rule=\"evenodd\" fill-opacity=\"1\" /><path clip-path=\"url(#clip8100)\" d=\"M 0 0 M1910.77 812.096 L1922.96 812.096 L1938.4 853.253 L1953.91 812.096 L1966.1 812.096 L1966.1 872.576 L1958.12 872.576 L1958.12 819.469 L1942.53 860.95 L1934.31 860.95 L1918.71 819.469 L1918.71 872.576 L1910.77 872.576 L1910.77 812.096 Z\" fill=\"#000000\" fill-rule=\"evenodd\" fill-opacity=\"1\" /><path clip-path=\"url(#clip8100)\" d=\"M 0 0 M2000.62 812.096 L2012.81 812.096 L2028.25 853.253 L2043.76 812.096 L2055.95 812.096 L2055.95 872.576 L2047.97 872.576 L2047.97 819.469 L2032.38 860.95 L2024.15 860.95 L2008.56 819.469 L2008.56 872.576 L2000.62 872.576 L2000.62 812.096 Z\" fill=\"#000000\" fill-rule=\"evenodd\" fill-opacity=\"1\" /><path clip-path=\"url(#clip8100)\" d=\"M 0 0 M2084.39 849.769 Q2075.36 849.769 2071.87 851.835 Q2068.39 853.901 2068.39 858.884 Q2068.39 862.854 2070.98 865.203 Q2073.62 867.512 2078.11 867.512 Q2084.31 867.512 2088.04 863.137 Q2091.8 858.722 2091.8 851.43 L2091.8 849.769 L2084.39 849.769 M2099.26 846.691 L2099.26 872.576 L2091.8 872.576 L2091.8 865.689 Q2089.25 869.821 2085.44 871.806 Q2081.64 873.751 2076.13 873.751 Q2069.16 873.751 2065.03 869.862 Q2060.94 865.933 2060.94 859.37 Q2060.94 851.714 2066.04 847.825 Q2071.19 843.936 2081.35 843.936 L2091.8 843.936 L2091.8 843.207 Q2091.8 838.062 2088.4 835.267 Q2085.04 832.432 2078.92 832.432 Q2075.03 832.432 2071.35 833.363 Q2067.66 834.295 2064.26 836.158 L2064.26 829.272 Q2068.35 827.692 2072.2 826.922 Q2076.05 826.112 2079.69 826.112 Q2089.54 826.112 2094.4 831.216 Q2099.26 836.32 2099.26 846.691 Z\" fill=\"#000000\" fill-rule=\"evenodd\" fill-opacity=\"1\" /><path clip-path=\"url(#clip8100)\" d=\"M 0 0 M2144.79 845.192 L2144.79 872.576 L2137.34 872.576 L2137.34 845.435 Q2137.34 838.994 2134.83 835.794 Q2132.31 832.594 2127.29 832.594 Q2121.25 832.594 2117.77 836.442 Q2114.29 840.29 2114.29 846.934 L2114.29 872.576 L2106.79 872.576 L2106.79 827.206 L2114.29 827.206 L2114.29 834.254 Q2116.96 830.163 2120.57 828.138 Q2124.21 826.112 2128.95 826.112 Q2136.77 826.112 2140.78 830.973 Q2144.79 835.794 2144.79 845.192 Z\" fill=\"#000000\" fill-rule=\"evenodd\" fill-opacity=\"1\" /><path clip-path=\"url(#clip8100)\" d=\"M 0 0 M2151.84 854.671 L2151.84 827.206 L2159.29 827.206 L2159.29 854.387 Q2159.29 860.828 2161.8 864.069 Q2164.32 867.269 2169.34 867.269 Q2175.37 867.269 2178.86 863.421 Q2182.38 859.573 2182.38 852.929 L2182.38 827.206 L2189.84 827.206 L2189.84 872.576 L2182.38 872.576 L2182.38 865.608 Q2179.67 869.74 2176.06 871.766 Q2172.5 873.751 2167.76 873.751 Q2159.94 873.751 2155.89 868.89 Q2151.84 864.029 2151.84 854.671 M2170.59 826.112 L2170.59 826.112 Z\" fill=\"#000000\" fill-rule=\"evenodd\" fill-opacity=\"1\" /><path clip-path=\"url(#clip8100)\" d=\"M 0 0 M2220.62 809.544 L2220.62 815.742 L2213.49 815.742 Q2209.48 815.742 2207.9 817.362 Q2206.36 818.983 2206.36 823.195 L2206.36 827.206 L2218.64 827.206 L2218.64 832.999 L2206.36 832.999 L2206.36 872.576 L2198.87 872.576 L2198.87 832.999 L2191.74 832.999 L2191.74 827.206 L2198.87 827.206 L2198.87 824.046 Q2198.87 816.471 2202.39 813.028 Q2205.92 809.544 2213.57 809.544 L2220.62 809.544 Z\" fill=\"#000000\" fill-rule=\"evenodd\" fill-opacity=\"1\" /><path clip-path=\"url(#clip8100)\" d=\"M 0 0 M2249.06 849.769 Q2240.03 849.769 2236.54 851.835 Q2233.06 853.901 2233.06 858.884 Q2233.06 862.854 2235.65 865.203 Q2238.29 867.512 2242.78 867.512 Q2248.98 867.512 2252.71 863.137 Q2256.47 858.722 2256.47 851.43 L2256.47 849.769 L2249.06 849.769 M2263.93 846.691 L2263.93 872.576 L2256.47 872.576 L2256.47 865.689 Q2253.92 869.821 2250.11 871.806 Q2246.31 873.751 2240.8 873.751 Q2233.83 873.751 2229.7 869.862 Q2225.61 865.933 2225.61 859.37 Q2225.61 851.714 2230.71 847.825 Q2235.85 843.936 2246.02 843.936 L2256.47 843.936 L2256.47 843.207 Q2256.47 838.062 2253.07 835.267 Q2249.71 832.432 2243.59 832.432 Q2239.7 832.432 2236.02 833.363 Q2232.33 834.295 2228.93 836.158 L2228.93 829.272 Q2233.02 827.692 2236.87 826.922 Q2240.72 826.112 2244.36 826.112 Q2254.21 826.112 2259.07 831.216 Q2263.93 836.32 2263.93 846.691 Z\" fill=\"#000000\" fill-rule=\"evenodd\" fill-opacity=\"1\" /><path clip-path=\"url(#clip8100)\" d=\"M 0 0 M2304.4 828.948 L2304.4 835.915 Q2301.24 834.173 2298.04 833.323 Q2294.88 832.432 2291.64 832.432 Q2284.38 832.432 2280.37 837.05 Q2276.36 841.627 2276.36 849.931 Q2276.36 858.236 2280.37 862.854 Q2284.38 867.431 2291.64 867.431 Q2294.88 867.431 2298.04 866.581 Q2301.24 865.689 2304.4 863.948 L2304.4 870.834 Q2301.28 872.292 2297.91 873.022 Q2294.59 873.751 2290.83 873.751 Q2280.58 873.751 2274.54 867.31 Q2268.5 860.869 2268.5 849.931 Q2268.5 838.832 2274.58 832.472 Q2280.7 826.112 2291.31 826.112 Q2294.75 826.112 2298.04 826.841 Q2301.32 827.53 2304.4 828.948 Z\" fill=\"#000000\" fill-rule=\"evenodd\" fill-opacity=\"1\" /><path clip-path=\"url(#clip8100)\" d=\"M 0 0 M2319.59 814.324 L2319.59 827.206 L2334.94 827.206 L2334.94 832.999 L2319.59 832.999 L2319.59 857.628 Q2319.59 863.178 2321.09 864.758 Q2322.63 866.338 2327.28 866.338 L2334.94 866.338 L2334.94 872.576 L2327.28 872.576 Q2318.66 872.576 2315.37 869.376 Q2312.09 866.135 2312.09 857.628 L2312.09 832.999 L2306.62 832.999 L2306.62 827.206 L2312.09 827.206 L2312.09 814.324 L2319.59 814.324 Z\" fill=\"#000000\" fill-rule=\"evenodd\" fill-opacity=\"1\" /><path clip-path=\"url(#clip8100)\" d=\"M 0 0 M2341.99 854.671 L2341.99 827.206 L2349.44 827.206 L2349.44 854.387 Q2349.44 860.828 2351.95 864.069 Q2354.47 867.269 2359.49 867.269 Q2365.52 867.269 2369.01 863.421 Q2372.53 859.573 2372.53 852.929 L2372.53 827.206 L2379.99 827.206 L2379.99 872.576 L2372.53 872.576 L2372.53 865.608 Q2369.82 869.74 2366.21 871.766 Q2362.65 873.751 2357.91 873.751 Q2350.09 873.751 2346.04 868.89 Q2341.99 864.029 2341.99 854.671 M2360.74 826.112 L2360.74 826.112 Z\" fill=\"#000000\" fill-rule=\"evenodd\" fill-opacity=\"1\" /><path clip-path=\"url(#clip8100)\" d=\"M 0 0 M2414.09 834.173 Q2412.84 833.444 2411.34 833.12 Q2409.88 832.756 2408.1 832.756 Q2401.78 832.756 2398.38 836.888 Q2395.01 840.979 2395.01 848.676 L2395.01 872.576 L2387.52 872.576 L2387.52 827.206 L2395.01 827.206 L2395.01 834.254 Q2397.36 830.123 2401.13 828.138 Q2404.9 826.112 2410.29 826.112 Q2411.06 826.112 2411.99 826.234 Q2412.92 826.315 2414.05 826.517 L2414.09 834.173 Z\" fill=\"#000000\" fill-rule=\"evenodd\" fill-opacity=\"1\" /><path clip-path=\"url(#clip8100)\" d=\"M 0 0 M2421.91 827.206 L2429.37 827.206 L2429.37 872.576 L2421.91 872.576 L2421.91 827.206 M2421.91 809.544 L2429.37 809.544 L2429.37 818.983 L2421.91 818.983 L2421.91 809.544 Z\" fill=\"#000000\" fill-rule=\"evenodd\" fill-opacity=\"1\" /><path clip-path=\"url(#clip8100)\" d=\"M 0 0 M2474.9 845.192 L2474.9 872.576 L2467.44 872.576 L2467.44 845.435 Q2467.44 838.994 2464.93 835.794 Q2462.42 832.594 2457.4 832.594 Q2451.36 832.594 2447.88 836.442 Q2444.4 840.29 2444.4 846.934 L2444.4 872.576 L2436.9 872.576 L2436.9 827.206 L2444.4 827.206 L2444.4 834.254 Q2447.07 830.163 2450.67 828.138 Q2454.32 826.112 2459.06 826.112 Q2466.88 826.112 2470.89 830.973 Q2474.9 835.794 2474.9 845.192 Z\" fill=\"#000000\" fill-rule=\"evenodd\" fill-opacity=\"1\" /><path clip-path=\"url(#clip8100)\" d=\"M 0 0 M2512.57 849.364 Q2512.57 841.263 2509.21 836.807 Q2505.89 832.351 2499.85 832.351 Q2493.86 832.351 2490.49 836.807 Q2487.17 841.263 2487.17 849.364 Q2487.17 857.426 2490.49 861.882 Q2493.86 866.338 2499.85 866.338 Q2505.89 866.338 2509.21 861.882 Q2512.57 857.426 2512.57 849.364 M2520.03 866.945 Q2520.03 878.531 2514.88 884.162 Q2509.74 889.833 2499.12 889.833 Q2495.19 889.833 2491.71 889.225 Q2488.23 888.658 2484.94 887.443 L2484.94 880.192 Q2488.23 881.974 2491.43 882.825 Q2494.63 883.675 2497.95 883.675 Q2505.28 883.675 2508.93 879.827 Q2512.57 876.019 2512.57 868.282 L2512.57 864.596 Q2510.26 868.606 2506.66 870.591 Q2503.05 872.576 2498.03 872.576 Q2489.68 872.576 2484.58 866.216 Q2479.48 859.856 2479.48 849.364 Q2479.48 838.832 2484.58 832.472 Q2489.68 826.112 2498.03 826.112 Q2503.05 826.112 2506.66 828.097 Q2510.26 830.082 2512.57 834.092 L2512.57 827.206 L2520.03 827.206 L2520.03 866.945 Z\" fill=\"#000000\" fill-rule=\"evenodd\" fill-opacity=\"1\" /><path clip-path=\"url(#clip8100)\" d=\"M 0 0 M2128.98 1532 L2128.98 1542.12 L2141.04 1542.12 L2141.04 1546.67 L2128.98 1546.67 L2128.98 1566.02 Q2128.98 1570.39 2130.15 1571.63 Q2131.36 1572.87 2135.02 1572.87 L2141.04 1572.87 L2141.04 1577.77 L2135.02 1577.77 Q2128.25 1577.77 2125.67 1575.26 Q2123.09 1572.71 2123.09 1566.02 L2123.09 1546.67 L2118.79 1546.67 L2118.79 1542.12 L2123.09 1542.12 L2123.09 1532 L2128.98 1532 Z\" fill=\"#000000\" fill-rule=\"evenodd\" fill-opacity=\"1\" /><path clip-path=\"url(#clip8100)\" d=\"M 0 0 M2147.18 1542.12 L2153.04 1542.12 L2153.04 1577.77 L2147.18 1577.77 L2147.18 1542.12 M2147.18 1528.24 L2153.04 1528.24 L2153.04 1535.66 L2147.18 1535.66 L2147.18 1528.24 Z\" fill=\"#000000\" fill-rule=\"evenodd\" fill-opacity=\"1\" /><path clip-path=\"url(#clip8100)\" d=\"M 0 0 M2186.94 1548.96 Q2189.13 1545.02 2192.19 1543.14 Q2195.24 1541.26 2199.38 1541.26 Q2204.95 1541.26 2207.98 1545.18 Q2211 1549.06 2211 1556.25 L2211 1577.77 L2205.11 1577.77 L2205.11 1556.44 Q2205.11 1551.32 2203.3 1548.84 Q2201.48 1546.35 2197.76 1546.35 Q2193.21 1546.35 2190.57 1549.38 Q2187.92 1552.4 2187.92 1557.62 L2187.92 1577.77 L2182.04 1577.77 L2182.04 1556.44 Q2182.04 1551.29 2180.22 1548.84 Q2178.41 1546.35 2174.62 1546.35 Q2170.13 1546.35 2167.49 1549.41 Q2164.85 1552.43 2164.85 1557.62 L2164.85 1577.77 L2158.96 1577.77 L2158.96 1542.12 L2164.85 1542.12 L2164.85 1547.66 Q2166.85 1544.38 2169.65 1542.82 Q2172.46 1541.26 2176.31 1541.26 Q2180.19 1541.26 2182.89 1543.24 Q2185.63 1545.21 2186.94 1548.96 Z\" fill=\"#000000\" fill-rule=\"evenodd\" fill-opacity=\"1\" /><path clip-path=\"url(#clip8100)\" d=\"M 0 0 M2247.63 1558.48 L2247.63 1561.35 L2220.71 1561.35 Q2221.09 1567.39 2224.34 1570.58 Q2227.61 1573.73 2233.44 1573.73 Q2236.81 1573.73 2239.96 1572.9 Q2243.15 1572.07 2246.27 1570.42 L2246.27 1575.96 Q2243.11 1577.29 2239.8 1577.99 Q2236.49 1578.69 2233.09 1578.69 Q2224.56 1578.69 2219.56 1573.73 Q2214.6 1568.76 2214.6 1560.3 Q2214.6 1551.54 2219.31 1546.42 Q2224.05 1541.26 2232.07 1541.26 Q2239.26 1541.26 2243.43 1545.91 Q2247.63 1550.52 2247.63 1558.48 M2241.78 1556.76 Q2241.71 1551.96 2239.07 1549.09 Q2236.46 1546.23 2232.13 1546.23 Q2227.23 1546.23 2224.27 1549 Q2221.34 1551.77 2220.9 1556.79 L2241.78 1556.76 Z\" fill=\"#000000\" fill-rule=\"evenodd\" fill-opacity=\"1\" /><path clip-path=\"url(#clip8100)\" d=\"M 0 0 M27.5676 1307.27 L27.5676 1301.41 L63.2156 1301.41 L63.2156 1307.27 L27.5676 1307.27 M13.6904 1307.27 L13.6904 1301.41 L21.1064 1301.41 L21.1064 1307.27 L13.6904 1307.27 Z\" fill=\"#000000\" fill-rule=\"evenodd\" fill-opacity=\"1\" /><path clip-path=\"url(#clip8100)\" d=\"M 0 0 M41.6995 1265.64 L63.2156 1265.64 L63.2156 1271.49 L41.8905 1271.49 Q36.8297 1271.49 34.3153 1273.47 Q31.8008 1275.44 31.8008 1279.39 Q31.8008 1284.13 34.8245 1286.87 Q37.8482 1289.61 43.0681 1289.61 L63.2156 1289.61 L63.2156 1295.49 L27.5676 1295.49 L27.5676 1289.61 L33.1058 1289.61 Q29.8911 1287.5 28.2997 1284.67 Q26.7083 1281.81 26.7083 1278.08 Q26.7083 1271.94 30.5277 1268.79 Q34.3153 1265.64 41.6995 1265.64 Z\" fill=\"#000000\" fill-rule=\"evenodd\" fill-opacity=\"1\" /><path clip-path=\"url(#clip8100)\" d=\"M 0 0 M32.9785 1236.04 L13.6904 1236.04 L13.6904 1230.18 L63.2156 1230.18 L63.2156 1236.04 L57.8684 1236.04 Q61.0512 1237.88 62.6108 1240.72 Q64.1386 1243.52 64.1386 1247.46 Q64.1386 1253.93 58.9824 1258 Q53.8262 1262.04 45.4234 1262.04 Q37.0207 1262.04 31.8645 1258 Q26.7083 1253.93 26.7083 1247.46 Q26.7083 1243.52 28.2679 1240.72 Q29.7956 1237.88 32.9785 1236.04 M45.4234 1255.99 Q51.8846 1255.99 55.5767 1253.35 Q59.237 1250.68 59.237 1246.03 Q59.237 1241.38 55.5767 1238.71 Q51.8846 1236.04 45.4234 1236.04 Q38.9622 1236.04 35.302 1238.71 Q31.6099 1241.38 31.6099 1246.03 Q31.6099 1250.68 35.302 1253.35 Q38.9622 1255.99 45.4234 1255.99 Z\" fill=\"#000000\" fill-rule=\"evenodd\" fill-opacity=\"1\" /><path clip-path=\"url(#clip8100)\" d=\"M 0 0 M27.5676 1224.04 L27.5676 1218.18 L63.2156 1218.18 L63.2156 1224.04 L27.5676 1224.04 M13.6904 1224.04 L13.6904 1218.18 L21.1064 1218.18 L21.1064 1224.04 L13.6904 1224.04 Z\" fill=\"#000000\" fill-rule=\"evenodd\" fill-opacity=\"1\" /><path clip-path=\"url(#clip8100)\" d=\"M 0 0 M28.9363 1186.39 L34.4108 1186.39 Q33.0421 1188.87 32.3737 1191.38 Q31.6735 1193.86 31.6735 1196.41 Q31.6735 1202.11 35.302 1205.26 Q38.8986 1208.41 45.4234 1208.41 Q51.9483 1208.41 55.5767 1205.26 Q59.1734 1202.11 59.1734 1196.41 Q59.1734 1193.86 58.505 1191.38 Q57.8047 1188.87 56.4361 1186.39 L61.847 1186.39 Q62.9928 1188.84 63.5657 1191.48 Q64.1386 1194.09 64.1386 1197.05 Q64.1386 1205.1 59.0779 1209.84 Q54.0171 1214.59 45.4234 1214.59 Q36.7024 1214.59 31.7053 1209.81 Q26.7083 1205 26.7083 1196.67 Q26.7083 1193.96 27.2812 1191.38 Q27.8223 1188.8 28.9363 1186.39 Z\" fill=\"#000000\" fill-rule=\"evenodd\" fill-opacity=\"1\" /><path clip-path=\"url(#clip8100)\" d=\"M 0 0 M45.2961 1164.04 Q45.2961 1171.14 46.9194 1173.88 Q48.5426 1176.61 52.4575 1176.61 Q55.5767 1176.61 57.4228 1174.58 Q59.237 1172.51 59.237 1168.98 Q59.237 1164.11 55.7995 1161.18 Q52.3302 1158.22 46.6011 1158.22 L45.2961 1158.22 L45.2961 1164.04 M42.8772 1152.36 L63.2156 1152.36 L63.2156 1158.22 L57.8047 1158.22 Q61.0512 1160.22 62.6108 1163.21 Q64.1386 1166.21 64.1386 1170.53 Q64.1386 1176.01 61.0831 1179.26 Q57.9957 1182.47 52.8395 1182.47 Q46.8239 1182.47 43.7684 1178.46 Q40.7128 1174.42 40.7128 1166.43 L40.7128 1158.22 L40.1399 1158.22 Q36.0977 1158.22 33.9015 1160.89 Q31.6735 1163.53 31.6735 1168.34 Q31.6735 1171.39 32.4056 1174.29 Q33.1376 1177.19 34.6017 1179.86 L29.1909 1179.86 Q27.9496 1176.65 27.3448 1173.62 Q26.7083 1170.6 26.7083 1167.73 Q26.7083 1160 30.7187 1156.18 Q34.729 1152.36 42.8772 1152.36 Z\" fill=\"#000000\" fill-rule=\"evenodd\" fill-opacity=\"1\" /><path clip-path=\"url(#clip8100)\" d=\"M 0 0 M17.4462 1140.42 L27.5676 1140.42 L27.5676 1128.36 L32.1191 1128.36 L32.1191 1140.42 L51.4709 1140.42 Q55.8314 1140.42 57.0727 1139.25 Q58.314 1138.04 58.314 1134.38 L58.314 1128.36 L63.2156 1128.36 L63.2156 1134.38 Q63.2156 1141.16 60.7011 1143.74 Q58.1548 1146.31 51.4709 1146.31 L32.1191 1146.31 L32.1191 1150.61 L27.5676 1150.61 L27.5676 1146.31 L17.4462 1146.31 L17.4462 1140.42 Z\" fill=\"#000000\" fill-rule=\"evenodd\" fill-opacity=\"1\" /><path clip-path=\"url(#clip8100)\" d=\"M 0 0 M31.6735 1108.41 Q31.6735 1113.12 35.3656 1115.85 Q39.0259 1118.59 45.4234 1118.59 Q51.821 1118.59 55.5131 1115.89 Q59.1734 1113.15 59.1734 1108.41 Q59.1734 1103.73 55.4813 1100.99 Q51.7891 1098.25 45.4234 1098.25 Q39.0896 1098.25 35.3974 1100.99 Q31.6735 1103.73 31.6735 1108.41 M26.7083 1108.41 Q26.7083 1100.77 31.6735 1096.41 Q36.6388 1092.05 45.4234 1092.05 Q54.1763 1092.05 59.1734 1096.41 Q64.1386 1100.77 64.1386 1108.41 Q64.1386 1116.08 59.1734 1120.44 Q54.1763 1124.77 45.4234 1124.77 Q36.6388 1124.77 31.6735 1120.44 Q26.7083 1116.08 26.7083 1108.41 Z\" fill=\"#000000\" fill-rule=\"evenodd\" fill-opacity=\"1\" /><path clip-path=\"url(#clip8100)\" d=\"M 0 0 M33.0421 1065.25 Q32.4692 1066.23 32.2146 1067.41 Q31.9281 1068.56 31.9281 1069.96 Q31.9281 1074.92 35.1746 1077.6 Q38.3893 1080.24 44.4368 1080.24 L63.2156 1080.24 L63.2156 1086.13 L27.5676 1086.13 L27.5676 1080.24 L33.1058 1080.24 Q29.8593 1078.39 28.2997 1075.43 Q26.7083 1072.47 26.7083 1068.24 Q26.7083 1067.63 26.8037 1066.9 Q26.8674 1066.17 27.0265 1065.28 L33.0421 1065.25 Z\" fill=\"#000000\" fill-rule=\"evenodd\" fill-opacity=\"1\" /><path clip-path=\"url(#clip8100)\" d=\"M 0 0 M28.618 1036.38 L34.1561 1036.38 Q32.883 1038.86 32.2464 1041.53 Q31.6099 1044.21 31.6099 1047.07 Q31.6099 1051.43 32.9467 1053.63 Q34.2834 1055.79 36.957 1055.79 Q38.9941 1055.79 40.1717 1054.23 Q41.3176 1052.67 42.3679 1047.96 L42.8135 1045.96 Q44.1503 1039.72 46.6011 1037.11 Q49.0201 1034.47 53.3806 1034.47 Q58.3458 1034.47 61.2422 1038.41 Q64.1386 1042.33 64.1386 1049.2 Q64.1386 1052.07 63.5657 1055.19 Q63.0246 1058.28 61.9106 1061.71 L55.8632 1061.71 Q57.5501 1058.47 58.4095 1055.32 Q59.237 1052.16 59.237 1049.08 Q59.237 1044.94 57.8366 1042.71 Q56.4043 1040.48 53.8262 1040.48 Q51.439 1040.48 50.1659 1042.11 Q48.8927 1043.7 47.7151 1049.14 L47.2377 1051.18 Q46.0918 1056.62 43.7365 1059.04 Q41.3494 1061.46 37.2117 1061.46 Q32.1828 1061.46 29.4455 1057.89 Q26.7083 1054.33 26.7083 1047.77 Q26.7083 1044.53 27.1857 1041.66 Q27.6631 1038.8 28.618 1036.38 Z\" fill=\"#000000\" fill-rule=\"evenodd\" fill-opacity=\"1\" /><polyline clip-path=\"url(#clip8103)\" style=\"stroke:#009af9; stroke-width:4; stroke-opacity:1; fill:none\" points=\"\n",
       "  1984,1109.01 2018.43,1141.41 \n",
       "  \"/>\n",
       "<polyline clip-path=\"url(#clip8103)\" style=\"stroke:#009af9; stroke-width:4; stroke-opacity:1; fill:none\" points=\"\n",
       "  2392.26,1047.15 2432.84,1035.37 \n",
       "  \"/>\n",
       "<polyline clip-path=\"url(#clip8103)\" style=\"stroke:#009af9; stroke-width:4; stroke-opacity:1; fill:none\" points=\"\n",
       "  2468.5,991.184 2502.93,1019.17 \n",
       "  \"/>\n",
       "<polyline clip-path=\"url(#clip8103)\" style=\"stroke:#009af9; stroke-width:4; stroke-opacity:1; fill:none\" points=\"\n",
       "  2917.34,1019.17 2951.77,938.162 \n",
       "  \"/>\n",
       "<polyline clip-path=\"url(#clip8103)\" style=\"stroke:#009af9; stroke-width:4; stroke-opacity:1; fill:none\" points=\"\n",
       "  3181.72,955.836 3214.92,951.417 \n",
       "  \"/>\n",
       "<polyline clip-path=\"url(#clip8103)\" style=\"stroke:#009af9; stroke-width:4; stroke-opacity:1; fill:none\" points=\"\n",
       "  3366.17,1000.02 3400.6,1047.15 \n",
       "  \"/>\n",
       "<polyline clip-path=\"url(#clip8103)\" style=\"stroke:#009af9; stroke-width:4; stroke-opacity:1; fill:none\" points=\"\n",
       "  3629.33,1119.32 3663.76,1135.52 \n",
       "  \"/>\n",
       "<polyline clip-path=\"url(#clip8103)\" style=\"stroke:#009af9; stroke-width:4; stroke-opacity:1; fill:none\" points=\"\n",
       "  3817.47,1131.1 3851.9,1126.68 \n",
       "  \"/>\n",
       "<polyline clip-path=\"url(#clip8103)\" style=\"stroke:#009af9; stroke-width:4; stroke-opacity:1; fill:none\" points=\"\n",
       "  3963.8,1344.66 4000.69,1197.38 4041.27,1164.98 \n",
       "  \"/>\n",
       "<path clip-path=\"url(#clip8100)\" d=\"\n",
       "M1656.39 1174.91 L2366.69 1174.91 L2366.69 1053.95 L1656.39 1053.95  Z\n",
       "  \" fill=\"#ffffff\" fill-rule=\"evenodd\" fill-opacity=\"1\"/>\n",
       "<polyline clip-path=\"url(#clip8100)\" style=\"stroke:#000000; stroke-width:4; stroke-opacity:1; fill:none\" points=\"\n",
       "  1656.39,1174.91 2366.69,1174.91 2366.69,1053.95 1656.39,1053.95 1656.39,1174.91 \n",
       "  \"/>\n",
       "<polyline clip-path=\"url(#clip8100)\" style=\"stroke:#009af9; stroke-width:4; stroke-opacity:1; fill:none\" points=\"\n",
       "  1698.39,1114.43 1950.39,1114.43 \n",
       "  \"/>\n",
       "<path clip-path=\"url(#clip8100)\" d=\"M 0 0 M1992.39 1097.15 L1997.07 1097.15 L1997.07 1131.71 L1992.39 1131.71 L1992.39 1097.15 Z\" fill=\"#000000\" fill-rule=\"evenodd\" fill-opacity=\"1\" /><path clip-path=\"url(#clip8100)\" d=\"M 0 0 M2022.44 1098.28 L2022.44 1102.84 Q2019.78 1101.57 2017.42 1100.94 Q2015.05 1100.32 2012.86 1100.32 Q2009.04 1100.32 2006.95 1101.8 Q2004.89 1103.28 2004.89 1106.01 Q2004.89 1108.3 2006.26 1109.48 Q2007.65 1110.64 2011.49 1111.36 L2014.31 1111.94 Q2019.55 1112.93 2022.02 1115.46 Q2024.52 1117.96 2024.52 1122.17 Q2024.52 1127.19 2021.14 1129.78 Q2017.79 1132.38 2011.28 1132.38 Q2008.83 1132.38 2006.05 1131.82 Q2003.3 1131.27 2000.33 1130.18 L2000.33 1125.36 Q2003.18 1126.96 2005.91 1127.77 Q2008.64 1128.58 2011.28 1128.58 Q2015.29 1128.58 2017.46 1127.01 Q2019.64 1125.43 2019.64 1122.52 Q2019.64 1119.97 2018.06 1118.53 Q2016.51 1117.1 2012.95 1116.38 L2010.1 1115.83 Q2004.87 1114.78 2002.53 1112.56 Q2000.19 1110.34 2000.19 1106.38 Q2000.19 1101.8 2003.41 1099.16 Q2006.65 1096.52 2012.32 1096.52 Q2014.75 1096.52 2017.28 1096.96 Q2019.8 1097.4 2022.44 1098.28 Z\" fill=\"#000000\" fill-rule=\"evenodd\" fill-opacity=\"1\" /><path clip-path=\"url(#clip8100)\" d=\"M 0 0 M2029.18 1097.15 L2036.14 1097.15 L2044.96 1120.66 L2053.83 1097.15 L2060.8 1097.15 L2060.8 1131.71 L2056.24 1131.71 L2056.24 1101.36 L2047.32 1125.06 L2042.62 1125.06 L2033.71 1101.36 L2033.71 1131.71 L2029.18 1131.71 L2029.18 1097.15 Z\" fill=\"#000000\" fill-rule=\"evenodd\" fill-opacity=\"1\" /><path clip-path=\"url(#clip8100)\" d=\"M 0 0 M2084.96 1139.58 L2084.96 1142.89 L2060.33 1142.89 L2060.33 1139.58 L2084.96 1139.58 Z\" fill=\"#000000\" fill-rule=\"evenodd\" fill-opacity=\"1\" /><path clip-path=\"url(#clip8100)\" d=\"M 0 0 M2089.61 1097.15 L2096.58 1097.15 L2105.4 1120.66 L2114.27 1097.15 L2121.23 1097.15 L2121.23 1131.71 L2116.67 1131.71 L2116.67 1101.36 L2107.76 1125.06 L2103.06 1125.06 L2094.15 1101.36 L2094.15 1131.71 L2089.61 1131.71 L2089.61 1097.15 Z\" fill=\"#000000\" fill-rule=\"evenodd\" fill-opacity=\"1\" /><path clip-path=\"url(#clip8100)\" d=\"M 0 0 M2138.83 1095.69 L2138.83 1099.23 L2134.75 1099.23 Q2132.46 1099.23 2131.56 1100.15 Q2130.68 1101.08 2130.68 1103.49 L2130.68 1105.78 L2137.69 1105.78 L2137.69 1109.09 L2130.68 1109.09 L2130.68 1131.71 L2126.4 1131.71 L2126.4 1109.09 L2122.32 1109.09 L2122.32 1105.78 L2126.4 1105.78 L2126.4 1103.97 Q2126.4 1099.65 2128.41 1097.68 Q2130.42 1095.69 2134.8 1095.69 L2138.83 1095.69 Z\" fill=\"#000000\" fill-rule=\"evenodd\" fill-opacity=\"1\" /><path clip-path=\"url(#clip8100)\" d=\"M 0 0 M2161.95 1106.78 L2161.95 1110.76 Q2160.15 1109.76 2158.32 1109.28 Q2156.51 1108.77 2154.66 1108.77 Q2150.52 1108.77 2148.23 1111.4 Q2145.93 1114.02 2145.93 1118.77 Q2145.93 1123.51 2148.23 1126.15 Q2150.52 1128.77 2154.66 1128.77 Q2156.51 1128.77 2158.32 1128.28 Q2160.15 1127.77 2161.95 1126.78 L2161.95 1130.71 Q2160.17 1131.54 2158.25 1131.96 Q2156.35 1132.38 2154.2 1132.38 Q2148.34 1132.38 2144.89 1128.7 Q2141.44 1125.02 2141.44 1118.77 Q2141.44 1112.42 2144.92 1108.79 Q2148.41 1105.15 2154.48 1105.15 Q2156.44 1105.15 2158.32 1105.57 Q2160.19 1105.96 2161.95 1106.78 Z\" fill=\"#000000\" fill-rule=\"evenodd\" fill-opacity=\"1\" /><path clip-path=\"url(#clip8100)\" d=\"M 0 0 M2186.12 1139.58 L2186.12 1142.89 L2161.49 1142.89 L2161.49 1139.58 L2186.12 1139.58 Z\" fill=\"#000000\" fill-rule=\"evenodd\" fill-opacity=\"1\" /><path clip-path=\"url(#clip8100)\" d=\"M 0 0 M2190.77 1097.15 L2212.62 1097.15 L2212.62 1101.08 L2195.45 1101.08 L2195.45 1111.31 L2211.91 1111.31 L2211.91 1115.25 L2195.45 1115.25 L2195.45 1127.77 L2213.04 1127.77 L2213.04 1131.71 L2190.77 1131.71 L2190.77 1097.15 Z\" fill=\"#000000\" fill-rule=\"evenodd\" fill-opacity=\"1\" /><path clip-path=\"url(#clip8100)\" d=\"M 0 0 M2237.69 1110.76 Q2239.29 1107.89 2241.51 1106.52 Q2243.73 1105.15 2246.74 1105.15 Q2250.79 1105.15 2252.99 1108 Q2255.19 1110.83 2255.19 1116.06 L2255.19 1131.71 L2250.91 1131.71 L2250.91 1116.2 Q2250.91 1112.47 2249.59 1110.66 Q2248.27 1108.86 2245.56 1108.86 Q2242.25 1108.86 2240.33 1111.06 Q2238.41 1113.26 2238.41 1117.05 L2238.41 1131.71 L2234.13 1131.71 L2234.13 1116.2 Q2234.13 1112.45 2232.81 1110.66 Q2231.49 1108.86 2228.73 1108.86 Q2225.47 1108.86 2223.55 1111.08 Q2221.63 1113.28 2221.63 1117.05 L2221.63 1131.71 L2217.35 1131.71 L2217.35 1105.78 L2221.63 1105.78 L2221.63 1109.81 Q2223.09 1107.42 2225.12 1106.29 Q2227.16 1105.15 2229.96 1105.15 Q2232.79 1105.15 2234.75 1106.59 Q2236.74 1108.03 2237.69 1110.76 Z\" fill=\"#000000\" fill-rule=\"evenodd\" fill-opacity=\"1\" /><path clip-path=\"url(#clip8100)\" d=\"M 0 0 M2263.78 1127.82 L2263.78 1141.57 L2259.5 1141.57 L2259.5 1105.78 L2263.78 1105.78 L2263.78 1109.71 Q2265.12 1107.4 2267.16 1106.29 Q2269.22 1105.15 2272.07 1105.15 Q2276.79 1105.15 2279.73 1108.9 Q2282.69 1112.65 2282.69 1118.77 Q2282.69 1124.88 2279.73 1128.63 Q2276.79 1132.38 2272.07 1132.38 Q2269.22 1132.38 2267.16 1131.27 Q2265.12 1130.13 2263.78 1127.82 M2278.27 1118.77 Q2278.27 1114.07 2276.33 1111.4 Q2274.41 1108.72 2271.03 1108.72 Q2267.65 1108.72 2265.7 1111.4 Q2263.78 1114.07 2263.78 1118.77 Q2263.78 1123.46 2265.7 1126.15 Q2267.65 1128.81 2271.03 1128.81 Q2274.41 1128.81 2276.33 1126.15 Q2278.27 1123.46 2278.27 1118.77 Z\" fill=\"#000000\" fill-rule=\"evenodd\" fill-opacity=\"1\" /><path clip-path=\"url(#clip8100)\" d=\"\n",
       "M213.67 2226.91 L4152.76 2226.91 L4152.76 1714.83 L213.67 1714.83  Z\n",
       "  \" fill=\"#ffffff\" fill-rule=\"evenodd\" fill-opacity=\"1\"/>\n",
       "<defs>\n",
       "  <clipPath id=\"clip8104\">\n",
       "    <rect x=\"213\" y=\"1714\" width=\"3940\" height=\"513\"/>\n",
       "  </clipPath>\n",
       "</defs>\n",
       "<polyline clip-path=\"url(#clip8104)\" style=\"stroke:#000000; stroke-width:2; stroke-opacity:0.1; fill:none\" points=\"\n",
       "  298.101,2226.91 298.101,1714.83 \n",
       "  \"/>\n",
       "<polyline clip-path=\"url(#clip8104)\" style=\"stroke:#000000; stroke-width:2; stroke-opacity:0.1; fill:none\" points=\"\n",
       "  1527.79,2226.91 1527.79,1714.83 \n",
       "  \"/>\n",
       "<polyline clip-path=\"url(#clip8104)\" style=\"stroke:#000000; stroke-width:2; stroke-opacity:0.1; fill:none\" points=\"\n",
       "  2757.48,2226.91 2757.48,1714.83 \n",
       "  \"/>\n",
       "<polyline clip-path=\"url(#clip8104)\" style=\"stroke:#000000; stroke-width:2; stroke-opacity:0.1; fill:none\" points=\"\n",
       "  3987.17,2226.91 3987.17,1714.83 \n",
       "  \"/>\n",
       "<polyline clip-path=\"url(#clip8104)\" style=\"stroke:#000000; stroke-width:2; stroke-opacity:0.1; fill:none\" points=\"\n",
       "  213.67,2175.59 4152.76,2175.59 \n",
       "  \"/>\n",
       "<polyline clip-path=\"url(#clip8104)\" style=\"stroke:#000000; stroke-width:2; stroke-opacity:0.1; fill:none\" points=\"\n",
       "  213.67,2028.31 4152.76,2028.31 \n",
       "  \"/>\n",
       "<polyline clip-path=\"url(#clip8104)\" style=\"stroke:#000000; stroke-width:2; stroke-opacity:0.1; fill:none\" points=\"\n",
       "  213.67,1881.03 4152.76,1881.03 \n",
       "  \"/>\n",
       "<polyline clip-path=\"url(#clip8104)\" style=\"stroke:#000000; stroke-width:2; stroke-opacity:0.1; fill:none\" points=\"\n",
       "  213.67,1733.74 4152.76,1733.74 \n",
       "  \"/>\n",
       "<polyline clip-path=\"url(#clip8100)\" style=\"stroke:#000000; stroke-width:4; stroke-opacity:1; fill:none\" points=\"\n",
       "  213.67,2226.91 4152.76,2226.91 \n",
       "  \"/>\n",
       "<polyline clip-path=\"url(#clip8100)\" style=\"stroke:#000000; stroke-width:4; stroke-opacity:1; fill:none\" points=\"\n",
       "  213.67,2226.91 213.67,1714.83 \n",
       "  \"/>\n",
       "<polyline clip-path=\"url(#clip8100)\" style=\"stroke:#000000; stroke-width:4; stroke-opacity:1; fill:none\" points=\"\n",
       "  298.101,2226.91 298.101,2220.76 \n",
       "  \"/>\n",
       "<polyline clip-path=\"url(#clip8100)\" style=\"stroke:#000000; stroke-width:4; stroke-opacity:1; fill:none\" points=\"\n",
       "  1527.79,2226.91 1527.79,2220.76 \n",
       "  \"/>\n",
       "<polyline clip-path=\"url(#clip8100)\" style=\"stroke:#000000; stroke-width:4; stroke-opacity:1; fill:none\" points=\"\n",
       "  2757.48,2226.91 2757.48,2220.76 \n",
       "  \"/>\n",
       "<polyline clip-path=\"url(#clip8100)\" style=\"stroke:#000000; stroke-width:4; stroke-opacity:1; fill:none\" points=\"\n",
       "  3987.17,2226.91 3987.17,2220.76 \n",
       "  \"/>\n",
       "<polyline clip-path=\"url(#clip8100)\" style=\"stroke:#000000; stroke-width:4; stroke-opacity:1; fill:none\" points=\"\n",
       "  213.67,2175.59 260.939,2175.59 \n",
       "  \"/>\n",
       "<polyline clip-path=\"url(#clip8100)\" style=\"stroke:#000000; stroke-width:4; stroke-opacity:1; fill:none\" points=\"\n",
       "  213.67,2028.31 260.939,2028.31 \n",
       "  \"/>\n",
       "<polyline clip-path=\"url(#clip8100)\" style=\"stroke:#000000; stroke-width:4; stroke-opacity:1; fill:none\" points=\"\n",
       "  213.67,1881.03 260.939,1881.03 \n",
       "  \"/>\n",
       "<polyline clip-path=\"url(#clip8100)\" style=\"stroke:#000000; stroke-width:4; stroke-opacity:1; fill:none\" points=\"\n",
       "  213.67,1733.74 260.939,1733.74 \n",
       "  \"/>\n",
       "<path clip-path=\"url(#clip8100)\" d=\"M 0 0 M247.696 2258.89 L235.89 2277.34 L247.696 2277.34 L247.696 2258.89 M246.469 2254.82 L252.349 2254.82 L252.349 2277.34 L257.279 2277.34 L257.279 2281.23 L252.349 2281.23 L252.349 2289.38 L247.696 2289.38 L247.696 2281.23 L232.094 2281.23 L232.094 2276.72 L246.469 2254.82 Z\" fill=\"#000000\" fill-rule=\"evenodd\" fill-opacity=\"1\" /><path clip-path=\"url(#clip8100)\" d=\"M 0 0 M263.159 2285.44 L270.798 2285.44 L270.798 2259.08 L262.488 2260.74 L262.488 2256.48 L270.751 2254.82 L275.427 2254.82 L275.427 2285.44 L283.066 2285.44 L283.066 2289.38 L263.159 2289.38 L263.159 2285.44 Z\" fill=\"#000000\" fill-rule=\"evenodd\" fill-opacity=\"1\" /><path clip-path=\"url(#clip8100)\" d=\"M 0 0 M298.136 2257.9 Q294.524 2257.9 292.696 2261.46 Q290.89 2265 290.89 2272.13 Q290.89 2279.24 292.696 2282.8 Q294.524 2286.35 298.136 2286.35 Q301.77 2286.35 303.575 2282.8 Q305.404 2279.24 305.404 2272.13 Q305.404 2265 303.575 2261.46 Q301.77 2257.9 298.136 2257.9 M298.136 2254.19 Q303.946 2254.19 307.001 2258.8 Q310.08 2263.38 310.08 2272.13 Q310.08 2280.86 307.001 2285.47 Q303.946 2290.05 298.136 2290.05 Q292.325 2290.05 289.247 2285.47 Q286.191 2280.86 286.191 2272.13 Q286.191 2263.38 289.247 2258.8 Q292.325 2254.19 298.136 2254.19 Z\" fill=\"#000000\" fill-rule=\"evenodd\" fill-opacity=\"1\" /><path clip-path=\"url(#clip8100)\" d=\"M 0 0 M325.149 2257.9 Q321.538 2257.9 319.709 2261.46 Q317.904 2265 317.904 2272.13 Q317.904 2279.24 319.709 2282.8 Q321.538 2286.35 325.149 2286.35 Q328.783 2286.35 330.589 2282.8 Q332.418 2279.24 332.418 2272.13 Q332.418 2265 330.589 2261.46 Q328.783 2257.9 325.149 2257.9 M325.149 2254.19 Q330.959 2254.19 334.015 2258.8 Q337.094 2263.38 337.094 2272.13 Q337.094 2280.86 334.015 2285.47 Q330.959 2290.05 325.149 2290.05 Q319.339 2290.05 316.26 2285.47 Q313.205 2280.86 313.205 2272.13 Q313.205 2263.38 316.26 2258.8 Q319.339 2254.19 325.149 2254.19 Z\" fill=\"#000000\" fill-rule=\"evenodd\" fill-opacity=\"1\" /><path clip-path=\"url(#clip8100)\" d=\"M 0 0 M352.163 2257.9 Q348.552 2257.9 346.723 2261.46 Q344.918 2265 344.918 2272.13 Q344.918 2279.24 346.723 2282.8 Q348.552 2286.35 352.163 2286.35 Q355.797 2286.35 357.603 2282.8 Q359.431 2279.24 359.431 2272.13 Q359.431 2265 357.603 2261.46 Q355.797 2257.9 352.163 2257.9 M352.163 2254.19 Q357.973 2254.19 361.029 2258.8 Q364.107 2263.38 364.107 2272.13 Q364.107 2280.86 361.029 2285.47 Q357.973 2290.05 352.163 2290.05 Q346.353 2290.05 343.274 2285.47 Q340.219 2280.86 340.219 2272.13 Q340.219 2263.38 343.274 2258.8 Q346.353 2254.19 352.163 2254.19 Z\" fill=\"#000000\" fill-rule=\"evenodd\" fill-opacity=\"1\" /><path clip-path=\"url(#clip8100)\" d=\"M 0 0 M1477.57 2258.89 L1465.76 2277.34 L1477.57 2277.34 L1477.57 2258.89 M1476.34 2254.82 L1482.22 2254.82 L1482.22 2277.34 L1487.15 2277.34 L1487.15 2281.23 L1482.22 2281.23 L1482.22 2289.38 L1477.57 2289.38 L1477.57 2281.23 L1461.97 2281.23 L1461.97 2276.72 L1476.34 2254.82 Z\" fill=\"#000000\" fill-rule=\"evenodd\" fill-opacity=\"1\" /><path clip-path=\"url(#clip8100)\" d=\"M 0 0 M1496.25 2285.44 L1512.57 2285.44 L1512.57 2289.38 L1490.63 2289.38 L1490.63 2285.44 Q1493.29 2282.69 1497.87 2278.06 Q1502.48 2273.41 1503.66 2272.06 Q1505.9 2269.54 1506.78 2267.8 Q1507.69 2266.04 1507.69 2264.35 Q1507.69 2261.6 1505.74 2259.86 Q1503.82 2258.13 1500.72 2258.13 Q1498.52 2258.13 1496.06 2258.89 Q1493.63 2259.66 1490.86 2261.21 L1490.86 2256.48 Q1493.68 2255.35 1496.13 2254.77 Q1498.59 2254.19 1500.63 2254.19 Q1506 2254.19 1509.19 2256.88 Q1512.38 2259.56 1512.38 2264.05 Q1512.38 2266.18 1511.57 2268.1 Q1510.79 2270 1508.68 2272.6 Q1508.1 2273.27 1505 2276.48 Q1501.9 2279.68 1496.25 2285.44 Z\" fill=\"#000000\" fill-rule=\"evenodd\" fill-opacity=\"1\" /><path clip-path=\"url(#clip8100)\" d=\"M 0 0 M1527.64 2257.9 Q1524.03 2257.9 1522.2 2261.46 Q1520.39 2265 1520.39 2272.13 Q1520.39 2279.24 1522.2 2282.8 Q1524.03 2286.35 1527.64 2286.35 Q1531.27 2286.35 1533.08 2282.8 Q1534.91 2279.24 1534.91 2272.13 Q1534.91 2265 1533.08 2261.46 Q1531.27 2257.9 1527.64 2257.9 M1527.64 2254.19 Q1533.45 2254.19 1536.5 2258.8 Q1539.58 2263.38 1539.58 2272.13 Q1539.58 2280.86 1536.5 2285.47 Q1533.45 2290.05 1527.64 2290.05 Q1521.83 2290.05 1518.75 2285.47 Q1515.69 2280.86 1515.69 2272.13 Q1515.69 2263.38 1518.75 2258.8 Q1521.83 2254.19 1527.64 2254.19 Z\" fill=\"#000000\" fill-rule=\"evenodd\" fill-opacity=\"1\" /><path clip-path=\"url(#clip8100)\" d=\"M 0 0 M1554.65 2257.9 Q1551.04 2257.9 1549.21 2261.46 Q1547.41 2265 1547.41 2272.13 Q1547.41 2279.24 1549.21 2282.8 Q1551.04 2286.35 1554.65 2286.35 Q1558.29 2286.35 1560.09 2282.8 Q1561.92 2279.24 1561.92 2272.13 Q1561.92 2265 1560.09 2261.46 Q1558.29 2257.9 1554.65 2257.9 M1554.65 2254.19 Q1560.46 2254.19 1563.52 2258.8 Q1566.6 2263.38 1566.6 2272.13 Q1566.6 2280.86 1563.52 2285.47 Q1560.46 2290.05 1554.65 2290.05 Q1548.84 2290.05 1545.76 2285.47 Q1542.71 2280.86 1542.71 2272.13 Q1542.71 2263.38 1545.76 2258.8 Q1548.84 2254.19 1554.65 2254.19 Z\" fill=\"#000000\" fill-rule=\"evenodd\" fill-opacity=\"1\" /><path clip-path=\"url(#clip8100)\" d=\"M 0 0 M1581.67 2257.9 Q1578.06 2257.9 1576.23 2261.46 Q1574.42 2265 1574.42 2272.13 Q1574.42 2279.24 1576.23 2282.8 Q1578.06 2286.35 1581.67 2286.35 Q1585.3 2286.35 1587.11 2282.8 Q1588.93 2279.24 1588.93 2272.13 Q1588.93 2265 1587.11 2261.46 Q1585.3 2257.9 1581.67 2257.9 M1581.67 2254.19 Q1587.48 2254.19 1590.53 2258.8 Q1593.61 2263.38 1593.61 2272.13 Q1593.61 2280.86 1590.53 2285.47 Q1587.48 2290.05 1581.67 2290.05 Q1575.86 2290.05 1572.78 2285.47 Q1569.72 2280.86 1569.72 2272.13 Q1569.72 2263.38 1572.78 2258.8 Q1575.86 2254.19 1581.67 2254.19 Z\" fill=\"#000000\" fill-rule=\"evenodd\" fill-opacity=\"1\" /><path clip-path=\"url(#clip8100)\" d=\"M 0 0 M2706.78 2258.89 L2694.98 2277.34 L2706.78 2277.34 L2706.78 2258.89 M2705.56 2254.82 L2711.44 2254.82 L2711.44 2277.34 L2716.37 2277.34 L2716.37 2281.23 L2711.44 2281.23 L2711.44 2289.38 L2706.78 2289.38 L2706.78 2281.23 L2691.18 2281.23 L2691.18 2276.72 L2705.56 2254.82 Z\" fill=\"#000000\" fill-rule=\"evenodd\" fill-opacity=\"1\" /><path clip-path=\"url(#clip8100)\" d=\"M 0 0 M2735.6 2270.74 Q2738.96 2271.46 2740.83 2273.73 Q2742.73 2276 2742.73 2279.33 Q2742.73 2284.45 2739.21 2287.25 Q2735.7 2290.05 2729.21 2290.05 Q2727.04 2290.05 2724.72 2289.61 Q2722.43 2289.19 2719.98 2288.34 L2719.98 2283.82 Q2721.92 2284.96 2724.24 2285.53 Q2726.55 2286.11 2729.08 2286.11 Q2733.47 2286.11 2735.76 2284.38 Q2738.08 2282.64 2738.08 2279.33 Q2738.08 2276.28 2735.93 2274.56 Q2733.8 2272.83 2729.98 2272.83 L2725.95 2272.83 L2725.95 2268.98 L2730.16 2268.98 Q2733.61 2268.98 2735.44 2267.62 Q2737.27 2266.23 2737.27 2263.64 Q2737.27 2260.97 2735.37 2259.56 Q2733.5 2258.13 2729.98 2258.13 Q2728.06 2258.13 2725.86 2258.54 Q2723.66 2258.96 2721.02 2259.84 L2721.02 2255.67 Q2723.68 2254.93 2726 2254.56 Q2728.33 2254.19 2730.39 2254.19 Q2735.72 2254.19 2738.82 2256.62 Q2741.92 2259.03 2741.92 2263.15 Q2741.92 2266.02 2740.28 2268.01 Q2738.64 2269.98 2735.6 2270.74 Z\" fill=\"#000000\" fill-rule=\"evenodd\" fill-opacity=\"1\" /><path clip-path=\"url(#clip8100)\" d=\"M 0 0 M2757.8 2257.9 Q2754.19 2257.9 2752.36 2261.46 Q2750.56 2265 2750.56 2272.13 Q2750.56 2279.24 2752.36 2282.8 Q2754.19 2286.35 2757.8 2286.35 Q2761.44 2286.35 2763.24 2282.8 Q2765.07 2279.24 2765.07 2272.13 Q2765.07 2265 2763.24 2261.46 Q2761.44 2257.9 2757.8 2257.9 M2757.8 2254.19 Q2763.61 2254.19 2766.67 2258.8 Q2769.75 2263.38 2769.75 2272.13 Q2769.75 2280.86 2766.67 2285.47 Q2763.61 2290.05 2757.8 2290.05 Q2751.99 2290.05 2748.91 2285.47 Q2745.86 2280.86 2745.86 2272.13 Q2745.86 2263.38 2748.91 2258.8 Q2751.99 2254.19 2757.8 2254.19 Z\" fill=\"#000000\" fill-rule=\"evenodd\" fill-opacity=\"1\" /><path clip-path=\"url(#clip8100)\" d=\"M 0 0 M2784.82 2257.9 Q2781.2 2257.9 2779.38 2261.46 Q2777.57 2265 2777.57 2272.13 Q2777.57 2279.24 2779.38 2282.8 Q2781.2 2286.35 2784.82 2286.35 Q2788.45 2286.35 2790.26 2282.8 Q2792.08 2279.24 2792.08 2272.13 Q2792.08 2265 2790.26 2261.46 Q2788.45 2257.9 2784.82 2257.9 M2784.82 2254.19 Q2790.63 2254.19 2793.68 2258.8 Q2796.76 2263.38 2796.76 2272.13 Q2796.76 2280.86 2793.68 2285.47 Q2790.63 2290.05 2784.82 2290.05 Q2779.01 2290.05 2775.93 2285.47 Q2772.87 2280.86 2772.87 2272.13 Q2772.87 2263.38 2775.93 2258.8 Q2779.01 2254.19 2784.82 2254.19 Z\" fill=\"#000000\" fill-rule=\"evenodd\" fill-opacity=\"1\" /><path clip-path=\"url(#clip8100)\" d=\"M 0 0 M2811.83 2257.9 Q2808.22 2257.9 2806.39 2261.46 Q2804.58 2265 2804.58 2272.13 Q2804.58 2279.24 2806.39 2282.8 Q2808.22 2286.35 2811.83 2286.35 Q2815.46 2286.35 2817.27 2282.8 Q2819.1 2279.24 2819.1 2272.13 Q2819.1 2265 2817.27 2261.46 Q2815.46 2257.9 2811.83 2257.9 M2811.83 2254.19 Q2817.64 2254.19 2820.69 2258.8 Q2823.77 2263.38 2823.77 2272.13 Q2823.77 2280.86 2820.69 2285.47 Q2817.64 2290.05 2811.83 2290.05 Q2806.02 2290.05 2802.94 2285.47 Q2799.88 2280.86 2799.88 2272.13 Q2799.88 2263.38 2802.94 2258.8 Q2806.02 2254.19 2811.83 2254.19 Z\" fill=\"#000000\" fill-rule=\"evenodd\" fill-opacity=\"1\" /><path clip-path=\"url(#clip8100)\" d=\"M 0 0 M3935.9 2258.89 L3924.1 2277.34 L3935.9 2277.34 L3935.9 2258.89 M3934.68 2254.82 L3940.56 2254.82 L3940.56 2277.34 L3945.49 2277.34 L3945.49 2281.23 L3940.56 2281.23 L3940.56 2289.38 L3935.9 2289.38 L3935.9 2281.23 L3920.3 2281.23 L3920.3 2276.72 L3934.68 2254.82 Z\" fill=\"#000000\" fill-rule=\"evenodd\" fill-opacity=\"1\" /><path clip-path=\"url(#clip8100)\" d=\"M 0 0 M3963.4 2258.89 L3951.6 2277.34 L3963.4 2277.34 L3963.4 2258.89 M3962.18 2254.82 L3968.06 2254.82 L3968.06 2277.34 L3972.99 2277.34 L3972.99 2281.23 L3968.06 2281.23 L3968.06 2289.38 L3963.4 2289.38 L3963.4 2281.23 L3947.8 2281.23 L3947.8 2276.72 L3962.18 2254.82 Z\" fill=\"#000000\" fill-rule=\"evenodd\" fill-opacity=\"1\" /><path clip-path=\"url(#clip8100)\" d=\"M 0 0 M3988.06 2257.9 Q3984.45 2257.9 3982.62 2261.46 Q3980.81 2265 3980.81 2272.13 Q3980.81 2279.24 3982.62 2282.8 Q3984.45 2286.35 3988.06 2286.35 Q3991.69 2286.35 3993.5 2282.8 Q3995.33 2279.24 3995.33 2272.13 Q3995.33 2265 3993.5 2261.46 Q3991.69 2257.9 3988.06 2257.9 M3988.06 2254.19 Q3993.87 2254.19 3996.92 2258.8 Q4000 2263.38 4000 2272.13 Q4000 2280.86 3996.92 2285.47 Q3993.87 2290.05 3988.06 2290.05 Q3982.25 2290.05 3979.17 2285.47 Q3976.11 2280.86 3976.11 2272.13 Q3976.11 2263.38 3979.17 2258.8 Q3982.25 2254.19 3988.06 2254.19 Z\" fill=\"#000000\" fill-rule=\"evenodd\" fill-opacity=\"1\" /><path clip-path=\"url(#clip8100)\" d=\"M 0 0 M4015.07 2257.9 Q4011.46 2257.9 4009.63 2261.46 Q4007.83 2265 4007.83 2272.13 Q4007.83 2279.24 4009.63 2282.8 Q4011.46 2286.35 4015.07 2286.35 Q4018.71 2286.35 4020.51 2282.8 Q4022.34 2279.24 4022.34 2272.13 Q4022.34 2265 4020.51 2261.46 Q4018.71 2257.9 4015.07 2257.9 M4015.07 2254.19 Q4020.88 2254.19 4023.94 2258.8 Q4027.02 2263.38 4027.02 2272.13 Q4027.02 2280.86 4023.94 2285.47 Q4020.88 2290.05 4015.07 2290.05 Q4009.26 2290.05 4006.18 2285.47 Q4003.13 2280.86 4003.13 2272.13 Q4003.13 2263.38 4006.18 2258.8 Q4009.26 2254.19 4015.07 2254.19 Z\" fill=\"#000000\" fill-rule=\"evenodd\" fill-opacity=\"1\" /><path clip-path=\"url(#clip8100)\" d=\"M 0 0 M4042.08 2257.9 Q4038.47 2257.9 4036.64 2261.46 Q4034.84 2265 4034.84 2272.13 Q4034.84 2279.24 4036.64 2282.8 Q4038.47 2286.35 4042.08 2286.35 Q4045.72 2286.35 4047.52 2282.8 Q4049.35 2279.24 4049.35 2272.13 Q4049.35 2265 4047.52 2261.46 Q4045.72 2257.9 4042.08 2257.9 M4042.08 2254.19 Q4047.89 2254.19 4050.95 2258.8 Q4054.03 2263.38 4054.03 2272.13 Q4054.03 2280.86 4050.95 2285.47 Q4047.89 2290.05 4042.08 2290.05 Q4036.27 2290.05 4033.2 2285.47 Q4030.14 2280.86 4030.14 2272.13 Q4030.14 2263.38 4033.2 2258.8 Q4036.27 2254.19 4042.08 2254.19 Z\" fill=\"#000000\" fill-rule=\"evenodd\" fill-opacity=\"1\" /><path clip-path=\"url(#clip8100)\" d=\"M 0 0 M137.527 2174.24 Q140.884 2174.96 142.758 2177.22 Q144.657 2179.49 144.657 2182.83 Q144.657 2187.94 141.138 2190.74 Q137.62 2193.54 131.138 2193.54 Q128.962 2193.54 126.647 2193.1 Q124.356 2192.69 121.902 2191.83 L121.902 2187.32 Q123.847 2188.45 126.161 2189.03 Q128.476 2189.61 130.999 2189.61 Q135.397 2189.61 137.689 2187.87 Q140.004 2186.14 140.004 2182.83 Q140.004 2179.77 137.851 2178.06 Q135.721 2176.32 131.902 2176.32 L127.874 2176.32 L127.874 2172.48 L132.087 2172.48 Q135.536 2172.48 137.365 2171.11 Q139.194 2169.72 139.194 2167.13 Q139.194 2164.47 137.296 2163.06 Q135.421 2161.62 131.902 2161.62 Q129.981 2161.62 127.782 2162.04 Q125.583 2162.46 122.944 2163.34 L122.944 2159.17 Q125.606 2158.43 127.921 2158.06 Q130.259 2157.69 132.319 2157.69 Q137.643 2157.69 140.745 2160.12 Q143.846 2162.53 143.846 2166.65 Q143.846 2169.52 142.203 2171.51 Q140.559 2173.47 137.527 2174.24 Z\" fill=\"#000000\" fill-rule=\"evenodd\" fill-opacity=\"1\" /><path clip-path=\"url(#clip8100)\" d=\"M 0 0 M159.726 2161.39 Q156.115 2161.39 154.286 2164.96 Q152.481 2168.5 152.481 2175.63 Q152.481 2182.73 154.286 2186.3 Q156.115 2189.84 159.726 2189.84 Q163.36 2189.84 165.166 2186.3 Q166.994 2182.73 166.994 2175.63 Q166.994 2168.5 165.166 2164.96 Q163.36 2161.39 159.726 2161.39 M159.726 2157.69 Q165.536 2157.69 168.592 2162.29 Q171.67 2166.88 171.67 2175.63 Q171.67 2184.35 168.592 2188.96 Q165.536 2193.54 159.726 2193.54 Q153.916 2193.54 150.837 2188.96 Q147.782 2184.35 147.782 2175.63 Q147.782 2166.88 150.837 2162.29 Q153.916 2157.69 159.726 2157.69 Z\" fill=\"#000000\" fill-rule=\"evenodd\" fill-opacity=\"1\" /><path clip-path=\"url(#clip8100)\" d=\"M 0 0 M135.073 2015.1 L123.268 2033.55 L135.073 2033.55 L135.073 2015.1 M133.847 2011.03 L139.726 2011.03 L139.726 2033.55 L144.657 2033.55 L144.657 2037.44 L139.726 2037.44 L139.726 2045.59 L135.073 2045.59 L135.073 2037.44 L119.472 2037.44 L119.472 2032.93 L133.847 2011.03 Z\" fill=\"#000000\" fill-rule=\"evenodd\" fill-opacity=\"1\" /><path clip-path=\"url(#clip8100)\" d=\"M 0 0 M159.726 2014.11 Q156.115 2014.11 154.286 2017.67 Q152.481 2021.21 152.481 2028.34 Q152.481 2035.45 154.286 2039.02 Q156.115 2042.56 159.726 2042.56 Q163.36 2042.56 165.166 2039.02 Q166.994 2035.45 166.994 2028.34 Q166.994 2021.21 165.166 2017.67 Q163.36 2014.11 159.726 2014.11 M159.726 2010.4 Q165.536 2010.4 168.592 2015.01 Q171.67 2019.59 171.67 2028.34 Q171.67 2037.07 168.592 2041.68 Q165.536 2046.26 159.726 2046.26 Q153.916 2046.26 150.837 2041.68 Q147.782 2037.07 147.782 2028.34 Q147.782 2019.59 150.837 2015.01 Q153.916 2010.4 159.726 2010.4 Z\" fill=\"#000000\" fill-rule=\"evenodd\" fill-opacity=\"1\" /><path clip-path=\"url(#clip8100)\" d=\"M 0 0 M123.754 1863.75 L142.11 1863.75 L142.11 1867.68 L128.036 1867.68 L128.036 1876.15 Q129.055 1875.81 130.073 1875.64 Q131.092 1875.46 132.11 1875.46 Q137.897 1875.46 141.277 1878.63 Q144.657 1881.8 144.657 1887.22 Q144.657 1892.8 141.184 1895.9 Q137.712 1898.98 131.393 1898.98 Q129.217 1898.98 126.948 1898.61 Q124.703 1898.24 122.296 1897.5 L122.296 1892.8 Q124.379 1893.93 126.601 1894.49 Q128.823 1895.04 131.3 1895.04 Q135.305 1895.04 137.643 1892.94 Q139.981 1890.83 139.981 1887.22 Q139.981 1883.61 137.643 1881.5 Q135.305 1879.39 131.3 1879.39 Q129.425 1879.39 127.55 1879.81 Q125.698 1880.23 123.754 1881.11 L123.754 1863.75 Z\" fill=\"#000000\" fill-rule=\"evenodd\" fill-opacity=\"1\" /><path clip-path=\"url(#clip8100)\" d=\"M 0 0 M159.726 1866.82 Q156.115 1866.82 154.286 1870.39 Q152.481 1873.93 152.481 1881.06 Q152.481 1888.17 154.286 1891.73 Q156.115 1895.27 159.726 1895.27 Q163.36 1895.27 165.166 1891.73 Q166.994 1888.17 166.994 1881.06 Q166.994 1873.93 165.166 1870.39 Q163.36 1866.82 159.726 1866.82 M159.726 1863.12 Q165.536 1863.12 168.592 1867.73 Q171.67 1872.31 171.67 1881.06 Q171.67 1889.79 168.592 1894.39 Q165.536 1898.98 159.726 1898.98 Q153.916 1898.98 150.837 1894.39 Q147.782 1889.79 147.782 1881.06 Q147.782 1872.31 150.837 1867.73 Q153.916 1863.12 159.726 1863.12 Z\" fill=\"#000000\" fill-rule=\"evenodd\" fill-opacity=\"1\" /><path clip-path=\"url(#clip8100)\" d=\"M 0 0 M133.129 1731.88 Q129.981 1731.88 128.129 1734.03 Q126.3 1736.19 126.3 1739.94 Q126.3 1743.66 128.129 1745.84 Q129.981 1747.99 133.129 1747.99 Q136.277 1747.99 138.106 1745.84 Q139.958 1743.66 139.958 1739.94 Q139.958 1736.19 138.106 1734.03 Q136.277 1731.88 133.129 1731.88 M142.411 1717.23 L142.411 1721.49 Q140.652 1720.65 138.846 1720.21 Q137.064 1719.77 135.305 1719.77 Q130.675 1719.77 128.222 1722.9 Q125.791 1726.02 125.444 1732.34 Q126.81 1730.33 128.87 1729.26 Q130.93 1728.18 133.407 1728.18 Q138.615 1728.18 141.624 1731.35 Q144.657 1734.5 144.657 1739.94 Q144.657 1745.26 141.509 1748.48 Q138.36 1751.69 133.129 1751.69 Q127.134 1751.69 123.962 1747.11 Q120.791 1742.5 120.791 1733.78 Q120.791 1725.58 124.68 1720.72 Q128.569 1715.84 135.12 1715.84 Q136.879 1715.84 138.661 1716.19 Q140.467 1716.53 142.411 1717.23 Z\" fill=\"#000000\" fill-rule=\"evenodd\" fill-opacity=\"1\" /><path clip-path=\"url(#clip8100)\" d=\"M 0 0 M159.726 1719.54 Q156.115 1719.54 154.286 1723.11 Q152.481 1726.65 152.481 1733.78 Q152.481 1740.88 154.286 1744.45 Q156.115 1747.99 159.726 1747.99 Q163.36 1747.99 165.166 1744.45 Q166.994 1740.88 166.994 1733.78 Q166.994 1726.65 165.166 1723.11 Q163.36 1719.54 159.726 1719.54 M159.726 1715.84 Q165.536 1715.84 168.592 1720.44 Q171.67 1725.03 171.67 1733.78 Q171.67 1742.5 168.592 1747.11 Q165.536 1751.69 159.726 1751.69 Q153.916 1751.69 150.837 1747.11 Q147.782 1742.5 147.782 1733.78 Q147.782 1725.03 150.837 1720.44 Q153.916 1715.84 159.726 1715.84 Z\" fill=\"#000000\" fill-rule=\"evenodd\" fill-opacity=\"1\" /><path clip-path=\"url(#clip8100)\" d=\"M 0 0 M1846.4 1612.1 L1854.58 1612.1 L1854.58 1672.58 L1846.4 1672.58 L1846.4 1612.1 Z\" fill=\"#000000\" fill-rule=\"evenodd\" fill-opacity=\"1\" /><path clip-path=\"url(#clip8100)\" d=\"M 0 0 M1898.98 1614.08 L1898.98 1622.06 Q1894.32 1619.83 1890.19 1618.74 Q1886.06 1617.65 1882.21 1617.65 Q1875.53 1617.65 1871.88 1620.24 Q1868.28 1622.83 1868.28 1627.61 Q1868.28 1631.62 1870.67 1633.69 Q1873.1 1635.71 1879.82 1636.97 L1884.76 1637.98 Q1893.92 1639.72 1898.25 1644.14 Q1902.63 1648.51 1902.63 1655.89 Q1902.63 1664.68 1896.71 1669.21 Q1890.84 1673.75 1879.46 1673.75 Q1875.16 1673.75 1870.3 1672.78 Q1865.48 1671.81 1860.3 1669.9 L1860.3 1661.48 Q1865.28 1664.27 1870.06 1665.69 Q1874.84 1667.11 1879.46 1667.11 Q1886.46 1667.11 1890.27 1664.35 Q1894.08 1661.6 1894.08 1656.49 Q1894.08 1652.04 1891.33 1649.53 Q1888.61 1647.01 1882.37 1645.76 L1877.39 1644.79 Q1868.24 1642.96 1864.14 1639.08 Q1860.05 1635.19 1860.05 1628.26 Q1860.05 1620.24 1865.68 1615.62 Q1871.35 1611 1881.28 1611 Q1885.53 1611 1889.95 1611.77 Q1894.36 1612.54 1898.98 1614.08 Z\" fill=\"#000000\" fill-rule=\"evenodd\" fill-opacity=\"1\" /><path clip-path=\"url(#clip8100)\" d=\"M 0 0 M1910.77 1612.1 L1922.96 1612.1 L1938.4 1653.25 L1953.91 1612.1 L1966.1 1612.1 L1966.1 1672.58 L1958.12 1672.58 L1958.12 1619.47 L1942.53 1660.95 L1934.31 1660.95 L1918.71 1619.47 L1918.71 1672.58 L1910.77 1672.58 L1910.77 1612.1 Z\" fill=\"#000000\" fill-rule=\"evenodd\" fill-opacity=\"1\" /><path clip-path=\"url(#clip8100)\" d=\"M 0 0 M2000.62 1612.1 L2012.81 1612.1 L2028.25 1653.25 L2043.76 1612.1 L2055.95 1612.1 L2055.95 1672.58 L2047.97 1672.58 L2047.97 1619.47 L2032.38 1660.95 L2024.15 1660.95 L2008.56 1619.47 L2008.56 1672.58 L2000.62 1672.58 L2000.62 1612.1 Z\" fill=\"#000000\" fill-rule=\"evenodd\" fill-opacity=\"1\" /><path clip-path=\"url(#clip8100)\" d=\"M 0 0 M2084.39 1649.77 Q2075.36 1649.77 2071.87 1651.84 Q2068.39 1653.9 2068.39 1658.88 Q2068.39 1662.85 2070.98 1665.2 Q2073.62 1667.51 2078.11 1667.51 Q2084.31 1667.51 2088.04 1663.14 Q2091.8 1658.72 2091.8 1651.43 L2091.8 1649.77 L2084.39 1649.77 M2099.26 1646.69 L2099.26 1672.58 L2091.8 1672.58 L2091.8 1665.69 Q2089.25 1669.82 2085.44 1671.81 Q2081.64 1673.75 2076.13 1673.75 Q2069.16 1673.75 2065.03 1669.86 Q2060.94 1665.93 2060.94 1659.37 Q2060.94 1651.71 2066.04 1647.82 Q2071.19 1643.94 2081.35 1643.94 L2091.8 1643.94 L2091.8 1643.21 Q2091.8 1638.06 2088.4 1635.27 Q2085.04 1632.43 2078.92 1632.43 Q2075.03 1632.43 2071.35 1633.36 Q2067.66 1634.29 2064.26 1636.16 L2064.26 1629.27 Q2068.35 1627.69 2072.2 1626.92 Q2076.05 1626.11 2079.69 1626.11 Q2089.54 1626.11 2094.4 1631.22 Q2099.26 1636.32 2099.26 1646.69 Z\" fill=\"#000000\" fill-rule=\"evenodd\" fill-opacity=\"1\" /><path clip-path=\"url(#clip8100)\" d=\"M 0 0 M2144.79 1645.19 L2144.79 1672.58 L2137.34 1672.58 L2137.34 1645.43 Q2137.34 1638.99 2134.83 1635.79 Q2132.31 1632.59 2127.29 1632.59 Q2121.25 1632.59 2117.77 1636.44 Q2114.29 1640.29 2114.29 1646.93 L2114.29 1672.58 L2106.79 1672.58 L2106.79 1627.21 L2114.29 1627.21 L2114.29 1634.25 Q2116.96 1630.16 2120.57 1628.14 Q2124.21 1626.11 2128.95 1626.11 Q2136.77 1626.11 2140.78 1630.97 Q2144.79 1635.79 2144.79 1645.19 Z\" fill=\"#000000\" fill-rule=\"evenodd\" fill-opacity=\"1\" /><path clip-path=\"url(#clip8100)\" d=\"M 0 0 M2151.84 1654.67 L2151.84 1627.21 L2159.29 1627.21 L2159.29 1654.39 Q2159.29 1660.83 2161.8 1664.07 Q2164.32 1667.27 2169.34 1667.27 Q2175.37 1667.27 2178.86 1663.42 Q2182.38 1659.57 2182.38 1652.93 L2182.38 1627.21 L2189.84 1627.21 L2189.84 1672.58 L2182.38 1672.58 L2182.38 1665.61 Q2179.67 1669.74 2176.06 1671.77 Q2172.5 1673.75 2167.76 1673.75 Q2159.94 1673.75 2155.89 1668.89 Q2151.84 1664.03 2151.84 1654.67 M2170.59 1626.11 L2170.59 1626.11 Z\" fill=\"#000000\" fill-rule=\"evenodd\" fill-opacity=\"1\" /><path clip-path=\"url(#clip8100)\" d=\"M 0 0 M2220.62 1609.54 L2220.62 1615.74 L2213.49 1615.74 Q2209.48 1615.74 2207.9 1617.36 Q2206.36 1618.98 2206.36 1623.2 L2206.36 1627.21 L2218.64 1627.21 L2218.64 1633 L2206.36 1633 L2206.36 1672.58 L2198.87 1672.58 L2198.87 1633 L2191.74 1633 L2191.74 1627.21 L2198.87 1627.21 L2198.87 1624.05 Q2198.87 1616.47 2202.39 1613.03 Q2205.92 1609.54 2213.57 1609.54 L2220.62 1609.54 Z\" fill=\"#000000\" fill-rule=\"evenodd\" fill-opacity=\"1\" /><path clip-path=\"url(#clip8100)\" d=\"M 0 0 M2249.06 1649.77 Q2240.03 1649.77 2236.54 1651.84 Q2233.06 1653.9 2233.06 1658.88 Q2233.06 1662.85 2235.65 1665.2 Q2238.29 1667.51 2242.78 1667.51 Q2248.98 1667.51 2252.71 1663.14 Q2256.47 1658.72 2256.47 1651.43 L2256.47 1649.77 L2249.06 1649.77 M2263.93 1646.69 L2263.93 1672.58 L2256.47 1672.58 L2256.47 1665.69 Q2253.92 1669.82 2250.11 1671.81 Q2246.31 1673.75 2240.8 1673.75 Q2233.83 1673.75 2229.7 1669.86 Q2225.61 1665.93 2225.61 1659.37 Q2225.61 1651.71 2230.71 1647.82 Q2235.85 1643.94 2246.02 1643.94 L2256.47 1643.94 L2256.47 1643.21 Q2256.47 1638.06 2253.07 1635.27 Q2249.71 1632.43 2243.59 1632.43 Q2239.7 1632.43 2236.02 1633.36 Q2232.33 1634.29 2228.93 1636.16 L2228.93 1629.27 Q2233.02 1627.69 2236.87 1626.92 Q2240.72 1626.11 2244.36 1626.11 Q2254.21 1626.11 2259.07 1631.22 Q2263.93 1636.32 2263.93 1646.69 Z\" fill=\"#000000\" fill-rule=\"evenodd\" fill-opacity=\"1\" /><path clip-path=\"url(#clip8100)\" d=\"M 0 0 M2304.4 1628.95 L2304.4 1635.92 Q2301.24 1634.17 2298.04 1633.32 Q2294.88 1632.43 2291.64 1632.43 Q2284.38 1632.43 2280.37 1637.05 Q2276.36 1641.63 2276.36 1649.93 Q2276.36 1658.24 2280.37 1662.85 Q2284.38 1667.43 2291.64 1667.43 Q2294.88 1667.43 2298.04 1666.58 Q2301.24 1665.69 2304.4 1663.95 L2304.4 1670.83 Q2301.28 1672.29 2297.91 1673.02 Q2294.59 1673.75 2290.83 1673.75 Q2280.58 1673.75 2274.54 1667.31 Q2268.5 1660.87 2268.5 1649.93 Q2268.5 1638.83 2274.58 1632.47 Q2280.7 1626.11 2291.31 1626.11 Q2294.75 1626.11 2298.04 1626.84 Q2301.32 1627.53 2304.4 1628.95 Z\" fill=\"#000000\" fill-rule=\"evenodd\" fill-opacity=\"1\" /><path clip-path=\"url(#clip8100)\" d=\"M 0 0 M2319.59 1614.32 L2319.59 1627.21 L2334.94 1627.21 L2334.94 1633 L2319.59 1633 L2319.59 1657.63 Q2319.59 1663.18 2321.09 1664.76 Q2322.63 1666.34 2327.28 1666.34 L2334.94 1666.34 L2334.94 1672.58 L2327.28 1672.58 Q2318.66 1672.58 2315.37 1669.38 Q2312.09 1666.14 2312.09 1657.63 L2312.09 1633 L2306.62 1633 L2306.62 1627.21 L2312.09 1627.21 L2312.09 1614.32 L2319.59 1614.32 Z\" fill=\"#000000\" fill-rule=\"evenodd\" fill-opacity=\"1\" /><path clip-path=\"url(#clip8100)\" d=\"M 0 0 M2341.99 1654.67 L2341.99 1627.21 L2349.44 1627.21 L2349.44 1654.39 Q2349.44 1660.83 2351.95 1664.07 Q2354.47 1667.27 2359.49 1667.27 Q2365.52 1667.27 2369.01 1663.42 Q2372.53 1659.57 2372.53 1652.93 L2372.53 1627.21 L2379.99 1627.21 L2379.99 1672.58 L2372.53 1672.58 L2372.53 1665.61 Q2369.82 1669.74 2366.21 1671.77 Q2362.65 1673.75 2357.91 1673.75 Q2350.09 1673.75 2346.04 1668.89 Q2341.99 1664.03 2341.99 1654.67 M2360.74 1626.11 L2360.74 1626.11 Z\" fill=\"#000000\" fill-rule=\"evenodd\" fill-opacity=\"1\" /><path clip-path=\"url(#clip8100)\" d=\"M 0 0 M2414.09 1634.17 Q2412.84 1633.44 2411.34 1633.12 Q2409.88 1632.76 2408.1 1632.76 Q2401.78 1632.76 2398.38 1636.89 Q2395.01 1640.98 2395.01 1648.68 L2395.01 1672.58 L2387.52 1672.58 L2387.52 1627.21 L2395.01 1627.21 L2395.01 1634.25 Q2397.36 1630.12 2401.13 1628.14 Q2404.9 1626.11 2410.29 1626.11 Q2411.06 1626.11 2411.99 1626.23 Q2412.92 1626.31 2414.05 1626.52 L2414.09 1634.17 Z\" fill=\"#000000\" fill-rule=\"evenodd\" fill-opacity=\"1\" /><path clip-path=\"url(#clip8100)\" d=\"M 0 0 M2421.91 1627.21 L2429.37 1627.21 L2429.37 1672.58 L2421.91 1672.58 L2421.91 1627.21 M2421.91 1609.54 L2429.37 1609.54 L2429.37 1618.98 L2421.91 1618.98 L2421.91 1609.54 Z\" fill=\"#000000\" fill-rule=\"evenodd\" fill-opacity=\"1\" /><path clip-path=\"url(#clip8100)\" d=\"M 0 0 M2474.9 1645.19 L2474.9 1672.58 L2467.44 1672.58 L2467.44 1645.43 Q2467.44 1638.99 2464.93 1635.79 Q2462.42 1632.59 2457.4 1632.59 Q2451.36 1632.59 2447.88 1636.44 Q2444.4 1640.29 2444.4 1646.93 L2444.4 1672.58 L2436.9 1672.58 L2436.9 1627.21 L2444.4 1627.21 L2444.4 1634.25 Q2447.07 1630.16 2450.67 1628.14 Q2454.32 1626.11 2459.06 1626.11 Q2466.88 1626.11 2470.89 1630.97 Q2474.9 1635.79 2474.9 1645.19 Z\" fill=\"#000000\" fill-rule=\"evenodd\" fill-opacity=\"1\" /><path clip-path=\"url(#clip8100)\" d=\"M 0 0 M2512.57 1649.36 Q2512.57 1641.26 2509.21 1636.81 Q2505.89 1632.35 2499.85 1632.35 Q2493.86 1632.35 2490.49 1636.81 Q2487.17 1641.26 2487.17 1649.36 Q2487.17 1657.43 2490.49 1661.88 Q2493.86 1666.34 2499.85 1666.34 Q2505.89 1666.34 2509.21 1661.88 Q2512.57 1657.43 2512.57 1649.36 M2520.03 1666.95 Q2520.03 1678.53 2514.88 1684.16 Q2509.74 1689.83 2499.12 1689.83 Q2495.19 1689.83 2491.71 1689.23 Q2488.23 1688.66 2484.94 1687.44 L2484.94 1680.19 Q2488.23 1681.97 2491.43 1682.82 Q2494.63 1683.68 2497.95 1683.68 Q2505.28 1683.68 2508.93 1679.83 Q2512.57 1676.02 2512.57 1668.28 L2512.57 1664.6 Q2510.26 1668.61 2506.66 1670.59 Q2503.05 1672.58 2498.03 1672.58 Q2489.68 1672.58 2484.58 1666.22 Q2479.48 1659.86 2479.48 1649.36 Q2479.48 1638.83 2484.58 1632.47 Q2489.68 1626.11 2498.03 1626.11 Q2503.05 1626.11 2506.66 1628.1 Q2510.26 1630.08 2512.57 1634.09 L2512.57 1627.21 L2520.03 1627.21 L2520.03 1666.95 Z\" fill=\"#000000\" fill-rule=\"evenodd\" fill-opacity=\"1\" /><path clip-path=\"url(#clip8100)\" d=\"M 0 0 M2128.98 2332 L2128.98 2342.12 L2141.04 2342.12 L2141.04 2346.67 L2128.98 2346.67 L2128.98 2366.02 Q2128.98 2370.39 2130.15 2371.63 Q2131.36 2372.87 2135.02 2372.87 L2141.04 2372.87 L2141.04 2377.77 L2135.02 2377.77 Q2128.25 2377.77 2125.67 2375.26 Q2123.09 2372.71 2123.09 2366.02 L2123.09 2346.67 L2118.79 2346.67 L2118.79 2342.12 L2123.09 2342.12 L2123.09 2332 L2128.98 2332 Z\" fill=\"#000000\" fill-rule=\"evenodd\" fill-opacity=\"1\" /><path clip-path=\"url(#clip8100)\" d=\"M 0 0 M2147.18 2342.12 L2153.04 2342.12 L2153.04 2377.77 L2147.18 2377.77 L2147.18 2342.12 M2147.18 2328.24 L2153.04 2328.24 L2153.04 2335.66 L2147.18 2335.66 L2147.18 2328.24 Z\" fill=\"#000000\" fill-rule=\"evenodd\" fill-opacity=\"1\" /><path clip-path=\"url(#clip8100)\" d=\"M 0 0 M2186.94 2348.96 Q2189.13 2345.02 2192.19 2343.14 Q2195.24 2341.26 2199.38 2341.26 Q2204.95 2341.26 2207.98 2345.18 Q2211 2349.06 2211 2356.25 L2211 2377.77 L2205.11 2377.77 L2205.11 2356.44 Q2205.11 2351.32 2203.3 2348.84 Q2201.48 2346.35 2197.76 2346.35 Q2193.21 2346.35 2190.57 2349.38 Q2187.92 2352.4 2187.92 2357.62 L2187.92 2377.77 L2182.04 2377.77 L2182.04 2356.44 Q2182.04 2351.29 2180.22 2348.84 Q2178.41 2346.35 2174.62 2346.35 Q2170.13 2346.35 2167.49 2349.41 Q2164.85 2352.43 2164.85 2357.62 L2164.85 2377.77 L2158.96 2377.77 L2158.96 2342.12 L2164.85 2342.12 L2164.85 2347.66 Q2166.85 2344.38 2169.65 2342.82 Q2172.46 2341.26 2176.31 2341.26 Q2180.19 2341.26 2182.89 2343.24 Q2185.63 2345.21 2186.94 2348.96 Z\" fill=\"#000000\" fill-rule=\"evenodd\" fill-opacity=\"1\" /><path clip-path=\"url(#clip8100)\" d=\"M 0 0 M2247.63 2358.48 L2247.63 2361.35 L2220.71 2361.35 Q2221.09 2367.39 2224.34 2370.58 Q2227.61 2373.73 2233.44 2373.73 Q2236.81 2373.73 2239.96 2372.9 Q2243.15 2372.07 2246.27 2370.42 L2246.27 2375.96 Q2243.11 2377.29 2239.8 2377.99 Q2236.49 2378.69 2233.09 2378.69 Q2224.56 2378.69 2219.56 2373.73 Q2214.6 2368.76 2214.6 2360.3 Q2214.6 2351.54 2219.31 2346.42 Q2224.05 2341.26 2232.07 2341.26 Q2239.26 2341.26 2243.43 2345.91 Q2247.63 2350.52 2247.63 2358.48 M2241.78 2356.76 Q2241.71 2351.96 2239.07 2349.09 Q2236.46 2346.23 2232.13 2346.23 Q2227.23 2346.23 2224.27 2349 Q2221.34 2351.77 2220.9 2356.79 L2241.78 2356.76 Z\" fill=\"#000000\" fill-rule=\"evenodd\" fill-opacity=\"1\" /><path clip-path=\"url(#clip8100)\" d=\"M 0 0 M27.5676 2107.27 L27.5676 2101.41 L63.2156 2101.41 L63.2156 2107.27 L27.5676 2107.27 M13.6904 2107.27 L13.6904 2101.41 L21.1064 2101.41 L21.1064 2107.27 L13.6904 2107.27 Z\" fill=\"#000000\" fill-rule=\"evenodd\" fill-opacity=\"1\" /><path clip-path=\"url(#clip8100)\" d=\"M 0 0 M41.6995 2065.64 L63.2156 2065.64 L63.2156 2071.49 L41.8905 2071.49 Q36.8297 2071.49 34.3153 2073.47 Q31.8008 2075.44 31.8008 2079.39 Q31.8008 2084.13 34.8245 2086.87 Q37.8482 2089.61 43.0681 2089.61 L63.2156 2089.61 L63.2156 2095.49 L27.5676 2095.49 L27.5676 2089.61 L33.1058 2089.61 Q29.8911 2087.5 28.2997 2084.67 Q26.7083 2081.81 26.7083 2078.08 Q26.7083 2071.94 30.5277 2068.79 Q34.3153 2065.64 41.6995 2065.64 Z\" fill=\"#000000\" fill-rule=\"evenodd\" fill-opacity=\"1\" /><path clip-path=\"url(#clip8100)\" d=\"M 0 0 M32.9785 2036.04 L13.6904 2036.04 L13.6904 2030.18 L63.2156 2030.18 L63.2156 2036.04 L57.8684 2036.04 Q61.0512 2037.88 62.6108 2040.72 Q64.1386 2043.52 64.1386 2047.46 Q64.1386 2053.93 58.9824 2058 Q53.8262 2062.04 45.4234 2062.04 Q37.0207 2062.04 31.8645 2058 Q26.7083 2053.93 26.7083 2047.46 Q26.7083 2043.52 28.2679 2040.72 Q29.7956 2037.88 32.9785 2036.04 M45.4234 2055.99 Q51.8846 2055.99 55.5767 2053.35 Q59.237 2050.68 59.237 2046.03 Q59.237 2041.38 55.5767 2038.71 Q51.8846 2036.04 45.4234 2036.04 Q38.9622 2036.04 35.302 2038.71 Q31.6099 2041.38 31.6099 2046.03 Q31.6099 2050.68 35.302 2053.35 Q38.9622 2055.99 45.4234 2055.99 Z\" fill=\"#000000\" fill-rule=\"evenodd\" fill-opacity=\"1\" /><path clip-path=\"url(#clip8100)\" d=\"M 0 0 M27.5676 2024.04 L27.5676 2018.18 L63.2156 2018.18 L63.2156 2024.04 L27.5676 2024.04 M13.6904 2024.04 L13.6904 2018.18 L21.1064 2018.18 L21.1064 2024.04 L13.6904 2024.04 Z\" fill=\"#000000\" fill-rule=\"evenodd\" fill-opacity=\"1\" /><path clip-path=\"url(#clip8100)\" d=\"M 0 0 M28.9363 1986.39 L34.4108 1986.39 Q33.0421 1988.87 32.3737 1991.38 Q31.6735 1993.86 31.6735 1996.41 Q31.6735 2002.11 35.302 2005.26 Q38.8986 2008.41 45.4234 2008.41 Q51.9483 2008.41 55.5767 2005.26 Q59.1734 2002.11 59.1734 1996.41 Q59.1734 1993.86 58.505 1991.38 Q57.8047 1988.87 56.4361 1986.39 L61.847 1986.39 Q62.9928 1988.84 63.5657 1991.48 Q64.1386 1994.09 64.1386 1997.05 Q64.1386 2005.1 59.0779 2009.84 Q54.0171 2014.59 45.4234 2014.59 Q36.7024 2014.59 31.7053 2009.81 Q26.7083 2005 26.7083 1996.67 Q26.7083 1993.96 27.2812 1991.38 Q27.8223 1988.8 28.9363 1986.39 Z\" fill=\"#000000\" fill-rule=\"evenodd\" fill-opacity=\"1\" /><path clip-path=\"url(#clip8100)\" d=\"M 0 0 M45.2961 1964.04 Q45.2961 1971.14 46.9194 1973.88 Q48.5426 1976.61 52.4575 1976.61 Q55.5767 1976.61 57.4228 1974.58 Q59.237 1972.51 59.237 1968.98 Q59.237 1964.11 55.7995 1961.18 Q52.3302 1958.22 46.6011 1958.22 L45.2961 1958.22 L45.2961 1964.04 M42.8772 1952.36 L63.2156 1952.36 L63.2156 1958.22 L57.8047 1958.22 Q61.0512 1960.22 62.6108 1963.21 Q64.1386 1966.21 64.1386 1970.53 Q64.1386 1976.01 61.0831 1979.26 Q57.9957 1982.47 52.8395 1982.47 Q46.8239 1982.47 43.7684 1978.46 Q40.7128 1974.42 40.7128 1966.43 L40.7128 1958.22 L40.1399 1958.22 Q36.0977 1958.22 33.9015 1960.89 Q31.6735 1963.53 31.6735 1968.34 Q31.6735 1971.39 32.4056 1974.29 Q33.1376 1977.19 34.6017 1979.86 L29.1909 1979.86 Q27.9496 1976.65 27.3448 1973.62 Q26.7083 1970.6 26.7083 1967.73 Q26.7083 1960 30.7187 1956.18 Q34.729 1952.36 42.8772 1952.36 Z\" fill=\"#000000\" fill-rule=\"evenodd\" fill-opacity=\"1\" /><path clip-path=\"url(#clip8100)\" d=\"M 0 0 M17.4462 1940.42 L27.5676 1940.42 L27.5676 1928.36 L32.1191 1928.36 L32.1191 1940.42 L51.4709 1940.42 Q55.8314 1940.42 57.0727 1939.25 Q58.314 1938.04 58.314 1934.38 L58.314 1928.36 L63.2156 1928.36 L63.2156 1934.38 Q63.2156 1941.16 60.7011 1943.74 Q58.1548 1946.31 51.4709 1946.31 L32.1191 1946.31 L32.1191 1950.61 L27.5676 1950.61 L27.5676 1946.31 L17.4462 1946.31 L17.4462 1940.42 Z\" fill=\"#000000\" fill-rule=\"evenodd\" fill-opacity=\"1\" /><path clip-path=\"url(#clip8100)\" d=\"M 0 0 M31.6735 1908.41 Q31.6735 1913.12 35.3656 1915.85 Q39.0259 1918.59 45.4234 1918.59 Q51.821 1918.59 55.5131 1915.89 Q59.1734 1913.15 59.1734 1908.41 Q59.1734 1903.73 55.4813 1900.99 Q51.7891 1898.25 45.4234 1898.25 Q39.0896 1898.25 35.3974 1900.99 Q31.6735 1903.73 31.6735 1908.41 M26.7083 1908.41 Q26.7083 1900.77 31.6735 1896.41 Q36.6388 1892.05 45.4234 1892.05 Q54.1763 1892.05 59.1734 1896.41 Q64.1386 1900.77 64.1386 1908.41 Q64.1386 1916.08 59.1734 1920.44 Q54.1763 1924.77 45.4234 1924.77 Q36.6388 1924.77 31.6735 1920.44 Q26.7083 1916.08 26.7083 1908.41 Z\" fill=\"#000000\" fill-rule=\"evenodd\" fill-opacity=\"1\" /><path clip-path=\"url(#clip8100)\" d=\"M 0 0 M33.0421 1865.25 Q32.4692 1866.23 32.2146 1867.41 Q31.9281 1868.56 31.9281 1869.96 Q31.9281 1874.92 35.1746 1877.6 Q38.3893 1880.24 44.4368 1880.24 L63.2156 1880.24 L63.2156 1886.13 L27.5676 1886.13 L27.5676 1880.24 L33.1058 1880.24 Q29.8593 1878.39 28.2997 1875.43 Q26.7083 1872.47 26.7083 1868.24 Q26.7083 1867.63 26.8037 1866.9 Q26.8674 1866.17 27.0265 1865.28 L33.0421 1865.25 Z\" fill=\"#000000\" fill-rule=\"evenodd\" fill-opacity=\"1\" /><path clip-path=\"url(#clip8100)\" d=\"M 0 0 M28.618 1836.38 L34.1561 1836.38 Q32.883 1838.86 32.2464 1841.53 Q31.6099 1844.21 31.6099 1847.07 Q31.6099 1851.43 32.9467 1853.63 Q34.2834 1855.79 36.957 1855.79 Q38.9941 1855.79 40.1717 1854.23 Q41.3176 1852.67 42.3679 1847.96 L42.8135 1845.96 Q44.1503 1839.72 46.6011 1837.11 Q49.0201 1834.47 53.3806 1834.47 Q58.3458 1834.47 61.2422 1838.41 Q64.1386 1842.33 64.1386 1849.2 Q64.1386 1852.07 63.5657 1855.19 Q63.0246 1858.28 61.9106 1861.71 L55.8632 1861.71 Q57.5501 1858.47 58.4095 1855.32 Q59.237 1852.16 59.237 1849.08 Q59.237 1844.94 57.8366 1842.71 Q56.4043 1840.48 53.8262 1840.48 Q51.439 1840.48 50.1659 1842.11 Q48.8927 1843.7 47.7151 1849.14 L47.2377 1851.18 Q46.0918 1856.62 43.7365 1859.04 Q41.3494 1861.46 37.2117 1861.46 Q32.1828 1861.46 29.4455 1857.89 Q26.7083 1854.33 26.7083 1847.77 Q26.7083 1844.53 27.1857 1841.66 Q27.6631 1838.8 28.618 1836.38 Z\" fill=\"#000000\" fill-rule=\"evenodd\" fill-opacity=\"1\" /><polyline clip-path=\"url(#clip8104)\" style=\"stroke:#009af9; stroke-width:4; stroke-opacity:1; fill:none\" points=\"\n",
       "  1943.42,1903.12 1981.54,1909.01 \n",
       "  \"/>\n",
       "<polyline clip-path=\"url(#clip8104)\" style=\"stroke:#009af9; stroke-width:4; stroke-opacity:1; fill:none\" points=\"\n",
       "  2357.83,1791.18 2392.26,1819.17 2432.84,1749.94 2467.27,1851.57 \n",
       "  \"/>\n",
       "<polyline clip-path=\"url(#clip8104)\" style=\"stroke:#009af9; stroke-width:4; stroke-opacity:1; fill:none\" points=\"\n",
       "  2806.67,1819.17 2841.1,1738.16 2880.45,1773.51 \n",
       "  \"/>\n",
       "<polyline clip-path=\"url(#clip8104)\" style=\"stroke:#009af9; stroke-width:4; stroke-opacity:1; fill:none\" points=\"\n",
       "  3142.37,1780.87 3181.72,1757.31 \n",
       "  \"/>\n",
       "<polyline clip-path=\"url(#clip8104)\" style=\"stroke:#009af9; stroke-width:4; stroke-opacity:1; fill:none\" points=\"\n",
       "  3255.5,1800.02 3289.93,1847.15 \n",
       "  \"/>\n",
       "<polyline clip-path=\"url(#clip8104)\" style=\"stroke:#009af9; stroke-width:4; stroke-opacity:1; fill:none\" points=\"\n",
       "  3591.21,1914.9 3629.33,1931.1 \n",
       "  \"/>\n",
       "<polyline clip-path=\"url(#clip8104)\" style=\"stroke:#009af9; stroke-width:4; stroke-opacity:1; fill:none\" points=\"\n",
       "  3741.23,1926.68 3778.12,1972.34 \n",
       "  \"/>\n",
       "<path clip-path=\"url(#clip8100)\" d=\"\n",
       "M1545.5 1974.91 L2477.58 1974.91 L2477.58 1853.95 L1545.5 1853.95  Z\n",
       "  \" fill=\"#ffffff\" fill-rule=\"evenodd\" fill-opacity=\"1\"/>\n",
       "<polyline clip-path=\"url(#clip8100)\" style=\"stroke:#000000; stroke-width:4; stroke-opacity:1; fill:none\" points=\"\n",
       "  1545.5,1974.91 2477.58,1974.91 2477.58,1853.95 1545.5,1853.95 1545.5,1974.91 \n",
       "  \"/>\n",
       "<polyline clip-path=\"url(#clip8100)\" style=\"stroke:#009af9; stroke-width:4; stroke-opacity:1; fill:none\" points=\"\n",
       "  1587.5,1914.43 1839.5,1914.43 \n",
       "  \"/>\n",
       "<path clip-path=\"url(#clip8100)\" d=\"M 0 0 M1881.5 1897.15 L1886.18 1897.15 L1886.18 1931.71 L1881.5 1931.71 L1881.5 1897.15 Z\" fill=\"#000000\" fill-rule=\"evenodd\" fill-opacity=\"1\" /><path clip-path=\"url(#clip8100)\" d=\"M 0 0 M1911.55 1898.28 L1911.55 1902.84 Q1908.89 1901.57 1906.53 1900.94 Q1904.16 1900.32 1901.97 1900.32 Q1898.15 1900.32 1896.06 1901.8 Q1894 1903.28 1894 1906.01 Q1894 1908.3 1895.37 1909.48 Q1896.76 1910.64 1900.6 1911.36 L1903.42 1911.94 Q1908.66 1912.93 1911.13 1915.46 Q1913.63 1917.96 1913.63 1922.17 Q1913.63 1927.19 1910.25 1929.78 Q1906.9 1932.38 1900.39 1932.38 Q1897.94 1932.38 1895.16 1931.82 Q1892.41 1931.27 1889.44 1930.18 L1889.44 1925.36 Q1892.29 1926.96 1895.02 1927.77 Q1897.75 1928.58 1900.39 1928.58 Q1904.4 1928.58 1906.57 1927.01 Q1908.75 1925.43 1908.75 1922.52 Q1908.75 1919.97 1907.17 1918.53 Q1905.62 1917.1 1902.06 1916.38 L1899.21 1915.83 Q1893.98 1914.78 1891.64 1912.56 Q1889.3 1910.34 1889.3 1906.38 Q1889.3 1901.8 1892.52 1899.16 Q1895.76 1896.52 1901.43 1896.52 Q1903.86 1896.52 1906.39 1896.96 Q1908.91 1897.4 1911.55 1898.28 Z\" fill=\"#000000\" fill-rule=\"evenodd\" fill-opacity=\"1\" /><path clip-path=\"url(#clip8100)\" d=\"M 0 0 M1918.28 1897.15 L1925.25 1897.15 L1934.07 1920.66 L1942.94 1897.15 L1949.9 1897.15 L1949.9 1931.71 L1945.34 1931.71 L1945.34 1901.36 L1936.43 1925.06 L1931.73 1925.06 L1922.82 1901.36 L1922.82 1931.71 L1918.28 1931.71 L1918.28 1897.15 Z\" fill=\"#000000\" fill-rule=\"evenodd\" fill-opacity=\"1\" /><path clip-path=\"url(#clip8100)\" d=\"M 0 0 M1974.07 1939.58 L1974.07 1942.89 L1949.44 1942.89 L1949.44 1939.58 L1974.07 1939.58 Z\" fill=\"#000000\" fill-rule=\"evenodd\" fill-opacity=\"1\" /><path clip-path=\"url(#clip8100)\" d=\"M 0 0 M1978.72 1897.15 L1985.69 1897.15 L1994.51 1920.66 L2003.38 1897.15 L2010.34 1897.15 L2010.34 1931.71 L2005.78 1931.71 L2005.78 1901.36 L1996.87 1925.06 L1992.17 1925.06 L1983.26 1901.36 L1983.26 1931.71 L1978.72 1931.71 L1978.72 1897.15 Z\" fill=\"#000000\" fill-rule=\"evenodd\" fill-opacity=\"1\" /><path clip-path=\"url(#clip8100)\" d=\"M 0 0 M2027.94 1895.69 L2027.94 1899.23 L2023.86 1899.23 Q2021.57 1899.23 2020.67 1900.15 Q2019.79 1901.08 2019.79 1903.49 L2019.79 1905.78 L2026.8 1905.78 L2026.8 1909.09 L2019.79 1909.09 L2019.79 1931.71 L2015.51 1931.71 L2015.51 1909.09 L2011.43 1909.09 L2011.43 1905.78 L2015.51 1905.78 L2015.51 1903.97 Q2015.51 1899.65 2017.52 1897.68 Q2019.53 1895.69 2023.91 1895.69 L2027.94 1895.69 Z\" fill=\"#000000\" fill-rule=\"evenodd\" fill-opacity=\"1\" /><path clip-path=\"url(#clip8100)\" d=\"M 0 0 M2051.06 1906.78 L2051.06 1910.76 Q2049.26 1909.76 2047.43 1909.28 Q2045.62 1908.77 2043.77 1908.77 Q2039.63 1908.77 2037.33 1911.4 Q2035.04 1914.02 2035.04 1918.77 Q2035.04 1923.51 2037.33 1926.15 Q2039.63 1928.77 2043.77 1928.77 Q2045.62 1928.77 2047.43 1928.28 Q2049.26 1927.77 2051.06 1926.78 L2051.06 1930.71 Q2049.28 1931.54 2047.36 1931.96 Q2045.46 1932.38 2043.31 1932.38 Q2037.45 1932.38 2034 1928.7 Q2030.55 1925.02 2030.55 1918.77 Q2030.55 1912.42 2034.02 1908.79 Q2037.52 1905.15 2043.58 1905.15 Q2045.55 1905.15 2047.43 1905.57 Q2049.3 1905.96 2051.06 1906.78 Z\" fill=\"#000000\" fill-rule=\"evenodd\" fill-opacity=\"1\" /><path clip-path=\"url(#clip8100)\" d=\"M 0 0 M2075.23 1939.58 L2075.23 1942.89 L2050.6 1942.89 L2050.6 1939.58 L2075.23 1939.58 Z\" fill=\"#000000\" fill-rule=\"evenodd\" fill-opacity=\"1\" /><path clip-path=\"url(#clip8100)\" d=\"M 0 0 M2079.88 1897.15 L2101.73 1897.15 L2101.73 1901.08 L2084.56 1901.08 L2084.56 1911.31 L2101.02 1911.31 L2101.02 1915.25 L2084.56 1915.25 L2084.56 1927.77 L2102.15 1927.77 L2102.15 1931.71 L2079.88 1931.71 L2079.88 1897.15 Z\" fill=\"#000000\" fill-rule=\"evenodd\" fill-opacity=\"1\" /><path clip-path=\"url(#clip8100)\" d=\"M 0 0 M2126.8 1910.76 Q2128.4 1907.89 2130.62 1906.52 Q2132.84 1905.15 2135.85 1905.15 Q2139.9 1905.15 2142.1 1908 Q2144.3 1910.83 2144.3 1916.06 L2144.3 1931.71 L2140.02 1931.71 L2140.02 1916.2 Q2140.02 1912.47 2138.7 1910.66 Q2137.38 1908.86 2134.67 1908.86 Q2131.36 1908.86 2129.44 1911.06 Q2127.52 1913.26 2127.52 1917.05 L2127.52 1931.71 L2123.24 1931.71 L2123.24 1916.2 Q2123.24 1912.45 2121.92 1910.66 Q2120.6 1908.86 2117.84 1908.86 Q2114.58 1908.86 2112.66 1911.08 Q2110.74 1913.28 2110.74 1917.05 L2110.74 1931.71 L2106.45 1931.71 L2106.45 1905.78 L2110.74 1905.78 L2110.74 1909.81 Q2112.2 1907.42 2114.23 1906.29 Q2116.27 1905.15 2119.07 1905.15 Q2121.89 1905.15 2123.86 1906.59 Q2125.85 1908.03 2126.8 1910.76 Z\" fill=\"#000000\" fill-rule=\"evenodd\" fill-opacity=\"1\" /><path clip-path=\"url(#clip8100)\" d=\"M 0 0 M2152.89 1927.82 L2152.89 1941.57 L2148.61 1941.57 L2148.61 1905.78 L2152.89 1905.78 L2152.89 1909.71 Q2154.23 1907.4 2156.27 1906.29 Q2158.33 1905.15 2161.18 1905.15 Q2165.9 1905.15 2168.84 1908.9 Q2171.8 1912.65 2171.8 1918.77 Q2171.8 1924.88 2168.84 1928.63 Q2165.9 1932.38 2161.18 1932.38 Q2158.33 1932.38 2156.27 1931.27 Q2154.23 1930.13 2152.89 1927.82 M2167.38 1918.77 Q2167.38 1914.07 2165.44 1911.4 Q2163.51 1908.72 2160.14 1908.72 Q2156.76 1908.72 2154.81 1911.4 Q2152.89 1914.07 2152.89 1918.77 Q2152.89 1923.46 2154.81 1926.15 Q2156.76 1928.81 2160.14 1928.81 Q2163.51 1928.81 2165.44 1926.15 Q2167.38 1923.46 2167.38 1918.77 Z\" fill=\"#000000\" fill-rule=\"evenodd\" fill-opacity=\"1\" /><path clip-path=\"url(#clip8100)\" d=\"M 0 0 M2195.97 1939.58 L2195.97 1942.89 L2171.34 1942.89 L2171.34 1939.58 L2195.97 1939.58 Z\" fill=\"#000000\" fill-rule=\"evenodd\" fill-opacity=\"1\" /><path clip-path=\"url(#clip8100)\" d=\"M 0 0 M2216.96 1906.54 L2216.96 1910.57 Q2215.16 1909.65 2213.21 1909.18 Q2211.27 1908.72 2209.19 1908.72 Q2206.01 1908.72 2204.42 1909.69 Q2202.84 1910.66 2202.84 1912.61 Q2202.84 1914.09 2203.98 1914.95 Q2205.11 1915.78 2208.54 1916.54 L2210 1916.87 Q2214.53 1917.84 2216.43 1919.62 Q2218.35 1921.38 2218.35 1924.55 Q2218.35 1928.16 2215.48 1930.27 Q2212.63 1932.38 2207.63 1932.38 Q2205.55 1932.38 2203.28 1931.96 Q2201.04 1931.57 2198.54 1930.76 L2198.54 1926.36 Q2200.9 1927.59 2203.19 1928.21 Q2205.48 1928.81 2207.73 1928.81 Q2210.74 1928.81 2212.36 1927.79 Q2213.98 1926.75 2213.98 1924.88 Q2213.98 1923.14 2212.8 1922.21 Q2211.64 1921.29 2207.68 1920.43 L2206.2 1920.09 Q2202.24 1919.25 2200.48 1917.54 Q2198.72 1915.8 2198.72 1912.79 Q2198.72 1909.14 2201.32 1907.15 Q2203.91 1905.15 2208.68 1905.15 Q2211.04 1905.15 2213.12 1905.5 Q2215.2 1905.85 2216.96 1906.54 Z\" fill=\"#000000\" fill-rule=\"evenodd\" fill-opacity=\"1\" /><path clip-path=\"url(#clip8100)\" d=\"M 0 0 M2244.37 1916.06 L2244.37 1931.71 L2240.11 1931.71 L2240.11 1916.2 Q2240.11 1912.52 2238.68 1910.69 Q2237.24 1908.86 2234.37 1908.86 Q2230.92 1908.86 2228.93 1911.06 Q2226.94 1913.26 2226.94 1917.05 L2226.94 1931.71 L2222.66 1931.71 L2222.66 1895.69 L2226.94 1895.69 L2226.94 1909.81 Q2228.47 1907.47 2230.53 1906.31 Q2232.61 1905.15 2235.32 1905.15 Q2239.79 1905.15 2242.08 1907.93 Q2244.37 1910.69 2244.37 1916.06 Z\" fill=\"#000000\" fill-rule=\"evenodd\" fill-opacity=\"1\" /><path clip-path=\"url(#clip8100)\" d=\"M 0 0 M2248.84 1905.78 L2253.1 1905.78 L2253.1 1931.71 L2248.84 1931.71 L2248.84 1905.78 M2248.84 1895.69 L2253.1 1895.69 L2253.1 1901.08 L2248.84 1901.08 L2248.84 1895.69 Z\" fill=\"#000000\" fill-rule=\"evenodd\" fill-opacity=\"1\" /><path clip-path=\"url(#clip8100)\" d=\"M 0 0 M2270.69 1895.69 L2270.69 1899.23 L2266.62 1899.23 Q2264.32 1899.23 2263.42 1900.15 Q2262.54 1901.08 2262.54 1903.49 L2262.54 1905.78 L2269.56 1905.78 L2269.56 1909.09 L2262.54 1909.09 L2262.54 1931.71 L2258.26 1931.71 L2258.26 1909.09 L2254.19 1909.09 L2254.19 1905.78 L2258.26 1905.78 L2258.26 1903.97 Q2258.26 1899.65 2260.27 1897.68 Q2262.29 1895.69 2266.66 1895.69 L2270.69 1895.69 Z\" fill=\"#000000\" fill-rule=\"evenodd\" fill-opacity=\"1\" /><path clip-path=\"url(#clip8100)\" d=\"M 0 0 M2278.54 1898.42 L2278.54 1905.78 L2287.31 1905.78 L2287.31 1909.09 L2278.54 1909.09 L2278.54 1923.16 Q2278.54 1926.34 2279.39 1927.24 Q2280.27 1928.14 2282.94 1928.14 L2287.31 1928.14 L2287.31 1931.71 L2282.94 1931.71 Q2278 1931.71 2276.13 1929.88 Q2274.25 1928.03 2274.25 1923.16 L2274.25 1909.09 L2271.13 1909.09 L2271.13 1905.78 L2274.25 1905.78 L2274.25 1898.42 L2278.54 1898.42 Z\" fill=\"#000000\" fill-rule=\"evenodd\" fill-opacity=\"1\" /><path clip-path=\"url(#clip8100)\" d=\"M 0 0 M2313.95 1917.68 L2313.95 1919.76 L2294.37 1919.76 Q2294.65 1924.16 2297.01 1926.47 Q2299.39 1928.77 2303.63 1928.77 Q2306.08 1928.77 2308.38 1928.16 Q2310.69 1927.56 2312.96 1926.36 L2312.96 1930.39 Q2310.67 1931.36 2308.26 1931.87 Q2305.85 1932.38 2303.38 1932.38 Q2297.17 1932.38 2293.54 1928.77 Q2289.93 1925.15 2289.93 1919 Q2289.93 1912.63 2293.35 1908.9 Q2296.8 1905.15 2302.63 1905.15 Q2307.87 1905.15 2310.9 1908.53 Q2313.95 1911.89 2313.95 1917.68 M2309.69 1916.43 Q2309.65 1912.93 2307.73 1910.85 Q2305.83 1908.77 2302.68 1908.77 Q2299.12 1908.77 2296.96 1910.78 Q2294.83 1912.79 2294.51 1916.45 L2309.69 1916.43 Z\" fill=\"#000000\" fill-rule=\"evenodd\" fill-opacity=\"1\" /><path clip-path=\"url(#clip8100)\" d=\"M 0 0 M2335.48 1909.71 L2335.48 1895.69 L2339.74 1895.69 L2339.74 1931.71 L2335.48 1931.71 L2335.48 1927.82 Q2334.14 1930.13 2332.08 1931.27 Q2330.04 1932.38 2327.17 1932.38 Q2322.47 1932.38 2319.51 1928.63 Q2316.57 1924.88 2316.57 1918.77 Q2316.57 1912.65 2319.51 1908.9 Q2322.47 1905.15 2327.17 1905.15 Q2330.04 1905.15 2332.08 1906.29 Q2334.14 1907.4 2335.48 1909.71 M2320.97 1918.77 Q2320.97 1923.46 2322.89 1926.15 Q2324.83 1928.81 2328.21 1928.81 Q2331.59 1928.81 2333.54 1926.15 Q2335.48 1923.46 2335.48 1918.77 Q2335.48 1914.07 2333.54 1911.4 Q2331.59 1908.72 2328.21 1908.72 Q2324.83 1908.72 2322.89 1911.4 Q2320.97 1914.07 2320.97 1918.77 Z\" fill=\"#000000\" fill-rule=\"evenodd\" fill-opacity=\"1\" /><path clip-path=\"url(#clip8100)\" d=\"M 0 0 M2344.95 1930.99 L2344.95 1926.73 Q2346.71 1927.56 2348.51 1928 Q2350.32 1928.44 2352.06 1928.44 Q2356.69 1928.44 2359.12 1925.34 Q2361.57 1922.21 2361.92 1915.87 Q2360.57 1917.86 2358.51 1918.93 Q2356.45 1919.99 2353.95 1919.99 Q2348.77 1919.99 2345.74 1916.87 Q2342.73 1913.72 2342.73 1908.28 Q2342.73 1902.96 2345.87 1899.74 Q2349.02 1896.52 2354.25 1896.52 Q2360.25 1896.52 2363.4 1901.13 Q2366.57 1905.71 2366.57 1914.46 Q2366.57 1922.63 2362.68 1927.52 Q2358.81 1932.38 2352.26 1932.38 Q2350.5 1932.38 2348.7 1932.03 Q2346.89 1931.68 2344.95 1930.99 M2354.25 1916.34 Q2357.4 1916.34 2359.23 1914.18 Q2361.08 1912.03 2361.08 1908.28 Q2361.08 1904.55 2359.23 1902.4 Q2357.4 1900.22 2354.25 1900.22 Q2351.11 1900.22 2349.25 1902.4 Q2347.43 1904.55 2347.43 1908.28 Q2347.43 1912.03 2349.25 1914.18 Q2351.11 1916.34 2354.25 1916.34 Z\" fill=\"#000000\" fill-rule=\"evenodd\" fill-opacity=\"1\" /><path clip-path=\"url(#clip8100)\" d=\"M 0 0 M2381.64 1900.22 Q2378.03 1900.22 2376.2 1903.79 Q2374.39 1907.33 2374.39 1914.46 Q2374.39 1921.57 2376.2 1925.13 Q2378.03 1928.67 2381.64 1928.67 Q2385.27 1928.67 2387.08 1925.13 Q2388.91 1921.57 2388.91 1914.46 Q2388.91 1907.33 2387.08 1903.79 Q2385.27 1900.22 2381.64 1900.22 M2381.64 1896.52 Q2387.45 1896.52 2390.5 1901.13 Q2393.58 1905.71 2393.58 1914.46 Q2393.58 1923.19 2390.5 1927.79 Q2387.45 1932.38 2381.64 1932.38 Q2375.83 1932.38 2372.75 1927.79 Q2369.69 1923.19 2369.69 1914.46 Q2369.69 1905.71 2372.75 1901.13 Q2375.83 1896.52 2381.64 1896.52 Z\" fill=\"#000000\" fill-rule=\"evenodd\" fill-opacity=\"1\" /></svg>\n"
      ]
     },
     "execution_count": 84,
     "metadata": {},
     "output_type": "execute_result"
    }
   ],
   "source": [
    "periods = df4[:,1] # all rows, first column\n",
    "println(periods[begin], \" to \", periods[end])\n",
    "gr()\n",
    "plot(periods, \n",
    "    title=\"ISM Manufacturing\",\n",
    "    [  df4[:,4] df4[:,3] df4[:,5] ], \n",
    "    label    = [\"Markkit_Mfc_PMI\" \"ISM_Mfc_Emp\" \"ISM_Mfc_Emp_shifted90\"],\n",
    "    legend    =:bottom, # :right, :left, :top, :bottom, :inside, :best, :legend, :topright, :topleft, :bottomleft, :bottomright\n",
    "    xlabel   = \"time\",\n",
    "    ylabel   = \"indicators\",\n",
    "    size     = (1050, 600), # width, height\n",
    "    layout = (3, 1) # number of seperate plots VERTICALLY, HORIZONTALLY\n",
    "    )\n"
   ]
  },
  {
   "cell_type": "markdown",
   "metadata": {},
   "source": [
    "# Extract Data"
   ]
  },
  {
   "cell_type": "code",
   "execution_count": null,
   "metadata": {},
   "outputs": [],
   "source": [
    "# rotate the matrix (switch columns to rows) - does not work on DataFrame)\n",
    "# data = data' "
   ]
  },
  {
   "cell_type": "markdown",
   "metadata": {},
   "source": [
    "## Extract Independent Variables (i.e. features)"
   ]
  },
  {
   "cell_type": "code",
   "execution_count": null,
   "metadata": {},
   "outputs": [],
   "source": [
    "x = rawdata[1:13,:]     # independent variables: all rows before last"
   ]
  },
  {
   "cell_type": "markdown",
   "metadata": {},
   "source": [
    "## Extract Dependent Variable (i.e. price)"
   ]
  },
  {
   "cell_type": "code",
   "execution_count": null,
   "metadata": {},
   "outputs": [],
   "source": [
    "y = rawdata[14:14,:]          # Dependent Variable (price) last ROW"
   ]
  },
  {
   "cell_type": "markdown",
   "metadata": {},
   "source": [
    "# Normalize the data"
   ]
  },
  {
   "cell_type": "markdown",
   "metadata": {},
   "source": [
    "## Show mean() values \n",
    "\n",
    "Calculate mean values for each feature in the 2-dimentional matrix."
   ]
  },
  {
   "cell_type": "code",
   "execution_count": null,
   "metadata": {},
   "outputs": [],
   "source": [
    "mean(x, dims = 2)"
   ]
  },
  {
   "cell_type": "markdown",
   "metadata": {},
   "source": [
    "## Show std() values \n",
    "\n",
    "Calculate sample standard deviation (STD).\n",
    "\n",
    "- https://docs.julialang.org/en/v1/stdlib/Statistics/"
   ]
  },
  {
   "cell_type": "code",
   "execution_count": null,
   "metadata": {},
   "outputs": [],
   "source": [
    "std(x, dims = 2) "
   ]
  },
  {
   "cell_type": "markdown",
   "metadata": {},
   "source": [
    "## Normalize the independent variables"
   ]
  },
  {
   "cell_type": "code",
   "execution_count": null,
   "metadata": {},
   "outputs": [],
   "source": [
    "x = (x .- mean(x, dims = 2)) ./ std(x, dims = 2) # math on 13× Arrays"
   ]
  },
  {
   "cell_type": "code",
   "execution_count": null,
   "metadata": {},
   "outputs": [],
   "source": [
    "records = size(x,2) # number of columns"
   ]
  },
  {
   "cell_type": "code",
   "execution_count": null,
   "metadata": {},
   "outputs": [],
   "source": [
    "args = Hyperparams()"
   ]
  },
  {
   "cell_type": "code",
   "execution_count": null,
   "metadata": {},
   "outputs": [],
   "source": [
    "split_ratio = args.split_ratio\n",
    "\n",
    "split_index = floor(Int, records * split_ratio)"
   ]
  },
  {
   "cell_type": "code",
   "execution_count": null,
   "metadata": {},
   "outputs": [],
   "source": [
    "x_train = x[:,1:split_index]           # training features\n",
    "y_train = y[:,1:split_index]           # training results\n",
    "x_test = x[:,split_index+1:records]  # testing features\n",
    "y_test = y[:,split_index+1:records]  # testing results"
   ]
  },
  {
   "cell_type": "code",
   "execution_count": null,
   "metadata": {},
   "outputs": [],
   "source": [
    "train_data = (x_train, y_train) # tuples\n",
    "test_data = (x_test, y_test)\n",
    "size(test_data[1])"
   ]
  },
  {
   "cell_type": "code",
   "execution_count": null,
   "metadata": {},
   "outputs": [],
   "source": [
    "function get_processed_data(args) # expects struct Hyperparams\n",
    "\n",
    "    isfile(\"housing.data\") ||\n",
    "        download(\n",
    "            \"https://raw.githubusercontent.com/MikeInnes/notebooks/master/housing.data\",\n",
    "            \"housing.data\")\n",
    "\n",
    "    rawdata = readdlm(\"housing.data\")'\n",
    "\n",
    "    # The last feature is our target -- the price of the house.\n",
    "    split_ratio = args.split_ratio # For the train/test split\n",
    "\n",
    "    x = rawdata[1:13,:]\n",
    "    y = rawdata[14:14,:]\n",
    "\n",
    "    # Normalise the data\n",
    "    x = (x .- mean(x, dims = 2)) ./ std(x, dims = 2)\n",
    "\n",
    "    # Split into train and test sets\n",
    "    split_index = floor(Int,size(x,2)*split_ratio)\n",
    "    x_train = x[:,1:split_index]\n",
    "    y_train = y[:,1:split_index]\n",
    "    x_test = x[:,split_index+1:size(x,2)]\n",
    "    y_test = y[:,split_index+1:size(x,2)]\n",
    "\n",
    "    train_data = (x_train, y_train)\n",
    "    test_data = (x_test, y_test)\n",
    "\n",
    "    return train_data,test_data\n",
    "end"
   ]
  },
  {
   "cell_type": "code",
   "execution_count": null,
   "metadata": {},
   "outputs": [],
   "source": [
    "# Struct to define model\n",
    "mutable struct model\n",
    "    W::AbstractArray\n",
    "    b::AbstractVector\n",
    "end"
   ]
  },
  {
   "cell_type": "code",
   "execution_count": null,
   "metadata": {},
   "outputs": [],
   "source": [
    "# Function to predict output from given parameters\n",
    "\n",
    "predict(x, m) = m.W*x .+ m.b"
   ]
  },
  {
   "cell_type": "markdown",
   "metadata": {},
   "source": [
    "# Mean Squared Error (MSE)\n",
    "\n",
    "<center><span style=\"font-size:x-large;\" >$ MSE = \\sum \\limits _{i=1} ^{n} {   \\frac{(ŷ_i - y)^2}{n} }$</span></center>"
   ]
  },
  {
   "cell_type": "code",
   "execution_count": null,
   "metadata": {},
   "outputs": [],
   "source": [
    "n = size(y, 2) # e.g. 505 columns\n",
    "\n",
    "# Mean Squared Error\n",
    "meansquarederror(ŷ, y) = sum((ŷ .- y).^2)/n"
   ]
  },
  {
   "cell_type": "code",
   "execution_count": null,
   "metadata": {},
   "outputs": [],
   "source": [
    "function train(; kws...)\n",
    "    # Initialize the Hyperparamters\n",
    "    args = Hyperparams(; kws...)\n",
    "    \n",
    "    # Load the data\n",
    "    (x_train,y_train),(x_test,y_test) = get_processed_data(args)\n",
    "    \n",
    "    test_data = (x_test,y_test)\n",
    "    \n",
    "    # The model\n",
    "    m = model((randn(1,13)),[0.])\n",
    "    \n",
    "    loss(x, y) = meansquarederror(predict(x, m), y)\n",
    "\n",
    "    ## Training\n",
    "    η = args.learning_rate\n",
    "    θ = params([m.W, m.b])\n",
    "\n",
    "    for i = 1:1000\n",
    "      g = gradient(() -> loss(x_train, y_train), θ)\n",
    "      for x in θ\n",
    "        update!(x, -g[x]*η)\n",
    "      end\n",
    "      if i%100==0\n",
    "          @show loss(x_train, y_train)\n",
    "        end\n",
    "    end\n",
    "    \n",
    "    # Predict the RMSE on the test set\n",
    "    err = meansquarederror(predict(x_test, m),y_test)\n",
    "    println(\"error: \", err)\n",
    "    return m , test_data# model\n",
    "end"
   ]
  },
  {
   "cell_type": "code",
   "execution_count": null,
   "metadata": {},
   "outputs": [],
   "source": [
    "cd(@__DIR__)\n",
    "resulting_model, test_data = train()\n",
    "resulting_model.W"
   ]
  },
  {
   "cell_type": "code",
   "execution_count": null,
   "metadata": {},
   "outputs": [],
   "source": [
    "resulting_model.b"
   ]
  },
  {
   "cell_type": "code",
   "execution_count": null,
   "metadata": {},
   "outputs": [],
   "source": [
    "function test(model, test)\n",
    "    # Testing model performance on test data \n",
    "    X_test, y_test = test\n",
    "    #accuracy_score = accuracy(X_test, y_test, model)\n",
    "\n",
    "    #println(\"\\nAccuracy: $accuracy_score\")\n",
    "\n",
    "    # Sanity check.\n",
    "    #@assert accuracy_score > 0.8\n",
    "\n",
    "    # To avoid confusion, here is the definition of a Confusion Matrix: https://en.wikipedia.org/wiki/Confusion_matrix\n",
    "    println(\"\\nConfusion Matrix:\\n\")\n",
    "    #display(confusion_matrix(X_test, y_test, model))\n",
    "end"
   ]
  },
  {
   "cell_type": "code",
   "execution_count": null,
   "metadata": {},
   "outputs": [],
   "source": [
    "test(model, test_data)\n",
    "features = test_data[1]"
   ]
  },
  {
   "cell_type": "code",
   "execution_count": null,
   "metadata": {},
   "outputs": [],
   "source": [
    "one_record = features[:,1]"
   ]
  },
  {
   "cell_type": "code",
   "execution_count": null,
   "metadata": {},
   "outputs": [],
   "source": [
    "results = test_data[1][1,:]"
   ]
  },
  {
   "cell_type": "code",
   "execution_count": null,
   "metadata": {},
   "outputs": [],
   "source": [
    "records = size(results)[1]"
   ]
  },
  {
   "cell_type": "code",
   "execution_count": null,
   "metadata": {},
   "outputs": [],
   "source": [
    "get_price(data, model) = model.W * data .+ model.b"
   ]
  },
  {
   "cell_type": "code",
   "execution_count": null,
   "metadata": {},
   "outputs": [],
   "source": [
    "get_price(one_record, resulting_model)"
   ]
  },
  {
   "cell_type": "code",
   "execution_count": null,
   "metadata": {},
   "outputs": [],
   "source": [
    "for i in 1:records # 455\n",
    "    record = features[:,i] # 13-element Array{Float64,1}:\n",
    "    result = get_price(record, resulting_model)\n",
    "    println(i, \" \", result, \" =? \", results[1])\n",
    "end"
   ]
  },
  {
   "cell_type": "code",
   "execution_count": null,
   "metadata": {},
   "outputs": [],
   "source": []
  },
  {
   "cell_type": "code",
   "execution_count": null,
   "metadata": {},
   "outputs": [],
   "source": []
  }
 ],
 "metadata": {
  "kernelspec": {
   "display_name": "Julia 1.4.2",
   "language": "julia",
   "name": "julia-1.4"
  },
  "language_info": {
   "file_extension": ".jl",
   "mimetype": "application/julia",
   "name": "julia",
   "version": "1.4.2"
  },
  "toc": {
   "base_numbering": 1,
   "nav_menu": {},
   "number_sections": true,
   "sideBar": true,
   "skip_h1_title": false,
   "title_cell": "Table of Contents",
   "title_sidebar": "Contents",
   "toc_cell": true,
   "toc_position": {
    "height": "calc(100% - 180px)",
    "left": "10px",
    "top": "150px",
    "width": "384px"
   },
   "toc_section_display": true,
   "toc_window_display": true
  }
 },
 "nbformat": 4,
 "nbformat_minor": 4
}
