{
 "cells": [
  {
   "cell_type": "markdown",
   "metadata": {},
   "source": [
    "# Market prediction using Flux.jl"
   ]
  },
  {
   "cell_type": "markdown",
   "metadata": {
    "toc": true
   },
   "source": [
    "<h1>Table of Contents<span class=\"tocSkip\"></span></h1>\n",
    "<div class=\"toc\"><ul class=\"toc-item\"><li><span><a href=\"#Market-prediction-using-Flux.jl\" data-toc-modified-id=\"Market-prediction-using-Flux.jl-1\"><span class=\"toc-item-num\">1&nbsp;&nbsp;</span>Market prediction using Flux.jl</a></span><ul class=\"toc-item\"><li><span><a href=\"#Include-Market-indicators-functions\" data-toc-modified-id=\"Include-Market-indicators-functions-1.1\"><span class=\"toc-item-num\">1.1&nbsp;&nbsp;</span>Include Market indicators functions</a></span></li></ul></li><li><span><a href=\"#Define-Hyperparameters\" data-toc-modified-id=\"Define-Hyperparameters-2\"><span class=\"toc-item-num\">2&nbsp;&nbsp;</span>Define Hyperparameters</a></span></li><li><span><a href=\"#Load--Data\" data-toc-modified-id=\"Load--Data-3\"><span class=\"toc-item-num\">3&nbsp;&nbsp;</span>Load  Data</a></span><ul class=\"toc-item\"><li><span><a href=\"#ISM-Manufacturing-Employment\" data-toc-modified-id=\"ISM-Manufacturing-Employment-3.1\"><span class=\"toc-item-num\">3.1&nbsp;&nbsp;</span>ISM Manufacturing Employment</a></span></li><li><span><a href=\"#Markit---Manufacturing-PMI\" data-toc-modified-id=\"Markit---Manufacturing-PMI-3.2\"><span class=\"toc-item-num\">3.2&nbsp;&nbsp;</span>Markit - Manufacturing PMI</a></span></li></ul></li><li><span><a href=\"#Visualize-the-Data\" data-toc-modified-id=\"Visualize-the-Data-4\"><span class=\"toc-item-num\">4&nbsp;&nbsp;</span>Visualize the Data</a></span><ul class=\"toc-item\"><li><span><a href=\"#Plotting-Data\" data-toc-modified-id=\"Plotting-Data-4.1\"><span class=\"toc-item-num\">4.1&nbsp;&nbsp;</span>Plotting Data</a></span></li></ul></li><li><span><a href=\"#Shift-Employment-by-90-days-back\" data-toc-modified-id=\"Shift-Employment-by-90-days-back-5\"><span class=\"toc-item-num\">5&nbsp;&nbsp;</span>Shift Employment by 90 days back</a></span></li><li><span><a href=\"#Join-DataFrames\" data-toc-modified-id=\"Join-DataFrames-6\"><span class=\"toc-item-num\">6&nbsp;&nbsp;</span>Join DataFrames</a></span><ul class=\"toc-item\"><li><span><a href=\"#Rata-Die\" data-toc-modified-id=\"Rata-Die-6.1\"><span class=\"toc-item-num\">6.1&nbsp;&nbsp;</span>Rata Die</a></span></li></ul></li><li><span><a href=\"#Extract-Data\" data-toc-modified-id=\"Extract-Data-7\"><span class=\"toc-item-num\">7&nbsp;&nbsp;</span>Extract Data</a></span><ul class=\"toc-item\"><li><span><a href=\"#Extract-Independent-Variables-(i.e.-features)\" data-toc-modified-id=\"Extract-Independent-Variables-(i.e.-features)-7.1\"><span class=\"toc-item-num\">7.1&nbsp;&nbsp;</span>Extract Independent Variables (i.e. features)</a></span></li><li><span><a href=\"#Extract-Dependent-Variable-(i.e.-price)\" data-toc-modified-id=\"Extract-Dependent-Variable-(i.e.-price)-7.2\"><span class=\"toc-item-num\">7.2&nbsp;&nbsp;</span>Extract Dependent Variable (i.e. price)</a></span></li></ul></li><li><span><a href=\"#Normalize-the-data\" data-toc-modified-id=\"Normalize-the-data-8\"><span class=\"toc-item-num\">8&nbsp;&nbsp;</span>Normalize the data</a></span><ul class=\"toc-item\"><li><span><a href=\"#Show-mean()-values\" data-toc-modified-id=\"Show-mean()-values-8.1\"><span class=\"toc-item-num\">8.1&nbsp;&nbsp;</span>Show mean() values</a></span></li><li><span><a href=\"#Show-std()-values\" data-toc-modified-id=\"Show-std()-values-8.2\"><span class=\"toc-item-num\">8.2&nbsp;&nbsp;</span>Show std() values</a></span></li><li><span><a href=\"#Normalize-the-independent-variables\" data-toc-modified-id=\"Normalize-the-independent-variables-8.3\"><span class=\"toc-item-num\">8.3&nbsp;&nbsp;</span>Normalize the independent variables</a></span></li></ul></li><li><span><a href=\"#Mean-Squared-Error-(MSE)\" data-toc-modified-id=\"Mean-Squared-Error-(MSE)-9\"><span class=\"toc-item-num\">9&nbsp;&nbsp;</span>Mean Squared Error (MSE)</a></span></li></ul></div>"
   ]
  },
  {
   "cell_type": "markdown",
   "metadata": {},
   "source": [
    "## Include Market indicators functions"
   ]
  },
  {
   "cell_type": "code",
   "execution_count": 3,
   "metadata": {},
   "outputs": [
    {
     "name": "stdout",
     "output_type": "stream",
     "text": [
      "Functions available:\n",
      "df = fetch_data(file_path, date_format=\"yyyy-mm-dd\" )\n",
      "df = shift_dates_by_days!(df, shift_days=-1, date_column=1)\n"
     ]
    },
    {
     "data": {
      "text/plain": [
       "insert_rata_die_column! (generic function with 1 method)"
      ]
     },
     "execution_count": 3,
     "metadata": {},
     "output_type": "execute_result"
    }
   ],
   "source": [
    "# include function that are used in this project\n",
    "include(\"MarketIndicators.jl\")"
   ]
  },
  {
   "cell_type": "code",
   "execution_count": 3,
   "metadata": {},
   "outputs": [
    {
     "name": "stdout",
     "output_type": "stream",
     "text": [
      "Last update: Sep. 8, 2020 09:09\n"
     ]
    }
   ],
   "source": [
    " println( \"Last update: \", Dates.format(Dates.now(), \"u. d, yyyy HH:mm\"))"
   ]
  },
  {
   "cell_type": "markdown",
   "metadata": {},
   "source": [
    "# Define Hyperparameters"
   ]
  },
  {
   "cell_type": "code",
   "execution_count": null,
   "metadata": {},
   "outputs": [],
   "source": [
    "learning_rate = 0.1       # learning rate\n",
    "split_ratio = 0.1         # train/test split ratio 0.1 => 90/10\n",
    "\n",
    "file_ISM_Mfc_Emp = \"data/united-states.ism-manufacturing-employment.csv\"\n",
    "file_Markkit_Mfc_PMI = \"data/united-states.markit-manufacturing-pmi.csv\""
   ]
  },
  {
   "cell_type": "markdown",
   "metadata": {},
   "source": [
    "# Load  Data\n"
   ]
  },
  {
   "cell_type": "markdown",
   "metadata": {},
   "source": [
    "## ISM Manufacturing Employment"
   ]
  },
  {
   "cell_type": "code",
   "execution_count": null,
   "metadata": {},
   "outputs": [],
   "source": [
    "df_ISM_Mfc_Emp = fetch_data(file_ISM_Mfc_Emp, \"yyyy.mm.dd\")"
   ]
  },
  {
   "cell_type": "markdown",
   "metadata": {},
   "source": [
    "## Markit - Manufacturing PMI"
   ]
  },
  {
   "cell_type": "code",
   "execution_count": null,
   "metadata": {},
   "outputs": [],
   "source": [
    "df_Markkit_Mfc_PMI = fetch_data(file_Markkit_Mfc_PMI, \"yyyy.mm.dd\")"
   ]
  },
  {
   "cell_type": "markdown",
   "metadata": {},
   "source": [
    "# Visualize the Data\n",
    "\n",
    "Visualization of the data is important to identify:\n",
    "- possible correlations (patterns)\n",
    "- missing data (e.g. before certain date)\n",
    "- wrong types of data (text vs. numbers, etc.)"
   ]
  },
  {
   "cell_type": "markdown",
   "metadata": {},
   "source": [
    "## Plotting Data"
   ]
  },
  {
   "cell_type": "code",
   "execution_count": null,
   "metadata": {},
   "outputs": [],
   "source": [
    "df = df_Markkit_Mfc_PMI\n",
    "periods = df[:,1] # all rows, first column\n",
    "println(periods[begin], \" to \", periods[end])\n",
    "gr()\n",
    "plot(periods, \n",
    "    [df[:,2]  df[:,3] df[:,4] ], \n",
    "    label    = [\"actuals\" \"forcast\" \"previous\"],\n",
    "    legend    =:topleft, # :right, :left, :top, :bottom, :inside, :best, :legend, :topright, :topleft, :bottomleft, :bottomright\n",
    "    xlabel   = \"time\",\n",
    "    ylabel   = \"indicators\",\n",
    "    size     = (1750, 600), # width, height\n",
    "    layout = (1, 1) # number of seperate plots VERTICALLY, HORIZONTALLY\n",
    "    )"
   ]
  },
  {
   "cell_type": "code",
   "execution_count": null,
   "metadata": {},
   "outputs": [],
   "source": [
    "df = df_ISM_Mfc_Emp\n",
    "periods = df[:,1] # all rows, first column\n",
    "println(periods[begin], \" to \", periods[end])\n",
    "gr()\n",
    "plot(periods, \n",
    "    [df[:,2]  df[:,3] df[:,4] ], \n",
    "    label    = [\"actuals\" \"forcast\" \"previous\"],\n",
    "    legend    =:topleft, # :right, :left, :top, :bottom, :inside, :best, :legend, :topright, :topleft, :bottomleft, :bottomright\n",
    "    xlabel   = \"time\",\n",
    "    ylabel   = \"indicators\",\n",
    "    size     = (1750, 600), # width, height\n",
    "    layout = (1, 1) # number of seperate plots VERTICALLY, HORIZONTALLY\n",
    "    )"
   ]
  },
  {
   "cell_type": "code",
   "execution_count": null,
   "metadata": {},
   "outputs": [],
   "source": [
    "df1 = df_ISM_Mfc_Emp[:,1:2] # all rows, columns: Date and Actuals\n",
    "rename!(df1, [:Date, :ISM_Mfc_Emp ], makeunique=true)\n",
    "size(df1)"
   ]
  },
  {
   "cell_type": "code",
   "execution_count": null,
   "metadata": {},
   "outputs": [],
   "source": [
    "df1[1,:]"
   ]
  },
  {
   "cell_type": "code",
   "execution_count": null,
   "metadata": {},
   "outputs": [],
   "source": [
    "df2 = df_Markkit_Mfc_PMI[end-81:end,1:2] # last 82 rows, columns: Date and Actuals\n",
    "rename!(df2, [:Date, :Markkit_Mfc_PMI ], makeunique=true)\n",
    "size(df2)"
   ]
  },
  {
   "cell_type": "code",
   "execution_count": null,
   "metadata": {},
   "outputs": [],
   "source": [
    "df2[1,:]"
   ]
  },
  {
   "cell_type": "code",
   "execution_count": null,
   "metadata": {},
   "outputs": [],
   "source": [
    "periods = df2[:,1] # all rows, first column\n",
    "println(periods[begin], \" to \", periods[end])\n",
    "gr()\n",
    "plot(periods, \n",
    "    title=\"ISM Manufacturing\",\n",
    "    [df1[:,2]  df2[:,2]], \n",
    "    label    = [\"employment (actuals)\" \"PMI (actuals)\"],\n",
    "    legend    =:bottomleft, # :right, :left, :top, :bottom, :inside, :best, :legend, :topright, :topleft, :bottomleft, :bottomright\n",
    "    xlabel   = \"time\",\n",
    "    ylabel   = \"indicators\",\n",
    "    size     = (1750, 600), # width, height\n",
    "    layout = (1, 1) # number of seperate plots VERTICALLY, HORIZONTALLY\n",
    "    )"
   ]
  },
  {
   "cell_type": "markdown",
   "metadata": {},
   "source": [
    "# Shift Employment by 90 days back"
   ]
  },
  {
   "cell_type": "code",
   "execution_count": null,
   "metadata": {},
   "outputs": [],
   "source": [
    "df3 = df_ISM_Mfc_Emp[:,1:2] # all rows, columns: Date and Actuals\n",
    "df3 = shift_dates_by_days!(df3, -90, 1)\n",
    "rename!(df3, [:Date, :ISM_Mfc_Emp_shifted90 ], makeunique=true)"
   ]
  },
  {
   "cell_type": "code",
   "execution_count": null,
   "metadata": {},
   "outputs": [],
   "source": []
  },
  {
   "cell_type": "markdown",
   "metadata": {},
   "source": [
    "# Join DataFrames"
   ]
  },
  {
   "cell_type": "code",
   "execution_count": null,
   "metadata": {},
   "outputs": [],
   "source": [
    "df4 = join(df1, df2, on=:Date,kind=:outer, makeunique=true)\n",
    "df4 = join(df4, df3, on=:Date,kind=:outer, makeunique=true)\n",
    "sort!(df4, [:Date]);\n",
    "df4[50:end-30,:]"
   ]
  },
  {
   "cell_type": "markdown",
   "metadata": {},
   "source": [
    "## Rata Die"
   ]
  },
  {
   "cell_type": "code",
   "execution_count": null,
   "metadata": {},
   "outputs": [],
   "source": [
    "select!(df4, Not(:Day))\n",
    "first(df4, 2)"
   ]
  },
  {
   "cell_type": "code",
   "execution_count": null,
   "metadata": {},
   "outputs": [],
   "source": [
    "insert_rata_die_column!(df4)\n",
    "first(df4, 2)"
   ]
  },
  {
   "cell_type": "code",
   "execution_count": null,
   "metadata": {},
   "outputs": [],
   "source": [
    "update_rata_die!(df4)\n",
    "first(df4, 10)"
   ]
  },
  {
   "cell_type": "code",
   "execution_count": null,
   "metadata": {},
   "outputs": [],
   "source": [
    "periods = df4[:,1] # all rows, first column\n",
    "println(periods[begin], \" to \", periods[end])\n",
    "gr()\n",
    "plot(periods, \n",
    "    title=\"ISM Manufacturing\",\n",
    "    [  df4[:,4] df4[:,3] df4[:,5] ], \n",
    "    label    = [\"Markkit_Mfc_PMI\" \"ISM_Mfc_Emp\" \"ISM_Mfc_Emp_shifted90\"],\n",
    "    legend    =:bottom, # :right, :left, :top, :bottom, :inside, :best, :legend, :topright, :topleft, :bottomleft, :bottomright\n",
    "    xlabel   = \"time\",\n",
    "    ylabel   = \"indicators\",\n",
    "    size     = (1050, 600), # width, height\n",
    "    layout = (3, 1) # number of seperate plots VERTICALLY, HORIZONTALLY\n",
    "    )\n"
   ]
  },
  {
   "cell_type": "markdown",
   "metadata": {},
   "source": [
    "# Extract Data"
   ]
  },
  {
   "cell_type": "code",
   "execution_count": null,
   "metadata": {},
   "outputs": [],
   "source": [
    "# rotate the matrix (switch columns to rows) - does not work on DataFrame)\n",
    "# data = data' "
   ]
  },
  {
   "cell_type": "markdown",
   "metadata": {},
   "source": [
    "## Extract Independent Variables (i.e. features)"
   ]
  },
  {
   "cell_type": "code",
   "execution_count": null,
   "metadata": {},
   "outputs": [],
   "source": [
    "x = rawdata[1:13,:]     # independent variables: all rows before last"
   ]
  },
  {
   "cell_type": "markdown",
   "metadata": {},
   "source": [
    "## Extract Dependent Variable (i.e. price)"
   ]
  },
  {
   "cell_type": "code",
   "execution_count": null,
   "metadata": {},
   "outputs": [],
   "source": [
    "y = rawdata[14:14,:]          # Dependent Variable (price) last ROW"
   ]
  },
  {
   "cell_type": "markdown",
   "metadata": {},
   "source": [
    "# Normalize the data"
   ]
  },
  {
   "cell_type": "markdown",
   "metadata": {},
   "source": [
    "## Show mean() values \n",
    "\n",
    "Calculate mean values for each feature in the 2-dimentional matrix."
   ]
  },
  {
   "cell_type": "code",
   "execution_count": null,
   "metadata": {},
   "outputs": [],
   "source": [
    "mean(x, dims = 2)"
   ]
  },
  {
   "cell_type": "markdown",
   "metadata": {},
   "source": [
    "## Show std() values \n",
    "\n",
    "Calculate sample standard deviation (STD).\n",
    "\n",
    "- https://docs.julialang.org/en/v1/stdlib/Statistics/"
   ]
  },
  {
   "cell_type": "code",
   "execution_count": null,
   "metadata": {},
   "outputs": [],
   "source": [
    "std(x, dims = 2) "
   ]
  },
  {
   "cell_type": "markdown",
   "metadata": {},
   "source": [
    "## Normalize the independent variables"
   ]
  },
  {
   "cell_type": "code",
   "execution_count": null,
   "metadata": {},
   "outputs": [],
   "source": [
    "x = (x .- mean(x, dims = 2)) ./ std(x, dims = 2) # math on 13× Arrays"
   ]
  },
  {
   "cell_type": "code",
   "execution_count": null,
   "metadata": {},
   "outputs": [],
   "source": [
    "records = size(x,2) # number of columns"
   ]
  },
  {
   "cell_type": "code",
   "execution_count": null,
   "metadata": {},
   "outputs": [],
   "source": [
    "args = Hyperparams()"
   ]
  },
  {
   "cell_type": "code",
   "execution_count": null,
   "metadata": {},
   "outputs": [],
   "source": [
    "split_ratio = args.split_ratio\n",
    "\n",
    "split_index = floor(Int, records * split_ratio)"
   ]
  },
  {
   "cell_type": "code",
   "execution_count": null,
   "metadata": {},
   "outputs": [],
   "source": [
    "x_train = x[:,1:split_index]           # training features\n",
    "y_train = y[:,1:split_index]           # training results\n",
    "x_test = x[:,split_index+1:records]  # testing features\n",
    "y_test = y[:,split_index+1:records]  # testing results"
   ]
  },
  {
   "cell_type": "code",
   "execution_count": null,
   "metadata": {},
   "outputs": [],
   "source": [
    "train_data = (x_train, y_train) # tuples\n",
    "test_data = (x_test, y_test)\n",
    "size(test_data[1])"
   ]
  },
  {
   "cell_type": "code",
   "execution_count": null,
   "metadata": {},
   "outputs": [],
   "source": [
    "function get_processed_data(args) # expects struct Hyperparams\n",
    "\n",
    "    isfile(\"housing.data\") ||\n",
    "        download(\n",
    "            \"https://raw.githubusercontent.com/MikeInnes/notebooks/master/housing.data\",\n",
    "            \"housing.data\")\n",
    "\n",
    "    rawdata = readdlm(\"housing.data\")'\n",
    "\n",
    "    # The last feature is our target -- the price of the house.\n",
    "    split_ratio = args.split_ratio # For the train/test split\n",
    "\n",
    "    x = rawdata[1:13,:]\n",
    "    y = rawdata[14:14,:]\n",
    "\n",
    "    # Normalise the data\n",
    "    x = (x .- mean(x, dims = 2)) ./ std(x, dims = 2)\n",
    "\n",
    "    # Split into train and test sets\n",
    "    split_index = floor(Int,size(x,2)*split_ratio)\n",
    "    x_train = x[:,1:split_index]\n",
    "    y_train = y[:,1:split_index]\n",
    "    x_test = x[:,split_index+1:size(x,2)]\n",
    "    y_test = y[:,split_index+1:size(x,2)]\n",
    "\n",
    "    train_data = (x_train, y_train)\n",
    "    test_data = (x_test, y_test)\n",
    "\n",
    "    return train_data,test_data\n",
    "end"
   ]
  },
  {
   "cell_type": "code",
   "execution_count": null,
   "metadata": {},
   "outputs": [],
   "source": [
    "# Struct to define model\n",
    "mutable struct model\n",
    "    W::AbstractArray\n",
    "    b::AbstractVector\n",
    "end"
   ]
  },
  {
   "cell_type": "code",
   "execution_count": null,
   "metadata": {},
   "outputs": [],
   "source": [
    "# Function to predict output from given parameters\n",
    "\n",
    "predict(x, m) = m.W*x .+ m.b"
   ]
  },
  {
   "cell_type": "markdown",
   "metadata": {},
   "source": [
    "# Mean Squared Error (MSE)\n",
    "\n",
    "<center><span style=\"font-size:x-large;\" >$ MSE = \\sum \\limits _{i=1} ^{n} {   \\frac{(ŷ_i - y)^2}{n} }$</span></center>"
   ]
  },
  {
   "cell_type": "code",
   "execution_count": null,
   "metadata": {},
   "outputs": [],
   "source": [
    "n = size(y, 2) # e.g. 505 columns\n",
    "\n",
    "# Mean Squared Error\n",
    "meansquarederror(ŷ, y) = sum((ŷ .- y).^2)/n"
   ]
  },
  {
   "cell_type": "code",
   "execution_count": null,
   "metadata": {},
   "outputs": [],
   "source": [
    "function train(; kws...)\n",
    "    # Initialize the Hyperparamters\n",
    "    args = Hyperparams(; kws...)\n",
    "    \n",
    "    # Load the data\n",
    "    (x_train,y_train),(x_test,y_test) = get_processed_data(args)\n",
    "    \n",
    "    test_data = (x_test,y_test)\n",
    "    \n",
    "    # The model\n",
    "    m = model((randn(1,13)),[0.])\n",
    "    \n",
    "    loss(x, y) = meansquarederror(predict(x, m), y)\n",
    "\n",
    "    ## Training\n",
    "    η = args.learning_rate\n",
    "    θ = params([m.W, m.b])\n",
    "\n",
    "    for i = 1:1000\n",
    "      g = gradient(() -> loss(x_train, y_train), θ)\n",
    "      for x in θ\n",
    "        update!(x, -g[x]*η)\n",
    "      end\n",
    "      if i%100==0\n",
    "          @show loss(x_train, y_train)\n",
    "        end\n",
    "    end\n",
    "    \n",
    "    # Predict the RMSE on the test set\n",
    "    err = meansquarederror(predict(x_test, m),y_test)\n",
    "    println(\"error: \", err)\n",
    "    return m , test_data# model\n",
    "end"
   ]
  },
  {
   "cell_type": "code",
   "execution_count": null,
   "metadata": {},
   "outputs": [],
   "source": [
    "cd(@__DIR__)\n",
    "resulting_model, test_data = train()\n",
    "resulting_model.W"
   ]
  },
  {
   "cell_type": "code",
   "execution_count": null,
   "metadata": {},
   "outputs": [],
   "source": [
    "resulting_model.b"
   ]
  },
  {
   "cell_type": "code",
   "execution_count": null,
   "metadata": {},
   "outputs": [],
   "source": [
    "function test(model, test)\n",
    "    # Testing model performance on test data \n",
    "    X_test, y_test = test\n",
    "    #accuracy_score = accuracy(X_test, y_test, model)\n",
    "\n",
    "    #println(\"\\nAccuracy: $accuracy_score\")\n",
    "\n",
    "    # Sanity check.\n",
    "    #@assert accuracy_score > 0.8\n",
    "\n",
    "    # To avoid confusion, here is the definition of a Confusion Matrix: https://en.wikipedia.org/wiki/Confusion_matrix\n",
    "    println(\"\\nConfusion Matrix:\\n\")\n",
    "    #display(confusion_matrix(X_test, y_test, model))\n",
    "end"
   ]
  },
  {
   "cell_type": "code",
   "execution_count": null,
   "metadata": {},
   "outputs": [],
   "source": [
    "test(model, test_data)\n",
    "features = test_data[1]"
   ]
  },
  {
   "cell_type": "code",
   "execution_count": null,
   "metadata": {},
   "outputs": [],
   "source": [
    "one_record = features[:,1]"
   ]
  },
  {
   "cell_type": "code",
   "execution_count": null,
   "metadata": {},
   "outputs": [],
   "source": [
    "results = test_data[1][1,:]"
   ]
  },
  {
   "cell_type": "code",
   "execution_count": null,
   "metadata": {},
   "outputs": [],
   "source": [
    "records = size(results)[1]"
   ]
  },
  {
   "cell_type": "code",
   "execution_count": null,
   "metadata": {},
   "outputs": [],
   "source": [
    "get_price(data, model) = model.W * data .+ model.b"
   ]
  },
  {
   "cell_type": "code",
   "execution_count": null,
   "metadata": {},
   "outputs": [],
   "source": [
    "get_price(one_record, resulting_model)"
   ]
  },
  {
   "cell_type": "code",
   "execution_count": null,
   "metadata": {},
   "outputs": [],
   "source": [
    "for i in 1:records # 455\n",
    "    record = features[:,i] # 13-element Array{Float64,1}:\n",
    "    result = get_price(record, resulting_model)\n",
    "    println(i, \" \", result, \" =? \", results[1])\n",
    "end"
   ]
  },
  {
   "cell_type": "code",
   "execution_count": null,
   "metadata": {},
   "outputs": [],
   "source": []
  },
  {
   "cell_type": "code",
   "execution_count": null,
   "metadata": {},
   "outputs": [],
   "source": []
  }
 ],
 "metadata": {
  "kernelspec": {
   "display_name": "Julia 1.5.0",
   "language": "julia",
   "name": "julia-1.5"
  },
  "language_info": {
   "file_extension": ".jl",
   "mimetype": "application/julia",
   "name": "julia",
   "version": "1.5.0"
  },
  "toc": {
   "base_numbering": 1,
   "nav_menu": {},
   "number_sections": true,
   "sideBar": true,
   "skip_h1_title": false,
   "title_cell": "Table of Contents",
   "title_sidebar": "Contents",
   "toc_cell": true,
   "toc_position": {
    "height": "calc(100% - 180px)",
    "left": "10px",
    "top": "150px",
    "width": "384px"
   },
   "toc_section_display": true,
   "toc_window_display": true
  }
 },
 "nbformat": 4,
 "nbformat_minor": 4
}
