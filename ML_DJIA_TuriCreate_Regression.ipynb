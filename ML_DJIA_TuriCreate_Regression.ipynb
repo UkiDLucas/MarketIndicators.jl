{
 "cells": [
  {
   "cell_type": "markdown",
   "metadata": {},
   "source": [
    "# Machine Learning to predict Down Jones Industrial Average\n",
    "\n",
    "This simple Machine Learning example shows how to predict [^DJI value](https://finance.yahoo.com/quote/%5EDJI?p=^DJI&.tsrc=fin-srch) based on the past calculated averages."
   ]
  },
  {
   "cell_type": "markdown",
   "metadata": {
    "toc": true
   },
   "source": [
    "<h1>Table of Contents<span class=\"tocSkip\"></span></h1>\n",
    "<div class=\"toc\"><ul class=\"toc-item\"><li><span><a href=\"#Setup\" data-toc-modified-id=\"Setup-1\"><span class=\"toc-item-num\">1&nbsp;&nbsp;</span>Setup</a></span></li><li><span><a href=\"#Read-data-into-a-SFrame\" data-toc-modified-id=\"Read-data-into-a-SFrame-2\"><span class=\"toc-item-num\">2&nbsp;&nbsp;</span>Read data into a SFrame</a></span><ul class=\"toc-item\"><li><span><a href=\"#TODO:-Value-should-be-original-value\" data-toc-modified-id=\"TODO:-Value-should-be-original-value-2.1\"><span class=\"toc-item-num\">2.1&nbsp;&nbsp;</span>TODO: Value should be original value</a></span></li></ul></li><li><span><a href=\"#Select-the-data-to-train-and-test\" data-toc-modified-id=\"Select-the-data-to-train-and-test-3\"><span class=\"toc-item-num\">3&nbsp;&nbsp;</span>Select the data to train and test</a></span><ul class=\"toc-item\"><li><span><a href=\"#TODO:-Let's-NOT-take-last-few-days\" data-toc-modified-id=\"TODO:-Let's-NOT-take-last-few-days-3.1\"><span class=\"toc-item-num\">3.1&nbsp;&nbsp;</span>TODO: Let's NOT take last few days</a></span></li></ul></li><li><span><a href=\"#Create-the-model\" data-toc-modified-id=\"Create-the-model-4\"><span class=\"toc-item-num\">4&nbsp;&nbsp;</span>Create the model</a></span><ul class=\"toc-item\"><li><span><a href=\"#Print-example-predictions\" data-toc-modified-id=\"Print-example-predictions-4.1\"><span class=\"toc-item-num\">4.1&nbsp;&nbsp;</span>Print example predictions</a></span></li></ul></li><li><span><a href=\"#&quot;Be-Less-Wrong&quot;\" data-toc-modified-id=\"&quot;Be-Less-Wrong&quot;-5\"><span class=\"toc-item-num\">5&nbsp;&nbsp;</span>\"Be Less Wrong\"</a></span><ul class=\"toc-item\"><li><span><a href=\"#Previous-results:\" data-toc-modified-id=\"Previous-results:-5.1\"><span class=\"toc-item-num\">5.1&nbsp;&nbsp;</span>Previous results:</a></span><ul class=\"toc-item\"><li><span><a href=\"#^DJI-averages-only\" data-toc-modified-id=\"^DJI-averages-only-5.1.1\"><span class=\"toc-item-num\">5.1.1&nbsp;&nbsp;</span>^DJI averages only</a></span></li><li><span><a href=\"#added-ISM-Manufacturing-Employment\" data-toc-modified-id=\"added-ISM-Manufacturing-Employment-5.1.2\"><span class=\"toc-item-num\">5.1.2&nbsp;&nbsp;</span>added ISM Manufacturing Employment</a></span></li><li><span><a href=\"#added-US-Housing-Starts-m/m\" data-toc-modified-id=\"added-US-Housing-Starts-m/m-5.1.3\"><span class=\"toc-item-num\">5.1.3&nbsp;&nbsp;</span>added US Housing Starts m/m</a></span></li><li><span><a href=\"#added-Manufacturing-PMI\" data-toc-modified-id=\"added-Manufacturing-PMI-5.1.4\"><span class=\"toc-item-num\">5.1.4&nbsp;&nbsp;</span>added Manufacturing PMI</a></span></li></ul></li><li><span><a href=\"#TODO:-find-the-best-model\" data-toc-modified-id=\"TODO:-find-the-best-model-5.2\"><span class=\"toc-item-num\">5.2&nbsp;&nbsp;</span>TODO: find the best model</a></span></li></ul></li><li><span><a href=\"#Save-the-model\" data-toc-modified-id=\"Save-the-model-6\"><span class=\"toc-item-num\">6&nbsp;&nbsp;</span>Save the model</a></span></li></ul></div>"
   ]
  },
  {
   "cell_type": "markdown",
   "metadata": {},
   "source": [
    "## Setup"
   ]
  },
  {
   "cell_type": "code",
   "execution_count": 1,
   "metadata": {},
   "outputs": [],
   "source": [
    "column_to_predict = \"DJIA_Original\"\n",
    "\n",
    "# Location of the spreadsheet (Comma Delimited Value) with all info that I prepared in a separate notebook.\n",
    "data_path=\"./DATA/processed/uber.csv\"\n",
    "\n",
    "# Install TuriCreate. Last updated November 4, 2020\n",
    "\n",
    "# !pip install --upgrade pip\n",
    "# !pip install Turicreate\n",
    "\n",
    "import turicreate as tc"
   ]
  },
  {
   "cell_type": "markdown",
   "metadata": {},
   "source": [
    "## Read data into a SFrame"
   ]
  },
  {
   "cell_type": "code",
   "execution_count": 2,
   "metadata": {},
   "outputs": [
    {
     "data": {
      "text/html": [
       "<pre>Finished parsing file /Users/uki/REPOS/MarketIndicators.jl/DATA/processed/uber.csv</pre>"
      ],
      "text/plain": [
       "Finished parsing file /Users/uki/REPOS/MarketIndicators.jl/DATA/processed/uber.csv"
      ]
     },
     "metadata": {},
     "output_type": "display_data"
    },
    {
     "data": {
      "text/html": [
       "<pre>Parsing completed. Parsed 100 lines in 0.047324 secs.</pre>"
      ],
      "text/plain": [
       "Parsing completed. Parsed 100 lines in 0.047324 secs."
      ]
     },
     "metadata": {},
     "output_type": "display_data"
    },
    {
     "name": "stdout",
     "output_type": "stream",
     "text": [
      "------------------------------------------------------\n",
      "Inferred types from first 100 line(s) of file as \n",
      "column_type_hints=[int,str,float,float,float,float,float,float,float,float,float,float,float,float,float,float,float,float,float,float,float,float,float,float]\n",
      "If parsing fails due to incorrect types, you can correct\n",
      "the inferred type list above and pass it to read_csv in\n",
      "the column_type_hints argument\n",
      "------------------------------------------------------\n"
     ]
    },
    {
     "data": {
      "text/html": [
       "<pre>Finished parsing file /Users/uki/REPOS/MarketIndicators.jl/DATA/processed/uber.csv</pre>"
      ],
      "text/plain": [
       "Finished parsing file /Users/uki/REPOS/MarketIndicators.jl/DATA/processed/uber.csv"
      ]
     },
     "metadata": {},
     "output_type": "display_data"
    },
    {
     "data": {
      "text/html": [
       "<pre>Parsing completed. Parsed 1744 lines in 0.016465 secs.</pre>"
      ],
      "text/plain": [
       "Parsing completed. Parsed 1744 lines in 0.016465 secs."
      ]
     },
     "metadata": {},
     "output_type": "display_data"
    },
    {
     "data": {
      "text/html": [
       "<div style=\"max-height:1000px;max-width:1500px;overflow:auto;\"><table frame=\"box\" rules=\"cols\">\n",
       "    <tr>\n",
       "        <th style=\"padding-left: 1em; padding-right: 1em; text-align: center\">Day</th>\n",
       "        <th style=\"padding-left: 1em; padding-right: 1em; text-align: center\">Date</th>\n",
       "        <th style=\"padding-left: 1em; padding-right: 1em; text-align: center\">DJIA_Value</th>\n",
       "        <th style=\"padding-left: 1em; padding-right: 1em; text-align: center\">DJIA_Original</th>\n",
       "        <th style=\"padding-left: 1em; padding-right: 1em; text-align: center\">DJIA_Avg005</th>\n",
       "        <th style=\"padding-left: 1em; padding-right: 1em; text-align: center\">DJIA_Avg030</th>\n",
       "        <th style=\"padding-left: 1em; padding-right: 1em; text-align: center\">DJIA_Avg090</th>\n",
       "        <th style=\"padding-left: 1em; padding-right: 1em; text-align: center\">DJIA_Avg180</th>\n",
       "        <th style=\"padding-left: 1em; padding-right: 1em; text-align: center\">DJIA_Avg365</th>\n",
       "    </tr>\n",
       "    <tr>\n",
       "        <td style=\"padding-left: 1em; padding-right: 1em; text-align: center; vertical-align: top\">736339</td>\n",
       "        <td style=\"padding-left: 1em; padding-right: 1em; text-align: center; vertical-align: top\">2017-01-10</td>\n",
       "        <td style=\"padding-left: 1em; padding-right: 1em; text-align: center; vertical-align: top\">38.0</td>\n",
       "        <td style=\"padding-left: 1em; padding-right: 1em; text-align: center; vertical-align: top\">19957.119141</td>\n",
       "        <td style=\"padding-left: 1em; padding-right: 1em; text-align: center; vertical-align: top\">38.6</td>\n",
       "        <td style=\"padding-left: 1em; padding-right: 1em; text-align: center; vertical-align: top\">38.07</td>\n",
       "        <td style=\"padding-left: 1em; padding-right: 1em; text-align: center; vertical-align: top\">30.84</td>\n",
       "        <td style=\"padding-left: 1em; padding-right: 1em; text-align: center; vertical-align: top\">27.9</td>\n",
       "        <td style=\"padding-left: 1em; padding-right: 1em; text-align: center; vertical-align: top\">21.57</td>\n",
       "    </tr>\n",
       "    <tr>\n",
       "        <td style=\"padding-left: 1em; padding-right: 1em; text-align: center; vertical-align: top\">736340</td>\n",
       "        <td style=\"padding-left: 1em; padding-right: 1em; text-align: center; vertical-align: top\">2017-01-11</td>\n",
       "        <td style=\"padding-left: 1em; padding-right: 1em; text-align: center; vertical-align: top\">38.0</td>\n",
       "        <td style=\"padding-left: 1em; padding-right: 1em; text-align: center; vertical-align: top\">19973.419922</td>\n",
       "        <td style=\"padding-left: 1em; padding-right: 1em; text-align: center; vertical-align: top\">38.4</td>\n",
       "        <td style=\"padding-left: 1em; padding-right: 1em; text-align: center; vertical-align: top\">38.1</td>\n",
       "        <td style=\"padding-left: 1em; padding-right: 1em; text-align: center; vertical-align: top\">31.02</td>\n",
       "        <td style=\"padding-left: 1em; padding-right: 1em; text-align: center; vertical-align: top\">27.97</td>\n",
       "        <td style=\"padding-left: 1em; padding-right: 1em; text-align: center; vertical-align: top\">21.65</td>\n",
       "    </tr>\n",
       "    <tr>\n",
       "        <td style=\"padding-left: 1em; padding-right: 1em; text-align: center; vertical-align: top\">736341</td>\n",
       "        <td style=\"padding-left: 1em; padding-right: 1em; text-align: center; vertical-align: top\">2017-01-12</td>\n",
       "        <td style=\"padding-left: 1em; padding-right: 1em; text-align: center; vertical-align: top\">38.0</td>\n",
       "        <td style=\"padding-left: 1em; padding-right: 1em; text-align: center; vertical-align: top\">19929.289063</td>\n",
       "        <td style=\"padding-left: 1em; padding-right: 1em; text-align: center; vertical-align: top\">38.2</td>\n",
       "        <td style=\"padding-left: 1em; padding-right: 1em; text-align: center; vertical-align: top\">38.1</td>\n",
       "        <td style=\"padding-left: 1em; padding-right: 1em; text-align: center; vertical-align: top\">31.19</td>\n",
       "        <td style=\"padding-left: 1em; padding-right: 1em; text-align: center; vertical-align: top\">28.03</td>\n",
       "        <td style=\"padding-left: 1em; padding-right: 1em; text-align: center; vertical-align: top\">21.73</td>\n",
       "    </tr>\n",
       "    <tr>\n",
       "        <td style=\"padding-left: 1em; padding-right: 1em; text-align: center; vertical-align: top\">736342</td>\n",
       "        <td style=\"padding-left: 1em; padding-right: 1em; text-align: center; vertical-align: top\">2017-01-13</td>\n",
       "        <td style=\"padding-left: 1em; padding-right: 1em; text-align: center; vertical-align: top\">38.0</td>\n",
       "        <td style=\"padding-left: 1em; padding-right: 1em; text-align: center; vertical-align: top\">19952.029297</td>\n",
       "        <td style=\"padding-left: 1em; padding-right: 1em; text-align: center; vertical-align: top\">38.0</td>\n",
       "        <td style=\"padding-left: 1em; padding-right: 1em; text-align: center; vertical-align: top\">38.1</td>\n",
       "        <td style=\"padding-left: 1em; padding-right: 1em; text-align: center; vertical-align: top\">31.36</td>\n",
       "        <td style=\"padding-left: 1em; padding-right: 1em; text-align: center; vertical-align: top\">28.1</td>\n",
       "        <td style=\"padding-left: 1em; padding-right: 1em; text-align: center; vertical-align: top\">21.82</td>\n",
       "    </tr>\n",
       "    <tr>\n",
       "        <td style=\"padding-left: 1em; padding-right: 1em; text-align: center; vertical-align: top\">736343</td>\n",
       "        <td style=\"padding-left: 1em; padding-right: 1em; text-align: center; vertical-align: top\">2017-01-14</td>\n",
       "        <td style=\"padding-left: 1em; padding-right: 1em; text-align: center; vertical-align: top\">38.0</td>\n",
       "        <td style=\"padding-left: 1em; padding-right: 1em; text-align: center; vertical-align: top\">19952.029297</td>\n",
       "        <td style=\"padding-left: 1em; padding-right: 1em; text-align: center; vertical-align: top\">38.0</td>\n",
       "        <td style=\"padding-left: 1em; padding-right: 1em; text-align: center; vertical-align: top\">38.1</td>\n",
       "        <td style=\"padding-left: 1em; padding-right: 1em; text-align: center; vertical-align: top\">31.52</td>\n",
       "        <td style=\"padding-left: 1em; padding-right: 1em; text-align: center; vertical-align: top\">28.17</td>\n",
       "        <td style=\"padding-left: 1em; padding-right: 1em; text-align: center; vertical-align: top\">21.9</td>\n",
       "    </tr>\n",
       "    <tr>\n",
       "        <td style=\"padding-left: 1em; padding-right: 1em; text-align: center; vertical-align: top\">736344</td>\n",
       "        <td style=\"padding-left: 1em; padding-right: 1em; text-align: center; vertical-align: top\">2017-01-15</td>\n",
       "        <td style=\"padding-left: 1em; padding-right: 1em; text-align: center; vertical-align: top\">38.0</td>\n",
       "        <td style=\"padding-left: 1em; padding-right: 1em; text-align: center; vertical-align: top\">19952.029297</td>\n",
       "        <td style=\"padding-left: 1em; padding-right: 1em; text-align: center; vertical-align: top\">38.0</td>\n",
       "        <td style=\"padding-left: 1em; padding-right: 1em; text-align: center; vertical-align: top\">38.1</td>\n",
       "        <td style=\"padding-left: 1em; padding-right: 1em; text-align: center; vertical-align: top\">31.7</td>\n",
       "        <td style=\"padding-left: 1em; padding-right: 1em; text-align: center; vertical-align: top\">28.23</td>\n",
       "        <td style=\"padding-left: 1em; padding-right: 1em; text-align: center; vertical-align: top\">21.99</td>\n",
       "    </tr>\n",
       "</table>\n",
       "<table frame=\"box\" rules=\"cols\">\n",
       "    <tr>\n",
       "        <th style=\"padding-left: 1em; padding-right: 1em; text-align: center\">ISM_MFC_EMP_Value</th>\n",
       "        <th style=\"padding-left: 1em; padding-right: 1em; text-align: center\">ISM_MFC_EMP_Original</th>\n",
       "        <th style=\"padding-left: 1em; padding-right: 1em; text-align: center\">ISM_MFC_EMP_Avg090</th>\n",
       "        <th style=\"padding-left: 1em; padding-right: 1em; text-align: center\">ISM_MFC_EMP_Avg180</th>\n",
       "        <th style=\"padding-left: 1em; padding-right: 1em; text-align: center\">ISM_MFC_EMP_Avg365</th>\n",
       "        <th style=\"padding-left: 1em; padding-right: 1em; text-align: center\">HOUSE_SRT_MM_Value</th>\n",
       "    </tr>\n",
       "    <tr>\n",
       "        <td style=\"padding-left: 1em; padding-right: 1em; text-align: center; vertical-align: top\">71.0</td>\n",
       "        <td style=\"padding-left: 1em; padding-right: 1em; text-align: center; vertical-align: top\">53.1</td>\n",
       "        <td style=\"padding-left: 1em; padding-right: 1em; text-align: center; vertical-align: top\">62.64</td>\n",
       "        <td style=\"padding-left: 1em; padding-right: 1em; text-align: center; vertical-align: top\">51.82</td>\n",
       "        <td style=\"padding-left: 1em; padding-right: 1em; text-align: center; vertical-align: top\">42.85</td>\n",
       "        <td style=\"padding-left: 1em; padding-right: 1em; text-align: center; vertical-align: top\">-75.0</td>\n",
       "    </tr>\n",
       "    <tr>\n",
       "        <td style=\"padding-left: 1em; padding-right: 1em; text-align: center; vertical-align: top\">71.0</td>\n",
       "        <td style=\"padding-left: 1em; padding-right: 1em; text-align: center; vertical-align: top\">53.1</td>\n",
       "        <td style=\"padding-left: 1em; padding-right: 1em; text-align: center; vertical-align: top\">62.93</td>\n",
       "        <td style=\"padding-left: 1em; padding-right: 1em; text-align: center; vertical-align: top\">51.94</td>\n",
       "        <td style=\"padding-left: 1em; padding-right: 1em; text-align: center; vertical-align: top\">42.96</td>\n",
       "        <td style=\"padding-left: 1em; padding-right: 1em; text-align: center; vertical-align: top\">-75.0</td>\n",
       "    </tr>\n",
       "    <tr>\n",
       "        <td style=\"padding-left: 1em; padding-right: 1em; text-align: center; vertical-align: top\">71.0</td>\n",
       "        <td style=\"padding-left: 1em; padding-right: 1em; text-align: center; vertical-align: top\">53.1</td>\n",
       "        <td style=\"padding-left: 1em; padding-right: 1em; text-align: center; vertical-align: top\">63.22</td>\n",
       "        <td style=\"padding-left: 1em; padding-right: 1em; text-align: center; vertical-align: top\">52.06</td>\n",
       "        <td style=\"padding-left: 1em; padding-right: 1em; text-align: center; vertical-align: top\">43.06</td>\n",
       "        <td style=\"padding-left: 1em; padding-right: 1em; text-align: center; vertical-align: top\">-75.0</td>\n",
       "    </tr>\n",
       "    <tr>\n",
       "        <td style=\"padding-left: 1em; padding-right: 1em; text-align: center; vertical-align: top\">71.0</td>\n",
       "        <td style=\"padding-left: 1em; padding-right: 1em; text-align: center; vertical-align: top\">53.1</td>\n",
       "        <td style=\"padding-left: 1em; padding-right: 1em; text-align: center; vertical-align: top\">63.51</td>\n",
       "        <td style=\"padding-left: 1em; padding-right: 1em; text-align: center; vertical-align: top\">52.17</td>\n",
       "        <td style=\"padding-left: 1em; padding-right: 1em; text-align: center; vertical-align: top\">43.17</td>\n",
       "        <td style=\"padding-left: 1em; padding-right: 1em; text-align: center; vertical-align: top\">-75.0</td>\n",
       "    </tr>\n",
       "    <tr>\n",
       "        <td style=\"padding-left: 1em; padding-right: 1em; text-align: center; vertical-align: top\">71.0</td>\n",
       "        <td style=\"padding-left: 1em; padding-right: 1em; text-align: center; vertical-align: top\">53.1</td>\n",
       "        <td style=\"padding-left: 1em; padding-right: 1em; text-align: center; vertical-align: top\">63.8</td>\n",
       "        <td style=\"padding-left: 1em; padding-right: 1em; text-align: center; vertical-align: top\">52.29</td>\n",
       "        <td style=\"padding-left: 1em; padding-right: 1em; text-align: center; vertical-align: top\">43.28</td>\n",
       "        <td style=\"padding-left: 1em; padding-right: 1em; text-align: center; vertical-align: top\">-75.0</td>\n",
       "    </tr>\n",
       "    <tr>\n",
       "        <td style=\"padding-left: 1em; padding-right: 1em; text-align: center; vertical-align: top\">71.0</td>\n",
       "        <td style=\"padding-left: 1em; padding-right: 1em; text-align: center; vertical-align: top\">53.1</td>\n",
       "        <td style=\"padding-left: 1em; padding-right: 1em; text-align: center; vertical-align: top\">64.09</td>\n",
       "        <td style=\"padding-left: 1em; padding-right: 1em; text-align: center; vertical-align: top\">52.41</td>\n",
       "        <td style=\"padding-left: 1em; padding-right: 1em; text-align: center; vertical-align: top\">43.38</td>\n",
       "        <td style=\"padding-left: 1em; padding-right: 1em; text-align: center; vertical-align: top\">-75.0</td>\n",
       "    </tr>\n",
       "</table>\n",
       "<table frame=\"box\" rules=\"cols\">\n",
       "    <tr>\n",
       "        <th style=\"padding-left: 1em; padding-right: 1em; text-align: center\">HOUSE_SRT_MM_Original</th>\n",
       "        <th style=\"padding-left: 1em; padding-right: 1em; text-align: center\">HOUSE_SRT_MM_Avg090</th>\n",
       "        <th style=\"padding-left: 1em; padding-right: 1em; text-align: center\">HOUSE_SRT_MM_Avg180</th>\n",
       "        <th style=\"padding-left: 1em; padding-right: 1em; text-align: center\">HOUSE_SRT_MM_Avg365</th>\n",
       "        <th style=\"padding-left: 1em; padding-right: 1em; text-align: center\">MFC_MPI_Value</th>\n",
       "        <th style=\"padding-left: 1em; padding-right: 1em; text-align: center\">MFC_MPI_Original</th>\n",
       "    </tr>\n",
       "    <tr>\n",
       "        <td style=\"padding-left: 1em; padding-right: 1em; text-align: center; vertical-align: top\">-18.7</td>\n",
       "        <td style=\"padding-left: 1em; padding-right: 1em; text-align: center; vertical-align: top\">8.2</td>\n",
       "        <td style=\"padding-left: 1em; padding-right: 1em; text-align: center; vertical-align: top\">11.12</td>\n",
       "        <td style=\"padding-left: 1em; padding-right: 1em; text-align: center; vertical-align: top\">9.8</td>\n",
       "        <td style=\"padding-left: 1em; padding-right: 1em; text-align: center; vertical-align: top\">68.0</td>\n",
       "        <td style=\"padding-left: 1em; padding-right: 1em; text-align: center; vertical-align: top\">54.7</td>\n",
       "    </tr>\n",
       "    <tr>\n",
       "        <td style=\"padding-left: 1em; padding-right: 1em; text-align: center; vertical-align: top\">-18.7</td>\n",
       "        <td style=\"padding-left: 1em; padding-right: 1em; text-align: center; vertical-align: top\">7.54</td>\n",
       "        <td style=\"padding-left: 1em; padding-right: 1em; text-align: center; vertical-align: top\">10.66</td>\n",
       "        <td style=\"padding-left: 1em; padding-right: 1em; text-align: center; vertical-align: top\">9.6</td>\n",
       "        <td style=\"padding-left: 1em; padding-right: 1em; text-align: center; vertical-align: top\">68.0</td>\n",
       "        <td style=\"padding-left: 1em; padding-right: 1em; text-align: center; vertical-align: top\">54.7</td>\n",
       "    </tr>\n",
       "    <tr>\n",
       "        <td style=\"padding-left: 1em; padding-right: 1em; text-align: center; vertical-align: top\">-18.7</td>\n",
       "        <td style=\"padding-left: 1em; padding-right: 1em; text-align: center; vertical-align: top\">6.89</td>\n",
       "        <td style=\"padding-left: 1em; padding-right: 1em; text-align: center; vertical-align: top\">10.19</td>\n",
       "        <td style=\"padding-left: 1em; padding-right: 1em; text-align: center; vertical-align: top\">9.4</td>\n",
       "        <td style=\"padding-left: 1em; padding-right: 1em; text-align: center; vertical-align: top\">68.0</td>\n",
       "        <td style=\"padding-left: 1em; padding-right: 1em; text-align: center; vertical-align: top\">54.7</td>\n",
       "    </tr>\n",
       "    <tr>\n",
       "        <td style=\"padding-left: 1em; padding-right: 1em; text-align: center; vertical-align: top\">-18.7</td>\n",
       "        <td style=\"padding-left: 1em; padding-right: 1em; text-align: center; vertical-align: top\">6.23</td>\n",
       "        <td style=\"padding-left: 1em; padding-right: 1em; text-align: center; vertical-align: top\">9.72</td>\n",
       "        <td style=\"padding-left: 1em; padding-right: 1em; text-align: center; vertical-align: top\">9.19</td>\n",
       "        <td style=\"padding-left: 1em; padding-right: 1em; text-align: center; vertical-align: top\">68.0</td>\n",
       "        <td style=\"padding-left: 1em; padding-right: 1em; text-align: center; vertical-align: top\">54.7</td>\n",
       "    </tr>\n",
       "    <tr>\n",
       "        <td style=\"padding-left: 1em; padding-right: 1em; text-align: center; vertical-align: top\">-18.7</td>\n",
       "        <td style=\"padding-left: 1em; padding-right: 1em; text-align: center; vertical-align: top\">5.58</td>\n",
       "        <td style=\"padding-left: 1em; padding-right: 1em; text-align: center; vertical-align: top\">9.26</td>\n",
       "        <td style=\"padding-left: 1em; padding-right: 1em; text-align: center; vertical-align: top\">8.99</td>\n",
       "        <td style=\"padding-left: 1em; padding-right: 1em; text-align: center; vertical-align: top\">68.0</td>\n",
       "        <td style=\"padding-left: 1em; padding-right: 1em; text-align: center; vertical-align: top\">54.7</td>\n",
       "    </tr>\n",
       "    <tr>\n",
       "        <td style=\"padding-left: 1em; padding-right: 1em; text-align: center; vertical-align: top\">-18.7</td>\n",
       "        <td style=\"padding-left: 1em; padding-right: 1em; text-align: center; vertical-align: top\">4.92</td>\n",
       "        <td style=\"padding-left: 1em; padding-right: 1em; text-align: center; vertical-align: top\">8.66</td>\n",
       "        <td style=\"padding-left: 1em; padding-right: 1em; text-align: center; vertical-align: top\">8.79</td>\n",
       "        <td style=\"padding-left: 1em; padding-right: 1em; text-align: center; vertical-align: top\">68.0</td>\n",
       "        <td style=\"padding-left: 1em; padding-right: 1em; text-align: center; vertical-align: top\">54.7</td>\n",
       "    </tr>\n",
       "</table>\n",
       "<table frame=\"box\" rules=\"cols\">\n",
       "    <tr>\n",
       "        <th style=\"padding-left: 1em; padding-right: 1em; text-align: center\">MFC_MPI_Avg090</th>\n",
       "        <th style=\"padding-left: 1em; padding-right: 1em; text-align: center\">MFC_MPI_Avg180</th>\n",
       "        <th style=\"padding-left: 1em; padding-right: 1em; text-align: center\">MFC_MPI_Avg365</th>\n",
       "    </tr>\n",
       "    <tr>\n",
       "        <td style=\"padding-left: 1em; padding-right: 1em; text-align: center; vertical-align: top\">48.99</td>\n",
       "        <td style=\"padding-left: 1em; padding-right: 1em; text-align: center; vertical-align: top\">44.26</td>\n",
       "        <td style=\"padding-left: 1em; padding-right: 1em; text-align: center; vertical-align: top\">36.85</td>\n",
       "    </tr>\n",
       "    <tr>\n",
       "        <td style=\"padding-left: 1em; padding-right: 1em; text-align: center; vertical-align: top\">49.3</td>\n",
       "        <td style=\"padding-left: 1em; padding-right: 1em; text-align: center; vertical-align: top\">44.33</td>\n",
       "        <td style=\"padding-left: 1em; padding-right: 1em; text-align: center; vertical-align: top\">37.01</td>\n",
       "    </tr>\n",
       "    <tr>\n",
       "        <td style=\"padding-left: 1em; padding-right: 1em; text-align: center; vertical-align: top\">49.61</td>\n",
       "        <td style=\"padding-left: 1em; padding-right: 1em; text-align: center; vertical-align: top\">44.4</td>\n",
       "        <td style=\"padding-left: 1em; padding-right: 1em; text-align: center; vertical-align: top\">37.16</td>\n",
       "    </tr>\n",
       "    <tr>\n",
       "        <td style=\"padding-left: 1em; padding-right: 1em; text-align: center; vertical-align: top\">49.92</td>\n",
       "        <td style=\"padding-left: 1em; padding-right: 1em; text-align: center; vertical-align: top\">44.47</td>\n",
       "        <td style=\"padding-left: 1em; padding-right: 1em; text-align: center; vertical-align: top\">37.32</td>\n",
       "    </tr>\n",
       "    <tr>\n",
       "        <td style=\"padding-left: 1em; padding-right: 1em; text-align: center; vertical-align: top\">50.23</td>\n",
       "        <td style=\"padding-left: 1em; padding-right: 1em; text-align: center; vertical-align: top\">44.54</td>\n",
       "        <td style=\"padding-left: 1em; padding-right: 1em; text-align: center; vertical-align: top\">37.47</td>\n",
       "    </tr>\n",
       "    <tr>\n",
       "        <td style=\"padding-left: 1em; padding-right: 1em; text-align: center; vertical-align: top\">50.54</td>\n",
       "        <td style=\"padding-left: 1em; padding-right: 1em; text-align: center; vertical-align: top\">44.62</td>\n",
       "        <td style=\"padding-left: 1em; padding-right: 1em; text-align: center; vertical-align: top\">37.63</td>\n",
       "    </tr>\n",
       "</table>\n",
       "[6 rows x 24 columns]<br/>\n",
       "</div>"
      ],
      "text/plain": [
       "Columns:\n",
       "\tDay\tint\n",
       "\tDate\tstr\n",
       "\tDJIA_Value\tfloat\n",
       "\tDJIA_Original\tfloat\n",
       "\tDJIA_Avg005\tfloat\n",
       "\tDJIA_Avg030\tfloat\n",
       "\tDJIA_Avg090\tfloat\n",
       "\tDJIA_Avg180\tfloat\n",
       "\tDJIA_Avg365\tfloat\n",
       "\tISM_MFC_EMP_Value\tfloat\n",
       "\tISM_MFC_EMP_Original\tfloat\n",
       "\tISM_MFC_EMP_Avg090\tfloat\n",
       "\tISM_MFC_EMP_Avg180\tfloat\n",
       "\tISM_MFC_EMP_Avg365\tfloat\n",
       "\tHOUSE_SRT_MM_Value\tfloat\n",
       "\tHOUSE_SRT_MM_Original\tfloat\n",
       "\tHOUSE_SRT_MM_Avg090\tfloat\n",
       "\tHOUSE_SRT_MM_Avg180\tfloat\n",
       "\tHOUSE_SRT_MM_Avg365\tfloat\n",
       "\tMFC_MPI_Value\tfloat\n",
       "\tMFC_MPI_Original\tfloat\n",
       "\tMFC_MPI_Avg090\tfloat\n",
       "\tMFC_MPI_Avg180\tfloat\n",
       "\tMFC_MPI_Avg365\tfloat\n",
       "\n",
       "Rows: 6\n",
       "\n",
       "Data:\n",
       "+--------+------------+------------+---------------+-------------+-------------+\n",
       "|  Day   |    Date    | DJIA_Value | DJIA_Original | DJIA_Avg005 | DJIA_Avg030 |\n",
       "+--------+------------+------------+---------------+-------------+-------------+\n",
       "| 736339 | 2017-01-10 |    38.0    |  19957.119141 |     38.6    |    38.07    |\n",
       "| 736340 | 2017-01-11 |    38.0    |  19973.419922 |     38.4    |     38.1    |\n",
       "| 736341 | 2017-01-12 |    38.0    |  19929.289063 |     38.2    |     38.1    |\n",
       "| 736342 | 2017-01-13 |    38.0    |  19952.029297 |     38.0    |     38.1    |\n",
       "| 736343 | 2017-01-14 |    38.0    |  19952.029297 |     38.0    |     38.1    |\n",
       "| 736344 | 2017-01-15 |    38.0    |  19952.029297 |     38.0    |     38.1    |\n",
       "+--------+------------+------------+---------------+-------------+-------------+\n",
       "+-------------+-------------+-------------+-------------------+----------------------+\n",
       "| DJIA_Avg090 | DJIA_Avg180 | DJIA_Avg365 | ISM_MFC_EMP_Value | ISM_MFC_EMP_Original |\n",
       "+-------------+-------------+-------------+-------------------+----------------------+\n",
       "|    30.84    |     27.9    |    21.57    |        71.0       |         53.1         |\n",
       "|    31.02    |    27.97    |    21.65    |        71.0       |         53.1         |\n",
       "|    31.19    |    28.03    |    21.73    |        71.0       |         53.1         |\n",
       "|    31.36    |     28.1    |    21.82    |        71.0       |         53.1         |\n",
       "|    31.52    |    28.17    |     21.9    |        71.0       |         53.1         |\n",
       "|     31.7    |    28.23    |    21.99    |        71.0       |         53.1         |\n",
       "+-------------+-------------+-------------+-------------------+----------------------+\n",
       "+--------------------+--------------------+--------------------+--------------------+\n",
       "| ISM_MFC_EMP_Avg090 | ISM_MFC_EMP_Avg180 | ISM_MFC_EMP_Avg365 | HOUSE_SRT_MM_Value |\n",
       "+--------------------+--------------------+--------------------+--------------------+\n",
       "|       62.64        |       51.82        |       42.85        |       -75.0        |\n",
       "|       62.93        |       51.94        |       42.96        |       -75.0        |\n",
       "|       63.22        |       52.06        |       43.06        |       -75.0        |\n",
       "|       63.51        |       52.17        |       43.17        |       -75.0        |\n",
       "|        63.8        |       52.29        |       43.28        |       -75.0        |\n",
       "|       64.09        |       52.41        |       43.38        |       -75.0        |\n",
       "+--------------------+--------------------+--------------------+--------------------+\n",
       "+-----------------------+---------------------+---------------------+---------------------+\n",
       "| HOUSE_SRT_MM_Original | HOUSE_SRT_MM_Avg090 | HOUSE_SRT_MM_Avg180 | HOUSE_SRT_MM_Avg365 |\n",
       "+-----------------------+---------------------+---------------------+---------------------+\n",
       "|         -18.7         |         8.2         |        11.12        |         9.8         |\n",
       "|         -18.7         |         7.54        |        10.66        |         9.6         |\n",
       "|         -18.7         |         6.89        |        10.19        |         9.4         |\n",
       "|         -18.7         |         6.23        |         9.72        |         9.19        |\n",
       "|         -18.7         |         5.58        |         9.26        |         8.99        |\n",
       "|         -18.7         |         4.92        |         8.66        |         8.79        |\n",
       "+-----------------------+---------------------+---------------------+---------------------+\n",
       "+---------------+-----+\n",
       "| MFC_MPI_Value | ... |\n",
       "+---------------+-----+\n",
       "|      68.0     | ... |\n",
       "|      68.0     | ... |\n",
       "|      68.0     | ... |\n",
       "|      68.0     | ... |\n",
       "|      68.0     | ... |\n",
       "|      68.0     | ... |\n",
       "+---------------+-----+\n",
       "[6 rows x 24 columns]"
      ]
     },
     "execution_count": 2,
     "metadata": {},
     "output_type": "execute_result"
    }
   ],
   "source": [
    "# Load the data\n",
    "data =  tc.SFrame(data_path)\n",
    "data[364:370] # show data sample"
   ]
  },
  {
   "cell_type": "markdown",
   "metadata": {},
   "source": [
    "### TODO: Value should be original value\n",
    "\n",
    "Please note the the \"High\" is normalized to Int8, \n",
    "but for the prediciton purposes it should be an original \"real\" value."
   ]
  },
  {
   "cell_type": "markdown",
   "metadata": {},
   "source": [
    "## Select the data to train and test"
   ]
  },
  {
   "cell_type": "code",
   "execution_count": 3,
   "metadata": {},
   "outputs": [],
   "source": [
    "row_count = len(data)\n",
    "# Do not take initial year data as averages are not complete\n",
    "data = data[365:row_count] \n",
    "# Make a train-test split\n",
    "train_data, test_data = data.random_split(0.8)"
   ]
  },
  {
   "cell_type": "markdown",
   "metadata": {},
   "source": [
    "### TODO: Let's NOT take last few days\n",
    "\n",
    "I need to save the last few days to see if I can really predict upcoming values."
   ]
  },
  {
   "cell_type": "markdown",
   "metadata": {},
   "source": [
    "## Create the model\n",
    "\n",
    "- https://apple.github.io/turicreate/docs/api/generated/turicreate.regression.create.html\n",
    "- Automatically picks the right model based on your data.\n",
    "- target: is the number to be predicted.\n",
    "- features: are the the values that we ues to try to find pattern leading to prediciton."
   ]
  },
  {
   "cell_type": "code",
   "execution_count": 4,
   "metadata": {},
   "outputs": [
    {
     "data": {
      "text/html": [
       "<pre>Automatically generating validation set from 5% of the data.</pre>"
      ],
      "text/plain": [
       "Automatically generating validation set from 5% of the data."
      ]
     },
     "metadata": {},
     "output_type": "display_data"
    },
    {
     "data": {
      "text/html": [
       "<pre>Linear regression:</pre>"
      ],
      "text/plain": [
       "Linear regression:"
      ]
     },
     "metadata": {},
     "output_type": "display_data"
    },
    {
     "data": {
      "text/html": [
       "<pre>--------------------------------------------------------</pre>"
      ],
      "text/plain": [
       "--------------------------------------------------------"
      ]
     },
     "metadata": {},
     "output_type": "display_data"
    },
    {
     "data": {
      "text/html": [
       "<pre>Number of examples          : 1050</pre>"
      ],
      "text/plain": [
       "Number of examples          : 1050"
      ]
     },
     "metadata": {},
     "output_type": "display_data"
    },
    {
     "data": {
      "text/html": [
       "<pre>Number of features          : 16</pre>"
      ],
      "text/plain": [
       "Number of features          : 16"
      ]
     },
     "metadata": {},
     "output_type": "display_data"
    },
    {
     "data": {
      "text/html": [
       "<pre>Number of unpacked features : 16</pre>"
      ],
      "text/plain": [
       "Number of unpacked features : 16"
      ]
     },
     "metadata": {},
     "output_type": "display_data"
    },
    {
     "data": {
      "text/html": [
       "<pre>Number of coefficients    : 17</pre>"
      ],
      "text/plain": [
       "Number of coefficients    : 17"
      ]
     },
     "metadata": {},
     "output_type": "display_data"
    },
    {
     "data": {
      "text/html": [
       "<pre>Starting Newton Method</pre>"
      ],
      "text/plain": [
       "Starting Newton Method"
      ]
     },
     "metadata": {},
     "output_type": "display_data"
    },
    {
     "data": {
      "text/html": [
       "<pre>--------------------------------------------------------</pre>"
      ],
      "text/plain": [
       "--------------------------------------------------------"
      ]
     },
     "metadata": {},
     "output_type": "display_data"
    },
    {
     "data": {
      "text/html": [
       "<pre>+-----------+----------+--------------+--------------------+----------------------+---------------------------------+-----------------------------------+</pre>"
      ],
      "text/plain": [
       "+-----------+----------+--------------+--------------------+----------------------+---------------------------------+-----------------------------------+"
      ]
     },
     "metadata": {},
     "output_type": "display_data"
    },
    {
     "data": {
      "text/html": [
       "<pre>| Iteration | Passes   | Elapsed Time | Training Max Error | Validation Max Error | Training Root-Mean-Square Error | Validation Root-Mean-Square Error |</pre>"
      ],
      "text/plain": [
       "| Iteration | Passes   | Elapsed Time | Training Max Error | Validation Max Error | Training Root-Mean-Square Error | Validation Root-Mean-Square Error |"
      ]
     },
     "metadata": {},
     "output_type": "display_data"
    },
    {
     "data": {
      "text/html": [
       "<pre>+-----------+----------+--------------+--------------------+----------------------+---------------------------------+-----------------------------------+</pre>"
      ],
      "text/plain": [
       "+-----------+----------+--------------+--------------------+----------------------+---------------------------------+-----------------------------------+"
      ]
     },
     "metadata": {},
     "output_type": "display_data"
    },
    {
     "data": {
      "text/html": [
       "<pre>| 1         | 2        | 1.015493     | 1759.776362        | 1109.373746          | 236.874750                      | 261.715455                        |</pre>"
      ],
      "text/plain": [
       "| 1         | 2        | 1.015493     | 1759.776362        | 1109.373746          | 236.874750                      | 261.715455                        |"
      ]
     },
     "metadata": {},
     "output_type": "display_data"
    },
    {
     "data": {
      "text/html": [
       "<pre>+-----------+----------+--------------+--------------------+----------------------+---------------------------------+-----------------------------------+</pre>"
      ],
      "text/plain": [
       "+-----------+----------+--------------+--------------------+----------------------+---------------------------------+-----------------------------------+"
      ]
     },
     "metadata": {},
     "output_type": "display_data"
    },
    {
     "data": {
      "text/html": [
       "<pre>SUCCESS: Optimal solution found.</pre>"
      ],
      "text/plain": [
       "SUCCESS: Optimal solution found."
      ]
     },
     "metadata": {},
     "output_type": "display_data"
    },
    {
     "data": {
      "text/html": [
       "<pre></pre>"
      ],
      "text/plain": []
     },
     "metadata": {},
     "output_type": "display_data"
    },
    {
     "data": {
      "text/html": [
       "<pre>Boosted trees regression:</pre>"
      ],
      "text/plain": [
       "Boosted trees regression:"
      ]
     },
     "metadata": {},
     "output_type": "display_data"
    },
    {
     "data": {
      "text/html": [
       "<pre>--------------------------------------------------------</pre>"
      ],
      "text/plain": [
       "--------------------------------------------------------"
      ]
     },
     "metadata": {},
     "output_type": "display_data"
    },
    {
     "data": {
      "text/html": [
       "<pre>Number of examples          : 1050</pre>"
      ],
      "text/plain": [
       "Number of examples          : 1050"
      ]
     },
     "metadata": {},
     "output_type": "display_data"
    },
    {
     "data": {
      "text/html": [
       "<pre>Number of features          : 16</pre>"
      ],
      "text/plain": [
       "Number of features          : 16"
      ]
     },
     "metadata": {},
     "output_type": "display_data"
    },
    {
     "data": {
      "text/html": [
       "<pre>Number of unpacked features : 16</pre>"
      ],
      "text/plain": [
       "Number of unpacked features : 16"
      ]
     },
     "metadata": {},
     "output_type": "display_data"
    },
    {
     "data": {
      "text/html": [
       "<pre>+-----------+--------------+--------------------+----------------------+---------------------------------+-----------------------------------+</pre>"
      ],
      "text/plain": [
       "+-----------+--------------+--------------------+----------------------+---------------------------------+-----------------------------------+"
      ]
     },
     "metadata": {},
     "output_type": "display_data"
    },
    {
     "data": {
      "text/html": [
       "<pre>| Iteration | Elapsed Time | Training Max Error | Validation Max Error | Training Root-Mean-Square Error | Validation Root-Mean-Square Error |</pre>"
      ],
      "text/plain": [
       "| Iteration | Elapsed Time | Training Max Error | Validation Max Error | Training Root-Mean-Square Error | Validation Root-Mean-Square Error |"
      ]
     },
     "metadata": {},
     "output_type": "display_data"
    },
    {
     "data": {
      "text/html": [
       "<pre>+-----------+--------------+--------------------+----------------------+---------------------------------+-----------------------------------+</pre>"
      ],
      "text/plain": [
       "+-----------+--------------+--------------------+----------------------+---------------------------------+-----------------------------------+"
      ]
     },
     "metadata": {},
     "output_type": "display_data"
    },
    {
     "data": {
      "text/html": [
       "<pre>| 1         | 0.005386     | 21366.179688       | 21205.660156         | 17596.345703                    | 17701.398438                      |</pre>"
      ],
      "text/plain": [
       "| 1         | 0.005386     | 21366.179688       | 21205.660156         | 17596.345703                    | 17701.398438                      |"
      ]
     },
     "metadata": {},
     "output_type": "display_data"
    },
    {
     "data": {
      "text/html": [
       "<pre>| 2         | 0.008056     | 15426.445312       | 15265.925781         | 12343.901367                    | 12403.151367                      |</pre>"
      ],
      "text/plain": [
       "| 2         | 0.008056     | 15426.445312       | 15265.925781         | 12343.901367                    | 12403.151367                      |"
      ]
     },
     "metadata": {},
     "output_type": "display_data"
    },
    {
     "data": {
      "text/html": [
       "<pre>| 3         | 0.013717     | 11160.076172       | 10999.556641         | 8661.013672                     | 8690.820312                       |</pre>"
      ],
      "text/plain": [
       "| 3         | 0.013717     | 11160.076172       | 10999.556641         | 8661.013672                     | 8690.820312                       |"
      ]
     },
     "metadata": {},
     "output_type": "display_data"
    },
    {
     "data": {
      "text/html": [
       "<pre>| 4         | 0.018116     | 8342.017578        | 8181.498047          | 6079.798340                     | 6084.462891                       |</pre>"
      ],
      "text/plain": [
       "| 4         | 0.018116     | 8342.017578        | 8181.498047          | 6079.798340                     | 6084.462891                       |"
      ]
     },
     "metadata": {},
     "output_type": "display_data"
    },
    {
     "data": {
      "text/html": [
       "<pre>| 5         | 0.022100     | 6103.480469        | 5942.960938          | 4271.188965                     | 4266.036133                       |</pre>"
      ],
      "text/plain": [
       "| 5         | 0.022100     | 6103.480469        | 5942.960938          | 4271.188965                     | 4266.036133                       |"
      ]
     },
     "metadata": {},
     "output_type": "display_data"
    },
    {
     "data": {
      "text/html": [
       "<pre>| 10        | 0.042316     | 1949.927734        | 1283.005859          | 766.430969                      | 749.455200                        |</pre>"
      ],
      "text/plain": [
       "| 10        | 0.042316     | 1949.927734        | 1283.005859          | 766.430969                      | 749.455200                        |"
      ]
     },
     "metadata": {},
     "output_type": "display_data"
    },
    {
     "data": {
      "text/html": [
       "<pre>+-----------+--------------+--------------------+----------------------+---------------------------------+-----------------------------------+</pre>"
      ],
      "text/plain": [
       "+-----------+--------------+--------------------+----------------------+---------------------------------+-----------------------------------+"
      ]
     },
     "metadata": {},
     "output_type": "display_data"
    }
   ],
   "source": [
    "model = tc.regression.create(\n",
    "    train_data, \n",
    "    target = column_to_predict,\n",
    "    features = [\n",
    "         'DJIA_Avg005'\n",
    "        ,'DJIA_Avg030'\n",
    "        ,'DJIA_Avg090'\n",
    "        ,'DJIA_Avg180'\n",
    "        ,'DJIA_Avg365'\n",
    "        \n",
    "        ,'ISM_MFC_EMP_Avg090'\n",
    "        ,'ISM_MFC_EMP_Avg180'\n",
    "        ,'ISM_MFC_EMP_Avg365'\n",
    "        \n",
    "        ,'HOUSE_SRT_MM_Value'\n",
    "        ,'HOUSE_SRT_MM_Avg090'\n",
    "        ,'HOUSE_SRT_MM_Avg180'\n",
    "        ,'HOUSE_SRT_MM_Avg365'\n",
    "        \n",
    "        ,'MFC_MPI_Value'\n",
    "        ,'MFC_MPI_Avg090'\n",
    "        ,'MFC_MPI_Avg180'\n",
    "        ,'MFC_MPI_Avg365'\n",
    "    ],\n",
    "    validation_set='auto', \n",
    "    verbose=True\n",
    ")"
   ]
  },
  {
   "cell_type": "markdown",
   "metadata": {},
   "source": [
    "# Predict values on data that was NOT used in training"
   ]
  },
  {
   "cell_type": "code",
   "execution_count": 5,
   "metadata": {},
   "outputs": [],
   "source": [
    "#test_data.explore()\n",
    "#test_data"
   ]
  },
  {
   "cell_type": "code",
   "execution_count": 6,
   "metadata": {},
   "outputs": [],
   "source": [
    "## Save predictions to an SArray\n",
    "predictions = model.predict(test_data)\n",
    "#predictions"
   ]
  },
  {
   "cell_type": "markdown",
   "metadata": {},
   "source": [
    "### Print example predictions"
   ]
  },
  {
   "cell_type": "code",
   "execution_count": 7,
   "metadata": {},
   "outputs": [
    {
     "name": "stdout",
     "output_type": "stream",
     "text": [
      "DJIA_Original\n",
      "predicted  19954.0 \t, but actual value was \t 19883.0 \t difference is \t -71.16\n",
      "predicted  21267.0 \t, but actual value was \t 21305.0 \t difference is \t 38.12\n",
      "predicted  23459.0 \t, but actual value was \t 23429.0 \t difference is \t -30.15\n",
      "predicted  24408.0 \t, but actual value was \t 24108.0 \t difference is \t -299.59\n",
      "predicted  26096.0 \t, but actual value was \t 26192.0 \t difference is \t 95.67\n",
      "predicted  24913.0 \t, but actual value was \t 24860.0 \t difference is \t -52.94\n",
      "predicted  27209.0 \t, but actual value was \t 27282.0 \t difference is \t 72.5\n",
      "predicted  28116.0 \t, but actual value was \t 28291.0 \t difference is \t 174.25\n",
      "predicted  23691.0 \t, but actual value was \t 23730.0 \t difference is \t 39.35\n"
     ]
    }
   ],
   "source": [
    "start = 0\n",
    "end = len(predictions)\n",
    "step = 30\n",
    "\n",
    "print(column_to_predict)\n",
    "\n",
    "for id in range(start, end, step):\n",
    "    a = round( predictions[id], 2)\n",
    "    b = test_data[id][column_to_predict]\n",
    "    print( \"predicted \", round(a, 0), \"\\t, but actual value was \\t\", round(b, 0) , \"\\t difference is \\t\", round(b-a, 2) ) # dict"
   ]
  },
  {
   "cell_type": "markdown",
   "metadata": {},
   "source": [
    "## \"Be Less Wrong\"\n",
    "\n",
    "Evaluate how good is the model\n",
    "\n",
    "It appears that the predition results vary from run to run so it is worth to run it until you find the model with minimum error, \n",
    "\n",
    "or **as Elon Musk says \"Be less wrong\"**.\n",
    "\n",
    "### Previous results:\n",
    "\n",
    "#### ^DJI averages only \n",
    "\n",
    "- {'max_error': 1749.5078773959249, 'rmse': 124.58897796835019}\n",
    "- {'max_error': 1621.9227669335778, 'rmse': 106.39104997423203}\n",
    "- {'max_error': 1297.117071650111, 'rmse': 101.14871945325757} - BEST RMSE\n",
    "- {'max_error': 1122.2711616305896, 'rmse': 183.129076342891}\n",
    "\n",
    "\n",
    "#### added ISM Manufacturing Employment\n",
    "- {'max_error': 1708.487399827758, 'rmse': 235.1824022060072}\n",
    "- {'max_error': 1093.9698394310544, 'rmse': 188.48468898003293} - BEST Max Error\n",
    "\n",
    "#### added US Housing Starts m/m\n",
    "- {'max_error': 1715.473257380545, 'rmse': 255.97228904279297}\n",
    "- {'max_error': 1255.8992158671826, 'rmse': 217.41264660030447}\n",
    "- {'max_error': 1102.1036788719757, 'rmse': 226.13843475657265}\n",
    "- {'max_error': 1397.611965987675, 'rmse': 236.1374235983197}\n",
    "\n",
    "#### added Manufacturing PMI\n",
    "- {'max_error': 1522.3008456494535, 'rmse': 236.8009135100335}\n",
    "- {'max_error': 1629.302702719142, 'rmse': 229.67414881442798}"
   ]
  },
  {
   "cell_type": "markdown",
   "metadata": {},
   "source": [
    "### TODO: find the best model\n",
    "\n",
    "Create a \"for\" loop to find the best model"
   ]
  },
  {
   "cell_type": "code",
   "execution_count": 8,
   "metadata": {},
   "outputs": [
    {
     "data": {
      "text/plain": [
       "{'max_error': 1537.3488101040712, 'rmse': 223.1978172408259}"
      ]
     },
     "execution_count": 8,
     "metadata": {},
     "output_type": "execute_result"
    }
   ],
   "source": [
    "#TODO: write this in a loop to select the best model\n",
    "# Evaluate the model and save the results into a dictionary\n",
    "results = model.evaluate( test_data ) #test_data[0:2531]\n",
    "results"
   ]
  },
  {
   "cell_type": "markdown",
   "metadata": {},
   "source": [
    "## Save the model\n",
    "\n",
    "Save the model for future use in MacOS, iOS, etc. applications"
   ]
  },
  {
   "cell_type": "code",
   "execution_count": 9,
   "metadata": {},
   "outputs": [],
   "source": [
    "# Export to Core ML\n",
    "model.export_coreml('./DATA/models/^DJI.mlmodel')"
   ]
  },
  {
   "cell_type": "code",
   "execution_count": null,
   "metadata": {},
   "outputs": [],
   "source": []
  }
 ],
 "metadata": {
  "kernelspec": {
   "display_name": "Python 3.6.10 64-bit ('turi': conda)",
   "language": "python",
   "name": "python361064bitturiconda565ecc262d0845fbb235ae21ac24296f"
  },
  "language_info": {
   "codemirror_mode": {
    "name": "ipython",
    "version": 3
   },
   "file_extension": ".py",
   "mimetype": "text/x-python",
   "name": "python",
   "nbconvert_exporter": "python",
   "pygments_lexer": "ipython3",
   "version": "3.6.10"
  },
  "toc": {
   "base_numbering": 1,
   "nav_menu": {},
   "number_sections": true,
   "sideBar": true,
   "skip_h1_title": true,
   "title_cell": "Table of Contents",
   "title_sidebar": "Contents",
   "toc_cell": true,
   "toc_position": {},
   "toc_section_display": true,
   "toc_window_display": true
  }
 },
 "nbformat": 4,
 "nbformat_minor": 4
}
