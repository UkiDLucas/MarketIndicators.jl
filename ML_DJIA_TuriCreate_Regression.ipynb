{
 "cells": [
  {
   "cell_type": "markdown",
   "metadata": {},
   "source": [
    "# Machine Learning to predict Down Jones Industrial Average\n",
    "\n",
    "This simple Machine Learning example shows how to predict [^DJI value](https://finance.yahoo.com/quote/%5EDJI?p=^DJI&.tsrc=fin-srch) based on the past calculated averages."
   ]
  },
  {
   "cell_type": "markdown",
   "metadata": {
    "toc": true
   },
   "source": [
    "<h1>Table of Contents<span class=\"tocSkip\"></span></h1>\n",
    "<div class=\"toc\"><ul class=\"toc-item\"><li><span><a href=\"#Setup\" data-toc-modified-id=\"Setup-1\"><span class=\"toc-item-num\">1&nbsp;&nbsp;</span>Setup</a></span></li><li><span><a href=\"#Read-data-into-a-SFrame\" data-toc-modified-id=\"Read-data-into-a-SFrame-2\"><span class=\"toc-item-num\">2&nbsp;&nbsp;</span>Read data into a SFrame</a></span><ul class=\"toc-item\"><li><span><a href=\"#TODO:-Value-should-be-original-value\" data-toc-modified-id=\"TODO:-Value-should-be-original-value-2.1\"><span class=\"toc-item-num\">2.1&nbsp;&nbsp;</span>TODO: Value should be original value</a></span></li></ul></li><li><span><a href=\"#Select-the-data-to-train-and-test\" data-toc-modified-id=\"Select-the-data-to-train-and-test-3\"><span class=\"toc-item-num\">3&nbsp;&nbsp;</span>Select the data to train and test</a></span><ul class=\"toc-item\"><li><span><a href=\"#TODO:-Let's-NOT-take-last-few-days\" data-toc-modified-id=\"TODO:-Let's-NOT-take-last-few-days-3.1\"><span class=\"toc-item-num\">3.1&nbsp;&nbsp;</span>TODO: Let's NOT take last few days</a></span></li></ul></li><li><span><a href=\"#Create-the-model\" data-toc-modified-id=\"Create-the-model-4\"><span class=\"toc-item-num\">4&nbsp;&nbsp;</span>Create the model</a></span><ul class=\"toc-item\"><li><span><a href=\"#Print-example-predictions\" data-toc-modified-id=\"Print-example-predictions-4.1\"><span class=\"toc-item-num\">4.1&nbsp;&nbsp;</span>Print example predictions</a></span></li></ul></li><li><span><a href=\"#&quot;Be-Less-Wrong&quot;\" data-toc-modified-id=\"&quot;Be-Less-Wrong&quot;-5\"><span class=\"toc-item-num\">5&nbsp;&nbsp;</span>\"Be Less Wrong\"</a></span><ul class=\"toc-item\"><li><span><a href=\"#Previous-results:\" data-toc-modified-id=\"Previous-results:-5.1\"><span class=\"toc-item-num\">5.1&nbsp;&nbsp;</span>Previous results:</a></span><ul class=\"toc-item\"><li><span><a href=\"#^DJI-averages-only\" data-toc-modified-id=\"^DJI-averages-only-5.1.1\"><span class=\"toc-item-num\">5.1.1&nbsp;&nbsp;</span>^DJI averages only</a></span></li><li><span><a href=\"#added-ISM-Manufacturing-Employment\" data-toc-modified-id=\"added-ISM-Manufacturing-Employment-5.1.2\"><span class=\"toc-item-num\">5.1.2&nbsp;&nbsp;</span>added ISM Manufacturing Employment</a></span></li></ul></li><li><span><a href=\"#TODO:-find-the-best-model\" data-toc-modified-id=\"TODO:-find-the-best-model-5.2\"><span class=\"toc-item-num\">5.2&nbsp;&nbsp;</span>TODO: find the best model</a></span></li></ul></li><li><span><a href=\"#Save-the-model\" data-toc-modified-id=\"Save-the-model-6\"><span class=\"toc-item-num\">6&nbsp;&nbsp;</span>Save the model</a></span></li></ul></div>"
   ]
  },
  {
   "cell_type": "markdown",
   "metadata": {},
   "source": [
    "## Setup"
   ]
  },
  {
   "cell_type": "code",
   "execution_count": 1,
   "metadata": {},
   "outputs": [],
   "source": [
    "# Install TuriCreate. Last updated November 4, 2020\n",
    "\n",
    "# !pip install --upgrade pip\n",
    "# !pip install Turicreate"
   ]
  },
  {
   "cell_type": "code",
   "execution_count": 2,
   "metadata": {},
   "outputs": [],
   "source": [
    "import turicreate as tc"
   ]
  },
  {
   "cell_type": "code",
   "execution_count": 3,
   "metadata": {},
   "outputs": [],
   "source": [
    "# Location of the spreadsheet (Comma Delimited Value) with all info that I prepared in a separate notebook.\n",
    "data_path=\"./DATA/processed/uber.csv\""
   ]
  },
  {
   "cell_type": "markdown",
   "metadata": {},
   "source": [
    "## Read data into a SFrame"
   ]
  },
  {
   "cell_type": "code",
   "execution_count": 12,
   "metadata": {},
   "outputs": [
    {
     "data": {
      "text/html": [
       "<pre>Finished parsing file /Users/uki/REPOS/MarketIndicators.jl/DATA/processed/uber.csv</pre>"
      ],
      "text/plain": [
       "Finished parsing file /Users/uki/REPOS/MarketIndicators.jl/DATA/processed/uber.csv"
      ]
     },
     "metadata": {},
     "output_type": "display_data"
    },
    {
     "data": {
      "text/html": [
       "<pre>Parsing completed. Parsed 100 lines in 0.056977 secs.</pre>"
      ],
      "text/plain": [
       "Parsing completed. Parsed 100 lines in 0.056977 secs."
      ]
     },
     "metadata": {},
     "output_type": "display_data"
    },
    {
     "name": "stdout",
     "output_type": "stream",
     "text": [
      "------------------------------------------------------\n",
      "Inferred types from first 100 line(s) of file as \n",
      "column_type_hints=[int,str,float,float,float,float,float,float,float,float,float,float,float,float,float,float]\n",
      "If parsing fails due to incorrect types, you can correct\n",
      "the inferred type list above and pass it to read_csv in\n",
      "the column_type_hints argument\n",
      "------------------------------------------------------\n"
     ]
    },
    {
     "data": {
      "text/html": [
       "<pre>Finished parsing file /Users/uki/REPOS/MarketIndicators.jl/DATA/processed/uber.csv</pre>"
      ],
      "text/plain": [
       "Finished parsing file /Users/uki/REPOS/MarketIndicators.jl/DATA/processed/uber.csv"
      ]
     },
     "metadata": {},
     "output_type": "display_data"
    },
    {
     "data": {
      "text/html": [
       "<pre>Parsing completed. Parsed 2559 lines in 0.012843 secs.</pre>"
      ],
      "text/plain": [
       "Parsing completed. Parsed 2559 lines in 0.012843 secs."
      ]
     },
     "metadata": {},
     "output_type": "display_data"
    },
    {
     "data": {
      "text/html": [
       "<div style=\"max-height:1000px;max-width:1500px;overflow:auto;\"><table frame=\"box\" rules=\"cols\">\n",
       "    <tr>\n",
       "        <th style=\"padding-left: 1em; padding-right: 1em; text-align: center\">Day</th>\n",
       "        <th style=\"padding-left: 1em; padding-right: 1em; text-align: center\">Date</th>\n",
       "        <th style=\"padding-left: 1em; padding-right: 1em; text-align: center\">DJIA_Value</th>\n",
       "        <th style=\"padding-left: 1em; padding-right: 1em; text-align: center\">DJIA_Original</th>\n",
       "        <th style=\"padding-left: 1em; padding-right: 1em; text-align: center\">DJIA_Avg005</th>\n",
       "        <th style=\"padding-left: 1em; padding-right: 1em; text-align: center\">DJIA_Avg030</th>\n",
       "        <th style=\"padding-left: 1em; padding-right: 1em; text-align: center\">DJIA_Avg090</th>\n",
       "        <th style=\"padding-left: 1em; padding-right: 1em; text-align: center\">DJIA_Avg180</th>\n",
       "        <th style=\"padding-left: 1em; padding-right: 1em; text-align: center\">DJIA_Avg365</th>\n",
       "    </tr>\n",
       "    <tr>\n",
       "        <td style=\"padding-left: 1em; padding-right: 1em; text-align: center; vertical-align: top\">735536</td>\n",
       "        <td style=\"padding-left: 1em; padding-right: 1em; text-align: center; vertical-align: top\">2014-10-30</td>\n",
       "        <td style=\"padding-left: 1em; padding-right: 1em; text-align: center; vertical-align: top\">16.0</td>\n",
       "        <td style=\"padding-left: 1em; padding-right: 1em; text-align: center; vertical-align: top\">17223.960938</td>\n",
       "        <td style=\"padding-left: 1em; padding-right: 1em; text-align: center; vertical-align: top\">13.6</td>\n",
       "        <td style=\"padding-left: 1em; padding-right: 1em; text-align: center; vertical-align: top\">11.87</td>\n",
       "        <td style=\"padding-left: 1em; padding-right: 1em; text-align: center; vertical-align: top\">13.09</td>\n",
       "        <td style=\"padding-left: 1em; padding-right: 1em; text-align: center; vertical-align: top\">12.77</td>\n",
       "        <td style=\"padding-left: 1em; padding-right: 1em; text-align: center; vertical-align: top\">9.74</td>\n",
       "    </tr>\n",
       "    <tr>\n",
       "        <td style=\"padding-left: 1em; padding-right: 1em; text-align: center; vertical-align: top\">735537</td>\n",
       "        <td style=\"padding-left: 1em; padding-right: 1em; text-align: center; vertical-align: top\">2014-10-31</td>\n",
       "        <td style=\"padding-left: 1em; padding-right: 1em; text-align: center; vertical-align: top\">17.0</td>\n",
       "        <td style=\"padding-left: 1em; padding-right: 1em; text-align: center; vertical-align: top\">17395.539063</td>\n",
       "        <td style=\"padding-left: 1em; padding-right: 1em; text-align: center; vertical-align: top\">14.6</td>\n",
       "        <td style=\"padding-left: 1em; padding-right: 1em; text-align: center; vertical-align: top\">11.97</td>\n",
       "        <td style=\"padding-left: 1em; padding-right: 1em; text-align: center; vertical-align: top\">13.17</td>\n",
       "        <td style=\"padding-left: 1em; padding-right: 1em; text-align: center; vertical-align: top\">12.81</td>\n",
       "        <td style=\"padding-left: 1em; padding-right: 1em; text-align: center; vertical-align: top\">9.78</td>\n",
       "    </tr>\n",
       "    <tr>\n",
       "        <td style=\"padding-left: 1em; padding-right: 1em; text-align: center; vertical-align: top\">735538</td>\n",
       "        <td style=\"padding-left: 1em; padding-right: 1em; text-align: center; vertical-align: top\">2014-11-01</td>\n",
       "        <td style=\"padding-left: 1em; padding-right: 1em; text-align: center; vertical-align: top\">17.0</td>\n",
       "        <td style=\"padding-left: 1em; padding-right: 1em; text-align: center; vertical-align: top\">17395.539063</td>\n",
       "        <td style=\"padding-left: 1em; padding-right: 1em; text-align: center; vertical-align: top\">15.6</td>\n",
       "        <td style=\"padding-left: 1em; padding-right: 1em; text-align: center; vertical-align: top\">12.1</td>\n",
       "        <td style=\"padding-left: 1em; padding-right: 1em; text-align: center; vertical-align: top\">13.24</td>\n",
       "        <td style=\"padding-left: 1em; padding-right: 1em; text-align: center; vertical-align: top\">12.84</td>\n",
       "        <td style=\"padding-left: 1em; padding-right: 1em; text-align: center; vertical-align: top\">9.82</td>\n",
       "    </tr>\n",
       "    <tr>\n",
       "        <td style=\"padding-left: 1em; padding-right: 1em; text-align: center; vertical-align: top\">735539</td>\n",
       "        <td style=\"padding-left: 1em; padding-right: 1em; text-align: center; vertical-align: top\">2014-11-02</td>\n",
       "        <td style=\"padding-left: 1em; padding-right: 1em; text-align: center; vertical-align: top\">17.0</td>\n",
       "        <td style=\"padding-left: 1em; padding-right: 1em; text-align: center; vertical-align: top\">17395.539063</td>\n",
       "        <td style=\"padding-left: 1em; padding-right: 1em; text-align: center; vertical-align: top\">16.2</td>\n",
       "        <td style=\"padding-left: 1em; padding-right: 1em; text-align: center; vertical-align: top\">12.2</td>\n",
       "        <td style=\"padding-left: 1em; padding-right: 1em; text-align: center; vertical-align: top\">13.32</td>\n",
       "        <td style=\"padding-left: 1em; padding-right: 1em; text-align: center; vertical-align: top\">12.88</td>\n",
       "        <td style=\"padding-left: 1em; padding-right: 1em; text-align: center; vertical-align: top\">9.87</td>\n",
       "    </tr>\n",
       "    <tr>\n",
       "        <td style=\"padding-left: 1em; padding-right: 1em; text-align: center; vertical-align: top\">735540</td>\n",
       "        <td style=\"padding-left: 1em; padding-right: 1em; text-align: center; vertical-align: top\">2014-11-03</td>\n",
       "        <td style=\"padding-left: 1em; padding-right: 1em; text-align: center; vertical-align: top\">18.0</td>\n",
       "        <td style=\"padding-left: 1em; padding-right: 1em; text-align: center; vertical-align: top\">17410.650391</td>\n",
       "        <td style=\"padding-left: 1em; padding-right: 1em; text-align: center; vertical-align: top\">17.0</td>\n",
       "        <td style=\"padding-left: 1em; padding-right: 1em; text-align: center; vertical-align: top\">12.33</td>\n",
       "        <td style=\"padding-left: 1em; padding-right: 1em; text-align: center; vertical-align: top\">13.41</td>\n",
       "        <td style=\"padding-left: 1em; padding-right: 1em; text-align: center; vertical-align: top\">12.93</td>\n",
       "        <td style=\"padding-left: 1em; padding-right: 1em; text-align: center; vertical-align: top\">9.91</td>\n",
       "    </tr>\n",
       "    <tr>\n",
       "        <td style=\"padding-left: 1em; padding-right: 1em; text-align: center; vertical-align: top\">735541</td>\n",
       "        <td style=\"padding-left: 1em; padding-right: 1em; text-align: center; vertical-align: top\">2014-11-04</td>\n",
       "        <td style=\"padding-left: 1em; padding-right: 1em; text-align: center; vertical-align: top\">17.0</td>\n",
       "        <td style=\"padding-left: 1em; padding-right: 1em; text-align: center; vertical-align: top\">17397.230469</td>\n",
       "        <td style=\"padding-left: 1em; padding-right: 1em; text-align: center; vertical-align: top\">17.2</td>\n",
       "        <td style=\"padding-left: 1em; padding-right: 1em; text-align: center; vertical-align: top\">12.43</td>\n",
       "        <td style=\"padding-left: 1em; padding-right: 1em; text-align: center; vertical-align: top\">13.5</td>\n",
       "        <td style=\"padding-left: 1em; padding-right: 1em; text-align: center; vertical-align: top\">12.97</td>\n",
       "        <td style=\"padding-left: 1em; padding-right: 1em; text-align: center; vertical-align: top\">9.95</td>\n",
       "    </tr>\n",
       "    <tr>\n",
       "        <td style=\"padding-left: 1em; padding-right: 1em; text-align: center; vertical-align: top\">735542</td>\n",
       "        <td style=\"padding-left: 1em; padding-right: 1em; text-align: center; vertical-align: top\">2014-11-05</td>\n",
       "        <td style=\"padding-left: 1em; padding-right: 1em; text-align: center; vertical-align: top\">18.0</td>\n",
       "        <td style=\"padding-left: 1em; padding-right: 1em; text-align: center; vertical-align: top\">17486.589844</td>\n",
       "        <td style=\"padding-left: 1em; padding-right: 1em; text-align: center; vertical-align: top\">17.4</td>\n",
       "        <td style=\"padding-left: 1em; padding-right: 1em; text-align: center; vertical-align: top\">12.53</td>\n",
       "        <td style=\"padding-left: 1em; padding-right: 1em; text-align: center; vertical-align: top\">13.6</td>\n",
       "        <td style=\"padding-left: 1em; padding-right: 1em; text-align: center; vertical-align: top\">13.01</td>\n",
       "        <td style=\"padding-left: 1em; padding-right: 1em; text-align: center; vertical-align: top\">9.99</td>\n",
       "    </tr>\n",
       "</table>\n",
       "<table frame=\"box\" rules=\"cols\">\n",
       "    <tr>\n",
       "        <th style=\"padding-left: 1em; padding-right: 1em; text-align: center\">ISM_MFC_EMP_Value</th>\n",
       "        <th style=\"padding-left: 1em; padding-right: 1em; text-align: center\">ISM_MFC_EMP_Original</th>\n",
       "        <th style=\"padding-left: 1em; padding-right: 1em; text-align: center\">ISM_MFC_EMP_Avg005</th>\n",
       "        <th style=\"padding-left: 1em; padding-right: 1em; text-align: center\">ISM_MFC_EMP_Avg030</th>\n",
       "        <th style=\"padding-left: 1em; padding-right: 1em; text-align: center\">ISM_MFC_EMP_Avg090</th>\n",
       "        <th style=\"padding-left: 1em; padding-right: 1em; text-align: center\">ISM_MFC_EMP_Avg180</th>\n",
       "    </tr>\n",
       "    <tr>\n",
       "        <td style=\"padding-left: 1em; padding-right: 1em; text-align: center; vertical-align: top\">83.0</td>\n",
       "        <td style=\"padding-left: 1em; padding-right: 1em; text-align: center; vertical-align: top\">54.6</td>\n",
       "        <td style=\"padding-left: 1em; padding-right: 1em; text-align: center; vertical-align: top\">83.0</td>\n",
       "        <td style=\"padding-left: 1em; padding-right: 1em; text-align: center; vertical-align: top\">83.0</td>\n",
       "        <td style=\"padding-left: 1em; padding-right: 1em; text-align: center; vertical-align: top\">101.34</td>\n",
       "        <td style=\"padding-left: 1em; padding-right: 1em; text-align: center; vertical-align: top\">87.66</td>\n",
       "    </tr>\n",
       "    <tr>\n",
       "        <td style=\"padding-left: 1em; padding-right: 1em; text-align: center; vertical-align: top\">83.0</td>\n",
       "        <td style=\"padding-left: 1em; padding-right: 1em; text-align: center; vertical-align: top\">54.6</td>\n",
       "        <td style=\"padding-left: 1em; padding-right: 1em; text-align: center; vertical-align: top\">83.0</td>\n",
       "        <td style=\"padding-left: 1em; padding-right: 1em; text-align: center; vertical-align: top\">83.0</td>\n",
       "        <td style=\"padding-left: 1em; padding-right: 1em; text-align: center; vertical-align: top\">101.03</td>\n",
       "        <td style=\"padding-left: 1em; padding-right: 1em; text-align: center; vertical-align: top\">87.66</td>\n",
       "    </tr>\n",
       "    <tr>\n",
       "        <td style=\"padding-left: 1em; padding-right: 1em; text-align: center; vertical-align: top\">83.0</td>\n",
       "        <td style=\"padding-left: 1em; padding-right: 1em; text-align: center; vertical-align: top\">54.6</td>\n",
       "        <td style=\"padding-left: 1em; padding-right: 1em; text-align: center; vertical-align: top\">83.0</td>\n",
       "        <td style=\"padding-left: 1em; padding-right: 1em; text-align: center; vertical-align: top\">83.0</td>\n",
       "        <td style=\"padding-left: 1em; padding-right: 1em; text-align: center; vertical-align: top\">100.72</td>\n",
       "        <td style=\"padding-left: 1em; padding-right: 1em; text-align: center; vertical-align: top\">87.66</td>\n",
       "    </tr>\n",
       "    <tr>\n",
       "        <td style=\"padding-left: 1em; padding-right: 1em; text-align: center; vertical-align: top\">83.0</td>\n",
       "        <td style=\"padding-left: 1em; padding-right: 1em; text-align: center; vertical-align: top\">54.6</td>\n",
       "        <td style=\"padding-left: 1em; padding-right: 1em; text-align: center; vertical-align: top\">83.0</td>\n",
       "        <td style=\"padding-left: 1em; padding-right: 1em; text-align: center; vertical-align: top\">83.0</td>\n",
       "        <td style=\"padding-left: 1em; padding-right: 1em; text-align: center; vertical-align: top\">100.41</td>\n",
       "        <td style=\"padding-left: 1em; padding-right: 1em; text-align: center; vertical-align: top\">87.66</td>\n",
       "    </tr>\n",
       "    <tr>\n",
       "        <td style=\"padding-left: 1em; padding-right: 1em; text-align: center; vertical-align: top\">90.0</td>\n",
       "        <td style=\"padding-left: 1em; padding-right: 1em; text-align: center; vertical-align: top\">55.5</td>\n",
       "        <td style=\"padding-left: 1em; padding-right: 1em; text-align: center; vertical-align: top\">84.4</td>\n",
       "        <td style=\"padding-left: 1em; padding-right: 1em; text-align: center; vertical-align: top\">83.23</td>\n",
       "        <td style=\"padding-left: 1em; padding-right: 1em; text-align: center; vertical-align: top\">100.18</td>\n",
       "        <td style=\"padding-left: 1em; padding-right: 1em; text-align: center; vertical-align: top\">87.7</td>\n",
       "    </tr>\n",
       "    <tr>\n",
       "        <td style=\"padding-left: 1em; padding-right: 1em; text-align: center; vertical-align: top\">90.0</td>\n",
       "        <td style=\"padding-left: 1em; padding-right: 1em; text-align: center; vertical-align: top\">55.5</td>\n",
       "        <td style=\"padding-left: 1em; padding-right: 1em; text-align: center; vertical-align: top\">85.8</td>\n",
       "        <td style=\"padding-left: 1em; padding-right: 1em; text-align: center; vertical-align: top\">83.47</td>\n",
       "        <td style=\"padding-left: 1em; padding-right: 1em; text-align: center; vertical-align: top\">99.94</td>\n",
       "        <td style=\"padding-left: 1em; padding-right: 1em; text-align: center; vertical-align: top\">87.74</td>\n",
       "    </tr>\n",
       "    <tr>\n",
       "        <td style=\"padding-left: 1em; padding-right: 1em; text-align: center; vertical-align: top\">90.0</td>\n",
       "        <td style=\"padding-left: 1em; padding-right: 1em; text-align: center; vertical-align: top\">55.5</td>\n",
       "        <td style=\"padding-left: 1em; padding-right: 1em; text-align: center; vertical-align: top\">87.2</td>\n",
       "        <td style=\"padding-left: 1em; padding-right: 1em; text-align: center; vertical-align: top\">83.7</td>\n",
       "        <td style=\"padding-left: 1em; padding-right: 1em; text-align: center; vertical-align: top\">99.71</td>\n",
       "        <td style=\"padding-left: 1em; padding-right: 1em; text-align: center; vertical-align: top\">87.78</td>\n",
       "    </tr>\n",
       "</table>\n",
       "<table frame=\"box\" rules=\"cols\">\n",
       "    <tr>\n",
       "        <th style=\"padding-left: 1em; padding-right: 1em; text-align: center\">ISM_MFC_EMP_Avg365</th>\n",
       "    </tr>\n",
       "    <tr>\n",
       "        <td style=\"padding-left: 1em; padding-right: 1em; text-align: center; vertical-align: top\">0.0</td>\n",
       "    </tr>\n",
       "    <tr>\n",
       "        <td style=\"padding-left: 1em; padding-right: 1em; text-align: center; vertical-align: top\">82.02</td>\n",
       "    </tr>\n",
       "    <tr>\n",
       "        <td style=\"padding-left: 1em; padding-right: 1em; text-align: center; vertical-align: top\">82.05</td>\n",
       "    </tr>\n",
       "    <tr>\n",
       "        <td style=\"padding-left: 1em; padding-right: 1em; text-align: center; vertical-align: top\">82.08</td>\n",
       "    </tr>\n",
       "    <tr>\n",
       "        <td style=\"padding-left: 1em; padding-right: 1em; text-align: center; vertical-align: top\">82.13</td>\n",
       "    </tr>\n",
       "    <tr>\n",
       "        <td style=\"padding-left: 1em; padding-right: 1em; text-align: center; vertical-align: top\">82.18</td>\n",
       "    </tr>\n",
       "    <tr>\n",
       "        <td style=\"padding-left: 1em; padding-right: 1em; text-align: center; vertical-align: top\">82.23</td>\n",
       "    </tr>\n",
       "</table>\n",
       "[7 rows x 16 columns]<br/>\n",
       "</div>"
      ],
      "text/plain": [
       "Columns:\n",
       "\tDay\tint\n",
       "\tDate\tstr\n",
       "\tDJIA_Value\tfloat\n",
       "\tDJIA_Original\tfloat\n",
       "\tDJIA_Avg005\tfloat\n",
       "\tDJIA_Avg030\tfloat\n",
       "\tDJIA_Avg090\tfloat\n",
       "\tDJIA_Avg180\tfloat\n",
       "\tDJIA_Avg365\tfloat\n",
       "\tISM_MFC_EMP_Value\tfloat\n",
       "\tISM_MFC_EMP_Original\tfloat\n",
       "\tISM_MFC_EMP_Avg005\tfloat\n",
       "\tISM_MFC_EMP_Avg030\tfloat\n",
       "\tISM_MFC_EMP_Avg090\tfloat\n",
       "\tISM_MFC_EMP_Avg180\tfloat\n",
       "\tISM_MFC_EMP_Avg365\tfloat\n",
       "\n",
       "Rows: 7\n",
       "\n",
       "Data:\n",
       "+--------+------------+------------+---------------+-------------+-------------+\n",
       "|  Day   |    Date    | DJIA_Value | DJIA_Original | DJIA_Avg005 | DJIA_Avg030 |\n",
       "+--------+------------+------------+---------------+-------------+-------------+\n",
       "| 735536 | 2014-10-30 |    16.0    |  17223.960938 |     13.6    |    11.87    |\n",
       "| 735537 | 2014-10-31 |    17.0    |  17395.539063 |     14.6    |    11.97    |\n",
       "| 735538 | 2014-11-01 |    17.0    |  17395.539063 |     15.6    |     12.1    |\n",
       "| 735539 | 2014-11-02 |    17.0    |  17395.539063 |     16.2    |     12.2    |\n",
       "| 735540 | 2014-11-03 |    18.0    |  17410.650391 |     17.0    |    12.33    |\n",
       "| 735541 | 2014-11-04 |    17.0    |  17397.230469 |     17.2    |    12.43    |\n",
       "| 735542 | 2014-11-05 |    18.0    |  17486.589844 |     17.4    |    12.53    |\n",
       "+--------+------------+------------+---------------+-------------+-------------+\n",
       "+-------------+-------------+-------------+-------------------+----------------------+\n",
       "| DJIA_Avg090 | DJIA_Avg180 | DJIA_Avg365 | ISM_MFC_EMP_Value | ISM_MFC_EMP_Original |\n",
       "+-------------+-------------+-------------+-------------------+----------------------+\n",
       "|    13.09    |    12.77    |     9.74    |        83.0       |         54.6         |\n",
       "|    13.17    |    12.81    |     9.78    |        83.0       |         54.6         |\n",
       "|    13.24    |    12.84    |     9.82    |        83.0       |         54.6         |\n",
       "|    13.32    |    12.88    |     9.87    |        83.0       |         54.6         |\n",
       "|    13.41    |    12.93    |     9.91    |        90.0       |         55.5         |\n",
       "|     13.5    |    12.97    |     9.95    |        90.0       |         55.5         |\n",
       "|     13.6    |    13.01    |     9.99    |        90.0       |         55.5         |\n",
       "+-------------+-------------+-------------+-------------------+----------------------+\n",
       "+--------------------+--------------------+--------------------+--------------------+\n",
       "| ISM_MFC_EMP_Avg005 | ISM_MFC_EMP_Avg030 | ISM_MFC_EMP_Avg090 | ISM_MFC_EMP_Avg180 |\n",
       "+--------------------+--------------------+--------------------+--------------------+\n",
       "|        83.0        |        83.0        |       101.34       |       87.66        |\n",
       "|        83.0        |        83.0        |       101.03       |       87.66        |\n",
       "|        83.0        |        83.0        |       100.72       |       87.66        |\n",
       "|        83.0        |        83.0        |       100.41       |       87.66        |\n",
       "|        84.4        |       83.23        |       100.18       |        87.7        |\n",
       "|        85.8        |       83.47        |       99.94        |       87.74        |\n",
       "|        87.2        |        83.7        |       99.71        |       87.78        |\n",
       "+--------------------+--------------------+--------------------+--------------------+\n",
       "+--------------------+\n",
       "| ISM_MFC_EMP_Avg365 |\n",
       "+--------------------+\n",
       "|        0.0         |\n",
       "|       82.02        |\n",
       "|       82.05        |\n",
       "|       82.08        |\n",
       "|       82.13        |\n",
       "|       82.18        |\n",
       "|       82.23        |\n",
       "+--------------------+\n",
       "[7 rows x 16 columns]"
      ]
     },
     "execution_count": 12,
     "metadata": {},
     "output_type": "execute_result"
    }
   ],
   "source": [
    "# Load the data\n",
    "data =  tc.SFrame(data_path)\n",
    "data[363:370] # show data sample"
   ]
  },
  {
   "cell_type": "markdown",
   "metadata": {},
   "source": [
    "### TODO: Value should be original value\n",
    "\n",
    "Please note the the \"High\" is normalized to Int8, \n",
    "but for the prediciton purposes it should be an original \"real\" value."
   ]
  },
  {
   "cell_type": "markdown",
   "metadata": {},
   "source": [
    "## Select the data to train and test"
   ]
  },
  {
   "cell_type": "code",
   "execution_count": 5,
   "metadata": {},
   "outputs": [],
   "source": [
    "row_count = len(data)\n",
    "# Do not take initial year data as averages are not complete\n",
    "data = data[365:row_count] \n",
    "# Make a train-test split\n",
    "train_data, test_data = data.random_split(0.8)"
   ]
  },
  {
   "cell_type": "markdown",
   "metadata": {},
   "source": [
    "### TODO: Let's NOT take last few days\n",
    "\n",
    "I need to save the last few days to see if I can really predict upcoming values."
   ]
  },
  {
   "cell_type": "markdown",
   "metadata": {},
   "source": [
    "## Create the model\n",
    "\n",
    "- https://apple.github.io/turicreate/docs/api/generated/turicreate.regression.create.html\n",
    "- Automatically picks the right model based on your data.\n",
    "- target: is the number to be predicted.\n",
    "- features: are the the values that we ues to try to find pattern leading to prediciton."
   ]
  },
  {
   "cell_type": "code",
   "execution_count": 6,
   "metadata": {},
   "outputs": [
    {
     "data": {
      "text/html": [
       "<pre>Automatically generating validation set from 5% of the data.</pre>"
      ],
      "text/plain": [
       "Automatically generating validation set from 5% of the data."
      ]
     },
     "metadata": {},
     "output_type": "display_data"
    },
    {
     "data": {
      "text/html": [
       "<pre>Linear regression:</pre>"
      ],
      "text/plain": [
       "Linear regression:"
      ]
     },
     "metadata": {},
     "output_type": "display_data"
    },
    {
     "data": {
      "text/html": [
       "<pre>--------------------------------------------------------</pre>"
      ],
      "text/plain": [
       "--------------------------------------------------------"
      ]
     },
     "metadata": {},
     "output_type": "display_data"
    },
    {
     "data": {
      "text/html": [
       "<pre>Number of examples          : 1670</pre>"
      ],
      "text/plain": [
       "Number of examples          : 1670"
      ]
     },
     "metadata": {},
     "output_type": "display_data"
    },
    {
     "data": {
      "text/html": [
       "<pre>Number of features          : 9</pre>"
      ],
      "text/plain": [
       "Number of features          : 9"
      ]
     },
     "metadata": {},
     "output_type": "display_data"
    },
    {
     "data": {
      "text/html": [
       "<pre>Number of unpacked features : 9</pre>"
      ],
      "text/plain": [
       "Number of unpacked features : 9"
      ]
     },
     "metadata": {},
     "output_type": "display_data"
    },
    {
     "data": {
      "text/html": [
       "<pre>Number of coefficients    : 10</pre>"
      ],
      "text/plain": [
       "Number of coefficients    : 10"
      ]
     },
     "metadata": {},
     "output_type": "display_data"
    },
    {
     "data": {
      "text/html": [
       "<pre>Starting Newton Method</pre>"
      ],
      "text/plain": [
       "Starting Newton Method"
      ]
     },
     "metadata": {},
     "output_type": "display_data"
    },
    {
     "data": {
      "text/html": [
       "<pre>--------------------------------------------------------</pre>"
      ],
      "text/plain": [
       "--------------------------------------------------------"
      ]
     },
     "metadata": {},
     "output_type": "display_data"
    },
    {
     "data": {
      "text/html": [
       "<pre>+-----------+----------+--------------+--------------------+----------------------+---------------------------------+-----------------------------------+</pre>"
      ],
      "text/plain": [
       "+-----------+----------+--------------+--------------------+----------------------+---------------------------------+-----------------------------------+"
      ]
     },
     "metadata": {},
     "output_type": "display_data"
    },
    {
     "data": {
      "text/html": [
       "<pre>| Iteration | Passes   | Elapsed Time | Training Max Error | Validation Max Error | Training Root-Mean-Square Error | Validation Root-Mean-Square Error |</pre>"
      ],
      "text/plain": [
       "| Iteration | Passes   | Elapsed Time | Training Max Error | Validation Max Error | Training Root-Mean-Square Error | Validation Root-Mean-Square Error |"
      ]
     },
     "metadata": {},
     "output_type": "display_data"
    },
    {
     "data": {
      "text/html": [
       "<pre>+-----------+----------+--------------+--------------------+----------------------+---------------------------------+-----------------------------------+</pre>"
      ],
      "text/plain": [
       "+-----------+----------+--------------+--------------------+----------------------+---------------------------------+-----------------------------------+"
      ]
     },
     "metadata": {},
     "output_type": "display_data"
    },
    {
     "data": {
      "text/html": [
       "<pre>| 1         | 2        | 1.011605     | 1726.136408        | 1373.591946          | 197.274935                      | 225.591010                        |</pre>"
      ],
      "text/plain": [
       "| 1         | 2        | 1.011605     | 1726.136408        | 1373.591946          | 197.274935                      | 225.591010                        |"
      ]
     },
     "metadata": {},
     "output_type": "display_data"
    },
    {
     "data": {
      "text/html": [
       "<pre>+-----------+----------+--------------+--------------------+----------------------+---------------------------------+-----------------------------------+</pre>"
      ],
      "text/plain": [
       "+-----------+----------+--------------+--------------------+----------------------+---------------------------------+-----------------------------------+"
      ]
     },
     "metadata": {},
     "output_type": "display_data"
    },
    {
     "data": {
      "text/html": [
       "<pre>SUCCESS: Optimal solution found.</pre>"
      ],
      "text/plain": [
       "SUCCESS: Optimal solution found."
      ]
     },
     "metadata": {},
     "output_type": "display_data"
    },
    {
     "data": {
      "text/html": [
       "<pre></pre>"
      ],
      "text/plain": []
     },
     "metadata": {},
     "output_type": "display_data"
    },
    {
     "data": {
      "text/html": [
       "<pre>Boosted trees regression:</pre>"
      ],
      "text/plain": [
       "Boosted trees regression:"
      ]
     },
     "metadata": {},
     "output_type": "display_data"
    },
    {
     "data": {
      "text/html": [
       "<pre>--------------------------------------------------------</pre>"
      ],
      "text/plain": [
       "--------------------------------------------------------"
      ]
     },
     "metadata": {},
     "output_type": "display_data"
    },
    {
     "data": {
      "text/html": [
       "<pre>Number of examples          : 1670</pre>"
      ],
      "text/plain": [
       "Number of examples          : 1670"
      ]
     },
     "metadata": {},
     "output_type": "display_data"
    },
    {
     "data": {
      "text/html": [
       "<pre>Number of features          : 9</pre>"
      ],
      "text/plain": [
       "Number of features          : 9"
      ]
     },
     "metadata": {},
     "output_type": "display_data"
    },
    {
     "data": {
      "text/html": [
       "<pre>Number of unpacked features : 9</pre>"
      ],
      "text/plain": [
       "Number of unpacked features : 9"
      ]
     },
     "metadata": {},
     "output_type": "display_data"
    },
    {
     "data": {
      "text/html": [
       "<pre>+-----------+--------------+--------------------+----------------------+---------------------------------+-----------------------------------+</pre>"
      ],
      "text/plain": [
       "+-----------+--------------+--------------------+----------------------+---------------------------------+-----------------------------------+"
      ]
     },
     "metadata": {},
     "output_type": "display_data"
    },
    {
     "data": {
      "text/html": [
       "<pre>| Iteration | Elapsed Time | Training Max Error | Validation Max Error | Training Root-Mean-Square Error | Validation Root-Mean-Square Error |</pre>"
      ],
      "text/plain": [
       "| Iteration | Elapsed Time | Training Max Error | Validation Max Error | Training Root-Mean-Square Error | Validation Root-Mean-Square Error |"
      ]
     },
     "metadata": {},
     "output_type": "display_data"
    },
    {
     "data": {
      "text/html": [
       "<pre>+-----------+--------------+--------------------+----------------------+---------------------------------+-----------------------------------+</pre>"
      ],
      "text/plain": [
       "+-----------+--------------+--------------------+----------------------+---------------------------------+-----------------------------------+"
      ]
     },
     "metadata": {},
     "output_type": "display_data"
    },
    {
     "data": {
      "text/html": [
       "<pre>| 1         | 0.004780     | 21417.039062       | 20023.439453         | 15958.697266                    | 15804.503906                      |</pre>"
      ],
      "text/plain": [
       "| 1         | 0.004780     | 21417.039062       | 20023.439453         | 15958.697266                    | 15804.503906                      |"
      ]
     },
     "metadata": {},
     "output_type": "display_data"
    },
    {
     "data": {
      "text/html": [
       "<pre>| 2         | 0.007487     | 15488.752930       | 14095.153320         | 11194.066406                    | 11041.805664                      |</pre>"
      ],
      "text/plain": [
       "| 2         | 0.007487     | 15488.752930       | 14095.153320         | 11194.066406                    | 11041.805664                      |"
      ]
     },
     "metadata": {},
     "output_type": "display_data"
    },
    {
     "data": {
      "text/html": [
       "<pre>| 3         | 0.010442     | 11201.052734       | 9807.453125          | 7853.904297                     | 7721.740723                       |</pre>"
      ],
      "text/plain": [
       "| 3         | 0.010442     | 11201.052734       | 9807.453125          | 7853.904297                     | 7721.740723                       |"
      ]
     },
     "metadata": {},
     "output_type": "display_data"
    },
    {
     "data": {
      "text/html": [
       "<pre>| 4         | 0.013677     | 8117.980469        | 7287.695312          | 5511.420898                     | 5418.612793                       |</pre>"
      ],
      "text/plain": [
       "| 4         | 0.013677     | 8117.980469        | 7287.695312          | 5511.420898                     | 5418.612793                       |"
      ]
     },
     "metadata": {},
     "output_type": "display_data"
    },
    {
     "data": {
      "text/html": [
       "<pre>| 5         | 0.017391     | 6067.990234        | 5713.873047          | 3870.073486                     | 3800.159668                       |</pre>"
      ],
      "text/plain": [
       "| 5         | 0.017391     | 6067.990234        | 5713.873047          | 3870.073486                     | 3800.159668                       |"
      ]
     },
     "metadata": {},
     "output_type": "display_data"
    },
    {
     "data": {
      "text/html": [
       "<pre>| 10        | 0.032766     | 1733.802734        | 2445.609375          | 689.192383                      | 700.341125                        |</pre>"
      ],
      "text/plain": [
       "| 10        | 0.032766     | 1733.802734        | 2445.609375          | 689.192383                      | 700.341125                        |"
      ]
     },
     "metadata": {},
     "output_type": "display_data"
    },
    {
     "data": {
      "text/html": [
       "<pre>+-----------+--------------+--------------------+----------------------+---------------------------------+-----------------------------------+</pre>"
      ],
      "text/plain": [
       "+-----------+--------------+--------------------+----------------------+---------------------------------+-----------------------------------+"
      ]
     },
     "metadata": {},
     "output_type": "display_data"
    }
   ],
   "source": [
    "model = tc.regression.create(\n",
    "    train_data, \n",
    "    target='DJIA_Original',\n",
    "    features = [\n",
    "         'DJIA_Avg005'\n",
    "        ,'DJIA_Avg030'\n",
    "        ,'DJIA_Avg090'\n",
    "        ,'DJIA_Avg180'\n",
    "        ,'DJIA_Avg365'\n",
    "        ,'ISM_MFC_EMP_Avg005'\n",
    "        ,'ISM_MFC_EMP_Avg030'\n",
    "        ,'ISM_MFC_EMP_Avg090'\n",
    "        ,'ISM_MFC_EMP_Avg180'\n",
    "        ,'ISM_MFC_EMP_Avg365'\n",
    "    ],\n",
    "    validation_set='auto', \n",
    "    verbose=True\n",
    ")"
   ]
  },
  {
   "cell_type": "markdown",
   "metadata": {},
   "source": [
    "# Predict values on data that was NOT used in training"
   ]
  },
  {
   "cell_type": "code",
   "execution_count": 7,
   "metadata": {},
   "outputs": [
    {
     "data": {
      "text/html": [
       "<div style=\"max-height:1000px;max-width:1500px;overflow:auto;\"><table frame=\"box\" rules=\"cols\">\n",
       "    <tr>\n",
       "        <th style=\"padding-left: 1em; padding-right: 1em; text-align: center\">Day</th>\n",
       "        <th style=\"padding-left: 1em; padding-right: 1em; text-align: center\">Date</th>\n",
       "        <th style=\"padding-left: 1em; padding-right: 1em; text-align: center\">DJIA_Value</th>\n",
       "        <th style=\"padding-left: 1em; padding-right: 1em; text-align: center\">DJIA_Original</th>\n",
       "        <th style=\"padding-left: 1em; padding-right: 1em; text-align: center\">DJIA_Avg005</th>\n",
       "        <th style=\"padding-left: 1em; padding-right: 1em; text-align: center\">DJIA_Avg030</th>\n",
       "        <th style=\"padding-left: 1em; padding-right: 1em; text-align: center\">DJIA_Avg090</th>\n",
       "        <th style=\"padding-left: 1em; padding-right: 1em; text-align: center\">DJIA_Avg180</th>\n",
       "        <th style=\"padding-left: 1em; padding-right: 1em; text-align: center\">DJIA_Avg365</th>\n",
       "    </tr>\n",
       "    <tr>\n",
       "        <td style=\"padding-left: 1em; padding-right: 1em; text-align: center; vertical-align: top\">735538</td>\n",
       "        <td style=\"padding-left: 1em; padding-right: 1em; text-align: center; vertical-align: top\">2014-11-01</td>\n",
       "        <td style=\"padding-left: 1em; padding-right: 1em; text-align: center; vertical-align: top\">17.0</td>\n",
       "        <td style=\"padding-left: 1em; padding-right: 1em; text-align: center; vertical-align: top\">17395.539063</td>\n",
       "        <td style=\"padding-left: 1em; padding-right: 1em; text-align: center; vertical-align: top\">15.6</td>\n",
       "        <td style=\"padding-left: 1em; padding-right: 1em; text-align: center; vertical-align: top\">12.1</td>\n",
       "        <td style=\"padding-left: 1em; padding-right: 1em; text-align: center; vertical-align: top\">13.24</td>\n",
       "        <td style=\"padding-left: 1em; padding-right: 1em; text-align: center; vertical-align: top\">12.84</td>\n",
       "        <td style=\"padding-left: 1em; padding-right: 1em; text-align: center; vertical-align: top\">9.82</td>\n",
       "    </tr>\n",
       "    <tr>\n",
       "        <td style=\"padding-left: 1em; padding-right: 1em; text-align: center; vertical-align: top\">735539</td>\n",
       "        <td style=\"padding-left: 1em; padding-right: 1em; text-align: center; vertical-align: top\">2014-11-02</td>\n",
       "        <td style=\"padding-left: 1em; padding-right: 1em; text-align: center; vertical-align: top\">17.0</td>\n",
       "        <td style=\"padding-left: 1em; padding-right: 1em; text-align: center; vertical-align: top\">17395.539063</td>\n",
       "        <td style=\"padding-left: 1em; padding-right: 1em; text-align: center; vertical-align: top\">16.2</td>\n",
       "        <td style=\"padding-left: 1em; padding-right: 1em; text-align: center; vertical-align: top\">12.2</td>\n",
       "        <td style=\"padding-left: 1em; padding-right: 1em; text-align: center; vertical-align: top\">13.32</td>\n",
       "        <td style=\"padding-left: 1em; padding-right: 1em; text-align: center; vertical-align: top\">12.88</td>\n",
       "        <td style=\"padding-left: 1em; padding-right: 1em; text-align: center; vertical-align: top\">9.87</td>\n",
       "    </tr>\n",
       "    <tr>\n",
       "        <td style=\"padding-left: 1em; padding-right: 1em; text-align: center; vertical-align: top\">735547</td>\n",
       "        <td style=\"padding-left: 1em; padding-right: 1em; text-align: center; vertical-align: top\">2014-11-10</td>\n",
       "        <td style=\"padding-left: 1em; padding-right: 1em; text-align: center; vertical-align: top\">19.0</td>\n",
       "        <td style=\"padding-left: 1em; padding-right: 1em; text-align: center; vertical-align: top\">17621.869141</td>\n",
       "        <td style=\"padding-left: 1em; padding-right: 1em; text-align: center; vertical-align: top\">19.0</td>\n",
       "        <td style=\"padding-left: 1em; padding-right: 1em; text-align: center; vertical-align: top\">13.5</td>\n",
       "        <td style=\"padding-left: 1em; padding-right: 1em; text-align: center; vertical-align: top\">14.1</td>\n",
       "        <td style=\"padding-left: 1em; padding-right: 1em; text-align: center; vertical-align: top\">13.24</td>\n",
       "        <td style=\"padding-left: 1em; padding-right: 1em; text-align: center; vertical-align: top\">10.21</td>\n",
       "    </tr>\n",
       "    <tr>\n",
       "        <td style=\"padding-left: 1em; padding-right: 1em; text-align: center; vertical-align: top\">735548</td>\n",
       "        <td style=\"padding-left: 1em; padding-right: 1em; text-align: center; vertical-align: top\">2014-11-11</td>\n",
       "        <td style=\"padding-left: 1em; padding-right: 1em; text-align: center; vertical-align: top\">20.0</td>\n",
       "        <td style=\"padding-left: 1em; padding-right: 1em; text-align: center; vertical-align: top\">17638.210938</td>\n",
       "        <td style=\"padding-left: 1em; padding-right: 1em; text-align: center; vertical-align: top\">19.2</td>\n",
       "        <td style=\"padding-left: 1em; padding-right: 1em; text-align: center; vertical-align: top\">13.77</td>\n",
       "        <td style=\"padding-left: 1em; padding-right: 1em; text-align: center; vertical-align: top\">14.2</td>\n",
       "        <td style=\"padding-left: 1em; padding-right: 1em; text-align: center; vertical-align: top\">13.3</td>\n",
       "        <td style=\"padding-left: 1em; padding-right: 1em; text-align: center; vertical-align: top\">10.26</td>\n",
       "    </tr>\n",
       "    <tr>\n",
       "        <td style=\"padding-left: 1em; padding-right: 1em; text-align: center; vertical-align: top\">735554</td>\n",
       "        <td style=\"padding-left: 1em; padding-right: 1em; text-align: center; vertical-align: top\">2014-11-17</td>\n",
       "        <td style=\"padding-left: 1em; padding-right: 1em; text-align: center; vertical-align: top\">20.0</td>\n",
       "        <td style=\"padding-left: 1em; padding-right: 1em; text-align: center; vertical-align: top\">17675.070313</td>\n",
       "        <td style=\"padding-left: 1em; padding-right: 1em; text-align: center; vertical-align: top\">20.0</td>\n",
       "        <td style=\"padding-left: 1em; padding-right: 1em; text-align: center; vertical-align: top\">16.0</td>\n",
       "        <td style=\"padding-left: 1em; padding-right: 1em; text-align: center; vertical-align: top\">14.72</td>\n",
       "        <td style=\"padding-left: 1em; padding-right: 1em; text-align: center; vertical-align: top\">13.65</td>\n",
       "        <td style=\"padding-left: 1em; padding-right: 1em; text-align: center; vertical-align: top\">10.53</td>\n",
       "    </tr>\n",
       "    <tr>\n",
       "        <td style=\"padding-left: 1em; padding-right: 1em; text-align: center; vertical-align: top\">735557</td>\n",
       "        <td style=\"padding-left: 1em; padding-right: 1em; text-align: center; vertical-align: top\">2014-11-20</td>\n",
       "        <td style=\"padding-left: 1em; padding-right: 1em; text-align: center; vertical-align: top\">20.0</td>\n",
       "        <td style=\"padding-left: 1em; padding-right: 1em; text-align: center; vertical-align: top\">17720.439453</td>\n",
       "        <td style=\"padding-left: 1em; padding-right: 1em; text-align: center; vertical-align: top\">20.0</td>\n",
       "        <td style=\"padding-left: 1em; padding-right: 1em; text-align: center; vertical-align: top\">17.1</td>\n",
       "        <td style=\"padding-left: 1em; padding-right: 1em; text-align: center; vertical-align: top\">14.92</td>\n",
       "        <td style=\"padding-left: 1em; padding-right: 1em; text-align: center; vertical-align: top\">13.82</td>\n",
       "        <td style=\"padding-left: 1em; padding-right: 1em; text-align: center; vertical-align: top\">10.65</td>\n",
       "    </tr>\n",
       "    <tr>\n",
       "        <td style=\"padding-left: 1em; padding-right: 1em; text-align: center; vertical-align: top\">735559</td>\n",
       "        <td style=\"padding-left: 1em; padding-right: 1em; text-align: center; vertical-align: top\">2014-11-22</td>\n",
       "        <td style=\"padding-left: 1em; padding-right: 1em; text-align: center; vertical-align: top\">22.0</td>\n",
       "        <td style=\"padding-left: 1em; padding-right: 1em; text-align: center; vertical-align: top\">17894.830078</td>\n",
       "        <td style=\"padding-left: 1em; padding-right: 1em; text-align: center; vertical-align: top\">20.8</td>\n",
       "        <td style=\"padding-left: 1em; padding-right: 1em; text-align: center; vertical-align: top\">17.8</td>\n",
       "        <td style=\"padding-left: 1em; padding-right: 1em; text-align: center; vertical-align: top\">15.1</td>\n",
       "        <td style=\"padding-left: 1em; padding-right: 1em; text-align: center; vertical-align: top\">13.95</td>\n",
       "        <td style=\"padding-left: 1em; padding-right: 1em; text-align: center; vertical-align: top\">10.74</td>\n",
       "    </tr>\n",
       "    <tr>\n",
       "        <td style=\"padding-left: 1em; padding-right: 1em; text-align: center; vertical-align: top\">735561</td>\n",
       "        <td style=\"padding-left: 1em; padding-right: 1em; text-align: center; vertical-align: top\">2014-11-24</td>\n",
       "        <td style=\"padding-left: 1em; padding-right: 1em; text-align: center; vertical-align: top\">22.0</td>\n",
       "        <td style=\"padding-left: 1em; padding-right: 1em; text-align: center; vertical-align: top\">17855.269531</td>\n",
       "        <td style=\"padding-left: 1em; padding-right: 1em; text-align: center; vertical-align: top\">21.6</td>\n",
       "        <td style=\"padding-left: 1em; padding-right: 1em; text-align: center; vertical-align: top\">18.47</td>\n",
       "        <td style=\"padding-left: 1em; padding-right: 1em; text-align: center; vertical-align: top\">15.26</td>\n",
       "        <td style=\"padding-left: 1em; padding-right: 1em; text-align: center; vertical-align: top\">14.07</td>\n",
       "        <td style=\"padding-left: 1em; padding-right: 1em; text-align: center; vertical-align: top\">10.84</td>\n",
       "    </tr>\n",
       "    <tr>\n",
       "        <td style=\"padding-left: 1em; padding-right: 1em; text-align: center; vertical-align: top\">735566</td>\n",
       "        <td style=\"padding-left: 1em; padding-right: 1em; text-align: center; vertical-align: top\">2014-11-29</td>\n",
       "        <td style=\"padding-left: 1em; padding-right: 1em; text-align: center; vertical-align: top\">22.0</td>\n",
       "        <td style=\"padding-left: 1em; padding-right: 1em; text-align: center; vertical-align: top\">17893.419922</td>\n",
       "        <td style=\"padding-left: 1em; padding-right: 1em; text-align: center; vertical-align: top\">21.6</td>\n",
       "        <td style=\"padding-left: 1em; padding-right: 1em; text-align: center; vertical-align: top\">19.8</td>\n",
       "        <td style=\"padding-left: 1em; padding-right: 1em; text-align: center; vertical-align: top\">15.62</td>\n",
       "        <td style=\"padding-left: 1em; padding-right: 1em; text-align: center; vertical-align: top\">14.36</td>\n",
       "        <td style=\"padding-left: 1em; padding-right: 1em; text-align: center; vertical-align: top\">11.05</td>\n",
       "    </tr>\n",
       "    <tr>\n",
       "        <td style=\"padding-left: 1em; padding-right: 1em; text-align: center; vertical-align: top\">735568</td>\n",
       "        <td style=\"padding-left: 1em; padding-right: 1em; text-align: center; vertical-align: top\">2014-12-01</td>\n",
       "        <td style=\"padding-left: 1em; padding-right: 1em; text-align: center; vertical-align: top\">21.0</td>\n",
       "        <td style=\"padding-left: 1em; padding-right: 1em; text-align: center; vertical-align: top\">17827.269531</td>\n",
       "        <td style=\"padding-left: 1em; padding-right: 1em; text-align: center; vertical-align: top\">21.6</td>\n",
       "        <td style=\"padding-left: 1em; padding-right: 1em; text-align: center; vertical-align: top\">20.1</td>\n",
       "        <td style=\"padding-left: 1em; padding-right: 1em; text-align: center; vertical-align: top\">15.77</td>\n",
       "        <td style=\"padding-left: 1em; padding-right: 1em; text-align: center; vertical-align: top\">14.47</td>\n",
       "        <td style=\"padding-left: 1em; padding-right: 1em; text-align: center; vertical-align: top\">11.13</td>\n",
       "    </tr>\n",
       "</table>\n",
       "<table frame=\"box\" rules=\"cols\">\n",
       "    <tr>\n",
       "        <th style=\"padding-left: 1em; padding-right: 1em; text-align: center\">ISM_MFC_EMP_Value</th>\n",
       "        <th style=\"padding-left: 1em; padding-right: 1em; text-align: center\">ISM_MFC_EMP_Original</th>\n",
       "        <th style=\"padding-left: 1em; padding-right: 1em; text-align: center\">ISM_MFC_EMP_Avg005</th>\n",
       "        <th style=\"padding-left: 1em; padding-right: 1em; text-align: center\">ISM_MFC_EMP_Avg030</th>\n",
       "        <th style=\"padding-left: 1em; padding-right: 1em; text-align: center\">ISM_MFC_EMP_Avg090</th>\n",
       "        <th style=\"padding-left: 1em; padding-right: 1em; text-align: center\">ISM_MFC_EMP_Avg180</th>\n",
       "    </tr>\n",
       "    <tr>\n",
       "        <td style=\"padding-left: 1em; padding-right: 1em; text-align: center; vertical-align: top\">83.0</td>\n",
       "        <td style=\"padding-left: 1em; padding-right: 1em; text-align: center; vertical-align: top\">54.6</td>\n",
       "        <td style=\"padding-left: 1em; padding-right: 1em; text-align: center; vertical-align: top\">83.0</td>\n",
       "        <td style=\"padding-left: 1em; padding-right: 1em; text-align: center; vertical-align: top\">83.0</td>\n",
       "        <td style=\"padding-left: 1em; padding-right: 1em; text-align: center; vertical-align: top\">100.72</td>\n",
       "        <td style=\"padding-left: 1em; padding-right: 1em; text-align: center; vertical-align: top\">87.66</td>\n",
       "    </tr>\n",
       "    <tr>\n",
       "        <td style=\"padding-left: 1em; padding-right: 1em; text-align: center; vertical-align: top\">83.0</td>\n",
       "        <td style=\"padding-left: 1em; padding-right: 1em; text-align: center; vertical-align: top\">54.6</td>\n",
       "        <td style=\"padding-left: 1em; padding-right: 1em; text-align: center; vertical-align: top\">83.0</td>\n",
       "        <td style=\"padding-left: 1em; padding-right: 1em; text-align: center; vertical-align: top\">83.0</td>\n",
       "        <td style=\"padding-left: 1em; padding-right: 1em; text-align: center; vertical-align: top\">100.41</td>\n",
       "        <td style=\"padding-left: 1em; padding-right: 1em; text-align: center; vertical-align: top\">87.66</td>\n",
       "    </tr>\n",
       "    <tr>\n",
       "        <td style=\"padding-left: 1em; padding-right: 1em; text-align: center; vertical-align: top\">90.0</td>\n",
       "        <td style=\"padding-left: 1em; padding-right: 1em; text-align: center; vertical-align: top\">55.5</td>\n",
       "        <td style=\"padding-left: 1em; padding-right: 1em; text-align: center; vertical-align: top\">90.0</td>\n",
       "        <td style=\"padding-left: 1em; padding-right: 1em; text-align: center; vertical-align: top\">84.87</td>\n",
       "        <td style=\"padding-left: 1em; padding-right: 1em; text-align: center; vertical-align: top\">98.54</td>\n",
       "        <td style=\"padding-left: 1em; padding-right: 1em; text-align: center; vertical-align: top\">87.97</td>\n",
       "    </tr>\n",
       "    <tr>\n",
       "        <td style=\"padding-left: 1em; padding-right: 1em; text-align: center; vertical-align: top\">90.0</td>\n",
       "        <td style=\"padding-left: 1em; padding-right: 1em; text-align: center; vertical-align: top\">55.5</td>\n",
       "        <td style=\"padding-left: 1em; padding-right: 1em; text-align: center; vertical-align: top\">90.0</td>\n",
       "        <td style=\"padding-left: 1em; padding-right: 1em; text-align: center; vertical-align: top\">85.1</td>\n",
       "        <td style=\"padding-left: 1em; padding-right: 1em; text-align: center; vertical-align: top\">98.31</td>\n",
       "        <td style=\"padding-left: 1em; padding-right: 1em; text-align: center; vertical-align: top\">88.01</td>\n",
       "    </tr>\n",
       "    <tr>\n",
       "        <td style=\"padding-left: 1em; padding-right: 1em; text-align: center; vertical-align: top\">90.0</td>\n",
       "        <td style=\"padding-left: 1em; padding-right: 1em; text-align: center; vertical-align: top\">55.5</td>\n",
       "        <td style=\"padding-left: 1em; padding-right: 1em; text-align: center; vertical-align: top\">90.0</td>\n",
       "        <td style=\"padding-left: 1em; padding-right: 1em; text-align: center; vertical-align: top\">86.5</td>\n",
       "        <td style=\"padding-left: 1em; padding-right: 1em; text-align: center; vertical-align: top\">96.91</td>\n",
       "        <td style=\"padding-left: 1em; padding-right: 1em; text-align: center; vertical-align: top\">88.24</td>\n",
       "    </tr>\n",
       "    <tr>\n",
       "        <td style=\"padding-left: 1em; padding-right: 1em; text-align: center; vertical-align: top\">90.0</td>\n",
       "        <td style=\"padding-left: 1em; padding-right: 1em; text-align: center; vertical-align: top\">55.5</td>\n",
       "        <td style=\"padding-left: 1em; padding-right: 1em; text-align: center; vertical-align: top\">90.0</td>\n",
       "        <td style=\"padding-left: 1em; padding-right: 1em; text-align: center; vertical-align: top\">87.2</td>\n",
       "        <td style=\"padding-left: 1em; padding-right: 1em; text-align: center; vertical-align: top\">96.21</td>\n",
       "        <td style=\"padding-left: 1em; padding-right: 1em; text-align: center; vertical-align: top\">88.36</td>\n",
       "    </tr>\n",
       "    <tr>\n",
       "        <td style=\"padding-left: 1em; padding-right: 1em; text-align: center; vertical-align: top\">90.0</td>\n",
       "        <td style=\"padding-left: 1em; padding-right: 1em; text-align: center; vertical-align: top\">55.5</td>\n",
       "        <td style=\"padding-left: 1em; padding-right: 1em; text-align: center; vertical-align: top\">90.0</td>\n",
       "        <td style=\"padding-left: 1em; padding-right: 1em; text-align: center; vertical-align: top\">87.67</td>\n",
       "        <td style=\"padding-left: 1em; padding-right: 1em; text-align: center; vertical-align: top\">95.74</td>\n",
       "        <td style=\"padding-left: 1em; padding-right: 1em; text-align: center; vertical-align: top\">88.44</td>\n",
       "    </tr>\n",
       "    <tr>\n",
       "        <td style=\"padding-left: 1em; padding-right: 1em; text-align: center; vertical-align: top\">90.0</td>\n",
       "        <td style=\"padding-left: 1em; padding-right: 1em; text-align: center; vertical-align: top\">55.5</td>\n",
       "        <td style=\"padding-left: 1em; padding-right: 1em; text-align: center; vertical-align: top\">90.0</td>\n",
       "        <td style=\"padding-left: 1em; padding-right: 1em; text-align: center; vertical-align: top\">88.13</td>\n",
       "        <td style=\"padding-left: 1em; padding-right: 1em; text-align: center; vertical-align: top\">95.28</td>\n",
       "        <td style=\"padding-left: 1em; padding-right: 1em; text-align: center; vertical-align: top\">88.52</td>\n",
       "    </tr>\n",
       "    <tr>\n",
       "        <td style=\"padding-left: 1em; padding-right: 1em; text-align: center; vertical-align: top\">90.0</td>\n",
       "        <td style=\"padding-left: 1em; padding-right: 1em; text-align: center; vertical-align: top\">55.5</td>\n",
       "        <td style=\"padding-left: 1em; padding-right: 1em; text-align: center; vertical-align: top\">90.0</td>\n",
       "        <td style=\"padding-left: 1em; padding-right: 1em; text-align: center; vertical-align: top\">89.3</td>\n",
       "        <td style=\"padding-left: 1em; padding-right: 1em; text-align: center; vertical-align: top\">94.11</td>\n",
       "        <td style=\"padding-left: 1em; padding-right: 1em; text-align: center; vertical-align: top\">88.79</td>\n",
       "    </tr>\n",
       "    <tr>\n",
       "        <td style=\"padding-left: 1em; padding-right: 1em; text-align: center; vertical-align: top\">85.0</td>\n",
       "        <td style=\"padding-left: 1em; padding-right: 1em; text-align: center; vertical-align: top\">54.9</td>\n",
       "        <td style=\"padding-left: 1em; padding-right: 1em; text-align: center; vertical-align: top\">89.0</td>\n",
       "        <td style=\"padding-left: 1em; padding-right: 1em; text-align: center; vertical-align: top\">89.6</td>\n",
       "        <td style=\"padding-left: 1em; padding-right: 1em; text-align: center; vertical-align: top\">93.6</td>\n",
       "        <td style=\"padding-left: 1em; padding-right: 1em; text-align: center; vertical-align: top\">88.99</td>\n",
       "    </tr>\n",
       "</table>\n",
       "<table frame=\"box\" rules=\"cols\">\n",
       "    <tr>\n",
       "        <th style=\"padding-left: 1em; padding-right: 1em; text-align: center\">ISM_MFC_EMP_Avg365</th>\n",
       "    </tr>\n",
       "    <tr>\n",
       "        <td style=\"padding-left: 1em; padding-right: 1em; text-align: center; vertical-align: top\">82.05</td>\n",
       "    </tr>\n",
       "    <tr>\n",
       "        <td style=\"padding-left: 1em; padding-right: 1em; text-align: center; vertical-align: top\">82.08</td>\n",
       "    </tr>\n",
       "    <tr>\n",
       "        <td style=\"padding-left: 1em; padding-right: 1em; text-align: center; vertical-align: top\">82.47</td>\n",
       "    </tr>\n",
       "    <tr>\n",
       "        <td style=\"padding-left: 1em; padding-right: 1em; text-align: center; vertical-align: top\">82.52</td>\n",
       "    </tr>\n",
       "    <tr>\n",
       "        <td style=\"padding-left: 1em; padding-right: 1em; text-align: center; vertical-align: top\">82.82</td>\n",
       "    </tr>\n",
       "    <tr>\n",
       "        <td style=\"padding-left: 1em; padding-right: 1em; text-align: center; vertical-align: top\">82.97</td>\n",
       "    </tr>\n",
       "    <tr>\n",
       "        <td style=\"padding-left: 1em; padding-right: 1em; text-align: center; vertical-align: top\">83.07</td>\n",
       "    </tr>\n",
       "    <tr>\n",
       "        <td style=\"padding-left: 1em; padding-right: 1em; text-align: center; vertical-align: top\">83.16</td>\n",
       "    </tr>\n",
       "    <tr>\n",
       "        <td style=\"padding-left: 1em; padding-right: 1em; text-align: center; vertical-align: top\">83.41</td>\n",
       "    </tr>\n",
       "    <tr>\n",
       "        <td style=\"padding-left: 1em; padding-right: 1em; text-align: center; vertical-align: top\">83.5</td>\n",
       "    </tr>\n",
       "</table>\n",
       "[? rows x 16 columns]<br/>Note: Only the head of the SFrame is printed. This SFrame is lazily evaluated.<br/>You can use sf.materialize() to force materialization.\n",
       "</div>"
      ],
      "text/plain": [
       "Columns:\n",
       "\tDay\tint\n",
       "\tDate\tstr\n",
       "\tDJIA_Value\tfloat\n",
       "\tDJIA_Original\tfloat\n",
       "\tDJIA_Avg005\tfloat\n",
       "\tDJIA_Avg030\tfloat\n",
       "\tDJIA_Avg090\tfloat\n",
       "\tDJIA_Avg180\tfloat\n",
       "\tDJIA_Avg365\tfloat\n",
       "\tISM_MFC_EMP_Value\tfloat\n",
       "\tISM_MFC_EMP_Original\tfloat\n",
       "\tISM_MFC_EMP_Avg005\tfloat\n",
       "\tISM_MFC_EMP_Avg030\tfloat\n",
       "\tISM_MFC_EMP_Avg090\tfloat\n",
       "\tISM_MFC_EMP_Avg180\tfloat\n",
       "\tISM_MFC_EMP_Avg365\tfloat\n",
       "\n",
       "Rows: Unknown\n",
       "\n",
       "Data:\n",
       "+--------+------------+------------+---------------+-------------+-------------+\n",
       "|  Day   |    Date    | DJIA_Value | DJIA_Original | DJIA_Avg005 | DJIA_Avg030 |\n",
       "+--------+------------+------------+---------------+-------------+-------------+\n",
       "| 735538 | 2014-11-01 |    17.0    |  17395.539063 |     15.6    |     12.1    |\n",
       "| 735539 | 2014-11-02 |    17.0    |  17395.539063 |     16.2    |     12.2    |\n",
       "| 735547 | 2014-11-10 |    19.0    |  17621.869141 |     19.0    |     13.5    |\n",
       "| 735548 | 2014-11-11 |    20.0    |  17638.210938 |     19.2    |    13.77    |\n",
       "| 735554 | 2014-11-17 |    20.0    |  17675.070313 |     20.0    |     16.0    |\n",
       "| 735557 | 2014-11-20 |    20.0    |  17720.439453 |     20.0    |     17.1    |\n",
       "| 735559 | 2014-11-22 |    22.0    |  17894.830078 |     20.8    |     17.8    |\n",
       "| 735561 | 2014-11-24 |    22.0    |  17855.269531 |     21.6    |    18.47    |\n",
       "| 735566 | 2014-11-29 |    22.0    |  17893.419922 |     21.6    |     19.8    |\n",
       "| 735568 | 2014-12-01 |    21.0    |  17827.269531 |     21.6    |     20.1    |\n",
       "+--------+------------+------------+---------------+-------------+-------------+\n",
       "+-------------+-------------+-------------+-------------------+----------------------+\n",
       "| DJIA_Avg090 | DJIA_Avg180 | DJIA_Avg365 | ISM_MFC_EMP_Value | ISM_MFC_EMP_Original |\n",
       "+-------------+-------------+-------------+-------------------+----------------------+\n",
       "|    13.24    |    12.84    |     9.82    |        83.0       |         54.6         |\n",
       "|    13.32    |    12.88    |     9.87    |        83.0       |         54.6         |\n",
       "|     14.1    |    13.24    |    10.21    |        90.0       |         55.5         |\n",
       "|     14.2    |     13.3    |    10.26    |        90.0       |         55.5         |\n",
       "|    14.72    |    13.65    |    10.53    |        90.0       |         55.5         |\n",
       "|    14.92    |    13.82    |    10.65    |        90.0       |         55.5         |\n",
       "|     15.1    |    13.95    |    10.74    |        90.0       |         55.5         |\n",
       "|    15.26    |    14.07    |    10.84    |        90.0       |         55.5         |\n",
       "|    15.62    |    14.36    |    11.05    |        90.0       |         55.5         |\n",
       "|    15.77    |    14.47    |    11.13    |        85.0       |         54.9         |\n",
       "+-------------+-------------+-------------+-------------------+----------------------+\n",
       "+--------------------+--------------------+--------------------+--------------------+\n",
       "| ISM_MFC_EMP_Avg005 | ISM_MFC_EMP_Avg030 | ISM_MFC_EMP_Avg090 | ISM_MFC_EMP_Avg180 |\n",
       "+--------------------+--------------------+--------------------+--------------------+\n",
       "|        83.0        |        83.0        |       100.72       |       87.66        |\n",
       "|        83.0        |        83.0        |       100.41       |       87.66        |\n",
       "|        90.0        |       84.87        |       98.54        |       87.97        |\n",
       "|        90.0        |        85.1        |       98.31        |       88.01        |\n",
       "|        90.0        |        86.5        |       96.91        |       88.24        |\n",
       "|        90.0        |        87.2        |       96.21        |       88.36        |\n",
       "|        90.0        |       87.67        |       95.74        |       88.44        |\n",
       "|        90.0        |       88.13        |       95.28        |       88.52        |\n",
       "|        90.0        |        89.3        |       94.11        |       88.79        |\n",
       "|        89.0        |        89.6        |        93.6        |       88.99        |\n",
       "+--------------------+--------------------+--------------------+--------------------+\n",
       "+--------------------+\n",
       "| ISM_MFC_EMP_Avg365 |\n",
       "+--------------------+\n",
       "|       82.05        |\n",
       "|       82.08        |\n",
       "|       82.47        |\n",
       "|       82.52        |\n",
       "|       82.82        |\n",
       "|       82.97        |\n",
       "|       83.07        |\n",
       "|       83.16        |\n",
       "|       83.41        |\n",
       "|        83.5        |\n",
       "+--------------------+\n",
       "[? rows x 16 columns]\n",
       "Note: Only the head of the SFrame is printed. This SFrame is lazily evaluated.\n",
       "You can use sf.materialize() to force materialization."
      ]
     },
     "execution_count": 7,
     "metadata": {},
     "output_type": "execute_result"
    }
   ],
   "source": [
    "#test_data.explore()\n",
    "test_data"
   ]
  },
  {
   "cell_type": "code",
   "execution_count": 8,
   "metadata": {},
   "outputs": [],
   "source": [
    "## Save predictions to an SArray\n",
    "predictions = model.predict(test_data)\n",
    "#predictions"
   ]
  },
  {
   "cell_type": "markdown",
   "metadata": {},
   "source": [
    "### Print example predictions"
   ]
  },
  {
   "cell_type": "code",
   "execution_count": 9,
   "metadata": {},
   "outputs": [
    {
     "name": "stdout",
     "output_type": "stream",
     "text": [
      "predicted  17253.0 \t, but actual value was \t 17396.0 \t difference is \t 142.61\n",
      "predicted  18178.0 \t, but actual value was \t 18189.0 \t difference is \t 11.29\n",
      "predicted  16474.0 \t, but actual value was \t 16382.0 \t difference is \t -92.6\n",
      "predicted  18246.0 \t, but actual value was \t 18257.0 \t difference is \t 10.76\n",
      "predicted  21355.0 \t, but actual value was \t 21333.0 \t difference is \t -22.21\n",
      "predicted  24809.0 \t, but actual value was \t 24850.0 \t difference is \t 40.28\n",
      "predicted  23134.0 \t, but actual value was \t 23382.0 \t difference is \t 247.59\n",
      "predicted  27255.0 \t, but actual value was \t 27111.0 \t difference is \t -144.24\n",
      "predicted  24070.0 \t, but actual value was \t 23613.0 \t difference is \t -457.2\n"
     ]
    }
   ],
   "source": [
    "start = 0\n",
    "end = len(predictions)\n",
    "step = 50\n",
    "\n",
    "for id in range(start, end, step):\n",
    "    a = round( predictions[id], 2)\n",
    "    b = test_data[id][\"DJIA_Original\"]\n",
    "    print( \"predicted \", round(a, 0), \"\\t, but actual value was \\t\", round(b, 0) , \"\\t difference is \\t\", round(b-a, 2) ) # dict"
   ]
  },
  {
   "cell_type": "markdown",
   "metadata": {},
   "source": [
    "## \"Be Less Wrong\"\n",
    "\n",
    "Evaluate how good is the model\n",
    "\n",
    "It appears that the predition results vary from run to run so it is worth to run it until you find the model with minimum error, \n",
    "\n",
    "or **as Elon Musk says \"Be less wrong\"**.\n",
    "\n",
    "### Previous results:\n",
    "\n",
    "#### ^DJI averages only \n",
    "\n",
    "- {'max_error': 1749.5078773959249, 'rmse': 124.58897796835019}\n",
    "- {'max_error': 1621.9227669335778, 'rmse': 106.39104997423203}\n",
    "- {'max_error': 1297.117071650111, 'rmse': 101.14871945325757} - BEST RMSE\n",
    "- {'max_error': 1122.2711616305896, 'rmse': 183.129076342891}\n",
    "\n",
    "\n",
    "#### added ISM Manufacturing Employment\n",
    "- {'max_error': 1708.487399827758, 'rmse': 235.1824022060072}\n",
    "- {'max_error': 1093.9698394310544, 'rmse': 188.48468898003293} - BEST Max Error\n",
    "\n",
    "TODO: write this in a loop to select the best model"
   ]
  },
  {
   "cell_type": "markdown",
   "metadata": {},
   "source": [
    "### TODO: find the best model\n",
    "\n",
    "Create a \"for\" loop to find the best model"
   ]
  },
  {
   "cell_type": "code",
   "execution_count": 10,
   "metadata": {},
   "outputs": [
    {
     "data": {
      "text/plain": [
       "{'max_error': 1834.1984875620983, 'rmse': 211.60306754432332}"
      ]
     },
     "execution_count": 10,
     "metadata": {},
     "output_type": "execute_result"
    }
   ],
   "source": [
    "# Evaluate the model and save the results into a dictionary\n",
    "results = model.evaluate( test_data ) #test_data[0:2531]\n",
    "results"
   ]
  },
  {
   "cell_type": "markdown",
   "metadata": {},
   "source": [
    "## Save the model\n",
    "\n",
    "Save the model for future use in MacOS, iOS, etc. applications"
   ]
  },
  {
   "cell_type": "code",
   "execution_count": 11,
   "metadata": {},
   "outputs": [],
   "source": [
    "# Export to Core ML\n",
    "model.export_coreml('./DATA/models/^DJI.mlmodel')"
   ]
  },
  {
   "cell_type": "code",
   "execution_count": null,
   "metadata": {},
   "outputs": [],
   "source": []
  }
 ],
 "metadata": {
  "kernelspec": {
   "display_name": "Python 3.6.10 64-bit ('turi': conda)",
   "language": "python",
   "name": "python361064bitturiconda565ecc262d0845fbb235ae21ac24296f"
  },
  "language_info": {
   "codemirror_mode": {
    "name": "ipython",
    "version": 3
   },
   "file_extension": ".py",
   "mimetype": "text/x-python",
   "name": "python",
   "nbconvert_exporter": "python",
   "pygments_lexer": "ipython3",
   "version": "3.6.10"
  },
  "toc": {
   "base_numbering": 1,
   "nav_menu": {},
   "number_sections": true,
   "sideBar": true,
   "skip_h1_title": true,
   "title_cell": "Table of Contents",
   "title_sidebar": "Contents",
   "toc_cell": true,
   "toc_position": {},
   "toc_section_display": true,
   "toc_window_display": true
  }
 },
 "nbformat": 4,
 "nbformat_minor": 4
}
