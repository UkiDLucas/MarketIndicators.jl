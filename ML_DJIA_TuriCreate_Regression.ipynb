{
 "cells": [
  {
   "cell_type": "markdown",
   "metadata": {},
   "source": [
    "# Machine Learning to predict Down Jones Industrial Average\n",
    "\n",
    "This simple Machine Learning example shows how to predict [^DJI value](https://finance.yahoo.com/quote/%5EDJI?p=^DJI&.tsrc=fin-srch) based on the past calculated averages."
   ]
  },
  {
   "cell_type": "markdown",
   "metadata": {
    "toc": true
   },
   "source": [
    "<h1>Table of Contents<span class=\"tocSkip\"></span></h1>\n",
    "<div class=\"toc\"><ul class=\"toc-item\"><li><span><a href=\"#Setup\" data-toc-modified-id=\"Setup-1\">Setup</a></span></li><li><span><a href=\"#Read-data-into-a-SFrame\" data-toc-modified-id=\"Read-data-into-a-SFrame-2\">Read data into a SFrame</a></span><ul class=\"toc-item\"><li><span><a href=\"#TODO:-Value-should-be-original-value\" data-toc-modified-id=\"TODO:-Value-should-be-original-value-2.1\">TODO: Value should be original value</a></span></li></ul></li><li><span><a href=\"#Select-the-data-to-train-and-test\" data-toc-modified-id=\"Select-the-data-to-train-and-test-3\">Select the data to train and test</a></span><ul class=\"toc-item\"><li><span><a href=\"#TODO:-Let's-NOT-take-last-few-days\" data-toc-modified-id=\"TODO:-Let's-NOT-take-last-few-days-3.1\">TODO: Let's NOT take last few days</a></span></li></ul></li><li><span><a href=\"#Create-the-model\" data-toc-modified-id=\"Create-the-model-4\">Create the model</a></span><ul class=\"toc-item\"><li><span><a href=\"#Print-example-predictions\" data-toc-modified-id=\"Print-example-predictions-4.1\">Print example predictions</a></span></li></ul></li><li><span><a href=\"#&quot;Be-Less-Wrong&quot;\" data-toc-modified-id=\"&quot;Be-Less-Wrong&quot;-5\">\"Be Less Wrong\"</a></span><ul class=\"toc-item\"><li><span><a href=\"#Previous-results:\" data-toc-modified-id=\"Previous-results:-5.1\">Previous results:</a></span><ul class=\"toc-item\"><li><span><a href=\"#^DJI-averages-only\" data-toc-modified-id=\"^DJI-averages-only-5.1.1\">^DJI averages only</a></span></li></ul></li><li><span><a href=\"#TODO:-find-the-best-model\" data-toc-modified-id=\"TODO:-find-the-best-model-5.2\">TODO: find the best model</a></span></li></ul></li><li><span><a href=\"#Save-the-model\" data-toc-modified-id=\"Save-the-model-6\">Save the model</a></span></li></ul></div>"
   ]
  },
  {
   "cell_type": "markdown",
   "metadata": {},
   "source": [
    "## Setup"
   ]
  },
  {
   "cell_type": "code",
   "execution_count": 1,
   "metadata": {},
   "outputs": [],
   "source": [
    "# Install TuriCreate. Last updated November 4, 2020\n",
    "\n",
    "# !pip install --upgrade pip\n",
    "# !pip install Turicreate"
   ]
  },
  {
   "cell_type": "code",
   "execution_count": 2,
   "metadata": {},
   "outputs": [],
   "source": [
    "import turicreate as tc"
   ]
  },
  {
   "cell_type": "code",
   "execution_count": 3,
   "metadata": {},
   "outputs": [],
   "source": [
    "# Location of the spreadsheet (Comma Delimited Value) with ^DJI info that I prpared in a separate notebook.\n",
    "data_path=\"./DATA/processed/^DJI.csv\""
   ]
  },
  {
   "cell_type": "markdown",
   "metadata": {},
   "source": [
    "## Read data into a SFrame"
   ]
  },
  {
   "cell_type": "code",
   "execution_count": 4,
   "metadata": {},
   "outputs": [
    {
     "data": {
      "text/html": [
       "<pre>Finished parsing file /Users/uki/REPOS/MarketIndicators.jl/DATA/processed/^DJI.csv</pre>"
      ],
      "text/plain": [
       "Finished parsing file /Users/uki/REPOS/MarketIndicators.jl/DATA/processed/^DJI.csv"
      ]
     },
     "metadata": {},
     "output_type": "display_data"
    },
    {
     "data": {
      "text/html": [
       "<pre>Parsing completed. Parsed 100 lines in 0.031337 secs.</pre>"
      ],
      "text/plain": [
       "Parsing completed. Parsed 100 lines in 0.031337 secs."
      ]
     },
     "metadata": {},
     "output_type": "display_data"
    },
    {
     "name": "stdout",
     "output_type": "stream",
     "text": [
      "------------------------------------------------------\n",
      "Inferred types from first 100 line(s) of file as \n",
      "column_type_hints=[int,str,float,float,float,float,float,float,float]\n",
      "If parsing fails due to incorrect types, you can correct\n",
      "the inferred type list above and pass it to read_csv in\n",
      "the column_type_hints argument\n",
      "------------------------------------------------------\n"
     ]
    },
    {
     "data": {
      "text/html": [
       "<pre>Finished parsing file /Users/uki/REPOS/MarketIndicators.jl/DATA/processed/^DJI.csv</pre>"
      ],
      "text/plain": [
       "Finished parsing file /Users/uki/REPOS/MarketIndicators.jl/DATA/processed/^DJI.csv"
      ]
     },
     "metadata": {},
     "output_type": "display_data"
    },
    {
     "data": {
      "text/html": [
       "<pre>Parsing completed. Parsed 13066 lines in 0.02337 secs.</pre>"
      ],
      "text/plain": [
       "Parsing completed. Parsed 13066 lines in 0.02337 secs."
      ]
     },
     "metadata": {},
     "output_type": "display_data"
    },
    {
     "data": {
      "text/html": [
       "<div style=\"max-height:1000px;max-width:1500px;overflow:auto;\"><table frame=\"box\" rules=\"cols\">\n",
       "    <tr>\n",
       "        <th style=\"padding-left: 1em; padding-right: 1em; text-align: center\">Day</th>\n",
       "        <th style=\"padding-left: 1em; padding-right: 1em; text-align: center\">Date</th>\n",
       "        <th style=\"padding-left: 1em; padding-right: 1em; text-align: center\">Value</th>\n",
       "        <th style=\"padding-left: 1em; padding-right: 1em; text-align: center\">Original</th>\n",
       "        <th style=\"padding-left: 1em; padding-right: 1em; text-align: center\">Avg005</th>\n",
       "        <th style=\"padding-left: 1em; padding-right: 1em; text-align: center\">Avg030</th>\n",
       "        <th style=\"padding-left: 1em; padding-right: 1em; text-align: center\">Avg090</th>\n",
       "        <th style=\"padding-left: 1em; padding-right: 1em; text-align: center\">Avg180</th>\n",
       "        <th style=\"padding-left: 1em; padding-right: 1em; text-align: center\">Avg365</th>\n",
       "    </tr>\n",
       "    <tr>\n",
       "        <td style=\"padding-left: 1em; padding-right: 1em; text-align: center; vertical-align: top\">725033</td>\n",
       "        <td style=\"padding-left: 1em; padding-right: 1em; text-align: center; vertical-align: top\">1986-01-27</td>\n",
       "        <td style=\"padding-left: 1em; padding-right: 1em; text-align: center; vertical-align: top\">1548.170044</td>\n",
       "        <td style=\"padding-left: 1em; padding-right: 1em; text-align: center; vertical-align: top\">-125.0</td>\n",
       "        <td style=\"padding-left: 1em; padding-right: 1em; text-align: center; vertical-align: top\">1535.95</td>\n",
       "        <td style=\"padding-left: 1em; padding-right: 1em; text-align: center; vertical-align: top\">1545.43</td>\n",
       "        <td style=\"padding-left: 1em; padding-right: 1em; text-align: center; vertical-align: top\">1502.01</td>\n",
       "        <td style=\"padding-left: 1em; padding-right: 1em; text-align: center; vertical-align: top\">1420.96</td>\n",
       "        <td style=\"padding-left: 1em; padding-right: 1em; text-align: center; vertical-align: top\">0.0</td>\n",
       "    </tr>\n",
       "    <tr>\n",
       "        <td style=\"padding-left: 1em; padding-right: 1em; text-align: center; vertical-align: top\">725034</td>\n",
       "        <td style=\"padding-left: 1em; padding-right: 1em; text-align: center; vertical-align: top\">1986-01-28</td>\n",
       "        <td style=\"padding-left: 1em; padding-right: 1em; text-align: center; vertical-align: top\">1561.349976</td>\n",
       "        <td style=\"padding-left: 1em; padding-right: 1em; text-align: center; vertical-align: top\">-125.0</td>\n",
       "        <td style=\"padding-left: 1em; padding-right: 1em; text-align: center; vertical-align: top\">1544.34</td>\n",
       "        <td style=\"padding-left: 1em; padding-right: 1em; text-align: center; vertical-align: top\">1545.85</td>\n",
       "        <td style=\"padding-left: 1em; padding-right: 1em; text-align: center; vertical-align: top\">1503.97</td>\n",
       "        <td style=\"padding-left: 1em; padding-right: 1em; text-align: center; vertical-align: top\">1422.07</td>\n",
       "        <td style=\"padding-left: 1em; padding-right: 1em; text-align: center; vertical-align: top\">1361.29</td>\n",
       "    </tr>\n",
       "    <tr>\n",
       "        <td style=\"padding-left: 1em; padding-right: 1em; text-align: center; vertical-align: top\">725035</td>\n",
       "        <td style=\"padding-left: 1em; padding-right: 1em; text-align: center; vertical-align: top\">1986-01-29</td>\n",
       "        <td style=\"padding-left: 1em; padding-right: 1em; text-align: center; vertical-align: top\">1578.099976</td>\n",
       "        <td style=\"padding-left: 1em; padding-right: 1em; text-align: center; vertical-align: top\">-125.0</td>\n",
       "        <td style=\"padding-left: 1em; padding-right: 1em; text-align: center; vertical-align: top\">1552.48</td>\n",
       "        <td style=\"padding-left: 1em; padding-right: 1em; text-align: center; vertical-align: top\">1546.54</td>\n",
       "        <td style=\"padding-left: 1em; padding-right: 1em; text-align: center; vertical-align: top\">1506.14</td>\n",
       "        <td style=\"padding-left: 1em; padding-right: 1em; text-align: center; vertical-align: top\">1423.28</td>\n",
       "        <td style=\"padding-left: 1em; padding-right: 1em; text-align: center; vertical-align: top\">1362.07</td>\n",
       "    </tr>\n",
       "    <tr>\n",
       "        <td style=\"padding-left: 1em; padding-right: 1em; text-align: center; vertical-align: top\">725036</td>\n",
       "        <td style=\"padding-left: 1em; padding-right: 1em; text-align: center; vertical-align: top\">1986-01-30</td>\n",
       "        <td style=\"padding-left: 1em; padding-right: 1em; text-align: center; vertical-align: top\">1572.589966</td>\n",
       "        <td style=\"padding-left: 1em; padding-right: 1em; text-align: center; vertical-align: top\">-125.0</td>\n",
       "        <td style=\"padding-left: 1em; padding-right: 1em; text-align: center; vertical-align: top\">1559.52</td>\n",
       "        <td style=\"padding-left: 1em; padding-right: 1em; text-align: center; vertical-align: top\">1546.87</td>\n",
       "        <td style=\"padding-left: 1em; padding-right: 1em; text-align: center; vertical-align: top\">1508.12</td>\n",
       "        <td style=\"padding-left: 1em; padding-right: 1em; text-align: center; vertical-align: top\">1424.46</td>\n",
       "        <td style=\"padding-left: 1em; padding-right: 1em; text-align: center; vertical-align: top\">1362.8</td>\n",
       "    </tr>\n",
       "    <tr>\n",
       "        <td style=\"padding-left: 1em; padding-right: 1em; text-align: center; vertical-align: top\">725037</td>\n",
       "        <td style=\"padding-left: 1em; padding-right: 1em; text-align: center; vertical-align: top\">1986-01-31</td>\n",
       "        <td style=\"padding-left: 1em; padding-right: 1em; text-align: center; vertical-align: top\">1582.910034</td>\n",
       "        <td style=\"padding-left: 1em; padding-right: 1em; text-align: center; vertical-align: top\">-125.0</td>\n",
       "        <td style=\"padding-left: 1em; padding-right: 1em; text-align: center; vertical-align: top\">1568.62</td>\n",
       "        <td style=\"padding-left: 1em; padding-right: 1em; text-align: center; vertical-align: top\">1547.53</td>\n",
       "        <td style=\"padding-left: 1em; padding-right: 1em; text-align: center; vertical-align: top\">1510.23</td>\n",
       "        <td style=\"padding-left: 1em; padding-right: 1em; text-align: center; vertical-align: top\">1425.7</td>\n",
       "        <td style=\"padding-left: 1em; padding-right: 1em; text-align: center; vertical-align: top\">1363.6</td>\n",
       "    </tr>\n",
       "    <tr>\n",
       "        <td style=\"padding-left: 1em; padding-right: 1em; text-align: center; vertical-align: top\">725038</td>\n",
       "        <td style=\"padding-left: 1em; padding-right: 1em; text-align: center; vertical-align: top\">1986-02-01</td>\n",
       "        <td style=\"padding-left: 1em; padding-right: 1em; text-align: center; vertical-align: top\">1582.910034</td>\n",
       "        <td style=\"padding-left: 1em; padding-right: 1em; text-align: center; vertical-align: top\">-125.0</td>\n",
       "        <td style=\"padding-left: 1em; padding-right: 1em; text-align: center; vertical-align: top\">1575.57</td>\n",
       "        <td style=\"padding-left: 1em; padding-right: 1em; text-align: center; vertical-align: top\">1548.57</td>\n",
       "        <td style=\"padding-left: 1em; padding-right: 1em; text-align: center; vertical-align: top\">1512.33</td>\n",
       "        <td style=\"padding-left: 1em; padding-right: 1em; text-align: center; vertical-align: top\">1426.98</td>\n",
       "        <td style=\"padding-left: 1em; padding-right: 1em; text-align: center; vertical-align: top\">1364.41</td>\n",
       "    </tr>\n",
       "    <tr>\n",
       "        <td style=\"padding-left: 1em; padding-right: 1em; text-align: center; vertical-align: top\">725039</td>\n",
       "        <td style=\"padding-left: 1em; padding-right: 1em; text-align: center; vertical-align: top\">1986-02-02</td>\n",
       "        <td style=\"padding-left: 1em; padding-right: 1em; text-align: center; vertical-align: top\">1582.910034</td>\n",
       "        <td style=\"padding-left: 1em; padding-right: 1em; text-align: center; vertical-align: top\">-125.0</td>\n",
       "        <td style=\"padding-left: 1em; padding-right: 1em; text-align: center; vertical-align: top\">1579.88</td>\n",
       "        <td style=\"padding-left: 1em; padding-right: 1em; text-align: center; vertical-align: top\">1549.43</td>\n",
       "        <td style=\"padding-left: 1em; padding-right: 1em; text-align: center; vertical-align: top\">1514.38</td>\n",
       "        <td style=\"padding-left: 1em; padding-right: 1em; text-align: center; vertical-align: top\">1428.27</td>\n",
       "        <td style=\"padding-left: 1em; padding-right: 1em; text-align: center; vertical-align: top\">1365.22</td>\n",
       "    </tr>\n",
       "</table>\n",
       "[7 rows x 9 columns]<br/>\n",
       "</div>"
      ],
      "text/plain": [
       "Columns:\n",
       "\tDay\tint\n",
       "\tDate\tstr\n",
       "\tValue\tfloat\n",
       "\tOriginal\tfloat\n",
       "\tAvg005\tfloat\n",
       "\tAvg030\tfloat\n",
       "\tAvg090\tfloat\n",
       "\tAvg180\tfloat\n",
       "\tAvg365\tfloat\n",
       "\n",
       "Rows: 7\n",
       "\n",
       "Data:\n",
       "+--------+------------+-------------+----------+---------+---------+---------+\n",
       "|  Day   |    Date    |    Value    | Original |  Avg005 |  Avg030 |  Avg090 |\n",
       "+--------+------------+-------------+----------+---------+---------+---------+\n",
       "| 725033 | 1986-01-27 | 1548.170044 |  -125.0  | 1535.95 | 1545.43 | 1502.01 |\n",
       "| 725034 | 1986-01-28 | 1561.349976 |  -125.0  | 1544.34 | 1545.85 | 1503.97 |\n",
       "| 725035 | 1986-01-29 | 1578.099976 |  -125.0  | 1552.48 | 1546.54 | 1506.14 |\n",
       "| 725036 | 1986-01-30 | 1572.589966 |  -125.0  | 1559.52 | 1546.87 | 1508.12 |\n",
       "| 725037 | 1986-01-31 | 1582.910034 |  -125.0  | 1568.62 | 1547.53 | 1510.23 |\n",
       "| 725038 | 1986-02-01 | 1582.910034 |  -125.0  | 1575.57 | 1548.57 | 1512.33 |\n",
       "| 725039 | 1986-02-02 | 1582.910034 |  -125.0  | 1579.88 | 1549.43 | 1514.38 |\n",
       "+--------+------------+-------------+----------+---------+---------+---------+\n",
       "+---------+---------+\n",
       "|  Avg180 |  Avg365 |\n",
       "+---------+---------+\n",
       "| 1420.96 |   0.0   |\n",
       "| 1422.07 | 1361.29 |\n",
       "| 1423.28 | 1362.07 |\n",
       "| 1424.46 |  1362.8 |\n",
       "|  1425.7 |  1363.6 |\n",
       "| 1426.98 | 1364.41 |\n",
       "| 1428.27 | 1365.22 |\n",
       "+---------+---------+\n",
       "[7 rows x 9 columns]"
      ]
     },
     "execution_count": 4,
     "metadata": {},
     "output_type": "execute_result"
    }
   ],
   "source": [
    "# Load the data\n",
    "data =  tc.SFrame(data_path)\n",
    "data[363:370] # show data sample"
   ]
  },
  {
   "cell_type": "markdown",
   "metadata": {},
   "source": [
    "### TODO: Value should be original value\n",
    "\n",
    "Please note the the \"High\" is normalized to Int8, \n",
    "but for the prediciton purposes it should be an original \"real\" value."
   ]
  },
  {
   "cell_type": "markdown",
   "metadata": {},
   "source": [
    "## Select the data to train and test"
   ]
  },
  {
   "cell_type": "code",
   "execution_count": 5,
   "metadata": {},
   "outputs": [],
   "source": [
    "row_count = len(data)\n",
    "# Do not take initial year data as averages are not complete\n",
    "data = data[365:row_count] \n",
    "# Make a train-test split\n",
    "train_data, test_data = data.random_split(0.8)"
   ]
  },
  {
   "cell_type": "markdown",
   "metadata": {},
   "source": [
    "### TODO: Let's NOT take last few days\n",
    "\n",
    "I need to save the last few days to see if I can really predict upcoming values."
   ]
  },
  {
   "cell_type": "markdown",
   "metadata": {},
   "source": [
    "## Create the model\n",
    "\n",
    "- https://apple.github.io/turicreate/docs/api/generated/turicreate.regression.create.html\n",
    "- Automatically picks the right model based on your data.\n",
    "- target: is the number to be predicted.\n",
    "- features: are the the values that we ues to try to find pattern leading to prediciton."
   ]
  },
  {
   "cell_type": "code",
   "execution_count": 6,
   "metadata": {},
   "outputs": [
    {
     "data": {
      "text/html": [
       "<pre>Automatically generating validation set from 5% of the data.</pre>"
      ],
      "text/plain": [
       "Automatically generating validation set from 5% of the data."
      ]
     },
     "metadata": {},
     "output_type": "display_data"
    },
    {
     "data": {
      "text/html": [
       "<pre>Linear regression:</pre>"
      ],
      "text/plain": [
       "Linear regression:"
      ]
     },
     "metadata": {},
     "output_type": "display_data"
    },
    {
     "data": {
      "text/html": [
       "<pre>--------------------------------------------------------</pre>"
      ],
      "text/plain": [
       "--------------------------------------------------------"
      ]
     },
     "metadata": {},
     "output_type": "display_data"
    },
    {
     "data": {
      "text/html": [
       "<pre>Number of examples          : 9580</pre>"
      ],
      "text/plain": [
       "Number of examples          : 9580"
      ]
     },
     "metadata": {},
     "output_type": "display_data"
    },
    {
     "data": {
      "text/html": [
       "<pre>Number of features          : 5</pre>"
      ],
      "text/plain": [
       "Number of features          : 5"
      ]
     },
     "metadata": {},
     "output_type": "display_data"
    },
    {
     "data": {
      "text/html": [
       "<pre>Number of unpacked features : 5</pre>"
      ],
      "text/plain": [
       "Number of unpacked features : 5"
      ]
     },
     "metadata": {},
     "output_type": "display_data"
    },
    {
     "data": {
      "text/html": [
       "<pre>Number of coefficients    : 6</pre>"
      ],
      "text/plain": [
       "Number of coefficients    : 6"
      ]
     },
     "metadata": {},
     "output_type": "display_data"
    },
    {
     "data": {
      "text/html": [
       "<pre>Starting Newton Method</pre>"
      ],
      "text/plain": [
       "Starting Newton Method"
      ]
     },
     "metadata": {},
     "output_type": "display_data"
    },
    {
     "data": {
      "text/html": [
       "<pre>--------------------------------------------------------</pre>"
      ],
      "text/plain": [
       "--------------------------------------------------------"
      ]
     },
     "metadata": {},
     "output_type": "display_data"
    },
    {
     "data": {
      "text/html": [
       "<pre>+-----------+----------+--------------+--------------------+----------------------+---------------------------------+-----------------------------------+</pre>"
      ],
      "text/plain": [
       "+-----------+----------+--------------+--------------------+----------------------+---------------------------------+-----------------------------------+"
      ]
     },
     "metadata": {},
     "output_type": "display_data"
    },
    {
     "data": {
      "text/html": [
       "<pre>| Iteration | Passes   | Elapsed Time | Training Max Error | Validation Max Error | Training Root-Mean-Square Error | Validation Root-Mean-Square Error |</pre>"
      ],
      "text/plain": [
       "| Iteration | Passes   | Elapsed Time | Training Max Error | Validation Max Error | Training Root-Mean-Square Error | Validation Root-Mean-Square Error |"
      ]
     },
     "metadata": {},
     "output_type": "display_data"
    },
    {
     "data": {
      "text/html": [
       "<pre>+-----------+----------+--------------+--------------------+----------------------+---------------------------------+-----------------------------------+</pre>"
      ],
      "text/plain": [
       "+-----------+----------+--------------+--------------------+----------------------+---------------------------------+-----------------------------------+"
      ]
     },
     "metadata": {},
     "output_type": "display_data"
    },
    {
     "data": {
      "text/html": [
       "<pre>| 1         | 2        | 1.052179     | 15.910003          | 4.703453             | 1.023064                        | 0.880697                          |</pre>"
      ],
      "text/plain": [
       "| 1         | 2        | 1.052179     | 15.910003          | 4.703453             | 1.023064                        | 0.880697                          |"
      ]
     },
     "metadata": {},
     "output_type": "display_data"
    },
    {
     "data": {
      "text/html": [
       "<pre>+-----------+----------+--------------+--------------------+----------------------+---------------------------------+-----------------------------------+</pre>"
      ],
      "text/plain": [
       "+-----------+----------+--------------+--------------------+----------------------+---------------------------------+-----------------------------------+"
      ]
     },
     "metadata": {},
     "output_type": "display_data"
    },
    {
     "data": {
      "text/html": [
       "<pre>SUCCESS: Optimal solution found.</pre>"
      ],
      "text/plain": [
       "SUCCESS: Optimal solution found."
      ]
     },
     "metadata": {},
     "output_type": "display_data"
    },
    {
     "data": {
      "text/html": [
       "<pre></pre>"
      ],
      "text/plain": []
     },
     "metadata": {},
     "output_type": "display_data"
    },
    {
     "data": {
      "text/html": [
       "<pre>Boosted trees regression:</pre>"
      ],
      "text/plain": [
       "Boosted trees regression:"
      ]
     },
     "metadata": {},
     "output_type": "display_data"
    },
    {
     "data": {
      "text/html": [
       "<pre>--------------------------------------------------------</pre>"
      ],
      "text/plain": [
       "--------------------------------------------------------"
      ]
     },
     "metadata": {},
     "output_type": "display_data"
    },
    {
     "data": {
      "text/html": [
       "<pre>Number of examples          : 9580</pre>"
      ],
      "text/plain": [
       "Number of examples          : 9580"
      ]
     },
     "metadata": {},
     "output_type": "display_data"
    },
    {
     "data": {
      "text/html": [
       "<pre>Number of features          : 5</pre>"
      ],
      "text/plain": [
       "Number of features          : 5"
      ]
     },
     "metadata": {},
     "output_type": "display_data"
    },
    {
     "data": {
      "text/html": [
       "<pre>Number of unpacked features : 5</pre>"
      ],
      "text/plain": [
       "Number of unpacked features : 5"
      ]
     },
     "metadata": {},
     "output_type": "display_data"
    },
    {
     "data": {
      "text/html": [
       "<pre>+-----------+--------------+--------------------+----------------------+---------------------------------+-----------------------------------+</pre>"
      ],
      "text/plain": [
       "+-----------+--------------+--------------------+----------------------+---------------------------------+-----------------------------------+"
      ]
     },
     "metadata": {},
     "output_type": "display_data"
    },
    {
     "data": {
      "text/html": [
       "<pre>| Iteration | Elapsed Time | Training Max Error | Validation Max Error | Training Root-Mean-Square Error | Validation Root-Mean-Square Error |</pre>"
      ],
      "text/plain": [
       "| Iteration | Elapsed Time | Training Max Error | Validation Max Error | Training Root-Mean-Square Error | Validation Root-Mean-Square Error |"
      ]
     },
     "metadata": {},
     "output_type": "display_data"
    },
    {
     "data": {
      "text/html": [
       "<pre>+-----------+--------------+--------------------+----------------------+---------------------------------+-----------------------------------+</pre>"
      ],
      "text/plain": [
       "+-----------+--------------+--------------------+----------------------+---------------------------------+-----------------------------------+"
      ]
     },
     "metadata": {},
     "output_type": "display_data"
    },
    {
     "data": {
      "text/html": [
       "<pre>| 1         | 0.014192     | 92.010315          | 87.726692            | 53.401295                       | 52.480167                         |</pre>"
      ],
      "text/plain": [
       "| 1         | 0.014192     | 92.010315          | 87.726692            | 53.401295                       | 52.480167                         |"
      ]
     },
     "metadata": {},
     "output_type": "display_data"
    },
    {
     "data": {
      "text/html": [
       "<pre>| 2         | 0.020001     | 66.978676          | 62.103775            | 37.441563                       | 36.784286                         |</pre>"
      ],
      "text/plain": [
       "| 2         | 0.020001     | 66.978676          | 62.103775            | 37.441563                       | 36.784286                         |"
      ]
     },
     "metadata": {},
     "output_type": "display_data"
    },
    {
     "data": {
      "text/html": [
       "<pre>| 3         | 0.026701     | 50.160095          | 43.951843            | 26.256676                       | 25.778711                         |</pre>"
      ],
      "text/plain": [
       "| 3         | 0.026701     | 50.160095          | 43.951843            | 26.256676                       | 25.778711                         |"
      ]
     },
     "metadata": {},
     "output_type": "display_data"
    },
    {
     "data": {
      "text/html": [
       "<pre>| 4         | 0.034125     | 37.904823          | 31.089729            | 18.423555                       | 18.062300                         |</pre>"
      ],
      "text/plain": [
       "| 4         | 0.034125     | 37.904823          | 31.089729            | 18.423555                       | 18.062300                         |"
      ]
     },
     "metadata": {},
     "output_type": "display_data"
    },
    {
     "data": {
      "text/html": [
       "<pre>| 5         | 0.040685     | 30.165230          | 22.268845            | 12.936590                       | 12.662284                         |</pre>"
      ],
      "text/plain": [
       "| 5         | 0.040685     | 30.165230          | 22.268845            | 12.936590                       | 12.662284                         |"
      ]
     },
     "metadata": {},
     "output_type": "display_data"
    },
    {
     "data": {
      "text/html": [
       "<pre>| 10        | 0.072574     | 12.793251          | 6.011383             | 2.377372                        | 2.327458                          |</pre>"
      ],
      "text/plain": [
       "| 10        | 0.072574     | 12.793251          | 6.011383             | 2.377372                        | 2.327458                          |"
      ]
     },
     "metadata": {},
     "output_type": "display_data"
    },
    {
     "data": {
      "text/html": [
       "<pre>+-----------+--------------+--------------------+----------------------+---------------------------------+-----------------------------------+</pre>"
      ],
      "text/plain": [
       "+-----------+--------------+--------------------+----------------------+---------------------------------+-----------------------------------+"
      ]
     },
     "metadata": {},
     "output_type": "display_data"
    }
   ],
   "source": [
    "model = tc.regression.create(\n",
    "    train_data, \n",
    "    target='Original',\n",
    "    features = [\n",
    "        'Avg005',\n",
    "        'Avg030',\n",
    "        'Avg090',\n",
    "        'Avg180',\n",
    "        'Avg365'\n",
    "    ],\n",
    "    validation_set='auto', \n",
    "    verbose=True\n",
    ")"
   ]
  },
  {
   "cell_type": "markdown",
   "metadata": {},
   "source": [
    "# Predict values on data that was NOT used in training"
   ]
  },
  {
   "cell_type": "code",
   "execution_count": 7,
   "metadata": {},
   "outputs": [
    {
     "data": {
      "text/html": [
       "<div style=\"max-height:1000px;max-width:1500px;overflow:auto;\"><table frame=\"box\" rules=\"cols\">\n",
       "    <tr>\n",
       "        <th style=\"padding-left: 1em; padding-right: 1em; text-align: center\">Day</th>\n",
       "        <th style=\"padding-left: 1em; padding-right: 1em; text-align: center\">Date</th>\n",
       "        <th style=\"padding-left: 1em; padding-right: 1em; text-align: center\">Value</th>\n",
       "        <th style=\"padding-left: 1em; padding-right: 1em; text-align: center\">Original</th>\n",
       "        <th style=\"padding-left: 1em; padding-right: 1em; text-align: center\">Avg005</th>\n",
       "        <th style=\"padding-left: 1em; padding-right: 1em; text-align: center\">Avg030</th>\n",
       "        <th style=\"padding-left: 1em; padding-right: 1em; text-align: center\">Avg090</th>\n",
       "        <th style=\"padding-left: 1em; padding-right: 1em; text-align: center\">Avg180</th>\n",
       "        <th style=\"padding-left: 1em; padding-right: 1em; text-align: center\">Avg365</th>\n",
       "    </tr>\n",
       "    <tr>\n",
       "        <td style=\"padding-left: 1em; padding-right: 1em; text-align: center; vertical-align: top\">725036</td>\n",
       "        <td style=\"padding-left: 1em; padding-right: 1em; text-align: center; vertical-align: top\">1986-01-30</td>\n",
       "        <td style=\"padding-left: 1em; padding-right: 1em; text-align: center; vertical-align: top\">1572.589966</td>\n",
       "        <td style=\"padding-left: 1em; padding-right: 1em; text-align: center; vertical-align: top\">-125.0</td>\n",
       "        <td style=\"padding-left: 1em; padding-right: 1em; text-align: center; vertical-align: top\">1559.52</td>\n",
       "        <td style=\"padding-left: 1em; padding-right: 1em; text-align: center; vertical-align: top\">1546.87</td>\n",
       "        <td style=\"padding-left: 1em; padding-right: 1em; text-align: center; vertical-align: top\">1508.12</td>\n",
       "        <td style=\"padding-left: 1em; padding-right: 1em; text-align: center; vertical-align: top\">1424.46</td>\n",
       "        <td style=\"padding-left: 1em; padding-right: 1em; text-align: center; vertical-align: top\">1362.8</td>\n",
       "    </tr>\n",
       "    <tr>\n",
       "        <td style=\"padding-left: 1em; padding-right: 1em; text-align: center; vertical-align: top\">725039</td>\n",
       "        <td style=\"padding-left: 1em; padding-right: 1em; text-align: center; vertical-align: top\">1986-02-02</td>\n",
       "        <td style=\"padding-left: 1em; padding-right: 1em; text-align: center; vertical-align: top\">1582.910034</td>\n",
       "        <td style=\"padding-left: 1em; padding-right: 1em; text-align: center; vertical-align: top\">-125.0</td>\n",
       "        <td style=\"padding-left: 1em; padding-right: 1em; text-align: center; vertical-align: top\">1579.88</td>\n",
       "        <td style=\"padding-left: 1em; padding-right: 1em; text-align: center; vertical-align: top\">1549.43</td>\n",
       "        <td style=\"padding-left: 1em; padding-right: 1em; text-align: center; vertical-align: top\">1514.38</td>\n",
       "        <td style=\"padding-left: 1em; padding-right: 1em; text-align: center; vertical-align: top\">1428.27</td>\n",
       "        <td style=\"padding-left: 1em; padding-right: 1em; text-align: center; vertical-align: top\">1365.22</td>\n",
       "    </tr>\n",
       "    <tr>\n",
       "        <td style=\"padding-left: 1em; padding-right: 1em; text-align: center; vertical-align: top\">725043</td>\n",
       "        <td style=\"padding-left: 1em; padding-right: 1em; text-align: center; vertical-align: top\">1986-02-06</td>\n",
       "        <td style=\"padding-left: 1em; padding-right: 1em; text-align: center; vertical-align: top\">1616.51001</td>\n",
       "        <td style=\"padding-left: 1em; padding-right: 1em; text-align: center; vertical-align: top\">-125.0</td>\n",
       "        <td style=\"padding-left: 1em; padding-right: 1em; text-align: center; vertical-align: top\">1602.57</td>\n",
       "        <td style=\"padding-left: 1em; padding-right: 1em; text-align: center; vertical-align: top\">1555.59</td>\n",
       "        <td style=\"padding-left: 1em; padding-right: 1em; text-align: center; vertical-align: top\">1523.22</td>\n",
       "        <td style=\"padding-left: 1em; padding-right: 1em; text-align: center; vertical-align: top\">1434.39</td>\n",
       "        <td style=\"padding-left: 1em; padding-right: 1em; text-align: center; vertical-align: top\">1368.65</td>\n",
       "    </tr>\n",
       "    <tr>\n",
       "        <td style=\"padding-left: 1em; padding-right: 1em; text-align: center; vertical-align: top\">725045</td>\n",
       "        <td style=\"padding-left: 1em; padding-right: 1em; text-align: center; vertical-align: top\">1986-02-08</td>\n",
       "        <td style=\"padding-left: 1em; padding-right: 1em; text-align: center; vertical-align: top\">1622.819946</td>\n",
       "        <td style=\"padding-left: 1em; padding-right: 1em; text-align: center; vertical-align: top\">-125.0</td>\n",
       "        <td style=\"padding-left: 1em; padding-right: 1em; text-align: center; vertical-align: top\">1615.09</td>\n",
       "        <td style=\"padding-left: 1em; padding-right: 1em; text-align: center; vertical-align: top\">1560.15</td>\n",
       "        <td style=\"padding-left: 1em; padding-right: 1em; text-align: center; vertical-align: top\">1527.94</td>\n",
       "        <td style=\"padding-left: 1em; padding-right: 1em; text-align: center; vertical-align: top\">1437.66</td>\n",
       "        <td style=\"padding-left: 1em; padding-right: 1em; text-align: center; vertical-align: top\">1370.44</td>\n",
       "    </tr>\n",
       "    <tr>\n",
       "        <td style=\"padding-left: 1em; padding-right: 1em; text-align: center; vertical-align: top\">725046</td>\n",
       "        <td style=\"padding-left: 1em; padding-right: 1em; text-align: center; vertical-align: top\">1986-02-09</td>\n",
       "        <td style=\"padding-left: 1em; padding-right: 1em; text-align: center; vertical-align: top\">1622.819946</td>\n",
       "        <td style=\"padding-left: 1em; padding-right: 1em; text-align: center; vertical-align: top\">-125.0</td>\n",
       "        <td style=\"padding-left: 1em; padding-right: 1em; text-align: center; vertical-align: top\">1617.36</td>\n",
       "        <td style=\"padding-left: 1em; padding-right: 1em; text-align: center; vertical-align: top\">1563.21</td>\n",
       "        <td style=\"padding-left: 1em; padding-right: 1em; text-align: center; vertical-align: top\">1530.06</td>\n",
       "        <td style=\"padding-left: 1em; padding-right: 1em; text-align: center; vertical-align: top\">1439.31</td>\n",
       "        <td style=\"padding-left: 1em; padding-right: 1em; text-align: center; vertical-align: top\">1371.33</td>\n",
       "    </tr>\n",
       "    <tr>\n",
       "        <td style=\"padding-left: 1em; padding-right: 1em; text-align: center; vertical-align: top\">725048</td>\n",
       "        <td style=\"padding-left: 1em; padding-right: 1em; text-align: center; vertical-align: top\">1986-02-11</td>\n",
       "        <td style=\"padding-left: 1em; padding-right: 1em; text-align: center; vertical-align: top\">1637.5</td>\n",
       "        <td style=\"padding-left: 1em; padding-right: 1em; text-align: center; vertical-align: top\">-125.0</td>\n",
       "        <td style=\"padding-left: 1em; padding-right: 1em; text-align: center; vertical-align: top\">1627.82</td>\n",
       "        <td style=\"padding-left: 1em; padding-right: 1em; text-align: center; vertical-align: top\">1570.17</td>\n",
       "        <td style=\"padding-left: 1em; padding-right: 1em; text-align: center; vertical-align: top\">1534.33</td>\n",
       "        <td style=\"padding-left: 1em; padding-right: 1em; text-align: center; vertical-align: top\">1442.76</td>\n",
       "        <td style=\"padding-left: 1em; padding-right: 1em; text-align: center; vertical-align: top\">1373.2</td>\n",
       "    </tr>\n",
       "    <tr>\n",
       "        <td style=\"padding-left: 1em; padding-right: 1em; text-align: center; vertical-align: top\">725050</td>\n",
       "        <td style=\"padding-left: 1em; padding-right: 1em; text-align: center; vertical-align: top\">1986-02-13</td>\n",
       "        <td style=\"padding-left: 1em; padding-right: 1em; text-align: center; vertical-align: top\">1649.310059</td>\n",
       "        <td style=\"padding-left: 1em; padding-right: 1em; text-align: center; vertical-align: top\">-124.0</td>\n",
       "        <td style=\"padding-left: 1em; padding-right: 1em; text-align: center; vertical-align: top\">1636.65</td>\n",
       "        <td style=\"padding-left: 1em; padding-right: 1em; text-align: center; vertical-align: top\">1577.91</td>\n",
       "        <td style=\"padding-left: 1em; padding-right: 1em; text-align: center; vertical-align: top\">1538.72</td>\n",
       "        <td style=\"padding-left: 1em; padding-right: 1em; text-align: center; vertical-align: top\">1446.35</td>\n",
       "        <td style=\"padding-left: 1em; padding-right: 1em; text-align: center; vertical-align: top\">1375.12</td>\n",
       "    </tr>\n",
       "    <tr>\n",
       "        <td style=\"padding-left: 1em; padding-right: 1em; text-align: center; vertical-align: top\">725057</td>\n",
       "        <td style=\"padding-left: 1em; padding-right: 1em; text-align: center; vertical-align: top\">1986-02-20</td>\n",
       "        <td style=\"padding-left: 1em; padding-right: 1em; text-align: center; vertical-align: top\">1675.459961</td>\n",
       "        <td style=\"padding-left: 1em; padding-right: 1em; text-align: center; vertical-align: top\">-124.0</td>\n",
       "        <td style=\"padding-left: 1em; padding-right: 1em; text-align: center; vertical-align: top\">1677.52</td>\n",
       "        <td style=\"padding-left: 1em; padding-right: 1em; text-align: center; vertical-align: top\">1608.33</td>\n",
       "        <td style=\"padding-left: 1em; padding-right: 1em; text-align: center; vertical-align: top\">1555.74</td>\n",
       "        <td style=\"padding-left: 1em; padding-right: 1em; text-align: center; vertical-align: top\">1459.91</td>\n",
       "        <td style=\"padding-left: 1em; padding-right: 1em; text-align: center; vertical-align: top\">1382.39</td>\n",
       "    </tr>\n",
       "    <tr>\n",
       "        <td style=\"padding-left: 1em; padding-right: 1em; text-align: center; vertical-align: top\">725060</td>\n",
       "        <td style=\"padding-left: 1em; padding-right: 1em; text-align: center; vertical-align: top\">1986-02-23</td>\n",
       "        <td style=\"padding-left: 1em; padding-right: 1em; text-align: center; vertical-align: top\">1702.75</td>\n",
       "        <td style=\"padding-left: 1em; padding-right: 1em; text-align: center; vertical-align: top\">-124.0</td>\n",
       "        <td style=\"padding-left: 1em; padding-right: 1em; text-align: center; vertical-align: top\">1694.59</td>\n",
       "        <td style=\"padding-left: 1em; padding-right: 1em; text-align: center; vertical-align: top\">1625.86</td>\n",
       "        <td style=\"padding-left: 1em; padding-right: 1em; text-align: center; vertical-align: top\">1563.41</td>\n",
       "        <td style=\"padding-left: 1em; padding-right: 1em; text-align: center; vertical-align: top\">1466.21</td>\n",
       "        <td style=\"padding-left: 1em; padding-right: 1em; text-align: center; vertical-align: top\">1385.81</td>\n",
       "    </tr>\n",
       "    <tr>\n",
       "        <td style=\"padding-left: 1em; padding-right: 1em; text-align: center; vertical-align: top\">725068</td>\n",
       "        <td style=\"padding-left: 1em; padding-right: 1em; text-align: center; vertical-align: top\">1986-03-03</td>\n",
       "        <td style=\"padding-left: 1em; padding-right: 1em; text-align: center; vertical-align: top\">1714.329956</td>\n",
       "        <td style=\"padding-left: 1em; padding-right: 1em; text-align: center; vertical-align: top\">-124.0</td>\n",
       "        <td style=\"padding-left: 1em; padding-right: 1em; text-align: center; vertical-align: top\">1728.19</td>\n",
       "        <td style=\"padding-left: 1em; padding-right: 1em; text-align: center; vertical-align: top\">1668.33</td>\n",
       "        <td style=\"padding-left: 1em; padding-right: 1em; text-align: center; vertical-align: top\">1584.89</td>\n",
       "        <td style=\"padding-left: 1em; padding-right: 1em; text-align: center; vertical-align: top\">1483.2</td>\n",
       "        <td style=\"padding-left: 1em; padding-right: 1em; text-align: center; vertical-align: top\">1395.12</td>\n",
       "    </tr>\n",
       "</table>\n",
       "[? rows x 9 columns]<br/>Note: Only the head of the SFrame is printed. This SFrame is lazily evaluated.<br/>You can use sf.materialize() to force materialization.\n",
       "</div>"
      ],
      "text/plain": [
       "Columns:\n",
       "\tDay\tint\n",
       "\tDate\tstr\n",
       "\tValue\tfloat\n",
       "\tOriginal\tfloat\n",
       "\tAvg005\tfloat\n",
       "\tAvg030\tfloat\n",
       "\tAvg090\tfloat\n",
       "\tAvg180\tfloat\n",
       "\tAvg365\tfloat\n",
       "\n",
       "Rows: Unknown\n",
       "\n",
       "Data:\n",
       "+--------+------------+-------------+----------+---------+---------+---------+\n",
       "|  Day   |    Date    |    Value    | Original |  Avg005 |  Avg030 |  Avg090 |\n",
       "+--------+------------+-------------+----------+---------+---------+---------+\n",
       "| 725036 | 1986-01-30 | 1572.589966 |  -125.0  | 1559.52 | 1546.87 | 1508.12 |\n",
       "| 725039 | 1986-02-02 | 1582.910034 |  -125.0  | 1579.88 | 1549.43 | 1514.38 |\n",
       "| 725043 | 1986-02-06 |  1616.51001 |  -125.0  | 1602.57 | 1555.59 | 1523.22 |\n",
       "| 725045 | 1986-02-08 | 1622.819946 |  -125.0  | 1615.09 | 1560.15 | 1527.94 |\n",
       "| 725046 | 1986-02-09 | 1622.819946 |  -125.0  | 1617.36 | 1563.21 | 1530.06 |\n",
       "| 725048 | 1986-02-11 |    1637.5   |  -125.0  | 1627.82 | 1570.17 | 1534.33 |\n",
       "| 725050 | 1986-02-13 | 1649.310059 |  -124.0  | 1636.65 | 1577.91 | 1538.72 |\n",
       "| 725057 | 1986-02-20 | 1675.459961 |  -124.0  | 1677.52 | 1608.33 | 1555.74 |\n",
       "| 725060 | 1986-02-23 |   1702.75   |  -124.0  | 1694.59 | 1625.86 | 1563.41 |\n",
       "| 725068 | 1986-03-03 | 1714.329956 |  -124.0  | 1728.19 | 1668.33 | 1584.89 |\n",
       "+--------+------------+-------------+----------+---------+---------+---------+\n",
       "+---------+---------+\n",
       "|  Avg180 |  Avg365 |\n",
       "+---------+---------+\n",
       "| 1424.46 |  1362.8 |\n",
       "| 1428.27 | 1365.22 |\n",
       "| 1434.39 | 1368.65 |\n",
       "| 1437.66 | 1370.44 |\n",
       "| 1439.31 | 1371.33 |\n",
       "| 1442.76 |  1373.2 |\n",
       "| 1446.35 | 1375.12 |\n",
       "| 1459.91 | 1382.39 |\n",
       "| 1466.21 | 1385.81 |\n",
       "|  1483.2 | 1395.12 |\n",
       "+---------+---------+\n",
       "[? rows x 9 columns]\n",
       "Note: Only the head of the SFrame is printed. This SFrame is lazily evaluated.\n",
       "You can use sf.materialize() to force materialization."
      ]
     },
     "execution_count": 7,
     "metadata": {},
     "output_type": "execute_result"
    }
   ],
   "source": [
    "#test_data.explore()\n",
    "test_data"
   ]
  },
  {
   "cell_type": "code",
   "execution_count": 8,
   "metadata": {},
   "outputs": [],
   "source": [
    "## Save predictions to an SArray\n",
    "predictions = model.predict(test_data)\n",
    "#predictions"
   ]
  },
  {
   "cell_type": "markdown",
   "metadata": {},
   "source": [
    "### Print example predictions"
   ]
  },
  {
   "cell_type": "code",
   "execution_count": 9,
   "metadata": {},
   "outputs": [
    {
     "name": "stdout",
     "output_type": "stream",
     "text": [
      "predicted  -125.0 \t, but actual value was \t -125.0 \t difference is \t 0.21\n",
      "predicted  -122.0 \t, but actual value was \t -122.0 \t difference is \t 0.07\n",
      "predicted  -118.0 \t, but actual value was \t -119.0 \t difference is \t -0.52\n",
      "predicted  -122.0 \t, but actual value was \t -122.0 \t difference is \t -0.15\n",
      "predicted  -120.0 \t, but actual value was \t -120.0 \t difference is \t -0.41\n",
      "predicted  -114.0 \t, but actual value was \t -114.0 \t difference is \t 0.2\n",
      "predicted  -115.0 \t, but actual value was \t -114.0 \t difference is \t 0.61\n",
      "predicted  -117.0 \t, but actual value was \t -117.0 \t difference is \t -0.49\n",
      "predicted  -112.0 \t, but actual value was \t -112.0 \t difference is \t -0.27\n",
      "predicted  -110.0 \t, but actual value was \t -110.0 \t difference is \t -0.11\n",
      "predicted  -110.0 \t, but actual value was \t -110.0 \t difference is \t -0.08\n",
      "predicted  -107.0 \t, but actual value was \t -107.0 \t difference is \t 0.25\n",
      "predicted  -105.0 \t, but actual value was \t -105.0 \t difference is \t -0.44\n",
      "predicted  -104.0 \t, but actual value was \t -104.0 \t difference is \t 0.18\n",
      "predicted  -99.0 \t, but actual value was \t -99.0 \t difference is \t 0.34\n",
      "predicted  -93.0 \t, but actual value was \t -93.0 \t difference is \t 0.49\n",
      "predicted  -88.0 \t, but actual value was \t -88.0 \t difference is \t -0.43\n",
      "predicted  -77.0 \t, but actual value was \t -77.0 \t difference is \t 0.16\n",
      "predicted  -67.0 \t, but actual value was \t -68.0 \t difference is \t -0.54\n",
      "predicted  -68.0 \t, but actual value was \t -67.0 \t difference is \t 0.63\n",
      "predicted  -45.0 \t, but actual value was \t -45.0 \t difference is \t -0.26\n",
      "predicted  -35.0 \t, but actual value was \t -36.0 \t difference is \t -0.76\n",
      "predicted  -42.0 \t, but actual value was \t -42.0 \t difference is \t -0.49\n",
      "predicted  -52.0 \t, but actual value was \t -53.0 \t difference is \t -0.99\n",
      "predicted  -54.0 \t, but actual value was \t -54.0 \t difference is \t -0.16\n",
      "predicted  -49.0 \t, but actual value was \t -49.0 \t difference is \t 0.2\n",
      "predicted  -64.0 \t, but actual value was \t -63.0 \t difference is \t 0.86\n",
      "predicted  -45.0 \t, but actual value was \t -45.0 \t difference is \t 0.31\n",
      "predicted  -46.0 \t, but actual value was \t -46.0 \t difference is \t 0.26\n",
      "predicted  -46.0 \t, but actual value was \t -46.0 \t difference is \t -0.23\n",
      "predicted  -37.0 \t, but actual value was \t -38.0 \t difference is \t -0.61\n",
      "predicted  -27.0 \t, but actual value was \t -26.0 \t difference is \t 0.79\n",
      "predicted  -13.0 \t, but actual value was \t -13.0 \t difference is \t -0.38\n",
      "predicted  -29.0 \t, but actual value was \t -28.0 \t difference is \t 0.59\n",
      "predicted  -74.0 \t, but actual value was \t -74.0 \t difference is \t 0.46\n",
      "predicted  -50.0 \t, but actual value was \t -51.0 \t difference is \t -0.85\n",
      "predicted  -43.0 \t, but actual value was \t -43.0 \t difference is \t 0.1\n",
      "predicted  -27.0 \t, but actual value was \t -27.0 \t difference is \t -0.09\n",
      "predicted  -29.0 \t, but actual value was \t -29.0 \t difference is \t -0.47\n",
      "predicted  -16.0 \t, but actual value was \t -17.0 \t difference is \t -0.68\n",
      "predicted  -5.0 \t, but actual value was \t -5.0 \t difference is \t 0.2\n",
      "predicted  6.0 \t, but actual value was \t 7.0 \t difference is \t 0.57\n",
      "predicted  12.0 \t, but actual value was \t 12.0 \t difference is \t 0.17\n",
      "predicted  24.0 \t, but actual value was \t 23.0 \t difference is \t -0.81\n",
      "predicted  19.0 \t, but actual value was \t 18.0 \t difference is \t -1.13\n",
      "predicted  28.0 \t, but actual value was \t 28.0 \t difference is \t -0.3\n",
      "predicted  51.0 \t, but actual value was \t 50.0 \t difference is \t -1.01\n",
      "predicted  72.0 \t, but actual value was \t 73.0 \t difference is \t 0.76\n",
      "predicted  88.0 \t, but actual value was \t 90.0 \t difference is \t 1.81\n",
      "predicted  96.0 \t, but actual value was \t 96.0 \t difference is \t -0.16\n",
      "predicted  99.0 \t, but actual value was \t 101.0 \t difference is \t 1.87\n",
      "predicted  95.0 \t, but actual value was \t 97.0 \t difference is \t 1.82\n"
     ]
    }
   ],
   "source": [
    "start = 0\n",
    "end = len(predictions)\n",
    "step = 50\n",
    "\n",
    "for id in range(start, end, step):\n",
    "    a = round( predictions[id], 2)\n",
    "    b = test_data[id][\"Original\"]\n",
    "    print( \"predicted \", round(a, 0), \"\\t, but actual value was \\t\", round(b, 0) , \"\\t difference is \\t\", round(b-a, 2) ) # dict"
   ]
  },
  {
   "cell_type": "markdown",
   "metadata": {},
   "source": [
    "## \"Be Less Wrong\"\n",
    "\n",
    "Evaluate how good is the model\n",
    "\n",
    "It appears that the predition results vary from run to run so it is worth to run it until you find the model with minimum error, \n",
    "\n",
    "or **as Elon Musk says \"Be less wrong\"**.\n",
    "\n",
    "### Previous results:\n",
    "\n",
    "#### ^DJI averages only \n",
    "\n",
    "- {'max_error': 1749.5078773959249, 'rmse': 124.58897796835019}\n",
    "- {'max_error': 1621.9227669335778, 'rmse': 106.39104997423203}\n",
    "\n",
    "TODO: write this in a loop to select the best model"
   ]
  },
  {
   "cell_type": "markdown",
   "metadata": {},
   "source": [
    "### TODO: find the best model\n",
    "\n",
    "Create a \"for\" loop to find the best model"
   ]
  },
  {
   "cell_type": "code",
   "execution_count": 10,
   "metadata": {},
   "outputs": [
    {
     "data": {
      "text/plain": [
       "{'max_error': 8.845726392048448, 'rmse': 0.9326600626868612}"
      ]
     },
     "execution_count": 10,
     "metadata": {},
     "output_type": "execute_result"
    }
   ],
   "source": [
    "# Evaluate the model and save the results into a dictionary\n",
    "results = model.evaluate( test_data ) #test_data[0:2531]\n",
    "results"
   ]
  },
  {
   "cell_type": "markdown",
   "metadata": {},
   "source": [
    "## Save the model\n",
    "\n",
    "Save the model for future use in MacOS, iOS, etc. applications"
   ]
  },
  {
   "cell_type": "code",
   "execution_count": 11,
   "metadata": {},
   "outputs": [],
   "source": [
    "# Export to Core ML\n",
    "model.export_coreml('./DATA/models/^DJI.mlmodel')"
   ]
  },
  {
   "cell_type": "code",
   "execution_count": null,
   "metadata": {},
   "outputs": [],
   "source": []
  }
 ],
 "metadata": {
  "kernelspec": {
   "display_name": "Python 3.6.10 64-bit ('turi': conda)",
   "language": "python",
   "name": "python361064bitturiconda565ecc262d0845fbb235ae21ac24296f"
  },
  "language_info": {
   "codemirror_mode": {
    "name": "ipython",
    "version": 3
   },
   "file_extension": ".py",
   "mimetype": "text/x-python",
   "name": "python",
   "nbconvert_exporter": "python",
   "pygments_lexer": "ipython3",
   "version": "3.6.10"
  },
  "toc": {
   "base_numbering": 1,
   "nav_menu": {},
   "number_sections": false,
   "sideBar": true,
   "skip_h1_title": true,
   "title_cell": "Table of Contents",
   "title_sidebar": "Contents",
   "toc_cell": true,
   "toc_position": {},
   "toc_section_display": true,
   "toc_window_display": true
  }
 },
 "nbformat": 4,
 "nbformat_minor": 4
}
