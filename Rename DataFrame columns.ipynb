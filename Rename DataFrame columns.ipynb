{
 "cells": [
  {
   "cell_type": "markdown",
   "metadata": {},
   "source": [
    "# TOC\n",
    "\n",
    "- [ReadDataFrame from CSV file](#Read-DataFrame-from-CSV-file)\n",
    "- [Rename DataFrame columns](#Rename-columns)\n",
    "- [#Write-DataFrame-to-CSV file](#Write-DataFrame-to-CSV-file)"
   ]
  },
  {
   "cell_type": "markdown",
   "metadata": {},
   "source": [
    "# Read DataFrame from CSV file"
   ]
  },
  {
   "cell_type": "code",
   "execution_count": 7,
   "metadata": {},
   "outputs": [
    {
     "data": {
      "text/html": [
       "<table class=\"data-frame\"><thead><tr><th></th><th>Day</th><th>Date</th><th>ISM_Mfc</th><th>GDP</th></tr><tr><th></th><th>Int64</th><th>String</th><th>Float64</th><th>Float64</th></tr></thead><tbody><p>864 rows × 4 columns</p><tr><th>1</th><td>0</td><td>1-Jan-1948</td><td>51.7</td><td>0.062</td></tr><tr><th>2</th><td>31</td><td>1-Feb-1948</td><td>50.2</td><td>0.062</td></tr><tr><th>3</th><td>60</td><td>1-Mar-1948</td><td>43.3</td><td>0.062</td></tr><tr><th>4</th><td>91</td><td>1-Apr-1948</td><td>45.4</td><td>0.068</td></tr><tr><th>5</th><td>121</td><td>1-May-1948</td><td>49.5</td><td>0.068</td></tr><tr><th>6</th><td>152</td><td>1-Jun-1948</td><td>53.0</td><td>0.068</td></tr><tr><th>7</th><td>182</td><td>1-Jul-1948</td><td>48.4</td><td>0.023</td></tr><tr><th>8</th><td>213</td><td>1-Aug-1948</td><td>45.1</td><td>0.023</td></tr><tr><th>9</th><td>244</td><td>1-Sep-1948</td><td>42.1</td><td>0.023</td></tr><tr><th>10</th><td>274</td><td>1-Oct-1948</td><td>47.2</td><td>0.004</td></tr><tr><th>11</th><td>305</td><td>1-Nov-1948</td><td>42.4</td><td>0.004</td></tr><tr><th>12</th><td>335</td><td>1-Dec-1948</td><td>35.0</td><td>0.004</td></tr><tr><th>13</th><td>366</td><td>1-Jan-1949</td><td>32.9</td><td>-0.054</td></tr><tr><th>14</th><td>397</td><td>1-Feb-1949</td><td>31.3</td><td>-0.054</td></tr><tr><th>15</th><td>425</td><td>1-Mar-1949</td><td>34.5</td><td>-0.054</td></tr><tr><th>16</th><td>456</td><td>1-Apr-1949</td><td>35.5</td><td>-0.014</td></tr><tr><th>17</th><td>486</td><td>1-May-1949</td><td>32.6</td><td>-0.014</td></tr><tr><th>18</th><td>517</td><td>1-Jun-1949</td><td>31.6</td><td>-0.014</td></tr><tr><th>19</th><td>547</td><td>1-Jul-1949</td><td>39.0</td><td>0.042</td></tr><tr><th>20</th><td>578</td><td>1-Aug-1949</td><td>47.0</td><td>0.042</td></tr><tr><th>21</th><td>609</td><td>1-Sep-1949</td><td>52.3</td><td>0.042</td></tr><tr><th>22</th><td>639</td><td>1-Oct-1949</td><td>51.0</td><td>-0.033</td></tr><tr><th>23</th><td>670</td><td>1-Nov-1949</td><td>51.0</td><td>-0.033</td></tr><tr><th>24</th><td>700</td><td>1-Dec-1949</td><td>57.3</td><td>-0.033</td></tr><tr><th>25</th><td>731</td><td>1-Jan-1950</td><td>59.1</td><td>0.167</td></tr><tr><th>26</th><td>762</td><td>1-Feb-1950</td><td>60.5</td><td>0.167</td></tr><tr><th>27</th><td>790</td><td>1-Mar-1950</td><td>62.1</td><td>0.167</td></tr><tr><th>28</th><td>821</td><td>1-Apr-1950</td><td>68.1</td><td>0.128</td></tr><tr><th>29</th><td>851</td><td>1-May-1950</td><td>74.7</td><td>0.128</td></tr><tr><th>30</th><td>882</td><td>1-Jun-1950</td><td>76.6</td><td>0.128</td></tr><tr><th>&vellip;</th><td>&vellip;</td><td>&vellip;</td><td>&vellip;</td><td>&vellip;</td></tr></tbody></table>"
      ],
      "text/latex": [
       "\\begin{tabular}{r|cccc}\n",
       "\t& Day & Date & ISM\\_Mfc & GDP\\\\\n",
       "\t\\hline\n",
       "\t& Int64 & String & Float64 & Float64\\\\\n",
       "\t\\hline\n",
       "\t1 & 0 & 1-Jan-1948 & 51.7 & 0.062 \\\\\n",
       "\t2 & 31 & 1-Feb-1948 & 50.2 & 0.062 \\\\\n",
       "\t3 & 60 & 1-Mar-1948 & 43.3 & 0.062 \\\\\n",
       "\t4 & 91 & 1-Apr-1948 & 45.4 & 0.068 \\\\\n",
       "\t5 & 121 & 1-May-1948 & 49.5 & 0.068 \\\\\n",
       "\t6 & 152 & 1-Jun-1948 & 53.0 & 0.068 \\\\\n",
       "\t7 & 182 & 1-Jul-1948 & 48.4 & 0.023 \\\\\n",
       "\t8 & 213 & 1-Aug-1948 & 45.1 & 0.023 \\\\\n",
       "\t9 & 244 & 1-Sep-1948 & 42.1 & 0.023 \\\\\n",
       "\t10 & 274 & 1-Oct-1948 & 47.2 & 0.004 \\\\\n",
       "\t11 & 305 & 1-Nov-1948 & 42.4 & 0.004 \\\\\n",
       "\t12 & 335 & 1-Dec-1948 & 35.0 & 0.004 \\\\\n",
       "\t13 & 366 & 1-Jan-1949 & 32.9 & -0.054 \\\\\n",
       "\t14 & 397 & 1-Feb-1949 & 31.3 & -0.054 \\\\\n",
       "\t15 & 425 & 1-Mar-1949 & 34.5 & -0.054 \\\\\n",
       "\t16 & 456 & 1-Apr-1949 & 35.5 & -0.014 \\\\\n",
       "\t17 & 486 & 1-May-1949 & 32.6 & -0.014 \\\\\n",
       "\t18 & 517 & 1-Jun-1949 & 31.6 & -0.014 \\\\\n",
       "\t19 & 547 & 1-Jul-1949 & 39.0 & 0.042 \\\\\n",
       "\t20 & 578 & 1-Aug-1949 & 47.0 & 0.042 \\\\\n",
       "\t21 & 609 & 1-Sep-1949 & 52.3 & 0.042 \\\\\n",
       "\t22 & 639 & 1-Oct-1949 & 51.0 & -0.033 \\\\\n",
       "\t23 & 670 & 1-Nov-1949 & 51.0 & -0.033 \\\\\n",
       "\t24 & 700 & 1-Dec-1949 & 57.3 & -0.033 \\\\\n",
       "\t25 & 731 & 1-Jan-1950 & 59.1 & 0.167 \\\\\n",
       "\t26 & 762 & 1-Feb-1950 & 60.5 & 0.167 \\\\\n",
       "\t27 & 790 & 1-Mar-1950 & 62.1 & 0.167 \\\\\n",
       "\t28 & 821 & 1-Apr-1950 & 68.1 & 0.128 \\\\\n",
       "\t29 & 851 & 1-May-1950 & 74.7 & 0.128 \\\\\n",
       "\t30 & 882 & 1-Jun-1950 & 76.6 & 0.128 \\\\\n",
       "\t$\\dots$ & $\\dots$ & $\\dots$ & $\\dots$ & $\\dots$ \\\\\n",
       "\\end{tabular}\n"
      ],
      "text/plain": [
       "864×4 DataFrame\n",
       "│ Row │ Day   │ Date        │ ISM_Mfc │ GDP     │\n",
       "│     │ \u001b[90mInt64\u001b[39m │ \u001b[90mString\u001b[39m      │ \u001b[90mFloat64\u001b[39m │ \u001b[90mFloat64\u001b[39m │\n",
       "├─────┼───────┼─────────────┼─────────┼─────────┤\n",
       "│ 1   │ 0     │ 1-Jan-1948  │ 51.7    │ 0.062   │\n",
       "│ 2   │ 31    │ 1-Feb-1948  │ 50.2    │ 0.062   │\n",
       "│ 3   │ 60    │ 1-Mar-1948  │ 43.3    │ 0.062   │\n",
       "│ 4   │ 91    │ 1-Apr-1948  │ 45.4    │ 0.068   │\n",
       "│ 5   │ 121   │ 1-May-1948  │ 49.5    │ 0.068   │\n",
       "│ 6   │ 152   │ 1-Jun-1948  │ 53.0    │ 0.068   │\n",
       "│ 7   │ 182   │ 1-Jul-1948  │ 48.4    │ 0.023   │\n",
       "│ 8   │ 213   │ 1-Aug-1948  │ 45.1    │ 0.023   │\n",
       "│ 9   │ 244   │ 1-Sep-1948  │ 42.1    │ 0.023   │\n",
       "│ 10  │ 274   │ 1-Oct-1948  │ 47.2    │ 0.004   │\n",
       "⋮\n",
       "│ 854 │ 26347 │ 19-Feb-2020 │ 54.2    │ 0.031   │\n",
       "│ 855 │ 26376 │ 19-Mar-2020 │ 55.3    │ 0.031   │\n",
       "│ 856 │ 26407 │ 19-Apr-2020 │ 52.8    │ 0.02    │\n",
       "│ 857 │ 26437 │ 19-May-2020 │ 52.1    │ 0.02    │\n",
       "│ 858 │ 26468 │ 19-Jun-2020 │ 51.7    │ 0.02    │\n",
       "│ 859 │ 26498 │ 19-Jul-2020 │ 51.2    │ 0.021   │\n",
       "│ 860 │ 26529 │ 19-Aug-2020 │ 48.8    │ 0.021   │\n",
       "│ 861 │ 26560 │ 19-Sep-2020 │ 48.2    │ 0.021   │\n",
       "│ 862 │ 26590 │ 19-Oct-2020 │ 48.5    │ 0.021   │\n",
       "│ 863 │ 26621 │ 19-Nov-2020 │ 48.1    │ 0.021   │\n",
       "│ 864 │ 26651 │ 19-Dec-2020 │ 47.8    │ 0.021   │"
      ]
     },
     "execution_count": 7,
     "metadata": {},
     "output_type": "execute_result"
    }
   ],
   "source": [
    "using DataFrames, CSV\n",
    "df1 = CSV.read(\"ISM_vs_GDP_004.csv\")"
   ]
  },
  {
   "cell_type": "markdown",
   "metadata": {},
   "source": [
    "# Rename columns"
   ]
  },
  {
   "cell_type": "code",
   "execution_count": 4,
   "metadata": {},
   "outputs": [
    {
     "data": {
      "text/html": [
       "<table class=\"data-frame\"><thead><tr><th></th><th>Day</th><th>Date</th><th>ISM_Mfc</th><th>GDP</th></tr><tr><th></th><th>Int64</th><th>String</th><th>Float64</th><th>Float64</th></tr></thead><tbody><p>864 rows × 4 columns</p><tr><th>1</th><td>0</td><td>1-Jan-1948</td><td>51.7</td><td>0.062</td></tr><tr><th>2</th><td>31</td><td>1-Feb-1948</td><td>50.2</td><td>0.062</td></tr><tr><th>3</th><td>60</td><td>1-Mar-1948</td><td>43.3</td><td>0.062</td></tr><tr><th>4</th><td>91</td><td>1-Apr-1948</td><td>45.4</td><td>0.068</td></tr><tr><th>5</th><td>121</td><td>1-May-1948</td><td>49.5</td><td>0.068</td></tr><tr><th>6</th><td>152</td><td>1-Jun-1948</td><td>53.0</td><td>0.068</td></tr><tr><th>7</th><td>182</td><td>1-Jul-1948</td><td>48.4</td><td>0.023</td></tr><tr><th>8</th><td>213</td><td>1-Aug-1948</td><td>45.1</td><td>0.023</td></tr><tr><th>9</th><td>244</td><td>1-Sep-1948</td><td>42.1</td><td>0.023</td></tr><tr><th>10</th><td>274</td><td>1-Oct-1948</td><td>47.2</td><td>0.004</td></tr><tr><th>11</th><td>305</td><td>1-Nov-1948</td><td>42.4</td><td>0.004</td></tr><tr><th>12</th><td>335</td><td>1-Dec-1948</td><td>35.0</td><td>0.004</td></tr><tr><th>13</th><td>366</td><td>1-Jan-1949</td><td>32.9</td><td>-0.054</td></tr><tr><th>14</th><td>397</td><td>1-Feb-1949</td><td>31.3</td><td>-0.054</td></tr><tr><th>15</th><td>425</td><td>1-Mar-1949</td><td>34.5</td><td>-0.054</td></tr><tr><th>16</th><td>456</td><td>1-Apr-1949</td><td>35.5</td><td>-0.014</td></tr><tr><th>17</th><td>486</td><td>1-May-1949</td><td>32.6</td><td>-0.014</td></tr><tr><th>18</th><td>517</td><td>1-Jun-1949</td><td>31.6</td><td>-0.014</td></tr><tr><th>19</th><td>547</td><td>1-Jul-1949</td><td>39.0</td><td>0.042</td></tr><tr><th>20</th><td>578</td><td>1-Aug-1949</td><td>47.0</td><td>0.042</td></tr><tr><th>21</th><td>609</td><td>1-Sep-1949</td><td>52.3</td><td>0.042</td></tr><tr><th>22</th><td>639</td><td>1-Oct-1949</td><td>51.0</td><td>-0.033</td></tr><tr><th>23</th><td>670</td><td>1-Nov-1949</td><td>51.0</td><td>-0.033</td></tr><tr><th>24</th><td>700</td><td>1-Dec-1949</td><td>57.3</td><td>-0.033</td></tr><tr><th>25</th><td>731</td><td>1-Jan-1950</td><td>59.1</td><td>0.167</td></tr><tr><th>26</th><td>762</td><td>1-Feb-1950</td><td>60.5</td><td>0.167</td></tr><tr><th>27</th><td>790</td><td>1-Mar-1950</td><td>62.1</td><td>0.167</td></tr><tr><th>28</th><td>821</td><td>1-Apr-1950</td><td>68.1</td><td>0.128</td></tr><tr><th>29</th><td>851</td><td>1-May-1950</td><td>74.7</td><td>0.128</td></tr><tr><th>30</th><td>882</td><td>1-Jun-1950</td><td>76.6</td><td>0.128</td></tr><tr><th>&vellip;</th><td>&vellip;</td><td>&vellip;</td><td>&vellip;</td><td>&vellip;</td></tr></tbody></table>"
      ],
      "text/latex": [
       "\\begin{tabular}{r|cccc}\n",
       "\t& Day & Date & ISM\\_Mfc & GDP\\\\\n",
       "\t\\hline\n",
       "\t& Int64 & String & Float64 & Float64\\\\\n",
       "\t\\hline\n",
       "\t1 & 0 & 1-Jan-1948 & 51.7 & 0.062 \\\\\n",
       "\t2 & 31 & 1-Feb-1948 & 50.2 & 0.062 \\\\\n",
       "\t3 & 60 & 1-Mar-1948 & 43.3 & 0.062 \\\\\n",
       "\t4 & 91 & 1-Apr-1948 & 45.4 & 0.068 \\\\\n",
       "\t5 & 121 & 1-May-1948 & 49.5 & 0.068 \\\\\n",
       "\t6 & 152 & 1-Jun-1948 & 53.0 & 0.068 \\\\\n",
       "\t7 & 182 & 1-Jul-1948 & 48.4 & 0.023 \\\\\n",
       "\t8 & 213 & 1-Aug-1948 & 45.1 & 0.023 \\\\\n",
       "\t9 & 244 & 1-Sep-1948 & 42.1 & 0.023 \\\\\n",
       "\t10 & 274 & 1-Oct-1948 & 47.2 & 0.004 \\\\\n",
       "\t11 & 305 & 1-Nov-1948 & 42.4 & 0.004 \\\\\n",
       "\t12 & 335 & 1-Dec-1948 & 35.0 & 0.004 \\\\\n",
       "\t13 & 366 & 1-Jan-1949 & 32.9 & -0.054 \\\\\n",
       "\t14 & 397 & 1-Feb-1949 & 31.3 & -0.054 \\\\\n",
       "\t15 & 425 & 1-Mar-1949 & 34.5 & -0.054 \\\\\n",
       "\t16 & 456 & 1-Apr-1949 & 35.5 & -0.014 \\\\\n",
       "\t17 & 486 & 1-May-1949 & 32.6 & -0.014 \\\\\n",
       "\t18 & 517 & 1-Jun-1949 & 31.6 & -0.014 \\\\\n",
       "\t19 & 547 & 1-Jul-1949 & 39.0 & 0.042 \\\\\n",
       "\t20 & 578 & 1-Aug-1949 & 47.0 & 0.042 \\\\\n",
       "\t21 & 609 & 1-Sep-1949 & 52.3 & 0.042 \\\\\n",
       "\t22 & 639 & 1-Oct-1949 & 51.0 & -0.033 \\\\\n",
       "\t23 & 670 & 1-Nov-1949 & 51.0 & -0.033 \\\\\n",
       "\t24 & 700 & 1-Dec-1949 & 57.3 & -0.033 \\\\\n",
       "\t25 & 731 & 1-Jan-1950 & 59.1 & 0.167 \\\\\n",
       "\t26 & 762 & 1-Feb-1950 & 60.5 & 0.167 \\\\\n",
       "\t27 & 790 & 1-Mar-1950 & 62.1 & 0.167 \\\\\n",
       "\t28 & 821 & 1-Apr-1950 & 68.1 & 0.128 \\\\\n",
       "\t29 & 851 & 1-May-1950 & 74.7 & 0.128 \\\\\n",
       "\t30 & 882 & 1-Jun-1950 & 76.6 & 0.128 \\\\\n",
       "\t$\\dots$ & $\\dots$ & $\\dots$ & $\\dots$ & $\\dots$ \\\\\n",
       "\\end{tabular}\n"
      ],
      "text/plain": [
       "864×4 DataFrame\n",
       "│ Row │ Day   │ Date        │ ISM_Mfc │ GDP     │\n",
       "│     │ \u001b[90mInt64\u001b[39m │ \u001b[90mString\u001b[39m      │ \u001b[90mFloat64\u001b[39m │ \u001b[90mFloat64\u001b[39m │\n",
       "├─────┼───────┼─────────────┼─────────┼─────────┤\n",
       "│ 1   │ 0     │ 1-Jan-1948  │ 51.7    │ 0.062   │\n",
       "│ 2   │ 31    │ 1-Feb-1948  │ 50.2    │ 0.062   │\n",
       "│ 3   │ 60    │ 1-Mar-1948  │ 43.3    │ 0.062   │\n",
       "│ 4   │ 91    │ 1-Apr-1948  │ 45.4    │ 0.068   │\n",
       "│ 5   │ 121   │ 1-May-1948  │ 49.5    │ 0.068   │\n",
       "│ 6   │ 152   │ 1-Jun-1948  │ 53.0    │ 0.068   │\n",
       "│ 7   │ 182   │ 1-Jul-1948  │ 48.4    │ 0.023   │\n",
       "│ 8   │ 213   │ 1-Aug-1948  │ 45.1    │ 0.023   │\n",
       "│ 9   │ 244   │ 1-Sep-1948  │ 42.1    │ 0.023   │\n",
       "│ 10  │ 274   │ 1-Oct-1948  │ 47.2    │ 0.004   │\n",
       "⋮\n",
       "│ 854 │ 26347 │ 19-Feb-2020 │ 54.2    │ 0.031   │\n",
       "│ 855 │ 26376 │ 19-Mar-2020 │ 55.3    │ 0.031   │\n",
       "│ 856 │ 26407 │ 19-Apr-2020 │ 52.8    │ 0.02    │\n",
       "│ 857 │ 26437 │ 19-May-2020 │ 52.1    │ 0.02    │\n",
       "│ 858 │ 26468 │ 19-Jun-2020 │ 51.7    │ 0.02    │\n",
       "│ 859 │ 26498 │ 19-Jul-2020 │ 51.2    │ 0.021   │\n",
       "│ 860 │ 26529 │ 19-Aug-2020 │ 48.8    │ 0.021   │\n",
       "│ 861 │ 26560 │ 19-Sep-2020 │ 48.2    │ 0.021   │\n",
       "│ 862 │ 26590 │ 19-Oct-2020 │ 48.5    │ 0.021   │\n",
       "│ 863 │ 26621 │ 19-Nov-2020 │ 48.1    │ 0.021   │\n",
       "│ 864 │ 26651 │ 19-Dec-2020 │ 47.8    │ 0.021   │"
      ]
     },
     "execution_count": 4,
     "metadata": {},
     "output_type": "execute_result"
    }
   ],
   "source": [
    "rename!(df1, :x1 => :Day)\n",
    "rename!(df1, :x2 => :Date)\n",
    "rename!(df1, :x3 => :ISM_Mfc)\n",
    "rename!(df1, :x4 => :GDP)"
   ]
  },
  {
   "cell_type": "markdown",
   "metadata": {},
   "source": [
    "# Write DataFrame to CSV file"
   ]
  },
  {
   "cell_type": "code",
   "execution_count": 6,
   "metadata": {},
   "outputs": [
    {
     "data": {
      "text/plain": [
       "\"ISM_vs_GDP_004.csv\""
      ]
     },
     "execution_count": 6,
     "metadata": {},
     "output_type": "execute_result"
    }
   ],
   "source": [
    "CSV.write(\"ISM_vs_GDP_004.csv\", df1, delim=',', header=true)"
   ]
  },
  {
   "cell_type": "code",
   "execution_count": 2,
   "metadata": {},
   "outputs": [
    {
     "data": {
      "text/html": [
       "<table class=\"data-frame\"><thead><tr><th></th><th>observation_date</th><th>S&amp;P500</th><th>S&amp;P500 y/y %</th><th>S&amp;P500 m/m %</th><th>ISM Manufacturing</th></tr><tr><th></th><th>String</th><th>Float64</th><th>Float64?</th><th>Float64?</th><th>Float64</th></tr></thead><tbody><p>758 rows × 5 columns</p><tr><th>1</th><td>1-Jan-1957</td><td>44.72</td><td><em>missing</em></td><td><em>missing</em></td><td>53.6</td></tr><tr><th>2</th><td>1-Feb-1957</td><td>43.26</td><td><em>missing</em></td><td>-0.0326</td><td>51.0</td></tr><tr><th>3</th><td>1-Mar-1957</td><td>44.11</td><td><em>missing</em></td><td>0.0196</td><td>47.5</td></tr><tr><th>4</th><td>1-Apr-1957</td><td>45.74</td><td><em>missing</em></td><td>0.037</td><td>43.1</td></tr><tr><th>5</th><td>1-May-1957</td><td>47.43</td><td><em>missing</em></td><td>0.0369</td><td>43.4</td></tr><tr><th>6</th><td>1-Jun-1957</td><td>47.37</td><td><em>missing</em></td><td>-0.0013</td><td>45.9</td></tr><tr><th>7</th><td>1-Jul-1957</td><td>47.91</td><td><em>missing</em></td><td>0.0114</td><td>45.7</td></tr><tr><th>8</th><td>1-Aug-1957</td><td>45.22</td><td><em>missing</em></td><td>-0.0561</td><td>45.3</td></tr><tr><th>9</th><td>1-Sep-1957</td><td>42.42</td><td><em>missing</em></td><td>-0.0619</td><td>45.8</td></tr><tr><th>10</th><td>1-Oct-1957</td><td>41.06</td><td><em>missing</em></td><td>-0.0321</td><td>41.1</td></tr><tr><th>11</th><td>1-Nov-1957</td><td>41.72</td><td><em>missing</em></td><td>0.0161</td><td>40.4</td></tr><tr><th>12</th><td>1-Dec-1957</td><td>39.99</td><td><em>missing</em></td><td>-0.0415</td><td>36.8</td></tr><tr><th>13</th><td>1-Jan-1958</td><td>41.7</td><td>-0.0675</td><td>0.0428</td><td>33.4</td></tr><tr><th>14</th><td>1-Feb-1958</td><td>40.84</td><td>-0.0559</td><td>-0.0206</td><td>37.2</td></tr><tr><th>15</th><td>1-Mar-1958</td><td>42.1</td><td>-0.0456</td><td>0.0309</td><td>39.8</td></tr><tr><th>16</th><td>1-Apr-1958</td><td>43.44</td><td>-0.0503</td><td>0.0318</td><td>39.1</td></tr><tr><th>17</th><td>1-May-1958</td><td>44.09</td><td>-0.0704</td><td>0.015</td><td>46.6</td></tr><tr><th>18</th><td>1-Jun-1958</td><td>45.24</td><td>-0.045</td><td>0.0261</td><td>51.4</td></tr><tr><th>19</th><td>1-Jul-1958</td><td>47.19</td><td>-0.015</td><td>0.0431</td><td>54.7</td></tr><tr><th>20</th><td>1-Aug-1958</td><td>47.75</td><td>0.0559</td><td>0.0119</td><td>57.3</td></tr><tr><th>21</th><td>1-Sep-1958</td><td>50.06</td><td>0.1801</td><td>0.0484</td><td>59.8</td></tr><tr><th>22</th><td>1-Oct-1958</td><td>51.33</td><td>0.2501</td><td>0.0254</td><td>62.3</td></tr><tr><th>23</th><td>1-Nov-1958</td><td>52.48</td><td>0.2579</td><td>0.0224</td><td>62.7</td></tr><tr><th>24</th><td>1-Dec-1958</td><td>55.21</td><td>0.3806</td><td>0.052</td><td>60.5</td></tr><tr><th>25</th><td>1-Jan-1959</td><td>55.42</td><td>0.329</td><td>0.0038</td><td>64.4</td></tr><tr><th>26</th><td>1-Feb-1959</td><td>55.41</td><td>0.3568</td><td>-0.0002</td><td>66.9</td></tr><tr><th>27</th><td>1-Mar-1959</td><td>55.44</td><td>0.3169</td><td>0.0005</td><td>67.1</td></tr><tr><th>28</th><td>1-Apr-1959</td><td>57.59</td><td>0.3257</td><td>0.0388</td><td>66.9</td></tr><tr><th>29</th><td>1-May-1959</td><td>58.68</td><td>0.3309</td><td>0.0189</td><td>68.2</td></tr><tr><th>30</th><td>1-Jun-1959</td><td>58.47</td><td>0.2924</td><td>-0.0036</td><td>64.4</td></tr><tr><th>&vellip;</th><td>&vellip;</td><td>&vellip;</td><td>&vellip;</td><td>&vellip;</td><td>&vellip;</td></tr></tbody></table>"
      ],
      "text/latex": [
       "\\begin{tabular}{r|ccccc}\n",
       "\t& observation\\_date & S\\&P500 & S\\&P500 y/y \\% & S\\&P500 m/m \\% & ISM Manufacturing\\\\\n",
       "\t\\hline\n",
       "\t& String & Float64 & Float64? & Float64? & Float64\\\\\n",
       "\t\\hline\n",
       "\t1 & 1-Jan-1957 & 44.72 & \\emph{missing} & \\emph{missing} & 53.6 \\\\\n",
       "\t2 & 1-Feb-1957 & 43.26 & \\emph{missing} & -0.0326 & 51.0 \\\\\n",
       "\t3 & 1-Mar-1957 & 44.11 & \\emph{missing} & 0.0196 & 47.5 \\\\\n",
       "\t4 & 1-Apr-1957 & 45.74 & \\emph{missing} & 0.037 & 43.1 \\\\\n",
       "\t5 & 1-May-1957 & 47.43 & \\emph{missing} & 0.0369 & 43.4 \\\\\n",
       "\t6 & 1-Jun-1957 & 47.37 & \\emph{missing} & -0.0013 & 45.9 \\\\\n",
       "\t7 & 1-Jul-1957 & 47.91 & \\emph{missing} & 0.0114 & 45.7 \\\\\n",
       "\t8 & 1-Aug-1957 & 45.22 & \\emph{missing} & -0.0561 & 45.3 \\\\\n",
       "\t9 & 1-Sep-1957 & 42.42 & \\emph{missing} & -0.0619 & 45.8 \\\\\n",
       "\t10 & 1-Oct-1957 & 41.06 & \\emph{missing} & -0.0321 & 41.1 \\\\\n",
       "\t11 & 1-Nov-1957 & 41.72 & \\emph{missing} & 0.0161 & 40.4 \\\\\n",
       "\t12 & 1-Dec-1957 & 39.99 & \\emph{missing} & -0.0415 & 36.8 \\\\\n",
       "\t13 & 1-Jan-1958 & 41.7 & -0.0675 & 0.0428 & 33.4 \\\\\n",
       "\t14 & 1-Feb-1958 & 40.84 & -0.0559 & -0.0206 & 37.2 \\\\\n",
       "\t15 & 1-Mar-1958 & 42.1 & -0.0456 & 0.0309 & 39.8 \\\\\n",
       "\t16 & 1-Apr-1958 & 43.44 & -0.0503 & 0.0318 & 39.1 \\\\\n",
       "\t17 & 1-May-1958 & 44.09 & -0.0704 & 0.015 & 46.6 \\\\\n",
       "\t18 & 1-Jun-1958 & 45.24 & -0.045 & 0.0261 & 51.4 \\\\\n",
       "\t19 & 1-Jul-1958 & 47.19 & -0.015 & 0.0431 & 54.7 \\\\\n",
       "\t20 & 1-Aug-1958 & 47.75 & 0.0559 & 0.0119 & 57.3 \\\\\n",
       "\t21 & 1-Sep-1958 & 50.06 & 0.1801 & 0.0484 & 59.8 \\\\\n",
       "\t22 & 1-Oct-1958 & 51.33 & 0.2501 & 0.0254 & 62.3 \\\\\n",
       "\t23 & 1-Nov-1958 & 52.48 & 0.2579 & 0.0224 & 62.7 \\\\\n",
       "\t24 & 1-Dec-1958 & 55.21 & 0.3806 & 0.052 & 60.5 \\\\\n",
       "\t25 & 1-Jan-1959 & 55.42 & 0.329 & 0.0038 & 64.4 \\\\\n",
       "\t26 & 1-Feb-1959 & 55.41 & 0.3568 & -0.0002 & 66.9 \\\\\n",
       "\t27 & 1-Mar-1959 & 55.44 & 0.3169 & 0.0005 & 67.1 \\\\\n",
       "\t28 & 1-Apr-1959 & 57.59 & 0.3257 & 0.0388 & 66.9 \\\\\n",
       "\t29 & 1-May-1959 & 58.68 & 0.3309 & 0.0189 & 68.2 \\\\\n",
       "\t30 & 1-Jun-1959 & 58.47 & 0.2924 & -0.0036 & 64.4 \\\\\n",
       "\t$\\dots$ & $\\dots$ & $\\dots$ & $\\dots$ & $\\dots$ & $\\dots$ \\\\\n",
       "\\end{tabular}\n"
      ],
      "text/plain": [
       "758×5 DataFrame. Omitted printing of 1 columns\n",
       "│ Row │ observation_date │ S&P500  │ S&P500 y/y % │ S&P500 m/m % │\n",
       "│     │ \u001b[90mString\u001b[39m           │ \u001b[90mFloat64\u001b[39m │ \u001b[90mFloat64?\u001b[39m     │ \u001b[90mFloat64?\u001b[39m     │\n",
       "├─────┼──────────────────┼─────────┼──────────────┼──────────────┤\n",
       "│ 1   │ 1-Jan-1957       │ 44.72   │ \u001b[90mmissing\u001b[39m      │ \u001b[90mmissing\u001b[39m      │\n",
       "│ 2   │ 1-Feb-1957       │ 43.26   │ \u001b[90mmissing\u001b[39m      │ -0.0326      │\n",
       "│ 3   │ 1-Mar-1957       │ 44.11   │ \u001b[90mmissing\u001b[39m      │ 0.0196       │\n",
       "│ 4   │ 1-Apr-1957       │ 45.74   │ \u001b[90mmissing\u001b[39m      │ 0.037        │\n",
       "│ 5   │ 1-May-1957       │ 47.43   │ \u001b[90mmissing\u001b[39m      │ 0.0369       │\n",
       "│ 6   │ 1-Jun-1957       │ 47.37   │ \u001b[90mmissing\u001b[39m      │ -0.0013      │\n",
       "│ 7   │ 1-Jul-1957       │ 47.91   │ \u001b[90mmissing\u001b[39m      │ 0.0114       │\n",
       "│ 8   │ 1-Aug-1957       │ 45.22   │ \u001b[90mmissing\u001b[39m      │ -0.0561      │\n",
       "│ 9   │ 1-Sep-1957       │ 42.42   │ \u001b[90mmissing\u001b[39m      │ -0.0619      │\n",
       "│ 10  │ 1-Oct-1957       │ 41.06   │ \u001b[90mmissing\u001b[39m      │ -0.0321      │\n",
       "⋮\n",
       "│ 748 │ 19-Apr-2020      │ 2945.83 │ 0.1125       │ 0.0393       │\n",
       "│ 749 │ 19-May-2020      │ 2752.06 │ 0.0173       │ -0.0658      │\n",
       "│ 750 │ 19-Jun-2020      │ 2941.76 │ 0.0822       │ 0.0689       │\n",
       "│ 751 │ 19-Jul-2020      │ 2980.38 │ 0.0583       │ 0.0131       │\n",
       "│ 752 │ 19-Aug-2020      │ 2926.46 │ 0.0086       │ -0.0181      │\n",
       "│ 753 │ 19-Sep-2020      │ 2976.74 │ 0.0215       │ 0.0172       │\n",
       "│ 754 │ 19-Oct-2020      │ 3037.56 │ 0.1202       │ 0.0204       │\n",
       "│ 755 │ 19-Nov-2020      │ 3140.98 │ 0.138        │ 0.034        │\n",
       "│ 756 │ 19-Dec-2020      │ 3230.78 │ 0.2888       │ 0.0286       │\n",
       "│ 757 │ 20-Jan-2020      │ 3225.52 │ 0.1928       │ -0.0016      │\n",
       "│ 758 │ 20-Feb-2020      │ 2954.22 │ 0.061        │ -0.0841      │"
      ]
     },
     "execution_count": 2,
     "metadata": {},
     "output_type": "execute_result"
    }
   ],
   "source": [
    "df2 = CSV.read(\"ISM_SP500.csv\")"
   ]
  },
  {
   "cell_type": "code",
   "execution_count": null,
   "metadata": {},
   "outputs": [],
   "source": []
  }
 ],
 "metadata": {
  "kernelspec": {
   "display_name": "Julia 1.4.2",
   "language": "julia",
   "name": "julia-1.4"
  },
  "language_info": {
   "file_extension": ".jl",
   "mimetype": "application/julia",
   "name": "julia",
   "version": "1.4.2"
  }
 },
 "nbformat": 4,
 "nbformat_minor": 4
}
